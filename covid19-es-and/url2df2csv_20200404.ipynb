{
 "cells": [
  {
   "cell_type": "code",
   "execution_count": 1,
   "metadata": {},
   "outputs": [],
   "source": [
    "import pandas as pd\n",
    "import numpy as np\n",
    "import matplotlib.pyplot as plt"
   ]
  },
  {
   "cell_type": "markdown",
   "metadata": {},
   "source": [
    "https://www.juntadeandalucia.es/organismos/saludyfamilias/actualidad/noticias.html"
   ]
  },
  {
   "cell_type": "code",
   "execution_count": 2,
   "metadata": {},
   "outputs": [],
   "source": [
    "filename = 'covid19-es-and.csv'\n",
    "fecha = '04/04/2020'\n",
    "url = 'https://www.juntadeandalucia.es/organismos/saludyfamilias/actualidad/noticias/detalle/234170.html'"
   ]
  },
  {
   "cell_type": "code",
   "execution_count": 3,
   "metadata": {},
   "outputs": [
    {
     "data": {
      "text/html": [
       "<div>\n",
       "<style scoped>\n",
       "    .dataframe tbody tr th:only-of-type {\n",
       "        vertical-align: middle;\n",
       "    }\n",
       "\n",
       "    .dataframe tbody tr th {\n",
       "        vertical-align: top;\n",
       "    }\n",
       "\n",
       "    .dataframe thead th {\n",
       "        text-align: right;\n",
       "    }\n",
       "</style>\n",
       "<table border=\"1\" class=\"dataframe\">\n",
       "  <thead>\n",
       "    <tr style=\"text-align: right;\">\n",
       "      <th></th>\n",
       "      <th>Positivo</th>\n",
       "      <th>Casos que han precisado hospitalización</th>\n",
       "      <th>Casos que han precisado ingreso UCI</th>\n",
       "      <th>Fallecimientos</th>\n",
       "      <th>Curados</th>\n",
       "    </tr>\n",
       "    <tr>\n",
       "      <th>Provincia</th>\n",
       "      <th></th>\n",
       "      <th></th>\n",
       "      <th></th>\n",
       "      <th></th>\n",
       "      <th></th>\n",
       "    </tr>\n",
       "  </thead>\n",
       "  <tbody>\n",
       "    <tr>\n",
       "      <th>Almería</th>\n",
       "      <td>319</td>\n",
       "      <td>146</td>\n",
       "      <td>27</td>\n",
       "      <td>22</td>\n",
       "      <td>37</td>\n",
       "    </tr>\n",
       "    <tr>\n",
       "      <th>Cádiz</th>\n",
       "      <td>796</td>\n",
       "      <td>345</td>\n",
       "      <td>48</td>\n",
       "      <td>27</td>\n",
       "      <td>62</td>\n",
       "    </tr>\n",
       "    <tr>\n",
       "      <th>Córdoba</th>\n",
       "      <td>892</td>\n",
       "      <td>365</td>\n",
       "      <td>33</td>\n",
       "      <td>30</td>\n",
       "      <td>55</td>\n",
       "    </tr>\n",
       "    <tr>\n",
       "      <th>Granada</th>\n",
       "      <td>1379</td>\n",
       "      <td>727</td>\n",
       "      <td>71</td>\n",
       "      <td>105</td>\n",
       "      <td>47</td>\n",
       "    </tr>\n",
       "    <tr>\n",
       "      <th>Huelva</th>\n",
       "      <td>274</td>\n",
       "      <td>132</td>\n",
       "      <td>11</td>\n",
       "      <td>11</td>\n",
       "      <td>8</td>\n",
       "    </tr>\n",
       "    <tr>\n",
       "      <th>Jaén</th>\n",
       "      <td>874</td>\n",
       "      <td>459</td>\n",
       "      <td>27</td>\n",
       "      <td>46</td>\n",
       "      <td>39</td>\n",
       "    </tr>\n",
       "    <tr>\n",
       "      <th>Málaga</th>\n",
       "      <td>1800</td>\n",
       "      <td>1010</td>\n",
       "      <td>79</td>\n",
       "      <td>110</td>\n",
       "      <td>162</td>\n",
       "    </tr>\n",
       "    <tr>\n",
       "      <th>Sevilla</th>\n",
       "      <td>1535</td>\n",
       "      <td>712</td>\n",
       "      <td>68</td>\n",
       "      <td>75</td>\n",
       "      <td>53</td>\n",
       "    </tr>\n",
       "    <tr>\n",
       "      <th>Total</th>\n",
       "      <td>7869</td>\n",
       "      <td>3896</td>\n",
       "      <td>364</td>\n",
       "      <td>426</td>\n",
       "      <td>463</td>\n",
       "    </tr>\n",
       "  </tbody>\n",
       "</table>\n",
       "</div>"
      ],
      "text/plain": [
       "           Positivo  Casos que han precisado hospitalización  \\\n",
       "Provincia                                                      \n",
       "Almería         319                                      146   \n",
       "Cádiz           796                                      345   \n",
       "Córdoba         892                                      365   \n",
       "Granada        1379                                      727   \n",
       "Huelva          274                                      132   \n",
       "Jaén            874                                      459   \n",
       "Málaga         1800                                     1010   \n",
       "Sevilla        1535                                      712   \n",
       "Total          7869                                     3896   \n",
       "\n",
       "           Casos que han precisado ingreso UCI  Fallecimientos  Curados  \n",
       "Provincia                                                                \n",
       "Almería                                     27              22       37  \n",
       "Cádiz                                       48              27       62  \n",
       "Córdoba                                     33              30       55  \n",
       "Granada                                     71             105       47  \n",
       "Huelva                                      11              11        8  \n",
       "Jaén                                        27              46       39  \n",
       "Málaga                                      79             110      162  \n",
       "Sevilla                                     68              75       53  \n",
       "Total                                      364             426      463  "
      ]
     },
     "execution_count": 3,
     "metadata": {},
     "output_type": "execute_result"
    }
   ],
   "source": [
    "# Load \n",
    "tables = pd.read_html(url, header=0, index_col='Provincia', thousands='.')\n",
    "assert len(tables) > 0\n",
    "dfL = tables[0]\n",
    "dfL"
   ]
  },
  {
   "cell_type": "code",
   "execution_count": 4,
   "metadata": {},
   "outputs": [
    {
     "data": {
      "text/html": [
       "<div>\n",
       "<style scoped>\n",
       "    .dataframe tbody tr th:only-of-type {\n",
       "        vertical-align: middle;\n",
       "    }\n",
       "\n",
       "    .dataframe tbody tr th {\n",
       "        vertical-align: top;\n",
       "    }\n",
       "\n",
       "    .dataframe thead th {\n",
       "        text-align: right;\n",
       "    }\n",
       "</style>\n",
       "<table border=\"1\" class=\"dataframe\">\n",
       "  <thead>\n",
       "    <tr style=\"text-align: right;\">\n",
       "      <th></th>\n",
       "      <th>Ingresados</th>\n",
       "      <th>Altas</th>\n",
       "      <th>Bajas</th>\n",
       "      <th>Fecha</th>\n",
       "    </tr>\n",
       "  </thead>\n",
       "  <tbody>\n",
       "    <tr>\n",
       "      <th>Almería</th>\n",
       "      <td>146</td>\n",
       "      <td>37</td>\n",
       "      <td>22</td>\n",
       "      <td>04/04/2020</td>\n",
       "    </tr>\n",
       "    <tr>\n",
       "      <th>Cádiz</th>\n",
       "      <td>345</td>\n",
       "      <td>62</td>\n",
       "      <td>27</td>\n",
       "      <td>04/04/2020</td>\n",
       "    </tr>\n",
       "    <tr>\n",
       "      <th>Córdoba</th>\n",
       "      <td>365</td>\n",
       "      <td>55</td>\n",
       "      <td>30</td>\n",
       "      <td>04/04/2020</td>\n",
       "    </tr>\n",
       "    <tr>\n",
       "      <th>Granada</th>\n",
       "      <td>727</td>\n",
       "      <td>47</td>\n",
       "      <td>105</td>\n",
       "      <td>04/04/2020</td>\n",
       "    </tr>\n",
       "    <tr>\n",
       "      <th>Huelva</th>\n",
       "      <td>132</td>\n",
       "      <td>8</td>\n",
       "      <td>11</td>\n",
       "      <td>04/04/2020</td>\n",
       "    </tr>\n",
       "    <tr>\n",
       "      <th>Jaén</th>\n",
       "      <td>459</td>\n",
       "      <td>39</td>\n",
       "      <td>46</td>\n",
       "      <td>04/04/2020</td>\n",
       "    </tr>\n",
       "    <tr>\n",
       "      <th>Málaga</th>\n",
       "      <td>1010</td>\n",
       "      <td>162</td>\n",
       "      <td>110</td>\n",
       "      <td>04/04/2020</td>\n",
       "    </tr>\n",
       "    <tr>\n",
       "      <th>Sevilla</th>\n",
       "      <td>712</td>\n",
       "      <td>53</td>\n",
       "      <td>75</td>\n",
       "      <td>04/04/2020</td>\n",
       "    </tr>\n",
       "    <tr>\n",
       "      <th>Total</th>\n",
       "      <td>3896</td>\n",
       "      <td>463</td>\n",
       "      <td>426</td>\n",
       "      <td>04/04/2020</td>\n",
       "    </tr>\n",
       "  </tbody>\n",
       "</table>\n",
       "</div>"
      ],
      "text/plain": [
       "         Ingresados  Altas  Bajas       Fecha\n",
       "Almería         146     37     22  04/04/2020\n",
       "Cádiz           345     62     27  04/04/2020\n",
       "Córdoba         365     55     30  04/04/2020\n",
       "Granada         727     47    105  04/04/2020\n",
       "Huelva          132      8     11  04/04/2020\n",
       "Jaén            459     39     46  04/04/2020\n",
       "Málaga         1010    162    110  04/04/2020\n",
       "Sevilla         712     53     75  04/04/2020\n",
       "Total          3896    463    426  04/04/2020"
      ]
     },
     "execution_count": 4,
     "metadata": {},
     "output_type": "execute_result"
    }
   ],
   "source": [
    "# Prepare\n",
    "provincias = ['Almería', 'Cádiz', 'Córdoba', 'Granada', 'Huelva', 'Jaén', 'Málaga', 'Sevilla', 'Total']\n",
    "dfP = pd.DataFrame(0, index=provincias, columns=['Ingresados','Altas', 'Bajas'])\n",
    "\n",
    "dfP['Ingresados'] = dfL['Casos que han precisado hospitalización']\n",
    "dfP['Altas'] = dfL['Curados']\n",
    "dfP['Bajas'] = dfL['Fallecimientos']\n",
    "dfP['Fecha'] = fecha\n",
    "\n",
    "dfP"
   ]
  },
  {
   "cell_type": "code",
   "execution_count": 5,
   "metadata": {},
   "outputs": [],
   "source": [
    "# Save to csv\n",
    "dfP.to_csv(filename, encoding='utf-8', header=False, mode='+a', index_label='Provincia')"
   ]
  },
  {
   "cell_type": "code",
   "execution_count": 6,
   "metadata": {},
   "outputs": [],
   "source": [
    "# Load full csv\n",
    "dfCSV = pd.read_csv(filename, index_col='Provincia', thousands='.')"
   ]
  },
  {
   "cell_type": "code",
   "execution_count": 7,
   "metadata": {},
   "outputs": [],
   "source": [
    "# Select & calc\n",
    "title = 'COVID19 Andalucía'\n",
    "total = dfCSV.loc['Total']['Ingresados'].pct_change() * 100\n",
    "huelva = dfCSV.loc['Huelva']['Ingresados'].pct_change() * 100\n",
    "malaga  = dfCSV.loc['Málaga']['Ingresados'].pct_change() * 100\n",
    "# x Axis\n",
    "xA = dfCSV.loc['Total']['Fecha']"
   ]
  },
  {
   "cell_type": "code",
   "execution_count": 8,
   "metadata": {},
   "outputs": [
    {
     "data": {
      "image/png": "[encoded data removed]",
      "text/plain": [
       "<Figure size 432x288 with 1 Axes>"
      ]
     },
     "metadata": {
      "needs_background": "light"
     },
     "output_type": "display_data"
    }
   ],
   "source": [
    "# Draw \n",
    "plt.plot(xA, total, label='% Variación Ingresos Total', linewidth=2)\n",
    "plt.plot(xA, huelva, label='% Variación Ingresos Huelva', linewidth=2)\n",
    "plt.plot(xA, malaga, label='% Variación Ingresos Málaga', linewidth=2)\n",
    "plt.title(title)\n",
    "plt.ylabel('% Variación Ingresos')\n",
    "plt.xticks(rotation=90)\n",
    "plt.grid(True)\n",
    "plt.legend()\n",
    "plt.show()"
   ]
  },
  {
   "cell_type": "code",
   "execution_count": 9,
   "metadata": {},
   "outputs": [
    {
     "data": {
      "text/plain": [
       "<matplotlib.axes._subplots.AxesSubplot at 0x7ff416187690>"
      ]
     },
     "execution_count": 9,
     "metadata": {},
     "output_type": "execute_result"
    },
    {
     "data": {
      "image/png": "[encoded data removed]",
      "text/plain": [
       "<Figure size 432x288 with 1 Axes>"
      ]
     },
     "metadata": {
      "needs_background": "light"
     },
     "output_type": "display_data"
    }
   ],
   "source": [
    "huelva.plot()"
   ]
  },
  {
   "cell_type": "code",
   "execution_count": null,
   "metadata": {},
   "outputs": [],
   "source": []
  }
 ],
 "metadata": {
  "kernelspec": {
   "display_name": "Python 3",
   "language": "python",
   "name": "python3"
  },
  "language_info": {
   "codemirror_mode": {
    "name": "ipython",
    "version": 3
   },
   "file_extension": ".py",
   "mimetype": "text/x-python",
   "name": "python",
   "nbconvert_exporter": "python",
   "pygments_lexer": "ipython3",
   "version": "3.7.6"
  }
 },
 "nbformat": 4,
 "nbformat_minor": 2
}
