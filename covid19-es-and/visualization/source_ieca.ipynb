{
 "cells": [
  {
   "cell_type": "code",
   "execution_count": null,
   "metadata": {},
   "outputs": [],
   "source": [
    "import pandas as pd"
   ]
  },
  {
   "cell_type": "code",
   "execution_count": null,
   "metadata": {},
   "outputs": [],
   "source": [
    "pd.plotting.register_matplotlib_converters()\n",
    "import matplotlib.pyplot as plt\n",
    "%matplotlib inline\n",
    "import seaborn as sns"
   ]
  },
  {
   "cell_type": "code",
   "execution_count": null,
   "metadata": {},
   "outputs": [],
   "source": [
    "# Obtener datos\n",
    "url = 'https://www.juntadeandalucia.es/institutodeestadisticaycartografia/badea/stpivot/stpivot/Print?cube=85977e77-d23f-479e-aa98-72c5c6f3808f&type=3&foto=si&ejecutaDesde=&codConsulta=38228&consTipoVisua=JP'\n",
    "fields = ['Fecha', 'Territorio', 'Medida', 'Valor']\n",
    "df = pd.read_csv(url, delimiter=';', usecols=fields)"
   ]
  },
  {
   "cell_type": "code",
   "execution_count": null,
   "metadata": {},
   "outputs": [],
   "source": [
    "# Convertir fecha\n",
    "df['Fecha'] = pd.to_datetime(df.Fecha, dayfirst=True)"
   ]
  },
  {
   "cell_type": "code",
   "execution_count": null,
   "metadata": {},
   "outputs": [],
   "source": [
    "# Obtener la última fecha\n",
    "last_fecha = df['Fecha'].max()"
   ]
  },
  {
   "cell_type": "code",
   "execution_count": null,
   "metadata": {},
   "outputs": [],
   "source": [
    "# Ordenar los datos\n",
    "df.sort_values(by=['Territorio', 'Medida', 'Fecha'], inplace=True)"
   ]
  },
  {
   "cell_type": "code",
   "execution_count": null,
   "metadata": {},
   "outputs": [],
   "source": [
    "# Calcular el porcentaje de cambio con respecto al día anterior\n",
    "df['pctChange'] = df.groupby(['Territorio', 'Medida'])['Valor'].pct_change()*100"
   ]
  },
  {
   "cell_type": "code",
   "execution_count": null,
   "metadata": {},
   "outputs": [],
   "source": [
    "# Organizar los datos en modo tabla\n",
    "dfV = df.pivot_table(values='pctChange', index=['Territorio', 'Fecha'], columns='Medida')\n",
    "dfV.tail(1)"
   ]
  },
  {
   "cell_type": "code",
   "execution_count": null,
   "metadata": {},
   "outputs": [],
   "source": [
    "dfG_columns = ['Hospitalizados', 'Total UCI', 'Fallecimientos']"
   ]
  },
  {
   "cell_type": "code",
   "execution_count": null,
   "metadata": {},
   "outputs": [],
   "source": [
    "# Datos de un día para el gráfico usando df.xs\n",
    "dfG = dfV.xs(last_fecha, level='Fecha')"
   ]
  },
  {
   "cell_type": "code",
   "execution_count": null,
   "metadata": {},
   "outputs": [],
   "source": [
    "# Set the width and height of the figure\n",
    "plt.figure(figsize=(14,7))\n",
    "\n",
    "# Add title\n",
    "plt.title(last_fecha.strftime('%d-%m-%Y'))\n",
    "\n",
    "# Invertir los colores\n",
    "cmap = sns.cm.rocket_r\n",
    "\n",
    "# Heatmap \n",
    "sns.heatmap(data=dfG[dfG_columns], annot=True, cmap=cmap)\n",
    "\n",
    "# Add label for horizontal axis\n",
    "plt.xlabel('% Variación con respecto al día anterior')\n",
    "plt.show()"
   ]
  },
  {
   "cell_type": "code",
   "execution_count": null,
   "metadata": {},
   "outputs": [],
   "source": [
    "# Datos de un día para el gráfico usando groupby y tail\n",
    "dfG = dfV.groupby(level='Territorio').tail(1)[dfG_columns].unstack()\n",
    "\n",
    "# plot data\n",
    "fig, ax = plt.subplots(figsize=(15,7))\n",
    "dfG.plot(kind='bar', ax=ax)\n",
    "plt.title('% Variación con respecto al día anterior')\n",
    "plt.show()"
   ]
  },
  {
   "cell_type": "code",
   "execution_count": null,
   "metadata": {},
   "outputs": [],
   "source": [
    "# Datos de los últimos x días para una lista de territorios\n",
    "dias = 7\n",
    "fTerr = ['Huelva']\n",
    "fFecha = pd.date_range(end=last_fecha, periods=dias)\n",
    "dfG = dfV.iloc[dfV.index.isin(fTerr, level='Territorio') &\n",
    "                 dfV.index.isin(fFecha, level='Fecha')][dfG_columns]\n",
    "# plot data\n",
    "fig, ax = plt.subplots(figsize=(15,7))\n",
    "dfG.plot(ax=ax, title='% de Variación en ' + fTerr[0] + ' en los últimos ' + str(dias) + ' días')\n",
    "plt.xticks(\n",
    "    rotation=45,    \n",
    "    horizontalalignment='right',\n",
    "    fontweight='light',\n",
    ")\n",
    "plt.show()"
   ]
  },
  {
   "cell_type": "code",
   "execution_count": null,
   "metadata": {},
   "outputs": [],
   "source": [
    "dias = 4\n",
    "fTerr = ['España', 'Andalucía', 'Huelva']\n",
    "fFecha = pd.date_range(end=last_fecha, periods=dias)\n",
    "filtro = df['Territorio'].isin(fTerr) & df['Fecha'].isin(fFecha) & df['Medida'].isin(dfG_columns)\n",
    "dfG = df[filtro].pivot_table(values='pctChange', index=['Fecha', 'Territorio'], columns='Medida')\n",
    "# plot data\n",
    "fig, ax = plt.subplots(figsize=(15,7))\n",
    "dfG.plot(kind='bar', ax=ax, title='% Variación con respecto al día anterior')\n",
    "plt.xticks(\n",
    "    rotation=45,    \n",
    "    horizontalalignment='right',\n",
    "    fontweight='light',\n",
    ")\n",
    "plt.show()"
   ]
  },
  {
   "cell_type": "code",
   "execution_count": null,
   "metadata": {},
   "outputs": [],
   "source": [
    "# Últimos 30 días filtrando por campos, no por índices\n",
    "dias = 30\n",
    "fTerr = ['Huelva']\n",
    "fFecha = pd.date_range(end=last_fecha, periods=dias)\n",
    "filtro = df['Territorio'].isin(fTerr) & df['Fecha'].isin(fFecha) & df['Medida'].isin(dfG_columns)\n",
    "dfG = df[filtro].pivot_table(values='Valor', index=['Territorio', 'Fecha'], columns='Medida')\n",
    "# plot data\n",
    "fig, ax = plt.subplots(figsize=(15,7))\n",
    "dfG.plot(ax=ax, title='Número de casos últimos ' + str(dias) + ' días en ' + fTerr[0])\n",
    "plt.xticks(\n",
    "    rotation=45,    \n",
    "    horizontalalignment='right',\n",
    "    fontweight='light',\n",
    ")\n",
    "plt.show()"
   ]
  },
  {
   "cell_type": "code",
   "execution_count": null,
   "metadata": {},
   "outputs": [],
   "source": []
  }
 ],
 "metadata": {
  "kernelspec": {
   "display_name": "Python 3",
   "language": "python",
   "name": "python3"
  },
  "language_info": {
   "codemirror_mode": {
    "name": "ipython",
    "version": 3
   },
   "file_extension": ".py",
   "mimetype": "text/x-python",
   "name": "python",
   "nbconvert_exporter": "python",
   "pygments_lexer": "ipython3",
   "version": "3.7.6"
  }
 },
 "nbformat": 4,
 "nbformat_minor": 4
}
