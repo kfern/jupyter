{
 "cells": [
  {
   "cell_type": "code",
   "execution_count": 1,
   "metadata": {},
   "outputs": [],
   "source": [
    "import pandas as pd"
   ]
  },
  {
   "cell_type": "code",
   "execution_count": 2,
   "metadata": {},
   "outputs": [],
   "source": [
    "url = 'https://www.juntadeandalucia.es/institutodeestadisticaycartografia/badea/stpivot/stpivot/Print?cube=f7e22bc9-bad2-4b89-8e24-2fe5da5e0546&type=3&foto=si&ejecutaDesde=&codConsulta=38843&consTipoVisua=JP'\n",
    "fields = ['Fecha diagnóstico', 'Territorio', 'Medida', 'Valor']\n",
    "df = pd.read_csv(url, delimiter=';', usecols=fields)"
   ]
  },
  {
   "cell_type": "code",
   "execution_count": 3,
   "metadata": {},
   "outputs": [],
   "source": [
    "df['Medida'] = 'Casos confirmados'"
   ]
  },
  {
   "cell_type": "code",
   "execution_count": 4,
   "metadata": {},
   "outputs": [],
   "source": [
    "df['Fecha diagnóstico'] = pd.to_datetime(df['Fecha diagnóstico'] + '/20', dayfirst=True)"
   ]
  },
  {
   "cell_type": "code",
   "execution_count": 5,
   "metadata": {},
   "outputs": [
    {
     "data": {
      "text/html": [
       "<div>\n",
       "<style scoped>\n",
       "    .dataframe tbody tr th:only-of-type {\n",
       "        vertical-align: middle;\n",
       "    }\n",
       "\n",
       "    .dataframe tbody tr th {\n",
       "        vertical-align: top;\n",
       "    }\n",
       "\n",
       "    .dataframe thead th {\n",
       "        text-align: right;\n",
       "    }\n",
       "</style>\n",
       "<table border=\"1\" class=\"dataframe\">\n",
       "  <thead>\n",
       "    <tr style=\"text-align: right;\">\n",
       "      <th></th>\n",
       "      <th>Fecha diagnóstico</th>\n",
       "      <th>Territorio</th>\n",
       "      <th>Medida</th>\n",
       "      <th>Valor</th>\n",
       "    </tr>\n",
       "  </thead>\n",
       "  <tbody>\n",
       "    <tr>\n",
       "      <th>407</th>\n",
       "      <td>2020-09-15</td>\n",
       "      <td>Huelva-Costa</td>\n",
       "      <td>Casos confirmados</td>\n",
       "      <td>26.0</td>\n",
       "    </tr>\n",
       "    <tr>\n",
       "      <th>410</th>\n",
       "      <td>2020-09-16</td>\n",
       "      <td>Huelva-Costa</td>\n",
       "      <td>Casos confirmados</td>\n",
       "      <td>17.0</td>\n",
       "    </tr>\n",
       "    <tr>\n",
       "      <th>413</th>\n",
       "      <td>2020-09-17</td>\n",
       "      <td>Huelva-Costa</td>\n",
       "      <td>Casos confirmados</td>\n",
       "      <td>11.0</td>\n",
       "    </tr>\n",
       "    <tr>\n",
       "      <th>416</th>\n",
       "      <td>2020-09-18</td>\n",
       "      <td>Huelva-Costa</td>\n",
       "      <td>Casos confirmados</td>\n",
       "      <td>16.0</td>\n",
       "    </tr>\n",
       "    <tr>\n",
       "      <th>419</th>\n",
       "      <td>2020-09-19</td>\n",
       "      <td>Huelva-Costa</td>\n",
       "      <td>Casos confirmados</td>\n",
       "      <td>21.0</td>\n",
       "    </tr>\n",
       "    <tr>\n",
       "      <th>422</th>\n",
       "      <td>2020-09-20</td>\n",
       "      <td>Huelva-Costa</td>\n",
       "      <td>Casos confirmados</td>\n",
       "      <td>0.0</td>\n",
       "    </tr>\n",
       "    <tr>\n",
       "      <th>425</th>\n",
       "      <td>2020-09-21</td>\n",
       "      <td>Huelva-Costa</td>\n",
       "      <td>Casos confirmados</td>\n",
       "      <td>6.0</td>\n",
       "    </tr>\n",
       "    <tr>\n",
       "      <th>428</th>\n",
       "      <td>2020-09-22</td>\n",
       "      <td>Huelva-Costa</td>\n",
       "      <td>Casos confirmados</td>\n",
       "      <td>29.0</td>\n",
       "    </tr>\n",
       "    <tr>\n",
       "      <th>431</th>\n",
       "      <td>2020-09-23</td>\n",
       "      <td>Huelva-Costa</td>\n",
       "      <td>Casos confirmados</td>\n",
       "      <td>22.0</td>\n",
       "    </tr>\n",
       "    <tr>\n",
       "      <th>434</th>\n",
       "      <td>2020-09-24</td>\n",
       "      <td>Huelva-Costa</td>\n",
       "      <td>Casos confirmados</td>\n",
       "      <td>10.0</td>\n",
       "    </tr>\n",
       "  </tbody>\n",
       "</table>\n",
       "</div>"
      ],
      "text/plain": [
       "    Fecha diagnóstico    Territorio             Medida  Valor\n",
       "407        2020-09-15  Huelva-Costa  Casos confirmados   26.0\n",
       "410        2020-09-16  Huelva-Costa  Casos confirmados   17.0\n",
       "413        2020-09-17  Huelva-Costa  Casos confirmados   11.0\n",
       "416        2020-09-18  Huelva-Costa  Casos confirmados   16.0\n",
       "419        2020-09-19  Huelva-Costa  Casos confirmados   21.0\n",
       "422        2020-09-20  Huelva-Costa  Casos confirmados    0.0\n",
       "425        2020-09-21  Huelva-Costa  Casos confirmados    6.0\n",
       "428        2020-09-22  Huelva-Costa  Casos confirmados   29.0\n",
       "431        2020-09-23  Huelva-Costa  Casos confirmados   22.0\n",
       "434        2020-09-24  Huelva-Costa  Casos confirmados   10.0"
      ]
     },
     "execution_count": 5,
     "metadata": {},
     "output_type": "execute_result"
    }
   ],
   "source": [
    "filtro = df['Territorio'] == 'Huelva-Costa'\n",
    "df[filtro].fillna(0).tail(10)"
   ]
  },
  {
   "cell_type": "code",
   "execution_count": 6,
   "metadata": {},
   "outputs": [
    {
     "data": {
      "text/plain": [
       "Sierra de Huelva-Andévalo Central    145\n",
       "Condado-Campiña                      145\n",
       "Huelva-Costa                         145\n",
       "Name: Territorio, dtype: int64"
      ]
     },
     "execution_count": 6,
     "metadata": {},
     "output_type": "execute_result"
    }
   ],
   "source": [
    "df['Territorio'].value_counts()"
   ]
  },
  {
   "cell_type": "code",
   "execution_count": null,
   "metadata": {},
   "outputs": [],
   "source": []
  }
 ],
 "metadata": {
  "kernelspec": {
   "display_name": "Python 3",
   "language": "python",
   "name": "python3"
  },
  "language_info": {
   "codemirror_mode": {
    "name": "ipython",
    "version": 3
   },
   "file_extension": ".py",
   "mimetype": "text/x-python",
   "name": "python",
   "nbconvert_exporter": "python",
   "pygments_lexer": "ipython3",
   "version": "3.7.8"
  }
 },
 "nbformat": 4,
 "nbformat_minor": 4
}
