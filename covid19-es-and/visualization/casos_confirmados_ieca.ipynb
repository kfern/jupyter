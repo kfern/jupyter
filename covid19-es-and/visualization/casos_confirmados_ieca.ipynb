{
 "cells": [
  {
   "cell_type": "code",
   "execution_count": 1,
   "metadata": {},
   "outputs": [],
   "source": [
    "import pandas as pd"
   ]
  },
  {
   "cell_type": "code",
   "execution_count": 2,
   "metadata": {},
   "outputs": [],
   "source": [
    "url = 'https://www.juntadeandalucia.es/institutodeestadisticaycartografia/badea/stpivot/stpivot/Print?cube=f7e22bc9-bad2-4b89-8e24-2fe5da5e0546&type=3&foto=si&ejecutaDesde=&codConsulta=38843&consTipoVisua=JP'\n",
    "fields = ['Fecha declaración', 'Territorio', 'Medida', 'Valor']\n",
    "df = pd.read_csv(url, delimiter=';', usecols=fields)"
   ]
  },
  {
   "cell_type": "code",
   "execution_count": 3,
   "metadata": {},
   "outputs": [],
   "source": [
    "df['Medida'] = 'Casos confirmados'"
   ]
  },
  {
   "cell_type": "code",
   "execution_count": 4,
   "metadata": {},
   "outputs": [],
   "source": [
    "df['Fecha declaración'] = pd.to_datetime(df['Fecha declaración'] + '/20', dayfirst=True)"
   ]
  },
  {
   "cell_type": "code",
   "execution_count": 5,
   "metadata": {},
   "outputs": [
    {
     "data": {
      "text/html": [
       "<div>\n",
       "<style scoped>\n",
       "    .dataframe tbody tr th:only-of-type {\n",
       "        vertical-align: middle;\n",
       "    }\n",
       "\n",
       "    .dataframe tbody tr th {\n",
       "        vertical-align: top;\n",
       "    }\n",
       "\n",
       "    .dataframe thead th {\n",
       "        text-align: right;\n",
       "    }\n",
       "</style>\n",
       "<table border=\"1\" class=\"dataframe\">\n",
       "  <thead>\n",
       "    <tr style=\"text-align: right;\">\n",
       "      <th></th>\n",
       "      <th>Fecha declaración</th>\n",
       "      <th>Territorio</th>\n",
       "      <th>Medida</th>\n",
       "      <th>Valor</th>\n",
       "    </tr>\n",
       "  </thead>\n",
       "  <tbody>\n",
       "    <tr>\n",
       "      <th>122</th>\n",
       "      <td>2020-04-21</td>\n",
       "      <td>Huelva-Costa</td>\n",
       "      <td>Casos confirmados</td>\n",
       "      <td>0.0</td>\n",
       "    </tr>\n",
       "    <tr>\n",
       "      <th>125</th>\n",
       "      <td>2020-04-22</td>\n",
       "      <td>Huelva-Costa</td>\n",
       "      <td>Casos confirmados</td>\n",
       "      <td>2.0</td>\n",
       "    </tr>\n",
       "    <tr>\n",
       "      <th>128</th>\n",
       "      <td>2020-04-23</td>\n",
       "      <td>Huelva-Costa</td>\n",
       "      <td>Casos confirmados</td>\n",
       "      <td>2.0</td>\n",
       "    </tr>\n",
       "    <tr>\n",
       "      <th>131</th>\n",
       "      <td>2020-04-24</td>\n",
       "      <td>Huelva-Costa</td>\n",
       "      <td>Casos confirmados</td>\n",
       "      <td>1.0</td>\n",
       "    </tr>\n",
       "    <tr>\n",
       "      <th>134</th>\n",
       "      <td>2020-04-25</td>\n",
       "      <td>Huelva-Costa</td>\n",
       "      <td>Casos confirmados</td>\n",
       "      <td>0.0</td>\n",
       "    </tr>\n",
       "    <tr>\n",
       "      <th>137</th>\n",
       "      <td>2020-04-26</td>\n",
       "      <td>Huelva-Costa</td>\n",
       "      <td>Casos confirmados</td>\n",
       "      <td>2.0</td>\n",
       "    </tr>\n",
       "    <tr>\n",
       "      <th>140</th>\n",
       "      <td>2020-04-27</td>\n",
       "      <td>Huelva-Costa</td>\n",
       "      <td>Casos confirmados</td>\n",
       "      <td>2.0</td>\n",
       "    </tr>\n",
       "    <tr>\n",
       "      <th>143</th>\n",
       "      <td>2020-04-28</td>\n",
       "      <td>Huelva-Costa</td>\n",
       "      <td>Casos confirmados</td>\n",
       "      <td>3.0</td>\n",
       "    </tr>\n",
       "    <tr>\n",
       "      <th>146</th>\n",
       "      <td>2020-04-29</td>\n",
       "      <td>Huelva-Costa</td>\n",
       "      <td>Casos confirmados</td>\n",
       "      <td>6.0</td>\n",
       "    </tr>\n",
       "    <tr>\n",
       "      <th>149</th>\n",
       "      <td>2020-04-30</td>\n",
       "      <td>Huelva-Costa</td>\n",
       "      <td>Casos confirmados</td>\n",
       "      <td>7.0</td>\n",
       "    </tr>\n",
       "  </tbody>\n",
       "</table>\n",
       "</div>"
      ],
      "text/plain": [
       "    Fecha declaración    Territorio             Medida  Valor\n",
       "122        2020-04-21  Huelva-Costa  Casos confirmados    0.0\n",
       "125        2020-04-22  Huelva-Costa  Casos confirmados    2.0\n",
       "128        2020-04-23  Huelva-Costa  Casos confirmados    2.0\n",
       "131        2020-04-24  Huelva-Costa  Casos confirmados    1.0\n",
       "134        2020-04-25  Huelva-Costa  Casos confirmados    0.0\n",
       "137        2020-04-26  Huelva-Costa  Casos confirmados    2.0\n",
       "140        2020-04-27  Huelva-Costa  Casos confirmados    2.0\n",
       "143        2020-04-28  Huelva-Costa  Casos confirmados    3.0\n",
       "146        2020-04-29  Huelva-Costa  Casos confirmados    6.0\n",
       "149        2020-04-30  Huelva-Costa  Casos confirmados    7.0"
      ]
     },
     "execution_count": 5,
     "metadata": {},
     "output_type": "execute_result"
    }
   ],
   "source": [
    "filtro = df['Territorio'] == 'Huelva-Costa'\n",
    "df[filtro].fillna(0).tail(10)"
   ]
  },
  {
   "cell_type": "code",
   "execution_count": null,
   "metadata": {},
   "outputs": [],
   "source": []
  }
 ],
 "metadata": {
  "kernelspec": {
   "display_name": "Python 3",
   "language": "python",
   "name": "python3"
  },
  "language_info": {
   "codemirror_mode": {
    "name": "ipython",
    "version": 3
   },
   "file_extension": ".py",
   "mimetype": "text/x-python",
   "name": "python",
   "nbconvert_exporter": "python",
   "pygments_lexer": "ipython3",
   "version": "3.7.6"
  }
 },
 "nbformat": 4,
 "nbformat_minor": 4
}
