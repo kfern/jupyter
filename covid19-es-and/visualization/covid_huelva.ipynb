{
 "metadata": {
  "language_info": {
   "codemirror_mode": {
    "name": "ipython",
    "version": 3
   },
   "file_extension": ".py",
   "mimetype": "text/x-python",
   "name": "python",
   "nbconvert_exporter": "python",
   "pygments_lexer": "ipython3",
   "version": "3.8.6"
  },
  "orig_nbformat": 2,
  "kernelspec": {
   "name": "python3",
   "display_name": "Python 3",
   "language": "python"
  }
 },
 "nbformat": 4,
 "nbformat_minor": 2,
 "cells": [
  {
   "cell_type": "code",
   "execution_count": 1,
   "metadata": {},
   "outputs": [],
   "source": [
    "import pandas as pd\n",
    "pd.set_option('display.max_rows', None) # Print all rows"
   ]
  },
  {
   "cell_type": "code",
   "execution_count": 2,
   "metadata": {},
   "outputs": [],
   "source": [
    "# FIX SSL: CERTIFICATE_VERIFY_FAILED with Python3\n",
    "# https://stackoverflow.com/a/49174340\n",
    "import ssl\n",
    "\n",
    "ssl._create_default_https_context = ssl._create_unverified_context"
   ]
  },
  {
   "cell_type": "code",
   "execution_count": 3,
   "metadata": {},
   "outputs": [],
   "source": [
    "url = 'https://www.juntadeandalucia.es/institutodeestadisticaycartografia/badea/stpivot/stpivot/Print?cube=013d884c-cfc5-4c21-9e78-e26225682afd&type=3&foto=si&ejecutaDesde=&codConsulta=38668&consTipoVisua=JP'\n",
    "fields = ['Lugar de residencia', 'Medida', 'Valor']\n",
    "df = pd.read_csv(url, delimiter=';', usecols=fields, decimal=',')"
   ]
  },
  {
   "cell_type": "code",
   "execution_count": 4,
   "metadata": {},
   "outputs": [
    {
     "output_type": "execute_result",
     "data": {
      "text/plain": [
       "  Lugar de residencia                    Medida              Valor\n",
       "0              Huelva                 Población             513170\n",
       "1              Huelva          Confirmados PDIA              31751\n",
       "2              Huelva  Confirmados PDIA 14 días               1508\n",
       "3              Huelva         Tasa PDIA 14 días  293,8597345908763\n",
       "4              Huelva   Confirmados PDIA 7 días                756\n",
       "5              Huelva        Total Confirmados               31931\n",
       "6              Huelva                   Curados              29228\n",
       "7              Huelva                Fallecidos                383"
      ],
      "text/html": "<div>\n<style scoped>\n    .dataframe tbody tr th:only-of-type {\n        vertical-align: middle;\n    }\n\n    .dataframe tbody tr th {\n        vertical-align: top;\n    }\n\n    .dataframe thead th {\n        text-align: right;\n    }\n</style>\n<table border=\"1\" class=\"dataframe\">\n  <thead>\n    <tr style=\"text-align: right;\">\n      <th></th>\n      <th>Lugar de residencia</th>\n      <th>Medida</th>\n      <th>Valor</th>\n    </tr>\n  </thead>\n  <tbody>\n    <tr>\n      <th>0</th>\n      <td>Huelva</td>\n      <td>Población</td>\n      <td>513170</td>\n    </tr>\n    <tr>\n      <th>1</th>\n      <td>Huelva</td>\n      <td>Confirmados PDIA</td>\n      <td>31751</td>\n    </tr>\n    <tr>\n      <th>2</th>\n      <td>Huelva</td>\n      <td>Confirmados PDIA 14 días</td>\n      <td>1508</td>\n    </tr>\n    <tr>\n      <th>3</th>\n      <td>Huelva</td>\n      <td>Tasa PDIA 14 días</td>\n      <td>293,8597345908763</td>\n    </tr>\n    <tr>\n      <th>4</th>\n      <td>Huelva</td>\n      <td>Confirmados PDIA 7 días</td>\n      <td>756</td>\n    </tr>\n    <tr>\n      <th>5</th>\n      <td>Huelva</td>\n      <td>Total Confirmados</td>\n      <td>31931</td>\n    </tr>\n    <tr>\n      <th>6</th>\n      <td>Huelva</td>\n      <td>Curados</td>\n      <td>29228</td>\n    </tr>\n    <tr>\n      <th>7</th>\n      <td>Huelva</td>\n      <td>Fallecidos</td>\n      <td>383</td>\n    </tr>\n  </tbody>\n</table>\n</div>"
     },
     "metadata": {},
     "execution_count": 4
    }
   ],
   "source": [
    "df[df['Lugar de residencia'] == 'Huelva']"
   ]
  },
  {
   "cell_type": "code",
   "execution_count": 5,
   "metadata": {},
   "outputs": [],
   "source": [
    "df['Valor'] = pd.to_numeric(df['Valor'],errors='coerce')"
   ]
  },
  {
   "cell_type": "code",
   "execution_count": 6,
   "metadata": {},
   "outputs": [],
   "source": [
    "dfAnterior = pd.read_csv('covid_huelva.csv', index_col='Lugar de residencia')"
   ]
  },
  {
   "cell_type": "code",
   "execution_count": 7,
   "metadata": {
    "tags": []
   },
   "outputs": [
    {
     "output_type": "stream",
     "name": "stdout",
     "text": [
      "Confirmados PCR en la provincia de Huelva:  31751.0\n",
      "<ipython-input-7-31b732756b19>:2: UserWarning: Boolean Series key will be reindexed to match DataFrame index.\n",
      "  p = df[df['Lugar de residencia'] == 'Huelva'][df['Medida'] == 'Confirmados PDIA']['Valor'].values[0]\n"
     ]
    }
   ],
   "source": [
    "# Confirmados PCR provincia Huelva\n",
    "p = df[df['Lugar de residencia'] == 'Huelva'][df['Medida'] == 'Confirmados PDIA']['Valor'].values[0]\n",
    "print('Confirmados PCR en la provincia de Huelva: ', p)"
   ]
  },
  {
   "cell_type": "code",
   "execution_count": 8,
   "metadata": {
    "tags": []
   },
   "outputs": [
    {
     "output_type": "stream",
     "name": "stdout",
     "text": [
      "Confirmados PCR en Huelva capital:  8491.0\n",
      "<ipython-input-8-e81bfb40e710>:2: UserWarning: Boolean Series key will be reindexed to match DataFrame index.\n",
      "  c = df[df['Lugar de residencia'] == 'Huelva (capital)'][df['Medida'] == 'Confirmados PDIA']['Valor'].values[0]\n"
     ]
    }
   ],
   "source": [
    "# Confirmados PCR Huelva capitalpd\n",
    "c = df[df['Lugar de residencia'] == 'Huelva (capital)'][df['Medida'] == 'Confirmados PDIA']['Valor'].values[0]\n",
    "print('Confirmados PCR en Huelva capital: ', c)"
   ]
  },
  {
   "cell_type": "code",
   "execution_count": 9,
   "metadata": {
    "tags": []
   },
   "outputs": [
    {
     "output_type": "stream",
     "name": "stderr",
     "text": [
      "<ipython-input-9-f09dd2050cc1>:1: UserWarning: Boolean Series key will be reindexed to match DataFrame index.\n  c7 = df[df['Lugar de residencia'] == 'Huelva (capital)'][df['Medida'] == 'Confirmados PDIA 7 días']['Valor'].values[0]\n<ipython-input-9-f09dd2050cc1>:2: UserWarning: Boolean Series key will be reindexed to match DataFrame index.\n  c14 = df[df['Lugar de residencia'] == 'Huelva (capital)'][df['Medida'] == 'Confirmados PDIA 14 días']['Valor'].values[0]\n<ipython-input-9-f09dd2050cc1>:3: UserWarning: Boolean Series key will be reindexed to match DataFrame index.\n  p = df[df['Lugar de residencia'] == 'Huelva (capital)'][df['Medida'] == 'Población']['Valor'].values[0]\n"
     ]
    }
   ],
   "source": [
    "c7 = df[df['Lugar de residencia'] == 'Huelva (capital)'][df['Medida'] == 'Confirmados PDIA 7 días']['Valor'].values[0]\n",
    "c14 = df[df['Lugar de residencia'] == 'Huelva (capital)'][df['Medida'] == 'Confirmados PDIA 14 días']['Valor'].values[0]\n",
    "p = df[df['Lugar de residencia'] == 'Huelva (capital)'][df['Medida'] == 'Población']['Valor'].values[0]"
   ]
  },
  {
   "cell_type": "code",
   "execution_count": 10,
   "metadata": {
    "tags": []
   },
   "outputs": [
    {
     "output_type": "stream",
     "name": "stdout",
     "text": [
      "Huelva (capital)\n\nUn positivo PCR cada 488 personas en los últimos 7 días \n\nUn positivo PCR cada 248 personas en los últimos 14 días\n"
     ]
    }
   ],
   "source": [
    "print('Huelva (capital)\\n')\n",
    "#print('Confirmados PCR 7 días x 1,000 habitantes: ', f\"{c7/(p/1000):.5f}\")\n",
    "print('Un positivo PCR cada', f\"{p/c7:.0f}\", 'personas en los últimos 7 días', '\\n')\n",
    "#print('Confirmados PCR 14 días x 1,000 habitantes: ', f\"{c14/(p/1000):.5f}\")\n",
    "print('Un positivo PCR cada', f\"{p/c14:.0f}\", 'personas en los últimos 14 días')"
   ]
  },
  {
   "cell_type": "code",
   "execution_count": 11,
   "metadata": {},
   "outputs": [],
   "source": [
    "filtro = ((df['Medida'] == 'Confirmados PDIA')| (df['Medida'] == 'Confirmados PDIA 7 días') | (df['Medida'] == 'Población' ) | (df['Medida'] == 'Confirmados PDIA 14 días')) & (df['Valor'] > 0)\n",
    "tabla = pd.pivot_table(df.loc[filtro], values='Valor', index='Lugar de residencia', columns='Medida').dropna()"
   ]
  },
  {
   "cell_type": "code",
   "execution_count": 12,
   "metadata": {},
   "outputs": [],
   "source": [
    "# Reorder columns\n",
    "tabla = tabla[['Confirmados PDIA', 'Confirmados PDIA 7 días', 'Confirmados PDIA 14 días', 'Población']]"
   ]
  },
  {
   "cell_type": "code",
   "execution_count": 13,
   "metadata": {},
   "outputs": [],
   "source": [
    "tabla['tasa7'] = tabla['Confirmados PDIA 7 días']/tabla['Población']*100000\n",
    "tabla['tasa14'] = tabla['Confirmados PDIA 14 días']/tabla['Población']*100000"
   ]
  },
  {
   "cell_type": "code",
   "execution_count": 14,
   "metadata": {},
   "outputs": [],
   "source": [
    "tabla['Diferencia PDIA'] = tabla['Confirmados PDIA'] - dfAnterior['Confirmados PDIA']"
   ]
  },
  {
   "cell_type": "code",
   "execution_count": 15,
   "metadata": {},
   "outputs": [
    {
     "output_type": "execute_result",
     "data": {
      "text/plain": [
       "Medida                             Confirmados PDIA  Confirmados PDIA 7 días  \\\n",
       "Lugar de residencia                                                            \n",
       "Huelva                                      31751.0                    756.0   \n",
       "Huelva-Costa                                18269.0                    410.0   \n",
       "Huelva (capital)                             8491.0                    295.0   \n",
       "Condado-Campiña                             10322.0                    255.0   \n",
       "Sierra de Huelva-Andévalo Central            2811.0                     88.0   \n",
       "Bollullos Par del Condado                     992.0                     21.0   \n",
       "San Juan del Puerto                           520.0                     25.0   \n",
       "Aljaraque                                    1120.0                     43.0   \n",
       "Punta Umbría                                  825.0                     21.0   \n",
       "Palos de la Frontera                          679.0                     37.0   \n",
       "Moguer                                       1304.0                     34.0   \n",
       "Valverde del Camino                           597.0                     45.0   \n",
       "Trigueros                                     317.0                     17.0   \n",
       "Palma del Condado (La)                       1160.0                     18.0   \n",
       "Cortegana                                     214.0                     12.0   \n",
       "Lepe                                         2134.0                      7.0   \n",
       "Almonte                                      1842.0                     49.0   \n",
       "Cartaya                                      1350.0                     22.0   \n",
       "Villarrasa                                    177.0                     10.0   \n",
       "Niebla                                        239.0                      8.0   \n",
       "Ayamonte                                     1320.0                      4.0   \n",
       "Zalamea la Real                                94.0                      4.0   \n",
       "Manzanilla                                    101.0                      3.0   \n",
       "Puebla de Guzmán                              120.0                      7.0   \n",
       "Higuera de la Sierra                           34.0                      2.0   \n",
       "Cumbres Mayores                                52.0                      2.0   \n",
       "San Bartolomé de la Torre                     300.0                      6.0   \n",
       "Bonares                                       274.0                      4.0   \n",
       "Alosno                                        168.0                      2.0   \n",
       "Beas                                          211.0                      1.0   \n",
       "\n",
       "Medida                             Confirmados PDIA 14 días  Población  \\\n",
       "Lugar de residencia                                                      \n",
       "Huelva                                               1508.0   513170.0   \n",
       "Huelva-Costa                                          817.0   289548.0   \n",
       "Huelva (capital)                                      581.0   143837.0   \n",
       "Condado-Campiña                                       546.0   156231.0   \n",
       "Sierra de Huelva-Andévalo Central                     140.0    67391.0   \n",
       "Bollullos Par del Condado                              47.0    14387.0   \n",
       "San Juan del Puerto                                    43.0     9411.0   \n",
       "Aljaraque                                              80.0    21474.0   \n",
       "Punta Umbría                                           43.0    15355.0   \n",
       "Palos de la Frontera                                   60.0    11742.0   \n",
       "Moguer                                                 86.0    21867.0   \n",
       "Valverde del Camino                                    68.0    12750.0   \n",
       "Trigueros                                              25.0     7862.0   \n",
       "Palma del Condado (La)                                 45.0    10801.0   \n",
       "Cortegana                                              14.0     4602.0   \n",
       "Lepe                                                   26.0    27880.0   \n",
       "Almonte                                               112.0    24507.0   \n",
       "Cartaya                                                37.0    20083.0   \n",
       "Villarrasa                                             14.0     2211.0   \n",
       "Niebla                                                 28.0     4116.0   \n",
       "Ayamonte                                               11.0    21104.0   \n",
       "Zalamea la Real                                         7.0     3054.0   \n",
       "Manzanilla                                              6.0     2118.0   \n",
       "Puebla de Guzmán                                        8.0     3092.0   \n",
       "Higuera de la Sierra                                    2.0     1291.0   \n",
       "Cumbres Mayores                                         2.0     1749.0   \n",
       "San Bartolomé de la Torre                               9.0     3761.0   \n",
       "Bonares                                                10.0     6060.0   \n",
       "Alosno                                                  2.0     3933.0   \n",
       "Beas                                                    6.0     4341.0   \n",
       "\n",
       "Medida                                  tasa7      tasa14  Diferencia PDIA  \n",
       "Lugar de residencia                                                         \n",
       "Huelva                             147.319602  293.859735            272.0  \n",
       "Huelva-Costa                       141.600011  282.163924            154.0  \n",
       "Huelva (capital)                   205.093265  403.929448            110.0  \n",
       "Condado-Campiña                    163.219848  349.482497             95.0  \n",
       "Sierra de Huelva-Andévalo Central  130.581235  207.742874             23.0  \n",
       "Bollullos Par del Condado          145.965107  326.683812             16.0  \n",
       "San Juan del Puerto                265.646584  456.912124             16.0  \n",
       "Aljaraque                          200.242153  372.543541             13.0  \n",
       "Punta Umbría                       136.763269  280.039075             13.0  \n",
       "Palos de la Frontera               315.108159  510.986203             13.0  \n",
       "Moguer                             155.485435  393.286688             12.0  \n",
       "Valverde del Camino                352.941176  533.333333             11.0  \n",
       "Trigueros                          216.229967  317.985245             11.0  \n",
       "Palma del Condado (La)             166.651236  416.628090              8.0  \n",
       "Cortegana                          260.756193  304.215558              7.0  \n",
       "Lepe                                25.107604   93.256815              6.0  \n",
       "Almonte                            199.942873  457.012282              6.0  \n",
       "Cartaya                            109.545387  184.235423              6.0  \n",
       "Villarrasa                         452.284034  633.197648              5.0  \n",
       "Niebla                             194.363460  680.272109              3.0  \n",
       "Ayamonte                            18.953753   52.122820              3.0  \n",
       "Zalamea la Real                    130.975769  229.207597              3.0  \n",
       "Manzanilla                         141.643059  283.286119              2.0  \n",
       "Puebla de Guzmán                   226.390686  258.732212              2.0  \n",
       "Higuera de la Sierra               154.918668  154.918668              1.0  \n",
       "Cumbres Mayores                    114.351058  114.351058              1.0  \n",
       "San Bartolomé de la Torre          159.532039  239.298059              1.0  \n",
       "Bonares                             66.006601  165.016502              1.0  \n",
       "Alosno                              50.851767   50.851767              1.0  \n",
       "Beas                                23.036167  138.217001              NaN  "
      ],
      "text/html": "<div>\n<style scoped>\n    .dataframe tbody tr th:only-of-type {\n        vertical-align: middle;\n    }\n\n    .dataframe tbody tr th {\n        vertical-align: top;\n    }\n\n    .dataframe thead th {\n        text-align: right;\n    }\n</style>\n<table border=\"1\" class=\"dataframe\">\n  <thead>\n    <tr style=\"text-align: right;\">\n      <th>Medida</th>\n      <th>Confirmados PDIA</th>\n      <th>Confirmados PDIA 7 días</th>\n      <th>Confirmados PDIA 14 días</th>\n      <th>Población</th>\n      <th>tasa7</th>\n      <th>tasa14</th>\n      <th>Diferencia PDIA</th>\n    </tr>\n    <tr>\n      <th>Lugar de residencia</th>\n      <th></th>\n      <th></th>\n      <th></th>\n      <th></th>\n      <th></th>\n      <th></th>\n      <th></th>\n    </tr>\n  </thead>\n  <tbody>\n    <tr>\n      <th>Huelva</th>\n      <td>31751.0</td>\n      <td>756.0</td>\n      <td>1508.0</td>\n      <td>513170.0</td>\n      <td>147.319602</td>\n      <td>293.859735</td>\n      <td>272.0</td>\n    </tr>\n    <tr>\n      <th>Huelva-Costa</th>\n      <td>18269.0</td>\n      <td>410.0</td>\n      <td>817.0</td>\n      <td>289548.0</td>\n      <td>141.600011</td>\n      <td>282.163924</td>\n      <td>154.0</td>\n    </tr>\n    <tr>\n      <th>Huelva (capital)</th>\n      <td>8491.0</td>\n      <td>295.0</td>\n      <td>581.0</td>\n      <td>143837.0</td>\n      <td>205.093265</td>\n      <td>403.929448</td>\n      <td>110.0</td>\n    </tr>\n    <tr>\n      <th>Condado-Campiña</th>\n      <td>10322.0</td>\n      <td>255.0</td>\n      <td>546.0</td>\n      <td>156231.0</td>\n      <td>163.219848</td>\n      <td>349.482497</td>\n      <td>95.0</td>\n    </tr>\n    <tr>\n      <th>Sierra de Huelva-Andévalo Central</th>\n      <td>2811.0</td>\n      <td>88.0</td>\n      <td>140.0</td>\n      <td>67391.0</td>\n      <td>130.581235</td>\n      <td>207.742874</td>\n      <td>23.0</td>\n    </tr>\n    <tr>\n      <th>Bollullos Par del Condado</th>\n      <td>992.0</td>\n      <td>21.0</td>\n      <td>47.0</td>\n      <td>14387.0</td>\n      <td>145.965107</td>\n      <td>326.683812</td>\n      <td>16.0</td>\n    </tr>\n    <tr>\n      <th>San Juan del Puerto</th>\n      <td>520.0</td>\n      <td>25.0</td>\n      <td>43.0</td>\n      <td>9411.0</td>\n      <td>265.646584</td>\n      <td>456.912124</td>\n      <td>16.0</td>\n    </tr>\n    <tr>\n      <th>Aljaraque</th>\n      <td>1120.0</td>\n      <td>43.0</td>\n      <td>80.0</td>\n      <td>21474.0</td>\n      <td>200.242153</td>\n      <td>372.543541</td>\n      <td>13.0</td>\n    </tr>\n    <tr>\n      <th>Punta Umbría</th>\n      <td>825.0</td>\n      <td>21.0</td>\n      <td>43.0</td>\n      <td>15355.0</td>\n      <td>136.763269</td>\n      <td>280.039075</td>\n      <td>13.0</td>\n    </tr>\n    <tr>\n      <th>Palos de la Frontera</th>\n      <td>679.0</td>\n      <td>37.0</td>\n      <td>60.0</td>\n      <td>11742.0</td>\n      <td>315.108159</td>\n      <td>510.986203</td>\n      <td>13.0</td>\n    </tr>\n    <tr>\n      <th>Moguer</th>\n      <td>1304.0</td>\n      <td>34.0</td>\n      <td>86.0</td>\n      <td>21867.0</td>\n      <td>155.485435</td>\n      <td>393.286688</td>\n      <td>12.0</td>\n    </tr>\n    <tr>\n      <th>Valverde del Camino</th>\n      <td>597.0</td>\n      <td>45.0</td>\n      <td>68.0</td>\n      <td>12750.0</td>\n      <td>352.941176</td>\n      <td>533.333333</td>\n      <td>11.0</td>\n    </tr>\n    <tr>\n      <th>Trigueros</th>\n      <td>317.0</td>\n      <td>17.0</td>\n      <td>25.0</td>\n      <td>7862.0</td>\n      <td>216.229967</td>\n      <td>317.985245</td>\n      <td>11.0</td>\n    </tr>\n    <tr>\n      <th>Palma del Condado (La)</th>\n      <td>1160.0</td>\n      <td>18.0</td>\n      <td>45.0</td>\n      <td>10801.0</td>\n      <td>166.651236</td>\n      <td>416.628090</td>\n      <td>8.0</td>\n    </tr>\n    <tr>\n      <th>Cortegana</th>\n      <td>214.0</td>\n      <td>12.0</td>\n      <td>14.0</td>\n      <td>4602.0</td>\n      <td>260.756193</td>\n      <td>304.215558</td>\n      <td>7.0</td>\n    </tr>\n    <tr>\n      <th>Lepe</th>\n      <td>2134.0</td>\n      <td>7.0</td>\n      <td>26.0</td>\n      <td>27880.0</td>\n      <td>25.107604</td>\n      <td>93.256815</td>\n      <td>6.0</td>\n    </tr>\n    <tr>\n      <th>Almonte</th>\n      <td>1842.0</td>\n      <td>49.0</td>\n      <td>112.0</td>\n      <td>24507.0</td>\n      <td>199.942873</td>\n      <td>457.012282</td>\n      <td>6.0</td>\n    </tr>\n    <tr>\n      <th>Cartaya</th>\n      <td>1350.0</td>\n      <td>22.0</td>\n      <td>37.0</td>\n      <td>20083.0</td>\n      <td>109.545387</td>\n      <td>184.235423</td>\n      <td>6.0</td>\n    </tr>\n    <tr>\n      <th>Villarrasa</th>\n      <td>177.0</td>\n      <td>10.0</td>\n      <td>14.0</td>\n      <td>2211.0</td>\n      <td>452.284034</td>\n      <td>633.197648</td>\n      <td>5.0</td>\n    </tr>\n    <tr>\n      <th>Niebla</th>\n      <td>239.0</td>\n      <td>8.0</td>\n      <td>28.0</td>\n      <td>4116.0</td>\n      <td>194.363460</td>\n      <td>680.272109</td>\n      <td>3.0</td>\n    </tr>\n    <tr>\n      <th>Ayamonte</th>\n      <td>1320.0</td>\n      <td>4.0</td>\n      <td>11.0</td>\n      <td>21104.0</td>\n      <td>18.953753</td>\n      <td>52.122820</td>\n      <td>3.0</td>\n    </tr>\n    <tr>\n      <th>Zalamea la Real</th>\n      <td>94.0</td>\n      <td>4.0</td>\n      <td>7.0</td>\n      <td>3054.0</td>\n      <td>130.975769</td>\n      <td>229.207597</td>\n      <td>3.0</td>\n    </tr>\n    <tr>\n      <th>Manzanilla</th>\n      <td>101.0</td>\n      <td>3.0</td>\n      <td>6.0</td>\n      <td>2118.0</td>\n      <td>141.643059</td>\n      <td>283.286119</td>\n      <td>2.0</td>\n    </tr>\n    <tr>\n      <th>Puebla de Guzmán</th>\n      <td>120.0</td>\n      <td>7.0</td>\n      <td>8.0</td>\n      <td>3092.0</td>\n      <td>226.390686</td>\n      <td>258.732212</td>\n      <td>2.0</td>\n    </tr>\n    <tr>\n      <th>Higuera de la Sierra</th>\n      <td>34.0</td>\n      <td>2.0</td>\n      <td>2.0</td>\n      <td>1291.0</td>\n      <td>154.918668</td>\n      <td>154.918668</td>\n      <td>1.0</td>\n    </tr>\n    <tr>\n      <th>Cumbres Mayores</th>\n      <td>52.0</td>\n      <td>2.0</td>\n      <td>2.0</td>\n      <td>1749.0</td>\n      <td>114.351058</td>\n      <td>114.351058</td>\n      <td>1.0</td>\n    </tr>\n    <tr>\n      <th>San Bartolomé de la Torre</th>\n      <td>300.0</td>\n      <td>6.0</td>\n      <td>9.0</td>\n      <td>3761.0</td>\n      <td>159.532039</td>\n      <td>239.298059</td>\n      <td>1.0</td>\n    </tr>\n    <tr>\n      <th>Bonares</th>\n      <td>274.0</td>\n      <td>4.0</td>\n      <td>10.0</td>\n      <td>6060.0</td>\n      <td>66.006601</td>\n      <td>165.016502</td>\n      <td>1.0</td>\n    </tr>\n    <tr>\n      <th>Alosno</th>\n      <td>168.0</td>\n      <td>2.0</td>\n      <td>2.0</td>\n      <td>3933.0</td>\n      <td>50.851767</td>\n      <td>50.851767</td>\n      <td>1.0</td>\n    </tr>\n    <tr>\n      <th>Beas</th>\n      <td>211.0</td>\n      <td>1.0</td>\n      <td>6.0</td>\n      <td>4341.0</td>\n      <td>23.036167</td>\n      <td>138.217001</td>\n      <td>NaN</td>\n    </tr>\n  </tbody>\n</table>\n</div>"
     },
     "metadata": {},
     "execution_count": 15
    }
   ],
   "source": [
    "# Nuevos casos desde la última captura\n",
    "tabla[tabla['Diferencia PDIA'] != 0].sort_values('Diferencia PDIA', ascending=False)"
   ]
  },
  {
   "cell_type": "code",
   "execution_count": 16,
   "metadata": {},
   "outputs": [],
   "source": [
    "if tabla[tabla['Diferencia PDIA'] != 0]['Diferencia PDIA'].sum() != 0:\n",
    "  # Save to csv\n",
    "  tabla.to_csv('covid_huelva.csv', encoding='utf-8', header=True, index=True)  "
   ]
  },
  {
   "cell_type": "code",
   "execution_count": 17,
   "metadata": {},
   "outputs": [
    {
     "output_type": "execute_result",
     "data": {
      "text/plain": [
       "Medida                             Confirmados PDIA  Confirmados PDIA 7 días  \\\n",
       "Lugar de residencia                                                            \n",
       "Niebla                                        239.0                      8.0   \n",
       "Villarrasa                                    177.0                     10.0   \n",
       "Valverde del Camino                           597.0                     45.0   \n",
       "Palos de la Frontera                          679.0                     37.0   \n",
       "Almonte                                      1842.0                     49.0   \n",
       "San Juan del Puerto                           520.0                     25.0   \n",
       "Palma del Condado (La)                       1160.0                     18.0   \n",
       "Huelva (capital)                             8491.0                    295.0   \n",
       "Moguer                                       1304.0                     34.0   \n",
       "Aljaraque                                    1120.0                     43.0   \n",
       "Condado-Campiña                             10322.0                    255.0   \n",
       "Cerro de Andévalo (El)                        146.0                      1.0   \n",
       "Bollullos Par del Condado                     992.0                     21.0   \n",
       "Trigueros                                     317.0                     17.0   \n",
       "Cortegana                                     214.0                     12.0   \n",
       "Huelva                                      31751.0                    756.0   \n",
       "Manzanilla                                    101.0                      3.0   \n",
       "Huelva-Costa                                18269.0                    410.0   \n",
       "Punta Umbría                                  825.0                     21.0   \n",
       "Lucena del Puerto                             254.0                      2.0   \n",
       "Minas de Riotinto                             127.0                      9.0   \n",
       "Puebla de Guzmán                              120.0                      7.0   \n",
       "San Bartolomé de la Torre                     300.0                      6.0   \n",
       "Zalamea la Real                                94.0                      4.0   \n",
       "Calañas                                       191.0                      2.0   \n",
       "Rociana del Condado                           557.0                     10.0   \n",
       "Sierra de Huelva-Andévalo Central            2811.0                     88.0   \n",
       "Gibraleón                                     632.0                     10.0   \n",
       "Cartaya                                      1350.0                     22.0   \n",
       "Villanueva de los Castillejos                 162.0                      3.0   \n",
       "Bonares                                       274.0                      4.0   \n",
       "Zarza-Perrunal (La)                            25.0                      1.0   \n",
       "Higuera de la Sierra                           34.0                      2.0   \n",
       "Campofrío                                      10.0                      1.0   \n",
       "Beas                                          211.0                      1.0   \n",
       "Aracena                                       528.0                      5.0   \n",
       "Cumbres Mayores                                52.0                      2.0   \n",
       "Isla Cristina                                2150.0                      6.0   \n",
       "Nerva                                         178.0                      2.0   \n",
       "Lepe                                         2134.0                      7.0   \n",
       "Ayamonte                                     1320.0                      4.0   \n",
       "Alosno                                        168.0                      2.0   \n",
       "Campillo (El)                                  73.0                      1.0   \n",
       "Aroche                                         91.0                      1.0   \n",
       "\n",
       "Medida                             Confirmados PDIA 14 días  Población  \\\n",
       "Lugar de residencia                                                      \n",
       "Niebla                                                 28.0     4116.0   \n",
       "Villarrasa                                             14.0     2211.0   \n",
       "Valverde del Camino                                    68.0    12750.0   \n",
       "Palos de la Frontera                                   60.0    11742.0   \n",
       "Almonte                                               112.0    24507.0   \n",
       "San Juan del Puerto                                    43.0     9411.0   \n",
       "Palma del Condado (La)                                 45.0    10801.0   \n",
       "Huelva (capital)                                      581.0   143837.0   \n",
       "Moguer                                                 86.0    21867.0   \n",
       "Aljaraque                                              80.0    21474.0   \n",
       "Condado-Campiña                                       546.0   156231.0   \n",
       "Cerro de Andévalo (El)                                  8.0     2327.0   \n",
       "Bollullos Par del Condado                              47.0    14387.0   \n",
       "Trigueros                                              25.0     7862.0   \n",
       "Cortegana                                              14.0     4602.0   \n",
       "Huelva                                               1508.0   513170.0   \n",
       "Manzanilla                                              6.0     2118.0   \n",
       "Huelva-Costa                                          817.0   289548.0   \n",
       "Punta Umbría                                           43.0    15355.0   \n",
       "Lucena del Puerto                                       9.0     3261.0   \n",
       "Minas de Riotinto                                      10.0     3812.0   \n",
       "Puebla de Guzmán                                        8.0     3092.0   \n",
       "San Bartolomé de la Torre                               9.0     3761.0   \n",
       "Zalamea la Real                                         7.0     3054.0   \n",
       "Calañas                                                 6.0     2768.0   \n",
       "Rociana del Condado                                    17.0     7939.0   \n",
       "Sierra de Huelva-Andévalo Central                     140.0    67391.0   \n",
       "Gibraleón                                              26.0    12737.0   \n",
       "Cartaya                                                37.0    20083.0   \n",
       "Villanueva de los Castillejos                           5.0     2825.0   \n",
       "Bonares                                                10.0     6060.0   \n",
       "Zarza-Perrunal (La)                                     2.0     1253.0   \n",
       "Higuera de la Sierra                                    2.0     1291.0   \n",
       "Campofrío                                               1.0      713.0   \n",
       "Beas                                                    6.0     4341.0   \n",
       "Aracena                                                11.0     8255.0   \n",
       "Cumbres Mayores                                         2.0     1749.0   \n",
       "Isla Cristina                                          21.0    21393.0   \n",
       "Nerva                                                   5.0     5169.0   \n",
       "Lepe                                                   26.0    27880.0   \n",
       "Ayamonte                                               11.0    21104.0   \n",
       "Alosno                                                  2.0     3933.0   \n",
       "Campillo (El)                                           1.0     2024.0   \n",
       "Aroche                                                  1.0     3054.0   \n",
       "\n",
       "Medida                                  tasa7      tasa14  Diferencia PDIA  \n",
       "Lugar de residencia                                                         \n",
       "Niebla                             194.363460  680.272109              3.0  \n",
       "Villarrasa                         452.284034  633.197648              5.0  \n",
       "Valverde del Camino                352.941176  533.333333             11.0  \n",
       "Palos de la Frontera               315.108159  510.986203             13.0  \n",
       "Almonte                            199.942873  457.012282              6.0  \n",
       "San Juan del Puerto                265.646584  456.912124             16.0  \n",
       "Palma del Condado (La)             166.651236  416.628090              8.0  \n",
       "Huelva (capital)                   205.093265  403.929448            110.0  \n",
       "Moguer                             155.485435  393.286688             12.0  \n",
       "Aljaraque                          200.242153  372.543541             13.0  \n",
       "Condado-Campiña                    163.219848  349.482497             95.0  \n",
       "Cerro de Andévalo (El)              42.973786  343.790288              0.0  \n",
       "Bollullos Par del Condado          145.965107  326.683812             16.0  \n",
       "Trigueros                          216.229967  317.985245             11.0  \n",
       "Cortegana                          260.756193  304.215558              7.0  \n",
       "Huelva                             147.319602  293.859735            272.0  \n",
       "Manzanilla                         141.643059  283.286119              2.0  \n",
       "Huelva-Costa                       141.600011  282.163924            154.0  \n",
       "Punta Umbría                       136.763269  280.039075             13.0  \n",
       "Lucena del Puerto                   61.330880  275.988960              0.0  \n",
       "Minas de Riotinto                  236.096537  262.329486              0.0  \n",
       "Puebla de Guzmán                   226.390686  258.732212              2.0  \n",
       "San Bartolomé de la Torre          159.532039  239.298059              1.0  \n",
       "Zalamea la Real                    130.975769  229.207597              3.0  \n",
       "Calañas                             72.254335  216.763006              0.0  \n",
       "Rociana del Condado                125.960448  214.132762              0.0  \n",
       "Sierra de Huelva-Andévalo Central  130.581235  207.742874             23.0  \n",
       "Gibraleón                           78.511423  204.129701              0.0  \n",
       "Cartaya                            109.545387  184.235423              6.0  \n",
       "Villanueva de los Castillejos      106.194690  176.991150              0.0  \n",
       "Bonares                             66.006601  165.016502              1.0  \n",
       "Zarza-Perrunal (La)                 79.808460  159.616919              0.0  \n",
       "Higuera de la Sierra               154.918668  154.918668              1.0  \n",
       "Campofrío                          140.252454  140.252454              0.0  \n",
       "Beas                                23.036167  138.217001              NaN  \n",
       "Aracena                             60.569352  133.252574              0.0  \n",
       "Cumbres Mayores                    114.351058  114.351058              1.0  \n",
       "Isla Cristina                       28.046557   98.162950              0.0  \n",
       "Nerva                               38.692204   96.730509              0.0  \n",
       "Lepe                                25.107604   93.256815              6.0  \n",
       "Ayamonte                            18.953753   52.122820              3.0  \n",
       "Alosno                              50.851767   50.851767              1.0  \n",
       "Campillo (El)                       49.407115   49.407115              0.0  \n",
       "Aroche                              32.743942   32.743942              0.0  "
      ],
      "text/html": "<div>\n<style scoped>\n    .dataframe tbody tr th:only-of-type {\n        vertical-align: middle;\n    }\n\n    .dataframe tbody tr th {\n        vertical-align: top;\n    }\n\n    .dataframe thead th {\n        text-align: right;\n    }\n</style>\n<table border=\"1\" class=\"dataframe\">\n  <thead>\n    <tr style=\"text-align: right;\">\n      <th>Medida</th>\n      <th>Confirmados PDIA</th>\n      <th>Confirmados PDIA 7 días</th>\n      <th>Confirmados PDIA 14 días</th>\n      <th>Población</th>\n      <th>tasa7</th>\n      <th>tasa14</th>\n      <th>Diferencia PDIA</th>\n    </tr>\n    <tr>\n      <th>Lugar de residencia</th>\n      <th></th>\n      <th></th>\n      <th></th>\n      <th></th>\n      <th></th>\n      <th></th>\n      <th></th>\n    </tr>\n  </thead>\n  <tbody>\n    <tr>\n      <th>Niebla</th>\n      <td>239.0</td>\n      <td>8.0</td>\n      <td>28.0</td>\n      <td>4116.0</td>\n      <td>194.363460</td>\n      <td>680.272109</td>\n      <td>3.0</td>\n    </tr>\n    <tr>\n      <th>Villarrasa</th>\n      <td>177.0</td>\n      <td>10.0</td>\n      <td>14.0</td>\n      <td>2211.0</td>\n      <td>452.284034</td>\n      <td>633.197648</td>\n      <td>5.0</td>\n    </tr>\n    <tr>\n      <th>Valverde del Camino</th>\n      <td>597.0</td>\n      <td>45.0</td>\n      <td>68.0</td>\n      <td>12750.0</td>\n      <td>352.941176</td>\n      <td>533.333333</td>\n      <td>11.0</td>\n    </tr>\n    <tr>\n      <th>Palos de la Frontera</th>\n      <td>679.0</td>\n      <td>37.0</td>\n      <td>60.0</td>\n      <td>11742.0</td>\n      <td>315.108159</td>\n      <td>510.986203</td>\n      <td>13.0</td>\n    </tr>\n    <tr>\n      <th>Almonte</th>\n      <td>1842.0</td>\n      <td>49.0</td>\n      <td>112.0</td>\n      <td>24507.0</td>\n      <td>199.942873</td>\n      <td>457.012282</td>\n      <td>6.0</td>\n    </tr>\n    <tr>\n      <th>San Juan del Puerto</th>\n      <td>520.0</td>\n      <td>25.0</td>\n      <td>43.0</td>\n      <td>9411.0</td>\n      <td>265.646584</td>\n      <td>456.912124</td>\n      <td>16.0</td>\n    </tr>\n    <tr>\n      <th>Palma del Condado (La)</th>\n      <td>1160.0</td>\n      <td>18.0</td>\n      <td>45.0</td>\n      <td>10801.0</td>\n      <td>166.651236</td>\n      <td>416.628090</td>\n      <td>8.0</td>\n    </tr>\n    <tr>\n      <th>Huelva (capital)</th>\n      <td>8491.0</td>\n      <td>295.0</td>\n      <td>581.0</td>\n      <td>143837.0</td>\n      <td>205.093265</td>\n      <td>403.929448</td>\n      <td>110.0</td>\n    </tr>\n    <tr>\n      <th>Moguer</th>\n      <td>1304.0</td>\n      <td>34.0</td>\n      <td>86.0</td>\n      <td>21867.0</td>\n      <td>155.485435</td>\n      <td>393.286688</td>\n      <td>12.0</td>\n    </tr>\n    <tr>\n      <th>Aljaraque</th>\n      <td>1120.0</td>\n      <td>43.0</td>\n      <td>80.0</td>\n      <td>21474.0</td>\n      <td>200.242153</td>\n      <td>372.543541</td>\n      <td>13.0</td>\n    </tr>\n    <tr>\n      <th>Condado-Campiña</th>\n      <td>10322.0</td>\n      <td>255.0</td>\n      <td>546.0</td>\n      <td>156231.0</td>\n      <td>163.219848</td>\n      <td>349.482497</td>\n      <td>95.0</td>\n    </tr>\n    <tr>\n      <th>Cerro de Andévalo (El)</th>\n      <td>146.0</td>\n      <td>1.0</td>\n      <td>8.0</td>\n      <td>2327.0</td>\n      <td>42.973786</td>\n      <td>343.790288</td>\n      <td>0.0</td>\n    </tr>\n    <tr>\n      <th>Bollullos Par del Condado</th>\n      <td>992.0</td>\n      <td>21.0</td>\n      <td>47.0</td>\n      <td>14387.0</td>\n      <td>145.965107</td>\n      <td>326.683812</td>\n      <td>16.0</td>\n    </tr>\n    <tr>\n      <th>Trigueros</th>\n      <td>317.0</td>\n      <td>17.0</td>\n      <td>25.0</td>\n      <td>7862.0</td>\n      <td>216.229967</td>\n      <td>317.985245</td>\n      <td>11.0</td>\n    </tr>\n    <tr>\n      <th>Cortegana</th>\n      <td>214.0</td>\n      <td>12.0</td>\n      <td>14.0</td>\n      <td>4602.0</td>\n      <td>260.756193</td>\n      <td>304.215558</td>\n      <td>7.0</td>\n    </tr>\n    <tr>\n      <th>Huelva</th>\n      <td>31751.0</td>\n      <td>756.0</td>\n      <td>1508.0</td>\n      <td>513170.0</td>\n      <td>147.319602</td>\n      <td>293.859735</td>\n      <td>272.0</td>\n    </tr>\n    <tr>\n      <th>Manzanilla</th>\n      <td>101.0</td>\n      <td>3.0</td>\n      <td>6.0</td>\n      <td>2118.0</td>\n      <td>141.643059</td>\n      <td>283.286119</td>\n      <td>2.0</td>\n    </tr>\n    <tr>\n      <th>Huelva-Costa</th>\n      <td>18269.0</td>\n      <td>410.0</td>\n      <td>817.0</td>\n      <td>289548.0</td>\n      <td>141.600011</td>\n      <td>282.163924</td>\n      <td>154.0</td>\n    </tr>\n    <tr>\n      <th>Punta Umbría</th>\n      <td>825.0</td>\n      <td>21.0</td>\n      <td>43.0</td>\n      <td>15355.0</td>\n      <td>136.763269</td>\n      <td>280.039075</td>\n      <td>13.0</td>\n    </tr>\n    <tr>\n      <th>Lucena del Puerto</th>\n      <td>254.0</td>\n      <td>2.0</td>\n      <td>9.0</td>\n      <td>3261.0</td>\n      <td>61.330880</td>\n      <td>275.988960</td>\n      <td>0.0</td>\n    </tr>\n    <tr>\n      <th>Minas de Riotinto</th>\n      <td>127.0</td>\n      <td>9.0</td>\n      <td>10.0</td>\n      <td>3812.0</td>\n      <td>236.096537</td>\n      <td>262.329486</td>\n      <td>0.0</td>\n    </tr>\n    <tr>\n      <th>Puebla de Guzmán</th>\n      <td>120.0</td>\n      <td>7.0</td>\n      <td>8.0</td>\n      <td>3092.0</td>\n      <td>226.390686</td>\n      <td>258.732212</td>\n      <td>2.0</td>\n    </tr>\n    <tr>\n      <th>San Bartolomé de la Torre</th>\n      <td>300.0</td>\n      <td>6.0</td>\n      <td>9.0</td>\n      <td>3761.0</td>\n      <td>159.532039</td>\n      <td>239.298059</td>\n      <td>1.0</td>\n    </tr>\n    <tr>\n      <th>Zalamea la Real</th>\n      <td>94.0</td>\n      <td>4.0</td>\n      <td>7.0</td>\n      <td>3054.0</td>\n      <td>130.975769</td>\n      <td>229.207597</td>\n      <td>3.0</td>\n    </tr>\n    <tr>\n      <th>Calañas</th>\n      <td>191.0</td>\n      <td>2.0</td>\n      <td>6.0</td>\n      <td>2768.0</td>\n      <td>72.254335</td>\n      <td>216.763006</td>\n      <td>0.0</td>\n    </tr>\n    <tr>\n      <th>Rociana del Condado</th>\n      <td>557.0</td>\n      <td>10.0</td>\n      <td>17.0</td>\n      <td>7939.0</td>\n      <td>125.960448</td>\n      <td>214.132762</td>\n      <td>0.0</td>\n    </tr>\n    <tr>\n      <th>Sierra de Huelva-Andévalo Central</th>\n      <td>2811.0</td>\n      <td>88.0</td>\n      <td>140.0</td>\n      <td>67391.0</td>\n      <td>130.581235</td>\n      <td>207.742874</td>\n      <td>23.0</td>\n    </tr>\n    <tr>\n      <th>Gibraleón</th>\n      <td>632.0</td>\n      <td>10.0</td>\n      <td>26.0</td>\n      <td>12737.0</td>\n      <td>78.511423</td>\n      <td>204.129701</td>\n      <td>0.0</td>\n    </tr>\n    <tr>\n      <th>Cartaya</th>\n      <td>1350.0</td>\n      <td>22.0</td>\n      <td>37.0</td>\n      <td>20083.0</td>\n      <td>109.545387</td>\n      <td>184.235423</td>\n      <td>6.0</td>\n    </tr>\n    <tr>\n      <th>Villanueva de los Castillejos</th>\n      <td>162.0</td>\n      <td>3.0</td>\n      <td>5.0</td>\n      <td>2825.0</td>\n      <td>106.194690</td>\n      <td>176.991150</td>\n      <td>0.0</td>\n    </tr>\n    <tr>\n      <th>Bonares</th>\n      <td>274.0</td>\n      <td>4.0</td>\n      <td>10.0</td>\n      <td>6060.0</td>\n      <td>66.006601</td>\n      <td>165.016502</td>\n      <td>1.0</td>\n    </tr>\n    <tr>\n      <th>Zarza-Perrunal (La)</th>\n      <td>25.0</td>\n      <td>1.0</td>\n      <td>2.0</td>\n      <td>1253.0</td>\n      <td>79.808460</td>\n      <td>159.616919</td>\n      <td>0.0</td>\n    </tr>\n    <tr>\n      <th>Higuera de la Sierra</th>\n      <td>34.0</td>\n      <td>2.0</td>\n      <td>2.0</td>\n      <td>1291.0</td>\n      <td>154.918668</td>\n      <td>154.918668</td>\n      <td>1.0</td>\n    </tr>\n    <tr>\n      <th>Campofrío</th>\n      <td>10.0</td>\n      <td>1.0</td>\n      <td>1.0</td>\n      <td>713.0</td>\n      <td>140.252454</td>\n      <td>140.252454</td>\n      <td>0.0</td>\n    </tr>\n    <tr>\n      <th>Beas</th>\n      <td>211.0</td>\n      <td>1.0</td>\n      <td>6.0</td>\n      <td>4341.0</td>\n      <td>23.036167</td>\n      <td>138.217001</td>\n      <td>NaN</td>\n    </tr>\n    <tr>\n      <th>Aracena</th>\n      <td>528.0</td>\n      <td>5.0</td>\n      <td>11.0</td>\n      <td>8255.0</td>\n      <td>60.569352</td>\n      <td>133.252574</td>\n      <td>0.0</td>\n    </tr>\n    <tr>\n      <th>Cumbres Mayores</th>\n      <td>52.0</td>\n      <td>2.0</td>\n      <td>2.0</td>\n      <td>1749.0</td>\n      <td>114.351058</td>\n      <td>114.351058</td>\n      <td>1.0</td>\n    </tr>\n    <tr>\n      <th>Isla Cristina</th>\n      <td>2150.0</td>\n      <td>6.0</td>\n      <td>21.0</td>\n      <td>21393.0</td>\n      <td>28.046557</td>\n      <td>98.162950</td>\n      <td>0.0</td>\n    </tr>\n    <tr>\n      <th>Nerva</th>\n      <td>178.0</td>\n      <td>2.0</td>\n      <td>5.0</td>\n      <td>5169.0</td>\n      <td>38.692204</td>\n      <td>96.730509</td>\n      <td>0.0</td>\n    </tr>\n    <tr>\n      <th>Lepe</th>\n      <td>2134.0</td>\n      <td>7.0</td>\n      <td>26.0</td>\n      <td>27880.0</td>\n      <td>25.107604</td>\n      <td>93.256815</td>\n      <td>6.0</td>\n    </tr>\n    <tr>\n      <th>Ayamonte</th>\n      <td>1320.0</td>\n      <td>4.0</td>\n      <td>11.0</td>\n      <td>21104.0</td>\n      <td>18.953753</td>\n      <td>52.122820</td>\n      <td>3.0</td>\n    </tr>\n    <tr>\n      <th>Alosno</th>\n      <td>168.0</td>\n      <td>2.0</td>\n      <td>2.0</td>\n      <td>3933.0</td>\n      <td>50.851767</td>\n      <td>50.851767</td>\n      <td>1.0</td>\n    </tr>\n    <tr>\n      <th>Campillo (El)</th>\n      <td>73.0</td>\n      <td>1.0</td>\n      <td>1.0</td>\n      <td>2024.0</td>\n      <td>49.407115</td>\n      <td>49.407115</td>\n      <td>0.0</td>\n    </tr>\n    <tr>\n      <th>Aroche</th>\n      <td>91.0</td>\n      <td>1.0</td>\n      <td>1.0</td>\n      <td>3054.0</td>\n      <td>32.743942</td>\n      <td>32.743942</td>\n      <td>0.0</td>\n    </tr>\n  </tbody>\n</table>\n</div>"
     },
     "metadata": {},
     "execution_count": 17
    }
   ],
   "source": [
    "tabla.sort_values('tasa14', ascending=False)"
   ]
  },
  {
   "cell_type": "code",
   "execution_count": 18,
   "metadata": {},
   "outputs": [
    {
     "output_type": "execute_result",
     "data": {
      "text/plain": [
       "Medida                             Confirmados PDIA  Confirmados PDIA 7 días  \\\n",
       "Lugar de residencia                                                            \n",
       "Cerro de Andévalo (El)                        146.0                      1.0   \n",
       "Beas                                          211.0                      1.0   \n",
       "Lucena del Puerto                             254.0                      2.0   \n",
       "Lepe                                         2134.0                      7.0   \n",
       "Isla Cristina                                2150.0                      6.0   \n",
       "Niebla                                        239.0                      8.0   \n",
       "Calañas                                       191.0                      2.0   \n",
       "Ayamonte                                     1320.0                      4.0   \n",
       "Gibraleón                                     632.0                     10.0   \n",
       "Moguer                                       1304.0                     34.0   \n",
       "Palma del Condado (La)                       1160.0                     18.0   \n",
       "Nerva                                         178.0                      2.0   \n",
       "Bonares                                       274.0                      4.0   \n",
       "Almonte                                      1842.0                     49.0   \n",
       "Bollullos Par del Condado                     992.0                     21.0   \n",
       "Aracena                                       528.0                      5.0   \n",
       "Condado-Campiña                             10322.0                    255.0   \n",
       "Punta Umbría                                  825.0                     21.0   \n",
       "Manzanilla                                    101.0                      3.0   \n",
       "Zarza-Perrunal (La)                            25.0                      1.0   \n",
       "Huelva                                      31751.0                    756.0   \n",
       "Huelva-Costa                                18269.0                    410.0   \n",
       "Huelva (capital)                             8491.0                    295.0   \n",
       "Aljaraque                                    1120.0                     43.0   \n",
       "Zalamea la Real                                94.0                      4.0   \n",
       "San Juan del Puerto                           520.0                     25.0   \n",
       "Rociana del Condado                           557.0                     10.0   \n",
       "Cartaya                                      1350.0                     22.0   \n",
       "Villanueva de los Castillejos                 162.0                      3.0   \n",
       "Palos de la Frontera                          679.0                     37.0   \n",
       "Sierra de Huelva-Andévalo Central            2811.0                     88.0   \n",
       "Valverde del Camino                           597.0                     45.0   \n",
       "San Bartolomé de la Torre                     300.0                      6.0   \n",
       "Trigueros                                     317.0                     17.0   \n",
       "Villarrasa                                    177.0                     10.0   \n",
       "Cortegana                                     214.0                     12.0   \n",
       "Puebla de Guzmán                              120.0                      7.0   \n",
       "Minas de Riotinto                             127.0                      9.0   \n",
       "Cumbres Mayores                                52.0                      2.0   \n",
       "Aroche                                         91.0                      1.0   \n",
       "Campillo (El)                                  73.0                      1.0   \n",
       "Campofrío                                      10.0                      1.0   \n",
       "Higuera de la Sierra                           34.0                      2.0   \n",
       "Alosno                                        168.0                      2.0   \n",
       "\n",
       "Medida                             Confirmados PDIA 14 días  Población  \\\n",
       "Lugar de residencia                                                      \n",
       "Cerro de Andévalo (El)                                  8.0     2327.0   \n",
       "Beas                                                    6.0     4341.0   \n",
       "Lucena del Puerto                                       9.0     3261.0   \n",
       "Lepe                                                   26.0    27880.0   \n",
       "Isla Cristina                                          21.0    21393.0   \n",
       "Niebla                                                 28.0     4116.0   \n",
       "Calañas                                                 6.0     2768.0   \n",
       "Ayamonte                                               11.0    21104.0   \n",
       "Gibraleón                                              26.0    12737.0   \n",
       "Moguer                                                 86.0    21867.0   \n",
       "Palma del Condado (La)                                 45.0    10801.0   \n",
       "Nerva                                                   5.0     5169.0   \n",
       "Bonares                                                10.0     6060.0   \n",
       "Almonte                                               112.0    24507.0   \n",
       "Bollullos Par del Condado                              47.0    14387.0   \n",
       "Aracena                                                11.0     8255.0   \n",
       "Condado-Campiña                                       546.0   156231.0   \n",
       "Punta Umbría                                           43.0    15355.0   \n",
       "Manzanilla                                              6.0     2118.0   \n",
       "Zarza-Perrunal (La)                                     2.0     1253.0   \n",
       "Huelva                                               1508.0   513170.0   \n",
       "Huelva-Costa                                          817.0   289548.0   \n",
       "Huelva (capital)                                      581.0   143837.0   \n",
       "Aljaraque                                              80.0    21474.0   \n",
       "Zalamea la Real                                         7.0     3054.0   \n",
       "San Juan del Puerto                                    43.0     9411.0   \n",
       "Rociana del Condado                                    17.0     7939.0   \n",
       "Cartaya                                                37.0    20083.0   \n",
       "Villanueva de los Castillejos                           5.0     2825.0   \n",
       "Palos de la Frontera                                   60.0    11742.0   \n",
       "Sierra de Huelva-Andévalo Central                     140.0    67391.0   \n",
       "Valverde del Camino                                    68.0    12750.0   \n",
       "San Bartolomé de la Torre                               9.0     3761.0   \n",
       "Trigueros                                              25.0     7862.0   \n",
       "Villarrasa                                             14.0     2211.0   \n",
       "Cortegana                                              14.0     4602.0   \n",
       "Puebla de Guzmán                                        8.0     3092.0   \n",
       "Minas de Riotinto                                      10.0     3812.0   \n",
       "Cumbres Mayores                                         2.0     1749.0   \n",
       "Aroche                                                  1.0     3054.0   \n",
       "Campillo (El)                                           1.0     2024.0   \n",
       "Campofrío                                               1.0      713.0   \n",
       "Higuera de la Sierra                                    2.0     1291.0   \n",
       "Alosno                                                  2.0     3933.0   \n",
       "\n",
       "Medida                                  tasa7      tasa14  Diferencia PDIA  \\\n",
       "Lugar de residencia                                                          \n",
       "Cerro de Andévalo (El)              42.973786  343.790288              0.0   \n",
       "Beas                                23.036167  138.217001              0.0   \n",
       "Lucena del Puerto                   61.330880  275.988960              0.0   \n",
       "Lepe                                25.107604   93.256815              6.0   \n",
       "Isla Cristina                       28.046557   98.162950              0.0   \n",
       "Niebla                             194.363460  680.272109              3.0   \n",
       "Calañas                             72.254335  216.763006              0.0   \n",
       "Ayamonte                            18.953753   52.122820              3.0   \n",
       "Gibraleón                           78.511423  204.129701              0.0   \n",
       "Moguer                             155.485435  393.286688             12.0   \n",
       "Palma del Condado (La)             166.651236  416.628090              8.0   \n",
       "Nerva                               38.692204   96.730509              0.0   \n",
       "Bonares                             66.006601  165.016502              1.0   \n",
       "Almonte                            199.942873  457.012282              6.0   \n",
       "Bollullos Par del Condado          145.965107  326.683812             16.0   \n",
       "Aracena                             60.569352  133.252574              0.0   \n",
       "Condado-Campiña                    163.219848  349.482497             95.0   \n",
       "Punta Umbría                       136.763269  280.039075             13.0   \n",
       "Manzanilla                         141.643059  283.286119              2.0   \n",
       "Zarza-Perrunal (La)                 79.808460  159.616919              0.0   \n",
       "Huelva                             147.319602  293.859735            272.0   \n",
       "Huelva-Costa                       141.600011  282.163924            154.0   \n",
       "Huelva (capital)                   205.093265  403.929448            110.0   \n",
       "Aljaraque                          200.242153  372.543541             13.0   \n",
       "Zalamea la Real                    130.975769  229.207597              3.0   \n",
       "San Juan del Puerto                265.646584  456.912124             16.0   \n",
       "Rociana del Condado                125.960448  214.132762              0.0   \n",
       "Cartaya                            109.545387  184.235423              6.0   \n",
       "Villanueva de los Castillejos      106.194690  176.991150              0.0   \n",
       "Palos de la Frontera               315.108159  510.986203             13.0   \n",
       "Sierra de Huelva-Andévalo Central  130.581235  207.742874             23.0   \n",
       "Valverde del Camino                352.941176  533.333333             11.0   \n",
       "San Bartolomé de la Torre          159.532039  239.298059              1.0   \n",
       "Trigueros                          216.229967  317.985245             11.0   \n",
       "Villarrasa                         452.284034  633.197648              5.0   \n",
       "Cortegana                          260.756193  304.215558              7.0   \n",
       "Puebla de Guzmán                   226.390686  258.732212              2.0   \n",
       "Minas de Riotinto                  236.096537  262.329486              0.0   \n",
       "Cumbres Mayores                    114.351058  114.351058              1.0   \n",
       "Aroche                              32.743942   32.743942              0.0   \n",
       "Campillo (El)                       49.407115   49.407115              0.0   \n",
       "Campofrío                          140.252454  140.252454              0.0   \n",
       "Higuera de la Sierra               154.918668  154.918668              1.0   \n",
       "Alosno                              50.851767   50.851767              1.0   \n",
       "\n",
       "Medida                                 7/14  \n",
       "Lugar de residencia                          \n",
       "Cerro de Andévalo (El)             0.125000  \n",
       "Beas                               0.166667  \n",
       "Lucena del Puerto                  0.222222  \n",
       "Lepe                               0.269231  \n",
       "Isla Cristina                      0.285714  \n",
       "Niebla                             0.285714  \n",
       "Calañas                            0.333333  \n",
       "Ayamonte                           0.363636  \n",
       "Gibraleón                          0.384615  \n",
       "Moguer                             0.395349  \n",
       "Palma del Condado (La)             0.400000  \n",
       "Nerva                              0.400000  \n",
       "Bonares                            0.400000  \n",
       "Almonte                            0.437500  \n",
       "Bollullos Par del Condado          0.446809  \n",
       "Aracena                            0.454545  \n",
       "Condado-Campiña                    0.467033  \n",
       "Punta Umbría                       0.488372  \n",
       "Manzanilla                         0.500000  \n",
       "Zarza-Perrunal (La)                0.500000  \n",
       "Huelva                             0.501326  \n",
       "Huelva-Costa                       0.501836  \n",
       "Huelva (capital)                   0.507745  \n",
       "Aljaraque                          0.537500  \n",
       "Zalamea la Real                    0.571429  \n",
       "San Juan del Puerto                0.581395  \n",
       "Rociana del Condado                0.588235  \n",
       "Cartaya                            0.594595  \n",
       "Villanueva de los Castillejos      0.600000  \n",
       "Palos de la Frontera               0.616667  \n",
       "Sierra de Huelva-Andévalo Central  0.628571  \n",
       "Valverde del Camino                0.661765  \n",
       "San Bartolomé de la Torre          0.666667  \n",
       "Trigueros                          0.680000  \n",
       "Villarrasa                         0.714286  \n",
       "Cortegana                          0.857143  \n",
       "Puebla de Guzmán                   0.875000  \n",
       "Minas de Riotinto                  0.900000  \n",
       "Cumbres Mayores                    1.000000  \n",
       "Aroche                             1.000000  \n",
       "Campillo (El)                      1.000000  \n",
       "Campofrío                          1.000000  \n",
       "Higuera de la Sierra               1.000000  \n",
       "Alosno                             1.000000  "
      ],
      "text/html": "<div>\n<style scoped>\n    .dataframe tbody tr th:only-of-type {\n        vertical-align: middle;\n    }\n\n    .dataframe tbody tr th {\n        vertical-align: top;\n    }\n\n    .dataframe thead th {\n        text-align: right;\n    }\n</style>\n<table border=\"1\" class=\"dataframe\">\n  <thead>\n    <tr style=\"text-align: right;\">\n      <th>Medida</th>\n      <th>Confirmados PDIA</th>\n      <th>Confirmados PDIA 7 días</th>\n      <th>Confirmados PDIA 14 días</th>\n      <th>Población</th>\n      <th>tasa7</th>\n      <th>tasa14</th>\n      <th>Diferencia PDIA</th>\n      <th>7/14</th>\n    </tr>\n    <tr>\n      <th>Lugar de residencia</th>\n      <th></th>\n      <th></th>\n      <th></th>\n      <th></th>\n      <th></th>\n      <th></th>\n      <th></th>\n      <th></th>\n    </tr>\n  </thead>\n  <tbody>\n    <tr>\n      <th>Cerro de Andévalo (El)</th>\n      <td>146.0</td>\n      <td>1.0</td>\n      <td>8.0</td>\n      <td>2327.0</td>\n      <td>42.973786</td>\n      <td>343.790288</td>\n      <td>0.0</td>\n      <td>0.125000</td>\n    </tr>\n    <tr>\n      <th>Beas</th>\n      <td>211.0</td>\n      <td>1.0</td>\n      <td>6.0</td>\n      <td>4341.0</td>\n      <td>23.036167</td>\n      <td>138.217001</td>\n      <td>0.0</td>\n      <td>0.166667</td>\n    </tr>\n    <tr>\n      <th>Lucena del Puerto</th>\n      <td>254.0</td>\n      <td>2.0</td>\n      <td>9.0</td>\n      <td>3261.0</td>\n      <td>61.330880</td>\n      <td>275.988960</td>\n      <td>0.0</td>\n      <td>0.222222</td>\n    </tr>\n    <tr>\n      <th>Lepe</th>\n      <td>2134.0</td>\n      <td>7.0</td>\n      <td>26.0</td>\n      <td>27880.0</td>\n      <td>25.107604</td>\n      <td>93.256815</td>\n      <td>6.0</td>\n      <td>0.269231</td>\n    </tr>\n    <tr>\n      <th>Isla Cristina</th>\n      <td>2150.0</td>\n      <td>6.0</td>\n      <td>21.0</td>\n      <td>21393.0</td>\n      <td>28.046557</td>\n      <td>98.162950</td>\n      <td>0.0</td>\n      <td>0.285714</td>\n    </tr>\n    <tr>\n      <th>Niebla</th>\n      <td>239.0</td>\n      <td>8.0</td>\n      <td>28.0</td>\n      <td>4116.0</td>\n      <td>194.363460</td>\n      <td>680.272109</td>\n      <td>3.0</td>\n      <td>0.285714</td>\n    </tr>\n    <tr>\n      <th>Calañas</th>\n      <td>191.0</td>\n      <td>2.0</td>\n      <td>6.0</td>\n      <td>2768.0</td>\n      <td>72.254335</td>\n      <td>216.763006</td>\n      <td>0.0</td>\n      <td>0.333333</td>\n    </tr>\n    <tr>\n      <th>Ayamonte</th>\n      <td>1320.0</td>\n      <td>4.0</td>\n      <td>11.0</td>\n      <td>21104.0</td>\n      <td>18.953753</td>\n      <td>52.122820</td>\n      <td>3.0</td>\n      <td>0.363636</td>\n    </tr>\n    <tr>\n      <th>Gibraleón</th>\n      <td>632.0</td>\n      <td>10.0</td>\n      <td>26.0</td>\n      <td>12737.0</td>\n      <td>78.511423</td>\n      <td>204.129701</td>\n      <td>0.0</td>\n      <td>0.384615</td>\n    </tr>\n    <tr>\n      <th>Moguer</th>\n      <td>1304.0</td>\n      <td>34.0</td>\n      <td>86.0</td>\n      <td>21867.0</td>\n      <td>155.485435</td>\n      <td>393.286688</td>\n      <td>12.0</td>\n      <td>0.395349</td>\n    </tr>\n    <tr>\n      <th>Palma del Condado (La)</th>\n      <td>1160.0</td>\n      <td>18.0</td>\n      <td>45.0</td>\n      <td>10801.0</td>\n      <td>166.651236</td>\n      <td>416.628090</td>\n      <td>8.0</td>\n      <td>0.400000</td>\n    </tr>\n    <tr>\n      <th>Nerva</th>\n      <td>178.0</td>\n      <td>2.0</td>\n      <td>5.0</td>\n      <td>5169.0</td>\n      <td>38.692204</td>\n      <td>96.730509</td>\n      <td>0.0</td>\n      <td>0.400000</td>\n    </tr>\n    <tr>\n      <th>Bonares</th>\n      <td>274.0</td>\n      <td>4.0</td>\n      <td>10.0</td>\n      <td>6060.0</td>\n      <td>66.006601</td>\n      <td>165.016502</td>\n      <td>1.0</td>\n      <td>0.400000</td>\n    </tr>\n    <tr>\n      <th>Almonte</th>\n      <td>1842.0</td>\n      <td>49.0</td>\n      <td>112.0</td>\n      <td>24507.0</td>\n      <td>199.942873</td>\n      <td>457.012282</td>\n      <td>6.0</td>\n      <td>0.437500</td>\n    </tr>\n    <tr>\n      <th>Bollullos Par del Condado</th>\n      <td>992.0</td>\n      <td>21.0</td>\n      <td>47.0</td>\n      <td>14387.0</td>\n      <td>145.965107</td>\n      <td>326.683812</td>\n      <td>16.0</td>\n      <td>0.446809</td>\n    </tr>\n    <tr>\n      <th>Aracena</th>\n      <td>528.0</td>\n      <td>5.0</td>\n      <td>11.0</td>\n      <td>8255.0</td>\n      <td>60.569352</td>\n      <td>133.252574</td>\n      <td>0.0</td>\n      <td>0.454545</td>\n    </tr>\n    <tr>\n      <th>Condado-Campiña</th>\n      <td>10322.0</td>\n      <td>255.0</td>\n      <td>546.0</td>\n      <td>156231.0</td>\n      <td>163.219848</td>\n      <td>349.482497</td>\n      <td>95.0</td>\n      <td>0.467033</td>\n    </tr>\n    <tr>\n      <th>Punta Umbría</th>\n      <td>825.0</td>\n      <td>21.0</td>\n      <td>43.0</td>\n      <td>15355.0</td>\n      <td>136.763269</td>\n      <td>280.039075</td>\n      <td>13.0</td>\n      <td>0.488372</td>\n    </tr>\n    <tr>\n      <th>Manzanilla</th>\n      <td>101.0</td>\n      <td>3.0</td>\n      <td>6.0</td>\n      <td>2118.0</td>\n      <td>141.643059</td>\n      <td>283.286119</td>\n      <td>2.0</td>\n      <td>0.500000</td>\n    </tr>\n    <tr>\n      <th>Zarza-Perrunal (La)</th>\n      <td>25.0</td>\n      <td>1.0</td>\n      <td>2.0</td>\n      <td>1253.0</td>\n      <td>79.808460</td>\n      <td>159.616919</td>\n      <td>0.0</td>\n      <td>0.500000</td>\n    </tr>\n    <tr>\n      <th>Huelva</th>\n      <td>31751.0</td>\n      <td>756.0</td>\n      <td>1508.0</td>\n      <td>513170.0</td>\n      <td>147.319602</td>\n      <td>293.859735</td>\n      <td>272.0</td>\n      <td>0.501326</td>\n    </tr>\n    <tr>\n      <th>Huelva-Costa</th>\n      <td>18269.0</td>\n      <td>410.0</td>\n      <td>817.0</td>\n      <td>289548.0</td>\n      <td>141.600011</td>\n      <td>282.163924</td>\n      <td>154.0</td>\n      <td>0.501836</td>\n    </tr>\n    <tr>\n      <th>Huelva (capital)</th>\n      <td>8491.0</td>\n      <td>295.0</td>\n      <td>581.0</td>\n      <td>143837.0</td>\n      <td>205.093265</td>\n      <td>403.929448</td>\n      <td>110.0</td>\n      <td>0.507745</td>\n    </tr>\n    <tr>\n      <th>Aljaraque</th>\n      <td>1120.0</td>\n      <td>43.0</td>\n      <td>80.0</td>\n      <td>21474.0</td>\n      <td>200.242153</td>\n      <td>372.543541</td>\n      <td>13.0</td>\n      <td>0.537500</td>\n    </tr>\n    <tr>\n      <th>Zalamea la Real</th>\n      <td>94.0</td>\n      <td>4.0</td>\n      <td>7.0</td>\n      <td>3054.0</td>\n      <td>130.975769</td>\n      <td>229.207597</td>\n      <td>3.0</td>\n      <td>0.571429</td>\n    </tr>\n    <tr>\n      <th>San Juan del Puerto</th>\n      <td>520.0</td>\n      <td>25.0</td>\n      <td>43.0</td>\n      <td>9411.0</td>\n      <td>265.646584</td>\n      <td>456.912124</td>\n      <td>16.0</td>\n      <td>0.581395</td>\n    </tr>\n    <tr>\n      <th>Rociana del Condado</th>\n      <td>557.0</td>\n      <td>10.0</td>\n      <td>17.0</td>\n      <td>7939.0</td>\n      <td>125.960448</td>\n      <td>214.132762</td>\n      <td>0.0</td>\n      <td>0.588235</td>\n    </tr>\n    <tr>\n      <th>Cartaya</th>\n      <td>1350.0</td>\n      <td>22.0</td>\n      <td>37.0</td>\n      <td>20083.0</td>\n      <td>109.545387</td>\n      <td>184.235423</td>\n      <td>6.0</td>\n      <td>0.594595</td>\n    </tr>\n    <tr>\n      <th>Villanueva de los Castillejos</th>\n      <td>162.0</td>\n      <td>3.0</td>\n      <td>5.0</td>\n      <td>2825.0</td>\n      <td>106.194690</td>\n      <td>176.991150</td>\n      <td>0.0</td>\n      <td>0.600000</td>\n    </tr>\n    <tr>\n      <th>Palos de la Frontera</th>\n      <td>679.0</td>\n      <td>37.0</td>\n      <td>60.0</td>\n      <td>11742.0</td>\n      <td>315.108159</td>\n      <td>510.986203</td>\n      <td>13.0</td>\n      <td>0.616667</td>\n    </tr>\n    <tr>\n      <th>Sierra de Huelva-Andévalo Central</th>\n      <td>2811.0</td>\n      <td>88.0</td>\n      <td>140.0</td>\n      <td>67391.0</td>\n      <td>130.581235</td>\n      <td>207.742874</td>\n      <td>23.0</td>\n      <td>0.628571</td>\n    </tr>\n    <tr>\n      <th>Valverde del Camino</th>\n      <td>597.0</td>\n      <td>45.0</td>\n      <td>68.0</td>\n      <td>12750.0</td>\n      <td>352.941176</td>\n      <td>533.333333</td>\n      <td>11.0</td>\n      <td>0.661765</td>\n    </tr>\n    <tr>\n      <th>San Bartolomé de la Torre</th>\n      <td>300.0</td>\n      <td>6.0</td>\n      <td>9.0</td>\n      <td>3761.0</td>\n      <td>159.532039</td>\n      <td>239.298059</td>\n      <td>1.0</td>\n      <td>0.666667</td>\n    </tr>\n    <tr>\n      <th>Trigueros</th>\n      <td>317.0</td>\n      <td>17.0</td>\n      <td>25.0</td>\n      <td>7862.0</td>\n      <td>216.229967</td>\n      <td>317.985245</td>\n      <td>11.0</td>\n      <td>0.680000</td>\n    </tr>\n    <tr>\n      <th>Villarrasa</th>\n      <td>177.0</td>\n      <td>10.0</td>\n      <td>14.0</td>\n      <td>2211.0</td>\n      <td>452.284034</td>\n      <td>633.197648</td>\n      <td>5.0</td>\n      <td>0.714286</td>\n    </tr>\n    <tr>\n      <th>Cortegana</th>\n      <td>214.0</td>\n      <td>12.0</td>\n      <td>14.0</td>\n      <td>4602.0</td>\n      <td>260.756193</td>\n      <td>304.215558</td>\n      <td>7.0</td>\n      <td>0.857143</td>\n    </tr>\n    <tr>\n      <th>Puebla de Guzmán</th>\n      <td>120.0</td>\n      <td>7.0</td>\n      <td>8.0</td>\n      <td>3092.0</td>\n      <td>226.390686</td>\n      <td>258.732212</td>\n      <td>2.0</td>\n      <td>0.875000</td>\n    </tr>\n    <tr>\n      <th>Minas de Riotinto</th>\n      <td>127.0</td>\n      <td>9.0</td>\n      <td>10.0</td>\n      <td>3812.0</td>\n      <td>236.096537</td>\n      <td>262.329486</td>\n      <td>0.0</td>\n      <td>0.900000</td>\n    </tr>\n    <tr>\n      <th>Cumbres Mayores</th>\n      <td>52.0</td>\n      <td>2.0</td>\n      <td>2.0</td>\n      <td>1749.0</td>\n      <td>114.351058</td>\n      <td>114.351058</td>\n      <td>1.0</td>\n      <td>1.000000</td>\n    </tr>\n    <tr>\n      <th>Aroche</th>\n      <td>91.0</td>\n      <td>1.0</td>\n      <td>1.0</td>\n      <td>3054.0</td>\n      <td>32.743942</td>\n      <td>32.743942</td>\n      <td>0.0</td>\n      <td>1.000000</td>\n    </tr>\n    <tr>\n      <th>Campillo (El)</th>\n      <td>73.0</td>\n      <td>1.0</td>\n      <td>1.0</td>\n      <td>2024.0</td>\n      <td>49.407115</td>\n      <td>49.407115</td>\n      <td>0.0</td>\n      <td>1.000000</td>\n    </tr>\n    <tr>\n      <th>Campofrío</th>\n      <td>10.0</td>\n      <td>1.0</td>\n      <td>1.0</td>\n      <td>713.0</td>\n      <td>140.252454</td>\n      <td>140.252454</td>\n      <td>0.0</td>\n      <td>1.000000</td>\n    </tr>\n    <tr>\n      <th>Higuera de la Sierra</th>\n      <td>34.0</td>\n      <td>2.0</td>\n      <td>2.0</td>\n      <td>1291.0</td>\n      <td>154.918668</td>\n      <td>154.918668</td>\n      <td>1.0</td>\n      <td>1.000000</td>\n    </tr>\n    <tr>\n      <th>Alosno</th>\n      <td>168.0</td>\n      <td>2.0</td>\n      <td>2.0</td>\n      <td>3933.0</td>\n      <td>50.851767</td>\n      <td>50.851767</td>\n      <td>1.0</td>\n      <td>1.000000</td>\n    </tr>\n  </tbody>\n</table>\n</div>"
     },
     "metadata": {},
     "execution_count": 18
    }
   ],
   "source": [
    "# Peso de la tasa de la última semana en relación con la tasa a 14 días \n",
    "# Mejor cuanto menor. Valor 1 significa que no había casos antes de 7 días.\n",
    "tabla['7/14'] = tabla['tasa7'] / tabla['tasa14']\n",
    "tabla.fillna(0).sort_values('7/14', ascending=True)"
   ]
  },
  {
   "cell_type": "code",
   "execution_count": null,
   "metadata": {},
   "outputs": [],
   "source": []
  }
 ]
}