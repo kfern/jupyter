{
 "metadata": {
  "language_info": {
   "codemirror_mode": {
    "name": "ipython",
    "version": 3
   },
   "file_extension": ".py",
   "mimetype": "text/x-python",
   "name": "python",
   "nbconvert_exporter": "python",
   "pygments_lexer": "ipython3",
   "version": "3.8.6"
  },
  "orig_nbformat": 2,
  "kernelspec": {
   "name": "python3",
   "display_name": "Python 3",
   "language": "python"
  }
 },
 "nbformat": 4,
 "nbformat_minor": 2,
 "cells": [
  {
   "cell_type": "code",
   "execution_count": 1,
   "metadata": {},
   "outputs": [],
   "source": [
    "import pandas as pd\n",
    "pd.set_option('display.max_rows', None) # Print all rows"
   ]
  },
  {
   "cell_type": "code",
   "execution_count": 2,
   "metadata": {},
   "outputs": [],
   "source": [
    "# FIX SSL: CERTIFICATE_VERIFY_FAILED with Python3\n",
    "# https://stackoverflow.com/a/49174340\n",
    "import ssl\n",
    "\n",
    "ssl._create_default_https_context = ssl._create_unverified_context"
   ]
  },
  {
   "cell_type": "code",
   "execution_count": 3,
   "metadata": {},
   "outputs": [],
   "source": [
    "url = 'https://www.juntadeandalucia.es/institutodeestadisticaycartografia/badea/stpivot/stpivot/Print?cube=013d884c-cfc5-4c21-9e78-e26225682afd&type=3&foto=si&ejecutaDesde=&codConsulta=38668&consTipoVisua=JP'\n",
    "fields = ['Lugar de residencia', 'Medida', 'Valor']\n",
    "df = pd.read_csv(url, delimiter=';', usecols=fields, decimal=',')"
   ]
  },
  {
   "cell_type": "code",
   "execution_count": 4,
   "metadata": {},
   "outputs": [
    {
     "output_type": "execute_result",
     "data": {
      "text/plain": [
       "  Lugar de residencia                    Medida               Valor\n",
       "0              Huelva                 Población              513170\n",
       "1              Huelva          Confirmados PDIA               28482\n",
       "2              Huelva  Confirmados PDIA 14 días                1093\n",
       "3              Huelva         Tasa PDIA 14 días  212,98984741898397\n",
       "4              Huelva   Confirmados PDIA 7 días                 447\n",
       "5              Huelva        Total Confirmados                28657\n",
       "6              Huelva                   Curados               24264\n",
       "7              Huelva                Fallecidos                 364"
      ],
      "text/html": "<div>\n<style scoped>\n    .dataframe tbody tr th:only-of-type {\n        vertical-align: middle;\n    }\n\n    .dataframe tbody tr th {\n        vertical-align: top;\n    }\n\n    .dataframe thead th {\n        text-align: right;\n    }\n</style>\n<table border=\"1\" class=\"dataframe\">\n  <thead>\n    <tr style=\"text-align: right;\">\n      <th></th>\n      <th>Lugar de residencia</th>\n      <th>Medida</th>\n      <th>Valor</th>\n    </tr>\n  </thead>\n  <tbody>\n    <tr>\n      <th>0</th>\n      <td>Huelva</td>\n      <td>Población</td>\n      <td>513170</td>\n    </tr>\n    <tr>\n      <th>1</th>\n      <td>Huelva</td>\n      <td>Confirmados PDIA</td>\n      <td>28482</td>\n    </tr>\n    <tr>\n      <th>2</th>\n      <td>Huelva</td>\n      <td>Confirmados PDIA 14 días</td>\n      <td>1093</td>\n    </tr>\n    <tr>\n      <th>3</th>\n      <td>Huelva</td>\n      <td>Tasa PDIA 14 días</td>\n      <td>212,98984741898397</td>\n    </tr>\n    <tr>\n      <th>4</th>\n      <td>Huelva</td>\n      <td>Confirmados PDIA 7 días</td>\n      <td>447</td>\n    </tr>\n    <tr>\n      <th>5</th>\n      <td>Huelva</td>\n      <td>Total Confirmados</td>\n      <td>28657</td>\n    </tr>\n    <tr>\n      <th>6</th>\n      <td>Huelva</td>\n      <td>Curados</td>\n      <td>24264</td>\n    </tr>\n    <tr>\n      <th>7</th>\n      <td>Huelva</td>\n      <td>Fallecidos</td>\n      <td>364</td>\n    </tr>\n  </tbody>\n</table>\n</div>"
     },
     "metadata": {},
     "execution_count": 4
    }
   ],
   "source": [
    "df[df['Lugar de residencia'] == 'Huelva']"
   ]
  },
  {
   "cell_type": "code",
   "execution_count": 5,
   "metadata": {},
   "outputs": [],
   "source": [
    "df['Valor'] = pd.to_numeric(df['Valor'],errors='coerce')"
   ]
  },
  {
   "cell_type": "code",
   "execution_count": 6,
   "metadata": {},
   "outputs": [],
   "source": [
    "dfAnterior = pd.read_csv('covid_huelva.csv', index_col='Lugar de residencia')"
   ]
  },
  {
   "cell_type": "code",
   "execution_count": 7,
   "metadata": {
    "tags": []
   },
   "outputs": [
    {
     "output_type": "stream",
     "name": "stdout",
     "text": [
      "Confirmados PCR en la provincia de Huelva:  28482.0\n",
      "<ipython-input-7-31b732756b19>:2: UserWarning: Boolean Series key will be reindexed to match DataFrame index.\n",
      "  p = df[df['Lugar de residencia'] == 'Huelva'][df['Medida'] == 'Confirmados PDIA']['Valor'].values[0]\n"
     ]
    }
   ],
   "source": [
    "# Confirmados PCR provincia Huelva\n",
    "p = df[df['Lugar de residencia'] == 'Huelva'][df['Medida'] == 'Confirmados PDIA']['Valor'].values[0]\n",
    "print('Confirmados PCR en la provincia de Huelva: ', p)"
   ]
  },
  {
   "cell_type": "code",
   "execution_count": 8,
   "metadata": {
    "tags": []
   },
   "outputs": [
    {
     "output_type": "stream",
     "name": "stdout",
     "text": [
      "Confirmados PCR en Huelva capital:  7387.0\n",
      "<ipython-input-8-e81bfb40e710>:2: UserWarning: Boolean Series key will be reindexed to match DataFrame index.\n",
      "  c = df[df['Lugar de residencia'] == 'Huelva (capital)'][df['Medida'] == 'Confirmados PDIA']['Valor'].values[0]\n"
     ]
    }
   ],
   "source": [
    "# Confirmados PCR Huelva capitalpd\n",
    "c = df[df['Lugar de residencia'] == 'Huelva (capital)'][df['Medida'] == 'Confirmados PDIA']['Valor'].values[0]\n",
    "print('Confirmados PCR en Huelva capital: ', c)"
   ]
  },
  {
   "cell_type": "code",
   "execution_count": 9,
   "metadata": {
    "tags": []
   },
   "outputs": [
    {
     "output_type": "stream",
     "name": "stderr",
     "text": [
      "<ipython-input-9-f09dd2050cc1>:1: UserWarning: Boolean Series key will be reindexed to match DataFrame index.\n  c7 = df[df['Lugar de residencia'] == 'Huelva (capital)'][df['Medida'] == 'Confirmados PDIA 7 días']['Valor'].values[0]\n<ipython-input-9-f09dd2050cc1>:2: UserWarning: Boolean Series key will be reindexed to match DataFrame index.\n  c14 = df[df['Lugar de residencia'] == 'Huelva (capital)'][df['Medida'] == 'Confirmados PDIA 14 días']['Valor'].values[0]\n<ipython-input-9-f09dd2050cc1>:3: UserWarning: Boolean Series key will be reindexed to match DataFrame index.\n  p = df[df['Lugar de residencia'] == 'Huelva (capital)'][df['Medida'] == 'Población']['Valor'].values[0]\n"
     ]
    }
   ],
   "source": [
    "c7 = df[df['Lugar de residencia'] == 'Huelva (capital)'][df['Medida'] == 'Confirmados PDIA 7 días']['Valor'].values[0]\n",
    "c14 = df[df['Lugar de residencia'] == 'Huelva (capital)'][df['Medida'] == 'Confirmados PDIA 14 días']['Valor'].values[0]\n",
    "p = df[df['Lugar de residencia'] == 'Huelva (capital)'][df['Medida'] == 'Población']['Valor'].values[0]"
   ]
  },
  {
   "cell_type": "code",
   "execution_count": 10,
   "metadata": {
    "tags": []
   },
   "outputs": [
    {
     "output_type": "stream",
     "name": "stdout",
     "text": [
      "Huelva (capital)\n\nUn positivo PCR cada 1332 personas en los últimos 7 días \n\nUn positivo PCR cada 566 personas en los últimos 14 días\n"
     ]
    }
   ],
   "source": [
    "print('Huelva (capital)\\n')\n",
    "#print('Confirmados PCR 7 días x 1,000 habitantes: ', f\"{c7/(p/1000):.5f}\")\n",
    "print('Un positivo PCR cada', f\"{p/c7:.0f}\", 'personas en los últimos 7 días', '\\n')\n",
    "#print('Confirmados PCR 14 días x 1,000 habitantes: ', f\"{c14/(p/1000):.5f}\")\n",
    "print('Un positivo PCR cada', f\"{p/c14:.0f}\", 'personas en los últimos 14 días')"
   ]
  },
  {
   "cell_type": "code",
   "execution_count": 11,
   "metadata": {},
   "outputs": [],
   "source": [
    "filtro = ((df['Medida'] == 'Confirmados PDIA')| (df['Medida'] == 'Confirmados PDIA 7 días') | (df['Medida'] == 'Población' ) | (df['Medida'] == 'Confirmados PDIA 14 días')) & (df['Valor'] > 0)\n",
    "tabla = pd.pivot_table(df.loc[filtro], values='Valor', index='Lugar de residencia', columns='Medida').dropna()"
   ]
  },
  {
   "cell_type": "code",
   "execution_count": 12,
   "metadata": {},
   "outputs": [],
   "source": [
    "# Reorder columns\n",
    "tabla = tabla[['Confirmados PDIA', 'Confirmados PDIA 7 días', 'Confirmados PDIA 14 días', 'Población']]"
   ]
  },
  {
   "cell_type": "code",
   "execution_count": 13,
   "metadata": {},
   "outputs": [],
   "source": [
    "tabla['tasa7'] = tabla['Confirmados PDIA 7 días']/tabla['Población']*100000\n",
    "tabla['tasa14'] = tabla['Confirmados PDIA 14 días']/tabla['Población']*100000"
   ]
  },
  {
   "cell_type": "code",
   "execution_count": 14,
   "metadata": {},
   "outputs": [],
   "source": [
    "tabla['Diferencia PDIA'] = tabla['Confirmados PDIA'] - dfAnterior['Confirmados PDIA']"
   ]
  },
  {
   "cell_type": "code",
   "execution_count": 15,
   "metadata": {},
   "outputs": [
    {
     "output_type": "execute_result",
     "data": {
      "text/plain": [
       "Medida                             Confirmados PDIA  Confirmados PDIA 7 días  \\\n",
       "Lugar de residencia                                                            \n",
       "Huelva                                      28482.0                    447.0   \n",
       "Condado-Campiña                              8956.0                    227.0   \n",
       "Huelva-Costa                                16615.0                    182.0   \n",
       "Huelva (capital)                             7387.0                    108.0   \n",
       "Bollullos Par del Condado                     809.0                     34.0   \n",
       "Almonte                                      1498.0                     54.0   \n",
       "Rociana del Condado                           512.0                     16.0   \n",
       "Moguer                                       1096.0                     34.0   \n",
       "Palma del Condado (La)                       1035.0                      7.0   \n",
       "Ayamonte                                     1281.0                     14.0   \n",
       "Cartaya                                      1265.0                     19.0   \n",
       "Sierra de Huelva-Andévalo Central            2539.0                     33.0   \n",
       "Palos de la Frontera                          580.0                      7.0   \n",
       "Gibraleón                                     585.0                      4.0   \n",
       "San Juan del Puerto                           447.0                     14.0   \n",
       "Punta Umbría                                  711.0                     15.0   \n",
       "Rosal de la Frontera                           28.0                      3.0   \n",
       "Aljaraque                                     993.0                      3.0   \n",
       "Lucena del Puerto                             231.0                     25.0   \n",
       "Isla Cristina                                2058.0                     13.0   \n",
       "Cañaveral de León                               5.0                      2.0   \n",
       "Bonares                                       254.0                     12.0   \n",
       "Aracena                                       508.0                      2.0   \n",
       "Valverde del Camino                           473.0                      9.0   \n",
       "Escacena del Campo                            144.0                      1.0   \n",
       "\n",
       "Medida                             Confirmados PDIA 14 días  Población  \\\n",
       "Lugar de residencia                                                      \n",
       "Huelva                                               1093.0   513170.0   \n",
       "Condado-Campiña                                       573.0   156231.0   \n",
       "Huelva-Costa                                          409.0   289548.0   \n",
       "Huelva (capital)                                      254.0   143837.0   \n",
       "Bollullos Par del Condado                              71.0    14387.0   \n",
       "Almonte                                               168.0    24507.0   \n",
       "Rociana del Condado                                    43.0     7939.0   \n",
       "Moguer                                                 77.0    21867.0   \n",
       "Palma del Condado (La)                                 17.0    10801.0   \n",
       "Ayamonte                                               18.0    21104.0   \n",
       "Cartaya                                                50.0    20083.0   \n",
       "Sierra de Huelva-Andévalo Central                      97.0    67391.0   \n",
       "Palos de la Frontera                                   21.0    11742.0   \n",
       "Gibraleón                                              21.0    12737.0   \n",
       "San Juan del Puerto                                    34.0     9411.0   \n",
       "Punta Umbría                                           24.0    15355.0   \n",
       "Rosal de la Frontera                                    3.0     1697.0   \n",
       "Aljaraque                                              14.0    21474.0   \n",
       "Lucena del Puerto                                      42.0     3261.0   \n",
       "Isla Cristina                                          28.0    21393.0   \n",
       "Cañaveral de León                                       2.0      396.0   \n",
       "Bonares                                                29.0     6060.0   \n",
       "Aracena                                                 9.0     8255.0   \n",
       "Valverde del Camino                                    19.0    12750.0   \n",
       "Escacena del Campo                                      1.0     2287.0   \n",
       "\n",
       "Medida                                  tasa7       tasa14  Diferencia PDIA  \n",
       "Lugar de residencia                                                          \n",
       "Huelva                              87.105638   212.989847             71.0  \n",
       "Condado-Campiña                    145.297668   366.764599             39.0  \n",
       "Huelva-Costa                        62.856590   141.254645             30.0  \n",
       "Huelva (capital)                    75.084992   176.588778             18.0  \n",
       "Bollullos Par del Condado          236.324460   493.501077              8.0  \n",
       "Almonte                            220.345207   685.518423              5.0  \n",
       "Rociana del Condado                201.536717   541.629928              5.0  \n",
       "Moguer                             155.485435   352.128779              5.0  \n",
       "Palma del Condado (La)              64.808814   157.392834              5.0  \n",
       "Ayamonte                            66.338135    85.291888              4.0  \n",
       "Cartaya                             94.607379   248.966788              4.0  \n",
       "Sierra de Huelva-Andévalo Central   48.967963   143.936134              4.0  \n",
       "Palos de la Frontera                59.615057   178.845171              3.0  \n",
       "Gibraleón                           31.404569   164.873989              3.0  \n",
       "San Juan del Puerto                148.762087   361.279354              2.0  \n",
       "Punta Umbría                        97.688049   156.300879              2.0  \n",
       "Rosal de la Frontera               176.782557   176.782557              1.0  \n",
       "Aljaraque                           13.970383    65.195120              1.0  \n",
       "Lucena del Puerto                  766.636001  1287.948482              1.0  \n",
       "Isla Cristina                       60.767541   130.883934              1.0  \n",
       "Cañaveral de León                  505.050505   505.050505              1.0  \n",
       "Bonares                            198.019802   478.547855              1.0  \n",
       "Aracena                             24.227741   109.024833              1.0  \n",
       "Valverde del Camino                 70.588235   149.019608              1.0  \n",
       "Escacena del Campo                  43.725404    43.725404              NaN  "
      ],
      "text/html": "<div>\n<style scoped>\n    .dataframe tbody tr th:only-of-type {\n        vertical-align: middle;\n    }\n\n    .dataframe tbody tr th {\n        vertical-align: top;\n    }\n\n    .dataframe thead th {\n        text-align: right;\n    }\n</style>\n<table border=\"1\" class=\"dataframe\">\n  <thead>\n    <tr style=\"text-align: right;\">\n      <th>Medida</th>\n      <th>Confirmados PDIA</th>\n      <th>Confirmados PDIA 7 días</th>\n      <th>Confirmados PDIA 14 días</th>\n      <th>Población</th>\n      <th>tasa7</th>\n      <th>tasa14</th>\n      <th>Diferencia PDIA</th>\n    </tr>\n    <tr>\n      <th>Lugar de residencia</th>\n      <th></th>\n      <th></th>\n      <th></th>\n      <th></th>\n      <th></th>\n      <th></th>\n      <th></th>\n    </tr>\n  </thead>\n  <tbody>\n    <tr>\n      <th>Huelva</th>\n      <td>28482.0</td>\n      <td>447.0</td>\n      <td>1093.0</td>\n      <td>513170.0</td>\n      <td>87.105638</td>\n      <td>212.989847</td>\n      <td>71.0</td>\n    </tr>\n    <tr>\n      <th>Condado-Campiña</th>\n      <td>8956.0</td>\n      <td>227.0</td>\n      <td>573.0</td>\n      <td>156231.0</td>\n      <td>145.297668</td>\n      <td>366.764599</td>\n      <td>39.0</td>\n    </tr>\n    <tr>\n      <th>Huelva-Costa</th>\n      <td>16615.0</td>\n      <td>182.0</td>\n      <td>409.0</td>\n      <td>289548.0</td>\n      <td>62.856590</td>\n      <td>141.254645</td>\n      <td>30.0</td>\n    </tr>\n    <tr>\n      <th>Huelva (capital)</th>\n      <td>7387.0</td>\n      <td>108.0</td>\n      <td>254.0</td>\n      <td>143837.0</td>\n      <td>75.084992</td>\n      <td>176.588778</td>\n      <td>18.0</td>\n    </tr>\n    <tr>\n      <th>Bollullos Par del Condado</th>\n      <td>809.0</td>\n      <td>34.0</td>\n      <td>71.0</td>\n      <td>14387.0</td>\n      <td>236.324460</td>\n      <td>493.501077</td>\n      <td>8.0</td>\n    </tr>\n    <tr>\n      <th>Almonte</th>\n      <td>1498.0</td>\n      <td>54.0</td>\n      <td>168.0</td>\n      <td>24507.0</td>\n      <td>220.345207</td>\n      <td>685.518423</td>\n      <td>5.0</td>\n    </tr>\n    <tr>\n      <th>Rociana del Condado</th>\n      <td>512.0</td>\n      <td>16.0</td>\n      <td>43.0</td>\n      <td>7939.0</td>\n      <td>201.536717</td>\n      <td>541.629928</td>\n      <td>5.0</td>\n    </tr>\n    <tr>\n      <th>Moguer</th>\n      <td>1096.0</td>\n      <td>34.0</td>\n      <td>77.0</td>\n      <td>21867.0</td>\n      <td>155.485435</td>\n      <td>352.128779</td>\n      <td>5.0</td>\n    </tr>\n    <tr>\n      <th>Palma del Condado (La)</th>\n      <td>1035.0</td>\n      <td>7.0</td>\n      <td>17.0</td>\n      <td>10801.0</td>\n      <td>64.808814</td>\n      <td>157.392834</td>\n      <td>5.0</td>\n    </tr>\n    <tr>\n      <th>Ayamonte</th>\n      <td>1281.0</td>\n      <td>14.0</td>\n      <td>18.0</td>\n      <td>21104.0</td>\n      <td>66.338135</td>\n      <td>85.291888</td>\n      <td>4.0</td>\n    </tr>\n    <tr>\n      <th>Cartaya</th>\n      <td>1265.0</td>\n      <td>19.0</td>\n      <td>50.0</td>\n      <td>20083.0</td>\n      <td>94.607379</td>\n      <td>248.966788</td>\n      <td>4.0</td>\n    </tr>\n    <tr>\n      <th>Sierra de Huelva-Andévalo Central</th>\n      <td>2539.0</td>\n      <td>33.0</td>\n      <td>97.0</td>\n      <td>67391.0</td>\n      <td>48.967963</td>\n      <td>143.936134</td>\n      <td>4.0</td>\n    </tr>\n    <tr>\n      <th>Palos de la Frontera</th>\n      <td>580.0</td>\n      <td>7.0</td>\n      <td>21.0</td>\n      <td>11742.0</td>\n      <td>59.615057</td>\n      <td>178.845171</td>\n      <td>3.0</td>\n    </tr>\n    <tr>\n      <th>Gibraleón</th>\n      <td>585.0</td>\n      <td>4.0</td>\n      <td>21.0</td>\n      <td>12737.0</td>\n      <td>31.404569</td>\n      <td>164.873989</td>\n      <td>3.0</td>\n    </tr>\n    <tr>\n      <th>San Juan del Puerto</th>\n      <td>447.0</td>\n      <td>14.0</td>\n      <td>34.0</td>\n      <td>9411.0</td>\n      <td>148.762087</td>\n      <td>361.279354</td>\n      <td>2.0</td>\n    </tr>\n    <tr>\n      <th>Punta Umbría</th>\n      <td>711.0</td>\n      <td>15.0</td>\n      <td>24.0</td>\n      <td>15355.0</td>\n      <td>97.688049</td>\n      <td>156.300879</td>\n      <td>2.0</td>\n    </tr>\n    <tr>\n      <th>Rosal de la Frontera</th>\n      <td>28.0</td>\n      <td>3.0</td>\n      <td>3.0</td>\n      <td>1697.0</td>\n      <td>176.782557</td>\n      <td>176.782557</td>\n      <td>1.0</td>\n    </tr>\n    <tr>\n      <th>Aljaraque</th>\n      <td>993.0</td>\n      <td>3.0</td>\n      <td>14.0</td>\n      <td>21474.0</td>\n      <td>13.970383</td>\n      <td>65.195120</td>\n      <td>1.0</td>\n    </tr>\n    <tr>\n      <th>Lucena del Puerto</th>\n      <td>231.0</td>\n      <td>25.0</td>\n      <td>42.0</td>\n      <td>3261.0</td>\n      <td>766.636001</td>\n      <td>1287.948482</td>\n      <td>1.0</td>\n    </tr>\n    <tr>\n      <th>Isla Cristina</th>\n      <td>2058.0</td>\n      <td>13.0</td>\n      <td>28.0</td>\n      <td>21393.0</td>\n      <td>60.767541</td>\n      <td>130.883934</td>\n      <td>1.0</td>\n    </tr>\n    <tr>\n      <th>Cañaveral de León</th>\n      <td>5.0</td>\n      <td>2.0</td>\n      <td>2.0</td>\n      <td>396.0</td>\n      <td>505.050505</td>\n      <td>505.050505</td>\n      <td>1.0</td>\n    </tr>\n    <tr>\n      <th>Bonares</th>\n      <td>254.0</td>\n      <td>12.0</td>\n      <td>29.0</td>\n      <td>6060.0</td>\n      <td>198.019802</td>\n      <td>478.547855</td>\n      <td>1.0</td>\n    </tr>\n    <tr>\n      <th>Aracena</th>\n      <td>508.0</td>\n      <td>2.0</td>\n      <td>9.0</td>\n      <td>8255.0</td>\n      <td>24.227741</td>\n      <td>109.024833</td>\n      <td>1.0</td>\n    </tr>\n    <tr>\n      <th>Valverde del Camino</th>\n      <td>473.0</td>\n      <td>9.0</td>\n      <td>19.0</td>\n      <td>12750.0</td>\n      <td>70.588235</td>\n      <td>149.019608</td>\n      <td>1.0</td>\n    </tr>\n    <tr>\n      <th>Escacena del Campo</th>\n      <td>144.0</td>\n      <td>1.0</td>\n      <td>1.0</td>\n      <td>2287.0</td>\n      <td>43.725404</td>\n      <td>43.725404</td>\n      <td>NaN</td>\n    </tr>\n  </tbody>\n</table>\n</div>"
     },
     "metadata": {},
     "execution_count": 15
    }
   ],
   "source": [
    "# Nuevos casos desde la última captura\n",
    "tabla[tabla['Diferencia PDIA'] != 0].sort_values('Diferencia PDIA', ascending=False)"
   ]
  },
  {
   "cell_type": "code",
   "execution_count": 16,
   "metadata": {},
   "outputs": [],
   "source": [
    "if tabla[tabla['Diferencia PDIA'] != 0]['Diferencia PDIA'].sum() != 0:\n",
    "  # Save to csv\n",
    "  tabla.to_csv('covid_huelva.csv', encoding='utf-8', header=True, index=True)  "
   ]
  },
  {
   "cell_type": "code",
   "execution_count": 17,
   "metadata": {},
   "outputs": [
    {
     "output_type": "execute_result",
     "data": {
      "text/plain": [
       "Medida                             Confirmados PDIA  Confirmados PDIA 7 días  \\\n",
       "Lugar de residencia                                                            \n",
       "Lucena del Puerto                             231.0                     25.0   \n",
       "Cumbres Mayores                                49.0                      1.0   \n",
       "Cortelazor                                      7.0                      2.0   \n",
       "Galaroza                                       27.0                      2.0   \n",
       "Almonte                                      1498.0                     54.0   \n",
       "Rociana del Condado                           512.0                     16.0   \n",
       "Beas                                          197.0                     11.0   \n",
       "Cañaveral de León                               5.0                      2.0   \n",
       "Bollullos Par del Condado                     809.0                     34.0   \n",
       "Bonares                                       254.0                     12.0   \n",
       "Condado-Campiña                              8956.0                    227.0   \n",
       "San Juan del Puerto                           447.0                     14.0   \n",
       "Moguer                                       1096.0                     34.0   \n",
       "Fuenteheridos                                   8.0                      2.0   \n",
       "Cartaya                                      1265.0                     19.0   \n",
       "Huelva                                      28482.0                    447.0   \n",
       "Palos de la Frontera                          580.0                      7.0   \n",
       "Trigueros                                     267.0                      7.0   \n",
       "Rosal de la Frontera                           28.0                      3.0   \n",
       "Huelva (capital)                             7387.0                    108.0   \n",
       "Almonaster la Real                             65.0                      2.0   \n",
       "Gibraleón                                     585.0                      4.0   \n",
       "San Silvestre de Guzmán                        15.0                      1.0   \n",
       "Palma del Condado (La)                       1035.0                      7.0   \n",
       "Punta Umbría                                  711.0                     15.0   \n",
       "Cortegana                                     199.0                      5.0   \n",
       "Valverde del Camino                           473.0                      9.0   \n",
       "Niebla                                        193.0                      1.0   \n",
       "Sierra de Huelva-Andévalo Central            2539.0                     33.0   \n",
       "Huelva-Costa                                16615.0                    182.0   \n",
       "Minas de Riotinto                             111.0                      2.0   \n",
       "Isla Cristina                                2058.0                     13.0   \n",
       "Aracena                                       508.0                      2.0   \n",
       "Aroche                                         90.0                      1.0   \n",
       "Ayamonte                                     1281.0                     14.0   \n",
       "Aljaraque                                     993.0                      3.0   \n",
       "Lepe                                         2078.0                      7.0   \n",
       "Escacena del Campo                            144.0                      1.0   \n",
       "Villablanca                                   179.0                      1.0   \n",
       "Alosno                                        162.0                      1.0   \n",
       "\n",
       "Medida                             Confirmados PDIA 14 días  Población  \\\n",
       "Lugar de residencia                                                      \n",
       "Lucena del Puerto                                      42.0     3261.0   \n",
       "Cumbres Mayores                                        22.0     1749.0   \n",
       "Cortelazor                                              3.0      299.0   \n",
       "Galaroza                                               10.0     1382.0   \n",
       "Almonte                                               168.0    24507.0   \n",
       "Rociana del Condado                                    43.0     7939.0   \n",
       "Beas                                                   23.0     4341.0   \n",
       "Cañaveral de León                                       2.0      396.0   \n",
       "Bollullos Par del Condado                              71.0    14387.0   \n",
       "Bonares                                                29.0     6060.0   \n",
       "Condado-Campiña                                       573.0   156231.0   \n",
       "San Juan del Puerto                                    34.0     9411.0   \n",
       "Moguer                                                 77.0    21867.0   \n",
       "Fuenteheridos                                           2.0      709.0   \n",
       "Cartaya                                                50.0    20083.0   \n",
       "Huelva                                               1093.0   513170.0   \n",
       "Palos de la Frontera                                   21.0    11742.0   \n",
       "Trigueros                                              14.0     7862.0   \n",
       "Rosal de la Frontera                                    3.0     1697.0   \n",
       "Huelva (capital)                                      254.0   143837.0   \n",
       "Almonaster la Real                                      3.0     1788.0   \n",
       "Gibraleón                                              21.0    12737.0   \n",
       "San Silvestre de Guzmán                                 1.0      614.0   \n",
       "Palma del Condado (La)                                 17.0    10801.0   \n",
       "Punta Umbría                                           24.0    15355.0   \n",
       "Cortegana                                               7.0     4602.0   \n",
       "Valverde del Camino                                    19.0    12750.0   \n",
       "Niebla                                                  6.0     4116.0   \n",
       "Sierra de Huelva-Andévalo Central                      97.0    67391.0   \n",
       "Huelva-Costa                                          409.0   289548.0   \n",
       "Minas de Riotinto                                       5.0     3812.0   \n",
       "Isla Cristina                                          28.0    21393.0   \n",
       "Aracena                                                 9.0     8255.0   \n",
       "Aroche                                                  3.0     3054.0   \n",
       "Ayamonte                                               18.0    21104.0   \n",
       "Aljaraque                                              14.0    21474.0   \n",
       "Lepe                                                   17.0    27880.0   \n",
       "Escacena del Campo                                      1.0     2287.0   \n",
       "Villablanca                                             1.0     2885.0   \n",
       "Alosno                                                  1.0     3933.0   \n",
       "\n",
       "Medida                                  tasa7       tasa14  Diferencia PDIA  \n",
       "Lugar de residencia                                                          \n",
       "Lucena del Puerto                  766.636001  1287.948482              1.0  \n",
       "Cumbres Mayores                     57.175529  1257.861635              0.0  \n",
       "Cortelazor                         668.896321  1003.344482              0.0  \n",
       "Galaroza                           144.717800   723.589001              0.0  \n",
       "Almonte                            220.345207   685.518423              5.0  \n",
       "Rociana del Condado                201.536717   541.629928              5.0  \n",
       "Beas                               253.397835   529.831836              0.0  \n",
       "Cañaveral de León                  505.050505   505.050505              1.0  \n",
       "Bollullos Par del Condado          236.324460   493.501077              8.0  \n",
       "Bonares                            198.019802   478.547855              1.0  \n",
       "Condado-Campiña                    145.297668   366.764599             39.0  \n",
       "San Juan del Puerto                148.762087   361.279354              2.0  \n",
       "Moguer                             155.485435   352.128779              5.0  \n",
       "Fuenteheridos                      282.087447   282.087447              0.0  \n",
       "Cartaya                             94.607379   248.966788              4.0  \n",
       "Huelva                              87.105638   212.989847             71.0  \n",
       "Palos de la Frontera                59.615057   178.845171              3.0  \n",
       "Trigueros                           89.035869   178.071737              0.0  \n",
       "Rosal de la Frontera               176.782557   176.782557              1.0  \n",
       "Huelva (capital)                    75.084992   176.588778             18.0  \n",
       "Almonaster la Real                 111.856823   167.785235              0.0  \n",
       "Gibraleón                           31.404569   164.873989              3.0  \n",
       "San Silvestre de Guzmán            162.866450   162.866450              0.0  \n",
       "Palma del Condado (La)              64.808814   157.392834              5.0  \n",
       "Punta Umbría                        97.688049   156.300879              2.0  \n",
       "Cortegana                          108.648414   152.107779              0.0  \n",
       "Valverde del Camino                 70.588235   149.019608              1.0  \n",
       "Niebla                              24.295432   145.772595              0.0  \n",
       "Sierra de Huelva-Andévalo Central   48.967963   143.936134              4.0  \n",
       "Huelva-Costa                        62.856590   141.254645             30.0  \n",
       "Minas de Riotinto                   52.465897   131.164743              0.0  \n",
       "Isla Cristina                       60.767541   130.883934              1.0  \n",
       "Aracena                             24.227741   109.024833              1.0  \n",
       "Aroche                              32.743942    98.231827              0.0  \n",
       "Ayamonte                            66.338135    85.291888              4.0  \n",
       "Aljaraque                           13.970383    65.195120              1.0  \n",
       "Lepe                                25.107604    60.975610              0.0  \n",
       "Escacena del Campo                  43.725404    43.725404              NaN  \n",
       "Villablanca                         34.662045    34.662045              0.0  \n",
       "Alosno                              25.425884    25.425884              0.0  "
      ],
      "text/html": "<div>\n<style scoped>\n    .dataframe tbody tr th:only-of-type {\n        vertical-align: middle;\n    }\n\n    .dataframe tbody tr th {\n        vertical-align: top;\n    }\n\n    .dataframe thead th {\n        text-align: right;\n    }\n</style>\n<table border=\"1\" class=\"dataframe\">\n  <thead>\n    <tr style=\"text-align: right;\">\n      <th>Medida</th>\n      <th>Confirmados PDIA</th>\n      <th>Confirmados PDIA 7 días</th>\n      <th>Confirmados PDIA 14 días</th>\n      <th>Población</th>\n      <th>tasa7</th>\n      <th>tasa14</th>\n      <th>Diferencia PDIA</th>\n    </tr>\n    <tr>\n      <th>Lugar de residencia</th>\n      <th></th>\n      <th></th>\n      <th></th>\n      <th></th>\n      <th></th>\n      <th></th>\n      <th></th>\n    </tr>\n  </thead>\n  <tbody>\n    <tr>\n      <th>Lucena del Puerto</th>\n      <td>231.0</td>\n      <td>25.0</td>\n      <td>42.0</td>\n      <td>3261.0</td>\n      <td>766.636001</td>\n      <td>1287.948482</td>\n      <td>1.0</td>\n    </tr>\n    <tr>\n      <th>Cumbres Mayores</th>\n      <td>49.0</td>\n      <td>1.0</td>\n      <td>22.0</td>\n      <td>1749.0</td>\n      <td>57.175529</td>\n      <td>1257.861635</td>\n      <td>0.0</td>\n    </tr>\n    <tr>\n      <th>Cortelazor</th>\n      <td>7.0</td>\n      <td>2.0</td>\n      <td>3.0</td>\n      <td>299.0</td>\n      <td>668.896321</td>\n      <td>1003.344482</td>\n      <td>0.0</td>\n    </tr>\n    <tr>\n      <th>Galaroza</th>\n      <td>27.0</td>\n      <td>2.0</td>\n      <td>10.0</td>\n      <td>1382.0</td>\n      <td>144.717800</td>\n      <td>723.589001</td>\n      <td>0.0</td>\n    </tr>\n    <tr>\n      <th>Almonte</th>\n      <td>1498.0</td>\n      <td>54.0</td>\n      <td>168.0</td>\n      <td>24507.0</td>\n      <td>220.345207</td>\n      <td>685.518423</td>\n      <td>5.0</td>\n    </tr>\n    <tr>\n      <th>Rociana del Condado</th>\n      <td>512.0</td>\n      <td>16.0</td>\n      <td>43.0</td>\n      <td>7939.0</td>\n      <td>201.536717</td>\n      <td>541.629928</td>\n      <td>5.0</td>\n    </tr>\n    <tr>\n      <th>Beas</th>\n      <td>197.0</td>\n      <td>11.0</td>\n      <td>23.0</td>\n      <td>4341.0</td>\n      <td>253.397835</td>\n      <td>529.831836</td>\n      <td>0.0</td>\n    </tr>\n    <tr>\n      <th>Cañaveral de León</th>\n      <td>5.0</td>\n      <td>2.0</td>\n      <td>2.0</td>\n      <td>396.0</td>\n      <td>505.050505</td>\n      <td>505.050505</td>\n      <td>1.0</td>\n    </tr>\n    <tr>\n      <th>Bollullos Par del Condado</th>\n      <td>809.0</td>\n      <td>34.0</td>\n      <td>71.0</td>\n      <td>14387.0</td>\n      <td>236.324460</td>\n      <td>493.501077</td>\n      <td>8.0</td>\n    </tr>\n    <tr>\n      <th>Bonares</th>\n      <td>254.0</td>\n      <td>12.0</td>\n      <td>29.0</td>\n      <td>6060.0</td>\n      <td>198.019802</td>\n      <td>478.547855</td>\n      <td>1.0</td>\n    </tr>\n    <tr>\n      <th>Condado-Campiña</th>\n      <td>8956.0</td>\n      <td>227.0</td>\n      <td>573.0</td>\n      <td>156231.0</td>\n      <td>145.297668</td>\n      <td>366.764599</td>\n      <td>39.0</td>\n    </tr>\n    <tr>\n      <th>San Juan del Puerto</th>\n      <td>447.0</td>\n      <td>14.0</td>\n      <td>34.0</td>\n      <td>9411.0</td>\n      <td>148.762087</td>\n      <td>361.279354</td>\n      <td>2.0</td>\n    </tr>\n    <tr>\n      <th>Moguer</th>\n      <td>1096.0</td>\n      <td>34.0</td>\n      <td>77.0</td>\n      <td>21867.0</td>\n      <td>155.485435</td>\n      <td>352.128779</td>\n      <td>5.0</td>\n    </tr>\n    <tr>\n      <th>Fuenteheridos</th>\n      <td>8.0</td>\n      <td>2.0</td>\n      <td>2.0</td>\n      <td>709.0</td>\n      <td>282.087447</td>\n      <td>282.087447</td>\n      <td>0.0</td>\n    </tr>\n    <tr>\n      <th>Cartaya</th>\n      <td>1265.0</td>\n      <td>19.0</td>\n      <td>50.0</td>\n      <td>20083.0</td>\n      <td>94.607379</td>\n      <td>248.966788</td>\n      <td>4.0</td>\n    </tr>\n    <tr>\n      <th>Huelva</th>\n      <td>28482.0</td>\n      <td>447.0</td>\n      <td>1093.0</td>\n      <td>513170.0</td>\n      <td>87.105638</td>\n      <td>212.989847</td>\n      <td>71.0</td>\n    </tr>\n    <tr>\n      <th>Palos de la Frontera</th>\n      <td>580.0</td>\n      <td>7.0</td>\n      <td>21.0</td>\n      <td>11742.0</td>\n      <td>59.615057</td>\n      <td>178.845171</td>\n      <td>3.0</td>\n    </tr>\n    <tr>\n      <th>Trigueros</th>\n      <td>267.0</td>\n      <td>7.0</td>\n      <td>14.0</td>\n      <td>7862.0</td>\n      <td>89.035869</td>\n      <td>178.071737</td>\n      <td>0.0</td>\n    </tr>\n    <tr>\n      <th>Rosal de la Frontera</th>\n      <td>28.0</td>\n      <td>3.0</td>\n      <td>3.0</td>\n      <td>1697.0</td>\n      <td>176.782557</td>\n      <td>176.782557</td>\n      <td>1.0</td>\n    </tr>\n    <tr>\n      <th>Huelva (capital)</th>\n      <td>7387.0</td>\n      <td>108.0</td>\n      <td>254.0</td>\n      <td>143837.0</td>\n      <td>75.084992</td>\n      <td>176.588778</td>\n      <td>18.0</td>\n    </tr>\n    <tr>\n      <th>Almonaster la Real</th>\n      <td>65.0</td>\n      <td>2.0</td>\n      <td>3.0</td>\n      <td>1788.0</td>\n      <td>111.856823</td>\n      <td>167.785235</td>\n      <td>0.0</td>\n    </tr>\n    <tr>\n      <th>Gibraleón</th>\n      <td>585.0</td>\n      <td>4.0</td>\n      <td>21.0</td>\n      <td>12737.0</td>\n      <td>31.404569</td>\n      <td>164.873989</td>\n      <td>3.0</td>\n    </tr>\n    <tr>\n      <th>San Silvestre de Guzmán</th>\n      <td>15.0</td>\n      <td>1.0</td>\n      <td>1.0</td>\n      <td>614.0</td>\n      <td>162.866450</td>\n      <td>162.866450</td>\n      <td>0.0</td>\n    </tr>\n    <tr>\n      <th>Palma del Condado (La)</th>\n      <td>1035.0</td>\n      <td>7.0</td>\n      <td>17.0</td>\n      <td>10801.0</td>\n      <td>64.808814</td>\n      <td>157.392834</td>\n      <td>5.0</td>\n    </tr>\n    <tr>\n      <th>Punta Umbría</th>\n      <td>711.0</td>\n      <td>15.0</td>\n      <td>24.0</td>\n      <td>15355.0</td>\n      <td>97.688049</td>\n      <td>156.300879</td>\n      <td>2.0</td>\n    </tr>\n    <tr>\n      <th>Cortegana</th>\n      <td>199.0</td>\n      <td>5.0</td>\n      <td>7.0</td>\n      <td>4602.0</td>\n      <td>108.648414</td>\n      <td>152.107779</td>\n      <td>0.0</td>\n    </tr>\n    <tr>\n      <th>Valverde del Camino</th>\n      <td>473.0</td>\n      <td>9.0</td>\n      <td>19.0</td>\n      <td>12750.0</td>\n      <td>70.588235</td>\n      <td>149.019608</td>\n      <td>1.0</td>\n    </tr>\n    <tr>\n      <th>Niebla</th>\n      <td>193.0</td>\n      <td>1.0</td>\n      <td>6.0</td>\n      <td>4116.0</td>\n      <td>24.295432</td>\n      <td>145.772595</td>\n      <td>0.0</td>\n    </tr>\n    <tr>\n      <th>Sierra de Huelva-Andévalo Central</th>\n      <td>2539.0</td>\n      <td>33.0</td>\n      <td>97.0</td>\n      <td>67391.0</td>\n      <td>48.967963</td>\n      <td>143.936134</td>\n      <td>4.0</td>\n    </tr>\n    <tr>\n      <th>Huelva-Costa</th>\n      <td>16615.0</td>\n      <td>182.0</td>\n      <td>409.0</td>\n      <td>289548.0</td>\n      <td>62.856590</td>\n      <td>141.254645</td>\n      <td>30.0</td>\n    </tr>\n    <tr>\n      <th>Minas de Riotinto</th>\n      <td>111.0</td>\n      <td>2.0</td>\n      <td>5.0</td>\n      <td>3812.0</td>\n      <td>52.465897</td>\n      <td>131.164743</td>\n      <td>0.0</td>\n    </tr>\n    <tr>\n      <th>Isla Cristina</th>\n      <td>2058.0</td>\n      <td>13.0</td>\n      <td>28.0</td>\n      <td>21393.0</td>\n      <td>60.767541</td>\n      <td>130.883934</td>\n      <td>1.0</td>\n    </tr>\n    <tr>\n      <th>Aracena</th>\n      <td>508.0</td>\n      <td>2.0</td>\n      <td>9.0</td>\n      <td>8255.0</td>\n      <td>24.227741</td>\n      <td>109.024833</td>\n      <td>1.0</td>\n    </tr>\n    <tr>\n      <th>Aroche</th>\n      <td>90.0</td>\n      <td>1.0</td>\n      <td>3.0</td>\n      <td>3054.0</td>\n      <td>32.743942</td>\n      <td>98.231827</td>\n      <td>0.0</td>\n    </tr>\n    <tr>\n      <th>Ayamonte</th>\n      <td>1281.0</td>\n      <td>14.0</td>\n      <td>18.0</td>\n      <td>21104.0</td>\n      <td>66.338135</td>\n      <td>85.291888</td>\n      <td>4.0</td>\n    </tr>\n    <tr>\n      <th>Aljaraque</th>\n      <td>993.0</td>\n      <td>3.0</td>\n      <td>14.0</td>\n      <td>21474.0</td>\n      <td>13.970383</td>\n      <td>65.195120</td>\n      <td>1.0</td>\n    </tr>\n    <tr>\n      <th>Lepe</th>\n      <td>2078.0</td>\n      <td>7.0</td>\n      <td>17.0</td>\n      <td>27880.0</td>\n      <td>25.107604</td>\n      <td>60.975610</td>\n      <td>0.0</td>\n    </tr>\n    <tr>\n      <th>Escacena del Campo</th>\n      <td>144.0</td>\n      <td>1.0</td>\n      <td>1.0</td>\n      <td>2287.0</td>\n      <td>43.725404</td>\n      <td>43.725404</td>\n      <td>NaN</td>\n    </tr>\n    <tr>\n      <th>Villablanca</th>\n      <td>179.0</td>\n      <td>1.0</td>\n      <td>1.0</td>\n      <td>2885.0</td>\n      <td>34.662045</td>\n      <td>34.662045</td>\n      <td>0.0</td>\n    </tr>\n    <tr>\n      <th>Alosno</th>\n      <td>162.0</td>\n      <td>1.0</td>\n      <td>1.0</td>\n      <td>3933.0</td>\n      <td>25.425884</td>\n      <td>25.425884</td>\n      <td>0.0</td>\n    </tr>\n  </tbody>\n</table>\n</div>"
     },
     "metadata": {},
     "execution_count": 17
    }
   ],
   "source": [
    "tabla.sort_values('tasa14', ascending=False)"
   ]
  },
  {
   "cell_type": "code",
   "execution_count": 18,
   "metadata": {},
   "outputs": [
    {
     "output_type": "execute_result",
     "data": {
      "text/plain": [
       "Medida                             Confirmados PDIA  Confirmados PDIA 7 días  \\\n",
       "Lugar de residencia                                                            \n",
       "Cumbres Mayores                                49.0                      1.0   \n",
       "Niebla                                        193.0                      1.0   \n",
       "Gibraleón                                     585.0                      4.0   \n",
       "Galaroza                                       27.0                      2.0   \n",
       "Aljaraque                                     993.0                      3.0   \n",
       "Aracena                                       508.0                      2.0   \n",
       "Almonte                                      1498.0                     54.0   \n",
       "Aroche                                         90.0                      1.0   \n",
       "Palos de la Frontera                          580.0                      7.0   \n",
       "Sierra de Huelva-Andévalo Central            2539.0                     33.0   \n",
       "Rociana del Condado                           512.0                     16.0   \n",
       "Cartaya                                      1265.0                     19.0   \n",
       "Condado-Campiña                              8956.0                    227.0   \n",
       "Minas de Riotinto                             111.0                      2.0   \n",
       "Huelva                                      28482.0                    447.0   \n",
       "Palma del Condado (La)                       1035.0                      7.0   \n",
       "Lepe                                         2078.0                      7.0   \n",
       "San Juan del Puerto                           447.0                     14.0   \n",
       "Bonares                                       254.0                     12.0   \n",
       "Huelva (capital)                             7387.0                    108.0   \n",
       "Moguer                                       1096.0                     34.0   \n",
       "Huelva-Costa                                16615.0                    182.0   \n",
       "Isla Cristina                                2058.0                     13.0   \n",
       "Valverde del Camino                           473.0                      9.0   \n",
       "Beas                                          197.0                     11.0   \n",
       "Bollullos Par del Condado                     809.0                     34.0   \n",
       "Trigueros                                     267.0                      7.0   \n",
       "Lucena del Puerto                             231.0                     25.0   \n",
       "Punta Umbría                                  711.0                     15.0   \n",
       "Cortelazor                                      7.0                      2.0   \n",
       "Almonaster la Real                             65.0                      2.0   \n",
       "Cortegana                                     199.0                      5.0   \n",
       "Ayamonte                                     1281.0                     14.0   \n",
       "Fuenteheridos                                   8.0                      2.0   \n",
       "San Silvestre de Guzmán                        15.0                      1.0   \n",
       "Cañaveral de León                               5.0                      2.0   \n",
       "Alosno                                        162.0                      1.0   \n",
       "Escacena del Campo                            144.0                      1.0   \n",
       "Rosal de la Frontera                           28.0                      3.0   \n",
       "Villablanca                                   179.0                      1.0   \n",
       "\n",
       "Medida                             Confirmados PDIA 14 días  Población  \\\n",
       "Lugar de residencia                                                      \n",
       "Cumbres Mayores                                        22.0     1749.0   \n",
       "Niebla                                                  6.0     4116.0   \n",
       "Gibraleón                                              21.0    12737.0   \n",
       "Galaroza                                               10.0     1382.0   \n",
       "Aljaraque                                              14.0    21474.0   \n",
       "Aracena                                                 9.0     8255.0   \n",
       "Almonte                                               168.0    24507.0   \n",
       "Aroche                                                  3.0     3054.0   \n",
       "Palos de la Frontera                                   21.0    11742.0   \n",
       "Sierra de Huelva-Andévalo Central                      97.0    67391.0   \n",
       "Rociana del Condado                                    43.0     7939.0   \n",
       "Cartaya                                                50.0    20083.0   \n",
       "Condado-Campiña                                       573.0   156231.0   \n",
       "Minas de Riotinto                                       5.0     3812.0   \n",
       "Huelva                                               1093.0   513170.0   \n",
       "Palma del Condado (La)                                 17.0    10801.0   \n",
       "Lepe                                                   17.0    27880.0   \n",
       "San Juan del Puerto                                    34.0     9411.0   \n",
       "Bonares                                                29.0     6060.0   \n",
       "Huelva (capital)                                      254.0   143837.0   \n",
       "Moguer                                                 77.0    21867.0   \n",
       "Huelva-Costa                                          409.0   289548.0   \n",
       "Isla Cristina                                          28.0    21393.0   \n",
       "Valverde del Camino                                    19.0    12750.0   \n",
       "Beas                                                   23.0     4341.0   \n",
       "Bollullos Par del Condado                              71.0    14387.0   \n",
       "Trigueros                                              14.0     7862.0   \n",
       "Lucena del Puerto                                      42.0     3261.0   \n",
       "Punta Umbría                                           24.0    15355.0   \n",
       "Cortelazor                                              3.0      299.0   \n",
       "Almonaster la Real                                      3.0     1788.0   \n",
       "Cortegana                                               7.0     4602.0   \n",
       "Ayamonte                                               18.0    21104.0   \n",
       "Fuenteheridos                                           2.0      709.0   \n",
       "San Silvestre de Guzmán                                 1.0      614.0   \n",
       "Cañaveral de León                                       2.0      396.0   \n",
       "Alosno                                                  1.0     3933.0   \n",
       "Escacena del Campo                                      1.0     2287.0   \n",
       "Rosal de la Frontera                                    3.0     1697.0   \n",
       "Villablanca                                             1.0     2885.0   \n",
       "\n",
       "Medida                                  tasa7       tasa14  Diferencia PDIA  \\\n",
       "Lugar de residencia                                                           \n",
       "Cumbres Mayores                     57.175529  1257.861635              0.0   \n",
       "Niebla                              24.295432   145.772595              0.0   \n",
       "Gibraleón                           31.404569   164.873989              3.0   \n",
       "Galaroza                           144.717800   723.589001              0.0   \n",
       "Aljaraque                           13.970383    65.195120              1.0   \n",
       "Aracena                             24.227741   109.024833              1.0   \n",
       "Almonte                            220.345207   685.518423              5.0   \n",
       "Aroche                              32.743942    98.231827              0.0   \n",
       "Palos de la Frontera                59.615057   178.845171              3.0   \n",
       "Sierra de Huelva-Andévalo Central   48.967963   143.936134              4.0   \n",
       "Rociana del Condado                201.536717   541.629928              5.0   \n",
       "Cartaya                             94.607379   248.966788              4.0   \n",
       "Condado-Campiña                    145.297668   366.764599             39.0   \n",
       "Minas de Riotinto                   52.465897   131.164743              0.0   \n",
       "Huelva                              87.105638   212.989847             71.0   \n",
       "Palma del Condado (La)              64.808814   157.392834              5.0   \n",
       "Lepe                                25.107604    60.975610              0.0   \n",
       "San Juan del Puerto                148.762087   361.279354              2.0   \n",
       "Bonares                            198.019802   478.547855              1.0   \n",
       "Huelva (capital)                    75.084992   176.588778             18.0   \n",
       "Moguer                             155.485435   352.128779              5.0   \n",
       "Huelva-Costa                        62.856590   141.254645             30.0   \n",
       "Isla Cristina                       60.767541   130.883934              1.0   \n",
       "Valverde del Camino                 70.588235   149.019608              1.0   \n",
       "Beas                               253.397835   529.831836              0.0   \n",
       "Bollullos Par del Condado          236.324460   493.501077              8.0   \n",
       "Trigueros                           89.035869   178.071737              0.0   \n",
       "Lucena del Puerto                  766.636001  1287.948482              1.0   \n",
       "Punta Umbría                        97.688049   156.300879              2.0   \n",
       "Cortelazor                         668.896321  1003.344482              0.0   \n",
       "Almonaster la Real                 111.856823   167.785235              0.0   \n",
       "Cortegana                          108.648414   152.107779              0.0   \n",
       "Ayamonte                            66.338135    85.291888              4.0   \n",
       "Fuenteheridos                      282.087447   282.087447              0.0   \n",
       "San Silvestre de Guzmán            162.866450   162.866450              0.0   \n",
       "Cañaveral de León                  505.050505   505.050505              1.0   \n",
       "Alosno                              25.425884    25.425884              0.0   \n",
       "Escacena del Campo                  43.725404    43.725404              0.0   \n",
       "Rosal de la Frontera               176.782557   176.782557              1.0   \n",
       "Villablanca                         34.662045    34.662045              0.0   \n",
       "\n",
       "Medida                                 7/14  \n",
       "Lugar de residencia                          \n",
       "Cumbres Mayores                    0.045455  \n",
       "Niebla                             0.166667  \n",
       "Gibraleón                          0.190476  \n",
       "Galaroza                           0.200000  \n",
       "Aljaraque                          0.214286  \n",
       "Aracena                            0.222222  \n",
       "Almonte                            0.321429  \n",
       "Aroche                             0.333333  \n",
       "Palos de la Frontera               0.333333  \n",
       "Sierra de Huelva-Andévalo Central  0.340206  \n",
       "Rociana del Condado                0.372093  \n",
       "Cartaya                            0.380000  \n",
       "Condado-Campiña                    0.396161  \n",
       "Minas de Riotinto                  0.400000  \n",
       "Huelva                             0.408966  \n",
       "Palma del Condado (La)             0.411765  \n",
       "Lepe                               0.411765  \n",
       "San Juan del Puerto                0.411765  \n",
       "Bonares                            0.413793  \n",
       "Huelva (capital)                   0.425197  \n",
       "Moguer                             0.441558  \n",
       "Huelva-Costa                       0.444988  \n",
       "Isla Cristina                      0.464286  \n",
       "Valverde del Camino                0.473684  \n",
       "Beas                               0.478261  \n",
       "Bollullos Par del Condado          0.478873  \n",
       "Trigueros                          0.500000  \n",
       "Lucena del Puerto                  0.595238  \n",
       "Punta Umbría                       0.625000  \n",
       "Cortelazor                         0.666667  \n",
       "Almonaster la Real                 0.666667  \n",
       "Cortegana                          0.714286  \n",
       "Ayamonte                           0.777778  \n",
       "Fuenteheridos                      1.000000  \n",
       "San Silvestre de Guzmán            1.000000  \n",
       "Cañaveral de León                  1.000000  \n",
       "Alosno                             1.000000  \n",
       "Escacena del Campo                 1.000000  \n",
       "Rosal de la Frontera               1.000000  \n",
       "Villablanca                        1.000000  "
      ],
      "text/html": "<div>\n<style scoped>\n    .dataframe tbody tr th:only-of-type {\n        vertical-align: middle;\n    }\n\n    .dataframe tbody tr th {\n        vertical-align: top;\n    }\n\n    .dataframe thead th {\n        text-align: right;\n    }\n</style>\n<table border=\"1\" class=\"dataframe\">\n  <thead>\n    <tr style=\"text-align: right;\">\n      <th>Medida</th>\n      <th>Confirmados PDIA</th>\n      <th>Confirmados PDIA 7 días</th>\n      <th>Confirmados PDIA 14 días</th>\n      <th>Población</th>\n      <th>tasa7</th>\n      <th>tasa14</th>\n      <th>Diferencia PDIA</th>\n      <th>7/14</th>\n    </tr>\n    <tr>\n      <th>Lugar de residencia</th>\n      <th></th>\n      <th></th>\n      <th></th>\n      <th></th>\n      <th></th>\n      <th></th>\n      <th></th>\n      <th></th>\n    </tr>\n  </thead>\n  <tbody>\n    <tr>\n      <th>Cumbres Mayores</th>\n      <td>49.0</td>\n      <td>1.0</td>\n      <td>22.0</td>\n      <td>1749.0</td>\n      <td>57.175529</td>\n      <td>1257.861635</td>\n      <td>0.0</td>\n      <td>0.045455</td>\n    </tr>\n    <tr>\n      <th>Niebla</th>\n      <td>193.0</td>\n      <td>1.0</td>\n      <td>6.0</td>\n      <td>4116.0</td>\n      <td>24.295432</td>\n      <td>145.772595</td>\n      <td>0.0</td>\n      <td>0.166667</td>\n    </tr>\n    <tr>\n      <th>Gibraleón</th>\n      <td>585.0</td>\n      <td>4.0</td>\n      <td>21.0</td>\n      <td>12737.0</td>\n      <td>31.404569</td>\n      <td>164.873989</td>\n      <td>3.0</td>\n      <td>0.190476</td>\n    </tr>\n    <tr>\n      <th>Galaroza</th>\n      <td>27.0</td>\n      <td>2.0</td>\n      <td>10.0</td>\n      <td>1382.0</td>\n      <td>144.717800</td>\n      <td>723.589001</td>\n      <td>0.0</td>\n      <td>0.200000</td>\n    </tr>\n    <tr>\n      <th>Aljaraque</th>\n      <td>993.0</td>\n      <td>3.0</td>\n      <td>14.0</td>\n      <td>21474.0</td>\n      <td>13.970383</td>\n      <td>65.195120</td>\n      <td>1.0</td>\n      <td>0.214286</td>\n    </tr>\n    <tr>\n      <th>Aracena</th>\n      <td>508.0</td>\n      <td>2.0</td>\n      <td>9.0</td>\n      <td>8255.0</td>\n      <td>24.227741</td>\n      <td>109.024833</td>\n      <td>1.0</td>\n      <td>0.222222</td>\n    </tr>\n    <tr>\n      <th>Almonte</th>\n      <td>1498.0</td>\n      <td>54.0</td>\n      <td>168.0</td>\n      <td>24507.0</td>\n      <td>220.345207</td>\n      <td>685.518423</td>\n      <td>5.0</td>\n      <td>0.321429</td>\n    </tr>\n    <tr>\n      <th>Aroche</th>\n      <td>90.0</td>\n      <td>1.0</td>\n      <td>3.0</td>\n      <td>3054.0</td>\n      <td>32.743942</td>\n      <td>98.231827</td>\n      <td>0.0</td>\n      <td>0.333333</td>\n    </tr>\n    <tr>\n      <th>Palos de la Frontera</th>\n      <td>580.0</td>\n      <td>7.0</td>\n      <td>21.0</td>\n      <td>11742.0</td>\n      <td>59.615057</td>\n      <td>178.845171</td>\n      <td>3.0</td>\n      <td>0.333333</td>\n    </tr>\n    <tr>\n      <th>Sierra de Huelva-Andévalo Central</th>\n      <td>2539.0</td>\n      <td>33.0</td>\n      <td>97.0</td>\n      <td>67391.0</td>\n      <td>48.967963</td>\n      <td>143.936134</td>\n      <td>4.0</td>\n      <td>0.340206</td>\n    </tr>\n    <tr>\n      <th>Rociana del Condado</th>\n      <td>512.0</td>\n      <td>16.0</td>\n      <td>43.0</td>\n      <td>7939.0</td>\n      <td>201.536717</td>\n      <td>541.629928</td>\n      <td>5.0</td>\n      <td>0.372093</td>\n    </tr>\n    <tr>\n      <th>Cartaya</th>\n      <td>1265.0</td>\n      <td>19.0</td>\n      <td>50.0</td>\n      <td>20083.0</td>\n      <td>94.607379</td>\n      <td>248.966788</td>\n      <td>4.0</td>\n      <td>0.380000</td>\n    </tr>\n    <tr>\n      <th>Condado-Campiña</th>\n      <td>8956.0</td>\n      <td>227.0</td>\n      <td>573.0</td>\n      <td>156231.0</td>\n      <td>145.297668</td>\n      <td>366.764599</td>\n      <td>39.0</td>\n      <td>0.396161</td>\n    </tr>\n    <tr>\n      <th>Minas de Riotinto</th>\n      <td>111.0</td>\n      <td>2.0</td>\n      <td>5.0</td>\n      <td>3812.0</td>\n      <td>52.465897</td>\n      <td>131.164743</td>\n      <td>0.0</td>\n      <td>0.400000</td>\n    </tr>\n    <tr>\n      <th>Huelva</th>\n      <td>28482.0</td>\n      <td>447.0</td>\n      <td>1093.0</td>\n      <td>513170.0</td>\n      <td>87.105638</td>\n      <td>212.989847</td>\n      <td>71.0</td>\n      <td>0.408966</td>\n    </tr>\n    <tr>\n      <th>Palma del Condado (La)</th>\n      <td>1035.0</td>\n      <td>7.0</td>\n      <td>17.0</td>\n      <td>10801.0</td>\n      <td>64.808814</td>\n      <td>157.392834</td>\n      <td>5.0</td>\n      <td>0.411765</td>\n    </tr>\n    <tr>\n      <th>Lepe</th>\n      <td>2078.0</td>\n      <td>7.0</td>\n      <td>17.0</td>\n      <td>27880.0</td>\n      <td>25.107604</td>\n      <td>60.975610</td>\n      <td>0.0</td>\n      <td>0.411765</td>\n    </tr>\n    <tr>\n      <th>San Juan del Puerto</th>\n      <td>447.0</td>\n      <td>14.0</td>\n      <td>34.0</td>\n      <td>9411.0</td>\n      <td>148.762087</td>\n      <td>361.279354</td>\n      <td>2.0</td>\n      <td>0.411765</td>\n    </tr>\n    <tr>\n      <th>Bonares</th>\n      <td>254.0</td>\n      <td>12.0</td>\n      <td>29.0</td>\n      <td>6060.0</td>\n      <td>198.019802</td>\n      <td>478.547855</td>\n      <td>1.0</td>\n      <td>0.413793</td>\n    </tr>\n    <tr>\n      <th>Huelva (capital)</th>\n      <td>7387.0</td>\n      <td>108.0</td>\n      <td>254.0</td>\n      <td>143837.0</td>\n      <td>75.084992</td>\n      <td>176.588778</td>\n      <td>18.0</td>\n      <td>0.425197</td>\n    </tr>\n    <tr>\n      <th>Moguer</th>\n      <td>1096.0</td>\n      <td>34.0</td>\n      <td>77.0</td>\n      <td>21867.0</td>\n      <td>155.485435</td>\n      <td>352.128779</td>\n      <td>5.0</td>\n      <td>0.441558</td>\n    </tr>\n    <tr>\n      <th>Huelva-Costa</th>\n      <td>16615.0</td>\n      <td>182.0</td>\n      <td>409.0</td>\n      <td>289548.0</td>\n      <td>62.856590</td>\n      <td>141.254645</td>\n      <td>30.0</td>\n      <td>0.444988</td>\n    </tr>\n    <tr>\n      <th>Isla Cristina</th>\n      <td>2058.0</td>\n      <td>13.0</td>\n      <td>28.0</td>\n      <td>21393.0</td>\n      <td>60.767541</td>\n      <td>130.883934</td>\n      <td>1.0</td>\n      <td>0.464286</td>\n    </tr>\n    <tr>\n      <th>Valverde del Camino</th>\n      <td>473.0</td>\n      <td>9.0</td>\n      <td>19.0</td>\n      <td>12750.0</td>\n      <td>70.588235</td>\n      <td>149.019608</td>\n      <td>1.0</td>\n      <td>0.473684</td>\n    </tr>\n    <tr>\n      <th>Beas</th>\n      <td>197.0</td>\n      <td>11.0</td>\n      <td>23.0</td>\n      <td>4341.0</td>\n      <td>253.397835</td>\n      <td>529.831836</td>\n      <td>0.0</td>\n      <td>0.478261</td>\n    </tr>\n    <tr>\n      <th>Bollullos Par del Condado</th>\n      <td>809.0</td>\n      <td>34.0</td>\n      <td>71.0</td>\n      <td>14387.0</td>\n      <td>236.324460</td>\n      <td>493.501077</td>\n      <td>8.0</td>\n      <td>0.478873</td>\n    </tr>\n    <tr>\n      <th>Trigueros</th>\n      <td>267.0</td>\n      <td>7.0</td>\n      <td>14.0</td>\n      <td>7862.0</td>\n      <td>89.035869</td>\n      <td>178.071737</td>\n      <td>0.0</td>\n      <td>0.500000</td>\n    </tr>\n    <tr>\n      <th>Lucena del Puerto</th>\n      <td>231.0</td>\n      <td>25.0</td>\n      <td>42.0</td>\n      <td>3261.0</td>\n      <td>766.636001</td>\n      <td>1287.948482</td>\n      <td>1.0</td>\n      <td>0.595238</td>\n    </tr>\n    <tr>\n      <th>Punta Umbría</th>\n      <td>711.0</td>\n      <td>15.0</td>\n      <td>24.0</td>\n      <td>15355.0</td>\n      <td>97.688049</td>\n      <td>156.300879</td>\n      <td>2.0</td>\n      <td>0.625000</td>\n    </tr>\n    <tr>\n      <th>Cortelazor</th>\n      <td>7.0</td>\n      <td>2.0</td>\n      <td>3.0</td>\n      <td>299.0</td>\n      <td>668.896321</td>\n      <td>1003.344482</td>\n      <td>0.0</td>\n      <td>0.666667</td>\n    </tr>\n    <tr>\n      <th>Almonaster la Real</th>\n      <td>65.0</td>\n      <td>2.0</td>\n      <td>3.0</td>\n      <td>1788.0</td>\n      <td>111.856823</td>\n      <td>167.785235</td>\n      <td>0.0</td>\n      <td>0.666667</td>\n    </tr>\n    <tr>\n      <th>Cortegana</th>\n      <td>199.0</td>\n      <td>5.0</td>\n      <td>7.0</td>\n      <td>4602.0</td>\n      <td>108.648414</td>\n      <td>152.107779</td>\n      <td>0.0</td>\n      <td>0.714286</td>\n    </tr>\n    <tr>\n      <th>Ayamonte</th>\n      <td>1281.0</td>\n      <td>14.0</td>\n      <td>18.0</td>\n      <td>21104.0</td>\n      <td>66.338135</td>\n      <td>85.291888</td>\n      <td>4.0</td>\n      <td>0.777778</td>\n    </tr>\n    <tr>\n      <th>Fuenteheridos</th>\n      <td>8.0</td>\n      <td>2.0</td>\n      <td>2.0</td>\n      <td>709.0</td>\n      <td>282.087447</td>\n      <td>282.087447</td>\n      <td>0.0</td>\n      <td>1.000000</td>\n    </tr>\n    <tr>\n      <th>San Silvestre de Guzmán</th>\n      <td>15.0</td>\n      <td>1.0</td>\n      <td>1.0</td>\n      <td>614.0</td>\n      <td>162.866450</td>\n      <td>162.866450</td>\n      <td>0.0</td>\n      <td>1.000000</td>\n    </tr>\n    <tr>\n      <th>Cañaveral de León</th>\n      <td>5.0</td>\n      <td>2.0</td>\n      <td>2.0</td>\n      <td>396.0</td>\n      <td>505.050505</td>\n      <td>505.050505</td>\n      <td>1.0</td>\n      <td>1.000000</td>\n    </tr>\n    <tr>\n      <th>Alosno</th>\n      <td>162.0</td>\n      <td>1.0</td>\n      <td>1.0</td>\n      <td>3933.0</td>\n      <td>25.425884</td>\n      <td>25.425884</td>\n      <td>0.0</td>\n      <td>1.000000</td>\n    </tr>\n    <tr>\n      <th>Escacena del Campo</th>\n      <td>144.0</td>\n      <td>1.0</td>\n      <td>1.0</td>\n      <td>2287.0</td>\n      <td>43.725404</td>\n      <td>43.725404</td>\n      <td>0.0</td>\n      <td>1.000000</td>\n    </tr>\n    <tr>\n      <th>Rosal de la Frontera</th>\n      <td>28.0</td>\n      <td>3.0</td>\n      <td>3.0</td>\n      <td>1697.0</td>\n      <td>176.782557</td>\n      <td>176.782557</td>\n      <td>1.0</td>\n      <td>1.000000</td>\n    </tr>\n    <tr>\n      <th>Villablanca</th>\n      <td>179.0</td>\n      <td>1.0</td>\n      <td>1.0</td>\n      <td>2885.0</td>\n      <td>34.662045</td>\n      <td>34.662045</td>\n      <td>0.0</td>\n      <td>1.000000</td>\n    </tr>\n  </tbody>\n</table>\n</div>"
     },
     "metadata": {},
     "execution_count": 18
    }
   ],
   "source": [
    "# Peso de la tasa de la última semana en relación con la tasa a 14 días \n",
    "# Mejor cuanto menor. Valor 1 significa que no había casos antes de 7 días.\n",
    "tabla['7/14'] = tabla['tasa7'] / tabla['tasa14']\n",
    "tabla.fillna(0).sort_values('7/14', ascending=True)"
   ]
  },
  {
   "cell_type": "code",
   "execution_count": null,
   "metadata": {},
   "outputs": [],
   "source": []
  }
 ]
}