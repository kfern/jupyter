{
 "metadata": {
  "language_info": {
   "codemirror_mode": {
    "name": "ipython",
    "version": 3
   },
   "file_extension": ".py",
   "mimetype": "text/x-python",
   "name": "python",
   "nbconvert_exporter": "python",
   "pygments_lexer": "ipython3",
   "version": "3.8.6-final"
  },
  "orig_nbformat": 2,
  "kernelspec": {
   "name": "python38564bit75945252d6ba481bad4868286020c89e",
   "display_name": "Python 3.8.5 64-bit",
   "language": "python"
  }
 },
 "nbformat": 4,
 "nbformat_minor": 2,
 "cells": [
  {
   "cell_type": "code",
   "execution_count": 1,
   "metadata": {},
   "outputs": [],
   "source": [
    "import pandas as pd"
   ]
  },
  {
   "cell_type": "code",
   "execution_count": 2,
   "metadata": {},
   "outputs": [],
   "source": [
    "# FIX SSL: CERTIFICATE_VERIFY_FAILED with Python3\n",
    "# https://stackoverflow.com/a/49174340\n",
    "import ssl\n",
    "\n",
    "ssl._create_default_https_context = ssl._create_unverified_context"
   ]
  },
  {
   "cell_type": "code",
   "execution_count": 3,
   "metadata": {},
   "outputs": [],
   "source": [
    "url = 'https://www.juntadeandalucia.es/institutodeestadisticaycartografia/badea/stpivot/stpivot/Print?cube=013d884c-cfc5-4c21-9e78-e26225682afd&type=3&foto=si&ejecutaDesde=&codConsulta=38668&consTipoVisua=JP'\n",
    "fields = ['Lugar de residencia', 'Medida', 'Valor']\n",
    "df = pd.read_csv(url, delimiter=';', usecols=fields, decimal=',')"
   ]
  },
  {
   "cell_type": "code",
   "execution_count": 4,
   "metadata": {},
   "outputs": [
    {
     "output_type": "execute_result",
     "data": {
      "text/plain": [
       "                     Lugar de residencia                    Medida  \\\n",
       "0                                 Huelva                 Población   \n",
       "1                                 Huelva          Confirmados PDIA   \n",
       "2                                 Huelva  Confirmados PDIA 14 días   \n",
       "3                                 Huelva         Tasa PDIA 14 días   \n",
       "4                                 Huelva   Confirmados PDIA 7 días   \n",
       "..                                   ...                       ...   \n",
       "627  Municipio de Huelva sin especificar         Tasa PDIA 14 días   \n",
       "628  Municipio de Huelva sin especificar   Confirmados PDIA 7 días   \n",
       "629  Municipio de Huelva sin especificar        Total Confirmados    \n",
       "630  Municipio de Huelva sin especificar                   Curados   \n",
       "631  Municipio de Huelva sin especificar                Fallecidos   \n",
       "\n",
       "                  Valor  \n",
       "0                510743  \n",
       "1                 11438  \n",
       "2                   636  \n",
       "3    124,52446729568491  \n",
       "4                   280  \n",
       "..                  ...  \n",
       "627                   -  \n",
       "628                   8  \n",
       "629                 135  \n",
       "630                 115  \n",
       "631                   2  \n",
       "\n",
       "[632 rows x 3 columns]"
      ],
      "text/html": "<div>\n<style scoped>\n    .dataframe tbody tr th:only-of-type {\n        vertical-align: middle;\n    }\n\n    .dataframe tbody tr th {\n        vertical-align: top;\n    }\n\n    .dataframe thead th {\n        text-align: right;\n    }\n</style>\n<table border=\"1\" class=\"dataframe\">\n  <thead>\n    <tr style=\"text-align: right;\">\n      <th></th>\n      <th>Lugar de residencia</th>\n      <th>Medida</th>\n      <th>Valor</th>\n    </tr>\n  </thead>\n  <tbody>\n    <tr>\n      <th>0</th>\n      <td>Huelva</td>\n      <td>Población</td>\n      <td>510743</td>\n    </tr>\n    <tr>\n      <th>1</th>\n      <td>Huelva</td>\n      <td>Confirmados PDIA</td>\n      <td>11438</td>\n    </tr>\n    <tr>\n      <th>2</th>\n      <td>Huelva</td>\n      <td>Confirmados PDIA 14 días</td>\n      <td>636</td>\n    </tr>\n    <tr>\n      <th>3</th>\n      <td>Huelva</td>\n      <td>Tasa PDIA 14 días</td>\n      <td>124,52446729568491</td>\n    </tr>\n    <tr>\n      <th>4</th>\n      <td>Huelva</td>\n      <td>Confirmados PDIA 7 días</td>\n      <td>280</td>\n    </tr>\n    <tr>\n      <th>...</th>\n      <td>...</td>\n      <td>...</td>\n      <td>...</td>\n    </tr>\n    <tr>\n      <th>627</th>\n      <td>Municipio de Huelva sin especificar</td>\n      <td>Tasa PDIA 14 días</td>\n      <td>-</td>\n    </tr>\n    <tr>\n      <th>628</th>\n      <td>Municipio de Huelva sin especificar</td>\n      <td>Confirmados PDIA 7 días</td>\n      <td>8</td>\n    </tr>\n    <tr>\n      <th>629</th>\n      <td>Municipio de Huelva sin especificar</td>\n      <td>Total Confirmados</td>\n      <td>135</td>\n    </tr>\n    <tr>\n      <th>630</th>\n      <td>Municipio de Huelva sin especificar</td>\n      <td>Curados</td>\n      <td>115</td>\n    </tr>\n    <tr>\n      <th>631</th>\n      <td>Municipio de Huelva sin especificar</td>\n      <td>Fallecidos</td>\n      <td>2</td>\n    </tr>\n  </tbody>\n</table>\n<p>632 rows × 3 columns</p>\n</div>"
     },
     "metadata": {},
     "execution_count": 4
    }
   ],
   "source": [
    "df"
   ]
  },
  {
   "cell_type": "code",
   "execution_count": 5,
   "metadata": {},
   "outputs": [],
   "source": [
    "df['Valor'] = pd.to_numeric(df['Valor'],errors='coerce')"
   ]
  },
  {
   "cell_type": "code",
   "execution_count": 6,
   "metadata": {},
   "outputs": [],
   "source": [
    "dfAnterior = pd.read_csv('covid_huelva.csv', index_col='Lugar de residencia')"
   ]
  },
  {
   "cell_type": "code",
   "execution_count": 7,
   "metadata": {
    "tags": []
   },
   "outputs": [
    {
     "output_type": "stream",
     "name": "stdout",
     "text": [
      "Confirmados PCR en la provincia de Huelva:  11438.0\n"
     ]
    }
   ],
   "source": [
    "# Confirmados PCR provincia Huelva\n",
    "p = df[df['Lugar de residencia'] == 'Huelva'][df['Medida'] == 'Confirmados PDIA']['Valor'].values[0]\n",
    "print('Confirmados PCR en la provincia de Huelva: ', p)"
   ]
  },
  {
   "cell_type": "code",
   "execution_count": 8,
   "metadata": {
    "tags": []
   },
   "outputs": [
    {
     "output_type": "stream",
     "name": "stdout",
     "text": [
      "Confirmados PCR en Huelva capital:  3252.0\n"
     ]
    }
   ],
   "source": [
    "# Confirmados PCR Huelva capitalpd\n",
    "c = df[df['Lugar de residencia'] == 'Huelva (capital)'][df['Medida'] == 'Confirmados PDIA']['Valor'].values[0]\n",
    "print('Confirmados PCR en Huelva capital: ', c)"
   ]
  },
  {
   "cell_type": "code",
   "execution_count": 9,
   "metadata": {
    "tags": []
   },
   "outputs": [],
   "source": [
    "c7 = df[df['Lugar de residencia'] == 'Huelva (capital)'][df['Medida'] == 'Confirmados PDIA 7 días']['Valor'].values[0]\n",
    "c14 = df[df['Lugar de residencia'] == 'Huelva (capital)'][df['Medida'] == 'Confirmados PDIA 14 días']['Valor'].values[0]\n",
    "p = df[df['Lugar de residencia'] == 'Huelva (capital)'][df['Medida'] == 'Población']['Valor'].values[0]"
   ]
  },
  {
   "cell_type": "code",
   "execution_count": 10,
   "metadata": {
    "tags": []
   },
   "outputs": [
    {
     "output_type": "stream",
     "name": "stdout",
     "text": [
      "Huelva (capital)\n\nUn positivo PCR cada 1545 personas en los últimos 7 días \n\nUn positivo PCR cada 704 personas en los últimos 14 días\n"
     ]
    }
   ],
   "source": [
    "print('Huelva (capital)\\n')\n",
    "#print('Confirmados PCR 7 días x 1,000 habitantes: ', f\"{c7/(p/1000):.5f}\")\n",
    "print('Un positivo PCR cada', f\"{p/c7:.0f}\", 'personas en los últimos 7 días', '\\n')\n",
    "#print('Confirmados PCR 14 días x 1,000 habitantes: ', f\"{c14/(p/1000):.5f}\")\n",
    "print('Un positivo PCR cada', f\"{p/c14:.0f}\", 'personas en los últimos 14 días')"
   ]
  },
  {
   "cell_type": "code",
   "execution_count": 11,
   "metadata": {},
   "outputs": [],
   "source": [
    "filtro = ((df['Medida'] == 'Confirmados PDIA')| (df['Medida'] == 'Confirmados PDIA 7 días') | (df['Medida'] == 'Población' ) | (df['Medida'] == 'Confirmados PDIA 14 días')) & (df['Valor'] > 0)\n",
    "tabla = pd.pivot_table(df.loc[filtro], values='Valor', index='Lugar de residencia', columns='Medida').dropna()"
   ]
  },
  {
   "cell_type": "code",
   "execution_count": 12,
   "metadata": {},
   "outputs": [],
   "source": [
    "# Reorder columns\n",
    "tabla = tabla[['Confirmados PDIA', 'Confirmados PDIA 7 días', 'Confirmados PDIA 14 días', 'Población']]"
   ]
  },
  {
   "cell_type": "code",
   "execution_count": 13,
   "metadata": {},
   "outputs": [],
   "source": [
    "tabla['tasa7'] = tabla['Confirmados PDIA 7 días']/tabla['Población']*100000\n",
    "tabla['tasa14'] = tabla['Confirmados PDIA 14 días']/tabla['Población']*100000"
   ]
  },
  {
   "cell_type": "code",
   "execution_count": 14,
   "metadata": {},
   "outputs": [],
   "source": [
    "tabla['Diferencia PDIA'] = tabla['Confirmados PDIA'] - dfAnterior['Confirmados PDIA']"
   ]
  },
  {
   "cell_type": "code",
   "execution_count": 15,
   "metadata": {},
   "outputs": [
    {
     "output_type": "execute_result",
     "data": {
      "text/plain": [
       "Medida                             Confirmados PDIA  Confirmados PDIA 7 días  \\\n",
       "Lugar de residencia                                                            \n",
       "Huelva                                      11438.0                    280.0   \n",
       "Huelva-Costa                                 6483.0                    172.0   \n",
       "Condado-Campiña                              3508.0                     74.0   \n",
       "Huelva (capital)                             3252.0                     93.0   \n",
       "Moguer                                        405.0                     20.0   \n",
       "Sierra de Huelva-Andévalo Central            1313.0                     26.0   \n",
       "Isla Cristina                                 478.0                     23.0   \n",
       "Ayamonte                                      351.0                     15.0   \n",
       "Palos de la Frontera                          267.0                     14.0   \n",
       "Palma del Condado (La)                        561.0                     15.0   \n",
       "Cumbres Mayores                                17.0                      8.0   \n",
       "Lucena del Puerto                             110.0                      5.0   \n",
       "Cartaya                                       433.0                      9.0   \n",
       "Aljaraque                                     445.0                      5.0   \n",
       "Lepe                                          984.0                     12.0   \n",
       "Aracena                                       290.0                      3.0   \n",
       "Cerro de Andévalo (El)                         48.0                      9.0   \n",
       "Bonares                                        68.0                      2.0   \n",
       "Rociana del Condado                           122.0                      1.0   \n",
       "Bollullos Par del Condado                     253.0                      3.0   \n",
       "Villablanca                                    68.0                     10.0   \n",
       "Encinasola                                     10.0                      1.0   \n",
       "Escacena del Campo                             98.0                      1.0   \n",
       "Paterna del Campo                              69.0                      1.0   \n",
       "Valverde del Camino                           274.0                      1.0   \n",
       "\n",
       "Medida                             Confirmados PDIA 14 días  Población  \\\n",
       "Lugar de residencia                                                      \n",
       "Huelva                                                636.0   510743.0   \n",
       "Huelva-Costa                                          410.0   288115.0   \n",
       "Condado-Campiña                                       185.0   155057.0   \n",
       "Huelva (capital)                                      204.0   143663.0   \n",
       "Moguer                                                 37.0    22088.0   \n",
       "Sierra de Huelva-Andévalo Central                      30.0    67571.0   \n",
       "Isla Cristina                                          59.0    21264.0   \n",
       "Ayamonte                                               22.0    20946.0   \n",
       "Palos de la Frontera                                   31.0    11289.0   \n",
       "Palma del Condado (La)                                 39.0    10761.0   \n",
       "Cumbres Mayores                                         8.0     1755.0   \n",
       "Lucena del Puerto                                      14.0     3371.0   \n",
       "Cartaya                                                42.0    19974.0   \n",
       "Aljaraque                                              20.0    21260.0   \n",
       "Lepe                                                   37.0    27431.0   \n",
       "Aracena                                                 4.0     8107.0   \n",
       "Cerro de Andévalo (El)                                 11.0     2364.0   \n",
       "Bonares                                                17.0     6058.0   \n",
       "Rociana del Condado                                     6.0     7855.0   \n",
       "Bollullos Par del Condado                               5.0    14272.0   \n",
       "Villablanca                                            13.0     2848.0   \n",
       "Encinasola                                              1.0     1305.0   \n",
       "Escacena del Campo                                      2.0     2284.0   \n",
       "Paterna del Campo                                       1.0     3509.0   \n",
       "Valverde del Camino                                     1.0    12820.0   \n",
       "\n",
       "Medida                                  tasa7      tasa14  Diferencia PDIA  \n",
       "Lugar de residencia                                                         \n",
       "Huelva                              54.822093  124.524467            100.0  \n",
       "Huelva-Costa                        59.698384  142.304288             52.0  \n",
       "Condado-Campiña                     47.724385  119.310963             36.0  \n",
       "Huelva (capital)                    64.734831  141.998984             27.0  \n",
       "Moguer                              90.546903  167.511771             15.0  \n",
       "Sierra de Huelva-Andévalo Central   38.478045   44.397745             11.0  \n",
       "Isla Cristina                      108.164033  277.464259              9.0  \n",
       "Ayamonte                            71.612718  105.031987              8.0  \n",
       "Palos de la Frontera               124.014527  274.603596              6.0  \n",
       "Palma del Condado (La)             139.392250  362.419849              6.0  \n",
       "Cumbres Mayores                    455.840456  455.840456              6.0  \n",
       "Lucena del Puerto                  148.323939  415.307031              4.0  \n",
       "Cartaya                             45.058576  210.273355              3.0  \n",
       "Aljaraque                           23.518344   94.073377              2.0  \n",
       "Lepe                                43.746127  134.883890              2.0  \n",
       "Aracena                             37.005057   49.340076              2.0  \n",
       "Cerro de Andévalo (El)             380.710660  465.313029              1.0  \n",
       "Bonares                             33.014196  280.620667              1.0  \n",
       "Rociana del Condado                 12.730745   76.384468              1.0  \n",
       "Bollullos Par del Condado           21.020179   35.033632              1.0  \n",
       "Villablanca                        351.123596  456.460674              1.0  \n",
       "Encinasola                          76.628352   76.628352              NaN  \n",
       "Escacena del Campo                  43.782837   87.565674              NaN  \n",
       "Paterna del Campo                   28.498148   28.498148              NaN  \n",
       "Valverde del Camino                  7.800312    7.800312              NaN  "
      ],
      "text/html": "<div>\n<style scoped>\n    .dataframe tbody tr th:only-of-type {\n        vertical-align: middle;\n    }\n\n    .dataframe tbody tr th {\n        vertical-align: top;\n    }\n\n    .dataframe thead th {\n        text-align: right;\n    }\n</style>\n<table border=\"1\" class=\"dataframe\">\n  <thead>\n    <tr style=\"text-align: right;\">\n      <th>Medida</th>\n      <th>Confirmados PDIA</th>\n      <th>Confirmados PDIA 7 días</th>\n      <th>Confirmados PDIA 14 días</th>\n      <th>Población</th>\n      <th>tasa7</th>\n      <th>tasa14</th>\n      <th>Diferencia PDIA</th>\n    </tr>\n    <tr>\n      <th>Lugar de residencia</th>\n      <th></th>\n      <th></th>\n      <th></th>\n      <th></th>\n      <th></th>\n      <th></th>\n      <th></th>\n    </tr>\n  </thead>\n  <tbody>\n    <tr>\n      <th>Huelva</th>\n      <td>11438.0</td>\n      <td>280.0</td>\n      <td>636.0</td>\n      <td>510743.0</td>\n      <td>54.822093</td>\n      <td>124.524467</td>\n      <td>100.0</td>\n    </tr>\n    <tr>\n      <th>Huelva-Costa</th>\n      <td>6483.0</td>\n      <td>172.0</td>\n      <td>410.0</td>\n      <td>288115.0</td>\n      <td>59.698384</td>\n      <td>142.304288</td>\n      <td>52.0</td>\n    </tr>\n    <tr>\n      <th>Condado-Campiña</th>\n      <td>3508.0</td>\n      <td>74.0</td>\n      <td>185.0</td>\n      <td>155057.0</td>\n      <td>47.724385</td>\n      <td>119.310963</td>\n      <td>36.0</td>\n    </tr>\n    <tr>\n      <th>Huelva (capital)</th>\n      <td>3252.0</td>\n      <td>93.0</td>\n      <td>204.0</td>\n      <td>143663.0</td>\n      <td>64.734831</td>\n      <td>141.998984</td>\n      <td>27.0</td>\n    </tr>\n    <tr>\n      <th>Moguer</th>\n      <td>405.0</td>\n      <td>20.0</td>\n      <td>37.0</td>\n      <td>22088.0</td>\n      <td>90.546903</td>\n      <td>167.511771</td>\n      <td>15.0</td>\n    </tr>\n    <tr>\n      <th>Sierra de Huelva-Andévalo Central</th>\n      <td>1313.0</td>\n      <td>26.0</td>\n      <td>30.0</td>\n      <td>67571.0</td>\n      <td>38.478045</td>\n      <td>44.397745</td>\n      <td>11.0</td>\n    </tr>\n    <tr>\n      <th>Isla Cristina</th>\n      <td>478.0</td>\n      <td>23.0</td>\n      <td>59.0</td>\n      <td>21264.0</td>\n      <td>108.164033</td>\n      <td>277.464259</td>\n      <td>9.0</td>\n    </tr>\n    <tr>\n      <th>Ayamonte</th>\n      <td>351.0</td>\n      <td>15.0</td>\n      <td>22.0</td>\n      <td>20946.0</td>\n      <td>71.612718</td>\n      <td>105.031987</td>\n      <td>8.0</td>\n    </tr>\n    <tr>\n      <th>Palos de la Frontera</th>\n      <td>267.0</td>\n      <td>14.0</td>\n      <td>31.0</td>\n      <td>11289.0</td>\n      <td>124.014527</td>\n      <td>274.603596</td>\n      <td>6.0</td>\n    </tr>\n    <tr>\n      <th>Palma del Condado (La)</th>\n      <td>561.0</td>\n      <td>15.0</td>\n      <td>39.0</td>\n      <td>10761.0</td>\n      <td>139.392250</td>\n      <td>362.419849</td>\n      <td>6.0</td>\n    </tr>\n    <tr>\n      <th>Cumbres Mayores</th>\n      <td>17.0</td>\n      <td>8.0</td>\n      <td>8.0</td>\n      <td>1755.0</td>\n      <td>455.840456</td>\n      <td>455.840456</td>\n      <td>6.0</td>\n    </tr>\n    <tr>\n      <th>Lucena del Puerto</th>\n      <td>110.0</td>\n      <td>5.0</td>\n      <td>14.0</td>\n      <td>3371.0</td>\n      <td>148.323939</td>\n      <td>415.307031</td>\n      <td>4.0</td>\n    </tr>\n    <tr>\n      <th>Cartaya</th>\n      <td>433.0</td>\n      <td>9.0</td>\n      <td>42.0</td>\n      <td>19974.0</td>\n      <td>45.058576</td>\n      <td>210.273355</td>\n      <td>3.0</td>\n    </tr>\n    <tr>\n      <th>Aljaraque</th>\n      <td>445.0</td>\n      <td>5.0</td>\n      <td>20.0</td>\n      <td>21260.0</td>\n      <td>23.518344</td>\n      <td>94.073377</td>\n      <td>2.0</td>\n    </tr>\n    <tr>\n      <th>Lepe</th>\n      <td>984.0</td>\n      <td>12.0</td>\n      <td>37.0</td>\n      <td>27431.0</td>\n      <td>43.746127</td>\n      <td>134.883890</td>\n      <td>2.0</td>\n    </tr>\n    <tr>\n      <th>Aracena</th>\n      <td>290.0</td>\n      <td>3.0</td>\n      <td>4.0</td>\n      <td>8107.0</td>\n      <td>37.005057</td>\n      <td>49.340076</td>\n      <td>2.0</td>\n    </tr>\n    <tr>\n      <th>Cerro de Andévalo (El)</th>\n      <td>48.0</td>\n      <td>9.0</td>\n      <td>11.0</td>\n      <td>2364.0</td>\n      <td>380.710660</td>\n      <td>465.313029</td>\n      <td>1.0</td>\n    </tr>\n    <tr>\n      <th>Bonares</th>\n      <td>68.0</td>\n      <td>2.0</td>\n      <td>17.0</td>\n      <td>6058.0</td>\n      <td>33.014196</td>\n      <td>280.620667</td>\n      <td>1.0</td>\n    </tr>\n    <tr>\n      <th>Rociana del Condado</th>\n      <td>122.0</td>\n      <td>1.0</td>\n      <td>6.0</td>\n      <td>7855.0</td>\n      <td>12.730745</td>\n      <td>76.384468</td>\n      <td>1.0</td>\n    </tr>\n    <tr>\n      <th>Bollullos Par del Condado</th>\n      <td>253.0</td>\n      <td>3.0</td>\n      <td>5.0</td>\n      <td>14272.0</td>\n      <td>21.020179</td>\n      <td>35.033632</td>\n      <td>1.0</td>\n    </tr>\n    <tr>\n      <th>Villablanca</th>\n      <td>68.0</td>\n      <td>10.0</td>\n      <td>13.0</td>\n      <td>2848.0</td>\n      <td>351.123596</td>\n      <td>456.460674</td>\n      <td>1.0</td>\n    </tr>\n    <tr>\n      <th>Encinasola</th>\n      <td>10.0</td>\n      <td>1.0</td>\n      <td>1.0</td>\n      <td>1305.0</td>\n      <td>76.628352</td>\n      <td>76.628352</td>\n      <td>NaN</td>\n    </tr>\n    <tr>\n      <th>Escacena del Campo</th>\n      <td>98.0</td>\n      <td>1.0</td>\n      <td>2.0</td>\n      <td>2284.0</td>\n      <td>43.782837</td>\n      <td>87.565674</td>\n      <td>NaN</td>\n    </tr>\n    <tr>\n      <th>Paterna del Campo</th>\n      <td>69.0</td>\n      <td>1.0</td>\n      <td>1.0</td>\n      <td>3509.0</td>\n      <td>28.498148</td>\n      <td>28.498148</td>\n      <td>NaN</td>\n    </tr>\n    <tr>\n      <th>Valverde del Camino</th>\n      <td>274.0</td>\n      <td>1.0</td>\n      <td>1.0</td>\n      <td>12820.0</td>\n      <td>7.800312</td>\n      <td>7.800312</td>\n      <td>NaN</td>\n    </tr>\n  </tbody>\n</table>\n</div>"
     },
     "metadata": {},
     "execution_count": 15
    }
   ],
   "source": [
    "# Nuevos casos desde la última captura\n",
    "tabla[tabla['Diferencia PDIA'] != 0].sort_values('Diferencia PDIA', ascending=False)"
   ]
  },
  {
   "cell_type": "code",
   "execution_count": 16,
   "metadata": {},
   "outputs": [],
   "source": [
    "if tabla[tabla['Diferencia PDIA'] != 0]['Diferencia PDIA'].sum() > 0:\n",
    "  # Save to csv\n",
    "  tabla.to_csv('covid_huelva.csv', encoding='utf-8', header=True, index=True)  "
   ]
  },
  {
   "cell_type": "code",
   "execution_count": 17,
   "metadata": {},
   "outputs": [
    {
     "output_type": "execute_result",
     "data": {
      "text/plain": [
       "Medida                             Confirmados PDIA  Confirmados PDIA 7 días  \\\n",
       "Lugar de residencia                                                            \n",
       "Cerro de Andévalo (El)                         48.0                      9.0   \n",
       "Villablanca                                    68.0                     10.0   \n",
       "Cumbres Mayores                                17.0                      8.0   \n",
       "Lucena del Puerto                             110.0                      5.0   \n",
       "Palma del Condado (La)                        561.0                     15.0   \n",
       "Manzanilla                                     52.0                      7.0   \n",
       "Bonares                                        68.0                      2.0   \n",
       "Isla Cristina                                 478.0                     23.0   \n",
       "Palos de la Frontera                          267.0                     14.0   \n",
       "Cartaya                                       433.0                      9.0   \n",
       "Moguer                                        405.0                     20.0   \n",
       "Fuenteheridos                                   3.0                      1.0   \n",
       "Huelva-Costa                                 6483.0                    172.0   \n",
       "Huelva (capital)                             3252.0                     93.0   \n",
       "Lepe                                          984.0                     12.0   \n",
       "Huelva                                      11438.0                    280.0   \n",
       "Condado-Campiña                              3508.0                     74.0   \n",
       "Ayamonte                                      351.0                     15.0   \n",
       "Aljaraque                                     445.0                      5.0   \n",
       "Escacena del Campo                             98.0                      1.0   \n",
       "Encinasola                                     10.0                      1.0   \n",
       "Rociana del Condado                           122.0                      1.0   \n",
       "Punta Umbría                                  241.0                      5.0   \n",
       "Almonte                                       450.0                      3.0   \n",
       "Campillo (El)                                  55.0                      1.0   \n",
       "Aracena                                       290.0                      3.0   \n",
       "Villarrasa                                     91.0                      1.0   \n",
       "Sierra de Huelva-Andévalo Central            1313.0                     26.0   \n",
       "Bollullos Par del Condado                     253.0                      3.0   \n",
       "Zalamea la Real                                48.0                      1.0   \n",
       "Paterna del Campo                              69.0                      1.0   \n",
       "Nerva                                          88.0                      1.0   \n",
       "Gibraleón                                     351.0                      1.0   \n",
       "Valverde del Camino                           274.0                      1.0   \n",
       "\n",
       "Medida                             Confirmados PDIA 14 días  Población  \\\n",
       "Lugar de residencia                                                      \n",
       "Cerro de Andévalo (El)                                 11.0     2364.0   \n",
       "Villablanca                                            13.0     2848.0   \n",
       "Cumbres Mayores                                         8.0     1755.0   \n",
       "Lucena del Puerto                                      14.0     3371.0   \n",
       "Palma del Condado (La)                                 39.0    10761.0   \n",
       "Manzanilla                                              7.0     2135.0   \n",
       "Bonares                                                17.0     6058.0   \n",
       "Isla Cristina                                          59.0    21264.0   \n",
       "Palos de la Frontera                                   31.0    11289.0   \n",
       "Cartaya                                                42.0    19974.0   \n",
       "Moguer                                                 37.0    22088.0   \n",
       "Fuenteheridos                                           1.0      678.0   \n",
       "Huelva-Costa                                          410.0   288115.0   \n",
       "Huelva (capital)                                      204.0   143663.0   \n",
       "Lepe                                                   37.0    27431.0   \n",
       "Huelva                                                636.0   510743.0   \n",
       "Condado-Campiña                                       185.0   155057.0   \n",
       "Ayamonte                                               22.0    20946.0   \n",
       "Aljaraque                                              20.0    21260.0   \n",
       "Escacena del Campo                                      2.0     2284.0   \n",
       "Encinasola                                              1.0     1305.0   \n",
       "Rociana del Condado                                     6.0     7855.0   \n",
       "Punta Umbría                                            9.0    15242.0   \n",
       "Almonte                                                12.0    24191.0   \n",
       "Campillo (El)                                           1.0     2023.0   \n",
       "Aracena                                                 4.0     8107.0   \n",
       "Villarrasa                                              1.0     2176.0   \n",
       "Sierra de Huelva-Andévalo Central                      30.0    67571.0   \n",
       "Bollullos Par del Condado                               5.0    14272.0   \n",
       "Zalamea la Real                                         1.0     3068.0   \n",
       "Paterna del Campo                                       1.0     3509.0   \n",
       "Nerva                                                   1.0     5235.0   \n",
       "Gibraleón                                               2.0    12607.0   \n",
       "Valverde del Camino                                     1.0    12820.0   \n",
       "\n",
       "Medida                                  tasa7      tasa14  Diferencia PDIA  \n",
       "Lugar de residencia                                                         \n",
       "Cerro de Andévalo (El)             380.710660  465.313029              1.0  \n",
       "Villablanca                        351.123596  456.460674              1.0  \n",
       "Cumbres Mayores                    455.840456  455.840456              6.0  \n",
       "Lucena del Puerto                  148.323939  415.307031              4.0  \n",
       "Palma del Condado (La)             139.392250  362.419849              6.0  \n",
       "Manzanilla                         327.868852  327.868852              0.0  \n",
       "Bonares                             33.014196  280.620667              1.0  \n",
       "Isla Cristina                      108.164033  277.464259              9.0  \n",
       "Palos de la Frontera               124.014527  274.603596              6.0  \n",
       "Cartaya                             45.058576  210.273355              3.0  \n",
       "Moguer                              90.546903  167.511771             15.0  \n",
       "Fuenteheridos                      147.492625  147.492625              0.0  \n",
       "Huelva-Costa                        59.698384  142.304288             52.0  \n",
       "Huelva (capital)                    64.734831  141.998984             27.0  \n",
       "Lepe                                43.746127  134.883890              2.0  \n",
       "Huelva                              54.822093  124.524467            100.0  \n",
       "Condado-Campiña                     47.724385  119.310963             36.0  \n",
       "Ayamonte                            71.612718  105.031987              8.0  \n",
       "Aljaraque                           23.518344   94.073377              2.0  \n",
       "Escacena del Campo                  43.782837   87.565674              NaN  \n",
       "Encinasola                          76.628352   76.628352              NaN  \n",
       "Rociana del Condado                 12.730745   76.384468              1.0  \n",
       "Punta Umbría                        32.804094   59.047369              0.0  \n",
       "Almonte                             12.401306   49.605225              0.0  \n",
       "Campillo (El)                       49.431537   49.431537              0.0  \n",
       "Aracena                             37.005057   49.340076              2.0  \n",
       "Villarrasa                          45.955882   45.955882              0.0  \n",
       "Sierra de Huelva-Andévalo Central   38.478045   44.397745             11.0  \n",
       "Bollullos Par del Condado           21.020179   35.033632              1.0  \n",
       "Zalamea la Real                     32.594524   32.594524              0.0  \n",
       "Paterna del Campo                   28.498148   28.498148              NaN  \n",
       "Nerva                               19.102197   19.102197              0.0  \n",
       "Gibraleón                            7.932101   15.864202              0.0  \n",
       "Valverde del Camino                  7.800312    7.800312              NaN  "
      ],
      "text/html": "<div>\n<style scoped>\n    .dataframe tbody tr th:only-of-type {\n        vertical-align: middle;\n    }\n\n    .dataframe tbody tr th {\n        vertical-align: top;\n    }\n\n    .dataframe thead th {\n        text-align: right;\n    }\n</style>\n<table border=\"1\" class=\"dataframe\">\n  <thead>\n    <tr style=\"text-align: right;\">\n      <th>Medida</th>\n      <th>Confirmados PDIA</th>\n      <th>Confirmados PDIA 7 días</th>\n      <th>Confirmados PDIA 14 días</th>\n      <th>Población</th>\n      <th>tasa7</th>\n      <th>tasa14</th>\n      <th>Diferencia PDIA</th>\n    </tr>\n    <tr>\n      <th>Lugar de residencia</th>\n      <th></th>\n      <th></th>\n      <th></th>\n      <th></th>\n      <th></th>\n      <th></th>\n      <th></th>\n    </tr>\n  </thead>\n  <tbody>\n    <tr>\n      <th>Cerro de Andévalo (El)</th>\n      <td>48.0</td>\n      <td>9.0</td>\n      <td>11.0</td>\n      <td>2364.0</td>\n      <td>380.710660</td>\n      <td>465.313029</td>\n      <td>1.0</td>\n    </tr>\n    <tr>\n      <th>Villablanca</th>\n      <td>68.0</td>\n      <td>10.0</td>\n      <td>13.0</td>\n      <td>2848.0</td>\n      <td>351.123596</td>\n      <td>456.460674</td>\n      <td>1.0</td>\n    </tr>\n    <tr>\n      <th>Cumbres Mayores</th>\n      <td>17.0</td>\n      <td>8.0</td>\n      <td>8.0</td>\n      <td>1755.0</td>\n      <td>455.840456</td>\n      <td>455.840456</td>\n      <td>6.0</td>\n    </tr>\n    <tr>\n      <th>Lucena del Puerto</th>\n      <td>110.0</td>\n      <td>5.0</td>\n      <td>14.0</td>\n      <td>3371.0</td>\n      <td>148.323939</td>\n      <td>415.307031</td>\n      <td>4.0</td>\n    </tr>\n    <tr>\n      <th>Palma del Condado (La)</th>\n      <td>561.0</td>\n      <td>15.0</td>\n      <td>39.0</td>\n      <td>10761.0</td>\n      <td>139.392250</td>\n      <td>362.419849</td>\n      <td>6.0</td>\n    </tr>\n    <tr>\n      <th>Manzanilla</th>\n      <td>52.0</td>\n      <td>7.0</td>\n      <td>7.0</td>\n      <td>2135.0</td>\n      <td>327.868852</td>\n      <td>327.868852</td>\n      <td>0.0</td>\n    </tr>\n    <tr>\n      <th>Bonares</th>\n      <td>68.0</td>\n      <td>2.0</td>\n      <td>17.0</td>\n      <td>6058.0</td>\n      <td>33.014196</td>\n      <td>280.620667</td>\n      <td>1.0</td>\n    </tr>\n    <tr>\n      <th>Isla Cristina</th>\n      <td>478.0</td>\n      <td>23.0</td>\n      <td>59.0</td>\n      <td>21264.0</td>\n      <td>108.164033</td>\n      <td>277.464259</td>\n      <td>9.0</td>\n    </tr>\n    <tr>\n      <th>Palos de la Frontera</th>\n      <td>267.0</td>\n      <td>14.0</td>\n      <td>31.0</td>\n      <td>11289.0</td>\n      <td>124.014527</td>\n      <td>274.603596</td>\n      <td>6.0</td>\n    </tr>\n    <tr>\n      <th>Cartaya</th>\n      <td>433.0</td>\n      <td>9.0</td>\n      <td>42.0</td>\n      <td>19974.0</td>\n      <td>45.058576</td>\n      <td>210.273355</td>\n      <td>3.0</td>\n    </tr>\n    <tr>\n      <th>Moguer</th>\n      <td>405.0</td>\n      <td>20.0</td>\n      <td>37.0</td>\n      <td>22088.0</td>\n      <td>90.546903</td>\n      <td>167.511771</td>\n      <td>15.0</td>\n    </tr>\n    <tr>\n      <th>Fuenteheridos</th>\n      <td>3.0</td>\n      <td>1.0</td>\n      <td>1.0</td>\n      <td>678.0</td>\n      <td>147.492625</td>\n      <td>147.492625</td>\n      <td>0.0</td>\n    </tr>\n    <tr>\n      <th>Huelva-Costa</th>\n      <td>6483.0</td>\n      <td>172.0</td>\n      <td>410.0</td>\n      <td>288115.0</td>\n      <td>59.698384</td>\n      <td>142.304288</td>\n      <td>52.0</td>\n    </tr>\n    <tr>\n      <th>Huelva (capital)</th>\n      <td>3252.0</td>\n      <td>93.0</td>\n      <td>204.0</td>\n      <td>143663.0</td>\n      <td>64.734831</td>\n      <td>141.998984</td>\n      <td>27.0</td>\n    </tr>\n    <tr>\n      <th>Lepe</th>\n      <td>984.0</td>\n      <td>12.0</td>\n      <td>37.0</td>\n      <td>27431.0</td>\n      <td>43.746127</td>\n      <td>134.883890</td>\n      <td>2.0</td>\n    </tr>\n    <tr>\n      <th>Huelva</th>\n      <td>11438.0</td>\n      <td>280.0</td>\n      <td>636.0</td>\n      <td>510743.0</td>\n      <td>54.822093</td>\n      <td>124.524467</td>\n      <td>100.0</td>\n    </tr>\n    <tr>\n      <th>Condado-Campiña</th>\n      <td>3508.0</td>\n      <td>74.0</td>\n      <td>185.0</td>\n      <td>155057.0</td>\n      <td>47.724385</td>\n      <td>119.310963</td>\n      <td>36.0</td>\n    </tr>\n    <tr>\n      <th>Ayamonte</th>\n      <td>351.0</td>\n      <td>15.0</td>\n      <td>22.0</td>\n      <td>20946.0</td>\n      <td>71.612718</td>\n      <td>105.031987</td>\n      <td>8.0</td>\n    </tr>\n    <tr>\n      <th>Aljaraque</th>\n      <td>445.0</td>\n      <td>5.0</td>\n      <td>20.0</td>\n      <td>21260.0</td>\n      <td>23.518344</td>\n      <td>94.073377</td>\n      <td>2.0</td>\n    </tr>\n    <tr>\n      <th>Escacena del Campo</th>\n      <td>98.0</td>\n      <td>1.0</td>\n      <td>2.0</td>\n      <td>2284.0</td>\n      <td>43.782837</td>\n      <td>87.565674</td>\n      <td>NaN</td>\n    </tr>\n    <tr>\n      <th>Encinasola</th>\n      <td>10.0</td>\n      <td>1.0</td>\n      <td>1.0</td>\n      <td>1305.0</td>\n      <td>76.628352</td>\n      <td>76.628352</td>\n      <td>NaN</td>\n    </tr>\n    <tr>\n      <th>Rociana del Condado</th>\n      <td>122.0</td>\n      <td>1.0</td>\n      <td>6.0</td>\n      <td>7855.0</td>\n      <td>12.730745</td>\n      <td>76.384468</td>\n      <td>1.0</td>\n    </tr>\n    <tr>\n      <th>Punta Umbría</th>\n      <td>241.0</td>\n      <td>5.0</td>\n      <td>9.0</td>\n      <td>15242.0</td>\n      <td>32.804094</td>\n      <td>59.047369</td>\n      <td>0.0</td>\n    </tr>\n    <tr>\n      <th>Almonte</th>\n      <td>450.0</td>\n      <td>3.0</td>\n      <td>12.0</td>\n      <td>24191.0</td>\n      <td>12.401306</td>\n      <td>49.605225</td>\n      <td>0.0</td>\n    </tr>\n    <tr>\n      <th>Campillo (El)</th>\n      <td>55.0</td>\n      <td>1.0</td>\n      <td>1.0</td>\n      <td>2023.0</td>\n      <td>49.431537</td>\n      <td>49.431537</td>\n      <td>0.0</td>\n    </tr>\n    <tr>\n      <th>Aracena</th>\n      <td>290.0</td>\n      <td>3.0</td>\n      <td>4.0</td>\n      <td>8107.0</td>\n      <td>37.005057</td>\n      <td>49.340076</td>\n      <td>2.0</td>\n    </tr>\n    <tr>\n      <th>Villarrasa</th>\n      <td>91.0</td>\n      <td>1.0</td>\n      <td>1.0</td>\n      <td>2176.0</td>\n      <td>45.955882</td>\n      <td>45.955882</td>\n      <td>0.0</td>\n    </tr>\n    <tr>\n      <th>Sierra de Huelva-Andévalo Central</th>\n      <td>1313.0</td>\n      <td>26.0</td>\n      <td>30.0</td>\n      <td>67571.0</td>\n      <td>38.478045</td>\n      <td>44.397745</td>\n      <td>11.0</td>\n    </tr>\n    <tr>\n      <th>Bollullos Par del Condado</th>\n      <td>253.0</td>\n      <td>3.0</td>\n      <td>5.0</td>\n      <td>14272.0</td>\n      <td>21.020179</td>\n      <td>35.033632</td>\n      <td>1.0</td>\n    </tr>\n    <tr>\n      <th>Zalamea la Real</th>\n      <td>48.0</td>\n      <td>1.0</td>\n      <td>1.0</td>\n      <td>3068.0</td>\n      <td>32.594524</td>\n      <td>32.594524</td>\n      <td>0.0</td>\n    </tr>\n    <tr>\n      <th>Paterna del Campo</th>\n      <td>69.0</td>\n      <td>1.0</td>\n      <td>1.0</td>\n      <td>3509.0</td>\n      <td>28.498148</td>\n      <td>28.498148</td>\n      <td>NaN</td>\n    </tr>\n    <tr>\n      <th>Nerva</th>\n      <td>88.0</td>\n      <td>1.0</td>\n      <td>1.0</td>\n      <td>5235.0</td>\n      <td>19.102197</td>\n      <td>19.102197</td>\n      <td>0.0</td>\n    </tr>\n    <tr>\n      <th>Gibraleón</th>\n      <td>351.0</td>\n      <td>1.0</td>\n      <td>2.0</td>\n      <td>12607.0</td>\n      <td>7.932101</td>\n      <td>15.864202</td>\n      <td>0.0</td>\n    </tr>\n    <tr>\n      <th>Valverde del Camino</th>\n      <td>274.0</td>\n      <td>1.0</td>\n      <td>1.0</td>\n      <td>12820.0</td>\n      <td>7.800312</td>\n      <td>7.800312</td>\n      <td>NaN</td>\n    </tr>\n  </tbody>\n</table>\n</div>"
     },
     "metadata": {},
     "execution_count": 17
    }
   ],
   "source": [
    "tabla.sort_values('tasa14', ascending=False)"
   ]
  },
  {
   "cell_type": "code",
   "execution_count": 18,
   "metadata": {},
   "outputs": [
    {
     "output_type": "execute_result",
     "data": {
      "text/plain": [
       "Medida                             Confirmados PDIA  Confirmados PDIA 7 días  \\\n",
       "Lugar de residencia                                                            \n",
       "Bonares                                        68.0                      2.0   \n",
       "Rociana del Condado                           122.0                      1.0   \n",
       "Cartaya                                       433.0                      9.0   \n",
       "Aljaraque                                     445.0                      5.0   \n",
       "Almonte                                       450.0                      3.0   \n",
       "Lepe                                          984.0                     12.0   \n",
       "Lucena del Puerto                             110.0                      5.0   \n",
       "Palma del Condado (La)                        561.0                     15.0   \n",
       "Isla Cristina                                 478.0                     23.0   \n",
       "Condado-Campiña                              3508.0                     74.0   \n",
       "Huelva-Costa                                 6483.0                    172.0   \n",
       "Huelva                                      11438.0                    280.0   \n",
       "Palos de la Frontera                          267.0                     14.0   \n",
       "Huelva (capital)                             3252.0                     93.0   \n",
       "Gibraleón                                     351.0                      1.0   \n",
       "Escacena del Campo                             98.0                      1.0   \n",
       "Moguer                                        405.0                     20.0   \n",
       "Punta Umbría                                  241.0                      5.0   \n",
       "Bollullos Par del Condado                     253.0                      3.0   \n",
       "Ayamonte                                      351.0                     15.0   \n",
       "Aracena                                       290.0                      3.0   \n",
       "Villablanca                                    68.0                     10.0   \n",
       "Cerro de Andévalo (El)                         48.0                      9.0   \n",
       "Sierra de Huelva-Andévalo Central            1313.0                     26.0   \n",
       "Valverde del Camino                           274.0                      1.0   \n",
       "Paterna del Campo                              69.0                      1.0   \n",
       "Nerva                                          88.0                      1.0   \n",
       "Manzanilla                                     52.0                      7.0   \n",
       "Campillo (El)                                  55.0                      1.0   \n",
       "Cumbres Mayores                                17.0                      8.0   \n",
       "Encinasola                                     10.0                      1.0   \n",
       "Villarrasa                                     91.0                      1.0   \n",
       "Fuenteheridos                                   3.0                      1.0   \n",
       "Zalamea la Real                                48.0                      1.0   \n",
       "\n",
       "Medida                             Confirmados PDIA 14 días  Población  \\\n",
       "Lugar de residencia                                                      \n",
       "Bonares                                                17.0     6058.0   \n",
       "Rociana del Condado                                     6.0     7855.0   \n",
       "Cartaya                                                42.0    19974.0   \n",
       "Aljaraque                                              20.0    21260.0   \n",
       "Almonte                                                12.0    24191.0   \n",
       "Lepe                                                   37.0    27431.0   \n",
       "Lucena del Puerto                                      14.0     3371.0   \n",
       "Palma del Condado (La)                                 39.0    10761.0   \n",
       "Isla Cristina                                          59.0    21264.0   \n",
       "Condado-Campiña                                       185.0   155057.0   \n",
       "Huelva-Costa                                          410.0   288115.0   \n",
       "Huelva                                                636.0   510743.0   \n",
       "Palos de la Frontera                                   31.0    11289.0   \n",
       "Huelva (capital)                                      204.0   143663.0   \n",
       "Gibraleón                                               2.0    12607.0   \n",
       "Escacena del Campo                                      2.0     2284.0   \n",
       "Moguer                                                 37.0    22088.0   \n",
       "Punta Umbría                                            9.0    15242.0   \n",
       "Bollullos Par del Condado                               5.0    14272.0   \n",
       "Ayamonte                                               22.0    20946.0   \n",
       "Aracena                                                 4.0     8107.0   \n",
       "Villablanca                                            13.0     2848.0   \n",
       "Cerro de Andévalo (El)                                 11.0     2364.0   \n",
       "Sierra de Huelva-Andévalo Central                      30.0    67571.0   \n",
       "Valverde del Camino                                     1.0    12820.0   \n",
       "Paterna del Campo                                       1.0     3509.0   \n",
       "Nerva                                                   1.0     5235.0   \n",
       "Manzanilla                                              7.0     2135.0   \n",
       "Campillo (El)                                           1.0     2023.0   \n",
       "Cumbres Mayores                                         8.0     1755.0   \n",
       "Encinasola                                              1.0     1305.0   \n",
       "Villarrasa                                              1.0     2176.0   \n",
       "Fuenteheridos                                           1.0      678.0   \n",
       "Zalamea la Real                                         1.0     3068.0   \n",
       "\n",
       "Medida                                  tasa7      tasa14  Diferencia PDIA  \\\n",
       "Lugar de residencia                                                          \n",
       "Bonares                             33.014196  280.620667              1.0   \n",
       "Rociana del Condado                 12.730745   76.384468              1.0   \n",
       "Cartaya                             45.058576  210.273355              3.0   \n",
       "Aljaraque                           23.518344   94.073377              2.0   \n",
       "Almonte                             12.401306   49.605225              0.0   \n",
       "Lepe                                43.746127  134.883890              2.0   \n",
       "Lucena del Puerto                  148.323939  415.307031              4.0   \n",
       "Palma del Condado (La)             139.392250  362.419849              6.0   \n",
       "Isla Cristina                      108.164033  277.464259              9.0   \n",
       "Condado-Campiña                     47.724385  119.310963             36.0   \n",
       "Huelva-Costa                        59.698384  142.304288             52.0   \n",
       "Huelva                              54.822093  124.524467            100.0   \n",
       "Palos de la Frontera               124.014527  274.603596              6.0   \n",
       "Huelva (capital)                    64.734831  141.998984             27.0   \n",
       "Gibraleón                            7.932101   15.864202              0.0   \n",
       "Escacena del Campo                  43.782837   87.565674              0.0   \n",
       "Moguer                              90.546903  167.511771             15.0   \n",
       "Punta Umbría                        32.804094   59.047369              0.0   \n",
       "Bollullos Par del Condado           21.020179   35.033632              1.0   \n",
       "Ayamonte                            71.612718  105.031987              8.0   \n",
       "Aracena                             37.005057   49.340076              2.0   \n",
       "Villablanca                        351.123596  456.460674              1.0   \n",
       "Cerro de Andévalo (El)             380.710660  465.313029              1.0   \n",
       "Sierra de Huelva-Andévalo Central   38.478045   44.397745             11.0   \n",
       "Valverde del Camino                  7.800312    7.800312              0.0   \n",
       "Paterna del Campo                   28.498148   28.498148              0.0   \n",
       "Nerva                               19.102197   19.102197              0.0   \n",
       "Manzanilla                         327.868852  327.868852              0.0   \n",
       "Campillo (El)                       49.431537   49.431537              0.0   \n",
       "Cumbres Mayores                    455.840456  455.840456              6.0   \n",
       "Encinasola                          76.628352   76.628352              0.0   \n",
       "Villarrasa                          45.955882   45.955882              0.0   \n",
       "Fuenteheridos                      147.492625  147.492625              0.0   \n",
       "Zalamea la Real                     32.594524   32.594524              0.0   \n",
       "\n",
       "Medida                                 7/14  \n",
       "Lugar de residencia                          \n",
       "Bonares                            0.117647  \n",
       "Rociana del Condado                0.166667  \n",
       "Cartaya                            0.214286  \n",
       "Aljaraque                          0.250000  \n",
       "Almonte                            0.250000  \n",
       "Lepe                               0.324324  \n",
       "Lucena del Puerto                  0.357143  \n",
       "Palma del Condado (La)             0.384615  \n",
       "Isla Cristina                      0.389831  \n",
       "Condado-Campiña                    0.400000  \n",
       "Huelva-Costa                       0.419512  \n",
       "Huelva                             0.440252  \n",
       "Palos de la Frontera               0.451613  \n",
       "Huelva (capital)                   0.455882  \n",
       "Gibraleón                          0.500000  \n",
       "Escacena del Campo                 0.500000  \n",
       "Moguer                             0.540541  \n",
       "Punta Umbría                       0.555556  \n",
       "Bollullos Par del Condado          0.600000  \n",
       "Ayamonte                           0.681818  \n",
       "Aracena                            0.750000  \n",
       "Villablanca                        0.769231  \n",
       "Cerro de Andévalo (El)             0.818182  \n",
       "Sierra de Huelva-Andévalo Central  0.866667  \n",
       "Valverde del Camino                1.000000  \n",
       "Paterna del Campo                  1.000000  \n",
       "Nerva                              1.000000  \n",
       "Manzanilla                         1.000000  \n",
       "Campillo (El)                      1.000000  \n",
       "Cumbres Mayores                    1.000000  \n",
       "Encinasola                         1.000000  \n",
       "Villarrasa                         1.000000  \n",
       "Fuenteheridos                      1.000000  \n",
       "Zalamea la Real                    1.000000  "
      ],
      "text/html": "<div>\n<style scoped>\n    .dataframe tbody tr th:only-of-type {\n        vertical-align: middle;\n    }\n\n    .dataframe tbody tr th {\n        vertical-align: top;\n    }\n\n    .dataframe thead th {\n        text-align: right;\n    }\n</style>\n<table border=\"1\" class=\"dataframe\">\n  <thead>\n    <tr style=\"text-align: right;\">\n      <th>Medida</th>\n      <th>Confirmados PDIA</th>\n      <th>Confirmados PDIA 7 días</th>\n      <th>Confirmados PDIA 14 días</th>\n      <th>Población</th>\n      <th>tasa7</th>\n      <th>tasa14</th>\n      <th>Diferencia PDIA</th>\n      <th>7/14</th>\n    </tr>\n    <tr>\n      <th>Lugar de residencia</th>\n      <th></th>\n      <th></th>\n      <th></th>\n      <th></th>\n      <th></th>\n      <th></th>\n      <th></th>\n      <th></th>\n    </tr>\n  </thead>\n  <tbody>\n    <tr>\n      <th>Bonares</th>\n      <td>68.0</td>\n      <td>2.0</td>\n      <td>17.0</td>\n      <td>6058.0</td>\n      <td>33.014196</td>\n      <td>280.620667</td>\n      <td>1.0</td>\n      <td>0.117647</td>\n    </tr>\n    <tr>\n      <th>Rociana del Condado</th>\n      <td>122.0</td>\n      <td>1.0</td>\n      <td>6.0</td>\n      <td>7855.0</td>\n      <td>12.730745</td>\n      <td>76.384468</td>\n      <td>1.0</td>\n      <td>0.166667</td>\n    </tr>\n    <tr>\n      <th>Cartaya</th>\n      <td>433.0</td>\n      <td>9.0</td>\n      <td>42.0</td>\n      <td>19974.0</td>\n      <td>45.058576</td>\n      <td>210.273355</td>\n      <td>3.0</td>\n      <td>0.214286</td>\n    </tr>\n    <tr>\n      <th>Aljaraque</th>\n      <td>445.0</td>\n      <td>5.0</td>\n      <td>20.0</td>\n      <td>21260.0</td>\n      <td>23.518344</td>\n      <td>94.073377</td>\n      <td>2.0</td>\n      <td>0.250000</td>\n    </tr>\n    <tr>\n      <th>Almonte</th>\n      <td>450.0</td>\n      <td>3.0</td>\n      <td>12.0</td>\n      <td>24191.0</td>\n      <td>12.401306</td>\n      <td>49.605225</td>\n      <td>0.0</td>\n      <td>0.250000</td>\n    </tr>\n    <tr>\n      <th>Lepe</th>\n      <td>984.0</td>\n      <td>12.0</td>\n      <td>37.0</td>\n      <td>27431.0</td>\n      <td>43.746127</td>\n      <td>134.883890</td>\n      <td>2.0</td>\n      <td>0.324324</td>\n    </tr>\n    <tr>\n      <th>Lucena del Puerto</th>\n      <td>110.0</td>\n      <td>5.0</td>\n      <td>14.0</td>\n      <td>3371.0</td>\n      <td>148.323939</td>\n      <td>415.307031</td>\n      <td>4.0</td>\n      <td>0.357143</td>\n    </tr>\n    <tr>\n      <th>Palma del Condado (La)</th>\n      <td>561.0</td>\n      <td>15.0</td>\n      <td>39.0</td>\n      <td>10761.0</td>\n      <td>139.392250</td>\n      <td>362.419849</td>\n      <td>6.0</td>\n      <td>0.384615</td>\n    </tr>\n    <tr>\n      <th>Isla Cristina</th>\n      <td>478.0</td>\n      <td>23.0</td>\n      <td>59.0</td>\n      <td>21264.0</td>\n      <td>108.164033</td>\n      <td>277.464259</td>\n      <td>9.0</td>\n      <td>0.389831</td>\n    </tr>\n    <tr>\n      <th>Condado-Campiña</th>\n      <td>3508.0</td>\n      <td>74.0</td>\n      <td>185.0</td>\n      <td>155057.0</td>\n      <td>47.724385</td>\n      <td>119.310963</td>\n      <td>36.0</td>\n      <td>0.400000</td>\n    </tr>\n    <tr>\n      <th>Huelva-Costa</th>\n      <td>6483.0</td>\n      <td>172.0</td>\n      <td>410.0</td>\n      <td>288115.0</td>\n      <td>59.698384</td>\n      <td>142.304288</td>\n      <td>52.0</td>\n      <td>0.419512</td>\n    </tr>\n    <tr>\n      <th>Huelva</th>\n      <td>11438.0</td>\n      <td>280.0</td>\n      <td>636.0</td>\n      <td>510743.0</td>\n      <td>54.822093</td>\n      <td>124.524467</td>\n      <td>100.0</td>\n      <td>0.440252</td>\n    </tr>\n    <tr>\n      <th>Palos de la Frontera</th>\n      <td>267.0</td>\n      <td>14.0</td>\n      <td>31.0</td>\n      <td>11289.0</td>\n      <td>124.014527</td>\n      <td>274.603596</td>\n      <td>6.0</td>\n      <td>0.451613</td>\n    </tr>\n    <tr>\n      <th>Huelva (capital)</th>\n      <td>3252.0</td>\n      <td>93.0</td>\n      <td>204.0</td>\n      <td>143663.0</td>\n      <td>64.734831</td>\n      <td>141.998984</td>\n      <td>27.0</td>\n      <td>0.455882</td>\n    </tr>\n    <tr>\n      <th>Gibraleón</th>\n      <td>351.0</td>\n      <td>1.0</td>\n      <td>2.0</td>\n      <td>12607.0</td>\n      <td>7.932101</td>\n      <td>15.864202</td>\n      <td>0.0</td>\n      <td>0.500000</td>\n    </tr>\n    <tr>\n      <th>Escacena del Campo</th>\n      <td>98.0</td>\n      <td>1.0</td>\n      <td>2.0</td>\n      <td>2284.0</td>\n      <td>43.782837</td>\n      <td>87.565674</td>\n      <td>0.0</td>\n      <td>0.500000</td>\n    </tr>\n    <tr>\n      <th>Moguer</th>\n      <td>405.0</td>\n      <td>20.0</td>\n      <td>37.0</td>\n      <td>22088.0</td>\n      <td>90.546903</td>\n      <td>167.511771</td>\n      <td>15.0</td>\n      <td>0.540541</td>\n    </tr>\n    <tr>\n      <th>Punta Umbría</th>\n      <td>241.0</td>\n      <td>5.0</td>\n      <td>9.0</td>\n      <td>15242.0</td>\n      <td>32.804094</td>\n      <td>59.047369</td>\n      <td>0.0</td>\n      <td>0.555556</td>\n    </tr>\n    <tr>\n      <th>Bollullos Par del Condado</th>\n      <td>253.0</td>\n      <td>3.0</td>\n      <td>5.0</td>\n      <td>14272.0</td>\n      <td>21.020179</td>\n      <td>35.033632</td>\n      <td>1.0</td>\n      <td>0.600000</td>\n    </tr>\n    <tr>\n      <th>Ayamonte</th>\n      <td>351.0</td>\n      <td>15.0</td>\n      <td>22.0</td>\n      <td>20946.0</td>\n      <td>71.612718</td>\n      <td>105.031987</td>\n      <td>8.0</td>\n      <td>0.681818</td>\n    </tr>\n    <tr>\n      <th>Aracena</th>\n      <td>290.0</td>\n      <td>3.0</td>\n      <td>4.0</td>\n      <td>8107.0</td>\n      <td>37.005057</td>\n      <td>49.340076</td>\n      <td>2.0</td>\n      <td>0.750000</td>\n    </tr>\n    <tr>\n      <th>Villablanca</th>\n      <td>68.0</td>\n      <td>10.0</td>\n      <td>13.0</td>\n      <td>2848.0</td>\n      <td>351.123596</td>\n      <td>456.460674</td>\n      <td>1.0</td>\n      <td>0.769231</td>\n    </tr>\n    <tr>\n      <th>Cerro de Andévalo (El)</th>\n      <td>48.0</td>\n      <td>9.0</td>\n      <td>11.0</td>\n      <td>2364.0</td>\n      <td>380.710660</td>\n      <td>465.313029</td>\n      <td>1.0</td>\n      <td>0.818182</td>\n    </tr>\n    <tr>\n      <th>Sierra de Huelva-Andévalo Central</th>\n      <td>1313.0</td>\n      <td>26.0</td>\n      <td>30.0</td>\n      <td>67571.0</td>\n      <td>38.478045</td>\n      <td>44.397745</td>\n      <td>11.0</td>\n      <td>0.866667</td>\n    </tr>\n    <tr>\n      <th>Valverde del Camino</th>\n      <td>274.0</td>\n      <td>1.0</td>\n      <td>1.0</td>\n      <td>12820.0</td>\n      <td>7.800312</td>\n      <td>7.800312</td>\n      <td>0.0</td>\n      <td>1.000000</td>\n    </tr>\n    <tr>\n      <th>Paterna del Campo</th>\n      <td>69.0</td>\n      <td>1.0</td>\n      <td>1.0</td>\n      <td>3509.0</td>\n      <td>28.498148</td>\n      <td>28.498148</td>\n      <td>0.0</td>\n      <td>1.000000</td>\n    </tr>\n    <tr>\n      <th>Nerva</th>\n      <td>88.0</td>\n      <td>1.0</td>\n      <td>1.0</td>\n      <td>5235.0</td>\n      <td>19.102197</td>\n      <td>19.102197</td>\n      <td>0.0</td>\n      <td>1.000000</td>\n    </tr>\n    <tr>\n      <th>Manzanilla</th>\n      <td>52.0</td>\n      <td>7.0</td>\n      <td>7.0</td>\n      <td>2135.0</td>\n      <td>327.868852</td>\n      <td>327.868852</td>\n      <td>0.0</td>\n      <td>1.000000</td>\n    </tr>\n    <tr>\n      <th>Campillo (El)</th>\n      <td>55.0</td>\n      <td>1.0</td>\n      <td>1.0</td>\n      <td>2023.0</td>\n      <td>49.431537</td>\n      <td>49.431537</td>\n      <td>0.0</td>\n      <td>1.000000</td>\n    </tr>\n    <tr>\n      <th>Cumbres Mayores</th>\n      <td>17.0</td>\n      <td>8.0</td>\n      <td>8.0</td>\n      <td>1755.0</td>\n      <td>455.840456</td>\n      <td>455.840456</td>\n      <td>6.0</td>\n      <td>1.000000</td>\n    </tr>\n    <tr>\n      <th>Encinasola</th>\n      <td>10.0</td>\n      <td>1.0</td>\n      <td>1.0</td>\n      <td>1305.0</td>\n      <td>76.628352</td>\n      <td>76.628352</td>\n      <td>0.0</td>\n      <td>1.000000</td>\n    </tr>\n    <tr>\n      <th>Villarrasa</th>\n      <td>91.0</td>\n      <td>1.0</td>\n      <td>1.0</td>\n      <td>2176.0</td>\n      <td>45.955882</td>\n      <td>45.955882</td>\n      <td>0.0</td>\n      <td>1.000000</td>\n    </tr>\n    <tr>\n      <th>Fuenteheridos</th>\n      <td>3.0</td>\n      <td>1.0</td>\n      <td>1.0</td>\n      <td>678.0</td>\n      <td>147.492625</td>\n      <td>147.492625</td>\n      <td>0.0</td>\n      <td>1.000000</td>\n    </tr>\n    <tr>\n      <th>Zalamea la Real</th>\n      <td>48.0</td>\n      <td>1.0</td>\n      <td>1.0</td>\n      <td>3068.0</td>\n      <td>32.594524</td>\n      <td>32.594524</td>\n      <td>0.0</td>\n      <td>1.000000</td>\n    </tr>\n  </tbody>\n</table>\n</div>"
     },
     "metadata": {},
     "execution_count": 18
    }
   ],
   "source": [
    "# Peso de la tasa de la última semana en relación con la tasa a 14 días \n",
    "# Mejor cuanto menor. Valor 1 significa que no había casos antes de 7 días.\n",
    "tabla['7/14'] = tabla['tasa7'] / tabla['tasa14']\n",
    "tabla.fillna(0).sort_values('7/14', ascending=True)"
   ]
  },
  {
   "cell_type": "code",
   "execution_count": null,
   "metadata": {},
   "outputs": [],
   "source": []
  }
 ]
}