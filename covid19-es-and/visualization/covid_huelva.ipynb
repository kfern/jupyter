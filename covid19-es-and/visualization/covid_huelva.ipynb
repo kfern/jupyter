{
 "metadata": {
  "language_info": {
   "codemirror_mode": {
    "name": "ipython",
    "version": 3
   },
   "file_extension": ".py",
   "mimetype": "text/x-python",
   "name": "python",
   "nbconvert_exporter": "python",
   "pygments_lexer": "ipython3",
   "version": "3.6.9-final"
  },
  "orig_nbformat": 2,
  "kernelspec": {
   "name": "python3",
   "display_name": "Python 3.6.9 64-bit",
   "metadata": {
    "interpreter": {
     "hash": "31f2aee4e71d21fbe5cf8b01ff0e069b9275f58929596ceb00d14d90e3e16cd6"
    }
   }
  }
 },
 "nbformat": 4,
 "nbformat_minor": 2,
 "cells": [
  {
   "cell_type": "code",
   "execution_count": 1,
   "metadata": {},
   "outputs": [],
   "source": [
    "import pandas as pd"
   ]
  },
  {
   "cell_type": "code",
   "execution_count": 2,
   "metadata": {},
   "outputs": [],
   "source": [
    "# FIX SSL: CERTIFICATE_VERIFY_FAILED with Python3\n",
    "# https://stackoverflow.com/a/49174340\n",
    "import ssl\n",
    "\n",
    "ssl._create_default_https_context = ssl._create_unverified_context"
   ]
  },
  {
   "cell_type": "code",
   "execution_count": 3,
   "metadata": {},
   "outputs": [],
   "source": [
    "url = 'https://www.juntadeandalucia.es/institutodeestadisticaycartografia/badea/stpivot/stpivot/Print?cube=013d884c-cfc5-4c21-9e78-e26225682afd&type=3&foto=si&ejecutaDesde=&codConsulta=38668&consTipoVisua=JP'\n",
    "fields = ['Lugar de residencia', 'Medida', 'Valor']\n",
    "df = pd.read_csv(url, delimiter=';', usecols=fields, decimal=',')"
   ]
  },
  {
   "cell_type": "code",
   "execution_count": 4,
   "metadata": {},
   "outputs": [
    {
     "output_type": "execute_result",
     "data": {
      "text/plain": [
       "                     Lugar de residencia                    Medida  \\\n",
       "0                                 Huelva                 Población   \n",
       "1                                 Huelva          Confirmados PDIA   \n",
       "2                                 Huelva  Confirmados PDIA 14 días   \n",
       "3                                 Huelva         Tasa PDIA 14 días   \n",
       "4                                 Huelva   Confirmados PDIA 7 días   \n",
       "..                                   ...                       ...   \n",
       "627  Municipio de Huelva sin especificar         Tasa PDIA 14 días   \n",
       "628  Municipio de Huelva sin especificar   Confirmados PDIA 7 días   \n",
       "629  Municipio de Huelva sin especificar        Total Confirmados    \n",
       "630  Municipio de Huelva sin especificar                   Curados   \n",
       "631  Municipio de Huelva sin especificar                Fallecidos   \n",
       "\n",
       "                  Valor  \n",
       "0                510743  \n",
       "1                 11174  \n",
       "2                   828  \n",
       "3    162,11675930947658  \n",
       "4                   276  \n",
       "..                  ...  \n",
       "627                   -  \n",
       "628                   5  \n",
       "629                 129  \n",
       "630                 113  \n",
       "631                   2  \n",
       "\n",
       "[632 rows x 3 columns]"
      ],
      "text/html": "<div>\n<style scoped>\n    .dataframe tbody tr th:only-of-type {\n        vertical-align: middle;\n    }\n\n    .dataframe tbody tr th {\n        vertical-align: top;\n    }\n\n    .dataframe thead th {\n        text-align: right;\n    }\n</style>\n<table border=\"1\" class=\"dataframe\">\n  <thead>\n    <tr style=\"text-align: right;\">\n      <th></th>\n      <th>Lugar de residencia</th>\n      <th>Medida</th>\n      <th>Valor</th>\n    </tr>\n  </thead>\n  <tbody>\n    <tr>\n      <th>0</th>\n      <td>Huelva</td>\n      <td>Población</td>\n      <td>510743</td>\n    </tr>\n    <tr>\n      <th>1</th>\n      <td>Huelva</td>\n      <td>Confirmados PDIA</td>\n      <td>11174</td>\n    </tr>\n    <tr>\n      <th>2</th>\n      <td>Huelva</td>\n      <td>Confirmados PDIA 14 días</td>\n      <td>828</td>\n    </tr>\n    <tr>\n      <th>3</th>\n      <td>Huelva</td>\n      <td>Tasa PDIA 14 días</td>\n      <td>162,11675930947658</td>\n    </tr>\n    <tr>\n      <th>4</th>\n      <td>Huelva</td>\n      <td>Confirmados PDIA 7 días</td>\n      <td>276</td>\n    </tr>\n    <tr>\n      <th>...</th>\n      <td>...</td>\n      <td>...</td>\n      <td>...</td>\n    </tr>\n    <tr>\n      <th>627</th>\n      <td>Municipio de Huelva sin especificar</td>\n      <td>Tasa PDIA 14 días</td>\n      <td>-</td>\n    </tr>\n    <tr>\n      <th>628</th>\n      <td>Municipio de Huelva sin especificar</td>\n      <td>Confirmados PDIA 7 días</td>\n      <td>5</td>\n    </tr>\n    <tr>\n      <th>629</th>\n      <td>Municipio de Huelva sin especificar</td>\n      <td>Total Confirmados</td>\n      <td>129</td>\n    </tr>\n    <tr>\n      <th>630</th>\n      <td>Municipio de Huelva sin especificar</td>\n      <td>Curados</td>\n      <td>113</td>\n    </tr>\n    <tr>\n      <th>631</th>\n      <td>Municipio de Huelva sin especificar</td>\n      <td>Fallecidos</td>\n      <td>2</td>\n    </tr>\n  </tbody>\n</table>\n<p>632 rows × 3 columns</p>\n</div>"
     },
     "metadata": {},
     "execution_count": 4
    }
   ],
   "source": [
    "df"
   ]
  },
  {
   "cell_type": "code",
   "execution_count": 5,
   "metadata": {},
   "outputs": [],
   "source": [
    "df['Valor'] = pd.to_numeric(df['Valor'],errors='coerce')"
   ]
  },
  {
   "cell_type": "code",
   "execution_count": 6,
   "metadata": {},
   "outputs": [],
   "source": [
    "dfAnterior = pd.read_csv('covid_huelva.csv', index_col='Lugar de residencia')"
   ]
  },
  {
   "cell_type": "code",
   "execution_count": 7,
   "metadata": {
    "tags": []
   },
   "outputs": [
    {
     "output_type": "stream",
     "name": "stdout",
     "text": [
      "Confirmados PCR en la provincia de Huelva:  11174.0\n"
     ]
    }
   ],
   "source": [
    "# Confirmados PCR provincia Huelva\n",
    "p = df[df['Lugar de residencia'] == 'Huelva'][df['Medida'] == 'Confirmados PDIA']['Valor'].values[0]\n",
    "print('Confirmados PCR en la provincia de Huelva: ', p)"
   ]
  },
  {
   "cell_type": "code",
   "execution_count": 8,
   "metadata": {
    "tags": []
   },
   "outputs": [
    {
     "output_type": "stream",
     "name": "stdout",
     "text": [
      "Confirmados PCR en Huelva capital:  3155.0\n"
     ]
    }
   ],
   "source": [
    "# Confirmados PCR Huelva capitalpd\n",
    "c = df[df['Lugar de residencia'] == 'Huelva (capital)'][df['Medida'] == 'Confirmados PDIA']['Valor'].values[0]\n",
    "print('Confirmados PCR en Huelva capital: ', c)"
   ]
  },
  {
   "cell_type": "code",
   "execution_count": 9,
   "metadata": {
    "tags": []
   },
   "outputs": [],
   "source": [
    "c7 = df[df['Lugar de residencia'] == 'Huelva (capital)'][df['Medida'] == 'Confirmados PDIA 7 días']['Valor'].values[0]\n",
    "c14 = df[df['Lugar de residencia'] == 'Huelva (capital)'][df['Medida'] == 'Confirmados PDIA 14 días']['Valor'].values[0]\n",
    "p = df[df['Lugar de residencia'] == 'Huelva (capital)'][df['Medida'] == 'Población']['Valor'].values[0]"
   ]
  },
  {
   "cell_type": "code",
   "execution_count": 10,
   "metadata": {
    "tags": []
   },
   "outputs": [
    {
     "output_type": "stream",
     "name": "stdout",
     "text": [
      "Huelva (capital)\n\nUn positivo PCR cada 1916 personas en los últimos 7 días \n\nUn positivo PCR cada 611 personas en los últimos 14 días\n"
     ]
    }
   ],
   "source": [
    "print('Huelva (capital)\\n')\n",
    "#print('Confirmados PCR 7 días x 1,000 habitantes: ', f\"{c7/(p/1000):.5f}\")\n",
    "print('Un positivo PCR cada', f\"{p/c7:.0f}\", 'personas en los últimos 7 días', '\\n')\n",
    "#print('Confirmados PCR 14 días x 1,000 habitantes: ', f\"{c14/(p/1000):.5f}\")\n",
    "print('Un positivo PCR cada', f\"{p/c14:.0f}\", 'personas en los últimos 14 días')"
   ]
  },
  {
   "cell_type": "code",
   "execution_count": 11,
   "metadata": {},
   "outputs": [],
   "source": [
    "filtro = ((df['Medida'] == 'Confirmados PDIA')| (df['Medida'] == 'Confirmados PDIA 7 días') | (df['Medida'] == 'Población' ) | (df['Medida'] == 'Confirmados PDIA 14 días')) & (df['Valor'] > 0)\n",
    "tabla = pd.pivot_table(df.loc[filtro], values='Valor', index='Lugar de residencia', columns='Medida').dropna()"
   ]
  },
  {
   "cell_type": "code",
   "execution_count": 12,
   "metadata": {},
   "outputs": [],
   "source": [
    "# Reorder columns\n",
    "tabla = tabla[['Confirmados PDIA', 'Confirmados PDIA 7 días', 'Confirmados PDIA 14 días', 'Población']]"
   ]
  },
  {
   "cell_type": "code",
   "execution_count": 13,
   "metadata": {},
   "outputs": [],
   "source": [
    "tabla['tasa7'] = tabla['Confirmados PDIA 7 días']/tabla['Población']*100000\n",
    "tabla['tasa14'] = tabla['Confirmados PDIA 14 días']/tabla['Población']*100000"
   ]
  },
  {
   "cell_type": "code",
   "execution_count": 14,
   "metadata": {},
   "outputs": [],
   "source": [
    "tabla['Diferencia PDIA'] = tabla['Confirmados PDIA'] - dfAnterior['Confirmados PDIA']"
   ]
  },
  {
   "cell_type": "code",
   "execution_count": 15,
   "metadata": {},
   "outputs": [
    {
     "output_type": "execute_result",
     "data": {
      "text/plain": [
       "Medida                             Confirmados PDIA  Confirmados PDIA 7 días  \\\n",
       "Lugar de residencia                                                            \n",
       "Huelva                                      11174.0                    276.0   \n",
       "Huelva-Costa                                 6316.0                    170.0   \n",
       "Condado-Campiña                              3443.0                     97.0   \n",
       "Huelva (capital)                             3155.0                     75.0   \n",
       "Isla Cristina                                 457.0                     27.0   \n",
       "Palos de la Frontera                          257.0                     17.0   \n",
       "Lepe                                          975.0                     21.0   \n",
       "Moguer                                        385.0                     15.0   \n",
       "Cartaya                                       426.0                     27.0   \n",
       "Palma del Condado (La)                        547.0                     20.0   \n",
       "Villablanca                                    59.0                      4.0   \n",
       "Almonte                                       448.0                      9.0   \n",
       "Cerro de Andévalo (El)                         39.0                      2.0   \n",
       "Lucena del Puerto                             105.0                      6.0   \n",
       "Bonares                                        67.0                     11.0   \n",
       "Bollullos Par del Condado                     251.0                      3.0   \n",
       "Ayamonte                                      337.0                      3.0   \n",
       "Punta Umbría                                  236.0                      2.0   \n",
       "Rociana del Condado                           121.0                      4.0   \n",
       "Sierra de Huelva-Andévalo Central            1287.0                      4.0   \n",
       "Aljaraque                                     440.0                      8.0   \n",
       "Villarrasa                                     91.0                      1.0   \n",
       "\n",
       "Medida                             Confirmados PDIA 14 días  Población  \\\n",
       "Lugar de residencia                                                      \n",
       "Huelva                                                828.0   510743.0   \n",
       "Huelva-Costa                                          538.0   288115.0   \n",
       "Condado-Campiña                                       262.0   155057.0   \n",
       "Huelva (capital)                                      235.0   143663.0   \n",
       "Isla Cristina                                          74.0    21264.0   \n",
       "Palos de la Frontera                                   36.0    11289.0   \n",
       "Lepe                                                   65.0    27431.0   \n",
       "Moguer                                                 45.0    22088.0   \n",
       "Cartaya                                                75.0    19974.0   \n",
       "Palma del Condado (La)                                 62.0    10761.0   \n",
       "Villablanca                                             5.0     2848.0   \n",
       "Almonte                                                14.0    24191.0   \n",
       "Cerro de Andévalo (El)                                  2.0     2364.0   \n",
       "Lucena del Puerto                                      22.0     3371.0   \n",
       "Bonares                                                22.0     6058.0   \n",
       "Bollullos Par del Condado                              16.0    14272.0   \n",
       "Ayamonte                                               20.0    20946.0   \n",
       "Punta Umbría                                            9.0    15242.0   \n",
       "Rociana del Condado                                     5.0     7855.0   \n",
       "Sierra de Huelva-Andévalo Central                      21.0    67571.0   \n",
       "Aljaraque                                              46.0    21260.0   \n",
       "Villarrasa                                              1.0     2176.0   \n",
       "\n",
       "Medida                                  tasa7      tasa14  Diferencia PDIA  \n",
       "Lugar de residencia                                                         \n",
       "Huelva                              54.038920  162.116759             51.0  \n",
       "Huelva-Costa                        59.004217  186.730993             30.0  \n",
       "Condado-Campiña                     62.557640  168.970121             17.0  \n",
       "Huelva (capital)                    52.205509  163.577261             10.0  \n",
       "Isla Cristina                      126.975169  348.006020              7.0  \n",
       "Palos de la Frontera               150.589069  318.894499              6.0  \n",
       "Lepe                                76.555722  236.958186              5.0  \n",
       "Moguer                              67.910177  203.730532              3.0  \n",
       "Cartaya                            135.175728  375.488135              3.0  \n",
       "Palma del Condado (La)             185.856333  576.154632              2.0  \n",
       "Villablanca                        140.449438  175.561798              2.0  \n",
       "Almonte                             37.203919   57.872763              1.0  \n",
       "Cerro de Andévalo (El)              84.602369   84.602369              1.0  \n",
       "Lucena del Puerto                  177.988727  652.625334              1.0  \n",
       "Bonares                            181.578079  363.156157              1.0  \n",
       "Bollullos Par del Condado           21.020179  112.107623              1.0  \n",
       "Ayamonte                            14.322544   95.483625              1.0  \n",
       "Punta Umbría                        13.121638   59.047369              1.0  \n",
       "Rociana del Condado                 50.922979   63.653724              1.0  \n",
       "Sierra de Huelva-Andévalo Central    5.919699   31.078421              1.0  \n",
       "Aljaraque                           37.629351  216.368768              1.0  \n",
       "Villarrasa                          45.955882   45.955882              NaN  "
      ],
      "text/html": "<div>\n<style scoped>\n    .dataframe tbody tr th:only-of-type {\n        vertical-align: middle;\n    }\n\n    .dataframe tbody tr th {\n        vertical-align: top;\n    }\n\n    .dataframe thead th {\n        text-align: right;\n    }\n</style>\n<table border=\"1\" class=\"dataframe\">\n  <thead>\n    <tr style=\"text-align: right;\">\n      <th>Medida</th>\n      <th>Confirmados PDIA</th>\n      <th>Confirmados PDIA 7 días</th>\n      <th>Confirmados PDIA 14 días</th>\n      <th>Población</th>\n      <th>tasa7</th>\n      <th>tasa14</th>\n      <th>Diferencia PDIA</th>\n    </tr>\n    <tr>\n      <th>Lugar de residencia</th>\n      <th></th>\n      <th></th>\n      <th></th>\n      <th></th>\n      <th></th>\n      <th></th>\n      <th></th>\n    </tr>\n  </thead>\n  <tbody>\n    <tr>\n      <th>Huelva</th>\n      <td>11174.0</td>\n      <td>276.0</td>\n      <td>828.0</td>\n      <td>510743.0</td>\n      <td>54.038920</td>\n      <td>162.116759</td>\n      <td>51.0</td>\n    </tr>\n    <tr>\n      <th>Huelva-Costa</th>\n      <td>6316.0</td>\n      <td>170.0</td>\n      <td>538.0</td>\n      <td>288115.0</td>\n      <td>59.004217</td>\n      <td>186.730993</td>\n      <td>30.0</td>\n    </tr>\n    <tr>\n      <th>Condado-Campiña</th>\n      <td>3443.0</td>\n      <td>97.0</td>\n      <td>262.0</td>\n      <td>155057.0</td>\n      <td>62.557640</td>\n      <td>168.970121</td>\n      <td>17.0</td>\n    </tr>\n    <tr>\n      <th>Huelva (capital)</th>\n      <td>3155.0</td>\n      <td>75.0</td>\n      <td>235.0</td>\n      <td>143663.0</td>\n      <td>52.205509</td>\n      <td>163.577261</td>\n      <td>10.0</td>\n    </tr>\n    <tr>\n      <th>Isla Cristina</th>\n      <td>457.0</td>\n      <td>27.0</td>\n      <td>74.0</td>\n      <td>21264.0</td>\n      <td>126.975169</td>\n      <td>348.006020</td>\n      <td>7.0</td>\n    </tr>\n    <tr>\n      <th>Palos de la Frontera</th>\n      <td>257.0</td>\n      <td>17.0</td>\n      <td>36.0</td>\n      <td>11289.0</td>\n      <td>150.589069</td>\n      <td>318.894499</td>\n      <td>6.0</td>\n    </tr>\n    <tr>\n      <th>Lepe</th>\n      <td>975.0</td>\n      <td>21.0</td>\n      <td>65.0</td>\n      <td>27431.0</td>\n      <td>76.555722</td>\n      <td>236.958186</td>\n      <td>5.0</td>\n    </tr>\n    <tr>\n      <th>Moguer</th>\n      <td>385.0</td>\n      <td>15.0</td>\n      <td>45.0</td>\n      <td>22088.0</td>\n      <td>67.910177</td>\n      <td>203.730532</td>\n      <td>3.0</td>\n    </tr>\n    <tr>\n      <th>Cartaya</th>\n      <td>426.0</td>\n      <td>27.0</td>\n      <td>75.0</td>\n      <td>19974.0</td>\n      <td>135.175728</td>\n      <td>375.488135</td>\n      <td>3.0</td>\n    </tr>\n    <tr>\n      <th>Palma del Condado (La)</th>\n      <td>547.0</td>\n      <td>20.0</td>\n      <td>62.0</td>\n      <td>10761.0</td>\n      <td>185.856333</td>\n      <td>576.154632</td>\n      <td>2.0</td>\n    </tr>\n    <tr>\n      <th>Villablanca</th>\n      <td>59.0</td>\n      <td>4.0</td>\n      <td>5.0</td>\n      <td>2848.0</td>\n      <td>140.449438</td>\n      <td>175.561798</td>\n      <td>2.0</td>\n    </tr>\n    <tr>\n      <th>Almonte</th>\n      <td>448.0</td>\n      <td>9.0</td>\n      <td>14.0</td>\n      <td>24191.0</td>\n      <td>37.203919</td>\n      <td>57.872763</td>\n      <td>1.0</td>\n    </tr>\n    <tr>\n      <th>Cerro de Andévalo (El)</th>\n      <td>39.0</td>\n      <td>2.0</td>\n      <td>2.0</td>\n      <td>2364.0</td>\n      <td>84.602369</td>\n      <td>84.602369</td>\n      <td>1.0</td>\n    </tr>\n    <tr>\n      <th>Lucena del Puerto</th>\n      <td>105.0</td>\n      <td>6.0</td>\n      <td>22.0</td>\n      <td>3371.0</td>\n      <td>177.988727</td>\n      <td>652.625334</td>\n      <td>1.0</td>\n    </tr>\n    <tr>\n      <th>Bonares</th>\n      <td>67.0</td>\n      <td>11.0</td>\n      <td>22.0</td>\n      <td>6058.0</td>\n      <td>181.578079</td>\n      <td>363.156157</td>\n      <td>1.0</td>\n    </tr>\n    <tr>\n      <th>Bollullos Par del Condado</th>\n      <td>251.0</td>\n      <td>3.0</td>\n      <td>16.0</td>\n      <td>14272.0</td>\n      <td>21.020179</td>\n      <td>112.107623</td>\n      <td>1.0</td>\n    </tr>\n    <tr>\n      <th>Ayamonte</th>\n      <td>337.0</td>\n      <td>3.0</td>\n      <td>20.0</td>\n      <td>20946.0</td>\n      <td>14.322544</td>\n      <td>95.483625</td>\n      <td>1.0</td>\n    </tr>\n    <tr>\n      <th>Punta Umbría</th>\n      <td>236.0</td>\n      <td>2.0</td>\n      <td>9.0</td>\n      <td>15242.0</td>\n      <td>13.121638</td>\n      <td>59.047369</td>\n      <td>1.0</td>\n    </tr>\n    <tr>\n      <th>Rociana del Condado</th>\n      <td>121.0</td>\n      <td>4.0</td>\n      <td>5.0</td>\n      <td>7855.0</td>\n      <td>50.922979</td>\n      <td>63.653724</td>\n      <td>1.0</td>\n    </tr>\n    <tr>\n      <th>Sierra de Huelva-Andévalo Central</th>\n      <td>1287.0</td>\n      <td>4.0</td>\n      <td>21.0</td>\n      <td>67571.0</td>\n      <td>5.919699</td>\n      <td>31.078421</td>\n      <td>1.0</td>\n    </tr>\n    <tr>\n      <th>Aljaraque</th>\n      <td>440.0</td>\n      <td>8.0</td>\n      <td>46.0</td>\n      <td>21260.0</td>\n      <td>37.629351</td>\n      <td>216.368768</td>\n      <td>1.0</td>\n    </tr>\n    <tr>\n      <th>Villarrasa</th>\n      <td>91.0</td>\n      <td>1.0</td>\n      <td>1.0</td>\n      <td>2176.0</td>\n      <td>45.955882</td>\n      <td>45.955882</td>\n      <td>NaN</td>\n    </tr>\n  </tbody>\n</table>\n</div>"
     },
     "metadata": {},
     "execution_count": 15
    }
   ],
   "source": [
    "# Nuevos casos desde la última captura\n",
    "tabla[tabla['Diferencia PDIA'] != 0].sort_values('Diferencia PDIA', ascending=False)"
   ]
  },
  {
   "cell_type": "code",
   "execution_count": 16,
   "metadata": {},
   "outputs": [],
   "source": [
    "if tabla[tabla['Diferencia PDIA'] != 0]['Diferencia PDIA'].sum() > 0:\n",
    "  # Save to csv\n",
    "  tabla.to_csv('covid_huelva.csv', encoding='utf-8', header=True, index=True)  "
   ]
  },
  {
   "cell_type": "code",
   "execution_count": 17,
   "metadata": {},
   "outputs": [
    {
     "output_type": "execute_result",
     "data": {
      "text/plain": [
       "Medida                             Confirmados PDIA  Confirmados PDIA 7 días  \\\n",
       "Lugar de residencia                                                            \n",
       "Lucena del Puerto                             105.0                      6.0   \n",
       "Palma del Condado (La)                        547.0                     20.0   \n",
       "Cartaya                                       426.0                     27.0   \n",
       "Bonares                                        67.0                     11.0   \n",
       "Isla Cristina                                 457.0                     27.0   \n",
       "Palos de la Frontera                          257.0                     17.0   \n",
       "Lepe                                          975.0                     21.0   \n",
       "Aljaraque                                     440.0                      8.0   \n",
       "Moguer                                        385.0                     15.0   \n",
       "Huelva-Costa                                 6316.0                    170.0   \n",
       "Villablanca                                    59.0                      4.0   \n",
       "Condado-Campiña                              3443.0                     97.0   \n",
       "Huelva (capital)                             3155.0                     75.0   \n",
       "Huelva                                      11174.0                    276.0   \n",
       "Villanueva de los Castillejos                  64.0                      3.0   \n",
       "Niebla                                        117.0                      5.0   \n",
       "Bollullos Par del Condado                     251.0                      3.0   \n",
       "San Juan del Puerto                           154.0                      2.0   \n",
       "Ayamonte                                      337.0                      3.0   \n",
       "Cerro de Andévalo (El)                         39.0                      2.0   \n",
       "Trigueros                                     134.0                      2.0   \n",
       "Rociana del Condado                           121.0                      4.0   \n",
       "Villalba del Alcor                            104.0                      1.0   \n",
       "Punta Umbría                                  236.0                      2.0   \n",
       "Almonte                                       448.0                      9.0   \n",
       "Villarrasa                                     91.0                      1.0   \n",
       "Cortegana                                     123.0                      1.0   \n",
       "Sierra de Huelva-Andévalo Central            1287.0                      4.0   \n",
       "Aracena                                       287.0                      1.0   \n",
       "Gibraleón                                     350.0                      1.0   \n",
       "\n",
       "Medida                             Confirmados PDIA 14 días  Población  \\\n",
       "Lugar de residencia                                                      \n",
       "Lucena del Puerto                                      22.0     3371.0   \n",
       "Palma del Condado (La)                                 62.0    10761.0   \n",
       "Cartaya                                                75.0    19974.0   \n",
       "Bonares                                                22.0     6058.0   \n",
       "Isla Cristina                                          74.0    21264.0   \n",
       "Palos de la Frontera                                   36.0    11289.0   \n",
       "Lepe                                                   65.0    27431.0   \n",
       "Aljaraque                                              46.0    21260.0   \n",
       "Moguer                                                 45.0    22088.0   \n",
       "Huelva-Costa                                          538.0   288115.0   \n",
       "Villablanca                                             5.0     2848.0   \n",
       "Condado-Campiña                                       262.0   155057.0   \n",
       "Huelva (capital)                                      235.0   143663.0   \n",
       "Huelva                                                828.0   510743.0   \n",
       "Villanueva de los Castillejos                           4.0     2820.0   \n",
       "Niebla                                                  5.0     4117.0   \n",
       "Bollullos Par del Condado                              16.0    14272.0   \n",
       "San Juan del Puerto                                    10.0     9300.0   \n",
       "Ayamonte                                               20.0    20946.0   \n",
       "Cerro de Andévalo (El)                                  2.0     2364.0   \n",
       "Trigueros                                               6.0     7713.0   \n",
       "Rociana del Condado                                     5.0     7855.0   \n",
       "Villalba del Alcor                                      2.0     3338.0   \n",
       "Punta Umbría                                            9.0    15242.0   \n",
       "Almonte                                                14.0    24191.0   \n",
       "Villarrasa                                              1.0     2176.0   \n",
       "Cortegana                                               2.0     4666.0   \n",
       "Sierra de Huelva-Andévalo Central                      21.0    67571.0   \n",
       "Aracena                                                 2.0     8107.0   \n",
       "Gibraleón                                               1.0    12607.0   \n",
       "\n",
       "Medida                                  tasa7      tasa14  Diferencia PDIA  \n",
       "Lugar de residencia                                                         \n",
       "Lucena del Puerto                  177.988727  652.625334              1.0  \n",
       "Palma del Condado (La)             185.856333  576.154632              2.0  \n",
       "Cartaya                            135.175728  375.488135              3.0  \n",
       "Bonares                            181.578079  363.156157              1.0  \n",
       "Isla Cristina                      126.975169  348.006020              7.0  \n",
       "Palos de la Frontera               150.589069  318.894499              6.0  \n",
       "Lepe                                76.555722  236.958186              5.0  \n",
       "Aljaraque                           37.629351  216.368768              1.0  \n",
       "Moguer                              67.910177  203.730532              3.0  \n",
       "Huelva-Costa                        59.004217  186.730993             30.0  \n",
       "Villablanca                        140.449438  175.561798              2.0  \n",
       "Condado-Campiña                     62.557640  168.970121             17.0  \n",
       "Huelva (capital)                    52.205509  163.577261             10.0  \n",
       "Huelva                              54.038920  162.116759             51.0  \n",
       "Villanueva de los Castillejos      106.382979  141.843972              0.0  \n",
       "Niebla                             121.447656  121.447656              0.0  \n",
       "Bollullos Par del Condado           21.020179  112.107623              1.0  \n",
       "San Juan del Puerto                 21.505376  107.526882              0.0  \n",
       "Ayamonte                            14.322544   95.483625              1.0  \n",
       "Cerro de Andévalo (El)              84.602369   84.602369              1.0  \n",
       "Trigueros                           25.930248   77.790743              0.0  \n",
       "Rociana del Condado                 50.922979   63.653724              1.0  \n",
       "Villalba del Alcor                  29.958059   59.916117              0.0  \n",
       "Punta Umbría                        13.121638   59.047369              1.0  \n",
       "Almonte                             37.203919   57.872763              1.0  \n",
       "Villarrasa                          45.955882   45.955882              NaN  \n",
       "Cortegana                           21.431633   42.863266              0.0  \n",
       "Sierra de Huelva-Andévalo Central    5.919699   31.078421              1.0  \n",
       "Aracena                             12.335019   24.670038              0.0  \n",
       "Gibraleón                            7.932101    7.932101              0.0  "
      ],
      "text/html": "<div>\n<style scoped>\n    .dataframe tbody tr th:only-of-type {\n        vertical-align: middle;\n    }\n\n    .dataframe tbody tr th {\n        vertical-align: top;\n    }\n\n    .dataframe thead th {\n        text-align: right;\n    }\n</style>\n<table border=\"1\" class=\"dataframe\">\n  <thead>\n    <tr style=\"text-align: right;\">\n      <th>Medida</th>\n      <th>Confirmados PDIA</th>\n      <th>Confirmados PDIA 7 días</th>\n      <th>Confirmados PDIA 14 días</th>\n      <th>Población</th>\n      <th>tasa7</th>\n      <th>tasa14</th>\n      <th>Diferencia PDIA</th>\n    </tr>\n    <tr>\n      <th>Lugar de residencia</th>\n      <th></th>\n      <th></th>\n      <th></th>\n      <th></th>\n      <th></th>\n      <th></th>\n      <th></th>\n    </tr>\n  </thead>\n  <tbody>\n    <tr>\n      <th>Lucena del Puerto</th>\n      <td>105.0</td>\n      <td>6.0</td>\n      <td>22.0</td>\n      <td>3371.0</td>\n      <td>177.988727</td>\n      <td>652.625334</td>\n      <td>1.0</td>\n    </tr>\n    <tr>\n      <th>Palma del Condado (La)</th>\n      <td>547.0</td>\n      <td>20.0</td>\n      <td>62.0</td>\n      <td>10761.0</td>\n      <td>185.856333</td>\n      <td>576.154632</td>\n      <td>2.0</td>\n    </tr>\n    <tr>\n      <th>Cartaya</th>\n      <td>426.0</td>\n      <td>27.0</td>\n      <td>75.0</td>\n      <td>19974.0</td>\n      <td>135.175728</td>\n      <td>375.488135</td>\n      <td>3.0</td>\n    </tr>\n    <tr>\n      <th>Bonares</th>\n      <td>67.0</td>\n      <td>11.0</td>\n      <td>22.0</td>\n      <td>6058.0</td>\n      <td>181.578079</td>\n      <td>363.156157</td>\n      <td>1.0</td>\n    </tr>\n    <tr>\n      <th>Isla Cristina</th>\n      <td>457.0</td>\n      <td>27.0</td>\n      <td>74.0</td>\n      <td>21264.0</td>\n      <td>126.975169</td>\n      <td>348.006020</td>\n      <td>7.0</td>\n    </tr>\n    <tr>\n      <th>Palos de la Frontera</th>\n      <td>257.0</td>\n      <td>17.0</td>\n      <td>36.0</td>\n      <td>11289.0</td>\n      <td>150.589069</td>\n      <td>318.894499</td>\n      <td>6.0</td>\n    </tr>\n    <tr>\n      <th>Lepe</th>\n      <td>975.0</td>\n      <td>21.0</td>\n      <td>65.0</td>\n      <td>27431.0</td>\n      <td>76.555722</td>\n      <td>236.958186</td>\n      <td>5.0</td>\n    </tr>\n    <tr>\n      <th>Aljaraque</th>\n      <td>440.0</td>\n      <td>8.0</td>\n      <td>46.0</td>\n      <td>21260.0</td>\n      <td>37.629351</td>\n      <td>216.368768</td>\n      <td>1.0</td>\n    </tr>\n    <tr>\n      <th>Moguer</th>\n      <td>385.0</td>\n      <td>15.0</td>\n      <td>45.0</td>\n      <td>22088.0</td>\n      <td>67.910177</td>\n      <td>203.730532</td>\n      <td>3.0</td>\n    </tr>\n    <tr>\n      <th>Huelva-Costa</th>\n      <td>6316.0</td>\n      <td>170.0</td>\n      <td>538.0</td>\n      <td>288115.0</td>\n      <td>59.004217</td>\n      <td>186.730993</td>\n      <td>30.0</td>\n    </tr>\n    <tr>\n      <th>Villablanca</th>\n      <td>59.0</td>\n      <td>4.0</td>\n      <td>5.0</td>\n      <td>2848.0</td>\n      <td>140.449438</td>\n      <td>175.561798</td>\n      <td>2.0</td>\n    </tr>\n    <tr>\n      <th>Condado-Campiña</th>\n      <td>3443.0</td>\n      <td>97.0</td>\n      <td>262.0</td>\n      <td>155057.0</td>\n      <td>62.557640</td>\n      <td>168.970121</td>\n      <td>17.0</td>\n    </tr>\n    <tr>\n      <th>Huelva (capital)</th>\n      <td>3155.0</td>\n      <td>75.0</td>\n      <td>235.0</td>\n      <td>143663.0</td>\n      <td>52.205509</td>\n      <td>163.577261</td>\n      <td>10.0</td>\n    </tr>\n    <tr>\n      <th>Huelva</th>\n      <td>11174.0</td>\n      <td>276.0</td>\n      <td>828.0</td>\n      <td>510743.0</td>\n      <td>54.038920</td>\n      <td>162.116759</td>\n      <td>51.0</td>\n    </tr>\n    <tr>\n      <th>Villanueva de los Castillejos</th>\n      <td>64.0</td>\n      <td>3.0</td>\n      <td>4.0</td>\n      <td>2820.0</td>\n      <td>106.382979</td>\n      <td>141.843972</td>\n      <td>0.0</td>\n    </tr>\n    <tr>\n      <th>Niebla</th>\n      <td>117.0</td>\n      <td>5.0</td>\n      <td>5.0</td>\n      <td>4117.0</td>\n      <td>121.447656</td>\n      <td>121.447656</td>\n      <td>0.0</td>\n    </tr>\n    <tr>\n      <th>Bollullos Par del Condado</th>\n      <td>251.0</td>\n      <td>3.0</td>\n      <td>16.0</td>\n      <td>14272.0</td>\n      <td>21.020179</td>\n      <td>112.107623</td>\n      <td>1.0</td>\n    </tr>\n    <tr>\n      <th>San Juan del Puerto</th>\n      <td>154.0</td>\n      <td>2.0</td>\n      <td>10.0</td>\n      <td>9300.0</td>\n      <td>21.505376</td>\n      <td>107.526882</td>\n      <td>0.0</td>\n    </tr>\n    <tr>\n      <th>Ayamonte</th>\n      <td>337.0</td>\n      <td>3.0</td>\n      <td>20.0</td>\n      <td>20946.0</td>\n      <td>14.322544</td>\n      <td>95.483625</td>\n      <td>1.0</td>\n    </tr>\n    <tr>\n      <th>Cerro de Andévalo (El)</th>\n      <td>39.0</td>\n      <td>2.0</td>\n      <td>2.0</td>\n      <td>2364.0</td>\n      <td>84.602369</td>\n      <td>84.602369</td>\n      <td>1.0</td>\n    </tr>\n    <tr>\n      <th>Trigueros</th>\n      <td>134.0</td>\n      <td>2.0</td>\n      <td>6.0</td>\n      <td>7713.0</td>\n      <td>25.930248</td>\n      <td>77.790743</td>\n      <td>0.0</td>\n    </tr>\n    <tr>\n      <th>Rociana del Condado</th>\n      <td>121.0</td>\n      <td>4.0</td>\n      <td>5.0</td>\n      <td>7855.0</td>\n      <td>50.922979</td>\n      <td>63.653724</td>\n      <td>1.0</td>\n    </tr>\n    <tr>\n      <th>Villalba del Alcor</th>\n      <td>104.0</td>\n      <td>1.0</td>\n      <td>2.0</td>\n      <td>3338.0</td>\n      <td>29.958059</td>\n      <td>59.916117</td>\n      <td>0.0</td>\n    </tr>\n    <tr>\n      <th>Punta Umbría</th>\n      <td>236.0</td>\n      <td>2.0</td>\n      <td>9.0</td>\n      <td>15242.0</td>\n      <td>13.121638</td>\n      <td>59.047369</td>\n      <td>1.0</td>\n    </tr>\n    <tr>\n      <th>Almonte</th>\n      <td>448.0</td>\n      <td>9.0</td>\n      <td>14.0</td>\n      <td>24191.0</td>\n      <td>37.203919</td>\n      <td>57.872763</td>\n      <td>1.0</td>\n    </tr>\n    <tr>\n      <th>Villarrasa</th>\n      <td>91.0</td>\n      <td>1.0</td>\n      <td>1.0</td>\n      <td>2176.0</td>\n      <td>45.955882</td>\n      <td>45.955882</td>\n      <td>NaN</td>\n    </tr>\n    <tr>\n      <th>Cortegana</th>\n      <td>123.0</td>\n      <td>1.0</td>\n      <td>2.0</td>\n      <td>4666.0</td>\n      <td>21.431633</td>\n      <td>42.863266</td>\n      <td>0.0</td>\n    </tr>\n    <tr>\n      <th>Sierra de Huelva-Andévalo Central</th>\n      <td>1287.0</td>\n      <td>4.0</td>\n      <td>21.0</td>\n      <td>67571.0</td>\n      <td>5.919699</td>\n      <td>31.078421</td>\n      <td>1.0</td>\n    </tr>\n    <tr>\n      <th>Aracena</th>\n      <td>287.0</td>\n      <td>1.0</td>\n      <td>2.0</td>\n      <td>8107.0</td>\n      <td>12.335019</td>\n      <td>24.670038</td>\n      <td>0.0</td>\n    </tr>\n    <tr>\n      <th>Gibraleón</th>\n      <td>350.0</td>\n      <td>1.0</td>\n      <td>1.0</td>\n      <td>12607.0</td>\n      <td>7.932101</td>\n      <td>7.932101</td>\n      <td>0.0</td>\n    </tr>\n  </tbody>\n</table>\n</div>"
     },
     "metadata": {},
     "execution_count": 17
    }
   ],
   "source": [
    "tabla.sort_values('tasa14', ascending=False)"
   ]
  },
  {
   "cell_type": "code",
   "execution_count": 18,
   "metadata": {},
   "outputs": [
    {
     "output_type": "execute_result",
     "data": {
      "text/plain": [
       "Medida                             Confirmados PDIA  Confirmados PDIA 7 días  \\\n",
       "Lugar de residencia                                                            \n",
       "Ayamonte                                      337.0                      3.0   \n",
       "Aljaraque                                     440.0                      8.0   \n",
       "Bollullos Par del Condado                     251.0                      3.0   \n",
       "Sierra de Huelva-Andévalo Central            1287.0                      4.0   \n",
       "San Juan del Puerto                           154.0                      2.0   \n",
       "Punta Umbría                                  236.0                      2.0   \n",
       "Lucena del Puerto                             105.0                      6.0   \n",
       "Huelva-Costa                                 6316.0                    170.0   \n",
       "Huelva (capital)                             3155.0                     75.0   \n",
       "Palma del Condado (La)                        547.0                     20.0   \n",
       "Lepe                                          975.0                     21.0   \n",
       "Trigueros                                     134.0                      2.0   \n",
       "Huelva                                      11174.0                    276.0   \n",
       "Moguer                                        385.0                     15.0   \n",
       "Cartaya                                       426.0                     27.0   \n",
       "Isla Cristina                                 457.0                     27.0   \n",
       "Condado-Campiña                              3443.0                     97.0   \n",
       "Palos de la Frontera                          257.0                     17.0   \n",
       "Cortegana                                     123.0                      1.0   \n",
       "Bonares                                        67.0                     11.0   \n",
       "Aracena                                       287.0                      1.0   \n",
       "Villalba del Alcor                            104.0                      1.0   \n",
       "Almonte                                       448.0                      9.0   \n",
       "Villanueva de los Castillejos                  64.0                      3.0   \n",
       "Rociana del Condado                           121.0                      4.0   \n",
       "Villablanca                                    59.0                      4.0   \n",
       "Gibraleón                                     350.0                      1.0   \n",
       "Niebla                                        117.0                      5.0   \n",
       "Cerro de Andévalo (El)                         39.0                      2.0   \n",
       "Villarrasa                                     91.0                      1.0   \n",
       "\n",
       "Medida                             Confirmados PDIA 14 días  Población  \\\n",
       "Lugar de residencia                                                      \n",
       "Ayamonte                                               20.0    20946.0   \n",
       "Aljaraque                                              46.0    21260.0   \n",
       "Bollullos Par del Condado                              16.0    14272.0   \n",
       "Sierra de Huelva-Andévalo Central                      21.0    67571.0   \n",
       "San Juan del Puerto                                    10.0     9300.0   \n",
       "Punta Umbría                                            9.0    15242.0   \n",
       "Lucena del Puerto                                      22.0     3371.0   \n",
       "Huelva-Costa                                          538.0   288115.0   \n",
       "Huelva (capital)                                      235.0   143663.0   \n",
       "Palma del Condado (La)                                 62.0    10761.0   \n",
       "Lepe                                                   65.0    27431.0   \n",
       "Trigueros                                               6.0     7713.0   \n",
       "Huelva                                                828.0   510743.0   \n",
       "Moguer                                                 45.0    22088.0   \n",
       "Cartaya                                                75.0    19974.0   \n",
       "Isla Cristina                                          74.0    21264.0   \n",
       "Condado-Campiña                                       262.0   155057.0   \n",
       "Palos de la Frontera                                   36.0    11289.0   \n",
       "Cortegana                                               2.0     4666.0   \n",
       "Bonares                                                22.0     6058.0   \n",
       "Aracena                                                 2.0     8107.0   \n",
       "Villalba del Alcor                                      2.0     3338.0   \n",
       "Almonte                                                14.0    24191.0   \n",
       "Villanueva de los Castillejos                           4.0     2820.0   \n",
       "Rociana del Condado                                     5.0     7855.0   \n",
       "Villablanca                                             5.0     2848.0   \n",
       "Gibraleón                                               1.0    12607.0   \n",
       "Niebla                                                  5.0     4117.0   \n",
       "Cerro de Andévalo (El)                                  2.0     2364.0   \n",
       "Villarrasa                                              1.0     2176.0   \n",
       "\n",
       "Medida                                  tasa7      tasa14  Diferencia PDIA  \\\n",
       "Lugar de residencia                                                          \n",
       "Ayamonte                            14.322544   95.483625              1.0   \n",
       "Aljaraque                           37.629351  216.368768              1.0   \n",
       "Bollullos Par del Condado           21.020179  112.107623              1.0   \n",
       "Sierra de Huelva-Andévalo Central    5.919699   31.078421              1.0   \n",
       "San Juan del Puerto                 21.505376  107.526882              0.0   \n",
       "Punta Umbría                        13.121638   59.047369              1.0   \n",
       "Lucena del Puerto                  177.988727  652.625334              1.0   \n",
       "Huelva-Costa                        59.004217  186.730993             30.0   \n",
       "Huelva (capital)                    52.205509  163.577261             10.0   \n",
       "Palma del Condado (La)             185.856333  576.154632              2.0   \n",
       "Lepe                                76.555722  236.958186              5.0   \n",
       "Trigueros                           25.930248   77.790743              0.0   \n",
       "Huelva                              54.038920  162.116759             51.0   \n",
       "Moguer                              67.910177  203.730532              3.0   \n",
       "Cartaya                            135.175728  375.488135              3.0   \n",
       "Isla Cristina                      126.975169  348.006020              7.0   \n",
       "Condado-Campiña                     62.557640  168.970121             17.0   \n",
       "Palos de la Frontera               150.589069  318.894499              6.0   \n",
       "Cortegana                           21.431633   42.863266              0.0   \n",
       "Bonares                            181.578079  363.156157              1.0   \n",
       "Aracena                             12.335019   24.670038              0.0   \n",
       "Villalba del Alcor                  29.958059   59.916117              0.0   \n",
       "Almonte                             37.203919   57.872763              1.0   \n",
       "Villanueva de los Castillejos      106.382979  141.843972              0.0   \n",
       "Rociana del Condado                 50.922979   63.653724              1.0   \n",
       "Villablanca                        140.449438  175.561798              2.0   \n",
       "Gibraleón                            7.932101    7.932101              0.0   \n",
       "Niebla                             121.447656  121.447656              0.0   \n",
       "Cerro de Andévalo (El)              84.602369   84.602369              1.0   \n",
       "Villarrasa                          45.955882   45.955882              0.0   \n",
       "\n",
       "Medida                                 7/14  \n",
       "Lugar de residencia                          \n",
       "Ayamonte                           0.150000  \n",
       "Aljaraque                          0.173913  \n",
       "Bollullos Par del Condado          0.187500  \n",
       "Sierra de Huelva-Andévalo Central  0.190476  \n",
       "San Juan del Puerto                0.200000  \n",
       "Punta Umbría                       0.222222  \n",
       "Lucena del Puerto                  0.272727  \n",
       "Huelva-Costa                       0.315985  \n",
       "Huelva (capital)                   0.319149  \n",
       "Palma del Condado (La)             0.322581  \n",
       "Lepe                               0.323077  \n",
       "Trigueros                          0.333333  \n",
       "Huelva                             0.333333  \n",
       "Moguer                             0.333333  \n",
       "Cartaya                            0.360000  \n",
       "Isla Cristina                      0.364865  \n",
       "Condado-Campiña                    0.370229  \n",
       "Palos de la Frontera               0.472222  \n",
       "Cortegana                          0.500000  \n",
       "Bonares                            0.500000  \n",
       "Aracena                            0.500000  \n",
       "Villalba del Alcor                 0.500000  \n",
       "Almonte                            0.642857  \n",
       "Villanueva de los Castillejos      0.750000  \n",
       "Rociana del Condado                0.800000  \n",
       "Villablanca                        0.800000  \n",
       "Gibraleón                          1.000000  \n",
       "Niebla                             1.000000  \n",
       "Cerro de Andévalo (El)             1.000000  \n",
       "Villarrasa                         1.000000  "
      ],
      "text/html": "<div>\n<style scoped>\n    .dataframe tbody tr th:only-of-type {\n        vertical-align: middle;\n    }\n\n    .dataframe tbody tr th {\n        vertical-align: top;\n    }\n\n    .dataframe thead th {\n        text-align: right;\n    }\n</style>\n<table border=\"1\" class=\"dataframe\">\n  <thead>\n    <tr style=\"text-align: right;\">\n      <th>Medida</th>\n      <th>Confirmados PDIA</th>\n      <th>Confirmados PDIA 7 días</th>\n      <th>Confirmados PDIA 14 días</th>\n      <th>Población</th>\n      <th>tasa7</th>\n      <th>tasa14</th>\n      <th>Diferencia PDIA</th>\n      <th>7/14</th>\n    </tr>\n    <tr>\n      <th>Lugar de residencia</th>\n      <th></th>\n      <th></th>\n      <th></th>\n      <th></th>\n      <th></th>\n      <th></th>\n      <th></th>\n      <th></th>\n    </tr>\n  </thead>\n  <tbody>\n    <tr>\n      <th>Ayamonte</th>\n      <td>337.0</td>\n      <td>3.0</td>\n      <td>20.0</td>\n      <td>20946.0</td>\n      <td>14.322544</td>\n      <td>95.483625</td>\n      <td>1.0</td>\n      <td>0.150000</td>\n    </tr>\n    <tr>\n      <th>Aljaraque</th>\n      <td>440.0</td>\n      <td>8.0</td>\n      <td>46.0</td>\n      <td>21260.0</td>\n      <td>37.629351</td>\n      <td>216.368768</td>\n      <td>1.0</td>\n      <td>0.173913</td>\n    </tr>\n    <tr>\n      <th>Bollullos Par del Condado</th>\n      <td>251.0</td>\n      <td>3.0</td>\n      <td>16.0</td>\n      <td>14272.0</td>\n      <td>21.020179</td>\n      <td>112.107623</td>\n      <td>1.0</td>\n      <td>0.187500</td>\n    </tr>\n    <tr>\n      <th>Sierra de Huelva-Andévalo Central</th>\n      <td>1287.0</td>\n      <td>4.0</td>\n      <td>21.0</td>\n      <td>67571.0</td>\n      <td>5.919699</td>\n      <td>31.078421</td>\n      <td>1.0</td>\n      <td>0.190476</td>\n    </tr>\n    <tr>\n      <th>San Juan del Puerto</th>\n      <td>154.0</td>\n      <td>2.0</td>\n      <td>10.0</td>\n      <td>9300.0</td>\n      <td>21.505376</td>\n      <td>107.526882</td>\n      <td>0.0</td>\n      <td>0.200000</td>\n    </tr>\n    <tr>\n      <th>Punta Umbría</th>\n      <td>236.0</td>\n      <td>2.0</td>\n      <td>9.0</td>\n      <td>15242.0</td>\n      <td>13.121638</td>\n      <td>59.047369</td>\n      <td>1.0</td>\n      <td>0.222222</td>\n    </tr>\n    <tr>\n      <th>Lucena del Puerto</th>\n      <td>105.0</td>\n      <td>6.0</td>\n      <td>22.0</td>\n      <td>3371.0</td>\n      <td>177.988727</td>\n      <td>652.625334</td>\n      <td>1.0</td>\n      <td>0.272727</td>\n    </tr>\n    <tr>\n      <th>Huelva-Costa</th>\n      <td>6316.0</td>\n      <td>170.0</td>\n      <td>538.0</td>\n      <td>288115.0</td>\n      <td>59.004217</td>\n      <td>186.730993</td>\n      <td>30.0</td>\n      <td>0.315985</td>\n    </tr>\n    <tr>\n      <th>Huelva (capital)</th>\n      <td>3155.0</td>\n      <td>75.0</td>\n      <td>235.0</td>\n      <td>143663.0</td>\n      <td>52.205509</td>\n      <td>163.577261</td>\n      <td>10.0</td>\n      <td>0.319149</td>\n    </tr>\n    <tr>\n      <th>Palma del Condado (La)</th>\n      <td>547.0</td>\n      <td>20.0</td>\n      <td>62.0</td>\n      <td>10761.0</td>\n      <td>185.856333</td>\n      <td>576.154632</td>\n      <td>2.0</td>\n      <td>0.322581</td>\n    </tr>\n    <tr>\n      <th>Lepe</th>\n      <td>975.0</td>\n      <td>21.0</td>\n      <td>65.0</td>\n      <td>27431.0</td>\n      <td>76.555722</td>\n      <td>236.958186</td>\n      <td>5.0</td>\n      <td>0.323077</td>\n    </tr>\n    <tr>\n      <th>Trigueros</th>\n      <td>134.0</td>\n      <td>2.0</td>\n      <td>6.0</td>\n      <td>7713.0</td>\n      <td>25.930248</td>\n      <td>77.790743</td>\n      <td>0.0</td>\n      <td>0.333333</td>\n    </tr>\n    <tr>\n      <th>Huelva</th>\n      <td>11174.0</td>\n      <td>276.0</td>\n      <td>828.0</td>\n      <td>510743.0</td>\n      <td>54.038920</td>\n      <td>162.116759</td>\n      <td>51.0</td>\n      <td>0.333333</td>\n    </tr>\n    <tr>\n      <th>Moguer</th>\n      <td>385.0</td>\n      <td>15.0</td>\n      <td>45.0</td>\n      <td>22088.0</td>\n      <td>67.910177</td>\n      <td>203.730532</td>\n      <td>3.0</td>\n      <td>0.333333</td>\n    </tr>\n    <tr>\n      <th>Cartaya</th>\n      <td>426.0</td>\n      <td>27.0</td>\n      <td>75.0</td>\n      <td>19974.0</td>\n      <td>135.175728</td>\n      <td>375.488135</td>\n      <td>3.0</td>\n      <td>0.360000</td>\n    </tr>\n    <tr>\n      <th>Isla Cristina</th>\n      <td>457.0</td>\n      <td>27.0</td>\n      <td>74.0</td>\n      <td>21264.0</td>\n      <td>126.975169</td>\n      <td>348.006020</td>\n      <td>7.0</td>\n      <td>0.364865</td>\n    </tr>\n    <tr>\n      <th>Condado-Campiña</th>\n      <td>3443.0</td>\n      <td>97.0</td>\n      <td>262.0</td>\n      <td>155057.0</td>\n      <td>62.557640</td>\n      <td>168.970121</td>\n      <td>17.0</td>\n      <td>0.370229</td>\n    </tr>\n    <tr>\n      <th>Palos de la Frontera</th>\n      <td>257.0</td>\n      <td>17.0</td>\n      <td>36.0</td>\n      <td>11289.0</td>\n      <td>150.589069</td>\n      <td>318.894499</td>\n      <td>6.0</td>\n      <td>0.472222</td>\n    </tr>\n    <tr>\n      <th>Cortegana</th>\n      <td>123.0</td>\n      <td>1.0</td>\n      <td>2.0</td>\n      <td>4666.0</td>\n      <td>21.431633</td>\n      <td>42.863266</td>\n      <td>0.0</td>\n      <td>0.500000</td>\n    </tr>\n    <tr>\n      <th>Bonares</th>\n      <td>67.0</td>\n      <td>11.0</td>\n      <td>22.0</td>\n      <td>6058.0</td>\n      <td>181.578079</td>\n      <td>363.156157</td>\n      <td>1.0</td>\n      <td>0.500000</td>\n    </tr>\n    <tr>\n      <th>Aracena</th>\n      <td>287.0</td>\n      <td>1.0</td>\n      <td>2.0</td>\n      <td>8107.0</td>\n      <td>12.335019</td>\n      <td>24.670038</td>\n      <td>0.0</td>\n      <td>0.500000</td>\n    </tr>\n    <tr>\n      <th>Villalba del Alcor</th>\n      <td>104.0</td>\n      <td>1.0</td>\n      <td>2.0</td>\n      <td>3338.0</td>\n      <td>29.958059</td>\n      <td>59.916117</td>\n      <td>0.0</td>\n      <td>0.500000</td>\n    </tr>\n    <tr>\n      <th>Almonte</th>\n      <td>448.0</td>\n      <td>9.0</td>\n      <td>14.0</td>\n      <td>24191.0</td>\n      <td>37.203919</td>\n      <td>57.872763</td>\n      <td>1.0</td>\n      <td>0.642857</td>\n    </tr>\n    <tr>\n      <th>Villanueva de los Castillejos</th>\n      <td>64.0</td>\n      <td>3.0</td>\n      <td>4.0</td>\n      <td>2820.0</td>\n      <td>106.382979</td>\n      <td>141.843972</td>\n      <td>0.0</td>\n      <td>0.750000</td>\n    </tr>\n    <tr>\n      <th>Rociana del Condado</th>\n      <td>121.0</td>\n      <td>4.0</td>\n      <td>5.0</td>\n      <td>7855.0</td>\n      <td>50.922979</td>\n      <td>63.653724</td>\n      <td>1.0</td>\n      <td>0.800000</td>\n    </tr>\n    <tr>\n      <th>Villablanca</th>\n      <td>59.0</td>\n      <td>4.0</td>\n      <td>5.0</td>\n      <td>2848.0</td>\n      <td>140.449438</td>\n      <td>175.561798</td>\n      <td>2.0</td>\n      <td>0.800000</td>\n    </tr>\n    <tr>\n      <th>Gibraleón</th>\n      <td>350.0</td>\n      <td>1.0</td>\n      <td>1.0</td>\n      <td>12607.0</td>\n      <td>7.932101</td>\n      <td>7.932101</td>\n      <td>0.0</td>\n      <td>1.000000</td>\n    </tr>\n    <tr>\n      <th>Niebla</th>\n      <td>117.0</td>\n      <td>5.0</td>\n      <td>5.0</td>\n      <td>4117.0</td>\n      <td>121.447656</td>\n      <td>121.447656</td>\n      <td>0.0</td>\n      <td>1.000000</td>\n    </tr>\n    <tr>\n      <th>Cerro de Andévalo (El)</th>\n      <td>39.0</td>\n      <td>2.0</td>\n      <td>2.0</td>\n      <td>2364.0</td>\n      <td>84.602369</td>\n      <td>84.602369</td>\n      <td>1.0</td>\n      <td>1.000000</td>\n    </tr>\n    <tr>\n      <th>Villarrasa</th>\n      <td>91.0</td>\n      <td>1.0</td>\n      <td>1.0</td>\n      <td>2176.0</td>\n      <td>45.955882</td>\n      <td>45.955882</td>\n      <td>0.0</td>\n      <td>1.000000</td>\n    </tr>\n  </tbody>\n</table>\n</div>"
     },
     "metadata": {},
     "execution_count": 18
    }
   ],
   "source": [
    "# Peso de la tasa de la última semana en relación con la tasa a 14 días \n",
    "# Mejor cuanto menor. Valor 1 significa que no había casos antes de 7 días.\n",
    "tabla['7/14'] = tabla['tasa7'] / tabla['tasa14']\n",
    "tabla.fillna(0).sort_values('7/14', ascending=True)"
   ]
  },
  {
   "cell_type": "code",
   "execution_count": null,
   "metadata": {},
   "outputs": [],
   "source": []
  }
 ]
}