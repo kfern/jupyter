{
 "metadata": {
  "language_info": {
   "codemirror_mode": {
    "name": "ipython",
    "version": 3
   },
   "file_extension": ".py",
   "mimetype": "text/x-python",
   "name": "python",
   "nbconvert_exporter": "python",
   "pygments_lexer": "ipython3",
   "version": "3.6.9-final"
  },
  "orig_nbformat": 2,
  "kernelspec": {
   "name": "Python 3.6.9 64-bit",
   "display_name": "Python 3.6.9 64-bit",
   "metadata": {
    "interpreter": {
     "hash": "31f2aee4e71d21fbe5cf8b01ff0e069b9275f58929596ceb00d14d90e3e16cd6"
    }
   }
  }
 },
 "nbformat": 4,
 "nbformat_minor": 2,
 "cells": [
  {
   "cell_type": "code",
   "execution_count": 1,
   "metadata": {},
   "outputs": [],
   "source": [
    "import pandas as pd"
   ]
  },
  {
   "cell_type": "code",
   "execution_count": 2,
   "metadata": {},
   "outputs": [],
   "source": [
    "url = 'https://www.juntadeandalucia.es/institutodeestadisticaycartografia/badea/stpivot/stpivot/Print?cube=013d884c-cfc5-4c21-9e78-e26225682afd&type=3&foto=si&ejecutaDesde=&codConsulta=38668&consTipoVisua=JP'\n",
    "fields = ['Lugar de residencia', 'Medida', 'Valor']\n",
    "df = pd.read_csv(url, delimiter=';', usecols=fields, decimal=',')"
   ]
  },
  {
   "cell_type": "code",
   "execution_count": 3,
   "metadata": {},
   "outputs": [],
   "source": [
    "df['Valor'] = pd.to_numeric(df['Valor'],errors='coerce')"
   ]
  },
  {
   "cell_type": "code",
   "execution_count": 4,
   "metadata": {},
   "outputs": [],
   "source": [
    "dfAnterior = pd.read_csv('covid_huelva.csv', index_col='Lugar de residencia')"
   ]
  },
  {
   "cell_type": "code",
   "execution_count": 5,
   "metadata": {
    "tags": []
   },
   "outputs": [
    {
     "output_type": "stream",
     "name": "stdout",
     "text": "Confirmados PCR en la provincia de Huelva:  1401.0\n"
    }
   ],
   "source": [
    "# Confirmados PCR provincia Huelva\n",
    "p = df[df['Lugar de residencia'] == 'Huelva'][df['Medida'] == 'Confirmados PCR']['Valor'].values[0]\n",
    "print('Confirmados PCR en la provincia de Huelva: ', p)"
   ]
  },
  {
   "cell_type": "code",
   "execution_count": 6,
   "metadata": {
    "tags": []
   },
   "outputs": [
    {
     "output_type": "stream",
     "name": "stdout",
     "text": "Confirmados PCR en Huelva capital:  351.0\n"
    }
   ],
   "source": [
    "# Confirmados PCR Huelva capital\n",
    "c = df[df['Lugar de residencia'] == 'Huelva (capital)'][df['Medida'] == 'Confirmados PCR']['Valor'].values[0]\n",
    "print('Confirmados PCR en Huelva capital: ', c)"
   ]
  },
  {
   "cell_type": "code",
   "execution_count": 7,
   "metadata": {
    "tags": []
   },
   "outputs": [],
   "source": [
    "c7 = df[df['Lugar de residencia'] == 'Huelva (capital)'][df['Medida'] == 'Confirmados PCR 7 días']['Valor'].values[0]\n",
    "c14 = df[df['Lugar de residencia'] == 'Huelva (capital)'][df['Medida'] == 'Confirmados PCR 14 días']['Valor'].values[0]\n",
    "p = df[df['Lugar de residencia'] == 'Huelva (capital)'][df['Medida'] == 'Población']['Valor'].values[0]"
   ]
  },
  {
   "cell_type": "code",
   "execution_count": 8,
   "metadata": {
    "tags": []
   },
   "outputs": [
    {
     "output_type": "stream",
     "name": "stdout",
     "text": "Huelva (capital)\n\nUn positivo PCR cada 3341 personas en los últimos 7 días \n\nUn positivo PCR cada 1545 personas en los últimos 14 días\n"
    }
   ],
   "source": [
    "print('Huelva (capital)\\n')\n",
    "#print('Confirmados PCR 7 días x 1,000 habitantes: ', f\"{c7/(p/1000):.5f}\")\n",
    "print('Un positivo PCR cada', f\"{p/c7:.0f}\", 'personas en los últimos 7 días', '\\n')\n",
    "#print('Confirmados PCR 14 días x 1,000 habitantes: ', f\"{c14/(p/1000):.5f}\")\n",
    "print('Un positivo PCR cada', f\"{p/c14:.0f}\", 'personas en los últimos 14 días')"
   ]
  },
  {
   "cell_type": "code",
   "execution_count": 9,
   "metadata": {},
   "outputs": [],
   "source": [
    "filtro = ((df['Medida'] == 'Confirmados PCR')| (df['Medida'] == 'Confirmados PCR 7 días') | (df['Medida'] == 'Población' ) | (df['Medida'] == 'Confirmados PCR 14 días')) & (df['Valor'] > 0)\n",
    "tabla = pd.pivot_table(df.loc[filtro], values='Valor', index='Lugar de residencia', columns='Medida').dropna()"
   ]
  },
  {
   "cell_type": "code",
   "execution_count": 10,
   "metadata": {},
   "outputs": [],
   "source": [
    "# Reorder columns\n",
    "tabla = tabla[['Confirmados PCR', 'Confirmados PCR 7 días', 'Confirmados PCR 14 días', 'Población']]"
   ]
  },
  {
   "cell_type": "code",
   "execution_count": 11,
   "metadata": {},
   "outputs": [],
   "source": [
    "tabla['tasa7'] = tabla['Confirmados PCR 7 días']/tabla['Población']*100000\n",
    "tabla['tasa14'] = tabla['Confirmados PCR 14 días']/tabla['Población']*100000"
   ]
  },
  {
   "cell_type": "code",
   "execution_count": 12,
   "metadata": {},
   "outputs": [],
   "source": [
    "tabla['Diferencia PCR'] = tabla['Confirmados PCR'] - dfAnterior['Confirmados PCR']"
   ]
  },
  {
   "cell_type": "code",
   "execution_count": 13,
   "metadata": {},
   "outputs": [
    {
     "output_type": "execute_result",
     "data": {
      "text/plain": "Medida                             Confirmados PCR  Confirmados PCR 7 días  \\\nLugar de residencia                                                          \nHuelva                                      1401.0                   236.0   \nCondado-Campiña                              446.0                    94.0   \nHuelva-Costa                                 725.0                   103.0   \nBollullos Par del Condado                     83.0                    37.0   \nHuelva (capital)                             351.0                    43.0   \nPalma del Condado (La)                        54.0                    18.0   \nManzanilla                                    13.0                     9.0   \nSierra de Huelva-Andévalo Central            206.0                    37.0   \nVillablanca                                    5.0                     3.0   \nCampillo (El)                                 26.0                    24.0   \nLepe                                          92.0                    18.0   \nTrigueros                                     36.0                     3.0   \nCumbres Mayores                                2.0                     1.0   \nLucena del Puerto                              7.0                     2.0   \n\nMedida                             Confirmados PCR 14 días  Población  \\\nLugar de residencia                                                     \nHuelva                                               407.0   510743.0   \nCondado-Campiña                                      145.0   155057.0   \nHuelva-Costa                                         200.0   288115.0   \nBollullos Par del Condado                             49.0    14272.0   \nHuelva (capital)                                      93.0   143663.0   \nPalma del Condado (La)                                23.0    10761.0   \nManzanilla                                             9.0     2135.0   \nSierra de Huelva-Andévalo Central                     56.0    67571.0   \nVillablanca                                            3.0     2848.0   \nCampillo (El)                                         24.0     2023.0   \nLepe                                                  27.0    27431.0   \nTrigueros                                              7.0     7713.0   \nCumbres Mayores                                        1.0     1755.0   \nLucena del Puerto                                      2.0     3371.0   \n\nMedida                                   tasa7       tasa14  Diferencia PCR  \nLugar de residencia                                                          \nHuelva                               46.207192    79.687827            22.0  \nCondado-Campiña                      60.622868    93.513998            14.0  \nHuelva-Costa                         35.749614    69.416726             7.0  \nBollullos Par del Condado           259.248879   343.329596             5.0  \nHuelva (capital)                     29.931158    64.734831             4.0  \nPalma del Condado (La)              167.270700   213.734783             4.0  \nManzanilla                          421.545667   421.545667             2.0  \nSierra de Huelva-Andévalo Central    54.757218    82.875790             2.0  \nVillablanca                         105.337079   105.337079             2.0  \nCampillo (El)                      1186.356896  1186.356896             1.0  \nLepe                                 65.619190    98.428785             1.0  \nTrigueros                            38.895371    90.755867             1.0  \nCumbres Mayores                      56.980057    56.980057             NaN  \nLucena del Puerto                    59.329576    59.329576             NaN  ",
      "text/html": "<div>\n<style scoped>\n    .dataframe tbody tr th:only-of-type {\n        vertical-align: middle;\n    }\n\n    .dataframe tbody tr th {\n        vertical-align: top;\n    }\n\n    .dataframe thead th {\n        text-align: right;\n    }\n</style>\n<table border=\"1\" class=\"dataframe\">\n  <thead>\n    <tr style=\"text-align: right;\">\n      <th>Medida</th>\n      <th>Confirmados PCR</th>\n      <th>Confirmados PCR 7 días</th>\n      <th>Confirmados PCR 14 días</th>\n      <th>Población</th>\n      <th>tasa7</th>\n      <th>tasa14</th>\n      <th>Diferencia PCR</th>\n    </tr>\n    <tr>\n      <th>Lugar de residencia</th>\n      <th></th>\n      <th></th>\n      <th></th>\n      <th></th>\n      <th></th>\n      <th></th>\n      <th></th>\n    </tr>\n  </thead>\n  <tbody>\n    <tr>\n      <th>Huelva</th>\n      <td>1401.0</td>\n      <td>236.0</td>\n      <td>407.0</td>\n      <td>510743.0</td>\n      <td>46.207192</td>\n      <td>79.687827</td>\n      <td>22.0</td>\n    </tr>\n    <tr>\n      <th>Condado-Campiña</th>\n      <td>446.0</td>\n      <td>94.0</td>\n      <td>145.0</td>\n      <td>155057.0</td>\n      <td>60.622868</td>\n      <td>93.513998</td>\n      <td>14.0</td>\n    </tr>\n    <tr>\n      <th>Huelva-Costa</th>\n      <td>725.0</td>\n      <td>103.0</td>\n      <td>200.0</td>\n      <td>288115.0</td>\n      <td>35.749614</td>\n      <td>69.416726</td>\n      <td>7.0</td>\n    </tr>\n    <tr>\n      <th>Bollullos Par del Condado</th>\n      <td>83.0</td>\n      <td>37.0</td>\n      <td>49.0</td>\n      <td>14272.0</td>\n      <td>259.248879</td>\n      <td>343.329596</td>\n      <td>5.0</td>\n    </tr>\n    <tr>\n      <th>Huelva (capital)</th>\n      <td>351.0</td>\n      <td>43.0</td>\n      <td>93.0</td>\n      <td>143663.0</td>\n      <td>29.931158</td>\n      <td>64.734831</td>\n      <td>4.0</td>\n    </tr>\n    <tr>\n      <th>Palma del Condado (La)</th>\n      <td>54.0</td>\n      <td>18.0</td>\n      <td>23.0</td>\n      <td>10761.0</td>\n      <td>167.270700</td>\n      <td>213.734783</td>\n      <td>4.0</td>\n    </tr>\n    <tr>\n      <th>Manzanilla</th>\n      <td>13.0</td>\n      <td>9.0</td>\n      <td>9.0</td>\n      <td>2135.0</td>\n      <td>421.545667</td>\n      <td>421.545667</td>\n      <td>2.0</td>\n    </tr>\n    <tr>\n      <th>Sierra de Huelva-Andévalo Central</th>\n      <td>206.0</td>\n      <td>37.0</td>\n      <td>56.0</td>\n      <td>67571.0</td>\n      <td>54.757218</td>\n      <td>82.875790</td>\n      <td>2.0</td>\n    </tr>\n    <tr>\n      <th>Villablanca</th>\n      <td>5.0</td>\n      <td>3.0</td>\n      <td>3.0</td>\n      <td>2848.0</td>\n      <td>105.337079</td>\n      <td>105.337079</td>\n      <td>2.0</td>\n    </tr>\n    <tr>\n      <th>Campillo (El)</th>\n      <td>26.0</td>\n      <td>24.0</td>\n      <td>24.0</td>\n      <td>2023.0</td>\n      <td>1186.356896</td>\n      <td>1186.356896</td>\n      <td>1.0</td>\n    </tr>\n    <tr>\n      <th>Lepe</th>\n      <td>92.0</td>\n      <td>18.0</td>\n      <td>27.0</td>\n      <td>27431.0</td>\n      <td>65.619190</td>\n      <td>98.428785</td>\n      <td>1.0</td>\n    </tr>\n    <tr>\n      <th>Trigueros</th>\n      <td>36.0</td>\n      <td>3.0</td>\n      <td>7.0</td>\n      <td>7713.0</td>\n      <td>38.895371</td>\n      <td>90.755867</td>\n      <td>1.0</td>\n    </tr>\n    <tr>\n      <th>Cumbres Mayores</th>\n      <td>2.0</td>\n      <td>1.0</td>\n      <td>1.0</td>\n      <td>1755.0</td>\n      <td>56.980057</td>\n      <td>56.980057</td>\n      <td>NaN</td>\n    </tr>\n    <tr>\n      <th>Lucena del Puerto</th>\n      <td>7.0</td>\n      <td>2.0</td>\n      <td>2.0</td>\n      <td>3371.0</td>\n      <td>59.329576</td>\n      <td>59.329576</td>\n      <td>NaN</td>\n    </tr>\n  </tbody>\n</table>\n</div>"
     },
     "metadata": {},
     "execution_count": 13
    }
   ],
   "source": [
    "# Nuevos casos desde la última captura\n",
    "tabla[tabla['Diferencia PCR'] != 0].sort_values('Diferencia PCR', ascending=False)"
   ]
  },
  {
   "cell_type": "code",
   "execution_count": 14,
   "metadata": {},
   "outputs": [],
   "source": [
    "if tabla[tabla['Diferencia PCR'] != 0]['Diferencia PCR'].sum() > 0:\n",
    "  # Save to csv\n",
    "  tabla.to_csv('covid_huelva.csv', encoding='utf-8', header=True, index=True)  "
   ]
  },
  {
   "cell_type": "code",
   "execution_count": 15,
   "metadata": {},
   "outputs": [
    {
     "output_type": "execute_result",
     "data": {
      "text/plain": "Medida                             Confirmados PCR  Confirmados PCR 7 días  \\\nLugar de residencia                                                          \nCampillo (El)                                 26.0                    24.0   \nManzanilla                                    13.0                     9.0   \nAlmendro (El)                                  4.0                     3.0   \nBollullos Par del Condado                     83.0                    37.0   \nJabugo                                         5.0                     1.0   \nPalma del Condado (La)                        54.0                    18.0   \nGranado (El)                                   2.0                     1.0   \nNerva                                         23.0                     3.0   \nAroche                                         9.0                     1.0   \nVillablanca                                    5.0                     3.0   \nAyamonte                                      47.0                     8.0   \nLepe                                          92.0                    18.0   \nCondado-Campiña                              446.0                    94.0   \nVillarrasa                                     4.0                     1.0   \nTrigueros                                     36.0                     3.0   \nPaterna del Campo                             10.0                     3.0   \nCerro de Andévalo (El)                         3.0                     2.0   \nSierra de Huelva-Andévalo Central            206.0                    37.0   \nHuelva                                      1401.0                   236.0   \nMinas de Riotinto                             17.0                     1.0   \nAlosno                                         6.0                     3.0   \nPunta Umbría                                  34.0                    11.0   \nAljaraque                                     70.0                     4.0   \nHuelva-Costa                                 725.0                   103.0   \nZalamea la Real                               21.0                     1.0   \nHuelva (capital)                             351.0                    43.0   \nMoguer                                        40.0                    11.0   \nLucena del Puerto                              7.0                     2.0   \nCumbres Mayores                                2.0                     1.0   \nIsla Cristina                                 64.0                     4.0   \nPalos de la Frontera                          27.0                     1.0   \nBonares                                        5.0                     1.0   \nCortegana                                     10.0                     1.0   \nGibraleón                                     17.0                     1.0   \nRociana del Condado                            7.0                     2.0   \nAlmonte                                       53.0                     4.0   \nVillanueva de los Castillejos                  3.0                     1.0   \nCartaya                                       25.0                     4.0   \nSan Bartolomé de la Torre                      3.0                     1.0   \nAracena                                       47.0                     1.0   \nValverde del Camino                           27.0                     1.0   \n\nMedida                             Confirmados PCR 14 días  Población  \\\nLugar de residencia                                                     \nCampillo (El)                                         24.0     2023.0   \nManzanilla                                             9.0     2135.0   \nAlmendro (El)                                          3.0      826.0   \nBollullos Par del Condado                             49.0    14272.0   \nJabugo                                                 5.0     2250.0   \nPalma del Condado (La)                                23.0    10761.0   \nGranado (El)                                           1.0      516.0   \nNerva                                                  9.0     5235.0   \nAroche                                                 5.0     3073.0   \nVillablanca                                            3.0     2848.0   \nAyamonte                                              21.0    20946.0   \nLepe                                                  27.0    27431.0   \nCondado-Campiña                                      145.0   155057.0   \nVillarrasa                                             2.0     2176.0   \nTrigueros                                              7.0     7713.0   \nPaterna del Campo                                      3.0     3509.0   \nCerro de Andévalo (El)                                 2.0     2364.0   \nSierra de Huelva-Andévalo Central                     56.0    67571.0   \nHuelva                                               407.0   510743.0   \nMinas de Riotinto                                      3.0     3848.0   \nAlosno                                                 3.0     3923.0   \nPunta Umbría                                          11.0    15242.0   \nAljaraque                                             15.0    21260.0   \nHuelva-Costa                                         200.0   288115.0   \nZalamea la Real                                        2.0     3068.0   \nHuelva (capital)                                      93.0   143663.0   \nMoguer                                                14.0    22088.0   \nLucena del Puerto                                      2.0     3371.0   \nCumbres Mayores                                        1.0     1755.0   \nIsla Cristina                                         12.0    21264.0   \nPalos de la Frontera                                   6.0    11289.0   \nBonares                                                3.0     6058.0   \nCortegana                                              2.0     4666.0   \nGibraleón                                              5.0    12607.0   \nRociana del Condado                                    3.0     7855.0   \nAlmonte                                                9.0    24191.0   \nVillanueva de los Castillejos                          1.0     2820.0   \nCartaya                                                6.0    19974.0   \nSan Bartolomé de la Torre                              1.0     3736.0   \nAracena                                                2.0     8107.0   \nValverde del Camino                                    1.0    12820.0   \n\nMedida                                   tasa7       tasa14  Diferencia PCR  \nLugar de residencia                                                          \nCampillo (El)                      1186.356896  1186.356896             1.0  \nManzanilla                          421.545667   421.545667             2.0  \nAlmendro (El)                       363.196126   363.196126             0.0  \nBollullos Par del Condado           259.248879   343.329596             5.0  \nJabugo                               44.444444   222.222222             0.0  \nPalma del Condado (La)              167.270700   213.734783             4.0  \nGranado (El)                        193.798450   193.798450             0.0  \nNerva                                57.306590   171.919771             0.0  \nAroche                               32.541490   162.707452             0.0  \nVillablanca                         105.337079   105.337079             2.0  \nAyamonte                             38.193450   100.257806             0.0  \nLepe                                 65.619190    98.428785             1.0  \nCondado-Campiña                      60.622868    93.513998            14.0  \nVillarrasa                           45.955882    91.911765             0.0  \nTrigueros                            38.895371    90.755867             1.0  \nPaterna del Campo                    85.494443    85.494443             0.0  \nCerro de Andévalo (El)               84.602369    84.602369             0.0  \nSierra de Huelva-Andévalo Central    54.757218    82.875790             2.0  \nHuelva                               46.207192    79.687827            22.0  \nMinas de Riotinto                    25.987526    77.962578             0.0  \nAlosno                               76.472088    76.472088             0.0  \nPunta Umbría                         72.169007    72.169007             0.0  \nAljaraque                            18.814675    70.555033             0.0  \nHuelva-Costa                         35.749614    69.416726             7.0  \nZalamea la Real                      32.594524    65.189048             0.0  \nHuelva (capital)                     29.931158    64.734831             4.0  \nMoguer                               49.800797    63.382832             0.0  \nLucena del Puerto                    59.329576    59.329576             NaN  \nCumbres Mayores                      56.980057    56.980057             NaN  \nIsla Cristina                        18.811136    56.433409             0.0  \nPalos de la Frontera                  8.858181    53.149083             0.0  \nBonares                              16.507098    49.521294             0.0  \nCortegana                            21.431633    42.863266             0.0  \nGibraleón                             7.932101    39.660506             0.0  \nRociana del Condado                  25.461489    38.192234             0.0  \nAlmonte                              16.535075    37.203919             0.0  \nVillanueva de los Castillejos        35.460993    35.460993             0.0  \nCartaya                              20.026034    30.039051             0.0  \nSan Bartolomé de la Torre            26.766595    26.766595             0.0  \nAracena                              12.335019    24.670038             0.0  \nValverde del Camino                   7.800312     7.800312             0.0  ",
      "text/html": "<div>\n<style scoped>\n    .dataframe tbody tr th:only-of-type {\n        vertical-align: middle;\n    }\n\n    .dataframe tbody tr th {\n        vertical-align: top;\n    }\n\n    .dataframe thead th {\n        text-align: right;\n    }\n</style>\n<table border=\"1\" class=\"dataframe\">\n  <thead>\n    <tr style=\"text-align: right;\">\n      <th>Medida</th>\n      <th>Confirmados PCR</th>\n      <th>Confirmados PCR 7 días</th>\n      <th>Confirmados PCR 14 días</th>\n      <th>Población</th>\n      <th>tasa7</th>\n      <th>tasa14</th>\n      <th>Diferencia PCR</th>\n    </tr>\n    <tr>\n      <th>Lugar de residencia</th>\n      <th></th>\n      <th></th>\n      <th></th>\n      <th></th>\n      <th></th>\n      <th></th>\n      <th></th>\n    </tr>\n  </thead>\n  <tbody>\n    <tr>\n      <th>Campillo (El)</th>\n      <td>26.0</td>\n      <td>24.0</td>\n      <td>24.0</td>\n      <td>2023.0</td>\n      <td>1186.356896</td>\n      <td>1186.356896</td>\n      <td>1.0</td>\n    </tr>\n    <tr>\n      <th>Manzanilla</th>\n      <td>13.0</td>\n      <td>9.0</td>\n      <td>9.0</td>\n      <td>2135.0</td>\n      <td>421.545667</td>\n      <td>421.545667</td>\n      <td>2.0</td>\n    </tr>\n    <tr>\n      <th>Almendro (El)</th>\n      <td>4.0</td>\n      <td>3.0</td>\n      <td>3.0</td>\n      <td>826.0</td>\n      <td>363.196126</td>\n      <td>363.196126</td>\n      <td>0.0</td>\n    </tr>\n    <tr>\n      <th>Bollullos Par del Condado</th>\n      <td>83.0</td>\n      <td>37.0</td>\n      <td>49.0</td>\n      <td>14272.0</td>\n      <td>259.248879</td>\n      <td>343.329596</td>\n      <td>5.0</td>\n    </tr>\n    <tr>\n      <th>Jabugo</th>\n      <td>5.0</td>\n      <td>1.0</td>\n      <td>5.0</td>\n      <td>2250.0</td>\n      <td>44.444444</td>\n      <td>222.222222</td>\n      <td>0.0</td>\n    </tr>\n    <tr>\n      <th>Palma del Condado (La)</th>\n      <td>54.0</td>\n      <td>18.0</td>\n      <td>23.0</td>\n      <td>10761.0</td>\n      <td>167.270700</td>\n      <td>213.734783</td>\n      <td>4.0</td>\n    </tr>\n    <tr>\n      <th>Granado (El)</th>\n      <td>2.0</td>\n      <td>1.0</td>\n      <td>1.0</td>\n      <td>516.0</td>\n      <td>193.798450</td>\n      <td>193.798450</td>\n      <td>0.0</td>\n    </tr>\n    <tr>\n      <th>Nerva</th>\n      <td>23.0</td>\n      <td>3.0</td>\n      <td>9.0</td>\n      <td>5235.0</td>\n      <td>57.306590</td>\n      <td>171.919771</td>\n      <td>0.0</td>\n    </tr>\n    <tr>\n      <th>Aroche</th>\n      <td>9.0</td>\n      <td>1.0</td>\n      <td>5.0</td>\n      <td>3073.0</td>\n      <td>32.541490</td>\n      <td>162.707452</td>\n      <td>0.0</td>\n    </tr>\n    <tr>\n      <th>Villablanca</th>\n      <td>5.0</td>\n      <td>3.0</td>\n      <td>3.0</td>\n      <td>2848.0</td>\n      <td>105.337079</td>\n      <td>105.337079</td>\n      <td>2.0</td>\n    </tr>\n    <tr>\n      <th>Ayamonte</th>\n      <td>47.0</td>\n      <td>8.0</td>\n      <td>21.0</td>\n      <td>20946.0</td>\n      <td>38.193450</td>\n      <td>100.257806</td>\n      <td>0.0</td>\n    </tr>\n    <tr>\n      <th>Lepe</th>\n      <td>92.0</td>\n      <td>18.0</td>\n      <td>27.0</td>\n      <td>27431.0</td>\n      <td>65.619190</td>\n      <td>98.428785</td>\n      <td>1.0</td>\n    </tr>\n    <tr>\n      <th>Condado-Campiña</th>\n      <td>446.0</td>\n      <td>94.0</td>\n      <td>145.0</td>\n      <td>155057.0</td>\n      <td>60.622868</td>\n      <td>93.513998</td>\n      <td>14.0</td>\n    </tr>\n    <tr>\n      <th>Villarrasa</th>\n      <td>4.0</td>\n      <td>1.0</td>\n      <td>2.0</td>\n      <td>2176.0</td>\n      <td>45.955882</td>\n      <td>91.911765</td>\n      <td>0.0</td>\n    </tr>\n    <tr>\n      <th>Trigueros</th>\n      <td>36.0</td>\n      <td>3.0</td>\n      <td>7.0</td>\n      <td>7713.0</td>\n      <td>38.895371</td>\n      <td>90.755867</td>\n      <td>1.0</td>\n    </tr>\n    <tr>\n      <th>Paterna del Campo</th>\n      <td>10.0</td>\n      <td>3.0</td>\n      <td>3.0</td>\n      <td>3509.0</td>\n      <td>85.494443</td>\n      <td>85.494443</td>\n      <td>0.0</td>\n    </tr>\n    <tr>\n      <th>Cerro de Andévalo (El)</th>\n      <td>3.0</td>\n      <td>2.0</td>\n      <td>2.0</td>\n      <td>2364.0</td>\n      <td>84.602369</td>\n      <td>84.602369</td>\n      <td>0.0</td>\n    </tr>\n    <tr>\n      <th>Sierra de Huelva-Andévalo Central</th>\n      <td>206.0</td>\n      <td>37.0</td>\n      <td>56.0</td>\n      <td>67571.0</td>\n      <td>54.757218</td>\n      <td>82.875790</td>\n      <td>2.0</td>\n    </tr>\n    <tr>\n      <th>Huelva</th>\n      <td>1401.0</td>\n      <td>236.0</td>\n      <td>407.0</td>\n      <td>510743.0</td>\n      <td>46.207192</td>\n      <td>79.687827</td>\n      <td>22.0</td>\n    </tr>\n    <tr>\n      <th>Minas de Riotinto</th>\n      <td>17.0</td>\n      <td>1.0</td>\n      <td>3.0</td>\n      <td>3848.0</td>\n      <td>25.987526</td>\n      <td>77.962578</td>\n      <td>0.0</td>\n    </tr>\n    <tr>\n      <th>Alosno</th>\n      <td>6.0</td>\n      <td>3.0</td>\n      <td>3.0</td>\n      <td>3923.0</td>\n      <td>76.472088</td>\n      <td>76.472088</td>\n      <td>0.0</td>\n    </tr>\n    <tr>\n      <th>Punta Umbría</th>\n      <td>34.0</td>\n      <td>11.0</td>\n      <td>11.0</td>\n      <td>15242.0</td>\n      <td>72.169007</td>\n      <td>72.169007</td>\n      <td>0.0</td>\n    </tr>\n    <tr>\n      <th>Aljaraque</th>\n      <td>70.0</td>\n      <td>4.0</td>\n      <td>15.0</td>\n      <td>21260.0</td>\n      <td>18.814675</td>\n      <td>70.555033</td>\n      <td>0.0</td>\n    </tr>\n    <tr>\n      <th>Huelva-Costa</th>\n      <td>725.0</td>\n      <td>103.0</td>\n      <td>200.0</td>\n      <td>288115.0</td>\n      <td>35.749614</td>\n      <td>69.416726</td>\n      <td>7.0</td>\n    </tr>\n    <tr>\n      <th>Zalamea la Real</th>\n      <td>21.0</td>\n      <td>1.0</td>\n      <td>2.0</td>\n      <td>3068.0</td>\n      <td>32.594524</td>\n      <td>65.189048</td>\n      <td>0.0</td>\n    </tr>\n    <tr>\n      <th>Huelva (capital)</th>\n      <td>351.0</td>\n      <td>43.0</td>\n      <td>93.0</td>\n      <td>143663.0</td>\n      <td>29.931158</td>\n      <td>64.734831</td>\n      <td>4.0</td>\n    </tr>\n    <tr>\n      <th>Moguer</th>\n      <td>40.0</td>\n      <td>11.0</td>\n      <td>14.0</td>\n      <td>22088.0</td>\n      <td>49.800797</td>\n      <td>63.382832</td>\n      <td>0.0</td>\n    </tr>\n    <tr>\n      <th>Lucena del Puerto</th>\n      <td>7.0</td>\n      <td>2.0</td>\n      <td>2.0</td>\n      <td>3371.0</td>\n      <td>59.329576</td>\n      <td>59.329576</td>\n      <td>NaN</td>\n    </tr>\n    <tr>\n      <th>Cumbres Mayores</th>\n      <td>2.0</td>\n      <td>1.0</td>\n      <td>1.0</td>\n      <td>1755.0</td>\n      <td>56.980057</td>\n      <td>56.980057</td>\n      <td>NaN</td>\n    </tr>\n    <tr>\n      <th>Isla Cristina</th>\n      <td>64.0</td>\n      <td>4.0</td>\n      <td>12.0</td>\n      <td>21264.0</td>\n      <td>18.811136</td>\n      <td>56.433409</td>\n      <td>0.0</td>\n    </tr>\n    <tr>\n      <th>Palos de la Frontera</th>\n      <td>27.0</td>\n      <td>1.0</td>\n      <td>6.0</td>\n      <td>11289.0</td>\n      <td>8.858181</td>\n      <td>53.149083</td>\n      <td>0.0</td>\n    </tr>\n    <tr>\n      <th>Bonares</th>\n      <td>5.0</td>\n      <td>1.0</td>\n      <td>3.0</td>\n      <td>6058.0</td>\n      <td>16.507098</td>\n      <td>49.521294</td>\n      <td>0.0</td>\n    </tr>\n    <tr>\n      <th>Cortegana</th>\n      <td>10.0</td>\n      <td>1.0</td>\n      <td>2.0</td>\n      <td>4666.0</td>\n      <td>21.431633</td>\n      <td>42.863266</td>\n      <td>0.0</td>\n    </tr>\n    <tr>\n      <th>Gibraleón</th>\n      <td>17.0</td>\n      <td>1.0</td>\n      <td>5.0</td>\n      <td>12607.0</td>\n      <td>7.932101</td>\n      <td>39.660506</td>\n      <td>0.0</td>\n    </tr>\n    <tr>\n      <th>Rociana del Condado</th>\n      <td>7.0</td>\n      <td>2.0</td>\n      <td>3.0</td>\n      <td>7855.0</td>\n      <td>25.461489</td>\n      <td>38.192234</td>\n      <td>0.0</td>\n    </tr>\n    <tr>\n      <th>Almonte</th>\n      <td>53.0</td>\n      <td>4.0</td>\n      <td>9.0</td>\n      <td>24191.0</td>\n      <td>16.535075</td>\n      <td>37.203919</td>\n      <td>0.0</td>\n    </tr>\n    <tr>\n      <th>Villanueva de los Castillejos</th>\n      <td>3.0</td>\n      <td>1.0</td>\n      <td>1.0</td>\n      <td>2820.0</td>\n      <td>35.460993</td>\n      <td>35.460993</td>\n      <td>0.0</td>\n    </tr>\n    <tr>\n      <th>Cartaya</th>\n      <td>25.0</td>\n      <td>4.0</td>\n      <td>6.0</td>\n      <td>19974.0</td>\n      <td>20.026034</td>\n      <td>30.039051</td>\n      <td>0.0</td>\n    </tr>\n    <tr>\n      <th>San Bartolomé de la Torre</th>\n      <td>3.0</td>\n      <td>1.0</td>\n      <td>1.0</td>\n      <td>3736.0</td>\n      <td>26.766595</td>\n      <td>26.766595</td>\n      <td>0.0</td>\n    </tr>\n    <tr>\n      <th>Aracena</th>\n      <td>47.0</td>\n      <td>1.0</td>\n      <td>2.0</td>\n      <td>8107.0</td>\n      <td>12.335019</td>\n      <td>24.670038</td>\n      <td>0.0</td>\n    </tr>\n    <tr>\n      <th>Valverde del Camino</th>\n      <td>27.0</td>\n      <td>1.0</td>\n      <td>1.0</td>\n      <td>12820.0</td>\n      <td>7.800312</td>\n      <td>7.800312</td>\n      <td>0.0</td>\n    </tr>\n  </tbody>\n</table>\n</div>"
     },
     "metadata": {},
     "execution_count": 15
    }
   ],
   "source": [
    "tabla.sort_values('tasa14', ascending=False)"
   ]
  },
  {
   "cell_type": "code",
   "execution_count": null,
   "metadata": {},
   "outputs": [],
   "source": []
  }
 ]
}