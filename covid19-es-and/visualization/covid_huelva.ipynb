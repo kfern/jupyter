{
 "metadata": {
  "language_info": {
   "codemirror_mode": {
    "name": "ipython",
    "version": 3
   },
   "file_extension": ".py",
   "mimetype": "text/x-python",
   "name": "python",
   "nbconvert_exporter": "python",
   "pygments_lexer": "ipython3",
   "version": "3.8.6-final"
  },
  "orig_nbformat": 2,
  "kernelspec": {
   "name": "python38564bit75945252d6ba481bad4868286020c89e",
   "display_name": "Python 3.8.5 64-bit",
   "language": "python"
  }
 },
 "nbformat": 4,
 "nbformat_minor": 2,
 "cells": [
  {
   "cell_type": "code",
   "execution_count": 1,
   "metadata": {},
   "outputs": [],
   "source": [
    "import pandas as pd\n",
    "pd.set_option('display.max_rows', None) # Print all rows"
   ]
  },
  {
   "cell_type": "code",
   "execution_count": 2,
   "metadata": {},
   "outputs": [],
   "source": [
    "# FIX SSL: CERTIFICATE_VERIFY_FAILED with Python3\n",
    "# https://stackoverflow.com/a/49174340\n",
    "import ssl\n",
    "\n",
    "ssl._create_default_https_context = ssl._create_unverified_context"
   ]
  },
  {
   "cell_type": "code",
   "execution_count": 3,
   "metadata": {},
   "outputs": [],
   "source": [
    "url = 'https://www.juntadeandalucia.es/institutodeestadisticaycartografia/badea/stpivot/stpivot/Print?cube=013d884c-cfc5-4c21-9e78-e26225682afd&type=3&foto=si&ejecutaDesde=&codConsulta=38668&consTipoVisua=JP'\n",
    "fields = ['Lugar de residencia', 'Medida', 'Valor']\n",
    "df = pd.read_csv(url, delimiter=';', usecols=fields, decimal=',')"
   ]
  },
  {
   "cell_type": "code",
   "execution_count": 4,
   "metadata": {},
   "outputs": [
    {
     "output_type": "execute_result",
     "data": {
      "text/plain": [
       "  Lugar de residencia                    Medida              Valor\n",
       "0              Huelva                 Población             513170\n",
       "1              Huelva          Confirmados PDIA              24636\n",
       "2              Huelva  Confirmados PDIA 14 días                259\n",
       "3              Huelva         Tasa PDIA 14 días  50,47060428318101\n",
       "4              Huelva   Confirmados PDIA 7 días                118\n",
       "5              Huelva        Total Confirmados               24856\n",
       "6              Huelva                   Curados              16953\n",
       "7              Huelva                Fallecidos                305"
      ],
      "text/html": "<div>\n<style scoped>\n    .dataframe tbody tr th:only-of-type {\n        vertical-align: middle;\n    }\n\n    .dataframe tbody tr th {\n        vertical-align: top;\n    }\n\n    .dataframe thead th {\n        text-align: right;\n    }\n</style>\n<table border=\"1\" class=\"dataframe\">\n  <thead>\n    <tr style=\"text-align: right;\">\n      <th></th>\n      <th>Lugar de residencia</th>\n      <th>Medida</th>\n      <th>Valor</th>\n    </tr>\n  </thead>\n  <tbody>\n    <tr>\n      <th>0</th>\n      <td>Huelva</td>\n      <td>Población</td>\n      <td>513170</td>\n    </tr>\n    <tr>\n      <th>1</th>\n      <td>Huelva</td>\n      <td>Confirmados PDIA</td>\n      <td>24636</td>\n    </tr>\n    <tr>\n      <th>2</th>\n      <td>Huelva</td>\n      <td>Confirmados PDIA 14 días</td>\n      <td>259</td>\n    </tr>\n    <tr>\n      <th>3</th>\n      <td>Huelva</td>\n      <td>Tasa PDIA 14 días</td>\n      <td>50,47060428318101</td>\n    </tr>\n    <tr>\n      <th>4</th>\n      <td>Huelva</td>\n      <td>Confirmados PDIA 7 días</td>\n      <td>118</td>\n    </tr>\n    <tr>\n      <th>5</th>\n      <td>Huelva</td>\n      <td>Total Confirmados</td>\n      <td>24856</td>\n    </tr>\n    <tr>\n      <th>6</th>\n      <td>Huelva</td>\n      <td>Curados</td>\n      <td>16953</td>\n    </tr>\n    <tr>\n      <th>7</th>\n      <td>Huelva</td>\n      <td>Fallecidos</td>\n      <td>305</td>\n    </tr>\n  </tbody>\n</table>\n</div>"
     },
     "metadata": {},
     "execution_count": 4
    }
   ],
   "source": [
    "df[df['Lugar de residencia'] == 'Huelva']"
   ]
  },
  {
   "cell_type": "code",
   "execution_count": 5,
   "metadata": {},
   "outputs": [],
   "source": [
    "df['Valor'] = pd.to_numeric(df['Valor'],errors='coerce')"
   ]
  },
  {
   "cell_type": "code",
   "execution_count": 6,
   "metadata": {},
   "outputs": [],
   "source": [
    "dfAnterior = pd.read_csv('covid_huelva.csv', index_col='Lugar de residencia')"
   ]
  },
  {
   "cell_type": "code",
   "execution_count": 7,
   "metadata": {
    "tags": []
   },
   "outputs": [
    {
     "output_type": "stream",
     "name": "stdout",
     "text": [
      "Confirmados PCR en la provincia de Huelva:  24636.0\n",
      "<ipython-input-7-31b732756b19>:2: UserWarning: Boolean Series key will be reindexed to match DataFrame index.\n",
      "  p = df[df['Lugar de residencia'] == 'Huelva'][df['Medida'] == 'Confirmados PDIA']['Valor'].values[0]\n"
     ]
    }
   ],
   "source": [
    "# Confirmados PCR provincia Huelva\n",
    "p = df[df['Lugar de residencia'] == 'Huelva'][df['Medida'] == 'Confirmados PDIA']['Valor'].values[0]\n",
    "print('Confirmados PCR en la provincia de Huelva: ', p)"
   ]
  },
  {
   "cell_type": "code",
   "execution_count": 8,
   "metadata": {
    "tags": []
   },
   "outputs": [
    {
     "output_type": "stream",
     "name": "stdout",
     "text": [
      "Confirmados PCR en Huelva capital:  6559.0\n",
      "<ipython-input-8-e81bfb40e710>:2: UserWarning: Boolean Series key will be reindexed to match DataFrame index.\n",
      "  c = df[df['Lugar de residencia'] == 'Huelva (capital)'][df['Medida'] == 'Confirmados PDIA']['Valor'].values[0]\n"
     ]
    }
   ],
   "source": [
    "# Confirmados PCR Huelva capitalpd\n",
    "c = df[df['Lugar de residencia'] == 'Huelva (capital)'][df['Medida'] == 'Confirmados PDIA']['Valor'].values[0]\n",
    "print('Confirmados PCR en Huelva capital: ', c)"
   ]
  },
  {
   "cell_type": "code",
   "execution_count": 9,
   "metadata": {
    "tags": []
   },
   "outputs": [
    {
     "output_type": "stream",
     "name": "stderr",
     "text": [
      "<ipython-input-9-f09dd2050cc1>:1: UserWarning: Boolean Series key will be reindexed to match DataFrame index.\n  c7 = df[df['Lugar de residencia'] == 'Huelva (capital)'][df['Medida'] == 'Confirmados PDIA 7 días']['Valor'].values[0]\n<ipython-input-9-f09dd2050cc1>:2: UserWarning: Boolean Series key will be reindexed to match DataFrame index.\n  c14 = df[df['Lugar de residencia'] == 'Huelva (capital)'][df['Medida'] == 'Confirmados PDIA 14 días']['Valor'].values[0]\n<ipython-input-9-f09dd2050cc1>:3: UserWarning: Boolean Series key will be reindexed to match DataFrame index.\n  p = df[df['Lugar de residencia'] == 'Huelva (capital)'][df['Medida'] == 'Población']['Valor'].values[0]\n"
     ]
    }
   ],
   "source": [
    "c7 = df[df['Lugar de residencia'] == 'Huelva (capital)'][df['Medida'] == 'Confirmados PDIA 7 días']['Valor'].values[0]\n",
    "c14 = df[df['Lugar de residencia'] == 'Huelva (capital)'][df['Medida'] == 'Confirmados PDIA 14 días']['Valor'].values[0]\n",
    "p = df[df['Lugar de residencia'] == 'Huelva (capital)'][df['Medida'] == 'Población']['Valor'].values[0]"
   ]
  },
  {
   "cell_type": "code",
   "execution_count": 10,
   "metadata": {
    "tags": []
   },
   "outputs": [
    {
     "output_type": "stream",
     "name": "stdout",
     "text": [
      "Huelva (capital)\n\nUn positivo PCR cada 5532 personas en los últimos 7 días \n\nUn positivo PCR cada 2569 personas en los últimos 14 días\n"
     ]
    }
   ],
   "source": [
    "print('Huelva (capital)\\n')\n",
    "#print('Confirmados PCR 7 días x 1,000 habitantes: ', f\"{c7/(p/1000):.5f}\")\n",
    "print('Un positivo PCR cada', f\"{p/c7:.0f}\", 'personas en los últimos 7 días', '\\n')\n",
    "#print('Confirmados PCR 14 días x 1,000 habitantes: ', f\"{c14/(p/1000):.5f}\")\n",
    "print('Un positivo PCR cada', f\"{p/c14:.0f}\", 'personas en los últimos 14 días')"
   ]
  },
  {
   "cell_type": "code",
   "execution_count": 11,
   "metadata": {},
   "outputs": [],
   "source": [
    "filtro = ((df['Medida'] == 'Confirmados PDIA')| (df['Medida'] == 'Confirmados PDIA 7 días') | (df['Medida'] == 'Población' ) | (df['Medida'] == 'Confirmados PDIA 14 días')) & (df['Valor'] > 0)\n",
    "tabla = pd.pivot_table(df.loc[filtro], values='Valor', index='Lugar de residencia', columns='Medida').dropna()"
   ]
  },
  {
   "cell_type": "code",
   "execution_count": 12,
   "metadata": {},
   "outputs": [],
   "source": [
    "# Reorder columns\n",
    "tabla = tabla[['Confirmados PDIA', 'Confirmados PDIA 7 días', 'Confirmados PDIA 14 días', 'Población']]"
   ]
  },
  {
   "cell_type": "code",
   "execution_count": 13,
   "metadata": {},
   "outputs": [],
   "source": [
    "tabla['tasa7'] = tabla['Confirmados PDIA 7 días']/tabla['Población']*100000\n",
    "tabla['tasa14'] = tabla['Confirmados PDIA 14 días']/tabla['Población']*100000"
   ]
  },
  {
   "cell_type": "code",
   "execution_count": 14,
   "metadata": {},
   "outputs": [],
   "source": [
    "tabla['Diferencia PDIA'] = tabla['Confirmados PDIA'] - dfAnterior['Confirmados PDIA']"
   ]
  },
  {
   "cell_type": "code",
   "execution_count": 15,
   "metadata": {},
   "outputs": [
    {
     "output_type": "execute_result",
     "data": {
      "text/plain": [
       "Medida                             Confirmados PDIA  Confirmados PDIA 7 días  \\\n",
       "Lugar de residencia                                                            \n",
       "Huelva                                      24636.0                    118.0   \n",
       "Huelva-Costa                                15029.0                     77.0   \n",
       "Condado-Campiña                              6895.0                     38.0   \n",
       "Ayamonte                                     1200.0                     12.0   \n",
       "Bollullos Par del Condado                     615.0                      6.0   \n",
       "Cartaya                                       952.0                     12.0   \n",
       "Lucena del Puerto                             157.0                      6.0   \n",
       "Puebla de Guzmán                               94.0                     12.0   \n",
       "Almonte                                       868.0                     14.0   \n",
       "Alosno                                        122.0                      2.0   \n",
       "Huelva (capital)                             6559.0                     26.0   \n",
       "Sierra de Huelva-Andévalo Central            2299.0                      2.0   \n",
       "Palma del Condado (La)                        975.0                      4.0   \n",
       "Rosal de la Frontera                           26.0                      1.0   \n",
       "\n",
       "Medida                             Confirmados PDIA 14 días  Población  \\\n",
       "Lugar de residencia                                                      \n",
       "Huelva                                                259.0   513170.0   \n",
       "Huelva-Costa                                          155.0   289548.0   \n",
       "Condado-Campiña                                        98.0   156231.0   \n",
       "Ayamonte                                               15.0    21104.0   \n",
       "Bollullos Par del Condado                              13.0    14387.0   \n",
       "Cartaya                                                26.0    20083.0   \n",
       "Lucena del Puerto                                      11.0     3261.0   \n",
       "Puebla de Guzmán                                       14.0     3092.0   \n",
       "Almonte                                                32.0    24507.0   \n",
       "Alosno                                                  3.0     3933.0   \n",
       "Huelva (capital)                                       56.0   143837.0   \n",
       "Sierra de Huelva-Andévalo Central                       4.0    67391.0   \n",
       "Palma del Condado (La)                                 13.0    10801.0   \n",
       "Rosal de la Frontera                                    3.0     1697.0   \n",
       "\n",
       "Medida                                  tasa7      tasa14  Diferencia PDIA  \n",
       "Lugar de residencia                                                         \n",
       "Huelva                              22.994329   50.470604             19.0  \n",
       "Huelva-Costa                        26.593173   53.531711             11.0  \n",
       "Condado-Campiña                     24.322958   62.727628              7.0  \n",
       "Ayamonte                            56.861259   71.076573              4.0  \n",
       "Bollullos Par del Condado           41.704316   90.359352              4.0  \n",
       "Cartaya                             59.752029  129.462730              3.0  \n",
       "Lucena del Puerto                  183.992640  337.319841              3.0  \n",
       "Puebla de Guzmán                   388.098318  452.781371              2.0  \n",
       "Almonte                             57.126535  130.574938              1.0  \n",
       "Alosno                              50.851767   76.277651              1.0  \n",
       "Huelva (capital)                    18.076017   38.932959              1.0  \n",
       "Sierra de Huelva-Andévalo Central    2.967755    5.935511              1.0  \n",
       "Palma del Condado (La)              37.033608  120.359226             -2.0  \n",
       "Rosal de la Frontera                58.927519  176.782557              NaN  "
      ],
      "text/html": "<div>\n<style scoped>\n    .dataframe tbody tr th:only-of-type {\n        vertical-align: middle;\n    }\n\n    .dataframe tbody tr th {\n        vertical-align: top;\n    }\n\n    .dataframe thead th {\n        text-align: right;\n    }\n</style>\n<table border=\"1\" class=\"dataframe\">\n  <thead>\n    <tr style=\"text-align: right;\">\n      <th>Medida</th>\n      <th>Confirmados PDIA</th>\n      <th>Confirmados PDIA 7 días</th>\n      <th>Confirmados PDIA 14 días</th>\n      <th>Población</th>\n      <th>tasa7</th>\n      <th>tasa14</th>\n      <th>Diferencia PDIA</th>\n    </tr>\n    <tr>\n      <th>Lugar de residencia</th>\n      <th></th>\n      <th></th>\n      <th></th>\n      <th></th>\n      <th></th>\n      <th></th>\n      <th></th>\n    </tr>\n  </thead>\n  <tbody>\n    <tr>\n      <th>Huelva</th>\n      <td>24636.0</td>\n      <td>118.0</td>\n      <td>259.0</td>\n      <td>513170.0</td>\n      <td>22.994329</td>\n      <td>50.470604</td>\n      <td>19.0</td>\n    </tr>\n    <tr>\n      <th>Huelva-Costa</th>\n      <td>15029.0</td>\n      <td>77.0</td>\n      <td>155.0</td>\n      <td>289548.0</td>\n      <td>26.593173</td>\n      <td>53.531711</td>\n      <td>11.0</td>\n    </tr>\n    <tr>\n      <th>Condado-Campiña</th>\n      <td>6895.0</td>\n      <td>38.0</td>\n      <td>98.0</td>\n      <td>156231.0</td>\n      <td>24.322958</td>\n      <td>62.727628</td>\n      <td>7.0</td>\n    </tr>\n    <tr>\n      <th>Ayamonte</th>\n      <td>1200.0</td>\n      <td>12.0</td>\n      <td>15.0</td>\n      <td>21104.0</td>\n      <td>56.861259</td>\n      <td>71.076573</td>\n      <td>4.0</td>\n    </tr>\n    <tr>\n      <th>Bollullos Par del Condado</th>\n      <td>615.0</td>\n      <td>6.0</td>\n      <td>13.0</td>\n      <td>14387.0</td>\n      <td>41.704316</td>\n      <td>90.359352</td>\n      <td>4.0</td>\n    </tr>\n    <tr>\n      <th>Cartaya</th>\n      <td>952.0</td>\n      <td>12.0</td>\n      <td>26.0</td>\n      <td>20083.0</td>\n      <td>59.752029</td>\n      <td>129.462730</td>\n      <td>3.0</td>\n    </tr>\n    <tr>\n      <th>Lucena del Puerto</th>\n      <td>157.0</td>\n      <td>6.0</td>\n      <td>11.0</td>\n      <td>3261.0</td>\n      <td>183.992640</td>\n      <td>337.319841</td>\n      <td>3.0</td>\n    </tr>\n    <tr>\n      <th>Puebla de Guzmán</th>\n      <td>94.0</td>\n      <td>12.0</td>\n      <td>14.0</td>\n      <td>3092.0</td>\n      <td>388.098318</td>\n      <td>452.781371</td>\n      <td>2.0</td>\n    </tr>\n    <tr>\n      <th>Almonte</th>\n      <td>868.0</td>\n      <td>14.0</td>\n      <td>32.0</td>\n      <td>24507.0</td>\n      <td>57.126535</td>\n      <td>130.574938</td>\n      <td>1.0</td>\n    </tr>\n    <tr>\n      <th>Alosno</th>\n      <td>122.0</td>\n      <td>2.0</td>\n      <td>3.0</td>\n      <td>3933.0</td>\n      <td>50.851767</td>\n      <td>76.277651</td>\n      <td>1.0</td>\n    </tr>\n    <tr>\n      <th>Huelva (capital)</th>\n      <td>6559.0</td>\n      <td>26.0</td>\n      <td>56.0</td>\n      <td>143837.0</td>\n      <td>18.076017</td>\n      <td>38.932959</td>\n      <td>1.0</td>\n    </tr>\n    <tr>\n      <th>Sierra de Huelva-Andévalo Central</th>\n      <td>2299.0</td>\n      <td>2.0</td>\n      <td>4.0</td>\n      <td>67391.0</td>\n      <td>2.967755</td>\n      <td>5.935511</td>\n      <td>1.0</td>\n    </tr>\n    <tr>\n      <th>Palma del Condado (La)</th>\n      <td>975.0</td>\n      <td>4.0</td>\n      <td>13.0</td>\n      <td>10801.0</td>\n      <td>37.033608</td>\n      <td>120.359226</td>\n      <td>-2.0</td>\n    </tr>\n    <tr>\n      <th>Rosal de la Frontera</th>\n      <td>26.0</td>\n      <td>1.0</td>\n      <td>3.0</td>\n      <td>1697.0</td>\n      <td>58.927519</td>\n      <td>176.782557</td>\n      <td>NaN</td>\n    </tr>\n  </tbody>\n</table>\n</div>"
     },
     "metadata": {},
     "execution_count": 15
    }
   ],
   "source": [
    "# Nuevos casos desde la última captura\n",
    "tabla[tabla['Diferencia PDIA'] != 0].sort_values('Diferencia PDIA', ascending=False)"
   ]
  },
  {
   "cell_type": "code",
   "execution_count": 16,
   "metadata": {},
   "outputs": [],
   "source": [
    "if tabla[tabla['Diferencia PDIA'] != 0]['Diferencia PDIA'].sum() != 0:\n",
    "  # Save to csv\n",
    "  tabla.to_csv('covid_huelva.csv', encoding='utf-8', header=True, index=True)  "
   ]
  },
  {
   "cell_type": "code",
   "execution_count": 17,
   "metadata": {},
   "outputs": [
    {
     "output_type": "execute_result",
     "data": {
      "text/plain": [
       "Medida                             Confirmados PDIA  Confirmados PDIA 7 días  \\\n",
       "Lugar de residencia                                                            \n",
       "Puebla de Guzmán                               94.0                     12.0   \n",
       "Lucena del Puerto                             157.0                      6.0   \n",
       "Rosal de la Frontera                           26.0                      1.0   \n",
       "Villablanca                                   176.0                      2.0   \n",
       "Almonte                                       868.0                     14.0   \n",
       "Cartaya                                       952.0                     12.0   \n",
       "Palma del Condado (La)                        975.0                      4.0   \n",
       "San Bartolomé de la Torre                     195.0                      2.0   \n",
       "Bollullos Par del Condado                     615.0                      6.0   \n",
       "Alosno                                        122.0                      2.0   \n",
       "Ayamonte                                     1200.0                     12.0   \n",
       "Condado-Campiña                              6895.0                     38.0   \n",
       "Lepe                                         1994.0                      6.0   \n",
       "Moguer                                        829.0                      3.0   \n",
       "Huelva-Costa                                15029.0                     77.0   \n",
       "Huelva                                      24636.0                    118.0   \n",
       "Huelva (capital)                             6559.0                     26.0   \n",
       "Aljaraque                                     925.0                      3.0   \n",
       "Isla Cristina                                1979.0                      2.0   \n",
       "Paterna del Campo                             111.0                      1.0   \n",
       "Palos de la Frontera                          450.0                      1.0   \n",
       "Rociana del Condado                           310.0                      1.0   \n",
       "Aracena                                       450.0                      1.0   \n",
       "Sierra de Huelva-Andévalo Central            2299.0                      2.0   \n",
       "\n",
       "Medida                             Confirmados PDIA 14 días  Población  \\\n",
       "Lugar de residencia                                                      \n",
       "Puebla de Guzmán                                       14.0     3092.0   \n",
       "Lucena del Puerto                                      11.0     3261.0   \n",
       "Rosal de la Frontera                                    3.0     1697.0   \n",
       "Villablanca                                             4.0     2885.0   \n",
       "Almonte                                                32.0    24507.0   \n",
       "Cartaya                                                26.0    20083.0   \n",
       "Palma del Condado (La)                                 13.0    10801.0   \n",
       "San Bartolomé de la Torre                               4.0     3761.0   \n",
       "Bollullos Par del Condado                              13.0    14387.0   \n",
       "Alosno                                                  3.0     3933.0   \n",
       "Ayamonte                                               15.0    21104.0   \n",
       "Condado-Campiña                                        98.0   156231.0   \n",
       "Lepe                                                   16.0    27880.0   \n",
       "Moguer                                                 12.0    21867.0   \n",
       "Huelva-Costa                                          155.0   289548.0   \n",
       "Huelva                                                259.0   513170.0   \n",
       "Huelva (capital)                                       56.0   143837.0   \n",
       "Aljaraque                                               8.0    21474.0   \n",
       "Isla Cristina                                           7.0    21393.0   \n",
       "Paterna del Campo                                       1.0     3457.0   \n",
       "Palos de la Frontera                                    3.0    11742.0   \n",
       "Rociana del Condado                                     2.0     7939.0   \n",
       "Aracena                                                 1.0     8255.0   \n",
       "Sierra de Huelva-Andévalo Central                       4.0    67391.0   \n",
       "\n",
       "Medida                                  tasa7      tasa14  Diferencia PDIA  \n",
       "Lugar de residencia                                                         \n",
       "Puebla de Guzmán                   388.098318  452.781371              2.0  \n",
       "Lucena del Puerto                  183.992640  337.319841              3.0  \n",
       "Rosal de la Frontera                58.927519  176.782557              NaN  \n",
       "Villablanca                         69.324090  138.648180              0.0  \n",
       "Almonte                             57.126535  130.574938              1.0  \n",
       "Cartaya                             59.752029  129.462730              3.0  \n",
       "Palma del Condado (La)              37.033608  120.359226             -2.0  \n",
       "San Bartolomé de la Torre           53.177346  106.354693              0.0  \n",
       "Bollullos Par del Condado           41.704316   90.359352              4.0  \n",
       "Alosno                              50.851767   76.277651              1.0  \n",
       "Ayamonte                            56.861259   71.076573              4.0  \n",
       "Condado-Campiña                     24.322958   62.727628              7.0  \n",
       "Lepe                                21.520803   57.388809              0.0  \n",
       "Moguer                              13.719303   54.877212              0.0  \n",
       "Huelva-Costa                        26.593173   53.531711             11.0  \n",
       "Huelva                              22.994329   50.470604             19.0  \n",
       "Huelva (capital)                    18.076017   38.932959              1.0  \n",
       "Aljaraque                           13.970383   37.254354              0.0  \n",
       "Isla Cristina                        9.348852   32.720983              0.0  \n",
       "Paterna del Campo                   28.926815   28.926815              0.0  \n",
       "Palos de la Frontera                 8.516437   25.549310              0.0  \n",
       "Rociana del Condado                 12.596045   25.192090              0.0  \n",
       "Aracena                             12.113870   12.113870              0.0  \n",
       "Sierra de Huelva-Andévalo Central    2.967755    5.935511              1.0  "
      ],
      "text/html": "<div>\n<style scoped>\n    .dataframe tbody tr th:only-of-type {\n        vertical-align: middle;\n    }\n\n    .dataframe tbody tr th {\n        vertical-align: top;\n    }\n\n    .dataframe thead th {\n        text-align: right;\n    }\n</style>\n<table border=\"1\" class=\"dataframe\">\n  <thead>\n    <tr style=\"text-align: right;\">\n      <th>Medida</th>\n      <th>Confirmados PDIA</th>\n      <th>Confirmados PDIA 7 días</th>\n      <th>Confirmados PDIA 14 días</th>\n      <th>Población</th>\n      <th>tasa7</th>\n      <th>tasa14</th>\n      <th>Diferencia PDIA</th>\n    </tr>\n    <tr>\n      <th>Lugar de residencia</th>\n      <th></th>\n      <th></th>\n      <th></th>\n      <th></th>\n      <th></th>\n      <th></th>\n      <th></th>\n    </tr>\n  </thead>\n  <tbody>\n    <tr>\n      <th>Puebla de Guzmán</th>\n      <td>94.0</td>\n      <td>12.0</td>\n      <td>14.0</td>\n      <td>3092.0</td>\n      <td>388.098318</td>\n      <td>452.781371</td>\n      <td>2.0</td>\n    </tr>\n    <tr>\n      <th>Lucena del Puerto</th>\n      <td>157.0</td>\n      <td>6.0</td>\n      <td>11.0</td>\n      <td>3261.0</td>\n      <td>183.992640</td>\n      <td>337.319841</td>\n      <td>3.0</td>\n    </tr>\n    <tr>\n      <th>Rosal de la Frontera</th>\n      <td>26.0</td>\n      <td>1.0</td>\n      <td>3.0</td>\n      <td>1697.0</td>\n      <td>58.927519</td>\n      <td>176.782557</td>\n      <td>NaN</td>\n    </tr>\n    <tr>\n      <th>Villablanca</th>\n      <td>176.0</td>\n      <td>2.0</td>\n      <td>4.0</td>\n      <td>2885.0</td>\n      <td>69.324090</td>\n      <td>138.648180</td>\n      <td>0.0</td>\n    </tr>\n    <tr>\n      <th>Almonte</th>\n      <td>868.0</td>\n      <td>14.0</td>\n      <td>32.0</td>\n      <td>24507.0</td>\n      <td>57.126535</td>\n      <td>130.574938</td>\n      <td>1.0</td>\n    </tr>\n    <tr>\n      <th>Cartaya</th>\n      <td>952.0</td>\n      <td>12.0</td>\n      <td>26.0</td>\n      <td>20083.0</td>\n      <td>59.752029</td>\n      <td>129.462730</td>\n      <td>3.0</td>\n    </tr>\n    <tr>\n      <th>Palma del Condado (La)</th>\n      <td>975.0</td>\n      <td>4.0</td>\n      <td>13.0</td>\n      <td>10801.0</td>\n      <td>37.033608</td>\n      <td>120.359226</td>\n      <td>-2.0</td>\n    </tr>\n    <tr>\n      <th>San Bartolomé de la Torre</th>\n      <td>195.0</td>\n      <td>2.0</td>\n      <td>4.0</td>\n      <td>3761.0</td>\n      <td>53.177346</td>\n      <td>106.354693</td>\n      <td>0.0</td>\n    </tr>\n    <tr>\n      <th>Bollullos Par del Condado</th>\n      <td>615.0</td>\n      <td>6.0</td>\n      <td>13.0</td>\n      <td>14387.0</td>\n      <td>41.704316</td>\n      <td>90.359352</td>\n      <td>4.0</td>\n    </tr>\n    <tr>\n      <th>Alosno</th>\n      <td>122.0</td>\n      <td>2.0</td>\n      <td>3.0</td>\n      <td>3933.0</td>\n      <td>50.851767</td>\n      <td>76.277651</td>\n      <td>1.0</td>\n    </tr>\n    <tr>\n      <th>Ayamonte</th>\n      <td>1200.0</td>\n      <td>12.0</td>\n      <td>15.0</td>\n      <td>21104.0</td>\n      <td>56.861259</td>\n      <td>71.076573</td>\n      <td>4.0</td>\n    </tr>\n    <tr>\n      <th>Condado-Campiña</th>\n      <td>6895.0</td>\n      <td>38.0</td>\n      <td>98.0</td>\n      <td>156231.0</td>\n      <td>24.322958</td>\n      <td>62.727628</td>\n      <td>7.0</td>\n    </tr>\n    <tr>\n      <th>Lepe</th>\n      <td>1994.0</td>\n      <td>6.0</td>\n      <td>16.0</td>\n      <td>27880.0</td>\n      <td>21.520803</td>\n      <td>57.388809</td>\n      <td>0.0</td>\n    </tr>\n    <tr>\n      <th>Moguer</th>\n      <td>829.0</td>\n      <td>3.0</td>\n      <td>12.0</td>\n      <td>21867.0</td>\n      <td>13.719303</td>\n      <td>54.877212</td>\n      <td>0.0</td>\n    </tr>\n    <tr>\n      <th>Huelva-Costa</th>\n      <td>15029.0</td>\n      <td>77.0</td>\n      <td>155.0</td>\n      <td>289548.0</td>\n      <td>26.593173</td>\n      <td>53.531711</td>\n      <td>11.0</td>\n    </tr>\n    <tr>\n      <th>Huelva</th>\n      <td>24636.0</td>\n      <td>118.0</td>\n      <td>259.0</td>\n      <td>513170.0</td>\n      <td>22.994329</td>\n      <td>50.470604</td>\n      <td>19.0</td>\n    </tr>\n    <tr>\n      <th>Huelva (capital)</th>\n      <td>6559.0</td>\n      <td>26.0</td>\n      <td>56.0</td>\n      <td>143837.0</td>\n      <td>18.076017</td>\n      <td>38.932959</td>\n      <td>1.0</td>\n    </tr>\n    <tr>\n      <th>Aljaraque</th>\n      <td>925.0</td>\n      <td>3.0</td>\n      <td>8.0</td>\n      <td>21474.0</td>\n      <td>13.970383</td>\n      <td>37.254354</td>\n      <td>0.0</td>\n    </tr>\n    <tr>\n      <th>Isla Cristina</th>\n      <td>1979.0</td>\n      <td>2.0</td>\n      <td>7.0</td>\n      <td>21393.0</td>\n      <td>9.348852</td>\n      <td>32.720983</td>\n      <td>0.0</td>\n    </tr>\n    <tr>\n      <th>Paterna del Campo</th>\n      <td>111.0</td>\n      <td>1.0</td>\n      <td>1.0</td>\n      <td>3457.0</td>\n      <td>28.926815</td>\n      <td>28.926815</td>\n      <td>0.0</td>\n    </tr>\n    <tr>\n      <th>Palos de la Frontera</th>\n      <td>450.0</td>\n      <td>1.0</td>\n      <td>3.0</td>\n      <td>11742.0</td>\n      <td>8.516437</td>\n      <td>25.549310</td>\n      <td>0.0</td>\n    </tr>\n    <tr>\n      <th>Rociana del Condado</th>\n      <td>310.0</td>\n      <td>1.0</td>\n      <td>2.0</td>\n      <td>7939.0</td>\n      <td>12.596045</td>\n      <td>25.192090</td>\n      <td>0.0</td>\n    </tr>\n    <tr>\n      <th>Aracena</th>\n      <td>450.0</td>\n      <td>1.0</td>\n      <td>1.0</td>\n      <td>8255.0</td>\n      <td>12.113870</td>\n      <td>12.113870</td>\n      <td>0.0</td>\n    </tr>\n    <tr>\n      <th>Sierra de Huelva-Andévalo Central</th>\n      <td>2299.0</td>\n      <td>2.0</td>\n      <td>4.0</td>\n      <td>67391.0</td>\n      <td>2.967755</td>\n      <td>5.935511</td>\n      <td>1.0</td>\n    </tr>\n  </tbody>\n</table>\n</div>"
     },
     "metadata": {},
     "execution_count": 17
    }
   ],
   "source": [
    "tabla.sort_values('tasa14', ascending=False)"
   ]
  },
  {
   "cell_type": "code",
   "execution_count": 18,
   "metadata": {},
   "outputs": [
    {
     "output_type": "execute_result",
     "data": {
      "text/plain": [
       "Medida                             Confirmados PDIA  Confirmados PDIA 7 días  \\\n",
       "Lugar de residencia                                                            \n",
       "Moguer                                        829.0                      3.0   \n",
       "Isla Cristina                                1979.0                      2.0   \n",
       "Palma del Condado (La)                        975.0                      4.0   \n",
       "Palos de la Frontera                          450.0                      1.0   \n",
       "Rosal de la Frontera                           26.0                      1.0   \n",
       "Lepe                                         1994.0                      6.0   \n",
       "Aljaraque                                     925.0                      3.0   \n",
       "Condado-Campiña                              6895.0                     38.0   \n",
       "Almonte                                       868.0                     14.0   \n",
       "Huelva                                      24636.0                    118.0   \n",
       "Cartaya                                       952.0                     12.0   \n",
       "Bollullos Par del Condado                     615.0                      6.0   \n",
       "Huelva (capital)                             6559.0                     26.0   \n",
       "Huelva-Costa                                15029.0                     77.0   \n",
       "San Bartolomé de la Torre                     195.0                      2.0   \n",
       "Rociana del Condado                           310.0                      1.0   \n",
       "Villablanca                                   176.0                      2.0   \n",
       "Sierra de Huelva-Andévalo Central            2299.0                      2.0   \n",
       "Lucena del Puerto                             157.0                      6.0   \n",
       "Alosno                                        122.0                      2.0   \n",
       "Ayamonte                                     1200.0                     12.0   \n",
       "Puebla de Guzmán                               94.0                     12.0   \n",
       "Paterna del Campo                             111.0                      1.0   \n",
       "Aracena                                       450.0                      1.0   \n",
       "\n",
       "Medida                             Confirmados PDIA 14 días  Población  \\\n",
       "Lugar de residencia                                                      \n",
       "Moguer                                                 12.0    21867.0   \n",
       "Isla Cristina                                           7.0    21393.0   \n",
       "Palma del Condado (La)                                 13.0    10801.0   \n",
       "Palos de la Frontera                                    3.0    11742.0   \n",
       "Rosal de la Frontera                                    3.0     1697.0   \n",
       "Lepe                                                   16.0    27880.0   \n",
       "Aljaraque                                               8.0    21474.0   \n",
       "Condado-Campiña                                        98.0   156231.0   \n",
       "Almonte                                                32.0    24507.0   \n",
       "Huelva                                                259.0   513170.0   \n",
       "Cartaya                                                26.0    20083.0   \n",
       "Bollullos Par del Condado                              13.0    14387.0   \n",
       "Huelva (capital)                                       56.0   143837.0   \n",
       "Huelva-Costa                                          155.0   289548.0   \n",
       "San Bartolomé de la Torre                               4.0     3761.0   \n",
       "Rociana del Condado                                     2.0     7939.0   \n",
       "Villablanca                                             4.0     2885.0   \n",
       "Sierra de Huelva-Andévalo Central                       4.0    67391.0   \n",
       "Lucena del Puerto                                      11.0     3261.0   \n",
       "Alosno                                                  3.0     3933.0   \n",
       "Ayamonte                                               15.0    21104.0   \n",
       "Puebla de Guzmán                                       14.0     3092.0   \n",
       "Paterna del Campo                                       1.0     3457.0   \n",
       "Aracena                                                 1.0     8255.0   \n",
       "\n",
       "Medida                                  tasa7      tasa14  Diferencia PDIA  \\\n",
       "Lugar de residencia                                                          \n",
       "Moguer                              13.719303   54.877212              0.0   \n",
       "Isla Cristina                        9.348852   32.720983              0.0   \n",
       "Palma del Condado (La)              37.033608  120.359226             -2.0   \n",
       "Palos de la Frontera                 8.516437   25.549310              0.0   \n",
       "Rosal de la Frontera                58.927519  176.782557              0.0   \n",
       "Lepe                                21.520803   57.388809              0.0   \n",
       "Aljaraque                           13.970383   37.254354              0.0   \n",
       "Condado-Campiña                     24.322958   62.727628              7.0   \n",
       "Almonte                             57.126535  130.574938              1.0   \n",
       "Huelva                              22.994329   50.470604             19.0   \n",
       "Cartaya                             59.752029  129.462730              3.0   \n",
       "Bollullos Par del Condado           41.704316   90.359352              4.0   \n",
       "Huelva (capital)                    18.076017   38.932959              1.0   \n",
       "Huelva-Costa                        26.593173   53.531711             11.0   \n",
       "San Bartolomé de la Torre           53.177346  106.354693              0.0   \n",
       "Rociana del Condado                 12.596045   25.192090              0.0   \n",
       "Villablanca                         69.324090  138.648180              0.0   \n",
       "Sierra de Huelva-Andévalo Central    2.967755    5.935511              1.0   \n",
       "Lucena del Puerto                  183.992640  337.319841              3.0   \n",
       "Alosno                              50.851767   76.277651              1.0   \n",
       "Ayamonte                            56.861259   71.076573              4.0   \n",
       "Puebla de Guzmán                   388.098318  452.781371              2.0   \n",
       "Paterna del Campo                   28.926815   28.926815              0.0   \n",
       "Aracena                             12.113870   12.113870              0.0   \n",
       "\n",
       "Medida                                 7/14  \n",
       "Lugar de residencia                          \n",
       "Moguer                             0.250000  \n",
       "Isla Cristina                      0.285714  \n",
       "Palma del Condado (La)             0.307692  \n",
       "Palos de la Frontera               0.333333  \n",
       "Rosal de la Frontera               0.333333  \n",
       "Lepe                               0.375000  \n",
       "Aljaraque                          0.375000  \n",
       "Condado-Campiña                    0.387755  \n",
       "Almonte                            0.437500  \n",
       "Huelva                             0.455598  \n",
       "Cartaya                            0.461538  \n",
       "Bollullos Par del Condado          0.461538  \n",
       "Huelva (capital)                   0.464286  \n",
       "Huelva-Costa                       0.496774  \n",
       "San Bartolomé de la Torre          0.500000  \n",
       "Rociana del Condado                0.500000  \n",
       "Villablanca                        0.500000  \n",
       "Sierra de Huelva-Andévalo Central  0.500000  \n",
       "Lucena del Puerto                  0.545455  \n",
       "Alosno                             0.666667  \n",
       "Ayamonte                           0.800000  \n",
       "Puebla de Guzmán                   0.857143  \n",
       "Paterna del Campo                  1.000000  \n",
       "Aracena                            1.000000  "
      ],
      "text/html": "<div>\n<style scoped>\n    .dataframe tbody tr th:only-of-type {\n        vertical-align: middle;\n    }\n\n    .dataframe tbody tr th {\n        vertical-align: top;\n    }\n\n    .dataframe thead th {\n        text-align: right;\n    }\n</style>\n<table border=\"1\" class=\"dataframe\">\n  <thead>\n    <tr style=\"text-align: right;\">\n      <th>Medida</th>\n      <th>Confirmados PDIA</th>\n      <th>Confirmados PDIA 7 días</th>\n      <th>Confirmados PDIA 14 días</th>\n      <th>Población</th>\n      <th>tasa7</th>\n      <th>tasa14</th>\n      <th>Diferencia PDIA</th>\n      <th>7/14</th>\n    </tr>\n    <tr>\n      <th>Lugar de residencia</th>\n      <th></th>\n      <th></th>\n      <th></th>\n      <th></th>\n      <th></th>\n      <th></th>\n      <th></th>\n      <th></th>\n    </tr>\n  </thead>\n  <tbody>\n    <tr>\n      <th>Moguer</th>\n      <td>829.0</td>\n      <td>3.0</td>\n      <td>12.0</td>\n      <td>21867.0</td>\n      <td>13.719303</td>\n      <td>54.877212</td>\n      <td>0.0</td>\n      <td>0.250000</td>\n    </tr>\n    <tr>\n      <th>Isla Cristina</th>\n      <td>1979.0</td>\n      <td>2.0</td>\n      <td>7.0</td>\n      <td>21393.0</td>\n      <td>9.348852</td>\n      <td>32.720983</td>\n      <td>0.0</td>\n      <td>0.285714</td>\n    </tr>\n    <tr>\n      <th>Palma del Condado (La)</th>\n      <td>975.0</td>\n      <td>4.0</td>\n      <td>13.0</td>\n      <td>10801.0</td>\n      <td>37.033608</td>\n      <td>120.359226</td>\n      <td>-2.0</td>\n      <td>0.307692</td>\n    </tr>\n    <tr>\n      <th>Palos de la Frontera</th>\n      <td>450.0</td>\n      <td>1.0</td>\n      <td>3.0</td>\n      <td>11742.0</td>\n      <td>8.516437</td>\n      <td>25.549310</td>\n      <td>0.0</td>\n      <td>0.333333</td>\n    </tr>\n    <tr>\n      <th>Rosal de la Frontera</th>\n      <td>26.0</td>\n      <td>1.0</td>\n      <td>3.0</td>\n      <td>1697.0</td>\n      <td>58.927519</td>\n      <td>176.782557</td>\n      <td>0.0</td>\n      <td>0.333333</td>\n    </tr>\n    <tr>\n      <th>Lepe</th>\n      <td>1994.0</td>\n      <td>6.0</td>\n      <td>16.0</td>\n      <td>27880.0</td>\n      <td>21.520803</td>\n      <td>57.388809</td>\n      <td>0.0</td>\n      <td>0.375000</td>\n    </tr>\n    <tr>\n      <th>Aljaraque</th>\n      <td>925.0</td>\n      <td>3.0</td>\n      <td>8.0</td>\n      <td>21474.0</td>\n      <td>13.970383</td>\n      <td>37.254354</td>\n      <td>0.0</td>\n      <td>0.375000</td>\n    </tr>\n    <tr>\n      <th>Condado-Campiña</th>\n      <td>6895.0</td>\n      <td>38.0</td>\n      <td>98.0</td>\n      <td>156231.0</td>\n      <td>24.322958</td>\n      <td>62.727628</td>\n      <td>7.0</td>\n      <td>0.387755</td>\n    </tr>\n    <tr>\n      <th>Almonte</th>\n      <td>868.0</td>\n      <td>14.0</td>\n      <td>32.0</td>\n      <td>24507.0</td>\n      <td>57.126535</td>\n      <td>130.574938</td>\n      <td>1.0</td>\n      <td>0.437500</td>\n    </tr>\n    <tr>\n      <th>Huelva</th>\n      <td>24636.0</td>\n      <td>118.0</td>\n      <td>259.0</td>\n      <td>513170.0</td>\n      <td>22.994329</td>\n      <td>50.470604</td>\n      <td>19.0</td>\n      <td>0.455598</td>\n    </tr>\n    <tr>\n      <th>Cartaya</th>\n      <td>952.0</td>\n      <td>12.0</td>\n      <td>26.0</td>\n      <td>20083.0</td>\n      <td>59.752029</td>\n      <td>129.462730</td>\n      <td>3.0</td>\n      <td>0.461538</td>\n    </tr>\n    <tr>\n      <th>Bollullos Par del Condado</th>\n      <td>615.0</td>\n      <td>6.0</td>\n      <td>13.0</td>\n      <td>14387.0</td>\n      <td>41.704316</td>\n      <td>90.359352</td>\n      <td>4.0</td>\n      <td>0.461538</td>\n    </tr>\n    <tr>\n      <th>Huelva (capital)</th>\n      <td>6559.0</td>\n      <td>26.0</td>\n      <td>56.0</td>\n      <td>143837.0</td>\n      <td>18.076017</td>\n      <td>38.932959</td>\n      <td>1.0</td>\n      <td>0.464286</td>\n    </tr>\n    <tr>\n      <th>Huelva-Costa</th>\n      <td>15029.0</td>\n      <td>77.0</td>\n      <td>155.0</td>\n      <td>289548.0</td>\n      <td>26.593173</td>\n      <td>53.531711</td>\n      <td>11.0</td>\n      <td>0.496774</td>\n    </tr>\n    <tr>\n      <th>San Bartolomé de la Torre</th>\n      <td>195.0</td>\n      <td>2.0</td>\n      <td>4.0</td>\n      <td>3761.0</td>\n      <td>53.177346</td>\n      <td>106.354693</td>\n      <td>0.0</td>\n      <td>0.500000</td>\n    </tr>\n    <tr>\n      <th>Rociana del Condado</th>\n      <td>310.0</td>\n      <td>1.0</td>\n      <td>2.0</td>\n      <td>7939.0</td>\n      <td>12.596045</td>\n      <td>25.192090</td>\n      <td>0.0</td>\n      <td>0.500000</td>\n    </tr>\n    <tr>\n      <th>Villablanca</th>\n      <td>176.0</td>\n      <td>2.0</td>\n      <td>4.0</td>\n      <td>2885.0</td>\n      <td>69.324090</td>\n      <td>138.648180</td>\n      <td>0.0</td>\n      <td>0.500000</td>\n    </tr>\n    <tr>\n      <th>Sierra de Huelva-Andévalo Central</th>\n      <td>2299.0</td>\n      <td>2.0</td>\n      <td>4.0</td>\n      <td>67391.0</td>\n      <td>2.967755</td>\n      <td>5.935511</td>\n      <td>1.0</td>\n      <td>0.500000</td>\n    </tr>\n    <tr>\n      <th>Lucena del Puerto</th>\n      <td>157.0</td>\n      <td>6.0</td>\n      <td>11.0</td>\n      <td>3261.0</td>\n      <td>183.992640</td>\n      <td>337.319841</td>\n      <td>3.0</td>\n      <td>0.545455</td>\n    </tr>\n    <tr>\n      <th>Alosno</th>\n      <td>122.0</td>\n      <td>2.0</td>\n      <td>3.0</td>\n      <td>3933.0</td>\n      <td>50.851767</td>\n      <td>76.277651</td>\n      <td>1.0</td>\n      <td>0.666667</td>\n    </tr>\n    <tr>\n      <th>Ayamonte</th>\n      <td>1200.0</td>\n      <td>12.0</td>\n      <td>15.0</td>\n      <td>21104.0</td>\n      <td>56.861259</td>\n      <td>71.076573</td>\n      <td>4.0</td>\n      <td>0.800000</td>\n    </tr>\n    <tr>\n      <th>Puebla de Guzmán</th>\n      <td>94.0</td>\n      <td>12.0</td>\n      <td>14.0</td>\n      <td>3092.0</td>\n      <td>388.098318</td>\n      <td>452.781371</td>\n      <td>2.0</td>\n      <td>0.857143</td>\n    </tr>\n    <tr>\n      <th>Paterna del Campo</th>\n      <td>111.0</td>\n      <td>1.0</td>\n      <td>1.0</td>\n      <td>3457.0</td>\n      <td>28.926815</td>\n      <td>28.926815</td>\n      <td>0.0</td>\n      <td>1.000000</td>\n    </tr>\n    <tr>\n      <th>Aracena</th>\n      <td>450.0</td>\n      <td>1.0</td>\n      <td>1.0</td>\n      <td>8255.0</td>\n      <td>12.113870</td>\n      <td>12.113870</td>\n      <td>0.0</td>\n      <td>1.000000</td>\n    </tr>\n  </tbody>\n</table>\n</div>"
     },
     "metadata": {},
     "execution_count": 18
    }
   ],
   "source": [
    "# Peso de la tasa de la última semana en relación con la tasa a 14 días \n",
    "# Mejor cuanto menor. Valor 1 significa que no había casos antes de 7 días.\n",
    "tabla['7/14'] = tabla['tasa7'] / tabla['tasa14']\n",
    "tabla.fillna(0).sort_values('7/14', ascending=True)"
   ]
  },
  {
   "cell_type": "code",
   "execution_count": null,
   "metadata": {},
   "outputs": [],
   "source": []
  }
 ]
}