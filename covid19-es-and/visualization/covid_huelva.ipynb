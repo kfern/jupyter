{
 "metadata": {
  "language_info": {
   "codemirror_mode": {
    "name": "ipython",
    "version": 3
   },
   "file_extension": ".py",
   "mimetype": "text/x-python",
   "name": "python",
   "nbconvert_exporter": "python",
   "pygments_lexer": "ipython3",
   "version": "3.9.5"
  },
  "orig_nbformat": 2,
  "kernelspec": {
   "name": "python3",
   "display_name": "Python 3.9.5 64-bit"
  },
  "interpreter": {
   "hash": "31f2aee4e71d21fbe5cf8b01ff0e069b9275f58929596ceb00d14d90e3e16cd6"
  }
 },
 "nbformat": 4,
 "nbformat_minor": 2,
 "cells": [
  {
   "cell_type": "code",
   "execution_count": 1,
   "metadata": {},
   "outputs": [],
   "source": [
    "import pandas as pd\n",
    "pd.set_option('display.max_rows', None) # Print all rows"
   ]
  },
  {
   "cell_type": "code",
   "execution_count": 2,
   "metadata": {},
   "outputs": [],
   "source": [
    "# FIX SSL: CERTIFICATE_VERIFY_FAILED with Python3\n",
    "# https://stackoverflow.com/a/49174340\n",
    "import ssl\n",
    "\n",
    "ssl._create_default_https_context = ssl._create_unverified_context"
   ]
  },
  {
   "cell_type": "code",
   "execution_count": 3,
   "metadata": {},
   "outputs": [],
   "source": [
    "url = 'https://www.juntadeandalucia.es/institutodeestadisticaycartografia/badea/stpivot/stpivot/Print?cube=013d884c-cfc5-4c21-9e78-e26225682afd&type=3&foto=si&ejecutaDesde=&codConsulta=38668&consTipoVisua=JP'\n",
    "fields = ['Lugar de residencia', 'Medida', 'Valor']\n",
    "df = pd.read_csv(url, delimiter=';', usecols=fields, decimal=',')"
   ]
  },
  {
   "cell_type": "code",
   "execution_count": 4,
   "metadata": {},
   "outputs": [
    {
     "output_type": "execute_result",
     "data": {
      "text/plain": [
       "  Lugar de residencia                    Medida               Valor\n",
       "0              Huelva                 Población              513170\n",
       "1              Huelva          Confirmados PDIA               34574\n",
       "2              Huelva  Confirmados PDIA 14 días                1103\n",
       "3              Huelva         Tasa PDIA 14 días  214,93851939902956\n",
       "4              Huelva   Confirmados PDIA 7 días                 644\n",
       "5              Huelva        Total Confirmados                34761\n",
       "6              Huelva                   Curados               32509\n",
       "7              Huelva                Fallecidos                 395"
      ],
      "text/html": "<div>\n<style scoped>\n    .dataframe tbody tr th:only-of-type {\n        vertical-align: middle;\n    }\n\n    .dataframe tbody tr th {\n        vertical-align: top;\n    }\n\n    .dataframe thead th {\n        text-align: right;\n    }\n</style>\n<table border=\"1\" class=\"dataframe\">\n  <thead>\n    <tr style=\"text-align: right;\">\n      <th></th>\n      <th>Lugar de residencia</th>\n      <th>Medida</th>\n      <th>Valor</th>\n    </tr>\n  </thead>\n  <tbody>\n    <tr>\n      <th>0</th>\n      <td>Huelva</td>\n      <td>Población</td>\n      <td>513170</td>\n    </tr>\n    <tr>\n      <th>1</th>\n      <td>Huelva</td>\n      <td>Confirmados PDIA</td>\n      <td>34574</td>\n    </tr>\n    <tr>\n      <th>2</th>\n      <td>Huelva</td>\n      <td>Confirmados PDIA 14 días</td>\n      <td>1103</td>\n    </tr>\n    <tr>\n      <th>3</th>\n      <td>Huelva</td>\n      <td>Tasa PDIA 14 días</td>\n      <td>214,93851939902956</td>\n    </tr>\n    <tr>\n      <th>4</th>\n      <td>Huelva</td>\n      <td>Confirmados PDIA 7 días</td>\n      <td>644</td>\n    </tr>\n    <tr>\n      <th>5</th>\n      <td>Huelva</td>\n      <td>Total Confirmados</td>\n      <td>34761</td>\n    </tr>\n    <tr>\n      <th>6</th>\n      <td>Huelva</td>\n      <td>Curados</td>\n      <td>32509</td>\n    </tr>\n    <tr>\n      <th>7</th>\n      <td>Huelva</td>\n      <td>Fallecidos</td>\n      <td>395</td>\n    </tr>\n  </tbody>\n</table>\n</div>"
     },
     "metadata": {},
     "execution_count": 4
    }
   ],
   "source": [
    "df[df['Lugar de residencia'] == 'Huelva']"
   ]
  },
  {
   "cell_type": "code",
   "execution_count": 5,
   "metadata": {},
   "outputs": [],
   "source": [
    "df['Valor'] = pd.to_numeric(df['Valor'],errors='coerce')"
   ]
  },
  {
   "cell_type": "code",
   "execution_count": 6,
   "metadata": {},
   "outputs": [],
   "source": [
    "dfAnterior = pd.read_csv('covid_huelva.csv', index_col='Lugar de residencia')"
   ]
  },
  {
   "cell_type": "code",
   "execution_count": 7,
   "metadata": {
    "tags": []
   },
   "outputs": [
    {
     "output_type": "stream",
     "name": "stdout",
     "text": [
      "Confirmados PCR en la provincia de Huelva:  34574.0\n",
      "/tmp/ipykernel_114377/1396922249.py:2: UserWarning: Boolean Series key will be reindexed to match DataFrame index.\n",
      "  p = df[df['Lugar de residencia'] == 'Huelva'][df['Medida'] == 'Confirmados PDIA']['Valor'].values[0]\n"
     ]
    }
   ],
   "source": [
    "# Confirmados PCR provincia Huelva\n",
    "p = df[df['Lugar de residencia'] == 'Huelva'][df['Medida'] == 'Confirmados PDIA']['Valor'].values[0]\n",
    "print('Confirmados PCR en la provincia de Huelva: ', p)"
   ]
  },
  {
   "cell_type": "code",
   "execution_count": 8,
   "metadata": {
    "tags": []
   },
   "outputs": [
    {
     "output_type": "stream",
     "name": "stdout",
     "text": [
      "Confirmados PCR en Huelva capital:  9447.0\n",
      "/tmp/ipykernel_114377/2509482988.py:2: UserWarning: Boolean Series key will be reindexed to match DataFrame index.\n",
      "  c = df[df['Lugar de residencia'] == 'Huelva (capital)'][df['Medida'] == 'Confirmados PDIA']['Valor'].values[0]\n"
     ]
    }
   ],
   "source": [
    "# Confirmados PCR Huelva capitalpd\n",
    "c = df[df['Lugar de residencia'] == 'Huelva (capital)'][df['Medida'] == 'Confirmados PDIA']['Valor'].values[0]\n",
    "print('Confirmados PCR en Huelva capital: ', c)"
   ]
  },
  {
   "cell_type": "code",
   "execution_count": 9,
   "metadata": {
    "tags": []
   },
   "outputs": [
    {
     "output_type": "stream",
     "name": "stderr",
     "text": [
      "/tmp/ipykernel_114377/2690025379.py:1: UserWarning: Boolean Series key will be reindexed to match DataFrame index.\n  c7 = df[df['Lugar de residencia'] == 'Huelva (capital)'][df['Medida'] == 'Confirmados PDIA 7 días']['Valor'].values[0]\n/tmp/ipykernel_114377/2690025379.py:2: UserWarning: Boolean Series key will be reindexed to match DataFrame index.\n  c14 = df[df['Lugar de residencia'] == 'Huelva (capital)'][df['Medida'] == 'Confirmados PDIA 14 días']['Valor'].values[0]\n/tmp/ipykernel_114377/2690025379.py:3: UserWarning: Boolean Series key will be reindexed to match DataFrame index.\n  p = df[df['Lugar de residencia'] == 'Huelva (capital)'][df['Medida'] == 'Población']['Valor'].values[0]\n"
     ]
    }
   ],
   "source": [
    "c7 = df[df['Lugar de residencia'] == 'Huelva (capital)'][df['Medida'] == 'Confirmados PDIA 7 días']['Valor'].values[0]\n",
    "c14 = df[df['Lugar de residencia'] == 'Huelva (capital)'][df['Medida'] == 'Confirmados PDIA 14 días']['Valor'].values[0]\n",
    "p = df[df['Lugar de residencia'] == 'Huelva (capital)'][df['Medida'] == 'Población']['Valor'].values[0]"
   ]
  },
  {
   "cell_type": "code",
   "execution_count": 10,
   "metadata": {
    "tags": []
   },
   "outputs": [
    {
     "output_type": "stream",
     "name": "stdout",
     "text": [
      "Huelva (capital)\n\nUn positivo PCR cada 841 personas en los últimos 7 días \n\nUn positivo PCR cada 512 personas en los últimos 14 días\n"
     ]
    }
   ],
   "source": [
    "print('Huelva (capital)\\n')\n",
    "#print('Confirmados PCR 7 días x 1,000 habitantes: ', f\"{c7/(p/1000):.5f}\")\n",
    "print('Un positivo PCR cada', f\"{p/c7:.0f}\", 'personas en los últimos 7 días', '\\n')\n",
    "#print('Confirmados PCR 14 días x 1,000 habitantes: ', f\"{c14/(p/1000):.5f}\")\n",
    "print('Un positivo PCR cada', f\"{p/c14:.0f}\", 'personas en los últimos 14 días')"
   ]
  },
  {
   "cell_type": "code",
   "execution_count": 11,
   "metadata": {},
   "outputs": [],
   "source": [
    "filtro = ((df['Medida'] == 'Confirmados PDIA')| (df['Medida'] == 'Confirmados PDIA 7 días') | (df['Medida'] == 'Población' ) | (df['Medida'] == 'Confirmados PDIA 14 días')) & (df['Valor'] > 0)\n",
    "tabla = pd.pivot_table(df.loc[filtro], values='Valor', index='Lugar de residencia', columns='Medida').dropna()"
   ]
  },
  {
   "cell_type": "code",
   "execution_count": 12,
   "metadata": {},
   "outputs": [],
   "source": [
    "# Reorder columns\n",
    "tabla = tabla[['Confirmados PDIA', 'Confirmados PDIA 7 días', 'Confirmados PDIA 14 días', 'Población']]"
   ]
  },
  {
   "cell_type": "code",
   "execution_count": 13,
   "metadata": {},
   "outputs": [],
   "source": [
    "tabla['tasa7'] = tabla['Confirmados PDIA 7 días']/tabla['Población']*100000\n",
    "tabla['tasa14'] = tabla['Confirmados PDIA 14 días']/tabla['Población']*100000"
   ]
  },
  {
   "cell_type": "code",
   "execution_count": 14,
   "metadata": {},
   "outputs": [],
   "source": [
    "tabla['Diferencia PDIA'] = tabla['Confirmados PDIA'] - dfAnterior['Confirmados PDIA']"
   ]
  },
  {
   "cell_type": "code",
   "execution_count": 15,
   "metadata": {},
   "outputs": [
    {
     "output_type": "execute_result",
     "data": {
      "text/plain": [
       "Medida                             Confirmados PDIA  Confirmados PDIA 7 días  \\\n",
       "Lugar de residencia                                                            \n",
       "Huelva                                      34574.0                    644.0   \n",
       "Huelva-Costa                                20043.0                    455.0   \n",
       "Huelva (capital)                             9447.0                    171.0   \n",
       "Condado-Campiña                             11163.0                    150.0   \n",
       "Isla Cristina                                2361.0                    104.0   \n",
       "Lepe                                         2277.0                     67.0   \n",
       "Ayamonte                                     1431.0                     43.0   \n",
       "Aljaraque                                    1226.0                     33.0   \n",
       "Niebla                                        296.0                     32.0   \n",
       "Sierra de Huelva-Andévalo Central            2996.0                     25.0   \n",
       "Moguer                                       1461.0                     25.0   \n",
       "Palma del Condado (La)                       1219.0                     16.0   \n",
       "Gibraleón                                     688.0                     17.0   \n",
       "Cartaya                                      1441.0                     15.0   \n",
       "San Juan del Puerto                           609.0                     12.0   \n",
       "Aracena                                       553.0                      9.0   \n",
       "Almonte                                      1954.0                     13.0   \n",
       "Punta Umbría                                  876.0                      7.0   \n",
       "Palos de la Frontera                          750.0                     10.0   \n",
       "Valverde del Camino                           680.0                      2.0   \n",
       "Zarza-Perrunal (La)                            33.0                      3.0   \n",
       "Bonares                                       318.0                      5.0   \n",
       "Puebla de Guzmán                              146.0                      2.0   \n",
       "Minas de Riotinto                             131.0                      2.0   \n",
       "Lucena del Puerto                             279.0                      4.0   \n",
       "Beas                                          235.0                      1.0   \n",
       "Nerva                                         183.0                      1.0   \n",
       "Cumbres Mayores                                55.0                      1.0   \n",
       "Jabugo                                         68.0                      1.0   \n",
       "Zalamea la Real                                95.0                      1.0   \n",
       "\n",
       "Medida                             Confirmados PDIA 14 días  Población  \\\n",
       "Lugar de residencia                                                      \n",
       "Huelva                                               1103.0   513170.0   \n",
       "Huelva-Costa                                          746.0   289548.0   \n",
       "Huelva (capital)                                      281.0   143837.0   \n",
       "Condado-Campiña                                       286.0   156231.0   \n",
       "Isla Cristina                                         164.0    21393.0   \n",
       "Lepe                                                   95.0    27880.0   \n",
       "Ayamonte                                               68.0    21104.0   \n",
       "Aljaraque                                              45.0    21474.0   \n",
       "Niebla                                                 47.0     4116.0   \n",
       "Sierra de Huelva-Andévalo Central                      52.0    67391.0   \n",
       "Moguer                                                 46.0    21867.0   \n",
       "Palma del Condado (La)                                 22.0    10801.0   \n",
       "Gibraleón                                              32.0    12737.0   \n",
       "Cartaya                                                28.0    20083.0   \n",
       "San Juan del Puerto                                    16.0     9411.0   \n",
       "Aracena                                                12.0     8255.0   \n",
       "Almonte                                                35.0    24507.0   \n",
       "Punta Umbría                                           16.0    15355.0   \n",
       "Palos de la Frontera                                   18.0    11742.0   \n",
       "Valverde del Camino                                    15.0    12750.0   \n",
       "Zarza-Perrunal (La)                                     6.0     1253.0   \n",
       "Bonares                                                14.0     6060.0   \n",
       "Puebla de Guzmán                                        5.0     3092.0   \n",
       "Minas de Riotinto                                       2.0     3812.0   \n",
       "Lucena del Puerto                                      12.0     3261.0   \n",
       "Beas                                                    3.0     4341.0   \n",
       "Nerva                                                   3.0     5169.0   \n",
       "Cumbres Mayores                                         1.0     1749.0   \n",
       "Jabugo                                                  1.0     2260.0   \n",
       "Zalamea la Real                                         1.0     3054.0   \n",
       "\n",
       "Medida                                  tasa7       tasa14  Diferencia PDIA  \n",
       "Lugar de residencia                                                          \n",
       "Huelva                             125.494476   214.938519            275.0  \n",
       "Huelva-Costa                       157.141476   257.642947            183.0  \n",
       "Huelva (capital)                   118.884571   195.360026             67.0  \n",
       "Condado-Campiña                     96.011675   183.062260             65.0  \n",
       "Isla Cristina                      486.140326   766.605899             32.0  \n",
       "Lepe                               240.315638   340.746055             31.0  \n",
       "Ayamonte                           203.752843   322.213798             20.0  \n",
       "Aljaraque                          153.674211   209.555742             18.0  \n",
       "Niebla                             777.453839  1141.885326             15.0  \n",
       "Sierra de Huelva-Andévalo Central   37.096942    77.161639             13.0  \n",
       "Moguer                             114.327525   210.362647             11.0  \n",
       "Palma del Condado (La)             148.134432   203.684844             11.0  \n",
       "Gibraleón                          133.469420   251.236555             10.0  \n",
       "Cartaya                             74.690036   139.421401             10.0  \n",
       "San Juan del Puerto                127.510360   170.013814              7.0  \n",
       "Aracena                            109.024833   145.366445              4.0  \n",
       "Almonte                             53.046068   142.816338              4.0  \n",
       "Punta Umbría                        45.587756   104.200586              4.0  \n",
       "Palos de la Frontera                85.164367   153.295861              3.0  \n",
       "Valverde del Camino                 15.686275   117.647059              2.0  \n",
       "Zarza-Perrunal (La)                239.425379   478.850758              2.0  \n",
       "Bonares                             82.508251   231.023102              2.0  \n",
       "Puebla de Guzmán                    64.683053   161.707633              1.0  \n",
       "Minas de Riotinto                   52.465897    52.465897              1.0  \n",
       "Lucena del Puerto                  122.661760   367.985281              1.0  \n",
       "Beas                                23.036167    69.108500              1.0  \n",
       "Nerva                               19.346102    58.038305              1.0  \n",
       "Cumbres Mayores                     57.175529    57.175529              NaN  \n",
       "Jabugo                              44.247788    44.247788              NaN  \n",
       "Zalamea la Real                     32.743942    32.743942              NaN  "
      ],
      "text/html": "<div>\n<style scoped>\n    .dataframe tbody tr th:only-of-type {\n        vertical-align: middle;\n    }\n\n    .dataframe tbody tr th {\n        vertical-align: top;\n    }\n\n    .dataframe thead th {\n        text-align: right;\n    }\n</style>\n<table border=\"1\" class=\"dataframe\">\n  <thead>\n    <tr style=\"text-align: right;\">\n      <th>Medida</th>\n      <th>Confirmados PDIA</th>\n      <th>Confirmados PDIA 7 días</th>\n      <th>Confirmados PDIA 14 días</th>\n      <th>Población</th>\n      <th>tasa7</th>\n      <th>tasa14</th>\n      <th>Diferencia PDIA</th>\n    </tr>\n    <tr>\n      <th>Lugar de residencia</th>\n      <th></th>\n      <th></th>\n      <th></th>\n      <th></th>\n      <th></th>\n      <th></th>\n      <th></th>\n    </tr>\n  </thead>\n  <tbody>\n    <tr>\n      <th>Huelva</th>\n      <td>34574.0</td>\n      <td>644.0</td>\n      <td>1103.0</td>\n      <td>513170.0</td>\n      <td>125.494476</td>\n      <td>214.938519</td>\n      <td>275.0</td>\n    </tr>\n    <tr>\n      <th>Huelva-Costa</th>\n      <td>20043.0</td>\n      <td>455.0</td>\n      <td>746.0</td>\n      <td>289548.0</td>\n      <td>157.141476</td>\n      <td>257.642947</td>\n      <td>183.0</td>\n    </tr>\n    <tr>\n      <th>Huelva (capital)</th>\n      <td>9447.0</td>\n      <td>171.0</td>\n      <td>281.0</td>\n      <td>143837.0</td>\n      <td>118.884571</td>\n      <td>195.360026</td>\n      <td>67.0</td>\n    </tr>\n    <tr>\n      <th>Condado-Campiña</th>\n      <td>11163.0</td>\n      <td>150.0</td>\n      <td>286.0</td>\n      <td>156231.0</td>\n      <td>96.011675</td>\n      <td>183.062260</td>\n      <td>65.0</td>\n    </tr>\n    <tr>\n      <th>Isla Cristina</th>\n      <td>2361.0</td>\n      <td>104.0</td>\n      <td>164.0</td>\n      <td>21393.0</td>\n      <td>486.140326</td>\n      <td>766.605899</td>\n      <td>32.0</td>\n    </tr>\n    <tr>\n      <th>Lepe</th>\n      <td>2277.0</td>\n      <td>67.0</td>\n      <td>95.0</td>\n      <td>27880.0</td>\n      <td>240.315638</td>\n      <td>340.746055</td>\n      <td>31.0</td>\n    </tr>\n    <tr>\n      <th>Ayamonte</th>\n      <td>1431.0</td>\n      <td>43.0</td>\n      <td>68.0</td>\n      <td>21104.0</td>\n      <td>203.752843</td>\n      <td>322.213798</td>\n      <td>20.0</td>\n    </tr>\n    <tr>\n      <th>Aljaraque</th>\n      <td>1226.0</td>\n      <td>33.0</td>\n      <td>45.0</td>\n      <td>21474.0</td>\n      <td>153.674211</td>\n      <td>209.555742</td>\n      <td>18.0</td>\n    </tr>\n    <tr>\n      <th>Niebla</th>\n      <td>296.0</td>\n      <td>32.0</td>\n      <td>47.0</td>\n      <td>4116.0</td>\n      <td>777.453839</td>\n      <td>1141.885326</td>\n      <td>15.0</td>\n    </tr>\n    <tr>\n      <th>Sierra de Huelva-Andévalo Central</th>\n      <td>2996.0</td>\n      <td>25.0</td>\n      <td>52.0</td>\n      <td>67391.0</td>\n      <td>37.096942</td>\n      <td>77.161639</td>\n      <td>13.0</td>\n    </tr>\n    <tr>\n      <th>Moguer</th>\n      <td>1461.0</td>\n      <td>25.0</td>\n      <td>46.0</td>\n      <td>21867.0</td>\n      <td>114.327525</td>\n      <td>210.362647</td>\n      <td>11.0</td>\n    </tr>\n    <tr>\n      <th>Palma del Condado (La)</th>\n      <td>1219.0</td>\n      <td>16.0</td>\n      <td>22.0</td>\n      <td>10801.0</td>\n      <td>148.134432</td>\n      <td>203.684844</td>\n      <td>11.0</td>\n    </tr>\n    <tr>\n      <th>Gibraleón</th>\n      <td>688.0</td>\n      <td>17.0</td>\n      <td>32.0</td>\n      <td>12737.0</td>\n      <td>133.469420</td>\n      <td>251.236555</td>\n      <td>10.0</td>\n    </tr>\n    <tr>\n      <th>Cartaya</th>\n      <td>1441.0</td>\n      <td>15.0</td>\n      <td>28.0</td>\n      <td>20083.0</td>\n      <td>74.690036</td>\n      <td>139.421401</td>\n      <td>10.0</td>\n    </tr>\n    <tr>\n      <th>San Juan del Puerto</th>\n      <td>609.0</td>\n      <td>12.0</td>\n      <td>16.0</td>\n      <td>9411.0</td>\n      <td>127.510360</td>\n      <td>170.013814</td>\n      <td>7.0</td>\n    </tr>\n    <tr>\n      <th>Aracena</th>\n      <td>553.0</td>\n      <td>9.0</td>\n      <td>12.0</td>\n      <td>8255.0</td>\n      <td>109.024833</td>\n      <td>145.366445</td>\n      <td>4.0</td>\n    </tr>\n    <tr>\n      <th>Almonte</th>\n      <td>1954.0</td>\n      <td>13.0</td>\n      <td>35.0</td>\n      <td>24507.0</td>\n      <td>53.046068</td>\n      <td>142.816338</td>\n      <td>4.0</td>\n    </tr>\n    <tr>\n      <th>Punta Umbría</th>\n      <td>876.0</td>\n      <td>7.0</td>\n      <td>16.0</td>\n      <td>15355.0</td>\n      <td>45.587756</td>\n      <td>104.200586</td>\n      <td>4.0</td>\n    </tr>\n    <tr>\n      <th>Palos de la Frontera</th>\n      <td>750.0</td>\n      <td>10.0</td>\n      <td>18.0</td>\n      <td>11742.0</td>\n      <td>85.164367</td>\n      <td>153.295861</td>\n      <td>3.0</td>\n    </tr>\n    <tr>\n      <th>Valverde del Camino</th>\n      <td>680.0</td>\n      <td>2.0</td>\n      <td>15.0</td>\n      <td>12750.0</td>\n      <td>15.686275</td>\n      <td>117.647059</td>\n      <td>2.0</td>\n    </tr>\n    <tr>\n      <th>Zarza-Perrunal (La)</th>\n      <td>33.0</td>\n      <td>3.0</td>\n      <td>6.0</td>\n      <td>1253.0</td>\n      <td>239.425379</td>\n      <td>478.850758</td>\n      <td>2.0</td>\n    </tr>\n    <tr>\n      <th>Bonares</th>\n      <td>318.0</td>\n      <td>5.0</td>\n      <td>14.0</td>\n      <td>6060.0</td>\n      <td>82.508251</td>\n      <td>231.023102</td>\n      <td>2.0</td>\n    </tr>\n    <tr>\n      <th>Puebla de Guzmán</th>\n      <td>146.0</td>\n      <td>2.0</td>\n      <td>5.0</td>\n      <td>3092.0</td>\n      <td>64.683053</td>\n      <td>161.707633</td>\n      <td>1.0</td>\n    </tr>\n    <tr>\n      <th>Minas de Riotinto</th>\n      <td>131.0</td>\n      <td>2.0</td>\n      <td>2.0</td>\n      <td>3812.0</td>\n      <td>52.465897</td>\n      <td>52.465897</td>\n      <td>1.0</td>\n    </tr>\n    <tr>\n      <th>Lucena del Puerto</th>\n      <td>279.0</td>\n      <td>4.0</td>\n      <td>12.0</td>\n      <td>3261.0</td>\n      <td>122.661760</td>\n      <td>367.985281</td>\n      <td>1.0</td>\n    </tr>\n    <tr>\n      <th>Beas</th>\n      <td>235.0</td>\n      <td>1.0</td>\n      <td>3.0</td>\n      <td>4341.0</td>\n      <td>23.036167</td>\n      <td>69.108500</td>\n      <td>1.0</td>\n    </tr>\n    <tr>\n      <th>Nerva</th>\n      <td>183.0</td>\n      <td>1.0</td>\n      <td>3.0</td>\n      <td>5169.0</td>\n      <td>19.346102</td>\n      <td>58.038305</td>\n      <td>1.0</td>\n    </tr>\n    <tr>\n      <th>Cumbres Mayores</th>\n      <td>55.0</td>\n      <td>1.0</td>\n      <td>1.0</td>\n      <td>1749.0</td>\n      <td>57.175529</td>\n      <td>57.175529</td>\n      <td>NaN</td>\n    </tr>\n    <tr>\n      <th>Jabugo</th>\n      <td>68.0</td>\n      <td>1.0</td>\n      <td>1.0</td>\n      <td>2260.0</td>\n      <td>44.247788</td>\n      <td>44.247788</td>\n      <td>NaN</td>\n    </tr>\n    <tr>\n      <th>Zalamea la Real</th>\n      <td>95.0</td>\n      <td>1.0</td>\n      <td>1.0</td>\n      <td>3054.0</td>\n      <td>32.743942</td>\n      <td>32.743942</td>\n      <td>NaN</td>\n    </tr>\n  </tbody>\n</table>\n</div>"
     },
     "metadata": {},
     "execution_count": 15
    }
   ],
   "source": [
    "# Nuevos casos desde la última captura\n",
    "tabla[tabla['Diferencia PDIA'] != 0].sort_values('Diferencia PDIA', ascending=False)"
   ]
  },
  {
   "cell_type": "code",
   "execution_count": 16,
   "metadata": {},
   "outputs": [],
   "source": [
    "if tabla[tabla['Diferencia PDIA'] != 0]['Diferencia PDIA'].sum() != 0:\n",
    "  # Save to csv\n",
    "  tabla.to_csv('covid_huelva.csv', encoding='utf-8', header=True, index=True)  "
   ]
  },
  {
   "cell_type": "code",
   "execution_count": 17,
   "metadata": {},
   "outputs": [
    {
     "output_type": "execute_result",
     "data": {
      "text/plain": [
       "Medida                             Confirmados PDIA  Confirmados PDIA 7 días  \\\n",
       "Lugar de residencia                                                            \n",
       "Santa Bárbara de Casa                          35.0                      6.0   \n",
       "Niebla                                        296.0                     32.0   \n",
       "Isla Cristina                                2361.0                    104.0   \n",
       "Alosno                                        207.0                      6.0   \n",
       "Zarza-Perrunal (La)                            33.0                      3.0   \n",
       "Lucena del Puerto                             279.0                      4.0   \n",
       "Puerto Moral                                    5.0                      1.0   \n",
       "Lepe                                         2277.0                     67.0   \n",
       "Ayamonte                                     1431.0                     43.0   \n",
       "Huelva-Costa                                20043.0                    455.0   \n",
       "Gibraleón                                     688.0                     17.0   \n",
       "Bonares                                       318.0                      5.0   \n",
       "Huelva                                      34574.0                    644.0   \n",
       "Moguer                                       1461.0                     25.0   \n",
       "Aljaraque                                    1226.0                     33.0   \n",
       "Palma del Condado (La)                       1219.0                     16.0   \n",
       "Huelva (capital)                             9447.0                    171.0   \n",
       "Condado-Campiña                             11163.0                    150.0   \n",
       "Rosal de la Frontera                           36.0                      2.0   \n",
       "San Juan del Puerto                           609.0                     12.0   \n",
       "Puebla de Guzmán                              146.0                      2.0   \n",
       "Palos de la Frontera                          750.0                     10.0   \n",
       "Bollullos Par del Condado                    1059.0                      6.0   \n",
       "Aracena                                       553.0                      9.0   \n",
       "Almonte                                      1954.0                     13.0   \n",
       "Cartaya                                      1441.0                     15.0   \n",
       "Valverde del Camino                           680.0                      2.0   \n",
       "Trigueros                                     344.0                      5.0   \n",
       "San Bartolomé de la Torre                     312.0                      2.0   \n",
       "Punta Umbría                                  876.0                      7.0   \n",
       "Sierra de Huelva-Andévalo Central            2996.0                     25.0   \n",
       "Beas                                          235.0                      1.0   \n",
       "Nerva                                         183.0                      1.0   \n",
       "Cumbres Mayores                                55.0                      1.0   \n",
       "Minas de Riotinto                             131.0                      2.0   \n",
       "Campillo (El)                                  75.0                      1.0   \n",
       "Jabugo                                         68.0                      1.0   \n",
       "Escacena del Campo                            155.0                      1.0   \n",
       "Calañas                                       202.0                      1.0   \n",
       "Villanueva de los Castillejos                 166.0                      1.0   \n",
       "Zalamea la Real                                95.0                      1.0   \n",
       "Villalba del Alcor                            483.0                      1.0   \n",
       "\n",
       "Medida                             Confirmados PDIA 14 días  Población  \\\n",
       "Lugar de residencia                                                      \n",
       "Santa Bárbara de Casa                                  19.0     1043.0   \n",
       "Niebla                                                 47.0     4116.0   \n",
       "Isla Cristina                                         164.0    21393.0   \n",
       "Alosno                                                 19.0     3933.0   \n",
       "Zarza-Perrunal (La)                                     6.0     1253.0   \n",
       "Lucena del Puerto                                      12.0     3261.0   \n",
       "Puerto Moral                                            1.0      278.0   \n",
       "Lepe                                                   95.0    27880.0   \n",
       "Ayamonte                                               68.0    21104.0   \n",
       "Huelva-Costa                                          746.0   289548.0   \n",
       "Gibraleón                                              32.0    12737.0   \n",
       "Bonares                                                14.0     6060.0   \n",
       "Huelva                                               1103.0   513170.0   \n",
       "Moguer                                                 46.0    21867.0   \n",
       "Aljaraque                                              45.0    21474.0   \n",
       "Palma del Condado (La)                                 22.0    10801.0   \n",
       "Huelva (capital)                                      281.0   143837.0   \n",
       "Condado-Campiña                                       286.0   156231.0   \n",
       "Rosal de la Frontera                                    3.0     1697.0   \n",
       "San Juan del Puerto                                    16.0     9411.0   \n",
       "Puebla de Guzmán                                        5.0     3092.0   \n",
       "Palos de la Frontera                                   18.0    11742.0   \n",
       "Bollullos Par del Condado                              21.0    14387.0   \n",
       "Aracena                                                12.0     8255.0   \n",
       "Almonte                                                35.0    24507.0   \n",
       "Cartaya                                                28.0    20083.0   \n",
       "Valverde del Camino                                    15.0    12750.0   \n",
       "Trigueros                                               9.0     7862.0   \n",
       "San Bartolomé de la Torre                               4.0     3761.0   \n",
       "Punta Umbría                                           16.0    15355.0   \n",
       "Sierra de Huelva-Andévalo Central                      52.0    67391.0   \n",
       "Beas                                                    3.0     4341.0   \n",
       "Nerva                                                   3.0     5169.0   \n",
       "Cumbres Mayores                                         1.0     1749.0   \n",
       "Minas de Riotinto                                       2.0     3812.0   \n",
       "Campillo (El)                                           1.0     2024.0   \n",
       "Jabugo                                                  1.0     2260.0   \n",
       "Escacena del Campo                                      1.0     2287.0   \n",
       "Calañas                                                 1.0     2768.0   \n",
       "Villanueva de los Castillejos                           1.0     2825.0   \n",
       "Zalamea la Real                                         1.0     3054.0   \n",
       "Villalba del Alcor                                      1.0     3366.0   \n",
       "\n",
       "Medida                                  tasa7       tasa14  Diferencia PDIA  \n",
       "Lugar de residencia                                                          \n",
       "Santa Bárbara de Casa              575.263663  1821.668265              0.0  \n",
       "Niebla                             777.453839  1141.885326             15.0  \n",
       "Isla Cristina                      486.140326   766.605899             32.0  \n",
       "Alosno                             152.555301   483.091787              0.0  \n",
       "Zarza-Perrunal (La)                239.425379   478.850758              2.0  \n",
       "Lucena del Puerto                  122.661760   367.985281              1.0  \n",
       "Puerto Moral                       359.712230   359.712230              0.0  \n",
       "Lepe                               240.315638   340.746055             31.0  \n",
       "Ayamonte                           203.752843   322.213798             20.0  \n",
       "Huelva-Costa                       157.141476   257.642947            183.0  \n",
       "Gibraleón                          133.469420   251.236555             10.0  \n",
       "Bonares                             82.508251   231.023102              2.0  \n",
       "Huelva                             125.494476   214.938519            275.0  \n",
       "Moguer                             114.327525   210.362647             11.0  \n",
       "Aljaraque                          153.674211   209.555742             18.0  \n",
       "Palma del Condado (La)             148.134432   203.684844             11.0  \n",
       "Huelva (capital)                   118.884571   195.360026             67.0  \n",
       "Condado-Campiña                     96.011675   183.062260             65.0  \n",
       "Rosal de la Frontera               117.855038   176.782557              0.0  \n",
       "San Juan del Puerto                127.510360   170.013814              7.0  \n",
       "Puebla de Guzmán                    64.683053   161.707633              1.0  \n",
       "Palos de la Frontera                85.164367   153.295861              3.0  \n",
       "Bollullos Par del Condado           41.704316   145.965107              0.0  \n",
       "Aracena                            109.024833   145.366445              4.0  \n",
       "Almonte                             53.046068   142.816338              4.0  \n",
       "Cartaya                             74.690036   139.421401             10.0  \n",
       "Valverde del Camino                 15.686275   117.647059              2.0  \n",
       "Trigueros                           63.597049   114.474688              0.0  \n",
       "San Bartolomé de la Torre           53.177346   106.354693              0.0  \n",
       "Punta Umbría                        45.587756   104.200586              4.0  \n",
       "Sierra de Huelva-Andévalo Central   37.096942    77.161639             13.0  \n",
       "Beas                                23.036167    69.108500              1.0  \n",
       "Nerva                               19.346102    58.038305              1.0  \n",
       "Cumbres Mayores                     57.175529    57.175529              NaN  \n",
       "Minas de Riotinto                   52.465897    52.465897              1.0  \n",
       "Campillo (El)                       49.407115    49.407115              0.0  \n",
       "Jabugo                              44.247788    44.247788              NaN  \n",
       "Escacena del Campo                  43.725404    43.725404              0.0  \n",
       "Calañas                             36.127168    36.127168              0.0  \n",
       "Villanueva de los Castillejos       35.398230    35.398230              0.0  \n",
       "Zalamea la Real                     32.743942    32.743942              NaN  \n",
       "Villalba del Alcor                  29.708853    29.708853              0.0  "
      ],
      "text/html": "<div>\n<style scoped>\n    .dataframe tbody tr th:only-of-type {\n        vertical-align: middle;\n    }\n\n    .dataframe tbody tr th {\n        vertical-align: top;\n    }\n\n    .dataframe thead th {\n        text-align: right;\n    }\n</style>\n<table border=\"1\" class=\"dataframe\">\n  <thead>\n    <tr style=\"text-align: right;\">\n      <th>Medida</th>\n      <th>Confirmados PDIA</th>\n      <th>Confirmados PDIA 7 días</th>\n      <th>Confirmados PDIA 14 días</th>\n      <th>Población</th>\n      <th>tasa7</th>\n      <th>tasa14</th>\n      <th>Diferencia PDIA</th>\n    </tr>\n    <tr>\n      <th>Lugar de residencia</th>\n      <th></th>\n      <th></th>\n      <th></th>\n      <th></th>\n      <th></th>\n      <th></th>\n      <th></th>\n    </tr>\n  </thead>\n  <tbody>\n    <tr>\n      <th>Santa Bárbara de Casa</th>\n      <td>35.0</td>\n      <td>6.0</td>\n      <td>19.0</td>\n      <td>1043.0</td>\n      <td>575.263663</td>\n      <td>1821.668265</td>\n      <td>0.0</td>\n    </tr>\n    <tr>\n      <th>Niebla</th>\n      <td>296.0</td>\n      <td>32.0</td>\n      <td>47.0</td>\n      <td>4116.0</td>\n      <td>777.453839</td>\n      <td>1141.885326</td>\n      <td>15.0</td>\n    </tr>\n    <tr>\n      <th>Isla Cristina</th>\n      <td>2361.0</td>\n      <td>104.0</td>\n      <td>164.0</td>\n      <td>21393.0</td>\n      <td>486.140326</td>\n      <td>766.605899</td>\n      <td>32.0</td>\n    </tr>\n    <tr>\n      <th>Alosno</th>\n      <td>207.0</td>\n      <td>6.0</td>\n      <td>19.0</td>\n      <td>3933.0</td>\n      <td>152.555301</td>\n      <td>483.091787</td>\n      <td>0.0</td>\n    </tr>\n    <tr>\n      <th>Zarza-Perrunal (La)</th>\n      <td>33.0</td>\n      <td>3.0</td>\n      <td>6.0</td>\n      <td>1253.0</td>\n      <td>239.425379</td>\n      <td>478.850758</td>\n      <td>2.0</td>\n    </tr>\n    <tr>\n      <th>Lucena del Puerto</th>\n      <td>279.0</td>\n      <td>4.0</td>\n      <td>12.0</td>\n      <td>3261.0</td>\n      <td>122.661760</td>\n      <td>367.985281</td>\n      <td>1.0</td>\n    </tr>\n    <tr>\n      <th>Puerto Moral</th>\n      <td>5.0</td>\n      <td>1.0</td>\n      <td>1.0</td>\n      <td>278.0</td>\n      <td>359.712230</td>\n      <td>359.712230</td>\n      <td>0.0</td>\n    </tr>\n    <tr>\n      <th>Lepe</th>\n      <td>2277.0</td>\n      <td>67.0</td>\n      <td>95.0</td>\n      <td>27880.0</td>\n      <td>240.315638</td>\n      <td>340.746055</td>\n      <td>31.0</td>\n    </tr>\n    <tr>\n      <th>Ayamonte</th>\n      <td>1431.0</td>\n      <td>43.0</td>\n      <td>68.0</td>\n      <td>21104.0</td>\n      <td>203.752843</td>\n      <td>322.213798</td>\n      <td>20.0</td>\n    </tr>\n    <tr>\n      <th>Huelva-Costa</th>\n      <td>20043.0</td>\n      <td>455.0</td>\n      <td>746.0</td>\n      <td>289548.0</td>\n      <td>157.141476</td>\n      <td>257.642947</td>\n      <td>183.0</td>\n    </tr>\n    <tr>\n      <th>Gibraleón</th>\n      <td>688.0</td>\n      <td>17.0</td>\n      <td>32.0</td>\n      <td>12737.0</td>\n      <td>133.469420</td>\n      <td>251.236555</td>\n      <td>10.0</td>\n    </tr>\n    <tr>\n      <th>Bonares</th>\n      <td>318.0</td>\n      <td>5.0</td>\n      <td>14.0</td>\n      <td>6060.0</td>\n      <td>82.508251</td>\n      <td>231.023102</td>\n      <td>2.0</td>\n    </tr>\n    <tr>\n      <th>Huelva</th>\n      <td>34574.0</td>\n      <td>644.0</td>\n      <td>1103.0</td>\n      <td>513170.0</td>\n      <td>125.494476</td>\n      <td>214.938519</td>\n      <td>275.0</td>\n    </tr>\n    <tr>\n      <th>Moguer</th>\n      <td>1461.0</td>\n      <td>25.0</td>\n      <td>46.0</td>\n      <td>21867.0</td>\n      <td>114.327525</td>\n      <td>210.362647</td>\n      <td>11.0</td>\n    </tr>\n    <tr>\n      <th>Aljaraque</th>\n      <td>1226.0</td>\n      <td>33.0</td>\n      <td>45.0</td>\n      <td>21474.0</td>\n      <td>153.674211</td>\n      <td>209.555742</td>\n      <td>18.0</td>\n    </tr>\n    <tr>\n      <th>Palma del Condado (La)</th>\n      <td>1219.0</td>\n      <td>16.0</td>\n      <td>22.0</td>\n      <td>10801.0</td>\n      <td>148.134432</td>\n      <td>203.684844</td>\n      <td>11.0</td>\n    </tr>\n    <tr>\n      <th>Huelva (capital)</th>\n      <td>9447.0</td>\n      <td>171.0</td>\n      <td>281.0</td>\n      <td>143837.0</td>\n      <td>118.884571</td>\n      <td>195.360026</td>\n      <td>67.0</td>\n    </tr>\n    <tr>\n      <th>Condado-Campiña</th>\n      <td>11163.0</td>\n      <td>150.0</td>\n      <td>286.0</td>\n      <td>156231.0</td>\n      <td>96.011675</td>\n      <td>183.062260</td>\n      <td>65.0</td>\n    </tr>\n    <tr>\n      <th>Rosal de la Frontera</th>\n      <td>36.0</td>\n      <td>2.0</td>\n      <td>3.0</td>\n      <td>1697.0</td>\n      <td>117.855038</td>\n      <td>176.782557</td>\n      <td>0.0</td>\n    </tr>\n    <tr>\n      <th>San Juan del Puerto</th>\n      <td>609.0</td>\n      <td>12.0</td>\n      <td>16.0</td>\n      <td>9411.0</td>\n      <td>127.510360</td>\n      <td>170.013814</td>\n      <td>7.0</td>\n    </tr>\n    <tr>\n      <th>Puebla de Guzmán</th>\n      <td>146.0</td>\n      <td>2.0</td>\n      <td>5.0</td>\n      <td>3092.0</td>\n      <td>64.683053</td>\n      <td>161.707633</td>\n      <td>1.0</td>\n    </tr>\n    <tr>\n      <th>Palos de la Frontera</th>\n      <td>750.0</td>\n      <td>10.0</td>\n      <td>18.0</td>\n      <td>11742.0</td>\n      <td>85.164367</td>\n      <td>153.295861</td>\n      <td>3.0</td>\n    </tr>\n    <tr>\n      <th>Bollullos Par del Condado</th>\n      <td>1059.0</td>\n      <td>6.0</td>\n      <td>21.0</td>\n      <td>14387.0</td>\n      <td>41.704316</td>\n      <td>145.965107</td>\n      <td>0.0</td>\n    </tr>\n    <tr>\n      <th>Aracena</th>\n      <td>553.0</td>\n      <td>9.0</td>\n      <td>12.0</td>\n      <td>8255.0</td>\n      <td>109.024833</td>\n      <td>145.366445</td>\n      <td>4.0</td>\n    </tr>\n    <tr>\n      <th>Almonte</th>\n      <td>1954.0</td>\n      <td>13.0</td>\n      <td>35.0</td>\n      <td>24507.0</td>\n      <td>53.046068</td>\n      <td>142.816338</td>\n      <td>4.0</td>\n    </tr>\n    <tr>\n      <th>Cartaya</th>\n      <td>1441.0</td>\n      <td>15.0</td>\n      <td>28.0</td>\n      <td>20083.0</td>\n      <td>74.690036</td>\n      <td>139.421401</td>\n      <td>10.0</td>\n    </tr>\n    <tr>\n      <th>Valverde del Camino</th>\n      <td>680.0</td>\n      <td>2.0</td>\n      <td>15.0</td>\n      <td>12750.0</td>\n      <td>15.686275</td>\n      <td>117.647059</td>\n      <td>2.0</td>\n    </tr>\n    <tr>\n      <th>Trigueros</th>\n      <td>344.0</td>\n      <td>5.0</td>\n      <td>9.0</td>\n      <td>7862.0</td>\n      <td>63.597049</td>\n      <td>114.474688</td>\n      <td>0.0</td>\n    </tr>\n    <tr>\n      <th>San Bartolomé de la Torre</th>\n      <td>312.0</td>\n      <td>2.0</td>\n      <td>4.0</td>\n      <td>3761.0</td>\n      <td>53.177346</td>\n      <td>106.354693</td>\n      <td>0.0</td>\n    </tr>\n    <tr>\n      <th>Punta Umbría</th>\n      <td>876.0</td>\n      <td>7.0</td>\n      <td>16.0</td>\n      <td>15355.0</td>\n      <td>45.587756</td>\n      <td>104.200586</td>\n      <td>4.0</td>\n    </tr>\n    <tr>\n      <th>Sierra de Huelva-Andévalo Central</th>\n      <td>2996.0</td>\n      <td>25.0</td>\n      <td>52.0</td>\n      <td>67391.0</td>\n      <td>37.096942</td>\n      <td>77.161639</td>\n      <td>13.0</td>\n    </tr>\n    <tr>\n      <th>Beas</th>\n      <td>235.0</td>\n      <td>1.0</td>\n      <td>3.0</td>\n      <td>4341.0</td>\n      <td>23.036167</td>\n      <td>69.108500</td>\n      <td>1.0</td>\n    </tr>\n    <tr>\n      <th>Nerva</th>\n      <td>183.0</td>\n      <td>1.0</td>\n      <td>3.0</td>\n      <td>5169.0</td>\n      <td>19.346102</td>\n      <td>58.038305</td>\n      <td>1.0</td>\n    </tr>\n    <tr>\n      <th>Cumbres Mayores</th>\n      <td>55.0</td>\n      <td>1.0</td>\n      <td>1.0</td>\n      <td>1749.0</td>\n      <td>57.175529</td>\n      <td>57.175529</td>\n      <td>NaN</td>\n    </tr>\n    <tr>\n      <th>Minas de Riotinto</th>\n      <td>131.0</td>\n      <td>2.0</td>\n      <td>2.0</td>\n      <td>3812.0</td>\n      <td>52.465897</td>\n      <td>52.465897</td>\n      <td>1.0</td>\n    </tr>\n    <tr>\n      <th>Campillo (El)</th>\n      <td>75.0</td>\n      <td>1.0</td>\n      <td>1.0</td>\n      <td>2024.0</td>\n      <td>49.407115</td>\n      <td>49.407115</td>\n      <td>0.0</td>\n    </tr>\n    <tr>\n      <th>Jabugo</th>\n      <td>68.0</td>\n      <td>1.0</td>\n      <td>1.0</td>\n      <td>2260.0</td>\n      <td>44.247788</td>\n      <td>44.247788</td>\n      <td>NaN</td>\n    </tr>\n    <tr>\n      <th>Escacena del Campo</th>\n      <td>155.0</td>\n      <td>1.0</td>\n      <td>1.0</td>\n      <td>2287.0</td>\n      <td>43.725404</td>\n      <td>43.725404</td>\n      <td>0.0</td>\n    </tr>\n    <tr>\n      <th>Calañas</th>\n      <td>202.0</td>\n      <td>1.0</td>\n      <td>1.0</td>\n      <td>2768.0</td>\n      <td>36.127168</td>\n      <td>36.127168</td>\n      <td>0.0</td>\n    </tr>\n    <tr>\n      <th>Villanueva de los Castillejos</th>\n      <td>166.0</td>\n      <td>1.0</td>\n      <td>1.0</td>\n      <td>2825.0</td>\n      <td>35.398230</td>\n      <td>35.398230</td>\n      <td>0.0</td>\n    </tr>\n    <tr>\n      <th>Zalamea la Real</th>\n      <td>95.0</td>\n      <td>1.0</td>\n      <td>1.0</td>\n      <td>3054.0</td>\n      <td>32.743942</td>\n      <td>32.743942</td>\n      <td>NaN</td>\n    </tr>\n    <tr>\n      <th>Villalba del Alcor</th>\n      <td>483.0</td>\n      <td>1.0</td>\n      <td>1.0</td>\n      <td>3366.0</td>\n      <td>29.708853</td>\n      <td>29.708853</td>\n      <td>0.0</td>\n    </tr>\n  </tbody>\n</table>\n</div>"
     },
     "metadata": {},
     "execution_count": 17
    }
   ],
   "source": [
    "tabla.sort_values('tasa14', ascending=False)"
   ]
  },
  {
   "cell_type": "code",
   "execution_count": 18,
   "metadata": {},
   "outputs": [
    {
     "output_type": "execute_result",
     "data": {
      "text/plain": [
       "Medida                             Confirmados PDIA  Confirmados PDIA 7 días  \\\n",
       "Lugar de residencia                                                            \n",
       "Valverde del Camino                           680.0                      2.0   \n",
       "Bollullos Par del Condado                    1059.0                      6.0   \n",
       "Santa Bárbara de Casa                          35.0                      6.0   \n",
       "Alosno                                        207.0                      6.0   \n",
       "Nerva                                         183.0                      1.0   \n",
       "Beas                                          235.0                      1.0   \n",
       "Lucena del Puerto                             279.0                      4.0   \n",
       "Bonares                                       318.0                      5.0   \n",
       "Almonte                                      1954.0                     13.0   \n",
       "Puebla de Guzmán                              146.0                      2.0   \n",
       "Punta Umbría                                  876.0                      7.0   \n",
       "Sierra de Huelva-Andévalo Central            2996.0                     25.0   \n",
       "Zarza-Perrunal (La)                            33.0                      3.0   \n",
       "San Bartolomé de la Torre                     312.0                      2.0   \n",
       "Condado-Campiña                             11163.0                    150.0   \n",
       "Gibraleón                                     688.0                     17.0   \n",
       "Cartaya                                      1441.0                     15.0   \n",
       "Moguer                                       1461.0                     25.0   \n",
       "Trigueros                                     344.0                      5.0   \n",
       "Palos de la Frontera                          750.0                     10.0   \n",
       "Huelva                                      34574.0                    644.0   \n",
       "Huelva (capital)                             9447.0                    171.0   \n",
       "Huelva-Costa                                20043.0                    455.0   \n",
       "Ayamonte                                     1431.0                     43.0   \n",
       "Isla Cristina                                2361.0                    104.0   \n",
       "Rosal de la Frontera                           36.0                      2.0   \n",
       "Niebla                                        296.0                     32.0   \n",
       "Lepe                                         2277.0                     67.0   \n",
       "Palma del Condado (La)                       1219.0                     16.0   \n",
       "Aljaraque                                    1226.0                     33.0   \n",
       "San Juan del Puerto                           609.0                     12.0   \n",
       "Aracena                                       553.0                      9.0   \n",
       "Minas de Riotinto                             131.0                      2.0   \n",
       "Puerto Moral                                    5.0                      1.0   \n",
       "Zalamea la Real                                95.0                      1.0   \n",
       "Jabugo                                         68.0                      1.0   \n",
       "Escacena del Campo                            155.0                      1.0   \n",
       "Cumbres Mayores                                55.0                      1.0   \n",
       "Campillo (El)                                  75.0                      1.0   \n",
       "Calañas                                       202.0                      1.0   \n",
       "Villalba del Alcor                            483.0                      1.0   \n",
       "Villanueva de los Castillejos                 166.0                      1.0   \n",
       "\n",
       "Medida                             Confirmados PDIA 14 días  Población  \\\n",
       "Lugar de residencia                                                      \n",
       "Valverde del Camino                                    15.0    12750.0   \n",
       "Bollullos Par del Condado                              21.0    14387.0   \n",
       "Santa Bárbara de Casa                                  19.0     1043.0   \n",
       "Alosno                                                 19.0     3933.0   \n",
       "Nerva                                                   3.0     5169.0   \n",
       "Beas                                                    3.0     4341.0   \n",
       "Lucena del Puerto                                      12.0     3261.0   \n",
       "Bonares                                                14.0     6060.0   \n",
       "Almonte                                                35.0    24507.0   \n",
       "Puebla de Guzmán                                        5.0     3092.0   \n",
       "Punta Umbría                                           16.0    15355.0   \n",
       "Sierra de Huelva-Andévalo Central                      52.0    67391.0   \n",
       "Zarza-Perrunal (La)                                     6.0     1253.0   \n",
       "San Bartolomé de la Torre                               4.0     3761.0   \n",
       "Condado-Campiña                                       286.0   156231.0   \n",
       "Gibraleón                                              32.0    12737.0   \n",
       "Cartaya                                                28.0    20083.0   \n",
       "Moguer                                                 46.0    21867.0   \n",
       "Trigueros                                               9.0     7862.0   \n",
       "Palos de la Frontera                                   18.0    11742.0   \n",
       "Huelva                                               1103.0   513170.0   \n",
       "Huelva (capital)                                      281.0   143837.0   \n",
       "Huelva-Costa                                          746.0   289548.0   \n",
       "Ayamonte                                               68.0    21104.0   \n",
       "Isla Cristina                                         164.0    21393.0   \n",
       "Rosal de la Frontera                                    3.0     1697.0   \n",
       "Niebla                                                 47.0     4116.0   \n",
       "Lepe                                                   95.0    27880.0   \n",
       "Palma del Condado (La)                                 22.0    10801.0   \n",
       "Aljaraque                                              45.0    21474.0   \n",
       "San Juan del Puerto                                    16.0     9411.0   \n",
       "Aracena                                                12.0     8255.0   \n",
       "Minas de Riotinto                                       2.0     3812.0   \n",
       "Puerto Moral                                            1.0      278.0   \n",
       "Zalamea la Real                                         1.0     3054.0   \n",
       "Jabugo                                                  1.0     2260.0   \n",
       "Escacena del Campo                                      1.0     2287.0   \n",
       "Cumbres Mayores                                         1.0     1749.0   \n",
       "Campillo (El)                                           1.0     2024.0   \n",
       "Calañas                                                 1.0     2768.0   \n",
       "Villalba del Alcor                                      1.0     3366.0   \n",
       "Villanueva de los Castillejos                           1.0     2825.0   \n",
       "\n",
       "Medida                                  tasa7       tasa14  Diferencia PDIA  \\\n",
       "Lugar de residencia                                                           \n",
       "Valverde del Camino                 15.686275   117.647059              2.0   \n",
       "Bollullos Par del Condado           41.704316   145.965107              0.0   \n",
       "Santa Bárbara de Casa              575.263663  1821.668265              0.0   \n",
       "Alosno                             152.555301   483.091787              0.0   \n",
       "Nerva                               19.346102    58.038305              1.0   \n",
       "Beas                                23.036167    69.108500              1.0   \n",
       "Lucena del Puerto                  122.661760   367.985281              1.0   \n",
       "Bonares                             82.508251   231.023102              2.0   \n",
       "Almonte                             53.046068   142.816338              4.0   \n",
       "Puebla de Guzmán                    64.683053   161.707633              1.0   \n",
       "Punta Umbría                        45.587756   104.200586              4.0   \n",
       "Sierra de Huelva-Andévalo Central   37.096942    77.161639             13.0   \n",
       "Zarza-Perrunal (La)                239.425379   478.850758              2.0   \n",
       "San Bartolomé de la Torre           53.177346   106.354693              0.0   \n",
       "Condado-Campiña                     96.011675   183.062260             65.0   \n",
       "Gibraleón                          133.469420   251.236555             10.0   \n",
       "Cartaya                             74.690036   139.421401             10.0   \n",
       "Moguer                             114.327525   210.362647             11.0   \n",
       "Trigueros                           63.597049   114.474688              0.0   \n",
       "Palos de la Frontera                85.164367   153.295861              3.0   \n",
       "Huelva                             125.494476   214.938519            275.0   \n",
       "Huelva (capital)                   118.884571   195.360026             67.0   \n",
       "Huelva-Costa                       157.141476   257.642947            183.0   \n",
       "Ayamonte                           203.752843   322.213798             20.0   \n",
       "Isla Cristina                      486.140326   766.605899             32.0   \n",
       "Rosal de la Frontera               117.855038   176.782557              0.0   \n",
       "Niebla                             777.453839  1141.885326             15.0   \n",
       "Lepe                               240.315638   340.746055             31.0   \n",
       "Palma del Condado (La)             148.134432   203.684844             11.0   \n",
       "Aljaraque                          153.674211   209.555742             18.0   \n",
       "San Juan del Puerto                127.510360   170.013814              7.0   \n",
       "Aracena                            109.024833   145.366445              4.0   \n",
       "Minas de Riotinto                   52.465897    52.465897              1.0   \n",
       "Puerto Moral                       359.712230   359.712230              0.0   \n",
       "Zalamea la Real                     32.743942    32.743942              0.0   \n",
       "Jabugo                              44.247788    44.247788              0.0   \n",
       "Escacena del Campo                  43.725404    43.725404              0.0   \n",
       "Cumbres Mayores                     57.175529    57.175529              0.0   \n",
       "Campillo (El)                       49.407115    49.407115              0.0   \n",
       "Calañas                             36.127168    36.127168              0.0   \n",
       "Villalba del Alcor                  29.708853    29.708853              0.0   \n",
       "Villanueva de los Castillejos       35.398230    35.398230              0.0   \n",
       "\n",
       "Medida                                 7/14  \n",
       "Lugar de residencia                          \n",
       "Valverde del Camino                0.133333  \n",
       "Bollullos Par del Condado          0.285714  \n",
       "Santa Bárbara de Casa              0.315789  \n",
       "Alosno                             0.315789  \n",
       "Nerva                              0.333333  \n",
       "Beas                               0.333333  \n",
       "Lucena del Puerto                  0.333333  \n",
       "Bonares                            0.357143  \n",
       "Almonte                            0.371429  \n",
       "Puebla de Guzmán                   0.400000  \n",
       "Punta Umbría                       0.437500  \n",
       "Sierra de Huelva-Andévalo Central  0.480769  \n",
       "Zarza-Perrunal (La)                0.500000  \n",
       "San Bartolomé de la Torre          0.500000  \n",
       "Condado-Campiña                    0.524476  \n",
       "Gibraleón                          0.531250  \n",
       "Cartaya                            0.535714  \n",
       "Moguer                             0.543478  \n",
       "Trigueros                          0.555556  \n",
       "Palos de la Frontera               0.555556  \n",
       "Huelva                             0.583862  \n",
       "Huelva (capital)                   0.608541  \n",
       "Huelva-Costa                       0.609920  \n",
       "Ayamonte                           0.632353  \n",
       "Isla Cristina                      0.634146  \n",
       "Rosal de la Frontera               0.666667  \n",
       "Niebla                             0.680851  \n",
       "Lepe                               0.705263  \n",
       "Palma del Condado (La)             0.727273  \n",
       "Aljaraque                          0.733333  \n",
       "San Juan del Puerto                0.750000  \n",
       "Aracena                            0.750000  \n",
       "Minas de Riotinto                  1.000000  \n",
       "Puerto Moral                       1.000000  \n",
       "Zalamea la Real                    1.000000  \n",
       "Jabugo                             1.000000  \n",
       "Escacena del Campo                 1.000000  \n",
       "Cumbres Mayores                    1.000000  \n",
       "Campillo (El)                      1.000000  \n",
       "Calañas                            1.000000  \n",
       "Villalba del Alcor                 1.000000  \n",
       "Villanueva de los Castillejos      1.000000  "
      ],
      "text/html": "<div>\n<style scoped>\n    .dataframe tbody tr th:only-of-type {\n        vertical-align: middle;\n    }\n\n    .dataframe tbody tr th {\n        vertical-align: top;\n    }\n\n    .dataframe thead th {\n        text-align: right;\n    }\n</style>\n<table border=\"1\" class=\"dataframe\">\n  <thead>\n    <tr style=\"text-align: right;\">\n      <th>Medida</th>\n      <th>Confirmados PDIA</th>\n      <th>Confirmados PDIA 7 días</th>\n      <th>Confirmados PDIA 14 días</th>\n      <th>Población</th>\n      <th>tasa7</th>\n      <th>tasa14</th>\n      <th>Diferencia PDIA</th>\n      <th>7/14</th>\n    </tr>\n    <tr>\n      <th>Lugar de residencia</th>\n      <th></th>\n      <th></th>\n      <th></th>\n      <th></th>\n      <th></th>\n      <th></th>\n      <th></th>\n      <th></th>\n    </tr>\n  </thead>\n  <tbody>\n    <tr>\n      <th>Valverde del Camino</th>\n      <td>680.0</td>\n      <td>2.0</td>\n      <td>15.0</td>\n      <td>12750.0</td>\n      <td>15.686275</td>\n      <td>117.647059</td>\n      <td>2.0</td>\n      <td>0.133333</td>\n    </tr>\n    <tr>\n      <th>Bollullos Par del Condado</th>\n      <td>1059.0</td>\n      <td>6.0</td>\n      <td>21.0</td>\n      <td>14387.0</td>\n      <td>41.704316</td>\n      <td>145.965107</td>\n      <td>0.0</td>\n      <td>0.285714</td>\n    </tr>\n    <tr>\n      <th>Santa Bárbara de Casa</th>\n      <td>35.0</td>\n      <td>6.0</td>\n      <td>19.0</td>\n      <td>1043.0</td>\n      <td>575.263663</td>\n      <td>1821.668265</td>\n      <td>0.0</td>\n      <td>0.315789</td>\n    </tr>\n    <tr>\n      <th>Alosno</th>\n      <td>207.0</td>\n      <td>6.0</td>\n      <td>19.0</td>\n      <td>3933.0</td>\n      <td>152.555301</td>\n      <td>483.091787</td>\n      <td>0.0</td>\n      <td>0.315789</td>\n    </tr>\n    <tr>\n      <th>Nerva</th>\n      <td>183.0</td>\n      <td>1.0</td>\n      <td>3.0</td>\n      <td>5169.0</td>\n      <td>19.346102</td>\n      <td>58.038305</td>\n      <td>1.0</td>\n      <td>0.333333</td>\n    </tr>\n    <tr>\n      <th>Beas</th>\n      <td>235.0</td>\n      <td>1.0</td>\n      <td>3.0</td>\n      <td>4341.0</td>\n      <td>23.036167</td>\n      <td>69.108500</td>\n      <td>1.0</td>\n      <td>0.333333</td>\n    </tr>\n    <tr>\n      <th>Lucena del Puerto</th>\n      <td>279.0</td>\n      <td>4.0</td>\n      <td>12.0</td>\n      <td>3261.0</td>\n      <td>122.661760</td>\n      <td>367.985281</td>\n      <td>1.0</td>\n      <td>0.333333</td>\n    </tr>\n    <tr>\n      <th>Bonares</th>\n      <td>318.0</td>\n      <td>5.0</td>\n      <td>14.0</td>\n      <td>6060.0</td>\n      <td>82.508251</td>\n      <td>231.023102</td>\n      <td>2.0</td>\n      <td>0.357143</td>\n    </tr>\n    <tr>\n      <th>Almonte</th>\n      <td>1954.0</td>\n      <td>13.0</td>\n      <td>35.0</td>\n      <td>24507.0</td>\n      <td>53.046068</td>\n      <td>142.816338</td>\n      <td>4.0</td>\n      <td>0.371429</td>\n    </tr>\n    <tr>\n      <th>Puebla de Guzmán</th>\n      <td>146.0</td>\n      <td>2.0</td>\n      <td>5.0</td>\n      <td>3092.0</td>\n      <td>64.683053</td>\n      <td>161.707633</td>\n      <td>1.0</td>\n      <td>0.400000</td>\n    </tr>\n    <tr>\n      <th>Punta Umbría</th>\n      <td>876.0</td>\n      <td>7.0</td>\n      <td>16.0</td>\n      <td>15355.0</td>\n      <td>45.587756</td>\n      <td>104.200586</td>\n      <td>4.0</td>\n      <td>0.437500</td>\n    </tr>\n    <tr>\n      <th>Sierra de Huelva-Andévalo Central</th>\n      <td>2996.0</td>\n      <td>25.0</td>\n      <td>52.0</td>\n      <td>67391.0</td>\n      <td>37.096942</td>\n      <td>77.161639</td>\n      <td>13.0</td>\n      <td>0.480769</td>\n    </tr>\n    <tr>\n      <th>Zarza-Perrunal (La)</th>\n      <td>33.0</td>\n      <td>3.0</td>\n      <td>6.0</td>\n      <td>1253.0</td>\n      <td>239.425379</td>\n      <td>478.850758</td>\n      <td>2.0</td>\n      <td>0.500000</td>\n    </tr>\n    <tr>\n      <th>San Bartolomé de la Torre</th>\n      <td>312.0</td>\n      <td>2.0</td>\n      <td>4.0</td>\n      <td>3761.0</td>\n      <td>53.177346</td>\n      <td>106.354693</td>\n      <td>0.0</td>\n      <td>0.500000</td>\n    </tr>\n    <tr>\n      <th>Condado-Campiña</th>\n      <td>11163.0</td>\n      <td>150.0</td>\n      <td>286.0</td>\n      <td>156231.0</td>\n      <td>96.011675</td>\n      <td>183.062260</td>\n      <td>65.0</td>\n      <td>0.524476</td>\n    </tr>\n    <tr>\n      <th>Gibraleón</th>\n      <td>688.0</td>\n      <td>17.0</td>\n      <td>32.0</td>\n      <td>12737.0</td>\n      <td>133.469420</td>\n      <td>251.236555</td>\n      <td>10.0</td>\n      <td>0.531250</td>\n    </tr>\n    <tr>\n      <th>Cartaya</th>\n      <td>1441.0</td>\n      <td>15.0</td>\n      <td>28.0</td>\n      <td>20083.0</td>\n      <td>74.690036</td>\n      <td>139.421401</td>\n      <td>10.0</td>\n      <td>0.535714</td>\n    </tr>\n    <tr>\n      <th>Moguer</th>\n      <td>1461.0</td>\n      <td>25.0</td>\n      <td>46.0</td>\n      <td>21867.0</td>\n      <td>114.327525</td>\n      <td>210.362647</td>\n      <td>11.0</td>\n      <td>0.543478</td>\n    </tr>\n    <tr>\n      <th>Trigueros</th>\n      <td>344.0</td>\n      <td>5.0</td>\n      <td>9.0</td>\n      <td>7862.0</td>\n      <td>63.597049</td>\n      <td>114.474688</td>\n      <td>0.0</td>\n      <td>0.555556</td>\n    </tr>\n    <tr>\n      <th>Palos de la Frontera</th>\n      <td>750.0</td>\n      <td>10.0</td>\n      <td>18.0</td>\n      <td>11742.0</td>\n      <td>85.164367</td>\n      <td>153.295861</td>\n      <td>3.0</td>\n      <td>0.555556</td>\n    </tr>\n    <tr>\n      <th>Huelva</th>\n      <td>34574.0</td>\n      <td>644.0</td>\n      <td>1103.0</td>\n      <td>513170.0</td>\n      <td>125.494476</td>\n      <td>214.938519</td>\n      <td>275.0</td>\n      <td>0.583862</td>\n    </tr>\n    <tr>\n      <th>Huelva (capital)</th>\n      <td>9447.0</td>\n      <td>171.0</td>\n      <td>281.0</td>\n      <td>143837.0</td>\n      <td>118.884571</td>\n      <td>195.360026</td>\n      <td>67.0</td>\n      <td>0.608541</td>\n    </tr>\n    <tr>\n      <th>Huelva-Costa</th>\n      <td>20043.0</td>\n      <td>455.0</td>\n      <td>746.0</td>\n      <td>289548.0</td>\n      <td>157.141476</td>\n      <td>257.642947</td>\n      <td>183.0</td>\n      <td>0.609920</td>\n    </tr>\n    <tr>\n      <th>Ayamonte</th>\n      <td>1431.0</td>\n      <td>43.0</td>\n      <td>68.0</td>\n      <td>21104.0</td>\n      <td>203.752843</td>\n      <td>322.213798</td>\n      <td>20.0</td>\n      <td>0.632353</td>\n    </tr>\n    <tr>\n      <th>Isla Cristina</th>\n      <td>2361.0</td>\n      <td>104.0</td>\n      <td>164.0</td>\n      <td>21393.0</td>\n      <td>486.140326</td>\n      <td>766.605899</td>\n      <td>32.0</td>\n      <td>0.634146</td>\n    </tr>\n    <tr>\n      <th>Rosal de la Frontera</th>\n      <td>36.0</td>\n      <td>2.0</td>\n      <td>3.0</td>\n      <td>1697.0</td>\n      <td>117.855038</td>\n      <td>176.782557</td>\n      <td>0.0</td>\n      <td>0.666667</td>\n    </tr>\n    <tr>\n      <th>Niebla</th>\n      <td>296.0</td>\n      <td>32.0</td>\n      <td>47.0</td>\n      <td>4116.0</td>\n      <td>777.453839</td>\n      <td>1141.885326</td>\n      <td>15.0</td>\n      <td>0.680851</td>\n    </tr>\n    <tr>\n      <th>Lepe</th>\n      <td>2277.0</td>\n      <td>67.0</td>\n      <td>95.0</td>\n      <td>27880.0</td>\n      <td>240.315638</td>\n      <td>340.746055</td>\n      <td>31.0</td>\n      <td>0.705263</td>\n    </tr>\n    <tr>\n      <th>Palma del Condado (La)</th>\n      <td>1219.0</td>\n      <td>16.0</td>\n      <td>22.0</td>\n      <td>10801.0</td>\n      <td>148.134432</td>\n      <td>203.684844</td>\n      <td>11.0</td>\n      <td>0.727273</td>\n    </tr>\n    <tr>\n      <th>Aljaraque</th>\n      <td>1226.0</td>\n      <td>33.0</td>\n      <td>45.0</td>\n      <td>21474.0</td>\n      <td>153.674211</td>\n      <td>209.555742</td>\n      <td>18.0</td>\n      <td>0.733333</td>\n    </tr>\n    <tr>\n      <th>San Juan del Puerto</th>\n      <td>609.0</td>\n      <td>12.0</td>\n      <td>16.0</td>\n      <td>9411.0</td>\n      <td>127.510360</td>\n      <td>170.013814</td>\n      <td>7.0</td>\n      <td>0.750000</td>\n    </tr>\n    <tr>\n      <th>Aracena</th>\n      <td>553.0</td>\n      <td>9.0</td>\n      <td>12.0</td>\n      <td>8255.0</td>\n      <td>109.024833</td>\n      <td>145.366445</td>\n      <td>4.0</td>\n      <td>0.750000</td>\n    </tr>\n    <tr>\n      <th>Minas de Riotinto</th>\n      <td>131.0</td>\n      <td>2.0</td>\n      <td>2.0</td>\n      <td>3812.0</td>\n      <td>52.465897</td>\n      <td>52.465897</td>\n      <td>1.0</td>\n      <td>1.000000</td>\n    </tr>\n    <tr>\n      <th>Puerto Moral</th>\n      <td>5.0</td>\n      <td>1.0</td>\n      <td>1.0</td>\n      <td>278.0</td>\n      <td>359.712230</td>\n      <td>359.712230</td>\n      <td>0.0</td>\n      <td>1.000000</td>\n    </tr>\n    <tr>\n      <th>Zalamea la Real</th>\n      <td>95.0</td>\n      <td>1.0</td>\n      <td>1.0</td>\n      <td>3054.0</td>\n      <td>32.743942</td>\n      <td>32.743942</td>\n      <td>0.0</td>\n      <td>1.000000</td>\n    </tr>\n    <tr>\n      <th>Jabugo</th>\n      <td>68.0</td>\n      <td>1.0</td>\n      <td>1.0</td>\n      <td>2260.0</td>\n      <td>44.247788</td>\n      <td>44.247788</td>\n      <td>0.0</td>\n      <td>1.000000</td>\n    </tr>\n    <tr>\n      <th>Escacena del Campo</th>\n      <td>155.0</td>\n      <td>1.0</td>\n      <td>1.0</td>\n      <td>2287.0</td>\n      <td>43.725404</td>\n      <td>43.725404</td>\n      <td>0.0</td>\n      <td>1.000000</td>\n    </tr>\n    <tr>\n      <th>Cumbres Mayores</th>\n      <td>55.0</td>\n      <td>1.0</td>\n      <td>1.0</td>\n      <td>1749.0</td>\n      <td>57.175529</td>\n      <td>57.175529</td>\n      <td>0.0</td>\n      <td>1.000000</td>\n    </tr>\n    <tr>\n      <th>Campillo (El)</th>\n      <td>75.0</td>\n      <td>1.0</td>\n      <td>1.0</td>\n      <td>2024.0</td>\n      <td>49.407115</td>\n      <td>49.407115</td>\n      <td>0.0</td>\n      <td>1.000000</td>\n    </tr>\n    <tr>\n      <th>Calañas</th>\n      <td>202.0</td>\n      <td>1.0</td>\n      <td>1.0</td>\n      <td>2768.0</td>\n      <td>36.127168</td>\n      <td>36.127168</td>\n      <td>0.0</td>\n      <td>1.000000</td>\n    </tr>\n    <tr>\n      <th>Villalba del Alcor</th>\n      <td>483.0</td>\n      <td>1.0</td>\n      <td>1.0</td>\n      <td>3366.0</td>\n      <td>29.708853</td>\n      <td>29.708853</td>\n      <td>0.0</td>\n      <td>1.000000</td>\n    </tr>\n    <tr>\n      <th>Villanueva de los Castillejos</th>\n      <td>166.0</td>\n      <td>1.0</td>\n      <td>1.0</td>\n      <td>2825.0</td>\n      <td>35.398230</td>\n      <td>35.398230</td>\n      <td>0.0</td>\n      <td>1.000000</td>\n    </tr>\n  </tbody>\n</table>\n</div>"
     },
     "metadata": {},
     "execution_count": 18
    }
   ],
   "source": [
    "# Peso de la tasa de la última semana en relación con la tasa a 14 días \n",
    "# Mejor cuanto menor. Valor 1 significa que no había casos antes de 7 días.\n",
    "tabla['7/14'] = tabla['tasa7'] / tabla['tasa14']\n",
    "tabla.fillna(0).sort_values('7/14', ascending=True)"
   ]
  },
  {
   "cell_type": "code",
   "execution_count": null,
   "metadata": {},
   "outputs": [],
   "source": []
  }
 ]
}