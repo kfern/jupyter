{
 "metadata": {
  "language_info": {
   "codemirror_mode": {
    "name": "ipython",
    "version": 3
   },
   "file_extension": ".py",
   "mimetype": "text/x-python",
   "name": "python",
   "nbconvert_exporter": "python",
   "pygments_lexer": "ipython3",
   "version": "3.8.6"
  },
  "orig_nbformat": 2,
  "kernelspec": {
   "name": "python3",
   "display_name": "Python 3.8.6 64-bit"
  },
  "interpreter": {
   "hash": "31f2aee4e71d21fbe5cf8b01ff0e069b9275f58929596ceb00d14d90e3e16cd6"
  }
 },
 "nbformat": 4,
 "nbformat_minor": 2,
 "cells": [
  {
   "cell_type": "code",
   "execution_count": 1,
   "metadata": {},
   "outputs": [],
   "source": [
    "import pandas as pd\n",
    "pd.set_option('display.max_rows', None) # Print all rows"
   ]
  },
  {
   "cell_type": "code",
   "execution_count": 2,
   "metadata": {},
   "outputs": [],
   "source": [
    "# FIX SSL: CERTIFICATE_VERIFY_FAILED with Python3\n",
    "# https://stackoverflow.com/a/49174340\n",
    "import ssl\n",
    "\n",
    "ssl._create_default_https_context = ssl._create_unverified_context"
   ]
  },
  {
   "cell_type": "code",
   "execution_count": 3,
   "metadata": {},
   "outputs": [],
   "source": [
    "url = 'https://www.juntadeandalucia.es/institutodeestadisticaycartografia/badea/stpivot/stpivot/Print?cube=013d884c-cfc5-4c21-9e78-e26225682afd&type=3&foto=si&ejecutaDesde=&codConsulta=38668&consTipoVisua=JP'\n",
    "fields = ['Lugar de residencia', 'Medida', 'Valor']\n",
    "df = pd.read_csv(url, delimiter=';', usecols=fields, decimal=',')"
   ]
  },
  {
   "cell_type": "code",
   "execution_count": 4,
   "metadata": {},
   "outputs": [
    {
     "output_type": "execute_result",
     "data": {
      "text/plain": [
       "  Lugar de residencia                    Medida               Valor\n",
       "0              Huelva                 Población              513170\n",
       "1              Huelva          Confirmados PDIA               33039\n",
       "2              Huelva  Confirmados PDIA 14 días                1100\n",
       "3              Huelva         Tasa PDIA 14 días  214,35391780501587\n",
       "4              Huelva   Confirmados PDIA 7 días                 460\n",
       "5              Huelva        Total Confirmados                33222\n",
       "6              Huelva                   Curados               31154\n",
       "7              Huelva                Fallecidos                 389"
      ],
      "text/html": "<div>\n<style scoped>\n    .dataframe tbody tr th:only-of-type {\n        vertical-align: middle;\n    }\n\n    .dataframe tbody tr th {\n        vertical-align: top;\n    }\n\n    .dataframe thead th {\n        text-align: right;\n    }\n</style>\n<table border=\"1\" class=\"dataframe\">\n  <thead>\n    <tr style=\"text-align: right;\">\n      <th></th>\n      <th>Lugar de residencia</th>\n      <th>Medida</th>\n      <th>Valor</th>\n    </tr>\n  </thead>\n  <tbody>\n    <tr>\n      <th>0</th>\n      <td>Huelva</td>\n      <td>Población</td>\n      <td>513170</td>\n    </tr>\n    <tr>\n      <th>1</th>\n      <td>Huelva</td>\n      <td>Confirmados PDIA</td>\n      <td>33039</td>\n    </tr>\n    <tr>\n      <th>2</th>\n      <td>Huelva</td>\n      <td>Confirmados PDIA 14 días</td>\n      <td>1100</td>\n    </tr>\n    <tr>\n      <th>3</th>\n      <td>Huelva</td>\n      <td>Tasa PDIA 14 días</td>\n      <td>214,35391780501587</td>\n    </tr>\n    <tr>\n      <th>4</th>\n      <td>Huelva</td>\n      <td>Confirmados PDIA 7 días</td>\n      <td>460</td>\n    </tr>\n    <tr>\n      <th>5</th>\n      <td>Huelva</td>\n      <td>Total Confirmados</td>\n      <td>33222</td>\n    </tr>\n    <tr>\n      <th>6</th>\n      <td>Huelva</td>\n      <td>Curados</td>\n      <td>31154</td>\n    </tr>\n    <tr>\n      <th>7</th>\n      <td>Huelva</td>\n      <td>Fallecidos</td>\n      <td>389</td>\n    </tr>\n  </tbody>\n</table>\n</div>"
     },
     "metadata": {},
     "execution_count": 4
    }
   ],
   "source": [
    "df[df['Lugar de residencia'] == 'Huelva']"
   ]
  },
  {
   "cell_type": "code",
   "execution_count": 5,
   "metadata": {},
   "outputs": [],
   "source": [
    "df['Valor'] = pd.to_numeric(df['Valor'],errors='coerce')"
   ]
  },
  {
   "cell_type": "code",
   "execution_count": 6,
   "metadata": {},
   "outputs": [],
   "source": [
    "dfAnterior = pd.read_csv('covid_huelva.csv', index_col='Lugar de residencia')"
   ]
  },
  {
   "cell_type": "code",
   "execution_count": 7,
   "metadata": {
    "tags": []
   },
   "outputs": [
    {
     "output_type": "stream",
     "name": "stdout",
     "text": [
      "Confirmados PCR en la provincia de Huelva:  33039.0\n",
      "<ipython-input-7-31b732756b19>:2: UserWarning: Boolean Series key will be reindexed to match DataFrame index.\n",
      "  p = df[df['Lugar de residencia'] == 'Huelva'][df['Medida'] == 'Confirmados PDIA']['Valor'].values[0]\n"
     ]
    }
   ],
   "source": [
    "# Confirmados PCR provincia Huelva\n",
    "p = df[df['Lugar de residencia'] == 'Huelva'][df['Medida'] == 'Confirmados PDIA']['Valor'].values[0]\n",
    "print('Confirmados PCR en la provincia de Huelva: ', p)"
   ]
  },
  {
   "cell_type": "code",
   "execution_count": 8,
   "metadata": {
    "tags": []
   },
   "outputs": [
    {
     "output_type": "stream",
     "name": "stdout",
     "text": [
      "Confirmados PCR en Huelva capital:  9044.0\n",
      "<ipython-input-8-e81bfb40e710>:2: UserWarning: Boolean Series key will be reindexed to match DataFrame index.\n",
      "  c = df[df['Lugar de residencia'] == 'Huelva (capital)'][df['Medida'] == 'Confirmados PDIA']['Valor'].values[0]\n"
     ]
    }
   ],
   "source": [
    "# Confirmados PCR Huelva capitalpd\n",
    "c = df[df['Lugar de residencia'] == 'Huelva (capital)'][df['Medida'] == 'Confirmados PDIA']['Valor'].values[0]\n",
    "print('Confirmados PCR en Huelva capital: ', c)"
   ]
  },
  {
   "cell_type": "code",
   "execution_count": 9,
   "metadata": {
    "tags": []
   },
   "outputs": [
    {
     "output_type": "stream",
     "name": "stderr",
     "text": [
      "<ipython-input-9-f09dd2050cc1>:1: UserWarning: Boolean Series key will be reindexed to match DataFrame index.\n  c7 = df[df['Lugar de residencia'] == 'Huelva (capital)'][df['Medida'] == 'Confirmados PDIA 7 días']['Valor'].values[0]\n<ipython-input-9-f09dd2050cc1>:2: UserWarning: Boolean Series key will be reindexed to match DataFrame index.\n  c14 = df[df['Lugar de residencia'] == 'Huelva (capital)'][df['Medida'] == 'Confirmados PDIA 14 días']['Valor'].values[0]\n<ipython-input-9-f09dd2050cc1>:3: UserWarning: Boolean Series key will be reindexed to match DataFrame index.\n  p = df[df['Lugar de residencia'] == 'Huelva (capital)'][df['Medida'] == 'Población']['Valor'].values[0]\n"
     ]
    }
   ],
   "source": [
    "c7 = df[df['Lugar de residencia'] == 'Huelva (capital)'][df['Medida'] == 'Confirmados PDIA 7 días']['Valor'].values[0]\n",
    "c14 = df[df['Lugar de residencia'] == 'Huelva (capital)'][df['Medida'] == 'Confirmados PDIA 14 días']['Valor'].values[0]\n",
    "p = df[df['Lugar de residencia'] == 'Huelva (capital)'][df['Medida'] == 'Población']['Valor'].values[0]"
   ]
  },
  {
   "cell_type": "code",
   "execution_count": 10,
   "metadata": {
    "tags": []
   },
   "outputs": [
    {
     "output_type": "stream",
     "name": "stdout",
     "text": [
      "Huelva (capital)\n\nUn positivo PCR cada 817 personas en los últimos 7 días \n\nUn positivo PCR cada 315 personas en los últimos 14 días\n"
     ]
    }
   ],
   "source": [
    "print('Huelva (capital)\\n')\n",
    "#print('Confirmados PCR 7 días x 1,000 habitantes: ', f\"{c7/(p/1000):.5f}\")\n",
    "print('Un positivo PCR cada', f\"{p/c7:.0f}\", 'personas en los últimos 7 días', '\\n')\n",
    "#print('Confirmados PCR 14 días x 1,000 habitantes: ', f\"{c14/(p/1000):.5f}\")\n",
    "print('Un positivo PCR cada', f\"{p/c14:.0f}\", 'personas en los últimos 14 días')"
   ]
  },
  {
   "cell_type": "code",
   "execution_count": 11,
   "metadata": {},
   "outputs": [],
   "source": [
    "filtro = ((df['Medida'] == 'Confirmados PDIA')| (df['Medida'] == 'Confirmados PDIA 7 días') | (df['Medida'] == 'Población' ) | (df['Medida'] == 'Confirmados PDIA 14 días')) & (df['Valor'] > 0)\n",
    "tabla = pd.pivot_table(df.loc[filtro], values='Valor', index='Lugar de residencia', columns='Medida').dropna()"
   ]
  },
  {
   "cell_type": "code",
   "execution_count": 12,
   "metadata": {},
   "outputs": [],
   "source": [
    "# Reorder columns\n",
    "tabla = tabla[['Confirmados PDIA', 'Confirmados PDIA 7 días', 'Confirmados PDIA 14 días', 'Población']]"
   ]
  },
  {
   "cell_type": "code",
   "execution_count": 13,
   "metadata": {},
   "outputs": [],
   "source": [
    "tabla['tasa7'] = tabla['Confirmados PDIA 7 días']/tabla['Población']*100000\n",
    "tabla['tasa14'] = tabla['Confirmados PDIA 14 días']/tabla['Población']*100000"
   ]
  },
  {
   "cell_type": "code",
   "execution_count": 14,
   "metadata": {},
   "outputs": [],
   "source": [
    "tabla['Diferencia PDIA'] = tabla['Confirmados PDIA'] - dfAnterior['Confirmados PDIA']"
   ]
  },
  {
   "cell_type": "code",
   "execution_count": 15,
   "metadata": {},
   "outputs": [
    {
     "output_type": "execute_result",
     "data": {
      "text/plain": [
       "Medida                     Confirmados PDIA  Confirmados PDIA 7 días  \\\n",
       "Lugar de residencia                                                    \n",
       "Huelva                              33039.0                    460.0   \n",
       "Huelva-Costa                        19035.0                    255.0   \n",
       "Condado-Campiña                     10734.0                    168.0   \n",
       "Huelva (capital)                     9044.0                    176.0   \n",
       "San Juan del Puerto                   572.0                     18.0   \n",
       "Moguer                               1383.0                     28.0   \n",
       "Palos de la Frontera                  712.0                     13.0   \n",
       "Cartaya                              1383.0                     19.0   \n",
       "Palma del Condado (La)               1187.0                     12.0   \n",
       "Bollullos Par del Condado            1031.0                     12.0   \n",
       "Isla Cristina                        2179.0                     14.0   \n",
       "Aljaraque                            1161.0                      7.0   \n",
       "Bonares                               294.0                      5.0   \n",
       "Rociana del Condado                   571.0                     10.0   \n",
       "Niebla                                248.0                      1.0   \n",
       "\n",
       "Medida                     Confirmados PDIA 14 días  Población       tasa7  \\\n",
       "Lugar de residencia                                                          \n",
       "Huelva                                       1100.0   513170.0   89.638911   \n",
       "Huelva-Costa                                  647.0   289548.0   88.068300   \n",
       "Condado-Campiña                               357.0   156231.0  107.533076   \n",
       "Huelva (capital)                              457.0   143837.0  122.360728   \n",
       "San Juan del Puerto                            48.0     9411.0  191.265540   \n",
       "Moguer                                         70.0    21867.0  128.046829   \n",
       "Palos de la Frontera                           29.0    11742.0  110.713677   \n",
       "Cartaya                                        32.0    20083.0   94.607379   \n",
       "Palma del Condado (La)                         23.0    10801.0  111.100824   \n",
       "Bollullos Par del Condado                      29.0    14387.0   83.408633   \n",
       "Isla Cristina                                  26.0    21393.0   65.441967   \n",
       "Aljaraque                                      35.0    21474.0   32.597560   \n",
       "Bonares                                        11.0     6060.0   82.508251   \n",
       "Rociana del Condado                            13.0     7939.0  125.960448   \n",
       "Niebla                                          9.0     4116.0   24.295432   \n",
       "\n",
       "Medida                         tasa14  Diferencia PDIA  \n",
       "Lugar de residencia                                     \n",
       "Huelva                     214.353918             53.0  \n",
       "Huelva-Costa               223.451725             29.0  \n",
       "Condado-Campiña            228.507787             24.0  \n",
       "Huelva (capital)           317.720753             23.0  \n",
       "San Juan del Puerto        510.041441              6.0  \n",
       "Moguer                     320.117071              5.0  \n",
       "Palos de la Frontera       246.976665              5.0  \n",
       "Cartaya                    159.338744              3.0  \n",
       "Palma del Condado (La)     212.943246              3.0  \n",
       "Bollullos Par del Condado  201.570863              2.0  \n",
       "Isla Cristina              121.535082              2.0  \n",
       "Aljaraque                  162.987799              1.0  \n",
       "Bonares                    181.518152              1.0  \n",
       "Rociana del Condado        163.748583              1.0  \n",
       "Niebla                     218.658892              NaN  "
      ],
      "text/html": "<div>\n<style scoped>\n    .dataframe tbody tr th:only-of-type {\n        vertical-align: middle;\n    }\n\n    .dataframe tbody tr th {\n        vertical-align: top;\n    }\n\n    .dataframe thead th {\n        text-align: right;\n    }\n</style>\n<table border=\"1\" class=\"dataframe\">\n  <thead>\n    <tr style=\"text-align: right;\">\n      <th>Medida</th>\n      <th>Confirmados PDIA</th>\n      <th>Confirmados PDIA 7 días</th>\n      <th>Confirmados PDIA 14 días</th>\n      <th>Población</th>\n      <th>tasa7</th>\n      <th>tasa14</th>\n      <th>Diferencia PDIA</th>\n    </tr>\n    <tr>\n      <th>Lugar de residencia</th>\n      <th></th>\n      <th></th>\n      <th></th>\n      <th></th>\n      <th></th>\n      <th></th>\n      <th></th>\n    </tr>\n  </thead>\n  <tbody>\n    <tr>\n      <th>Huelva</th>\n      <td>33039.0</td>\n      <td>460.0</td>\n      <td>1100.0</td>\n      <td>513170.0</td>\n      <td>89.638911</td>\n      <td>214.353918</td>\n      <td>53.0</td>\n    </tr>\n    <tr>\n      <th>Huelva-Costa</th>\n      <td>19035.0</td>\n      <td>255.0</td>\n      <td>647.0</td>\n      <td>289548.0</td>\n      <td>88.068300</td>\n      <td>223.451725</td>\n      <td>29.0</td>\n    </tr>\n    <tr>\n      <th>Condado-Campiña</th>\n      <td>10734.0</td>\n      <td>168.0</td>\n      <td>357.0</td>\n      <td>156231.0</td>\n      <td>107.533076</td>\n      <td>228.507787</td>\n      <td>24.0</td>\n    </tr>\n    <tr>\n      <th>Huelva (capital)</th>\n      <td>9044.0</td>\n      <td>176.0</td>\n      <td>457.0</td>\n      <td>143837.0</td>\n      <td>122.360728</td>\n      <td>317.720753</td>\n      <td>23.0</td>\n    </tr>\n    <tr>\n      <th>San Juan del Puerto</th>\n      <td>572.0</td>\n      <td>18.0</td>\n      <td>48.0</td>\n      <td>9411.0</td>\n      <td>191.265540</td>\n      <td>510.041441</td>\n      <td>6.0</td>\n    </tr>\n    <tr>\n      <th>Moguer</th>\n      <td>1383.0</td>\n      <td>28.0</td>\n      <td>70.0</td>\n      <td>21867.0</td>\n      <td>128.046829</td>\n      <td>320.117071</td>\n      <td>5.0</td>\n    </tr>\n    <tr>\n      <th>Palos de la Frontera</th>\n      <td>712.0</td>\n      <td>13.0</td>\n      <td>29.0</td>\n      <td>11742.0</td>\n      <td>110.713677</td>\n      <td>246.976665</td>\n      <td>5.0</td>\n    </tr>\n    <tr>\n      <th>Cartaya</th>\n      <td>1383.0</td>\n      <td>19.0</td>\n      <td>32.0</td>\n      <td>20083.0</td>\n      <td>94.607379</td>\n      <td>159.338744</td>\n      <td>3.0</td>\n    </tr>\n    <tr>\n      <th>Palma del Condado (La)</th>\n      <td>1187.0</td>\n      <td>12.0</td>\n      <td>23.0</td>\n      <td>10801.0</td>\n      <td>111.100824</td>\n      <td>212.943246</td>\n      <td>3.0</td>\n    </tr>\n    <tr>\n      <th>Bollullos Par del Condado</th>\n      <td>1031.0</td>\n      <td>12.0</td>\n      <td>29.0</td>\n      <td>14387.0</td>\n      <td>83.408633</td>\n      <td>201.570863</td>\n      <td>2.0</td>\n    </tr>\n    <tr>\n      <th>Isla Cristina</th>\n      <td>2179.0</td>\n      <td>14.0</td>\n      <td>26.0</td>\n      <td>21393.0</td>\n      <td>65.441967</td>\n      <td>121.535082</td>\n      <td>2.0</td>\n    </tr>\n    <tr>\n      <th>Aljaraque</th>\n      <td>1161.0</td>\n      <td>7.0</td>\n      <td>35.0</td>\n      <td>21474.0</td>\n      <td>32.597560</td>\n      <td>162.987799</td>\n      <td>1.0</td>\n    </tr>\n    <tr>\n      <th>Bonares</th>\n      <td>294.0</td>\n      <td>5.0</td>\n      <td>11.0</td>\n      <td>6060.0</td>\n      <td>82.508251</td>\n      <td>181.518152</td>\n      <td>1.0</td>\n    </tr>\n    <tr>\n      <th>Rociana del Condado</th>\n      <td>571.0</td>\n      <td>10.0</td>\n      <td>13.0</td>\n      <td>7939.0</td>\n      <td>125.960448</td>\n      <td>163.748583</td>\n      <td>1.0</td>\n    </tr>\n    <tr>\n      <th>Niebla</th>\n      <td>248.0</td>\n      <td>1.0</td>\n      <td>9.0</td>\n      <td>4116.0</td>\n      <td>24.295432</td>\n      <td>218.658892</td>\n      <td>NaN</td>\n    </tr>\n  </tbody>\n</table>\n</div>"
     },
     "metadata": {},
     "execution_count": 15
    }
   ],
   "source": [
    "# Nuevos casos desde la última captura\n",
    "tabla[tabla['Diferencia PDIA'] != 0].sort_values('Diferencia PDIA', ascending=False)"
   ]
  },
  {
   "cell_type": "code",
   "execution_count": 16,
   "metadata": {},
   "outputs": [],
   "source": [
    "if tabla[tabla['Diferencia PDIA'] != 0]['Diferencia PDIA'].sum() != 0:\n",
    "  # Save to csv\n",
    "  tabla.to_csv('covid_huelva.csv', encoding='utf-8', header=True, index=True)  "
   ]
  },
  {
   "cell_type": "code",
   "execution_count": 17,
   "metadata": {},
   "outputs": [
    {
     "output_type": "execute_result",
     "data": {
      "text/plain": [
       "Medida                             Confirmados PDIA  Confirmados PDIA 7 días  \\\n",
       "Lugar de residencia                                                            \n",
       "Puebla de Guzmán                              141.0                      8.0   \n",
       "San Juan del Puerto                           572.0                     18.0   \n",
       "Beas                                          232.0                     15.0   \n",
       "Valverde del Camino                           657.0                     23.0   \n",
       "Calañas                                       201.0                      2.0   \n",
       "Almendro (El)                                  39.0                      1.0   \n",
       "Lucena del Puerto                             267.0                      6.0   \n",
       "Moguer                                       1383.0                     28.0   \n",
       "Huelva (capital)                             9044.0                    176.0   \n",
       "Cerro de Andévalo (El)                        151.0                      4.0   \n",
       "Palos de la Frontera                          712.0                     13.0   \n",
       "Almonte                                      1905.0                     33.0   \n",
       "Condado-Campiña                             10734.0                    168.0   \n",
       "Huelva-Costa                                19035.0                    255.0   \n",
       "Niebla                                        248.0                      1.0   \n",
       "Huelva                                      33039.0                    460.0   \n",
       "Palma del Condado (La)                       1187.0                     12.0   \n",
       "Bollullos Par del Condado                    1031.0                     12.0   \n",
       "San Bartolomé de la Torre                     307.0                      3.0   \n",
       "Bonares                                       294.0                      5.0   \n",
       "Almonaster la Real                             69.0                      1.0   \n",
       "Trigueros                                     331.0                      6.0   \n",
       "Rociana del Condado                           571.0                     10.0   \n",
       "Aljaraque                                    1161.0                      7.0   \n",
       "Cartaya                                      1383.0                     19.0   \n",
       "Villablanca                                   191.0                      2.0   \n",
       "Sierra de Huelva-Andévalo Central            2917.0                     35.0   \n",
       "Isla Cristina                                2179.0                     14.0   \n",
       "Punta Umbría                                  848.0                      8.0   \n",
       "Lepe                                         2166.0                     16.0   \n",
       "Aracena                                       539.0                      1.0   \n",
       "Santa Bárbara de Casa                          16.0                      1.0   \n",
       "Manzanilla                                    104.0                      1.0   \n",
       "Gibraleón                                     646.0                      5.0   \n",
       "Zarza-Perrunal (La)                            26.0                      1.0   \n",
       "Villanueva de los Castillejos                 165.0                      1.0   \n",
       "Cumbres Mayores                                54.0                      1.0   \n",
       "Minas de Riotinto                             129.0                      1.0   \n",
       "Ayamonte                                     1332.0                      2.0   \n",
       "Cortegana                                     215.0                      1.0   \n",
       "\n",
       "Medida                             Confirmados PDIA 14 días  Población  \\\n",
       "Lugar de residencia                                                      \n",
       "Puebla de Guzmán                                       19.0     3092.0   \n",
       "San Juan del Puerto                                    48.0     9411.0   \n",
       "Beas                                                   20.0     4341.0   \n",
       "Valverde del Camino                                    51.0    12750.0   \n",
       "Calañas                                                10.0     2768.0   \n",
       "Almendro (El)                                           3.0      840.0   \n",
       "Lucena del Puerto                                      11.0     3261.0   \n",
       "Moguer                                                 70.0    21867.0   \n",
       "Huelva (capital)                                      457.0   143837.0   \n",
       "Cerro de Andévalo (El)                                  6.0     2327.0   \n",
       "Palos de la Frontera                                   29.0    11742.0   \n",
       "Almonte                                                58.0    24507.0   \n",
       "Condado-Campiña                                       357.0   156231.0   \n",
       "Huelva-Costa                                          647.0   289548.0   \n",
       "Niebla                                                  9.0     4116.0   \n",
       "Huelva                                               1100.0   513170.0   \n",
       "Palma del Condado (La)                                 23.0    10801.0   \n",
       "Bollullos Par del Condado                              29.0    14387.0   \n",
       "San Bartolomé de la Torre                               7.0     3761.0   \n",
       "Bonares                                                11.0     6060.0   \n",
       "Almonaster la Real                                      3.0     1788.0   \n",
       "Trigueros                                              13.0     7862.0   \n",
       "Rociana del Condado                                    13.0     7939.0   \n",
       "Aljaraque                                              35.0    21474.0   \n",
       "Cartaya                                                32.0    20083.0   \n",
       "Villablanca                                             4.0     2885.0   \n",
       "Sierra de Huelva-Andévalo Central                      93.0    67391.0   \n",
       "Isla Cristina                                          26.0    21393.0   \n",
       "Punta Umbría                                           17.0    15355.0   \n",
       "Lepe                                                   30.0    27880.0   \n",
       "Aracena                                                 8.0     8255.0   \n",
       "Santa Bárbara de Casa                                   1.0     1043.0   \n",
       "Manzanilla                                              2.0     2118.0   \n",
       "Gibraleón                                              11.0    12737.0   \n",
       "Zarza-Perrunal (La)                                     1.0     1253.0   \n",
       "Villanueva de los Castillejos                           2.0     2825.0   \n",
       "Cumbres Mayores                                         1.0     1749.0   \n",
       "Minas de Riotinto                                       2.0     3812.0   \n",
       "Ayamonte                                               10.0    21104.0   \n",
       "Cortegana                                               1.0     4602.0   \n",
       "\n",
       "Medida                                  tasa7      tasa14  Diferencia PDIA  \n",
       "Lugar de residencia                                                         \n",
       "Puebla de Guzmán                   258.732212  614.489004              0.0  \n",
       "San Juan del Puerto                191.265540  510.041441              6.0  \n",
       "Beas                               345.542502  460.723336              0.0  \n",
       "Valverde del Camino                180.392157  400.000000              0.0  \n",
       "Calañas                             72.254335  361.271676              0.0  \n",
       "Almendro (El)                      119.047619  357.142857              0.0  \n",
       "Lucena del Puerto                  183.992640  337.319841              0.0  \n",
       "Moguer                             128.046829  320.117071              5.0  \n",
       "Huelva (capital)                   122.360728  317.720753             23.0  \n",
       "Cerro de Andévalo (El)             171.895144  257.842716              0.0  \n",
       "Palos de la Frontera               110.713677  246.976665              5.0  \n",
       "Almonte                            134.655405  236.667075              0.0  \n",
       "Condado-Campiña                    107.533076  228.507787             24.0  \n",
       "Huelva-Costa                        88.068300  223.451725             29.0  \n",
       "Niebla                              24.295432  218.658892              NaN  \n",
       "Huelva                              89.638911  214.353918             53.0  \n",
       "Palma del Condado (La)             111.100824  212.943246              3.0  \n",
       "Bollullos Par del Condado           83.408633  201.570863              2.0  \n",
       "San Bartolomé de la Torre           79.766020  186.120713              0.0  \n",
       "Bonares                             82.508251  181.518152              1.0  \n",
       "Almonaster la Real                  55.928412  167.785235              0.0  \n",
       "Trigueros                           76.316459  165.352328              0.0  \n",
       "Rociana del Condado                125.960448  163.748583              1.0  \n",
       "Aljaraque                           32.597560  162.987799              1.0  \n",
       "Cartaya                             94.607379  159.338744              3.0  \n",
       "Villablanca                         69.324090  138.648180              0.0  \n",
       "Sierra de Huelva-Andévalo Central   51.935718  138.000623              0.0  \n",
       "Isla Cristina                       65.441967  121.535082              2.0  \n",
       "Punta Umbría                        52.100293  110.713123              0.0  \n",
       "Lepe                                57.388809  107.604017              0.0  \n",
       "Aracena                             12.113870   96.910963              0.0  \n",
       "Santa Bárbara de Casa               95.877277   95.877277              0.0  \n",
       "Manzanilla                          47.214353   94.428706              0.0  \n",
       "Gibraleón                           39.255712   86.362566              0.0  \n",
       "Zarza-Perrunal (La)                 79.808460   79.808460              0.0  \n",
       "Villanueva de los Castillejos       35.398230   70.796460              0.0  \n",
       "Cumbres Mayores                     57.175529   57.175529              0.0  \n",
       "Minas de Riotinto                   26.232949   52.465897              0.0  \n",
       "Ayamonte                             9.476876   47.384382              0.0  \n",
       "Cortegana                           21.729683   21.729683              0.0  "
      ],
      "text/html": "<div>\n<style scoped>\n    .dataframe tbody tr th:only-of-type {\n        vertical-align: middle;\n    }\n\n    .dataframe tbody tr th {\n        vertical-align: top;\n    }\n\n    .dataframe thead th {\n        text-align: right;\n    }\n</style>\n<table border=\"1\" class=\"dataframe\">\n  <thead>\n    <tr style=\"text-align: right;\">\n      <th>Medida</th>\n      <th>Confirmados PDIA</th>\n      <th>Confirmados PDIA 7 días</th>\n      <th>Confirmados PDIA 14 días</th>\n      <th>Población</th>\n      <th>tasa7</th>\n      <th>tasa14</th>\n      <th>Diferencia PDIA</th>\n    </tr>\n    <tr>\n      <th>Lugar de residencia</th>\n      <th></th>\n      <th></th>\n      <th></th>\n      <th></th>\n      <th></th>\n      <th></th>\n      <th></th>\n    </tr>\n  </thead>\n  <tbody>\n    <tr>\n      <th>Puebla de Guzmán</th>\n      <td>141.0</td>\n      <td>8.0</td>\n      <td>19.0</td>\n      <td>3092.0</td>\n      <td>258.732212</td>\n      <td>614.489004</td>\n      <td>0.0</td>\n    </tr>\n    <tr>\n      <th>San Juan del Puerto</th>\n      <td>572.0</td>\n      <td>18.0</td>\n      <td>48.0</td>\n      <td>9411.0</td>\n      <td>191.265540</td>\n      <td>510.041441</td>\n      <td>6.0</td>\n    </tr>\n    <tr>\n      <th>Beas</th>\n      <td>232.0</td>\n      <td>15.0</td>\n      <td>20.0</td>\n      <td>4341.0</td>\n      <td>345.542502</td>\n      <td>460.723336</td>\n      <td>0.0</td>\n    </tr>\n    <tr>\n      <th>Valverde del Camino</th>\n      <td>657.0</td>\n      <td>23.0</td>\n      <td>51.0</td>\n      <td>12750.0</td>\n      <td>180.392157</td>\n      <td>400.000000</td>\n      <td>0.0</td>\n    </tr>\n    <tr>\n      <th>Calañas</th>\n      <td>201.0</td>\n      <td>2.0</td>\n      <td>10.0</td>\n      <td>2768.0</td>\n      <td>72.254335</td>\n      <td>361.271676</td>\n      <td>0.0</td>\n    </tr>\n    <tr>\n      <th>Almendro (El)</th>\n      <td>39.0</td>\n      <td>1.0</td>\n      <td>3.0</td>\n      <td>840.0</td>\n      <td>119.047619</td>\n      <td>357.142857</td>\n      <td>0.0</td>\n    </tr>\n    <tr>\n      <th>Lucena del Puerto</th>\n      <td>267.0</td>\n      <td>6.0</td>\n      <td>11.0</td>\n      <td>3261.0</td>\n      <td>183.992640</td>\n      <td>337.319841</td>\n      <td>0.0</td>\n    </tr>\n    <tr>\n      <th>Moguer</th>\n      <td>1383.0</td>\n      <td>28.0</td>\n      <td>70.0</td>\n      <td>21867.0</td>\n      <td>128.046829</td>\n      <td>320.117071</td>\n      <td>5.0</td>\n    </tr>\n    <tr>\n      <th>Huelva (capital)</th>\n      <td>9044.0</td>\n      <td>176.0</td>\n      <td>457.0</td>\n      <td>143837.0</td>\n      <td>122.360728</td>\n      <td>317.720753</td>\n      <td>23.0</td>\n    </tr>\n    <tr>\n      <th>Cerro de Andévalo (El)</th>\n      <td>151.0</td>\n      <td>4.0</td>\n      <td>6.0</td>\n      <td>2327.0</td>\n      <td>171.895144</td>\n      <td>257.842716</td>\n      <td>0.0</td>\n    </tr>\n    <tr>\n      <th>Palos de la Frontera</th>\n      <td>712.0</td>\n      <td>13.0</td>\n      <td>29.0</td>\n      <td>11742.0</td>\n      <td>110.713677</td>\n      <td>246.976665</td>\n      <td>5.0</td>\n    </tr>\n    <tr>\n      <th>Almonte</th>\n      <td>1905.0</td>\n      <td>33.0</td>\n      <td>58.0</td>\n      <td>24507.0</td>\n      <td>134.655405</td>\n      <td>236.667075</td>\n      <td>0.0</td>\n    </tr>\n    <tr>\n      <th>Condado-Campiña</th>\n      <td>10734.0</td>\n      <td>168.0</td>\n      <td>357.0</td>\n      <td>156231.0</td>\n      <td>107.533076</td>\n      <td>228.507787</td>\n      <td>24.0</td>\n    </tr>\n    <tr>\n      <th>Huelva-Costa</th>\n      <td>19035.0</td>\n      <td>255.0</td>\n      <td>647.0</td>\n      <td>289548.0</td>\n      <td>88.068300</td>\n      <td>223.451725</td>\n      <td>29.0</td>\n    </tr>\n    <tr>\n      <th>Niebla</th>\n      <td>248.0</td>\n      <td>1.0</td>\n      <td>9.0</td>\n      <td>4116.0</td>\n      <td>24.295432</td>\n      <td>218.658892</td>\n      <td>NaN</td>\n    </tr>\n    <tr>\n      <th>Huelva</th>\n      <td>33039.0</td>\n      <td>460.0</td>\n      <td>1100.0</td>\n      <td>513170.0</td>\n      <td>89.638911</td>\n      <td>214.353918</td>\n      <td>53.0</td>\n    </tr>\n    <tr>\n      <th>Palma del Condado (La)</th>\n      <td>1187.0</td>\n      <td>12.0</td>\n      <td>23.0</td>\n      <td>10801.0</td>\n      <td>111.100824</td>\n      <td>212.943246</td>\n      <td>3.0</td>\n    </tr>\n    <tr>\n      <th>Bollullos Par del Condado</th>\n      <td>1031.0</td>\n      <td>12.0</td>\n      <td>29.0</td>\n      <td>14387.0</td>\n      <td>83.408633</td>\n      <td>201.570863</td>\n      <td>2.0</td>\n    </tr>\n    <tr>\n      <th>San Bartolomé de la Torre</th>\n      <td>307.0</td>\n      <td>3.0</td>\n      <td>7.0</td>\n      <td>3761.0</td>\n      <td>79.766020</td>\n      <td>186.120713</td>\n      <td>0.0</td>\n    </tr>\n    <tr>\n      <th>Bonares</th>\n      <td>294.0</td>\n      <td>5.0</td>\n      <td>11.0</td>\n      <td>6060.0</td>\n      <td>82.508251</td>\n      <td>181.518152</td>\n      <td>1.0</td>\n    </tr>\n    <tr>\n      <th>Almonaster la Real</th>\n      <td>69.0</td>\n      <td>1.0</td>\n      <td>3.0</td>\n      <td>1788.0</td>\n      <td>55.928412</td>\n      <td>167.785235</td>\n      <td>0.0</td>\n    </tr>\n    <tr>\n      <th>Trigueros</th>\n      <td>331.0</td>\n      <td>6.0</td>\n      <td>13.0</td>\n      <td>7862.0</td>\n      <td>76.316459</td>\n      <td>165.352328</td>\n      <td>0.0</td>\n    </tr>\n    <tr>\n      <th>Rociana del Condado</th>\n      <td>571.0</td>\n      <td>10.0</td>\n      <td>13.0</td>\n      <td>7939.0</td>\n      <td>125.960448</td>\n      <td>163.748583</td>\n      <td>1.0</td>\n    </tr>\n    <tr>\n      <th>Aljaraque</th>\n      <td>1161.0</td>\n      <td>7.0</td>\n      <td>35.0</td>\n      <td>21474.0</td>\n      <td>32.597560</td>\n      <td>162.987799</td>\n      <td>1.0</td>\n    </tr>\n    <tr>\n      <th>Cartaya</th>\n      <td>1383.0</td>\n      <td>19.0</td>\n      <td>32.0</td>\n      <td>20083.0</td>\n      <td>94.607379</td>\n      <td>159.338744</td>\n      <td>3.0</td>\n    </tr>\n    <tr>\n      <th>Villablanca</th>\n      <td>191.0</td>\n      <td>2.0</td>\n      <td>4.0</td>\n      <td>2885.0</td>\n      <td>69.324090</td>\n      <td>138.648180</td>\n      <td>0.0</td>\n    </tr>\n    <tr>\n      <th>Sierra de Huelva-Andévalo Central</th>\n      <td>2917.0</td>\n      <td>35.0</td>\n      <td>93.0</td>\n      <td>67391.0</td>\n      <td>51.935718</td>\n      <td>138.000623</td>\n      <td>0.0</td>\n    </tr>\n    <tr>\n      <th>Isla Cristina</th>\n      <td>2179.0</td>\n      <td>14.0</td>\n      <td>26.0</td>\n      <td>21393.0</td>\n      <td>65.441967</td>\n      <td>121.535082</td>\n      <td>2.0</td>\n    </tr>\n    <tr>\n      <th>Punta Umbría</th>\n      <td>848.0</td>\n      <td>8.0</td>\n      <td>17.0</td>\n      <td>15355.0</td>\n      <td>52.100293</td>\n      <td>110.713123</td>\n      <td>0.0</td>\n    </tr>\n    <tr>\n      <th>Lepe</th>\n      <td>2166.0</td>\n      <td>16.0</td>\n      <td>30.0</td>\n      <td>27880.0</td>\n      <td>57.388809</td>\n      <td>107.604017</td>\n      <td>0.0</td>\n    </tr>\n    <tr>\n      <th>Aracena</th>\n      <td>539.0</td>\n      <td>1.0</td>\n      <td>8.0</td>\n      <td>8255.0</td>\n      <td>12.113870</td>\n      <td>96.910963</td>\n      <td>0.0</td>\n    </tr>\n    <tr>\n      <th>Santa Bárbara de Casa</th>\n      <td>16.0</td>\n      <td>1.0</td>\n      <td>1.0</td>\n      <td>1043.0</td>\n      <td>95.877277</td>\n      <td>95.877277</td>\n      <td>0.0</td>\n    </tr>\n    <tr>\n      <th>Manzanilla</th>\n      <td>104.0</td>\n      <td>1.0</td>\n      <td>2.0</td>\n      <td>2118.0</td>\n      <td>47.214353</td>\n      <td>94.428706</td>\n      <td>0.0</td>\n    </tr>\n    <tr>\n      <th>Gibraleón</th>\n      <td>646.0</td>\n      <td>5.0</td>\n      <td>11.0</td>\n      <td>12737.0</td>\n      <td>39.255712</td>\n      <td>86.362566</td>\n      <td>0.0</td>\n    </tr>\n    <tr>\n      <th>Zarza-Perrunal (La)</th>\n      <td>26.0</td>\n      <td>1.0</td>\n      <td>1.0</td>\n      <td>1253.0</td>\n      <td>79.808460</td>\n      <td>79.808460</td>\n      <td>0.0</td>\n    </tr>\n    <tr>\n      <th>Villanueva de los Castillejos</th>\n      <td>165.0</td>\n      <td>1.0</td>\n      <td>2.0</td>\n      <td>2825.0</td>\n      <td>35.398230</td>\n      <td>70.796460</td>\n      <td>0.0</td>\n    </tr>\n    <tr>\n      <th>Cumbres Mayores</th>\n      <td>54.0</td>\n      <td>1.0</td>\n      <td>1.0</td>\n      <td>1749.0</td>\n      <td>57.175529</td>\n      <td>57.175529</td>\n      <td>0.0</td>\n    </tr>\n    <tr>\n      <th>Minas de Riotinto</th>\n      <td>129.0</td>\n      <td>1.0</td>\n      <td>2.0</td>\n      <td>3812.0</td>\n      <td>26.232949</td>\n      <td>52.465897</td>\n      <td>0.0</td>\n    </tr>\n    <tr>\n      <th>Ayamonte</th>\n      <td>1332.0</td>\n      <td>2.0</td>\n      <td>10.0</td>\n      <td>21104.0</td>\n      <td>9.476876</td>\n      <td>47.384382</td>\n      <td>0.0</td>\n    </tr>\n    <tr>\n      <th>Cortegana</th>\n      <td>215.0</td>\n      <td>1.0</td>\n      <td>1.0</td>\n      <td>4602.0</td>\n      <td>21.729683</td>\n      <td>21.729683</td>\n      <td>0.0</td>\n    </tr>\n  </tbody>\n</table>\n</div>"
     },
     "metadata": {},
     "execution_count": 17
    }
   ],
   "source": [
    "tabla.sort_values('tasa14', ascending=False)"
   ]
  },
  {
   "cell_type": "code",
   "execution_count": 18,
   "metadata": {},
   "outputs": [
    {
     "output_type": "execute_result",
     "data": {
      "text/plain": [
       "Medida                             Confirmados PDIA  Confirmados PDIA 7 días  \\\n",
       "Lugar de residencia                                                            \n",
       "Niebla                                        248.0                      1.0   \n",
       "Aracena                                       539.0                      1.0   \n",
       "Aljaraque                                    1161.0                      7.0   \n",
       "Ayamonte                                     1332.0                      2.0   \n",
       "Calañas                                       201.0                      2.0   \n",
       "Almonaster la Real                             69.0                      1.0   \n",
       "Almendro (El)                                  39.0                      1.0   \n",
       "San Juan del Puerto                           572.0                     18.0   \n",
       "Sierra de Huelva-Andévalo Central            2917.0                     35.0   \n",
       "Huelva (capital)                             9044.0                    176.0   \n",
       "Huelva-Costa                                19035.0                    255.0   \n",
       "Moguer                                       1383.0                     28.0   \n",
       "Bollullos Par del Condado                    1031.0                     12.0   \n",
       "Huelva                                      33039.0                    460.0   \n",
       "Puebla de Guzmán                              141.0                      8.0   \n",
       "San Bartolomé de la Torre                     307.0                      3.0   \n",
       "Palos de la Frontera                          712.0                     13.0   \n",
       "Valverde del Camino                           657.0                     23.0   \n",
       "Bonares                                       294.0                      5.0   \n",
       "Gibraleón                                     646.0                      5.0   \n",
       "Trigueros                                     331.0                      6.0   \n",
       "Condado-Campiña                             10734.0                    168.0   \n",
       "Punta Umbría                                  848.0                      8.0   \n",
       "Villanueva de los Castillejos                 165.0                      1.0   \n",
       "Manzanilla                                    104.0                      1.0   \n",
       "Minas de Riotinto                             129.0                      1.0   \n",
       "Villablanca                                   191.0                      2.0   \n",
       "Palma del Condado (La)                       1187.0                     12.0   \n",
       "Lepe                                         2166.0                     16.0   \n",
       "Isla Cristina                                2179.0                     14.0   \n",
       "Lucena del Puerto                             267.0                      6.0   \n",
       "Almonte                                      1905.0                     33.0   \n",
       "Cartaya                                      1383.0                     19.0   \n",
       "Cerro de Andévalo (El)                        151.0                      4.0   \n",
       "Beas                                          232.0                     15.0   \n",
       "Rociana del Condado                           571.0                     10.0   \n",
       "Cumbres Mayores                                54.0                      1.0   \n",
       "Cortegana                                     215.0                      1.0   \n",
       "Santa Bárbara de Casa                          16.0                      1.0   \n",
       "Zarza-Perrunal (La)                            26.0                      1.0   \n",
       "\n",
       "Medida                             Confirmados PDIA 14 días  Población  \\\n",
       "Lugar de residencia                                                      \n",
       "Niebla                                                  9.0     4116.0   \n",
       "Aracena                                                 8.0     8255.0   \n",
       "Aljaraque                                              35.0    21474.0   \n",
       "Ayamonte                                               10.0    21104.0   \n",
       "Calañas                                                10.0     2768.0   \n",
       "Almonaster la Real                                      3.0     1788.0   \n",
       "Almendro (El)                                           3.0      840.0   \n",
       "San Juan del Puerto                                    48.0     9411.0   \n",
       "Sierra de Huelva-Andévalo Central                      93.0    67391.0   \n",
       "Huelva (capital)                                      457.0   143837.0   \n",
       "Huelva-Costa                                          647.0   289548.0   \n",
       "Moguer                                                 70.0    21867.0   \n",
       "Bollullos Par del Condado                              29.0    14387.0   \n",
       "Huelva                                               1100.0   513170.0   \n",
       "Puebla de Guzmán                                       19.0     3092.0   \n",
       "San Bartolomé de la Torre                               7.0     3761.0   \n",
       "Palos de la Frontera                                   29.0    11742.0   \n",
       "Valverde del Camino                                    51.0    12750.0   \n",
       "Bonares                                                11.0     6060.0   \n",
       "Gibraleón                                              11.0    12737.0   \n",
       "Trigueros                                              13.0     7862.0   \n",
       "Condado-Campiña                                       357.0   156231.0   \n",
       "Punta Umbría                                           17.0    15355.0   \n",
       "Villanueva de los Castillejos                           2.0     2825.0   \n",
       "Manzanilla                                              2.0     2118.0   \n",
       "Minas de Riotinto                                       2.0     3812.0   \n",
       "Villablanca                                             4.0     2885.0   \n",
       "Palma del Condado (La)                                 23.0    10801.0   \n",
       "Lepe                                                   30.0    27880.0   \n",
       "Isla Cristina                                          26.0    21393.0   \n",
       "Lucena del Puerto                                      11.0     3261.0   \n",
       "Almonte                                                58.0    24507.0   \n",
       "Cartaya                                                32.0    20083.0   \n",
       "Cerro de Andévalo (El)                                  6.0     2327.0   \n",
       "Beas                                                   20.0     4341.0   \n",
       "Rociana del Condado                                    13.0     7939.0   \n",
       "Cumbres Mayores                                         1.0     1749.0   \n",
       "Cortegana                                               1.0     4602.0   \n",
       "Santa Bárbara de Casa                                   1.0     1043.0   \n",
       "Zarza-Perrunal (La)                                     1.0     1253.0   \n",
       "\n",
       "Medida                                  tasa7      tasa14  Diferencia PDIA  \\\n",
       "Lugar de residencia                                                          \n",
       "Niebla                              24.295432  218.658892              0.0   \n",
       "Aracena                             12.113870   96.910963              0.0   \n",
       "Aljaraque                           32.597560  162.987799              1.0   \n",
       "Ayamonte                             9.476876   47.384382              0.0   \n",
       "Calañas                             72.254335  361.271676              0.0   \n",
       "Almonaster la Real                  55.928412  167.785235              0.0   \n",
       "Almendro (El)                      119.047619  357.142857              0.0   \n",
       "San Juan del Puerto                191.265540  510.041441              6.0   \n",
       "Sierra de Huelva-Andévalo Central   51.935718  138.000623              0.0   \n",
       "Huelva (capital)                   122.360728  317.720753             23.0   \n",
       "Huelva-Costa                        88.068300  223.451725             29.0   \n",
       "Moguer                             128.046829  320.117071              5.0   \n",
       "Bollullos Par del Condado           83.408633  201.570863              2.0   \n",
       "Huelva                              89.638911  214.353918             53.0   \n",
       "Puebla de Guzmán                   258.732212  614.489004              0.0   \n",
       "San Bartolomé de la Torre           79.766020  186.120713              0.0   \n",
       "Palos de la Frontera               110.713677  246.976665              5.0   \n",
       "Valverde del Camino                180.392157  400.000000              0.0   \n",
       "Bonares                             82.508251  181.518152              1.0   \n",
       "Gibraleón                           39.255712   86.362566              0.0   \n",
       "Trigueros                           76.316459  165.352328              0.0   \n",
       "Condado-Campiña                    107.533076  228.507787             24.0   \n",
       "Punta Umbría                        52.100293  110.713123              0.0   \n",
       "Villanueva de los Castillejos       35.398230   70.796460              0.0   \n",
       "Manzanilla                          47.214353   94.428706              0.0   \n",
       "Minas de Riotinto                   26.232949   52.465897              0.0   \n",
       "Villablanca                         69.324090  138.648180              0.0   \n",
       "Palma del Condado (La)             111.100824  212.943246              3.0   \n",
       "Lepe                                57.388809  107.604017              0.0   \n",
       "Isla Cristina                       65.441967  121.535082              2.0   \n",
       "Lucena del Puerto                  183.992640  337.319841              0.0   \n",
       "Almonte                            134.655405  236.667075              0.0   \n",
       "Cartaya                             94.607379  159.338744              3.0   \n",
       "Cerro de Andévalo (El)             171.895144  257.842716              0.0   \n",
       "Beas                               345.542502  460.723336              0.0   \n",
       "Rociana del Condado                125.960448  163.748583              1.0   \n",
       "Cumbres Mayores                     57.175529   57.175529              0.0   \n",
       "Cortegana                           21.729683   21.729683              0.0   \n",
       "Santa Bárbara de Casa               95.877277   95.877277              0.0   \n",
       "Zarza-Perrunal (La)                 79.808460   79.808460              0.0   \n",
       "\n",
       "Medida                                 7/14  \n",
       "Lugar de residencia                          \n",
       "Niebla                             0.111111  \n",
       "Aracena                            0.125000  \n",
       "Aljaraque                          0.200000  \n",
       "Ayamonte                           0.200000  \n",
       "Calañas                            0.200000  \n",
       "Almonaster la Real                 0.333333  \n",
       "Almendro (El)                      0.333333  \n",
       "San Juan del Puerto                0.375000  \n",
       "Sierra de Huelva-Andévalo Central  0.376344  \n",
       "Huelva (capital)                   0.385120  \n",
       "Huelva-Costa                       0.394127  \n",
       "Moguer                             0.400000  \n",
       "Bollullos Par del Condado          0.413793  \n",
       "Huelva                             0.418182  \n",
       "Puebla de Guzmán                   0.421053  \n",
       "San Bartolomé de la Torre          0.428571  \n",
       "Palos de la Frontera               0.448276  \n",
       "Valverde del Camino                0.450980  \n",
       "Bonares                            0.454545  \n",
       "Gibraleón                          0.454545  \n",
       "Trigueros                          0.461538  \n",
       "Condado-Campiña                    0.470588  \n",
       "Punta Umbría                       0.470588  \n",
       "Villanueva de los Castillejos      0.500000  \n",
       "Manzanilla                         0.500000  \n",
       "Minas de Riotinto                  0.500000  \n",
       "Villablanca                        0.500000  \n",
       "Palma del Condado (La)             0.521739  \n",
       "Lepe                               0.533333  \n",
       "Isla Cristina                      0.538462  \n",
       "Lucena del Puerto                  0.545455  \n",
       "Almonte                            0.568966  \n",
       "Cartaya                            0.593750  \n",
       "Cerro de Andévalo (El)             0.666667  \n",
       "Beas                               0.750000  \n",
       "Rociana del Condado                0.769231  \n",
       "Cumbres Mayores                    1.000000  \n",
       "Cortegana                          1.000000  \n",
       "Santa Bárbara de Casa              1.000000  \n",
       "Zarza-Perrunal (La)                1.000000  "
      ],
      "text/html": "<div>\n<style scoped>\n    .dataframe tbody tr th:only-of-type {\n        vertical-align: middle;\n    }\n\n    .dataframe tbody tr th {\n        vertical-align: top;\n    }\n\n    .dataframe thead th {\n        text-align: right;\n    }\n</style>\n<table border=\"1\" class=\"dataframe\">\n  <thead>\n    <tr style=\"text-align: right;\">\n      <th>Medida</th>\n      <th>Confirmados PDIA</th>\n      <th>Confirmados PDIA 7 días</th>\n      <th>Confirmados PDIA 14 días</th>\n      <th>Población</th>\n      <th>tasa7</th>\n      <th>tasa14</th>\n      <th>Diferencia PDIA</th>\n      <th>7/14</th>\n    </tr>\n    <tr>\n      <th>Lugar de residencia</th>\n      <th></th>\n      <th></th>\n      <th></th>\n      <th></th>\n      <th></th>\n      <th></th>\n      <th></th>\n      <th></th>\n    </tr>\n  </thead>\n  <tbody>\n    <tr>\n      <th>Niebla</th>\n      <td>248.0</td>\n      <td>1.0</td>\n      <td>9.0</td>\n      <td>4116.0</td>\n      <td>24.295432</td>\n      <td>218.658892</td>\n      <td>0.0</td>\n      <td>0.111111</td>\n    </tr>\n    <tr>\n      <th>Aracena</th>\n      <td>539.0</td>\n      <td>1.0</td>\n      <td>8.0</td>\n      <td>8255.0</td>\n      <td>12.113870</td>\n      <td>96.910963</td>\n      <td>0.0</td>\n      <td>0.125000</td>\n    </tr>\n    <tr>\n      <th>Aljaraque</th>\n      <td>1161.0</td>\n      <td>7.0</td>\n      <td>35.0</td>\n      <td>21474.0</td>\n      <td>32.597560</td>\n      <td>162.987799</td>\n      <td>1.0</td>\n      <td>0.200000</td>\n    </tr>\n    <tr>\n      <th>Ayamonte</th>\n      <td>1332.0</td>\n      <td>2.0</td>\n      <td>10.0</td>\n      <td>21104.0</td>\n      <td>9.476876</td>\n      <td>47.384382</td>\n      <td>0.0</td>\n      <td>0.200000</td>\n    </tr>\n    <tr>\n      <th>Calañas</th>\n      <td>201.0</td>\n      <td>2.0</td>\n      <td>10.0</td>\n      <td>2768.0</td>\n      <td>72.254335</td>\n      <td>361.271676</td>\n      <td>0.0</td>\n      <td>0.200000</td>\n    </tr>\n    <tr>\n      <th>Almonaster la Real</th>\n      <td>69.0</td>\n      <td>1.0</td>\n      <td>3.0</td>\n      <td>1788.0</td>\n      <td>55.928412</td>\n      <td>167.785235</td>\n      <td>0.0</td>\n      <td>0.333333</td>\n    </tr>\n    <tr>\n      <th>Almendro (El)</th>\n      <td>39.0</td>\n      <td>1.0</td>\n      <td>3.0</td>\n      <td>840.0</td>\n      <td>119.047619</td>\n      <td>357.142857</td>\n      <td>0.0</td>\n      <td>0.333333</td>\n    </tr>\n    <tr>\n      <th>San Juan del Puerto</th>\n      <td>572.0</td>\n      <td>18.0</td>\n      <td>48.0</td>\n      <td>9411.0</td>\n      <td>191.265540</td>\n      <td>510.041441</td>\n      <td>6.0</td>\n      <td>0.375000</td>\n    </tr>\n    <tr>\n      <th>Sierra de Huelva-Andévalo Central</th>\n      <td>2917.0</td>\n      <td>35.0</td>\n      <td>93.0</td>\n      <td>67391.0</td>\n      <td>51.935718</td>\n      <td>138.000623</td>\n      <td>0.0</td>\n      <td>0.376344</td>\n    </tr>\n    <tr>\n      <th>Huelva (capital)</th>\n      <td>9044.0</td>\n      <td>176.0</td>\n      <td>457.0</td>\n      <td>143837.0</td>\n      <td>122.360728</td>\n      <td>317.720753</td>\n      <td>23.0</td>\n      <td>0.385120</td>\n    </tr>\n    <tr>\n      <th>Huelva-Costa</th>\n      <td>19035.0</td>\n      <td>255.0</td>\n      <td>647.0</td>\n      <td>289548.0</td>\n      <td>88.068300</td>\n      <td>223.451725</td>\n      <td>29.0</td>\n      <td>0.394127</td>\n    </tr>\n    <tr>\n      <th>Moguer</th>\n      <td>1383.0</td>\n      <td>28.0</td>\n      <td>70.0</td>\n      <td>21867.0</td>\n      <td>128.046829</td>\n      <td>320.117071</td>\n      <td>5.0</td>\n      <td>0.400000</td>\n    </tr>\n    <tr>\n      <th>Bollullos Par del Condado</th>\n      <td>1031.0</td>\n      <td>12.0</td>\n      <td>29.0</td>\n      <td>14387.0</td>\n      <td>83.408633</td>\n      <td>201.570863</td>\n      <td>2.0</td>\n      <td>0.413793</td>\n    </tr>\n    <tr>\n      <th>Huelva</th>\n      <td>33039.0</td>\n      <td>460.0</td>\n      <td>1100.0</td>\n      <td>513170.0</td>\n      <td>89.638911</td>\n      <td>214.353918</td>\n      <td>53.0</td>\n      <td>0.418182</td>\n    </tr>\n    <tr>\n      <th>Puebla de Guzmán</th>\n      <td>141.0</td>\n      <td>8.0</td>\n      <td>19.0</td>\n      <td>3092.0</td>\n      <td>258.732212</td>\n      <td>614.489004</td>\n      <td>0.0</td>\n      <td>0.421053</td>\n    </tr>\n    <tr>\n      <th>San Bartolomé de la Torre</th>\n      <td>307.0</td>\n      <td>3.0</td>\n      <td>7.0</td>\n      <td>3761.0</td>\n      <td>79.766020</td>\n      <td>186.120713</td>\n      <td>0.0</td>\n      <td>0.428571</td>\n    </tr>\n    <tr>\n      <th>Palos de la Frontera</th>\n      <td>712.0</td>\n      <td>13.0</td>\n      <td>29.0</td>\n      <td>11742.0</td>\n      <td>110.713677</td>\n      <td>246.976665</td>\n      <td>5.0</td>\n      <td>0.448276</td>\n    </tr>\n    <tr>\n      <th>Valverde del Camino</th>\n      <td>657.0</td>\n      <td>23.0</td>\n      <td>51.0</td>\n      <td>12750.0</td>\n      <td>180.392157</td>\n      <td>400.000000</td>\n      <td>0.0</td>\n      <td>0.450980</td>\n    </tr>\n    <tr>\n      <th>Bonares</th>\n      <td>294.0</td>\n      <td>5.0</td>\n      <td>11.0</td>\n      <td>6060.0</td>\n      <td>82.508251</td>\n      <td>181.518152</td>\n      <td>1.0</td>\n      <td>0.454545</td>\n    </tr>\n    <tr>\n      <th>Gibraleón</th>\n      <td>646.0</td>\n      <td>5.0</td>\n      <td>11.0</td>\n      <td>12737.0</td>\n      <td>39.255712</td>\n      <td>86.362566</td>\n      <td>0.0</td>\n      <td>0.454545</td>\n    </tr>\n    <tr>\n      <th>Trigueros</th>\n      <td>331.0</td>\n      <td>6.0</td>\n      <td>13.0</td>\n      <td>7862.0</td>\n      <td>76.316459</td>\n      <td>165.352328</td>\n      <td>0.0</td>\n      <td>0.461538</td>\n    </tr>\n    <tr>\n      <th>Condado-Campiña</th>\n      <td>10734.0</td>\n      <td>168.0</td>\n      <td>357.0</td>\n      <td>156231.0</td>\n      <td>107.533076</td>\n      <td>228.507787</td>\n      <td>24.0</td>\n      <td>0.470588</td>\n    </tr>\n    <tr>\n      <th>Punta Umbría</th>\n      <td>848.0</td>\n      <td>8.0</td>\n      <td>17.0</td>\n      <td>15355.0</td>\n      <td>52.100293</td>\n      <td>110.713123</td>\n      <td>0.0</td>\n      <td>0.470588</td>\n    </tr>\n    <tr>\n      <th>Villanueva de los Castillejos</th>\n      <td>165.0</td>\n      <td>1.0</td>\n      <td>2.0</td>\n      <td>2825.0</td>\n      <td>35.398230</td>\n      <td>70.796460</td>\n      <td>0.0</td>\n      <td>0.500000</td>\n    </tr>\n    <tr>\n      <th>Manzanilla</th>\n      <td>104.0</td>\n      <td>1.0</td>\n      <td>2.0</td>\n      <td>2118.0</td>\n      <td>47.214353</td>\n      <td>94.428706</td>\n      <td>0.0</td>\n      <td>0.500000</td>\n    </tr>\n    <tr>\n      <th>Minas de Riotinto</th>\n      <td>129.0</td>\n      <td>1.0</td>\n      <td>2.0</td>\n      <td>3812.0</td>\n      <td>26.232949</td>\n      <td>52.465897</td>\n      <td>0.0</td>\n      <td>0.500000</td>\n    </tr>\n    <tr>\n      <th>Villablanca</th>\n      <td>191.0</td>\n      <td>2.0</td>\n      <td>4.0</td>\n      <td>2885.0</td>\n      <td>69.324090</td>\n      <td>138.648180</td>\n      <td>0.0</td>\n      <td>0.500000</td>\n    </tr>\n    <tr>\n      <th>Palma del Condado (La)</th>\n      <td>1187.0</td>\n      <td>12.0</td>\n      <td>23.0</td>\n      <td>10801.0</td>\n      <td>111.100824</td>\n      <td>212.943246</td>\n      <td>3.0</td>\n      <td>0.521739</td>\n    </tr>\n    <tr>\n      <th>Lepe</th>\n      <td>2166.0</td>\n      <td>16.0</td>\n      <td>30.0</td>\n      <td>27880.0</td>\n      <td>57.388809</td>\n      <td>107.604017</td>\n      <td>0.0</td>\n      <td>0.533333</td>\n    </tr>\n    <tr>\n      <th>Isla Cristina</th>\n      <td>2179.0</td>\n      <td>14.0</td>\n      <td>26.0</td>\n      <td>21393.0</td>\n      <td>65.441967</td>\n      <td>121.535082</td>\n      <td>2.0</td>\n      <td>0.538462</td>\n    </tr>\n    <tr>\n      <th>Lucena del Puerto</th>\n      <td>267.0</td>\n      <td>6.0</td>\n      <td>11.0</td>\n      <td>3261.0</td>\n      <td>183.992640</td>\n      <td>337.319841</td>\n      <td>0.0</td>\n      <td>0.545455</td>\n    </tr>\n    <tr>\n      <th>Almonte</th>\n      <td>1905.0</td>\n      <td>33.0</td>\n      <td>58.0</td>\n      <td>24507.0</td>\n      <td>134.655405</td>\n      <td>236.667075</td>\n      <td>0.0</td>\n      <td>0.568966</td>\n    </tr>\n    <tr>\n      <th>Cartaya</th>\n      <td>1383.0</td>\n      <td>19.0</td>\n      <td>32.0</td>\n      <td>20083.0</td>\n      <td>94.607379</td>\n      <td>159.338744</td>\n      <td>3.0</td>\n      <td>0.593750</td>\n    </tr>\n    <tr>\n      <th>Cerro de Andévalo (El)</th>\n      <td>151.0</td>\n      <td>4.0</td>\n      <td>6.0</td>\n      <td>2327.0</td>\n      <td>171.895144</td>\n      <td>257.842716</td>\n      <td>0.0</td>\n      <td>0.666667</td>\n    </tr>\n    <tr>\n      <th>Beas</th>\n      <td>232.0</td>\n      <td>15.0</td>\n      <td>20.0</td>\n      <td>4341.0</td>\n      <td>345.542502</td>\n      <td>460.723336</td>\n      <td>0.0</td>\n      <td>0.750000</td>\n    </tr>\n    <tr>\n      <th>Rociana del Condado</th>\n      <td>571.0</td>\n      <td>10.0</td>\n      <td>13.0</td>\n      <td>7939.0</td>\n      <td>125.960448</td>\n      <td>163.748583</td>\n      <td>1.0</td>\n      <td>0.769231</td>\n    </tr>\n    <tr>\n      <th>Cumbres Mayores</th>\n      <td>54.0</td>\n      <td>1.0</td>\n      <td>1.0</td>\n      <td>1749.0</td>\n      <td>57.175529</td>\n      <td>57.175529</td>\n      <td>0.0</td>\n      <td>1.000000</td>\n    </tr>\n    <tr>\n      <th>Cortegana</th>\n      <td>215.0</td>\n      <td>1.0</td>\n      <td>1.0</td>\n      <td>4602.0</td>\n      <td>21.729683</td>\n      <td>21.729683</td>\n      <td>0.0</td>\n      <td>1.000000</td>\n    </tr>\n    <tr>\n      <th>Santa Bárbara de Casa</th>\n      <td>16.0</td>\n      <td>1.0</td>\n      <td>1.0</td>\n      <td>1043.0</td>\n      <td>95.877277</td>\n      <td>95.877277</td>\n      <td>0.0</td>\n      <td>1.000000</td>\n    </tr>\n    <tr>\n      <th>Zarza-Perrunal (La)</th>\n      <td>26.0</td>\n      <td>1.0</td>\n      <td>1.0</td>\n      <td>1253.0</td>\n      <td>79.808460</td>\n      <td>79.808460</td>\n      <td>0.0</td>\n      <td>1.000000</td>\n    </tr>\n  </tbody>\n</table>\n</div>"
     },
     "metadata": {},
     "execution_count": 18
    }
   ],
   "source": [
    "# Peso de la tasa de la última semana en relación con la tasa a 14 días \n",
    "# Mejor cuanto menor. Valor 1 significa que no había casos antes de 7 días.\n",
    "tabla['7/14'] = tabla['tasa7'] / tabla['tasa14']\n",
    "tabla.fillna(0).sort_values('7/14', ascending=True)"
   ]
  },
  {
   "cell_type": "code",
   "execution_count": null,
   "metadata": {},
   "outputs": [],
   "source": []
  }
 ]
}