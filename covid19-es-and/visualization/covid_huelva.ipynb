{
 "metadata": {
  "language_info": {
   "codemirror_mode": {
    "name": "ipython",
    "version": 3
   },
   "file_extension": ".py",
   "mimetype": "text/x-python",
   "name": "python",
   "nbconvert_exporter": "python",
   "pygments_lexer": "ipython3",
   "version": "3.8.6-final"
  },
  "orig_nbformat": 2,
  "kernelspec": {
   "name": "python38564bit75945252d6ba481bad4868286020c89e",
   "display_name": "Python 3.8.5 64-bit",
   "language": "python"
  }
 },
 "nbformat": 4,
 "nbformat_minor": 2,
 "cells": [
  {
   "cell_type": "code",
   "execution_count": 1,
   "metadata": {},
   "outputs": [],
   "source": [
    "import pandas as pd"
   ]
  },
  {
   "cell_type": "code",
   "execution_count": 2,
   "metadata": {},
   "outputs": [],
   "source": [
    "# FIX SSL: CERTIFICATE_VERIFY_FAILED with Python3\n",
    "# https://stackoverflow.com/a/49174340\n",
    "import ssl\n",
    "\n",
    "ssl._create_default_https_context = ssl._create_unverified_context"
   ]
  },
  {
   "cell_type": "code",
   "execution_count": 3,
   "metadata": {},
   "outputs": [],
   "source": [
    "url = 'https://www.juntadeandalucia.es/institutodeestadisticaycartografia/badea/stpivot/stpivot/Print?cube=013d884c-cfc5-4c21-9e78-e26225682afd&type=3&foto=si&ejecutaDesde=&codConsulta=38668&consTipoVisua=JP'\n",
    "fields = ['Lugar de residencia', 'Medida', 'Valor']\n",
    "df = pd.read_csv(url, delimiter=';', usecols=fields, decimal=',')"
   ]
  },
  {
   "cell_type": "code",
   "execution_count": 4,
   "metadata": {},
   "outputs": [
    {
     "output_type": "execute_result",
     "data": {
      "text/plain": [
       "                     Lugar de residencia                    Medida  \\\n",
       "0                                 Huelva                 Población   \n",
       "1                                 Huelva          Confirmados PDIA   \n",
       "2                                 Huelva  Confirmados PDIA 14 días   \n",
       "3                                 Huelva         Tasa PDIA 14 días   \n",
       "4                                 Huelva   Confirmados PDIA 7 días   \n",
       "..                                   ...                       ...   \n",
       "627  Municipio de Huelva sin especificar         Tasa PDIA 14 días   \n",
       "628  Municipio de Huelva sin especificar   Confirmados PDIA 7 días   \n",
       "629  Municipio de Huelva sin especificar        Total Confirmados    \n",
       "630  Municipio de Huelva sin especificar                   Curados   \n",
       "631  Municipio de Huelva sin especificar                Fallecidos   \n",
       "\n",
       "                  Valor  \n",
       "0                510743  \n",
       "1                 11838  \n",
       "2                   741  \n",
       "3    145,08275199072725  \n",
       "4                   435  \n",
       "..                  ...  \n",
       "627                   -  \n",
       "628                  20  \n",
       "629                 156  \n",
       "630                 115  \n",
       "631                   2  \n",
       "\n",
       "[632 rows x 3 columns]"
      ],
      "text/html": "<div>\n<style scoped>\n    .dataframe tbody tr th:only-of-type {\n        vertical-align: middle;\n    }\n\n    .dataframe tbody tr th {\n        vertical-align: top;\n    }\n\n    .dataframe thead th {\n        text-align: right;\n    }\n</style>\n<table border=\"1\" class=\"dataframe\">\n  <thead>\n    <tr style=\"text-align: right;\">\n      <th></th>\n      <th>Lugar de residencia</th>\n      <th>Medida</th>\n      <th>Valor</th>\n    </tr>\n  </thead>\n  <tbody>\n    <tr>\n      <th>0</th>\n      <td>Huelva</td>\n      <td>Población</td>\n      <td>510743</td>\n    </tr>\n    <tr>\n      <th>1</th>\n      <td>Huelva</td>\n      <td>Confirmados PDIA</td>\n      <td>11838</td>\n    </tr>\n    <tr>\n      <th>2</th>\n      <td>Huelva</td>\n      <td>Confirmados PDIA 14 días</td>\n      <td>741</td>\n    </tr>\n    <tr>\n      <th>3</th>\n      <td>Huelva</td>\n      <td>Tasa PDIA 14 días</td>\n      <td>145,08275199072725</td>\n    </tr>\n    <tr>\n      <th>4</th>\n      <td>Huelva</td>\n      <td>Confirmados PDIA 7 días</td>\n      <td>435</td>\n    </tr>\n    <tr>\n      <th>...</th>\n      <td>...</td>\n      <td>...</td>\n      <td>...</td>\n    </tr>\n    <tr>\n      <th>627</th>\n      <td>Municipio de Huelva sin especificar</td>\n      <td>Tasa PDIA 14 días</td>\n      <td>-</td>\n    </tr>\n    <tr>\n      <th>628</th>\n      <td>Municipio de Huelva sin especificar</td>\n      <td>Confirmados PDIA 7 días</td>\n      <td>20</td>\n    </tr>\n    <tr>\n      <th>629</th>\n      <td>Municipio de Huelva sin especificar</td>\n      <td>Total Confirmados</td>\n      <td>156</td>\n    </tr>\n    <tr>\n      <th>630</th>\n      <td>Municipio de Huelva sin especificar</td>\n      <td>Curados</td>\n      <td>115</td>\n    </tr>\n    <tr>\n      <th>631</th>\n      <td>Municipio de Huelva sin especificar</td>\n      <td>Fallecidos</td>\n      <td>2</td>\n    </tr>\n  </tbody>\n</table>\n<p>632 rows × 3 columns</p>\n</div>"
     },
     "metadata": {},
     "execution_count": 4
    }
   ],
   "source": [
    "df"
   ]
  },
  {
   "cell_type": "code",
   "execution_count": 5,
   "metadata": {},
   "outputs": [],
   "source": [
    "df['Valor'] = pd.to_numeric(df['Valor'],errors='coerce')"
   ]
  },
  {
   "cell_type": "code",
   "execution_count": 6,
   "metadata": {},
   "outputs": [],
   "source": [
    "dfAnterior = pd.read_csv('covid_huelva.csv', index_col='Lugar de residencia')"
   ]
  },
  {
   "cell_type": "code",
   "execution_count": 7,
   "metadata": {
    "tags": []
   },
   "outputs": [
    {
     "output_type": "stream",
     "name": "stdout",
     "text": [
      "Confirmados PCR en la provincia de Huelva:  11838.0\n"
     ]
    }
   ],
   "source": [
    "# Confirmados PCR provincia Huelva\n",
    "p = df[df['Lugar de residencia'] == 'Huelva'][df['Medida'] == 'Confirmados PDIA']['Valor'].values[0]\n",
    "print('Confirmados PCR en la provincia de Huelva: ', p)"
   ]
  },
  {
   "cell_type": "code",
   "execution_count": 8,
   "metadata": {
    "tags": []
   },
   "outputs": [
    {
     "output_type": "stream",
     "name": "stdout",
     "text": [
      "Confirmados PCR en Huelva capital:  3371.0\n"
     ]
    }
   ],
   "source": [
    "# Confirmados PCR Huelva capitalpd\n",
    "c = df[df['Lugar de residencia'] == 'Huelva (capital)'][df['Medida'] == 'Confirmados PDIA']['Valor'].values[0]\n",
    "print('Confirmados PCR en Huelva capital: ', c)"
   ]
  },
  {
   "cell_type": "code",
   "execution_count": 9,
   "metadata": {
    "tags": []
   },
   "outputs": [],
   "source": [
    "c7 = df[df['Lugar de residencia'] == 'Huelva (capital)'][df['Medida'] == 'Confirmados PDIA 7 días']['Valor'].values[0]\n",
    "c14 = df[df['Lugar de residencia'] == 'Huelva (capital)'][df['Medida'] == 'Confirmados PDIA 14 días']['Valor'].values[0]\n",
    "p = df[df['Lugar de residencia'] == 'Huelva (capital)'][df['Medida'] == 'Población']['Valor'].values[0]"
   ]
  },
  {
   "cell_type": "code",
   "execution_count": 10,
   "metadata": {
    "tags": []
   },
   "outputs": [
    {
     "output_type": "stream",
     "name": "stdout",
     "text": [
      "Huelva (capital)\n\nUn positivo PCR cada 1131 personas en los últimos 7 días \n\nUn positivo PCR cada 622 personas en los últimos 14 días\n"
     ]
    }
   ],
   "source": [
    "print('Huelva (capital)\\n')\n",
    "#print('Confirmados PCR 7 días x 1,000 habitantes: ', f\"{c7/(p/1000):.5f}\")\n",
    "print('Un positivo PCR cada', f\"{p/c7:.0f}\", 'personas en los últimos 7 días', '\\n')\n",
    "#print('Confirmados PCR 14 días x 1,000 habitantes: ', f\"{c14/(p/1000):.5f}\")\n",
    "print('Un positivo PCR cada', f\"{p/c14:.0f}\", 'personas en los últimos 14 días')"
   ]
  },
  {
   "cell_type": "code",
   "execution_count": 11,
   "metadata": {},
   "outputs": [],
   "source": [
    "filtro = ((df['Medida'] == 'Confirmados PDIA')| (df['Medida'] == 'Confirmados PDIA 7 días') | (df['Medida'] == 'Población' ) | (df['Medida'] == 'Confirmados PDIA 14 días')) & (df['Valor'] > 0)\n",
    "tabla = pd.pivot_table(df.loc[filtro], values='Valor', index='Lugar de residencia', columns='Medida').dropna()"
   ]
  },
  {
   "cell_type": "code",
   "execution_count": 12,
   "metadata": {},
   "outputs": [],
   "source": [
    "# Reorder columns\n",
    "tabla = tabla[['Confirmados PDIA', 'Confirmados PDIA 7 días', 'Confirmados PDIA 14 días', 'Población']]"
   ]
  },
  {
   "cell_type": "code",
   "execution_count": 13,
   "metadata": {},
   "outputs": [],
   "source": [
    "tabla['tasa7'] = tabla['Confirmados PDIA 7 días']/tabla['Población']*100000\n",
    "tabla['tasa14'] = tabla['Confirmados PDIA 14 días']/tabla['Población']*100000"
   ]
  },
  {
   "cell_type": "code",
   "execution_count": 14,
   "metadata": {},
   "outputs": [],
   "source": [
    "tabla['Diferencia PDIA'] = tabla['Confirmados PDIA'] - dfAnterior['Confirmados PDIA']"
   ]
  },
  {
   "cell_type": "code",
   "execution_count": 15,
   "metadata": {},
   "outputs": [
    {
     "output_type": "execute_result",
     "data": {
      "text/plain": [
       "Medida                             Confirmados PDIA  Confirmados PDIA 7 días  \\\n",
       "Lugar de residencia                                                            \n",
       "Huelva                                      11838.0                    435.0   \n",
       "Huelva-Costa                                 6756.0                    293.0   \n",
       "Huelva (capital)                             3371.0                    127.0   \n",
       "Condado-Campiña                              3585.0                     95.0   \n",
       "Sierra de Huelva-Andévalo Central            1342.0                     27.0   \n",
       "Isla Cristina                                 552.0                     83.0   \n",
       "Aljaraque                                     458.0                     13.0   \n",
       "Cartaya                                       451.0                     19.0   \n",
       "Lepe                                         1005.0                     20.0   \n",
       "Rociana del Condado                           125.0                      3.0   \n",
       "San Juan del Puerto                           162.0                      8.0   \n",
       "Ayamonte                                      363.0                     14.0   \n",
       "Valverde del Camino                           278.0                      5.0   \n",
       "Cerro de Andévalo (El)                         58.0                      6.0   \n",
       "Cortegana                                     125.0                      2.0   \n",
       "Almonte                                       454.0                      3.0   \n",
       "Calañas                                        45.0                      2.0   \n",
       "Bollullos Par del Condado                     259.0                      6.0   \n",
       "Lucena del Puerto                             112.0                      1.0   \n",
       "Moguer                                        423.0                     32.0   \n",
       "Villalba del Alcor                            106.0                      2.0   \n",
       "Aroche                                         56.0                      1.0   \n",
       "Corteconcepción                                19.0                      1.0   \n",
       "Gibraleón                                     352.0                      1.0   \n",
       "\n",
       "Medida                             Confirmados PDIA 14 días  Población  \\\n",
       "Lugar de residencia                                                      \n",
       "Huelva                                                741.0   510743.0   \n",
       "Huelva-Costa                                          487.0   288115.0   \n",
       "Huelva (capital)                                      231.0   143663.0   \n",
       "Condado-Campiña                                       168.0   155057.0   \n",
       "Sierra de Huelva-Andévalo Central                      56.0    67571.0   \n",
       "Isla Cristina                                         103.0    21264.0   \n",
       "Aljaraque                                              19.0    21260.0   \n",
       "Cartaya                                                34.0    19974.0   \n",
       "Lepe                                                   40.0    27431.0   \n",
       "Rociana del Condado                                     5.0     7855.0   \n",
       "San Juan del Puerto                                     8.0     9300.0   \n",
       "Ayamonte                                               27.0    20946.0   \n",
       "Valverde del Camino                                     5.0    12820.0   \n",
       "Cerro de Andévalo (El)                                 20.0     2364.0   \n",
       "Cortegana                                               2.0     4666.0   \n",
       "Almonte                                                10.0    24191.0   \n",
       "Calañas                                                 2.0     2791.0   \n",
       "Bollullos Par del Condado                               8.0    14272.0   \n",
       "Lucena del Puerto                                       8.0     3371.0   \n",
       "Moguer                                                 43.0    22088.0   \n",
       "Villalba del Alcor                                      3.0     3338.0   \n",
       "Aroche                                                  1.0     3073.0   \n",
       "Corteconcepción                                         1.0      548.0   \n",
       "Gibraleón                                               2.0    12607.0   \n",
       "\n",
       "Medida                                  tasa7      tasa14  Diferencia PDIA  \n",
       "Lugar de residencia                                                         \n",
       "Huelva                              85.170037  145.082752             48.0  \n",
       "Huelva-Costa                       101.695504  169.029728             30.0  \n",
       "Huelva (capital)                    88.401328  160.792967             15.0  \n",
       "Condado-Campiña                     61.267792  108.347253             10.0  \n",
       "Sierra de Huelva-Andévalo Central   39.957970   82.875790              7.0  \n",
       "Isla Cristina                      390.331076  484.386757              5.0  \n",
       "Aljaraque                           61.147695   89.369708              4.0  \n",
       "Cartaya                             95.123661  170.221288              2.0  \n",
       "Lepe                                72.910211  145.820422              2.0  \n",
       "Rociana del Condado                 38.192234   63.653724              2.0  \n",
       "San Juan del Puerto                 86.021505   86.021505              2.0  \n",
       "Ayamonte                            66.838537  128.902893              2.0  \n",
       "Valverde del Camino                 39.001560   39.001560              2.0  \n",
       "Cerro de Andévalo (El)             253.807107  846.023689              1.0  \n",
       "Cortegana                           42.863266   42.863266              1.0  \n",
       "Almonte                             12.401306   41.337688              1.0  \n",
       "Calañas                             71.658904   71.658904              1.0  \n",
       "Bollullos Par del Condado           42.040359   56.053812              1.0  \n",
       "Lucena del Puerto                   29.664788  237.318303              1.0  \n",
       "Moguer                             144.875045  194.675842              1.0  \n",
       "Villalba del Alcor                  59.916117   89.874176              1.0  \n",
       "Aroche                              32.541490   32.541490              NaN  \n",
       "Corteconcepción                    182.481752  182.481752              NaN  \n",
       "Gibraleón                            7.932101   15.864202              NaN  "
      ],
      "text/html": "<div>\n<style scoped>\n    .dataframe tbody tr th:only-of-type {\n        vertical-align: middle;\n    }\n\n    .dataframe tbody tr th {\n        vertical-align: top;\n    }\n\n    .dataframe thead th {\n        text-align: right;\n    }\n</style>\n<table border=\"1\" class=\"dataframe\">\n  <thead>\n    <tr style=\"text-align: right;\">\n      <th>Medida</th>\n      <th>Confirmados PDIA</th>\n      <th>Confirmados PDIA 7 días</th>\n      <th>Confirmados PDIA 14 días</th>\n      <th>Población</th>\n      <th>tasa7</th>\n      <th>tasa14</th>\n      <th>Diferencia PDIA</th>\n    </tr>\n    <tr>\n      <th>Lugar de residencia</th>\n      <th></th>\n      <th></th>\n      <th></th>\n      <th></th>\n      <th></th>\n      <th></th>\n      <th></th>\n    </tr>\n  </thead>\n  <tbody>\n    <tr>\n      <th>Huelva</th>\n      <td>11838.0</td>\n      <td>435.0</td>\n      <td>741.0</td>\n      <td>510743.0</td>\n      <td>85.170037</td>\n      <td>145.082752</td>\n      <td>48.0</td>\n    </tr>\n    <tr>\n      <th>Huelva-Costa</th>\n      <td>6756.0</td>\n      <td>293.0</td>\n      <td>487.0</td>\n      <td>288115.0</td>\n      <td>101.695504</td>\n      <td>169.029728</td>\n      <td>30.0</td>\n    </tr>\n    <tr>\n      <th>Huelva (capital)</th>\n      <td>3371.0</td>\n      <td>127.0</td>\n      <td>231.0</td>\n      <td>143663.0</td>\n      <td>88.401328</td>\n      <td>160.792967</td>\n      <td>15.0</td>\n    </tr>\n    <tr>\n      <th>Condado-Campiña</th>\n      <td>3585.0</td>\n      <td>95.0</td>\n      <td>168.0</td>\n      <td>155057.0</td>\n      <td>61.267792</td>\n      <td>108.347253</td>\n      <td>10.0</td>\n    </tr>\n    <tr>\n      <th>Sierra de Huelva-Andévalo Central</th>\n      <td>1342.0</td>\n      <td>27.0</td>\n      <td>56.0</td>\n      <td>67571.0</td>\n      <td>39.957970</td>\n      <td>82.875790</td>\n      <td>7.0</td>\n    </tr>\n    <tr>\n      <th>Isla Cristina</th>\n      <td>552.0</td>\n      <td>83.0</td>\n      <td>103.0</td>\n      <td>21264.0</td>\n      <td>390.331076</td>\n      <td>484.386757</td>\n      <td>5.0</td>\n    </tr>\n    <tr>\n      <th>Aljaraque</th>\n      <td>458.0</td>\n      <td>13.0</td>\n      <td>19.0</td>\n      <td>21260.0</td>\n      <td>61.147695</td>\n      <td>89.369708</td>\n      <td>4.0</td>\n    </tr>\n    <tr>\n      <th>Cartaya</th>\n      <td>451.0</td>\n      <td>19.0</td>\n      <td>34.0</td>\n      <td>19974.0</td>\n      <td>95.123661</td>\n      <td>170.221288</td>\n      <td>2.0</td>\n    </tr>\n    <tr>\n      <th>Lepe</th>\n      <td>1005.0</td>\n      <td>20.0</td>\n      <td>40.0</td>\n      <td>27431.0</td>\n      <td>72.910211</td>\n      <td>145.820422</td>\n      <td>2.0</td>\n    </tr>\n    <tr>\n      <th>Rociana del Condado</th>\n      <td>125.0</td>\n      <td>3.0</td>\n      <td>5.0</td>\n      <td>7855.0</td>\n      <td>38.192234</td>\n      <td>63.653724</td>\n      <td>2.0</td>\n    </tr>\n    <tr>\n      <th>San Juan del Puerto</th>\n      <td>162.0</td>\n      <td>8.0</td>\n      <td>8.0</td>\n      <td>9300.0</td>\n      <td>86.021505</td>\n      <td>86.021505</td>\n      <td>2.0</td>\n    </tr>\n    <tr>\n      <th>Ayamonte</th>\n      <td>363.0</td>\n      <td>14.0</td>\n      <td>27.0</td>\n      <td>20946.0</td>\n      <td>66.838537</td>\n      <td>128.902893</td>\n      <td>2.0</td>\n    </tr>\n    <tr>\n      <th>Valverde del Camino</th>\n      <td>278.0</td>\n      <td>5.0</td>\n      <td>5.0</td>\n      <td>12820.0</td>\n      <td>39.001560</td>\n      <td>39.001560</td>\n      <td>2.0</td>\n    </tr>\n    <tr>\n      <th>Cerro de Andévalo (El)</th>\n      <td>58.0</td>\n      <td>6.0</td>\n      <td>20.0</td>\n      <td>2364.0</td>\n      <td>253.807107</td>\n      <td>846.023689</td>\n      <td>1.0</td>\n    </tr>\n    <tr>\n      <th>Cortegana</th>\n      <td>125.0</td>\n      <td>2.0</td>\n      <td>2.0</td>\n      <td>4666.0</td>\n      <td>42.863266</td>\n      <td>42.863266</td>\n      <td>1.0</td>\n    </tr>\n    <tr>\n      <th>Almonte</th>\n      <td>454.0</td>\n      <td>3.0</td>\n      <td>10.0</td>\n      <td>24191.0</td>\n      <td>12.401306</td>\n      <td>41.337688</td>\n      <td>1.0</td>\n    </tr>\n    <tr>\n      <th>Calañas</th>\n      <td>45.0</td>\n      <td>2.0</td>\n      <td>2.0</td>\n      <td>2791.0</td>\n      <td>71.658904</td>\n      <td>71.658904</td>\n      <td>1.0</td>\n    </tr>\n    <tr>\n      <th>Bollullos Par del Condado</th>\n      <td>259.0</td>\n      <td>6.0</td>\n      <td>8.0</td>\n      <td>14272.0</td>\n      <td>42.040359</td>\n      <td>56.053812</td>\n      <td>1.0</td>\n    </tr>\n    <tr>\n      <th>Lucena del Puerto</th>\n      <td>112.0</td>\n      <td>1.0</td>\n      <td>8.0</td>\n      <td>3371.0</td>\n      <td>29.664788</td>\n      <td>237.318303</td>\n      <td>1.0</td>\n    </tr>\n    <tr>\n      <th>Moguer</th>\n      <td>423.0</td>\n      <td>32.0</td>\n      <td>43.0</td>\n      <td>22088.0</td>\n      <td>144.875045</td>\n      <td>194.675842</td>\n      <td>1.0</td>\n    </tr>\n    <tr>\n      <th>Villalba del Alcor</th>\n      <td>106.0</td>\n      <td>2.0</td>\n      <td>3.0</td>\n      <td>3338.0</td>\n      <td>59.916117</td>\n      <td>89.874176</td>\n      <td>1.0</td>\n    </tr>\n    <tr>\n      <th>Aroche</th>\n      <td>56.0</td>\n      <td>1.0</td>\n      <td>1.0</td>\n      <td>3073.0</td>\n      <td>32.541490</td>\n      <td>32.541490</td>\n      <td>NaN</td>\n    </tr>\n    <tr>\n      <th>Corteconcepción</th>\n      <td>19.0</td>\n      <td>1.0</td>\n      <td>1.0</td>\n      <td>548.0</td>\n      <td>182.481752</td>\n      <td>182.481752</td>\n      <td>NaN</td>\n    </tr>\n    <tr>\n      <th>Gibraleón</th>\n      <td>352.0</td>\n      <td>1.0</td>\n      <td>2.0</td>\n      <td>12607.0</td>\n      <td>7.932101</td>\n      <td>15.864202</td>\n      <td>NaN</td>\n    </tr>\n  </tbody>\n</table>\n</div>"
     },
     "metadata": {},
     "execution_count": 15
    }
   ],
   "source": [
    "# Nuevos casos desde la última captura\n",
    "tabla[tabla['Diferencia PDIA'] != 0].sort_values('Diferencia PDIA', ascending=False)"
   ]
  },
  {
   "cell_type": "code",
   "execution_count": 16,
   "metadata": {},
   "outputs": [],
   "source": [
    "if tabla[tabla['Diferencia PDIA'] != 0]['Diferencia PDIA'].sum() > 0:\n",
    "  # Save to csv\n",
    "  tabla.to_csv('covid_huelva.csv', encoding='utf-8', header=True, index=True)  "
   ]
  },
  {
   "cell_type": "code",
   "execution_count": 17,
   "metadata": {},
   "outputs": [
    {
     "output_type": "execute_result",
     "data": {
      "text/plain": [
       "Medida                             Confirmados PDIA  Confirmados PDIA 7 días  \\\n",
       "Lugar de residencia                                                            \n",
       "Cerro de Andévalo (El)                         58.0                      6.0   \n",
       "Almendro (El)                                  21.0                      5.0   \n",
       "Cumbres Mayores                                19.0                      2.0   \n",
       "Isla Cristina                                 552.0                     83.0   \n",
       "Villablanca                                    69.0                      2.0   \n",
       "Palma del Condado (La)                        581.0                     20.0   \n",
       "Lucena del Puerto                             112.0                      1.0   \n",
       "Moguer                                        423.0                     32.0   \n",
       "Corteconcepción                                19.0                      1.0   \n",
       "Palos de la Frontera                          271.0                     10.0   \n",
       "Escacena del Campo                            101.0                      3.0   \n",
       "Cartaya                                       451.0                     19.0   \n",
       "Huelva-Costa                                 6756.0                    293.0   \n",
       "Huelva (capital)                             3371.0                    127.0   \n",
       "Lepe                                         1005.0                     20.0   \n",
       "Huelva                                      11838.0                    435.0   \n",
       "Ayamonte                                      363.0                     14.0   \n",
       "Bonares                                        72.0                      4.0   \n",
       "Almonaster la Real                             35.0                      2.0   \n",
       "Condado-Campiña                              3585.0                     95.0   \n",
       "Alosno                                         48.0                      4.0   \n",
       "Villalba del Alcor                            106.0                      2.0   \n",
       "Aljaraque                                     458.0                     13.0   \n",
       "San Juan del Puerto                           162.0                      8.0   \n",
       "Sierra de Huelva-Andévalo Central            1342.0                     27.0   \n",
       "Encinasola                                     10.0                      1.0   \n",
       "Aracena                                       293.0                      4.0   \n",
       "Punta Umbría                                  246.0                      5.0   \n",
       "Calañas                                        45.0                      2.0   \n",
       "Rociana del Condado                           125.0                      3.0   \n",
       "Bollullos Par del Condado                     259.0                      6.0   \n",
       "Cortegana                                     125.0                      2.0   \n",
       "Almonte                                       454.0                      3.0   \n",
       "Valverde del Camino                           278.0                      5.0   \n",
       "Nerva                                          89.0                      1.0   \n",
       "Villanueva de los Castillejos                  65.0                      1.0   \n",
       "Aroche                                         56.0                      1.0   \n",
       "San Bartolomé de la Torre                      46.0                      1.0   \n",
       "Niebla                                        118.0                      1.0   \n",
       "Gibraleón                                     352.0                      1.0   \n",
       "\n",
       "Medida                             Confirmados PDIA 14 días  Población  \\\n",
       "Lugar de residencia                                                      \n",
       "Cerro de Andévalo (El)                                 20.0     2364.0   \n",
       "Almendro (El)                                           5.0      826.0   \n",
       "Cumbres Mayores                                        10.0     1755.0   \n",
       "Isla Cristina                                         103.0    21264.0   \n",
       "Villablanca                                            12.0     2848.0   \n",
       "Palma del Condado (La)                                 39.0    10761.0   \n",
       "Lucena del Puerto                                       8.0     3371.0   \n",
       "Moguer                                                 43.0    22088.0   \n",
       "Corteconcepción                                         1.0      548.0   \n",
       "Palos de la Frontera                                   20.0    11289.0   \n",
       "Escacena del Campo                                      4.0     2284.0   \n",
       "Cartaya                                                34.0    19974.0   \n",
       "Huelva-Costa                                          487.0   288115.0   \n",
       "Huelva (capital)                                      231.0   143663.0   \n",
       "Lepe                                                   40.0    27431.0   \n",
       "Huelva                                                741.0   510743.0   \n",
       "Ayamonte                                               27.0    20946.0   \n",
       "Bonares                                                 7.0     6058.0   \n",
       "Almonaster la Real                                      2.0     1819.0   \n",
       "Condado-Campiña                                       168.0   155057.0   \n",
       "Alosno                                                  4.0     3923.0   \n",
       "Villalba del Alcor                                      3.0     3338.0   \n",
       "Aljaraque                                              19.0    21260.0   \n",
       "San Juan del Puerto                                     8.0     9300.0   \n",
       "Sierra de Huelva-Andévalo Central                      56.0    67571.0   \n",
       "Encinasola                                              1.0     1305.0   \n",
       "Aracena                                                 6.0     8107.0   \n",
       "Punta Umbría                                           11.0    15242.0   \n",
       "Calañas                                                 2.0     2791.0   \n",
       "Rociana del Condado                                     5.0     7855.0   \n",
       "Bollullos Par del Condado                               8.0    14272.0   \n",
       "Cortegana                                               2.0     4666.0   \n",
       "Almonte                                                10.0    24191.0   \n",
       "Valverde del Camino                                     5.0    12820.0   \n",
       "Nerva                                                   2.0     5235.0   \n",
       "Villanueva de los Castillejos                           1.0     2820.0   \n",
       "Aroche                                                  1.0     3073.0   \n",
       "San Bartolomé de la Torre                               1.0     3736.0   \n",
       "Niebla                                                  1.0     4117.0   \n",
       "Gibraleón                                               2.0    12607.0   \n",
       "\n",
       "Medida                                  tasa7      tasa14  Diferencia PDIA  \n",
       "Lugar de residencia                                                         \n",
       "Cerro de Andévalo (El)             253.807107  846.023689              1.0  \n",
       "Almendro (El)                      605.326877  605.326877              0.0  \n",
       "Cumbres Mayores                    113.960114  569.800570              0.0  \n",
       "Isla Cristina                      390.331076  484.386757              5.0  \n",
       "Villablanca                         70.224719  421.348315              0.0  \n",
       "Palma del Condado (La)             185.856333  362.419849              0.0  \n",
       "Lucena del Puerto                   29.664788  237.318303              1.0  \n",
       "Moguer                             144.875045  194.675842              1.0  \n",
       "Corteconcepción                    182.481752  182.481752              NaN  \n",
       "Palos de la Frontera                88.581805  177.163611              0.0  \n",
       "Escacena del Campo                 131.348511  175.131349              0.0  \n",
       "Cartaya                             95.123661  170.221288              2.0  \n",
       "Huelva-Costa                       101.695504  169.029728             30.0  \n",
       "Huelva (capital)                    88.401328  160.792967             15.0  \n",
       "Lepe                                72.910211  145.820422              2.0  \n",
       "Huelva                              85.170037  145.082752             48.0  \n",
       "Ayamonte                            66.838537  128.902893              2.0  \n",
       "Bonares                             66.028392  115.549686              0.0  \n",
       "Almonaster la Real                 109.950522  109.950522              0.0  \n",
       "Condado-Campiña                     61.267792  108.347253             10.0  \n",
       "Alosno                             101.962784  101.962784              0.0  \n",
       "Villalba del Alcor                  59.916117   89.874176              1.0  \n",
       "Aljaraque                           61.147695   89.369708              4.0  \n",
       "San Juan del Puerto                 86.021505   86.021505              2.0  \n",
       "Sierra de Huelva-Andévalo Central   39.957970   82.875790              7.0  \n",
       "Encinasola                          76.628352   76.628352              0.0  \n",
       "Aracena                             49.340076   74.010115              0.0  \n",
       "Punta Umbría                        32.804094   72.169007              0.0  \n",
       "Calañas                             71.658904   71.658904              1.0  \n",
       "Rociana del Condado                 38.192234   63.653724              2.0  \n",
       "Bollullos Par del Condado           42.040359   56.053812              1.0  \n",
       "Cortegana                           42.863266   42.863266              1.0  \n",
       "Almonte                             12.401306   41.337688              1.0  \n",
       "Valverde del Camino                 39.001560   39.001560              2.0  \n",
       "Nerva                               19.102197   38.204394              0.0  \n",
       "Villanueva de los Castillejos       35.460993   35.460993              0.0  \n",
       "Aroche                              32.541490   32.541490              NaN  \n",
       "San Bartolomé de la Torre           26.766595   26.766595              0.0  \n",
       "Niebla                              24.289531   24.289531              0.0  \n",
       "Gibraleón                            7.932101   15.864202              NaN  "
      ],
      "text/html": "<div>\n<style scoped>\n    .dataframe tbody tr th:only-of-type {\n        vertical-align: middle;\n    }\n\n    .dataframe tbody tr th {\n        vertical-align: top;\n    }\n\n    .dataframe thead th {\n        text-align: right;\n    }\n</style>\n<table border=\"1\" class=\"dataframe\">\n  <thead>\n    <tr style=\"text-align: right;\">\n      <th>Medida</th>\n      <th>Confirmados PDIA</th>\n      <th>Confirmados PDIA 7 días</th>\n      <th>Confirmados PDIA 14 días</th>\n      <th>Población</th>\n      <th>tasa7</th>\n      <th>tasa14</th>\n      <th>Diferencia PDIA</th>\n    </tr>\n    <tr>\n      <th>Lugar de residencia</th>\n      <th></th>\n      <th></th>\n      <th></th>\n      <th></th>\n      <th></th>\n      <th></th>\n      <th></th>\n    </tr>\n  </thead>\n  <tbody>\n    <tr>\n      <th>Cerro de Andévalo (El)</th>\n      <td>58.0</td>\n      <td>6.0</td>\n      <td>20.0</td>\n      <td>2364.0</td>\n      <td>253.807107</td>\n      <td>846.023689</td>\n      <td>1.0</td>\n    </tr>\n    <tr>\n      <th>Almendro (El)</th>\n      <td>21.0</td>\n      <td>5.0</td>\n      <td>5.0</td>\n      <td>826.0</td>\n      <td>605.326877</td>\n      <td>605.326877</td>\n      <td>0.0</td>\n    </tr>\n    <tr>\n      <th>Cumbres Mayores</th>\n      <td>19.0</td>\n      <td>2.0</td>\n      <td>10.0</td>\n      <td>1755.0</td>\n      <td>113.960114</td>\n      <td>569.800570</td>\n      <td>0.0</td>\n    </tr>\n    <tr>\n      <th>Isla Cristina</th>\n      <td>552.0</td>\n      <td>83.0</td>\n      <td>103.0</td>\n      <td>21264.0</td>\n      <td>390.331076</td>\n      <td>484.386757</td>\n      <td>5.0</td>\n    </tr>\n    <tr>\n      <th>Villablanca</th>\n      <td>69.0</td>\n      <td>2.0</td>\n      <td>12.0</td>\n      <td>2848.0</td>\n      <td>70.224719</td>\n      <td>421.348315</td>\n      <td>0.0</td>\n    </tr>\n    <tr>\n      <th>Palma del Condado (La)</th>\n      <td>581.0</td>\n      <td>20.0</td>\n      <td>39.0</td>\n      <td>10761.0</td>\n      <td>185.856333</td>\n      <td>362.419849</td>\n      <td>0.0</td>\n    </tr>\n    <tr>\n      <th>Lucena del Puerto</th>\n      <td>112.0</td>\n      <td>1.0</td>\n      <td>8.0</td>\n      <td>3371.0</td>\n      <td>29.664788</td>\n      <td>237.318303</td>\n      <td>1.0</td>\n    </tr>\n    <tr>\n      <th>Moguer</th>\n      <td>423.0</td>\n      <td>32.0</td>\n      <td>43.0</td>\n      <td>22088.0</td>\n      <td>144.875045</td>\n      <td>194.675842</td>\n      <td>1.0</td>\n    </tr>\n    <tr>\n      <th>Corteconcepción</th>\n      <td>19.0</td>\n      <td>1.0</td>\n      <td>1.0</td>\n      <td>548.0</td>\n      <td>182.481752</td>\n      <td>182.481752</td>\n      <td>NaN</td>\n    </tr>\n    <tr>\n      <th>Palos de la Frontera</th>\n      <td>271.0</td>\n      <td>10.0</td>\n      <td>20.0</td>\n      <td>11289.0</td>\n      <td>88.581805</td>\n      <td>177.163611</td>\n      <td>0.0</td>\n    </tr>\n    <tr>\n      <th>Escacena del Campo</th>\n      <td>101.0</td>\n      <td>3.0</td>\n      <td>4.0</td>\n      <td>2284.0</td>\n      <td>131.348511</td>\n      <td>175.131349</td>\n      <td>0.0</td>\n    </tr>\n    <tr>\n      <th>Cartaya</th>\n      <td>451.0</td>\n      <td>19.0</td>\n      <td>34.0</td>\n      <td>19974.0</td>\n      <td>95.123661</td>\n      <td>170.221288</td>\n      <td>2.0</td>\n    </tr>\n    <tr>\n      <th>Huelva-Costa</th>\n      <td>6756.0</td>\n      <td>293.0</td>\n      <td>487.0</td>\n      <td>288115.0</td>\n      <td>101.695504</td>\n      <td>169.029728</td>\n      <td>30.0</td>\n    </tr>\n    <tr>\n      <th>Huelva (capital)</th>\n      <td>3371.0</td>\n      <td>127.0</td>\n      <td>231.0</td>\n      <td>143663.0</td>\n      <td>88.401328</td>\n      <td>160.792967</td>\n      <td>15.0</td>\n    </tr>\n    <tr>\n      <th>Lepe</th>\n      <td>1005.0</td>\n      <td>20.0</td>\n      <td>40.0</td>\n      <td>27431.0</td>\n      <td>72.910211</td>\n      <td>145.820422</td>\n      <td>2.0</td>\n    </tr>\n    <tr>\n      <th>Huelva</th>\n      <td>11838.0</td>\n      <td>435.0</td>\n      <td>741.0</td>\n      <td>510743.0</td>\n      <td>85.170037</td>\n      <td>145.082752</td>\n      <td>48.0</td>\n    </tr>\n    <tr>\n      <th>Ayamonte</th>\n      <td>363.0</td>\n      <td>14.0</td>\n      <td>27.0</td>\n      <td>20946.0</td>\n      <td>66.838537</td>\n      <td>128.902893</td>\n      <td>2.0</td>\n    </tr>\n    <tr>\n      <th>Bonares</th>\n      <td>72.0</td>\n      <td>4.0</td>\n      <td>7.0</td>\n      <td>6058.0</td>\n      <td>66.028392</td>\n      <td>115.549686</td>\n      <td>0.0</td>\n    </tr>\n    <tr>\n      <th>Almonaster la Real</th>\n      <td>35.0</td>\n      <td>2.0</td>\n      <td>2.0</td>\n      <td>1819.0</td>\n      <td>109.950522</td>\n      <td>109.950522</td>\n      <td>0.0</td>\n    </tr>\n    <tr>\n      <th>Condado-Campiña</th>\n      <td>3585.0</td>\n      <td>95.0</td>\n      <td>168.0</td>\n      <td>155057.0</td>\n      <td>61.267792</td>\n      <td>108.347253</td>\n      <td>10.0</td>\n    </tr>\n    <tr>\n      <th>Alosno</th>\n      <td>48.0</td>\n      <td>4.0</td>\n      <td>4.0</td>\n      <td>3923.0</td>\n      <td>101.962784</td>\n      <td>101.962784</td>\n      <td>0.0</td>\n    </tr>\n    <tr>\n      <th>Villalba del Alcor</th>\n      <td>106.0</td>\n      <td>2.0</td>\n      <td>3.0</td>\n      <td>3338.0</td>\n      <td>59.916117</td>\n      <td>89.874176</td>\n      <td>1.0</td>\n    </tr>\n    <tr>\n      <th>Aljaraque</th>\n      <td>458.0</td>\n      <td>13.0</td>\n      <td>19.0</td>\n      <td>21260.0</td>\n      <td>61.147695</td>\n      <td>89.369708</td>\n      <td>4.0</td>\n    </tr>\n    <tr>\n      <th>San Juan del Puerto</th>\n      <td>162.0</td>\n      <td>8.0</td>\n      <td>8.0</td>\n      <td>9300.0</td>\n      <td>86.021505</td>\n      <td>86.021505</td>\n      <td>2.0</td>\n    </tr>\n    <tr>\n      <th>Sierra de Huelva-Andévalo Central</th>\n      <td>1342.0</td>\n      <td>27.0</td>\n      <td>56.0</td>\n      <td>67571.0</td>\n      <td>39.957970</td>\n      <td>82.875790</td>\n      <td>7.0</td>\n    </tr>\n    <tr>\n      <th>Encinasola</th>\n      <td>10.0</td>\n      <td>1.0</td>\n      <td>1.0</td>\n      <td>1305.0</td>\n      <td>76.628352</td>\n      <td>76.628352</td>\n      <td>0.0</td>\n    </tr>\n    <tr>\n      <th>Aracena</th>\n      <td>293.0</td>\n      <td>4.0</td>\n      <td>6.0</td>\n      <td>8107.0</td>\n      <td>49.340076</td>\n      <td>74.010115</td>\n      <td>0.0</td>\n    </tr>\n    <tr>\n      <th>Punta Umbría</th>\n      <td>246.0</td>\n      <td>5.0</td>\n      <td>11.0</td>\n      <td>15242.0</td>\n      <td>32.804094</td>\n      <td>72.169007</td>\n      <td>0.0</td>\n    </tr>\n    <tr>\n      <th>Calañas</th>\n      <td>45.0</td>\n      <td>2.0</td>\n      <td>2.0</td>\n      <td>2791.0</td>\n      <td>71.658904</td>\n      <td>71.658904</td>\n      <td>1.0</td>\n    </tr>\n    <tr>\n      <th>Rociana del Condado</th>\n      <td>125.0</td>\n      <td>3.0</td>\n      <td>5.0</td>\n      <td>7855.0</td>\n      <td>38.192234</td>\n      <td>63.653724</td>\n      <td>2.0</td>\n    </tr>\n    <tr>\n      <th>Bollullos Par del Condado</th>\n      <td>259.0</td>\n      <td>6.0</td>\n      <td>8.0</td>\n      <td>14272.0</td>\n      <td>42.040359</td>\n      <td>56.053812</td>\n      <td>1.0</td>\n    </tr>\n    <tr>\n      <th>Cortegana</th>\n      <td>125.0</td>\n      <td>2.0</td>\n      <td>2.0</td>\n      <td>4666.0</td>\n      <td>42.863266</td>\n      <td>42.863266</td>\n      <td>1.0</td>\n    </tr>\n    <tr>\n      <th>Almonte</th>\n      <td>454.0</td>\n      <td>3.0</td>\n      <td>10.0</td>\n      <td>24191.0</td>\n      <td>12.401306</td>\n      <td>41.337688</td>\n      <td>1.0</td>\n    </tr>\n    <tr>\n      <th>Valverde del Camino</th>\n      <td>278.0</td>\n      <td>5.0</td>\n      <td>5.0</td>\n      <td>12820.0</td>\n      <td>39.001560</td>\n      <td>39.001560</td>\n      <td>2.0</td>\n    </tr>\n    <tr>\n      <th>Nerva</th>\n      <td>89.0</td>\n      <td>1.0</td>\n      <td>2.0</td>\n      <td>5235.0</td>\n      <td>19.102197</td>\n      <td>38.204394</td>\n      <td>0.0</td>\n    </tr>\n    <tr>\n      <th>Villanueva de los Castillejos</th>\n      <td>65.0</td>\n      <td>1.0</td>\n      <td>1.0</td>\n      <td>2820.0</td>\n      <td>35.460993</td>\n      <td>35.460993</td>\n      <td>0.0</td>\n    </tr>\n    <tr>\n      <th>Aroche</th>\n      <td>56.0</td>\n      <td>1.0</td>\n      <td>1.0</td>\n      <td>3073.0</td>\n      <td>32.541490</td>\n      <td>32.541490</td>\n      <td>NaN</td>\n    </tr>\n    <tr>\n      <th>San Bartolomé de la Torre</th>\n      <td>46.0</td>\n      <td>1.0</td>\n      <td>1.0</td>\n      <td>3736.0</td>\n      <td>26.766595</td>\n      <td>26.766595</td>\n      <td>0.0</td>\n    </tr>\n    <tr>\n      <th>Niebla</th>\n      <td>118.0</td>\n      <td>1.0</td>\n      <td>1.0</td>\n      <td>4117.0</td>\n      <td>24.289531</td>\n      <td>24.289531</td>\n      <td>0.0</td>\n    </tr>\n    <tr>\n      <th>Gibraleón</th>\n      <td>352.0</td>\n      <td>1.0</td>\n      <td>2.0</td>\n      <td>12607.0</td>\n      <td>7.932101</td>\n      <td>15.864202</td>\n      <td>NaN</td>\n    </tr>\n  </tbody>\n</table>\n</div>"
     },
     "metadata": {},
     "execution_count": 17
    }
   ],
   "source": [
    "tabla.sort_values('tasa14', ascending=False)"
   ]
  },
  {
   "cell_type": "code",
   "execution_count": 18,
   "metadata": {},
   "outputs": [
    {
     "output_type": "execute_result",
     "data": {
      "text/plain": [
       "Medida                             Confirmados PDIA  Confirmados PDIA 7 días  \\\n",
       "Lugar de residencia                                                            \n",
       "Lucena del Puerto                             112.0                      1.0   \n",
       "Villablanca                                    69.0                      2.0   \n",
       "Cumbres Mayores                                19.0                      2.0   \n",
       "Almonte                                       454.0                      3.0   \n",
       "Cerro de Andévalo (El)                         58.0                      6.0   \n",
       "Punta Umbría                                  246.0                      5.0   \n",
       "Sierra de Huelva-Andévalo Central            1342.0                     27.0   \n",
       "Gibraleón                                     352.0                      1.0   \n",
       "Lepe                                         1005.0                     20.0   \n",
       "Palos de la Frontera                          271.0                     10.0   \n",
       "Nerva                                          89.0                      1.0   \n",
       "Palma del Condado (La)                        581.0                     20.0   \n",
       "Ayamonte                                      363.0                     14.0   \n",
       "Huelva (capital)                             3371.0                    127.0   \n",
       "Cartaya                                       451.0                     19.0   \n",
       "Condado-Campiña                              3585.0                     95.0   \n",
       "Bonares                                        72.0                      4.0   \n",
       "Huelva                                      11838.0                    435.0   \n",
       "Rociana del Condado                           125.0                      3.0   \n",
       "Huelva-Costa                                 6756.0                    293.0   \n",
       "Aracena                                       293.0                      4.0   \n",
       "Villalba del Alcor                            106.0                      2.0   \n",
       "Aljaraque                                     458.0                     13.0   \n",
       "Moguer                                        423.0                     32.0   \n",
       "Escacena del Campo                            101.0                      3.0   \n",
       "Bollullos Par del Condado                     259.0                      6.0   \n",
       "Isla Cristina                                 552.0                     83.0   \n",
       "Almendro (El)                                  21.0                      5.0   \n",
       "Valverde del Camino                           278.0                      5.0   \n",
       "Almonaster la Real                             35.0                      2.0   \n",
       "San Juan del Puerto                           162.0                      8.0   \n",
       "San Bartolomé de la Torre                      46.0                      1.0   \n",
       "Aroche                                         56.0                      1.0   \n",
       "Calañas                                        45.0                      2.0   \n",
       "Niebla                                        118.0                      1.0   \n",
       "Corteconcepción                                19.0                      1.0   \n",
       "Cortegana                                     125.0                      2.0   \n",
       "Encinasola                                     10.0                      1.0   \n",
       "Alosno                                         48.0                      4.0   \n",
       "Villanueva de los Castillejos                  65.0                      1.0   \n",
       "\n",
       "Medida                             Confirmados PDIA 14 días  Población  \\\n",
       "Lugar de residencia                                                      \n",
       "Lucena del Puerto                                       8.0     3371.0   \n",
       "Villablanca                                            12.0     2848.0   \n",
       "Cumbres Mayores                                        10.0     1755.0   \n",
       "Almonte                                                10.0    24191.0   \n",
       "Cerro de Andévalo (El)                                 20.0     2364.0   \n",
       "Punta Umbría                                           11.0    15242.0   \n",
       "Sierra de Huelva-Andévalo Central                      56.0    67571.0   \n",
       "Gibraleón                                               2.0    12607.0   \n",
       "Lepe                                                   40.0    27431.0   \n",
       "Palos de la Frontera                                   20.0    11289.0   \n",
       "Nerva                                                   2.0     5235.0   \n",
       "Palma del Condado (La)                                 39.0    10761.0   \n",
       "Ayamonte                                               27.0    20946.0   \n",
       "Huelva (capital)                                      231.0   143663.0   \n",
       "Cartaya                                                34.0    19974.0   \n",
       "Condado-Campiña                                       168.0   155057.0   \n",
       "Bonares                                                 7.0     6058.0   \n",
       "Huelva                                                741.0   510743.0   \n",
       "Rociana del Condado                                     5.0     7855.0   \n",
       "Huelva-Costa                                          487.0   288115.0   \n",
       "Aracena                                                 6.0     8107.0   \n",
       "Villalba del Alcor                                      3.0     3338.0   \n",
       "Aljaraque                                              19.0    21260.0   \n",
       "Moguer                                                 43.0    22088.0   \n",
       "Escacena del Campo                                      4.0     2284.0   \n",
       "Bollullos Par del Condado                               8.0    14272.0   \n",
       "Isla Cristina                                         103.0    21264.0   \n",
       "Almendro (El)                                           5.0      826.0   \n",
       "Valverde del Camino                                     5.0    12820.0   \n",
       "Almonaster la Real                                      2.0     1819.0   \n",
       "San Juan del Puerto                                     8.0     9300.0   \n",
       "San Bartolomé de la Torre                               1.0     3736.0   \n",
       "Aroche                                                  1.0     3073.0   \n",
       "Calañas                                                 2.0     2791.0   \n",
       "Niebla                                                  1.0     4117.0   \n",
       "Corteconcepción                                         1.0      548.0   \n",
       "Cortegana                                               2.0     4666.0   \n",
       "Encinasola                                              1.0     1305.0   \n",
       "Alosno                                                  4.0     3923.0   \n",
       "Villanueva de los Castillejos                           1.0     2820.0   \n",
       "\n",
       "Medida                                  tasa7      tasa14  Diferencia PDIA  \\\n",
       "Lugar de residencia                                                          \n",
       "Lucena del Puerto                   29.664788  237.318303              1.0   \n",
       "Villablanca                         70.224719  421.348315              0.0   \n",
       "Cumbres Mayores                    113.960114  569.800570              0.0   \n",
       "Almonte                             12.401306   41.337688              1.0   \n",
       "Cerro de Andévalo (El)             253.807107  846.023689              1.0   \n",
       "Punta Umbría                        32.804094   72.169007              0.0   \n",
       "Sierra de Huelva-Andévalo Central   39.957970   82.875790              7.0   \n",
       "Gibraleón                            7.932101   15.864202              0.0   \n",
       "Lepe                                72.910211  145.820422              2.0   \n",
       "Palos de la Frontera                88.581805  177.163611              0.0   \n",
       "Nerva                               19.102197   38.204394              0.0   \n",
       "Palma del Condado (La)             185.856333  362.419849              0.0   \n",
       "Ayamonte                            66.838537  128.902893              2.0   \n",
       "Huelva (capital)                    88.401328  160.792967             15.0   \n",
       "Cartaya                             95.123661  170.221288              2.0   \n",
       "Condado-Campiña                     61.267792  108.347253             10.0   \n",
       "Bonares                             66.028392  115.549686              0.0   \n",
       "Huelva                              85.170037  145.082752             48.0   \n",
       "Rociana del Condado                 38.192234   63.653724              2.0   \n",
       "Huelva-Costa                       101.695504  169.029728             30.0   \n",
       "Aracena                             49.340076   74.010115              0.0   \n",
       "Villalba del Alcor                  59.916117   89.874176              1.0   \n",
       "Aljaraque                           61.147695   89.369708              4.0   \n",
       "Moguer                             144.875045  194.675842              1.0   \n",
       "Escacena del Campo                 131.348511  175.131349              0.0   \n",
       "Bollullos Par del Condado           42.040359   56.053812              1.0   \n",
       "Isla Cristina                      390.331076  484.386757              5.0   \n",
       "Almendro (El)                      605.326877  605.326877              0.0   \n",
       "Valverde del Camino                 39.001560   39.001560              2.0   \n",
       "Almonaster la Real                 109.950522  109.950522              0.0   \n",
       "San Juan del Puerto                 86.021505   86.021505              2.0   \n",
       "San Bartolomé de la Torre           26.766595   26.766595              0.0   \n",
       "Aroche                              32.541490   32.541490              0.0   \n",
       "Calañas                             71.658904   71.658904              1.0   \n",
       "Niebla                              24.289531   24.289531              0.0   \n",
       "Corteconcepción                    182.481752  182.481752              0.0   \n",
       "Cortegana                           42.863266   42.863266              1.0   \n",
       "Encinasola                          76.628352   76.628352              0.0   \n",
       "Alosno                             101.962784  101.962784              0.0   \n",
       "Villanueva de los Castillejos       35.460993   35.460993              0.0   \n",
       "\n",
       "Medida                                 7/14  \n",
       "Lugar de residencia                          \n",
       "Lucena del Puerto                  0.125000  \n",
       "Villablanca                        0.166667  \n",
       "Cumbres Mayores                    0.200000  \n",
       "Almonte                            0.300000  \n",
       "Cerro de Andévalo (El)             0.300000  \n",
       "Punta Umbría                       0.454545  \n",
       "Sierra de Huelva-Andévalo Central  0.482143  \n",
       "Gibraleón                          0.500000  \n",
       "Lepe                               0.500000  \n",
       "Palos de la Frontera               0.500000  \n",
       "Nerva                              0.500000  \n",
       "Palma del Condado (La)             0.512821  \n",
       "Ayamonte                           0.518519  \n",
       "Huelva (capital)                   0.549784  \n",
       "Cartaya                            0.558824  \n",
       "Condado-Campiña                    0.565476  \n",
       "Bonares                            0.571429  \n",
       "Huelva                             0.587045  \n",
       "Rociana del Condado                0.600000  \n",
       "Huelva-Costa                       0.601643  \n",
       "Aracena                            0.666667  \n",
       "Villalba del Alcor                 0.666667  \n",
       "Aljaraque                          0.684211  \n",
       "Moguer                             0.744186  \n",
       "Escacena del Campo                 0.750000  \n",
       "Bollullos Par del Condado          0.750000  \n",
       "Isla Cristina                      0.805825  \n",
       "Almendro (El)                      1.000000  \n",
       "Valverde del Camino                1.000000  \n",
       "Almonaster la Real                 1.000000  \n",
       "San Juan del Puerto                1.000000  \n",
       "San Bartolomé de la Torre          1.000000  \n",
       "Aroche                             1.000000  \n",
       "Calañas                            1.000000  \n",
       "Niebla                             1.000000  \n",
       "Corteconcepción                    1.000000  \n",
       "Cortegana                          1.000000  \n",
       "Encinasola                         1.000000  \n",
       "Alosno                             1.000000  \n",
       "Villanueva de los Castillejos      1.000000  "
      ],
      "text/html": "<div>\n<style scoped>\n    .dataframe tbody tr th:only-of-type {\n        vertical-align: middle;\n    }\n\n    .dataframe tbody tr th {\n        vertical-align: top;\n    }\n\n    .dataframe thead th {\n        text-align: right;\n    }\n</style>\n<table border=\"1\" class=\"dataframe\">\n  <thead>\n    <tr style=\"text-align: right;\">\n      <th>Medida</th>\n      <th>Confirmados PDIA</th>\n      <th>Confirmados PDIA 7 días</th>\n      <th>Confirmados PDIA 14 días</th>\n      <th>Población</th>\n      <th>tasa7</th>\n      <th>tasa14</th>\n      <th>Diferencia PDIA</th>\n      <th>7/14</th>\n    </tr>\n    <tr>\n      <th>Lugar de residencia</th>\n      <th></th>\n      <th></th>\n      <th></th>\n      <th></th>\n      <th></th>\n      <th></th>\n      <th></th>\n      <th></th>\n    </tr>\n  </thead>\n  <tbody>\n    <tr>\n      <th>Lucena del Puerto</th>\n      <td>112.0</td>\n      <td>1.0</td>\n      <td>8.0</td>\n      <td>3371.0</td>\n      <td>29.664788</td>\n      <td>237.318303</td>\n      <td>1.0</td>\n      <td>0.125000</td>\n    </tr>\n    <tr>\n      <th>Villablanca</th>\n      <td>69.0</td>\n      <td>2.0</td>\n      <td>12.0</td>\n      <td>2848.0</td>\n      <td>70.224719</td>\n      <td>421.348315</td>\n      <td>0.0</td>\n      <td>0.166667</td>\n    </tr>\n    <tr>\n      <th>Cumbres Mayores</th>\n      <td>19.0</td>\n      <td>2.0</td>\n      <td>10.0</td>\n      <td>1755.0</td>\n      <td>113.960114</td>\n      <td>569.800570</td>\n      <td>0.0</td>\n      <td>0.200000</td>\n    </tr>\n    <tr>\n      <th>Almonte</th>\n      <td>454.0</td>\n      <td>3.0</td>\n      <td>10.0</td>\n      <td>24191.0</td>\n      <td>12.401306</td>\n      <td>41.337688</td>\n      <td>1.0</td>\n      <td>0.300000</td>\n    </tr>\n    <tr>\n      <th>Cerro de Andévalo (El)</th>\n      <td>58.0</td>\n      <td>6.0</td>\n      <td>20.0</td>\n      <td>2364.0</td>\n      <td>253.807107</td>\n      <td>846.023689</td>\n      <td>1.0</td>\n      <td>0.300000</td>\n    </tr>\n    <tr>\n      <th>Punta Umbría</th>\n      <td>246.0</td>\n      <td>5.0</td>\n      <td>11.0</td>\n      <td>15242.0</td>\n      <td>32.804094</td>\n      <td>72.169007</td>\n      <td>0.0</td>\n      <td>0.454545</td>\n    </tr>\n    <tr>\n      <th>Sierra de Huelva-Andévalo Central</th>\n      <td>1342.0</td>\n      <td>27.0</td>\n      <td>56.0</td>\n      <td>67571.0</td>\n      <td>39.957970</td>\n      <td>82.875790</td>\n      <td>7.0</td>\n      <td>0.482143</td>\n    </tr>\n    <tr>\n      <th>Gibraleón</th>\n      <td>352.0</td>\n      <td>1.0</td>\n      <td>2.0</td>\n      <td>12607.0</td>\n      <td>7.932101</td>\n      <td>15.864202</td>\n      <td>0.0</td>\n      <td>0.500000</td>\n    </tr>\n    <tr>\n      <th>Lepe</th>\n      <td>1005.0</td>\n      <td>20.0</td>\n      <td>40.0</td>\n      <td>27431.0</td>\n      <td>72.910211</td>\n      <td>145.820422</td>\n      <td>2.0</td>\n      <td>0.500000</td>\n    </tr>\n    <tr>\n      <th>Palos de la Frontera</th>\n      <td>271.0</td>\n      <td>10.0</td>\n      <td>20.0</td>\n      <td>11289.0</td>\n      <td>88.581805</td>\n      <td>177.163611</td>\n      <td>0.0</td>\n      <td>0.500000</td>\n    </tr>\n    <tr>\n      <th>Nerva</th>\n      <td>89.0</td>\n      <td>1.0</td>\n      <td>2.0</td>\n      <td>5235.0</td>\n      <td>19.102197</td>\n      <td>38.204394</td>\n      <td>0.0</td>\n      <td>0.500000</td>\n    </tr>\n    <tr>\n      <th>Palma del Condado (La)</th>\n      <td>581.0</td>\n      <td>20.0</td>\n      <td>39.0</td>\n      <td>10761.0</td>\n      <td>185.856333</td>\n      <td>362.419849</td>\n      <td>0.0</td>\n      <td>0.512821</td>\n    </tr>\n    <tr>\n      <th>Ayamonte</th>\n      <td>363.0</td>\n      <td>14.0</td>\n      <td>27.0</td>\n      <td>20946.0</td>\n      <td>66.838537</td>\n      <td>128.902893</td>\n      <td>2.0</td>\n      <td>0.518519</td>\n    </tr>\n    <tr>\n      <th>Huelva (capital)</th>\n      <td>3371.0</td>\n      <td>127.0</td>\n      <td>231.0</td>\n      <td>143663.0</td>\n      <td>88.401328</td>\n      <td>160.792967</td>\n      <td>15.0</td>\n      <td>0.549784</td>\n    </tr>\n    <tr>\n      <th>Cartaya</th>\n      <td>451.0</td>\n      <td>19.0</td>\n      <td>34.0</td>\n      <td>19974.0</td>\n      <td>95.123661</td>\n      <td>170.221288</td>\n      <td>2.0</td>\n      <td>0.558824</td>\n    </tr>\n    <tr>\n      <th>Condado-Campiña</th>\n      <td>3585.0</td>\n      <td>95.0</td>\n      <td>168.0</td>\n      <td>155057.0</td>\n      <td>61.267792</td>\n      <td>108.347253</td>\n      <td>10.0</td>\n      <td>0.565476</td>\n    </tr>\n    <tr>\n      <th>Bonares</th>\n      <td>72.0</td>\n      <td>4.0</td>\n      <td>7.0</td>\n      <td>6058.0</td>\n      <td>66.028392</td>\n      <td>115.549686</td>\n      <td>0.0</td>\n      <td>0.571429</td>\n    </tr>\n    <tr>\n      <th>Huelva</th>\n      <td>11838.0</td>\n      <td>435.0</td>\n      <td>741.0</td>\n      <td>510743.0</td>\n      <td>85.170037</td>\n      <td>145.082752</td>\n      <td>48.0</td>\n      <td>0.587045</td>\n    </tr>\n    <tr>\n      <th>Rociana del Condado</th>\n      <td>125.0</td>\n      <td>3.0</td>\n      <td>5.0</td>\n      <td>7855.0</td>\n      <td>38.192234</td>\n      <td>63.653724</td>\n      <td>2.0</td>\n      <td>0.600000</td>\n    </tr>\n    <tr>\n      <th>Huelva-Costa</th>\n      <td>6756.0</td>\n      <td>293.0</td>\n      <td>487.0</td>\n      <td>288115.0</td>\n      <td>101.695504</td>\n      <td>169.029728</td>\n      <td>30.0</td>\n      <td>0.601643</td>\n    </tr>\n    <tr>\n      <th>Aracena</th>\n      <td>293.0</td>\n      <td>4.0</td>\n      <td>6.0</td>\n      <td>8107.0</td>\n      <td>49.340076</td>\n      <td>74.010115</td>\n      <td>0.0</td>\n      <td>0.666667</td>\n    </tr>\n    <tr>\n      <th>Villalba del Alcor</th>\n      <td>106.0</td>\n      <td>2.0</td>\n      <td>3.0</td>\n      <td>3338.0</td>\n      <td>59.916117</td>\n      <td>89.874176</td>\n      <td>1.0</td>\n      <td>0.666667</td>\n    </tr>\n    <tr>\n      <th>Aljaraque</th>\n      <td>458.0</td>\n      <td>13.0</td>\n      <td>19.0</td>\n      <td>21260.0</td>\n      <td>61.147695</td>\n      <td>89.369708</td>\n      <td>4.0</td>\n      <td>0.684211</td>\n    </tr>\n    <tr>\n      <th>Moguer</th>\n      <td>423.0</td>\n      <td>32.0</td>\n      <td>43.0</td>\n      <td>22088.0</td>\n      <td>144.875045</td>\n      <td>194.675842</td>\n      <td>1.0</td>\n      <td>0.744186</td>\n    </tr>\n    <tr>\n      <th>Escacena del Campo</th>\n      <td>101.0</td>\n      <td>3.0</td>\n      <td>4.0</td>\n      <td>2284.0</td>\n      <td>131.348511</td>\n      <td>175.131349</td>\n      <td>0.0</td>\n      <td>0.750000</td>\n    </tr>\n    <tr>\n      <th>Bollullos Par del Condado</th>\n      <td>259.0</td>\n      <td>6.0</td>\n      <td>8.0</td>\n      <td>14272.0</td>\n      <td>42.040359</td>\n      <td>56.053812</td>\n      <td>1.0</td>\n      <td>0.750000</td>\n    </tr>\n    <tr>\n      <th>Isla Cristina</th>\n      <td>552.0</td>\n      <td>83.0</td>\n      <td>103.0</td>\n      <td>21264.0</td>\n      <td>390.331076</td>\n      <td>484.386757</td>\n      <td>5.0</td>\n      <td>0.805825</td>\n    </tr>\n    <tr>\n      <th>Almendro (El)</th>\n      <td>21.0</td>\n      <td>5.0</td>\n      <td>5.0</td>\n      <td>826.0</td>\n      <td>605.326877</td>\n      <td>605.326877</td>\n      <td>0.0</td>\n      <td>1.000000</td>\n    </tr>\n    <tr>\n      <th>Valverde del Camino</th>\n      <td>278.0</td>\n      <td>5.0</td>\n      <td>5.0</td>\n      <td>12820.0</td>\n      <td>39.001560</td>\n      <td>39.001560</td>\n      <td>2.0</td>\n      <td>1.000000</td>\n    </tr>\n    <tr>\n      <th>Almonaster la Real</th>\n      <td>35.0</td>\n      <td>2.0</td>\n      <td>2.0</td>\n      <td>1819.0</td>\n      <td>109.950522</td>\n      <td>109.950522</td>\n      <td>0.0</td>\n      <td>1.000000</td>\n    </tr>\n    <tr>\n      <th>San Juan del Puerto</th>\n      <td>162.0</td>\n      <td>8.0</td>\n      <td>8.0</td>\n      <td>9300.0</td>\n      <td>86.021505</td>\n      <td>86.021505</td>\n      <td>2.0</td>\n      <td>1.000000</td>\n    </tr>\n    <tr>\n      <th>San Bartolomé de la Torre</th>\n      <td>46.0</td>\n      <td>1.0</td>\n      <td>1.0</td>\n      <td>3736.0</td>\n      <td>26.766595</td>\n      <td>26.766595</td>\n      <td>0.0</td>\n      <td>1.000000</td>\n    </tr>\n    <tr>\n      <th>Aroche</th>\n      <td>56.0</td>\n      <td>1.0</td>\n      <td>1.0</td>\n      <td>3073.0</td>\n      <td>32.541490</td>\n      <td>32.541490</td>\n      <td>0.0</td>\n      <td>1.000000</td>\n    </tr>\n    <tr>\n      <th>Calañas</th>\n      <td>45.0</td>\n      <td>2.0</td>\n      <td>2.0</td>\n      <td>2791.0</td>\n      <td>71.658904</td>\n      <td>71.658904</td>\n      <td>1.0</td>\n      <td>1.000000</td>\n    </tr>\n    <tr>\n      <th>Niebla</th>\n      <td>118.0</td>\n      <td>1.0</td>\n      <td>1.0</td>\n      <td>4117.0</td>\n      <td>24.289531</td>\n      <td>24.289531</td>\n      <td>0.0</td>\n      <td>1.000000</td>\n    </tr>\n    <tr>\n      <th>Corteconcepción</th>\n      <td>19.0</td>\n      <td>1.0</td>\n      <td>1.0</td>\n      <td>548.0</td>\n      <td>182.481752</td>\n      <td>182.481752</td>\n      <td>0.0</td>\n      <td>1.000000</td>\n    </tr>\n    <tr>\n      <th>Cortegana</th>\n      <td>125.0</td>\n      <td>2.0</td>\n      <td>2.0</td>\n      <td>4666.0</td>\n      <td>42.863266</td>\n      <td>42.863266</td>\n      <td>1.0</td>\n      <td>1.000000</td>\n    </tr>\n    <tr>\n      <th>Encinasola</th>\n      <td>10.0</td>\n      <td>1.0</td>\n      <td>1.0</td>\n      <td>1305.0</td>\n      <td>76.628352</td>\n      <td>76.628352</td>\n      <td>0.0</td>\n      <td>1.000000</td>\n    </tr>\n    <tr>\n      <th>Alosno</th>\n      <td>48.0</td>\n      <td>4.0</td>\n      <td>4.0</td>\n      <td>3923.0</td>\n      <td>101.962784</td>\n      <td>101.962784</td>\n      <td>0.0</td>\n      <td>1.000000</td>\n    </tr>\n    <tr>\n      <th>Villanueva de los Castillejos</th>\n      <td>65.0</td>\n      <td>1.0</td>\n      <td>1.0</td>\n      <td>2820.0</td>\n      <td>35.460993</td>\n      <td>35.460993</td>\n      <td>0.0</td>\n      <td>1.000000</td>\n    </tr>\n  </tbody>\n</table>\n</div>"
     },
     "metadata": {},
     "execution_count": 18
    }
   ],
   "source": [
    "# Peso de la tasa de la última semana en relación con la tasa a 14 días \n",
    "# Mejor cuanto menor. Valor 1 significa que no había casos antes de 7 días.\n",
    "tabla['7/14'] = tabla['tasa7'] / tabla['tasa14']\n",
    "tabla.fillna(0).sort_values('7/14', ascending=True)"
   ]
  },
  {
   "cell_type": "code",
   "execution_count": null,
   "metadata": {},
   "outputs": [],
   "source": []
  }
 ]
}