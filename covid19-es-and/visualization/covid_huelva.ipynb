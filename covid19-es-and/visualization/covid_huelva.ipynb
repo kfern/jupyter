{
 "metadata": {
  "language_info": {
   "codemirror_mode": {
    "name": "ipython",
    "version": 3
   },
   "file_extension": ".py",
   "mimetype": "text/x-python",
   "name": "python",
   "nbconvert_exporter": "python",
   "pygments_lexer": "ipython3",
   "version": "3.6.9-final"
  },
  "orig_nbformat": 2,
  "kernelspec": {
   "name": "python_defaultSpec_1599242894560",
   "display_name": "Python 3.6.9 64-bit"
  }
 },
 "nbformat": 4,
 "nbformat_minor": 2,
 "cells": [
  {
   "cell_type": "code",
   "execution_count": 1,
   "metadata": {},
   "outputs": [],
   "source": [
    "import pandas as pd"
   ]
  },
  {
   "cell_type": "code",
   "execution_count": 2,
   "metadata": {},
   "outputs": [],
   "source": [
    "url = 'https://www.juntadeandalucia.es/institutodeestadisticaycartografia/badea/stpivot/stpivot/Print?cube=013d884c-cfc5-4c21-9e78-e26225682afd&type=3&foto=si&ejecutaDesde=&codConsulta=38668&consTipoVisua=JP'\n",
    "fields = ['Lugar de residencia', 'Medida', 'Valor']\n",
    "df = pd.read_csv(url, delimiter=';', usecols=fields)"
   ]
  },
  {
   "cell_type": "code",
   "execution_count": 3,
   "metadata": {
    "tags": []
   },
   "outputs": [
    {
     "output_type": "stream",
     "name": "stdout",
     "text": "Confirmados PCR en la provincia de Huelva:  734.0\n"
    }
   ],
   "source": [
    "# Confirmados PCR provincia Huelva\n",
    "p = df[df['Lugar de residencia'] == 'Huelva'][df['Medida'] == 'Confirmados PCR']['Valor'].values[0]\n",
    "print('Confirmados PCR en la provincia de Huelva: ', p)"
   ]
  },
  {
   "cell_type": "code",
   "execution_count": 4,
   "metadata": {
    "tags": []
   },
   "outputs": [
    {
     "output_type": "stream",
     "name": "stdout",
     "text": "Confirmados PCR en Huelva capital:  208.0\n"
    }
   ],
   "source": [
    "# Confirmados PCR Huelva capital\n",
    "c = df[df['Lugar de residencia'] == 'Huelva (capital)'][df['Medida'] == 'Confirmados PCR']['Valor'].values[0]\n",
    "print('Confirmados PCR en Huelva capital: ', c)"
   ]
  },
  {
   "cell_type": "code",
   "execution_count": 5,
   "metadata": {
    "tags": []
   },
   "outputs": [],
   "source": [
    "c7 = df[df['Lugar de residencia'] == 'Huelva (capital)'][df['Medida'] == 'Confirmados PCR 7 días']['Valor'].values[0]\n",
    "c14 = df[df['Lugar de residencia'] == 'Huelva (capital)'][df['Medida'] == 'Confirmados PCR 14 días']['Valor'].values[0]\n",
    "p = df[df['Lugar de residencia'] == 'Huelva (capital)'][df['Medida'] == 'Población']['Valor'].values[0]"
   ]
  },
  {
   "cell_type": "code",
   "execution_count": 6,
   "metadata": {
    "tags": []
   },
   "outputs": [
    {
     "output_type": "stream",
     "name": "stdout",
     "text": "Huelva (capital)\n\nConfirmados PCR 7 días x 1,000 habitantes:  0.07657\nUn positivo PCR cada 13060 personas en los últimos 7 días \n\nConfirmados PCR 14 días x 1,000 habitantes:  0.17402\nUn positivo PCR cada 5747 personas en los últimos 14 días\n"
    }
   ],
   "source": [
    "print('Huelva (capital)\\n')\n",
    "print('Confirmados PCR 7 días x 1,000 habitantes: ', f\"{c7/(p/1000):.5f}\")\n",
    "print('Un positivo PCR cada', f\"{p/c7:.0f}\", 'personas en los últimos 7 días', '\\n')\n",
    "print('Confirmados PCR 14 días x 1,000 habitantes: ', f\"{c14/(p/1000):.5f}\")\n",
    "print('Un positivo PCR cada', f\"{p/c14:.0f}\", 'personas en los últimos 14 días')"
   ]
  },
  {
   "cell_type": "code",
   "execution_count": 7,
   "metadata": {},
   "outputs": [],
   "source": [
    "filtro = ((df['Medida'] == 'Confirmados PCR 7 días') | (df['Medida'] == 'Población' ) | (df['Medida'] == 'Confirmados PCR 14 días')) & (df['Valor'] > 0)\n",
    "tabla = pd.pivot_table(df.loc[filtro], values='Valor', index='Lugar de residencia', columns='Medida').dropna()"
   ]
  },
  {
   "cell_type": "code",
   "execution_count": 10,
   "metadata": {},
   "outputs": [],
   "source": [
    "tabla['tasa7'] = tabla['Confirmados PCR 7 días']/tabla['Población']*100000\n",
    "tabla['tasa14'] = tabla['Confirmados PCR 14 días']/tabla['Población']*100000"
   ]
  },
  {
   "cell_type": "code",
   "execution_count": 11,
   "metadata": {},
   "outputs": [
    {
     "output_type": "execute_result",
     "data": {
      "text/plain": "Medida                             Confirmados PCR 14 días  \\\nLugar de residencia                                          \nCorteconcepción                                        2.0   \nVillalba del Alcor                                    12.0   \nMinas de Riotinto                                      9.0   \nCabezas Rubias                                         1.0   \nEscacena del Campo                                     3.0   \nPaterna del Campo                                      3.0   \nLepe                                                  18.0   \nAljaraque                                             13.0   \nIsla Cristina                                         13.0   \nValverde del Camino                                    7.0   \nTrigueros                                              4.0   \nManzanilla                                             1.0   \nAlmonte                                                9.0   \nPalma del Condado (La)                                 4.0   \nSierra de Huelva-Andévalo Central                     25.0   \nHuelva                                               157.0   \nCondado-Campiña                                       47.0   \nHuelva-Costa                                          77.0   \nPunta Umbría                                           4.0   \nMoguer                                                 5.0   \nHuelva (capital)                                      25.0   \nBollullos Par del Condado                              2.0   \nSan Juan del Puerto                                    1.0   \nCartaya                                                2.0   \nGibraleón                                              1.0   \nAyamonte                                               1.0   \n\nMedida                             Confirmados PCR 7 días  Población  \\\nLugar de residencia                                                    \nCorteconcepción                                       2.0      548.0   \nVillalba del Alcor                                   12.0     3338.0   \nMinas de Riotinto                                     8.0     3848.0   \nCabezas Rubias                                        1.0      730.0   \nEscacena del Campo                                    3.0     2284.0   \nPaterna del Campo                                     2.0     3509.0   \nLepe                                                  9.0    27431.0   \nAljaraque                                             3.0    21260.0   \nIsla Cristina                                         5.0    21264.0   \nValverde del Camino                                   3.0    12820.0   \nTrigueros                                             2.0     7713.0   \nManzanilla                                            1.0     2135.0   \nAlmonte                                               6.0    24191.0   \nPalma del Condado (La)                                1.0    10761.0   \nSierra de Huelva-Andévalo Central                    13.0    67571.0   \nHuelva                                               87.0   510743.0   \nCondado-Campiña                                      35.0   155057.0   \nHuelva-Costa                                         34.0   288115.0   \nPunta Umbría                                          3.0    15242.0   \nMoguer                                                4.0    22088.0   \nHuelva (capital)                                     11.0   143663.0   \nBollullos Par del Condado                             2.0    14272.0   \nSan Juan del Puerto                                   1.0     9300.0   \nCartaya                                               1.0    19974.0   \nGibraleón                                             1.0    12607.0   \nAyamonte                                              1.0    20946.0   \n\nMedida                                  tasa7      tasa14  \nLugar de residencia                                        \nCorteconcepción                    364.963504  364.963504  \nVillalba del Alcor                 359.496705  359.496705  \nMinas de Riotinto                  207.900208  233.887734  \nCabezas Rubias                     136.986301  136.986301  \nEscacena del Campo                 131.348511  131.348511  \nPaterna del Campo                   56.996295   85.494443  \nLepe                                32.809595   65.619190  \nAljaraque                           14.111007   61.147695  \nIsla Cristina                       23.513920   61.136193  \nValverde del Camino                 23.400936   54.602184  \nTrigueros                           25.930248   51.860495  \nManzanilla                          46.838407   46.838407  \nAlmonte                             24.802613   37.203919  \nPalma del Condado (La)               9.292817   37.171267  \nSierra de Huelva-Andévalo Central   19.239023   36.998120  \nHuelva                              17.034007   30.739530  \nCondado-Campiña                     22.572344   30.311434  \nHuelva-Costa                        11.800843   26.725439  \nPunta Umbría                        19.682456   26.243275  \nMoguer                              18.109381   22.636726  \nHuelva (capital)                     7.656808   17.401836  \nBollullos Par del Condado           14.013453   14.013453  \nSan Juan del Puerto                 10.752688   10.752688  \nCartaya                              5.006508   10.013017  \nGibraleón                            7.932101    7.932101  \nAyamonte                             4.774181    4.774181  ",
      "text/html": "<div>\n<style scoped>\n    .dataframe tbody tr th:only-of-type {\n        vertical-align: middle;\n    }\n\n    .dataframe tbody tr th {\n        vertical-align: top;\n    }\n\n    .dataframe thead th {\n        text-align: right;\n    }\n</style>\n<table border=\"1\" class=\"dataframe\">\n  <thead>\n    <tr style=\"text-align: right;\">\n      <th>Medida</th>\n      <th>Confirmados PCR 14 días</th>\n      <th>Confirmados PCR 7 días</th>\n      <th>Población</th>\n      <th>tasa7</th>\n      <th>tasa14</th>\n    </tr>\n    <tr>\n      <th>Lugar de residencia</th>\n      <th></th>\n      <th></th>\n      <th></th>\n      <th></th>\n      <th></th>\n    </tr>\n  </thead>\n  <tbody>\n    <tr>\n      <th>Corteconcepción</th>\n      <td>2.0</td>\n      <td>2.0</td>\n      <td>548.0</td>\n      <td>364.963504</td>\n      <td>364.963504</td>\n    </tr>\n    <tr>\n      <th>Villalba del Alcor</th>\n      <td>12.0</td>\n      <td>12.0</td>\n      <td>3338.0</td>\n      <td>359.496705</td>\n      <td>359.496705</td>\n    </tr>\n    <tr>\n      <th>Minas de Riotinto</th>\n      <td>9.0</td>\n      <td>8.0</td>\n      <td>3848.0</td>\n      <td>207.900208</td>\n      <td>233.887734</td>\n    </tr>\n    <tr>\n      <th>Cabezas Rubias</th>\n      <td>1.0</td>\n      <td>1.0</td>\n      <td>730.0</td>\n      <td>136.986301</td>\n      <td>136.986301</td>\n    </tr>\n    <tr>\n      <th>Escacena del Campo</th>\n      <td>3.0</td>\n      <td>3.0</td>\n      <td>2284.0</td>\n      <td>131.348511</td>\n      <td>131.348511</td>\n    </tr>\n    <tr>\n      <th>Paterna del Campo</th>\n      <td>3.0</td>\n      <td>2.0</td>\n      <td>3509.0</td>\n      <td>56.996295</td>\n      <td>85.494443</td>\n    </tr>\n    <tr>\n      <th>Lepe</th>\n      <td>18.0</td>\n      <td>9.0</td>\n      <td>27431.0</td>\n      <td>32.809595</td>\n      <td>65.619190</td>\n    </tr>\n    <tr>\n      <th>Aljaraque</th>\n      <td>13.0</td>\n      <td>3.0</td>\n      <td>21260.0</td>\n      <td>14.111007</td>\n      <td>61.147695</td>\n    </tr>\n    <tr>\n      <th>Isla Cristina</th>\n      <td>13.0</td>\n      <td>5.0</td>\n      <td>21264.0</td>\n      <td>23.513920</td>\n      <td>61.136193</td>\n    </tr>\n    <tr>\n      <th>Valverde del Camino</th>\n      <td>7.0</td>\n      <td>3.0</td>\n      <td>12820.0</td>\n      <td>23.400936</td>\n      <td>54.602184</td>\n    </tr>\n    <tr>\n      <th>Trigueros</th>\n      <td>4.0</td>\n      <td>2.0</td>\n      <td>7713.0</td>\n      <td>25.930248</td>\n      <td>51.860495</td>\n    </tr>\n    <tr>\n      <th>Manzanilla</th>\n      <td>1.0</td>\n      <td>1.0</td>\n      <td>2135.0</td>\n      <td>46.838407</td>\n      <td>46.838407</td>\n    </tr>\n    <tr>\n      <th>Almonte</th>\n      <td>9.0</td>\n      <td>6.0</td>\n      <td>24191.0</td>\n      <td>24.802613</td>\n      <td>37.203919</td>\n    </tr>\n    <tr>\n      <th>Palma del Condado (La)</th>\n      <td>4.0</td>\n      <td>1.0</td>\n      <td>10761.0</td>\n      <td>9.292817</td>\n      <td>37.171267</td>\n    </tr>\n    <tr>\n      <th>Sierra de Huelva-Andévalo Central</th>\n      <td>25.0</td>\n      <td>13.0</td>\n      <td>67571.0</td>\n      <td>19.239023</td>\n      <td>36.998120</td>\n    </tr>\n    <tr>\n      <th>Huelva</th>\n      <td>157.0</td>\n      <td>87.0</td>\n      <td>510743.0</td>\n      <td>17.034007</td>\n      <td>30.739530</td>\n    </tr>\n    <tr>\n      <th>Condado-Campiña</th>\n      <td>47.0</td>\n      <td>35.0</td>\n      <td>155057.0</td>\n      <td>22.572344</td>\n      <td>30.311434</td>\n    </tr>\n    <tr>\n      <th>Huelva-Costa</th>\n      <td>77.0</td>\n      <td>34.0</td>\n      <td>288115.0</td>\n      <td>11.800843</td>\n      <td>26.725439</td>\n    </tr>\n    <tr>\n      <th>Punta Umbría</th>\n      <td>4.0</td>\n      <td>3.0</td>\n      <td>15242.0</td>\n      <td>19.682456</td>\n      <td>26.243275</td>\n    </tr>\n    <tr>\n      <th>Moguer</th>\n      <td>5.0</td>\n      <td>4.0</td>\n      <td>22088.0</td>\n      <td>18.109381</td>\n      <td>22.636726</td>\n    </tr>\n    <tr>\n      <th>Huelva (capital)</th>\n      <td>25.0</td>\n      <td>11.0</td>\n      <td>143663.0</td>\n      <td>7.656808</td>\n      <td>17.401836</td>\n    </tr>\n    <tr>\n      <th>Bollullos Par del Condado</th>\n      <td>2.0</td>\n      <td>2.0</td>\n      <td>14272.0</td>\n      <td>14.013453</td>\n      <td>14.013453</td>\n    </tr>\n    <tr>\n      <th>San Juan del Puerto</th>\n      <td>1.0</td>\n      <td>1.0</td>\n      <td>9300.0</td>\n      <td>10.752688</td>\n      <td>10.752688</td>\n    </tr>\n    <tr>\n      <th>Cartaya</th>\n      <td>2.0</td>\n      <td>1.0</td>\n      <td>19974.0</td>\n      <td>5.006508</td>\n      <td>10.013017</td>\n    </tr>\n    <tr>\n      <th>Gibraleón</th>\n      <td>1.0</td>\n      <td>1.0</td>\n      <td>12607.0</td>\n      <td>7.932101</td>\n      <td>7.932101</td>\n    </tr>\n    <tr>\n      <th>Ayamonte</th>\n      <td>1.0</td>\n      <td>1.0</td>\n      <td>20946.0</td>\n      <td>4.774181</td>\n      <td>4.774181</td>\n    </tr>\n  </tbody>\n</table>\n</div>"
     },
     "metadata": {},
     "execution_count": 11
    }
   ],
   "source": [
    "tabla.sort_values('tasa14', ascending=False)"
   ]
  },
  {
   "cell_type": "code",
   "execution_count": null,
   "metadata": {},
   "outputs": [],
   "source": []
  }
 ]
}