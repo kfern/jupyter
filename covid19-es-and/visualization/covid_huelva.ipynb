{
 "metadata": {
  "language_info": {
   "codemirror_mode": {
    "name": "ipython",
    "version": 3
   },
   "file_extension": ".py",
   "mimetype": "text/x-python",
   "name": "python",
   "nbconvert_exporter": "python",
   "pygments_lexer": "ipython3",
   "version": "3.8.6-final"
  },
  "orig_nbformat": 2,
  "kernelspec": {
   "name": "python3",
   "display_name": "Python 3",
   "language": "python"
  }
 },
 "nbformat": 4,
 "nbformat_minor": 2,
 "cells": [
  {
   "cell_type": "code",
   "execution_count": 1,
   "metadata": {},
   "outputs": [],
   "source": [
    "import pandas as pd\n",
    "pd.set_option('display.max_rows', None) # Print all rows"
   ]
  },
  {
   "cell_type": "code",
   "execution_count": 2,
   "metadata": {},
   "outputs": [],
   "source": [
    "# FIX SSL: CERTIFICATE_VERIFY_FAILED with Python3\n",
    "# https://stackoverflow.com/a/49174340\n",
    "import ssl\n",
    "\n",
    "ssl._create_default_https_context = ssl._create_unverified_context"
   ]
  },
  {
   "cell_type": "code",
   "execution_count": 3,
   "metadata": {},
   "outputs": [],
   "source": [
    "url = 'https://www.juntadeandalucia.es/institutodeestadisticaycartografia/badea/stpivot/stpivot/Print?cube=013d884c-cfc5-4c21-9e78-e26225682afd&type=3&foto=si&ejecutaDesde=&codConsulta=38668&consTipoVisua=JP'\n",
    "fields = ['Lugar de residencia', 'Medida', 'Valor']\n",
    "df = pd.read_csv(url, delimiter=';', usecols=fields, decimal=',')"
   ]
  },
  {
   "cell_type": "code",
   "execution_count": 4,
   "metadata": {},
   "outputs": [
    {
     "output_type": "execute_result",
     "data": {
      "text/plain": [
       "  Lugar de residencia                    Medida               Valor\n",
       "0              Huelva                 Población              513170\n",
       "1              Huelva          Confirmados PDIA               27207\n",
       "2              Huelva  Confirmados PDIA 14 días                1412\n",
       "3              Huelva         Tasa PDIA 14 días  275,15248358243855\n",
       "4              Huelva   Confirmados PDIA 7 días                 582\n",
       "5              Huelva        Total Confirmados                27380\n",
       "6              Huelva                   Curados               22825\n",
       "7              Huelva                Fallecidos                 358"
      ],
      "text/html": "<div>\n<style scoped>\n    .dataframe tbody tr th:only-of-type {\n        vertical-align: middle;\n    }\n\n    .dataframe tbody tr th {\n        vertical-align: top;\n    }\n\n    .dataframe thead th {\n        text-align: right;\n    }\n</style>\n<table border=\"1\" class=\"dataframe\">\n  <thead>\n    <tr style=\"text-align: right;\">\n      <th></th>\n      <th>Lugar de residencia</th>\n      <th>Medida</th>\n      <th>Valor</th>\n    </tr>\n  </thead>\n  <tbody>\n    <tr>\n      <th>0</th>\n      <td>Huelva</td>\n      <td>Población</td>\n      <td>513170</td>\n    </tr>\n    <tr>\n      <th>1</th>\n      <td>Huelva</td>\n      <td>Confirmados PDIA</td>\n      <td>27207</td>\n    </tr>\n    <tr>\n      <th>2</th>\n      <td>Huelva</td>\n      <td>Confirmados PDIA 14 días</td>\n      <td>1412</td>\n    </tr>\n    <tr>\n      <th>3</th>\n      <td>Huelva</td>\n      <td>Tasa PDIA 14 días</td>\n      <td>275,15248358243855</td>\n    </tr>\n    <tr>\n      <th>4</th>\n      <td>Huelva</td>\n      <td>Confirmados PDIA 7 días</td>\n      <td>582</td>\n    </tr>\n    <tr>\n      <th>5</th>\n      <td>Huelva</td>\n      <td>Total Confirmados</td>\n      <td>27380</td>\n    </tr>\n    <tr>\n      <th>6</th>\n      <td>Huelva</td>\n      <td>Curados</td>\n      <td>22825</td>\n    </tr>\n    <tr>\n      <th>7</th>\n      <td>Huelva</td>\n      <td>Fallecidos</td>\n      <td>358</td>\n    </tr>\n  </tbody>\n</table>\n</div>"
     },
     "metadata": {},
     "execution_count": 4
    }
   ],
   "source": [
    "df[df['Lugar de residencia'] == 'Huelva']"
   ]
  },
  {
   "cell_type": "code",
   "execution_count": 5,
   "metadata": {},
   "outputs": [],
   "source": [
    "df['Valor'] = pd.to_numeric(df['Valor'],errors='coerce')"
   ]
  },
  {
   "cell_type": "code",
   "execution_count": 6,
   "metadata": {},
   "outputs": [],
   "source": [
    "dfAnterior = pd.read_csv('covid_huelva.csv', index_col='Lugar de residencia')"
   ]
  },
  {
   "cell_type": "code",
   "execution_count": 7,
   "metadata": {
    "tags": []
   },
   "outputs": [
    {
     "output_type": "stream",
     "name": "stdout",
     "text": [
      "Confirmados PCR en la provincia de Huelva:  27207.0\n",
      "<ipython-input-7-31b732756b19>:2: UserWarning: Boolean Series key will be reindexed to match DataFrame index.\n",
      "  p = df[df['Lugar de residencia'] == 'Huelva'][df['Medida'] == 'Confirmados PDIA']['Valor'].values[0]\n"
     ]
    }
   ],
   "source": [
    "# Confirmados PCR provincia Huelva\n",
    "p = df[df['Lugar de residencia'] == 'Huelva'][df['Medida'] == 'Confirmados PDIA']['Valor'].values[0]\n",
    "print('Confirmados PCR en la provincia de Huelva: ', p)"
   ]
  },
  {
   "cell_type": "code",
   "execution_count": 8,
   "metadata": {
    "tags": []
   },
   "outputs": [
    {
     "output_type": "stream",
     "name": "stdout",
     "text": [
      "Confirmados PCR en Huelva capital:  7074.0\n",
      "<ipython-input-8-e81bfb40e710>:2: UserWarning: Boolean Series key will be reindexed to match DataFrame index.\n",
      "  c = df[df['Lugar de residencia'] == 'Huelva (capital)'][df['Medida'] == 'Confirmados PDIA']['Valor'].values[0]\n"
     ]
    }
   ],
   "source": [
    "# Confirmados PCR Huelva capitalpd\n",
    "c = df[df['Lugar de residencia'] == 'Huelva (capital)'][df['Medida'] == 'Confirmados PDIA']['Valor'].values[0]\n",
    "print('Confirmados PCR en Huelva capital: ', c)"
   ]
  },
  {
   "cell_type": "code",
   "execution_count": 9,
   "metadata": {
    "tags": []
   },
   "outputs": [
    {
     "output_type": "stream",
     "name": "stderr",
     "text": [
      "<ipython-input-9-f09dd2050cc1>:1: UserWarning: Boolean Series key will be reindexed to match DataFrame index.\n  c7 = df[df['Lugar de residencia'] == 'Huelva (capital)'][df['Medida'] == 'Confirmados PDIA 7 días']['Valor'].values[0]\n<ipython-input-9-f09dd2050cc1>:2: UserWarning: Boolean Series key will be reindexed to match DataFrame index.\n  c14 = df[df['Lugar de residencia'] == 'Huelva (capital)'][df['Medida'] == 'Confirmados PDIA 14 días']['Valor'].values[0]\n<ipython-input-9-f09dd2050cc1>:3: UserWarning: Boolean Series key will be reindexed to match DataFrame index.\n  p = df[df['Lugar de residencia'] == 'Huelva (capital)'][df['Medida'] == 'Población']['Valor'].values[0]\n"
     ]
    }
   ],
   "source": [
    "c7 = df[df['Lugar de residencia'] == 'Huelva (capital)'][df['Medida'] == 'Confirmados PDIA 7 días']['Valor'].values[0]\n",
    "c14 = df[df['Lugar de residencia'] == 'Huelva (capital)'][df['Medida'] == 'Confirmados PDIA 14 días']['Valor'].values[0]\n",
    "p = df[df['Lugar de residencia'] == 'Huelva (capital)'][df['Medida'] == 'Población']['Valor'].values[0]"
   ]
  },
  {
   "cell_type": "code",
   "execution_count": 10,
   "metadata": {
    "tags": []
   },
   "outputs": [
    {
     "output_type": "stream",
     "name": "stdout",
     "text": [
      "Huelva (capital)\n\nUn positivo PCR cada 1169 personas en los últimos 7 días \n\nUn positivo PCR cada 455 personas en los últimos 14 días\n"
     ]
    }
   ],
   "source": [
    "print('Huelva (capital)\\n')\n",
    "#print('Confirmados PCR 7 días x 1,000 habitantes: ', f\"{c7/(p/1000):.5f}\")\n",
    "print('Un positivo PCR cada', f\"{p/c7:.0f}\", 'personas en los últimos 7 días', '\\n')\n",
    "#print('Confirmados PCR 14 días x 1,000 habitantes: ', f\"{c14/(p/1000):.5f}\")\n",
    "print('Un positivo PCR cada', f\"{p/c14:.0f}\", 'personas en los últimos 14 días')"
   ]
  },
  {
   "cell_type": "code",
   "execution_count": 11,
   "metadata": {},
   "outputs": [],
   "source": [
    "filtro = ((df['Medida'] == 'Confirmados PDIA')| (df['Medida'] == 'Confirmados PDIA 7 días') | (df['Medida'] == 'Población' ) | (df['Medida'] == 'Confirmados PDIA 14 días')) & (df['Valor'] > 0)\n",
    "tabla = pd.pivot_table(df.loc[filtro], values='Valor', index='Lugar de residencia', columns='Medida').dropna()"
   ]
  },
  {
   "cell_type": "code",
   "execution_count": 12,
   "metadata": {},
   "outputs": [],
   "source": [
    "# Reorder columns\n",
    "tabla = tabla[['Confirmados PDIA', 'Confirmados PDIA 7 días', 'Confirmados PDIA 14 días', 'Población']]"
   ]
  },
  {
   "cell_type": "code",
   "execution_count": 13,
   "metadata": {},
   "outputs": [],
   "source": [
    "tabla['tasa7'] = tabla['Confirmados PDIA 7 días']/tabla['Población']*100000\n",
    "tabla['tasa14'] = tabla['Confirmados PDIA 14 días']/tabla['Población']*100000"
   ]
  },
  {
   "cell_type": "code",
   "execution_count": 14,
   "metadata": {},
   "outputs": [],
   "source": [
    "tabla['Diferencia PDIA'] = tabla['Confirmados PDIA'] - dfAnterior['Confirmados PDIA']"
   ]
  },
  {
   "cell_type": "code",
   "execution_count": 15,
   "metadata": {},
   "outputs": [
    {
     "output_type": "execute_result",
     "data": {
      "text/plain": [
       "Medida                             Confirmados PDIA  Confirmados PDIA 7 días  \\\n",
       "Lugar de residencia                                                            \n",
       "Huelva                                      27207.0                    582.0   \n",
       "Huelva-Costa                                16095.0                    245.0   \n",
       "Huelva (capital)                             7074.0                    123.0   \n",
       "Condado-Campiña                              8276.0                    291.0   \n",
       "Almonte                                      1304.0                    125.0   \n",
       "Cartaya                                      1196.0                     84.0   \n",
       "Rociana del Condado                           457.0                     32.0   \n",
       "Sierra de Huelva-Andévalo Central            2423.0                     38.0   \n",
       "Ayamonte                                     1261.0                      5.0   \n",
       "Palos de la Frontera                          550.0                     28.0   \n",
       "Aljaraque                                     973.0                     11.0   \n",
       "Valverde del Camino                           450.0                      7.0   \n",
       "Moguer                                       1000.0                     38.0   \n",
       "Gibraleón                                     557.0                      2.0   \n",
       "Bonares                                       224.0                      5.0   \n",
       "San Juan del Puerto                           409.0                      3.0   \n",
       "Beas                                          171.0                      6.0   \n",
       "Trigueros                                     253.0                      7.0   \n",
       "Lepe                                         2054.0                     14.0   \n",
       "Santa Ana la Real                               6.0                      1.0   \n",
       "\n",
       "Medida                             Confirmados PDIA 14 días  Población  \\\n",
       "Lugar de residencia                                                      \n",
       "Huelva                                               1412.0   513170.0   \n",
       "Huelva-Costa                                          594.0   289548.0   \n",
       "Huelva (capital)                                      316.0   143837.0   \n",
       "Condado-Campiña                                       706.0   156231.0   \n",
       "Almonte                                               256.0    24507.0   \n",
       "Cartaya                                               172.0    20083.0   \n",
       "Rociana del Condado                                    73.0     7939.0   \n",
       "Sierra de Huelva-Andévalo Central                      84.0    67391.0   \n",
       "Ayamonte                                               11.0    21104.0   \n",
       "Palos de la Frontera                                   56.0    11742.0   \n",
       "Aljaraque                                              37.0    21474.0   \n",
       "Valverde del Camino                                    18.0    12750.0   \n",
       "Moguer                                                 99.0    21867.0   \n",
       "Gibraleón                                               9.0    12737.0   \n",
       "Bonares                                                26.0     6060.0   \n",
       "San Juan del Puerto                                    25.0     9411.0   \n",
       "Beas                                                    8.0     4341.0   \n",
       "Trigueros                                              14.0     7862.0   \n",
       "Lepe                                                   23.0    27880.0   \n",
       "Santa Ana la Real                                       1.0      475.0   \n",
       "\n",
       "Medida                                  tasa7       tasa14  Diferencia PDIA  \n",
       "Lugar de residencia                                                          \n",
       "Huelva                             113.412709   275.152484             47.0  \n",
       "Huelva-Costa                        84.614641   205.147333             37.0  \n",
       "Huelva (capital)                    85.513463   219.693125             26.0  \n",
       "Condado-Campiña                    186.262650   451.894950             23.0  \n",
       "Almonte                            510.058351  1044.599502              9.0  \n",
       "Cartaya                            418.264204   856.445750              7.0  \n",
       "Rociana del Condado                403.073435   919.511273              6.0  \n",
       "Sierra de Huelva-Andévalo Central   56.387351   124.645724              4.0  \n",
       "Ayamonte                            23.692191    52.122820              3.0  \n",
       "Palos de la Frontera               238.460228   476.920456              2.0  \n",
       "Aljaraque                           51.224737   172.301388              2.0  \n",
       "Valverde del Camino                 54.901961   141.176471              2.0  \n",
       "Moguer                             173.777839   452.737001              1.0  \n",
       "Gibraleón                           15.702285    70.660281              1.0  \n",
       "Bonares                             82.508251   429.042904              1.0  \n",
       "San Juan del Puerto                 31.877590   265.646584              1.0  \n",
       "Beas                               138.217001   184.289334              1.0  \n",
       "Trigueros                           89.035869   178.071737              1.0  \n",
       "Lepe                                50.215208    82.496413             -1.0  \n",
       "Santa Ana la Real                  210.526316   210.526316              NaN  "
      ],
      "text/html": "<div>\n<style scoped>\n    .dataframe tbody tr th:only-of-type {\n        vertical-align: middle;\n    }\n\n    .dataframe tbody tr th {\n        vertical-align: top;\n    }\n\n    .dataframe thead th {\n        text-align: right;\n    }\n</style>\n<table border=\"1\" class=\"dataframe\">\n  <thead>\n    <tr style=\"text-align: right;\">\n      <th>Medida</th>\n      <th>Confirmados PDIA</th>\n      <th>Confirmados PDIA 7 días</th>\n      <th>Confirmados PDIA 14 días</th>\n      <th>Población</th>\n      <th>tasa7</th>\n      <th>tasa14</th>\n      <th>Diferencia PDIA</th>\n    </tr>\n    <tr>\n      <th>Lugar de residencia</th>\n      <th></th>\n      <th></th>\n      <th></th>\n      <th></th>\n      <th></th>\n      <th></th>\n      <th></th>\n    </tr>\n  </thead>\n  <tbody>\n    <tr>\n      <th>Huelva</th>\n      <td>27207.0</td>\n      <td>582.0</td>\n      <td>1412.0</td>\n      <td>513170.0</td>\n      <td>113.412709</td>\n      <td>275.152484</td>\n      <td>47.0</td>\n    </tr>\n    <tr>\n      <th>Huelva-Costa</th>\n      <td>16095.0</td>\n      <td>245.0</td>\n      <td>594.0</td>\n      <td>289548.0</td>\n      <td>84.614641</td>\n      <td>205.147333</td>\n      <td>37.0</td>\n    </tr>\n    <tr>\n      <th>Huelva (capital)</th>\n      <td>7074.0</td>\n      <td>123.0</td>\n      <td>316.0</td>\n      <td>143837.0</td>\n      <td>85.513463</td>\n      <td>219.693125</td>\n      <td>26.0</td>\n    </tr>\n    <tr>\n      <th>Condado-Campiña</th>\n      <td>8276.0</td>\n      <td>291.0</td>\n      <td>706.0</td>\n      <td>156231.0</td>\n      <td>186.262650</td>\n      <td>451.894950</td>\n      <td>23.0</td>\n    </tr>\n    <tr>\n      <th>Almonte</th>\n      <td>1304.0</td>\n      <td>125.0</td>\n      <td>256.0</td>\n      <td>24507.0</td>\n      <td>510.058351</td>\n      <td>1044.599502</td>\n      <td>9.0</td>\n    </tr>\n    <tr>\n      <th>Cartaya</th>\n      <td>1196.0</td>\n      <td>84.0</td>\n      <td>172.0</td>\n      <td>20083.0</td>\n      <td>418.264204</td>\n      <td>856.445750</td>\n      <td>7.0</td>\n    </tr>\n    <tr>\n      <th>Rociana del Condado</th>\n      <td>457.0</td>\n      <td>32.0</td>\n      <td>73.0</td>\n      <td>7939.0</td>\n      <td>403.073435</td>\n      <td>919.511273</td>\n      <td>6.0</td>\n    </tr>\n    <tr>\n      <th>Sierra de Huelva-Andévalo Central</th>\n      <td>2423.0</td>\n      <td>38.0</td>\n      <td>84.0</td>\n      <td>67391.0</td>\n      <td>56.387351</td>\n      <td>124.645724</td>\n      <td>4.0</td>\n    </tr>\n    <tr>\n      <th>Ayamonte</th>\n      <td>1261.0</td>\n      <td>5.0</td>\n      <td>11.0</td>\n      <td>21104.0</td>\n      <td>23.692191</td>\n      <td>52.122820</td>\n      <td>3.0</td>\n    </tr>\n    <tr>\n      <th>Palos de la Frontera</th>\n      <td>550.0</td>\n      <td>28.0</td>\n      <td>56.0</td>\n      <td>11742.0</td>\n      <td>238.460228</td>\n      <td>476.920456</td>\n      <td>2.0</td>\n    </tr>\n    <tr>\n      <th>Aljaraque</th>\n      <td>973.0</td>\n      <td>11.0</td>\n      <td>37.0</td>\n      <td>21474.0</td>\n      <td>51.224737</td>\n      <td>172.301388</td>\n      <td>2.0</td>\n    </tr>\n    <tr>\n      <th>Valverde del Camino</th>\n      <td>450.0</td>\n      <td>7.0</td>\n      <td>18.0</td>\n      <td>12750.0</td>\n      <td>54.901961</td>\n      <td>141.176471</td>\n      <td>2.0</td>\n    </tr>\n    <tr>\n      <th>Moguer</th>\n      <td>1000.0</td>\n      <td>38.0</td>\n      <td>99.0</td>\n      <td>21867.0</td>\n      <td>173.777839</td>\n      <td>452.737001</td>\n      <td>1.0</td>\n    </tr>\n    <tr>\n      <th>Gibraleón</th>\n      <td>557.0</td>\n      <td>2.0</td>\n      <td>9.0</td>\n      <td>12737.0</td>\n      <td>15.702285</td>\n      <td>70.660281</td>\n      <td>1.0</td>\n    </tr>\n    <tr>\n      <th>Bonares</th>\n      <td>224.0</td>\n      <td>5.0</td>\n      <td>26.0</td>\n      <td>6060.0</td>\n      <td>82.508251</td>\n      <td>429.042904</td>\n      <td>1.0</td>\n    </tr>\n    <tr>\n      <th>San Juan del Puerto</th>\n      <td>409.0</td>\n      <td>3.0</td>\n      <td>25.0</td>\n      <td>9411.0</td>\n      <td>31.877590</td>\n      <td>265.646584</td>\n      <td>1.0</td>\n    </tr>\n    <tr>\n      <th>Beas</th>\n      <td>171.0</td>\n      <td>6.0</td>\n      <td>8.0</td>\n      <td>4341.0</td>\n      <td>138.217001</td>\n      <td>184.289334</td>\n      <td>1.0</td>\n    </tr>\n    <tr>\n      <th>Trigueros</th>\n      <td>253.0</td>\n      <td>7.0</td>\n      <td>14.0</td>\n      <td>7862.0</td>\n      <td>89.035869</td>\n      <td>178.071737</td>\n      <td>1.0</td>\n    </tr>\n    <tr>\n      <th>Lepe</th>\n      <td>2054.0</td>\n      <td>14.0</td>\n      <td>23.0</td>\n      <td>27880.0</td>\n      <td>50.215208</td>\n      <td>82.496413</td>\n      <td>-1.0</td>\n    </tr>\n    <tr>\n      <th>Santa Ana la Real</th>\n      <td>6.0</td>\n      <td>1.0</td>\n      <td>1.0</td>\n      <td>475.0</td>\n      <td>210.526316</td>\n      <td>210.526316</td>\n      <td>NaN</td>\n    </tr>\n  </tbody>\n</table>\n</div>"
     },
     "metadata": {},
     "execution_count": 15
    }
   ],
   "source": [
    "# Nuevos casos desde la última captura\n",
    "tabla[tabla['Diferencia PDIA'] != 0].sort_values('Diferencia PDIA', ascending=False)"
   ]
  },
  {
   "cell_type": "code",
   "execution_count": 16,
   "metadata": {},
   "outputs": [],
   "source": [
    "if tabla[tabla['Diferencia PDIA'] != 0]['Diferencia PDIA'].sum() != 0:\n",
    "  # Save to csv\n",
    "  tabla.to_csv('covid_huelva.csv', encoding='utf-8', header=True, index=True)  "
   ]
  },
  {
   "cell_type": "code",
   "execution_count": 17,
   "metadata": {},
   "outputs": [
    {
     "output_type": "execute_result",
     "data": {
      "text/plain": [
       "Medida                             Confirmados PDIA  Confirmados PDIA 7 días  \\\n",
       "Lugar de residencia                                                            \n",
       "Almonte                                      1304.0                    125.0   \n",
       "San Bartolomé de la Torre                     275.0                      8.0   \n",
       "Rociana del Condado                           457.0                     32.0   \n",
       "Cartaya                                      1196.0                     84.0   \n",
       "Lucena del Puerto                             185.0                      4.0   \n",
       "Palos de la Frontera                          550.0                     28.0   \n",
       "Moguer                                       1000.0                     38.0   \n",
       "Condado-Campiña                              8276.0                    291.0   \n",
       "Campillo (El)                                  70.0                      7.0   \n",
       "Bonares                                       224.0                      5.0   \n",
       "Aracena                                       494.0                     10.0   \n",
       "Villarrasa                                    141.0                      2.0   \n",
       "Alosno                                        161.0                      1.0   \n",
       "Huelva                                      27207.0                    582.0   \n",
       "Niebla                                        187.0                      4.0   \n",
       "San Juan del Puerto                           409.0                      3.0   \n",
       "Bollullos Par del Condado                     731.0                     22.0   \n",
       "Almonaster la Real                             57.0                      3.0   \n",
       "Huelva (capital)                             7074.0                    123.0   \n",
       "Santa Ana la Real                               6.0                      1.0   \n",
       "Huelva-Costa                                16095.0                    245.0   \n",
       "Beas                                          171.0                      6.0   \n",
       "Trigueros                                     253.0                      7.0   \n",
       "Aljaraque                                     973.0                     11.0   \n",
       "Minas de Riotinto                             106.0                      6.0   \n",
       "Valverde del Camino                           450.0                      7.0   \n",
       "Palma del Condado (La)                       1012.0                      5.0   \n",
       "Aroche                                         87.0                      2.0   \n",
       "Sierra de Huelva-Andévalo Central            2423.0                     38.0   \n",
       "Almendro (El)                                  35.0                      1.0   \n",
       "Lepe                                         2054.0                     14.0   \n",
       "Punta Umbría                                  683.0                      4.0   \n",
       "Higuera de la Sierra                           32.0                      1.0   \n",
       "Calañas                                       174.0                      1.0   \n",
       "Gibraleón                                     557.0                      2.0   \n",
       "Ayamonte                                     1261.0                      5.0   \n",
       "Isla Cristina                                2018.0                      2.0   \n",
       "\n",
       "Medida                             Confirmados PDIA 14 días  Población  \\\n",
       "Lugar de residencia                                                      \n",
       "Almonte                                               256.0    24507.0   \n",
       "San Bartolomé de la Torre                              35.0     3761.0   \n",
       "Rociana del Condado                                    73.0     7939.0   \n",
       "Cartaya                                               172.0    20083.0   \n",
       "Lucena del Puerto                                      22.0     3261.0   \n",
       "Palos de la Frontera                                   56.0    11742.0   \n",
       "Moguer                                                 99.0    21867.0   \n",
       "Condado-Campiña                                       706.0   156231.0   \n",
       "Campillo (El)                                           9.0     2024.0   \n",
       "Bonares                                                26.0     6060.0   \n",
       "Aracena                                                33.0     8255.0   \n",
       "Villarrasa                                              8.0     2211.0   \n",
       "Alosno                                                 11.0     3933.0   \n",
       "Huelva                                               1412.0   513170.0   \n",
       "Niebla                                                 11.0     4116.0   \n",
       "San Juan del Puerto                                    25.0     9411.0   \n",
       "Bollullos Par del Condado                              38.0    14387.0   \n",
       "Almonaster la Real                                      4.0     1788.0   \n",
       "Huelva (capital)                                      316.0   143837.0   \n",
       "Santa Ana la Real                                       1.0      475.0   \n",
       "Huelva-Costa                                          594.0   289548.0   \n",
       "Beas                                                    8.0     4341.0   \n",
       "Trigueros                                              14.0     7862.0   \n",
       "Aljaraque                                              37.0    21474.0   \n",
       "Minas de Riotinto                                       6.0     3812.0   \n",
       "Valverde del Camino                                    18.0    12750.0   \n",
       "Palma del Condado (La)                                 15.0    10801.0   \n",
       "Aroche                                                  4.0     3054.0   \n",
       "Sierra de Huelva-Andévalo Central                      84.0    67391.0   \n",
       "Almendro (El)                                           1.0      840.0   \n",
       "Lepe                                                   23.0    27880.0   \n",
       "Punta Umbría                                           12.0    15355.0   \n",
       "Higuera de la Sierra                                    1.0     1291.0   \n",
       "Calañas                                                 2.0     2768.0   \n",
       "Gibraleón                                               9.0    12737.0   \n",
       "Ayamonte                                               11.0    21104.0   \n",
       "Isla Cristina                                           3.0    21393.0   \n",
       "\n",
       "Medida                                  tasa7       tasa14  Diferencia PDIA  \n",
       "Lugar de residencia                                                          \n",
       "Almonte                            510.058351  1044.599502              9.0  \n",
       "San Bartolomé de la Torre          212.709386   930.603563              0.0  \n",
       "Rociana del Condado                403.073435   919.511273              6.0  \n",
       "Cartaya                            418.264204   856.445750              7.0  \n",
       "Lucena del Puerto                  122.661760   674.639681              0.0  \n",
       "Palos de la Frontera               238.460228   476.920456              2.0  \n",
       "Moguer                             173.777839   452.737001              1.0  \n",
       "Condado-Campiña                    186.262650   451.894950             23.0  \n",
       "Campillo (El)                      345.849802   444.664032              0.0  \n",
       "Bonares                             82.508251   429.042904              1.0  \n",
       "Aracena                            121.138704   399.757723              0.0  \n",
       "Villarrasa                          90.456807   361.827227              0.0  \n",
       "Alosno                              25.425884   279.684719              0.0  \n",
       "Huelva                             113.412709   275.152484             47.0  \n",
       "Niebla                              97.181730   267.249757              0.0  \n",
       "San Juan del Puerto                 31.877590   265.646584              1.0  \n",
       "Bollullos Par del Condado          152.915827   264.127337              0.0  \n",
       "Almonaster la Real                 167.785235   223.713647              0.0  \n",
       "Huelva (capital)                    85.513463   219.693125             26.0  \n",
       "Santa Ana la Real                  210.526316   210.526316              NaN  \n",
       "Huelva-Costa                        84.614641   205.147333             37.0  \n",
       "Beas                               138.217001   184.289334              1.0  \n",
       "Trigueros                           89.035869   178.071737              1.0  \n",
       "Aljaraque                           51.224737   172.301388              2.0  \n",
       "Minas de Riotinto                  157.397692   157.397692              0.0  \n",
       "Valverde del Camino                 54.901961   141.176471              2.0  \n",
       "Palma del Condado (La)              46.292010   138.876030              0.0  \n",
       "Aroche                              65.487885   130.975769              0.0  \n",
       "Sierra de Huelva-Andévalo Central   56.387351   124.645724              4.0  \n",
       "Almendro (El)                      119.047619   119.047619              0.0  \n",
       "Lepe                                50.215208    82.496413             -1.0  \n",
       "Punta Umbría                        26.050147    78.150440              0.0  \n",
       "Higuera de la Sierra                77.459334    77.459334              0.0  \n",
       "Calañas                             36.127168    72.254335              0.0  \n",
       "Gibraleón                           15.702285    70.660281              1.0  \n",
       "Ayamonte                            23.692191    52.122820              3.0  \n",
       "Isla Cristina                        9.348852    14.023279              0.0  "
      ],
      "text/html": "<div>\n<style scoped>\n    .dataframe tbody tr th:only-of-type {\n        vertical-align: middle;\n    }\n\n    .dataframe tbody tr th {\n        vertical-align: top;\n    }\n\n    .dataframe thead th {\n        text-align: right;\n    }\n</style>\n<table border=\"1\" class=\"dataframe\">\n  <thead>\n    <tr style=\"text-align: right;\">\n      <th>Medida</th>\n      <th>Confirmados PDIA</th>\n      <th>Confirmados PDIA 7 días</th>\n      <th>Confirmados PDIA 14 días</th>\n      <th>Población</th>\n      <th>tasa7</th>\n      <th>tasa14</th>\n      <th>Diferencia PDIA</th>\n    </tr>\n    <tr>\n      <th>Lugar de residencia</th>\n      <th></th>\n      <th></th>\n      <th></th>\n      <th></th>\n      <th></th>\n      <th></th>\n      <th></th>\n    </tr>\n  </thead>\n  <tbody>\n    <tr>\n      <th>Almonte</th>\n      <td>1304.0</td>\n      <td>125.0</td>\n      <td>256.0</td>\n      <td>24507.0</td>\n      <td>510.058351</td>\n      <td>1044.599502</td>\n      <td>9.0</td>\n    </tr>\n    <tr>\n      <th>San Bartolomé de la Torre</th>\n      <td>275.0</td>\n      <td>8.0</td>\n      <td>35.0</td>\n      <td>3761.0</td>\n      <td>212.709386</td>\n      <td>930.603563</td>\n      <td>0.0</td>\n    </tr>\n    <tr>\n      <th>Rociana del Condado</th>\n      <td>457.0</td>\n      <td>32.0</td>\n      <td>73.0</td>\n      <td>7939.0</td>\n      <td>403.073435</td>\n      <td>919.511273</td>\n      <td>6.0</td>\n    </tr>\n    <tr>\n      <th>Cartaya</th>\n      <td>1196.0</td>\n      <td>84.0</td>\n      <td>172.0</td>\n      <td>20083.0</td>\n      <td>418.264204</td>\n      <td>856.445750</td>\n      <td>7.0</td>\n    </tr>\n    <tr>\n      <th>Lucena del Puerto</th>\n      <td>185.0</td>\n      <td>4.0</td>\n      <td>22.0</td>\n      <td>3261.0</td>\n      <td>122.661760</td>\n      <td>674.639681</td>\n      <td>0.0</td>\n    </tr>\n    <tr>\n      <th>Palos de la Frontera</th>\n      <td>550.0</td>\n      <td>28.0</td>\n      <td>56.0</td>\n      <td>11742.0</td>\n      <td>238.460228</td>\n      <td>476.920456</td>\n      <td>2.0</td>\n    </tr>\n    <tr>\n      <th>Moguer</th>\n      <td>1000.0</td>\n      <td>38.0</td>\n      <td>99.0</td>\n      <td>21867.0</td>\n      <td>173.777839</td>\n      <td>452.737001</td>\n      <td>1.0</td>\n    </tr>\n    <tr>\n      <th>Condado-Campiña</th>\n      <td>8276.0</td>\n      <td>291.0</td>\n      <td>706.0</td>\n      <td>156231.0</td>\n      <td>186.262650</td>\n      <td>451.894950</td>\n      <td>23.0</td>\n    </tr>\n    <tr>\n      <th>Campillo (El)</th>\n      <td>70.0</td>\n      <td>7.0</td>\n      <td>9.0</td>\n      <td>2024.0</td>\n      <td>345.849802</td>\n      <td>444.664032</td>\n      <td>0.0</td>\n    </tr>\n    <tr>\n      <th>Bonares</th>\n      <td>224.0</td>\n      <td>5.0</td>\n      <td>26.0</td>\n      <td>6060.0</td>\n      <td>82.508251</td>\n      <td>429.042904</td>\n      <td>1.0</td>\n    </tr>\n    <tr>\n      <th>Aracena</th>\n      <td>494.0</td>\n      <td>10.0</td>\n      <td>33.0</td>\n      <td>8255.0</td>\n      <td>121.138704</td>\n      <td>399.757723</td>\n      <td>0.0</td>\n    </tr>\n    <tr>\n      <th>Villarrasa</th>\n      <td>141.0</td>\n      <td>2.0</td>\n      <td>8.0</td>\n      <td>2211.0</td>\n      <td>90.456807</td>\n      <td>361.827227</td>\n      <td>0.0</td>\n    </tr>\n    <tr>\n      <th>Alosno</th>\n      <td>161.0</td>\n      <td>1.0</td>\n      <td>11.0</td>\n      <td>3933.0</td>\n      <td>25.425884</td>\n      <td>279.684719</td>\n      <td>0.0</td>\n    </tr>\n    <tr>\n      <th>Huelva</th>\n      <td>27207.0</td>\n      <td>582.0</td>\n      <td>1412.0</td>\n      <td>513170.0</td>\n      <td>113.412709</td>\n      <td>275.152484</td>\n      <td>47.0</td>\n    </tr>\n    <tr>\n      <th>Niebla</th>\n      <td>187.0</td>\n      <td>4.0</td>\n      <td>11.0</td>\n      <td>4116.0</td>\n      <td>97.181730</td>\n      <td>267.249757</td>\n      <td>0.0</td>\n    </tr>\n    <tr>\n      <th>San Juan del Puerto</th>\n      <td>409.0</td>\n      <td>3.0</td>\n      <td>25.0</td>\n      <td>9411.0</td>\n      <td>31.877590</td>\n      <td>265.646584</td>\n      <td>1.0</td>\n    </tr>\n    <tr>\n      <th>Bollullos Par del Condado</th>\n      <td>731.0</td>\n      <td>22.0</td>\n      <td>38.0</td>\n      <td>14387.0</td>\n      <td>152.915827</td>\n      <td>264.127337</td>\n      <td>0.0</td>\n    </tr>\n    <tr>\n      <th>Almonaster la Real</th>\n      <td>57.0</td>\n      <td>3.0</td>\n      <td>4.0</td>\n      <td>1788.0</td>\n      <td>167.785235</td>\n      <td>223.713647</td>\n      <td>0.0</td>\n    </tr>\n    <tr>\n      <th>Huelva (capital)</th>\n      <td>7074.0</td>\n      <td>123.0</td>\n      <td>316.0</td>\n      <td>143837.0</td>\n      <td>85.513463</td>\n      <td>219.693125</td>\n      <td>26.0</td>\n    </tr>\n    <tr>\n      <th>Santa Ana la Real</th>\n      <td>6.0</td>\n      <td>1.0</td>\n      <td>1.0</td>\n      <td>475.0</td>\n      <td>210.526316</td>\n      <td>210.526316</td>\n      <td>NaN</td>\n    </tr>\n    <tr>\n      <th>Huelva-Costa</th>\n      <td>16095.0</td>\n      <td>245.0</td>\n      <td>594.0</td>\n      <td>289548.0</td>\n      <td>84.614641</td>\n      <td>205.147333</td>\n      <td>37.0</td>\n    </tr>\n    <tr>\n      <th>Beas</th>\n      <td>171.0</td>\n      <td>6.0</td>\n      <td>8.0</td>\n      <td>4341.0</td>\n      <td>138.217001</td>\n      <td>184.289334</td>\n      <td>1.0</td>\n    </tr>\n    <tr>\n      <th>Trigueros</th>\n      <td>253.0</td>\n      <td>7.0</td>\n      <td>14.0</td>\n      <td>7862.0</td>\n      <td>89.035869</td>\n      <td>178.071737</td>\n      <td>1.0</td>\n    </tr>\n    <tr>\n      <th>Aljaraque</th>\n      <td>973.0</td>\n      <td>11.0</td>\n      <td>37.0</td>\n      <td>21474.0</td>\n      <td>51.224737</td>\n      <td>172.301388</td>\n      <td>2.0</td>\n    </tr>\n    <tr>\n      <th>Minas de Riotinto</th>\n      <td>106.0</td>\n      <td>6.0</td>\n      <td>6.0</td>\n      <td>3812.0</td>\n      <td>157.397692</td>\n      <td>157.397692</td>\n      <td>0.0</td>\n    </tr>\n    <tr>\n      <th>Valverde del Camino</th>\n      <td>450.0</td>\n      <td>7.0</td>\n      <td>18.0</td>\n      <td>12750.0</td>\n      <td>54.901961</td>\n      <td>141.176471</td>\n      <td>2.0</td>\n    </tr>\n    <tr>\n      <th>Palma del Condado (La)</th>\n      <td>1012.0</td>\n      <td>5.0</td>\n      <td>15.0</td>\n      <td>10801.0</td>\n      <td>46.292010</td>\n      <td>138.876030</td>\n      <td>0.0</td>\n    </tr>\n    <tr>\n      <th>Aroche</th>\n      <td>87.0</td>\n      <td>2.0</td>\n      <td>4.0</td>\n      <td>3054.0</td>\n      <td>65.487885</td>\n      <td>130.975769</td>\n      <td>0.0</td>\n    </tr>\n    <tr>\n      <th>Sierra de Huelva-Andévalo Central</th>\n      <td>2423.0</td>\n      <td>38.0</td>\n      <td>84.0</td>\n      <td>67391.0</td>\n      <td>56.387351</td>\n      <td>124.645724</td>\n      <td>4.0</td>\n    </tr>\n    <tr>\n      <th>Almendro (El)</th>\n      <td>35.0</td>\n      <td>1.0</td>\n      <td>1.0</td>\n      <td>840.0</td>\n      <td>119.047619</td>\n      <td>119.047619</td>\n      <td>0.0</td>\n    </tr>\n    <tr>\n      <th>Lepe</th>\n      <td>2054.0</td>\n      <td>14.0</td>\n      <td>23.0</td>\n      <td>27880.0</td>\n      <td>50.215208</td>\n      <td>82.496413</td>\n      <td>-1.0</td>\n    </tr>\n    <tr>\n      <th>Punta Umbría</th>\n      <td>683.0</td>\n      <td>4.0</td>\n      <td>12.0</td>\n      <td>15355.0</td>\n      <td>26.050147</td>\n      <td>78.150440</td>\n      <td>0.0</td>\n    </tr>\n    <tr>\n      <th>Higuera de la Sierra</th>\n      <td>32.0</td>\n      <td>1.0</td>\n      <td>1.0</td>\n      <td>1291.0</td>\n      <td>77.459334</td>\n      <td>77.459334</td>\n      <td>0.0</td>\n    </tr>\n    <tr>\n      <th>Calañas</th>\n      <td>174.0</td>\n      <td>1.0</td>\n      <td>2.0</td>\n      <td>2768.0</td>\n      <td>36.127168</td>\n      <td>72.254335</td>\n      <td>0.0</td>\n    </tr>\n    <tr>\n      <th>Gibraleón</th>\n      <td>557.0</td>\n      <td>2.0</td>\n      <td>9.0</td>\n      <td>12737.0</td>\n      <td>15.702285</td>\n      <td>70.660281</td>\n      <td>1.0</td>\n    </tr>\n    <tr>\n      <th>Ayamonte</th>\n      <td>1261.0</td>\n      <td>5.0</td>\n      <td>11.0</td>\n      <td>21104.0</td>\n      <td>23.692191</td>\n      <td>52.122820</td>\n      <td>3.0</td>\n    </tr>\n    <tr>\n      <th>Isla Cristina</th>\n      <td>2018.0</td>\n      <td>2.0</td>\n      <td>3.0</td>\n      <td>21393.0</td>\n      <td>9.348852</td>\n      <td>14.023279</td>\n      <td>0.0</td>\n    </tr>\n  </tbody>\n</table>\n</div>"
     },
     "metadata": {},
     "execution_count": 17
    }
   ],
   "source": [
    "tabla.sort_values('tasa14', ascending=False)"
   ]
  },
  {
   "cell_type": "code",
   "execution_count": 18,
   "metadata": {},
   "outputs": [
    {
     "output_type": "execute_result",
     "data": {
      "text/plain": [
       "Medida                             Confirmados PDIA  Confirmados PDIA 7 días  \\\n",
       "Lugar de residencia                                                            \n",
       "Alosno                                        161.0                      1.0   \n",
       "San Juan del Puerto                           409.0                      3.0   \n",
       "Lucena del Puerto                             185.0                      4.0   \n",
       "Bonares                                       224.0                      5.0   \n",
       "Gibraleón                                     557.0                      2.0   \n",
       "San Bartolomé de la Torre                     275.0                      8.0   \n",
       "Villarrasa                                    141.0                      2.0   \n",
       "Aljaraque                                     973.0                     11.0   \n",
       "Aracena                                       494.0                     10.0   \n",
       "Punta Umbría                                  683.0                      4.0   \n",
       "Palma del Condado (La)                       1012.0                      5.0   \n",
       "Niebla                                        187.0                      4.0   \n",
       "Moguer                                       1000.0                     38.0   \n",
       "Valverde del Camino                           450.0                      7.0   \n",
       "Huelva (capital)                             7074.0                    123.0   \n",
       "Huelva                                      27207.0                    582.0   \n",
       "Condado-Campiña                              8276.0                    291.0   \n",
       "Huelva-Costa                                16095.0                    245.0   \n",
       "Rociana del Condado                           457.0                     32.0   \n",
       "Sierra de Huelva-Andévalo Central            2423.0                     38.0   \n",
       "Ayamonte                                     1261.0                      5.0   \n",
       "Almonte                                      1304.0                    125.0   \n",
       "Cartaya                                      1196.0                     84.0   \n",
       "Palos de la Frontera                          550.0                     28.0   \n",
       "Calañas                                       174.0                      1.0   \n",
       "Aroche                                         87.0                      2.0   \n",
       "Trigueros                                     253.0                      7.0   \n",
       "Bollullos Par del Condado                     731.0                     22.0   \n",
       "Lepe                                         2054.0                     14.0   \n",
       "Isla Cristina                                2018.0                      2.0   \n",
       "Almonaster la Real                             57.0                      3.0   \n",
       "Beas                                          171.0                      6.0   \n",
       "Campillo (El)                                  70.0                      7.0   \n",
       "Minas de Riotinto                             106.0                      6.0   \n",
       "Higuera de la Sierra                           32.0                      1.0   \n",
       "Almendro (El)                                  35.0                      1.0   \n",
       "Santa Ana la Real                               6.0                      1.0   \n",
       "\n",
       "Medida                             Confirmados PDIA 14 días  Población  \\\n",
       "Lugar de residencia                                                      \n",
       "Alosno                                                 11.0     3933.0   \n",
       "San Juan del Puerto                                    25.0     9411.0   \n",
       "Lucena del Puerto                                      22.0     3261.0   \n",
       "Bonares                                                26.0     6060.0   \n",
       "Gibraleón                                               9.0    12737.0   \n",
       "San Bartolomé de la Torre                              35.0     3761.0   \n",
       "Villarrasa                                              8.0     2211.0   \n",
       "Aljaraque                                              37.0    21474.0   \n",
       "Aracena                                                33.0     8255.0   \n",
       "Punta Umbría                                           12.0    15355.0   \n",
       "Palma del Condado (La)                                 15.0    10801.0   \n",
       "Niebla                                                 11.0     4116.0   \n",
       "Moguer                                                 99.0    21867.0   \n",
       "Valverde del Camino                                    18.0    12750.0   \n",
       "Huelva (capital)                                      316.0   143837.0   \n",
       "Huelva                                               1412.0   513170.0   \n",
       "Condado-Campiña                                       706.0   156231.0   \n",
       "Huelva-Costa                                          594.0   289548.0   \n",
       "Rociana del Condado                                    73.0     7939.0   \n",
       "Sierra de Huelva-Andévalo Central                      84.0    67391.0   \n",
       "Ayamonte                                               11.0    21104.0   \n",
       "Almonte                                               256.0    24507.0   \n",
       "Cartaya                                               172.0    20083.0   \n",
       "Palos de la Frontera                                   56.0    11742.0   \n",
       "Calañas                                                 2.0     2768.0   \n",
       "Aroche                                                  4.0     3054.0   \n",
       "Trigueros                                              14.0     7862.0   \n",
       "Bollullos Par del Condado                              38.0    14387.0   \n",
       "Lepe                                                   23.0    27880.0   \n",
       "Isla Cristina                                           3.0    21393.0   \n",
       "Almonaster la Real                                      4.0     1788.0   \n",
       "Beas                                                    8.0     4341.0   \n",
       "Campillo (El)                                           9.0     2024.0   \n",
       "Minas de Riotinto                                       6.0     3812.0   \n",
       "Higuera de la Sierra                                    1.0     1291.0   \n",
       "Almendro (El)                                           1.0      840.0   \n",
       "Santa Ana la Real                                       1.0      475.0   \n",
       "\n",
       "Medida                                  tasa7       tasa14  Diferencia PDIA  \\\n",
       "Lugar de residencia                                                           \n",
       "Alosno                              25.425884   279.684719              0.0   \n",
       "San Juan del Puerto                 31.877590   265.646584              1.0   \n",
       "Lucena del Puerto                  122.661760   674.639681              0.0   \n",
       "Bonares                             82.508251   429.042904              1.0   \n",
       "Gibraleón                           15.702285    70.660281              1.0   \n",
       "San Bartolomé de la Torre          212.709386   930.603563              0.0   \n",
       "Villarrasa                          90.456807   361.827227              0.0   \n",
       "Aljaraque                           51.224737   172.301388              2.0   \n",
       "Aracena                            121.138704   399.757723              0.0   \n",
       "Punta Umbría                        26.050147    78.150440              0.0   \n",
       "Palma del Condado (La)              46.292010   138.876030              0.0   \n",
       "Niebla                              97.181730   267.249757              0.0   \n",
       "Moguer                             173.777839   452.737001              1.0   \n",
       "Valverde del Camino                 54.901961   141.176471              2.0   \n",
       "Huelva (capital)                    85.513463   219.693125             26.0   \n",
       "Huelva                             113.412709   275.152484             47.0   \n",
       "Condado-Campiña                    186.262650   451.894950             23.0   \n",
       "Huelva-Costa                        84.614641   205.147333             37.0   \n",
       "Rociana del Condado                403.073435   919.511273              6.0   \n",
       "Sierra de Huelva-Andévalo Central   56.387351   124.645724              4.0   \n",
       "Ayamonte                            23.692191    52.122820              3.0   \n",
       "Almonte                            510.058351  1044.599502              9.0   \n",
       "Cartaya                            418.264204   856.445750              7.0   \n",
       "Palos de la Frontera               238.460228   476.920456              2.0   \n",
       "Calañas                             36.127168    72.254335              0.0   \n",
       "Aroche                              65.487885   130.975769              0.0   \n",
       "Trigueros                           89.035869   178.071737              1.0   \n",
       "Bollullos Par del Condado          152.915827   264.127337              0.0   \n",
       "Lepe                                50.215208    82.496413             -1.0   \n",
       "Isla Cristina                        9.348852    14.023279              0.0   \n",
       "Almonaster la Real                 167.785235   223.713647              0.0   \n",
       "Beas                               138.217001   184.289334              1.0   \n",
       "Campillo (El)                      345.849802   444.664032              0.0   \n",
       "Minas de Riotinto                  157.397692   157.397692              0.0   \n",
       "Higuera de la Sierra                77.459334    77.459334              0.0   \n",
       "Almendro (El)                      119.047619   119.047619              0.0   \n",
       "Santa Ana la Real                  210.526316   210.526316              0.0   \n",
       "\n",
       "Medida                                 7/14  \n",
       "Lugar de residencia                          \n",
       "Alosno                             0.090909  \n",
       "San Juan del Puerto                0.120000  \n",
       "Lucena del Puerto                  0.181818  \n",
       "Bonares                            0.192308  \n",
       "Gibraleón                          0.222222  \n",
       "San Bartolomé de la Torre          0.228571  \n",
       "Villarrasa                         0.250000  \n",
       "Aljaraque                          0.297297  \n",
       "Aracena                            0.303030  \n",
       "Punta Umbría                       0.333333  \n",
       "Palma del Condado (La)             0.333333  \n",
       "Niebla                             0.363636  \n",
       "Moguer                             0.383838  \n",
       "Valverde del Camino                0.388889  \n",
       "Huelva (capital)                   0.389241  \n",
       "Huelva                             0.412181  \n",
       "Condado-Campiña                    0.412181  \n",
       "Huelva-Costa                       0.412458  \n",
       "Rociana del Condado                0.438356  \n",
       "Sierra de Huelva-Andévalo Central  0.452381  \n",
       "Ayamonte                           0.454545  \n",
       "Almonte                            0.488281  \n",
       "Cartaya                            0.488372  \n",
       "Palos de la Frontera               0.500000  \n",
       "Calañas                            0.500000  \n",
       "Aroche                             0.500000  \n",
       "Trigueros                          0.500000  \n",
       "Bollullos Par del Condado          0.578947  \n",
       "Lepe                               0.608696  \n",
       "Isla Cristina                      0.666667  \n",
       "Almonaster la Real                 0.750000  \n",
       "Beas                               0.750000  \n",
       "Campillo (El)                      0.777778  \n",
       "Minas de Riotinto                  1.000000  \n",
       "Higuera de la Sierra               1.000000  \n",
       "Almendro (El)                      1.000000  \n",
       "Santa Ana la Real                  1.000000  "
      ],
      "text/html": "<div>\n<style scoped>\n    .dataframe tbody tr th:only-of-type {\n        vertical-align: middle;\n    }\n\n    .dataframe tbody tr th {\n        vertical-align: top;\n    }\n\n    .dataframe thead th {\n        text-align: right;\n    }\n</style>\n<table border=\"1\" class=\"dataframe\">\n  <thead>\n    <tr style=\"text-align: right;\">\n      <th>Medida</th>\n      <th>Confirmados PDIA</th>\n      <th>Confirmados PDIA 7 días</th>\n      <th>Confirmados PDIA 14 días</th>\n      <th>Población</th>\n      <th>tasa7</th>\n      <th>tasa14</th>\n      <th>Diferencia PDIA</th>\n      <th>7/14</th>\n    </tr>\n    <tr>\n      <th>Lugar de residencia</th>\n      <th></th>\n      <th></th>\n      <th></th>\n      <th></th>\n      <th></th>\n      <th></th>\n      <th></th>\n      <th></th>\n    </tr>\n  </thead>\n  <tbody>\n    <tr>\n      <th>Alosno</th>\n      <td>161.0</td>\n      <td>1.0</td>\n      <td>11.0</td>\n      <td>3933.0</td>\n      <td>25.425884</td>\n      <td>279.684719</td>\n      <td>0.0</td>\n      <td>0.090909</td>\n    </tr>\n    <tr>\n      <th>San Juan del Puerto</th>\n      <td>409.0</td>\n      <td>3.0</td>\n      <td>25.0</td>\n      <td>9411.0</td>\n      <td>31.877590</td>\n      <td>265.646584</td>\n      <td>1.0</td>\n      <td>0.120000</td>\n    </tr>\n    <tr>\n      <th>Lucena del Puerto</th>\n      <td>185.0</td>\n      <td>4.0</td>\n      <td>22.0</td>\n      <td>3261.0</td>\n      <td>122.661760</td>\n      <td>674.639681</td>\n      <td>0.0</td>\n      <td>0.181818</td>\n    </tr>\n    <tr>\n      <th>Bonares</th>\n      <td>224.0</td>\n      <td>5.0</td>\n      <td>26.0</td>\n      <td>6060.0</td>\n      <td>82.508251</td>\n      <td>429.042904</td>\n      <td>1.0</td>\n      <td>0.192308</td>\n    </tr>\n    <tr>\n      <th>Gibraleón</th>\n      <td>557.0</td>\n      <td>2.0</td>\n      <td>9.0</td>\n      <td>12737.0</td>\n      <td>15.702285</td>\n      <td>70.660281</td>\n      <td>1.0</td>\n      <td>0.222222</td>\n    </tr>\n    <tr>\n      <th>San Bartolomé de la Torre</th>\n      <td>275.0</td>\n      <td>8.0</td>\n      <td>35.0</td>\n      <td>3761.0</td>\n      <td>212.709386</td>\n      <td>930.603563</td>\n      <td>0.0</td>\n      <td>0.228571</td>\n    </tr>\n    <tr>\n      <th>Villarrasa</th>\n      <td>141.0</td>\n      <td>2.0</td>\n      <td>8.0</td>\n      <td>2211.0</td>\n      <td>90.456807</td>\n      <td>361.827227</td>\n      <td>0.0</td>\n      <td>0.250000</td>\n    </tr>\n    <tr>\n      <th>Aljaraque</th>\n      <td>973.0</td>\n      <td>11.0</td>\n      <td>37.0</td>\n      <td>21474.0</td>\n      <td>51.224737</td>\n      <td>172.301388</td>\n      <td>2.0</td>\n      <td>0.297297</td>\n    </tr>\n    <tr>\n      <th>Aracena</th>\n      <td>494.0</td>\n      <td>10.0</td>\n      <td>33.0</td>\n      <td>8255.0</td>\n      <td>121.138704</td>\n      <td>399.757723</td>\n      <td>0.0</td>\n      <td>0.303030</td>\n    </tr>\n    <tr>\n      <th>Punta Umbría</th>\n      <td>683.0</td>\n      <td>4.0</td>\n      <td>12.0</td>\n      <td>15355.0</td>\n      <td>26.050147</td>\n      <td>78.150440</td>\n      <td>0.0</td>\n      <td>0.333333</td>\n    </tr>\n    <tr>\n      <th>Palma del Condado (La)</th>\n      <td>1012.0</td>\n      <td>5.0</td>\n      <td>15.0</td>\n      <td>10801.0</td>\n      <td>46.292010</td>\n      <td>138.876030</td>\n      <td>0.0</td>\n      <td>0.333333</td>\n    </tr>\n    <tr>\n      <th>Niebla</th>\n      <td>187.0</td>\n      <td>4.0</td>\n      <td>11.0</td>\n      <td>4116.0</td>\n      <td>97.181730</td>\n      <td>267.249757</td>\n      <td>0.0</td>\n      <td>0.363636</td>\n    </tr>\n    <tr>\n      <th>Moguer</th>\n      <td>1000.0</td>\n      <td>38.0</td>\n      <td>99.0</td>\n      <td>21867.0</td>\n      <td>173.777839</td>\n      <td>452.737001</td>\n      <td>1.0</td>\n      <td>0.383838</td>\n    </tr>\n    <tr>\n      <th>Valverde del Camino</th>\n      <td>450.0</td>\n      <td>7.0</td>\n      <td>18.0</td>\n      <td>12750.0</td>\n      <td>54.901961</td>\n      <td>141.176471</td>\n      <td>2.0</td>\n      <td>0.388889</td>\n    </tr>\n    <tr>\n      <th>Huelva (capital)</th>\n      <td>7074.0</td>\n      <td>123.0</td>\n      <td>316.0</td>\n      <td>143837.0</td>\n      <td>85.513463</td>\n      <td>219.693125</td>\n      <td>26.0</td>\n      <td>0.389241</td>\n    </tr>\n    <tr>\n      <th>Huelva</th>\n      <td>27207.0</td>\n      <td>582.0</td>\n      <td>1412.0</td>\n      <td>513170.0</td>\n      <td>113.412709</td>\n      <td>275.152484</td>\n      <td>47.0</td>\n      <td>0.412181</td>\n    </tr>\n    <tr>\n      <th>Condado-Campiña</th>\n      <td>8276.0</td>\n      <td>291.0</td>\n      <td>706.0</td>\n      <td>156231.0</td>\n      <td>186.262650</td>\n      <td>451.894950</td>\n      <td>23.0</td>\n      <td>0.412181</td>\n    </tr>\n    <tr>\n      <th>Huelva-Costa</th>\n      <td>16095.0</td>\n      <td>245.0</td>\n      <td>594.0</td>\n      <td>289548.0</td>\n      <td>84.614641</td>\n      <td>205.147333</td>\n      <td>37.0</td>\n      <td>0.412458</td>\n    </tr>\n    <tr>\n      <th>Rociana del Condado</th>\n      <td>457.0</td>\n      <td>32.0</td>\n      <td>73.0</td>\n      <td>7939.0</td>\n      <td>403.073435</td>\n      <td>919.511273</td>\n      <td>6.0</td>\n      <td>0.438356</td>\n    </tr>\n    <tr>\n      <th>Sierra de Huelva-Andévalo Central</th>\n      <td>2423.0</td>\n      <td>38.0</td>\n      <td>84.0</td>\n      <td>67391.0</td>\n      <td>56.387351</td>\n      <td>124.645724</td>\n      <td>4.0</td>\n      <td>0.452381</td>\n    </tr>\n    <tr>\n      <th>Ayamonte</th>\n      <td>1261.0</td>\n      <td>5.0</td>\n      <td>11.0</td>\n      <td>21104.0</td>\n      <td>23.692191</td>\n      <td>52.122820</td>\n      <td>3.0</td>\n      <td>0.454545</td>\n    </tr>\n    <tr>\n      <th>Almonte</th>\n      <td>1304.0</td>\n      <td>125.0</td>\n      <td>256.0</td>\n      <td>24507.0</td>\n      <td>510.058351</td>\n      <td>1044.599502</td>\n      <td>9.0</td>\n      <td>0.488281</td>\n    </tr>\n    <tr>\n      <th>Cartaya</th>\n      <td>1196.0</td>\n      <td>84.0</td>\n      <td>172.0</td>\n      <td>20083.0</td>\n      <td>418.264204</td>\n      <td>856.445750</td>\n      <td>7.0</td>\n      <td>0.488372</td>\n    </tr>\n    <tr>\n      <th>Palos de la Frontera</th>\n      <td>550.0</td>\n      <td>28.0</td>\n      <td>56.0</td>\n      <td>11742.0</td>\n      <td>238.460228</td>\n      <td>476.920456</td>\n      <td>2.0</td>\n      <td>0.500000</td>\n    </tr>\n    <tr>\n      <th>Calañas</th>\n      <td>174.0</td>\n      <td>1.0</td>\n      <td>2.0</td>\n      <td>2768.0</td>\n      <td>36.127168</td>\n      <td>72.254335</td>\n      <td>0.0</td>\n      <td>0.500000</td>\n    </tr>\n    <tr>\n      <th>Aroche</th>\n      <td>87.0</td>\n      <td>2.0</td>\n      <td>4.0</td>\n      <td>3054.0</td>\n      <td>65.487885</td>\n      <td>130.975769</td>\n      <td>0.0</td>\n      <td>0.500000</td>\n    </tr>\n    <tr>\n      <th>Trigueros</th>\n      <td>253.0</td>\n      <td>7.0</td>\n      <td>14.0</td>\n      <td>7862.0</td>\n      <td>89.035869</td>\n      <td>178.071737</td>\n      <td>1.0</td>\n      <td>0.500000</td>\n    </tr>\n    <tr>\n      <th>Bollullos Par del Condado</th>\n      <td>731.0</td>\n      <td>22.0</td>\n      <td>38.0</td>\n      <td>14387.0</td>\n      <td>152.915827</td>\n      <td>264.127337</td>\n      <td>0.0</td>\n      <td>0.578947</td>\n    </tr>\n    <tr>\n      <th>Lepe</th>\n      <td>2054.0</td>\n      <td>14.0</td>\n      <td>23.0</td>\n      <td>27880.0</td>\n      <td>50.215208</td>\n      <td>82.496413</td>\n      <td>-1.0</td>\n      <td>0.608696</td>\n    </tr>\n    <tr>\n      <th>Isla Cristina</th>\n      <td>2018.0</td>\n      <td>2.0</td>\n      <td>3.0</td>\n      <td>21393.0</td>\n      <td>9.348852</td>\n      <td>14.023279</td>\n      <td>0.0</td>\n      <td>0.666667</td>\n    </tr>\n    <tr>\n      <th>Almonaster la Real</th>\n      <td>57.0</td>\n      <td>3.0</td>\n      <td>4.0</td>\n      <td>1788.0</td>\n      <td>167.785235</td>\n      <td>223.713647</td>\n      <td>0.0</td>\n      <td>0.750000</td>\n    </tr>\n    <tr>\n      <th>Beas</th>\n      <td>171.0</td>\n      <td>6.0</td>\n      <td>8.0</td>\n      <td>4341.0</td>\n      <td>138.217001</td>\n      <td>184.289334</td>\n      <td>1.0</td>\n      <td>0.750000</td>\n    </tr>\n    <tr>\n      <th>Campillo (El)</th>\n      <td>70.0</td>\n      <td>7.0</td>\n      <td>9.0</td>\n      <td>2024.0</td>\n      <td>345.849802</td>\n      <td>444.664032</td>\n      <td>0.0</td>\n      <td>0.777778</td>\n    </tr>\n    <tr>\n      <th>Minas de Riotinto</th>\n      <td>106.0</td>\n      <td>6.0</td>\n      <td>6.0</td>\n      <td>3812.0</td>\n      <td>157.397692</td>\n      <td>157.397692</td>\n      <td>0.0</td>\n      <td>1.000000</td>\n    </tr>\n    <tr>\n      <th>Higuera de la Sierra</th>\n      <td>32.0</td>\n      <td>1.0</td>\n      <td>1.0</td>\n      <td>1291.0</td>\n      <td>77.459334</td>\n      <td>77.459334</td>\n      <td>0.0</td>\n      <td>1.000000</td>\n    </tr>\n    <tr>\n      <th>Almendro (El)</th>\n      <td>35.0</td>\n      <td>1.0</td>\n      <td>1.0</td>\n      <td>840.0</td>\n      <td>119.047619</td>\n      <td>119.047619</td>\n      <td>0.0</td>\n      <td>1.000000</td>\n    </tr>\n    <tr>\n      <th>Santa Ana la Real</th>\n      <td>6.0</td>\n      <td>1.0</td>\n      <td>1.0</td>\n      <td>475.0</td>\n      <td>210.526316</td>\n      <td>210.526316</td>\n      <td>0.0</td>\n      <td>1.000000</td>\n    </tr>\n  </tbody>\n</table>\n</div>"
     },
     "metadata": {},
     "execution_count": 18
    }
   ],
   "source": [
    "# Peso de la tasa de la última semana en relación con la tasa a 14 días \n",
    "# Mejor cuanto menor. Valor 1 significa que no había casos antes de 7 días.\n",
    "tabla['7/14'] = tabla['tasa7'] / tabla['tasa14']\n",
    "tabla.fillna(0).sort_values('7/14', ascending=True)"
   ]
  },
  {
   "cell_type": "code",
   "execution_count": null,
   "metadata": {},
   "outputs": [],
   "source": []
  }
 ]
}