{
 "metadata": {
  "language_info": {
   "codemirror_mode": {
    "name": "ipython",
    "version": 3
   },
   "file_extension": ".py",
   "mimetype": "text/x-python",
   "name": "python",
   "nbconvert_exporter": "python",
   "pygments_lexer": "ipython3",
   "version": "3.6.9-final"
  },
  "orig_nbformat": 2,
  "kernelspec": {
   "name": "Python 3.6.9 64-bit",
   "display_name": "Python 3.6.9 64-bit",
   "metadata": {
    "interpreter": {
     "hash": "31f2aee4e71d21fbe5cf8b01ff0e069b9275f58929596ceb00d14d90e3e16cd6"
    }
   }
  }
 },
 "nbformat": 4,
 "nbformat_minor": 2,
 "cells": [
  {
   "cell_type": "code",
   "execution_count": 1,
   "metadata": {},
   "outputs": [],
   "source": [
    "import pandas as pd"
   ]
  },
  {
   "cell_type": "code",
   "execution_count": 2,
   "metadata": {},
   "outputs": [],
   "source": [
    "url = 'https://www.juntadeandalucia.es/institutodeestadisticaycartografia/badea/stpivot/stpivot/Print?cube=013d884c-cfc5-4c21-9e78-e26225682afd&type=3&foto=si&ejecutaDesde=&codConsulta=38668&consTipoVisua=JP'\n",
    "fields = ['Lugar de residencia', 'Medida', 'Valor']\n",
    "df = pd.read_csv(url, delimiter=';', usecols=fields, decimal=',')"
   ]
  },
  {
   "cell_type": "code",
   "execution_count": 3,
   "metadata": {},
   "outputs": [],
   "source": [
    "df['Valor'] = pd.to_numeric(df['Valor'],errors='coerce')"
   ]
  },
  {
   "cell_type": "code",
   "execution_count": 4,
   "metadata": {},
   "outputs": [],
   "source": [
    "dfAnterior = pd.read_csv('covid_huelva.csv', index_col='Lugar de residencia')"
   ]
  },
  {
   "cell_type": "code",
   "execution_count": 5,
   "metadata": {
    "tags": []
   },
   "outputs": [
    {
     "output_type": "stream",
     "name": "stdout",
     "text": "Confirmados PCR en la provincia de Huelva:  1480.0\n"
    }
   ],
   "source": [
    "# Confirmados PCR provincia Huelva\n",
    "p = df[df['Lugar de residencia'] == 'Huelva'][df['Medida'] == 'Confirmados PCR']['Valor'].values[0]\n",
    "print('Confirmados PCR en la provincia de Huelva: ', p)"
   ]
  },
  {
   "cell_type": "code",
   "execution_count": 6,
   "metadata": {
    "tags": []
   },
   "outputs": [
    {
     "output_type": "stream",
     "name": "stdout",
     "text": "Confirmados PCR en Huelva capital:  361.0\n"
    }
   ],
   "source": [
    "# Confirmados PCR Huelva capital\n",
    "c = df[df['Lugar de residencia'] == 'Huelva (capital)'][df['Medida'] == 'Confirmados PCR']['Valor'].values[0]\n",
    "print('Confirmados PCR en Huelva capital: ', c)"
   ]
  },
  {
   "cell_type": "code",
   "execution_count": 7,
   "metadata": {
    "tags": []
   },
   "outputs": [],
   "source": [
    "c7 = df[df['Lugar de residencia'] == 'Huelva (capital)'][df['Medida'] == 'Confirmados PCR 7 días']['Valor'].values[0]\n",
    "c14 = df[df['Lugar de residencia'] == 'Huelva (capital)'][df['Medida'] == 'Confirmados PCR 14 días']['Valor'].values[0]\n",
    "p = df[df['Lugar de residencia'] == 'Huelva (capital)'][df['Medida'] == 'Población']['Valor'].values[0]"
   ]
  },
  {
   "cell_type": "code",
   "execution_count": 8,
   "metadata": {
    "tags": []
   },
   "outputs": [
    {
     "output_type": "stream",
     "name": "stdout",
     "text": "Huelva (capital)\n\nUn positivo PCR cada 4353 personas en los últimos 7 días \n\nUn positivo PCR cada 1774 personas en los últimos 14 días\n"
    }
   ],
   "source": [
    "print('Huelva (capital)\\n')\n",
    "#print('Confirmados PCR 7 días x 1,000 habitantes: ', f\"{c7/(p/1000):.5f}\")\n",
    "print('Un positivo PCR cada', f\"{p/c7:.0f}\", 'personas en los últimos 7 días', '\\n')\n",
    "#print('Confirmados PCR 14 días x 1,000 habitantes: ', f\"{c14/(p/1000):.5f}\")\n",
    "print('Un positivo PCR cada', f\"{p/c14:.0f}\", 'personas en los últimos 14 días')"
   ]
  },
  {
   "cell_type": "code",
   "execution_count": 9,
   "metadata": {},
   "outputs": [],
   "source": [
    "filtro = ((df['Medida'] == 'Confirmados PCR')| (df['Medida'] == 'Confirmados PCR 7 días') | (df['Medida'] == 'Población' ) | (df['Medida'] == 'Confirmados PCR 14 días')) & (df['Valor'] > 0)\n",
    "tabla = pd.pivot_table(df.loc[filtro], values='Valor', index='Lugar de residencia', columns='Medida').dropna()"
   ]
  },
  {
   "cell_type": "code",
   "execution_count": 10,
   "metadata": {},
   "outputs": [],
   "source": [
    "# Reorder columns\n",
    "tabla = tabla[['Confirmados PCR', 'Confirmados PCR 7 días', 'Confirmados PCR 14 días', 'Población']]"
   ]
  },
  {
   "cell_type": "code",
   "execution_count": 11,
   "metadata": {},
   "outputs": [],
   "source": [
    "tabla['tasa7'] = tabla['Confirmados PCR 7 días']/tabla['Población']*100000\n",
    "tabla['tasa14'] = tabla['Confirmados PCR 14 días']/tabla['Población']*100000"
   ]
  },
  {
   "cell_type": "code",
   "execution_count": 12,
   "metadata": {},
   "outputs": [],
   "source": [
    "tabla['Diferencia PCR'] = tabla['Confirmados PCR'] - dfAnterior['Confirmados PCR']"
   ]
  },
  {
   "cell_type": "code",
   "execution_count": 13,
   "metadata": {},
   "outputs": [
    {
     "output_type": "execute_result",
     "data": {
      "text/plain": "Medida                             Confirmados PCR  Confirmados PCR 7 días  \\\nLugar de residencia                                                          \nHuelva                                      1480.0                   235.0   \nCondado-Campiña                              486.0                   111.0   \nHuelva-Costa                                 760.0                    85.0   \nHuelva (capital)                             361.0                    33.0   \nLepe                                         105.0                    22.0   \nPalma del Condado (La)                        69.0                    31.0   \nGibraleón                                     25.0                     9.0   \nManzanilla                                    16.0                    11.0   \nSierra de Huelva-Andévalo Central            210.0                    37.0   \nLucena del Puerto                              9.0                     4.0   \nMoguer                                        43.0                    10.0   \nRociana del Condado                            9.0                     3.0   \nAlmendro (El)                                  5.0                     1.0   \nAlmonte                                       54.0                     2.0   \nCerro de Andévalo (El)                         5.0                     4.0   \nVillanueva de los Castillejos                  7.0                     5.0   \nAracena                                       48.0                     1.0   \nSan Juan del Puerto                           23.0                     2.0   \nValdelarco                                     2.0                     1.0   \n\nMedida                             Confirmados PCR 14 días  Población  \\\nLugar de residencia                                                     \nHuelva                                               422.0   510743.0   \nCondado-Campiña                                      172.0   155057.0   \nHuelva-Costa                                         192.0   288115.0   \nHuelva (capital)                                      81.0   143663.0   \nLepe                                                  37.0    27431.0   \nPalma del Condado (La)                                37.0    10761.0   \nGibraleón                                             11.0    12607.0   \nManzanilla                                            12.0     2135.0   \nSierra de Huelva-Andévalo Central                     55.0    67571.0   \nLucena del Puerto                                      4.0     3371.0   \nMoguer                                                17.0    22088.0   \nRociana del Condado                                    4.0     7855.0   \nAlmendro (El)                                          4.0      826.0   \nAlmonte                                                9.0    24191.0   \nCerro de Andévalo (El)                                 4.0     2364.0   \nVillanueva de los Castillejos                          5.0     2820.0   \nAracena                                                2.0     8107.0   \nSan Juan del Puerto                                    4.0     9300.0   \nValdelarco                                             1.0      239.0   \n\nMedida                                  tasa7      tasa14  Diferencia PCR  \nLugar de residencia                                                        \nHuelva                              46.011399   82.624725            38.0  \nCondado-Campiña                     71.586578  110.926949            21.0  \nHuelva-Costa                        29.502109   66.640057            14.0  \nHuelva (capital)                    22.970424   56.381949             6.0  \nLepe                                80.201232  134.883890             6.0  \nPalma del Condado (La)             288.077316  343.834216             5.0  \nGibraleón                           71.388911   87.253113             4.0  \nManzanilla                         515.222482  562.060890             3.0  \nSierra de Huelva-Andévalo Central   54.757218   81.395865             3.0  \nLucena del Puerto                  118.659152  118.659152             2.0  \nMoguer                              45.273452   76.964868             2.0  \nRociana del Condado                 38.192234   50.922979             2.0  \nAlmendro (El)                      121.065375  484.261501             1.0  \nAlmonte                              8.267538   37.203919             1.0  \nCerro de Andévalo (El)             169.204738  169.204738             1.0  \nVillanueva de los Castillejos      177.304965  177.304965             1.0  \nAracena                             12.335019   24.670038             NaN  \nSan Juan del Puerto                 21.505376   43.010753             NaN  \nValdelarco                         418.410042  418.410042             NaN  ",
      "text/html": "<div>\n<style scoped>\n    .dataframe tbody tr th:only-of-type {\n        vertical-align: middle;\n    }\n\n    .dataframe tbody tr th {\n        vertical-align: top;\n    }\n\n    .dataframe thead th {\n        text-align: right;\n    }\n</style>\n<table border=\"1\" class=\"dataframe\">\n  <thead>\n    <tr style=\"text-align: right;\">\n      <th>Medida</th>\n      <th>Confirmados PCR</th>\n      <th>Confirmados PCR 7 días</th>\n      <th>Confirmados PCR 14 días</th>\n      <th>Población</th>\n      <th>tasa7</th>\n      <th>tasa14</th>\n      <th>Diferencia PCR</th>\n    </tr>\n    <tr>\n      <th>Lugar de residencia</th>\n      <th></th>\n      <th></th>\n      <th></th>\n      <th></th>\n      <th></th>\n      <th></th>\n      <th></th>\n    </tr>\n  </thead>\n  <tbody>\n    <tr>\n      <th>Huelva</th>\n      <td>1480.0</td>\n      <td>235.0</td>\n      <td>422.0</td>\n      <td>510743.0</td>\n      <td>46.011399</td>\n      <td>82.624725</td>\n      <td>38.0</td>\n    </tr>\n    <tr>\n      <th>Condado-Campiña</th>\n      <td>486.0</td>\n      <td>111.0</td>\n      <td>172.0</td>\n      <td>155057.0</td>\n      <td>71.586578</td>\n      <td>110.926949</td>\n      <td>21.0</td>\n    </tr>\n    <tr>\n      <th>Huelva-Costa</th>\n      <td>760.0</td>\n      <td>85.0</td>\n      <td>192.0</td>\n      <td>288115.0</td>\n      <td>29.502109</td>\n      <td>66.640057</td>\n      <td>14.0</td>\n    </tr>\n    <tr>\n      <th>Huelva (capital)</th>\n      <td>361.0</td>\n      <td>33.0</td>\n      <td>81.0</td>\n      <td>143663.0</td>\n      <td>22.970424</td>\n      <td>56.381949</td>\n      <td>6.0</td>\n    </tr>\n    <tr>\n      <th>Lepe</th>\n      <td>105.0</td>\n      <td>22.0</td>\n      <td>37.0</td>\n      <td>27431.0</td>\n      <td>80.201232</td>\n      <td>134.883890</td>\n      <td>6.0</td>\n    </tr>\n    <tr>\n      <th>Palma del Condado (La)</th>\n      <td>69.0</td>\n      <td>31.0</td>\n      <td>37.0</td>\n      <td>10761.0</td>\n      <td>288.077316</td>\n      <td>343.834216</td>\n      <td>5.0</td>\n    </tr>\n    <tr>\n      <th>Gibraleón</th>\n      <td>25.0</td>\n      <td>9.0</td>\n      <td>11.0</td>\n      <td>12607.0</td>\n      <td>71.388911</td>\n      <td>87.253113</td>\n      <td>4.0</td>\n    </tr>\n    <tr>\n      <th>Manzanilla</th>\n      <td>16.0</td>\n      <td>11.0</td>\n      <td>12.0</td>\n      <td>2135.0</td>\n      <td>515.222482</td>\n      <td>562.060890</td>\n      <td>3.0</td>\n    </tr>\n    <tr>\n      <th>Sierra de Huelva-Andévalo Central</th>\n      <td>210.0</td>\n      <td>37.0</td>\n      <td>55.0</td>\n      <td>67571.0</td>\n      <td>54.757218</td>\n      <td>81.395865</td>\n      <td>3.0</td>\n    </tr>\n    <tr>\n      <th>Lucena del Puerto</th>\n      <td>9.0</td>\n      <td>4.0</td>\n      <td>4.0</td>\n      <td>3371.0</td>\n      <td>118.659152</td>\n      <td>118.659152</td>\n      <td>2.0</td>\n    </tr>\n    <tr>\n      <th>Moguer</th>\n      <td>43.0</td>\n      <td>10.0</td>\n      <td>17.0</td>\n      <td>22088.0</td>\n      <td>45.273452</td>\n      <td>76.964868</td>\n      <td>2.0</td>\n    </tr>\n    <tr>\n      <th>Rociana del Condado</th>\n      <td>9.0</td>\n      <td>3.0</td>\n      <td>4.0</td>\n      <td>7855.0</td>\n      <td>38.192234</td>\n      <td>50.922979</td>\n      <td>2.0</td>\n    </tr>\n    <tr>\n      <th>Almendro (El)</th>\n      <td>5.0</td>\n      <td>1.0</td>\n      <td>4.0</td>\n      <td>826.0</td>\n      <td>121.065375</td>\n      <td>484.261501</td>\n      <td>1.0</td>\n    </tr>\n    <tr>\n      <th>Almonte</th>\n      <td>54.0</td>\n      <td>2.0</td>\n      <td>9.0</td>\n      <td>24191.0</td>\n      <td>8.267538</td>\n      <td>37.203919</td>\n      <td>1.0</td>\n    </tr>\n    <tr>\n      <th>Cerro de Andévalo (El)</th>\n      <td>5.0</td>\n      <td>4.0</td>\n      <td>4.0</td>\n      <td>2364.0</td>\n      <td>169.204738</td>\n      <td>169.204738</td>\n      <td>1.0</td>\n    </tr>\n    <tr>\n      <th>Villanueva de los Castillejos</th>\n      <td>7.0</td>\n      <td>5.0</td>\n      <td>5.0</td>\n      <td>2820.0</td>\n      <td>177.304965</td>\n      <td>177.304965</td>\n      <td>1.0</td>\n    </tr>\n    <tr>\n      <th>Aracena</th>\n      <td>48.0</td>\n      <td>1.0</td>\n      <td>2.0</td>\n      <td>8107.0</td>\n      <td>12.335019</td>\n      <td>24.670038</td>\n      <td>NaN</td>\n    </tr>\n    <tr>\n      <th>San Juan del Puerto</th>\n      <td>23.0</td>\n      <td>2.0</td>\n      <td>4.0</td>\n      <td>9300.0</td>\n      <td>21.505376</td>\n      <td>43.010753</td>\n      <td>NaN</td>\n    </tr>\n    <tr>\n      <th>Valdelarco</th>\n      <td>2.0</td>\n      <td>1.0</td>\n      <td>1.0</td>\n      <td>239.0</td>\n      <td>418.410042</td>\n      <td>418.410042</td>\n      <td>NaN</td>\n    </tr>\n  </tbody>\n</table>\n</div>"
     },
     "metadata": {},
     "execution_count": 13
    }
   ],
   "source": [
    "# Nuevos casos desde la última captura\n",
    "tabla[tabla['Diferencia PCR'] != 0].sort_values('Diferencia PCR', ascending=False)"
   ]
  },
  {
   "cell_type": "code",
   "execution_count": 14,
   "metadata": {},
   "outputs": [],
   "source": [
    "if tabla[tabla['Diferencia PCR'] != 0]['Diferencia PCR'].sum() > 0:\n",
    "  # Save to csv\n",
    "  tabla.to_csv('covid_huelva.csv', encoding='utf-8', header=True, index=True)  "
   ]
  },
  {
   "cell_type": "code",
   "execution_count": 15,
   "metadata": {},
   "outputs": [
    {
     "output_type": "execute_result",
     "data": {
      "text/plain": "Medida                             Confirmados PCR  Confirmados PCR 7 días  \\\nLugar de residencia                                                          \nCampillo (El)                                 26.0                    24.0   \nManzanilla                                    16.0                    11.0   \nAlmendro (El)                                  5.0                     1.0   \nValdelarco                                     2.0                     1.0   \nPalma del Condado (La)                        69.0                    31.0   \nBollullos Par del Condado                     84.0                    27.0   \nGranado (El)                                   2.0                     1.0   \nJabugo                                         5.0                     1.0   \nVillanueva de los Castillejos                  7.0                     5.0   \nCerro de Andévalo (El)                         5.0                     4.0   \nAroche                                         9.0                     1.0   \nLepe                                         105.0                    22.0   \nLucena del Puerto                              9.0                     4.0   \nPaterna del Campo                             11.0                     4.0   \nCondado-Campiña                              486.0                   111.0   \nVillablanca                                    5.0                     3.0   \nVillarrasa                                     5.0                     1.0   \nTrigueros                                     36.0                     3.0   \nAyamonte                                      50.0                     3.0   \nGibraleón                                     25.0                     9.0   \nHuelva                                      1480.0                   235.0   \nSierra de Huelva-Andévalo Central            210.0                    37.0   \nPunta Umbría                                  35.0                     6.0   \nMoguer                                        43.0                    10.0   \nAlosno                                         6.0                     1.0   \nHuelva-Costa                                 760.0                    85.0   \nZalamea la Real                               21.0                     1.0   \nIsla Cristina                                 66.0                     4.0   \nCumbres Mayores                                2.0                     1.0   \nHuelva (capital)                             361.0                    33.0   \nMinas de Riotinto                             17.0                     1.0   \nRociana del Condado                            9.0                     3.0   \nPalos de la Frontera                          27.0                     1.0   \nSan Juan del Puerto                           23.0                     2.0   \nAljaraque                                     71.0                     4.0   \nAlmonte                                       54.0                     2.0   \nBonares                                        5.0                     1.0   \nSan Bartolomé de la Torre                      3.0                     1.0   \nCartaya                                       25.0                     2.0   \nAracena                                       48.0                     1.0   \nNiebla                                         3.0                     1.0   \nCortegana                                     10.0                     1.0   \nValverde del Camino                           27.0                     1.0   \n\nMedida                             Confirmados PCR 14 días  Población  \\\nLugar de residencia                                                     \nCampillo (El)                                         24.0     2023.0   \nManzanilla                                            12.0     2135.0   \nAlmendro (El)                                          4.0      826.0   \nValdelarco                                             1.0      239.0   \nPalma del Condado (La)                                37.0    10761.0   \nBollullos Par del Condado                             48.0    14272.0   \nGranado (El)                                           1.0      516.0   \nJabugo                                                 4.0     2250.0   \nVillanueva de los Castillejos                          5.0     2820.0   \nCerro de Andévalo (El)                                 4.0     2364.0   \nAroche                                                 5.0     3073.0   \nLepe                                                  37.0    27431.0   \nLucena del Puerto                                      4.0     3371.0   \nPaterna del Campo                                      4.0     3509.0   \nCondado-Campiña                                      172.0   155057.0   \nVillablanca                                            3.0     2848.0   \nVillarrasa                                             2.0     2176.0   \nTrigueros                                              7.0     7713.0   \nAyamonte                                              19.0    20946.0   \nGibraleón                                             11.0    12607.0   \nHuelva                                               422.0   510743.0   \nSierra de Huelva-Andévalo Central                     55.0    67571.0   \nPunta Umbría                                          12.0    15242.0   \nMoguer                                                17.0    22088.0   \nAlosno                                                 3.0     3923.0   \nHuelva-Costa                                         192.0   288115.0   \nZalamea la Real                                        2.0     3068.0   \nIsla Cristina                                         13.0    21264.0   \nCumbres Mayores                                        1.0     1755.0   \nHuelva (capital)                                      81.0   143663.0   \nMinas de Riotinto                                      2.0     3848.0   \nRociana del Condado                                    4.0     7855.0   \nPalos de la Frontera                                   5.0    11289.0   \nSan Juan del Puerto                                    4.0     9300.0   \nAljaraque                                              8.0    21260.0   \nAlmonte                                                9.0    24191.0   \nBonares                                                2.0     6058.0   \nSan Bartolomé de la Torre                              1.0     3736.0   \nCartaya                                                5.0    19974.0   \nAracena                                                2.0     8107.0   \nNiebla                                                 1.0     4117.0   \nCortegana                                              1.0     4666.0   \nValverde del Camino                                    1.0    12820.0   \n\nMedida                                   tasa7       tasa14  Diferencia PCR  \nLugar de residencia                                                          \nCampillo (El)                      1186.356896  1186.356896             0.0  \nManzanilla                          515.222482   562.060890             3.0  \nAlmendro (El)                       121.065375   484.261501             1.0  \nValdelarco                          418.410042   418.410042             NaN  \nPalma del Condado (La)              288.077316   343.834216             5.0  \nBollullos Par del Condado           189.181614   336.322870             0.0  \nGranado (El)                        193.798450   193.798450             0.0  \nJabugo                               44.444444   177.777778             0.0  \nVillanueva de los Castillejos       177.304965   177.304965             1.0  \nCerro de Andévalo (El)              169.204738   169.204738             1.0  \nAroche                               32.541490   162.707452             0.0  \nLepe                                 80.201232   134.883890             6.0  \nLucena del Puerto                   118.659152   118.659152             2.0  \nPaterna del Campo                   113.992590   113.992590             0.0  \nCondado-Campiña                      71.586578   110.926949            21.0  \nVillablanca                         105.337079   105.337079             0.0  \nVillarrasa                           45.955882    91.911765             0.0  \nTrigueros                            38.895371    90.755867             0.0  \nAyamonte                             14.322544    90.709443             0.0  \nGibraleón                            71.388911    87.253113             4.0  \nHuelva                               46.011399    82.624725            38.0  \nSierra de Huelva-Andévalo Central    54.757218    81.395865             3.0  \nPunta Umbría                         39.364913    78.729825             0.0  \nMoguer                               45.273452    76.964868             2.0  \nAlosno                               25.490696    76.472088             0.0  \nHuelva-Costa                         29.502109    66.640057            14.0  \nZalamea la Real                      32.594524    65.189048             0.0  \nIsla Cristina                        18.811136    61.136193             0.0  \nCumbres Mayores                      56.980057    56.980057             0.0  \nHuelva (capital)                     22.970424    56.381949             6.0  \nMinas de Riotinto                    25.987526    51.975052             0.0  \nRociana del Condado                  38.192234    50.922979             2.0  \nPalos de la Frontera                  8.858181    44.290903             0.0  \nSan Juan del Puerto                  21.505376    43.010753             NaN  \nAljaraque                            18.814675    37.629351             0.0  \nAlmonte                               8.267538    37.203919             1.0  \nBonares                              16.507098    33.014196             0.0  \nSan Bartolomé de la Torre            26.766595    26.766595             0.0  \nCartaya                              10.013017    25.032542             0.0  \nAracena                              12.335019    24.670038             NaN  \nNiebla                               24.289531    24.289531             0.0  \nCortegana                            21.431633    21.431633             0.0  \nValverde del Camino                   7.800312     7.800312             0.0  ",
      "text/html": "<div>\n<style scoped>\n    .dataframe tbody tr th:only-of-type {\n        vertical-align: middle;\n    }\n\n    .dataframe tbody tr th {\n        vertical-align: top;\n    }\n\n    .dataframe thead th {\n        text-align: right;\n    }\n</style>\n<table border=\"1\" class=\"dataframe\">\n  <thead>\n    <tr style=\"text-align: right;\">\n      <th>Medida</th>\n      <th>Confirmados PCR</th>\n      <th>Confirmados PCR 7 días</th>\n      <th>Confirmados PCR 14 días</th>\n      <th>Población</th>\n      <th>tasa7</th>\n      <th>tasa14</th>\n      <th>Diferencia PCR</th>\n    </tr>\n    <tr>\n      <th>Lugar de residencia</th>\n      <th></th>\n      <th></th>\n      <th></th>\n      <th></th>\n      <th></th>\n      <th></th>\n      <th></th>\n    </tr>\n  </thead>\n  <tbody>\n    <tr>\n      <th>Campillo (El)</th>\n      <td>26.0</td>\n      <td>24.0</td>\n      <td>24.0</td>\n      <td>2023.0</td>\n      <td>1186.356896</td>\n      <td>1186.356896</td>\n      <td>0.0</td>\n    </tr>\n    <tr>\n      <th>Manzanilla</th>\n      <td>16.0</td>\n      <td>11.0</td>\n      <td>12.0</td>\n      <td>2135.0</td>\n      <td>515.222482</td>\n      <td>562.060890</td>\n      <td>3.0</td>\n    </tr>\n    <tr>\n      <th>Almendro (El)</th>\n      <td>5.0</td>\n      <td>1.0</td>\n      <td>4.0</td>\n      <td>826.0</td>\n      <td>121.065375</td>\n      <td>484.261501</td>\n      <td>1.0</td>\n    </tr>\n    <tr>\n      <th>Valdelarco</th>\n      <td>2.0</td>\n      <td>1.0</td>\n      <td>1.0</td>\n      <td>239.0</td>\n      <td>418.410042</td>\n      <td>418.410042</td>\n      <td>NaN</td>\n    </tr>\n    <tr>\n      <th>Palma del Condado (La)</th>\n      <td>69.0</td>\n      <td>31.0</td>\n      <td>37.0</td>\n      <td>10761.0</td>\n      <td>288.077316</td>\n      <td>343.834216</td>\n      <td>5.0</td>\n    </tr>\n    <tr>\n      <th>Bollullos Par del Condado</th>\n      <td>84.0</td>\n      <td>27.0</td>\n      <td>48.0</td>\n      <td>14272.0</td>\n      <td>189.181614</td>\n      <td>336.322870</td>\n      <td>0.0</td>\n    </tr>\n    <tr>\n      <th>Granado (El)</th>\n      <td>2.0</td>\n      <td>1.0</td>\n      <td>1.0</td>\n      <td>516.0</td>\n      <td>193.798450</td>\n      <td>193.798450</td>\n      <td>0.0</td>\n    </tr>\n    <tr>\n      <th>Jabugo</th>\n      <td>5.0</td>\n      <td>1.0</td>\n      <td>4.0</td>\n      <td>2250.0</td>\n      <td>44.444444</td>\n      <td>177.777778</td>\n      <td>0.0</td>\n    </tr>\n    <tr>\n      <th>Villanueva de los Castillejos</th>\n      <td>7.0</td>\n      <td>5.0</td>\n      <td>5.0</td>\n      <td>2820.0</td>\n      <td>177.304965</td>\n      <td>177.304965</td>\n      <td>1.0</td>\n    </tr>\n    <tr>\n      <th>Cerro de Andévalo (El)</th>\n      <td>5.0</td>\n      <td>4.0</td>\n      <td>4.0</td>\n      <td>2364.0</td>\n      <td>169.204738</td>\n      <td>169.204738</td>\n      <td>1.0</td>\n    </tr>\n    <tr>\n      <th>Aroche</th>\n      <td>9.0</td>\n      <td>1.0</td>\n      <td>5.0</td>\n      <td>3073.0</td>\n      <td>32.541490</td>\n      <td>162.707452</td>\n      <td>0.0</td>\n    </tr>\n    <tr>\n      <th>Lepe</th>\n      <td>105.0</td>\n      <td>22.0</td>\n      <td>37.0</td>\n      <td>27431.0</td>\n      <td>80.201232</td>\n      <td>134.883890</td>\n      <td>6.0</td>\n    </tr>\n    <tr>\n      <th>Lucena del Puerto</th>\n      <td>9.0</td>\n      <td>4.0</td>\n      <td>4.0</td>\n      <td>3371.0</td>\n      <td>118.659152</td>\n      <td>118.659152</td>\n      <td>2.0</td>\n    </tr>\n    <tr>\n      <th>Paterna del Campo</th>\n      <td>11.0</td>\n      <td>4.0</td>\n      <td>4.0</td>\n      <td>3509.0</td>\n      <td>113.992590</td>\n      <td>113.992590</td>\n      <td>0.0</td>\n    </tr>\n    <tr>\n      <th>Condado-Campiña</th>\n      <td>486.0</td>\n      <td>111.0</td>\n      <td>172.0</td>\n      <td>155057.0</td>\n      <td>71.586578</td>\n      <td>110.926949</td>\n      <td>21.0</td>\n    </tr>\n    <tr>\n      <th>Villablanca</th>\n      <td>5.0</td>\n      <td>3.0</td>\n      <td>3.0</td>\n      <td>2848.0</td>\n      <td>105.337079</td>\n      <td>105.337079</td>\n      <td>0.0</td>\n    </tr>\n    <tr>\n      <th>Villarrasa</th>\n      <td>5.0</td>\n      <td>1.0</td>\n      <td>2.0</td>\n      <td>2176.0</td>\n      <td>45.955882</td>\n      <td>91.911765</td>\n      <td>0.0</td>\n    </tr>\n    <tr>\n      <th>Trigueros</th>\n      <td>36.0</td>\n      <td>3.0</td>\n      <td>7.0</td>\n      <td>7713.0</td>\n      <td>38.895371</td>\n      <td>90.755867</td>\n      <td>0.0</td>\n    </tr>\n    <tr>\n      <th>Ayamonte</th>\n      <td>50.0</td>\n      <td>3.0</td>\n      <td>19.0</td>\n      <td>20946.0</td>\n      <td>14.322544</td>\n      <td>90.709443</td>\n      <td>0.0</td>\n    </tr>\n    <tr>\n      <th>Gibraleón</th>\n      <td>25.0</td>\n      <td>9.0</td>\n      <td>11.0</td>\n      <td>12607.0</td>\n      <td>71.388911</td>\n      <td>87.253113</td>\n      <td>4.0</td>\n    </tr>\n    <tr>\n      <th>Huelva</th>\n      <td>1480.0</td>\n      <td>235.0</td>\n      <td>422.0</td>\n      <td>510743.0</td>\n      <td>46.011399</td>\n      <td>82.624725</td>\n      <td>38.0</td>\n    </tr>\n    <tr>\n      <th>Sierra de Huelva-Andévalo Central</th>\n      <td>210.0</td>\n      <td>37.0</td>\n      <td>55.0</td>\n      <td>67571.0</td>\n      <td>54.757218</td>\n      <td>81.395865</td>\n      <td>3.0</td>\n    </tr>\n    <tr>\n      <th>Punta Umbría</th>\n      <td>35.0</td>\n      <td>6.0</td>\n      <td>12.0</td>\n      <td>15242.0</td>\n      <td>39.364913</td>\n      <td>78.729825</td>\n      <td>0.0</td>\n    </tr>\n    <tr>\n      <th>Moguer</th>\n      <td>43.0</td>\n      <td>10.0</td>\n      <td>17.0</td>\n      <td>22088.0</td>\n      <td>45.273452</td>\n      <td>76.964868</td>\n      <td>2.0</td>\n    </tr>\n    <tr>\n      <th>Alosno</th>\n      <td>6.0</td>\n      <td>1.0</td>\n      <td>3.0</td>\n      <td>3923.0</td>\n      <td>25.490696</td>\n      <td>76.472088</td>\n      <td>0.0</td>\n    </tr>\n    <tr>\n      <th>Huelva-Costa</th>\n      <td>760.0</td>\n      <td>85.0</td>\n      <td>192.0</td>\n      <td>288115.0</td>\n      <td>29.502109</td>\n      <td>66.640057</td>\n      <td>14.0</td>\n    </tr>\n    <tr>\n      <th>Zalamea la Real</th>\n      <td>21.0</td>\n      <td>1.0</td>\n      <td>2.0</td>\n      <td>3068.0</td>\n      <td>32.594524</td>\n      <td>65.189048</td>\n      <td>0.0</td>\n    </tr>\n    <tr>\n      <th>Isla Cristina</th>\n      <td>66.0</td>\n      <td>4.0</td>\n      <td>13.0</td>\n      <td>21264.0</td>\n      <td>18.811136</td>\n      <td>61.136193</td>\n      <td>0.0</td>\n    </tr>\n    <tr>\n      <th>Cumbres Mayores</th>\n      <td>2.0</td>\n      <td>1.0</td>\n      <td>1.0</td>\n      <td>1755.0</td>\n      <td>56.980057</td>\n      <td>56.980057</td>\n      <td>0.0</td>\n    </tr>\n    <tr>\n      <th>Huelva (capital)</th>\n      <td>361.0</td>\n      <td>33.0</td>\n      <td>81.0</td>\n      <td>143663.0</td>\n      <td>22.970424</td>\n      <td>56.381949</td>\n      <td>6.0</td>\n    </tr>\n    <tr>\n      <th>Minas de Riotinto</th>\n      <td>17.0</td>\n      <td>1.0</td>\n      <td>2.0</td>\n      <td>3848.0</td>\n      <td>25.987526</td>\n      <td>51.975052</td>\n      <td>0.0</td>\n    </tr>\n    <tr>\n      <th>Rociana del Condado</th>\n      <td>9.0</td>\n      <td>3.0</td>\n      <td>4.0</td>\n      <td>7855.0</td>\n      <td>38.192234</td>\n      <td>50.922979</td>\n      <td>2.0</td>\n    </tr>\n    <tr>\n      <th>Palos de la Frontera</th>\n      <td>27.0</td>\n      <td>1.0</td>\n      <td>5.0</td>\n      <td>11289.0</td>\n      <td>8.858181</td>\n      <td>44.290903</td>\n      <td>0.0</td>\n    </tr>\n    <tr>\n      <th>San Juan del Puerto</th>\n      <td>23.0</td>\n      <td>2.0</td>\n      <td>4.0</td>\n      <td>9300.0</td>\n      <td>21.505376</td>\n      <td>43.010753</td>\n      <td>NaN</td>\n    </tr>\n    <tr>\n      <th>Aljaraque</th>\n      <td>71.0</td>\n      <td>4.0</td>\n      <td>8.0</td>\n      <td>21260.0</td>\n      <td>18.814675</td>\n      <td>37.629351</td>\n      <td>0.0</td>\n    </tr>\n    <tr>\n      <th>Almonte</th>\n      <td>54.0</td>\n      <td>2.0</td>\n      <td>9.0</td>\n      <td>24191.0</td>\n      <td>8.267538</td>\n      <td>37.203919</td>\n      <td>1.0</td>\n    </tr>\n    <tr>\n      <th>Bonares</th>\n      <td>5.0</td>\n      <td>1.0</td>\n      <td>2.0</td>\n      <td>6058.0</td>\n      <td>16.507098</td>\n      <td>33.014196</td>\n      <td>0.0</td>\n    </tr>\n    <tr>\n      <th>San Bartolomé de la Torre</th>\n      <td>3.0</td>\n      <td>1.0</td>\n      <td>1.0</td>\n      <td>3736.0</td>\n      <td>26.766595</td>\n      <td>26.766595</td>\n      <td>0.0</td>\n    </tr>\n    <tr>\n      <th>Cartaya</th>\n      <td>25.0</td>\n      <td>2.0</td>\n      <td>5.0</td>\n      <td>19974.0</td>\n      <td>10.013017</td>\n      <td>25.032542</td>\n      <td>0.0</td>\n    </tr>\n    <tr>\n      <th>Aracena</th>\n      <td>48.0</td>\n      <td>1.0</td>\n      <td>2.0</td>\n      <td>8107.0</td>\n      <td>12.335019</td>\n      <td>24.670038</td>\n      <td>NaN</td>\n    </tr>\n    <tr>\n      <th>Niebla</th>\n      <td>3.0</td>\n      <td>1.0</td>\n      <td>1.0</td>\n      <td>4117.0</td>\n      <td>24.289531</td>\n      <td>24.289531</td>\n      <td>0.0</td>\n    </tr>\n    <tr>\n      <th>Cortegana</th>\n      <td>10.0</td>\n      <td>1.0</td>\n      <td>1.0</td>\n      <td>4666.0</td>\n      <td>21.431633</td>\n      <td>21.431633</td>\n      <td>0.0</td>\n    </tr>\n    <tr>\n      <th>Valverde del Camino</th>\n      <td>27.0</td>\n      <td>1.0</td>\n      <td>1.0</td>\n      <td>12820.0</td>\n      <td>7.800312</td>\n      <td>7.800312</td>\n      <td>0.0</td>\n    </tr>\n  </tbody>\n</table>\n</div>"
     },
     "metadata": {},
     "execution_count": 15
    }
   ],
   "source": [
    "tabla.sort_values('tasa14', ascending=False)"
   ]
  },
  {
   "cell_type": "code",
   "execution_count": null,
   "metadata": {},
   "outputs": [],
   "source": []
  }
 ]
}