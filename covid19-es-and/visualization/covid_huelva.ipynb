{
 "metadata": {
  "language_info": {
   "codemirror_mode": {
    "name": "ipython",
    "version": 3
   },
   "file_extension": ".py",
   "mimetype": "text/x-python",
   "name": "python",
   "nbconvert_exporter": "python",
   "pygments_lexer": "ipython3",
   "version": "3.6.9-final"
  },
  "orig_nbformat": 2,
  "kernelspec": {
   "name": "python_defaultSpec_1600091993194",
   "display_name": "Python 3.6.9 64-bit"
  }
 },
 "nbformat": 4,
 "nbformat_minor": 2,
 "cells": [
  {
   "cell_type": "code",
   "execution_count": 1,
   "metadata": {},
   "outputs": [],
   "source": [
    "import pandas as pd"
   ]
  },
  {
   "cell_type": "code",
   "execution_count": 2,
   "metadata": {},
   "outputs": [],
   "source": [
    "url = 'https://www.juntadeandalucia.es/institutodeestadisticaycartografia/badea/stpivot/stpivot/Print?cube=013d884c-cfc5-4c21-9e78-e26225682afd&type=3&foto=si&ejecutaDesde=&codConsulta=38668&consTipoVisua=JP'\n",
    "fields = ['Lugar de residencia', 'Medida', 'Valor']\n",
    "df = pd.read_csv(url, delimiter=';', usecols=fields, decimal=',')"
   ]
  },
  {
   "cell_type": "code",
   "execution_count": 3,
   "metadata": {},
   "outputs": [],
   "source": [
    "df['Valor'] = pd.to_numeric(df['Valor'],errors='coerce')"
   ]
  },
  {
   "cell_type": "code",
   "execution_count": 4,
   "metadata": {},
   "outputs": [],
   "source": [
    "dfAnterior = pd.read_csv('covid_huelva.csv', index_col='Lugar de residencia')"
   ]
  },
  {
   "cell_type": "code",
   "execution_count": 5,
   "metadata": {
    "tags": []
   },
   "outputs": [
    {
     "output_type": "stream",
     "name": "stdout",
     "text": "Confirmados PCR en la provincia de Huelva:  961.0\n"
    }
   ],
   "source": [
    "# Confirmados PCR provincia Huelva\n",
    "p = df[df['Lugar de residencia'] == 'Huelva'][df['Medida'] == 'Confirmados PCR']['Valor'].values[0]\n",
    "print('Confirmados PCR en la provincia de Huelva: ', p)"
   ]
  },
  {
   "cell_type": "code",
   "execution_count": 6,
   "metadata": {
    "tags": []
   },
   "outputs": [
    {
     "output_type": "stream",
     "name": "stdout",
     "text": "Confirmados PCR en Huelva capital:  242.0\n"
    }
   ],
   "source": [
    "# Confirmados PCR Huelva capital\n",
    "c = df[df['Lugar de residencia'] == 'Huelva (capital)'][df['Medida'] == 'Confirmados PCR']['Valor'].values[0]\n",
    "print('Confirmados PCR en Huelva capital: ', c)"
   ]
  },
  {
   "cell_type": "code",
   "execution_count": 7,
   "metadata": {
    "tags": []
   },
   "outputs": [],
   "source": [
    "c7 = df[df['Lugar de residencia'] == 'Huelva (capital)'][df['Medida'] == 'Confirmados PCR 7 días']['Valor'].values[0]\n",
    "c14 = df[df['Lugar de residencia'] == 'Huelva (capital)'][df['Medida'] == 'Confirmados PCR 14 días']['Valor'].values[0]\n",
    "p = df[df['Lugar de residencia'] == 'Huelva (capital)'][df['Medida'] == 'Población']['Valor'].values[0]"
   ]
  },
  {
   "cell_type": "code",
   "execution_count": 8,
   "metadata": {
    "tags": []
   },
   "outputs": [
    {
     "output_type": "stream",
     "name": "stdout",
     "text": "Huelva (capital)\n\nUn positivo PCR cada 6530 personas en los últimos 7 días \n\nUn positivo PCR cada 3684 personas en los últimos 14 días\n"
    }
   ],
   "source": [
    "print('Huelva (capital)\\n')\n",
    "#print('Confirmados PCR 7 días x 1,000 habitantes: ', f\"{c7/(p/1000):.5f}\")\n",
    "print('Un positivo PCR cada', f\"{p/c7:.0f}\", 'personas en los últimos 7 días', '\\n')\n",
    "#print('Confirmados PCR 14 días x 1,000 habitantes: ', f\"{c14/(p/1000):.5f}\")\n",
    "print('Un positivo PCR cada', f\"{p/c14:.0f}\", 'personas en los últimos 14 días')"
   ]
  },
  {
   "cell_type": "code",
   "execution_count": 9,
   "metadata": {},
   "outputs": [],
   "source": [
    "filtro = ((df['Medida'] == 'Confirmados PCR')| (df['Medida'] == 'Confirmados PCR 7 días') | (df['Medida'] == 'Población' ) | (df['Medida'] == 'Confirmados PCR 14 días')) & (df['Valor'] > 0)\n",
    "tabla = pd.pivot_table(df.loc[filtro], values='Valor', index='Lugar de residencia', columns='Medida').dropna()"
   ]
  },
  {
   "cell_type": "code",
   "execution_count": 10,
   "metadata": {},
   "outputs": [],
   "source": [
    "# Reorder columns\n",
    "tabla = tabla[['Confirmados PCR', 'Confirmados PCR 7 días', 'Confirmados PCR 14 días', 'Población']]"
   ]
  },
  {
   "cell_type": "code",
   "execution_count": 11,
   "metadata": {},
   "outputs": [],
   "source": [
    "tabla['tasa7'] = tabla['Confirmados PCR 7 días']/tabla['Población']*100000\n",
    "tabla['tasa14'] = tabla['Confirmados PCR 14 días']/tabla['Población']*100000"
   ]
  },
  {
   "cell_type": "code",
   "execution_count": 12,
   "metadata": {},
   "outputs": [],
   "source": [
    "tabla['Diferencia PCR'] = tabla['Confirmados PCR'] - dfAnterior['Confirmados PCR']"
   ]
  },
  {
   "cell_type": "code",
   "execution_count": 13,
   "metadata": {},
   "outputs": [
    {
     "output_type": "execute_result",
     "data": {
      "text/plain": "Medida                             Confirmados PCR  Confirmados PCR 7 días  \\\nLugar de residencia                                                          \nHuelva                                       961.0                   157.0   \nHuelva-Costa                                 503.0                    81.0   \nCondado-Campiña                              295.0                    61.0   \nHuelva (capital)                             242.0                    22.0   \nAyamonte                                      26.0                    11.0   \nIsla Cristina                                 48.0                    16.0   \nSierra de Huelva-Andévalo Central            147.0                     8.0   \nPalos de la Frontera                          18.0                    10.0   \nBollullos Par del Condado                     35.0                    17.0   \nCabezas Rubias                                 8.0                     6.0   \nZalamea la Real                               19.0                     5.0   \nLepe                                          65.0                    10.0   \nCartaya                                       19.0                     5.0   \nAljaraque                                     52.0                     7.0   \nAlmonte                                       44.0                     3.0   \nVillalba del Alcor                            35.0                    11.0   \nPunta Umbría                                  23.0                     3.0   \nEscacena del Campo                            15.0                     6.0   \n\nMedida                             Confirmados PCR 14 días  Población  \\\nLugar de residencia                                                     \nHuelva                                               263.0   510743.0   \nHuelva-Costa                                         132.0   288115.0   \nCondado-Campiña                                      104.0   155057.0   \nHuelva (capital)                                      39.0   143663.0   \nAyamonte                                              15.0    20946.0   \nIsla Cristina                                         31.0    21264.0   \nSierra de Huelva-Andévalo Central                     19.0    67571.0   \nPalos de la Frontera                                  10.0    11289.0   \nBollullos Par del Condado                             23.0    14272.0   \nCabezas Rubias                                         7.0      730.0   \nZalamea la Real                                        6.0     3068.0   \nLepe                                                  16.0    27431.0   \nCartaya                                                5.0    19974.0   \nAljaraque                                              9.0    21260.0   \nAlmonte                                               11.0    24191.0   \nVillalba del Alcor                                    25.0     3338.0   \nPunta Umbría                                           9.0    15242.0   \nEscacena del Campo                                    11.0     2284.0   \n\nMedida                                  tasa7      tasa14  Diferencia PCR  \nLugar de residencia                                                        \nHuelva                              30.739530   51.493608            84.0  \nHuelva-Costa                        28.113774   45.815039            54.0  \nCondado-Campiña                     39.340372   67.072109            20.0  \nHuelva (capital)                    15.313616   27.146865            15.0  \nAyamonte                            52.515994   71.612718             9.0  \nIsla Cristina                       75.244545  145.786305             9.0  \nSierra de Huelva-Andévalo Central   11.839399   28.118572             8.0  \nPalos de la Frontera                88.581805   88.581805             7.0  \nBollullos Par del Condado          119.114350  161.154709             6.0  \nCabezas Rubias                     821.917808  958.904110             6.0  \nZalamea la Real                    162.972621  195.567145             5.0  \nLepe                                36.455106   58.328169             4.0  \nCartaya                             25.032542   25.032542             4.0  \nAljaraque                           32.925682   42.333020             4.0  \nAlmonte                             12.401306   45.471456             3.0  \nVillalba del Alcor                 329.538646  748.951468             3.0  \nPunta Umbría                        19.682456   59.047369             2.0  \nEscacena del Campo                 262.697023  481.611208             1.0  ",
      "text/html": "<div>\n<style scoped>\n    .dataframe tbody tr th:only-of-type {\n        vertical-align: middle;\n    }\n\n    .dataframe tbody tr th {\n        vertical-align: top;\n    }\n\n    .dataframe thead th {\n        text-align: right;\n    }\n</style>\n<table border=\"1\" class=\"dataframe\">\n  <thead>\n    <tr style=\"text-align: right;\">\n      <th>Medida</th>\n      <th>Confirmados PCR</th>\n      <th>Confirmados PCR 7 días</th>\n      <th>Confirmados PCR 14 días</th>\n      <th>Población</th>\n      <th>tasa7</th>\n      <th>tasa14</th>\n      <th>Diferencia PCR</th>\n    </tr>\n    <tr>\n      <th>Lugar de residencia</th>\n      <th></th>\n      <th></th>\n      <th></th>\n      <th></th>\n      <th></th>\n      <th></th>\n      <th></th>\n    </tr>\n  </thead>\n  <tbody>\n    <tr>\n      <th>Huelva</th>\n      <td>961.0</td>\n      <td>157.0</td>\n      <td>263.0</td>\n      <td>510743.0</td>\n      <td>30.739530</td>\n      <td>51.493608</td>\n      <td>84.0</td>\n    </tr>\n    <tr>\n      <th>Huelva-Costa</th>\n      <td>503.0</td>\n      <td>81.0</td>\n      <td>132.0</td>\n      <td>288115.0</td>\n      <td>28.113774</td>\n      <td>45.815039</td>\n      <td>54.0</td>\n    </tr>\n    <tr>\n      <th>Condado-Campiña</th>\n      <td>295.0</td>\n      <td>61.0</td>\n      <td>104.0</td>\n      <td>155057.0</td>\n      <td>39.340372</td>\n      <td>67.072109</td>\n      <td>20.0</td>\n    </tr>\n    <tr>\n      <th>Huelva (capital)</th>\n      <td>242.0</td>\n      <td>22.0</td>\n      <td>39.0</td>\n      <td>143663.0</td>\n      <td>15.313616</td>\n      <td>27.146865</td>\n      <td>15.0</td>\n    </tr>\n    <tr>\n      <th>Ayamonte</th>\n      <td>26.0</td>\n      <td>11.0</td>\n      <td>15.0</td>\n      <td>20946.0</td>\n      <td>52.515994</td>\n      <td>71.612718</td>\n      <td>9.0</td>\n    </tr>\n    <tr>\n      <th>Isla Cristina</th>\n      <td>48.0</td>\n      <td>16.0</td>\n      <td>31.0</td>\n      <td>21264.0</td>\n      <td>75.244545</td>\n      <td>145.786305</td>\n      <td>9.0</td>\n    </tr>\n    <tr>\n      <th>Sierra de Huelva-Andévalo Central</th>\n      <td>147.0</td>\n      <td>8.0</td>\n      <td>19.0</td>\n      <td>67571.0</td>\n      <td>11.839399</td>\n      <td>28.118572</td>\n      <td>8.0</td>\n    </tr>\n    <tr>\n      <th>Palos de la Frontera</th>\n      <td>18.0</td>\n      <td>10.0</td>\n      <td>10.0</td>\n      <td>11289.0</td>\n      <td>88.581805</td>\n      <td>88.581805</td>\n      <td>7.0</td>\n    </tr>\n    <tr>\n      <th>Bollullos Par del Condado</th>\n      <td>35.0</td>\n      <td>17.0</td>\n      <td>23.0</td>\n      <td>14272.0</td>\n      <td>119.114350</td>\n      <td>161.154709</td>\n      <td>6.0</td>\n    </tr>\n    <tr>\n      <th>Cabezas Rubias</th>\n      <td>8.0</td>\n      <td>6.0</td>\n      <td>7.0</td>\n      <td>730.0</td>\n      <td>821.917808</td>\n      <td>958.904110</td>\n      <td>6.0</td>\n    </tr>\n    <tr>\n      <th>Zalamea la Real</th>\n      <td>19.0</td>\n      <td>5.0</td>\n      <td>6.0</td>\n      <td>3068.0</td>\n      <td>162.972621</td>\n      <td>195.567145</td>\n      <td>5.0</td>\n    </tr>\n    <tr>\n      <th>Lepe</th>\n      <td>65.0</td>\n      <td>10.0</td>\n      <td>16.0</td>\n      <td>27431.0</td>\n      <td>36.455106</td>\n      <td>58.328169</td>\n      <td>4.0</td>\n    </tr>\n    <tr>\n      <th>Cartaya</th>\n      <td>19.0</td>\n      <td>5.0</td>\n      <td>5.0</td>\n      <td>19974.0</td>\n      <td>25.032542</td>\n      <td>25.032542</td>\n      <td>4.0</td>\n    </tr>\n    <tr>\n      <th>Aljaraque</th>\n      <td>52.0</td>\n      <td>7.0</td>\n      <td>9.0</td>\n      <td>21260.0</td>\n      <td>32.925682</td>\n      <td>42.333020</td>\n      <td>4.0</td>\n    </tr>\n    <tr>\n      <th>Almonte</th>\n      <td>44.0</td>\n      <td>3.0</td>\n      <td>11.0</td>\n      <td>24191.0</td>\n      <td>12.401306</td>\n      <td>45.471456</td>\n      <td>3.0</td>\n    </tr>\n    <tr>\n      <th>Villalba del Alcor</th>\n      <td>35.0</td>\n      <td>11.0</td>\n      <td>25.0</td>\n      <td>3338.0</td>\n      <td>329.538646</td>\n      <td>748.951468</td>\n      <td>3.0</td>\n    </tr>\n    <tr>\n      <th>Punta Umbría</th>\n      <td>23.0</td>\n      <td>3.0</td>\n      <td>9.0</td>\n      <td>15242.0</td>\n      <td>19.682456</td>\n      <td>59.047369</td>\n      <td>2.0</td>\n    </tr>\n    <tr>\n      <th>Escacena del Campo</th>\n      <td>15.0</td>\n      <td>6.0</td>\n      <td>11.0</td>\n      <td>2284.0</td>\n      <td>262.697023</td>\n      <td>481.611208</td>\n      <td>1.0</td>\n    </tr>\n  </tbody>\n</table>\n</div>"
     },
     "metadata": {},
     "execution_count": 13
    }
   ],
   "source": [
    "# Nuevos casos desde la última captura\n",
    "tabla[tabla['Diferencia PCR'] > 0].sort_values('Diferencia PCR', ascending=False)"
   ]
  },
  {
   "cell_type": "code",
   "execution_count": 14,
   "metadata": {},
   "outputs": [],
   "source": [
    "if tabla[tabla['Diferencia PCR'] > 0]['Diferencia PCR'].sum() > 0:\n",
    "  # Save to csv\n",
    "  tabla.to_csv('covid_huelva.csv', encoding='utf-8', header=True, index=True)  "
   ]
  },
  {
   "cell_type": "code",
   "execution_count": 15,
   "metadata": {},
   "outputs": [],
   "source": [
    "# Save to csv\n",
    "# tabla.to_csv('covid_huelva.csv', encoding='utf-8', header=True, index=True)"
   ]
  },
  {
   "cell_type": "code",
   "execution_count": 16,
   "metadata": {},
   "outputs": [
    {
     "output_type": "execute_result",
     "data": {
      "text/plain": "Medida                             Confirmados PCR  Confirmados PCR 7 días  \\\nLugar de residencia                                                          \nCabezas Rubias                                 8.0                     6.0   \nVillalba del Alcor                            35.0                    11.0   \nEscacena del Campo                            15.0                     6.0   \nZalamea la Real                               19.0                     5.0   \nBollullos Par del Condado                     35.0                    17.0   \nIsla Cristina                                 48.0                    16.0   \nPalma del Condado (La)                        31.0                     7.0   \nPalos de la Frontera                          18.0                    10.0   \nAyamonte                                      26.0                    11.0   \nCondado-Campiña                              295.0                    61.0   \nPunta Umbría                                  23.0                     3.0   \nLepe                                          65.0                    10.0   \nTrigueros                                     29.0                     3.0   \nHuelva                                       961.0                   157.0   \nVillarrasa                                     2.0                     1.0   \nHuelva-Costa                                 503.0                    81.0   \nAlmonte                                       44.0                     3.0   \nAljaraque                                     52.0                     7.0   \nCerro de Andévalo (El)                         1.0                     1.0   \nVillablanca                                    2.0                     1.0   \nValverde del Camino                           25.0                     2.0   \nSierra de Huelva-Andévalo Central            147.0                     8.0   \nHuelva (capital)                             242.0                    22.0   \nCartaya                                       19.0                     5.0   \nMoguer                                        26.0                     2.0   \nSan Juan del Puerto                           18.0                     1.0   \n\nMedida                             Confirmados PCR 14 días  Población  \\\nLugar de residencia                                                     \nCabezas Rubias                                         7.0      730.0   \nVillalba del Alcor                                    25.0     3338.0   \nEscacena del Campo                                    11.0     2284.0   \nZalamea la Real                                        6.0     3068.0   \nBollullos Par del Condado                             23.0    14272.0   \nIsla Cristina                                         31.0    21264.0   \nPalma del Condado (La)                                10.0    10761.0   \nPalos de la Frontera                                  10.0    11289.0   \nAyamonte                                              15.0    20946.0   \nCondado-Campiña                                      104.0   155057.0   \nPunta Umbría                                           9.0    15242.0   \nLepe                                                  16.0    27431.0   \nTrigueros                                              4.0     7713.0   \nHuelva                                               263.0   510743.0   \nVillarrasa                                             1.0     2176.0   \nHuelva-Costa                                         132.0   288115.0   \nAlmonte                                               11.0    24191.0   \nAljaraque                                              9.0    21260.0   \nCerro de Andévalo (El)                                 1.0     2364.0   \nVillablanca                                            1.0     2848.0   \nValverde del Camino                                    4.0    12820.0   \nSierra de Huelva-Andévalo Central                     19.0    67571.0   \nHuelva (capital)                                      39.0   143663.0   \nCartaya                                                5.0    19974.0   \nMoguer                                                 5.0    22088.0   \nSan Juan del Puerto                                    1.0     9300.0   \n\nMedida                                  tasa7      tasa14  Diferencia PCR  \nLugar de residencia                                                        \nCabezas Rubias                     821.917808  958.904110             6.0  \nVillalba del Alcor                 329.538646  748.951468             3.0  \nEscacena del Campo                 262.697023  481.611208             1.0  \nZalamea la Real                    162.972621  195.567145             5.0  \nBollullos Par del Condado          119.114350  161.154709             6.0  \nIsla Cristina                       75.244545  145.786305             9.0  \nPalma del Condado (La)              65.049717   92.928167             0.0  \nPalos de la Frontera                88.581805   88.581805             7.0  \nAyamonte                            52.515994   71.612718             9.0  \nCondado-Campiña                     39.340372   67.072109            20.0  \nPunta Umbría                        19.682456   59.047369             2.0  \nLepe                                36.455106   58.328169             4.0  \nTrigueros                           38.895371   51.860495             0.0  \nHuelva                              30.739530   51.493608            84.0  \nVillarrasa                          45.955882   45.955882             0.0  \nHuelva-Costa                        28.113774   45.815039            54.0  \nAlmonte                             12.401306   45.471456             3.0  \nAljaraque                           32.925682   42.333020             4.0  \nCerro de Andévalo (El)              42.301184   42.301184             NaN  \nVillablanca                         35.112360   35.112360             NaN  \nValverde del Camino                 15.600624   31.201248             NaN  \nSierra de Huelva-Andévalo Central   11.839399   28.118572             8.0  \nHuelva (capital)                    15.313616   27.146865            15.0  \nCartaya                             25.032542   25.032542             4.0  \nMoguer                               9.054690   22.636726             0.0  \nSan Juan del Puerto                 10.752688   10.752688             0.0  ",
      "text/html": "<div>\n<style scoped>\n    .dataframe tbody tr th:only-of-type {\n        vertical-align: middle;\n    }\n\n    .dataframe tbody tr th {\n        vertical-align: top;\n    }\n\n    .dataframe thead th {\n        text-align: right;\n    }\n</style>\n<table border=\"1\" class=\"dataframe\">\n  <thead>\n    <tr style=\"text-align: right;\">\n      <th>Medida</th>\n      <th>Confirmados PCR</th>\n      <th>Confirmados PCR 7 días</th>\n      <th>Confirmados PCR 14 días</th>\n      <th>Población</th>\n      <th>tasa7</th>\n      <th>tasa14</th>\n      <th>Diferencia PCR</th>\n    </tr>\n    <tr>\n      <th>Lugar de residencia</th>\n      <th></th>\n      <th></th>\n      <th></th>\n      <th></th>\n      <th></th>\n      <th></th>\n      <th></th>\n    </tr>\n  </thead>\n  <tbody>\n    <tr>\n      <th>Cabezas Rubias</th>\n      <td>8.0</td>\n      <td>6.0</td>\n      <td>7.0</td>\n      <td>730.0</td>\n      <td>821.917808</td>\n      <td>958.904110</td>\n      <td>6.0</td>\n    </tr>\n    <tr>\n      <th>Villalba del Alcor</th>\n      <td>35.0</td>\n      <td>11.0</td>\n      <td>25.0</td>\n      <td>3338.0</td>\n      <td>329.538646</td>\n      <td>748.951468</td>\n      <td>3.0</td>\n    </tr>\n    <tr>\n      <th>Escacena del Campo</th>\n      <td>15.0</td>\n      <td>6.0</td>\n      <td>11.0</td>\n      <td>2284.0</td>\n      <td>262.697023</td>\n      <td>481.611208</td>\n      <td>1.0</td>\n    </tr>\n    <tr>\n      <th>Zalamea la Real</th>\n      <td>19.0</td>\n      <td>5.0</td>\n      <td>6.0</td>\n      <td>3068.0</td>\n      <td>162.972621</td>\n      <td>195.567145</td>\n      <td>5.0</td>\n    </tr>\n    <tr>\n      <th>Bollullos Par del Condado</th>\n      <td>35.0</td>\n      <td>17.0</td>\n      <td>23.0</td>\n      <td>14272.0</td>\n      <td>119.114350</td>\n      <td>161.154709</td>\n      <td>6.0</td>\n    </tr>\n    <tr>\n      <th>Isla Cristina</th>\n      <td>48.0</td>\n      <td>16.0</td>\n      <td>31.0</td>\n      <td>21264.0</td>\n      <td>75.244545</td>\n      <td>145.786305</td>\n      <td>9.0</td>\n    </tr>\n    <tr>\n      <th>Palma del Condado (La)</th>\n      <td>31.0</td>\n      <td>7.0</td>\n      <td>10.0</td>\n      <td>10761.0</td>\n      <td>65.049717</td>\n      <td>92.928167</td>\n      <td>0.0</td>\n    </tr>\n    <tr>\n      <th>Palos de la Frontera</th>\n      <td>18.0</td>\n      <td>10.0</td>\n      <td>10.0</td>\n      <td>11289.0</td>\n      <td>88.581805</td>\n      <td>88.581805</td>\n      <td>7.0</td>\n    </tr>\n    <tr>\n      <th>Ayamonte</th>\n      <td>26.0</td>\n      <td>11.0</td>\n      <td>15.0</td>\n      <td>20946.0</td>\n      <td>52.515994</td>\n      <td>71.612718</td>\n      <td>9.0</td>\n    </tr>\n    <tr>\n      <th>Condado-Campiña</th>\n      <td>295.0</td>\n      <td>61.0</td>\n      <td>104.0</td>\n      <td>155057.0</td>\n      <td>39.340372</td>\n      <td>67.072109</td>\n      <td>20.0</td>\n    </tr>\n    <tr>\n      <th>Punta Umbría</th>\n      <td>23.0</td>\n      <td>3.0</td>\n      <td>9.0</td>\n      <td>15242.0</td>\n      <td>19.682456</td>\n      <td>59.047369</td>\n      <td>2.0</td>\n    </tr>\n    <tr>\n      <th>Lepe</th>\n      <td>65.0</td>\n      <td>10.0</td>\n      <td>16.0</td>\n      <td>27431.0</td>\n      <td>36.455106</td>\n      <td>58.328169</td>\n      <td>4.0</td>\n    </tr>\n    <tr>\n      <th>Trigueros</th>\n      <td>29.0</td>\n      <td>3.0</td>\n      <td>4.0</td>\n      <td>7713.0</td>\n      <td>38.895371</td>\n      <td>51.860495</td>\n      <td>0.0</td>\n    </tr>\n    <tr>\n      <th>Huelva</th>\n      <td>961.0</td>\n      <td>157.0</td>\n      <td>263.0</td>\n      <td>510743.0</td>\n      <td>30.739530</td>\n      <td>51.493608</td>\n      <td>84.0</td>\n    </tr>\n    <tr>\n      <th>Villarrasa</th>\n      <td>2.0</td>\n      <td>1.0</td>\n      <td>1.0</td>\n      <td>2176.0</td>\n      <td>45.955882</td>\n      <td>45.955882</td>\n      <td>0.0</td>\n    </tr>\n    <tr>\n      <th>Huelva-Costa</th>\n      <td>503.0</td>\n      <td>81.0</td>\n      <td>132.0</td>\n      <td>288115.0</td>\n      <td>28.113774</td>\n      <td>45.815039</td>\n      <td>54.0</td>\n    </tr>\n    <tr>\n      <th>Almonte</th>\n      <td>44.0</td>\n      <td>3.0</td>\n      <td>11.0</td>\n      <td>24191.0</td>\n      <td>12.401306</td>\n      <td>45.471456</td>\n      <td>3.0</td>\n    </tr>\n    <tr>\n      <th>Aljaraque</th>\n      <td>52.0</td>\n      <td>7.0</td>\n      <td>9.0</td>\n      <td>21260.0</td>\n      <td>32.925682</td>\n      <td>42.333020</td>\n      <td>4.0</td>\n    </tr>\n    <tr>\n      <th>Cerro de Andévalo (El)</th>\n      <td>1.0</td>\n      <td>1.0</td>\n      <td>1.0</td>\n      <td>2364.0</td>\n      <td>42.301184</td>\n      <td>42.301184</td>\n      <td>NaN</td>\n    </tr>\n    <tr>\n      <th>Villablanca</th>\n      <td>2.0</td>\n      <td>1.0</td>\n      <td>1.0</td>\n      <td>2848.0</td>\n      <td>35.112360</td>\n      <td>35.112360</td>\n      <td>NaN</td>\n    </tr>\n    <tr>\n      <th>Valverde del Camino</th>\n      <td>25.0</td>\n      <td>2.0</td>\n      <td>4.0</td>\n      <td>12820.0</td>\n      <td>15.600624</td>\n      <td>31.201248</td>\n      <td>NaN</td>\n    </tr>\n    <tr>\n      <th>Sierra de Huelva-Andévalo Central</th>\n      <td>147.0</td>\n      <td>8.0</td>\n      <td>19.0</td>\n      <td>67571.0</td>\n      <td>11.839399</td>\n      <td>28.118572</td>\n      <td>8.0</td>\n    </tr>\n    <tr>\n      <th>Huelva (capital)</th>\n      <td>242.0</td>\n      <td>22.0</td>\n      <td>39.0</td>\n      <td>143663.0</td>\n      <td>15.313616</td>\n      <td>27.146865</td>\n      <td>15.0</td>\n    </tr>\n    <tr>\n      <th>Cartaya</th>\n      <td>19.0</td>\n      <td>5.0</td>\n      <td>5.0</td>\n      <td>19974.0</td>\n      <td>25.032542</td>\n      <td>25.032542</td>\n      <td>4.0</td>\n    </tr>\n    <tr>\n      <th>Moguer</th>\n      <td>26.0</td>\n      <td>2.0</td>\n      <td>5.0</td>\n      <td>22088.0</td>\n      <td>9.054690</td>\n      <td>22.636726</td>\n      <td>0.0</td>\n    </tr>\n    <tr>\n      <th>San Juan del Puerto</th>\n      <td>18.0</td>\n      <td>1.0</td>\n      <td>1.0</td>\n      <td>9300.0</td>\n      <td>10.752688</td>\n      <td>10.752688</td>\n      <td>0.0</td>\n    </tr>\n  </tbody>\n</table>\n</div>"
     },
     "metadata": {},
     "execution_count": 16
    }
   ],
   "source": [
    "tabla.sort_values('tasa14', ascending=False)"
   ]
  },
  {
   "cell_type": "code",
   "execution_count": null,
   "metadata": {},
   "outputs": [],
   "source": []
  }
 ]
}