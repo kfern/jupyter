{
 "metadata": {
  "language_info": {
   "codemirror_mode": {
    "name": "ipython",
    "version": 3
   },
   "file_extension": ".py",
   "mimetype": "text/x-python",
   "name": "python",
   "nbconvert_exporter": "python",
   "pygments_lexer": "ipython3",
   "version": "3.6.9"
  },
  "orig_nbformat": 2,
  "kernelspec": {
   "name": "python3",
   "display_name": "Python 3",
   "language": "python"
  }
 },
 "nbformat": 4,
 "nbformat_minor": 2,
 "cells": [
  {
   "cell_type": "code",
   "execution_count": 1,
   "metadata": {},
   "outputs": [],
   "source": [
    "import pandas as pd\n",
    "pd.set_option('display.max_rows', None) # Print all rows"
   ]
  },
  {
   "cell_type": "code",
   "execution_count": 2,
   "metadata": {},
   "outputs": [],
   "source": [
    "# FIX SSL: CERTIFICATE_VERIFY_FAILED with Python3\n",
    "# https://stackoverflow.com/a/49174340\n",
    "import ssl\n",
    "\n",
    "ssl._create_default_https_context = ssl._create_unverified_context"
   ]
  },
  {
   "cell_type": "code",
   "execution_count": 3,
   "metadata": {},
   "outputs": [],
   "source": [
    "url = 'https://www.juntadeandalucia.es/institutodeestadisticaycartografia/badea/stpivot/stpivot/Print?cube=013d884c-cfc5-4c21-9e78-e26225682afd&type=3&foto=si&ejecutaDesde=&codConsulta=38668&consTipoVisua=JP'\n",
    "fields = ['Lugar de residencia', 'Medida', 'Valor']\n",
    "df = pd.read_csv(url, delimiter=';', usecols=fields, decimal=',')"
   ]
  },
  {
   "cell_type": "code",
   "execution_count": 4,
   "metadata": {},
   "outputs": [
    {
     "output_type": "execute_result",
     "data": {
      "text/plain": [
       "  Lugar de residencia                    Medida               Valor\n",
       "0              Huelva                 Población              513170\n",
       "1              Huelva          Confirmados PDIA               25985\n",
       "2              Huelva  Confirmados PDIA 14 días                 894\n",
       "3              Huelva         Tasa PDIA 14 días  174,21127501607654\n",
       "4              Huelva   Confirmados PDIA 7 días                 491\n",
       "5              Huelva        Total Confirmados                26186\n",
       "6              Huelva                   Curados               21382\n",
       "7              Huelva                Fallecidos                 355"
      ],
      "text/html": "<div>\n<style scoped>\n    .dataframe tbody tr th:only-of-type {\n        vertical-align: middle;\n    }\n\n    .dataframe tbody tr th {\n        vertical-align: top;\n    }\n\n    .dataframe thead th {\n        text-align: right;\n    }\n</style>\n<table border=\"1\" class=\"dataframe\">\n  <thead>\n    <tr style=\"text-align: right;\">\n      <th></th>\n      <th>Lugar de residencia</th>\n      <th>Medida</th>\n      <th>Valor</th>\n    </tr>\n  </thead>\n  <tbody>\n    <tr>\n      <th>0</th>\n      <td>Huelva</td>\n      <td>Población</td>\n      <td>513170</td>\n    </tr>\n    <tr>\n      <th>1</th>\n      <td>Huelva</td>\n      <td>Confirmados PDIA</td>\n      <td>25985</td>\n    </tr>\n    <tr>\n      <th>2</th>\n      <td>Huelva</td>\n      <td>Confirmados PDIA 14 días</td>\n      <td>894</td>\n    </tr>\n    <tr>\n      <th>3</th>\n      <td>Huelva</td>\n      <td>Tasa PDIA 14 días</td>\n      <td>174,21127501607654</td>\n    </tr>\n    <tr>\n      <th>4</th>\n      <td>Huelva</td>\n      <td>Confirmados PDIA 7 días</td>\n      <td>491</td>\n    </tr>\n    <tr>\n      <th>5</th>\n      <td>Huelva</td>\n      <td>Total Confirmados</td>\n      <td>26186</td>\n    </tr>\n    <tr>\n      <th>6</th>\n      <td>Huelva</td>\n      <td>Curados</td>\n      <td>21382</td>\n    </tr>\n    <tr>\n      <th>7</th>\n      <td>Huelva</td>\n      <td>Fallecidos</td>\n      <td>355</td>\n    </tr>\n  </tbody>\n</table>\n</div>"
     },
     "metadata": {},
     "execution_count": 4
    }
   ],
   "source": [
    "df[df['Lugar de residencia'] == 'Huelva']"
   ]
  },
  {
   "cell_type": "code",
   "execution_count": 5,
   "metadata": {},
   "outputs": [],
   "source": [
    "df['Valor'] = pd.to_numeric(df['Valor'],errors='coerce')"
   ]
  },
  {
   "cell_type": "code",
   "execution_count": 6,
   "metadata": {},
   "outputs": [],
   "source": [
    "dfAnterior = pd.read_csv('covid_huelva.csv', index_col='Lugar de residencia')"
   ]
  },
  {
   "cell_type": "code",
   "execution_count": 7,
   "metadata": {
    "tags": []
   },
   "outputs": [
    {
     "output_type": "stream",
     "name": "stdout",
     "text": [
      "Confirmados PCR en la provincia de Huelva:  25985.0\n"
     ]
    }
   ],
   "source": [
    "# Confirmados PCR provincia Huelva\n",
    "p = df[df['Lugar de residencia'] == 'Huelva'][df['Medida'] == 'Confirmados PDIA']['Valor'].values[0]\n",
    "print('Confirmados PCR en la provincia de Huelva: ', p)"
   ]
  },
  {
   "cell_type": "code",
   "execution_count": 8,
   "metadata": {
    "tags": []
   },
   "outputs": [
    {
     "output_type": "stream",
     "name": "stdout",
     "text": [
      "Confirmados PCR en Huelva capital:  6794.0\n"
     ]
    }
   ],
   "source": [
    "# Confirmados PCR Huelva capitalpd\n",
    "c = df[df['Lugar de residencia'] == 'Huelva (capital)'][df['Medida'] == 'Confirmados PDIA']['Valor'].values[0]\n",
    "print('Confirmados PCR en Huelva capital: ', c)"
   ]
  },
  {
   "cell_type": "code",
   "execution_count": 9,
   "metadata": {
    "tags": []
   },
   "outputs": [],
   "source": [
    "c7 = df[df['Lugar de residencia'] == 'Huelva (capital)'][df['Medida'] == 'Confirmados PDIA 7 días']['Valor'].values[0]\n",
    "c14 = df[df['Lugar de residencia'] == 'Huelva (capital)'][df['Medida'] == 'Confirmados PDIA 14 días']['Valor'].values[0]\n",
    "p = df[df['Lugar de residencia'] == 'Huelva (capital)'][df['Medida'] == 'Población']['Valor'].values[0]"
   ]
  },
  {
   "cell_type": "code",
   "execution_count": 10,
   "metadata": {
    "tags": []
   },
   "outputs": [
    {
     "output_type": "stream",
     "name": "stdout",
     "text": [
      "Huelva (capital)\n\nUn positivo PCR cada 1383 personas en los últimos 7 días \n\nUn positivo PCR cada 922 personas en los últimos 14 días\n"
     ]
    }
   ],
   "source": [
    "print('Huelva (capital)\\n')\n",
    "#print('Confirmados PCR 7 días x 1,000 habitantes: ', f\"{c7/(p/1000):.5f}\")\n",
    "print('Un positivo PCR cada', f\"{p/c7:.0f}\", 'personas en los últimos 7 días', '\\n')\n",
    "#print('Confirmados PCR 14 días x 1,000 habitantes: ', f\"{c14/(p/1000):.5f}\")\n",
    "print('Un positivo PCR cada', f\"{p/c14:.0f}\", 'personas en los últimos 14 días')"
   ]
  },
  {
   "cell_type": "code",
   "execution_count": 11,
   "metadata": {},
   "outputs": [],
   "source": [
    "filtro = ((df['Medida'] == 'Confirmados PDIA')| (df['Medida'] == 'Confirmados PDIA 7 días') | (df['Medida'] == 'Población' ) | (df['Medida'] == 'Confirmados PDIA 14 días')) & (df['Valor'] > 0)\n",
    "tabla = pd.pivot_table(df.loc[filtro], values='Valor', index='Lugar de residencia', columns='Medida').dropna()"
   ]
  },
  {
   "cell_type": "code",
   "execution_count": 12,
   "metadata": {},
   "outputs": [],
   "source": [
    "# Reorder columns\n",
    "tabla = tabla[['Confirmados PDIA', 'Confirmados PDIA 7 días', 'Confirmados PDIA 14 días', 'Población']]"
   ]
  },
  {
   "cell_type": "code",
   "execution_count": 13,
   "metadata": {},
   "outputs": [],
   "source": [
    "tabla['tasa7'] = tabla['Confirmados PDIA 7 días']/tabla['Población']*100000\n",
    "tabla['tasa14'] = tabla['Confirmados PDIA 14 días']/tabla['Población']*100000"
   ]
  },
  {
   "cell_type": "code",
   "execution_count": 14,
   "metadata": {},
   "outputs": [],
   "source": [
    "tabla['Diferencia PDIA'] = tabla['Confirmados PDIA'] - dfAnterior['Confirmados PDIA']"
   ]
  },
  {
   "cell_type": "code",
   "execution_count": 15,
   "metadata": {},
   "outputs": [
    {
     "output_type": "execute_result",
     "data": {
      "text/plain": [
       "Medida                             Confirmados PDIA  Confirmados PDIA 7 días  \\\n",
       "Lugar de residencia                                                            \n",
       "Huelva                                      25985.0                    491.0   \n",
       "Condado-Campiña                              7662.0                    278.0   \n",
       "Huelva-Costa                                15554.0                    183.0   \n",
       "Huelva (capital)                             6794.0                    104.0   \n",
       "Almonte                                      1084.0                     79.0   \n",
       "Moguer                                        919.0                     40.0   \n",
       "Cartaya                                      1037.0                     39.0   \n",
       "Palos de la Frontera                          500.0                     23.0   \n",
       "Bollullos Par del Condado                     693.0                     29.0   \n",
       "Aljaraque                                     944.0                     13.0   \n",
       "Sierra de Huelva-Andévalo Central            2343.0                     23.0   \n",
       "San Bartolomé de la Torre                     249.0                     19.0   \n",
       "Rociana del Condado                           389.0                     20.0   \n",
       "Lepe                                         2029.0                     11.0   \n",
       "Paterna del Campo                             123.0                      4.0   \n",
       "Palma del Condado (La)                        998.0                      5.0   \n",
       "Gibraleón                                     552.0                      6.0   \n",
       "San Juan del Puerto                           385.0                     12.0   \n",
       "Villalba del Alcor                            465.0                      4.0   \n",
       "Niebla                                        177.0                      4.0   \n",
       "Aracena                                       466.0                     11.0   \n",
       "Lucena del Puerto                             164.0                      2.0   \n",
       "Alosno                                        152.0                      2.0   \n",
       "Aroche                                         84.0                      3.0   \n",
       "Ayamonte                                     1248.0                      3.0   \n",
       "Trigueros                                     241.0                     12.0   \n",
       "Valverde del Camino                           432.0                      4.0   \n",
       "Bonares                                       199.0                     16.0   \n",
       "Beas                                          164.0                      1.0   \n",
       "Campillo (El)                                  62.0                      1.0   \n",
       "Villanueva de los Castillejos                 155.0                      2.0   \n",
       "Villarrasa                                    134.0                      1.0   \n",
       "\n",
       "Medida                             Confirmados PDIA 14 días  Población  \\\n",
       "Lugar de residencia                                                      \n",
       "Huelva                                                894.0   513170.0   \n",
       "Condado-Campiña                                       535.0   156231.0   \n",
       "Huelva-Costa                                          308.0   289548.0   \n",
       "Huelva (capital)                                      156.0   143837.0   \n",
       "Almonte                                               159.0    24507.0   \n",
       "Moguer                                                 59.0    21867.0   \n",
       "Cartaya                                                58.0    20083.0   \n",
       "Palos de la Frontera                                   38.0    11742.0   \n",
       "Bollullos Par del Condado                              58.0    14387.0   \n",
       "Aljaraque                                              16.0    21474.0   \n",
       "Sierra de Huelva-Andévalo Central                      35.0    67391.0   \n",
       "San Bartolomé de la Torre                              36.0     3761.0   \n",
       "Rociana del Condado                                    65.0     7939.0   \n",
       "Lepe                                                   20.0    27880.0   \n",
       "Paterna del Campo                                       9.0     3457.0   \n",
       "Palma del Condado (La)                                 10.0    10801.0   \n",
       "Gibraleón                                              20.0    12737.0   \n",
       "San Juan del Puerto                                    18.0     9411.0   \n",
       "Villalba del Alcor                                      7.0     3366.0   \n",
       "Niebla                                                 16.0     4116.0   \n",
       "Aracena                                                16.0     8255.0   \n",
       "Lucena del Puerto                                       3.0     3261.0   \n",
       "Alosno                                                 19.0     3933.0   \n",
       "Aroche                                                  4.0     3054.0   \n",
       "Ayamonte                                               12.0    21104.0   \n",
       "Trigueros                                              13.0     7862.0   \n",
       "Valverde del Camino                                     9.0    12750.0   \n",
       "Bonares                                                19.0     6060.0   \n",
       "Beas                                                    1.0     4341.0   \n",
       "Campillo (El)                                           1.0     2024.0   \n",
       "Villanueva de los Castillejos                           2.0     2825.0   \n",
       "Villarrasa                                              2.0     2211.0   \n",
       "\n",
       "Medida                                  tasa7      tasa14  Diferencia PDIA  \n",
       "Lugar de residencia                                                         \n",
       "Huelva                              95.679794  174.211275            178.0  \n",
       "Condado-Campiña                    177.941638  342.441641            100.0  \n",
       "Huelva-Costa                        63.201956  106.372691             70.0  \n",
       "Huelva (capital)                    72.304066  108.456100             46.0  \n",
       "Almonte                            322.356878  648.794222             39.0  \n",
       "Moguer                             182.924041  269.812960             20.0  \n",
       "Cartaya                            194.194095  288.801474             11.0  \n",
       "Palos de la Frontera               195.878045  323.624595              8.0  \n",
       "Bollullos Par del Condado          201.570863  403.141725              7.0  \n",
       "Aljaraque                           60.538325   74.508708              6.0  \n",
       "Sierra de Huelva-Andévalo Central   34.129186   51.935718              5.0  \n",
       "San Bartolomé de la Torre          505.184791  957.192236              5.0  \n",
       "Rociana del Condado                251.920897  818.742915              4.0  \n",
       "Lepe                                39.454806   71.736011              3.0  \n",
       "Paterna del Campo                  115.707261  260.341336              3.0  \n",
       "Palma del Condado (La)              46.292010   92.584020              2.0  \n",
       "Gibraleón                           47.106854  157.022847              2.0  \n",
       "San Juan del Puerto                127.510360  191.265540              2.0  \n",
       "Villalba del Alcor                 118.835413  207.961973              2.0  \n",
       "Niebla                              97.181730  388.726919              2.0  \n",
       "Aracena                            133.252574  193.821926              2.0  \n",
       "Lucena del Puerto                   61.330880   91.996320              2.0  \n",
       "Alosno                              50.851767  483.091787              1.0  \n",
       "Aroche                              98.231827  130.975769              1.0  \n",
       "Ayamonte                            14.215315   56.861259              1.0  \n",
       "Trigueros                          152.632918  165.352328              1.0  \n",
       "Valverde del Camino                 31.372549   70.588235              1.0  \n",
       "Bonares                            264.026403  313.531353              1.0  \n",
       "Beas                                23.036167   23.036167             -1.0  \n",
       "Campillo (El)                       49.407115   49.407115              NaN  \n",
       "Villanueva de los Castillejos       70.796460   70.796460              NaN  \n",
       "Villarrasa                          45.228403   90.456807              NaN  "
      ],
      "text/html": "<div>\n<style scoped>\n    .dataframe tbody tr th:only-of-type {\n        vertical-align: middle;\n    }\n\n    .dataframe tbody tr th {\n        vertical-align: top;\n    }\n\n    .dataframe thead th {\n        text-align: right;\n    }\n</style>\n<table border=\"1\" class=\"dataframe\">\n  <thead>\n    <tr style=\"text-align: right;\">\n      <th>Medida</th>\n      <th>Confirmados PDIA</th>\n      <th>Confirmados PDIA 7 días</th>\n      <th>Confirmados PDIA 14 días</th>\n      <th>Población</th>\n      <th>tasa7</th>\n      <th>tasa14</th>\n      <th>Diferencia PDIA</th>\n    </tr>\n    <tr>\n      <th>Lugar de residencia</th>\n      <th></th>\n      <th></th>\n      <th></th>\n      <th></th>\n      <th></th>\n      <th></th>\n      <th></th>\n    </tr>\n  </thead>\n  <tbody>\n    <tr>\n      <th>Huelva</th>\n      <td>25985.0</td>\n      <td>491.0</td>\n      <td>894.0</td>\n      <td>513170.0</td>\n      <td>95.679794</td>\n      <td>174.211275</td>\n      <td>178.0</td>\n    </tr>\n    <tr>\n      <th>Condado-Campiña</th>\n      <td>7662.0</td>\n      <td>278.0</td>\n      <td>535.0</td>\n      <td>156231.0</td>\n      <td>177.941638</td>\n      <td>342.441641</td>\n      <td>100.0</td>\n    </tr>\n    <tr>\n      <th>Huelva-Costa</th>\n      <td>15554.0</td>\n      <td>183.0</td>\n      <td>308.0</td>\n      <td>289548.0</td>\n      <td>63.201956</td>\n      <td>106.372691</td>\n      <td>70.0</td>\n    </tr>\n    <tr>\n      <th>Huelva (capital)</th>\n      <td>6794.0</td>\n      <td>104.0</td>\n      <td>156.0</td>\n      <td>143837.0</td>\n      <td>72.304066</td>\n      <td>108.456100</td>\n      <td>46.0</td>\n    </tr>\n    <tr>\n      <th>Almonte</th>\n      <td>1084.0</td>\n      <td>79.0</td>\n      <td>159.0</td>\n      <td>24507.0</td>\n      <td>322.356878</td>\n      <td>648.794222</td>\n      <td>39.0</td>\n    </tr>\n    <tr>\n      <th>Moguer</th>\n      <td>919.0</td>\n      <td>40.0</td>\n      <td>59.0</td>\n      <td>21867.0</td>\n      <td>182.924041</td>\n      <td>269.812960</td>\n      <td>20.0</td>\n    </tr>\n    <tr>\n      <th>Cartaya</th>\n      <td>1037.0</td>\n      <td>39.0</td>\n      <td>58.0</td>\n      <td>20083.0</td>\n      <td>194.194095</td>\n      <td>288.801474</td>\n      <td>11.0</td>\n    </tr>\n    <tr>\n      <th>Palos de la Frontera</th>\n      <td>500.0</td>\n      <td>23.0</td>\n      <td>38.0</td>\n      <td>11742.0</td>\n      <td>195.878045</td>\n      <td>323.624595</td>\n      <td>8.0</td>\n    </tr>\n    <tr>\n      <th>Bollullos Par del Condado</th>\n      <td>693.0</td>\n      <td>29.0</td>\n      <td>58.0</td>\n      <td>14387.0</td>\n      <td>201.570863</td>\n      <td>403.141725</td>\n      <td>7.0</td>\n    </tr>\n    <tr>\n      <th>Aljaraque</th>\n      <td>944.0</td>\n      <td>13.0</td>\n      <td>16.0</td>\n      <td>21474.0</td>\n      <td>60.538325</td>\n      <td>74.508708</td>\n      <td>6.0</td>\n    </tr>\n    <tr>\n      <th>Sierra de Huelva-Andévalo Central</th>\n      <td>2343.0</td>\n      <td>23.0</td>\n      <td>35.0</td>\n      <td>67391.0</td>\n      <td>34.129186</td>\n      <td>51.935718</td>\n      <td>5.0</td>\n    </tr>\n    <tr>\n      <th>San Bartolomé de la Torre</th>\n      <td>249.0</td>\n      <td>19.0</td>\n      <td>36.0</td>\n      <td>3761.0</td>\n      <td>505.184791</td>\n      <td>957.192236</td>\n      <td>5.0</td>\n    </tr>\n    <tr>\n      <th>Rociana del Condado</th>\n      <td>389.0</td>\n      <td>20.0</td>\n      <td>65.0</td>\n      <td>7939.0</td>\n      <td>251.920897</td>\n      <td>818.742915</td>\n      <td>4.0</td>\n    </tr>\n    <tr>\n      <th>Lepe</th>\n      <td>2029.0</td>\n      <td>11.0</td>\n      <td>20.0</td>\n      <td>27880.0</td>\n      <td>39.454806</td>\n      <td>71.736011</td>\n      <td>3.0</td>\n    </tr>\n    <tr>\n      <th>Paterna del Campo</th>\n      <td>123.0</td>\n      <td>4.0</td>\n      <td>9.0</td>\n      <td>3457.0</td>\n      <td>115.707261</td>\n      <td>260.341336</td>\n      <td>3.0</td>\n    </tr>\n    <tr>\n      <th>Palma del Condado (La)</th>\n      <td>998.0</td>\n      <td>5.0</td>\n      <td>10.0</td>\n      <td>10801.0</td>\n      <td>46.292010</td>\n      <td>92.584020</td>\n      <td>2.0</td>\n    </tr>\n    <tr>\n      <th>Gibraleón</th>\n      <td>552.0</td>\n      <td>6.0</td>\n      <td>20.0</td>\n      <td>12737.0</td>\n      <td>47.106854</td>\n      <td>157.022847</td>\n      <td>2.0</td>\n    </tr>\n    <tr>\n      <th>San Juan del Puerto</th>\n      <td>385.0</td>\n      <td>12.0</td>\n      <td>18.0</td>\n      <td>9411.0</td>\n      <td>127.510360</td>\n      <td>191.265540</td>\n      <td>2.0</td>\n    </tr>\n    <tr>\n      <th>Villalba del Alcor</th>\n      <td>465.0</td>\n      <td>4.0</td>\n      <td>7.0</td>\n      <td>3366.0</td>\n      <td>118.835413</td>\n      <td>207.961973</td>\n      <td>2.0</td>\n    </tr>\n    <tr>\n      <th>Niebla</th>\n      <td>177.0</td>\n      <td>4.0</td>\n      <td>16.0</td>\n      <td>4116.0</td>\n      <td>97.181730</td>\n      <td>388.726919</td>\n      <td>2.0</td>\n    </tr>\n    <tr>\n      <th>Aracena</th>\n      <td>466.0</td>\n      <td>11.0</td>\n      <td>16.0</td>\n      <td>8255.0</td>\n      <td>133.252574</td>\n      <td>193.821926</td>\n      <td>2.0</td>\n    </tr>\n    <tr>\n      <th>Lucena del Puerto</th>\n      <td>164.0</td>\n      <td>2.0</td>\n      <td>3.0</td>\n      <td>3261.0</td>\n      <td>61.330880</td>\n      <td>91.996320</td>\n      <td>2.0</td>\n    </tr>\n    <tr>\n      <th>Alosno</th>\n      <td>152.0</td>\n      <td>2.0</td>\n      <td>19.0</td>\n      <td>3933.0</td>\n      <td>50.851767</td>\n      <td>483.091787</td>\n      <td>1.0</td>\n    </tr>\n    <tr>\n      <th>Aroche</th>\n      <td>84.0</td>\n      <td>3.0</td>\n      <td>4.0</td>\n      <td>3054.0</td>\n      <td>98.231827</td>\n      <td>130.975769</td>\n      <td>1.0</td>\n    </tr>\n    <tr>\n      <th>Ayamonte</th>\n      <td>1248.0</td>\n      <td>3.0</td>\n      <td>12.0</td>\n      <td>21104.0</td>\n      <td>14.215315</td>\n      <td>56.861259</td>\n      <td>1.0</td>\n    </tr>\n    <tr>\n      <th>Trigueros</th>\n      <td>241.0</td>\n      <td>12.0</td>\n      <td>13.0</td>\n      <td>7862.0</td>\n      <td>152.632918</td>\n      <td>165.352328</td>\n      <td>1.0</td>\n    </tr>\n    <tr>\n      <th>Valverde del Camino</th>\n      <td>432.0</td>\n      <td>4.0</td>\n      <td>9.0</td>\n      <td>12750.0</td>\n      <td>31.372549</td>\n      <td>70.588235</td>\n      <td>1.0</td>\n    </tr>\n    <tr>\n      <th>Bonares</th>\n      <td>199.0</td>\n      <td>16.0</td>\n      <td>19.0</td>\n      <td>6060.0</td>\n      <td>264.026403</td>\n      <td>313.531353</td>\n      <td>1.0</td>\n    </tr>\n    <tr>\n      <th>Beas</th>\n      <td>164.0</td>\n      <td>1.0</td>\n      <td>1.0</td>\n      <td>4341.0</td>\n      <td>23.036167</td>\n      <td>23.036167</td>\n      <td>-1.0</td>\n    </tr>\n    <tr>\n      <th>Campillo (El)</th>\n      <td>62.0</td>\n      <td>1.0</td>\n      <td>1.0</td>\n      <td>2024.0</td>\n      <td>49.407115</td>\n      <td>49.407115</td>\n      <td>NaN</td>\n    </tr>\n    <tr>\n      <th>Villanueva de los Castillejos</th>\n      <td>155.0</td>\n      <td>2.0</td>\n      <td>2.0</td>\n      <td>2825.0</td>\n      <td>70.796460</td>\n      <td>70.796460</td>\n      <td>NaN</td>\n    </tr>\n    <tr>\n      <th>Villarrasa</th>\n      <td>134.0</td>\n      <td>1.0</td>\n      <td>2.0</td>\n      <td>2211.0</td>\n      <td>45.228403</td>\n      <td>90.456807</td>\n      <td>NaN</td>\n    </tr>\n  </tbody>\n</table>\n</div>"
     },
     "metadata": {},
     "execution_count": 15
    }
   ],
   "source": [
    "# Nuevos casos desde la última captura\n",
    "tabla[tabla['Diferencia PDIA'] != 0].sort_values('Diferencia PDIA', ascending=False)"
   ]
  },
  {
   "cell_type": "code",
   "execution_count": 16,
   "metadata": {},
   "outputs": [],
   "source": [
    "if tabla[tabla['Diferencia PDIA'] != 0]['Diferencia PDIA'].sum() != 0:\n",
    "  # Save to csv\n",
    "  tabla.to_csv('covid_huelva.csv', encoding='utf-8', header=True, index=True)  "
   ]
  },
  {
   "cell_type": "code",
   "execution_count": 17,
   "metadata": {},
   "outputs": [
    {
     "output_type": "execute_result",
     "data": {
      "text/plain": [
       "Medida                             Confirmados PDIA  Confirmados PDIA 7 días  \\\n",
       "Lugar de residencia                                                            \n",
       "San Bartolomé de la Torre                     249.0                     19.0   \n",
       "Rociana del Condado                           389.0                     20.0   \n",
       "Almonte                                      1084.0                     79.0   \n",
       "Alosno                                        152.0                      2.0   \n",
       "Bollullos Par del Condado                     693.0                     29.0   \n",
       "Niebla                                        177.0                      4.0   \n",
       "Condado-Campiña                              7662.0                    278.0   \n",
       "Palos de la Frontera                          500.0                     23.0   \n",
       "Bonares                                       199.0                     16.0   \n",
       "Cartaya                                      1037.0                     39.0   \n",
       "Moguer                                        919.0                     40.0   \n",
       "Paterna del Campo                             123.0                      4.0   \n",
       "Villalba del Alcor                            465.0                      4.0   \n",
       "Aracena                                       466.0                     11.0   \n",
       "San Juan del Puerto                           385.0                     12.0   \n",
       "Huelva                                      25985.0                    491.0   \n",
       "Trigueros                                     241.0                     12.0   \n",
       "Gibraleón                                     552.0                      6.0   \n",
       "Higuera de la Sierra                           31.0                      2.0   \n",
       "Aroche                                         84.0                      3.0   \n",
       "Huelva (capital)                             6794.0                    104.0   \n",
       "Huelva-Costa                                15554.0                    183.0   \n",
       "Palma del Condado (La)                        998.0                      5.0   \n",
       "Lucena del Puerto                             164.0                      2.0   \n",
       "Punta Umbría                                  672.0                      6.0   \n",
       "Villarrasa                                    134.0                      1.0   \n",
       "Paymogo                                        74.0                      1.0   \n",
       "Aljaraque                                     944.0                     13.0   \n",
       "Lepe                                         2029.0                     11.0   \n",
       "Villanueva de los Castillejos                 155.0                      2.0   \n",
       "Valverde del Camino                           432.0                      4.0   \n",
       "Ayamonte                                     1248.0                      3.0   \n",
       "Sierra de Huelva-Andévalo Central            2343.0                     23.0   \n",
       "Campillo (El)                                  62.0                      1.0   \n",
       "Escacena del Campo                            142.0                      1.0   \n",
       "Isla Cristina                                2013.0                      2.0   \n",
       "Calañas                                       172.0                      1.0   \n",
       "Zalamea la Real                                86.0                      1.0   \n",
       "Beas                                          164.0                      1.0   \n",
       "\n",
       "Medida                             Confirmados PDIA 14 días  Población  \\\n",
       "Lugar de residencia                                                      \n",
       "San Bartolomé de la Torre                              36.0     3761.0   \n",
       "Rociana del Condado                                    65.0     7939.0   \n",
       "Almonte                                               159.0    24507.0   \n",
       "Alosno                                                 19.0     3933.0   \n",
       "Bollullos Par del Condado                              58.0    14387.0   \n",
       "Niebla                                                 16.0     4116.0   \n",
       "Condado-Campiña                                       535.0   156231.0   \n",
       "Palos de la Frontera                                   38.0    11742.0   \n",
       "Bonares                                                19.0     6060.0   \n",
       "Cartaya                                                58.0    20083.0   \n",
       "Moguer                                                 59.0    21867.0   \n",
       "Paterna del Campo                                       9.0     3457.0   \n",
       "Villalba del Alcor                                      7.0     3366.0   \n",
       "Aracena                                                16.0     8255.0   \n",
       "San Juan del Puerto                                    18.0     9411.0   \n",
       "Huelva                                                894.0   513170.0   \n",
       "Trigueros                                              13.0     7862.0   \n",
       "Gibraleón                                              20.0    12737.0   \n",
       "Higuera de la Sierra                                    2.0     1291.0   \n",
       "Aroche                                                  4.0     3054.0   \n",
       "Huelva (capital)                                      156.0   143837.0   \n",
       "Huelva-Costa                                          308.0   289548.0   \n",
       "Palma del Condado (La)                                 10.0    10801.0   \n",
       "Lucena del Puerto                                       3.0     3261.0   \n",
       "Punta Umbría                                           14.0    15355.0   \n",
       "Villarrasa                                              2.0     2211.0   \n",
       "Paymogo                                                 1.0     1162.0   \n",
       "Aljaraque                                              16.0    21474.0   \n",
       "Lepe                                                   20.0    27880.0   \n",
       "Villanueva de los Castillejos                           2.0     2825.0   \n",
       "Valverde del Camino                                     9.0    12750.0   \n",
       "Ayamonte                                               12.0    21104.0   \n",
       "Sierra de Huelva-Andévalo Central                      35.0    67391.0   \n",
       "Campillo (El)                                           1.0     2024.0   \n",
       "Escacena del Campo                                      1.0     2287.0   \n",
       "Isla Cristina                                           8.0    21393.0   \n",
       "Calañas                                                 1.0     2768.0   \n",
       "Zalamea la Real                                         1.0     3054.0   \n",
       "Beas                                                    1.0     4341.0   \n",
       "\n",
       "Medida                                  tasa7      tasa14  Diferencia PDIA  \n",
       "Lugar de residencia                                                         \n",
       "San Bartolomé de la Torre          505.184791  957.192236              5.0  \n",
       "Rociana del Condado                251.920897  818.742915              4.0  \n",
       "Almonte                            322.356878  648.794222             39.0  \n",
       "Alosno                              50.851767  483.091787              1.0  \n",
       "Bollullos Par del Condado          201.570863  403.141725              7.0  \n",
       "Niebla                              97.181730  388.726919              2.0  \n",
       "Condado-Campiña                    177.941638  342.441641            100.0  \n",
       "Palos de la Frontera               195.878045  323.624595              8.0  \n",
       "Bonares                            264.026403  313.531353              1.0  \n",
       "Cartaya                            194.194095  288.801474             11.0  \n",
       "Moguer                             182.924041  269.812960             20.0  \n",
       "Paterna del Campo                  115.707261  260.341336              3.0  \n",
       "Villalba del Alcor                 118.835413  207.961973              2.0  \n",
       "Aracena                            133.252574  193.821926              2.0  \n",
       "San Juan del Puerto                127.510360  191.265540              2.0  \n",
       "Huelva                              95.679794  174.211275            178.0  \n",
       "Trigueros                          152.632918  165.352328              1.0  \n",
       "Gibraleón                           47.106854  157.022847              2.0  \n",
       "Higuera de la Sierra               154.918668  154.918668              0.0  \n",
       "Aroche                              98.231827  130.975769              1.0  \n",
       "Huelva (capital)                    72.304066  108.456100             46.0  \n",
       "Huelva-Costa                        63.201956  106.372691             70.0  \n",
       "Palma del Condado (La)              46.292010   92.584020              2.0  \n",
       "Lucena del Puerto                   61.330880   91.996320              2.0  \n",
       "Punta Umbría                        39.075220   91.175513              0.0  \n",
       "Villarrasa                          45.228403   90.456807              NaN  \n",
       "Paymogo                             86.058520   86.058520              0.0  \n",
       "Aljaraque                           60.538325   74.508708              6.0  \n",
       "Lepe                                39.454806   71.736011              3.0  \n",
       "Villanueva de los Castillejos       70.796460   70.796460              NaN  \n",
       "Valverde del Camino                 31.372549   70.588235              1.0  \n",
       "Ayamonte                            14.215315   56.861259              1.0  \n",
       "Sierra de Huelva-Andévalo Central   34.129186   51.935718              5.0  \n",
       "Campillo (El)                       49.407115   49.407115              NaN  \n",
       "Escacena del Campo                  43.725404   43.725404              0.0  \n",
       "Isla Cristina                        9.348852   37.395410              0.0  \n",
       "Calañas                             36.127168   36.127168              0.0  \n",
       "Zalamea la Real                     32.743942   32.743942              0.0  \n",
       "Beas                                23.036167   23.036167             -1.0  "
      ],
      "text/html": "<div>\n<style scoped>\n    .dataframe tbody tr th:only-of-type {\n        vertical-align: middle;\n    }\n\n    .dataframe tbody tr th {\n        vertical-align: top;\n    }\n\n    .dataframe thead th {\n        text-align: right;\n    }\n</style>\n<table border=\"1\" class=\"dataframe\">\n  <thead>\n    <tr style=\"text-align: right;\">\n      <th>Medida</th>\n      <th>Confirmados PDIA</th>\n      <th>Confirmados PDIA 7 días</th>\n      <th>Confirmados PDIA 14 días</th>\n      <th>Población</th>\n      <th>tasa7</th>\n      <th>tasa14</th>\n      <th>Diferencia PDIA</th>\n    </tr>\n    <tr>\n      <th>Lugar de residencia</th>\n      <th></th>\n      <th></th>\n      <th></th>\n      <th></th>\n      <th></th>\n      <th></th>\n      <th></th>\n    </tr>\n  </thead>\n  <tbody>\n    <tr>\n      <th>San Bartolomé de la Torre</th>\n      <td>249.0</td>\n      <td>19.0</td>\n      <td>36.0</td>\n      <td>3761.0</td>\n      <td>505.184791</td>\n      <td>957.192236</td>\n      <td>5.0</td>\n    </tr>\n    <tr>\n      <th>Rociana del Condado</th>\n      <td>389.0</td>\n      <td>20.0</td>\n      <td>65.0</td>\n      <td>7939.0</td>\n      <td>251.920897</td>\n      <td>818.742915</td>\n      <td>4.0</td>\n    </tr>\n    <tr>\n      <th>Almonte</th>\n      <td>1084.0</td>\n      <td>79.0</td>\n      <td>159.0</td>\n      <td>24507.0</td>\n      <td>322.356878</td>\n      <td>648.794222</td>\n      <td>39.0</td>\n    </tr>\n    <tr>\n      <th>Alosno</th>\n      <td>152.0</td>\n      <td>2.0</td>\n      <td>19.0</td>\n      <td>3933.0</td>\n      <td>50.851767</td>\n      <td>483.091787</td>\n      <td>1.0</td>\n    </tr>\n    <tr>\n      <th>Bollullos Par del Condado</th>\n      <td>693.0</td>\n      <td>29.0</td>\n      <td>58.0</td>\n      <td>14387.0</td>\n      <td>201.570863</td>\n      <td>403.141725</td>\n      <td>7.0</td>\n    </tr>\n    <tr>\n      <th>Niebla</th>\n      <td>177.0</td>\n      <td>4.0</td>\n      <td>16.0</td>\n      <td>4116.0</td>\n      <td>97.181730</td>\n      <td>388.726919</td>\n      <td>2.0</td>\n    </tr>\n    <tr>\n      <th>Condado-Campiña</th>\n      <td>7662.0</td>\n      <td>278.0</td>\n      <td>535.0</td>\n      <td>156231.0</td>\n      <td>177.941638</td>\n      <td>342.441641</td>\n      <td>100.0</td>\n    </tr>\n    <tr>\n      <th>Palos de la Frontera</th>\n      <td>500.0</td>\n      <td>23.0</td>\n      <td>38.0</td>\n      <td>11742.0</td>\n      <td>195.878045</td>\n      <td>323.624595</td>\n      <td>8.0</td>\n    </tr>\n    <tr>\n      <th>Bonares</th>\n      <td>199.0</td>\n      <td>16.0</td>\n      <td>19.0</td>\n      <td>6060.0</td>\n      <td>264.026403</td>\n      <td>313.531353</td>\n      <td>1.0</td>\n    </tr>\n    <tr>\n      <th>Cartaya</th>\n      <td>1037.0</td>\n      <td>39.0</td>\n      <td>58.0</td>\n      <td>20083.0</td>\n      <td>194.194095</td>\n      <td>288.801474</td>\n      <td>11.0</td>\n    </tr>\n    <tr>\n      <th>Moguer</th>\n      <td>919.0</td>\n      <td>40.0</td>\n      <td>59.0</td>\n      <td>21867.0</td>\n      <td>182.924041</td>\n      <td>269.812960</td>\n      <td>20.0</td>\n    </tr>\n    <tr>\n      <th>Paterna del Campo</th>\n      <td>123.0</td>\n      <td>4.0</td>\n      <td>9.0</td>\n      <td>3457.0</td>\n      <td>115.707261</td>\n      <td>260.341336</td>\n      <td>3.0</td>\n    </tr>\n    <tr>\n      <th>Villalba del Alcor</th>\n      <td>465.0</td>\n      <td>4.0</td>\n      <td>7.0</td>\n      <td>3366.0</td>\n      <td>118.835413</td>\n      <td>207.961973</td>\n      <td>2.0</td>\n    </tr>\n    <tr>\n      <th>Aracena</th>\n      <td>466.0</td>\n      <td>11.0</td>\n      <td>16.0</td>\n      <td>8255.0</td>\n      <td>133.252574</td>\n      <td>193.821926</td>\n      <td>2.0</td>\n    </tr>\n    <tr>\n      <th>San Juan del Puerto</th>\n      <td>385.0</td>\n      <td>12.0</td>\n      <td>18.0</td>\n      <td>9411.0</td>\n      <td>127.510360</td>\n      <td>191.265540</td>\n      <td>2.0</td>\n    </tr>\n    <tr>\n      <th>Huelva</th>\n      <td>25985.0</td>\n      <td>491.0</td>\n      <td>894.0</td>\n      <td>513170.0</td>\n      <td>95.679794</td>\n      <td>174.211275</td>\n      <td>178.0</td>\n    </tr>\n    <tr>\n      <th>Trigueros</th>\n      <td>241.0</td>\n      <td>12.0</td>\n      <td>13.0</td>\n      <td>7862.0</td>\n      <td>152.632918</td>\n      <td>165.352328</td>\n      <td>1.0</td>\n    </tr>\n    <tr>\n      <th>Gibraleón</th>\n      <td>552.0</td>\n      <td>6.0</td>\n      <td>20.0</td>\n      <td>12737.0</td>\n      <td>47.106854</td>\n      <td>157.022847</td>\n      <td>2.0</td>\n    </tr>\n    <tr>\n      <th>Higuera de la Sierra</th>\n      <td>31.0</td>\n      <td>2.0</td>\n      <td>2.0</td>\n      <td>1291.0</td>\n      <td>154.918668</td>\n      <td>154.918668</td>\n      <td>0.0</td>\n    </tr>\n    <tr>\n      <th>Aroche</th>\n      <td>84.0</td>\n      <td>3.0</td>\n      <td>4.0</td>\n      <td>3054.0</td>\n      <td>98.231827</td>\n      <td>130.975769</td>\n      <td>1.0</td>\n    </tr>\n    <tr>\n      <th>Huelva (capital)</th>\n      <td>6794.0</td>\n      <td>104.0</td>\n      <td>156.0</td>\n      <td>143837.0</td>\n      <td>72.304066</td>\n      <td>108.456100</td>\n      <td>46.0</td>\n    </tr>\n    <tr>\n      <th>Huelva-Costa</th>\n      <td>15554.0</td>\n      <td>183.0</td>\n      <td>308.0</td>\n      <td>289548.0</td>\n      <td>63.201956</td>\n      <td>106.372691</td>\n      <td>70.0</td>\n    </tr>\n    <tr>\n      <th>Palma del Condado (La)</th>\n      <td>998.0</td>\n      <td>5.0</td>\n      <td>10.0</td>\n      <td>10801.0</td>\n      <td>46.292010</td>\n      <td>92.584020</td>\n      <td>2.0</td>\n    </tr>\n    <tr>\n      <th>Lucena del Puerto</th>\n      <td>164.0</td>\n      <td>2.0</td>\n      <td>3.0</td>\n      <td>3261.0</td>\n      <td>61.330880</td>\n      <td>91.996320</td>\n      <td>2.0</td>\n    </tr>\n    <tr>\n      <th>Punta Umbría</th>\n      <td>672.0</td>\n      <td>6.0</td>\n      <td>14.0</td>\n      <td>15355.0</td>\n      <td>39.075220</td>\n      <td>91.175513</td>\n      <td>0.0</td>\n    </tr>\n    <tr>\n      <th>Villarrasa</th>\n      <td>134.0</td>\n      <td>1.0</td>\n      <td>2.0</td>\n      <td>2211.0</td>\n      <td>45.228403</td>\n      <td>90.456807</td>\n      <td>NaN</td>\n    </tr>\n    <tr>\n      <th>Paymogo</th>\n      <td>74.0</td>\n      <td>1.0</td>\n      <td>1.0</td>\n      <td>1162.0</td>\n      <td>86.058520</td>\n      <td>86.058520</td>\n      <td>0.0</td>\n    </tr>\n    <tr>\n      <th>Aljaraque</th>\n      <td>944.0</td>\n      <td>13.0</td>\n      <td>16.0</td>\n      <td>21474.0</td>\n      <td>60.538325</td>\n      <td>74.508708</td>\n      <td>6.0</td>\n    </tr>\n    <tr>\n      <th>Lepe</th>\n      <td>2029.0</td>\n      <td>11.0</td>\n      <td>20.0</td>\n      <td>27880.0</td>\n      <td>39.454806</td>\n      <td>71.736011</td>\n      <td>3.0</td>\n    </tr>\n    <tr>\n      <th>Villanueva de los Castillejos</th>\n      <td>155.0</td>\n      <td>2.0</td>\n      <td>2.0</td>\n      <td>2825.0</td>\n      <td>70.796460</td>\n      <td>70.796460</td>\n      <td>NaN</td>\n    </tr>\n    <tr>\n      <th>Valverde del Camino</th>\n      <td>432.0</td>\n      <td>4.0</td>\n      <td>9.0</td>\n      <td>12750.0</td>\n      <td>31.372549</td>\n      <td>70.588235</td>\n      <td>1.0</td>\n    </tr>\n    <tr>\n      <th>Ayamonte</th>\n      <td>1248.0</td>\n      <td>3.0</td>\n      <td>12.0</td>\n      <td>21104.0</td>\n      <td>14.215315</td>\n      <td>56.861259</td>\n      <td>1.0</td>\n    </tr>\n    <tr>\n      <th>Sierra de Huelva-Andévalo Central</th>\n      <td>2343.0</td>\n      <td>23.0</td>\n      <td>35.0</td>\n      <td>67391.0</td>\n      <td>34.129186</td>\n      <td>51.935718</td>\n      <td>5.0</td>\n    </tr>\n    <tr>\n      <th>Campillo (El)</th>\n      <td>62.0</td>\n      <td>1.0</td>\n      <td>1.0</td>\n      <td>2024.0</td>\n      <td>49.407115</td>\n      <td>49.407115</td>\n      <td>NaN</td>\n    </tr>\n    <tr>\n      <th>Escacena del Campo</th>\n      <td>142.0</td>\n      <td>1.0</td>\n      <td>1.0</td>\n      <td>2287.0</td>\n      <td>43.725404</td>\n      <td>43.725404</td>\n      <td>0.0</td>\n    </tr>\n    <tr>\n      <th>Isla Cristina</th>\n      <td>2013.0</td>\n      <td>2.0</td>\n      <td>8.0</td>\n      <td>21393.0</td>\n      <td>9.348852</td>\n      <td>37.395410</td>\n      <td>0.0</td>\n    </tr>\n    <tr>\n      <th>Calañas</th>\n      <td>172.0</td>\n      <td>1.0</td>\n      <td>1.0</td>\n      <td>2768.0</td>\n      <td>36.127168</td>\n      <td>36.127168</td>\n      <td>0.0</td>\n    </tr>\n    <tr>\n      <th>Zalamea la Real</th>\n      <td>86.0</td>\n      <td>1.0</td>\n      <td>1.0</td>\n      <td>3054.0</td>\n      <td>32.743942</td>\n      <td>32.743942</td>\n      <td>0.0</td>\n    </tr>\n    <tr>\n      <th>Beas</th>\n      <td>164.0</td>\n      <td>1.0</td>\n      <td>1.0</td>\n      <td>4341.0</td>\n      <td>23.036167</td>\n      <td>23.036167</td>\n      <td>-1.0</td>\n    </tr>\n  </tbody>\n</table>\n</div>"
     },
     "metadata": {},
     "execution_count": 17
    }
   ],
   "source": [
    "tabla.sort_values('tasa14', ascending=False)"
   ]
  },
  {
   "cell_type": "code",
   "execution_count": 18,
   "metadata": {},
   "outputs": [
    {
     "output_type": "execute_result",
     "data": {
      "text/plain": [
       "Medida                             Confirmados PDIA  Confirmados PDIA 7 días  \\\n",
       "Lugar de residencia                                                            \n",
       "Alosno                                        152.0                      2.0   \n",
       "Isla Cristina                                2013.0                      2.0   \n",
       "Niebla                                        177.0                      4.0   \n",
       "Ayamonte                                     1248.0                      3.0   \n",
       "Gibraleón                                     552.0                      6.0   \n",
       "Rociana del Condado                           389.0                     20.0   \n",
       "Punta Umbría                                  672.0                      6.0   \n",
       "Valverde del Camino                           432.0                      4.0   \n",
       "Paterna del Campo                             123.0                      4.0   \n",
       "Almonte                                      1084.0                     79.0   \n",
       "Bollullos Par del Condado                     693.0                     29.0   \n",
       "Palma del Condado (La)                        998.0                      5.0   \n",
       "Villarrasa                                    134.0                      1.0   \n",
       "Condado-Campiña                              7662.0                    278.0   \n",
       "San Bartolomé de la Torre                     249.0                     19.0   \n",
       "Huelva                                      25985.0                    491.0   \n",
       "Lepe                                         2029.0                     11.0   \n",
       "Villalba del Alcor                            465.0                      4.0   \n",
       "Huelva-Costa                                15554.0                    183.0   \n",
       "Palos de la Frontera                          500.0                     23.0   \n",
       "Sierra de Huelva-Andévalo Central            2343.0                     23.0   \n",
       "San Juan del Puerto                           385.0                     12.0   \n",
       "Huelva (capital)                             6794.0                    104.0   \n",
       "Lucena del Puerto                             164.0                      2.0   \n",
       "Cartaya                                      1037.0                     39.0   \n",
       "Moguer                                        919.0                     40.0   \n",
       "Aracena                                       466.0                     11.0   \n",
       "Aroche                                         84.0                      3.0   \n",
       "Aljaraque                                     944.0                     13.0   \n",
       "Bonares                                       199.0                     16.0   \n",
       "Trigueros                                     241.0                     12.0   \n",
       "Higuera de la Sierra                           31.0                      2.0   \n",
       "Escacena del Campo                            142.0                      1.0   \n",
       "Campillo (El)                                  62.0                      1.0   \n",
       "Calañas                                       172.0                      1.0   \n",
       "Beas                                          164.0                      1.0   \n",
       "Villanueva de los Castillejos                 155.0                      2.0   \n",
       "Paymogo                                        74.0                      1.0   \n",
       "Zalamea la Real                                86.0                      1.0   \n",
       "\n",
       "Medida                             Confirmados PDIA 14 días  Población  \\\n",
       "Lugar de residencia                                                      \n",
       "Alosno                                                 19.0     3933.0   \n",
       "Isla Cristina                                           8.0    21393.0   \n",
       "Niebla                                                 16.0     4116.0   \n",
       "Ayamonte                                               12.0    21104.0   \n",
       "Gibraleón                                              20.0    12737.0   \n",
       "Rociana del Condado                                    65.0     7939.0   \n",
       "Punta Umbría                                           14.0    15355.0   \n",
       "Valverde del Camino                                     9.0    12750.0   \n",
       "Paterna del Campo                                       9.0     3457.0   \n",
       "Almonte                                               159.0    24507.0   \n",
       "Bollullos Par del Condado                              58.0    14387.0   \n",
       "Palma del Condado (La)                                 10.0    10801.0   \n",
       "Villarrasa                                              2.0     2211.0   \n",
       "Condado-Campiña                                       535.0   156231.0   \n",
       "San Bartolomé de la Torre                              36.0     3761.0   \n",
       "Huelva                                                894.0   513170.0   \n",
       "Lepe                                                   20.0    27880.0   \n",
       "Villalba del Alcor                                      7.0     3366.0   \n",
       "Huelva-Costa                                          308.0   289548.0   \n",
       "Palos de la Frontera                                   38.0    11742.0   \n",
       "Sierra de Huelva-Andévalo Central                      35.0    67391.0   \n",
       "San Juan del Puerto                                    18.0     9411.0   \n",
       "Huelva (capital)                                      156.0   143837.0   \n",
       "Lucena del Puerto                                       3.0     3261.0   \n",
       "Cartaya                                                58.0    20083.0   \n",
       "Moguer                                                 59.0    21867.0   \n",
       "Aracena                                                16.0     8255.0   \n",
       "Aroche                                                  4.0     3054.0   \n",
       "Aljaraque                                              16.0    21474.0   \n",
       "Bonares                                                19.0     6060.0   \n",
       "Trigueros                                              13.0     7862.0   \n",
       "Higuera de la Sierra                                    2.0     1291.0   \n",
       "Escacena del Campo                                      1.0     2287.0   \n",
       "Campillo (El)                                           1.0     2024.0   \n",
       "Calañas                                                 1.0     2768.0   \n",
       "Beas                                                    1.0     4341.0   \n",
       "Villanueva de los Castillejos                           2.0     2825.0   \n",
       "Paymogo                                                 1.0     1162.0   \n",
       "Zalamea la Real                                         1.0     3054.0   \n",
       "\n",
       "Medida                                  tasa7      tasa14  Diferencia PDIA  \\\n",
       "Lugar de residencia                                                          \n",
       "Alosno                              50.851767  483.091787              1.0   \n",
       "Isla Cristina                        9.348852   37.395410              0.0   \n",
       "Niebla                              97.181730  388.726919              2.0   \n",
       "Ayamonte                            14.215315   56.861259              1.0   \n",
       "Gibraleón                           47.106854  157.022847              2.0   \n",
       "Rociana del Condado                251.920897  818.742915              4.0   \n",
       "Punta Umbría                        39.075220   91.175513              0.0   \n",
       "Valverde del Camino                 31.372549   70.588235              1.0   \n",
       "Paterna del Campo                  115.707261  260.341336              3.0   \n",
       "Almonte                            322.356878  648.794222             39.0   \n",
       "Bollullos Par del Condado          201.570863  403.141725              7.0   \n",
       "Palma del Condado (La)              46.292010   92.584020              2.0   \n",
       "Villarrasa                          45.228403   90.456807              0.0   \n",
       "Condado-Campiña                    177.941638  342.441641            100.0   \n",
       "San Bartolomé de la Torre          505.184791  957.192236              5.0   \n",
       "Huelva                              95.679794  174.211275            178.0   \n",
       "Lepe                                39.454806   71.736011              3.0   \n",
       "Villalba del Alcor                 118.835413  207.961973              2.0   \n",
       "Huelva-Costa                        63.201956  106.372691             70.0   \n",
       "Palos de la Frontera               195.878045  323.624595              8.0   \n",
       "Sierra de Huelva-Andévalo Central   34.129186   51.935718              5.0   \n",
       "San Juan del Puerto                127.510360  191.265540              2.0   \n",
       "Huelva (capital)                    72.304066  108.456100             46.0   \n",
       "Lucena del Puerto                   61.330880   91.996320              2.0   \n",
       "Cartaya                            194.194095  288.801474             11.0   \n",
       "Moguer                             182.924041  269.812960             20.0   \n",
       "Aracena                            133.252574  193.821926              2.0   \n",
       "Aroche                              98.231827  130.975769              1.0   \n",
       "Aljaraque                           60.538325   74.508708              6.0   \n",
       "Bonares                            264.026403  313.531353              1.0   \n",
       "Trigueros                          152.632918  165.352328              1.0   \n",
       "Higuera de la Sierra               154.918668  154.918668              0.0   \n",
       "Escacena del Campo                  43.725404   43.725404              0.0   \n",
       "Campillo (El)                       49.407115   49.407115              0.0   \n",
       "Calañas                             36.127168   36.127168              0.0   \n",
       "Beas                                23.036167   23.036167             -1.0   \n",
       "Villanueva de los Castillejos       70.796460   70.796460              0.0   \n",
       "Paymogo                             86.058520   86.058520              0.0   \n",
       "Zalamea la Real                     32.743942   32.743942              0.0   \n",
       "\n",
       "Medida                                 7/14  \n",
       "Lugar de residencia                          \n",
       "Alosno                             0.105263  \n",
       "Isla Cristina                      0.250000  \n",
       "Niebla                             0.250000  \n",
       "Ayamonte                           0.250000  \n",
       "Gibraleón                          0.300000  \n",
       "Rociana del Condado                0.307692  \n",
       "Punta Umbría                       0.428571  \n",
       "Valverde del Camino                0.444444  \n",
       "Paterna del Campo                  0.444444  \n",
       "Almonte                            0.496855  \n",
       "Bollullos Par del Condado          0.500000  \n",
       "Palma del Condado (La)             0.500000  \n",
       "Villarrasa                         0.500000  \n",
       "Condado-Campiña                    0.519626  \n",
       "San Bartolomé de la Torre          0.527778  \n",
       "Huelva                             0.549217  \n",
       "Lepe                               0.550000  \n",
       "Villalba del Alcor                 0.571429  \n",
       "Huelva-Costa                       0.594156  \n",
       "Palos de la Frontera               0.605263  \n",
       "Sierra de Huelva-Andévalo Central  0.657143  \n",
       "San Juan del Puerto                0.666667  \n",
       "Huelva (capital)                   0.666667  \n",
       "Lucena del Puerto                  0.666667  \n",
       "Cartaya                            0.672414  \n",
       "Moguer                             0.677966  \n",
       "Aracena                            0.687500  \n",
       "Aroche                             0.750000  \n",
       "Aljaraque                          0.812500  \n",
       "Bonares                            0.842105  \n",
       "Trigueros                          0.923077  \n",
       "Higuera de la Sierra               1.000000  \n",
       "Escacena del Campo                 1.000000  \n",
       "Campillo (El)                      1.000000  \n",
       "Calañas                            1.000000  \n",
       "Beas                               1.000000  \n",
       "Villanueva de los Castillejos      1.000000  \n",
       "Paymogo                            1.000000  \n",
       "Zalamea la Real                    1.000000  "
      ],
      "text/html": "<div>\n<style scoped>\n    .dataframe tbody tr th:only-of-type {\n        vertical-align: middle;\n    }\n\n    .dataframe tbody tr th {\n        vertical-align: top;\n    }\n\n    .dataframe thead th {\n        text-align: right;\n    }\n</style>\n<table border=\"1\" class=\"dataframe\">\n  <thead>\n    <tr style=\"text-align: right;\">\n      <th>Medida</th>\n      <th>Confirmados PDIA</th>\n      <th>Confirmados PDIA 7 días</th>\n      <th>Confirmados PDIA 14 días</th>\n      <th>Población</th>\n      <th>tasa7</th>\n      <th>tasa14</th>\n      <th>Diferencia PDIA</th>\n      <th>7/14</th>\n    </tr>\n    <tr>\n      <th>Lugar de residencia</th>\n      <th></th>\n      <th></th>\n      <th></th>\n      <th></th>\n      <th></th>\n      <th></th>\n      <th></th>\n      <th></th>\n    </tr>\n  </thead>\n  <tbody>\n    <tr>\n      <th>Alosno</th>\n      <td>152.0</td>\n      <td>2.0</td>\n      <td>19.0</td>\n      <td>3933.0</td>\n      <td>50.851767</td>\n      <td>483.091787</td>\n      <td>1.0</td>\n      <td>0.105263</td>\n    </tr>\n    <tr>\n      <th>Isla Cristina</th>\n      <td>2013.0</td>\n      <td>2.0</td>\n      <td>8.0</td>\n      <td>21393.0</td>\n      <td>9.348852</td>\n      <td>37.395410</td>\n      <td>0.0</td>\n      <td>0.250000</td>\n    </tr>\n    <tr>\n      <th>Niebla</th>\n      <td>177.0</td>\n      <td>4.0</td>\n      <td>16.0</td>\n      <td>4116.0</td>\n      <td>97.181730</td>\n      <td>388.726919</td>\n      <td>2.0</td>\n      <td>0.250000</td>\n    </tr>\n    <tr>\n      <th>Ayamonte</th>\n      <td>1248.0</td>\n      <td>3.0</td>\n      <td>12.0</td>\n      <td>21104.0</td>\n      <td>14.215315</td>\n      <td>56.861259</td>\n      <td>1.0</td>\n      <td>0.250000</td>\n    </tr>\n    <tr>\n      <th>Gibraleón</th>\n      <td>552.0</td>\n      <td>6.0</td>\n      <td>20.0</td>\n      <td>12737.0</td>\n      <td>47.106854</td>\n      <td>157.022847</td>\n      <td>2.0</td>\n      <td>0.300000</td>\n    </tr>\n    <tr>\n      <th>Rociana del Condado</th>\n      <td>389.0</td>\n      <td>20.0</td>\n      <td>65.0</td>\n      <td>7939.0</td>\n      <td>251.920897</td>\n      <td>818.742915</td>\n      <td>4.0</td>\n      <td>0.307692</td>\n    </tr>\n    <tr>\n      <th>Punta Umbría</th>\n      <td>672.0</td>\n      <td>6.0</td>\n      <td>14.0</td>\n      <td>15355.0</td>\n      <td>39.075220</td>\n      <td>91.175513</td>\n      <td>0.0</td>\n      <td>0.428571</td>\n    </tr>\n    <tr>\n      <th>Valverde del Camino</th>\n      <td>432.0</td>\n      <td>4.0</td>\n      <td>9.0</td>\n      <td>12750.0</td>\n      <td>31.372549</td>\n      <td>70.588235</td>\n      <td>1.0</td>\n      <td>0.444444</td>\n    </tr>\n    <tr>\n      <th>Paterna del Campo</th>\n      <td>123.0</td>\n      <td>4.0</td>\n      <td>9.0</td>\n      <td>3457.0</td>\n      <td>115.707261</td>\n      <td>260.341336</td>\n      <td>3.0</td>\n      <td>0.444444</td>\n    </tr>\n    <tr>\n      <th>Almonte</th>\n      <td>1084.0</td>\n      <td>79.0</td>\n      <td>159.0</td>\n      <td>24507.0</td>\n      <td>322.356878</td>\n      <td>648.794222</td>\n      <td>39.0</td>\n      <td>0.496855</td>\n    </tr>\n    <tr>\n      <th>Bollullos Par del Condado</th>\n      <td>693.0</td>\n      <td>29.0</td>\n      <td>58.0</td>\n      <td>14387.0</td>\n      <td>201.570863</td>\n      <td>403.141725</td>\n      <td>7.0</td>\n      <td>0.500000</td>\n    </tr>\n    <tr>\n      <th>Palma del Condado (La)</th>\n      <td>998.0</td>\n      <td>5.0</td>\n      <td>10.0</td>\n      <td>10801.0</td>\n      <td>46.292010</td>\n      <td>92.584020</td>\n      <td>2.0</td>\n      <td>0.500000</td>\n    </tr>\n    <tr>\n      <th>Villarrasa</th>\n      <td>134.0</td>\n      <td>1.0</td>\n      <td>2.0</td>\n      <td>2211.0</td>\n      <td>45.228403</td>\n      <td>90.456807</td>\n      <td>0.0</td>\n      <td>0.500000</td>\n    </tr>\n    <tr>\n      <th>Condado-Campiña</th>\n      <td>7662.0</td>\n      <td>278.0</td>\n      <td>535.0</td>\n      <td>156231.0</td>\n      <td>177.941638</td>\n      <td>342.441641</td>\n      <td>100.0</td>\n      <td>0.519626</td>\n    </tr>\n    <tr>\n      <th>San Bartolomé de la Torre</th>\n      <td>249.0</td>\n      <td>19.0</td>\n      <td>36.0</td>\n      <td>3761.0</td>\n      <td>505.184791</td>\n      <td>957.192236</td>\n      <td>5.0</td>\n      <td>0.527778</td>\n    </tr>\n    <tr>\n      <th>Huelva</th>\n      <td>25985.0</td>\n      <td>491.0</td>\n      <td>894.0</td>\n      <td>513170.0</td>\n      <td>95.679794</td>\n      <td>174.211275</td>\n      <td>178.0</td>\n      <td>0.549217</td>\n    </tr>\n    <tr>\n      <th>Lepe</th>\n      <td>2029.0</td>\n      <td>11.0</td>\n      <td>20.0</td>\n      <td>27880.0</td>\n      <td>39.454806</td>\n      <td>71.736011</td>\n      <td>3.0</td>\n      <td>0.550000</td>\n    </tr>\n    <tr>\n      <th>Villalba del Alcor</th>\n      <td>465.0</td>\n      <td>4.0</td>\n      <td>7.0</td>\n      <td>3366.0</td>\n      <td>118.835413</td>\n      <td>207.961973</td>\n      <td>2.0</td>\n      <td>0.571429</td>\n    </tr>\n    <tr>\n      <th>Huelva-Costa</th>\n      <td>15554.0</td>\n      <td>183.0</td>\n      <td>308.0</td>\n      <td>289548.0</td>\n      <td>63.201956</td>\n      <td>106.372691</td>\n      <td>70.0</td>\n      <td>0.594156</td>\n    </tr>\n    <tr>\n      <th>Palos de la Frontera</th>\n      <td>500.0</td>\n      <td>23.0</td>\n      <td>38.0</td>\n      <td>11742.0</td>\n      <td>195.878045</td>\n      <td>323.624595</td>\n      <td>8.0</td>\n      <td>0.605263</td>\n    </tr>\n    <tr>\n      <th>Sierra de Huelva-Andévalo Central</th>\n      <td>2343.0</td>\n      <td>23.0</td>\n      <td>35.0</td>\n      <td>67391.0</td>\n      <td>34.129186</td>\n      <td>51.935718</td>\n      <td>5.0</td>\n      <td>0.657143</td>\n    </tr>\n    <tr>\n      <th>San Juan del Puerto</th>\n      <td>385.0</td>\n      <td>12.0</td>\n      <td>18.0</td>\n      <td>9411.0</td>\n      <td>127.510360</td>\n      <td>191.265540</td>\n      <td>2.0</td>\n      <td>0.666667</td>\n    </tr>\n    <tr>\n      <th>Huelva (capital)</th>\n      <td>6794.0</td>\n      <td>104.0</td>\n      <td>156.0</td>\n      <td>143837.0</td>\n      <td>72.304066</td>\n      <td>108.456100</td>\n      <td>46.0</td>\n      <td>0.666667</td>\n    </tr>\n    <tr>\n      <th>Lucena del Puerto</th>\n      <td>164.0</td>\n      <td>2.0</td>\n      <td>3.0</td>\n      <td>3261.0</td>\n      <td>61.330880</td>\n      <td>91.996320</td>\n      <td>2.0</td>\n      <td>0.666667</td>\n    </tr>\n    <tr>\n      <th>Cartaya</th>\n      <td>1037.0</td>\n      <td>39.0</td>\n      <td>58.0</td>\n      <td>20083.0</td>\n      <td>194.194095</td>\n      <td>288.801474</td>\n      <td>11.0</td>\n      <td>0.672414</td>\n    </tr>\n    <tr>\n      <th>Moguer</th>\n      <td>919.0</td>\n      <td>40.0</td>\n      <td>59.0</td>\n      <td>21867.0</td>\n      <td>182.924041</td>\n      <td>269.812960</td>\n      <td>20.0</td>\n      <td>0.677966</td>\n    </tr>\n    <tr>\n      <th>Aracena</th>\n      <td>466.0</td>\n      <td>11.0</td>\n      <td>16.0</td>\n      <td>8255.0</td>\n      <td>133.252574</td>\n      <td>193.821926</td>\n      <td>2.0</td>\n      <td>0.687500</td>\n    </tr>\n    <tr>\n      <th>Aroche</th>\n      <td>84.0</td>\n      <td>3.0</td>\n      <td>4.0</td>\n      <td>3054.0</td>\n      <td>98.231827</td>\n      <td>130.975769</td>\n      <td>1.0</td>\n      <td>0.750000</td>\n    </tr>\n    <tr>\n      <th>Aljaraque</th>\n      <td>944.0</td>\n      <td>13.0</td>\n      <td>16.0</td>\n      <td>21474.0</td>\n      <td>60.538325</td>\n      <td>74.508708</td>\n      <td>6.0</td>\n      <td>0.812500</td>\n    </tr>\n    <tr>\n      <th>Bonares</th>\n      <td>199.0</td>\n      <td>16.0</td>\n      <td>19.0</td>\n      <td>6060.0</td>\n      <td>264.026403</td>\n      <td>313.531353</td>\n      <td>1.0</td>\n      <td>0.842105</td>\n    </tr>\n    <tr>\n      <th>Trigueros</th>\n      <td>241.0</td>\n      <td>12.0</td>\n      <td>13.0</td>\n      <td>7862.0</td>\n      <td>152.632918</td>\n      <td>165.352328</td>\n      <td>1.0</td>\n      <td>0.923077</td>\n    </tr>\n    <tr>\n      <th>Higuera de la Sierra</th>\n      <td>31.0</td>\n      <td>2.0</td>\n      <td>2.0</td>\n      <td>1291.0</td>\n      <td>154.918668</td>\n      <td>154.918668</td>\n      <td>0.0</td>\n      <td>1.000000</td>\n    </tr>\n    <tr>\n      <th>Escacena del Campo</th>\n      <td>142.0</td>\n      <td>1.0</td>\n      <td>1.0</td>\n      <td>2287.0</td>\n      <td>43.725404</td>\n      <td>43.725404</td>\n      <td>0.0</td>\n      <td>1.000000</td>\n    </tr>\n    <tr>\n      <th>Campillo (El)</th>\n      <td>62.0</td>\n      <td>1.0</td>\n      <td>1.0</td>\n      <td>2024.0</td>\n      <td>49.407115</td>\n      <td>49.407115</td>\n      <td>0.0</td>\n      <td>1.000000</td>\n    </tr>\n    <tr>\n      <th>Calañas</th>\n      <td>172.0</td>\n      <td>1.0</td>\n      <td>1.0</td>\n      <td>2768.0</td>\n      <td>36.127168</td>\n      <td>36.127168</td>\n      <td>0.0</td>\n      <td>1.000000</td>\n    </tr>\n    <tr>\n      <th>Beas</th>\n      <td>164.0</td>\n      <td>1.0</td>\n      <td>1.0</td>\n      <td>4341.0</td>\n      <td>23.036167</td>\n      <td>23.036167</td>\n      <td>-1.0</td>\n      <td>1.000000</td>\n    </tr>\n    <tr>\n      <th>Villanueva de los Castillejos</th>\n      <td>155.0</td>\n      <td>2.0</td>\n      <td>2.0</td>\n      <td>2825.0</td>\n      <td>70.796460</td>\n      <td>70.796460</td>\n      <td>0.0</td>\n      <td>1.000000</td>\n    </tr>\n    <tr>\n      <th>Paymogo</th>\n      <td>74.0</td>\n      <td>1.0</td>\n      <td>1.0</td>\n      <td>1162.0</td>\n      <td>86.058520</td>\n      <td>86.058520</td>\n      <td>0.0</td>\n      <td>1.000000</td>\n    </tr>\n    <tr>\n      <th>Zalamea la Real</th>\n      <td>86.0</td>\n      <td>1.0</td>\n      <td>1.0</td>\n      <td>3054.0</td>\n      <td>32.743942</td>\n      <td>32.743942</td>\n      <td>0.0</td>\n      <td>1.000000</td>\n    </tr>\n  </tbody>\n</table>\n</div>"
     },
     "metadata": {},
     "execution_count": 18
    }
   ],
   "source": [
    "# Peso de la tasa de la última semana en relación con la tasa a 14 días \n",
    "# Mejor cuanto menor. Valor 1 significa que no había casos antes de 7 días.\n",
    "tabla['7/14'] = tabla['tasa7'] / tabla['tasa14']\n",
    "tabla.fillna(0).sort_values('7/14', ascending=True)"
   ]
  },
  {
   "cell_type": "code",
   "execution_count": null,
   "metadata": {},
   "outputs": [],
   "source": []
  }
 ]
}