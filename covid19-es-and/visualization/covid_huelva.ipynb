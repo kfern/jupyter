{
 "metadata": {
  "language_info": {
   "codemirror_mode": {
    "name": "ipython",
    "version": 3
   },
   "file_extension": ".py",
   "mimetype": "text/x-python",
   "name": "python",
   "nbconvert_exporter": "python",
   "pygments_lexer": "ipython3",
   "version": "3.6.9-final"
  },
  "orig_nbformat": 2,
  "kernelspec": {
   "name": "Python 3.6.9 64-bit",
   "display_name": "Python 3.6.9 64-bit",
   "metadata": {
    "interpreter": {
     "hash": "31f2aee4e71d21fbe5cf8b01ff0e069b9275f58929596ceb00d14d90e3e16cd6"
    }
   }
  }
 },
 "nbformat": 4,
 "nbformat_minor": 2,
 "cells": [
  {
   "cell_type": "code",
   "execution_count": 1,
   "metadata": {},
   "outputs": [],
   "source": [
    "import pandas as pd"
   ]
  },
  {
   "cell_type": "code",
   "execution_count": 2,
   "metadata": {},
   "outputs": [],
   "source": [
    "# FIX SSL: CERTIFICATE_VERIFY_FAILED with Python3\n",
    "# https://stackoverflow.com/a/49174340\n",
    "import ssl\n",
    "\n",
    "ssl._create_default_https_context = ssl._create_unverified_context"
   ]
  },
  {
   "cell_type": "code",
   "execution_count": 3,
   "metadata": {},
   "outputs": [],
   "source": [
    "url = 'https://www.juntadeandalucia.es/institutodeestadisticaycartografia/badea/stpivot/stpivot/Print?cube=013d884c-cfc5-4c21-9e78-e26225682afd&type=3&foto=si&ejecutaDesde=&codConsulta=38668&consTipoVisua=JP'\n",
    "fields = ['Lugar de residencia', 'Medida', 'Valor']\n",
    "df = pd.read_csv(url, delimiter=';', usecols=fields, decimal=',')"
   ]
  },
  {
   "cell_type": "code",
   "execution_count": 4,
   "metadata": {},
   "outputs": [
    {
     "output_type": "execute_result",
     "data": {
      "text/plain": [
       "                     Lugar de residencia                    Medida  \\\n",
       "0                                 Huelva                 Población   \n",
       "1                                 Huelva          Confirmados PDIA   \n",
       "2                                 Huelva  Confirmados PDIA 14 días   \n",
       "3                                 Huelva         Tasa PDIA 14 días   \n",
       "4                                 Huelva   Confirmados PDIA 7 días   \n",
       "..                                   ...                       ...   \n",
       "627  Municipio de Huelva sin especificar         Tasa PDIA 14 días   \n",
       "628  Municipio de Huelva sin especificar   Confirmados PDIA 7 días   \n",
       "629  Municipio de Huelva sin especificar        Total Confirmados    \n",
       "630  Municipio de Huelva sin especificar                   Curados   \n",
       "631  Municipio de Huelva sin especificar                Fallecidos   \n",
       "\n",
       "                  Valor  \n",
       "0                510743  \n",
       "1                  2095  \n",
       "2                   578  \n",
       "3    113,16846241651868  \n",
       "4                   292  \n",
       "..                  ...  \n",
       "627                   -  \n",
       "628                   5  \n",
       "629                  34  \n",
       "630                   4  \n",
       "631                   1  \n",
       "\n",
       "[632 rows x 3 columns]"
      ],
      "text/html": "<div>\n<style scoped>\n    .dataframe tbody tr th:only-of-type {\n        vertical-align: middle;\n    }\n\n    .dataframe tbody tr th {\n        vertical-align: top;\n    }\n\n    .dataframe thead th {\n        text-align: right;\n    }\n</style>\n<table border=\"1\" class=\"dataframe\">\n  <thead>\n    <tr style=\"text-align: right;\">\n      <th></th>\n      <th>Lugar de residencia</th>\n      <th>Medida</th>\n      <th>Valor</th>\n    </tr>\n  </thead>\n  <tbody>\n    <tr>\n      <th>0</th>\n      <td>Huelva</td>\n      <td>Población</td>\n      <td>510743</td>\n    </tr>\n    <tr>\n      <th>1</th>\n      <td>Huelva</td>\n      <td>Confirmados PDIA</td>\n      <td>2095</td>\n    </tr>\n    <tr>\n      <th>2</th>\n      <td>Huelva</td>\n      <td>Confirmados PDIA 14 días</td>\n      <td>578</td>\n    </tr>\n    <tr>\n      <th>3</th>\n      <td>Huelva</td>\n      <td>Tasa PDIA 14 días</td>\n      <td>113,16846241651868</td>\n    </tr>\n    <tr>\n      <th>4</th>\n      <td>Huelva</td>\n      <td>Confirmados PDIA 7 días</td>\n      <td>292</td>\n    </tr>\n    <tr>\n      <th>...</th>\n      <td>...</td>\n      <td>...</td>\n      <td>...</td>\n    </tr>\n    <tr>\n      <th>627</th>\n      <td>Municipio de Huelva sin especificar</td>\n      <td>Tasa PDIA 14 días</td>\n      <td>-</td>\n    </tr>\n    <tr>\n      <th>628</th>\n      <td>Municipio de Huelva sin especificar</td>\n      <td>Confirmados PDIA 7 días</td>\n      <td>5</td>\n    </tr>\n    <tr>\n      <th>629</th>\n      <td>Municipio de Huelva sin especificar</td>\n      <td>Total Confirmados</td>\n      <td>34</td>\n    </tr>\n    <tr>\n      <th>630</th>\n      <td>Municipio de Huelva sin especificar</td>\n      <td>Curados</td>\n      <td>4</td>\n    </tr>\n    <tr>\n      <th>631</th>\n      <td>Municipio de Huelva sin especificar</td>\n      <td>Fallecidos</td>\n      <td>1</td>\n    </tr>\n  </tbody>\n</table>\n<p>632 rows × 3 columns</p>\n</div>"
     },
     "metadata": {},
     "execution_count": 4
    }
   ],
   "source": [
    "df"
   ]
  },
  {
   "cell_type": "code",
   "execution_count": 5,
   "metadata": {},
   "outputs": [],
   "source": [
    "df['Valor'] = pd.to_numeric(df['Valor'],errors='coerce')"
   ]
  },
  {
   "cell_type": "code",
   "execution_count": 6,
   "metadata": {},
   "outputs": [],
   "source": [
    "dfAnterior = pd.read_csv('covid_huelva.csv', index_col='Lugar de residencia')"
   ]
  },
  {
   "cell_type": "code",
   "execution_count": 7,
   "metadata": {
    "tags": []
   },
   "outputs": [
    {
     "output_type": "stream",
     "name": "stdout",
     "text": [
      "Confirmados PCR en la provincia de Huelva:  2095.0\n"
     ]
    }
   ],
   "source": [
    "# Confirmados PCR provincia Huelva\n",
    "p = df[df['Lugar de residencia'] == 'Huelva'][df['Medida'] == 'Confirmados PDIA']['Valor'].values[0]\n",
    "print('Confirmados PCR en la provincia de Huelva: ', p)"
   ]
  },
  {
   "cell_type": "code",
   "execution_count": 8,
   "metadata": {
    "tags": []
   },
   "outputs": [
    {
     "output_type": "stream",
     "name": "stdout",
     "text": [
      "Confirmados PCR en Huelva capital:  562.0\n"
     ]
    }
   ],
   "source": [
    "# Confirmados PCR Huelva capitalpd\n",
    "c = df[df['Lugar de residencia'] == 'Huelva (capital)'][df['Medida'] == 'Confirmados PDIA']['Valor'].values[0]\n",
    "print('Confirmados PCR en Huelva capital: ', c)"
   ]
  },
  {
   "cell_type": "code",
   "execution_count": 9,
   "metadata": {
    "tags": []
   },
   "outputs": [],
   "source": [
    "c7 = df[df['Lugar de residencia'] == 'Huelva (capital)'][df['Medida'] == 'Confirmados PDIA 7 días']['Valor'].values[0]\n",
    "c14 = df[df['Lugar de residencia'] == 'Huelva (capital)'][df['Medida'] == 'Confirmados PDIA 14 días']['Valor'].values[0]\n",
    "p = df[df['Lugar de residencia'] == 'Huelva (capital)'][df['Medida'] == 'Población']['Valor'].values[0]"
   ]
  },
  {
   "cell_type": "code",
   "execution_count": 10,
   "metadata": {
    "tags": []
   },
   "outputs": [
    {
     "output_type": "stream",
     "name": "stdout",
     "text": [
      "Huelva (capital)\n\nUn positivo PCR cada 1260 personas en los últimos 7 días \n\nUn positivo PCR cada 726 personas en los últimos 14 días\n"
     ]
    }
   ],
   "source": [
    "print('Huelva (capital)\\n')\n",
    "#print('Confirmados PCR 7 días x 1,000 habitantes: ', f\"{c7/(p/1000):.5f}\")\n",
    "print('Un positivo PCR cada', f\"{p/c7:.0f}\", 'personas en los últimos 7 días', '\\n')\n",
    "#print('Confirmados PCR 14 días x 1,000 habitantes: ', f\"{c14/(p/1000):.5f}\")\n",
    "print('Un positivo PCR cada', f\"{p/c14:.0f}\", 'personas en los últimos 14 días')"
   ]
  },
  {
   "cell_type": "code",
   "execution_count": 11,
   "metadata": {},
   "outputs": [],
   "source": [
    "filtro = ((df['Medida'] == 'Confirmados PDIA')| (df['Medida'] == 'Confirmados PDIA 7 días') | (df['Medida'] == 'Población' ) | (df['Medida'] == 'Confirmados PDIA 14 días')) & (df['Valor'] > 0)\n",
    "tabla = pd.pivot_table(df.loc[filtro], values='Valor', index='Lugar de residencia', columns='Medida').dropna()"
   ]
  },
  {
   "cell_type": "code",
   "execution_count": 12,
   "metadata": {},
   "outputs": [],
   "source": [
    "# Reorder columns\n",
    "tabla = tabla[['Confirmados PDIA', 'Confirmados PDIA 7 días', 'Confirmados PDIA 14 días', 'Población']]"
   ]
  },
  {
   "cell_type": "code",
   "execution_count": 13,
   "metadata": {},
   "outputs": [],
   "source": [
    "tabla['tasa7'] = tabla['Confirmados PDIA 7 días']/tabla['Población']*100000\n",
    "tabla['tasa14'] = tabla['Confirmados PDIA 14 días']/tabla['Población']*100000"
   ]
  },
  {
   "cell_type": "code",
   "execution_count": 14,
   "metadata": {},
   "outputs": [],
   "source": [
    "tabla['Diferencia PDIA'] = tabla['Confirmados PDIA'] - dfAnterior['Confirmados PDIA']"
   ]
  },
  {
   "cell_type": "code",
   "execution_count": 15,
   "metadata": {},
   "outputs": [
    {
     "output_type": "execute_result",
     "data": {
      "text/plain": [
       "Medida                             Confirmados PDIA  Confirmados PDIA 7 días  \\\n",
       "Lugar de residencia                                                            \n",
       "Huelva                                       2095.0                    292.0   \n",
       "Huelva-Costa                                 1085.0                    174.0   \n",
       "Huelva (capital)                              562.0                    114.0   \n",
       "Lepe                                          157.0                     24.0   \n",
       "Condado-Campiña                               705.0                     79.0   \n",
       "Sierra de Huelva-Andévalo Central             271.0                     34.0   \n",
       "Cortegana                                      22.0                     10.0   \n",
       "Gibraleón                                      43.0                      9.0   \n",
       "Almonte                                        69.0                      9.0   \n",
       "Palma del Condado (La)                        104.0                     18.0   \n",
       "Aljaraque                                      85.0                      9.0   \n",
       "Aracena                                        60.0                      6.0   \n",
       "Cartaya                                        35.0                      7.0   \n",
       "Cerro de Andévalo (El)                          8.0                      3.0   \n",
       "Nerva                                          26.0                      2.0   \n",
       "Ayamonte                                       53.0                      1.0   \n",
       "San Bartolomé de la Torre                       5.0                      1.0   \n",
       "\n",
       "Medida                             Confirmados PDIA 14 días  Población  \\\n",
       "Lugar de residencia                                                      \n",
       "Huelva                                                578.0   510743.0   \n",
       "Huelva-Costa                                          318.0   288115.0   \n",
       "Huelva (capital)                                      198.0   143663.0   \n",
       "Lepe                                                   49.0    27431.0   \n",
       "Condado-Campiña                                       190.0   155057.0   \n",
       "Sierra de Huelva-Andévalo Central                      59.0    67571.0   \n",
       "Cortegana                                              12.0     4666.0   \n",
       "Gibraleón                                              17.0    12607.0   \n",
       "Almonte                                                15.0    24191.0   \n",
       "Palma del Condado (La)                                 34.0    10761.0   \n",
       "Aljaraque                                              14.0    21260.0   \n",
       "Aracena                                                11.0     8107.0   \n",
       "Cartaya                                                10.0    19974.0   \n",
       "Cerro de Andévalo (El)                                  3.0     2364.0   \n",
       "Nerva                                                   3.0     5235.0   \n",
       "Ayamonte                                                3.0    20946.0   \n",
       "San Bartolomé de la Torre                               2.0     3736.0   \n",
       "\n",
       "Medida                                  tasa7      tasa14  Diferencia PDIA  \n",
       "Lugar de residencia                                                         \n",
       "Huelva                              57.171611  113.168462             46.0  \n",
       "Huelva-Costa                        60.392552  110.372594             27.0  \n",
       "Huelva (capital)                    79.352373  137.822543             14.0  \n",
       "Lepe                                87.492253  178.630017             10.0  \n",
       "Condado-Campiña                     50.949006  122.535584              9.0  \n",
       "Sierra de Huelva-Andévalo Central   50.317444   87.315564              7.0  \n",
       "Cortegana                          214.316331  257.179597              6.0  \n",
       "Gibraleón                           71.388911  134.845721              4.0  \n",
       "Almonte                             37.203919   62.006531              2.0  \n",
       "Palma del Condado (La)             167.270700  315.955766              2.0  \n",
       "Aljaraque                           42.333020   65.851364              1.0  \n",
       "Aracena                             74.010115  135.685210              1.0  \n",
       "Cartaya                             35.045559   50.065085              1.0  \n",
       "Cerro de Andévalo (El)             126.903553  126.903553              1.0  \n",
       "Nerva                               38.204394   57.306590             -1.0  \n",
       "Ayamonte                             4.774181   14.322544              NaN  \n",
       "San Bartolomé de la Torre           26.766595   53.533191              NaN  "
      ],
      "text/html": "<div>\n<style scoped>\n    .dataframe tbody tr th:only-of-type {\n        vertical-align: middle;\n    }\n\n    .dataframe tbody tr th {\n        vertical-align: top;\n    }\n\n    .dataframe thead th {\n        text-align: right;\n    }\n</style>\n<table border=\"1\" class=\"dataframe\">\n  <thead>\n    <tr style=\"text-align: right;\">\n      <th>Medida</th>\n      <th>Confirmados PDIA</th>\n      <th>Confirmados PDIA 7 días</th>\n      <th>Confirmados PDIA 14 días</th>\n      <th>Población</th>\n      <th>tasa7</th>\n      <th>tasa14</th>\n      <th>Diferencia PDIA</th>\n    </tr>\n    <tr>\n      <th>Lugar de residencia</th>\n      <th></th>\n      <th></th>\n      <th></th>\n      <th></th>\n      <th></th>\n      <th></th>\n      <th></th>\n    </tr>\n  </thead>\n  <tbody>\n    <tr>\n      <th>Huelva</th>\n      <td>2095.0</td>\n      <td>292.0</td>\n      <td>578.0</td>\n      <td>510743.0</td>\n      <td>57.171611</td>\n      <td>113.168462</td>\n      <td>46.0</td>\n    </tr>\n    <tr>\n      <th>Huelva-Costa</th>\n      <td>1085.0</td>\n      <td>174.0</td>\n      <td>318.0</td>\n      <td>288115.0</td>\n      <td>60.392552</td>\n      <td>110.372594</td>\n      <td>27.0</td>\n    </tr>\n    <tr>\n      <th>Huelva (capital)</th>\n      <td>562.0</td>\n      <td>114.0</td>\n      <td>198.0</td>\n      <td>143663.0</td>\n      <td>79.352373</td>\n      <td>137.822543</td>\n      <td>14.0</td>\n    </tr>\n    <tr>\n      <th>Lepe</th>\n      <td>157.0</td>\n      <td>24.0</td>\n      <td>49.0</td>\n      <td>27431.0</td>\n      <td>87.492253</td>\n      <td>178.630017</td>\n      <td>10.0</td>\n    </tr>\n    <tr>\n      <th>Condado-Campiña</th>\n      <td>705.0</td>\n      <td>79.0</td>\n      <td>190.0</td>\n      <td>155057.0</td>\n      <td>50.949006</td>\n      <td>122.535584</td>\n      <td>9.0</td>\n    </tr>\n    <tr>\n      <th>Sierra de Huelva-Andévalo Central</th>\n      <td>271.0</td>\n      <td>34.0</td>\n      <td>59.0</td>\n      <td>67571.0</td>\n      <td>50.317444</td>\n      <td>87.315564</td>\n      <td>7.0</td>\n    </tr>\n    <tr>\n      <th>Cortegana</th>\n      <td>22.0</td>\n      <td>10.0</td>\n      <td>12.0</td>\n      <td>4666.0</td>\n      <td>214.316331</td>\n      <td>257.179597</td>\n      <td>6.0</td>\n    </tr>\n    <tr>\n      <th>Gibraleón</th>\n      <td>43.0</td>\n      <td>9.0</td>\n      <td>17.0</td>\n      <td>12607.0</td>\n      <td>71.388911</td>\n      <td>134.845721</td>\n      <td>4.0</td>\n    </tr>\n    <tr>\n      <th>Almonte</th>\n      <td>69.0</td>\n      <td>9.0</td>\n      <td>15.0</td>\n      <td>24191.0</td>\n      <td>37.203919</td>\n      <td>62.006531</td>\n      <td>2.0</td>\n    </tr>\n    <tr>\n      <th>Palma del Condado (La)</th>\n      <td>104.0</td>\n      <td>18.0</td>\n      <td>34.0</td>\n      <td>10761.0</td>\n      <td>167.270700</td>\n      <td>315.955766</td>\n      <td>2.0</td>\n    </tr>\n    <tr>\n      <th>Aljaraque</th>\n      <td>85.0</td>\n      <td>9.0</td>\n      <td>14.0</td>\n      <td>21260.0</td>\n      <td>42.333020</td>\n      <td>65.851364</td>\n      <td>1.0</td>\n    </tr>\n    <tr>\n      <th>Aracena</th>\n      <td>60.0</td>\n      <td>6.0</td>\n      <td>11.0</td>\n      <td>8107.0</td>\n      <td>74.010115</td>\n      <td>135.685210</td>\n      <td>1.0</td>\n    </tr>\n    <tr>\n      <th>Cartaya</th>\n      <td>35.0</td>\n      <td>7.0</td>\n      <td>10.0</td>\n      <td>19974.0</td>\n      <td>35.045559</td>\n      <td>50.065085</td>\n      <td>1.0</td>\n    </tr>\n    <tr>\n      <th>Cerro de Andévalo (El)</th>\n      <td>8.0</td>\n      <td>3.0</td>\n      <td>3.0</td>\n      <td>2364.0</td>\n      <td>126.903553</td>\n      <td>126.903553</td>\n      <td>1.0</td>\n    </tr>\n    <tr>\n      <th>Nerva</th>\n      <td>26.0</td>\n      <td>2.0</td>\n      <td>3.0</td>\n      <td>5235.0</td>\n      <td>38.204394</td>\n      <td>57.306590</td>\n      <td>-1.0</td>\n    </tr>\n    <tr>\n      <th>Ayamonte</th>\n      <td>53.0</td>\n      <td>1.0</td>\n      <td>3.0</td>\n      <td>20946.0</td>\n      <td>4.774181</td>\n      <td>14.322544</td>\n      <td>NaN</td>\n    </tr>\n    <tr>\n      <th>San Bartolomé de la Torre</th>\n      <td>5.0</td>\n      <td>1.0</td>\n      <td>2.0</td>\n      <td>3736.0</td>\n      <td>26.766595</td>\n      <td>53.533191</td>\n      <td>NaN</td>\n    </tr>\n  </tbody>\n</table>\n</div>"
     },
     "metadata": {},
     "execution_count": 15
    }
   ],
   "source": [
    "# Nuevos casos desde la última captura\n",
    "tabla[tabla['Diferencia PDIA'] != 0].sort_values('Diferencia PDIA', ascending=False)"
   ]
  },
  {
   "cell_type": "code",
   "execution_count": 16,
   "metadata": {},
   "outputs": [],
   "source": [
    "if tabla[tabla['Diferencia PDIA'] != 0]['Diferencia PDIA'].sum() > 0:\n",
    "  # Save to csv\n",
    "  tabla.to_csv('covid_huelva.csv', encoding='utf-8', header=True, index=True)  "
   ]
  },
  {
   "cell_type": "code",
   "execution_count": 17,
   "metadata": {},
   "outputs": [
    {
     "output_type": "execute_result",
     "data": {
      "text/plain": [
       "Medida                             Confirmados PDIA  Confirmados PDIA 7 días  \\\n",
       "Lugar de residencia                                                            \n",
       "Granado (El)                                   13.0                     11.0   \n",
       "Villarrasa                                     27.0                     11.0   \n",
       "San Juan del Puerto                            74.0                      7.0   \n",
       "Jabugo                                         14.0                      1.0   \n",
       "Palma del Condado (La)                        104.0                     18.0   \n",
       "Cortegana                                      22.0                     10.0   \n",
       "Zalamea la Real                                28.0                      3.0   \n",
       "Manzanilla                                     20.0                      1.0   \n",
       "Lepe                                          157.0                     24.0   \n",
       "Bollullos Par del Condado                     113.0                      7.0   \n",
       "Paterna del Campo                              17.0                      5.0   \n",
       "Higuera de la Sierra                            4.0                      1.0   \n",
       "Huelva (capital)                              562.0                    114.0   \n",
       "Aracena                                        60.0                      6.0   \n",
       "Gibraleón                                      43.0                      9.0   \n",
       "Escacena del Campo                             18.0                      2.0   \n",
       "Cerro de Andévalo (El)                          8.0                      3.0   \n",
       "Condado-Campiña                               705.0                     79.0   \n",
       "Huelva                                       2095.0                    292.0   \n",
       "Huelva-Costa                                 1085.0                    174.0   \n",
       "Niebla                                          8.0                      2.0   \n",
       "Sierra de Huelva-Andévalo Central             271.0                     34.0   \n",
       "Minas de Riotinto                              20.0                      2.0   \n",
       "Encinasola                                      1.0                      1.0   \n",
       "Aljaraque                                      85.0                      9.0   \n",
       "Almonte                                        69.0                      9.0   \n",
       "Nerva                                          26.0                      2.0   \n",
       "Cumbres Mayores                                 3.0                      1.0   \n",
       "Isla Cristina                                  79.0                      7.0   \n",
       "Almonaster la Real                              2.0                      1.0   \n",
       "Moguer                                         56.0                      5.0   \n",
       "San Bartolomé de la Torre                       5.0                      1.0   \n",
       "Cartaya                                        35.0                      7.0   \n",
       "Valverde del Camino                            32.0                      3.0   \n",
       "Alosno                                          7.0                      1.0   \n",
       "Rociana del Condado                            11.0                      1.0   \n",
       "Palos de la Frontera                           30.0                      1.0   \n",
       "Ayamonte                                       53.0                      1.0   \n",
       "\n",
       "Medida                             Confirmados PDIA 14 días  Población  \\\n",
       "Lugar de residencia                                                      \n",
       "Granado (El)                                           11.0      516.0   \n",
       "Villarrasa                                             19.0     2176.0   \n",
       "San Juan del Puerto                                    38.0     9300.0   \n",
       "Jabugo                                                  9.0     2250.0   \n",
       "Palma del Condado (La)                                 34.0    10761.0   \n",
       "Cortegana                                              12.0     4666.0   \n",
       "Zalamea la Real                                         7.0     3068.0   \n",
       "Manzanilla                                              4.0     2135.0   \n",
       "Lepe                                                   49.0    27431.0   \n",
       "Bollullos Par del Condado                              25.0    14272.0   \n",
       "Paterna del Campo                                       6.0     3509.0   \n",
       "Higuera de la Sierra                                    2.0     1287.0   \n",
       "Huelva (capital)                                      198.0   143663.0   \n",
       "Aracena                                                11.0     8107.0   \n",
       "Gibraleón                                              17.0    12607.0   \n",
       "Escacena del Campo                                      3.0     2284.0   \n",
       "Cerro de Andévalo (El)                                  3.0     2364.0   \n",
       "Condado-Campiña                                       190.0   155057.0   \n",
       "Huelva                                                578.0   510743.0   \n",
       "Huelva-Costa                                          318.0   288115.0   \n",
       "Niebla                                                  4.0     4117.0   \n",
       "Sierra de Huelva-Andévalo Central                      59.0    67571.0   \n",
       "Minas de Riotinto                                       3.0     3848.0   \n",
       "Encinasola                                              1.0     1305.0   \n",
       "Aljaraque                                              14.0    21260.0   \n",
       "Almonte                                                15.0    24191.0   \n",
       "Nerva                                                   3.0     5235.0   \n",
       "Cumbres Mayores                                         1.0     1755.0   \n",
       "Isla Cristina                                          12.0    21264.0   \n",
       "Almonaster la Real                                      1.0     1819.0   \n",
       "Moguer                                                 12.0    22088.0   \n",
       "San Bartolomé de la Torre                               2.0     3736.0   \n",
       "Cartaya                                                10.0    19974.0   \n",
       "Valverde del Camino                                     4.0    12820.0   \n",
       "Alosno                                                  1.0     3923.0   \n",
       "Rociana del Condado                                     2.0     7855.0   \n",
       "Palos de la Frontera                                    2.0    11289.0   \n",
       "Ayamonte                                                3.0    20946.0   \n",
       "\n",
       "Medida                                   tasa7       tasa14  Diferencia PDIA  \n",
       "Lugar de residencia                                                           \n",
       "Granado (El)                       2131.782946  2131.782946              0.0  \n",
       "Villarrasa                          505.514706   873.161765              0.0  \n",
       "San Juan del Puerto                  75.268817   408.602151              0.0  \n",
       "Jabugo                               44.444444   400.000000              0.0  \n",
       "Palma del Condado (La)              167.270700   315.955766              2.0  \n",
       "Cortegana                           214.316331   257.179597              6.0  \n",
       "Zalamea la Real                      97.783572   228.161669              0.0  \n",
       "Manzanilla                           46.838407   187.353630              0.0  \n",
       "Lepe                                 87.492253   178.630017             10.0  \n",
       "Bollullos Par del Condado            49.047085   175.168161              0.0  \n",
       "Paterna del Campo                   142.490738   170.988886              0.0  \n",
       "Higuera de la Sierra                 77.700078   155.400155              0.0  \n",
       "Huelva (capital)                     79.352373   137.822543             14.0  \n",
       "Aracena                              74.010115   135.685210              1.0  \n",
       "Gibraleón                            71.388911   134.845721              4.0  \n",
       "Escacena del Campo                   87.565674   131.348511              0.0  \n",
       "Cerro de Andévalo (El)              126.903553   126.903553              1.0  \n",
       "Condado-Campiña                      50.949006   122.535584              9.0  \n",
       "Huelva                               57.171611   113.168462             46.0  \n",
       "Huelva-Costa                         60.392552   110.372594             27.0  \n",
       "Niebla                               48.579062    97.158125              0.0  \n",
       "Sierra de Huelva-Andévalo Central    50.317444    87.315564              7.0  \n",
       "Minas de Riotinto                    51.975052    77.962578              0.0  \n",
       "Encinasola                           76.628352    76.628352              0.0  \n",
       "Aljaraque                            42.333020    65.851364              1.0  \n",
       "Almonte                              37.203919    62.006531              2.0  \n",
       "Nerva                                38.204394    57.306590             -1.0  \n",
       "Cumbres Mayores                      56.980057    56.980057              0.0  \n",
       "Isla Cristina                        32.919488    56.433409              0.0  \n",
       "Almonaster la Real                   54.975261    54.975261              0.0  \n",
       "Moguer                               22.636726    54.328142              0.0  \n",
       "San Bartolomé de la Torre            26.766595    53.533191              NaN  \n",
       "Cartaya                              35.045559    50.065085              1.0  \n",
       "Valverde del Camino                  23.400936    31.201248              0.0  \n",
       "Alosno                               25.490696    25.490696              0.0  \n",
       "Rociana del Condado                  12.730745    25.461489              0.0  \n",
       "Palos de la Frontera                  8.858181    17.716361              0.0  \n",
       "Ayamonte                              4.774181    14.322544              NaN  "
      ],
      "text/html": "<div>\n<style scoped>\n    .dataframe tbody tr th:only-of-type {\n        vertical-align: middle;\n    }\n\n    .dataframe tbody tr th {\n        vertical-align: top;\n    }\n\n    .dataframe thead th {\n        text-align: right;\n    }\n</style>\n<table border=\"1\" class=\"dataframe\">\n  <thead>\n    <tr style=\"text-align: right;\">\n      <th>Medida</th>\n      <th>Confirmados PDIA</th>\n      <th>Confirmados PDIA 7 días</th>\n      <th>Confirmados PDIA 14 días</th>\n      <th>Población</th>\n      <th>tasa7</th>\n      <th>tasa14</th>\n      <th>Diferencia PDIA</th>\n    </tr>\n    <tr>\n      <th>Lugar de residencia</th>\n      <th></th>\n      <th></th>\n      <th></th>\n      <th></th>\n      <th></th>\n      <th></th>\n      <th></th>\n    </tr>\n  </thead>\n  <tbody>\n    <tr>\n      <th>Granado (El)</th>\n      <td>13.0</td>\n      <td>11.0</td>\n      <td>11.0</td>\n      <td>516.0</td>\n      <td>2131.782946</td>\n      <td>2131.782946</td>\n      <td>0.0</td>\n    </tr>\n    <tr>\n      <th>Villarrasa</th>\n      <td>27.0</td>\n      <td>11.0</td>\n      <td>19.0</td>\n      <td>2176.0</td>\n      <td>505.514706</td>\n      <td>873.161765</td>\n      <td>0.0</td>\n    </tr>\n    <tr>\n      <th>San Juan del Puerto</th>\n      <td>74.0</td>\n      <td>7.0</td>\n      <td>38.0</td>\n      <td>9300.0</td>\n      <td>75.268817</td>\n      <td>408.602151</td>\n      <td>0.0</td>\n    </tr>\n    <tr>\n      <th>Jabugo</th>\n      <td>14.0</td>\n      <td>1.0</td>\n      <td>9.0</td>\n      <td>2250.0</td>\n      <td>44.444444</td>\n      <td>400.000000</td>\n      <td>0.0</td>\n    </tr>\n    <tr>\n      <th>Palma del Condado (La)</th>\n      <td>104.0</td>\n      <td>18.0</td>\n      <td>34.0</td>\n      <td>10761.0</td>\n      <td>167.270700</td>\n      <td>315.955766</td>\n      <td>2.0</td>\n    </tr>\n    <tr>\n      <th>Cortegana</th>\n      <td>22.0</td>\n      <td>10.0</td>\n      <td>12.0</td>\n      <td>4666.0</td>\n      <td>214.316331</td>\n      <td>257.179597</td>\n      <td>6.0</td>\n    </tr>\n    <tr>\n      <th>Zalamea la Real</th>\n      <td>28.0</td>\n      <td>3.0</td>\n      <td>7.0</td>\n      <td>3068.0</td>\n      <td>97.783572</td>\n      <td>228.161669</td>\n      <td>0.0</td>\n    </tr>\n    <tr>\n      <th>Manzanilla</th>\n      <td>20.0</td>\n      <td>1.0</td>\n      <td>4.0</td>\n      <td>2135.0</td>\n      <td>46.838407</td>\n      <td>187.353630</td>\n      <td>0.0</td>\n    </tr>\n    <tr>\n      <th>Lepe</th>\n      <td>157.0</td>\n      <td>24.0</td>\n      <td>49.0</td>\n      <td>27431.0</td>\n      <td>87.492253</td>\n      <td>178.630017</td>\n      <td>10.0</td>\n    </tr>\n    <tr>\n      <th>Bollullos Par del Condado</th>\n      <td>113.0</td>\n      <td>7.0</td>\n      <td>25.0</td>\n      <td>14272.0</td>\n      <td>49.047085</td>\n      <td>175.168161</td>\n      <td>0.0</td>\n    </tr>\n    <tr>\n      <th>Paterna del Campo</th>\n      <td>17.0</td>\n      <td>5.0</td>\n      <td>6.0</td>\n      <td>3509.0</td>\n      <td>142.490738</td>\n      <td>170.988886</td>\n      <td>0.0</td>\n    </tr>\n    <tr>\n      <th>Higuera de la Sierra</th>\n      <td>4.0</td>\n      <td>1.0</td>\n      <td>2.0</td>\n      <td>1287.0</td>\n      <td>77.700078</td>\n      <td>155.400155</td>\n      <td>0.0</td>\n    </tr>\n    <tr>\n      <th>Huelva (capital)</th>\n      <td>562.0</td>\n      <td>114.0</td>\n      <td>198.0</td>\n      <td>143663.0</td>\n      <td>79.352373</td>\n      <td>137.822543</td>\n      <td>14.0</td>\n    </tr>\n    <tr>\n      <th>Aracena</th>\n      <td>60.0</td>\n      <td>6.0</td>\n      <td>11.0</td>\n      <td>8107.0</td>\n      <td>74.010115</td>\n      <td>135.685210</td>\n      <td>1.0</td>\n    </tr>\n    <tr>\n      <th>Gibraleón</th>\n      <td>43.0</td>\n      <td>9.0</td>\n      <td>17.0</td>\n      <td>12607.0</td>\n      <td>71.388911</td>\n      <td>134.845721</td>\n      <td>4.0</td>\n    </tr>\n    <tr>\n      <th>Escacena del Campo</th>\n      <td>18.0</td>\n      <td>2.0</td>\n      <td>3.0</td>\n      <td>2284.0</td>\n      <td>87.565674</td>\n      <td>131.348511</td>\n      <td>0.0</td>\n    </tr>\n    <tr>\n      <th>Cerro de Andévalo (El)</th>\n      <td>8.0</td>\n      <td>3.0</td>\n      <td>3.0</td>\n      <td>2364.0</td>\n      <td>126.903553</td>\n      <td>126.903553</td>\n      <td>1.0</td>\n    </tr>\n    <tr>\n      <th>Condado-Campiña</th>\n      <td>705.0</td>\n      <td>79.0</td>\n      <td>190.0</td>\n      <td>155057.0</td>\n      <td>50.949006</td>\n      <td>122.535584</td>\n      <td>9.0</td>\n    </tr>\n    <tr>\n      <th>Huelva</th>\n      <td>2095.0</td>\n      <td>292.0</td>\n      <td>578.0</td>\n      <td>510743.0</td>\n      <td>57.171611</td>\n      <td>113.168462</td>\n      <td>46.0</td>\n    </tr>\n    <tr>\n      <th>Huelva-Costa</th>\n      <td>1085.0</td>\n      <td>174.0</td>\n      <td>318.0</td>\n      <td>288115.0</td>\n      <td>60.392552</td>\n      <td>110.372594</td>\n      <td>27.0</td>\n    </tr>\n    <tr>\n      <th>Niebla</th>\n      <td>8.0</td>\n      <td>2.0</td>\n      <td>4.0</td>\n      <td>4117.0</td>\n      <td>48.579062</td>\n      <td>97.158125</td>\n      <td>0.0</td>\n    </tr>\n    <tr>\n      <th>Sierra de Huelva-Andévalo Central</th>\n      <td>271.0</td>\n      <td>34.0</td>\n      <td>59.0</td>\n      <td>67571.0</td>\n      <td>50.317444</td>\n      <td>87.315564</td>\n      <td>7.0</td>\n    </tr>\n    <tr>\n      <th>Minas de Riotinto</th>\n      <td>20.0</td>\n      <td>2.0</td>\n      <td>3.0</td>\n      <td>3848.0</td>\n      <td>51.975052</td>\n      <td>77.962578</td>\n      <td>0.0</td>\n    </tr>\n    <tr>\n      <th>Encinasola</th>\n      <td>1.0</td>\n      <td>1.0</td>\n      <td>1.0</td>\n      <td>1305.0</td>\n      <td>76.628352</td>\n      <td>76.628352</td>\n      <td>0.0</td>\n    </tr>\n    <tr>\n      <th>Aljaraque</th>\n      <td>85.0</td>\n      <td>9.0</td>\n      <td>14.0</td>\n      <td>21260.0</td>\n      <td>42.333020</td>\n      <td>65.851364</td>\n      <td>1.0</td>\n    </tr>\n    <tr>\n      <th>Almonte</th>\n      <td>69.0</td>\n      <td>9.0</td>\n      <td>15.0</td>\n      <td>24191.0</td>\n      <td>37.203919</td>\n      <td>62.006531</td>\n      <td>2.0</td>\n    </tr>\n    <tr>\n      <th>Nerva</th>\n      <td>26.0</td>\n      <td>2.0</td>\n      <td>3.0</td>\n      <td>5235.0</td>\n      <td>38.204394</td>\n      <td>57.306590</td>\n      <td>-1.0</td>\n    </tr>\n    <tr>\n      <th>Cumbres Mayores</th>\n      <td>3.0</td>\n      <td>1.0</td>\n      <td>1.0</td>\n      <td>1755.0</td>\n      <td>56.980057</td>\n      <td>56.980057</td>\n      <td>0.0</td>\n    </tr>\n    <tr>\n      <th>Isla Cristina</th>\n      <td>79.0</td>\n      <td>7.0</td>\n      <td>12.0</td>\n      <td>21264.0</td>\n      <td>32.919488</td>\n      <td>56.433409</td>\n      <td>0.0</td>\n    </tr>\n    <tr>\n      <th>Almonaster la Real</th>\n      <td>2.0</td>\n      <td>1.0</td>\n      <td>1.0</td>\n      <td>1819.0</td>\n      <td>54.975261</td>\n      <td>54.975261</td>\n      <td>0.0</td>\n    </tr>\n    <tr>\n      <th>Moguer</th>\n      <td>56.0</td>\n      <td>5.0</td>\n      <td>12.0</td>\n      <td>22088.0</td>\n      <td>22.636726</td>\n      <td>54.328142</td>\n      <td>0.0</td>\n    </tr>\n    <tr>\n      <th>San Bartolomé de la Torre</th>\n      <td>5.0</td>\n      <td>1.0</td>\n      <td>2.0</td>\n      <td>3736.0</td>\n      <td>26.766595</td>\n      <td>53.533191</td>\n      <td>NaN</td>\n    </tr>\n    <tr>\n      <th>Cartaya</th>\n      <td>35.0</td>\n      <td>7.0</td>\n      <td>10.0</td>\n      <td>19974.0</td>\n      <td>35.045559</td>\n      <td>50.065085</td>\n      <td>1.0</td>\n    </tr>\n    <tr>\n      <th>Valverde del Camino</th>\n      <td>32.0</td>\n      <td>3.0</td>\n      <td>4.0</td>\n      <td>12820.0</td>\n      <td>23.400936</td>\n      <td>31.201248</td>\n      <td>0.0</td>\n    </tr>\n    <tr>\n      <th>Alosno</th>\n      <td>7.0</td>\n      <td>1.0</td>\n      <td>1.0</td>\n      <td>3923.0</td>\n      <td>25.490696</td>\n      <td>25.490696</td>\n      <td>0.0</td>\n    </tr>\n    <tr>\n      <th>Rociana del Condado</th>\n      <td>11.0</td>\n      <td>1.0</td>\n      <td>2.0</td>\n      <td>7855.0</td>\n      <td>12.730745</td>\n      <td>25.461489</td>\n      <td>0.0</td>\n    </tr>\n    <tr>\n      <th>Palos de la Frontera</th>\n      <td>30.0</td>\n      <td>1.0</td>\n      <td>2.0</td>\n      <td>11289.0</td>\n      <td>8.858181</td>\n      <td>17.716361</td>\n      <td>0.0</td>\n    </tr>\n    <tr>\n      <th>Ayamonte</th>\n      <td>53.0</td>\n      <td>1.0</td>\n      <td>3.0</td>\n      <td>20946.0</td>\n      <td>4.774181</td>\n      <td>14.322544</td>\n      <td>NaN</td>\n    </tr>\n  </tbody>\n</table>\n</div>"
     },
     "metadata": {},
     "execution_count": 17
    }
   ],
   "source": [
    "tabla.sort_values('tasa14', ascending=False)"
   ]
  },
  {
   "cell_type": "code",
   "execution_count": null,
   "metadata": {},
   "outputs": [],
   "source": []
  }
 ]
}