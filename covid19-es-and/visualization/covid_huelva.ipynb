{
 "metadata": {
  "language_info": {
   "codemirror_mode": {
    "name": "ipython",
    "version": 3
   },
   "file_extension": ".py",
   "mimetype": "text/x-python",
   "name": "python",
   "nbconvert_exporter": "python",
   "pygments_lexer": "ipython3",
   "version": "3.8.6-final"
  },
  "orig_nbformat": 2,
  "kernelspec": {
   "name": "python38564bit75945252d6ba481bad4868286020c89e",
   "display_name": "Python 3.8.5 64-bit",
   "language": "python"
  }
 },
 "nbformat": 4,
 "nbformat_minor": 2,
 "cells": [
  {
   "cell_type": "code",
   "execution_count": 1,
   "metadata": {},
   "outputs": [],
   "source": [
    "import pandas as pd\n",
    "pd.set_option('display.max_rows', None) # Print all rows"
   ]
  },
  {
   "cell_type": "code",
   "execution_count": 2,
   "metadata": {},
   "outputs": [],
   "source": [
    "# FIX SSL: CERTIFICATE_VERIFY_FAILED with Python3\n",
    "# https://stackoverflow.com/a/49174340\n",
    "import ssl\n",
    "\n",
    "ssl._create_default_https_context = ssl._create_unverified_context"
   ]
  },
  {
   "cell_type": "code",
   "execution_count": 3,
   "metadata": {},
   "outputs": [],
   "source": [
    "url = 'https://www.juntadeandalucia.es/institutodeestadisticaycartografia/badea/stpivot/stpivot/Print?cube=013d884c-cfc5-4c21-9e78-e26225682afd&type=3&foto=si&ejecutaDesde=&codConsulta=38668&consTipoVisua=JP'\n",
    "fields = ['Lugar de residencia', 'Medida', 'Valor']\n",
    "df = pd.read_csv(url, delimiter=';', usecols=fields, decimal=',')"
   ]
  },
  {
   "cell_type": "code",
   "execution_count": 4,
   "metadata": {},
   "outputs": [
    {
     "output_type": "execute_result",
     "data": {
      "text/plain": [
       "  Lugar de residencia                    Medida               Valor\n",
       "0              Huelva                 Población              513170\n",
       "1              Huelva          Confirmados PDIA               24186\n",
       "2              Huelva  Confirmados PDIA 14 días                1645\n",
       "3              Huelva         Tasa PDIA 14 días  320,55654071750104\n",
       "4              Huelva   Confirmados PDIA 7 días                 508\n",
       "5              Huelva        Total Confirmados                24416\n",
       "6              Huelva                   Curados               13537\n",
       "7              Huelva                Fallecidos                 262"
      ],
      "text/html": "<div>\n<style scoped>\n    .dataframe tbody tr th:only-of-type {\n        vertical-align: middle;\n    }\n\n    .dataframe tbody tr th {\n        vertical-align: top;\n    }\n\n    .dataframe thead th {\n        text-align: right;\n    }\n</style>\n<table border=\"1\" class=\"dataframe\">\n  <thead>\n    <tr style=\"text-align: right;\">\n      <th></th>\n      <th>Lugar de residencia</th>\n      <th>Medida</th>\n      <th>Valor</th>\n    </tr>\n  </thead>\n  <tbody>\n    <tr>\n      <th>0</th>\n      <td>Huelva</td>\n      <td>Población</td>\n      <td>513170</td>\n    </tr>\n    <tr>\n      <th>1</th>\n      <td>Huelva</td>\n      <td>Confirmados PDIA</td>\n      <td>24186</td>\n    </tr>\n    <tr>\n      <th>2</th>\n      <td>Huelva</td>\n      <td>Confirmados PDIA 14 días</td>\n      <td>1645</td>\n    </tr>\n    <tr>\n      <th>3</th>\n      <td>Huelva</td>\n      <td>Tasa PDIA 14 días</td>\n      <td>320,55654071750104</td>\n    </tr>\n    <tr>\n      <th>4</th>\n      <td>Huelva</td>\n      <td>Confirmados PDIA 7 días</td>\n      <td>508</td>\n    </tr>\n    <tr>\n      <th>5</th>\n      <td>Huelva</td>\n      <td>Total Confirmados</td>\n      <td>24416</td>\n    </tr>\n    <tr>\n      <th>6</th>\n      <td>Huelva</td>\n      <td>Curados</td>\n      <td>13537</td>\n    </tr>\n    <tr>\n      <th>7</th>\n      <td>Huelva</td>\n      <td>Fallecidos</td>\n      <td>262</td>\n    </tr>\n  </tbody>\n</table>\n</div>"
     },
     "metadata": {},
     "execution_count": 4
    }
   ],
   "source": [
    "df[df['Lugar de residencia'] == 'Huelva']"
   ]
  },
  {
   "cell_type": "code",
   "execution_count": 5,
   "metadata": {},
   "outputs": [],
   "source": [
    "df['Valor'] = pd.to_numeric(df['Valor'],errors='coerce')"
   ]
  },
  {
   "cell_type": "code",
   "execution_count": 6,
   "metadata": {},
   "outputs": [],
   "source": [
    "dfAnterior = pd.read_csv('covid_huelva.csv', index_col='Lugar de residencia')"
   ]
  },
  {
   "cell_type": "code",
   "execution_count": 7,
   "metadata": {
    "tags": []
   },
   "outputs": [
    {
     "output_type": "stream",
     "name": "stdout",
     "text": [
      "Confirmados PCR en la provincia de Huelva:  24186.0\n"
     ]
    }
   ],
   "source": [
    "# Confirmados PCR provincia Huelva\n",
    "p = df[df['Lugar de residencia'] == 'Huelva'][df['Medida'] == 'Confirmados PDIA']['Valor'].values[0]\n",
    "print('Confirmados PCR en la provincia de Huelva: ', p)"
   ]
  },
  {
   "cell_type": "code",
   "execution_count": 8,
   "metadata": {
    "tags": []
   },
   "outputs": [
    {
     "output_type": "stream",
     "name": "stdout",
     "text": [
      "Confirmados PCR en Huelva capital:  6454.0\n"
     ]
    }
   ],
   "source": [
    "# Confirmados PCR Huelva capitalpd\n",
    "c = df[df['Lugar de residencia'] == 'Huelva (capital)'][df['Medida'] == 'Confirmados PDIA']['Valor'].values[0]\n",
    "print('Confirmados PCR en Huelva capital: ', c)"
   ]
  },
  {
   "cell_type": "code",
   "execution_count": 9,
   "metadata": {
    "tags": []
   },
   "outputs": [],
   "source": [
    "c7 = df[df['Lugar de residencia'] == 'Huelva (capital)'][df['Medida'] == 'Confirmados PDIA 7 días']['Valor'].values[0]\n",
    "c14 = df[df['Lugar de residencia'] == 'Huelva (capital)'][df['Medida'] == 'Confirmados PDIA 14 días']['Valor'].values[0]\n",
    "p = df[df['Lugar de residencia'] == 'Huelva (capital)'][df['Medida'] == 'Población']['Valor'].values[0]"
   ]
  },
  {
   "cell_type": "code",
   "execution_count": 10,
   "metadata": {
    "tags": []
   },
   "outputs": [
    {
     "output_type": "stream",
     "name": "stdout",
     "text": [
      "Huelva (capital)\n\nUn positivo PCR cada 851 personas en los últimos 7 días \n\nUn positivo PCR cada 318 personas en los últimos 14 días\n"
     ]
    }
   ],
   "source": [
    "print('Huelva (capital)\\n')\n",
    "#print('Confirmados PCR 7 días x 1,000 habitantes: ', f\"{c7/(p/1000):.5f}\")\n",
    "print('Un positivo PCR cada', f\"{p/c7:.0f}\", 'personas en los últimos 7 días', '\\n')\n",
    "#print('Confirmados PCR 14 días x 1,000 habitantes: ', f\"{c14/(p/1000):.5f}\")\n",
    "print('Un positivo PCR cada', f\"{p/c14:.0f}\", 'personas en los últimos 14 días')"
   ]
  },
  {
   "cell_type": "code",
   "execution_count": 11,
   "metadata": {},
   "outputs": [],
   "source": [
    "filtro = ((df['Medida'] == 'Confirmados PDIA')| (df['Medida'] == 'Confirmados PDIA 7 días') | (df['Medida'] == 'Población' ) | (df['Medida'] == 'Confirmados PDIA 14 días')) & (df['Valor'] > 0)\n",
    "tabla = pd.pivot_table(df.loc[filtro], values='Valor', index='Lugar de residencia', columns='Medida').dropna()"
   ]
  },
  {
   "cell_type": "code",
   "execution_count": 12,
   "metadata": {},
   "outputs": [],
   "source": [
    "# Reorder columns\n",
    "tabla = tabla[['Confirmados PDIA', 'Confirmados PDIA 7 días', 'Confirmados PDIA 14 días', 'Población']]"
   ]
  },
  {
   "cell_type": "code",
   "execution_count": 13,
   "metadata": {},
   "outputs": [],
   "source": [
    "tabla['tasa7'] = tabla['Confirmados PDIA 7 días']/tabla['Población']*100000\n",
    "tabla['tasa14'] = tabla['Confirmados PDIA 14 días']/tabla['Población']*100000"
   ]
  },
  {
   "cell_type": "code",
   "execution_count": 14,
   "metadata": {},
   "outputs": [],
   "source": [
    "tabla['Diferencia PDIA'] = tabla['Confirmados PDIA'] - dfAnterior['Confirmados PDIA']"
   ]
  },
  {
   "cell_type": "code",
   "execution_count": 15,
   "metadata": {},
   "outputs": [
    {
     "output_type": "execute_result",
     "data": {
      "text/plain": [
       "Medida                         Confirmados PDIA  Confirmados PDIA 7 días  \\\n",
       "Lugar de residencia                                                        \n",
       "Huelva                                  24186.0                    508.0   \n",
       "Huelva-Costa                            14751.0                    332.0   \n",
       "Huelva (capital)                         6454.0                    169.0   \n",
       "Cartaya                                   900.0                     37.0   \n",
       "Condado-Campiña                          6685.0                    141.0   \n",
       "Almonte                                   810.0                     43.0   \n",
       "Isla Cristina                            1979.0                     28.0   \n",
       "Lepe                                     1957.0                     52.0   \n",
       "Aljaraque                                 921.0                     13.0   \n",
       "Gibraleón                                 507.0                     11.0   \n",
       "Moguer                                    795.0                     19.0   \n",
       "Rociana del Condado                       300.0                     12.0   \n",
       "San Bartolomé de la Torre                 190.0                      2.0   \n",
       "San Juan del Puerto                       354.0                      4.0   \n",
       "Bonares                                   178.0                      2.0   \n",
       "Bollullos Par del Condado                 576.0                     20.0   \n",
       "Villanueva de los Castillejos             145.0                      5.0   \n",
       "Ayamonte                                 1173.0                     15.0   \n",
       "Palma del Condado (La)                    962.0                      6.0   \n",
       "Trigueros                                 223.0                      3.0   \n",
       "\n",
       "Medida                         Confirmados PDIA 14 días  Población  \\\n",
       "Lugar de residencia                                                  \n",
       "Huelva                                           1645.0   513170.0   \n",
       "Huelva-Costa                                     1051.0   289548.0   \n",
       "Huelva (capital)                                  453.0   143837.0   \n",
       "Cartaya                                            64.0    20083.0   \n",
       "Condado-Campiña                                   469.0   156231.0   \n",
       "Almonte                                            99.0    24507.0   \n",
       "Isla Cristina                                     137.0    21393.0   \n",
       "Lepe                                              136.0    27880.0   \n",
       "Aljaraque                                          51.0    21474.0   \n",
       "Gibraleón                                          28.0    12737.0   \n",
       "Moguer                                             60.0    21867.0   \n",
       "Rociana del Condado                                34.0     7939.0   \n",
       "San Bartolomé de la Torre                           6.0     3761.0   \n",
       "San Juan del Puerto                                18.0     9411.0   \n",
       "Bonares                                            18.0     6060.0   \n",
       "Bollullos Par del Condado                          63.0    14387.0   \n",
       "Villanueva de los Castillejos                      15.0     2825.0   \n",
       "Ayamonte                                           96.0    21104.0   \n",
       "Palma del Condado (La)                             31.0    10801.0   \n",
       "Trigueros                                          17.0     7862.0   \n",
       "\n",
       "Medida                              tasa7      tasa14  Diferencia PDIA  \n",
       "Lugar de residencia                                                     \n",
       "Huelva                          98.992537  320.556541             68.0  \n",
       "Huelva-Costa                   114.661472  362.979541             54.0  \n",
       "Huelva (capital)               117.494108  314.939828             30.0  \n",
       "Cartaya                        184.235423  318.677488             14.0  \n",
       "Condado-Campiña                 90.250975  300.196504             11.0  \n",
       "Almonte                        175.460073  403.966214              6.0  \n",
       "Isla Cristina                  130.883934  640.396391              5.0  \n",
       "Lepe                           186.513630  487.804878              4.0  \n",
       "Aljaraque                       60.538325  237.496507              4.0  \n",
       "Gibraleón                       86.362566  219.831986              2.0  \n",
       "Moguer                          86.888919  274.386061              2.0  \n",
       "Rociana del Condado            151.152538  428.265525              1.0  \n",
       "San Bartolomé de la Torre       53.177346  159.532039              1.0  \n",
       "San Juan del Puerto             42.503453  191.265540              1.0  \n",
       "Bonares                         33.003300  297.029703             -1.0  \n",
       "Bollullos Par del Condado      139.014388  437.895322             -1.0  \n",
       "Villanueva de los Castillejos  176.991150  530.973451             -1.0  \n",
       "Ayamonte                        71.076573  454.890068             -2.0  \n",
       "Palma del Condado (La)          55.550412  287.010462             -2.0  \n",
       "Trigueros                       38.158229  216.229967              NaN  "
      ],
      "text/html": "<div>\n<style scoped>\n    .dataframe tbody tr th:only-of-type {\n        vertical-align: middle;\n    }\n\n    .dataframe tbody tr th {\n        vertical-align: top;\n    }\n\n    .dataframe thead th {\n        text-align: right;\n    }\n</style>\n<table border=\"1\" class=\"dataframe\">\n  <thead>\n    <tr style=\"text-align: right;\">\n      <th>Medida</th>\n      <th>Confirmados PDIA</th>\n      <th>Confirmados PDIA 7 días</th>\n      <th>Confirmados PDIA 14 días</th>\n      <th>Población</th>\n      <th>tasa7</th>\n      <th>tasa14</th>\n      <th>Diferencia PDIA</th>\n    </tr>\n    <tr>\n      <th>Lugar de residencia</th>\n      <th></th>\n      <th></th>\n      <th></th>\n      <th></th>\n      <th></th>\n      <th></th>\n      <th></th>\n    </tr>\n  </thead>\n  <tbody>\n    <tr>\n      <th>Huelva</th>\n      <td>24186.0</td>\n      <td>508.0</td>\n      <td>1645.0</td>\n      <td>513170.0</td>\n      <td>98.992537</td>\n      <td>320.556541</td>\n      <td>68.0</td>\n    </tr>\n    <tr>\n      <th>Huelva-Costa</th>\n      <td>14751.0</td>\n      <td>332.0</td>\n      <td>1051.0</td>\n      <td>289548.0</td>\n      <td>114.661472</td>\n      <td>362.979541</td>\n      <td>54.0</td>\n    </tr>\n    <tr>\n      <th>Huelva (capital)</th>\n      <td>6454.0</td>\n      <td>169.0</td>\n      <td>453.0</td>\n      <td>143837.0</td>\n      <td>117.494108</td>\n      <td>314.939828</td>\n      <td>30.0</td>\n    </tr>\n    <tr>\n      <th>Cartaya</th>\n      <td>900.0</td>\n      <td>37.0</td>\n      <td>64.0</td>\n      <td>20083.0</td>\n      <td>184.235423</td>\n      <td>318.677488</td>\n      <td>14.0</td>\n    </tr>\n    <tr>\n      <th>Condado-Campiña</th>\n      <td>6685.0</td>\n      <td>141.0</td>\n      <td>469.0</td>\n      <td>156231.0</td>\n      <td>90.250975</td>\n      <td>300.196504</td>\n      <td>11.0</td>\n    </tr>\n    <tr>\n      <th>Almonte</th>\n      <td>810.0</td>\n      <td>43.0</td>\n      <td>99.0</td>\n      <td>24507.0</td>\n      <td>175.460073</td>\n      <td>403.966214</td>\n      <td>6.0</td>\n    </tr>\n    <tr>\n      <th>Isla Cristina</th>\n      <td>1979.0</td>\n      <td>28.0</td>\n      <td>137.0</td>\n      <td>21393.0</td>\n      <td>130.883934</td>\n      <td>640.396391</td>\n      <td>5.0</td>\n    </tr>\n    <tr>\n      <th>Lepe</th>\n      <td>1957.0</td>\n      <td>52.0</td>\n      <td>136.0</td>\n      <td>27880.0</td>\n      <td>186.513630</td>\n      <td>487.804878</td>\n      <td>4.0</td>\n    </tr>\n    <tr>\n      <th>Aljaraque</th>\n      <td>921.0</td>\n      <td>13.0</td>\n      <td>51.0</td>\n      <td>21474.0</td>\n      <td>60.538325</td>\n      <td>237.496507</td>\n      <td>4.0</td>\n    </tr>\n    <tr>\n      <th>Gibraleón</th>\n      <td>507.0</td>\n      <td>11.0</td>\n      <td>28.0</td>\n      <td>12737.0</td>\n      <td>86.362566</td>\n      <td>219.831986</td>\n      <td>2.0</td>\n    </tr>\n    <tr>\n      <th>Moguer</th>\n      <td>795.0</td>\n      <td>19.0</td>\n      <td>60.0</td>\n      <td>21867.0</td>\n      <td>86.888919</td>\n      <td>274.386061</td>\n      <td>2.0</td>\n    </tr>\n    <tr>\n      <th>Rociana del Condado</th>\n      <td>300.0</td>\n      <td>12.0</td>\n      <td>34.0</td>\n      <td>7939.0</td>\n      <td>151.152538</td>\n      <td>428.265525</td>\n      <td>1.0</td>\n    </tr>\n    <tr>\n      <th>San Bartolomé de la Torre</th>\n      <td>190.0</td>\n      <td>2.0</td>\n      <td>6.0</td>\n      <td>3761.0</td>\n      <td>53.177346</td>\n      <td>159.532039</td>\n      <td>1.0</td>\n    </tr>\n    <tr>\n      <th>San Juan del Puerto</th>\n      <td>354.0</td>\n      <td>4.0</td>\n      <td>18.0</td>\n      <td>9411.0</td>\n      <td>42.503453</td>\n      <td>191.265540</td>\n      <td>1.0</td>\n    </tr>\n    <tr>\n      <th>Bonares</th>\n      <td>178.0</td>\n      <td>2.0</td>\n      <td>18.0</td>\n      <td>6060.0</td>\n      <td>33.003300</td>\n      <td>297.029703</td>\n      <td>-1.0</td>\n    </tr>\n    <tr>\n      <th>Bollullos Par del Condado</th>\n      <td>576.0</td>\n      <td>20.0</td>\n      <td>63.0</td>\n      <td>14387.0</td>\n      <td>139.014388</td>\n      <td>437.895322</td>\n      <td>-1.0</td>\n    </tr>\n    <tr>\n      <th>Villanueva de los Castillejos</th>\n      <td>145.0</td>\n      <td>5.0</td>\n      <td>15.0</td>\n      <td>2825.0</td>\n      <td>176.991150</td>\n      <td>530.973451</td>\n      <td>-1.0</td>\n    </tr>\n    <tr>\n      <th>Ayamonte</th>\n      <td>1173.0</td>\n      <td>15.0</td>\n      <td>96.0</td>\n      <td>21104.0</td>\n      <td>71.076573</td>\n      <td>454.890068</td>\n      <td>-2.0</td>\n    </tr>\n    <tr>\n      <th>Palma del Condado (La)</th>\n      <td>962.0</td>\n      <td>6.0</td>\n      <td>31.0</td>\n      <td>10801.0</td>\n      <td>55.550412</td>\n      <td>287.010462</td>\n      <td>-2.0</td>\n    </tr>\n    <tr>\n      <th>Trigueros</th>\n      <td>223.0</td>\n      <td>3.0</td>\n      <td>17.0</td>\n      <td>7862.0</td>\n      <td>38.158229</td>\n      <td>216.229967</td>\n      <td>NaN</td>\n    </tr>\n  </tbody>\n</table>\n</div>"
     },
     "metadata": {},
     "execution_count": 15
    }
   ],
   "source": [
    "# Nuevos casos desde la última captura\n",
    "tabla[tabla['Diferencia PDIA'] != 0].sort_values('Diferencia PDIA', ascending=False)"
   ]
  },
  {
   "cell_type": "code",
   "execution_count": 16,
   "metadata": {},
   "outputs": [],
   "source": [
    "if tabla[tabla['Diferencia PDIA'] != 0]['Diferencia PDIA'].sum() > 0:\n",
    "  # Save to csv\n",
    "  tabla.to_csv('covid_huelva.csv', encoding='utf-8', header=True, index=True)  "
   ]
  },
  {
   "cell_type": "code",
   "execution_count": 17,
   "metadata": {},
   "outputs": [
    {
     "output_type": "execute_result",
     "data": {
      "text/plain": [
       "Medida                             Confirmados PDIA  Confirmados PDIA 7 días  \\\n",
       "Lugar de residencia                                                            \n",
       "Villablanca                                   163.0                      2.0   \n",
       "Isla Cristina                                1979.0                     28.0   \n",
       "Cumbres de San Bartolomé                        5.0                      2.0   \n",
       "Villanueva de los Castillejos                 145.0                      5.0   \n",
       "Lepe                                         1957.0                     52.0   \n",
       "Beas                                          158.0                      2.0   \n",
       "Ayamonte                                     1173.0                     15.0   \n",
       "Bollullos Par del Condado                     576.0                     20.0   \n",
       "Rociana del Condado                           300.0                     12.0   \n",
       "Villalba del Alcor                            437.0                      2.0   \n",
       "Almonte                                       810.0                     43.0   \n",
       "Alájar                                         16.0                      1.0   \n",
       "Huelva-Costa                                14751.0                    332.0   \n",
       "Almonaster la Real                             54.0                      1.0   \n",
       "Palos de la Frontera                          438.0                      7.0   \n",
       "Puebla de Guzmán                               81.0                      1.0   \n",
       "Huelva                                      24186.0                    508.0   \n",
       "Cartaya                                       900.0                     37.0   \n",
       "Huelva (capital)                             6454.0                    169.0   \n",
       "Punta Umbría                                  641.0                     10.0   \n",
       "Condado-Campiña                              6685.0                    141.0   \n",
       "Bonares                                       178.0                      2.0   \n",
       "Palma del Condado (La)                        962.0                      6.0   \n",
       "Moguer                                        795.0                     19.0   \n",
       "Escacena del Campo                            132.0                      4.0   \n",
       "Aljaraque                                     921.0                     13.0   \n",
       "Manzanilla                                     85.0                      3.0   \n",
       "Gibraleón                                     507.0                     11.0   \n",
       "Trigueros                                     223.0                      3.0   \n",
       "San Juan del Puerto                           354.0                      4.0   \n",
       "Aracena                                       456.0                      3.0   \n",
       "San Bartolomé de la Torre                     190.0                      2.0   \n",
       "Zalamea la Real                                85.0                      1.0   \n",
       "Valverde del Camino                           423.0                      5.0   \n",
       "Nerva                                         151.0                      4.0   \n",
       "Sierra de Huelva-Andévalo Central            2322.0                     20.0   \n",
       "Minas de Riotinto                             101.0                      2.0   \n",
       "Higuera de la Sierra                           29.0                      1.0   \n",
       "Niebla                                        158.0                      1.0   \n",
       "\n",
       "Medida                             Confirmados PDIA 14 días  Población  \\\n",
       "Lugar de residencia                                                      \n",
       "Villablanca                                            30.0     2885.0   \n",
       "Isla Cristina                                         137.0    21393.0   \n",
       "Cumbres de San Bartolomé                                2.0      376.0   \n",
       "Villanueva de los Castillejos                          15.0     2825.0   \n",
       "Lepe                                                  136.0    27880.0   \n",
       "Beas                                                   20.0     4341.0   \n",
       "Ayamonte                                               96.0    21104.0   \n",
       "Bollullos Par del Condado                              63.0    14387.0   \n",
       "Rociana del Condado                                    34.0     7939.0   \n",
       "Villalba del Alcor                                     14.0     3366.0   \n",
       "Almonte                                                99.0    24507.0   \n",
       "Alájar                                                  3.0      759.0   \n",
       "Huelva-Costa                                         1051.0   289548.0   \n",
       "Almonaster la Real                                      6.0     1788.0   \n",
       "Palos de la Frontera                                   39.0    11742.0   \n",
       "Puebla de Guzmán                                       10.0     3092.0   \n",
       "Huelva                                               1645.0   513170.0   \n",
       "Cartaya                                                64.0    20083.0   \n",
       "Huelva (capital)                                      453.0   143837.0   \n",
       "Punta Umbría                                           48.0    15355.0   \n",
       "Condado-Campiña                                       469.0   156231.0   \n",
       "Bonares                                                18.0     6060.0   \n",
       "Palma del Condado (La)                                 31.0    10801.0   \n",
       "Moguer                                                 60.0    21867.0   \n",
       "Escacena del Campo                                      6.0     2287.0   \n",
       "Aljaraque                                              51.0    21474.0   \n",
       "Manzanilla                                              5.0     2118.0   \n",
       "Gibraleón                                              28.0    12737.0   \n",
       "Trigueros                                              17.0     7862.0   \n",
       "San Juan del Puerto                                    18.0     9411.0   \n",
       "Aracena                                                15.0     8255.0   \n",
       "San Bartolomé de la Torre                               6.0     3761.0   \n",
       "Zalamea la Real                                         4.0     3054.0   \n",
       "Valverde del Camino                                    15.0    12750.0   \n",
       "Nerva                                                   6.0     5169.0   \n",
       "Sierra de Huelva-Andévalo Central                      70.0    67391.0   \n",
       "Minas de Riotinto                                       3.0     3812.0   \n",
       "Higuera de la Sierra                                    1.0     1291.0   \n",
       "Niebla                                                  3.0     4116.0   \n",
       "\n",
       "Medida                                  tasa7       tasa14  Diferencia PDIA  \n",
       "Lugar de residencia                                                          \n",
       "Villablanca                         69.324090  1039.861352              0.0  \n",
       "Isla Cristina                      130.883934   640.396391              5.0  \n",
       "Cumbres de San Bartolomé           531.914894   531.914894              0.0  \n",
       "Villanueva de los Castillejos      176.991150   530.973451             -1.0  \n",
       "Lepe                               186.513630   487.804878              4.0  \n",
       "Beas                                46.072334   460.723336              0.0  \n",
       "Ayamonte                            71.076573   454.890068             -2.0  \n",
       "Bollullos Par del Condado          139.014388   437.895322             -1.0  \n",
       "Rociana del Condado                151.152538   428.265525              1.0  \n",
       "Villalba del Alcor                  59.417706   415.923945              0.0  \n",
       "Almonte                            175.460073   403.966214              6.0  \n",
       "Alájar                             131.752306   395.256917              0.0  \n",
       "Huelva-Costa                       114.661472   362.979541             54.0  \n",
       "Almonaster la Real                  55.928412   335.570470              0.0  \n",
       "Palos de la Frontera                59.615057   332.141032              0.0  \n",
       "Puebla de Guzmán                    32.341527   323.415265              0.0  \n",
       "Huelva                              98.992537   320.556541             68.0  \n",
       "Cartaya                            184.235423   318.677488             14.0  \n",
       "Huelva (capital)                   117.494108   314.939828             30.0  \n",
       "Punta Umbría                        65.125366   312.601758              0.0  \n",
       "Condado-Campiña                     90.250975   300.196504             11.0  \n",
       "Bonares                             33.003300   297.029703             -1.0  \n",
       "Palma del Condado (La)              55.550412   287.010462             -2.0  \n",
       "Moguer                              86.888919   274.386061              2.0  \n",
       "Escacena del Campo                 174.901618   262.352427              0.0  \n",
       "Aljaraque                           60.538325   237.496507              4.0  \n",
       "Manzanilla                         141.643059   236.071766              0.0  \n",
       "Gibraleón                           86.362566   219.831986              2.0  \n",
       "Trigueros                           38.158229   216.229967              NaN  \n",
       "San Juan del Puerto                 42.503453   191.265540              1.0  \n",
       "Aracena                             36.341611   181.708056              0.0  \n",
       "San Bartolomé de la Torre           53.177346   159.532039              1.0  \n",
       "Zalamea la Real                     32.743942   130.975769              0.0  \n",
       "Valverde del Camino                 39.215686   117.647059              0.0  \n",
       "Nerva                               77.384407   116.076611              0.0  \n",
       "Sierra de Huelva-Andévalo Central   29.677553   103.871437              0.0  \n",
       "Minas de Riotinto                   52.465897    78.698846              0.0  \n",
       "Higuera de la Sierra                77.459334    77.459334              0.0  \n",
       "Niebla                              24.295432    72.886297              0.0  "
      ],
      "text/html": "<div>\n<style scoped>\n    .dataframe tbody tr th:only-of-type {\n        vertical-align: middle;\n    }\n\n    .dataframe tbody tr th {\n        vertical-align: top;\n    }\n\n    .dataframe thead th {\n        text-align: right;\n    }\n</style>\n<table border=\"1\" class=\"dataframe\">\n  <thead>\n    <tr style=\"text-align: right;\">\n      <th>Medida</th>\n      <th>Confirmados PDIA</th>\n      <th>Confirmados PDIA 7 días</th>\n      <th>Confirmados PDIA 14 días</th>\n      <th>Población</th>\n      <th>tasa7</th>\n      <th>tasa14</th>\n      <th>Diferencia PDIA</th>\n    </tr>\n    <tr>\n      <th>Lugar de residencia</th>\n      <th></th>\n      <th></th>\n      <th></th>\n      <th></th>\n      <th></th>\n      <th></th>\n      <th></th>\n    </tr>\n  </thead>\n  <tbody>\n    <tr>\n      <th>Villablanca</th>\n      <td>163.0</td>\n      <td>2.0</td>\n      <td>30.0</td>\n      <td>2885.0</td>\n      <td>69.324090</td>\n      <td>1039.861352</td>\n      <td>0.0</td>\n    </tr>\n    <tr>\n      <th>Isla Cristina</th>\n      <td>1979.0</td>\n      <td>28.0</td>\n      <td>137.0</td>\n      <td>21393.0</td>\n      <td>130.883934</td>\n      <td>640.396391</td>\n      <td>5.0</td>\n    </tr>\n    <tr>\n      <th>Cumbres de San Bartolomé</th>\n      <td>5.0</td>\n      <td>2.0</td>\n      <td>2.0</td>\n      <td>376.0</td>\n      <td>531.914894</td>\n      <td>531.914894</td>\n      <td>0.0</td>\n    </tr>\n    <tr>\n      <th>Villanueva de los Castillejos</th>\n      <td>145.0</td>\n      <td>5.0</td>\n      <td>15.0</td>\n      <td>2825.0</td>\n      <td>176.991150</td>\n      <td>530.973451</td>\n      <td>-1.0</td>\n    </tr>\n    <tr>\n      <th>Lepe</th>\n      <td>1957.0</td>\n      <td>52.0</td>\n      <td>136.0</td>\n      <td>27880.0</td>\n      <td>186.513630</td>\n      <td>487.804878</td>\n      <td>4.0</td>\n    </tr>\n    <tr>\n      <th>Beas</th>\n      <td>158.0</td>\n      <td>2.0</td>\n      <td>20.0</td>\n      <td>4341.0</td>\n      <td>46.072334</td>\n      <td>460.723336</td>\n      <td>0.0</td>\n    </tr>\n    <tr>\n      <th>Ayamonte</th>\n      <td>1173.0</td>\n      <td>15.0</td>\n      <td>96.0</td>\n      <td>21104.0</td>\n      <td>71.076573</td>\n      <td>454.890068</td>\n      <td>-2.0</td>\n    </tr>\n    <tr>\n      <th>Bollullos Par del Condado</th>\n      <td>576.0</td>\n      <td>20.0</td>\n      <td>63.0</td>\n      <td>14387.0</td>\n      <td>139.014388</td>\n      <td>437.895322</td>\n      <td>-1.0</td>\n    </tr>\n    <tr>\n      <th>Rociana del Condado</th>\n      <td>300.0</td>\n      <td>12.0</td>\n      <td>34.0</td>\n      <td>7939.0</td>\n      <td>151.152538</td>\n      <td>428.265525</td>\n      <td>1.0</td>\n    </tr>\n    <tr>\n      <th>Villalba del Alcor</th>\n      <td>437.0</td>\n      <td>2.0</td>\n      <td>14.0</td>\n      <td>3366.0</td>\n      <td>59.417706</td>\n      <td>415.923945</td>\n      <td>0.0</td>\n    </tr>\n    <tr>\n      <th>Almonte</th>\n      <td>810.0</td>\n      <td>43.0</td>\n      <td>99.0</td>\n      <td>24507.0</td>\n      <td>175.460073</td>\n      <td>403.966214</td>\n      <td>6.0</td>\n    </tr>\n    <tr>\n      <th>Alájar</th>\n      <td>16.0</td>\n      <td>1.0</td>\n      <td>3.0</td>\n      <td>759.0</td>\n      <td>131.752306</td>\n      <td>395.256917</td>\n      <td>0.0</td>\n    </tr>\n    <tr>\n      <th>Huelva-Costa</th>\n      <td>14751.0</td>\n      <td>332.0</td>\n      <td>1051.0</td>\n      <td>289548.0</td>\n      <td>114.661472</td>\n      <td>362.979541</td>\n      <td>54.0</td>\n    </tr>\n    <tr>\n      <th>Almonaster la Real</th>\n      <td>54.0</td>\n      <td>1.0</td>\n      <td>6.0</td>\n      <td>1788.0</td>\n      <td>55.928412</td>\n      <td>335.570470</td>\n      <td>0.0</td>\n    </tr>\n    <tr>\n      <th>Palos de la Frontera</th>\n      <td>438.0</td>\n      <td>7.0</td>\n      <td>39.0</td>\n      <td>11742.0</td>\n      <td>59.615057</td>\n      <td>332.141032</td>\n      <td>0.0</td>\n    </tr>\n    <tr>\n      <th>Puebla de Guzmán</th>\n      <td>81.0</td>\n      <td>1.0</td>\n      <td>10.0</td>\n      <td>3092.0</td>\n      <td>32.341527</td>\n      <td>323.415265</td>\n      <td>0.0</td>\n    </tr>\n    <tr>\n      <th>Huelva</th>\n      <td>24186.0</td>\n      <td>508.0</td>\n      <td>1645.0</td>\n      <td>513170.0</td>\n      <td>98.992537</td>\n      <td>320.556541</td>\n      <td>68.0</td>\n    </tr>\n    <tr>\n      <th>Cartaya</th>\n      <td>900.0</td>\n      <td>37.0</td>\n      <td>64.0</td>\n      <td>20083.0</td>\n      <td>184.235423</td>\n      <td>318.677488</td>\n      <td>14.0</td>\n    </tr>\n    <tr>\n      <th>Huelva (capital)</th>\n      <td>6454.0</td>\n      <td>169.0</td>\n      <td>453.0</td>\n      <td>143837.0</td>\n      <td>117.494108</td>\n      <td>314.939828</td>\n      <td>30.0</td>\n    </tr>\n    <tr>\n      <th>Punta Umbría</th>\n      <td>641.0</td>\n      <td>10.0</td>\n      <td>48.0</td>\n      <td>15355.0</td>\n      <td>65.125366</td>\n      <td>312.601758</td>\n      <td>0.0</td>\n    </tr>\n    <tr>\n      <th>Condado-Campiña</th>\n      <td>6685.0</td>\n      <td>141.0</td>\n      <td>469.0</td>\n      <td>156231.0</td>\n      <td>90.250975</td>\n      <td>300.196504</td>\n      <td>11.0</td>\n    </tr>\n    <tr>\n      <th>Bonares</th>\n      <td>178.0</td>\n      <td>2.0</td>\n      <td>18.0</td>\n      <td>6060.0</td>\n      <td>33.003300</td>\n      <td>297.029703</td>\n      <td>-1.0</td>\n    </tr>\n    <tr>\n      <th>Palma del Condado (La)</th>\n      <td>962.0</td>\n      <td>6.0</td>\n      <td>31.0</td>\n      <td>10801.0</td>\n      <td>55.550412</td>\n      <td>287.010462</td>\n      <td>-2.0</td>\n    </tr>\n    <tr>\n      <th>Moguer</th>\n      <td>795.0</td>\n      <td>19.0</td>\n      <td>60.0</td>\n      <td>21867.0</td>\n      <td>86.888919</td>\n      <td>274.386061</td>\n      <td>2.0</td>\n    </tr>\n    <tr>\n      <th>Escacena del Campo</th>\n      <td>132.0</td>\n      <td>4.0</td>\n      <td>6.0</td>\n      <td>2287.0</td>\n      <td>174.901618</td>\n      <td>262.352427</td>\n      <td>0.0</td>\n    </tr>\n    <tr>\n      <th>Aljaraque</th>\n      <td>921.0</td>\n      <td>13.0</td>\n      <td>51.0</td>\n      <td>21474.0</td>\n      <td>60.538325</td>\n      <td>237.496507</td>\n      <td>4.0</td>\n    </tr>\n    <tr>\n      <th>Manzanilla</th>\n      <td>85.0</td>\n      <td>3.0</td>\n      <td>5.0</td>\n      <td>2118.0</td>\n      <td>141.643059</td>\n      <td>236.071766</td>\n      <td>0.0</td>\n    </tr>\n    <tr>\n      <th>Gibraleón</th>\n      <td>507.0</td>\n      <td>11.0</td>\n      <td>28.0</td>\n      <td>12737.0</td>\n      <td>86.362566</td>\n      <td>219.831986</td>\n      <td>2.0</td>\n    </tr>\n    <tr>\n      <th>Trigueros</th>\n      <td>223.0</td>\n      <td>3.0</td>\n      <td>17.0</td>\n      <td>7862.0</td>\n      <td>38.158229</td>\n      <td>216.229967</td>\n      <td>NaN</td>\n    </tr>\n    <tr>\n      <th>San Juan del Puerto</th>\n      <td>354.0</td>\n      <td>4.0</td>\n      <td>18.0</td>\n      <td>9411.0</td>\n      <td>42.503453</td>\n      <td>191.265540</td>\n      <td>1.0</td>\n    </tr>\n    <tr>\n      <th>Aracena</th>\n      <td>456.0</td>\n      <td>3.0</td>\n      <td>15.0</td>\n      <td>8255.0</td>\n      <td>36.341611</td>\n      <td>181.708056</td>\n      <td>0.0</td>\n    </tr>\n    <tr>\n      <th>San Bartolomé de la Torre</th>\n      <td>190.0</td>\n      <td>2.0</td>\n      <td>6.0</td>\n      <td>3761.0</td>\n      <td>53.177346</td>\n      <td>159.532039</td>\n      <td>1.0</td>\n    </tr>\n    <tr>\n      <th>Zalamea la Real</th>\n      <td>85.0</td>\n      <td>1.0</td>\n      <td>4.0</td>\n      <td>3054.0</td>\n      <td>32.743942</td>\n      <td>130.975769</td>\n      <td>0.0</td>\n    </tr>\n    <tr>\n      <th>Valverde del Camino</th>\n      <td>423.0</td>\n      <td>5.0</td>\n      <td>15.0</td>\n      <td>12750.0</td>\n      <td>39.215686</td>\n      <td>117.647059</td>\n      <td>0.0</td>\n    </tr>\n    <tr>\n      <th>Nerva</th>\n      <td>151.0</td>\n      <td>4.0</td>\n      <td>6.0</td>\n      <td>5169.0</td>\n      <td>77.384407</td>\n      <td>116.076611</td>\n      <td>0.0</td>\n    </tr>\n    <tr>\n      <th>Sierra de Huelva-Andévalo Central</th>\n      <td>2322.0</td>\n      <td>20.0</td>\n      <td>70.0</td>\n      <td>67391.0</td>\n      <td>29.677553</td>\n      <td>103.871437</td>\n      <td>0.0</td>\n    </tr>\n    <tr>\n      <th>Minas de Riotinto</th>\n      <td>101.0</td>\n      <td>2.0</td>\n      <td>3.0</td>\n      <td>3812.0</td>\n      <td>52.465897</td>\n      <td>78.698846</td>\n      <td>0.0</td>\n    </tr>\n    <tr>\n      <th>Higuera de la Sierra</th>\n      <td>29.0</td>\n      <td>1.0</td>\n      <td>1.0</td>\n      <td>1291.0</td>\n      <td>77.459334</td>\n      <td>77.459334</td>\n      <td>0.0</td>\n    </tr>\n    <tr>\n      <th>Niebla</th>\n      <td>158.0</td>\n      <td>1.0</td>\n      <td>3.0</td>\n      <td>4116.0</td>\n      <td>24.295432</td>\n      <td>72.886297</td>\n      <td>0.0</td>\n    </tr>\n  </tbody>\n</table>\n</div>"
     },
     "metadata": {},
     "execution_count": 17
    }
   ],
   "source": [
    "tabla.sort_values('tasa14', ascending=False)"
   ]
  },
  {
   "cell_type": "code",
   "execution_count": 18,
   "metadata": {},
   "outputs": [
    {
     "output_type": "execute_result",
     "data": {
      "text/plain": [
       "Medida                             Confirmados PDIA  Confirmados PDIA 7 días  \\\n",
       "Lugar de residencia                                                            \n",
       "Villablanca                                   163.0                      2.0   \n",
       "Beas                                          158.0                      2.0   \n",
       "Puebla de Guzmán                               81.0                      1.0   \n",
       "Bonares                                       178.0                      2.0   \n",
       "Villalba del Alcor                            437.0                      2.0   \n",
       "Ayamonte                                     1173.0                     15.0   \n",
       "Almonaster la Real                             54.0                      1.0   \n",
       "Trigueros                                     223.0                      3.0   \n",
       "Palos de la Frontera                          438.0                      7.0   \n",
       "Palma del Condado (La)                        962.0                      6.0   \n",
       "Aracena                                       456.0                      3.0   \n",
       "Isla Cristina                                1979.0                     28.0   \n",
       "Punta Umbría                                  641.0                     10.0   \n",
       "San Juan del Puerto                           354.0                      4.0   \n",
       "Zalamea la Real                                85.0                      1.0   \n",
       "Aljaraque                                     921.0                     13.0   \n",
       "Sierra de Huelva-Andévalo Central            2322.0                     20.0   \n",
       "Condado-Campiña                              6685.0                    141.0   \n",
       "Huelva                                      24186.0                    508.0   \n",
       "Huelva-Costa                                14751.0                    332.0   \n",
       "Moguer                                        795.0                     19.0   \n",
       "Bollullos Par del Condado                     576.0                     20.0   \n",
       "Villanueva de los Castillejos                 145.0                      5.0   \n",
       "Valverde del Camino                           423.0                      5.0   \n",
       "Niebla                                        158.0                      1.0   \n",
       "San Bartolomé de la Torre                     190.0                      2.0   \n",
       "Alájar                                         16.0                      1.0   \n",
       "Rociana del Condado                           300.0                     12.0   \n",
       "Huelva (capital)                             6454.0                    169.0   \n",
       "Lepe                                         1957.0                     52.0   \n",
       "Gibraleón                                     507.0                     11.0   \n",
       "Almonte                                       810.0                     43.0   \n",
       "Cartaya                                       900.0                     37.0   \n",
       "Manzanilla                                     85.0                      3.0   \n",
       "Nerva                                         151.0                      4.0   \n",
       "Minas de Riotinto                             101.0                      2.0   \n",
       "Escacena del Campo                            132.0                      4.0   \n",
       "Higuera de la Sierra                           29.0                      1.0   \n",
       "Cumbres de San Bartolomé                        5.0                      2.0   \n",
       "\n",
       "Medida                             Confirmados PDIA 14 días  Población  \\\n",
       "Lugar de residencia                                                      \n",
       "Villablanca                                            30.0     2885.0   \n",
       "Beas                                                   20.0     4341.0   \n",
       "Puebla de Guzmán                                       10.0     3092.0   \n",
       "Bonares                                                18.0     6060.0   \n",
       "Villalba del Alcor                                     14.0     3366.0   \n",
       "Ayamonte                                               96.0    21104.0   \n",
       "Almonaster la Real                                      6.0     1788.0   \n",
       "Trigueros                                              17.0     7862.0   \n",
       "Palos de la Frontera                                   39.0    11742.0   \n",
       "Palma del Condado (La)                                 31.0    10801.0   \n",
       "Aracena                                                15.0     8255.0   \n",
       "Isla Cristina                                         137.0    21393.0   \n",
       "Punta Umbría                                           48.0    15355.0   \n",
       "San Juan del Puerto                                    18.0     9411.0   \n",
       "Zalamea la Real                                         4.0     3054.0   \n",
       "Aljaraque                                              51.0    21474.0   \n",
       "Sierra de Huelva-Andévalo Central                      70.0    67391.0   \n",
       "Condado-Campiña                                       469.0   156231.0   \n",
       "Huelva                                               1645.0   513170.0   \n",
       "Huelva-Costa                                         1051.0   289548.0   \n",
       "Moguer                                                 60.0    21867.0   \n",
       "Bollullos Par del Condado                              63.0    14387.0   \n",
       "Villanueva de los Castillejos                          15.0     2825.0   \n",
       "Valverde del Camino                                    15.0    12750.0   \n",
       "Niebla                                                  3.0     4116.0   \n",
       "San Bartolomé de la Torre                               6.0     3761.0   \n",
       "Alájar                                                  3.0      759.0   \n",
       "Rociana del Condado                                    34.0     7939.0   \n",
       "Huelva (capital)                                      453.0   143837.0   \n",
       "Lepe                                                  136.0    27880.0   \n",
       "Gibraleón                                              28.0    12737.0   \n",
       "Almonte                                                99.0    24507.0   \n",
       "Cartaya                                                64.0    20083.0   \n",
       "Manzanilla                                              5.0     2118.0   \n",
       "Nerva                                                   6.0     5169.0   \n",
       "Minas de Riotinto                                       3.0     3812.0   \n",
       "Escacena del Campo                                      6.0     2287.0   \n",
       "Higuera de la Sierra                                    1.0     1291.0   \n",
       "Cumbres de San Bartolomé                                2.0      376.0   \n",
       "\n",
       "Medida                                  tasa7       tasa14  Diferencia PDIA  \\\n",
       "Lugar de residencia                                                           \n",
       "Villablanca                         69.324090  1039.861352              0.0   \n",
       "Beas                                46.072334   460.723336              0.0   \n",
       "Puebla de Guzmán                    32.341527   323.415265              0.0   \n",
       "Bonares                             33.003300   297.029703             -1.0   \n",
       "Villalba del Alcor                  59.417706   415.923945              0.0   \n",
       "Ayamonte                            71.076573   454.890068             -2.0   \n",
       "Almonaster la Real                  55.928412   335.570470              0.0   \n",
       "Trigueros                           38.158229   216.229967              0.0   \n",
       "Palos de la Frontera                59.615057   332.141032              0.0   \n",
       "Palma del Condado (La)              55.550412   287.010462             -2.0   \n",
       "Aracena                             36.341611   181.708056              0.0   \n",
       "Isla Cristina                      130.883934   640.396391              5.0   \n",
       "Punta Umbría                        65.125366   312.601758              0.0   \n",
       "San Juan del Puerto                 42.503453   191.265540              1.0   \n",
       "Zalamea la Real                     32.743942   130.975769              0.0   \n",
       "Aljaraque                           60.538325   237.496507              4.0   \n",
       "Sierra de Huelva-Andévalo Central   29.677553   103.871437              0.0   \n",
       "Condado-Campiña                     90.250975   300.196504             11.0   \n",
       "Huelva                              98.992537   320.556541             68.0   \n",
       "Huelva-Costa                       114.661472   362.979541             54.0   \n",
       "Moguer                              86.888919   274.386061              2.0   \n",
       "Bollullos Par del Condado          139.014388   437.895322             -1.0   \n",
       "Villanueva de los Castillejos      176.991150   530.973451             -1.0   \n",
       "Valverde del Camino                 39.215686   117.647059              0.0   \n",
       "Niebla                              24.295432    72.886297              0.0   \n",
       "San Bartolomé de la Torre           53.177346   159.532039              1.0   \n",
       "Alájar                             131.752306   395.256917              0.0   \n",
       "Rociana del Condado                151.152538   428.265525              1.0   \n",
       "Huelva (capital)                   117.494108   314.939828             30.0   \n",
       "Lepe                               186.513630   487.804878              4.0   \n",
       "Gibraleón                           86.362566   219.831986              2.0   \n",
       "Almonte                            175.460073   403.966214              6.0   \n",
       "Cartaya                            184.235423   318.677488             14.0   \n",
       "Manzanilla                         141.643059   236.071766              0.0   \n",
       "Nerva                               77.384407   116.076611              0.0   \n",
       "Minas de Riotinto                   52.465897    78.698846              0.0   \n",
       "Escacena del Campo                 174.901618   262.352427              0.0   \n",
       "Higuera de la Sierra                77.459334    77.459334              0.0   \n",
       "Cumbres de San Bartolomé           531.914894   531.914894              0.0   \n",
       "\n",
       "Medida                                 7/14  \n",
       "Lugar de residencia                          \n",
       "Villablanca                        0.066667  \n",
       "Beas                               0.100000  \n",
       "Puebla de Guzmán                   0.100000  \n",
       "Bonares                            0.111111  \n",
       "Villalba del Alcor                 0.142857  \n",
       "Ayamonte                           0.156250  \n",
       "Almonaster la Real                 0.166667  \n",
       "Trigueros                          0.176471  \n",
       "Palos de la Frontera               0.179487  \n",
       "Palma del Condado (La)             0.193548  \n",
       "Aracena                            0.200000  \n",
       "Isla Cristina                      0.204380  \n",
       "Punta Umbría                       0.208333  \n",
       "San Juan del Puerto                0.222222  \n",
       "Zalamea la Real                    0.250000  \n",
       "Aljaraque                          0.254902  \n",
       "Sierra de Huelva-Andévalo Central  0.285714  \n",
       "Condado-Campiña                    0.300640  \n",
       "Huelva                             0.308815  \n",
       "Huelva-Costa                       0.315890  \n",
       "Moguer                             0.316667  \n",
       "Bollullos Par del Condado          0.317460  \n",
       "Villanueva de los Castillejos      0.333333  \n",
       "Valverde del Camino                0.333333  \n",
       "Niebla                             0.333333  \n",
       "San Bartolomé de la Torre          0.333333  \n",
       "Alájar                             0.333333  \n",
       "Rociana del Condado                0.352941  \n",
       "Huelva (capital)                   0.373068  \n",
       "Lepe                               0.382353  \n",
       "Gibraleón                          0.392857  \n",
       "Almonte                            0.434343  \n",
       "Cartaya                            0.578125  \n",
       "Manzanilla                         0.600000  \n",
       "Nerva                              0.666667  \n",
       "Minas de Riotinto                  0.666667  \n",
       "Escacena del Campo                 0.666667  \n",
       "Higuera de la Sierra               1.000000  \n",
       "Cumbres de San Bartolomé           1.000000  "
      ],
      "text/html": "<div>\n<style scoped>\n    .dataframe tbody tr th:only-of-type {\n        vertical-align: middle;\n    }\n\n    .dataframe tbody tr th {\n        vertical-align: top;\n    }\n\n    .dataframe thead th {\n        text-align: right;\n    }\n</style>\n<table border=\"1\" class=\"dataframe\">\n  <thead>\n    <tr style=\"text-align: right;\">\n      <th>Medida</th>\n      <th>Confirmados PDIA</th>\n      <th>Confirmados PDIA 7 días</th>\n      <th>Confirmados PDIA 14 días</th>\n      <th>Población</th>\n      <th>tasa7</th>\n      <th>tasa14</th>\n      <th>Diferencia PDIA</th>\n      <th>7/14</th>\n    </tr>\n    <tr>\n      <th>Lugar de residencia</th>\n      <th></th>\n      <th></th>\n      <th></th>\n      <th></th>\n      <th></th>\n      <th></th>\n      <th></th>\n      <th></th>\n    </tr>\n  </thead>\n  <tbody>\n    <tr>\n      <th>Villablanca</th>\n      <td>163.0</td>\n      <td>2.0</td>\n      <td>30.0</td>\n      <td>2885.0</td>\n      <td>69.324090</td>\n      <td>1039.861352</td>\n      <td>0.0</td>\n      <td>0.066667</td>\n    </tr>\n    <tr>\n      <th>Beas</th>\n      <td>158.0</td>\n      <td>2.0</td>\n      <td>20.0</td>\n      <td>4341.0</td>\n      <td>46.072334</td>\n      <td>460.723336</td>\n      <td>0.0</td>\n      <td>0.100000</td>\n    </tr>\n    <tr>\n      <th>Puebla de Guzmán</th>\n      <td>81.0</td>\n      <td>1.0</td>\n      <td>10.0</td>\n      <td>3092.0</td>\n      <td>32.341527</td>\n      <td>323.415265</td>\n      <td>0.0</td>\n      <td>0.100000</td>\n    </tr>\n    <tr>\n      <th>Bonares</th>\n      <td>178.0</td>\n      <td>2.0</td>\n      <td>18.0</td>\n      <td>6060.0</td>\n      <td>33.003300</td>\n      <td>297.029703</td>\n      <td>-1.0</td>\n      <td>0.111111</td>\n    </tr>\n    <tr>\n      <th>Villalba del Alcor</th>\n      <td>437.0</td>\n      <td>2.0</td>\n      <td>14.0</td>\n      <td>3366.0</td>\n      <td>59.417706</td>\n      <td>415.923945</td>\n      <td>0.0</td>\n      <td>0.142857</td>\n    </tr>\n    <tr>\n      <th>Ayamonte</th>\n      <td>1173.0</td>\n      <td>15.0</td>\n      <td>96.0</td>\n      <td>21104.0</td>\n      <td>71.076573</td>\n      <td>454.890068</td>\n      <td>-2.0</td>\n      <td>0.156250</td>\n    </tr>\n    <tr>\n      <th>Almonaster la Real</th>\n      <td>54.0</td>\n      <td>1.0</td>\n      <td>6.0</td>\n      <td>1788.0</td>\n      <td>55.928412</td>\n      <td>335.570470</td>\n      <td>0.0</td>\n      <td>0.166667</td>\n    </tr>\n    <tr>\n      <th>Trigueros</th>\n      <td>223.0</td>\n      <td>3.0</td>\n      <td>17.0</td>\n      <td>7862.0</td>\n      <td>38.158229</td>\n      <td>216.229967</td>\n      <td>0.0</td>\n      <td>0.176471</td>\n    </tr>\n    <tr>\n      <th>Palos de la Frontera</th>\n      <td>438.0</td>\n      <td>7.0</td>\n      <td>39.0</td>\n      <td>11742.0</td>\n      <td>59.615057</td>\n      <td>332.141032</td>\n      <td>0.0</td>\n      <td>0.179487</td>\n    </tr>\n    <tr>\n      <th>Palma del Condado (La)</th>\n      <td>962.0</td>\n      <td>6.0</td>\n      <td>31.0</td>\n      <td>10801.0</td>\n      <td>55.550412</td>\n      <td>287.010462</td>\n      <td>-2.0</td>\n      <td>0.193548</td>\n    </tr>\n    <tr>\n      <th>Aracena</th>\n      <td>456.0</td>\n      <td>3.0</td>\n      <td>15.0</td>\n      <td>8255.0</td>\n      <td>36.341611</td>\n      <td>181.708056</td>\n      <td>0.0</td>\n      <td>0.200000</td>\n    </tr>\n    <tr>\n      <th>Isla Cristina</th>\n      <td>1979.0</td>\n      <td>28.0</td>\n      <td>137.0</td>\n      <td>21393.0</td>\n      <td>130.883934</td>\n      <td>640.396391</td>\n      <td>5.0</td>\n      <td>0.204380</td>\n    </tr>\n    <tr>\n      <th>Punta Umbría</th>\n      <td>641.0</td>\n      <td>10.0</td>\n      <td>48.0</td>\n      <td>15355.0</td>\n      <td>65.125366</td>\n      <td>312.601758</td>\n      <td>0.0</td>\n      <td>0.208333</td>\n    </tr>\n    <tr>\n      <th>San Juan del Puerto</th>\n      <td>354.0</td>\n      <td>4.0</td>\n      <td>18.0</td>\n      <td>9411.0</td>\n      <td>42.503453</td>\n      <td>191.265540</td>\n      <td>1.0</td>\n      <td>0.222222</td>\n    </tr>\n    <tr>\n      <th>Zalamea la Real</th>\n      <td>85.0</td>\n      <td>1.0</td>\n      <td>4.0</td>\n      <td>3054.0</td>\n      <td>32.743942</td>\n      <td>130.975769</td>\n      <td>0.0</td>\n      <td>0.250000</td>\n    </tr>\n    <tr>\n      <th>Aljaraque</th>\n      <td>921.0</td>\n      <td>13.0</td>\n      <td>51.0</td>\n      <td>21474.0</td>\n      <td>60.538325</td>\n      <td>237.496507</td>\n      <td>4.0</td>\n      <td>0.254902</td>\n    </tr>\n    <tr>\n      <th>Sierra de Huelva-Andévalo Central</th>\n      <td>2322.0</td>\n      <td>20.0</td>\n      <td>70.0</td>\n      <td>67391.0</td>\n      <td>29.677553</td>\n      <td>103.871437</td>\n      <td>0.0</td>\n      <td>0.285714</td>\n    </tr>\n    <tr>\n      <th>Condado-Campiña</th>\n      <td>6685.0</td>\n      <td>141.0</td>\n      <td>469.0</td>\n      <td>156231.0</td>\n      <td>90.250975</td>\n      <td>300.196504</td>\n      <td>11.0</td>\n      <td>0.300640</td>\n    </tr>\n    <tr>\n      <th>Huelva</th>\n      <td>24186.0</td>\n      <td>508.0</td>\n      <td>1645.0</td>\n      <td>513170.0</td>\n      <td>98.992537</td>\n      <td>320.556541</td>\n      <td>68.0</td>\n      <td>0.308815</td>\n    </tr>\n    <tr>\n      <th>Huelva-Costa</th>\n      <td>14751.0</td>\n      <td>332.0</td>\n      <td>1051.0</td>\n      <td>289548.0</td>\n      <td>114.661472</td>\n      <td>362.979541</td>\n      <td>54.0</td>\n      <td>0.315890</td>\n    </tr>\n    <tr>\n      <th>Moguer</th>\n      <td>795.0</td>\n      <td>19.0</td>\n      <td>60.0</td>\n      <td>21867.0</td>\n      <td>86.888919</td>\n      <td>274.386061</td>\n      <td>2.0</td>\n      <td>0.316667</td>\n    </tr>\n    <tr>\n      <th>Bollullos Par del Condado</th>\n      <td>576.0</td>\n      <td>20.0</td>\n      <td>63.0</td>\n      <td>14387.0</td>\n      <td>139.014388</td>\n      <td>437.895322</td>\n      <td>-1.0</td>\n      <td>0.317460</td>\n    </tr>\n    <tr>\n      <th>Villanueva de los Castillejos</th>\n      <td>145.0</td>\n      <td>5.0</td>\n      <td>15.0</td>\n      <td>2825.0</td>\n      <td>176.991150</td>\n      <td>530.973451</td>\n      <td>-1.0</td>\n      <td>0.333333</td>\n    </tr>\n    <tr>\n      <th>Valverde del Camino</th>\n      <td>423.0</td>\n      <td>5.0</td>\n      <td>15.0</td>\n      <td>12750.0</td>\n      <td>39.215686</td>\n      <td>117.647059</td>\n      <td>0.0</td>\n      <td>0.333333</td>\n    </tr>\n    <tr>\n      <th>Niebla</th>\n      <td>158.0</td>\n      <td>1.0</td>\n      <td>3.0</td>\n      <td>4116.0</td>\n      <td>24.295432</td>\n      <td>72.886297</td>\n      <td>0.0</td>\n      <td>0.333333</td>\n    </tr>\n    <tr>\n      <th>San Bartolomé de la Torre</th>\n      <td>190.0</td>\n      <td>2.0</td>\n      <td>6.0</td>\n      <td>3761.0</td>\n      <td>53.177346</td>\n      <td>159.532039</td>\n      <td>1.0</td>\n      <td>0.333333</td>\n    </tr>\n    <tr>\n      <th>Alájar</th>\n      <td>16.0</td>\n      <td>1.0</td>\n      <td>3.0</td>\n      <td>759.0</td>\n      <td>131.752306</td>\n      <td>395.256917</td>\n      <td>0.0</td>\n      <td>0.333333</td>\n    </tr>\n    <tr>\n      <th>Rociana del Condado</th>\n      <td>300.0</td>\n      <td>12.0</td>\n      <td>34.0</td>\n      <td>7939.0</td>\n      <td>151.152538</td>\n      <td>428.265525</td>\n      <td>1.0</td>\n      <td>0.352941</td>\n    </tr>\n    <tr>\n      <th>Huelva (capital)</th>\n      <td>6454.0</td>\n      <td>169.0</td>\n      <td>453.0</td>\n      <td>143837.0</td>\n      <td>117.494108</td>\n      <td>314.939828</td>\n      <td>30.0</td>\n      <td>0.373068</td>\n    </tr>\n    <tr>\n      <th>Lepe</th>\n      <td>1957.0</td>\n      <td>52.0</td>\n      <td>136.0</td>\n      <td>27880.0</td>\n      <td>186.513630</td>\n      <td>487.804878</td>\n      <td>4.0</td>\n      <td>0.382353</td>\n    </tr>\n    <tr>\n      <th>Gibraleón</th>\n      <td>507.0</td>\n      <td>11.0</td>\n      <td>28.0</td>\n      <td>12737.0</td>\n      <td>86.362566</td>\n      <td>219.831986</td>\n      <td>2.0</td>\n      <td>0.392857</td>\n    </tr>\n    <tr>\n      <th>Almonte</th>\n      <td>810.0</td>\n      <td>43.0</td>\n      <td>99.0</td>\n      <td>24507.0</td>\n      <td>175.460073</td>\n      <td>403.966214</td>\n      <td>6.0</td>\n      <td>0.434343</td>\n    </tr>\n    <tr>\n      <th>Cartaya</th>\n      <td>900.0</td>\n      <td>37.0</td>\n      <td>64.0</td>\n      <td>20083.0</td>\n      <td>184.235423</td>\n      <td>318.677488</td>\n      <td>14.0</td>\n      <td>0.578125</td>\n    </tr>\n    <tr>\n      <th>Manzanilla</th>\n      <td>85.0</td>\n      <td>3.0</td>\n      <td>5.0</td>\n      <td>2118.0</td>\n      <td>141.643059</td>\n      <td>236.071766</td>\n      <td>0.0</td>\n      <td>0.600000</td>\n    </tr>\n    <tr>\n      <th>Nerva</th>\n      <td>151.0</td>\n      <td>4.0</td>\n      <td>6.0</td>\n      <td>5169.0</td>\n      <td>77.384407</td>\n      <td>116.076611</td>\n      <td>0.0</td>\n      <td>0.666667</td>\n    </tr>\n    <tr>\n      <th>Minas de Riotinto</th>\n      <td>101.0</td>\n      <td>2.0</td>\n      <td>3.0</td>\n      <td>3812.0</td>\n      <td>52.465897</td>\n      <td>78.698846</td>\n      <td>0.0</td>\n      <td>0.666667</td>\n    </tr>\n    <tr>\n      <th>Escacena del Campo</th>\n      <td>132.0</td>\n      <td>4.0</td>\n      <td>6.0</td>\n      <td>2287.0</td>\n      <td>174.901618</td>\n      <td>262.352427</td>\n      <td>0.0</td>\n      <td>0.666667</td>\n    </tr>\n    <tr>\n      <th>Higuera de la Sierra</th>\n      <td>29.0</td>\n      <td>1.0</td>\n      <td>1.0</td>\n      <td>1291.0</td>\n      <td>77.459334</td>\n      <td>77.459334</td>\n      <td>0.0</td>\n      <td>1.000000</td>\n    </tr>\n    <tr>\n      <th>Cumbres de San Bartolomé</th>\n      <td>5.0</td>\n      <td>2.0</td>\n      <td>2.0</td>\n      <td>376.0</td>\n      <td>531.914894</td>\n      <td>531.914894</td>\n      <td>0.0</td>\n      <td>1.000000</td>\n    </tr>\n  </tbody>\n</table>\n</div>"
     },
     "metadata": {},
     "execution_count": 18
    }
   ],
   "source": [
    "# Peso de la tasa de la última semana en relación con la tasa a 14 días \n",
    "# Mejor cuanto menor. Valor 1 significa que no había casos antes de 7 días.\n",
    "tabla['7/14'] = tabla['tasa7'] / tabla['tasa14']\n",
    "tabla.fillna(0).sort_values('7/14', ascending=True)"
   ]
  },
  {
   "cell_type": "code",
   "execution_count": null,
   "metadata": {},
   "outputs": [],
   "source": []
  }
 ]
}