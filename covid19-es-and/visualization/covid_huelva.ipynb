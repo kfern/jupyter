{
 "metadata": {
  "language_info": {
   "codemirror_mode": {
    "name": "ipython",
    "version": 3
   },
   "file_extension": ".py",
   "mimetype": "text/x-python",
   "name": "python",
   "nbconvert_exporter": "python",
   "pygments_lexer": "ipython3",
   "version": "3.8.6-final"
  },
  "orig_nbformat": 2,
  "kernelspec": {
   "name": "python3",
   "display_name": "Python 3",
   "language": "python"
  }
 },
 "nbformat": 4,
 "nbformat_minor": 2,
 "cells": [
  {
   "cell_type": "code",
   "execution_count": 1,
   "metadata": {},
   "outputs": [],
   "source": [
    "import pandas as pd\n",
    "pd.set_option('display.max_rows', None) # Print all rows"
   ]
  },
  {
   "cell_type": "code",
   "execution_count": 2,
   "metadata": {},
   "outputs": [],
   "source": [
    "# FIX SSL: CERTIFICATE_VERIFY_FAILED with Python3\n",
    "# https://stackoverflow.com/a/49174340\n",
    "import ssl\n",
    "\n",
    "ssl._create_default_https_context = ssl._create_unverified_context"
   ]
  },
  {
   "cell_type": "code",
   "execution_count": 3,
   "metadata": {},
   "outputs": [],
   "source": [
    "url = 'https://www.juntadeandalucia.es/institutodeestadisticaycartografia/badea/stpivot/stpivot/Print?cube=013d884c-cfc5-4c21-9e78-e26225682afd&type=3&foto=si&ejecutaDesde=&codConsulta=38668&consTipoVisua=JP'\n",
    "fields = ['Lugar de residencia', 'Medida', 'Valor']\n",
    "df = pd.read_csv(url, delimiter=';', usecols=fields, decimal=',')"
   ]
  },
  {
   "cell_type": "code",
   "execution_count": 4,
   "metadata": {},
   "outputs": [
    {
     "output_type": "execute_result",
     "data": {
      "text/plain": [
       "  Lugar de residencia                    Medida              Valor\n",
       "0              Huelva                 Población             513170\n",
       "1              Huelva          Confirmados PDIA              26636\n",
       "2              Huelva  Confirmados PDIA 14 días               1237\n",
       "3              Huelva         Tasa PDIA 14 días  241,0507239316406\n",
       "4              Huelva   Confirmados PDIA 7 días                684\n",
       "5              Huelva        Total Confirmados               26823\n",
       "6              Huelva                   Curados              22204\n",
       "7              Huelva                Fallecidos                357"
      ],
      "text/html": "<div>\n<style scoped>\n    .dataframe tbody tr th:only-of-type {\n        vertical-align: middle;\n    }\n\n    .dataframe tbody tr th {\n        vertical-align: top;\n    }\n\n    .dataframe thead th {\n        text-align: right;\n    }\n</style>\n<table border=\"1\" class=\"dataframe\">\n  <thead>\n    <tr style=\"text-align: right;\">\n      <th></th>\n      <th>Lugar de residencia</th>\n      <th>Medida</th>\n      <th>Valor</th>\n    </tr>\n  </thead>\n  <tbody>\n    <tr>\n      <th>0</th>\n      <td>Huelva</td>\n      <td>Población</td>\n      <td>513170</td>\n    </tr>\n    <tr>\n      <th>1</th>\n      <td>Huelva</td>\n      <td>Confirmados PDIA</td>\n      <td>26636</td>\n    </tr>\n    <tr>\n      <th>2</th>\n      <td>Huelva</td>\n      <td>Confirmados PDIA 14 días</td>\n      <td>1237</td>\n    </tr>\n    <tr>\n      <th>3</th>\n      <td>Huelva</td>\n      <td>Tasa PDIA 14 días</td>\n      <td>241,0507239316406</td>\n    </tr>\n    <tr>\n      <th>4</th>\n      <td>Huelva</td>\n      <td>Confirmados PDIA 7 días</td>\n      <td>684</td>\n    </tr>\n    <tr>\n      <th>5</th>\n      <td>Huelva</td>\n      <td>Total Confirmados</td>\n      <td>26823</td>\n    </tr>\n    <tr>\n      <th>6</th>\n      <td>Huelva</td>\n      <td>Curados</td>\n      <td>22204</td>\n    </tr>\n    <tr>\n      <th>7</th>\n      <td>Huelva</td>\n      <td>Fallecidos</td>\n      <td>357</td>\n    </tr>\n  </tbody>\n</table>\n</div>"
     },
     "metadata": {},
     "execution_count": 4
    }
   ],
   "source": [
    "df[df['Lugar de residencia'] == 'Huelva']"
   ]
  },
  {
   "cell_type": "code",
   "execution_count": 5,
   "metadata": {},
   "outputs": [],
   "source": [
    "df['Valor'] = pd.to_numeric(df['Valor'],errors='coerce')"
   ]
  },
  {
   "cell_type": "code",
   "execution_count": 6,
   "metadata": {},
   "outputs": [],
   "source": [
    "dfAnterior = pd.read_csv('covid_huelva.csv', index_col='Lugar de residencia')"
   ]
  },
  {
   "cell_type": "code",
   "execution_count": 7,
   "metadata": {
    "tags": []
   },
   "outputs": [
    {
     "output_type": "stream",
     "name": "stdout",
     "text": [
      "Confirmados PCR en la provincia de Huelva:  26636.0\n",
      "<ipython-input-7-31b732756b19>:2: UserWarning: Boolean Series key will be reindexed to match DataFrame index.\n",
      "  p = df[df['Lugar de residencia'] == 'Huelva'][df['Medida'] == 'Confirmados PDIA']['Valor'].values[0]\n"
     ]
    }
   ],
   "source": [
    "# Confirmados PCR provincia Huelva\n",
    "p = df[df['Lugar de residencia'] == 'Huelva'][df['Medida'] == 'Confirmados PDIA']['Valor'].values[0]\n",
    "print('Confirmados PCR en la provincia de Huelva: ', p)"
   ]
  },
  {
   "cell_type": "code",
   "execution_count": 8,
   "metadata": {
    "tags": []
   },
   "outputs": [
    {
     "output_type": "stream",
     "name": "stdout",
     "text": [
      "Confirmados PCR en Huelva capital:  6946.0\n",
      "<ipython-input-8-e81bfb40e710>:2: UserWarning: Boolean Series key will be reindexed to match DataFrame index.\n",
      "  c = df[df['Lugar de residencia'] == 'Huelva (capital)'][df['Medida'] == 'Confirmados PDIA']['Valor'].values[0]\n"
     ]
    }
   ],
   "source": [
    "# Confirmados PCR Huelva capitalpd\n",
    "c = df[df['Lugar de residencia'] == 'Huelva (capital)'][df['Medida'] == 'Confirmados PDIA']['Valor'].values[0]\n",
    "print('Confirmados PCR en Huelva capital: ', c)"
   ]
  },
  {
   "cell_type": "code",
   "execution_count": 9,
   "metadata": {
    "tags": []
   },
   "outputs": [
    {
     "output_type": "stream",
     "name": "stderr",
     "text": [
      "<ipython-input-9-f09dd2050cc1>:1: UserWarning: Boolean Series key will be reindexed to match DataFrame index.\n  c7 = df[df['Lugar de residencia'] == 'Huelva (capital)'][df['Medida'] == 'Confirmados PDIA 7 días']['Valor'].values[0]\n<ipython-input-9-f09dd2050cc1>:2: UserWarning: Boolean Series key will be reindexed to match DataFrame index.\n  c14 = df[df['Lugar de residencia'] == 'Huelva (capital)'][df['Medida'] == 'Confirmados PDIA 14 días']['Valor'].values[0]\n<ipython-input-9-f09dd2050cc1>:3: UserWarning: Boolean Series key will be reindexed to match DataFrame index.\n  p = df[df['Lugar de residencia'] == 'Huelva (capital)'][df['Medida'] == 'Población']['Valor'].values[0]\n"
     ]
    }
   ],
   "source": [
    "c7 = df[df['Lugar de residencia'] == 'Huelva (capital)'][df['Medida'] == 'Confirmados PDIA 7 días']['Valor'].values[0]\n",
    "c14 = df[df['Lugar de residencia'] == 'Huelva (capital)'][df['Medida'] == 'Confirmados PDIA 14 días']['Valor'].values[0]\n",
    "p = df[df['Lugar de residencia'] == 'Huelva (capital)'][df['Medida'] == 'Población']['Valor'].values[0]"
   ]
  },
  {
   "cell_type": "code",
   "execution_count": 10,
   "metadata": {
    "tags": []
   },
   "outputs": [
    {
     "output_type": "stream",
     "name": "stdout",
     "text": [
      "Huelva (capital)\n\nUn positivo PCR cada 922 personas en los últimos 7 días \n\nUn positivo PCR cada 545 personas en los últimos 14 días\n"
     ]
    }
   ],
   "source": [
    "print('Huelva (capital)\\n')\n",
    "#print('Confirmados PCR 7 días x 1,000 habitantes: ', f\"{c7/(p/1000):.5f}\")\n",
    "print('Un positivo PCR cada', f\"{p/c7:.0f}\", 'personas en los últimos 7 días', '\\n')\n",
    "#print('Confirmados PCR 14 días x 1,000 habitantes: ', f\"{c14/(p/1000):.5f}\")\n",
    "print('Un positivo PCR cada', f\"{p/c14:.0f}\", 'personas en los últimos 14 días')"
   ]
  },
  {
   "cell_type": "code",
   "execution_count": 11,
   "metadata": {},
   "outputs": [],
   "source": [
    "filtro = ((df['Medida'] == 'Confirmados PDIA')| (df['Medida'] == 'Confirmados PDIA 7 días') | (df['Medida'] == 'Población' ) | (df['Medida'] == 'Confirmados PDIA 14 días')) & (df['Valor'] > 0)\n",
    "tabla = pd.pivot_table(df.loc[filtro], values='Valor', index='Lugar de residencia', columns='Medida').dropna()"
   ]
  },
  {
   "cell_type": "code",
   "execution_count": 12,
   "metadata": {},
   "outputs": [],
   "source": [
    "# Reorder columns\n",
    "tabla = tabla[['Confirmados PDIA', 'Confirmados PDIA 7 días', 'Confirmados PDIA 14 días', 'Población']]"
   ]
  },
  {
   "cell_type": "code",
   "execution_count": 13,
   "metadata": {},
   "outputs": [],
   "source": [
    "tabla['tasa7'] = tabla['Confirmados PDIA 7 días']/tabla['Población']*100000\n",
    "tabla['tasa14'] = tabla['Confirmados PDIA 14 días']/tabla['Población']*100000"
   ]
  },
  {
   "cell_type": "code",
   "execution_count": 14,
   "metadata": {},
   "outputs": [],
   "source": [
    "tabla['Diferencia PDIA'] = tabla['Confirmados PDIA'] - dfAnterior['Confirmados PDIA']"
   ]
  },
  {
   "cell_type": "code",
   "execution_count": 15,
   "metadata": {},
   "outputs": [
    {
     "output_type": "execute_result",
     "data": {
      "text/plain": [
       "Medida                             Confirmados PDIA  Confirmados PDIA 7 días  \\\n",
       "Lugar de residencia                                                            \n",
       "Huelva                                      26636.0                    684.0   \n",
       "Condado-Campiña                              7986.0                    337.0   \n",
       "Huelva-Costa                                15839.0                    291.0   \n",
       "Huelva (capital)                             6946.0                    156.0   \n",
       "Almonte                                      1189.0                    108.0   \n",
       "Sierra de Huelva-Andévalo Central            2385.0                     42.0   \n",
       "Cartaya                                      1116.0                     81.0   \n",
       "Rociana del Condado                           427.0                     39.0   \n",
       "Lucena del Puerto                             181.0                     17.0   \n",
       "Moguer                                        963.0                     57.0   \n",
       "Valverde del Camino                           442.0                     11.0   \n",
       "Aracena                                       484.0                     18.0   \n",
       "Palos de la Frontera                          518.0                     21.0   \n",
       "Aljaraque                                     964.0                     23.0   \n",
       "Alosno                                        160.0                      9.0   \n",
       "Bollullos Par del Condado                     709.0                     10.0   \n",
       "San Juan del Puerto                           403.0                     18.0   \n",
       "Lepe                                         2036.0                      6.0   \n",
       "Niebla                                        183.0                      6.0   \n",
       "Almonaster la Real                             55.0                      2.0   \n",
       "Ayamonte                                     1252.0                      2.0   \n",
       "Trigueros                                     245.0                      4.0   \n",
       "Villanueva de los Castillejos                 156.0                      2.0   \n",
       "Minas de Riotinto                             101.0                      1.0   \n",
       "Puebla de Guzmán                              111.0                      1.0   \n",
       "\n",
       "Medida                             Confirmados PDIA 14 días  Población  \\\n",
       "Lugar de residencia                                                      \n",
       "Huelva                                               1237.0   513170.0   \n",
       "Condado-Campiña                                       668.0   156231.0   \n",
       "Huelva-Costa                                          475.0   289548.0   \n",
       "Huelva (capital)                                      264.0   143837.0   \n",
       "Almonte                                               204.0    24507.0   \n",
       "Sierra de Huelva-Andévalo Central                      67.0    67391.0   \n",
       "Cartaya                                               116.0    20083.0   \n",
       "Rociana del Condado                                    72.0     7939.0   \n",
       "Lucena del Puerto                                      19.0     3261.0   \n",
       "Moguer                                                 84.0    21867.0   \n",
       "Valverde del Camino                                    15.0    12750.0   \n",
       "Aracena                                                31.0     8255.0   \n",
       "Palos de la Frontera                                   42.0    11742.0   \n",
       "Aljaraque                                              33.0    21474.0   \n",
       "Alosno                                                 11.0     3933.0   \n",
       "Bollullos Par del Condado                              53.0    14387.0   \n",
       "San Juan del Puerto                                    32.0     9411.0   \n",
       "Lepe                                                   17.0    27880.0   \n",
       "Niebla                                                 12.0     4116.0   \n",
       "Almonaster la Real                                      2.0     1788.0   \n",
       "Ayamonte                                                7.0    21104.0   \n",
       "Trigueros                                              17.0     7862.0   \n",
       "Villanueva de los Castillejos                           3.0     2825.0   \n",
       "Minas de Riotinto                                       1.0     3812.0   \n",
       "Puebla de Guzmán                                        1.0     3092.0   \n",
       "\n",
       "Medida                                  tasa7      tasa14  Diferencia PDIA  \n",
       "Lugar de residencia                                                         \n",
       "Huelva                             133.289163  241.050724            134.0  \n",
       "Condado-Campiña                    215.706230  427.571993             64.0  \n",
       "Huelva-Costa                       100.501471  164.048793             50.0  \n",
       "Huelva (capital)                   108.456100  183.541092             26.0  \n",
       "Almonte                            440.690415  832.415228             25.0  \n",
       "Sierra de Huelva-Andévalo Central   62.322862   99.419804             14.0  \n",
       "Cartaya                            403.326196  577.602948             11.0  \n",
       "Rociana del Condado                491.245749  906.915229             10.0  \n",
       "Lucena del Puerto                  521.312481  582.643361              8.0  \n",
       "Moguer                             260.666758  384.140486              8.0  \n",
       "Valverde del Camino                 86.274510  117.647059              6.0  \n",
       "Aracena                            218.049667  375.529982              6.0  \n",
       "Palos de la Frontera               178.845171  357.690342              6.0  \n",
       "Aljaraque                          107.106268  153.674211              5.0  \n",
       "Alosno                             228.832952  279.684719              4.0  \n",
       "Bollullos Par del Condado           69.507194  368.388128              3.0  \n",
       "San Juan del Puerto                191.265540  340.027627              2.0  \n",
       "Lepe                                21.520803   60.975610              1.0  \n",
       "Niebla                             145.772595  291.545190              1.0  \n",
       "Almonaster la Real                 111.856823  111.856823              1.0  \n",
       "Ayamonte                             9.476876   33.169067              1.0  \n",
       "Trigueros                           50.877639  216.229967              1.0  \n",
       "Villanueva de los Castillejos       70.796460  106.194690              1.0  \n",
       "Minas de Riotinto                   26.232949   26.232949              NaN  \n",
       "Puebla de Guzmán                    32.341527   32.341527              NaN  "
      ],
      "text/html": "<div>\n<style scoped>\n    .dataframe tbody tr th:only-of-type {\n        vertical-align: middle;\n    }\n\n    .dataframe tbody tr th {\n        vertical-align: top;\n    }\n\n    .dataframe thead th {\n        text-align: right;\n    }\n</style>\n<table border=\"1\" class=\"dataframe\">\n  <thead>\n    <tr style=\"text-align: right;\">\n      <th>Medida</th>\n      <th>Confirmados PDIA</th>\n      <th>Confirmados PDIA 7 días</th>\n      <th>Confirmados PDIA 14 días</th>\n      <th>Población</th>\n      <th>tasa7</th>\n      <th>tasa14</th>\n      <th>Diferencia PDIA</th>\n    </tr>\n    <tr>\n      <th>Lugar de residencia</th>\n      <th></th>\n      <th></th>\n      <th></th>\n      <th></th>\n      <th></th>\n      <th></th>\n      <th></th>\n    </tr>\n  </thead>\n  <tbody>\n    <tr>\n      <th>Huelva</th>\n      <td>26636.0</td>\n      <td>684.0</td>\n      <td>1237.0</td>\n      <td>513170.0</td>\n      <td>133.289163</td>\n      <td>241.050724</td>\n      <td>134.0</td>\n    </tr>\n    <tr>\n      <th>Condado-Campiña</th>\n      <td>7986.0</td>\n      <td>337.0</td>\n      <td>668.0</td>\n      <td>156231.0</td>\n      <td>215.706230</td>\n      <td>427.571993</td>\n      <td>64.0</td>\n    </tr>\n    <tr>\n      <th>Huelva-Costa</th>\n      <td>15839.0</td>\n      <td>291.0</td>\n      <td>475.0</td>\n      <td>289548.0</td>\n      <td>100.501471</td>\n      <td>164.048793</td>\n      <td>50.0</td>\n    </tr>\n    <tr>\n      <th>Huelva (capital)</th>\n      <td>6946.0</td>\n      <td>156.0</td>\n      <td>264.0</td>\n      <td>143837.0</td>\n      <td>108.456100</td>\n      <td>183.541092</td>\n      <td>26.0</td>\n    </tr>\n    <tr>\n      <th>Almonte</th>\n      <td>1189.0</td>\n      <td>108.0</td>\n      <td>204.0</td>\n      <td>24507.0</td>\n      <td>440.690415</td>\n      <td>832.415228</td>\n      <td>25.0</td>\n    </tr>\n    <tr>\n      <th>Sierra de Huelva-Andévalo Central</th>\n      <td>2385.0</td>\n      <td>42.0</td>\n      <td>67.0</td>\n      <td>67391.0</td>\n      <td>62.322862</td>\n      <td>99.419804</td>\n      <td>14.0</td>\n    </tr>\n    <tr>\n      <th>Cartaya</th>\n      <td>1116.0</td>\n      <td>81.0</td>\n      <td>116.0</td>\n      <td>20083.0</td>\n      <td>403.326196</td>\n      <td>577.602948</td>\n      <td>11.0</td>\n    </tr>\n    <tr>\n      <th>Rociana del Condado</th>\n      <td>427.0</td>\n      <td>39.0</td>\n      <td>72.0</td>\n      <td>7939.0</td>\n      <td>491.245749</td>\n      <td>906.915229</td>\n      <td>10.0</td>\n    </tr>\n    <tr>\n      <th>Lucena del Puerto</th>\n      <td>181.0</td>\n      <td>17.0</td>\n      <td>19.0</td>\n      <td>3261.0</td>\n      <td>521.312481</td>\n      <td>582.643361</td>\n      <td>8.0</td>\n    </tr>\n    <tr>\n      <th>Moguer</th>\n      <td>963.0</td>\n      <td>57.0</td>\n      <td>84.0</td>\n      <td>21867.0</td>\n      <td>260.666758</td>\n      <td>384.140486</td>\n      <td>8.0</td>\n    </tr>\n    <tr>\n      <th>Valverde del Camino</th>\n      <td>442.0</td>\n      <td>11.0</td>\n      <td>15.0</td>\n      <td>12750.0</td>\n      <td>86.274510</td>\n      <td>117.647059</td>\n      <td>6.0</td>\n    </tr>\n    <tr>\n      <th>Aracena</th>\n      <td>484.0</td>\n      <td>18.0</td>\n      <td>31.0</td>\n      <td>8255.0</td>\n      <td>218.049667</td>\n      <td>375.529982</td>\n      <td>6.0</td>\n    </tr>\n    <tr>\n      <th>Palos de la Frontera</th>\n      <td>518.0</td>\n      <td>21.0</td>\n      <td>42.0</td>\n      <td>11742.0</td>\n      <td>178.845171</td>\n      <td>357.690342</td>\n      <td>6.0</td>\n    </tr>\n    <tr>\n      <th>Aljaraque</th>\n      <td>964.0</td>\n      <td>23.0</td>\n      <td>33.0</td>\n      <td>21474.0</td>\n      <td>107.106268</td>\n      <td>153.674211</td>\n      <td>5.0</td>\n    </tr>\n    <tr>\n      <th>Alosno</th>\n      <td>160.0</td>\n      <td>9.0</td>\n      <td>11.0</td>\n      <td>3933.0</td>\n      <td>228.832952</td>\n      <td>279.684719</td>\n      <td>4.0</td>\n    </tr>\n    <tr>\n      <th>Bollullos Par del Condado</th>\n      <td>709.0</td>\n      <td>10.0</td>\n      <td>53.0</td>\n      <td>14387.0</td>\n      <td>69.507194</td>\n      <td>368.388128</td>\n      <td>3.0</td>\n    </tr>\n    <tr>\n      <th>San Juan del Puerto</th>\n      <td>403.0</td>\n      <td>18.0</td>\n      <td>32.0</td>\n      <td>9411.0</td>\n      <td>191.265540</td>\n      <td>340.027627</td>\n      <td>2.0</td>\n    </tr>\n    <tr>\n      <th>Lepe</th>\n      <td>2036.0</td>\n      <td>6.0</td>\n      <td>17.0</td>\n      <td>27880.0</td>\n      <td>21.520803</td>\n      <td>60.975610</td>\n      <td>1.0</td>\n    </tr>\n    <tr>\n      <th>Niebla</th>\n      <td>183.0</td>\n      <td>6.0</td>\n      <td>12.0</td>\n      <td>4116.0</td>\n      <td>145.772595</td>\n      <td>291.545190</td>\n      <td>1.0</td>\n    </tr>\n    <tr>\n      <th>Almonaster la Real</th>\n      <td>55.0</td>\n      <td>2.0</td>\n      <td>2.0</td>\n      <td>1788.0</td>\n      <td>111.856823</td>\n      <td>111.856823</td>\n      <td>1.0</td>\n    </tr>\n    <tr>\n      <th>Ayamonte</th>\n      <td>1252.0</td>\n      <td>2.0</td>\n      <td>7.0</td>\n      <td>21104.0</td>\n      <td>9.476876</td>\n      <td>33.169067</td>\n      <td>1.0</td>\n    </tr>\n    <tr>\n      <th>Trigueros</th>\n      <td>245.0</td>\n      <td>4.0</td>\n      <td>17.0</td>\n      <td>7862.0</td>\n      <td>50.877639</td>\n      <td>216.229967</td>\n      <td>1.0</td>\n    </tr>\n    <tr>\n      <th>Villanueva de los Castillejos</th>\n      <td>156.0</td>\n      <td>2.0</td>\n      <td>3.0</td>\n      <td>2825.0</td>\n      <td>70.796460</td>\n      <td>106.194690</td>\n      <td>1.0</td>\n    </tr>\n    <tr>\n      <th>Minas de Riotinto</th>\n      <td>101.0</td>\n      <td>1.0</td>\n      <td>1.0</td>\n      <td>3812.0</td>\n      <td>26.232949</td>\n      <td>26.232949</td>\n      <td>NaN</td>\n    </tr>\n    <tr>\n      <th>Puebla de Guzmán</th>\n      <td>111.0</td>\n      <td>1.0</td>\n      <td>1.0</td>\n      <td>3092.0</td>\n      <td>32.341527</td>\n      <td>32.341527</td>\n      <td>NaN</td>\n    </tr>\n  </tbody>\n</table>\n</div>"
     },
     "metadata": {},
     "execution_count": 15
    }
   ],
   "source": [
    "# Nuevos casos desde la última captura\n",
    "tabla[tabla['Diferencia PDIA'] != 0].sort_values('Diferencia PDIA', ascending=False)"
   ]
  },
  {
   "cell_type": "code",
   "execution_count": 16,
   "metadata": {},
   "outputs": [],
   "source": [
    "if tabla[tabla['Diferencia PDIA'] != 0]['Diferencia PDIA'].sum() != 0:\n",
    "  # Save to csv\n",
    "  tabla.to_csv('covid_huelva.csv', encoding='utf-8', header=True, index=True)  "
   ]
  },
  {
   "cell_type": "code",
   "execution_count": 17,
   "metadata": {},
   "outputs": [
    {
     "output_type": "execute_result",
     "data": {
      "text/plain": [
       "Medida                             Confirmados PDIA  Confirmados PDIA 7 días  \\\n",
       "Lugar de residencia                                                            \n",
       "San Bartolomé de la Torre                     266.0                     17.0   \n",
       "Rociana del Condado                           427.0                     39.0   \n",
       "Almonte                                      1189.0                    108.0   \n",
       "Sanlúcar de Guadiana                            6.0                      3.0   \n",
       "Bonares                                       218.0                     19.0   \n",
       "Lucena del Puerto                             181.0                     17.0   \n",
       "Cartaya                                      1116.0                     81.0   \n",
       "Condado-Campiña                              7986.0                    337.0   \n",
       "Moguer                                        963.0                     57.0   \n",
       "Aracena                                       484.0                     18.0   \n",
       "Bollullos Par del Condado                     709.0                     10.0   \n",
       "Palos de la Frontera                          518.0                     21.0   \n",
       "San Juan del Puerto                           403.0                     18.0   \n",
       "Niebla                                        183.0                      6.0   \n",
       "Fuenteheridos                                   5.0                      2.0   \n",
       "Alosno                                        160.0                      9.0   \n",
       "Villalba del Alcor                            469.0                      3.0   \n",
       "Huelva                                      26636.0                    684.0   \n",
       "Villarrasa                                    138.0                      4.0   \n",
       "Trigueros                                     245.0                      4.0   \n",
       "Huelva (capital)                             6946.0                    156.0   \n",
       "Huelva-Costa                                15839.0                    291.0   \n",
       "San Silvestre de Guzmán                        14.0                      1.0   \n",
       "Palma del Condado (La)                       1007.0                      8.0   \n",
       "Aljaraque                                     964.0                     23.0   \n",
       "Aroche                                         85.0                      2.0   \n",
       "Gibraleón                                     555.0                      3.0   \n",
       "Valverde del Camino                           442.0                     11.0   \n",
       "Paterna del Campo                             123.0                      1.0   \n",
       "Almonaster la Real                             55.0                      2.0   \n",
       "Villanueva de los Castillejos                 156.0                      2.0   \n",
       "Sierra de Huelva-Andévalo Central            2385.0                     42.0   \n",
       "Campillo (El)                                  63.0                      1.0   \n",
       "Punta Umbría                                  678.0                      6.0   \n",
       "Calañas                                       173.0                      1.0   \n",
       "Beas                                          166.0                      2.0   \n",
       "Cortegana                                     192.0                      3.0   \n",
       "Lepe                                         2036.0                      6.0   \n",
       "Ayamonte                                     1252.0                      2.0   \n",
       "Puebla de Guzmán                              111.0                      1.0   \n",
       "Minas de Riotinto                             101.0                      1.0   \n",
       "Nerva                                         153.0                      1.0   \n",
       "Isla Cristina                                2014.0                      1.0   \n",
       "\n",
       "Medida                             Confirmados PDIA 14 días  Población  \\\n",
       "Lugar de residencia                                                      \n",
       "San Bartolomé de la Torre                              43.0     3761.0   \n",
       "Rociana del Condado                                    72.0     7939.0   \n",
       "Almonte                                               204.0    24507.0   \n",
       "Sanlúcar de Guadiana                                    3.0      403.0   \n",
       "Bonares                                                36.0     6060.0   \n",
       "Lucena del Puerto                                      19.0     3261.0   \n",
       "Cartaya                                               116.0    20083.0   \n",
       "Condado-Campiña                                       668.0   156231.0   \n",
       "Moguer                                                 84.0    21867.0   \n",
       "Aracena                                                31.0     8255.0   \n",
       "Bollullos Par del Condado                              53.0    14387.0   \n",
       "Palos de la Frontera                                   42.0    11742.0   \n",
       "San Juan del Puerto                                    32.0     9411.0   \n",
       "Niebla                                                 12.0     4116.0   \n",
       "Fuenteheridos                                           2.0      709.0   \n",
       "Alosno                                                 11.0     3933.0   \n",
       "Villalba del Alcor                                      9.0     3366.0   \n",
       "Huelva                                               1237.0   513170.0   \n",
       "Villarrasa                                              5.0     2211.0   \n",
       "Trigueros                                              17.0     7862.0   \n",
       "Huelva (capital)                                      264.0   143837.0   \n",
       "Huelva-Costa                                          475.0   289548.0   \n",
       "San Silvestre de Guzmán                                 1.0      614.0   \n",
       "Palma del Condado (La)                                 17.0    10801.0   \n",
       "Aljaraque                                              33.0    21474.0   \n",
       "Aroche                                                  4.0     3054.0   \n",
       "Gibraleón                                              15.0    12737.0   \n",
       "Valverde del Camino                                    15.0    12750.0   \n",
       "Paterna del Campo                                       4.0     3457.0   \n",
       "Almonaster la Real                                      2.0     1788.0   \n",
       "Villanueva de los Castillejos                           3.0     2825.0   \n",
       "Sierra de Huelva-Andévalo Central                      67.0    67391.0   \n",
       "Campillo (El)                                           2.0     2024.0   \n",
       "Punta Umbría                                           14.0    15355.0   \n",
       "Calañas                                                 2.0     2768.0   \n",
       "Beas                                                    3.0     4341.0   \n",
       "Cortegana                                               3.0     4602.0   \n",
       "Lepe                                                   17.0    27880.0   \n",
       "Ayamonte                                                7.0    21104.0   \n",
       "Puebla de Guzmán                                        1.0     3092.0   \n",
       "Minas de Riotinto                                       1.0     3812.0   \n",
       "Nerva                                                   1.0     5169.0   \n",
       "Isla Cristina                                           4.0    21393.0   \n",
       "\n",
       "Medida                                  tasa7       tasa14  Diferencia PDIA  \n",
       "Lugar de residencia                                                          \n",
       "San Bartolomé de la Torre          452.007445  1143.312949              0.0  \n",
       "Rociana del Condado                491.245749   906.915229             10.0  \n",
       "Almonte                            440.690415   832.415228             25.0  \n",
       "Sanlúcar de Guadiana               744.416873   744.416873              0.0  \n",
       "Bonares                            313.531353   594.059406              0.0  \n",
       "Lucena del Puerto                  521.312481   582.643361              8.0  \n",
       "Cartaya                            403.326196   577.602948             11.0  \n",
       "Condado-Campiña                    215.706230   427.571993             64.0  \n",
       "Moguer                             260.666758   384.140486              8.0  \n",
       "Aracena                            218.049667   375.529982              6.0  \n",
       "Bollullos Par del Condado           69.507194   368.388128              3.0  \n",
       "Palos de la Frontera               178.845171   357.690342              6.0  \n",
       "San Juan del Puerto                191.265540   340.027627              2.0  \n",
       "Niebla                             145.772595   291.545190              1.0  \n",
       "Fuenteheridos                      282.087447   282.087447              0.0  \n",
       "Alosno                             228.832952   279.684719              4.0  \n",
       "Villalba del Alcor                  89.126560   267.379679              0.0  \n",
       "Huelva                             133.289163   241.050724            134.0  \n",
       "Villarrasa                         180.913614   226.142017              0.0  \n",
       "Trigueros                           50.877639   216.229967              1.0  \n",
       "Huelva (capital)                   108.456100   183.541092             26.0  \n",
       "Huelva-Costa                       100.501471   164.048793             50.0  \n",
       "San Silvestre de Guzmán            162.866450   162.866450              0.0  \n",
       "Palma del Condado (La)              74.067216   157.392834              0.0  \n",
       "Aljaraque                          107.106268   153.674211              5.0  \n",
       "Aroche                              65.487885   130.975769              0.0  \n",
       "Gibraleón                           23.553427   117.767135              0.0  \n",
       "Valverde del Camino                 86.274510   117.647059              6.0  \n",
       "Paterna del Campo                   28.926815   115.707261              0.0  \n",
       "Almonaster la Real                 111.856823   111.856823              1.0  \n",
       "Villanueva de los Castillejos       70.796460   106.194690              1.0  \n",
       "Sierra de Huelva-Andévalo Central   62.322862    99.419804             14.0  \n",
       "Campillo (El)                       49.407115    98.814229              0.0  \n",
       "Punta Umbría                        39.075220    91.175513              0.0  \n",
       "Calañas                             36.127168    72.254335              0.0  \n",
       "Beas                                46.072334    69.108500              0.0  \n",
       "Cortegana                           65.189048    65.189048              0.0  \n",
       "Lepe                                21.520803    60.975610              1.0  \n",
       "Ayamonte                             9.476876    33.169067              1.0  \n",
       "Puebla de Guzmán                    32.341527    32.341527              NaN  \n",
       "Minas de Riotinto                   26.232949    26.232949              NaN  \n",
       "Nerva                               19.346102    19.346102              0.0  \n",
       "Isla Cristina                        4.674426    18.697705              0.0  "
      ],
      "text/html": "<div>\n<style scoped>\n    .dataframe tbody tr th:only-of-type {\n        vertical-align: middle;\n    }\n\n    .dataframe tbody tr th {\n        vertical-align: top;\n    }\n\n    .dataframe thead th {\n        text-align: right;\n    }\n</style>\n<table border=\"1\" class=\"dataframe\">\n  <thead>\n    <tr style=\"text-align: right;\">\n      <th>Medida</th>\n      <th>Confirmados PDIA</th>\n      <th>Confirmados PDIA 7 días</th>\n      <th>Confirmados PDIA 14 días</th>\n      <th>Población</th>\n      <th>tasa7</th>\n      <th>tasa14</th>\n      <th>Diferencia PDIA</th>\n    </tr>\n    <tr>\n      <th>Lugar de residencia</th>\n      <th></th>\n      <th></th>\n      <th></th>\n      <th></th>\n      <th></th>\n      <th></th>\n      <th></th>\n    </tr>\n  </thead>\n  <tbody>\n    <tr>\n      <th>San Bartolomé de la Torre</th>\n      <td>266.0</td>\n      <td>17.0</td>\n      <td>43.0</td>\n      <td>3761.0</td>\n      <td>452.007445</td>\n      <td>1143.312949</td>\n      <td>0.0</td>\n    </tr>\n    <tr>\n      <th>Rociana del Condado</th>\n      <td>427.0</td>\n      <td>39.0</td>\n      <td>72.0</td>\n      <td>7939.0</td>\n      <td>491.245749</td>\n      <td>906.915229</td>\n      <td>10.0</td>\n    </tr>\n    <tr>\n      <th>Almonte</th>\n      <td>1189.0</td>\n      <td>108.0</td>\n      <td>204.0</td>\n      <td>24507.0</td>\n      <td>440.690415</td>\n      <td>832.415228</td>\n      <td>25.0</td>\n    </tr>\n    <tr>\n      <th>Sanlúcar de Guadiana</th>\n      <td>6.0</td>\n      <td>3.0</td>\n      <td>3.0</td>\n      <td>403.0</td>\n      <td>744.416873</td>\n      <td>744.416873</td>\n      <td>0.0</td>\n    </tr>\n    <tr>\n      <th>Bonares</th>\n      <td>218.0</td>\n      <td>19.0</td>\n      <td>36.0</td>\n      <td>6060.0</td>\n      <td>313.531353</td>\n      <td>594.059406</td>\n      <td>0.0</td>\n    </tr>\n    <tr>\n      <th>Lucena del Puerto</th>\n      <td>181.0</td>\n      <td>17.0</td>\n      <td>19.0</td>\n      <td>3261.0</td>\n      <td>521.312481</td>\n      <td>582.643361</td>\n      <td>8.0</td>\n    </tr>\n    <tr>\n      <th>Cartaya</th>\n      <td>1116.0</td>\n      <td>81.0</td>\n      <td>116.0</td>\n      <td>20083.0</td>\n      <td>403.326196</td>\n      <td>577.602948</td>\n      <td>11.0</td>\n    </tr>\n    <tr>\n      <th>Condado-Campiña</th>\n      <td>7986.0</td>\n      <td>337.0</td>\n      <td>668.0</td>\n      <td>156231.0</td>\n      <td>215.706230</td>\n      <td>427.571993</td>\n      <td>64.0</td>\n    </tr>\n    <tr>\n      <th>Moguer</th>\n      <td>963.0</td>\n      <td>57.0</td>\n      <td>84.0</td>\n      <td>21867.0</td>\n      <td>260.666758</td>\n      <td>384.140486</td>\n      <td>8.0</td>\n    </tr>\n    <tr>\n      <th>Aracena</th>\n      <td>484.0</td>\n      <td>18.0</td>\n      <td>31.0</td>\n      <td>8255.0</td>\n      <td>218.049667</td>\n      <td>375.529982</td>\n      <td>6.0</td>\n    </tr>\n    <tr>\n      <th>Bollullos Par del Condado</th>\n      <td>709.0</td>\n      <td>10.0</td>\n      <td>53.0</td>\n      <td>14387.0</td>\n      <td>69.507194</td>\n      <td>368.388128</td>\n      <td>3.0</td>\n    </tr>\n    <tr>\n      <th>Palos de la Frontera</th>\n      <td>518.0</td>\n      <td>21.0</td>\n      <td>42.0</td>\n      <td>11742.0</td>\n      <td>178.845171</td>\n      <td>357.690342</td>\n      <td>6.0</td>\n    </tr>\n    <tr>\n      <th>San Juan del Puerto</th>\n      <td>403.0</td>\n      <td>18.0</td>\n      <td>32.0</td>\n      <td>9411.0</td>\n      <td>191.265540</td>\n      <td>340.027627</td>\n      <td>2.0</td>\n    </tr>\n    <tr>\n      <th>Niebla</th>\n      <td>183.0</td>\n      <td>6.0</td>\n      <td>12.0</td>\n      <td>4116.0</td>\n      <td>145.772595</td>\n      <td>291.545190</td>\n      <td>1.0</td>\n    </tr>\n    <tr>\n      <th>Fuenteheridos</th>\n      <td>5.0</td>\n      <td>2.0</td>\n      <td>2.0</td>\n      <td>709.0</td>\n      <td>282.087447</td>\n      <td>282.087447</td>\n      <td>0.0</td>\n    </tr>\n    <tr>\n      <th>Alosno</th>\n      <td>160.0</td>\n      <td>9.0</td>\n      <td>11.0</td>\n      <td>3933.0</td>\n      <td>228.832952</td>\n      <td>279.684719</td>\n      <td>4.0</td>\n    </tr>\n    <tr>\n      <th>Villalba del Alcor</th>\n      <td>469.0</td>\n      <td>3.0</td>\n      <td>9.0</td>\n      <td>3366.0</td>\n      <td>89.126560</td>\n      <td>267.379679</td>\n      <td>0.0</td>\n    </tr>\n    <tr>\n      <th>Huelva</th>\n      <td>26636.0</td>\n      <td>684.0</td>\n      <td>1237.0</td>\n      <td>513170.0</td>\n      <td>133.289163</td>\n      <td>241.050724</td>\n      <td>134.0</td>\n    </tr>\n    <tr>\n      <th>Villarrasa</th>\n      <td>138.0</td>\n      <td>4.0</td>\n      <td>5.0</td>\n      <td>2211.0</td>\n      <td>180.913614</td>\n      <td>226.142017</td>\n      <td>0.0</td>\n    </tr>\n    <tr>\n      <th>Trigueros</th>\n      <td>245.0</td>\n      <td>4.0</td>\n      <td>17.0</td>\n      <td>7862.0</td>\n      <td>50.877639</td>\n      <td>216.229967</td>\n      <td>1.0</td>\n    </tr>\n    <tr>\n      <th>Huelva (capital)</th>\n      <td>6946.0</td>\n      <td>156.0</td>\n      <td>264.0</td>\n      <td>143837.0</td>\n      <td>108.456100</td>\n      <td>183.541092</td>\n      <td>26.0</td>\n    </tr>\n    <tr>\n      <th>Huelva-Costa</th>\n      <td>15839.0</td>\n      <td>291.0</td>\n      <td>475.0</td>\n      <td>289548.0</td>\n      <td>100.501471</td>\n      <td>164.048793</td>\n      <td>50.0</td>\n    </tr>\n    <tr>\n      <th>San Silvestre de Guzmán</th>\n      <td>14.0</td>\n      <td>1.0</td>\n      <td>1.0</td>\n      <td>614.0</td>\n      <td>162.866450</td>\n      <td>162.866450</td>\n      <td>0.0</td>\n    </tr>\n    <tr>\n      <th>Palma del Condado (La)</th>\n      <td>1007.0</td>\n      <td>8.0</td>\n      <td>17.0</td>\n      <td>10801.0</td>\n      <td>74.067216</td>\n      <td>157.392834</td>\n      <td>0.0</td>\n    </tr>\n    <tr>\n      <th>Aljaraque</th>\n      <td>964.0</td>\n      <td>23.0</td>\n      <td>33.0</td>\n      <td>21474.0</td>\n      <td>107.106268</td>\n      <td>153.674211</td>\n      <td>5.0</td>\n    </tr>\n    <tr>\n      <th>Aroche</th>\n      <td>85.0</td>\n      <td>2.0</td>\n      <td>4.0</td>\n      <td>3054.0</td>\n      <td>65.487885</td>\n      <td>130.975769</td>\n      <td>0.0</td>\n    </tr>\n    <tr>\n      <th>Gibraleón</th>\n      <td>555.0</td>\n      <td>3.0</td>\n      <td>15.0</td>\n      <td>12737.0</td>\n      <td>23.553427</td>\n      <td>117.767135</td>\n      <td>0.0</td>\n    </tr>\n    <tr>\n      <th>Valverde del Camino</th>\n      <td>442.0</td>\n      <td>11.0</td>\n      <td>15.0</td>\n      <td>12750.0</td>\n      <td>86.274510</td>\n      <td>117.647059</td>\n      <td>6.0</td>\n    </tr>\n    <tr>\n      <th>Paterna del Campo</th>\n      <td>123.0</td>\n      <td>1.0</td>\n      <td>4.0</td>\n      <td>3457.0</td>\n      <td>28.926815</td>\n      <td>115.707261</td>\n      <td>0.0</td>\n    </tr>\n    <tr>\n      <th>Almonaster la Real</th>\n      <td>55.0</td>\n      <td>2.0</td>\n      <td>2.0</td>\n      <td>1788.0</td>\n      <td>111.856823</td>\n      <td>111.856823</td>\n      <td>1.0</td>\n    </tr>\n    <tr>\n      <th>Villanueva de los Castillejos</th>\n      <td>156.0</td>\n      <td>2.0</td>\n      <td>3.0</td>\n      <td>2825.0</td>\n      <td>70.796460</td>\n      <td>106.194690</td>\n      <td>1.0</td>\n    </tr>\n    <tr>\n      <th>Sierra de Huelva-Andévalo Central</th>\n      <td>2385.0</td>\n      <td>42.0</td>\n      <td>67.0</td>\n      <td>67391.0</td>\n      <td>62.322862</td>\n      <td>99.419804</td>\n      <td>14.0</td>\n    </tr>\n    <tr>\n      <th>Campillo (El)</th>\n      <td>63.0</td>\n      <td>1.0</td>\n      <td>2.0</td>\n      <td>2024.0</td>\n      <td>49.407115</td>\n      <td>98.814229</td>\n      <td>0.0</td>\n    </tr>\n    <tr>\n      <th>Punta Umbría</th>\n      <td>678.0</td>\n      <td>6.0</td>\n      <td>14.0</td>\n      <td>15355.0</td>\n      <td>39.075220</td>\n      <td>91.175513</td>\n      <td>0.0</td>\n    </tr>\n    <tr>\n      <th>Calañas</th>\n      <td>173.0</td>\n      <td>1.0</td>\n      <td>2.0</td>\n      <td>2768.0</td>\n      <td>36.127168</td>\n      <td>72.254335</td>\n      <td>0.0</td>\n    </tr>\n    <tr>\n      <th>Beas</th>\n      <td>166.0</td>\n      <td>2.0</td>\n      <td>3.0</td>\n      <td>4341.0</td>\n      <td>46.072334</td>\n      <td>69.108500</td>\n      <td>0.0</td>\n    </tr>\n    <tr>\n      <th>Cortegana</th>\n      <td>192.0</td>\n      <td>3.0</td>\n      <td>3.0</td>\n      <td>4602.0</td>\n      <td>65.189048</td>\n      <td>65.189048</td>\n      <td>0.0</td>\n    </tr>\n    <tr>\n      <th>Lepe</th>\n      <td>2036.0</td>\n      <td>6.0</td>\n      <td>17.0</td>\n      <td>27880.0</td>\n      <td>21.520803</td>\n      <td>60.975610</td>\n      <td>1.0</td>\n    </tr>\n    <tr>\n      <th>Ayamonte</th>\n      <td>1252.0</td>\n      <td>2.0</td>\n      <td>7.0</td>\n      <td>21104.0</td>\n      <td>9.476876</td>\n      <td>33.169067</td>\n      <td>1.0</td>\n    </tr>\n    <tr>\n      <th>Puebla de Guzmán</th>\n      <td>111.0</td>\n      <td>1.0</td>\n      <td>1.0</td>\n      <td>3092.0</td>\n      <td>32.341527</td>\n      <td>32.341527</td>\n      <td>NaN</td>\n    </tr>\n    <tr>\n      <th>Minas de Riotinto</th>\n      <td>101.0</td>\n      <td>1.0</td>\n      <td>1.0</td>\n      <td>3812.0</td>\n      <td>26.232949</td>\n      <td>26.232949</td>\n      <td>NaN</td>\n    </tr>\n    <tr>\n      <th>Nerva</th>\n      <td>153.0</td>\n      <td>1.0</td>\n      <td>1.0</td>\n      <td>5169.0</td>\n      <td>19.346102</td>\n      <td>19.346102</td>\n      <td>0.0</td>\n    </tr>\n    <tr>\n      <th>Isla Cristina</th>\n      <td>2014.0</td>\n      <td>1.0</td>\n      <td>4.0</td>\n      <td>21393.0</td>\n      <td>4.674426</td>\n      <td>18.697705</td>\n      <td>0.0</td>\n    </tr>\n  </tbody>\n</table>\n</div>"
     },
     "metadata": {},
     "execution_count": 17
    }
   ],
   "source": [
    "tabla.sort_values('tasa14', ascending=False)"
   ]
  },
  {
   "cell_type": "code",
   "execution_count": 18,
   "metadata": {},
   "outputs": [
    {
     "output_type": "execute_result",
     "data": {
      "text/plain": [
       "Medida                             Confirmados PDIA  Confirmados PDIA 7 días  \\\n",
       "Lugar de residencia                                                            \n",
       "Bollullos Par del Condado                     709.0                     10.0   \n",
       "Gibraleón                                     555.0                      3.0   \n",
       "Trigueros                                     245.0                      4.0   \n",
       "Paterna del Campo                             123.0                      1.0   \n",
       "Isla Cristina                                2014.0                      1.0   \n",
       "Ayamonte                                     1252.0                      2.0   \n",
       "Villalba del Alcor                            469.0                      3.0   \n",
       "Lepe                                         2036.0                      6.0   \n",
       "San Bartolomé de la Torre                     266.0                     17.0   \n",
       "Punta Umbría                                  678.0                      6.0   \n",
       "Palma del Condado (La)                       1007.0                      8.0   \n",
       "Niebla                                        183.0                      6.0   \n",
       "Palos de la Frontera                          518.0                     21.0   \n",
       "Campillo (El)                                  63.0                      1.0   \n",
       "Calañas                                       173.0                      1.0   \n",
       "Aroche                                         85.0                      2.0   \n",
       "Condado-Campiña                              7986.0                    337.0   \n",
       "Bonares                                       218.0                     19.0   \n",
       "Almonte                                      1189.0                    108.0   \n",
       "Rociana del Condado                           427.0                     39.0   \n",
       "Huelva                                      26636.0                    684.0   \n",
       "San Juan del Puerto                           403.0                     18.0   \n",
       "Aracena                                       484.0                     18.0   \n",
       "Huelva (capital)                             6946.0                    156.0   \n",
       "Huelva-Costa                                15839.0                    291.0   \n",
       "Sierra de Huelva-Andévalo Central            2385.0                     42.0   \n",
       "Beas                                          166.0                      2.0   \n",
       "Villanueva de los Castillejos                 156.0                      2.0   \n",
       "Moguer                                        963.0                     57.0   \n",
       "Aljaraque                                     964.0                     23.0   \n",
       "Cartaya                                      1116.0                     81.0   \n",
       "Valverde del Camino                           442.0                     11.0   \n",
       "Villarrasa                                    138.0                      4.0   \n",
       "Alosno                                        160.0                      9.0   \n",
       "Lucena del Puerto                             181.0                     17.0   \n",
       "Puebla de Guzmán                              111.0                      1.0   \n",
       "Minas de Riotinto                             101.0                      1.0   \n",
       "Fuenteheridos                                   5.0                      2.0   \n",
       "Cortegana                                     192.0                      3.0   \n",
       "San Silvestre de Guzmán                        14.0                      1.0   \n",
       "Sanlúcar de Guadiana                            6.0                      3.0   \n",
       "Almonaster la Real                             55.0                      2.0   \n",
       "Nerva                                         153.0                      1.0   \n",
       "\n",
       "Medida                             Confirmados PDIA 14 días  Población  \\\n",
       "Lugar de residencia                                                      \n",
       "Bollullos Par del Condado                              53.0    14387.0   \n",
       "Gibraleón                                              15.0    12737.0   \n",
       "Trigueros                                              17.0     7862.0   \n",
       "Paterna del Campo                                       4.0     3457.0   \n",
       "Isla Cristina                                           4.0    21393.0   \n",
       "Ayamonte                                                7.0    21104.0   \n",
       "Villalba del Alcor                                      9.0     3366.0   \n",
       "Lepe                                                   17.0    27880.0   \n",
       "San Bartolomé de la Torre                              43.0     3761.0   \n",
       "Punta Umbría                                           14.0    15355.0   \n",
       "Palma del Condado (La)                                 17.0    10801.0   \n",
       "Niebla                                                 12.0     4116.0   \n",
       "Palos de la Frontera                                   42.0    11742.0   \n",
       "Campillo (El)                                           2.0     2024.0   \n",
       "Calañas                                                 2.0     2768.0   \n",
       "Aroche                                                  4.0     3054.0   \n",
       "Condado-Campiña                                       668.0   156231.0   \n",
       "Bonares                                                36.0     6060.0   \n",
       "Almonte                                               204.0    24507.0   \n",
       "Rociana del Condado                                    72.0     7939.0   \n",
       "Huelva                                               1237.0   513170.0   \n",
       "San Juan del Puerto                                    32.0     9411.0   \n",
       "Aracena                                                31.0     8255.0   \n",
       "Huelva (capital)                                      264.0   143837.0   \n",
       "Huelva-Costa                                          475.0   289548.0   \n",
       "Sierra de Huelva-Andévalo Central                      67.0    67391.0   \n",
       "Beas                                                    3.0     4341.0   \n",
       "Villanueva de los Castillejos                           3.0     2825.0   \n",
       "Moguer                                                 84.0    21867.0   \n",
       "Aljaraque                                              33.0    21474.0   \n",
       "Cartaya                                               116.0    20083.0   \n",
       "Valverde del Camino                                    15.0    12750.0   \n",
       "Villarrasa                                              5.0     2211.0   \n",
       "Alosno                                                 11.0     3933.0   \n",
       "Lucena del Puerto                                      19.0     3261.0   \n",
       "Puebla de Guzmán                                        1.0     3092.0   \n",
       "Minas de Riotinto                                       1.0     3812.0   \n",
       "Fuenteheridos                                           2.0      709.0   \n",
       "Cortegana                                               3.0     4602.0   \n",
       "San Silvestre de Guzmán                                 1.0      614.0   \n",
       "Sanlúcar de Guadiana                                    3.0      403.0   \n",
       "Almonaster la Real                                      2.0     1788.0   \n",
       "Nerva                                                   1.0     5169.0   \n",
       "\n",
       "Medida                                  tasa7       tasa14  Diferencia PDIA  \\\n",
       "Lugar de residencia                                                           \n",
       "Bollullos Par del Condado           69.507194   368.388128              3.0   \n",
       "Gibraleón                           23.553427   117.767135              0.0   \n",
       "Trigueros                           50.877639   216.229967              1.0   \n",
       "Paterna del Campo                   28.926815   115.707261              0.0   \n",
       "Isla Cristina                        4.674426    18.697705              0.0   \n",
       "Ayamonte                             9.476876    33.169067              1.0   \n",
       "Villalba del Alcor                  89.126560   267.379679              0.0   \n",
       "Lepe                                21.520803    60.975610              1.0   \n",
       "San Bartolomé de la Torre          452.007445  1143.312949              0.0   \n",
       "Punta Umbría                        39.075220    91.175513              0.0   \n",
       "Palma del Condado (La)              74.067216   157.392834              0.0   \n",
       "Niebla                             145.772595   291.545190              1.0   \n",
       "Palos de la Frontera               178.845171   357.690342              6.0   \n",
       "Campillo (El)                       49.407115    98.814229              0.0   \n",
       "Calañas                             36.127168    72.254335              0.0   \n",
       "Aroche                              65.487885   130.975769              0.0   \n",
       "Condado-Campiña                    215.706230   427.571993             64.0   \n",
       "Bonares                            313.531353   594.059406              0.0   \n",
       "Almonte                            440.690415   832.415228             25.0   \n",
       "Rociana del Condado                491.245749   906.915229             10.0   \n",
       "Huelva                             133.289163   241.050724            134.0   \n",
       "San Juan del Puerto                191.265540   340.027627              2.0   \n",
       "Aracena                            218.049667   375.529982              6.0   \n",
       "Huelva (capital)                   108.456100   183.541092             26.0   \n",
       "Huelva-Costa                       100.501471   164.048793             50.0   \n",
       "Sierra de Huelva-Andévalo Central   62.322862    99.419804             14.0   \n",
       "Beas                                46.072334    69.108500              0.0   \n",
       "Villanueva de los Castillejos       70.796460   106.194690              1.0   \n",
       "Moguer                             260.666758   384.140486              8.0   \n",
       "Aljaraque                          107.106268   153.674211              5.0   \n",
       "Cartaya                            403.326196   577.602948             11.0   \n",
       "Valverde del Camino                 86.274510   117.647059              6.0   \n",
       "Villarrasa                         180.913614   226.142017              0.0   \n",
       "Alosno                             228.832952   279.684719              4.0   \n",
       "Lucena del Puerto                  521.312481   582.643361              8.0   \n",
       "Puebla de Guzmán                    32.341527    32.341527              0.0   \n",
       "Minas de Riotinto                   26.232949    26.232949              0.0   \n",
       "Fuenteheridos                      282.087447   282.087447              0.0   \n",
       "Cortegana                           65.189048    65.189048              0.0   \n",
       "San Silvestre de Guzmán            162.866450   162.866450              0.0   \n",
       "Sanlúcar de Guadiana               744.416873   744.416873              0.0   \n",
       "Almonaster la Real                 111.856823   111.856823              1.0   \n",
       "Nerva                               19.346102    19.346102              0.0   \n",
       "\n",
       "Medida                                 7/14  \n",
       "Lugar de residencia                          \n",
       "Bollullos Par del Condado          0.188679  \n",
       "Gibraleón                          0.200000  \n",
       "Trigueros                          0.235294  \n",
       "Paterna del Campo                  0.250000  \n",
       "Isla Cristina                      0.250000  \n",
       "Ayamonte                           0.285714  \n",
       "Villalba del Alcor                 0.333333  \n",
       "Lepe                               0.352941  \n",
       "San Bartolomé de la Torre          0.395349  \n",
       "Punta Umbría                       0.428571  \n",
       "Palma del Condado (La)             0.470588  \n",
       "Niebla                             0.500000  \n",
       "Palos de la Frontera               0.500000  \n",
       "Campillo (El)                      0.500000  \n",
       "Calañas                            0.500000  \n",
       "Aroche                             0.500000  \n",
       "Condado-Campiña                    0.504491  \n",
       "Bonares                            0.527778  \n",
       "Almonte                            0.529412  \n",
       "Rociana del Condado                0.541667  \n",
       "Huelva                             0.552951  \n",
       "San Juan del Puerto                0.562500  \n",
       "Aracena                            0.580645  \n",
       "Huelva (capital)                   0.590909  \n",
       "Huelva-Costa                       0.612632  \n",
       "Sierra de Huelva-Andévalo Central  0.626866  \n",
       "Beas                               0.666667  \n",
       "Villanueva de los Castillejos      0.666667  \n",
       "Moguer                             0.678571  \n",
       "Aljaraque                          0.696970  \n",
       "Cartaya                            0.698276  \n",
       "Valverde del Camino                0.733333  \n",
       "Villarrasa                         0.800000  \n",
       "Alosno                             0.818182  \n",
       "Lucena del Puerto                  0.894737  \n",
       "Puebla de Guzmán                   1.000000  \n",
       "Minas de Riotinto                  1.000000  \n",
       "Fuenteheridos                      1.000000  \n",
       "Cortegana                          1.000000  \n",
       "San Silvestre de Guzmán            1.000000  \n",
       "Sanlúcar de Guadiana               1.000000  \n",
       "Almonaster la Real                 1.000000  \n",
       "Nerva                              1.000000  "
      ],
      "text/html": "<div>\n<style scoped>\n    .dataframe tbody tr th:only-of-type {\n        vertical-align: middle;\n    }\n\n    .dataframe tbody tr th {\n        vertical-align: top;\n    }\n\n    .dataframe thead th {\n        text-align: right;\n    }\n</style>\n<table border=\"1\" class=\"dataframe\">\n  <thead>\n    <tr style=\"text-align: right;\">\n      <th>Medida</th>\n      <th>Confirmados PDIA</th>\n      <th>Confirmados PDIA 7 días</th>\n      <th>Confirmados PDIA 14 días</th>\n      <th>Población</th>\n      <th>tasa7</th>\n      <th>tasa14</th>\n      <th>Diferencia PDIA</th>\n      <th>7/14</th>\n    </tr>\n    <tr>\n      <th>Lugar de residencia</th>\n      <th></th>\n      <th></th>\n      <th></th>\n      <th></th>\n      <th></th>\n      <th></th>\n      <th></th>\n      <th></th>\n    </tr>\n  </thead>\n  <tbody>\n    <tr>\n      <th>Bollullos Par del Condado</th>\n      <td>709.0</td>\n      <td>10.0</td>\n      <td>53.0</td>\n      <td>14387.0</td>\n      <td>69.507194</td>\n      <td>368.388128</td>\n      <td>3.0</td>\n      <td>0.188679</td>\n    </tr>\n    <tr>\n      <th>Gibraleón</th>\n      <td>555.0</td>\n      <td>3.0</td>\n      <td>15.0</td>\n      <td>12737.0</td>\n      <td>23.553427</td>\n      <td>117.767135</td>\n      <td>0.0</td>\n      <td>0.200000</td>\n    </tr>\n    <tr>\n      <th>Trigueros</th>\n      <td>245.0</td>\n      <td>4.0</td>\n      <td>17.0</td>\n      <td>7862.0</td>\n      <td>50.877639</td>\n      <td>216.229967</td>\n      <td>1.0</td>\n      <td>0.235294</td>\n    </tr>\n    <tr>\n      <th>Paterna del Campo</th>\n      <td>123.0</td>\n      <td>1.0</td>\n      <td>4.0</td>\n      <td>3457.0</td>\n      <td>28.926815</td>\n      <td>115.707261</td>\n      <td>0.0</td>\n      <td>0.250000</td>\n    </tr>\n    <tr>\n      <th>Isla Cristina</th>\n      <td>2014.0</td>\n      <td>1.0</td>\n      <td>4.0</td>\n      <td>21393.0</td>\n      <td>4.674426</td>\n      <td>18.697705</td>\n      <td>0.0</td>\n      <td>0.250000</td>\n    </tr>\n    <tr>\n      <th>Ayamonte</th>\n      <td>1252.0</td>\n      <td>2.0</td>\n      <td>7.0</td>\n      <td>21104.0</td>\n      <td>9.476876</td>\n      <td>33.169067</td>\n      <td>1.0</td>\n      <td>0.285714</td>\n    </tr>\n    <tr>\n      <th>Villalba del Alcor</th>\n      <td>469.0</td>\n      <td>3.0</td>\n      <td>9.0</td>\n      <td>3366.0</td>\n      <td>89.126560</td>\n      <td>267.379679</td>\n      <td>0.0</td>\n      <td>0.333333</td>\n    </tr>\n    <tr>\n      <th>Lepe</th>\n      <td>2036.0</td>\n      <td>6.0</td>\n      <td>17.0</td>\n      <td>27880.0</td>\n      <td>21.520803</td>\n      <td>60.975610</td>\n      <td>1.0</td>\n      <td>0.352941</td>\n    </tr>\n    <tr>\n      <th>San Bartolomé de la Torre</th>\n      <td>266.0</td>\n      <td>17.0</td>\n      <td>43.0</td>\n      <td>3761.0</td>\n      <td>452.007445</td>\n      <td>1143.312949</td>\n      <td>0.0</td>\n      <td>0.395349</td>\n    </tr>\n    <tr>\n      <th>Punta Umbría</th>\n      <td>678.0</td>\n      <td>6.0</td>\n      <td>14.0</td>\n      <td>15355.0</td>\n      <td>39.075220</td>\n      <td>91.175513</td>\n      <td>0.0</td>\n      <td>0.428571</td>\n    </tr>\n    <tr>\n      <th>Palma del Condado (La)</th>\n      <td>1007.0</td>\n      <td>8.0</td>\n      <td>17.0</td>\n      <td>10801.0</td>\n      <td>74.067216</td>\n      <td>157.392834</td>\n      <td>0.0</td>\n      <td>0.470588</td>\n    </tr>\n    <tr>\n      <th>Niebla</th>\n      <td>183.0</td>\n      <td>6.0</td>\n      <td>12.0</td>\n      <td>4116.0</td>\n      <td>145.772595</td>\n      <td>291.545190</td>\n      <td>1.0</td>\n      <td>0.500000</td>\n    </tr>\n    <tr>\n      <th>Palos de la Frontera</th>\n      <td>518.0</td>\n      <td>21.0</td>\n      <td>42.0</td>\n      <td>11742.0</td>\n      <td>178.845171</td>\n      <td>357.690342</td>\n      <td>6.0</td>\n      <td>0.500000</td>\n    </tr>\n    <tr>\n      <th>Campillo (El)</th>\n      <td>63.0</td>\n      <td>1.0</td>\n      <td>2.0</td>\n      <td>2024.0</td>\n      <td>49.407115</td>\n      <td>98.814229</td>\n      <td>0.0</td>\n      <td>0.500000</td>\n    </tr>\n    <tr>\n      <th>Calañas</th>\n      <td>173.0</td>\n      <td>1.0</td>\n      <td>2.0</td>\n      <td>2768.0</td>\n      <td>36.127168</td>\n      <td>72.254335</td>\n      <td>0.0</td>\n      <td>0.500000</td>\n    </tr>\n    <tr>\n      <th>Aroche</th>\n      <td>85.0</td>\n      <td>2.0</td>\n      <td>4.0</td>\n      <td>3054.0</td>\n      <td>65.487885</td>\n      <td>130.975769</td>\n      <td>0.0</td>\n      <td>0.500000</td>\n    </tr>\n    <tr>\n      <th>Condado-Campiña</th>\n      <td>7986.0</td>\n      <td>337.0</td>\n      <td>668.0</td>\n      <td>156231.0</td>\n      <td>215.706230</td>\n      <td>427.571993</td>\n      <td>64.0</td>\n      <td>0.504491</td>\n    </tr>\n    <tr>\n      <th>Bonares</th>\n      <td>218.0</td>\n      <td>19.0</td>\n      <td>36.0</td>\n      <td>6060.0</td>\n      <td>313.531353</td>\n      <td>594.059406</td>\n      <td>0.0</td>\n      <td>0.527778</td>\n    </tr>\n    <tr>\n      <th>Almonte</th>\n      <td>1189.0</td>\n      <td>108.0</td>\n      <td>204.0</td>\n      <td>24507.0</td>\n      <td>440.690415</td>\n      <td>832.415228</td>\n      <td>25.0</td>\n      <td>0.529412</td>\n    </tr>\n    <tr>\n      <th>Rociana del Condado</th>\n      <td>427.0</td>\n      <td>39.0</td>\n      <td>72.0</td>\n      <td>7939.0</td>\n      <td>491.245749</td>\n      <td>906.915229</td>\n      <td>10.0</td>\n      <td>0.541667</td>\n    </tr>\n    <tr>\n      <th>Huelva</th>\n      <td>26636.0</td>\n      <td>684.0</td>\n      <td>1237.0</td>\n      <td>513170.0</td>\n      <td>133.289163</td>\n      <td>241.050724</td>\n      <td>134.0</td>\n      <td>0.552951</td>\n    </tr>\n    <tr>\n      <th>San Juan del Puerto</th>\n      <td>403.0</td>\n      <td>18.0</td>\n      <td>32.0</td>\n      <td>9411.0</td>\n      <td>191.265540</td>\n      <td>340.027627</td>\n      <td>2.0</td>\n      <td>0.562500</td>\n    </tr>\n    <tr>\n      <th>Aracena</th>\n      <td>484.0</td>\n      <td>18.0</td>\n      <td>31.0</td>\n      <td>8255.0</td>\n      <td>218.049667</td>\n      <td>375.529982</td>\n      <td>6.0</td>\n      <td>0.580645</td>\n    </tr>\n    <tr>\n      <th>Huelva (capital)</th>\n      <td>6946.0</td>\n      <td>156.0</td>\n      <td>264.0</td>\n      <td>143837.0</td>\n      <td>108.456100</td>\n      <td>183.541092</td>\n      <td>26.0</td>\n      <td>0.590909</td>\n    </tr>\n    <tr>\n      <th>Huelva-Costa</th>\n      <td>15839.0</td>\n      <td>291.0</td>\n      <td>475.0</td>\n      <td>289548.0</td>\n      <td>100.501471</td>\n      <td>164.048793</td>\n      <td>50.0</td>\n      <td>0.612632</td>\n    </tr>\n    <tr>\n      <th>Sierra de Huelva-Andévalo Central</th>\n      <td>2385.0</td>\n      <td>42.0</td>\n      <td>67.0</td>\n      <td>67391.0</td>\n      <td>62.322862</td>\n      <td>99.419804</td>\n      <td>14.0</td>\n      <td>0.626866</td>\n    </tr>\n    <tr>\n      <th>Beas</th>\n      <td>166.0</td>\n      <td>2.0</td>\n      <td>3.0</td>\n      <td>4341.0</td>\n      <td>46.072334</td>\n      <td>69.108500</td>\n      <td>0.0</td>\n      <td>0.666667</td>\n    </tr>\n    <tr>\n      <th>Villanueva de los Castillejos</th>\n      <td>156.0</td>\n      <td>2.0</td>\n      <td>3.0</td>\n      <td>2825.0</td>\n      <td>70.796460</td>\n      <td>106.194690</td>\n      <td>1.0</td>\n      <td>0.666667</td>\n    </tr>\n    <tr>\n      <th>Moguer</th>\n      <td>963.0</td>\n      <td>57.0</td>\n      <td>84.0</td>\n      <td>21867.0</td>\n      <td>260.666758</td>\n      <td>384.140486</td>\n      <td>8.0</td>\n      <td>0.678571</td>\n    </tr>\n    <tr>\n      <th>Aljaraque</th>\n      <td>964.0</td>\n      <td>23.0</td>\n      <td>33.0</td>\n      <td>21474.0</td>\n      <td>107.106268</td>\n      <td>153.674211</td>\n      <td>5.0</td>\n      <td>0.696970</td>\n    </tr>\n    <tr>\n      <th>Cartaya</th>\n      <td>1116.0</td>\n      <td>81.0</td>\n      <td>116.0</td>\n      <td>20083.0</td>\n      <td>403.326196</td>\n      <td>577.602948</td>\n      <td>11.0</td>\n      <td>0.698276</td>\n    </tr>\n    <tr>\n      <th>Valverde del Camino</th>\n      <td>442.0</td>\n      <td>11.0</td>\n      <td>15.0</td>\n      <td>12750.0</td>\n      <td>86.274510</td>\n      <td>117.647059</td>\n      <td>6.0</td>\n      <td>0.733333</td>\n    </tr>\n    <tr>\n      <th>Villarrasa</th>\n      <td>138.0</td>\n      <td>4.0</td>\n      <td>5.0</td>\n      <td>2211.0</td>\n      <td>180.913614</td>\n      <td>226.142017</td>\n      <td>0.0</td>\n      <td>0.800000</td>\n    </tr>\n    <tr>\n      <th>Alosno</th>\n      <td>160.0</td>\n      <td>9.0</td>\n      <td>11.0</td>\n      <td>3933.0</td>\n      <td>228.832952</td>\n      <td>279.684719</td>\n      <td>4.0</td>\n      <td>0.818182</td>\n    </tr>\n    <tr>\n      <th>Lucena del Puerto</th>\n      <td>181.0</td>\n      <td>17.0</td>\n      <td>19.0</td>\n      <td>3261.0</td>\n      <td>521.312481</td>\n      <td>582.643361</td>\n      <td>8.0</td>\n      <td>0.894737</td>\n    </tr>\n    <tr>\n      <th>Puebla de Guzmán</th>\n      <td>111.0</td>\n      <td>1.0</td>\n      <td>1.0</td>\n      <td>3092.0</td>\n      <td>32.341527</td>\n      <td>32.341527</td>\n      <td>0.0</td>\n      <td>1.000000</td>\n    </tr>\n    <tr>\n      <th>Minas de Riotinto</th>\n      <td>101.0</td>\n      <td>1.0</td>\n      <td>1.0</td>\n      <td>3812.0</td>\n      <td>26.232949</td>\n      <td>26.232949</td>\n      <td>0.0</td>\n      <td>1.000000</td>\n    </tr>\n    <tr>\n      <th>Fuenteheridos</th>\n      <td>5.0</td>\n      <td>2.0</td>\n      <td>2.0</td>\n      <td>709.0</td>\n      <td>282.087447</td>\n      <td>282.087447</td>\n      <td>0.0</td>\n      <td>1.000000</td>\n    </tr>\n    <tr>\n      <th>Cortegana</th>\n      <td>192.0</td>\n      <td>3.0</td>\n      <td>3.0</td>\n      <td>4602.0</td>\n      <td>65.189048</td>\n      <td>65.189048</td>\n      <td>0.0</td>\n      <td>1.000000</td>\n    </tr>\n    <tr>\n      <th>San Silvestre de Guzmán</th>\n      <td>14.0</td>\n      <td>1.0</td>\n      <td>1.0</td>\n      <td>614.0</td>\n      <td>162.866450</td>\n      <td>162.866450</td>\n      <td>0.0</td>\n      <td>1.000000</td>\n    </tr>\n    <tr>\n      <th>Sanlúcar de Guadiana</th>\n      <td>6.0</td>\n      <td>3.0</td>\n      <td>3.0</td>\n      <td>403.0</td>\n      <td>744.416873</td>\n      <td>744.416873</td>\n      <td>0.0</td>\n      <td>1.000000</td>\n    </tr>\n    <tr>\n      <th>Almonaster la Real</th>\n      <td>55.0</td>\n      <td>2.0</td>\n      <td>2.0</td>\n      <td>1788.0</td>\n      <td>111.856823</td>\n      <td>111.856823</td>\n      <td>1.0</td>\n      <td>1.000000</td>\n    </tr>\n    <tr>\n      <th>Nerva</th>\n      <td>153.0</td>\n      <td>1.0</td>\n      <td>1.0</td>\n      <td>5169.0</td>\n      <td>19.346102</td>\n      <td>19.346102</td>\n      <td>0.0</td>\n      <td>1.000000</td>\n    </tr>\n  </tbody>\n</table>\n</div>"
     },
     "metadata": {},
     "execution_count": 18
    }
   ],
   "source": [
    "# Peso de la tasa de la última semana en relación con la tasa a 14 días \n",
    "# Mejor cuanto menor. Valor 1 significa que no había casos antes de 7 días.\n",
    "tabla['7/14'] = tabla['tasa7'] / tabla['tasa14']\n",
    "tabla.fillna(0).sort_values('7/14', ascending=True)"
   ]
  },
  {
   "cell_type": "code",
   "execution_count": null,
   "metadata": {},
   "outputs": [],
   "source": []
  }
 ]
}