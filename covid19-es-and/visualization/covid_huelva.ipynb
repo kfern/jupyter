{
 "metadata": {
  "language_info": {
   "codemirror_mode": {
    "name": "ipython",
    "version": 3
   },
   "file_extension": ".py",
   "mimetype": "text/x-python",
   "name": "python",
   "nbconvert_exporter": "python",
   "pygments_lexer": "ipython3",
   "version": "3.8.6"
  },
  "orig_nbformat": 2,
  "kernelspec": {
   "name": "python3",
   "display_name": "Python 3",
   "language": "python"
  }
 },
 "nbformat": 4,
 "nbformat_minor": 2,
 "cells": [
  {
   "cell_type": "code",
   "execution_count": 1,
   "metadata": {},
   "outputs": [],
   "source": [
    "import pandas as pd\n",
    "pd.set_option('display.max_rows', None) # Print all rows"
   ]
  },
  {
   "cell_type": "code",
   "execution_count": 2,
   "metadata": {},
   "outputs": [],
   "source": [
    "# FIX SSL: CERTIFICATE_VERIFY_FAILED with Python3\n",
    "# https://stackoverflow.com/a/49174340\n",
    "import ssl\n",
    "\n",
    "ssl._create_default_https_context = ssl._create_unverified_context"
   ]
  },
  {
   "cell_type": "code",
   "execution_count": 3,
   "metadata": {},
   "outputs": [],
   "source": [
    "url = 'https://www.juntadeandalucia.es/institutodeestadisticaycartografia/badea/stpivot/stpivot/Print?cube=013d884c-cfc5-4c21-9e78-e26225682afd&type=3&foto=si&ejecutaDesde=&codConsulta=38668&consTipoVisua=JP'\n",
    "fields = ['Lugar de residencia', 'Medida', 'Valor']\n",
    "df = pd.read_csv(url, delimiter=';', usecols=fields, decimal=',')"
   ]
  },
  {
   "cell_type": "code",
   "execution_count": 4,
   "metadata": {},
   "outputs": [
    {
     "output_type": "execute_result",
     "data": {
      "text/plain": [
       "  Lugar de residencia                    Medida              Valor\n",
       "0              Huelva                 Población             513170\n",
       "1              Huelva          Confirmados PDIA              29693\n",
       "2              Huelva  Confirmados PDIA 14 días               1162\n",
       "3              Huelva         Tasa PDIA 14 días  226,4356840812986\n",
       "4              Huelva   Confirmados PDIA 7 días                617\n",
       "5              Huelva        Total Confirmados               29869\n",
       "6              Huelva                   Curados              26648\n",
       "7              Huelva                Fallecidos                374"
      ],
      "text/html": "<div>\n<style scoped>\n    .dataframe tbody tr th:only-of-type {\n        vertical-align: middle;\n    }\n\n    .dataframe tbody tr th {\n        vertical-align: top;\n    }\n\n    .dataframe thead th {\n        text-align: right;\n    }\n</style>\n<table border=\"1\" class=\"dataframe\">\n  <thead>\n    <tr style=\"text-align: right;\">\n      <th></th>\n      <th>Lugar de residencia</th>\n      <th>Medida</th>\n      <th>Valor</th>\n    </tr>\n  </thead>\n  <tbody>\n    <tr>\n      <th>0</th>\n      <td>Huelva</td>\n      <td>Población</td>\n      <td>513170</td>\n    </tr>\n    <tr>\n      <th>1</th>\n      <td>Huelva</td>\n      <td>Confirmados PDIA</td>\n      <td>29693</td>\n    </tr>\n    <tr>\n      <th>2</th>\n      <td>Huelva</td>\n      <td>Confirmados PDIA 14 días</td>\n      <td>1162</td>\n    </tr>\n    <tr>\n      <th>3</th>\n      <td>Huelva</td>\n      <td>Tasa PDIA 14 días</td>\n      <td>226,4356840812986</td>\n    </tr>\n    <tr>\n      <th>4</th>\n      <td>Huelva</td>\n      <td>Confirmados PDIA 7 días</td>\n      <td>617</td>\n    </tr>\n    <tr>\n      <th>5</th>\n      <td>Huelva</td>\n      <td>Total Confirmados</td>\n      <td>29869</td>\n    </tr>\n    <tr>\n      <th>6</th>\n      <td>Huelva</td>\n      <td>Curados</td>\n      <td>26648</td>\n    </tr>\n    <tr>\n      <th>7</th>\n      <td>Huelva</td>\n      <td>Fallecidos</td>\n      <td>374</td>\n    </tr>\n  </tbody>\n</table>\n</div>"
     },
     "metadata": {},
     "execution_count": 4
    }
   ],
   "source": [
    "df[df['Lugar de residencia'] == 'Huelva']"
   ]
  },
  {
   "cell_type": "code",
   "execution_count": 5,
   "metadata": {},
   "outputs": [],
   "source": [
    "df['Valor'] = pd.to_numeric(df['Valor'],errors='coerce')"
   ]
  },
  {
   "cell_type": "code",
   "execution_count": 6,
   "metadata": {},
   "outputs": [],
   "source": [
    "dfAnterior = pd.read_csv('covid_huelva.csv', index_col='Lugar de residencia')"
   ]
  },
  {
   "cell_type": "code",
   "execution_count": 7,
   "metadata": {
    "tags": []
   },
   "outputs": [
    {
     "output_type": "stream",
     "name": "stdout",
     "text": [
      "Confirmados PCR en la provincia de Huelva:  29693.0\n",
      "<ipython-input-7-31b732756b19>:2: UserWarning: Boolean Series key will be reindexed to match DataFrame index.\n",
      "  p = df[df['Lugar de residencia'] == 'Huelva'][df['Medida'] == 'Confirmados PDIA']['Valor'].values[0]\n"
     ]
    }
   ],
   "source": [
    "# Confirmados PCR provincia Huelva\n",
    "p = df[df['Lugar de residencia'] == 'Huelva'][df['Medida'] == 'Confirmados PDIA']['Valor'].values[0]\n",
    "print('Confirmados PCR en la provincia de Huelva: ', p)"
   ]
  },
  {
   "cell_type": "code",
   "execution_count": 8,
   "metadata": {
    "tags": []
   },
   "outputs": [
    {
     "output_type": "stream",
     "name": "stdout",
     "text": [
      "Confirmados PCR en Huelva capital:  7761.0\n",
      "<ipython-input-8-e81bfb40e710>:2: UserWarning: Boolean Series key will be reindexed to match DataFrame index.\n",
      "  c = df[df['Lugar de residencia'] == 'Huelva (capital)'][df['Medida'] == 'Confirmados PDIA']['Valor'].values[0]\n"
     ]
    }
   ],
   "source": [
    "# Confirmados PCR Huelva capitalpd\n",
    "c = df[df['Lugar de residencia'] == 'Huelva (capital)'][df['Medida'] == 'Confirmados PDIA']['Valor'].values[0]\n",
    "print('Confirmados PCR en Huelva capital: ', c)"
   ]
  },
  {
   "cell_type": "code",
   "execution_count": 9,
   "metadata": {
    "tags": []
   },
   "outputs": [
    {
     "output_type": "stream",
     "name": "stderr",
     "text": [
      "<ipython-input-9-f09dd2050cc1>:1: UserWarning: Boolean Series key will be reindexed to match DataFrame index.\n  c7 = df[df['Lugar de residencia'] == 'Huelva (capital)'][df['Medida'] == 'Confirmados PDIA 7 días']['Valor'].values[0]\n<ipython-input-9-f09dd2050cc1>:2: UserWarning: Boolean Series key will be reindexed to match DataFrame index.\n  c14 = df[df['Lugar de residencia'] == 'Huelva (capital)'][df['Medida'] == 'Confirmados PDIA 14 días']['Valor'].values[0]\n<ipython-input-9-f09dd2050cc1>:3: UserWarning: Boolean Series key will be reindexed to match DataFrame index.\n  p = df[df['Lugar de residencia'] == 'Huelva (capital)'][df['Medida'] == 'Población']['Valor'].values[0]\n"
     ]
    }
   ],
   "source": [
    "c7 = df[df['Lugar de residencia'] == 'Huelva (capital)'][df['Medida'] == 'Confirmados PDIA 7 días']['Valor'].values[0]\n",
    "c14 = df[df['Lugar de residencia'] == 'Huelva (capital)'][df['Medida'] == 'Confirmados PDIA 14 días']['Valor'].values[0]\n",
    "p = df[df['Lugar de residencia'] == 'Huelva (capital)'][df['Medida'] == 'Población']['Valor'].values[0]"
   ]
  },
  {
   "cell_type": "code",
   "execution_count": 10,
   "metadata": {
    "tags": []
   },
   "outputs": [
    {
     "output_type": "stream",
     "name": "stdout",
     "text": [
      "Huelva (capital)\n\nUn positivo PCR cada 795 personas en los últimos 7 días \n\nUn positivo PCR cada 402 personas en los últimos 14 días\n"
     ]
    }
   ],
   "source": [
    "print('Huelva (capital)\\n')\n",
    "#print('Confirmados PCR 7 días x 1,000 habitantes: ', f\"{c7/(p/1000):.5f}\")\n",
    "print('Un positivo PCR cada', f\"{p/c7:.0f}\", 'personas en los últimos 7 días', '\\n')\n",
    "#print('Confirmados PCR 14 días x 1,000 habitantes: ', f\"{c14/(p/1000):.5f}\")\n",
    "print('Un positivo PCR cada', f\"{p/c14:.0f}\", 'personas en los últimos 14 días')"
   ]
  },
  {
   "cell_type": "code",
   "execution_count": 11,
   "metadata": {},
   "outputs": [],
   "source": [
    "filtro = ((df['Medida'] == 'Confirmados PDIA')| (df['Medida'] == 'Confirmados PDIA 7 días') | (df['Medida'] == 'Población' ) | (df['Medida'] == 'Confirmados PDIA 14 días')) & (df['Valor'] > 0)\n",
    "tabla = pd.pivot_table(df.loc[filtro], values='Valor', index='Lugar de residencia', columns='Medida').dropna()"
   ]
  },
  {
   "cell_type": "code",
   "execution_count": 12,
   "metadata": {},
   "outputs": [],
   "source": [
    "# Reorder columns\n",
    "tabla = tabla[['Confirmados PDIA', 'Confirmados PDIA 7 días', 'Confirmados PDIA 14 días', 'Población']]"
   ]
  },
  {
   "cell_type": "code",
   "execution_count": 13,
   "metadata": {},
   "outputs": [],
   "source": [
    "tabla['tasa7'] = tabla['Confirmados PDIA 7 días']/tabla['Población']*100000\n",
    "tabla['tasa14'] = tabla['Confirmados PDIA 14 días']/tabla['Población']*100000"
   ]
  },
  {
   "cell_type": "code",
   "execution_count": 14,
   "metadata": {},
   "outputs": [],
   "source": [
    "tabla['Diferencia PDIA'] = tabla['Confirmados PDIA'] - dfAnterior['Confirmados PDIA']"
   ]
  },
  {
   "cell_type": "code",
   "execution_count": 15,
   "metadata": {},
   "outputs": [
    {
     "output_type": "execute_result",
     "data": {
      "text/plain": [
       "Medida                             Confirmados PDIA  Confirmados PDIA 7 días  \\\n",
       "Lugar de residencia                                                            \n",
       "Huelva                                      29693.0                    617.0   \n",
       "Condado-Campiña                              9518.0                    282.0   \n",
       "Huelva-Costa                                17202.0                    281.0   \n",
       "Huelva (capital)                             7761.0                    181.0   \n",
       "Almonte                                      1672.0                     68.0   \n",
       "Bollullos Par del Condado                     913.0                     50.0   \n",
       "Moguer                                       1169.0                     50.0   \n",
       "Sierra de Huelva-Andévalo Central            2632.0                     54.0   \n",
       "Valverde del Camino                           511.0                     27.0   \n",
       "Palma del Condado (La)                       1076.0                     28.0   \n",
       "Punta Umbría                                  760.0                     38.0   \n",
       "Isla Cristina                                2112.0                     25.0   \n",
       "Aljaraque                                    1026.0                     15.0   \n",
       "San Juan del Puerto                           471.0                     14.0   \n",
       "Villarrasa                                    153.0                      6.0   \n",
       "Lepe                                         2102.0                     14.0   \n",
       "Galaroza                                       41.0                      9.0   \n",
       "Niebla                                        207.0                      7.0   \n",
       "Cartaya                                      1294.0                      5.0   \n",
       "Villalba del Alcor                            479.0                      7.0   \n",
       "Gibraleón                                     601.0                      7.0   \n",
       "Cerro de Andévalo (El)                        138.0                      2.0   \n",
       "Bonares                                       261.0                      3.0   \n",
       "Beas                                          204.0                      2.0   \n",
       "Villablanca                                   185.0                      2.0   \n",
       "San Bartolomé de la Torre                     286.0                      3.0   \n",
       "\n",
       "Medida                             Confirmados PDIA 14 días  Población  \\\n",
       "Lugar de residencia                                                      \n",
       "Huelva                                               1162.0   513170.0   \n",
       "Condado-Campiña                                       521.0   156231.0   \n",
       "Huelva-Costa                                          552.0   289548.0   \n",
       "Huelva (capital)                                      358.0   143837.0   \n",
       "Almonte                                               161.0    24507.0   \n",
       "Bollullos Par del Condado                              97.0    14387.0   \n",
       "Moguer                                                 67.0    21867.0   \n",
       "Sierra de Huelva-Andévalo Central                      88.0    67391.0   \n",
       "Valverde del Camino                                    37.0    12750.0   \n",
       "Palma del Condado (La)                                 39.0    10801.0   \n",
       "Punta Umbría                                           47.0    15355.0   \n",
       "Isla Cristina                                          52.0    21393.0   \n",
       "Aljaraque                                              28.0    21474.0   \n",
       "San Juan del Puerto                                    21.0     9411.0   \n",
       "Villarrasa                                              6.0     2211.0   \n",
       "Lepe                                                   23.0    27880.0   \n",
       "Galaroza                                               14.0     1382.0   \n",
       "Niebla                                                 13.0     4116.0   \n",
       "Cartaya                                                25.0    20083.0   \n",
       "Villalba del Alcor                                      8.0     3366.0   \n",
       "Gibraleón                                              15.0    12737.0   \n",
       "Cerro de Andévalo (El)                                  2.0     2327.0   \n",
       "Bonares                                                 7.0     6060.0   \n",
       "Beas                                                    6.0     4341.0   \n",
       "Villablanca                                             5.0     2885.0   \n",
       "San Bartolomé de la Torre                               4.0     3761.0   \n",
       "\n",
       "Medida                                  tasa7       tasa14  Diferencia PDIA  \n",
       "Lugar de residencia                                                          \n",
       "Huelva                             120.233061   226.435684            147.0  \n",
       "Condado-Campiña                    180.501949   333.480551             74.0  \n",
       "Huelva-Costa                        97.047812   190.641966             60.0  \n",
       "Huelva (capital)                   125.836885   248.892844             39.0  \n",
       "Almonte                            277.471743   656.955156             17.0  \n",
       "Bollullos Par del Condado          347.535970   674.219782             17.0  \n",
       "Moguer                             228.655051   306.397768             14.0  \n",
       "Sierra de Huelva-Andévalo Central   80.129394   130.581235             13.0  \n",
       "Valverde del Camino                211.764706   290.196078             10.0  \n",
       "Palma del Condado (La)             259.235256   361.077678             10.0  \n",
       "Punta Umbría                       247.476392   306.089222              6.0  \n",
       "Isla Cristina                      116.860655   243.070163              6.0  \n",
       "Aljaraque                           69.851914   130.390239              5.0  \n",
       "San Juan del Puerto                148.762087   223.143130              3.0  \n",
       "Villarrasa                         271.370421   271.370421              3.0  \n",
       "Lepe                                50.215208    82.496413              2.0  \n",
       "Galaroza                           651.230101  1013.024602              2.0  \n",
       "Niebla                             170.068027   315.840622              2.0  \n",
       "Cartaya                             24.896679   124.483394              2.0  \n",
       "Villalba del Alcor                 207.961973   237.670826              2.0  \n",
       "Gibraleón                           54.957996   117.767135              1.0  \n",
       "Cerro de Andévalo (El)              85.947572    85.947572              1.0  \n",
       "Bonares                             49.504950   115.511551              1.0  \n",
       "Beas                                46.072334   138.217001              1.0  \n",
       "Villablanca                         69.324090   173.310225              1.0  \n",
       "San Bartolomé de la Torre           79.766020   106.354693              NaN  "
      ],
      "text/html": "<div>\n<style scoped>\n    .dataframe tbody tr th:only-of-type {\n        vertical-align: middle;\n    }\n\n    .dataframe tbody tr th {\n        vertical-align: top;\n    }\n\n    .dataframe thead th {\n        text-align: right;\n    }\n</style>\n<table border=\"1\" class=\"dataframe\">\n  <thead>\n    <tr style=\"text-align: right;\">\n      <th>Medida</th>\n      <th>Confirmados PDIA</th>\n      <th>Confirmados PDIA 7 días</th>\n      <th>Confirmados PDIA 14 días</th>\n      <th>Población</th>\n      <th>tasa7</th>\n      <th>tasa14</th>\n      <th>Diferencia PDIA</th>\n    </tr>\n    <tr>\n      <th>Lugar de residencia</th>\n      <th></th>\n      <th></th>\n      <th></th>\n      <th></th>\n      <th></th>\n      <th></th>\n      <th></th>\n    </tr>\n  </thead>\n  <tbody>\n    <tr>\n      <th>Huelva</th>\n      <td>29693.0</td>\n      <td>617.0</td>\n      <td>1162.0</td>\n      <td>513170.0</td>\n      <td>120.233061</td>\n      <td>226.435684</td>\n      <td>147.0</td>\n    </tr>\n    <tr>\n      <th>Condado-Campiña</th>\n      <td>9518.0</td>\n      <td>282.0</td>\n      <td>521.0</td>\n      <td>156231.0</td>\n      <td>180.501949</td>\n      <td>333.480551</td>\n      <td>74.0</td>\n    </tr>\n    <tr>\n      <th>Huelva-Costa</th>\n      <td>17202.0</td>\n      <td>281.0</td>\n      <td>552.0</td>\n      <td>289548.0</td>\n      <td>97.047812</td>\n      <td>190.641966</td>\n      <td>60.0</td>\n    </tr>\n    <tr>\n      <th>Huelva (capital)</th>\n      <td>7761.0</td>\n      <td>181.0</td>\n      <td>358.0</td>\n      <td>143837.0</td>\n      <td>125.836885</td>\n      <td>248.892844</td>\n      <td>39.0</td>\n    </tr>\n    <tr>\n      <th>Almonte</th>\n      <td>1672.0</td>\n      <td>68.0</td>\n      <td>161.0</td>\n      <td>24507.0</td>\n      <td>277.471743</td>\n      <td>656.955156</td>\n      <td>17.0</td>\n    </tr>\n    <tr>\n      <th>Bollullos Par del Condado</th>\n      <td>913.0</td>\n      <td>50.0</td>\n      <td>97.0</td>\n      <td>14387.0</td>\n      <td>347.535970</td>\n      <td>674.219782</td>\n      <td>17.0</td>\n    </tr>\n    <tr>\n      <th>Moguer</th>\n      <td>1169.0</td>\n      <td>50.0</td>\n      <td>67.0</td>\n      <td>21867.0</td>\n      <td>228.655051</td>\n      <td>306.397768</td>\n      <td>14.0</td>\n    </tr>\n    <tr>\n      <th>Sierra de Huelva-Andévalo Central</th>\n      <td>2632.0</td>\n      <td>54.0</td>\n      <td>88.0</td>\n      <td>67391.0</td>\n      <td>80.129394</td>\n      <td>130.581235</td>\n      <td>13.0</td>\n    </tr>\n    <tr>\n      <th>Valverde del Camino</th>\n      <td>511.0</td>\n      <td>27.0</td>\n      <td>37.0</td>\n      <td>12750.0</td>\n      <td>211.764706</td>\n      <td>290.196078</td>\n      <td>10.0</td>\n    </tr>\n    <tr>\n      <th>Palma del Condado (La)</th>\n      <td>1076.0</td>\n      <td>28.0</td>\n      <td>39.0</td>\n      <td>10801.0</td>\n      <td>259.235256</td>\n      <td>361.077678</td>\n      <td>10.0</td>\n    </tr>\n    <tr>\n      <th>Punta Umbría</th>\n      <td>760.0</td>\n      <td>38.0</td>\n      <td>47.0</td>\n      <td>15355.0</td>\n      <td>247.476392</td>\n      <td>306.089222</td>\n      <td>6.0</td>\n    </tr>\n    <tr>\n      <th>Isla Cristina</th>\n      <td>2112.0</td>\n      <td>25.0</td>\n      <td>52.0</td>\n      <td>21393.0</td>\n      <td>116.860655</td>\n      <td>243.070163</td>\n      <td>6.0</td>\n    </tr>\n    <tr>\n      <th>Aljaraque</th>\n      <td>1026.0</td>\n      <td>15.0</td>\n      <td>28.0</td>\n      <td>21474.0</td>\n      <td>69.851914</td>\n      <td>130.390239</td>\n      <td>5.0</td>\n    </tr>\n    <tr>\n      <th>San Juan del Puerto</th>\n      <td>471.0</td>\n      <td>14.0</td>\n      <td>21.0</td>\n      <td>9411.0</td>\n      <td>148.762087</td>\n      <td>223.143130</td>\n      <td>3.0</td>\n    </tr>\n    <tr>\n      <th>Villarrasa</th>\n      <td>153.0</td>\n      <td>6.0</td>\n      <td>6.0</td>\n      <td>2211.0</td>\n      <td>271.370421</td>\n      <td>271.370421</td>\n      <td>3.0</td>\n    </tr>\n    <tr>\n      <th>Lepe</th>\n      <td>2102.0</td>\n      <td>14.0</td>\n      <td>23.0</td>\n      <td>27880.0</td>\n      <td>50.215208</td>\n      <td>82.496413</td>\n      <td>2.0</td>\n    </tr>\n    <tr>\n      <th>Galaroza</th>\n      <td>41.0</td>\n      <td>9.0</td>\n      <td>14.0</td>\n      <td>1382.0</td>\n      <td>651.230101</td>\n      <td>1013.024602</td>\n      <td>2.0</td>\n    </tr>\n    <tr>\n      <th>Niebla</th>\n      <td>207.0</td>\n      <td>7.0</td>\n      <td>13.0</td>\n      <td>4116.0</td>\n      <td>170.068027</td>\n      <td>315.840622</td>\n      <td>2.0</td>\n    </tr>\n    <tr>\n      <th>Cartaya</th>\n      <td>1294.0</td>\n      <td>5.0</td>\n      <td>25.0</td>\n      <td>20083.0</td>\n      <td>24.896679</td>\n      <td>124.483394</td>\n      <td>2.0</td>\n    </tr>\n    <tr>\n      <th>Villalba del Alcor</th>\n      <td>479.0</td>\n      <td>7.0</td>\n      <td>8.0</td>\n      <td>3366.0</td>\n      <td>207.961973</td>\n      <td>237.670826</td>\n      <td>2.0</td>\n    </tr>\n    <tr>\n      <th>Gibraleón</th>\n      <td>601.0</td>\n      <td>7.0</td>\n      <td>15.0</td>\n      <td>12737.0</td>\n      <td>54.957996</td>\n      <td>117.767135</td>\n      <td>1.0</td>\n    </tr>\n    <tr>\n      <th>Cerro de Andévalo (El)</th>\n      <td>138.0</td>\n      <td>2.0</td>\n      <td>2.0</td>\n      <td>2327.0</td>\n      <td>85.947572</td>\n      <td>85.947572</td>\n      <td>1.0</td>\n    </tr>\n    <tr>\n      <th>Bonares</th>\n      <td>261.0</td>\n      <td>3.0</td>\n      <td>7.0</td>\n      <td>6060.0</td>\n      <td>49.504950</td>\n      <td>115.511551</td>\n      <td>1.0</td>\n    </tr>\n    <tr>\n      <th>Beas</th>\n      <td>204.0</td>\n      <td>2.0</td>\n      <td>6.0</td>\n      <td>4341.0</td>\n      <td>46.072334</td>\n      <td>138.217001</td>\n      <td>1.0</td>\n    </tr>\n    <tr>\n      <th>Villablanca</th>\n      <td>185.0</td>\n      <td>2.0</td>\n      <td>5.0</td>\n      <td>2885.0</td>\n      <td>69.324090</td>\n      <td>173.310225</td>\n      <td>1.0</td>\n    </tr>\n    <tr>\n      <th>San Bartolomé de la Torre</th>\n      <td>286.0</td>\n      <td>3.0</td>\n      <td>4.0</td>\n      <td>3761.0</td>\n      <td>79.766020</td>\n      <td>106.354693</td>\n      <td>NaN</td>\n    </tr>\n  </tbody>\n</table>\n</div>"
     },
     "metadata": {},
     "execution_count": 15
    }
   ],
   "source": [
    "# Nuevos casos desde la última captura\n",
    "tabla[tabla['Diferencia PDIA'] != 0].sort_values('Diferencia PDIA', ascending=False)"
   ]
  },
  {
   "cell_type": "code",
   "execution_count": 16,
   "metadata": {},
   "outputs": [],
   "source": [
    "if tabla[tabla['Diferencia PDIA'] != 0]['Diferencia PDIA'].sum() != 0:\n",
    "  # Save to csv\n",
    "  tabla.to_csv('covid_huelva.csv', encoding='utf-8', header=True, index=True)  "
   ]
  },
  {
   "cell_type": "code",
   "execution_count": 17,
   "metadata": {},
   "outputs": [
    {
     "output_type": "execute_result",
     "data": {
      "text/plain": [
       "Medida                             Confirmados PDIA  Confirmados PDIA 7 días  \\\n",
       "Lugar de residencia                                                            \n",
       "Galaroza                                       41.0                      9.0   \n",
       "Bollullos Par del Condado                     913.0                     50.0   \n",
       "Almonte                                      1672.0                     68.0   \n",
       "Escacena del Campo                            154.0                      6.0   \n",
       "Palma del Condado (La)                       1076.0                     28.0   \n",
       "Condado-Campiña                              9518.0                    282.0   \n",
       "Niebla                                        207.0                      7.0   \n",
       "Nerva                                         169.0                      7.0   \n",
       "Moguer                                       1169.0                     50.0   \n",
       "Punta Umbría                                  760.0                     38.0   \n",
       "Valverde del Camino                           511.0                     27.0   \n",
       "Villarrasa                                    153.0                      6.0   \n",
       "Huelva (capital)                             7761.0                    181.0   \n",
       "Lucena del Puerto                             240.0                      7.0   \n",
       "Isla Cristina                                2112.0                     25.0   \n",
       "Rociana del Condado                           534.0                      8.0   \n",
       "Villalba del Alcor                            479.0                      7.0   \n",
       "Huelva                                      29693.0                    617.0   \n",
       "San Juan del Puerto                           471.0                     14.0   \n",
       "Palos de la Frontera                          605.0                      7.0   \n",
       "Huelva-Costa                                17202.0                    281.0   \n",
       "Manzanilla                                     89.0                      3.0   \n",
       "Villablanca                                   185.0                      2.0   \n",
       "Trigueros                                     279.0                      6.0   \n",
       "Beas                                          204.0                      2.0   \n",
       "Sierra de Huelva-Andévalo Central            2632.0                     54.0   \n",
       "Aljaraque                                    1026.0                     15.0   \n",
       "Cartaya                                      1294.0                      5.0   \n",
       "Gibraleón                                     601.0                      7.0   \n",
       "Bonares                                       261.0                      3.0   \n",
       "Calañas                                       177.0                      3.0   \n",
       "San Bartolomé de la Torre                     286.0                      3.0   \n",
       "Cerro de Andévalo (El)                        138.0                      2.0   \n",
       "Lepe                                         2102.0                     14.0   \n",
       "Minas de Riotinto                             117.0                      3.0   \n",
       "Aracena                                       514.0                      1.0   \n",
       "Cumbres Mayores                                50.0                      1.0   \n",
       "Zalamea la Real                                87.0                      1.0   \n",
       "Alosno                                        163.0                      1.0   \n",
       "\n",
       "Medida                             Confirmados PDIA 14 días  Población  \\\n",
       "Lugar de residencia                                                      \n",
       "Galaroza                                               14.0     1382.0   \n",
       "Bollullos Par del Condado                              97.0    14387.0   \n",
       "Almonte                                               161.0    24507.0   \n",
       "Escacena del Campo                                     10.0     2287.0   \n",
       "Palma del Condado (La)                                 39.0    10801.0   \n",
       "Condado-Campiña                                       521.0   156231.0   \n",
       "Niebla                                                 13.0     4116.0   \n",
       "Nerva                                                  16.0     5169.0   \n",
       "Moguer                                                 67.0    21867.0   \n",
       "Punta Umbría                                           47.0    15355.0   \n",
       "Valverde del Camino                                    37.0    12750.0   \n",
       "Villarrasa                                              6.0     2211.0   \n",
       "Huelva (capital)                                      358.0   143837.0   \n",
       "Lucena del Puerto                                       8.0     3261.0   \n",
       "Isla Cristina                                          52.0    21393.0   \n",
       "Rociana del Condado                                    19.0     7939.0   \n",
       "Villalba del Alcor                                      8.0     3366.0   \n",
       "Huelva                                               1162.0   513170.0   \n",
       "San Juan del Puerto                                    21.0     9411.0   \n",
       "Palos de la Frontera                                   23.0    11742.0   \n",
       "Huelva-Costa                                          552.0   289548.0   \n",
       "Manzanilla                                              4.0     2118.0   \n",
       "Villablanca                                             5.0     2885.0   \n",
       "Trigueros                                              12.0     7862.0   \n",
       "Beas                                                    6.0     4341.0   \n",
       "Sierra de Huelva-Andévalo Central                      88.0    67391.0   \n",
       "Aljaraque                                              28.0    21474.0   \n",
       "Cartaya                                                25.0    20083.0   \n",
       "Gibraleón                                              15.0    12737.0   \n",
       "Bonares                                                 7.0     6060.0   \n",
       "Calañas                                                 3.0     2768.0   \n",
       "San Bartolomé de la Torre                               4.0     3761.0   \n",
       "Cerro de Andévalo (El)                                  2.0     2327.0   \n",
       "Lepe                                                   23.0    27880.0   \n",
       "Minas de Riotinto                                       3.0     3812.0   \n",
       "Aracena                                                 5.0     8255.0   \n",
       "Cumbres Mayores                                         1.0     1749.0   \n",
       "Zalamea la Real                                         1.0     3054.0   \n",
       "Alosno                                                  1.0     3933.0   \n",
       "\n",
       "Medida                                  tasa7       tasa14  Diferencia PDIA  \n",
       "Lugar de residencia                                                          \n",
       "Galaroza                           651.230101  1013.024602              2.0  \n",
       "Bollullos Par del Condado          347.535970   674.219782             17.0  \n",
       "Almonte                            277.471743   656.955156             17.0  \n",
       "Escacena del Campo                 262.352427   437.254045              0.0  \n",
       "Palma del Condado (La)             259.235256   361.077678             10.0  \n",
       "Condado-Campiña                    180.501949   333.480551             74.0  \n",
       "Niebla                             170.068027   315.840622              2.0  \n",
       "Nerva                              135.422712   309.537628              0.0  \n",
       "Moguer                             228.655051   306.397768             14.0  \n",
       "Punta Umbría                       247.476392   306.089222              6.0  \n",
       "Valverde del Camino                211.764706   290.196078             10.0  \n",
       "Villarrasa                         271.370421   271.370421              3.0  \n",
       "Huelva (capital)                   125.836885   248.892844             39.0  \n",
       "Lucena del Puerto                  214.658080   245.323520              0.0  \n",
       "Isla Cristina                      116.860655   243.070163              6.0  \n",
       "Rociana del Condado                100.768359   239.324852              0.0  \n",
       "Villalba del Alcor                 207.961973   237.670826              2.0  \n",
       "Huelva                             120.233061   226.435684            147.0  \n",
       "San Juan del Puerto                148.762087   223.143130              3.0  \n",
       "Palos de la Frontera                59.615057   195.878045              0.0  \n",
       "Huelva-Costa                        97.047812   190.641966             60.0  \n",
       "Manzanilla                         141.643059   188.857413              0.0  \n",
       "Villablanca                         69.324090   173.310225              1.0  \n",
       "Trigueros                           76.316459   152.632918              0.0  \n",
       "Beas                                46.072334   138.217001              1.0  \n",
       "Sierra de Huelva-Andévalo Central   80.129394   130.581235             13.0  \n",
       "Aljaraque                           69.851914   130.390239              5.0  \n",
       "Cartaya                             24.896679   124.483394              2.0  \n",
       "Gibraleón                           54.957996   117.767135              1.0  \n",
       "Bonares                             49.504950   115.511551              1.0  \n",
       "Calañas                            108.381503   108.381503              0.0  \n",
       "San Bartolomé de la Torre           79.766020   106.354693              NaN  \n",
       "Cerro de Andévalo (El)              85.947572    85.947572              1.0  \n",
       "Lepe                                50.215208    82.496413              2.0  \n",
       "Minas de Riotinto                   78.698846    78.698846              0.0  \n",
       "Aracena                             12.113870    60.569352              0.0  \n",
       "Cumbres Mayores                     57.175529    57.175529              0.0  \n",
       "Zalamea la Real                     32.743942    32.743942              0.0  \n",
       "Alosno                              25.425884    25.425884              0.0  "
      ],
      "text/html": "<div>\n<style scoped>\n    .dataframe tbody tr th:only-of-type {\n        vertical-align: middle;\n    }\n\n    .dataframe tbody tr th {\n        vertical-align: top;\n    }\n\n    .dataframe thead th {\n        text-align: right;\n    }\n</style>\n<table border=\"1\" class=\"dataframe\">\n  <thead>\n    <tr style=\"text-align: right;\">\n      <th>Medida</th>\n      <th>Confirmados PDIA</th>\n      <th>Confirmados PDIA 7 días</th>\n      <th>Confirmados PDIA 14 días</th>\n      <th>Población</th>\n      <th>tasa7</th>\n      <th>tasa14</th>\n      <th>Diferencia PDIA</th>\n    </tr>\n    <tr>\n      <th>Lugar de residencia</th>\n      <th></th>\n      <th></th>\n      <th></th>\n      <th></th>\n      <th></th>\n      <th></th>\n      <th></th>\n    </tr>\n  </thead>\n  <tbody>\n    <tr>\n      <th>Galaroza</th>\n      <td>41.0</td>\n      <td>9.0</td>\n      <td>14.0</td>\n      <td>1382.0</td>\n      <td>651.230101</td>\n      <td>1013.024602</td>\n      <td>2.0</td>\n    </tr>\n    <tr>\n      <th>Bollullos Par del Condado</th>\n      <td>913.0</td>\n      <td>50.0</td>\n      <td>97.0</td>\n      <td>14387.0</td>\n      <td>347.535970</td>\n      <td>674.219782</td>\n      <td>17.0</td>\n    </tr>\n    <tr>\n      <th>Almonte</th>\n      <td>1672.0</td>\n      <td>68.0</td>\n      <td>161.0</td>\n      <td>24507.0</td>\n      <td>277.471743</td>\n      <td>656.955156</td>\n      <td>17.0</td>\n    </tr>\n    <tr>\n      <th>Escacena del Campo</th>\n      <td>154.0</td>\n      <td>6.0</td>\n      <td>10.0</td>\n      <td>2287.0</td>\n      <td>262.352427</td>\n      <td>437.254045</td>\n      <td>0.0</td>\n    </tr>\n    <tr>\n      <th>Palma del Condado (La)</th>\n      <td>1076.0</td>\n      <td>28.0</td>\n      <td>39.0</td>\n      <td>10801.0</td>\n      <td>259.235256</td>\n      <td>361.077678</td>\n      <td>10.0</td>\n    </tr>\n    <tr>\n      <th>Condado-Campiña</th>\n      <td>9518.0</td>\n      <td>282.0</td>\n      <td>521.0</td>\n      <td>156231.0</td>\n      <td>180.501949</td>\n      <td>333.480551</td>\n      <td>74.0</td>\n    </tr>\n    <tr>\n      <th>Niebla</th>\n      <td>207.0</td>\n      <td>7.0</td>\n      <td>13.0</td>\n      <td>4116.0</td>\n      <td>170.068027</td>\n      <td>315.840622</td>\n      <td>2.0</td>\n    </tr>\n    <tr>\n      <th>Nerva</th>\n      <td>169.0</td>\n      <td>7.0</td>\n      <td>16.0</td>\n      <td>5169.0</td>\n      <td>135.422712</td>\n      <td>309.537628</td>\n      <td>0.0</td>\n    </tr>\n    <tr>\n      <th>Moguer</th>\n      <td>1169.0</td>\n      <td>50.0</td>\n      <td>67.0</td>\n      <td>21867.0</td>\n      <td>228.655051</td>\n      <td>306.397768</td>\n      <td>14.0</td>\n    </tr>\n    <tr>\n      <th>Punta Umbría</th>\n      <td>760.0</td>\n      <td>38.0</td>\n      <td>47.0</td>\n      <td>15355.0</td>\n      <td>247.476392</td>\n      <td>306.089222</td>\n      <td>6.0</td>\n    </tr>\n    <tr>\n      <th>Valverde del Camino</th>\n      <td>511.0</td>\n      <td>27.0</td>\n      <td>37.0</td>\n      <td>12750.0</td>\n      <td>211.764706</td>\n      <td>290.196078</td>\n      <td>10.0</td>\n    </tr>\n    <tr>\n      <th>Villarrasa</th>\n      <td>153.0</td>\n      <td>6.0</td>\n      <td>6.0</td>\n      <td>2211.0</td>\n      <td>271.370421</td>\n      <td>271.370421</td>\n      <td>3.0</td>\n    </tr>\n    <tr>\n      <th>Huelva (capital)</th>\n      <td>7761.0</td>\n      <td>181.0</td>\n      <td>358.0</td>\n      <td>143837.0</td>\n      <td>125.836885</td>\n      <td>248.892844</td>\n      <td>39.0</td>\n    </tr>\n    <tr>\n      <th>Lucena del Puerto</th>\n      <td>240.0</td>\n      <td>7.0</td>\n      <td>8.0</td>\n      <td>3261.0</td>\n      <td>214.658080</td>\n      <td>245.323520</td>\n      <td>0.0</td>\n    </tr>\n    <tr>\n      <th>Isla Cristina</th>\n      <td>2112.0</td>\n      <td>25.0</td>\n      <td>52.0</td>\n      <td>21393.0</td>\n      <td>116.860655</td>\n      <td>243.070163</td>\n      <td>6.0</td>\n    </tr>\n    <tr>\n      <th>Rociana del Condado</th>\n      <td>534.0</td>\n      <td>8.0</td>\n      <td>19.0</td>\n      <td>7939.0</td>\n      <td>100.768359</td>\n      <td>239.324852</td>\n      <td>0.0</td>\n    </tr>\n    <tr>\n      <th>Villalba del Alcor</th>\n      <td>479.0</td>\n      <td>7.0</td>\n      <td>8.0</td>\n      <td>3366.0</td>\n      <td>207.961973</td>\n      <td>237.670826</td>\n      <td>2.0</td>\n    </tr>\n    <tr>\n      <th>Huelva</th>\n      <td>29693.0</td>\n      <td>617.0</td>\n      <td>1162.0</td>\n      <td>513170.0</td>\n      <td>120.233061</td>\n      <td>226.435684</td>\n      <td>147.0</td>\n    </tr>\n    <tr>\n      <th>San Juan del Puerto</th>\n      <td>471.0</td>\n      <td>14.0</td>\n      <td>21.0</td>\n      <td>9411.0</td>\n      <td>148.762087</td>\n      <td>223.143130</td>\n      <td>3.0</td>\n    </tr>\n    <tr>\n      <th>Palos de la Frontera</th>\n      <td>605.0</td>\n      <td>7.0</td>\n      <td>23.0</td>\n      <td>11742.0</td>\n      <td>59.615057</td>\n      <td>195.878045</td>\n      <td>0.0</td>\n    </tr>\n    <tr>\n      <th>Huelva-Costa</th>\n      <td>17202.0</td>\n      <td>281.0</td>\n      <td>552.0</td>\n      <td>289548.0</td>\n      <td>97.047812</td>\n      <td>190.641966</td>\n      <td>60.0</td>\n    </tr>\n    <tr>\n      <th>Manzanilla</th>\n      <td>89.0</td>\n      <td>3.0</td>\n      <td>4.0</td>\n      <td>2118.0</td>\n      <td>141.643059</td>\n      <td>188.857413</td>\n      <td>0.0</td>\n    </tr>\n    <tr>\n      <th>Villablanca</th>\n      <td>185.0</td>\n      <td>2.0</td>\n      <td>5.0</td>\n      <td>2885.0</td>\n      <td>69.324090</td>\n      <td>173.310225</td>\n      <td>1.0</td>\n    </tr>\n    <tr>\n      <th>Trigueros</th>\n      <td>279.0</td>\n      <td>6.0</td>\n      <td>12.0</td>\n      <td>7862.0</td>\n      <td>76.316459</td>\n      <td>152.632918</td>\n      <td>0.0</td>\n    </tr>\n    <tr>\n      <th>Beas</th>\n      <td>204.0</td>\n      <td>2.0</td>\n      <td>6.0</td>\n      <td>4341.0</td>\n      <td>46.072334</td>\n      <td>138.217001</td>\n      <td>1.0</td>\n    </tr>\n    <tr>\n      <th>Sierra de Huelva-Andévalo Central</th>\n      <td>2632.0</td>\n      <td>54.0</td>\n      <td>88.0</td>\n      <td>67391.0</td>\n      <td>80.129394</td>\n      <td>130.581235</td>\n      <td>13.0</td>\n    </tr>\n    <tr>\n      <th>Aljaraque</th>\n      <td>1026.0</td>\n      <td>15.0</td>\n      <td>28.0</td>\n      <td>21474.0</td>\n      <td>69.851914</td>\n      <td>130.390239</td>\n      <td>5.0</td>\n    </tr>\n    <tr>\n      <th>Cartaya</th>\n      <td>1294.0</td>\n      <td>5.0</td>\n      <td>25.0</td>\n      <td>20083.0</td>\n      <td>24.896679</td>\n      <td>124.483394</td>\n      <td>2.0</td>\n    </tr>\n    <tr>\n      <th>Gibraleón</th>\n      <td>601.0</td>\n      <td>7.0</td>\n      <td>15.0</td>\n      <td>12737.0</td>\n      <td>54.957996</td>\n      <td>117.767135</td>\n      <td>1.0</td>\n    </tr>\n    <tr>\n      <th>Bonares</th>\n      <td>261.0</td>\n      <td>3.0</td>\n      <td>7.0</td>\n      <td>6060.0</td>\n      <td>49.504950</td>\n      <td>115.511551</td>\n      <td>1.0</td>\n    </tr>\n    <tr>\n      <th>Calañas</th>\n      <td>177.0</td>\n      <td>3.0</td>\n      <td>3.0</td>\n      <td>2768.0</td>\n      <td>108.381503</td>\n      <td>108.381503</td>\n      <td>0.0</td>\n    </tr>\n    <tr>\n      <th>San Bartolomé de la Torre</th>\n      <td>286.0</td>\n      <td>3.0</td>\n      <td>4.0</td>\n      <td>3761.0</td>\n      <td>79.766020</td>\n      <td>106.354693</td>\n      <td>NaN</td>\n    </tr>\n    <tr>\n      <th>Cerro de Andévalo (El)</th>\n      <td>138.0</td>\n      <td>2.0</td>\n      <td>2.0</td>\n      <td>2327.0</td>\n      <td>85.947572</td>\n      <td>85.947572</td>\n      <td>1.0</td>\n    </tr>\n    <tr>\n      <th>Lepe</th>\n      <td>2102.0</td>\n      <td>14.0</td>\n      <td>23.0</td>\n      <td>27880.0</td>\n      <td>50.215208</td>\n      <td>82.496413</td>\n      <td>2.0</td>\n    </tr>\n    <tr>\n      <th>Minas de Riotinto</th>\n      <td>117.0</td>\n      <td>3.0</td>\n      <td>3.0</td>\n      <td>3812.0</td>\n      <td>78.698846</td>\n      <td>78.698846</td>\n      <td>0.0</td>\n    </tr>\n    <tr>\n      <th>Aracena</th>\n      <td>514.0</td>\n      <td>1.0</td>\n      <td>5.0</td>\n      <td>8255.0</td>\n      <td>12.113870</td>\n      <td>60.569352</td>\n      <td>0.0</td>\n    </tr>\n    <tr>\n      <th>Cumbres Mayores</th>\n      <td>50.0</td>\n      <td>1.0</td>\n      <td>1.0</td>\n      <td>1749.0</td>\n      <td>57.175529</td>\n      <td>57.175529</td>\n      <td>0.0</td>\n    </tr>\n    <tr>\n      <th>Zalamea la Real</th>\n      <td>87.0</td>\n      <td>1.0</td>\n      <td>1.0</td>\n      <td>3054.0</td>\n      <td>32.743942</td>\n      <td>32.743942</td>\n      <td>0.0</td>\n    </tr>\n    <tr>\n      <th>Alosno</th>\n      <td>163.0</td>\n      <td>1.0</td>\n      <td>1.0</td>\n      <td>3933.0</td>\n      <td>25.425884</td>\n      <td>25.425884</td>\n      <td>0.0</td>\n    </tr>\n  </tbody>\n</table>\n</div>"
     },
     "metadata": {},
     "execution_count": 17
    }
   ],
   "source": [
    "tabla.sort_values('tasa14', ascending=False)"
   ]
  },
  {
   "cell_type": "code",
   "execution_count": 18,
   "metadata": {},
   "outputs": [
    {
     "output_type": "execute_result",
     "data": {
      "text/plain": [
       "Medida                             Confirmados PDIA  Confirmados PDIA 7 días  \\\n",
       "Lugar de residencia                                                            \n",
       "Cartaya                                      1294.0                      5.0   \n",
       "Aracena                                       514.0                      1.0   \n",
       "Palos de la Frontera                          605.0                      7.0   \n",
       "Beas                                          204.0                      2.0   \n",
       "Villablanca                                   185.0                      2.0   \n",
       "Rociana del Condado                           534.0                      8.0   \n",
       "Almonte                                      1672.0                     68.0   \n",
       "Bonares                                       261.0                      3.0   \n",
       "Nerva                                         169.0                      7.0   \n",
       "Gibraleón                                     601.0                      7.0   \n",
       "Isla Cristina                                2112.0                     25.0   \n",
       "Trigueros                                     279.0                      6.0   \n",
       "Huelva (capital)                             7761.0                    181.0   \n",
       "Huelva-Costa                                17202.0                    281.0   \n",
       "Bollullos Par del Condado                     913.0                     50.0   \n",
       "Huelva                                      29693.0                    617.0   \n",
       "Aljaraque                                    1026.0                     15.0   \n",
       "Niebla                                        207.0                      7.0   \n",
       "Condado-Campiña                              9518.0                    282.0   \n",
       "Escacena del Campo                            154.0                      6.0   \n",
       "Lepe                                         2102.0                     14.0   \n",
       "Sierra de Huelva-Andévalo Central            2632.0                     54.0   \n",
       "Galaroza                                       41.0                      9.0   \n",
       "San Juan del Puerto                           471.0                     14.0   \n",
       "Palma del Condado (La)                       1076.0                     28.0   \n",
       "Valverde del Camino                           511.0                     27.0   \n",
       "Moguer                                       1169.0                     50.0   \n",
       "San Bartolomé de la Torre                     286.0                      3.0   \n",
       "Manzanilla                                     89.0                      3.0   \n",
       "Punta Umbría                                  760.0                     38.0   \n",
       "Lucena del Puerto                             240.0                      7.0   \n",
       "Villalba del Alcor                            479.0                      7.0   \n",
       "Alosno                                        163.0                      1.0   \n",
       "Cerro de Andévalo (El)                        138.0                      2.0   \n",
       "Cumbres Mayores                                50.0                      1.0   \n",
       "Villarrasa                                    153.0                      6.0   \n",
       "Minas de Riotinto                             117.0                      3.0   \n",
       "Calañas                                       177.0                      3.0   \n",
       "Zalamea la Real                                87.0                      1.0   \n",
       "\n",
       "Medida                             Confirmados PDIA 14 días  Población  \\\n",
       "Lugar de residencia                                                      \n",
       "Cartaya                                                25.0    20083.0   \n",
       "Aracena                                                 5.0     8255.0   \n",
       "Palos de la Frontera                                   23.0    11742.0   \n",
       "Beas                                                    6.0     4341.0   \n",
       "Villablanca                                             5.0     2885.0   \n",
       "Rociana del Condado                                    19.0     7939.0   \n",
       "Almonte                                               161.0    24507.0   \n",
       "Bonares                                                 7.0     6060.0   \n",
       "Nerva                                                  16.0     5169.0   \n",
       "Gibraleón                                              15.0    12737.0   \n",
       "Isla Cristina                                          52.0    21393.0   \n",
       "Trigueros                                              12.0     7862.0   \n",
       "Huelva (capital)                                      358.0   143837.0   \n",
       "Huelva-Costa                                          552.0   289548.0   \n",
       "Bollullos Par del Condado                              97.0    14387.0   \n",
       "Huelva                                               1162.0   513170.0   \n",
       "Aljaraque                                              28.0    21474.0   \n",
       "Niebla                                                 13.0     4116.0   \n",
       "Condado-Campiña                                       521.0   156231.0   \n",
       "Escacena del Campo                                     10.0     2287.0   \n",
       "Lepe                                                   23.0    27880.0   \n",
       "Sierra de Huelva-Andévalo Central                      88.0    67391.0   \n",
       "Galaroza                                               14.0     1382.0   \n",
       "San Juan del Puerto                                    21.0     9411.0   \n",
       "Palma del Condado (La)                                 39.0    10801.0   \n",
       "Valverde del Camino                                    37.0    12750.0   \n",
       "Moguer                                                 67.0    21867.0   \n",
       "San Bartolomé de la Torre                               4.0     3761.0   \n",
       "Manzanilla                                              4.0     2118.0   \n",
       "Punta Umbría                                           47.0    15355.0   \n",
       "Lucena del Puerto                                       8.0     3261.0   \n",
       "Villalba del Alcor                                      8.0     3366.0   \n",
       "Alosno                                                  1.0     3933.0   \n",
       "Cerro de Andévalo (El)                                  2.0     2327.0   \n",
       "Cumbres Mayores                                         1.0     1749.0   \n",
       "Villarrasa                                              6.0     2211.0   \n",
       "Minas de Riotinto                                       3.0     3812.0   \n",
       "Calañas                                                 3.0     2768.0   \n",
       "Zalamea la Real                                         1.0     3054.0   \n",
       "\n",
       "Medida                                  tasa7       tasa14  Diferencia PDIA  \\\n",
       "Lugar de residencia                                                           \n",
       "Cartaya                             24.896679   124.483394              2.0   \n",
       "Aracena                             12.113870    60.569352              0.0   \n",
       "Palos de la Frontera                59.615057   195.878045              0.0   \n",
       "Beas                                46.072334   138.217001              1.0   \n",
       "Villablanca                         69.324090   173.310225              1.0   \n",
       "Rociana del Condado                100.768359   239.324852              0.0   \n",
       "Almonte                            277.471743   656.955156             17.0   \n",
       "Bonares                             49.504950   115.511551              1.0   \n",
       "Nerva                              135.422712   309.537628              0.0   \n",
       "Gibraleón                           54.957996   117.767135              1.0   \n",
       "Isla Cristina                      116.860655   243.070163              6.0   \n",
       "Trigueros                           76.316459   152.632918              0.0   \n",
       "Huelva (capital)                   125.836885   248.892844             39.0   \n",
       "Huelva-Costa                        97.047812   190.641966             60.0   \n",
       "Bollullos Par del Condado          347.535970   674.219782             17.0   \n",
       "Huelva                             120.233061   226.435684            147.0   \n",
       "Aljaraque                           69.851914   130.390239              5.0   \n",
       "Niebla                             170.068027   315.840622              2.0   \n",
       "Condado-Campiña                    180.501949   333.480551             74.0   \n",
       "Escacena del Campo                 262.352427   437.254045              0.0   \n",
       "Lepe                                50.215208    82.496413              2.0   \n",
       "Sierra de Huelva-Andévalo Central   80.129394   130.581235             13.0   \n",
       "Galaroza                           651.230101  1013.024602              2.0   \n",
       "San Juan del Puerto                148.762087   223.143130              3.0   \n",
       "Palma del Condado (La)             259.235256   361.077678             10.0   \n",
       "Valverde del Camino                211.764706   290.196078             10.0   \n",
       "Moguer                             228.655051   306.397768             14.0   \n",
       "San Bartolomé de la Torre           79.766020   106.354693              0.0   \n",
       "Manzanilla                         141.643059   188.857413              0.0   \n",
       "Punta Umbría                       247.476392   306.089222              6.0   \n",
       "Lucena del Puerto                  214.658080   245.323520              0.0   \n",
       "Villalba del Alcor                 207.961973   237.670826              2.0   \n",
       "Alosno                              25.425884    25.425884              0.0   \n",
       "Cerro de Andévalo (El)              85.947572    85.947572              1.0   \n",
       "Cumbres Mayores                     57.175529    57.175529              0.0   \n",
       "Villarrasa                         271.370421   271.370421              3.0   \n",
       "Minas de Riotinto                   78.698846    78.698846              0.0   \n",
       "Calañas                            108.381503   108.381503              0.0   \n",
       "Zalamea la Real                     32.743942    32.743942              0.0   \n",
       "\n",
       "Medida                                 7/14  \n",
       "Lugar de residencia                          \n",
       "Cartaya                            0.200000  \n",
       "Aracena                            0.200000  \n",
       "Palos de la Frontera               0.304348  \n",
       "Beas                               0.333333  \n",
       "Villablanca                        0.400000  \n",
       "Rociana del Condado                0.421053  \n",
       "Almonte                            0.422360  \n",
       "Bonares                            0.428571  \n",
       "Nerva                              0.437500  \n",
       "Gibraleón                          0.466667  \n",
       "Isla Cristina                      0.480769  \n",
       "Trigueros                          0.500000  \n",
       "Huelva (capital)                   0.505587  \n",
       "Huelva-Costa                       0.509058  \n",
       "Bollullos Par del Condado          0.515464  \n",
       "Huelva                             0.530981  \n",
       "Aljaraque                          0.535714  \n",
       "Niebla                             0.538462  \n",
       "Condado-Campiña                    0.541267  \n",
       "Escacena del Campo                 0.600000  \n",
       "Lepe                               0.608696  \n",
       "Sierra de Huelva-Andévalo Central  0.613636  \n",
       "Galaroza                           0.642857  \n",
       "San Juan del Puerto                0.666667  \n",
       "Palma del Condado (La)             0.717949  \n",
       "Valverde del Camino                0.729730  \n",
       "Moguer                             0.746269  \n",
       "San Bartolomé de la Torre          0.750000  \n",
       "Manzanilla                         0.750000  \n",
       "Punta Umbría                       0.808511  \n",
       "Lucena del Puerto                  0.875000  \n",
       "Villalba del Alcor                 0.875000  \n",
       "Alosno                             1.000000  \n",
       "Cerro de Andévalo (El)             1.000000  \n",
       "Cumbres Mayores                    1.000000  \n",
       "Villarrasa                         1.000000  \n",
       "Minas de Riotinto                  1.000000  \n",
       "Calañas                            1.000000  \n",
       "Zalamea la Real                    1.000000  "
      ],
      "text/html": "<div>\n<style scoped>\n    .dataframe tbody tr th:only-of-type {\n        vertical-align: middle;\n    }\n\n    .dataframe tbody tr th {\n        vertical-align: top;\n    }\n\n    .dataframe thead th {\n        text-align: right;\n    }\n</style>\n<table border=\"1\" class=\"dataframe\">\n  <thead>\n    <tr style=\"text-align: right;\">\n      <th>Medida</th>\n      <th>Confirmados PDIA</th>\n      <th>Confirmados PDIA 7 días</th>\n      <th>Confirmados PDIA 14 días</th>\n      <th>Población</th>\n      <th>tasa7</th>\n      <th>tasa14</th>\n      <th>Diferencia PDIA</th>\n      <th>7/14</th>\n    </tr>\n    <tr>\n      <th>Lugar de residencia</th>\n      <th></th>\n      <th></th>\n      <th></th>\n      <th></th>\n      <th></th>\n      <th></th>\n      <th></th>\n      <th></th>\n    </tr>\n  </thead>\n  <tbody>\n    <tr>\n      <th>Cartaya</th>\n      <td>1294.0</td>\n      <td>5.0</td>\n      <td>25.0</td>\n      <td>20083.0</td>\n      <td>24.896679</td>\n      <td>124.483394</td>\n      <td>2.0</td>\n      <td>0.200000</td>\n    </tr>\n    <tr>\n      <th>Aracena</th>\n      <td>514.0</td>\n      <td>1.0</td>\n      <td>5.0</td>\n      <td>8255.0</td>\n      <td>12.113870</td>\n      <td>60.569352</td>\n      <td>0.0</td>\n      <td>0.200000</td>\n    </tr>\n    <tr>\n      <th>Palos de la Frontera</th>\n      <td>605.0</td>\n      <td>7.0</td>\n      <td>23.0</td>\n      <td>11742.0</td>\n      <td>59.615057</td>\n      <td>195.878045</td>\n      <td>0.0</td>\n      <td>0.304348</td>\n    </tr>\n    <tr>\n      <th>Beas</th>\n      <td>204.0</td>\n      <td>2.0</td>\n      <td>6.0</td>\n      <td>4341.0</td>\n      <td>46.072334</td>\n      <td>138.217001</td>\n      <td>1.0</td>\n      <td>0.333333</td>\n    </tr>\n    <tr>\n      <th>Villablanca</th>\n      <td>185.0</td>\n      <td>2.0</td>\n      <td>5.0</td>\n      <td>2885.0</td>\n      <td>69.324090</td>\n      <td>173.310225</td>\n      <td>1.0</td>\n      <td>0.400000</td>\n    </tr>\n    <tr>\n      <th>Rociana del Condado</th>\n      <td>534.0</td>\n      <td>8.0</td>\n      <td>19.0</td>\n      <td>7939.0</td>\n      <td>100.768359</td>\n      <td>239.324852</td>\n      <td>0.0</td>\n      <td>0.421053</td>\n    </tr>\n    <tr>\n      <th>Almonte</th>\n      <td>1672.0</td>\n      <td>68.0</td>\n      <td>161.0</td>\n      <td>24507.0</td>\n      <td>277.471743</td>\n      <td>656.955156</td>\n      <td>17.0</td>\n      <td>0.422360</td>\n    </tr>\n    <tr>\n      <th>Bonares</th>\n      <td>261.0</td>\n      <td>3.0</td>\n      <td>7.0</td>\n      <td>6060.0</td>\n      <td>49.504950</td>\n      <td>115.511551</td>\n      <td>1.0</td>\n      <td>0.428571</td>\n    </tr>\n    <tr>\n      <th>Nerva</th>\n      <td>169.0</td>\n      <td>7.0</td>\n      <td>16.0</td>\n      <td>5169.0</td>\n      <td>135.422712</td>\n      <td>309.537628</td>\n      <td>0.0</td>\n      <td>0.437500</td>\n    </tr>\n    <tr>\n      <th>Gibraleón</th>\n      <td>601.0</td>\n      <td>7.0</td>\n      <td>15.0</td>\n      <td>12737.0</td>\n      <td>54.957996</td>\n      <td>117.767135</td>\n      <td>1.0</td>\n      <td>0.466667</td>\n    </tr>\n    <tr>\n      <th>Isla Cristina</th>\n      <td>2112.0</td>\n      <td>25.0</td>\n      <td>52.0</td>\n      <td>21393.0</td>\n      <td>116.860655</td>\n      <td>243.070163</td>\n      <td>6.0</td>\n      <td>0.480769</td>\n    </tr>\n    <tr>\n      <th>Trigueros</th>\n      <td>279.0</td>\n      <td>6.0</td>\n      <td>12.0</td>\n      <td>7862.0</td>\n      <td>76.316459</td>\n      <td>152.632918</td>\n      <td>0.0</td>\n      <td>0.500000</td>\n    </tr>\n    <tr>\n      <th>Huelva (capital)</th>\n      <td>7761.0</td>\n      <td>181.0</td>\n      <td>358.0</td>\n      <td>143837.0</td>\n      <td>125.836885</td>\n      <td>248.892844</td>\n      <td>39.0</td>\n      <td>0.505587</td>\n    </tr>\n    <tr>\n      <th>Huelva-Costa</th>\n      <td>17202.0</td>\n      <td>281.0</td>\n      <td>552.0</td>\n      <td>289548.0</td>\n      <td>97.047812</td>\n      <td>190.641966</td>\n      <td>60.0</td>\n      <td>0.509058</td>\n    </tr>\n    <tr>\n      <th>Bollullos Par del Condado</th>\n      <td>913.0</td>\n      <td>50.0</td>\n      <td>97.0</td>\n      <td>14387.0</td>\n      <td>347.535970</td>\n      <td>674.219782</td>\n      <td>17.0</td>\n      <td>0.515464</td>\n    </tr>\n    <tr>\n      <th>Huelva</th>\n      <td>29693.0</td>\n      <td>617.0</td>\n      <td>1162.0</td>\n      <td>513170.0</td>\n      <td>120.233061</td>\n      <td>226.435684</td>\n      <td>147.0</td>\n      <td>0.530981</td>\n    </tr>\n    <tr>\n      <th>Aljaraque</th>\n      <td>1026.0</td>\n      <td>15.0</td>\n      <td>28.0</td>\n      <td>21474.0</td>\n      <td>69.851914</td>\n      <td>130.390239</td>\n      <td>5.0</td>\n      <td>0.535714</td>\n    </tr>\n    <tr>\n      <th>Niebla</th>\n      <td>207.0</td>\n      <td>7.0</td>\n      <td>13.0</td>\n      <td>4116.0</td>\n      <td>170.068027</td>\n      <td>315.840622</td>\n      <td>2.0</td>\n      <td>0.538462</td>\n    </tr>\n    <tr>\n      <th>Condado-Campiña</th>\n      <td>9518.0</td>\n      <td>282.0</td>\n      <td>521.0</td>\n      <td>156231.0</td>\n      <td>180.501949</td>\n      <td>333.480551</td>\n      <td>74.0</td>\n      <td>0.541267</td>\n    </tr>\n    <tr>\n      <th>Escacena del Campo</th>\n      <td>154.0</td>\n      <td>6.0</td>\n      <td>10.0</td>\n      <td>2287.0</td>\n      <td>262.352427</td>\n      <td>437.254045</td>\n      <td>0.0</td>\n      <td>0.600000</td>\n    </tr>\n    <tr>\n      <th>Lepe</th>\n      <td>2102.0</td>\n      <td>14.0</td>\n      <td>23.0</td>\n      <td>27880.0</td>\n      <td>50.215208</td>\n      <td>82.496413</td>\n      <td>2.0</td>\n      <td>0.608696</td>\n    </tr>\n    <tr>\n      <th>Sierra de Huelva-Andévalo Central</th>\n      <td>2632.0</td>\n      <td>54.0</td>\n      <td>88.0</td>\n      <td>67391.0</td>\n      <td>80.129394</td>\n      <td>130.581235</td>\n      <td>13.0</td>\n      <td>0.613636</td>\n    </tr>\n    <tr>\n      <th>Galaroza</th>\n      <td>41.0</td>\n      <td>9.0</td>\n      <td>14.0</td>\n      <td>1382.0</td>\n      <td>651.230101</td>\n      <td>1013.024602</td>\n      <td>2.0</td>\n      <td>0.642857</td>\n    </tr>\n    <tr>\n      <th>San Juan del Puerto</th>\n      <td>471.0</td>\n      <td>14.0</td>\n      <td>21.0</td>\n      <td>9411.0</td>\n      <td>148.762087</td>\n      <td>223.143130</td>\n      <td>3.0</td>\n      <td>0.666667</td>\n    </tr>\n    <tr>\n      <th>Palma del Condado (La)</th>\n      <td>1076.0</td>\n      <td>28.0</td>\n      <td>39.0</td>\n      <td>10801.0</td>\n      <td>259.235256</td>\n      <td>361.077678</td>\n      <td>10.0</td>\n      <td>0.717949</td>\n    </tr>\n    <tr>\n      <th>Valverde del Camino</th>\n      <td>511.0</td>\n      <td>27.0</td>\n      <td>37.0</td>\n      <td>12750.0</td>\n      <td>211.764706</td>\n      <td>290.196078</td>\n      <td>10.0</td>\n      <td>0.729730</td>\n    </tr>\n    <tr>\n      <th>Moguer</th>\n      <td>1169.0</td>\n      <td>50.0</td>\n      <td>67.0</td>\n      <td>21867.0</td>\n      <td>228.655051</td>\n      <td>306.397768</td>\n      <td>14.0</td>\n      <td>0.746269</td>\n    </tr>\n    <tr>\n      <th>San Bartolomé de la Torre</th>\n      <td>286.0</td>\n      <td>3.0</td>\n      <td>4.0</td>\n      <td>3761.0</td>\n      <td>79.766020</td>\n      <td>106.354693</td>\n      <td>0.0</td>\n      <td>0.750000</td>\n    </tr>\n    <tr>\n      <th>Manzanilla</th>\n      <td>89.0</td>\n      <td>3.0</td>\n      <td>4.0</td>\n      <td>2118.0</td>\n      <td>141.643059</td>\n      <td>188.857413</td>\n      <td>0.0</td>\n      <td>0.750000</td>\n    </tr>\n    <tr>\n      <th>Punta Umbría</th>\n      <td>760.0</td>\n      <td>38.0</td>\n      <td>47.0</td>\n      <td>15355.0</td>\n      <td>247.476392</td>\n      <td>306.089222</td>\n      <td>6.0</td>\n      <td>0.808511</td>\n    </tr>\n    <tr>\n      <th>Lucena del Puerto</th>\n      <td>240.0</td>\n      <td>7.0</td>\n      <td>8.0</td>\n      <td>3261.0</td>\n      <td>214.658080</td>\n      <td>245.323520</td>\n      <td>0.0</td>\n      <td>0.875000</td>\n    </tr>\n    <tr>\n      <th>Villalba del Alcor</th>\n      <td>479.0</td>\n      <td>7.0</td>\n      <td>8.0</td>\n      <td>3366.0</td>\n      <td>207.961973</td>\n      <td>237.670826</td>\n      <td>2.0</td>\n      <td>0.875000</td>\n    </tr>\n    <tr>\n      <th>Alosno</th>\n      <td>163.0</td>\n      <td>1.0</td>\n      <td>1.0</td>\n      <td>3933.0</td>\n      <td>25.425884</td>\n      <td>25.425884</td>\n      <td>0.0</td>\n      <td>1.000000</td>\n    </tr>\n    <tr>\n      <th>Cerro de Andévalo (El)</th>\n      <td>138.0</td>\n      <td>2.0</td>\n      <td>2.0</td>\n      <td>2327.0</td>\n      <td>85.947572</td>\n      <td>85.947572</td>\n      <td>1.0</td>\n      <td>1.000000</td>\n    </tr>\n    <tr>\n      <th>Cumbres Mayores</th>\n      <td>50.0</td>\n      <td>1.0</td>\n      <td>1.0</td>\n      <td>1749.0</td>\n      <td>57.175529</td>\n      <td>57.175529</td>\n      <td>0.0</td>\n      <td>1.000000</td>\n    </tr>\n    <tr>\n      <th>Villarrasa</th>\n      <td>153.0</td>\n      <td>6.0</td>\n      <td>6.0</td>\n      <td>2211.0</td>\n      <td>271.370421</td>\n      <td>271.370421</td>\n      <td>3.0</td>\n      <td>1.000000</td>\n    </tr>\n    <tr>\n      <th>Minas de Riotinto</th>\n      <td>117.0</td>\n      <td>3.0</td>\n      <td>3.0</td>\n      <td>3812.0</td>\n      <td>78.698846</td>\n      <td>78.698846</td>\n      <td>0.0</td>\n      <td>1.000000</td>\n    </tr>\n    <tr>\n      <th>Calañas</th>\n      <td>177.0</td>\n      <td>3.0</td>\n      <td>3.0</td>\n      <td>2768.0</td>\n      <td>108.381503</td>\n      <td>108.381503</td>\n      <td>0.0</td>\n      <td>1.000000</td>\n    </tr>\n    <tr>\n      <th>Zalamea la Real</th>\n      <td>87.0</td>\n      <td>1.0</td>\n      <td>1.0</td>\n      <td>3054.0</td>\n      <td>32.743942</td>\n      <td>32.743942</td>\n      <td>0.0</td>\n      <td>1.000000</td>\n    </tr>\n  </tbody>\n</table>\n</div>"
     },
     "metadata": {},
     "execution_count": 18
    }
   ],
   "source": [
    "# Peso de la tasa de la última semana en relación con la tasa a 14 días \n",
    "# Mejor cuanto menor. Valor 1 significa que no había casos antes de 7 días.\n",
    "tabla['7/14'] = tabla['tasa7'] / tabla['tasa14']\n",
    "tabla.fillna(0).sort_values('7/14', ascending=True)"
   ]
  },
  {
   "cell_type": "code",
   "execution_count": null,
   "metadata": {},
   "outputs": [],
   "source": []
  }
 ]
}