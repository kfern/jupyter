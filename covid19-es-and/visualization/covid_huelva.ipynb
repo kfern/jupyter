{
 "metadata": {
  "language_info": {
   "codemirror_mode": {
    "name": "ipython",
    "version": 3
   },
   "file_extension": ".py",
   "mimetype": "text/x-python",
   "name": "python",
   "nbconvert_exporter": "python",
   "pygments_lexer": "ipython3",
   "version": "3.8.6-final"
  },
  "orig_nbformat": 2,
  "kernelspec": {
   "name": "python38564bit75945252d6ba481bad4868286020c89e",
   "display_name": "Python 3.8.5 64-bit",
   "language": "python"
  }
 },
 "nbformat": 4,
 "nbformat_minor": 2,
 "cells": [
  {
   "cell_type": "code",
   "execution_count": 1,
   "metadata": {},
   "outputs": [],
   "source": [
    "import pandas as pd"
   ]
  },
  {
   "cell_type": "code",
   "execution_count": 2,
   "metadata": {},
   "outputs": [],
   "source": [
    "# FIX SSL: CERTIFICATE_VERIFY_FAILED with Python3\n",
    "# https://stackoverflow.com/a/49174340\n",
    "import ssl\n",
    "\n",
    "ssl._create_default_https_context = ssl._create_unverified_context"
   ]
  },
  {
   "cell_type": "code",
   "execution_count": 3,
   "metadata": {},
   "outputs": [],
   "source": [
    "url = 'https://www.juntadeandalucia.es/institutodeestadisticaycartografia/badea/stpivot/stpivot/Print?cube=013d884c-cfc5-4c21-9e78-e26225682afd&type=3&foto=si&ejecutaDesde=&codConsulta=38668&consTipoVisua=JP'\n",
    "fields = ['Lugar de residencia', 'Medida', 'Valor']\n",
    "df = pd.read_csv(url, delimiter=';', usecols=fields, decimal=',')"
   ]
  },
  {
   "cell_type": "code",
   "execution_count": 4,
   "metadata": {},
   "outputs": [
    {
     "output_type": "execute_result",
     "data": {
      "text/plain": [
       "                     Lugar de residencia                    Medida  \\\n",
       "0                                 Huelva                 Población   \n",
       "1                                 Huelva          Confirmados PDIA   \n",
       "2                                 Huelva  Confirmados PDIA 14 días   \n",
       "3                                 Huelva         Tasa PDIA 14 días   \n",
       "4                                 Huelva   Confirmados PDIA 7 días   \n",
       "..                                   ...                       ...   \n",
       "627  Municipio de Huelva sin especificar         Tasa PDIA 14 días   \n",
       "628  Municipio de Huelva sin especificar   Confirmados PDIA 7 días   \n",
       "629  Municipio de Huelva sin especificar        Total Confirmados    \n",
       "630  Municipio de Huelva sin especificar                   Curados   \n",
       "631  Municipio de Huelva sin especificar                Fallecidos   \n",
       "\n",
       "                 Valor  \n",
       "0               510743  \n",
       "1                16579  \n",
       "2                 4325  \n",
       "3    846,8055362481717  \n",
       "4                 2363  \n",
       "..                 ...  \n",
       "627                  -  \n",
       "628                 20  \n",
       "629                248  \n",
       "630                116  \n",
       "631                  2  \n",
       "\n",
       "[632 rows x 3 columns]"
      ],
      "text/html": "<div>\n<style scoped>\n    .dataframe tbody tr th:only-of-type {\n        vertical-align: middle;\n    }\n\n    .dataframe tbody tr th {\n        vertical-align: top;\n    }\n\n    .dataframe thead th {\n        text-align: right;\n    }\n</style>\n<table border=\"1\" class=\"dataframe\">\n  <thead>\n    <tr style=\"text-align: right;\">\n      <th></th>\n      <th>Lugar de residencia</th>\n      <th>Medida</th>\n      <th>Valor</th>\n    </tr>\n  </thead>\n  <tbody>\n    <tr>\n      <th>0</th>\n      <td>Huelva</td>\n      <td>Población</td>\n      <td>510743</td>\n    </tr>\n    <tr>\n      <th>1</th>\n      <td>Huelva</td>\n      <td>Confirmados PDIA</td>\n      <td>16579</td>\n    </tr>\n    <tr>\n      <th>2</th>\n      <td>Huelva</td>\n      <td>Confirmados PDIA 14 días</td>\n      <td>4325</td>\n    </tr>\n    <tr>\n      <th>3</th>\n      <td>Huelva</td>\n      <td>Tasa PDIA 14 días</td>\n      <td>846,8055362481717</td>\n    </tr>\n    <tr>\n      <th>4</th>\n      <td>Huelva</td>\n      <td>Confirmados PDIA 7 días</td>\n      <td>2363</td>\n    </tr>\n    <tr>\n      <th>...</th>\n      <td>...</td>\n      <td>...</td>\n      <td>...</td>\n    </tr>\n    <tr>\n      <th>627</th>\n      <td>Municipio de Huelva sin especificar</td>\n      <td>Tasa PDIA 14 días</td>\n      <td>-</td>\n    </tr>\n    <tr>\n      <th>628</th>\n      <td>Municipio de Huelva sin especificar</td>\n      <td>Confirmados PDIA 7 días</td>\n      <td>20</td>\n    </tr>\n    <tr>\n      <th>629</th>\n      <td>Municipio de Huelva sin especificar</td>\n      <td>Total Confirmados</td>\n      <td>248</td>\n    </tr>\n    <tr>\n      <th>630</th>\n      <td>Municipio de Huelva sin especificar</td>\n      <td>Curados</td>\n      <td>116</td>\n    </tr>\n    <tr>\n      <th>631</th>\n      <td>Municipio de Huelva sin especificar</td>\n      <td>Fallecidos</td>\n      <td>2</td>\n    </tr>\n  </tbody>\n</table>\n<p>632 rows × 3 columns</p>\n</div>"
     },
     "metadata": {},
     "execution_count": 4
    }
   ],
   "source": [
    "df"
   ]
  },
  {
   "cell_type": "code",
   "execution_count": 5,
   "metadata": {},
   "outputs": [],
   "source": [
    "df['Valor'] = pd.to_numeric(df['Valor'],errors='coerce')"
   ]
  },
  {
   "cell_type": "code",
   "execution_count": 6,
   "metadata": {},
   "outputs": [],
   "source": [
    "dfAnterior = pd.read_csv('covid_huelva.csv', index_col='Lugar de residencia')"
   ]
  },
  {
   "cell_type": "code",
   "execution_count": 7,
   "metadata": {
    "tags": []
   },
   "outputs": [
    {
     "output_type": "stream",
     "name": "stdout",
     "text": [
      "Confirmados PCR en la provincia de Huelva:  16579.0\n"
     ]
    }
   ],
   "source": [
    "# Confirmados PCR provincia Huelva\n",
    "p = df[df['Lugar de residencia'] == 'Huelva'][df['Medida'] == 'Confirmados PDIA']['Valor'].values[0]\n",
    "print('Confirmados PCR en la provincia de Huelva: ', p)"
   ]
  },
  {
   "cell_type": "code",
   "execution_count": 8,
   "metadata": {
    "tags": []
   },
   "outputs": [
    {
     "output_type": "stream",
     "name": "stdout",
     "text": [
      "Confirmados PCR en Huelva capital:  4543.0\n"
     ]
    }
   ],
   "source": [
    "# Confirmados PCR Huelva capitalpd\n",
    "c = df[df['Lugar de residencia'] == 'Huelva (capital)'][df['Medida'] == 'Confirmados PDIA']['Valor'].values[0]\n",
    "print('Confirmados PCR en Huelva capital: ', c)"
   ]
  },
  {
   "cell_type": "code",
   "execution_count": 9,
   "metadata": {
    "tags": []
   },
   "outputs": [],
   "source": [
    "c7 = df[df['Lugar de residencia'] == 'Huelva (capital)'][df['Medida'] == 'Confirmados PDIA 7 días']['Valor'].values[0]\n",
    "c14 = df[df['Lugar de residencia'] == 'Huelva (capital)'][df['Medida'] == 'Confirmados PDIA 14 días']['Valor'].values[0]\n",
    "p = df[df['Lugar de residencia'] == 'Huelva (capital)'][df['Medida'] == 'Población']['Valor'].values[0]"
   ]
  },
  {
   "cell_type": "code",
   "execution_count": 10,
   "metadata": {
    "tags": []
   },
   "outputs": [
    {
     "output_type": "stream",
     "name": "stdout",
     "text": [
      "Huelva (capital)\n\nUn positivo PCR cada 282 personas en los últimos 7 días \n\nUn positivo PCR cada 136 personas en los últimos 14 días\n"
     ]
    }
   ],
   "source": [
    "print('Huelva (capital)\\n')\n",
    "#print('Confirmados PCR 7 días x 1,000 habitantes: ', f\"{c7/(p/1000):.5f}\")\n",
    "print('Un positivo PCR cada', f\"{p/c7:.0f}\", 'personas en los últimos 7 días', '\\n')\n",
    "#print('Confirmados PCR 14 días x 1,000 habitantes: ', f\"{c14/(p/1000):.5f}\")\n",
    "print('Un positivo PCR cada', f\"{p/c14:.0f}\", 'personas en los últimos 14 días')"
   ]
  },
  {
   "cell_type": "code",
   "execution_count": 11,
   "metadata": {},
   "outputs": [],
   "source": [
    "filtro = ((df['Medida'] == 'Confirmados PDIA')| (df['Medida'] == 'Confirmados PDIA 7 días') | (df['Medida'] == 'Población' ) | (df['Medida'] == 'Confirmados PDIA 14 días')) & (df['Valor'] > 0)\n",
    "tabla = pd.pivot_table(df.loc[filtro], values='Valor', index='Lugar de residencia', columns='Medida').dropna()"
   ]
  },
  {
   "cell_type": "code",
   "execution_count": 12,
   "metadata": {},
   "outputs": [],
   "source": [
    "# Reorder columns\n",
    "tabla = tabla[['Confirmados PDIA', 'Confirmados PDIA 7 días', 'Confirmados PDIA 14 días', 'Población']]"
   ]
  },
  {
   "cell_type": "code",
   "execution_count": 13,
   "metadata": {},
   "outputs": [],
   "source": [
    "tabla['tasa7'] = tabla['Confirmados PDIA 7 días']/tabla['Población']*100000\n",
    "tabla['tasa14'] = tabla['Confirmados PDIA 14 días']/tabla['Población']*100000"
   ]
  },
  {
   "cell_type": "code",
   "execution_count": 14,
   "metadata": {},
   "outputs": [],
   "source": [
    "tabla['Diferencia PDIA'] = tabla['Confirmados PDIA'] - dfAnterior['Confirmados PDIA']"
   ]
  },
  {
   "cell_type": "code",
   "execution_count": 15,
   "metadata": {},
   "outputs": [
    {
     "output_type": "execute_result",
     "data": {
      "text/plain": [
       "Medida                             Confirmados PDIA  Confirmados PDIA 7 días  \\\n",
       "Lugar de residencia                                                            \n",
       "Huelva                                      16579.0                   2363.0   \n",
       "Huelva-Costa                                 9957.0                   1619.0   \n",
       "Huelva (capital)                             4543.0                    510.0   \n",
       "Condado-Campiña                              4512.0                    445.0   \n",
       "Isla Cristina                                1356.0                    441.0   \n",
       "Ayamonte                                      634.0                    178.0   \n",
       "Lepe                                         1312.0                    162.0   \n",
       "Sierra de Huelva-Andévalo Central            1863.0                    279.0   \n",
       "Punta Umbría                                  339.0                     55.0   \n",
       "Aljaraque                                     674.0                     86.0   \n",
       "Villalba del Alcor                            299.0                     85.0   \n",
       "Almonte                                       538.0                     43.0   \n",
       "Palma del Condado (La)                        718.0                     60.0   \n",
       "Moguer                                        538.0                     45.0   \n",
       "Cartaya                                       628.0                    101.0   \n",
       "Villanueva de los Castillejos                  99.0                     28.0   \n",
       "San Juan del Puerto                           226.0                     32.0   \n",
       "Trigueros                                     154.0                     11.0   \n",
       "Rociana del Condado                           159.0                     15.0   \n",
       "Aracena                                       384.0                     48.0   \n",
       "Bollullos Par del Condado                     319.0                     32.0   \n",
       "Gibraleón                                     379.0                     16.0   \n",
       "Valverde del Camino                           329.0                     30.0   \n",
       "Beas                                           98.0                     28.0   \n",
       "Manzanilla                                     62.0                      7.0   \n",
       "Paymogo                                        29.0                     17.0   \n",
       "Cerro de Andévalo (El)                        104.0                     32.0   \n",
       "Puebla de Guzmán                               57.0                     12.0   \n",
       "Calañas                                       125.0                     53.0   \n",
       "San Bartolomé de la Torre                      86.0                     24.0   \n",
       "Villablanca                                    79.0                      4.0   \n",
       "Cumbres Mayores                                23.0                      3.0   \n",
       "Palos de la Frontera                          306.0                     17.0   \n",
       "Alosno                                         89.0                     11.0   \n",
       "Villarrasa                                    112.0                     10.0   \n",
       "Jabugo                                         50.0                      2.0   \n",
       "Niebla                                        125.0                      5.0   \n",
       "Minas de Riotinto                              93.0                     17.0   \n",
       "Escacena del Campo                            109.0                      7.0   \n",
       "Bonares                                        95.0                      6.0   \n",
       "Berrocal                                        7.0                      7.0   \n",
       "Aroche                                         79.0                      4.0   \n",
       "Zalamea la Real                                51.0                      2.0   \n",
       "Corteconcepción                                22.0                      1.0   \n",
       "Galaroza                                       11.0                      1.0   \n",
       "Lucena del Puerto                             116.0                      1.0   \n",
       "\n",
       "Medida                             Confirmados PDIA 14 días  Población  \\\n",
       "Lugar de residencia                                                      \n",
       "Huelva                                               4325.0   510743.0   \n",
       "Huelva-Costa                                         2934.0   288115.0   \n",
       "Huelva (capital)                                     1056.0   143663.0   \n",
       "Condado-Campiña                                       858.0   155057.0   \n",
       "Isla Cristina                                         759.0    21264.0   \n",
       "Ayamonte                                              261.0    20946.0   \n",
       "Lepe                                                  282.0    27431.0   \n",
       "Sierra de Huelva-Andévalo Central                     443.0    67571.0   \n",
       "Punta Umbría                                           84.0    15242.0   \n",
       "Aljaraque                                             180.0    21260.0   \n",
       "Villalba del Alcor                                    185.0     3338.0   \n",
       "Almonte                                                76.0    24191.0   \n",
       "Palma del Condado (La)                                133.0    10761.0   \n",
       "Moguer                                                 98.0    22088.0   \n",
       "Cartaya                                               162.0    19974.0   \n",
       "Villanueva de los Castillejos                          32.0     2820.0   \n",
       "San Juan del Puerto                                    58.0     9300.0   \n",
       "Trigueros                                              20.0     7713.0   \n",
       "Rociana del Condado                                    30.0     7855.0   \n",
       "Aracena                                                66.0     8107.0   \n",
       "Bollullos Par del Condado                              56.0    14272.0   \n",
       "Gibraleón                                              20.0    12607.0   \n",
       "Valverde del Camino                                    40.0    12820.0   \n",
       "Beas                                                   40.0     4257.0   \n",
       "Manzanilla                                             10.0     2135.0   \n",
       "Paymogo                                                17.0     1159.0   \n",
       "Cerro de Andévalo (El)                                 43.0     2364.0   \n",
       "Puebla de Guzmán                                       30.0     3073.0   \n",
       "Calañas                                                75.0     2791.0   \n",
       "San Bartolomé de la Torre                              34.0     3736.0   \n",
       "Villablanca                                             9.0     2848.0   \n",
       "Cumbres Mayores                                         3.0     1755.0   \n",
       "Palos de la Frontera                                   32.0    11289.0   \n",
       "Alosno                                                 38.0     3923.0   \n",
       "Villarrasa                                             21.0     2176.0   \n",
       "Jabugo                                                  4.0     2250.0   \n",
       "Niebla                                                  7.0     4117.0   \n",
       "Minas de Riotinto                                      25.0     3848.0   \n",
       "Escacena del Campo                                      8.0     2284.0   \n",
       "Bonares                                                23.0     6058.0   \n",
       "Berrocal                                                7.0      312.0   \n",
       "Aroche                                                 11.0     3073.0   \n",
       "Zalamea la Real                                         2.0     3068.0   \n",
       "Corteconcepción                                         2.0      548.0   \n",
       "Galaroza                                                1.0     1379.0   \n",
       "Lucena del Puerto                                       4.0     3371.0   \n",
       "\n",
       "Medida                                   tasa7       tasa14  Diferencia PDIA  \n",
       "Lugar de residencia                                                           \n",
       "Huelva                              462.659302   846.805536            591.0  \n",
       "Huelva-Costa                        561.928397  1018.343370            438.0  \n",
       "Huelva (capital)                    354.997459   735.053563            127.0  \n",
       "Condado-Campiña                     286.991235   553.344899            121.0  \n",
       "Isla Cristina                      2073.927765  3569.413093            116.0  \n",
       "Ayamonte                            849.804259  1246.061300             60.0  \n",
       "Lepe                                590.572710  1028.033976             50.0  \n",
       "Sierra de Huelva-Andévalo Central   412.899025   655.606695             31.0  \n",
       "Punta Umbría                        360.845033   551.108778             23.0  \n",
       "Aljaraque                           404.515522   846.660395             23.0  \n",
       "Villalba del Alcor                 2546.434991  5542.240863             18.0  \n",
       "Almonte                             177.752057   314.166426             15.0  \n",
       "Palma del Condado (La)              557.568999  1235.944615             15.0  \n",
       "Moguer                              203.730532   443.679826             14.0  \n",
       "Cartaya                             505.657355   811.054371             14.0  \n",
       "Villanueva de los Castillejos       992.907801  1134.751773             12.0  \n",
       "San Juan del Puerto                 344.086022   623.655914             10.0  \n",
       "Trigueros                           142.616362   259.302476              8.0  \n",
       "Rociana del Condado                 190.961171   381.922342              7.0  \n",
       "Aracena                             592.080918   814.111262              7.0  \n",
       "Bollullos Par del Condado           224.215247   392.376682              7.0  \n",
       "Gibraleón                           126.913619   158.642024              7.0  \n",
       "Valverde del Camino                 234.009360   312.012480              6.0  \n",
       "Beas                                657.740193   939.628847              5.0  \n",
       "Manzanilla                          327.868852   468.384075              5.0  \n",
       "Paymogo                            1466.781708  1466.781708              5.0  \n",
       "Cerro de Andévalo (El)             1353.637902  1818.950931              5.0  \n",
       "Puebla de Guzmán                    390.497885   976.244712              4.0  \n",
       "Calañas                            1898.960946  2687.208886              4.0  \n",
       "San Bartolomé de la Torre           642.398287   910.064240              3.0  \n",
       "Villablanca                         140.449438   316.011236              2.0  \n",
       "Cumbres Mayores                     170.940171   170.940171              2.0  \n",
       "Palos de la Frontera                150.589069   283.461777              2.0  \n",
       "Alosno                              280.397655   968.646444              2.0  \n",
       "Villarrasa                          459.558824   965.073529              1.0  \n",
       "Jabugo                               88.888889   177.777778              1.0  \n",
       "Niebla                              121.447656   170.026718              1.0  \n",
       "Minas de Riotinto                   441.787942   649.688150              1.0  \n",
       "Escacena del Campo                  306.479860   350.262697              1.0  \n",
       "Bonares                              99.042588   379.663255              1.0  \n",
       "Berrocal                           2243.589744  2243.589744              1.0  \n",
       "Aroche                              130.165962   357.956394              1.0  \n",
       "Zalamea la Real                      65.189048    65.189048              1.0  \n",
       "Corteconcepción                     182.481752   364.963504              NaN  \n",
       "Galaroza                             72.516316    72.516316              NaN  \n",
       "Lucena del Puerto                    29.664788   118.659152              NaN  "
      ],
      "text/html": "<div>\n<style scoped>\n    .dataframe tbody tr th:only-of-type {\n        vertical-align: middle;\n    }\n\n    .dataframe tbody tr th {\n        vertical-align: top;\n    }\n\n    .dataframe thead th {\n        text-align: right;\n    }\n</style>\n<table border=\"1\" class=\"dataframe\">\n  <thead>\n    <tr style=\"text-align: right;\">\n      <th>Medida</th>\n      <th>Confirmados PDIA</th>\n      <th>Confirmados PDIA 7 días</th>\n      <th>Confirmados PDIA 14 días</th>\n      <th>Población</th>\n      <th>tasa7</th>\n      <th>tasa14</th>\n      <th>Diferencia PDIA</th>\n    </tr>\n    <tr>\n      <th>Lugar de residencia</th>\n      <th></th>\n      <th></th>\n      <th></th>\n      <th></th>\n      <th></th>\n      <th></th>\n      <th></th>\n    </tr>\n  </thead>\n  <tbody>\n    <tr>\n      <th>Huelva</th>\n      <td>16579.0</td>\n      <td>2363.0</td>\n      <td>4325.0</td>\n      <td>510743.0</td>\n      <td>462.659302</td>\n      <td>846.805536</td>\n      <td>591.0</td>\n    </tr>\n    <tr>\n      <th>Huelva-Costa</th>\n      <td>9957.0</td>\n      <td>1619.0</td>\n      <td>2934.0</td>\n      <td>288115.0</td>\n      <td>561.928397</td>\n      <td>1018.343370</td>\n      <td>438.0</td>\n    </tr>\n    <tr>\n      <th>Huelva (capital)</th>\n      <td>4543.0</td>\n      <td>510.0</td>\n      <td>1056.0</td>\n      <td>143663.0</td>\n      <td>354.997459</td>\n      <td>735.053563</td>\n      <td>127.0</td>\n    </tr>\n    <tr>\n      <th>Condado-Campiña</th>\n      <td>4512.0</td>\n      <td>445.0</td>\n      <td>858.0</td>\n      <td>155057.0</td>\n      <td>286.991235</td>\n      <td>553.344899</td>\n      <td>121.0</td>\n    </tr>\n    <tr>\n      <th>Isla Cristina</th>\n      <td>1356.0</td>\n      <td>441.0</td>\n      <td>759.0</td>\n      <td>21264.0</td>\n      <td>2073.927765</td>\n      <td>3569.413093</td>\n      <td>116.0</td>\n    </tr>\n    <tr>\n      <th>Ayamonte</th>\n      <td>634.0</td>\n      <td>178.0</td>\n      <td>261.0</td>\n      <td>20946.0</td>\n      <td>849.804259</td>\n      <td>1246.061300</td>\n      <td>60.0</td>\n    </tr>\n    <tr>\n      <th>Lepe</th>\n      <td>1312.0</td>\n      <td>162.0</td>\n      <td>282.0</td>\n      <td>27431.0</td>\n      <td>590.572710</td>\n      <td>1028.033976</td>\n      <td>50.0</td>\n    </tr>\n    <tr>\n      <th>Sierra de Huelva-Andévalo Central</th>\n      <td>1863.0</td>\n      <td>279.0</td>\n      <td>443.0</td>\n      <td>67571.0</td>\n      <td>412.899025</td>\n      <td>655.606695</td>\n      <td>31.0</td>\n    </tr>\n    <tr>\n      <th>Punta Umbría</th>\n      <td>339.0</td>\n      <td>55.0</td>\n      <td>84.0</td>\n      <td>15242.0</td>\n      <td>360.845033</td>\n      <td>551.108778</td>\n      <td>23.0</td>\n    </tr>\n    <tr>\n      <th>Aljaraque</th>\n      <td>674.0</td>\n      <td>86.0</td>\n      <td>180.0</td>\n      <td>21260.0</td>\n      <td>404.515522</td>\n      <td>846.660395</td>\n      <td>23.0</td>\n    </tr>\n    <tr>\n      <th>Villalba del Alcor</th>\n      <td>299.0</td>\n      <td>85.0</td>\n      <td>185.0</td>\n      <td>3338.0</td>\n      <td>2546.434991</td>\n      <td>5542.240863</td>\n      <td>18.0</td>\n    </tr>\n    <tr>\n      <th>Almonte</th>\n      <td>538.0</td>\n      <td>43.0</td>\n      <td>76.0</td>\n      <td>24191.0</td>\n      <td>177.752057</td>\n      <td>314.166426</td>\n      <td>15.0</td>\n    </tr>\n    <tr>\n      <th>Palma del Condado (La)</th>\n      <td>718.0</td>\n      <td>60.0</td>\n      <td>133.0</td>\n      <td>10761.0</td>\n      <td>557.568999</td>\n      <td>1235.944615</td>\n      <td>15.0</td>\n    </tr>\n    <tr>\n      <th>Moguer</th>\n      <td>538.0</td>\n      <td>45.0</td>\n      <td>98.0</td>\n      <td>22088.0</td>\n      <td>203.730532</td>\n      <td>443.679826</td>\n      <td>14.0</td>\n    </tr>\n    <tr>\n      <th>Cartaya</th>\n      <td>628.0</td>\n      <td>101.0</td>\n      <td>162.0</td>\n      <td>19974.0</td>\n      <td>505.657355</td>\n      <td>811.054371</td>\n      <td>14.0</td>\n    </tr>\n    <tr>\n      <th>Villanueva de los Castillejos</th>\n      <td>99.0</td>\n      <td>28.0</td>\n      <td>32.0</td>\n      <td>2820.0</td>\n      <td>992.907801</td>\n      <td>1134.751773</td>\n      <td>12.0</td>\n    </tr>\n    <tr>\n      <th>San Juan del Puerto</th>\n      <td>226.0</td>\n      <td>32.0</td>\n      <td>58.0</td>\n      <td>9300.0</td>\n      <td>344.086022</td>\n      <td>623.655914</td>\n      <td>10.0</td>\n    </tr>\n    <tr>\n      <th>Trigueros</th>\n      <td>154.0</td>\n      <td>11.0</td>\n      <td>20.0</td>\n      <td>7713.0</td>\n      <td>142.616362</td>\n      <td>259.302476</td>\n      <td>8.0</td>\n    </tr>\n    <tr>\n      <th>Rociana del Condado</th>\n      <td>159.0</td>\n      <td>15.0</td>\n      <td>30.0</td>\n      <td>7855.0</td>\n      <td>190.961171</td>\n      <td>381.922342</td>\n      <td>7.0</td>\n    </tr>\n    <tr>\n      <th>Aracena</th>\n      <td>384.0</td>\n      <td>48.0</td>\n      <td>66.0</td>\n      <td>8107.0</td>\n      <td>592.080918</td>\n      <td>814.111262</td>\n      <td>7.0</td>\n    </tr>\n    <tr>\n      <th>Bollullos Par del Condado</th>\n      <td>319.0</td>\n      <td>32.0</td>\n      <td>56.0</td>\n      <td>14272.0</td>\n      <td>224.215247</td>\n      <td>392.376682</td>\n      <td>7.0</td>\n    </tr>\n    <tr>\n      <th>Gibraleón</th>\n      <td>379.0</td>\n      <td>16.0</td>\n      <td>20.0</td>\n      <td>12607.0</td>\n      <td>126.913619</td>\n      <td>158.642024</td>\n      <td>7.0</td>\n    </tr>\n    <tr>\n      <th>Valverde del Camino</th>\n      <td>329.0</td>\n      <td>30.0</td>\n      <td>40.0</td>\n      <td>12820.0</td>\n      <td>234.009360</td>\n      <td>312.012480</td>\n      <td>6.0</td>\n    </tr>\n    <tr>\n      <th>Beas</th>\n      <td>98.0</td>\n      <td>28.0</td>\n      <td>40.0</td>\n      <td>4257.0</td>\n      <td>657.740193</td>\n      <td>939.628847</td>\n      <td>5.0</td>\n    </tr>\n    <tr>\n      <th>Manzanilla</th>\n      <td>62.0</td>\n      <td>7.0</td>\n      <td>10.0</td>\n      <td>2135.0</td>\n      <td>327.868852</td>\n      <td>468.384075</td>\n      <td>5.0</td>\n    </tr>\n    <tr>\n      <th>Paymogo</th>\n      <td>29.0</td>\n      <td>17.0</td>\n      <td>17.0</td>\n      <td>1159.0</td>\n      <td>1466.781708</td>\n      <td>1466.781708</td>\n      <td>5.0</td>\n    </tr>\n    <tr>\n      <th>Cerro de Andévalo (El)</th>\n      <td>104.0</td>\n      <td>32.0</td>\n      <td>43.0</td>\n      <td>2364.0</td>\n      <td>1353.637902</td>\n      <td>1818.950931</td>\n      <td>5.0</td>\n    </tr>\n    <tr>\n      <th>Puebla de Guzmán</th>\n      <td>57.0</td>\n      <td>12.0</td>\n      <td>30.0</td>\n      <td>3073.0</td>\n      <td>390.497885</td>\n      <td>976.244712</td>\n      <td>4.0</td>\n    </tr>\n    <tr>\n      <th>Calañas</th>\n      <td>125.0</td>\n      <td>53.0</td>\n      <td>75.0</td>\n      <td>2791.0</td>\n      <td>1898.960946</td>\n      <td>2687.208886</td>\n      <td>4.0</td>\n    </tr>\n    <tr>\n      <th>San Bartolomé de la Torre</th>\n      <td>86.0</td>\n      <td>24.0</td>\n      <td>34.0</td>\n      <td>3736.0</td>\n      <td>642.398287</td>\n      <td>910.064240</td>\n      <td>3.0</td>\n    </tr>\n    <tr>\n      <th>Villablanca</th>\n      <td>79.0</td>\n      <td>4.0</td>\n      <td>9.0</td>\n      <td>2848.0</td>\n      <td>140.449438</td>\n      <td>316.011236</td>\n      <td>2.0</td>\n    </tr>\n    <tr>\n      <th>Cumbres Mayores</th>\n      <td>23.0</td>\n      <td>3.0</td>\n      <td>3.0</td>\n      <td>1755.0</td>\n      <td>170.940171</td>\n      <td>170.940171</td>\n      <td>2.0</td>\n    </tr>\n    <tr>\n      <th>Palos de la Frontera</th>\n      <td>306.0</td>\n      <td>17.0</td>\n      <td>32.0</td>\n      <td>11289.0</td>\n      <td>150.589069</td>\n      <td>283.461777</td>\n      <td>2.0</td>\n    </tr>\n    <tr>\n      <th>Alosno</th>\n      <td>89.0</td>\n      <td>11.0</td>\n      <td>38.0</td>\n      <td>3923.0</td>\n      <td>280.397655</td>\n      <td>968.646444</td>\n      <td>2.0</td>\n    </tr>\n    <tr>\n      <th>Villarrasa</th>\n      <td>112.0</td>\n      <td>10.0</td>\n      <td>21.0</td>\n      <td>2176.0</td>\n      <td>459.558824</td>\n      <td>965.073529</td>\n      <td>1.0</td>\n    </tr>\n    <tr>\n      <th>Jabugo</th>\n      <td>50.0</td>\n      <td>2.0</td>\n      <td>4.0</td>\n      <td>2250.0</td>\n      <td>88.888889</td>\n      <td>177.777778</td>\n      <td>1.0</td>\n    </tr>\n    <tr>\n      <th>Niebla</th>\n      <td>125.0</td>\n      <td>5.0</td>\n      <td>7.0</td>\n      <td>4117.0</td>\n      <td>121.447656</td>\n      <td>170.026718</td>\n      <td>1.0</td>\n    </tr>\n    <tr>\n      <th>Minas de Riotinto</th>\n      <td>93.0</td>\n      <td>17.0</td>\n      <td>25.0</td>\n      <td>3848.0</td>\n      <td>441.787942</td>\n      <td>649.688150</td>\n      <td>1.0</td>\n    </tr>\n    <tr>\n      <th>Escacena del Campo</th>\n      <td>109.0</td>\n      <td>7.0</td>\n      <td>8.0</td>\n      <td>2284.0</td>\n      <td>306.479860</td>\n      <td>350.262697</td>\n      <td>1.0</td>\n    </tr>\n    <tr>\n      <th>Bonares</th>\n      <td>95.0</td>\n      <td>6.0</td>\n      <td>23.0</td>\n      <td>6058.0</td>\n      <td>99.042588</td>\n      <td>379.663255</td>\n      <td>1.0</td>\n    </tr>\n    <tr>\n      <th>Berrocal</th>\n      <td>7.0</td>\n      <td>7.0</td>\n      <td>7.0</td>\n      <td>312.0</td>\n      <td>2243.589744</td>\n      <td>2243.589744</td>\n      <td>1.0</td>\n    </tr>\n    <tr>\n      <th>Aroche</th>\n      <td>79.0</td>\n      <td>4.0</td>\n      <td>11.0</td>\n      <td>3073.0</td>\n      <td>130.165962</td>\n      <td>357.956394</td>\n      <td>1.0</td>\n    </tr>\n    <tr>\n      <th>Zalamea la Real</th>\n      <td>51.0</td>\n      <td>2.0</td>\n      <td>2.0</td>\n      <td>3068.0</td>\n      <td>65.189048</td>\n      <td>65.189048</td>\n      <td>1.0</td>\n    </tr>\n    <tr>\n      <th>Corteconcepción</th>\n      <td>22.0</td>\n      <td>1.0</td>\n      <td>2.0</td>\n      <td>548.0</td>\n      <td>182.481752</td>\n      <td>364.963504</td>\n      <td>NaN</td>\n    </tr>\n    <tr>\n      <th>Galaroza</th>\n      <td>11.0</td>\n      <td>1.0</td>\n      <td>1.0</td>\n      <td>1379.0</td>\n      <td>72.516316</td>\n      <td>72.516316</td>\n      <td>NaN</td>\n    </tr>\n    <tr>\n      <th>Lucena del Puerto</th>\n      <td>116.0</td>\n      <td>1.0</td>\n      <td>4.0</td>\n      <td>3371.0</td>\n      <td>29.664788</td>\n      <td>118.659152</td>\n      <td>NaN</td>\n    </tr>\n  </tbody>\n</table>\n</div>"
     },
     "metadata": {},
     "execution_count": 15
    }
   ],
   "source": [
    "# Nuevos casos desde la última captura\n",
    "tabla[tabla['Diferencia PDIA'] != 0].sort_values('Diferencia PDIA', ascending=False)"
   ]
  },
  {
   "cell_type": "code",
   "execution_count": 16,
   "metadata": {},
   "outputs": [],
   "source": [
    "if tabla[tabla['Diferencia PDIA'] != 0]['Diferencia PDIA'].sum() > 0:\n",
    "  # Save to csv\n",
    "  tabla.to_csv('covid_huelva.csv', encoding='utf-8', header=True, index=True)  "
   ]
  },
  {
   "cell_type": "code",
   "execution_count": 17,
   "metadata": {},
   "outputs": [
    {
     "output_type": "execute_result",
     "data": {
      "text/plain": [
       "Medida                    Confirmados PDIA  Confirmados PDIA 7 días  \\\n",
       "Lugar de residencia                                                   \n",
       "Encinasola                           104.0                     42.0   \n",
       "Villalba del Alcor                   299.0                     85.0   \n",
       "Villanueva de las Cruces              15.0                      8.0   \n",
       "Isla Cristina                       1356.0                    441.0   \n",
       "Calañas                              125.0                     53.0   \n",
       "...                                    ...                      ...   \n",
       "Alájar                                 6.0                      1.0   \n",
       "Lucena del Puerto                    116.0                      1.0   \n",
       "Paterna del Campo                     73.0                      1.0   \n",
       "Galaroza                              11.0                      1.0   \n",
       "Zalamea la Real                       51.0                      2.0   \n",
       "\n",
       "Medida                    Confirmados PDIA 14 días  Población        tasa7  \\\n",
       "Lugar de residencia                                                          \n",
       "Encinasola                                    90.0     1305.0  3218.390805   \n",
       "Villalba del Alcor                           185.0     3338.0  2546.434991   \n",
       "Villanueva de las Cruces                      15.0      373.0  2144.772118   \n",
       "Isla Cristina                                759.0    21264.0  2073.927765   \n",
       "Calañas                                       75.0     2791.0  1898.960946   \n",
       "...                                            ...        ...          ...   \n",
       "Alájar                                         1.0      756.0   132.275132   \n",
       "Lucena del Puerto                              4.0     3371.0    29.664788   \n",
       "Paterna del Campo                              3.0     3509.0    28.498148   \n",
       "Galaroza                                       1.0     1379.0    72.516316   \n",
       "Zalamea la Real                                2.0     3068.0    65.189048   \n",
       "\n",
       "Medida                         tasa14  Diferencia PDIA  \n",
       "Lugar de residencia                                     \n",
       "Encinasola                6896.551724              0.0  \n",
       "Villalba del Alcor        5542.240863             18.0  \n",
       "Villanueva de las Cruces  4021.447721              0.0  \n",
       "Isla Cristina             3569.413093            116.0  \n",
       "Calañas                   2687.208886              4.0  \n",
       "...                               ...              ...  \n",
       "Alájar                     132.275132              0.0  \n",
       "Lucena del Puerto          118.659152              NaN  \n",
       "Paterna del Campo           85.494443              0.0  \n",
       "Galaroza                    72.516316              NaN  \n",
       "Zalamea la Real             65.189048              1.0  \n",
       "\n",
       "[61 rows x 7 columns]"
      ],
      "text/html": "<div>\n<style scoped>\n    .dataframe tbody tr th:only-of-type {\n        vertical-align: middle;\n    }\n\n    .dataframe tbody tr th {\n        vertical-align: top;\n    }\n\n    .dataframe thead th {\n        text-align: right;\n    }\n</style>\n<table border=\"1\" class=\"dataframe\">\n  <thead>\n    <tr style=\"text-align: right;\">\n      <th>Medida</th>\n      <th>Confirmados PDIA</th>\n      <th>Confirmados PDIA 7 días</th>\n      <th>Confirmados PDIA 14 días</th>\n      <th>Población</th>\n      <th>tasa7</th>\n      <th>tasa14</th>\n      <th>Diferencia PDIA</th>\n    </tr>\n    <tr>\n      <th>Lugar de residencia</th>\n      <th></th>\n      <th></th>\n      <th></th>\n      <th></th>\n      <th></th>\n      <th></th>\n      <th></th>\n    </tr>\n  </thead>\n  <tbody>\n    <tr>\n      <th>Encinasola</th>\n      <td>104.0</td>\n      <td>42.0</td>\n      <td>90.0</td>\n      <td>1305.0</td>\n      <td>3218.390805</td>\n      <td>6896.551724</td>\n      <td>0.0</td>\n    </tr>\n    <tr>\n      <th>Villalba del Alcor</th>\n      <td>299.0</td>\n      <td>85.0</td>\n      <td>185.0</td>\n      <td>3338.0</td>\n      <td>2546.434991</td>\n      <td>5542.240863</td>\n      <td>18.0</td>\n    </tr>\n    <tr>\n      <th>Villanueva de las Cruces</th>\n      <td>15.0</td>\n      <td>8.0</td>\n      <td>15.0</td>\n      <td>373.0</td>\n      <td>2144.772118</td>\n      <td>4021.447721</td>\n      <td>0.0</td>\n    </tr>\n    <tr>\n      <th>Isla Cristina</th>\n      <td>1356.0</td>\n      <td>441.0</td>\n      <td>759.0</td>\n      <td>21264.0</td>\n      <td>2073.927765</td>\n      <td>3569.413093</td>\n      <td>116.0</td>\n    </tr>\n    <tr>\n      <th>Calañas</th>\n      <td>125.0</td>\n      <td>53.0</td>\n      <td>75.0</td>\n      <td>2791.0</td>\n      <td>1898.960946</td>\n      <td>2687.208886</td>\n      <td>4.0</td>\n    </tr>\n    <tr>\n      <th>...</th>\n      <td>...</td>\n      <td>...</td>\n      <td>...</td>\n      <td>...</td>\n      <td>...</td>\n      <td>...</td>\n      <td>...</td>\n    </tr>\n    <tr>\n      <th>Alájar</th>\n      <td>6.0</td>\n      <td>1.0</td>\n      <td>1.0</td>\n      <td>756.0</td>\n      <td>132.275132</td>\n      <td>132.275132</td>\n      <td>0.0</td>\n    </tr>\n    <tr>\n      <th>Lucena del Puerto</th>\n      <td>116.0</td>\n      <td>1.0</td>\n      <td>4.0</td>\n      <td>3371.0</td>\n      <td>29.664788</td>\n      <td>118.659152</td>\n      <td>NaN</td>\n    </tr>\n    <tr>\n      <th>Paterna del Campo</th>\n      <td>73.0</td>\n      <td>1.0</td>\n      <td>3.0</td>\n      <td>3509.0</td>\n      <td>28.498148</td>\n      <td>85.494443</td>\n      <td>0.0</td>\n    </tr>\n    <tr>\n      <th>Galaroza</th>\n      <td>11.0</td>\n      <td>1.0</td>\n      <td>1.0</td>\n      <td>1379.0</td>\n      <td>72.516316</td>\n      <td>72.516316</td>\n      <td>NaN</td>\n    </tr>\n    <tr>\n      <th>Zalamea la Real</th>\n      <td>51.0</td>\n      <td>2.0</td>\n      <td>2.0</td>\n      <td>3068.0</td>\n      <td>65.189048</td>\n      <td>65.189048</td>\n      <td>1.0</td>\n    </tr>\n  </tbody>\n</table>\n<p>61 rows × 7 columns</p>\n</div>"
     },
     "metadata": {},
     "execution_count": 17
    }
   ],
   "source": [
    "tabla.sort_values('tasa14', ascending=False)"
   ]
  },
  {
   "cell_type": "code",
   "execution_count": 18,
   "metadata": {},
   "outputs": [
    {
     "output_type": "execute_result",
     "data": {
      "text/plain": [
       "Medida               Confirmados PDIA  Confirmados PDIA 7 días  \\\n",
       "Lugar de residencia                                              \n",
       "Lucena del Puerto               116.0                      1.0   \n",
       "Cortegana                       167.0                      8.0   \n",
       "Bonares                          95.0                      6.0   \n",
       "Alosno                           89.0                     11.0   \n",
       "Paterna del Campo                73.0                      1.0   \n",
       "...                               ...                      ...   \n",
       "Alájar                            6.0                      1.0   \n",
       "Cumbres Mayores                  23.0                      3.0   \n",
       "Cortelazor                        3.0                      1.0   \n",
       "Paymogo                          29.0                     17.0   \n",
       "Berrocal                          7.0                      7.0   \n",
       "\n",
       "Medida               Confirmados PDIA 14 días  Población        tasa7  \\\n",
       "Lugar de residencia                                                     \n",
       "Lucena del Puerto                         4.0     3371.0    29.664788   \n",
       "Cortegana                                32.0     4666.0   171.453065   \n",
       "Bonares                                  23.0     6058.0    99.042588   \n",
       "Alosno                                   38.0     3923.0   280.397655   \n",
       "Paterna del Campo                         3.0     3509.0    28.498148   \n",
       "...                                       ...        ...          ...   \n",
       "Alájar                                    1.0      756.0   132.275132   \n",
       "Cumbres Mayores                           3.0     1755.0   170.940171   \n",
       "Cortelazor                                1.0      299.0   334.448161   \n",
       "Paymogo                                  17.0     1159.0  1466.781708   \n",
       "Berrocal                                  7.0      312.0  2243.589744   \n",
       "\n",
       "Medida                    tasa14  Diferencia PDIA      7/14  \n",
       "Lugar de residencia                                          \n",
       "Lucena del Puerto     118.659152              0.0  0.250000  \n",
       "Cortegana             685.812259              0.0  0.250000  \n",
       "Bonares               379.663255              1.0  0.260870  \n",
       "Alosno                968.646444              2.0  0.289474  \n",
       "Paterna del Campo      85.494443              0.0  0.333333  \n",
       "...                          ...              ...       ...  \n",
       "Alájar                132.275132              0.0  1.000000  \n",
       "Cumbres Mayores       170.940171              2.0  1.000000  \n",
       "Cortelazor            334.448161              0.0  1.000000  \n",
       "Paymogo              1466.781708              5.0  1.000000  \n",
       "Berrocal             2243.589744              1.0  1.000000  \n",
       "\n",
       "[61 rows x 8 columns]"
      ],
      "text/html": "<div>\n<style scoped>\n    .dataframe tbody tr th:only-of-type {\n        vertical-align: middle;\n    }\n\n    .dataframe tbody tr th {\n        vertical-align: top;\n    }\n\n    .dataframe thead th {\n        text-align: right;\n    }\n</style>\n<table border=\"1\" class=\"dataframe\">\n  <thead>\n    <tr style=\"text-align: right;\">\n      <th>Medida</th>\n      <th>Confirmados PDIA</th>\n      <th>Confirmados PDIA 7 días</th>\n      <th>Confirmados PDIA 14 días</th>\n      <th>Población</th>\n      <th>tasa7</th>\n      <th>tasa14</th>\n      <th>Diferencia PDIA</th>\n      <th>7/14</th>\n    </tr>\n    <tr>\n      <th>Lugar de residencia</th>\n      <th></th>\n      <th></th>\n      <th></th>\n      <th></th>\n      <th></th>\n      <th></th>\n      <th></th>\n      <th></th>\n    </tr>\n  </thead>\n  <tbody>\n    <tr>\n      <th>Lucena del Puerto</th>\n      <td>116.0</td>\n      <td>1.0</td>\n      <td>4.0</td>\n      <td>3371.0</td>\n      <td>29.664788</td>\n      <td>118.659152</td>\n      <td>0.0</td>\n      <td>0.250000</td>\n    </tr>\n    <tr>\n      <th>Cortegana</th>\n      <td>167.0</td>\n      <td>8.0</td>\n      <td>32.0</td>\n      <td>4666.0</td>\n      <td>171.453065</td>\n      <td>685.812259</td>\n      <td>0.0</td>\n      <td>0.250000</td>\n    </tr>\n    <tr>\n      <th>Bonares</th>\n      <td>95.0</td>\n      <td>6.0</td>\n      <td>23.0</td>\n      <td>6058.0</td>\n      <td>99.042588</td>\n      <td>379.663255</td>\n      <td>1.0</td>\n      <td>0.260870</td>\n    </tr>\n    <tr>\n      <th>Alosno</th>\n      <td>89.0</td>\n      <td>11.0</td>\n      <td>38.0</td>\n      <td>3923.0</td>\n      <td>280.397655</td>\n      <td>968.646444</td>\n      <td>2.0</td>\n      <td>0.289474</td>\n    </tr>\n    <tr>\n      <th>Paterna del Campo</th>\n      <td>73.0</td>\n      <td>1.0</td>\n      <td>3.0</td>\n      <td>3509.0</td>\n      <td>28.498148</td>\n      <td>85.494443</td>\n      <td>0.0</td>\n      <td>0.333333</td>\n    </tr>\n    <tr>\n      <th>...</th>\n      <td>...</td>\n      <td>...</td>\n      <td>...</td>\n      <td>...</td>\n      <td>...</td>\n      <td>...</td>\n      <td>...</td>\n      <td>...</td>\n    </tr>\n    <tr>\n      <th>Alájar</th>\n      <td>6.0</td>\n      <td>1.0</td>\n      <td>1.0</td>\n      <td>756.0</td>\n      <td>132.275132</td>\n      <td>132.275132</td>\n      <td>0.0</td>\n      <td>1.000000</td>\n    </tr>\n    <tr>\n      <th>Cumbres Mayores</th>\n      <td>23.0</td>\n      <td>3.0</td>\n      <td>3.0</td>\n      <td>1755.0</td>\n      <td>170.940171</td>\n      <td>170.940171</td>\n      <td>2.0</td>\n      <td>1.000000</td>\n    </tr>\n    <tr>\n      <th>Cortelazor</th>\n      <td>3.0</td>\n      <td>1.0</td>\n      <td>1.0</td>\n      <td>299.0</td>\n      <td>334.448161</td>\n      <td>334.448161</td>\n      <td>0.0</td>\n      <td>1.000000</td>\n    </tr>\n    <tr>\n      <th>Paymogo</th>\n      <td>29.0</td>\n      <td>17.0</td>\n      <td>17.0</td>\n      <td>1159.0</td>\n      <td>1466.781708</td>\n      <td>1466.781708</td>\n      <td>5.0</td>\n      <td>1.000000</td>\n    </tr>\n    <tr>\n      <th>Berrocal</th>\n      <td>7.0</td>\n      <td>7.0</td>\n      <td>7.0</td>\n      <td>312.0</td>\n      <td>2243.589744</td>\n      <td>2243.589744</td>\n      <td>1.0</td>\n      <td>1.000000</td>\n    </tr>\n  </tbody>\n</table>\n<p>61 rows × 8 columns</p>\n</div>"
     },
     "metadata": {},
     "execution_count": 18
    }
   ],
   "source": [
    "# Peso de la tasa de la última semana en relación con la tasa a 14 días \n",
    "# Mejor cuanto menor. Valor 1 significa que no había casos antes de 7 días.\n",
    "tabla['7/14'] = tabla['tasa7'] / tabla['tasa14']\n",
    "tabla.fillna(0).sort_values('7/14', ascending=True)"
   ]
  },
  {
   "cell_type": "code",
   "execution_count": null,
   "metadata": {},
   "outputs": [],
   "source": []
  }
 ]
}