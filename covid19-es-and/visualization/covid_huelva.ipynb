{
 "metadata": {
  "language_info": {
   "codemirror_mode": {
    "name": "ipython",
    "version": 3
   },
   "file_extension": ".py",
   "mimetype": "text/x-python",
   "name": "python",
   "nbconvert_exporter": "python",
   "pygments_lexer": "ipython3",
   "version": "3.8.6-final"
  },
  "orig_nbformat": 2,
  "kernelspec": {
   "name": "python38564bit75945252d6ba481bad4868286020c89e",
   "display_name": "Python 3.8.5 64-bit",
   "language": "python"
  }
 },
 "nbformat": 4,
 "nbformat_minor": 2,
 "cells": [
  {
   "cell_type": "code",
   "execution_count": 1,
   "metadata": {},
   "outputs": [],
   "source": [
    "import pandas as pd"
   ]
  },
  {
   "cell_type": "code",
   "execution_count": 2,
   "metadata": {},
   "outputs": [],
   "source": [
    "# FIX SSL: CERTIFICATE_VERIFY_FAILED with Python3\n",
    "# https://stackoverflow.com/a/49174340\n",
    "import ssl\n",
    "\n",
    "ssl._create_default_https_context = ssl._create_unverified_context"
   ]
  },
  {
   "cell_type": "code",
   "execution_count": 3,
   "metadata": {},
   "outputs": [],
   "source": [
    "url = 'https://www.juntadeandalucia.es/institutodeestadisticaycartografia/badea/stpivot/stpivot/Print?cube=013d884c-cfc5-4c21-9e78-e26225682afd&type=3&foto=si&ejecutaDesde=&codConsulta=38668&consTipoVisua=JP'\n",
    "fields = ['Lugar de residencia', 'Medida', 'Valor']\n",
    "df = pd.read_csv(url, delimiter=';', usecols=fields, decimal=',')"
   ]
  },
  {
   "cell_type": "code",
   "execution_count": 4,
   "metadata": {},
   "outputs": [
    {
     "output_type": "execute_result",
     "data": {
      "text/plain": [
       "                     Lugar de residencia                    Medida  \\\n",
       "0                                 Huelva                 Población   \n",
       "1                                 Huelva          Confirmados PDIA   \n",
       "2                                 Huelva  Confirmados PDIA 14 días   \n",
       "3                                 Huelva         Tasa PDIA 14 días   \n",
       "4                                 Huelva   Confirmados PDIA 7 días   \n",
       "..                                   ...                       ...   \n",
       "627  Municipio de Huelva sin especificar         Tasa PDIA 14 días   \n",
       "628  Municipio de Huelva sin especificar   Confirmados PDIA 7 días   \n",
       "629  Municipio de Huelva sin especificar        Total Confirmados    \n",
       "630  Municipio de Huelva sin especificar                   Curados   \n",
       "631  Municipio de Huelva sin especificar                Fallecidos   \n",
       "\n",
       "                  Valor  \n",
       "0                510743  \n",
       "1                 11079  \n",
       "2                   820  \n",
       "3    160,55041380890194  \n",
       "4                   355  \n",
       "..                  ...  \n",
       "627                   -  \n",
       "628                   3  \n",
       "629                 127  \n",
       "630                 106  \n",
       "631                   1  \n",
       "\n",
       "[632 rows x 3 columns]"
      ],
      "text/html": "<div>\n<style scoped>\n    .dataframe tbody tr th:only-of-type {\n        vertical-align: middle;\n    }\n\n    .dataframe tbody tr th {\n        vertical-align: top;\n    }\n\n    .dataframe thead th {\n        text-align: right;\n    }\n</style>\n<table border=\"1\" class=\"dataframe\">\n  <thead>\n    <tr style=\"text-align: right;\">\n      <th></th>\n      <th>Lugar de residencia</th>\n      <th>Medida</th>\n      <th>Valor</th>\n    </tr>\n  </thead>\n  <tbody>\n    <tr>\n      <th>0</th>\n      <td>Huelva</td>\n      <td>Población</td>\n      <td>510743</td>\n    </tr>\n    <tr>\n      <th>1</th>\n      <td>Huelva</td>\n      <td>Confirmados PDIA</td>\n      <td>11079</td>\n    </tr>\n    <tr>\n      <th>2</th>\n      <td>Huelva</td>\n      <td>Confirmados PDIA 14 días</td>\n      <td>820</td>\n    </tr>\n    <tr>\n      <th>3</th>\n      <td>Huelva</td>\n      <td>Tasa PDIA 14 días</td>\n      <td>160,55041380890194</td>\n    </tr>\n    <tr>\n      <th>4</th>\n      <td>Huelva</td>\n      <td>Confirmados PDIA 7 días</td>\n      <td>355</td>\n    </tr>\n    <tr>\n      <th>...</th>\n      <td>...</td>\n      <td>...</td>\n      <td>...</td>\n    </tr>\n    <tr>\n      <th>627</th>\n      <td>Municipio de Huelva sin especificar</td>\n      <td>Tasa PDIA 14 días</td>\n      <td>-</td>\n    </tr>\n    <tr>\n      <th>628</th>\n      <td>Municipio de Huelva sin especificar</td>\n      <td>Confirmados PDIA 7 días</td>\n      <td>3</td>\n    </tr>\n    <tr>\n      <th>629</th>\n      <td>Municipio de Huelva sin especificar</td>\n      <td>Total Confirmados</td>\n      <td>127</td>\n    </tr>\n    <tr>\n      <th>630</th>\n      <td>Municipio de Huelva sin especificar</td>\n      <td>Curados</td>\n      <td>106</td>\n    </tr>\n    <tr>\n      <th>631</th>\n      <td>Municipio de Huelva sin especificar</td>\n      <td>Fallecidos</td>\n      <td>1</td>\n    </tr>\n  </tbody>\n</table>\n<p>632 rows × 3 columns</p>\n</div>"
     },
     "metadata": {},
     "execution_count": 4
    }
   ],
   "source": [
    "df"
   ]
  },
  {
   "cell_type": "code",
   "execution_count": 5,
   "metadata": {},
   "outputs": [],
   "source": [
    "df['Valor'] = pd.to_numeric(df['Valor'],errors='coerce')"
   ]
  },
  {
   "cell_type": "code",
   "execution_count": 6,
   "metadata": {},
   "outputs": [],
   "source": [
    "dfAnterior = pd.read_csv('covid_huelva.csv', index_col='Lugar de residencia')"
   ]
  },
  {
   "cell_type": "code",
   "execution_count": 7,
   "metadata": {
    "tags": []
   },
   "outputs": [
    {
     "output_type": "stream",
     "name": "stdout",
     "text": [
      "Confirmados PCR en la provincia de Huelva:  11079.0\n"
     ]
    }
   ],
   "source": [
    "# Confirmados PCR provincia Huelva\n",
    "p = df[df['Lugar de residencia'] == 'Huelva'][df['Medida'] == 'Confirmados PDIA']['Valor'].values[0]\n",
    "print('Confirmados PCR en la provincia de Huelva: ', p)"
   ]
  },
  {
   "cell_type": "code",
   "execution_count": 8,
   "metadata": {
    "tags": []
   },
   "outputs": [
    {
     "output_type": "stream",
     "name": "stdout",
     "text": [
      "Confirmados PCR en Huelva capital:  3130.0\n"
     ]
    }
   ],
   "source": [
    "# Confirmados PCR Huelva capitalpd\n",
    "c = df[df['Lugar de residencia'] == 'Huelva (capital)'][df['Medida'] == 'Confirmados PDIA']['Valor'].values[0]\n",
    "print('Confirmados PCR en Huelva capital: ', c)"
   ]
  },
  {
   "cell_type": "code",
   "execution_count": 9,
   "metadata": {
    "tags": []
   },
   "outputs": [],
   "source": [
    "c7 = df[df['Lugar de residencia'] == 'Huelva (capital)'][df['Medida'] == 'Confirmados PDIA 7 días']['Valor'].values[0]\n",
    "c14 = df[df['Lugar de residencia'] == 'Huelva (capital)'][df['Medida'] == 'Confirmados PDIA 14 días']['Valor'].values[0]\n",
    "p = df[df['Lugar de residencia'] == 'Huelva (capital)'][df['Medida'] == 'Población']['Valor'].values[0]"
   ]
  },
  {
   "cell_type": "code",
   "execution_count": 10,
   "metadata": {
    "tags": []
   },
   "outputs": [
    {
     "output_type": "stream",
     "name": "stdout",
     "text": [
      "Huelva (capital)\n\nUn positivo PCR cada 1355 personas en los últimos 7 días \n\nUn positivo PCR cada 601 personas en los últimos 14 días\n"
     ]
    }
   ],
   "source": [
    "print('Huelva (capital)\\n')\n",
    "#print('Confirmados PCR 7 días x 1,000 habitantes: ', f\"{c7/(p/1000):.5f}\")\n",
    "print('Un positivo PCR cada', f\"{p/c7:.0f}\", 'personas en los últimos 7 días', '\\n')\n",
    "#print('Confirmados PCR 14 días x 1,000 habitantes: ', f\"{c14/(p/1000):.5f}\")\n",
    "print('Un positivo PCR cada', f\"{p/c14:.0f}\", 'personas en los últimos 14 días')"
   ]
  },
  {
   "cell_type": "code",
   "execution_count": 11,
   "metadata": {},
   "outputs": [],
   "source": [
    "filtro = ((df['Medida'] == 'Confirmados PDIA')| (df['Medida'] == 'Confirmados PDIA 7 días') | (df['Medida'] == 'Población' ) | (df['Medida'] == 'Confirmados PDIA 14 días')) & (df['Valor'] > 0)\n",
    "tabla = pd.pivot_table(df.loc[filtro], values='Valor', index='Lugar de residencia', columns='Medida').dropna()"
   ]
  },
  {
   "cell_type": "code",
   "execution_count": 12,
   "metadata": {},
   "outputs": [],
   "source": [
    "# Reorder columns\n",
    "tabla = tabla[['Confirmados PDIA', 'Confirmados PDIA 7 días', 'Confirmados PDIA 14 días', 'Población']]"
   ]
  },
  {
   "cell_type": "code",
   "execution_count": 13,
   "metadata": {},
   "outputs": [],
   "source": [
    "tabla['tasa7'] = tabla['Confirmados PDIA 7 días']/tabla['Población']*100000\n",
    "tabla['tasa14'] = tabla['Confirmados PDIA 14 días']/tabla['Población']*100000"
   ]
  },
  {
   "cell_type": "code",
   "execution_count": 14,
   "metadata": {},
   "outputs": [],
   "source": [
    "tabla['Diferencia PDIA'] = tabla['Confirmados PDIA'] - dfAnterior['Confirmados PDIA']"
   ]
  },
  {
   "cell_type": "code",
   "execution_count": 15,
   "metadata": {},
   "outputs": [
    {
     "output_type": "execute_result",
     "data": {
      "text/plain": [
       "Medida                     Confirmados PDIA  Confirmados PDIA 7 días  \\\n",
       "Lugar de residencia                                                    \n",
       "Huelva                              11079.0                    355.0   \n",
       "Huelva-Costa                         6254.0                    242.0   \n",
       "Condado-Campiña                      3413.0                    107.0   \n",
       "Huelva (capital)                     3130.0                    106.0   \n",
       "Cartaya                               414.0                     34.0   \n",
       "Isla Cristina                         448.0                     39.0   \n",
       "Palos de la Frontera                  251.0                     21.0   \n",
       "Palma del Condado (La)                540.0                     20.0   \n",
       "Trigueros                             134.0                      3.0   \n",
       "San Juan del Puerto                   155.0                      2.0   \n",
       "Rociana del Condado                   120.0                      4.0   \n",
       "Almonte                               444.0                      7.0   \n",
       "Niebla                                117.0                      5.0   \n",
       "Moguer                                379.0                     13.0   \n",
       "Ayamonte                              336.0                     10.0   \n",
       "Bonares                                65.0                     17.0   \n",
       "Villablanca                            57.0                      2.0   \n",
       "Bollullos Par del Condado             249.0                      1.0   \n",
       "\n",
       "Medida                     Confirmados PDIA 14 días  Población       tasa7  \\\n",
       "Lugar de residencia                                                          \n",
       "Huelva                                        820.0   510743.0   69.506582   \n",
       "Huelva-Costa                                  533.0   288115.0   83.994238   \n",
       "Condado-Campiña                               259.0   155057.0   69.006881   \n",
       "Huelva (capital)                              239.0   143663.0   73.783786   \n",
       "Cartaya                                        66.0    19974.0  170.221288   \n",
       "Isla Cristina                                  73.0    21264.0  183.408578   \n",
       "Palos de la Frontera                           36.0    11289.0  186.021791   \n",
       "Palma del Condado (La)                         60.0    10761.0  185.856333   \n",
       "Trigueros                                       6.0     7713.0   38.895371   \n",
       "San Juan del Puerto                            17.0     9300.0   21.505376   \n",
       "Rociana del Condado                             5.0     7855.0   50.922979   \n",
       "Almonte                                        11.0    24191.0   28.936381   \n",
       "Niebla                                          5.0     4117.0  121.447656   \n",
       "Moguer                                         41.0    22088.0   58.855487   \n",
       "Ayamonte                                       19.0    20946.0   47.741812   \n",
       "Bonares                                        22.0     6058.0  280.620667   \n",
       "Villablanca                                     3.0     2848.0   70.224719   \n",
       "Bollullos Par del Condado                      15.0    14272.0    7.006726   \n",
       "\n",
       "Medida                         tasa14  Diferencia PDIA  \n",
       "Lugar de residencia                                     \n",
       "Huelva                     160.550414             26.0  \n",
       "Huelva-Costa               184.995575             14.0  \n",
       "Condado-Campiña            167.035348              9.0  \n",
       "Huelva (capital)           166.361554              7.0  \n",
       "Cartaya                    330.429558              3.0  \n",
       "Isla Cristina              343.303236              2.0  \n",
       "Palos de la Frontera       318.894499              2.0  \n",
       "Palma del Condado (La)     557.568999              1.0  \n",
       "Trigueros                   77.790743              1.0  \n",
       "San Juan del Puerto        182.795699              1.0  \n",
       "Rociana del Condado         63.653724              1.0  \n",
       "Almonte                     45.471456              1.0  \n",
       "Niebla                     121.447656              1.0  \n",
       "Moguer                     185.621152              1.0  \n",
       "Ayamonte                    90.709443              1.0  \n",
       "Bonares                    363.156157              1.0  \n",
       "Villablanca                105.337079              1.0  \n",
       "Bollullos Par del Condado  105.100897             -1.0  "
      ],
      "text/html": "<div>\n<style scoped>\n    .dataframe tbody tr th:only-of-type {\n        vertical-align: middle;\n    }\n\n    .dataframe tbody tr th {\n        vertical-align: top;\n    }\n\n    .dataframe thead th {\n        text-align: right;\n    }\n</style>\n<table border=\"1\" class=\"dataframe\">\n  <thead>\n    <tr style=\"text-align: right;\">\n      <th>Medida</th>\n      <th>Confirmados PDIA</th>\n      <th>Confirmados PDIA 7 días</th>\n      <th>Confirmados PDIA 14 días</th>\n      <th>Población</th>\n      <th>tasa7</th>\n      <th>tasa14</th>\n      <th>Diferencia PDIA</th>\n    </tr>\n    <tr>\n      <th>Lugar de residencia</th>\n      <th></th>\n      <th></th>\n      <th></th>\n      <th></th>\n      <th></th>\n      <th></th>\n      <th></th>\n    </tr>\n  </thead>\n  <tbody>\n    <tr>\n      <th>Huelva</th>\n      <td>11079.0</td>\n      <td>355.0</td>\n      <td>820.0</td>\n      <td>510743.0</td>\n      <td>69.506582</td>\n      <td>160.550414</td>\n      <td>26.0</td>\n    </tr>\n    <tr>\n      <th>Huelva-Costa</th>\n      <td>6254.0</td>\n      <td>242.0</td>\n      <td>533.0</td>\n      <td>288115.0</td>\n      <td>83.994238</td>\n      <td>184.995575</td>\n      <td>14.0</td>\n    </tr>\n    <tr>\n      <th>Condado-Campiña</th>\n      <td>3413.0</td>\n      <td>107.0</td>\n      <td>259.0</td>\n      <td>155057.0</td>\n      <td>69.006881</td>\n      <td>167.035348</td>\n      <td>9.0</td>\n    </tr>\n    <tr>\n      <th>Huelva (capital)</th>\n      <td>3130.0</td>\n      <td>106.0</td>\n      <td>239.0</td>\n      <td>143663.0</td>\n      <td>73.783786</td>\n      <td>166.361554</td>\n      <td>7.0</td>\n    </tr>\n    <tr>\n      <th>Cartaya</th>\n      <td>414.0</td>\n      <td>34.0</td>\n      <td>66.0</td>\n      <td>19974.0</td>\n      <td>170.221288</td>\n      <td>330.429558</td>\n      <td>3.0</td>\n    </tr>\n    <tr>\n      <th>Isla Cristina</th>\n      <td>448.0</td>\n      <td>39.0</td>\n      <td>73.0</td>\n      <td>21264.0</td>\n      <td>183.408578</td>\n      <td>343.303236</td>\n      <td>2.0</td>\n    </tr>\n    <tr>\n      <th>Palos de la Frontera</th>\n      <td>251.0</td>\n      <td>21.0</td>\n      <td>36.0</td>\n      <td>11289.0</td>\n      <td>186.021791</td>\n      <td>318.894499</td>\n      <td>2.0</td>\n    </tr>\n    <tr>\n      <th>Palma del Condado (La)</th>\n      <td>540.0</td>\n      <td>20.0</td>\n      <td>60.0</td>\n      <td>10761.0</td>\n      <td>185.856333</td>\n      <td>557.568999</td>\n      <td>1.0</td>\n    </tr>\n    <tr>\n      <th>Trigueros</th>\n      <td>134.0</td>\n      <td>3.0</td>\n      <td>6.0</td>\n      <td>7713.0</td>\n      <td>38.895371</td>\n      <td>77.790743</td>\n      <td>1.0</td>\n    </tr>\n    <tr>\n      <th>San Juan del Puerto</th>\n      <td>155.0</td>\n      <td>2.0</td>\n      <td>17.0</td>\n      <td>9300.0</td>\n      <td>21.505376</td>\n      <td>182.795699</td>\n      <td>1.0</td>\n    </tr>\n    <tr>\n      <th>Rociana del Condado</th>\n      <td>120.0</td>\n      <td>4.0</td>\n      <td>5.0</td>\n      <td>7855.0</td>\n      <td>50.922979</td>\n      <td>63.653724</td>\n      <td>1.0</td>\n    </tr>\n    <tr>\n      <th>Almonte</th>\n      <td>444.0</td>\n      <td>7.0</td>\n      <td>11.0</td>\n      <td>24191.0</td>\n      <td>28.936381</td>\n      <td>45.471456</td>\n      <td>1.0</td>\n    </tr>\n    <tr>\n      <th>Niebla</th>\n      <td>117.0</td>\n      <td>5.0</td>\n      <td>5.0</td>\n      <td>4117.0</td>\n      <td>121.447656</td>\n      <td>121.447656</td>\n      <td>1.0</td>\n    </tr>\n    <tr>\n      <th>Moguer</th>\n      <td>379.0</td>\n      <td>13.0</td>\n      <td>41.0</td>\n      <td>22088.0</td>\n      <td>58.855487</td>\n      <td>185.621152</td>\n      <td>1.0</td>\n    </tr>\n    <tr>\n      <th>Ayamonte</th>\n      <td>336.0</td>\n      <td>10.0</td>\n      <td>19.0</td>\n      <td>20946.0</td>\n      <td>47.741812</td>\n      <td>90.709443</td>\n      <td>1.0</td>\n    </tr>\n    <tr>\n      <th>Bonares</th>\n      <td>65.0</td>\n      <td>17.0</td>\n      <td>22.0</td>\n      <td>6058.0</td>\n      <td>280.620667</td>\n      <td>363.156157</td>\n      <td>1.0</td>\n    </tr>\n    <tr>\n      <th>Villablanca</th>\n      <td>57.0</td>\n      <td>2.0</td>\n      <td>3.0</td>\n      <td>2848.0</td>\n      <td>70.224719</td>\n      <td>105.337079</td>\n      <td>1.0</td>\n    </tr>\n    <tr>\n      <th>Bollullos Par del Condado</th>\n      <td>249.0</td>\n      <td>1.0</td>\n      <td>15.0</td>\n      <td>14272.0</td>\n      <td>7.006726</td>\n      <td>105.100897</td>\n      <td>-1.0</td>\n    </tr>\n  </tbody>\n</table>\n</div>"
     },
     "metadata": {},
     "execution_count": 15
    }
   ],
   "source": [
    "# Nuevos casos desde la última captura\n",
    "tabla[tabla['Diferencia PDIA'] != 0].sort_values('Diferencia PDIA', ascending=False)"
   ]
  },
  {
   "cell_type": "code",
   "execution_count": 16,
   "metadata": {},
   "outputs": [],
   "source": [
    "if tabla[tabla['Diferencia PDIA'] != 0]['Diferencia PDIA'].sum() > 0:\n",
    "  # Save to csv\n",
    "  tabla.to_csv('covid_huelva.csv', encoding='utf-8', header=True, index=True)  "
   ]
  },
  {
   "cell_type": "code",
   "execution_count": 17,
   "metadata": {},
   "outputs": [
    {
     "output_type": "execute_result",
     "data": {
      "text/plain": [
       "Medida                             Confirmados PDIA  Confirmados PDIA 7 días  \\\n",
       "Lugar de residencia                                                            \n",
       "Lucena del Puerto                             104.0                     10.0   \n",
       "Palma del Condado (La)                        540.0                     20.0   \n",
       "Bonares                                        65.0                     17.0   \n",
       "Isla Cristina                                 448.0                     39.0   \n",
       "Cartaya                                       414.0                     34.0   \n",
       "Palos de la Frontera                          251.0                     21.0   \n",
       "Escacena del Campo                             97.0                      1.0   \n",
       "Aljaraque                                     438.0                     19.0   \n",
       "Lepe                                          965.0                     25.0   \n",
       "Paterna del Campo                              68.0                      2.0   \n",
       "Villanueva de los Castillejos                  64.0                      3.0   \n",
       "Moguer                                        379.0                     13.0   \n",
       "Huelva-Costa                                 6254.0                    242.0   \n",
       "San Juan del Puerto                           155.0                      2.0   \n",
       "Condado-Campiña                              3413.0                    107.0   \n",
       "Huelva (capital)                             3130.0                    106.0   \n",
       "Huelva                                      11079.0                    355.0   \n",
       "Niebla                                        117.0                      5.0   \n",
       "Villablanca                                    57.0                      2.0   \n",
       "Bollullos Par del Condado                     249.0                      1.0   \n",
       "Ayamonte                                      336.0                     10.0   \n",
       "Trigueros                                     134.0                      3.0   \n",
       "Puebla de Guzmán                               25.0                      1.0   \n",
       "Rociana del Condado                           120.0                      4.0   \n",
       "Punta Umbría                                  235.0                      3.0   \n",
       "Almonte                                       444.0                      7.0   \n",
       "Cortegana                                     123.0                      1.0   \n",
       "Cerro de Andévalo (El)                         38.0                      1.0   \n",
       "Sierra de Huelva-Andévalo Central            1286.0                      3.0   \n",
       "Aracena                                       287.0                      1.0   \n",
       "Gibraleón                                     350.0                      1.0   \n",
       "\n",
       "Medida                             Confirmados PDIA 14 días  Población  \\\n",
       "Lugar de residencia                                                      \n",
       "Lucena del Puerto                                      21.0     3371.0   \n",
       "Palma del Condado (La)                                 60.0    10761.0   \n",
       "Bonares                                                22.0     6058.0   \n",
       "Isla Cristina                                          73.0    21264.0   \n",
       "Cartaya                                                66.0    19974.0   \n",
       "Palos de la Frontera                                   36.0    11289.0   \n",
       "Escacena del Campo                                      6.0     2284.0   \n",
       "Aljaraque                                              49.0    21260.0   \n",
       "Lepe                                                   63.0    27431.0   \n",
       "Paterna del Campo                                       8.0     3509.0   \n",
       "Villanueva de los Castillejos                           6.0     2820.0   \n",
       "Moguer                                                 41.0    22088.0   \n",
       "Huelva-Costa                                          533.0   288115.0   \n",
       "San Juan del Puerto                                    17.0     9300.0   \n",
       "Condado-Campiña                                       259.0   155057.0   \n",
       "Huelva (capital)                                      239.0   143663.0   \n",
       "Huelva                                                820.0   510743.0   \n",
       "Niebla                                                  5.0     4117.0   \n",
       "Villablanca                                             3.0     2848.0   \n",
       "Bollullos Par del Condado                              15.0    14272.0   \n",
       "Ayamonte                                               19.0    20946.0   \n",
       "Trigueros                                               6.0     7713.0   \n",
       "Puebla de Guzmán                                        2.0     3073.0   \n",
       "Rociana del Condado                                     5.0     7855.0   \n",
       "Punta Umbría                                            9.0    15242.0   \n",
       "Almonte                                                11.0    24191.0   \n",
       "Cortegana                                               2.0     4666.0   \n",
       "Cerro de Andévalo (El)                                  1.0     2364.0   \n",
       "Sierra de Huelva-Andévalo Central                      23.0    67571.0   \n",
       "Aracena                                                 2.0     8107.0   \n",
       "Gibraleón                                               3.0    12607.0   \n",
       "\n",
       "Medida                                  tasa7      tasa14  Diferencia PDIA  \n",
       "Lugar de residencia                                                         \n",
       "Lucena del Puerto                  296.647879  622.960546              0.0  \n",
       "Palma del Condado (La)             185.856333  557.568999              1.0  \n",
       "Bonares                            280.620667  363.156157              1.0  \n",
       "Isla Cristina                      183.408578  343.303236              2.0  \n",
       "Cartaya                            170.221288  330.429558              3.0  \n",
       "Palos de la Frontera               186.021791  318.894499              2.0  \n",
       "Escacena del Campo                  43.782837  262.697023              0.0  \n",
       "Aljaraque                           89.369708  230.479774              0.0  \n",
       "Lepe                                91.137764  229.667165              0.0  \n",
       "Paterna del Campo                   56.996295  227.985181              0.0  \n",
       "Villanueva de los Castillejos      106.382979  212.765957              0.0  \n",
       "Moguer                              58.855487  185.621152              1.0  \n",
       "Huelva-Costa                        83.994238  184.995575             14.0  \n",
       "San Juan del Puerto                 21.505376  182.795699              1.0  \n",
       "Condado-Campiña                     69.006881  167.035348              9.0  \n",
       "Huelva (capital)                    73.783786  166.361554              7.0  \n",
       "Huelva                              69.506582  160.550414             26.0  \n",
       "Niebla                             121.447656  121.447656              1.0  \n",
       "Villablanca                         70.224719  105.337079              1.0  \n",
       "Bollullos Par del Condado            7.006726  105.100897             -1.0  \n",
       "Ayamonte                            47.741812   90.709443              1.0  \n",
       "Trigueros                           38.895371   77.790743              1.0  \n",
       "Puebla de Guzmán                    32.541490   65.082981              0.0  \n",
       "Rociana del Condado                 50.922979   63.653724              1.0  \n",
       "Punta Umbría                        19.682456   59.047369              0.0  \n",
       "Almonte                             28.936381   45.471456              1.0  \n",
       "Cortegana                           21.431633   42.863266              0.0  \n",
       "Cerro de Andévalo (El)              42.301184   42.301184              0.0  \n",
       "Sierra de Huelva-Andévalo Central    4.439774   34.038271              0.0  \n",
       "Aracena                             12.335019   24.670038              0.0  \n",
       "Gibraleón                            7.932101   23.796304              0.0  "
      ],
      "text/html": "<div>\n<style scoped>\n    .dataframe tbody tr th:only-of-type {\n        vertical-align: middle;\n    }\n\n    .dataframe tbody tr th {\n        vertical-align: top;\n    }\n\n    .dataframe thead th {\n        text-align: right;\n    }\n</style>\n<table border=\"1\" class=\"dataframe\">\n  <thead>\n    <tr style=\"text-align: right;\">\n      <th>Medida</th>\n      <th>Confirmados PDIA</th>\n      <th>Confirmados PDIA 7 días</th>\n      <th>Confirmados PDIA 14 días</th>\n      <th>Población</th>\n      <th>tasa7</th>\n      <th>tasa14</th>\n      <th>Diferencia PDIA</th>\n    </tr>\n    <tr>\n      <th>Lugar de residencia</th>\n      <th></th>\n      <th></th>\n      <th></th>\n      <th></th>\n      <th></th>\n      <th></th>\n      <th></th>\n    </tr>\n  </thead>\n  <tbody>\n    <tr>\n      <th>Lucena del Puerto</th>\n      <td>104.0</td>\n      <td>10.0</td>\n      <td>21.0</td>\n      <td>3371.0</td>\n      <td>296.647879</td>\n      <td>622.960546</td>\n      <td>0.0</td>\n    </tr>\n    <tr>\n      <th>Palma del Condado (La)</th>\n      <td>540.0</td>\n      <td>20.0</td>\n      <td>60.0</td>\n      <td>10761.0</td>\n      <td>185.856333</td>\n      <td>557.568999</td>\n      <td>1.0</td>\n    </tr>\n    <tr>\n      <th>Bonares</th>\n      <td>65.0</td>\n      <td>17.0</td>\n      <td>22.0</td>\n      <td>6058.0</td>\n      <td>280.620667</td>\n      <td>363.156157</td>\n      <td>1.0</td>\n    </tr>\n    <tr>\n      <th>Isla Cristina</th>\n      <td>448.0</td>\n      <td>39.0</td>\n      <td>73.0</td>\n      <td>21264.0</td>\n      <td>183.408578</td>\n      <td>343.303236</td>\n      <td>2.0</td>\n    </tr>\n    <tr>\n      <th>Cartaya</th>\n      <td>414.0</td>\n      <td>34.0</td>\n      <td>66.0</td>\n      <td>19974.0</td>\n      <td>170.221288</td>\n      <td>330.429558</td>\n      <td>3.0</td>\n    </tr>\n    <tr>\n      <th>Palos de la Frontera</th>\n      <td>251.0</td>\n      <td>21.0</td>\n      <td>36.0</td>\n      <td>11289.0</td>\n      <td>186.021791</td>\n      <td>318.894499</td>\n      <td>2.0</td>\n    </tr>\n    <tr>\n      <th>Escacena del Campo</th>\n      <td>97.0</td>\n      <td>1.0</td>\n      <td>6.0</td>\n      <td>2284.0</td>\n      <td>43.782837</td>\n      <td>262.697023</td>\n      <td>0.0</td>\n    </tr>\n    <tr>\n      <th>Aljaraque</th>\n      <td>438.0</td>\n      <td>19.0</td>\n      <td>49.0</td>\n      <td>21260.0</td>\n      <td>89.369708</td>\n      <td>230.479774</td>\n      <td>0.0</td>\n    </tr>\n    <tr>\n      <th>Lepe</th>\n      <td>965.0</td>\n      <td>25.0</td>\n      <td>63.0</td>\n      <td>27431.0</td>\n      <td>91.137764</td>\n      <td>229.667165</td>\n      <td>0.0</td>\n    </tr>\n    <tr>\n      <th>Paterna del Campo</th>\n      <td>68.0</td>\n      <td>2.0</td>\n      <td>8.0</td>\n      <td>3509.0</td>\n      <td>56.996295</td>\n      <td>227.985181</td>\n      <td>0.0</td>\n    </tr>\n    <tr>\n      <th>Villanueva de los Castillejos</th>\n      <td>64.0</td>\n      <td>3.0</td>\n      <td>6.0</td>\n      <td>2820.0</td>\n      <td>106.382979</td>\n      <td>212.765957</td>\n      <td>0.0</td>\n    </tr>\n    <tr>\n      <th>Moguer</th>\n      <td>379.0</td>\n      <td>13.0</td>\n      <td>41.0</td>\n      <td>22088.0</td>\n      <td>58.855487</td>\n      <td>185.621152</td>\n      <td>1.0</td>\n    </tr>\n    <tr>\n      <th>Huelva-Costa</th>\n      <td>6254.0</td>\n      <td>242.0</td>\n      <td>533.0</td>\n      <td>288115.0</td>\n      <td>83.994238</td>\n      <td>184.995575</td>\n      <td>14.0</td>\n    </tr>\n    <tr>\n      <th>San Juan del Puerto</th>\n      <td>155.0</td>\n      <td>2.0</td>\n      <td>17.0</td>\n      <td>9300.0</td>\n      <td>21.505376</td>\n      <td>182.795699</td>\n      <td>1.0</td>\n    </tr>\n    <tr>\n      <th>Condado-Campiña</th>\n      <td>3413.0</td>\n      <td>107.0</td>\n      <td>259.0</td>\n      <td>155057.0</td>\n      <td>69.006881</td>\n      <td>167.035348</td>\n      <td>9.0</td>\n    </tr>\n    <tr>\n      <th>Huelva (capital)</th>\n      <td>3130.0</td>\n      <td>106.0</td>\n      <td>239.0</td>\n      <td>143663.0</td>\n      <td>73.783786</td>\n      <td>166.361554</td>\n      <td>7.0</td>\n    </tr>\n    <tr>\n      <th>Huelva</th>\n      <td>11079.0</td>\n      <td>355.0</td>\n      <td>820.0</td>\n      <td>510743.0</td>\n      <td>69.506582</td>\n      <td>160.550414</td>\n      <td>26.0</td>\n    </tr>\n    <tr>\n      <th>Niebla</th>\n      <td>117.0</td>\n      <td>5.0</td>\n      <td>5.0</td>\n      <td>4117.0</td>\n      <td>121.447656</td>\n      <td>121.447656</td>\n      <td>1.0</td>\n    </tr>\n    <tr>\n      <th>Villablanca</th>\n      <td>57.0</td>\n      <td>2.0</td>\n      <td>3.0</td>\n      <td>2848.0</td>\n      <td>70.224719</td>\n      <td>105.337079</td>\n      <td>1.0</td>\n    </tr>\n    <tr>\n      <th>Bollullos Par del Condado</th>\n      <td>249.0</td>\n      <td>1.0</td>\n      <td>15.0</td>\n      <td>14272.0</td>\n      <td>7.006726</td>\n      <td>105.100897</td>\n      <td>-1.0</td>\n    </tr>\n    <tr>\n      <th>Ayamonte</th>\n      <td>336.0</td>\n      <td>10.0</td>\n      <td>19.0</td>\n      <td>20946.0</td>\n      <td>47.741812</td>\n      <td>90.709443</td>\n      <td>1.0</td>\n    </tr>\n    <tr>\n      <th>Trigueros</th>\n      <td>134.0</td>\n      <td>3.0</td>\n      <td>6.0</td>\n      <td>7713.0</td>\n      <td>38.895371</td>\n      <td>77.790743</td>\n      <td>1.0</td>\n    </tr>\n    <tr>\n      <th>Puebla de Guzmán</th>\n      <td>25.0</td>\n      <td>1.0</td>\n      <td>2.0</td>\n      <td>3073.0</td>\n      <td>32.541490</td>\n      <td>65.082981</td>\n      <td>0.0</td>\n    </tr>\n    <tr>\n      <th>Rociana del Condado</th>\n      <td>120.0</td>\n      <td>4.0</td>\n      <td>5.0</td>\n      <td>7855.0</td>\n      <td>50.922979</td>\n      <td>63.653724</td>\n      <td>1.0</td>\n    </tr>\n    <tr>\n      <th>Punta Umbría</th>\n      <td>235.0</td>\n      <td>3.0</td>\n      <td>9.0</td>\n      <td>15242.0</td>\n      <td>19.682456</td>\n      <td>59.047369</td>\n      <td>0.0</td>\n    </tr>\n    <tr>\n      <th>Almonte</th>\n      <td>444.0</td>\n      <td>7.0</td>\n      <td>11.0</td>\n      <td>24191.0</td>\n      <td>28.936381</td>\n      <td>45.471456</td>\n      <td>1.0</td>\n    </tr>\n    <tr>\n      <th>Cortegana</th>\n      <td>123.0</td>\n      <td>1.0</td>\n      <td>2.0</td>\n      <td>4666.0</td>\n      <td>21.431633</td>\n      <td>42.863266</td>\n      <td>0.0</td>\n    </tr>\n    <tr>\n      <th>Cerro de Andévalo (El)</th>\n      <td>38.0</td>\n      <td>1.0</td>\n      <td>1.0</td>\n      <td>2364.0</td>\n      <td>42.301184</td>\n      <td>42.301184</td>\n      <td>0.0</td>\n    </tr>\n    <tr>\n      <th>Sierra de Huelva-Andévalo Central</th>\n      <td>1286.0</td>\n      <td>3.0</td>\n      <td>23.0</td>\n      <td>67571.0</td>\n      <td>4.439774</td>\n      <td>34.038271</td>\n      <td>0.0</td>\n    </tr>\n    <tr>\n      <th>Aracena</th>\n      <td>287.0</td>\n      <td>1.0</td>\n      <td>2.0</td>\n      <td>8107.0</td>\n      <td>12.335019</td>\n      <td>24.670038</td>\n      <td>0.0</td>\n    </tr>\n    <tr>\n      <th>Gibraleón</th>\n      <td>350.0</td>\n      <td>1.0</td>\n      <td>3.0</td>\n      <td>12607.0</td>\n      <td>7.932101</td>\n      <td>23.796304</td>\n      <td>0.0</td>\n    </tr>\n  </tbody>\n</table>\n</div>"
     },
     "metadata": {},
     "execution_count": 17
    }
   ],
   "source": [
    "tabla.sort_values('tasa14', ascending=False)"
   ]
  },
  {
   "cell_type": "code",
   "execution_count": 18,
   "metadata": {},
   "outputs": [
    {
     "output_type": "execute_result",
     "data": {
      "text/plain": [
       "Medida                             Confirmados PDIA  Confirmados PDIA 7 días  \\\n",
       "Lugar de residencia                                                            \n",
       "Bollullos Par del Condado                     249.0                      1.0   \n",
       "San Juan del Puerto                           155.0                      2.0   \n",
       "Sierra de Huelva-Andévalo Central            1286.0                      3.0   \n",
       "Escacena del Campo                             97.0                      1.0   \n",
       "Paterna del Campo                              68.0                      2.0   \n",
       "Moguer                                        379.0                     13.0   \n",
       "Punta Umbría                                  235.0                      3.0   \n",
       "Palma del Condado (La)                        540.0                     20.0   \n",
       "Gibraleón                                     350.0                      1.0   \n",
       "Aljaraque                                     438.0                     19.0   \n",
       "Lepe                                          965.0                     25.0   \n",
       "Condado-Campiña                              3413.0                    107.0   \n",
       "Huelva                                      11079.0                    355.0   \n",
       "Huelva (capital)                             3130.0                    106.0   \n",
       "Huelva-Costa                                 6254.0                    242.0   \n",
       "Lucena del Puerto                             104.0                     10.0   \n",
       "Trigueros                                     134.0                      3.0   \n",
       "Puebla de Guzmán                               25.0                      1.0   \n",
       "Villanueva de los Castillejos                  64.0                      3.0   \n",
       "Cortegana                                     123.0                      1.0   \n",
       "Aracena                                       287.0                      1.0   \n",
       "Cartaya                                       414.0                     34.0   \n",
       "Ayamonte                                      336.0                     10.0   \n",
       "Isla Cristina                                 448.0                     39.0   \n",
       "Palos de la Frontera                          251.0                     21.0   \n",
       "Almonte                                       444.0                      7.0   \n",
       "Villablanca                                    57.0                      2.0   \n",
       "Bonares                                        65.0                     17.0   \n",
       "Rociana del Condado                           120.0                      4.0   \n",
       "Niebla                                        117.0                      5.0   \n",
       "Cerro de Andévalo (El)                         38.0                      1.0   \n",
       "\n",
       "Medida                             Confirmados PDIA 14 días  Población  \\\n",
       "Lugar de residencia                                                      \n",
       "Bollullos Par del Condado                              15.0    14272.0   \n",
       "San Juan del Puerto                                    17.0     9300.0   \n",
       "Sierra de Huelva-Andévalo Central                      23.0    67571.0   \n",
       "Escacena del Campo                                      6.0     2284.0   \n",
       "Paterna del Campo                                       8.0     3509.0   \n",
       "Moguer                                                 41.0    22088.0   \n",
       "Punta Umbría                                            9.0    15242.0   \n",
       "Palma del Condado (La)                                 60.0    10761.0   \n",
       "Gibraleón                                               3.0    12607.0   \n",
       "Aljaraque                                              49.0    21260.0   \n",
       "Lepe                                                   63.0    27431.0   \n",
       "Condado-Campiña                                       259.0   155057.0   \n",
       "Huelva                                                820.0   510743.0   \n",
       "Huelva (capital)                                      239.0   143663.0   \n",
       "Huelva-Costa                                          533.0   288115.0   \n",
       "Lucena del Puerto                                      21.0     3371.0   \n",
       "Trigueros                                               6.0     7713.0   \n",
       "Puebla de Guzmán                                        2.0     3073.0   \n",
       "Villanueva de los Castillejos                           6.0     2820.0   \n",
       "Cortegana                                               2.0     4666.0   \n",
       "Aracena                                                 2.0     8107.0   \n",
       "Cartaya                                                66.0    19974.0   \n",
       "Ayamonte                                               19.0    20946.0   \n",
       "Isla Cristina                                          73.0    21264.0   \n",
       "Palos de la Frontera                                   36.0    11289.0   \n",
       "Almonte                                                11.0    24191.0   \n",
       "Villablanca                                             3.0     2848.0   \n",
       "Bonares                                                22.0     6058.0   \n",
       "Rociana del Condado                                     5.0     7855.0   \n",
       "Niebla                                                  5.0     4117.0   \n",
       "Cerro de Andévalo (El)                                  1.0     2364.0   \n",
       "\n",
       "Medida                                  tasa7      tasa14  Diferencia PDIA  \\\n",
       "Lugar de residencia                                                          \n",
       "Bollullos Par del Condado            7.006726  105.100897             -1.0   \n",
       "San Juan del Puerto                 21.505376  182.795699              1.0   \n",
       "Sierra de Huelva-Andévalo Central    4.439774   34.038271              0.0   \n",
       "Escacena del Campo                  43.782837  262.697023              0.0   \n",
       "Paterna del Campo                   56.996295  227.985181              0.0   \n",
       "Moguer                              58.855487  185.621152              1.0   \n",
       "Punta Umbría                        19.682456   59.047369              0.0   \n",
       "Palma del Condado (La)             185.856333  557.568999              1.0   \n",
       "Gibraleón                            7.932101   23.796304              0.0   \n",
       "Aljaraque                           89.369708  230.479774              0.0   \n",
       "Lepe                                91.137764  229.667165              0.0   \n",
       "Condado-Campiña                     69.006881  167.035348              9.0   \n",
       "Huelva                              69.506582  160.550414             26.0   \n",
       "Huelva (capital)                    73.783786  166.361554              7.0   \n",
       "Huelva-Costa                        83.994238  184.995575             14.0   \n",
       "Lucena del Puerto                  296.647879  622.960546              0.0   \n",
       "Trigueros                           38.895371   77.790743              1.0   \n",
       "Puebla de Guzmán                    32.541490   65.082981              0.0   \n",
       "Villanueva de los Castillejos      106.382979  212.765957              0.0   \n",
       "Cortegana                           21.431633   42.863266              0.0   \n",
       "Aracena                             12.335019   24.670038              0.0   \n",
       "Cartaya                            170.221288  330.429558              3.0   \n",
       "Ayamonte                            47.741812   90.709443              1.0   \n",
       "Isla Cristina                      183.408578  343.303236              2.0   \n",
       "Palos de la Frontera               186.021791  318.894499              2.0   \n",
       "Almonte                             28.936381   45.471456              1.0   \n",
       "Villablanca                         70.224719  105.337079              1.0   \n",
       "Bonares                            280.620667  363.156157              1.0   \n",
       "Rociana del Condado                 50.922979   63.653724              1.0   \n",
       "Niebla                             121.447656  121.447656              1.0   \n",
       "Cerro de Andévalo (El)              42.301184   42.301184              0.0   \n",
       "\n",
       "Medida                                 7/14  \n",
       "Lugar de residencia                          \n",
       "Bollullos Par del Condado          0.066667  \n",
       "San Juan del Puerto                0.117647  \n",
       "Sierra de Huelva-Andévalo Central  0.130435  \n",
       "Escacena del Campo                 0.166667  \n",
       "Paterna del Campo                  0.250000  \n",
       "Moguer                             0.317073  \n",
       "Punta Umbría                       0.333333  \n",
       "Palma del Condado (La)             0.333333  \n",
       "Gibraleón                          0.333333  \n",
       "Aljaraque                          0.387755  \n",
       "Lepe                               0.396825  \n",
       "Condado-Campiña                    0.413127  \n",
       "Huelva                             0.432927  \n",
       "Huelva (capital)                   0.443515  \n",
       "Huelva-Costa                       0.454034  \n",
       "Lucena del Puerto                  0.476190  \n",
       "Trigueros                          0.500000  \n",
       "Puebla de Guzmán                   0.500000  \n",
       "Villanueva de los Castillejos      0.500000  \n",
       "Cortegana                          0.500000  \n",
       "Aracena                            0.500000  \n",
       "Cartaya                            0.515152  \n",
       "Ayamonte                           0.526316  \n",
       "Isla Cristina                      0.534247  \n",
       "Palos de la Frontera               0.583333  \n",
       "Almonte                            0.636364  \n",
       "Villablanca                        0.666667  \n",
       "Bonares                            0.772727  \n",
       "Rociana del Condado                0.800000  \n",
       "Niebla                             1.000000  \n",
       "Cerro de Andévalo (El)             1.000000  "
      ],
      "text/html": "<div>\n<style scoped>\n    .dataframe tbody tr th:only-of-type {\n        vertical-align: middle;\n    }\n\n    .dataframe tbody tr th {\n        vertical-align: top;\n    }\n\n    .dataframe thead th {\n        text-align: right;\n    }\n</style>\n<table border=\"1\" class=\"dataframe\">\n  <thead>\n    <tr style=\"text-align: right;\">\n      <th>Medida</th>\n      <th>Confirmados PDIA</th>\n      <th>Confirmados PDIA 7 días</th>\n      <th>Confirmados PDIA 14 días</th>\n      <th>Población</th>\n      <th>tasa7</th>\n      <th>tasa14</th>\n      <th>Diferencia PDIA</th>\n      <th>7/14</th>\n    </tr>\n    <tr>\n      <th>Lugar de residencia</th>\n      <th></th>\n      <th></th>\n      <th></th>\n      <th></th>\n      <th></th>\n      <th></th>\n      <th></th>\n      <th></th>\n    </tr>\n  </thead>\n  <tbody>\n    <tr>\n      <th>Bollullos Par del Condado</th>\n      <td>249.0</td>\n      <td>1.0</td>\n      <td>15.0</td>\n      <td>14272.0</td>\n      <td>7.006726</td>\n      <td>105.100897</td>\n      <td>-1.0</td>\n      <td>0.066667</td>\n    </tr>\n    <tr>\n      <th>San Juan del Puerto</th>\n      <td>155.0</td>\n      <td>2.0</td>\n      <td>17.0</td>\n      <td>9300.0</td>\n      <td>21.505376</td>\n      <td>182.795699</td>\n      <td>1.0</td>\n      <td>0.117647</td>\n    </tr>\n    <tr>\n      <th>Sierra de Huelva-Andévalo Central</th>\n      <td>1286.0</td>\n      <td>3.0</td>\n      <td>23.0</td>\n      <td>67571.0</td>\n      <td>4.439774</td>\n      <td>34.038271</td>\n      <td>0.0</td>\n      <td>0.130435</td>\n    </tr>\n    <tr>\n      <th>Escacena del Campo</th>\n      <td>97.0</td>\n      <td>1.0</td>\n      <td>6.0</td>\n      <td>2284.0</td>\n      <td>43.782837</td>\n      <td>262.697023</td>\n      <td>0.0</td>\n      <td>0.166667</td>\n    </tr>\n    <tr>\n      <th>Paterna del Campo</th>\n      <td>68.0</td>\n      <td>2.0</td>\n      <td>8.0</td>\n      <td>3509.0</td>\n      <td>56.996295</td>\n      <td>227.985181</td>\n      <td>0.0</td>\n      <td>0.250000</td>\n    </tr>\n    <tr>\n      <th>Moguer</th>\n      <td>379.0</td>\n      <td>13.0</td>\n      <td>41.0</td>\n      <td>22088.0</td>\n      <td>58.855487</td>\n      <td>185.621152</td>\n      <td>1.0</td>\n      <td>0.317073</td>\n    </tr>\n    <tr>\n      <th>Punta Umbría</th>\n      <td>235.0</td>\n      <td>3.0</td>\n      <td>9.0</td>\n      <td>15242.0</td>\n      <td>19.682456</td>\n      <td>59.047369</td>\n      <td>0.0</td>\n      <td>0.333333</td>\n    </tr>\n    <tr>\n      <th>Palma del Condado (La)</th>\n      <td>540.0</td>\n      <td>20.0</td>\n      <td>60.0</td>\n      <td>10761.0</td>\n      <td>185.856333</td>\n      <td>557.568999</td>\n      <td>1.0</td>\n      <td>0.333333</td>\n    </tr>\n    <tr>\n      <th>Gibraleón</th>\n      <td>350.0</td>\n      <td>1.0</td>\n      <td>3.0</td>\n      <td>12607.0</td>\n      <td>7.932101</td>\n      <td>23.796304</td>\n      <td>0.0</td>\n      <td>0.333333</td>\n    </tr>\n    <tr>\n      <th>Aljaraque</th>\n      <td>438.0</td>\n      <td>19.0</td>\n      <td>49.0</td>\n      <td>21260.0</td>\n      <td>89.369708</td>\n      <td>230.479774</td>\n      <td>0.0</td>\n      <td>0.387755</td>\n    </tr>\n    <tr>\n      <th>Lepe</th>\n      <td>965.0</td>\n      <td>25.0</td>\n      <td>63.0</td>\n      <td>27431.0</td>\n      <td>91.137764</td>\n      <td>229.667165</td>\n      <td>0.0</td>\n      <td>0.396825</td>\n    </tr>\n    <tr>\n      <th>Condado-Campiña</th>\n      <td>3413.0</td>\n      <td>107.0</td>\n      <td>259.0</td>\n      <td>155057.0</td>\n      <td>69.006881</td>\n      <td>167.035348</td>\n      <td>9.0</td>\n      <td>0.413127</td>\n    </tr>\n    <tr>\n      <th>Huelva</th>\n      <td>11079.0</td>\n      <td>355.0</td>\n      <td>820.0</td>\n      <td>510743.0</td>\n      <td>69.506582</td>\n      <td>160.550414</td>\n      <td>26.0</td>\n      <td>0.432927</td>\n    </tr>\n    <tr>\n      <th>Huelva (capital)</th>\n      <td>3130.0</td>\n      <td>106.0</td>\n      <td>239.0</td>\n      <td>143663.0</td>\n      <td>73.783786</td>\n      <td>166.361554</td>\n      <td>7.0</td>\n      <td>0.443515</td>\n    </tr>\n    <tr>\n      <th>Huelva-Costa</th>\n      <td>6254.0</td>\n      <td>242.0</td>\n      <td>533.0</td>\n      <td>288115.0</td>\n      <td>83.994238</td>\n      <td>184.995575</td>\n      <td>14.0</td>\n      <td>0.454034</td>\n    </tr>\n    <tr>\n      <th>Lucena del Puerto</th>\n      <td>104.0</td>\n      <td>10.0</td>\n      <td>21.0</td>\n      <td>3371.0</td>\n      <td>296.647879</td>\n      <td>622.960546</td>\n      <td>0.0</td>\n      <td>0.476190</td>\n    </tr>\n    <tr>\n      <th>Trigueros</th>\n      <td>134.0</td>\n      <td>3.0</td>\n      <td>6.0</td>\n      <td>7713.0</td>\n      <td>38.895371</td>\n      <td>77.790743</td>\n      <td>1.0</td>\n      <td>0.500000</td>\n    </tr>\n    <tr>\n      <th>Puebla de Guzmán</th>\n      <td>25.0</td>\n      <td>1.0</td>\n      <td>2.0</td>\n      <td>3073.0</td>\n      <td>32.541490</td>\n      <td>65.082981</td>\n      <td>0.0</td>\n      <td>0.500000</td>\n    </tr>\n    <tr>\n      <th>Villanueva de los Castillejos</th>\n      <td>64.0</td>\n      <td>3.0</td>\n      <td>6.0</td>\n      <td>2820.0</td>\n      <td>106.382979</td>\n      <td>212.765957</td>\n      <td>0.0</td>\n      <td>0.500000</td>\n    </tr>\n    <tr>\n      <th>Cortegana</th>\n      <td>123.0</td>\n      <td>1.0</td>\n      <td>2.0</td>\n      <td>4666.0</td>\n      <td>21.431633</td>\n      <td>42.863266</td>\n      <td>0.0</td>\n      <td>0.500000</td>\n    </tr>\n    <tr>\n      <th>Aracena</th>\n      <td>287.0</td>\n      <td>1.0</td>\n      <td>2.0</td>\n      <td>8107.0</td>\n      <td>12.335019</td>\n      <td>24.670038</td>\n      <td>0.0</td>\n      <td>0.500000</td>\n    </tr>\n    <tr>\n      <th>Cartaya</th>\n      <td>414.0</td>\n      <td>34.0</td>\n      <td>66.0</td>\n      <td>19974.0</td>\n      <td>170.221288</td>\n      <td>330.429558</td>\n      <td>3.0</td>\n      <td>0.515152</td>\n    </tr>\n    <tr>\n      <th>Ayamonte</th>\n      <td>336.0</td>\n      <td>10.0</td>\n      <td>19.0</td>\n      <td>20946.0</td>\n      <td>47.741812</td>\n      <td>90.709443</td>\n      <td>1.0</td>\n      <td>0.526316</td>\n    </tr>\n    <tr>\n      <th>Isla Cristina</th>\n      <td>448.0</td>\n      <td>39.0</td>\n      <td>73.0</td>\n      <td>21264.0</td>\n      <td>183.408578</td>\n      <td>343.303236</td>\n      <td>2.0</td>\n      <td>0.534247</td>\n    </tr>\n    <tr>\n      <th>Palos de la Frontera</th>\n      <td>251.0</td>\n      <td>21.0</td>\n      <td>36.0</td>\n      <td>11289.0</td>\n      <td>186.021791</td>\n      <td>318.894499</td>\n      <td>2.0</td>\n      <td>0.583333</td>\n    </tr>\n    <tr>\n      <th>Almonte</th>\n      <td>444.0</td>\n      <td>7.0</td>\n      <td>11.0</td>\n      <td>24191.0</td>\n      <td>28.936381</td>\n      <td>45.471456</td>\n      <td>1.0</td>\n      <td>0.636364</td>\n    </tr>\n    <tr>\n      <th>Villablanca</th>\n      <td>57.0</td>\n      <td>2.0</td>\n      <td>3.0</td>\n      <td>2848.0</td>\n      <td>70.224719</td>\n      <td>105.337079</td>\n      <td>1.0</td>\n      <td>0.666667</td>\n    </tr>\n    <tr>\n      <th>Bonares</th>\n      <td>65.0</td>\n      <td>17.0</td>\n      <td>22.0</td>\n      <td>6058.0</td>\n      <td>280.620667</td>\n      <td>363.156157</td>\n      <td>1.0</td>\n      <td>0.772727</td>\n    </tr>\n    <tr>\n      <th>Rociana del Condado</th>\n      <td>120.0</td>\n      <td>4.0</td>\n      <td>5.0</td>\n      <td>7855.0</td>\n      <td>50.922979</td>\n      <td>63.653724</td>\n      <td>1.0</td>\n      <td>0.800000</td>\n    </tr>\n    <tr>\n      <th>Niebla</th>\n      <td>117.0</td>\n      <td>5.0</td>\n      <td>5.0</td>\n      <td>4117.0</td>\n      <td>121.447656</td>\n      <td>121.447656</td>\n      <td>1.0</td>\n      <td>1.000000</td>\n    </tr>\n    <tr>\n      <th>Cerro de Andévalo (El)</th>\n      <td>38.0</td>\n      <td>1.0</td>\n      <td>1.0</td>\n      <td>2364.0</td>\n      <td>42.301184</td>\n      <td>42.301184</td>\n      <td>0.0</td>\n      <td>1.000000</td>\n    </tr>\n  </tbody>\n</table>\n</div>"
     },
     "metadata": {},
     "execution_count": 18
    }
   ],
   "source": [
    "# Peso de la tasa de la última semana en relación con la tasa a 14 días \n",
    "# Mejor cuanto menor. Valor 1 significa que no había casos antes de 7 días.\n",
    "tabla['7/14'] = tabla['tasa7'] / tabla['tasa14']\n",
    "tabla.fillna(0).sort_values('7/14', ascending=True)"
   ]
  },
  {
   "cell_type": "code",
   "execution_count": null,
   "metadata": {},
   "outputs": [],
   "source": []
  }
 ]
}