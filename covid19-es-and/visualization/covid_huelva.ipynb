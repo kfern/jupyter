{
 "metadata": {
  "language_info": {
   "codemirror_mode": {
    "name": "ipython",
    "version": 3
   },
   "file_extension": ".py",
   "mimetype": "text/x-python",
   "name": "python",
   "nbconvert_exporter": "python",
   "pygments_lexer": "ipython3",
   "version": "3.6.9-final"
  },
  "orig_nbformat": 2,
  "kernelspec": {
   "name": "python_defaultSpec_1599669341792",
   "display_name": "Python 3.6.9 64-bit"
  }
 },
 "nbformat": 4,
 "nbformat_minor": 2,
 "cells": [
  {
   "cell_type": "code",
   "execution_count": 1,
   "metadata": {},
   "outputs": [],
   "source": [
    "import pandas as pd"
   ]
  },
  {
   "cell_type": "code",
   "execution_count": 2,
   "metadata": {},
   "outputs": [],
   "source": [
    "url = 'https://www.juntadeandalucia.es/institutodeestadisticaycartografia/badea/stpivot/stpivot/Print?cube=013d884c-cfc5-4c21-9e78-e26225682afd&type=3&foto=si&ejecutaDesde=&codConsulta=38668&consTipoVisua=JP'\n",
    "fields = ['Lugar de residencia', 'Medida', 'Valor']\n",
    "df = pd.read_csv(url, delimiter=';', usecols=fields)"
   ]
  },
  {
   "cell_type": "code",
   "execution_count": 3,
   "metadata": {},
   "outputs": [],
   "source": [
    "dfAnterior = pd.read_csv('covid_huelva.csv', index_col='Lugar de residencia')"
   ]
  },
  {
   "cell_type": "code",
   "execution_count": 4,
   "metadata": {
    "tags": []
   },
   "outputs": [
    {
     "output_type": "stream",
     "name": "stdout",
     "text": "Confirmados PCR en la provincia de Huelva:  843.0\n"
    }
   ],
   "source": [
    "# Confirmados PCR provincia Huelva\n",
    "p = df[df['Lugar de residencia'] == 'Huelva'][df['Medida'] == 'Confirmados PCR']['Valor'].values[0]\n",
    "print('Confirmados PCR en la provincia de Huelva: ', p)"
   ]
  },
  {
   "cell_type": "code",
   "execution_count": 5,
   "metadata": {
    "tags": []
   },
   "outputs": [
    {
     "output_type": "stream",
     "name": "stdout",
     "text": "Confirmados PCR en Huelva capital:  223.0\n"
    }
   ],
   "source": [
    "# Confirmados PCR Huelva capital\n",
    "c = df[df['Lugar de residencia'] == 'Huelva (capital)'][df['Medida'] == 'Confirmados PCR']['Valor'].values[0]\n",
    "print('Confirmados PCR en Huelva capital: ', c)"
   ]
  },
  {
   "cell_type": "code",
   "execution_count": 6,
   "metadata": {
    "tags": []
   },
   "outputs": [],
   "source": [
    "c7 = df[df['Lugar de residencia'] == 'Huelva (capital)'][df['Medida'] == 'Confirmados PCR 7 días']['Valor'].values[0]\n",
    "c14 = df[df['Lugar de residencia'] == 'Huelva (capital)'][df['Medida'] == 'Confirmados PCR 14 días']['Valor'].values[0]\n",
    "p = df[df['Lugar de residencia'] == 'Huelva (capital)'][df['Medida'] == 'Población']['Valor'].values[0]"
   ]
  },
  {
   "cell_type": "code",
   "execution_count": 7,
   "metadata": {
    "tags": []
   },
   "outputs": [
    {
     "output_type": "stream",
     "name": "stdout",
     "text": "Huelva (capital)\n\nUn positivo PCR cada 8451 personas en los últimos 7 días \n\nUn positivo PCR cada 4634 personas en los últimos 14 días\n"
    }
   ],
   "source": [
    "print('Huelva (capital)\\n')\n",
    "#print('Confirmados PCR 7 días x 1,000 habitantes: ', f\"{c7/(p/1000):.5f}\")\n",
    "print('Un positivo PCR cada', f\"{p/c7:.0f}\", 'personas en los últimos 7 días', '\\n')\n",
    "#print('Confirmados PCR 14 días x 1,000 habitantes: ', f\"{c14/(p/1000):.5f}\")\n",
    "print('Un positivo PCR cada', f\"{p/c14:.0f}\", 'personas en los últimos 14 días')"
   ]
  },
  {
   "cell_type": "code",
   "execution_count": 8,
   "metadata": {},
   "outputs": [],
   "source": [
    "filtro = ((df['Medida'] == 'Confirmados PCR')| (df['Medida'] == 'Confirmados PCR 7 días') | (df['Medida'] == 'Población' ) | (df['Medida'] == 'Confirmados PCR 14 días')) & (df['Valor'] > 0)\n",
    "tabla = pd.pivot_table(df.loc[filtro], values='Valor', index='Lugar de residencia', columns='Medida').dropna()"
   ]
  },
  {
   "cell_type": "code",
   "execution_count": 9,
   "metadata": {},
   "outputs": [],
   "source": [
    "# Reorder columns\n",
    "tabla = tabla[['Confirmados PCR', 'Confirmados PCR 7 días', 'Confirmados PCR 14 días', 'Población']]"
   ]
  },
  {
   "cell_type": "code",
   "execution_count": 10,
   "metadata": {},
   "outputs": [],
   "source": [
    "tabla['tasa7'] = tabla['Confirmados PCR 7 días']/tabla['Población']*100000\n",
    "tabla['tasa14'] = tabla['Confirmados PCR 14 días']/tabla['Población']*100000"
   ]
  },
  {
   "cell_type": "code",
   "execution_count": 11,
   "metadata": {},
   "outputs": [],
   "source": [
    "tabla['Diferencia PCR'] = tabla['Confirmados PCR'] - dfAnterior['Confirmados PCR']"
   ]
  },
  {
   "cell_type": "code",
   "execution_count": 12,
   "metadata": {},
   "outputs": [
    {
     "output_type": "execute_result",
     "data": {
      "text/plain": "Medida                     Confirmados PCR  Confirmados PCR 7 días  \\\nLugar de residencia                                                  \nHuelva                               843.0                   126.0   \nCondado-Campiña                      257.0                    61.0   \nHuelva-Costa                         434.0                    54.0   \nBollullos Par del Condado             23.0                    11.0   \nPalma del Condado (La)                29.0                     9.0   \nLepe                                  59.0                     8.0   \nHuelva (capital)                     223.0                    17.0   \nVillalba del Alcor                    30.0                    17.0   \nEscacena del Campo                    11.0                     7.0   \nIsla Cristina                         34.0                    17.0   \nMoguer                                25.0                     4.0   \nAyamonte                              16.0                     4.0   \nPunta Umbría                          21.0                     4.0   \nTrigueros                             29.0                     4.0   \n\nMedida                     Confirmados PCR 14 días  Población       tasa7  \\\nLugar de residencia                                                         \nHuelva                                       223.0   510743.0   24.669942   \nCondado-Campiña                               92.0   155057.0   39.340372   \nHuelva-Costa                                 101.0   288115.0   18.742516   \nBollullos Par del Condado                     12.0    14272.0   77.073991   \nPalma del Condado (La)                        11.0    10761.0   83.635350   \nLepe                                          21.0    27431.0   29.164084   \nHuelva (capital)                              31.0   143663.0   11.833249   \nVillalba del Alcor                            28.0     3338.0  509.286998   \nEscacena del Campo                            10.0     2284.0  306.479860   \nIsla Cristina                                 22.0    21264.0   79.947329   \nMoguer                                         7.0    22088.0   18.109381   \nAyamonte                                       6.0    20946.0   19.096725   \nPunta Umbría                                   7.0    15242.0   26.243275   \nTrigueros                                      5.0     7713.0   51.860495   \n\nMedida                         tasa14  Diferencia PCR  \nLugar de residencia                                    \nHuelva                      43.661881            32.0  \nCondado-Campiña             59.333019            19.0  \nHuelva-Costa                35.055447            11.0  \nBollullos Par del Condado   84.080717             5.0  \nPalma del Condado (La)     102.220983             5.0  \nLepe                        76.555722             4.0  \nHuelva (capital)            21.578277             3.0  \nVillalba del Alcor         838.825644             3.0  \nEscacena del Campo         437.828371             2.0  \nIsla Cristina              103.461249             2.0  \nMoguer                      31.691416             2.0  \nAyamonte                    28.645087             1.0  \nPunta Umbría                45.925732             1.0  \nTrigueros                   64.825619             1.0  ",
      "text/html": "<div>\n<style scoped>\n    .dataframe tbody tr th:only-of-type {\n        vertical-align: middle;\n    }\n\n    .dataframe tbody tr th {\n        vertical-align: top;\n    }\n\n    .dataframe thead th {\n        text-align: right;\n    }\n</style>\n<table border=\"1\" class=\"dataframe\">\n  <thead>\n    <tr style=\"text-align: right;\">\n      <th>Medida</th>\n      <th>Confirmados PCR</th>\n      <th>Confirmados PCR 7 días</th>\n      <th>Confirmados PCR 14 días</th>\n      <th>Población</th>\n      <th>tasa7</th>\n      <th>tasa14</th>\n      <th>Diferencia PCR</th>\n    </tr>\n    <tr>\n      <th>Lugar de residencia</th>\n      <th></th>\n      <th></th>\n      <th></th>\n      <th></th>\n      <th></th>\n      <th></th>\n      <th></th>\n    </tr>\n  </thead>\n  <tbody>\n    <tr>\n      <th>Huelva</th>\n      <td>843.0</td>\n      <td>126.0</td>\n      <td>223.0</td>\n      <td>510743.0</td>\n      <td>24.669942</td>\n      <td>43.661881</td>\n      <td>32.0</td>\n    </tr>\n    <tr>\n      <th>Condado-Campiña</th>\n      <td>257.0</td>\n      <td>61.0</td>\n      <td>92.0</td>\n      <td>155057.0</td>\n      <td>39.340372</td>\n      <td>59.333019</td>\n      <td>19.0</td>\n    </tr>\n    <tr>\n      <th>Huelva-Costa</th>\n      <td>434.0</td>\n      <td>54.0</td>\n      <td>101.0</td>\n      <td>288115.0</td>\n      <td>18.742516</td>\n      <td>35.055447</td>\n      <td>11.0</td>\n    </tr>\n    <tr>\n      <th>Bollullos Par del Condado</th>\n      <td>23.0</td>\n      <td>11.0</td>\n      <td>12.0</td>\n      <td>14272.0</td>\n      <td>77.073991</td>\n      <td>84.080717</td>\n      <td>5.0</td>\n    </tr>\n    <tr>\n      <th>Palma del Condado (La)</th>\n      <td>29.0</td>\n      <td>9.0</td>\n      <td>11.0</td>\n      <td>10761.0</td>\n      <td>83.635350</td>\n      <td>102.220983</td>\n      <td>5.0</td>\n    </tr>\n    <tr>\n      <th>Lepe</th>\n      <td>59.0</td>\n      <td>8.0</td>\n      <td>21.0</td>\n      <td>27431.0</td>\n      <td>29.164084</td>\n      <td>76.555722</td>\n      <td>4.0</td>\n    </tr>\n    <tr>\n      <th>Huelva (capital)</th>\n      <td>223.0</td>\n      <td>17.0</td>\n      <td>31.0</td>\n      <td>143663.0</td>\n      <td>11.833249</td>\n      <td>21.578277</td>\n      <td>3.0</td>\n    </tr>\n    <tr>\n      <th>Villalba del Alcor</th>\n      <td>30.0</td>\n      <td>17.0</td>\n      <td>28.0</td>\n      <td>3338.0</td>\n      <td>509.286998</td>\n      <td>838.825644</td>\n      <td>3.0</td>\n    </tr>\n    <tr>\n      <th>Escacena del Campo</th>\n      <td>11.0</td>\n      <td>7.0</td>\n      <td>10.0</td>\n      <td>2284.0</td>\n      <td>306.479860</td>\n      <td>437.828371</td>\n      <td>2.0</td>\n    </tr>\n    <tr>\n      <th>Isla Cristina</th>\n      <td>34.0</td>\n      <td>17.0</td>\n      <td>22.0</td>\n      <td>21264.0</td>\n      <td>79.947329</td>\n      <td>103.461249</td>\n      <td>2.0</td>\n    </tr>\n    <tr>\n      <th>Moguer</th>\n      <td>25.0</td>\n      <td>4.0</td>\n      <td>7.0</td>\n      <td>22088.0</td>\n      <td>18.109381</td>\n      <td>31.691416</td>\n      <td>2.0</td>\n    </tr>\n    <tr>\n      <th>Ayamonte</th>\n      <td>16.0</td>\n      <td>4.0</td>\n      <td>6.0</td>\n      <td>20946.0</td>\n      <td>19.096725</td>\n      <td>28.645087</td>\n      <td>1.0</td>\n    </tr>\n    <tr>\n      <th>Punta Umbría</th>\n      <td>21.0</td>\n      <td>4.0</td>\n      <td>7.0</td>\n      <td>15242.0</td>\n      <td>26.243275</td>\n      <td>45.925732</td>\n      <td>1.0</td>\n    </tr>\n    <tr>\n      <th>Trigueros</th>\n      <td>29.0</td>\n      <td>4.0</td>\n      <td>5.0</td>\n      <td>7713.0</td>\n      <td>51.860495</td>\n      <td>64.825619</td>\n      <td>1.0</td>\n    </tr>\n  </tbody>\n</table>\n</div>"
     },
     "metadata": {},
     "execution_count": 12
    }
   ],
   "source": [
    "# Nuevos casos desde la última captura\n",
    "tabla[tabla['Diferencia PCR'] > 0].sort_values('Diferencia PCR', ascending=False)"
   ]
  },
  {
   "cell_type": "code",
   "execution_count": 13,
   "metadata": {},
   "outputs": [],
   "source": [
    "# Save to csv\n",
    "tabla.to_csv('covid_huelva.csv', encoding='utf-8', header=True, index=True)"
   ]
  },
  {
   "cell_type": "code",
   "execution_count": 14,
   "metadata": {},
   "outputs": [
    {
     "output_type": "execute_result",
     "data": {
      "text/plain": "Medida                             Confirmados PCR  Confirmados PCR 7 días  \\\nLugar de residencia                                                          \nVillalba del Alcor                            30.0                    17.0   \nEscacena del Campo                            11.0                     7.0   \nCabezas Rubias                                 2.0                     1.0   \nMinas de Riotinto                             14.0                     1.0   \nIsla Cristina                                 34.0                    17.0   \nPalma del Condado (La)                        29.0                     9.0   \nCortegana                                      8.0                     4.0   \nBollullos Par del Condado                     23.0                    11.0   \nLepe                                          59.0                     8.0   \nTrigueros                                     29.0                     4.0   \nCondado-Campiña                              257.0                    61.0   \nAljaraque                                     46.0                     3.0   \nVillarrasa                                     2.0                     1.0   \nPunta Umbría                                  21.0                     4.0   \nHuelva                                       843.0                   126.0   \nHuelva-Costa                                 434.0                    54.0   \nAlmonte                                       41.0                     6.0   \nZalamea la Real                               14.0                     1.0   \nMoguer                                        25.0                     4.0   \nSierra de Huelva-Andévalo Central            139.0                     6.0   \nAyamonte                                      16.0                     4.0   \nHuelva (capital)                             223.0                    17.0   \nGibraleón                                     12.0                     1.0   \nRociana del Condado                            4.0                     1.0   \n\nMedida                             Confirmados PCR 14 días  Población  \\\nLugar de residencia                                                     \nVillalba del Alcor                                    28.0     3338.0   \nEscacena del Campo                                    10.0     2284.0   \nCabezas Rubias                                         2.0      730.0   \nMinas de Riotinto                                      9.0     3848.0   \nIsla Cristina                                         22.0    21264.0   \nPalma del Condado (La)                                11.0    10761.0   \nCortegana                                              4.0     4666.0   \nBollullos Par del Condado                             12.0    14272.0   \nLepe                                                  21.0    27431.0   \nTrigueros                                              5.0     7713.0   \nCondado-Campiña                                       92.0   155057.0   \nAljaraque                                             10.0    21260.0   \nVillarrasa                                             1.0     2176.0   \nPunta Umbría                                           7.0    15242.0   \nHuelva                                               223.0   510743.0   \nHuelva-Costa                                         101.0   288115.0   \nAlmonte                                                8.0    24191.0   \nZalamea la Real                                        1.0     3068.0   \nMoguer                                                 7.0    22088.0   \nSierra de Huelva-Andévalo Central                     20.0    67571.0   \nAyamonte                                               6.0    20946.0   \nHuelva (capital)                                      31.0   143663.0   \nGibraleón                                              2.0    12607.0   \nRociana del Condado                                    1.0     7855.0   \n\nMedida                                  tasa7      tasa14  Diferencia PCR  \nLugar de residencia                                                        \nVillalba del Alcor                 509.286998  838.825644             3.0  \nEscacena del Campo                 306.479860  437.828371             2.0  \nCabezas Rubias                     136.986301  273.972603             0.0  \nMinas de Riotinto                   25.987526  233.887734             0.0  \nIsla Cristina                       79.947329  103.461249             2.0  \nPalma del Condado (La)              83.635350  102.220983             5.0  \nCortegana                           85.726532   85.726532             0.0  \nBollullos Par del Condado           77.073991   84.080717             5.0  \nLepe                                29.164084   76.555722             4.0  \nTrigueros                           51.860495   64.825619             1.0  \nCondado-Campiña                     39.340372   59.333019            19.0  \nAljaraque                           14.111007   47.036689             0.0  \nVillarrasa                          45.955882   45.955882             NaN  \nPunta Umbría                        26.243275   45.925732             1.0  \nHuelva                              24.669942   43.661881            32.0  \nHuelva-Costa                        18.742516   35.055447            11.0  \nAlmonte                             24.802613   33.070150             0.0  \nZalamea la Real                     32.594524   32.594524             0.0  \nMoguer                              18.109381   31.691416             2.0  \nSierra de Huelva-Andévalo Central    8.879549   29.598496             0.0  \nAyamonte                            19.096725   28.645087             1.0  \nHuelva (capital)                    11.833249   21.578277             3.0  \nGibraleón                            7.932101   15.864202             0.0  \nRociana del Condado                 12.730745   12.730745             0.0  ",
      "text/html": "<div>\n<style scoped>\n    .dataframe tbody tr th:only-of-type {\n        vertical-align: middle;\n    }\n\n    .dataframe tbody tr th {\n        vertical-align: top;\n    }\n\n    .dataframe thead th {\n        text-align: right;\n    }\n</style>\n<table border=\"1\" class=\"dataframe\">\n  <thead>\n    <tr style=\"text-align: right;\">\n      <th>Medida</th>\n      <th>Confirmados PCR</th>\n      <th>Confirmados PCR 7 días</th>\n      <th>Confirmados PCR 14 días</th>\n      <th>Población</th>\n      <th>tasa7</th>\n      <th>tasa14</th>\n      <th>Diferencia PCR</th>\n    </tr>\n    <tr>\n      <th>Lugar de residencia</th>\n      <th></th>\n      <th></th>\n      <th></th>\n      <th></th>\n      <th></th>\n      <th></th>\n      <th></th>\n    </tr>\n  </thead>\n  <tbody>\n    <tr>\n      <th>Villalba del Alcor</th>\n      <td>30.0</td>\n      <td>17.0</td>\n      <td>28.0</td>\n      <td>3338.0</td>\n      <td>509.286998</td>\n      <td>838.825644</td>\n      <td>3.0</td>\n    </tr>\n    <tr>\n      <th>Escacena del Campo</th>\n      <td>11.0</td>\n      <td>7.0</td>\n      <td>10.0</td>\n      <td>2284.0</td>\n      <td>306.479860</td>\n      <td>437.828371</td>\n      <td>2.0</td>\n    </tr>\n    <tr>\n      <th>Cabezas Rubias</th>\n      <td>2.0</td>\n      <td>1.0</td>\n      <td>2.0</td>\n      <td>730.0</td>\n      <td>136.986301</td>\n      <td>273.972603</td>\n      <td>0.0</td>\n    </tr>\n    <tr>\n      <th>Minas de Riotinto</th>\n      <td>14.0</td>\n      <td>1.0</td>\n      <td>9.0</td>\n      <td>3848.0</td>\n      <td>25.987526</td>\n      <td>233.887734</td>\n      <td>0.0</td>\n    </tr>\n    <tr>\n      <th>Isla Cristina</th>\n      <td>34.0</td>\n      <td>17.0</td>\n      <td>22.0</td>\n      <td>21264.0</td>\n      <td>79.947329</td>\n      <td>103.461249</td>\n      <td>2.0</td>\n    </tr>\n    <tr>\n      <th>Palma del Condado (La)</th>\n      <td>29.0</td>\n      <td>9.0</td>\n      <td>11.0</td>\n      <td>10761.0</td>\n      <td>83.635350</td>\n      <td>102.220983</td>\n      <td>5.0</td>\n    </tr>\n    <tr>\n      <th>Cortegana</th>\n      <td>8.0</td>\n      <td>4.0</td>\n      <td>4.0</td>\n      <td>4666.0</td>\n      <td>85.726532</td>\n      <td>85.726532</td>\n      <td>0.0</td>\n    </tr>\n    <tr>\n      <th>Bollullos Par del Condado</th>\n      <td>23.0</td>\n      <td>11.0</td>\n      <td>12.0</td>\n      <td>14272.0</td>\n      <td>77.073991</td>\n      <td>84.080717</td>\n      <td>5.0</td>\n    </tr>\n    <tr>\n      <th>Lepe</th>\n      <td>59.0</td>\n      <td>8.0</td>\n      <td>21.0</td>\n      <td>27431.0</td>\n      <td>29.164084</td>\n      <td>76.555722</td>\n      <td>4.0</td>\n    </tr>\n    <tr>\n      <th>Trigueros</th>\n      <td>29.0</td>\n      <td>4.0</td>\n      <td>5.0</td>\n      <td>7713.0</td>\n      <td>51.860495</td>\n      <td>64.825619</td>\n      <td>1.0</td>\n    </tr>\n    <tr>\n      <th>Condado-Campiña</th>\n      <td>257.0</td>\n      <td>61.0</td>\n      <td>92.0</td>\n      <td>155057.0</td>\n      <td>39.340372</td>\n      <td>59.333019</td>\n      <td>19.0</td>\n    </tr>\n    <tr>\n      <th>Aljaraque</th>\n      <td>46.0</td>\n      <td>3.0</td>\n      <td>10.0</td>\n      <td>21260.0</td>\n      <td>14.111007</td>\n      <td>47.036689</td>\n      <td>0.0</td>\n    </tr>\n    <tr>\n      <th>Villarrasa</th>\n      <td>2.0</td>\n      <td>1.0</td>\n      <td>1.0</td>\n      <td>2176.0</td>\n      <td>45.955882</td>\n      <td>45.955882</td>\n      <td>NaN</td>\n    </tr>\n    <tr>\n      <th>Punta Umbría</th>\n      <td>21.0</td>\n      <td>4.0</td>\n      <td>7.0</td>\n      <td>15242.0</td>\n      <td>26.243275</td>\n      <td>45.925732</td>\n      <td>1.0</td>\n    </tr>\n    <tr>\n      <th>Huelva</th>\n      <td>843.0</td>\n      <td>126.0</td>\n      <td>223.0</td>\n      <td>510743.0</td>\n      <td>24.669942</td>\n      <td>43.661881</td>\n      <td>32.0</td>\n    </tr>\n    <tr>\n      <th>Huelva-Costa</th>\n      <td>434.0</td>\n      <td>54.0</td>\n      <td>101.0</td>\n      <td>288115.0</td>\n      <td>18.742516</td>\n      <td>35.055447</td>\n      <td>11.0</td>\n    </tr>\n    <tr>\n      <th>Almonte</th>\n      <td>41.0</td>\n      <td>6.0</td>\n      <td>8.0</td>\n      <td>24191.0</td>\n      <td>24.802613</td>\n      <td>33.070150</td>\n      <td>0.0</td>\n    </tr>\n    <tr>\n      <th>Zalamea la Real</th>\n      <td>14.0</td>\n      <td>1.0</td>\n      <td>1.0</td>\n      <td>3068.0</td>\n      <td>32.594524</td>\n      <td>32.594524</td>\n      <td>0.0</td>\n    </tr>\n    <tr>\n      <th>Moguer</th>\n      <td>25.0</td>\n      <td>4.0</td>\n      <td>7.0</td>\n      <td>22088.0</td>\n      <td>18.109381</td>\n      <td>31.691416</td>\n      <td>2.0</td>\n    </tr>\n    <tr>\n      <th>Sierra de Huelva-Andévalo Central</th>\n      <td>139.0</td>\n      <td>6.0</td>\n      <td>20.0</td>\n      <td>67571.0</td>\n      <td>8.879549</td>\n      <td>29.598496</td>\n      <td>0.0</td>\n    </tr>\n    <tr>\n      <th>Ayamonte</th>\n      <td>16.0</td>\n      <td>4.0</td>\n      <td>6.0</td>\n      <td>20946.0</td>\n      <td>19.096725</td>\n      <td>28.645087</td>\n      <td>1.0</td>\n    </tr>\n    <tr>\n      <th>Huelva (capital)</th>\n      <td>223.0</td>\n      <td>17.0</td>\n      <td>31.0</td>\n      <td>143663.0</td>\n      <td>11.833249</td>\n      <td>21.578277</td>\n      <td>3.0</td>\n    </tr>\n    <tr>\n      <th>Gibraleón</th>\n      <td>12.0</td>\n      <td>1.0</td>\n      <td>2.0</td>\n      <td>12607.0</td>\n      <td>7.932101</td>\n      <td>15.864202</td>\n      <td>0.0</td>\n    </tr>\n    <tr>\n      <th>Rociana del Condado</th>\n      <td>4.0</td>\n      <td>1.0</td>\n      <td>1.0</td>\n      <td>7855.0</td>\n      <td>12.730745</td>\n      <td>12.730745</td>\n      <td>0.0</td>\n    </tr>\n  </tbody>\n</table>\n</div>"
     },
     "metadata": {},
     "execution_count": 14
    }
   ],
   "source": [
    "tabla.sort_values('tasa14', ascending=False)"
   ]
  }
 ]
}