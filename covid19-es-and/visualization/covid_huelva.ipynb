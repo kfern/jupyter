{
 "metadata": {
  "language_info": {
   "codemirror_mode": {
    "name": "ipython",
    "version": 3
   },
   "file_extension": ".py",
   "mimetype": "text/x-python",
   "name": "python",
   "nbconvert_exporter": "python",
   "pygments_lexer": "ipython3",
   "version": "3.9.5"
  },
  "orig_nbformat": 2,
  "kernelspec": {
   "name": "python3",
   "display_name": "Python 3.9.5 64-bit"
  },
  "interpreter": {
   "hash": "31f2aee4e71d21fbe5cf8b01ff0e069b9275f58929596ceb00d14d90e3e16cd6"
  }
 },
 "nbformat": 4,
 "nbformat_minor": 2,
 "cells": [
  {
   "cell_type": "code",
   "execution_count": 1,
   "metadata": {},
   "outputs": [],
   "source": [
    "import pandas as pd\n",
    "pd.set_option('display.max_rows', None) # Print all rows"
   ]
  },
  {
   "cell_type": "code",
   "execution_count": 2,
   "metadata": {},
   "outputs": [],
   "source": [
    "# FIX SSL: CERTIFICATE_VERIFY_FAILED with Python3\n",
    "# https://stackoverflow.com/a/49174340\n",
    "import ssl\n",
    "\n",
    "ssl._create_default_https_context = ssl._create_unverified_context"
   ]
  },
  {
   "cell_type": "code",
   "execution_count": 3,
   "metadata": {},
   "outputs": [],
   "source": [
    "url = 'https://www.juntadeandalucia.es/institutodeestadisticaycartografia/badea/stpivot/stpivot/Print?cube=013d884c-cfc5-4c21-9e78-e26225682afd&type=3&foto=si&ejecutaDesde=&codConsulta=38668&consTipoVisua=JP'\n",
    "fields = ['Lugar de residencia', 'Medida', 'Valor']\n",
    "df = pd.read_csv(url, delimiter=';', usecols=fields, decimal=',')"
   ]
  },
  {
   "cell_type": "code",
   "execution_count": 4,
   "metadata": {},
   "outputs": [
    {
     "output_type": "execute_result",
     "data": {
      "text/plain": [
       "  Lugar de residencia                    Medida               Valor\n",
       "0              Huelva                 Población              513170\n",
       "1              Huelva          Confirmados PDIA               33708\n",
       "2              Huelva  Confirmados PDIA 14 días                 844\n",
       "3              Huelva         Tasa PDIA 14 días  164,46791511584854\n",
       "4              Huelva   Confirmados PDIA 7 días                 378\n",
       "5              Huelva        Total Confirmados                33893\n",
       "6              Huelva                   Curados               32095\n",
       "7              Huelva                Fallecidos                 395"
      ],
      "text/html": "<div>\n<style scoped>\n    .dataframe tbody tr th:only-of-type {\n        vertical-align: middle;\n    }\n\n    .dataframe tbody tr th {\n        vertical-align: top;\n    }\n\n    .dataframe thead th {\n        text-align: right;\n    }\n</style>\n<table border=\"1\" class=\"dataframe\">\n  <thead>\n    <tr style=\"text-align: right;\">\n      <th></th>\n      <th>Lugar de residencia</th>\n      <th>Medida</th>\n      <th>Valor</th>\n    </tr>\n  </thead>\n  <tbody>\n    <tr>\n      <th>0</th>\n      <td>Huelva</td>\n      <td>Población</td>\n      <td>513170</td>\n    </tr>\n    <tr>\n      <th>1</th>\n      <td>Huelva</td>\n      <td>Confirmados PDIA</td>\n      <td>33708</td>\n    </tr>\n    <tr>\n      <th>2</th>\n      <td>Huelva</td>\n      <td>Confirmados PDIA 14 días</td>\n      <td>844</td>\n    </tr>\n    <tr>\n      <th>3</th>\n      <td>Huelva</td>\n      <td>Tasa PDIA 14 días</td>\n      <td>164,46791511584854</td>\n    </tr>\n    <tr>\n      <th>4</th>\n      <td>Huelva</td>\n      <td>Confirmados PDIA 7 días</td>\n      <td>378</td>\n    </tr>\n    <tr>\n      <th>5</th>\n      <td>Huelva</td>\n      <td>Total Confirmados</td>\n      <td>33893</td>\n    </tr>\n    <tr>\n      <th>6</th>\n      <td>Huelva</td>\n      <td>Curados</td>\n      <td>32095</td>\n    </tr>\n    <tr>\n      <th>7</th>\n      <td>Huelva</td>\n      <td>Fallecidos</td>\n      <td>395</td>\n    </tr>\n  </tbody>\n</table>\n</div>"
     },
     "metadata": {},
     "execution_count": 4
    }
   ],
   "source": [
    "df[df['Lugar de residencia'] == 'Huelva']"
   ]
  },
  {
   "cell_type": "code",
   "execution_count": 5,
   "metadata": {},
   "outputs": [],
   "source": [
    "df['Valor'] = pd.to_numeric(df['Valor'],errors='coerce')"
   ]
  },
  {
   "cell_type": "code",
   "execution_count": 6,
   "metadata": {},
   "outputs": [],
   "source": [
    "dfAnterior = pd.read_csv('covid_huelva.csv', index_col='Lugar de residencia')"
   ]
  },
  {
   "cell_type": "code",
   "execution_count": 7,
   "metadata": {
    "tags": []
   },
   "outputs": [
    {
     "output_type": "stream",
     "name": "stdout",
     "text": [
      "Confirmados PCR en la provincia de Huelva:  33708.0\n",
      "/tmp/ipykernel_4221/1396922249.py:2: UserWarning: Boolean Series key will be reindexed to match DataFrame index.\n",
      "  p = df[df['Lugar de residencia'] == 'Huelva'][df['Medida'] == 'Confirmados PDIA']['Valor'].values[0]\n"
     ]
    }
   ],
   "source": [
    "# Confirmados PCR provincia Huelva\n",
    "p = df[df['Lugar de residencia'] == 'Huelva'][df['Medida'] == 'Confirmados PDIA']['Valor'].values[0]\n",
    "print('Confirmados PCR en la provincia de Huelva: ', p)"
   ]
  },
  {
   "cell_type": "code",
   "execution_count": 8,
   "metadata": {
    "tags": []
   },
   "outputs": [
    {
     "output_type": "stream",
     "name": "stdout",
     "text": [
      "Confirmados PCR en Huelva capital:  9229.0\n",
      "/tmp/ipykernel_4221/2509482988.py:2: UserWarning: Boolean Series key will be reindexed to match DataFrame index.\n",
      "  c = df[df['Lugar de residencia'] == 'Huelva (capital)'][df['Medida'] == 'Confirmados PDIA']['Valor'].values[0]\n"
     ]
    }
   ],
   "source": [
    "# Confirmados PCR Huelva capitalpd\n",
    "c = df[df['Lugar de residencia'] == 'Huelva (capital)'][df['Medida'] == 'Confirmados PDIA']['Valor'].values[0]\n",
    "print('Confirmados PCR en Huelva capital: ', c)"
   ]
  },
  {
   "cell_type": "code",
   "execution_count": 9,
   "metadata": {
    "tags": []
   },
   "outputs": [
    {
     "output_type": "stream",
     "name": "stderr",
     "text": [
      "/tmp/ipykernel_4221/2690025379.py:1: UserWarning: Boolean Series key will be reindexed to match DataFrame index.\n  c7 = df[df['Lugar de residencia'] == 'Huelva (capital)'][df['Medida'] == 'Confirmados PDIA 7 días']['Valor'].values[0]\n/tmp/ipykernel_4221/2690025379.py:2: UserWarning: Boolean Series key will be reindexed to match DataFrame index.\n  c14 = df[df['Lugar de residencia'] == 'Huelva (capital)'][df['Medida'] == 'Confirmados PDIA 14 días']['Valor'].values[0]\n/tmp/ipykernel_4221/2690025379.py:3: UserWarning: Boolean Series key will be reindexed to match DataFrame index.\n  p = df[df['Lugar de residencia'] == 'Huelva (capital)'][df['Medida'] == 'Población']['Valor'].values[0]\n"
     ]
    }
   ],
   "source": [
    "c7 = df[df['Lugar de residencia'] == 'Huelva (capital)'][df['Medida'] == 'Confirmados PDIA 7 días']['Valor'].values[0]\n",
    "c14 = df[df['Lugar de residencia'] == 'Huelva (capital)'][df['Medida'] == 'Confirmados PDIA 14 días']['Valor'].values[0]\n",
    "p = df[df['Lugar de residencia'] == 'Huelva (capital)'][df['Medida'] == 'Población']['Valor'].values[0]"
   ]
  },
  {
   "cell_type": "code",
   "execution_count": 10,
   "metadata": {
    "tags": []
   },
   "outputs": [
    {
     "output_type": "stream",
     "name": "stdout",
     "text": [
      "Huelva (capital)\n\nUn positivo PCR cada 1296 personas en los últimos 7 días \n\nUn positivo PCR cada 558 personas en los últimos 14 días\n"
     ]
    }
   ],
   "source": [
    "print('Huelva (capital)\\n')\n",
    "#print('Confirmados PCR 7 días x 1,000 habitantes: ', f\"{c7/(p/1000):.5f}\")\n",
    "print('Un positivo PCR cada', f\"{p/c7:.0f}\", 'personas en los últimos 7 días', '\\n')\n",
    "#print('Confirmados PCR 14 días x 1,000 habitantes: ', f\"{c14/(p/1000):.5f}\")\n",
    "print('Un positivo PCR cada', f\"{p/c14:.0f}\", 'personas en los últimos 14 días')"
   ]
  },
  {
   "cell_type": "code",
   "execution_count": 11,
   "metadata": {},
   "outputs": [],
   "source": [
    "filtro = ((df['Medida'] == 'Confirmados PDIA')| (df['Medida'] == 'Confirmados PDIA 7 días') | (df['Medida'] == 'Población' ) | (df['Medida'] == 'Confirmados PDIA 14 días')) & (df['Valor'] > 0)\n",
    "tabla = pd.pivot_table(df.loc[filtro], values='Valor', index='Lugar de residencia', columns='Medida').dropna()"
   ]
  },
  {
   "cell_type": "code",
   "execution_count": 12,
   "metadata": {},
   "outputs": [],
   "source": [
    "# Reorder columns\n",
    "tabla = tabla[['Confirmados PDIA', 'Confirmados PDIA 7 días', 'Confirmados PDIA 14 días', 'Población']]"
   ]
  },
  {
   "cell_type": "code",
   "execution_count": 13,
   "metadata": {},
   "outputs": [],
   "source": [
    "tabla['tasa7'] = tabla['Confirmados PDIA 7 días']/tabla['Población']*100000\n",
    "tabla['tasa14'] = tabla['Confirmados PDIA 14 días']/tabla['Población']*100000"
   ]
  },
  {
   "cell_type": "code",
   "execution_count": 14,
   "metadata": {},
   "outputs": [],
   "source": [
    "tabla['Diferencia PDIA'] = tabla['Confirmados PDIA'] - dfAnterior['Confirmados PDIA']"
   ]
  },
  {
   "cell_type": "code",
   "execution_count": 15,
   "metadata": {},
   "outputs": [
    {
     "output_type": "execute_result",
     "data": {
      "text/plain": [
       "Medida                             Confirmados PDIA  Confirmados PDIA 7 días  \\\n",
       "Lugar de residencia                                                            \n",
       "Huelva                                      33708.0                    378.0   \n",
       "Huelva-Costa                                19453.0                    259.0   \n",
       "Huelva (capital)                             9229.0                    111.0   \n",
       "Condado-Campiña                             10943.0                     98.0   \n",
       "Isla Cristina                                2223.0                     32.0   \n",
       "Lepe                                         2201.0                     25.0   \n",
       "Almonte                                      1930.0                     12.0   \n",
       "Ayamonte                                     1378.0                     31.0   \n",
       "Moguer                                       1431.0                     22.0   \n",
       "Sierra de Huelva-Andévalo Central            2958.0                     20.0   \n",
       "Alosno                                        196.0                     14.0   \n",
       "Cartaya                                      1421.0                     13.0   \n",
       "Valverde del Camino                           673.0                      9.0   \n",
       "Gibraleón                                     662.0                      9.0   \n",
       "Punta Umbría                                  863.0                      7.0   \n",
       "Palma del Condado (La)                       1202.0                      7.0   \n",
       "Lucena del Puerto                             271.0                      4.0   \n",
       "Bollullos Par del Condado                    1048.0                     14.0   \n",
       "Palos de la Frontera                          736.0                      6.0   \n",
       "San Juan del Puerto                           595.0                      6.0   \n",
       "Bonares                                       309.0                      9.0   \n",
       "Villablanca                                   196.0                      4.0   \n",
       "Cerro de Andévalo (El)                        157.0                      1.0   \n",
       "Aracena                                       543.0                      2.0   \n",
       "Rosal de la Frontera                           34.0                      3.0   \n",
       "Cortegana                                     217.0                      1.0   \n",
       "Trigueros                                     335.0                      1.0   \n",
       "Aroche                                         93.0                      1.0   \n",
       "Beas                                          233.0                      1.0   \n",
       "Paterna del Campo                             130.0                      1.0   \n",
       "Santa Bárbara de Casa                          21.0                      5.0   \n",
       "Villarrasa                                    181.0                      1.0   \n",
       "\n",
       "Medida                             Confirmados PDIA 14 días  Población  \\\n",
       "Lugar de residencia                                                      \n",
       "Huelva                                                844.0   513170.0   \n",
       "Huelva-Costa                                          519.0   289548.0   \n",
       "Huelva (capital)                                      258.0   143837.0   \n",
       "Condado-Campiña                                       272.0   156231.0   \n",
       "Isla Cristina                                          48.0    21393.0   \n",
       "Lepe                                                   40.0    27880.0   \n",
       "Almonte                                                29.0    24507.0   \n",
       "Ayamonte                                               45.0    21104.0   \n",
       "Moguer                                                 64.0    21867.0   \n",
       "Sierra de Huelva-Andévalo Central                      51.0    67391.0   \n",
       "Alosno                                                 17.0     3933.0   \n",
       "Cartaya                                                46.0    20083.0   \n",
       "Valverde del Camino                                    20.0    12750.0   \n",
       "Gibraleón                                              17.0    12737.0   \n",
       "Punta Umbría                                           21.0    15355.0   \n",
       "Palma del Condado (La)                                 22.0    10801.0   \n",
       "Lucena del Puerto                                       6.0     3261.0   \n",
       "Bollullos Par del Condado                              22.0    14387.0   \n",
       "Palos de la Frontera                                   29.0    11742.0   \n",
       "San Juan del Puerto                                    33.0     9411.0   \n",
       "Bonares                                                18.0     6060.0   \n",
       "Villablanca                                             5.0     2885.0   \n",
       "Cerro de Andévalo (El)                                  9.0     2327.0   \n",
       "Aracena                                                 4.0     8255.0   \n",
       "Rosal de la Frontera                                    3.0     1697.0   \n",
       "Cortegana                                               3.0     4602.0   \n",
       "Trigueros                                               5.0     7862.0   \n",
       "Aroche                                                  2.0     3054.0   \n",
       "Beas                                                    7.0     4341.0   \n",
       "Paterna del Campo                                       1.0     3457.0   \n",
       "Santa Bárbara de Casa                                   5.0     1043.0   \n",
       "Villarrasa                                              1.0     2211.0   \n",
       "\n",
       "Medida                                  tasa7      tasa14  Diferencia PDIA  \n",
       "Lugar de residencia                                                         \n",
       "Huelva                              73.659801  164.467915            159.0  \n",
       "Huelva-Costa                        89.449763  179.244892            113.0  \n",
       "Huelva (capital)                    77.170686  179.369703             47.0  \n",
       "Condado-Campiña                     62.727628  174.101171             39.0  \n",
       "Isla Cristina                      149.581639  224.372458             20.0  \n",
       "Lepe                                89.670014  143.472023             14.0  \n",
       "Almonte                             48.965602  118.333537              9.0  \n",
       "Ayamonte                           146.891585  213.229719              8.0  \n",
       "Moguer                             100.608222  292.678465              7.0  \n",
       "Sierra de Huelva-Andévalo Central   29.677553   75.677761              7.0  \n",
       "Alosno                             355.962370  432.240020              7.0  \n",
       "Cartaya                             64.731365  229.049445              6.0  \n",
       "Valverde del Camino                 70.588235  156.862745              4.0  \n",
       "Gibraleón                           70.660281  133.469420              4.0  \n",
       "Punta Umbría                        45.587756  136.763269              4.0  \n",
       "Palma del Condado (La)              64.808814  203.684844              3.0  \n",
       "Lucena del Puerto                  122.661760  183.992640              3.0  \n",
       "Bollullos Par del Condado           97.310072  152.915827              3.0  \n",
       "Palos de la Frontera                51.098620  246.976665              2.0  \n",
       "San Juan del Puerto                 63.755180  350.653491              2.0  \n",
       "Bonares                            148.514851  297.029703              2.0  \n",
       "Villablanca                        138.648180  173.310225              2.0  \n",
       "Cerro de Andévalo (El)              42.973786  386.764074              1.0  \n",
       "Aracena                             24.227741   48.455482              1.0  \n",
       "Rosal de la Frontera               176.782557  176.782557              1.0  \n",
       "Cortegana                           21.729683   65.189048              1.0  \n",
       "Trigueros                           12.719410   63.597049              1.0  \n",
       "Aroche                              32.743942   65.487885             -1.0  \n",
       "Beas                                23.036167  161.253167              NaN  \n",
       "Paterna del Campo                   28.926815   28.926815              NaN  \n",
       "Santa Bárbara de Casa              479.386385  479.386385              NaN  \n",
       "Villarrasa                          45.228403   45.228403              NaN  "
      ],
      "text/html": "<div>\n<style scoped>\n    .dataframe tbody tr th:only-of-type {\n        vertical-align: middle;\n    }\n\n    .dataframe tbody tr th {\n        vertical-align: top;\n    }\n\n    .dataframe thead th {\n        text-align: right;\n    }\n</style>\n<table border=\"1\" class=\"dataframe\">\n  <thead>\n    <tr style=\"text-align: right;\">\n      <th>Medida</th>\n      <th>Confirmados PDIA</th>\n      <th>Confirmados PDIA 7 días</th>\n      <th>Confirmados PDIA 14 días</th>\n      <th>Población</th>\n      <th>tasa7</th>\n      <th>tasa14</th>\n      <th>Diferencia PDIA</th>\n    </tr>\n    <tr>\n      <th>Lugar de residencia</th>\n      <th></th>\n      <th></th>\n      <th></th>\n      <th></th>\n      <th></th>\n      <th></th>\n      <th></th>\n    </tr>\n  </thead>\n  <tbody>\n    <tr>\n      <th>Huelva</th>\n      <td>33708.0</td>\n      <td>378.0</td>\n      <td>844.0</td>\n      <td>513170.0</td>\n      <td>73.659801</td>\n      <td>164.467915</td>\n      <td>159.0</td>\n    </tr>\n    <tr>\n      <th>Huelva-Costa</th>\n      <td>19453.0</td>\n      <td>259.0</td>\n      <td>519.0</td>\n      <td>289548.0</td>\n      <td>89.449763</td>\n      <td>179.244892</td>\n      <td>113.0</td>\n    </tr>\n    <tr>\n      <th>Huelva (capital)</th>\n      <td>9229.0</td>\n      <td>111.0</td>\n      <td>258.0</td>\n      <td>143837.0</td>\n      <td>77.170686</td>\n      <td>179.369703</td>\n      <td>47.0</td>\n    </tr>\n    <tr>\n      <th>Condado-Campiña</th>\n      <td>10943.0</td>\n      <td>98.0</td>\n      <td>272.0</td>\n      <td>156231.0</td>\n      <td>62.727628</td>\n      <td>174.101171</td>\n      <td>39.0</td>\n    </tr>\n    <tr>\n      <th>Isla Cristina</th>\n      <td>2223.0</td>\n      <td>32.0</td>\n      <td>48.0</td>\n      <td>21393.0</td>\n      <td>149.581639</td>\n      <td>224.372458</td>\n      <td>20.0</td>\n    </tr>\n    <tr>\n      <th>Lepe</th>\n      <td>2201.0</td>\n      <td>25.0</td>\n      <td>40.0</td>\n      <td>27880.0</td>\n      <td>89.670014</td>\n      <td>143.472023</td>\n      <td>14.0</td>\n    </tr>\n    <tr>\n      <th>Almonte</th>\n      <td>1930.0</td>\n      <td>12.0</td>\n      <td>29.0</td>\n      <td>24507.0</td>\n      <td>48.965602</td>\n      <td>118.333537</td>\n      <td>9.0</td>\n    </tr>\n    <tr>\n      <th>Ayamonte</th>\n      <td>1378.0</td>\n      <td>31.0</td>\n      <td>45.0</td>\n      <td>21104.0</td>\n      <td>146.891585</td>\n      <td>213.229719</td>\n      <td>8.0</td>\n    </tr>\n    <tr>\n      <th>Moguer</th>\n      <td>1431.0</td>\n      <td>22.0</td>\n      <td>64.0</td>\n      <td>21867.0</td>\n      <td>100.608222</td>\n      <td>292.678465</td>\n      <td>7.0</td>\n    </tr>\n    <tr>\n      <th>Sierra de Huelva-Andévalo Central</th>\n      <td>2958.0</td>\n      <td>20.0</td>\n      <td>51.0</td>\n      <td>67391.0</td>\n      <td>29.677553</td>\n      <td>75.677761</td>\n      <td>7.0</td>\n    </tr>\n    <tr>\n      <th>Alosno</th>\n      <td>196.0</td>\n      <td>14.0</td>\n      <td>17.0</td>\n      <td>3933.0</td>\n      <td>355.962370</td>\n      <td>432.240020</td>\n      <td>7.0</td>\n    </tr>\n    <tr>\n      <th>Cartaya</th>\n      <td>1421.0</td>\n      <td>13.0</td>\n      <td>46.0</td>\n      <td>20083.0</td>\n      <td>64.731365</td>\n      <td>229.049445</td>\n      <td>6.0</td>\n    </tr>\n    <tr>\n      <th>Valverde del Camino</th>\n      <td>673.0</td>\n      <td>9.0</td>\n      <td>20.0</td>\n      <td>12750.0</td>\n      <td>70.588235</td>\n      <td>156.862745</td>\n      <td>4.0</td>\n    </tr>\n    <tr>\n      <th>Gibraleón</th>\n      <td>662.0</td>\n      <td>9.0</td>\n      <td>17.0</td>\n      <td>12737.0</td>\n      <td>70.660281</td>\n      <td>133.469420</td>\n      <td>4.0</td>\n    </tr>\n    <tr>\n      <th>Punta Umbría</th>\n      <td>863.0</td>\n      <td>7.0</td>\n      <td>21.0</td>\n      <td>15355.0</td>\n      <td>45.587756</td>\n      <td>136.763269</td>\n      <td>4.0</td>\n    </tr>\n    <tr>\n      <th>Palma del Condado (La)</th>\n      <td>1202.0</td>\n      <td>7.0</td>\n      <td>22.0</td>\n      <td>10801.0</td>\n      <td>64.808814</td>\n      <td>203.684844</td>\n      <td>3.0</td>\n    </tr>\n    <tr>\n      <th>Lucena del Puerto</th>\n      <td>271.0</td>\n      <td>4.0</td>\n      <td>6.0</td>\n      <td>3261.0</td>\n      <td>122.661760</td>\n      <td>183.992640</td>\n      <td>3.0</td>\n    </tr>\n    <tr>\n      <th>Bollullos Par del Condado</th>\n      <td>1048.0</td>\n      <td>14.0</td>\n      <td>22.0</td>\n      <td>14387.0</td>\n      <td>97.310072</td>\n      <td>152.915827</td>\n      <td>3.0</td>\n    </tr>\n    <tr>\n      <th>Palos de la Frontera</th>\n      <td>736.0</td>\n      <td>6.0</td>\n      <td>29.0</td>\n      <td>11742.0</td>\n      <td>51.098620</td>\n      <td>246.976665</td>\n      <td>2.0</td>\n    </tr>\n    <tr>\n      <th>San Juan del Puerto</th>\n      <td>595.0</td>\n      <td>6.0</td>\n      <td>33.0</td>\n      <td>9411.0</td>\n      <td>63.755180</td>\n      <td>350.653491</td>\n      <td>2.0</td>\n    </tr>\n    <tr>\n      <th>Bonares</th>\n      <td>309.0</td>\n      <td>9.0</td>\n      <td>18.0</td>\n      <td>6060.0</td>\n      <td>148.514851</td>\n      <td>297.029703</td>\n      <td>2.0</td>\n    </tr>\n    <tr>\n      <th>Villablanca</th>\n      <td>196.0</td>\n      <td>4.0</td>\n      <td>5.0</td>\n      <td>2885.0</td>\n      <td>138.648180</td>\n      <td>173.310225</td>\n      <td>2.0</td>\n    </tr>\n    <tr>\n      <th>Cerro de Andévalo (El)</th>\n      <td>157.0</td>\n      <td>1.0</td>\n      <td>9.0</td>\n      <td>2327.0</td>\n      <td>42.973786</td>\n      <td>386.764074</td>\n      <td>1.0</td>\n    </tr>\n    <tr>\n      <th>Aracena</th>\n      <td>543.0</td>\n      <td>2.0</td>\n      <td>4.0</td>\n      <td>8255.0</td>\n      <td>24.227741</td>\n      <td>48.455482</td>\n      <td>1.0</td>\n    </tr>\n    <tr>\n      <th>Rosal de la Frontera</th>\n      <td>34.0</td>\n      <td>3.0</td>\n      <td>3.0</td>\n      <td>1697.0</td>\n      <td>176.782557</td>\n      <td>176.782557</td>\n      <td>1.0</td>\n    </tr>\n    <tr>\n      <th>Cortegana</th>\n      <td>217.0</td>\n      <td>1.0</td>\n      <td>3.0</td>\n      <td>4602.0</td>\n      <td>21.729683</td>\n      <td>65.189048</td>\n      <td>1.0</td>\n    </tr>\n    <tr>\n      <th>Trigueros</th>\n      <td>335.0</td>\n      <td>1.0</td>\n      <td>5.0</td>\n      <td>7862.0</td>\n      <td>12.719410</td>\n      <td>63.597049</td>\n      <td>1.0</td>\n    </tr>\n    <tr>\n      <th>Aroche</th>\n      <td>93.0</td>\n      <td>1.0</td>\n      <td>2.0</td>\n      <td>3054.0</td>\n      <td>32.743942</td>\n      <td>65.487885</td>\n      <td>-1.0</td>\n    </tr>\n    <tr>\n      <th>Beas</th>\n      <td>233.0</td>\n      <td>1.0</td>\n      <td>7.0</td>\n      <td>4341.0</td>\n      <td>23.036167</td>\n      <td>161.253167</td>\n      <td>NaN</td>\n    </tr>\n    <tr>\n      <th>Paterna del Campo</th>\n      <td>130.0</td>\n      <td>1.0</td>\n      <td>1.0</td>\n      <td>3457.0</td>\n      <td>28.926815</td>\n      <td>28.926815</td>\n      <td>NaN</td>\n    </tr>\n    <tr>\n      <th>Santa Bárbara de Casa</th>\n      <td>21.0</td>\n      <td>5.0</td>\n      <td>5.0</td>\n      <td>1043.0</td>\n      <td>479.386385</td>\n      <td>479.386385</td>\n      <td>NaN</td>\n    </tr>\n    <tr>\n      <th>Villarrasa</th>\n      <td>181.0</td>\n      <td>1.0</td>\n      <td>1.0</td>\n      <td>2211.0</td>\n      <td>45.228403</td>\n      <td>45.228403</td>\n      <td>NaN</td>\n    </tr>\n  </tbody>\n</table>\n</div>"
     },
     "metadata": {},
     "execution_count": 15
    }
   ],
   "source": [
    "# Nuevos casos desde la última captura\n",
    "tabla[tabla['Diferencia PDIA'] != 0].sort_values('Diferencia PDIA', ascending=False)"
   ]
  },
  {
   "cell_type": "code",
   "execution_count": 16,
   "metadata": {},
   "outputs": [],
   "source": [
    "if tabla[tabla['Diferencia PDIA'] != 0]['Diferencia PDIA'].sum() != 0:\n",
    "  # Save to csv\n",
    "  tabla.to_csv('covid_huelva.csv', encoding='utf-8', header=True, index=True)  "
   ]
  },
  {
   "cell_type": "code",
   "execution_count": 17,
   "metadata": {},
   "outputs": [
    {
     "output_type": "execute_result",
     "data": {
      "text/plain": [
       "Medida                             Confirmados PDIA  Confirmados PDIA 7 días  \\\n",
       "Lugar de residencia                                                            \n",
       "Santa Bárbara de Casa                          21.0                      5.0   \n",
       "Alosno                                        196.0                     14.0   \n",
       "Cerro de Andévalo (El)                        157.0                      1.0   \n",
       "San Juan del Puerto                           595.0                      6.0   \n",
       "Paymogo                                        79.0                      3.0   \n",
       "Bonares                                       309.0                      9.0   \n",
       "Moguer                                       1431.0                     22.0   \n",
       "Palos de la Frontera                          736.0                      6.0   \n",
       "Manzanilla                                    109.0                      2.0   \n",
       "Cartaya                                      1421.0                     13.0   \n",
       "Isla Cristina                                2223.0                     32.0   \n",
       "Ayamonte                                     1378.0                     31.0   \n",
       "Palma del Condado (La)                       1202.0                      7.0   \n",
       "Lucena del Puerto                             271.0                      4.0   \n",
       "Huelva (capital)                             9229.0                    111.0   \n",
       "Huelva-Costa                                19453.0                    259.0   \n",
       "Rosal de la Frontera                           34.0                      3.0   \n",
       "Condado-Campiña                             10943.0                     98.0   \n",
       "Villablanca                                   196.0                      4.0   \n",
       "Huelva                                      33708.0                    378.0   \n",
       "Beas                                          233.0                      1.0   \n",
       "Valverde del Camino                           673.0                      9.0   \n",
       "Bollullos Par del Condado                    1048.0                     14.0   \n",
       "Lepe                                         2201.0                     25.0   \n",
       "Punta Umbría                                  863.0                      7.0   \n",
       "Gibraleón                                     662.0                      9.0   \n",
       "Puebla de Guzmán                              143.0                      2.0   \n",
       "Almonte                                      1930.0                     12.0   \n",
       "Aljaraque                                    1183.0                     12.0   \n",
       "Rociana del Condado                           578.0                      2.0   \n",
       "Jabugo                                         67.0                      1.0   \n",
       "Zarza-Perrunal (La)                            27.0                      1.0   \n",
       "Sierra de Huelva-Andévalo Central            2958.0                     20.0   \n",
       "Aroche                                         93.0                      1.0   \n",
       "Cortegana                                     217.0                      1.0   \n",
       "Trigueros                                     335.0                      1.0   \n",
       "San Bartolomé de la Torre                     308.0                      1.0   \n",
       "Aracena                                       543.0                      2.0   \n",
       "Villarrasa                                    181.0                      1.0   \n",
       "Nerva                                         181.0                      1.0   \n",
       "Paterna del Campo                             130.0                      1.0   \n",
       "\n",
       "Medida                             Confirmados PDIA 14 días  Población  \\\n",
       "Lugar de residencia                                                      \n",
       "Santa Bárbara de Casa                                   5.0     1043.0   \n",
       "Alosno                                                 17.0     3933.0   \n",
       "Cerro de Andévalo (El)                                  9.0     2327.0   \n",
       "San Juan del Puerto                                    33.0     9411.0   \n",
       "Paymogo                                                 4.0     1162.0   \n",
       "Bonares                                                18.0     6060.0   \n",
       "Moguer                                                 64.0    21867.0   \n",
       "Palos de la Frontera                                   29.0    11742.0   \n",
       "Manzanilla                                              5.0     2118.0   \n",
       "Cartaya                                                46.0    20083.0   \n",
       "Isla Cristina                                          48.0    21393.0   \n",
       "Ayamonte                                               45.0    21104.0   \n",
       "Palma del Condado (La)                                 22.0    10801.0   \n",
       "Lucena del Puerto                                       6.0     3261.0   \n",
       "Huelva (capital)                                      258.0   143837.0   \n",
       "Huelva-Costa                                          519.0   289548.0   \n",
       "Rosal de la Frontera                                    3.0     1697.0   \n",
       "Condado-Campiña                                       272.0   156231.0   \n",
       "Villablanca                                             5.0     2885.0   \n",
       "Huelva                                                844.0   513170.0   \n",
       "Beas                                                    7.0     4341.0   \n",
       "Valverde del Camino                                    20.0    12750.0   \n",
       "Bollullos Par del Condado                              22.0    14387.0   \n",
       "Lepe                                                   40.0    27880.0   \n",
       "Punta Umbría                                           21.0    15355.0   \n",
       "Gibraleón                                              17.0    12737.0   \n",
       "Puebla de Guzmán                                        4.0     3092.0   \n",
       "Almonte                                                29.0    24507.0   \n",
       "Aljaraque                                              24.0    21474.0   \n",
       "Rociana del Condado                                     8.0     7939.0   \n",
       "Jabugo                                                  2.0     2260.0   \n",
       "Zarza-Perrunal (La)                                     1.0     1253.0   \n",
       "Sierra de Huelva-Andévalo Central                      51.0    67391.0   \n",
       "Aroche                                                  2.0     3054.0   \n",
       "Cortegana                                               3.0     4602.0   \n",
       "Trigueros                                               5.0     7862.0   \n",
       "San Bartolomé de la Torre                               2.0     3761.0   \n",
       "Aracena                                                 4.0     8255.0   \n",
       "Villarrasa                                              1.0     2211.0   \n",
       "Nerva                                                   2.0     5169.0   \n",
       "Paterna del Campo                                       1.0     3457.0   \n",
       "\n",
       "Medida                                  tasa7      tasa14  Diferencia PDIA  \n",
       "Lugar de residencia                                                         \n",
       "Santa Bárbara de Casa              479.386385  479.386385              NaN  \n",
       "Alosno                             355.962370  432.240020              7.0  \n",
       "Cerro de Andévalo (El)              42.973786  386.764074              1.0  \n",
       "San Juan del Puerto                 63.755180  350.653491              2.0  \n",
       "Paymogo                            258.175559  344.234079              0.0  \n",
       "Bonares                            148.514851  297.029703              2.0  \n",
       "Moguer                             100.608222  292.678465              7.0  \n",
       "Palos de la Frontera                51.098620  246.976665              2.0  \n",
       "Manzanilla                          94.428706  236.071766              0.0  \n",
       "Cartaya                             64.731365  229.049445              6.0  \n",
       "Isla Cristina                      149.581639  224.372458             20.0  \n",
       "Ayamonte                           146.891585  213.229719              8.0  \n",
       "Palma del Condado (La)              64.808814  203.684844              3.0  \n",
       "Lucena del Puerto                  122.661760  183.992640              3.0  \n",
       "Huelva (capital)                    77.170686  179.369703             47.0  \n",
       "Huelva-Costa                        89.449763  179.244892            113.0  \n",
       "Rosal de la Frontera               176.782557  176.782557              1.0  \n",
       "Condado-Campiña                     62.727628  174.101171             39.0  \n",
       "Villablanca                        138.648180  173.310225              2.0  \n",
       "Huelva                              73.659801  164.467915            159.0  \n",
       "Beas                                23.036167  161.253167              NaN  \n",
       "Valverde del Camino                 70.588235  156.862745              4.0  \n",
       "Bollullos Par del Condado           97.310072  152.915827              3.0  \n",
       "Lepe                                89.670014  143.472023             14.0  \n",
       "Punta Umbría                        45.587756  136.763269              4.0  \n",
       "Gibraleón                           70.660281  133.469420              4.0  \n",
       "Puebla de Guzmán                    64.683053  129.366106              0.0  \n",
       "Almonte                             48.965602  118.333537              9.0  \n",
       "Aljaraque                           55.881531  111.763062              0.0  \n",
       "Rociana del Condado                 25.192090  100.768359              0.0  \n",
       "Jabugo                              44.247788   88.495575              0.0  \n",
       "Zarza-Perrunal (La)                 79.808460   79.808460              0.0  \n",
       "Sierra de Huelva-Andévalo Central   29.677553   75.677761              7.0  \n",
       "Aroche                              32.743942   65.487885             -1.0  \n",
       "Cortegana                           21.729683   65.189048              1.0  \n",
       "Trigueros                           12.719410   63.597049              1.0  \n",
       "San Bartolomé de la Torre           26.588673   53.177346              0.0  \n",
       "Aracena                             24.227741   48.455482              1.0  \n",
       "Villarrasa                          45.228403   45.228403              NaN  \n",
       "Nerva                               19.346102   38.692204              0.0  \n",
       "Paterna del Campo                   28.926815   28.926815              NaN  "
      ],
      "text/html": "<div>\n<style scoped>\n    .dataframe tbody tr th:only-of-type {\n        vertical-align: middle;\n    }\n\n    .dataframe tbody tr th {\n        vertical-align: top;\n    }\n\n    .dataframe thead th {\n        text-align: right;\n    }\n</style>\n<table border=\"1\" class=\"dataframe\">\n  <thead>\n    <tr style=\"text-align: right;\">\n      <th>Medida</th>\n      <th>Confirmados PDIA</th>\n      <th>Confirmados PDIA 7 días</th>\n      <th>Confirmados PDIA 14 días</th>\n      <th>Población</th>\n      <th>tasa7</th>\n      <th>tasa14</th>\n      <th>Diferencia PDIA</th>\n    </tr>\n    <tr>\n      <th>Lugar de residencia</th>\n      <th></th>\n      <th></th>\n      <th></th>\n      <th></th>\n      <th></th>\n      <th></th>\n      <th></th>\n    </tr>\n  </thead>\n  <tbody>\n    <tr>\n      <th>Santa Bárbara de Casa</th>\n      <td>21.0</td>\n      <td>5.0</td>\n      <td>5.0</td>\n      <td>1043.0</td>\n      <td>479.386385</td>\n      <td>479.386385</td>\n      <td>NaN</td>\n    </tr>\n    <tr>\n      <th>Alosno</th>\n      <td>196.0</td>\n      <td>14.0</td>\n      <td>17.0</td>\n      <td>3933.0</td>\n      <td>355.962370</td>\n      <td>432.240020</td>\n      <td>7.0</td>\n    </tr>\n    <tr>\n      <th>Cerro de Andévalo (El)</th>\n      <td>157.0</td>\n      <td>1.0</td>\n      <td>9.0</td>\n      <td>2327.0</td>\n      <td>42.973786</td>\n      <td>386.764074</td>\n      <td>1.0</td>\n    </tr>\n    <tr>\n      <th>San Juan del Puerto</th>\n      <td>595.0</td>\n      <td>6.0</td>\n      <td>33.0</td>\n      <td>9411.0</td>\n      <td>63.755180</td>\n      <td>350.653491</td>\n      <td>2.0</td>\n    </tr>\n    <tr>\n      <th>Paymogo</th>\n      <td>79.0</td>\n      <td>3.0</td>\n      <td>4.0</td>\n      <td>1162.0</td>\n      <td>258.175559</td>\n      <td>344.234079</td>\n      <td>0.0</td>\n    </tr>\n    <tr>\n      <th>Bonares</th>\n      <td>309.0</td>\n      <td>9.0</td>\n      <td>18.0</td>\n      <td>6060.0</td>\n      <td>148.514851</td>\n      <td>297.029703</td>\n      <td>2.0</td>\n    </tr>\n    <tr>\n      <th>Moguer</th>\n      <td>1431.0</td>\n      <td>22.0</td>\n      <td>64.0</td>\n      <td>21867.0</td>\n      <td>100.608222</td>\n      <td>292.678465</td>\n      <td>7.0</td>\n    </tr>\n    <tr>\n      <th>Palos de la Frontera</th>\n      <td>736.0</td>\n      <td>6.0</td>\n      <td>29.0</td>\n      <td>11742.0</td>\n      <td>51.098620</td>\n      <td>246.976665</td>\n      <td>2.0</td>\n    </tr>\n    <tr>\n      <th>Manzanilla</th>\n      <td>109.0</td>\n      <td>2.0</td>\n      <td>5.0</td>\n      <td>2118.0</td>\n      <td>94.428706</td>\n      <td>236.071766</td>\n      <td>0.0</td>\n    </tr>\n    <tr>\n      <th>Cartaya</th>\n      <td>1421.0</td>\n      <td>13.0</td>\n      <td>46.0</td>\n      <td>20083.0</td>\n      <td>64.731365</td>\n      <td>229.049445</td>\n      <td>6.0</td>\n    </tr>\n    <tr>\n      <th>Isla Cristina</th>\n      <td>2223.0</td>\n      <td>32.0</td>\n      <td>48.0</td>\n      <td>21393.0</td>\n      <td>149.581639</td>\n      <td>224.372458</td>\n      <td>20.0</td>\n    </tr>\n    <tr>\n      <th>Ayamonte</th>\n      <td>1378.0</td>\n      <td>31.0</td>\n      <td>45.0</td>\n      <td>21104.0</td>\n      <td>146.891585</td>\n      <td>213.229719</td>\n      <td>8.0</td>\n    </tr>\n    <tr>\n      <th>Palma del Condado (La)</th>\n      <td>1202.0</td>\n      <td>7.0</td>\n      <td>22.0</td>\n      <td>10801.0</td>\n      <td>64.808814</td>\n      <td>203.684844</td>\n      <td>3.0</td>\n    </tr>\n    <tr>\n      <th>Lucena del Puerto</th>\n      <td>271.0</td>\n      <td>4.0</td>\n      <td>6.0</td>\n      <td>3261.0</td>\n      <td>122.661760</td>\n      <td>183.992640</td>\n      <td>3.0</td>\n    </tr>\n    <tr>\n      <th>Huelva (capital)</th>\n      <td>9229.0</td>\n      <td>111.0</td>\n      <td>258.0</td>\n      <td>143837.0</td>\n      <td>77.170686</td>\n      <td>179.369703</td>\n      <td>47.0</td>\n    </tr>\n    <tr>\n      <th>Huelva-Costa</th>\n      <td>19453.0</td>\n      <td>259.0</td>\n      <td>519.0</td>\n      <td>289548.0</td>\n      <td>89.449763</td>\n      <td>179.244892</td>\n      <td>113.0</td>\n    </tr>\n    <tr>\n      <th>Rosal de la Frontera</th>\n      <td>34.0</td>\n      <td>3.0</td>\n      <td>3.0</td>\n      <td>1697.0</td>\n      <td>176.782557</td>\n      <td>176.782557</td>\n      <td>1.0</td>\n    </tr>\n    <tr>\n      <th>Condado-Campiña</th>\n      <td>10943.0</td>\n      <td>98.0</td>\n      <td>272.0</td>\n      <td>156231.0</td>\n      <td>62.727628</td>\n      <td>174.101171</td>\n      <td>39.0</td>\n    </tr>\n    <tr>\n      <th>Villablanca</th>\n      <td>196.0</td>\n      <td>4.0</td>\n      <td>5.0</td>\n      <td>2885.0</td>\n      <td>138.648180</td>\n      <td>173.310225</td>\n      <td>2.0</td>\n    </tr>\n    <tr>\n      <th>Huelva</th>\n      <td>33708.0</td>\n      <td>378.0</td>\n      <td>844.0</td>\n      <td>513170.0</td>\n      <td>73.659801</td>\n      <td>164.467915</td>\n      <td>159.0</td>\n    </tr>\n    <tr>\n      <th>Beas</th>\n      <td>233.0</td>\n      <td>1.0</td>\n      <td>7.0</td>\n      <td>4341.0</td>\n      <td>23.036167</td>\n      <td>161.253167</td>\n      <td>NaN</td>\n    </tr>\n    <tr>\n      <th>Valverde del Camino</th>\n      <td>673.0</td>\n      <td>9.0</td>\n      <td>20.0</td>\n      <td>12750.0</td>\n      <td>70.588235</td>\n      <td>156.862745</td>\n      <td>4.0</td>\n    </tr>\n    <tr>\n      <th>Bollullos Par del Condado</th>\n      <td>1048.0</td>\n      <td>14.0</td>\n      <td>22.0</td>\n      <td>14387.0</td>\n      <td>97.310072</td>\n      <td>152.915827</td>\n      <td>3.0</td>\n    </tr>\n    <tr>\n      <th>Lepe</th>\n      <td>2201.0</td>\n      <td>25.0</td>\n      <td>40.0</td>\n      <td>27880.0</td>\n      <td>89.670014</td>\n      <td>143.472023</td>\n      <td>14.0</td>\n    </tr>\n    <tr>\n      <th>Punta Umbría</th>\n      <td>863.0</td>\n      <td>7.0</td>\n      <td>21.0</td>\n      <td>15355.0</td>\n      <td>45.587756</td>\n      <td>136.763269</td>\n      <td>4.0</td>\n    </tr>\n    <tr>\n      <th>Gibraleón</th>\n      <td>662.0</td>\n      <td>9.0</td>\n      <td>17.0</td>\n      <td>12737.0</td>\n      <td>70.660281</td>\n      <td>133.469420</td>\n      <td>4.0</td>\n    </tr>\n    <tr>\n      <th>Puebla de Guzmán</th>\n      <td>143.0</td>\n      <td>2.0</td>\n      <td>4.0</td>\n      <td>3092.0</td>\n      <td>64.683053</td>\n      <td>129.366106</td>\n      <td>0.0</td>\n    </tr>\n    <tr>\n      <th>Almonte</th>\n      <td>1930.0</td>\n      <td>12.0</td>\n      <td>29.0</td>\n      <td>24507.0</td>\n      <td>48.965602</td>\n      <td>118.333537</td>\n      <td>9.0</td>\n    </tr>\n    <tr>\n      <th>Aljaraque</th>\n      <td>1183.0</td>\n      <td>12.0</td>\n      <td>24.0</td>\n      <td>21474.0</td>\n      <td>55.881531</td>\n      <td>111.763062</td>\n      <td>0.0</td>\n    </tr>\n    <tr>\n      <th>Rociana del Condado</th>\n      <td>578.0</td>\n      <td>2.0</td>\n      <td>8.0</td>\n      <td>7939.0</td>\n      <td>25.192090</td>\n      <td>100.768359</td>\n      <td>0.0</td>\n    </tr>\n    <tr>\n      <th>Jabugo</th>\n      <td>67.0</td>\n      <td>1.0</td>\n      <td>2.0</td>\n      <td>2260.0</td>\n      <td>44.247788</td>\n      <td>88.495575</td>\n      <td>0.0</td>\n    </tr>\n    <tr>\n      <th>Zarza-Perrunal (La)</th>\n      <td>27.0</td>\n      <td>1.0</td>\n      <td>1.0</td>\n      <td>1253.0</td>\n      <td>79.808460</td>\n      <td>79.808460</td>\n      <td>0.0</td>\n    </tr>\n    <tr>\n      <th>Sierra de Huelva-Andévalo Central</th>\n      <td>2958.0</td>\n      <td>20.0</td>\n      <td>51.0</td>\n      <td>67391.0</td>\n      <td>29.677553</td>\n      <td>75.677761</td>\n      <td>7.0</td>\n    </tr>\n    <tr>\n      <th>Aroche</th>\n      <td>93.0</td>\n      <td>1.0</td>\n      <td>2.0</td>\n      <td>3054.0</td>\n      <td>32.743942</td>\n      <td>65.487885</td>\n      <td>-1.0</td>\n    </tr>\n    <tr>\n      <th>Cortegana</th>\n      <td>217.0</td>\n      <td>1.0</td>\n      <td>3.0</td>\n      <td>4602.0</td>\n      <td>21.729683</td>\n      <td>65.189048</td>\n      <td>1.0</td>\n    </tr>\n    <tr>\n      <th>Trigueros</th>\n      <td>335.0</td>\n      <td>1.0</td>\n      <td>5.0</td>\n      <td>7862.0</td>\n      <td>12.719410</td>\n      <td>63.597049</td>\n      <td>1.0</td>\n    </tr>\n    <tr>\n      <th>San Bartolomé de la Torre</th>\n      <td>308.0</td>\n      <td>1.0</td>\n      <td>2.0</td>\n      <td>3761.0</td>\n      <td>26.588673</td>\n      <td>53.177346</td>\n      <td>0.0</td>\n    </tr>\n    <tr>\n      <th>Aracena</th>\n      <td>543.0</td>\n      <td>2.0</td>\n      <td>4.0</td>\n      <td>8255.0</td>\n      <td>24.227741</td>\n      <td>48.455482</td>\n      <td>1.0</td>\n    </tr>\n    <tr>\n      <th>Villarrasa</th>\n      <td>181.0</td>\n      <td>1.0</td>\n      <td>1.0</td>\n      <td>2211.0</td>\n      <td>45.228403</td>\n      <td>45.228403</td>\n      <td>NaN</td>\n    </tr>\n    <tr>\n      <th>Nerva</th>\n      <td>181.0</td>\n      <td>1.0</td>\n      <td>2.0</td>\n      <td>5169.0</td>\n      <td>19.346102</td>\n      <td>38.692204</td>\n      <td>0.0</td>\n    </tr>\n    <tr>\n      <th>Paterna del Campo</th>\n      <td>130.0</td>\n      <td>1.0</td>\n      <td>1.0</td>\n      <td>3457.0</td>\n      <td>28.926815</td>\n      <td>28.926815</td>\n      <td>NaN</td>\n    </tr>\n  </tbody>\n</table>\n</div>"
     },
     "metadata": {},
     "execution_count": 17
    }
   ],
   "source": [
    "tabla.sort_values('tasa14', ascending=False)"
   ]
  },
  {
   "cell_type": "code",
   "execution_count": 18,
   "metadata": {},
   "outputs": [
    {
     "output_type": "execute_result",
     "data": {
      "text/plain": [
       "Medida                             Confirmados PDIA  Confirmados PDIA 7 días  \\\n",
       "Lugar de residencia                                                            \n",
       "Cerro de Andévalo (El)                        157.0                      1.0   \n",
       "Beas                                          233.0                      1.0   \n",
       "San Juan del Puerto                           595.0                      6.0   \n",
       "Trigueros                                     335.0                      1.0   \n",
       "Palos de la Frontera                          736.0                      6.0   \n",
       "Rociana del Condado                           578.0                      2.0   \n",
       "Cartaya                                      1421.0                     13.0   \n",
       "Palma del Condado (La)                       1202.0                      7.0   \n",
       "Punta Umbría                                  863.0                      7.0   \n",
       "Cortegana                                     217.0                      1.0   \n",
       "Moguer                                       1431.0                     22.0   \n",
       "Condado-Campiña                             10943.0                     98.0   \n",
       "Sierra de Huelva-Andévalo Central            2958.0                     20.0   \n",
       "Manzanilla                                    109.0                      2.0   \n",
       "Almonte                                      1930.0                     12.0   \n",
       "Huelva (capital)                             9229.0                    111.0   \n",
       "Huelva                                      33708.0                    378.0   \n",
       "Valverde del Camino                           673.0                      9.0   \n",
       "Huelva-Costa                                19453.0                    259.0   \n",
       "Puebla de Guzmán                              143.0                      2.0   \n",
       "Jabugo                                         67.0                      1.0   \n",
       "Bonares                                       309.0                      9.0   \n",
       "Nerva                                         181.0                      1.0   \n",
       "Aroche                                         93.0                      1.0   \n",
       "Aracena                                       543.0                      2.0   \n",
       "San Bartolomé de la Torre                     308.0                      1.0   \n",
       "Aljaraque                                    1183.0                     12.0   \n",
       "Gibraleón                                     662.0                      9.0   \n",
       "Lepe                                         2201.0                     25.0   \n",
       "Bollullos Par del Condado                    1048.0                     14.0   \n",
       "Lucena del Puerto                             271.0                      4.0   \n",
       "Isla Cristina                                2223.0                     32.0   \n",
       "Ayamonte                                     1378.0                     31.0   \n",
       "Paymogo                                        79.0                      3.0   \n",
       "Villablanca                                   196.0                      4.0   \n",
       "Alosno                                        196.0                     14.0   \n",
       "Rosal de la Frontera                           34.0                      3.0   \n",
       "Paterna del Campo                             130.0                      1.0   \n",
       "Villarrasa                                    181.0                      1.0   \n",
       "Santa Bárbara de Casa                          21.0                      5.0   \n",
       "Zarza-Perrunal (La)                            27.0                      1.0   \n",
       "\n",
       "Medida                             Confirmados PDIA 14 días  Población  \\\n",
       "Lugar de residencia                                                      \n",
       "Cerro de Andévalo (El)                                  9.0     2327.0   \n",
       "Beas                                                    7.0     4341.0   \n",
       "San Juan del Puerto                                    33.0     9411.0   \n",
       "Trigueros                                               5.0     7862.0   \n",
       "Palos de la Frontera                                   29.0    11742.0   \n",
       "Rociana del Condado                                     8.0     7939.0   \n",
       "Cartaya                                                46.0    20083.0   \n",
       "Palma del Condado (La)                                 22.0    10801.0   \n",
       "Punta Umbría                                           21.0    15355.0   \n",
       "Cortegana                                               3.0     4602.0   \n",
       "Moguer                                                 64.0    21867.0   \n",
       "Condado-Campiña                                       272.0   156231.0   \n",
       "Sierra de Huelva-Andévalo Central                      51.0    67391.0   \n",
       "Manzanilla                                              5.0     2118.0   \n",
       "Almonte                                                29.0    24507.0   \n",
       "Huelva (capital)                                      258.0   143837.0   \n",
       "Huelva                                                844.0   513170.0   \n",
       "Valverde del Camino                                    20.0    12750.0   \n",
       "Huelva-Costa                                          519.0   289548.0   \n",
       "Puebla de Guzmán                                        4.0     3092.0   \n",
       "Jabugo                                                  2.0     2260.0   \n",
       "Bonares                                                18.0     6060.0   \n",
       "Nerva                                                   2.0     5169.0   \n",
       "Aroche                                                  2.0     3054.0   \n",
       "Aracena                                                 4.0     8255.0   \n",
       "San Bartolomé de la Torre                               2.0     3761.0   \n",
       "Aljaraque                                              24.0    21474.0   \n",
       "Gibraleón                                              17.0    12737.0   \n",
       "Lepe                                                   40.0    27880.0   \n",
       "Bollullos Par del Condado                              22.0    14387.0   \n",
       "Lucena del Puerto                                       6.0     3261.0   \n",
       "Isla Cristina                                          48.0    21393.0   \n",
       "Ayamonte                                               45.0    21104.0   \n",
       "Paymogo                                                 4.0     1162.0   \n",
       "Villablanca                                             5.0     2885.0   \n",
       "Alosno                                                 17.0     3933.0   \n",
       "Rosal de la Frontera                                    3.0     1697.0   \n",
       "Paterna del Campo                                       1.0     3457.0   \n",
       "Villarrasa                                              1.0     2211.0   \n",
       "Santa Bárbara de Casa                                   5.0     1043.0   \n",
       "Zarza-Perrunal (La)                                     1.0     1253.0   \n",
       "\n",
       "Medida                                  tasa7      tasa14  Diferencia PDIA  \\\n",
       "Lugar de residencia                                                          \n",
       "Cerro de Andévalo (El)              42.973786  386.764074              1.0   \n",
       "Beas                                23.036167  161.253167              0.0   \n",
       "San Juan del Puerto                 63.755180  350.653491              2.0   \n",
       "Trigueros                           12.719410   63.597049              1.0   \n",
       "Palos de la Frontera                51.098620  246.976665              2.0   \n",
       "Rociana del Condado                 25.192090  100.768359              0.0   \n",
       "Cartaya                             64.731365  229.049445              6.0   \n",
       "Palma del Condado (La)              64.808814  203.684844              3.0   \n",
       "Punta Umbría                        45.587756  136.763269              4.0   \n",
       "Cortegana                           21.729683   65.189048              1.0   \n",
       "Moguer                             100.608222  292.678465              7.0   \n",
       "Condado-Campiña                     62.727628  174.101171             39.0   \n",
       "Sierra de Huelva-Andévalo Central   29.677553   75.677761              7.0   \n",
       "Manzanilla                          94.428706  236.071766              0.0   \n",
       "Almonte                             48.965602  118.333537              9.0   \n",
       "Huelva (capital)                    77.170686  179.369703             47.0   \n",
       "Huelva                              73.659801  164.467915            159.0   \n",
       "Valverde del Camino                 70.588235  156.862745              4.0   \n",
       "Huelva-Costa                        89.449763  179.244892            113.0   \n",
       "Puebla de Guzmán                    64.683053  129.366106              0.0   \n",
       "Jabugo                              44.247788   88.495575              0.0   \n",
       "Bonares                            148.514851  297.029703              2.0   \n",
       "Nerva                               19.346102   38.692204              0.0   \n",
       "Aroche                              32.743942   65.487885             -1.0   \n",
       "Aracena                             24.227741   48.455482              1.0   \n",
       "San Bartolomé de la Torre           26.588673   53.177346              0.0   \n",
       "Aljaraque                           55.881531  111.763062              0.0   \n",
       "Gibraleón                           70.660281  133.469420              4.0   \n",
       "Lepe                                89.670014  143.472023             14.0   \n",
       "Bollullos Par del Condado           97.310072  152.915827              3.0   \n",
       "Lucena del Puerto                  122.661760  183.992640              3.0   \n",
       "Isla Cristina                      149.581639  224.372458             20.0   \n",
       "Ayamonte                           146.891585  213.229719              8.0   \n",
       "Paymogo                            258.175559  344.234079              0.0   \n",
       "Villablanca                        138.648180  173.310225              2.0   \n",
       "Alosno                             355.962370  432.240020              7.0   \n",
       "Rosal de la Frontera               176.782557  176.782557              1.0   \n",
       "Paterna del Campo                   28.926815   28.926815              0.0   \n",
       "Villarrasa                          45.228403   45.228403              0.0   \n",
       "Santa Bárbara de Casa              479.386385  479.386385              0.0   \n",
       "Zarza-Perrunal (La)                 79.808460   79.808460              0.0   \n",
       "\n",
       "Medida                                 7/14  \n",
       "Lugar de residencia                          \n",
       "Cerro de Andévalo (El)             0.111111  \n",
       "Beas                               0.142857  \n",
       "San Juan del Puerto                0.181818  \n",
       "Trigueros                          0.200000  \n",
       "Palos de la Frontera               0.206897  \n",
       "Rociana del Condado                0.250000  \n",
       "Cartaya                            0.282609  \n",
       "Palma del Condado (La)             0.318182  \n",
       "Punta Umbría                       0.333333  \n",
       "Cortegana                          0.333333  \n",
       "Moguer                             0.343750  \n",
       "Condado-Campiña                    0.360294  \n",
       "Sierra de Huelva-Andévalo Central  0.392157  \n",
       "Manzanilla                         0.400000  \n",
       "Almonte                            0.413793  \n",
       "Huelva (capital)                   0.430233  \n",
       "Huelva                             0.447867  \n",
       "Valverde del Camino                0.450000  \n",
       "Huelva-Costa                       0.499037  \n",
       "Puebla de Guzmán                   0.500000  \n",
       "Jabugo                             0.500000  \n",
       "Bonares                            0.500000  \n",
       "Nerva                              0.500000  \n",
       "Aroche                             0.500000  \n",
       "Aracena                            0.500000  \n",
       "San Bartolomé de la Torre          0.500000  \n",
       "Aljaraque                          0.500000  \n",
       "Gibraleón                          0.529412  \n",
       "Lepe                               0.625000  \n",
       "Bollullos Par del Condado          0.636364  \n",
       "Lucena del Puerto                  0.666667  \n",
       "Isla Cristina                      0.666667  \n",
       "Ayamonte                           0.688889  \n",
       "Paymogo                            0.750000  \n",
       "Villablanca                        0.800000  \n",
       "Alosno                             0.823529  \n",
       "Rosal de la Frontera               1.000000  \n",
       "Paterna del Campo                  1.000000  \n",
       "Villarrasa                         1.000000  \n",
       "Santa Bárbara de Casa              1.000000  \n",
       "Zarza-Perrunal (La)                1.000000  "
      ],
      "text/html": "<div>\n<style scoped>\n    .dataframe tbody tr th:only-of-type {\n        vertical-align: middle;\n    }\n\n    .dataframe tbody tr th {\n        vertical-align: top;\n    }\n\n    .dataframe thead th {\n        text-align: right;\n    }\n</style>\n<table border=\"1\" class=\"dataframe\">\n  <thead>\n    <tr style=\"text-align: right;\">\n      <th>Medida</th>\n      <th>Confirmados PDIA</th>\n      <th>Confirmados PDIA 7 días</th>\n      <th>Confirmados PDIA 14 días</th>\n      <th>Población</th>\n      <th>tasa7</th>\n      <th>tasa14</th>\n      <th>Diferencia PDIA</th>\n      <th>7/14</th>\n    </tr>\n    <tr>\n      <th>Lugar de residencia</th>\n      <th></th>\n      <th></th>\n      <th></th>\n      <th></th>\n      <th></th>\n      <th></th>\n      <th></th>\n      <th></th>\n    </tr>\n  </thead>\n  <tbody>\n    <tr>\n      <th>Cerro de Andévalo (El)</th>\n      <td>157.0</td>\n      <td>1.0</td>\n      <td>9.0</td>\n      <td>2327.0</td>\n      <td>42.973786</td>\n      <td>386.764074</td>\n      <td>1.0</td>\n      <td>0.111111</td>\n    </tr>\n    <tr>\n      <th>Beas</th>\n      <td>233.0</td>\n      <td>1.0</td>\n      <td>7.0</td>\n      <td>4341.0</td>\n      <td>23.036167</td>\n      <td>161.253167</td>\n      <td>0.0</td>\n      <td>0.142857</td>\n    </tr>\n    <tr>\n      <th>San Juan del Puerto</th>\n      <td>595.0</td>\n      <td>6.0</td>\n      <td>33.0</td>\n      <td>9411.0</td>\n      <td>63.755180</td>\n      <td>350.653491</td>\n      <td>2.0</td>\n      <td>0.181818</td>\n    </tr>\n    <tr>\n      <th>Trigueros</th>\n      <td>335.0</td>\n      <td>1.0</td>\n      <td>5.0</td>\n      <td>7862.0</td>\n      <td>12.719410</td>\n      <td>63.597049</td>\n      <td>1.0</td>\n      <td>0.200000</td>\n    </tr>\n    <tr>\n      <th>Palos de la Frontera</th>\n      <td>736.0</td>\n      <td>6.0</td>\n      <td>29.0</td>\n      <td>11742.0</td>\n      <td>51.098620</td>\n      <td>246.976665</td>\n      <td>2.0</td>\n      <td>0.206897</td>\n    </tr>\n    <tr>\n      <th>Rociana del Condado</th>\n      <td>578.0</td>\n      <td>2.0</td>\n      <td>8.0</td>\n      <td>7939.0</td>\n      <td>25.192090</td>\n      <td>100.768359</td>\n      <td>0.0</td>\n      <td>0.250000</td>\n    </tr>\n    <tr>\n      <th>Cartaya</th>\n      <td>1421.0</td>\n      <td>13.0</td>\n      <td>46.0</td>\n      <td>20083.0</td>\n      <td>64.731365</td>\n      <td>229.049445</td>\n      <td>6.0</td>\n      <td>0.282609</td>\n    </tr>\n    <tr>\n      <th>Palma del Condado (La)</th>\n      <td>1202.0</td>\n      <td>7.0</td>\n      <td>22.0</td>\n      <td>10801.0</td>\n      <td>64.808814</td>\n      <td>203.684844</td>\n      <td>3.0</td>\n      <td>0.318182</td>\n    </tr>\n    <tr>\n      <th>Punta Umbría</th>\n      <td>863.0</td>\n      <td>7.0</td>\n      <td>21.0</td>\n      <td>15355.0</td>\n      <td>45.587756</td>\n      <td>136.763269</td>\n      <td>4.0</td>\n      <td>0.333333</td>\n    </tr>\n    <tr>\n      <th>Cortegana</th>\n      <td>217.0</td>\n      <td>1.0</td>\n      <td>3.0</td>\n      <td>4602.0</td>\n      <td>21.729683</td>\n      <td>65.189048</td>\n      <td>1.0</td>\n      <td>0.333333</td>\n    </tr>\n    <tr>\n      <th>Moguer</th>\n      <td>1431.0</td>\n      <td>22.0</td>\n      <td>64.0</td>\n      <td>21867.0</td>\n      <td>100.608222</td>\n      <td>292.678465</td>\n      <td>7.0</td>\n      <td>0.343750</td>\n    </tr>\n    <tr>\n      <th>Condado-Campiña</th>\n      <td>10943.0</td>\n      <td>98.0</td>\n      <td>272.0</td>\n      <td>156231.0</td>\n      <td>62.727628</td>\n      <td>174.101171</td>\n      <td>39.0</td>\n      <td>0.360294</td>\n    </tr>\n    <tr>\n      <th>Sierra de Huelva-Andévalo Central</th>\n      <td>2958.0</td>\n      <td>20.0</td>\n      <td>51.0</td>\n      <td>67391.0</td>\n      <td>29.677553</td>\n      <td>75.677761</td>\n      <td>7.0</td>\n      <td>0.392157</td>\n    </tr>\n    <tr>\n      <th>Manzanilla</th>\n      <td>109.0</td>\n      <td>2.0</td>\n      <td>5.0</td>\n      <td>2118.0</td>\n      <td>94.428706</td>\n      <td>236.071766</td>\n      <td>0.0</td>\n      <td>0.400000</td>\n    </tr>\n    <tr>\n      <th>Almonte</th>\n      <td>1930.0</td>\n      <td>12.0</td>\n      <td>29.0</td>\n      <td>24507.0</td>\n      <td>48.965602</td>\n      <td>118.333537</td>\n      <td>9.0</td>\n      <td>0.413793</td>\n    </tr>\n    <tr>\n      <th>Huelva (capital)</th>\n      <td>9229.0</td>\n      <td>111.0</td>\n      <td>258.0</td>\n      <td>143837.0</td>\n      <td>77.170686</td>\n      <td>179.369703</td>\n      <td>47.0</td>\n      <td>0.430233</td>\n    </tr>\n    <tr>\n      <th>Huelva</th>\n      <td>33708.0</td>\n      <td>378.0</td>\n      <td>844.0</td>\n      <td>513170.0</td>\n      <td>73.659801</td>\n      <td>164.467915</td>\n      <td>159.0</td>\n      <td>0.447867</td>\n    </tr>\n    <tr>\n      <th>Valverde del Camino</th>\n      <td>673.0</td>\n      <td>9.0</td>\n      <td>20.0</td>\n      <td>12750.0</td>\n      <td>70.588235</td>\n      <td>156.862745</td>\n      <td>4.0</td>\n      <td>0.450000</td>\n    </tr>\n    <tr>\n      <th>Huelva-Costa</th>\n      <td>19453.0</td>\n      <td>259.0</td>\n      <td>519.0</td>\n      <td>289548.0</td>\n      <td>89.449763</td>\n      <td>179.244892</td>\n      <td>113.0</td>\n      <td>0.499037</td>\n    </tr>\n    <tr>\n      <th>Puebla de Guzmán</th>\n      <td>143.0</td>\n      <td>2.0</td>\n      <td>4.0</td>\n      <td>3092.0</td>\n      <td>64.683053</td>\n      <td>129.366106</td>\n      <td>0.0</td>\n      <td>0.500000</td>\n    </tr>\n    <tr>\n      <th>Jabugo</th>\n      <td>67.0</td>\n      <td>1.0</td>\n      <td>2.0</td>\n      <td>2260.0</td>\n      <td>44.247788</td>\n      <td>88.495575</td>\n      <td>0.0</td>\n      <td>0.500000</td>\n    </tr>\n    <tr>\n      <th>Bonares</th>\n      <td>309.0</td>\n      <td>9.0</td>\n      <td>18.0</td>\n      <td>6060.0</td>\n      <td>148.514851</td>\n      <td>297.029703</td>\n      <td>2.0</td>\n      <td>0.500000</td>\n    </tr>\n    <tr>\n      <th>Nerva</th>\n      <td>181.0</td>\n      <td>1.0</td>\n      <td>2.0</td>\n      <td>5169.0</td>\n      <td>19.346102</td>\n      <td>38.692204</td>\n      <td>0.0</td>\n      <td>0.500000</td>\n    </tr>\n    <tr>\n      <th>Aroche</th>\n      <td>93.0</td>\n      <td>1.0</td>\n      <td>2.0</td>\n      <td>3054.0</td>\n      <td>32.743942</td>\n      <td>65.487885</td>\n      <td>-1.0</td>\n      <td>0.500000</td>\n    </tr>\n    <tr>\n      <th>Aracena</th>\n      <td>543.0</td>\n      <td>2.0</td>\n      <td>4.0</td>\n      <td>8255.0</td>\n      <td>24.227741</td>\n      <td>48.455482</td>\n      <td>1.0</td>\n      <td>0.500000</td>\n    </tr>\n    <tr>\n      <th>San Bartolomé de la Torre</th>\n      <td>308.0</td>\n      <td>1.0</td>\n      <td>2.0</td>\n      <td>3761.0</td>\n      <td>26.588673</td>\n      <td>53.177346</td>\n      <td>0.0</td>\n      <td>0.500000</td>\n    </tr>\n    <tr>\n      <th>Aljaraque</th>\n      <td>1183.0</td>\n      <td>12.0</td>\n      <td>24.0</td>\n      <td>21474.0</td>\n      <td>55.881531</td>\n      <td>111.763062</td>\n      <td>0.0</td>\n      <td>0.500000</td>\n    </tr>\n    <tr>\n      <th>Gibraleón</th>\n      <td>662.0</td>\n      <td>9.0</td>\n      <td>17.0</td>\n      <td>12737.0</td>\n      <td>70.660281</td>\n      <td>133.469420</td>\n      <td>4.0</td>\n      <td>0.529412</td>\n    </tr>\n    <tr>\n      <th>Lepe</th>\n      <td>2201.0</td>\n      <td>25.0</td>\n      <td>40.0</td>\n      <td>27880.0</td>\n      <td>89.670014</td>\n      <td>143.472023</td>\n      <td>14.0</td>\n      <td>0.625000</td>\n    </tr>\n    <tr>\n      <th>Bollullos Par del Condado</th>\n      <td>1048.0</td>\n      <td>14.0</td>\n      <td>22.0</td>\n      <td>14387.0</td>\n      <td>97.310072</td>\n      <td>152.915827</td>\n      <td>3.0</td>\n      <td>0.636364</td>\n    </tr>\n    <tr>\n      <th>Lucena del Puerto</th>\n      <td>271.0</td>\n      <td>4.0</td>\n      <td>6.0</td>\n      <td>3261.0</td>\n      <td>122.661760</td>\n      <td>183.992640</td>\n      <td>3.0</td>\n      <td>0.666667</td>\n    </tr>\n    <tr>\n      <th>Isla Cristina</th>\n      <td>2223.0</td>\n      <td>32.0</td>\n      <td>48.0</td>\n      <td>21393.0</td>\n      <td>149.581639</td>\n      <td>224.372458</td>\n      <td>20.0</td>\n      <td>0.666667</td>\n    </tr>\n    <tr>\n      <th>Ayamonte</th>\n      <td>1378.0</td>\n      <td>31.0</td>\n      <td>45.0</td>\n      <td>21104.0</td>\n      <td>146.891585</td>\n      <td>213.229719</td>\n      <td>8.0</td>\n      <td>0.688889</td>\n    </tr>\n    <tr>\n      <th>Paymogo</th>\n      <td>79.0</td>\n      <td>3.0</td>\n      <td>4.0</td>\n      <td>1162.0</td>\n      <td>258.175559</td>\n      <td>344.234079</td>\n      <td>0.0</td>\n      <td>0.750000</td>\n    </tr>\n    <tr>\n      <th>Villablanca</th>\n      <td>196.0</td>\n      <td>4.0</td>\n      <td>5.0</td>\n      <td>2885.0</td>\n      <td>138.648180</td>\n      <td>173.310225</td>\n      <td>2.0</td>\n      <td>0.800000</td>\n    </tr>\n    <tr>\n      <th>Alosno</th>\n      <td>196.0</td>\n      <td>14.0</td>\n      <td>17.0</td>\n      <td>3933.0</td>\n      <td>355.962370</td>\n      <td>432.240020</td>\n      <td>7.0</td>\n      <td>0.823529</td>\n    </tr>\n    <tr>\n      <th>Rosal de la Frontera</th>\n      <td>34.0</td>\n      <td>3.0</td>\n      <td>3.0</td>\n      <td>1697.0</td>\n      <td>176.782557</td>\n      <td>176.782557</td>\n      <td>1.0</td>\n      <td>1.000000</td>\n    </tr>\n    <tr>\n      <th>Paterna del Campo</th>\n      <td>130.0</td>\n      <td>1.0</td>\n      <td>1.0</td>\n      <td>3457.0</td>\n      <td>28.926815</td>\n      <td>28.926815</td>\n      <td>0.0</td>\n      <td>1.000000</td>\n    </tr>\n    <tr>\n      <th>Villarrasa</th>\n      <td>181.0</td>\n      <td>1.0</td>\n      <td>1.0</td>\n      <td>2211.0</td>\n      <td>45.228403</td>\n      <td>45.228403</td>\n      <td>0.0</td>\n      <td>1.000000</td>\n    </tr>\n    <tr>\n      <th>Santa Bárbara de Casa</th>\n      <td>21.0</td>\n      <td>5.0</td>\n      <td>5.0</td>\n      <td>1043.0</td>\n      <td>479.386385</td>\n      <td>479.386385</td>\n      <td>0.0</td>\n      <td>1.000000</td>\n    </tr>\n    <tr>\n      <th>Zarza-Perrunal (La)</th>\n      <td>27.0</td>\n      <td>1.0</td>\n      <td>1.0</td>\n      <td>1253.0</td>\n      <td>79.808460</td>\n      <td>79.808460</td>\n      <td>0.0</td>\n      <td>1.000000</td>\n    </tr>\n  </tbody>\n</table>\n</div>"
     },
     "metadata": {},
     "execution_count": 18
    }
   ],
   "source": [
    "# Peso de la tasa de la última semana en relación con la tasa a 14 días \n",
    "# Mejor cuanto menor. Valor 1 significa que no había casos antes de 7 días.\n",
    "tabla['7/14'] = tabla['tasa7'] / tabla['tasa14']\n",
    "tabla.fillna(0).sort_values('7/14', ascending=True)"
   ]
  },
  {
   "cell_type": "code",
   "execution_count": null,
   "metadata": {},
   "outputs": [],
   "source": []
  }
 ]
}