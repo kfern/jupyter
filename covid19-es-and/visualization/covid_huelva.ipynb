{
 "metadata": {
  "language_info": {
   "codemirror_mode": {
    "name": "ipython",
    "version": 3
   },
   "file_extension": ".py",
   "mimetype": "text/x-python",
   "name": "python",
   "nbconvert_exporter": "python",
   "pygments_lexer": "ipython3",
   "version": "3.8.6"
  },
  "orig_nbformat": 2,
  "kernelspec": {
   "name": "python3",
   "display_name": "Python 3",
   "language": "python"
  }
 },
 "nbformat": 4,
 "nbformat_minor": 2,
 "cells": [
  {
   "cell_type": "code",
   "execution_count": 1,
   "metadata": {},
   "outputs": [],
   "source": [
    "import pandas as pd\n",
    "pd.set_option('display.max_rows', None) # Print all rows"
   ]
  },
  {
   "cell_type": "code",
   "execution_count": 2,
   "metadata": {},
   "outputs": [],
   "source": [
    "# FIX SSL: CERTIFICATE_VERIFY_FAILED with Python3\n",
    "# https://stackoverflow.com/a/49174340\n",
    "import ssl\n",
    "\n",
    "ssl._create_default_https_context = ssl._create_unverified_context"
   ]
  },
  {
   "cell_type": "code",
   "execution_count": 3,
   "metadata": {},
   "outputs": [],
   "source": [
    "url = 'https://www.juntadeandalucia.es/institutodeestadisticaycartografia/badea/stpivot/stpivot/Print?cube=013d884c-cfc5-4c21-9e78-e26225682afd&type=3&foto=si&ejecutaDesde=&codConsulta=38668&consTipoVisua=JP'\n",
    "fields = ['Lugar de residencia', 'Medida', 'Valor']\n",
    "df = pd.read_csv(url, delimiter=';', usecols=fields, decimal=',')"
   ]
  },
  {
   "cell_type": "code",
   "execution_count": 4,
   "metadata": {},
   "outputs": [
    {
     "output_type": "execute_result",
     "data": {
      "text/plain": [
       "  Lugar de residencia                    Medida               Valor\n",
       "0              Huelva                 Población              513170\n",
       "1              Huelva          Confirmados PDIA               30191\n",
       "2              Huelva  Confirmados PDIA 14 días                1305\n",
       "3              Huelva         Tasa PDIA 14 días  254,30169339595065\n",
       "4              Huelva   Confirmados PDIA 7 días                 646\n",
       "5              Huelva        Total Confirmados                30370\n",
       "6              Huelva                   Curados               27546\n",
       "7              Huelva                Fallecidos                 376"
      ],
      "text/html": "<div>\n<style scoped>\n    .dataframe tbody tr th:only-of-type {\n        vertical-align: middle;\n    }\n\n    .dataframe tbody tr th {\n        vertical-align: top;\n    }\n\n    .dataframe thead th {\n        text-align: right;\n    }\n</style>\n<table border=\"1\" class=\"dataframe\">\n  <thead>\n    <tr style=\"text-align: right;\">\n      <th></th>\n      <th>Lugar de residencia</th>\n      <th>Medida</th>\n      <th>Valor</th>\n    </tr>\n  </thead>\n  <tbody>\n    <tr>\n      <th>0</th>\n      <td>Huelva</td>\n      <td>Población</td>\n      <td>513170</td>\n    </tr>\n    <tr>\n      <th>1</th>\n      <td>Huelva</td>\n      <td>Confirmados PDIA</td>\n      <td>30191</td>\n    </tr>\n    <tr>\n      <th>2</th>\n      <td>Huelva</td>\n      <td>Confirmados PDIA 14 días</td>\n      <td>1305</td>\n    </tr>\n    <tr>\n      <th>3</th>\n      <td>Huelva</td>\n      <td>Tasa PDIA 14 días</td>\n      <td>254,30169339595065</td>\n    </tr>\n    <tr>\n      <th>4</th>\n      <td>Huelva</td>\n      <td>Confirmados PDIA 7 días</td>\n      <td>646</td>\n    </tr>\n    <tr>\n      <th>5</th>\n      <td>Huelva</td>\n      <td>Total Confirmados</td>\n      <td>30370</td>\n    </tr>\n    <tr>\n      <th>6</th>\n      <td>Huelva</td>\n      <td>Curados</td>\n      <td>27546</td>\n    </tr>\n    <tr>\n      <th>7</th>\n      <td>Huelva</td>\n      <td>Fallecidos</td>\n      <td>376</td>\n    </tr>\n  </tbody>\n</table>\n</div>"
     },
     "metadata": {},
     "execution_count": 4
    }
   ],
   "source": [
    "df[df['Lugar de residencia'] == 'Huelva']"
   ]
  },
  {
   "cell_type": "code",
   "execution_count": 5,
   "metadata": {},
   "outputs": [],
   "source": [
    "df['Valor'] = pd.to_numeric(df['Valor'],errors='coerce')"
   ]
  },
  {
   "cell_type": "code",
   "execution_count": 6,
   "metadata": {},
   "outputs": [],
   "source": [
    "dfAnterior = pd.read_csv('covid_huelva.csv', index_col='Lugar de residencia')"
   ]
  },
  {
   "cell_type": "code",
   "execution_count": 7,
   "metadata": {
    "tags": []
   },
   "outputs": [
    {
     "output_type": "stream",
     "name": "stdout",
     "text": [
      "Confirmados PCR en la provincia de Huelva:  30191.0\n",
      "<ipython-input-7-31b732756b19>:2: UserWarning: Boolean Series key will be reindexed to match DataFrame index.\n",
      "  p = df[df['Lugar de residencia'] == 'Huelva'][df['Medida'] == 'Confirmados PDIA']['Valor'].values[0]\n"
     ]
    }
   ],
   "source": [
    "# Confirmados PCR provincia Huelva\n",
    "p = df[df['Lugar de residencia'] == 'Huelva'][df['Medida'] == 'Confirmados PDIA']['Valor'].values[0]\n",
    "print('Confirmados PCR en la provincia de Huelva: ', p)"
   ]
  },
  {
   "cell_type": "code",
   "execution_count": 8,
   "metadata": {
    "tags": []
   },
   "outputs": [
    {
     "output_type": "stream",
     "name": "stdout",
     "text": [
      "Confirmados PCR en Huelva capital:  7893.0\n",
      "<ipython-input-8-e81bfb40e710>:2: UserWarning: Boolean Series key will be reindexed to match DataFrame index.\n",
      "  c = df[df['Lugar de residencia'] == 'Huelva (capital)'][df['Medida'] == 'Confirmados PDIA']['Valor'].values[0]\n"
     ]
    }
   ],
   "source": [
    "# Confirmados PCR Huelva capitalpd\n",
    "c = df[df['Lugar de residencia'] == 'Huelva (capital)'][df['Medida'] == 'Confirmados PDIA']['Valor'].values[0]\n",
    "print('Confirmados PCR en Huelva capital: ', c)"
   ]
  },
  {
   "cell_type": "code",
   "execution_count": 9,
   "metadata": {
    "tags": []
   },
   "outputs": [
    {
     "output_type": "stream",
     "name": "stderr",
     "text": [
      "<ipython-input-9-f09dd2050cc1>:1: UserWarning: Boolean Series key will be reindexed to match DataFrame index.\n  c7 = df[df['Lugar de residencia'] == 'Huelva (capital)'][df['Medida'] == 'Confirmados PDIA 7 días']['Valor'].values[0]\n<ipython-input-9-f09dd2050cc1>:2: UserWarning: Boolean Series key will be reindexed to match DataFrame index.\n  c14 = df[df['Lugar de residencia'] == 'Huelva (capital)'][df['Medida'] == 'Confirmados PDIA 14 días']['Valor'].values[0]\n<ipython-input-9-f09dd2050cc1>:3: UserWarning: Boolean Series key will be reindexed to match DataFrame index.\n  p = df[df['Lugar de residencia'] == 'Huelva (capital)'][df['Medida'] == 'Población']['Valor'].values[0]\n"
     ]
    }
   ],
   "source": [
    "c7 = df[df['Lugar de residencia'] == 'Huelva (capital)'][df['Medida'] == 'Confirmados PDIA 7 días']['Valor'].values[0]\n",
    "c14 = df[df['Lugar de residencia'] == 'Huelva (capital)'][df['Medida'] == 'Confirmados PDIA 14 días']['Valor'].values[0]\n",
    "p = df[df['Lugar de residencia'] == 'Huelva (capital)'][df['Medida'] == 'Población']['Valor'].values[0]"
   ]
  },
  {
   "cell_type": "code",
   "execution_count": 10,
   "metadata": {
    "tags": []
   },
   "outputs": [
    {
     "output_type": "stream",
     "name": "stdout",
     "text": [
      "Huelva (capital)\n\nUn positivo PCR cada 851 personas en los últimos 7 días \n\nUn positivo PCR cada 382 personas en los últimos 14 días\n"
     ]
    }
   ],
   "source": [
    "print('Huelva (capital)\\n')\n",
    "#print('Confirmados PCR 7 días x 1,000 habitantes: ', f\"{c7/(p/1000):.5f}\")\n",
    "print('Un positivo PCR cada', f\"{p/c7:.0f}\", 'personas en los últimos 7 días', '\\n')\n",
    "#print('Confirmados PCR 14 días x 1,000 habitantes: ', f\"{c14/(p/1000):.5f}\")\n",
    "print('Un positivo PCR cada', f\"{p/c14:.0f}\", 'personas en los últimos 14 días')"
   ]
  },
  {
   "cell_type": "code",
   "execution_count": 11,
   "metadata": {},
   "outputs": [],
   "source": [
    "filtro = ((df['Medida'] == 'Confirmados PDIA')| (df['Medida'] == 'Confirmados PDIA 7 días') | (df['Medida'] == 'Población' ) | (df['Medida'] == 'Confirmados PDIA 14 días')) & (df['Valor'] > 0)\n",
    "tabla = pd.pivot_table(df.loc[filtro], values='Valor', index='Lugar de residencia', columns='Medida').dropna()"
   ]
  },
  {
   "cell_type": "code",
   "execution_count": 12,
   "metadata": {},
   "outputs": [],
   "source": [
    "# Reorder columns\n",
    "tabla = tabla[['Confirmados PDIA', 'Confirmados PDIA 7 días', 'Confirmados PDIA 14 días', 'Población']]"
   ]
  },
  {
   "cell_type": "code",
   "execution_count": 13,
   "metadata": {},
   "outputs": [],
   "source": [
    "tabla['tasa7'] = tabla['Confirmados PDIA 7 días']/tabla['Población']*100000\n",
    "tabla['tasa14'] = tabla['Confirmados PDIA 14 días']/tabla['Población']*100000"
   ]
  },
  {
   "cell_type": "code",
   "execution_count": 14,
   "metadata": {},
   "outputs": [],
   "source": [
    "tabla['Diferencia PDIA'] = tabla['Confirmados PDIA'] - dfAnterior['Confirmados PDIA']"
   ]
  },
  {
   "cell_type": "code",
   "execution_count": 15,
   "metadata": {},
   "outputs": [
    {
     "output_type": "execute_result",
     "data": {
      "text/plain": [
       "Medida                             Confirmados PDIA  Confirmados PDIA 7 días  \\\n",
       "Lugar de residencia                                                            \n",
       "Huelva                                      30191.0                    646.0   \n",
       "Condado-Campiña                              9751.0                    308.0   \n",
       "Huelva-Costa                                17427.0                    283.0   \n",
       "Huelva (capital)                             7893.0                    169.0   \n",
       "Almonte                                      1727.0                     73.0   \n",
       "Moguer                                       1215.0                     59.0   \n",
       "Sierra de Huelva-Andévalo Central            2669.0                     52.0   \n",
       "Bollullos Par del Condado                     943.0                     46.0   \n",
       "Palma del Condado (La)                       1113.0                     47.0   \n",
       "Punta Umbría                                  781.0                     26.0   \n",
       "Villarrasa                                    163.0                     13.0   \n",
       "Aljaraque                                    1039.0                     18.0   \n",
       "Valverde del Camino                           528.0                     29.0   \n",
       "Ayamonte                                     1307.0                     10.0   \n",
       "Cartaya                                      1312.0                     20.0   \n",
       "Palos de la Frontera                          616.0                     12.0   \n",
       "Isla Cristina                                2129.0                     23.0   \n",
       "Trigueros                                     289.0                     11.0   \n",
       "Calañas                                       185.0                      8.0   \n",
       "Manzanilla                                     94.0                      5.0   \n",
       "San Juan del Puerto                           475.0                      7.0   \n",
       "Nerva                                         173.0                      4.0   \n",
       "Rociana del Condado                           538.0                      5.0   \n",
       "Cabezas Rubias                                 36.0                      4.0   \n",
       "Lucena del Puerto                             243.0                      3.0   \n",
       "Bonares                                       263.0                      3.0   \n",
       "San Bartolomé de la Torre                     291.0                      8.0   \n",
       "Alosno                                        166.0                      3.0   \n",
       "Gibraleón                                     606.0                      6.0   \n",
       "Aracena                                       516.0                      2.0   \n",
       "Niebla                                        211.0                      6.0   \n",
       "Lepe                                         2106.0                      7.0   \n",
       "Campofrío                                       9.0                      2.0   \n",
       "\n",
       "Medida                             Confirmados PDIA 14 días  Población  \\\n",
       "Lugar de residencia                                                      \n",
       "Huelva                                               1305.0   513170.0   \n",
       "Condado-Campiña                                       597.0   156231.0   \n",
       "Huelva-Costa                                          606.0   289548.0   \n",
       "Huelva (capital)                                      377.0   143837.0   \n",
       "Almonte                                               155.0    24507.0   \n",
       "Moguer                                                 99.0    21867.0   \n",
       "Sierra de Huelva-Andévalo Central                      99.0    67391.0   \n",
       "Bollullos Par del Condado                              93.0    14387.0   \n",
       "Palma del Condado (La)                                 70.0    10801.0   \n",
       "Punta Umbría                                           64.0    15355.0   \n",
       "Villarrasa                                             16.0     2211.0   \n",
       "Aljaraque                                              31.0    21474.0   \n",
       "Valverde del Camino                                    47.0    12750.0   \n",
       "Ayamonte                                               16.0    21104.0   \n",
       "Cartaya                                                30.0    20083.0   \n",
       "Palos de la Frontera                                   19.0    11742.0   \n",
       "Isla Cristina                                          53.0    21393.0   \n",
       "Trigueros                                              21.0     7862.0   \n",
       "Calañas                                                11.0     2768.0   \n",
       "Manzanilla                                              9.0     2118.0   \n",
       "San Juan del Puerto                                    22.0     9411.0   \n",
       "Nerva                                                  13.0     5169.0   \n",
       "Rociana del Condado                                    17.0     7939.0   \n",
       "Cabezas Rubias                                          4.0      706.0   \n",
       "Lucena del Puerto                                      10.0     3261.0   \n",
       "Bonares                                                 6.0     6060.0   \n",
       "San Bartolomé de la Torre                               9.0     3761.0   \n",
       "Alosno                                                  4.0     3933.0   \n",
       "Gibraleón                                              15.0    12737.0   \n",
       "Aracena                                                 3.0     8255.0   \n",
       "Niebla                                                 15.0     4116.0   \n",
       "Lepe                                                   22.0    27880.0   \n",
       "Campofrío                                               2.0      713.0   \n",
       "\n",
       "Medida                                  tasa7      tasa14  Diferencia PDIA  \n",
       "Lugar de residencia                                                         \n",
       "Huelva                             125.884210  254.301693            262.0  \n",
       "Condado-Campiña                    197.143973  382.126467            130.0  \n",
       "Huelva-Costa                        97.738544  209.291724            111.0  \n",
       "Huelva (capital)                   117.494108  262.102241             68.0  \n",
       "Almonte                            297.874077  632.472355             31.0  \n",
       "Moguer                             269.812960  452.737001             27.0  \n",
       "Sierra de Huelva-Andévalo Central   77.161639  146.903889             18.0  \n",
       "Bollullos Par del Condado          319.733092  646.416904             17.0  \n",
       "Palma del Condado (La)             435.144894  648.088140             15.0  \n",
       "Punta Umbría                       169.325952  416.802345             11.0  \n",
       "Villarrasa                         587.969245  723.654455             10.0  \n",
       "Aljaraque                           83.822297  144.360622              9.0  \n",
       "Valverde del Camino                227.450980  368.627451              8.0  \n",
       "Ayamonte                            47.384382   75.815011              7.0  \n",
       "Cartaya                             99.586715  149.380073              7.0  \n",
       "Palos de la Frontera               102.197241  161.812298              6.0  \n",
       "Isla Cristina                      107.511803  247.744589              5.0  \n",
       "Trigueros                          139.913508  267.107606              5.0  \n",
       "Calañas                            289.017341  397.398844              4.0  \n",
       "Manzanilla                         236.071766  424.929178              4.0  \n",
       "San Juan del Puerto                 74.381043  233.768994              4.0  \n",
       "Nerva                               77.384407  251.499323              3.0  \n",
       "Rociana del Condado                 62.980224  214.132762              3.0  \n",
       "Cabezas Rubias                     566.572238  566.572238              2.0  \n",
       "Lucena del Puerto                   91.996320  306.654400              2.0  \n",
       "Bonares                             49.504950   99.009901              2.0  \n",
       "San Bartolomé de la Torre          212.709386  239.298059              2.0  \n",
       "Alosno                              76.277651  101.703534              1.0  \n",
       "Gibraleón                           47.106854  117.767135              1.0  \n",
       "Aracena                             24.227741   36.341611              1.0  \n",
       "Niebla                             145.772595  364.431487              1.0  \n",
       "Lepe                                25.107604   78.909613              1.0  \n",
       "Campofrío                          280.504909  280.504909              NaN  "
      ],
      "text/html": "<div>\n<style scoped>\n    .dataframe tbody tr th:only-of-type {\n        vertical-align: middle;\n    }\n\n    .dataframe tbody tr th {\n        vertical-align: top;\n    }\n\n    .dataframe thead th {\n        text-align: right;\n    }\n</style>\n<table border=\"1\" class=\"dataframe\">\n  <thead>\n    <tr style=\"text-align: right;\">\n      <th>Medida</th>\n      <th>Confirmados PDIA</th>\n      <th>Confirmados PDIA 7 días</th>\n      <th>Confirmados PDIA 14 días</th>\n      <th>Población</th>\n      <th>tasa7</th>\n      <th>tasa14</th>\n      <th>Diferencia PDIA</th>\n    </tr>\n    <tr>\n      <th>Lugar de residencia</th>\n      <th></th>\n      <th></th>\n      <th></th>\n      <th></th>\n      <th></th>\n      <th></th>\n      <th></th>\n    </tr>\n  </thead>\n  <tbody>\n    <tr>\n      <th>Huelva</th>\n      <td>30191.0</td>\n      <td>646.0</td>\n      <td>1305.0</td>\n      <td>513170.0</td>\n      <td>125.884210</td>\n      <td>254.301693</td>\n      <td>262.0</td>\n    </tr>\n    <tr>\n      <th>Condado-Campiña</th>\n      <td>9751.0</td>\n      <td>308.0</td>\n      <td>597.0</td>\n      <td>156231.0</td>\n      <td>197.143973</td>\n      <td>382.126467</td>\n      <td>130.0</td>\n    </tr>\n    <tr>\n      <th>Huelva-Costa</th>\n      <td>17427.0</td>\n      <td>283.0</td>\n      <td>606.0</td>\n      <td>289548.0</td>\n      <td>97.738544</td>\n      <td>209.291724</td>\n      <td>111.0</td>\n    </tr>\n    <tr>\n      <th>Huelva (capital)</th>\n      <td>7893.0</td>\n      <td>169.0</td>\n      <td>377.0</td>\n      <td>143837.0</td>\n      <td>117.494108</td>\n      <td>262.102241</td>\n      <td>68.0</td>\n    </tr>\n    <tr>\n      <th>Almonte</th>\n      <td>1727.0</td>\n      <td>73.0</td>\n      <td>155.0</td>\n      <td>24507.0</td>\n      <td>297.874077</td>\n      <td>632.472355</td>\n      <td>31.0</td>\n    </tr>\n    <tr>\n      <th>Moguer</th>\n      <td>1215.0</td>\n      <td>59.0</td>\n      <td>99.0</td>\n      <td>21867.0</td>\n      <td>269.812960</td>\n      <td>452.737001</td>\n      <td>27.0</td>\n    </tr>\n    <tr>\n      <th>Sierra de Huelva-Andévalo Central</th>\n      <td>2669.0</td>\n      <td>52.0</td>\n      <td>99.0</td>\n      <td>67391.0</td>\n      <td>77.161639</td>\n      <td>146.903889</td>\n      <td>18.0</td>\n    </tr>\n    <tr>\n      <th>Bollullos Par del Condado</th>\n      <td>943.0</td>\n      <td>46.0</td>\n      <td>93.0</td>\n      <td>14387.0</td>\n      <td>319.733092</td>\n      <td>646.416904</td>\n      <td>17.0</td>\n    </tr>\n    <tr>\n      <th>Palma del Condado (La)</th>\n      <td>1113.0</td>\n      <td>47.0</td>\n      <td>70.0</td>\n      <td>10801.0</td>\n      <td>435.144894</td>\n      <td>648.088140</td>\n      <td>15.0</td>\n    </tr>\n    <tr>\n      <th>Punta Umbría</th>\n      <td>781.0</td>\n      <td>26.0</td>\n      <td>64.0</td>\n      <td>15355.0</td>\n      <td>169.325952</td>\n      <td>416.802345</td>\n      <td>11.0</td>\n    </tr>\n    <tr>\n      <th>Villarrasa</th>\n      <td>163.0</td>\n      <td>13.0</td>\n      <td>16.0</td>\n      <td>2211.0</td>\n      <td>587.969245</td>\n      <td>723.654455</td>\n      <td>10.0</td>\n    </tr>\n    <tr>\n      <th>Aljaraque</th>\n      <td>1039.0</td>\n      <td>18.0</td>\n      <td>31.0</td>\n      <td>21474.0</td>\n      <td>83.822297</td>\n      <td>144.360622</td>\n      <td>9.0</td>\n    </tr>\n    <tr>\n      <th>Valverde del Camino</th>\n      <td>528.0</td>\n      <td>29.0</td>\n      <td>47.0</td>\n      <td>12750.0</td>\n      <td>227.450980</td>\n      <td>368.627451</td>\n      <td>8.0</td>\n    </tr>\n    <tr>\n      <th>Ayamonte</th>\n      <td>1307.0</td>\n      <td>10.0</td>\n      <td>16.0</td>\n      <td>21104.0</td>\n      <td>47.384382</td>\n      <td>75.815011</td>\n      <td>7.0</td>\n    </tr>\n    <tr>\n      <th>Cartaya</th>\n      <td>1312.0</td>\n      <td>20.0</td>\n      <td>30.0</td>\n      <td>20083.0</td>\n      <td>99.586715</td>\n      <td>149.380073</td>\n      <td>7.0</td>\n    </tr>\n    <tr>\n      <th>Palos de la Frontera</th>\n      <td>616.0</td>\n      <td>12.0</td>\n      <td>19.0</td>\n      <td>11742.0</td>\n      <td>102.197241</td>\n      <td>161.812298</td>\n      <td>6.0</td>\n    </tr>\n    <tr>\n      <th>Isla Cristina</th>\n      <td>2129.0</td>\n      <td>23.0</td>\n      <td>53.0</td>\n      <td>21393.0</td>\n      <td>107.511803</td>\n      <td>247.744589</td>\n      <td>5.0</td>\n    </tr>\n    <tr>\n      <th>Trigueros</th>\n      <td>289.0</td>\n      <td>11.0</td>\n      <td>21.0</td>\n      <td>7862.0</td>\n      <td>139.913508</td>\n      <td>267.107606</td>\n      <td>5.0</td>\n    </tr>\n    <tr>\n      <th>Calañas</th>\n      <td>185.0</td>\n      <td>8.0</td>\n      <td>11.0</td>\n      <td>2768.0</td>\n      <td>289.017341</td>\n      <td>397.398844</td>\n      <td>4.0</td>\n    </tr>\n    <tr>\n      <th>Manzanilla</th>\n      <td>94.0</td>\n      <td>5.0</td>\n      <td>9.0</td>\n      <td>2118.0</td>\n      <td>236.071766</td>\n      <td>424.929178</td>\n      <td>4.0</td>\n    </tr>\n    <tr>\n      <th>San Juan del Puerto</th>\n      <td>475.0</td>\n      <td>7.0</td>\n      <td>22.0</td>\n      <td>9411.0</td>\n      <td>74.381043</td>\n      <td>233.768994</td>\n      <td>4.0</td>\n    </tr>\n    <tr>\n      <th>Nerva</th>\n      <td>173.0</td>\n      <td>4.0</td>\n      <td>13.0</td>\n      <td>5169.0</td>\n      <td>77.384407</td>\n      <td>251.499323</td>\n      <td>3.0</td>\n    </tr>\n    <tr>\n      <th>Rociana del Condado</th>\n      <td>538.0</td>\n      <td>5.0</td>\n      <td>17.0</td>\n      <td>7939.0</td>\n      <td>62.980224</td>\n      <td>214.132762</td>\n      <td>3.0</td>\n    </tr>\n    <tr>\n      <th>Cabezas Rubias</th>\n      <td>36.0</td>\n      <td>4.0</td>\n      <td>4.0</td>\n      <td>706.0</td>\n      <td>566.572238</td>\n      <td>566.572238</td>\n      <td>2.0</td>\n    </tr>\n    <tr>\n      <th>Lucena del Puerto</th>\n      <td>243.0</td>\n      <td>3.0</td>\n      <td>10.0</td>\n      <td>3261.0</td>\n      <td>91.996320</td>\n      <td>306.654400</td>\n      <td>2.0</td>\n    </tr>\n    <tr>\n      <th>Bonares</th>\n      <td>263.0</td>\n      <td>3.0</td>\n      <td>6.0</td>\n      <td>6060.0</td>\n      <td>49.504950</td>\n      <td>99.009901</td>\n      <td>2.0</td>\n    </tr>\n    <tr>\n      <th>San Bartolomé de la Torre</th>\n      <td>291.0</td>\n      <td>8.0</td>\n      <td>9.0</td>\n      <td>3761.0</td>\n      <td>212.709386</td>\n      <td>239.298059</td>\n      <td>2.0</td>\n    </tr>\n    <tr>\n      <th>Alosno</th>\n      <td>166.0</td>\n      <td>3.0</td>\n      <td>4.0</td>\n      <td>3933.0</td>\n      <td>76.277651</td>\n      <td>101.703534</td>\n      <td>1.0</td>\n    </tr>\n    <tr>\n      <th>Gibraleón</th>\n      <td>606.0</td>\n      <td>6.0</td>\n      <td>15.0</td>\n      <td>12737.0</td>\n      <td>47.106854</td>\n      <td>117.767135</td>\n      <td>1.0</td>\n    </tr>\n    <tr>\n      <th>Aracena</th>\n      <td>516.0</td>\n      <td>2.0</td>\n      <td>3.0</td>\n      <td>8255.0</td>\n      <td>24.227741</td>\n      <td>36.341611</td>\n      <td>1.0</td>\n    </tr>\n    <tr>\n      <th>Niebla</th>\n      <td>211.0</td>\n      <td>6.0</td>\n      <td>15.0</td>\n      <td>4116.0</td>\n      <td>145.772595</td>\n      <td>364.431487</td>\n      <td>1.0</td>\n    </tr>\n    <tr>\n      <th>Lepe</th>\n      <td>2106.0</td>\n      <td>7.0</td>\n      <td>22.0</td>\n      <td>27880.0</td>\n      <td>25.107604</td>\n      <td>78.909613</td>\n      <td>1.0</td>\n    </tr>\n    <tr>\n      <th>Campofrío</th>\n      <td>9.0</td>\n      <td>2.0</td>\n      <td>2.0</td>\n      <td>713.0</td>\n      <td>280.504909</td>\n      <td>280.504909</td>\n      <td>NaN</td>\n    </tr>\n  </tbody>\n</table>\n</div>"
     },
     "metadata": {},
     "execution_count": 15
    }
   ],
   "source": [
    "# Nuevos casos desde la última captura\n",
    "tabla[tabla['Diferencia PDIA'] != 0].sort_values('Diferencia PDIA', ascending=False)"
   ]
  },
  {
   "cell_type": "code",
   "execution_count": 16,
   "metadata": {},
   "outputs": [],
   "source": [
    "if tabla[tabla['Diferencia PDIA'] != 0]['Diferencia PDIA'].sum() != 0:\n",
    "  # Save to csv\n",
    "  tabla.to_csv('covid_huelva.csv', encoding='utf-8', header=True, index=True)  "
   ]
  },
  {
   "cell_type": "code",
   "execution_count": 17,
   "metadata": {},
   "outputs": [
    {
     "output_type": "execute_result",
     "data": {
      "text/plain": [
       "Medida                             Confirmados PDIA  Confirmados PDIA 7 días  \\\n",
       "Lugar de residencia                                                            \n",
       "Galaroza                                       41.0                      2.0   \n",
       "Villarrasa                                    163.0                     13.0   \n",
       "Palma del Condado (La)                       1113.0                     47.0   \n",
       "Bollullos Par del Condado                     943.0                     46.0   \n",
       "Almonte                                      1727.0                     73.0   \n",
       "Cabezas Rubias                                 36.0                      4.0   \n",
       "Moguer                                       1215.0                     59.0   \n",
       "Manzanilla                                     94.0                      5.0   \n",
       "Punta Umbría                                  781.0                     26.0   \n",
       "Calañas                                       185.0                      8.0   \n",
       "Condado-Campiña                              9751.0                    308.0   \n",
       "Valverde del Camino                           528.0                     29.0   \n",
       "Niebla                                        211.0                      6.0   \n",
       "Lucena del Puerto                             243.0                      3.0   \n",
       "Campofrío                                       9.0                      2.0   \n",
       "Villalba del Alcor                            480.0                      2.0   \n",
       "Trigueros                                     289.0                     11.0   \n",
       "Huelva (capital)                             7893.0                    169.0   \n",
       "Huelva                                      30191.0                    646.0   \n",
       "Nerva                                         173.0                      4.0   \n",
       "Isla Cristina                                2129.0                     23.0   \n",
       "San Bartolomé de la Torre                     291.0                      8.0   \n",
       "San Juan del Puerto                           475.0                      7.0   \n",
       "Rociana del Condado                           538.0                      5.0   \n",
       "Huelva-Costa                                17427.0                    283.0   \n",
       "Villablanca                                   187.0                      3.0   \n",
       "Palos de la Frontera                          616.0                     12.0   \n",
       "Cartaya                                      1312.0                     20.0   \n",
       "Sierra de Huelva-Andévalo Central            2669.0                     52.0   \n",
       "Aljaraque                                    1039.0                     18.0   \n",
       "Alájar                                         17.0                      1.0   \n",
       "Gibraleón                                     606.0                      6.0   \n",
       "Alosno                                        166.0                      3.0   \n",
       "Bonares                                       263.0                      3.0   \n",
       "Campillo (El)                                  72.0                      2.0   \n",
       "Cerro de Andévalo (El)                        138.0                      1.0   \n",
       "Zarza-Perrunal (La)                            23.0                      1.0   \n",
       "Lepe                                         2106.0                      7.0   \n",
       "Ayamonte                                     1307.0                     10.0   \n",
       "Beas                                          204.0                      1.0   \n",
       "Paterna del Campo                             126.0                      1.0   \n",
       "Aracena                                       516.0                      2.0   \n",
       "\n",
       "Medida                             Confirmados PDIA 14 días  Población  \\\n",
       "Lugar de residencia                                                      \n",
       "Galaroza                                               11.0     1382.0   \n",
       "Villarrasa                                             16.0     2211.0   \n",
       "Palma del Condado (La)                                 70.0    10801.0   \n",
       "Bollullos Par del Condado                              93.0    14387.0   \n",
       "Almonte                                               155.0    24507.0   \n",
       "Cabezas Rubias                                          4.0      706.0   \n",
       "Moguer                                                 99.0    21867.0   \n",
       "Manzanilla                                              9.0     2118.0   \n",
       "Punta Umbría                                           64.0    15355.0   \n",
       "Calañas                                                11.0     2768.0   \n",
       "Condado-Campiña                                       597.0   156231.0   \n",
       "Valverde del Camino                                    47.0    12750.0   \n",
       "Niebla                                                 15.0     4116.0   \n",
       "Lucena del Puerto                                      10.0     3261.0   \n",
       "Campofrío                                               2.0      713.0   \n",
       "Villalba del Alcor                                      9.0     3366.0   \n",
       "Trigueros                                              21.0     7862.0   \n",
       "Huelva (capital)                                      377.0   143837.0   \n",
       "Huelva                                               1305.0   513170.0   \n",
       "Nerva                                                  13.0     5169.0   \n",
       "Isla Cristina                                          53.0    21393.0   \n",
       "San Bartolomé de la Torre                               9.0     3761.0   \n",
       "San Juan del Puerto                                    22.0     9411.0   \n",
       "Rociana del Condado                                    17.0     7939.0   \n",
       "Huelva-Costa                                          606.0   289548.0   \n",
       "Villablanca                                             5.0     2885.0   \n",
       "Palos de la Frontera                                   19.0    11742.0   \n",
       "Cartaya                                                30.0    20083.0   \n",
       "Sierra de Huelva-Andévalo Central                      99.0    67391.0   \n",
       "Aljaraque                                              31.0    21474.0   \n",
       "Alájar                                                  1.0      759.0   \n",
       "Gibraleón                                              15.0    12737.0   \n",
       "Alosno                                                  4.0     3933.0   \n",
       "Bonares                                                 6.0     6060.0   \n",
       "Campillo (El)                                           2.0     2024.0   \n",
       "Cerro de Andévalo (El)                                  2.0     2327.0   \n",
       "Zarza-Perrunal (La)                                     1.0     1253.0   \n",
       "Lepe                                                   22.0    27880.0   \n",
       "Ayamonte                                               16.0    21104.0   \n",
       "Beas                                                    3.0     4341.0   \n",
       "Paterna del Campo                                       2.0     3457.0   \n",
       "Aracena                                                 3.0     8255.0   \n",
       "\n",
       "Medida                                  tasa7      tasa14  Diferencia PDIA  \n",
       "Lugar de residencia                                                         \n",
       "Galaroza                           144.717800  795.947902              0.0  \n",
       "Villarrasa                         587.969245  723.654455             10.0  \n",
       "Palma del Condado (La)             435.144894  648.088140             15.0  \n",
       "Bollullos Par del Condado          319.733092  646.416904             17.0  \n",
       "Almonte                            297.874077  632.472355             31.0  \n",
       "Cabezas Rubias                     566.572238  566.572238              2.0  \n",
       "Moguer                             269.812960  452.737001             27.0  \n",
       "Manzanilla                         236.071766  424.929178              4.0  \n",
       "Punta Umbría                       169.325952  416.802345             11.0  \n",
       "Calañas                            289.017341  397.398844              4.0  \n",
       "Condado-Campiña                    197.143973  382.126467            130.0  \n",
       "Valverde del Camino                227.450980  368.627451              8.0  \n",
       "Niebla                             145.772595  364.431487              1.0  \n",
       "Lucena del Puerto                   91.996320  306.654400              2.0  \n",
       "Campofrío                          280.504909  280.504909              NaN  \n",
       "Villalba del Alcor                  59.417706  267.379679              0.0  \n",
       "Trigueros                          139.913508  267.107606              5.0  \n",
       "Huelva (capital)                   117.494108  262.102241             68.0  \n",
       "Huelva                             125.884210  254.301693            262.0  \n",
       "Nerva                               77.384407  251.499323              3.0  \n",
       "Isla Cristina                      107.511803  247.744589              5.0  \n",
       "San Bartolomé de la Torre          212.709386  239.298059              2.0  \n",
       "San Juan del Puerto                 74.381043  233.768994              4.0  \n",
       "Rociana del Condado                 62.980224  214.132762              3.0  \n",
       "Huelva-Costa                        97.738544  209.291724            111.0  \n",
       "Villablanca                        103.986135  173.310225              0.0  \n",
       "Palos de la Frontera               102.197241  161.812298              6.0  \n",
       "Cartaya                             99.586715  149.380073              7.0  \n",
       "Sierra de Huelva-Andévalo Central   77.161639  146.903889             18.0  \n",
       "Aljaraque                           83.822297  144.360622              9.0  \n",
       "Alájar                             131.752306  131.752306              0.0  \n",
       "Gibraleón                           47.106854  117.767135              1.0  \n",
       "Alosno                              76.277651  101.703534              1.0  \n",
       "Bonares                             49.504950   99.009901              2.0  \n",
       "Campillo (El)                       98.814229   98.814229              0.0  \n",
       "Cerro de Andévalo (El)              42.973786   85.947572              0.0  \n",
       "Zarza-Perrunal (La)                 79.808460   79.808460              0.0  \n",
       "Lepe                                25.107604   78.909613              1.0  \n",
       "Ayamonte                            47.384382   75.815011              7.0  \n",
       "Beas                                23.036167   69.108500              0.0  \n",
       "Paterna del Campo                   28.926815   57.853630              0.0  \n",
       "Aracena                             24.227741   36.341611              1.0  "
      ],
      "text/html": "<div>\n<style scoped>\n    .dataframe tbody tr th:only-of-type {\n        vertical-align: middle;\n    }\n\n    .dataframe tbody tr th {\n        vertical-align: top;\n    }\n\n    .dataframe thead th {\n        text-align: right;\n    }\n</style>\n<table border=\"1\" class=\"dataframe\">\n  <thead>\n    <tr style=\"text-align: right;\">\n      <th>Medida</th>\n      <th>Confirmados PDIA</th>\n      <th>Confirmados PDIA 7 días</th>\n      <th>Confirmados PDIA 14 días</th>\n      <th>Población</th>\n      <th>tasa7</th>\n      <th>tasa14</th>\n      <th>Diferencia PDIA</th>\n    </tr>\n    <tr>\n      <th>Lugar de residencia</th>\n      <th></th>\n      <th></th>\n      <th></th>\n      <th></th>\n      <th></th>\n      <th></th>\n      <th></th>\n    </tr>\n  </thead>\n  <tbody>\n    <tr>\n      <th>Galaroza</th>\n      <td>41.0</td>\n      <td>2.0</td>\n      <td>11.0</td>\n      <td>1382.0</td>\n      <td>144.717800</td>\n      <td>795.947902</td>\n      <td>0.0</td>\n    </tr>\n    <tr>\n      <th>Villarrasa</th>\n      <td>163.0</td>\n      <td>13.0</td>\n      <td>16.0</td>\n      <td>2211.0</td>\n      <td>587.969245</td>\n      <td>723.654455</td>\n      <td>10.0</td>\n    </tr>\n    <tr>\n      <th>Palma del Condado (La)</th>\n      <td>1113.0</td>\n      <td>47.0</td>\n      <td>70.0</td>\n      <td>10801.0</td>\n      <td>435.144894</td>\n      <td>648.088140</td>\n      <td>15.0</td>\n    </tr>\n    <tr>\n      <th>Bollullos Par del Condado</th>\n      <td>943.0</td>\n      <td>46.0</td>\n      <td>93.0</td>\n      <td>14387.0</td>\n      <td>319.733092</td>\n      <td>646.416904</td>\n      <td>17.0</td>\n    </tr>\n    <tr>\n      <th>Almonte</th>\n      <td>1727.0</td>\n      <td>73.0</td>\n      <td>155.0</td>\n      <td>24507.0</td>\n      <td>297.874077</td>\n      <td>632.472355</td>\n      <td>31.0</td>\n    </tr>\n    <tr>\n      <th>Cabezas Rubias</th>\n      <td>36.0</td>\n      <td>4.0</td>\n      <td>4.0</td>\n      <td>706.0</td>\n      <td>566.572238</td>\n      <td>566.572238</td>\n      <td>2.0</td>\n    </tr>\n    <tr>\n      <th>Moguer</th>\n      <td>1215.0</td>\n      <td>59.0</td>\n      <td>99.0</td>\n      <td>21867.0</td>\n      <td>269.812960</td>\n      <td>452.737001</td>\n      <td>27.0</td>\n    </tr>\n    <tr>\n      <th>Manzanilla</th>\n      <td>94.0</td>\n      <td>5.0</td>\n      <td>9.0</td>\n      <td>2118.0</td>\n      <td>236.071766</td>\n      <td>424.929178</td>\n      <td>4.0</td>\n    </tr>\n    <tr>\n      <th>Punta Umbría</th>\n      <td>781.0</td>\n      <td>26.0</td>\n      <td>64.0</td>\n      <td>15355.0</td>\n      <td>169.325952</td>\n      <td>416.802345</td>\n      <td>11.0</td>\n    </tr>\n    <tr>\n      <th>Calañas</th>\n      <td>185.0</td>\n      <td>8.0</td>\n      <td>11.0</td>\n      <td>2768.0</td>\n      <td>289.017341</td>\n      <td>397.398844</td>\n      <td>4.0</td>\n    </tr>\n    <tr>\n      <th>Condado-Campiña</th>\n      <td>9751.0</td>\n      <td>308.0</td>\n      <td>597.0</td>\n      <td>156231.0</td>\n      <td>197.143973</td>\n      <td>382.126467</td>\n      <td>130.0</td>\n    </tr>\n    <tr>\n      <th>Valverde del Camino</th>\n      <td>528.0</td>\n      <td>29.0</td>\n      <td>47.0</td>\n      <td>12750.0</td>\n      <td>227.450980</td>\n      <td>368.627451</td>\n      <td>8.0</td>\n    </tr>\n    <tr>\n      <th>Niebla</th>\n      <td>211.0</td>\n      <td>6.0</td>\n      <td>15.0</td>\n      <td>4116.0</td>\n      <td>145.772595</td>\n      <td>364.431487</td>\n      <td>1.0</td>\n    </tr>\n    <tr>\n      <th>Lucena del Puerto</th>\n      <td>243.0</td>\n      <td>3.0</td>\n      <td>10.0</td>\n      <td>3261.0</td>\n      <td>91.996320</td>\n      <td>306.654400</td>\n      <td>2.0</td>\n    </tr>\n    <tr>\n      <th>Campofrío</th>\n      <td>9.0</td>\n      <td>2.0</td>\n      <td>2.0</td>\n      <td>713.0</td>\n      <td>280.504909</td>\n      <td>280.504909</td>\n      <td>NaN</td>\n    </tr>\n    <tr>\n      <th>Villalba del Alcor</th>\n      <td>480.0</td>\n      <td>2.0</td>\n      <td>9.0</td>\n      <td>3366.0</td>\n      <td>59.417706</td>\n      <td>267.379679</td>\n      <td>0.0</td>\n    </tr>\n    <tr>\n      <th>Trigueros</th>\n      <td>289.0</td>\n      <td>11.0</td>\n      <td>21.0</td>\n      <td>7862.0</td>\n      <td>139.913508</td>\n      <td>267.107606</td>\n      <td>5.0</td>\n    </tr>\n    <tr>\n      <th>Huelva (capital)</th>\n      <td>7893.0</td>\n      <td>169.0</td>\n      <td>377.0</td>\n      <td>143837.0</td>\n      <td>117.494108</td>\n      <td>262.102241</td>\n      <td>68.0</td>\n    </tr>\n    <tr>\n      <th>Huelva</th>\n      <td>30191.0</td>\n      <td>646.0</td>\n      <td>1305.0</td>\n      <td>513170.0</td>\n      <td>125.884210</td>\n      <td>254.301693</td>\n      <td>262.0</td>\n    </tr>\n    <tr>\n      <th>Nerva</th>\n      <td>173.0</td>\n      <td>4.0</td>\n      <td>13.0</td>\n      <td>5169.0</td>\n      <td>77.384407</td>\n      <td>251.499323</td>\n      <td>3.0</td>\n    </tr>\n    <tr>\n      <th>Isla Cristina</th>\n      <td>2129.0</td>\n      <td>23.0</td>\n      <td>53.0</td>\n      <td>21393.0</td>\n      <td>107.511803</td>\n      <td>247.744589</td>\n      <td>5.0</td>\n    </tr>\n    <tr>\n      <th>San Bartolomé de la Torre</th>\n      <td>291.0</td>\n      <td>8.0</td>\n      <td>9.0</td>\n      <td>3761.0</td>\n      <td>212.709386</td>\n      <td>239.298059</td>\n      <td>2.0</td>\n    </tr>\n    <tr>\n      <th>San Juan del Puerto</th>\n      <td>475.0</td>\n      <td>7.0</td>\n      <td>22.0</td>\n      <td>9411.0</td>\n      <td>74.381043</td>\n      <td>233.768994</td>\n      <td>4.0</td>\n    </tr>\n    <tr>\n      <th>Rociana del Condado</th>\n      <td>538.0</td>\n      <td>5.0</td>\n      <td>17.0</td>\n      <td>7939.0</td>\n      <td>62.980224</td>\n      <td>214.132762</td>\n      <td>3.0</td>\n    </tr>\n    <tr>\n      <th>Huelva-Costa</th>\n      <td>17427.0</td>\n      <td>283.0</td>\n      <td>606.0</td>\n      <td>289548.0</td>\n      <td>97.738544</td>\n      <td>209.291724</td>\n      <td>111.0</td>\n    </tr>\n    <tr>\n      <th>Villablanca</th>\n      <td>187.0</td>\n      <td>3.0</td>\n      <td>5.0</td>\n      <td>2885.0</td>\n      <td>103.986135</td>\n      <td>173.310225</td>\n      <td>0.0</td>\n    </tr>\n    <tr>\n      <th>Palos de la Frontera</th>\n      <td>616.0</td>\n      <td>12.0</td>\n      <td>19.0</td>\n      <td>11742.0</td>\n      <td>102.197241</td>\n      <td>161.812298</td>\n      <td>6.0</td>\n    </tr>\n    <tr>\n      <th>Cartaya</th>\n      <td>1312.0</td>\n      <td>20.0</td>\n      <td>30.0</td>\n      <td>20083.0</td>\n      <td>99.586715</td>\n      <td>149.380073</td>\n      <td>7.0</td>\n    </tr>\n    <tr>\n      <th>Sierra de Huelva-Andévalo Central</th>\n      <td>2669.0</td>\n      <td>52.0</td>\n      <td>99.0</td>\n      <td>67391.0</td>\n      <td>77.161639</td>\n      <td>146.903889</td>\n      <td>18.0</td>\n    </tr>\n    <tr>\n      <th>Aljaraque</th>\n      <td>1039.0</td>\n      <td>18.0</td>\n      <td>31.0</td>\n      <td>21474.0</td>\n      <td>83.822297</td>\n      <td>144.360622</td>\n      <td>9.0</td>\n    </tr>\n    <tr>\n      <th>Alájar</th>\n      <td>17.0</td>\n      <td>1.0</td>\n      <td>1.0</td>\n      <td>759.0</td>\n      <td>131.752306</td>\n      <td>131.752306</td>\n      <td>0.0</td>\n    </tr>\n    <tr>\n      <th>Gibraleón</th>\n      <td>606.0</td>\n      <td>6.0</td>\n      <td>15.0</td>\n      <td>12737.0</td>\n      <td>47.106854</td>\n      <td>117.767135</td>\n      <td>1.0</td>\n    </tr>\n    <tr>\n      <th>Alosno</th>\n      <td>166.0</td>\n      <td>3.0</td>\n      <td>4.0</td>\n      <td>3933.0</td>\n      <td>76.277651</td>\n      <td>101.703534</td>\n      <td>1.0</td>\n    </tr>\n    <tr>\n      <th>Bonares</th>\n      <td>263.0</td>\n      <td>3.0</td>\n      <td>6.0</td>\n      <td>6060.0</td>\n      <td>49.504950</td>\n      <td>99.009901</td>\n      <td>2.0</td>\n    </tr>\n    <tr>\n      <th>Campillo (El)</th>\n      <td>72.0</td>\n      <td>2.0</td>\n      <td>2.0</td>\n      <td>2024.0</td>\n      <td>98.814229</td>\n      <td>98.814229</td>\n      <td>0.0</td>\n    </tr>\n    <tr>\n      <th>Cerro de Andévalo (El)</th>\n      <td>138.0</td>\n      <td>1.0</td>\n      <td>2.0</td>\n      <td>2327.0</td>\n      <td>42.973786</td>\n      <td>85.947572</td>\n      <td>0.0</td>\n    </tr>\n    <tr>\n      <th>Zarza-Perrunal (La)</th>\n      <td>23.0</td>\n      <td>1.0</td>\n      <td>1.0</td>\n      <td>1253.0</td>\n      <td>79.808460</td>\n      <td>79.808460</td>\n      <td>0.0</td>\n    </tr>\n    <tr>\n      <th>Lepe</th>\n      <td>2106.0</td>\n      <td>7.0</td>\n      <td>22.0</td>\n      <td>27880.0</td>\n      <td>25.107604</td>\n      <td>78.909613</td>\n      <td>1.0</td>\n    </tr>\n    <tr>\n      <th>Ayamonte</th>\n      <td>1307.0</td>\n      <td>10.0</td>\n      <td>16.0</td>\n      <td>21104.0</td>\n      <td>47.384382</td>\n      <td>75.815011</td>\n      <td>7.0</td>\n    </tr>\n    <tr>\n      <th>Beas</th>\n      <td>204.0</td>\n      <td>1.0</td>\n      <td>3.0</td>\n      <td>4341.0</td>\n      <td>23.036167</td>\n      <td>69.108500</td>\n      <td>0.0</td>\n    </tr>\n    <tr>\n      <th>Paterna del Campo</th>\n      <td>126.0</td>\n      <td>1.0</td>\n      <td>2.0</td>\n      <td>3457.0</td>\n      <td>28.926815</td>\n      <td>57.853630</td>\n      <td>0.0</td>\n    </tr>\n    <tr>\n      <th>Aracena</th>\n      <td>516.0</td>\n      <td>2.0</td>\n      <td>3.0</td>\n      <td>8255.0</td>\n      <td>24.227741</td>\n      <td>36.341611</td>\n      <td>1.0</td>\n    </tr>\n  </tbody>\n</table>\n</div>"
     },
     "metadata": {},
     "execution_count": 17
    }
   ],
   "source": [
    "tabla.sort_values('tasa14', ascending=False)"
   ]
  },
  {
   "cell_type": "code",
   "execution_count": 18,
   "metadata": {},
   "outputs": [
    {
     "output_type": "execute_result",
     "data": {
      "text/plain": [
       "Medida                             Confirmados PDIA  Confirmados PDIA 7 días  \\\n",
       "Lugar de residencia                                                            \n",
       "Galaroza                                       41.0                      2.0   \n",
       "Villalba del Alcor                            480.0                      2.0   \n",
       "Rociana del Condado                           538.0                      5.0   \n",
       "Lucena del Puerto                             243.0                      3.0   \n",
       "Nerva                                         173.0                      4.0   \n",
       "San Juan del Puerto                           475.0                      7.0   \n",
       "Lepe                                         2106.0                      7.0   \n",
       "Beas                                          204.0                      1.0   \n",
       "Gibraleón                                     606.0                      6.0   \n",
       "Niebla                                        211.0                      6.0   \n",
       "Punta Umbría                                  781.0                     26.0   \n",
       "Isla Cristina                                2129.0                     23.0   \n",
       "Huelva (capital)                             7893.0                    169.0   \n",
       "Huelva-Costa                                17427.0                    283.0   \n",
       "Almonte                                      1727.0                     73.0   \n",
       "Bollullos Par del Condado                     943.0                     46.0   \n",
       "Huelva                                      30191.0                    646.0   \n",
       "Cerro de Andévalo (El)                        138.0                      1.0   \n",
       "Bonares                                       263.0                      3.0   \n",
       "Paterna del Campo                             126.0                      1.0   \n",
       "Condado-Campiña                              9751.0                    308.0   \n",
       "Trigueros                                     289.0                     11.0   \n",
       "Sierra de Huelva-Andévalo Central            2669.0                     52.0   \n",
       "Manzanilla                                     94.0                      5.0   \n",
       "Aljaraque                                    1039.0                     18.0   \n",
       "Moguer                                       1215.0                     59.0   \n",
       "Villablanca                                   187.0                      3.0   \n",
       "Valverde del Camino                           528.0                     29.0   \n",
       "Ayamonte                                     1307.0                     10.0   \n",
       "Palos de la Frontera                          616.0                     12.0   \n",
       "Aracena                                       516.0                      2.0   \n",
       "Cartaya                                      1312.0                     20.0   \n",
       "Palma del Condado (La)                       1113.0                     47.0   \n",
       "Calañas                                       185.0                      8.0   \n",
       "Alosno                                        166.0                      3.0   \n",
       "Villarrasa                                    163.0                     13.0   \n",
       "San Bartolomé de la Torre                     291.0                      8.0   \n",
       "Cabezas Rubias                                 36.0                      4.0   \n",
       "Campillo (El)                                  72.0                      2.0   \n",
       "Campofrío                                       9.0                      2.0   \n",
       "Alájar                                         17.0                      1.0   \n",
       "Zarza-Perrunal (La)                            23.0                      1.0   \n",
       "\n",
       "Medida                             Confirmados PDIA 14 días  Población  \\\n",
       "Lugar de residencia                                                      \n",
       "Galaroza                                               11.0     1382.0   \n",
       "Villalba del Alcor                                      9.0     3366.0   \n",
       "Rociana del Condado                                    17.0     7939.0   \n",
       "Lucena del Puerto                                      10.0     3261.0   \n",
       "Nerva                                                  13.0     5169.0   \n",
       "San Juan del Puerto                                    22.0     9411.0   \n",
       "Lepe                                                   22.0    27880.0   \n",
       "Beas                                                    3.0     4341.0   \n",
       "Gibraleón                                              15.0    12737.0   \n",
       "Niebla                                                 15.0     4116.0   \n",
       "Punta Umbría                                           64.0    15355.0   \n",
       "Isla Cristina                                          53.0    21393.0   \n",
       "Huelva (capital)                                      377.0   143837.0   \n",
       "Huelva-Costa                                          606.0   289548.0   \n",
       "Almonte                                               155.0    24507.0   \n",
       "Bollullos Par del Condado                              93.0    14387.0   \n",
       "Huelva                                               1305.0   513170.0   \n",
       "Cerro de Andévalo (El)                                  2.0     2327.0   \n",
       "Bonares                                                 6.0     6060.0   \n",
       "Paterna del Campo                                       2.0     3457.0   \n",
       "Condado-Campiña                                       597.0   156231.0   \n",
       "Trigueros                                              21.0     7862.0   \n",
       "Sierra de Huelva-Andévalo Central                      99.0    67391.0   \n",
       "Manzanilla                                              9.0     2118.0   \n",
       "Aljaraque                                              31.0    21474.0   \n",
       "Moguer                                                 99.0    21867.0   \n",
       "Villablanca                                             5.0     2885.0   \n",
       "Valverde del Camino                                    47.0    12750.0   \n",
       "Ayamonte                                               16.0    21104.0   \n",
       "Palos de la Frontera                                   19.0    11742.0   \n",
       "Aracena                                                 3.0     8255.0   \n",
       "Cartaya                                                30.0    20083.0   \n",
       "Palma del Condado (La)                                 70.0    10801.0   \n",
       "Calañas                                                11.0     2768.0   \n",
       "Alosno                                                  4.0     3933.0   \n",
       "Villarrasa                                             16.0     2211.0   \n",
       "San Bartolomé de la Torre                               9.0     3761.0   \n",
       "Cabezas Rubias                                          4.0      706.0   \n",
       "Campillo (El)                                           2.0     2024.0   \n",
       "Campofrío                                               2.0      713.0   \n",
       "Alájar                                                  1.0      759.0   \n",
       "Zarza-Perrunal (La)                                     1.0     1253.0   \n",
       "\n",
       "Medida                                  tasa7      tasa14  Diferencia PDIA  \\\n",
       "Lugar de residencia                                                          \n",
       "Galaroza                           144.717800  795.947902              0.0   \n",
       "Villalba del Alcor                  59.417706  267.379679              0.0   \n",
       "Rociana del Condado                 62.980224  214.132762              3.0   \n",
       "Lucena del Puerto                   91.996320  306.654400              2.0   \n",
       "Nerva                               77.384407  251.499323              3.0   \n",
       "San Juan del Puerto                 74.381043  233.768994              4.0   \n",
       "Lepe                                25.107604   78.909613              1.0   \n",
       "Beas                                23.036167   69.108500              0.0   \n",
       "Gibraleón                           47.106854  117.767135              1.0   \n",
       "Niebla                             145.772595  364.431487              1.0   \n",
       "Punta Umbría                       169.325952  416.802345             11.0   \n",
       "Isla Cristina                      107.511803  247.744589              5.0   \n",
       "Huelva (capital)                   117.494108  262.102241             68.0   \n",
       "Huelva-Costa                        97.738544  209.291724            111.0   \n",
       "Almonte                            297.874077  632.472355             31.0   \n",
       "Bollullos Par del Condado          319.733092  646.416904             17.0   \n",
       "Huelva                             125.884210  254.301693            262.0   \n",
       "Cerro de Andévalo (El)              42.973786   85.947572              0.0   \n",
       "Bonares                             49.504950   99.009901              2.0   \n",
       "Paterna del Campo                   28.926815   57.853630              0.0   \n",
       "Condado-Campiña                    197.143973  382.126467            130.0   \n",
       "Trigueros                          139.913508  267.107606              5.0   \n",
       "Sierra de Huelva-Andévalo Central   77.161639  146.903889             18.0   \n",
       "Manzanilla                         236.071766  424.929178              4.0   \n",
       "Aljaraque                           83.822297  144.360622              9.0   \n",
       "Moguer                             269.812960  452.737001             27.0   \n",
       "Villablanca                        103.986135  173.310225              0.0   \n",
       "Valverde del Camino                227.450980  368.627451              8.0   \n",
       "Ayamonte                            47.384382   75.815011              7.0   \n",
       "Palos de la Frontera               102.197241  161.812298              6.0   \n",
       "Aracena                             24.227741   36.341611              1.0   \n",
       "Cartaya                             99.586715  149.380073              7.0   \n",
       "Palma del Condado (La)             435.144894  648.088140             15.0   \n",
       "Calañas                            289.017341  397.398844              4.0   \n",
       "Alosno                              76.277651  101.703534              1.0   \n",
       "Villarrasa                         587.969245  723.654455             10.0   \n",
       "San Bartolomé de la Torre          212.709386  239.298059              2.0   \n",
       "Cabezas Rubias                     566.572238  566.572238              2.0   \n",
       "Campillo (El)                       98.814229   98.814229              0.0   \n",
       "Campofrío                          280.504909  280.504909              0.0   \n",
       "Alájar                             131.752306  131.752306              0.0   \n",
       "Zarza-Perrunal (La)                 79.808460   79.808460              0.0   \n",
       "\n",
       "Medida                                 7/14  \n",
       "Lugar de residencia                          \n",
       "Galaroza                           0.181818  \n",
       "Villalba del Alcor                 0.222222  \n",
       "Rociana del Condado                0.294118  \n",
       "Lucena del Puerto                  0.300000  \n",
       "Nerva                              0.307692  \n",
       "San Juan del Puerto                0.318182  \n",
       "Lepe                               0.318182  \n",
       "Beas                               0.333333  \n",
       "Gibraleón                          0.400000  \n",
       "Niebla                             0.400000  \n",
       "Punta Umbría                       0.406250  \n",
       "Isla Cristina                      0.433962  \n",
       "Huelva (capital)                   0.448276  \n",
       "Huelva-Costa                       0.466997  \n",
       "Almonte                            0.470968  \n",
       "Bollullos Par del Condado          0.494624  \n",
       "Huelva                             0.495019  \n",
       "Cerro de Andévalo (El)             0.500000  \n",
       "Bonares                            0.500000  \n",
       "Paterna del Campo                  0.500000  \n",
       "Condado-Campiña                    0.515913  \n",
       "Trigueros                          0.523810  \n",
       "Sierra de Huelva-Andévalo Central  0.525253  \n",
       "Manzanilla                         0.555556  \n",
       "Aljaraque                          0.580645  \n",
       "Moguer                             0.595960  \n",
       "Villablanca                        0.600000  \n",
       "Valverde del Camino                0.617021  \n",
       "Ayamonte                           0.625000  \n",
       "Palos de la Frontera               0.631579  \n",
       "Aracena                            0.666667  \n",
       "Cartaya                            0.666667  \n",
       "Palma del Condado (La)             0.671429  \n",
       "Calañas                            0.727273  \n",
       "Alosno                             0.750000  \n",
       "Villarrasa                         0.812500  \n",
       "San Bartolomé de la Torre          0.888889  \n",
       "Cabezas Rubias                     1.000000  \n",
       "Campillo (El)                      1.000000  \n",
       "Campofrío                          1.000000  \n",
       "Alájar                             1.000000  \n",
       "Zarza-Perrunal (La)                1.000000  "
      ],
      "text/html": "<div>\n<style scoped>\n    .dataframe tbody tr th:only-of-type {\n        vertical-align: middle;\n    }\n\n    .dataframe tbody tr th {\n        vertical-align: top;\n    }\n\n    .dataframe thead th {\n        text-align: right;\n    }\n</style>\n<table border=\"1\" class=\"dataframe\">\n  <thead>\n    <tr style=\"text-align: right;\">\n      <th>Medida</th>\n      <th>Confirmados PDIA</th>\n      <th>Confirmados PDIA 7 días</th>\n      <th>Confirmados PDIA 14 días</th>\n      <th>Población</th>\n      <th>tasa7</th>\n      <th>tasa14</th>\n      <th>Diferencia PDIA</th>\n      <th>7/14</th>\n    </tr>\n    <tr>\n      <th>Lugar de residencia</th>\n      <th></th>\n      <th></th>\n      <th></th>\n      <th></th>\n      <th></th>\n      <th></th>\n      <th></th>\n      <th></th>\n    </tr>\n  </thead>\n  <tbody>\n    <tr>\n      <th>Galaroza</th>\n      <td>41.0</td>\n      <td>2.0</td>\n      <td>11.0</td>\n      <td>1382.0</td>\n      <td>144.717800</td>\n      <td>795.947902</td>\n      <td>0.0</td>\n      <td>0.181818</td>\n    </tr>\n    <tr>\n      <th>Villalba del Alcor</th>\n      <td>480.0</td>\n      <td>2.0</td>\n      <td>9.0</td>\n      <td>3366.0</td>\n      <td>59.417706</td>\n      <td>267.379679</td>\n      <td>0.0</td>\n      <td>0.222222</td>\n    </tr>\n    <tr>\n      <th>Rociana del Condado</th>\n      <td>538.0</td>\n      <td>5.0</td>\n      <td>17.0</td>\n      <td>7939.0</td>\n      <td>62.980224</td>\n      <td>214.132762</td>\n      <td>3.0</td>\n      <td>0.294118</td>\n    </tr>\n    <tr>\n      <th>Lucena del Puerto</th>\n      <td>243.0</td>\n      <td>3.0</td>\n      <td>10.0</td>\n      <td>3261.0</td>\n      <td>91.996320</td>\n      <td>306.654400</td>\n      <td>2.0</td>\n      <td>0.300000</td>\n    </tr>\n    <tr>\n      <th>Nerva</th>\n      <td>173.0</td>\n      <td>4.0</td>\n      <td>13.0</td>\n      <td>5169.0</td>\n      <td>77.384407</td>\n      <td>251.499323</td>\n      <td>3.0</td>\n      <td>0.307692</td>\n    </tr>\n    <tr>\n      <th>San Juan del Puerto</th>\n      <td>475.0</td>\n      <td>7.0</td>\n      <td>22.0</td>\n      <td>9411.0</td>\n      <td>74.381043</td>\n      <td>233.768994</td>\n      <td>4.0</td>\n      <td>0.318182</td>\n    </tr>\n    <tr>\n      <th>Lepe</th>\n      <td>2106.0</td>\n      <td>7.0</td>\n      <td>22.0</td>\n      <td>27880.0</td>\n      <td>25.107604</td>\n      <td>78.909613</td>\n      <td>1.0</td>\n      <td>0.318182</td>\n    </tr>\n    <tr>\n      <th>Beas</th>\n      <td>204.0</td>\n      <td>1.0</td>\n      <td>3.0</td>\n      <td>4341.0</td>\n      <td>23.036167</td>\n      <td>69.108500</td>\n      <td>0.0</td>\n      <td>0.333333</td>\n    </tr>\n    <tr>\n      <th>Gibraleón</th>\n      <td>606.0</td>\n      <td>6.0</td>\n      <td>15.0</td>\n      <td>12737.0</td>\n      <td>47.106854</td>\n      <td>117.767135</td>\n      <td>1.0</td>\n      <td>0.400000</td>\n    </tr>\n    <tr>\n      <th>Niebla</th>\n      <td>211.0</td>\n      <td>6.0</td>\n      <td>15.0</td>\n      <td>4116.0</td>\n      <td>145.772595</td>\n      <td>364.431487</td>\n      <td>1.0</td>\n      <td>0.400000</td>\n    </tr>\n    <tr>\n      <th>Punta Umbría</th>\n      <td>781.0</td>\n      <td>26.0</td>\n      <td>64.0</td>\n      <td>15355.0</td>\n      <td>169.325952</td>\n      <td>416.802345</td>\n      <td>11.0</td>\n      <td>0.406250</td>\n    </tr>\n    <tr>\n      <th>Isla Cristina</th>\n      <td>2129.0</td>\n      <td>23.0</td>\n      <td>53.0</td>\n      <td>21393.0</td>\n      <td>107.511803</td>\n      <td>247.744589</td>\n      <td>5.0</td>\n      <td>0.433962</td>\n    </tr>\n    <tr>\n      <th>Huelva (capital)</th>\n      <td>7893.0</td>\n      <td>169.0</td>\n      <td>377.0</td>\n      <td>143837.0</td>\n      <td>117.494108</td>\n      <td>262.102241</td>\n      <td>68.0</td>\n      <td>0.448276</td>\n    </tr>\n    <tr>\n      <th>Huelva-Costa</th>\n      <td>17427.0</td>\n      <td>283.0</td>\n      <td>606.0</td>\n      <td>289548.0</td>\n      <td>97.738544</td>\n      <td>209.291724</td>\n      <td>111.0</td>\n      <td>0.466997</td>\n    </tr>\n    <tr>\n      <th>Almonte</th>\n      <td>1727.0</td>\n      <td>73.0</td>\n      <td>155.0</td>\n      <td>24507.0</td>\n      <td>297.874077</td>\n      <td>632.472355</td>\n      <td>31.0</td>\n      <td>0.470968</td>\n    </tr>\n    <tr>\n      <th>Bollullos Par del Condado</th>\n      <td>943.0</td>\n      <td>46.0</td>\n      <td>93.0</td>\n      <td>14387.0</td>\n      <td>319.733092</td>\n      <td>646.416904</td>\n      <td>17.0</td>\n      <td>0.494624</td>\n    </tr>\n    <tr>\n      <th>Huelva</th>\n      <td>30191.0</td>\n      <td>646.0</td>\n      <td>1305.0</td>\n      <td>513170.0</td>\n      <td>125.884210</td>\n      <td>254.301693</td>\n      <td>262.0</td>\n      <td>0.495019</td>\n    </tr>\n    <tr>\n      <th>Cerro de Andévalo (El)</th>\n      <td>138.0</td>\n      <td>1.0</td>\n      <td>2.0</td>\n      <td>2327.0</td>\n      <td>42.973786</td>\n      <td>85.947572</td>\n      <td>0.0</td>\n      <td>0.500000</td>\n    </tr>\n    <tr>\n      <th>Bonares</th>\n      <td>263.0</td>\n      <td>3.0</td>\n      <td>6.0</td>\n      <td>6060.0</td>\n      <td>49.504950</td>\n      <td>99.009901</td>\n      <td>2.0</td>\n      <td>0.500000</td>\n    </tr>\n    <tr>\n      <th>Paterna del Campo</th>\n      <td>126.0</td>\n      <td>1.0</td>\n      <td>2.0</td>\n      <td>3457.0</td>\n      <td>28.926815</td>\n      <td>57.853630</td>\n      <td>0.0</td>\n      <td>0.500000</td>\n    </tr>\n    <tr>\n      <th>Condado-Campiña</th>\n      <td>9751.0</td>\n      <td>308.0</td>\n      <td>597.0</td>\n      <td>156231.0</td>\n      <td>197.143973</td>\n      <td>382.126467</td>\n      <td>130.0</td>\n      <td>0.515913</td>\n    </tr>\n    <tr>\n      <th>Trigueros</th>\n      <td>289.0</td>\n      <td>11.0</td>\n      <td>21.0</td>\n      <td>7862.0</td>\n      <td>139.913508</td>\n      <td>267.107606</td>\n      <td>5.0</td>\n      <td>0.523810</td>\n    </tr>\n    <tr>\n      <th>Sierra de Huelva-Andévalo Central</th>\n      <td>2669.0</td>\n      <td>52.0</td>\n      <td>99.0</td>\n      <td>67391.0</td>\n      <td>77.161639</td>\n      <td>146.903889</td>\n      <td>18.0</td>\n      <td>0.525253</td>\n    </tr>\n    <tr>\n      <th>Manzanilla</th>\n      <td>94.0</td>\n      <td>5.0</td>\n      <td>9.0</td>\n      <td>2118.0</td>\n      <td>236.071766</td>\n      <td>424.929178</td>\n      <td>4.0</td>\n      <td>0.555556</td>\n    </tr>\n    <tr>\n      <th>Aljaraque</th>\n      <td>1039.0</td>\n      <td>18.0</td>\n      <td>31.0</td>\n      <td>21474.0</td>\n      <td>83.822297</td>\n      <td>144.360622</td>\n      <td>9.0</td>\n      <td>0.580645</td>\n    </tr>\n    <tr>\n      <th>Moguer</th>\n      <td>1215.0</td>\n      <td>59.0</td>\n      <td>99.0</td>\n      <td>21867.0</td>\n      <td>269.812960</td>\n      <td>452.737001</td>\n      <td>27.0</td>\n      <td>0.595960</td>\n    </tr>\n    <tr>\n      <th>Villablanca</th>\n      <td>187.0</td>\n      <td>3.0</td>\n      <td>5.0</td>\n      <td>2885.0</td>\n      <td>103.986135</td>\n      <td>173.310225</td>\n      <td>0.0</td>\n      <td>0.600000</td>\n    </tr>\n    <tr>\n      <th>Valverde del Camino</th>\n      <td>528.0</td>\n      <td>29.0</td>\n      <td>47.0</td>\n      <td>12750.0</td>\n      <td>227.450980</td>\n      <td>368.627451</td>\n      <td>8.0</td>\n      <td>0.617021</td>\n    </tr>\n    <tr>\n      <th>Ayamonte</th>\n      <td>1307.0</td>\n      <td>10.0</td>\n      <td>16.0</td>\n      <td>21104.0</td>\n      <td>47.384382</td>\n      <td>75.815011</td>\n      <td>7.0</td>\n      <td>0.625000</td>\n    </tr>\n    <tr>\n      <th>Palos de la Frontera</th>\n      <td>616.0</td>\n      <td>12.0</td>\n      <td>19.0</td>\n      <td>11742.0</td>\n      <td>102.197241</td>\n      <td>161.812298</td>\n      <td>6.0</td>\n      <td>0.631579</td>\n    </tr>\n    <tr>\n      <th>Aracena</th>\n      <td>516.0</td>\n      <td>2.0</td>\n      <td>3.0</td>\n      <td>8255.0</td>\n      <td>24.227741</td>\n      <td>36.341611</td>\n      <td>1.0</td>\n      <td>0.666667</td>\n    </tr>\n    <tr>\n      <th>Cartaya</th>\n      <td>1312.0</td>\n      <td>20.0</td>\n      <td>30.0</td>\n      <td>20083.0</td>\n      <td>99.586715</td>\n      <td>149.380073</td>\n      <td>7.0</td>\n      <td>0.666667</td>\n    </tr>\n    <tr>\n      <th>Palma del Condado (La)</th>\n      <td>1113.0</td>\n      <td>47.0</td>\n      <td>70.0</td>\n      <td>10801.0</td>\n      <td>435.144894</td>\n      <td>648.088140</td>\n      <td>15.0</td>\n      <td>0.671429</td>\n    </tr>\n    <tr>\n      <th>Calañas</th>\n      <td>185.0</td>\n      <td>8.0</td>\n      <td>11.0</td>\n      <td>2768.0</td>\n      <td>289.017341</td>\n      <td>397.398844</td>\n      <td>4.0</td>\n      <td>0.727273</td>\n    </tr>\n    <tr>\n      <th>Alosno</th>\n      <td>166.0</td>\n      <td>3.0</td>\n      <td>4.0</td>\n      <td>3933.0</td>\n      <td>76.277651</td>\n      <td>101.703534</td>\n      <td>1.0</td>\n      <td>0.750000</td>\n    </tr>\n    <tr>\n      <th>Villarrasa</th>\n      <td>163.0</td>\n      <td>13.0</td>\n      <td>16.0</td>\n      <td>2211.0</td>\n      <td>587.969245</td>\n      <td>723.654455</td>\n      <td>10.0</td>\n      <td>0.812500</td>\n    </tr>\n    <tr>\n      <th>San Bartolomé de la Torre</th>\n      <td>291.0</td>\n      <td>8.0</td>\n      <td>9.0</td>\n      <td>3761.0</td>\n      <td>212.709386</td>\n      <td>239.298059</td>\n      <td>2.0</td>\n      <td>0.888889</td>\n    </tr>\n    <tr>\n      <th>Cabezas Rubias</th>\n      <td>36.0</td>\n      <td>4.0</td>\n      <td>4.0</td>\n      <td>706.0</td>\n      <td>566.572238</td>\n      <td>566.572238</td>\n      <td>2.0</td>\n      <td>1.000000</td>\n    </tr>\n    <tr>\n      <th>Campillo (El)</th>\n      <td>72.0</td>\n      <td>2.0</td>\n      <td>2.0</td>\n      <td>2024.0</td>\n      <td>98.814229</td>\n      <td>98.814229</td>\n      <td>0.0</td>\n      <td>1.000000</td>\n    </tr>\n    <tr>\n      <th>Campofrío</th>\n      <td>9.0</td>\n      <td>2.0</td>\n      <td>2.0</td>\n      <td>713.0</td>\n      <td>280.504909</td>\n      <td>280.504909</td>\n      <td>0.0</td>\n      <td>1.000000</td>\n    </tr>\n    <tr>\n      <th>Alájar</th>\n      <td>17.0</td>\n      <td>1.0</td>\n      <td>1.0</td>\n      <td>759.0</td>\n      <td>131.752306</td>\n      <td>131.752306</td>\n      <td>0.0</td>\n      <td>1.000000</td>\n    </tr>\n    <tr>\n      <th>Zarza-Perrunal (La)</th>\n      <td>23.0</td>\n      <td>1.0</td>\n      <td>1.0</td>\n      <td>1253.0</td>\n      <td>79.808460</td>\n      <td>79.808460</td>\n      <td>0.0</td>\n      <td>1.000000</td>\n    </tr>\n  </tbody>\n</table>\n</div>"
     },
     "metadata": {},
     "execution_count": 18
    }
   ],
   "source": [
    "# Peso de la tasa de la última semana en relación con la tasa a 14 días \n",
    "# Mejor cuanto menor. Valor 1 significa que no había casos antes de 7 días.\n",
    "tabla['7/14'] = tabla['tasa7'] / tabla['tasa14']\n",
    "tabla.fillna(0).sort_values('7/14', ascending=True)"
   ]
  },
  {
   "cell_type": "code",
   "execution_count": null,
   "metadata": {},
   "outputs": [],
   "source": []
  }
 ]
}