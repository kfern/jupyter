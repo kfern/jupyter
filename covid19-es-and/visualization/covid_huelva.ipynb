{
 "metadata": {
  "language_info": {
   "codemirror_mode": {
    "name": "ipython",
    "version": 3
   },
   "file_extension": ".py",
   "mimetype": "text/x-python",
   "name": "python",
   "nbconvert_exporter": "python",
   "pygments_lexer": "ipython3",
   "version": "3.8.6-final"
  },
  "orig_nbformat": 2,
  "kernelspec": {
   "name": "python38564bit75945252d6ba481bad4868286020c89e",
   "display_name": "Python 3.8.5 64-bit",
   "language": "python"
  }
 },
 "nbformat": 4,
 "nbformat_minor": 2,
 "cells": [
  {
   "cell_type": "code",
   "execution_count": 1,
   "metadata": {},
   "outputs": [],
   "source": [
    "import pandas as pd\n",
    "pd.set_option('display.max_rows', None) # Print all rows"
   ]
  },
  {
   "cell_type": "code",
   "execution_count": 2,
   "metadata": {},
   "outputs": [],
   "source": [
    "# FIX SSL: CERTIFICATE_VERIFY_FAILED with Python3\n",
    "# https://stackoverflow.com/a/49174340\n",
    "import ssl\n",
    "\n",
    "ssl._create_default_https_context = ssl._create_unverified_context"
   ]
  },
  {
   "cell_type": "code",
   "execution_count": 3,
   "metadata": {},
   "outputs": [],
   "source": [
    "url = 'https://www.juntadeandalucia.es/institutodeestadisticaycartografia/badea/stpivot/stpivot/Print?cube=013d884c-cfc5-4c21-9e78-e26225682afd&type=3&foto=si&ejecutaDesde=&codConsulta=38668&consTipoVisua=JP'\n",
    "fields = ['Lugar de residencia', 'Medida', 'Valor']\n",
    "df = pd.read_csv(url, delimiter=';', usecols=fields, decimal=',')"
   ]
  },
  {
   "cell_type": "code",
   "execution_count": 4,
   "metadata": {},
   "outputs": [
    {
     "output_type": "execute_result",
     "data": {
      "text/plain": [
       "  Lugar de residencia                    Medida              Valor\n",
       "0              Huelva                 Población             513170\n",
       "1              Huelva          Confirmados PDIA              24414\n",
       "2              Huelva  Confirmados PDIA 14 días                728\n",
       "3              Huelva         Tasa PDIA 14 días  141,8633201473196\n",
       "4              Huelva   Confirmados PDIA 7 días                242\n",
       "5              Huelva        Total Confirmados               24642\n",
       "6              Huelva                   Curados              14718\n",
       "7              Huelva                Fallecidos                280"
      ],
      "text/html": "<div>\n<style scoped>\n    .dataframe tbody tr th:only-of-type {\n        vertical-align: middle;\n    }\n\n    .dataframe tbody tr th {\n        vertical-align: top;\n    }\n\n    .dataframe thead th {\n        text-align: right;\n    }\n</style>\n<table border=\"1\" class=\"dataframe\">\n  <thead>\n    <tr style=\"text-align: right;\">\n      <th></th>\n      <th>Lugar de residencia</th>\n      <th>Medida</th>\n      <th>Valor</th>\n    </tr>\n  </thead>\n  <tbody>\n    <tr>\n      <th>0</th>\n      <td>Huelva</td>\n      <td>Población</td>\n      <td>513170</td>\n    </tr>\n    <tr>\n      <th>1</th>\n      <td>Huelva</td>\n      <td>Confirmados PDIA</td>\n      <td>24414</td>\n    </tr>\n    <tr>\n      <th>2</th>\n      <td>Huelva</td>\n      <td>Confirmados PDIA 14 días</td>\n      <td>728</td>\n    </tr>\n    <tr>\n      <th>3</th>\n      <td>Huelva</td>\n      <td>Tasa PDIA 14 días</td>\n      <td>141,8633201473196</td>\n    </tr>\n    <tr>\n      <th>4</th>\n      <td>Huelva</td>\n      <td>Confirmados PDIA 7 días</td>\n      <td>242</td>\n    </tr>\n    <tr>\n      <th>5</th>\n      <td>Huelva</td>\n      <td>Total Confirmados</td>\n      <td>24642</td>\n    </tr>\n    <tr>\n      <th>6</th>\n      <td>Huelva</td>\n      <td>Curados</td>\n      <td>14718</td>\n    </tr>\n    <tr>\n      <th>7</th>\n      <td>Huelva</td>\n      <td>Fallecidos</td>\n      <td>280</td>\n    </tr>\n  </tbody>\n</table>\n</div>"
     },
     "metadata": {},
     "execution_count": 4
    }
   ],
   "source": [
    "df[df['Lugar de residencia'] == 'Huelva']"
   ]
  },
  {
   "cell_type": "code",
   "execution_count": 5,
   "metadata": {},
   "outputs": [],
   "source": [
    "df['Valor'] = pd.to_numeric(df['Valor'],errors='coerce')"
   ]
  },
  {
   "cell_type": "code",
   "execution_count": 6,
   "metadata": {},
   "outputs": [],
   "source": [
    "dfAnterior = pd.read_csv('covid_huelva.csv', index_col='Lugar de residencia')"
   ]
  },
  {
   "cell_type": "code",
   "execution_count": 7,
   "metadata": {
    "tags": []
   },
   "outputs": [
    {
     "output_type": "stream",
     "name": "stdout",
     "text": [
      "Confirmados PCR en la provincia de Huelva:  24414.0\n"
     ]
    }
   ],
   "source": [
    "# Confirmados PCR provincia Huelva\n",
    "p = df[df['Lugar de residencia'] == 'Huelva'][df['Medida'] == 'Confirmados PDIA']['Valor'].values[0]\n",
    "print('Confirmados PCR en la provincia de Huelva: ', p)"
   ]
  },
  {
   "cell_type": "code",
   "execution_count": 8,
   "metadata": {
    "tags": []
   },
   "outputs": [
    {
     "output_type": "stream",
     "name": "stdout",
     "text": [
      "Confirmados PCR en Huelva capital:  6518.0\n"
     ]
    }
   ],
   "source": [
    "# Confirmados PCR Huelva capitalpd\n",
    "c = df[df['Lugar de residencia'] == 'Huelva (capital)'][df['Medida'] == 'Confirmados PDIA']['Valor'].values[0]\n",
    "print('Confirmados PCR en Huelva capital: ', c)"
   ]
  },
  {
   "cell_type": "code",
   "execution_count": 9,
   "metadata": {
    "tags": []
   },
   "outputs": [],
   "source": [
    "c7 = df[df['Lugar de residencia'] == 'Huelva (capital)'][df['Medida'] == 'Confirmados PDIA 7 días']['Valor'].values[0]\n",
    "c14 = df[df['Lugar de residencia'] == 'Huelva (capital)'][df['Medida'] == 'Confirmados PDIA 14 días']['Valor'].values[0]\n",
    "p = df[df['Lugar de residencia'] == 'Huelva (capital)'][df['Medida'] == 'Población']['Valor'].values[0]"
   ]
  },
  {
   "cell_type": "code",
   "execution_count": 10,
   "metadata": {
    "tags": []
   },
   "outputs": [
    {
     "output_type": "stream",
     "name": "stdout",
     "text": [
      "Huelva (capital)\n\nUn positivo PCR cada 2820 personas en los últimos 7 días \n\nUn positivo PCR cada 682 personas en los últimos 14 días\n"
     ]
    }
   ],
   "source": [
    "print('Huelva (capital)\\n')\n",
    "#print('Confirmados PCR 7 días x 1,000 habitantes: ', f\"{c7/(p/1000):.5f}\")\n",
    "print('Un positivo PCR cada', f\"{p/c7:.0f}\", 'personas en los últimos 7 días', '\\n')\n",
    "#print('Confirmados PCR 14 días x 1,000 habitantes: ', f\"{c14/(p/1000):.5f}\")\n",
    "print('Un positivo PCR cada', f\"{p/c14:.0f}\", 'personas en los últimos 14 días')"
   ]
  },
  {
   "cell_type": "code",
   "execution_count": 11,
   "metadata": {},
   "outputs": [],
   "source": [
    "filtro = ((df['Medida'] == 'Confirmados PDIA')| (df['Medida'] == 'Confirmados PDIA 7 días') | (df['Medida'] == 'Población' ) | (df['Medida'] == 'Confirmados PDIA 14 días')) & (df['Valor'] > 0)\n",
    "tabla = pd.pivot_table(df.loc[filtro], values='Valor', index='Lugar de residencia', columns='Medida').dropna()"
   ]
  },
  {
   "cell_type": "code",
   "execution_count": 12,
   "metadata": {},
   "outputs": [],
   "source": [
    "# Reorder columns\n",
    "tabla = tabla[['Confirmados PDIA', 'Confirmados PDIA 7 días', 'Confirmados PDIA 14 días', 'Población']]"
   ]
  },
  {
   "cell_type": "code",
   "execution_count": 13,
   "metadata": {},
   "outputs": [],
   "source": [
    "tabla['tasa7'] = tabla['Confirmados PDIA 7 días']/tabla['Población']*100000\n",
    "tabla['tasa14'] = tabla['Confirmados PDIA 14 días']/tabla['Población']*100000"
   ]
  },
  {
   "cell_type": "code",
   "execution_count": 14,
   "metadata": {},
   "outputs": [],
   "source": [
    "tabla['Diferencia PDIA'] = tabla['Confirmados PDIA'] - dfAnterior['Confirmados PDIA']"
   ]
  },
  {
   "cell_type": "code",
   "execution_count": 15,
   "metadata": {},
   "outputs": [
    {
     "output_type": "execute_result",
     "data": {
      "text/plain": [
       "Medida                             Confirmados PDIA  Confirmados PDIA 7 días  \\\n",
       "Lugar de residencia                                                            \n",
       "Huelva                                      24414.0                    242.0   \n",
       "Huelva-Costa                                14888.0                    133.0   \n",
       "Condado-Campiña                              6796.0                     97.0   \n",
       "Huelva (capital)                             6518.0                     51.0   \n",
       "Lepe                                         1982.0                     24.0   \n",
       "Bollullos Par del Condado                     602.0                     18.0   \n",
       "Almonte                                       838.0                     17.0   \n",
       "Villalba del Alcor                            442.0                      4.0   \n",
       "Moguer                                        816.0                     20.0   \n",
       "Palma del Condado (La)                        964.0                      5.0   \n",
       "Aljaraque                                     918.0                      4.0   \n",
       "Cartaya                                       923.0                     18.0   \n",
       "Palos de la Frontera                          444.0                     10.0   \n",
       "Sierra de Huelva-Andévalo Central            2302.0                      6.0   \n",
       "Valverde del Camino                           415.0                      1.0   \n",
       "Villablanca                                   172.0                      7.0   \n",
       "Punta Umbría                                  652.0                      7.0   \n",
       "\n",
       "Medida                             Confirmados PDIA 14 días  Población  \\\n",
       "Lugar de residencia                                                      \n",
       "Huelva                                                728.0   513170.0   \n",
       "Huelva-Costa                                          445.0   289548.0   \n",
       "Condado-Campiña                                       242.0   156231.0   \n",
       "Huelva (capital)                                      211.0   143837.0   \n",
       "Lepe                                                   63.0    27880.0   \n",
       "Bollullos Par del Condado                              42.0    14387.0   \n",
       "Almonte                                                62.0    24507.0   \n",
       "Villalba del Alcor                                      6.0     3366.0   \n",
       "Moguer                                                 37.0    21867.0   \n",
       "Palma del Condado (La)                                 11.0    10801.0   \n",
       "Aljaraque                                              15.0    21474.0   \n",
       "Cartaya                                                62.0    20083.0   \n",
       "Palos de la Frontera                                   13.0    11742.0   \n",
       "Sierra de Huelva-Andévalo Central                      23.0    67391.0   \n",
       "Valverde del Camino                                     5.0    12750.0   \n",
       "Villablanca                                             9.0     2885.0   \n",
       "Punta Umbría                                           21.0    15355.0   \n",
       "\n",
       "Medida                                  tasa7      tasa14  Diferencia PDIA  \n",
       "Lugar de residencia                                                         \n",
       "Huelva                              47.157862  141.863320             29.0  \n",
       "Huelva-Costa                        45.933662  153.687817             15.0  \n",
       "Condado-Campiña                     62.087550  154.898836             15.0  \n",
       "Huelva (capital)                    35.456802  146.693827              8.0  \n",
       "Lepe                                86.083214  225.968436              4.0  \n",
       "Bollullos Par del Condado          125.112949  291.930215              4.0  \n",
       "Almonte                             69.367936  252.988942              3.0  \n",
       "Villalba del Alcor                 118.835413  178.253119              3.0  \n",
       "Moguer                              91.462020  169.204738              2.0  \n",
       "Palma del Condado (La)              46.292010  101.842422              2.0  \n",
       "Aljaraque                           18.627177   69.851914              2.0  \n",
       "Cartaya                             89.628044  308.718817              1.0  \n",
       "Palos de la Frontera                85.164367  110.713677              1.0  \n",
       "Sierra de Huelva-Andévalo Central    8.903266   34.129186              1.0  \n",
       "Valverde del Camino                  7.843137   39.215686              1.0  \n",
       "Villablanca                        242.634315  311.958406              1.0  \n",
       "Punta Umbría                        45.587756  136.763269             -1.0  "
      ],
      "text/html": "<div>\n<style scoped>\n    .dataframe tbody tr th:only-of-type {\n        vertical-align: middle;\n    }\n\n    .dataframe tbody tr th {\n        vertical-align: top;\n    }\n\n    .dataframe thead th {\n        text-align: right;\n    }\n</style>\n<table border=\"1\" class=\"dataframe\">\n  <thead>\n    <tr style=\"text-align: right;\">\n      <th>Medida</th>\n      <th>Confirmados PDIA</th>\n      <th>Confirmados PDIA 7 días</th>\n      <th>Confirmados PDIA 14 días</th>\n      <th>Población</th>\n      <th>tasa7</th>\n      <th>tasa14</th>\n      <th>Diferencia PDIA</th>\n    </tr>\n    <tr>\n      <th>Lugar de residencia</th>\n      <th></th>\n      <th></th>\n      <th></th>\n      <th></th>\n      <th></th>\n      <th></th>\n      <th></th>\n    </tr>\n  </thead>\n  <tbody>\n    <tr>\n      <th>Huelva</th>\n      <td>24414.0</td>\n      <td>242.0</td>\n      <td>728.0</td>\n      <td>513170.0</td>\n      <td>47.157862</td>\n      <td>141.863320</td>\n      <td>29.0</td>\n    </tr>\n    <tr>\n      <th>Huelva-Costa</th>\n      <td>14888.0</td>\n      <td>133.0</td>\n      <td>445.0</td>\n      <td>289548.0</td>\n      <td>45.933662</td>\n      <td>153.687817</td>\n      <td>15.0</td>\n    </tr>\n    <tr>\n      <th>Condado-Campiña</th>\n      <td>6796.0</td>\n      <td>97.0</td>\n      <td>242.0</td>\n      <td>156231.0</td>\n      <td>62.087550</td>\n      <td>154.898836</td>\n      <td>15.0</td>\n    </tr>\n    <tr>\n      <th>Huelva (capital)</th>\n      <td>6518.0</td>\n      <td>51.0</td>\n      <td>211.0</td>\n      <td>143837.0</td>\n      <td>35.456802</td>\n      <td>146.693827</td>\n      <td>8.0</td>\n    </tr>\n    <tr>\n      <th>Lepe</th>\n      <td>1982.0</td>\n      <td>24.0</td>\n      <td>63.0</td>\n      <td>27880.0</td>\n      <td>86.083214</td>\n      <td>225.968436</td>\n      <td>4.0</td>\n    </tr>\n    <tr>\n      <th>Bollullos Par del Condado</th>\n      <td>602.0</td>\n      <td>18.0</td>\n      <td>42.0</td>\n      <td>14387.0</td>\n      <td>125.112949</td>\n      <td>291.930215</td>\n      <td>4.0</td>\n    </tr>\n    <tr>\n      <th>Almonte</th>\n      <td>838.0</td>\n      <td>17.0</td>\n      <td>62.0</td>\n      <td>24507.0</td>\n      <td>69.367936</td>\n      <td>252.988942</td>\n      <td>3.0</td>\n    </tr>\n    <tr>\n      <th>Villalba del Alcor</th>\n      <td>442.0</td>\n      <td>4.0</td>\n      <td>6.0</td>\n      <td>3366.0</td>\n      <td>118.835413</td>\n      <td>178.253119</td>\n      <td>3.0</td>\n    </tr>\n    <tr>\n      <th>Moguer</th>\n      <td>816.0</td>\n      <td>20.0</td>\n      <td>37.0</td>\n      <td>21867.0</td>\n      <td>91.462020</td>\n      <td>169.204738</td>\n      <td>2.0</td>\n    </tr>\n    <tr>\n      <th>Palma del Condado (La)</th>\n      <td>964.0</td>\n      <td>5.0</td>\n      <td>11.0</td>\n      <td>10801.0</td>\n      <td>46.292010</td>\n      <td>101.842422</td>\n      <td>2.0</td>\n    </tr>\n    <tr>\n      <th>Aljaraque</th>\n      <td>918.0</td>\n      <td>4.0</td>\n      <td>15.0</td>\n      <td>21474.0</td>\n      <td>18.627177</td>\n      <td>69.851914</td>\n      <td>2.0</td>\n    </tr>\n    <tr>\n      <th>Cartaya</th>\n      <td>923.0</td>\n      <td>18.0</td>\n      <td>62.0</td>\n      <td>20083.0</td>\n      <td>89.628044</td>\n      <td>308.718817</td>\n      <td>1.0</td>\n    </tr>\n    <tr>\n      <th>Palos de la Frontera</th>\n      <td>444.0</td>\n      <td>10.0</td>\n      <td>13.0</td>\n      <td>11742.0</td>\n      <td>85.164367</td>\n      <td>110.713677</td>\n      <td>1.0</td>\n    </tr>\n    <tr>\n      <th>Sierra de Huelva-Andévalo Central</th>\n      <td>2302.0</td>\n      <td>6.0</td>\n      <td>23.0</td>\n      <td>67391.0</td>\n      <td>8.903266</td>\n      <td>34.129186</td>\n      <td>1.0</td>\n    </tr>\n    <tr>\n      <th>Valverde del Camino</th>\n      <td>415.0</td>\n      <td>1.0</td>\n      <td>5.0</td>\n      <td>12750.0</td>\n      <td>7.843137</td>\n      <td>39.215686</td>\n      <td>1.0</td>\n    </tr>\n    <tr>\n      <th>Villablanca</th>\n      <td>172.0</td>\n      <td>7.0</td>\n      <td>9.0</td>\n      <td>2885.0</td>\n      <td>242.634315</td>\n      <td>311.958406</td>\n      <td>1.0</td>\n    </tr>\n    <tr>\n      <th>Punta Umbría</th>\n      <td>652.0</td>\n      <td>7.0</td>\n      <td>21.0</td>\n      <td>15355.0</td>\n      <td>45.587756</td>\n      <td>136.763269</td>\n      <td>-1.0</td>\n    </tr>\n  </tbody>\n</table>\n</div>"
     },
     "metadata": {},
     "execution_count": 15
    }
   ],
   "source": [
    "# Nuevos casos desde la última captura\n",
    "tabla[tabla['Diferencia PDIA'] != 0].sort_values('Diferencia PDIA', ascending=False)"
   ]
  },
  {
   "cell_type": "code",
   "execution_count": 16,
   "metadata": {},
   "outputs": [],
   "source": [
    "if tabla[tabla['Diferencia PDIA'] != 0]['Diferencia PDIA'].sum() != 0:\n",
    "  # Save to csv\n",
    "  tabla.to_csv('covid_huelva.csv', encoding='utf-8', header=True, index=True)  "
   ]
  },
  {
   "cell_type": "code",
   "execution_count": 17,
   "metadata": {},
   "outputs": [
    {
     "output_type": "execute_result",
     "data": {
      "text/plain": [
       "Medida                             Confirmados PDIA  Confirmados PDIA 7 días  \\\n",
       "Lugar de residencia                                                            \n",
       "Escacena del Campo                            138.0                      3.0   \n",
       "Villanueva de los Castillejos                 149.0                      5.0   \n",
       "Villablanca                                   172.0                      7.0   \n",
       "Cartaya                                       923.0                     18.0   \n",
       "Bollullos Par del Condado                     602.0                     18.0   \n",
       "Rociana del Condado                           308.0                      8.0   \n",
       "Almonte                                       838.0                     17.0   \n",
       "Lepe                                         1982.0                     24.0   \n",
       "Villalba del Alcor                            442.0                      4.0   \n",
       "Moguer                                        816.0                     20.0   \n",
       "Condado-Campiña                              6796.0                     97.0   \n",
       "Huelva-Costa                                14888.0                    133.0   \n",
       "Huelva (capital)                             6518.0                     51.0   \n",
       "Huelva                                      24414.0                    242.0   \n",
       "Punta Umbría                                  652.0                      7.0   \n",
       "Isla Cristina                                1975.0                      5.0   \n",
       "Nerva                                         152.0                      2.0   \n",
       "Palos de la Frontera                          444.0                     10.0   \n",
       "Ayamonte                                     1183.0                     11.0   \n",
       "Gibraleón                                     508.0                      3.0   \n",
       "Palma del Condado (La)                        964.0                      5.0   \n",
       "Trigueros                                     227.0                      4.0   \n",
       "Aljaraque                                     918.0                      4.0   \n",
       "San Juan del Puerto                           357.0                      2.0   \n",
       "Rosal de la Frontera                           23.0                      1.0   \n",
       "Bonares                                       178.0                      2.0   \n",
       "Valverde del Camino                           415.0                      1.0   \n",
       "Calañas                                       171.0                      1.0   \n",
       "Sierra de Huelva-Andévalo Central            2302.0                      6.0   \n",
       "Paterna del Campo                             110.0                      1.0   \n",
       "Alosno                                        119.0                      1.0   \n",
       "Aracena                                       453.0                      1.0   \n",
       "\n",
       "Medida                             Confirmados PDIA 14 días  Población  \\\n",
       "Lugar de residencia                                                      \n",
       "Escacena del Campo                                      9.0     2287.0   \n",
       "Villanueva de los Castillejos                          10.0     2825.0   \n",
       "Villablanca                                             9.0     2885.0   \n",
       "Cartaya                                                62.0    20083.0   \n",
       "Bollullos Par del Condado                              42.0    14387.0   \n",
       "Rociana del Condado                                    21.0     7939.0   \n",
       "Almonte                                                62.0    24507.0   \n",
       "Lepe                                                   63.0    27880.0   \n",
       "Villalba del Alcor                                      6.0     3366.0   \n",
       "Moguer                                                 37.0    21867.0   \n",
       "Condado-Campiña                                       242.0   156231.0   \n",
       "Huelva-Costa                                          445.0   289548.0   \n",
       "Huelva (capital)                                      211.0   143837.0   \n",
       "Huelva                                                728.0   513170.0   \n",
       "Punta Umbría                                           21.0    15355.0   \n",
       "Isla Cristina                                          29.0    21393.0   \n",
       "Nerva                                                   6.0     5169.0   \n",
       "Palos de la Frontera                                   13.0    11742.0   \n",
       "Ayamonte                                               23.0    21104.0   \n",
       "Gibraleón                                              13.0    12737.0   \n",
       "Palma del Condado (La)                                 11.0    10801.0   \n",
       "Trigueros                                               8.0     7862.0   \n",
       "Aljaraque                                              15.0    21474.0   \n",
       "San Juan del Puerto                                     6.0     9411.0   \n",
       "Rosal de la Frontera                                    1.0     1697.0   \n",
       "Bonares                                                 3.0     6060.0   \n",
       "Valverde del Camino                                     5.0    12750.0   \n",
       "Calañas                                                 1.0     2768.0   \n",
       "Sierra de Huelva-Andévalo Central                      23.0    67391.0   \n",
       "Paterna del Campo                                       1.0     3457.0   \n",
       "Alosno                                                  1.0     3933.0   \n",
       "Aracena                                                 2.0     8255.0   \n",
       "\n",
       "Medida                                  tasa7      tasa14  Diferencia PDIA  \n",
       "Lugar de residencia                                                         \n",
       "Escacena del Campo                 131.176213  393.528640              0.0  \n",
       "Villanueva de los Castillejos      176.991150  353.982301              0.0  \n",
       "Villablanca                        242.634315  311.958406              1.0  \n",
       "Cartaya                             89.628044  308.718817              1.0  \n",
       "Bollullos Par del Condado          125.112949  291.930215              4.0  \n",
       "Rociana del Condado                100.768359  264.516942              0.0  \n",
       "Almonte                             69.367936  252.988942              3.0  \n",
       "Lepe                                86.083214  225.968436              4.0  \n",
       "Villalba del Alcor                 118.835413  178.253119              3.0  \n",
       "Moguer                              91.462020  169.204738              2.0  \n",
       "Condado-Campiña                     62.087550  154.898836             15.0  \n",
       "Huelva-Costa                        45.933662  153.687817             15.0  \n",
       "Huelva (capital)                    35.456802  146.693827              8.0  \n",
       "Huelva                              47.157862  141.863320             29.0  \n",
       "Punta Umbría                        45.587756  136.763269             -1.0  \n",
       "Isla Cristina                       23.372131  135.558360              0.0  \n",
       "Nerva                               38.692204  116.076611              0.0  \n",
       "Palos de la Frontera                85.164367  110.713677              1.0  \n",
       "Ayamonte                            52.122820  108.984079              0.0  \n",
       "Gibraleón                           23.553427  102.064850              0.0  \n",
       "Palma del Condado (La)              46.292010  101.842422              2.0  \n",
       "Trigueros                           50.877639  101.755279              0.0  \n",
       "Aljaraque                           18.627177   69.851914              2.0  \n",
       "San Juan del Puerto                 21.251727   63.755180              0.0  \n",
       "Rosal de la Frontera                58.927519   58.927519              0.0  \n",
       "Bonares                             33.003300   49.504950              0.0  \n",
       "Valverde del Camino                  7.843137   39.215686              1.0  \n",
       "Calañas                             36.127168   36.127168              0.0  \n",
       "Sierra de Huelva-Andévalo Central    8.903266   34.129186              1.0  \n",
       "Paterna del Campo                   28.926815   28.926815              0.0  \n",
       "Alosno                              25.425884   25.425884              0.0  \n",
       "Aracena                             12.113870   24.227741              0.0  "
      ],
      "text/html": "<div>\n<style scoped>\n    .dataframe tbody tr th:only-of-type {\n        vertical-align: middle;\n    }\n\n    .dataframe tbody tr th {\n        vertical-align: top;\n    }\n\n    .dataframe thead th {\n        text-align: right;\n    }\n</style>\n<table border=\"1\" class=\"dataframe\">\n  <thead>\n    <tr style=\"text-align: right;\">\n      <th>Medida</th>\n      <th>Confirmados PDIA</th>\n      <th>Confirmados PDIA 7 días</th>\n      <th>Confirmados PDIA 14 días</th>\n      <th>Población</th>\n      <th>tasa7</th>\n      <th>tasa14</th>\n      <th>Diferencia PDIA</th>\n    </tr>\n    <tr>\n      <th>Lugar de residencia</th>\n      <th></th>\n      <th></th>\n      <th></th>\n      <th></th>\n      <th></th>\n      <th></th>\n      <th></th>\n    </tr>\n  </thead>\n  <tbody>\n    <tr>\n      <th>Escacena del Campo</th>\n      <td>138.0</td>\n      <td>3.0</td>\n      <td>9.0</td>\n      <td>2287.0</td>\n      <td>131.176213</td>\n      <td>393.528640</td>\n      <td>0.0</td>\n    </tr>\n    <tr>\n      <th>Villanueva de los Castillejos</th>\n      <td>149.0</td>\n      <td>5.0</td>\n      <td>10.0</td>\n      <td>2825.0</td>\n      <td>176.991150</td>\n      <td>353.982301</td>\n      <td>0.0</td>\n    </tr>\n    <tr>\n      <th>Villablanca</th>\n      <td>172.0</td>\n      <td>7.0</td>\n      <td>9.0</td>\n      <td>2885.0</td>\n      <td>242.634315</td>\n      <td>311.958406</td>\n      <td>1.0</td>\n    </tr>\n    <tr>\n      <th>Cartaya</th>\n      <td>923.0</td>\n      <td>18.0</td>\n      <td>62.0</td>\n      <td>20083.0</td>\n      <td>89.628044</td>\n      <td>308.718817</td>\n      <td>1.0</td>\n    </tr>\n    <tr>\n      <th>Bollullos Par del Condado</th>\n      <td>602.0</td>\n      <td>18.0</td>\n      <td>42.0</td>\n      <td>14387.0</td>\n      <td>125.112949</td>\n      <td>291.930215</td>\n      <td>4.0</td>\n    </tr>\n    <tr>\n      <th>Rociana del Condado</th>\n      <td>308.0</td>\n      <td>8.0</td>\n      <td>21.0</td>\n      <td>7939.0</td>\n      <td>100.768359</td>\n      <td>264.516942</td>\n      <td>0.0</td>\n    </tr>\n    <tr>\n      <th>Almonte</th>\n      <td>838.0</td>\n      <td>17.0</td>\n      <td>62.0</td>\n      <td>24507.0</td>\n      <td>69.367936</td>\n      <td>252.988942</td>\n      <td>3.0</td>\n    </tr>\n    <tr>\n      <th>Lepe</th>\n      <td>1982.0</td>\n      <td>24.0</td>\n      <td>63.0</td>\n      <td>27880.0</td>\n      <td>86.083214</td>\n      <td>225.968436</td>\n      <td>4.0</td>\n    </tr>\n    <tr>\n      <th>Villalba del Alcor</th>\n      <td>442.0</td>\n      <td>4.0</td>\n      <td>6.0</td>\n      <td>3366.0</td>\n      <td>118.835413</td>\n      <td>178.253119</td>\n      <td>3.0</td>\n    </tr>\n    <tr>\n      <th>Moguer</th>\n      <td>816.0</td>\n      <td>20.0</td>\n      <td>37.0</td>\n      <td>21867.0</td>\n      <td>91.462020</td>\n      <td>169.204738</td>\n      <td>2.0</td>\n    </tr>\n    <tr>\n      <th>Condado-Campiña</th>\n      <td>6796.0</td>\n      <td>97.0</td>\n      <td>242.0</td>\n      <td>156231.0</td>\n      <td>62.087550</td>\n      <td>154.898836</td>\n      <td>15.0</td>\n    </tr>\n    <tr>\n      <th>Huelva-Costa</th>\n      <td>14888.0</td>\n      <td>133.0</td>\n      <td>445.0</td>\n      <td>289548.0</td>\n      <td>45.933662</td>\n      <td>153.687817</td>\n      <td>15.0</td>\n    </tr>\n    <tr>\n      <th>Huelva (capital)</th>\n      <td>6518.0</td>\n      <td>51.0</td>\n      <td>211.0</td>\n      <td>143837.0</td>\n      <td>35.456802</td>\n      <td>146.693827</td>\n      <td>8.0</td>\n    </tr>\n    <tr>\n      <th>Huelva</th>\n      <td>24414.0</td>\n      <td>242.0</td>\n      <td>728.0</td>\n      <td>513170.0</td>\n      <td>47.157862</td>\n      <td>141.863320</td>\n      <td>29.0</td>\n    </tr>\n    <tr>\n      <th>Punta Umbría</th>\n      <td>652.0</td>\n      <td>7.0</td>\n      <td>21.0</td>\n      <td>15355.0</td>\n      <td>45.587756</td>\n      <td>136.763269</td>\n      <td>-1.0</td>\n    </tr>\n    <tr>\n      <th>Isla Cristina</th>\n      <td>1975.0</td>\n      <td>5.0</td>\n      <td>29.0</td>\n      <td>21393.0</td>\n      <td>23.372131</td>\n      <td>135.558360</td>\n      <td>0.0</td>\n    </tr>\n    <tr>\n      <th>Nerva</th>\n      <td>152.0</td>\n      <td>2.0</td>\n      <td>6.0</td>\n      <td>5169.0</td>\n      <td>38.692204</td>\n      <td>116.076611</td>\n      <td>0.0</td>\n    </tr>\n    <tr>\n      <th>Palos de la Frontera</th>\n      <td>444.0</td>\n      <td>10.0</td>\n      <td>13.0</td>\n      <td>11742.0</td>\n      <td>85.164367</td>\n      <td>110.713677</td>\n      <td>1.0</td>\n    </tr>\n    <tr>\n      <th>Ayamonte</th>\n      <td>1183.0</td>\n      <td>11.0</td>\n      <td>23.0</td>\n      <td>21104.0</td>\n      <td>52.122820</td>\n      <td>108.984079</td>\n      <td>0.0</td>\n    </tr>\n    <tr>\n      <th>Gibraleón</th>\n      <td>508.0</td>\n      <td>3.0</td>\n      <td>13.0</td>\n      <td>12737.0</td>\n      <td>23.553427</td>\n      <td>102.064850</td>\n      <td>0.0</td>\n    </tr>\n    <tr>\n      <th>Palma del Condado (La)</th>\n      <td>964.0</td>\n      <td>5.0</td>\n      <td>11.0</td>\n      <td>10801.0</td>\n      <td>46.292010</td>\n      <td>101.842422</td>\n      <td>2.0</td>\n    </tr>\n    <tr>\n      <th>Trigueros</th>\n      <td>227.0</td>\n      <td>4.0</td>\n      <td>8.0</td>\n      <td>7862.0</td>\n      <td>50.877639</td>\n      <td>101.755279</td>\n      <td>0.0</td>\n    </tr>\n    <tr>\n      <th>Aljaraque</th>\n      <td>918.0</td>\n      <td>4.0</td>\n      <td>15.0</td>\n      <td>21474.0</td>\n      <td>18.627177</td>\n      <td>69.851914</td>\n      <td>2.0</td>\n    </tr>\n    <tr>\n      <th>San Juan del Puerto</th>\n      <td>357.0</td>\n      <td>2.0</td>\n      <td>6.0</td>\n      <td>9411.0</td>\n      <td>21.251727</td>\n      <td>63.755180</td>\n      <td>0.0</td>\n    </tr>\n    <tr>\n      <th>Rosal de la Frontera</th>\n      <td>23.0</td>\n      <td>1.0</td>\n      <td>1.0</td>\n      <td>1697.0</td>\n      <td>58.927519</td>\n      <td>58.927519</td>\n      <td>0.0</td>\n    </tr>\n    <tr>\n      <th>Bonares</th>\n      <td>178.0</td>\n      <td>2.0</td>\n      <td>3.0</td>\n      <td>6060.0</td>\n      <td>33.003300</td>\n      <td>49.504950</td>\n      <td>0.0</td>\n    </tr>\n    <tr>\n      <th>Valverde del Camino</th>\n      <td>415.0</td>\n      <td>1.0</td>\n      <td>5.0</td>\n      <td>12750.0</td>\n      <td>7.843137</td>\n      <td>39.215686</td>\n      <td>1.0</td>\n    </tr>\n    <tr>\n      <th>Calañas</th>\n      <td>171.0</td>\n      <td>1.0</td>\n      <td>1.0</td>\n      <td>2768.0</td>\n      <td>36.127168</td>\n      <td>36.127168</td>\n      <td>0.0</td>\n    </tr>\n    <tr>\n      <th>Sierra de Huelva-Andévalo Central</th>\n      <td>2302.0</td>\n      <td>6.0</td>\n      <td>23.0</td>\n      <td>67391.0</td>\n      <td>8.903266</td>\n      <td>34.129186</td>\n      <td>1.0</td>\n    </tr>\n    <tr>\n      <th>Paterna del Campo</th>\n      <td>110.0</td>\n      <td>1.0</td>\n      <td>1.0</td>\n      <td>3457.0</td>\n      <td>28.926815</td>\n      <td>28.926815</td>\n      <td>0.0</td>\n    </tr>\n    <tr>\n      <th>Alosno</th>\n      <td>119.0</td>\n      <td>1.0</td>\n      <td>1.0</td>\n      <td>3933.0</td>\n      <td>25.425884</td>\n      <td>25.425884</td>\n      <td>0.0</td>\n    </tr>\n    <tr>\n      <th>Aracena</th>\n      <td>453.0</td>\n      <td>1.0</td>\n      <td>2.0</td>\n      <td>8255.0</td>\n      <td>12.113870</td>\n      <td>24.227741</td>\n      <td>0.0</td>\n    </tr>\n  </tbody>\n</table>\n</div>"
     },
     "metadata": {},
     "execution_count": 17
    }
   ],
   "source": [
    "tabla.sort_values('tasa14', ascending=False)"
   ]
  },
  {
   "cell_type": "code",
   "execution_count": 18,
   "metadata": {},
   "outputs": [
    {
     "output_type": "execute_result",
     "data": {
      "text/plain": [
       "Medida                             Confirmados PDIA  Confirmados PDIA 7 días  \\\n",
       "Lugar de residencia                                                            \n",
       "Isla Cristina                                1975.0                      5.0   \n",
       "Valverde del Camino                           415.0                      1.0   \n",
       "Gibraleón                                     508.0                      3.0   \n",
       "Huelva (capital)                             6518.0                     51.0   \n",
       "Sierra de Huelva-Andévalo Central            2302.0                      6.0   \n",
       "Aljaraque                                     918.0                      4.0   \n",
       "Almonte                                       838.0                     17.0   \n",
       "Cartaya                                       923.0                     18.0   \n",
       "Huelva-Costa                                14888.0                    133.0   \n",
       "Huelva                                      24414.0                    242.0   \n",
       "Nerva                                         152.0                      2.0   \n",
       "Escacena del Campo                            138.0                      3.0   \n",
       "San Juan del Puerto                           357.0                      2.0   \n",
       "Punta Umbría                                  652.0                      7.0   \n",
       "Lepe                                         1982.0                     24.0   \n",
       "Rociana del Condado                           308.0                      8.0   \n",
       "Condado-Campiña                              6796.0                     97.0   \n",
       "Bollullos Par del Condado                     602.0                     18.0   \n",
       "Palma del Condado (La)                        964.0                      5.0   \n",
       "Ayamonte                                     1183.0                     11.0   \n",
       "Trigueros                                     227.0                      4.0   \n",
       "Villanueva de los Castillejos                 149.0                      5.0   \n",
       "Aracena                                       453.0                      1.0   \n",
       "Moguer                                        816.0                     20.0   \n",
       "Villalba del Alcor                            442.0                      4.0   \n",
       "Bonares                                       178.0                      2.0   \n",
       "Palos de la Frontera                          444.0                     10.0   \n",
       "Villablanca                                   172.0                      7.0   \n",
       "Rosal de la Frontera                           23.0                      1.0   \n",
       "Alosno                                        119.0                      1.0   \n",
       "Calañas                                       171.0                      1.0   \n",
       "Paterna del Campo                             110.0                      1.0   \n",
       "\n",
       "Medida                             Confirmados PDIA 14 días  Población  \\\n",
       "Lugar de residencia                                                      \n",
       "Isla Cristina                                          29.0    21393.0   \n",
       "Valverde del Camino                                     5.0    12750.0   \n",
       "Gibraleón                                              13.0    12737.0   \n",
       "Huelva (capital)                                      211.0   143837.0   \n",
       "Sierra de Huelva-Andévalo Central                      23.0    67391.0   \n",
       "Aljaraque                                              15.0    21474.0   \n",
       "Almonte                                                62.0    24507.0   \n",
       "Cartaya                                                62.0    20083.0   \n",
       "Huelva-Costa                                          445.0   289548.0   \n",
       "Huelva                                                728.0   513170.0   \n",
       "Nerva                                                   6.0     5169.0   \n",
       "Escacena del Campo                                      9.0     2287.0   \n",
       "San Juan del Puerto                                     6.0     9411.0   \n",
       "Punta Umbría                                           21.0    15355.0   \n",
       "Lepe                                                   63.0    27880.0   \n",
       "Rociana del Condado                                    21.0     7939.0   \n",
       "Condado-Campiña                                       242.0   156231.0   \n",
       "Bollullos Par del Condado                              42.0    14387.0   \n",
       "Palma del Condado (La)                                 11.0    10801.0   \n",
       "Ayamonte                                               23.0    21104.0   \n",
       "Trigueros                                               8.0     7862.0   \n",
       "Villanueva de los Castillejos                          10.0     2825.0   \n",
       "Aracena                                                 2.0     8255.0   \n",
       "Moguer                                                 37.0    21867.0   \n",
       "Villalba del Alcor                                      6.0     3366.0   \n",
       "Bonares                                                 3.0     6060.0   \n",
       "Palos de la Frontera                                   13.0    11742.0   \n",
       "Villablanca                                             9.0     2885.0   \n",
       "Rosal de la Frontera                                    1.0     1697.0   \n",
       "Alosno                                                  1.0     3933.0   \n",
       "Calañas                                                 1.0     2768.0   \n",
       "Paterna del Campo                                       1.0     3457.0   \n",
       "\n",
       "Medida                                  tasa7      tasa14  Diferencia PDIA  \\\n",
       "Lugar de residencia                                                          \n",
       "Isla Cristina                       23.372131  135.558360              0.0   \n",
       "Valverde del Camino                  7.843137   39.215686              1.0   \n",
       "Gibraleón                           23.553427  102.064850              0.0   \n",
       "Huelva (capital)                    35.456802  146.693827              8.0   \n",
       "Sierra de Huelva-Andévalo Central    8.903266   34.129186              1.0   \n",
       "Aljaraque                           18.627177   69.851914              2.0   \n",
       "Almonte                             69.367936  252.988942              3.0   \n",
       "Cartaya                             89.628044  308.718817              1.0   \n",
       "Huelva-Costa                        45.933662  153.687817             15.0   \n",
       "Huelva                              47.157862  141.863320             29.0   \n",
       "Nerva                               38.692204  116.076611              0.0   \n",
       "Escacena del Campo                 131.176213  393.528640              0.0   \n",
       "San Juan del Puerto                 21.251727   63.755180              0.0   \n",
       "Punta Umbría                        45.587756  136.763269             -1.0   \n",
       "Lepe                                86.083214  225.968436              4.0   \n",
       "Rociana del Condado                100.768359  264.516942              0.0   \n",
       "Condado-Campiña                     62.087550  154.898836             15.0   \n",
       "Bollullos Par del Condado          125.112949  291.930215              4.0   \n",
       "Palma del Condado (La)              46.292010  101.842422              2.0   \n",
       "Ayamonte                            52.122820  108.984079              0.0   \n",
       "Trigueros                           50.877639  101.755279              0.0   \n",
       "Villanueva de los Castillejos      176.991150  353.982301              0.0   \n",
       "Aracena                             12.113870   24.227741              0.0   \n",
       "Moguer                              91.462020  169.204738              2.0   \n",
       "Villalba del Alcor                 118.835413  178.253119              3.0   \n",
       "Bonares                             33.003300   49.504950              0.0   \n",
       "Palos de la Frontera                85.164367  110.713677              1.0   \n",
       "Villablanca                        242.634315  311.958406              1.0   \n",
       "Rosal de la Frontera                58.927519   58.927519              0.0   \n",
       "Alosno                              25.425884   25.425884              0.0   \n",
       "Calañas                             36.127168   36.127168              0.0   \n",
       "Paterna del Campo                   28.926815   28.926815              0.0   \n",
       "\n",
       "Medida                                 7/14  \n",
       "Lugar de residencia                          \n",
       "Isla Cristina                      0.172414  \n",
       "Valverde del Camino                0.200000  \n",
       "Gibraleón                          0.230769  \n",
       "Huelva (capital)                   0.241706  \n",
       "Sierra de Huelva-Andévalo Central  0.260870  \n",
       "Aljaraque                          0.266667  \n",
       "Almonte                            0.274194  \n",
       "Cartaya                            0.290323  \n",
       "Huelva-Costa                       0.298876  \n",
       "Huelva                             0.332418  \n",
       "Nerva                              0.333333  \n",
       "Escacena del Campo                 0.333333  \n",
       "San Juan del Puerto                0.333333  \n",
       "Punta Umbría                       0.333333  \n",
       "Lepe                               0.380952  \n",
       "Rociana del Condado                0.380952  \n",
       "Condado-Campiña                    0.400826  \n",
       "Bollullos Par del Condado          0.428571  \n",
       "Palma del Condado (La)             0.454545  \n",
       "Ayamonte                           0.478261  \n",
       "Trigueros                          0.500000  \n",
       "Villanueva de los Castillejos      0.500000  \n",
       "Aracena                            0.500000  \n",
       "Moguer                             0.540541  \n",
       "Villalba del Alcor                 0.666667  \n",
       "Bonares                            0.666667  \n",
       "Palos de la Frontera               0.769231  \n",
       "Villablanca                        0.777778  \n",
       "Rosal de la Frontera               1.000000  \n",
       "Alosno                             1.000000  \n",
       "Calañas                            1.000000  \n",
       "Paterna del Campo                  1.000000  "
      ],
      "text/html": "<div>\n<style scoped>\n    .dataframe tbody tr th:only-of-type {\n        vertical-align: middle;\n    }\n\n    .dataframe tbody tr th {\n        vertical-align: top;\n    }\n\n    .dataframe thead th {\n        text-align: right;\n    }\n</style>\n<table border=\"1\" class=\"dataframe\">\n  <thead>\n    <tr style=\"text-align: right;\">\n      <th>Medida</th>\n      <th>Confirmados PDIA</th>\n      <th>Confirmados PDIA 7 días</th>\n      <th>Confirmados PDIA 14 días</th>\n      <th>Población</th>\n      <th>tasa7</th>\n      <th>tasa14</th>\n      <th>Diferencia PDIA</th>\n      <th>7/14</th>\n    </tr>\n    <tr>\n      <th>Lugar de residencia</th>\n      <th></th>\n      <th></th>\n      <th></th>\n      <th></th>\n      <th></th>\n      <th></th>\n      <th></th>\n      <th></th>\n    </tr>\n  </thead>\n  <tbody>\n    <tr>\n      <th>Isla Cristina</th>\n      <td>1975.0</td>\n      <td>5.0</td>\n      <td>29.0</td>\n      <td>21393.0</td>\n      <td>23.372131</td>\n      <td>135.558360</td>\n      <td>0.0</td>\n      <td>0.172414</td>\n    </tr>\n    <tr>\n      <th>Valverde del Camino</th>\n      <td>415.0</td>\n      <td>1.0</td>\n      <td>5.0</td>\n      <td>12750.0</td>\n      <td>7.843137</td>\n      <td>39.215686</td>\n      <td>1.0</td>\n      <td>0.200000</td>\n    </tr>\n    <tr>\n      <th>Gibraleón</th>\n      <td>508.0</td>\n      <td>3.0</td>\n      <td>13.0</td>\n      <td>12737.0</td>\n      <td>23.553427</td>\n      <td>102.064850</td>\n      <td>0.0</td>\n      <td>0.230769</td>\n    </tr>\n    <tr>\n      <th>Huelva (capital)</th>\n      <td>6518.0</td>\n      <td>51.0</td>\n      <td>211.0</td>\n      <td>143837.0</td>\n      <td>35.456802</td>\n      <td>146.693827</td>\n      <td>8.0</td>\n      <td>0.241706</td>\n    </tr>\n    <tr>\n      <th>Sierra de Huelva-Andévalo Central</th>\n      <td>2302.0</td>\n      <td>6.0</td>\n      <td>23.0</td>\n      <td>67391.0</td>\n      <td>8.903266</td>\n      <td>34.129186</td>\n      <td>1.0</td>\n      <td>0.260870</td>\n    </tr>\n    <tr>\n      <th>Aljaraque</th>\n      <td>918.0</td>\n      <td>4.0</td>\n      <td>15.0</td>\n      <td>21474.0</td>\n      <td>18.627177</td>\n      <td>69.851914</td>\n      <td>2.0</td>\n      <td>0.266667</td>\n    </tr>\n    <tr>\n      <th>Almonte</th>\n      <td>838.0</td>\n      <td>17.0</td>\n      <td>62.0</td>\n      <td>24507.0</td>\n      <td>69.367936</td>\n      <td>252.988942</td>\n      <td>3.0</td>\n      <td>0.274194</td>\n    </tr>\n    <tr>\n      <th>Cartaya</th>\n      <td>923.0</td>\n      <td>18.0</td>\n      <td>62.0</td>\n      <td>20083.0</td>\n      <td>89.628044</td>\n      <td>308.718817</td>\n      <td>1.0</td>\n      <td>0.290323</td>\n    </tr>\n    <tr>\n      <th>Huelva-Costa</th>\n      <td>14888.0</td>\n      <td>133.0</td>\n      <td>445.0</td>\n      <td>289548.0</td>\n      <td>45.933662</td>\n      <td>153.687817</td>\n      <td>15.0</td>\n      <td>0.298876</td>\n    </tr>\n    <tr>\n      <th>Huelva</th>\n      <td>24414.0</td>\n      <td>242.0</td>\n      <td>728.0</td>\n      <td>513170.0</td>\n      <td>47.157862</td>\n      <td>141.863320</td>\n      <td>29.0</td>\n      <td>0.332418</td>\n    </tr>\n    <tr>\n      <th>Nerva</th>\n      <td>152.0</td>\n      <td>2.0</td>\n      <td>6.0</td>\n      <td>5169.0</td>\n      <td>38.692204</td>\n      <td>116.076611</td>\n      <td>0.0</td>\n      <td>0.333333</td>\n    </tr>\n    <tr>\n      <th>Escacena del Campo</th>\n      <td>138.0</td>\n      <td>3.0</td>\n      <td>9.0</td>\n      <td>2287.0</td>\n      <td>131.176213</td>\n      <td>393.528640</td>\n      <td>0.0</td>\n      <td>0.333333</td>\n    </tr>\n    <tr>\n      <th>San Juan del Puerto</th>\n      <td>357.0</td>\n      <td>2.0</td>\n      <td>6.0</td>\n      <td>9411.0</td>\n      <td>21.251727</td>\n      <td>63.755180</td>\n      <td>0.0</td>\n      <td>0.333333</td>\n    </tr>\n    <tr>\n      <th>Punta Umbría</th>\n      <td>652.0</td>\n      <td>7.0</td>\n      <td>21.0</td>\n      <td>15355.0</td>\n      <td>45.587756</td>\n      <td>136.763269</td>\n      <td>-1.0</td>\n      <td>0.333333</td>\n    </tr>\n    <tr>\n      <th>Lepe</th>\n      <td>1982.0</td>\n      <td>24.0</td>\n      <td>63.0</td>\n      <td>27880.0</td>\n      <td>86.083214</td>\n      <td>225.968436</td>\n      <td>4.0</td>\n      <td>0.380952</td>\n    </tr>\n    <tr>\n      <th>Rociana del Condado</th>\n      <td>308.0</td>\n      <td>8.0</td>\n      <td>21.0</td>\n      <td>7939.0</td>\n      <td>100.768359</td>\n      <td>264.516942</td>\n      <td>0.0</td>\n      <td>0.380952</td>\n    </tr>\n    <tr>\n      <th>Condado-Campiña</th>\n      <td>6796.0</td>\n      <td>97.0</td>\n      <td>242.0</td>\n      <td>156231.0</td>\n      <td>62.087550</td>\n      <td>154.898836</td>\n      <td>15.0</td>\n      <td>0.400826</td>\n    </tr>\n    <tr>\n      <th>Bollullos Par del Condado</th>\n      <td>602.0</td>\n      <td>18.0</td>\n      <td>42.0</td>\n      <td>14387.0</td>\n      <td>125.112949</td>\n      <td>291.930215</td>\n      <td>4.0</td>\n      <td>0.428571</td>\n    </tr>\n    <tr>\n      <th>Palma del Condado (La)</th>\n      <td>964.0</td>\n      <td>5.0</td>\n      <td>11.0</td>\n      <td>10801.0</td>\n      <td>46.292010</td>\n      <td>101.842422</td>\n      <td>2.0</td>\n      <td>0.454545</td>\n    </tr>\n    <tr>\n      <th>Ayamonte</th>\n      <td>1183.0</td>\n      <td>11.0</td>\n      <td>23.0</td>\n      <td>21104.0</td>\n      <td>52.122820</td>\n      <td>108.984079</td>\n      <td>0.0</td>\n      <td>0.478261</td>\n    </tr>\n    <tr>\n      <th>Trigueros</th>\n      <td>227.0</td>\n      <td>4.0</td>\n      <td>8.0</td>\n      <td>7862.0</td>\n      <td>50.877639</td>\n      <td>101.755279</td>\n      <td>0.0</td>\n      <td>0.500000</td>\n    </tr>\n    <tr>\n      <th>Villanueva de los Castillejos</th>\n      <td>149.0</td>\n      <td>5.0</td>\n      <td>10.0</td>\n      <td>2825.0</td>\n      <td>176.991150</td>\n      <td>353.982301</td>\n      <td>0.0</td>\n      <td>0.500000</td>\n    </tr>\n    <tr>\n      <th>Aracena</th>\n      <td>453.0</td>\n      <td>1.0</td>\n      <td>2.0</td>\n      <td>8255.0</td>\n      <td>12.113870</td>\n      <td>24.227741</td>\n      <td>0.0</td>\n      <td>0.500000</td>\n    </tr>\n    <tr>\n      <th>Moguer</th>\n      <td>816.0</td>\n      <td>20.0</td>\n      <td>37.0</td>\n      <td>21867.0</td>\n      <td>91.462020</td>\n      <td>169.204738</td>\n      <td>2.0</td>\n      <td>0.540541</td>\n    </tr>\n    <tr>\n      <th>Villalba del Alcor</th>\n      <td>442.0</td>\n      <td>4.0</td>\n      <td>6.0</td>\n      <td>3366.0</td>\n      <td>118.835413</td>\n      <td>178.253119</td>\n      <td>3.0</td>\n      <td>0.666667</td>\n    </tr>\n    <tr>\n      <th>Bonares</th>\n      <td>178.0</td>\n      <td>2.0</td>\n      <td>3.0</td>\n      <td>6060.0</td>\n      <td>33.003300</td>\n      <td>49.504950</td>\n      <td>0.0</td>\n      <td>0.666667</td>\n    </tr>\n    <tr>\n      <th>Palos de la Frontera</th>\n      <td>444.0</td>\n      <td>10.0</td>\n      <td>13.0</td>\n      <td>11742.0</td>\n      <td>85.164367</td>\n      <td>110.713677</td>\n      <td>1.0</td>\n      <td>0.769231</td>\n    </tr>\n    <tr>\n      <th>Villablanca</th>\n      <td>172.0</td>\n      <td>7.0</td>\n      <td>9.0</td>\n      <td>2885.0</td>\n      <td>242.634315</td>\n      <td>311.958406</td>\n      <td>1.0</td>\n      <td>0.777778</td>\n    </tr>\n    <tr>\n      <th>Rosal de la Frontera</th>\n      <td>23.0</td>\n      <td>1.0</td>\n      <td>1.0</td>\n      <td>1697.0</td>\n      <td>58.927519</td>\n      <td>58.927519</td>\n      <td>0.0</td>\n      <td>1.000000</td>\n    </tr>\n    <tr>\n      <th>Alosno</th>\n      <td>119.0</td>\n      <td>1.0</td>\n      <td>1.0</td>\n      <td>3933.0</td>\n      <td>25.425884</td>\n      <td>25.425884</td>\n      <td>0.0</td>\n      <td>1.000000</td>\n    </tr>\n    <tr>\n      <th>Calañas</th>\n      <td>171.0</td>\n      <td>1.0</td>\n      <td>1.0</td>\n      <td>2768.0</td>\n      <td>36.127168</td>\n      <td>36.127168</td>\n      <td>0.0</td>\n      <td>1.000000</td>\n    </tr>\n    <tr>\n      <th>Paterna del Campo</th>\n      <td>110.0</td>\n      <td>1.0</td>\n      <td>1.0</td>\n      <td>3457.0</td>\n      <td>28.926815</td>\n      <td>28.926815</td>\n      <td>0.0</td>\n      <td>1.000000</td>\n    </tr>\n  </tbody>\n</table>\n</div>"
     },
     "metadata": {},
     "execution_count": 18
    }
   ],
   "source": [
    "# Peso de la tasa de la última semana en relación con la tasa a 14 días \n",
    "# Mejor cuanto menor. Valor 1 significa que no había casos antes de 7 días.\n",
    "tabla['7/14'] = tabla['tasa7'] / tabla['tasa14']\n",
    "tabla.fillna(0).sort_values('7/14', ascending=True)"
   ]
  },
  {
   "cell_type": "code",
   "execution_count": null,
   "metadata": {},
   "outputs": [],
   "source": []
  }
 ]
}