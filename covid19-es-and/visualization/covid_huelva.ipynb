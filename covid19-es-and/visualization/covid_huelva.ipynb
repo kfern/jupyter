{
 "metadata": {
  "language_info": {
   "codemirror_mode": {
    "name": "ipython",
    "version": 3
   },
   "file_extension": ".py",
   "mimetype": "text/x-python",
   "name": "python",
   "nbconvert_exporter": "python",
   "pygments_lexer": "ipython3",
   "version": "3.6.9"
  },
  "orig_nbformat": 2,
  "kernelspec": {
   "name": "python3",
   "display_name": "Python 3",
   "language": "python"
  }
 },
 "nbformat": 4,
 "nbformat_minor": 2,
 "cells": [
  {
   "cell_type": "code",
   "execution_count": 1,
   "metadata": {},
   "outputs": [],
   "source": [
    "import pandas as pd\n",
    "pd.set_option('display.max_rows', None) # Print all rows"
   ]
  },
  {
   "cell_type": "code",
   "execution_count": 2,
   "metadata": {},
   "outputs": [],
   "source": [
    "# FIX SSL: CERTIFICATE_VERIFY_FAILED with Python3\n",
    "# https://stackoverflow.com/a/49174340\n",
    "import ssl\n",
    "\n",
    "ssl._create_default_https_context = ssl._create_unverified_context"
   ]
  },
  {
   "cell_type": "code",
   "execution_count": 3,
   "metadata": {},
   "outputs": [],
   "source": [
    "url = 'https://www.juntadeandalucia.es/institutodeestadisticaycartografia/badea/stpivot/stpivot/Print?cube=013d884c-cfc5-4c21-9e78-e26225682afd&type=3&foto=si&ejecutaDesde=&codConsulta=38668&consTipoVisua=JP'\n",
    "fields = ['Lugar de residencia', 'Medida', 'Valor']\n",
    "df = pd.read_csv(url, delimiter=';', usecols=fields, decimal=',')"
   ]
  },
  {
   "cell_type": "code",
   "execution_count": 4,
   "metadata": {},
   "outputs": [
    {
     "output_type": "execute_result",
     "data": {
      "text/plain": [
       "  Lugar de residencia                    Medida               Valor\n",
       "0              Huelva                 Población              513170\n",
       "1              Huelva          Confirmados PDIA               27583\n",
       "2              Huelva  Confirmados PDIA 14 días                1343\n",
       "3              Huelva         Tasa PDIA 14 días  261,70664692012394\n",
       "4              Huelva   Confirmados PDIA 7 días                 630\n",
       "5              Huelva        Total Confirmados                27757\n",
       "6              Huelva                   Curados               23064\n",
       "7              Huelva                Fallecidos                 360"
      ],
      "text/html": "<div>\n<style scoped>\n    .dataframe tbody tr th:only-of-type {\n        vertical-align: middle;\n    }\n\n    .dataframe tbody tr th {\n        vertical-align: top;\n    }\n\n    .dataframe thead th {\n        text-align: right;\n    }\n</style>\n<table border=\"1\" class=\"dataframe\">\n  <thead>\n    <tr style=\"text-align: right;\">\n      <th></th>\n      <th>Lugar de residencia</th>\n      <th>Medida</th>\n      <th>Valor</th>\n    </tr>\n  </thead>\n  <tbody>\n    <tr>\n      <th>0</th>\n      <td>Huelva</td>\n      <td>Población</td>\n      <td>513170</td>\n    </tr>\n    <tr>\n      <th>1</th>\n      <td>Huelva</td>\n      <td>Confirmados PDIA</td>\n      <td>27583</td>\n    </tr>\n    <tr>\n      <th>2</th>\n      <td>Huelva</td>\n      <td>Confirmados PDIA 14 días</td>\n      <td>1343</td>\n    </tr>\n    <tr>\n      <th>3</th>\n      <td>Huelva</td>\n      <td>Tasa PDIA 14 días</td>\n      <td>261,70664692012394</td>\n    </tr>\n    <tr>\n      <th>4</th>\n      <td>Huelva</td>\n      <td>Confirmados PDIA 7 días</td>\n      <td>630</td>\n    </tr>\n    <tr>\n      <th>5</th>\n      <td>Huelva</td>\n      <td>Total Confirmados</td>\n      <td>27757</td>\n    </tr>\n    <tr>\n      <th>6</th>\n      <td>Huelva</td>\n      <td>Curados</td>\n      <td>23064</td>\n    </tr>\n    <tr>\n      <th>7</th>\n      <td>Huelva</td>\n      <td>Fallecidos</td>\n      <td>360</td>\n    </tr>\n  </tbody>\n</table>\n</div>"
     },
     "metadata": {},
     "execution_count": 4
    }
   ],
   "source": [
    "df[df['Lugar de residencia'] == 'Huelva']"
   ]
  },
  {
   "cell_type": "code",
   "execution_count": 5,
   "metadata": {},
   "outputs": [],
   "source": [
    "df['Valor'] = pd.to_numeric(df['Valor'],errors='coerce')"
   ]
  },
  {
   "cell_type": "code",
   "execution_count": 6,
   "metadata": {},
   "outputs": [],
   "source": [
    "dfAnterior = pd.read_csv('covid_huelva.csv', index_col='Lugar de residencia')"
   ]
  },
  {
   "cell_type": "code",
   "execution_count": 7,
   "metadata": {
    "tags": []
   },
   "outputs": [
    {
     "output_type": "stream",
     "name": "stdout",
     "text": [
      "Confirmados PCR en la provincia de Huelva:  27583.0\n"
     ]
    }
   ],
   "source": [
    "# Confirmados PCR provincia Huelva\n",
    "p = df[df['Lugar de residencia'] == 'Huelva'][df['Medida'] == 'Confirmados PDIA']['Valor'].values[0]\n",
    "print('Confirmados PCR en la provincia de Huelva: ', p)"
   ]
  },
  {
   "cell_type": "code",
   "execution_count": 8,
   "metadata": {
    "tags": []
   },
   "outputs": [
    {
     "output_type": "stream",
     "name": "stdout",
     "text": [
      "Confirmados PCR en Huelva capital:  7180.0\n"
     ]
    }
   ],
   "source": [
    "# Confirmados PCR Huelva capitalpd\n",
    "c = df[df['Lugar de residencia'] == 'Huelva (capital)'][df['Medida'] == 'Confirmados PDIA']['Valor'].values[0]\n",
    "print('Confirmados PCR en Huelva capital: ', c)"
   ]
  },
  {
   "cell_type": "code",
   "execution_count": 9,
   "metadata": {
    "tags": []
   },
   "outputs": [],
   "source": [
    "c7 = df[df['Lugar de residencia'] == 'Huelva (capital)'][df['Medida'] == 'Confirmados PDIA 7 días']['Valor'].values[0]\n",
    "c14 = df[df['Lugar de residencia'] == 'Huelva (capital)'][df['Medida'] == 'Confirmados PDIA 14 días']['Valor'].values[0]\n",
    "p = df[df['Lugar de residencia'] == 'Huelva (capital)'][df['Medida'] == 'Población']['Valor'].values[0]"
   ]
  },
  {
   "cell_type": "code",
   "execution_count": 10,
   "metadata": {
    "tags": []
   },
   "outputs": [
    {
     "output_type": "stream",
     "name": "stdout",
     "text": [
      "Huelva (capital)\n\nUn positivo PCR cada 888 personas en los últimos 7 días \n\nUn positivo PCR cada 475 personas en los últimos 14 días\n"
     ]
    }
   ],
   "source": [
    "print('Huelva (capital)\\n')\n",
    "#print('Confirmados PCR 7 días x 1,000 habitantes: ', f\"{c7/(p/1000):.5f}\")\n",
    "print('Un positivo PCR cada', f\"{p/c7:.0f}\", 'personas en los últimos 7 días', '\\n')\n",
    "#print('Confirmados PCR 14 días x 1,000 habitantes: ', f\"{c14/(p/1000):.5f}\")\n",
    "print('Un positivo PCR cada', f\"{p/c14:.0f}\", 'personas en los últimos 14 días')"
   ]
  },
  {
   "cell_type": "code",
   "execution_count": 11,
   "metadata": {},
   "outputs": [],
   "source": [
    "filtro = ((df['Medida'] == 'Confirmados PDIA')| (df['Medida'] == 'Confirmados PDIA 7 días') | (df['Medida'] == 'Población' ) | (df['Medida'] == 'Confirmados PDIA 14 días')) & (df['Valor'] > 0)\n",
    "tabla = pd.pivot_table(df.loc[filtro], values='Valor', index='Lugar de residencia', columns='Medida').dropna()"
   ]
  },
  {
   "cell_type": "code",
   "execution_count": 12,
   "metadata": {},
   "outputs": [],
   "source": [
    "# Reorder columns\n",
    "tabla = tabla[['Confirmados PDIA', 'Confirmados PDIA 7 días', 'Confirmados PDIA 14 días', 'Población']]"
   ]
  },
  {
   "cell_type": "code",
   "execution_count": 13,
   "metadata": {},
   "outputs": [],
   "source": [
    "tabla['tasa7'] = tabla['Confirmados PDIA 7 días']/tabla['Población']*100000\n",
    "tabla['tasa14'] = tabla['Confirmados PDIA 14 días']/tabla['Población']*100000"
   ]
  },
  {
   "cell_type": "code",
   "execution_count": 14,
   "metadata": {},
   "outputs": [],
   "source": [
    "tabla['Diferencia PDIA'] = tabla['Confirmados PDIA'] - dfAnterior['Confirmados PDIA']"
   ]
  },
  {
   "cell_type": "code",
   "execution_count": 15,
   "metadata": {},
   "outputs": [
    {
     "output_type": "execute_result",
     "data": {
      "text/plain": [
       "Medida                             Confirmados PDIA  Confirmados PDIA 7 días  \\\n",
       "Lugar de residencia                                                            \n",
       "Huelva                                      27583.0                    630.0   \n",
       "Condado-Campiña                              8468.0                    312.0   \n",
       "Huelva-Costa                                16251.0                    263.0   \n",
       "Huelva (capital)                             7180.0                    162.0   \n",
       "Almonte                                      1365.0                    117.0   \n",
       "Moguer                                       1026.0                     42.0   \n",
       "Bollullos Par del Condado                     746.0                     22.0   \n",
       "Sierra de Huelva-Andévalo Central            2448.0                     47.0   \n",
       "Palma del Condado (La)                       1022.0                     11.0   \n",
       "Cartaya                                      1221.0                     64.0   \n",
       "Cumbres Mayores                                33.0                      8.0   \n",
       "San Juan del Puerto                           423.0                     17.0   \n",
       "Rociana del Condado                           475.0                     33.0   \n",
       "Aljaraque                                     981.0                      9.0   \n",
       "Lucena del Puerto                             191.0                      7.0   \n",
       "Isla Cristina                                2024.0                      7.0   \n",
       "Lepe                                         2059.0                     10.0   \n",
       "San Bartolomé de la Torre                     282.0                      8.0   \n",
       "Bonares                                       229.0                      9.0   \n",
       "Punta Umbría                                  687.0                      4.0   \n",
       "Gibraleón                                     565.0                      8.0   \n",
       "Galaroza                                       18.0                      2.0   \n",
       "Villarrasa                                    146.0                      6.0   \n",
       "\n",
       "Medida                             Confirmados PDIA 14 días  Población  \\\n",
       "Lugar de residencia                                                      \n",
       "Huelva                                               1343.0   513170.0   \n",
       "Condado-Campiña                                       685.0   156231.0   \n",
       "Huelva-Costa                                          545.0   289548.0   \n",
       "Huelva (capital)                                      303.0   143837.0   \n",
       "Almonte                                               240.0    24507.0   \n",
       "Moguer                                                 87.0    21867.0   \n",
       "Bollullos Par del Condado                              43.0    14387.0   \n",
       "Sierra de Huelva-Andévalo Central                      90.0    67391.0   \n",
       "Palma del Condado (La)                                 21.0    10801.0   \n",
       "Cartaya                                               147.0    20083.0   \n",
       "Cumbres Mayores                                         8.0     1749.0   \n",
       "San Juan del Puerto                                    29.0     9411.0   \n",
       "Rociana del Condado                                    83.0     7939.0   \n",
       "Aljaraque                                              32.0    21474.0   \n",
       "Lucena del Puerto                                      22.0     3261.0   \n",
       "Isla Cristina                                           8.0    21393.0   \n",
       "Lepe                                                   22.0    27880.0   \n",
       "San Bartolomé de la Torre                              27.0     3761.0   \n",
       "Bonares                                                25.0     6060.0   \n",
       "Punta Umbría                                           13.0    15355.0   \n",
       "Gibraleón                                              12.0    12737.0   \n",
       "Galaroza                                                2.0     1382.0   \n",
       "Villarrasa                                              9.0     2211.0   \n",
       "\n",
       "Medida                                  tasa7       tasa14  Diferencia PDIA  \n",
       "Lugar de residencia                                                          \n",
       "Huelva                             122.766335   261.706647            130.0  \n",
       "Condado-Campiña                    199.704284   438.453316             62.0  \n",
       "Huelva-Costa                        90.831227   188.224405             61.0  \n",
       "Huelva (capital)                   112.627488   210.655117             46.0  \n",
       "Almonte                            477.414616   979.312033             26.0  \n",
       "Moguer                             192.070243   397.859789              6.0  \n",
       "Bollullos Par del Condado          152.915827   298.880934              6.0  \n",
       "Sierra de Huelva-Andévalo Central   69.742250   133.548990              6.0  \n",
       "Palma del Condado (La)             101.842422   194.426442              6.0  \n",
       "Cartaya                            318.677488   731.962356              5.0  \n",
       "Cumbres Mayores                    457.404231   457.404231              5.0  \n",
       "San Juan del Puerto                180.639677   308.150037              5.0  \n",
       "Rociana del Condado                415.669480  1045.471722              4.0  \n",
       "Aljaraque                           41.911148   149.017416              4.0  \n",
       "Lucena del Puerto                  214.658080   674.639681              3.0  \n",
       "Isla Cristina                       32.720983    37.395410              3.0  \n",
       "Lepe                                35.868006    78.909613              2.0  \n",
       "San Bartolomé de la Torre          212.709386   717.894177              2.0  \n",
       "Bonares                            148.514851   412.541254              2.0  \n",
       "Punta Umbría                        26.050147    84.662976              1.0  \n",
       "Gibraleón                           62.809139    94.213708              1.0  \n",
       "Galaroza                           144.717800   144.717800              1.0  \n",
       "Villarrasa                         271.370421   407.055631              1.0  "
      ],
      "text/html": "<div>\n<style scoped>\n    .dataframe tbody tr th:only-of-type {\n        vertical-align: middle;\n    }\n\n    .dataframe tbody tr th {\n        vertical-align: top;\n    }\n\n    .dataframe thead th {\n        text-align: right;\n    }\n</style>\n<table border=\"1\" class=\"dataframe\">\n  <thead>\n    <tr style=\"text-align: right;\">\n      <th>Medida</th>\n      <th>Confirmados PDIA</th>\n      <th>Confirmados PDIA 7 días</th>\n      <th>Confirmados PDIA 14 días</th>\n      <th>Población</th>\n      <th>tasa7</th>\n      <th>tasa14</th>\n      <th>Diferencia PDIA</th>\n    </tr>\n    <tr>\n      <th>Lugar de residencia</th>\n      <th></th>\n      <th></th>\n      <th></th>\n      <th></th>\n      <th></th>\n      <th></th>\n      <th></th>\n    </tr>\n  </thead>\n  <tbody>\n    <tr>\n      <th>Huelva</th>\n      <td>27583.0</td>\n      <td>630.0</td>\n      <td>1343.0</td>\n      <td>513170.0</td>\n      <td>122.766335</td>\n      <td>261.706647</td>\n      <td>130.0</td>\n    </tr>\n    <tr>\n      <th>Condado-Campiña</th>\n      <td>8468.0</td>\n      <td>312.0</td>\n      <td>685.0</td>\n      <td>156231.0</td>\n      <td>199.704284</td>\n      <td>438.453316</td>\n      <td>62.0</td>\n    </tr>\n    <tr>\n      <th>Huelva-Costa</th>\n      <td>16251.0</td>\n      <td>263.0</td>\n      <td>545.0</td>\n      <td>289548.0</td>\n      <td>90.831227</td>\n      <td>188.224405</td>\n      <td>61.0</td>\n    </tr>\n    <tr>\n      <th>Huelva (capital)</th>\n      <td>7180.0</td>\n      <td>162.0</td>\n      <td>303.0</td>\n      <td>143837.0</td>\n      <td>112.627488</td>\n      <td>210.655117</td>\n      <td>46.0</td>\n    </tr>\n    <tr>\n      <th>Almonte</th>\n      <td>1365.0</td>\n      <td>117.0</td>\n      <td>240.0</td>\n      <td>24507.0</td>\n      <td>477.414616</td>\n      <td>979.312033</td>\n      <td>26.0</td>\n    </tr>\n    <tr>\n      <th>Moguer</th>\n      <td>1026.0</td>\n      <td>42.0</td>\n      <td>87.0</td>\n      <td>21867.0</td>\n      <td>192.070243</td>\n      <td>397.859789</td>\n      <td>6.0</td>\n    </tr>\n    <tr>\n      <th>Bollullos Par del Condado</th>\n      <td>746.0</td>\n      <td>22.0</td>\n      <td>43.0</td>\n      <td>14387.0</td>\n      <td>152.915827</td>\n      <td>298.880934</td>\n      <td>6.0</td>\n    </tr>\n    <tr>\n      <th>Sierra de Huelva-Andévalo Central</th>\n      <td>2448.0</td>\n      <td>47.0</td>\n      <td>90.0</td>\n      <td>67391.0</td>\n      <td>69.742250</td>\n      <td>133.548990</td>\n      <td>6.0</td>\n    </tr>\n    <tr>\n      <th>Palma del Condado (La)</th>\n      <td>1022.0</td>\n      <td>11.0</td>\n      <td>21.0</td>\n      <td>10801.0</td>\n      <td>101.842422</td>\n      <td>194.426442</td>\n      <td>6.0</td>\n    </tr>\n    <tr>\n      <th>Cartaya</th>\n      <td>1221.0</td>\n      <td>64.0</td>\n      <td>147.0</td>\n      <td>20083.0</td>\n      <td>318.677488</td>\n      <td>731.962356</td>\n      <td>5.0</td>\n    </tr>\n    <tr>\n      <th>Cumbres Mayores</th>\n      <td>33.0</td>\n      <td>8.0</td>\n      <td>8.0</td>\n      <td>1749.0</td>\n      <td>457.404231</td>\n      <td>457.404231</td>\n      <td>5.0</td>\n    </tr>\n    <tr>\n      <th>San Juan del Puerto</th>\n      <td>423.0</td>\n      <td>17.0</td>\n      <td>29.0</td>\n      <td>9411.0</td>\n      <td>180.639677</td>\n      <td>308.150037</td>\n      <td>5.0</td>\n    </tr>\n    <tr>\n      <th>Rociana del Condado</th>\n      <td>475.0</td>\n      <td>33.0</td>\n      <td>83.0</td>\n      <td>7939.0</td>\n      <td>415.669480</td>\n      <td>1045.471722</td>\n      <td>4.0</td>\n    </tr>\n    <tr>\n      <th>Aljaraque</th>\n      <td>981.0</td>\n      <td>9.0</td>\n      <td>32.0</td>\n      <td>21474.0</td>\n      <td>41.911148</td>\n      <td>149.017416</td>\n      <td>4.0</td>\n    </tr>\n    <tr>\n      <th>Lucena del Puerto</th>\n      <td>191.0</td>\n      <td>7.0</td>\n      <td>22.0</td>\n      <td>3261.0</td>\n      <td>214.658080</td>\n      <td>674.639681</td>\n      <td>3.0</td>\n    </tr>\n    <tr>\n      <th>Isla Cristina</th>\n      <td>2024.0</td>\n      <td>7.0</td>\n      <td>8.0</td>\n      <td>21393.0</td>\n      <td>32.720983</td>\n      <td>37.395410</td>\n      <td>3.0</td>\n    </tr>\n    <tr>\n      <th>Lepe</th>\n      <td>2059.0</td>\n      <td>10.0</td>\n      <td>22.0</td>\n      <td>27880.0</td>\n      <td>35.868006</td>\n      <td>78.909613</td>\n      <td>2.0</td>\n    </tr>\n    <tr>\n      <th>San Bartolomé de la Torre</th>\n      <td>282.0</td>\n      <td>8.0</td>\n      <td>27.0</td>\n      <td>3761.0</td>\n      <td>212.709386</td>\n      <td>717.894177</td>\n      <td>2.0</td>\n    </tr>\n    <tr>\n      <th>Bonares</th>\n      <td>229.0</td>\n      <td>9.0</td>\n      <td>25.0</td>\n      <td>6060.0</td>\n      <td>148.514851</td>\n      <td>412.541254</td>\n      <td>2.0</td>\n    </tr>\n    <tr>\n      <th>Punta Umbría</th>\n      <td>687.0</td>\n      <td>4.0</td>\n      <td>13.0</td>\n      <td>15355.0</td>\n      <td>26.050147</td>\n      <td>84.662976</td>\n      <td>1.0</td>\n    </tr>\n    <tr>\n      <th>Gibraleón</th>\n      <td>565.0</td>\n      <td>8.0</td>\n      <td>12.0</td>\n      <td>12737.0</td>\n      <td>62.809139</td>\n      <td>94.213708</td>\n      <td>1.0</td>\n    </tr>\n    <tr>\n      <th>Galaroza</th>\n      <td>18.0</td>\n      <td>2.0</td>\n      <td>2.0</td>\n      <td>1382.0</td>\n      <td>144.717800</td>\n      <td>144.717800</td>\n      <td>1.0</td>\n    </tr>\n    <tr>\n      <th>Villarrasa</th>\n      <td>146.0</td>\n      <td>6.0</td>\n      <td>9.0</td>\n      <td>2211.0</td>\n      <td>271.370421</td>\n      <td>407.055631</td>\n      <td>1.0</td>\n    </tr>\n  </tbody>\n</table>\n</div>"
     },
     "metadata": {},
     "execution_count": 15
    }
   ],
   "source": [
    "# Nuevos casos desde la última captura\n",
    "tabla[tabla['Diferencia PDIA'] != 0].sort_values('Diferencia PDIA', ascending=False)"
   ]
  },
  {
   "cell_type": "code",
   "execution_count": 16,
   "metadata": {},
   "outputs": [],
   "source": [
    "if tabla[tabla['Diferencia PDIA'] != 0]['Diferencia PDIA'].sum() != 0:\n",
    "  # Save to csv\n",
    "  tabla.to_csv('covid_huelva.csv', encoding='utf-8', header=True, index=True)  "
   ]
  },
  {
   "cell_type": "code",
   "execution_count": 17,
   "metadata": {},
   "outputs": [
    {
     "output_type": "execute_result",
     "data": {
      "text/plain": [
       "Medida                             Confirmados PDIA  Confirmados PDIA 7 días  \\\n",
       "Lugar de residencia                                                            \n",
       "Rociana del Condado                           475.0                     33.0   \n",
       "Almonte                                      1365.0                    117.0   \n",
       "Cartaya                                      1221.0                     64.0   \n",
       "San Bartolomé de la Torre                     282.0                      8.0   \n",
       "Lucena del Puerto                             191.0                      7.0   \n",
       "Almonaster la Real                             62.0                      5.0   \n",
       "Cumbres Mayores                                33.0                      8.0   \n",
       "Condado-Campiña                              8468.0                    312.0   \n",
       "Palos de la Frontera                          560.0                     15.0   \n",
       "Bonares                                       229.0                      9.0   \n",
       "Villarrasa                                    146.0                      6.0   \n",
       "Moguer                                       1026.0                     42.0   \n",
       "Campillo (El)                                  70.0                      7.0   \n",
       "Aracena                                       499.0                      9.0   \n",
       "San Juan del Puerto                           423.0                     17.0   \n",
       "Bollullos Par del Condado                     746.0                     22.0   \n",
       "Niebla                                        189.0                      5.0   \n",
       "Huelva                                      27583.0                    630.0   \n",
       "Almendro (El)                                  36.0                      1.0   \n",
       "Beas                                          174.0                      6.0   \n",
       "Huelva (capital)                             7180.0                    162.0   \n",
       "Santa Ana la Real                               6.0                      1.0   \n",
       "Palma del Condado (La)                       1022.0                     11.0   \n",
       "Huelva-Costa                                16251.0                    263.0   \n",
       "Granado (El)                                   37.0                      1.0   \n",
       "Minas de Riotinto                             107.0                      5.0   \n",
       "Alosno                                        161.0                      1.0   \n",
       "Aljaraque                                     981.0                      9.0   \n",
       "Galaroza                                       18.0                      2.0   \n",
       "Valverde del Camino                           453.0                      7.0   \n",
       "Fuenteheridos                                   6.0                      1.0   \n",
       "Trigueros                                     253.0                      4.0   \n",
       "Sierra de Huelva-Andévalo Central            2448.0                     47.0   \n",
       "Aroche                                         87.0                      1.0   \n",
       "Gibraleón                                     565.0                      8.0   \n",
       "Villalba del Alcor                            471.0                      1.0   \n",
       "Punta Umbría                                  687.0                      4.0   \n",
       "Lepe                                         2059.0                     10.0   \n",
       "Calañas                                       174.0                      1.0   \n",
       "Escacena del Campo                            143.0                      1.0   \n",
       "Isla Cristina                                2024.0                      7.0   \n",
       "Ayamonte                                     1261.0                      4.0   \n",
       "\n",
       "Medida                             Confirmados PDIA 14 días  Población  \\\n",
       "Lugar de residencia                                                      \n",
       "Rociana del Condado                                    83.0     7939.0   \n",
       "Almonte                                               240.0    24507.0   \n",
       "Cartaya                                               147.0    20083.0   \n",
       "San Bartolomé de la Torre                              27.0     3761.0   \n",
       "Lucena del Puerto                                      22.0     3261.0   \n",
       "Almonaster la Real                                      9.0     1788.0   \n",
       "Cumbres Mayores                                         8.0     1749.0   \n",
       "Condado-Campiña                                       685.0   156231.0   \n",
       "Palos de la Frontera                                   51.0    11742.0   \n",
       "Bonares                                                25.0     6060.0   \n",
       "Villarrasa                                              9.0     2211.0   \n",
       "Moguer                                                 87.0    21867.0   \n",
       "Campillo (El)                                           8.0     2024.0   \n",
       "Aracena                                                29.0     8255.0   \n",
       "San Juan del Puerto                                    29.0     9411.0   \n",
       "Bollullos Par del Condado                              43.0    14387.0   \n",
       "Niebla                                                 11.0     4116.0   \n",
       "Huelva                                               1343.0   513170.0   \n",
       "Almendro (El)                                           2.0      840.0   \n",
       "Beas                                                   10.0     4341.0   \n",
       "Huelva (capital)                                      303.0   143837.0   \n",
       "Santa Ana la Real                                       1.0      475.0   \n",
       "Palma del Condado (La)                                 21.0    10801.0   \n",
       "Huelva-Costa                                          545.0   289548.0   \n",
       "Granado (El)                                            1.0      532.0   \n",
       "Minas de Riotinto                                       7.0     3812.0   \n",
       "Alosno                                                  6.0     3933.0   \n",
       "Aljaraque                                              32.0    21474.0   \n",
       "Galaroza                                                2.0     1382.0   \n",
       "Valverde del Camino                                    18.0    12750.0   \n",
       "Fuenteheridos                                           1.0      709.0   \n",
       "Trigueros                                              11.0     7862.0   \n",
       "Sierra de Huelva-Andévalo Central                      90.0    67391.0   \n",
       "Aroche                                                  3.0     3054.0   \n",
       "Gibraleón                                              12.0    12737.0   \n",
       "Villalba del Alcor                                      3.0     3366.0   \n",
       "Punta Umbría                                           13.0    15355.0   \n",
       "Lepe                                                   22.0    27880.0   \n",
       "Calañas                                                 2.0     2768.0   \n",
       "Escacena del Campo                                      1.0     2287.0   \n",
       "Isla Cristina                                           8.0    21393.0   \n",
       "Ayamonte                                                6.0    21104.0   \n",
       "\n",
       "Medida                                  tasa7       tasa14  Diferencia PDIA  \n",
       "Lugar de residencia                                                          \n",
       "Rociana del Condado                415.669480  1045.471722              4.0  \n",
       "Almonte                            477.414616   979.312033             26.0  \n",
       "Cartaya                            318.677488   731.962356              5.0  \n",
       "San Bartolomé de la Torre          212.709386   717.894177              2.0  \n",
       "Lucena del Puerto                  214.658080   674.639681              3.0  \n",
       "Almonaster la Real                 279.642058   503.355705              0.0  \n",
       "Cumbres Mayores                    457.404231   457.404231              5.0  \n",
       "Condado-Campiña                    199.704284   438.453316             62.0  \n",
       "Palos de la Frontera               127.746551   434.338273              0.0  \n",
       "Bonares                            148.514851   412.541254              2.0  \n",
       "Villarrasa                         271.370421   407.055631              1.0  \n",
       "Moguer                             192.070243   397.859789              6.0  \n",
       "Campillo (El)                      345.849802   395.256917              0.0  \n",
       "Aracena                            109.024833   351.302241              0.0  \n",
       "San Juan del Puerto                180.639677   308.150037              5.0  \n",
       "Bollullos Par del Condado          152.915827   298.880934              6.0  \n",
       "Niebla                             121.477162   267.249757              0.0  \n",
       "Huelva                             122.766335   261.706647            130.0  \n",
       "Almendro (El)                      119.047619   238.095238              0.0  \n",
       "Beas                               138.217001   230.361668              0.0  \n",
       "Huelva (capital)                   112.627488   210.655117             46.0  \n",
       "Santa Ana la Real                  210.526316   210.526316              0.0  \n",
       "Palma del Condado (La)             101.842422   194.426442              6.0  \n",
       "Huelva-Costa                        90.831227   188.224405             61.0  \n",
       "Granado (El)                       187.969925   187.969925              0.0  \n",
       "Minas de Riotinto                  131.164743   183.630640              0.0  \n",
       "Alosno                              25.425884   152.555301              0.0  \n",
       "Aljaraque                           41.911148   149.017416              4.0  \n",
       "Galaroza                           144.717800   144.717800              1.0  \n",
       "Valverde del Camino                 54.901961   141.176471              0.0  \n",
       "Fuenteheridos                      141.043724   141.043724              0.0  \n",
       "Trigueros                           50.877639   139.913508              0.0  \n",
       "Sierra de Huelva-Andévalo Central   69.742250   133.548990              6.0  \n",
       "Aroche                              32.743942    98.231827              0.0  \n",
       "Gibraleón                           62.809139    94.213708              1.0  \n",
       "Villalba del Alcor                  29.708853    89.126560              0.0  \n",
       "Punta Umbría                        26.050147    84.662976              1.0  \n",
       "Lepe                                35.868006    78.909613              2.0  \n",
       "Calañas                             36.127168    72.254335              0.0  \n",
       "Escacena del Campo                  43.725404    43.725404              0.0  \n",
       "Isla Cristina                       32.720983    37.395410              3.0  \n",
       "Ayamonte                            18.953753    28.430629              0.0  "
      ],
      "text/html": "<div>\n<style scoped>\n    .dataframe tbody tr th:only-of-type {\n        vertical-align: middle;\n    }\n\n    .dataframe tbody tr th {\n        vertical-align: top;\n    }\n\n    .dataframe thead th {\n        text-align: right;\n    }\n</style>\n<table border=\"1\" class=\"dataframe\">\n  <thead>\n    <tr style=\"text-align: right;\">\n      <th>Medida</th>\n      <th>Confirmados PDIA</th>\n      <th>Confirmados PDIA 7 días</th>\n      <th>Confirmados PDIA 14 días</th>\n      <th>Población</th>\n      <th>tasa7</th>\n      <th>tasa14</th>\n      <th>Diferencia PDIA</th>\n    </tr>\n    <tr>\n      <th>Lugar de residencia</th>\n      <th></th>\n      <th></th>\n      <th></th>\n      <th></th>\n      <th></th>\n      <th></th>\n      <th></th>\n    </tr>\n  </thead>\n  <tbody>\n    <tr>\n      <th>Rociana del Condado</th>\n      <td>475.0</td>\n      <td>33.0</td>\n      <td>83.0</td>\n      <td>7939.0</td>\n      <td>415.669480</td>\n      <td>1045.471722</td>\n      <td>4.0</td>\n    </tr>\n    <tr>\n      <th>Almonte</th>\n      <td>1365.0</td>\n      <td>117.0</td>\n      <td>240.0</td>\n      <td>24507.0</td>\n      <td>477.414616</td>\n      <td>979.312033</td>\n      <td>26.0</td>\n    </tr>\n    <tr>\n      <th>Cartaya</th>\n      <td>1221.0</td>\n      <td>64.0</td>\n      <td>147.0</td>\n      <td>20083.0</td>\n      <td>318.677488</td>\n      <td>731.962356</td>\n      <td>5.0</td>\n    </tr>\n    <tr>\n      <th>San Bartolomé de la Torre</th>\n      <td>282.0</td>\n      <td>8.0</td>\n      <td>27.0</td>\n      <td>3761.0</td>\n      <td>212.709386</td>\n      <td>717.894177</td>\n      <td>2.0</td>\n    </tr>\n    <tr>\n      <th>Lucena del Puerto</th>\n      <td>191.0</td>\n      <td>7.0</td>\n      <td>22.0</td>\n      <td>3261.0</td>\n      <td>214.658080</td>\n      <td>674.639681</td>\n      <td>3.0</td>\n    </tr>\n    <tr>\n      <th>Almonaster la Real</th>\n      <td>62.0</td>\n      <td>5.0</td>\n      <td>9.0</td>\n      <td>1788.0</td>\n      <td>279.642058</td>\n      <td>503.355705</td>\n      <td>0.0</td>\n    </tr>\n    <tr>\n      <th>Cumbres Mayores</th>\n      <td>33.0</td>\n      <td>8.0</td>\n      <td>8.0</td>\n      <td>1749.0</td>\n      <td>457.404231</td>\n      <td>457.404231</td>\n      <td>5.0</td>\n    </tr>\n    <tr>\n      <th>Condado-Campiña</th>\n      <td>8468.0</td>\n      <td>312.0</td>\n      <td>685.0</td>\n      <td>156231.0</td>\n      <td>199.704284</td>\n      <td>438.453316</td>\n      <td>62.0</td>\n    </tr>\n    <tr>\n      <th>Palos de la Frontera</th>\n      <td>560.0</td>\n      <td>15.0</td>\n      <td>51.0</td>\n      <td>11742.0</td>\n      <td>127.746551</td>\n      <td>434.338273</td>\n      <td>0.0</td>\n    </tr>\n    <tr>\n      <th>Bonares</th>\n      <td>229.0</td>\n      <td>9.0</td>\n      <td>25.0</td>\n      <td>6060.0</td>\n      <td>148.514851</td>\n      <td>412.541254</td>\n      <td>2.0</td>\n    </tr>\n    <tr>\n      <th>Villarrasa</th>\n      <td>146.0</td>\n      <td>6.0</td>\n      <td>9.0</td>\n      <td>2211.0</td>\n      <td>271.370421</td>\n      <td>407.055631</td>\n      <td>1.0</td>\n    </tr>\n    <tr>\n      <th>Moguer</th>\n      <td>1026.0</td>\n      <td>42.0</td>\n      <td>87.0</td>\n      <td>21867.0</td>\n      <td>192.070243</td>\n      <td>397.859789</td>\n      <td>6.0</td>\n    </tr>\n    <tr>\n      <th>Campillo (El)</th>\n      <td>70.0</td>\n      <td>7.0</td>\n      <td>8.0</td>\n      <td>2024.0</td>\n      <td>345.849802</td>\n      <td>395.256917</td>\n      <td>0.0</td>\n    </tr>\n    <tr>\n      <th>Aracena</th>\n      <td>499.0</td>\n      <td>9.0</td>\n      <td>29.0</td>\n      <td>8255.0</td>\n      <td>109.024833</td>\n      <td>351.302241</td>\n      <td>0.0</td>\n    </tr>\n    <tr>\n      <th>San Juan del Puerto</th>\n      <td>423.0</td>\n      <td>17.0</td>\n      <td>29.0</td>\n      <td>9411.0</td>\n      <td>180.639677</td>\n      <td>308.150037</td>\n      <td>5.0</td>\n    </tr>\n    <tr>\n      <th>Bollullos Par del Condado</th>\n      <td>746.0</td>\n      <td>22.0</td>\n      <td>43.0</td>\n      <td>14387.0</td>\n      <td>152.915827</td>\n      <td>298.880934</td>\n      <td>6.0</td>\n    </tr>\n    <tr>\n      <th>Niebla</th>\n      <td>189.0</td>\n      <td>5.0</td>\n      <td>11.0</td>\n      <td>4116.0</td>\n      <td>121.477162</td>\n      <td>267.249757</td>\n      <td>0.0</td>\n    </tr>\n    <tr>\n      <th>Huelva</th>\n      <td>27583.0</td>\n      <td>630.0</td>\n      <td>1343.0</td>\n      <td>513170.0</td>\n      <td>122.766335</td>\n      <td>261.706647</td>\n      <td>130.0</td>\n    </tr>\n    <tr>\n      <th>Almendro (El)</th>\n      <td>36.0</td>\n      <td>1.0</td>\n      <td>2.0</td>\n      <td>840.0</td>\n      <td>119.047619</td>\n      <td>238.095238</td>\n      <td>0.0</td>\n    </tr>\n    <tr>\n      <th>Beas</th>\n      <td>174.0</td>\n      <td>6.0</td>\n      <td>10.0</td>\n      <td>4341.0</td>\n      <td>138.217001</td>\n      <td>230.361668</td>\n      <td>0.0</td>\n    </tr>\n    <tr>\n      <th>Huelva (capital)</th>\n      <td>7180.0</td>\n      <td>162.0</td>\n      <td>303.0</td>\n      <td>143837.0</td>\n      <td>112.627488</td>\n      <td>210.655117</td>\n      <td>46.0</td>\n    </tr>\n    <tr>\n      <th>Santa Ana la Real</th>\n      <td>6.0</td>\n      <td>1.0</td>\n      <td>1.0</td>\n      <td>475.0</td>\n      <td>210.526316</td>\n      <td>210.526316</td>\n      <td>0.0</td>\n    </tr>\n    <tr>\n      <th>Palma del Condado (La)</th>\n      <td>1022.0</td>\n      <td>11.0</td>\n      <td>21.0</td>\n      <td>10801.0</td>\n      <td>101.842422</td>\n      <td>194.426442</td>\n      <td>6.0</td>\n    </tr>\n    <tr>\n      <th>Huelva-Costa</th>\n      <td>16251.0</td>\n      <td>263.0</td>\n      <td>545.0</td>\n      <td>289548.0</td>\n      <td>90.831227</td>\n      <td>188.224405</td>\n      <td>61.0</td>\n    </tr>\n    <tr>\n      <th>Granado (El)</th>\n      <td>37.0</td>\n      <td>1.0</td>\n      <td>1.0</td>\n      <td>532.0</td>\n      <td>187.969925</td>\n      <td>187.969925</td>\n      <td>0.0</td>\n    </tr>\n    <tr>\n      <th>Minas de Riotinto</th>\n      <td>107.0</td>\n      <td>5.0</td>\n      <td>7.0</td>\n      <td>3812.0</td>\n      <td>131.164743</td>\n      <td>183.630640</td>\n      <td>0.0</td>\n    </tr>\n    <tr>\n      <th>Alosno</th>\n      <td>161.0</td>\n      <td>1.0</td>\n      <td>6.0</td>\n      <td>3933.0</td>\n      <td>25.425884</td>\n      <td>152.555301</td>\n      <td>0.0</td>\n    </tr>\n    <tr>\n      <th>Aljaraque</th>\n      <td>981.0</td>\n      <td>9.0</td>\n      <td>32.0</td>\n      <td>21474.0</td>\n      <td>41.911148</td>\n      <td>149.017416</td>\n      <td>4.0</td>\n    </tr>\n    <tr>\n      <th>Galaroza</th>\n      <td>18.0</td>\n      <td>2.0</td>\n      <td>2.0</td>\n      <td>1382.0</td>\n      <td>144.717800</td>\n      <td>144.717800</td>\n      <td>1.0</td>\n    </tr>\n    <tr>\n      <th>Valverde del Camino</th>\n      <td>453.0</td>\n      <td>7.0</td>\n      <td>18.0</td>\n      <td>12750.0</td>\n      <td>54.901961</td>\n      <td>141.176471</td>\n      <td>0.0</td>\n    </tr>\n    <tr>\n      <th>Fuenteheridos</th>\n      <td>6.0</td>\n      <td>1.0</td>\n      <td>1.0</td>\n      <td>709.0</td>\n      <td>141.043724</td>\n      <td>141.043724</td>\n      <td>0.0</td>\n    </tr>\n    <tr>\n      <th>Trigueros</th>\n      <td>253.0</td>\n      <td>4.0</td>\n      <td>11.0</td>\n      <td>7862.0</td>\n      <td>50.877639</td>\n      <td>139.913508</td>\n      <td>0.0</td>\n    </tr>\n    <tr>\n      <th>Sierra de Huelva-Andévalo Central</th>\n      <td>2448.0</td>\n      <td>47.0</td>\n      <td>90.0</td>\n      <td>67391.0</td>\n      <td>69.742250</td>\n      <td>133.548990</td>\n      <td>6.0</td>\n    </tr>\n    <tr>\n      <th>Aroche</th>\n      <td>87.0</td>\n      <td>1.0</td>\n      <td>3.0</td>\n      <td>3054.0</td>\n      <td>32.743942</td>\n      <td>98.231827</td>\n      <td>0.0</td>\n    </tr>\n    <tr>\n      <th>Gibraleón</th>\n      <td>565.0</td>\n      <td>8.0</td>\n      <td>12.0</td>\n      <td>12737.0</td>\n      <td>62.809139</td>\n      <td>94.213708</td>\n      <td>1.0</td>\n    </tr>\n    <tr>\n      <th>Villalba del Alcor</th>\n      <td>471.0</td>\n      <td>1.0</td>\n      <td>3.0</td>\n      <td>3366.0</td>\n      <td>29.708853</td>\n      <td>89.126560</td>\n      <td>0.0</td>\n    </tr>\n    <tr>\n      <th>Punta Umbría</th>\n      <td>687.0</td>\n      <td>4.0</td>\n      <td>13.0</td>\n      <td>15355.0</td>\n      <td>26.050147</td>\n      <td>84.662976</td>\n      <td>1.0</td>\n    </tr>\n    <tr>\n      <th>Lepe</th>\n      <td>2059.0</td>\n      <td>10.0</td>\n      <td>22.0</td>\n      <td>27880.0</td>\n      <td>35.868006</td>\n      <td>78.909613</td>\n      <td>2.0</td>\n    </tr>\n    <tr>\n      <th>Calañas</th>\n      <td>174.0</td>\n      <td>1.0</td>\n      <td>2.0</td>\n      <td>2768.0</td>\n      <td>36.127168</td>\n      <td>72.254335</td>\n      <td>0.0</td>\n    </tr>\n    <tr>\n      <th>Escacena del Campo</th>\n      <td>143.0</td>\n      <td>1.0</td>\n      <td>1.0</td>\n      <td>2287.0</td>\n      <td>43.725404</td>\n      <td>43.725404</td>\n      <td>0.0</td>\n    </tr>\n    <tr>\n      <th>Isla Cristina</th>\n      <td>2024.0</td>\n      <td>7.0</td>\n      <td>8.0</td>\n      <td>21393.0</td>\n      <td>32.720983</td>\n      <td>37.395410</td>\n      <td>3.0</td>\n    </tr>\n    <tr>\n      <th>Ayamonte</th>\n      <td>1261.0</td>\n      <td>4.0</td>\n      <td>6.0</td>\n      <td>21104.0</td>\n      <td>18.953753</td>\n      <td>28.430629</td>\n      <td>0.0</td>\n    </tr>\n  </tbody>\n</table>\n</div>"
     },
     "metadata": {},
     "execution_count": 17
    }
   ],
   "source": [
    "tabla.sort_values('tasa14', ascending=False)"
   ]
  },
  {
   "cell_type": "code",
   "execution_count": 18,
   "metadata": {},
   "outputs": [
    {
     "output_type": "execute_result",
     "data": {
      "text/plain": [
       "Medida                             Confirmados PDIA  Confirmados PDIA 7 días  \\\n",
       "Lugar de residencia                                                            \n",
       "Alosno                                        161.0                      1.0   \n",
       "Aljaraque                                     981.0                      9.0   \n",
       "Palos de la Frontera                          560.0                     15.0   \n",
       "San Bartolomé de la Torre                     282.0                      8.0   \n",
       "Punta Umbría                                  687.0                      4.0   \n",
       "Aracena                                       499.0                      9.0   \n",
       "Lucena del Puerto                             191.0                      7.0   \n",
       "Aroche                                         87.0                      1.0   \n",
       "Villalba del Alcor                            471.0                      1.0   \n",
       "Bonares                                       229.0                      9.0   \n",
       "Trigueros                                     253.0                      4.0   \n",
       "Valverde del Camino                           453.0                      7.0   \n",
       "Rociana del Condado                           475.0                     33.0   \n",
       "Cartaya                                      1221.0                     64.0   \n",
       "Lepe                                         2059.0                     10.0   \n",
       "Niebla                                        189.0                      5.0   \n",
       "Condado-Campiña                              8468.0                    312.0   \n",
       "Huelva                                      27583.0                    630.0   \n",
       "Huelva-Costa                                16251.0                    263.0   \n",
       "Moguer                                       1026.0                     42.0   \n",
       "Almonte                                      1365.0                    117.0   \n",
       "Calañas                                       174.0                      1.0   \n",
       "Almendro (El)                                  36.0                      1.0   \n",
       "Bollullos Par del Condado                     746.0                     22.0   \n",
       "Sierra de Huelva-Andévalo Central            2448.0                     47.0   \n",
       "Palma del Condado (La)                       1022.0                     11.0   \n",
       "Huelva (capital)                             7180.0                    162.0   \n",
       "Almonaster la Real                             62.0                      5.0   \n",
       "San Juan del Puerto                           423.0                     17.0   \n",
       "Beas                                          174.0                      6.0   \n",
       "Villarrasa                                    146.0                      6.0   \n",
       "Ayamonte                                     1261.0                      4.0   \n",
       "Gibraleón                                     565.0                      8.0   \n",
       "Minas de Riotinto                             107.0                      5.0   \n",
       "Isla Cristina                                2024.0                      7.0   \n",
       "Campillo (El)                                  70.0                      7.0   \n",
       "Galaroza                                       18.0                      2.0   \n",
       "Fuenteheridos                                   6.0                      1.0   \n",
       "Escacena del Campo                            143.0                      1.0   \n",
       "Santa Ana la Real                               6.0                      1.0   \n",
       "Cumbres Mayores                                33.0                      8.0   \n",
       "Granado (El)                                   37.0                      1.0   \n",
       "\n",
       "Medida                             Confirmados PDIA 14 días  Población  \\\n",
       "Lugar de residencia                                                      \n",
       "Alosno                                                  6.0     3933.0   \n",
       "Aljaraque                                              32.0    21474.0   \n",
       "Palos de la Frontera                                   51.0    11742.0   \n",
       "San Bartolomé de la Torre                              27.0     3761.0   \n",
       "Punta Umbría                                           13.0    15355.0   \n",
       "Aracena                                                29.0     8255.0   \n",
       "Lucena del Puerto                                      22.0     3261.0   \n",
       "Aroche                                                  3.0     3054.0   \n",
       "Villalba del Alcor                                      3.0     3366.0   \n",
       "Bonares                                                25.0     6060.0   \n",
       "Trigueros                                              11.0     7862.0   \n",
       "Valverde del Camino                                    18.0    12750.0   \n",
       "Rociana del Condado                                    83.0     7939.0   \n",
       "Cartaya                                               147.0    20083.0   \n",
       "Lepe                                                   22.0    27880.0   \n",
       "Niebla                                                 11.0     4116.0   \n",
       "Condado-Campiña                                       685.0   156231.0   \n",
       "Huelva                                               1343.0   513170.0   \n",
       "Huelva-Costa                                          545.0   289548.0   \n",
       "Moguer                                                 87.0    21867.0   \n",
       "Almonte                                               240.0    24507.0   \n",
       "Calañas                                                 2.0     2768.0   \n",
       "Almendro (El)                                           2.0      840.0   \n",
       "Bollullos Par del Condado                              43.0    14387.0   \n",
       "Sierra de Huelva-Andévalo Central                      90.0    67391.0   \n",
       "Palma del Condado (La)                                 21.0    10801.0   \n",
       "Huelva (capital)                                      303.0   143837.0   \n",
       "Almonaster la Real                                      9.0     1788.0   \n",
       "San Juan del Puerto                                    29.0     9411.0   \n",
       "Beas                                                   10.0     4341.0   \n",
       "Villarrasa                                              9.0     2211.0   \n",
       "Ayamonte                                                6.0    21104.0   \n",
       "Gibraleón                                              12.0    12737.0   \n",
       "Minas de Riotinto                                       7.0     3812.0   \n",
       "Isla Cristina                                           8.0    21393.0   \n",
       "Campillo (El)                                           8.0     2024.0   \n",
       "Galaroza                                                2.0     1382.0   \n",
       "Fuenteheridos                                           1.0      709.0   \n",
       "Escacena del Campo                                      1.0     2287.0   \n",
       "Santa Ana la Real                                       1.0      475.0   \n",
       "Cumbres Mayores                                         8.0     1749.0   \n",
       "Granado (El)                                            1.0      532.0   \n",
       "\n",
       "Medida                                  tasa7       tasa14  Diferencia PDIA  \\\n",
       "Lugar de residencia                                                           \n",
       "Alosno                              25.425884   152.555301              0.0   \n",
       "Aljaraque                           41.911148   149.017416              4.0   \n",
       "Palos de la Frontera               127.746551   434.338273              0.0   \n",
       "San Bartolomé de la Torre          212.709386   717.894177              2.0   \n",
       "Punta Umbría                        26.050147    84.662976              1.0   \n",
       "Aracena                            109.024833   351.302241              0.0   \n",
       "Lucena del Puerto                  214.658080   674.639681              3.0   \n",
       "Aroche                              32.743942    98.231827              0.0   \n",
       "Villalba del Alcor                  29.708853    89.126560              0.0   \n",
       "Bonares                            148.514851   412.541254              2.0   \n",
       "Trigueros                           50.877639   139.913508              0.0   \n",
       "Valverde del Camino                 54.901961   141.176471              0.0   \n",
       "Rociana del Condado                415.669480  1045.471722              4.0   \n",
       "Cartaya                            318.677488   731.962356              5.0   \n",
       "Lepe                                35.868006    78.909613              2.0   \n",
       "Niebla                             121.477162   267.249757              0.0   \n",
       "Condado-Campiña                    199.704284   438.453316             62.0   \n",
       "Huelva                             122.766335   261.706647            130.0   \n",
       "Huelva-Costa                        90.831227   188.224405             61.0   \n",
       "Moguer                             192.070243   397.859789              6.0   \n",
       "Almonte                            477.414616   979.312033             26.0   \n",
       "Calañas                             36.127168    72.254335              0.0   \n",
       "Almendro (El)                      119.047619   238.095238              0.0   \n",
       "Bollullos Par del Condado          152.915827   298.880934              6.0   \n",
       "Sierra de Huelva-Andévalo Central   69.742250   133.548990              6.0   \n",
       "Palma del Condado (La)             101.842422   194.426442              6.0   \n",
       "Huelva (capital)                   112.627488   210.655117             46.0   \n",
       "Almonaster la Real                 279.642058   503.355705              0.0   \n",
       "San Juan del Puerto                180.639677   308.150037              5.0   \n",
       "Beas                               138.217001   230.361668              0.0   \n",
       "Villarrasa                         271.370421   407.055631              1.0   \n",
       "Ayamonte                            18.953753    28.430629              0.0   \n",
       "Gibraleón                           62.809139    94.213708              1.0   \n",
       "Minas de Riotinto                  131.164743   183.630640              0.0   \n",
       "Isla Cristina                       32.720983    37.395410              3.0   \n",
       "Campillo (El)                      345.849802   395.256917              0.0   \n",
       "Galaroza                           144.717800   144.717800              1.0   \n",
       "Fuenteheridos                      141.043724   141.043724              0.0   \n",
       "Escacena del Campo                  43.725404    43.725404              0.0   \n",
       "Santa Ana la Real                  210.526316   210.526316              0.0   \n",
       "Cumbres Mayores                    457.404231   457.404231              5.0   \n",
       "Granado (El)                       187.969925   187.969925              0.0   \n",
       "\n",
       "Medida                                 7/14  \n",
       "Lugar de residencia                          \n",
       "Alosno                             0.166667  \n",
       "Aljaraque                          0.281250  \n",
       "Palos de la Frontera               0.294118  \n",
       "San Bartolomé de la Torre          0.296296  \n",
       "Punta Umbría                       0.307692  \n",
       "Aracena                            0.310345  \n",
       "Lucena del Puerto                  0.318182  \n",
       "Aroche                             0.333333  \n",
       "Villalba del Alcor                 0.333333  \n",
       "Bonares                            0.360000  \n",
       "Trigueros                          0.363636  \n",
       "Valverde del Camino                0.388889  \n",
       "Rociana del Condado                0.397590  \n",
       "Cartaya                            0.435374  \n",
       "Lepe                               0.454545  \n",
       "Niebla                             0.454545  \n",
       "Condado-Campiña                    0.455474  \n",
       "Huelva                             0.469099  \n",
       "Huelva-Costa                       0.482569  \n",
       "Moguer                             0.482759  \n",
       "Almonte                            0.487500  \n",
       "Calañas                            0.500000  \n",
       "Almendro (El)                      0.500000  \n",
       "Bollullos Par del Condado          0.511628  \n",
       "Sierra de Huelva-Andévalo Central  0.522222  \n",
       "Palma del Condado (La)             0.523810  \n",
       "Huelva (capital)                   0.534653  \n",
       "Almonaster la Real                 0.555556  \n",
       "San Juan del Puerto                0.586207  \n",
       "Beas                               0.600000  \n",
       "Villarrasa                         0.666667  \n",
       "Ayamonte                           0.666667  \n",
       "Gibraleón                          0.666667  \n",
       "Minas de Riotinto                  0.714286  \n",
       "Isla Cristina                      0.875000  \n",
       "Campillo (El)                      0.875000  \n",
       "Galaroza                           1.000000  \n",
       "Fuenteheridos                      1.000000  \n",
       "Escacena del Campo                 1.000000  \n",
       "Santa Ana la Real                  1.000000  \n",
       "Cumbres Mayores                    1.000000  \n",
       "Granado (El)                       1.000000  "
      ],
      "text/html": "<div>\n<style scoped>\n    .dataframe tbody tr th:only-of-type {\n        vertical-align: middle;\n    }\n\n    .dataframe tbody tr th {\n        vertical-align: top;\n    }\n\n    .dataframe thead th {\n        text-align: right;\n    }\n</style>\n<table border=\"1\" class=\"dataframe\">\n  <thead>\n    <tr style=\"text-align: right;\">\n      <th>Medida</th>\n      <th>Confirmados PDIA</th>\n      <th>Confirmados PDIA 7 días</th>\n      <th>Confirmados PDIA 14 días</th>\n      <th>Población</th>\n      <th>tasa7</th>\n      <th>tasa14</th>\n      <th>Diferencia PDIA</th>\n      <th>7/14</th>\n    </tr>\n    <tr>\n      <th>Lugar de residencia</th>\n      <th></th>\n      <th></th>\n      <th></th>\n      <th></th>\n      <th></th>\n      <th></th>\n      <th></th>\n      <th></th>\n    </tr>\n  </thead>\n  <tbody>\n    <tr>\n      <th>Alosno</th>\n      <td>161.0</td>\n      <td>1.0</td>\n      <td>6.0</td>\n      <td>3933.0</td>\n      <td>25.425884</td>\n      <td>152.555301</td>\n      <td>0.0</td>\n      <td>0.166667</td>\n    </tr>\n    <tr>\n      <th>Aljaraque</th>\n      <td>981.0</td>\n      <td>9.0</td>\n      <td>32.0</td>\n      <td>21474.0</td>\n      <td>41.911148</td>\n      <td>149.017416</td>\n      <td>4.0</td>\n      <td>0.281250</td>\n    </tr>\n    <tr>\n      <th>Palos de la Frontera</th>\n      <td>560.0</td>\n      <td>15.0</td>\n      <td>51.0</td>\n      <td>11742.0</td>\n      <td>127.746551</td>\n      <td>434.338273</td>\n      <td>0.0</td>\n      <td>0.294118</td>\n    </tr>\n    <tr>\n      <th>San Bartolomé de la Torre</th>\n      <td>282.0</td>\n      <td>8.0</td>\n      <td>27.0</td>\n      <td>3761.0</td>\n      <td>212.709386</td>\n      <td>717.894177</td>\n      <td>2.0</td>\n      <td>0.296296</td>\n    </tr>\n    <tr>\n      <th>Punta Umbría</th>\n      <td>687.0</td>\n      <td>4.0</td>\n      <td>13.0</td>\n      <td>15355.0</td>\n      <td>26.050147</td>\n      <td>84.662976</td>\n      <td>1.0</td>\n      <td>0.307692</td>\n    </tr>\n    <tr>\n      <th>Aracena</th>\n      <td>499.0</td>\n      <td>9.0</td>\n      <td>29.0</td>\n      <td>8255.0</td>\n      <td>109.024833</td>\n      <td>351.302241</td>\n      <td>0.0</td>\n      <td>0.310345</td>\n    </tr>\n    <tr>\n      <th>Lucena del Puerto</th>\n      <td>191.0</td>\n      <td>7.0</td>\n      <td>22.0</td>\n      <td>3261.0</td>\n      <td>214.658080</td>\n      <td>674.639681</td>\n      <td>3.0</td>\n      <td>0.318182</td>\n    </tr>\n    <tr>\n      <th>Aroche</th>\n      <td>87.0</td>\n      <td>1.0</td>\n      <td>3.0</td>\n      <td>3054.0</td>\n      <td>32.743942</td>\n      <td>98.231827</td>\n      <td>0.0</td>\n      <td>0.333333</td>\n    </tr>\n    <tr>\n      <th>Villalba del Alcor</th>\n      <td>471.0</td>\n      <td>1.0</td>\n      <td>3.0</td>\n      <td>3366.0</td>\n      <td>29.708853</td>\n      <td>89.126560</td>\n      <td>0.0</td>\n      <td>0.333333</td>\n    </tr>\n    <tr>\n      <th>Bonares</th>\n      <td>229.0</td>\n      <td>9.0</td>\n      <td>25.0</td>\n      <td>6060.0</td>\n      <td>148.514851</td>\n      <td>412.541254</td>\n      <td>2.0</td>\n      <td>0.360000</td>\n    </tr>\n    <tr>\n      <th>Trigueros</th>\n      <td>253.0</td>\n      <td>4.0</td>\n      <td>11.0</td>\n      <td>7862.0</td>\n      <td>50.877639</td>\n      <td>139.913508</td>\n      <td>0.0</td>\n      <td>0.363636</td>\n    </tr>\n    <tr>\n      <th>Valverde del Camino</th>\n      <td>453.0</td>\n      <td>7.0</td>\n      <td>18.0</td>\n      <td>12750.0</td>\n      <td>54.901961</td>\n      <td>141.176471</td>\n      <td>0.0</td>\n      <td>0.388889</td>\n    </tr>\n    <tr>\n      <th>Rociana del Condado</th>\n      <td>475.0</td>\n      <td>33.0</td>\n      <td>83.0</td>\n      <td>7939.0</td>\n      <td>415.669480</td>\n      <td>1045.471722</td>\n      <td>4.0</td>\n      <td>0.397590</td>\n    </tr>\n    <tr>\n      <th>Cartaya</th>\n      <td>1221.0</td>\n      <td>64.0</td>\n      <td>147.0</td>\n      <td>20083.0</td>\n      <td>318.677488</td>\n      <td>731.962356</td>\n      <td>5.0</td>\n      <td>0.435374</td>\n    </tr>\n    <tr>\n      <th>Lepe</th>\n      <td>2059.0</td>\n      <td>10.0</td>\n      <td>22.0</td>\n      <td>27880.0</td>\n      <td>35.868006</td>\n      <td>78.909613</td>\n      <td>2.0</td>\n      <td>0.454545</td>\n    </tr>\n    <tr>\n      <th>Niebla</th>\n      <td>189.0</td>\n      <td>5.0</td>\n      <td>11.0</td>\n      <td>4116.0</td>\n      <td>121.477162</td>\n      <td>267.249757</td>\n      <td>0.0</td>\n      <td>0.454545</td>\n    </tr>\n    <tr>\n      <th>Condado-Campiña</th>\n      <td>8468.0</td>\n      <td>312.0</td>\n      <td>685.0</td>\n      <td>156231.0</td>\n      <td>199.704284</td>\n      <td>438.453316</td>\n      <td>62.0</td>\n      <td>0.455474</td>\n    </tr>\n    <tr>\n      <th>Huelva</th>\n      <td>27583.0</td>\n      <td>630.0</td>\n      <td>1343.0</td>\n      <td>513170.0</td>\n      <td>122.766335</td>\n      <td>261.706647</td>\n      <td>130.0</td>\n      <td>0.469099</td>\n    </tr>\n    <tr>\n      <th>Huelva-Costa</th>\n      <td>16251.0</td>\n      <td>263.0</td>\n      <td>545.0</td>\n      <td>289548.0</td>\n      <td>90.831227</td>\n      <td>188.224405</td>\n      <td>61.0</td>\n      <td>0.482569</td>\n    </tr>\n    <tr>\n      <th>Moguer</th>\n      <td>1026.0</td>\n      <td>42.0</td>\n      <td>87.0</td>\n      <td>21867.0</td>\n      <td>192.070243</td>\n      <td>397.859789</td>\n      <td>6.0</td>\n      <td>0.482759</td>\n    </tr>\n    <tr>\n      <th>Almonte</th>\n      <td>1365.0</td>\n      <td>117.0</td>\n      <td>240.0</td>\n      <td>24507.0</td>\n      <td>477.414616</td>\n      <td>979.312033</td>\n      <td>26.0</td>\n      <td>0.487500</td>\n    </tr>\n    <tr>\n      <th>Calañas</th>\n      <td>174.0</td>\n      <td>1.0</td>\n      <td>2.0</td>\n      <td>2768.0</td>\n      <td>36.127168</td>\n      <td>72.254335</td>\n      <td>0.0</td>\n      <td>0.500000</td>\n    </tr>\n    <tr>\n      <th>Almendro (El)</th>\n      <td>36.0</td>\n      <td>1.0</td>\n      <td>2.0</td>\n      <td>840.0</td>\n      <td>119.047619</td>\n      <td>238.095238</td>\n      <td>0.0</td>\n      <td>0.500000</td>\n    </tr>\n    <tr>\n      <th>Bollullos Par del Condado</th>\n      <td>746.0</td>\n      <td>22.0</td>\n      <td>43.0</td>\n      <td>14387.0</td>\n      <td>152.915827</td>\n      <td>298.880934</td>\n      <td>6.0</td>\n      <td>0.511628</td>\n    </tr>\n    <tr>\n      <th>Sierra de Huelva-Andévalo Central</th>\n      <td>2448.0</td>\n      <td>47.0</td>\n      <td>90.0</td>\n      <td>67391.0</td>\n      <td>69.742250</td>\n      <td>133.548990</td>\n      <td>6.0</td>\n      <td>0.522222</td>\n    </tr>\n    <tr>\n      <th>Palma del Condado (La)</th>\n      <td>1022.0</td>\n      <td>11.0</td>\n      <td>21.0</td>\n      <td>10801.0</td>\n      <td>101.842422</td>\n      <td>194.426442</td>\n      <td>6.0</td>\n      <td>0.523810</td>\n    </tr>\n    <tr>\n      <th>Huelva (capital)</th>\n      <td>7180.0</td>\n      <td>162.0</td>\n      <td>303.0</td>\n      <td>143837.0</td>\n      <td>112.627488</td>\n      <td>210.655117</td>\n      <td>46.0</td>\n      <td>0.534653</td>\n    </tr>\n    <tr>\n      <th>Almonaster la Real</th>\n      <td>62.0</td>\n      <td>5.0</td>\n      <td>9.0</td>\n      <td>1788.0</td>\n      <td>279.642058</td>\n      <td>503.355705</td>\n      <td>0.0</td>\n      <td>0.555556</td>\n    </tr>\n    <tr>\n      <th>San Juan del Puerto</th>\n      <td>423.0</td>\n      <td>17.0</td>\n      <td>29.0</td>\n      <td>9411.0</td>\n      <td>180.639677</td>\n      <td>308.150037</td>\n      <td>5.0</td>\n      <td>0.586207</td>\n    </tr>\n    <tr>\n      <th>Beas</th>\n      <td>174.0</td>\n      <td>6.0</td>\n      <td>10.0</td>\n      <td>4341.0</td>\n      <td>138.217001</td>\n      <td>230.361668</td>\n      <td>0.0</td>\n      <td>0.600000</td>\n    </tr>\n    <tr>\n      <th>Villarrasa</th>\n      <td>146.0</td>\n      <td>6.0</td>\n      <td>9.0</td>\n      <td>2211.0</td>\n      <td>271.370421</td>\n      <td>407.055631</td>\n      <td>1.0</td>\n      <td>0.666667</td>\n    </tr>\n    <tr>\n      <th>Ayamonte</th>\n      <td>1261.0</td>\n      <td>4.0</td>\n      <td>6.0</td>\n      <td>21104.0</td>\n      <td>18.953753</td>\n      <td>28.430629</td>\n      <td>0.0</td>\n      <td>0.666667</td>\n    </tr>\n    <tr>\n      <th>Gibraleón</th>\n      <td>565.0</td>\n      <td>8.0</td>\n      <td>12.0</td>\n      <td>12737.0</td>\n      <td>62.809139</td>\n      <td>94.213708</td>\n      <td>1.0</td>\n      <td>0.666667</td>\n    </tr>\n    <tr>\n      <th>Minas de Riotinto</th>\n      <td>107.0</td>\n      <td>5.0</td>\n      <td>7.0</td>\n      <td>3812.0</td>\n      <td>131.164743</td>\n      <td>183.630640</td>\n      <td>0.0</td>\n      <td>0.714286</td>\n    </tr>\n    <tr>\n      <th>Isla Cristina</th>\n      <td>2024.0</td>\n      <td>7.0</td>\n      <td>8.0</td>\n      <td>21393.0</td>\n      <td>32.720983</td>\n      <td>37.395410</td>\n      <td>3.0</td>\n      <td>0.875000</td>\n    </tr>\n    <tr>\n      <th>Campillo (El)</th>\n      <td>70.0</td>\n      <td>7.0</td>\n      <td>8.0</td>\n      <td>2024.0</td>\n      <td>345.849802</td>\n      <td>395.256917</td>\n      <td>0.0</td>\n      <td>0.875000</td>\n    </tr>\n    <tr>\n      <th>Galaroza</th>\n      <td>18.0</td>\n      <td>2.0</td>\n      <td>2.0</td>\n      <td>1382.0</td>\n      <td>144.717800</td>\n      <td>144.717800</td>\n      <td>1.0</td>\n      <td>1.000000</td>\n    </tr>\n    <tr>\n      <th>Fuenteheridos</th>\n      <td>6.0</td>\n      <td>1.0</td>\n      <td>1.0</td>\n      <td>709.0</td>\n      <td>141.043724</td>\n      <td>141.043724</td>\n      <td>0.0</td>\n      <td>1.000000</td>\n    </tr>\n    <tr>\n      <th>Escacena del Campo</th>\n      <td>143.0</td>\n      <td>1.0</td>\n      <td>1.0</td>\n      <td>2287.0</td>\n      <td>43.725404</td>\n      <td>43.725404</td>\n      <td>0.0</td>\n      <td>1.000000</td>\n    </tr>\n    <tr>\n      <th>Santa Ana la Real</th>\n      <td>6.0</td>\n      <td>1.0</td>\n      <td>1.0</td>\n      <td>475.0</td>\n      <td>210.526316</td>\n      <td>210.526316</td>\n      <td>0.0</td>\n      <td>1.000000</td>\n    </tr>\n    <tr>\n      <th>Cumbres Mayores</th>\n      <td>33.0</td>\n      <td>8.0</td>\n      <td>8.0</td>\n      <td>1749.0</td>\n      <td>457.404231</td>\n      <td>457.404231</td>\n      <td>5.0</td>\n      <td>1.000000</td>\n    </tr>\n    <tr>\n      <th>Granado (El)</th>\n      <td>37.0</td>\n      <td>1.0</td>\n      <td>1.0</td>\n      <td>532.0</td>\n      <td>187.969925</td>\n      <td>187.969925</td>\n      <td>0.0</td>\n      <td>1.000000</td>\n    </tr>\n  </tbody>\n</table>\n</div>"
     },
     "metadata": {},
     "execution_count": 18
    }
   ],
   "source": [
    "# Peso de la tasa de la última semana en relación con la tasa a 14 días \n",
    "# Mejor cuanto menor. Valor 1 significa que no había casos antes de 7 días.\n",
    "tabla['7/14'] = tabla['tasa7'] / tabla['tasa14']\n",
    "tabla.fillna(0).sort_values('7/14', ascending=True)"
   ]
  },
  {
   "cell_type": "code",
   "execution_count": null,
   "metadata": {},
   "outputs": [],
   "source": []
  }
 ]
}