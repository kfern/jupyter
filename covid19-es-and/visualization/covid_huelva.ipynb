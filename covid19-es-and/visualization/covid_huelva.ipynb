{
 "metadata": {
  "language_info": {
   "codemirror_mode": {
    "name": "ipython",
    "version": 3
   },
   "file_extension": ".py",
   "mimetype": "text/x-python",
   "name": "python",
   "nbconvert_exporter": "python",
   "pygments_lexer": "ipython3",
   "version": "3.6.9-final"
  },
  "orig_nbformat": 2,
  "kernelspec": {
   "name": "Python 3.6.9 64-bit",
   "display_name": "Python 3.6.9 64-bit",
   "metadata": {
    "interpreter": {
     "hash": "31f2aee4e71d21fbe5cf8b01ff0e069b9275f58929596ceb00d14d90e3e16cd6"
    }
   }
  }
 },
 "nbformat": 4,
 "nbformat_minor": 2,
 "cells": [
  {
   "cell_type": "code",
   "execution_count": 1,
   "metadata": {},
   "outputs": [],
   "source": [
    "import pandas as pd"
   ]
  },
  {
   "cell_type": "code",
   "execution_count": 2,
   "metadata": {},
   "outputs": [],
   "source": [
    "# FIX SSL: CERTIFICATE_VERIFY_FAILED with Python3\n",
    "# https://stackoverflow.com/a/49174340\n",
    "import ssl\n",
    "\n",
    "ssl._create_default_https_context = ssl._create_unverified_context"
   ]
  },
  {
   "cell_type": "code",
   "execution_count": 3,
   "metadata": {},
   "outputs": [],
   "source": [
    "url = 'https://www.juntadeandalucia.es/institutodeestadisticaycartografia/badea/stpivot/stpivot/Print?cube=013d884c-cfc5-4c21-9e78-e26225682afd&type=3&foto=si&ejecutaDesde=&codConsulta=38668&consTipoVisua=JP'\n",
    "fields = ['Lugar de residencia', 'Medida', 'Valor']\n",
    "df = pd.read_csv(url, delimiter=';', usecols=fields, decimal=',')"
   ]
  },
  {
   "cell_type": "code",
   "execution_count": 4,
   "metadata": {},
   "outputs": [
    {
     "output_type": "execute_result",
     "data": {
      "text/plain": [
       "                     Lugar de residencia                    Medida  \\\n",
       "0                                 Huelva                 Población   \n",
       "1                                 Huelva          Confirmados PDIA   \n",
       "2                                 Huelva  Confirmados PDIA 14 días   \n",
       "3                                 Huelva         Tasa PDIA 14 días   \n",
       "4                                 Huelva   Confirmados PDIA 7 días   \n",
       "..                                   ...                       ...   \n",
       "627  Municipio de Huelva sin especificar         Tasa PDIA 14 días   \n",
       "628  Municipio de Huelva sin especificar   Confirmados PDIA 7 días   \n",
       "629  Municipio de Huelva sin especificar        Total Confirmados    \n",
       "630  Municipio de Huelva sin especificar                   Curados   \n",
       "631  Municipio de Huelva sin especificar                Fallecidos   \n",
       "\n",
       "                 Valor  \n",
       "0               510743  \n",
       "1                 3421  \n",
       "2                 1400  \n",
       "3    274,1104626005643  \n",
       "4                  874  \n",
       "..                 ...  \n",
       "627                  -  \n",
       "628                 64  \n",
       "629                 95  \n",
       "630                  9  \n",
       "631                  1  \n",
       "\n",
       "[632 rows x 3 columns]"
      ],
      "text/html": "<div>\n<style scoped>\n    .dataframe tbody tr th:only-of-type {\n        vertical-align: middle;\n    }\n\n    .dataframe tbody tr th {\n        vertical-align: top;\n    }\n\n    .dataframe thead th {\n        text-align: right;\n    }\n</style>\n<table border=\"1\" class=\"dataframe\">\n  <thead>\n    <tr style=\"text-align: right;\">\n      <th></th>\n      <th>Lugar de residencia</th>\n      <th>Medida</th>\n      <th>Valor</th>\n    </tr>\n  </thead>\n  <tbody>\n    <tr>\n      <th>0</th>\n      <td>Huelva</td>\n      <td>Población</td>\n      <td>510743</td>\n    </tr>\n    <tr>\n      <th>1</th>\n      <td>Huelva</td>\n      <td>Confirmados PDIA</td>\n      <td>3421</td>\n    </tr>\n    <tr>\n      <th>2</th>\n      <td>Huelva</td>\n      <td>Confirmados PDIA 14 días</td>\n      <td>1400</td>\n    </tr>\n    <tr>\n      <th>3</th>\n      <td>Huelva</td>\n      <td>Tasa PDIA 14 días</td>\n      <td>274,1104626005643</td>\n    </tr>\n    <tr>\n      <th>4</th>\n      <td>Huelva</td>\n      <td>Confirmados PDIA 7 días</td>\n      <td>874</td>\n    </tr>\n    <tr>\n      <th>...</th>\n      <td>...</td>\n      <td>...</td>\n      <td>...</td>\n    </tr>\n    <tr>\n      <th>627</th>\n      <td>Municipio de Huelva sin especificar</td>\n      <td>Tasa PDIA 14 días</td>\n      <td>-</td>\n    </tr>\n    <tr>\n      <th>628</th>\n      <td>Municipio de Huelva sin especificar</td>\n      <td>Confirmados PDIA 7 días</td>\n      <td>64</td>\n    </tr>\n    <tr>\n      <th>629</th>\n      <td>Municipio de Huelva sin especificar</td>\n      <td>Total Confirmados</td>\n      <td>95</td>\n    </tr>\n    <tr>\n      <th>630</th>\n      <td>Municipio de Huelva sin especificar</td>\n      <td>Curados</td>\n      <td>9</td>\n    </tr>\n    <tr>\n      <th>631</th>\n      <td>Municipio de Huelva sin especificar</td>\n      <td>Fallecidos</td>\n      <td>1</td>\n    </tr>\n  </tbody>\n</table>\n<p>632 rows × 3 columns</p>\n</div>"
     },
     "metadata": {},
     "execution_count": 4
    }
   ],
   "source": [
    "df"
   ]
  },
  {
   "cell_type": "code",
   "execution_count": 5,
   "metadata": {},
   "outputs": [],
   "source": [
    "df['Valor'] = pd.to_numeric(df['Valor'],errors='coerce')"
   ]
  },
  {
   "cell_type": "code",
   "execution_count": 6,
   "metadata": {},
   "outputs": [],
   "source": [
    "dfAnterior = pd.read_csv('covid_huelva.csv', index_col='Lugar de residencia')"
   ]
  },
  {
   "cell_type": "code",
   "execution_count": 7,
   "metadata": {
    "tags": []
   },
   "outputs": [
    {
     "output_type": "stream",
     "name": "stdout",
     "text": [
      "Confirmados PCR en la provincia de Huelva:  3421.0\n"
     ]
    }
   ],
   "source": [
    "# Confirmados PCR provincia Huelva\n",
    "p = df[df['Lugar de residencia'] == 'Huelva'][df['Medida'] == 'Confirmados PDIA']['Valor'].values[0]\n",
    "print('Confirmados PCR en la provincia de Huelva: ', p)"
   ]
  },
  {
   "cell_type": "code",
   "execution_count": 8,
   "metadata": {
    "tags": []
   },
   "outputs": [
    {
     "output_type": "stream",
     "name": "stdout",
     "text": [
      "Confirmados PCR en Huelva capital:  903.0\n"
     ]
    }
   ],
   "source": [
    "# Confirmados PCR Huelva capitalpd\n",
    "c = df[df['Lugar de residencia'] == 'Huelva (capital)'][df['Medida'] == 'Confirmados PDIA']['Valor'].values[0]\n",
    "print('Confirmados PCR en Huelva capital: ', c)"
   ]
  },
  {
   "cell_type": "code",
   "execution_count": 9,
   "metadata": {
    "tags": []
   },
   "outputs": [],
   "source": [
    "c7 = df[df['Lugar de residencia'] == 'Huelva (capital)'][df['Medida'] == 'Confirmados PDIA 7 días']['Valor'].values[0]\n",
    "c14 = df[df['Lugar de residencia'] == 'Huelva (capital)'][df['Medida'] == 'Confirmados PDIA 14 días']['Valor'].values[0]\n",
    "p = df[df['Lugar de residencia'] == 'Huelva (capital)'][df['Medida'] == 'Población']['Valor'].values[0]"
   ]
  },
  {
   "cell_type": "code",
   "execution_count": 10,
   "metadata": {
    "tags": []
   },
   "outputs": [
    {
     "output_type": "stream",
     "name": "stdout",
     "text": [
      "Huelva (capital)\n\nUn positivo PCR cada 589 personas en los últimos 7 días \n\nUn positivo PCR cada 390 personas en los últimos 14 días\n"
     ]
    }
   ],
   "source": [
    "print('Huelva (capital)\\n')\n",
    "#print('Confirmados PCR 7 días x 1,000 habitantes: ', f\"{c7/(p/1000):.5f}\")\n",
    "print('Un positivo PCR cada', f\"{p/c7:.0f}\", 'personas en los últimos 7 días', '\\n')\n",
    "#print('Confirmados PCR 14 días x 1,000 habitantes: ', f\"{c14/(p/1000):.5f}\")\n",
    "print('Un positivo PCR cada', f\"{p/c14:.0f}\", 'personas en los últimos 14 días')"
   ]
  },
  {
   "cell_type": "code",
   "execution_count": 11,
   "metadata": {},
   "outputs": [],
   "source": [
    "filtro = ((df['Medida'] == 'Confirmados PDIA')| (df['Medida'] == 'Confirmados PDIA 7 días') | (df['Medida'] == 'Población' ) | (df['Medida'] == 'Confirmados PDIA 14 días')) & (df['Valor'] > 0)\n",
    "tabla = pd.pivot_table(df.loc[filtro], values='Valor', index='Lugar de residencia', columns='Medida').dropna()"
   ]
  },
  {
   "cell_type": "code",
   "execution_count": 12,
   "metadata": {},
   "outputs": [],
   "source": [
    "# Reorder columns\n",
    "tabla = tabla[['Confirmados PDIA', 'Confirmados PDIA 7 días', 'Confirmados PDIA 14 días', 'Población']]"
   ]
  },
  {
   "cell_type": "code",
   "execution_count": 13,
   "metadata": {},
   "outputs": [],
   "source": [
    "tabla['tasa7'] = tabla['Confirmados PDIA 7 días']/tabla['Población']*100000\n",
    "tabla['tasa14'] = tabla['Confirmados PDIA 14 días']/tabla['Población']*100000"
   ]
  },
  {
   "cell_type": "code",
   "execution_count": 14,
   "metadata": {},
   "outputs": [],
   "source": [
    "tabla['Diferencia PDIA'] = tabla['Confirmados PDIA'] - dfAnterior['Confirmados PDIA']"
   ]
  },
  {
   "cell_type": "code",
   "execution_count": 15,
   "metadata": {},
   "outputs": [
    {
     "output_type": "execute_result",
     "data": {
      "text/plain": [
       "Medida                             Confirmados PDIA  Confirmados PDIA 7 días  \\\n",
       "Lugar de residencia                                                            \n",
       "Huelva                                       3421.0                    874.0   \n",
       "Huelva-Costa                                 1717.0                    416.0   \n",
       "Huelva (capital)                              903.0                    244.0   \n",
       "Condado-Campiña                              1055.0                    229.0   \n",
       "Sierra de Huelva-Andévalo Central             554.0                    165.0   \n",
       "Almonte                                       157.0                     59.0   \n",
       "Valverde del Camino                            91.0                     50.0   \n",
       "Lepe                                          256.0                     61.0   \n",
       "Gibraleón                                      85.0                     30.0   \n",
       "Palma del Condado (La)                        159.0                     37.0   \n",
       "Escacena del Campo                             41.0                     21.0   \n",
       "Aljaraque                                     123.0                     24.0   \n",
       "Calañas                                        22.0                     18.0   \n",
       "Aracena                                        86.0                     17.0   \n",
       "Punta Umbría                                   57.0                     15.0   \n",
       "Cortegana                                     109.0                     40.0   \n",
       "Villarrasa                                     45.0                     13.0   \n",
       "Niebla                                         27.0                     11.0   \n",
       "Isla Cristina                                 106.0                     14.0   \n",
       "Bollullos Par del Condado                     139.0                     16.0   \n",
       "Nerva                                          43.0                      9.0   \n",
       "Ayamonte                                       81.0                     17.0   \n",
       "Trigueros                                      55.0                     12.0   \n",
       "San Juan del Puerto                            88.0                      8.0   \n",
       "Cartaya                                        76.0                     26.0   \n",
       "Moguer                                         66.0                      3.0   \n",
       "Aroche                                         17.0                      5.0   \n",
       "Villanueva de los Castillejos                  30.0                      4.0   \n",
       "Almonaster la Real                             18.0                      7.0   \n",
       "Rosal de la Frontera                            9.0                      4.0   \n",
       "Rociana del Condado                            16.0                      2.0   \n",
       "Campillo (El)                                  30.0                      2.0   \n",
       "Palos de la Frontera                           43.0                      8.0   \n",
       "Cerro de Andévalo (El)                         25.0                      3.0   \n",
       "Granado (El)                                   32.0                      4.0   \n",
       "Almendro (El)                                   6.0                      1.0   \n",
       "Beas                                           12.0                      3.0   \n",
       "Encinasola                                      2.0                      1.0   \n",
       "Fuenteheridos                                   2.0                      1.0   \n",
       "San Silvestre de Guzmán                         1.0                      1.0   \n",
       "\n",
       "Medida                             Confirmados PDIA 14 días  Población  \\\n",
       "Lugar de residencia                                                      \n",
       "Huelva                                               1400.0   510743.0   \n",
       "Huelva-Costa                                          674.0   288115.0   \n",
       "Huelva (capital)                                      368.0   143663.0   \n",
       "Condado-Campiña                                       365.0   155057.0   \n",
       "Sierra de Huelva-Andévalo Central                     297.0    67571.0   \n",
       "Almonte                                                91.0    24191.0   \n",
       "Valverde del Camino                                    59.0    12820.0   \n",
       "Lepe                                                  111.0    27431.0   \n",
       "Gibraleón                                              46.0    12607.0   \n",
       "Palma del Condado (La)                                 61.0    10761.0   \n",
       "Escacena del Campo                                     23.0     2284.0   \n",
       "Aljaraque                                              39.0    21260.0   \n",
       "Calañas                                                19.0     2791.0   \n",
       "Aracena                                                28.0     8107.0   \n",
       "Punta Umbría                                           18.0    15242.0   \n",
       "Cortegana                                              96.0     4666.0   \n",
       "Villarrasa                                             18.0     2176.0   \n",
       "Niebla                                                 19.0     4117.0   \n",
       "Isla Cristina                                          28.0    21264.0   \n",
       "Bollullos Par del Condado                              26.0    14272.0   \n",
       "Nerva                                                  17.0     5235.0   \n",
       "Ayamonte                                               29.0    20946.0   \n",
       "Trigueros                                              17.0     7713.0   \n",
       "San Juan del Puerto                                    12.0     9300.0   \n",
       "Cartaya                                                41.0    19974.0   \n",
       "Moguer                                                 11.0    22088.0   \n",
       "Aroche                                                  7.0     3073.0   \n",
       "Villanueva de los Castillejos                          12.0     2820.0   \n",
       "Almonaster la Real                                     16.0     1819.0   \n",
       "Rosal de la Frontera                                    7.0     1697.0   \n",
       "Rociana del Condado                                     5.0     7855.0   \n",
       "Campillo (El)                                           3.0     2023.0   \n",
       "Palos de la Frontera                                   13.0    11289.0   \n",
       "Cerro de Andévalo (El)                                 20.0     2364.0   \n",
       "Granado (El)                                           20.0      516.0   \n",
       "Almendro (El)                                           1.0      826.0   \n",
       "Beas                                                    3.0     4257.0   \n",
       "Encinasola                                              1.0     1305.0   \n",
       "Fuenteheridos                                           1.0      678.0   \n",
       "San Silvestre de Guzmán                                 1.0      623.0   \n",
       "\n",
       "Medida                                  tasa7       tasa14  Diferencia PDIA  \n",
       "Lugar de residencia                                                          \n",
       "Huelva                             171.123246   274.110463            468.0  \n",
       "Huelva-Costa                       144.386790   233.934366            204.0  \n",
       "Huelva (capital)                   169.841922   256.155029            131.0  \n",
       "Condado-Campiña                    147.687625   235.397306            126.0  \n",
       "Sierra de Huelva-Andévalo Central  244.187595   439.537671             75.0  \n",
       "Almonte                            243.892357   376.172957             32.0  \n",
       "Valverde del Camino                390.015601   460.218409             27.0  \n",
       "Lepe                               222.376144   404.651671             26.0  \n",
       "Gibraleón                          237.963036   364.876656             19.0  \n",
       "Palma del Condado (La)             343.834216   566.861816             17.0  \n",
       "Escacena del Campo                 919.439580  1007.005254             16.0  \n",
       "Aljaraque                          112.888053   183.443086             14.0  \n",
       "Calañas                            644.930133   680.759584             12.0  \n",
       "Aracena                            209.695325   345.380535             12.0  \n",
       "Punta Umbría                        98.412282   118.094738             10.0  \n",
       "Cortegana                          857.265324  2057.436777              9.0  \n",
       "Villarrasa                         597.426471   827.205882              9.0  \n",
       "Niebla                             267.184843   461.501093              8.0  \n",
       "Isla Cristina                       65.838977   131.677953              8.0  \n",
       "Bollullos Par del Condado          112.107623   182.174888              6.0  \n",
       "Nerva                              171.919771   324.737345              6.0  \n",
       "Ayamonte                            81.161081   138.451256              6.0  \n",
       "Trigueros                          155.581486   220.407105              6.0  \n",
       "San Juan del Puerto                 86.021505   129.032258              5.0  \n",
       "Cartaya                            130.169220   205.266847              4.0  \n",
       "Moguer                              13.582035    49.800797              3.0  \n",
       "Aroche                             162.707452   227.790433              3.0  \n",
       "Villanueva de los Castillejos      141.843972   425.531915              2.0  \n",
       "Almonaster la Real                 384.826828   879.604178              1.0  \n",
       "Rosal de la Frontera               235.710077   412.492634              1.0  \n",
       "Rociana del Condado                 25.461489    63.653724              1.0  \n",
       "Campillo (El)                       98.863075   148.294612              1.0  \n",
       "Palos de la Frontera                70.865444   115.156347              1.0  \n",
       "Cerro de Andévalo (El)             126.903553   846.023689              1.0  \n",
       "Granado (El)                       775.193798  3875.968992              1.0  \n",
       "Almendro (El)                      121.065375   121.065375              NaN  \n",
       "Beas                                70.472163    70.472163              NaN  \n",
       "Encinasola                          76.628352    76.628352              NaN  \n",
       "Fuenteheridos                      147.492625   147.492625              NaN  \n",
       "San Silvestre de Guzmán            160.513644   160.513644              NaN  "
      ],
      "text/html": "<div>\n<style scoped>\n    .dataframe tbody tr th:only-of-type {\n        vertical-align: middle;\n    }\n\n    .dataframe tbody tr th {\n        vertical-align: top;\n    }\n\n    .dataframe thead th {\n        text-align: right;\n    }\n</style>\n<table border=\"1\" class=\"dataframe\">\n  <thead>\n    <tr style=\"text-align: right;\">\n      <th>Medida</th>\n      <th>Confirmados PDIA</th>\n      <th>Confirmados PDIA 7 días</th>\n      <th>Confirmados PDIA 14 días</th>\n      <th>Población</th>\n      <th>tasa7</th>\n      <th>tasa14</th>\n      <th>Diferencia PDIA</th>\n    </tr>\n    <tr>\n      <th>Lugar de residencia</th>\n      <th></th>\n      <th></th>\n      <th></th>\n      <th></th>\n      <th></th>\n      <th></th>\n      <th></th>\n    </tr>\n  </thead>\n  <tbody>\n    <tr>\n      <th>Huelva</th>\n      <td>3421.0</td>\n      <td>874.0</td>\n      <td>1400.0</td>\n      <td>510743.0</td>\n      <td>171.123246</td>\n      <td>274.110463</td>\n      <td>468.0</td>\n    </tr>\n    <tr>\n      <th>Huelva-Costa</th>\n      <td>1717.0</td>\n      <td>416.0</td>\n      <td>674.0</td>\n      <td>288115.0</td>\n      <td>144.386790</td>\n      <td>233.934366</td>\n      <td>204.0</td>\n    </tr>\n    <tr>\n      <th>Huelva (capital)</th>\n      <td>903.0</td>\n      <td>244.0</td>\n      <td>368.0</td>\n      <td>143663.0</td>\n      <td>169.841922</td>\n      <td>256.155029</td>\n      <td>131.0</td>\n    </tr>\n    <tr>\n      <th>Condado-Campiña</th>\n      <td>1055.0</td>\n      <td>229.0</td>\n      <td>365.0</td>\n      <td>155057.0</td>\n      <td>147.687625</td>\n      <td>235.397306</td>\n      <td>126.0</td>\n    </tr>\n    <tr>\n      <th>Sierra de Huelva-Andévalo Central</th>\n      <td>554.0</td>\n      <td>165.0</td>\n      <td>297.0</td>\n      <td>67571.0</td>\n      <td>244.187595</td>\n      <td>439.537671</td>\n      <td>75.0</td>\n    </tr>\n    <tr>\n      <th>Almonte</th>\n      <td>157.0</td>\n      <td>59.0</td>\n      <td>91.0</td>\n      <td>24191.0</td>\n      <td>243.892357</td>\n      <td>376.172957</td>\n      <td>32.0</td>\n    </tr>\n    <tr>\n      <th>Valverde del Camino</th>\n      <td>91.0</td>\n      <td>50.0</td>\n      <td>59.0</td>\n      <td>12820.0</td>\n      <td>390.015601</td>\n      <td>460.218409</td>\n      <td>27.0</td>\n    </tr>\n    <tr>\n      <th>Lepe</th>\n      <td>256.0</td>\n      <td>61.0</td>\n      <td>111.0</td>\n      <td>27431.0</td>\n      <td>222.376144</td>\n      <td>404.651671</td>\n      <td>26.0</td>\n    </tr>\n    <tr>\n      <th>Gibraleón</th>\n      <td>85.0</td>\n      <td>30.0</td>\n      <td>46.0</td>\n      <td>12607.0</td>\n      <td>237.963036</td>\n      <td>364.876656</td>\n      <td>19.0</td>\n    </tr>\n    <tr>\n      <th>Palma del Condado (La)</th>\n      <td>159.0</td>\n      <td>37.0</td>\n      <td>61.0</td>\n      <td>10761.0</td>\n      <td>343.834216</td>\n      <td>566.861816</td>\n      <td>17.0</td>\n    </tr>\n    <tr>\n      <th>Escacena del Campo</th>\n      <td>41.0</td>\n      <td>21.0</td>\n      <td>23.0</td>\n      <td>2284.0</td>\n      <td>919.439580</td>\n      <td>1007.005254</td>\n      <td>16.0</td>\n    </tr>\n    <tr>\n      <th>Aljaraque</th>\n      <td>123.0</td>\n      <td>24.0</td>\n      <td>39.0</td>\n      <td>21260.0</td>\n      <td>112.888053</td>\n      <td>183.443086</td>\n      <td>14.0</td>\n    </tr>\n    <tr>\n      <th>Calañas</th>\n      <td>22.0</td>\n      <td>18.0</td>\n      <td>19.0</td>\n      <td>2791.0</td>\n      <td>644.930133</td>\n      <td>680.759584</td>\n      <td>12.0</td>\n    </tr>\n    <tr>\n      <th>Aracena</th>\n      <td>86.0</td>\n      <td>17.0</td>\n      <td>28.0</td>\n      <td>8107.0</td>\n      <td>209.695325</td>\n      <td>345.380535</td>\n      <td>12.0</td>\n    </tr>\n    <tr>\n      <th>Punta Umbría</th>\n      <td>57.0</td>\n      <td>15.0</td>\n      <td>18.0</td>\n      <td>15242.0</td>\n      <td>98.412282</td>\n      <td>118.094738</td>\n      <td>10.0</td>\n    </tr>\n    <tr>\n      <th>Cortegana</th>\n      <td>109.0</td>\n      <td>40.0</td>\n      <td>96.0</td>\n      <td>4666.0</td>\n      <td>857.265324</td>\n      <td>2057.436777</td>\n      <td>9.0</td>\n    </tr>\n    <tr>\n      <th>Villarrasa</th>\n      <td>45.0</td>\n      <td>13.0</td>\n      <td>18.0</td>\n      <td>2176.0</td>\n      <td>597.426471</td>\n      <td>827.205882</td>\n      <td>9.0</td>\n    </tr>\n    <tr>\n      <th>Niebla</th>\n      <td>27.0</td>\n      <td>11.0</td>\n      <td>19.0</td>\n      <td>4117.0</td>\n      <td>267.184843</td>\n      <td>461.501093</td>\n      <td>8.0</td>\n    </tr>\n    <tr>\n      <th>Isla Cristina</th>\n      <td>106.0</td>\n      <td>14.0</td>\n      <td>28.0</td>\n      <td>21264.0</td>\n      <td>65.838977</td>\n      <td>131.677953</td>\n      <td>8.0</td>\n    </tr>\n    <tr>\n      <th>Bollullos Par del Condado</th>\n      <td>139.0</td>\n      <td>16.0</td>\n      <td>26.0</td>\n      <td>14272.0</td>\n      <td>112.107623</td>\n      <td>182.174888</td>\n      <td>6.0</td>\n    </tr>\n    <tr>\n      <th>Nerva</th>\n      <td>43.0</td>\n      <td>9.0</td>\n      <td>17.0</td>\n      <td>5235.0</td>\n      <td>171.919771</td>\n      <td>324.737345</td>\n      <td>6.0</td>\n    </tr>\n    <tr>\n      <th>Ayamonte</th>\n      <td>81.0</td>\n      <td>17.0</td>\n      <td>29.0</td>\n      <td>20946.0</td>\n      <td>81.161081</td>\n      <td>138.451256</td>\n      <td>6.0</td>\n    </tr>\n    <tr>\n      <th>Trigueros</th>\n      <td>55.0</td>\n      <td>12.0</td>\n      <td>17.0</td>\n      <td>7713.0</td>\n      <td>155.581486</td>\n      <td>220.407105</td>\n      <td>6.0</td>\n    </tr>\n    <tr>\n      <th>San Juan del Puerto</th>\n      <td>88.0</td>\n      <td>8.0</td>\n      <td>12.0</td>\n      <td>9300.0</td>\n      <td>86.021505</td>\n      <td>129.032258</td>\n      <td>5.0</td>\n    </tr>\n    <tr>\n      <th>Cartaya</th>\n      <td>76.0</td>\n      <td>26.0</td>\n      <td>41.0</td>\n      <td>19974.0</td>\n      <td>130.169220</td>\n      <td>205.266847</td>\n      <td>4.0</td>\n    </tr>\n    <tr>\n      <th>Moguer</th>\n      <td>66.0</td>\n      <td>3.0</td>\n      <td>11.0</td>\n      <td>22088.0</td>\n      <td>13.582035</td>\n      <td>49.800797</td>\n      <td>3.0</td>\n    </tr>\n    <tr>\n      <th>Aroche</th>\n      <td>17.0</td>\n      <td>5.0</td>\n      <td>7.0</td>\n      <td>3073.0</td>\n      <td>162.707452</td>\n      <td>227.790433</td>\n      <td>3.0</td>\n    </tr>\n    <tr>\n      <th>Villanueva de los Castillejos</th>\n      <td>30.0</td>\n      <td>4.0</td>\n      <td>12.0</td>\n      <td>2820.0</td>\n      <td>141.843972</td>\n      <td>425.531915</td>\n      <td>2.0</td>\n    </tr>\n    <tr>\n      <th>Almonaster la Real</th>\n      <td>18.0</td>\n      <td>7.0</td>\n      <td>16.0</td>\n      <td>1819.0</td>\n      <td>384.826828</td>\n      <td>879.604178</td>\n      <td>1.0</td>\n    </tr>\n    <tr>\n      <th>Rosal de la Frontera</th>\n      <td>9.0</td>\n      <td>4.0</td>\n      <td>7.0</td>\n      <td>1697.0</td>\n      <td>235.710077</td>\n      <td>412.492634</td>\n      <td>1.0</td>\n    </tr>\n    <tr>\n      <th>Rociana del Condado</th>\n      <td>16.0</td>\n      <td>2.0</td>\n      <td>5.0</td>\n      <td>7855.0</td>\n      <td>25.461489</td>\n      <td>63.653724</td>\n      <td>1.0</td>\n    </tr>\n    <tr>\n      <th>Campillo (El)</th>\n      <td>30.0</td>\n      <td>2.0</td>\n      <td>3.0</td>\n      <td>2023.0</td>\n      <td>98.863075</td>\n      <td>148.294612</td>\n      <td>1.0</td>\n    </tr>\n    <tr>\n      <th>Palos de la Frontera</th>\n      <td>43.0</td>\n      <td>8.0</td>\n      <td>13.0</td>\n      <td>11289.0</td>\n      <td>70.865444</td>\n      <td>115.156347</td>\n      <td>1.0</td>\n    </tr>\n    <tr>\n      <th>Cerro de Andévalo (El)</th>\n      <td>25.0</td>\n      <td>3.0</td>\n      <td>20.0</td>\n      <td>2364.0</td>\n      <td>126.903553</td>\n      <td>846.023689</td>\n      <td>1.0</td>\n    </tr>\n    <tr>\n      <th>Granado (El)</th>\n      <td>32.0</td>\n      <td>4.0</td>\n      <td>20.0</td>\n      <td>516.0</td>\n      <td>775.193798</td>\n      <td>3875.968992</td>\n      <td>1.0</td>\n    </tr>\n    <tr>\n      <th>Almendro (El)</th>\n      <td>6.0</td>\n      <td>1.0</td>\n      <td>1.0</td>\n      <td>826.0</td>\n      <td>121.065375</td>\n      <td>121.065375</td>\n      <td>NaN</td>\n    </tr>\n    <tr>\n      <th>Beas</th>\n      <td>12.0</td>\n      <td>3.0</td>\n      <td>3.0</td>\n      <td>4257.0</td>\n      <td>70.472163</td>\n      <td>70.472163</td>\n      <td>NaN</td>\n    </tr>\n    <tr>\n      <th>Encinasola</th>\n      <td>2.0</td>\n      <td>1.0</td>\n      <td>1.0</td>\n      <td>1305.0</td>\n      <td>76.628352</td>\n      <td>76.628352</td>\n      <td>NaN</td>\n    </tr>\n    <tr>\n      <th>Fuenteheridos</th>\n      <td>2.0</td>\n      <td>1.0</td>\n      <td>1.0</td>\n      <td>678.0</td>\n      <td>147.492625</td>\n      <td>147.492625</td>\n      <td>NaN</td>\n    </tr>\n    <tr>\n      <th>San Silvestre de Guzmán</th>\n      <td>1.0</td>\n      <td>1.0</td>\n      <td>1.0</td>\n      <td>623.0</td>\n      <td>160.513644</td>\n      <td>160.513644</td>\n      <td>NaN</td>\n    </tr>\n  </tbody>\n</table>\n</div>"
     },
     "metadata": {},
     "execution_count": 15
    }
   ],
   "source": [
    "# Nuevos casos desde la última captura\n",
    "tabla[tabla['Diferencia PDIA'] != 0].sort_values('Diferencia PDIA', ascending=False)"
   ]
  },
  {
   "cell_type": "code",
   "execution_count": 16,
   "metadata": {},
   "outputs": [],
   "source": [
    "if tabla[tabla['Diferencia PDIA'] != 0]['Diferencia PDIA'].sum() > 0:\n",
    "  # Save to csv\n",
    "  tabla.to_csv('covid_huelva.csv', encoding='utf-8', header=True, index=True)  "
   ]
  },
  {
   "cell_type": "code",
   "execution_count": 17,
   "metadata": {},
   "outputs": [
    {
     "output_type": "execute_result",
     "data": {
      "text/plain": [
       "Medida                             Confirmados PDIA  Confirmados PDIA 7 días  \\\n",
       "Lugar de residencia                                                            \n",
       "Granado (El)                                   32.0                      4.0   \n",
       "Cortegana                                     109.0                     40.0   \n",
       "Escacena del Campo                             41.0                     21.0   \n",
       "Almonaster la Real                             18.0                      7.0   \n",
       "Cerro de Andévalo (El)                         25.0                      3.0   \n",
       "Villarrasa                                     45.0                     13.0   \n",
       "Linares de la Sierra                            2.0                      1.0   \n",
       "Calañas                                        22.0                     18.0   \n",
       "Palma del Condado (La)                        159.0                     37.0   \n",
       "Niebla                                         27.0                     11.0   \n",
       "Valverde del Camino                            91.0                     50.0   \n",
       "Sierra de Huelva-Andévalo Central             554.0                    165.0   \n",
       "Villanueva de los Castillejos                  30.0                      4.0   \n",
       "Rosal de la Frontera                            9.0                      4.0   \n",
       "Lepe                                          256.0                     61.0   \n",
       "Almonte                                       157.0                     59.0   \n",
       "Gibraleón                                      85.0                     30.0   \n",
       "Aracena                                        86.0                     17.0   \n",
       "Cortelazor                                      1.0                      1.0   \n",
       "Nerva                                          43.0                      9.0   \n",
       "Huelva                                       3421.0                    874.0   \n",
       "Huelva (capital)                              903.0                    244.0   \n",
       "Condado-Campiña                              1055.0                    229.0   \n",
       "Huelva-Costa                                 1717.0                    416.0   \n",
       "Higuera de la Sierra                            7.0                      2.0   \n",
       "Aroche                                         17.0                      5.0   \n",
       "Trigueros                                      55.0                     12.0   \n",
       "Villalba del Alcor                             49.0                      5.0   \n",
       "Cartaya                                        76.0                     26.0   \n",
       "Aljaraque                                     123.0                     24.0   \n",
       "Bollullos Par del Condado                     139.0                     16.0   \n",
       "San Silvestre de Guzmán                         1.0                      1.0   \n",
       "Campillo (El)                                  30.0                      2.0   \n",
       "Fuenteheridos                                   2.0                      1.0   \n",
       "Galaroza                                        2.0                      2.0   \n",
       "Ayamonte                                       81.0                     17.0   \n",
       "Isla Cristina                                 106.0                     14.0   \n",
       "San Juan del Puerto                            88.0                      8.0   \n",
       "Almendro (El)                                   6.0                      1.0   \n",
       "Punta Umbría                                   57.0                     15.0   \n",
       "Palos de la Frontera                           43.0                      8.0   \n",
       "Alosno                                         11.0                      4.0   \n",
       "Santa Bárbara de Casa                           8.0                      1.0   \n",
       "San Bartolomé de la Torre                       7.0                      1.0   \n",
       "Minas de Riotinto                              23.0                      2.0   \n",
       "Encinasola                                      2.0                      1.0   \n",
       "Beas                                           12.0                      3.0   \n",
       "Rociana del Condado                            16.0                      2.0   \n",
       "Moguer                                         66.0                      3.0   \n",
       "\n",
       "Medida                             Confirmados PDIA 14 días  Población  \\\n",
       "Lugar de residencia                                                      \n",
       "Granado (El)                                           20.0      516.0   \n",
       "Cortegana                                              96.0     4666.0   \n",
       "Escacena del Campo                                     23.0     2284.0   \n",
       "Almonaster la Real                                     16.0     1819.0   \n",
       "Cerro de Andévalo (El)                                 20.0     2364.0   \n",
       "Villarrasa                                             18.0     2176.0   \n",
       "Linares de la Sierra                                    2.0      263.0   \n",
       "Calañas                                                19.0     2791.0   \n",
       "Palma del Condado (La)                                 61.0    10761.0   \n",
       "Niebla                                                 19.0     4117.0   \n",
       "Valverde del Camino                                    59.0    12820.0   \n",
       "Sierra de Huelva-Andévalo Central                     297.0    67571.0   \n",
       "Villanueva de los Castillejos                          12.0     2820.0   \n",
       "Rosal de la Frontera                                    7.0     1697.0   \n",
       "Lepe                                                  111.0    27431.0   \n",
       "Almonte                                                91.0    24191.0   \n",
       "Gibraleón                                              46.0    12607.0   \n",
       "Aracena                                                28.0     8107.0   \n",
       "Cortelazor                                              1.0      299.0   \n",
       "Nerva                                                  17.0     5235.0   \n",
       "Huelva                                               1400.0   510743.0   \n",
       "Huelva (capital)                                      368.0   143663.0   \n",
       "Condado-Campiña                                       365.0   155057.0   \n",
       "Huelva-Costa                                          674.0   288115.0   \n",
       "Higuera de la Sierra                                    3.0     1287.0   \n",
       "Aroche                                                  7.0     3073.0   \n",
       "Trigueros                                              17.0     7713.0   \n",
       "Villalba del Alcor                                      7.0     3338.0   \n",
       "Cartaya                                                41.0    19974.0   \n",
       "Aljaraque                                              39.0    21260.0   \n",
       "Bollullos Par del Condado                              26.0    14272.0   \n",
       "San Silvestre de Guzmán                                 1.0      623.0   \n",
       "Campillo (El)                                           3.0     2023.0   \n",
       "Fuenteheridos                                           1.0      678.0   \n",
       "Galaroza                                                2.0     1379.0   \n",
       "Ayamonte                                               29.0    20946.0   \n",
       "Isla Cristina                                          28.0    21264.0   \n",
       "San Juan del Puerto                                    12.0     9300.0   \n",
       "Almendro (El)                                           1.0      826.0   \n",
       "Punta Umbría                                           18.0    15242.0   \n",
       "Palos de la Frontera                                   13.0    11289.0   \n",
       "Alosno                                                  4.0     3923.0   \n",
       "Santa Bárbara de Casa                                   1.0     1035.0   \n",
       "San Bartolomé de la Torre                               3.0     3736.0   \n",
       "Minas de Riotinto                                       3.0     3848.0   \n",
       "Encinasola                                              1.0     1305.0   \n",
       "Beas                                                    3.0     4257.0   \n",
       "Rociana del Condado                                     5.0     7855.0   \n",
       "Moguer                                                 11.0    22088.0   \n",
       "\n",
       "Medida                                  tasa7       tasa14  Diferencia PDIA  \n",
       "Lugar de residencia                                                          \n",
       "Granado (El)                       775.193798  3875.968992              1.0  \n",
       "Cortegana                          857.265324  2057.436777              9.0  \n",
       "Escacena del Campo                 919.439580  1007.005254             16.0  \n",
       "Almonaster la Real                 384.826828   879.604178              1.0  \n",
       "Cerro de Andévalo (El)             126.903553   846.023689              1.0  \n",
       "Villarrasa                         597.426471   827.205882              9.0  \n",
       "Linares de la Sierra               380.228137   760.456274              0.0  \n",
       "Calañas                            644.930133   680.759584             12.0  \n",
       "Palma del Condado (La)             343.834216   566.861816             17.0  \n",
       "Niebla                             267.184843   461.501093              8.0  \n",
       "Valverde del Camino                390.015601   460.218409             27.0  \n",
       "Sierra de Huelva-Andévalo Central  244.187595   439.537671             75.0  \n",
       "Villanueva de los Castillejos      141.843972   425.531915              2.0  \n",
       "Rosal de la Frontera               235.710077   412.492634              1.0  \n",
       "Lepe                               222.376144   404.651671             26.0  \n",
       "Almonte                            243.892357   376.172957             32.0  \n",
       "Gibraleón                          237.963036   364.876656             19.0  \n",
       "Aracena                            209.695325   345.380535             12.0  \n",
       "Cortelazor                         334.448161   334.448161              0.0  \n",
       "Nerva                              171.919771   324.737345              6.0  \n",
       "Huelva                             171.123246   274.110463            468.0  \n",
       "Huelva (capital)                   169.841922   256.155029            131.0  \n",
       "Condado-Campiña                    147.687625   235.397306            126.0  \n",
       "Huelva-Costa                       144.386790   233.934366            204.0  \n",
       "Higuera de la Sierra               155.400155   233.100233              0.0  \n",
       "Aroche                             162.707452   227.790433              3.0  \n",
       "Trigueros                          155.581486   220.407105              6.0  \n",
       "Villalba del Alcor                 149.790294   209.706411              0.0  \n",
       "Cartaya                            130.169220   205.266847              4.0  \n",
       "Aljaraque                          112.888053   183.443086             14.0  \n",
       "Bollullos Par del Condado          112.107623   182.174888              6.0  \n",
       "San Silvestre de Guzmán            160.513644   160.513644              NaN  \n",
       "Campillo (El)                       98.863075   148.294612              1.0  \n",
       "Fuenteheridos                      147.492625   147.492625              NaN  \n",
       "Galaroza                           145.032632   145.032632              0.0  \n",
       "Ayamonte                            81.161081   138.451256              6.0  \n",
       "Isla Cristina                       65.838977   131.677953              8.0  \n",
       "San Juan del Puerto                 86.021505   129.032258              5.0  \n",
       "Almendro (El)                      121.065375   121.065375              NaN  \n",
       "Punta Umbría                        98.412282   118.094738             10.0  \n",
       "Palos de la Frontera                70.865444   115.156347              1.0  \n",
       "Alosno                             101.962784   101.962784              0.0  \n",
       "Santa Bárbara de Casa               96.618357    96.618357              0.0  \n",
       "San Bartolomé de la Torre           26.766595    80.299786              0.0  \n",
       "Minas de Riotinto                   51.975052    77.962578              0.0  \n",
       "Encinasola                          76.628352    76.628352              NaN  \n",
       "Beas                                70.472163    70.472163              NaN  \n",
       "Rociana del Condado                 25.461489    63.653724              1.0  \n",
       "Moguer                              13.582035    49.800797              3.0  "
      ],
      "text/html": "<div>\n<style scoped>\n    .dataframe tbody tr th:only-of-type {\n        vertical-align: middle;\n    }\n\n    .dataframe tbody tr th {\n        vertical-align: top;\n    }\n\n    .dataframe thead th {\n        text-align: right;\n    }\n</style>\n<table border=\"1\" class=\"dataframe\">\n  <thead>\n    <tr style=\"text-align: right;\">\n      <th>Medida</th>\n      <th>Confirmados PDIA</th>\n      <th>Confirmados PDIA 7 días</th>\n      <th>Confirmados PDIA 14 días</th>\n      <th>Población</th>\n      <th>tasa7</th>\n      <th>tasa14</th>\n      <th>Diferencia PDIA</th>\n    </tr>\n    <tr>\n      <th>Lugar de residencia</th>\n      <th></th>\n      <th></th>\n      <th></th>\n      <th></th>\n      <th></th>\n      <th></th>\n      <th></th>\n    </tr>\n  </thead>\n  <tbody>\n    <tr>\n      <th>Granado (El)</th>\n      <td>32.0</td>\n      <td>4.0</td>\n      <td>20.0</td>\n      <td>516.0</td>\n      <td>775.193798</td>\n      <td>3875.968992</td>\n      <td>1.0</td>\n    </tr>\n    <tr>\n      <th>Cortegana</th>\n      <td>109.0</td>\n      <td>40.0</td>\n      <td>96.0</td>\n      <td>4666.0</td>\n      <td>857.265324</td>\n      <td>2057.436777</td>\n      <td>9.0</td>\n    </tr>\n    <tr>\n      <th>Escacena del Campo</th>\n      <td>41.0</td>\n      <td>21.0</td>\n      <td>23.0</td>\n      <td>2284.0</td>\n      <td>919.439580</td>\n      <td>1007.005254</td>\n      <td>16.0</td>\n    </tr>\n    <tr>\n      <th>Almonaster la Real</th>\n      <td>18.0</td>\n      <td>7.0</td>\n      <td>16.0</td>\n      <td>1819.0</td>\n      <td>384.826828</td>\n      <td>879.604178</td>\n      <td>1.0</td>\n    </tr>\n    <tr>\n      <th>Cerro de Andévalo (El)</th>\n      <td>25.0</td>\n      <td>3.0</td>\n      <td>20.0</td>\n      <td>2364.0</td>\n      <td>126.903553</td>\n      <td>846.023689</td>\n      <td>1.0</td>\n    </tr>\n    <tr>\n      <th>Villarrasa</th>\n      <td>45.0</td>\n      <td>13.0</td>\n      <td>18.0</td>\n      <td>2176.0</td>\n      <td>597.426471</td>\n      <td>827.205882</td>\n      <td>9.0</td>\n    </tr>\n    <tr>\n      <th>Linares de la Sierra</th>\n      <td>2.0</td>\n      <td>1.0</td>\n      <td>2.0</td>\n      <td>263.0</td>\n      <td>380.228137</td>\n      <td>760.456274</td>\n      <td>0.0</td>\n    </tr>\n    <tr>\n      <th>Calañas</th>\n      <td>22.0</td>\n      <td>18.0</td>\n      <td>19.0</td>\n      <td>2791.0</td>\n      <td>644.930133</td>\n      <td>680.759584</td>\n      <td>12.0</td>\n    </tr>\n    <tr>\n      <th>Palma del Condado (La)</th>\n      <td>159.0</td>\n      <td>37.0</td>\n      <td>61.0</td>\n      <td>10761.0</td>\n      <td>343.834216</td>\n      <td>566.861816</td>\n      <td>17.0</td>\n    </tr>\n    <tr>\n      <th>Niebla</th>\n      <td>27.0</td>\n      <td>11.0</td>\n      <td>19.0</td>\n      <td>4117.0</td>\n      <td>267.184843</td>\n      <td>461.501093</td>\n      <td>8.0</td>\n    </tr>\n    <tr>\n      <th>Valverde del Camino</th>\n      <td>91.0</td>\n      <td>50.0</td>\n      <td>59.0</td>\n      <td>12820.0</td>\n      <td>390.015601</td>\n      <td>460.218409</td>\n      <td>27.0</td>\n    </tr>\n    <tr>\n      <th>Sierra de Huelva-Andévalo Central</th>\n      <td>554.0</td>\n      <td>165.0</td>\n      <td>297.0</td>\n      <td>67571.0</td>\n      <td>244.187595</td>\n      <td>439.537671</td>\n      <td>75.0</td>\n    </tr>\n    <tr>\n      <th>Villanueva de los Castillejos</th>\n      <td>30.0</td>\n      <td>4.0</td>\n      <td>12.0</td>\n      <td>2820.0</td>\n      <td>141.843972</td>\n      <td>425.531915</td>\n      <td>2.0</td>\n    </tr>\n    <tr>\n      <th>Rosal de la Frontera</th>\n      <td>9.0</td>\n      <td>4.0</td>\n      <td>7.0</td>\n      <td>1697.0</td>\n      <td>235.710077</td>\n      <td>412.492634</td>\n      <td>1.0</td>\n    </tr>\n    <tr>\n      <th>Lepe</th>\n      <td>256.0</td>\n      <td>61.0</td>\n      <td>111.0</td>\n      <td>27431.0</td>\n      <td>222.376144</td>\n      <td>404.651671</td>\n      <td>26.0</td>\n    </tr>\n    <tr>\n      <th>Almonte</th>\n      <td>157.0</td>\n      <td>59.0</td>\n      <td>91.0</td>\n      <td>24191.0</td>\n      <td>243.892357</td>\n      <td>376.172957</td>\n      <td>32.0</td>\n    </tr>\n    <tr>\n      <th>Gibraleón</th>\n      <td>85.0</td>\n      <td>30.0</td>\n      <td>46.0</td>\n      <td>12607.0</td>\n      <td>237.963036</td>\n      <td>364.876656</td>\n      <td>19.0</td>\n    </tr>\n    <tr>\n      <th>Aracena</th>\n      <td>86.0</td>\n      <td>17.0</td>\n      <td>28.0</td>\n      <td>8107.0</td>\n      <td>209.695325</td>\n      <td>345.380535</td>\n      <td>12.0</td>\n    </tr>\n    <tr>\n      <th>Cortelazor</th>\n      <td>1.0</td>\n      <td>1.0</td>\n      <td>1.0</td>\n      <td>299.0</td>\n      <td>334.448161</td>\n      <td>334.448161</td>\n      <td>0.0</td>\n    </tr>\n    <tr>\n      <th>Nerva</th>\n      <td>43.0</td>\n      <td>9.0</td>\n      <td>17.0</td>\n      <td>5235.0</td>\n      <td>171.919771</td>\n      <td>324.737345</td>\n      <td>6.0</td>\n    </tr>\n    <tr>\n      <th>Huelva</th>\n      <td>3421.0</td>\n      <td>874.0</td>\n      <td>1400.0</td>\n      <td>510743.0</td>\n      <td>171.123246</td>\n      <td>274.110463</td>\n      <td>468.0</td>\n    </tr>\n    <tr>\n      <th>Huelva (capital)</th>\n      <td>903.0</td>\n      <td>244.0</td>\n      <td>368.0</td>\n      <td>143663.0</td>\n      <td>169.841922</td>\n      <td>256.155029</td>\n      <td>131.0</td>\n    </tr>\n    <tr>\n      <th>Condado-Campiña</th>\n      <td>1055.0</td>\n      <td>229.0</td>\n      <td>365.0</td>\n      <td>155057.0</td>\n      <td>147.687625</td>\n      <td>235.397306</td>\n      <td>126.0</td>\n    </tr>\n    <tr>\n      <th>Huelva-Costa</th>\n      <td>1717.0</td>\n      <td>416.0</td>\n      <td>674.0</td>\n      <td>288115.0</td>\n      <td>144.386790</td>\n      <td>233.934366</td>\n      <td>204.0</td>\n    </tr>\n    <tr>\n      <th>Higuera de la Sierra</th>\n      <td>7.0</td>\n      <td>2.0</td>\n      <td>3.0</td>\n      <td>1287.0</td>\n      <td>155.400155</td>\n      <td>233.100233</td>\n      <td>0.0</td>\n    </tr>\n    <tr>\n      <th>Aroche</th>\n      <td>17.0</td>\n      <td>5.0</td>\n      <td>7.0</td>\n      <td>3073.0</td>\n      <td>162.707452</td>\n      <td>227.790433</td>\n      <td>3.0</td>\n    </tr>\n    <tr>\n      <th>Trigueros</th>\n      <td>55.0</td>\n      <td>12.0</td>\n      <td>17.0</td>\n      <td>7713.0</td>\n      <td>155.581486</td>\n      <td>220.407105</td>\n      <td>6.0</td>\n    </tr>\n    <tr>\n      <th>Villalba del Alcor</th>\n      <td>49.0</td>\n      <td>5.0</td>\n      <td>7.0</td>\n      <td>3338.0</td>\n      <td>149.790294</td>\n      <td>209.706411</td>\n      <td>0.0</td>\n    </tr>\n    <tr>\n      <th>Cartaya</th>\n      <td>76.0</td>\n      <td>26.0</td>\n      <td>41.0</td>\n      <td>19974.0</td>\n      <td>130.169220</td>\n      <td>205.266847</td>\n      <td>4.0</td>\n    </tr>\n    <tr>\n      <th>Aljaraque</th>\n      <td>123.0</td>\n      <td>24.0</td>\n      <td>39.0</td>\n      <td>21260.0</td>\n      <td>112.888053</td>\n      <td>183.443086</td>\n      <td>14.0</td>\n    </tr>\n    <tr>\n      <th>Bollullos Par del Condado</th>\n      <td>139.0</td>\n      <td>16.0</td>\n      <td>26.0</td>\n      <td>14272.0</td>\n      <td>112.107623</td>\n      <td>182.174888</td>\n      <td>6.0</td>\n    </tr>\n    <tr>\n      <th>San Silvestre de Guzmán</th>\n      <td>1.0</td>\n      <td>1.0</td>\n      <td>1.0</td>\n      <td>623.0</td>\n      <td>160.513644</td>\n      <td>160.513644</td>\n      <td>NaN</td>\n    </tr>\n    <tr>\n      <th>Campillo (El)</th>\n      <td>30.0</td>\n      <td>2.0</td>\n      <td>3.0</td>\n      <td>2023.0</td>\n      <td>98.863075</td>\n      <td>148.294612</td>\n      <td>1.0</td>\n    </tr>\n    <tr>\n      <th>Fuenteheridos</th>\n      <td>2.0</td>\n      <td>1.0</td>\n      <td>1.0</td>\n      <td>678.0</td>\n      <td>147.492625</td>\n      <td>147.492625</td>\n      <td>NaN</td>\n    </tr>\n    <tr>\n      <th>Galaroza</th>\n      <td>2.0</td>\n      <td>2.0</td>\n      <td>2.0</td>\n      <td>1379.0</td>\n      <td>145.032632</td>\n      <td>145.032632</td>\n      <td>0.0</td>\n    </tr>\n    <tr>\n      <th>Ayamonte</th>\n      <td>81.0</td>\n      <td>17.0</td>\n      <td>29.0</td>\n      <td>20946.0</td>\n      <td>81.161081</td>\n      <td>138.451256</td>\n      <td>6.0</td>\n    </tr>\n    <tr>\n      <th>Isla Cristina</th>\n      <td>106.0</td>\n      <td>14.0</td>\n      <td>28.0</td>\n      <td>21264.0</td>\n      <td>65.838977</td>\n      <td>131.677953</td>\n      <td>8.0</td>\n    </tr>\n    <tr>\n      <th>San Juan del Puerto</th>\n      <td>88.0</td>\n      <td>8.0</td>\n      <td>12.0</td>\n      <td>9300.0</td>\n      <td>86.021505</td>\n      <td>129.032258</td>\n      <td>5.0</td>\n    </tr>\n    <tr>\n      <th>Almendro (El)</th>\n      <td>6.0</td>\n      <td>1.0</td>\n      <td>1.0</td>\n      <td>826.0</td>\n      <td>121.065375</td>\n      <td>121.065375</td>\n      <td>NaN</td>\n    </tr>\n    <tr>\n      <th>Punta Umbría</th>\n      <td>57.0</td>\n      <td>15.0</td>\n      <td>18.0</td>\n      <td>15242.0</td>\n      <td>98.412282</td>\n      <td>118.094738</td>\n      <td>10.0</td>\n    </tr>\n    <tr>\n      <th>Palos de la Frontera</th>\n      <td>43.0</td>\n      <td>8.0</td>\n      <td>13.0</td>\n      <td>11289.0</td>\n      <td>70.865444</td>\n      <td>115.156347</td>\n      <td>1.0</td>\n    </tr>\n    <tr>\n      <th>Alosno</th>\n      <td>11.0</td>\n      <td>4.0</td>\n      <td>4.0</td>\n      <td>3923.0</td>\n      <td>101.962784</td>\n      <td>101.962784</td>\n      <td>0.0</td>\n    </tr>\n    <tr>\n      <th>Santa Bárbara de Casa</th>\n      <td>8.0</td>\n      <td>1.0</td>\n      <td>1.0</td>\n      <td>1035.0</td>\n      <td>96.618357</td>\n      <td>96.618357</td>\n      <td>0.0</td>\n    </tr>\n    <tr>\n      <th>San Bartolomé de la Torre</th>\n      <td>7.0</td>\n      <td>1.0</td>\n      <td>3.0</td>\n      <td>3736.0</td>\n      <td>26.766595</td>\n      <td>80.299786</td>\n      <td>0.0</td>\n    </tr>\n    <tr>\n      <th>Minas de Riotinto</th>\n      <td>23.0</td>\n      <td>2.0</td>\n      <td>3.0</td>\n      <td>3848.0</td>\n      <td>51.975052</td>\n      <td>77.962578</td>\n      <td>0.0</td>\n    </tr>\n    <tr>\n      <th>Encinasola</th>\n      <td>2.0</td>\n      <td>1.0</td>\n      <td>1.0</td>\n      <td>1305.0</td>\n      <td>76.628352</td>\n      <td>76.628352</td>\n      <td>NaN</td>\n    </tr>\n    <tr>\n      <th>Beas</th>\n      <td>12.0</td>\n      <td>3.0</td>\n      <td>3.0</td>\n      <td>4257.0</td>\n      <td>70.472163</td>\n      <td>70.472163</td>\n      <td>NaN</td>\n    </tr>\n    <tr>\n      <th>Rociana del Condado</th>\n      <td>16.0</td>\n      <td>2.0</td>\n      <td>5.0</td>\n      <td>7855.0</td>\n      <td>25.461489</td>\n      <td>63.653724</td>\n      <td>1.0</td>\n    </tr>\n    <tr>\n      <th>Moguer</th>\n      <td>66.0</td>\n      <td>3.0</td>\n      <td>11.0</td>\n      <td>22088.0</td>\n      <td>13.582035</td>\n      <td>49.800797</td>\n      <td>3.0</td>\n    </tr>\n  </tbody>\n</table>\n</div>"
     },
     "metadata": {},
     "execution_count": 17
    }
   ],
   "source": [
    "tabla.sort_values('tasa14', ascending=False)"
   ]
  },
  {
   "cell_type": "code",
   "execution_count": null,
   "metadata": {},
   "outputs": [],
   "source": []
  }
 ]
}