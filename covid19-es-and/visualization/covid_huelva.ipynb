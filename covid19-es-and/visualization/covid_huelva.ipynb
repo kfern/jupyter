{
 "metadata": {
  "language_info": {
   "codemirror_mode": {
    "name": "ipython",
    "version": 3
   },
   "file_extension": ".py",
   "mimetype": "text/x-python",
   "name": "python",
   "nbconvert_exporter": "python",
   "pygments_lexer": "ipython3",
   "version": "3.6.9-final"
  },
  "orig_nbformat": 2,
  "kernelspec": {
   "name": "Python 3.6.9 64-bit",
   "display_name": "Python 3.6.9 64-bit",
   "metadata": {
    "interpreter": {
     "hash": "31f2aee4e71d21fbe5cf8b01ff0e069b9275f58929596ceb00d14d90e3e16cd6"
    }
   }
  }
 },
 "nbformat": 4,
 "nbformat_minor": 2,
 "cells": [
  {
   "cell_type": "code",
   "execution_count": 1,
   "metadata": {},
   "outputs": [],
   "source": [
    "import pandas as pd"
   ]
  },
  {
   "cell_type": "code",
   "execution_count": 2,
   "metadata": {},
   "outputs": [],
   "source": [
    "# FIX SSL: CERTIFICATE_VERIFY_FAILED with Python3\n",
    "# https://stackoverflow.com/a/49174340\n",
    "import ssl\n",
    "\n",
    "ssl._create_default_https_context = ssl._create_unverified_context"
   ]
  },
  {
   "cell_type": "code",
   "execution_count": 3,
   "metadata": {},
   "outputs": [],
   "source": [
    "url = 'https://www.juntadeandalucia.es/institutodeestadisticaycartografia/badea/stpivot/stpivot/Print?cube=013d884c-cfc5-4c21-9e78-e26225682afd&type=3&foto=si&ejecutaDesde=&codConsulta=38668&consTipoVisua=JP'\n",
    "fields = ['Lugar de residencia', 'Medida', 'Valor']\n",
    "df = pd.read_csv(url, delimiter=';', usecols=fields, decimal=',')"
   ]
  },
  {
   "cell_type": "code",
   "execution_count": 4,
   "metadata": {},
   "outputs": [
    {
     "output_type": "execute_result",
     "data": {
      "text/plain": [
       "                     Lugar de residencia                    Medida  \\\n",
       "0                                 Huelva                 Población   \n",
       "1                                 Huelva          Confirmados PDIA   \n",
       "2                                 Huelva  Confirmados PDIA 14 días   \n",
       "3                                 Huelva         Tasa PDIA 14 días   \n",
       "4                                 Huelva   Confirmados PDIA 7 días   \n",
       "..                                   ...                       ...   \n",
       "627  Municipio de Huelva sin especificar         Tasa PDIA 14 días   \n",
       "628  Municipio de Huelva sin especificar   Confirmados PDIA 7 días   \n",
       "629  Municipio de Huelva sin especificar        Total Confirmados    \n",
       "630  Municipio de Huelva sin especificar                   Curados   \n",
       "631  Municipio de Huelva sin especificar                Fallecidos   \n",
       "\n",
       "                  Valor  \n",
       "0                510743  \n",
       "1                 10238  \n",
       "2                  1298  \n",
       "3    254,13955746823746  \n",
       "4                   542  \n",
       "..                  ...  \n",
       "627                   -  \n",
       "628                   3  \n",
       "629                 125  \n",
       "630                  88  \n",
       "631                   1  \n",
       "\n",
       "[632 rows x 3 columns]"
      ],
      "text/html": "<div>\n<style scoped>\n    .dataframe tbody tr th:only-of-type {\n        vertical-align: middle;\n    }\n\n    .dataframe tbody tr th {\n        vertical-align: top;\n    }\n\n    .dataframe thead th {\n        text-align: right;\n    }\n</style>\n<table border=\"1\" class=\"dataframe\">\n  <thead>\n    <tr style=\"text-align: right;\">\n      <th></th>\n      <th>Lugar de residencia</th>\n      <th>Medida</th>\n      <th>Valor</th>\n    </tr>\n  </thead>\n  <tbody>\n    <tr>\n      <th>0</th>\n      <td>Huelva</td>\n      <td>Población</td>\n      <td>510743</td>\n    </tr>\n    <tr>\n      <th>1</th>\n      <td>Huelva</td>\n      <td>Confirmados PDIA</td>\n      <td>10238</td>\n    </tr>\n    <tr>\n      <th>2</th>\n      <td>Huelva</td>\n      <td>Confirmados PDIA 14 días</td>\n      <td>1298</td>\n    </tr>\n    <tr>\n      <th>3</th>\n      <td>Huelva</td>\n      <td>Tasa PDIA 14 días</td>\n      <td>254,13955746823746</td>\n    </tr>\n    <tr>\n      <th>4</th>\n      <td>Huelva</td>\n      <td>Confirmados PDIA 7 días</td>\n      <td>542</td>\n    </tr>\n    <tr>\n      <th>...</th>\n      <td>...</td>\n      <td>...</td>\n      <td>...</td>\n    </tr>\n    <tr>\n      <th>627</th>\n      <td>Municipio de Huelva sin especificar</td>\n      <td>Tasa PDIA 14 días</td>\n      <td>-</td>\n    </tr>\n    <tr>\n      <th>628</th>\n      <td>Municipio de Huelva sin especificar</td>\n      <td>Confirmados PDIA 7 días</td>\n      <td>3</td>\n    </tr>\n    <tr>\n      <th>629</th>\n      <td>Municipio de Huelva sin especificar</td>\n      <td>Total Confirmados</td>\n      <td>125</td>\n    </tr>\n    <tr>\n      <th>630</th>\n      <td>Municipio de Huelva sin especificar</td>\n      <td>Curados</td>\n      <td>88</td>\n    </tr>\n    <tr>\n      <th>631</th>\n      <td>Municipio de Huelva sin especificar</td>\n      <td>Fallecidos</td>\n      <td>1</td>\n    </tr>\n  </tbody>\n</table>\n<p>632 rows × 3 columns</p>\n</div>"
     },
     "metadata": {},
     "execution_count": 4
    }
   ],
   "source": [
    "df"
   ]
  },
  {
   "cell_type": "code",
   "execution_count": 5,
   "metadata": {},
   "outputs": [],
   "source": [
    "df['Valor'] = pd.to_numeric(df['Valor'],errors='coerce')"
   ]
  },
  {
   "cell_type": "code",
   "execution_count": 6,
   "metadata": {},
   "outputs": [],
   "source": [
    "dfAnterior = pd.read_csv('covid_huelva.csv', index_col='Lugar de residencia')"
   ]
  },
  {
   "cell_type": "code",
   "execution_count": 7,
   "metadata": {
    "tags": []
   },
   "outputs": [
    {
     "output_type": "stream",
     "name": "stdout",
     "text": [
      "Confirmados PCR en la provincia de Huelva:  10238.0\n"
     ]
    }
   ],
   "source": [
    "# Confirmados PCR provincia Huelva\n",
    "p = df[df['Lugar de residencia'] == 'Huelva'][df['Medida'] == 'Confirmados PDIA']['Valor'].values[0]\n",
    "print('Confirmados PCR en la provincia de Huelva: ', p)"
   ]
  },
  {
   "cell_type": "code",
   "execution_count": 8,
   "metadata": {
    "tags": []
   },
   "outputs": [
    {
     "output_type": "stream",
     "name": "stdout",
     "text": [
      "Confirmados PCR en Huelva capital:  2876.0\n"
     ]
    }
   ],
   "source": [
    "# Confirmados PCR Huelva capitalpd\n",
    "c = df[df['Lugar de residencia'] == 'Huelva (capital)'][df['Medida'] == 'Confirmados PDIA']['Valor'].values[0]\n",
    "print('Confirmados PCR en Huelva capital: ', c)"
   ]
  },
  {
   "cell_type": "code",
   "execution_count": 9,
   "metadata": {
    "tags": []
   },
   "outputs": [],
   "source": [
    "c7 = df[df['Lugar de residencia'] == 'Huelva (capital)'][df['Medida'] == 'Confirmados PDIA 7 días']['Valor'].values[0]\n",
    "c14 = df[df['Lugar de residencia'] == 'Huelva (capital)'][df['Medida'] == 'Confirmados PDIA 14 días']['Valor'].values[0]\n",
    "p = df[df['Lugar de residencia'] == 'Huelva (capital)'][df['Medida'] == 'Población']['Valor'].values[0]"
   ]
  },
  {
   "cell_type": "code",
   "execution_count": 10,
   "metadata": {
    "tags": []
   },
   "outputs": [
    {
     "output_type": "stream",
     "name": "stdout",
     "text": [
      "Huelva (capital)\n\nUn positivo PCR cada 951 personas en los últimos 7 días \n\nUn positivo PCR cada 386 personas en los últimos 14 días\n"
     ]
    }
   ],
   "source": [
    "print('Huelva (capital)\\n')\n",
    "#print('Confirmados PCR 7 días x 1,000 habitantes: ', f\"{c7/(p/1000):.5f}\")\n",
    "print('Un positivo PCR cada', f\"{p/c7:.0f}\", 'personas en los últimos 7 días', '\\n')\n",
    "#print('Confirmados PCR 14 días x 1,000 habitantes: ', f\"{c14/(p/1000):.5f}\")\n",
    "print('Un positivo PCR cada', f\"{p/c14:.0f}\", 'personas en los últimos 14 días')"
   ]
  },
  {
   "cell_type": "code",
   "execution_count": 11,
   "metadata": {},
   "outputs": [],
   "source": [
    "filtro = ((df['Medida'] == 'Confirmados PDIA')| (df['Medida'] == 'Confirmados PDIA 7 días') | (df['Medida'] == 'Población' ) | (df['Medida'] == 'Confirmados PDIA 14 días')) & (df['Valor'] > 0)\n",
    "tabla = pd.pivot_table(df.loc[filtro], values='Valor', index='Lugar de residencia', columns='Medida').dropna()"
   ]
  },
  {
   "cell_type": "code",
   "execution_count": 12,
   "metadata": {},
   "outputs": [],
   "source": [
    "# Reorder columns\n",
    "tabla = tabla[['Confirmados PDIA', 'Confirmados PDIA 7 días', 'Confirmados PDIA 14 días', 'Población']]"
   ]
  },
  {
   "cell_type": "code",
   "execution_count": 13,
   "metadata": {},
   "outputs": [],
   "source": [
    "tabla['tasa7'] = tabla['Confirmados PDIA 7 días']/tabla['Población']*100000\n",
    "tabla['tasa14'] = tabla['Confirmados PDIA 14 días']/tabla['Población']*100000"
   ]
  },
  {
   "cell_type": "code",
   "execution_count": 14,
   "metadata": {},
   "outputs": [],
   "source": [
    "tabla['Diferencia PDIA'] = tabla['Confirmados PDIA'] - dfAnterior['Confirmados PDIA']"
   ]
  },
  {
   "cell_type": "code",
   "execution_count": 15,
   "metadata": {},
   "outputs": [
    {
     "output_type": "execute_result",
     "data": {
      "text/plain": [
       "Medida                             Confirmados PDIA  Confirmados PDIA 7 días  \\\n",
       "Lugar de residencia                                                            \n",
       "Huelva                                      10238.0                    542.0   \n",
       "Huelva-Costa                                 5706.0                    367.0   \n",
       "Condado-Campiña                              3145.0                    152.0   \n",
       "Huelva (capital)                             2876.0                    151.0   \n",
       "Palma del Condado (La)                        477.0                     40.0   \n",
       "Aljaraque                                     388.0                     25.0   \n",
       "Bollullos Par del Condado                     234.0                      4.0   \n",
       "Villalba del Alcor                            102.0                      9.0   \n",
       "Bonares                                        43.0                      3.0   \n",
       "Cartaya                                       347.0                     37.0   \n",
       "Isla Cristina                                 376.0                     74.0   \n",
       "Lepe                                          902.0                     55.0   \n",
       "Campillo (El)                                  54.0                      2.0   \n",
       "Sierra de Huelva-Andévalo Central            1263.0                     20.0   \n",
       "Valverde del Camino                           271.0                      6.0   \n",
       "Cortelazor                                      2.0                      1.0   \n",
       "Manzanilla                                     45.0                      1.0   \n",
       "\n",
       "Medida                             Confirmados PDIA 14 días  Población  \\\n",
       "Lugar de residencia                                                      \n",
       "Huelva                                               1298.0   510743.0   \n",
       "Huelva-Costa                                          859.0   288115.0   \n",
       "Condado-Campiña                                       365.0   155057.0   \n",
       "Huelva (capital)                                      372.0   143663.0   \n",
       "Palma del Condado (La)                                 77.0    10761.0   \n",
       "Aljaraque                                              60.0    21260.0   \n",
       "Bollullos Par del Condado                              10.0    14272.0   \n",
       "Villalba del Alcor                                     15.0     3338.0   \n",
       "Bonares                                                 5.0     6058.0   \n",
       "Cartaya                                                73.0    19974.0   \n",
       "Isla Cristina                                         121.0    21264.0   \n",
       "Lepe                                                  132.0    27431.0   \n",
       "Campillo (El)                                           2.0     2023.0   \n",
       "Sierra de Huelva-Andévalo Central                      59.0    67571.0   \n",
       "Valverde del Camino                                    14.0    12820.0   \n",
       "Cortelazor                                              1.0      299.0   \n",
       "Manzanilla                                              1.0     2135.0   \n",
       "\n",
       "Medida                                  tasa7      tasa14  Diferencia PDIA  \n",
       "Lugar de residencia                                                         \n",
       "Huelva                             106.119908  254.139557             39.0  \n",
       "Huelva-Costa                       127.379692  298.144838             23.0  \n",
       "Condado-Campiña                     98.028467  235.397306             16.0  \n",
       "Huelva (capital)                   105.107091  258.939323             13.0  \n",
       "Palma del Condado (La)             371.712666  715.546882             10.0  \n",
       "Aljaraque                          117.591722  282.220132              7.0  \n",
       "Bollullos Par del Condado           28.026906   70.067265              2.0  \n",
       "Villalba del Alcor                 269.622528  449.370881              2.0  \n",
       "Bonares                             49.521294   82.535490              1.0  \n",
       "Cartaya                            185.240813  365.475118              1.0  \n",
       "Isla Cristina                      348.006020  569.036870              1.0  \n",
       "Lepe                               200.503080  481.207393              1.0  \n",
       "Campillo (El)                       98.863075   98.863075             -1.0  \n",
       "Sierra de Huelva-Andévalo Central   29.598496   87.315564             -1.0  \n",
       "Valverde del Camino                 46.801872  109.204368             -1.0  \n",
       "Cortelazor                         334.448161  334.448161              NaN  \n",
       "Manzanilla                          46.838407   46.838407              NaN  "
      ],
      "text/html": "<div>\n<style scoped>\n    .dataframe tbody tr th:only-of-type {\n        vertical-align: middle;\n    }\n\n    .dataframe tbody tr th {\n        vertical-align: top;\n    }\n\n    .dataframe thead th {\n        text-align: right;\n    }\n</style>\n<table border=\"1\" class=\"dataframe\">\n  <thead>\n    <tr style=\"text-align: right;\">\n      <th>Medida</th>\n      <th>Confirmados PDIA</th>\n      <th>Confirmados PDIA 7 días</th>\n      <th>Confirmados PDIA 14 días</th>\n      <th>Población</th>\n      <th>tasa7</th>\n      <th>tasa14</th>\n      <th>Diferencia PDIA</th>\n    </tr>\n    <tr>\n      <th>Lugar de residencia</th>\n      <th></th>\n      <th></th>\n      <th></th>\n      <th></th>\n      <th></th>\n      <th></th>\n      <th></th>\n    </tr>\n  </thead>\n  <tbody>\n    <tr>\n      <th>Huelva</th>\n      <td>10238.0</td>\n      <td>542.0</td>\n      <td>1298.0</td>\n      <td>510743.0</td>\n      <td>106.119908</td>\n      <td>254.139557</td>\n      <td>39.0</td>\n    </tr>\n    <tr>\n      <th>Huelva-Costa</th>\n      <td>5706.0</td>\n      <td>367.0</td>\n      <td>859.0</td>\n      <td>288115.0</td>\n      <td>127.379692</td>\n      <td>298.144838</td>\n      <td>23.0</td>\n    </tr>\n    <tr>\n      <th>Condado-Campiña</th>\n      <td>3145.0</td>\n      <td>152.0</td>\n      <td>365.0</td>\n      <td>155057.0</td>\n      <td>98.028467</td>\n      <td>235.397306</td>\n      <td>16.0</td>\n    </tr>\n    <tr>\n      <th>Huelva (capital)</th>\n      <td>2876.0</td>\n      <td>151.0</td>\n      <td>372.0</td>\n      <td>143663.0</td>\n      <td>105.107091</td>\n      <td>258.939323</td>\n      <td>13.0</td>\n    </tr>\n    <tr>\n      <th>Palma del Condado (La)</th>\n      <td>477.0</td>\n      <td>40.0</td>\n      <td>77.0</td>\n      <td>10761.0</td>\n      <td>371.712666</td>\n      <td>715.546882</td>\n      <td>10.0</td>\n    </tr>\n    <tr>\n      <th>Aljaraque</th>\n      <td>388.0</td>\n      <td>25.0</td>\n      <td>60.0</td>\n      <td>21260.0</td>\n      <td>117.591722</td>\n      <td>282.220132</td>\n      <td>7.0</td>\n    </tr>\n    <tr>\n      <th>Bollullos Par del Condado</th>\n      <td>234.0</td>\n      <td>4.0</td>\n      <td>10.0</td>\n      <td>14272.0</td>\n      <td>28.026906</td>\n      <td>70.067265</td>\n      <td>2.0</td>\n    </tr>\n    <tr>\n      <th>Villalba del Alcor</th>\n      <td>102.0</td>\n      <td>9.0</td>\n      <td>15.0</td>\n      <td>3338.0</td>\n      <td>269.622528</td>\n      <td>449.370881</td>\n      <td>2.0</td>\n    </tr>\n    <tr>\n      <th>Bonares</th>\n      <td>43.0</td>\n      <td>3.0</td>\n      <td>5.0</td>\n      <td>6058.0</td>\n      <td>49.521294</td>\n      <td>82.535490</td>\n      <td>1.0</td>\n    </tr>\n    <tr>\n      <th>Cartaya</th>\n      <td>347.0</td>\n      <td>37.0</td>\n      <td>73.0</td>\n      <td>19974.0</td>\n      <td>185.240813</td>\n      <td>365.475118</td>\n      <td>1.0</td>\n    </tr>\n    <tr>\n      <th>Isla Cristina</th>\n      <td>376.0</td>\n      <td>74.0</td>\n      <td>121.0</td>\n      <td>21264.0</td>\n      <td>348.006020</td>\n      <td>569.036870</td>\n      <td>1.0</td>\n    </tr>\n    <tr>\n      <th>Lepe</th>\n      <td>902.0</td>\n      <td>55.0</td>\n      <td>132.0</td>\n      <td>27431.0</td>\n      <td>200.503080</td>\n      <td>481.207393</td>\n      <td>1.0</td>\n    </tr>\n    <tr>\n      <th>Campillo (El)</th>\n      <td>54.0</td>\n      <td>2.0</td>\n      <td>2.0</td>\n      <td>2023.0</td>\n      <td>98.863075</td>\n      <td>98.863075</td>\n      <td>-1.0</td>\n    </tr>\n    <tr>\n      <th>Sierra de Huelva-Andévalo Central</th>\n      <td>1263.0</td>\n      <td>20.0</td>\n      <td>59.0</td>\n      <td>67571.0</td>\n      <td>29.598496</td>\n      <td>87.315564</td>\n      <td>-1.0</td>\n    </tr>\n    <tr>\n      <th>Valverde del Camino</th>\n      <td>271.0</td>\n      <td>6.0</td>\n      <td>14.0</td>\n      <td>12820.0</td>\n      <td>46.801872</td>\n      <td>109.204368</td>\n      <td>-1.0</td>\n    </tr>\n    <tr>\n      <th>Cortelazor</th>\n      <td>2.0</td>\n      <td>1.0</td>\n      <td>1.0</td>\n      <td>299.0</td>\n      <td>334.448161</td>\n      <td>334.448161</td>\n      <td>NaN</td>\n    </tr>\n    <tr>\n      <th>Manzanilla</th>\n      <td>45.0</td>\n      <td>1.0</td>\n      <td>1.0</td>\n      <td>2135.0</td>\n      <td>46.838407</td>\n      <td>46.838407</td>\n      <td>NaN</td>\n    </tr>\n  </tbody>\n</table>\n</div>"
     },
     "metadata": {},
     "execution_count": 15
    }
   ],
   "source": [
    "# Nuevos casos desde la última captura\n",
    "tabla[tabla['Diferencia PDIA'] != 0].sort_values('Diferencia PDIA', ascending=False)"
   ]
  },
  {
   "cell_type": "code",
   "execution_count": 16,
   "metadata": {},
   "outputs": [],
   "source": [
    "if tabla[tabla['Diferencia PDIA'] != 0]['Diferencia PDIA'].sum() > 0:\n",
    "  # Save to csv\n",
    "  tabla.to_csv('covid_huelva.csv', encoding='utf-8', header=True, index=True)  "
   ]
  },
  {
   "cell_type": "code",
   "execution_count": 17,
   "metadata": {},
   "outputs": [
    {
     "output_type": "execute_result",
     "data": {
      "text/plain": [
       "Medida                             Confirmados PDIA  Confirmados PDIA 7 días  \\\n",
       "Lugar de residencia                                                            \n",
       "Palma del Condado (La)                        477.0                     40.0   \n",
       "Lucena del Puerto                              82.0                      7.0   \n",
       "Isla Cristina                                 376.0                     74.0   \n",
       "San Bartolomé de la Torre                      44.0                     10.0   \n",
       "Sanlúcar de Guadiana                            4.0                      1.0   \n",
       "Lepe                                          902.0                     55.0   \n",
       "Villalba del Alcor                            102.0                      9.0   \n",
       "Santa Ana la Real                               3.0                      1.0   \n",
       "Palos de la Frontera                          214.0                     14.0   \n",
       "Cartaya                                       347.0                     37.0   \n",
       "Moguer                                        335.0                     34.0   \n",
       "Villanueva de los Castillejos                  58.0                      4.0   \n",
       "Cortelazor                                      2.0                      1.0   \n",
       "Huelva-Costa                                 5706.0                    367.0   \n",
       "Paterna del Campo                              60.0                      8.0   \n",
       "Aljaraque                                     388.0                     25.0   \n",
       "Ayamonte                                      317.0                      7.0   \n",
       "Huelva (capital)                             2876.0                    151.0   \n",
       "Huelva                                      10238.0                    542.0   \n",
       "Condado-Campiña                              3145.0                    152.0   \n",
       "Rociana del Condado                           114.0                      3.0   \n",
       "Nerva                                          87.0                      1.0   \n",
       "Beas                                           56.0                      3.0   \n",
       "Punta Umbría                                  226.0                     12.0   \n",
       "Campofrío                                       7.0                      1.0   \n",
       "Alájar                                          4.0                      1.0   \n",
       "Zalamea la Real                                46.0                      2.0   \n",
       "Gibraleón                                     349.0                      9.0   \n",
       "Cerro de Andévalo (El)                         37.0                      1.0   \n",
       "Valverde del Camino                           271.0                      6.0   \n",
       "Minas de Riotinto                              66.0                      3.0   \n",
       "Campillo (El)                                  54.0                      2.0   \n",
       "Puebla de Guzmán                               23.0                      1.0   \n",
       "Sierra de Huelva-Andévalo Central            1263.0                     20.0   \n",
       "Bonares                                        43.0                      3.0   \n",
       "Bollullos Par del Condado                     234.0                      4.0   \n",
       "San Juan del Puerto                           137.0                      2.0   \n",
       "Trigueros                                     127.0                      2.0   \n",
       "Manzanilla                                     45.0                      1.0   \n",
       "Jabugo                                         35.0                      1.0   \n",
       "Almonte                                       433.0                      3.0   \n",
       "\n",
       "Medida                             Confirmados PDIA 14 días  Población  \\\n",
       "Lugar de residencia                                                      \n",
       "Palma del Condado (La)                                 77.0    10761.0   \n",
       "Lucena del Puerto                                      24.0     3371.0   \n",
       "Isla Cristina                                         121.0    21264.0   \n",
       "San Bartolomé de la Torre                              19.0     3736.0   \n",
       "Sanlúcar de Guadiana                                    2.0      409.0   \n",
       "Lepe                                                  132.0    27431.0   \n",
       "Villalba del Alcor                                     15.0     3338.0   \n",
       "Santa Ana la Real                                       2.0      476.0   \n",
       "Palos de la Frontera                                   45.0    11289.0   \n",
       "Cartaya                                                73.0    19974.0   \n",
       "Moguer                                                 80.0    22088.0   \n",
       "Villanueva de los Castillejos                          10.0     2820.0   \n",
       "Cortelazor                                              1.0      299.0   \n",
       "Huelva-Costa                                          859.0   288115.0   \n",
       "Paterna del Campo                                      10.0     3509.0   \n",
       "Aljaraque                                              60.0    21260.0   \n",
       "Ayamonte                                               59.0    20946.0   \n",
       "Huelva (capital)                                      372.0   143663.0   \n",
       "Huelva                                               1298.0   510743.0   \n",
       "Condado-Campiña                                       365.0   155057.0   \n",
       "Rociana del Condado                                    18.0     7855.0   \n",
       "Nerva                                                   9.0     5235.0   \n",
       "Beas                                                    7.0     4257.0   \n",
       "Punta Umbría                                           24.0    15242.0   \n",
       "Campofrío                                               1.0      675.0   \n",
       "Alájar                                                  1.0      756.0   \n",
       "Zalamea la Real                                         4.0     3068.0   \n",
       "Gibraleón                                              16.0    12607.0   \n",
       "Cerro de Andévalo (El)                                  3.0     2364.0   \n",
       "Valverde del Camino                                    14.0    12820.0   \n",
       "Minas de Riotinto                                       4.0     3848.0   \n",
       "Campillo (El)                                           2.0     2023.0   \n",
       "Puebla de Guzmán                                        3.0     3073.0   \n",
       "Sierra de Huelva-Andévalo Central                      59.0    67571.0   \n",
       "Bonares                                                 5.0     6058.0   \n",
       "Bollullos Par del Condado                              10.0    14272.0   \n",
       "San Juan del Puerto                                     5.0     9300.0   \n",
       "Trigueros                                               4.0     7713.0   \n",
       "Manzanilla                                              1.0     2135.0   \n",
       "Jabugo                                                  1.0     2250.0   \n",
       "Almonte                                                 9.0    24191.0   \n",
       "\n",
       "Medida                                  tasa7      tasa14  Diferencia PDIA  \n",
       "Lugar de residencia                                                         \n",
       "Palma del Condado (La)             371.712666  715.546882             10.0  \n",
       "Lucena del Puerto                  207.653515  711.954910              0.0  \n",
       "Isla Cristina                      348.006020  569.036870              1.0  \n",
       "San Bartolomé de la Torre          267.665953  508.565310              0.0  \n",
       "Sanlúcar de Guadiana               244.498778  488.997555              0.0  \n",
       "Lepe                               200.503080  481.207393              1.0  \n",
       "Villalba del Alcor                 269.622528  449.370881              2.0  \n",
       "Santa Ana la Real                  210.084034  420.168067              0.0  \n",
       "Palos de la Frontera               124.014527  398.618124              0.0  \n",
       "Cartaya                            185.240813  365.475118              1.0  \n",
       "Moguer                             153.929736  362.187613              0.0  \n",
       "Villanueva de los Castillejos      141.843972  354.609929              0.0  \n",
       "Cortelazor                         334.448161  334.448161              NaN  \n",
       "Huelva-Costa                       127.379692  298.144838             23.0  \n",
       "Paterna del Campo                  227.985181  284.981476              0.0  \n",
       "Aljaraque                          117.591722  282.220132              7.0  \n",
       "Ayamonte                            33.419269  281.676692              0.0  \n",
       "Huelva (capital)                   105.107091  258.939323             13.0  \n",
       "Huelva                             106.119908  254.139557             39.0  \n",
       "Condado-Campiña                     98.028467  235.397306             16.0  \n",
       "Rociana del Condado                 38.192234  229.153405              0.0  \n",
       "Nerva                               19.102197  171.919771              0.0  \n",
       "Beas                                70.472163  164.435048              0.0  \n",
       "Punta Umbría                        78.729825  157.459651              0.0  \n",
       "Campofrío                          148.148148  148.148148              0.0  \n",
       "Alájar                             132.275132  132.275132              0.0  \n",
       "Zalamea la Real                     65.189048  130.378096              0.0  \n",
       "Gibraleón                           71.388911  126.913619              0.0  \n",
       "Cerro de Andévalo (El)              42.301184  126.903553              0.0  \n",
       "Valverde del Camino                 46.801872  109.204368             -1.0  \n",
       "Minas de Riotinto                   77.962578  103.950104              0.0  \n",
       "Campillo (El)                       98.863075   98.863075             -1.0  \n",
       "Puebla de Guzmán                    32.541490   97.624471              0.0  \n",
       "Sierra de Huelva-Andévalo Central   29.598496   87.315564             -1.0  \n",
       "Bonares                             49.521294   82.535490              1.0  \n",
       "Bollullos Par del Condado           28.026906   70.067265              2.0  \n",
       "San Juan del Puerto                 21.505376   53.763441              0.0  \n",
       "Trigueros                           25.930248   51.860495              0.0  \n",
       "Manzanilla                          46.838407   46.838407              NaN  \n",
       "Jabugo                              44.444444   44.444444              0.0  \n",
       "Almonte                             12.401306   37.203919              0.0  "
      ],
      "text/html": "<div>\n<style scoped>\n    .dataframe tbody tr th:only-of-type {\n        vertical-align: middle;\n    }\n\n    .dataframe tbody tr th {\n        vertical-align: top;\n    }\n\n    .dataframe thead th {\n        text-align: right;\n    }\n</style>\n<table border=\"1\" class=\"dataframe\">\n  <thead>\n    <tr style=\"text-align: right;\">\n      <th>Medida</th>\n      <th>Confirmados PDIA</th>\n      <th>Confirmados PDIA 7 días</th>\n      <th>Confirmados PDIA 14 días</th>\n      <th>Población</th>\n      <th>tasa7</th>\n      <th>tasa14</th>\n      <th>Diferencia PDIA</th>\n    </tr>\n    <tr>\n      <th>Lugar de residencia</th>\n      <th></th>\n      <th></th>\n      <th></th>\n      <th></th>\n      <th></th>\n      <th></th>\n      <th></th>\n    </tr>\n  </thead>\n  <tbody>\n    <tr>\n      <th>Palma del Condado (La)</th>\n      <td>477.0</td>\n      <td>40.0</td>\n      <td>77.0</td>\n      <td>10761.0</td>\n      <td>371.712666</td>\n      <td>715.546882</td>\n      <td>10.0</td>\n    </tr>\n    <tr>\n      <th>Lucena del Puerto</th>\n      <td>82.0</td>\n      <td>7.0</td>\n      <td>24.0</td>\n      <td>3371.0</td>\n      <td>207.653515</td>\n      <td>711.954910</td>\n      <td>0.0</td>\n    </tr>\n    <tr>\n      <th>Isla Cristina</th>\n      <td>376.0</td>\n      <td>74.0</td>\n      <td>121.0</td>\n      <td>21264.0</td>\n      <td>348.006020</td>\n      <td>569.036870</td>\n      <td>1.0</td>\n    </tr>\n    <tr>\n      <th>San Bartolomé de la Torre</th>\n      <td>44.0</td>\n      <td>10.0</td>\n      <td>19.0</td>\n      <td>3736.0</td>\n      <td>267.665953</td>\n      <td>508.565310</td>\n      <td>0.0</td>\n    </tr>\n    <tr>\n      <th>Sanlúcar de Guadiana</th>\n      <td>4.0</td>\n      <td>1.0</td>\n      <td>2.0</td>\n      <td>409.0</td>\n      <td>244.498778</td>\n      <td>488.997555</td>\n      <td>0.0</td>\n    </tr>\n    <tr>\n      <th>Lepe</th>\n      <td>902.0</td>\n      <td>55.0</td>\n      <td>132.0</td>\n      <td>27431.0</td>\n      <td>200.503080</td>\n      <td>481.207393</td>\n      <td>1.0</td>\n    </tr>\n    <tr>\n      <th>Villalba del Alcor</th>\n      <td>102.0</td>\n      <td>9.0</td>\n      <td>15.0</td>\n      <td>3338.0</td>\n      <td>269.622528</td>\n      <td>449.370881</td>\n      <td>2.0</td>\n    </tr>\n    <tr>\n      <th>Santa Ana la Real</th>\n      <td>3.0</td>\n      <td>1.0</td>\n      <td>2.0</td>\n      <td>476.0</td>\n      <td>210.084034</td>\n      <td>420.168067</td>\n      <td>0.0</td>\n    </tr>\n    <tr>\n      <th>Palos de la Frontera</th>\n      <td>214.0</td>\n      <td>14.0</td>\n      <td>45.0</td>\n      <td>11289.0</td>\n      <td>124.014527</td>\n      <td>398.618124</td>\n      <td>0.0</td>\n    </tr>\n    <tr>\n      <th>Cartaya</th>\n      <td>347.0</td>\n      <td>37.0</td>\n      <td>73.0</td>\n      <td>19974.0</td>\n      <td>185.240813</td>\n      <td>365.475118</td>\n      <td>1.0</td>\n    </tr>\n    <tr>\n      <th>Moguer</th>\n      <td>335.0</td>\n      <td>34.0</td>\n      <td>80.0</td>\n      <td>22088.0</td>\n      <td>153.929736</td>\n      <td>362.187613</td>\n      <td>0.0</td>\n    </tr>\n    <tr>\n      <th>Villanueva de los Castillejos</th>\n      <td>58.0</td>\n      <td>4.0</td>\n      <td>10.0</td>\n      <td>2820.0</td>\n      <td>141.843972</td>\n      <td>354.609929</td>\n      <td>0.0</td>\n    </tr>\n    <tr>\n      <th>Cortelazor</th>\n      <td>2.0</td>\n      <td>1.0</td>\n      <td>1.0</td>\n      <td>299.0</td>\n      <td>334.448161</td>\n      <td>334.448161</td>\n      <td>NaN</td>\n    </tr>\n    <tr>\n      <th>Huelva-Costa</th>\n      <td>5706.0</td>\n      <td>367.0</td>\n      <td>859.0</td>\n      <td>288115.0</td>\n      <td>127.379692</td>\n      <td>298.144838</td>\n      <td>23.0</td>\n    </tr>\n    <tr>\n      <th>Paterna del Campo</th>\n      <td>60.0</td>\n      <td>8.0</td>\n      <td>10.0</td>\n      <td>3509.0</td>\n      <td>227.985181</td>\n      <td>284.981476</td>\n      <td>0.0</td>\n    </tr>\n    <tr>\n      <th>Aljaraque</th>\n      <td>388.0</td>\n      <td>25.0</td>\n      <td>60.0</td>\n      <td>21260.0</td>\n      <td>117.591722</td>\n      <td>282.220132</td>\n      <td>7.0</td>\n    </tr>\n    <tr>\n      <th>Ayamonte</th>\n      <td>317.0</td>\n      <td>7.0</td>\n      <td>59.0</td>\n      <td>20946.0</td>\n      <td>33.419269</td>\n      <td>281.676692</td>\n      <td>0.0</td>\n    </tr>\n    <tr>\n      <th>Huelva (capital)</th>\n      <td>2876.0</td>\n      <td>151.0</td>\n      <td>372.0</td>\n      <td>143663.0</td>\n      <td>105.107091</td>\n      <td>258.939323</td>\n      <td>13.0</td>\n    </tr>\n    <tr>\n      <th>Huelva</th>\n      <td>10238.0</td>\n      <td>542.0</td>\n      <td>1298.0</td>\n      <td>510743.0</td>\n      <td>106.119908</td>\n      <td>254.139557</td>\n      <td>39.0</td>\n    </tr>\n    <tr>\n      <th>Condado-Campiña</th>\n      <td>3145.0</td>\n      <td>152.0</td>\n      <td>365.0</td>\n      <td>155057.0</td>\n      <td>98.028467</td>\n      <td>235.397306</td>\n      <td>16.0</td>\n    </tr>\n    <tr>\n      <th>Rociana del Condado</th>\n      <td>114.0</td>\n      <td>3.0</td>\n      <td>18.0</td>\n      <td>7855.0</td>\n      <td>38.192234</td>\n      <td>229.153405</td>\n      <td>0.0</td>\n    </tr>\n    <tr>\n      <th>Nerva</th>\n      <td>87.0</td>\n      <td>1.0</td>\n      <td>9.0</td>\n      <td>5235.0</td>\n      <td>19.102197</td>\n      <td>171.919771</td>\n      <td>0.0</td>\n    </tr>\n    <tr>\n      <th>Beas</th>\n      <td>56.0</td>\n      <td>3.0</td>\n      <td>7.0</td>\n      <td>4257.0</td>\n      <td>70.472163</td>\n      <td>164.435048</td>\n      <td>0.0</td>\n    </tr>\n    <tr>\n      <th>Punta Umbría</th>\n      <td>226.0</td>\n      <td>12.0</td>\n      <td>24.0</td>\n      <td>15242.0</td>\n      <td>78.729825</td>\n      <td>157.459651</td>\n      <td>0.0</td>\n    </tr>\n    <tr>\n      <th>Campofrío</th>\n      <td>7.0</td>\n      <td>1.0</td>\n      <td>1.0</td>\n      <td>675.0</td>\n      <td>148.148148</td>\n      <td>148.148148</td>\n      <td>0.0</td>\n    </tr>\n    <tr>\n      <th>Alájar</th>\n      <td>4.0</td>\n      <td>1.0</td>\n      <td>1.0</td>\n      <td>756.0</td>\n      <td>132.275132</td>\n      <td>132.275132</td>\n      <td>0.0</td>\n    </tr>\n    <tr>\n      <th>Zalamea la Real</th>\n      <td>46.0</td>\n      <td>2.0</td>\n      <td>4.0</td>\n      <td>3068.0</td>\n      <td>65.189048</td>\n      <td>130.378096</td>\n      <td>0.0</td>\n    </tr>\n    <tr>\n      <th>Gibraleón</th>\n      <td>349.0</td>\n      <td>9.0</td>\n      <td>16.0</td>\n      <td>12607.0</td>\n      <td>71.388911</td>\n      <td>126.913619</td>\n      <td>0.0</td>\n    </tr>\n    <tr>\n      <th>Cerro de Andévalo (El)</th>\n      <td>37.0</td>\n      <td>1.0</td>\n      <td>3.0</td>\n      <td>2364.0</td>\n      <td>42.301184</td>\n      <td>126.903553</td>\n      <td>0.0</td>\n    </tr>\n    <tr>\n      <th>Valverde del Camino</th>\n      <td>271.0</td>\n      <td>6.0</td>\n      <td>14.0</td>\n      <td>12820.0</td>\n      <td>46.801872</td>\n      <td>109.204368</td>\n      <td>-1.0</td>\n    </tr>\n    <tr>\n      <th>Minas de Riotinto</th>\n      <td>66.0</td>\n      <td>3.0</td>\n      <td>4.0</td>\n      <td>3848.0</td>\n      <td>77.962578</td>\n      <td>103.950104</td>\n      <td>0.0</td>\n    </tr>\n    <tr>\n      <th>Campillo (El)</th>\n      <td>54.0</td>\n      <td>2.0</td>\n      <td>2.0</td>\n      <td>2023.0</td>\n      <td>98.863075</td>\n      <td>98.863075</td>\n      <td>-1.0</td>\n    </tr>\n    <tr>\n      <th>Puebla de Guzmán</th>\n      <td>23.0</td>\n      <td>1.0</td>\n      <td>3.0</td>\n      <td>3073.0</td>\n      <td>32.541490</td>\n      <td>97.624471</td>\n      <td>0.0</td>\n    </tr>\n    <tr>\n      <th>Sierra de Huelva-Andévalo Central</th>\n      <td>1263.0</td>\n      <td>20.0</td>\n      <td>59.0</td>\n      <td>67571.0</td>\n      <td>29.598496</td>\n      <td>87.315564</td>\n      <td>-1.0</td>\n    </tr>\n    <tr>\n      <th>Bonares</th>\n      <td>43.0</td>\n      <td>3.0</td>\n      <td>5.0</td>\n      <td>6058.0</td>\n      <td>49.521294</td>\n      <td>82.535490</td>\n      <td>1.0</td>\n    </tr>\n    <tr>\n      <th>Bollullos Par del Condado</th>\n      <td>234.0</td>\n      <td>4.0</td>\n      <td>10.0</td>\n      <td>14272.0</td>\n      <td>28.026906</td>\n      <td>70.067265</td>\n      <td>2.0</td>\n    </tr>\n    <tr>\n      <th>San Juan del Puerto</th>\n      <td>137.0</td>\n      <td>2.0</td>\n      <td>5.0</td>\n      <td>9300.0</td>\n      <td>21.505376</td>\n      <td>53.763441</td>\n      <td>0.0</td>\n    </tr>\n    <tr>\n      <th>Trigueros</th>\n      <td>127.0</td>\n      <td>2.0</td>\n      <td>4.0</td>\n      <td>7713.0</td>\n      <td>25.930248</td>\n      <td>51.860495</td>\n      <td>0.0</td>\n    </tr>\n    <tr>\n      <th>Manzanilla</th>\n      <td>45.0</td>\n      <td>1.0</td>\n      <td>1.0</td>\n      <td>2135.0</td>\n      <td>46.838407</td>\n      <td>46.838407</td>\n      <td>NaN</td>\n    </tr>\n    <tr>\n      <th>Jabugo</th>\n      <td>35.0</td>\n      <td>1.0</td>\n      <td>1.0</td>\n      <td>2250.0</td>\n      <td>44.444444</td>\n      <td>44.444444</td>\n      <td>0.0</td>\n    </tr>\n    <tr>\n      <th>Almonte</th>\n      <td>433.0</td>\n      <td>3.0</td>\n      <td>9.0</td>\n      <td>24191.0</td>\n      <td>12.401306</td>\n      <td>37.203919</td>\n      <td>0.0</td>\n    </tr>\n  </tbody>\n</table>\n</div>"
     },
     "metadata": {},
     "execution_count": 17
    }
   ],
   "source": [
    "tabla.sort_values('tasa14', ascending=False)"
   ]
  },
  {
   "cell_type": "code",
   "execution_count": 18,
   "metadata": {},
   "outputs": [
    {
     "output_type": "execute_result",
     "data": {
      "text/plain": [
       "Medida                             Confirmados PDIA  Confirmados PDIA 7 días  \\\n",
       "Lugar de residencia                                                            \n",
       "Nerva                                          87.0                      1.0   \n",
       "Ayamonte                                      317.0                      7.0   \n",
       "Rociana del Condado                           114.0                      3.0   \n",
       "Lucena del Puerto                              82.0                      7.0   \n",
       "Palos de la Frontera                          214.0                     14.0   \n",
       "Puebla de Guzmán                               23.0                      1.0   \n",
       "Cerro de Andévalo (El)                         37.0                      1.0   \n",
       "Almonte                                       433.0                      3.0   \n",
       "Sierra de Huelva-Andévalo Central            1263.0                     20.0   \n",
       "San Juan del Puerto                           137.0                      2.0   \n",
       "Villanueva de los Castillejos                  58.0                      4.0   \n",
       "Bollullos Par del Condado                     234.0                      4.0   \n",
       "Huelva (capital)                             2876.0                    151.0   \n",
       "Condado-Campiña                              3145.0                    152.0   \n",
       "Aljaraque                                     388.0                     25.0   \n",
       "Lepe                                          902.0                     55.0   \n",
       "Huelva                                      10238.0                    542.0   \n",
       "Moguer                                        335.0                     34.0   \n",
       "Huelva-Costa                                 5706.0                    367.0   \n",
       "Beas                                           56.0                      3.0   \n",
       "Valverde del Camino                           271.0                      6.0   \n",
       "Zalamea la Real                                46.0                      2.0   \n",
       "Trigueros                                     127.0                      2.0   \n",
       "Santa Ana la Real                               3.0                      1.0   \n",
       "Sanlúcar de Guadiana                            4.0                      1.0   \n",
       "Punta Umbría                                  226.0                     12.0   \n",
       "Cartaya                                       347.0                     37.0   \n",
       "Palma del Condado (La)                        477.0                     40.0   \n",
       "San Bartolomé de la Torre                      44.0                     10.0   \n",
       "Gibraleón                                     349.0                      9.0   \n",
       "Bonares                                        43.0                      3.0   \n",
       "Villalba del Alcor                            102.0                      9.0   \n",
       "Isla Cristina                                 376.0                     74.0   \n",
       "Minas de Riotinto                              66.0                      3.0   \n",
       "Paterna del Campo                              60.0                      8.0   \n",
       "Campofrío                                       7.0                      1.0   \n",
       "Manzanilla                                     45.0                      1.0   \n",
       "Cortelazor                                      2.0                      1.0   \n",
       "Alájar                                          4.0                      1.0   \n",
       "Jabugo                                         35.0                      1.0   \n",
       "Campillo (El)                                  54.0                      2.0   \n",
       "\n",
       "Medida                             Confirmados PDIA 14 días  Población  \\\n",
       "Lugar de residencia                                                      \n",
       "Nerva                                                   9.0     5235.0   \n",
       "Ayamonte                                               59.0    20946.0   \n",
       "Rociana del Condado                                    18.0     7855.0   \n",
       "Lucena del Puerto                                      24.0     3371.0   \n",
       "Palos de la Frontera                                   45.0    11289.0   \n",
       "Puebla de Guzmán                                        3.0     3073.0   \n",
       "Cerro de Andévalo (El)                                  3.0     2364.0   \n",
       "Almonte                                                 9.0    24191.0   \n",
       "Sierra de Huelva-Andévalo Central                      59.0    67571.0   \n",
       "San Juan del Puerto                                     5.0     9300.0   \n",
       "Villanueva de los Castillejos                          10.0     2820.0   \n",
       "Bollullos Par del Condado                              10.0    14272.0   \n",
       "Huelva (capital)                                      372.0   143663.0   \n",
       "Condado-Campiña                                       365.0   155057.0   \n",
       "Aljaraque                                              60.0    21260.0   \n",
       "Lepe                                                  132.0    27431.0   \n",
       "Huelva                                               1298.0   510743.0   \n",
       "Moguer                                                 80.0    22088.0   \n",
       "Huelva-Costa                                          859.0   288115.0   \n",
       "Beas                                                    7.0     4257.0   \n",
       "Valverde del Camino                                    14.0    12820.0   \n",
       "Zalamea la Real                                         4.0     3068.0   \n",
       "Trigueros                                               4.0     7713.0   \n",
       "Santa Ana la Real                                       2.0      476.0   \n",
       "Sanlúcar de Guadiana                                    2.0      409.0   \n",
       "Punta Umbría                                           24.0    15242.0   \n",
       "Cartaya                                                73.0    19974.0   \n",
       "Palma del Condado (La)                                 77.0    10761.0   \n",
       "San Bartolomé de la Torre                              19.0     3736.0   \n",
       "Gibraleón                                              16.0    12607.0   \n",
       "Bonares                                                 5.0     6058.0   \n",
       "Villalba del Alcor                                     15.0     3338.0   \n",
       "Isla Cristina                                         121.0    21264.0   \n",
       "Minas de Riotinto                                       4.0     3848.0   \n",
       "Paterna del Campo                                      10.0     3509.0   \n",
       "Campofrío                                               1.0      675.0   \n",
       "Manzanilla                                              1.0     2135.0   \n",
       "Cortelazor                                              1.0      299.0   \n",
       "Alájar                                                  1.0      756.0   \n",
       "Jabugo                                                  1.0     2250.0   \n",
       "Campillo (El)                                           2.0     2023.0   \n",
       "\n",
       "Medida                                  tasa7      tasa14  Diferencia PDIA  \\\n",
       "Lugar de residencia                                                          \n",
       "Nerva                               19.102197  171.919771              0.0   \n",
       "Ayamonte                            33.419269  281.676692              0.0   \n",
       "Rociana del Condado                 38.192234  229.153405              0.0   \n",
       "Lucena del Puerto                  207.653515  711.954910              0.0   \n",
       "Palos de la Frontera               124.014527  398.618124              0.0   \n",
       "Puebla de Guzmán                    32.541490   97.624471              0.0   \n",
       "Cerro de Andévalo (El)              42.301184  126.903553              0.0   \n",
       "Almonte                             12.401306   37.203919              0.0   \n",
       "Sierra de Huelva-Andévalo Central   29.598496   87.315564             -1.0   \n",
       "San Juan del Puerto                 21.505376   53.763441              0.0   \n",
       "Villanueva de los Castillejos      141.843972  354.609929              0.0   \n",
       "Bollullos Par del Condado           28.026906   70.067265              2.0   \n",
       "Huelva (capital)                   105.107091  258.939323             13.0   \n",
       "Condado-Campiña                     98.028467  235.397306             16.0   \n",
       "Aljaraque                          117.591722  282.220132              7.0   \n",
       "Lepe                               200.503080  481.207393              1.0   \n",
       "Huelva                             106.119908  254.139557             39.0   \n",
       "Moguer                             153.929736  362.187613              0.0   \n",
       "Huelva-Costa                       127.379692  298.144838             23.0   \n",
       "Beas                                70.472163  164.435048              0.0   \n",
       "Valverde del Camino                 46.801872  109.204368             -1.0   \n",
       "Zalamea la Real                     65.189048  130.378096              0.0   \n",
       "Trigueros                           25.930248   51.860495              0.0   \n",
       "Santa Ana la Real                  210.084034  420.168067              0.0   \n",
       "Sanlúcar de Guadiana               244.498778  488.997555              0.0   \n",
       "Punta Umbría                        78.729825  157.459651              0.0   \n",
       "Cartaya                            185.240813  365.475118              1.0   \n",
       "Palma del Condado (La)             371.712666  715.546882             10.0   \n",
       "San Bartolomé de la Torre          267.665953  508.565310              0.0   \n",
       "Gibraleón                           71.388911  126.913619              0.0   \n",
       "Bonares                             49.521294   82.535490              1.0   \n",
       "Villalba del Alcor                 269.622528  449.370881              2.0   \n",
       "Isla Cristina                      348.006020  569.036870              1.0   \n",
       "Minas de Riotinto                   77.962578  103.950104              0.0   \n",
       "Paterna del Campo                  227.985181  284.981476              0.0   \n",
       "Campofrío                          148.148148  148.148148              0.0   \n",
       "Manzanilla                          46.838407   46.838407              0.0   \n",
       "Cortelazor                         334.448161  334.448161              0.0   \n",
       "Alájar                             132.275132  132.275132              0.0   \n",
       "Jabugo                              44.444444   44.444444              0.0   \n",
       "Campillo (El)                       98.863075   98.863075             -1.0   \n",
       "\n",
       "Medida                                 7/14  \n",
       "Lugar de residencia                          \n",
       "Nerva                              0.111111  \n",
       "Ayamonte                           0.118644  \n",
       "Rociana del Condado                0.166667  \n",
       "Lucena del Puerto                  0.291667  \n",
       "Palos de la Frontera               0.311111  \n",
       "Puebla de Guzmán                   0.333333  \n",
       "Cerro de Andévalo (El)             0.333333  \n",
       "Almonte                            0.333333  \n",
       "Sierra de Huelva-Andévalo Central  0.338983  \n",
       "San Juan del Puerto                0.400000  \n",
       "Villanueva de los Castillejos      0.400000  \n",
       "Bollullos Par del Condado          0.400000  \n",
       "Huelva (capital)                   0.405914  \n",
       "Condado-Campiña                    0.416438  \n",
       "Aljaraque                          0.416667  \n",
       "Lepe                               0.416667  \n",
       "Huelva                             0.417565  \n",
       "Moguer                             0.425000  \n",
       "Huelva-Costa                       0.427241  \n",
       "Beas                               0.428571  \n",
       "Valverde del Camino                0.428571  \n",
       "Zalamea la Real                    0.500000  \n",
       "Trigueros                          0.500000  \n",
       "Santa Ana la Real                  0.500000  \n",
       "Sanlúcar de Guadiana               0.500000  \n",
       "Punta Umbría                       0.500000  \n",
       "Cartaya                            0.506849  \n",
       "Palma del Condado (La)             0.519481  \n",
       "San Bartolomé de la Torre          0.526316  \n",
       "Gibraleón                          0.562500  \n",
       "Bonares                            0.600000  \n",
       "Villalba del Alcor                 0.600000  \n",
       "Isla Cristina                      0.611570  \n",
       "Minas de Riotinto                  0.750000  \n",
       "Paterna del Campo                  0.800000  \n",
       "Campofrío                          1.000000  \n",
       "Manzanilla                         1.000000  \n",
       "Cortelazor                         1.000000  \n",
       "Alájar                             1.000000  \n",
       "Jabugo                             1.000000  \n",
       "Campillo (El)                      1.000000  "
      ],
      "text/html": "<div>\n<style scoped>\n    .dataframe tbody tr th:only-of-type {\n        vertical-align: middle;\n    }\n\n    .dataframe tbody tr th {\n        vertical-align: top;\n    }\n\n    .dataframe thead th {\n        text-align: right;\n    }\n</style>\n<table border=\"1\" class=\"dataframe\">\n  <thead>\n    <tr style=\"text-align: right;\">\n      <th>Medida</th>\n      <th>Confirmados PDIA</th>\n      <th>Confirmados PDIA 7 días</th>\n      <th>Confirmados PDIA 14 días</th>\n      <th>Población</th>\n      <th>tasa7</th>\n      <th>tasa14</th>\n      <th>Diferencia PDIA</th>\n      <th>7/14</th>\n    </tr>\n    <tr>\n      <th>Lugar de residencia</th>\n      <th></th>\n      <th></th>\n      <th></th>\n      <th></th>\n      <th></th>\n      <th></th>\n      <th></th>\n      <th></th>\n    </tr>\n  </thead>\n  <tbody>\n    <tr>\n      <th>Nerva</th>\n      <td>87.0</td>\n      <td>1.0</td>\n      <td>9.0</td>\n      <td>5235.0</td>\n      <td>19.102197</td>\n      <td>171.919771</td>\n      <td>0.0</td>\n      <td>0.111111</td>\n    </tr>\n    <tr>\n      <th>Ayamonte</th>\n      <td>317.0</td>\n      <td>7.0</td>\n      <td>59.0</td>\n      <td>20946.0</td>\n      <td>33.419269</td>\n      <td>281.676692</td>\n      <td>0.0</td>\n      <td>0.118644</td>\n    </tr>\n    <tr>\n      <th>Rociana del Condado</th>\n      <td>114.0</td>\n      <td>3.0</td>\n      <td>18.0</td>\n      <td>7855.0</td>\n      <td>38.192234</td>\n      <td>229.153405</td>\n      <td>0.0</td>\n      <td>0.166667</td>\n    </tr>\n    <tr>\n      <th>Lucena del Puerto</th>\n      <td>82.0</td>\n      <td>7.0</td>\n      <td>24.0</td>\n      <td>3371.0</td>\n      <td>207.653515</td>\n      <td>711.954910</td>\n      <td>0.0</td>\n      <td>0.291667</td>\n    </tr>\n    <tr>\n      <th>Palos de la Frontera</th>\n      <td>214.0</td>\n      <td>14.0</td>\n      <td>45.0</td>\n      <td>11289.0</td>\n      <td>124.014527</td>\n      <td>398.618124</td>\n      <td>0.0</td>\n      <td>0.311111</td>\n    </tr>\n    <tr>\n      <th>Puebla de Guzmán</th>\n      <td>23.0</td>\n      <td>1.0</td>\n      <td>3.0</td>\n      <td>3073.0</td>\n      <td>32.541490</td>\n      <td>97.624471</td>\n      <td>0.0</td>\n      <td>0.333333</td>\n    </tr>\n    <tr>\n      <th>Cerro de Andévalo (El)</th>\n      <td>37.0</td>\n      <td>1.0</td>\n      <td>3.0</td>\n      <td>2364.0</td>\n      <td>42.301184</td>\n      <td>126.903553</td>\n      <td>0.0</td>\n      <td>0.333333</td>\n    </tr>\n    <tr>\n      <th>Almonte</th>\n      <td>433.0</td>\n      <td>3.0</td>\n      <td>9.0</td>\n      <td>24191.0</td>\n      <td>12.401306</td>\n      <td>37.203919</td>\n      <td>0.0</td>\n      <td>0.333333</td>\n    </tr>\n    <tr>\n      <th>Sierra de Huelva-Andévalo Central</th>\n      <td>1263.0</td>\n      <td>20.0</td>\n      <td>59.0</td>\n      <td>67571.0</td>\n      <td>29.598496</td>\n      <td>87.315564</td>\n      <td>-1.0</td>\n      <td>0.338983</td>\n    </tr>\n    <tr>\n      <th>San Juan del Puerto</th>\n      <td>137.0</td>\n      <td>2.0</td>\n      <td>5.0</td>\n      <td>9300.0</td>\n      <td>21.505376</td>\n      <td>53.763441</td>\n      <td>0.0</td>\n      <td>0.400000</td>\n    </tr>\n    <tr>\n      <th>Villanueva de los Castillejos</th>\n      <td>58.0</td>\n      <td>4.0</td>\n      <td>10.0</td>\n      <td>2820.0</td>\n      <td>141.843972</td>\n      <td>354.609929</td>\n      <td>0.0</td>\n      <td>0.400000</td>\n    </tr>\n    <tr>\n      <th>Bollullos Par del Condado</th>\n      <td>234.0</td>\n      <td>4.0</td>\n      <td>10.0</td>\n      <td>14272.0</td>\n      <td>28.026906</td>\n      <td>70.067265</td>\n      <td>2.0</td>\n      <td>0.400000</td>\n    </tr>\n    <tr>\n      <th>Huelva (capital)</th>\n      <td>2876.0</td>\n      <td>151.0</td>\n      <td>372.0</td>\n      <td>143663.0</td>\n      <td>105.107091</td>\n      <td>258.939323</td>\n      <td>13.0</td>\n      <td>0.405914</td>\n    </tr>\n    <tr>\n      <th>Condado-Campiña</th>\n      <td>3145.0</td>\n      <td>152.0</td>\n      <td>365.0</td>\n      <td>155057.0</td>\n      <td>98.028467</td>\n      <td>235.397306</td>\n      <td>16.0</td>\n      <td>0.416438</td>\n    </tr>\n    <tr>\n      <th>Aljaraque</th>\n      <td>388.0</td>\n      <td>25.0</td>\n      <td>60.0</td>\n      <td>21260.0</td>\n      <td>117.591722</td>\n      <td>282.220132</td>\n      <td>7.0</td>\n      <td>0.416667</td>\n    </tr>\n    <tr>\n      <th>Lepe</th>\n      <td>902.0</td>\n      <td>55.0</td>\n      <td>132.0</td>\n      <td>27431.0</td>\n      <td>200.503080</td>\n      <td>481.207393</td>\n      <td>1.0</td>\n      <td>0.416667</td>\n    </tr>\n    <tr>\n      <th>Huelva</th>\n      <td>10238.0</td>\n      <td>542.0</td>\n      <td>1298.0</td>\n      <td>510743.0</td>\n      <td>106.119908</td>\n      <td>254.139557</td>\n      <td>39.0</td>\n      <td>0.417565</td>\n    </tr>\n    <tr>\n      <th>Moguer</th>\n      <td>335.0</td>\n      <td>34.0</td>\n      <td>80.0</td>\n      <td>22088.0</td>\n      <td>153.929736</td>\n      <td>362.187613</td>\n      <td>0.0</td>\n      <td>0.425000</td>\n    </tr>\n    <tr>\n      <th>Huelva-Costa</th>\n      <td>5706.0</td>\n      <td>367.0</td>\n      <td>859.0</td>\n      <td>288115.0</td>\n      <td>127.379692</td>\n      <td>298.144838</td>\n      <td>23.0</td>\n      <td>0.427241</td>\n    </tr>\n    <tr>\n      <th>Beas</th>\n      <td>56.0</td>\n      <td>3.0</td>\n      <td>7.0</td>\n      <td>4257.0</td>\n      <td>70.472163</td>\n      <td>164.435048</td>\n      <td>0.0</td>\n      <td>0.428571</td>\n    </tr>\n    <tr>\n      <th>Valverde del Camino</th>\n      <td>271.0</td>\n      <td>6.0</td>\n      <td>14.0</td>\n      <td>12820.0</td>\n      <td>46.801872</td>\n      <td>109.204368</td>\n      <td>-1.0</td>\n      <td>0.428571</td>\n    </tr>\n    <tr>\n      <th>Zalamea la Real</th>\n      <td>46.0</td>\n      <td>2.0</td>\n      <td>4.0</td>\n      <td>3068.0</td>\n      <td>65.189048</td>\n      <td>130.378096</td>\n      <td>0.0</td>\n      <td>0.500000</td>\n    </tr>\n    <tr>\n      <th>Trigueros</th>\n      <td>127.0</td>\n      <td>2.0</td>\n      <td>4.0</td>\n      <td>7713.0</td>\n      <td>25.930248</td>\n      <td>51.860495</td>\n      <td>0.0</td>\n      <td>0.500000</td>\n    </tr>\n    <tr>\n      <th>Santa Ana la Real</th>\n      <td>3.0</td>\n      <td>1.0</td>\n      <td>2.0</td>\n      <td>476.0</td>\n      <td>210.084034</td>\n      <td>420.168067</td>\n      <td>0.0</td>\n      <td>0.500000</td>\n    </tr>\n    <tr>\n      <th>Sanlúcar de Guadiana</th>\n      <td>4.0</td>\n      <td>1.0</td>\n      <td>2.0</td>\n      <td>409.0</td>\n      <td>244.498778</td>\n      <td>488.997555</td>\n      <td>0.0</td>\n      <td>0.500000</td>\n    </tr>\n    <tr>\n      <th>Punta Umbría</th>\n      <td>226.0</td>\n      <td>12.0</td>\n      <td>24.0</td>\n      <td>15242.0</td>\n      <td>78.729825</td>\n      <td>157.459651</td>\n      <td>0.0</td>\n      <td>0.500000</td>\n    </tr>\n    <tr>\n      <th>Cartaya</th>\n      <td>347.0</td>\n      <td>37.0</td>\n      <td>73.0</td>\n      <td>19974.0</td>\n      <td>185.240813</td>\n      <td>365.475118</td>\n      <td>1.0</td>\n      <td>0.506849</td>\n    </tr>\n    <tr>\n      <th>Palma del Condado (La)</th>\n      <td>477.0</td>\n      <td>40.0</td>\n      <td>77.0</td>\n      <td>10761.0</td>\n      <td>371.712666</td>\n      <td>715.546882</td>\n      <td>10.0</td>\n      <td>0.519481</td>\n    </tr>\n    <tr>\n      <th>San Bartolomé de la Torre</th>\n      <td>44.0</td>\n      <td>10.0</td>\n      <td>19.0</td>\n      <td>3736.0</td>\n      <td>267.665953</td>\n      <td>508.565310</td>\n      <td>0.0</td>\n      <td>0.526316</td>\n    </tr>\n    <tr>\n      <th>Gibraleón</th>\n      <td>349.0</td>\n      <td>9.0</td>\n      <td>16.0</td>\n      <td>12607.0</td>\n      <td>71.388911</td>\n      <td>126.913619</td>\n      <td>0.0</td>\n      <td>0.562500</td>\n    </tr>\n    <tr>\n      <th>Bonares</th>\n      <td>43.0</td>\n      <td>3.0</td>\n      <td>5.0</td>\n      <td>6058.0</td>\n      <td>49.521294</td>\n      <td>82.535490</td>\n      <td>1.0</td>\n      <td>0.600000</td>\n    </tr>\n    <tr>\n      <th>Villalba del Alcor</th>\n      <td>102.0</td>\n      <td>9.0</td>\n      <td>15.0</td>\n      <td>3338.0</td>\n      <td>269.622528</td>\n      <td>449.370881</td>\n      <td>2.0</td>\n      <td>0.600000</td>\n    </tr>\n    <tr>\n      <th>Isla Cristina</th>\n      <td>376.0</td>\n      <td>74.0</td>\n      <td>121.0</td>\n      <td>21264.0</td>\n      <td>348.006020</td>\n      <td>569.036870</td>\n      <td>1.0</td>\n      <td>0.611570</td>\n    </tr>\n    <tr>\n      <th>Minas de Riotinto</th>\n      <td>66.0</td>\n      <td>3.0</td>\n      <td>4.0</td>\n      <td>3848.0</td>\n      <td>77.962578</td>\n      <td>103.950104</td>\n      <td>0.0</td>\n      <td>0.750000</td>\n    </tr>\n    <tr>\n      <th>Paterna del Campo</th>\n      <td>60.0</td>\n      <td>8.0</td>\n      <td>10.0</td>\n      <td>3509.0</td>\n      <td>227.985181</td>\n      <td>284.981476</td>\n      <td>0.0</td>\n      <td>0.800000</td>\n    </tr>\n    <tr>\n      <th>Campofrío</th>\n      <td>7.0</td>\n      <td>1.0</td>\n      <td>1.0</td>\n      <td>675.0</td>\n      <td>148.148148</td>\n      <td>148.148148</td>\n      <td>0.0</td>\n      <td>1.000000</td>\n    </tr>\n    <tr>\n      <th>Manzanilla</th>\n      <td>45.0</td>\n      <td>1.0</td>\n      <td>1.0</td>\n      <td>2135.0</td>\n      <td>46.838407</td>\n      <td>46.838407</td>\n      <td>0.0</td>\n      <td>1.000000</td>\n    </tr>\n    <tr>\n      <th>Cortelazor</th>\n      <td>2.0</td>\n      <td>1.0</td>\n      <td>1.0</td>\n      <td>299.0</td>\n      <td>334.448161</td>\n      <td>334.448161</td>\n      <td>0.0</td>\n      <td>1.000000</td>\n    </tr>\n    <tr>\n      <th>Alájar</th>\n      <td>4.0</td>\n      <td>1.0</td>\n      <td>1.0</td>\n      <td>756.0</td>\n      <td>132.275132</td>\n      <td>132.275132</td>\n      <td>0.0</td>\n      <td>1.000000</td>\n    </tr>\n    <tr>\n      <th>Jabugo</th>\n      <td>35.0</td>\n      <td>1.0</td>\n      <td>1.0</td>\n      <td>2250.0</td>\n      <td>44.444444</td>\n      <td>44.444444</td>\n      <td>0.0</td>\n      <td>1.000000</td>\n    </tr>\n    <tr>\n      <th>Campillo (El)</th>\n      <td>54.0</td>\n      <td>2.0</td>\n      <td>2.0</td>\n      <td>2023.0</td>\n      <td>98.863075</td>\n      <td>98.863075</td>\n      <td>-1.0</td>\n      <td>1.000000</td>\n    </tr>\n  </tbody>\n</table>\n</div>"
     },
     "metadata": {},
     "execution_count": 18
    }
   ],
   "source": [
    "# Peso de la tasa de la última semana en relación con la tasa a 14 días \n",
    "# Mejor cuanto menor. Valor 1 significa que no había casos antes de 7 días.\n",
    "tabla['7/14'] = tabla['tasa7'] / tabla['tasa14']\n",
    "tabla.fillna(0).sort_values('7/14', ascending=True)"
   ]
  },
  {
   "cell_type": "code",
   "execution_count": null,
   "metadata": {},
   "outputs": [],
   "source": []
  }
 ]
}