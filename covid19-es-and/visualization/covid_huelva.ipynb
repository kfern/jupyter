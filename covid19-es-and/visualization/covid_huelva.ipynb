{
 "metadata": {
  "language_info": {
   "codemirror_mode": {
    "name": "ipython",
    "version": 3
   },
   "file_extension": ".py",
   "mimetype": "text/x-python",
   "name": "python",
   "nbconvert_exporter": "python",
   "pygments_lexer": "ipython3",
   "version": "3.6.9-final"
  },
  "orig_nbformat": 2,
  "kernelspec": {
   "name": "python_defaultSpec_1600966297859",
   "display_name": "Python 3.6.9 64-bit"
  }
 },
 "nbformat": 4,
 "nbformat_minor": 2,
 "cells": [
  {
   "cell_type": "code",
   "execution_count": 1,
   "metadata": {},
   "outputs": [],
   "source": [
    "import pandas as pd"
   ]
  },
  {
   "cell_type": "code",
   "execution_count": 2,
   "metadata": {},
   "outputs": [],
   "source": [
    "url = 'https://www.juntadeandalucia.es/institutodeestadisticaycartografia/badea/stpivot/stpivot/Print?cube=013d884c-cfc5-4c21-9e78-e26225682afd&type=3&foto=si&ejecutaDesde=&codConsulta=38668&consTipoVisua=JP'\n",
    "fields = ['Lugar de residencia', 'Medida', 'Valor']\n",
    "df = pd.read_csv(url, delimiter=';', usecols=fields, decimal=',')"
   ]
  },
  {
   "cell_type": "code",
   "execution_count": 3,
   "metadata": {},
   "outputs": [],
   "source": [
    "df['Valor'] = pd.to_numeric(df['Valor'],errors='coerce')"
   ]
  },
  {
   "cell_type": "code",
   "execution_count": 4,
   "metadata": {},
   "outputs": [],
   "source": [
    "dfAnterior = pd.read_csv('covid_huelva.csv', index_col='Lugar de residencia')"
   ]
  },
  {
   "cell_type": "code",
   "execution_count": 5,
   "metadata": {
    "tags": []
   },
   "outputs": [
    {
     "output_type": "stream",
     "name": "stdout",
     "text": "Confirmados PCR en la provincia de Huelva:  1218.0\n"
    }
   ],
   "source": [
    "# Confirmados PCR provincia Huelva\n",
    "p = df[df['Lugar de residencia'] == 'Huelva'][df['Medida'] == 'Confirmados PCR']['Valor'].values[0]\n",
    "print('Confirmados PCR en la provincia de Huelva: ', p)"
   ]
  },
  {
   "cell_type": "code",
   "execution_count": 6,
   "metadata": {
    "tags": []
   },
   "outputs": [
    {
     "output_type": "stream",
     "name": "stdout",
     "text": "Confirmados PCR en Huelva capital:  322.0\n"
    }
   ],
   "source": [
    "# Confirmados PCR Huelva capital\n",
    "c = df[df['Lugar de residencia'] == 'Huelva (capital)'][df['Medida'] == 'Confirmados PCR']['Valor'].values[0]\n",
    "print('Confirmados PCR en Huelva capital: ', c)"
   ]
  },
  {
   "cell_type": "code",
   "execution_count": 7,
   "metadata": {
    "tags": []
   },
   "outputs": [],
   "source": [
    "c7 = df[df['Lugar de residencia'] == 'Huelva (capital)'][df['Medida'] == 'Confirmados PCR 7 días']['Valor'].values[0]\n",
    "c14 = df[df['Lugar de residencia'] == 'Huelva (capital)'][df['Medida'] == 'Confirmados PCR 14 días']['Valor'].values[0]\n",
    "p = df[df['Lugar de residencia'] == 'Huelva (capital)'][df['Medida'] == 'Población']['Valor'].values[0]"
   ]
  },
  {
   "cell_type": "code",
   "execution_count": 8,
   "metadata": {
    "tags": []
   },
   "outputs": [
    {
     "output_type": "stream",
     "name": "stdout",
     "text": "Huelva (capital)\n\nUn positivo PCR cada 3421 personas en los últimos 7 días \n\nUn positivo PCR cada 1481 personas en los últimos 14 días\n"
    }
   ],
   "source": [
    "print('Huelva (capital)\\n')\n",
    "#print('Confirmados PCR 7 días x 1,000 habitantes: ', f\"{c7/(p/1000):.5f}\")\n",
    "print('Un positivo PCR cada', f\"{p/c7:.0f}\", 'personas en los últimos 7 días', '\\n')\n",
    "#print('Confirmados PCR 14 días x 1,000 habitantes: ', f\"{c14/(p/1000):.5f}\")\n",
    "print('Un positivo PCR cada', f\"{p/c14:.0f}\", 'personas en los últimos 14 días')"
   ]
  },
  {
   "cell_type": "code",
   "execution_count": 9,
   "metadata": {},
   "outputs": [],
   "source": [
    "filtro = ((df['Medida'] == 'Confirmados PCR')| (df['Medida'] == 'Confirmados PCR 7 días') | (df['Medida'] == 'Población' ) | (df['Medida'] == 'Confirmados PCR 14 días')) & (df['Valor'] > 0)\n",
    "tabla = pd.pivot_table(df.loc[filtro], values='Valor', index='Lugar de residencia', columns='Medida').dropna()"
   ]
  },
  {
   "cell_type": "code",
   "execution_count": 10,
   "metadata": {},
   "outputs": [],
   "source": [
    "# Reorder columns\n",
    "tabla = tabla[['Confirmados PCR', 'Confirmados PCR 7 días', 'Confirmados PCR 14 días', 'Población']]"
   ]
  },
  {
   "cell_type": "code",
   "execution_count": 11,
   "metadata": {},
   "outputs": [],
   "source": [
    "tabla['tasa7'] = tabla['Confirmados PCR 7 días']/tabla['Población']*100000\n",
    "tabla['tasa14'] = tabla['Confirmados PCR 14 días']/tabla['Población']*100000"
   ]
  },
  {
   "cell_type": "code",
   "execution_count": 12,
   "metadata": {},
   "outputs": [],
   "source": [
    "tabla['Diferencia PCR'] = tabla['Confirmados PCR'] - dfAnterior['Confirmados PCR']"
   ]
  },
  {
   "cell_type": "code",
   "execution_count": 13,
   "metadata": {},
   "outputs": [
    {
     "output_type": "execute_result",
     "data": {
      "text/plain": "Medida                             Confirmados PCR  Confirmados PCR 7 días  \\\nLugar de residencia                                                          \nHuelva                                      1218.0                   162.0   \nHuelva-Costa                                 658.0                    90.0   \nCondado-Campiña                              367.0                    53.0   \nLepe                                          82.0                    14.0   \nBollullos Par del Condado                     55.0                    19.0   \nHuelva (capital)                             322.0                    42.0   \nNerva                                         23.0                     8.0   \nSierra de Huelva-Andévalo Central            171.0                    17.0   \nAlmonte                                       51.0                     6.0   \nMoguer                                        32.0                     6.0   \nPunta Umbría                                  29.0                     6.0   \nAyamonte                                      41.0                    10.0   \nCartaya                                       22.0                     2.0   \n\nMedida                             Confirmados PCR 14 días  Población  \\\nLugar de residencia                                                     \nHuelva                                               351.0   510743.0   \nHuelva-Costa                                         216.0   288115.0   \nCondado-Campiña                                       98.0   155057.0   \nLepe                                                  21.0    27431.0   \nBollullos Par del Condado                             27.0    14272.0   \nHuelva (capital)                                      97.0   143663.0   \nNerva                                                  9.0     5235.0   \nSierra de Huelva-Andévalo Central                     31.0    67571.0   \nAlmonte                                               10.0    24191.0   \nMoguer                                                 7.0    22088.0   \nPunta Umbría                                           8.0    15242.0   \nAyamonte                                              25.0    20946.0   \nCartaya                                                7.0    19974.0   \n\nMedida                                  tasa7      tasa14  Diferencia PCR  \nLugar de residencia                                                        \nHuelva                              31.718496   68.723409            30.0  \nHuelva-Costa                        31.237527   74.970064            18.0  \nCondado-Campiña                     34.180979   63.202564             8.0  \nLepe                                51.037148   76.555722             8.0  \nBollullos Par del Condado          133.127803  189.181614             4.0  \nHuelva (capital)                    29.235085   67.519125             3.0  \nNerva                              152.817574  171.919771             3.0  \nSierra de Huelva-Andévalo Central   25.158722   45.877669             3.0  \nAlmonte                             24.802613   41.337688             2.0  \nMoguer                              27.164071   31.691416             2.0  \nPunta Umbría                        39.364913   52.486550             2.0  \nAyamonte                            47.741812  119.354531             1.0  \nCartaya                             10.013017   35.045559             1.0  ",
      "text/html": "<div>\n<style scoped>\n    .dataframe tbody tr th:only-of-type {\n        vertical-align: middle;\n    }\n\n    .dataframe tbody tr th {\n        vertical-align: top;\n    }\n\n    .dataframe thead th {\n        text-align: right;\n    }\n</style>\n<table border=\"1\" class=\"dataframe\">\n  <thead>\n    <tr style=\"text-align: right;\">\n      <th>Medida</th>\n      <th>Confirmados PCR</th>\n      <th>Confirmados PCR 7 días</th>\n      <th>Confirmados PCR 14 días</th>\n      <th>Población</th>\n      <th>tasa7</th>\n      <th>tasa14</th>\n      <th>Diferencia PCR</th>\n    </tr>\n    <tr>\n      <th>Lugar de residencia</th>\n      <th></th>\n      <th></th>\n      <th></th>\n      <th></th>\n      <th></th>\n      <th></th>\n      <th></th>\n    </tr>\n  </thead>\n  <tbody>\n    <tr>\n      <th>Huelva</th>\n      <td>1218.0</td>\n      <td>162.0</td>\n      <td>351.0</td>\n      <td>510743.0</td>\n      <td>31.718496</td>\n      <td>68.723409</td>\n      <td>30.0</td>\n    </tr>\n    <tr>\n      <th>Huelva-Costa</th>\n      <td>658.0</td>\n      <td>90.0</td>\n      <td>216.0</td>\n      <td>288115.0</td>\n      <td>31.237527</td>\n      <td>74.970064</td>\n      <td>18.0</td>\n    </tr>\n    <tr>\n      <th>Condado-Campiña</th>\n      <td>367.0</td>\n      <td>53.0</td>\n      <td>98.0</td>\n      <td>155057.0</td>\n      <td>34.180979</td>\n      <td>63.202564</td>\n      <td>8.0</td>\n    </tr>\n    <tr>\n      <th>Lepe</th>\n      <td>82.0</td>\n      <td>14.0</td>\n      <td>21.0</td>\n      <td>27431.0</td>\n      <td>51.037148</td>\n      <td>76.555722</td>\n      <td>8.0</td>\n    </tr>\n    <tr>\n      <th>Bollullos Par del Condado</th>\n      <td>55.0</td>\n      <td>19.0</td>\n      <td>27.0</td>\n      <td>14272.0</td>\n      <td>133.127803</td>\n      <td>189.181614</td>\n      <td>4.0</td>\n    </tr>\n    <tr>\n      <th>Huelva (capital)</th>\n      <td>322.0</td>\n      <td>42.0</td>\n      <td>97.0</td>\n      <td>143663.0</td>\n      <td>29.235085</td>\n      <td>67.519125</td>\n      <td>3.0</td>\n    </tr>\n    <tr>\n      <th>Nerva</th>\n      <td>23.0</td>\n      <td>8.0</td>\n      <td>9.0</td>\n      <td>5235.0</td>\n      <td>152.817574</td>\n      <td>171.919771</td>\n      <td>3.0</td>\n    </tr>\n    <tr>\n      <th>Sierra de Huelva-Andévalo Central</th>\n      <td>171.0</td>\n      <td>17.0</td>\n      <td>31.0</td>\n      <td>67571.0</td>\n      <td>25.158722</td>\n      <td>45.877669</td>\n      <td>3.0</td>\n    </tr>\n    <tr>\n      <th>Almonte</th>\n      <td>51.0</td>\n      <td>6.0</td>\n      <td>10.0</td>\n      <td>24191.0</td>\n      <td>24.802613</td>\n      <td>41.337688</td>\n      <td>2.0</td>\n    </tr>\n    <tr>\n      <th>Moguer</th>\n      <td>32.0</td>\n      <td>6.0</td>\n      <td>7.0</td>\n      <td>22088.0</td>\n      <td>27.164071</td>\n      <td>31.691416</td>\n      <td>2.0</td>\n    </tr>\n    <tr>\n      <th>Punta Umbría</th>\n      <td>29.0</td>\n      <td>6.0</td>\n      <td>8.0</td>\n      <td>15242.0</td>\n      <td>39.364913</td>\n      <td>52.486550</td>\n      <td>2.0</td>\n    </tr>\n    <tr>\n      <th>Ayamonte</th>\n      <td>41.0</td>\n      <td>10.0</td>\n      <td>25.0</td>\n      <td>20946.0</td>\n      <td>47.741812</td>\n      <td>119.354531</td>\n      <td>1.0</td>\n    </tr>\n    <tr>\n      <th>Cartaya</th>\n      <td>22.0</td>\n      <td>2.0</td>\n      <td>7.0</td>\n      <td>19974.0</td>\n      <td>10.013017</td>\n      <td>35.045559</td>\n      <td>1.0</td>\n    </tr>\n  </tbody>\n</table>\n</div>"
     },
     "metadata": {},
     "execution_count": 13
    }
   ],
   "source": [
    "# Nuevos casos desde la última captura\n",
    "tabla[tabla['Diferencia PCR'] > 0].sort_values('Diferencia PCR', ascending=False)"
   ]
  },
  {
   "cell_type": "code",
   "execution_count": 14,
   "metadata": {},
   "outputs": [],
   "source": [
    "if tabla[tabla['Diferencia PCR'] > 0]['Diferencia PCR'].sum() > 0:\n",
    "  # Save to csv\n",
    "  tabla.to_csv('covid_huelva.csv', encoding='utf-8', header=True, index=True)  "
   ]
  },
  {
   "cell_type": "code",
   "execution_count": 15,
   "metadata": {},
   "outputs": [
    {
     "output_type": "execute_result",
     "data": {
      "text/plain": "Medida                             Confirmados PCR  Confirmados PCR 7 días  \\\nLugar de residencia                                                          \nAlmendro (El)                                  4.0                     3.0   \nVillalba del Alcor                            42.0                     2.0   \nZalamea la Real                               20.0                     1.0   \nAroche                                         8.0                     4.0   \nBollullos Par del Condado                     55.0                    19.0   \nNerva                                         23.0                     8.0   \nPalos de la Frontera                          26.0                     4.0   \nAyamonte                                      41.0                    10.0   \nIsla Cristina                                 61.0                     8.0   \nAljaraque                                     66.0                     3.0   \nJabugo                                         2.0                     2.0   \nLepe                                          82.0                    14.0   \nHuelva-Costa                                 658.0                    90.0   \nHuelva                                      1218.0                   162.0   \nHuelva (capital)                             322.0                    42.0   \nCondado-Campiña                              367.0                    53.0   \nPalma del Condado (La)                        36.0                     4.0   \nPunta Umbría                                  29.0                     6.0   \nMinas de Riotinto                             16.0                     1.0   \nTrigueros                                     33.0                     4.0   \nBonares                                        4.0                     1.0   \nBeas                                           7.0                     2.0   \nSierra de Huelva-Andévalo Central            171.0                    17.0   \nSan Juan del Puerto                           21.0                     2.0   \nAlmonte                                       51.0                     6.0   \nCartaya                                       22.0                     2.0   \nPuebla de Guzmán                               5.0                     1.0   \nGibraleón                                     16.0                     2.0   \nMoguer                                        32.0                     6.0   \nAlosno                                         4.0                     1.0   \nRociana del Condado                            6.0                     1.0   \nAracena                                       47.0                     1.0   \n\nMedida                             Confirmados PCR 14 días  Población  \\\nLugar de residencia                                                     \nAlmendro (El)                                          3.0      826.0   \nVillalba del Alcor                                    11.0     3338.0   \nZalamea la Real                                        6.0     3068.0   \nAroche                                                 6.0     3073.0   \nBollullos Par del Condado                             27.0    14272.0   \nNerva                                                  9.0     5235.0   \nPalos de la Frontera                                  17.0    11289.0   \nAyamonte                                              25.0    20946.0   \nIsla Cristina                                         24.0    21264.0   \nAljaraque                                             20.0    21260.0   \nJabugo                                                 2.0     2250.0   \nLepe                                                  21.0    27431.0   \nHuelva-Costa                                         216.0   288115.0   \nHuelva                                               351.0   510743.0   \nHuelva (capital)                                      97.0   143663.0   \nCondado-Campiña                                       98.0   155057.0   \nPalma del Condado (La)                                 6.0    10761.0   \nPunta Umbría                                           8.0    15242.0   \nMinas de Riotinto                                      2.0     3848.0   \nTrigueros                                              4.0     7713.0   \nBonares                                                3.0     6058.0   \nBeas                                                   2.0     4257.0   \nSierra de Huelva-Andévalo Central                     31.0    67571.0   \nSan Juan del Puerto                                    4.0     9300.0   \nAlmonte                                               10.0    24191.0   \nCartaya                                                7.0    19974.0   \nPuebla de Guzmán                                       1.0     3073.0   \nGibraleón                                              4.0    12607.0   \nMoguer                                                 7.0    22088.0   \nAlosno                                                 1.0     3923.0   \nRociana del Condado                                    2.0     7855.0   \nAracena                                                2.0     8107.0   \n\nMedida                                  tasa7      tasa14  Diferencia PCR  \nLugar de residencia                                                        \nAlmendro (El)                      363.196126  363.196126             NaN  \nVillalba del Alcor                  59.916117  329.538646             0.0  \nZalamea la Real                     32.594524  195.567145             0.0  \nAroche                             130.165962  195.248942             0.0  \nBollullos Par del Condado          133.127803  189.181614             4.0  \nNerva                              152.817574  171.919771             3.0  \nPalos de la Frontera                35.432722  150.589069             0.0  \nAyamonte                            47.741812  119.354531             1.0  \nIsla Cristina                       37.622272  112.866817             0.0  \nAljaraque                           14.111007   94.073377             0.0  \nJabugo                              88.888889   88.888889             0.0  \nLepe                                51.037148   76.555722             8.0  \nHuelva-Costa                        31.237527   74.970064            18.0  \nHuelva                              31.718496   68.723409            30.0  \nHuelva (capital)                    29.235085   67.519125             3.0  \nCondado-Campiña                     34.180979   63.202564             8.0  \nPalma del Condado (La)              37.171267   55.756900             0.0  \nPunta Umbría                        39.364913   52.486550             2.0  \nMinas de Riotinto                   25.987526   51.975052             0.0  \nTrigueros                           51.860495   51.860495             0.0  \nBonares                             16.507098   49.521294             0.0  \nBeas                                46.981442   46.981442             0.0  \nSierra de Huelva-Andévalo Central   25.158722   45.877669             3.0  \nSan Juan del Puerto                 21.505376   43.010753             0.0  \nAlmonte                             24.802613   41.337688             2.0  \nCartaya                             10.013017   35.045559             1.0  \nPuebla de Guzmán                    32.541490   32.541490             0.0  \nGibraleón                           15.864202   31.728405             0.0  \nMoguer                              27.164071   31.691416             2.0  \nAlosno                              25.490696   25.490696             0.0  \nRociana del Condado                 12.730745   25.461489             0.0  \nAracena                             12.335019   24.670038             0.0  ",
      "text/html": "<div>\n<style scoped>\n    .dataframe tbody tr th:only-of-type {\n        vertical-align: middle;\n    }\n\n    .dataframe tbody tr th {\n        vertical-align: top;\n    }\n\n    .dataframe thead th {\n        text-align: right;\n    }\n</style>\n<table border=\"1\" class=\"dataframe\">\n  <thead>\n    <tr style=\"text-align: right;\">\n      <th>Medida</th>\n      <th>Confirmados PCR</th>\n      <th>Confirmados PCR 7 días</th>\n      <th>Confirmados PCR 14 días</th>\n      <th>Población</th>\n      <th>tasa7</th>\n      <th>tasa14</th>\n      <th>Diferencia PCR</th>\n    </tr>\n    <tr>\n      <th>Lugar de residencia</th>\n      <th></th>\n      <th></th>\n      <th></th>\n      <th></th>\n      <th></th>\n      <th></th>\n      <th></th>\n    </tr>\n  </thead>\n  <tbody>\n    <tr>\n      <th>Almendro (El)</th>\n      <td>4.0</td>\n      <td>3.0</td>\n      <td>3.0</td>\n      <td>826.0</td>\n      <td>363.196126</td>\n      <td>363.196126</td>\n      <td>NaN</td>\n    </tr>\n    <tr>\n      <th>Villalba del Alcor</th>\n      <td>42.0</td>\n      <td>2.0</td>\n      <td>11.0</td>\n      <td>3338.0</td>\n      <td>59.916117</td>\n      <td>329.538646</td>\n      <td>0.0</td>\n    </tr>\n    <tr>\n      <th>Zalamea la Real</th>\n      <td>20.0</td>\n      <td>1.0</td>\n      <td>6.0</td>\n      <td>3068.0</td>\n      <td>32.594524</td>\n      <td>195.567145</td>\n      <td>0.0</td>\n    </tr>\n    <tr>\n      <th>Aroche</th>\n      <td>8.0</td>\n      <td>4.0</td>\n      <td>6.0</td>\n      <td>3073.0</td>\n      <td>130.165962</td>\n      <td>195.248942</td>\n      <td>0.0</td>\n    </tr>\n    <tr>\n      <th>Bollullos Par del Condado</th>\n      <td>55.0</td>\n      <td>19.0</td>\n      <td>27.0</td>\n      <td>14272.0</td>\n      <td>133.127803</td>\n      <td>189.181614</td>\n      <td>4.0</td>\n    </tr>\n    <tr>\n      <th>Nerva</th>\n      <td>23.0</td>\n      <td>8.0</td>\n      <td>9.0</td>\n      <td>5235.0</td>\n      <td>152.817574</td>\n      <td>171.919771</td>\n      <td>3.0</td>\n    </tr>\n    <tr>\n      <th>Palos de la Frontera</th>\n      <td>26.0</td>\n      <td>4.0</td>\n      <td>17.0</td>\n      <td>11289.0</td>\n      <td>35.432722</td>\n      <td>150.589069</td>\n      <td>0.0</td>\n    </tr>\n    <tr>\n      <th>Ayamonte</th>\n      <td>41.0</td>\n      <td>10.0</td>\n      <td>25.0</td>\n      <td>20946.0</td>\n      <td>47.741812</td>\n      <td>119.354531</td>\n      <td>1.0</td>\n    </tr>\n    <tr>\n      <th>Isla Cristina</th>\n      <td>61.0</td>\n      <td>8.0</td>\n      <td>24.0</td>\n      <td>21264.0</td>\n      <td>37.622272</td>\n      <td>112.866817</td>\n      <td>0.0</td>\n    </tr>\n    <tr>\n      <th>Aljaraque</th>\n      <td>66.0</td>\n      <td>3.0</td>\n      <td>20.0</td>\n      <td>21260.0</td>\n      <td>14.111007</td>\n      <td>94.073377</td>\n      <td>0.0</td>\n    </tr>\n    <tr>\n      <th>Jabugo</th>\n      <td>2.0</td>\n      <td>2.0</td>\n      <td>2.0</td>\n      <td>2250.0</td>\n      <td>88.888889</td>\n      <td>88.888889</td>\n      <td>0.0</td>\n    </tr>\n    <tr>\n      <th>Lepe</th>\n      <td>82.0</td>\n      <td>14.0</td>\n      <td>21.0</td>\n      <td>27431.0</td>\n      <td>51.037148</td>\n      <td>76.555722</td>\n      <td>8.0</td>\n    </tr>\n    <tr>\n      <th>Huelva-Costa</th>\n      <td>658.0</td>\n      <td>90.0</td>\n      <td>216.0</td>\n      <td>288115.0</td>\n      <td>31.237527</td>\n      <td>74.970064</td>\n      <td>18.0</td>\n    </tr>\n    <tr>\n      <th>Huelva</th>\n      <td>1218.0</td>\n      <td>162.0</td>\n      <td>351.0</td>\n      <td>510743.0</td>\n      <td>31.718496</td>\n      <td>68.723409</td>\n      <td>30.0</td>\n    </tr>\n    <tr>\n      <th>Huelva (capital)</th>\n      <td>322.0</td>\n      <td>42.0</td>\n      <td>97.0</td>\n      <td>143663.0</td>\n      <td>29.235085</td>\n      <td>67.519125</td>\n      <td>3.0</td>\n    </tr>\n    <tr>\n      <th>Condado-Campiña</th>\n      <td>367.0</td>\n      <td>53.0</td>\n      <td>98.0</td>\n      <td>155057.0</td>\n      <td>34.180979</td>\n      <td>63.202564</td>\n      <td>8.0</td>\n    </tr>\n    <tr>\n      <th>Palma del Condado (La)</th>\n      <td>36.0</td>\n      <td>4.0</td>\n      <td>6.0</td>\n      <td>10761.0</td>\n      <td>37.171267</td>\n      <td>55.756900</td>\n      <td>0.0</td>\n    </tr>\n    <tr>\n      <th>Punta Umbría</th>\n      <td>29.0</td>\n      <td>6.0</td>\n      <td>8.0</td>\n      <td>15242.0</td>\n      <td>39.364913</td>\n      <td>52.486550</td>\n      <td>2.0</td>\n    </tr>\n    <tr>\n      <th>Minas de Riotinto</th>\n      <td>16.0</td>\n      <td>1.0</td>\n      <td>2.0</td>\n      <td>3848.0</td>\n      <td>25.987526</td>\n      <td>51.975052</td>\n      <td>0.0</td>\n    </tr>\n    <tr>\n      <th>Trigueros</th>\n      <td>33.0</td>\n      <td>4.0</td>\n      <td>4.0</td>\n      <td>7713.0</td>\n      <td>51.860495</td>\n      <td>51.860495</td>\n      <td>0.0</td>\n    </tr>\n    <tr>\n      <th>Bonares</th>\n      <td>4.0</td>\n      <td>1.0</td>\n      <td>3.0</td>\n      <td>6058.0</td>\n      <td>16.507098</td>\n      <td>49.521294</td>\n      <td>0.0</td>\n    </tr>\n    <tr>\n      <th>Beas</th>\n      <td>7.0</td>\n      <td>2.0</td>\n      <td>2.0</td>\n      <td>4257.0</td>\n      <td>46.981442</td>\n      <td>46.981442</td>\n      <td>0.0</td>\n    </tr>\n    <tr>\n      <th>Sierra de Huelva-Andévalo Central</th>\n      <td>171.0</td>\n      <td>17.0</td>\n      <td>31.0</td>\n      <td>67571.0</td>\n      <td>25.158722</td>\n      <td>45.877669</td>\n      <td>3.0</td>\n    </tr>\n    <tr>\n      <th>San Juan del Puerto</th>\n      <td>21.0</td>\n      <td>2.0</td>\n      <td>4.0</td>\n      <td>9300.0</td>\n      <td>21.505376</td>\n      <td>43.010753</td>\n      <td>0.0</td>\n    </tr>\n    <tr>\n      <th>Almonte</th>\n      <td>51.0</td>\n      <td>6.0</td>\n      <td>10.0</td>\n      <td>24191.0</td>\n      <td>24.802613</td>\n      <td>41.337688</td>\n      <td>2.0</td>\n    </tr>\n    <tr>\n      <th>Cartaya</th>\n      <td>22.0</td>\n      <td>2.0</td>\n      <td>7.0</td>\n      <td>19974.0</td>\n      <td>10.013017</td>\n      <td>35.045559</td>\n      <td>1.0</td>\n    </tr>\n    <tr>\n      <th>Puebla de Guzmán</th>\n      <td>5.0</td>\n      <td>1.0</td>\n      <td>1.0</td>\n      <td>3073.0</td>\n      <td>32.541490</td>\n      <td>32.541490</td>\n      <td>0.0</td>\n    </tr>\n    <tr>\n      <th>Gibraleón</th>\n      <td>16.0</td>\n      <td>2.0</td>\n      <td>4.0</td>\n      <td>12607.0</td>\n      <td>15.864202</td>\n      <td>31.728405</td>\n      <td>0.0</td>\n    </tr>\n    <tr>\n      <th>Moguer</th>\n      <td>32.0</td>\n      <td>6.0</td>\n      <td>7.0</td>\n      <td>22088.0</td>\n      <td>27.164071</td>\n      <td>31.691416</td>\n      <td>2.0</td>\n    </tr>\n    <tr>\n      <th>Alosno</th>\n      <td>4.0</td>\n      <td>1.0</td>\n      <td>1.0</td>\n      <td>3923.0</td>\n      <td>25.490696</td>\n      <td>25.490696</td>\n      <td>0.0</td>\n    </tr>\n    <tr>\n      <th>Rociana del Condado</th>\n      <td>6.0</td>\n      <td>1.0</td>\n      <td>2.0</td>\n      <td>7855.0</td>\n      <td>12.730745</td>\n      <td>25.461489</td>\n      <td>0.0</td>\n    </tr>\n    <tr>\n      <th>Aracena</th>\n      <td>47.0</td>\n      <td>1.0</td>\n      <td>2.0</td>\n      <td>8107.0</td>\n      <td>12.335019</td>\n      <td>24.670038</td>\n      <td>0.0</td>\n    </tr>\n  </tbody>\n</table>\n</div>"
     },
     "metadata": {},
     "execution_count": 15
    }
   ],
   "source": [
    "tabla.sort_values('tasa14', ascending=False)"
   ]
  },
  {
   "cell_type": "code",
   "execution_count": null,
   "metadata": {},
   "outputs": [],
   "source": []
  }
 ]
}