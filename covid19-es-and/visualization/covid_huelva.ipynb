{
 "metadata": {
  "language_info": {
   "codemirror_mode": {
    "name": "ipython",
    "version": 3
   },
   "file_extension": ".py",
   "mimetype": "text/x-python",
   "name": "python",
   "nbconvert_exporter": "python",
   "pygments_lexer": "ipython3",
   "version": "3.6.9-final"
  },
  "orig_nbformat": 2,
  "kernelspec": {
   "name": "Python 3.6.9 64-bit",
   "display_name": "Python 3.6.9 64-bit",
   "metadata": {
    "interpreter": {
     "hash": "31f2aee4e71d21fbe5cf8b01ff0e069b9275f58929596ceb00d14d90e3e16cd6"
    }
   }
  }
 },
 "nbformat": 4,
 "nbformat_minor": 2,
 "cells": [
  {
   "cell_type": "code",
   "execution_count": 1,
   "metadata": {},
   "outputs": [],
   "source": [
    "import pandas as pd"
   ]
  },
  {
   "cell_type": "code",
   "execution_count": 2,
   "metadata": {},
   "outputs": [],
   "source": [
    "# FIX SSL: CERTIFICATE_VERIFY_FAILED with Python3\n",
    "# https://stackoverflow.com/a/49174340\n",
    "import ssl\n",
    "\n",
    "ssl._create_default_https_context = ssl._create_unverified_context"
   ]
  },
  {
   "cell_type": "code",
   "execution_count": 3,
   "metadata": {},
   "outputs": [],
   "source": [
    "url = 'https://www.juntadeandalucia.es/institutodeestadisticaycartografia/badea/stpivot/stpivot/Print?cube=013d884c-cfc5-4c21-9e78-e26225682afd&type=3&foto=si&ejecutaDesde=&codConsulta=38668&consTipoVisua=JP'\n",
    "fields = ['Lugar de residencia', 'Medida', 'Valor']\n",
    "df = pd.read_csv(url, delimiter=';', usecols=fields, decimal=',')"
   ]
  },
  {
   "cell_type": "code",
   "execution_count": 4,
   "metadata": {},
   "outputs": [
    {
     "output_type": "execute_result",
     "data": {
      "text/plain": [
       "                     Lugar de residencia                    Medida  \\\n",
       "0                                 Huelva                 Población   \n",
       "1                                 Huelva          Confirmados PDIA   \n",
       "2                                 Huelva  Confirmados PDIA 14 días   \n",
       "3                                 Huelva         Tasa PDIA 14 días   \n",
       "4                                 Huelva   Confirmados PDIA 7 días   \n",
       "..                                   ...                       ...   \n",
       "627  Municipio de Huelva sin especificar         Tasa PDIA 14 días   \n",
       "628  Municipio de Huelva sin especificar   Confirmados PDIA 7 días   \n",
       "629  Municipio de Huelva sin especificar        Total Confirmados    \n",
       "630  Municipio de Huelva sin especificar                   Curados   \n",
       "631  Municipio de Huelva sin especificar                Fallecidos   \n",
       "\n",
       "                  Valor  \n",
       "0                510743  \n",
       "1                  2049  \n",
       "2                   575  \n",
       "3    112,58108285380318  \n",
       "4                   289  \n",
       "..                  ...  \n",
       "627                   -  \n",
       "628                   2  \n",
       "629                  31  \n",
       "630                   4  \n",
       "631                   1  \n",
       "\n",
       "[632 rows x 3 columns]"
      ],
      "text/html": "<div>\n<style scoped>\n    .dataframe tbody tr th:only-of-type {\n        vertical-align: middle;\n    }\n\n    .dataframe tbody tr th {\n        vertical-align: top;\n    }\n\n    .dataframe thead th {\n        text-align: right;\n    }\n</style>\n<table border=\"1\" class=\"dataframe\">\n  <thead>\n    <tr style=\"text-align: right;\">\n      <th></th>\n      <th>Lugar de residencia</th>\n      <th>Medida</th>\n      <th>Valor</th>\n    </tr>\n  </thead>\n  <tbody>\n    <tr>\n      <th>0</th>\n      <td>Huelva</td>\n      <td>Población</td>\n      <td>510743</td>\n    </tr>\n    <tr>\n      <th>1</th>\n      <td>Huelva</td>\n      <td>Confirmados PDIA</td>\n      <td>2049</td>\n    </tr>\n    <tr>\n      <th>2</th>\n      <td>Huelva</td>\n      <td>Confirmados PDIA 14 días</td>\n      <td>575</td>\n    </tr>\n    <tr>\n      <th>3</th>\n      <td>Huelva</td>\n      <td>Tasa PDIA 14 días</td>\n      <td>112,58108285380318</td>\n    </tr>\n    <tr>\n      <th>4</th>\n      <td>Huelva</td>\n      <td>Confirmados PDIA 7 días</td>\n      <td>289</td>\n    </tr>\n    <tr>\n      <th>...</th>\n      <td>...</td>\n      <td>...</td>\n      <td>...</td>\n    </tr>\n    <tr>\n      <th>627</th>\n      <td>Municipio de Huelva sin especificar</td>\n      <td>Tasa PDIA 14 días</td>\n      <td>-</td>\n    </tr>\n    <tr>\n      <th>628</th>\n      <td>Municipio de Huelva sin especificar</td>\n      <td>Confirmados PDIA 7 días</td>\n      <td>2</td>\n    </tr>\n    <tr>\n      <th>629</th>\n      <td>Municipio de Huelva sin especificar</td>\n      <td>Total Confirmados</td>\n      <td>31</td>\n    </tr>\n    <tr>\n      <th>630</th>\n      <td>Municipio de Huelva sin especificar</td>\n      <td>Curados</td>\n      <td>4</td>\n    </tr>\n    <tr>\n      <th>631</th>\n      <td>Municipio de Huelva sin especificar</td>\n      <td>Fallecidos</td>\n      <td>1</td>\n    </tr>\n  </tbody>\n</table>\n<p>632 rows × 3 columns</p>\n</div>"
     },
     "metadata": {},
     "execution_count": 4
    }
   ],
   "source": [
    "df"
   ]
  },
  {
   "cell_type": "code",
   "execution_count": 5,
   "metadata": {},
   "outputs": [],
   "source": [
    "df['Valor'] = pd.to_numeric(df['Valor'],errors='coerce')"
   ]
  },
  {
   "cell_type": "code",
   "execution_count": 6,
   "metadata": {},
   "outputs": [],
   "source": [
    "dfAnterior = pd.read_csv('covid_huelva.csv', index_col='Lugar de residencia')"
   ]
  },
  {
   "cell_type": "code",
   "execution_count": 7,
   "metadata": {
    "tags": []
   },
   "outputs": [
    {
     "output_type": "stream",
     "name": "stdout",
     "text": [
      "Confirmados PCR en la provincia de Huelva:  2049.0\n"
     ]
    }
   ],
   "source": [
    "# Confirmados PCR provincia Huelva\n",
    "p = df[df['Lugar de residencia'] == 'Huelva'][df['Medida'] == 'Confirmados PDIA']['Valor'].values[0]\n",
    "print('Confirmados PCR en la provincia de Huelva: ', p)"
   ]
  },
  {
   "cell_type": "code",
   "execution_count": 8,
   "metadata": {
    "tags": []
   },
   "outputs": [
    {
     "output_type": "stream",
     "name": "stdout",
     "text": [
      "Confirmados PCR en Huelva capital:  548.0\n"
     ]
    }
   ],
   "source": [
    "# Confirmados PCR Huelva capitalpd\n",
    "c = df[df['Lugar de residencia'] == 'Huelva (capital)'][df['Medida'] == 'Confirmados PDIA']['Valor'].values[0]\n",
    "print('Confirmados PCR en Huelva capital: ', c)"
   ]
  },
  {
   "cell_type": "code",
   "execution_count": 9,
   "metadata": {
    "tags": []
   },
   "outputs": [],
   "source": [
    "c7 = df[df['Lugar de residencia'] == 'Huelva (capital)'][df['Medida'] == 'Confirmados PDIA 7 días']['Valor'].values[0]\n",
    "c14 = df[df['Lugar de residencia'] == 'Huelva (capital)'][df['Medida'] == 'Confirmados PDIA 14 días']['Valor'].values[0]\n",
    "p = df[df['Lugar de residencia'] == 'Huelva (capital)'][df['Medida'] == 'Población']['Valor'].values[0]"
   ]
  },
  {
   "cell_type": "code",
   "execution_count": 10,
   "metadata": {
    "tags": []
   },
   "outputs": [
    {
     "output_type": "stream",
     "name": "stdout",
     "text": [
      "Huelva (capital)\n\nUn positivo PCR cada 1178 personas en los últimos 7 días \n\nUn positivo PCR cada 756 personas en los últimos 14 días\n"
     ]
    }
   ],
   "source": [
    "print('Huelva (capital)\\n')\n",
    "#print('Confirmados PCR 7 días x 1,000 habitantes: ', f\"{c7/(p/1000):.5f}\")\n",
    "print('Un positivo PCR cada', f\"{p/c7:.0f}\", 'personas en los últimos 7 días', '\\n')\n",
    "#print('Confirmados PCR 14 días x 1,000 habitantes: ', f\"{c14/(p/1000):.5f}\")\n",
    "print('Un positivo PCR cada', f\"{p/c14:.0f}\", 'personas en los últimos 14 días')"
   ]
  },
  {
   "cell_type": "code",
   "execution_count": 11,
   "metadata": {},
   "outputs": [],
   "source": [
    "filtro = ((df['Medida'] == 'Confirmados PDIA')| (df['Medida'] == 'Confirmados PDIA 7 días') | (df['Medida'] == 'Población' ) | (df['Medida'] == 'Confirmados PDIA 14 días')) & (df['Valor'] > 0)\n",
    "tabla = pd.pivot_table(df.loc[filtro], values='Valor', index='Lugar de residencia', columns='Medida').dropna()"
   ]
  },
  {
   "cell_type": "code",
   "execution_count": 12,
   "metadata": {},
   "outputs": [],
   "source": [
    "# Reorder columns\n",
    "tabla = tabla[['Confirmados PDIA', 'Confirmados PDIA 7 días', 'Confirmados PDIA 14 días', 'Población']]"
   ]
  },
  {
   "cell_type": "code",
   "execution_count": 13,
   "metadata": {},
   "outputs": [],
   "source": [
    "tabla['tasa7'] = tabla['Confirmados PDIA 7 días']/tabla['Población']*100000\n",
    "tabla['tasa14'] = tabla['Confirmados PDIA 14 días']/tabla['Población']*100000"
   ]
  },
  {
   "cell_type": "code",
   "execution_count": 14,
   "metadata": {},
   "outputs": [],
   "source": [
    "tabla['Diferencia PDIA'] = tabla['Confirmados PDIA'] - dfAnterior['Confirmados PDIA']"
   ]
  },
  {
   "cell_type": "code",
   "execution_count": 15,
   "metadata": {},
   "outputs": [
    {
     "output_type": "execute_result",
     "data": {
      "text/plain": [
       "Medida                             Confirmados PDIA  Confirmados PDIA 7 días  \\\n",
       "Lugar de residencia                                                            \n",
       "Huelva                                       2049.0                    289.0   \n",
       "Huelva-Costa                                 1058.0                    178.0   \n",
       "Huelva (capital)                              548.0                    122.0   \n",
       "Condado-Campiña                               696.0                     77.0   \n",
       "Sierra de Huelva-Andévalo Central             264.0                     32.0   \n",
       "Granado (El)                                   13.0                     11.0   \n",
       "Lepe                                          147.0                     16.0   \n",
       "Palma del Condado (La)                        102.0                     15.0   \n",
       "Paterna del Campo                              17.0                      5.0   \n",
       "Cortegana                                      16.0                      5.0   \n",
       "Villarrasa                                     27.0                     14.0   \n",
       "Valverde del Camino                            32.0                      3.0   \n",
       "Moguer                                         56.0                      7.0   \n",
       "Aljaraque                                      84.0                      9.0   \n",
       "Isla Cristina                                  79.0                      9.0   \n",
       "Almonte                                        67.0                      7.0   \n",
       "Gibraleón                                      39.0                      7.0   \n",
       "Minas de Riotinto                              20.0                      2.0   \n",
       "Nerva                                          27.0                      3.0   \n",
       "Niebla                                          8.0                      2.0   \n",
       "Higuera de la Sierra                            4.0                      1.0   \n",
       "Cartaya                                        34.0                      6.0   \n",
       "Bollullos Par del Condado                     113.0                      7.0   \n",
       "Aracena                                        59.0                      6.0   \n",
       "Zalamea la Real                                28.0                      4.0   \n",
       "Alosno                                          7.0                      1.0   \n",
       "Cerro de Andévalo (El)                          7.0                      2.0   \n",
       "Cumbres Mayores                                 3.0                      1.0   \n",
       "\n",
       "Medida                             Confirmados PDIA 14 días  Población  \\\n",
       "Lugar de residencia                                                      \n",
       "Huelva                                                575.0   510743.0   \n",
       "Huelva-Costa                                          303.0   288115.0   \n",
       "Huelva (capital)                                      190.0   143663.0   \n",
       "Condado-Campiña                                       209.0   155057.0   \n",
       "Sierra de Huelva-Andévalo Central                      55.0    67571.0   \n",
       "Granado (El)                                           11.0      516.0   \n",
       "Lepe                                                   44.0    27431.0   \n",
       "Palma del Condado (La)                                 33.0    10761.0   \n",
       "Paterna del Campo                                       6.0     3509.0   \n",
       "Cortegana                                               6.0     4666.0   \n",
       "Villarrasa                                             21.0     2176.0   \n",
       "Valverde del Camino                                     5.0    12820.0   \n",
       "Moguer                                                 13.0    22088.0   \n",
       "Aljaraque                                              13.0    21260.0   \n",
       "Isla Cristina                                          12.0    21264.0   \n",
       "Almonte                                                13.0    24191.0   \n",
       "Gibraleón                                              16.0    12607.0   \n",
       "Minas de Riotinto                                       3.0     3848.0   \n",
       "Nerva                                                   4.0     5235.0   \n",
       "Niebla                                                  5.0     4117.0   \n",
       "Higuera de la Sierra                                    2.0     1287.0   \n",
       "Cartaya                                                 9.0    19974.0   \n",
       "Bollullos Par del Condado                              29.0    14272.0   \n",
       "Aracena                                                10.0     8107.0   \n",
       "Zalamea la Real                                         7.0     3068.0   \n",
       "Alosno                                                  1.0     3923.0   \n",
       "Cerro de Andévalo (El)                                  3.0     2364.0   \n",
       "Cumbres Mayores                                         1.0     1755.0   \n",
       "\n",
       "Medida                                   tasa7       tasa14  Diferencia PDIA  \n",
       "Lugar de residencia                                                           \n",
       "Huelva                               56.584231   112.581083             83.0  \n",
       "Huelva-Costa                         61.780886   105.166340             53.0  \n",
       "Huelva (capital)                     84.920961   132.253955             34.0  \n",
       "Condado-Campiña                      49.659158   134.789142             19.0  \n",
       "Sierra de Huelva-Andévalo Central    47.357594    81.395865             13.0  \n",
       "Granado (El)                       2131.782946  2131.782946              7.0  \n",
       "Lepe                                 58.328169   160.402464              6.0  \n",
       "Palma del Condado (La)              139.392250   306.662950              5.0  \n",
       "Paterna del Campo                   142.490738   170.988886              4.0  \n",
       "Cortegana                           107.158165   128.589799              3.0  \n",
       "Villarrasa                          643.382353   965.073529              2.0  \n",
       "Valverde del Camino                  23.400936    39.001560              2.0  \n",
       "Moguer                               31.691416    58.855487              2.0  \n",
       "Aljaraque                            42.333020    61.147695              2.0  \n",
       "Isla Cristina                        42.325056    56.433409              2.0  \n",
       "Almonte                              28.936381    53.738994              2.0  \n",
       "Gibraleón                            55.524708   126.913619              2.0  \n",
       "Minas de Riotinto                    51.975052    77.962578              1.0  \n",
       "Nerva                                57.306590    76.408787              1.0  \n",
       "Niebla                               48.579062   121.447656              1.0  \n",
       "Higuera de la Sierra                 77.700078   155.400155              1.0  \n",
       "Cartaya                              30.039051    45.058576              1.0  \n",
       "Bollullos Par del Condado            49.047085   203.195067              1.0  \n",
       "Aracena                              74.010115   123.350191              1.0  \n",
       "Zalamea la Real                     130.378096   228.161669              1.0  \n",
       "Alosno                               25.490696    25.490696              NaN  \n",
       "Cerro de Andévalo (El)               84.602369   126.903553              NaN  \n",
       "Cumbres Mayores                      56.980057    56.980057              NaN  "
      ],
      "text/html": "<div>\n<style scoped>\n    .dataframe tbody tr th:only-of-type {\n        vertical-align: middle;\n    }\n\n    .dataframe tbody tr th {\n        vertical-align: top;\n    }\n\n    .dataframe thead th {\n        text-align: right;\n    }\n</style>\n<table border=\"1\" class=\"dataframe\">\n  <thead>\n    <tr style=\"text-align: right;\">\n      <th>Medida</th>\n      <th>Confirmados PDIA</th>\n      <th>Confirmados PDIA 7 días</th>\n      <th>Confirmados PDIA 14 días</th>\n      <th>Población</th>\n      <th>tasa7</th>\n      <th>tasa14</th>\n      <th>Diferencia PDIA</th>\n    </tr>\n    <tr>\n      <th>Lugar de residencia</th>\n      <th></th>\n      <th></th>\n      <th></th>\n      <th></th>\n      <th></th>\n      <th></th>\n      <th></th>\n    </tr>\n  </thead>\n  <tbody>\n    <tr>\n      <th>Huelva</th>\n      <td>2049.0</td>\n      <td>289.0</td>\n      <td>575.0</td>\n      <td>510743.0</td>\n      <td>56.584231</td>\n      <td>112.581083</td>\n      <td>83.0</td>\n    </tr>\n    <tr>\n      <th>Huelva-Costa</th>\n      <td>1058.0</td>\n      <td>178.0</td>\n      <td>303.0</td>\n      <td>288115.0</td>\n      <td>61.780886</td>\n      <td>105.166340</td>\n      <td>53.0</td>\n    </tr>\n    <tr>\n      <th>Huelva (capital)</th>\n      <td>548.0</td>\n      <td>122.0</td>\n      <td>190.0</td>\n      <td>143663.0</td>\n      <td>84.920961</td>\n      <td>132.253955</td>\n      <td>34.0</td>\n    </tr>\n    <tr>\n      <th>Condado-Campiña</th>\n      <td>696.0</td>\n      <td>77.0</td>\n      <td>209.0</td>\n      <td>155057.0</td>\n      <td>49.659158</td>\n      <td>134.789142</td>\n      <td>19.0</td>\n    </tr>\n    <tr>\n      <th>Sierra de Huelva-Andévalo Central</th>\n      <td>264.0</td>\n      <td>32.0</td>\n      <td>55.0</td>\n      <td>67571.0</td>\n      <td>47.357594</td>\n      <td>81.395865</td>\n      <td>13.0</td>\n    </tr>\n    <tr>\n      <th>Granado (El)</th>\n      <td>13.0</td>\n      <td>11.0</td>\n      <td>11.0</td>\n      <td>516.0</td>\n      <td>2131.782946</td>\n      <td>2131.782946</td>\n      <td>7.0</td>\n    </tr>\n    <tr>\n      <th>Lepe</th>\n      <td>147.0</td>\n      <td>16.0</td>\n      <td>44.0</td>\n      <td>27431.0</td>\n      <td>58.328169</td>\n      <td>160.402464</td>\n      <td>6.0</td>\n    </tr>\n    <tr>\n      <th>Palma del Condado (La)</th>\n      <td>102.0</td>\n      <td>15.0</td>\n      <td>33.0</td>\n      <td>10761.0</td>\n      <td>139.392250</td>\n      <td>306.662950</td>\n      <td>5.0</td>\n    </tr>\n    <tr>\n      <th>Paterna del Campo</th>\n      <td>17.0</td>\n      <td>5.0</td>\n      <td>6.0</td>\n      <td>3509.0</td>\n      <td>142.490738</td>\n      <td>170.988886</td>\n      <td>4.0</td>\n    </tr>\n    <tr>\n      <th>Cortegana</th>\n      <td>16.0</td>\n      <td>5.0</td>\n      <td>6.0</td>\n      <td>4666.0</td>\n      <td>107.158165</td>\n      <td>128.589799</td>\n      <td>3.0</td>\n    </tr>\n    <tr>\n      <th>Villarrasa</th>\n      <td>27.0</td>\n      <td>14.0</td>\n      <td>21.0</td>\n      <td>2176.0</td>\n      <td>643.382353</td>\n      <td>965.073529</td>\n      <td>2.0</td>\n    </tr>\n    <tr>\n      <th>Valverde del Camino</th>\n      <td>32.0</td>\n      <td>3.0</td>\n      <td>5.0</td>\n      <td>12820.0</td>\n      <td>23.400936</td>\n      <td>39.001560</td>\n      <td>2.0</td>\n    </tr>\n    <tr>\n      <th>Moguer</th>\n      <td>56.0</td>\n      <td>7.0</td>\n      <td>13.0</td>\n      <td>22088.0</td>\n      <td>31.691416</td>\n      <td>58.855487</td>\n      <td>2.0</td>\n    </tr>\n    <tr>\n      <th>Aljaraque</th>\n      <td>84.0</td>\n      <td>9.0</td>\n      <td>13.0</td>\n      <td>21260.0</td>\n      <td>42.333020</td>\n      <td>61.147695</td>\n      <td>2.0</td>\n    </tr>\n    <tr>\n      <th>Isla Cristina</th>\n      <td>79.0</td>\n      <td>9.0</td>\n      <td>12.0</td>\n      <td>21264.0</td>\n      <td>42.325056</td>\n      <td>56.433409</td>\n      <td>2.0</td>\n    </tr>\n    <tr>\n      <th>Almonte</th>\n      <td>67.0</td>\n      <td>7.0</td>\n      <td>13.0</td>\n      <td>24191.0</td>\n      <td>28.936381</td>\n      <td>53.738994</td>\n      <td>2.0</td>\n    </tr>\n    <tr>\n      <th>Gibraleón</th>\n      <td>39.0</td>\n      <td>7.0</td>\n      <td>16.0</td>\n      <td>12607.0</td>\n      <td>55.524708</td>\n      <td>126.913619</td>\n      <td>2.0</td>\n    </tr>\n    <tr>\n      <th>Minas de Riotinto</th>\n      <td>20.0</td>\n      <td>2.0</td>\n      <td>3.0</td>\n      <td>3848.0</td>\n      <td>51.975052</td>\n      <td>77.962578</td>\n      <td>1.0</td>\n    </tr>\n    <tr>\n      <th>Nerva</th>\n      <td>27.0</td>\n      <td>3.0</td>\n      <td>4.0</td>\n      <td>5235.0</td>\n      <td>57.306590</td>\n      <td>76.408787</td>\n      <td>1.0</td>\n    </tr>\n    <tr>\n      <th>Niebla</th>\n      <td>8.0</td>\n      <td>2.0</td>\n      <td>5.0</td>\n      <td>4117.0</td>\n      <td>48.579062</td>\n      <td>121.447656</td>\n      <td>1.0</td>\n    </tr>\n    <tr>\n      <th>Higuera de la Sierra</th>\n      <td>4.0</td>\n      <td>1.0</td>\n      <td>2.0</td>\n      <td>1287.0</td>\n      <td>77.700078</td>\n      <td>155.400155</td>\n      <td>1.0</td>\n    </tr>\n    <tr>\n      <th>Cartaya</th>\n      <td>34.0</td>\n      <td>6.0</td>\n      <td>9.0</td>\n      <td>19974.0</td>\n      <td>30.039051</td>\n      <td>45.058576</td>\n      <td>1.0</td>\n    </tr>\n    <tr>\n      <th>Bollullos Par del Condado</th>\n      <td>113.0</td>\n      <td>7.0</td>\n      <td>29.0</td>\n      <td>14272.0</td>\n      <td>49.047085</td>\n      <td>203.195067</td>\n      <td>1.0</td>\n    </tr>\n    <tr>\n      <th>Aracena</th>\n      <td>59.0</td>\n      <td>6.0</td>\n      <td>10.0</td>\n      <td>8107.0</td>\n      <td>74.010115</td>\n      <td>123.350191</td>\n      <td>1.0</td>\n    </tr>\n    <tr>\n      <th>Zalamea la Real</th>\n      <td>28.0</td>\n      <td>4.0</td>\n      <td>7.0</td>\n      <td>3068.0</td>\n      <td>130.378096</td>\n      <td>228.161669</td>\n      <td>1.0</td>\n    </tr>\n    <tr>\n      <th>Alosno</th>\n      <td>7.0</td>\n      <td>1.0</td>\n      <td>1.0</td>\n      <td>3923.0</td>\n      <td>25.490696</td>\n      <td>25.490696</td>\n      <td>NaN</td>\n    </tr>\n    <tr>\n      <th>Cerro de Andévalo (El)</th>\n      <td>7.0</td>\n      <td>2.0</td>\n      <td>3.0</td>\n      <td>2364.0</td>\n      <td>84.602369</td>\n      <td>126.903553</td>\n      <td>NaN</td>\n    </tr>\n    <tr>\n      <th>Cumbres Mayores</th>\n      <td>3.0</td>\n      <td>1.0</td>\n      <td>1.0</td>\n      <td>1755.0</td>\n      <td>56.980057</td>\n      <td>56.980057</td>\n      <td>NaN</td>\n    </tr>\n  </tbody>\n</table>\n</div>"
     },
     "metadata": {},
     "execution_count": 15
    }
   ],
   "source": [
    "# Nuevos casos desde la última captura\n",
    "tabla[tabla['Diferencia PDIA'] != 0].sort_values('Diferencia PDIA', ascending=False)"
   ]
  },
  {
   "cell_type": "code",
   "execution_count": 16,
   "metadata": {},
   "outputs": [],
   "source": [
    "if tabla[tabla['Diferencia PDIA'] != 0]['Diferencia PDIA'].sum() > 0:\n",
    "  # Save to csv\n",
    "  tabla.to_csv('covid_huelva.csv', encoding='utf-8', header=True, index=True)  "
   ]
  },
  {
   "cell_type": "code",
   "execution_count": 17,
   "metadata": {},
   "outputs": [
    {
     "output_type": "execute_result",
     "data": {
      "text/plain": [
       "Medida                             Confirmados PDIA  Confirmados PDIA 7 días  \\\n",
       "Lugar de residencia                                                            \n",
       "Granado (El)                                   13.0                     11.0   \n",
       "Villarrasa                                     27.0                     14.0   \n",
       "San Juan del Puerto                            74.0                      7.0   \n",
       "Jabugo                                         14.0                      3.0   \n",
       "Villanueva de los Castillejos                  18.0                      3.0   \n",
       "Palma del Condado (La)                        102.0                     15.0   \n",
       "Zalamea la Real                                28.0                      4.0   \n",
       "Bollullos Par del Condado                     113.0                      7.0   \n",
       "Manzanilla                                     20.0                      1.0   \n",
       "Paterna del Campo                              17.0                      5.0   \n",
       "Lepe                                          147.0                     16.0   \n",
       "Higuera de la Sierra                            4.0                      1.0   \n",
       "Condado-Campiña                               696.0                     77.0   \n",
       "Huelva (capital)                              548.0                    122.0   \n",
       "Escacena del Campo                             18.0                      2.0   \n",
       "Cortegana                                      16.0                      5.0   \n",
       "Gibraleón                                      39.0                      7.0   \n",
       "Cerro de Andévalo (El)                          7.0                      2.0   \n",
       "Aracena                                        59.0                      6.0   \n",
       "Niebla                                          8.0                      2.0   \n",
       "Huelva                                       2049.0                    289.0   \n",
       "Huelva-Costa                                 1058.0                    178.0   \n",
       "Sierra de Huelva-Andévalo Central             264.0                     32.0   \n",
       "Minas de Riotinto                              20.0                      2.0   \n",
       "Encinasola                                      1.0                      1.0   \n",
       "Nerva                                          27.0                      3.0   \n",
       "Aljaraque                                      84.0                      9.0   \n",
       "Moguer                                         56.0                      7.0   \n",
       "Cumbres Mayores                                 3.0                      1.0   \n",
       "Isla Cristina                                  79.0                      9.0   \n",
       "Almonaster la Real                              2.0                      1.0   \n",
       "Almonte                                        67.0                      7.0   \n",
       "Cartaya                                        34.0                      6.0   \n",
       "Valverde del Camino                            32.0                      3.0   \n",
       "Palos de la Frontera                           30.0                      1.0   \n",
       "Alosno                                          7.0                      1.0   \n",
       "Rociana del Condado                            11.0                      1.0   \n",
       "Punta Umbría                                   38.0                      1.0   \n",
       "Trigueros                                      38.0                      1.0   \n",
       "\n",
       "Medida                             Confirmados PDIA 14 días  Población  \\\n",
       "Lugar de residencia                                                      \n",
       "Granado (El)                                           11.0      516.0   \n",
       "Villarrasa                                             21.0     2176.0   \n",
       "San Juan del Puerto                                    53.0     9300.0   \n",
       "Jabugo                                                  9.0     2250.0   \n",
       "Villanueva de los Castillejos                          11.0     2820.0   \n",
       "Palma del Condado (La)                                 33.0    10761.0   \n",
       "Zalamea la Real                                         7.0     3068.0   \n",
       "Bollullos Par del Condado                              29.0    14272.0   \n",
       "Manzanilla                                              4.0     2135.0   \n",
       "Paterna del Campo                                       6.0     3509.0   \n",
       "Lepe                                                   44.0    27431.0   \n",
       "Higuera de la Sierra                                    2.0     1287.0   \n",
       "Condado-Campiña                                       209.0   155057.0   \n",
       "Huelva (capital)                                      190.0   143663.0   \n",
       "Escacena del Campo                                      3.0     2284.0   \n",
       "Cortegana                                               6.0     4666.0   \n",
       "Gibraleón                                              16.0    12607.0   \n",
       "Cerro de Andévalo (El)                                  3.0     2364.0   \n",
       "Aracena                                                10.0     8107.0   \n",
       "Niebla                                                  5.0     4117.0   \n",
       "Huelva                                                575.0   510743.0   \n",
       "Huelva-Costa                                          303.0   288115.0   \n",
       "Sierra de Huelva-Andévalo Central                      55.0    67571.0   \n",
       "Minas de Riotinto                                       3.0     3848.0   \n",
       "Encinasola                                              1.0     1305.0   \n",
       "Nerva                                                   4.0     5235.0   \n",
       "Aljaraque                                              13.0    21260.0   \n",
       "Moguer                                                 13.0    22088.0   \n",
       "Cumbres Mayores                                         1.0     1755.0   \n",
       "Isla Cristina                                          12.0    21264.0   \n",
       "Almonaster la Real                                      1.0     1819.0   \n",
       "Almonte                                                13.0    24191.0   \n",
       "Cartaya                                                 9.0    19974.0   \n",
       "Valverde del Camino                                     5.0    12820.0   \n",
       "Palos de la Frontera                                    3.0    11289.0   \n",
       "Alosno                                                  1.0     3923.0   \n",
       "Rociana del Condado                                     2.0     7855.0   \n",
       "Punta Umbría                                            3.0    15242.0   \n",
       "Trigueros                                               1.0     7713.0   \n",
       "\n",
       "Medida                                   tasa7       tasa14  Diferencia PDIA  \n",
       "Lugar de residencia                                                           \n",
       "Granado (El)                       2131.782946  2131.782946              7.0  \n",
       "Villarrasa                          643.382353   965.073529              2.0  \n",
       "San Juan del Puerto                  75.268817   569.892473              0.0  \n",
       "Jabugo                              133.333333   400.000000              0.0  \n",
       "Villanueva de los Castillejos       106.382979   390.070922              0.0  \n",
       "Palma del Condado (La)              139.392250   306.662950              5.0  \n",
       "Zalamea la Real                     130.378096   228.161669              1.0  \n",
       "Bollullos Par del Condado            49.047085   203.195067              1.0  \n",
       "Manzanilla                           46.838407   187.353630              0.0  \n",
       "Paterna del Campo                   142.490738   170.988886              4.0  \n",
       "Lepe                                 58.328169   160.402464              6.0  \n",
       "Higuera de la Sierra                 77.700078   155.400155              1.0  \n",
       "Condado-Campiña                      49.659158   134.789142             19.0  \n",
       "Huelva (capital)                     84.920961   132.253955             34.0  \n",
       "Escacena del Campo                   87.565674   131.348511              0.0  \n",
       "Cortegana                           107.158165   128.589799              3.0  \n",
       "Gibraleón                            55.524708   126.913619              2.0  \n",
       "Cerro de Andévalo (El)               84.602369   126.903553              NaN  \n",
       "Aracena                              74.010115   123.350191              1.0  \n",
       "Niebla                               48.579062   121.447656              1.0  \n",
       "Huelva                               56.584231   112.581083             83.0  \n",
       "Huelva-Costa                         61.780886   105.166340             53.0  \n",
       "Sierra de Huelva-Andévalo Central    47.357594    81.395865             13.0  \n",
       "Minas de Riotinto                    51.975052    77.962578              1.0  \n",
       "Encinasola                           76.628352    76.628352              0.0  \n",
       "Nerva                                57.306590    76.408787              1.0  \n",
       "Aljaraque                            42.333020    61.147695              2.0  \n",
       "Moguer                               31.691416    58.855487              2.0  \n",
       "Cumbres Mayores                      56.980057    56.980057              NaN  \n",
       "Isla Cristina                        42.325056    56.433409              2.0  \n",
       "Almonaster la Real                   54.975261    54.975261              0.0  \n",
       "Almonte                              28.936381    53.738994              2.0  \n",
       "Cartaya                              30.039051    45.058576              1.0  \n",
       "Valverde del Camino                  23.400936    39.001560              2.0  \n",
       "Palos de la Frontera                  8.858181    26.574542              0.0  \n",
       "Alosno                               25.490696    25.490696              NaN  \n",
       "Rociana del Condado                  12.730745    25.461489              0.0  \n",
       "Punta Umbría                          6.560819    19.682456              0.0  \n",
       "Trigueros                            12.965124    12.965124              0.0  "
      ],
      "text/html": "<div>\n<style scoped>\n    .dataframe tbody tr th:only-of-type {\n        vertical-align: middle;\n    }\n\n    .dataframe tbody tr th {\n        vertical-align: top;\n    }\n\n    .dataframe thead th {\n        text-align: right;\n    }\n</style>\n<table border=\"1\" class=\"dataframe\">\n  <thead>\n    <tr style=\"text-align: right;\">\n      <th>Medida</th>\n      <th>Confirmados PDIA</th>\n      <th>Confirmados PDIA 7 días</th>\n      <th>Confirmados PDIA 14 días</th>\n      <th>Población</th>\n      <th>tasa7</th>\n      <th>tasa14</th>\n      <th>Diferencia PDIA</th>\n    </tr>\n    <tr>\n      <th>Lugar de residencia</th>\n      <th></th>\n      <th></th>\n      <th></th>\n      <th></th>\n      <th></th>\n      <th></th>\n      <th></th>\n    </tr>\n  </thead>\n  <tbody>\n    <tr>\n      <th>Granado (El)</th>\n      <td>13.0</td>\n      <td>11.0</td>\n      <td>11.0</td>\n      <td>516.0</td>\n      <td>2131.782946</td>\n      <td>2131.782946</td>\n      <td>7.0</td>\n    </tr>\n    <tr>\n      <th>Villarrasa</th>\n      <td>27.0</td>\n      <td>14.0</td>\n      <td>21.0</td>\n      <td>2176.0</td>\n      <td>643.382353</td>\n      <td>965.073529</td>\n      <td>2.0</td>\n    </tr>\n    <tr>\n      <th>San Juan del Puerto</th>\n      <td>74.0</td>\n      <td>7.0</td>\n      <td>53.0</td>\n      <td>9300.0</td>\n      <td>75.268817</td>\n      <td>569.892473</td>\n      <td>0.0</td>\n    </tr>\n    <tr>\n      <th>Jabugo</th>\n      <td>14.0</td>\n      <td>3.0</td>\n      <td>9.0</td>\n      <td>2250.0</td>\n      <td>133.333333</td>\n      <td>400.000000</td>\n      <td>0.0</td>\n    </tr>\n    <tr>\n      <th>Villanueva de los Castillejos</th>\n      <td>18.0</td>\n      <td>3.0</td>\n      <td>11.0</td>\n      <td>2820.0</td>\n      <td>106.382979</td>\n      <td>390.070922</td>\n      <td>0.0</td>\n    </tr>\n    <tr>\n      <th>Palma del Condado (La)</th>\n      <td>102.0</td>\n      <td>15.0</td>\n      <td>33.0</td>\n      <td>10761.0</td>\n      <td>139.392250</td>\n      <td>306.662950</td>\n      <td>5.0</td>\n    </tr>\n    <tr>\n      <th>Zalamea la Real</th>\n      <td>28.0</td>\n      <td>4.0</td>\n      <td>7.0</td>\n      <td>3068.0</td>\n      <td>130.378096</td>\n      <td>228.161669</td>\n      <td>1.0</td>\n    </tr>\n    <tr>\n      <th>Bollullos Par del Condado</th>\n      <td>113.0</td>\n      <td>7.0</td>\n      <td>29.0</td>\n      <td>14272.0</td>\n      <td>49.047085</td>\n      <td>203.195067</td>\n      <td>1.0</td>\n    </tr>\n    <tr>\n      <th>Manzanilla</th>\n      <td>20.0</td>\n      <td>1.0</td>\n      <td>4.0</td>\n      <td>2135.0</td>\n      <td>46.838407</td>\n      <td>187.353630</td>\n      <td>0.0</td>\n    </tr>\n    <tr>\n      <th>Paterna del Campo</th>\n      <td>17.0</td>\n      <td>5.0</td>\n      <td>6.0</td>\n      <td>3509.0</td>\n      <td>142.490738</td>\n      <td>170.988886</td>\n      <td>4.0</td>\n    </tr>\n    <tr>\n      <th>Lepe</th>\n      <td>147.0</td>\n      <td>16.0</td>\n      <td>44.0</td>\n      <td>27431.0</td>\n      <td>58.328169</td>\n      <td>160.402464</td>\n      <td>6.0</td>\n    </tr>\n    <tr>\n      <th>Higuera de la Sierra</th>\n      <td>4.0</td>\n      <td>1.0</td>\n      <td>2.0</td>\n      <td>1287.0</td>\n      <td>77.700078</td>\n      <td>155.400155</td>\n      <td>1.0</td>\n    </tr>\n    <tr>\n      <th>Condado-Campiña</th>\n      <td>696.0</td>\n      <td>77.0</td>\n      <td>209.0</td>\n      <td>155057.0</td>\n      <td>49.659158</td>\n      <td>134.789142</td>\n      <td>19.0</td>\n    </tr>\n    <tr>\n      <th>Huelva (capital)</th>\n      <td>548.0</td>\n      <td>122.0</td>\n      <td>190.0</td>\n      <td>143663.0</td>\n      <td>84.920961</td>\n      <td>132.253955</td>\n      <td>34.0</td>\n    </tr>\n    <tr>\n      <th>Escacena del Campo</th>\n      <td>18.0</td>\n      <td>2.0</td>\n      <td>3.0</td>\n      <td>2284.0</td>\n      <td>87.565674</td>\n      <td>131.348511</td>\n      <td>0.0</td>\n    </tr>\n    <tr>\n      <th>Cortegana</th>\n      <td>16.0</td>\n      <td>5.0</td>\n      <td>6.0</td>\n      <td>4666.0</td>\n      <td>107.158165</td>\n      <td>128.589799</td>\n      <td>3.0</td>\n    </tr>\n    <tr>\n      <th>Gibraleón</th>\n      <td>39.0</td>\n      <td>7.0</td>\n      <td>16.0</td>\n      <td>12607.0</td>\n      <td>55.524708</td>\n      <td>126.913619</td>\n      <td>2.0</td>\n    </tr>\n    <tr>\n      <th>Cerro de Andévalo (El)</th>\n      <td>7.0</td>\n      <td>2.0</td>\n      <td>3.0</td>\n      <td>2364.0</td>\n      <td>84.602369</td>\n      <td>126.903553</td>\n      <td>NaN</td>\n    </tr>\n    <tr>\n      <th>Aracena</th>\n      <td>59.0</td>\n      <td>6.0</td>\n      <td>10.0</td>\n      <td>8107.0</td>\n      <td>74.010115</td>\n      <td>123.350191</td>\n      <td>1.0</td>\n    </tr>\n    <tr>\n      <th>Niebla</th>\n      <td>8.0</td>\n      <td>2.0</td>\n      <td>5.0</td>\n      <td>4117.0</td>\n      <td>48.579062</td>\n      <td>121.447656</td>\n      <td>1.0</td>\n    </tr>\n    <tr>\n      <th>Huelva</th>\n      <td>2049.0</td>\n      <td>289.0</td>\n      <td>575.0</td>\n      <td>510743.0</td>\n      <td>56.584231</td>\n      <td>112.581083</td>\n      <td>83.0</td>\n    </tr>\n    <tr>\n      <th>Huelva-Costa</th>\n      <td>1058.0</td>\n      <td>178.0</td>\n      <td>303.0</td>\n      <td>288115.0</td>\n      <td>61.780886</td>\n      <td>105.166340</td>\n      <td>53.0</td>\n    </tr>\n    <tr>\n      <th>Sierra de Huelva-Andévalo Central</th>\n      <td>264.0</td>\n      <td>32.0</td>\n      <td>55.0</td>\n      <td>67571.0</td>\n      <td>47.357594</td>\n      <td>81.395865</td>\n      <td>13.0</td>\n    </tr>\n    <tr>\n      <th>Minas de Riotinto</th>\n      <td>20.0</td>\n      <td>2.0</td>\n      <td>3.0</td>\n      <td>3848.0</td>\n      <td>51.975052</td>\n      <td>77.962578</td>\n      <td>1.0</td>\n    </tr>\n    <tr>\n      <th>Encinasola</th>\n      <td>1.0</td>\n      <td>1.0</td>\n      <td>1.0</td>\n      <td>1305.0</td>\n      <td>76.628352</td>\n      <td>76.628352</td>\n      <td>0.0</td>\n    </tr>\n    <tr>\n      <th>Nerva</th>\n      <td>27.0</td>\n      <td>3.0</td>\n      <td>4.0</td>\n      <td>5235.0</td>\n      <td>57.306590</td>\n      <td>76.408787</td>\n      <td>1.0</td>\n    </tr>\n    <tr>\n      <th>Aljaraque</th>\n      <td>84.0</td>\n      <td>9.0</td>\n      <td>13.0</td>\n      <td>21260.0</td>\n      <td>42.333020</td>\n      <td>61.147695</td>\n      <td>2.0</td>\n    </tr>\n    <tr>\n      <th>Moguer</th>\n      <td>56.0</td>\n      <td>7.0</td>\n      <td>13.0</td>\n      <td>22088.0</td>\n      <td>31.691416</td>\n      <td>58.855487</td>\n      <td>2.0</td>\n    </tr>\n    <tr>\n      <th>Cumbres Mayores</th>\n      <td>3.0</td>\n      <td>1.0</td>\n      <td>1.0</td>\n      <td>1755.0</td>\n      <td>56.980057</td>\n      <td>56.980057</td>\n      <td>NaN</td>\n    </tr>\n    <tr>\n      <th>Isla Cristina</th>\n      <td>79.0</td>\n      <td>9.0</td>\n      <td>12.0</td>\n      <td>21264.0</td>\n      <td>42.325056</td>\n      <td>56.433409</td>\n      <td>2.0</td>\n    </tr>\n    <tr>\n      <th>Almonaster la Real</th>\n      <td>2.0</td>\n      <td>1.0</td>\n      <td>1.0</td>\n      <td>1819.0</td>\n      <td>54.975261</td>\n      <td>54.975261</td>\n      <td>0.0</td>\n    </tr>\n    <tr>\n      <th>Almonte</th>\n      <td>67.0</td>\n      <td>7.0</td>\n      <td>13.0</td>\n      <td>24191.0</td>\n      <td>28.936381</td>\n      <td>53.738994</td>\n      <td>2.0</td>\n    </tr>\n    <tr>\n      <th>Cartaya</th>\n      <td>34.0</td>\n      <td>6.0</td>\n      <td>9.0</td>\n      <td>19974.0</td>\n      <td>30.039051</td>\n      <td>45.058576</td>\n      <td>1.0</td>\n    </tr>\n    <tr>\n      <th>Valverde del Camino</th>\n      <td>32.0</td>\n      <td>3.0</td>\n      <td>5.0</td>\n      <td>12820.0</td>\n      <td>23.400936</td>\n      <td>39.001560</td>\n      <td>2.0</td>\n    </tr>\n    <tr>\n      <th>Palos de la Frontera</th>\n      <td>30.0</td>\n      <td>1.0</td>\n      <td>3.0</td>\n      <td>11289.0</td>\n      <td>8.858181</td>\n      <td>26.574542</td>\n      <td>0.0</td>\n    </tr>\n    <tr>\n      <th>Alosno</th>\n      <td>7.0</td>\n      <td>1.0</td>\n      <td>1.0</td>\n      <td>3923.0</td>\n      <td>25.490696</td>\n      <td>25.490696</td>\n      <td>NaN</td>\n    </tr>\n    <tr>\n      <th>Rociana del Condado</th>\n      <td>11.0</td>\n      <td>1.0</td>\n      <td>2.0</td>\n      <td>7855.0</td>\n      <td>12.730745</td>\n      <td>25.461489</td>\n      <td>0.0</td>\n    </tr>\n    <tr>\n      <th>Punta Umbría</th>\n      <td>38.0</td>\n      <td>1.0</td>\n      <td>3.0</td>\n      <td>15242.0</td>\n      <td>6.560819</td>\n      <td>19.682456</td>\n      <td>0.0</td>\n    </tr>\n    <tr>\n      <th>Trigueros</th>\n      <td>38.0</td>\n      <td>1.0</td>\n      <td>1.0</td>\n      <td>7713.0</td>\n      <td>12.965124</td>\n      <td>12.965124</td>\n      <td>0.0</td>\n    </tr>\n  </tbody>\n</table>\n</div>"
     },
     "metadata": {},
     "execution_count": 17
    }
   ],
   "source": [
    "tabla.sort_values('tasa14', ascending=False)"
   ]
  },
  {
   "cell_type": "code",
   "execution_count": null,
   "metadata": {},
   "outputs": [],
   "source": []
  }
 ]
}