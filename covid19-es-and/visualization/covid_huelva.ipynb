{
 "metadata": {
  "language_info": {
   "codemirror_mode": {
    "name": "ipython",
    "version": 3
   },
   "file_extension": ".py",
   "mimetype": "text/x-python",
   "name": "python",
   "nbconvert_exporter": "python",
   "pygments_lexer": "ipython3",
   "version": "3.8.6-final"
  },
  "orig_nbformat": 2,
  "kernelspec": {
   "name": "python38564bit75945252d6ba481bad4868286020c89e",
   "display_name": "Python 3.8.5 64-bit",
   "language": "python"
  }
 },
 "nbformat": 4,
 "nbformat_minor": 2,
 "cells": [
  {
   "cell_type": "code",
   "execution_count": 1,
   "metadata": {},
   "outputs": [],
   "source": [
    "import pandas as pd\n",
    "pd.set_option('display.max_rows', None) # Print all rows"
   ]
  },
  {
   "cell_type": "code",
   "execution_count": 2,
   "metadata": {},
   "outputs": [],
   "source": [
    "# FIX SSL: CERTIFICATE_VERIFY_FAILED with Python3\n",
    "# https://stackoverflow.com/a/49174340\n",
    "import ssl\n",
    "\n",
    "ssl._create_default_https_context = ssl._create_unverified_context"
   ]
  },
  {
   "cell_type": "code",
   "execution_count": 3,
   "metadata": {},
   "outputs": [],
   "source": [
    "url = 'https://www.juntadeandalucia.es/institutodeestadisticaycartografia/badea/stpivot/stpivot/Print?cube=013d884c-cfc5-4c21-9e78-e26225682afd&type=3&foto=si&ejecutaDesde=&codConsulta=38668&consTipoVisua=JP'\n",
    "fields = ['Lugar de residencia', 'Medida', 'Valor']\n",
    "df = pd.read_csv(url, delimiter=';', usecols=fields, decimal=',')"
   ]
  },
  {
   "cell_type": "code",
   "execution_count": 4,
   "metadata": {},
   "outputs": [
    {
     "output_type": "execute_result",
     "data": {
      "text/plain": [
       "  Lugar de residencia                    Medida               Valor\n",
       "0              Huelva                 Población              513170\n",
       "1              Huelva          Confirmados PDIA               24235\n",
       "2              Huelva  Confirmados PDIA 14 días                1413\n",
       "3              Huelva         Tasa PDIA 14 días  275,34735078044315\n",
       "4              Huelva   Confirmados PDIA 7 días                 464\n",
       "5              Huelva        Total Confirmados                24465\n",
       "6              Huelva                   Curados               13795\n",
       "7              Huelva                Fallecidos                 266"
      ],
      "text/html": "<div>\n<style scoped>\n    .dataframe tbody tr th:only-of-type {\n        vertical-align: middle;\n    }\n\n    .dataframe tbody tr th {\n        vertical-align: top;\n    }\n\n    .dataframe thead th {\n        text-align: right;\n    }\n</style>\n<table border=\"1\" class=\"dataframe\">\n  <thead>\n    <tr style=\"text-align: right;\">\n      <th></th>\n      <th>Lugar de residencia</th>\n      <th>Medida</th>\n      <th>Valor</th>\n    </tr>\n  </thead>\n  <tbody>\n    <tr>\n      <th>0</th>\n      <td>Huelva</td>\n      <td>Población</td>\n      <td>513170</td>\n    </tr>\n    <tr>\n      <th>1</th>\n      <td>Huelva</td>\n      <td>Confirmados PDIA</td>\n      <td>24235</td>\n    </tr>\n    <tr>\n      <th>2</th>\n      <td>Huelva</td>\n      <td>Confirmados PDIA 14 días</td>\n      <td>1413</td>\n    </tr>\n    <tr>\n      <th>3</th>\n      <td>Huelva</td>\n      <td>Tasa PDIA 14 días</td>\n      <td>275,34735078044315</td>\n    </tr>\n    <tr>\n      <th>4</th>\n      <td>Huelva</td>\n      <td>Confirmados PDIA 7 días</td>\n      <td>464</td>\n    </tr>\n    <tr>\n      <th>5</th>\n      <td>Huelva</td>\n      <td>Total Confirmados</td>\n      <td>24465</td>\n    </tr>\n    <tr>\n      <th>6</th>\n      <td>Huelva</td>\n      <td>Curados</td>\n      <td>13795</td>\n    </tr>\n    <tr>\n      <th>7</th>\n      <td>Huelva</td>\n      <td>Fallecidos</td>\n      <td>266</td>\n    </tr>\n  </tbody>\n</table>\n</div>"
     },
     "metadata": {},
     "execution_count": 4
    }
   ],
   "source": [
    "df[df['Lugar de residencia'] == 'Huelva']"
   ]
  },
  {
   "cell_type": "code",
   "execution_count": 5,
   "metadata": {},
   "outputs": [],
   "source": [
    "df['Valor'] = pd.to_numeric(df['Valor'],errors='coerce')"
   ]
  },
  {
   "cell_type": "code",
   "execution_count": 6,
   "metadata": {},
   "outputs": [],
   "source": [
    "dfAnterior = pd.read_csv('covid_huelva.csv', index_col='Lugar de residencia')"
   ]
  },
  {
   "cell_type": "code",
   "execution_count": 7,
   "metadata": {
    "tags": []
   },
   "outputs": [
    {
     "output_type": "stream",
     "name": "stdout",
     "text": [
      "Confirmados PCR en la provincia de Huelva:  24235.0\n"
     ]
    }
   ],
   "source": [
    "# Confirmados PCR provincia Huelva\n",
    "p = df[df['Lugar de residencia'] == 'Huelva'][df['Medida'] == 'Confirmados PDIA']['Valor'].values[0]\n",
    "print('Confirmados PCR en la provincia de Huelva: ', p)"
   ]
  },
  {
   "cell_type": "code",
   "execution_count": 8,
   "metadata": {
    "tags": []
   },
   "outputs": [
    {
     "output_type": "stream",
     "name": "stdout",
     "text": [
      "Confirmados PCR en Huelva capital:  6469.0\n"
     ]
    }
   ],
   "source": [
    "# Confirmados PCR Huelva capitalpd\n",
    "c = df[df['Lugar de residencia'] == 'Huelva (capital)'][df['Medida'] == 'Confirmados PDIA']['Valor'].values[0]\n",
    "print('Confirmados PCR en Huelva capital: ', c)"
   ]
  },
  {
   "cell_type": "code",
   "execution_count": 9,
   "metadata": {
    "tags": []
   },
   "outputs": [],
   "source": [
    "c7 = df[df['Lugar de residencia'] == 'Huelva (capital)'][df['Medida'] == 'Confirmados PDIA 7 días']['Valor'].values[0]\n",
    "c14 = df[df['Lugar de residencia'] == 'Huelva (capital)'][df['Medida'] == 'Confirmados PDIA 14 días']['Valor'].values[0]\n",
    "p = df[df['Lugar de residencia'] == 'Huelva (capital)'][df['Medida'] == 'Población']['Valor'].values[0]"
   ]
  },
  {
   "cell_type": "code",
   "execution_count": 10,
   "metadata": {
    "tags": []
   },
   "outputs": [
    {
     "output_type": "stream",
     "name": "stdout",
     "text": [
      "Huelva (capital)\n\nUn positivo PCR cada 999 personas en los últimos 7 días \n\nUn positivo PCR cada 332 personas en los últimos 14 días\n"
     ]
    }
   ],
   "source": [
    "print('Huelva (capital)\\n')\n",
    "#print('Confirmados PCR 7 días x 1,000 habitantes: ', f\"{c7/(p/1000):.5f}\")\n",
    "print('Un positivo PCR cada', f\"{p/c7:.0f}\", 'personas en los últimos 7 días', '\\n')\n",
    "#print('Confirmados PCR 14 días x 1,000 habitantes: ', f\"{c14/(p/1000):.5f}\")\n",
    "print('Un positivo PCR cada', f\"{p/c14:.0f}\", 'personas en los últimos 14 días')"
   ]
  },
  {
   "cell_type": "code",
   "execution_count": 11,
   "metadata": {},
   "outputs": [],
   "source": [
    "filtro = ((df['Medida'] == 'Confirmados PDIA')| (df['Medida'] == 'Confirmados PDIA 7 días') | (df['Medida'] == 'Población' ) | (df['Medida'] == 'Confirmados PDIA 14 días')) & (df['Valor'] > 0)\n",
    "tabla = pd.pivot_table(df.loc[filtro], values='Valor', index='Lugar de residencia', columns='Medida').dropna()"
   ]
  },
  {
   "cell_type": "code",
   "execution_count": 12,
   "metadata": {},
   "outputs": [],
   "source": [
    "# Reorder columns\n",
    "tabla = tabla[['Confirmados PDIA', 'Confirmados PDIA 7 días', 'Confirmados PDIA 14 días', 'Población']]"
   ]
  },
  {
   "cell_type": "code",
   "execution_count": 13,
   "metadata": {},
   "outputs": [],
   "source": [
    "tabla['tasa7'] = tabla['Confirmados PDIA 7 días']/tabla['Población']*100000\n",
    "tabla['tasa14'] = tabla['Confirmados PDIA 14 días']/tabla['Población']*100000"
   ]
  },
  {
   "cell_type": "code",
   "execution_count": 14,
   "metadata": {},
   "outputs": [],
   "source": [
    "tabla['Diferencia PDIA'] = tabla['Confirmados PDIA'] - dfAnterior['Confirmados PDIA']"
   ]
  },
  {
   "cell_type": "code",
   "execution_count": 15,
   "metadata": {},
   "outputs": [
    {
     "output_type": "execute_result",
     "data": {
      "text/plain": [
       "Medida                             Confirmados PDIA  Confirmados PDIA 7 días  \\\n",
       "Lugar de residencia                                                            \n",
       "Huelva                                      24235.0                    464.0   \n",
       "Huelva-Costa                                14781.0                    292.0   \n",
       "Condado-Campiña                              6701.0                    142.0   \n",
       "Huelva (capital)                             6469.0                    144.0   \n",
       "Almonte                                       819.0                     44.0   \n",
       "Bollullos Par del Condado                     583.0                     24.0   \n",
       "Punta Umbría                                  646.0                     14.0   \n",
       "Cartaya                                       905.0                     43.0   \n",
       "Lepe                                         1961.0                     38.0   \n",
       "Sierra de Huelva-Andévalo Central            2324.0                     17.0   \n",
       "Escacena del Campo                            134.0                      6.0   \n",
       "San Bartolomé de la Torre                     192.0                      3.0   \n",
       "Valverde del Camino                           424.0                      4.0   \n",
       "Rociana del Condado                           301.0                     13.0   \n",
       "Villablanca                                   164.0                      1.0   \n",
       "Gibraleón                                     508.0                     10.0   \n",
       "Ayamonte                                     1174.0                     11.0   \n",
       "Palma del Condado (La)                        961.0                      6.0   \n",
       "San Juan del Puerto                           353.0                      4.0   \n",
       "Bonares                                       177.0                      1.0   \n",
       "Aljaraque                                     920.0                     11.0   \n",
       "Palos de la Frontera                          435.0                      3.0   \n",
       "Cerro de Andévalo (El)                        135.0                      1.0   \n",
       "\n",
       "Medida                             Confirmados PDIA 14 días  Población  \\\n",
       "Lugar de residencia                                                      \n",
       "Huelva                                               1413.0   513170.0   \n",
       "Huelva-Costa                                          919.0   289548.0   \n",
       "Condado-Campiña                                       383.0   156231.0   \n",
       "Huelva (capital)                                      433.0   143837.0   \n",
       "Almonte                                                99.0    24507.0   \n",
       "Bollullos Par del Condado                              56.0    14387.0   \n",
       "Punta Umbría                                           43.0    15355.0   \n",
       "Cartaya                                                64.0    20083.0   \n",
       "Lepe                                                  123.0    27880.0   \n",
       "Sierra de Huelva-Andévalo Central                      62.0    67391.0   \n",
       "Escacena del Campo                                      7.0     2287.0   \n",
       "San Bartolomé de la Torre                               7.0     3761.0   \n",
       "Valverde del Camino                                    15.0    12750.0   \n",
       "Rociana del Condado                                    24.0     7939.0   \n",
       "Villablanca                                            26.0     2885.0   \n",
       "Gibraleón                                              16.0    12737.0   \n",
       "Ayamonte                                               74.0    21104.0   \n",
       "Palma del Condado (La)                                 26.0    10801.0   \n",
       "San Juan del Puerto                                    14.0     9411.0   \n",
       "Bonares                                                13.0     6060.0   \n",
       "Aljaraque                                              33.0    21474.0   \n",
       "Palos de la Frontera                                   31.0    11742.0   \n",
       "Cerro de Andévalo (El)                                  4.0     2327.0   \n",
       "\n",
       "Medida                                  tasa7      tasa14  Diferencia PDIA  \n",
       "Lugar de residencia                                                         \n",
       "Huelva                              90.418380  275.347351             49.0  \n",
       "Huelva-Costa                       100.846837  317.391244             30.0  \n",
       "Condado-Campiña                     90.891052  245.149810             16.0  \n",
       "Huelva (capital)                   100.113323  301.035200             15.0  \n",
       "Almonte                            179.540539  403.966214              9.0  \n",
       "Bollullos Par del Condado          166.817266  389.240286              7.0  \n",
       "Punta Umbría                        91.175513  280.039075              5.0  \n",
       "Cartaya                            214.111438  318.677488              5.0  \n",
       "Lepe                               136.298422  441.176471              4.0  \n",
       "Sierra de Huelva-Andévalo Central   25.225920   92.000415              2.0  \n",
       "Escacena del Campo                 262.352427  306.077831              2.0  \n",
       "San Bartolomé de la Torre           79.766020  186.120713              2.0  \n",
       "Valverde del Camino                 31.372549  117.647059              1.0  \n",
       "Rociana del Condado                163.748583  302.305076              1.0  \n",
       "Villablanca                         34.662045  901.213172              1.0  \n",
       "Gibraleón                           78.511423  125.618277              1.0  \n",
       "Ayamonte                            52.122820  350.644428              1.0  \n",
       "Palma del Condado (La)              55.550412  240.718452             -1.0  \n",
       "San Juan del Puerto                 42.503453  148.762087             -1.0  \n",
       "Bonares                             16.501650  214.521452             -1.0  \n",
       "Aljaraque                           51.224737  153.674211             -1.0  \n",
       "Palos de la Frontera                25.549310  264.009538             -3.0  \n",
       "Cerro de Andévalo (El)              42.973786  171.895144              NaN  "
      ],
      "text/html": "<div>\n<style scoped>\n    .dataframe tbody tr th:only-of-type {\n        vertical-align: middle;\n    }\n\n    .dataframe tbody tr th {\n        vertical-align: top;\n    }\n\n    .dataframe thead th {\n        text-align: right;\n    }\n</style>\n<table border=\"1\" class=\"dataframe\">\n  <thead>\n    <tr style=\"text-align: right;\">\n      <th>Medida</th>\n      <th>Confirmados PDIA</th>\n      <th>Confirmados PDIA 7 días</th>\n      <th>Confirmados PDIA 14 días</th>\n      <th>Población</th>\n      <th>tasa7</th>\n      <th>tasa14</th>\n      <th>Diferencia PDIA</th>\n    </tr>\n    <tr>\n      <th>Lugar de residencia</th>\n      <th></th>\n      <th></th>\n      <th></th>\n      <th></th>\n      <th></th>\n      <th></th>\n      <th></th>\n    </tr>\n  </thead>\n  <tbody>\n    <tr>\n      <th>Huelva</th>\n      <td>24235.0</td>\n      <td>464.0</td>\n      <td>1413.0</td>\n      <td>513170.0</td>\n      <td>90.418380</td>\n      <td>275.347351</td>\n      <td>49.0</td>\n    </tr>\n    <tr>\n      <th>Huelva-Costa</th>\n      <td>14781.0</td>\n      <td>292.0</td>\n      <td>919.0</td>\n      <td>289548.0</td>\n      <td>100.846837</td>\n      <td>317.391244</td>\n      <td>30.0</td>\n    </tr>\n    <tr>\n      <th>Condado-Campiña</th>\n      <td>6701.0</td>\n      <td>142.0</td>\n      <td>383.0</td>\n      <td>156231.0</td>\n      <td>90.891052</td>\n      <td>245.149810</td>\n      <td>16.0</td>\n    </tr>\n    <tr>\n      <th>Huelva (capital)</th>\n      <td>6469.0</td>\n      <td>144.0</td>\n      <td>433.0</td>\n      <td>143837.0</td>\n      <td>100.113323</td>\n      <td>301.035200</td>\n      <td>15.0</td>\n    </tr>\n    <tr>\n      <th>Almonte</th>\n      <td>819.0</td>\n      <td>44.0</td>\n      <td>99.0</td>\n      <td>24507.0</td>\n      <td>179.540539</td>\n      <td>403.966214</td>\n      <td>9.0</td>\n    </tr>\n    <tr>\n      <th>Bollullos Par del Condado</th>\n      <td>583.0</td>\n      <td>24.0</td>\n      <td>56.0</td>\n      <td>14387.0</td>\n      <td>166.817266</td>\n      <td>389.240286</td>\n      <td>7.0</td>\n    </tr>\n    <tr>\n      <th>Punta Umbría</th>\n      <td>646.0</td>\n      <td>14.0</td>\n      <td>43.0</td>\n      <td>15355.0</td>\n      <td>91.175513</td>\n      <td>280.039075</td>\n      <td>5.0</td>\n    </tr>\n    <tr>\n      <th>Cartaya</th>\n      <td>905.0</td>\n      <td>43.0</td>\n      <td>64.0</td>\n      <td>20083.0</td>\n      <td>214.111438</td>\n      <td>318.677488</td>\n      <td>5.0</td>\n    </tr>\n    <tr>\n      <th>Lepe</th>\n      <td>1961.0</td>\n      <td>38.0</td>\n      <td>123.0</td>\n      <td>27880.0</td>\n      <td>136.298422</td>\n      <td>441.176471</td>\n      <td>4.0</td>\n    </tr>\n    <tr>\n      <th>Sierra de Huelva-Andévalo Central</th>\n      <td>2324.0</td>\n      <td>17.0</td>\n      <td>62.0</td>\n      <td>67391.0</td>\n      <td>25.225920</td>\n      <td>92.000415</td>\n      <td>2.0</td>\n    </tr>\n    <tr>\n      <th>Escacena del Campo</th>\n      <td>134.0</td>\n      <td>6.0</td>\n      <td>7.0</td>\n      <td>2287.0</td>\n      <td>262.352427</td>\n      <td>306.077831</td>\n      <td>2.0</td>\n    </tr>\n    <tr>\n      <th>San Bartolomé de la Torre</th>\n      <td>192.0</td>\n      <td>3.0</td>\n      <td>7.0</td>\n      <td>3761.0</td>\n      <td>79.766020</td>\n      <td>186.120713</td>\n      <td>2.0</td>\n    </tr>\n    <tr>\n      <th>Valverde del Camino</th>\n      <td>424.0</td>\n      <td>4.0</td>\n      <td>15.0</td>\n      <td>12750.0</td>\n      <td>31.372549</td>\n      <td>117.647059</td>\n      <td>1.0</td>\n    </tr>\n    <tr>\n      <th>Rociana del Condado</th>\n      <td>301.0</td>\n      <td>13.0</td>\n      <td>24.0</td>\n      <td>7939.0</td>\n      <td>163.748583</td>\n      <td>302.305076</td>\n      <td>1.0</td>\n    </tr>\n    <tr>\n      <th>Villablanca</th>\n      <td>164.0</td>\n      <td>1.0</td>\n      <td>26.0</td>\n      <td>2885.0</td>\n      <td>34.662045</td>\n      <td>901.213172</td>\n      <td>1.0</td>\n    </tr>\n    <tr>\n      <th>Gibraleón</th>\n      <td>508.0</td>\n      <td>10.0</td>\n      <td>16.0</td>\n      <td>12737.0</td>\n      <td>78.511423</td>\n      <td>125.618277</td>\n      <td>1.0</td>\n    </tr>\n    <tr>\n      <th>Ayamonte</th>\n      <td>1174.0</td>\n      <td>11.0</td>\n      <td>74.0</td>\n      <td>21104.0</td>\n      <td>52.122820</td>\n      <td>350.644428</td>\n      <td>1.0</td>\n    </tr>\n    <tr>\n      <th>Palma del Condado (La)</th>\n      <td>961.0</td>\n      <td>6.0</td>\n      <td>26.0</td>\n      <td>10801.0</td>\n      <td>55.550412</td>\n      <td>240.718452</td>\n      <td>-1.0</td>\n    </tr>\n    <tr>\n      <th>San Juan del Puerto</th>\n      <td>353.0</td>\n      <td>4.0</td>\n      <td>14.0</td>\n      <td>9411.0</td>\n      <td>42.503453</td>\n      <td>148.762087</td>\n      <td>-1.0</td>\n    </tr>\n    <tr>\n      <th>Bonares</th>\n      <td>177.0</td>\n      <td>1.0</td>\n      <td>13.0</td>\n      <td>6060.0</td>\n      <td>16.501650</td>\n      <td>214.521452</td>\n      <td>-1.0</td>\n    </tr>\n    <tr>\n      <th>Aljaraque</th>\n      <td>920.0</td>\n      <td>11.0</td>\n      <td>33.0</td>\n      <td>21474.0</td>\n      <td>51.224737</td>\n      <td>153.674211</td>\n      <td>-1.0</td>\n    </tr>\n    <tr>\n      <th>Palos de la Frontera</th>\n      <td>435.0</td>\n      <td>3.0</td>\n      <td>31.0</td>\n      <td>11742.0</td>\n      <td>25.549310</td>\n      <td>264.009538</td>\n      <td>-3.0</td>\n    </tr>\n    <tr>\n      <th>Cerro de Andévalo (El)</th>\n      <td>135.0</td>\n      <td>1.0</td>\n      <td>4.0</td>\n      <td>2327.0</td>\n      <td>42.973786</td>\n      <td>171.895144</td>\n      <td>NaN</td>\n    </tr>\n  </tbody>\n</table>\n</div>"
     },
     "metadata": {},
     "execution_count": 15
    }
   ],
   "source": [
    "# Nuevos casos desde la última captura\n",
    "tabla[tabla['Diferencia PDIA'] != 0].sort_values('Diferencia PDIA', ascending=False)"
   ]
  },
  {
   "cell_type": "code",
   "execution_count": 16,
   "metadata": {},
   "outputs": [],
   "source": [
    "if tabla[tabla['Diferencia PDIA'] != 0]['Diferencia PDIA'].sum() > 0:\n",
    "  # Save to csv\n",
    "  tabla.to_csv('covid_huelva.csv', encoding='utf-8', header=True, index=True)  "
   ]
  },
  {
   "cell_type": "code",
   "execution_count": 17,
   "metadata": {},
   "outputs": [
    {
     "output_type": "execute_result",
     "data": {
      "text/plain": [
       "Medida                             Confirmados PDIA  Confirmados PDIA 7 días  \\\n",
       "Lugar de residencia                                                            \n",
       "Villablanca                                   164.0                      1.0   \n",
       "Cumbres de San Bartolomé                        5.0                      2.0   \n",
       "Isla Cristina                                1979.0                     24.0   \n",
       "Lepe                                         1961.0                     38.0   \n",
       "Almonte                                       819.0                     44.0   \n",
       "Bollullos Par del Condado                     583.0                     24.0   \n",
       "Ayamonte                                     1174.0                     11.0   \n",
       "Almonaster la Real                             54.0                      1.0   \n",
       "Cartaya                                       905.0                     43.0   \n",
       "Villanueva de los Castillejos                 145.0                      5.0   \n",
       "Huelva-Costa                                14781.0                    292.0   \n",
       "Escacena del Campo                            134.0                      6.0   \n",
       "Rociana del Condado                           301.0                     13.0   \n",
       "Huelva (capital)                             6469.0                    144.0   \n",
       "Punta Umbría                                  646.0                     14.0   \n",
       "Huelva                                      24235.0                    464.0   \n",
       "Palos de la Frontera                          435.0                      3.0   \n",
       "Alájar                                         16.0                      1.0   \n",
       "Condado-Campiña                              6701.0                    142.0   \n",
       "Palma del Condado (La)                        961.0                      6.0   \n",
       "Manzanilla                                     85.0                      2.0   \n",
       "Moguer                                        795.0                     16.0   \n",
       "Bonares                                       177.0                      1.0   \n",
       "Beas                                          158.0                      3.0   \n",
       "Puebla de Guzmán                               81.0                      1.0   \n",
       "San Bartolomé de la Torre                     192.0                      3.0   \n",
       "Villalba del Alcor                            437.0                      2.0   \n",
       "Cerro de Andévalo (El)                        135.0                      1.0   \n",
       "Trigueros                                     223.0                      4.0   \n",
       "Aljaraque                                     920.0                     11.0   \n",
       "San Juan del Puerto                           353.0                      4.0   \n",
       "Zalamea la Real                                85.0                      1.0   \n",
       "Gibraleón                                     508.0                     10.0   \n",
       "Aracena                                       456.0                      1.0   \n",
       "Valverde del Camino                           424.0                      4.0   \n",
       "Nerva                                         151.0                      4.0   \n",
       "Sierra de Huelva-Andévalo Central            2324.0                     17.0   \n",
       "Minas de Riotinto                             101.0                      2.0   \n",
       "Niebla                                        158.0                      1.0   \n",
       "\n",
       "Medida                             Confirmados PDIA 14 días  Población  \\\n",
       "Lugar de residencia                                                      \n",
       "Villablanca                                            26.0     2885.0   \n",
       "Cumbres de San Bartolomé                                2.0      376.0   \n",
       "Isla Cristina                                         100.0    21393.0   \n",
       "Lepe                                                  123.0    27880.0   \n",
       "Almonte                                                99.0    24507.0   \n",
       "Bollullos Par del Condado                              56.0    14387.0   \n",
       "Ayamonte                                               74.0    21104.0   \n",
       "Almonaster la Real                                      6.0     1788.0   \n",
       "Cartaya                                                64.0    20083.0   \n",
       "Villanueva de los Castillejos                           9.0     2825.0   \n",
       "Huelva-Costa                                          919.0   289548.0   \n",
       "Escacena del Campo                                      7.0     2287.0   \n",
       "Rociana del Condado                                    24.0     7939.0   \n",
       "Huelva (capital)                                      433.0   143837.0   \n",
       "Punta Umbría                                           43.0    15355.0   \n",
       "Huelva                                               1413.0   513170.0   \n",
       "Palos de la Frontera                                   31.0    11742.0   \n",
       "Alájar                                                  2.0      759.0   \n",
       "Condado-Campiña                                       383.0   156231.0   \n",
       "Palma del Condado (La)                                 26.0    10801.0   \n",
       "Manzanilla                                              5.0     2118.0   \n",
       "Moguer                                                 51.0    21867.0   \n",
       "Bonares                                                13.0     6060.0   \n",
       "Beas                                                    9.0     4341.0   \n",
       "Puebla de Guzmán                                        6.0     3092.0   \n",
       "San Bartolomé de la Torre                               7.0     3761.0   \n",
       "Villalba del Alcor                                      6.0     3366.0   \n",
       "Cerro de Andévalo (El)                                  4.0     2327.0   \n",
       "Trigueros                                              13.0     7862.0   \n",
       "Aljaraque                                              33.0    21474.0   \n",
       "San Juan del Puerto                                    14.0     9411.0   \n",
       "Zalamea la Real                                         4.0     3054.0   \n",
       "Gibraleón                                              16.0    12737.0   \n",
       "Aracena                                                10.0     8255.0   \n",
       "Valverde del Camino                                    15.0    12750.0   \n",
       "Nerva                                                   6.0     5169.0   \n",
       "Sierra de Huelva-Andévalo Central                      62.0    67391.0   \n",
       "Minas de Riotinto                                       3.0     3812.0   \n",
       "Niebla                                                  1.0     4116.0   \n",
       "\n",
       "Medida                                  tasa7      tasa14  Diferencia PDIA  \n",
       "Lugar de residencia                                                         \n",
       "Villablanca                         34.662045  901.213172              1.0  \n",
       "Cumbres de San Bartolomé           531.914894  531.914894              0.0  \n",
       "Isla Cristina                      112.186229  467.442621              0.0  \n",
       "Lepe                               136.298422  441.176471              4.0  \n",
       "Almonte                            179.540539  403.966214              9.0  \n",
       "Bollullos Par del Condado          166.817266  389.240286              7.0  \n",
       "Ayamonte                            52.122820  350.644428              1.0  \n",
       "Almonaster la Real                  55.928412  335.570470              0.0  \n",
       "Cartaya                            214.111438  318.677488              5.0  \n",
       "Villanueva de los Castillejos      176.991150  318.584071              0.0  \n",
       "Huelva-Costa                       100.846837  317.391244             30.0  \n",
       "Escacena del Campo                 262.352427  306.077831              2.0  \n",
       "Rociana del Condado                163.748583  302.305076              1.0  \n",
       "Huelva (capital)                   100.113323  301.035200             15.0  \n",
       "Punta Umbría                        91.175513  280.039075              5.0  \n",
       "Huelva                              90.418380  275.347351             49.0  \n",
       "Palos de la Frontera                25.549310  264.009538             -3.0  \n",
       "Alájar                             131.752306  263.504611              0.0  \n",
       "Condado-Campiña                     90.891052  245.149810             16.0  \n",
       "Palma del Condado (La)              55.550412  240.718452             -1.0  \n",
       "Manzanilla                          94.428706  236.071766              0.0  \n",
       "Moguer                              73.169616  233.228152              0.0  \n",
       "Bonares                             16.501650  214.521452             -1.0  \n",
       "Beas                                69.108500  207.325501              0.0  \n",
       "Puebla de Guzmán                    32.341527  194.049159              0.0  \n",
       "San Bartolomé de la Torre           79.766020  186.120713              2.0  \n",
       "Villalba del Alcor                  59.417706  178.253119              0.0  \n",
       "Cerro de Andévalo (El)              42.973786  171.895144              NaN  \n",
       "Trigueros                           50.877639  165.352328              0.0  \n",
       "Aljaraque                           51.224737  153.674211             -1.0  \n",
       "San Juan del Puerto                 42.503453  148.762087             -1.0  \n",
       "Zalamea la Real                     32.743942  130.975769              0.0  \n",
       "Gibraleón                           78.511423  125.618277              1.0  \n",
       "Aracena                             12.113870  121.138704              0.0  \n",
       "Valverde del Camino                 31.372549  117.647059              1.0  \n",
       "Nerva                               77.384407  116.076611              0.0  \n",
       "Sierra de Huelva-Andévalo Central   25.225920   92.000415              2.0  \n",
       "Minas de Riotinto                   52.465897   78.698846              0.0  \n",
       "Niebla                              24.295432   24.295432              0.0  "
      ],
      "text/html": "<div>\n<style scoped>\n    .dataframe tbody tr th:only-of-type {\n        vertical-align: middle;\n    }\n\n    .dataframe tbody tr th {\n        vertical-align: top;\n    }\n\n    .dataframe thead th {\n        text-align: right;\n    }\n</style>\n<table border=\"1\" class=\"dataframe\">\n  <thead>\n    <tr style=\"text-align: right;\">\n      <th>Medida</th>\n      <th>Confirmados PDIA</th>\n      <th>Confirmados PDIA 7 días</th>\n      <th>Confirmados PDIA 14 días</th>\n      <th>Población</th>\n      <th>tasa7</th>\n      <th>tasa14</th>\n      <th>Diferencia PDIA</th>\n    </tr>\n    <tr>\n      <th>Lugar de residencia</th>\n      <th></th>\n      <th></th>\n      <th></th>\n      <th></th>\n      <th></th>\n      <th></th>\n      <th></th>\n    </tr>\n  </thead>\n  <tbody>\n    <tr>\n      <th>Villablanca</th>\n      <td>164.0</td>\n      <td>1.0</td>\n      <td>26.0</td>\n      <td>2885.0</td>\n      <td>34.662045</td>\n      <td>901.213172</td>\n      <td>1.0</td>\n    </tr>\n    <tr>\n      <th>Cumbres de San Bartolomé</th>\n      <td>5.0</td>\n      <td>2.0</td>\n      <td>2.0</td>\n      <td>376.0</td>\n      <td>531.914894</td>\n      <td>531.914894</td>\n      <td>0.0</td>\n    </tr>\n    <tr>\n      <th>Isla Cristina</th>\n      <td>1979.0</td>\n      <td>24.0</td>\n      <td>100.0</td>\n      <td>21393.0</td>\n      <td>112.186229</td>\n      <td>467.442621</td>\n      <td>0.0</td>\n    </tr>\n    <tr>\n      <th>Lepe</th>\n      <td>1961.0</td>\n      <td>38.0</td>\n      <td>123.0</td>\n      <td>27880.0</td>\n      <td>136.298422</td>\n      <td>441.176471</td>\n      <td>4.0</td>\n    </tr>\n    <tr>\n      <th>Almonte</th>\n      <td>819.0</td>\n      <td>44.0</td>\n      <td>99.0</td>\n      <td>24507.0</td>\n      <td>179.540539</td>\n      <td>403.966214</td>\n      <td>9.0</td>\n    </tr>\n    <tr>\n      <th>Bollullos Par del Condado</th>\n      <td>583.0</td>\n      <td>24.0</td>\n      <td>56.0</td>\n      <td>14387.0</td>\n      <td>166.817266</td>\n      <td>389.240286</td>\n      <td>7.0</td>\n    </tr>\n    <tr>\n      <th>Ayamonte</th>\n      <td>1174.0</td>\n      <td>11.0</td>\n      <td>74.0</td>\n      <td>21104.0</td>\n      <td>52.122820</td>\n      <td>350.644428</td>\n      <td>1.0</td>\n    </tr>\n    <tr>\n      <th>Almonaster la Real</th>\n      <td>54.0</td>\n      <td>1.0</td>\n      <td>6.0</td>\n      <td>1788.0</td>\n      <td>55.928412</td>\n      <td>335.570470</td>\n      <td>0.0</td>\n    </tr>\n    <tr>\n      <th>Cartaya</th>\n      <td>905.0</td>\n      <td>43.0</td>\n      <td>64.0</td>\n      <td>20083.0</td>\n      <td>214.111438</td>\n      <td>318.677488</td>\n      <td>5.0</td>\n    </tr>\n    <tr>\n      <th>Villanueva de los Castillejos</th>\n      <td>145.0</td>\n      <td>5.0</td>\n      <td>9.0</td>\n      <td>2825.0</td>\n      <td>176.991150</td>\n      <td>318.584071</td>\n      <td>0.0</td>\n    </tr>\n    <tr>\n      <th>Huelva-Costa</th>\n      <td>14781.0</td>\n      <td>292.0</td>\n      <td>919.0</td>\n      <td>289548.0</td>\n      <td>100.846837</td>\n      <td>317.391244</td>\n      <td>30.0</td>\n    </tr>\n    <tr>\n      <th>Escacena del Campo</th>\n      <td>134.0</td>\n      <td>6.0</td>\n      <td>7.0</td>\n      <td>2287.0</td>\n      <td>262.352427</td>\n      <td>306.077831</td>\n      <td>2.0</td>\n    </tr>\n    <tr>\n      <th>Rociana del Condado</th>\n      <td>301.0</td>\n      <td>13.0</td>\n      <td>24.0</td>\n      <td>7939.0</td>\n      <td>163.748583</td>\n      <td>302.305076</td>\n      <td>1.0</td>\n    </tr>\n    <tr>\n      <th>Huelva (capital)</th>\n      <td>6469.0</td>\n      <td>144.0</td>\n      <td>433.0</td>\n      <td>143837.0</td>\n      <td>100.113323</td>\n      <td>301.035200</td>\n      <td>15.0</td>\n    </tr>\n    <tr>\n      <th>Punta Umbría</th>\n      <td>646.0</td>\n      <td>14.0</td>\n      <td>43.0</td>\n      <td>15355.0</td>\n      <td>91.175513</td>\n      <td>280.039075</td>\n      <td>5.0</td>\n    </tr>\n    <tr>\n      <th>Huelva</th>\n      <td>24235.0</td>\n      <td>464.0</td>\n      <td>1413.0</td>\n      <td>513170.0</td>\n      <td>90.418380</td>\n      <td>275.347351</td>\n      <td>49.0</td>\n    </tr>\n    <tr>\n      <th>Palos de la Frontera</th>\n      <td>435.0</td>\n      <td>3.0</td>\n      <td>31.0</td>\n      <td>11742.0</td>\n      <td>25.549310</td>\n      <td>264.009538</td>\n      <td>-3.0</td>\n    </tr>\n    <tr>\n      <th>Alájar</th>\n      <td>16.0</td>\n      <td>1.0</td>\n      <td>2.0</td>\n      <td>759.0</td>\n      <td>131.752306</td>\n      <td>263.504611</td>\n      <td>0.0</td>\n    </tr>\n    <tr>\n      <th>Condado-Campiña</th>\n      <td>6701.0</td>\n      <td>142.0</td>\n      <td>383.0</td>\n      <td>156231.0</td>\n      <td>90.891052</td>\n      <td>245.149810</td>\n      <td>16.0</td>\n    </tr>\n    <tr>\n      <th>Palma del Condado (La)</th>\n      <td>961.0</td>\n      <td>6.0</td>\n      <td>26.0</td>\n      <td>10801.0</td>\n      <td>55.550412</td>\n      <td>240.718452</td>\n      <td>-1.0</td>\n    </tr>\n    <tr>\n      <th>Manzanilla</th>\n      <td>85.0</td>\n      <td>2.0</td>\n      <td>5.0</td>\n      <td>2118.0</td>\n      <td>94.428706</td>\n      <td>236.071766</td>\n      <td>0.0</td>\n    </tr>\n    <tr>\n      <th>Moguer</th>\n      <td>795.0</td>\n      <td>16.0</td>\n      <td>51.0</td>\n      <td>21867.0</td>\n      <td>73.169616</td>\n      <td>233.228152</td>\n      <td>0.0</td>\n    </tr>\n    <tr>\n      <th>Bonares</th>\n      <td>177.0</td>\n      <td>1.0</td>\n      <td>13.0</td>\n      <td>6060.0</td>\n      <td>16.501650</td>\n      <td>214.521452</td>\n      <td>-1.0</td>\n    </tr>\n    <tr>\n      <th>Beas</th>\n      <td>158.0</td>\n      <td>3.0</td>\n      <td>9.0</td>\n      <td>4341.0</td>\n      <td>69.108500</td>\n      <td>207.325501</td>\n      <td>0.0</td>\n    </tr>\n    <tr>\n      <th>Puebla de Guzmán</th>\n      <td>81.0</td>\n      <td>1.0</td>\n      <td>6.0</td>\n      <td>3092.0</td>\n      <td>32.341527</td>\n      <td>194.049159</td>\n      <td>0.0</td>\n    </tr>\n    <tr>\n      <th>San Bartolomé de la Torre</th>\n      <td>192.0</td>\n      <td>3.0</td>\n      <td>7.0</td>\n      <td>3761.0</td>\n      <td>79.766020</td>\n      <td>186.120713</td>\n      <td>2.0</td>\n    </tr>\n    <tr>\n      <th>Villalba del Alcor</th>\n      <td>437.0</td>\n      <td>2.0</td>\n      <td>6.0</td>\n      <td>3366.0</td>\n      <td>59.417706</td>\n      <td>178.253119</td>\n      <td>0.0</td>\n    </tr>\n    <tr>\n      <th>Cerro de Andévalo (El)</th>\n      <td>135.0</td>\n      <td>1.0</td>\n      <td>4.0</td>\n      <td>2327.0</td>\n      <td>42.973786</td>\n      <td>171.895144</td>\n      <td>NaN</td>\n    </tr>\n    <tr>\n      <th>Trigueros</th>\n      <td>223.0</td>\n      <td>4.0</td>\n      <td>13.0</td>\n      <td>7862.0</td>\n      <td>50.877639</td>\n      <td>165.352328</td>\n      <td>0.0</td>\n    </tr>\n    <tr>\n      <th>Aljaraque</th>\n      <td>920.0</td>\n      <td>11.0</td>\n      <td>33.0</td>\n      <td>21474.0</td>\n      <td>51.224737</td>\n      <td>153.674211</td>\n      <td>-1.0</td>\n    </tr>\n    <tr>\n      <th>San Juan del Puerto</th>\n      <td>353.0</td>\n      <td>4.0</td>\n      <td>14.0</td>\n      <td>9411.0</td>\n      <td>42.503453</td>\n      <td>148.762087</td>\n      <td>-1.0</td>\n    </tr>\n    <tr>\n      <th>Zalamea la Real</th>\n      <td>85.0</td>\n      <td>1.0</td>\n      <td>4.0</td>\n      <td>3054.0</td>\n      <td>32.743942</td>\n      <td>130.975769</td>\n      <td>0.0</td>\n    </tr>\n    <tr>\n      <th>Gibraleón</th>\n      <td>508.0</td>\n      <td>10.0</td>\n      <td>16.0</td>\n      <td>12737.0</td>\n      <td>78.511423</td>\n      <td>125.618277</td>\n      <td>1.0</td>\n    </tr>\n    <tr>\n      <th>Aracena</th>\n      <td>456.0</td>\n      <td>1.0</td>\n      <td>10.0</td>\n      <td>8255.0</td>\n      <td>12.113870</td>\n      <td>121.138704</td>\n      <td>0.0</td>\n    </tr>\n    <tr>\n      <th>Valverde del Camino</th>\n      <td>424.0</td>\n      <td>4.0</td>\n      <td>15.0</td>\n      <td>12750.0</td>\n      <td>31.372549</td>\n      <td>117.647059</td>\n      <td>1.0</td>\n    </tr>\n    <tr>\n      <th>Nerva</th>\n      <td>151.0</td>\n      <td>4.0</td>\n      <td>6.0</td>\n      <td>5169.0</td>\n      <td>77.384407</td>\n      <td>116.076611</td>\n      <td>0.0</td>\n    </tr>\n    <tr>\n      <th>Sierra de Huelva-Andévalo Central</th>\n      <td>2324.0</td>\n      <td>17.0</td>\n      <td>62.0</td>\n      <td>67391.0</td>\n      <td>25.225920</td>\n      <td>92.000415</td>\n      <td>2.0</td>\n    </tr>\n    <tr>\n      <th>Minas de Riotinto</th>\n      <td>101.0</td>\n      <td>2.0</td>\n      <td>3.0</td>\n      <td>3812.0</td>\n      <td>52.465897</td>\n      <td>78.698846</td>\n      <td>0.0</td>\n    </tr>\n    <tr>\n      <th>Niebla</th>\n      <td>158.0</td>\n      <td>1.0</td>\n      <td>1.0</td>\n      <td>4116.0</td>\n      <td>24.295432</td>\n      <td>24.295432</td>\n      <td>0.0</td>\n    </tr>\n  </tbody>\n</table>\n</div>"
     },
     "metadata": {},
     "execution_count": 17
    }
   ],
   "source": [
    "tabla.sort_values('tasa14', ascending=False)"
   ]
  },
  {
   "cell_type": "code",
   "execution_count": 18,
   "metadata": {},
   "outputs": [
    {
     "output_type": "execute_result",
     "data": {
      "text/plain": [
       "Medida                             Confirmados PDIA  Confirmados PDIA 7 días  \\\n",
       "Lugar de residencia                                                            \n",
       "Villablanca                                   164.0                      1.0   \n",
       "Bonares                                       177.0                      1.0   \n",
       "Palos de la Frontera                          435.0                      3.0   \n",
       "Aracena                                       456.0                      1.0   \n",
       "Ayamonte                                     1174.0                     11.0   \n",
       "Almonaster la Real                             54.0                      1.0   \n",
       "Puebla de Guzmán                               81.0                      1.0   \n",
       "Palma del Condado (La)                        961.0                      6.0   \n",
       "Isla Cristina                                1979.0                     24.0   \n",
       "Zalamea la Real                                85.0                      1.0   \n",
       "Cerro de Andévalo (El)                        135.0                      1.0   \n",
       "Valverde del Camino                           424.0                      4.0   \n",
       "Sierra de Huelva-Andévalo Central            2324.0                     17.0   \n",
       "San Juan del Puerto                           353.0                      4.0   \n",
       "Trigueros                                     223.0                      4.0   \n",
       "Lepe                                         1961.0                     38.0   \n",
       "Moguer                                        795.0                     16.0   \n",
       "Huelva-Costa                                14781.0                    292.0   \n",
       "Punta Umbría                                  646.0                     14.0   \n",
       "Huelva                                      24235.0                    464.0   \n",
       "Huelva (capital)                             6469.0                    144.0   \n",
       "Beas                                          158.0                      3.0   \n",
       "Aljaraque                                     920.0                     11.0   \n",
       "Villalba del Alcor                            437.0                      2.0   \n",
       "Condado-Campiña                              6701.0                    142.0   \n",
       "Manzanilla                                     85.0                      2.0   \n",
       "San Bartolomé de la Torre                     192.0                      3.0   \n",
       "Bollullos Par del Condado                     583.0                     24.0   \n",
       "Almonte                                       819.0                     44.0   \n",
       "Alájar                                         16.0                      1.0   \n",
       "Rociana del Condado                           301.0                     13.0   \n",
       "Villanueva de los Castillejos                 145.0                      5.0   \n",
       "Gibraleón                                     508.0                     10.0   \n",
       "Nerva                                         151.0                      4.0   \n",
       "Minas de Riotinto                             101.0                      2.0   \n",
       "Cartaya                                       905.0                     43.0   \n",
       "Escacena del Campo                            134.0                      6.0   \n",
       "Niebla                                        158.0                      1.0   \n",
       "Cumbres de San Bartolomé                        5.0                      2.0   \n",
       "\n",
       "Medida                             Confirmados PDIA 14 días  Población  \\\n",
       "Lugar de residencia                                                      \n",
       "Villablanca                                            26.0     2885.0   \n",
       "Bonares                                                13.0     6060.0   \n",
       "Palos de la Frontera                                   31.0    11742.0   \n",
       "Aracena                                                10.0     8255.0   \n",
       "Ayamonte                                               74.0    21104.0   \n",
       "Almonaster la Real                                      6.0     1788.0   \n",
       "Puebla de Guzmán                                        6.0     3092.0   \n",
       "Palma del Condado (La)                                 26.0    10801.0   \n",
       "Isla Cristina                                         100.0    21393.0   \n",
       "Zalamea la Real                                         4.0     3054.0   \n",
       "Cerro de Andévalo (El)                                  4.0     2327.0   \n",
       "Valverde del Camino                                    15.0    12750.0   \n",
       "Sierra de Huelva-Andévalo Central                      62.0    67391.0   \n",
       "San Juan del Puerto                                    14.0     9411.0   \n",
       "Trigueros                                              13.0     7862.0   \n",
       "Lepe                                                  123.0    27880.0   \n",
       "Moguer                                                 51.0    21867.0   \n",
       "Huelva-Costa                                          919.0   289548.0   \n",
       "Punta Umbría                                           43.0    15355.0   \n",
       "Huelva                                               1413.0   513170.0   \n",
       "Huelva (capital)                                      433.0   143837.0   \n",
       "Beas                                                    9.0     4341.0   \n",
       "Aljaraque                                              33.0    21474.0   \n",
       "Villalba del Alcor                                      6.0     3366.0   \n",
       "Condado-Campiña                                       383.0   156231.0   \n",
       "Manzanilla                                              5.0     2118.0   \n",
       "San Bartolomé de la Torre                               7.0     3761.0   \n",
       "Bollullos Par del Condado                              56.0    14387.0   \n",
       "Almonte                                                99.0    24507.0   \n",
       "Alájar                                                  2.0      759.0   \n",
       "Rociana del Condado                                    24.0     7939.0   \n",
       "Villanueva de los Castillejos                           9.0     2825.0   \n",
       "Gibraleón                                              16.0    12737.0   \n",
       "Nerva                                                   6.0     5169.0   \n",
       "Minas de Riotinto                                       3.0     3812.0   \n",
       "Cartaya                                                64.0    20083.0   \n",
       "Escacena del Campo                                      7.0     2287.0   \n",
       "Niebla                                                  1.0     4116.0   \n",
       "Cumbres de San Bartolomé                                2.0      376.0   \n",
       "\n",
       "Medida                                  tasa7      tasa14  Diferencia PDIA  \\\n",
       "Lugar de residencia                                                          \n",
       "Villablanca                         34.662045  901.213172              1.0   \n",
       "Bonares                             16.501650  214.521452             -1.0   \n",
       "Palos de la Frontera                25.549310  264.009538             -3.0   \n",
       "Aracena                             12.113870  121.138704              0.0   \n",
       "Ayamonte                            52.122820  350.644428              1.0   \n",
       "Almonaster la Real                  55.928412  335.570470              0.0   \n",
       "Puebla de Guzmán                    32.341527  194.049159              0.0   \n",
       "Palma del Condado (La)              55.550412  240.718452             -1.0   \n",
       "Isla Cristina                      112.186229  467.442621              0.0   \n",
       "Zalamea la Real                     32.743942  130.975769              0.0   \n",
       "Cerro de Andévalo (El)              42.973786  171.895144              0.0   \n",
       "Valverde del Camino                 31.372549  117.647059              1.0   \n",
       "Sierra de Huelva-Andévalo Central   25.225920   92.000415              2.0   \n",
       "San Juan del Puerto                 42.503453  148.762087             -1.0   \n",
       "Trigueros                           50.877639  165.352328              0.0   \n",
       "Lepe                               136.298422  441.176471              4.0   \n",
       "Moguer                              73.169616  233.228152              0.0   \n",
       "Huelva-Costa                       100.846837  317.391244             30.0   \n",
       "Punta Umbría                        91.175513  280.039075              5.0   \n",
       "Huelva                              90.418380  275.347351             49.0   \n",
       "Huelva (capital)                   100.113323  301.035200             15.0   \n",
       "Beas                                69.108500  207.325501              0.0   \n",
       "Aljaraque                           51.224737  153.674211             -1.0   \n",
       "Villalba del Alcor                  59.417706  178.253119              0.0   \n",
       "Condado-Campiña                     90.891052  245.149810             16.0   \n",
       "Manzanilla                          94.428706  236.071766              0.0   \n",
       "San Bartolomé de la Torre           79.766020  186.120713              2.0   \n",
       "Bollullos Par del Condado          166.817266  389.240286              7.0   \n",
       "Almonte                            179.540539  403.966214              9.0   \n",
       "Alájar                             131.752306  263.504611              0.0   \n",
       "Rociana del Condado                163.748583  302.305076              1.0   \n",
       "Villanueva de los Castillejos      176.991150  318.584071              0.0   \n",
       "Gibraleón                           78.511423  125.618277              1.0   \n",
       "Nerva                               77.384407  116.076611              0.0   \n",
       "Minas de Riotinto                   52.465897   78.698846              0.0   \n",
       "Cartaya                            214.111438  318.677488              5.0   \n",
       "Escacena del Campo                 262.352427  306.077831              2.0   \n",
       "Niebla                              24.295432   24.295432              0.0   \n",
       "Cumbres de San Bartolomé           531.914894  531.914894              0.0   \n",
       "\n",
       "Medida                                 7/14  \n",
       "Lugar de residencia                          \n",
       "Villablanca                        0.038462  \n",
       "Bonares                            0.076923  \n",
       "Palos de la Frontera               0.096774  \n",
       "Aracena                            0.100000  \n",
       "Ayamonte                           0.148649  \n",
       "Almonaster la Real                 0.166667  \n",
       "Puebla de Guzmán                   0.166667  \n",
       "Palma del Condado (La)             0.230769  \n",
       "Isla Cristina                      0.240000  \n",
       "Zalamea la Real                    0.250000  \n",
       "Cerro de Andévalo (El)             0.250000  \n",
       "Valverde del Camino                0.266667  \n",
       "Sierra de Huelva-Andévalo Central  0.274194  \n",
       "San Juan del Puerto                0.285714  \n",
       "Trigueros                          0.307692  \n",
       "Lepe                               0.308943  \n",
       "Moguer                             0.313725  \n",
       "Huelva-Costa                       0.317737  \n",
       "Punta Umbría                       0.325581  \n",
       "Huelva                             0.328379  \n",
       "Huelva (capital)                   0.332564  \n",
       "Beas                               0.333333  \n",
       "Aljaraque                          0.333333  \n",
       "Villalba del Alcor                 0.333333  \n",
       "Condado-Campiña                    0.370757  \n",
       "Manzanilla                         0.400000  \n",
       "San Bartolomé de la Torre          0.428571  \n",
       "Bollullos Par del Condado          0.428571  \n",
       "Almonte                            0.444444  \n",
       "Alájar                             0.500000  \n",
       "Rociana del Condado                0.541667  \n",
       "Villanueva de los Castillejos      0.555556  \n",
       "Gibraleón                          0.625000  \n",
       "Nerva                              0.666667  \n",
       "Minas de Riotinto                  0.666667  \n",
       "Cartaya                            0.671875  \n",
       "Escacena del Campo                 0.857143  \n",
       "Niebla                             1.000000  \n",
       "Cumbres de San Bartolomé           1.000000  "
      ],
      "text/html": "<div>\n<style scoped>\n    .dataframe tbody tr th:only-of-type {\n        vertical-align: middle;\n    }\n\n    .dataframe tbody tr th {\n        vertical-align: top;\n    }\n\n    .dataframe thead th {\n        text-align: right;\n    }\n</style>\n<table border=\"1\" class=\"dataframe\">\n  <thead>\n    <tr style=\"text-align: right;\">\n      <th>Medida</th>\n      <th>Confirmados PDIA</th>\n      <th>Confirmados PDIA 7 días</th>\n      <th>Confirmados PDIA 14 días</th>\n      <th>Población</th>\n      <th>tasa7</th>\n      <th>tasa14</th>\n      <th>Diferencia PDIA</th>\n      <th>7/14</th>\n    </tr>\n    <tr>\n      <th>Lugar de residencia</th>\n      <th></th>\n      <th></th>\n      <th></th>\n      <th></th>\n      <th></th>\n      <th></th>\n      <th></th>\n      <th></th>\n    </tr>\n  </thead>\n  <tbody>\n    <tr>\n      <th>Villablanca</th>\n      <td>164.0</td>\n      <td>1.0</td>\n      <td>26.0</td>\n      <td>2885.0</td>\n      <td>34.662045</td>\n      <td>901.213172</td>\n      <td>1.0</td>\n      <td>0.038462</td>\n    </tr>\n    <tr>\n      <th>Bonares</th>\n      <td>177.0</td>\n      <td>1.0</td>\n      <td>13.0</td>\n      <td>6060.0</td>\n      <td>16.501650</td>\n      <td>214.521452</td>\n      <td>-1.0</td>\n      <td>0.076923</td>\n    </tr>\n    <tr>\n      <th>Palos de la Frontera</th>\n      <td>435.0</td>\n      <td>3.0</td>\n      <td>31.0</td>\n      <td>11742.0</td>\n      <td>25.549310</td>\n      <td>264.009538</td>\n      <td>-3.0</td>\n      <td>0.096774</td>\n    </tr>\n    <tr>\n      <th>Aracena</th>\n      <td>456.0</td>\n      <td>1.0</td>\n      <td>10.0</td>\n      <td>8255.0</td>\n      <td>12.113870</td>\n      <td>121.138704</td>\n      <td>0.0</td>\n      <td>0.100000</td>\n    </tr>\n    <tr>\n      <th>Ayamonte</th>\n      <td>1174.0</td>\n      <td>11.0</td>\n      <td>74.0</td>\n      <td>21104.0</td>\n      <td>52.122820</td>\n      <td>350.644428</td>\n      <td>1.0</td>\n      <td>0.148649</td>\n    </tr>\n    <tr>\n      <th>Almonaster la Real</th>\n      <td>54.0</td>\n      <td>1.0</td>\n      <td>6.0</td>\n      <td>1788.0</td>\n      <td>55.928412</td>\n      <td>335.570470</td>\n      <td>0.0</td>\n      <td>0.166667</td>\n    </tr>\n    <tr>\n      <th>Puebla de Guzmán</th>\n      <td>81.0</td>\n      <td>1.0</td>\n      <td>6.0</td>\n      <td>3092.0</td>\n      <td>32.341527</td>\n      <td>194.049159</td>\n      <td>0.0</td>\n      <td>0.166667</td>\n    </tr>\n    <tr>\n      <th>Palma del Condado (La)</th>\n      <td>961.0</td>\n      <td>6.0</td>\n      <td>26.0</td>\n      <td>10801.0</td>\n      <td>55.550412</td>\n      <td>240.718452</td>\n      <td>-1.0</td>\n      <td>0.230769</td>\n    </tr>\n    <tr>\n      <th>Isla Cristina</th>\n      <td>1979.0</td>\n      <td>24.0</td>\n      <td>100.0</td>\n      <td>21393.0</td>\n      <td>112.186229</td>\n      <td>467.442621</td>\n      <td>0.0</td>\n      <td>0.240000</td>\n    </tr>\n    <tr>\n      <th>Zalamea la Real</th>\n      <td>85.0</td>\n      <td>1.0</td>\n      <td>4.0</td>\n      <td>3054.0</td>\n      <td>32.743942</td>\n      <td>130.975769</td>\n      <td>0.0</td>\n      <td>0.250000</td>\n    </tr>\n    <tr>\n      <th>Cerro de Andévalo (El)</th>\n      <td>135.0</td>\n      <td>1.0</td>\n      <td>4.0</td>\n      <td>2327.0</td>\n      <td>42.973786</td>\n      <td>171.895144</td>\n      <td>0.0</td>\n      <td>0.250000</td>\n    </tr>\n    <tr>\n      <th>Valverde del Camino</th>\n      <td>424.0</td>\n      <td>4.0</td>\n      <td>15.0</td>\n      <td>12750.0</td>\n      <td>31.372549</td>\n      <td>117.647059</td>\n      <td>1.0</td>\n      <td>0.266667</td>\n    </tr>\n    <tr>\n      <th>Sierra de Huelva-Andévalo Central</th>\n      <td>2324.0</td>\n      <td>17.0</td>\n      <td>62.0</td>\n      <td>67391.0</td>\n      <td>25.225920</td>\n      <td>92.000415</td>\n      <td>2.0</td>\n      <td>0.274194</td>\n    </tr>\n    <tr>\n      <th>San Juan del Puerto</th>\n      <td>353.0</td>\n      <td>4.0</td>\n      <td>14.0</td>\n      <td>9411.0</td>\n      <td>42.503453</td>\n      <td>148.762087</td>\n      <td>-1.0</td>\n      <td>0.285714</td>\n    </tr>\n    <tr>\n      <th>Trigueros</th>\n      <td>223.0</td>\n      <td>4.0</td>\n      <td>13.0</td>\n      <td>7862.0</td>\n      <td>50.877639</td>\n      <td>165.352328</td>\n      <td>0.0</td>\n      <td>0.307692</td>\n    </tr>\n    <tr>\n      <th>Lepe</th>\n      <td>1961.0</td>\n      <td>38.0</td>\n      <td>123.0</td>\n      <td>27880.0</td>\n      <td>136.298422</td>\n      <td>441.176471</td>\n      <td>4.0</td>\n      <td>0.308943</td>\n    </tr>\n    <tr>\n      <th>Moguer</th>\n      <td>795.0</td>\n      <td>16.0</td>\n      <td>51.0</td>\n      <td>21867.0</td>\n      <td>73.169616</td>\n      <td>233.228152</td>\n      <td>0.0</td>\n      <td>0.313725</td>\n    </tr>\n    <tr>\n      <th>Huelva-Costa</th>\n      <td>14781.0</td>\n      <td>292.0</td>\n      <td>919.0</td>\n      <td>289548.0</td>\n      <td>100.846837</td>\n      <td>317.391244</td>\n      <td>30.0</td>\n      <td>0.317737</td>\n    </tr>\n    <tr>\n      <th>Punta Umbría</th>\n      <td>646.0</td>\n      <td>14.0</td>\n      <td>43.0</td>\n      <td>15355.0</td>\n      <td>91.175513</td>\n      <td>280.039075</td>\n      <td>5.0</td>\n      <td>0.325581</td>\n    </tr>\n    <tr>\n      <th>Huelva</th>\n      <td>24235.0</td>\n      <td>464.0</td>\n      <td>1413.0</td>\n      <td>513170.0</td>\n      <td>90.418380</td>\n      <td>275.347351</td>\n      <td>49.0</td>\n      <td>0.328379</td>\n    </tr>\n    <tr>\n      <th>Huelva (capital)</th>\n      <td>6469.0</td>\n      <td>144.0</td>\n      <td>433.0</td>\n      <td>143837.0</td>\n      <td>100.113323</td>\n      <td>301.035200</td>\n      <td>15.0</td>\n      <td>0.332564</td>\n    </tr>\n    <tr>\n      <th>Beas</th>\n      <td>158.0</td>\n      <td>3.0</td>\n      <td>9.0</td>\n      <td>4341.0</td>\n      <td>69.108500</td>\n      <td>207.325501</td>\n      <td>0.0</td>\n      <td>0.333333</td>\n    </tr>\n    <tr>\n      <th>Aljaraque</th>\n      <td>920.0</td>\n      <td>11.0</td>\n      <td>33.0</td>\n      <td>21474.0</td>\n      <td>51.224737</td>\n      <td>153.674211</td>\n      <td>-1.0</td>\n      <td>0.333333</td>\n    </tr>\n    <tr>\n      <th>Villalba del Alcor</th>\n      <td>437.0</td>\n      <td>2.0</td>\n      <td>6.0</td>\n      <td>3366.0</td>\n      <td>59.417706</td>\n      <td>178.253119</td>\n      <td>0.0</td>\n      <td>0.333333</td>\n    </tr>\n    <tr>\n      <th>Condado-Campiña</th>\n      <td>6701.0</td>\n      <td>142.0</td>\n      <td>383.0</td>\n      <td>156231.0</td>\n      <td>90.891052</td>\n      <td>245.149810</td>\n      <td>16.0</td>\n      <td>0.370757</td>\n    </tr>\n    <tr>\n      <th>Manzanilla</th>\n      <td>85.0</td>\n      <td>2.0</td>\n      <td>5.0</td>\n      <td>2118.0</td>\n      <td>94.428706</td>\n      <td>236.071766</td>\n      <td>0.0</td>\n      <td>0.400000</td>\n    </tr>\n    <tr>\n      <th>San Bartolomé de la Torre</th>\n      <td>192.0</td>\n      <td>3.0</td>\n      <td>7.0</td>\n      <td>3761.0</td>\n      <td>79.766020</td>\n      <td>186.120713</td>\n      <td>2.0</td>\n      <td>0.428571</td>\n    </tr>\n    <tr>\n      <th>Bollullos Par del Condado</th>\n      <td>583.0</td>\n      <td>24.0</td>\n      <td>56.0</td>\n      <td>14387.0</td>\n      <td>166.817266</td>\n      <td>389.240286</td>\n      <td>7.0</td>\n      <td>0.428571</td>\n    </tr>\n    <tr>\n      <th>Almonte</th>\n      <td>819.0</td>\n      <td>44.0</td>\n      <td>99.0</td>\n      <td>24507.0</td>\n      <td>179.540539</td>\n      <td>403.966214</td>\n      <td>9.0</td>\n      <td>0.444444</td>\n    </tr>\n    <tr>\n      <th>Alájar</th>\n      <td>16.0</td>\n      <td>1.0</td>\n      <td>2.0</td>\n      <td>759.0</td>\n      <td>131.752306</td>\n      <td>263.504611</td>\n      <td>0.0</td>\n      <td>0.500000</td>\n    </tr>\n    <tr>\n      <th>Rociana del Condado</th>\n      <td>301.0</td>\n      <td>13.0</td>\n      <td>24.0</td>\n      <td>7939.0</td>\n      <td>163.748583</td>\n      <td>302.305076</td>\n      <td>1.0</td>\n      <td>0.541667</td>\n    </tr>\n    <tr>\n      <th>Villanueva de los Castillejos</th>\n      <td>145.0</td>\n      <td>5.0</td>\n      <td>9.0</td>\n      <td>2825.0</td>\n      <td>176.991150</td>\n      <td>318.584071</td>\n      <td>0.0</td>\n      <td>0.555556</td>\n    </tr>\n    <tr>\n      <th>Gibraleón</th>\n      <td>508.0</td>\n      <td>10.0</td>\n      <td>16.0</td>\n      <td>12737.0</td>\n      <td>78.511423</td>\n      <td>125.618277</td>\n      <td>1.0</td>\n      <td>0.625000</td>\n    </tr>\n    <tr>\n      <th>Nerva</th>\n      <td>151.0</td>\n      <td>4.0</td>\n      <td>6.0</td>\n      <td>5169.0</td>\n      <td>77.384407</td>\n      <td>116.076611</td>\n      <td>0.0</td>\n      <td>0.666667</td>\n    </tr>\n    <tr>\n      <th>Minas de Riotinto</th>\n      <td>101.0</td>\n      <td>2.0</td>\n      <td>3.0</td>\n      <td>3812.0</td>\n      <td>52.465897</td>\n      <td>78.698846</td>\n      <td>0.0</td>\n      <td>0.666667</td>\n    </tr>\n    <tr>\n      <th>Cartaya</th>\n      <td>905.0</td>\n      <td>43.0</td>\n      <td>64.0</td>\n      <td>20083.0</td>\n      <td>214.111438</td>\n      <td>318.677488</td>\n      <td>5.0</td>\n      <td>0.671875</td>\n    </tr>\n    <tr>\n      <th>Escacena del Campo</th>\n      <td>134.0</td>\n      <td>6.0</td>\n      <td>7.0</td>\n      <td>2287.0</td>\n      <td>262.352427</td>\n      <td>306.077831</td>\n      <td>2.0</td>\n      <td>0.857143</td>\n    </tr>\n    <tr>\n      <th>Niebla</th>\n      <td>158.0</td>\n      <td>1.0</td>\n      <td>1.0</td>\n      <td>4116.0</td>\n      <td>24.295432</td>\n      <td>24.295432</td>\n      <td>0.0</td>\n      <td>1.000000</td>\n    </tr>\n    <tr>\n      <th>Cumbres de San Bartolomé</th>\n      <td>5.0</td>\n      <td>2.0</td>\n      <td>2.0</td>\n      <td>376.0</td>\n      <td>531.914894</td>\n      <td>531.914894</td>\n      <td>0.0</td>\n      <td>1.000000</td>\n    </tr>\n  </tbody>\n</table>\n</div>"
     },
     "metadata": {},
     "execution_count": 18
    }
   ],
   "source": [
    "# Peso de la tasa de la última semana en relación con la tasa a 14 días \n",
    "# Mejor cuanto menor. Valor 1 significa que no había casos antes de 7 días.\n",
    "tabla['7/14'] = tabla['tasa7'] / tabla['tasa14']\n",
    "tabla.fillna(0).sort_values('7/14', ascending=True)"
   ]
  },
  {
   "cell_type": "code",
   "execution_count": null,
   "metadata": {},
   "outputs": [],
   "source": []
  }
 ]
}