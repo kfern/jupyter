{
 "metadata": {
  "language_info": {
   "codemirror_mode": {
    "name": "ipython",
    "version": 3
   },
   "file_extension": ".py",
   "mimetype": "text/x-python",
   "name": "python",
   "nbconvert_exporter": "python",
   "pygments_lexer": "ipython3",
   "version": "3.6.9-final"
  },
  "orig_nbformat": 2,
  "kernelspec": {
   "name": "python_defaultSpec_1599578928805",
   "display_name": "Python 3.6.9 64-bit"
  }
 },
 "nbformat": 4,
 "nbformat_minor": 2,
 "cells": [
  {
   "cell_type": "code",
   "execution_count": 1,
   "metadata": {},
   "outputs": [],
   "source": [
    "import pandas as pd"
   ]
  },
  {
   "cell_type": "code",
   "execution_count": 2,
   "metadata": {},
   "outputs": [],
   "source": [
    "url = 'https://www.juntadeandalucia.es/institutodeestadisticaycartografia/badea/stpivot/stpivot/Print?cube=013d884c-cfc5-4c21-9e78-e26225682afd&type=3&foto=si&ejecutaDesde=&codConsulta=38668&consTipoVisua=JP'\n",
    "fields = ['Lugar de residencia', 'Medida', 'Valor']\n",
    "df = pd.read_csv(url, delimiter=';', usecols=fields)"
   ]
  },
  {
   "cell_type": "code",
   "execution_count": 3,
   "metadata": {},
   "outputs": [],
   "source": [
    "dfAnterior = pd.read_csv('covid_huelva.csv', index_col='Lugar de residencia')"
   ]
  },
  {
   "cell_type": "code",
   "execution_count": 4,
   "metadata": {
    "tags": []
   },
   "outputs": [
    {
     "output_type": "stream",
     "name": "stdout",
     "text": "Confirmados PCR en la provincia de Huelva:  811.0\n"
    }
   ],
   "source": [
    "# Confirmados PCR provincia Huelva\n",
    "p = df[df['Lugar de residencia'] == 'Huelva'][df['Medida'] == 'Confirmados PCR']['Valor'].values[0]\n",
    "print('Confirmados PCR en la provincia de Huelva: ', p)"
   ]
  },
  {
   "cell_type": "code",
   "execution_count": 5,
   "metadata": {
    "tags": []
   },
   "outputs": [
    {
     "output_type": "stream",
     "name": "stdout",
     "text": "Confirmados PCR en Huelva capital:  220.0\n"
    }
   ],
   "source": [
    "# Confirmados PCR Huelva capital\n",
    "c = df[df['Lugar de residencia'] == 'Huelva (capital)'][df['Medida'] == 'Confirmados PCR']['Valor'].values[0]\n",
    "print('Confirmados PCR en Huelva capital: ', c)"
   ]
  },
  {
   "cell_type": "code",
   "execution_count": 6,
   "metadata": {
    "tags": []
   },
   "outputs": [],
   "source": [
    "c7 = df[df['Lugar de residencia'] == 'Huelva (capital)'][df['Medida'] == 'Confirmados PCR 7 días']['Valor'].values[0]\n",
    "c14 = df[df['Lugar de residencia'] == 'Huelva (capital)'][df['Medida'] == 'Confirmados PCR 14 días']['Valor'].values[0]\n",
    "p = df[df['Lugar de residencia'] == 'Huelva (capital)'][df['Medida'] == 'Población']['Valor'].values[0]"
   ]
  },
  {
   "cell_type": "code",
   "execution_count": 7,
   "metadata": {
    "tags": []
   },
   "outputs": [
    {
     "output_type": "stream",
     "name": "stdout",
     "text": "Huelva (capital)\n\nConfirmados PCR 7 días x 1,000 habitantes:  0.11833\nUn positivo PCR cada 8451 personas en los últimos 7 días \n\nConfirmados PCR 14 días x 1,000 habitantes:  0.21578\nUn positivo PCR cada 4634 personas en los últimos 14 días\n"
    }
   ],
   "source": [
    "print('Huelva (capital)\\n')\n",
    "print('Confirmados PCR 7 días x 1,000 habitantes: ', f\"{c7/(p/1000):.5f}\")\n",
    "print('Un positivo PCR cada', f\"{p/c7:.0f}\", 'personas en los últimos 7 días', '\\n')\n",
    "print('Confirmados PCR 14 días x 1,000 habitantes: ', f\"{c14/(p/1000):.5f}\")\n",
    "print('Un positivo PCR cada', f\"{p/c14:.0f}\", 'personas en los últimos 14 días')"
   ]
  },
  {
   "cell_type": "code",
   "execution_count": 8,
   "metadata": {},
   "outputs": [],
   "source": [
    "filtro = ((df['Medida'] == 'Confirmados PCR')| (df['Medida'] == 'Confirmados PCR 7 días') | (df['Medida'] == 'Población' ) | (df['Medida'] == 'Confirmados PCR 14 días')) & (df['Valor'] > 0)\n",
    "tabla = pd.pivot_table(df.loc[filtro], values='Valor', index='Lugar de residencia', columns='Medida').dropna()"
   ]
  },
  {
   "cell_type": "code",
   "execution_count": 9,
   "metadata": {},
   "outputs": [],
   "source": [
    "# Reorder columns\n",
    "tabla = tabla[['Confirmados PCR', 'Confirmados PCR 7 días', 'Confirmados PCR 14 días', 'Población']]"
   ]
  },
  {
   "cell_type": "code",
   "execution_count": 10,
   "metadata": {},
   "outputs": [],
   "source": [
    "tabla['tasa7'] = tabla['Confirmados PCR 7 días']/tabla['Población']*100000\n",
    "tabla['tasa14'] = tabla['Confirmados PCR 14 días']/tabla['Población']*100000"
   ]
  },
  {
   "cell_type": "code",
   "execution_count": 11,
   "metadata": {},
   "outputs": [],
   "source": [
    "tabla['Diferencia PCR'] = tabla['Confirmados PCR'] - dfAnterior['Confirmados PCR']"
   ]
  },
  {
   "cell_type": "code",
   "execution_count": 12,
   "metadata": {},
   "outputs": [
    {
     "output_type": "execute_result",
     "data": {
      "text/plain": "Medida                             Confirmados PCR  Confirmados PCR 7 días  \\\nLugar de residencia                                                          \nAljaraque                                     46.0                     3.0   \nAlmonte                                       41.0                     8.0   \nAyamonte                                      15.0                     3.0   \nBollullos Par del Condado                     18.0                     6.0   \nCabezas Rubias                                 2.0                     1.0   \nCondado-Campiña                              238.0                    47.0   \nCortegana                                      8.0                     4.0   \nEscacena del Campo                             9.0                     5.0   \nGibraleón                                     12.0                     1.0   \nHuelva                                       811.0                   110.0   \nHuelva (capital)                             220.0                    17.0   \nHuelva-Costa                                 423.0                    51.0   \nIsla Cristina                                 32.0                    15.0   \nLepe                                          55.0                     6.0   \nMinas de Riotinto                             14.0                     2.0   \nMoguer                                        23.0                     2.0   \nPalma del Condado (La)                        24.0                     4.0   \nPunta Umbría                                  20.0                     6.0   \nRociana del Condado                            4.0                     1.0   \nSierra de Huelva-Andévalo Central            139.0                     9.0   \nTrigueros                                     28.0                     3.0   \nValverde del Camino                           23.0                     2.0   \nVillalba del Alcor                            27.0                    17.0   \nZalamea la Real                               14.0                     1.0   \n\nMedida                             Confirmados PCR 14 días  Población  \\\nLugar de residencia                                                     \nAljaraque                                             15.0    21260.0   \nAlmonte                                               10.0    24191.0   \nAyamonte                                               5.0    20946.0   \nBollullos Par del Condado                              7.0    14272.0   \nCabezas Rubias                                         2.0      730.0   \nCondado-Campiña                                       75.0   155057.0   \nCortegana                                              4.0     4666.0   \nEscacena del Campo                                     8.0     2284.0   \nGibraleón                                              2.0    12607.0   \nHuelva                                               207.0   510743.0   \nHuelva (capital)                                      31.0   143663.0   \nHuelva-Costa                                         101.0   288115.0   \nIsla Cristina                                         20.0    21264.0   \nLepe                                                  20.0    27431.0   \nMinas de Riotinto                                     10.0     3848.0   \nMoguer                                                 5.0    22088.0   \nPalma del Condado (La)                                 6.0    10761.0   \nPunta Umbría                                           6.0    15242.0   \nRociana del Condado                                    1.0     7855.0   \nSierra de Huelva-Andévalo Central                     23.0    67571.0   \nTrigueros                                              4.0     7713.0   \nValverde del Camino                                    4.0    12820.0   \nVillalba del Alcor                                    25.0     3338.0   \nZalamea la Real                                        3.0     3068.0   \n\nMedida                                  tasa7      tasa14 Diferencia PCR  \nLugar de residencia                                                       \nAljaraque                           14.111007   70.555033            NaN  \nAlmonte                             33.070150   41.337688            NaN  \nAyamonte                            14.322544   23.870906            NaN  \nBollullos Par del Condado           42.040359   49.047085            NaN  \nCabezas Rubias                     136.986301  273.972603            NaN  \nCondado-Campiña                     30.311434   48.369309            NaN  \nCortegana                           85.726532   85.726532            NaN  \nEscacena del Campo                 218.914186  350.262697            NaN  \nGibraleón                            7.932101   15.864202            NaN  \nHuelva                              21.537251   40.529190            NaN  \nHuelva (capital)                    11.833249   21.578277            NaN  \nHuelva-Costa                        17.701265   35.055447            NaN  \nIsla Cristina                       70.541761   94.055681            NaN  \nLepe                                21.873063   72.910211            NaN  \nMinas de Riotinto                   51.975052  259.875260            NaN  \nMoguer                               9.054690   22.636726            NaN  \nPalma del Condado (La)              37.171267   55.756900            NaN  \nPunta Umbría                        39.364913   39.364913            NaN  \nRociana del Condado                 12.730745   12.730745            NaN  \nSierra de Huelva-Andévalo Central   13.319323   34.038271            NaN  \nTrigueros                           38.895371   51.860495            NaN  \nValverde del Camino                 15.600624   31.201248            NaN  \nVillalba del Alcor                 509.286998  748.951468            NaN  \nZalamea la Real                     32.594524   97.783572            NaN  ",
      "text/html": "<div>\n<style scoped>\n    .dataframe tbody tr th:only-of-type {\n        vertical-align: middle;\n    }\n\n    .dataframe tbody tr th {\n        vertical-align: top;\n    }\n\n    .dataframe thead th {\n        text-align: right;\n    }\n</style>\n<table border=\"1\" class=\"dataframe\">\n  <thead>\n    <tr style=\"text-align: right;\">\n      <th>Medida</th>\n      <th>Confirmados PCR</th>\n      <th>Confirmados PCR 7 días</th>\n      <th>Confirmados PCR 14 días</th>\n      <th>Población</th>\n      <th>tasa7</th>\n      <th>tasa14</th>\n      <th>Diferencia PCR</th>\n    </tr>\n    <tr>\n      <th>Lugar de residencia</th>\n      <th></th>\n      <th></th>\n      <th></th>\n      <th></th>\n      <th></th>\n      <th></th>\n      <th></th>\n    </tr>\n  </thead>\n  <tbody>\n    <tr>\n      <th>Aljaraque</th>\n      <td>46.0</td>\n      <td>3.0</td>\n      <td>15.0</td>\n      <td>21260.0</td>\n      <td>14.111007</td>\n      <td>70.555033</td>\n      <td>NaN</td>\n    </tr>\n    <tr>\n      <th>Almonte</th>\n      <td>41.0</td>\n      <td>8.0</td>\n      <td>10.0</td>\n      <td>24191.0</td>\n      <td>33.070150</td>\n      <td>41.337688</td>\n      <td>NaN</td>\n    </tr>\n    <tr>\n      <th>Ayamonte</th>\n      <td>15.0</td>\n      <td>3.0</td>\n      <td>5.0</td>\n      <td>20946.0</td>\n      <td>14.322544</td>\n      <td>23.870906</td>\n      <td>NaN</td>\n    </tr>\n    <tr>\n      <th>Bollullos Par del Condado</th>\n      <td>18.0</td>\n      <td>6.0</td>\n      <td>7.0</td>\n      <td>14272.0</td>\n      <td>42.040359</td>\n      <td>49.047085</td>\n      <td>NaN</td>\n    </tr>\n    <tr>\n      <th>Cabezas Rubias</th>\n      <td>2.0</td>\n      <td>1.0</td>\n      <td>2.0</td>\n      <td>730.0</td>\n      <td>136.986301</td>\n      <td>273.972603</td>\n      <td>NaN</td>\n    </tr>\n    <tr>\n      <th>Condado-Campiña</th>\n      <td>238.0</td>\n      <td>47.0</td>\n      <td>75.0</td>\n      <td>155057.0</td>\n      <td>30.311434</td>\n      <td>48.369309</td>\n      <td>NaN</td>\n    </tr>\n    <tr>\n      <th>Cortegana</th>\n      <td>8.0</td>\n      <td>4.0</td>\n      <td>4.0</td>\n      <td>4666.0</td>\n      <td>85.726532</td>\n      <td>85.726532</td>\n      <td>NaN</td>\n    </tr>\n    <tr>\n      <th>Escacena del Campo</th>\n      <td>9.0</td>\n      <td>5.0</td>\n      <td>8.0</td>\n      <td>2284.0</td>\n      <td>218.914186</td>\n      <td>350.262697</td>\n      <td>NaN</td>\n    </tr>\n    <tr>\n      <th>Gibraleón</th>\n      <td>12.0</td>\n      <td>1.0</td>\n      <td>2.0</td>\n      <td>12607.0</td>\n      <td>7.932101</td>\n      <td>15.864202</td>\n      <td>NaN</td>\n    </tr>\n    <tr>\n      <th>Huelva</th>\n      <td>811.0</td>\n      <td>110.0</td>\n      <td>207.0</td>\n      <td>510743.0</td>\n      <td>21.537251</td>\n      <td>40.529190</td>\n      <td>NaN</td>\n    </tr>\n    <tr>\n      <th>Huelva (capital)</th>\n      <td>220.0</td>\n      <td>17.0</td>\n      <td>31.0</td>\n      <td>143663.0</td>\n      <td>11.833249</td>\n      <td>21.578277</td>\n      <td>NaN</td>\n    </tr>\n    <tr>\n      <th>Huelva-Costa</th>\n      <td>423.0</td>\n      <td>51.0</td>\n      <td>101.0</td>\n      <td>288115.0</td>\n      <td>17.701265</td>\n      <td>35.055447</td>\n      <td>NaN</td>\n    </tr>\n    <tr>\n      <th>Isla Cristina</th>\n      <td>32.0</td>\n      <td>15.0</td>\n      <td>20.0</td>\n      <td>21264.0</td>\n      <td>70.541761</td>\n      <td>94.055681</td>\n      <td>NaN</td>\n    </tr>\n    <tr>\n      <th>Lepe</th>\n      <td>55.0</td>\n      <td>6.0</td>\n      <td>20.0</td>\n      <td>27431.0</td>\n      <td>21.873063</td>\n      <td>72.910211</td>\n      <td>NaN</td>\n    </tr>\n    <tr>\n      <th>Minas de Riotinto</th>\n      <td>14.0</td>\n      <td>2.0</td>\n      <td>10.0</td>\n      <td>3848.0</td>\n      <td>51.975052</td>\n      <td>259.875260</td>\n      <td>NaN</td>\n    </tr>\n    <tr>\n      <th>Moguer</th>\n      <td>23.0</td>\n      <td>2.0</td>\n      <td>5.0</td>\n      <td>22088.0</td>\n      <td>9.054690</td>\n      <td>22.636726</td>\n      <td>NaN</td>\n    </tr>\n    <tr>\n      <th>Palma del Condado (La)</th>\n      <td>24.0</td>\n      <td>4.0</td>\n      <td>6.0</td>\n      <td>10761.0</td>\n      <td>37.171267</td>\n      <td>55.756900</td>\n      <td>NaN</td>\n    </tr>\n    <tr>\n      <th>Punta Umbría</th>\n      <td>20.0</td>\n      <td>6.0</td>\n      <td>6.0</td>\n      <td>15242.0</td>\n      <td>39.364913</td>\n      <td>39.364913</td>\n      <td>NaN</td>\n    </tr>\n    <tr>\n      <th>Rociana del Condado</th>\n      <td>4.0</td>\n      <td>1.0</td>\n      <td>1.0</td>\n      <td>7855.0</td>\n      <td>12.730745</td>\n      <td>12.730745</td>\n      <td>NaN</td>\n    </tr>\n    <tr>\n      <th>Sierra de Huelva-Andévalo Central</th>\n      <td>139.0</td>\n      <td>9.0</td>\n      <td>23.0</td>\n      <td>67571.0</td>\n      <td>13.319323</td>\n      <td>34.038271</td>\n      <td>NaN</td>\n    </tr>\n    <tr>\n      <th>Trigueros</th>\n      <td>28.0</td>\n      <td>3.0</td>\n      <td>4.0</td>\n      <td>7713.0</td>\n      <td>38.895371</td>\n      <td>51.860495</td>\n      <td>NaN</td>\n    </tr>\n    <tr>\n      <th>Valverde del Camino</th>\n      <td>23.0</td>\n      <td>2.0</td>\n      <td>4.0</td>\n      <td>12820.0</td>\n      <td>15.600624</td>\n      <td>31.201248</td>\n      <td>NaN</td>\n    </tr>\n    <tr>\n      <th>Villalba del Alcor</th>\n      <td>27.0</td>\n      <td>17.0</td>\n      <td>25.0</td>\n      <td>3338.0</td>\n      <td>509.286998</td>\n      <td>748.951468</td>\n      <td>NaN</td>\n    </tr>\n    <tr>\n      <th>Zalamea la Real</th>\n      <td>14.0</td>\n      <td>1.0</td>\n      <td>3.0</td>\n      <td>3068.0</td>\n      <td>32.594524</td>\n      <td>97.783572</td>\n      <td>NaN</td>\n    </tr>\n  </tbody>\n</table>\n</div>"
     },
     "metadata": {},
     "execution_count": 12
    }
   ],
   "source": [
    "# Resultado ordenado por Lugar de residencia\n",
    "tabla"
   ]
  },
  {
   "cell_type": "code",
   "execution_count": 14,
   "metadata": {},
   "outputs": [],
   "source": [
    "# Save to csv\n",
    "tabla.to_csv('covid_huelva.csv', encoding='utf-8', header=True, index=True)"
   ]
  },
  {
   "cell_type": "code",
   "execution_count": 15,
   "metadata": {},
   "outputs": [
    {
     "output_type": "execute_result",
     "data": {
      "text/plain": "Medida                             Confirmados PCR  Confirmados PCR 7 días  \\\nLugar de residencia                                                          \nVillalba del Alcor                            27.0                    17.0   \nEscacena del Campo                             9.0                     5.0   \nCabezas Rubias                                 2.0                     1.0   \nMinas de Riotinto                             14.0                     2.0   \nZalamea la Real                               14.0                     1.0   \nIsla Cristina                                 32.0                    15.0   \nCortegana                                      8.0                     4.0   \nLepe                                          55.0                     6.0   \nAljaraque                                     46.0                     3.0   \nPalma del Condado (La)                        24.0                     4.0   \nTrigueros                                     28.0                     3.0   \nBollullos Par del Condado                     18.0                     6.0   \nCondado-Campiña                              238.0                    47.0   \nAlmonte                                       41.0                     8.0   \nHuelva                                       811.0                   110.0   \nPunta Umbría                                  20.0                     6.0   \nHuelva-Costa                                 423.0                    51.0   \nSierra de Huelva-Andévalo Central            139.0                     9.0   \nValverde del Camino                           23.0                     2.0   \nAyamonte                                      15.0                     3.0   \nMoguer                                        23.0                     2.0   \nHuelva (capital)                             220.0                    17.0   \nGibraleón                                     12.0                     1.0   \nRociana del Condado                            4.0                     1.0   \n\nMedida                             Confirmados PCR 14 días  Población  \\\nLugar de residencia                                                     \nVillalba del Alcor                                    25.0     3338.0   \nEscacena del Campo                                     8.0     2284.0   \nCabezas Rubias                                         2.0      730.0   \nMinas de Riotinto                                     10.0     3848.0   \nZalamea la Real                                        3.0     3068.0   \nIsla Cristina                                         20.0    21264.0   \nCortegana                                              4.0     4666.0   \nLepe                                                  20.0    27431.0   \nAljaraque                                             15.0    21260.0   \nPalma del Condado (La)                                 6.0    10761.0   \nTrigueros                                              4.0     7713.0   \nBollullos Par del Condado                              7.0    14272.0   \nCondado-Campiña                                       75.0   155057.0   \nAlmonte                                               10.0    24191.0   \nHuelva                                               207.0   510743.0   \nPunta Umbría                                           6.0    15242.0   \nHuelva-Costa                                         101.0   288115.0   \nSierra de Huelva-Andévalo Central                     23.0    67571.0   \nValverde del Camino                                    4.0    12820.0   \nAyamonte                                               5.0    20946.0   \nMoguer                                                 5.0    22088.0   \nHuelva (capital)                                      31.0   143663.0   \nGibraleón                                              2.0    12607.0   \nRociana del Condado                                    1.0     7855.0   \n\nMedida                                  tasa7      tasa14 Diferencia PCR  \nLugar de residencia                                                       \nVillalba del Alcor                 509.286998  748.951468            NaN  \nEscacena del Campo                 218.914186  350.262697            NaN  \nCabezas Rubias                     136.986301  273.972603            NaN  \nMinas de Riotinto                   51.975052  259.875260            NaN  \nZalamea la Real                     32.594524   97.783572            NaN  \nIsla Cristina                       70.541761   94.055681            NaN  \nCortegana                           85.726532   85.726532            NaN  \nLepe                                21.873063   72.910211            NaN  \nAljaraque                           14.111007   70.555033            NaN  \nPalma del Condado (La)              37.171267   55.756900            NaN  \nTrigueros                           38.895371   51.860495            NaN  \nBollullos Par del Condado           42.040359   49.047085            NaN  \nCondado-Campiña                     30.311434   48.369309            NaN  \nAlmonte                             33.070150   41.337688            NaN  \nHuelva                              21.537251   40.529190            NaN  \nPunta Umbría                        39.364913   39.364913            NaN  \nHuelva-Costa                        17.701265   35.055447            NaN  \nSierra de Huelva-Andévalo Central   13.319323   34.038271            NaN  \nValverde del Camino                 15.600624   31.201248            NaN  \nAyamonte                            14.322544   23.870906            NaN  \nMoguer                               9.054690   22.636726            NaN  \nHuelva (capital)                    11.833249   21.578277            NaN  \nGibraleón                            7.932101   15.864202            NaN  \nRociana del Condado                 12.730745   12.730745            NaN  ",
      "text/html": "<div>\n<style scoped>\n    .dataframe tbody tr th:only-of-type {\n        vertical-align: middle;\n    }\n\n    .dataframe tbody tr th {\n        vertical-align: top;\n    }\n\n    .dataframe thead th {\n        text-align: right;\n    }\n</style>\n<table border=\"1\" class=\"dataframe\">\n  <thead>\n    <tr style=\"text-align: right;\">\n      <th>Medida</th>\n      <th>Confirmados PCR</th>\n      <th>Confirmados PCR 7 días</th>\n      <th>Confirmados PCR 14 días</th>\n      <th>Población</th>\n      <th>tasa7</th>\n      <th>tasa14</th>\n      <th>Diferencia PCR</th>\n    </tr>\n    <tr>\n      <th>Lugar de residencia</th>\n      <th></th>\n      <th></th>\n      <th></th>\n      <th></th>\n      <th></th>\n      <th></th>\n      <th></th>\n    </tr>\n  </thead>\n  <tbody>\n    <tr>\n      <th>Villalba del Alcor</th>\n      <td>27.0</td>\n      <td>17.0</td>\n      <td>25.0</td>\n      <td>3338.0</td>\n      <td>509.286998</td>\n      <td>748.951468</td>\n      <td>NaN</td>\n    </tr>\n    <tr>\n      <th>Escacena del Campo</th>\n      <td>9.0</td>\n      <td>5.0</td>\n      <td>8.0</td>\n      <td>2284.0</td>\n      <td>218.914186</td>\n      <td>350.262697</td>\n      <td>NaN</td>\n    </tr>\n    <tr>\n      <th>Cabezas Rubias</th>\n      <td>2.0</td>\n      <td>1.0</td>\n      <td>2.0</td>\n      <td>730.0</td>\n      <td>136.986301</td>\n      <td>273.972603</td>\n      <td>NaN</td>\n    </tr>\n    <tr>\n      <th>Minas de Riotinto</th>\n      <td>14.0</td>\n      <td>2.0</td>\n      <td>10.0</td>\n      <td>3848.0</td>\n      <td>51.975052</td>\n      <td>259.875260</td>\n      <td>NaN</td>\n    </tr>\n    <tr>\n      <th>Zalamea la Real</th>\n      <td>14.0</td>\n      <td>1.0</td>\n      <td>3.0</td>\n      <td>3068.0</td>\n      <td>32.594524</td>\n      <td>97.783572</td>\n      <td>NaN</td>\n    </tr>\n    <tr>\n      <th>Isla Cristina</th>\n      <td>32.0</td>\n      <td>15.0</td>\n      <td>20.0</td>\n      <td>21264.0</td>\n      <td>70.541761</td>\n      <td>94.055681</td>\n      <td>NaN</td>\n    </tr>\n    <tr>\n      <th>Cortegana</th>\n      <td>8.0</td>\n      <td>4.0</td>\n      <td>4.0</td>\n      <td>4666.0</td>\n      <td>85.726532</td>\n      <td>85.726532</td>\n      <td>NaN</td>\n    </tr>\n    <tr>\n      <th>Lepe</th>\n      <td>55.0</td>\n      <td>6.0</td>\n      <td>20.0</td>\n      <td>27431.0</td>\n      <td>21.873063</td>\n      <td>72.910211</td>\n      <td>NaN</td>\n    </tr>\n    <tr>\n      <th>Aljaraque</th>\n      <td>46.0</td>\n      <td>3.0</td>\n      <td>15.0</td>\n      <td>21260.0</td>\n      <td>14.111007</td>\n      <td>70.555033</td>\n      <td>NaN</td>\n    </tr>\n    <tr>\n      <th>Palma del Condado (La)</th>\n      <td>24.0</td>\n      <td>4.0</td>\n      <td>6.0</td>\n      <td>10761.0</td>\n      <td>37.171267</td>\n      <td>55.756900</td>\n      <td>NaN</td>\n    </tr>\n    <tr>\n      <th>Trigueros</th>\n      <td>28.0</td>\n      <td>3.0</td>\n      <td>4.0</td>\n      <td>7713.0</td>\n      <td>38.895371</td>\n      <td>51.860495</td>\n      <td>NaN</td>\n    </tr>\n    <tr>\n      <th>Bollullos Par del Condado</th>\n      <td>18.0</td>\n      <td>6.0</td>\n      <td>7.0</td>\n      <td>14272.0</td>\n      <td>42.040359</td>\n      <td>49.047085</td>\n      <td>NaN</td>\n    </tr>\n    <tr>\n      <th>Condado-Campiña</th>\n      <td>238.0</td>\n      <td>47.0</td>\n      <td>75.0</td>\n      <td>155057.0</td>\n      <td>30.311434</td>\n      <td>48.369309</td>\n      <td>NaN</td>\n    </tr>\n    <tr>\n      <th>Almonte</th>\n      <td>41.0</td>\n      <td>8.0</td>\n      <td>10.0</td>\n      <td>24191.0</td>\n      <td>33.070150</td>\n      <td>41.337688</td>\n      <td>NaN</td>\n    </tr>\n    <tr>\n      <th>Huelva</th>\n      <td>811.0</td>\n      <td>110.0</td>\n      <td>207.0</td>\n      <td>510743.0</td>\n      <td>21.537251</td>\n      <td>40.529190</td>\n      <td>NaN</td>\n    </tr>\n    <tr>\n      <th>Punta Umbría</th>\n      <td>20.0</td>\n      <td>6.0</td>\n      <td>6.0</td>\n      <td>15242.0</td>\n      <td>39.364913</td>\n      <td>39.364913</td>\n      <td>NaN</td>\n    </tr>\n    <tr>\n      <th>Huelva-Costa</th>\n      <td>423.0</td>\n      <td>51.0</td>\n      <td>101.0</td>\n      <td>288115.0</td>\n      <td>17.701265</td>\n      <td>35.055447</td>\n      <td>NaN</td>\n    </tr>\n    <tr>\n      <th>Sierra de Huelva-Andévalo Central</th>\n      <td>139.0</td>\n      <td>9.0</td>\n      <td>23.0</td>\n      <td>67571.0</td>\n      <td>13.319323</td>\n      <td>34.038271</td>\n      <td>NaN</td>\n    </tr>\n    <tr>\n      <th>Valverde del Camino</th>\n      <td>23.0</td>\n      <td>2.0</td>\n      <td>4.0</td>\n      <td>12820.0</td>\n      <td>15.600624</td>\n      <td>31.201248</td>\n      <td>NaN</td>\n    </tr>\n    <tr>\n      <th>Ayamonte</th>\n      <td>15.0</td>\n      <td>3.0</td>\n      <td>5.0</td>\n      <td>20946.0</td>\n      <td>14.322544</td>\n      <td>23.870906</td>\n      <td>NaN</td>\n    </tr>\n    <tr>\n      <th>Moguer</th>\n      <td>23.0</td>\n      <td>2.0</td>\n      <td>5.0</td>\n      <td>22088.0</td>\n      <td>9.054690</td>\n      <td>22.636726</td>\n      <td>NaN</td>\n    </tr>\n    <tr>\n      <th>Huelva (capital)</th>\n      <td>220.0</td>\n      <td>17.0</td>\n      <td>31.0</td>\n      <td>143663.0</td>\n      <td>11.833249</td>\n      <td>21.578277</td>\n      <td>NaN</td>\n    </tr>\n    <tr>\n      <th>Gibraleón</th>\n      <td>12.0</td>\n      <td>1.0</td>\n      <td>2.0</td>\n      <td>12607.0</td>\n      <td>7.932101</td>\n      <td>15.864202</td>\n      <td>NaN</td>\n    </tr>\n    <tr>\n      <th>Rociana del Condado</th>\n      <td>4.0</td>\n      <td>1.0</td>\n      <td>1.0</td>\n      <td>7855.0</td>\n      <td>12.730745</td>\n      <td>12.730745</td>\n      <td>NaN</td>\n    </tr>\n  </tbody>\n</table>\n</div>"
     },
     "metadata": {},
     "execution_count": 15
    }
   ],
   "source": [
    "tabla.sort_values('tasa14', ascending=False)"
   ]
  },
  {
   "cell_type": "code",
   "execution_count": null,
   "metadata": {},
   "outputs": [],
   "source": []
  }
 ]
}