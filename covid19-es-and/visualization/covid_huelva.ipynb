{
 "metadata": {
  "language_info": {
   "codemirror_mode": {
    "name": "ipython",
    "version": 3
   },
   "file_extension": ".py",
   "mimetype": "text/x-python",
   "name": "python",
   "nbconvert_exporter": "python",
   "pygments_lexer": "ipython3",
   "version": "3.8.6"
  },
  "orig_nbformat": 2,
  "kernelspec": {
   "name": "python3",
   "display_name": "Python 3",
   "language": "python"
  }
 },
 "nbformat": 4,
 "nbformat_minor": 2,
 "cells": [
  {
   "cell_type": "code",
   "execution_count": 1,
   "metadata": {},
   "outputs": [],
   "source": [
    "import pandas as pd\n",
    "pd.set_option('display.max_rows', None) # Print all rows"
   ]
  },
  {
   "cell_type": "code",
   "execution_count": 2,
   "metadata": {},
   "outputs": [],
   "source": [
    "# FIX SSL: CERTIFICATE_VERIFY_FAILED with Python3\n",
    "# https://stackoverflow.com/a/49174340\n",
    "import ssl\n",
    "\n",
    "ssl._create_default_https_context = ssl._create_unverified_context"
   ]
  },
  {
   "cell_type": "code",
   "execution_count": 3,
   "metadata": {},
   "outputs": [],
   "source": [
    "url = 'https://www.juntadeandalucia.es/institutodeestadisticaycartografia/badea/stpivot/stpivot/Print?cube=013d884c-cfc5-4c21-9e78-e26225682afd&type=3&foto=si&ejecutaDesde=&codConsulta=38668&consTipoVisua=JP'\n",
    "fields = ['Lugar de residencia', 'Medida', 'Valor']\n",
    "df = pd.read_csv(url, delimiter=';', usecols=fields, decimal=',')"
   ]
  },
  {
   "cell_type": "code",
   "execution_count": 4,
   "metadata": {},
   "outputs": [
    {
     "output_type": "execute_result",
     "data": {
      "text/plain": [
       "  Lugar de residencia                    Medida             Valor\n",
       "0              Huelva                 Población            513170\n",
       "1              Huelva          Confirmados PDIA             29825\n",
       "2              Huelva  Confirmados PDIA 14 días              1202\n",
       "3              Huelva         Tasa PDIA 14 días  234,230372001481\n",
       "4              Huelva   Confirmados PDIA 7 días               632\n",
       "5              Huelva        Total Confirmados              30001\n",
       "6              Huelva                   Curados             26844\n",
       "7              Huelva                Fallecidos               375"
      ],
      "text/html": "<div>\n<style scoped>\n    .dataframe tbody tr th:only-of-type {\n        vertical-align: middle;\n    }\n\n    .dataframe tbody tr th {\n        vertical-align: top;\n    }\n\n    .dataframe thead th {\n        text-align: right;\n    }\n</style>\n<table border=\"1\" class=\"dataframe\">\n  <thead>\n    <tr style=\"text-align: right;\">\n      <th></th>\n      <th>Lugar de residencia</th>\n      <th>Medida</th>\n      <th>Valor</th>\n    </tr>\n  </thead>\n  <tbody>\n    <tr>\n      <th>0</th>\n      <td>Huelva</td>\n      <td>Población</td>\n      <td>513170</td>\n    </tr>\n    <tr>\n      <th>1</th>\n      <td>Huelva</td>\n      <td>Confirmados PDIA</td>\n      <td>29825</td>\n    </tr>\n    <tr>\n      <th>2</th>\n      <td>Huelva</td>\n      <td>Confirmados PDIA 14 días</td>\n      <td>1202</td>\n    </tr>\n    <tr>\n      <th>3</th>\n      <td>Huelva</td>\n      <td>Tasa PDIA 14 días</td>\n      <td>234,230372001481</td>\n    </tr>\n    <tr>\n      <th>4</th>\n      <td>Huelva</td>\n      <td>Confirmados PDIA 7 días</td>\n      <td>632</td>\n    </tr>\n    <tr>\n      <th>5</th>\n      <td>Huelva</td>\n      <td>Total Confirmados</td>\n      <td>30001</td>\n    </tr>\n    <tr>\n      <th>6</th>\n      <td>Huelva</td>\n      <td>Curados</td>\n      <td>26844</td>\n    </tr>\n    <tr>\n      <th>7</th>\n      <td>Huelva</td>\n      <td>Fallecidos</td>\n      <td>375</td>\n    </tr>\n  </tbody>\n</table>\n</div>"
     },
     "metadata": {},
     "execution_count": 4
    }
   ],
   "source": [
    "df[df['Lugar de residencia'] == 'Huelva']"
   ]
  },
  {
   "cell_type": "code",
   "execution_count": 5,
   "metadata": {},
   "outputs": [],
   "source": [
    "df['Valor'] = pd.to_numeric(df['Valor'],errors='coerce')"
   ]
  },
  {
   "cell_type": "code",
   "execution_count": 6,
   "metadata": {},
   "outputs": [],
   "source": [
    "dfAnterior = pd.read_csv('covid_huelva.csv', index_col='Lugar de residencia')"
   ]
  },
  {
   "cell_type": "code",
   "execution_count": 7,
   "metadata": {
    "tags": []
   },
   "outputs": [
    {
     "output_type": "stream",
     "name": "stdout",
     "text": [
      "Confirmados PCR en la provincia de Huelva:  29825.0\n",
      "<ipython-input-7-31b732756b19>:2: UserWarning: Boolean Series key will be reindexed to match DataFrame index.\n",
      "  p = df[df['Lugar de residencia'] == 'Huelva'][df['Medida'] == 'Confirmados PDIA']['Valor'].values[0]\n"
     ]
    }
   ],
   "source": [
    "# Confirmados PCR provincia Huelva\n",
    "p = df[df['Lugar de residencia'] == 'Huelva'][df['Medida'] == 'Confirmados PDIA']['Valor'].values[0]\n",
    "print('Confirmados PCR en la provincia de Huelva: ', p)"
   ]
  },
  {
   "cell_type": "code",
   "execution_count": 8,
   "metadata": {
    "tags": []
   },
   "outputs": [
    {
     "output_type": "stream",
     "name": "stdout",
     "text": [
      "Confirmados PCR en Huelva capital:  7801.0\n",
      "<ipython-input-8-e81bfb40e710>:2: UserWarning: Boolean Series key will be reindexed to match DataFrame index.\n",
      "  c = df[df['Lugar de residencia'] == 'Huelva (capital)'][df['Medida'] == 'Confirmados PDIA']['Valor'].values[0]\n"
     ]
    }
   ],
   "source": [
    "# Confirmados PCR Huelva capitalpd\n",
    "c = df[df['Lugar de residencia'] == 'Huelva (capital)'][df['Medida'] == 'Confirmados PDIA']['Valor'].values[0]\n",
    "print('Confirmados PCR en Huelva capital: ', c)"
   ]
  },
  {
   "cell_type": "code",
   "execution_count": 9,
   "metadata": {
    "tags": []
   },
   "outputs": [
    {
     "output_type": "stream",
     "name": "stderr",
     "text": [
      "<ipython-input-9-f09dd2050cc1>:1: UserWarning: Boolean Series key will be reindexed to match DataFrame index.\n  c7 = df[df['Lugar de residencia'] == 'Huelva (capital)'][df['Medida'] == 'Confirmados PDIA 7 días']['Valor'].values[0]\n<ipython-input-9-f09dd2050cc1>:2: UserWarning: Boolean Series key will be reindexed to match DataFrame index.\n  c14 = df[df['Lugar de residencia'] == 'Huelva (capital)'][df['Medida'] == 'Confirmados PDIA 14 días']['Valor'].values[0]\n<ipython-input-9-f09dd2050cc1>:3: UserWarning: Boolean Series key will be reindexed to match DataFrame index.\n  p = df[df['Lugar de residencia'] == 'Huelva (capital)'][df['Medida'] == 'Población']['Valor'].values[0]\n"
     ]
    }
   ],
   "source": [
    "c7 = df[df['Lugar de residencia'] == 'Huelva (capital)'][df['Medida'] == 'Confirmados PDIA 7 días']['Valor'].values[0]\n",
    "c14 = df[df['Lugar de residencia'] == 'Huelva (capital)'][df['Medida'] == 'Confirmados PDIA 14 días']['Valor'].values[0]\n",
    "p = df[df['Lugar de residencia'] == 'Huelva (capital)'][df['Medida'] == 'Población']['Valor'].values[0]"
   ]
  },
  {
   "cell_type": "code",
   "execution_count": 10,
   "metadata": {
    "tags": []
   },
   "outputs": [
    {
     "output_type": "stream",
     "name": "stdout",
     "text": [
      "Huelva (capital)\n\nUn positivo PCR cada 795 personas en los últimos 7 días \n\nUn positivo PCR cada 385 personas en los últimos 14 días\n"
     ]
    }
   ],
   "source": [
    "print('Huelva (capital)\\n')\n",
    "#print('Confirmados PCR 7 días x 1,000 habitantes: ', f\"{c7/(p/1000):.5f}\")\n",
    "print('Un positivo PCR cada', f\"{p/c7:.0f}\", 'personas en los últimos 7 días', '\\n')\n",
    "#print('Confirmados PCR 14 días x 1,000 habitantes: ', f\"{c14/(p/1000):.5f}\")\n",
    "print('Un positivo PCR cada', f\"{p/c14:.0f}\", 'personas en los últimos 14 días')"
   ]
  },
  {
   "cell_type": "code",
   "execution_count": 11,
   "metadata": {},
   "outputs": [],
   "source": [
    "filtro = ((df['Medida'] == 'Confirmados PDIA')| (df['Medida'] == 'Confirmados PDIA 7 días') | (df['Medida'] == 'Población' ) | (df['Medida'] == 'Confirmados PDIA 14 días')) & (df['Valor'] > 0)\n",
    "tabla = pd.pivot_table(df.loc[filtro], values='Valor', index='Lugar de residencia', columns='Medida').dropna()"
   ]
  },
  {
   "cell_type": "code",
   "execution_count": 12,
   "metadata": {},
   "outputs": [],
   "source": [
    "# Reorder columns\n",
    "tabla = tabla[['Confirmados PDIA', 'Confirmados PDIA 7 días', 'Confirmados PDIA 14 días', 'Población']]"
   ]
  },
  {
   "cell_type": "code",
   "execution_count": 13,
   "metadata": {},
   "outputs": [],
   "source": [
    "tabla['tasa7'] = tabla['Confirmados PDIA 7 días']/tabla['Población']*100000\n",
    "tabla['tasa14'] = tabla['Confirmados PDIA 14 días']/tabla['Población']*100000"
   ]
  },
  {
   "cell_type": "code",
   "execution_count": 14,
   "metadata": {},
   "outputs": [],
   "source": [
    "tabla['Diferencia PDIA'] = tabla['Confirmados PDIA'] - dfAnterior['Confirmados PDIA']"
   ]
  },
  {
   "cell_type": "code",
   "execution_count": 15,
   "metadata": {},
   "outputs": [
    {
     "output_type": "execute_result",
     "data": {
      "text/plain": [
       "Medida                             Confirmados PDIA  Confirmados PDIA 7 días  \\\n",
       "Lugar de residencia                                                            \n",
       "Huelva                                      29825.0                    632.0   \n",
       "Condado-Campiña                              9583.0                    305.0   \n",
       "Huelva-Costa                                17264.0                    275.0   \n",
       "Huelva (capital)                             7801.0                    181.0   \n",
       "Palma del Condado (La)                       1091.0                     43.0   \n",
       "Almonte                                      1686.0                     74.0   \n",
       "Moguer                                       1181.0                     56.0   \n",
       "Bollullos Par del Condado                     923.0                     47.0   \n",
       "Isla Cristina                                2120.0                     24.0   \n",
       "Cartaya                                      1300.0                     10.0   \n",
       "Sierra de Huelva-Andévalo Central            2637.0                     52.0   \n",
       "Punta Umbría                                  765.0                     29.0   \n",
       "Valverde del Camino                           514.0                     27.0   \n",
       "Trigueros                                     282.0                      9.0   \n",
       "Palos de la Frontera                          608.0                      7.0   \n",
       "Gibraleón                                     603.0                      8.0   \n",
       "San Bartolomé de la Torre                     288.0                      5.0   \n",
       "Lucena del Puerto                             241.0                      7.0   \n",
       "Niebla                                        208.0                      7.0   \n",
       "Lepe                                         2103.0                     14.0   \n",
       "Villalba del Alcor                            480.0                      8.0   \n",
       "Alájar                                         17.0                      1.0   \n",
       "Ayamonte                                     1298.0                      2.0   \n",
       "Paterna del Campo                             126.0                      1.0   \n",
       "Zarza-Perrunal (La)                            23.0                      1.0   \n",
       "\n",
       "Medida                             Confirmados PDIA 14 días  Población  \\\n",
       "Lugar de residencia                                                      \n",
       "Huelva                                               1202.0   513170.0   \n",
       "Condado-Campiña                                       541.0   156231.0   \n",
       "Huelva-Costa                                          573.0   289548.0   \n",
       "Huelva (capital)                                      374.0   143837.0   \n",
       "Palma del Condado (La)                                 53.0    10801.0   \n",
       "Almonte                                               151.0    24507.0   \n",
       "Moguer                                                 76.0    21867.0   \n",
       "Bollullos Par del Condado                              98.0    14387.0   \n",
       "Isla Cristina                                          56.0    21393.0   \n",
       "Cartaya                                                29.0    20083.0   \n",
       "Sierra de Huelva-Andévalo Central                      87.0    67391.0   \n",
       "Punta Umbría                                           52.0    15355.0   \n",
       "Valverde del Camino                                    39.0    12750.0   \n",
       "Trigueros                                              15.0     7862.0   \n",
       "Palos de la Frontera                                   23.0    11742.0   \n",
       "Gibraleón                                              16.0    12737.0   \n",
       "San Bartolomé de la Torre                               6.0     3761.0   \n",
       "Lucena del Puerto                                       8.0     3261.0   \n",
       "Niebla                                                 13.0     4116.0   \n",
       "Lepe                                                   21.0    27880.0   \n",
       "Villalba del Alcor                                      9.0     3366.0   \n",
       "Alájar                                                  1.0      759.0   \n",
       "Ayamonte                                               12.0    21104.0   \n",
       "Paterna del Campo                                       2.0     3457.0   \n",
       "Zarza-Perrunal (La)                                     1.0     1253.0   \n",
       "\n",
       "Medida                                  tasa7      tasa14  Diferencia PDIA  \n",
       "Lugar de residencia                                                         \n",
       "Huelva                             123.156069  234.230372            132.0  \n",
       "Condado-Campiña                    195.223739  346.282108             65.0  \n",
       "Huelva-Costa                        94.975617  197.894650             62.0  \n",
       "Huelva (capital)                   125.836885  260.016547             40.0  \n",
       "Palma del Condado (La)             398.111286  490.695306             15.0  \n",
       "Almonte                            301.954544  616.150488             14.0  \n",
       "Moguer                             256.093657  347.555678             12.0  \n",
       "Bollullos Par del Condado          326.683812  681.170501             10.0  \n",
       "Isla Cristina                      112.186229  261.767868              8.0  \n",
       "Cartaya                             49.793358  144.400737              6.0  \n",
       "Sierra de Huelva-Andévalo Central   77.161639  129.097357              5.0  \n",
       "Punta Umbría                       188.863562  338.651905              5.0  \n",
       "Valverde del Camino                211.764706  305.882353              3.0  \n",
       "Trigueros                          114.474688  190.791147              3.0  \n",
       "Palos de la Frontera                59.615057  195.878045              3.0  \n",
       "Gibraleón                           62.809139  125.618277              2.0  \n",
       "San Bartolomé de la Torre          132.943366  159.532039              2.0  \n",
       "Lucena del Puerto                  214.658080  245.323520              1.0  \n",
       "Niebla                             170.068027  315.840622              1.0  \n",
       "Lepe                                50.215208   75.322812              1.0  \n",
       "Villalba del Alcor                 237.670826  267.379679              1.0  \n",
       "Alájar                             131.752306  131.752306              NaN  \n",
       "Ayamonte                             9.476876   56.861259              NaN  \n",
       "Paterna del Campo                   28.926815   57.853630              NaN  \n",
       "Zarza-Perrunal (La)                 79.808460   79.808460              NaN  "
      ],
      "text/html": "<div>\n<style scoped>\n    .dataframe tbody tr th:only-of-type {\n        vertical-align: middle;\n    }\n\n    .dataframe tbody tr th {\n        vertical-align: top;\n    }\n\n    .dataframe thead th {\n        text-align: right;\n    }\n</style>\n<table border=\"1\" class=\"dataframe\">\n  <thead>\n    <tr style=\"text-align: right;\">\n      <th>Medida</th>\n      <th>Confirmados PDIA</th>\n      <th>Confirmados PDIA 7 días</th>\n      <th>Confirmados PDIA 14 días</th>\n      <th>Población</th>\n      <th>tasa7</th>\n      <th>tasa14</th>\n      <th>Diferencia PDIA</th>\n    </tr>\n    <tr>\n      <th>Lugar de residencia</th>\n      <th></th>\n      <th></th>\n      <th></th>\n      <th></th>\n      <th></th>\n      <th></th>\n      <th></th>\n    </tr>\n  </thead>\n  <tbody>\n    <tr>\n      <th>Huelva</th>\n      <td>29825.0</td>\n      <td>632.0</td>\n      <td>1202.0</td>\n      <td>513170.0</td>\n      <td>123.156069</td>\n      <td>234.230372</td>\n      <td>132.0</td>\n    </tr>\n    <tr>\n      <th>Condado-Campiña</th>\n      <td>9583.0</td>\n      <td>305.0</td>\n      <td>541.0</td>\n      <td>156231.0</td>\n      <td>195.223739</td>\n      <td>346.282108</td>\n      <td>65.0</td>\n    </tr>\n    <tr>\n      <th>Huelva-Costa</th>\n      <td>17264.0</td>\n      <td>275.0</td>\n      <td>573.0</td>\n      <td>289548.0</td>\n      <td>94.975617</td>\n      <td>197.894650</td>\n      <td>62.0</td>\n    </tr>\n    <tr>\n      <th>Huelva (capital)</th>\n      <td>7801.0</td>\n      <td>181.0</td>\n      <td>374.0</td>\n      <td>143837.0</td>\n      <td>125.836885</td>\n      <td>260.016547</td>\n      <td>40.0</td>\n    </tr>\n    <tr>\n      <th>Palma del Condado (La)</th>\n      <td>1091.0</td>\n      <td>43.0</td>\n      <td>53.0</td>\n      <td>10801.0</td>\n      <td>398.111286</td>\n      <td>490.695306</td>\n      <td>15.0</td>\n    </tr>\n    <tr>\n      <th>Almonte</th>\n      <td>1686.0</td>\n      <td>74.0</td>\n      <td>151.0</td>\n      <td>24507.0</td>\n      <td>301.954544</td>\n      <td>616.150488</td>\n      <td>14.0</td>\n    </tr>\n    <tr>\n      <th>Moguer</th>\n      <td>1181.0</td>\n      <td>56.0</td>\n      <td>76.0</td>\n      <td>21867.0</td>\n      <td>256.093657</td>\n      <td>347.555678</td>\n      <td>12.0</td>\n    </tr>\n    <tr>\n      <th>Bollullos Par del Condado</th>\n      <td>923.0</td>\n      <td>47.0</td>\n      <td>98.0</td>\n      <td>14387.0</td>\n      <td>326.683812</td>\n      <td>681.170501</td>\n      <td>10.0</td>\n    </tr>\n    <tr>\n      <th>Isla Cristina</th>\n      <td>2120.0</td>\n      <td>24.0</td>\n      <td>56.0</td>\n      <td>21393.0</td>\n      <td>112.186229</td>\n      <td>261.767868</td>\n      <td>8.0</td>\n    </tr>\n    <tr>\n      <th>Cartaya</th>\n      <td>1300.0</td>\n      <td>10.0</td>\n      <td>29.0</td>\n      <td>20083.0</td>\n      <td>49.793358</td>\n      <td>144.400737</td>\n      <td>6.0</td>\n    </tr>\n    <tr>\n      <th>Sierra de Huelva-Andévalo Central</th>\n      <td>2637.0</td>\n      <td>52.0</td>\n      <td>87.0</td>\n      <td>67391.0</td>\n      <td>77.161639</td>\n      <td>129.097357</td>\n      <td>5.0</td>\n    </tr>\n    <tr>\n      <th>Punta Umbría</th>\n      <td>765.0</td>\n      <td>29.0</td>\n      <td>52.0</td>\n      <td>15355.0</td>\n      <td>188.863562</td>\n      <td>338.651905</td>\n      <td>5.0</td>\n    </tr>\n    <tr>\n      <th>Valverde del Camino</th>\n      <td>514.0</td>\n      <td>27.0</td>\n      <td>39.0</td>\n      <td>12750.0</td>\n      <td>211.764706</td>\n      <td>305.882353</td>\n      <td>3.0</td>\n    </tr>\n    <tr>\n      <th>Trigueros</th>\n      <td>282.0</td>\n      <td>9.0</td>\n      <td>15.0</td>\n      <td>7862.0</td>\n      <td>114.474688</td>\n      <td>190.791147</td>\n      <td>3.0</td>\n    </tr>\n    <tr>\n      <th>Palos de la Frontera</th>\n      <td>608.0</td>\n      <td>7.0</td>\n      <td>23.0</td>\n      <td>11742.0</td>\n      <td>59.615057</td>\n      <td>195.878045</td>\n      <td>3.0</td>\n    </tr>\n    <tr>\n      <th>Gibraleón</th>\n      <td>603.0</td>\n      <td>8.0</td>\n      <td>16.0</td>\n      <td>12737.0</td>\n      <td>62.809139</td>\n      <td>125.618277</td>\n      <td>2.0</td>\n    </tr>\n    <tr>\n      <th>San Bartolomé de la Torre</th>\n      <td>288.0</td>\n      <td>5.0</td>\n      <td>6.0</td>\n      <td>3761.0</td>\n      <td>132.943366</td>\n      <td>159.532039</td>\n      <td>2.0</td>\n    </tr>\n    <tr>\n      <th>Lucena del Puerto</th>\n      <td>241.0</td>\n      <td>7.0</td>\n      <td>8.0</td>\n      <td>3261.0</td>\n      <td>214.658080</td>\n      <td>245.323520</td>\n      <td>1.0</td>\n    </tr>\n    <tr>\n      <th>Niebla</th>\n      <td>208.0</td>\n      <td>7.0</td>\n      <td>13.0</td>\n      <td>4116.0</td>\n      <td>170.068027</td>\n      <td>315.840622</td>\n      <td>1.0</td>\n    </tr>\n    <tr>\n      <th>Lepe</th>\n      <td>2103.0</td>\n      <td>14.0</td>\n      <td>21.0</td>\n      <td>27880.0</td>\n      <td>50.215208</td>\n      <td>75.322812</td>\n      <td>1.0</td>\n    </tr>\n    <tr>\n      <th>Villalba del Alcor</th>\n      <td>480.0</td>\n      <td>8.0</td>\n      <td>9.0</td>\n      <td>3366.0</td>\n      <td>237.670826</td>\n      <td>267.379679</td>\n      <td>1.0</td>\n    </tr>\n    <tr>\n      <th>Alájar</th>\n      <td>17.0</td>\n      <td>1.0</td>\n      <td>1.0</td>\n      <td>759.0</td>\n      <td>131.752306</td>\n      <td>131.752306</td>\n      <td>NaN</td>\n    </tr>\n    <tr>\n      <th>Ayamonte</th>\n      <td>1298.0</td>\n      <td>2.0</td>\n      <td>12.0</td>\n      <td>21104.0</td>\n      <td>9.476876</td>\n      <td>56.861259</td>\n      <td>NaN</td>\n    </tr>\n    <tr>\n      <th>Paterna del Campo</th>\n      <td>126.0</td>\n      <td>1.0</td>\n      <td>2.0</td>\n      <td>3457.0</td>\n      <td>28.926815</td>\n      <td>57.853630</td>\n      <td>NaN</td>\n    </tr>\n    <tr>\n      <th>Zarza-Perrunal (La)</th>\n      <td>23.0</td>\n      <td>1.0</td>\n      <td>1.0</td>\n      <td>1253.0</td>\n      <td>79.808460</td>\n      <td>79.808460</td>\n      <td>NaN</td>\n    </tr>\n  </tbody>\n</table>\n</div>"
     },
     "metadata": {},
     "execution_count": 15
    }
   ],
   "source": [
    "# Nuevos casos desde la última captura\n",
    "tabla[tabla['Diferencia PDIA'] != 0].sort_values('Diferencia PDIA', ascending=False)"
   ]
  },
  {
   "cell_type": "code",
   "execution_count": 16,
   "metadata": {},
   "outputs": [],
   "source": [
    "if tabla[tabla['Diferencia PDIA'] != 0]['Diferencia PDIA'].sum() != 0:\n",
    "  # Save to csv\n",
    "  tabla.to_csv('covid_huelva.csv', encoding='utf-8', header=True, index=True)  "
   ]
  },
  {
   "cell_type": "code",
   "execution_count": 17,
   "metadata": {},
   "outputs": [
    {
     "output_type": "execute_result",
     "data": {
      "text/plain": [
       "Medida                             Confirmados PDIA  Confirmados PDIA 7 días  \\\n",
       "Lugar de residencia                                                            \n",
       "Galaroza                                       41.0                      6.0   \n",
       "Bollullos Par del Condado                     923.0                     47.0   \n",
       "Almonte                                      1686.0                     74.0   \n",
       "Palma del Condado (La)                       1091.0                     43.0   \n",
       "Escacena del Campo                            154.0                      4.0   \n",
       "Moguer                                       1181.0                     56.0   \n",
       "Condado-Campiña                              9583.0                    305.0   \n",
       "Punta Umbría                                  765.0                     29.0   \n",
       "Niebla                                        208.0                      7.0   \n",
       "Valverde del Camino                           514.0                     27.0   \n",
       "Nerva                                         169.0                      7.0   \n",
       "Villarrasa                                    153.0                      5.0   \n",
       "Villalba del Alcor                            480.0                      8.0   \n",
       "Isla Cristina                                2120.0                     24.0   \n",
       "Huelva (capital)                             7801.0                    181.0   \n",
       "Lucena del Puerto                             241.0                      7.0   \n",
       "Rociana del Condado                           534.0                      5.0   \n",
       "Huelva                                      29825.0                    632.0   \n",
       "San Juan del Puerto                           471.0                     12.0   \n",
       "Huelva-Costa                                17264.0                    275.0   \n",
       "Palos de la Frontera                          608.0                      7.0   \n",
       "Trigueros                                     282.0                      9.0   \n",
       "Manzanilla                                     89.0                      3.0   \n",
       "Villablanca                                   185.0                      1.0   \n",
       "San Bartolomé de la Torre                     288.0                      5.0   \n",
       "Cartaya                                      1300.0                     10.0   \n",
       "Alájar                                         17.0                      1.0   \n",
       "Sierra de Huelva-Andévalo Central            2637.0                     52.0   \n",
       "Gibraleón                                     603.0                      8.0   \n",
       "Beas                                          204.0                      2.0   \n",
       "Calañas                                       177.0                      3.0   \n",
       "Aljaraque                                    1026.0                     13.0   \n",
       "Bonares                                       261.0                      2.0   \n",
       "Cerro de Andévalo (El)                        138.0                      2.0   \n",
       "Zarza-Perrunal (La)                            23.0                      1.0   \n",
       "Minas de Riotinto                             117.0                      2.0   \n",
       "Lepe                                         2103.0                     14.0   \n",
       "Paterna del Campo                             126.0                      1.0   \n",
       "Cumbres Mayores                                50.0                      1.0   \n",
       "Ayamonte                                     1298.0                      2.0   \n",
       "Zalamea la Real                                87.0                      1.0   \n",
       "Alosno                                        163.0                      1.0   \n",
       "Aracena                                       514.0                      1.0   \n",
       "\n",
       "Medida                             Confirmados PDIA 14 días  Población  \\\n",
       "Lugar de residencia                                                      \n",
       "Galaroza                                               14.0     1382.0   \n",
       "Bollullos Par del Condado                              98.0    14387.0   \n",
       "Almonte                                               151.0    24507.0   \n",
       "Palma del Condado (La)                                 53.0    10801.0   \n",
       "Escacena del Campo                                     10.0     2287.0   \n",
       "Moguer                                                 76.0    21867.0   \n",
       "Condado-Campiña                                       541.0   156231.0   \n",
       "Punta Umbría                                           52.0    15355.0   \n",
       "Niebla                                                 13.0     4116.0   \n",
       "Valverde del Camino                                    39.0    12750.0   \n",
       "Nerva                                                  15.0     5169.0   \n",
       "Villarrasa                                              6.0     2211.0   \n",
       "Villalba del Alcor                                      9.0     3366.0   \n",
       "Isla Cristina                                          56.0    21393.0   \n",
       "Huelva (capital)                                      374.0   143837.0   \n",
       "Lucena del Puerto                                       8.0     3261.0   \n",
       "Rociana del Condado                                    19.0     7939.0   \n",
       "Huelva                                               1202.0   513170.0   \n",
       "San Juan del Puerto                                    21.0     9411.0   \n",
       "Huelva-Costa                                          573.0   289548.0   \n",
       "Palos de la Frontera                                   23.0    11742.0   \n",
       "Trigueros                                              15.0     7862.0   \n",
       "Manzanilla                                              4.0     2118.0   \n",
       "Villablanca                                             5.0     2885.0   \n",
       "San Bartolomé de la Torre                               6.0     3761.0   \n",
       "Cartaya                                                29.0    20083.0   \n",
       "Alájar                                                  1.0      759.0   \n",
       "Sierra de Huelva-Andévalo Central                      87.0    67391.0   \n",
       "Gibraleón                                              16.0    12737.0   \n",
       "Beas                                                    5.0     4341.0   \n",
       "Calañas                                                 3.0     2768.0   \n",
       "Aljaraque                                              22.0    21474.0   \n",
       "Bonares                                                 6.0     6060.0   \n",
       "Cerro de Andévalo (El)                                  2.0     2327.0   \n",
       "Zarza-Perrunal (La)                                     1.0     1253.0   \n",
       "Minas de Riotinto                                       3.0     3812.0   \n",
       "Lepe                                                   21.0    27880.0   \n",
       "Paterna del Campo                                       2.0     3457.0   \n",
       "Cumbres Mayores                                         1.0     1749.0   \n",
       "Ayamonte                                               12.0    21104.0   \n",
       "Zalamea la Real                                         1.0     3054.0   \n",
       "Alosno                                                  1.0     3933.0   \n",
       "Aracena                                                 2.0     8255.0   \n",
       "\n",
       "Medida                                  tasa7       tasa14  Diferencia PDIA  \n",
       "Lugar de residencia                                                          \n",
       "Galaroza                           434.153401  1013.024602              0.0  \n",
       "Bollullos Par del Condado          326.683812   681.170501             10.0  \n",
       "Almonte                            301.954544   616.150488             14.0  \n",
       "Palma del Condado (La)             398.111286   490.695306             15.0  \n",
       "Escacena del Campo                 174.901618   437.254045              0.0  \n",
       "Moguer                             256.093657   347.555678             12.0  \n",
       "Condado-Campiña                    195.223739   346.282108             65.0  \n",
       "Punta Umbría                       188.863562   338.651905              5.0  \n",
       "Niebla                             170.068027   315.840622              1.0  \n",
       "Valverde del Camino                211.764706   305.882353              3.0  \n",
       "Nerva                              135.422712   290.191526              0.0  \n",
       "Villarrasa                         226.142017   271.370421              0.0  \n",
       "Villalba del Alcor                 237.670826   267.379679              1.0  \n",
       "Isla Cristina                      112.186229   261.767868              8.0  \n",
       "Huelva (capital)                   125.836885   260.016547             40.0  \n",
       "Lucena del Puerto                  214.658080   245.323520              1.0  \n",
       "Rociana del Condado                 62.980224   239.324852              0.0  \n",
       "Huelva                             123.156069   234.230372            132.0  \n",
       "San Juan del Puerto                127.510360   223.143130              0.0  \n",
       "Huelva-Costa                        94.975617   197.894650             62.0  \n",
       "Palos de la Frontera                59.615057   195.878045              3.0  \n",
       "Trigueros                          114.474688   190.791147              3.0  \n",
       "Manzanilla                         141.643059   188.857413              0.0  \n",
       "Villablanca                         34.662045   173.310225              0.0  \n",
       "San Bartolomé de la Torre          132.943366   159.532039              2.0  \n",
       "Cartaya                             49.793358   144.400737              6.0  \n",
       "Alájar                             131.752306   131.752306              NaN  \n",
       "Sierra de Huelva-Andévalo Central   77.161639   129.097357              5.0  \n",
       "Gibraleón                           62.809139   125.618277              2.0  \n",
       "Beas                                46.072334   115.180834              0.0  \n",
       "Calañas                            108.381503   108.381503              0.0  \n",
       "Aljaraque                           60.538325   102.449474              0.0  \n",
       "Bonares                             33.003300    99.009901              0.0  \n",
       "Cerro de Andévalo (El)              85.947572    85.947572              0.0  \n",
       "Zarza-Perrunal (La)                 79.808460    79.808460              NaN  \n",
       "Minas de Riotinto                   52.465897    78.698846              0.0  \n",
       "Lepe                                50.215208    75.322812              1.0  \n",
       "Paterna del Campo                   28.926815    57.853630              NaN  \n",
       "Cumbres Mayores                     57.175529    57.175529              0.0  \n",
       "Ayamonte                             9.476876    56.861259              NaN  \n",
       "Zalamea la Real                     32.743942    32.743942              0.0  \n",
       "Alosno                              25.425884    25.425884              0.0  \n",
       "Aracena                             12.113870    24.227741              0.0  "
      ],
      "text/html": "<div>\n<style scoped>\n    .dataframe tbody tr th:only-of-type {\n        vertical-align: middle;\n    }\n\n    .dataframe tbody tr th {\n        vertical-align: top;\n    }\n\n    .dataframe thead th {\n        text-align: right;\n    }\n</style>\n<table border=\"1\" class=\"dataframe\">\n  <thead>\n    <tr style=\"text-align: right;\">\n      <th>Medida</th>\n      <th>Confirmados PDIA</th>\n      <th>Confirmados PDIA 7 días</th>\n      <th>Confirmados PDIA 14 días</th>\n      <th>Población</th>\n      <th>tasa7</th>\n      <th>tasa14</th>\n      <th>Diferencia PDIA</th>\n    </tr>\n    <tr>\n      <th>Lugar de residencia</th>\n      <th></th>\n      <th></th>\n      <th></th>\n      <th></th>\n      <th></th>\n      <th></th>\n      <th></th>\n    </tr>\n  </thead>\n  <tbody>\n    <tr>\n      <th>Galaroza</th>\n      <td>41.0</td>\n      <td>6.0</td>\n      <td>14.0</td>\n      <td>1382.0</td>\n      <td>434.153401</td>\n      <td>1013.024602</td>\n      <td>0.0</td>\n    </tr>\n    <tr>\n      <th>Bollullos Par del Condado</th>\n      <td>923.0</td>\n      <td>47.0</td>\n      <td>98.0</td>\n      <td>14387.0</td>\n      <td>326.683812</td>\n      <td>681.170501</td>\n      <td>10.0</td>\n    </tr>\n    <tr>\n      <th>Almonte</th>\n      <td>1686.0</td>\n      <td>74.0</td>\n      <td>151.0</td>\n      <td>24507.0</td>\n      <td>301.954544</td>\n      <td>616.150488</td>\n      <td>14.0</td>\n    </tr>\n    <tr>\n      <th>Palma del Condado (La)</th>\n      <td>1091.0</td>\n      <td>43.0</td>\n      <td>53.0</td>\n      <td>10801.0</td>\n      <td>398.111286</td>\n      <td>490.695306</td>\n      <td>15.0</td>\n    </tr>\n    <tr>\n      <th>Escacena del Campo</th>\n      <td>154.0</td>\n      <td>4.0</td>\n      <td>10.0</td>\n      <td>2287.0</td>\n      <td>174.901618</td>\n      <td>437.254045</td>\n      <td>0.0</td>\n    </tr>\n    <tr>\n      <th>Moguer</th>\n      <td>1181.0</td>\n      <td>56.0</td>\n      <td>76.0</td>\n      <td>21867.0</td>\n      <td>256.093657</td>\n      <td>347.555678</td>\n      <td>12.0</td>\n    </tr>\n    <tr>\n      <th>Condado-Campiña</th>\n      <td>9583.0</td>\n      <td>305.0</td>\n      <td>541.0</td>\n      <td>156231.0</td>\n      <td>195.223739</td>\n      <td>346.282108</td>\n      <td>65.0</td>\n    </tr>\n    <tr>\n      <th>Punta Umbría</th>\n      <td>765.0</td>\n      <td>29.0</td>\n      <td>52.0</td>\n      <td>15355.0</td>\n      <td>188.863562</td>\n      <td>338.651905</td>\n      <td>5.0</td>\n    </tr>\n    <tr>\n      <th>Niebla</th>\n      <td>208.0</td>\n      <td>7.0</td>\n      <td>13.0</td>\n      <td>4116.0</td>\n      <td>170.068027</td>\n      <td>315.840622</td>\n      <td>1.0</td>\n    </tr>\n    <tr>\n      <th>Valverde del Camino</th>\n      <td>514.0</td>\n      <td>27.0</td>\n      <td>39.0</td>\n      <td>12750.0</td>\n      <td>211.764706</td>\n      <td>305.882353</td>\n      <td>3.0</td>\n    </tr>\n    <tr>\n      <th>Nerva</th>\n      <td>169.0</td>\n      <td>7.0</td>\n      <td>15.0</td>\n      <td>5169.0</td>\n      <td>135.422712</td>\n      <td>290.191526</td>\n      <td>0.0</td>\n    </tr>\n    <tr>\n      <th>Villarrasa</th>\n      <td>153.0</td>\n      <td>5.0</td>\n      <td>6.0</td>\n      <td>2211.0</td>\n      <td>226.142017</td>\n      <td>271.370421</td>\n      <td>0.0</td>\n    </tr>\n    <tr>\n      <th>Villalba del Alcor</th>\n      <td>480.0</td>\n      <td>8.0</td>\n      <td>9.0</td>\n      <td>3366.0</td>\n      <td>237.670826</td>\n      <td>267.379679</td>\n      <td>1.0</td>\n    </tr>\n    <tr>\n      <th>Isla Cristina</th>\n      <td>2120.0</td>\n      <td>24.0</td>\n      <td>56.0</td>\n      <td>21393.0</td>\n      <td>112.186229</td>\n      <td>261.767868</td>\n      <td>8.0</td>\n    </tr>\n    <tr>\n      <th>Huelva (capital)</th>\n      <td>7801.0</td>\n      <td>181.0</td>\n      <td>374.0</td>\n      <td>143837.0</td>\n      <td>125.836885</td>\n      <td>260.016547</td>\n      <td>40.0</td>\n    </tr>\n    <tr>\n      <th>Lucena del Puerto</th>\n      <td>241.0</td>\n      <td>7.0</td>\n      <td>8.0</td>\n      <td>3261.0</td>\n      <td>214.658080</td>\n      <td>245.323520</td>\n      <td>1.0</td>\n    </tr>\n    <tr>\n      <th>Rociana del Condado</th>\n      <td>534.0</td>\n      <td>5.0</td>\n      <td>19.0</td>\n      <td>7939.0</td>\n      <td>62.980224</td>\n      <td>239.324852</td>\n      <td>0.0</td>\n    </tr>\n    <tr>\n      <th>Huelva</th>\n      <td>29825.0</td>\n      <td>632.0</td>\n      <td>1202.0</td>\n      <td>513170.0</td>\n      <td>123.156069</td>\n      <td>234.230372</td>\n      <td>132.0</td>\n    </tr>\n    <tr>\n      <th>San Juan del Puerto</th>\n      <td>471.0</td>\n      <td>12.0</td>\n      <td>21.0</td>\n      <td>9411.0</td>\n      <td>127.510360</td>\n      <td>223.143130</td>\n      <td>0.0</td>\n    </tr>\n    <tr>\n      <th>Huelva-Costa</th>\n      <td>17264.0</td>\n      <td>275.0</td>\n      <td>573.0</td>\n      <td>289548.0</td>\n      <td>94.975617</td>\n      <td>197.894650</td>\n      <td>62.0</td>\n    </tr>\n    <tr>\n      <th>Palos de la Frontera</th>\n      <td>608.0</td>\n      <td>7.0</td>\n      <td>23.0</td>\n      <td>11742.0</td>\n      <td>59.615057</td>\n      <td>195.878045</td>\n      <td>3.0</td>\n    </tr>\n    <tr>\n      <th>Trigueros</th>\n      <td>282.0</td>\n      <td>9.0</td>\n      <td>15.0</td>\n      <td>7862.0</td>\n      <td>114.474688</td>\n      <td>190.791147</td>\n      <td>3.0</td>\n    </tr>\n    <tr>\n      <th>Manzanilla</th>\n      <td>89.0</td>\n      <td>3.0</td>\n      <td>4.0</td>\n      <td>2118.0</td>\n      <td>141.643059</td>\n      <td>188.857413</td>\n      <td>0.0</td>\n    </tr>\n    <tr>\n      <th>Villablanca</th>\n      <td>185.0</td>\n      <td>1.0</td>\n      <td>5.0</td>\n      <td>2885.0</td>\n      <td>34.662045</td>\n      <td>173.310225</td>\n      <td>0.0</td>\n    </tr>\n    <tr>\n      <th>San Bartolomé de la Torre</th>\n      <td>288.0</td>\n      <td>5.0</td>\n      <td>6.0</td>\n      <td>3761.0</td>\n      <td>132.943366</td>\n      <td>159.532039</td>\n      <td>2.0</td>\n    </tr>\n    <tr>\n      <th>Cartaya</th>\n      <td>1300.0</td>\n      <td>10.0</td>\n      <td>29.0</td>\n      <td>20083.0</td>\n      <td>49.793358</td>\n      <td>144.400737</td>\n      <td>6.0</td>\n    </tr>\n    <tr>\n      <th>Alájar</th>\n      <td>17.0</td>\n      <td>1.0</td>\n      <td>1.0</td>\n      <td>759.0</td>\n      <td>131.752306</td>\n      <td>131.752306</td>\n      <td>NaN</td>\n    </tr>\n    <tr>\n      <th>Sierra de Huelva-Andévalo Central</th>\n      <td>2637.0</td>\n      <td>52.0</td>\n      <td>87.0</td>\n      <td>67391.0</td>\n      <td>77.161639</td>\n      <td>129.097357</td>\n      <td>5.0</td>\n    </tr>\n    <tr>\n      <th>Gibraleón</th>\n      <td>603.0</td>\n      <td>8.0</td>\n      <td>16.0</td>\n      <td>12737.0</td>\n      <td>62.809139</td>\n      <td>125.618277</td>\n      <td>2.0</td>\n    </tr>\n    <tr>\n      <th>Beas</th>\n      <td>204.0</td>\n      <td>2.0</td>\n      <td>5.0</td>\n      <td>4341.0</td>\n      <td>46.072334</td>\n      <td>115.180834</td>\n      <td>0.0</td>\n    </tr>\n    <tr>\n      <th>Calañas</th>\n      <td>177.0</td>\n      <td>3.0</td>\n      <td>3.0</td>\n      <td>2768.0</td>\n      <td>108.381503</td>\n      <td>108.381503</td>\n      <td>0.0</td>\n    </tr>\n    <tr>\n      <th>Aljaraque</th>\n      <td>1026.0</td>\n      <td>13.0</td>\n      <td>22.0</td>\n      <td>21474.0</td>\n      <td>60.538325</td>\n      <td>102.449474</td>\n      <td>0.0</td>\n    </tr>\n    <tr>\n      <th>Bonares</th>\n      <td>261.0</td>\n      <td>2.0</td>\n      <td>6.0</td>\n      <td>6060.0</td>\n      <td>33.003300</td>\n      <td>99.009901</td>\n      <td>0.0</td>\n    </tr>\n    <tr>\n      <th>Cerro de Andévalo (El)</th>\n      <td>138.0</td>\n      <td>2.0</td>\n      <td>2.0</td>\n      <td>2327.0</td>\n      <td>85.947572</td>\n      <td>85.947572</td>\n      <td>0.0</td>\n    </tr>\n    <tr>\n      <th>Zarza-Perrunal (La)</th>\n      <td>23.0</td>\n      <td>1.0</td>\n      <td>1.0</td>\n      <td>1253.0</td>\n      <td>79.808460</td>\n      <td>79.808460</td>\n      <td>NaN</td>\n    </tr>\n    <tr>\n      <th>Minas de Riotinto</th>\n      <td>117.0</td>\n      <td>2.0</td>\n      <td>3.0</td>\n      <td>3812.0</td>\n      <td>52.465897</td>\n      <td>78.698846</td>\n      <td>0.0</td>\n    </tr>\n    <tr>\n      <th>Lepe</th>\n      <td>2103.0</td>\n      <td>14.0</td>\n      <td>21.0</td>\n      <td>27880.0</td>\n      <td>50.215208</td>\n      <td>75.322812</td>\n      <td>1.0</td>\n    </tr>\n    <tr>\n      <th>Paterna del Campo</th>\n      <td>126.0</td>\n      <td>1.0</td>\n      <td>2.0</td>\n      <td>3457.0</td>\n      <td>28.926815</td>\n      <td>57.853630</td>\n      <td>NaN</td>\n    </tr>\n    <tr>\n      <th>Cumbres Mayores</th>\n      <td>50.0</td>\n      <td>1.0</td>\n      <td>1.0</td>\n      <td>1749.0</td>\n      <td>57.175529</td>\n      <td>57.175529</td>\n      <td>0.0</td>\n    </tr>\n    <tr>\n      <th>Ayamonte</th>\n      <td>1298.0</td>\n      <td>2.0</td>\n      <td>12.0</td>\n      <td>21104.0</td>\n      <td>9.476876</td>\n      <td>56.861259</td>\n      <td>NaN</td>\n    </tr>\n    <tr>\n      <th>Zalamea la Real</th>\n      <td>87.0</td>\n      <td>1.0</td>\n      <td>1.0</td>\n      <td>3054.0</td>\n      <td>32.743942</td>\n      <td>32.743942</td>\n      <td>0.0</td>\n    </tr>\n    <tr>\n      <th>Alosno</th>\n      <td>163.0</td>\n      <td>1.0</td>\n      <td>1.0</td>\n      <td>3933.0</td>\n      <td>25.425884</td>\n      <td>25.425884</td>\n      <td>0.0</td>\n    </tr>\n    <tr>\n      <th>Aracena</th>\n      <td>514.0</td>\n      <td>1.0</td>\n      <td>2.0</td>\n      <td>8255.0</td>\n      <td>12.113870</td>\n      <td>24.227741</td>\n      <td>0.0</td>\n    </tr>\n  </tbody>\n</table>\n</div>"
     },
     "metadata": {},
     "execution_count": 17
    }
   ],
   "source": [
    "tabla.sort_values('tasa14', ascending=False)"
   ]
  },
  {
   "cell_type": "code",
   "execution_count": 18,
   "metadata": {},
   "outputs": [
    {
     "output_type": "execute_result",
     "data": {
      "text/plain": [
       "Medida                             Confirmados PDIA  Confirmados PDIA 7 días  \\\n",
       "Lugar de residencia                                                            \n",
       "Ayamonte                                     1298.0                      2.0   \n",
       "Villablanca                                   185.0                      1.0   \n",
       "Rociana del Condado                           534.0                      5.0   \n",
       "Palos de la Frontera                          608.0                      7.0   \n",
       "Bonares                                       261.0                      2.0   \n",
       "Cartaya                                      1300.0                     10.0   \n",
       "Beas                                          204.0                      2.0   \n",
       "Escacena del Campo                            154.0                      4.0   \n",
       "Isla Cristina                                2120.0                     24.0   \n",
       "Galaroza                                       41.0                      6.0   \n",
       "Nerva                                         169.0                      7.0   \n",
       "Bollullos Par del Condado                     923.0                     47.0   \n",
       "Huelva-Costa                                17264.0                    275.0   \n",
       "Huelva (capital)                             7801.0                    181.0   \n",
       "Almonte                                      1686.0                     74.0   \n",
       "Paterna del Campo                             126.0                      1.0   \n",
       "Aracena                                       514.0                      1.0   \n",
       "Gibraleón                                     603.0                      8.0   \n",
       "Huelva                                      29825.0                    632.0   \n",
       "Niebla                                        208.0                      7.0   \n",
       "Punta Umbría                                  765.0                     29.0   \n",
       "Condado-Campiña                              9583.0                    305.0   \n",
       "San Juan del Puerto                           471.0                     12.0   \n",
       "Aljaraque                                    1026.0                     13.0   \n",
       "Sierra de Huelva-Andévalo Central            2637.0                     52.0   \n",
       "Trigueros                                     282.0                      9.0   \n",
       "Lepe                                         2103.0                     14.0   \n",
       "Minas de Riotinto                             117.0                      2.0   \n",
       "Valverde del Camino                           514.0                     27.0   \n",
       "Moguer                                       1181.0                     56.0   \n",
       "Manzanilla                                     89.0                      3.0   \n",
       "Palma del Condado (La)                       1091.0                     43.0   \n",
       "San Bartolomé de la Torre                     288.0                      5.0   \n",
       "Villarrasa                                    153.0                      5.0   \n",
       "Lucena del Puerto                             241.0                      7.0   \n",
       "Villalba del Alcor                            480.0                      8.0   \n",
       "Zalamea la Real                                87.0                      1.0   \n",
       "Cumbres Mayores                                50.0                      1.0   \n",
       "Cerro de Andévalo (El)                        138.0                      2.0   \n",
       "Calañas                                       177.0                      3.0   \n",
       "Alájar                                         17.0                      1.0   \n",
       "Alosno                                        163.0                      1.0   \n",
       "Zarza-Perrunal (La)                            23.0                      1.0   \n",
       "\n",
       "Medida                             Confirmados PDIA 14 días  Población  \\\n",
       "Lugar de residencia                                                      \n",
       "Ayamonte                                               12.0    21104.0   \n",
       "Villablanca                                             5.0     2885.0   \n",
       "Rociana del Condado                                    19.0     7939.0   \n",
       "Palos de la Frontera                                   23.0    11742.0   \n",
       "Bonares                                                 6.0     6060.0   \n",
       "Cartaya                                                29.0    20083.0   \n",
       "Beas                                                    5.0     4341.0   \n",
       "Escacena del Campo                                     10.0     2287.0   \n",
       "Isla Cristina                                          56.0    21393.0   \n",
       "Galaroza                                               14.0     1382.0   \n",
       "Nerva                                                  15.0     5169.0   \n",
       "Bollullos Par del Condado                              98.0    14387.0   \n",
       "Huelva-Costa                                          573.0   289548.0   \n",
       "Huelva (capital)                                      374.0   143837.0   \n",
       "Almonte                                               151.0    24507.0   \n",
       "Paterna del Campo                                       2.0     3457.0   \n",
       "Aracena                                                 2.0     8255.0   \n",
       "Gibraleón                                              16.0    12737.0   \n",
       "Huelva                                               1202.0   513170.0   \n",
       "Niebla                                                 13.0     4116.0   \n",
       "Punta Umbría                                           52.0    15355.0   \n",
       "Condado-Campiña                                       541.0   156231.0   \n",
       "San Juan del Puerto                                    21.0     9411.0   \n",
       "Aljaraque                                              22.0    21474.0   \n",
       "Sierra de Huelva-Andévalo Central                      87.0    67391.0   \n",
       "Trigueros                                              15.0     7862.0   \n",
       "Lepe                                                   21.0    27880.0   \n",
       "Minas de Riotinto                                       3.0     3812.0   \n",
       "Valverde del Camino                                    39.0    12750.0   \n",
       "Moguer                                                 76.0    21867.0   \n",
       "Manzanilla                                              4.0     2118.0   \n",
       "Palma del Condado (La)                                 53.0    10801.0   \n",
       "San Bartolomé de la Torre                               6.0     3761.0   \n",
       "Villarrasa                                              6.0     2211.0   \n",
       "Lucena del Puerto                                       8.0     3261.0   \n",
       "Villalba del Alcor                                      9.0     3366.0   \n",
       "Zalamea la Real                                         1.0     3054.0   \n",
       "Cumbres Mayores                                         1.0     1749.0   \n",
       "Cerro de Andévalo (El)                                  2.0     2327.0   \n",
       "Calañas                                                 3.0     2768.0   \n",
       "Alájar                                                  1.0      759.0   \n",
       "Alosno                                                  1.0     3933.0   \n",
       "Zarza-Perrunal (La)                                     1.0     1253.0   \n",
       "\n",
       "Medida                                  tasa7       tasa14  Diferencia PDIA  \\\n",
       "Lugar de residencia                                                           \n",
       "Ayamonte                             9.476876    56.861259              0.0   \n",
       "Villablanca                         34.662045   173.310225              0.0   \n",
       "Rociana del Condado                 62.980224   239.324852              0.0   \n",
       "Palos de la Frontera                59.615057   195.878045              3.0   \n",
       "Bonares                             33.003300    99.009901              0.0   \n",
       "Cartaya                             49.793358   144.400737              6.0   \n",
       "Beas                                46.072334   115.180834              0.0   \n",
       "Escacena del Campo                 174.901618   437.254045              0.0   \n",
       "Isla Cristina                      112.186229   261.767868              8.0   \n",
       "Galaroza                           434.153401  1013.024602              0.0   \n",
       "Nerva                              135.422712   290.191526              0.0   \n",
       "Bollullos Par del Condado          326.683812   681.170501             10.0   \n",
       "Huelva-Costa                        94.975617   197.894650             62.0   \n",
       "Huelva (capital)                   125.836885   260.016547             40.0   \n",
       "Almonte                            301.954544   616.150488             14.0   \n",
       "Paterna del Campo                   28.926815    57.853630              0.0   \n",
       "Aracena                             12.113870    24.227741              0.0   \n",
       "Gibraleón                           62.809139   125.618277              2.0   \n",
       "Huelva                             123.156069   234.230372            132.0   \n",
       "Niebla                             170.068027   315.840622              1.0   \n",
       "Punta Umbría                       188.863562   338.651905              5.0   \n",
       "Condado-Campiña                    195.223739   346.282108             65.0   \n",
       "San Juan del Puerto                127.510360   223.143130              0.0   \n",
       "Aljaraque                           60.538325   102.449474              0.0   \n",
       "Sierra de Huelva-Andévalo Central   77.161639   129.097357              5.0   \n",
       "Trigueros                          114.474688   190.791147              3.0   \n",
       "Lepe                                50.215208    75.322812              1.0   \n",
       "Minas de Riotinto                   52.465897    78.698846              0.0   \n",
       "Valverde del Camino                211.764706   305.882353              3.0   \n",
       "Moguer                             256.093657   347.555678             12.0   \n",
       "Manzanilla                         141.643059   188.857413              0.0   \n",
       "Palma del Condado (La)             398.111286   490.695306             15.0   \n",
       "San Bartolomé de la Torre          132.943366   159.532039              2.0   \n",
       "Villarrasa                         226.142017   271.370421              0.0   \n",
       "Lucena del Puerto                  214.658080   245.323520              1.0   \n",
       "Villalba del Alcor                 237.670826   267.379679              1.0   \n",
       "Zalamea la Real                     32.743942    32.743942              0.0   \n",
       "Cumbres Mayores                     57.175529    57.175529              0.0   \n",
       "Cerro de Andévalo (El)              85.947572    85.947572              0.0   \n",
       "Calañas                            108.381503   108.381503              0.0   \n",
       "Alájar                             131.752306   131.752306              0.0   \n",
       "Alosno                              25.425884    25.425884              0.0   \n",
       "Zarza-Perrunal (La)                 79.808460    79.808460              0.0   \n",
       "\n",
       "Medida                                 7/14  \n",
       "Lugar de residencia                          \n",
       "Ayamonte                           0.166667  \n",
       "Villablanca                        0.200000  \n",
       "Rociana del Condado                0.263158  \n",
       "Palos de la Frontera               0.304348  \n",
       "Bonares                            0.333333  \n",
       "Cartaya                            0.344828  \n",
       "Beas                               0.400000  \n",
       "Escacena del Campo                 0.400000  \n",
       "Isla Cristina                      0.428571  \n",
       "Galaroza                           0.428571  \n",
       "Nerva                              0.466667  \n",
       "Bollullos Par del Condado          0.479592  \n",
       "Huelva-Costa                       0.479930  \n",
       "Huelva (capital)                   0.483957  \n",
       "Almonte                            0.490066  \n",
       "Paterna del Campo                  0.500000  \n",
       "Aracena                            0.500000  \n",
       "Gibraleón                          0.500000  \n",
       "Huelva                             0.525790  \n",
       "Niebla                             0.538462  \n",
       "Punta Umbría                       0.557692  \n",
       "Condado-Campiña                    0.563771  \n",
       "San Juan del Puerto                0.571429  \n",
       "Aljaraque                          0.590909  \n",
       "Sierra de Huelva-Andévalo Central  0.597701  \n",
       "Trigueros                          0.600000  \n",
       "Lepe                               0.666667  \n",
       "Minas de Riotinto                  0.666667  \n",
       "Valverde del Camino                0.692308  \n",
       "Moguer                             0.736842  \n",
       "Manzanilla                         0.750000  \n",
       "Palma del Condado (La)             0.811321  \n",
       "San Bartolomé de la Torre          0.833333  \n",
       "Villarrasa                         0.833333  \n",
       "Lucena del Puerto                  0.875000  \n",
       "Villalba del Alcor                 0.888889  \n",
       "Zalamea la Real                    1.000000  \n",
       "Cumbres Mayores                    1.000000  \n",
       "Cerro de Andévalo (El)             1.000000  \n",
       "Calañas                            1.000000  \n",
       "Alájar                             1.000000  \n",
       "Alosno                             1.000000  \n",
       "Zarza-Perrunal (La)                1.000000  "
      ],
      "text/html": "<div>\n<style scoped>\n    .dataframe tbody tr th:only-of-type {\n        vertical-align: middle;\n    }\n\n    .dataframe tbody tr th {\n        vertical-align: top;\n    }\n\n    .dataframe thead th {\n        text-align: right;\n    }\n</style>\n<table border=\"1\" class=\"dataframe\">\n  <thead>\n    <tr style=\"text-align: right;\">\n      <th>Medida</th>\n      <th>Confirmados PDIA</th>\n      <th>Confirmados PDIA 7 días</th>\n      <th>Confirmados PDIA 14 días</th>\n      <th>Población</th>\n      <th>tasa7</th>\n      <th>tasa14</th>\n      <th>Diferencia PDIA</th>\n      <th>7/14</th>\n    </tr>\n    <tr>\n      <th>Lugar de residencia</th>\n      <th></th>\n      <th></th>\n      <th></th>\n      <th></th>\n      <th></th>\n      <th></th>\n      <th></th>\n      <th></th>\n    </tr>\n  </thead>\n  <tbody>\n    <tr>\n      <th>Ayamonte</th>\n      <td>1298.0</td>\n      <td>2.0</td>\n      <td>12.0</td>\n      <td>21104.0</td>\n      <td>9.476876</td>\n      <td>56.861259</td>\n      <td>0.0</td>\n      <td>0.166667</td>\n    </tr>\n    <tr>\n      <th>Villablanca</th>\n      <td>185.0</td>\n      <td>1.0</td>\n      <td>5.0</td>\n      <td>2885.0</td>\n      <td>34.662045</td>\n      <td>173.310225</td>\n      <td>0.0</td>\n      <td>0.200000</td>\n    </tr>\n    <tr>\n      <th>Rociana del Condado</th>\n      <td>534.0</td>\n      <td>5.0</td>\n      <td>19.0</td>\n      <td>7939.0</td>\n      <td>62.980224</td>\n      <td>239.324852</td>\n      <td>0.0</td>\n      <td>0.263158</td>\n    </tr>\n    <tr>\n      <th>Palos de la Frontera</th>\n      <td>608.0</td>\n      <td>7.0</td>\n      <td>23.0</td>\n      <td>11742.0</td>\n      <td>59.615057</td>\n      <td>195.878045</td>\n      <td>3.0</td>\n      <td>0.304348</td>\n    </tr>\n    <tr>\n      <th>Bonares</th>\n      <td>261.0</td>\n      <td>2.0</td>\n      <td>6.0</td>\n      <td>6060.0</td>\n      <td>33.003300</td>\n      <td>99.009901</td>\n      <td>0.0</td>\n      <td>0.333333</td>\n    </tr>\n    <tr>\n      <th>Cartaya</th>\n      <td>1300.0</td>\n      <td>10.0</td>\n      <td>29.0</td>\n      <td>20083.0</td>\n      <td>49.793358</td>\n      <td>144.400737</td>\n      <td>6.0</td>\n      <td>0.344828</td>\n    </tr>\n    <tr>\n      <th>Beas</th>\n      <td>204.0</td>\n      <td>2.0</td>\n      <td>5.0</td>\n      <td>4341.0</td>\n      <td>46.072334</td>\n      <td>115.180834</td>\n      <td>0.0</td>\n      <td>0.400000</td>\n    </tr>\n    <tr>\n      <th>Escacena del Campo</th>\n      <td>154.0</td>\n      <td>4.0</td>\n      <td>10.0</td>\n      <td>2287.0</td>\n      <td>174.901618</td>\n      <td>437.254045</td>\n      <td>0.0</td>\n      <td>0.400000</td>\n    </tr>\n    <tr>\n      <th>Isla Cristina</th>\n      <td>2120.0</td>\n      <td>24.0</td>\n      <td>56.0</td>\n      <td>21393.0</td>\n      <td>112.186229</td>\n      <td>261.767868</td>\n      <td>8.0</td>\n      <td>0.428571</td>\n    </tr>\n    <tr>\n      <th>Galaroza</th>\n      <td>41.0</td>\n      <td>6.0</td>\n      <td>14.0</td>\n      <td>1382.0</td>\n      <td>434.153401</td>\n      <td>1013.024602</td>\n      <td>0.0</td>\n      <td>0.428571</td>\n    </tr>\n    <tr>\n      <th>Nerva</th>\n      <td>169.0</td>\n      <td>7.0</td>\n      <td>15.0</td>\n      <td>5169.0</td>\n      <td>135.422712</td>\n      <td>290.191526</td>\n      <td>0.0</td>\n      <td>0.466667</td>\n    </tr>\n    <tr>\n      <th>Bollullos Par del Condado</th>\n      <td>923.0</td>\n      <td>47.0</td>\n      <td>98.0</td>\n      <td>14387.0</td>\n      <td>326.683812</td>\n      <td>681.170501</td>\n      <td>10.0</td>\n      <td>0.479592</td>\n    </tr>\n    <tr>\n      <th>Huelva-Costa</th>\n      <td>17264.0</td>\n      <td>275.0</td>\n      <td>573.0</td>\n      <td>289548.0</td>\n      <td>94.975617</td>\n      <td>197.894650</td>\n      <td>62.0</td>\n      <td>0.479930</td>\n    </tr>\n    <tr>\n      <th>Huelva (capital)</th>\n      <td>7801.0</td>\n      <td>181.0</td>\n      <td>374.0</td>\n      <td>143837.0</td>\n      <td>125.836885</td>\n      <td>260.016547</td>\n      <td>40.0</td>\n      <td>0.483957</td>\n    </tr>\n    <tr>\n      <th>Almonte</th>\n      <td>1686.0</td>\n      <td>74.0</td>\n      <td>151.0</td>\n      <td>24507.0</td>\n      <td>301.954544</td>\n      <td>616.150488</td>\n      <td>14.0</td>\n      <td>0.490066</td>\n    </tr>\n    <tr>\n      <th>Paterna del Campo</th>\n      <td>126.0</td>\n      <td>1.0</td>\n      <td>2.0</td>\n      <td>3457.0</td>\n      <td>28.926815</td>\n      <td>57.853630</td>\n      <td>0.0</td>\n      <td>0.500000</td>\n    </tr>\n    <tr>\n      <th>Aracena</th>\n      <td>514.0</td>\n      <td>1.0</td>\n      <td>2.0</td>\n      <td>8255.0</td>\n      <td>12.113870</td>\n      <td>24.227741</td>\n      <td>0.0</td>\n      <td>0.500000</td>\n    </tr>\n    <tr>\n      <th>Gibraleón</th>\n      <td>603.0</td>\n      <td>8.0</td>\n      <td>16.0</td>\n      <td>12737.0</td>\n      <td>62.809139</td>\n      <td>125.618277</td>\n      <td>2.0</td>\n      <td>0.500000</td>\n    </tr>\n    <tr>\n      <th>Huelva</th>\n      <td>29825.0</td>\n      <td>632.0</td>\n      <td>1202.0</td>\n      <td>513170.0</td>\n      <td>123.156069</td>\n      <td>234.230372</td>\n      <td>132.0</td>\n      <td>0.525790</td>\n    </tr>\n    <tr>\n      <th>Niebla</th>\n      <td>208.0</td>\n      <td>7.0</td>\n      <td>13.0</td>\n      <td>4116.0</td>\n      <td>170.068027</td>\n      <td>315.840622</td>\n      <td>1.0</td>\n      <td>0.538462</td>\n    </tr>\n    <tr>\n      <th>Punta Umbría</th>\n      <td>765.0</td>\n      <td>29.0</td>\n      <td>52.0</td>\n      <td>15355.0</td>\n      <td>188.863562</td>\n      <td>338.651905</td>\n      <td>5.0</td>\n      <td>0.557692</td>\n    </tr>\n    <tr>\n      <th>Condado-Campiña</th>\n      <td>9583.0</td>\n      <td>305.0</td>\n      <td>541.0</td>\n      <td>156231.0</td>\n      <td>195.223739</td>\n      <td>346.282108</td>\n      <td>65.0</td>\n      <td>0.563771</td>\n    </tr>\n    <tr>\n      <th>San Juan del Puerto</th>\n      <td>471.0</td>\n      <td>12.0</td>\n      <td>21.0</td>\n      <td>9411.0</td>\n      <td>127.510360</td>\n      <td>223.143130</td>\n      <td>0.0</td>\n      <td>0.571429</td>\n    </tr>\n    <tr>\n      <th>Aljaraque</th>\n      <td>1026.0</td>\n      <td>13.0</td>\n      <td>22.0</td>\n      <td>21474.0</td>\n      <td>60.538325</td>\n      <td>102.449474</td>\n      <td>0.0</td>\n      <td>0.590909</td>\n    </tr>\n    <tr>\n      <th>Sierra de Huelva-Andévalo Central</th>\n      <td>2637.0</td>\n      <td>52.0</td>\n      <td>87.0</td>\n      <td>67391.0</td>\n      <td>77.161639</td>\n      <td>129.097357</td>\n      <td>5.0</td>\n      <td>0.597701</td>\n    </tr>\n    <tr>\n      <th>Trigueros</th>\n      <td>282.0</td>\n      <td>9.0</td>\n      <td>15.0</td>\n      <td>7862.0</td>\n      <td>114.474688</td>\n      <td>190.791147</td>\n      <td>3.0</td>\n      <td>0.600000</td>\n    </tr>\n    <tr>\n      <th>Lepe</th>\n      <td>2103.0</td>\n      <td>14.0</td>\n      <td>21.0</td>\n      <td>27880.0</td>\n      <td>50.215208</td>\n      <td>75.322812</td>\n      <td>1.0</td>\n      <td>0.666667</td>\n    </tr>\n    <tr>\n      <th>Minas de Riotinto</th>\n      <td>117.0</td>\n      <td>2.0</td>\n      <td>3.0</td>\n      <td>3812.0</td>\n      <td>52.465897</td>\n      <td>78.698846</td>\n      <td>0.0</td>\n      <td>0.666667</td>\n    </tr>\n    <tr>\n      <th>Valverde del Camino</th>\n      <td>514.0</td>\n      <td>27.0</td>\n      <td>39.0</td>\n      <td>12750.0</td>\n      <td>211.764706</td>\n      <td>305.882353</td>\n      <td>3.0</td>\n      <td>0.692308</td>\n    </tr>\n    <tr>\n      <th>Moguer</th>\n      <td>1181.0</td>\n      <td>56.0</td>\n      <td>76.0</td>\n      <td>21867.0</td>\n      <td>256.093657</td>\n      <td>347.555678</td>\n      <td>12.0</td>\n      <td>0.736842</td>\n    </tr>\n    <tr>\n      <th>Manzanilla</th>\n      <td>89.0</td>\n      <td>3.0</td>\n      <td>4.0</td>\n      <td>2118.0</td>\n      <td>141.643059</td>\n      <td>188.857413</td>\n      <td>0.0</td>\n      <td>0.750000</td>\n    </tr>\n    <tr>\n      <th>Palma del Condado (La)</th>\n      <td>1091.0</td>\n      <td>43.0</td>\n      <td>53.0</td>\n      <td>10801.0</td>\n      <td>398.111286</td>\n      <td>490.695306</td>\n      <td>15.0</td>\n      <td>0.811321</td>\n    </tr>\n    <tr>\n      <th>San Bartolomé de la Torre</th>\n      <td>288.0</td>\n      <td>5.0</td>\n      <td>6.0</td>\n      <td>3761.0</td>\n      <td>132.943366</td>\n      <td>159.532039</td>\n      <td>2.0</td>\n      <td>0.833333</td>\n    </tr>\n    <tr>\n      <th>Villarrasa</th>\n      <td>153.0</td>\n      <td>5.0</td>\n      <td>6.0</td>\n      <td>2211.0</td>\n      <td>226.142017</td>\n      <td>271.370421</td>\n      <td>0.0</td>\n      <td>0.833333</td>\n    </tr>\n    <tr>\n      <th>Lucena del Puerto</th>\n      <td>241.0</td>\n      <td>7.0</td>\n      <td>8.0</td>\n      <td>3261.0</td>\n      <td>214.658080</td>\n      <td>245.323520</td>\n      <td>1.0</td>\n      <td>0.875000</td>\n    </tr>\n    <tr>\n      <th>Villalba del Alcor</th>\n      <td>480.0</td>\n      <td>8.0</td>\n      <td>9.0</td>\n      <td>3366.0</td>\n      <td>237.670826</td>\n      <td>267.379679</td>\n      <td>1.0</td>\n      <td>0.888889</td>\n    </tr>\n    <tr>\n      <th>Zalamea la Real</th>\n      <td>87.0</td>\n      <td>1.0</td>\n      <td>1.0</td>\n      <td>3054.0</td>\n      <td>32.743942</td>\n      <td>32.743942</td>\n      <td>0.0</td>\n      <td>1.000000</td>\n    </tr>\n    <tr>\n      <th>Cumbres Mayores</th>\n      <td>50.0</td>\n      <td>1.0</td>\n      <td>1.0</td>\n      <td>1749.0</td>\n      <td>57.175529</td>\n      <td>57.175529</td>\n      <td>0.0</td>\n      <td>1.000000</td>\n    </tr>\n    <tr>\n      <th>Cerro de Andévalo (El)</th>\n      <td>138.0</td>\n      <td>2.0</td>\n      <td>2.0</td>\n      <td>2327.0</td>\n      <td>85.947572</td>\n      <td>85.947572</td>\n      <td>0.0</td>\n      <td>1.000000</td>\n    </tr>\n    <tr>\n      <th>Calañas</th>\n      <td>177.0</td>\n      <td>3.0</td>\n      <td>3.0</td>\n      <td>2768.0</td>\n      <td>108.381503</td>\n      <td>108.381503</td>\n      <td>0.0</td>\n      <td>1.000000</td>\n    </tr>\n    <tr>\n      <th>Alájar</th>\n      <td>17.0</td>\n      <td>1.0</td>\n      <td>1.0</td>\n      <td>759.0</td>\n      <td>131.752306</td>\n      <td>131.752306</td>\n      <td>0.0</td>\n      <td>1.000000</td>\n    </tr>\n    <tr>\n      <th>Alosno</th>\n      <td>163.0</td>\n      <td>1.0</td>\n      <td>1.0</td>\n      <td>3933.0</td>\n      <td>25.425884</td>\n      <td>25.425884</td>\n      <td>0.0</td>\n      <td>1.000000</td>\n    </tr>\n    <tr>\n      <th>Zarza-Perrunal (La)</th>\n      <td>23.0</td>\n      <td>1.0</td>\n      <td>1.0</td>\n      <td>1253.0</td>\n      <td>79.808460</td>\n      <td>79.808460</td>\n      <td>0.0</td>\n      <td>1.000000</td>\n    </tr>\n  </tbody>\n</table>\n</div>"
     },
     "metadata": {},
     "execution_count": 18
    }
   ],
   "source": [
    "# Peso de la tasa de la última semana en relación con la tasa a 14 días \n",
    "# Mejor cuanto menor. Valor 1 significa que no había casos antes de 7 días.\n",
    "tabla['7/14'] = tabla['tasa7'] / tabla['tasa14']\n",
    "tabla.fillna(0).sort_values('7/14', ascending=True)"
   ]
  },
  {
   "cell_type": "code",
   "execution_count": null,
   "metadata": {},
   "outputs": [],
   "source": []
  }
 ]
}