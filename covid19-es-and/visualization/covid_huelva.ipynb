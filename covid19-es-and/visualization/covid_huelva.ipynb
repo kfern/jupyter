{
 "metadata": {
  "language_info": {
   "codemirror_mode": {
    "name": "ipython",
    "version": 3
   },
   "file_extension": ".py",
   "mimetype": "text/x-python",
   "name": "python",
   "nbconvert_exporter": "python",
   "pygments_lexer": "ipython3",
   "version": "3.6.9-final"
  },
  "orig_nbformat": 2,
  "kernelspec": {
   "name": "python3",
   "display_name": "Python 3",
   "language": "python"
  }
 },
 "nbformat": 4,
 "nbformat_minor": 2,
 "cells": [
  {
   "cell_type": "code",
   "execution_count": 1,
   "metadata": {},
   "outputs": [],
   "source": [
    "import pandas as pd\n",
    "pd.set_option('display.max_rows', None) # Print all rows"
   ]
  },
  {
   "cell_type": "code",
   "execution_count": 2,
   "metadata": {},
   "outputs": [],
   "source": [
    "# FIX SSL: CERTIFICATE_VERIFY_FAILED with Python3\n",
    "# https://stackoverflow.com/a/49174340\n",
    "import ssl\n",
    "\n",
    "ssl._create_default_https_context = ssl._create_unverified_context"
   ]
  },
  {
   "cell_type": "code",
   "execution_count": 3,
   "metadata": {},
   "outputs": [],
   "source": [
    "url = 'https://www.juntadeandalucia.es/institutodeestadisticaycartografia/badea/stpivot/stpivot/Print?cube=013d884c-cfc5-4c21-9e78-e26225682afd&type=3&foto=si&ejecutaDesde=&codConsulta=38668&consTipoVisua=JP'\n",
    "fields = ['Lugar de residencia', 'Medida', 'Valor']\n",
    "df = pd.read_csv(url, delimiter=';', usecols=fields, decimal=',')"
   ]
  },
  {
   "cell_type": "code",
   "execution_count": 4,
   "metadata": {},
   "outputs": [
    {
     "output_type": "execute_result",
     "data": {
      "text/plain": [
       "  Lugar de residencia                    Medida               Valor\n",
       "0              Huelva                 Población              513170\n",
       "1              Huelva          Confirmados PDIA               28202\n",
       "2              Huelva  Confirmados PDIA 14 días                1260\n",
       "3              Huelva         Tasa PDIA 14 días  245,53266948574546\n",
       "4              Huelva   Confirmados PDIA 7 días                 594\n",
       "5              Huelva        Total Confirmados                28375\n",
       "6              Huelva                   Curados               23677\n",
       "7              Huelva                Fallecidos                 363"
      ],
      "text/html": "<div>\n<style scoped>\n    .dataframe tbody tr th:only-of-type {\n        vertical-align: middle;\n    }\n\n    .dataframe tbody tr th {\n        vertical-align: top;\n    }\n\n    .dataframe thead th {\n        text-align: right;\n    }\n</style>\n<table border=\"1\" class=\"dataframe\">\n  <thead>\n    <tr style=\"text-align: right;\">\n      <th></th>\n      <th>Lugar de residencia</th>\n      <th>Medida</th>\n      <th>Valor</th>\n    </tr>\n  </thead>\n  <tbody>\n    <tr>\n      <th>0</th>\n      <td>Huelva</td>\n      <td>Población</td>\n      <td>513170</td>\n    </tr>\n    <tr>\n      <th>1</th>\n      <td>Huelva</td>\n      <td>Confirmados PDIA</td>\n      <td>28202</td>\n    </tr>\n    <tr>\n      <th>2</th>\n      <td>Huelva</td>\n      <td>Confirmados PDIA 14 días</td>\n      <td>1260</td>\n    </tr>\n    <tr>\n      <th>3</th>\n      <td>Huelva</td>\n      <td>Tasa PDIA 14 días</td>\n      <td>245,53266948574546</td>\n    </tr>\n    <tr>\n      <th>4</th>\n      <td>Huelva</td>\n      <td>Confirmados PDIA 7 días</td>\n      <td>594</td>\n    </tr>\n    <tr>\n      <th>5</th>\n      <td>Huelva</td>\n      <td>Total Confirmados</td>\n      <td>28375</td>\n    </tr>\n    <tr>\n      <th>6</th>\n      <td>Huelva</td>\n      <td>Curados</td>\n      <td>23677</td>\n    </tr>\n    <tr>\n      <th>7</th>\n      <td>Huelva</td>\n      <td>Fallecidos</td>\n      <td>363</td>\n    </tr>\n  </tbody>\n</table>\n</div>"
     },
     "metadata": {},
     "execution_count": 4
    }
   ],
   "source": [
    "df[df['Lugar de residencia'] == 'Huelva']"
   ]
  },
  {
   "cell_type": "code",
   "execution_count": 5,
   "metadata": {},
   "outputs": [],
   "source": [
    "df['Valor'] = pd.to_numeric(df['Valor'],errors='coerce')"
   ]
  },
  {
   "cell_type": "code",
   "execution_count": 6,
   "metadata": {},
   "outputs": [],
   "source": [
    "dfAnterior = pd.read_csv('covid_huelva.csv', index_col='Lugar de residencia')"
   ]
  },
  {
   "cell_type": "code",
   "execution_count": 7,
   "metadata": {
    "tags": []
   },
   "outputs": [
    {
     "output_type": "stream",
     "name": "stdout",
     "text": [
      "Confirmados PCR en la provincia de Huelva:  28202.0\n"
     ]
    }
   ],
   "source": [
    "# Confirmados PCR provincia Huelva\n",
    "p = df[df['Lugar de residencia'] == 'Huelva'][df['Medida'] == 'Confirmados PDIA']['Valor'].values[0]\n",
    "print('Confirmados PCR en la provincia de Huelva: ', p)"
   ]
  },
  {
   "cell_type": "code",
   "execution_count": 8,
   "metadata": {
    "tags": []
   },
   "outputs": [
    {
     "output_type": "stream",
     "name": "stdout",
     "text": [
      "Confirmados PCR en Huelva capital:  7311.0\n"
     ]
    }
   ],
   "source": [
    "# Confirmados PCR Huelva capitalpd\n",
    "c = df[df['Lugar de residencia'] == 'Huelva (capital)'][df['Medida'] == 'Confirmados PDIA']['Valor'].values[0]\n",
    "print('Confirmados PCR en Huelva capital: ', c)"
   ]
  },
  {
   "cell_type": "code",
   "execution_count": 9,
   "metadata": {
    "tags": []
   },
   "outputs": [],
   "source": [
    "c7 = df[df['Lugar de residencia'] == 'Huelva (capital)'][df['Medida'] == 'Confirmados PDIA 7 días']['Valor'].values[0]\n",
    "c14 = df[df['Lugar de residencia'] == 'Huelva (capital)'][df['Medida'] == 'Confirmados PDIA 14 días']['Valor'].values[0]\n",
    "p = df[df['Lugar de residencia'] == 'Huelva (capital)'][df['Medida'] == 'Población']['Valor'].values[0]"
   ]
  },
  {
   "cell_type": "code",
   "execution_count": 10,
   "metadata": {
    "tags": []
   },
   "outputs": [
    {
     "output_type": "stream",
     "name": "stdout",
     "text": [
      "Huelva (capital)\n\nUn positivo PCR cada 1284 personas en los últimos 7 días \n\nUn positivo PCR cada 501 personas en los últimos 14 días\n"
     ]
    }
   ],
   "source": [
    "print('Huelva (capital)\\n')\n",
    "#print('Confirmados PCR 7 días x 1,000 habitantes: ', f\"{c7/(p/1000):.5f}\")\n",
    "print('Un positivo PCR cada', f\"{p/c7:.0f}\", 'personas en los últimos 7 días', '\\n')\n",
    "#print('Confirmados PCR 14 días x 1,000 habitantes: ', f\"{c14/(p/1000):.5f}\")\n",
    "print('Un positivo PCR cada', f\"{p/c14:.0f}\", 'personas en los últimos 14 días')"
   ]
  },
  {
   "cell_type": "code",
   "execution_count": 11,
   "metadata": {},
   "outputs": [],
   "source": [
    "filtro = ((df['Medida'] == 'Confirmados PDIA')| (df['Medida'] == 'Confirmados PDIA 7 días') | (df['Medida'] == 'Población' ) | (df['Medida'] == 'Confirmados PDIA 14 días')) & (df['Valor'] > 0)\n",
    "tabla = pd.pivot_table(df.loc[filtro], values='Valor', index='Lugar de residencia', columns='Medida').dropna()"
   ]
  },
  {
   "cell_type": "code",
   "execution_count": 12,
   "metadata": {},
   "outputs": [],
   "source": [
    "# Reorder columns\n",
    "tabla = tabla[['Confirmados PDIA', 'Confirmados PDIA 7 días', 'Confirmados PDIA 14 días', 'Población']]"
   ]
  },
  {
   "cell_type": "code",
   "execution_count": 13,
   "metadata": {},
   "outputs": [],
   "source": [
    "tabla['tasa7'] = tabla['Confirmados PDIA 7 días']/tabla['Población']*100000\n",
    "tabla['tasa14'] = tabla['Confirmados PDIA 14 días']/tabla['Población']*100000"
   ]
  },
  {
   "cell_type": "code",
   "execution_count": 14,
   "metadata": {},
   "outputs": [],
   "source": [
    "tabla['Diferencia PDIA'] = tabla['Confirmados PDIA'] - dfAnterior['Confirmados PDIA']"
   ]
  },
  {
   "cell_type": "code",
   "execution_count": 15,
   "metadata": {},
   "outputs": [
    {
     "output_type": "execute_result",
     "data": {
      "text/plain": [
       "Medida                             Confirmados PDIA  Confirmados PDIA 7 días  \\\n",
       "Lugar de residencia                                                            \n",
       "Huelva                                      28202.0                    594.0   \n",
       "Condado-Campiña                              8803.0                    321.0   \n",
       "Huelva-Costa                                16488.0                    203.0   \n",
       "Huelva (capital)                             7311.0                    112.0   \n",
       "Almonte                                      1468.0                    100.0   \n",
       "Moguer                                       1072.0                     45.0   \n",
       "Lucena del Puerto                             216.0                     25.0   \n",
       "Punta Umbría                                  705.0                     15.0   \n",
       "Isla Cristina                                2047.0                     18.0   \n",
       "Beas                                          192.0                     18.0   \n",
       "Bollullos Par del Condado                     786.0                     35.0   \n",
       "Sierra de Huelva-Andévalo Central            2514.0                     65.0   \n",
       "Lepe                                         2073.0                     12.0   \n",
       "Cortegana                                     197.0                      5.0   \n",
       "Palos de la Frontera                          573.0                     13.0   \n",
       "Bonares                                       244.0                     15.0   \n",
       "Cartaya                                      1253.0                     30.0   \n",
       "Rociana del Condado                           497.0                     22.0   \n",
       "San Juan del Puerto                           440.0                     18.0   \n",
       "Trigueros                                     262.0                      9.0   \n",
       "Palma del Condado (La)                       1029.0                      6.0   \n",
       "Valverde del Camino                           465.0                     11.0   \n",
       "Rosal de la Frontera                           26.0                      1.0   \n",
       "Villablanca                                   179.0                      1.0   \n",
       "\n",
       "Medida                             Confirmados PDIA 14 días  Población  \\\n",
       "Lugar de residencia                                                      \n",
       "Huelva                                               1260.0   513170.0   \n",
       "Condado-Campiña                                       645.0   156231.0   \n",
       "Huelva-Costa                                          485.0   289548.0   \n",
       "Huelva (capital)                                      287.0   143837.0   \n",
       "Almonte                                               220.0    24507.0   \n",
       "Moguer                                                 88.0    21867.0   \n",
       "Lucena del Puerto                                      32.0     3261.0   \n",
       "Punta Umbría                                           21.0    15355.0   \n",
       "Isla Cristina                                          25.0    21393.0   \n",
       "Beas                                                   24.0     4341.0   \n",
       "Bollullos Par del Condado                              61.0    14387.0   \n",
       "Sierra de Huelva-Andévalo Central                     113.0    67391.0   \n",
       "Lepe                                                   22.0    27880.0   \n",
       "Cortegana                                               5.0     4602.0   \n",
       "Palos de la Frontera                                   28.0    11742.0   \n",
       "Bonares                                                24.0     6060.0   \n",
       "Cartaya                                                96.0    20083.0   \n",
       "Rociana del Condado                                    55.0     7939.0   \n",
       "San Juan del Puerto                                    34.0     9411.0   \n",
       "Trigueros                                              13.0     7862.0   \n",
       "Palma del Condado (La)                                 17.0    10801.0   \n",
       "Valverde del Camino                                    19.0    12750.0   \n",
       "Rosal de la Frontera                                    1.0     1697.0   \n",
       "Villablanca                                             1.0     2885.0   \n",
       "\n",
       "Medida                                  tasa7      tasa14  Diferencia PDIA  \n",
       "Lugar de residencia                                                         \n",
       "Huelva                             115.751116  245.532669            122.0  \n",
       "Condado-Campiña                    205.464985  412.850203             66.0  \n",
       "Huelva-Costa                        70.109274  167.502452             51.0  \n",
       "Huelva (capital)                    77.865918  199.531414             30.0  \n",
       "Almonte                            408.046681  897.702697             23.0  \n",
       "Moguer                             205.789546  402.432890             10.0  \n",
       "Lucena del Puerto                  766.636001  981.294082              9.0  \n",
       "Punta Umbría                        97.688049  136.763269              7.0  \n",
       "Isla Cristina                       84.139672  116.860655              7.0  \n",
       "Beas                               414.651002  552.868003              7.0  \n",
       "Bollullos Par del Condado          243.275179  423.993883              5.0  \n",
       "Sierra de Huelva-Andévalo Central   96.452048  167.678177              5.0  \n",
       "Lepe                                43.041607   78.909613              4.0  \n",
       "Cortegana                          108.648414  108.648414              3.0  \n",
       "Palos de la Frontera               110.713677  238.460228              3.0  \n",
       "Bonares                            247.524752  396.039604              3.0  \n",
       "Cartaya                            149.380073  478.016233              2.0  \n",
       "Rociana del Condado                277.112987  692.782466              2.0  \n",
       "San Juan del Puerto                191.265540  361.279354              2.0  \n",
       "Trigueros                          114.474688  165.352328              2.0  \n",
       "Palma del Condado (La)              55.550412  157.392834              1.0  \n",
       "Valverde del Camino                 86.274510  149.019608              1.0  \n",
       "Rosal de la Frontera                58.927519   58.927519              NaN  \n",
       "Villablanca                         34.662045   34.662045              NaN  "
      ],
      "text/html": "<div>\n<style scoped>\n    .dataframe tbody tr th:only-of-type {\n        vertical-align: middle;\n    }\n\n    .dataframe tbody tr th {\n        vertical-align: top;\n    }\n\n    .dataframe thead th {\n        text-align: right;\n    }\n</style>\n<table border=\"1\" class=\"dataframe\">\n  <thead>\n    <tr style=\"text-align: right;\">\n      <th>Medida</th>\n      <th>Confirmados PDIA</th>\n      <th>Confirmados PDIA 7 días</th>\n      <th>Confirmados PDIA 14 días</th>\n      <th>Población</th>\n      <th>tasa7</th>\n      <th>tasa14</th>\n      <th>Diferencia PDIA</th>\n    </tr>\n    <tr>\n      <th>Lugar de residencia</th>\n      <th></th>\n      <th></th>\n      <th></th>\n      <th></th>\n      <th></th>\n      <th></th>\n      <th></th>\n    </tr>\n  </thead>\n  <tbody>\n    <tr>\n      <th>Huelva</th>\n      <td>28202.0</td>\n      <td>594.0</td>\n      <td>1260.0</td>\n      <td>513170.0</td>\n      <td>115.751116</td>\n      <td>245.532669</td>\n      <td>122.0</td>\n    </tr>\n    <tr>\n      <th>Condado-Campiña</th>\n      <td>8803.0</td>\n      <td>321.0</td>\n      <td>645.0</td>\n      <td>156231.0</td>\n      <td>205.464985</td>\n      <td>412.850203</td>\n      <td>66.0</td>\n    </tr>\n    <tr>\n      <th>Huelva-Costa</th>\n      <td>16488.0</td>\n      <td>203.0</td>\n      <td>485.0</td>\n      <td>289548.0</td>\n      <td>70.109274</td>\n      <td>167.502452</td>\n      <td>51.0</td>\n    </tr>\n    <tr>\n      <th>Huelva (capital)</th>\n      <td>7311.0</td>\n      <td>112.0</td>\n      <td>287.0</td>\n      <td>143837.0</td>\n      <td>77.865918</td>\n      <td>199.531414</td>\n      <td>30.0</td>\n    </tr>\n    <tr>\n      <th>Almonte</th>\n      <td>1468.0</td>\n      <td>100.0</td>\n      <td>220.0</td>\n      <td>24507.0</td>\n      <td>408.046681</td>\n      <td>897.702697</td>\n      <td>23.0</td>\n    </tr>\n    <tr>\n      <th>Moguer</th>\n      <td>1072.0</td>\n      <td>45.0</td>\n      <td>88.0</td>\n      <td>21867.0</td>\n      <td>205.789546</td>\n      <td>402.432890</td>\n      <td>10.0</td>\n    </tr>\n    <tr>\n      <th>Lucena del Puerto</th>\n      <td>216.0</td>\n      <td>25.0</td>\n      <td>32.0</td>\n      <td>3261.0</td>\n      <td>766.636001</td>\n      <td>981.294082</td>\n      <td>9.0</td>\n    </tr>\n    <tr>\n      <th>Punta Umbría</th>\n      <td>705.0</td>\n      <td>15.0</td>\n      <td>21.0</td>\n      <td>15355.0</td>\n      <td>97.688049</td>\n      <td>136.763269</td>\n      <td>7.0</td>\n    </tr>\n    <tr>\n      <th>Isla Cristina</th>\n      <td>2047.0</td>\n      <td>18.0</td>\n      <td>25.0</td>\n      <td>21393.0</td>\n      <td>84.139672</td>\n      <td>116.860655</td>\n      <td>7.0</td>\n    </tr>\n    <tr>\n      <th>Beas</th>\n      <td>192.0</td>\n      <td>18.0</td>\n      <td>24.0</td>\n      <td>4341.0</td>\n      <td>414.651002</td>\n      <td>552.868003</td>\n      <td>7.0</td>\n    </tr>\n    <tr>\n      <th>Bollullos Par del Condado</th>\n      <td>786.0</td>\n      <td>35.0</td>\n      <td>61.0</td>\n      <td>14387.0</td>\n      <td>243.275179</td>\n      <td>423.993883</td>\n      <td>5.0</td>\n    </tr>\n    <tr>\n      <th>Sierra de Huelva-Andévalo Central</th>\n      <td>2514.0</td>\n      <td>65.0</td>\n      <td>113.0</td>\n      <td>67391.0</td>\n      <td>96.452048</td>\n      <td>167.678177</td>\n      <td>5.0</td>\n    </tr>\n    <tr>\n      <th>Lepe</th>\n      <td>2073.0</td>\n      <td>12.0</td>\n      <td>22.0</td>\n      <td>27880.0</td>\n      <td>43.041607</td>\n      <td>78.909613</td>\n      <td>4.0</td>\n    </tr>\n    <tr>\n      <th>Cortegana</th>\n      <td>197.0</td>\n      <td>5.0</td>\n      <td>5.0</td>\n      <td>4602.0</td>\n      <td>108.648414</td>\n      <td>108.648414</td>\n      <td>3.0</td>\n    </tr>\n    <tr>\n      <th>Palos de la Frontera</th>\n      <td>573.0</td>\n      <td>13.0</td>\n      <td>28.0</td>\n      <td>11742.0</td>\n      <td>110.713677</td>\n      <td>238.460228</td>\n      <td>3.0</td>\n    </tr>\n    <tr>\n      <th>Bonares</th>\n      <td>244.0</td>\n      <td>15.0</td>\n      <td>24.0</td>\n      <td>6060.0</td>\n      <td>247.524752</td>\n      <td>396.039604</td>\n      <td>3.0</td>\n    </tr>\n    <tr>\n      <th>Cartaya</th>\n      <td>1253.0</td>\n      <td>30.0</td>\n      <td>96.0</td>\n      <td>20083.0</td>\n      <td>149.380073</td>\n      <td>478.016233</td>\n      <td>2.0</td>\n    </tr>\n    <tr>\n      <th>Rociana del Condado</th>\n      <td>497.0</td>\n      <td>22.0</td>\n      <td>55.0</td>\n      <td>7939.0</td>\n      <td>277.112987</td>\n      <td>692.782466</td>\n      <td>2.0</td>\n    </tr>\n    <tr>\n      <th>San Juan del Puerto</th>\n      <td>440.0</td>\n      <td>18.0</td>\n      <td>34.0</td>\n      <td>9411.0</td>\n      <td>191.265540</td>\n      <td>361.279354</td>\n      <td>2.0</td>\n    </tr>\n    <tr>\n      <th>Trigueros</th>\n      <td>262.0</td>\n      <td>9.0</td>\n      <td>13.0</td>\n      <td>7862.0</td>\n      <td>114.474688</td>\n      <td>165.352328</td>\n      <td>2.0</td>\n    </tr>\n    <tr>\n      <th>Palma del Condado (La)</th>\n      <td>1029.0</td>\n      <td>6.0</td>\n      <td>17.0</td>\n      <td>10801.0</td>\n      <td>55.550412</td>\n      <td>157.392834</td>\n      <td>1.0</td>\n    </tr>\n    <tr>\n      <th>Valverde del Camino</th>\n      <td>465.0</td>\n      <td>11.0</td>\n      <td>19.0</td>\n      <td>12750.0</td>\n      <td>86.274510</td>\n      <td>149.019608</td>\n      <td>1.0</td>\n    </tr>\n    <tr>\n      <th>Rosal de la Frontera</th>\n      <td>26.0</td>\n      <td>1.0</td>\n      <td>1.0</td>\n      <td>1697.0</td>\n      <td>58.927519</td>\n      <td>58.927519</td>\n      <td>NaN</td>\n    </tr>\n    <tr>\n      <th>Villablanca</th>\n      <td>179.0</td>\n      <td>1.0</td>\n      <td>1.0</td>\n      <td>2885.0</td>\n      <td>34.662045</td>\n      <td>34.662045</td>\n      <td>NaN</td>\n    </tr>\n  </tbody>\n</table>\n</div>"
     },
     "metadata": {},
     "execution_count": 15
    }
   ],
   "source": [
    "# Nuevos casos desde la última captura\n",
    "tabla[tabla['Diferencia PDIA'] != 0].sort_values('Diferencia PDIA', ascending=False)"
   ]
  },
  {
   "cell_type": "code",
   "execution_count": 16,
   "metadata": {},
   "outputs": [],
   "source": [
    "if tabla[tabla['Diferencia PDIA'] != 0]['Diferencia PDIA'].sum() != 0:\n",
    "  # Save to csv\n",
    "  tabla.to_csv('covid_huelva.csv', encoding='utf-8', header=True, index=True)  "
   ]
  },
  {
   "cell_type": "code",
   "execution_count": 17,
   "metadata": {},
   "outputs": [
    {
     "output_type": "execute_result",
     "data": {
      "text/plain": [
       "Medida                             Confirmados PDIA  Confirmados PDIA 7 días  \\\n",
       "Lugar de residencia                                                            \n",
       "Cumbres de San Bartolomé                       10.0                      5.0   \n",
       "Cumbres Mayores                                48.0                     16.0   \n",
       "Lucena del Puerto                             216.0                     25.0   \n",
       "Almonte                                      1468.0                    100.0   \n",
       "Santa Ana la Real                               9.0                      3.0   \n",
       "Galaroza                                       27.0                      8.0   \n",
       "Rociana del Condado                           497.0                     22.0   \n",
       "Beas                                          192.0                     18.0   \n",
       "Cartaya                                      1253.0                     30.0   \n",
       "Bollullos Par del Condado                     786.0                     35.0   \n",
       "Condado-Campiña                              8803.0                    321.0   \n",
       "Moguer                                       1072.0                     45.0   \n",
       "Bonares                                       244.0                     15.0   \n",
       "San Juan del Puerto                           440.0                     18.0   \n",
       "Almonaster la Real                             63.0                      1.0   \n",
       "Cortelazor                                      5.0                      1.0   \n",
       "Villarrasa                                    147.0                      1.0   \n",
       "Huelva                                      28202.0                    594.0   \n",
       "Palos de la Frontera                          573.0                     13.0   \n",
       "Minas de Riotinto                             111.0                      4.0   \n",
       "Huelva (capital)                             7311.0                    112.0   \n",
       "Niebla                                        192.0                      3.0   \n",
       "Aracena                                       506.0                      7.0   \n",
       "Gibraleón                                     581.0                     11.0   \n",
       "Sierra de Huelva-Andévalo Central            2514.0                     65.0   \n",
       "Huelva-Costa                                16488.0                    203.0   \n",
       "Trigueros                                     262.0                      9.0   \n",
       "San Silvestre de Guzmán                        15.0                      1.0   \n",
       "Palma del Condado (La)                       1029.0                      6.0   \n",
       "Valverde del Camino                           465.0                     11.0   \n",
       "Punta Umbría                                  705.0                     15.0   \n",
       "Isla Cristina                                2047.0                     18.0   \n",
       "Cortegana                                     197.0                      5.0   \n",
       "Aroche                                         89.0                      2.0   \n",
       "Aljaraque                                     991.0                      8.0   \n",
       "Lepe                                         2073.0                     12.0   \n",
       "Encinasola                                    117.0                      1.0   \n",
       "Rosal de la Frontera                           26.0                      1.0   \n",
       "Ayamonte                                     1267.0                      6.0   \n",
       "Villablanca                                   179.0                      1.0   \n",
       "\n",
       "Medida                             Confirmados PDIA 14 días  Población  \\\n",
       "Lugar de residencia                                                      \n",
       "Cumbres de San Bartolomé                                5.0      376.0   \n",
       "Cumbres Mayores                                        23.0     1749.0   \n",
       "Lucena del Puerto                                      32.0     3261.0   \n",
       "Almonte                                               220.0    24507.0   \n",
       "Santa Ana la Real                                       4.0      475.0   \n",
       "Galaroza                                               11.0     1382.0   \n",
       "Rociana del Condado                                    55.0     7939.0   \n",
       "Beas                                                   24.0     4341.0   \n",
       "Cartaya                                                96.0    20083.0   \n",
       "Bollullos Par del Condado                              61.0    14387.0   \n",
       "Condado-Campiña                                       645.0   156231.0   \n",
       "Moguer                                                 88.0    21867.0   \n",
       "Bonares                                                24.0     6060.0   \n",
       "San Juan del Puerto                                    34.0     9411.0   \n",
       "Almonaster la Real                                      6.0     1788.0   \n",
       "Cortelazor                                              1.0      299.0   \n",
       "Villarrasa                                              7.0     2211.0   \n",
       "Huelva                                               1260.0   513170.0   \n",
       "Palos de la Frontera                                   28.0    11742.0   \n",
       "Minas de Riotinto                                       9.0     3812.0   \n",
       "Huelva (capital)                                      287.0   143837.0   \n",
       "Niebla                                                  8.0     4116.0   \n",
       "Aracena                                                16.0     8255.0   \n",
       "Gibraleón                                              24.0    12737.0   \n",
       "Sierra de Huelva-Andévalo Central                     113.0    67391.0   \n",
       "Huelva-Costa                                          485.0   289548.0   \n",
       "Trigueros                                              13.0     7862.0   \n",
       "San Silvestre de Guzmán                                 1.0      614.0   \n",
       "Palma del Condado (La)                                 17.0    10801.0   \n",
       "Valverde del Camino                                    19.0    12750.0   \n",
       "Punta Umbría                                           21.0    15355.0   \n",
       "Isla Cristina                                          25.0    21393.0   \n",
       "Cortegana                                               5.0     4602.0   \n",
       "Aroche                                                  3.0     3054.0   \n",
       "Aljaraque                                              18.0    21474.0   \n",
       "Lepe                                                   22.0    27880.0   \n",
       "Encinasola                                              1.0     1310.0   \n",
       "Rosal de la Frontera                                    1.0     1697.0   \n",
       "Ayamonte                                               10.0    21104.0   \n",
       "Villablanca                                             1.0     2885.0   \n",
       "\n",
       "Medida                                   tasa7       tasa14  Diferencia PDIA  \n",
       "Lugar de residencia                                                           \n",
       "Cumbres de San Bartolomé           1329.787234  1329.787234              0.0  \n",
       "Cumbres Mayores                     914.808462  1315.037164              0.0  \n",
       "Lucena del Puerto                   766.636001   981.294082              9.0  \n",
       "Almonte                             408.046681   897.702697             23.0  \n",
       "Santa Ana la Real                   631.578947   842.105263              0.0  \n",
       "Galaroza                            578.871201   795.947902              0.0  \n",
       "Rociana del Condado                 277.112987   692.782466              2.0  \n",
       "Beas                                414.651002   552.868003              7.0  \n",
       "Cartaya                             149.380073   478.016233              2.0  \n",
       "Bollullos Par del Condado           243.275179   423.993883              5.0  \n",
       "Condado-Campiña                     205.464985   412.850203             66.0  \n",
       "Moguer                              205.789546   402.432890             10.0  \n",
       "Bonares                             247.524752   396.039604              3.0  \n",
       "San Juan del Puerto                 191.265540   361.279354              2.0  \n",
       "Almonaster la Real                   55.928412   335.570470              0.0  \n",
       "Cortelazor                          334.448161   334.448161              0.0  \n",
       "Villarrasa                           45.228403   316.598824              0.0  \n",
       "Huelva                              115.751116   245.532669            122.0  \n",
       "Palos de la Frontera                110.713677   238.460228              3.0  \n",
       "Minas de Riotinto                   104.931794   236.096537              0.0  \n",
       "Huelva (capital)                     77.865918   199.531414             30.0  \n",
       "Niebla                               72.886297   194.363460              0.0  \n",
       "Aracena                              84.797093   193.821926              0.0  \n",
       "Gibraleón                            86.362566   188.427416              0.0  \n",
       "Sierra de Huelva-Andévalo Central    96.452048   167.678177              5.0  \n",
       "Huelva-Costa                         70.109274   167.502452             51.0  \n",
       "Trigueros                           114.474688   165.352328              2.0  \n",
       "San Silvestre de Guzmán             162.866450   162.866450              0.0  \n",
       "Palma del Condado (La)               55.550412   157.392834              1.0  \n",
       "Valverde del Camino                  86.274510   149.019608              1.0  \n",
       "Punta Umbría                         97.688049   136.763269              7.0  \n",
       "Isla Cristina                        84.139672   116.860655              7.0  \n",
       "Cortegana                           108.648414   108.648414              3.0  \n",
       "Aroche                               65.487885    98.231827              0.0  \n",
       "Aljaraque                            37.254354    83.822297              0.0  \n",
       "Lepe                                 43.041607    78.909613              4.0  \n",
       "Encinasola                           76.335878    76.335878              0.0  \n",
       "Rosal de la Frontera                 58.927519    58.927519              NaN  \n",
       "Ayamonte                             28.430629    47.384382              0.0  \n",
       "Villablanca                          34.662045    34.662045              NaN  "
      ],
      "text/html": "<div>\n<style scoped>\n    .dataframe tbody tr th:only-of-type {\n        vertical-align: middle;\n    }\n\n    .dataframe tbody tr th {\n        vertical-align: top;\n    }\n\n    .dataframe thead th {\n        text-align: right;\n    }\n</style>\n<table border=\"1\" class=\"dataframe\">\n  <thead>\n    <tr style=\"text-align: right;\">\n      <th>Medida</th>\n      <th>Confirmados PDIA</th>\n      <th>Confirmados PDIA 7 días</th>\n      <th>Confirmados PDIA 14 días</th>\n      <th>Población</th>\n      <th>tasa7</th>\n      <th>tasa14</th>\n      <th>Diferencia PDIA</th>\n    </tr>\n    <tr>\n      <th>Lugar de residencia</th>\n      <th></th>\n      <th></th>\n      <th></th>\n      <th></th>\n      <th></th>\n      <th></th>\n      <th></th>\n    </tr>\n  </thead>\n  <tbody>\n    <tr>\n      <th>Cumbres de San Bartolomé</th>\n      <td>10.0</td>\n      <td>5.0</td>\n      <td>5.0</td>\n      <td>376.0</td>\n      <td>1329.787234</td>\n      <td>1329.787234</td>\n      <td>0.0</td>\n    </tr>\n    <tr>\n      <th>Cumbres Mayores</th>\n      <td>48.0</td>\n      <td>16.0</td>\n      <td>23.0</td>\n      <td>1749.0</td>\n      <td>914.808462</td>\n      <td>1315.037164</td>\n      <td>0.0</td>\n    </tr>\n    <tr>\n      <th>Lucena del Puerto</th>\n      <td>216.0</td>\n      <td>25.0</td>\n      <td>32.0</td>\n      <td>3261.0</td>\n      <td>766.636001</td>\n      <td>981.294082</td>\n      <td>9.0</td>\n    </tr>\n    <tr>\n      <th>Almonte</th>\n      <td>1468.0</td>\n      <td>100.0</td>\n      <td>220.0</td>\n      <td>24507.0</td>\n      <td>408.046681</td>\n      <td>897.702697</td>\n      <td>23.0</td>\n    </tr>\n    <tr>\n      <th>Santa Ana la Real</th>\n      <td>9.0</td>\n      <td>3.0</td>\n      <td>4.0</td>\n      <td>475.0</td>\n      <td>631.578947</td>\n      <td>842.105263</td>\n      <td>0.0</td>\n    </tr>\n    <tr>\n      <th>Galaroza</th>\n      <td>27.0</td>\n      <td>8.0</td>\n      <td>11.0</td>\n      <td>1382.0</td>\n      <td>578.871201</td>\n      <td>795.947902</td>\n      <td>0.0</td>\n    </tr>\n    <tr>\n      <th>Rociana del Condado</th>\n      <td>497.0</td>\n      <td>22.0</td>\n      <td>55.0</td>\n      <td>7939.0</td>\n      <td>277.112987</td>\n      <td>692.782466</td>\n      <td>2.0</td>\n    </tr>\n    <tr>\n      <th>Beas</th>\n      <td>192.0</td>\n      <td>18.0</td>\n      <td>24.0</td>\n      <td>4341.0</td>\n      <td>414.651002</td>\n      <td>552.868003</td>\n      <td>7.0</td>\n    </tr>\n    <tr>\n      <th>Cartaya</th>\n      <td>1253.0</td>\n      <td>30.0</td>\n      <td>96.0</td>\n      <td>20083.0</td>\n      <td>149.380073</td>\n      <td>478.016233</td>\n      <td>2.0</td>\n    </tr>\n    <tr>\n      <th>Bollullos Par del Condado</th>\n      <td>786.0</td>\n      <td>35.0</td>\n      <td>61.0</td>\n      <td>14387.0</td>\n      <td>243.275179</td>\n      <td>423.993883</td>\n      <td>5.0</td>\n    </tr>\n    <tr>\n      <th>Condado-Campiña</th>\n      <td>8803.0</td>\n      <td>321.0</td>\n      <td>645.0</td>\n      <td>156231.0</td>\n      <td>205.464985</td>\n      <td>412.850203</td>\n      <td>66.0</td>\n    </tr>\n    <tr>\n      <th>Moguer</th>\n      <td>1072.0</td>\n      <td>45.0</td>\n      <td>88.0</td>\n      <td>21867.0</td>\n      <td>205.789546</td>\n      <td>402.432890</td>\n      <td>10.0</td>\n    </tr>\n    <tr>\n      <th>Bonares</th>\n      <td>244.0</td>\n      <td>15.0</td>\n      <td>24.0</td>\n      <td>6060.0</td>\n      <td>247.524752</td>\n      <td>396.039604</td>\n      <td>3.0</td>\n    </tr>\n    <tr>\n      <th>San Juan del Puerto</th>\n      <td>440.0</td>\n      <td>18.0</td>\n      <td>34.0</td>\n      <td>9411.0</td>\n      <td>191.265540</td>\n      <td>361.279354</td>\n      <td>2.0</td>\n    </tr>\n    <tr>\n      <th>Almonaster la Real</th>\n      <td>63.0</td>\n      <td>1.0</td>\n      <td>6.0</td>\n      <td>1788.0</td>\n      <td>55.928412</td>\n      <td>335.570470</td>\n      <td>0.0</td>\n    </tr>\n    <tr>\n      <th>Cortelazor</th>\n      <td>5.0</td>\n      <td>1.0</td>\n      <td>1.0</td>\n      <td>299.0</td>\n      <td>334.448161</td>\n      <td>334.448161</td>\n      <td>0.0</td>\n    </tr>\n    <tr>\n      <th>Villarrasa</th>\n      <td>147.0</td>\n      <td>1.0</td>\n      <td>7.0</td>\n      <td>2211.0</td>\n      <td>45.228403</td>\n      <td>316.598824</td>\n      <td>0.0</td>\n    </tr>\n    <tr>\n      <th>Huelva</th>\n      <td>28202.0</td>\n      <td>594.0</td>\n      <td>1260.0</td>\n      <td>513170.0</td>\n      <td>115.751116</td>\n      <td>245.532669</td>\n      <td>122.0</td>\n    </tr>\n    <tr>\n      <th>Palos de la Frontera</th>\n      <td>573.0</td>\n      <td>13.0</td>\n      <td>28.0</td>\n      <td>11742.0</td>\n      <td>110.713677</td>\n      <td>238.460228</td>\n      <td>3.0</td>\n    </tr>\n    <tr>\n      <th>Minas de Riotinto</th>\n      <td>111.0</td>\n      <td>4.0</td>\n      <td>9.0</td>\n      <td>3812.0</td>\n      <td>104.931794</td>\n      <td>236.096537</td>\n      <td>0.0</td>\n    </tr>\n    <tr>\n      <th>Huelva (capital)</th>\n      <td>7311.0</td>\n      <td>112.0</td>\n      <td>287.0</td>\n      <td>143837.0</td>\n      <td>77.865918</td>\n      <td>199.531414</td>\n      <td>30.0</td>\n    </tr>\n    <tr>\n      <th>Niebla</th>\n      <td>192.0</td>\n      <td>3.0</td>\n      <td>8.0</td>\n      <td>4116.0</td>\n      <td>72.886297</td>\n      <td>194.363460</td>\n      <td>0.0</td>\n    </tr>\n    <tr>\n      <th>Aracena</th>\n      <td>506.0</td>\n      <td>7.0</td>\n      <td>16.0</td>\n      <td>8255.0</td>\n      <td>84.797093</td>\n      <td>193.821926</td>\n      <td>0.0</td>\n    </tr>\n    <tr>\n      <th>Gibraleón</th>\n      <td>581.0</td>\n      <td>11.0</td>\n      <td>24.0</td>\n      <td>12737.0</td>\n      <td>86.362566</td>\n      <td>188.427416</td>\n      <td>0.0</td>\n    </tr>\n    <tr>\n      <th>Sierra de Huelva-Andévalo Central</th>\n      <td>2514.0</td>\n      <td>65.0</td>\n      <td>113.0</td>\n      <td>67391.0</td>\n      <td>96.452048</td>\n      <td>167.678177</td>\n      <td>5.0</td>\n    </tr>\n    <tr>\n      <th>Huelva-Costa</th>\n      <td>16488.0</td>\n      <td>203.0</td>\n      <td>485.0</td>\n      <td>289548.0</td>\n      <td>70.109274</td>\n      <td>167.502452</td>\n      <td>51.0</td>\n    </tr>\n    <tr>\n      <th>Trigueros</th>\n      <td>262.0</td>\n      <td>9.0</td>\n      <td>13.0</td>\n      <td>7862.0</td>\n      <td>114.474688</td>\n      <td>165.352328</td>\n      <td>2.0</td>\n    </tr>\n    <tr>\n      <th>San Silvestre de Guzmán</th>\n      <td>15.0</td>\n      <td>1.0</td>\n      <td>1.0</td>\n      <td>614.0</td>\n      <td>162.866450</td>\n      <td>162.866450</td>\n      <td>0.0</td>\n    </tr>\n    <tr>\n      <th>Palma del Condado (La)</th>\n      <td>1029.0</td>\n      <td>6.0</td>\n      <td>17.0</td>\n      <td>10801.0</td>\n      <td>55.550412</td>\n      <td>157.392834</td>\n      <td>1.0</td>\n    </tr>\n    <tr>\n      <th>Valverde del Camino</th>\n      <td>465.0</td>\n      <td>11.0</td>\n      <td>19.0</td>\n      <td>12750.0</td>\n      <td>86.274510</td>\n      <td>149.019608</td>\n      <td>1.0</td>\n    </tr>\n    <tr>\n      <th>Punta Umbría</th>\n      <td>705.0</td>\n      <td>15.0</td>\n      <td>21.0</td>\n      <td>15355.0</td>\n      <td>97.688049</td>\n      <td>136.763269</td>\n      <td>7.0</td>\n    </tr>\n    <tr>\n      <th>Isla Cristina</th>\n      <td>2047.0</td>\n      <td>18.0</td>\n      <td>25.0</td>\n      <td>21393.0</td>\n      <td>84.139672</td>\n      <td>116.860655</td>\n      <td>7.0</td>\n    </tr>\n    <tr>\n      <th>Cortegana</th>\n      <td>197.0</td>\n      <td>5.0</td>\n      <td>5.0</td>\n      <td>4602.0</td>\n      <td>108.648414</td>\n      <td>108.648414</td>\n      <td>3.0</td>\n    </tr>\n    <tr>\n      <th>Aroche</th>\n      <td>89.0</td>\n      <td>2.0</td>\n      <td>3.0</td>\n      <td>3054.0</td>\n      <td>65.487885</td>\n      <td>98.231827</td>\n      <td>0.0</td>\n    </tr>\n    <tr>\n      <th>Aljaraque</th>\n      <td>991.0</td>\n      <td>8.0</td>\n      <td>18.0</td>\n      <td>21474.0</td>\n      <td>37.254354</td>\n      <td>83.822297</td>\n      <td>0.0</td>\n    </tr>\n    <tr>\n      <th>Lepe</th>\n      <td>2073.0</td>\n      <td>12.0</td>\n      <td>22.0</td>\n      <td>27880.0</td>\n      <td>43.041607</td>\n      <td>78.909613</td>\n      <td>4.0</td>\n    </tr>\n    <tr>\n      <th>Encinasola</th>\n      <td>117.0</td>\n      <td>1.0</td>\n      <td>1.0</td>\n      <td>1310.0</td>\n      <td>76.335878</td>\n      <td>76.335878</td>\n      <td>0.0</td>\n    </tr>\n    <tr>\n      <th>Rosal de la Frontera</th>\n      <td>26.0</td>\n      <td>1.0</td>\n      <td>1.0</td>\n      <td>1697.0</td>\n      <td>58.927519</td>\n      <td>58.927519</td>\n      <td>NaN</td>\n    </tr>\n    <tr>\n      <th>Ayamonte</th>\n      <td>1267.0</td>\n      <td>6.0</td>\n      <td>10.0</td>\n      <td>21104.0</td>\n      <td>28.430629</td>\n      <td>47.384382</td>\n      <td>0.0</td>\n    </tr>\n    <tr>\n      <th>Villablanca</th>\n      <td>179.0</td>\n      <td>1.0</td>\n      <td>1.0</td>\n      <td>2885.0</td>\n      <td>34.662045</td>\n      <td>34.662045</td>\n      <td>NaN</td>\n    </tr>\n  </tbody>\n</table>\n</div>"
     },
     "metadata": {},
     "execution_count": 17
    }
   ],
   "source": [
    "tabla.sort_values('tasa14', ascending=False)"
   ]
  },
  {
   "cell_type": "code",
   "execution_count": 18,
   "metadata": {},
   "outputs": [
    {
     "output_type": "execute_result",
     "data": {
      "text/plain": [
       "Medida                             Confirmados PDIA  Confirmados PDIA 7 días  \\\n",
       "Lugar de residencia                                                            \n",
       "Villarrasa                                    147.0                      1.0   \n",
       "Almonaster la Real                             63.0                      1.0   \n",
       "Cartaya                                      1253.0                     30.0   \n",
       "Palma del Condado (La)                       1029.0                      6.0   \n",
       "Niebla                                        192.0                      3.0   \n",
       "Huelva (capital)                             7311.0                    112.0   \n",
       "Rociana del Condado                           497.0                     22.0   \n",
       "Huelva-Costa                                16488.0                    203.0   \n",
       "Aracena                                       506.0                      7.0   \n",
       "Aljaraque                                     991.0                      8.0   \n",
       "Minas de Riotinto                             111.0                      4.0   \n",
       "Almonte                                      1468.0                    100.0   \n",
       "Gibraleón                                     581.0                     11.0   \n",
       "Palos de la Frontera                          573.0                     13.0   \n",
       "Huelva                                      28202.0                    594.0   \n",
       "Condado-Campiña                              8803.0                    321.0   \n",
       "Moguer                                       1072.0                     45.0   \n",
       "San Juan del Puerto                           440.0                     18.0   \n",
       "Lepe                                         2073.0                     12.0   \n",
       "Bollullos Par del Condado                     786.0                     35.0   \n",
       "Sierra de Huelva-Andévalo Central            2514.0                     65.0   \n",
       "Valverde del Camino                           465.0                     11.0   \n",
       "Ayamonte                                     1267.0                      6.0   \n",
       "Bonares                                       244.0                     15.0   \n",
       "Aroche                                         89.0                      2.0   \n",
       "Trigueros                                     262.0                      9.0   \n",
       "Cumbres Mayores                                48.0                     16.0   \n",
       "Punta Umbría                                  705.0                     15.0   \n",
       "Isla Cristina                                2047.0                     18.0   \n",
       "Galaroza                                       27.0                      8.0   \n",
       "Santa Ana la Real                               9.0                      3.0   \n",
       "Beas                                          192.0                     18.0   \n",
       "Lucena del Puerto                             216.0                     25.0   \n",
       "Cortegana                                     197.0                      5.0   \n",
       "San Silvestre de Guzmán                        15.0                      1.0   \n",
       "Cortelazor                                      5.0                      1.0   \n",
       "Cumbres de San Bartolomé                       10.0                      5.0   \n",
       "Encinasola                                    117.0                      1.0   \n",
       "Rosal de la Frontera                           26.0                      1.0   \n",
       "Villablanca                                   179.0                      1.0   \n",
       "\n",
       "Medida                             Confirmados PDIA 14 días  Población  \\\n",
       "Lugar de residencia                                                      \n",
       "Villarrasa                                              7.0     2211.0   \n",
       "Almonaster la Real                                      6.0     1788.0   \n",
       "Cartaya                                                96.0    20083.0   \n",
       "Palma del Condado (La)                                 17.0    10801.0   \n",
       "Niebla                                                  8.0     4116.0   \n",
       "Huelva (capital)                                      287.0   143837.0   \n",
       "Rociana del Condado                                    55.0     7939.0   \n",
       "Huelva-Costa                                          485.0   289548.0   \n",
       "Aracena                                                16.0     8255.0   \n",
       "Aljaraque                                              18.0    21474.0   \n",
       "Minas de Riotinto                                       9.0     3812.0   \n",
       "Almonte                                               220.0    24507.0   \n",
       "Gibraleón                                              24.0    12737.0   \n",
       "Palos de la Frontera                                   28.0    11742.0   \n",
       "Huelva                                               1260.0   513170.0   \n",
       "Condado-Campiña                                       645.0   156231.0   \n",
       "Moguer                                                 88.0    21867.0   \n",
       "San Juan del Puerto                                    34.0     9411.0   \n",
       "Lepe                                                   22.0    27880.0   \n",
       "Bollullos Par del Condado                              61.0    14387.0   \n",
       "Sierra de Huelva-Andévalo Central                     113.0    67391.0   \n",
       "Valverde del Camino                                    19.0    12750.0   \n",
       "Ayamonte                                               10.0    21104.0   \n",
       "Bonares                                                24.0     6060.0   \n",
       "Aroche                                                  3.0     3054.0   \n",
       "Trigueros                                              13.0     7862.0   \n",
       "Cumbres Mayores                                        23.0     1749.0   \n",
       "Punta Umbría                                           21.0    15355.0   \n",
       "Isla Cristina                                          25.0    21393.0   \n",
       "Galaroza                                               11.0     1382.0   \n",
       "Santa Ana la Real                                       4.0      475.0   \n",
       "Beas                                                   24.0     4341.0   \n",
       "Lucena del Puerto                                      32.0     3261.0   \n",
       "Cortegana                                               5.0     4602.0   \n",
       "San Silvestre de Guzmán                                 1.0      614.0   \n",
       "Cortelazor                                              1.0      299.0   \n",
       "Cumbres de San Bartolomé                                5.0      376.0   \n",
       "Encinasola                                              1.0     1310.0   \n",
       "Rosal de la Frontera                                    1.0     1697.0   \n",
       "Villablanca                                             1.0     2885.0   \n",
       "\n",
       "Medida                                   tasa7       tasa14  Diferencia PDIA  \\\n",
       "Lugar de residencia                                                            \n",
       "Villarrasa                           45.228403   316.598824              0.0   \n",
       "Almonaster la Real                   55.928412   335.570470              0.0   \n",
       "Cartaya                             149.380073   478.016233              2.0   \n",
       "Palma del Condado (La)               55.550412   157.392834              1.0   \n",
       "Niebla                               72.886297   194.363460              0.0   \n",
       "Huelva (capital)                     77.865918   199.531414             30.0   \n",
       "Rociana del Condado                 277.112987   692.782466              2.0   \n",
       "Huelva-Costa                         70.109274   167.502452             51.0   \n",
       "Aracena                              84.797093   193.821926              0.0   \n",
       "Aljaraque                            37.254354    83.822297              0.0   \n",
       "Minas de Riotinto                   104.931794   236.096537              0.0   \n",
       "Almonte                             408.046681   897.702697             23.0   \n",
       "Gibraleón                            86.362566   188.427416              0.0   \n",
       "Palos de la Frontera                110.713677   238.460228              3.0   \n",
       "Huelva                              115.751116   245.532669            122.0   \n",
       "Condado-Campiña                     205.464985   412.850203             66.0   \n",
       "Moguer                              205.789546   402.432890             10.0   \n",
       "San Juan del Puerto                 191.265540   361.279354              2.0   \n",
       "Lepe                                 43.041607    78.909613              4.0   \n",
       "Bollullos Par del Condado           243.275179   423.993883              5.0   \n",
       "Sierra de Huelva-Andévalo Central    96.452048   167.678177              5.0   \n",
       "Valverde del Camino                  86.274510   149.019608              1.0   \n",
       "Ayamonte                             28.430629    47.384382              0.0   \n",
       "Bonares                             247.524752   396.039604              3.0   \n",
       "Aroche                               65.487885    98.231827              0.0   \n",
       "Trigueros                           114.474688   165.352328              2.0   \n",
       "Cumbres Mayores                     914.808462  1315.037164              0.0   \n",
       "Punta Umbría                         97.688049   136.763269              7.0   \n",
       "Isla Cristina                        84.139672   116.860655              7.0   \n",
       "Galaroza                            578.871201   795.947902              0.0   \n",
       "Santa Ana la Real                   631.578947   842.105263              0.0   \n",
       "Beas                                414.651002   552.868003              7.0   \n",
       "Lucena del Puerto                   766.636001   981.294082              9.0   \n",
       "Cortegana                           108.648414   108.648414              3.0   \n",
       "San Silvestre de Guzmán             162.866450   162.866450              0.0   \n",
       "Cortelazor                          334.448161   334.448161              0.0   \n",
       "Cumbres de San Bartolomé           1329.787234  1329.787234              0.0   \n",
       "Encinasola                           76.335878    76.335878              0.0   \n",
       "Rosal de la Frontera                 58.927519    58.927519              0.0   \n",
       "Villablanca                          34.662045    34.662045              0.0   \n",
       "\n",
       "Medida                                 7/14  \n",
       "Lugar de residencia                          \n",
       "Villarrasa                         0.142857  \n",
       "Almonaster la Real                 0.166667  \n",
       "Cartaya                            0.312500  \n",
       "Palma del Condado (La)             0.352941  \n",
       "Niebla                             0.375000  \n",
       "Huelva (capital)                   0.390244  \n",
       "Rociana del Condado                0.400000  \n",
       "Huelva-Costa                       0.418557  \n",
       "Aracena                            0.437500  \n",
       "Aljaraque                          0.444444  \n",
       "Minas de Riotinto                  0.444444  \n",
       "Almonte                            0.454545  \n",
       "Gibraleón                          0.458333  \n",
       "Palos de la Frontera               0.464286  \n",
       "Huelva                             0.471429  \n",
       "Condado-Campiña                    0.497674  \n",
       "Moguer                             0.511364  \n",
       "San Juan del Puerto                0.529412  \n",
       "Lepe                               0.545455  \n",
       "Bollullos Par del Condado          0.573770  \n",
       "Sierra de Huelva-Andévalo Central  0.575221  \n",
       "Valverde del Camino                0.578947  \n",
       "Ayamonte                           0.600000  \n",
       "Bonares                            0.625000  \n",
       "Aroche                             0.666667  \n",
       "Trigueros                          0.692308  \n",
       "Cumbres Mayores                    0.695652  \n",
       "Punta Umbría                       0.714286  \n",
       "Isla Cristina                      0.720000  \n",
       "Galaroza                           0.727273  \n",
       "Santa Ana la Real                  0.750000  \n",
       "Beas                               0.750000  \n",
       "Lucena del Puerto                  0.781250  \n",
       "Cortegana                          1.000000  \n",
       "San Silvestre de Guzmán            1.000000  \n",
       "Cortelazor                         1.000000  \n",
       "Cumbres de San Bartolomé           1.000000  \n",
       "Encinasola                         1.000000  \n",
       "Rosal de la Frontera               1.000000  \n",
       "Villablanca                        1.000000  "
      ],
      "text/html": "<div>\n<style scoped>\n    .dataframe tbody tr th:only-of-type {\n        vertical-align: middle;\n    }\n\n    .dataframe tbody tr th {\n        vertical-align: top;\n    }\n\n    .dataframe thead th {\n        text-align: right;\n    }\n</style>\n<table border=\"1\" class=\"dataframe\">\n  <thead>\n    <tr style=\"text-align: right;\">\n      <th>Medida</th>\n      <th>Confirmados PDIA</th>\n      <th>Confirmados PDIA 7 días</th>\n      <th>Confirmados PDIA 14 días</th>\n      <th>Población</th>\n      <th>tasa7</th>\n      <th>tasa14</th>\n      <th>Diferencia PDIA</th>\n      <th>7/14</th>\n    </tr>\n    <tr>\n      <th>Lugar de residencia</th>\n      <th></th>\n      <th></th>\n      <th></th>\n      <th></th>\n      <th></th>\n      <th></th>\n      <th></th>\n      <th></th>\n    </tr>\n  </thead>\n  <tbody>\n    <tr>\n      <th>Villarrasa</th>\n      <td>147.0</td>\n      <td>1.0</td>\n      <td>7.0</td>\n      <td>2211.0</td>\n      <td>45.228403</td>\n      <td>316.598824</td>\n      <td>0.0</td>\n      <td>0.142857</td>\n    </tr>\n    <tr>\n      <th>Almonaster la Real</th>\n      <td>63.0</td>\n      <td>1.0</td>\n      <td>6.0</td>\n      <td>1788.0</td>\n      <td>55.928412</td>\n      <td>335.570470</td>\n      <td>0.0</td>\n      <td>0.166667</td>\n    </tr>\n    <tr>\n      <th>Cartaya</th>\n      <td>1253.0</td>\n      <td>30.0</td>\n      <td>96.0</td>\n      <td>20083.0</td>\n      <td>149.380073</td>\n      <td>478.016233</td>\n      <td>2.0</td>\n      <td>0.312500</td>\n    </tr>\n    <tr>\n      <th>Palma del Condado (La)</th>\n      <td>1029.0</td>\n      <td>6.0</td>\n      <td>17.0</td>\n      <td>10801.0</td>\n      <td>55.550412</td>\n      <td>157.392834</td>\n      <td>1.0</td>\n      <td>0.352941</td>\n    </tr>\n    <tr>\n      <th>Niebla</th>\n      <td>192.0</td>\n      <td>3.0</td>\n      <td>8.0</td>\n      <td>4116.0</td>\n      <td>72.886297</td>\n      <td>194.363460</td>\n      <td>0.0</td>\n      <td>0.375000</td>\n    </tr>\n    <tr>\n      <th>Huelva (capital)</th>\n      <td>7311.0</td>\n      <td>112.0</td>\n      <td>287.0</td>\n      <td>143837.0</td>\n      <td>77.865918</td>\n      <td>199.531414</td>\n      <td>30.0</td>\n      <td>0.390244</td>\n    </tr>\n    <tr>\n      <th>Rociana del Condado</th>\n      <td>497.0</td>\n      <td>22.0</td>\n      <td>55.0</td>\n      <td>7939.0</td>\n      <td>277.112987</td>\n      <td>692.782466</td>\n      <td>2.0</td>\n      <td>0.400000</td>\n    </tr>\n    <tr>\n      <th>Huelva-Costa</th>\n      <td>16488.0</td>\n      <td>203.0</td>\n      <td>485.0</td>\n      <td>289548.0</td>\n      <td>70.109274</td>\n      <td>167.502452</td>\n      <td>51.0</td>\n      <td>0.418557</td>\n    </tr>\n    <tr>\n      <th>Aracena</th>\n      <td>506.0</td>\n      <td>7.0</td>\n      <td>16.0</td>\n      <td>8255.0</td>\n      <td>84.797093</td>\n      <td>193.821926</td>\n      <td>0.0</td>\n      <td>0.437500</td>\n    </tr>\n    <tr>\n      <th>Aljaraque</th>\n      <td>991.0</td>\n      <td>8.0</td>\n      <td>18.0</td>\n      <td>21474.0</td>\n      <td>37.254354</td>\n      <td>83.822297</td>\n      <td>0.0</td>\n      <td>0.444444</td>\n    </tr>\n    <tr>\n      <th>Minas de Riotinto</th>\n      <td>111.0</td>\n      <td>4.0</td>\n      <td>9.0</td>\n      <td>3812.0</td>\n      <td>104.931794</td>\n      <td>236.096537</td>\n      <td>0.0</td>\n      <td>0.444444</td>\n    </tr>\n    <tr>\n      <th>Almonte</th>\n      <td>1468.0</td>\n      <td>100.0</td>\n      <td>220.0</td>\n      <td>24507.0</td>\n      <td>408.046681</td>\n      <td>897.702697</td>\n      <td>23.0</td>\n      <td>0.454545</td>\n    </tr>\n    <tr>\n      <th>Gibraleón</th>\n      <td>581.0</td>\n      <td>11.0</td>\n      <td>24.0</td>\n      <td>12737.0</td>\n      <td>86.362566</td>\n      <td>188.427416</td>\n      <td>0.0</td>\n      <td>0.458333</td>\n    </tr>\n    <tr>\n      <th>Palos de la Frontera</th>\n      <td>573.0</td>\n      <td>13.0</td>\n      <td>28.0</td>\n      <td>11742.0</td>\n      <td>110.713677</td>\n      <td>238.460228</td>\n      <td>3.0</td>\n      <td>0.464286</td>\n    </tr>\n    <tr>\n      <th>Huelva</th>\n      <td>28202.0</td>\n      <td>594.0</td>\n      <td>1260.0</td>\n      <td>513170.0</td>\n      <td>115.751116</td>\n      <td>245.532669</td>\n      <td>122.0</td>\n      <td>0.471429</td>\n    </tr>\n    <tr>\n      <th>Condado-Campiña</th>\n      <td>8803.0</td>\n      <td>321.0</td>\n      <td>645.0</td>\n      <td>156231.0</td>\n      <td>205.464985</td>\n      <td>412.850203</td>\n      <td>66.0</td>\n      <td>0.497674</td>\n    </tr>\n    <tr>\n      <th>Moguer</th>\n      <td>1072.0</td>\n      <td>45.0</td>\n      <td>88.0</td>\n      <td>21867.0</td>\n      <td>205.789546</td>\n      <td>402.432890</td>\n      <td>10.0</td>\n      <td>0.511364</td>\n    </tr>\n    <tr>\n      <th>San Juan del Puerto</th>\n      <td>440.0</td>\n      <td>18.0</td>\n      <td>34.0</td>\n      <td>9411.0</td>\n      <td>191.265540</td>\n      <td>361.279354</td>\n      <td>2.0</td>\n      <td>0.529412</td>\n    </tr>\n    <tr>\n      <th>Lepe</th>\n      <td>2073.0</td>\n      <td>12.0</td>\n      <td>22.0</td>\n      <td>27880.0</td>\n      <td>43.041607</td>\n      <td>78.909613</td>\n      <td>4.0</td>\n      <td>0.545455</td>\n    </tr>\n    <tr>\n      <th>Bollullos Par del Condado</th>\n      <td>786.0</td>\n      <td>35.0</td>\n      <td>61.0</td>\n      <td>14387.0</td>\n      <td>243.275179</td>\n      <td>423.993883</td>\n      <td>5.0</td>\n      <td>0.573770</td>\n    </tr>\n    <tr>\n      <th>Sierra de Huelva-Andévalo Central</th>\n      <td>2514.0</td>\n      <td>65.0</td>\n      <td>113.0</td>\n      <td>67391.0</td>\n      <td>96.452048</td>\n      <td>167.678177</td>\n      <td>5.0</td>\n      <td>0.575221</td>\n    </tr>\n    <tr>\n      <th>Valverde del Camino</th>\n      <td>465.0</td>\n      <td>11.0</td>\n      <td>19.0</td>\n      <td>12750.0</td>\n      <td>86.274510</td>\n      <td>149.019608</td>\n      <td>1.0</td>\n      <td>0.578947</td>\n    </tr>\n    <tr>\n      <th>Ayamonte</th>\n      <td>1267.0</td>\n      <td>6.0</td>\n      <td>10.0</td>\n      <td>21104.0</td>\n      <td>28.430629</td>\n      <td>47.384382</td>\n      <td>0.0</td>\n      <td>0.600000</td>\n    </tr>\n    <tr>\n      <th>Bonares</th>\n      <td>244.0</td>\n      <td>15.0</td>\n      <td>24.0</td>\n      <td>6060.0</td>\n      <td>247.524752</td>\n      <td>396.039604</td>\n      <td>3.0</td>\n      <td>0.625000</td>\n    </tr>\n    <tr>\n      <th>Aroche</th>\n      <td>89.0</td>\n      <td>2.0</td>\n      <td>3.0</td>\n      <td>3054.0</td>\n      <td>65.487885</td>\n      <td>98.231827</td>\n      <td>0.0</td>\n      <td>0.666667</td>\n    </tr>\n    <tr>\n      <th>Trigueros</th>\n      <td>262.0</td>\n      <td>9.0</td>\n      <td>13.0</td>\n      <td>7862.0</td>\n      <td>114.474688</td>\n      <td>165.352328</td>\n      <td>2.0</td>\n      <td>0.692308</td>\n    </tr>\n    <tr>\n      <th>Cumbres Mayores</th>\n      <td>48.0</td>\n      <td>16.0</td>\n      <td>23.0</td>\n      <td>1749.0</td>\n      <td>914.808462</td>\n      <td>1315.037164</td>\n      <td>0.0</td>\n      <td>0.695652</td>\n    </tr>\n    <tr>\n      <th>Punta Umbría</th>\n      <td>705.0</td>\n      <td>15.0</td>\n      <td>21.0</td>\n      <td>15355.0</td>\n      <td>97.688049</td>\n      <td>136.763269</td>\n      <td>7.0</td>\n      <td>0.714286</td>\n    </tr>\n    <tr>\n      <th>Isla Cristina</th>\n      <td>2047.0</td>\n      <td>18.0</td>\n      <td>25.0</td>\n      <td>21393.0</td>\n      <td>84.139672</td>\n      <td>116.860655</td>\n      <td>7.0</td>\n      <td>0.720000</td>\n    </tr>\n    <tr>\n      <th>Galaroza</th>\n      <td>27.0</td>\n      <td>8.0</td>\n      <td>11.0</td>\n      <td>1382.0</td>\n      <td>578.871201</td>\n      <td>795.947902</td>\n      <td>0.0</td>\n      <td>0.727273</td>\n    </tr>\n    <tr>\n      <th>Santa Ana la Real</th>\n      <td>9.0</td>\n      <td>3.0</td>\n      <td>4.0</td>\n      <td>475.0</td>\n      <td>631.578947</td>\n      <td>842.105263</td>\n      <td>0.0</td>\n      <td>0.750000</td>\n    </tr>\n    <tr>\n      <th>Beas</th>\n      <td>192.0</td>\n      <td>18.0</td>\n      <td>24.0</td>\n      <td>4341.0</td>\n      <td>414.651002</td>\n      <td>552.868003</td>\n      <td>7.0</td>\n      <td>0.750000</td>\n    </tr>\n    <tr>\n      <th>Lucena del Puerto</th>\n      <td>216.0</td>\n      <td>25.0</td>\n      <td>32.0</td>\n      <td>3261.0</td>\n      <td>766.636001</td>\n      <td>981.294082</td>\n      <td>9.0</td>\n      <td>0.781250</td>\n    </tr>\n    <tr>\n      <th>Cortegana</th>\n      <td>197.0</td>\n      <td>5.0</td>\n      <td>5.0</td>\n      <td>4602.0</td>\n      <td>108.648414</td>\n      <td>108.648414</td>\n      <td>3.0</td>\n      <td>1.000000</td>\n    </tr>\n    <tr>\n      <th>San Silvestre de Guzmán</th>\n      <td>15.0</td>\n      <td>1.0</td>\n      <td>1.0</td>\n      <td>614.0</td>\n      <td>162.866450</td>\n      <td>162.866450</td>\n      <td>0.0</td>\n      <td>1.000000</td>\n    </tr>\n    <tr>\n      <th>Cortelazor</th>\n      <td>5.0</td>\n      <td>1.0</td>\n      <td>1.0</td>\n      <td>299.0</td>\n      <td>334.448161</td>\n      <td>334.448161</td>\n      <td>0.0</td>\n      <td>1.000000</td>\n    </tr>\n    <tr>\n      <th>Cumbres de San Bartolomé</th>\n      <td>10.0</td>\n      <td>5.0</td>\n      <td>5.0</td>\n      <td>376.0</td>\n      <td>1329.787234</td>\n      <td>1329.787234</td>\n      <td>0.0</td>\n      <td>1.000000</td>\n    </tr>\n    <tr>\n      <th>Encinasola</th>\n      <td>117.0</td>\n      <td>1.0</td>\n      <td>1.0</td>\n      <td>1310.0</td>\n      <td>76.335878</td>\n      <td>76.335878</td>\n      <td>0.0</td>\n      <td>1.000000</td>\n    </tr>\n    <tr>\n      <th>Rosal de la Frontera</th>\n      <td>26.0</td>\n      <td>1.0</td>\n      <td>1.0</td>\n      <td>1697.0</td>\n      <td>58.927519</td>\n      <td>58.927519</td>\n      <td>0.0</td>\n      <td>1.000000</td>\n    </tr>\n    <tr>\n      <th>Villablanca</th>\n      <td>179.0</td>\n      <td>1.0</td>\n      <td>1.0</td>\n      <td>2885.0</td>\n      <td>34.662045</td>\n      <td>34.662045</td>\n      <td>0.0</td>\n      <td>1.000000</td>\n    </tr>\n  </tbody>\n</table>\n</div>"
     },
     "metadata": {},
     "execution_count": 18
    }
   ],
   "source": [
    "# Peso de la tasa de la última semana en relación con la tasa a 14 días \n",
    "# Mejor cuanto menor. Valor 1 significa que no había casos antes de 7 días.\n",
    "tabla['7/14'] = tabla['tasa7'] / tabla['tasa14']\n",
    "tabla.fillna(0).sort_values('7/14', ascending=True)"
   ]
  },
  {
   "cell_type": "code",
   "execution_count": null,
   "metadata": {},
   "outputs": [],
   "source": []
  }
 ]
}