{
 "metadata": {
  "language_info": {
   "codemirror_mode": {
    "name": "ipython",
    "version": 3
   },
   "file_extension": ".py",
   "mimetype": "text/x-python",
   "name": "python",
   "nbconvert_exporter": "python",
   "pygments_lexer": "ipython3",
   "version": "3.6.9-final"
  },
  "orig_nbformat": 2,
  "kernelspec": {
   "name": "Python 3.6.9 64-bit",
   "display_name": "Python 3.6.9 64-bit",
   "metadata": {
    "interpreter": {
     "hash": "31f2aee4e71d21fbe5cf8b01ff0e069b9275f58929596ceb00d14d90e3e16cd6"
    }
   }
  }
 },
 "nbformat": 4,
 "nbformat_minor": 2,
 "cells": [
  {
   "cell_type": "code",
   "execution_count": 1,
   "metadata": {},
   "outputs": [],
   "source": [
    "import pandas as pd"
   ]
  },
  {
   "cell_type": "code",
   "execution_count": 2,
   "metadata": {},
   "outputs": [],
   "source": [
    "url = 'https://www.juntadeandalucia.es/institutodeestadisticaycartografia/badea/stpivot/stpivot/Print?cube=013d884c-cfc5-4c21-9e78-e26225682afd&type=3&foto=si&ejecutaDesde=&codConsulta=38668&consTipoVisua=JP'\n",
    "fields = ['Lugar de residencia', 'Medida', 'Valor']\n",
    "df = pd.read_csv(url, delimiter=';', usecols=fields, decimal=',')"
   ]
  },
  {
   "cell_type": "code",
   "execution_count": 3,
   "metadata": {},
   "outputs": [],
   "source": [
    "df['Valor'] = pd.to_numeric(df['Valor'],errors='coerce')"
   ]
  },
  {
   "cell_type": "code",
   "execution_count": 4,
   "metadata": {},
   "outputs": [],
   "source": [
    "dfAnterior = pd.read_csv('covid_huelva.csv', index_col='Lugar de residencia')"
   ]
  },
  {
   "cell_type": "code",
   "execution_count": 5,
   "metadata": {
    "tags": []
   },
   "outputs": [
    {
     "output_type": "stream",
     "name": "stdout",
     "text": "Confirmados PCR en la provincia de Huelva:  1379.0\n"
    }
   ],
   "source": [
    "# Confirmados PCR provincia Huelva\n",
    "p = df[df['Lugar de residencia'] == 'Huelva'][df['Medida'] == 'Confirmados PCR']['Valor'].values[0]\n",
    "print('Confirmados PCR en la provincia de Huelva: ', p)"
   ]
  },
  {
   "cell_type": "code",
   "execution_count": 6,
   "metadata": {
    "tags": []
   },
   "outputs": [
    {
     "output_type": "stream",
     "name": "stdout",
     "text": "Confirmados PCR en Huelva capital:  347.0\n"
    }
   ],
   "source": [
    "# Confirmados PCR Huelva capital\n",
    "c = df[df['Lugar de residencia'] == 'Huelva (capital)'][df['Medida'] == 'Confirmados PCR']['Valor'].values[0]\n",
    "print('Confirmados PCR en Huelva capital: ', c)"
   ]
  },
  {
   "cell_type": "code",
   "execution_count": 7,
   "metadata": {
    "tags": []
   },
   "outputs": [],
   "source": [
    "c7 = df[df['Lugar de residencia'] == 'Huelva (capital)'][df['Medida'] == 'Confirmados PCR 7 días']['Valor'].values[0]\n",
    "c14 = df[df['Lugar de residencia'] == 'Huelva (capital)'][df['Medida'] == 'Confirmados PCR 14 días']['Valor'].values[0]\n",
    "p = df[df['Lugar de residencia'] == 'Huelva (capital)'][df['Medida'] == 'Población']['Valor'].values[0]"
   ]
  },
  {
   "cell_type": "code",
   "execution_count": 8,
   "metadata": {
    "tags": []
   },
   "outputs": [
    {
     "output_type": "stream",
     "name": "stdout",
     "text": "Huelva (capital)\n\nUn positivo PCR cada 3504 personas en los últimos 7 días \n\nUn positivo PCR cada 1562 personas en los últimos 14 días\n"
    }
   ],
   "source": [
    "print('Huelva (capital)\\n')\n",
    "#print('Confirmados PCR 7 días x 1,000 habitantes: ', f\"{c7/(p/1000):.5f}\")\n",
    "print('Un positivo PCR cada', f\"{p/c7:.0f}\", 'personas en los últimos 7 días', '\\n')\n",
    "#print('Confirmados PCR 14 días x 1,000 habitantes: ', f\"{c14/(p/1000):.5f}\")\n",
    "print('Un positivo PCR cada', f\"{p/c14:.0f}\", 'personas en los últimos 14 días')"
   ]
  },
  {
   "cell_type": "code",
   "execution_count": 9,
   "metadata": {},
   "outputs": [],
   "source": [
    "filtro = ((df['Medida'] == 'Confirmados PCR')| (df['Medida'] == 'Confirmados PCR 7 días') | (df['Medida'] == 'Población' ) | (df['Medida'] == 'Confirmados PCR 14 días')) & (df['Valor'] > 0)\n",
    "tabla = pd.pivot_table(df.loc[filtro], values='Valor', index='Lugar de residencia', columns='Medida').dropna()"
   ]
  },
  {
   "cell_type": "code",
   "execution_count": 10,
   "metadata": {},
   "outputs": [],
   "source": [
    "# Reorder columns\n",
    "tabla = tabla[['Confirmados PCR', 'Confirmados PCR 7 días', 'Confirmados PCR 14 días', 'Población']]"
   ]
  },
  {
   "cell_type": "code",
   "execution_count": 11,
   "metadata": {},
   "outputs": [],
   "source": [
    "tabla['tasa7'] = tabla['Confirmados PCR 7 días']/tabla['Población']*100000\n",
    "tabla['tasa14'] = tabla['Confirmados PCR 14 días']/tabla['Población']*100000"
   ]
  },
  {
   "cell_type": "code",
   "execution_count": 12,
   "metadata": {},
   "outputs": [],
   "source": [
    "tabla['Diferencia PCR'] = tabla['Confirmados PCR'] - dfAnterior['Confirmados PCR']"
   ]
  },
  {
   "cell_type": "code",
   "execution_count": 13,
   "metadata": {},
   "outputs": [
    {
     "output_type": "execute_result",
     "data": {
      "text/plain": "Medida                             Confirmados PCR  Confirmados PCR 7 días  \\\nLugar de residencia                                                          \nHuelva                                      1379.0                   224.0   \nCondado-Campiña                              432.0                    84.0   \nHuelva-Costa                                 718.0                   102.0   \nSierra de Huelva-Andévalo Central            204.0                    35.0   \nBollullos Par del Condado                     78.0                    32.0   \nPalma del Condado (La)                        50.0                    14.0   \nHuelva (capital)                             347.0                    41.0   \nLepe                                          91.0                    17.0   \nPunta Umbría                                  34.0                    11.0   \nMoguer                                        40.0                    11.0   \nManzanilla                                    11.0                     7.0   \nJabugo                                         5.0                     1.0   \nCartaya                                       25.0                     4.0   \nTrigueros                                     35.0                     2.0   \nIsla Cristina                                 64.0                     6.0   \nRociana del Condado                            7.0                     2.0   \nPalos de la Frontera                          27.0                     3.0   \nAljaraque                                     70.0                     4.0   \nMinas de Riotinto                             17.0                     1.0   \nAlosno                                         6.0                     3.0   \nGibraleón                                     17.0                     1.0   \nBonares                                        5.0                     1.0   \nAyamonte                                      47.0                     9.0   \nAroche                                         9.0                     1.0   \nZalamea la Real                               21.0                     1.0   \nCampillo (El)                                 25.0                    23.0   \nCerro de Andévalo (El)                         3.0                     2.0   \nCortegana                                     10.0                     1.0   \nGranado (El)                                   2.0                     1.0   \nPaterna del Campo                             10.0                     3.0   \nSan Bartolomé de la Torre                      3.0                     1.0   \nValverde del Camino                           27.0                     1.0   \nVillablanca                                    3.0                     1.0   \nVillanueva de los Castillejos                  3.0                     1.0   \n\nMedida                             Confirmados PCR 14 días  Población  \\\nLugar de residencia                                                     \nHuelva                                               401.0   510743.0   \nCondado-Campiña                                      136.0   155057.0   \nHuelva-Costa                                         201.0   288115.0   \nSierra de Huelva-Andévalo Central                     56.0    67571.0   \nBollullos Par del Condado                             44.0    14272.0   \nPalma del Condado (La)                                19.0    10761.0   \nHuelva (capital)                                      92.0   143663.0   \nLepe                                                  26.0    27431.0   \nPunta Umbría                                          11.0    15242.0   \nMoguer                                                14.0    22088.0   \nManzanilla                                             7.0     2135.0   \nJabugo                                                 5.0     2250.0   \nCartaya                                                6.0    19974.0   \nTrigueros                                              6.0     7713.0   \nIsla Cristina                                         15.0    21264.0   \nRociana del Condado                                    3.0     7855.0   \nPalos de la Frontera                                   8.0    11289.0   \nAljaraque                                             17.0    21260.0   \nMinas de Riotinto                                      3.0     3848.0   \nAlosno                                                 3.0     3923.0   \nGibraleón                                              5.0    12607.0   \nBonares                                                4.0     6058.0   \nAyamonte                                              21.0    20946.0   \nAroche                                                 7.0     3073.0   \nZalamea la Real                                        2.0     3068.0   \nCampillo (El)                                         23.0     2023.0   \nCerro de Andévalo (El)                                 2.0     2364.0   \nCortegana                                              2.0     4666.0   \nGranado (El)                                           1.0      516.0   \nPaterna del Campo                                      3.0     3509.0   \nSan Bartolomé de la Torre                              1.0     3736.0   \nValverde del Camino                                    1.0    12820.0   \nVillablanca                                            1.0     2848.0   \nVillanueva de los Castillejos                          1.0     2820.0   \n\nMedida                                   tasa7       tasa14  Diferencia PCR  \nLugar de residencia                                                          \nHuelva                               43.857674    78.513068           117.0  \nCondado-Campiña                      54.173626    87.709681            47.0  \nHuelva-Costa                         35.402530    69.763810            34.0  \nSierra de Huelva-Andévalo Central    51.797369    82.875790            33.0  \nBollullos Par del Condado           224.215247   308.295964            16.0  \nPalma del Condado (La)              130.099433   176.563516            12.0  \nHuelva (capital)                     28.539011    64.038757            12.0  \nLepe                                 61.973679    94.783274             7.0  \nPunta Umbría                         72.169007    72.169007             5.0  \nMoguer                               49.800797    63.382832             5.0  \nManzanilla                          327.868852   327.868852             4.0  \nJabugo                               44.444444   222.222222             3.0  \nCartaya                              20.026034    30.039051             2.0  \nTrigueros                            25.930248    77.790743             2.0  \nIsla Cristina                        28.216704    70.541761             2.0  \nRociana del Condado                  25.461489    38.192234             1.0  \nPalos de la Frontera                 26.574542    70.865444             1.0  \nAljaraque                            18.814675    79.962371             1.0  \nMinas de Riotinto                    25.987526    77.962578             1.0  \nAlosno                               76.472088    76.472088             1.0  \nGibraleón                             7.932101    39.660506             1.0  \nBonares                              16.507098    66.028392             1.0  \nAyamonte                             42.967631   100.257806             1.0  \nAroche                               32.541490   227.790433             1.0  \nZalamea la Real                      32.594524    65.189048             1.0  \nCampillo (El)                      1136.925358  1136.925358             NaN  \nCerro de Andévalo (El)               84.602369    84.602369             NaN  \nCortegana                            21.431633    42.863266             NaN  \nGranado (El)                        193.798450   193.798450             NaN  \nPaterna del Campo                    85.494443    85.494443             NaN  \nSan Bartolomé de la Torre            26.766595    26.766595             NaN  \nValverde del Camino                   7.800312     7.800312             NaN  \nVillablanca                          35.112360    35.112360             NaN  \nVillanueva de los Castillejos        35.460993    35.460993             NaN  ",
      "text/html": "<div>\n<style scoped>\n    .dataframe tbody tr th:only-of-type {\n        vertical-align: middle;\n    }\n\n    .dataframe tbody tr th {\n        vertical-align: top;\n    }\n\n    .dataframe thead th {\n        text-align: right;\n    }\n</style>\n<table border=\"1\" class=\"dataframe\">\n  <thead>\n    <tr style=\"text-align: right;\">\n      <th>Medida</th>\n      <th>Confirmados PCR</th>\n      <th>Confirmados PCR 7 días</th>\n      <th>Confirmados PCR 14 días</th>\n      <th>Población</th>\n      <th>tasa7</th>\n      <th>tasa14</th>\n      <th>Diferencia PCR</th>\n    </tr>\n    <tr>\n      <th>Lugar de residencia</th>\n      <th></th>\n      <th></th>\n      <th></th>\n      <th></th>\n      <th></th>\n      <th></th>\n      <th></th>\n    </tr>\n  </thead>\n  <tbody>\n    <tr>\n      <th>Huelva</th>\n      <td>1379.0</td>\n      <td>224.0</td>\n      <td>401.0</td>\n      <td>510743.0</td>\n      <td>43.857674</td>\n      <td>78.513068</td>\n      <td>117.0</td>\n    </tr>\n    <tr>\n      <th>Condado-Campiña</th>\n      <td>432.0</td>\n      <td>84.0</td>\n      <td>136.0</td>\n      <td>155057.0</td>\n      <td>54.173626</td>\n      <td>87.709681</td>\n      <td>47.0</td>\n    </tr>\n    <tr>\n      <th>Huelva-Costa</th>\n      <td>718.0</td>\n      <td>102.0</td>\n      <td>201.0</td>\n      <td>288115.0</td>\n      <td>35.402530</td>\n      <td>69.763810</td>\n      <td>34.0</td>\n    </tr>\n    <tr>\n      <th>Sierra de Huelva-Andévalo Central</th>\n      <td>204.0</td>\n      <td>35.0</td>\n      <td>56.0</td>\n      <td>67571.0</td>\n      <td>51.797369</td>\n      <td>82.875790</td>\n      <td>33.0</td>\n    </tr>\n    <tr>\n      <th>Bollullos Par del Condado</th>\n      <td>78.0</td>\n      <td>32.0</td>\n      <td>44.0</td>\n      <td>14272.0</td>\n      <td>224.215247</td>\n      <td>308.295964</td>\n      <td>16.0</td>\n    </tr>\n    <tr>\n      <th>Palma del Condado (La)</th>\n      <td>50.0</td>\n      <td>14.0</td>\n      <td>19.0</td>\n      <td>10761.0</td>\n      <td>130.099433</td>\n      <td>176.563516</td>\n      <td>12.0</td>\n    </tr>\n    <tr>\n      <th>Huelva (capital)</th>\n      <td>347.0</td>\n      <td>41.0</td>\n      <td>92.0</td>\n      <td>143663.0</td>\n      <td>28.539011</td>\n      <td>64.038757</td>\n      <td>12.0</td>\n    </tr>\n    <tr>\n      <th>Lepe</th>\n      <td>91.0</td>\n      <td>17.0</td>\n      <td>26.0</td>\n      <td>27431.0</td>\n      <td>61.973679</td>\n      <td>94.783274</td>\n      <td>7.0</td>\n    </tr>\n    <tr>\n      <th>Punta Umbría</th>\n      <td>34.0</td>\n      <td>11.0</td>\n      <td>11.0</td>\n      <td>15242.0</td>\n      <td>72.169007</td>\n      <td>72.169007</td>\n      <td>5.0</td>\n    </tr>\n    <tr>\n      <th>Moguer</th>\n      <td>40.0</td>\n      <td>11.0</td>\n      <td>14.0</td>\n      <td>22088.0</td>\n      <td>49.800797</td>\n      <td>63.382832</td>\n      <td>5.0</td>\n    </tr>\n    <tr>\n      <th>Manzanilla</th>\n      <td>11.0</td>\n      <td>7.0</td>\n      <td>7.0</td>\n      <td>2135.0</td>\n      <td>327.868852</td>\n      <td>327.868852</td>\n      <td>4.0</td>\n    </tr>\n    <tr>\n      <th>Jabugo</th>\n      <td>5.0</td>\n      <td>1.0</td>\n      <td>5.0</td>\n      <td>2250.0</td>\n      <td>44.444444</td>\n      <td>222.222222</td>\n      <td>3.0</td>\n    </tr>\n    <tr>\n      <th>Cartaya</th>\n      <td>25.0</td>\n      <td>4.0</td>\n      <td>6.0</td>\n      <td>19974.0</td>\n      <td>20.026034</td>\n      <td>30.039051</td>\n      <td>2.0</td>\n    </tr>\n    <tr>\n      <th>Trigueros</th>\n      <td>35.0</td>\n      <td>2.0</td>\n      <td>6.0</td>\n      <td>7713.0</td>\n      <td>25.930248</td>\n      <td>77.790743</td>\n      <td>2.0</td>\n    </tr>\n    <tr>\n      <th>Isla Cristina</th>\n      <td>64.0</td>\n      <td>6.0</td>\n      <td>15.0</td>\n      <td>21264.0</td>\n      <td>28.216704</td>\n      <td>70.541761</td>\n      <td>2.0</td>\n    </tr>\n    <tr>\n      <th>Rociana del Condado</th>\n      <td>7.0</td>\n      <td>2.0</td>\n      <td>3.0</td>\n      <td>7855.0</td>\n      <td>25.461489</td>\n      <td>38.192234</td>\n      <td>1.0</td>\n    </tr>\n    <tr>\n      <th>Palos de la Frontera</th>\n      <td>27.0</td>\n      <td>3.0</td>\n      <td>8.0</td>\n      <td>11289.0</td>\n      <td>26.574542</td>\n      <td>70.865444</td>\n      <td>1.0</td>\n    </tr>\n    <tr>\n      <th>Aljaraque</th>\n      <td>70.0</td>\n      <td>4.0</td>\n      <td>17.0</td>\n      <td>21260.0</td>\n      <td>18.814675</td>\n      <td>79.962371</td>\n      <td>1.0</td>\n    </tr>\n    <tr>\n      <th>Minas de Riotinto</th>\n      <td>17.0</td>\n      <td>1.0</td>\n      <td>3.0</td>\n      <td>3848.0</td>\n      <td>25.987526</td>\n      <td>77.962578</td>\n      <td>1.0</td>\n    </tr>\n    <tr>\n      <th>Alosno</th>\n      <td>6.0</td>\n      <td>3.0</td>\n      <td>3.0</td>\n      <td>3923.0</td>\n      <td>76.472088</td>\n      <td>76.472088</td>\n      <td>1.0</td>\n    </tr>\n    <tr>\n      <th>Gibraleón</th>\n      <td>17.0</td>\n      <td>1.0</td>\n      <td>5.0</td>\n      <td>12607.0</td>\n      <td>7.932101</td>\n      <td>39.660506</td>\n      <td>1.0</td>\n    </tr>\n    <tr>\n      <th>Bonares</th>\n      <td>5.0</td>\n      <td>1.0</td>\n      <td>4.0</td>\n      <td>6058.0</td>\n      <td>16.507098</td>\n      <td>66.028392</td>\n      <td>1.0</td>\n    </tr>\n    <tr>\n      <th>Ayamonte</th>\n      <td>47.0</td>\n      <td>9.0</td>\n      <td>21.0</td>\n      <td>20946.0</td>\n      <td>42.967631</td>\n      <td>100.257806</td>\n      <td>1.0</td>\n    </tr>\n    <tr>\n      <th>Aroche</th>\n      <td>9.0</td>\n      <td>1.0</td>\n      <td>7.0</td>\n      <td>3073.0</td>\n      <td>32.541490</td>\n      <td>227.790433</td>\n      <td>1.0</td>\n    </tr>\n    <tr>\n      <th>Zalamea la Real</th>\n      <td>21.0</td>\n      <td>1.0</td>\n      <td>2.0</td>\n      <td>3068.0</td>\n      <td>32.594524</td>\n      <td>65.189048</td>\n      <td>1.0</td>\n    </tr>\n    <tr>\n      <th>Campillo (El)</th>\n      <td>25.0</td>\n      <td>23.0</td>\n      <td>23.0</td>\n      <td>2023.0</td>\n      <td>1136.925358</td>\n      <td>1136.925358</td>\n      <td>NaN</td>\n    </tr>\n    <tr>\n      <th>Cerro de Andévalo (El)</th>\n      <td>3.0</td>\n      <td>2.0</td>\n      <td>2.0</td>\n      <td>2364.0</td>\n      <td>84.602369</td>\n      <td>84.602369</td>\n      <td>NaN</td>\n    </tr>\n    <tr>\n      <th>Cortegana</th>\n      <td>10.0</td>\n      <td>1.0</td>\n      <td>2.0</td>\n      <td>4666.0</td>\n      <td>21.431633</td>\n      <td>42.863266</td>\n      <td>NaN</td>\n    </tr>\n    <tr>\n      <th>Granado (El)</th>\n      <td>2.0</td>\n      <td>1.0</td>\n      <td>1.0</td>\n      <td>516.0</td>\n      <td>193.798450</td>\n      <td>193.798450</td>\n      <td>NaN</td>\n    </tr>\n    <tr>\n      <th>Paterna del Campo</th>\n      <td>10.0</td>\n      <td>3.0</td>\n      <td>3.0</td>\n      <td>3509.0</td>\n      <td>85.494443</td>\n      <td>85.494443</td>\n      <td>NaN</td>\n    </tr>\n    <tr>\n      <th>San Bartolomé de la Torre</th>\n      <td>3.0</td>\n      <td>1.0</td>\n      <td>1.0</td>\n      <td>3736.0</td>\n      <td>26.766595</td>\n      <td>26.766595</td>\n      <td>NaN</td>\n    </tr>\n    <tr>\n      <th>Valverde del Camino</th>\n      <td>27.0</td>\n      <td>1.0</td>\n      <td>1.0</td>\n      <td>12820.0</td>\n      <td>7.800312</td>\n      <td>7.800312</td>\n      <td>NaN</td>\n    </tr>\n    <tr>\n      <th>Villablanca</th>\n      <td>3.0</td>\n      <td>1.0</td>\n      <td>1.0</td>\n      <td>2848.0</td>\n      <td>35.112360</td>\n      <td>35.112360</td>\n      <td>NaN</td>\n    </tr>\n    <tr>\n      <th>Villanueva de los Castillejos</th>\n      <td>3.0</td>\n      <td>1.0</td>\n      <td>1.0</td>\n      <td>2820.0</td>\n      <td>35.460993</td>\n      <td>35.460993</td>\n      <td>NaN</td>\n    </tr>\n  </tbody>\n</table>\n</div>"
     },
     "metadata": {},
     "execution_count": 13
    }
   ],
   "source": [
    "# Nuevos casos desde la última captura\n",
    "tabla[tabla['Diferencia PCR'] != 0].sort_values('Diferencia PCR', ascending=False)"
   ]
  },
  {
   "cell_type": "code",
   "execution_count": 14,
   "metadata": {},
   "outputs": [],
   "source": [
    "if tabla[tabla['Diferencia PCR'] != 0]['Diferencia PCR'].sum() > 0:\n",
    "  # Save to csv\n",
    "  tabla.to_csv('covid_huelva.csv', encoding='utf-8', header=True, index=True)  "
   ]
  },
  {
   "cell_type": "code",
   "execution_count": 15,
   "metadata": {},
   "outputs": [
    {
     "output_type": "execute_result",
     "data": {
      "text/plain": "Medida                             Confirmados PCR  Confirmados PCR 7 días  \\\nLugar de residencia                                                          \nCampillo (El)                                 25.0                    23.0   \nAlmendro (El)                                  4.0                     3.0   \nManzanilla                                    11.0                     7.0   \nBollullos Par del Condado                     78.0                    32.0   \nAroche                                         9.0                     1.0   \nJabugo                                         5.0                     1.0   \nGranado (El)                                   2.0                     1.0   \nPalma del Condado (La)                        50.0                    14.0   \nNerva                                         23.0                     3.0   \nAyamonte                                      47.0                     9.0   \nLepe                                          91.0                    17.0   \nVillarrasa                                     4.0                     1.0   \nCondado-Campiña                              432.0                    84.0   \nPaterna del Campo                             10.0                     3.0   \nCerro de Andévalo (El)                         3.0                     2.0   \nSierra de Huelva-Andévalo Central            204.0                    35.0   \nAljaraque                                     70.0                     4.0   \nHuelva                                      1379.0                   224.0   \nMinas de Riotinto                             17.0                     1.0   \nTrigueros                                     35.0                     2.0   \nAlosno                                         6.0                     3.0   \nPunta Umbría                                  34.0                    11.0   \nPalos de la Frontera                          27.0                     3.0   \nIsla Cristina                                 64.0                     6.0   \nHuelva-Costa                                 718.0                   102.0   \nBonares                                        5.0                     1.0   \nZalamea la Real                               21.0                     1.0   \nHuelva (capital)                             347.0                    41.0   \nMoguer                                        40.0                    11.0   \nCortegana                                     10.0                     1.0   \nGibraleón                                     17.0                     1.0   \nRociana del Condado                            7.0                     2.0   \nAlmonte                                       53.0                     4.0   \nVillanueva de los Castillejos                  3.0                     1.0   \nVillablanca                                    3.0                     1.0   \nPuebla de Guzmán                               5.0                     1.0   \nSan Juan del Puerto                           21.0                     2.0   \nCartaya                                       25.0                     4.0   \nSan Bartolomé de la Torre                      3.0                     1.0   \nAracena                                       47.0                     1.0   \nValverde del Camino                           27.0                     1.0   \n\nMedida                             Confirmados PCR 14 días  Población  \\\nLugar de residencia                                                     \nCampillo (El)                                         23.0     2023.0   \nAlmendro (El)                                          3.0      826.0   \nManzanilla                                             7.0     2135.0   \nBollullos Par del Condado                             44.0    14272.0   \nAroche                                                 7.0     3073.0   \nJabugo                                                 5.0     2250.0   \nGranado (El)                                           1.0      516.0   \nPalma del Condado (La)                                19.0    10761.0   \nNerva                                                  9.0     5235.0   \nAyamonte                                              21.0    20946.0   \nLepe                                                  26.0    27431.0   \nVillarrasa                                             2.0     2176.0   \nCondado-Campiña                                      136.0   155057.0   \nPaterna del Campo                                      3.0     3509.0   \nCerro de Andévalo (El)                                 2.0     2364.0   \nSierra de Huelva-Andévalo Central                     56.0    67571.0   \nAljaraque                                             17.0    21260.0   \nHuelva                                               401.0   510743.0   \nMinas de Riotinto                                      3.0     3848.0   \nTrigueros                                              6.0     7713.0   \nAlosno                                                 3.0     3923.0   \nPunta Umbría                                          11.0    15242.0   \nPalos de la Frontera                                   8.0    11289.0   \nIsla Cristina                                         15.0    21264.0   \nHuelva-Costa                                         201.0   288115.0   \nBonares                                                4.0     6058.0   \nZalamea la Real                                        2.0     3068.0   \nHuelva (capital)                                      92.0   143663.0   \nMoguer                                                14.0    22088.0   \nCortegana                                              2.0     4666.0   \nGibraleón                                              5.0    12607.0   \nRociana del Condado                                    3.0     7855.0   \nAlmonte                                                9.0    24191.0   \nVillanueva de los Castillejos                          1.0     2820.0   \nVillablanca                                            1.0     2848.0   \nPuebla de Guzmán                                       1.0     3073.0   \nSan Juan del Puerto                                    3.0     9300.0   \nCartaya                                                6.0    19974.0   \nSan Bartolomé de la Torre                              1.0     3736.0   \nAracena                                                2.0     8107.0   \nValverde del Camino                                    1.0    12820.0   \n\nMedida                                   tasa7       tasa14  Diferencia PCR  \nLugar de residencia                                                          \nCampillo (El)                      1136.925358  1136.925358             NaN  \nAlmendro (El)                       363.196126   363.196126             0.0  \nManzanilla                          327.868852   327.868852             4.0  \nBollullos Par del Condado           224.215247   308.295964            16.0  \nAroche                               32.541490   227.790433             1.0  \nJabugo                               44.444444   222.222222             3.0  \nGranado (El)                        193.798450   193.798450             NaN  \nPalma del Condado (La)              130.099433   176.563516            12.0  \nNerva                                57.306590   171.919771             0.0  \nAyamonte                             42.967631   100.257806             1.0  \nLepe                                 61.973679    94.783274             7.0  \nVillarrasa                           45.955882    91.911765             0.0  \nCondado-Campiña                      54.173626    87.709681            47.0  \nPaterna del Campo                    85.494443    85.494443             NaN  \nCerro de Andévalo (El)               84.602369    84.602369             NaN  \nSierra de Huelva-Andévalo Central    51.797369    82.875790            33.0  \nAljaraque                            18.814675    79.962371             1.0  \nHuelva                               43.857674    78.513068           117.0  \nMinas de Riotinto                    25.987526    77.962578             1.0  \nTrigueros                            25.930248    77.790743             2.0  \nAlosno                               76.472088    76.472088             1.0  \nPunta Umbría                         72.169007    72.169007             5.0  \nPalos de la Frontera                 26.574542    70.865444             1.0  \nIsla Cristina                        28.216704    70.541761             2.0  \nHuelva-Costa                         35.402530    69.763810            34.0  \nBonares                              16.507098    66.028392             1.0  \nZalamea la Real                      32.594524    65.189048             1.0  \nHuelva (capital)                     28.539011    64.038757            12.0  \nMoguer                               49.800797    63.382832             5.0  \nCortegana                            21.431633    42.863266             NaN  \nGibraleón                             7.932101    39.660506             1.0  \nRociana del Condado                  25.461489    38.192234             1.0  \nAlmonte                              16.535075    37.203919             0.0  \nVillanueva de los Castillejos        35.460993    35.460993             NaN  \nVillablanca                          35.112360    35.112360             NaN  \nPuebla de Guzmán                     32.541490    32.541490             0.0  \nSan Juan del Puerto                  21.505376    32.258065             0.0  \nCartaya                              20.026034    30.039051             2.0  \nSan Bartolomé de la Torre            26.766595    26.766595             NaN  \nAracena                              12.335019    24.670038             0.0  \nValverde del Camino                   7.800312     7.800312             NaN  ",
      "text/html": "<div>\n<style scoped>\n    .dataframe tbody tr th:only-of-type {\n        vertical-align: middle;\n    }\n\n    .dataframe tbody tr th {\n        vertical-align: top;\n    }\n\n    .dataframe thead th {\n        text-align: right;\n    }\n</style>\n<table border=\"1\" class=\"dataframe\">\n  <thead>\n    <tr style=\"text-align: right;\">\n      <th>Medida</th>\n      <th>Confirmados PCR</th>\n      <th>Confirmados PCR 7 días</th>\n      <th>Confirmados PCR 14 días</th>\n      <th>Población</th>\n      <th>tasa7</th>\n      <th>tasa14</th>\n      <th>Diferencia PCR</th>\n    </tr>\n    <tr>\n      <th>Lugar de residencia</th>\n      <th></th>\n      <th></th>\n      <th></th>\n      <th></th>\n      <th></th>\n      <th></th>\n      <th></th>\n    </tr>\n  </thead>\n  <tbody>\n    <tr>\n      <th>Campillo (El)</th>\n      <td>25.0</td>\n      <td>23.0</td>\n      <td>23.0</td>\n      <td>2023.0</td>\n      <td>1136.925358</td>\n      <td>1136.925358</td>\n      <td>NaN</td>\n    </tr>\n    <tr>\n      <th>Almendro (El)</th>\n      <td>4.0</td>\n      <td>3.0</td>\n      <td>3.0</td>\n      <td>826.0</td>\n      <td>363.196126</td>\n      <td>363.196126</td>\n      <td>0.0</td>\n    </tr>\n    <tr>\n      <th>Manzanilla</th>\n      <td>11.0</td>\n      <td>7.0</td>\n      <td>7.0</td>\n      <td>2135.0</td>\n      <td>327.868852</td>\n      <td>327.868852</td>\n      <td>4.0</td>\n    </tr>\n    <tr>\n      <th>Bollullos Par del Condado</th>\n      <td>78.0</td>\n      <td>32.0</td>\n      <td>44.0</td>\n      <td>14272.0</td>\n      <td>224.215247</td>\n      <td>308.295964</td>\n      <td>16.0</td>\n    </tr>\n    <tr>\n      <th>Aroche</th>\n      <td>9.0</td>\n      <td>1.0</td>\n      <td>7.0</td>\n      <td>3073.0</td>\n      <td>32.541490</td>\n      <td>227.790433</td>\n      <td>1.0</td>\n    </tr>\n    <tr>\n      <th>Jabugo</th>\n      <td>5.0</td>\n      <td>1.0</td>\n      <td>5.0</td>\n      <td>2250.0</td>\n      <td>44.444444</td>\n      <td>222.222222</td>\n      <td>3.0</td>\n    </tr>\n    <tr>\n      <th>Granado (El)</th>\n      <td>2.0</td>\n      <td>1.0</td>\n      <td>1.0</td>\n      <td>516.0</td>\n      <td>193.798450</td>\n      <td>193.798450</td>\n      <td>NaN</td>\n    </tr>\n    <tr>\n      <th>Palma del Condado (La)</th>\n      <td>50.0</td>\n      <td>14.0</td>\n      <td>19.0</td>\n      <td>10761.0</td>\n      <td>130.099433</td>\n      <td>176.563516</td>\n      <td>12.0</td>\n    </tr>\n    <tr>\n      <th>Nerva</th>\n      <td>23.0</td>\n      <td>3.0</td>\n      <td>9.0</td>\n      <td>5235.0</td>\n      <td>57.306590</td>\n      <td>171.919771</td>\n      <td>0.0</td>\n    </tr>\n    <tr>\n      <th>Ayamonte</th>\n      <td>47.0</td>\n      <td>9.0</td>\n      <td>21.0</td>\n      <td>20946.0</td>\n      <td>42.967631</td>\n      <td>100.257806</td>\n      <td>1.0</td>\n    </tr>\n    <tr>\n      <th>Lepe</th>\n      <td>91.0</td>\n      <td>17.0</td>\n      <td>26.0</td>\n      <td>27431.0</td>\n      <td>61.973679</td>\n      <td>94.783274</td>\n      <td>7.0</td>\n    </tr>\n    <tr>\n      <th>Villarrasa</th>\n      <td>4.0</td>\n      <td>1.0</td>\n      <td>2.0</td>\n      <td>2176.0</td>\n      <td>45.955882</td>\n      <td>91.911765</td>\n      <td>0.0</td>\n    </tr>\n    <tr>\n      <th>Condado-Campiña</th>\n      <td>432.0</td>\n      <td>84.0</td>\n      <td>136.0</td>\n      <td>155057.0</td>\n      <td>54.173626</td>\n      <td>87.709681</td>\n      <td>47.0</td>\n    </tr>\n    <tr>\n      <th>Paterna del Campo</th>\n      <td>10.0</td>\n      <td>3.0</td>\n      <td>3.0</td>\n      <td>3509.0</td>\n      <td>85.494443</td>\n      <td>85.494443</td>\n      <td>NaN</td>\n    </tr>\n    <tr>\n      <th>Cerro de Andévalo (El)</th>\n      <td>3.0</td>\n      <td>2.0</td>\n      <td>2.0</td>\n      <td>2364.0</td>\n      <td>84.602369</td>\n      <td>84.602369</td>\n      <td>NaN</td>\n    </tr>\n    <tr>\n      <th>Sierra de Huelva-Andévalo Central</th>\n      <td>204.0</td>\n      <td>35.0</td>\n      <td>56.0</td>\n      <td>67571.0</td>\n      <td>51.797369</td>\n      <td>82.875790</td>\n      <td>33.0</td>\n    </tr>\n    <tr>\n      <th>Aljaraque</th>\n      <td>70.0</td>\n      <td>4.0</td>\n      <td>17.0</td>\n      <td>21260.0</td>\n      <td>18.814675</td>\n      <td>79.962371</td>\n      <td>1.0</td>\n    </tr>\n    <tr>\n      <th>Huelva</th>\n      <td>1379.0</td>\n      <td>224.0</td>\n      <td>401.0</td>\n      <td>510743.0</td>\n      <td>43.857674</td>\n      <td>78.513068</td>\n      <td>117.0</td>\n    </tr>\n    <tr>\n      <th>Minas de Riotinto</th>\n      <td>17.0</td>\n      <td>1.0</td>\n      <td>3.0</td>\n      <td>3848.0</td>\n      <td>25.987526</td>\n      <td>77.962578</td>\n      <td>1.0</td>\n    </tr>\n    <tr>\n      <th>Trigueros</th>\n      <td>35.0</td>\n      <td>2.0</td>\n      <td>6.0</td>\n      <td>7713.0</td>\n      <td>25.930248</td>\n      <td>77.790743</td>\n      <td>2.0</td>\n    </tr>\n    <tr>\n      <th>Alosno</th>\n      <td>6.0</td>\n      <td>3.0</td>\n      <td>3.0</td>\n      <td>3923.0</td>\n      <td>76.472088</td>\n      <td>76.472088</td>\n      <td>1.0</td>\n    </tr>\n    <tr>\n      <th>Punta Umbría</th>\n      <td>34.0</td>\n      <td>11.0</td>\n      <td>11.0</td>\n      <td>15242.0</td>\n      <td>72.169007</td>\n      <td>72.169007</td>\n      <td>5.0</td>\n    </tr>\n    <tr>\n      <th>Palos de la Frontera</th>\n      <td>27.0</td>\n      <td>3.0</td>\n      <td>8.0</td>\n      <td>11289.0</td>\n      <td>26.574542</td>\n      <td>70.865444</td>\n      <td>1.0</td>\n    </tr>\n    <tr>\n      <th>Isla Cristina</th>\n      <td>64.0</td>\n      <td>6.0</td>\n      <td>15.0</td>\n      <td>21264.0</td>\n      <td>28.216704</td>\n      <td>70.541761</td>\n      <td>2.0</td>\n    </tr>\n    <tr>\n      <th>Huelva-Costa</th>\n      <td>718.0</td>\n      <td>102.0</td>\n      <td>201.0</td>\n      <td>288115.0</td>\n      <td>35.402530</td>\n      <td>69.763810</td>\n      <td>34.0</td>\n    </tr>\n    <tr>\n      <th>Bonares</th>\n      <td>5.0</td>\n      <td>1.0</td>\n      <td>4.0</td>\n      <td>6058.0</td>\n      <td>16.507098</td>\n      <td>66.028392</td>\n      <td>1.0</td>\n    </tr>\n    <tr>\n      <th>Zalamea la Real</th>\n      <td>21.0</td>\n      <td>1.0</td>\n      <td>2.0</td>\n      <td>3068.0</td>\n      <td>32.594524</td>\n      <td>65.189048</td>\n      <td>1.0</td>\n    </tr>\n    <tr>\n      <th>Huelva (capital)</th>\n      <td>347.0</td>\n      <td>41.0</td>\n      <td>92.0</td>\n      <td>143663.0</td>\n      <td>28.539011</td>\n      <td>64.038757</td>\n      <td>12.0</td>\n    </tr>\n    <tr>\n      <th>Moguer</th>\n      <td>40.0</td>\n      <td>11.0</td>\n      <td>14.0</td>\n      <td>22088.0</td>\n      <td>49.800797</td>\n      <td>63.382832</td>\n      <td>5.0</td>\n    </tr>\n    <tr>\n      <th>Cortegana</th>\n      <td>10.0</td>\n      <td>1.0</td>\n      <td>2.0</td>\n      <td>4666.0</td>\n      <td>21.431633</td>\n      <td>42.863266</td>\n      <td>NaN</td>\n    </tr>\n    <tr>\n      <th>Gibraleón</th>\n      <td>17.0</td>\n      <td>1.0</td>\n      <td>5.0</td>\n      <td>12607.0</td>\n      <td>7.932101</td>\n      <td>39.660506</td>\n      <td>1.0</td>\n    </tr>\n    <tr>\n      <th>Rociana del Condado</th>\n      <td>7.0</td>\n      <td>2.0</td>\n      <td>3.0</td>\n      <td>7855.0</td>\n      <td>25.461489</td>\n      <td>38.192234</td>\n      <td>1.0</td>\n    </tr>\n    <tr>\n      <th>Almonte</th>\n      <td>53.0</td>\n      <td>4.0</td>\n      <td>9.0</td>\n      <td>24191.0</td>\n      <td>16.535075</td>\n      <td>37.203919</td>\n      <td>0.0</td>\n    </tr>\n    <tr>\n      <th>Villanueva de los Castillejos</th>\n      <td>3.0</td>\n      <td>1.0</td>\n      <td>1.0</td>\n      <td>2820.0</td>\n      <td>35.460993</td>\n      <td>35.460993</td>\n      <td>NaN</td>\n    </tr>\n    <tr>\n      <th>Villablanca</th>\n      <td>3.0</td>\n      <td>1.0</td>\n      <td>1.0</td>\n      <td>2848.0</td>\n      <td>35.112360</td>\n      <td>35.112360</td>\n      <td>NaN</td>\n    </tr>\n    <tr>\n      <th>Puebla de Guzmán</th>\n      <td>5.0</td>\n      <td>1.0</td>\n      <td>1.0</td>\n      <td>3073.0</td>\n      <td>32.541490</td>\n      <td>32.541490</td>\n      <td>0.0</td>\n    </tr>\n    <tr>\n      <th>San Juan del Puerto</th>\n      <td>21.0</td>\n      <td>2.0</td>\n      <td>3.0</td>\n      <td>9300.0</td>\n      <td>21.505376</td>\n      <td>32.258065</td>\n      <td>0.0</td>\n    </tr>\n    <tr>\n      <th>Cartaya</th>\n      <td>25.0</td>\n      <td>4.0</td>\n      <td>6.0</td>\n      <td>19974.0</td>\n      <td>20.026034</td>\n      <td>30.039051</td>\n      <td>2.0</td>\n    </tr>\n    <tr>\n      <th>San Bartolomé de la Torre</th>\n      <td>3.0</td>\n      <td>1.0</td>\n      <td>1.0</td>\n      <td>3736.0</td>\n      <td>26.766595</td>\n      <td>26.766595</td>\n      <td>NaN</td>\n    </tr>\n    <tr>\n      <th>Aracena</th>\n      <td>47.0</td>\n      <td>1.0</td>\n      <td>2.0</td>\n      <td>8107.0</td>\n      <td>12.335019</td>\n      <td>24.670038</td>\n      <td>0.0</td>\n    </tr>\n    <tr>\n      <th>Valverde del Camino</th>\n      <td>27.0</td>\n      <td>1.0</td>\n      <td>1.0</td>\n      <td>12820.0</td>\n      <td>7.800312</td>\n      <td>7.800312</td>\n      <td>NaN</td>\n    </tr>\n  </tbody>\n</table>\n</div>"
     },
     "metadata": {},
     "execution_count": 15
    }
   ],
   "source": [
    "tabla.sort_values('tasa14', ascending=False)"
   ]
  },
  {
   "cell_type": "code",
   "execution_count": null,
   "metadata": {},
   "outputs": [],
   "source": []
  }
 ]
}