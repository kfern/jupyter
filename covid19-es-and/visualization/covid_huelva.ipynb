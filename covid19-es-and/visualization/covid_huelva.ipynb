{
 "metadata": {
  "language_info": {
   "codemirror_mode": {
    "name": "ipython",
    "version": 3
   },
   "file_extension": ".py",
   "mimetype": "text/x-python",
   "name": "python",
   "nbconvert_exporter": "python",
   "pygments_lexer": "ipython3",
   "version": "3.6.9-final"
  },
  "orig_nbformat": 2,
  "kernelspec": {
   "name": "Python 3.6.9 64-bit",
   "display_name": "Python 3.6.9 64-bit",
   "metadata": {
    "interpreter": {
     "hash": "31f2aee4e71d21fbe5cf8b01ff0e069b9275f58929596ceb00d14d90e3e16cd6"
    }
   }
  }
 },
 "nbformat": 4,
 "nbformat_minor": 2,
 "cells": [
  {
   "cell_type": "code",
   "execution_count": 1,
   "metadata": {},
   "outputs": [],
   "source": [
    "import pandas as pd"
   ]
  },
  {
   "cell_type": "code",
   "execution_count": 2,
   "metadata": {},
   "outputs": [],
   "source": [
    "# FIX SSL: CERTIFICATE_VERIFY_FAILED with Python3\n",
    "# https://stackoverflow.com/a/49174340\n",
    "import ssl\n",
    "\n",
    "ssl._create_default_https_context = ssl._create_unverified_context"
   ]
  },
  {
   "cell_type": "code",
   "execution_count": 3,
   "metadata": {},
   "outputs": [],
   "source": [
    "url = 'https://www.juntadeandalucia.es/institutodeestadisticaycartografia/badea/stpivot/stpivot/Print?cube=013d884c-cfc5-4c21-9e78-e26225682afd&type=3&foto=si&ejecutaDesde=&codConsulta=38668&consTipoVisua=JP'\n",
    "fields = ['Lugar de residencia', 'Medida', 'Valor']\n",
    "df = pd.read_csv(url, delimiter=';', usecols=fields, decimal=',')"
   ]
  },
  {
   "cell_type": "code",
   "execution_count": 4,
   "metadata": {},
   "outputs": [
    {
     "output_type": "execute_result",
     "data": {
      "text/plain": [
       "                     Lugar de residencia                    Medida  \\\n",
       "0                                 Huelva                 Población   \n",
       "1                                 Huelva          Confirmados PDIA   \n",
       "2                                 Huelva  Confirmados PDIA 14 días   \n",
       "3                                 Huelva         Tasa PDIA 14 días   \n",
       "4                                 Huelva   Confirmados PDIA 7 días   \n",
       "..                                   ...                       ...   \n",
       "627  Municipio de Huelva sin especificar         Tasa PDIA 14 días   \n",
       "628  Municipio de Huelva sin especificar   Confirmados PDIA 7 días   \n",
       "629  Municipio de Huelva sin especificar        Total Confirmados    \n",
       "630  Municipio de Huelva sin especificar                   Curados   \n",
       "631  Municipio de Huelva sin especificar                Fallecidos   \n",
       "\n",
       "                  Valor  \n",
       "0                510743  \n",
       "1                 10295  \n",
       "2                  1013  \n",
       "3    198,33849901026542  \n",
       "4                   368  \n",
       "..                  ...  \n",
       "627                   -  \n",
       "628                   0  \n",
       "629                 122  \n",
       "630                  90  \n",
       "631                   1  \n",
       "\n",
       "[632 rows x 3 columns]"
      ],
      "text/html": "<div>\n<style scoped>\n    .dataframe tbody tr th:only-of-type {\n        vertical-align: middle;\n    }\n\n    .dataframe tbody tr th {\n        vertical-align: top;\n    }\n\n    .dataframe thead th {\n        text-align: right;\n    }\n</style>\n<table border=\"1\" class=\"dataframe\">\n  <thead>\n    <tr style=\"text-align: right;\">\n      <th></th>\n      <th>Lugar de residencia</th>\n      <th>Medida</th>\n      <th>Valor</th>\n    </tr>\n  </thead>\n  <tbody>\n    <tr>\n      <th>0</th>\n      <td>Huelva</td>\n      <td>Población</td>\n      <td>510743</td>\n    </tr>\n    <tr>\n      <th>1</th>\n      <td>Huelva</td>\n      <td>Confirmados PDIA</td>\n      <td>10295</td>\n    </tr>\n    <tr>\n      <th>2</th>\n      <td>Huelva</td>\n      <td>Confirmados PDIA 14 días</td>\n      <td>1013</td>\n    </tr>\n    <tr>\n      <th>3</th>\n      <td>Huelva</td>\n      <td>Tasa PDIA 14 días</td>\n      <td>198,33849901026542</td>\n    </tr>\n    <tr>\n      <th>4</th>\n      <td>Huelva</td>\n      <td>Confirmados PDIA 7 días</td>\n      <td>368</td>\n    </tr>\n    <tr>\n      <th>...</th>\n      <td>...</td>\n      <td>...</td>\n      <td>...</td>\n    </tr>\n    <tr>\n      <th>627</th>\n      <td>Municipio de Huelva sin especificar</td>\n      <td>Tasa PDIA 14 días</td>\n      <td>-</td>\n    </tr>\n    <tr>\n      <th>628</th>\n      <td>Municipio de Huelva sin especificar</td>\n      <td>Confirmados PDIA 7 días</td>\n      <td>0</td>\n    </tr>\n    <tr>\n      <th>629</th>\n      <td>Municipio de Huelva sin especificar</td>\n      <td>Total Confirmados</td>\n      <td>122</td>\n    </tr>\n    <tr>\n      <th>630</th>\n      <td>Municipio de Huelva sin especificar</td>\n      <td>Curados</td>\n      <td>90</td>\n    </tr>\n    <tr>\n      <th>631</th>\n      <td>Municipio de Huelva sin especificar</td>\n      <td>Fallecidos</td>\n      <td>1</td>\n    </tr>\n  </tbody>\n</table>\n<p>632 rows × 3 columns</p>\n</div>"
     },
     "metadata": {},
     "execution_count": 4
    }
   ],
   "source": [
    "df"
   ]
  },
  {
   "cell_type": "code",
   "execution_count": 5,
   "metadata": {},
   "outputs": [],
   "source": [
    "df['Valor'] = pd.to_numeric(df['Valor'],errors='coerce')"
   ]
  },
  {
   "cell_type": "code",
   "execution_count": 6,
   "metadata": {},
   "outputs": [],
   "source": [
    "dfAnterior = pd.read_csv('covid_huelva.csv', index_col='Lugar de residencia')"
   ]
  },
  {
   "cell_type": "code",
   "execution_count": 7,
   "metadata": {
    "tags": []
   },
   "outputs": [
    {
     "output_type": "stream",
     "name": "stdout",
     "text": [
      "Confirmados PCR en la provincia de Huelva:  10295.0\n"
     ]
    }
   ],
   "source": [
    "# Confirmados PCR provincia Huelva\n",
    "p = df[df['Lugar de residencia'] == 'Huelva'][df['Medida'] == 'Confirmados PDIA']['Valor'].values[0]\n",
    "print('Confirmados PCR en la provincia de Huelva: ', p)"
   ]
  },
  {
   "cell_type": "code",
   "execution_count": 8,
   "metadata": {
    "tags": []
   },
   "outputs": [
    {
     "output_type": "stream",
     "name": "stdout",
     "text": [
      "Confirmados PCR en Huelva capital:  2903.0\n"
     ]
    }
   ],
   "source": [
    "# Confirmados PCR Huelva capitalpd\n",
    "c = df[df['Lugar de residencia'] == 'Huelva (capital)'][df['Medida'] == 'Confirmados PDIA']['Valor'].values[0]\n",
    "print('Confirmados PCR en Huelva capital: ', c)"
   ]
  },
  {
   "cell_type": "code",
   "execution_count": 9,
   "metadata": {
    "tags": []
   },
   "outputs": [],
   "source": [
    "c7 = df[df['Lugar de residencia'] == 'Huelva (capital)'][df['Medida'] == 'Confirmados PDIA 7 días']['Valor'].values[0]\n",
    "c14 = df[df['Lugar de residencia'] == 'Huelva (capital)'][df['Medida'] == 'Confirmados PDIA 14 días']['Valor'].values[0]\n",
    "p = df[df['Lugar de residencia'] == 'Huelva (capital)'][df['Medida'] == 'Población']['Valor'].values[0]"
   ]
  },
  {
   "cell_type": "code",
   "execution_count": 10,
   "metadata": {
    "tags": []
   },
   "outputs": [
    {
     "output_type": "stream",
     "name": "stdout",
     "text": [
      "Huelva (capital)\n\nUn positivo PCR cada 1178 personas en los últimos 7 días \n\nUn positivo PCR cada 476 personas en los últimos 14 días\n"
     ]
    }
   ],
   "source": [
    "print('Huelva (capital)\\n')\n",
    "#print('Confirmados PCR 7 días x 1,000 habitantes: ', f\"{c7/(p/1000):.5f}\")\n",
    "print('Un positivo PCR cada', f\"{p/c7:.0f}\", 'personas en los últimos 7 días', '\\n')\n",
    "#print('Confirmados PCR 14 días x 1,000 habitantes: ', f\"{c14/(p/1000):.5f}\")\n",
    "print('Un positivo PCR cada', f\"{p/c14:.0f}\", 'personas en los últimos 14 días')"
   ]
  },
  {
   "cell_type": "code",
   "execution_count": 11,
   "metadata": {},
   "outputs": [],
   "source": [
    "filtro = ((df['Medida'] == 'Confirmados PDIA')| (df['Medida'] == 'Confirmados PDIA 7 días') | (df['Medida'] == 'Población' ) | (df['Medida'] == 'Confirmados PDIA 14 días')) & (df['Valor'] > 0)\n",
    "tabla = pd.pivot_table(df.loc[filtro], values='Valor', index='Lugar de residencia', columns='Medida').dropna()"
   ]
  },
  {
   "cell_type": "code",
   "execution_count": 12,
   "metadata": {},
   "outputs": [],
   "source": [
    "# Reorder columns\n",
    "tabla = tabla[['Confirmados PDIA', 'Confirmados PDIA 7 días', 'Confirmados PDIA 14 días', 'Población']]"
   ]
  },
  {
   "cell_type": "code",
   "execution_count": 13,
   "metadata": {},
   "outputs": [],
   "source": [
    "tabla['tasa7'] = tabla['Confirmados PDIA 7 días']/tabla['Población']*100000\n",
    "tabla['tasa14'] = tabla['Confirmados PDIA 14 días']/tabla['Población']*100000"
   ]
  },
  {
   "cell_type": "code",
   "execution_count": 14,
   "metadata": {},
   "outputs": [],
   "source": [
    "tabla['Diferencia PDIA'] = tabla['Confirmados PDIA'] - dfAnterior['Confirmados PDIA']"
   ]
  },
  {
   "cell_type": "code",
   "execution_count": 15,
   "metadata": {},
   "outputs": [
    {
     "output_type": "execute_result",
     "data": {
      "text/plain": [
       "Medida                     Confirmados PDIA  Confirmados PDIA 7 días  \\\n",
       "Lugar de residencia                                                    \n",
       "Huelva                              10295.0                    368.0   \n",
       "Huelva-Costa                         5746.0                    265.0   \n",
       "Huelva (capital)                     2903.0                    122.0   \n",
       "Condado-Campiña                      3165.0                     92.0   \n",
       "Palma del Condado (La)                482.0                     28.0   \n",
       "Cartaya                               351.0                     30.0   \n",
       "San Juan del Puerto                   140.0                      5.0   \n",
       "Aljaraque                             392.0                     19.0   \n",
       "Moguer                                337.0                     18.0   \n",
       "Palos de la Frontera                  217.0                     11.0   \n",
       "Bollullos Par del Condado             236.0                      5.0   \n",
       "Isla Cristina                         377.0                     48.0   \n",
       "Lepe                                  904.0                     35.0   \n",
       "Rociana del Condado                   116.0                      2.0   \n",
       "Trigueros                             128.0                      1.0   \n",
       "\n",
       "Medida                     Confirmados PDIA 14 días  Población       tasa7  \\\n",
       "Lugar de residencia                                                          \n",
       "Huelva                                       1013.0   510743.0   72.051893   \n",
       "Huelva-Costa                                  674.0   288115.0   91.977162   \n",
       "Huelva (capital)                              302.0   143663.0   84.920961   \n",
       "Condado-Campiña                               294.0   155057.0   59.333019   \n",
       "Palma del Condado (La)                         64.0    10761.0  260.198866   \n",
       "Cartaya                                        70.0    19974.0  150.195254   \n",
       "San Juan del Puerto                             7.0     9300.0   53.763441   \n",
       "Aljaraque                                      54.0    21260.0   89.369708   \n",
       "Moguer                                         57.0    22088.0   81.492213   \n",
       "Palos de la Frontera                           34.0    11289.0   97.439986   \n",
       "Bollullos Par del Condado                       8.0    14272.0   35.033632   \n",
       "Isla Cristina                                 103.0    21264.0  225.733634   \n",
       "Lepe                                           86.0    27431.0  127.592869   \n",
       "Rociana del Condado                            14.0     7855.0   25.461489   \n",
       "Trigueros                                       4.0     7713.0   12.965124   \n",
       "\n",
       "Medida                         tasa14  Diferencia PDIA  \n",
       "Lugar de residencia                                     \n",
       "Huelva                     198.338499             35.0  \n",
       "Huelva-Costa               233.934366             24.0  \n",
       "Huelva (capital)           210.214182             17.0  \n",
       "Condado-Campiña            189.607693             14.0  \n",
       "Palma del Condado (La)     594.740266              4.0  \n",
       "Cartaya                    350.455592              3.0  \n",
       "San Juan del Puerto         75.268817              3.0  \n",
       "Aljaraque                  253.998119              2.0  \n",
       "Moguer                     258.058674              2.0  \n",
       "Palos de la Frontera       301.178138              2.0  \n",
       "Bollullos Par del Condado   56.053812              1.0  \n",
       "Isla Cristina              484.386757              1.0  \n",
       "Lepe                       313.513908              1.0  \n",
       "Rociana del Condado        178.230426              1.0  \n",
       "Trigueros                   51.860495              1.0  "
      ],
      "text/html": "<div>\n<style scoped>\n    .dataframe tbody tr th:only-of-type {\n        vertical-align: middle;\n    }\n\n    .dataframe tbody tr th {\n        vertical-align: top;\n    }\n\n    .dataframe thead th {\n        text-align: right;\n    }\n</style>\n<table border=\"1\" class=\"dataframe\">\n  <thead>\n    <tr style=\"text-align: right;\">\n      <th>Medida</th>\n      <th>Confirmados PDIA</th>\n      <th>Confirmados PDIA 7 días</th>\n      <th>Confirmados PDIA 14 días</th>\n      <th>Población</th>\n      <th>tasa7</th>\n      <th>tasa14</th>\n      <th>Diferencia PDIA</th>\n    </tr>\n    <tr>\n      <th>Lugar de residencia</th>\n      <th></th>\n      <th></th>\n      <th></th>\n      <th></th>\n      <th></th>\n      <th></th>\n      <th></th>\n    </tr>\n  </thead>\n  <tbody>\n    <tr>\n      <th>Huelva</th>\n      <td>10295.0</td>\n      <td>368.0</td>\n      <td>1013.0</td>\n      <td>510743.0</td>\n      <td>72.051893</td>\n      <td>198.338499</td>\n      <td>35.0</td>\n    </tr>\n    <tr>\n      <th>Huelva-Costa</th>\n      <td>5746.0</td>\n      <td>265.0</td>\n      <td>674.0</td>\n      <td>288115.0</td>\n      <td>91.977162</td>\n      <td>233.934366</td>\n      <td>24.0</td>\n    </tr>\n    <tr>\n      <th>Huelva (capital)</th>\n      <td>2903.0</td>\n      <td>122.0</td>\n      <td>302.0</td>\n      <td>143663.0</td>\n      <td>84.920961</td>\n      <td>210.214182</td>\n      <td>17.0</td>\n    </tr>\n    <tr>\n      <th>Condado-Campiña</th>\n      <td>3165.0</td>\n      <td>92.0</td>\n      <td>294.0</td>\n      <td>155057.0</td>\n      <td>59.333019</td>\n      <td>189.607693</td>\n      <td>14.0</td>\n    </tr>\n    <tr>\n      <th>Palma del Condado (La)</th>\n      <td>482.0</td>\n      <td>28.0</td>\n      <td>64.0</td>\n      <td>10761.0</td>\n      <td>260.198866</td>\n      <td>594.740266</td>\n      <td>4.0</td>\n    </tr>\n    <tr>\n      <th>Cartaya</th>\n      <td>351.0</td>\n      <td>30.0</td>\n      <td>70.0</td>\n      <td>19974.0</td>\n      <td>150.195254</td>\n      <td>350.455592</td>\n      <td>3.0</td>\n    </tr>\n    <tr>\n      <th>San Juan del Puerto</th>\n      <td>140.0</td>\n      <td>5.0</td>\n      <td>7.0</td>\n      <td>9300.0</td>\n      <td>53.763441</td>\n      <td>75.268817</td>\n      <td>3.0</td>\n    </tr>\n    <tr>\n      <th>Aljaraque</th>\n      <td>392.0</td>\n      <td>19.0</td>\n      <td>54.0</td>\n      <td>21260.0</td>\n      <td>89.369708</td>\n      <td>253.998119</td>\n      <td>2.0</td>\n    </tr>\n    <tr>\n      <th>Moguer</th>\n      <td>337.0</td>\n      <td>18.0</td>\n      <td>57.0</td>\n      <td>22088.0</td>\n      <td>81.492213</td>\n      <td>258.058674</td>\n      <td>2.0</td>\n    </tr>\n    <tr>\n      <th>Palos de la Frontera</th>\n      <td>217.0</td>\n      <td>11.0</td>\n      <td>34.0</td>\n      <td>11289.0</td>\n      <td>97.439986</td>\n      <td>301.178138</td>\n      <td>2.0</td>\n    </tr>\n    <tr>\n      <th>Bollullos Par del Condado</th>\n      <td>236.0</td>\n      <td>5.0</td>\n      <td>8.0</td>\n      <td>14272.0</td>\n      <td>35.033632</td>\n      <td>56.053812</td>\n      <td>1.0</td>\n    </tr>\n    <tr>\n      <th>Isla Cristina</th>\n      <td>377.0</td>\n      <td>48.0</td>\n      <td>103.0</td>\n      <td>21264.0</td>\n      <td>225.733634</td>\n      <td>484.386757</td>\n      <td>1.0</td>\n    </tr>\n    <tr>\n      <th>Lepe</th>\n      <td>904.0</td>\n      <td>35.0</td>\n      <td>86.0</td>\n      <td>27431.0</td>\n      <td>127.592869</td>\n      <td>313.513908</td>\n      <td>1.0</td>\n    </tr>\n    <tr>\n      <th>Rociana del Condado</th>\n      <td>116.0</td>\n      <td>2.0</td>\n      <td>14.0</td>\n      <td>7855.0</td>\n      <td>25.461489</td>\n      <td>178.230426</td>\n      <td>1.0</td>\n    </tr>\n    <tr>\n      <th>Trigueros</th>\n      <td>128.0</td>\n      <td>1.0</td>\n      <td>4.0</td>\n      <td>7713.0</td>\n      <td>12.965124</td>\n      <td>51.860495</td>\n      <td>1.0</td>\n    </tr>\n  </tbody>\n</table>\n</div>"
     },
     "metadata": {},
     "execution_count": 15
    }
   ],
   "source": [
    "# Nuevos casos desde la última captura\n",
    "tabla[tabla['Diferencia PDIA'] != 0].sort_values('Diferencia PDIA', ascending=False)"
   ]
  },
  {
   "cell_type": "code",
   "execution_count": 16,
   "metadata": {},
   "outputs": [],
   "source": [
    "if tabla[tabla['Diferencia PDIA'] != 0]['Diferencia PDIA'].sum() > 0:\n",
    "  # Save to csv\n",
    "  tabla.to_csv('covid_huelva.csv', encoding='utf-8', header=True, index=True)  "
   ]
  },
  {
   "cell_type": "code",
   "execution_count": 17,
   "metadata": {},
   "outputs": [
    {
     "output_type": "execute_result",
     "data": {
      "text/plain": [
       "Medida                             Confirmados PDIA  Confirmados PDIA 7 días  \\\n",
       "Lugar de residencia                                                            \n",
       "Lucena del Puerto                              83.0                      1.0   \n",
       "Palma del Condado (La)                        482.0                     28.0   \n",
       "Isla Cristina                                 377.0                     48.0   \n",
       "San Bartolomé de la Torre                      44.0                      4.0   \n",
       "Villalba del Alcor                            102.0                      4.0   \n",
       "Cartaya                                       351.0                     30.0   \n",
       "Cortelazor                                      2.0                      1.0   \n",
       "Lepe                                          904.0                     35.0   \n",
       "Palos de la Frontera                          217.0                     11.0   \n",
       "Moguer                                        337.0                     18.0   \n",
       "Aljaraque                                     392.0                     19.0   \n",
       "Villanueva de los Castillejos                  58.0                      2.0   \n",
       "Sanlúcar de Guadiana                            4.0                      1.0   \n",
       "Huelva-Costa                                 5746.0                    265.0   \n",
       "Paterna del Campo                              60.0                      4.0   \n",
       "Huelva (capital)                             2903.0                    122.0   \n",
       "Huelva                                      10295.0                    368.0   \n",
       "Condado-Campiña                              3165.0                     92.0   \n",
       "Rociana del Condado                           116.0                      2.0   \n",
       "Campofrío                                       7.0                      1.0   \n",
       "Beas                                           56.0                      1.0   \n",
       "Ayamonte                                      317.0                      2.0   \n",
       "Alájar                                          4.0                      1.0   \n",
       "Punta Umbría                                  227.0                      5.0   \n",
       "Gibraleón                                     349.0                      5.0   \n",
       "Campillo (El)                                  54.0                      1.0   \n",
       "Puebla de Guzmán                               24.0                      1.0   \n",
       "Valverde del Camino                           271.0                      2.0   \n",
       "Cerro de Andévalo (El)                         37.0                      1.0   \n",
       "Bonares                                        43.0                      1.0   \n",
       "Minas de Riotinto                              66.0                      2.0   \n",
       "San Juan del Puerto                           140.0                      5.0   \n",
       "Sierra de Huelva-Andévalo Central            1263.0                     11.0   \n",
       "Bollullos Par del Condado                     236.0                      5.0   \n",
       "Trigueros                                     128.0                      1.0   \n",
       "Manzanilla                                     45.0                      1.0   \n",
       "Jabugo                                         35.0                      1.0   \n",
       "Nerva                                          87.0                      1.0   \n",
       "Almonte                                       434.0                      1.0   \n",
       "\n",
       "Medida                             Confirmados PDIA 14 días  Población  \\\n",
       "Lugar de residencia                                                      \n",
       "Lucena del Puerto                                      22.0     3371.0   \n",
       "Palma del Condado (La)                                 64.0    10761.0   \n",
       "Isla Cristina                                         103.0    21264.0   \n",
       "San Bartolomé de la Torre                              18.0     3736.0   \n",
       "Villalba del Alcor                                     12.0     3338.0   \n",
       "Cartaya                                                70.0    19974.0   \n",
       "Cortelazor                                              1.0      299.0   \n",
       "Lepe                                                   86.0    27431.0   \n",
       "Palos de la Frontera                                   34.0    11289.0   \n",
       "Moguer                                                 57.0    22088.0   \n",
       "Aljaraque                                              54.0    21260.0   \n",
       "Villanueva de los Castillejos                           7.0     2820.0   \n",
       "Sanlúcar de Guadiana                                    1.0      409.0   \n",
       "Huelva-Costa                                          674.0   288115.0   \n",
       "Paterna del Campo                                       8.0     3509.0   \n",
       "Huelva (capital)                                      302.0   143663.0   \n",
       "Huelva                                               1013.0   510743.0   \n",
       "Condado-Campiña                                       294.0   155057.0   \n",
       "Rociana del Condado                                    14.0     7855.0   \n",
       "Campofrío                                               1.0      675.0   \n",
       "Beas                                                    6.0     4257.0   \n",
       "Ayamonte                                               29.0    20946.0   \n",
       "Alájar                                                  1.0      756.0   \n",
       "Punta Umbría                                           19.0    15242.0   \n",
       "Gibraleón                                              14.0    12607.0   \n",
       "Campillo (El)                                           2.0     2023.0   \n",
       "Puebla de Guzmán                                        3.0     3073.0   \n",
       "Valverde del Camino                                    12.0    12820.0   \n",
       "Cerro de Andévalo (El)                                  2.0     2364.0   \n",
       "Bonares                                                 5.0     6058.0   \n",
       "Minas de Riotinto                                       3.0     3848.0   \n",
       "San Juan del Puerto                                     7.0     9300.0   \n",
       "Sierra de Huelva-Andévalo Central                      43.0    67571.0   \n",
       "Bollullos Par del Condado                               8.0    14272.0   \n",
       "Trigueros                                               4.0     7713.0   \n",
       "Manzanilla                                              1.0     2135.0   \n",
       "Jabugo                                                  1.0     2250.0   \n",
       "Nerva                                                   2.0     5235.0   \n",
       "Almonte                                                 9.0    24191.0   \n",
       "\n",
       "Medida                                  tasa7      tasa14  Diferencia PDIA  \n",
       "Lugar de residencia                                                         \n",
       "Lucena del Puerto                   29.664788  652.625334              0.0  \n",
       "Palma del Condado (La)             260.198866  594.740266              4.0  \n",
       "Isla Cristina                      225.733634  484.386757              1.0  \n",
       "San Bartolomé de la Torre          107.066381  481.798715              0.0  \n",
       "Villalba del Alcor                 119.832235  359.496705              0.0  \n",
       "Cartaya                            150.195254  350.455592              3.0  \n",
       "Cortelazor                         334.448161  334.448161              0.0  \n",
       "Lepe                               127.592869  313.513908              1.0  \n",
       "Palos de la Frontera                97.439986  301.178138              2.0  \n",
       "Moguer                              81.492213  258.058674              2.0  \n",
       "Aljaraque                           89.369708  253.998119              2.0  \n",
       "Villanueva de los Castillejos       70.921986  248.226950              0.0  \n",
       "Sanlúcar de Guadiana               244.498778  244.498778              0.0  \n",
       "Huelva-Costa                        91.977162  233.934366             24.0  \n",
       "Paterna del Campo                  113.992590  227.985181              0.0  \n",
       "Huelva (capital)                    84.920961  210.214182             17.0  \n",
       "Huelva                              72.051893  198.338499             35.0  \n",
       "Condado-Campiña                     59.333019  189.607693             14.0  \n",
       "Rociana del Condado                 25.461489  178.230426              1.0  \n",
       "Campofrío                          148.148148  148.148148              0.0  \n",
       "Beas                                23.490721  140.944327              0.0  \n",
       "Ayamonte                             9.548362  138.451256              0.0  \n",
       "Alájar                             132.275132  132.275132              0.0  \n",
       "Punta Umbría                        32.804094  124.655557              0.0  \n",
       "Gibraleón                           39.660506  111.049417              0.0  \n",
       "Campillo (El)                       49.431537   98.863075              0.0  \n",
       "Puebla de Guzmán                    32.541490   97.624471              0.0  \n",
       "Valverde del Camino                 15.600624   93.603744              0.0  \n",
       "Cerro de Andévalo (El)              42.301184   84.602369              0.0  \n",
       "Bonares                             16.507098   82.535490              0.0  \n",
       "Minas de Riotinto                   51.975052   77.962578              0.0  \n",
       "San Juan del Puerto                 53.763441   75.268817              3.0  \n",
       "Sierra de Huelva-Andévalo Central   16.279173   63.636767              0.0  \n",
       "Bollullos Par del Condado           35.033632   56.053812              1.0  \n",
       "Trigueros                           12.965124   51.860495              1.0  \n",
       "Manzanilla                          46.838407   46.838407              0.0  \n",
       "Jabugo                              44.444444   44.444444              0.0  \n",
       "Nerva                               19.102197   38.204394              0.0  \n",
       "Almonte                              4.133769   37.203919              0.0  "
      ],
      "text/html": "<div>\n<style scoped>\n    .dataframe tbody tr th:only-of-type {\n        vertical-align: middle;\n    }\n\n    .dataframe tbody tr th {\n        vertical-align: top;\n    }\n\n    .dataframe thead th {\n        text-align: right;\n    }\n</style>\n<table border=\"1\" class=\"dataframe\">\n  <thead>\n    <tr style=\"text-align: right;\">\n      <th>Medida</th>\n      <th>Confirmados PDIA</th>\n      <th>Confirmados PDIA 7 días</th>\n      <th>Confirmados PDIA 14 días</th>\n      <th>Población</th>\n      <th>tasa7</th>\n      <th>tasa14</th>\n      <th>Diferencia PDIA</th>\n    </tr>\n    <tr>\n      <th>Lugar de residencia</th>\n      <th></th>\n      <th></th>\n      <th></th>\n      <th></th>\n      <th></th>\n      <th></th>\n      <th></th>\n    </tr>\n  </thead>\n  <tbody>\n    <tr>\n      <th>Lucena del Puerto</th>\n      <td>83.0</td>\n      <td>1.0</td>\n      <td>22.0</td>\n      <td>3371.0</td>\n      <td>29.664788</td>\n      <td>652.625334</td>\n      <td>0.0</td>\n    </tr>\n    <tr>\n      <th>Palma del Condado (La)</th>\n      <td>482.0</td>\n      <td>28.0</td>\n      <td>64.0</td>\n      <td>10761.0</td>\n      <td>260.198866</td>\n      <td>594.740266</td>\n      <td>4.0</td>\n    </tr>\n    <tr>\n      <th>Isla Cristina</th>\n      <td>377.0</td>\n      <td>48.0</td>\n      <td>103.0</td>\n      <td>21264.0</td>\n      <td>225.733634</td>\n      <td>484.386757</td>\n      <td>1.0</td>\n    </tr>\n    <tr>\n      <th>San Bartolomé de la Torre</th>\n      <td>44.0</td>\n      <td>4.0</td>\n      <td>18.0</td>\n      <td>3736.0</td>\n      <td>107.066381</td>\n      <td>481.798715</td>\n      <td>0.0</td>\n    </tr>\n    <tr>\n      <th>Villalba del Alcor</th>\n      <td>102.0</td>\n      <td>4.0</td>\n      <td>12.0</td>\n      <td>3338.0</td>\n      <td>119.832235</td>\n      <td>359.496705</td>\n      <td>0.0</td>\n    </tr>\n    <tr>\n      <th>Cartaya</th>\n      <td>351.0</td>\n      <td>30.0</td>\n      <td>70.0</td>\n      <td>19974.0</td>\n      <td>150.195254</td>\n      <td>350.455592</td>\n      <td>3.0</td>\n    </tr>\n    <tr>\n      <th>Cortelazor</th>\n      <td>2.0</td>\n      <td>1.0</td>\n      <td>1.0</td>\n      <td>299.0</td>\n      <td>334.448161</td>\n      <td>334.448161</td>\n      <td>0.0</td>\n    </tr>\n    <tr>\n      <th>Lepe</th>\n      <td>904.0</td>\n      <td>35.0</td>\n      <td>86.0</td>\n      <td>27431.0</td>\n      <td>127.592869</td>\n      <td>313.513908</td>\n      <td>1.0</td>\n    </tr>\n    <tr>\n      <th>Palos de la Frontera</th>\n      <td>217.0</td>\n      <td>11.0</td>\n      <td>34.0</td>\n      <td>11289.0</td>\n      <td>97.439986</td>\n      <td>301.178138</td>\n      <td>2.0</td>\n    </tr>\n    <tr>\n      <th>Moguer</th>\n      <td>337.0</td>\n      <td>18.0</td>\n      <td>57.0</td>\n      <td>22088.0</td>\n      <td>81.492213</td>\n      <td>258.058674</td>\n      <td>2.0</td>\n    </tr>\n    <tr>\n      <th>Aljaraque</th>\n      <td>392.0</td>\n      <td>19.0</td>\n      <td>54.0</td>\n      <td>21260.0</td>\n      <td>89.369708</td>\n      <td>253.998119</td>\n      <td>2.0</td>\n    </tr>\n    <tr>\n      <th>Villanueva de los Castillejos</th>\n      <td>58.0</td>\n      <td>2.0</td>\n      <td>7.0</td>\n      <td>2820.0</td>\n      <td>70.921986</td>\n      <td>248.226950</td>\n      <td>0.0</td>\n    </tr>\n    <tr>\n      <th>Sanlúcar de Guadiana</th>\n      <td>4.0</td>\n      <td>1.0</td>\n      <td>1.0</td>\n      <td>409.0</td>\n      <td>244.498778</td>\n      <td>244.498778</td>\n      <td>0.0</td>\n    </tr>\n    <tr>\n      <th>Huelva-Costa</th>\n      <td>5746.0</td>\n      <td>265.0</td>\n      <td>674.0</td>\n      <td>288115.0</td>\n      <td>91.977162</td>\n      <td>233.934366</td>\n      <td>24.0</td>\n    </tr>\n    <tr>\n      <th>Paterna del Campo</th>\n      <td>60.0</td>\n      <td>4.0</td>\n      <td>8.0</td>\n      <td>3509.0</td>\n      <td>113.992590</td>\n      <td>227.985181</td>\n      <td>0.0</td>\n    </tr>\n    <tr>\n      <th>Huelva (capital)</th>\n      <td>2903.0</td>\n      <td>122.0</td>\n      <td>302.0</td>\n      <td>143663.0</td>\n      <td>84.920961</td>\n      <td>210.214182</td>\n      <td>17.0</td>\n    </tr>\n    <tr>\n      <th>Huelva</th>\n      <td>10295.0</td>\n      <td>368.0</td>\n      <td>1013.0</td>\n      <td>510743.0</td>\n      <td>72.051893</td>\n      <td>198.338499</td>\n      <td>35.0</td>\n    </tr>\n    <tr>\n      <th>Condado-Campiña</th>\n      <td>3165.0</td>\n      <td>92.0</td>\n      <td>294.0</td>\n      <td>155057.0</td>\n      <td>59.333019</td>\n      <td>189.607693</td>\n      <td>14.0</td>\n    </tr>\n    <tr>\n      <th>Rociana del Condado</th>\n      <td>116.0</td>\n      <td>2.0</td>\n      <td>14.0</td>\n      <td>7855.0</td>\n      <td>25.461489</td>\n      <td>178.230426</td>\n      <td>1.0</td>\n    </tr>\n    <tr>\n      <th>Campofrío</th>\n      <td>7.0</td>\n      <td>1.0</td>\n      <td>1.0</td>\n      <td>675.0</td>\n      <td>148.148148</td>\n      <td>148.148148</td>\n      <td>0.0</td>\n    </tr>\n    <tr>\n      <th>Beas</th>\n      <td>56.0</td>\n      <td>1.0</td>\n      <td>6.0</td>\n      <td>4257.0</td>\n      <td>23.490721</td>\n      <td>140.944327</td>\n      <td>0.0</td>\n    </tr>\n    <tr>\n      <th>Ayamonte</th>\n      <td>317.0</td>\n      <td>2.0</td>\n      <td>29.0</td>\n      <td>20946.0</td>\n      <td>9.548362</td>\n      <td>138.451256</td>\n      <td>0.0</td>\n    </tr>\n    <tr>\n      <th>Alájar</th>\n      <td>4.0</td>\n      <td>1.0</td>\n      <td>1.0</td>\n      <td>756.0</td>\n      <td>132.275132</td>\n      <td>132.275132</td>\n      <td>0.0</td>\n    </tr>\n    <tr>\n      <th>Punta Umbría</th>\n      <td>227.0</td>\n      <td>5.0</td>\n      <td>19.0</td>\n      <td>15242.0</td>\n      <td>32.804094</td>\n      <td>124.655557</td>\n      <td>0.0</td>\n    </tr>\n    <tr>\n      <th>Gibraleón</th>\n      <td>349.0</td>\n      <td>5.0</td>\n      <td>14.0</td>\n      <td>12607.0</td>\n      <td>39.660506</td>\n      <td>111.049417</td>\n      <td>0.0</td>\n    </tr>\n    <tr>\n      <th>Campillo (El)</th>\n      <td>54.0</td>\n      <td>1.0</td>\n      <td>2.0</td>\n      <td>2023.0</td>\n      <td>49.431537</td>\n      <td>98.863075</td>\n      <td>0.0</td>\n    </tr>\n    <tr>\n      <th>Puebla de Guzmán</th>\n      <td>24.0</td>\n      <td>1.0</td>\n      <td>3.0</td>\n      <td>3073.0</td>\n      <td>32.541490</td>\n      <td>97.624471</td>\n      <td>0.0</td>\n    </tr>\n    <tr>\n      <th>Valverde del Camino</th>\n      <td>271.0</td>\n      <td>2.0</td>\n      <td>12.0</td>\n      <td>12820.0</td>\n      <td>15.600624</td>\n      <td>93.603744</td>\n      <td>0.0</td>\n    </tr>\n    <tr>\n      <th>Cerro de Andévalo (El)</th>\n      <td>37.0</td>\n      <td>1.0</td>\n      <td>2.0</td>\n      <td>2364.0</td>\n      <td>42.301184</td>\n      <td>84.602369</td>\n      <td>0.0</td>\n    </tr>\n    <tr>\n      <th>Bonares</th>\n      <td>43.0</td>\n      <td>1.0</td>\n      <td>5.0</td>\n      <td>6058.0</td>\n      <td>16.507098</td>\n      <td>82.535490</td>\n      <td>0.0</td>\n    </tr>\n    <tr>\n      <th>Minas de Riotinto</th>\n      <td>66.0</td>\n      <td>2.0</td>\n      <td>3.0</td>\n      <td>3848.0</td>\n      <td>51.975052</td>\n      <td>77.962578</td>\n      <td>0.0</td>\n    </tr>\n    <tr>\n      <th>San Juan del Puerto</th>\n      <td>140.0</td>\n      <td>5.0</td>\n      <td>7.0</td>\n      <td>9300.0</td>\n      <td>53.763441</td>\n      <td>75.268817</td>\n      <td>3.0</td>\n    </tr>\n    <tr>\n      <th>Sierra de Huelva-Andévalo Central</th>\n      <td>1263.0</td>\n      <td>11.0</td>\n      <td>43.0</td>\n      <td>67571.0</td>\n      <td>16.279173</td>\n      <td>63.636767</td>\n      <td>0.0</td>\n    </tr>\n    <tr>\n      <th>Bollullos Par del Condado</th>\n      <td>236.0</td>\n      <td>5.0</td>\n      <td>8.0</td>\n      <td>14272.0</td>\n      <td>35.033632</td>\n      <td>56.053812</td>\n      <td>1.0</td>\n    </tr>\n    <tr>\n      <th>Trigueros</th>\n      <td>128.0</td>\n      <td>1.0</td>\n      <td>4.0</td>\n      <td>7713.0</td>\n      <td>12.965124</td>\n      <td>51.860495</td>\n      <td>1.0</td>\n    </tr>\n    <tr>\n      <th>Manzanilla</th>\n      <td>45.0</td>\n      <td>1.0</td>\n      <td>1.0</td>\n      <td>2135.0</td>\n      <td>46.838407</td>\n      <td>46.838407</td>\n      <td>0.0</td>\n    </tr>\n    <tr>\n      <th>Jabugo</th>\n      <td>35.0</td>\n      <td>1.0</td>\n      <td>1.0</td>\n      <td>2250.0</td>\n      <td>44.444444</td>\n      <td>44.444444</td>\n      <td>0.0</td>\n    </tr>\n    <tr>\n      <th>Nerva</th>\n      <td>87.0</td>\n      <td>1.0</td>\n      <td>2.0</td>\n      <td>5235.0</td>\n      <td>19.102197</td>\n      <td>38.204394</td>\n      <td>0.0</td>\n    </tr>\n    <tr>\n      <th>Almonte</th>\n      <td>434.0</td>\n      <td>1.0</td>\n      <td>9.0</td>\n      <td>24191.0</td>\n      <td>4.133769</td>\n      <td>37.203919</td>\n      <td>0.0</td>\n    </tr>\n  </tbody>\n</table>\n</div>"
     },
     "metadata": {},
     "execution_count": 17
    }
   ],
   "source": [
    "tabla.sort_values('tasa14', ascending=False)"
   ]
  },
  {
   "cell_type": "code",
   "execution_count": 18,
   "metadata": {},
   "outputs": [
    {
     "output_type": "execute_result",
     "data": {
      "text/plain": [
       "Medida                             Confirmados PDIA  Confirmados PDIA 7 días  \\\n",
       "Lugar de residencia                                                            \n",
       "Lucena del Puerto                              83.0                      1.0   \n",
       "Ayamonte                                      317.0                      2.0   \n",
       "Almonte                                       434.0                      1.0   \n",
       "Rociana del Condado                           116.0                      2.0   \n",
       "Valverde del Camino                           271.0                      2.0   \n",
       "Beas                                           56.0                      1.0   \n",
       "Bonares                                        43.0                      1.0   \n",
       "San Bartolomé de la Torre                      44.0                      4.0   \n",
       "Trigueros                                     128.0                      1.0   \n",
       "Sierra de Huelva-Andévalo Central            1263.0                     11.0   \n",
       "Punta Umbría                                  227.0                      5.0   \n",
       "Villanueva de los Castillejos                  58.0                      2.0   \n",
       "Condado-Campiña                              3165.0                     92.0   \n",
       "Moguer                                        337.0                     18.0   \n",
       "Palos de la Frontera                          217.0                     11.0   \n",
       "Puebla de Guzmán                               24.0                      1.0   \n",
       "Villalba del Alcor                            102.0                      4.0   \n",
       "Aljaraque                                     392.0                     19.0   \n",
       "Gibraleón                                     349.0                      5.0   \n",
       "Huelva                                      10295.0                    368.0   \n",
       "Huelva-Costa                                 5746.0                    265.0   \n",
       "Huelva (capital)                             2903.0                    122.0   \n",
       "Lepe                                          904.0                     35.0   \n",
       "Cartaya                                       351.0                     30.0   \n",
       "Palma del Condado (La)                        482.0                     28.0   \n",
       "Isla Cristina                                 377.0                     48.0   \n",
       "Nerva                                          87.0                      1.0   \n",
       "Paterna del Campo                              60.0                      4.0   \n",
       "Cerro de Andévalo (El)                         37.0                      1.0   \n",
       "Campillo (El)                                  54.0                      1.0   \n",
       "Bollullos Par del Condado                     236.0                      5.0   \n",
       "Minas de Riotinto                              66.0                      2.0   \n",
       "San Juan del Puerto                           140.0                      5.0   \n",
       "Alájar                                          4.0                      1.0   \n",
       "Jabugo                                         35.0                      1.0   \n",
       "Campofrío                                       7.0                      1.0   \n",
       "Manzanilla                                     45.0                      1.0   \n",
       "Sanlúcar de Guadiana                            4.0                      1.0   \n",
       "Cortelazor                                      2.0                      1.0   \n",
       "\n",
       "Medida                             Confirmados PDIA 14 días  Población  \\\n",
       "Lugar de residencia                                                      \n",
       "Lucena del Puerto                                      22.0     3371.0   \n",
       "Ayamonte                                               29.0    20946.0   \n",
       "Almonte                                                 9.0    24191.0   \n",
       "Rociana del Condado                                    14.0     7855.0   \n",
       "Valverde del Camino                                    12.0    12820.0   \n",
       "Beas                                                    6.0     4257.0   \n",
       "Bonares                                                 5.0     6058.0   \n",
       "San Bartolomé de la Torre                              18.0     3736.0   \n",
       "Trigueros                                               4.0     7713.0   \n",
       "Sierra de Huelva-Andévalo Central                      43.0    67571.0   \n",
       "Punta Umbría                                           19.0    15242.0   \n",
       "Villanueva de los Castillejos                           7.0     2820.0   \n",
       "Condado-Campiña                                       294.0   155057.0   \n",
       "Moguer                                                 57.0    22088.0   \n",
       "Palos de la Frontera                                   34.0    11289.0   \n",
       "Puebla de Guzmán                                        3.0     3073.0   \n",
       "Villalba del Alcor                                     12.0     3338.0   \n",
       "Aljaraque                                              54.0    21260.0   \n",
       "Gibraleón                                              14.0    12607.0   \n",
       "Huelva                                               1013.0   510743.0   \n",
       "Huelva-Costa                                          674.0   288115.0   \n",
       "Huelva (capital)                                      302.0   143663.0   \n",
       "Lepe                                                   86.0    27431.0   \n",
       "Cartaya                                                70.0    19974.0   \n",
       "Palma del Condado (La)                                 64.0    10761.0   \n",
       "Isla Cristina                                         103.0    21264.0   \n",
       "Nerva                                                   2.0     5235.0   \n",
       "Paterna del Campo                                       8.0     3509.0   \n",
       "Cerro de Andévalo (El)                                  2.0     2364.0   \n",
       "Campillo (El)                                           2.0     2023.0   \n",
       "Bollullos Par del Condado                               8.0    14272.0   \n",
       "Minas de Riotinto                                       3.0     3848.0   \n",
       "San Juan del Puerto                                     7.0     9300.0   \n",
       "Alájar                                                  1.0      756.0   \n",
       "Jabugo                                                  1.0     2250.0   \n",
       "Campofrío                                               1.0      675.0   \n",
       "Manzanilla                                              1.0     2135.0   \n",
       "Sanlúcar de Guadiana                                    1.0      409.0   \n",
       "Cortelazor                                              1.0      299.0   \n",
       "\n",
       "Medida                                  tasa7      tasa14  Diferencia PDIA  \\\n",
       "Lugar de residencia                                                          \n",
       "Lucena del Puerto                   29.664788  652.625334              0.0   \n",
       "Ayamonte                             9.548362  138.451256              0.0   \n",
       "Almonte                              4.133769   37.203919              0.0   \n",
       "Rociana del Condado                 25.461489  178.230426              1.0   \n",
       "Valverde del Camino                 15.600624   93.603744              0.0   \n",
       "Beas                                23.490721  140.944327              0.0   \n",
       "Bonares                             16.507098   82.535490              0.0   \n",
       "San Bartolomé de la Torre          107.066381  481.798715              0.0   \n",
       "Trigueros                           12.965124   51.860495              1.0   \n",
       "Sierra de Huelva-Andévalo Central   16.279173   63.636767              0.0   \n",
       "Punta Umbría                        32.804094  124.655557              0.0   \n",
       "Villanueva de los Castillejos       70.921986  248.226950              0.0   \n",
       "Condado-Campiña                     59.333019  189.607693             14.0   \n",
       "Moguer                              81.492213  258.058674              2.0   \n",
       "Palos de la Frontera                97.439986  301.178138              2.0   \n",
       "Puebla de Guzmán                    32.541490   97.624471              0.0   \n",
       "Villalba del Alcor                 119.832235  359.496705              0.0   \n",
       "Aljaraque                           89.369708  253.998119              2.0   \n",
       "Gibraleón                           39.660506  111.049417              0.0   \n",
       "Huelva                              72.051893  198.338499             35.0   \n",
       "Huelva-Costa                        91.977162  233.934366             24.0   \n",
       "Huelva (capital)                    84.920961  210.214182             17.0   \n",
       "Lepe                               127.592869  313.513908              1.0   \n",
       "Cartaya                            150.195254  350.455592              3.0   \n",
       "Palma del Condado (La)             260.198866  594.740266              4.0   \n",
       "Isla Cristina                      225.733634  484.386757              1.0   \n",
       "Nerva                               19.102197   38.204394              0.0   \n",
       "Paterna del Campo                  113.992590  227.985181              0.0   \n",
       "Cerro de Andévalo (El)              42.301184   84.602369              0.0   \n",
       "Campillo (El)                       49.431537   98.863075              0.0   \n",
       "Bollullos Par del Condado           35.033632   56.053812              1.0   \n",
       "Minas de Riotinto                   51.975052   77.962578              0.0   \n",
       "San Juan del Puerto                 53.763441   75.268817              3.0   \n",
       "Alájar                             132.275132  132.275132              0.0   \n",
       "Jabugo                              44.444444   44.444444              0.0   \n",
       "Campofrío                          148.148148  148.148148              0.0   \n",
       "Manzanilla                          46.838407   46.838407              0.0   \n",
       "Sanlúcar de Guadiana               244.498778  244.498778              0.0   \n",
       "Cortelazor                         334.448161  334.448161              0.0   \n",
       "\n",
       "Medida                                 7/14  \n",
       "Lugar de residencia                          \n",
       "Lucena del Puerto                  0.045455  \n",
       "Ayamonte                           0.068966  \n",
       "Almonte                            0.111111  \n",
       "Rociana del Condado                0.142857  \n",
       "Valverde del Camino                0.166667  \n",
       "Beas                               0.166667  \n",
       "Bonares                            0.200000  \n",
       "San Bartolomé de la Torre          0.222222  \n",
       "Trigueros                          0.250000  \n",
       "Sierra de Huelva-Andévalo Central  0.255814  \n",
       "Punta Umbría                       0.263158  \n",
       "Villanueva de los Castillejos      0.285714  \n",
       "Condado-Campiña                    0.312925  \n",
       "Moguer                             0.315789  \n",
       "Palos de la Frontera               0.323529  \n",
       "Puebla de Guzmán                   0.333333  \n",
       "Villalba del Alcor                 0.333333  \n",
       "Aljaraque                          0.351852  \n",
       "Gibraleón                          0.357143  \n",
       "Huelva                             0.363277  \n",
       "Huelva-Costa                       0.393175  \n",
       "Huelva (capital)                   0.403974  \n",
       "Lepe                               0.406977  \n",
       "Cartaya                            0.428571  \n",
       "Palma del Condado (La)             0.437500  \n",
       "Isla Cristina                      0.466019  \n",
       "Nerva                              0.500000  \n",
       "Paterna del Campo                  0.500000  \n",
       "Cerro de Andévalo (El)             0.500000  \n",
       "Campillo (El)                      0.500000  \n",
       "Bollullos Par del Condado          0.625000  \n",
       "Minas de Riotinto                  0.666667  \n",
       "San Juan del Puerto                0.714286  \n",
       "Alájar                             1.000000  \n",
       "Jabugo                             1.000000  \n",
       "Campofrío                          1.000000  \n",
       "Manzanilla                         1.000000  \n",
       "Sanlúcar de Guadiana               1.000000  \n",
       "Cortelazor                         1.000000  "
      ],
      "text/html": "<div>\n<style scoped>\n    .dataframe tbody tr th:only-of-type {\n        vertical-align: middle;\n    }\n\n    .dataframe tbody tr th {\n        vertical-align: top;\n    }\n\n    .dataframe thead th {\n        text-align: right;\n    }\n</style>\n<table border=\"1\" class=\"dataframe\">\n  <thead>\n    <tr style=\"text-align: right;\">\n      <th>Medida</th>\n      <th>Confirmados PDIA</th>\n      <th>Confirmados PDIA 7 días</th>\n      <th>Confirmados PDIA 14 días</th>\n      <th>Población</th>\n      <th>tasa7</th>\n      <th>tasa14</th>\n      <th>Diferencia PDIA</th>\n      <th>7/14</th>\n    </tr>\n    <tr>\n      <th>Lugar de residencia</th>\n      <th></th>\n      <th></th>\n      <th></th>\n      <th></th>\n      <th></th>\n      <th></th>\n      <th></th>\n      <th></th>\n    </tr>\n  </thead>\n  <tbody>\n    <tr>\n      <th>Lucena del Puerto</th>\n      <td>83.0</td>\n      <td>1.0</td>\n      <td>22.0</td>\n      <td>3371.0</td>\n      <td>29.664788</td>\n      <td>652.625334</td>\n      <td>0.0</td>\n      <td>0.045455</td>\n    </tr>\n    <tr>\n      <th>Ayamonte</th>\n      <td>317.0</td>\n      <td>2.0</td>\n      <td>29.0</td>\n      <td>20946.0</td>\n      <td>9.548362</td>\n      <td>138.451256</td>\n      <td>0.0</td>\n      <td>0.068966</td>\n    </tr>\n    <tr>\n      <th>Almonte</th>\n      <td>434.0</td>\n      <td>1.0</td>\n      <td>9.0</td>\n      <td>24191.0</td>\n      <td>4.133769</td>\n      <td>37.203919</td>\n      <td>0.0</td>\n      <td>0.111111</td>\n    </tr>\n    <tr>\n      <th>Rociana del Condado</th>\n      <td>116.0</td>\n      <td>2.0</td>\n      <td>14.0</td>\n      <td>7855.0</td>\n      <td>25.461489</td>\n      <td>178.230426</td>\n      <td>1.0</td>\n      <td>0.142857</td>\n    </tr>\n    <tr>\n      <th>Valverde del Camino</th>\n      <td>271.0</td>\n      <td>2.0</td>\n      <td>12.0</td>\n      <td>12820.0</td>\n      <td>15.600624</td>\n      <td>93.603744</td>\n      <td>0.0</td>\n      <td>0.166667</td>\n    </tr>\n    <tr>\n      <th>Beas</th>\n      <td>56.0</td>\n      <td>1.0</td>\n      <td>6.0</td>\n      <td>4257.0</td>\n      <td>23.490721</td>\n      <td>140.944327</td>\n      <td>0.0</td>\n      <td>0.166667</td>\n    </tr>\n    <tr>\n      <th>Bonares</th>\n      <td>43.0</td>\n      <td>1.0</td>\n      <td>5.0</td>\n      <td>6058.0</td>\n      <td>16.507098</td>\n      <td>82.535490</td>\n      <td>0.0</td>\n      <td>0.200000</td>\n    </tr>\n    <tr>\n      <th>San Bartolomé de la Torre</th>\n      <td>44.0</td>\n      <td>4.0</td>\n      <td>18.0</td>\n      <td>3736.0</td>\n      <td>107.066381</td>\n      <td>481.798715</td>\n      <td>0.0</td>\n      <td>0.222222</td>\n    </tr>\n    <tr>\n      <th>Trigueros</th>\n      <td>128.0</td>\n      <td>1.0</td>\n      <td>4.0</td>\n      <td>7713.0</td>\n      <td>12.965124</td>\n      <td>51.860495</td>\n      <td>1.0</td>\n      <td>0.250000</td>\n    </tr>\n    <tr>\n      <th>Sierra de Huelva-Andévalo Central</th>\n      <td>1263.0</td>\n      <td>11.0</td>\n      <td>43.0</td>\n      <td>67571.0</td>\n      <td>16.279173</td>\n      <td>63.636767</td>\n      <td>0.0</td>\n      <td>0.255814</td>\n    </tr>\n    <tr>\n      <th>Punta Umbría</th>\n      <td>227.0</td>\n      <td>5.0</td>\n      <td>19.0</td>\n      <td>15242.0</td>\n      <td>32.804094</td>\n      <td>124.655557</td>\n      <td>0.0</td>\n      <td>0.263158</td>\n    </tr>\n    <tr>\n      <th>Villanueva de los Castillejos</th>\n      <td>58.0</td>\n      <td>2.0</td>\n      <td>7.0</td>\n      <td>2820.0</td>\n      <td>70.921986</td>\n      <td>248.226950</td>\n      <td>0.0</td>\n      <td>0.285714</td>\n    </tr>\n    <tr>\n      <th>Condado-Campiña</th>\n      <td>3165.0</td>\n      <td>92.0</td>\n      <td>294.0</td>\n      <td>155057.0</td>\n      <td>59.333019</td>\n      <td>189.607693</td>\n      <td>14.0</td>\n      <td>0.312925</td>\n    </tr>\n    <tr>\n      <th>Moguer</th>\n      <td>337.0</td>\n      <td>18.0</td>\n      <td>57.0</td>\n      <td>22088.0</td>\n      <td>81.492213</td>\n      <td>258.058674</td>\n      <td>2.0</td>\n      <td>0.315789</td>\n    </tr>\n    <tr>\n      <th>Palos de la Frontera</th>\n      <td>217.0</td>\n      <td>11.0</td>\n      <td>34.0</td>\n      <td>11289.0</td>\n      <td>97.439986</td>\n      <td>301.178138</td>\n      <td>2.0</td>\n      <td>0.323529</td>\n    </tr>\n    <tr>\n      <th>Puebla de Guzmán</th>\n      <td>24.0</td>\n      <td>1.0</td>\n      <td>3.0</td>\n      <td>3073.0</td>\n      <td>32.541490</td>\n      <td>97.624471</td>\n      <td>0.0</td>\n      <td>0.333333</td>\n    </tr>\n    <tr>\n      <th>Villalba del Alcor</th>\n      <td>102.0</td>\n      <td>4.0</td>\n      <td>12.0</td>\n      <td>3338.0</td>\n      <td>119.832235</td>\n      <td>359.496705</td>\n      <td>0.0</td>\n      <td>0.333333</td>\n    </tr>\n    <tr>\n      <th>Aljaraque</th>\n      <td>392.0</td>\n      <td>19.0</td>\n      <td>54.0</td>\n      <td>21260.0</td>\n      <td>89.369708</td>\n      <td>253.998119</td>\n      <td>2.0</td>\n      <td>0.351852</td>\n    </tr>\n    <tr>\n      <th>Gibraleón</th>\n      <td>349.0</td>\n      <td>5.0</td>\n      <td>14.0</td>\n      <td>12607.0</td>\n      <td>39.660506</td>\n      <td>111.049417</td>\n      <td>0.0</td>\n      <td>0.357143</td>\n    </tr>\n    <tr>\n      <th>Huelva</th>\n      <td>10295.0</td>\n      <td>368.0</td>\n      <td>1013.0</td>\n      <td>510743.0</td>\n      <td>72.051893</td>\n      <td>198.338499</td>\n      <td>35.0</td>\n      <td>0.363277</td>\n    </tr>\n    <tr>\n      <th>Huelva-Costa</th>\n      <td>5746.0</td>\n      <td>265.0</td>\n      <td>674.0</td>\n      <td>288115.0</td>\n      <td>91.977162</td>\n      <td>233.934366</td>\n      <td>24.0</td>\n      <td>0.393175</td>\n    </tr>\n    <tr>\n      <th>Huelva (capital)</th>\n      <td>2903.0</td>\n      <td>122.0</td>\n      <td>302.0</td>\n      <td>143663.0</td>\n      <td>84.920961</td>\n      <td>210.214182</td>\n      <td>17.0</td>\n      <td>0.403974</td>\n    </tr>\n    <tr>\n      <th>Lepe</th>\n      <td>904.0</td>\n      <td>35.0</td>\n      <td>86.0</td>\n      <td>27431.0</td>\n      <td>127.592869</td>\n      <td>313.513908</td>\n      <td>1.0</td>\n      <td>0.406977</td>\n    </tr>\n    <tr>\n      <th>Cartaya</th>\n      <td>351.0</td>\n      <td>30.0</td>\n      <td>70.0</td>\n      <td>19974.0</td>\n      <td>150.195254</td>\n      <td>350.455592</td>\n      <td>3.0</td>\n      <td>0.428571</td>\n    </tr>\n    <tr>\n      <th>Palma del Condado (La)</th>\n      <td>482.0</td>\n      <td>28.0</td>\n      <td>64.0</td>\n      <td>10761.0</td>\n      <td>260.198866</td>\n      <td>594.740266</td>\n      <td>4.0</td>\n      <td>0.437500</td>\n    </tr>\n    <tr>\n      <th>Isla Cristina</th>\n      <td>377.0</td>\n      <td>48.0</td>\n      <td>103.0</td>\n      <td>21264.0</td>\n      <td>225.733634</td>\n      <td>484.386757</td>\n      <td>1.0</td>\n      <td>0.466019</td>\n    </tr>\n    <tr>\n      <th>Nerva</th>\n      <td>87.0</td>\n      <td>1.0</td>\n      <td>2.0</td>\n      <td>5235.0</td>\n      <td>19.102197</td>\n      <td>38.204394</td>\n      <td>0.0</td>\n      <td>0.500000</td>\n    </tr>\n    <tr>\n      <th>Paterna del Campo</th>\n      <td>60.0</td>\n      <td>4.0</td>\n      <td>8.0</td>\n      <td>3509.0</td>\n      <td>113.992590</td>\n      <td>227.985181</td>\n      <td>0.0</td>\n      <td>0.500000</td>\n    </tr>\n    <tr>\n      <th>Cerro de Andévalo (El)</th>\n      <td>37.0</td>\n      <td>1.0</td>\n      <td>2.0</td>\n      <td>2364.0</td>\n      <td>42.301184</td>\n      <td>84.602369</td>\n      <td>0.0</td>\n      <td>0.500000</td>\n    </tr>\n    <tr>\n      <th>Campillo (El)</th>\n      <td>54.0</td>\n      <td>1.0</td>\n      <td>2.0</td>\n      <td>2023.0</td>\n      <td>49.431537</td>\n      <td>98.863075</td>\n      <td>0.0</td>\n      <td>0.500000</td>\n    </tr>\n    <tr>\n      <th>Bollullos Par del Condado</th>\n      <td>236.0</td>\n      <td>5.0</td>\n      <td>8.0</td>\n      <td>14272.0</td>\n      <td>35.033632</td>\n      <td>56.053812</td>\n      <td>1.0</td>\n      <td>0.625000</td>\n    </tr>\n    <tr>\n      <th>Minas de Riotinto</th>\n      <td>66.0</td>\n      <td>2.0</td>\n      <td>3.0</td>\n      <td>3848.0</td>\n      <td>51.975052</td>\n      <td>77.962578</td>\n      <td>0.0</td>\n      <td>0.666667</td>\n    </tr>\n    <tr>\n      <th>San Juan del Puerto</th>\n      <td>140.0</td>\n      <td>5.0</td>\n      <td>7.0</td>\n      <td>9300.0</td>\n      <td>53.763441</td>\n      <td>75.268817</td>\n      <td>3.0</td>\n      <td>0.714286</td>\n    </tr>\n    <tr>\n      <th>Alájar</th>\n      <td>4.0</td>\n      <td>1.0</td>\n      <td>1.0</td>\n      <td>756.0</td>\n      <td>132.275132</td>\n      <td>132.275132</td>\n      <td>0.0</td>\n      <td>1.000000</td>\n    </tr>\n    <tr>\n      <th>Jabugo</th>\n      <td>35.0</td>\n      <td>1.0</td>\n      <td>1.0</td>\n      <td>2250.0</td>\n      <td>44.444444</td>\n      <td>44.444444</td>\n      <td>0.0</td>\n      <td>1.000000</td>\n    </tr>\n    <tr>\n      <th>Campofrío</th>\n      <td>7.0</td>\n      <td>1.0</td>\n      <td>1.0</td>\n      <td>675.0</td>\n      <td>148.148148</td>\n      <td>148.148148</td>\n      <td>0.0</td>\n      <td>1.000000</td>\n    </tr>\n    <tr>\n      <th>Manzanilla</th>\n      <td>45.0</td>\n      <td>1.0</td>\n      <td>1.0</td>\n      <td>2135.0</td>\n      <td>46.838407</td>\n      <td>46.838407</td>\n      <td>0.0</td>\n      <td>1.000000</td>\n    </tr>\n    <tr>\n      <th>Sanlúcar de Guadiana</th>\n      <td>4.0</td>\n      <td>1.0</td>\n      <td>1.0</td>\n      <td>409.0</td>\n      <td>244.498778</td>\n      <td>244.498778</td>\n      <td>0.0</td>\n      <td>1.000000</td>\n    </tr>\n    <tr>\n      <th>Cortelazor</th>\n      <td>2.0</td>\n      <td>1.0</td>\n      <td>1.0</td>\n      <td>299.0</td>\n      <td>334.448161</td>\n      <td>334.448161</td>\n      <td>0.0</td>\n      <td>1.000000</td>\n    </tr>\n  </tbody>\n</table>\n</div>"
     },
     "metadata": {},
     "execution_count": 18
    }
   ],
   "source": [
    "# Peso de la tasa de la última semana en relación con la tasa a 14 días \n",
    "# Mejor cuanto menor. Valor 1 significa que no había casos antes de 7 días.\n",
    "tabla['7/14'] = tabla['tasa7'] / tabla['tasa14']\n",
    "tabla.fillna(0).sort_values('7/14', ascending=True)"
   ]
  },
  {
   "cell_type": "code",
   "execution_count": null,
   "metadata": {},
   "outputs": [],
   "source": []
  }
 ]
}