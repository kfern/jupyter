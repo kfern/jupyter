{
 "metadata": {
  "language_info": {
   "codemirror_mode": {
    "name": "ipython",
    "version": 3
   },
   "file_extension": ".py",
   "mimetype": "text/x-python",
   "name": "python",
   "nbconvert_exporter": "python",
   "pygments_lexer": "ipython3",
   "version": "3.8.6"
  },
  "orig_nbformat": 2,
  "kernelspec": {
   "name": "python3",
   "display_name": "Python 3",
   "language": "python"
  }
 },
 "nbformat": 4,
 "nbformat_minor": 2,
 "cells": [
  {
   "cell_type": "code",
   "execution_count": 1,
   "metadata": {},
   "outputs": [],
   "source": [
    "import pandas as pd\n",
    "pd.set_option('display.max_rows', None) # Print all rows"
   ]
  },
  {
   "cell_type": "code",
   "execution_count": 2,
   "metadata": {},
   "outputs": [],
   "source": [
    "# FIX SSL: CERTIFICATE_VERIFY_FAILED with Python3\n",
    "# https://stackoverflow.com/a/49174340\n",
    "import ssl\n",
    "\n",
    "ssl._create_default_https_context = ssl._create_unverified_context"
   ]
  },
  {
   "cell_type": "code",
   "execution_count": 3,
   "metadata": {},
   "outputs": [],
   "source": [
    "url = 'https://www.juntadeandalucia.es/institutodeestadisticaycartografia/badea/stpivot/stpivot/Print?cube=013d884c-cfc5-4c21-9e78-e26225682afd&type=3&foto=si&ejecutaDesde=&codConsulta=38668&consTipoVisua=JP'\n",
    "fields = ['Lugar de residencia', 'Medida', 'Valor']\n",
    "df = pd.read_csv(url, delimiter=';', usecols=fields, decimal=',')"
   ]
  },
  {
   "cell_type": "code",
   "execution_count": 4,
   "metadata": {},
   "outputs": [
    {
     "output_type": "execute_result",
     "data": {
      "text/plain": [
       "  Lugar de residencia                    Medida               Valor\n",
       "0              Huelva                 Población              513170\n",
       "1              Huelva          Confirmados PDIA               30368\n",
       "2              Huelva  Confirmados PDIA 14 días                1291\n",
       "3              Huelva         Tasa PDIA 14 días  251,57355262388683\n",
       "4              Huelva   Confirmados PDIA 7 días                 592\n",
       "5              Huelva        Total Confirmados                30547\n",
       "6              Huelva                   Curados               27853\n",
       "7              Huelva                Fallecidos                 377"
      ],
      "text/html": "<div>\n<style scoped>\n    .dataframe tbody tr th:only-of-type {\n        vertical-align: middle;\n    }\n\n    .dataframe tbody tr th {\n        vertical-align: top;\n    }\n\n    .dataframe thead th {\n        text-align: right;\n    }\n</style>\n<table border=\"1\" class=\"dataframe\">\n  <thead>\n    <tr style=\"text-align: right;\">\n      <th></th>\n      <th>Lugar de residencia</th>\n      <th>Medida</th>\n      <th>Valor</th>\n    </tr>\n  </thead>\n  <tbody>\n    <tr>\n      <th>0</th>\n      <td>Huelva</td>\n      <td>Población</td>\n      <td>513170</td>\n    </tr>\n    <tr>\n      <th>1</th>\n      <td>Huelva</td>\n      <td>Confirmados PDIA</td>\n      <td>30368</td>\n    </tr>\n    <tr>\n      <th>2</th>\n      <td>Huelva</td>\n      <td>Confirmados PDIA 14 días</td>\n      <td>1291</td>\n    </tr>\n    <tr>\n      <th>3</th>\n      <td>Huelva</td>\n      <td>Tasa PDIA 14 días</td>\n      <td>251,57355262388683</td>\n    </tr>\n    <tr>\n      <th>4</th>\n      <td>Huelva</td>\n      <td>Confirmados PDIA 7 días</td>\n      <td>592</td>\n    </tr>\n    <tr>\n      <th>5</th>\n      <td>Huelva</td>\n      <td>Total Confirmados</td>\n      <td>30547</td>\n    </tr>\n    <tr>\n      <th>6</th>\n      <td>Huelva</td>\n      <td>Curados</td>\n      <td>27853</td>\n    </tr>\n    <tr>\n      <th>7</th>\n      <td>Huelva</td>\n      <td>Fallecidos</td>\n      <td>377</td>\n    </tr>\n  </tbody>\n</table>\n</div>"
     },
     "metadata": {},
     "execution_count": 4
    }
   ],
   "source": [
    "df[df['Lugar de residencia'] == 'Huelva']"
   ]
  },
  {
   "cell_type": "code",
   "execution_count": 5,
   "metadata": {},
   "outputs": [],
   "source": [
    "df['Valor'] = pd.to_numeric(df['Valor'],errors='coerce')"
   ]
  },
  {
   "cell_type": "code",
   "execution_count": 6,
   "metadata": {},
   "outputs": [],
   "source": [
    "dfAnterior = pd.read_csv('covid_huelva.csv', index_col='Lugar de residencia')"
   ]
  },
  {
   "cell_type": "code",
   "execution_count": 7,
   "metadata": {
    "tags": []
   },
   "outputs": [
    {
     "output_type": "stream",
     "name": "stdout",
     "text": [
      "Confirmados PCR en la provincia de Huelva:  30368.0\n",
      "<ipython-input-7-31b732756b19>:2: UserWarning: Boolean Series key will be reindexed to match DataFrame index.\n",
      "  p = df[df['Lugar de residencia'] == 'Huelva'][df['Medida'] == 'Confirmados PDIA']['Valor'].values[0]\n"
     ]
    }
   ],
   "source": [
    "# Confirmados PCR provincia Huelva\n",
    "p = df[df['Lugar de residencia'] == 'Huelva'][df['Medida'] == 'Confirmados PDIA']['Valor'].values[0]\n",
    "print('Confirmados PCR en la provincia de Huelva: ', p)"
   ]
  },
  {
   "cell_type": "code",
   "execution_count": 8,
   "metadata": {
    "tags": []
   },
   "outputs": [
    {
     "output_type": "stream",
     "name": "stdout",
     "text": [
      "Confirmados PCR en Huelva capital:  7955.0\n",
      "<ipython-input-8-e81bfb40e710>:2: UserWarning: Boolean Series key will be reindexed to match DataFrame index.\n",
      "  c = df[df['Lugar de residencia'] == 'Huelva (capital)'][df['Medida'] == 'Confirmados PDIA']['Valor'].values[0]\n"
     ]
    }
   ],
   "source": [
    "# Confirmados PCR Huelva capitalpd\n",
    "c = df[df['Lugar de residencia'] == 'Huelva (capital)'][df['Medida'] == 'Confirmados PDIA']['Valor'].values[0]\n",
    "print('Confirmados PCR en Huelva capital: ', c)"
   ]
  },
  {
   "cell_type": "code",
   "execution_count": 9,
   "metadata": {
    "tags": []
   },
   "outputs": [
    {
     "output_type": "stream",
     "name": "stderr",
     "text": [
      "<ipython-input-9-f09dd2050cc1>:1: UserWarning: Boolean Series key will be reindexed to match DataFrame index.\n  c7 = df[df['Lugar de residencia'] == 'Huelva (capital)'][df['Medida'] == 'Confirmados PDIA 7 días']['Valor'].values[0]\n<ipython-input-9-f09dd2050cc1>:2: UserWarning: Boolean Series key will be reindexed to match DataFrame index.\n  c14 = df[df['Lugar de residencia'] == 'Huelva (capital)'][df['Medida'] == 'Confirmados PDIA 14 días']['Valor'].values[0]\n<ipython-input-9-f09dd2050cc1>:3: UserWarning: Boolean Series key will be reindexed to match DataFrame index.\n  p = df[df['Lugar de residencia'] == 'Huelva (capital)'][df['Medida'] == 'Población']['Valor'].values[0]\n"
     ]
    }
   ],
   "source": [
    "c7 = df[df['Lugar de residencia'] == 'Huelva (capital)'][df['Medida'] == 'Confirmados PDIA 7 días']['Valor'].values[0]\n",
    "c14 = df[df['Lugar de residencia'] == 'Huelva (capital)'][df['Medida'] == 'Confirmados PDIA 14 días']['Valor'].values[0]\n",
    "p = df[df['Lugar de residencia'] == 'Huelva (capital)'][df['Medida'] == 'Población']['Valor'].values[0]"
   ]
  },
  {
   "cell_type": "code",
   "execution_count": 10,
   "metadata": {
    "tags": []
   },
   "outputs": [
    {
     "output_type": "stream",
     "name": "stdout",
     "text": [
      "Huelva (capital)\n\nUn positivo PCR cada 888 personas en los últimos 7 días \n\nUn positivo PCR cada 385 personas en los últimos 14 días\n"
     ]
    }
   ],
   "source": [
    "print('Huelva (capital)\\n')\n",
    "#print('Confirmados PCR 7 días x 1,000 habitantes: ', f\"{c7/(p/1000):.5f}\")\n",
    "print('Un positivo PCR cada', f\"{p/c7:.0f}\", 'personas en los últimos 7 días', '\\n')\n",
    "#print('Confirmados PCR 14 días x 1,000 habitantes: ', f\"{c14/(p/1000):.5f}\")\n",
    "print('Un positivo PCR cada', f\"{p/c14:.0f}\", 'personas en los últimos 14 días')"
   ]
  },
  {
   "cell_type": "code",
   "execution_count": 11,
   "metadata": {},
   "outputs": [],
   "source": [
    "filtro = ((df['Medida'] == 'Confirmados PDIA')| (df['Medida'] == 'Confirmados PDIA 7 días') | (df['Medida'] == 'Población' ) | (df['Medida'] == 'Confirmados PDIA 14 días')) & (df['Valor'] > 0)\n",
    "tabla = pd.pivot_table(df.loc[filtro], values='Valor', index='Lugar de residencia', columns='Medida').dropna()"
   ]
  },
  {
   "cell_type": "code",
   "execution_count": 12,
   "metadata": {},
   "outputs": [],
   "source": [
    "# Reorder columns\n",
    "tabla = tabla[['Confirmados PDIA', 'Confirmados PDIA 7 días', 'Confirmados PDIA 14 días', 'Población']]"
   ]
  },
  {
   "cell_type": "code",
   "execution_count": 13,
   "metadata": {},
   "outputs": [],
   "source": [
    "tabla['tasa7'] = tabla['Confirmados PDIA 7 días']/tabla['Población']*100000\n",
    "tabla['tasa14'] = tabla['Confirmados PDIA 14 días']/tabla['Población']*100000"
   ]
  },
  {
   "cell_type": "code",
   "execution_count": 14,
   "metadata": {},
   "outputs": [],
   "source": [
    "tabla['Diferencia PDIA'] = tabla['Confirmados PDIA'] - dfAnterior['Confirmados PDIA']"
   ]
  },
  {
   "cell_type": "code",
   "execution_count": 15,
   "metadata": {},
   "outputs": [
    {
     "output_type": "execute_result",
     "data": {
      "text/plain": [
       "Medida                             Confirmados PDIA  Confirmados PDIA 7 días  \\\n",
       "Lugar de residencia                                                            \n",
       "Huelva                                      30368.0                    592.0   \n",
       "Huelva-Costa                                17520.0                    277.0   \n",
       "Condado-Campiña                              9819.0                    262.0   \n",
       "Huelva (capital)                             7955.0                    162.0   \n",
       "Sierra de Huelva-Andévalo Central            2685.0                     51.0   \n",
       "Almonte                                      1743.0                     61.0   \n",
       "Moguer                                       1223.0                     43.0   \n",
       "Aljaraque                                    1046.0                     20.0   \n",
       "Valverde del Camino                           536.0                     24.0   \n",
       "Bollullos Par del Condado                     950.0                     33.0   \n",
       "Rociana del Condado                           544.0                     10.0   \n",
       "Punta Umbría                                  789.0                     28.0   \n",
       "Lepe                                         2112.0                      9.0   \n",
       "Lucena del Puerto                             246.0                      5.0   \n",
       "Cartaya                                      1316.0                     20.0   \n",
       "Palma del Condado (La)                       1118.0                     40.0   \n",
       "Palos de la Frontera                          622.0                     14.0   \n",
       "Calañas                                       188.0                     11.0   \n",
       "Isla Cristina                                2131.0                     15.0   \n",
       "San Juan del Puerto                           479.0                      8.0   \n",
       "Beas                                          207.0                      3.0   \n",
       "Villarrasa                                    165.0                     12.0   \n",
       "Gibraleón                                     608.0                      6.0   \n",
       "Manzanilla                                     95.0                      6.0   \n",
       "Niebla                                        212.0                      4.0   \n",
       "Bonares                                       264.0                      3.0   \n",
       "Aracena                                       518.0                      4.0   \n",
       "Villalba del Alcor                            481.0                      1.0   \n",
       "Cerro de Andévalo (El)                        139.0                      1.0   \n",
       "Paymogo                                        75.0                      1.0   \n",
       "Zalamea la Real                                89.0                      2.0   \n",
       "\n",
       "Medida                             Confirmados PDIA 14 días  Población  \\\n",
       "Lugar de residencia                                                      \n",
       "Huelva                                               1291.0   513170.0   \n",
       "Huelva-Costa                                          598.0   289548.0   \n",
       "Condado-Campiña                                       583.0   156231.0   \n",
       "Huelva (capital)                                      374.0   143837.0   \n",
       "Sierra de Huelva-Andévalo Central                     107.0    67391.0   \n",
       "Almonte                                               139.0    24507.0   \n",
       "Moguer                                                104.0    21867.0   \n",
       "Aljaraque                                              35.0    21474.0   \n",
       "Valverde del Camino                                    52.0    12750.0   \n",
       "Bollullos Par del Condado                              87.0    14387.0   \n",
       "Rociana del Condado                                    18.0     7939.0   \n",
       "Punta Umbría                                           67.0    15355.0   \n",
       "Lepe                                                   24.0    27880.0   \n",
       "Lucena del Puerto                                      13.0     3261.0   \n",
       "Cartaya                                                27.0    20083.0   \n",
       "Palma del Condado (La)                                 70.0    10801.0   \n",
       "Palos de la Frontera                                   24.0    11742.0   \n",
       "Calañas                                                14.0     2768.0   \n",
       "Isla Cristina                                          44.0    21393.0   \n",
       "San Juan del Puerto                                    22.0     9411.0   \n",
       "Beas                                                    5.0     4341.0   \n",
       "Villarrasa                                             18.0     2211.0   \n",
       "Gibraleón                                              14.0    12737.0   \n",
       "Manzanilla                                              9.0     2118.0   \n",
       "Niebla                                                 12.0     4116.0   \n",
       "Bonares                                                 6.0     6060.0   \n",
       "Aracena                                                 5.0     8255.0   \n",
       "Villalba del Alcor                                      9.0     3366.0   \n",
       "Cerro de Andévalo (El)                                  3.0     2327.0   \n",
       "Paymogo                                                 1.0     1162.0   \n",
       "Zalamea la Real                                         3.0     3054.0   \n",
       "\n",
       "Medida                                  tasa7      tasa14  Diferencia PDIA  \n",
       "Lugar de residencia                                                         \n",
       "Huelva                             115.361381  251.573553            127.0  \n",
       "Huelva-Costa                        95.666349  206.528797             61.0  \n",
       "Condado-Campiña                    167.700392  373.165377             53.0  \n",
       "Huelva (capital)                   112.627488  260.016547             39.0  \n",
       "Sierra de Huelva-Andévalo Central   75.677761  158.774911             13.0  \n",
       "Almonte                            248.908475  567.184886             13.0  \n",
       "Moguer                             196.643344  475.602506              8.0  \n",
       "Aljaraque                           93.135885  162.987799              6.0  \n",
       "Valverde del Camino                188.235294  407.843137              6.0  \n",
       "Bollullos Par del Condado          229.373740  604.712588              6.0  \n",
       "Rociana del Condado                125.960448  226.728807              6.0  \n",
       "Punta Umbría                       182.351026  436.339954              5.0  \n",
       "Lepe                                32.281205   86.083214              5.0  \n",
       "Lucena del Puerto                  153.327200  398.650721              3.0  \n",
       "Cartaya                             99.586715  134.442065              3.0  \n",
       "Palma del Condado (La)             370.336080  648.088140              3.0  \n",
       "Palos de la Frontera               119.230114  204.394481              3.0  \n",
       "Calañas                            397.398844  505.780347              3.0  \n",
       "Isla Cristina                       70.116393  205.674753              2.0  \n",
       "San Juan del Puerto                 85.006907  233.768994              2.0  \n",
       "Beas                                69.108500  115.180834              2.0  \n",
       "Villarrasa                         542.740841  814.111262              2.0  \n",
       "Gibraleón                           47.106854  109.915993              1.0  \n",
       "Manzanilla                         283.286119  424.929178              1.0  \n",
       "Niebla                              97.181730  291.545190              1.0  \n",
       "Bonares                             49.504950   99.009901              1.0  \n",
       "Aracena                             48.455482   60.569352              1.0  \n",
       "Villalba del Alcor                  29.708853  267.379679              1.0  \n",
       "Cerro de Andévalo (El)              42.973786  128.921358              NaN  \n",
       "Paymogo                             86.058520   86.058520              NaN  \n",
       "Zalamea la Real                     65.487885   98.231827              NaN  "
      ],
      "text/html": "<div>\n<style scoped>\n    .dataframe tbody tr th:only-of-type {\n        vertical-align: middle;\n    }\n\n    .dataframe tbody tr th {\n        vertical-align: top;\n    }\n\n    .dataframe thead th {\n        text-align: right;\n    }\n</style>\n<table border=\"1\" class=\"dataframe\">\n  <thead>\n    <tr style=\"text-align: right;\">\n      <th>Medida</th>\n      <th>Confirmados PDIA</th>\n      <th>Confirmados PDIA 7 días</th>\n      <th>Confirmados PDIA 14 días</th>\n      <th>Población</th>\n      <th>tasa7</th>\n      <th>tasa14</th>\n      <th>Diferencia PDIA</th>\n    </tr>\n    <tr>\n      <th>Lugar de residencia</th>\n      <th></th>\n      <th></th>\n      <th></th>\n      <th></th>\n      <th></th>\n      <th></th>\n      <th></th>\n    </tr>\n  </thead>\n  <tbody>\n    <tr>\n      <th>Huelva</th>\n      <td>30368.0</td>\n      <td>592.0</td>\n      <td>1291.0</td>\n      <td>513170.0</td>\n      <td>115.361381</td>\n      <td>251.573553</td>\n      <td>127.0</td>\n    </tr>\n    <tr>\n      <th>Huelva-Costa</th>\n      <td>17520.0</td>\n      <td>277.0</td>\n      <td>598.0</td>\n      <td>289548.0</td>\n      <td>95.666349</td>\n      <td>206.528797</td>\n      <td>61.0</td>\n    </tr>\n    <tr>\n      <th>Condado-Campiña</th>\n      <td>9819.0</td>\n      <td>262.0</td>\n      <td>583.0</td>\n      <td>156231.0</td>\n      <td>167.700392</td>\n      <td>373.165377</td>\n      <td>53.0</td>\n    </tr>\n    <tr>\n      <th>Huelva (capital)</th>\n      <td>7955.0</td>\n      <td>162.0</td>\n      <td>374.0</td>\n      <td>143837.0</td>\n      <td>112.627488</td>\n      <td>260.016547</td>\n      <td>39.0</td>\n    </tr>\n    <tr>\n      <th>Sierra de Huelva-Andévalo Central</th>\n      <td>2685.0</td>\n      <td>51.0</td>\n      <td>107.0</td>\n      <td>67391.0</td>\n      <td>75.677761</td>\n      <td>158.774911</td>\n      <td>13.0</td>\n    </tr>\n    <tr>\n      <th>Almonte</th>\n      <td>1743.0</td>\n      <td>61.0</td>\n      <td>139.0</td>\n      <td>24507.0</td>\n      <td>248.908475</td>\n      <td>567.184886</td>\n      <td>13.0</td>\n    </tr>\n    <tr>\n      <th>Moguer</th>\n      <td>1223.0</td>\n      <td>43.0</td>\n      <td>104.0</td>\n      <td>21867.0</td>\n      <td>196.643344</td>\n      <td>475.602506</td>\n      <td>8.0</td>\n    </tr>\n    <tr>\n      <th>Aljaraque</th>\n      <td>1046.0</td>\n      <td>20.0</td>\n      <td>35.0</td>\n      <td>21474.0</td>\n      <td>93.135885</td>\n      <td>162.987799</td>\n      <td>6.0</td>\n    </tr>\n    <tr>\n      <th>Valverde del Camino</th>\n      <td>536.0</td>\n      <td>24.0</td>\n      <td>52.0</td>\n      <td>12750.0</td>\n      <td>188.235294</td>\n      <td>407.843137</td>\n      <td>6.0</td>\n    </tr>\n    <tr>\n      <th>Bollullos Par del Condado</th>\n      <td>950.0</td>\n      <td>33.0</td>\n      <td>87.0</td>\n      <td>14387.0</td>\n      <td>229.373740</td>\n      <td>604.712588</td>\n      <td>6.0</td>\n    </tr>\n    <tr>\n      <th>Rociana del Condado</th>\n      <td>544.0</td>\n      <td>10.0</td>\n      <td>18.0</td>\n      <td>7939.0</td>\n      <td>125.960448</td>\n      <td>226.728807</td>\n      <td>6.0</td>\n    </tr>\n    <tr>\n      <th>Punta Umbría</th>\n      <td>789.0</td>\n      <td>28.0</td>\n      <td>67.0</td>\n      <td>15355.0</td>\n      <td>182.351026</td>\n      <td>436.339954</td>\n      <td>5.0</td>\n    </tr>\n    <tr>\n      <th>Lepe</th>\n      <td>2112.0</td>\n      <td>9.0</td>\n      <td>24.0</td>\n      <td>27880.0</td>\n      <td>32.281205</td>\n      <td>86.083214</td>\n      <td>5.0</td>\n    </tr>\n    <tr>\n      <th>Lucena del Puerto</th>\n      <td>246.0</td>\n      <td>5.0</td>\n      <td>13.0</td>\n      <td>3261.0</td>\n      <td>153.327200</td>\n      <td>398.650721</td>\n      <td>3.0</td>\n    </tr>\n    <tr>\n      <th>Cartaya</th>\n      <td>1316.0</td>\n      <td>20.0</td>\n      <td>27.0</td>\n      <td>20083.0</td>\n      <td>99.586715</td>\n      <td>134.442065</td>\n      <td>3.0</td>\n    </tr>\n    <tr>\n      <th>Palma del Condado (La)</th>\n      <td>1118.0</td>\n      <td>40.0</td>\n      <td>70.0</td>\n      <td>10801.0</td>\n      <td>370.336080</td>\n      <td>648.088140</td>\n      <td>3.0</td>\n    </tr>\n    <tr>\n      <th>Palos de la Frontera</th>\n      <td>622.0</td>\n      <td>14.0</td>\n      <td>24.0</td>\n      <td>11742.0</td>\n      <td>119.230114</td>\n      <td>204.394481</td>\n      <td>3.0</td>\n    </tr>\n    <tr>\n      <th>Calañas</th>\n      <td>188.0</td>\n      <td>11.0</td>\n      <td>14.0</td>\n      <td>2768.0</td>\n      <td>397.398844</td>\n      <td>505.780347</td>\n      <td>3.0</td>\n    </tr>\n    <tr>\n      <th>Isla Cristina</th>\n      <td>2131.0</td>\n      <td>15.0</td>\n      <td>44.0</td>\n      <td>21393.0</td>\n      <td>70.116393</td>\n      <td>205.674753</td>\n      <td>2.0</td>\n    </tr>\n    <tr>\n      <th>San Juan del Puerto</th>\n      <td>479.0</td>\n      <td>8.0</td>\n      <td>22.0</td>\n      <td>9411.0</td>\n      <td>85.006907</td>\n      <td>233.768994</td>\n      <td>2.0</td>\n    </tr>\n    <tr>\n      <th>Beas</th>\n      <td>207.0</td>\n      <td>3.0</td>\n      <td>5.0</td>\n      <td>4341.0</td>\n      <td>69.108500</td>\n      <td>115.180834</td>\n      <td>2.0</td>\n    </tr>\n    <tr>\n      <th>Villarrasa</th>\n      <td>165.0</td>\n      <td>12.0</td>\n      <td>18.0</td>\n      <td>2211.0</td>\n      <td>542.740841</td>\n      <td>814.111262</td>\n      <td>2.0</td>\n    </tr>\n    <tr>\n      <th>Gibraleón</th>\n      <td>608.0</td>\n      <td>6.0</td>\n      <td>14.0</td>\n      <td>12737.0</td>\n      <td>47.106854</td>\n      <td>109.915993</td>\n      <td>1.0</td>\n    </tr>\n    <tr>\n      <th>Manzanilla</th>\n      <td>95.0</td>\n      <td>6.0</td>\n      <td>9.0</td>\n      <td>2118.0</td>\n      <td>283.286119</td>\n      <td>424.929178</td>\n      <td>1.0</td>\n    </tr>\n    <tr>\n      <th>Niebla</th>\n      <td>212.0</td>\n      <td>4.0</td>\n      <td>12.0</td>\n      <td>4116.0</td>\n      <td>97.181730</td>\n      <td>291.545190</td>\n      <td>1.0</td>\n    </tr>\n    <tr>\n      <th>Bonares</th>\n      <td>264.0</td>\n      <td>3.0</td>\n      <td>6.0</td>\n      <td>6060.0</td>\n      <td>49.504950</td>\n      <td>99.009901</td>\n      <td>1.0</td>\n    </tr>\n    <tr>\n      <th>Aracena</th>\n      <td>518.0</td>\n      <td>4.0</td>\n      <td>5.0</td>\n      <td>8255.0</td>\n      <td>48.455482</td>\n      <td>60.569352</td>\n      <td>1.0</td>\n    </tr>\n    <tr>\n      <th>Villalba del Alcor</th>\n      <td>481.0</td>\n      <td>1.0</td>\n      <td>9.0</td>\n      <td>3366.0</td>\n      <td>29.708853</td>\n      <td>267.379679</td>\n      <td>1.0</td>\n    </tr>\n    <tr>\n      <th>Cerro de Andévalo (El)</th>\n      <td>139.0</td>\n      <td>1.0</td>\n      <td>3.0</td>\n      <td>2327.0</td>\n      <td>42.973786</td>\n      <td>128.921358</td>\n      <td>NaN</td>\n    </tr>\n    <tr>\n      <th>Paymogo</th>\n      <td>75.0</td>\n      <td>1.0</td>\n      <td>1.0</td>\n      <td>1162.0</td>\n      <td>86.058520</td>\n      <td>86.058520</td>\n      <td>NaN</td>\n    </tr>\n    <tr>\n      <th>Zalamea la Real</th>\n      <td>89.0</td>\n      <td>2.0</td>\n      <td>3.0</td>\n      <td>3054.0</td>\n      <td>65.487885</td>\n      <td>98.231827</td>\n      <td>NaN</td>\n    </tr>\n  </tbody>\n</table>\n</div>"
     },
     "metadata": {},
     "execution_count": 15
    }
   ],
   "source": [
    "# Nuevos casos desde la última captura\n",
    "tabla[tabla['Diferencia PDIA'] != 0].sort_values('Diferencia PDIA', ascending=False)"
   ]
  },
  {
   "cell_type": "code",
   "execution_count": 16,
   "metadata": {},
   "outputs": [],
   "source": [
    "if tabla[tabla['Diferencia PDIA'] != 0]['Diferencia PDIA'].sum() != 0:\n",
    "  # Save to csv\n",
    "  tabla.to_csv('covid_huelva.csv', encoding='utf-8', header=True, index=True)  "
   ]
  },
  {
   "cell_type": "code",
   "execution_count": 17,
   "metadata": {},
   "outputs": [
    {
     "output_type": "execute_result",
     "data": {
      "text/plain": [
       "Medida                             Confirmados PDIA  Confirmados PDIA 7 días  \\\n",
       "Lugar de residencia                                                            \n",
       "Villarrasa                                    165.0                     12.0   \n",
       "Palma del Condado (La)                       1118.0                     40.0   \n",
       "Bollullos Par del Condado                     950.0                     33.0   \n",
       "Almonte                                      1743.0                     61.0   \n",
       "Cabezas Rubias                                 36.0                      4.0   \n",
       "Calañas                                       188.0                     11.0   \n",
       "Moguer                                       1223.0                     43.0   \n",
       "Punta Umbría                                  789.0                     28.0   \n",
       "Manzanilla                                     95.0                      6.0   \n",
       "Valverde del Camino                           536.0                     24.0   \n",
       "Lucena del Puerto                             246.0                      5.0   \n",
       "Condado-Campiña                              9819.0                    262.0   \n",
       "Niebla                                        212.0                      4.0   \n",
       "Campofrío                                       9.0                      2.0   \n",
       "Villalba del Alcor                            481.0                      1.0   \n",
       "Huelva (capital)                             7955.0                    162.0   \n",
       "Huelva                                      30368.0                    592.0   \n",
       "San Juan del Puerto                           479.0                      8.0   \n",
       "Trigueros                                     291.0                      9.0   \n",
       "Rociana del Condado                           544.0                     10.0   \n",
       "Nerva                                         173.0                      4.0   \n",
       "San Bartolomé de la Torre                     291.0                      4.0   \n",
       "Huelva-Costa                                17520.0                    277.0   \n",
       "Isla Cristina                                2131.0                     15.0   \n",
       "Palos de la Frontera                          622.0                     14.0   \n",
       "Aljaraque                                    1046.0                     20.0   \n",
       "Sierra de Huelva-Andévalo Central            2685.0                     51.0   \n",
       "Villablanca                                   187.0                      2.0   \n",
       "Cartaya                                      1316.0                     20.0   \n",
       "Cerro de Andévalo (El)                        139.0                      1.0   \n",
       "Beas                                          207.0                      3.0   \n",
       "Gibraleón                                     608.0                      6.0   \n",
       "Alosno                                        166.0                      3.0   \n",
       "Bonares                                       264.0                      3.0   \n",
       "Campillo (El)                                  72.0                      2.0   \n",
       "Zalamea la Real                                89.0                      2.0   \n",
       "Lepe                                         2112.0                      9.0   \n",
       "Paymogo                                        75.0                      1.0   \n",
       "Zarza-Perrunal (La)                            23.0                      1.0   \n",
       "Ayamonte                                     1309.0                     12.0   \n",
       "Aracena                                       518.0                      4.0   \n",
       "Puebla de Guzmán                              112.0                      1.0   \n",
       "\n",
       "Medida                             Confirmados PDIA 14 días  Población  \\\n",
       "Lugar de residencia                                                      \n",
       "Villarrasa                                             18.0     2211.0   \n",
       "Palma del Condado (La)                                 70.0    10801.0   \n",
       "Bollullos Par del Condado                              87.0    14387.0   \n",
       "Almonte                                               139.0    24507.0   \n",
       "Cabezas Rubias                                          4.0      706.0   \n",
       "Calañas                                                14.0     2768.0   \n",
       "Moguer                                                104.0    21867.0   \n",
       "Punta Umbría                                           67.0    15355.0   \n",
       "Manzanilla                                              9.0     2118.0   \n",
       "Valverde del Camino                                    52.0    12750.0   \n",
       "Lucena del Puerto                                      13.0     3261.0   \n",
       "Condado-Campiña                                       583.0   156231.0   \n",
       "Niebla                                                 12.0     4116.0   \n",
       "Campofrío                                               2.0      713.0   \n",
       "Villalba del Alcor                                      9.0     3366.0   \n",
       "Huelva (capital)                                      374.0   143837.0   \n",
       "Huelva                                               1291.0   513170.0   \n",
       "San Juan del Puerto                                    22.0     9411.0   \n",
       "Trigueros                                              18.0     7862.0   \n",
       "Rociana del Condado                                    18.0     7939.0   \n",
       "Nerva                                                  11.0     5169.0   \n",
       "San Bartolomé de la Torre                               8.0     3761.0   \n",
       "Huelva-Costa                                          598.0   289548.0   \n",
       "Isla Cristina                                          44.0    21393.0   \n",
       "Palos de la Frontera                                   24.0    11742.0   \n",
       "Aljaraque                                              35.0    21474.0   \n",
       "Sierra de Huelva-Andévalo Central                     107.0    67391.0   \n",
       "Villablanca                                             4.0     2885.0   \n",
       "Cartaya                                                27.0    20083.0   \n",
       "Cerro de Andévalo (El)                                  3.0     2327.0   \n",
       "Beas                                                    5.0     4341.0   \n",
       "Gibraleón                                              14.0    12737.0   \n",
       "Alosno                                                  4.0     3933.0   \n",
       "Bonares                                                 6.0     6060.0   \n",
       "Campillo (El)                                           2.0     2024.0   \n",
       "Zalamea la Real                                         3.0     3054.0   \n",
       "Lepe                                                   24.0    27880.0   \n",
       "Paymogo                                                 1.0     1162.0   \n",
       "Zarza-Perrunal (La)                                     1.0     1253.0   \n",
       "Ayamonte                                               13.0    21104.0   \n",
       "Aracena                                                 5.0     8255.0   \n",
       "Puebla de Guzmán                                        1.0     3092.0   \n",
       "\n",
       "Medida                                  tasa7      tasa14  Diferencia PDIA  \n",
       "Lugar de residencia                                                         \n",
       "Villarrasa                         542.740841  814.111262              2.0  \n",
       "Palma del Condado (La)             370.336080  648.088140              3.0  \n",
       "Bollullos Par del Condado          229.373740  604.712588              6.0  \n",
       "Almonte                            248.908475  567.184886             13.0  \n",
       "Cabezas Rubias                     566.572238  566.572238              0.0  \n",
       "Calañas                            397.398844  505.780347              3.0  \n",
       "Moguer                             196.643344  475.602506              8.0  \n",
       "Punta Umbría                       182.351026  436.339954              5.0  \n",
       "Manzanilla                         283.286119  424.929178              1.0  \n",
       "Valverde del Camino                188.235294  407.843137              6.0  \n",
       "Lucena del Puerto                  153.327200  398.650721              3.0  \n",
       "Condado-Campiña                    167.700392  373.165377             53.0  \n",
       "Niebla                              97.181730  291.545190              1.0  \n",
       "Campofrío                          280.504909  280.504909              0.0  \n",
       "Villalba del Alcor                  29.708853  267.379679              1.0  \n",
       "Huelva (capital)                   112.627488  260.016547             39.0  \n",
       "Huelva                             115.361381  251.573553            127.0  \n",
       "San Juan del Puerto                 85.006907  233.768994              2.0  \n",
       "Trigueros                          114.474688  228.949377              0.0  \n",
       "Rociana del Condado                125.960448  226.728807              6.0  \n",
       "Nerva                               77.384407  212.807119              0.0  \n",
       "San Bartolomé de la Torre          106.354693  212.709386              0.0  \n",
       "Huelva-Costa                        95.666349  206.528797             61.0  \n",
       "Isla Cristina                       70.116393  205.674753              2.0  \n",
       "Palos de la Frontera               119.230114  204.394481              3.0  \n",
       "Aljaraque                           93.135885  162.987799              6.0  \n",
       "Sierra de Huelva-Andévalo Central   75.677761  158.774911             13.0  \n",
       "Villablanca                         69.324090  138.648180              0.0  \n",
       "Cartaya                             99.586715  134.442065              3.0  \n",
       "Cerro de Andévalo (El)              42.973786  128.921358              NaN  \n",
       "Beas                                69.108500  115.180834              2.0  \n",
       "Gibraleón                           47.106854  109.915993              1.0  \n",
       "Alosno                              76.277651  101.703534              0.0  \n",
       "Bonares                             49.504950   99.009901              1.0  \n",
       "Campillo (El)                       98.814229   98.814229              0.0  \n",
       "Zalamea la Real                     65.487885   98.231827              NaN  \n",
       "Lepe                                32.281205   86.083214              5.0  \n",
       "Paymogo                             86.058520   86.058520              NaN  \n",
       "Zarza-Perrunal (La)                 79.808460   79.808460              0.0  \n",
       "Ayamonte                            56.861259   61.599697              0.0  \n",
       "Aracena                             48.455482   60.569352              1.0  \n",
       "Puebla de Guzmán                    32.341527   32.341527              0.0  "
      ],
      "text/html": "<div>\n<style scoped>\n    .dataframe tbody tr th:only-of-type {\n        vertical-align: middle;\n    }\n\n    .dataframe tbody tr th {\n        vertical-align: top;\n    }\n\n    .dataframe thead th {\n        text-align: right;\n    }\n</style>\n<table border=\"1\" class=\"dataframe\">\n  <thead>\n    <tr style=\"text-align: right;\">\n      <th>Medida</th>\n      <th>Confirmados PDIA</th>\n      <th>Confirmados PDIA 7 días</th>\n      <th>Confirmados PDIA 14 días</th>\n      <th>Población</th>\n      <th>tasa7</th>\n      <th>tasa14</th>\n      <th>Diferencia PDIA</th>\n    </tr>\n    <tr>\n      <th>Lugar de residencia</th>\n      <th></th>\n      <th></th>\n      <th></th>\n      <th></th>\n      <th></th>\n      <th></th>\n      <th></th>\n    </tr>\n  </thead>\n  <tbody>\n    <tr>\n      <th>Villarrasa</th>\n      <td>165.0</td>\n      <td>12.0</td>\n      <td>18.0</td>\n      <td>2211.0</td>\n      <td>542.740841</td>\n      <td>814.111262</td>\n      <td>2.0</td>\n    </tr>\n    <tr>\n      <th>Palma del Condado (La)</th>\n      <td>1118.0</td>\n      <td>40.0</td>\n      <td>70.0</td>\n      <td>10801.0</td>\n      <td>370.336080</td>\n      <td>648.088140</td>\n      <td>3.0</td>\n    </tr>\n    <tr>\n      <th>Bollullos Par del Condado</th>\n      <td>950.0</td>\n      <td>33.0</td>\n      <td>87.0</td>\n      <td>14387.0</td>\n      <td>229.373740</td>\n      <td>604.712588</td>\n      <td>6.0</td>\n    </tr>\n    <tr>\n      <th>Almonte</th>\n      <td>1743.0</td>\n      <td>61.0</td>\n      <td>139.0</td>\n      <td>24507.0</td>\n      <td>248.908475</td>\n      <td>567.184886</td>\n      <td>13.0</td>\n    </tr>\n    <tr>\n      <th>Cabezas Rubias</th>\n      <td>36.0</td>\n      <td>4.0</td>\n      <td>4.0</td>\n      <td>706.0</td>\n      <td>566.572238</td>\n      <td>566.572238</td>\n      <td>0.0</td>\n    </tr>\n    <tr>\n      <th>Calañas</th>\n      <td>188.0</td>\n      <td>11.0</td>\n      <td>14.0</td>\n      <td>2768.0</td>\n      <td>397.398844</td>\n      <td>505.780347</td>\n      <td>3.0</td>\n    </tr>\n    <tr>\n      <th>Moguer</th>\n      <td>1223.0</td>\n      <td>43.0</td>\n      <td>104.0</td>\n      <td>21867.0</td>\n      <td>196.643344</td>\n      <td>475.602506</td>\n      <td>8.0</td>\n    </tr>\n    <tr>\n      <th>Punta Umbría</th>\n      <td>789.0</td>\n      <td>28.0</td>\n      <td>67.0</td>\n      <td>15355.0</td>\n      <td>182.351026</td>\n      <td>436.339954</td>\n      <td>5.0</td>\n    </tr>\n    <tr>\n      <th>Manzanilla</th>\n      <td>95.0</td>\n      <td>6.0</td>\n      <td>9.0</td>\n      <td>2118.0</td>\n      <td>283.286119</td>\n      <td>424.929178</td>\n      <td>1.0</td>\n    </tr>\n    <tr>\n      <th>Valverde del Camino</th>\n      <td>536.0</td>\n      <td>24.0</td>\n      <td>52.0</td>\n      <td>12750.0</td>\n      <td>188.235294</td>\n      <td>407.843137</td>\n      <td>6.0</td>\n    </tr>\n    <tr>\n      <th>Lucena del Puerto</th>\n      <td>246.0</td>\n      <td>5.0</td>\n      <td>13.0</td>\n      <td>3261.0</td>\n      <td>153.327200</td>\n      <td>398.650721</td>\n      <td>3.0</td>\n    </tr>\n    <tr>\n      <th>Condado-Campiña</th>\n      <td>9819.0</td>\n      <td>262.0</td>\n      <td>583.0</td>\n      <td>156231.0</td>\n      <td>167.700392</td>\n      <td>373.165377</td>\n      <td>53.0</td>\n    </tr>\n    <tr>\n      <th>Niebla</th>\n      <td>212.0</td>\n      <td>4.0</td>\n      <td>12.0</td>\n      <td>4116.0</td>\n      <td>97.181730</td>\n      <td>291.545190</td>\n      <td>1.0</td>\n    </tr>\n    <tr>\n      <th>Campofrío</th>\n      <td>9.0</td>\n      <td>2.0</td>\n      <td>2.0</td>\n      <td>713.0</td>\n      <td>280.504909</td>\n      <td>280.504909</td>\n      <td>0.0</td>\n    </tr>\n    <tr>\n      <th>Villalba del Alcor</th>\n      <td>481.0</td>\n      <td>1.0</td>\n      <td>9.0</td>\n      <td>3366.0</td>\n      <td>29.708853</td>\n      <td>267.379679</td>\n      <td>1.0</td>\n    </tr>\n    <tr>\n      <th>Huelva (capital)</th>\n      <td>7955.0</td>\n      <td>162.0</td>\n      <td>374.0</td>\n      <td>143837.0</td>\n      <td>112.627488</td>\n      <td>260.016547</td>\n      <td>39.0</td>\n    </tr>\n    <tr>\n      <th>Huelva</th>\n      <td>30368.0</td>\n      <td>592.0</td>\n      <td>1291.0</td>\n      <td>513170.0</td>\n      <td>115.361381</td>\n      <td>251.573553</td>\n      <td>127.0</td>\n    </tr>\n    <tr>\n      <th>San Juan del Puerto</th>\n      <td>479.0</td>\n      <td>8.0</td>\n      <td>22.0</td>\n      <td>9411.0</td>\n      <td>85.006907</td>\n      <td>233.768994</td>\n      <td>2.0</td>\n    </tr>\n    <tr>\n      <th>Trigueros</th>\n      <td>291.0</td>\n      <td>9.0</td>\n      <td>18.0</td>\n      <td>7862.0</td>\n      <td>114.474688</td>\n      <td>228.949377</td>\n      <td>0.0</td>\n    </tr>\n    <tr>\n      <th>Rociana del Condado</th>\n      <td>544.0</td>\n      <td>10.0</td>\n      <td>18.0</td>\n      <td>7939.0</td>\n      <td>125.960448</td>\n      <td>226.728807</td>\n      <td>6.0</td>\n    </tr>\n    <tr>\n      <th>Nerva</th>\n      <td>173.0</td>\n      <td>4.0</td>\n      <td>11.0</td>\n      <td>5169.0</td>\n      <td>77.384407</td>\n      <td>212.807119</td>\n      <td>0.0</td>\n    </tr>\n    <tr>\n      <th>San Bartolomé de la Torre</th>\n      <td>291.0</td>\n      <td>4.0</td>\n      <td>8.0</td>\n      <td>3761.0</td>\n      <td>106.354693</td>\n      <td>212.709386</td>\n      <td>0.0</td>\n    </tr>\n    <tr>\n      <th>Huelva-Costa</th>\n      <td>17520.0</td>\n      <td>277.0</td>\n      <td>598.0</td>\n      <td>289548.0</td>\n      <td>95.666349</td>\n      <td>206.528797</td>\n      <td>61.0</td>\n    </tr>\n    <tr>\n      <th>Isla Cristina</th>\n      <td>2131.0</td>\n      <td>15.0</td>\n      <td>44.0</td>\n      <td>21393.0</td>\n      <td>70.116393</td>\n      <td>205.674753</td>\n      <td>2.0</td>\n    </tr>\n    <tr>\n      <th>Palos de la Frontera</th>\n      <td>622.0</td>\n      <td>14.0</td>\n      <td>24.0</td>\n      <td>11742.0</td>\n      <td>119.230114</td>\n      <td>204.394481</td>\n      <td>3.0</td>\n    </tr>\n    <tr>\n      <th>Aljaraque</th>\n      <td>1046.0</td>\n      <td>20.0</td>\n      <td>35.0</td>\n      <td>21474.0</td>\n      <td>93.135885</td>\n      <td>162.987799</td>\n      <td>6.0</td>\n    </tr>\n    <tr>\n      <th>Sierra de Huelva-Andévalo Central</th>\n      <td>2685.0</td>\n      <td>51.0</td>\n      <td>107.0</td>\n      <td>67391.0</td>\n      <td>75.677761</td>\n      <td>158.774911</td>\n      <td>13.0</td>\n    </tr>\n    <tr>\n      <th>Villablanca</th>\n      <td>187.0</td>\n      <td>2.0</td>\n      <td>4.0</td>\n      <td>2885.0</td>\n      <td>69.324090</td>\n      <td>138.648180</td>\n      <td>0.0</td>\n    </tr>\n    <tr>\n      <th>Cartaya</th>\n      <td>1316.0</td>\n      <td>20.0</td>\n      <td>27.0</td>\n      <td>20083.0</td>\n      <td>99.586715</td>\n      <td>134.442065</td>\n      <td>3.0</td>\n    </tr>\n    <tr>\n      <th>Cerro de Andévalo (El)</th>\n      <td>139.0</td>\n      <td>1.0</td>\n      <td>3.0</td>\n      <td>2327.0</td>\n      <td>42.973786</td>\n      <td>128.921358</td>\n      <td>NaN</td>\n    </tr>\n    <tr>\n      <th>Beas</th>\n      <td>207.0</td>\n      <td>3.0</td>\n      <td>5.0</td>\n      <td>4341.0</td>\n      <td>69.108500</td>\n      <td>115.180834</td>\n      <td>2.0</td>\n    </tr>\n    <tr>\n      <th>Gibraleón</th>\n      <td>608.0</td>\n      <td>6.0</td>\n      <td>14.0</td>\n      <td>12737.0</td>\n      <td>47.106854</td>\n      <td>109.915993</td>\n      <td>1.0</td>\n    </tr>\n    <tr>\n      <th>Alosno</th>\n      <td>166.0</td>\n      <td>3.0</td>\n      <td>4.0</td>\n      <td>3933.0</td>\n      <td>76.277651</td>\n      <td>101.703534</td>\n      <td>0.0</td>\n    </tr>\n    <tr>\n      <th>Bonares</th>\n      <td>264.0</td>\n      <td>3.0</td>\n      <td>6.0</td>\n      <td>6060.0</td>\n      <td>49.504950</td>\n      <td>99.009901</td>\n      <td>1.0</td>\n    </tr>\n    <tr>\n      <th>Campillo (El)</th>\n      <td>72.0</td>\n      <td>2.0</td>\n      <td>2.0</td>\n      <td>2024.0</td>\n      <td>98.814229</td>\n      <td>98.814229</td>\n      <td>0.0</td>\n    </tr>\n    <tr>\n      <th>Zalamea la Real</th>\n      <td>89.0</td>\n      <td>2.0</td>\n      <td>3.0</td>\n      <td>3054.0</td>\n      <td>65.487885</td>\n      <td>98.231827</td>\n      <td>NaN</td>\n    </tr>\n    <tr>\n      <th>Lepe</th>\n      <td>2112.0</td>\n      <td>9.0</td>\n      <td>24.0</td>\n      <td>27880.0</td>\n      <td>32.281205</td>\n      <td>86.083214</td>\n      <td>5.0</td>\n    </tr>\n    <tr>\n      <th>Paymogo</th>\n      <td>75.0</td>\n      <td>1.0</td>\n      <td>1.0</td>\n      <td>1162.0</td>\n      <td>86.058520</td>\n      <td>86.058520</td>\n      <td>NaN</td>\n    </tr>\n    <tr>\n      <th>Zarza-Perrunal (La)</th>\n      <td>23.0</td>\n      <td>1.0</td>\n      <td>1.0</td>\n      <td>1253.0</td>\n      <td>79.808460</td>\n      <td>79.808460</td>\n      <td>0.0</td>\n    </tr>\n    <tr>\n      <th>Ayamonte</th>\n      <td>1309.0</td>\n      <td>12.0</td>\n      <td>13.0</td>\n      <td>21104.0</td>\n      <td>56.861259</td>\n      <td>61.599697</td>\n      <td>0.0</td>\n    </tr>\n    <tr>\n      <th>Aracena</th>\n      <td>518.0</td>\n      <td>4.0</td>\n      <td>5.0</td>\n      <td>8255.0</td>\n      <td>48.455482</td>\n      <td>60.569352</td>\n      <td>1.0</td>\n    </tr>\n    <tr>\n      <th>Puebla de Guzmán</th>\n      <td>112.0</td>\n      <td>1.0</td>\n      <td>1.0</td>\n      <td>3092.0</td>\n      <td>32.341527</td>\n      <td>32.341527</td>\n      <td>0.0</td>\n    </tr>\n  </tbody>\n</table>\n</div>"
     },
     "metadata": {},
     "execution_count": 17
    }
   ],
   "source": [
    "tabla.sort_values('tasa14', ascending=False)"
   ]
  },
  {
   "cell_type": "code",
   "execution_count": 18,
   "metadata": {},
   "outputs": [
    {
     "output_type": "execute_result",
     "data": {
      "text/plain": [
       "Medida                             Confirmados PDIA  Confirmados PDIA 7 días  \\\n",
       "Lugar de residencia                                                            \n",
       "Villalba del Alcor                            481.0                      1.0   \n",
       "Niebla                                        212.0                      4.0   \n",
       "Cerro de Andévalo (El)                        139.0                      1.0   \n",
       "Isla Cristina                                2131.0                     15.0   \n",
       "Nerva                                         173.0                      4.0   \n",
       "San Juan del Puerto                           479.0                      8.0   \n",
       "Lepe                                         2112.0                      9.0   \n",
       "Bollullos Par del Condado                     950.0                     33.0   \n",
       "Lucena del Puerto                             246.0                      5.0   \n",
       "Moguer                                       1223.0                     43.0   \n",
       "Punta Umbría                                  789.0                     28.0   \n",
       "Gibraleón                                     608.0                      6.0   \n",
       "Huelva (capital)                             7955.0                    162.0   \n",
       "Almonte                                      1743.0                     61.0   \n",
       "Condado-Campiña                              9819.0                    262.0   \n",
       "Huelva                                      30368.0                    592.0   \n",
       "Valverde del Camino                           536.0                     24.0   \n",
       "Huelva-Costa                                17520.0                    277.0   \n",
       "Sierra de Huelva-Andévalo Central            2685.0                     51.0   \n",
       "San Bartolomé de la Torre                     291.0                      4.0   \n",
       "Trigueros                                     291.0                      9.0   \n",
       "Villablanca                                   187.0                      2.0   \n",
       "Bonares                                       264.0                      3.0   \n",
       "Rociana del Condado                           544.0                     10.0   \n",
       "Palma del Condado (La)                       1118.0                     40.0   \n",
       "Aljaraque                                    1046.0                     20.0   \n",
       "Palos de la Frontera                          622.0                     14.0   \n",
       "Beas                                          207.0                      3.0   \n",
       "Villarrasa                                    165.0                     12.0   \n",
       "Manzanilla                                     95.0                      6.0   \n",
       "Zalamea la Real                                89.0                      2.0   \n",
       "Cartaya                                      1316.0                     20.0   \n",
       "Alosno                                        166.0                      3.0   \n",
       "Calañas                                       188.0                     11.0   \n",
       "Aracena                                       518.0                      4.0   \n",
       "Ayamonte                                     1309.0                     12.0   \n",
       "Paymogo                                        75.0                      1.0   \n",
       "Puebla de Guzmán                              112.0                      1.0   \n",
       "Campofrío                                       9.0                      2.0   \n",
       "Campillo (El)                                  72.0                      2.0   \n",
       "Cabezas Rubias                                 36.0                      4.0   \n",
       "Zarza-Perrunal (La)                            23.0                      1.0   \n",
       "\n",
       "Medida                             Confirmados PDIA 14 días  Población  \\\n",
       "Lugar de residencia                                                      \n",
       "Villalba del Alcor                                      9.0     3366.0   \n",
       "Niebla                                                 12.0     4116.0   \n",
       "Cerro de Andévalo (El)                                  3.0     2327.0   \n",
       "Isla Cristina                                          44.0    21393.0   \n",
       "Nerva                                                  11.0     5169.0   \n",
       "San Juan del Puerto                                    22.0     9411.0   \n",
       "Lepe                                                   24.0    27880.0   \n",
       "Bollullos Par del Condado                              87.0    14387.0   \n",
       "Lucena del Puerto                                      13.0     3261.0   \n",
       "Moguer                                                104.0    21867.0   \n",
       "Punta Umbría                                           67.0    15355.0   \n",
       "Gibraleón                                              14.0    12737.0   \n",
       "Huelva (capital)                                      374.0   143837.0   \n",
       "Almonte                                               139.0    24507.0   \n",
       "Condado-Campiña                                       583.0   156231.0   \n",
       "Huelva                                               1291.0   513170.0   \n",
       "Valverde del Camino                                    52.0    12750.0   \n",
       "Huelva-Costa                                          598.0   289548.0   \n",
       "Sierra de Huelva-Andévalo Central                     107.0    67391.0   \n",
       "San Bartolomé de la Torre                               8.0     3761.0   \n",
       "Trigueros                                              18.0     7862.0   \n",
       "Villablanca                                             4.0     2885.0   \n",
       "Bonares                                                 6.0     6060.0   \n",
       "Rociana del Condado                                    18.0     7939.0   \n",
       "Palma del Condado (La)                                 70.0    10801.0   \n",
       "Aljaraque                                              35.0    21474.0   \n",
       "Palos de la Frontera                                   24.0    11742.0   \n",
       "Beas                                                    5.0     4341.0   \n",
       "Villarrasa                                             18.0     2211.0   \n",
       "Manzanilla                                              9.0     2118.0   \n",
       "Zalamea la Real                                         3.0     3054.0   \n",
       "Cartaya                                                27.0    20083.0   \n",
       "Alosno                                                  4.0     3933.0   \n",
       "Calañas                                                14.0     2768.0   \n",
       "Aracena                                                 5.0     8255.0   \n",
       "Ayamonte                                               13.0    21104.0   \n",
       "Paymogo                                                 1.0     1162.0   \n",
       "Puebla de Guzmán                                        1.0     3092.0   \n",
       "Campofrío                                               2.0      713.0   \n",
       "Campillo (El)                                           2.0     2024.0   \n",
       "Cabezas Rubias                                          4.0      706.0   \n",
       "Zarza-Perrunal (La)                                     1.0     1253.0   \n",
       "\n",
       "Medida                                  tasa7      tasa14  Diferencia PDIA  \\\n",
       "Lugar de residencia                                                          \n",
       "Villalba del Alcor                  29.708853  267.379679              1.0   \n",
       "Niebla                              97.181730  291.545190              1.0   \n",
       "Cerro de Andévalo (El)              42.973786  128.921358              0.0   \n",
       "Isla Cristina                       70.116393  205.674753              2.0   \n",
       "Nerva                               77.384407  212.807119              0.0   \n",
       "San Juan del Puerto                 85.006907  233.768994              2.0   \n",
       "Lepe                                32.281205   86.083214              5.0   \n",
       "Bollullos Par del Condado          229.373740  604.712588              6.0   \n",
       "Lucena del Puerto                  153.327200  398.650721              3.0   \n",
       "Moguer                             196.643344  475.602506              8.0   \n",
       "Punta Umbría                       182.351026  436.339954              5.0   \n",
       "Gibraleón                           47.106854  109.915993              1.0   \n",
       "Huelva (capital)                   112.627488  260.016547             39.0   \n",
       "Almonte                            248.908475  567.184886             13.0   \n",
       "Condado-Campiña                    167.700392  373.165377             53.0   \n",
       "Huelva                             115.361381  251.573553            127.0   \n",
       "Valverde del Camino                188.235294  407.843137              6.0   \n",
       "Huelva-Costa                        95.666349  206.528797             61.0   \n",
       "Sierra de Huelva-Andévalo Central   75.677761  158.774911             13.0   \n",
       "San Bartolomé de la Torre          106.354693  212.709386              0.0   \n",
       "Trigueros                          114.474688  228.949377              0.0   \n",
       "Villablanca                         69.324090  138.648180              0.0   \n",
       "Bonares                             49.504950   99.009901              1.0   \n",
       "Rociana del Condado                125.960448  226.728807              6.0   \n",
       "Palma del Condado (La)             370.336080  648.088140              3.0   \n",
       "Aljaraque                           93.135885  162.987799              6.0   \n",
       "Palos de la Frontera               119.230114  204.394481              3.0   \n",
       "Beas                                69.108500  115.180834              2.0   \n",
       "Villarrasa                         542.740841  814.111262              2.0   \n",
       "Manzanilla                         283.286119  424.929178              1.0   \n",
       "Zalamea la Real                     65.487885   98.231827              0.0   \n",
       "Cartaya                             99.586715  134.442065              3.0   \n",
       "Alosno                              76.277651  101.703534              0.0   \n",
       "Calañas                            397.398844  505.780347              3.0   \n",
       "Aracena                             48.455482   60.569352              1.0   \n",
       "Ayamonte                            56.861259   61.599697              0.0   \n",
       "Paymogo                             86.058520   86.058520              0.0   \n",
       "Puebla de Guzmán                    32.341527   32.341527              0.0   \n",
       "Campofrío                          280.504909  280.504909              0.0   \n",
       "Campillo (El)                       98.814229   98.814229              0.0   \n",
       "Cabezas Rubias                     566.572238  566.572238              0.0   \n",
       "Zarza-Perrunal (La)                 79.808460   79.808460              0.0   \n",
       "\n",
       "Medida                                 7/14  \n",
       "Lugar de residencia                          \n",
       "Villalba del Alcor                 0.111111  \n",
       "Niebla                             0.333333  \n",
       "Cerro de Andévalo (El)             0.333333  \n",
       "Isla Cristina                      0.340909  \n",
       "Nerva                              0.363636  \n",
       "San Juan del Puerto                0.363636  \n",
       "Lepe                               0.375000  \n",
       "Bollullos Par del Condado          0.379310  \n",
       "Lucena del Puerto                  0.384615  \n",
       "Moguer                             0.413462  \n",
       "Punta Umbría                       0.417910  \n",
       "Gibraleón                          0.428571  \n",
       "Huelva (capital)                   0.433155  \n",
       "Almonte                            0.438849  \n",
       "Condado-Campiña                    0.449400  \n",
       "Huelva                             0.458559  \n",
       "Valverde del Camino                0.461538  \n",
       "Huelva-Costa                       0.463211  \n",
       "Sierra de Huelva-Andévalo Central  0.476636  \n",
       "San Bartolomé de la Torre          0.500000  \n",
       "Trigueros                          0.500000  \n",
       "Villablanca                        0.500000  \n",
       "Bonares                            0.500000  \n",
       "Rociana del Condado                0.555556  \n",
       "Palma del Condado (La)             0.571429  \n",
       "Aljaraque                          0.571429  \n",
       "Palos de la Frontera               0.583333  \n",
       "Beas                               0.600000  \n",
       "Villarrasa                         0.666667  \n",
       "Manzanilla                         0.666667  \n",
       "Zalamea la Real                    0.666667  \n",
       "Cartaya                            0.740741  \n",
       "Alosno                             0.750000  \n",
       "Calañas                            0.785714  \n",
       "Aracena                            0.800000  \n",
       "Ayamonte                           0.923077  \n",
       "Paymogo                            1.000000  \n",
       "Puebla de Guzmán                   1.000000  \n",
       "Campofrío                          1.000000  \n",
       "Campillo (El)                      1.000000  \n",
       "Cabezas Rubias                     1.000000  \n",
       "Zarza-Perrunal (La)                1.000000  "
      ],
      "text/html": "<div>\n<style scoped>\n    .dataframe tbody tr th:only-of-type {\n        vertical-align: middle;\n    }\n\n    .dataframe tbody tr th {\n        vertical-align: top;\n    }\n\n    .dataframe thead th {\n        text-align: right;\n    }\n</style>\n<table border=\"1\" class=\"dataframe\">\n  <thead>\n    <tr style=\"text-align: right;\">\n      <th>Medida</th>\n      <th>Confirmados PDIA</th>\n      <th>Confirmados PDIA 7 días</th>\n      <th>Confirmados PDIA 14 días</th>\n      <th>Población</th>\n      <th>tasa7</th>\n      <th>tasa14</th>\n      <th>Diferencia PDIA</th>\n      <th>7/14</th>\n    </tr>\n    <tr>\n      <th>Lugar de residencia</th>\n      <th></th>\n      <th></th>\n      <th></th>\n      <th></th>\n      <th></th>\n      <th></th>\n      <th></th>\n      <th></th>\n    </tr>\n  </thead>\n  <tbody>\n    <tr>\n      <th>Villalba del Alcor</th>\n      <td>481.0</td>\n      <td>1.0</td>\n      <td>9.0</td>\n      <td>3366.0</td>\n      <td>29.708853</td>\n      <td>267.379679</td>\n      <td>1.0</td>\n      <td>0.111111</td>\n    </tr>\n    <tr>\n      <th>Niebla</th>\n      <td>212.0</td>\n      <td>4.0</td>\n      <td>12.0</td>\n      <td>4116.0</td>\n      <td>97.181730</td>\n      <td>291.545190</td>\n      <td>1.0</td>\n      <td>0.333333</td>\n    </tr>\n    <tr>\n      <th>Cerro de Andévalo (El)</th>\n      <td>139.0</td>\n      <td>1.0</td>\n      <td>3.0</td>\n      <td>2327.0</td>\n      <td>42.973786</td>\n      <td>128.921358</td>\n      <td>0.0</td>\n      <td>0.333333</td>\n    </tr>\n    <tr>\n      <th>Isla Cristina</th>\n      <td>2131.0</td>\n      <td>15.0</td>\n      <td>44.0</td>\n      <td>21393.0</td>\n      <td>70.116393</td>\n      <td>205.674753</td>\n      <td>2.0</td>\n      <td>0.340909</td>\n    </tr>\n    <tr>\n      <th>Nerva</th>\n      <td>173.0</td>\n      <td>4.0</td>\n      <td>11.0</td>\n      <td>5169.0</td>\n      <td>77.384407</td>\n      <td>212.807119</td>\n      <td>0.0</td>\n      <td>0.363636</td>\n    </tr>\n    <tr>\n      <th>San Juan del Puerto</th>\n      <td>479.0</td>\n      <td>8.0</td>\n      <td>22.0</td>\n      <td>9411.0</td>\n      <td>85.006907</td>\n      <td>233.768994</td>\n      <td>2.0</td>\n      <td>0.363636</td>\n    </tr>\n    <tr>\n      <th>Lepe</th>\n      <td>2112.0</td>\n      <td>9.0</td>\n      <td>24.0</td>\n      <td>27880.0</td>\n      <td>32.281205</td>\n      <td>86.083214</td>\n      <td>5.0</td>\n      <td>0.375000</td>\n    </tr>\n    <tr>\n      <th>Bollullos Par del Condado</th>\n      <td>950.0</td>\n      <td>33.0</td>\n      <td>87.0</td>\n      <td>14387.0</td>\n      <td>229.373740</td>\n      <td>604.712588</td>\n      <td>6.0</td>\n      <td>0.379310</td>\n    </tr>\n    <tr>\n      <th>Lucena del Puerto</th>\n      <td>246.0</td>\n      <td>5.0</td>\n      <td>13.0</td>\n      <td>3261.0</td>\n      <td>153.327200</td>\n      <td>398.650721</td>\n      <td>3.0</td>\n      <td>0.384615</td>\n    </tr>\n    <tr>\n      <th>Moguer</th>\n      <td>1223.0</td>\n      <td>43.0</td>\n      <td>104.0</td>\n      <td>21867.0</td>\n      <td>196.643344</td>\n      <td>475.602506</td>\n      <td>8.0</td>\n      <td>0.413462</td>\n    </tr>\n    <tr>\n      <th>Punta Umbría</th>\n      <td>789.0</td>\n      <td>28.0</td>\n      <td>67.0</td>\n      <td>15355.0</td>\n      <td>182.351026</td>\n      <td>436.339954</td>\n      <td>5.0</td>\n      <td>0.417910</td>\n    </tr>\n    <tr>\n      <th>Gibraleón</th>\n      <td>608.0</td>\n      <td>6.0</td>\n      <td>14.0</td>\n      <td>12737.0</td>\n      <td>47.106854</td>\n      <td>109.915993</td>\n      <td>1.0</td>\n      <td>0.428571</td>\n    </tr>\n    <tr>\n      <th>Huelva (capital)</th>\n      <td>7955.0</td>\n      <td>162.0</td>\n      <td>374.0</td>\n      <td>143837.0</td>\n      <td>112.627488</td>\n      <td>260.016547</td>\n      <td>39.0</td>\n      <td>0.433155</td>\n    </tr>\n    <tr>\n      <th>Almonte</th>\n      <td>1743.0</td>\n      <td>61.0</td>\n      <td>139.0</td>\n      <td>24507.0</td>\n      <td>248.908475</td>\n      <td>567.184886</td>\n      <td>13.0</td>\n      <td>0.438849</td>\n    </tr>\n    <tr>\n      <th>Condado-Campiña</th>\n      <td>9819.0</td>\n      <td>262.0</td>\n      <td>583.0</td>\n      <td>156231.0</td>\n      <td>167.700392</td>\n      <td>373.165377</td>\n      <td>53.0</td>\n      <td>0.449400</td>\n    </tr>\n    <tr>\n      <th>Huelva</th>\n      <td>30368.0</td>\n      <td>592.0</td>\n      <td>1291.0</td>\n      <td>513170.0</td>\n      <td>115.361381</td>\n      <td>251.573553</td>\n      <td>127.0</td>\n      <td>0.458559</td>\n    </tr>\n    <tr>\n      <th>Valverde del Camino</th>\n      <td>536.0</td>\n      <td>24.0</td>\n      <td>52.0</td>\n      <td>12750.0</td>\n      <td>188.235294</td>\n      <td>407.843137</td>\n      <td>6.0</td>\n      <td>0.461538</td>\n    </tr>\n    <tr>\n      <th>Huelva-Costa</th>\n      <td>17520.0</td>\n      <td>277.0</td>\n      <td>598.0</td>\n      <td>289548.0</td>\n      <td>95.666349</td>\n      <td>206.528797</td>\n      <td>61.0</td>\n      <td>0.463211</td>\n    </tr>\n    <tr>\n      <th>Sierra de Huelva-Andévalo Central</th>\n      <td>2685.0</td>\n      <td>51.0</td>\n      <td>107.0</td>\n      <td>67391.0</td>\n      <td>75.677761</td>\n      <td>158.774911</td>\n      <td>13.0</td>\n      <td>0.476636</td>\n    </tr>\n    <tr>\n      <th>San Bartolomé de la Torre</th>\n      <td>291.0</td>\n      <td>4.0</td>\n      <td>8.0</td>\n      <td>3761.0</td>\n      <td>106.354693</td>\n      <td>212.709386</td>\n      <td>0.0</td>\n      <td>0.500000</td>\n    </tr>\n    <tr>\n      <th>Trigueros</th>\n      <td>291.0</td>\n      <td>9.0</td>\n      <td>18.0</td>\n      <td>7862.0</td>\n      <td>114.474688</td>\n      <td>228.949377</td>\n      <td>0.0</td>\n      <td>0.500000</td>\n    </tr>\n    <tr>\n      <th>Villablanca</th>\n      <td>187.0</td>\n      <td>2.0</td>\n      <td>4.0</td>\n      <td>2885.0</td>\n      <td>69.324090</td>\n      <td>138.648180</td>\n      <td>0.0</td>\n      <td>0.500000</td>\n    </tr>\n    <tr>\n      <th>Bonares</th>\n      <td>264.0</td>\n      <td>3.0</td>\n      <td>6.0</td>\n      <td>6060.0</td>\n      <td>49.504950</td>\n      <td>99.009901</td>\n      <td>1.0</td>\n      <td>0.500000</td>\n    </tr>\n    <tr>\n      <th>Rociana del Condado</th>\n      <td>544.0</td>\n      <td>10.0</td>\n      <td>18.0</td>\n      <td>7939.0</td>\n      <td>125.960448</td>\n      <td>226.728807</td>\n      <td>6.0</td>\n      <td>0.555556</td>\n    </tr>\n    <tr>\n      <th>Palma del Condado (La)</th>\n      <td>1118.0</td>\n      <td>40.0</td>\n      <td>70.0</td>\n      <td>10801.0</td>\n      <td>370.336080</td>\n      <td>648.088140</td>\n      <td>3.0</td>\n      <td>0.571429</td>\n    </tr>\n    <tr>\n      <th>Aljaraque</th>\n      <td>1046.0</td>\n      <td>20.0</td>\n      <td>35.0</td>\n      <td>21474.0</td>\n      <td>93.135885</td>\n      <td>162.987799</td>\n      <td>6.0</td>\n      <td>0.571429</td>\n    </tr>\n    <tr>\n      <th>Palos de la Frontera</th>\n      <td>622.0</td>\n      <td>14.0</td>\n      <td>24.0</td>\n      <td>11742.0</td>\n      <td>119.230114</td>\n      <td>204.394481</td>\n      <td>3.0</td>\n      <td>0.583333</td>\n    </tr>\n    <tr>\n      <th>Beas</th>\n      <td>207.0</td>\n      <td>3.0</td>\n      <td>5.0</td>\n      <td>4341.0</td>\n      <td>69.108500</td>\n      <td>115.180834</td>\n      <td>2.0</td>\n      <td>0.600000</td>\n    </tr>\n    <tr>\n      <th>Villarrasa</th>\n      <td>165.0</td>\n      <td>12.0</td>\n      <td>18.0</td>\n      <td>2211.0</td>\n      <td>542.740841</td>\n      <td>814.111262</td>\n      <td>2.0</td>\n      <td>0.666667</td>\n    </tr>\n    <tr>\n      <th>Manzanilla</th>\n      <td>95.0</td>\n      <td>6.0</td>\n      <td>9.0</td>\n      <td>2118.0</td>\n      <td>283.286119</td>\n      <td>424.929178</td>\n      <td>1.0</td>\n      <td>0.666667</td>\n    </tr>\n    <tr>\n      <th>Zalamea la Real</th>\n      <td>89.0</td>\n      <td>2.0</td>\n      <td>3.0</td>\n      <td>3054.0</td>\n      <td>65.487885</td>\n      <td>98.231827</td>\n      <td>0.0</td>\n      <td>0.666667</td>\n    </tr>\n    <tr>\n      <th>Cartaya</th>\n      <td>1316.0</td>\n      <td>20.0</td>\n      <td>27.0</td>\n      <td>20083.0</td>\n      <td>99.586715</td>\n      <td>134.442065</td>\n      <td>3.0</td>\n      <td>0.740741</td>\n    </tr>\n    <tr>\n      <th>Alosno</th>\n      <td>166.0</td>\n      <td>3.0</td>\n      <td>4.0</td>\n      <td>3933.0</td>\n      <td>76.277651</td>\n      <td>101.703534</td>\n      <td>0.0</td>\n      <td>0.750000</td>\n    </tr>\n    <tr>\n      <th>Calañas</th>\n      <td>188.0</td>\n      <td>11.0</td>\n      <td>14.0</td>\n      <td>2768.0</td>\n      <td>397.398844</td>\n      <td>505.780347</td>\n      <td>3.0</td>\n      <td>0.785714</td>\n    </tr>\n    <tr>\n      <th>Aracena</th>\n      <td>518.0</td>\n      <td>4.0</td>\n      <td>5.0</td>\n      <td>8255.0</td>\n      <td>48.455482</td>\n      <td>60.569352</td>\n      <td>1.0</td>\n      <td>0.800000</td>\n    </tr>\n    <tr>\n      <th>Ayamonte</th>\n      <td>1309.0</td>\n      <td>12.0</td>\n      <td>13.0</td>\n      <td>21104.0</td>\n      <td>56.861259</td>\n      <td>61.599697</td>\n      <td>0.0</td>\n      <td>0.923077</td>\n    </tr>\n    <tr>\n      <th>Paymogo</th>\n      <td>75.0</td>\n      <td>1.0</td>\n      <td>1.0</td>\n      <td>1162.0</td>\n      <td>86.058520</td>\n      <td>86.058520</td>\n      <td>0.0</td>\n      <td>1.000000</td>\n    </tr>\n    <tr>\n      <th>Puebla de Guzmán</th>\n      <td>112.0</td>\n      <td>1.0</td>\n      <td>1.0</td>\n      <td>3092.0</td>\n      <td>32.341527</td>\n      <td>32.341527</td>\n      <td>0.0</td>\n      <td>1.000000</td>\n    </tr>\n    <tr>\n      <th>Campofrío</th>\n      <td>9.0</td>\n      <td>2.0</td>\n      <td>2.0</td>\n      <td>713.0</td>\n      <td>280.504909</td>\n      <td>280.504909</td>\n      <td>0.0</td>\n      <td>1.000000</td>\n    </tr>\n    <tr>\n      <th>Campillo (El)</th>\n      <td>72.0</td>\n      <td>2.0</td>\n      <td>2.0</td>\n      <td>2024.0</td>\n      <td>98.814229</td>\n      <td>98.814229</td>\n      <td>0.0</td>\n      <td>1.000000</td>\n    </tr>\n    <tr>\n      <th>Cabezas Rubias</th>\n      <td>36.0</td>\n      <td>4.0</td>\n      <td>4.0</td>\n      <td>706.0</td>\n      <td>566.572238</td>\n      <td>566.572238</td>\n      <td>0.0</td>\n      <td>1.000000</td>\n    </tr>\n    <tr>\n      <th>Zarza-Perrunal (La)</th>\n      <td>23.0</td>\n      <td>1.0</td>\n      <td>1.0</td>\n      <td>1253.0</td>\n      <td>79.808460</td>\n      <td>79.808460</td>\n      <td>0.0</td>\n      <td>1.000000</td>\n    </tr>\n  </tbody>\n</table>\n</div>"
     },
     "metadata": {},
     "execution_count": 18
    }
   ],
   "source": [
    "# Peso de la tasa de la última semana en relación con la tasa a 14 días \n",
    "# Mejor cuanto menor. Valor 1 significa que no había casos antes de 7 días.\n",
    "tabla['7/14'] = tabla['tasa7'] / tabla['tasa14']\n",
    "tabla.fillna(0).sort_values('7/14', ascending=True)"
   ]
  },
  {
   "cell_type": "code",
   "execution_count": null,
   "metadata": {},
   "outputs": [],
   "source": []
  }
 ]
}