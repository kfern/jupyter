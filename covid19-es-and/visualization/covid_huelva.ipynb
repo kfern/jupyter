{
 "metadata": {
  "language_info": {
   "codemirror_mode": {
    "name": "ipython",
    "version": 3
   },
   "file_extension": ".py",
   "mimetype": "text/x-python",
   "name": "python",
   "nbconvert_exporter": "python",
   "pygments_lexer": "ipython3",
   "version": "3.8.6"
  },
  "orig_nbformat": 2,
  "kernelspec": {
   "name": "python3",
   "display_name": "Python 3",
   "language": "python"
  }
 },
 "nbformat": 4,
 "nbformat_minor": 2,
 "cells": [
  {
   "cell_type": "code",
   "execution_count": 1,
   "metadata": {},
   "outputs": [],
   "source": [
    "import pandas as pd\n",
    "pd.set_option('display.max_rows', None) # Print all rows"
   ]
  },
  {
   "cell_type": "code",
   "execution_count": 2,
   "metadata": {},
   "outputs": [],
   "source": [
    "# FIX SSL: CERTIFICATE_VERIFY_FAILED with Python3\n",
    "# https://stackoverflow.com/a/49174340\n",
    "import ssl\n",
    "\n",
    "ssl._create_default_https_context = ssl._create_unverified_context"
   ]
  },
  {
   "cell_type": "code",
   "execution_count": 3,
   "metadata": {},
   "outputs": [],
   "source": [
    "url = 'https://www.juntadeandalucia.es/institutodeestadisticaycartografia/badea/stpivot/stpivot/Print?cube=013d884c-cfc5-4c21-9e78-e26225682afd&type=3&foto=si&ejecutaDesde=&codConsulta=38668&consTipoVisua=JP'\n",
    "fields = ['Lugar de residencia', 'Medida', 'Valor']\n",
    "df = pd.read_csv(url, delimiter=';', usecols=fields, decimal=',')"
   ]
  },
  {
   "cell_type": "code",
   "execution_count": 4,
   "metadata": {},
   "outputs": [
    {
     "output_type": "execute_result",
     "data": {
      "text/plain": [
       "  Lugar de residencia                    Medida               Valor\n",
       "0              Huelva                 Población              513170\n",
       "1              Huelva          Confirmados PDIA               31479\n",
       "2              Huelva  Confirmados PDIA 14 días                1464\n",
       "3              Huelva         Tasa PDIA 14 días  285,28557787867567\n",
       "4              Huelva   Confirmados PDIA 7 días                 751\n",
       "5              Huelva        Total Confirmados                31659\n",
       "6              Huelva                   Curados               28956\n",
       "7              Huelva                Fallecidos                 383"
      ],
      "text/html": "<div>\n<style scoped>\n    .dataframe tbody tr th:only-of-type {\n        vertical-align: middle;\n    }\n\n    .dataframe tbody tr th {\n        vertical-align: top;\n    }\n\n    .dataframe thead th {\n        text-align: right;\n    }\n</style>\n<table border=\"1\" class=\"dataframe\">\n  <thead>\n    <tr style=\"text-align: right;\">\n      <th></th>\n      <th>Lugar de residencia</th>\n      <th>Medida</th>\n      <th>Valor</th>\n    </tr>\n  </thead>\n  <tbody>\n    <tr>\n      <th>0</th>\n      <td>Huelva</td>\n      <td>Población</td>\n      <td>513170</td>\n    </tr>\n    <tr>\n      <th>1</th>\n      <td>Huelva</td>\n      <td>Confirmados PDIA</td>\n      <td>31479</td>\n    </tr>\n    <tr>\n      <th>2</th>\n      <td>Huelva</td>\n      <td>Confirmados PDIA 14 días</td>\n      <td>1464</td>\n    </tr>\n    <tr>\n      <th>3</th>\n      <td>Huelva</td>\n      <td>Tasa PDIA 14 días</td>\n      <td>285,28557787867567</td>\n    </tr>\n    <tr>\n      <th>4</th>\n      <td>Huelva</td>\n      <td>Confirmados PDIA 7 días</td>\n      <td>751</td>\n    </tr>\n    <tr>\n      <th>5</th>\n      <td>Huelva</td>\n      <td>Total Confirmados</td>\n      <td>31659</td>\n    </tr>\n    <tr>\n      <th>6</th>\n      <td>Huelva</td>\n      <td>Curados</td>\n      <td>28956</td>\n    </tr>\n    <tr>\n      <th>7</th>\n      <td>Huelva</td>\n      <td>Fallecidos</td>\n      <td>383</td>\n    </tr>\n  </tbody>\n</table>\n</div>"
     },
     "metadata": {},
     "execution_count": 4
    }
   ],
   "source": [
    "df[df['Lugar de residencia'] == 'Huelva']"
   ]
  },
  {
   "cell_type": "code",
   "execution_count": 5,
   "metadata": {},
   "outputs": [],
   "source": [
    "df['Valor'] = pd.to_numeric(df['Valor'],errors='coerce')"
   ]
  },
  {
   "cell_type": "code",
   "execution_count": 6,
   "metadata": {},
   "outputs": [],
   "source": [
    "dfAnterior = pd.read_csv('covid_huelva.csv', index_col='Lugar de residencia')"
   ]
  },
  {
   "cell_type": "code",
   "execution_count": 7,
   "metadata": {
    "tags": []
   },
   "outputs": [
    {
     "output_type": "stream",
     "name": "stdout",
     "text": [
      "Confirmados PCR en la provincia de Huelva:  31479.0\n",
      "<ipython-input-7-31b732756b19>:2: UserWarning: Boolean Series key will be reindexed to match DataFrame index.\n",
      "  p = df[df['Lugar de residencia'] == 'Huelva'][df['Medida'] == 'Confirmados PDIA']['Valor'].values[0]\n"
     ]
    }
   ],
   "source": [
    "# Confirmados PCR provincia Huelva\n",
    "p = df[df['Lugar de residencia'] == 'Huelva'][df['Medida'] == 'Confirmados PDIA']['Valor'].values[0]\n",
    "print('Confirmados PCR en la provincia de Huelva: ', p)"
   ]
  },
  {
   "cell_type": "code",
   "execution_count": 8,
   "metadata": {
    "tags": []
   },
   "outputs": [
    {
     "output_type": "stream",
     "name": "stdout",
     "text": [
      "Confirmados PCR en Huelva capital:  8381.0\n",
      "<ipython-input-8-e81bfb40e710>:2: UserWarning: Boolean Series key will be reindexed to match DataFrame index.\n",
      "  c = df[df['Lugar de residencia'] == 'Huelva (capital)'][df['Medida'] == 'Confirmados PDIA']['Valor'].values[0]\n"
     ]
    }
   ],
   "source": [
    "# Confirmados PCR Huelva capitalpd\n",
    "c = df[df['Lugar de residencia'] == 'Huelva (capital)'][df['Medida'] == 'Confirmados PDIA']['Valor'].values[0]\n",
    "print('Confirmados PCR en Huelva capital: ', c)"
   ]
  },
  {
   "cell_type": "code",
   "execution_count": 9,
   "metadata": {
    "tags": []
   },
   "outputs": [
    {
     "output_type": "stream",
     "name": "stderr",
     "text": [
      "<ipython-input-9-f09dd2050cc1>:1: UserWarning: Boolean Series key will be reindexed to match DataFrame index.\n  c7 = df[df['Lugar de residencia'] == 'Huelva (capital)'][df['Medida'] == 'Confirmados PDIA 7 días']['Valor'].values[0]\n<ipython-input-9-f09dd2050cc1>:2: UserWarning: Boolean Series key will be reindexed to match DataFrame index.\n  c14 = df[df['Lugar de residencia'] == 'Huelva (capital)'][df['Medida'] == 'Confirmados PDIA 14 días']['Valor'].values[0]\n<ipython-input-9-f09dd2050cc1>:3: UserWarning: Boolean Series key will be reindexed to match DataFrame index.\n  p = df[df['Lugar de residencia'] == 'Huelva (capital)'][df['Medida'] == 'Población']['Valor'].values[0]\n"
     ]
    }
   ],
   "source": [
    "c7 = df[df['Lugar de residencia'] == 'Huelva (capital)'][df['Medida'] == 'Confirmados PDIA 7 días']['Valor'].values[0]\n",
    "c14 = df[df['Lugar de residencia'] == 'Huelva (capital)'][df['Medida'] == 'Confirmados PDIA 14 días']['Valor'].values[0]\n",
    "p = df[df['Lugar de residencia'] == 'Huelva (capital)'][df['Medida'] == 'Población']['Valor'].values[0]"
   ]
  },
  {
   "cell_type": "code",
   "execution_count": 10,
   "metadata": {
    "tags": []
   },
   "outputs": [
    {
     "output_type": "stream",
     "name": "stdout",
     "text": [
      "Huelva (capital)\n\nUn positivo PCR cada 516 personas en los últimos 7 días \n\nUn positivo PCR cada 276 personas en los últimos 14 días\n"
     ]
    }
   ],
   "source": [
    "print('Huelva (capital)\\n')\n",
    "#print('Confirmados PCR 7 días x 1,000 habitantes: ', f\"{c7/(p/1000):.5f}\")\n",
    "print('Un positivo PCR cada', f\"{p/c7:.0f}\", 'personas en los últimos 7 días', '\\n')\n",
    "#print('Confirmados PCR 14 días x 1,000 habitantes: ', f\"{c14/(p/1000):.5f}\")\n",
    "print('Un positivo PCR cada', f\"{p/c14:.0f}\", 'personas en los últimos 14 días')"
   ]
  },
  {
   "cell_type": "code",
   "execution_count": 11,
   "metadata": {},
   "outputs": [],
   "source": [
    "filtro = ((df['Medida'] == 'Confirmados PDIA')| (df['Medida'] == 'Confirmados PDIA 7 días') | (df['Medida'] == 'Población' ) | (df['Medida'] == 'Confirmados PDIA 14 días')) & (df['Valor'] > 0)\n",
    "tabla = pd.pivot_table(df.loc[filtro], values='Valor', index='Lugar de residencia', columns='Medida').dropna()"
   ]
  },
  {
   "cell_type": "code",
   "execution_count": 12,
   "metadata": {},
   "outputs": [],
   "source": [
    "# Reorder columns\n",
    "tabla = tabla[['Confirmados PDIA', 'Confirmados PDIA 7 días', 'Confirmados PDIA 14 días', 'Población']]"
   ]
  },
  {
   "cell_type": "code",
   "execution_count": 13,
   "metadata": {},
   "outputs": [],
   "source": [
    "tabla['tasa7'] = tabla['Confirmados PDIA 7 días']/tabla['Población']*100000\n",
    "tabla['tasa14'] = tabla['Confirmados PDIA 14 días']/tabla['Población']*100000"
   ]
  },
  {
   "cell_type": "code",
   "execution_count": 14,
   "metadata": {},
   "outputs": [],
   "source": [
    "tabla['Diferencia PDIA'] = tabla['Confirmados PDIA'] - dfAnterior['Confirmados PDIA']"
   ]
  },
  {
   "cell_type": "code",
   "execution_count": 15,
   "metadata": {},
   "outputs": [
    {
     "output_type": "execute_result",
     "data": {
      "text/plain": [
       "Medida                             Confirmados PDIA  Confirmados PDIA 7 días  \\\n",
       "Lugar de residencia                                                            \n",
       "Huelva                                      31479.0                    751.0   \n",
       "Huelva-Costa                                18115.0                    387.0   \n",
       "Huelva (capital)                             8381.0                    279.0   \n",
       "Condado-Campiña                             10227.0                    274.0   \n",
       "Sierra de Huelva-Andévalo Central            2788.0                     86.0   \n",
       "Almonte                                      1836.0                     76.0   \n",
       "Aljaraque                                    1107.0                     45.0   \n",
       "Valverde del Camino                           586.0                     43.0   \n",
       "Minas de Riotinto                             127.0                     10.0   \n",
       "Punta Umbría                                  812.0                     12.0   \n",
       "Palos de la Frontera                          666.0                     32.0   \n",
       "Cartaya                                      1344.0                     23.0   \n",
       "Moguer                                       1292.0                     36.0   \n",
       "San Juan del Puerto                           504.0                     15.0   \n",
       "Palma del Condado (La)                       1152.0                     15.0   \n",
       "Puebla de Guzmán                              118.0                      5.0   \n",
       "Bonares                                       273.0                      7.0   \n",
       "Isla Cristina                                2150.0                     10.0   \n",
       "Gibraleón                                     632.0                     17.0   \n",
       "Trigueros                                     306.0                     11.0   \n",
       "Aracena                                       528.0                      9.0   \n",
       "Nerva                                         178.0                      4.0   \n",
       "Niebla                                        236.0                     16.0   \n",
       "Cortegana                                     207.0                      6.0   \n",
       "Lucena del Puerto                             254.0                      5.0   \n",
       "Bollullos Par del Condado                     976.0                     17.0   \n",
       "Lepe                                         2128.0                      6.0   \n",
       "Aroche                                         91.0                      1.0   \n",
       "Campillo (El)                                  73.0                      1.0   \n",
       "\n",
       "Medida                             Confirmados PDIA 14 días  Población  \\\n",
       "Lugar de residencia                                                      \n",
       "Huelva                                               1464.0   513170.0   \n",
       "Huelva-Costa                                          753.0   289548.0   \n",
       "Huelva (capital)                                      521.0   143837.0   \n",
       "Condado-Campiña                                       570.0   156231.0   \n",
       "Sierra de Huelva-Andévalo Central                     134.0    67391.0   \n",
       "Almonte                                               140.0    24507.0   \n",
       "Aljaraque                                              74.0    21474.0   \n",
       "Valverde del Camino                                    64.0    12750.0   \n",
       "Minas de Riotinto                                      10.0     3812.0   \n",
       "Punta Umbría                                           41.0    15355.0   \n",
       "Palos de la Frontera                                   53.0    11742.0   \n",
       "Cartaya                                                33.0    20083.0   \n",
       "Moguer                                                 93.0    21867.0   \n",
       "San Juan del Puerto                                    32.0     9411.0   \n",
       "Palma del Condado (La)                                 52.0    10801.0   \n",
       "Puebla de Guzmán                                        7.0     3092.0   \n",
       "Bonares                                                12.0     6060.0   \n",
       "Isla Cristina                                          26.0    21393.0   \n",
       "Gibraleón                                              27.0    12737.0   \n",
       "Trigueros                                              18.0     7862.0   \n",
       "Aracena                                                12.0     8255.0   \n",
       "Nerva                                                   8.0     5169.0   \n",
       "Niebla                                                 25.0     4116.0   \n",
       "Cortegana                                               7.0     4602.0   \n",
       "Lucena del Puerto                                      13.0     3261.0   \n",
       "Bollullos Par del Condado                              43.0    14387.0   \n",
       "Lepe                                                   23.0    27880.0   \n",
       "Aroche                                                  1.0     3054.0   \n",
       "Campillo (El)                                           1.0     2024.0   \n",
       "\n",
       "Medida                                  tasa7      tasa14  Diferencia PDIA  \n",
       "Lugar de residencia                                                         \n",
       "Huelva                             146.345266  285.285578            148.0  \n",
       "Huelva-Costa                       133.656596  260.060508             87.0  \n",
       "Huelva (capital)                   193.969563  362.215563             61.0  \n",
       "Condado-Campiña                    175.381326  364.844365             39.0  \n",
       "Sierra de Huelva-Andévalo Central  127.613480  198.839608             21.0  \n",
       "Almonte                            310.115477  571.265353             19.0  \n",
       "Aljaraque                          209.555742  344.602775             14.0  \n",
       "Valverde del Camino                337.254902  501.960784             10.0  \n",
       "Minas de Riotinto                  262.329486  262.329486              6.0  \n",
       "Punta Umbría                        78.150440  267.014002              4.0  \n",
       "Palos de la Frontera               272.525975  451.371146              4.0  \n",
       "Cartaya                            114.524722  164.318080              3.0  \n",
       "Moguer                             164.631637  425.298395              3.0  \n",
       "San Juan del Puerto                159.387950  340.027627              3.0  \n",
       "Palma del Condado (La)             138.876030  481.436904              3.0  \n",
       "Puebla de Guzmán                   161.707633  226.390686              2.0  \n",
       "Bonares                            115.511551  198.019802              2.0  \n",
       "Isla Cristina                       46.744262  121.535082              2.0  \n",
       "Gibraleón                          133.469420  211.980843              1.0  \n",
       "Trigueros                          139.913508  228.949377              1.0  \n",
       "Aracena                            109.024833  145.366445              1.0  \n",
       "Nerva                               77.384407  154.768814              1.0  \n",
       "Niebla                             388.726919  607.385811              1.0  \n",
       "Cortegana                          130.378096  152.107779              1.0  \n",
       "Lucena del Puerto                  153.327200  398.650721              1.0  \n",
       "Bollullos Par del Condado          118.162230  298.880934              1.0  \n",
       "Lepe                                21.520803   82.496413              1.0  \n",
       "Aroche                              32.743942   32.743942              NaN  \n",
       "Campillo (El)                       49.407115   49.407115              NaN  "
      ],
      "text/html": "<div>\n<style scoped>\n    .dataframe tbody tr th:only-of-type {\n        vertical-align: middle;\n    }\n\n    .dataframe tbody tr th {\n        vertical-align: top;\n    }\n\n    .dataframe thead th {\n        text-align: right;\n    }\n</style>\n<table border=\"1\" class=\"dataframe\">\n  <thead>\n    <tr style=\"text-align: right;\">\n      <th>Medida</th>\n      <th>Confirmados PDIA</th>\n      <th>Confirmados PDIA 7 días</th>\n      <th>Confirmados PDIA 14 días</th>\n      <th>Población</th>\n      <th>tasa7</th>\n      <th>tasa14</th>\n      <th>Diferencia PDIA</th>\n    </tr>\n    <tr>\n      <th>Lugar de residencia</th>\n      <th></th>\n      <th></th>\n      <th></th>\n      <th></th>\n      <th></th>\n      <th></th>\n      <th></th>\n    </tr>\n  </thead>\n  <tbody>\n    <tr>\n      <th>Huelva</th>\n      <td>31479.0</td>\n      <td>751.0</td>\n      <td>1464.0</td>\n      <td>513170.0</td>\n      <td>146.345266</td>\n      <td>285.285578</td>\n      <td>148.0</td>\n    </tr>\n    <tr>\n      <th>Huelva-Costa</th>\n      <td>18115.0</td>\n      <td>387.0</td>\n      <td>753.0</td>\n      <td>289548.0</td>\n      <td>133.656596</td>\n      <td>260.060508</td>\n      <td>87.0</td>\n    </tr>\n    <tr>\n      <th>Huelva (capital)</th>\n      <td>8381.0</td>\n      <td>279.0</td>\n      <td>521.0</td>\n      <td>143837.0</td>\n      <td>193.969563</td>\n      <td>362.215563</td>\n      <td>61.0</td>\n    </tr>\n    <tr>\n      <th>Condado-Campiña</th>\n      <td>10227.0</td>\n      <td>274.0</td>\n      <td>570.0</td>\n      <td>156231.0</td>\n      <td>175.381326</td>\n      <td>364.844365</td>\n      <td>39.0</td>\n    </tr>\n    <tr>\n      <th>Sierra de Huelva-Andévalo Central</th>\n      <td>2788.0</td>\n      <td>86.0</td>\n      <td>134.0</td>\n      <td>67391.0</td>\n      <td>127.613480</td>\n      <td>198.839608</td>\n      <td>21.0</td>\n    </tr>\n    <tr>\n      <th>Almonte</th>\n      <td>1836.0</td>\n      <td>76.0</td>\n      <td>140.0</td>\n      <td>24507.0</td>\n      <td>310.115477</td>\n      <td>571.265353</td>\n      <td>19.0</td>\n    </tr>\n    <tr>\n      <th>Aljaraque</th>\n      <td>1107.0</td>\n      <td>45.0</td>\n      <td>74.0</td>\n      <td>21474.0</td>\n      <td>209.555742</td>\n      <td>344.602775</td>\n      <td>14.0</td>\n    </tr>\n    <tr>\n      <th>Valverde del Camino</th>\n      <td>586.0</td>\n      <td>43.0</td>\n      <td>64.0</td>\n      <td>12750.0</td>\n      <td>337.254902</td>\n      <td>501.960784</td>\n      <td>10.0</td>\n    </tr>\n    <tr>\n      <th>Minas de Riotinto</th>\n      <td>127.0</td>\n      <td>10.0</td>\n      <td>10.0</td>\n      <td>3812.0</td>\n      <td>262.329486</td>\n      <td>262.329486</td>\n      <td>6.0</td>\n    </tr>\n    <tr>\n      <th>Punta Umbría</th>\n      <td>812.0</td>\n      <td>12.0</td>\n      <td>41.0</td>\n      <td>15355.0</td>\n      <td>78.150440</td>\n      <td>267.014002</td>\n      <td>4.0</td>\n    </tr>\n    <tr>\n      <th>Palos de la Frontera</th>\n      <td>666.0</td>\n      <td>32.0</td>\n      <td>53.0</td>\n      <td>11742.0</td>\n      <td>272.525975</td>\n      <td>451.371146</td>\n      <td>4.0</td>\n    </tr>\n    <tr>\n      <th>Cartaya</th>\n      <td>1344.0</td>\n      <td>23.0</td>\n      <td>33.0</td>\n      <td>20083.0</td>\n      <td>114.524722</td>\n      <td>164.318080</td>\n      <td>3.0</td>\n    </tr>\n    <tr>\n      <th>Moguer</th>\n      <td>1292.0</td>\n      <td>36.0</td>\n      <td>93.0</td>\n      <td>21867.0</td>\n      <td>164.631637</td>\n      <td>425.298395</td>\n      <td>3.0</td>\n    </tr>\n    <tr>\n      <th>San Juan del Puerto</th>\n      <td>504.0</td>\n      <td>15.0</td>\n      <td>32.0</td>\n      <td>9411.0</td>\n      <td>159.387950</td>\n      <td>340.027627</td>\n      <td>3.0</td>\n    </tr>\n    <tr>\n      <th>Palma del Condado (La)</th>\n      <td>1152.0</td>\n      <td>15.0</td>\n      <td>52.0</td>\n      <td>10801.0</td>\n      <td>138.876030</td>\n      <td>481.436904</td>\n      <td>3.0</td>\n    </tr>\n    <tr>\n      <th>Puebla de Guzmán</th>\n      <td>118.0</td>\n      <td>5.0</td>\n      <td>7.0</td>\n      <td>3092.0</td>\n      <td>161.707633</td>\n      <td>226.390686</td>\n      <td>2.0</td>\n    </tr>\n    <tr>\n      <th>Bonares</th>\n      <td>273.0</td>\n      <td>7.0</td>\n      <td>12.0</td>\n      <td>6060.0</td>\n      <td>115.511551</td>\n      <td>198.019802</td>\n      <td>2.0</td>\n    </tr>\n    <tr>\n      <th>Isla Cristina</th>\n      <td>2150.0</td>\n      <td>10.0</td>\n      <td>26.0</td>\n      <td>21393.0</td>\n      <td>46.744262</td>\n      <td>121.535082</td>\n      <td>2.0</td>\n    </tr>\n    <tr>\n      <th>Gibraleón</th>\n      <td>632.0</td>\n      <td>17.0</td>\n      <td>27.0</td>\n      <td>12737.0</td>\n      <td>133.469420</td>\n      <td>211.980843</td>\n      <td>1.0</td>\n    </tr>\n    <tr>\n      <th>Trigueros</th>\n      <td>306.0</td>\n      <td>11.0</td>\n      <td>18.0</td>\n      <td>7862.0</td>\n      <td>139.913508</td>\n      <td>228.949377</td>\n      <td>1.0</td>\n    </tr>\n    <tr>\n      <th>Aracena</th>\n      <td>528.0</td>\n      <td>9.0</td>\n      <td>12.0</td>\n      <td>8255.0</td>\n      <td>109.024833</td>\n      <td>145.366445</td>\n      <td>1.0</td>\n    </tr>\n    <tr>\n      <th>Nerva</th>\n      <td>178.0</td>\n      <td>4.0</td>\n      <td>8.0</td>\n      <td>5169.0</td>\n      <td>77.384407</td>\n      <td>154.768814</td>\n      <td>1.0</td>\n    </tr>\n    <tr>\n      <th>Niebla</th>\n      <td>236.0</td>\n      <td>16.0</td>\n      <td>25.0</td>\n      <td>4116.0</td>\n      <td>388.726919</td>\n      <td>607.385811</td>\n      <td>1.0</td>\n    </tr>\n    <tr>\n      <th>Cortegana</th>\n      <td>207.0</td>\n      <td>6.0</td>\n      <td>7.0</td>\n      <td>4602.0</td>\n      <td>130.378096</td>\n      <td>152.107779</td>\n      <td>1.0</td>\n    </tr>\n    <tr>\n      <th>Lucena del Puerto</th>\n      <td>254.0</td>\n      <td>5.0</td>\n      <td>13.0</td>\n      <td>3261.0</td>\n      <td>153.327200</td>\n      <td>398.650721</td>\n      <td>1.0</td>\n    </tr>\n    <tr>\n      <th>Bollullos Par del Condado</th>\n      <td>976.0</td>\n      <td>17.0</td>\n      <td>43.0</td>\n      <td>14387.0</td>\n      <td>118.162230</td>\n      <td>298.880934</td>\n      <td>1.0</td>\n    </tr>\n    <tr>\n      <th>Lepe</th>\n      <td>2128.0</td>\n      <td>6.0</td>\n      <td>23.0</td>\n      <td>27880.0</td>\n      <td>21.520803</td>\n      <td>82.496413</td>\n      <td>1.0</td>\n    </tr>\n    <tr>\n      <th>Aroche</th>\n      <td>91.0</td>\n      <td>1.0</td>\n      <td>1.0</td>\n      <td>3054.0</td>\n      <td>32.743942</td>\n      <td>32.743942</td>\n      <td>NaN</td>\n    </tr>\n    <tr>\n      <th>Campillo (El)</th>\n      <td>73.0</td>\n      <td>1.0</td>\n      <td>1.0</td>\n      <td>2024.0</td>\n      <td>49.407115</td>\n      <td>49.407115</td>\n      <td>NaN</td>\n    </tr>\n  </tbody>\n</table>\n</div>"
     },
     "metadata": {},
     "execution_count": 15
    }
   ],
   "source": [
    "# Nuevos casos desde la última captura\n",
    "tabla[tabla['Diferencia PDIA'] != 0].sort_values('Diferencia PDIA', ascending=False)"
   ]
  },
  {
   "cell_type": "code",
   "execution_count": 16,
   "metadata": {},
   "outputs": [],
   "source": [
    "if tabla[tabla['Diferencia PDIA'] != 0]['Diferencia PDIA'].sum() != 0:\n",
    "  # Save to csv\n",
    "  tabla.to_csv('covid_huelva.csv', encoding='utf-8', header=True, index=True)  "
   ]
  },
  {
   "cell_type": "code",
   "execution_count": 17,
   "metadata": {},
   "outputs": [
    {
     "output_type": "execute_result",
     "data": {
      "text/plain": [
       "Medida                             Confirmados PDIA  Confirmados PDIA 7 días  \\\n",
       "Lugar de residencia                                                            \n",
       "Villarrasa                                    172.0                      6.0   \n",
       "Niebla                                        236.0                     16.0   \n",
       "Almonte                                      1836.0                     76.0   \n",
       "Valverde del Camino                           586.0                     43.0   \n",
       "Palma del Condado (La)                       1152.0                     15.0   \n",
       "Palos de la Frontera                          666.0                     32.0   \n",
       "Moguer                                       1292.0                     36.0   \n",
       "Campofrío                                      10.0                      1.0   \n",
       "Granada de Río-Tinto (La)                       3.0                      1.0   \n",
       "Lucena del Puerto                             254.0                      5.0   \n",
       "Condado-Campiña                             10227.0                    274.0   \n",
       "Huelva (capital)                             8381.0                    279.0   \n",
       "Calañas                                       191.0                      2.0   \n",
       "Aljaraque                                    1107.0                     45.0   \n",
       "Cerro de Andévalo (El)                        146.0                      3.0   \n",
       "San Juan del Puerto                           504.0                     15.0   \n",
       "Manzanilla                                     99.0                      1.0   \n",
       "Bollullos Par del Condado                     976.0                     17.0   \n",
       "Huelva                                      31479.0                    751.0   \n",
       "Punta Umbría                                  812.0                     12.0   \n",
       "San Bartolomé de la Torre                     299.0                      6.0   \n",
       "Minas de Riotinto                             127.0                     10.0   \n",
       "Huelva-Costa                                18115.0                    387.0   \n",
       "Rociana del Condado                           557.0                     13.0   \n",
       "Trigueros                                     306.0                     11.0   \n",
       "Puebla de Guzmán                              118.0                      5.0   \n",
       "Gibraleón                                     632.0                     17.0   \n",
       "Sierra de Huelva-Andévalo Central            2788.0                     86.0   \n",
       "Bonares                                       273.0                      7.0   \n",
       "Villanueva de los Castillejos                 162.0                      3.0   \n",
       "Cartaya                                      1344.0                     23.0   \n",
       "Zarza-Perrunal (La)                            25.0                      1.0   \n",
       "Nerva                                         178.0                      4.0   \n",
       "Cortegana                                     207.0                      6.0   \n",
       "Aracena                                       528.0                      9.0   \n",
       "Zalamea la Real                                91.0                      1.0   \n",
       "Isla Cristina                                2150.0                     10.0   \n",
       "Lepe                                         2128.0                      6.0   \n",
       "Ayamonte                                     1317.0                      3.0   \n",
       "Higuera de la Sierra                           33.0                      1.0   \n",
       "Paterna del Campo                             128.0                      1.0   \n",
       "Cumbres Mayores                                51.0                      1.0   \n",
       "Campillo (El)                                  73.0                      1.0   \n",
       "Jabugo                                         64.0                      1.0   \n",
       "Aroche                                         91.0                      1.0   \n",
       "Alosno                                        167.0                      1.0   \n",
       "\n",
       "Medida                             Confirmados PDIA 14 días  Población  \\\n",
       "Lugar de residencia                                                      \n",
       "Villarrasa                                             16.0     2211.0   \n",
       "Niebla                                                 25.0     4116.0   \n",
       "Almonte                                               140.0    24507.0   \n",
       "Valverde del Camino                                    64.0    12750.0   \n",
       "Palma del Condado (La)                                 52.0    10801.0   \n",
       "Palos de la Frontera                                   53.0    11742.0   \n",
       "Moguer                                                 93.0    21867.0   \n",
       "Campofrío                                               3.0      713.0   \n",
       "Granada de Río-Tinto (La)                               1.0      243.0   \n",
       "Lucena del Puerto                                      13.0     3261.0   \n",
       "Condado-Campiña                                       570.0   156231.0   \n",
       "Huelva (capital)                                      521.0   143837.0   \n",
       "Calañas                                                10.0     2768.0   \n",
       "Aljaraque                                              74.0    21474.0   \n",
       "Cerro de Andévalo (El)                                  8.0     2327.0   \n",
       "San Juan del Puerto                                    32.0     9411.0   \n",
       "Manzanilla                                              7.0     2118.0   \n",
       "Bollullos Par del Condado                              43.0    14387.0   \n",
       "Huelva                                               1464.0   513170.0   \n",
       "Punta Umbría                                           41.0    15355.0   \n",
       "San Bartolomé de la Torre                              10.0     3761.0   \n",
       "Minas de Riotinto                                      10.0     3812.0   \n",
       "Huelva-Costa                                          753.0   289548.0   \n",
       "Rociana del Condado                                    20.0     7939.0   \n",
       "Trigueros                                              18.0     7862.0   \n",
       "Puebla de Guzmán                                        7.0     3092.0   \n",
       "Gibraleón                                              27.0    12737.0   \n",
       "Sierra de Huelva-Andévalo Central                     134.0    67391.0   \n",
       "Bonares                                                12.0     6060.0   \n",
       "Villanueva de los Castillejos                           5.0     2825.0   \n",
       "Cartaya                                                33.0    20083.0   \n",
       "Zarza-Perrunal (La)                                     2.0     1253.0   \n",
       "Nerva                                                   8.0     5169.0   \n",
       "Cortegana                                               7.0     4602.0   \n",
       "Aracena                                                12.0     8255.0   \n",
       "Zalamea la Real                                         4.0     3054.0   \n",
       "Isla Cristina                                          26.0    21393.0   \n",
       "Lepe                                                   23.0    27880.0   \n",
       "Ayamonte                                               17.0    21104.0   \n",
       "Higuera de la Sierra                                    1.0     1291.0   \n",
       "Paterna del Campo                                       2.0     3457.0   \n",
       "Cumbres Mayores                                         1.0     1749.0   \n",
       "Campillo (El)                                           1.0     2024.0   \n",
       "Jabugo                                                  1.0     2260.0   \n",
       "Aroche                                                  1.0     3054.0   \n",
       "Alosno                                                  1.0     3933.0   \n",
       "\n",
       "Medida                                  tasa7      tasa14  Diferencia PDIA  \n",
       "Lugar de residencia                                                         \n",
       "Villarrasa                         271.370421  723.654455              0.0  \n",
       "Niebla                             388.726919  607.385811              1.0  \n",
       "Almonte                            310.115477  571.265353             19.0  \n",
       "Valverde del Camino                337.254902  501.960784             10.0  \n",
       "Palma del Condado (La)             138.876030  481.436904              3.0  \n",
       "Palos de la Frontera               272.525975  451.371146              4.0  \n",
       "Moguer                             164.631637  425.298395              3.0  \n",
       "Campofrío                          140.252454  420.757363              0.0  \n",
       "Granada de Río-Tinto (La)          411.522634  411.522634              0.0  \n",
       "Lucena del Puerto                  153.327200  398.650721              1.0  \n",
       "Condado-Campiña                    175.381326  364.844365             39.0  \n",
       "Huelva (capital)                   193.969563  362.215563             61.0  \n",
       "Calañas                             72.254335  361.271676              0.0  \n",
       "Aljaraque                          209.555742  344.602775             14.0  \n",
       "Cerro de Andévalo (El)             128.921358  343.790288              0.0  \n",
       "San Juan del Puerto                159.387950  340.027627              3.0  \n",
       "Manzanilla                          47.214353  330.500472              0.0  \n",
       "Bollullos Par del Condado          118.162230  298.880934              1.0  \n",
       "Huelva                             146.345266  285.285578            148.0  \n",
       "Punta Umbría                        78.150440  267.014002              4.0  \n",
       "San Bartolomé de la Torre          159.532039  265.886732              0.0  \n",
       "Minas de Riotinto                  262.329486  262.329486              6.0  \n",
       "Huelva-Costa                       133.656596  260.060508             87.0  \n",
       "Rociana del Condado                163.748583  251.920897              0.0  \n",
       "Trigueros                          139.913508  228.949377              1.0  \n",
       "Puebla de Guzmán                   161.707633  226.390686              2.0  \n",
       "Gibraleón                          133.469420  211.980843              1.0  \n",
       "Sierra de Huelva-Andévalo Central  127.613480  198.839608             21.0  \n",
       "Bonares                            115.511551  198.019802              2.0  \n",
       "Villanueva de los Castillejos      106.194690  176.991150              0.0  \n",
       "Cartaya                            114.524722  164.318080              3.0  \n",
       "Zarza-Perrunal (La)                 79.808460  159.616919              0.0  \n",
       "Nerva                               77.384407  154.768814              1.0  \n",
       "Cortegana                          130.378096  152.107779              1.0  \n",
       "Aracena                            109.024833  145.366445              1.0  \n",
       "Zalamea la Real                     32.743942  130.975769              0.0  \n",
       "Isla Cristina                       46.744262  121.535082              2.0  \n",
       "Lepe                                21.520803   82.496413              1.0  \n",
       "Ayamonte                            14.215315   80.553450              0.0  \n",
       "Higuera de la Sierra                77.459334   77.459334              0.0  \n",
       "Paterna del Campo                   28.926815   57.853630              0.0  \n",
       "Cumbres Mayores                     57.175529   57.175529              0.0  \n",
       "Campillo (El)                       49.407115   49.407115              NaN  \n",
       "Jabugo                              44.247788   44.247788              0.0  \n",
       "Aroche                              32.743942   32.743942              NaN  \n",
       "Alosno                              25.425884   25.425884              0.0  "
      ],
      "text/html": "<div>\n<style scoped>\n    .dataframe tbody tr th:only-of-type {\n        vertical-align: middle;\n    }\n\n    .dataframe tbody tr th {\n        vertical-align: top;\n    }\n\n    .dataframe thead th {\n        text-align: right;\n    }\n</style>\n<table border=\"1\" class=\"dataframe\">\n  <thead>\n    <tr style=\"text-align: right;\">\n      <th>Medida</th>\n      <th>Confirmados PDIA</th>\n      <th>Confirmados PDIA 7 días</th>\n      <th>Confirmados PDIA 14 días</th>\n      <th>Población</th>\n      <th>tasa7</th>\n      <th>tasa14</th>\n      <th>Diferencia PDIA</th>\n    </tr>\n    <tr>\n      <th>Lugar de residencia</th>\n      <th></th>\n      <th></th>\n      <th></th>\n      <th></th>\n      <th></th>\n      <th></th>\n      <th></th>\n    </tr>\n  </thead>\n  <tbody>\n    <tr>\n      <th>Villarrasa</th>\n      <td>172.0</td>\n      <td>6.0</td>\n      <td>16.0</td>\n      <td>2211.0</td>\n      <td>271.370421</td>\n      <td>723.654455</td>\n      <td>0.0</td>\n    </tr>\n    <tr>\n      <th>Niebla</th>\n      <td>236.0</td>\n      <td>16.0</td>\n      <td>25.0</td>\n      <td>4116.0</td>\n      <td>388.726919</td>\n      <td>607.385811</td>\n      <td>1.0</td>\n    </tr>\n    <tr>\n      <th>Almonte</th>\n      <td>1836.0</td>\n      <td>76.0</td>\n      <td>140.0</td>\n      <td>24507.0</td>\n      <td>310.115477</td>\n      <td>571.265353</td>\n      <td>19.0</td>\n    </tr>\n    <tr>\n      <th>Valverde del Camino</th>\n      <td>586.0</td>\n      <td>43.0</td>\n      <td>64.0</td>\n      <td>12750.0</td>\n      <td>337.254902</td>\n      <td>501.960784</td>\n      <td>10.0</td>\n    </tr>\n    <tr>\n      <th>Palma del Condado (La)</th>\n      <td>1152.0</td>\n      <td>15.0</td>\n      <td>52.0</td>\n      <td>10801.0</td>\n      <td>138.876030</td>\n      <td>481.436904</td>\n      <td>3.0</td>\n    </tr>\n    <tr>\n      <th>Palos de la Frontera</th>\n      <td>666.0</td>\n      <td>32.0</td>\n      <td>53.0</td>\n      <td>11742.0</td>\n      <td>272.525975</td>\n      <td>451.371146</td>\n      <td>4.0</td>\n    </tr>\n    <tr>\n      <th>Moguer</th>\n      <td>1292.0</td>\n      <td>36.0</td>\n      <td>93.0</td>\n      <td>21867.0</td>\n      <td>164.631637</td>\n      <td>425.298395</td>\n      <td>3.0</td>\n    </tr>\n    <tr>\n      <th>Campofrío</th>\n      <td>10.0</td>\n      <td>1.0</td>\n      <td>3.0</td>\n      <td>713.0</td>\n      <td>140.252454</td>\n      <td>420.757363</td>\n      <td>0.0</td>\n    </tr>\n    <tr>\n      <th>Granada de Río-Tinto (La)</th>\n      <td>3.0</td>\n      <td>1.0</td>\n      <td>1.0</td>\n      <td>243.0</td>\n      <td>411.522634</td>\n      <td>411.522634</td>\n      <td>0.0</td>\n    </tr>\n    <tr>\n      <th>Lucena del Puerto</th>\n      <td>254.0</td>\n      <td>5.0</td>\n      <td>13.0</td>\n      <td>3261.0</td>\n      <td>153.327200</td>\n      <td>398.650721</td>\n      <td>1.0</td>\n    </tr>\n    <tr>\n      <th>Condado-Campiña</th>\n      <td>10227.0</td>\n      <td>274.0</td>\n      <td>570.0</td>\n      <td>156231.0</td>\n      <td>175.381326</td>\n      <td>364.844365</td>\n      <td>39.0</td>\n    </tr>\n    <tr>\n      <th>Huelva (capital)</th>\n      <td>8381.0</td>\n      <td>279.0</td>\n      <td>521.0</td>\n      <td>143837.0</td>\n      <td>193.969563</td>\n      <td>362.215563</td>\n      <td>61.0</td>\n    </tr>\n    <tr>\n      <th>Calañas</th>\n      <td>191.0</td>\n      <td>2.0</td>\n      <td>10.0</td>\n      <td>2768.0</td>\n      <td>72.254335</td>\n      <td>361.271676</td>\n      <td>0.0</td>\n    </tr>\n    <tr>\n      <th>Aljaraque</th>\n      <td>1107.0</td>\n      <td>45.0</td>\n      <td>74.0</td>\n      <td>21474.0</td>\n      <td>209.555742</td>\n      <td>344.602775</td>\n      <td>14.0</td>\n    </tr>\n    <tr>\n      <th>Cerro de Andévalo (El)</th>\n      <td>146.0</td>\n      <td>3.0</td>\n      <td>8.0</td>\n      <td>2327.0</td>\n      <td>128.921358</td>\n      <td>343.790288</td>\n      <td>0.0</td>\n    </tr>\n    <tr>\n      <th>San Juan del Puerto</th>\n      <td>504.0</td>\n      <td>15.0</td>\n      <td>32.0</td>\n      <td>9411.0</td>\n      <td>159.387950</td>\n      <td>340.027627</td>\n      <td>3.0</td>\n    </tr>\n    <tr>\n      <th>Manzanilla</th>\n      <td>99.0</td>\n      <td>1.0</td>\n      <td>7.0</td>\n      <td>2118.0</td>\n      <td>47.214353</td>\n      <td>330.500472</td>\n      <td>0.0</td>\n    </tr>\n    <tr>\n      <th>Bollullos Par del Condado</th>\n      <td>976.0</td>\n      <td>17.0</td>\n      <td>43.0</td>\n      <td>14387.0</td>\n      <td>118.162230</td>\n      <td>298.880934</td>\n      <td>1.0</td>\n    </tr>\n    <tr>\n      <th>Huelva</th>\n      <td>31479.0</td>\n      <td>751.0</td>\n      <td>1464.0</td>\n      <td>513170.0</td>\n      <td>146.345266</td>\n      <td>285.285578</td>\n      <td>148.0</td>\n    </tr>\n    <tr>\n      <th>Punta Umbría</th>\n      <td>812.0</td>\n      <td>12.0</td>\n      <td>41.0</td>\n      <td>15355.0</td>\n      <td>78.150440</td>\n      <td>267.014002</td>\n      <td>4.0</td>\n    </tr>\n    <tr>\n      <th>San Bartolomé de la Torre</th>\n      <td>299.0</td>\n      <td>6.0</td>\n      <td>10.0</td>\n      <td>3761.0</td>\n      <td>159.532039</td>\n      <td>265.886732</td>\n      <td>0.0</td>\n    </tr>\n    <tr>\n      <th>Minas de Riotinto</th>\n      <td>127.0</td>\n      <td>10.0</td>\n      <td>10.0</td>\n      <td>3812.0</td>\n      <td>262.329486</td>\n      <td>262.329486</td>\n      <td>6.0</td>\n    </tr>\n    <tr>\n      <th>Huelva-Costa</th>\n      <td>18115.0</td>\n      <td>387.0</td>\n      <td>753.0</td>\n      <td>289548.0</td>\n      <td>133.656596</td>\n      <td>260.060508</td>\n      <td>87.0</td>\n    </tr>\n    <tr>\n      <th>Rociana del Condado</th>\n      <td>557.0</td>\n      <td>13.0</td>\n      <td>20.0</td>\n      <td>7939.0</td>\n      <td>163.748583</td>\n      <td>251.920897</td>\n      <td>0.0</td>\n    </tr>\n    <tr>\n      <th>Trigueros</th>\n      <td>306.0</td>\n      <td>11.0</td>\n      <td>18.0</td>\n      <td>7862.0</td>\n      <td>139.913508</td>\n      <td>228.949377</td>\n      <td>1.0</td>\n    </tr>\n    <tr>\n      <th>Puebla de Guzmán</th>\n      <td>118.0</td>\n      <td>5.0</td>\n      <td>7.0</td>\n      <td>3092.0</td>\n      <td>161.707633</td>\n      <td>226.390686</td>\n      <td>2.0</td>\n    </tr>\n    <tr>\n      <th>Gibraleón</th>\n      <td>632.0</td>\n      <td>17.0</td>\n      <td>27.0</td>\n      <td>12737.0</td>\n      <td>133.469420</td>\n      <td>211.980843</td>\n      <td>1.0</td>\n    </tr>\n    <tr>\n      <th>Sierra de Huelva-Andévalo Central</th>\n      <td>2788.0</td>\n      <td>86.0</td>\n      <td>134.0</td>\n      <td>67391.0</td>\n      <td>127.613480</td>\n      <td>198.839608</td>\n      <td>21.0</td>\n    </tr>\n    <tr>\n      <th>Bonares</th>\n      <td>273.0</td>\n      <td>7.0</td>\n      <td>12.0</td>\n      <td>6060.0</td>\n      <td>115.511551</td>\n      <td>198.019802</td>\n      <td>2.0</td>\n    </tr>\n    <tr>\n      <th>Villanueva de los Castillejos</th>\n      <td>162.0</td>\n      <td>3.0</td>\n      <td>5.0</td>\n      <td>2825.0</td>\n      <td>106.194690</td>\n      <td>176.991150</td>\n      <td>0.0</td>\n    </tr>\n    <tr>\n      <th>Cartaya</th>\n      <td>1344.0</td>\n      <td>23.0</td>\n      <td>33.0</td>\n      <td>20083.0</td>\n      <td>114.524722</td>\n      <td>164.318080</td>\n      <td>3.0</td>\n    </tr>\n    <tr>\n      <th>Zarza-Perrunal (La)</th>\n      <td>25.0</td>\n      <td>1.0</td>\n      <td>2.0</td>\n      <td>1253.0</td>\n      <td>79.808460</td>\n      <td>159.616919</td>\n      <td>0.0</td>\n    </tr>\n    <tr>\n      <th>Nerva</th>\n      <td>178.0</td>\n      <td>4.0</td>\n      <td>8.0</td>\n      <td>5169.0</td>\n      <td>77.384407</td>\n      <td>154.768814</td>\n      <td>1.0</td>\n    </tr>\n    <tr>\n      <th>Cortegana</th>\n      <td>207.0</td>\n      <td>6.0</td>\n      <td>7.0</td>\n      <td>4602.0</td>\n      <td>130.378096</td>\n      <td>152.107779</td>\n      <td>1.0</td>\n    </tr>\n    <tr>\n      <th>Aracena</th>\n      <td>528.0</td>\n      <td>9.0</td>\n      <td>12.0</td>\n      <td>8255.0</td>\n      <td>109.024833</td>\n      <td>145.366445</td>\n      <td>1.0</td>\n    </tr>\n    <tr>\n      <th>Zalamea la Real</th>\n      <td>91.0</td>\n      <td>1.0</td>\n      <td>4.0</td>\n      <td>3054.0</td>\n      <td>32.743942</td>\n      <td>130.975769</td>\n      <td>0.0</td>\n    </tr>\n    <tr>\n      <th>Isla Cristina</th>\n      <td>2150.0</td>\n      <td>10.0</td>\n      <td>26.0</td>\n      <td>21393.0</td>\n      <td>46.744262</td>\n      <td>121.535082</td>\n      <td>2.0</td>\n    </tr>\n    <tr>\n      <th>Lepe</th>\n      <td>2128.0</td>\n      <td>6.0</td>\n      <td>23.0</td>\n      <td>27880.0</td>\n      <td>21.520803</td>\n      <td>82.496413</td>\n      <td>1.0</td>\n    </tr>\n    <tr>\n      <th>Ayamonte</th>\n      <td>1317.0</td>\n      <td>3.0</td>\n      <td>17.0</td>\n      <td>21104.0</td>\n      <td>14.215315</td>\n      <td>80.553450</td>\n      <td>0.0</td>\n    </tr>\n    <tr>\n      <th>Higuera de la Sierra</th>\n      <td>33.0</td>\n      <td>1.0</td>\n      <td>1.0</td>\n      <td>1291.0</td>\n      <td>77.459334</td>\n      <td>77.459334</td>\n      <td>0.0</td>\n    </tr>\n    <tr>\n      <th>Paterna del Campo</th>\n      <td>128.0</td>\n      <td>1.0</td>\n      <td>2.0</td>\n      <td>3457.0</td>\n      <td>28.926815</td>\n      <td>57.853630</td>\n      <td>0.0</td>\n    </tr>\n    <tr>\n      <th>Cumbres Mayores</th>\n      <td>51.0</td>\n      <td>1.0</td>\n      <td>1.0</td>\n      <td>1749.0</td>\n      <td>57.175529</td>\n      <td>57.175529</td>\n      <td>0.0</td>\n    </tr>\n    <tr>\n      <th>Campillo (El)</th>\n      <td>73.0</td>\n      <td>1.0</td>\n      <td>1.0</td>\n      <td>2024.0</td>\n      <td>49.407115</td>\n      <td>49.407115</td>\n      <td>NaN</td>\n    </tr>\n    <tr>\n      <th>Jabugo</th>\n      <td>64.0</td>\n      <td>1.0</td>\n      <td>1.0</td>\n      <td>2260.0</td>\n      <td>44.247788</td>\n      <td>44.247788</td>\n      <td>0.0</td>\n    </tr>\n    <tr>\n      <th>Aroche</th>\n      <td>91.0</td>\n      <td>1.0</td>\n      <td>1.0</td>\n      <td>3054.0</td>\n      <td>32.743942</td>\n      <td>32.743942</td>\n      <td>NaN</td>\n    </tr>\n    <tr>\n      <th>Alosno</th>\n      <td>167.0</td>\n      <td>1.0</td>\n      <td>1.0</td>\n      <td>3933.0</td>\n      <td>25.425884</td>\n      <td>25.425884</td>\n      <td>0.0</td>\n    </tr>\n  </tbody>\n</table>\n</div>"
     },
     "metadata": {},
     "execution_count": 17
    }
   ],
   "source": [
    "tabla.sort_values('tasa14', ascending=False)"
   ]
  },
  {
   "cell_type": "code",
   "execution_count": 18,
   "metadata": {},
   "outputs": [
    {
     "output_type": "execute_result",
     "data": {
      "text/plain": [
       "Medida                             Confirmados PDIA  Confirmados PDIA 7 días  \\\n",
       "Lugar de residencia                                                            \n",
       "Manzanilla                                     99.0                      1.0   \n",
       "Ayamonte                                     1317.0                      3.0   \n",
       "Calañas                                       191.0                      2.0   \n",
       "Zalamea la Real                                91.0                      1.0   \n",
       "Lepe                                         2128.0                      6.0   \n",
       "Palma del Condado (La)                       1152.0                     15.0   \n",
       "Punta Umbría                                  812.0                     12.0   \n",
       "Campofrío                                      10.0                      1.0   \n",
       "Cerro de Andévalo (El)                        146.0                      3.0   \n",
       "Villarrasa                                    172.0                      6.0   \n",
       "Isla Cristina                                2150.0                     10.0   \n",
       "Lucena del Puerto                             254.0                      5.0   \n",
       "Moguer                                       1292.0                     36.0   \n",
       "Bollullos Par del Condado                     976.0                     17.0   \n",
       "San Juan del Puerto                           504.0                     15.0   \n",
       "Condado-Campiña                             10227.0                    274.0   \n",
       "Paterna del Campo                             128.0                      1.0   \n",
       "Nerva                                         178.0                      4.0   \n",
       "Zarza-Perrunal (La)                            25.0                      1.0   \n",
       "Huelva                                      31479.0                    751.0   \n",
       "Huelva-Costa                                18115.0                    387.0   \n",
       "Huelva (capital)                             8381.0                    279.0   \n",
       "Almonte                                      1836.0                     76.0   \n",
       "Bonares                                       273.0                      7.0   \n",
       "Villanueva de los Castillejos                 162.0                      3.0   \n",
       "San Bartolomé de la Torre                     299.0                      6.0   \n",
       "Palos de la Frontera                          666.0                     32.0   \n",
       "Aljaraque                                    1107.0                     45.0   \n",
       "Trigueros                                     306.0                     11.0   \n",
       "Gibraleón                                     632.0                     17.0   \n",
       "Niebla                                        236.0                     16.0   \n",
       "Sierra de Huelva-Andévalo Central            2788.0                     86.0   \n",
       "Rociana del Condado                           557.0                     13.0   \n",
       "Valverde del Camino                           586.0                     43.0   \n",
       "Cartaya                                      1344.0                     23.0   \n",
       "Puebla de Guzmán                              118.0                      5.0   \n",
       "Aracena                                       528.0                      9.0   \n",
       "Cortegana                                     207.0                      6.0   \n",
       "Aroche                                         91.0                      1.0   \n",
       "Cumbres Mayores                                51.0                      1.0   \n",
       "Alosno                                        167.0                      1.0   \n",
       "Campillo (El)                                  73.0                      1.0   \n",
       "Jabugo                                         64.0                      1.0   \n",
       "Granada de Río-Tinto (La)                       3.0                      1.0   \n",
       "Higuera de la Sierra                           33.0                      1.0   \n",
       "Minas de Riotinto                             127.0                     10.0   \n",
       "\n",
       "Medida                             Confirmados PDIA 14 días  Población  \\\n",
       "Lugar de residencia                                                      \n",
       "Manzanilla                                              7.0     2118.0   \n",
       "Ayamonte                                               17.0    21104.0   \n",
       "Calañas                                                10.0     2768.0   \n",
       "Zalamea la Real                                         4.0     3054.0   \n",
       "Lepe                                                   23.0    27880.0   \n",
       "Palma del Condado (La)                                 52.0    10801.0   \n",
       "Punta Umbría                                           41.0    15355.0   \n",
       "Campofrío                                               3.0      713.0   \n",
       "Cerro de Andévalo (El)                                  8.0     2327.0   \n",
       "Villarrasa                                             16.0     2211.0   \n",
       "Isla Cristina                                          26.0    21393.0   \n",
       "Lucena del Puerto                                      13.0     3261.0   \n",
       "Moguer                                                 93.0    21867.0   \n",
       "Bollullos Par del Condado                              43.0    14387.0   \n",
       "San Juan del Puerto                                    32.0     9411.0   \n",
       "Condado-Campiña                                       570.0   156231.0   \n",
       "Paterna del Campo                                       2.0     3457.0   \n",
       "Nerva                                                   8.0     5169.0   \n",
       "Zarza-Perrunal (La)                                     2.0     1253.0   \n",
       "Huelva                                               1464.0   513170.0   \n",
       "Huelva-Costa                                          753.0   289548.0   \n",
       "Huelva (capital)                                      521.0   143837.0   \n",
       "Almonte                                               140.0    24507.0   \n",
       "Bonares                                                12.0     6060.0   \n",
       "Villanueva de los Castillejos                           5.0     2825.0   \n",
       "San Bartolomé de la Torre                              10.0     3761.0   \n",
       "Palos de la Frontera                                   53.0    11742.0   \n",
       "Aljaraque                                              74.0    21474.0   \n",
       "Trigueros                                              18.0     7862.0   \n",
       "Gibraleón                                              27.0    12737.0   \n",
       "Niebla                                                 25.0     4116.0   \n",
       "Sierra de Huelva-Andévalo Central                     134.0    67391.0   \n",
       "Rociana del Condado                                    20.0     7939.0   \n",
       "Valverde del Camino                                    64.0    12750.0   \n",
       "Cartaya                                                33.0    20083.0   \n",
       "Puebla de Guzmán                                        7.0     3092.0   \n",
       "Aracena                                                12.0     8255.0   \n",
       "Cortegana                                               7.0     4602.0   \n",
       "Aroche                                                  1.0     3054.0   \n",
       "Cumbres Mayores                                         1.0     1749.0   \n",
       "Alosno                                                  1.0     3933.0   \n",
       "Campillo (El)                                           1.0     2024.0   \n",
       "Jabugo                                                  1.0     2260.0   \n",
       "Granada de Río-Tinto (La)                               1.0      243.0   \n",
       "Higuera de la Sierra                                    1.0     1291.0   \n",
       "Minas de Riotinto                                      10.0     3812.0   \n",
       "\n",
       "Medida                                  tasa7      tasa14  Diferencia PDIA  \\\n",
       "Lugar de residencia                                                          \n",
       "Manzanilla                          47.214353  330.500472              0.0   \n",
       "Ayamonte                            14.215315   80.553450              0.0   \n",
       "Calañas                             72.254335  361.271676              0.0   \n",
       "Zalamea la Real                     32.743942  130.975769              0.0   \n",
       "Lepe                                21.520803   82.496413              1.0   \n",
       "Palma del Condado (La)             138.876030  481.436904              3.0   \n",
       "Punta Umbría                        78.150440  267.014002              4.0   \n",
       "Campofrío                          140.252454  420.757363              0.0   \n",
       "Cerro de Andévalo (El)             128.921358  343.790288              0.0   \n",
       "Villarrasa                         271.370421  723.654455              0.0   \n",
       "Isla Cristina                       46.744262  121.535082              2.0   \n",
       "Lucena del Puerto                  153.327200  398.650721              1.0   \n",
       "Moguer                             164.631637  425.298395              3.0   \n",
       "Bollullos Par del Condado          118.162230  298.880934              1.0   \n",
       "San Juan del Puerto                159.387950  340.027627              3.0   \n",
       "Condado-Campiña                    175.381326  364.844365             39.0   \n",
       "Paterna del Campo                   28.926815   57.853630              0.0   \n",
       "Nerva                               77.384407  154.768814              1.0   \n",
       "Zarza-Perrunal (La)                 79.808460  159.616919              0.0   \n",
       "Huelva                             146.345266  285.285578            148.0   \n",
       "Huelva-Costa                       133.656596  260.060508             87.0   \n",
       "Huelva (capital)                   193.969563  362.215563             61.0   \n",
       "Almonte                            310.115477  571.265353             19.0   \n",
       "Bonares                            115.511551  198.019802              2.0   \n",
       "Villanueva de los Castillejos      106.194690  176.991150              0.0   \n",
       "San Bartolomé de la Torre          159.532039  265.886732              0.0   \n",
       "Palos de la Frontera               272.525975  451.371146              4.0   \n",
       "Aljaraque                          209.555742  344.602775             14.0   \n",
       "Trigueros                          139.913508  228.949377              1.0   \n",
       "Gibraleón                          133.469420  211.980843              1.0   \n",
       "Niebla                             388.726919  607.385811              1.0   \n",
       "Sierra de Huelva-Andévalo Central  127.613480  198.839608             21.0   \n",
       "Rociana del Condado                163.748583  251.920897              0.0   \n",
       "Valverde del Camino                337.254902  501.960784             10.0   \n",
       "Cartaya                            114.524722  164.318080              3.0   \n",
       "Puebla de Guzmán                   161.707633  226.390686              2.0   \n",
       "Aracena                            109.024833  145.366445              1.0   \n",
       "Cortegana                          130.378096  152.107779              1.0   \n",
       "Aroche                              32.743942   32.743942              0.0   \n",
       "Cumbres Mayores                     57.175529   57.175529              0.0   \n",
       "Alosno                              25.425884   25.425884              0.0   \n",
       "Campillo (El)                       49.407115   49.407115              0.0   \n",
       "Jabugo                              44.247788   44.247788              0.0   \n",
       "Granada de Río-Tinto (La)          411.522634  411.522634              0.0   \n",
       "Higuera de la Sierra                77.459334   77.459334              0.0   \n",
       "Minas de Riotinto                  262.329486  262.329486              6.0   \n",
       "\n",
       "Medida                                 7/14  \n",
       "Lugar de residencia                          \n",
       "Manzanilla                         0.142857  \n",
       "Ayamonte                           0.176471  \n",
       "Calañas                            0.200000  \n",
       "Zalamea la Real                    0.250000  \n",
       "Lepe                               0.260870  \n",
       "Palma del Condado (La)             0.288462  \n",
       "Punta Umbría                       0.292683  \n",
       "Campofrío                          0.333333  \n",
       "Cerro de Andévalo (El)             0.375000  \n",
       "Villarrasa                         0.375000  \n",
       "Isla Cristina                      0.384615  \n",
       "Lucena del Puerto                  0.384615  \n",
       "Moguer                             0.387097  \n",
       "Bollullos Par del Condado          0.395349  \n",
       "San Juan del Puerto                0.468750  \n",
       "Condado-Campiña                    0.480702  \n",
       "Paterna del Campo                  0.500000  \n",
       "Nerva                              0.500000  \n",
       "Zarza-Perrunal (La)                0.500000  \n",
       "Huelva                             0.512978  \n",
       "Huelva-Costa                       0.513944  \n",
       "Huelva (capital)                   0.535509  \n",
       "Almonte                            0.542857  \n",
       "Bonares                            0.583333  \n",
       "Villanueva de los Castillejos      0.600000  \n",
       "San Bartolomé de la Torre          0.600000  \n",
       "Palos de la Frontera               0.603774  \n",
       "Aljaraque                          0.608108  \n",
       "Trigueros                          0.611111  \n",
       "Gibraleón                          0.629630  \n",
       "Niebla                             0.640000  \n",
       "Sierra de Huelva-Andévalo Central  0.641791  \n",
       "Rociana del Condado                0.650000  \n",
       "Valverde del Camino                0.671875  \n",
       "Cartaya                            0.696970  \n",
       "Puebla de Guzmán                   0.714286  \n",
       "Aracena                            0.750000  \n",
       "Cortegana                          0.857143  \n",
       "Aroche                             1.000000  \n",
       "Cumbres Mayores                    1.000000  \n",
       "Alosno                             1.000000  \n",
       "Campillo (El)                      1.000000  \n",
       "Jabugo                             1.000000  \n",
       "Granada de Río-Tinto (La)          1.000000  \n",
       "Higuera de la Sierra               1.000000  \n",
       "Minas de Riotinto                  1.000000  "
      ],
      "text/html": "<div>\n<style scoped>\n    .dataframe tbody tr th:only-of-type {\n        vertical-align: middle;\n    }\n\n    .dataframe tbody tr th {\n        vertical-align: top;\n    }\n\n    .dataframe thead th {\n        text-align: right;\n    }\n</style>\n<table border=\"1\" class=\"dataframe\">\n  <thead>\n    <tr style=\"text-align: right;\">\n      <th>Medida</th>\n      <th>Confirmados PDIA</th>\n      <th>Confirmados PDIA 7 días</th>\n      <th>Confirmados PDIA 14 días</th>\n      <th>Población</th>\n      <th>tasa7</th>\n      <th>tasa14</th>\n      <th>Diferencia PDIA</th>\n      <th>7/14</th>\n    </tr>\n    <tr>\n      <th>Lugar de residencia</th>\n      <th></th>\n      <th></th>\n      <th></th>\n      <th></th>\n      <th></th>\n      <th></th>\n      <th></th>\n      <th></th>\n    </tr>\n  </thead>\n  <tbody>\n    <tr>\n      <th>Manzanilla</th>\n      <td>99.0</td>\n      <td>1.0</td>\n      <td>7.0</td>\n      <td>2118.0</td>\n      <td>47.214353</td>\n      <td>330.500472</td>\n      <td>0.0</td>\n      <td>0.142857</td>\n    </tr>\n    <tr>\n      <th>Ayamonte</th>\n      <td>1317.0</td>\n      <td>3.0</td>\n      <td>17.0</td>\n      <td>21104.0</td>\n      <td>14.215315</td>\n      <td>80.553450</td>\n      <td>0.0</td>\n      <td>0.176471</td>\n    </tr>\n    <tr>\n      <th>Calañas</th>\n      <td>191.0</td>\n      <td>2.0</td>\n      <td>10.0</td>\n      <td>2768.0</td>\n      <td>72.254335</td>\n      <td>361.271676</td>\n      <td>0.0</td>\n      <td>0.200000</td>\n    </tr>\n    <tr>\n      <th>Zalamea la Real</th>\n      <td>91.0</td>\n      <td>1.0</td>\n      <td>4.0</td>\n      <td>3054.0</td>\n      <td>32.743942</td>\n      <td>130.975769</td>\n      <td>0.0</td>\n      <td>0.250000</td>\n    </tr>\n    <tr>\n      <th>Lepe</th>\n      <td>2128.0</td>\n      <td>6.0</td>\n      <td>23.0</td>\n      <td>27880.0</td>\n      <td>21.520803</td>\n      <td>82.496413</td>\n      <td>1.0</td>\n      <td>0.260870</td>\n    </tr>\n    <tr>\n      <th>Palma del Condado (La)</th>\n      <td>1152.0</td>\n      <td>15.0</td>\n      <td>52.0</td>\n      <td>10801.0</td>\n      <td>138.876030</td>\n      <td>481.436904</td>\n      <td>3.0</td>\n      <td>0.288462</td>\n    </tr>\n    <tr>\n      <th>Punta Umbría</th>\n      <td>812.0</td>\n      <td>12.0</td>\n      <td>41.0</td>\n      <td>15355.0</td>\n      <td>78.150440</td>\n      <td>267.014002</td>\n      <td>4.0</td>\n      <td>0.292683</td>\n    </tr>\n    <tr>\n      <th>Campofrío</th>\n      <td>10.0</td>\n      <td>1.0</td>\n      <td>3.0</td>\n      <td>713.0</td>\n      <td>140.252454</td>\n      <td>420.757363</td>\n      <td>0.0</td>\n      <td>0.333333</td>\n    </tr>\n    <tr>\n      <th>Cerro de Andévalo (El)</th>\n      <td>146.0</td>\n      <td>3.0</td>\n      <td>8.0</td>\n      <td>2327.0</td>\n      <td>128.921358</td>\n      <td>343.790288</td>\n      <td>0.0</td>\n      <td>0.375000</td>\n    </tr>\n    <tr>\n      <th>Villarrasa</th>\n      <td>172.0</td>\n      <td>6.0</td>\n      <td>16.0</td>\n      <td>2211.0</td>\n      <td>271.370421</td>\n      <td>723.654455</td>\n      <td>0.0</td>\n      <td>0.375000</td>\n    </tr>\n    <tr>\n      <th>Isla Cristina</th>\n      <td>2150.0</td>\n      <td>10.0</td>\n      <td>26.0</td>\n      <td>21393.0</td>\n      <td>46.744262</td>\n      <td>121.535082</td>\n      <td>2.0</td>\n      <td>0.384615</td>\n    </tr>\n    <tr>\n      <th>Lucena del Puerto</th>\n      <td>254.0</td>\n      <td>5.0</td>\n      <td>13.0</td>\n      <td>3261.0</td>\n      <td>153.327200</td>\n      <td>398.650721</td>\n      <td>1.0</td>\n      <td>0.384615</td>\n    </tr>\n    <tr>\n      <th>Moguer</th>\n      <td>1292.0</td>\n      <td>36.0</td>\n      <td>93.0</td>\n      <td>21867.0</td>\n      <td>164.631637</td>\n      <td>425.298395</td>\n      <td>3.0</td>\n      <td>0.387097</td>\n    </tr>\n    <tr>\n      <th>Bollullos Par del Condado</th>\n      <td>976.0</td>\n      <td>17.0</td>\n      <td>43.0</td>\n      <td>14387.0</td>\n      <td>118.162230</td>\n      <td>298.880934</td>\n      <td>1.0</td>\n      <td>0.395349</td>\n    </tr>\n    <tr>\n      <th>San Juan del Puerto</th>\n      <td>504.0</td>\n      <td>15.0</td>\n      <td>32.0</td>\n      <td>9411.0</td>\n      <td>159.387950</td>\n      <td>340.027627</td>\n      <td>3.0</td>\n      <td>0.468750</td>\n    </tr>\n    <tr>\n      <th>Condado-Campiña</th>\n      <td>10227.0</td>\n      <td>274.0</td>\n      <td>570.0</td>\n      <td>156231.0</td>\n      <td>175.381326</td>\n      <td>364.844365</td>\n      <td>39.0</td>\n      <td>0.480702</td>\n    </tr>\n    <tr>\n      <th>Paterna del Campo</th>\n      <td>128.0</td>\n      <td>1.0</td>\n      <td>2.0</td>\n      <td>3457.0</td>\n      <td>28.926815</td>\n      <td>57.853630</td>\n      <td>0.0</td>\n      <td>0.500000</td>\n    </tr>\n    <tr>\n      <th>Nerva</th>\n      <td>178.0</td>\n      <td>4.0</td>\n      <td>8.0</td>\n      <td>5169.0</td>\n      <td>77.384407</td>\n      <td>154.768814</td>\n      <td>1.0</td>\n      <td>0.500000</td>\n    </tr>\n    <tr>\n      <th>Zarza-Perrunal (La)</th>\n      <td>25.0</td>\n      <td>1.0</td>\n      <td>2.0</td>\n      <td>1253.0</td>\n      <td>79.808460</td>\n      <td>159.616919</td>\n      <td>0.0</td>\n      <td>0.500000</td>\n    </tr>\n    <tr>\n      <th>Huelva</th>\n      <td>31479.0</td>\n      <td>751.0</td>\n      <td>1464.0</td>\n      <td>513170.0</td>\n      <td>146.345266</td>\n      <td>285.285578</td>\n      <td>148.0</td>\n      <td>0.512978</td>\n    </tr>\n    <tr>\n      <th>Huelva-Costa</th>\n      <td>18115.0</td>\n      <td>387.0</td>\n      <td>753.0</td>\n      <td>289548.0</td>\n      <td>133.656596</td>\n      <td>260.060508</td>\n      <td>87.0</td>\n      <td>0.513944</td>\n    </tr>\n    <tr>\n      <th>Huelva (capital)</th>\n      <td>8381.0</td>\n      <td>279.0</td>\n      <td>521.0</td>\n      <td>143837.0</td>\n      <td>193.969563</td>\n      <td>362.215563</td>\n      <td>61.0</td>\n      <td>0.535509</td>\n    </tr>\n    <tr>\n      <th>Almonte</th>\n      <td>1836.0</td>\n      <td>76.0</td>\n      <td>140.0</td>\n      <td>24507.0</td>\n      <td>310.115477</td>\n      <td>571.265353</td>\n      <td>19.0</td>\n      <td>0.542857</td>\n    </tr>\n    <tr>\n      <th>Bonares</th>\n      <td>273.0</td>\n      <td>7.0</td>\n      <td>12.0</td>\n      <td>6060.0</td>\n      <td>115.511551</td>\n      <td>198.019802</td>\n      <td>2.0</td>\n      <td>0.583333</td>\n    </tr>\n    <tr>\n      <th>Villanueva de los Castillejos</th>\n      <td>162.0</td>\n      <td>3.0</td>\n      <td>5.0</td>\n      <td>2825.0</td>\n      <td>106.194690</td>\n      <td>176.991150</td>\n      <td>0.0</td>\n      <td>0.600000</td>\n    </tr>\n    <tr>\n      <th>San Bartolomé de la Torre</th>\n      <td>299.0</td>\n      <td>6.0</td>\n      <td>10.0</td>\n      <td>3761.0</td>\n      <td>159.532039</td>\n      <td>265.886732</td>\n      <td>0.0</td>\n      <td>0.600000</td>\n    </tr>\n    <tr>\n      <th>Palos de la Frontera</th>\n      <td>666.0</td>\n      <td>32.0</td>\n      <td>53.0</td>\n      <td>11742.0</td>\n      <td>272.525975</td>\n      <td>451.371146</td>\n      <td>4.0</td>\n      <td>0.603774</td>\n    </tr>\n    <tr>\n      <th>Aljaraque</th>\n      <td>1107.0</td>\n      <td>45.0</td>\n      <td>74.0</td>\n      <td>21474.0</td>\n      <td>209.555742</td>\n      <td>344.602775</td>\n      <td>14.0</td>\n      <td>0.608108</td>\n    </tr>\n    <tr>\n      <th>Trigueros</th>\n      <td>306.0</td>\n      <td>11.0</td>\n      <td>18.0</td>\n      <td>7862.0</td>\n      <td>139.913508</td>\n      <td>228.949377</td>\n      <td>1.0</td>\n      <td>0.611111</td>\n    </tr>\n    <tr>\n      <th>Gibraleón</th>\n      <td>632.0</td>\n      <td>17.0</td>\n      <td>27.0</td>\n      <td>12737.0</td>\n      <td>133.469420</td>\n      <td>211.980843</td>\n      <td>1.0</td>\n      <td>0.629630</td>\n    </tr>\n    <tr>\n      <th>Niebla</th>\n      <td>236.0</td>\n      <td>16.0</td>\n      <td>25.0</td>\n      <td>4116.0</td>\n      <td>388.726919</td>\n      <td>607.385811</td>\n      <td>1.0</td>\n      <td>0.640000</td>\n    </tr>\n    <tr>\n      <th>Sierra de Huelva-Andévalo Central</th>\n      <td>2788.0</td>\n      <td>86.0</td>\n      <td>134.0</td>\n      <td>67391.0</td>\n      <td>127.613480</td>\n      <td>198.839608</td>\n      <td>21.0</td>\n      <td>0.641791</td>\n    </tr>\n    <tr>\n      <th>Rociana del Condado</th>\n      <td>557.0</td>\n      <td>13.0</td>\n      <td>20.0</td>\n      <td>7939.0</td>\n      <td>163.748583</td>\n      <td>251.920897</td>\n      <td>0.0</td>\n      <td>0.650000</td>\n    </tr>\n    <tr>\n      <th>Valverde del Camino</th>\n      <td>586.0</td>\n      <td>43.0</td>\n      <td>64.0</td>\n      <td>12750.0</td>\n      <td>337.254902</td>\n      <td>501.960784</td>\n      <td>10.0</td>\n      <td>0.671875</td>\n    </tr>\n    <tr>\n      <th>Cartaya</th>\n      <td>1344.0</td>\n      <td>23.0</td>\n      <td>33.0</td>\n      <td>20083.0</td>\n      <td>114.524722</td>\n      <td>164.318080</td>\n      <td>3.0</td>\n      <td>0.696970</td>\n    </tr>\n    <tr>\n      <th>Puebla de Guzmán</th>\n      <td>118.0</td>\n      <td>5.0</td>\n      <td>7.0</td>\n      <td>3092.0</td>\n      <td>161.707633</td>\n      <td>226.390686</td>\n      <td>2.0</td>\n      <td>0.714286</td>\n    </tr>\n    <tr>\n      <th>Aracena</th>\n      <td>528.0</td>\n      <td>9.0</td>\n      <td>12.0</td>\n      <td>8255.0</td>\n      <td>109.024833</td>\n      <td>145.366445</td>\n      <td>1.0</td>\n      <td>0.750000</td>\n    </tr>\n    <tr>\n      <th>Cortegana</th>\n      <td>207.0</td>\n      <td>6.0</td>\n      <td>7.0</td>\n      <td>4602.0</td>\n      <td>130.378096</td>\n      <td>152.107779</td>\n      <td>1.0</td>\n      <td>0.857143</td>\n    </tr>\n    <tr>\n      <th>Aroche</th>\n      <td>91.0</td>\n      <td>1.0</td>\n      <td>1.0</td>\n      <td>3054.0</td>\n      <td>32.743942</td>\n      <td>32.743942</td>\n      <td>0.0</td>\n      <td>1.000000</td>\n    </tr>\n    <tr>\n      <th>Cumbres Mayores</th>\n      <td>51.0</td>\n      <td>1.0</td>\n      <td>1.0</td>\n      <td>1749.0</td>\n      <td>57.175529</td>\n      <td>57.175529</td>\n      <td>0.0</td>\n      <td>1.000000</td>\n    </tr>\n    <tr>\n      <th>Alosno</th>\n      <td>167.0</td>\n      <td>1.0</td>\n      <td>1.0</td>\n      <td>3933.0</td>\n      <td>25.425884</td>\n      <td>25.425884</td>\n      <td>0.0</td>\n      <td>1.000000</td>\n    </tr>\n    <tr>\n      <th>Campillo (El)</th>\n      <td>73.0</td>\n      <td>1.0</td>\n      <td>1.0</td>\n      <td>2024.0</td>\n      <td>49.407115</td>\n      <td>49.407115</td>\n      <td>0.0</td>\n      <td>1.000000</td>\n    </tr>\n    <tr>\n      <th>Jabugo</th>\n      <td>64.0</td>\n      <td>1.0</td>\n      <td>1.0</td>\n      <td>2260.0</td>\n      <td>44.247788</td>\n      <td>44.247788</td>\n      <td>0.0</td>\n      <td>1.000000</td>\n    </tr>\n    <tr>\n      <th>Granada de Río-Tinto (La)</th>\n      <td>3.0</td>\n      <td>1.0</td>\n      <td>1.0</td>\n      <td>243.0</td>\n      <td>411.522634</td>\n      <td>411.522634</td>\n      <td>0.0</td>\n      <td>1.000000</td>\n    </tr>\n    <tr>\n      <th>Higuera de la Sierra</th>\n      <td>33.0</td>\n      <td>1.0</td>\n      <td>1.0</td>\n      <td>1291.0</td>\n      <td>77.459334</td>\n      <td>77.459334</td>\n      <td>0.0</td>\n      <td>1.000000</td>\n    </tr>\n    <tr>\n      <th>Minas de Riotinto</th>\n      <td>127.0</td>\n      <td>10.0</td>\n      <td>10.0</td>\n      <td>3812.0</td>\n      <td>262.329486</td>\n      <td>262.329486</td>\n      <td>6.0</td>\n      <td>1.000000</td>\n    </tr>\n  </tbody>\n</table>\n</div>"
     },
     "metadata": {},
     "execution_count": 18
    }
   ],
   "source": [
    "# Peso de la tasa de la última semana en relación con la tasa a 14 días \n",
    "# Mejor cuanto menor. Valor 1 significa que no había casos antes de 7 días.\n",
    "tabla['7/14'] = tabla['tasa7'] / tabla['tasa14']\n",
    "tabla.fillna(0).sort_values('7/14', ascending=True)"
   ]
  },
  {
   "cell_type": "code",
   "execution_count": null,
   "metadata": {},
   "outputs": [],
   "source": []
  }
 ]
}