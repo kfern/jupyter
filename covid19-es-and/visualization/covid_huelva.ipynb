{
 "metadata": {
  "language_info": {
   "codemirror_mode": {
    "name": "ipython",
    "version": 3
   },
   "file_extension": ".py",
   "mimetype": "text/x-python",
   "name": "python",
   "nbconvert_exporter": "python",
   "pygments_lexer": "ipython3",
   "version": "3.8.6"
  },
  "orig_nbformat": 2,
  "kernelspec": {
   "name": "python3",
   "display_name": "Python 3",
   "language": "python"
  }
 },
 "nbformat": 4,
 "nbformat_minor": 2,
 "cells": [
  {
   "cell_type": "code",
   "execution_count": 1,
   "metadata": {},
   "outputs": [],
   "source": [
    "import pandas as pd\n",
    "pd.set_option('display.max_rows', None) # Print all rows"
   ]
  },
  {
   "cell_type": "code",
   "execution_count": 2,
   "metadata": {},
   "outputs": [],
   "source": [
    "# FIX SSL: CERTIFICATE_VERIFY_FAILED with Python3\n",
    "# https://stackoverflow.com/a/49174340\n",
    "import ssl\n",
    "\n",
    "ssl._create_default_https_context = ssl._create_unverified_context"
   ]
  },
  {
   "cell_type": "code",
   "execution_count": 3,
   "metadata": {},
   "outputs": [],
   "source": [
    "url = 'https://www.juntadeandalucia.es/institutodeestadisticaycartografia/badea/stpivot/stpivot/Print?cube=013d884c-cfc5-4c21-9e78-e26225682afd&type=3&foto=si&ejecutaDesde=&codConsulta=38668&consTipoVisua=JP'\n",
    "fields = ['Lugar de residencia', 'Medida', 'Valor']\n",
    "df = pd.read_csv(url, delimiter=';', usecols=fields, decimal=',')"
   ]
  },
  {
   "cell_type": "code",
   "execution_count": 4,
   "metadata": {},
   "outputs": [
    {
     "output_type": "execute_result",
     "data": {
      "text/plain": [
       "  Lugar de residencia                    Medida              Valor\n",
       "0              Huelva                 Población             513170\n",
       "1              Huelva          Confirmados PDIA              31007\n",
       "2              Huelva  Confirmados PDIA 14 días               1378\n",
       "3              Huelva         Tasa PDIA 14 días  268,5269988502835\n",
       "4              Huelva   Confirmados PDIA 7 días                691\n",
       "5              Huelva        Total Confirmados               31187\n",
       "6              Huelva                   Curados              28649\n",
       "7              Huelva                Fallecidos                382"
      ],
      "text/html": "<div>\n<style scoped>\n    .dataframe tbody tr th:only-of-type {\n        vertical-align: middle;\n    }\n\n    .dataframe tbody tr th {\n        vertical-align: top;\n    }\n\n    .dataframe thead th {\n        text-align: right;\n    }\n</style>\n<table border=\"1\" class=\"dataframe\">\n  <thead>\n    <tr style=\"text-align: right;\">\n      <th></th>\n      <th>Lugar de residencia</th>\n      <th>Medida</th>\n      <th>Valor</th>\n    </tr>\n  </thead>\n  <tbody>\n    <tr>\n      <th>0</th>\n      <td>Huelva</td>\n      <td>Población</td>\n      <td>513170</td>\n    </tr>\n    <tr>\n      <th>1</th>\n      <td>Huelva</td>\n      <td>Confirmados PDIA</td>\n      <td>31007</td>\n    </tr>\n    <tr>\n      <th>2</th>\n      <td>Huelva</td>\n      <td>Confirmados PDIA 14 días</td>\n      <td>1378</td>\n    </tr>\n    <tr>\n      <th>3</th>\n      <td>Huelva</td>\n      <td>Tasa PDIA 14 días</td>\n      <td>268,5269988502835</td>\n    </tr>\n    <tr>\n      <th>4</th>\n      <td>Huelva</td>\n      <td>Confirmados PDIA 7 días</td>\n      <td>691</td>\n    </tr>\n    <tr>\n      <th>5</th>\n      <td>Huelva</td>\n      <td>Total Confirmados</td>\n      <td>31187</td>\n    </tr>\n    <tr>\n      <th>6</th>\n      <td>Huelva</td>\n      <td>Curados</td>\n      <td>28649</td>\n    </tr>\n    <tr>\n      <th>7</th>\n      <td>Huelva</td>\n      <td>Fallecidos</td>\n      <td>382</td>\n    </tr>\n  </tbody>\n</table>\n</div>"
     },
     "metadata": {},
     "execution_count": 4
    }
   ],
   "source": [
    "df[df['Lugar de residencia'] == 'Huelva']"
   ]
  },
  {
   "cell_type": "code",
   "execution_count": 5,
   "metadata": {},
   "outputs": [],
   "source": [
    "df['Valor'] = pd.to_numeric(df['Valor'],errors='coerce')"
   ]
  },
  {
   "cell_type": "code",
   "execution_count": 6,
   "metadata": {},
   "outputs": [],
   "source": [
    "dfAnterior = pd.read_csv('covid_huelva.csv', index_col='Lugar de residencia')"
   ]
  },
  {
   "cell_type": "code",
   "execution_count": 7,
   "metadata": {
    "tags": []
   },
   "outputs": [
    {
     "output_type": "stream",
     "name": "stdout",
     "text": [
      "Confirmados PCR en la provincia de Huelva:  31007.0\n",
      "<ipython-input-7-31b732756b19>:2: UserWarning: Boolean Series key will be reindexed to match DataFrame index.\n",
      "  p = df[df['Lugar de residencia'] == 'Huelva'][df['Medida'] == 'Confirmados PDIA']['Valor'].values[0]\n"
     ]
    }
   ],
   "source": [
    "# Confirmados PCR provincia Huelva\n",
    "p = df[df['Lugar de residencia'] == 'Huelva'][df['Medida'] == 'Confirmados PDIA']['Valor'].values[0]\n",
    "print('Confirmados PCR en la provincia de Huelva: ', p)"
   ]
  },
  {
   "cell_type": "code",
   "execution_count": 8,
   "metadata": {
    "tags": []
   },
   "outputs": [
    {
     "output_type": "stream",
     "name": "stdout",
     "text": [
      "Confirmados PCR en Huelva capital:  8197.0\n",
      "<ipython-input-8-e81bfb40e710>:2: UserWarning: Boolean Series key will be reindexed to match DataFrame index.\n",
      "  c = df[df['Lugar de residencia'] == 'Huelva (capital)'][df['Medida'] == 'Confirmados PDIA']['Valor'].values[0]\n"
     ]
    }
   ],
   "source": [
    "# Confirmados PCR Huelva capitalpd\n",
    "c = df[df['Lugar de residencia'] == 'Huelva (capital)'][df['Medida'] == 'Confirmados PDIA']['Valor'].values[0]\n",
    "print('Confirmados PCR en Huelva capital: ', c)"
   ]
  },
  {
   "cell_type": "code",
   "execution_count": 9,
   "metadata": {
    "tags": []
   },
   "outputs": [
    {
     "output_type": "stream",
     "name": "stderr",
     "text": [
      "<ipython-input-9-f09dd2050cc1>:1: UserWarning: Boolean Series key will be reindexed to match DataFrame index.\n  c7 = df[df['Lugar de residencia'] == 'Huelva (capital)'][df['Medida'] == 'Confirmados PDIA 7 días']['Valor'].values[0]\n<ipython-input-9-f09dd2050cc1>:2: UserWarning: Boolean Series key will be reindexed to match DataFrame index.\n  c14 = df[df['Lugar de residencia'] == 'Huelva (capital)'][df['Medida'] == 'Confirmados PDIA 14 días']['Valor'].values[0]\n<ipython-input-9-f09dd2050cc1>:3: UserWarning: Boolean Series key will be reindexed to match DataFrame index.\n  p = df[df['Lugar de residencia'] == 'Huelva (capital)'][df['Medida'] == 'Población']['Valor'].values[0]\n"
     ]
    }
   ],
   "source": [
    "c7 = df[df['Lugar de residencia'] == 'Huelva (capital)'][df['Medida'] == 'Confirmados PDIA 7 días']['Valor'].values[0]\n",
    "c14 = df[df['Lugar de residencia'] == 'Huelva (capital)'][df['Medida'] == 'Confirmados PDIA 14 días']['Valor'].values[0]\n",
    "p = df[df['Lugar de residencia'] == 'Huelva (capital)'][df['Medida'] == 'Población']['Valor'].values[0]"
   ]
  },
  {
   "cell_type": "code",
   "execution_count": 10,
   "metadata": {
    "tags": []
   },
   "outputs": [
    {
     "output_type": "stream",
     "name": "stdout",
     "text": [
      "Huelva (capital)\n\nUn positivo PCR cada 555 personas en los últimos 7 días \n\nUn positivo PCR cada 325 personas en los últimos 14 días\n"
     ]
    }
   ],
   "source": [
    "print('Huelva (capital)\\n')\n",
    "#print('Confirmados PCR 7 días x 1,000 habitantes: ', f\"{c7/(p/1000):.5f}\")\n",
    "print('Un positivo PCR cada', f\"{p/c7:.0f}\", 'personas en los últimos 7 días', '\\n')\n",
    "#print('Confirmados PCR 14 días x 1,000 habitantes: ', f\"{c14/(p/1000):.5f}\")\n",
    "print('Un positivo PCR cada', f\"{p/c14:.0f}\", 'personas en los últimos 14 días')"
   ]
  },
  {
   "cell_type": "code",
   "execution_count": 11,
   "metadata": {},
   "outputs": [],
   "source": [
    "filtro = ((df['Medida'] == 'Confirmados PDIA')| (df['Medida'] == 'Confirmados PDIA 7 días') | (df['Medida'] == 'Población' ) | (df['Medida'] == 'Confirmados PDIA 14 días')) & (df['Valor'] > 0)\n",
    "tabla = pd.pivot_table(df.loc[filtro], values='Valor', index='Lugar de residencia', columns='Medida').dropna()"
   ]
  },
  {
   "cell_type": "code",
   "execution_count": 12,
   "metadata": {},
   "outputs": [],
   "source": [
    "# Reorder columns\n",
    "tabla = tabla[['Confirmados PDIA', 'Confirmados PDIA 7 días', 'Confirmados PDIA 14 días', 'Población']]"
   ]
  },
  {
   "cell_type": "code",
   "execution_count": 13,
   "metadata": {},
   "outputs": [],
   "source": [
    "tabla['tasa7'] = tabla['Confirmados PDIA 7 días']/tabla['Población']*100000\n",
    "tabla['tasa14'] = tabla['Confirmados PDIA 14 días']/tabla['Población']*100000"
   ]
  },
  {
   "cell_type": "code",
   "execution_count": 14,
   "metadata": {},
   "outputs": [],
   "source": [
    "tabla['Diferencia PDIA'] = tabla['Confirmados PDIA'] - dfAnterior['Confirmados PDIA']"
   ]
  },
  {
   "cell_type": "code",
   "execution_count": 15,
   "metadata": {},
   "outputs": [
    {
     "output_type": "execute_result",
     "data": {
      "text/plain": [
       "Medida                             Confirmados PDIA  Confirmados PDIA 7 días  \\\n",
       "Lugar de residencia                                                            \n",
       "Huelva                                      31007.0                    691.0   \n",
       "Huelva-Costa                                17862.0                    368.0   \n",
       "Huelva (capital)                             8197.0                    259.0   \n",
       "Condado-Campiña                             10073.0                    271.0   \n",
       "Almonte                                      1795.0                     56.0   \n",
       "Sierra de Huelva-Andévalo Central            2726.0                     50.0   \n",
       "Palos de la Frontera                          643.0                     22.0   \n",
       "Isla Cristina                                2147.0                     18.0   \n",
       "Aljaraque                                    1077.0                     31.0   \n",
       "Trigueros                                     300.0                      8.0   \n",
       "San Juan del Puerto                           497.0                     19.0   \n",
       "Moguer                                       1271.0                     51.0   \n",
       "Cartaya                                      1328.0                     12.0   \n",
       "Bonares                                       270.0                      6.0   \n",
       "Aracena                                       523.0                      6.0   \n",
       "Minas de Riotinto                             119.0                      2.0   \n",
       "Gibraleón                                     622.0                     15.0   \n",
       "Nerva                                         177.0                      4.0   \n",
       "Niebla                                        232.0                     18.0   \n",
       "Palma del Condado (La)                       1142.0                     26.0   \n",
       "Paterna del Campo                             128.0                      2.0   \n",
       "Punta Umbría                                  803.0                     17.0   \n",
       "Rociana del Condado                           546.0                      4.0   \n",
       "Bollullos Par del Condado                     971.0                     24.0   \n",
       "Valverde del Camino                           552.0                     20.0   \n",
       "Villarrasa                                    168.0                      5.0   \n",
       "Zalamea la Real                                91.0                      3.0   \n",
       "\n",
       "Medida                             Confirmados PDIA 14 días  Población  \\\n",
       "Lugar de residencia                                                      \n",
       "Huelva                                               1378.0   513170.0   \n",
       "Huelva-Costa                                          675.0   289548.0   \n",
       "Huelva (capital)                                      443.0   143837.0   \n",
       "Condado-Campiña                                       599.0   156231.0   \n",
       "Almonte                                               134.0    24507.0   \n",
       "Sierra de Huelva-Andévalo Central                      99.0    67391.0   \n",
       "Palos de la Frontera                                   36.0    11742.0   \n",
       "Isla Cristina                                          34.0    21393.0   \n",
       "Aljaraque                                              56.0    21474.0   \n",
       "Trigueros                                              21.0     7862.0   \n",
       "San Juan del Puerto                                    29.0     9411.0   \n",
       "Moguer                                                109.0    21867.0   \n",
       "Cartaya                                                34.0    20083.0   \n",
       "Bonares                                                10.0     6060.0   \n",
       "Aracena                                                 9.0     8255.0   \n",
       "Minas de Riotinto                                       2.0     3812.0   \n",
       "Gibraleón                                              22.0    12737.0   \n",
       "Nerva                                                   8.0     5169.0   \n",
       "Niebla                                                 25.0     4116.0   \n",
       "Palma del Condado (La)                                 70.0    10801.0   \n",
       "Paterna del Campo                                       3.0     3457.0   \n",
       "Punta Umbría                                           46.0    15355.0   \n",
       "Rociana del Condado                                    12.0     7939.0   \n",
       "Bollullos Par del Condado                              71.0    14387.0   \n",
       "Valverde del Camino                                    46.0    12750.0   \n",
       "Villarrasa                                             18.0     2211.0   \n",
       "Zalamea la Real                                         4.0     3054.0   \n",
       "\n",
       "Medida                                  tasa7      tasa14  Diferencia PDIA  \n",
       "Lugar de residencia                                                         \n",
       "Huelva                             134.653234  268.526999             85.0  \n",
       "Huelva-Costa                       127.094644  233.121969             48.0  \n",
       "Huelva (capital)                   180.064935  307.987514             38.0  \n",
       "Condado-Campiña                    173.461093  383.406622             31.0  \n",
       "Almonte                            228.506141  546.782552              7.0  \n",
       "Sierra de Huelva-Andévalo Central   74.193883  146.903889              6.0  \n",
       "Palos de la Frontera               187.361608  306.591722              6.0  \n",
       "Isla Cristina                       84.139672  158.930491              4.0  \n",
       "Aljaraque                          144.360622  260.780479              3.0  \n",
       "Trigueros                          101.755279  267.107606              3.0  \n",
       "San Juan del Puerto                201.891404  308.150037              3.0  \n",
       "Moguer                             233.228152  498.468011              3.0  \n",
       "Cartaya                             59.752029  169.297416              2.0  \n",
       "Bonares                             99.009901  165.016502              2.0  \n",
       "Aracena                             72.683222  109.024833              2.0  \n",
       "Minas de Riotinto                   52.465897   52.465897              1.0  \n",
       "Gibraleón                          117.767135  172.725132              1.0  \n",
       "Nerva                               77.384407  154.768814              1.0  \n",
       "Niebla                             437.317784  607.385811              1.0  \n",
       "Palma del Condado (La)             240.718452  648.088140              1.0  \n",
       "Paterna del Campo                   57.853630   86.780445              1.0  \n",
       "Punta Umbría                       110.713123  299.576685              1.0  \n",
       "Rociana del Condado                 50.384179  151.152538              1.0  \n",
       "Bollullos Par del Condado          166.817266  493.501077              1.0  \n",
       "Valverde del Camino                156.862745  360.784314              1.0  \n",
       "Villarrasa                         226.142017  814.111262              1.0  \n",
       "Zalamea la Real                     98.231827  130.975769              1.0  "
      ],
      "text/html": "<div>\n<style scoped>\n    .dataframe tbody tr th:only-of-type {\n        vertical-align: middle;\n    }\n\n    .dataframe tbody tr th {\n        vertical-align: top;\n    }\n\n    .dataframe thead th {\n        text-align: right;\n    }\n</style>\n<table border=\"1\" class=\"dataframe\">\n  <thead>\n    <tr style=\"text-align: right;\">\n      <th>Medida</th>\n      <th>Confirmados PDIA</th>\n      <th>Confirmados PDIA 7 días</th>\n      <th>Confirmados PDIA 14 días</th>\n      <th>Población</th>\n      <th>tasa7</th>\n      <th>tasa14</th>\n      <th>Diferencia PDIA</th>\n    </tr>\n    <tr>\n      <th>Lugar de residencia</th>\n      <th></th>\n      <th></th>\n      <th></th>\n      <th></th>\n      <th></th>\n      <th></th>\n      <th></th>\n    </tr>\n  </thead>\n  <tbody>\n    <tr>\n      <th>Huelva</th>\n      <td>31007.0</td>\n      <td>691.0</td>\n      <td>1378.0</td>\n      <td>513170.0</td>\n      <td>134.653234</td>\n      <td>268.526999</td>\n      <td>85.0</td>\n    </tr>\n    <tr>\n      <th>Huelva-Costa</th>\n      <td>17862.0</td>\n      <td>368.0</td>\n      <td>675.0</td>\n      <td>289548.0</td>\n      <td>127.094644</td>\n      <td>233.121969</td>\n      <td>48.0</td>\n    </tr>\n    <tr>\n      <th>Huelva (capital)</th>\n      <td>8197.0</td>\n      <td>259.0</td>\n      <td>443.0</td>\n      <td>143837.0</td>\n      <td>180.064935</td>\n      <td>307.987514</td>\n      <td>38.0</td>\n    </tr>\n    <tr>\n      <th>Condado-Campiña</th>\n      <td>10073.0</td>\n      <td>271.0</td>\n      <td>599.0</td>\n      <td>156231.0</td>\n      <td>173.461093</td>\n      <td>383.406622</td>\n      <td>31.0</td>\n    </tr>\n    <tr>\n      <th>Almonte</th>\n      <td>1795.0</td>\n      <td>56.0</td>\n      <td>134.0</td>\n      <td>24507.0</td>\n      <td>228.506141</td>\n      <td>546.782552</td>\n      <td>7.0</td>\n    </tr>\n    <tr>\n      <th>Sierra de Huelva-Andévalo Central</th>\n      <td>2726.0</td>\n      <td>50.0</td>\n      <td>99.0</td>\n      <td>67391.0</td>\n      <td>74.193883</td>\n      <td>146.903889</td>\n      <td>6.0</td>\n    </tr>\n    <tr>\n      <th>Palos de la Frontera</th>\n      <td>643.0</td>\n      <td>22.0</td>\n      <td>36.0</td>\n      <td>11742.0</td>\n      <td>187.361608</td>\n      <td>306.591722</td>\n      <td>6.0</td>\n    </tr>\n    <tr>\n      <th>Isla Cristina</th>\n      <td>2147.0</td>\n      <td>18.0</td>\n      <td>34.0</td>\n      <td>21393.0</td>\n      <td>84.139672</td>\n      <td>158.930491</td>\n      <td>4.0</td>\n    </tr>\n    <tr>\n      <th>Aljaraque</th>\n      <td>1077.0</td>\n      <td>31.0</td>\n      <td>56.0</td>\n      <td>21474.0</td>\n      <td>144.360622</td>\n      <td>260.780479</td>\n      <td>3.0</td>\n    </tr>\n    <tr>\n      <th>Trigueros</th>\n      <td>300.0</td>\n      <td>8.0</td>\n      <td>21.0</td>\n      <td>7862.0</td>\n      <td>101.755279</td>\n      <td>267.107606</td>\n      <td>3.0</td>\n    </tr>\n    <tr>\n      <th>San Juan del Puerto</th>\n      <td>497.0</td>\n      <td>19.0</td>\n      <td>29.0</td>\n      <td>9411.0</td>\n      <td>201.891404</td>\n      <td>308.150037</td>\n      <td>3.0</td>\n    </tr>\n    <tr>\n      <th>Moguer</th>\n      <td>1271.0</td>\n      <td>51.0</td>\n      <td>109.0</td>\n      <td>21867.0</td>\n      <td>233.228152</td>\n      <td>498.468011</td>\n      <td>3.0</td>\n    </tr>\n    <tr>\n      <th>Cartaya</th>\n      <td>1328.0</td>\n      <td>12.0</td>\n      <td>34.0</td>\n      <td>20083.0</td>\n      <td>59.752029</td>\n      <td>169.297416</td>\n      <td>2.0</td>\n    </tr>\n    <tr>\n      <th>Bonares</th>\n      <td>270.0</td>\n      <td>6.0</td>\n      <td>10.0</td>\n      <td>6060.0</td>\n      <td>99.009901</td>\n      <td>165.016502</td>\n      <td>2.0</td>\n    </tr>\n    <tr>\n      <th>Aracena</th>\n      <td>523.0</td>\n      <td>6.0</td>\n      <td>9.0</td>\n      <td>8255.0</td>\n      <td>72.683222</td>\n      <td>109.024833</td>\n      <td>2.0</td>\n    </tr>\n    <tr>\n      <th>Minas de Riotinto</th>\n      <td>119.0</td>\n      <td>2.0</td>\n      <td>2.0</td>\n      <td>3812.0</td>\n      <td>52.465897</td>\n      <td>52.465897</td>\n      <td>1.0</td>\n    </tr>\n    <tr>\n      <th>Gibraleón</th>\n      <td>622.0</td>\n      <td>15.0</td>\n      <td>22.0</td>\n      <td>12737.0</td>\n      <td>117.767135</td>\n      <td>172.725132</td>\n      <td>1.0</td>\n    </tr>\n    <tr>\n      <th>Nerva</th>\n      <td>177.0</td>\n      <td>4.0</td>\n      <td>8.0</td>\n      <td>5169.0</td>\n      <td>77.384407</td>\n      <td>154.768814</td>\n      <td>1.0</td>\n    </tr>\n    <tr>\n      <th>Niebla</th>\n      <td>232.0</td>\n      <td>18.0</td>\n      <td>25.0</td>\n      <td>4116.0</td>\n      <td>437.317784</td>\n      <td>607.385811</td>\n      <td>1.0</td>\n    </tr>\n    <tr>\n      <th>Palma del Condado (La)</th>\n      <td>1142.0</td>\n      <td>26.0</td>\n      <td>70.0</td>\n      <td>10801.0</td>\n      <td>240.718452</td>\n      <td>648.088140</td>\n      <td>1.0</td>\n    </tr>\n    <tr>\n      <th>Paterna del Campo</th>\n      <td>128.0</td>\n      <td>2.0</td>\n      <td>3.0</td>\n      <td>3457.0</td>\n      <td>57.853630</td>\n      <td>86.780445</td>\n      <td>1.0</td>\n    </tr>\n    <tr>\n      <th>Punta Umbría</th>\n      <td>803.0</td>\n      <td>17.0</td>\n      <td>46.0</td>\n      <td>15355.0</td>\n      <td>110.713123</td>\n      <td>299.576685</td>\n      <td>1.0</td>\n    </tr>\n    <tr>\n      <th>Rociana del Condado</th>\n      <td>546.0</td>\n      <td>4.0</td>\n      <td>12.0</td>\n      <td>7939.0</td>\n      <td>50.384179</td>\n      <td>151.152538</td>\n      <td>1.0</td>\n    </tr>\n    <tr>\n      <th>Bollullos Par del Condado</th>\n      <td>971.0</td>\n      <td>24.0</td>\n      <td>71.0</td>\n      <td>14387.0</td>\n      <td>166.817266</td>\n      <td>493.501077</td>\n      <td>1.0</td>\n    </tr>\n    <tr>\n      <th>Valverde del Camino</th>\n      <td>552.0</td>\n      <td>20.0</td>\n      <td>46.0</td>\n      <td>12750.0</td>\n      <td>156.862745</td>\n      <td>360.784314</td>\n      <td>1.0</td>\n    </tr>\n    <tr>\n      <th>Villarrasa</th>\n      <td>168.0</td>\n      <td>5.0</td>\n      <td>18.0</td>\n      <td>2211.0</td>\n      <td>226.142017</td>\n      <td>814.111262</td>\n      <td>1.0</td>\n    </tr>\n    <tr>\n      <th>Zalamea la Real</th>\n      <td>91.0</td>\n      <td>3.0</td>\n      <td>4.0</td>\n      <td>3054.0</td>\n      <td>98.231827</td>\n      <td>130.975769</td>\n      <td>1.0</td>\n    </tr>\n  </tbody>\n</table>\n</div>"
     },
     "metadata": {},
     "execution_count": 15
    }
   ],
   "source": [
    "# Nuevos casos desde la última captura\n",
    "tabla[tabla['Diferencia PDIA'] != 0].sort_values('Diferencia PDIA', ascending=False)"
   ]
  },
  {
   "cell_type": "code",
   "execution_count": 16,
   "metadata": {},
   "outputs": [],
   "source": [
    "if tabla[tabla['Diferencia PDIA'] != 0]['Diferencia PDIA'].sum() != 0:\n",
    "  # Save to csv\n",
    "  tabla.to_csv('covid_huelva.csv', encoding='utf-8', header=True, index=True)  "
   ]
  },
  {
   "cell_type": "code",
   "execution_count": 17,
   "metadata": {},
   "outputs": [
    {
     "output_type": "execute_result",
     "data": {
      "text/plain": [
       "Medida                             Confirmados PDIA  Confirmados PDIA 7 días  \\\n",
       "Lugar de residencia                                                            \n",
       "Villarrasa                                    168.0                      5.0   \n",
       "Cabezas Rubias                                 37.0                      1.0   \n",
       "Palma del Condado (La)                       1142.0                     26.0   \n",
       "Niebla                                        232.0                     18.0   \n",
       "Almonte                                      1795.0                     56.0   \n",
       "Moguer                                       1271.0                     51.0   \n",
       "Bollullos Par del Condado                     971.0                     24.0   \n",
       "Calañas                                       189.0                      4.0   \n",
       "Manzanilla                                     98.0                      3.0   \n",
       "Granada de Río-Tinto (La)                       3.0                      1.0   \n",
       "Condado-Campiña                             10073.0                    271.0   \n",
       "Valverde del Camino                           552.0                     20.0   \n",
       "Lucena del Puerto                             251.0                      5.0   \n",
       "San Juan del Puerto                           497.0                     19.0   \n",
       "Huelva (capital)                             8197.0                    259.0   \n",
       "Palos de la Frontera                          643.0                     22.0   \n",
       "Cerro de Andévalo (El)                        145.0                      6.0   \n",
       "Punta Umbría                                  803.0                     17.0   \n",
       "Huelva                                      31007.0                    691.0   \n",
       "Trigueros                                     300.0                      8.0   \n",
       "San Bartolomé de la Torre                     294.0                      3.0   \n",
       "Aljaraque                                    1077.0                     31.0   \n",
       "Huelva-Costa                                17862.0                    368.0   \n",
       "Gibraleón                                     622.0                     15.0   \n",
       "Cartaya                                      1328.0                     12.0   \n",
       "Bonares                                       270.0                      6.0   \n",
       "Zarza-Perrunal (La)                            24.0                      1.0   \n",
       "Isla Cristina                                2147.0                     18.0   \n",
       "Nerva                                         177.0                      4.0   \n",
       "Rociana del Condado                           546.0                      4.0   \n",
       "Sierra de Huelva-Andévalo Central            2726.0                     50.0   \n",
       "Beas                                          210.0                      3.0   \n",
       "Zalamea la Real                                91.0                      3.0   \n",
       "Aracena                                       523.0                      6.0   \n",
       "Santa Bárbara de Casa                          15.0                      1.0   \n",
       "Lepe                                         2127.0                     18.0   \n",
       "Ayamonte                                     1316.0                      7.0   \n",
       "Villalba del Alcor                            481.0                      1.0   \n",
       "Paterna del Campo                             128.0                      2.0   \n",
       "Paymogo                                        75.0                      1.0   \n",
       "Villanueva de los Castillejos                 159.0                      2.0   \n",
       "Puebla de Guzmán                              113.0                      1.0   \n",
       "Minas de Riotinto                             119.0                      2.0   \n",
       "Jabugo                                         64.0                      1.0   \n",
       "Cortegana                                     202.0                      2.0   \n",
       "\n",
       "Medida                             Confirmados PDIA 14 días  Población  \\\n",
       "Lugar de residencia                                                      \n",
       "Villarrasa                                             18.0     2211.0   \n",
       "Cabezas Rubias                                          5.0      706.0   \n",
       "Palma del Condado (La)                                 70.0    10801.0   \n",
       "Niebla                                                 25.0     4116.0   \n",
       "Almonte                                               134.0    24507.0   \n",
       "Moguer                                                109.0    21867.0   \n",
       "Bollullos Par del Condado                              71.0    14387.0   \n",
       "Calañas                                                12.0     2768.0   \n",
       "Manzanilla                                              9.0     2118.0   \n",
       "Granada de Río-Tinto (La)                               1.0      243.0   \n",
       "Condado-Campiña                                       599.0   156231.0   \n",
       "Valverde del Camino                                    46.0    12750.0   \n",
       "Lucena del Puerto                                      11.0     3261.0   \n",
       "San Juan del Puerto                                    29.0     9411.0   \n",
       "Huelva (capital)                                      443.0   143837.0   \n",
       "Palos de la Frontera                                   36.0    11742.0   \n",
       "Cerro de Andévalo (El)                                  7.0     2327.0   \n",
       "Punta Umbría                                           46.0    15355.0   \n",
       "Huelva                                               1378.0   513170.0   \n",
       "Trigueros                                              21.0     7862.0   \n",
       "San Bartolomé de la Torre                              10.0     3761.0   \n",
       "Aljaraque                                              56.0    21474.0   \n",
       "Huelva-Costa                                          675.0   289548.0   \n",
       "Gibraleón                                              22.0    12737.0   \n",
       "Cartaya                                                34.0    20083.0   \n",
       "Bonares                                                10.0     6060.0   \n",
       "Zarza-Perrunal (La)                                     2.0     1253.0   \n",
       "Isla Cristina                                          34.0    21393.0   \n",
       "Nerva                                                   8.0     5169.0   \n",
       "Rociana del Condado                                    12.0     7939.0   \n",
       "Sierra de Huelva-Andévalo Central                      99.0    67391.0   \n",
       "Beas                                                    6.0     4341.0   \n",
       "Zalamea la Real                                         4.0     3054.0   \n",
       "Aracena                                                 9.0     8255.0   \n",
       "Santa Bárbara de Casa                                   1.0     1043.0   \n",
       "Lepe                                                   26.0    27880.0   \n",
       "Ayamonte                                               19.0    21104.0   \n",
       "Villalba del Alcor                                      3.0     3366.0   \n",
       "Paterna del Campo                                       3.0     3457.0   \n",
       "Paymogo                                                 1.0     1162.0   \n",
       "Villanueva de los Castillejos                           2.0     2825.0   \n",
       "Puebla de Guzmán                                        2.0     3092.0   \n",
       "Minas de Riotinto                                       2.0     3812.0   \n",
       "Jabugo                                                  1.0     2260.0   \n",
       "Cortegana                                               2.0     4602.0   \n",
       "\n",
       "Medida                                  tasa7      tasa14  Diferencia PDIA  \n",
       "Lugar de residencia                                                         \n",
       "Villarrasa                         226.142017  814.111262              1.0  \n",
       "Cabezas Rubias                     141.643059  708.215297              0.0  \n",
       "Palma del Condado (La)             240.718452  648.088140              1.0  \n",
       "Niebla                             437.317784  607.385811              1.0  \n",
       "Almonte                            228.506141  546.782552              7.0  \n",
       "Moguer                             233.228152  498.468011              3.0  \n",
       "Bollullos Par del Condado          166.817266  493.501077              1.0  \n",
       "Calañas                            144.508671  433.526012              0.0  \n",
       "Manzanilla                         141.643059  424.929178              0.0  \n",
       "Granada de Río-Tinto (La)          411.522634  411.522634              0.0  \n",
       "Condado-Campiña                    173.461093  383.406622             31.0  \n",
       "Valverde del Camino                156.862745  360.784314              1.0  \n",
       "Lucena del Puerto                  153.327200  337.319841              0.0  \n",
       "San Juan del Puerto                201.891404  308.150037              3.0  \n",
       "Huelva (capital)                   180.064935  307.987514             38.0  \n",
       "Palos de la Frontera               187.361608  306.591722              6.0  \n",
       "Cerro de Andévalo (El)             257.842716  300.816502              0.0  \n",
       "Punta Umbría                       110.713123  299.576685              1.0  \n",
       "Huelva                             134.653234  268.526999             85.0  \n",
       "Trigueros                          101.755279  267.107606              3.0  \n",
       "San Bartolomé de la Torre           79.766020  265.886732              0.0  \n",
       "Aljaraque                          144.360622  260.780479              3.0  \n",
       "Huelva-Costa                       127.094644  233.121969             48.0  \n",
       "Gibraleón                          117.767135  172.725132              1.0  \n",
       "Cartaya                             59.752029  169.297416              2.0  \n",
       "Bonares                             99.009901  165.016502              2.0  \n",
       "Zarza-Perrunal (La)                 79.808460  159.616919              0.0  \n",
       "Isla Cristina                       84.139672  158.930491              4.0  \n",
       "Nerva                               77.384407  154.768814              1.0  \n",
       "Rociana del Condado                 50.384179  151.152538              1.0  \n",
       "Sierra de Huelva-Andévalo Central   74.193883  146.903889              6.0  \n",
       "Beas                                69.108500  138.217001              0.0  \n",
       "Zalamea la Real                     98.231827  130.975769              1.0  \n",
       "Aracena                             72.683222  109.024833              2.0  \n",
       "Santa Bárbara de Casa               95.877277   95.877277              0.0  \n",
       "Lepe                                64.562410   93.256815              0.0  \n",
       "Ayamonte                            33.169067   90.030326              0.0  \n",
       "Villalba del Alcor                  29.708853   89.126560              0.0  \n",
       "Paterna del Campo                   57.853630   86.780445              1.0  \n",
       "Paymogo                             86.058520   86.058520              0.0  \n",
       "Villanueva de los Castillejos       70.796460   70.796460              0.0  \n",
       "Puebla de Guzmán                    32.341527   64.683053              0.0  \n",
       "Minas de Riotinto                   52.465897   52.465897              1.0  \n",
       "Jabugo                              44.247788   44.247788              0.0  \n",
       "Cortegana                           43.459365   43.459365              0.0  "
      ],
      "text/html": "<div>\n<style scoped>\n    .dataframe tbody tr th:only-of-type {\n        vertical-align: middle;\n    }\n\n    .dataframe tbody tr th {\n        vertical-align: top;\n    }\n\n    .dataframe thead th {\n        text-align: right;\n    }\n</style>\n<table border=\"1\" class=\"dataframe\">\n  <thead>\n    <tr style=\"text-align: right;\">\n      <th>Medida</th>\n      <th>Confirmados PDIA</th>\n      <th>Confirmados PDIA 7 días</th>\n      <th>Confirmados PDIA 14 días</th>\n      <th>Población</th>\n      <th>tasa7</th>\n      <th>tasa14</th>\n      <th>Diferencia PDIA</th>\n    </tr>\n    <tr>\n      <th>Lugar de residencia</th>\n      <th></th>\n      <th></th>\n      <th></th>\n      <th></th>\n      <th></th>\n      <th></th>\n      <th></th>\n    </tr>\n  </thead>\n  <tbody>\n    <tr>\n      <th>Villarrasa</th>\n      <td>168.0</td>\n      <td>5.0</td>\n      <td>18.0</td>\n      <td>2211.0</td>\n      <td>226.142017</td>\n      <td>814.111262</td>\n      <td>1.0</td>\n    </tr>\n    <tr>\n      <th>Cabezas Rubias</th>\n      <td>37.0</td>\n      <td>1.0</td>\n      <td>5.0</td>\n      <td>706.0</td>\n      <td>141.643059</td>\n      <td>708.215297</td>\n      <td>0.0</td>\n    </tr>\n    <tr>\n      <th>Palma del Condado (La)</th>\n      <td>1142.0</td>\n      <td>26.0</td>\n      <td>70.0</td>\n      <td>10801.0</td>\n      <td>240.718452</td>\n      <td>648.088140</td>\n      <td>1.0</td>\n    </tr>\n    <tr>\n      <th>Niebla</th>\n      <td>232.0</td>\n      <td>18.0</td>\n      <td>25.0</td>\n      <td>4116.0</td>\n      <td>437.317784</td>\n      <td>607.385811</td>\n      <td>1.0</td>\n    </tr>\n    <tr>\n      <th>Almonte</th>\n      <td>1795.0</td>\n      <td>56.0</td>\n      <td>134.0</td>\n      <td>24507.0</td>\n      <td>228.506141</td>\n      <td>546.782552</td>\n      <td>7.0</td>\n    </tr>\n    <tr>\n      <th>Moguer</th>\n      <td>1271.0</td>\n      <td>51.0</td>\n      <td>109.0</td>\n      <td>21867.0</td>\n      <td>233.228152</td>\n      <td>498.468011</td>\n      <td>3.0</td>\n    </tr>\n    <tr>\n      <th>Bollullos Par del Condado</th>\n      <td>971.0</td>\n      <td>24.0</td>\n      <td>71.0</td>\n      <td>14387.0</td>\n      <td>166.817266</td>\n      <td>493.501077</td>\n      <td>1.0</td>\n    </tr>\n    <tr>\n      <th>Calañas</th>\n      <td>189.0</td>\n      <td>4.0</td>\n      <td>12.0</td>\n      <td>2768.0</td>\n      <td>144.508671</td>\n      <td>433.526012</td>\n      <td>0.0</td>\n    </tr>\n    <tr>\n      <th>Manzanilla</th>\n      <td>98.0</td>\n      <td>3.0</td>\n      <td>9.0</td>\n      <td>2118.0</td>\n      <td>141.643059</td>\n      <td>424.929178</td>\n      <td>0.0</td>\n    </tr>\n    <tr>\n      <th>Granada de Río-Tinto (La)</th>\n      <td>3.0</td>\n      <td>1.0</td>\n      <td>1.0</td>\n      <td>243.0</td>\n      <td>411.522634</td>\n      <td>411.522634</td>\n      <td>0.0</td>\n    </tr>\n    <tr>\n      <th>Condado-Campiña</th>\n      <td>10073.0</td>\n      <td>271.0</td>\n      <td>599.0</td>\n      <td>156231.0</td>\n      <td>173.461093</td>\n      <td>383.406622</td>\n      <td>31.0</td>\n    </tr>\n    <tr>\n      <th>Valverde del Camino</th>\n      <td>552.0</td>\n      <td>20.0</td>\n      <td>46.0</td>\n      <td>12750.0</td>\n      <td>156.862745</td>\n      <td>360.784314</td>\n      <td>1.0</td>\n    </tr>\n    <tr>\n      <th>Lucena del Puerto</th>\n      <td>251.0</td>\n      <td>5.0</td>\n      <td>11.0</td>\n      <td>3261.0</td>\n      <td>153.327200</td>\n      <td>337.319841</td>\n      <td>0.0</td>\n    </tr>\n    <tr>\n      <th>San Juan del Puerto</th>\n      <td>497.0</td>\n      <td>19.0</td>\n      <td>29.0</td>\n      <td>9411.0</td>\n      <td>201.891404</td>\n      <td>308.150037</td>\n      <td>3.0</td>\n    </tr>\n    <tr>\n      <th>Huelva (capital)</th>\n      <td>8197.0</td>\n      <td>259.0</td>\n      <td>443.0</td>\n      <td>143837.0</td>\n      <td>180.064935</td>\n      <td>307.987514</td>\n      <td>38.0</td>\n    </tr>\n    <tr>\n      <th>Palos de la Frontera</th>\n      <td>643.0</td>\n      <td>22.0</td>\n      <td>36.0</td>\n      <td>11742.0</td>\n      <td>187.361608</td>\n      <td>306.591722</td>\n      <td>6.0</td>\n    </tr>\n    <tr>\n      <th>Cerro de Andévalo (El)</th>\n      <td>145.0</td>\n      <td>6.0</td>\n      <td>7.0</td>\n      <td>2327.0</td>\n      <td>257.842716</td>\n      <td>300.816502</td>\n      <td>0.0</td>\n    </tr>\n    <tr>\n      <th>Punta Umbría</th>\n      <td>803.0</td>\n      <td>17.0</td>\n      <td>46.0</td>\n      <td>15355.0</td>\n      <td>110.713123</td>\n      <td>299.576685</td>\n      <td>1.0</td>\n    </tr>\n    <tr>\n      <th>Huelva</th>\n      <td>31007.0</td>\n      <td>691.0</td>\n      <td>1378.0</td>\n      <td>513170.0</td>\n      <td>134.653234</td>\n      <td>268.526999</td>\n      <td>85.0</td>\n    </tr>\n    <tr>\n      <th>Trigueros</th>\n      <td>300.0</td>\n      <td>8.0</td>\n      <td>21.0</td>\n      <td>7862.0</td>\n      <td>101.755279</td>\n      <td>267.107606</td>\n      <td>3.0</td>\n    </tr>\n    <tr>\n      <th>San Bartolomé de la Torre</th>\n      <td>294.0</td>\n      <td>3.0</td>\n      <td>10.0</td>\n      <td>3761.0</td>\n      <td>79.766020</td>\n      <td>265.886732</td>\n      <td>0.0</td>\n    </tr>\n    <tr>\n      <th>Aljaraque</th>\n      <td>1077.0</td>\n      <td>31.0</td>\n      <td>56.0</td>\n      <td>21474.0</td>\n      <td>144.360622</td>\n      <td>260.780479</td>\n      <td>3.0</td>\n    </tr>\n    <tr>\n      <th>Huelva-Costa</th>\n      <td>17862.0</td>\n      <td>368.0</td>\n      <td>675.0</td>\n      <td>289548.0</td>\n      <td>127.094644</td>\n      <td>233.121969</td>\n      <td>48.0</td>\n    </tr>\n    <tr>\n      <th>Gibraleón</th>\n      <td>622.0</td>\n      <td>15.0</td>\n      <td>22.0</td>\n      <td>12737.0</td>\n      <td>117.767135</td>\n      <td>172.725132</td>\n      <td>1.0</td>\n    </tr>\n    <tr>\n      <th>Cartaya</th>\n      <td>1328.0</td>\n      <td>12.0</td>\n      <td>34.0</td>\n      <td>20083.0</td>\n      <td>59.752029</td>\n      <td>169.297416</td>\n      <td>2.0</td>\n    </tr>\n    <tr>\n      <th>Bonares</th>\n      <td>270.0</td>\n      <td>6.0</td>\n      <td>10.0</td>\n      <td>6060.0</td>\n      <td>99.009901</td>\n      <td>165.016502</td>\n      <td>2.0</td>\n    </tr>\n    <tr>\n      <th>Zarza-Perrunal (La)</th>\n      <td>24.0</td>\n      <td>1.0</td>\n      <td>2.0</td>\n      <td>1253.0</td>\n      <td>79.808460</td>\n      <td>159.616919</td>\n      <td>0.0</td>\n    </tr>\n    <tr>\n      <th>Isla Cristina</th>\n      <td>2147.0</td>\n      <td>18.0</td>\n      <td>34.0</td>\n      <td>21393.0</td>\n      <td>84.139672</td>\n      <td>158.930491</td>\n      <td>4.0</td>\n    </tr>\n    <tr>\n      <th>Nerva</th>\n      <td>177.0</td>\n      <td>4.0</td>\n      <td>8.0</td>\n      <td>5169.0</td>\n      <td>77.384407</td>\n      <td>154.768814</td>\n      <td>1.0</td>\n    </tr>\n    <tr>\n      <th>Rociana del Condado</th>\n      <td>546.0</td>\n      <td>4.0</td>\n      <td>12.0</td>\n      <td>7939.0</td>\n      <td>50.384179</td>\n      <td>151.152538</td>\n      <td>1.0</td>\n    </tr>\n    <tr>\n      <th>Sierra de Huelva-Andévalo Central</th>\n      <td>2726.0</td>\n      <td>50.0</td>\n      <td>99.0</td>\n      <td>67391.0</td>\n      <td>74.193883</td>\n      <td>146.903889</td>\n      <td>6.0</td>\n    </tr>\n    <tr>\n      <th>Beas</th>\n      <td>210.0</td>\n      <td>3.0</td>\n      <td>6.0</td>\n      <td>4341.0</td>\n      <td>69.108500</td>\n      <td>138.217001</td>\n      <td>0.0</td>\n    </tr>\n    <tr>\n      <th>Zalamea la Real</th>\n      <td>91.0</td>\n      <td>3.0</td>\n      <td>4.0</td>\n      <td>3054.0</td>\n      <td>98.231827</td>\n      <td>130.975769</td>\n      <td>1.0</td>\n    </tr>\n    <tr>\n      <th>Aracena</th>\n      <td>523.0</td>\n      <td>6.0</td>\n      <td>9.0</td>\n      <td>8255.0</td>\n      <td>72.683222</td>\n      <td>109.024833</td>\n      <td>2.0</td>\n    </tr>\n    <tr>\n      <th>Santa Bárbara de Casa</th>\n      <td>15.0</td>\n      <td>1.0</td>\n      <td>1.0</td>\n      <td>1043.0</td>\n      <td>95.877277</td>\n      <td>95.877277</td>\n      <td>0.0</td>\n    </tr>\n    <tr>\n      <th>Lepe</th>\n      <td>2127.0</td>\n      <td>18.0</td>\n      <td>26.0</td>\n      <td>27880.0</td>\n      <td>64.562410</td>\n      <td>93.256815</td>\n      <td>0.0</td>\n    </tr>\n    <tr>\n      <th>Ayamonte</th>\n      <td>1316.0</td>\n      <td>7.0</td>\n      <td>19.0</td>\n      <td>21104.0</td>\n      <td>33.169067</td>\n      <td>90.030326</td>\n      <td>0.0</td>\n    </tr>\n    <tr>\n      <th>Villalba del Alcor</th>\n      <td>481.0</td>\n      <td>1.0</td>\n      <td>3.0</td>\n      <td>3366.0</td>\n      <td>29.708853</td>\n      <td>89.126560</td>\n      <td>0.0</td>\n    </tr>\n    <tr>\n      <th>Paterna del Campo</th>\n      <td>128.0</td>\n      <td>2.0</td>\n      <td>3.0</td>\n      <td>3457.0</td>\n      <td>57.853630</td>\n      <td>86.780445</td>\n      <td>1.0</td>\n    </tr>\n    <tr>\n      <th>Paymogo</th>\n      <td>75.0</td>\n      <td>1.0</td>\n      <td>1.0</td>\n      <td>1162.0</td>\n      <td>86.058520</td>\n      <td>86.058520</td>\n      <td>0.0</td>\n    </tr>\n    <tr>\n      <th>Villanueva de los Castillejos</th>\n      <td>159.0</td>\n      <td>2.0</td>\n      <td>2.0</td>\n      <td>2825.0</td>\n      <td>70.796460</td>\n      <td>70.796460</td>\n      <td>0.0</td>\n    </tr>\n    <tr>\n      <th>Puebla de Guzmán</th>\n      <td>113.0</td>\n      <td>1.0</td>\n      <td>2.0</td>\n      <td>3092.0</td>\n      <td>32.341527</td>\n      <td>64.683053</td>\n      <td>0.0</td>\n    </tr>\n    <tr>\n      <th>Minas de Riotinto</th>\n      <td>119.0</td>\n      <td>2.0</td>\n      <td>2.0</td>\n      <td>3812.0</td>\n      <td>52.465897</td>\n      <td>52.465897</td>\n      <td>1.0</td>\n    </tr>\n    <tr>\n      <th>Jabugo</th>\n      <td>64.0</td>\n      <td>1.0</td>\n      <td>1.0</td>\n      <td>2260.0</td>\n      <td>44.247788</td>\n      <td>44.247788</td>\n      <td>0.0</td>\n    </tr>\n    <tr>\n      <th>Cortegana</th>\n      <td>202.0</td>\n      <td>2.0</td>\n      <td>2.0</td>\n      <td>4602.0</td>\n      <td>43.459365</td>\n      <td>43.459365</td>\n      <td>0.0</td>\n    </tr>\n  </tbody>\n</table>\n</div>"
     },
     "metadata": {},
     "execution_count": 17
    }
   ],
   "source": [
    "tabla.sort_values('tasa14', ascending=False)"
   ]
  },
  {
   "cell_type": "code",
   "execution_count": 18,
   "metadata": {},
   "outputs": [
    {
     "output_type": "execute_result",
     "data": {
      "text/plain": [
       "Medida                             Confirmados PDIA  Confirmados PDIA 7 días  \\\n",
       "Lugar de residencia                                                            \n",
       "Cabezas Rubias                                 37.0                      1.0   \n",
       "Villarrasa                                    168.0                      5.0   \n",
       "San Bartolomé de la Torre                     294.0                      3.0   \n",
       "Manzanilla                                     98.0                      3.0   \n",
       "Rociana del Condado                           546.0                      4.0   \n",
       "Villalba del Alcor                            481.0                      1.0   \n",
       "Calañas                                       189.0                      4.0   \n",
       "Bollullos Par del Condado                     971.0                     24.0   \n",
       "Cartaya                                      1328.0                     12.0   \n",
       "Ayamonte                                     1316.0                      7.0   \n",
       "Punta Umbría                                  803.0                     17.0   \n",
       "Palma del Condado (La)                       1142.0                     26.0   \n",
       "Trigueros                                     300.0                      8.0   \n",
       "Almonte                                      1795.0                     56.0   \n",
       "Valverde del Camino                           552.0                     20.0   \n",
       "Condado-Campiña                             10073.0                    271.0   \n",
       "Lucena del Puerto                             251.0                      5.0   \n",
       "Moguer                                       1271.0                     51.0   \n",
       "Puebla de Guzmán                              113.0                      1.0   \n",
       "Nerva                                         177.0                      4.0   \n",
       "Zarza-Perrunal (La)                            24.0                      1.0   \n",
       "Beas                                          210.0                      3.0   \n",
       "Huelva                                      31007.0                    691.0   \n",
       "Sierra de Huelva-Andévalo Central            2726.0                     50.0   \n",
       "Isla Cristina                                2147.0                     18.0   \n",
       "Huelva-Costa                                17862.0                    368.0   \n",
       "Aljaraque                                    1077.0                     31.0   \n",
       "Huelva (capital)                             8197.0                    259.0   \n",
       "Bonares                                       270.0                      6.0   \n",
       "Palos de la Frontera                          643.0                     22.0   \n",
       "San Juan del Puerto                           497.0                     19.0   \n",
       "Paterna del Campo                             128.0                      2.0   \n",
       "Aracena                                       523.0                      6.0   \n",
       "Gibraleón                                     622.0                     15.0   \n",
       "Lepe                                         2127.0                     18.0   \n",
       "Niebla                                        232.0                     18.0   \n",
       "Zalamea la Real                                91.0                      3.0   \n",
       "Cerro de Andévalo (El)                        145.0                      6.0   \n",
       "Villanueva de los Castillejos                 159.0                      2.0   \n",
       "Jabugo                                         64.0                      1.0   \n",
       "Cortegana                                     202.0                      2.0   \n",
       "Paymogo                                        75.0                      1.0   \n",
       "Minas de Riotinto                             119.0                      2.0   \n",
       "Santa Bárbara de Casa                          15.0                      1.0   \n",
       "Granada de Río-Tinto (La)                       3.0                      1.0   \n",
       "\n",
       "Medida                             Confirmados PDIA 14 días  Población  \\\n",
       "Lugar de residencia                                                      \n",
       "Cabezas Rubias                                          5.0      706.0   \n",
       "Villarrasa                                             18.0     2211.0   \n",
       "San Bartolomé de la Torre                              10.0     3761.0   \n",
       "Manzanilla                                              9.0     2118.0   \n",
       "Rociana del Condado                                    12.0     7939.0   \n",
       "Villalba del Alcor                                      3.0     3366.0   \n",
       "Calañas                                                12.0     2768.0   \n",
       "Bollullos Par del Condado                              71.0    14387.0   \n",
       "Cartaya                                                34.0    20083.0   \n",
       "Ayamonte                                               19.0    21104.0   \n",
       "Punta Umbría                                           46.0    15355.0   \n",
       "Palma del Condado (La)                                 70.0    10801.0   \n",
       "Trigueros                                              21.0     7862.0   \n",
       "Almonte                                               134.0    24507.0   \n",
       "Valverde del Camino                                    46.0    12750.0   \n",
       "Condado-Campiña                                       599.0   156231.0   \n",
       "Lucena del Puerto                                      11.0     3261.0   \n",
       "Moguer                                                109.0    21867.0   \n",
       "Puebla de Guzmán                                        2.0     3092.0   \n",
       "Nerva                                                   8.0     5169.0   \n",
       "Zarza-Perrunal (La)                                     2.0     1253.0   \n",
       "Beas                                                    6.0     4341.0   \n",
       "Huelva                                               1378.0   513170.0   \n",
       "Sierra de Huelva-Andévalo Central                      99.0    67391.0   \n",
       "Isla Cristina                                          34.0    21393.0   \n",
       "Huelva-Costa                                          675.0   289548.0   \n",
       "Aljaraque                                              56.0    21474.0   \n",
       "Huelva (capital)                                      443.0   143837.0   \n",
       "Bonares                                                10.0     6060.0   \n",
       "Palos de la Frontera                                   36.0    11742.0   \n",
       "San Juan del Puerto                                    29.0     9411.0   \n",
       "Paterna del Campo                                       3.0     3457.0   \n",
       "Aracena                                                 9.0     8255.0   \n",
       "Gibraleón                                              22.0    12737.0   \n",
       "Lepe                                                   26.0    27880.0   \n",
       "Niebla                                                 25.0     4116.0   \n",
       "Zalamea la Real                                         4.0     3054.0   \n",
       "Cerro de Andévalo (El)                                  7.0     2327.0   \n",
       "Villanueva de los Castillejos                           2.0     2825.0   \n",
       "Jabugo                                                  1.0     2260.0   \n",
       "Cortegana                                               2.0     4602.0   \n",
       "Paymogo                                                 1.0     1162.0   \n",
       "Minas de Riotinto                                       2.0     3812.0   \n",
       "Santa Bárbara de Casa                                   1.0     1043.0   \n",
       "Granada de Río-Tinto (La)                               1.0      243.0   \n",
       "\n",
       "Medida                                  tasa7      tasa14  Diferencia PDIA  \\\n",
       "Lugar de residencia                                                          \n",
       "Cabezas Rubias                     141.643059  708.215297              0.0   \n",
       "Villarrasa                         226.142017  814.111262              1.0   \n",
       "San Bartolomé de la Torre           79.766020  265.886732              0.0   \n",
       "Manzanilla                         141.643059  424.929178              0.0   \n",
       "Rociana del Condado                 50.384179  151.152538              1.0   \n",
       "Villalba del Alcor                  29.708853   89.126560              0.0   \n",
       "Calañas                            144.508671  433.526012              0.0   \n",
       "Bollullos Par del Condado          166.817266  493.501077              1.0   \n",
       "Cartaya                             59.752029  169.297416              2.0   \n",
       "Ayamonte                            33.169067   90.030326              0.0   \n",
       "Punta Umbría                       110.713123  299.576685              1.0   \n",
       "Palma del Condado (La)             240.718452  648.088140              1.0   \n",
       "Trigueros                          101.755279  267.107606              3.0   \n",
       "Almonte                            228.506141  546.782552              7.0   \n",
       "Valverde del Camino                156.862745  360.784314              1.0   \n",
       "Condado-Campiña                    173.461093  383.406622             31.0   \n",
       "Lucena del Puerto                  153.327200  337.319841              0.0   \n",
       "Moguer                             233.228152  498.468011              3.0   \n",
       "Puebla de Guzmán                    32.341527   64.683053              0.0   \n",
       "Nerva                               77.384407  154.768814              1.0   \n",
       "Zarza-Perrunal (La)                 79.808460  159.616919              0.0   \n",
       "Beas                                69.108500  138.217001              0.0   \n",
       "Huelva                             134.653234  268.526999             85.0   \n",
       "Sierra de Huelva-Andévalo Central   74.193883  146.903889              6.0   \n",
       "Isla Cristina                       84.139672  158.930491              4.0   \n",
       "Huelva-Costa                       127.094644  233.121969             48.0   \n",
       "Aljaraque                          144.360622  260.780479              3.0   \n",
       "Huelva (capital)                   180.064935  307.987514             38.0   \n",
       "Bonares                             99.009901  165.016502              2.0   \n",
       "Palos de la Frontera               187.361608  306.591722              6.0   \n",
       "San Juan del Puerto                201.891404  308.150037              3.0   \n",
       "Paterna del Campo                   57.853630   86.780445              1.0   \n",
       "Aracena                             72.683222  109.024833              2.0   \n",
       "Gibraleón                          117.767135  172.725132              1.0   \n",
       "Lepe                                64.562410   93.256815              0.0   \n",
       "Niebla                             437.317784  607.385811              1.0   \n",
       "Zalamea la Real                     98.231827  130.975769              1.0   \n",
       "Cerro de Andévalo (El)             257.842716  300.816502              0.0   \n",
       "Villanueva de los Castillejos       70.796460   70.796460              0.0   \n",
       "Jabugo                              44.247788   44.247788              0.0   \n",
       "Cortegana                           43.459365   43.459365              0.0   \n",
       "Paymogo                             86.058520   86.058520              0.0   \n",
       "Minas de Riotinto                   52.465897   52.465897              1.0   \n",
       "Santa Bárbara de Casa               95.877277   95.877277              0.0   \n",
       "Granada de Río-Tinto (La)          411.522634  411.522634              0.0   \n",
       "\n",
       "Medida                                 7/14  \n",
       "Lugar de residencia                          \n",
       "Cabezas Rubias                     0.200000  \n",
       "Villarrasa                         0.277778  \n",
       "San Bartolomé de la Torre          0.300000  \n",
       "Manzanilla                         0.333333  \n",
       "Rociana del Condado                0.333333  \n",
       "Villalba del Alcor                 0.333333  \n",
       "Calañas                            0.333333  \n",
       "Bollullos Par del Condado          0.338028  \n",
       "Cartaya                            0.352941  \n",
       "Ayamonte                           0.368421  \n",
       "Punta Umbría                       0.369565  \n",
       "Palma del Condado (La)             0.371429  \n",
       "Trigueros                          0.380952  \n",
       "Almonte                            0.417910  \n",
       "Valverde del Camino                0.434783  \n",
       "Condado-Campiña                    0.452421  \n",
       "Lucena del Puerto                  0.454545  \n",
       "Moguer                             0.467890  \n",
       "Puebla de Guzmán                   0.500000  \n",
       "Nerva                              0.500000  \n",
       "Zarza-Perrunal (La)                0.500000  \n",
       "Beas                               0.500000  \n",
       "Huelva                             0.501451  \n",
       "Sierra de Huelva-Andévalo Central  0.505051  \n",
       "Isla Cristina                      0.529412  \n",
       "Huelva-Costa                       0.545185  \n",
       "Aljaraque                          0.553571  \n",
       "Huelva (capital)                   0.584650  \n",
       "Bonares                            0.600000  \n",
       "Palos de la Frontera               0.611111  \n",
       "San Juan del Puerto                0.655172  \n",
       "Paterna del Campo                  0.666667  \n",
       "Aracena                            0.666667  \n",
       "Gibraleón                          0.681818  \n",
       "Lepe                               0.692308  \n",
       "Niebla                             0.720000  \n",
       "Zalamea la Real                    0.750000  \n",
       "Cerro de Andévalo (El)             0.857143  \n",
       "Villanueva de los Castillejos      1.000000  \n",
       "Jabugo                             1.000000  \n",
       "Cortegana                          1.000000  \n",
       "Paymogo                            1.000000  \n",
       "Minas de Riotinto                  1.000000  \n",
       "Santa Bárbara de Casa              1.000000  \n",
       "Granada de Río-Tinto (La)          1.000000  "
      ],
      "text/html": "<div>\n<style scoped>\n    .dataframe tbody tr th:only-of-type {\n        vertical-align: middle;\n    }\n\n    .dataframe tbody tr th {\n        vertical-align: top;\n    }\n\n    .dataframe thead th {\n        text-align: right;\n    }\n</style>\n<table border=\"1\" class=\"dataframe\">\n  <thead>\n    <tr style=\"text-align: right;\">\n      <th>Medida</th>\n      <th>Confirmados PDIA</th>\n      <th>Confirmados PDIA 7 días</th>\n      <th>Confirmados PDIA 14 días</th>\n      <th>Población</th>\n      <th>tasa7</th>\n      <th>tasa14</th>\n      <th>Diferencia PDIA</th>\n      <th>7/14</th>\n    </tr>\n    <tr>\n      <th>Lugar de residencia</th>\n      <th></th>\n      <th></th>\n      <th></th>\n      <th></th>\n      <th></th>\n      <th></th>\n      <th></th>\n      <th></th>\n    </tr>\n  </thead>\n  <tbody>\n    <tr>\n      <th>Cabezas Rubias</th>\n      <td>37.0</td>\n      <td>1.0</td>\n      <td>5.0</td>\n      <td>706.0</td>\n      <td>141.643059</td>\n      <td>708.215297</td>\n      <td>0.0</td>\n      <td>0.200000</td>\n    </tr>\n    <tr>\n      <th>Villarrasa</th>\n      <td>168.0</td>\n      <td>5.0</td>\n      <td>18.0</td>\n      <td>2211.0</td>\n      <td>226.142017</td>\n      <td>814.111262</td>\n      <td>1.0</td>\n      <td>0.277778</td>\n    </tr>\n    <tr>\n      <th>San Bartolomé de la Torre</th>\n      <td>294.0</td>\n      <td>3.0</td>\n      <td>10.0</td>\n      <td>3761.0</td>\n      <td>79.766020</td>\n      <td>265.886732</td>\n      <td>0.0</td>\n      <td>0.300000</td>\n    </tr>\n    <tr>\n      <th>Manzanilla</th>\n      <td>98.0</td>\n      <td>3.0</td>\n      <td>9.0</td>\n      <td>2118.0</td>\n      <td>141.643059</td>\n      <td>424.929178</td>\n      <td>0.0</td>\n      <td>0.333333</td>\n    </tr>\n    <tr>\n      <th>Rociana del Condado</th>\n      <td>546.0</td>\n      <td>4.0</td>\n      <td>12.0</td>\n      <td>7939.0</td>\n      <td>50.384179</td>\n      <td>151.152538</td>\n      <td>1.0</td>\n      <td>0.333333</td>\n    </tr>\n    <tr>\n      <th>Villalba del Alcor</th>\n      <td>481.0</td>\n      <td>1.0</td>\n      <td>3.0</td>\n      <td>3366.0</td>\n      <td>29.708853</td>\n      <td>89.126560</td>\n      <td>0.0</td>\n      <td>0.333333</td>\n    </tr>\n    <tr>\n      <th>Calañas</th>\n      <td>189.0</td>\n      <td>4.0</td>\n      <td>12.0</td>\n      <td>2768.0</td>\n      <td>144.508671</td>\n      <td>433.526012</td>\n      <td>0.0</td>\n      <td>0.333333</td>\n    </tr>\n    <tr>\n      <th>Bollullos Par del Condado</th>\n      <td>971.0</td>\n      <td>24.0</td>\n      <td>71.0</td>\n      <td>14387.0</td>\n      <td>166.817266</td>\n      <td>493.501077</td>\n      <td>1.0</td>\n      <td>0.338028</td>\n    </tr>\n    <tr>\n      <th>Cartaya</th>\n      <td>1328.0</td>\n      <td>12.0</td>\n      <td>34.0</td>\n      <td>20083.0</td>\n      <td>59.752029</td>\n      <td>169.297416</td>\n      <td>2.0</td>\n      <td>0.352941</td>\n    </tr>\n    <tr>\n      <th>Ayamonte</th>\n      <td>1316.0</td>\n      <td>7.0</td>\n      <td>19.0</td>\n      <td>21104.0</td>\n      <td>33.169067</td>\n      <td>90.030326</td>\n      <td>0.0</td>\n      <td>0.368421</td>\n    </tr>\n    <tr>\n      <th>Punta Umbría</th>\n      <td>803.0</td>\n      <td>17.0</td>\n      <td>46.0</td>\n      <td>15355.0</td>\n      <td>110.713123</td>\n      <td>299.576685</td>\n      <td>1.0</td>\n      <td>0.369565</td>\n    </tr>\n    <tr>\n      <th>Palma del Condado (La)</th>\n      <td>1142.0</td>\n      <td>26.0</td>\n      <td>70.0</td>\n      <td>10801.0</td>\n      <td>240.718452</td>\n      <td>648.088140</td>\n      <td>1.0</td>\n      <td>0.371429</td>\n    </tr>\n    <tr>\n      <th>Trigueros</th>\n      <td>300.0</td>\n      <td>8.0</td>\n      <td>21.0</td>\n      <td>7862.0</td>\n      <td>101.755279</td>\n      <td>267.107606</td>\n      <td>3.0</td>\n      <td>0.380952</td>\n    </tr>\n    <tr>\n      <th>Almonte</th>\n      <td>1795.0</td>\n      <td>56.0</td>\n      <td>134.0</td>\n      <td>24507.0</td>\n      <td>228.506141</td>\n      <td>546.782552</td>\n      <td>7.0</td>\n      <td>0.417910</td>\n    </tr>\n    <tr>\n      <th>Valverde del Camino</th>\n      <td>552.0</td>\n      <td>20.0</td>\n      <td>46.0</td>\n      <td>12750.0</td>\n      <td>156.862745</td>\n      <td>360.784314</td>\n      <td>1.0</td>\n      <td>0.434783</td>\n    </tr>\n    <tr>\n      <th>Condado-Campiña</th>\n      <td>10073.0</td>\n      <td>271.0</td>\n      <td>599.0</td>\n      <td>156231.0</td>\n      <td>173.461093</td>\n      <td>383.406622</td>\n      <td>31.0</td>\n      <td>0.452421</td>\n    </tr>\n    <tr>\n      <th>Lucena del Puerto</th>\n      <td>251.0</td>\n      <td>5.0</td>\n      <td>11.0</td>\n      <td>3261.0</td>\n      <td>153.327200</td>\n      <td>337.319841</td>\n      <td>0.0</td>\n      <td>0.454545</td>\n    </tr>\n    <tr>\n      <th>Moguer</th>\n      <td>1271.0</td>\n      <td>51.0</td>\n      <td>109.0</td>\n      <td>21867.0</td>\n      <td>233.228152</td>\n      <td>498.468011</td>\n      <td>3.0</td>\n      <td>0.467890</td>\n    </tr>\n    <tr>\n      <th>Puebla de Guzmán</th>\n      <td>113.0</td>\n      <td>1.0</td>\n      <td>2.0</td>\n      <td>3092.0</td>\n      <td>32.341527</td>\n      <td>64.683053</td>\n      <td>0.0</td>\n      <td>0.500000</td>\n    </tr>\n    <tr>\n      <th>Nerva</th>\n      <td>177.0</td>\n      <td>4.0</td>\n      <td>8.0</td>\n      <td>5169.0</td>\n      <td>77.384407</td>\n      <td>154.768814</td>\n      <td>1.0</td>\n      <td>0.500000</td>\n    </tr>\n    <tr>\n      <th>Zarza-Perrunal (La)</th>\n      <td>24.0</td>\n      <td>1.0</td>\n      <td>2.0</td>\n      <td>1253.0</td>\n      <td>79.808460</td>\n      <td>159.616919</td>\n      <td>0.0</td>\n      <td>0.500000</td>\n    </tr>\n    <tr>\n      <th>Beas</th>\n      <td>210.0</td>\n      <td>3.0</td>\n      <td>6.0</td>\n      <td>4341.0</td>\n      <td>69.108500</td>\n      <td>138.217001</td>\n      <td>0.0</td>\n      <td>0.500000</td>\n    </tr>\n    <tr>\n      <th>Huelva</th>\n      <td>31007.0</td>\n      <td>691.0</td>\n      <td>1378.0</td>\n      <td>513170.0</td>\n      <td>134.653234</td>\n      <td>268.526999</td>\n      <td>85.0</td>\n      <td>0.501451</td>\n    </tr>\n    <tr>\n      <th>Sierra de Huelva-Andévalo Central</th>\n      <td>2726.0</td>\n      <td>50.0</td>\n      <td>99.0</td>\n      <td>67391.0</td>\n      <td>74.193883</td>\n      <td>146.903889</td>\n      <td>6.0</td>\n      <td>0.505051</td>\n    </tr>\n    <tr>\n      <th>Isla Cristina</th>\n      <td>2147.0</td>\n      <td>18.0</td>\n      <td>34.0</td>\n      <td>21393.0</td>\n      <td>84.139672</td>\n      <td>158.930491</td>\n      <td>4.0</td>\n      <td>0.529412</td>\n    </tr>\n    <tr>\n      <th>Huelva-Costa</th>\n      <td>17862.0</td>\n      <td>368.0</td>\n      <td>675.0</td>\n      <td>289548.0</td>\n      <td>127.094644</td>\n      <td>233.121969</td>\n      <td>48.0</td>\n      <td>0.545185</td>\n    </tr>\n    <tr>\n      <th>Aljaraque</th>\n      <td>1077.0</td>\n      <td>31.0</td>\n      <td>56.0</td>\n      <td>21474.0</td>\n      <td>144.360622</td>\n      <td>260.780479</td>\n      <td>3.0</td>\n      <td>0.553571</td>\n    </tr>\n    <tr>\n      <th>Huelva (capital)</th>\n      <td>8197.0</td>\n      <td>259.0</td>\n      <td>443.0</td>\n      <td>143837.0</td>\n      <td>180.064935</td>\n      <td>307.987514</td>\n      <td>38.0</td>\n      <td>0.584650</td>\n    </tr>\n    <tr>\n      <th>Bonares</th>\n      <td>270.0</td>\n      <td>6.0</td>\n      <td>10.0</td>\n      <td>6060.0</td>\n      <td>99.009901</td>\n      <td>165.016502</td>\n      <td>2.0</td>\n      <td>0.600000</td>\n    </tr>\n    <tr>\n      <th>Palos de la Frontera</th>\n      <td>643.0</td>\n      <td>22.0</td>\n      <td>36.0</td>\n      <td>11742.0</td>\n      <td>187.361608</td>\n      <td>306.591722</td>\n      <td>6.0</td>\n      <td>0.611111</td>\n    </tr>\n    <tr>\n      <th>San Juan del Puerto</th>\n      <td>497.0</td>\n      <td>19.0</td>\n      <td>29.0</td>\n      <td>9411.0</td>\n      <td>201.891404</td>\n      <td>308.150037</td>\n      <td>3.0</td>\n      <td>0.655172</td>\n    </tr>\n    <tr>\n      <th>Paterna del Campo</th>\n      <td>128.0</td>\n      <td>2.0</td>\n      <td>3.0</td>\n      <td>3457.0</td>\n      <td>57.853630</td>\n      <td>86.780445</td>\n      <td>1.0</td>\n      <td>0.666667</td>\n    </tr>\n    <tr>\n      <th>Aracena</th>\n      <td>523.0</td>\n      <td>6.0</td>\n      <td>9.0</td>\n      <td>8255.0</td>\n      <td>72.683222</td>\n      <td>109.024833</td>\n      <td>2.0</td>\n      <td>0.666667</td>\n    </tr>\n    <tr>\n      <th>Gibraleón</th>\n      <td>622.0</td>\n      <td>15.0</td>\n      <td>22.0</td>\n      <td>12737.0</td>\n      <td>117.767135</td>\n      <td>172.725132</td>\n      <td>1.0</td>\n      <td>0.681818</td>\n    </tr>\n    <tr>\n      <th>Lepe</th>\n      <td>2127.0</td>\n      <td>18.0</td>\n      <td>26.0</td>\n      <td>27880.0</td>\n      <td>64.562410</td>\n      <td>93.256815</td>\n      <td>0.0</td>\n      <td>0.692308</td>\n    </tr>\n    <tr>\n      <th>Niebla</th>\n      <td>232.0</td>\n      <td>18.0</td>\n      <td>25.0</td>\n      <td>4116.0</td>\n      <td>437.317784</td>\n      <td>607.385811</td>\n      <td>1.0</td>\n      <td>0.720000</td>\n    </tr>\n    <tr>\n      <th>Zalamea la Real</th>\n      <td>91.0</td>\n      <td>3.0</td>\n      <td>4.0</td>\n      <td>3054.0</td>\n      <td>98.231827</td>\n      <td>130.975769</td>\n      <td>1.0</td>\n      <td>0.750000</td>\n    </tr>\n    <tr>\n      <th>Cerro de Andévalo (El)</th>\n      <td>145.0</td>\n      <td>6.0</td>\n      <td>7.0</td>\n      <td>2327.0</td>\n      <td>257.842716</td>\n      <td>300.816502</td>\n      <td>0.0</td>\n      <td>0.857143</td>\n    </tr>\n    <tr>\n      <th>Villanueva de los Castillejos</th>\n      <td>159.0</td>\n      <td>2.0</td>\n      <td>2.0</td>\n      <td>2825.0</td>\n      <td>70.796460</td>\n      <td>70.796460</td>\n      <td>0.0</td>\n      <td>1.000000</td>\n    </tr>\n    <tr>\n      <th>Jabugo</th>\n      <td>64.0</td>\n      <td>1.0</td>\n      <td>1.0</td>\n      <td>2260.0</td>\n      <td>44.247788</td>\n      <td>44.247788</td>\n      <td>0.0</td>\n      <td>1.000000</td>\n    </tr>\n    <tr>\n      <th>Cortegana</th>\n      <td>202.0</td>\n      <td>2.0</td>\n      <td>2.0</td>\n      <td>4602.0</td>\n      <td>43.459365</td>\n      <td>43.459365</td>\n      <td>0.0</td>\n      <td>1.000000</td>\n    </tr>\n    <tr>\n      <th>Paymogo</th>\n      <td>75.0</td>\n      <td>1.0</td>\n      <td>1.0</td>\n      <td>1162.0</td>\n      <td>86.058520</td>\n      <td>86.058520</td>\n      <td>0.0</td>\n      <td>1.000000</td>\n    </tr>\n    <tr>\n      <th>Minas de Riotinto</th>\n      <td>119.0</td>\n      <td>2.0</td>\n      <td>2.0</td>\n      <td>3812.0</td>\n      <td>52.465897</td>\n      <td>52.465897</td>\n      <td>1.0</td>\n      <td>1.000000</td>\n    </tr>\n    <tr>\n      <th>Santa Bárbara de Casa</th>\n      <td>15.0</td>\n      <td>1.0</td>\n      <td>1.0</td>\n      <td>1043.0</td>\n      <td>95.877277</td>\n      <td>95.877277</td>\n      <td>0.0</td>\n      <td>1.000000</td>\n    </tr>\n    <tr>\n      <th>Granada de Río-Tinto (La)</th>\n      <td>3.0</td>\n      <td>1.0</td>\n      <td>1.0</td>\n      <td>243.0</td>\n      <td>411.522634</td>\n      <td>411.522634</td>\n      <td>0.0</td>\n      <td>1.000000</td>\n    </tr>\n  </tbody>\n</table>\n</div>"
     },
     "metadata": {},
     "execution_count": 18
    }
   ],
   "source": [
    "# Peso de la tasa de la última semana en relación con la tasa a 14 días \n",
    "# Mejor cuanto menor. Valor 1 significa que no había casos antes de 7 días.\n",
    "tabla['7/14'] = tabla['tasa7'] / tabla['tasa14']\n",
    "tabla.fillna(0).sort_values('7/14', ascending=True)"
   ]
  },
  {
   "cell_type": "code",
   "execution_count": null,
   "metadata": {},
   "outputs": [],
   "source": []
  }
 ]
}