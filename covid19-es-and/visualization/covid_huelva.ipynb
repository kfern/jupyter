{
 "metadata": {
  "language_info": {
   "codemirror_mode": {
    "name": "ipython",
    "version": 3
   },
   "file_extension": ".py",
   "mimetype": "text/x-python",
   "name": "python",
   "nbconvert_exporter": "python",
   "pygments_lexer": "ipython3",
   "version": "3.8.6"
  },
  "orig_nbformat": 2,
  "kernelspec": {
   "name": "python3",
   "display_name": "Python 3",
   "language": "python"
  }
 },
 "nbformat": 4,
 "nbformat_minor": 2,
 "cells": [
  {
   "cell_type": "code",
   "execution_count": 1,
   "metadata": {},
   "outputs": [],
   "source": [
    "import pandas as pd\n",
    "pd.set_option('display.max_rows', None) # Print all rows"
   ]
  },
  {
   "cell_type": "code",
   "execution_count": 2,
   "metadata": {},
   "outputs": [],
   "source": [
    "# FIX SSL: CERTIFICATE_VERIFY_FAILED with Python3\n",
    "# https://stackoverflow.com/a/49174340\n",
    "import ssl\n",
    "\n",
    "ssl._create_default_https_context = ssl._create_unverified_context"
   ]
  },
  {
   "cell_type": "code",
   "execution_count": 3,
   "metadata": {},
   "outputs": [],
   "source": [
    "url = 'https://www.juntadeandalucia.es/institutodeestadisticaycartografia/badea/stpivot/stpivot/Print?cube=013d884c-cfc5-4c21-9e78-e26225682afd&type=3&foto=si&ejecutaDesde=&codConsulta=38668&consTipoVisua=JP'\n",
    "fields = ['Lugar de residencia', 'Medida', 'Valor']\n",
    "df = pd.read_csv(url, delimiter=';', usecols=fields, decimal=',')"
   ]
  },
  {
   "cell_type": "code",
   "execution_count": 4,
   "metadata": {},
   "outputs": [
    {
     "output_type": "execute_result",
     "data": {
      "text/plain": [
       "  Lugar de residencia                    Medida               Valor\n",
       "0              Huelva                 Población              513170\n",
       "1              Huelva          Confirmados PDIA               28411\n",
       "2              Huelva  Confirmados PDIA 14 días                1143\n",
       "3              Huelva         Tasa PDIA 14 días  222,73320731921197\n",
       "4              Huelva   Confirmados PDIA 7 días                 485\n",
       "5              Huelva        Total Confirmados                28586\n",
       "6              Huelva                   Curados               24116\n",
       "7              Huelva                Fallecidos                 364"
      ],
      "text/html": "<div>\n<style scoped>\n    .dataframe tbody tr th:only-of-type {\n        vertical-align: middle;\n    }\n\n    .dataframe tbody tr th {\n        vertical-align: top;\n    }\n\n    .dataframe thead th {\n        text-align: right;\n    }\n</style>\n<table border=\"1\" class=\"dataframe\">\n  <thead>\n    <tr style=\"text-align: right;\">\n      <th></th>\n      <th>Lugar de residencia</th>\n      <th>Medida</th>\n      <th>Valor</th>\n    </tr>\n  </thead>\n  <tbody>\n    <tr>\n      <th>0</th>\n      <td>Huelva</td>\n      <td>Población</td>\n      <td>513170</td>\n    </tr>\n    <tr>\n      <th>1</th>\n      <td>Huelva</td>\n      <td>Confirmados PDIA</td>\n      <td>28411</td>\n    </tr>\n    <tr>\n      <th>2</th>\n      <td>Huelva</td>\n      <td>Confirmados PDIA 14 días</td>\n      <td>1143</td>\n    </tr>\n    <tr>\n      <th>3</th>\n      <td>Huelva</td>\n      <td>Tasa PDIA 14 días</td>\n      <td>222,73320731921197</td>\n    </tr>\n    <tr>\n      <th>4</th>\n      <td>Huelva</td>\n      <td>Confirmados PDIA 7 días</td>\n      <td>485</td>\n    </tr>\n    <tr>\n      <th>5</th>\n      <td>Huelva</td>\n      <td>Total Confirmados</td>\n      <td>28586</td>\n    </tr>\n    <tr>\n      <th>6</th>\n      <td>Huelva</td>\n      <td>Curados</td>\n      <td>24116</td>\n    </tr>\n    <tr>\n      <th>7</th>\n      <td>Huelva</td>\n      <td>Fallecidos</td>\n      <td>364</td>\n    </tr>\n  </tbody>\n</table>\n</div>"
     },
     "metadata": {},
     "execution_count": 4
    }
   ],
   "source": [
    "df[df['Lugar de residencia'] == 'Huelva']"
   ]
  },
  {
   "cell_type": "code",
   "execution_count": 5,
   "metadata": {},
   "outputs": [],
   "source": [
    "df['Valor'] = pd.to_numeric(df['Valor'],errors='coerce')"
   ]
  },
  {
   "cell_type": "code",
   "execution_count": 6,
   "metadata": {},
   "outputs": [],
   "source": [
    "dfAnterior = pd.read_csv('covid_huelva.csv', index_col='Lugar de residencia')"
   ]
  },
  {
   "cell_type": "code",
   "execution_count": 7,
   "metadata": {
    "tags": []
   },
   "outputs": [
    {
     "output_type": "stream",
     "name": "stdout",
     "text": [
      "Confirmados PCR en la provincia de Huelva:  28411.0\n",
      "<ipython-input-7-31b732756b19>:2: UserWarning: Boolean Series key will be reindexed to match DataFrame index.\n",
      "  p = df[df['Lugar de residencia'] == 'Huelva'][df['Medida'] == 'Confirmados PDIA']['Valor'].values[0]\n"
     ]
    }
   ],
   "source": [
    "# Confirmados PCR provincia Huelva\n",
    "p = df[df['Lugar de residencia'] == 'Huelva'][df['Medida'] == 'Confirmados PDIA']['Valor'].values[0]\n",
    "print('Confirmados PCR en la provincia de Huelva: ', p)"
   ]
  },
  {
   "cell_type": "code",
   "execution_count": 8,
   "metadata": {
    "tags": []
   },
   "outputs": [
    {
     "output_type": "stream",
     "name": "stdout",
     "text": [
      "Confirmados PCR en Huelva capital:  7369.0\n",
      "<ipython-input-8-e81bfb40e710>:2: UserWarning: Boolean Series key will be reindexed to match DataFrame index.\n",
      "  c = df[df['Lugar de residencia'] == 'Huelva (capital)'][df['Medida'] == 'Confirmados PDIA']['Valor'].values[0]\n"
     ]
    }
   ],
   "source": [
    "# Confirmados PCR Huelva capitalpd\n",
    "c = df[df['Lugar de residencia'] == 'Huelva (capital)'][df['Medida'] == 'Confirmados PDIA']['Valor'].values[0]\n",
    "print('Confirmados PCR en Huelva capital: ', c)"
   ]
  },
  {
   "cell_type": "code",
   "execution_count": 9,
   "metadata": {
    "tags": []
   },
   "outputs": [
    {
     "output_type": "stream",
     "name": "stderr",
     "text": [
      "<ipython-input-9-f09dd2050cc1>:1: UserWarning: Boolean Series key will be reindexed to match DataFrame index.\n  c7 = df[df['Lugar de residencia'] == 'Huelva (capital)'][df['Medida'] == 'Confirmados PDIA 7 días']['Valor'].values[0]\n<ipython-input-9-f09dd2050cc1>:2: UserWarning: Boolean Series key will be reindexed to match DataFrame index.\n  c14 = df[df['Lugar de residencia'] == 'Huelva (capital)'][df['Medida'] == 'Confirmados PDIA 14 días']['Valor'].values[0]\n<ipython-input-9-f09dd2050cc1>:3: UserWarning: Boolean Series key will be reindexed to match DataFrame index.\n  p = df[df['Lugar de residencia'] == 'Huelva (capital)'][df['Medida'] == 'Población']['Valor'].values[0]\n"
     ]
    }
   ],
   "source": [
    "c7 = df[df['Lugar de residencia'] == 'Huelva (capital)'][df['Medida'] == 'Confirmados PDIA 7 días']['Valor'].values[0]\n",
    "c14 = df[df['Lugar de residencia'] == 'Huelva (capital)'][df['Medida'] == 'Confirmados PDIA 14 días']['Valor'].values[0]\n",
    "p = df[df['Lugar de residencia'] == 'Huelva (capital)'][df['Medida'] == 'Población']['Valor'].values[0]"
   ]
  },
  {
   "cell_type": "code",
   "execution_count": 10,
   "metadata": {
    "tags": []
   },
   "outputs": [
    {
     "output_type": "stream",
     "name": "stdout",
     "text": [
      "Huelva (capital)\n\nUn positivo PCR cada 1169 personas en los últimos 7 días \n\nUn positivo PCR cada 547 personas en los últimos 14 días\n"
     ]
    }
   ],
   "source": [
    "print('Huelva (capital)\\n')\n",
    "#print('Confirmados PCR 7 días x 1,000 habitantes: ', f\"{c7/(p/1000):.5f}\")\n",
    "print('Un positivo PCR cada', f\"{p/c7:.0f}\", 'personas en los últimos 7 días', '\\n')\n",
    "#print('Confirmados PCR 14 días x 1,000 habitantes: ', f\"{c14/(p/1000):.5f}\")\n",
    "print('Un positivo PCR cada', f\"{p/c14:.0f}\", 'personas en los últimos 14 días')"
   ]
  },
  {
   "cell_type": "code",
   "execution_count": 11,
   "metadata": {},
   "outputs": [],
   "source": [
    "filtro = ((df['Medida'] == 'Confirmados PDIA')| (df['Medida'] == 'Confirmados PDIA 7 días') | (df['Medida'] == 'Población' ) | (df['Medida'] == 'Confirmados PDIA 14 días')) & (df['Valor'] > 0)\n",
    "tabla = pd.pivot_table(df.loc[filtro], values='Valor', index='Lugar de residencia', columns='Medida').dropna()"
   ]
  },
  {
   "cell_type": "code",
   "execution_count": 12,
   "metadata": {},
   "outputs": [],
   "source": [
    "# Reorder columns\n",
    "tabla = tabla[['Confirmados PDIA', 'Confirmados PDIA 7 días', 'Confirmados PDIA 14 días', 'Población']]"
   ]
  },
  {
   "cell_type": "code",
   "execution_count": 13,
   "metadata": {},
   "outputs": [],
   "source": [
    "tabla['tasa7'] = tabla['Confirmados PDIA 7 días']/tabla['Población']*100000\n",
    "tabla['tasa14'] = tabla['Confirmados PDIA 14 días']/tabla['Población']*100000"
   ]
  },
  {
   "cell_type": "code",
   "execution_count": 14,
   "metadata": {},
   "outputs": [],
   "source": [
    "tabla['Diferencia PDIA'] = tabla['Confirmados PDIA'] - dfAnterior['Confirmados PDIA']"
   ]
  },
  {
   "cell_type": "code",
   "execution_count": 15,
   "metadata": {},
   "outputs": [
    {
     "output_type": "execute_result",
     "data": {
      "text/plain": [
       "Medida                             Confirmados PDIA  Confirmados PDIA 7 días  \\\n",
       "Lugar de residencia                                                            \n",
       "Huelva                                      28411.0                    485.0   \n",
       "Huelva-Costa                                16585.0                    201.0   \n",
       "Condado-Campiña                              8917.0                    239.0   \n",
       "Huelva (capital)                             7369.0                    123.0   \n",
       "Lucena del Puerto                             230.0                     30.0   \n",
       "Sierra de Huelva-Andévalo Central            2535.0                     39.0   \n",
       "Rociana del Condado                           507.0                     12.0   \n",
       "Almonte                                      1493.0                     71.0   \n",
       "Ayamonte                                     1277.0                     12.0   \n",
       "Moguer                                       1091.0                     32.0   \n",
       "Beas                                          197.0                     14.0   \n",
       "Isla Cristina                                2057.0                     18.0   \n",
       "Lepe                                         2078.0                      9.0   \n",
       "Palos de la Frontera                          577.0                      9.0   \n",
       "Bollullos Par del Condado                     801.0                     28.0   \n",
       "Encinasola                                    118.0                      1.0   \n",
       "Cortegana                                     199.0                      5.0   \n",
       "Cartaya                                      1261.0                     20.0   \n",
       "Bonares                                       253.0                     13.0   \n",
       "Punta Umbría                                  709.0                     14.0   \n",
       "San Juan del Puerto                           445.0                     13.0   \n",
       "Trigueros                                     267.0                      9.0   \n",
       "Valverde del Camino                           472.0                      9.0   \n",
       "Cañaveral de León                               4.0                      1.0   \n",
       "\n",
       "Medida                             Confirmados PDIA 14 días  Población  \\\n",
       "Lugar de residencia                                                      \n",
       "Huelva                                               1143.0   513170.0   \n",
       "Huelva-Costa                                          428.0   289548.0   \n",
       "Condado-Campiña                                       593.0   156231.0   \n",
       "Huelva (capital)                                      263.0   143837.0   \n",
       "Lucena del Puerto                                      42.0     3261.0   \n",
       "Sierra de Huelva-Andévalo Central                     105.0    67391.0   \n",
       "Rociana del Condado                                    46.0     7939.0   \n",
       "Almonte                                               181.0    24507.0   \n",
       "Ayamonte                                               14.0    21104.0   \n",
       "Moguer                                                 81.0    21867.0   \n",
       "Beas                                                   24.0     4341.0   \n",
       "Isla Cristina                                          31.0    21393.0   \n",
       "Lepe                                                   18.0    27880.0   \n",
       "Palos de la Frontera                                   19.0    11742.0   \n",
       "Bollullos Par del Condado                              68.0    14387.0   \n",
       "Encinasola                                              1.0     1310.0   \n",
       "Cortegana                                               7.0     4602.0   \n",
       "Cartaya                                                58.0    20083.0   \n",
       "Bonares                                                29.0     6060.0   \n",
       "Punta Umbría                                           25.0    15355.0   \n",
       "San Juan del Puerto                                    35.0     9411.0   \n",
       "Trigueros                                              14.0     7862.0   \n",
       "Valverde del Camino                                    20.0    12750.0   \n",
       "Cañaveral de León                                       1.0      396.0   \n",
       "\n",
       "Medida                                  tasa7       tasa14  Diferencia PDIA  \n",
       "Lugar de residencia                                                          \n",
       "Huelva                              94.510591   222.733207             44.0  \n",
       "Huelva-Costa                        69.418542   147.816597             29.0  \n",
       "Condado-Campiña                    152.978602   379.566155             27.0  \n",
       "Huelva (capital)                    85.513463   182.845860             20.0  \n",
       "Lucena del Puerto                  919.963201  1287.948482              6.0  \n",
       "Sierra de Huelva-Andévalo Central   57.871229   155.807155              4.0  \n",
       "Rociana del Condado                151.152538   579.418063              4.0  \n",
       "Almonte                            289.713143   738.564492              4.0  \n",
       "Ayamonte                            56.861259    66.338135              3.0  \n",
       "Moguer                             146.339233   370.421183              3.0  \n",
       "Beas                               322.506335   552.868003              3.0  \n",
       "Isla Cristina                       84.139672   144.907213              2.0  \n",
       "Lepe                                32.281205    64.562410              2.0  \n",
       "Palos de la Frontera                76.647931   161.812298              2.0  \n",
       "Bollullos Par del Condado          194.620143   472.648919              2.0  \n",
       "Encinasola                          76.335878    76.335878              1.0  \n",
       "Cortegana                          108.648414   152.107779              1.0  \n",
       "Cartaya                             99.586715   288.801474              1.0  \n",
       "Bonares                            214.521452   478.547855              1.0  \n",
       "Punta Umbría                        91.175513   162.813416              1.0  \n",
       "San Juan del Puerto                138.136224   371.905217              1.0  \n",
       "Trigueros                          114.474688   178.071737              1.0  \n",
       "Valverde del Camino                 70.588235   156.862745              1.0  \n",
       "Cañaveral de León                  252.525253   252.525253              NaN  "
      ],
      "text/html": "<div>\n<style scoped>\n    .dataframe tbody tr th:only-of-type {\n        vertical-align: middle;\n    }\n\n    .dataframe tbody tr th {\n        vertical-align: top;\n    }\n\n    .dataframe thead th {\n        text-align: right;\n    }\n</style>\n<table border=\"1\" class=\"dataframe\">\n  <thead>\n    <tr style=\"text-align: right;\">\n      <th>Medida</th>\n      <th>Confirmados PDIA</th>\n      <th>Confirmados PDIA 7 días</th>\n      <th>Confirmados PDIA 14 días</th>\n      <th>Población</th>\n      <th>tasa7</th>\n      <th>tasa14</th>\n      <th>Diferencia PDIA</th>\n    </tr>\n    <tr>\n      <th>Lugar de residencia</th>\n      <th></th>\n      <th></th>\n      <th></th>\n      <th></th>\n      <th></th>\n      <th></th>\n      <th></th>\n    </tr>\n  </thead>\n  <tbody>\n    <tr>\n      <th>Huelva</th>\n      <td>28411.0</td>\n      <td>485.0</td>\n      <td>1143.0</td>\n      <td>513170.0</td>\n      <td>94.510591</td>\n      <td>222.733207</td>\n      <td>44.0</td>\n    </tr>\n    <tr>\n      <th>Huelva-Costa</th>\n      <td>16585.0</td>\n      <td>201.0</td>\n      <td>428.0</td>\n      <td>289548.0</td>\n      <td>69.418542</td>\n      <td>147.816597</td>\n      <td>29.0</td>\n    </tr>\n    <tr>\n      <th>Condado-Campiña</th>\n      <td>8917.0</td>\n      <td>239.0</td>\n      <td>593.0</td>\n      <td>156231.0</td>\n      <td>152.978602</td>\n      <td>379.566155</td>\n      <td>27.0</td>\n    </tr>\n    <tr>\n      <th>Huelva (capital)</th>\n      <td>7369.0</td>\n      <td>123.0</td>\n      <td>263.0</td>\n      <td>143837.0</td>\n      <td>85.513463</td>\n      <td>182.845860</td>\n      <td>20.0</td>\n    </tr>\n    <tr>\n      <th>Lucena del Puerto</th>\n      <td>230.0</td>\n      <td>30.0</td>\n      <td>42.0</td>\n      <td>3261.0</td>\n      <td>919.963201</td>\n      <td>1287.948482</td>\n      <td>6.0</td>\n    </tr>\n    <tr>\n      <th>Sierra de Huelva-Andévalo Central</th>\n      <td>2535.0</td>\n      <td>39.0</td>\n      <td>105.0</td>\n      <td>67391.0</td>\n      <td>57.871229</td>\n      <td>155.807155</td>\n      <td>4.0</td>\n    </tr>\n    <tr>\n      <th>Rociana del Condado</th>\n      <td>507.0</td>\n      <td>12.0</td>\n      <td>46.0</td>\n      <td>7939.0</td>\n      <td>151.152538</td>\n      <td>579.418063</td>\n      <td>4.0</td>\n    </tr>\n    <tr>\n      <th>Almonte</th>\n      <td>1493.0</td>\n      <td>71.0</td>\n      <td>181.0</td>\n      <td>24507.0</td>\n      <td>289.713143</td>\n      <td>738.564492</td>\n      <td>4.0</td>\n    </tr>\n    <tr>\n      <th>Ayamonte</th>\n      <td>1277.0</td>\n      <td>12.0</td>\n      <td>14.0</td>\n      <td>21104.0</td>\n      <td>56.861259</td>\n      <td>66.338135</td>\n      <td>3.0</td>\n    </tr>\n    <tr>\n      <th>Moguer</th>\n      <td>1091.0</td>\n      <td>32.0</td>\n      <td>81.0</td>\n      <td>21867.0</td>\n      <td>146.339233</td>\n      <td>370.421183</td>\n      <td>3.0</td>\n    </tr>\n    <tr>\n      <th>Beas</th>\n      <td>197.0</td>\n      <td>14.0</td>\n      <td>24.0</td>\n      <td>4341.0</td>\n      <td>322.506335</td>\n      <td>552.868003</td>\n      <td>3.0</td>\n    </tr>\n    <tr>\n      <th>Isla Cristina</th>\n      <td>2057.0</td>\n      <td>18.0</td>\n      <td>31.0</td>\n      <td>21393.0</td>\n      <td>84.139672</td>\n      <td>144.907213</td>\n      <td>2.0</td>\n    </tr>\n    <tr>\n      <th>Lepe</th>\n      <td>2078.0</td>\n      <td>9.0</td>\n      <td>18.0</td>\n      <td>27880.0</td>\n      <td>32.281205</td>\n      <td>64.562410</td>\n      <td>2.0</td>\n    </tr>\n    <tr>\n      <th>Palos de la Frontera</th>\n      <td>577.0</td>\n      <td>9.0</td>\n      <td>19.0</td>\n      <td>11742.0</td>\n      <td>76.647931</td>\n      <td>161.812298</td>\n      <td>2.0</td>\n    </tr>\n    <tr>\n      <th>Bollullos Par del Condado</th>\n      <td>801.0</td>\n      <td>28.0</td>\n      <td>68.0</td>\n      <td>14387.0</td>\n      <td>194.620143</td>\n      <td>472.648919</td>\n      <td>2.0</td>\n    </tr>\n    <tr>\n      <th>Encinasola</th>\n      <td>118.0</td>\n      <td>1.0</td>\n      <td>1.0</td>\n      <td>1310.0</td>\n      <td>76.335878</td>\n      <td>76.335878</td>\n      <td>1.0</td>\n    </tr>\n    <tr>\n      <th>Cortegana</th>\n      <td>199.0</td>\n      <td>5.0</td>\n      <td>7.0</td>\n      <td>4602.0</td>\n      <td>108.648414</td>\n      <td>152.107779</td>\n      <td>1.0</td>\n    </tr>\n    <tr>\n      <th>Cartaya</th>\n      <td>1261.0</td>\n      <td>20.0</td>\n      <td>58.0</td>\n      <td>20083.0</td>\n      <td>99.586715</td>\n      <td>288.801474</td>\n      <td>1.0</td>\n    </tr>\n    <tr>\n      <th>Bonares</th>\n      <td>253.0</td>\n      <td>13.0</td>\n      <td>29.0</td>\n      <td>6060.0</td>\n      <td>214.521452</td>\n      <td>478.547855</td>\n      <td>1.0</td>\n    </tr>\n    <tr>\n      <th>Punta Umbría</th>\n      <td>709.0</td>\n      <td>14.0</td>\n      <td>25.0</td>\n      <td>15355.0</td>\n      <td>91.175513</td>\n      <td>162.813416</td>\n      <td>1.0</td>\n    </tr>\n    <tr>\n      <th>San Juan del Puerto</th>\n      <td>445.0</td>\n      <td>13.0</td>\n      <td>35.0</td>\n      <td>9411.0</td>\n      <td>138.136224</td>\n      <td>371.905217</td>\n      <td>1.0</td>\n    </tr>\n    <tr>\n      <th>Trigueros</th>\n      <td>267.0</td>\n      <td>9.0</td>\n      <td>14.0</td>\n      <td>7862.0</td>\n      <td>114.474688</td>\n      <td>178.071737</td>\n      <td>1.0</td>\n    </tr>\n    <tr>\n      <th>Valverde del Camino</th>\n      <td>472.0</td>\n      <td>9.0</td>\n      <td>20.0</td>\n      <td>12750.0</td>\n      <td>70.588235</td>\n      <td>156.862745</td>\n      <td>1.0</td>\n    </tr>\n    <tr>\n      <th>Cañaveral de León</th>\n      <td>4.0</td>\n      <td>1.0</td>\n      <td>1.0</td>\n      <td>396.0</td>\n      <td>252.525253</td>\n      <td>252.525253</td>\n      <td>NaN</td>\n    </tr>\n  </tbody>\n</table>\n</div>"
     },
     "metadata": {},
     "execution_count": 15
    }
   ],
   "source": [
    "# Nuevos casos desde la última captura\n",
    "tabla[tabla['Diferencia PDIA'] != 0].sort_values('Diferencia PDIA', ascending=False)"
   ]
  },
  {
   "cell_type": "code",
   "execution_count": 16,
   "metadata": {},
   "outputs": [],
   "source": [
    "if tabla[tabla['Diferencia PDIA'] != 0]['Diferencia PDIA'].sum() != 0:\n",
    "  # Save to csv\n",
    "  tabla.to_csv('covid_huelva.csv', encoding='utf-8', header=True, index=True)  "
   ]
  },
  {
   "cell_type": "code",
   "execution_count": 17,
   "metadata": {},
   "outputs": [
    {
     "output_type": "execute_result",
     "data": {
      "text/plain": [
       "Medida                             Confirmados PDIA  Confirmados PDIA 7 días  \\\n",
       "Lugar de residencia                                                            \n",
       "Cumbres Mayores                                49.0                      5.0   \n",
       "Cumbres de San Bartolomé                       10.0                      2.0   \n",
       "Lucena del Puerto                             230.0                     30.0   \n",
       "Cortelazor                                      7.0                      2.0   \n",
       "Galaroza                                       27.0                      3.0   \n",
       "Almonte                                      1493.0                     71.0   \n",
       "Rociana del Condado                           507.0                     12.0   \n",
       "Beas                                          197.0                     14.0   \n",
       "Bonares                                       253.0                     13.0   \n",
       "Bollullos Par del Condado                     801.0                     28.0   \n",
       "Fuenteheridos                                   8.0                      2.0   \n",
       "Almonaster la Real                             65.0                      2.0   \n",
       "Condado-Campiña                              8917.0                    239.0   \n",
       "San Juan del Puerto                           445.0                     13.0   \n",
       "Moguer                                       1091.0                     32.0   \n",
       "Cartaya                                      1261.0                     20.0   \n",
       "Cañaveral de León                               4.0                      1.0   \n",
       "Huelva                                      28411.0                    485.0   \n",
       "Huelva (capital)                             7369.0                    123.0   \n",
       "Trigueros                                     267.0                      9.0   \n",
       "San Silvestre de Guzmán                        15.0                      1.0   \n",
       "Punta Umbría                                  709.0                     14.0   \n",
       "Palos de la Frontera                          577.0                      9.0   \n",
       "Palma del Condado (La)                       1030.0                      2.0   \n",
       "Gibraleón                                     582.0                      5.0   \n",
       "Valverde del Camino                           472.0                      9.0   \n",
       "Sierra de Huelva-Andévalo Central            2535.0                     39.0   \n",
       "Cortegana                                     199.0                      5.0   \n",
       "Huelva-Costa                                16585.0                    201.0   \n",
       "Niebla                                        193.0                      1.0   \n",
       "Isla Cristina                                2057.0                     18.0   \n",
       "Minas de Riotinto                             111.0                      2.0   \n",
       "Aracena                                       507.0                      2.0   \n",
       "Rosal de la Frontera                           27.0                      2.0   \n",
       "Aroche                                         90.0                      1.0   \n",
       "Encinasola                                    118.0                      1.0   \n",
       "Ayamonte                                     1277.0                     12.0   \n",
       "Lepe                                         2078.0                      9.0   \n",
       "Aljaraque                                     992.0                      2.0   \n",
       "Villablanca                                   179.0                      1.0   \n",
       "Alosno                                        162.0                      1.0   \n",
       "\n",
       "Medida                             Confirmados PDIA 14 días  Población  \\\n",
       "Lugar de residencia                                                      \n",
       "Cumbres Mayores                                        24.0     1749.0   \n",
       "Cumbres de San Bartolomé                                5.0      376.0   \n",
       "Lucena del Puerto                                      42.0     3261.0   \n",
       "Cortelazor                                              3.0      299.0   \n",
       "Galaroza                                               11.0     1382.0   \n",
       "Almonte                                               181.0    24507.0   \n",
       "Rociana del Condado                                    46.0     7939.0   \n",
       "Beas                                                   24.0     4341.0   \n",
       "Bonares                                                29.0     6060.0   \n",
       "Bollullos Par del Condado                              68.0    14387.0   \n",
       "Fuenteheridos                                           3.0      709.0   \n",
       "Almonaster la Real                                      7.0     1788.0   \n",
       "Condado-Campiña                                       593.0   156231.0   \n",
       "San Juan del Puerto                                    35.0     9411.0   \n",
       "Moguer                                                 81.0    21867.0   \n",
       "Cartaya                                                58.0    20083.0   \n",
       "Cañaveral de León                                       1.0      396.0   \n",
       "Huelva                                               1143.0   513170.0   \n",
       "Huelva (capital)                                      263.0   143837.0   \n",
       "Trigueros                                              14.0     7862.0   \n",
       "San Silvestre de Guzmán                                 1.0      614.0   \n",
       "Punta Umbría                                           25.0    15355.0   \n",
       "Palos de la Frontera                                   19.0    11742.0   \n",
       "Palma del Condado (La)                                 17.0    10801.0   \n",
       "Gibraleón                                              20.0    12737.0   \n",
       "Valverde del Camino                                    20.0    12750.0   \n",
       "Sierra de Huelva-Andévalo Central                     105.0    67391.0   \n",
       "Cortegana                                               7.0     4602.0   \n",
       "Huelva-Costa                                          428.0   289548.0   \n",
       "Niebla                                                  6.0     4116.0   \n",
       "Isla Cristina                                          31.0    21393.0   \n",
       "Minas de Riotinto                                       5.0     3812.0   \n",
       "Aracena                                                10.0     8255.0   \n",
       "Rosal de la Frontera                                    2.0     1697.0   \n",
       "Aroche                                                  3.0     3054.0   \n",
       "Encinasola                                              1.0     1310.0   \n",
       "Ayamonte                                               14.0    21104.0   \n",
       "Lepe                                                   18.0    27880.0   \n",
       "Aljaraque                                              13.0    21474.0   \n",
       "Villablanca                                             1.0     2885.0   \n",
       "Alosno                                                  1.0     3933.0   \n",
       "\n",
       "Medida                                  tasa7       tasa14  Diferencia PDIA  \n",
       "Lugar de residencia                                                          \n",
       "Cumbres Mayores                    285.877644  1372.212693              0.0  \n",
       "Cumbres de San Bartolomé           531.914894  1329.787234              0.0  \n",
       "Lucena del Puerto                  919.963201  1287.948482              6.0  \n",
       "Cortelazor                         668.896321  1003.344482              0.0  \n",
       "Galaroza                           217.076700   795.947902              0.0  \n",
       "Almonte                            289.713143   738.564492              4.0  \n",
       "Rociana del Condado                151.152538   579.418063              4.0  \n",
       "Beas                               322.506335   552.868003              3.0  \n",
       "Bonares                            214.521452   478.547855              1.0  \n",
       "Bollullos Par del Condado          194.620143   472.648919              2.0  \n",
       "Fuenteheridos                      282.087447   423.131171              0.0  \n",
       "Almonaster la Real                 111.856823   391.498881              0.0  \n",
       "Condado-Campiña                    152.978602   379.566155             27.0  \n",
       "San Juan del Puerto                138.136224   371.905217              1.0  \n",
       "Moguer                             146.339233   370.421183              3.0  \n",
       "Cartaya                             99.586715   288.801474              1.0  \n",
       "Cañaveral de León                  252.525253   252.525253              NaN  \n",
       "Huelva                              94.510591   222.733207             44.0  \n",
       "Huelva (capital)                    85.513463   182.845860             20.0  \n",
       "Trigueros                          114.474688   178.071737              1.0  \n",
       "San Silvestre de Guzmán            162.866450   162.866450              0.0  \n",
       "Punta Umbría                        91.175513   162.813416              1.0  \n",
       "Palos de la Frontera                76.647931   161.812298              2.0  \n",
       "Palma del Condado (La)              18.516804   157.392834              0.0  \n",
       "Gibraleón                           39.255712   157.022847              0.0  \n",
       "Valverde del Camino                 70.588235   156.862745              1.0  \n",
       "Sierra de Huelva-Andévalo Central   57.871229   155.807155              4.0  \n",
       "Cortegana                          108.648414   152.107779              1.0  \n",
       "Huelva-Costa                        69.418542   147.816597             29.0  \n",
       "Niebla                              24.295432   145.772595              0.0  \n",
       "Isla Cristina                       84.139672   144.907213              2.0  \n",
       "Minas de Riotinto                   52.465897   131.164743              0.0  \n",
       "Aracena                             24.227741   121.138704              0.0  \n",
       "Rosal de la Frontera               117.855038   117.855038              0.0  \n",
       "Aroche                              32.743942    98.231827              0.0  \n",
       "Encinasola                          76.335878    76.335878              1.0  \n",
       "Ayamonte                            56.861259    66.338135              3.0  \n",
       "Lepe                                32.281205    64.562410              2.0  \n",
       "Aljaraque                            9.313589    60.538325              0.0  \n",
       "Villablanca                         34.662045    34.662045              0.0  \n",
       "Alosno                              25.425884    25.425884              0.0  "
      ],
      "text/html": "<div>\n<style scoped>\n    .dataframe tbody tr th:only-of-type {\n        vertical-align: middle;\n    }\n\n    .dataframe tbody tr th {\n        vertical-align: top;\n    }\n\n    .dataframe thead th {\n        text-align: right;\n    }\n</style>\n<table border=\"1\" class=\"dataframe\">\n  <thead>\n    <tr style=\"text-align: right;\">\n      <th>Medida</th>\n      <th>Confirmados PDIA</th>\n      <th>Confirmados PDIA 7 días</th>\n      <th>Confirmados PDIA 14 días</th>\n      <th>Población</th>\n      <th>tasa7</th>\n      <th>tasa14</th>\n      <th>Diferencia PDIA</th>\n    </tr>\n    <tr>\n      <th>Lugar de residencia</th>\n      <th></th>\n      <th></th>\n      <th></th>\n      <th></th>\n      <th></th>\n      <th></th>\n      <th></th>\n    </tr>\n  </thead>\n  <tbody>\n    <tr>\n      <th>Cumbres Mayores</th>\n      <td>49.0</td>\n      <td>5.0</td>\n      <td>24.0</td>\n      <td>1749.0</td>\n      <td>285.877644</td>\n      <td>1372.212693</td>\n      <td>0.0</td>\n    </tr>\n    <tr>\n      <th>Cumbres de San Bartolomé</th>\n      <td>10.0</td>\n      <td>2.0</td>\n      <td>5.0</td>\n      <td>376.0</td>\n      <td>531.914894</td>\n      <td>1329.787234</td>\n      <td>0.0</td>\n    </tr>\n    <tr>\n      <th>Lucena del Puerto</th>\n      <td>230.0</td>\n      <td>30.0</td>\n      <td>42.0</td>\n      <td>3261.0</td>\n      <td>919.963201</td>\n      <td>1287.948482</td>\n      <td>6.0</td>\n    </tr>\n    <tr>\n      <th>Cortelazor</th>\n      <td>7.0</td>\n      <td>2.0</td>\n      <td>3.0</td>\n      <td>299.0</td>\n      <td>668.896321</td>\n      <td>1003.344482</td>\n      <td>0.0</td>\n    </tr>\n    <tr>\n      <th>Galaroza</th>\n      <td>27.0</td>\n      <td>3.0</td>\n      <td>11.0</td>\n      <td>1382.0</td>\n      <td>217.076700</td>\n      <td>795.947902</td>\n      <td>0.0</td>\n    </tr>\n    <tr>\n      <th>Almonte</th>\n      <td>1493.0</td>\n      <td>71.0</td>\n      <td>181.0</td>\n      <td>24507.0</td>\n      <td>289.713143</td>\n      <td>738.564492</td>\n      <td>4.0</td>\n    </tr>\n    <tr>\n      <th>Rociana del Condado</th>\n      <td>507.0</td>\n      <td>12.0</td>\n      <td>46.0</td>\n      <td>7939.0</td>\n      <td>151.152538</td>\n      <td>579.418063</td>\n      <td>4.0</td>\n    </tr>\n    <tr>\n      <th>Beas</th>\n      <td>197.0</td>\n      <td>14.0</td>\n      <td>24.0</td>\n      <td>4341.0</td>\n      <td>322.506335</td>\n      <td>552.868003</td>\n      <td>3.0</td>\n    </tr>\n    <tr>\n      <th>Bonares</th>\n      <td>253.0</td>\n      <td>13.0</td>\n      <td>29.0</td>\n      <td>6060.0</td>\n      <td>214.521452</td>\n      <td>478.547855</td>\n      <td>1.0</td>\n    </tr>\n    <tr>\n      <th>Bollullos Par del Condado</th>\n      <td>801.0</td>\n      <td>28.0</td>\n      <td>68.0</td>\n      <td>14387.0</td>\n      <td>194.620143</td>\n      <td>472.648919</td>\n      <td>2.0</td>\n    </tr>\n    <tr>\n      <th>Fuenteheridos</th>\n      <td>8.0</td>\n      <td>2.0</td>\n      <td>3.0</td>\n      <td>709.0</td>\n      <td>282.087447</td>\n      <td>423.131171</td>\n      <td>0.0</td>\n    </tr>\n    <tr>\n      <th>Almonaster la Real</th>\n      <td>65.0</td>\n      <td>2.0</td>\n      <td>7.0</td>\n      <td>1788.0</td>\n      <td>111.856823</td>\n      <td>391.498881</td>\n      <td>0.0</td>\n    </tr>\n    <tr>\n      <th>Condado-Campiña</th>\n      <td>8917.0</td>\n      <td>239.0</td>\n      <td>593.0</td>\n      <td>156231.0</td>\n      <td>152.978602</td>\n      <td>379.566155</td>\n      <td>27.0</td>\n    </tr>\n    <tr>\n      <th>San Juan del Puerto</th>\n      <td>445.0</td>\n      <td>13.0</td>\n      <td>35.0</td>\n      <td>9411.0</td>\n      <td>138.136224</td>\n      <td>371.905217</td>\n      <td>1.0</td>\n    </tr>\n    <tr>\n      <th>Moguer</th>\n      <td>1091.0</td>\n      <td>32.0</td>\n      <td>81.0</td>\n      <td>21867.0</td>\n      <td>146.339233</td>\n      <td>370.421183</td>\n      <td>3.0</td>\n    </tr>\n    <tr>\n      <th>Cartaya</th>\n      <td>1261.0</td>\n      <td>20.0</td>\n      <td>58.0</td>\n      <td>20083.0</td>\n      <td>99.586715</td>\n      <td>288.801474</td>\n      <td>1.0</td>\n    </tr>\n    <tr>\n      <th>Cañaveral de León</th>\n      <td>4.0</td>\n      <td>1.0</td>\n      <td>1.0</td>\n      <td>396.0</td>\n      <td>252.525253</td>\n      <td>252.525253</td>\n      <td>NaN</td>\n    </tr>\n    <tr>\n      <th>Huelva</th>\n      <td>28411.0</td>\n      <td>485.0</td>\n      <td>1143.0</td>\n      <td>513170.0</td>\n      <td>94.510591</td>\n      <td>222.733207</td>\n      <td>44.0</td>\n    </tr>\n    <tr>\n      <th>Huelva (capital)</th>\n      <td>7369.0</td>\n      <td>123.0</td>\n      <td>263.0</td>\n      <td>143837.0</td>\n      <td>85.513463</td>\n      <td>182.845860</td>\n      <td>20.0</td>\n    </tr>\n    <tr>\n      <th>Trigueros</th>\n      <td>267.0</td>\n      <td>9.0</td>\n      <td>14.0</td>\n      <td>7862.0</td>\n      <td>114.474688</td>\n      <td>178.071737</td>\n      <td>1.0</td>\n    </tr>\n    <tr>\n      <th>San Silvestre de Guzmán</th>\n      <td>15.0</td>\n      <td>1.0</td>\n      <td>1.0</td>\n      <td>614.0</td>\n      <td>162.866450</td>\n      <td>162.866450</td>\n      <td>0.0</td>\n    </tr>\n    <tr>\n      <th>Punta Umbría</th>\n      <td>709.0</td>\n      <td>14.0</td>\n      <td>25.0</td>\n      <td>15355.0</td>\n      <td>91.175513</td>\n      <td>162.813416</td>\n      <td>1.0</td>\n    </tr>\n    <tr>\n      <th>Palos de la Frontera</th>\n      <td>577.0</td>\n      <td>9.0</td>\n      <td>19.0</td>\n      <td>11742.0</td>\n      <td>76.647931</td>\n      <td>161.812298</td>\n      <td>2.0</td>\n    </tr>\n    <tr>\n      <th>Palma del Condado (La)</th>\n      <td>1030.0</td>\n      <td>2.0</td>\n      <td>17.0</td>\n      <td>10801.0</td>\n      <td>18.516804</td>\n      <td>157.392834</td>\n      <td>0.0</td>\n    </tr>\n    <tr>\n      <th>Gibraleón</th>\n      <td>582.0</td>\n      <td>5.0</td>\n      <td>20.0</td>\n      <td>12737.0</td>\n      <td>39.255712</td>\n      <td>157.022847</td>\n      <td>0.0</td>\n    </tr>\n    <tr>\n      <th>Valverde del Camino</th>\n      <td>472.0</td>\n      <td>9.0</td>\n      <td>20.0</td>\n      <td>12750.0</td>\n      <td>70.588235</td>\n      <td>156.862745</td>\n      <td>1.0</td>\n    </tr>\n    <tr>\n      <th>Sierra de Huelva-Andévalo Central</th>\n      <td>2535.0</td>\n      <td>39.0</td>\n      <td>105.0</td>\n      <td>67391.0</td>\n      <td>57.871229</td>\n      <td>155.807155</td>\n      <td>4.0</td>\n    </tr>\n    <tr>\n      <th>Cortegana</th>\n      <td>199.0</td>\n      <td>5.0</td>\n      <td>7.0</td>\n      <td>4602.0</td>\n      <td>108.648414</td>\n      <td>152.107779</td>\n      <td>1.0</td>\n    </tr>\n    <tr>\n      <th>Huelva-Costa</th>\n      <td>16585.0</td>\n      <td>201.0</td>\n      <td>428.0</td>\n      <td>289548.0</td>\n      <td>69.418542</td>\n      <td>147.816597</td>\n      <td>29.0</td>\n    </tr>\n    <tr>\n      <th>Niebla</th>\n      <td>193.0</td>\n      <td>1.0</td>\n      <td>6.0</td>\n      <td>4116.0</td>\n      <td>24.295432</td>\n      <td>145.772595</td>\n      <td>0.0</td>\n    </tr>\n    <tr>\n      <th>Isla Cristina</th>\n      <td>2057.0</td>\n      <td>18.0</td>\n      <td>31.0</td>\n      <td>21393.0</td>\n      <td>84.139672</td>\n      <td>144.907213</td>\n      <td>2.0</td>\n    </tr>\n    <tr>\n      <th>Minas de Riotinto</th>\n      <td>111.0</td>\n      <td>2.0</td>\n      <td>5.0</td>\n      <td>3812.0</td>\n      <td>52.465897</td>\n      <td>131.164743</td>\n      <td>0.0</td>\n    </tr>\n    <tr>\n      <th>Aracena</th>\n      <td>507.0</td>\n      <td>2.0</td>\n      <td>10.0</td>\n      <td>8255.0</td>\n      <td>24.227741</td>\n      <td>121.138704</td>\n      <td>0.0</td>\n    </tr>\n    <tr>\n      <th>Rosal de la Frontera</th>\n      <td>27.0</td>\n      <td>2.0</td>\n      <td>2.0</td>\n      <td>1697.0</td>\n      <td>117.855038</td>\n      <td>117.855038</td>\n      <td>0.0</td>\n    </tr>\n    <tr>\n      <th>Aroche</th>\n      <td>90.0</td>\n      <td>1.0</td>\n      <td>3.0</td>\n      <td>3054.0</td>\n      <td>32.743942</td>\n      <td>98.231827</td>\n      <td>0.0</td>\n    </tr>\n    <tr>\n      <th>Encinasola</th>\n      <td>118.0</td>\n      <td>1.0</td>\n      <td>1.0</td>\n      <td>1310.0</td>\n      <td>76.335878</td>\n      <td>76.335878</td>\n      <td>1.0</td>\n    </tr>\n    <tr>\n      <th>Ayamonte</th>\n      <td>1277.0</td>\n      <td>12.0</td>\n      <td>14.0</td>\n      <td>21104.0</td>\n      <td>56.861259</td>\n      <td>66.338135</td>\n      <td>3.0</td>\n    </tr>\n    <tr>\n      <th>Lepe</th>\n      <td>2078.0</td>\n      <td>9.0</td>\n      <td>18.0</td>\n      <td>27880.0</td>\n      <td>32.281205</td>\n      <td>64.562410</td>\n      <td>2.0</td>\n    </tr>\n    <tr>\n      <th>Aljaraque</th>\n      <td>992.0</td>\n      <td>2.0</td>\n      <td>13.0</td>\n      <td>21474.0</td>\n      <td>9.313589</td>\n      <td>60.538325</td>\n      <td>0.0</td>\n    </tr>\n    <tr>\n      <th>Villablanca</th>\n      <td>179.0</td>\n      <td>1.0</td>\n      <td>1.0</td>\n      <td>2885.0</td>\n      <td>34.662045</td>\n      <td>34.662045</td>\n      <td>0.0</td>\n    </tr>\n    <tr>\n      <th>Alosno</th>\n      <td>162.0</td>\n      <td>1.0</td>\n      <td>1.0</td>\n      <td>3933.0</td>\n      <td>25.425884</td>\n      <td>25.425884</td>\n      <td>0.0</td>\n    </tr>\n  </tbody>\n</table>\n</div>"
     },
     "metadata": {},
     "execution_count": 17
    }
   ],
   "source": [
    "tabla.sort_values('tasa14', ascending=False)"
   ]
  },
  {
   "cell_type": "code",
   "execution_count": 18,
   "metadata": {},
   "outputs": [
    {
     "output_type": "execute_result",
     "data": {
      "text/plain": [
       "Medida                             Confirmados PDIA  Confirmados PDIA 7 días  \\\n",
       "Lugar de residencia                                                            \n",
       "Palma del Condado (La)                       1030.0                      2.0   \n",
       "Aljaraque                                     992.0                      2.0   \n",
       "Niebla                                        193.0                      1.0   \n",
       "Aracena                                       507.0                      2.0   \n",
       "Cumbres Mayores                                49.0                      5.0   \n",
       "Gibraleón                                     582.0                      5.0   \n",
       "Rociana del Condado                           507.0                     12.0   \n",
       "Galaroza                                       27.0                      3.0   \n",
       "Almonaster la Real                             65.0                      2.0   \n",
       "Aroche                                         90.0                      1.0   \n",
       "Cartaya                                      1261.0                     20.0   \n",
       "Sierra de Huelva-Andévalo Central            2535.0                     39.0   \n",
       "San Juan del Puerto                           445.0                     13.0   \n",
       "Almonte                                      1493.0                     71.0   \n",
       "Moguer                                       1091.0                     32.0   \n",
       "Cumbres de San Bartolomé                       10.0                      2.0   \n",
       "Minas de Riotinto                             111.0                      2.0   \n",
       "Condado-Campiña                              8917.0                    239.0   \n",
       "Bollullos Par del Condado                     801.0                     28.0   \n",
       "Huelva                                      28411.0                    485.0   \n",
       "Bonares                                       253.0                     13.0   \n",
       "Valverde del Camino                           472.0                      9.0   \n",
       "Huelva (capital)                             7369.0                    123.0   \n",
       "Huelva-Costa                                16585.0                    201.0   \n",
       "Palos de la Frontera                          577.0                      9.0   \n",
       "Lepe                                         2078.0                      9.0   \n",
       "Punta Umbría                                  709.0                     14.0   \n",
       "Isla Cristina                                2057.0                     18.0   \n",
       "Beas                                          197.0                     14.0   \n",
       "Trigueros                                     267.0                      9.0   \n",
       "Fuenteheridos                                   8.0                      2.0   \n",
       "Cortelazor                                      7.0                      2.0   \n",
       "Lucena del Puerto                             230.0                     30.0   \n",
       "Cortegana                                     199.0                      5.0   \n",
       "Ayamonte                                     1277.0                     12.0   \n",
       "Encinasola                                    118.0                      1.0   \n",
       "San Silvestre de Guzmán                        15.0                      1.0   \n",
       "Alosno                                        162.0                      1.0   \n",
       "Cañaveral de León                               4.0                      1.0   \n",
       "Rosal de la Frontera                           27.0                      2.0   \n",
       "Villablanca                                   179.0                      1.0   \n",
       "\n",
       "Medida                             Confirmados PDIA 14 días  Población  \\\n",
       "Lugar de residencia                                                      \n",
       "Palma del Condado (La)                                 17.0    10801.0   \n",
       "Aljaraque                                              13.0    21474.0   \n",
       "Niebla                                                  6.0     4116.0   \n",
       "Aracena                                                10.0     8255.0   \n",
       "Cumbres Mayores                                        24.0     1749.0   \n",
       "Gibraleón                                              20.0    12737.0   \n",
       "Rociana del Condado                                    46.0     7939.0   \n",
       "Galaroza                                               11.0     1382.0   \n",
       "Almonaster la Real                                      7.0     1788.0   \n",
       "Aroche                                                  3.0     3054.0   \n",
       "Cartaya                                                58.0    20083.0   \n",
       "Sierra de Huelva-Andévalo Central                     105.0    67391.0   \n",
       "San Juan del Puerto                                    35.0     9411.0   \n",
       "Almonte                                               181.0    24507.0   \n",
       "Moguer                                                 81.0    21867.0   \n",
       "Cumbres de San Bartolomé                                5.0      376.0   \n",
       "Minas de Riotinto                                       5.0     3812.0   \n",
       "Condado-Campiña                                       593.0   156231.0   \n",
       "Bollullos Par del Condado                              68.0    14387.0   \n",
       "Huelva                                               1143.0   513170.0   \n",
       "Bonares                                                29.0     6060.0   \n",
       "Valverde del Camino                                    20.0    12750.0   \n",
       "Huelva (capital)                                      263.0   143837.0   \n",
       "Huelva-Costa                                          428.0   289548.0   \n",
       "Palos de la Frontera                                   19.0    11742.0   \n",
       "Lepe                                                   18.0    27880.0   \n",
       "Punta Umbría                                           25.0    15355.0   \n",
       "Isla Cristina                                          31.0    21393.0   \n",
       "Beas                                                   24.0     4341.0   \n",
       "Trigueros                                              14.0     7862.0   \n",
       "Fuenteheridos                                           3.0      709.0   \n",
       "Cortelazor                                              3.0      299.0   \n",
       "Lucena del Puerto                                      42.0     3261.0   \n",
       "Cortegana                                               7.0     4602.0   \n",
       "Ayamonte                                               14.0    21104.0   \n",
       "Encinasola                                              1.0     1310.0   \n",
       "San Silvestre de Guzmán                                 1.0      614.0   \n",
       "Alosno                                                  1.0     3933.0   \n",
       "Cañaveral de León                                       1.0      396.0   \n",
       "Rosal de la Frontera                                    2.0     1697.0   \n",
       "Villablanca                                             1.0     2885.0   \n",
       "\n",
       "Medida                                  tasa7       tasa14  Diferencia PDIA  \\\n",
       "Lugar de residencia                                                           \n",
       "Palma del Condado (La)              18.516804   157.392834              0.0   \n",
       "Aljaraque                            9.313589    60.538325              0.0   \n",
       "Niebla                              24.295432   145.772595              0.0   \n",
       "Aracena                             24.227741   121.138704              0.0   \n",
       "Cumbres Mayores                    285.877644  1372.212693              0.0   \n",
       "Gibraleón                           39.255712   157.022847              0.0   \n",
       "Rociana del Condado                151.152538   579.418063              4.0   \n",
       "Galaroza                           217.076700   795.947902              0.0   \n",
       "Almonaster la Real                 111.856823   391.498881              0.0   \n",
       "Aroche                              32.743942    98.231827              0.0   \n",
       "Cartaya                             99.586715   288.801474              1.0   \n",
       "Sierra de Huelva-Andévalo Central   57.871229   155.807155              4.0   \n",
       "San Juan del Puerto                138.136224   371.905217              1.0   \n",
       "Almonte                            289.713143   738.564492              4.0   \n",
       "Moguer                             146.339233   370.421183              3.0   \n",
       "Cumbres de San Bartolomé           531.914894  1329.787234              0.0   \n",
       "Minas de Riotinto                   52.465897   131.164743              0.0   \n",
       "Condado-Campiña                    152.978602   379.566155             27.0   \n",
       "Bollullos Par del Condado          194.620143   472.648919              2.0   \n",
       "Huelva                              94.510591   222.733207             44.0   \n",
       "Bonares                            214.521452   478.547855              1.0   \n",
       "Valverde del Camino                 70.588235   156.862745              1.0   \n",
       "Huelva (capital)                    85.513463   182.845860             20.0   \n",
       "Huelva-Costa                        69.418542   147.816597             29.0   \n",
       "Palos de la Frontera                76.647931   161.812298              2.0   \n",
       "Lepe                                32.281205    64.562410              2.0   \n",
       "Punta Umbría                        91.175513   162.813416              1.0   \n",
       "Isla Cristina                       84.139672   144.907213              2.0   \n",
       "Beas                               322.506335   552.868003              3.0   \n",
       "Trigueros                          114.474688   178.071737              1.0   \n",
       "Fuenteheridos                      282.087447   423.131171              0.0   \n",
       "Cortelazor                         668.896321  1003.344482              0.0   \n",
       "Lucena del Puerto                  919.963201  1287.948482              6.0   \n",
       "Cortegana                          108.648414   152.107779              1.0   \n",
       "Ayamonte                            56.861259    66.338135              3.0   \n",
       "Encinasola                          76.335878    76.335878              1.0   \n",
       "San Silvestre de Guzmán            162.866450   162.866450              0.0   \n",
       "Alosno                              25.425884    25.425884              0.0   \n",
       "Cañaveral de León                  252.525253   252.525253              0.0   \n",
       "Rosal de la Frontera               117.855038   117.855038              0.0   \n",
       "Villablanca                         34.662045    34.662045              0.0   \n",
       "\n",
       "Medida                                 7/14  \n",
       "Lugar de residencia                          \n",
       "Palma del Condado (La)             0.117647  \n",
       "Aljaraque                          0.153846  \n",
       "Niebla                             0.166667  \n",
       "Aracena                            0.200000  \n",
       "Cumbres Mayores                    0.208333  \n",
       "Gibraleón                          0.250000  \n",
       "Rociana del Condado                0.260870  \n",
       "Galaroza                           0.272727  \n",
       "Almonaster la Real                 0.285714  \n",
       "Aroche                             0.333333  \n",
       "Cartaya                            0.344828  \n",
       "Sierra de Huelva-Andévalo Central  0.371429  \n",
       "San Juan del Puerto                0.371429  \n",
       "Almonte                            0.392265  \n",
       "Moguer                             0.395062  \n",
       "Cumbres de San Bartolomé           0.400000  \n",
       "Minas de Riotinto                  0.400000  \n",
       "Condado-Campiña                    0.403035  \n",
       "Bollullos Par del Condado          0.411765  \n",
       "Huelva                             0.424322  \n",
       "Bonares                            0.448276  \n",
       "Valverde del Camino                0.450000  \n",
       "Huelva (capital)                   0.467681  \n",
       "Huelva-Costa                       0.469626  \n",
       "Palos de la Frontera               0.473684  \n",
       "Lepe                               0.500000  \n",
       "Punta Umbría                       0.560000  \n",
       "Isla Cristina                      0.580645  \n",
       "Beas                               0.583333  \n",
       "Trigueros                          0.642857  \n",
       "Fuenteheridos                      0.666667  \n",
       "Cortelazor                         0.666667  \n",
       "Lucena del Puerto                  0.714286  \n",
       "Cortegana                          0.714286  \n",
       "Ayamonte                           0.857143  \n",
       "Encinasola                         1.000000  \n",
       "San Silvestre de Guzmán            1.000000  \n",
       "Alosno                             1.000000  \n",
       "Cañaveral de León                  1.000000  \n",
       "Rosal de la Frontera               1.000000  \n",
       "Villablanca                        1.000000  "
      ],
      "text/html": "<div>\n<style scoped>\n    .dataframe tbody tr th:only-of-type {\n        vertical-align: middle;\n    }\n\n    .dataframe tbody tr th {\n        vertical-align: top;\n    }\n\n    .dataframe thead th {\n        text-align: right;\n    }\n</style>\n<table border=\"1\" class=\"dataframe\">\n  <thead>\n    <tr style=\"text-align: right;\">\n      <th>Medida</th>\n      <th>Confirmados PDIA</th>\n      <th>Confirmados PDIA 7 días</th>\n      <th>Confirmados PDIA 14 días</th>\n      <th>Población</th>\n      <th>tasa7</th>\n      <th>tasa14</th>\n      <th>Diferencia PDIA</th>\n      <th>7/14</th>\n    </tr>\n    <tr>\n      <th>Lugar de residencia</th>\n      <th></th>\n      <th></th>\n      <th></th>\n      <th></th>\n      <th></th>\n      <th></th>\n      <th></th>\n      <th></th>\n    </tr>\n  </thead>\n  <tbody>\n    <tr>\n      <th>Palma del Condado (La)</th>\n      <td>1030.0</td>\n      <td>2.0</td>\n      <td>17.0</td>\n      <td>10801.0</td>\n      <td>18.516804</td>\n      <td>157.392834</td>\n      <td>0.0</td>\n      <td>0.117647</td>\n    </tr>\n    <tr>\n      <th>Aljaraque</th>\n      <td>992.0</td>\n      <td>2.0</td>\n      <td>13.0</td>\n      <td>21474.0</td>\n      <td>9.313589</td>\n      <td>60.538325</td>\n      <td>0.0</td>\n      <td>0.153846</td>\n    </tr>\n    <tr>\n      <th>Niebla</th>\n      <td>193.0</td>\n      <td>1.0</td>\n      <td>6.0</td>\n      <td>4116.0</td>\n      <td>24.295432</td>\n      <td>145.772595</td>\n      <td>0.0</td>\n      <td>0.166667</td>\n    </tr>\n    <tr>\n      <th>Aracena</th>\n      <td>507.0</td>\n      <td>2.0</td>\n      <td>10.0</td>\n      <td>8255.0</td>\n      <td>24.227741</td>\n      <td>121.138704</td>\n      <td>0.0</td>\n      <td>0.200000</td>\n    </tr>\n    <tr>\n      <th>Cumbres Mayores</th>\n      <td>49.0</td>\n      <td>5.0</td>\n      <td>24.0</td>\n      <td>1749.0</td>\n      <td>285.877644</td>\n      <td>1372.212693</td>\n      <td>0.0</td>\n      <td>0.208333</td>\n    </tr>\n    <tr>\n      <th>Gibraleón</th>\n      <td>582.0</td>\n      <td>5.0</td>\n      <td>20.0</td>\n      <td>12737.0</td>\n      <td>39.255712</td>\n      <td>157.022847</td>\n      <td>0.0</td>\n      <td>0.250000</td>\n    </tr>\n    <tr>\n      <th>Rociana del Condado</th>\n      <td>507.0</td>\n      <td>12.0</td>\n      <td>46.0</td>\n      <td>7939.0</td>\n      <td>151.152538</td>\n      <td>579.418063</td>\n      <td>4.0</td>\n      <td>0.260870</td>\n    </tr>\n    <tr>\n      <th>Galaroza</th>\n      <td>27.0</td>\n      <td>3.0</td>\n      <td>11.0</td>\n      <td>1382.0</td>\n      <td>217.076700</td>\n      <td>795.947902</td>\n      <td>0.0</td>\n      <td>0.272727</td>\n    </tr>\n    <tr>\n      <th>Almonaster la Real</th>\n      <td>65.0</td>\n      <td>2.0</td>\n      <td>7.0</td>\n      <td>1788.0</td>\n      <td>111.856823</td>\n      <td>391.498881</td>\n      <td>0.0</td>\n      <td>0.285714</td>\n    </tr>\n    <tr>\n      <th>Aroche</th>\n      <td>90.0</td>\n      <td>1.0</td>\n      <td>3.0</td>\n      <td>3054.0</td>\n      <td>32.743942</td>\n      <td>98.231827</td>\n      <td>0.0</td>\n      <td>0.333333</td>\n    </tr>\n    <tr>\n      <th>Cartaya</th>\n      <td>1261.0</td>\n      <td>20.0</td>\n      <td>58.0</td>\n      <td>20083.0</td>\n      <td>99.586715</td>\n      <td>288.801474</td>\n      <td>1.0</td>\n      <td>0.344828</td>\n    </tr>\n    <tr>\n      <th>Sierra de Huelva-Andévalo Central</th>\n      <td>2535.0</td>\n      <td>39.0</td>\n      <td>105.0</td>\n      <td>67391.0</td>\n      <td>57.871229</td>\n      <td>155.807155</td>\n      <td>4.0</td>\n      <td>0.371429</td>\n    </tr>\n    <tr>\n      <th>San Juan del Puerto</th>\n      <td>445.0</td>\n      <td>13.0</td>\n      <td>35.0</td>\n      <td>9411.0</td>\n      <td>138.136224</td>\n      <td>371.905217</td>\n      <td>1.0</td>\n      <td>0.371429</td>\n    </tr>\n    <tr>\n      <th>Almonte</th>\n      <td>1493.0</td>\n      <td>71.0</td>\n      <td>181.0</td>\n      <td>24507.0</td>\n      <td>289.713143</td>\n      <td>738.564492</td>\n      <td>4.0</td>\n      <td>0.392265</td>\n    </tr>\n    <tr>\n      <th>Moguer</th>\n      <td>1091.0</td>\n      <td>32.0</td>\n      <td>81.0</td>\n      <td>21867.0</td>\n      <td>146.339233</td>\n      <td>370.421183</td>\n      <td>3.0</td>\n      <td>0.395062</td>\n    </tr>\n    <tr>\n      <th>Cumbres de San Bartolomé</th>\n      <td>10.0</td>\n      <td>2.0</td>\n      <td>5.0</td>\n      <td>376.0</td>\n      <td>531.914894</td>\n      <td>1329.787234</td>\n      <td>0.0</td>\n      <td>0.400000</td>\n    </tr>\n    <tr>\n      <th>Minas de Riotinto</th>\n      <td>111.0</td>\n      <td>2.0</td>\n      <td>5.0</td>\n      <td>3812.0</td>\n      <td>52.465897</td>\n      <td>131.164743</td>\n      <td>0.0</td>\n      <td>0.400000</td>\n    </tr>\n    <tr>\n      <th>Condado-Campiña</th>\n      <td>8917.0</td>\n      <td>239.0</td>\n      <td>593.0</td>\n      <td>156231.0</td>\n      <td>152.978602</td>\n      <td>379.566155</td>\n      <td>27.0</td>\n      <td>0.403035</td>\n    </tr>\n    <tr>\n      <th>Bollullos Par del Condado</th>\n      <td>801.0</td>\n      <td>28.0</td>\n      <td>68.0</td>\n      <td>14387.0</td>\n      <td>194.620143</td>\n      <td>472.648919</td>\n      <td>2.0</td>\n      <td>0.411765</td>\n    </tr>\n    <tr>\n      <th>Huelva</th>\n      <td>28411.0</td>\n      <td>485.0</td>\n      <td>1143.0</td>\n      <td>513170.0</td>\n      <td>94.510591</td>\n      <td>222.733207</td>\n      <td>44.0</td>\n      <td>0.424322</td>\n    </tr>\n    <tr>\n      <th>Bonares</th>\n      <td>253.0</td>\n      <td>13.0</td>\n      <td>29.0</td>\n      <td>6060.0</td>\n      <td>214.521452</td>\n      <td>478.547855</td>\n      <td>1.0</td>\n      <td>0.448276</td>\n    </tr>\n    <tr>\n      <th>Valverde del Camino</th>\n      <td>472.0</td>\n      <td>9.0</td>\n      <td>20.0</td>\n      <td>12750.0</td>\n      <td>70.588235</td>\n      <td>156.862745</td>\n      <td>1.0</td>\n      <td>0.450000</td>\n    </tr>\n    <tr>\n      <th>Huelva (capital)</th>\n      <td>7369.0</td>\n      <td>123.0</td>\n      <td>263.0</td>\n      <td>143837.0</td>\n      <td>85.513463</td>\n      <td>182.845860</td>\n      <td>20.0</td>\n      <td>0.467681</td>\n    </tr>\n    <tr>\n      <th>Huelva-Costa</th>\n      <td>16585.0</td>\n      <td>201.0</td>\n      <td>428.0</td>\n      <td>289548.0</td>\n      <td>69.418542</td>\n      <td>147.816597</td>\n      <td>29.0</td>\n      <td>0.469626</td>\n    </tr>\n    <tr>\n      <th>Palos de la Frontera</th>\n      <td>577.0</td>\n      <td>9.0</td>\n      <td>19.0</td>\n      <td>11742.0</td>\n      <td>76.647931</td>\n      <td>161.812298</td>\n      <td>2.0</td>\n      <td>0.473684</td>\n    </tr>\n    <tr>\n      <th>Lepe</th>\n      <td>2078.0</td>\n      <td>9.0</td>\n      <td>18.0</td>\n      <td>27880.0</td>\n      <td>32.281205</td>\n      <td>64.562410</td>\n      <td>2.0</td>\n      <td>0.500000</td>\n    </tr>\n    <tr>\n      <th>Punta Umbría</th>\n      <td>709.0</td>\n      <td>14.0</td>\n      <td>25.0</td>\n      <td>15355.0</td>\n      <td>91.175513</td>\n      <td>162.813416</td>\n      <td>1.0</td>\n      <td>0.560000</td>\n    </tr>\n    <tr>\n      <th>Isla Cristina</th>\n      <td>2057.0</td>\n      <td>18.0</td>\n      <td>31.0</td>\n      <td>21393.0</td>\n      <td>84.139672</td>\n      <td>144.907213</td>\n      <td>2.0</td>\n      <td>0.580645</td>\n    </tr>\n    <tr>\n      <th>Beas</th>\n      <td>197.0</td>\n      <td>14.0</td>\n      <td>24.0</td>\n      <td>4341.0</td>\n      <td>322.506335</td>\n      <td>552.868003</td>\n      <td>3.0</td>\n      <td>0.583333</td>\n    </tr>\n    <tr>\n      <th>Trigueros</th>\n      <td>267.0</td>\n      <td>9.0</td>\n      <td>14.0</td>\n      <td>7862.0</td>\n      <td>114.474688</td>\n      <td>178.071737</td>\n      <td>1.0</td>\n      <td>0.642857</td>\n    </tr>\n    <tr>\n      <th>Fuenteheridos</th>\n      <td>8.0</td>\n      <td>2.0</td>\n      <td>3.0</td>\n      <td>709.0</td>\n      <td>282.087447</td>\n      <td>423.131171</td>\n      <td>0.0</td>\n      <td>0.666667</td>\n    </tr>\n    <tr>\n      <th>Cortelazor</th>\n      <td>7.0</td>\n      <td>2.0</td>\n      <td>3.0</td>\n      <td>299.0</td>\n      <td>668.896321</td>\n      <td>1003.344482</td>\n      <td>0.0</td>\n      <td>0.666667</td>\n    </tr>\n    <tr>\n      <th>Lucena del Puerto</th>\n      <td>230.0</td>\n      <td>30.0</td>\n      <td>42.0</td>\n      <td>3261.0</td>\n      <td>919.963201</td>\n      <td>1287.948482</td>\n      <td>6.0</td>\n      <td>0.714286</td>\n    </tr>\n    <tr>\n      <th>Cortegana</th>\n      <td>199.0</td>\n      <td>5.0</td>\n      <td>7.0</td>\n      <td>4602.0</td>\n      <td>108.648414</td>\n      <td>152.107779</td>\n      <td>1.0</td>\n      <td>0.714286</td>\n    </tr>\n    <tr>\n      <th>Ayamonte</th>\n      <td>1277.0</td>\n      <td>12.0</td>\n      <td>14.0</td>\n      <td>21104.0</td>\n      <td>56.861259</td>\n      <td>66.338135</td>\n      <td>3.0</td>\n      <td>0.857143</td>\n    </tr>\n    <tr>\n      <th>Encinasola</th>\n      <td>118.0</td>\n      <td>1.0</td>\n      <td>1.0</td>\n      <td>1310.0</td>\n      <td>76.335878</td>\n      <td>76.335878</td>\n      <td>1.0</td>\n      <td>1.000000</td>\n    </tr>\n    <tr>\n      <th>San Silvestre de Guzmán</th>\n      <td>15.0</td>\n      <td>1.0</td>\n      <td>1.0</td>\n      <td>614.0</td>\n      <td>162.866450</td>\n      <td>162.866450</td>\n      <td>0.0</td>\n      <td>1.000000</td>\n    </tr>\n    <tr>\n      <th>Alosno</th>\n      <td>162.0</td>\n      <td>1.0</td>\n      <td>1.0</td>\n      <td>3933.0</td>\n      <td>25.425884</td>\n      <td>25.425884</td>\n      <td>0.0</td>\n      <td>1.000000</td>\n    </tr>\n    <tr>\n      <th>Cañaveral de León</th>\n      <td>4.0</td>\n      <td>1.0</td>\n      <td>1.0</td>\n      <td>396.0</td>\n      <td>252.525253</td>\n      <td>252.525253</td>\n      <td>0.0</td>\n      <td>1.000000</td>\n    </tr>\n    <tr>\n      <th>Rosal de la Frontera</th>\n      <td>27.0</td>\n      <td>2.0</td>\n      <td>2.0</td>\n      <td>1697.0</td>\n      <td>117.855038</td>\n      <td>117.855038</td>\n      <td>0.0</td>\n      <td>1.000000</td>\n    </tr>\n    <tr>\n      <th>Villablanca</th>\n      <td>179.0</td>\n      <td>1.0</td>\n      <td>1.0</td>\n      <td>2885.0</td>\n      <td>34.662045</td>\n      <td>34.662045</td>\n      <td>0.0</td>\n      <td>1.000000</td>\n    </tr>\n  </tbody>\n</table>\n</div>"
     },
     "metadata": {},
     "execution_count": 18
    }
   ],
   "source": [
    "# Peso de la tasa de la última semana en relación con la tasa a 14 días \n",
    "# Mejor cuanto menor. Valor 1 significa que no había casos antes de 7 días.\n",
    "tabla['7/14'] = tabla['tasa7'] / tabla['tasa14']\n",
    "tabla.fillna(0).sort_values('7/14', ascending=True)"
   ]
  },
  {
   "cell_type": "code",
   "execution_count": null,
   "metadata": {},
   "outputs": [],
   "source": []
  }
 ]
}