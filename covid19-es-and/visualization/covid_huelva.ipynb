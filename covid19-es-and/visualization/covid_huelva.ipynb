{
 "metadata": {
  "language_info": {
   "codemirror_mode": {
    "name": "ipython",
    "version": 3
   },
   "file_extension": ".py",
   "mimetype": "text/x-python",
   "name": "python",
   "nbconvert_exporter": "python",
   "pygments_lexer": "ipython3",
   "version": "3.8.6"
  },
  "orig_nbformat": 2,
  "kernelspec": {
   "name": "python3",
   "display_name": "Python 3",
   "language": "python"
  }
 },
 "nbformat": 4,
 "nbformat_minor": 2,
 "cells": [
  {
   "cell_type": "code",
   "execution_count": 1,
   "metadata": {},
   "outputs": [],
   "source": [
    "import pandas as pd\n",
    "pd.set_option('display.max_rows', None) # Print all rows"
   ]
  },
  {
   "cell_type": "code",
   "execution_count": 2,
   "metadata": {},
   "outputs": [],
   "source": [
    "# FIX SSL: CERTIFICATE_VERIFY_FAILED with Python3\n",
    "# https://stackoverflow.com/a/49174340\n",
    "import ssl\n",
    "\n",
    "ssl._create_default_https_context = ssl._create_unverified_context"
   ]
  },
  {
   "cell_type": "code",
   "execution_count": 3,
   "metadata": {},
   "outputs": [],
   "source": [
    "url = 'https://www.juntadeandalucia.es/institutodeestadisticaycartografia/badea/stpivot/stpivot/Print?cube=013d884c-cfc5-4c21-9e78-e26225682afd&type=3&foto=si&ejecutaDesde=&codConsulta=38668&consTipoVisua=JP'\n",
    "fields = ['Lugar de residencia', 'Medida', 'Valor']\n",
    "df = pd.read_csv(url, delimiter=';', usecols=fields, decimal=',')"
   ]
  },
  {
   "cell_type": "code",
   "execution_count": 4,
   "metadata": {},
   "outputs": [
    {
     "output_type": "execute_result",
     "data": {
      "text/plain": [
       "  Lugar de residencia                    Medida               Valor\n",
       "0              Huelva                 Población              513170\n",
       "1              Huelva          Confirmados PDIA               28367\n",
       "2              Huelva  Confirmados PDIA 14 días                1166\n",
       "3              Huelva         Tasa PDIA 14 días  227,21515287331684\n",
       "4              Huelva   Confirmados PDIA 7 días                 542\n",
       "5              Huelva        Total Confirmados                28542\n",
       "6              Huelva                   Curados               23974\n",
       "7              Huelva                Fallecidos                 363"
      ],
      "text/html": "<div>\n<style scoped>\n    .dataframe tbody tr th:only-of-type {\n        vertical-align: middle;\n    }\n\n    .dataframe tbody tr th {\n        vertical-align: top;\n    }\n\n    .dataframe thead th {\n        text-align: right;\n    }\n</style>\n<table border=\"1\" class=\"dataframe\">\n  <thead>\n    <tr style=\"text-align: right;\">\n      <th></th>\n      <th>Lugar de residencia</th>\n      <th>Medida</th>\n      <th>Valor</th>\n    </tr>\n  </thead>\n  <tbody>\n    <tr>\n      <th>0</th>\n      <td>Huelva</td>\n      <td>Población</td>\n      <td>513170</td>\n    </tr>\n    <tr>\n      <th>1</th>\n      <td>Huelva</td>\n      <td>Confirmados PDIA</td>\n      <td>28367</td>\n    </tr>\n    <tr>\n      <th>2</th>\n      <td>Huelva</td>\n      <td>Confirmados PDIA 14 días</td>\n      <td>1166</td>\n    </tr>\n    <tr>\n      <th>3</th>\n      <td>Huelva</td>\n      <td>Tasa PDIA 14 días</td>\n      <td>227,21515287331684</td>\n    </tr>\n    <tr>\n      <th>4</th>\n      <td>Huelva</td>\n      <td>Confirmados PDIA 7 días</td>\n      <td>542</td>\n    </tr>\n    <tr>\n      <th>5</th>\n      <td>Huelva</td>\n      <td>Total Confirmados</td>\n      <td>28542</td>\n    </tr>\n    <tr>\n      <th>6</th>\n      <td>Huelva</td>\n      <td>Curados</td>\n      <td>23974</td>\n    </tr>\n    <tr>\n      <th>7</th>\n      <td>Huelva</td>\n      <td>Fallecidos</td>\n      <td>363</td>\n    </tr>\n  </tbody>\n</table>\n</div>"
     },
     "metadata": {},
     "execution_count": 4
    }
   ],
   "source": [
    "df[df['Lugar de residencia'] == 'Huelva']"
   ]
  },
  {
   "cell_type": "code",
   "execution_count": 5,
   "metadata": {},
   "outputs": [],
   "source": [
    "df['Valor'] = pd.to_numeric(df['Valor'],errors='coerce')"
   ]
  },
  {
   "cell_type": "code",
   "execution_count": 6,
   "metadata": {},
   "outputs": [],
   "source": [
    "dfAnterior = pd.read_csv('covid_huelva.csv', index_col='Lugar de residencia')"
   ]
  },
  {
   "cell_type": "code",
   "execution_count": 7,
   "metadata": {
    "tags": []
   },
   "outputs": [
    {
     "output_type": "stream",
     "name": "stdout",
     "text": [
      "Confirmados PCR en la provincia de Huelva:  28367.0\n",
      "<ipython-input-7-31b732756b19>:2: UserWarning: Boolean Series key will be reindexed to match DataFrame index.\n",
      "  p = df[df['Lugar de residencia'] == 'Huelva'][df['Medida'] == 'Confirmados PDIA']['Valor'].values[0]\n"
     ]
    }
   ],
   "source": [
    "# Confirmados PCR provincia Huelva\n",
    "p = df[df['Lugar de residencia'] == 'Huelva'][df['Medida'] == 'Confirmados PDIA']['Valor'].values[0]\n",
    "print('Confirmados PCR en la provincia de Huelva: ', p)"
   ]
  },
  {
   "cell_type": "code",
   "execution_count": 8,
   "metadata": {
    "tags": []
   },
   "outputs": [
    {
     "output_type": "stream",
     "name": "stdout",
     "text": [
      "Confirmados PCR en Huelva capital:  7349.0\n",
      "<ipython-input-8-e81bfb40e710>:2: UserWarning: Boolean Series key will be reindexed to match DataFrame index.\n",
      "  c = df[df['Lugar de residencia'] == 'Huelva (capital)'][df['Medida'] == 'Confirmados PDIA']['Valor'].values[0]\n"
     ]
    }
   ],
   "source": [
    "# Confirmados PCR Huelva capitalpd\n",
    "c = df[df['Lugar de residencia'] == 'Huelva (capital)'][df['Medida'] == 'Confirmados PDIA']['Valor'].values[0]\n",
    "print('Confirmados PCR en Huelva capital: ', c)"
   ]
  },
  {
   "cell_type": "code",
   "execution_count": 9,
   "metadata": {
    "tags": []
   },
   "outputs": [
    {
     "output_type": "stream",
     "name": "stderr",
     "text": [
      "<ipython-input-9-f09dd2050cc1>:1: UserWarning: Boolean Series key will be reindexed to match DataFrame index.\n  c7 = df[df['Lugar de residencia'] == 'Huelva (capital)'][df['Medida'] == 'Confirmados PDIA 7 días']['Valor'].values[0]\n<ipython-input-9-f09dd2050cc1>:2: UserWarning: Boolean Series key will be reindexed to match DataFrame index.\n  c14 = df[df['Lugar de residencia'] == 'Huelva (capital)'][df['Medida'] == 'Confirmados PDIA 14 días']['Valor'].values[0]\n<ipython-input-9-f09dd2050cc1>:3: UserWarning: Boolean Series key will be reindexed to match DataFrame index.\n  p = df[df['Lugar de residencia'] == 'Huelva (capital)'][df['Medida'] == 'Población']['Valor'].values[0]\n"
     ]
    }
   ],
   "source": [
    "c7 = df[df['Lugar de residencia'] == 'Huelva (capital)'][df['Medida'] == 'Confirmados PDIA 7 días']['Valor'].values[0]\n",
    "c14 = df[df['Lugar de residencia'] == 'Huelva (capital)'][df['Medida'] == 'Confirmados PDIA 14 días']['Valor'].values[0]\n",
    "p = df[df['Lugar de residencia'] == 'Huelva (capital)'][df['Medida'] == 'Población']['Valor'].values[0]"
   ]
  },
  {
   "cell_type": "code",
   "execution_count": 10,
   "metadata": {
    "tags": []
   },
   "outputs": [
    {
     "output_type": "stream",
     "name": "stdout",
     "text": [
      "Huelva (capital)\n\nUn positivo PCR cada 1199 personas en los últimos 7 días \n\nUn positivo PCR cada 537 personas en los últimos 14 días\n"
     ]
    }
   ],
   "source": [
    "print('Huelva (capital)\\n')\n",
    "#print('Confirmados PCR 7 días x 1,000 habitantes: ', f\"{c7/(p/1000):.5f}\")\n",
    "print('Un positivo PCR cada', f\"{p/c7:.0f}\", 'personas en los últimos 7 días', '\\n')\n",
    "#print('Confirmados PCR 14 días x 1,000 habitantes: ', f\"{c14/(p/1000):.5f}\")\n",
    "print('Un positivo PCR cada', f\"{p/c14:.0f}\", 'personas en los últimos 14 días')"
   ]
  },
  {
   "cell_type": "code",
   "execution_count": 11,
   "metadata": {},
   "outputs": [],
   "source": [
    "filtro = ((df['Medida'] == 'Confirmados PDIA')| (df['Medida'] == 'Confirmados PDIA 7 días') | (df['Medida'] == 'Población' ) | (df['Medida'] == 'Confirmados PDIA 14 días')) & (df['Valor'] > 0)\n",
    "tabla = pd.pivot_table(df.loc[filtro], values='Valor', index='Lugar de residencia', columns='Medida').dropna()"
   ]
  },
  {
   "cell_type": "code",
   "execution_count": 12,
   "metadata": {},
   "outputs": [],
   "source": [
    "# Reorder columns\n",
    "tabla = tabla[['Confirmados PDIA', 'Confirmados PDIA 7 días', 'Confirmados PDIA 14 días', 'Población']]"
   ]
  },
  {
   "cell_type": "code",
   "execution_count": 13,
   "metadata": {},
   "outputs": [],
   "source": [
    "tabla['tasa7'] = tabla['Confirmados PDIA 7 días']/tabla['Población']*100000\n",
    "tabla['tasa14'] = tabla['Confirmados PDIA 14 días']/tabla['Población']*100000"
   ]
  },
  {
   "cell_type": "code",
   "execution_count": 14,
   "metadata": {},
   "outputs": [],
   "source": [
    "tabla['Diferencia PDIA'] = tabla['Confirmados PDIA'] - dfAnterior['Confirmados PDIA']"
   ]
  },
  {
   "cell_type": "code",
   "execution_count": 15,
   "metadata": {},
   "outputs": [
    {
     "output_type": "execute_result",
     "data": {
      "text/plain": [
       "Medida                             Confirmados PDIA  Confirmados PDIA 7 días  \\\n",
       "Lugar de residencia                                                            \n",
       "Huelva                                      28367.0                    542.0   \n",
       "Condado-Campiña                              8890.0                    282.0   \n",
       "Huelva-Costa                                16556.0                    209.0   \n",
       "Huelva (capital)                             7349.0                    120.0   \n",
       "Almonte                                      1489.0                     73.0   \n",
       "Sierra de Huelva-Andévalo Central            2531.0                     48.0   \n",
       "Moguer                                       1088.0                     38.0   \n",
       "Bollullos Par del Condado                     799.0                     36.0   \n",
       "Bonares                                       252.0                     16.0   \n",
       "Lucena del Puerto                             224.0                     33.0   \n",
       "Isla Cristina                                2055.0                     21.0   \n",
       "Ayamonte                                     1274.0                     12.0   \n",
       "Cartaya                                      1260.0                     24.0   \n",
       "Rociana del Condado                           503.0                     11.0   \n",
       "Valverde del Camino                           471.0                     12.0   \n",
       "Trigueros                                     266.0                     13.0   \n",
       "San Juan del Puerto                           444.0                     19.0   \n",
       "Lepe                                         2076.0                     11.0   \n",
       "Punta Umbría                                  708.0                     14.0   \n",
       "Cortelazor                                      7.0                      2.0   \n",
       "Beas                                          194.0                     17.0   \n",
       "Almonaster la Real                             65.0                      2.0   \n",
       "Palos de la Frontera                          575.0                     11.0   \n",
       "Gibraleón                                     582.0                      9.0   \n",
       "Rosal de la Frontera                           27.0                      2.0   \n",
       "Aracena                                       507.0                      5.0   \n",
       "Palma del Condado (La)                       1030.0                      4.0   \n",
       "Aroche                                         90.0                      1.0   \n",
       "Niebla                                        193.0                      2.0   \n",
       "Cortegana                                     198.0                      5.0   \n",
       "Cumbres Mayores                                49.0                      7.0   \n",
       "Aljaraque                                     992.0                      4.0   \n",
       "Alosno                                        162.0                      1.0   \n",
       "Fuenteheridos                                   8.0                      2.0   \n",
       "\n",
       "Medida                             Confirmados PDIA 14 días  Población  \\\n",
       "Lugar de residencia                                                      \n",
       "Huelva                                               1166.0   513170.0   \n",
       "Condado-Campiña                                       603.0   156231.0   \n",
       "Huelva-Costa                                          439.0   289548.0   \n",
       "Huelva (capital)                                      268.0   143837.0   \n",
       "Almonte                                               182.0    24507.0   \n",
       "Sierra de Huelva-Andévalo Central                     109.0    67391.0   \n",
       "Moguer                                                 87.0    21867.0   \n",
       "Bollullos Par del Condado                              66.0    14387.0   \n",
       "Bonares                                                28.0     6060.0   \n",
       "Lucena del Puerto                                      37.0     3261.0   \n",
       "Isla Cristina                                          31.0    21393.0   \n",
       "Ayamonte                                               13.0    21104.0   \n",
       "Cartaya                                                63.0    20083.0   \n",
       "Rociana del Condado                                    47.0     7939.0   \n",
       "Valverde del Camino                                    22.0    12750.0   \n",
       "Trigueros                                              13.0     7862.0   \n",
       "San Juan del Puerto                                    36.0     9411.0   \n",
       "Lepe                                                   18.0    27880.0   \n",
       "Punta Umbría                                           24.0    15355.0   \n",
       "Cortelazor                                              3.0      299.0   \n",
       "Beas                                                   22.0     4341.0   \n",
       "Almonaster la Real                                      8.0     1788.0   \n",
       "Palos de la Frontera                                   24.0    11742.0   \n",
       "Gibraleón                                              25.0    12737.0   \n",
       "Rosal de la Frontera                                    2.0     1697.0   \n",
       "Aracena                                                12.0     8255.0   \n",
       "Palma del Condado (La)                                 17.0    10801.0   \n",
       "Aroche                                                  3.0     3054.0   \n",
       "Niebla                                                  6.0     4116.0   \n",
       "Cortegana                                               6.0     4602.0   \n",
       "Cumbres Mayores                                        24.0     1749.0   \n",
       "Aljaraque                                              16.0    21474.0   \n",
       "Alosno                                                  1.0     3933.0   \n",
       "Fuenteheridos                                           3.0      709.0   \n",
       "\n",
       "Medida                                   tasa7       tasa14  Diferencia PDIA  \n",
       "Lugar de residencia                                                           \n",
       "Huelva                              105.618021   227.215153            165.0  \n",
       "Condado-Campiña                     180.501949   385.966934             87.0  \n",
       "Huelva-Costa                         72.181469   151.615622             68.0  \n",
       "Huelva (capital)                     83.427769   186.322017             38.0  \n",
       "Almonte                             297.874077   742.644959             21.0  \n",
       "Sierra de Huelva-Andévalo Central    71.226128   161.742666             17.0  \n",
       "Moguer                              173.777839   397.859789             16.0  \n",
       "Bollullos Par del Condado           250.225898   458.747480             13.0  \n",
       "Bonares                             264.026403   462.046205              8.0  \n",
       "Lucena del Puerto                  1011.959522  1134.621282              8.0  \n",
       "Isla Cristina                        98.162950   144.907213              8.0  \n",
       "Ayamonte                             56.861259    61.599697              7.0  \n",
       "Cartaya                             119.504058   313.698153              7.0  \n",
       "Rociana del Condado                 138.556493   592.014108              6.0  \n",
       "Valverde del Camino                  94.117647   172.549020              6.0  \n",
       "Trigueros                           165.352328   165.352328              4.0  \n",
       "San Juan del Puerto                 201.891404   382.531081              4.0  \n",
       "Lepe                                 39.454806    64.562410              3.0  \n",
       "Punta Umbría                         91.175513   156.300879              3.0  \n",
       "Cortelazor                          668.896321  1003.344482              2.0  \n",
       "Beas                                391.614835   506.795669              2.0  \n",
       "Almonaster la Real                  111.856823   447.427293              2.0  \n",
       "Palos de la Frontera                 93.680804   204.394481              2.0  \n",
       "Gibraleón                            70.660281   196.278559              1.0  \n",
       "Rosal de la Frontera                117.855038   117.855038              1.0  \n",
       "Aracena                              60.569352   145.366445              1.0  \n",
       "Palma del Condado (La)               37.033608   157.392834              1.0  \n",
       "Aroche                               32.743942    98.231827              1.0  \n",
       "Niebla                               48.590865   145.772595              1.0  \n",
       "Cortegana                           108.648414   130.378096              1.0  \n",
       "Cumbres Mayores                     400.228702  1372.212693              1.0  \n",
       "Aljaraque                            18.627177    74.508708              1.0  \n",
       "Alosno                               25.425884    25.425884              NaN  \n",
       "Fuenteheridos                       282.087447   423.131171              NaN  "
      ],
      "text/html": "<div>\n<style scoped>\n    .dataframe tbody tr th:only-of-type {\n        vertical-align: middle;\n    }\n\n    .dataframe tbody tr th {\n        vertical-align: top;\n    }\n\n    .dataframe thead th {\n        text-align: right;\n    }\n</style>\n<table border=\"1\" class=\"dataframe\">\n  <thead>\n    <tr style=\"text-align: right;\">\n      <th>Medida</th>\n      <th>Confirmados PDIA</th>\n      <th>Confirmados PDIA 7 días</th>\n      <th>Confirmados PDIA 14 días</th>\n      <th>Población</th>\n      <th>tasa7</th>\n      <th>tasa14</th>\n      <th>Diferencia PDIA</th>\n    </tr>\n    <tr>\n      <th>Lugar de residencia</th>\n      <th></th>\n      <th></th>\n      <th></th>\n      <th></th>\n      <th></th>\n      <th></th>\n      <th></th>\n    </tr>\n  </thead>\n  <tbody>\n    <tr>\n      <th>Huelva</th>\n      <td>28367.0</td>\n      <td>542.0</td>\n      <td>1166.0</td>\n      <td>513170.0</td>\n      <td>105.618021</td>\n      <td>227.215153</td>\n      <td>165.0</td>\n    </tr>\n    <tr>\n      <th>Condado-Campiña</th>\n      <td>8890.0</td>\n      <td>282.0</td>\n      <td>603.0</td>\n      <td>156231.0</td>\n      <td>180.501949</td>\n      <td>385.966934</td>\n      <td>87.0</td>\n    </tr>\n    <tr>\n      <th>Huelva-Costa</th>\n      <td>16556.0</td>\n      <td>209.0</td>\n      <td>439.0</td>\n      <td>289548.0</td>\n      <td>72.181469</td>\n      <td>151.615622</td>\n      <td>68.0</td>\n    </tr>\n    <tr>\n      <th>Huelva (capital)</th>\n      <td>7349.0</td>\n      <td>120.0</td>\n      <td>268.0</td>\n      <td>143837.0</td>\n      <td>83.427769</td>\n      <td>186.322017</td>\n      <td>38.0</td>\n    </tr>\n    <tr>\n      <th>Almonte</th>\n      <td>1489.0</td>\n      <td>73.0</td>\n      <td>182.0</td>\n      <td>24507.0</td>\n      <td>297.874077</td>\n      <td>742.644959</td>\n      <td>21.0</td>\n    </tr>\n    <tr>\n      <th>Sierra de Huelva-Andévalo Central</th>\n      <td>2531.0</td>\n      <td>48.0</td>\n      <td>109.0</td>\n      <td>67391.0</td>\n      <td>71.226128</td>\n      <td>161.742666</td>\n      <td>17.0</td>\n    </tr>\n    <tr>\n      <th>Moguer</th>\n      <td>1088.0</td>\n      <td>38.0</td>\n      <td>87.0</td>\n      <td>21867.0</td>\n      <td>173.777839</td>\n      <td>397.859789</td>\n      <td>16.0</td>\n    </tr>\n    <tr>\n      <th>Bollullos Par del Condado</th>\n      <td>799.0</td>\n      <td>36.0</td>\n      <td>66.0</td>\n      <td>14387.0</td>\n      <td>250.225898</td>\n      <td>458.747480</td>\n      <td>13.0</td>\n    </tr>\n    <tr>\n      <th>Bonares</th>\n      <td>252.0</td>\n      <td>16.0</td>\n      <td>28.0</td>\n      <td>6060.0</td>\n      <td>264.026403</td>\n      <td>462.046205</td>\n      <td>8.0</td>\n    </tr>\n    <tr>\n      <th>Lucena del Puerto</th>\n      <td>224.0</td>\n      <td>33.0</td>\n      <td>37.0</td>\n      <td>3261.0</td>\n      <td>1011.959522</td>\n      <td>1134.621282</td>\n      <td>8.0</td>\n    </tr>\n    <tr>\n      <th>Isla Cristina</th>\n      <td>2055.0</td>\n      <td>21.0</td>\n      <td>31.0</td>\n      <td>21393.0</td>\n      <td>98.162950</td>\n      <td>144.907213</td>\n      <td>8.0</td>\n    </tr>\n    <tr>\n      <th>Ayamonte</th>\n      <td>1274.0</td>\n      <td>12.0</td>\n      <td>13.0</td>\n      <td>21104.0</td>\n      <td>56.861259</td>\n      <td>61.599697</td>\n      <td>7.0</td>\n    </tr>\n    <tr>\n      <th>Cartaya</th>\n      <td>1260.0</td>\n      <td>24.0</td>\n      <td>63.0</td>\n      <td>20083.0</td>\n      <td>119.504058</td>\n      <td>313.698153</td>\n      <td>7.0</td>\n    </tr>\n    <tr>\n      <th>Rociana del Condado</th>\n      <td>503.0</td>\n      <td>11.0</td>\n      <td>47.0</td>\n      <td>7939.0</td>\n      <td>138.556493</td>\n      <td>592.014108</td>\n      <td>6.0</td>\n    </tr>\n    <tr>\n      <th>Valverde del Camino</th>\n      <td>471.0</td>\n      <td>12.0</td>\n      <td>22.0</td>\n      <td>12750.0</td>\n      <td>94.117647</td>\n      <td>172.549020</td>\n      <td>6.0</td>\n    </tr>\n    <tr>\n      <th>Trigueros</th>\n      <td>266.0</td>\n      <td>13.0</td>\n      <td>13.0</td>\n      <td>7862.0</td>\n      <td>165.352328</td>\n      <td>165.352328</td>\n      <td>4.0</td>\n    </tr>\n    <tr>\n      <th>San Juan del Puerto</th>\n      <td>444.0</td>\n      <td>19.0</td>\n      <td>36.0</td>\n      <td>9411.0</td>\n      <td>201.891404</td>\n      <td>382.531081</td>\n      <td>4.0</td>\n    </tr>\n    <tr>\n      <th>Lepe</th>\n      <td>2076.0</td>\n      <td>11.0</td>\n      <td>18.0</td>\n      <td>27880.0</td>\n      <td>39.454806</td>\n      <td>64.562410</td>\n      <td>3.0</td>\n    </tr>\n    <tr>\n      <th>Punta Umbría</th>\n      <td>708.0</td>\n      <td>14.0</td>\n      <td>24.0</td>\n      <td>15355.0</td>\n      <td>91.175513</td>\n      <td>156.300879</td>\n      <td>3.0</td>\n    </tr>\n    <tr>\n      <th>Cortelazor</th>\n      <td>7.0</td>\n      <td>2.0</td>\n      <td>3.0</td>\n      <td>299.0</td>\n      <td>668.896321</td>\n      <td>1003.344482</td>\n      <td>2.0</td>\n    </tr>\n    <tr>\n      <th>Beas</th>\n      <td>194.0</td>\n      <td>17.0</td>\n      <td>22.0</td>\n      <td>4341.0</td>\n      <td>391.614835</td>\n      <td>506.795669</td>\n      <td>2.0</td>\n    </tr>\n    <tr>\n      <th>Almonaster la Real</th>\n      <td>65.0</td>\n      <td>2.0</td>\n      <td>8.0</td>\n      <td>1788.0</td>\n      <td>111.856823</td>\n      <td>447.427293</td>\n      <td>2.0</td>\n    </tr>\n    <tr>\n      <th>Palos de la Frontera</th>\n      <td>575.0</td>\n      <td>11.0</td>\n      <td>24.0</td>\n      <td>11742.0</td>\n      <td>93.680804</td>\n      <td>204.394481</td>\n      <td>2.0</td>\n    </tr>\n    <tr>\n      <th>Gibraleón</th>\n      <td>582.0</td>\n      <td>9.0</td>\n      <td>25.0</td>\n      <td>12737.0</td>\n      <td>70.660281</td>\n      <td>196.278559</td>\n      <td>1.0</td>\n    </tr>\n    <tr>\n      <th>Rosal de la Frontera</th>\n      <td>27.0</td>\n      <td>2.0</td>\n      <td>2.0</td>\n      <td>1697.0</td>\n      <td>117.855038</td>\n      <td>117.855038</td>\n      <td>1.0</td>\n    </tr>\n    <tr>\n      <th>Aracena</th>\n      <td>507.0</td>\n      <td>5.0</td>\n      <td>12.0</td>\n      <td>8255.0</td>\n      <td>60.569352</td>\n      <td>145.366445</td>\n      <td>1.0</td>\n    </tr>\n    <tr>\n      <th>Palma del Condado (La)</th>\n      <td>1030.0</td>\n      <td>4.0</td>\n      <td>17.0</td>\n      <td>10801.0</td>\n      <td>37.033608</td>\n      <td>157.392834</td>\n      <td>1.0</td>\n    </tr>\n    <tr>\n      <th>Aroche</th>\n      <td>90.0</td>\n      <td>1.0</td>\n      <td>3.0</td>\n      <td>3054.0</td>\n      <td>32.743942</td>\n      <td>98.231827</td>\n      <td>1.0</td>\n    </tr>\n    <tr>\n      <th>Niebla</th>\n      <td>193.0</td>\n      <td>2.0</td>\n      <td>6.0</td>\n      <td>4116.0</td>\n      <td>48.590865</td>\n      <td>145.772595</td>\n      <td>1.0</td>\n    </tr>\n    <tr>\n      <th>Cortegana</th>\n      <td>198.0</td>\n      <td>5.0</td>\n      <td>6.0</td>\n      <td>4602.0</td>\n      <td>108.648414</td>\n      <td>130.378096</td>\n      <td>1.0</td>\n    </tr>\n    <tr>\n      <th>Cumbres Mayores</th>\n      <td>49.0</td>\n      <td>7.0</td>\n      <td>24.0</td>\n      <td>1749.0</td>\n      <td>400.228702</td>\n      <td>1372.212693</td>\n      <td>1.0</td>\n    </tr>\n    <tr>\n      <th>Aljaraque</th>\n      <td>992.0</td>\n      <td>4.0</td>\n      <td>16.0</td>\n      <td>21474.0</td>\n      <td>18.627177</td>\n      <td>74.508708</td>\n      <td>1.0</td>\n    </tr>\n    <tr>\n      <th>Alosno</th>\n      <td>162.0</td>\n      <td>1.0</td>\n      <td>1.0</td>\n      <td>3933.0</td>\n      <td>25.425884</td>\n      <td>25.425884</td>\n      <td>NaN</td>\n    </tr>\n    <tr>\n      <th>Fuenteheridos</th>\n      <td>8.0</td>\n      <td>2.0</td>\n      <td>3.0</td>\n      <td>709.0</td>\n      <td>282.087447</td>\n      <td>423.131171</td>\n      <td>NaN</td>\n    </tr>\n  </tbody>\n</table>\n</div>"
     },
     "metadata": {},
     "execution_count": 15
    }
   ],
   "source": [
    "# Nuevos casos desde la última captura\n",
    "tabla[tabla['Diferencia PDIA'] != 0].sort_values('Diferencia PDIA', ascending=False)"
   ]
  },
  {
   "cell_type": "code",
   "execution_count": 16,
   "metadata": {},
   "outputs": [],
   "source": [
    "if tabla[tabla['Diferencia PDIA'] != 0]['Diferencia PDIA'].sum() != 0:\n",
    "  # Save to csv\n",
    "  tabla.to_csv('covid_huelva.csv', encoding='utf-8', header=True, index=True)  "
   ]
  },
  {
   "cell_type": "code",
   "execution_count": 17,
   "metadata": {},
   "outputs": [
    {
     "output_type": "execute_result",
     "data": {
      "text/plain": [
       "Medida                             Confirmados PDIA  Confirmados PDIA 7 días  \\\n",
       "Lugar de residencia                                                            \n",
       "Cumbres Mayores                                49.0                      7.0   \n",
       "Cumbres de San Bartolomé                       10.0                      2.0   \n",
       "Lucena del Puerto                             224.0                     33.0   \n",
       "Cortelazor                                      7.0                      2.0   \n",
       "Galaroza                                       27.0                      3.0   \n",
       "Almonte                                      1489.0                     73.0   \n",
       "Rociana del Condado                           503.0                     11.0   \n",
       "Beas                                          194.0                     17.0   \n",
       "Bonares                                       252.0                     16.0   \n",
       "Bollullos Par del Condado                     799.0                     36.0   \n",
       "Almonaster la Real                             65.0                      2.0   \n",
       "Fuenteheridos                                   8.0                      2.0   \n",
       "Moguer                                       1088.0                     38.0   \n",
       "Condado-Campiña                              8890.0                    282.0   \n",
       "San Juan del Puerto                           444.0                     19.0   \n",
       "Cartaya                                      1260.0                     24.0   \n",
       "Huelva                                      28367.0                    542.0   \n",
       "Palos de la Frontera                          575.0                     11.0   \n",
       "Gibraleón                                     582.0                      9.0   \n",
       "Huelva (capital)                             7349.0                    120.0   \n",
       "Valverde del Camino                           471.0                     12.0   \n",
       "Trigueros                                     266.0                     13.0   \n",
       "San Silvestre de Guzmán                        15.0                      1.0   \n",
       "Sierra de Huelva-Andévalo Central            2531.0                     48.0   \n",
       "Palma del Condado (La)                       1030.0                      4.0   \n",
       "Punta Umbría                                  708.0                     14.0   \n",
       "Huelva-Costa                                16556.0                    209.0   \n",
       "Niebla                                        193.0                      2.0   \n",
       "Aracena                                       507.0                      5.0   \n",
       "Isla Cristina                                2055.0                     21.0   \n",
       "Minas de Riotinto                             111.0                      4.0   \n",
       "Cortegana                                     198.0                      5.0   \n",
       "Rosal de la Frontera                           27.0                      2.0   \n",
       "Aroche                                         90.0                      1.0   \n",
       "Encinasola                                    117.0                      1.0   \n",
       "Aljaraque                                     992.0                      4.0   \n",
       "Lepe                                         2076.0                     11.0   \n",
       "Ayamonte                                     1274.0                     12.0   \n",
       "Villablanca                                   179.0                      1.0   \n",
       "Alosno                                        162.0                      1.0   \n",
       "\n",
       "Medida                             Confirmados PDIA 14 días  Población  \\\n",
       "Lugar de residencia                                                      \n",
       "Cumbres Mayores                                        24.0     1749.0   \n",
       "Cumbres de San Bartolomé                                5.0      376.0   \n",
       "Lucena del Puerto                                      37.0     3261.0   \n",
       "Cortelazor                                              3.0      299.0   \n",
       "Galaroza                                               11.0     1382.0   \n",
       "Almonte                                               182.0    24507.0   \n",
       "Rociana del Condado                                    47.0     7939.0   \n",
       "Beas                                                   22.0     4341.0   \n",
       "Bonares                                                28.0     6060.0   \n",
       "Bollullos Par del Condado                              66.0    14387.0   \n",
       "Almonaster la Real                                      8.0     1788.0   \n",
       "Fuenteheridos                                           3.0      709.0   \n",
       "Moguer                                                 87.0    21867.0   \n",
       "Condado-Campiña                                       603.0   156231.0   \n",
       "San Juan del Puerto                                    36.0     9411.0   \n",
       "Cartaya                                                63.0    20083.0   \n",
       "Huelva                                               1166.0   513170.0   \n",
       "Palos de la Frontera                                   24.0    11742.0   \n",
       "Gibraleón                                              25.0    12737.0   \n",
       "Huelva (capital)                                      268.0   143837.0   \n",
       "Valverde del Camino                                    22.0    12750.0   \n",
       "Trigueros                                              13.0     7862.0   \n",
       "San Silvestre de Guzmán                                 1.0      614.0   \n",
       "Sierra de Huelva-Andévalo Central                     109.0    67391.0   \n",
       "Palma del Condado (La)                                 17.0    10801.0   \n",
       "Punta Umbría                                           24.0    15355.0   \n",
       "Huelva-Costa                                          439.0   289548.0   \n",
       "Niebla                                                  6.0     4116.0   \n",
       "Aracena                                                12.0     8255.0   \n",
       "Isla Cristina                                          31.0    21393.0   \n",
       "Minas de Riotinto                                       5.0     3812.0   \n",
       "Cortegana                                               6.0     4602.0   \n",
       "Rosal de la Frontera                                    2.0     1697.0   \n",
       "Aroche                                                  3.0     3054.0   \n",
       "Encinasola                                              1.0     1310.0   \n",
       "Aljaraque                                              16.0    21474.0   \n",
       "Lepe                                                   18.0    27880.0   \n",
       "Ayamonte                                               13.0    21104.0   \n",
       "Villablanca                                             1.0     2885.0   \n",
       "Alosno                                                  1.0     3933.0   \n",
       "\n",
       "Medida                                   tasa7       tasa14  Diferencia PDIA  \n",
       "Lugar de residencia                                                           \n",
       "Cumbres Mayores                     400.228702  1372.212693              1.0  \n",
       "Cumbres de San Bartolomé            531.914894  1329.787234              0.0  \n",
       "Lucena del Puerto                  1011.959522  1134.621282              8.0  \n",
       "Cortelazor                          668.896321  1003.344482              2.0  \n",
       "Galaroza                            217.076700   795.947902              0.0  \n",
       "Almonte                             297.874077   742.644959             21.0  \n",
       "Rociana del Condado                 138.556493   592.014108              6.0  \n",
       "Beas                                391.614835   506.795669              2.0  \n",
       "Bonares                             264.026403   462.046205              8.0  \n",
       "Bollullos Par del Condado           250.225898   458.747480             13.0  \n",
       "Almonaster la Real                  111.856823   447.427293              2.0  \n",
       "Fuenteheridos                       282.087447   423.131171              NaN  \n",
       "Moguer                              173.777839   397.859789             16.0  \n",
       "Condado-Campiña                     180.501949   385.966934             87.0  \n",
       "San Juan del Puerto                 201.891404   382.531081              4.0  \n",
       "Cartaya                             119.504058   313.698153              7.0  \n",
       "Huelva                              105.618021   227.215153            165.0  \n",
       "Palos de la Frontera                 93.680804   204.394481              2.0  \n",
       "Gibraleón                            70.660281   196.278559              1.0  \n",
       "Huelva (capital)                     83.427769   186.322017             38.0  \n",
       "Valverde del Camino                  94.117647   172.549020              6.0  \n",
       "Trigueros                           165.352328   165.352328              4.0  \n",
       "San Silvestre de Guzmán             162.866450   162.866450              0.0  \n",
       "Sierra de Huelva-Andévalo Central    71.226128   161.742666             17.0  \n",
       "Palma del Condado (La)               37.033608   157.392834              1.0  \n",
       "Punta Umbría                         91.175513   156.300879              3.0  \n",
       "Huelva-Costa                         72.181469   151.615622             68.0  \n",
       "Niebla                               48.590865   145.772595              1.0  \n",
       "Aracena                              60.569352   145.366445              1.0  \n",
       "Isla Cristina                        98.162950   144.907213              8.0  \n",
       "Minas de Riotinto                   104.931794   131.164743              0.0  \n",
       "Cortegana                           108.648414   130.378096              1.0  \n",
       "Rosal de la Frontera                117.855038   117.855038              1.0  \n",
       "Aroche                               32.743942    98.231827              1.0  \n",
       "Encinasola                           76.335878    76.335878              0.0  \n",
       "Aljaraque                            18.627177    74.508708              1.0  \n",
       "Lepe                                 39.454806    64.562410              3.0  \n",
       "Ayamonte                             56.861259    61.599697              7.0  \n",
       "Villablanca                          34.662045    34.662045              0.0  \n",
       "Alosno                               25.425884    25.425884              NaN  "
      ],
      "text/html": "<div>\n<style scoped>\n    .dataframe tbody tr th:only-of-type {\n        vertical-align: middle;\n    }\n\n    .dataframe tbody tr th {\n        vertical-align: top;\n    }\n\n    .dataframe thead th {\n        text-align: right;\n    }\n</style>\n<table border=\"1\" class=\"dataframe\">\n  <thead>\n    <tr style=\"text-align: right;\">\n      <th>Medida</th>\n      <th>Confirmados PDIA</th>\n      <th>Confirmados PDIA 7 días</th>\n      <th>Confirmados PDIA 14 días</th>\n      <th>Población</th>\n      <th>tasa7</th>\n      <th>tasa14</th>\n      <th>Diferencia PDIA</th>\n    </tr>\n    <tr>\n      <th>Lugar de residencia</th>\n      <th></th>\n      <th></th>\n      <th></th>\n      <th></th>\n      <th></th>\n      <th></th>\n      <th></th>\n    </tr>\n  </thead>\n  <tbody>\n    <tr>\n      <th>Cumbres Mayores</th>\n      <td>49.0</td>\n      <td>7.0</td>\n      <td>24.0</td>\n      <td>1749.0</td>\n      <td>400.228702</td>\n      <td>1372.212693</td>\n      <td>1.0</td>\n    </tr>\n    <tr>\n      <th>Cumbres de San Bartolomé</th>\n      <td>10.0</td>\n      <td>2.0</td>\n      <td>5.0</td>\n      <td>376.0</td>\n      <td>531.914894</td>\n      <td>1329.787234</td>\n      <td>0.0</td>\n    </tr>\n    <tr>\n      <th>Lucena del Puerto</th>\n      <td>224.0</td>\n      <td>33.0</td>\n      <td>37.0</td>\n      <td>3261.0</td>\n      <td>1011.959522</td>\n      <td>1134.621282</td>\n      <td>8.0</td>\n    </tr>\n    <tr>\n      <th>Cortelazor</th>\n      <td>7.0</td>\n      <td>2.0</td>\n      <td>3.0</td>\n      <td>299.0</td>\n      <td>668.896321</td>\n      <td>1003.344482</td>\n      <td>2.0</td>\n    </tr>\n    <tr>\n      <th>Galaroza</th>\n      <td>27.0</td>\n      <td>3.0</td>\n      <td>11.0</td>\n      <td>1382.0</td>\n      <td>217.076700</td>\n      <td>795.947902</td>\n      <td>0.0</td>\n    </tr>\n    <tr>\n      <th>Almonte</th>\n      <td>1489.0</td>\n      <td>73.0</td>\n      <td>182.0</td>\n      <td>24507.0</td>\n      <td>297.874077</td>\n      <td>742.644959</td>\n      <td>21.0</td>\n    </tr>\n    <tr>\n      <th>Rociana del Condado</th>\n      <td>503.0</td>\n      <td>11.0</td>\n      <td>47.0</td>\n      <td>7939.0</td>\n      <td>138.556493</td>\n      <td>592.014108</td>\n      <td>6.0</td>\n    </tr>\n    <tr>\n      <th>Beas</th>\n      <td>194.0</td>\n      <td>17.0</td>\n      <td>22.0</td>\n      <td>4341.0</td>\n      <td>391.614835</td>\n      <td>506.795669</td>\n      <td>2.0</td>\n    </tr>\n    <tr>\n      <th>Bonares</th>\n      <td>252.0</td>\n      <td>16.0</td>\n      <td>28.0</td>\n      <td>6060.0</td>\n      <td>264.026403</td>\n      <td>462.046205</td>\n      <td>8.0</td>\n    </tr>\n    <tr>\n      <th>Bollullos Par del Condado</th>\n      <td>799.0</td>\n      <td>36.0</td>\n      <td>66.0</td>\n      <td>14387.0</td>\n      <td>250.225898</td>\n      <td>458.747480</td>\n      <td>13.0</td>\n    </tr>\n    <tr>\n      <th>Almonaster la Real</th>\n      <td>65.0</td>\n      <td>2.0</td>\n      <td>8.0</td>\n      <td>1788.0</td>\n      <td>111.856823</td>\n      <td>447.427293</td>\n      <td>2.0</td>\n    </tr>\n    <tr>\n      <th>Fuenteheridos</th>\n      <td>8.0</td>\n      <td>2.0</td>\n      <td>3.0</td>\n      <td>709.0</td>\n      <td>282.087447</td>\n      <td>423.131171</td>\n      <td>NaN</td>\n    </tr>\n    <tr>\n      <th>Moguer</th>\n      <td>1088.0</td>\n      <td>38.0</td>\n      <td>87.0</td>\n      <td>21867.0</td>\n      <td>173.777839</td>\n      <td>397.859789</td>\n      <td>16.0</td>\n    </tr>\n    <tr>\n      <th>Condado-Campiña</th>\n      <td>8890.0</td>\n      <td>282.0</td>\n      <td>603.0</td>\n      <td>156231.0</td>\n      <td>180.501949</td>\n      <td>385.966934</td>\n      <td>87.0</td>\n    </tr>\n    <tr>\n      <th>San Juan del Puerto</th>\n      <td>444.0</td>\n      <td>19.0</td>\n      <td>36.0</td>\n      <td>9411.0</td>\n      <td>201.891404</td>\n      <td>382.531081</td>\n      <td>4.0</td>\n    </tr>\n    <tr>\n      <th>Cartaya</th>\n      <td>1260.0</td>\n      <td>24.0</td>\n      <td>63.0</td>\n      <td>20083.0</td>\n      <td>119.504058</td>\n      <td>313.698153</td>\n      <td>7.0</td>\n    </tr>\n    <tr>\n      <th>Huelva</th>\n      <td>28367.0</td>\n      <td>542.0</td>\n      <td>1166.0</td>\n      <td>513170.0</td>\n      <td>105.618021</td>\n      <td>227.215153</td>\n      <td>165.0</td>\n    </tr>\n    <tr>\n      <th>Palos de la Frontera</th>\n      <td>575.0</td>\n      <td>11.0</td>\n      <td>24.0</td>\n      <td>11742.0</td>\n      <td>93.680804</td>\n      <td>204.394481</td>\n      <td>2.0</td>\n    </tr>\n    <tr>\n      <th>Gibraleón</th>\n      <td>582.0</td>\n      <td>9.0</td>\n      <td>25.0</td>\n      <td>12737.0</td>\n      <td>70.660281</td>\n      <td>196.278559</td>\n      <td>1.0</td>\n    </tr>\n    <tr>\n      <th>Huelva (capital)</th>\n      <td>7349.0</td>\n      <td>120.0</td>\n      <td>268.0</td>\n      <td>143837.0</td>\n      <td>83.427769</td>\n      <td>186.322017</td>\n      <td>38.0</td>\n    </tr>\n    <tr>\n      <th>Valverde del Camino</th>\n      <td>471.0</td>\n      <td>12.0</td>\n      <td>22.0</td>\n      <td>12750.0</td>\n      <td>94.117647</td>\n      <td>172.549020</td>\n      <td>6.0</td>\n    </tr>\n    <tr>\n      <th>Trigueros</th>\n      <td>266.0</td>\n      <td>13.0</td>\n      <td>13.0</td>\n      <td>7862.0</td>\n      <td>165.352328</td>\n      <td>165.352328</td>\n      <td>4.0</td>\n    </tr>\n    <tr>\n      <th>San Silvestre de Guzmán</th>\n      <td>15.0</td>\n      <td>1.0</td>\n      <td>1.0</td>\n      <td>614.0</td>\n      <td>162.866450</td>\n      <td>162.866450</td>\n      <td>0.0</td>\n    </tr>\n    <tr>\n      <th>Sierra de Huelva-Andévalo Central</th>\n      <td>2531.0</td>\n      <td>48.0</td>\n      <td>109.0</td>\n      <td>67391.0</td>\n      <td>71.226128</td>\n      <td>161.742666</td>\n      <td>17.0</td>\n    </tr>\n    <tr>\n      <th>Palma del Condado (La)</th>\n      <td>1030.0</td>\n      <td>4.0</td>\n      <td>17.0</td>\n      <td>10801.0</td>\n      <td>37.033608</td>\n      <td>157.392834</td>\n      <td>1.0</td>\n    </tr>\n    <tr>\n      <th>Punta Umbría</th>\n      <td>708.0</td>\n      <td>14.0</td>\n      <td>24.0</td>\n      <td>15355.0</td>\n      <td>91.175513</td>\n      <td>156.300879</td>\n      <td>3.0</td>\n    </tr>\n    <tr>\n      <th>Huelva-Costa</th>\n      <td>16556.0</td>\n      <td>209.0</td>\n      <td>439.0</td>\n      <td>289548.0</td>\n      <td>72.181469</td>\n      <td>151.615622</td>\n      <td>68.0</td>\n    </tr>\n    <tr>\n      <th>Niebla</th>\n      <td>193.0</td>\n      <td>2.0</td>\n      <td>6.0</td>\n      <td>4116.0</td>\n      <td>48.590865</td>\n      <td>145.772595</td>\n      <td>1.0</td>\n    </tr>\n    <tr>\n      <th>Aracena</th>\n      <td>507.0</td>\n      <td>5.0</td>\n      <td>12.0</td>\n      <td>8255.0</td>\n      <td>60.569352</td>\n      <td>145.366445</td>\n      <td>1.0</td>\n    </tr>\n    <tr>\n      <th>Isla Cristina</th>\n      <td>2055.0</td>\n      <td>21.0</td>\n      <td>31.0</td>\n      <td>21393.0</td>\n      <td>98.162950</td>\n      <td>144.907213</td>\n      <td>8.0</td>\n    </tr>\n    <tr>\n      <th>Minas de Riotinto</th>\n      <td>111.0</td>\n      <td>4.0</td>\n      <td>5.0</td>\n      <td>3812.0</td>\n      <td>104.931794</td>\n      <td>131.164743</td>\n      <td>0.0</td>\n    </tr>\n    <tr>\n      <th>Cortegana</th>\n      <td>198.0</td>\n      <td>5.0</td>\n      <td>6.0</td>\n      <td>4602.0</td>\n      <td>108.648414</td>\n      <td>130.378096</td>\n      <td>1.0</td>\n    </tr>\n    <tr>\n      <th>Rosal de la Frontera</th>\n      <td>27.0</td>\n      <td>2.0</td>\n      <td>2.0</td>\n      <td>1697.0</td>\n      <td>117.855038</td>\n      <td>117.855038</td>\n      <td>1.0</td>\n    </tr>\n    <tr>\n      <th>Aroche</th>\n      <td>90.0</td>\n      <td>1.0</td>\n      <td>3.0</td>\n      <td>3054.0</td>\n      <td>32.743942</td>\n      <td>98.231827</td>\n      <td>1.0</td>\n    </tr>\n    <tr>\n      <th>Encinasola</th>\n      <td>117.0</td>\n      <td>1.0</td>\n      <td>1.0</td>\n      <td>1310.0</td>\n      <td>76.335878</td>\n      <td>76.335878</td>\n      <td>0.0</td>\n    </tr>\n    <tr>\n      <th>Aljaraque</th>\n      <td>992.0</td>\n      <td>4.0</td>\n      <td>16.0</td>\n      <td>21474.0</td>\n      <td>18.627177</td>\n      <td>74.508708</td>\n      <td>1.0</td>\n    </tr>\n    <tr>\n      <th>Lepe</th>\n      <td>2076.0</td>\n      <td>11.0</td>\n      <td>18.0</td>\n      <td>27880.0</td>\n      <td>39.454806</td>\n      <td>64.562410</td>\n      <td>3.0</td>\n    </tr>\n    <tr>\n      <th>Ayamonte</th>\n      <td>1274.0</td>\n      <td>12.0</td>\n      <td>13.0</td>\n      <td>21104.0</td>\n      <td>56.861259</td>\n      <td>61.599697</td>\n      <td>7.0</td>\n    </tr>\n    <tr>\n      <th>Villablanca</th>\n      <td>179.0</td>\n      <td>1.0</td>\n      <td>1.0</td>\n      <td>2885.0</td>\n      <td>34.662045</td>\n      <td>34.662045</td>\n      <td>0.0</td>\n    </tr>\n    <tr>\n      <th>Alosno</th>\n      <td>162.0</td>\n      <td>1.0</td>\n      <td>1.0</td>\n      <td>3933.0</td>\n      <td>25.425884</td>\n      <td>25.425884</td>\n      <td>NaN</td>\n    </tr>\n  </tbody>\n</table>\n</div>"
     },
     "metadata": {},
     "execution_count": 17
    }
   ],
   "source": [
    "tabla.sort_values('tasa14', ascending=False)"
   ]
  },
  {
   "cell_type": "code",
   "execution_count": 18,
   "metadata": {},
   "outputs": [
    {
     "output_type": "execute_result",
     "data": {
      "text/plain": [
       "Medida                             Confirmados PDIA  Confirmados PDIA 7 días  \\\n",
       "Lugar de residencia                                                            \n",
       "Rociana del Condado                           503.0                     11.0   \n",
       "Palma del Condado (La)                       1030.0                      4.0   \n",
       "Aljaraque                                     992.0                      4.0   \n",
       "Almonaster la Real                             65.0                      2.0   \n",
       "Galaroza                                       27.0                      3.0   \n",
       "Cumbres Mayores                                49.0                      7.0   \n",
       "Niebla                                        193.0                      2.0   \n",
       "Aroche                                         90.0                      1.0   \n",
       "Gibraleón                                     582.0                      9.0   \n",
       "Cartaya                                      1260.0                     24.0   \n",
       "Cumbres de San Bartolomé                       10.0                      2.0   \n",
       "Almonte                                      1489.0                     73.0   \n",
       "Aracena                                       507.0                      5.0   \n",
       "Moguer                                       1088.0                     38.0   \n",
       "Sierra de Huelva-Andévalo Central            2531.0                     48.0   \n",
       "Huelva (capital)                             7349.0                    120.0   \n",
       "Palos de la Frontera                          575.0                     11.0   \n",
       "Huelva                                      28367.0                    542.0   \n",
       "Condado-Campiña                              8890.0                    282.0   \n",
       "Huelva-Costa                                16556.0                    209.0   \n",
       "San Juan del Puerto                           444.0                     19.0   \n",
       "Valverde del Camino                           471.0                     12.0   \n",
       "Bollullos Par del Condado                     799.0                     36.0   \n",
       "Bonares                                       252.0                     16.0   \n",
       "Punta Umbría                                  708.0                     14.0   \n",
       "Lepe                                         2076.0                     11.0   \n",
       "Fuenteheridos                                   8.0                      2.0   \n",
       "Cortelazor                                      7.0                      2.0   \n",
       "Isla Cristina                                2055.0                     21.0   \n",
       "Beas                                          194.0                     17.0   \n",
       "Minas de Riotinto                             111.0                      4.0   \n",
       "Cortegana                                     198.0                      5.0   \n",
       "Lucena del Puerto                             224.0                     33.0   \n",
       "Ayamonte                                     1274.0                     12.0   \n",
       "Alosno                                        162.0                      1.0   \n",
       "Encinasola                                    117.0                      1.0   \n",
       "Rosal de la Frontera                           27.0                      2.0   \n",
       "San Silvestre de Guzmán                        15.0                      1.0   \n",
       "Trigueros                                     266.0                     13.0   \n",
       "Villablanca                                   179.0                      1.0   \n",
       "\n",
       "Medida                             Confirmados PDIA 14 días  Población  \\\n",
       "Lugar de residencia                                                      \n",
       "Rociana del Condado                                    47.0     7939.0   \n",
       "Palma del Condado (La)                                 17.0    10801.0   \n",
       "Aljaraque                                              16.0    21474.0   \n",
       "Almonaster la Real                                      8.0     1788.0   \n",
       "Galaroza                                               11.0     1382.0   \n",
       "Cumbres Mayores                                        24.0     1749.0   \n",
       "Niebla                                                  6.0     4116.0   \n",
       "Aroche                                                  3.0     3054.0   \n",
       "Gibraleón                                              25.0    12737.0   \n",
       "Cartaya                                                63.0    20083.0   \n",
       "Cumbres de San Bartolomé                                5.0      376.0   \n",
       "Almonte                                               182.0    24507.0   \n",
       "Aracena                                                12.0     8255.0   \n",
       "Moguer                                                 87.0    21867.0   \n",
       "Sierra de Huelva-Andévalo Central                     109.0    67391.0   \n",
       "Huelva (capital)                                      268.0   143837.0   \n",
       "Palos de la Frontera                                   24.0    11742.0   \n",
       "Huelva                                               1166.0   513170.0   \n",
       "Condado-Campiña                                       603.0   156231.0   \n",
       "Huelva-Costa                                          439.0   289548.0   \n",
       "San Juan del Puerto                                    36.0     9411.0   \n",
       "Valverde del Camino                                    22.0    12750.0   \n",
       "Bollullos Par del Condado                              66.0    14387.0   \n",
       "Bonares                                                28.0     6060.0   \n",
       "Punta Umbría                                           24.0    15355.0   \n",
       "Lepe                                                   18.0    27880.0   \n",
       "Fuenteheridos                                           3.0      709.0   \n",
       "Cortelazor                                              3.0      299.0   \n",
       "Isla Cristina                                          31.0    21393.0   \n",
       "Beas                                                   22.0     4341.0   \n",
       "Minas de Riotinto                                       5.0     3812.0   \n",
       "Cortegana                                               6.0     4602.0   \n",
       "Lucena del Puerto                                      37.0     3261.0   \n",
       "Ayamonte                                               13.0    21104.0   \n",
       "Alosno                                                  1.0     3933.0   \n",
       "Encinasola                                              1.0     1310.0   \n",
       "Rosal de la Frontera                                    2.0     1697.0   \n",
       "San Silvestre de Guzmán                                 1.0      614.0   \n",
       "Trigueros                                              13.0     7862.0   \n",
       "Villablanca                                             1.0     2885.0   \n",
       "\n",
       "Medida                                   tasa7       tasa14  Diferencia PDIA  \\\n",
       "Lugar de residencia                                                            \n",
       "Rociana del Condado                 138.556493   592.014108              6.0   \n",
       "Palma del Condado (La)               37.033608   157.392834              1.0   \n",
       "Aljaraque                            18.627177    74.508708              1.0   \n",
       "Almonaster la Real                  111.856823   447.427293              2.0   \n",
       "Galaroza                            217.076700   795.947902              0.0   \n",
       "Cumbres Mayores                     400.228702  1372.212693              1.0   \n",
       "Niebla                               48.590865   145.772595              1.0   \n",
       "Aroche                               32.743942    98.231827              1.0   \n",
       "Gibraleón                            70.660281   196.278559              1.0   \n",
       "Cartaya                             119.504058   313.698153              7.0   \n",
       "Cumbres de San Bartolomé            531.914894  1329.787234              0.0   \n",
       "Almonte                             297.874077   742.644959             21.0   \n",
       "Aracena                              60.569352   145.366445              1.0   \n",
       "Moguer                              173.777839   397.859789             16.0   \n",
       "Sierra de Huelva-Andévalo Central    71.226128   161.742666             17.0   \n",
       "Huelva (capital)                     83.427769   186.322017             38.0   \n",
       "Palos de la Frontera                 93.680804   204.394481              2.0   \n",
       "Huelva                              105.618021   227.215153            165.0   \n",
       "Condado-Campiña                     180.501949   385.966934             87.0   \n",
       "Huelva-Costa                         72.181469   151.615622             68.0   \n",
       "San Juan del Puerto                 201.891404   382.531081              4.0   \n",
       "Valverde del Camino                  94.117647   172.549020              6.0   \n",
       "Bollullos Par del Condado           250.225898   458.747480             13.0   \n",
       "Bonares                             264.026403   462.046205              8.0   \n",
       "Punta Umbría                         91.175513   156.300879              3.0   \n",
       "Lepe                                 39.454806    64.562410              3.0   \n",
       "Fuenteheridos                       282.087447   423.131171              0.0   \n",
       "Cortelazor                          668.896321  1003.344482              2.0   \n",
       "Isla Cristina                        98.162950   144.907213              8.0   \n",
       "Beas                                391.614835   506.795669              2.0   \n",
       "Minas de Riotinto                   104.931794   131.164743              0.0   \n",
       "Cortegana                           108.648414   130.378096              1.0   \n",
       "Lucena del Puerto                  1011.959522  1134.621282              8.0   \n",
       "Ayamonte                             56.861259    61.599697              7.0   \n",
       "Alosno                               25.425884    25.425884              0.0   \n",
       "Encinasola                           76.335878    76.335878              0.0   \n",
       "Rosal de la Frontera                117.855038   117.855038              1.0   \n",
       "San Silvestre de Guzmán             162.866450   162.866450              0.0   \n",
       "Trigueros                           165.352328   165.352328              4.0   \n",
       "Villablanca                          34.662045    34.662045              0.0   \n",
       "\n",
       "Medida                                 7/14  \n",
       "Lugar de residencia                          \n",
       "Rociana del Condado                0.234043  \n",
       "Palma del Condado (La)             0.235294  \n",
       "Aljaraque                          0.250000  \n",
       "Almonaster la Real                 0.250000  \n",
       "Galaroza                           0.272727  \n",
       "Cumbres Mayores                    0.291667  \n",
       "Niebla                             0.333333  \n",
       "Aroche                             0.333333  \n",
       "Gibraleón                          0.360000  \n",
       "Cartaya                            0.380952  \n",
       "Cumbres de San Bartolomé           0.400000  \n",
       "Almonte                            0.401099  \n",
       "Aracena                            0.416667  \n",
       "Moguer                             0.436782  \n",
       "Sierra de Huelva-Andévalo Central  0.440367  \n",
       "Huelva (capital)                   0.447761  \n",
       "Palos de la Frontera               0.458333  \n",
       "Huelva                             0.464837  \n",
       "Condado-Campiña                    0.467662  \n",
       "Huelva-Costa                       0.476082  \n",
       "San Juan del Puerto                0.527778  \n",
       "Valverde del Camino                0.545455  \n",
       "Bollullos Par del Condado          0.545455  \n",
       "Bonares                            0.571429  \n",
       "Punta Umbría                       0.583333  \n",
       "Lepe                               0.611111  \n",
       "Fuenteheridos                      0.666667  \n",
       "Cortelazor                         0.666667  \n",
       "Isla Cristina                      0.677419  \n",
       "Beas                               0.772727  \n",
       "Minas de Riotinto                  0.800000  \n",
       "Cortegana                          0.833333  \n",
       "Lucena del Puerto                  0.891892  \n",
       "Ayamonte                           0.923077  \n",
       "Alosno                             1.000000  \n",
       "Encinasola                         1.000000  \n",
       "Rosal de la Frontera               1.000000  \n",
       "San Silvestre de Guzmán            1.000000  \n",
       "Trigueros                          1.000000  \n",
       "Villablanca                        1.000000  "
      ],
      "text/html": "<div>\n<style scoped>\n    .dataframe tbody tr th:only-of-type {\n        vertical-align: middle;\n    }\n\n    .dataframe tbody tr th {\n        vertical-align: top;\n    }\n\n    .dataframe thead th {\n        text-align: right;\n    }\n</style>\n<table border=\"1\" class=\"dataframe\">\n  <thead>\n    <tr style=\"text-align: right;\">\n      <th>Medida</th>\n      <th>Confirmados PDIA</th>\n      <th>Confirmados PDIA 7 días</th>\n      <th>Confirmados PDIA 14 días</th>\n      <th>Población</th>\n      <th>tasa7</th>\n      <th>tasa14</th>\n      <th>Diferencia PDIA</th>\n      <th>7/14</th>\n    </tr>\n    <tr>\n      <th>Lugar de residencia</th>\n      <th></th>\n      <th></th>\n      <th></th>\n      <th></th>\n      <th></th>\n      <th></th>\n      <th></th>\n      <th></th>\n    </tr>\n  </thead>\n  <tbody>\n    <tr>\n      <th>Rociana del Condado</th>\n      <td>503.0</td>\n      <td>11.0</td>\n      <td>47.0</td>\n      <td>7939.0</td>\n      <td>138.556493</td>\n      <td>592.014108</td>\n      <td>6.0</td>\n      <td>0.234043</td>\n    </tr>\n    <tr>\n      <th>Palma del Condado (La)</th>\n      <td>1030.0</td>\n      <td>4.0</td>\n      <td>17.0</td>\n      <td>10801.0</td>\n      <td>37.033608</td>\n      <td>157.392834</td>\n      <td>1.0</td>\n      <td>0.235294</td>\n    </tr>\n    <tr>\n      <th>Aljaraque</th>\n      <td>992.0</td>\n      <td>4.0</td>\n      <td>16.0</td>\n      <td>21474.0</td>\n      <td>18.627177</td>\n      <td>74.508708</td>\n      <td>1.0</td>\n      <td>0.250000</td>\n    </tr>\n    <tr>\n      <th>Almonaster la Real</th>\n      <td>65.0</td>\n      <td>2.0</td>\n      <td>8.0</td>\n      <td>1788.0</td>\n      <td>111.856823</td>\n      <td>447.427293</td>\n      <td>2.0</td>\n      <td>0.250000</td>\n    </tr>\n    <tr>\n      <th>Galaroza</th>\n      <td>27.0</td>\n      <td>3.0</td>\n      <td>11.0</td>\n      <td>1382.0</td>\n      <td>217.076700</td>\n      <td>795.947902</td>\n      <td>0.0</td>\n      <td>0.272727</td>\n    </tr>\n    <tr>\n      <th>Cumbres Mayores</th>\n      <td>49.0</td>\n      <td>7.0</td>\n      <td>24.0</td>\n      <td>1749.0</td>\n      <td>400.228702</td>\n      <td>1372.212693</td>\n      <td>1.0</td>\n      <td>0.291667</td>\n    </tr>\n    <tr>\n      <th>Niebla</th>\n      <td>193.0</td>\n      <td>2.0</td>\n      <td>6.0</td>\n      <td>4116.0</td>\n      <td>48.590865</td>\n      <td>145.772595</td>\n      <td>1.0</td>\n      <td>0.333333</td>\n    </tr>\n    <tr>\n      <th>Aroche</th>\n      <td>90.0</td>\n      <td>1.0</td>\n      <td>3.0</td>\n      <td>3054.0</td>\n      <td>32.743942</td>\n      <td>98.231827</td>\n      <td>1.0</td>\n      <td>0.333333</td>\n    </tr>\n    <tr>\n      <th>Gibraleón</th>\n      <td>582.0</td>\n      <td>9.0</td>\n      <td>25.0</td>\n      <td>12737.0</td>\n      <td>70.660281</td>\n      <td>196.278559</td>\n      <td>1.0</td>\n      <td>0.360000</td>\n    </tr>\n    <tr>\n      <th>Cartaya</th>\n      <td>1260.0</td>\n      <td>24.0</td>\n      <td>63.0</td>\n      <td>20083.0</td>\n      <td>119.504058</td>\n      <td>313.698153</td>\n      <td>7.0</td>\n      <td>0.380952</td>\n    </tr>\n    <tr>\n      <th>Cumbres de San Bartolomé</th>\n      <td>10.0</td>\n      <td>2.0</td>\n      <td>5.0</td>\n      <td>376.0</td>\n      <td>531.914894</td>\n      <td>1329.787234</td>\n      <td>0.0</td>\n      <td>0.400000</td>\n    </tr>\n    <tr>\n      <th>Almonte</th>\n      <td>1489.0</td>\n      <td>73.0</td>\n      <td>182.0</td>\n      <td>24507.0</td>\n      <td>297.874077</td>\n      <td>742.644959</td>\n      <td>21.0</td>\n      <td>0.401099</td>\n    </tr>\n    <tr>\n      <th>Aracena</th>\n      <td>507.0</td>\n      <td>5.0</td>\n      <td>12.0</td>\n      <td>8255.0</td>\n      <td>60.569352</td>\n      <td>145.366445</td>\n      <td>1.0</td>\n      <td>0.416667</td>\n    </tr>\n    <tr>\n      <th>Moguer</th>\n      <td>1088.0</td>\n      <td>38.0</td>\n      <td>87.0</td>\n      <td>21867.0</td>\n      <td>173.777839</td>\n      <td>397.859789</td>\n      <td>16.0</td>\n      <td>0.436782</td>\n    </tr>\n    <tr>\n      <th>Sierra de Huelva-Andévalo Central</th>\n      <td>2531.0</td>\n      <td>48.0</td>\n      <td>109.0</td>\n      <td>67391.0</td>\n      <td>71.226128</td>\n      <td>161.742666</td>\n      <td>17.0</td>\n      <td>0.440367</td>\n    </tr>\n    <tr>\n      <th>Huelva (capital)</th>\n      <td>7349.0</td>\n      <td>120.0</td>\n      <td>268.0</td>\n      <td>143837.0</td>\n      <td>83.427769</td>\n      <td>186.322017</td>\n      <td>38.0</td>\n      <td>0.447761</td>\n    </tr>\n    <tr>\n      <th>Palos de la Frontera</th>\n      <td>575.0</td>\n      <td>11.0</td>\n      <td>24.0</td>\n      <td>11742.0</td>\n      <td>93.680804</td>\n      <td>204.394481</td>\n      <td>2.0</td>\n      <td>0.458333</td>\n    </tr>\n    <tr>\n      <th>Huelva</th>\n      <td>28367.0</td>\n      <td>542.0</td>\n      <td>1166.0</td>\n      <td>513170.0</td>\n      <td>105.618021</td>\n      <td>227.215153</td>\n      <td>165.0</td>\n      <td>0.464837</td>\n    </tr>\n    <tr>\n      <th>Condado-Campiña</th>\n      <td>8890.0</td>\n      <td>282.0</td>\n      <td>603.0</td>\n      <td>156231.0</td>\n      <td>180.501949</td>\n      <td>385.966934</td>\n      <td>87.0</td>\n      <td>0.467662</td>\n    </tr>\n    <tr>\n      <th>Huelva-Costa</th>\n      <td>16556.0</td>\n      <td>209.0</td>\n      <td>439.0</td>\n      <td>289548.0</td>\n      <td>72.181469</td>\n      <td>151.615622</td>\n      <td>68.0</td>\n      <td>0.476082</td>\n    </tr>\n    <tr>\n      <th>San Juan del Puerto</th>\n      <td>444.0</td>\n      <td>19.0</td>\n      <td>36.0</td>\n      <td>9411.0</td>\n      <td>201.891404</td>\n      <td>382.531081</td>\n      <td>4.0</td>\n      <td>0.527778</td>\n    </tr>\n    <tr>\n      <th>Valverde del Camino</th>\n      <td>471.0</td>\n      <td>12.0</td>\n      <td>22.0</td>\n      <td>12750.0</td>\n      <td>94.117647</td>\n      <td>172.549020</td>\n      <td>6.0</td>\n      <td>0.545455</td>\n    </tr>\n    <tr>\n      <th>Bollullos Par del Condado</th>\n      <td>799.0</td>\n      <td>36.0</td>\n      <td>66.0</td>\n      <td>14387.0</td>\n      <td>250.225898</td>\n      <td>458.747480</td>\n      <td>13.0</td>\n      <td>0.545455</td>\n    </tr>\n    <tr>\n      <th>Bonares</th>\n      <td>252.0</td>\n      <td>16.0</td>\n      <td>28.0</td>\n      <td>6060.0</td>\n      <td>264.026403</td>\n      <td>462.046205</td>\n      <td>8.0</td>\n      <td>0.571429</td>\n    </tr>\n    <tr>\n      <th>Punta Umbría</th>\n      <td>708.0</td>\n      <td>14.0</td>\n      <td>24.0</td>\n      <td>15355.0</td>\n      <td>91.175513</td>\n      <td>156.300879</td>\n      <td>3.0</td>\n      <td>0.583333</td>\n    </tr>\n    <tr>\n      <th>Lepe</th>\n      <td>2076.0</td>\n      <td>11.0</td>\n      <td>18.0</td>\n      <td>27880.0</td>\n      <td>39.454806</td>\n      <td>64.562410</td>\n      <td>3.0</td>\n      <td>0.611111</td>\n    </tr>\n    <tr>\n      <th>Fuenteheridos</th>\n      <td>8.0</td>\n      <td>2.0</td>\n      <td>3.0</td>\n      <td>709.0</td>\n      <td>282.087447</td>\n      <td>423.131171</td>\n      <td>0.0</td>\n      <td>0.666667</td>\n    </tr>\n    <tr>\n      <th>Cortelazor</th>\n      <td>7.0</td>\n      <td>2.0</td>\n      <td>3.0</td>\n      <td>299.0</td>\n      <td>668.896321</td>\n      <td>1003.344482</td>\n      <td>2.0</td>\n      <td>0.666667</td>\n    </tr>\n    <tr>\n      <th>Isla Cristina</th>\n      <td>2055.0</td>\n      <td>21.0</td>\n      <td>31.0</td>\n      <td>21393.0</td>\n      <td>98.162950</td>\n      <td>144.907213</td>\n      <td>8.0</td>\n      <td>0.677419</td>\n    </tr>\n    <tr>\n      <th>Beas</th>\n      <td>194.0</td>\n      <td>17.0</td>\n      <td>22.0</td>\n      <td>4341.0</td>\n      <td>391.614835</td>\n      <td>506.795669</td>\n      <td>2.0</td>\n      <td>0.772727</td>\n    </tr>\n    <tr>\n      <th>Minas de Riotinto</th>\n      <td>111.0</td>\n      <td>4.0</td>\n      <td>5.0</td>\n      <td>3812.0</td>\n      <td>104.931794</td>\n      <td>131.164743</td>\n      <td>0.0</td>\n      <td>0.800000</td>\n    </tr>\n    <tr>\n      <th>Cortegana</th>\n      <td>198.0</td>\n      <td>5.0</td>\n      <td>6.0</td>\n      <td>4602.0</td>\n      <td>108.648414</td>\n      <td>130.378096</td>\n      <td>1.0</td>\n      <td>0.833333</td>\n    </tr>\n    <tr>\n      <th>Lucena del Puerto</th>\n      <td>224.0</td>\n      <td>33.0</td>\n      <td>37.0</td>\n      <td>3261.0</td>\n      <td>1011.959522</td>\n      <td>1134.621282</td>\n      <td>8.0</td>\n      <td>0.891892</td>\n    </tr>\n    <tr>\n      <th>Ayamonte</th>\n      <td>1274.0</td>\n      <td>12.0</td>\n      <td>13.0</td>\n      <td>21104.0</td>\n      <td>56.861259</td>\n      <td>61.599697</td>\n      <td>7.0</td>\n      <td>0.923077</td>\n    </tr>\n    <tr>\n      <th>Alosno</th>\n      <td>162.0</td>\n      <td>1.0</td>\n      <td>1.0</td>\n      <td>3933.0</td>\n      <td>25.425884</td>\n      <td>25.425884</td>\n      <td>0.0</td>\n      <td>1.000000</td>\n    </tr>\n    <tr>\n      <th>Encinasola</th>\n      <td>117.0</td>\n      <td>1.0</td>\n      <td>1.0</td>\n      <td>1310.0</td>\n      <td>76.335878</td>\n      <td>76.335878</td>\n      <td>0.0</td>\n      <td>1.000000</td>\n    </tr>\n    <tr>\n      <th>Rosal de la Frontera</th>\n      <td>27.0</td>\n      <td>2.0</td>\n      <td>2.0</td>\n      <td>1697.0</td>\n      <td>117.855038</td>\n      <td>117.855038</td>\n      <td>1.0</td>\n      <td>1.000000</td>\n    </tr>\n    <tr>\n      <th>San Silvestre de Guzmán</th>\n      <td>15.0</td>\n      <td>1.0</td>\n      <td>1.0</td>\n      <td>614.0</td>\n      <td>162.866450</td>\n      <td>162.866450</td>\n      <td>0.0</td>\n      <td>1.000000</td>\n    </tr>\n    <tr>\n      <th>Trigueros</th>\n      <td>266.0</td>\n      <td>13.0</td>\n      <td>13.0</td>\n      <td>7862.0</td>\n      <td>165.352328</td>\n      <td>165.352328</td>\n      <td>4.0</td>\n      <td>1.000000</td>\n    </tr>\n    <tr>\n      <th>Villablanca</th>\n      <td>179.0</td>\n      <td>1.0</td>\n      <td>1.0</td>\n      <td>2885.0</td>\n      <td>34.662045</td>\n      <td>34.662045</td>\n      <td>0.0</td>\n      <td>1.000000</td>\n    </tr>\n  </tbody>\n</table>\n</div>"
     },
     "metadata": {},
     "execution_count": 18
    }
   ],
   "source": [
    "# Peso de la tasa de la última semana en relación con la tasa a 14 días \n",
    "# Mejor cuanto menor. Valor 1 significa que no había casos antes de 7 días.\n",
    "tabla['7/14'] = tabla['tasa7'] / tabla['tasa14']\n",
    "tabla.fillna(0).sort_values('7/14', ascending=True)"
   ]
  },
  {
   "cell_type": "code",
   "execution_count": null,
   "metadata": {},
   "outputs": [],
   "source": []
  }
 ]
}