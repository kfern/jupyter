{
 "metadata": {
  "language_info": {
   "codemirror_mode": {
    "name": "ipython",
    "version": 3
   },
   "file_extension": ".py",
   "mimetype": "text/x-python",
   "name": "python",
   "nbconvert_exporter": "python",
   "pygments_lexer": "ipython3",
   "version": "3.8.6-final"
  },
  "orig_nbformat": 2,
  "kernelspec": {
   "name": "python3",
   "display_name": "Python 3",
   "language": "python"
  }
 },
 "nbformat": 4,
 "nbformat_minor": 2,
 "cells": [
  {
   "cell_type": "code",
   "execution_count": 1,
   "metadata": {},
   "outputs": [],
   "source": [
    "import pandas as pd\n",
    "pd.set_option('display.max_rows', None) # Print all rows"
   ]
  },
  {
   "cell_type": "code",
   "execution_count": 2,
   "metadata": {},
   "outputs": [],
   "source": [
    "# FIX SSL: CERTIFICATE_VERIFY_FAILED with Python3\n",
    "# https://stackoverflow.com/a/49174340\n",
    "import ssl\n",
    "\n",
    "ssl._create_default_https_context = ssl._create_unverified_context"
   ]
  },
  {
   "cell_type": "code",
   "execution_count": 3,
   "metadata": {},
   "outputs": [],
   "source": [
    "url = 'https://www.juntadeandalucia.es/institutodeestadisticaycartografia/badea/stpivot/stpivot/Print?cube=013d884c-cfc5-4c21-9e78-e26225682afd&type=3&foto=si&ejecutaDesde=&codConsulta=38668&consTipoVisua=JP'\n",
    "fields = ['Lugar de residencia', 'Medida', 'Valor']\n",
    "df = pd.read_csv(url, delimiter=';', usecols=fields, decimal=',')"
   ]
  },
  {
   "cell_type": "code",
   "execution_count": 4,
   "metadata": {},
   "outputs": [
    {
     "output_type": "execute_result",
     "data": {
      "text/plain": [
       "  Lugar de residencia                    Medida              Valor\n",
       "0              Huelva                 Población             513170\n",
       "1              Huelva          Confirmados PDIA              25229\n",
       "2              Huelva  Confirmados PDIA 14 días                471\n",
       "3              Huelva         Tasa PDIA 14 días  91,78245026014771\n",
       "4              Huelva   Confirmados PDIA 7 días                244\n",
       "5              Huelva        Total Confirmados               25429\n",
       "6              Huelva                   Curados              20276\n",
       "7              Huelva                Fallecidos                349"
      ],
      "text/html": "<div>\n<style scoped>\n    .dataframe tbody tr th:only-of-type {\n        vertical-align: middle;\n    }\n\n    .dataframe tbody tr th {\n        vertical-align: top;\n    }\n\n    .dataframe thead th {\n        text-align: right;\n    }\n</style>\n<table border=\"1\" class=\"dataframe\">\n  <thead>\n    <tr style=\"text-align: right;\">\n      <th></th>\n      <th>Lugar de residencia</th>\n      <th>Medida</th>\n      <th>Valor</th>\n    </tr>\n  </thead>\n  <tbody>\n    <tr>\n      <th>0</th>\n      <td>Huelva</td>\n      <td>Población</td>\n      <td>513170</td>\n    </tr>\n    <tr>\n      <th>1</th>\n      <td>Huelva</td>\n      <td>Confirmados PDIA</td>\n      <td>25229</td>\n    </tr>\n    <tr>\n      <th>2</th>\n      <td>Huelva</td>\n      <td>Confirmados PDIA 14 días</td>\n      <td>471</td>\n    </tr>\n    <tr>\n      <th>3</th>\n      <td>Huelva</td>\n      <td>Tasa PDIA 14 días</td>\n      <td>91,78245026014771</td>\n    </tr>\n    <tr>\n      <th>4</th>\n      <td>Huelva</td>\n      <td>Confirmados PDIA 7 días</td>\n      <td>244</td>\n    </tr>\n    <tr>\n      <th>5</th>\n      <td>Huelva</td>\n      <td>Total Confirmados</td>\n      <td>25429</td>\n    </tr>\n    <tr>\n      <th>6</th>\n      <td>Huelva</td>\n      <td>Curados</td>\n      <td>20276</td>\n    </tr>\n    <tr>\n      <th>7</th>\n      <td>Huelva</td>\n      <td>Fallecidos</td>\n      <td>349</td>\n    </tr>\n  </tbody>\n</table>\n</div>"
     },
     "metadata": {},
     "execution_count": 4
    }
   ],
   "source": [
    "df[df['Lugar de residencia'] == 'Huelva']"
   ]
  },
  {
   "cell_type": "code",
   "execution_count": 5,
   "metadata": {},
   "outputs": [],
   "source": [
    "df['Valor'] = pd.to_numeric(df['Valor'],errors='coerce')"
   ]
  },
  {
   "cell_type": "code",
   "execution_count": 6,
   "metadata": {},
   "outputs": [],
   "source": [
    "dfAnterior = pd.read_csv('covid_huelva.csv', index_col='Lugar de residencia')"
   ]
  },
  {
   "cell_type": "code",
   "execution_count": 7,
   "metadata": {
    "tags": []
   },
   "outputs": [
    {
     "output_type": "stream",
     "name": "stdout",
     "text": [
      "Confirmados PCR en la provincia de Huelva:  25229.0\n",
      "<ipython-input-7-31b732756b19>:2: UserWarning: Boolean Series key will be reindexed to match DataFrame index.\n",
      "  p = df[df['Lugar de residencia'] == 'Huelva'][df['Medida'] == 'Confirmados PDIA']['Valor'].values[0]\n"
     ]
    }
   ],
   "source": [
    "# Confirmados PCR provincia Huelva\n",
    "p = df[df['Lugar de residencia'] == 'Huelva'][df['Medida'] == 'Confirmados PDIA']['Valor'].values[0]\n",
    "print('Confirmados PCR en la provincia de Huelva: ', p)"
   ]
  },
  {
   "cell_type": "code",
   "execution_count": 8,
   "metadata": {
    "tags": []
   },
   "outputs": [
    {
     "output_type": "stream",
     "name": "stdout",
     "text": [
      "Confirmados PCR en Huelva capital:  6656.0\n",
      "<ipython-input-8-e81bfb40e710>:2: UserWarning: Boolean Series key will be reindexed to match DataFrame index.\n",
      "  c = df[df['Lugar de residencia'] == 'Huelva (capital)'][df['Medida'] == 'Confirmados PDIA']['Valor'].values[0]\n"
     ]
    }
   ],
   "source": [
    "# Confirmados PCR Huelva capitalpd\n",
    "c = df[df['Lugar de residencia'] == 'Huelva (capital)'][df['Medida'] == 'Confirmados PDIA']['Valor'].values[0]\n",
    "print('Confirmados PCR en Huelva capital: ', c)"
   ]
  },
  {
   "cell_type": "code",
   "execution_count": 9,
   "metadata": {
    "tags": []
   },
   "outputs": [
    {
     "output_type": "stream",
     "name": "stderr",
     "text": [
      "<ipython-input-9-f09dd2050cc1>:1: UserWarning: Boolean Series key will be reindexed to match DataFrame index.\n  c7 = df[df['Lugar de residencia'] == 'Huelva (capital)'][df['Medida'] == 'Confirmados PDIA 7 días']['Valor'].values[0]\n<ipython-input-9-f09dd2050cc1>:2: UserWarning: Boolean Series key will be reindexed to match DataFrame index.\n  c14 = df[df['Lugar de residencia'] == 'Huelva (capital)'][df['Medida'] == 'Confirmados PDIA 14 días']['Valor'].values[0]\n<ipython-input-9-f09dd2050cc1>:3: UserWarning: Boolean Series key will be reindexed to match DataFrame index.\n  p = df[df['Lugar de residencia'] == 'Huelva (capital)'][df['Medida'] == 'Población']['Valor'].values[0]\n"
     ]
    }
   ],
   "source": [
    "c7 = df[df['Lugar de residencia'] == 'Huelva (capital)'][df['Medida'] == 'Confirmados PDIA 7 días']['Valor'].values[0]\n",
    "c14 = df[df['Lugar de residencia'] == 'Huelva (capital)'][df['Medida'] == 'Confirmados PDIA 14 días']['Valor'].values[0]\n",
    "p = df[df['Lugar de residencia'] == 'Huelva (capital)'][df['Medida'] == 'Población']['Valor'].values[0]"
   ]
  },
  {
   "cell_type": "code",
   "execution_count": 10,
   "metadata": {
    "tags": []
   },
   "outputs": [
    {
     "output_type": "stream",
     "name": "stdout",
     "text": [
      "Huelva (capital)\n\nUn positivo PCR cada 5137 personas en los últimos 7 días \n\nUn positivo PCR cada 2115 personas en los últimos 14 días\n"
     ]
    }
   ],
   "source": [
    "print('Huelva (capital)\\n')\n",
    "#print('Confirmados PCR 7 días x 1,000 habitantes: ', f\"{c7/(p/1000):.5f}\")\n",
    "print('Un positivo PCR cada', f\"{p/c7:.0f}\", 'personas en los últimos 7 días', '\\n')\n",
    "#print('Confirmados PCR 14 días x 1,000 habitantes: ', f\"{c14/(p/1000):.5f}\")\n",
    "print('Un positivo PCR cada', f\"{p/c14:.0f}\", 'personas en los últimos 14 días')"
   ]
  },
  {
   "cell_type": "code",
   "execution_count": 11,
   "metadata": {},
   "outputs": [],
   "source": [
    "filtro = ((df['Medida'] == 'Confirmados PDIA')| (df['Medida'] == 'Confirmados PDIA 7 días') | (df['Medida'] == 'Población' ) | (df['Medida'] == 'Confirmados PDIA 14 días')) & (df['Valor'] > 0)\n",
    "tabla = pd.pivot_table(df.loc[filtro], values='Valor', index='Lugar de residencia', columns='Medida').dropna()"
   ]
  },
  {
   "cell_type": "code",
   "execution_count": 12,
   "metadata": {},
   "outputs": [],
   "source": [
    "# Reorder columns\n",
    "tabla = tabla[['Confirmados PDIA', 'Confirmados PDIA 7 días', 'Confirmados PDIA 14 días', 'Población']]"
   ]
  },
  {
   "cell_type": "code",
   "execution_count": 13,
   "metadata": {},
   "outputs": [],
   "source": [
    "tabla['tasa7'] = tabla['Confirmados PDIA 7 días']/tabla['Población']*100000\n",
    "tabla['tasa14'] = tabla['Confirmados PDIA 14 días']/tabla['Población']*100000"
   ]
  },
  {
   "cell_type": "code",
   "execution_count": 14,
   "metadata": {},
   "outputs": [],
   "source": [
    "tabla['Diferencia PDIA'] = tabla['Confirmados PDIA'] - dfAnterior['Confirmados PDIA']"
   ]
  },
  {
   "cell_type": "code",
   "execution_count": 15,
   "metadata": {},
   "outputs": [
    {
     "output_type": "execute_result",
     "data": {
      "text/plain": [
       "Medida                             Confirmados PDIA  Confirmados PDIA 7 días  \\\n",
       "Lugar de residencia                                                            \n",
       "Huelva                                      25229.0                    244.0   \n",
       "Condado-Campiña                              7204.0                    143.0   \n",
       "Rociana del Condado                           341.0                     20.0   \n",
       "Bollullos Par del Condado                     646.0                     15.0   \n",
       "Niebla                                        165.0                      7.0   \n",
       "Huelva (capital)                             6656.0                     28.0   \n",
       "Huelva-Costa                                15295.0                     89.0   \n",
       "Gibraleón                                     535.0                     13.0   \n",
       "Sierra de Huelva-Andévalo Central            2312.0                      4.0   \n",
       "Valverde del Camino                           426.0                      3.0   \n",
       "San Juan del Puerto                           368.0                      2.0   \n",
       "\n",
       "Medida                             Confirmados PDIA 14 días  Población  \\\n",
       "Lugar de residencia                                                      \n",
       "Huelva                                                471.0   513170.0   \n",
       "Condado-Campiña                                       258.0   156231.0   \n",
       "Rociana del Condado                                    29.0     7939.0   \n",
       "Bollullos Par del Condado                              27.0    14387.0   \n",
       "Niebla                                                  8.0     4116.0   \n",
       "Huelva (capital)                                       68.0   143837.0   \n",
       "Huelva-Costa                                          189.0   289548.0   \n",
       "Gibraleón                                              22.0    12737.0   \n",
       "Sierra de Huelva-Andévalo Central                      13.0    67391.0   \n",
       "Valverde del Camino                                    10.0    12750.0   \n",
       "San Juan del Puerto                                     4.0     9411.0   \n",
       "\n",
       "Medida                                  tasa7      tasa14  Diferencia PDIA  \n",
       "Lugar de residencia                                                         \n",
       "Huelva                              47.547596   91.782450             20.0  \n",
       "Condado-Campiña                     91.531130  165.140081             16.0  \n",
       "Rociana del Condado                251.920897  365.285300              8.0  \n",
       "Bollullos Par del Condado          104.260791  187.669424              4.0  \n",
       "Niebla                             170.068027  194.363460              4.0  \n",
       "Huelva (capital)                    19.466479   47.275736              2.0  \n",
       "Huelva-Costa                        30.737563   65.274151              2.0  \n",
       "Gibraleón                          102.064850  172.725132              1.0  \n",
       "Sierra de Huelva-Andévalo Central    5.935511   19.290410              1.0  \n",
       "Valverde del Camino                 23.529412   78.431373              1.0  \n",
       "San Juan del Puerto                 21.251727   42.503453             -1.0  "
      ],
      "text/html": "<div>\n<style scoped>\n    .dataframe tbody tr th:only-of-type {\n        vertical-align: middle;\n    }\n\n    .dataframe tbody tr th {\n        vertical-align: top;\n    }\n\n    .dataframe thead th {\n        text-align: right;\n    }\n</style>\n<table border=\"1\" class=\"dataframe\">\n  <thead>\n    <tr style=\"text-align: right;\">\n      <th>Medida</th>\n      <th>Confirmados PDIA</th>\n      <th>Confirmados PDIA 7 días</th>\n      <th>Confirmados PDIA 14 días</th>\n      <th>Población</th>\n      <th>tasa7</th>\n      <th>tasa14</th>\n      <th>Diferencia PDIA</th>\n    </tr>\n    <tr>\n      <th>Lugar de residencia</th>\n      <th></th>\n      <th></th>\n      <th></th>\n      <th></th>\n      <th></th>\n      <th></th>\n      <th></th>\n    </tr>\n  </thead>\n  <tbody>\n    <tr>\n      <th>Huelva</th>\n      <td>25229.0</td>\n      <td>244.0</td>\n      <td>471.0</td>\n      <td>513170.0</td>\n      <td>47.547596</td>\n      <td>91.782450</td>\n      <td>20.0</td>\n    </tr>\n    <tr>\n      <th>Condado-Campiña</th>\n      <td>7204.0</td>\n      <td>143.0</td>\n      <td>258.0</td>\n      <td>156231.0</td>\n      <td>91.531130</td>\n      <td>165.140081</td>\n      <td>16.0</td>\n    </tr>\n    <tr>\n      <th>Rociana del Condado</th>\n      <td>341.0</td>\n      <td>20.0</td>\n      <td>29.0</td>\n      <td>7939.0</td>\n      <td>251.920897</td>\n      <td>365.285300</td>\n      <td>8.0</td>\n    </tr>\n    <tr>\n      <th>Bollullos Par del Condado</th>\n      <td>646.0</td>\n      <td>15.0</td>\n      <td>27.0</td>\n      <td>14387.0</td>\n      <td>104.260791</td>\n      <td>187.669424</td>\n      <td>4.0</td>\n    </tr>\n    <tr>\n      <th>Niebla</th>\n      <td>165.0</td>\n      <td>7.0</td>\n      <td>8.0</td>\n      <td>4116.0</td>\n      <td>170.068027</td>\n      <td>194.363460</td>\n      <td>4.0</td>\n    </tr>\n    <tr>\n      <th>Huelva (capital)</th>\n      <td>6656.0</td>\n      <td>28.0</td>\n      <td>68.0</td>\n      <td>143837.0</td>\n      <td>19.466479</td>\n      <td>47.275736</td>\n      <td>2.0</td>\n    </tr>\n    <tr>\n      <th>Huelva-Costa</th>\n      <td>15295.0</td>\n      <td>89.0</td>\n      <td>189.0</td>\n      <td>289548.0</td>\n      <td>30.737563</td>\n      <td>65.274151</td>\n      <td>2.0</td>\n    </tr>\n    <tr>\n      <th>Gibraleón</th>\n      <td>535.0</td>\n      <td>13.0</td>\n      <td>22.0</td>\n      <td>12737.0</td>\n      <td>102.064850</td>\n      <td>172.725132</td>\n      <td>1.0</td>\n    </tr>\n    <tr>\n      <th>Sierra de Huelva-Andévalo Central</th>\n      <td>2312.0</td>\n      <td>4.0</td>\n      <td>13.0</td>\n      <td>67391.0</td>\n      <td>5.935511</td>\n      <td>19.290410</td>\n      <td>1.0</td>\n    </tr>\n    <tr>\n      <th>Valverde del Camino</th>\n      <td>426.0</td>\n      <td>3.0</td>\n      <td>10.0</td>\n      <td>12750.0</td>\n      <td>23.529412</td>\n      <td>78.431373</td>\n      <td>1.0</td>\n    </tr>\n    <tr>\n      <th>San Juan del Puerto</th>\n      <td>368.0</td>\n      <td>2.0</td>\n      <td>4.0</td>\n      <td>9411.0</td>\n      <td>21.251727</td>\n      <td>42.503453</td>\n      <td>-1.0</td>\n    </tr>\n  </tbody>\n</table>\n</div>"
     },
     "metadata": {},
     "execution_count": 15
    }
   ],
   "source": [
    "# Nuevos casos desde la última captura\n",
    "tabla[tabla['Diferencia PDIA'] != 0].sort_values('Diferencia PDIA', ascending=False)"
   ]
  },
  {
   "cell_type": "code",
   "execution_count": 16,
   "metadata": {},
   "outputs": [],
   "source": [
    "if tabla[tabla['Diferencia PDIA'] != 0]['Diferencia PDIA'].sum() != 0:\n",
    "  # Save to csv\n",
    "  tabla.to_csv('covid_huelva.csv', encoding='utf-8', header=True, index=True)  "
   ]
  },
  {
   "cell_type": "code",
   "execution_count": 17,
   "metadata": {},
   "outputs": [
    {
     "output_type": "execute_result",
     "data": {
      "text/plain": [
       "Medida                             Confirmados PDIA  Confirmados PDIA 7 días  \\\n",
       "Lugar de residencia                                                            \n",
       "Alosno                                        145.0                     20.0   \n",
       "Villalba del Alcor                            459.0                      4.0   \n",
       "Rociana del Condado                           341.0                     20.0   \n",
       "Puebla de Guzmán                              110.0                      2.0   \n",
       "San Bartolomé de la Torre                     216.0                      6.0   \n",
       "Almonte                                       955.0                     53.0   \n",
       "Niebla                                        165.0                      7.0   \n",
       "Bollullos Par del Condado                     646.0                     15.0   \n",
       "Gibraleón                                     535.0                     13.0   \n",
       "Condado-Campiña                              7204.0                    143.0   \n",
       "Cartaya                                       990.0                     17.0   \n",
       "Moguer                                        862.0                     14.0   \n",
       "Palos de la Frontera                          465.0                      4.0   \n",
       "Huelva                                      25229.0                    244.0   \n",
       "Paterna del Campo                             115.0                      3.0   \n",
       "Ayamonte                                     1237.0                      5.0   \n",
       "Valverde del Camino                           426.0                      3.0   \n",
       "Isla Cristina                                2006.0                      7.0   \n",
       "Huelva-Costa                                15295.0                     89.0   \n",
       "Lepe                                         2011.0                      6.0   \n",
       "Huelva (capital)                             6656.0                     28.0   \n",
       "Beas                                          164.0                      1.0   \n",
       "Escacena del Campo                            141.0                      1.0   \n",
       "San Juan del Puerto                           368.0                      2.0   \n",
       "Sierra de Huelva-Andévalo Central            2312.0                      4.0   \n",
       "Aljaraque                                     929.0                      2.0   \n",
       "Punta Umbría                                  660.0                      2.0   \n",
       "Aracena                                       451.0                      1.0   \n",
       "\n",
       "Medida                             Confirmados PDIA 14 días  Población  \\\n",
       "Lugar de residencia                                                      \n",
       "Alosno                                                 23.0     3933.0   \n",
       "Villalba del Alcor                                     13.0     3366.0   \n",
       "Rociana del Condado                                    29.0     7939.0   \n",
       "Puebla de Guzmán                                       11.0     3092.0   \n",
       "San Bartolomé de la Torre                              13.0     3761.0   \n",
       "Almonte                                                80.0    24507.0   \n",
       "Niebla                                                  8.0     4116.0   \n",
       "Bollullos Par del Condado                              27.0    14387.0   \n",
       "Gibraleón                                              22.0    12737.0   \n",
       "Condado-Campiña                                       258.0   156231.0   \n",
       "Cartaya                                                33.0    20083.0   \n",
       "Moguer                                                 29.0    21867.0   \n",
       "Palos de la Frontera                                   13.0    11742.0   \n",
       "Huelva                                                471.0   513170.0   \n",
       "Paterna del Campo                                       3.0     3457.0   \n",
       "Ayamonte                                               17.0    21104.0   \n",
       "Valverde del Camino                                    10.0    12750.0   \n",
       "Isla Cristina                                          14.0    21393.0   \n",
       "Huelva-Costa                                          189.0   289548.0   \n",
       "Lepe                                                   16.0    27880.0   \n",
       "Huelva (capital)                                       68.0   143837.0   \n",
       "Beas                                                    2.0     4341.0   \n",
       "Escacena del Campo                                      1.0     2287.0   \n",
       "San Juan del Puerto                                     4.0     9411.0   \n",
       "Sierra de Huelva-Andévalo Central                      13.0    67391.0   \n",
       "Aljaraque                                               4.0    21474.0   \n",
       "Punta Umbría                                            2.0    15355.0   \n",
       "Aracena                                                 1.0     8255.0   \n",
       "\n",
       "Medida                                  tasa7      tasa14  Diferencia PDIA  \n",
       "Lugar de residencia                                                         \n",
       "Alosno                             508.517671  584.795322              0.0  \n",
       "Villalba del Alcor                 118.835413  386.215092              0.0  \n",
       "Rociana del Condado                251.920897  365.285300              8.0  \n",
       "Puebla de Guzmán                    64.683053  355.756792              0.0  \n",
       "San Bartolomé de la Torre          159.532039  345.652752              0.0  \n",
       "Almonte                            216.264741  326.437344              0.0  \n",
       "Niebla                             170.068027  194.363460              4.0  \n",
       "Bollullos Par del Condado          104.260791  187.669424              4.0  \n",
       "Gibraleón                          102.064850  172.725132              1.0  \n",
       "Condado-Campiña                     91.531130  165.140081             16.0  \n",
       "Cartaya                             84.648708  164.318080              0.0  \n",
       "Moguer                              64.023414  132.619930              0.0  \n",
       "Palos de la Frontera                34.065747  110.713677              0.0  \n",
       "Huelva                              47.547596   91.782450             20.0  \n",
       "Paterna del Campo                   86.780445   86.780445              0.0  \n",
       "Ayamonte                            23.692191   80.553450              0.0  \n",
       "Valverde del Camino                 23.529412   78.431373              1.0  \n",
       "Isla Cristina                       32.720983   65.441967              0.0  \n",
       "Huelva-Costa                        30.737563   65.274151              2.0  \n",
       "Lepe                                21.520803   57.388809              0.0  \n",
       "Huelva (capital)                    19.466479   47.275736              2.0  \n",
       "Beas                                23.036167   46.072334              0.0  \n",
       "Escacena del Campo                  43.725404   43.725404              0.0  \n",
       "San Juan del Puerto                 21.251727   42.503453             -1.0  \n",
       "Sierra de Huelva-Andévalo Central    5.935511   19.290410              1.0  \n",
       "Aljaraque                            9.313589   18.627177              0.0  \n",
       "Punta Umbría                        13.025073   13.025073              0.0  \n",
       "Aracena                             12.113870   12.113870              0.0  "
      ],
      "text/html": "<div>\n<style scoped>\n    .dataframe tbody tr th:only-of-type {\n        vertical-align: middle;\n    }\n\n    .dataframe tbody tr th {\n        vertical-align: top;\n    }\n\n    .dataframe thead th {\n        text-align: right;\n    }\n</style>\n<table border=\"1\" class=\"dataframe\">\n  <thead>\n    <tr style=\"text-align: right;\">\n      <th>Medida</th>\n      <th>Confirmados PDIA</th>\n      <th>Confirmados PDIA 7 días</th>\n      <th>Confirmados PDIA 14 días</th>\n      <th>Población</th>\n      <th>tasa7</th>\n      <th>tasa14</th>\n      <th>Diferencia PDIA</th>\n    </tr>\n    <tr>\n      <th>Lugar de residencia</th>\n      <th></th>\n      <th></th>\n      <th></th>\n      <th></th>\n      <th></th>\n      <th></th>\n      <th></th>\n    </tr>\n  </thead>\n  <tbody>\n    <tr>\n      <th>Alosno</th>\n      <td>145.0</td>\n      <td>20.0</td>\n      <td>23.0</td>\n      <td>3933.0</td>\n      <td>508.517671</td>\n      <td>584.795322</td>\n      <td>0.0</td>\n    </tr>\n    <tr>\n      <th>Villalba del Alcor</th>\n      <td>459.0</td>\n      <td>4.0</td>\n      <td>13.0</td>\n      <td>3366.0</td>\n      <td>118.835413</td>\n      <td>386.215092</td>\n      <td>0.0</td>\n    </tr>\n    <tr>\n      <th>Rociana del Condado</th>\n      <td>341.0</td>\n      <td>20.0</td>\n      <td>29.0</td>\n      <td>7939.0</td>\n      <td>251.920897</td>\n      <td>365.285300</td>\n      <td>8.0</td>\n    </tr>\n    <tr>\n      <th>Puebla de Guzmán</th>\n      <td>110.0</td>\n      <td>2.0</td>\n      <td>11.0</td>\n      <td>3092.0</td>\n      <td>64.683053</td>\n      <td>355.756792</td>\n      <td>0.0</td>\n    </tr>\n    <tr>\n      <th>San Bartolomé de la Torre</th>\n      <td>216.0</td>\n      <td>6.0</td>\n      <td>13.0</td>\n      <td>3761.0</td>\n      <td>159.532039</td>\n      <td>345.652752</td>\n      <td>0.0</td>\n    </tr>\n    <tr>\n      <th>Almonte</th>\n      <td>955.0</td>\n      <td>53.0</td>\n      <td>80.0</td>\n      <td>24507.0</td>\n      <td>216.264741</td>\n      <td>326.437344</td>\n      <td>0.0</td>\n    </tr>\n    <tr>\n      <th>Niebla</th>\n      <td>165.0</td>\n      <td>7.0</td>\n      <td>8.0</td>\n      <td>4116.0</td>\n      <td>170.068027</td>\n      <td>194.363460</td>\n      <td>4.0</td>\n    </tr>\n    <tr>\n      <th>Bollullos Par del Condado</th>\n      <td>646.0</td>\n      <td>15.0</td>\n      <td>27.0</td>\n      <td>14387.0</td>\n      <td>104.260791</td>\n      <td>187.669424</td>\n      <td>4.0</td>\n    </tr>\n    <tr>\n      <th>Gibraleón</th>\n      <td>535.0</td>\n      <td>13.0</td>\n      <td>22.0</td>\n      <td>12737.0</td>\n      <td>102.064850</td>\n      <td>172.725132</td>\n      <td>1.0</td>\n    </tr>\n    <tr>\n      <th>Condado-Campiña</th>\n      <td>7204.0</td>\n      <td>143.0</td>\n      <td>258.0</td>\n      <td>156231.0</td>\n      <td>91.531130</td>\n      <td>165.140081</td>\n      <td>16.0</td>\n    </tr>\n    <tr>\n      <th>Cartaya</th>\n      <td>990.0</td>\n      <td>17.0</td>\n      <td>33.0</td>\n      <td>20083.0</td>\n      <td>84.648708</td>\n      <td>164.318080</td>\n      <td>0.0</td>\n    </tr>\n    <tr>\n      <th>Moguer</th>\n      <td>862.0</td>\n      <td>14.0</td>\n      <td>29.0</td>\n      <td>21867.0</td>\n      <td>64.023414</td>\n      <td>132.619930</td>\n      <td>0.0</td>\n    </tr>\n    <tr>\n      <th>Palos de la Frontera</th>\n      <td>465.0</td>\n      <td>4.0</td>\n      <td>13.0</td>\n      <td>11742.0</td>\n      <td>34.065747</td>\n      <td>110.713677</td>\n      <td>0.0</td>\n    </tr>\n    <tr>\n      <th>Huelva</th>\n      <td>25229.0</td>\n      <td>244.0</td>\n      <td>471.0</td>\n      <td>513170.0</td>\n      <td>47.547596</td>\n      <td>91.782450</td>\n      <td>20.0</td>\n    </tr>\n    <tr>\n      <th>Paterna del Campo</th>\n      <td>115.0</td>\n      <td>3.0</td>\n      <td>3.0</td>\n      <td>3457.0</td>\n      <td>86.780445</td>\n      <td>86.780445</td>\n      <td>0.0</td>\n    </tr>\n    <tr>\n      <th>Ayamonte</th>\n      <td>1237.0</td>\n      <td>5.0</td>\n      <td>17.0</td>\n      <td>21104.0</td>\n      <td>23.692191</td>\n      <td>80.553450</td>\n      <td>0.0</td>\n    </tr>\n    <tr>\n      <th>Valverde del Camino</th>\n      <td>426.0</td>\n      <td>3.0</td>\n      <td>10.0</td>\n      <td>12750.0</td>\n      <td>23.529412</td>\n      <td>78.431373</td>\n      <td>1.0</td>\n    </tr>\n    <tr>\n      <th>Isla Cristina</th>\n      <td>2006.0</td>\n      <td>7.0</td>\n      <td>14.0</td>\n      <td>21393.0</td>\n      <td>32.720983</td>\n      <td>65.441967</td>\n      <td>0.0</td>\n    </tr>\n    <tr>\n      <th>Huelva-Costa</th>\n      <td>15295.0</td>\n      <td>89.0</td>\n      <td>189.0</td>\n      <td>289548.0</td>\n      <td>30.737563</td>\n      <td>65.274151</td>\n      <td>2.0</td>\n    </tr>\n    <tr>\n      <th>Lepe</th>\n      <td>2011.0</td>\n      <td>6.0</td>\n      <td>16.0</td>\n      <td>27880.0</td>\n      <td>21.520803</td>\n      <td>57.388809</td>\n      <td>0.0</td>\n    </tr>\n    <tr>\n      <th>Huelva (capital)</th>\n      <td>6656.0</td>\n      <td>28.0</td>\n      <td>68.0</td>\n      <td>143837.0</td>\n      <td>19.466479</td>\n      <td>47.275736</td>\n      <td>2.0</td>\n    </tr>\n    <tr>\n      <th>Beas</th>\n      <td>164.0</td>\n      <td>1.0</td>\n      <td>2.0</td>\n      <td>4341.0</td>\n      <td>23.036167</td>\n      <td>46.072334</td>\n      <td>0.0</td>\n    </tr>\n    <tr>\n      <th>Escacena del Campo</th>\n      <td>141.0</td>\n      <td>1.0</td>\n      <td>1.0</td>\n      <td>2287.0</td>\n      <td>43.725404</td>\n      <td>43.725404</td>\n      <td>0.0</td>\n    </tr>\n    <tr>\n      <th>San Juan del Puerto</th>\n      <td>368.0</td>\n      <td>2.0</td>\n      <td>4.0</td>\n      <td>9411.0</td>\n      <td>21.251727</td>\n      <td>42.503453</td>\n      <td>-1.0</td>\n    </tr>\n    <tr>\n      <th>Sierra de Huelva-Andévalo Central</th>\n      <td>2312.0</td>\n      <td>4.0</td>\n      <td>13.0</td>\n      <td>67391.0</td>\n      <td>5.935511</td>\n      <td>19.290410</td>\n      <td>1.0</td>\n    </tr>\n    <tr>\n      <th>Aljaraque</th>\n      <td>929.0</td>\n      <td>2.0</td>\n      <td>4.0</td>\n      <td>21474.0</td>\n      <td>9.313589</td>\n      <td>18.627177</td>\n      <td>0.0</td>\n    </tr>\n    <tr>\n      <th>Punta Umbría</th>\n      <td>660.0</td>\n      <td>2.0</td>\n      <td>2.0</td>\n      <td>15355.0</td>\n      <td>13.025073</td>\n      <td>13.025073</td>\n      <td>0.0</td>\n    </tr>\n    <tr>\n      <th>Aracena</th>\n      <td>451.0</td>\n      <td>1.0</td>\n      <td>1.0</td>\n      <td>8255.0</td>\n      <td>12.113870</td>\n      <td>12.113870</td>\n      <td>0.0</td>\n    </tr>\n  </tbody>\n</table>\n</div>"
     },
     "metadata": {},
     "execution_count": 17
    }
   ],
   "source": [
    "tabla.sort_values('tasa14', ascending=False)"
   ]
  },
  {
   "cell_type": "code",
   "execution_count": 18,
   "metadata": {},
   "outputs": [
    {
     "output_type": "execute_result",
     "data": {
      "text/plain": [
       "Medida                             Confirmados PDIA  Confirmados PDIA 7 días  \\\n",
       "Lugar de residencia                                                            \n",
       "Puebla de Guzmán                              110.0                      2.0   \n",
       "Ayamonte                                     1237.0                      5.0   \n",
       "Valverde del Camino                           426.0                      3.0   \n",
       "Villalba del Alcor                            459.0                      4.0   \n",
       "Sierra de Huelva-Andévalo Central            2312.0                      4.0   \n",
       "Palos de la Frontera                          465.0                      4.0   \n",
       "Lepe                                         2011.0                      6.0   \n",
       "Huelva (capital)                             6656.0                     28.0   \n",
       "San Bartolomé de la Torre                     216.0                      6.0   \n",
       "Huelva-Costa                                15295.0                     89.0   \n",
       "Moguer                                        862.0                     14.0   \n",
       "Beas                                          164.0                      1.0   \n",
       "San Juan del Puerto                           368.0                      2.0   \n",
       "Isla Cristina                                2006.0                      7.0   \n",
       "Aljaraque                                     929.0                      2.0   \n",
       "Cartaya                                       990.0                     17.0   \n",
       "Huelva                                      25229.0                    244.0   \n",
       "Condado-Campiña                              7204.0                    143.0   \n",
       "Bollullos Par del Condado                     646.0                     15.0   \n",
       "Gibraleón                                     535.0                     13.0   \n",
       "Almonte                                       955.0                     53.0   \n",
       "Rociana del Condado                           341.0                     20.0   \n",
       "Alosno                                        145.0                     20.0   \n",
       "Niebla                                        165.0                      7.0   \n",
       "Escacena del Campo                            141.0                      1.0   \n",
       "Paterna del Campo                             115.0                      3.0   \n",
       "Aracena                                       451.0                      1.0   \n",
       "Punta Umbría                                  660.0                      2.0   \n",
       "\n",
       "Medida                             Confirmados PDIA 14 días  Población  \\\n",
       "Lugar de residencia                                                      \n",
       "Puebla de Guzmán                                       11.0     3092.0   \n",
       "Ayamonte                                               17.0    21104.0   \n",
       "Valverde del Camino                                    10.0    12750.0   \n",
       "Villalba del Alcor                                     13.0     3366.0   \n",
       "Sierra de Huelva-Andévalo Central                      13.0    67391.0   \n",
       "Palos de la Frontera                                   13.0    11742.0   \n",
       "Lepe                                                   16.0    27880.0   \n",
       "Huelva (capital)                                       68.0   143837.0   \n",
       "San Bartolomé de la Torre                              13.0     3761.0   \n",
       "Huelva-Costa                                          189.0   289548.0   \n",
       "Moguer                                                 29.0    21867.0   \n",
       "Beas                                                    2.0     4341.0   \n",
       "San Juan del Puerto                                     4.0     9411.0   \n",
       "Isla Cristina                                          14.0    21393.0   \n",
       "Aljaraque                                               4.0    21474.0   \n",
       "Cartaya                                                33.0    20083.0   \n",
       "Huelva                                                471.0   513170.0   \n",
       "Condado-Campiña                                       258.0   156231.0   \n",
       "Bollullos Par del Condado                              27.0    14387.0   \n",
       "Gibraleón                                              22.0    12737.0   \n",
       "Almonte                                                80.0    24507.0   \n",
       "Rociana del Condado                                    29.0     7939.0   \n",
       "Alosno                                                 23.0     3933.0   \n",
       "Niebla                                                  8.0     4116.0   \n",
       "Escacena del Campo                                      1.0     2287.0   \n",
       "Paterna del Campo                                       3.0     3457.0   \n",
       "Aracena                                                 1.0     8255.0   \n",
       "Punta Umbría                                            2.0    15355.0   \n",
       "\n",
       "Medida                                  tasa7      tasa14  Diferencia PDIA  \\\n",
       "Lugar de residencia                                                          \n",
       "Puebla de Guzmán                    64.683053  355.756792              0.0   \n",
       "Ayamonte                            23.692191   80.553450              0.0   \n",
       "Valverde del Camino                 23.529412   78.431373              1.0   \n",
       "Villalba del Alcor                 118.835413  386.215092              0.0   \n",
       "Sierra de Huelva-Andévalo Central    5.935511   19.290410              1.0   \n",
       "Palos de la Frontera                34.065747  110.713677              0.0   \n",
       "Lepe                                21.520803   57.388809              0.0   \n",
       "Huelva (capital)                    19.466479   47.275736              2.0   \n",
       "San Bartolomé de la Torre          159.532039  345.652752              0.0   \n",
       "Huelva-Costa                        30.737563   65.274151              2.0   \n",
       "Moguer                              64.023414  132.619930              0.0   \n",
       "Beas                                23.036167   46.072334              0.0   \n",
       "San Juan del Puerto                 21.251727   42.503453             -1.0   \n",
       "Isla Cristina                       32.720983   65.441967              0.0   \n",
       "Aljaraque                            9.313589   18.627177              0.0   \n",
       "Cartaya                             84.648708  164.318080              0.0   \n",
       "Huelva                              47.547596   91.782450             20.0   \n",
       "Condado-Campiña                     91.531130  165.140081             16.0   \n",
       "Bollullos Par del Condado          104.260791  187.669424              4.0   \n",
       "Gibraleón                          102.064850  172.725132              1.0   \n",
       "Almonte                            216.264741  326.437344              0.0   \n",
       "Rociana del Condado                251.920897  365.285300              8.0   \n",
       "Alosno                             508.517671  584.795322              0.0   \n",
       "Niebla                             170.068027  194.363460              4.0   \n",
       "Escacena del Campo                  43.725404   43.725404              0.0   \n",
       "Paterna del Campo                   86.780445   86.780445              0.0   \n",
       "Aracena                             12.113870   12.113870              0.0   \n",
       "Punta Umbría                        13.025073   13.025073              0.0   \n",
       "\n",
       "Medida                                 7/14  \n",
       "Lugar de residencia                          \n",
       "Puebla de Guzmán                   0.181818  \n",
       "Ayamonte                           0.294118  \n",
       "Valverde del Camino                0.300000  \n",
       "Villalba del Alcor                 0.307692  \n",
       "Sierra de Huelva-Andévalo Central  0.307692  \n",
       "Palos de la Frontera               0.307692  \n",
       "Lepe                               0.375000  \n",
       "Huelva (capital)                   0.411765  \n",
       "San Bartolomé de la Torre          0.461538  \n",
       "Huelva-Costa                       0.470899  \n",
       "Moguer                             0.482759  \n",
       "Beas                               0.500000  \n",
       "San Juan del Puerto                0.500000  \n",
       "Isla Cristina                      0.500000  \n",
       "Aljaraque                          0.500000  \n",
       "Cartaya                            0.515152  \n",
       "Huelva                             0.518047  \n",
       "Condado-Campiña                    0.554264  \n",
       "Bollullos Par del Condado          0.555556  \n",
       "Gibraleón                          0.590909  \n",
       "Almonte                            0.662500  \n",
       "Rociana del Condado                0.689655  \n",
       "Alosno                             0.869565  \n",
       "Niebla                             0.875000  \n",
       "Escacena del Campo                 1.000000  \n",
       "Paterna del Campo                  1.000000  \n",
       "Aracena                            1.000000  \n",
       "Punta Umbría                       1.000000  "
      ],
      "text/html": "<div>\n<style scoped>\n    .dataframe tbody tr th:only-of-type {\n        vertical-align: middle;\n    }\n\n    .dataframe tbody tr th {\n        vertical-align: top;\n    }\n\n    .dataframe thead th {\n        text-align: right;\n    }\n</style>\n<table border=\"1\" class=\"dataframe\">\n  <thead>\n    <tr style=\"text-align: right;\">\n      <th>Medida</th>\n      <th>Confirmados PDIA</th>\n      <th>Confirmados PDIA 7 días</th>\n      <th>Confirmados PDIA 14 días</th>\n      <th>Población</th>\n      <th>tasa7</th>\n      <th>tasa14</th>\n      <th>Diferencia PDIA</th>\n      <th>7/14</th>\n    </tr>\n    <tr>\n      <th>Lugar de residencia</th>\n      <th></th>\n      <th></th>\n      <th></th>\n      <th></th>\n      <th></th>\n      <th></th>\n      <th></th>\n      <th></th>\n    </tr>\n  </thead>\n  <tbody>\n    <tr>\n      <th>Puebla de Guzmán</th>\n      <td>110.0</td>\n      <td>2.0</td>\n      <td>11.0</td>\n      <td>3092.0</td>\n      <td>64.683053</td>\n      <td>355.756792</td>\n      <td>0.0</td>\n      <td>0.181818</td>\n    </tr>\n    <tr>\n      <th>Ayamonte</th>\n      <td>1237.0</td>\n      <td>5.0</td>\n      <td>17.0</td>\n      <td>21104.0</td>\n      <td>23.692191</td>\n      <td>80.553450</td>\n      <td>0.0</td>\n      <td>0.294118</td>\n    </tr>\n    <tr>\n      <th>Valverde del Camino</th>\n      <td>426.0</td>\n      <td>3.0</td>\n      <td>10.0</td>\n      <td>12750.0</td>\n      <td>23.529412</td>\n      <td>78.431373</td>\n      <td>1.0</td>\n      <td>0.300000</td>\n    </tr>\n    <tr>\n      <th>Villalba del Alcor</th>\n      <td>459.0</td>\n      <td>4.0</td>\n      <td>13.0</td>\n      <td>3366.0</td>\n      <td>118.835413</td>\n      <td>386.215092</td>\n      <td>0.0</td>\n      <td>0.307692</td>\n    </tr>\n    <tr>\n      <th>Sierra de Huelva-Andévalo Central</th>\n      <td>2312.0</td>\n      <td>4.0</td>\n      <td>13.0</td>\n      <td>67391.0</td>\n      <td>5.935511</td>\n      <td>19.290410</td>\n      <td>1.0</td>\n      <td>0.307692</td>\n    </tr>\n    <tr>\n      <th>Palos de la Frontera</th>\n      <td>465.0</td>\n      <td>4.0</td>\n      <td>13.0</td>\n      <td>11742.0</td>\n      <td>34.065747</td>\n      <td>110.713677</td>\n      <td>0.0</td>\n      <td>0.307692</td>\n    </tr>\n    <tr>\n      <th>Lepe</th>\n      <td>2011.0</td>\n      <td>6.0</td>\n      <td>16.0</td>\n      <td>27880.0</td>\n      <td>21.520803</td>\n      <td>57.388809</td>\n      <td>0.0</td>\n      <td>0.375000</td>\n    </tr>\n    <tr>\n      <th>Huelva (capital)</th>\n      <td>6656.0</td>\n      <td>28.0</td>\n      <td>68.0</td>\n      <td>143837.0</td>\n      <td>19.466479</td>\n      <td>47.275736</td>\n      <td>2.0</td>\n      <td>0.411765</td>\n    </tr>\n    <tr>\n      <th>San Bartolomé de la Torre</th>\n      <td>216.0</td>\n      <td>6.0</td>\n      <td>13.0</td>\n      <td>3761.0</td>\n      <td>159.532039</td>\n      <td>345.652752</td>\n      <td>0.0</td>\n      <td>0.461538</td>\n    </tr>\n    <tr>\n      <th>Huelva-Costa</th>\n      <td>15295.0</td>\n      <td>89.0</td>\n      <td>189.0</td>\n      <td>289548.0</td>\n      <td>30.737563</td>\n      <td>65.274151</td>\n      <td>2.0</td>\n      <td>0.470899</td>\n    </tr>\n    <tr>\n      <th>Moguer</th>\n      <td>862.0</td>\n      <td>14.0</td>\n      <td>29.0</td>\n      <td>21867.0</td>\n      <td>64.023414</td>\n      <td>132.619930</td>\n      <td>0.0</td>\n      <td>0.482759</td>\n    </tr>\n    <tr>\n      <th>Beas</th>\n      <td>164.0</td>\n      <td>1.0</td>\n      <td>2.0</td>\n      <td>4341.0</td>\n      <td>23.036167</td>\n      <td>46.072334</td>\n      <td>0.0</td>\n      <td>0.500000</td>\n    </tr>\n    <tr>\n      <th>San Juan del Puerto</th>\n      <td>368.0</td>\n      <td>2.0</td>\n      <td>4.0</td>\n      <td>9411.0</td>\n      <td>21.251727</td>\n      <td>42.503453</td>\n      <td>-1.0</td>\n      <td>0.500000</td>\n    </tr>\n    <tr>\n      <th>Isla Cristina</th>\n      <td>2006.0</td>\n      <td>7.0</td>\n      <td>14.0</td>\n      <td>21393.0</td>\n      <td>32.720983</td>\n      <td>65.441967</td>\n      <td>0.0</td>\n      <td>0.500000</td>\n    </tr>\n    <tr>\n      <th>Aljaraque</th>\n      <td>929.0</td>\n      <td>2.0</td>\n      <td>4.0</td>\n      <td>21474.0</td>\n      <td>9.313589</td>\n      <td>18.627177</td>\n      <td>0.0</td>\n      <td>0.500000</td>\n    </tr>\n    <tr>\n      <th>Cartaya</th>\n      <td>990.0</td>\n      <td>17.0</td>\n      <td>33.0</td>\n      <td>20083.0</td>\n      <td>84.648708</td>\n      <td>164.318080</td>\n      <td>0.0</td>\n      <td>0.515152</td>\n    </tr>\n    <tr>\n      <th>Huelva</th>\n      <td>25229.0</td>\n      <td>244.0</td>\n      <td>471.0</td>\n      <td>513170.0</td>\n      <td>47.547596</td>\n      <td>91.782450</td>\n      <td>20.0</td>\n      <td>0.518047</td>\n    </tr>\n    <tr>\n      <th>Condado-Campiña</th>\n      <td>7204.0</td>\n      <td>143.0</td>\n      <td>258.0</td>\n      <td>156231.0</td>\n      <td>91.531130</td>\n      <td>165.140081</td>\n      <td>16.0</td>\n      <td>0.554264</td>\n    </tr>\n    <tr>\n      <th>Bollullos Par del Condado</th>\n      <td>646.0</td>\n      <td>15.0</td>\n      <td>27.0</td>\n      <td>14387.0</td>\n      <td>104.260791</td>\n      <td>187.669424</td>\n      <td>4.0</td>\n      <td>0.555556</td>\n    </tr>\n    <tr>\n      <th>Gibraleón</th>\n      <td>535.0</td>\n      <td>13.0</td>\n      <td>22.0</td>\n      <td>12737.0</td>\n      <td>102.064850</td>\n      <td>172.725132</td>\n      <td>1.0</td>\n      <td>0.590909</td>\n    </tr>\n    <tr>\n      <th>Almonte</th>\n      <td>955.0</td>\n      <td>53.0</td>\n      <td>80.0</td>\n      <td>24507.0</td>\n      <td>216.264741</td>\n      <td>326.437344</td>\n      <td>0.0</td>\n      <td>0.662500</td>\n    </tr>\n    <tr>\n      <th>Rociana del Condado</th>\n      <td>341.0</td>\n      <td>20.0</td>\n      <td>29.0</td>\n      <td>7939.0</td>\n      <td>251.920897</td>\n      <td>365.285300</td>\n      <td>8.0</td>\n      <td>0.689655</td>\n    </tr>\n    <tr>\n      <th>Alosno</th>\n      <td>145.0</td>\n      <td>20.0</td>\n      <td>23.0</td>\n      <td>3933.0</td>\n      <td>508.517671</td>\n      <td>584.795322</td>\n      <td>0.0</td>\n      <td>0.869565</td>\n    </tr>\n    <tr>\n      <th>Niebla</th>\n      <td>165.0</td>\n      <td>7.0</td>\n      <td>8.0</td>\n      <td>4116.0</td>\n      <td>170.068027</td>\n      <td>194.363460</td>\n      <td>4.0</td>\n      <td>0.875000</td>\n    </tr>\n    <tr>\n      <th>Escacena del Campo</th>\n      <td>141.0</td>\n      <td>1.0</td>\n      <td>1.0</td>\n      <td>2287.0</td>\n      <td>43.725404</td>\n      <td>43.725404</td>\n      <td>0.0</td>\n      <td>1.000000</td>\n    </tr>\n    <tr>\n      <th>Paterna del Campo</th>\n      <td>115.0</td>\n      <td>3.0</td>\n      <td>3.0</td>\n      <td>3457.0</td>\n      <td>86.780445</td>\n      <td>86.780445</td>\n      <td>0.0</td>\n      <td>1.000000</td>\n    </tr>\n    <tr>\n      <th>Aracena</th>\n      <td>451.0</td>\n      <td>1.0</td>\n      <td>1.0</td>\n      <td>8255.0</td>\n      <td>12.113870</td>\n      <td>12.113870</td>\n      <td>0.0</td>\n      <td>1.000000</td>\n    </tr>\n    <tr>\n      <th>Punta Umbría</th>\n      <td>660.0</td>\n      <td>2.0</td>\n      <td>2.0</td>\n      <td>15355.0</td>\n      <td>13.025073</td>\n      <td>13.025073</td>\n      <td>0.0</td>\n      <td>1.000000</td>\n    </tr>\n  </tbody>\n</table>\n</div>"
     },
     "metadata": {},
     "execution_count": 18
    }
   ],
   "source": [
    "# Peso de la tasa de la última semana en relación con la tasa a 14 días \n",
    "# Mejor cuanto menor. Valor 1 significa que no había casos antes de 7 días.\n",
    "tabla['7/14'] = tabla['tasa7'] / tabla['tasa14']\n",
    "tabla.fillna(0).sort_values('7/14', ascending=True)"
   ]
  },
  {
   "cell_type": "code",
   "execution_count": null,
   "metadata": {},
   "outputs": [],
   "source": []
  }
 ]
}