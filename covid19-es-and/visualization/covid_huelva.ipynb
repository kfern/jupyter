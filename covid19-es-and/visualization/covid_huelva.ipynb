{
 "metadata": {
  "language_info": {
   "codemirror_mode": {
    "name": "ipython",
    "version": 3
   },
   "file_extension": ".py",
   "mimetype": "text/x-python",
   "name": "python",
   "nbconvert_exporter": "python",
   "pygments_lexer": "ipython3",
   "version": "3.8.6-final"
  },
  "orig_nbformat": 2,
  "kernelspec": {
   "name": "python3",
   "display_name": "Python 3",
   "language": "python"
  }
 },
 "nbformat": 4,
 "nbformat_minor": 2,
 "cells": [
  {
   "cell_type": "code",
   "execution_count": 1,
   "metadata": {},
   "outputs": [],
   "source": [
    "import pandas as pd\n",
    "pd.set_option('display.max_rows', None) # Print all rows"
   ]
  },
  {
   "cell_type": "code",
   "execution_count": 2,
   "metadata": {},
   "outputs": [],
   "source": [
    "# FIX SSL: CERTIFICATE_VERIFY_FAILED with Python3\n",
    "# https://stackoverflow.com/a/49174340\n",
    "import ssl\n",
    "\n",
    "ssl._create_default_https_context = ssl._create_unverified_context"
   ]
  },
  {
   "cell_type": "code",
   "execution_count": 3,
   "metadata": {},
   "outputs": [],
   "source": [
    "url = 'https://www.juntadeandalucia.es/institutodeestadisticaycartografia/badea/stpivot/stpivot/Print?cube=013d884c-cfc5-4c21-9e78-e26225682afd&type=3&foto=si&ejecutaDesde=&codConsulta=38668&consTipoVisua=JP'\n",
    "fields = ['Lugar de residencia', 'Medida', 'Valor']\n",
    "df = pd.read_csv(url, delimiter=';', usecols=fields, decimal=',')"
   ]
  },
  {
   "cell_type": "code",
   "execution_count": 4,
   "metadata": {},
   "outputs": [
    {
     "output_type": "execute_result",
     "data": {
      "text/plain": [
       "  Lugar de residencia                    Medida               Valor\n",
       "0              Huelva                 Población              513170\n",
       "1              Huelva          Confirmados PDIA               25807\n",
       "2              Huelva  Confirmados PDIA 14 días                 771\n",
       "3              Huelva         Tasa PDIA 14 días  150,24260966151567\n",
       "4              Huelva   Confirmados PDIA 7 días                 424\n",
       "5              Huelva        Total Confirmados                26008\n",
       "6              Huelva                   Curados               21166\n",
       "7              Huelva                Fallecidos                 355"
      ],
      "text/html": "<div>\n<style scoped>\n    .dataframe tbody tr th:only-of-type {\n        vertical-align: middle;\n    }\n\n    .dataframe tbody tr th {\n        vertical-align: top;\n    }\n\n    .dataframe thead th {\n        text-align: right;\n    }\n</style>\n<table border=\"1\" class=\"dataframe\">\n  <thead>\n    <tr style=\"text-align: right;\">\n      <th></th>\n      <th>Lugar de residencia</th>\n      <th>Medida</th>\n      <th>Valor</th>\n    </tr>\n  </thead>\n  <tbody>\n    <tr>\n      <th>0</th>\n      <td>Huelva</td>\n      <td>Población</td>\n      <td>513170</td>\n    </tr>\n    <tr>\n      <th>1</th>\n      <td>Huelva</td>\n      <td>Confirmados PDIA</td>\n      <td>25807</td>\n    </tr>\n    <tr>\n      <th>2</th>\n      <td>Huelva</td>\n      <td>Confirmados PDIA 14 días</td>\n      <td>771</td>\n    </tr>\n    <tr>\n      <th>3</th>\n      <td>Huelva</td>\n      <td>Tasa PDIA 14 días</td>\n      <td>150,24260966151567</td>\n    </tr>\n    <tr>\n      <th>4</th>\n      <td>Huelva</td>\n      <td>Confirmados PDIA 7 días</td>\n      <td>424</td>\n    </tr>\n    <tr>\n      <th>5</th>\n      <td>Huelva</td>\n      <td>Total Confirmados</td>\n      <td>26008</td>\n    </tr>\n    <tr>\n      <th>6</th>\n      <td>Huelva</td>\n      <td>Curados</td>\n      <td>21166</td>\n    </tr>\n    <tr>\n      <th>7</th>\n      <td>Huelva</td>\n      <td>Fallecidos</td>\n      <td>355</td>\n    </tr>\n  </tbody>\n</table>\n</div>"
     },
     "metadata": {},
     "execution_count": 4
    }
   ],
   "source": [
    "df[df['Lugar de residencia'] == 'Huelva']"
   ]
  },
  {
   "cell_type": "code",
   "execution_count": 5,
   "metadata": {},
   "outputs": [],
   "source": [
    "df['Valor'] = pd.to_numeric(df['Valor'],errors='coerce')"
   ]
  },
  {
   "cell_type": "code",
   "execution_count": 6,
   "metadata": {},
   "outputs": [],
   "source": [
    "dfAnterior = pd.read_csv('covid_huelva.csv', index_col='Lugar de residencia')"
   ]
  },
  {
   "cell_type": "code",
   "execution_count": 7,
   "metadata": {
    "tags": []
   },
   "outputs": [
    {
     "output_type": "stream",
     "name": "stdout",
     "text": [
      "Confirmados PCR en la provincia de Huelva:  25807.0\n",
      "<ipython-input-7-31b732756b19>:2: UserWarning: Boolean Series key will be reindexed to match DataFrame index.\n",
      "  p = df[df['Lugar de residencia'] == 'Huelva'][df['Medida'] == 'Confirmados PDIA']['Valor'].values[0]\n"
     ]
    }
   ],
   "source": [
    "# Confirmados PCR provincia Huelva\n",
    "p = df[df['Lugar de residencia'] == 'Huelva'][df['Medida'] == 'Confirmados PDIA']['Valor'].values[0]\n",
    "print('Confirmados PCR en la provincia de Huelva: ', p)"
   ]
  },
  {
   "cell_type": "code",
   "execution_count": 8,
   "metadata": {
    "tags": []
   },
   "outputs": [
    {
     "output_type": "stream",
     "name": "stdout",
     "text": [
      "Confirmados PCR en Huelva capital:  6748.0\n",
      "<ipython-input-8-e81bfb40e710>:2: UserWarning: Boolean Series key will be reindexed to match DataFrame index.\n",
      "  c = df[df['Lugar de residencia'] == 'Huelva (capital)'][df['Medida'] == 'Confirmados PDIA']['Valor'].values[0]\n"
     ]
    }
   ],
   "source": [
    "# Confirmados PCR Huelva capitalpd\n",
    "c = df[df['Lugar de residencia'] == 'Huelva (capital)'][df['Medida'] == 'Confirmados PDIA']['Valor'].values[0]\n",
    "print('Confirmados PCR en Huelva capital: ', c)"
   ]
  },
  {
   "cell_type": "code",
   "execution_count": 9,
   "metadata": {
    "tags": []
   },
   "outputs": [
    {
     "output_type": "stream",
     "name": "stderr",
     "text": [
      "<ipython-input-9-f09dd2050cc1>:1: UserWarning: Boolean Series key will be reindexed to match DataFrame index.\n  c7 = df[df['Lugar de residencia'] == 'Huelva (capital)'][df['Medida'] == 'Confirmados PDIA 7 días']['Valor'].values[0]\n<ipython-input-9-f09dd2050cc1>:2: UserWarning: Boolean Series key will be reindexed to match DataFrame index.\n  c14 = df[df['Lugar de residencia'] == 'Huelva (capital)'][df['Medida'] == 'Confirmados PDIA 14 días']['Valor'].values[0]\n<ipython-input-9-f09dd2050cc1>:3: UserWarning: Boolean Series key will be reindexed to match DataFrame index.\n  p = df[df['Lugar de residencia'] == 'Huelva (capital)'][df['Medida'] == 'Población']['Valor'].values[0]\n"
     ]
    }
   ],
   "source": [
    "c7 = df[df['Lugar de residencia'] == 'Huelva (capital)'][df['Medida'] == 'Confirmados PDIA 7 días']['Valor'].values[0]\n",
    "c14 = df[df['Lugar de residencia'] == 'Huelva (capital)'][df['Medida'] == 'Confirmados PDIA 14 días']['Valor'].values[0]\n",
    "p = df[df['Lugar de residencia'] == 'Huelva (capital)'][df['Medida'] == 'Población']['Valor'].values[0]"
   ]
  },
  {
   "cell_type": "code",
   "execution_count": 10,
   "metadata": {
    "tags": []
   },
   "outputs": [
    {
     "output_type": "stream",
     "name": "stdout",
     "text": [
      "Huelva (capital)\n\nUn positivo PCR cada 1844 personas en los últimos 7 días \n\nUn positivo PCR cada 1251 personas en los últimos 14 días\n"
     ]
    }
   ],
   "source": [
    "print('Huelva (capital)\\n')\n",
    "#print('Confirmados PCR 7 días x 1,000 habitantes: ', f\"{c7/(p/1000):.5f}\")\n",
    "print('Un positivo PCR cada', f\"{p/c7:.0f}\", 'personas en los últimos 7 días', '\\n')\n",
    "#print('Confirmados PCR 14 días x 1,000 habitantes: ', f\"{c14/(p/1000):.5f}\")\n",
    "print('Un positivo PCR cada', f\"{p/c14:.0f}\", 'personas en los últimos 14 días')"
   ]
  },
  {
   "cell_type": "code",
   "execution_count": 11,
   "metadata": {},
   "outputs": [],
   "source": [
    "filtro = ((df['Medida'] == 'Confirmados PDIA')| (df['Medida'] == 'Confirmados PDIA 7 días') | (df['Medida'] == 'Población' ) | (df['Medida'] == 'Confirmados PDIA 14 días')) & (df['Valor'] > 0)\n",
    "tabla = pd.pivot_table(df.loc[filtro], values='Valor', index='Lugar de residencia', columns='Medida').dropna()"
   ]
  },
  {
   "cell_type": "code",
   "execution_count": 12,
   "metadata": {},
   "outputs": [],
   "source": [
    "# Reorder columns\n",
    "tabla = tabla[['Confirmados PDIA', 'Confirmados PDIA 7 días', 'Confirmados PDIA 14 días', 'Población']]"
   ]
  },
  {
   "cell_type": "code",
   "execution_count": 13,
   "metadata": {},
   "outputs": [],
   "source": [
    "tabla['tasa7'] = tabla['Confirmados PDIA 7 días']/tabla['Población']*100000\n",
    "tabla['tasa14'] = tabla['Confirmados PDIA 14 días']/tabla['Población']*100000"
   ]
  },
  {
   "cell_type": "code",
   "execution_count": 14,
   "metadata": {},
   "outputs": [],
   "source": [
    "tabla['Diferencia PDIA'] = tabla['Confirmados PDIA'] - dfAnterior['Confirmados PDIA']"
   ]
  },
  {
   "cell_type": "code",
   "execution_count": 15,
   "metadata": {},
   "outputs": [
    {
     "output_type": "execute_result",
     "data": {
      "text/plain": [
       "Medida                             Confirmados PDIA  Confirmados PDIA 7 días  \\\n",
       "Lugar de residencia                                                            \n",
       "Huelva                                      25807.0                    424.0   \n",
       "Condado-Campiña                              7562.0                    256.0   \n",
       "Huelva-Costa                                15484.0                    141.0   \n",
       "Huelva (capital)                             6748.0                     78.0   \n",
       "Almonte                                      1045.0                     62.0   \n",
       "Cartaya                                      1026.0                     29.0   \n",
       "Trigueros                                     240.0                     12.0   \n",
       "San Bartolomé de la Torre                     244.0                     21.0   \n",
       "Sierra de Huelva-Andévalo Central            2338.0                     22.0   \n",
       "Punta Umbría                                  672.0                      8.0   \n",
       "Palos de la Frontera                          492.0                     17.0   \n",
       "Moguer                                        899.0                     21.0   \n",
       "Rociana del Condado                           385.0                     30.0   \n",
       "Aljaraque                                     938.0                      7.0   \n",
       "Gibraleón                                     550.0                     10.0   \n",
       "Aracena                                       464.0                     11.0   \n",
       "San Juan del Puerto                           383.0                     12.0   \n",
       "Lepe                                         2026.0                      9.0   \n",
       "Bollullos Par del Condado                     686.0                     35.0   \n",
       "Bonares                                       198.0                     16.0   \n",
       "Ayamonte                                     1247.0                      4.0   \n",
       "Valverde del Camino                           431.0                      4.0   \n",
       "Isla Cristina                                2013.0                      3.0   \n",
       "Palma del Condado (La)                        996.0                      7.0   \n",
       "Alosno                                        151.0                      2.0   \n",
       "Villalba del Alcor                            463.0                      3.0   \n",
       "Beas                                          165.0                      2.0   \n",
       "Higuera de la Sierra                           31.0                      2.0   \n",
       "\n",
       "Medida                             Confirmados PDIA 14 días  Población  \\\n",
       "Lugar de residencia                                                      \n",
       "Huelva                                                771.0   513170.0   \n",
       "Condado-Campiña                                       469.0   156231.0   \n",
       "Huelva-Costa                                          257.0   289548.0   \n",
       "Huelva (capital)                                      115.0   143837.0   \n",
       "Almonte                                               136.0    24507.0   \n",
       "Cartaya                                                52.0    20083.0   \n",
       "Trigueros                                              12.0     7862.0   \n",
       "San Bartolomé de la Torre                              34.0     3761.0   \n",
       "Sierra de Huelva-Andévalo Central                      30.0    67391.0   \n",
       "Punta Umbría                                           14.0    15355.0   \n",
       "Palos de la Frontera                                   31.0    11742.0   \n",
       "Moguer                                                 41.0    21867.0   \n",
       "Rociana del Condado                                    61.0     7939.0   \n",
       "Aljaraque                                              10.0    21474.0   \n",
       "Gibraleón                                              22.0    12737.0   \n",
       "Aracena                                                14.0     8255.0   \n",
       "San Juan del Puerto                                    17.0     9411.0   \n",
       "Lepe                                                   18.0    27880.0   \n",
       "Bollullos Par del Condado                              53.0    14387.0   \n",
       "Bonares                                                18.0     6060.0   \n",
       "Ayamonte                                               14.0    21104.0   \n",
       "Valverde del Camino                                     8.0    12750.0   \n",
       "Isla Cristina                                           8.0    21393.0   \n",
       "Palma del Condado (La)                                  8.0    10801.0   \n",
       "Alosno                                                 23.0     3933.0   \n",
       "Villalba del Alcor                                      6.0     3366.0   \n",
       "Beas                                                    2.0     4341.0   \n",
       "Higuera de la Sierra                                    2.0     1291.0   \n",
       "\n",
       "Medida                                  tasa7      tasa14  Diferencia PDIA  \n",
       "Lugar de residencia                                                         \n",
       "Huelva                              82.623692  150.242610            126.0  \n",
       "Condado-Campiña                    163.859925  300.196504             63.0  \n",
       "Huelva-Costa                        48.696589   88.759031             54.0  \n",
       "Huelva (capital)                    54.228050   79.951612             27.0  \n",
       "Almonte                            252.988942  554.943486             17.0  \n",
       "Cartaya                            144.400737  258.925459             11.0  \n",
       "Trigueros                          152.632918  152.632918              8.0  \n",
       "San Bartolomé de la Torre          558.362138  904.014890              7.0  \n",
       "Sierra de Huelva-Andévalo Central   32.645309   44.516330              7.0  \n",
       "Punta Umbría                        52.100293   91.175513              5.0  \n",
       "Palos de la Frontera               144.779424  264.009538              5.0  \n",
       "Moguer                              96.035121  187.497142              5.0  \n",
       "Rociana del Condado                377.881345  768.358735              4.0  \n",
       "Aljaraque                           32.597560   46.567943              4.0  \n",
       "Gibraleón                           78.511423  172.725132              4.0  \n",
       "Aracena                            133.252574  169.594185              4.0  \n",
       "San Juan del Puerto                127.510360  180.639677              4.0  \n",
       "Lepe                                32.281205   64.562410              3.0  \n",
       "Bollullos Par del Condado          243.275179  368.388128              3.0  \n",
       "Bonares                            264.026403  297.029703              2.0  \n",
       "Ayamonte                            18.953753   66.338135              2.0  \n",
       "Valverde del Camino                 31.372549   62.745098              1.0  \n",
       "Isla Cristina                       14.023279   37.395410              1.0  \n",
       "Palma del Condado (La)              64.808814   74.067216              1.0  \n",
       "Alosno                              50.851767  584.795322              1.0  \n",
       "Villalba del Alcor                  89.126560  178.253119              1.0  \n",
       "Beas                                46.072334   46.072334              NaN  \n",
       "Higuera de la Sierra               154.918668  154.918668              NaN  "
      ],
      "text/html": "<div>\n<style scoped>\n    .dataframe tbody tr th:only-of-type {\n        vertical-align: middle;\n    }\n\n    .dataframe tbody tr th {\n        vertical-align: top;\n    }\n\n    .dataframe thead th {\n        text-align: right;\n    }\n</style>\n<table border=\"1\" class=\"dataframe\">\n  <thead>\n    <tr style=\"text-align: right;\">\n      <th>Medida</th>\n      <th>Confirmados PDIA</th>\n      <th>Confirmados PDIA 7 días</th>\n      <th>Confirmados PDIA 14 días</th>\n      <th>Población</th>\n      <th>tasa7</th>\n      <th>tasa14</th>\n      <th>Diferencia PDIA</th>\n    </tr>\n    <tr>\n      <th>Lugar de residencia</th>\n      <th></th>\n      <th></th>\n      <th></th>\n      <th></th>\n      <th></th>\n      <th></th>\n      <th></th>\n    </tr>\n  </thead>\n  <tbody>\n    <tr>\n      <th>Huelva</th>\n      <td>25807.0</td>\n      <td>424.0</td>\n      <td>771.0</td>\n      <td>513170.0</td>\n      <td>82.623692</td>\n      <td>150.242610</td>\n      <td>126.0</td>\n    </tr>\n    <tr>\n      <th>Condado-Campiña</th>\n      <td>7562.0</td>\n      <td>256.0</td>\n      <td>469.0</td>\n      <td>156231.0</td>\n      <td>163.859925</td>\n      <td>300.196504</td>\n      <td>63.0</td>\n    </tr>\n    <tr>\n      <th>Huelva-Costa</th>\n      <td>15484.0</td>\n      <td>141.0</td>\n      <td>257.0</td>\n      <td>289548.0</td>\n      <td>48.696589</td>\n      <td>88.759031</td>\n      <td>54.0</td>\n    </tr>\n    <tr>\n      <th>Huelva (capital)</th>\n      <td>6748.0</td>\n      <td>78.0</td>\n      <td>115.0</td>\n      <td>143837.0</td>\n      <td>54.228050</td>\n      <td>79.951612</td>\n      <td>27.0</td>\n    </tr>\n    <tr>\n      <th>Almonte</th>\n      <td>1045.0</td>\n      <td>62.0</td>\n      <td>136.0</td>\n      <td>24507.0</td>\n      <td>252.988942</td>\n      <td>554.943486</td>\n      <td>17.0</td>\n    </tr>\n    <tr>\n      <th>Cartaya</th>\n      <td>1026.0</td>\n      <td>29.0</td>\n      <td>52.0</td>\n      <td>20083.0</td>\n      <td>144.400737</td>\n      <td>258.925459</td>\n      <td>11.0</td>\n    </tr>\n    <tr>\n      <th>Trigueros</th>\n      <td>240.0</td>\n      <td>12.0</td>\n      <td>12.0</td>\n      <td>7862.0</td>\n      <td>152.632918</td>\n      <td>152.632918</td>\n      <td>8.0</td>\n    </tr>\n    <tr>\n      <th>San Bartolomé de la Torre</th>\n      <td>244.0</td>\n      <td>21.0</td>\n      <td>34.0</td>\n      <td>3761.0</td>\n      <td>558.362138</td>\n      <td>904.014890</td>\n      <td>7.0</td>\n    </tr>\n    <tr>\n      <th>Sierra de Huelva-Andévalo Central</th>\n      <td>2338.0</td>\n      <td>22.0</td>\n      <td>30.0</td>\n      <td>67391.0</td>\n      <td>32.645309</td>\n      <td>44.516330</td>\n      <td>7.0</td>\n    </tr>\n    <tr>\n      <th>Punta Umbría</th>\n      <td>672.0</td>\n      <td>8.0</td>\n      <td>14.0</td>\n      <td>15355.0</td>\n      <td>52.100293</td>\n      <td>91.175513</td>\n      <td>5.0</td>\n    </tr>\n    <tr>\n      <th>Palos de la Frontera</th>\n      <td>492.0</td>\n      <td>17.0</td>\n      <td>31.0</td>\n      <td>11742.0</td>\n      <td>144.779424</td>\n      <td>264.009538</td>\n      <td>5.0</td>\n    </tr>\n    <tr>\n      <th>Moguer</th>\n      <td>899.0</td>\n      <td>21.0</td>\n      <td>41.0</td>\n      <td>21867.0</td>\n      <td>96.035121</td>\n      <td>187.497142</td>\n      <td>5.0</td>\n    </tr>\n    <tr>\n      <th>Rociana del Condado</th>\n      <td>385.0</td>\n      <td>30.0</td>\n      <td>61.0</td>\n      <td>7939.0</td>\n      <td>377.881345</td>\n      <td>768.358735</td>\n      <td>4.0</td>\n    </tr>\n    <tr>\n      <th>Aljaraque</th>\n      <td>938.0</td>\n      <td>7.0</td>\n      <td>10.0</td>\n      <td>21474.0</td>\n      <td>32.597560</td>\n      <td>46.567943</td>\n      <td>4.0</td>\n    </tr>\n    <tr>\n      <th>Gibraleón</th>\n      <td>550.0</td>\n      <td>10.0</td>\n      <td>22.0</td>\n      <td>12737.0</td>\n      <td>78.511423</td>\n      <td>172.725132</td>\n      <td>4.0</td>\n    </tr>\n    <tr>\n      <th>Aracena</th>\n      <td>464.0</td>\n      <td>11.0</td>\n      <td>14.0</td>\n      <td>8255.0</td>\n      <td>133.252574</td>\n      <td>169.594185</td>\n      <td>4.0</td>\n    </tr>\n    <tr>\n      <th>San Juan del Puerto</th>\n      <td>383.0</td>\n      <td>12.0</td>\n      <td>17.0</td>\n      <td>9411.0</td>\n      <td>127.510360</td>\n      <td>180.639677</td>\n      <td>4.0</td>\n    </tr>\n    <tr>\n      <th>Lepe</th>\n      <td>2026.0</td>\n      <td>9.0</td>\n      <td>18.0</td>\n      <td>27880.0</td>\n      <td>32.281205</td>\n      <td>64.562410</td>\n      <td>3.0</td>\n    </tr>\n    <tr>\n      <th>Bollullos Par del Condado</th>\n      <td>686.0</td>\n      <td>35.0</td>\n      <td>53.0</td>\n      <td>14387.0</td>\n      <td>243.275179</td>\n      <td>368.388128</td>\n      <td>3.0</td>\n    </tr>\n    <tr>\n      <th>Bonares</th>\n      <td>198.0</td>\n      <td>16.0</td>\n      <td>18.0</td>\n      <td>6060.0</td>\n      <td>264.026403</td>\n      <td>297.029703</td>\n      <td>2.0</td>\n    </tr>\n    <tr>\n      <th>Ayamonte</th>\n      <td>1247.0</td>\n      <td>4.0</td>\n      <td>14.0</td>\n      <td>21104.0</td>\n      <td>18.953753</td>\n      <td>66.338135</td>\n      <td>2.0</td>\n    </tr>\n    <tr>\n      <th>Valverde del Camino</th>\n      <td>431.0</td>\n      <td>4.0</td>\n      <td>8.0</td>\n      <td>12750.0</td>\n      <td>31.372549</td>\n      <td>62.745098</td>\n      <td>1.0</td>\n    </tr>\n    <tr>\n      <th>Isla Cristina</th>\n      <td>2013.0</td>\n      <td>3.0</td>\n      <td>8.0</td>\n      <td>21393.0</td>\n      <td>14.023279</td>\n      <td>37.395410</td>\n      <td>1.0</td>\n    </tr>\n    <tr>\n      <th>Palma del Condado (La)</th>\n      <td>996.0</td>\n      <td>7.0</td>\n      <td>8.0</td>\n      <td>10801.0</td>\n      <td>64.808814</td>\n      <td>74.067216</td>\n      <td>1.0</td>\n    </tr>\n    <tr>\n      <th>Alosno</th>\n      <td>151.0</td>\n      <td>2.0</td>\n      <td>23.0</td>\n      <td>3933.0</td>\n      <td>50.851767</td>\n      <td>584.795322</td>\n      <td>1.0</td>\n    </tr>\n    <tr>\n      <th>Villalba del Alcor</th>\n      <td>463.0</td>\n      <td>3.0</td>\n      <td>6.0</td>\n      <td>3366.0</td>\n      <td>89.126560</td>\n      <td>178.253119</td>\n      <td>1.0</td>\n    </tr>\n    <tr>\n      <th>Beas</th>\n      <td>165.0</td>\n      <td>2.0</td>\n      <td>2.0</td>\n      <td>4341.0</td>\n      <td>46.072334</td>\n      <td>46.072334</td>\n      <td>NaN</td>\n    </tr>\n    <tr>\n      <th>Higuera de la Sierra</th>\n      <td>31.0</td>\n      <td>2.0</td>\n      <td>2.0</td>\n      <td>1291.0</td>\n      <td>154.918668</td>\n      <td>154.918668</td>\n      <td>NaN</td>\n    </tr>\n  </tbody>\n</table>\n</div>"
     },
     "metadata": {},
     "execution_count": 15
    }
   ],
   "source": [
    "# Nuevos casos desde la última captura\n",
    "tabla[tabla['Diferencia PDIA'] != 0].sort_values('Diferencia PDIA', ascending=False)"
   ]
  },
  {
   "cell_type": "code",
   "execution_count": 16,
   "metadata": {},
   "outputs": [],
   "source": [
    "if tabla[tabla['Diferencia PDIA'] != 0]['Diferencia PDIA'].sum() != 0:\n",
    "  # Save to csv\n",
    "  tabla.to_csv('covid_huelva.csv', encoding='utf-8', header=True, index=True)  "
   ]
  },
  {
   "cell_type": "code",
   "execution_count": 17,
   "metadata": {},
   "outputs": [
    {
     "output_type": "execute_result",
     "data": {
      "text/plain": [
       "Medida                             Confirmados PDIA  Confirmados PDIA 7 días  \\\n",
       "Lugar de residencia                                                            \n",
       "San Bartolomé de la Torre                     244.0                     21.0   \n",
       "Rociana del Condado                           385.0                     30.0   \n",
       "Alosno                                        151.0                      2.0   \n",
       "Almonte                                      1045.0                     62.0   \n",
       "Niebla                                        175.0                      5.0   \n",
       "Bollullos Par del Condado                     686.0                     35.0   \n",
       "Condado-Campiña                              7562.0                    256.0   \n",
       "Bonares                                       198.0                     16.0   \n",
       "Palos de la Frontera                          492.0                     17.0   \n",
       "Cartaya                                      1026.0                     29.0   \n",
       "Paterna del Campo                             120.0                      1.0   \n",
       "Moguer                                        899.0                     21.0   \n",
       "San Juan del Puerto                           383.0                     12.0   \n",
       "Villalba del Alcor                            463.0                      3.0   \n",
       "Gibraleón                                     550.0                     10.0   \n",
       "Aracena                                       464.0                     11.0   \n",
       "Higuera de la Sierra                           31.0                      2.0   \n",
       "Trigueros                                     240.0                     12.0   \n",
       "Huelva                                      25807.0                    424.0   \n",
       "Aroche                                         83.0                      2.0   \n",
       "Punta Umbría                                  672.0                      8.0   \n",
       "Huelva-Costa                                15484.0                    141.0   \n",
       "Escacena del Campo                            142.0                      1.0   \n",
       "Paymogo                                        74.0                      1.0   \n",
       "Huelva (capital)                             6748.0                     78.0   \n",
       "Palma del Condado (La)                        996.0                      7.0   \n",
       "Galaroza                                       15.0                      1.0   \n",
       "Ayamonte                                     1247.0                      4.0   \n",
       "Lepe                                         2026.0                      9.0   \n",
       "Valverde del Camino                           431.0                      4.0   \n",
       "Aljaraque                                     938.0                      7.0   \n",
       "Beas                                          165.0                      2.0   \n",
       "Sierra de Huelva-Andévalo Central            2338.0                     22.0   \n",
       "Isla Cristina                                2013.0                      3.0   \n",
       "Calañas                                       172.0                      1.0   \n",
       "Zalamea la Real                                86.0                      1.0   \n",
       "Lucena del Puerto                             162.0                      1.0   \n",
       "\n",
       "Medida                             Confirmados PDIA 14 días  Población  \\\n",
       "Lugar de residencia                                                      \n",
       "San Bartolomé de la Torre                              34.0     3761.0   \n",
       "Rociana del Condado                                    61.0     7939.0   \n",
       "Alosno                                                 23.0     3933.0   \n",
       "Almonte                                               136.0    24507.0   \n",
       "Niebla                                                 16.0     4116.0   \n",
       "Bollullos Par del Condado                              53.0    14387.0   \n",
       "Condado-Campiña                                       469.0   156231.0   \n",
       "Bonares                                                18.0     6060.0   \n",
       "Palos de la Frontera                                   31.0    11742.0   \n",
       "Cartaya                                                52.0    20083.0   \n",
       "Paterna del Campo                                       7.0     3457.0   \n",
       "Moguer                                                 41.0    21867.0   \n",
       "San Juan del Puerto                                    17.0     9411.0   \n",
       "Villalba del Alcor                                      6.0     3366.0   \n",
       "Gibraleón                                              22.0    12737.0   \n",
       "Aracena                                                14.0     8255.0   \n",
       "Higuera de la Sierra                                    2.0     1291.0   \n",
       "Trigueros                                              12.0     7862.0   \n",
       "Huelva                                                771.0   513170.0   \n",
       "Aroche                                                  3.0     3054.0   \n",
       "Punta Umbría                                           14.0    15355.0   \n",
       "Huelva-Costa                                          257.0   289548.0   \n",
       "Escacena del Campo                                      2.0     2287.0   \n",
       "Paymogo                                                 1.0     1162.0   \n",
       "Huelva (capital)                                      115.0   143837.0   \n",
       "Palma del Condado (La)                                  8.0    10801.0   \n",
       "Galaroza                                                1.0     1382.0   \n",
       "Ayamonte                                               14.0    21104.0   \n",
       "Lepe                                                   18.0    27880.0   \n",
       "Valverde del Camino                                     8.0    12750.0   \n",
       "Aljaraque                                              10.0    21474.0   \n",
       "Beas                                                    2.0     4341.0   \n",
       "Sierra de Huelva-Andévalo Central                      30.0    67391.0   \n",
       "Isla Cristina                                           8.0    21393.0   \n",
       "Calañas                                                 1.0     2768.0   \n",
       "Zalamea la Real                                         1.0     3054.0   \n",
       "Lucena del Puerto                                       1.0     3261.0   \n",
       "\n",
       "Medida                                  tasa7      tasa14  Diferencia PDIA  \n",
       "Lugar de residencia                                                         \n",
       "San Bartolomé de la Torre          558.362138  904.014890              7.0  \n",
       "Rociana del Condado                377.881345  768.358735              4.0  \n",
       "Alosno                              50.851767  584.795322              1.0  \n",
       "Almonte                            252.988942  554.943486             17.0  \n",
       "Niebla                             121.477162  388.726919              0.0  \n",
       "Bollullos Par del Condado          243.275179  368.388128              3.0  \n",
       "Condado-Campiña                    163.859925  300.196504             63.0  \n",
       "Bonares                            264.026403  297.029703              2.0  \n",
       "Palos de la Frontera               144.779424  264.009538              5.0  \n",
       "Cartaya                            144.400737  258.925459             11.0  \n",
       "Paterna del Campo                   28.926815  202.487706              0.0  \n",
       "Moguer                              96.035121  187.497142              5.0  \n",
       "San Juan del Puerto                127.510360  180.639677              4.0  \n",
       "Villalba del Alcor                  89.126560  178.253119              1.0  \n",
       "Gibraleón                           78.511423  172.725132              4.0  \n",
       "Aracena                            133.252574  169.594185              4.0  \n",
       "Higuera de la Sierra               154.918668  154.918668              NaN  \n",
       "Trigueros                          152.632918  152.632918              8.0  \n",
       "Huelva                              82.623692  150.242610            126.0  \n",
       "Aroche                              65.487885   98.231827              0.0  \n",
       "Punta Umbría                        52.100293   91.175513              5.0  \n",
       "Huelva-Costa                        48.696589   88.759031             54.0  \n",
       "Escacena del Campo                  43.725404   87.450809              0.0  \n",
       "Paymogo                             86.058520   86.058520              0.0  \n",
       "Huelva (capital)                    54.228050   79.951612             27.0  \n",
       "Palma del Condado (La)              64.808814   74.067216              1.0  \n",
       "Galaroza                            72.358900   72.358900              0.0  \n",
       "Ayamonte                            18.953753   66.338135              2.0  \n",
       "Lepe                                32.281205   64.562410              3.0  \n",
       "Valverde del Camino                 31.372549   62.745098              1.0  \n",
       "Aljaraque                           32.597560   46.567943              4.0  \n",
       "Beas                                46.072334   46.072334              NaN  \n",
       "Sierra de Huelva-Andévalo Central   32.645309   44.516330              7.0  \n",
       "Isla Cristina                       14.023279   37.395410              1.0  \n",
       "Calañas                             36.127168   36.127168              0.0  \n",
       "Zalamea la Real                     32.743942   32.743942              0.0  \n",
       "Lucena del Puerto                   30.665440   30.665440              0.0  "
      ],
      "text/html": "<div>\n<style scoped>\n    .dataframe tbody tr th:only-of-type {\n        vertical-align: middle;\n    }\n\n    .dataframe tbody tr th {\n        vertical-align: top;\n    }\n\n    .dataframe thead th {\n        text-align: right;\n    }\n</style>\n<table border=\"1\" class=\"dataframe\">\n  <thead>\n    <tr style=\"text-align: right;\">\n      <th>Medida</th>\n      <th>Confirmados PDIA</th>\n      <th>Confirmados PDIA 7 días</th>\n      <th>Confirmados PDIA 14 días</th>\n      <th>Población</th>\n      <th>tasa7</th>\n      <th>tasa14</th>\n      <th>Diferencia PDIA</th>\n    </tr>\n    <tr>\n      <th>Lugar de residencia</th>\n      <th></th>\n      <th></th>\n      <th></th>\n      <th></th>\n      <th></th>\n      <th></th>\n      <th></th>\n    </tr>\n  </thead>\n  <tbody>\n    <tr>\n      <th>San Bartolomé de la Torre</th>\n      <td>244.0</td>\n      <td>21.0</td>\n      <td>34.0</td>\n      <td>3761.0</td>\n      <td>558.362138</td>\n      <td>904.014890</td>\n      <td>7.0</td>\n    </tr>\n    <tr>\n      <th>Rociana del Condado</th>\n      <td>385.0</td>\n      <td>30.0</td>\n      <td>61.0</td>\n      <td>7939.0</td>\n      <td>377.881345</td>\n      <td>768.358735</td>\n      <td>4.0</td>\n    </tr>\n    <tr>\n      <th>Alosno</th>\n      <td>151.0</td>\n      <td>2.0</td>\n      <td>23.0</td>\n      <td>3933.0</td>\n      <td>50.851767</td>\n      <td>584.795322</td>\n      <td>1.0</td>\n    </tr>\n    <tr>\n      <th>Almonte</th>\n      <td>1045.0</td>\n      <td>62.0</td>\n      <td>136.0</td>\n      <td>24507.0</td>\n      <td>252.988942</td>\n      <td>554.943486</td>\n      <td>17.0</td>\n    </tr>\n    <tr>\n      <th>Niebla</th>\n      <td>175.0</td>\n      <td>5.0</td>\n      <td>16.0</td>\n      <td>4116.0</td>\n      <td>121.477162</td>\n      <td>388.726919</td>\n      <td>0.0</td>\n    </tr>\n    <tr>\n      <th>Bollullos Par del Condado</th>\n      <td>686.0</td>\n      <td>35.0</td>\n      <td>53.0</td>\n      <td>14387.0</td>\n      <td>243.275179</td>\n      <td>368.388128</td>\n      <td>3.0</td>\n    </tr>\n    <tr>\n      <th>Condado-Campiña</th>\n      <td>7562.0</td>\n      <td>256.0</td>\n      <td>469.0</td>\n      <td>156231.0</td>\n      <td>163.859925</td>\n      <td>300.196504</td>\n      <td>63.0</td>\n    </tr>\n    <tr>\n      <th>Bonares</th>\n      <td>198.0</td>\n      <td>16.0</td>\n      <td>18.0</td>\n      <td>6060.0</td>\n      <td>264.026403</td>\n      <td>297.029703</td>\n      <td>2.0</td>\n    </tr>\n    <tr>\n      <th>Palos de la Frontera</th>\n      <td>492.0</td>\n      <td>17.0</td>\n      <td>31.0</td>\n      <td>11742.0</td>\n      <td>144.779424</td>\n      <td>264.009538</td>\n      <td>5.0</td>\n    </tr>\n    <tr>\n      <th>Cartaya</th>\n      <td>1026.0</td>\n      <td>29.0</td>\n      <td>52.0</td>\n      <td>20083.0</td>\n      <td>144.400737</td>\n      <td>258.925459</td>\n      <td>11.0</td>\n    </tr>\n    <tr>\n      <th>Paterna del Campo</th>\n      <td>120.0</td>\n      <td>1.0</td>\n      <td>7.0</td>\n      <td>3457.0</td>\n      <td>28.926815</td>\n      <td>202.487706</td>\n      <td>0.0</td>\n    </tr>\n    <tr>\n      <th>Moguer</th>\n      <td>899.0</td>\n      <td>21.0</td>\n      <td>41.0</td>\n      <td>21867.0</td>\n      <td>96.035121</td>\n      <td>187.497142</td>\n      <td>5.0</td>\n    </tr>\n    <tr>\n      <th>San Juan del Puerto</th>\n      <td>383.0</td>\n      <td>12.0</td>\n      <td>17.0</td>\n      <td>9411.0</td>\n      <td>127.510360</td>\n      <td>180.639677</td>\n      <td>4.0</td>\n    </tr>\n    <tr>\n      <th>Villalba del Alcor</th>\n      <td>463.0</td>\n      <td>3.0</td>\n      <td>6.0</td>\n      <td>3366.0</td>\n      <td>89.126560</td>\n      <td>178.253119</td>\n      <td>1.0</td>\n    </tr>\n    <tr>\n      <th>Gibraleón</th>\n      <td>550.0</td>\n      <td>10.0</td>\n      <td>22.0</td>\n      <td>12737.0</td>\n      <td>78.511423</td>\n      <td>172.725132</td>\n      <td>4.0</td>\n    </tr>\n    <tr>\n      <th>Aracena</th>\n      <td>464.0</td>\n      <td>11.0</td>\n      <td>14.0</td>\n      <td>8255.0</td>\n      <td>133.252574</td>\n      <td>169.594185</td>\n      <td>4.0</td>\n    </tr>\n    <tr>\n      <th>Higuera de la Sierra</th>\n      <td>31.0</td>\n      <td>2.0</td>\n      <td>2.0</td>\n      <td>1291.0</td>\n      <td>154.918668</td>\n      <td>154.918668</td>\n      <td>NaN</td>\n    </tr>\n    <tr>\n      <th>Trigueros</th>\n      <td>240.0</td>\n      <td>12.0</td>\n      <td>12.0</td>\n      <td>7862.0</td>\n      <td>152.632918</td>\n      <td>152.632918</td>\n      <td>8.0</td>\n    </tr>\n    <tr>\n      <th>Huelva</th>\n      <td>25807.0</td>\n      <td>424.0</td>\n      <td>771.0</td>\n      <td>513170.0</td>\n      <td>82.623692</td>\n      <td>150.242610</td>\n      <td>126.0</td>\n    </tr>\n    <tr>\n      <th>Aroche</th>\n      <td>83.0</td>\n      <td>2.0</td>\n      <td>3.0</td>\n      <td>3054.0</td>\n      <td>65.487885</td>\n      <td>98.231827</td>\n      <td>0.0</td>\n    </tr>\n    <tr>\n      <th>Punta Umbría</th>\n      <td>672.0</td>\n      <td>8.0</td>\n      <td>14.0</td>\n      <td>15355.0</td>\n      <td>52.100293</td>\n      <td>91.175513</td>\n      <td>5.0</td>\n    </tr>\n    <tr>\n      <th>Huelva-Costa</th>\n      <td>15484.0</td>\n      <td>141.0</td>\n      <td>257.0</td>\n      <td>289548.0</td>\n      <td>48.696589</td>\n      <td>88.759031</td>\n      <td>54.0</td>\n    </tr>\n    <tr>\n      <th>Escacena del Campo</th>\n      <td>142.0</td>\n      <td>1.0</td>\n      <td>2.0</td>\n      <td>2287.0</td>\n      <td>43.725404</td>\n      <td>87.450809</td>\n      <td>0.0</td>\n    </tr>\n    <tr>\n      <th>Paymogo</th>\n      <td>74.0</td>\n      <td>1.0</td>\n      <td>1.0</td>\n      <td>1162.0</td>\n      <td>86.058520</td>\n      <td>86.058520</td>\n      <td>0.0</td>\n    </tr>\n    <tr>\n      <th>Huelva (capital)</th>\n      <td>6748.0</td>\n      <td>78.0</td>\n      <td>115.0</td>\n      <td>143837.0</td>\n      <td>54.228050</td>\n      <td>79.951612</td>\n      <td>27.0</td>\n    </tr>\n    <tr>\n      <th>Palma del Condado (La)</th>\n      <td>996.0</td>\n      <td>7.0</td>\n      <td>8.0</td>\n      <td>10801.0</td>\n      <td>64.808814</td>\n      <td>74.067216</td>\n      <td>1.0</td>\n    </tr>\n    <tr>\n      <th>Galaroza</th>\n      <td>15.0</td>\n      <td>1.0</td>\n      <td>1.0</td>\n      <td>1382.0</td>\n      <td>72.358900</td>\n      <td>72.358900</td>\n      <td>0.0</td>\n    </tr>\n    <tr>\n      <th>Ayamonte</th>\n      <td>1247.0</td>\n      <td>4.0</td>\n      <td>14.0</td>\n      <td>21104.0</td>\n      <td>18.953753</td>\n      <td>66.338135</td>\n      <td>2.0</td>\n    </tr>\n    <tr>\n      <th>Lepe</th>\n      <td>2026.0</td>\n      <td>9.0</td>\n      <td>18.0</td>\n      <td>27880.0</td>\n      <td>32.281205</td>\n      <td>64.562410</td>\n      <td>3.0</td>\n    </tr>\n    <tr>\n      <th>Valverde del Camino</th>\n      <td>431.0</td>\n      <td>4.0</td>\n      <td>8.0</td>\n      <td>12750.0</td>\n      <td>31.372549</td>\n      <td>62.745098</td>\n      <td>1.0</td>\n    </tr>\n    <tr>\n      <th>Aljaraque</th>\n      <td>938.0</td>\n      <td>7.0</td>\n      <td>10.0</td>\n      <td>21474.0</td>\n      <td>32.597560</td>\n      <td>46.567943</td>\n      <td>4.0</td>\n    </tr>\n    <tr>\n      <th>Beas</th>\n      <td>165.0</td>\n      <td>2.0</td>\n      <td>2.0</td>\n      <td>4341.0</td>\n      <td>46.072334</td>\n      <td>46.072334</td>\n      <td>NaN</td>\n    </tr>\n    <tr>\n      <th>Sierra de Huelva-Andévalo Central</th>\n      <td>2338.0</td>\n      <td>22.0</td>\n      <td>30.0</td>\n      <td>67391.0</td>\n      <td>32.645309</td>\n      <td>44.516330</td>\n      <td>7.0</td>\n    </tr>\n    <tr>\n      <th>Isla Cristina</th>\n      <td>2013.0</td>\n      <td>3.0</td>\n      <td>8.0</td>\n      <td>21393.0</td>\n      <td>14.023279</td>\n      <td>37.395410</td>\n      <td>1.0</td>\n    </tr>\n    <tr>\n      <th>Calañas</th>\n      <td>172.0</td>\n      <td>1.0</td>\n      <td>1.0</td>\n      <td>2768.0</td>\n      <td>36.127168</td>\n      <td>36.127168</td>\n      <td>0.0</td>\n    </tr>\n    <tr>\n      <th>Zalamea la Real</th>\n      <td>86.0</td>\n      <td>1.0</td>\n      <td>1.0</td>\n      <td>3054.0</td>\n      <td>32.743942</td>\n      <td>32.743942</td>\n      <td>0.0</td>\n    </tr>\n    <tr>\n      <th>Lucena del Puerto</th>\n      <td>162.0</td>\n      <td>1.0</td>\n      <td>1.0</td>\n      <td>3261.0</td>\n      <td>30.665440</td>\n      <td>30.665440</td>\n      <td>0.0</td>\n    </tr>\n  </tbody>\n</table>\n</div>"
     },
     "metadata": {},
     "execution_count": 17
    }
   ],
   "source": [
    "tabla.sort_values('tasa14', ascending=False)"
   ]
  },
  {
   "cell_type": "code",
   "execution_count": 18,
   "metadata": {},
   "outputs": [
    {
     "output_type": "execute_result",
     "data": {
      "text/plain": [
       "Medida                             Confirmados PDIA  Confirmados PDIA 7 días  \\\n",
       "Lugar de residencia                                                            \n",
       "Alosno                                        151.0                      2.0   \n",
       "Paterna del Campo                             120.0                      1.0   \n",
       "Ayamonte                                     1247.0                      4.0   \n",
       "Niebla                                        175.0                      5.0   \n",
       "Isla Cristina                                2013.0                      3.0   \n",
       "Gibraleón                                     550.0                     10.0   \n",
       "Almonte                                      1045.0                     62.0   \n",
       "Rociana del Condado                           385.0                     30.0   \n",
       "Valverde del Camino                           431.0                      4.0   \n",
       "Lepe                                         2026.0                      9.0   \n",
       "Villalba del Alcor                            463.0                      3.0   \n",
       "Escacena del Campo                            142.0                      1.0   \n",
       "Moguer                                        899.0                     21.0   \n",
       "Condado-Campiña                              7562.0                    256.0   \n",
       "Palos de la Frontera                          492.0                     17.0   \n",
       "Huelva-Costa                                15484.0                    141.0   \n",
       "Huelva                                      25807.0                    424.0   \n",
       "Cartaya                                      1026.0                     29.0   \n",
       "Punta Umbría                                  672.0                      8.0   \n",
       "San Bartolomé de la Torre                     244.0                     21.0   \n",
       "Bollullos Par del Condado                     686.0                     35.0   \n",
       "Aroche                                         83.0                      2.0   \n",
       "Huelva (capital)                             6748.0                     78.0   \n",
       "Aljaraque                                     938.0                      7.0   \n",
       "San Juan del Puerto                           383.0                     12.0   \n",
       "Sierra de Huelva-Andévalo Central            2338.0                     22.0   \n",
       "Aracena                                       464.0                     11.0   \n",
       "Palma del Condado (La)                        996.0                      7.0   \n",
       "Bonares                                       198.0                     16.0   \n",
       "Higuera de la Sierra                           31.0                      2.0   \n",
       "Galaroza                                       15.0                      1.0   \n",
       "Paymogo                                        74.0                      1.0   \n",
       "Calañas                                       172.0                      1.0   \n",
       "Beas                                          165.0                      2.0   \n",
       "Trigueros                                     240.0                     12.0   \n",
       "Lucena del Puerto                             162.0                      1.0   \n",
       "Zalamea la Real                                86.0                      1.0   \n",
       "\n",
       "Medida                             Confirmados PDIA 14 días  Población  \\\n",
       "Lugar de residencia                                                      \n",
       "Alosno                                                 23.0     3933.0   \n",
       "Paterna del Campo                                       7.0     3457.0   \n",
       "Ayamonte                                               14.0    21104.0   \n",
       "Niebla                                                 16.0     4116.0   \n",
       "Isla Cristina                                           8.0    21393.0   \n",
       "Gibraleón                                              22.0    12737.0   \n",
       "Almonte                                               136.0    24507.0   \n",
       "Rociana del Condado                                    61.0     7939.0   \n",
       "Valverde del Camino                                     8.0    12750.0   \n",
       "Lepe                                                   18.0    27880.0   \n",
       "Villalba del Alcor                                      6.0     3366.0   \n",
       "Escacena del Campo                                      2.0     2287.0   \n",
       "Moguer                                                 41.0    21867.0   \n",
       "Condado-Campiña                                       469.0   156231.0   \n",
       "Palos de la Frontera                                   31.0    11742.0   \n",
       "Huelva-Costa                                          257.0   289548.0   \n",
       "Huelva                                                771.0   513170.0   \n",
       "Cartaya                                                52.0    20083.0   \n",
       "Punta Umbría                                           14.0    15355.0   \n",
       "San Bartolomé de la Torre                              34.0     3761.0   \n",
       "Bollullos Par del Condado                              53.0    14387.0   \n",
       "Aroche                                                  3.0     3054.0   \n",
       "Huelva (capital)                                      115.0   143837.0   \n",
       "Aljaraque                                              10.0    21474.0   \n",
       "San Juan del Puerto                                    17.0     9411.0   \n",
       "Sierra de Huelva-Andévalo Central                      30.0    67391.0   \n",
       "Aracena                                                14.0     8255.0   \n",
       "Palma del Condado (La)                                  8.0    10801.0   \n",
       "Bonares                                                18.0     6060.0   \n",
       "Higuera de la Sierra                                    2.0     1291.0   \n",
       "Galaroza                                                1.0     1382.0   \n",
       "Paymogo                                                 1.0     1162.0   \n",
       "Calañas                                                 1.0     2768.0   \n",
       "Beas                                                    2.0     4341.0   \n",
       "Trigueros                                              12.0     7862.0   \n",
       "Lucena del Puerto                                       1.0     3261.0   \n",
       "Zalamea la Real                                         1.0     3054.0   \n",
       "\n",
       "Medida                                  tasa7      tasa14  Diferencia PDIA  \\\n",
       "Lugar de residencia                                                          \n",
       "Alosno                              50.851767  584.795322              1.0   \n",
       "Paterna del Campo                   28.926815  202.487706              0.0   \n",
       "Ayamonte                            18.953753   66.338135              2.0   \n",
       "Niebla                             121.477162  388.726919              0.0   \n",
       "Isla Cristina                       14.023279   37.395410              1.0   \n",
       "Gibraleón                           78.511423  172.725132              4.0   \n",
       "Almonte                            252.988942  554.943486             17.0   \n",
       "Rociana del Condado                377.881345  768.358735              4.0   \n",
       "Valverde del Camino                 31.372549   62.745098              1.0   \n",
       "Lepe                                32.281205   64.562410              3.0   \n",
       "Villalba del Alcor                  89.126560  178.253119              1.0   \n",
       "Escacena del Campo                  43.725404   87.450809              0.0   \n",
       "Moguer                              96.035121  187.497142              5.0   \n",
       "Condado-Campiña                    163.859925  300.196504             63.0   \n",
       "Palos de la Frontera               144.779424  264.009538              5.0   \n",
       "Huelva-Costa                        48.696589   88.759031             54.0   \n",
       "Huelva                              82.623692  150.242610            126.0   \n",
       "Cartaya                            144.400737  258.925459             11.0   \n",
       "Punta Umbría                        52.100293   91.175513              5.0   \n",
       "San Bartolomé de la Torre          558.362138  904.014890              7.0   \n",
       "Bollullos Par del Condado          243.275179  368.388128              3.0   \n",
       "Aroche                              65.487885   98.231827              0.0   \n",
       "Huelva (capital)                    54.228050   79.951612             27.0   \n",
       "Aljaraque                           32.597560   46.567943              4.0   \n",
       "San Juan del Puerto                127.510360  180.639677              4.0   \n",
       "Sierra de Huelva-Andévalo Central   32.645309   44.516330              7.0   \n",
       "Aracena                            133.252574  169.594185              4.0   \n",
       "Palma del Condado (La)              64.808814   74.067216              1.0   \n",
       "Bonares                            264.026403  297.029703              2.0   \n",
       "Higuera de la Sierra               154.918668  154.918668              0.0   \n",
       "Galaroza                            72.358900   72.358900              0.0   \n",
       "Paymogo                             86.058520   86.058520              0.0   \n",
       "Calañas                             36.127168   36.127168              0.0   \n",
       "Beas                                46.072334   46.072334              0.0   \n",
       "Trigueros                          152.632918  152.632918              8.0   \n",
       "Lucena del Puerto                   30.665440   30.665440              0.0   \n",
       "Zalamea la Real                     32.743942   32.743942              0.0   \n",
       "\n",
       "Medida                                 7/14  \n",
       "Lugar de residencia                          \n",
       "Alosno                             0.086957  \n",
       "Paterna del Campo                  0.142857  \n",
       "Ayamonte                           0.285714  \n",
       "Niebla                             0.312500  \n",
       "Isla Cristina                      0.375000  \n",
       "Gibraleón                          0.454545  \n",
       "Almonte                            0.455882  \n",
       "Rociana del Condado                0.491803  \n",
       "Valverde del Camino                0.500000  \n",
       "Lepe                               0.500000  \n",
       "Villalba del Alcor                 0.500000  \n",
       "Escacena del Campo                 0.500000  \n",
       "Moguer                             0.512195  \n",
       "Condado-Campiña                    0.545842  \n",
       "Palos de la Frontera               0.548387  \n",
       "Huelva-Costa                       0.548638  \n",
       "Huelva                             0.549935  \n",
       "Cartaya                            0.557692  \n",
       "Punta Umbría                       0.571429  \n",
       "San Bartolomé de la Torre          0.617647  \n",
       "Bollullos Par del Condado          0.660377  \n",
       "Aroche                             0.666667  \n",
       "Huelva (capital)                   0.678261  \n",
       "Aljaraque                          0.700000  \n",
       "San Juan del Puerto                0.705882  \n",
       "Sierra de Huelva-Andévalo Central  0.733333  \n",
       "Aracena                            0.785714  \n",
       "Palma del Condado (La)             0.875000  \n",
       "Bonares                            0.888889  \n",
       "Higuera de la Sierra               1.000000  \n",
       "Galaroza                           1.000000  \n",
       "Paymogo                            1.000000  \n",
       "Calañas                            1.000000  \n",
       "Beas                               1.000000  \n",
       "Trigueros                          1.000000  \n",
       "Lucena del Puerto                  1.000000  \n",
       "Zalamea la Real                    1.000000  "
      ],
      "text/html": "<div>\n<style scoped>\n    .dataframe tbody tr th:only-of-type {\n        vertical-align: middle;\n    }\n\n    .dataframe tbody tr th {\n        vertical-align: top;\n    }\n\n    .dataframe thead th {\n        text-align: right;\n    }\n</style>\n<table border=\"1\" class=\"dataframe\">\n  <thead>\n    <tr style=\"text-align: right;\">\n      <th>Medida</th>\n      <th>Confirmados PDIA</th>\n      <th>Confirmados PDIA 7 días</th>\n      <th>Confirmados PDIA 14 días</th>\n      <th>Población</th>\n      <th>tasa7</th>\n      <th>tasa14</th>\n      <th>Diferencia PDIA</th>\n      <th>7/14</th>\n    </tr>\n    <tr>\n      <th>Lugar de residencia</th>\n      <th></th>\n      <th></th>\n      <th></th>\n      <th></th>\n      <th></th>\n      <th></th>\n      <th></th>\n      <th></th>\n    </tr>\n  </thead>\n  <tbody>\n    <tr>\n      <th>Alosno</th>\n      <td>151.0</td>\n      <td>2.0</td>\n      <td>23.0</td>\n      <td>3933.0</td>\n      <td>50.851767</td>\n      <td>584.795322</td>\n      <td>1.0</td>\n      <td>0.086957</td>\n    </tr>\n    <tr>\n      <th>Paterna del Campo</th>\n      <td>120.0</td>\n      <td>1.0</td>\n      <td>7.0</td>\n      <td>3457.0</td>\n      <td>28.926815</td>\n      <td>202.487706</td>\n      <td>0.0</td>\n      <td>0.142857</td>\n    </tr>\n    <tr>\n      <th>Ayamonte</th>\n      <td>1247.0</td>\n      <td>4.0</td>\n      <td>14.0</td>\n      <td>21104.0</td>\n      <td>18.953753</td>\n      <td>66.338135</td>\n      <td>2.0</td>\n      <td>0.285714</td>\n    </tr>\n    <tr>\n      <th>Niebla</th>\n      <td>175.0</td>\n      <td>5.0</td>\n      <td>16.0</td>\n      <td>4116.0</td>\n      <td>121.477162</td>\n      <td>388.726919</td>\n      <td>0.0</td>\n      <td>0.312500</td>\n    </tr>\n    <tr>\n      <th>Isla Cristina</th>\n      <td>2013.0</td>\n      <td>3.0</td>\n      <td>8.0</td>\n      <td>21393.0</td>\n      <td>14.023279</td>\n      <td>37.395410</td>\n      <td>1.0</td>\n      <td>0.375000</td>\n    </tr>\n    <tr>\n      <th>Gibraleón</th>\n      <td>550.0</td>\n      <td>10.0</td>\n      <td>22.0</td>\n      <td>12737.0</td>\n      <td>78.511423</td>\n      <td>172.725132</td>\n      <td>4.0</td>\n      <td>0.454545</td>\n    </tr>\n    <tr>\n      <th>Almonte</th>\n      <td>1045.0</td>\n      <td>62.0</td>\n      <td>136.0</td>\n      <td>24507.0</td>\n      <td>252.988942</td>\n      <td>554.943486</td>\n      <td>17.0</td>\n      <td>0.455882</td>\n    </tr>\n    <tr>\n      <th>Rociana del Condado</th>\n      <td>385.0</td>\n      <td>30.0</td>\n      <td>61.0</td>\n      <td>7939.0</td>\n      <td>377.881345</td>\n      <td>768.358735</td>\n      <td>4.0</td>\n      <td>0.491803</td>\n    </tr>\n    <tr>\n      <th>Valverde del Camino</th>\n      <td>431.0</td>\n      <td>4.0</td>\n      <td>8.0</td>\n      <td>12750.0</td>\n      <td>31.372549</td>\n      <td>62.745098</td>\n      <td>1.0</td>\n      <td>0.500000</td>\n    </tr>\n    <tr>\n      <th>Lepe</th>\n      <td>2026.0</td>\n      <td>9.0</td>\n      <td>18.0</td>\n      <td>27880.0</td>\n      <td>32.281205</td>\n      <td>64.562410</td>\n      <td>3.0</td>\n      <td>0.500000</td>\n    </tr>\n    <tr>\n      <th>Villalba del Alcor</th>\n      <td>463.0</td>\n      <td>3.0</td>\n      <td>6.0</td>\n      <td>3366.0</td>\n      <td>89.126560</td>\n      <td>178.253119</td>\n      <td>1.0</td>\n      <td>0.500000</td>\n    </tr>\n    <tr>\n      <th>Escacena del Campo</th>\n      <td>142.0</td>\n      <td>1.0</td>\n      <td>2.0</td>\n      <td>2287.0</td>\n      <td>43.725404</td>\n      <td>87.450809</td>\n      <td>0.0</td>\n      <td>0.500000</td>\n    </tr>\n    <tr>\n      <th>Moguer</th>\n      <td>899.0</td>\n      <td>21.0</td>\n      <td>41.0</td>\n      <td>21867.0</td>\n      <td>96.035121</td>\n      <td>187.497142</td>\n      <td>5.0</td>\n      <td>0.512195</td>\n    </tr>\n    <tr>\n      <th>Condado-Campiña</th>\n      <td>7562.0</td>\n      <td>256.0</td>\n      <td>469.0</td>\n      <td>156231.0</td>\n      <td>163.859925</td>\n      <td>300.196504</td>\n      <td>63.0</td>\n      <td>0.545842</td>\n    </tr>\n    <tr>\n      <th>Palos de la Frontera</th>\n      <td>492.0</td>\n      <td>17.0</td>\n      <td>31.0</td>\n      <td>11742.0</td>\n      <td>144.779424</td>\n      <td>264.009538</td>\n      <td>5.0</td>\n      <td>0.548387</td>\n    </tr>\n    <tr>\n      <th>Huelva-Costa</th>\n      <td>15484.0</td>\n      <td>141.0</td>\n      <td>257.0</td>\n      <td>289548.0</td>\n      <td>48.696589</td>\n      <td>88.759031</td>\n      <td>54.0</td>\n      <td>0.548638</td>\n    </tr>\n    <tr>\n      <th>Huelva</th>\n      <td>25807.0</td>\n      <td>424.0</td>\n      <td>771.0</td>\n      <td>513170.0</td>\n      <td>82.623692</td>\n      <td>150.242610</td>\n      <td>126.0</td>\n      <td>0.549935</td>\n    </tr>\n    <tr>\n      <th>Cartaya</th>\n      <td>1026.0</td>\n      <td>29.0</td>\n      <td>52.0</td>\n      <td>20083.0</td>\n      <td>144.400737</td>\n      <td>258.925459</td>\n      <td>11.0</td>\n      <td>0.557692</td>\n    </tr>\n    <tr>\n      <th>Punta Umbría</th>\n      <td>672.0</td>\n      <td>8.0</td>\n      <td>14.0</td>\n      <td>15355.0</td>\n      <td>52.100293</td>\n      <td>91.175513</td>\n      <td>5.0</td>\n      <td>0.571429</td>\n    </tr>\n    <tr>\n      <th>San Bartolomé de la Torre</th>\n      <td>244.0</td>\n      <td>21.0</td>\n      <td>34.0</td>\n      <td>3761.0</td>\n      <td>558.362138</td>\n      <td>904.014890</td>\n      <td>7.0</td>\n      <td>0.617647</td>\n    </tr>\n    <tr>\n      <th>Bollullos Par del Condado</th>\n      <td>686.0</td>\n      <td>35.0</td>\n      <td>53.0</td>\n      <td>14387.0</td>\n      <td>243.275179</td>\n      <td>368.388128</td>\n      <td>3.0</td>\n      <td>0.660377</td>\n    </tr>\n    <tr>\n      <th>Aroche</th>\n      <td>83.0</td>\n      <td>2.0</td>\n      <td>3.0</td>\n      <td>3054.0</td>\n      <td>65.487885</td>\n      <td>98.231827</td>\n      <td>0.0</td>\n      <td>0.666667</td>\n    </tr>\n    <tr>\n      <th>Huelva (capital)</th>\n      <td>6748.0</td>\n      <td>78.0</td>\n      <td>115.0</td>\n      <td>143837.0</td>\n      <td>54.228050</td>\n      <td>79.951612</td>\n      <td>27.0</td>\n      <td>0.678261</td>\n    </tr>\n    <tr>\n      <th>Aljaraque</th>\n      <td>938.0</td>\n      <td>7.0</td>\n      <td>10.0</td>\n      <td>21474.0</td>\n      <td>32.597560</td>\n      <td>46.567943</td>\n      <td>4.0</td>\n      <td>0.700000</td>\n    </tr>\n    <tr>\n      <th>San Juan del Puerto</th>\n      <td>383.0</td>\n      <td>12.0</td>\n      <td>17.0</td>\n      <td>9411.0</td>\n      <td>127.510360</td>\n      <td>180.639677</td>\n      <td>4.0</td>\n      <td>0.705882</td>\n    </tr>\n    <tr>\n      <th>Sierra de Huelva-Andévalo Central</th>\n      <td>2338.0</td>\n      <td>22.0</td>\n      <td>30.0</td>\n      <td>67391.0</td>\n      <td>32.645309</td>\n      <td>44.516330</td>\n      <td>7.0</td>\n      <td>0.733333</td>\n    </tr>\n    <tr>\n      <th>Aracena</th>\n      <td>464.0</td>\n      <td>11.0</td>\n      <td>14.0</td>\n      <td>8255.0</td>\n      <td>133.252574</td>\n      <td>169.594185</td>\n      <td>4.0</td>\n      <td>0.785714</td>\n    </tr>\n    <tr>\n      <th>Palma del Condado (La)</th>\n      <td>996.0</td>\n      <td>7.0</td>\n      <td>8.0</td>\n      <td>10801.0</td>\n      <td>64.808814</td>\n      <td>74.067216</td>\n      <td>1.0</td>\n      <td>0.875000</td>\n    </tr>\n    <tr>\n      <th>Bonares</th>\n      <td>198.0</td>\n      <td>16.0</td>\n      <td>18.0</td>\n      <td>6060.0</td>\n      <td>264.026403</td>\n      <td>297.029703</td>\n      <td>2.0</td>\n      <td>0.888889</td>\n    </tr>\n    <tr>\n      <th>Higuera de la Sierra</th>\n      <td>31.0</td>\n      <td>2.0</td>\n      <td>2.0</td>\n      <td>1291.0</td>\n      <td>154.918668</td>\n      <td>154.918668</td>\n      <td>0.0</td>\n      <td>1.000000</td>\n    </tr>\n    <tr>\n      <th>Galaroza</th>\n      <td>15.0</td>\n      <td>1.0</td>\n      <td>1.0</td>\n      <td>1382.0</td>\n      <td>72.358900</td>\n      <td>72.358900</td>\n      <td>0.0</td>\n      <td>1.000000</td>\n    </tr>\n    <tr>\n      <th>Paymogo</th>\n      <td>74.0</td>\n      <td>1.0</td>\n      <td>1.0</td>\n      <td>1162.0</td>\n      <td>86.058520</td>\n      <td>86.058520</td>\n      <td>0.0</td>\n      <td>1.000000</td>\n    </tr>\n    <tr>\n      <th>Calañas</th>\n      <td>172.0</td>\n      <td>1.0</td>\n      <td>1.0</td>\n      <td>2768.0</td>\n      <td>36.127168</td>\n      <td>36.127168</td>\n      <td>0.0</td>\n      <td>1.000000</td>\n    </tr>\n    <tr>\n      <th>Beas</th>\n      <td>165.0</td>\n      <td>2.0</td>\n      <td>2.0</td>\n      <td>4341.0</td>\n      <td>46.072334</td>\n      <td>46.072334</td>\n      <td>0.0</td>\n      <td>1.000000</td>\n    </tr>\n    <tr>\n      <th>Trigueros</th>\n      <td>240.0</td>\n      <td>12.0</td>\n      <td>12.0</td>\n      <td>7862.0</td>\n      <td>152.632918</td>\n      <td>152.632918</td>\n      <td>8.0</td>\n      <td>1.000000</td>\n    </tr>\n    <tr>\n      <th>Lucena del Puerto</th>\n      <td>162.0</td>\n      <td>1.0</td>\n      <td>1.0</td>\n      <td>3261.0</td>\n      <td>30.665440</td>\n      <td>30.665440</td>\n      <td>0.0</td>\n      <td>1.000000</td>\n    </tr>\n    <tr>\n      <th>Zalamea la Real</th>\n      <td>86.0</td>\n      <td>1.0</td>\n      <td>1.0</td>\n      <td>3054.0</td>\n      <td>32.743942</td>\n      <td>32.743942</td>\n      <td>0.0</td>\n      <td>1.000000</td>\n    </tr>\n  </tbody>\n</table>\n</div>"
     },
     "metadata": {},
     "execution_count": 18
    }
   ],
   "source": [
    "# Peso de la tasa de la última semana en relación con la tasa a 14 días \n",
    "# Mejor cuanto menor. Valor 1 significa que no había casos antes de 7 días.\n",
    "tabla['7/14'] = tabla['tasa7'] / tabla['tasa14']\n",
    "tabla.fillna(0).sort_values('7/14', ascending=True)"
   ]
  },
  {
   "cell_type": "code",
   "execution_count": null,
   "metadata": {},
   "outputs": [],
   "source": []
  }
 ]
}