{
 "metadata": {
  "language_info": {
   "codemirror_mode": {
    "name": "ipython",
    "version": 3
   },
   "file_extension": ".py",
   "mimetype": "text/x-python",
   "name": "python",
   "nbconvert_exporter": "python",
   "pygments_lexer": "ipython3",
   "version": "3.8.6-final"
  },
  "orig_nbformat": 2,
  "kernelspec": {
   "name": "python38564bit75945252d6ba481bad4868286020c89e",
   "display_name": "Python 3.8.5 64-bit",
   "language": "python"
  }
 },
 "nbformat": 4,
 "nbformat_minor": 2,
 "cells": [
  {
   "cell_type": "code",
   "execution_count": 1,
   "metadata": {},
   "outputs": [],
   "source": [
    "import pandas as pd\n",
    "pd.set_option('display.max_rows', None) # Print all rows"
   ]
  },
  {
   "cell_type": "code",
   "execution_count": 2,
   "metadata": {},
   "outputs": [],
   "source": [
    "# FIX SSL: CERTIFICATE_VERIFY_FAILED with Python3\n",
    "# https://stackoverflow.com/a/49174340\n",
    "import ssl\n",
    "\n",
    "ssl._create_default_https_context = ssl._create_unverified_context"
   ]
  },
  {
   "cell_type": "code",
   "execution_count": 3,
   "metadata": {},
   "outputs": [],
   "source": [
    "url = 'https://www.juntadeandalucia.es/institutodeestadisticaycartografia/badea/stpivot/stpivot/Print?cube=013d884c-cfc5-4c21-9e78-e26225682afd&type=3&foto=si&ejecutaDesde=&codConsulta=38668&consTipoVisua=JP'\n",
    "fields = ['Lugar de residencia', 'Medida', 'Valor']\n",
    "df = pd.read_csv(url, delimiter=';', usecols=fields, decimal=',')"
   ]
  },
  {
   "cell_type": "code",
   "execution_count": 4,
   "metadata": {},
   "outputs": [
    {
     "output_type": "execute_result",
     "data": {
      "text/plain": [
       "  Lugar de residencia                    Medida            Valor\n",
       "0              Huelva                 Población           513170\n",
       "1              Huelva          Confirmados PDIA            24959\n",
       "2              Huelva  Confirmados PDIA 14 días              334\n",
       "3              Huelva         Tasa PDIA 14 días  65,085644133523\n",
       "4              Huelva   Confirmados PDIA 7 días              197\n",
       "5              Huelva        Total Confirmados             25157\n",
       "6              Huelva                   Curados            18845\n",
       "7              Huelva                Fallecidos              345"
      ],
      "text/html": "<div>\n<style scoped>\n    .dataframe tbody tr th:only-of-type {\n        vertical-align: middle;\n    }\n\n    .dataframe tbody tr th {\n        vertical-align: top;\n    }\n\n    .dataframe thead th {\n        text-align: right;\n    }\n</style>\n<table border=\"1\" class=\"dataframe\">\n  <thead>\n    <tr style=\"text-align: right;\">\n      <th></th>\n      <th>Lugar de residencia</th>\n      <th>Medida</th>\n      <th>Valor</th>\n    </tr>\n  </thead>\n  <tbody>\n    <tr>\n      <th>0</th>\n      <td>Huelva</td>\n      <td>Población</td>\n      <td>513170</td>\n    </tr>\n    <tr>\n      <th>1</th>\n      <td>Huelva</td>\n      <td>Confirmados PDIA</td>\n      <td>24959</td>\n    </tr>\n    <tr>\n      <th>2</th>\n      <td>Huelva</td>\n      <td>Confirmados PDIA 14 días</td>\n      <td>334</td>\n    </tr>\n    <tr>\n      <th>3</th>\n      <td>Huelva</td>\n      <td>Tasa PDIA 14 días</td>\n      <td>65,085644133523</td>\n    </tr>\n    <tr>\n      <th>4</th>\n      <td>Huelva</td>\n      <td>Confirmados PDIA 7 días</td>\n      <td>197</td>\n    </tr>\n    <tr>\n      <th>5</th>\n      <td>Huelva</td>\n      <td>Total Confirmados</td>\n      <td>25157</td>\n    </tr>\n    <tr>\n      <th>6</th>\n      <td>Huelva</td>\n      <td>Curados</td>\n      <td>18845</td>\n    </tr>\n    <tr>\n      <th>7</th>\n      <td>Huelva</td>\n      <td>Fallecidos</td>\n      <td>345</td>\n    </tr>\n  </tbody>\n</table>\n</div>"
     },
     "metadata": {},
     "execution_count": 4
    }
   ],
   "source": [
    "df[df['Lugar de residencia'] == 'Huelva']"
   ]
  },
  {
   "cell_type": "code",
   "execution_count": 5,
   "metadata": {},
   "outputs": [],
   "source": [
    "df['Valor'] = pd.to_numeric(df['Valor'],errors='coerce')"
   ]
  },
  {
   "cell_type": "code",
   "execution_count": 6,
   "metadata": {},
   "outputs": [],
   "source": [
    "dfAnterior = pd.read_csv('covid_huelva.csv', index_col='Lugar de residencia')"
   ]
  },
  {
   "cell_type": "code",
   "execution_count": 7,
   "metadata": {
    "tags": []
   },
   "outputs": [
    {
     "output_type": "stream",
     "name": "stdout",
     "text": [
      "Confirmados PCR en la provincia de Huelva:  24959.0\n",
      "<ipython-input-7-31b732756b19>:2: UserWarning: Boolean Series key will be reindexed to match DataFrame index.\n",
      "  p = df[df['Lugar de residencia'] == 'Huelva'][df['Medida'] == 'Confirmados PDIA']['Valor'].values[0]\n"
     ]
    }
   ],
   "source": [
    "# Confirmados PCR provincia Huelva\n",
    "p = df[df['Lugar de residencia'] == 'Huelva'][df['Medida'] == 'Confirmados PDIA']['Valor'].values[0]\n",
    "print('Confirmados PCR en la provincia de Huelva: ', p)"
   ]
  },
  {
   "cell_type": "code",
   "execution_count": 8,
   "metadata": {
    "tags": []
   },
   "outputs": [
    {
     "output_type": "stream",
     "name": "stdout",
     "text": [
      "Confirmados PCR en Huelva capital:  6614.0\n",
      "<ipython-input-8-e81bfb40e710>:2: UserWarning: Boolean Series key will be reindexed to match DataFrame index.\n",
      "  c = df[df['Lugar de residencia'] == 'Huelva (capital)'][df['Medida'] == 'Confirmados PDIA']['Valor'].values[0]\n"
     ]
    }
   ],
   "source": [
    "# Confirmados PCR Huelva capitalpd\n",
    "c = df[df['Lugar de residencia'] == 'Huelva (capital)'][df['Medida'] == 'Confirmados PDIA']['Valor'].values[0]\n",
    "print('Confirmados PCR en Huelva capital: ', c)"
   ]
  },
  {
   "cell_type": "code",
   "execution_count": 9,
   "metadata": {
    "tags": []
   },
   "outputs": [
    {
     "output_type": "stream",
     "name": "stderr",
     "text": [
      "<ipython-input-9-f09dd2050cc1>:1: UserWarning: Boolean Series key will be reindexed to match DataFrame index.\n  c7 = df[df['Lugar de residencia'] == 'Huelva (capital)'][df['Medida'] == 'Confirmados PDIA 7 días']['Valor'].values[0]\n<ipython-input-9-f09dd2050cc1>:2: UserWarning: Boolean Series key will be reindexed to match DataFrame index.\n  c14 = df[df['Lugar de residencia'] == 'Huelva (capital)'][df['Medida'] == 'Confirmados PDIA 14 días']['Valor'].values[0]\n<ipython-input-9-f09dd2050cc1>:3: UserWarning: Boolean Series key will be reindexed to match DataFrame index.\n  p = df[df['Lugar de residencia'] == 'Huelva (capital)'][df['Medida'] == 'Población']['Valor'].values[0]\n"
     ]
    }
   ],
   "source": [
    "c7 = df[df['Lugar de residencia'] == 'Huelva (capital)'][df['Medida'] == 'Confirmados PDIA 7 días']['Valor'].values[0]\n",
    "c14 = df[df['Lugar de residencia'] == 'Huelva (capital)'][df['Medida'] == 'Confirmados PDIA 14 días']['Valor'].values[0]\n",
    "p = df[df['Lugar de residencia'] == 'Huelva (capital)'][df['Medida'] == 'Población']['Valor'].values[0]"
   ]
  },
  {
   "cell_type": "code",
   "execution_count": 10,
   "metadata": {
    "tags": []
   },
   "outputs": [
    {
     "output_type": "stream",
     "name": "stdout",
     "text": [
      "Huelva (capital)\n\nUn positivo PCR cada 5137 personas en los últimos 7 días \n\nUn positivo PCR cada 2820 personas en los últimos 14 días\n"
     ]
    }
   ],
   "source": [
    "print('Huelva (capital)\\n')\n",
    "#print('Confirmados PCR 7 días x 1,000 habitantes: ', f\"{c7/(p/1000):.5f}\")\n",
    "print('Un positivo PCR cada', f\"{p/c7:.0f}\", 'personas en los últimos 7 días', '\\n')\n",
    "#print('Confirmados PCR 14 días x 1,000 habitantes: ', f\"{c14/(p/1000):.5f}\")\n",
    "print('Un positivo PCR cada', f\"{p/c14:.0f}\", 'personas en los últimos 14 días')"
   ]
  },
  {
   "cell_type": "code",
   "execution_count": 11,
   "metadata": {},
   "outputs": [],
   "source": [
    "filtro = ((df['Medida'] == 'Confirmados PDIA')| (df['Medida'] == 'Confirmados PDIA 7 días') | (df['Medida'] == 'Población' ) | (df['Medida'] == 'Confirmados PDIA 14 días')) & (df['Valor'] > 0)\n",
    "tabla = pd.pivot_table(df.loc[filtro], values='Valor', index='Lugar de residencia', columns='Medida').dropna()"
   ]
  },
  {
   "cell_type": "code",
   "execution_count": 12,
   "metadata": {},
   "outputs": [],
   "source": [
    "# Reorder columns\n",
    "tabla = tabla[['Confirmados PDIA', 'Confirmados PDIA 7 días', 'Confirmados PDIA 14 días', 'Población']]"
   ]
  },
  {
   "cell_type": "code",
   "execution_count": 13,
   "metadata": {},
   "outputs": [],
   "source": [
    "tabla['tasa7'] = tabla['Confirmados PDIA 7 días']/tabla['Población']*100000\n",
    "tabla['tasa14'] = tabla['Confirmados PDIA 14 días']/tabla['Población']*100000"
   ]
  },
  {
   "cell_type": "code",
   "execution_count": 14,
   "metadata": {},
   "outputs": [],
   "source": [
    "tabla['Diferencia PDIA'] = tabla['Confirmados PDIA'] - dfAnterior['Confirmados PDIA']"
   ]
  },
  {
   "cell_type": "code",
   "execution_count": 15,
   "metadata": {},
   "outputs": [
    {
     "output_type": "execute_result",
     "data": {
      "text/plain": [
       "Medida                             Confirmados PDIA  Confirmados PDIA 7 días  \\\n",
       "Lugar de residencia                                                            \n",
       "Huelva                                      24959.0                    197.0   \n",
       "Condado-Campiña                              7048.0                    101.0   \n",
       "Huelva-Costa                                15189.0                     85.0   \n",
       "Rociana del Condado                           320.0                      8.0   \n",
       "Sierra de Huelva-Andévalo Central            2309.0                     10.0   \n",
       "Valverde del Camino                           424.0                      8.0   \n",
       "Almonte                                       896.0                     21.0   \n",
       "Bollullos Par del Condado                     631.0                     12.0   \n",
       "Moguer                                        846.0                     12.0   \n",
       "San Juan del Puerto                           367.0                      2.0   \n",
       "Alosno                                        125.0                      3.0   \n",
       "Cartaya                                       972.0                     15.0   \n",
       "Huelva (capital)                             6614.0                     28.0   \n",
       "Isla Cristina                                1998.0                      6.0   \n",
       "San Bartolomé de la Torre                     210.0                      7.0   \n",
       "Villalba del Alcor                            456.0                     10.0   \n",
       "\n",
       "Medida                             Confirmados PDIA 14 días  Población  \\\n",
       "Lugar de residencia                                                      \n",
       "Huelva                                                334.0   513170.0   \n",
       "Condado-Campiña                                       157.0   156231.0   \n",
       "Huelva-Costa                                          165.0   289548.0   \n",
       "Rociana del Condado                                    10.0     7939.0   \n",
       "Sierra de Huelva-Andévalo Central                      10.0    67391.0   \n",
       "Valverde del Camino                                     8.0    12750.0   \n",
       "Almonte                                                31.0    24507.0   \n",
       "Bollullos Par del Condado                              18.0    14387.0   \n",
       "Moguer                                                 17.0    21867.0   \n",
       "San Juan del Puerto                                     9.0     9411.0   \n",
       "Alosno                                                  5.0     3933.0   \n",
       "Cartaya                                                23.0    20083.0   \n",
       "Huelva (capital)                                       51.0   143837.0   \n",
       "Isla Cristina                                          15.0    21393.0   \n",
       "San Bartolomé de la Torre                              17.0     3761.0   \n",
       "Villalba del Alcor                                     11.0     3366.0   \n",
       "\n",
       "Medida                                  tasa7      tasa14  Diferencia PDIA  \n",
       "Lugar de residencia                                                         \n",
       "Huelva                              38.388838   65.085644             20.0  \n",
       "Condado-Campiña                     64.647861  100.492220             13.0  \n",
       "Huelva-Costa                        29.356100   56.985370              4.0  \n",
       "Rociana del Condado                100.768359  125.960448              3.0  \n",
       "Sierra de Huelva-Andévalo Central   14.838777   14.838777              3.0  \n",
       "Valverde del Camino                 62.745098   62.745098              3.0  \n",
       "Almonte                             85.689803  126.494471              2.0  \n",
       "Bollullos Par del Condado           83.408633  125.112949              2.0  \n",
       "Moguer                              54.877212   77.742717              2.0  \n",
       "San Juan del Puerto                 21.251727   95.632770              2.0  \n",
       "Alosno                              76.277651  127.129418              1.0  \n",
       "Cartaya                             74.690036  114.524722              1.0  \n",
       "Huelva (capital)                    19.466479   35.456802              1.0  \n",
       "Isla Cristina                       28.046557   70.116393              1.0  \n",
       "San Bartolomé de la Torre          186.120713  452.007445              1.0  \n",
       "Villalba del Alcor                 297.088532  326.797386              1.0  "
      ],
      "text/html": "<div>\n<style scoped>\n    .dataframe tbody tr th:only-of-type {\n        vertical-align: middle;\n    }\n\n    .dataframe tbody tr th {\n        vertical-align: top;\n    }\n\n    .dataframe thead th {\n        text-align: right;\n    }\n</style>\n<table border=\"1\" class=\"dataframe\">\n  <thead>\n    <tr style=\"text-align: right;\">\n      <th>Medida</th>\n      <th>Confirmados PDIA</th>\n      <th>Confirmados PDIA 7 días</th>\n      <th>Confirmados PDIA 14 días</th>\n      <th>Población</th>\n      <th>tasa7</th>\n      <th>tasa14</th>\n      <th>Diferencia PDIA</th>\n    </tr>\n    <tr>\n      <th>Lugar de residencia</th>\n      <th></th>\n      <th></th>\n      <th></th>\n      <th></th>\n      <th></th>\n      <th></th>\n      <th></th>\n    </tr>\n  </thead>\n  <tbody>\n    <tr>\n      <th>Huelva</th>\n      <td>24959.0</td>\n      <td>197.0</td>\n      <td>334.0</td>\n      <td>513170.0</td>\n      <td>38.388838</td>\n      <td>65.085644</td>\n      <td>20.0</td>\n    </tr>\n    <tr>\n      <th>Condado-Campiña</th>\n      <td>7048.0</td>\n      <td>101.0</td>\n      <td>157.0</td>\n      <td>156231.0</td>\n      <td>64.647861</td>\n      <td>100.492220</td>\n      <td>13.0</td>\n    </tr>\n    <tr>\n      <th>Huelva-Costa</th>\n      <td>15189.0</td>\n      <td>85.0</td>\n      <td>165.0</td>\n      <td>289548.0</td>\n      <td>29.356100</td>\n      <td>56.985370</td>\n      <td>4.0</td>\n    </tr>\n    <tr>\n      <th>Rociana del Condado</th>\n      <td>320.0</td>\n      <td>8.0</td>\n      <td>10.0</td>\n      <td>7939.0</td>\n      <td>100.768359</td>\n      <td>125.960448</td>\n      <td>3.0</td>\n    </tr>\n    <tr>\n      <th>Sierra de Huelva-Andévalo Central</th>\n      <td>2309.0</td>\n      <td>10.0</td>\n      <td>10.0</td>\n      <td>67391.0</td>\n      <td>14.838777</td>\n      <td>14.838777</td>\n      <td>3.0</td>\n    </tr>\n    <tr>\n      <th>Valverde del Camino</th>\n      <td>424.0</td>\n      <td>8.0</td>\n      <td>8.0</td>\n      <td>12750.0</td>\n      <td>62.745098</td>\n      <td>62.745098</td>\n      <td>3.0</td>\n    </tr>\n    <tr>\n      <th>Almonte</th>\n      <td>896.0</td>\n      <td>21.0</td>\n      <td>31.0</td>\n      <td>24507.0</td>\n      <td>85.689803</td>\n      <td>126.494471</td>\n      <td>2.0</td>\n    </tr>\n    <tr>\n      <th>Bollullos Par del Condado</th>\n      <td>631.0</td>\n      <td>12.0</td>\n      <td>18.0</td>\n      <td>14387.0</td>\n      <td>83.408633</td>\n      <td>125.112949</td>\n      <td>2.0</td>\n    </tr>\n    <tr>\n      <th>Moguer</th>\n      <td>846.0</td>\n      <td>12.0</td>\n      <td>17.0</td>\n      <td>21867.0</td>\n      <td>54.877212</td>\n      <td>77.742717</td>\n      <td>2.0</td>\n    </tr>\n    <tr>\n      <th>San Juan del Puerto</th>\n      <td>367.0</td>\n      <td>2.0</td>\n      <td>9.0</td>\n      <td>9411.0</td>\n      <td>21.251727</td>\n      <td>95.632770</td>\n      <td>2.0</td>\n    </tr>\n    <tr>\n      <th>Alosno</th>\n      <td>125.0</td>\n      <td>3.0</td>\n      <td>5.0</td>\n      <td>3933.0</td>\n      <td>76.277651</td>\n      <td>127.129418</td>\n      <td>1.0</td>\n    </tr>\n    <tr>\n      <th>Cartaya</th>\n      <td>972.0</td>\n      <td>15.0</td>\n      <td>23.0</td>\n      <td>20083.0</td>\n      <td>74.690036</td>\n      <td>114.524722</td>\n      <td>1.0</td>\n    </tr>\n    <tr>\n      <th>Huelva (capital)</th>\n      <td>6614.0</td>\n      <td>28.0</td>\n      <td>51.0</td>\n      <td>143837.0</td>\n      <td>19.466479</td>\n      <td>35.456802</td>\n      <td>1.0</td>\n    </tr>\n    <tr>\n      <th>Isla Cristina</th>\n      <td>1998.0</td>\n      <td>6.0</td>\n      <td>15.0</td>\n      <td>21393.0</td>\n      <td>28.046557</td>\n      <td>70.116393</td>\n      <td>1.0</td>\n    </tr>\n    <tr>\n      <th>San Bartolomé de la Torre</th>\n      <td>210.0</td>\n      <td>7.0</td>\n      <td>17.0</td>\n      <td>3761.0</td>\n      <td>186.120713</td>\n      <td>452.007445</td>\n      <td>1.0</td>\n    </tr>\n    <tr>\n      <th>Villalba del Alcor</th>\n      <td>456.0</td>\n      <td>10.0</td>\n      <td>11.0</td>\n      <td>3366.0</td>\n      <td>297.088532</td>\n      <td>326.797386</td>\n      <td>1.0</td>\n    </tr>\n  </tbody>\n</table>\n</div>"
     },
     "metadata": {},
     "execution_count": 15
    }
   ],
   "source": [
    "# Nuevos casos desde la última captura\n",
    "tabla[tabla['Diferencia PDIA'] != 0].sort_values('Diferencia PDIA', ascending=False)"
   ]
  },
  {
   "cell_type": "code",
   "execution_count": 16,
   "metadata": {},
   "outputs": [],
   "source": [
    "if tabla[tabla['Diferencia PDIA'] != 0]['Diferencia PDIA'].sum() != 0:\n",
    "  # Save to csv\n",
    "  tabla.to_csv('covid_huelva.csv', encoding='utf-8', header=True, index=True)  "
   ]
  },
  {
   "cell_type": "code",
   "execution_count": 17,
   "metadata": {},
   "outputs": [
    {
     "output_type": "execute_result",
     "data": {
      "text/plain": [
       "Medida                             Confirmados PDIA  Confirmados PDIA 7 días  \\\n",
       "Lugar de residencia                                                            \n",
       "Puebla de Guzmán                              108.0                      9.0   \n",
       "San Bartolomé de la Torre                     210.0                      7.0   \n",
       "Villalba del Alcor                            456.0                     10.0   \n",
       "San Silvestre de Guzmán                        13.0                      1.0   \n",
       "Lucena del Puerto                             161.0                      1.0   \n",
       "Corteconcepción                                24.0                      1.0   \n",
       "Ayamonte                                     1231.0                     11.0   \n",
       "Villarrasa                                    132.0                      3.0   \n",
       "Alosno                                        125.0                      3.0   \n",
       "Almonte                                       896.0                     21.0   \n",
       "Rociana del Condado                           320.0                      8.0   \n",
       "Bollullos Par del Condado                     631.0                     12.0   \n",
       "Cartaya                                       972.0                     15.0   \n",
       "Palma del Condado (La)                        988.0                      8.0   \n",
       "Condado-Campiña                              7048.0                    101.0   \n",
       "San Juan del Puerto                           367.0                      2.0   \n",
       "Palos de la Frontera                          460.0                      9.0   \n",
       "Moguer                                        846.0                     12.0   \n",
       "Isla Cristina                                1998.0                      6.0   \n",
       "Huelva                                      24959.0                    197.0   \n",
       "Gibraleón                                     519.0                      6.0   \n",
       "Valverde del Camino                           424.0                      8.0   \n",
       "Huelva-Costa                                15189.0                     85.0   \n",
       "Lepe                                         2006.0                     11.0   \n",
       "Beas                                          163.0                      1.0   \n",
       "Huelva (capital)                             6614.0                     28.0   \n",
       "Zalamea la Real                                85.0                      1.0   \n",
       "Niebla                                        158.0                      1.0   \n",
       "Sierra de Huelva-Andévalo Central            2309.0                     10.0   \n",
       "Aljaraque                                     926.0                      1.0   \n",
       "\n",
       "Medida                             Confirmados PDIA 14 días  Población  \\\n",
       "Lugar de residencia                                                      \n",
       "Puebla de Guzmán                                       19.0     3092.0   \n",
       "San Bartolomé de la Torre                              17.0     3761.0   \n",
       "Villalba del Alcor                                     11.0     3366.0   \n",
       "San Silvestre de Guzmán                                 2.0      614.0   \n",
       "Lucena del Puerto                                       7.0     3261.0   \n",
       "Corteconcepción                                         1.0      536.0   \n",
       "Ayamonte                                               32.0    21104.0   \n",
       "Villarrasa                                              3.0     2211.0   \n",
       "Alosno                                                  5.0     3933.0   \n",
       "Almonte                                                31.0    24507.0   \n",
       "Rociana del Condado                                    10.0     7939.0   \n",
       "Bollullos Par del Condado                              18.0    14387.0   \n",
       "Cartaya                                                23.0    20083.0   \n",
       "Palma del Condado (La)                                 11.0    10801.0   \n",
       "Condado-Campiña                                       157.0   156231.0   \n",
       "San Juan del Puerto                                     9.0     9411.0   \n",
       "Palos de la Frontera                                   11.0    11742.0   \n",
       "Moguer                                                 17.0    21867.0   \n",
       "Isla Cristina                                          15.0    21393.0   \n",
       "Huelva                                                334.0   513170.0   \n",
       "Gibraleón                                               8.0    12737.0   \n",
       "Valverde del Camino                                     8.0    12750.0   \n",
       "Huelva-Costa                                          165.0   289548.0   \n",
       "Lepe                                                   13.0    27880.0   \n",
       "Beas                                                    2.0     4341.0   \n",
       "Huelva (capital)                                       51.0   143837.0   \n",
       "Zalamea la Real                                         1.0     3054.0   \n",
       "Niebla                                                  1.0     4116.0   \n",
       "Sierra de Huelva-Andévalo Central                      10.0    67391.0   \n",
       "Aljaraque                                               2.0    21474.0   \n",
       "\n",
       "Medida                                  tasa7      tasa14  Diferencia PDIA  \n",
       "Lugar de residencia                                                         \n",
       "Puebla de Guzmán                   291.073739  614.489004              0.0  \n",
       "San Bartolomé de la Torre          186.120713  452.007445              1.0  \n",
       "Villalba del Alcor                 297.088532  326.797386              1.0  \n",
       "San Silvestre de Guzmán            162.866450  325.732899              0.0  \n",
       "Lucena del Puerto                   30.665440  214.658080              0.0  \n",
       "Corteconcepción                    186.567164  186.567164              0.0  \n",
       "Ayamonte                            52.122820  151.630023              0.0  \n",
       "Villarrasa                         135.685210  135.685210              0.0  \n",
       "Alosno                              76.277651  127.129418              1.0  \n",
       "Almonte                             85.689803  126.494471              2.0  \n",
       "Rociana del Condado                100.768359  125.960448              3.0  \n",
       "Bollullos Par del Condado           83.408633  125.112949              2.0  \n",
       "Cartaya                             74.690036  114.524722              1.0  \n",
       "Palma del Condado (La)              74.067216  101.842422              0.0  \n",
       "Condado-Campiña                     64.647861  100.492220             13.0  \n",
       "San Juan del Puerto                 21.251727   95.632770              2.0  \n",
       "Palos de la Frontera                76.647931   93.680804              0.0  \n",
       "Moguer                              54.877212   77.742717              2.0  \n",
       "Isla Cristina                       28.046557   70.116393              1.0  \n",
       "Huelva                              38.388838   65.085644             20.0  \n",
       "Gibraleón                           47.106854   62.809139              0.0  \n",
       "Valverde del Camino                 62.745098   62.745098              3.0  \n",
       "Huelva-Costa                        29.356100   56.985370              4.0  \n",
       "Lepe                                39.454806   46.628407              0.0  \n",
       "Beas                                23.036167   46.072334              0.0  \n",
       "Huelva (capital)                    19.466479   35.456802              1.0  \n",
       "Zalamea la Real                     32.743942   32.743942              0.0  \n",
       "Niebla                              24.295432   24.295432              0.0  \n",
       "Sierra de Huelva-Andévalo Central   14.838777   14.838777              3.0  \n",
       "Aljaraque                            4.656794    9.313589              0.0  "
      ],
      "text/html": "<div>\n<style scoped>\n    .dataframe tbody tr th:only-of-type {\n        vertical-align: middle;\n    }\n\n    .dataframe tbody tr th {\n        vertical-align: top;\n    }\n\n    .dataframe thead th {\n        text-align: right;\n    }\n</style>\n<table border=\"1\" class=\"dataframe\">\n  <thead>\n    <tr style=\"text-align: right;\">\n      <th>Medida</th>\n      <th>Confirmados PDIA</th>\n      <th>Confirmados PDIA 7 días</th>\n      <th>Confirmados PDIA 14 días</th>\n      <th>Población</th>\n      <th>tasa7</th>\n      <th>tasa14</th>\n      <th>Diferencia PDIA</th>\n    </tr>\n    <tr>\n      <th>Lugar de residencia</th>\n      <th></th>\n      <th></th>\n      <th></th>\n      <th></th>\n      <th></th>\n      <th></th>\n      <th></th>\n    </tr>\n  </thead>\n  <tbody>\n    <tr>\n      <th>Puebla de Guzmán</th>\n      <td>108.0</td>\n      <td>9.0</td>\n      <td>19.0</td>\n      <td>3092.0</td>\n      <td>291.073739</td>\n      <td>614.489004</td>\n      <td>0.0</td>\n    </tr>\n    <tr>\n      <th>San Bartolomé de la Torre</th>\n      <td>210.0</td>\n      <td>7.0</td>\n      <td>17.0</td>\n      <td>3761.0</td>\n      <td>186.120713</td>\n      <td>452.007445</td>\n      <td>1.0</td>\n    </tr>\n    <tr>\n      <th>Villalba del Alcor</th>\n      <td>456.0</td>\n      <td>10.0</td>\n      <td>11.0</td>\n      <td>3366.0</td>\n      <td>297.088532</td>\n      <td>326.797386</td>\n      <td>1.0</td>\n    </tr>\n    <tr>\n      <th>San Silvestre de Guzmán</th>\n      <td>13.0</td>\n      <td>1.0</td>\n      <td>2.0</td>\n      <td>614.0</td>\n      <td>162.866450</td>\n      <td>325.732899</td>\n      <td>0.0</td>\n    </tr>\n    <tr>\n      <th>Lucena del Puerto</th>\n      <td>161.0</td>\n      <td>1.0</td>\n      <td>7.0</td>\n      <td>3261.0</td>\n      <td>30.665440</td>\n      <td>214.658080</td>\n      <td>0.0</td>\n    </tr>\n    <tr>\n      <th>Corteconcepción</th>\n      <td>24.0</td>\n      <td>1.0</td>\n      <td>1.0</td>\n      <td>536.0</td>\n      <td>186.567164</td>\n      <td>186.567164</td>\n      <td>0.0</td>\n    </tr>\n    <tr>\n      <th>Ayamonte</th>\n      <td>1231.0</td>\n      <td>11.0</td>\n      <td>32.0</td>\n      <td>21104.0</td>\n      <td>52.122820</td>\n      <td>151.630023</td>\n      <td>0.0</td>\n    </tr>\n    <tr>\n      <th>Villarrasa</th>\n      <td>132.0</td>\n      <td>3.0</td>\n      <td>3.0</td>\n      <td>2211.0</td>\n      <td>135.685210</td>\n      <td>135.685210</td>\n      <td>0.0</td>\n    </tr>\n    <tr>\n      <th>Alosno</th>\n      <td>125.0</td>\n      <td>3.0</td>\n      <td>5.0</td>\n      <td>3933.0</td>\n      <td>76.277651</td>\n      <td>127.129418</td>\n      <td>1.0</td>\n    </tr>\n    <tr>\n      <th>Almonte</th>\n      <td>896.0</td>\n      <td>21.0</td>\n      <td>31.0</td>\n      <td>24507.0</td>\n      <td>85.689803</td>\n      <td>126.494471</td>\n      <td>2.0</td>\n    </tr>\n    <tr>\n      <th>Rociana del Condado</th>\n      <td>320.0</td>\n      <td>8.0</td>\n      <td>10.0</td>\n      <td>7939.0</td>\n      <td>100.768359</td>\n      <td>125.960448</td>\n      <td>3.0</td>\n    </tr>\n    <tr>\n      <th>Bollullos Par del Condado</th>\n      <td>631.0</td>\n      <td>12.0</td>\n      <td>18.0</td>\n      <td>14387.0</td>\n      <td>83.408633</td>\n      <td>125.112949</td>\n      <td>2.0</td>\n    </tr>\n    <tr>\n      <th>Cartaya</th>\n      <td>972.0</td>\n      <td>15.0</td>\n      <td>23.0</td>\n      <td>20083.0</td>\n      <td>74.690036</td>\n      <td>114.524722</td>\n      <td>1.0</td>\n    </tr>\n    <tr>\n      <th>Palma del Condado (La)</th>\n      <td>988.0</td>\n      <td>8.0</td>\n      <td>11.0</td>\n      <td>10801.0</td>\n      <td>74.067216</td>\n      <td>101.842422</td>\n      <td>0.0</td>\n    </tr>\n    <tr>\n      <th>Condado-Campiña</th>\n      <td>7048.0</td>\n      <td>101.0</td>\n      <td>157.0</td>\n      <td>156231.0</td>\n      <td>64.647861</td>\n      <td>100.492220</td>\n      <td>13.0</td>\n    </tr>\n    <tr>\n      <th>San Juan del Puerto</th>\n      <td>367.0</td>\n      <td>2.0</td>\n      <td>9.0</td>\n      <td>9411.0</td>\n      <td>21.251727</td>\n      <td>95.632770</td>\n      <td>2.0</td>\n    </tr>\n    <tr>\n      <th>Palos de la Frontera</th>\n      <td>460.0</td>\n      <td>9.0</td>\n      <td>11.0</td>\n      <td>11742.0</td>\n      <td>76.647931</td>\n      <td>93.680804</td>\n      <td>0.0</td>\n    </tr>\n    <tr>\n      <th>Moguer</th>\n      <td>846.0</td>\n      <td>12.0</td>\n      <td>17.0</td>\n      <td>21867.0</td>\n      <td>54.877212</td>\n      <td>77.742717</td>\n      <td>2.0</td>\n    </tr>\n    <tr>\n      <th>Isla Cristina</th>\n      <td>1998.0</td>\n      <td>6.0</td>\n      <td>15.0</td>\n      <td>21393.0</td>\n      <td>28.046557</td>\n      <td>70.116393</td>\n      <td>1.0</td>\n    </tr>\n    <tr>\n      <th>Huelva</th>\n      <td>24959.0</td>\n      <td>197.0</td>\n      <td>334.0</td>\n      <td>513170.0</td>\n      <td>38.388838</td>\n      <td>65.085644</td>\n      <td>20.0</td>\n    </tr>\n    <tr>\n      <th>Gibraleón</th>\n      <td>519.0</td>\n      <td>6.0</td>\n      <td>8.0</td>\n      <td>12737.0</td>\n      <td>47.106854</td>\n      <td>62.809139</td>\n      <td>0.0</td>\n    </tr>\n    <tr>\n      <th>Valverde del Camino</th>\n      <td>424.0</td>\n      <td>8.0</td>\n      <td>8.0</td>\n      <td>12750.0</td>\n      <td>62.745098</td>\n      <td>62.745098</td>\n      <td>3.0</td>\n    </tr>\n    <tr>\n      <th>Huelva-Costa</th>\n      <td>15189.0</td>\n      <td>85.0</td>\n      <td>165.0</td>\n      <td>289548.0</td>\n      <td>29.356100</td>\n      <td>56.985370</td>\n      <td>4.0</td>\n    </tr>\n    <tr>\n      <th>Lepe</th>\n      <td>2006.0</td>\n      <td>11.0</td>\n      <td>13.0</td>\n      <td>27880.0</td>\n      <td>39.454806</td>\n      <td>46.628407</td>\n      <td>0.0</td>\n    </tr>\n    <tr>\n      <th>Beas</th>\n      <td>163.0</td>\n      <td>1.0</td>\n      <td>2.0</td>\n      <td>4341.0</td>\n      <td>23.036167</td>\n      <td>46.072334</td>\n      <td>0.0</td>\n    </tr>\n    <tr>\n      <th>Huelva (capital)</th>\n      <td>6614.0</td>\n      <td>28.0</td>\n      <td>51.0</td>\n      <td>143837.0</td>\n      <td>19.466479</td>\n      <td>35.456802</td>\n      <td>1.0</td>\n    </tr>\n    <tr>\n      <th>Zalamea la Real</th>\n      <td>85.0</td>\n      <td>1.0</td>\n      <td>1.0</td>\n      <td>3054.0</td>\n      <td>32.743942</td>\n      <td>32.743942</td>\n      <td>0.0</td>\n    </tr>\n    <tr>\n      <th>Niebla</th>\n      <td>158.0</td>\n      <td>1.0</td>\n      <td>1.0</td>\n      <td>4116.0</td>\n      <td>24.295432</td>\n      <td>24.295432</td>\n      <td>0.0</td>\n    </tr>\n    <tr>\n      <th>Sierra de Huelva-Andévalo Central</th>\n      <td>2309.0</td>\n      <td>10.0</td>\n      <td>10.0</td>\n      <td>67391.0</td>\n      <td>14.838777</td>\n      <td>14.838777</td>\n      <td>3.0</td>\n    </tr>\n    <tr>\n      <th>Aljaraque</th>\n      <td>926.0</td>\n      <td>1.0</td>\n      <td>2.0</td>\n      <td>21474.0</td>\n      <td>4.656794</td>\n      <td>9.313589</td>\n      <td>0.0</td>\n    </tr>\n  </tbody>\n</table>\n</div>"
     },
     "metadata": {},
     "execution_count": 17
    }
   ],
   "source": [
    "tabla.sort_values('tasa14', ascending=False)"
   ]
  },
  {
   "cell_type": "code",
   "execution_count": 18,
   "metadata": {},
   "outputs": [
    {
     "output_type": "execute_result",
     "data": {
      "text/plain": [
       "Medida                             Confirmados PDIA  Confirmados PDIA 7 días  \\\n",
       "Lugar de residencia                                                            \n",
       "Lucena del Puerto                             161.0                      1.0   \n",
       "San Juan del Puerto                           367.0                      2.0   \n",
       "Ayamonte                                     1231.0                     11.0   \n",
       "Isla Cristina                                1998.0                      6.0   \n",
       "San Bartolomé de la Torre                     210.0                      7.0   \n",
       "Puebla de Guzmán                              108.0                      9.0   \n",
       "Aljaraque                                     926.0                      1.0   \n",
       "Beas                                          163.0                      1.0   \n",
       "San Silvestre de Guzmán                        13.0                      1.0   \n",
       "Huelva-Costa                                15189.0                     85.0   \n",
       "Huelva (capital)                             6614.0                     28.0   \n",
       "Huelva                                      24959.0                    197.0   \n",
       "Alosno                                        125.0                      3.0   \n",
       "Condado-Campiña                              7048.0                    101.0   \n",
       "Cartaya                                       972.0                     15.0   \n",
       "Bollullos Par del Condado                     631.0                     12.0   \n",
       "Almonte                                       896.0                     21.0   \n",
       "Moguer                                        846.0                     12.0   \n",
       "Palma del Condado (La)                        988.0                      8.0   \n",
       "Gibraleón                                     519.0                      6.0   \n",
       "Rociana del Condado                           320.0                      8.0   \n",
       "Palos de la Frontera                          460.0                      9.0   \n",
       "Lepe                                         2006.0                     11.0   \n",
       "Villalba del Alcor                            456.0                     10.0   \n",
       "Villarrasa                                    132.0                      3.0   \n",
       "Corteconcepción                                24.0                      1.0   \n",
       "Sierra de Huelva-Andévalo Central            2309.0                     10.0   \n",
       "Valverde del Camino                           424.0                      8.0   \n",
       "Niebla                                        158.0                      1.0   \n",
       "Zalamea la Real                                85.0                      1.0   \n",
       "\n",
       "Medida                             Confirmados PDIA 14 días  Población  \\\n",
       "Lugar de residencia                                                      \n",
       "Lucena del Puerto                                       7.0     3261.0   \n",
       "San Juan del Puerto                                     9.0     9411.0   \n",
       "Ayamonte                                               32.0    21104.0   \n",
       "Isla Cristina                                          15.0    21393.0   \n",
       "San Bartolomé de la Torre                              17.0     3761.0   \n",
       "Puebla de Guzmán                                       19.0     3092.0   \n",
       "Aljaraque                                               2.0    21474.0   \n",
       "Beas                                                    2.0     4341.0   \n",
       "San Silvestre de Guzmán                                 2.0      614.0   \n",
       "Huelva-Costa                                          165.0   289548.0   \n",
       "Huelva (capital)                                       51.0   143837.0   \n",
       "Huelva                                                334.0   513170.0   \n",
       "Alosno                                                  5.0     3933.0   \n",
       "Condado-Campiña                                       157.0   156231.0   \n",
       "Cartaya                                                23.0    20083.0   \n",
       "Bollullos Par del Condado                              18.0    14387.0   \n",
       "Almonte                                                31.0    24507.0   \n",
       "Moguer                                                 17.0    21867.0   \n",
       "Palma del Condado (La)                                 11.0    10801.0   \n",
       "Gibraleón                                               8.0    12737.0   \n",
       "Rociana del Condado                                    10.0     7939.0   \n",
       "Palos de la Frontera                                   11.0    11742.0   \n",
       "Lepe                                                   13.0    27880.0   \n",
       "Villalba del Alcor                                     11.0     3366.0   \n",
       "Villarrasa                                              3.0     2211.0   \n",
       "Corteconcepción                                         1.0      536.0   \n",
       "Sierra de Huelva-Andévalo Central                      10.0    67391.0   \n",
       "Valverde del Camino                                     8.0    12750.0   \n",
       "Niebla                                                  1.0     4116.0   \n",
       "Zalamea la Real                                         1.0     3054.0   \n",
       "\n",
       "Medida                                  tasa7      tasa14  Diferencia PDIA  \\\n",
       "Lugar de residencia                                                          \n",
       "Lucena del Puerto                   30.665440  214.658080              0.0   \n",
       "San Juan del Puerto                 21.251727   95.632770              2.0   \n",
       "Ayamonte                            52.122820  151.630023              0.0   \n",
       "Isla Cristina                       28.046557   70.116393              1.0   \n",
       "San Bartolomé de la Torre          186.120713  452.007445              1.0   \n",
       "Puebla de Guzmán                   291.073739  614.489004              0.0   \n",
       "Aljaraque                            4.656794    9.313589              0.0   \n",
       "Beas                                23.036167   46.072334              0.0   \n",
       "San Silvestre de Guzmán            162.866450  325.732899              0.0   \n",
       "Huelva-Costa                        29.356100   56.985370              4.0   \n",
       "Huelva (capital)                    19.466479   35.456802              1.0   \n",
       "Huelva                              38.388838   65.085644             20.0   \n",
       "Alosno                              76.277651  127.129418              1.0   \n",
       "Condado-Campiña                     64.647861  100.492220             13.0   \n",
       "Cartaya                             74.690036  114.524722              1.0   \n",
       "Bollullos Par del Condado           83.408633  125.112949              2.0   \n",
       "Almonte                             85.689803  126.494471              2.0   \n",
       "Moguer                              54.877212   77.742717              2.0   \n",
       "Palma del Condado (La)              74.067216  101.842422              0.0   \n",
       "Gibraleón                           47.106854   62.809139              0.0   \n",
       "Rociana del Condado                100.768359  125.960448              3.0   \n",
       "Palos de la Frontera                76.647931   93.680804              0.0   \n",
       "Lepe                                39.454806   46.628407              0.0   \n",
       "Villalba del Alcor                 297.088532  326.797386              1.0   \n",
       "Villarrasa                         135.685210  135.685210              0.0   \n",
       "Corteconcepción                    186.567164  186.567164              0.0   \n",
       "Sierra de Huelva-Andévalo Central   14.838777   14.838777              3.0   \n",
       "Valverde del Camino                 62.745098   62.745098              3.0   \n",
       "Niebla                              24.295432   24.295432              0.0   \n",
       "Zalamea la Real                     32.743942   32.743942              0.0   \n",
       "\n",
       "Medida                                 7/14  \n",
       "Lugar de residencia                          \n",
       "Lucena del Puerto                  0.142857  \n",
       "San Juan del Puerto                0.222222  \n",
       "Ayamonte                           0.343750  \n",
       "Isla Cristina                      0.400000  \n",
       "San Bartolomé de la Torre          0.411765  \n",
       "Puebla de Guzmán                   0.473684  \n",
       "Aljaraque                          0.500000  \n",
       "Beas                               0.500000  \n",
       "San Silvestre de Guzmán            0.500000  \n",
       "Huelva-Costa                       0.515152  \n",
       "Huelva (capital)                   0.549020  \n",
       "Huelva                             0.589820  \n",
       "Alosno                             0.600000  \n",
       "Condado-Campiña                    0.643312  \n",
       "Cartaya                            0.652174  \n",
       "Bollullos Par del Condado          0.666667  \n",
       "Almonte                            0.677419  \n",
       "Moguer                             0.705882  \n",
       "Palma del Condado (La)             0.727273  \n",
       "Gibraleón                          0.750000  \n",
       "Rociana del Condado                0.800000  \n",
       "Palos de la Frontera               0.818182  \n",
       "Lepe                               0.846154  \n",
       "Villalba del Alcor                 0.909091  \n",
       "Villarrasa                         1.000000  \n",
       "Corteconcepción                    1.000000  \n",
       "Sierra de Huelva-Andévalo Central  1.000000  \n",
       "Valverde del Camino                1.000000  \n",
       "Niebla                             1.000000  \n",
       "Zalamea la Real                    1.000000  "
      ],
      "text/html": "<div>\n<style scoped>\n    .dataframe tbody tr th:only-of-type {\n        vertical-align: middle;\n    }\n\n    .dataframe tbody tr th {\n        vertical-align: top;\n    }\n\n    .dataframe thead th {\n        text-align: right;\n    }\n</style>\n<table border=\"1\" class=\"dataframe\">\n  <thead>\n    <tr style=\"text-align: right;\">\n      <th>Medida</th>\n      <th>Confirmados PDIA</th>\n      <th>Confirmados PDIA 7 días</th>\n      <th>Confirmados PDIA 14 días</th>\n      <th>Población</th>\n      <th>tasa7</th>\n      <th>tasa14</th>\n      <th>Diferencia PDIA</th>\n      <th>7/14</th>\n    </tr>\n    <tr>\n      <th>Lugar de residencia</th>\n      <th></th>\n      <th></th>\n      <th></th>\n      <th></th>\n      <th></th>\n      <th></th>\n      <th></th>\n      <th></th>\n    </tr>\n  </thead>\n  <tbody>\n    <tr>\n      <th>Lucena del Puerto</th>\n      <td>161.0</td>\n      <td>1.0</td>\n      <td>7.0</td>\n      <td>3261.0</td>\n      <td>30.665440</td>\n      <td>214.658080</td>\n      <td>0.0</td>\n      <td>0.142857</td>\n    </tr>\n    <tr>\n      <th>San Juan del Puerto</th>\n      <td>367.0</td>\n      <td>2.0</td>\n      <td>9.0</td>\n      <td>9411.0</td>\n      <td>21.251727</td>\n      <td>95.632770</td>\n      <td>2.0</td>\n      <td>0.222222</td>\n    </tr>\n    <tr>\n      <th>Ayamonte</th>\n      <td>1231.0</td>\n      <td>11.0</td>\n      <td>32.0</td>\n      <td>21104.0</td>\n      <td>52.122820</td>\n      <td>151.630023</td>\n      <td>0.0</td>\n      <td>0.343750</td>\n    </tr>\n    <tr>\n      <th>Isla Cristina</th>\n      <td>1998.0</td>\n      <td>6.0</td>\n      <td>15.0</td>\n      <td>21393.0</td>\n      <td>28.046557</td>\n      <td>70.116393</td>\n      <td>1.0</td>\n      <td>0.400000</td>\n    </tr>\n    <tr>\n      <th>San Bartolomé de la Torre</th>\n      <td>210.0</td>\n      <td>7.0</td>\n      <td>17.0</td>\n      <td>3761.0</td>\n      <td>186.120713</td>\n      <td>452.007445</td>\n      <td>1.0</td>\n      <td>0.411765</td>\n    </tr>\n    <tr>\n      <th>Puebla de Guzmán</th>\n      <td>108.0</td>\n      <td>9.0</td>\n      <td>19.0</td>\n      <td>3092.0</td>\n      <td>291.073739</td>\n      <td>614.489004</td>\n      <td>0.0</td>\n      <td>0.473684</td>\n    </tr>\n    <tr>\n      <th>Aljaraque</th>\n      <td>926.0</td>\n      <td>1.0</td>\n      <td>2.0</td>\n      <td>21474.0</td>\n      <td>4.656794</td>\n      <td>9.313589</td>\n      <td>0.0</td>\n      <td>0.500000</td>\n    </tr>\n    <tr>\n      <th>Beas</th>\n      <td>163.0</td>\n      <td>1.0</td>\n      <td>2.0</td>\n      <td>4341.0</td>\n      <td>23.036167</td>\n      <td>46.072334</td>\n      <td>0.0</td>\n      <td>0.500000</td>\n    </tr>\n    <tr>\n      <th>San Silvestre de Guzmán</th>\n      <td>13.0</td>\n      <td>1.0</td>\n      <td>2.0</td>\n      <td>614.0</td>\n      <td>162.866450</td>\n      <td>325.732899</td>\n      <td>0.0</td>\n      <td>0.500000</td>\n    </tr>\n    <tr>\n      <th>Huelva-Costa</th>\n      <td>15189.0</td>\n      <td>85.0</td>\n      <td>165.0</td>\n      <td>289548.0</td>\n      <td>29.356100</td>\n      <td>56.985370</td>\n      <td>4.0</td>\n      <td>0.515152</td>\n    </tr>\n    <tr>\n      <th>Huelva (capital)</th>\n      <td>6614.0</td>\n      <td>28.0</td>\n      <td>51.0</td>\n      <td>143837.0</td>\n      <td>19.466479</td>\n      <td>35.456802</td>\n      <td>1.0</td>\n      <td>0.549020</td>\n    </tr>\n    <tr>\n      <th>Huelva</th>\n      <td>24959.0</td>\n      <td>197.0</td>\n      <td>334.0</td>\n      <td>513170.0</td>\n      <td>38.388838</td>\n      <td>65.085644</td>\n      <td>20.0</td>\n      <td>0.589820</td>\n    </tr>\n    <tr>\n      <th>Alosno</th>\n      <td>125.0</td>\n      <td>3.0</td>\n      <td>5.0</td>\n      <td>3933.0</td>\n      <td>76.277651</td>\n      <td>127.129418</td>\n      <td>1.0</td>\n      <td>0.600000</td>\n    </tr>\n    <tr>\n      <th>Condado-Campiña</th>\n      <td>7048.0</td>\n      <td>101.0</td>\n      <td>157.0</td>\n      <td>156231.0</td>\n      <td>64.647861</td>\n      <td>100.492220</td>\n      <td>13.0</td>\n      <td>0.643312</td>\n    </tr>\n    <tr>\n      <th>Cartaya</th>\n      <td>972.0</td>\n      <td>15.0</td>\n      <td>23.0</td>\n      <td>20083.0</td>\n      <td>74.690036</td>\n      <td>114.524722</td>\n      <td>1.0</td>\n      <td>0.652174</td>\n    </tr>\n    <tr>\n      <th>Bollullos Par del Condado</th>\n      <td>631.0</td>\n      <td>12.0</td>\n      <td>18.0</td>\n      <td>14387.0</td>\n      <td>83.408633</td>\n      <td>125.112949</td>\n      <td>2.0</td>\n      <td>0.666667</td>\n    </tr>\n    <tr>\n      <th>Almonte</th>\n      <td>896.0</td>\n      <td>21.0</td>\n      <td>31.0</td>\n      <td>24507.0</td>\n      <td>85.689803</td>\n      <td>126.494471</td>\n      <td>2.0</td>\n      <td>0.677419</td>\n    </tr>\n    <tr>\n      <th>Moguer</th>\n      <td>846.0</td>\n      <td>12.0</td>\n      <td>17.0</td>\n      <td>21867.0</td>\n      <td>54.877212</td>\n      <td>77.742717</td>\n      <td>2.0</td>\n      <td>0.705882</td>\n    </tr>\n    <tr>\n      <th>Palma del Condado (La)</th>\n      <td>988.0</td>\n      <td>8.0</td>\n      <td>11.0</td>\n      <td>10801.0</td>\n      <td>74.067216</td>\n      <td>101.842422</td>\n      <td>0.0</td>\n      <td>0.727273</td>\n    </tr>\n    <tr>\n      <th>Gibraleón</th>\n      <td>519.0</td>\n      <td>6.0</td>\n      <td>8.0</td>\n      <td>12737.0</td>\n      <td>47.106854</td>\n      <td>62.809139</td>\n      <td>0.0</td>\n      <td>0.750000</td>\n    </tr>\n    <tr>\n      <th>Rociana del Condado</th>\n      <td>320.0</td>\n      <td>8.0</td>\n      <td>10.0</td>\n      <td>7939.0</td>\n      <td>100.768359</td>\n      <td>125.960448</td>\n      <td>3.0</td>\n      <td>0.800000</td>\n    </tr>\n    <tr>\n      <th>Palos de la Frontera</th>\n      <td>460.0</td>\n      <td>9.0</td>\n      <td>11.0</td>\n      <td>11742.0</td>\n      <td>76.647931</td>\n      <td>93.680804</td>\n      <td>0.0</td>\n      <td>0.818182</td>\n    </tr>\n    <tr>\n      <th>Lepe</th>\n      <td>2006.0</td>\n      <td>11.0</td>\n      <td>13.0</td>\n      <td>27880.0</td>\n      <td>39.454806</td>\n      <td>46.628407</td>\n      <td>0.0</td>\n      <td>0.846154</td>\n    </tr>\n    <tr>\n      <th>Villalba del Alcor</th>\n      <td>456.0</td>\n      <td>10.0</td>\n      <td>11.0</td>\n      <td>3366.0</td>\n      <td>297.088532</td>\n      <td>326.797386</td>\n      <td>1.0</td>\n      <td>0.909091</td>\n    </tr>\n    <tr>\n      <th>Villarrasa</th>\n      <td>132.0</td>\n      <td>3.0</td>\n      <td>3.0</td>\n      <td>2211.0</td>\n      <td>135.685210</td>\n      <td>135.685210</td>\n      <td>0.0</td>\n      <td>1.000000</td>\n    </tr>\n    <tr>\n      <th>Corteconcepción</th>\n      <td>24.0</td>\n      <td>1.0</td>\n      <td>1.0</td>\n      <td>536.0</td>\n      <td>186.567164</td>\n      <td>186.567164</td>\n      <td>0.0</td>\n      <td>1.000000</td>\n    </tr>\n    <tr>\n      <th>Sierra de Huelva-Andévalo Central</th>\n      <td>2309.0</td>\n      <td>10.0</td>\n      <td>10.0</td>\n      <td>67391.0</td>\n      <td>14.838777</td>\n      <td>14.838777</td>\n      <td>3.0</td>\n      <td>1.000000</td>\n    </tr>\n    <tr>\n      <th>Valverde del Camino</th>\n      <td>424.0</td>\n      <td>8.0</td>\n      <td>8.0</td>\n      <td>12750.0</td>\n      <td>62.745098</td>\n      <td>62.745098</td>\n      <td>3.0</td>\n      <td>1.000000</td>\n    </tr>\n    <tr>\n      <th>Niebla</th>\n      <td>158.0</td>\n      <td>1.0</td>\n      <td>1.0</td>\n      <td>4116.0</td>\n      <td>24.295432</td>\n      <td>24.295432</td>\n      <td>0.0</td>\n      <td>1.000000</td>\n    </tr>\n    <tr>\n      <th>Zalamea la Real</th>\n      <td>85.0</td>\n      <td>1.0</td>\n      <td>1.0</td>\n      <td>3054.0</td>\n      <td>32.743942</td>\n      <td>32.743942</td>\n      <td>0.0</td>\n      <td>1.000000</td>\n    </tr>\n  </tbody>\n</table>\n</div>"
     },
     "metadata": {},
     "execution_count": 18
    }
   ],
   "source": [
    "# Peso de la tasa de la última semana en relación con la tasa a 14 días \n",
    "# Mejor cuanto menor. Valor 1 significa que no había casos antes de 7 días.\n",
    "tabla['7/14'] = tabla['tasa7'] / tabla['tasa14']\n",
    "tabla.fillna(0).sort_values('7/14', ascending=True)"
   ]
  },
  {
   "cell_type": "code",
   "execution_count": null,
   "metadata": {},
   "outputs": [],
   "source": []
  }
 ]
}