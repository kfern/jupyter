{
 "metadata": {
  "language_info": {
   "codemirror_mode": {
    "name": "ipython",
    "version": 3
   },
   "file_extension": ".py",
   "mimetype": "text/x-python",
   "name": "python",
   "nbconvert_exporter": "python",
   "pygments_lexer": "ipython3",
   "version": "3.6.9-final"
  },
  "orig_nbformat": 2,
  "kernelspec": {
   "name": "Python 3.6.9 64-bit",
   "display_name": "Python 3.6.9 64-bit",
   "metadata": {
    "interpreter": {
     "hash": "31f2aee4e71d21fbe5cf8b01ff0e069b9275f58929596ceb00d14d90e3e16cd6"
    }
   }
  }
 },
 "nbformat": 4,
 "nbformat_minor": 2,
 "cells": [
  {
   "cell_type": "code",
   "execution_count": 1,
   "metadata": {},
   "outputs": [],
   "source": [
    "import pandas as pd"
   ]
  },
  {
   "cell_type": "code",
   "execution_count": 2,
   "metadata": {},
   "outputs": [],
   "source": [
    "# FIX SSL: CERTIFICATE_VERIFY_FAILED with Python3\n",
    "# https://stackoverflow.com/a/49174340\n",
    "import ssl\n",
    "\n",
    "ssl._create_default_https_context = ssl._create_unverified_context"
   ]
  },
  {
   "cell_type": "code",
   "execution_count": 3,
   "metadata": {},
   "outputs": [],
   "source": [
    "url = 'https://www.juntadeandalucia.es/institutodeestadisticaycartografia/badea/stpivot/stpivot/Print?cube=013d884c-cfc5-4c21-9e78-e26225682afd&type=3&foto=si&ejecutaDesde=&codConsulta=38668&consTipoVisua=JP'\n",
    "fields = ['Lugar de residencia', 'Medida', 'Valor']\n",
    "df = pd.read_csv(url, delimiter=';', usecols=fields, decimal=',')"
   ]
  },
  {
   "cell_type": "code",
   "execution_count": 4,
   "metadata": {},
   "outputs": [
    {
     "output_type": "execute_result",
     "data": {
      "text/plain": [
       "                     Lugar de residencia                    Medida  \\\n",
       "0                                 Huelva                 Población   \n",
       "1                                 Huelva          Confirmados PDIA   \n",
       "2                                 Huelva  Confirmados PDIA 14 días   \n",
       "3                                 Huelva         Tasa PDIA 14 días   \n",
       "4                                 Huelva   Confirmados PDIA 7 días   \n",
       "..                                   ...                       ...   \n",
       "627  Municipio de Huelva sin especificar         Tasa PDIA 14 días   \n",
       "628  Municipio de Huelva sin especificar   Confirmados PDIA 7 días   \n",
       "629  Municipio de Huelva sin especificar        Total Confirmados    \n",
       "630  Municipio de Huelva sin especificar                   Curados   \n",
       "631  Municipio de Huelva sin especificar                Fallecidos   \n",
       "\n",
       "                  Valor  \n",
       "0                510743  \n",
       "1                  9977  \n",
       "2                  1454  \n",
       "3    284,68329472944316  \n",
       "4                   568  \n",
       "..                  ...  \n",
       "627                   -  \n",
       "628                   2  \n",
       "629                 122  \n",
       "630                  84  \n",
       "631                   1  \n",
       "\n",
       "[632 rows x 3 columns]"
      ],
      "text/html": "<div>\n<style scoped>\n    .dataframe tbody tr th:only-of-type {\n        vertical-align: middle;\n    }\n\n    .dataframe tbody tr th {\n        vertical-align: top;\n    }\n\n    .dataframe thead th {\n        text-align: right;\n    }\n</style>\n<table border=\"1\" class=\"dataframe\">\n  <thead>\n    <tr style=\"text-align: right;\">\n      <th></th>\n      <th>Lugar de residencia</th>\n      <th>Medida</th>\n      <th>Valor</th>\n    </tr>\n  </thead>\n  <tbody>\n    <tr>\n      <th>0</th>\n      <td>Huelva</td>\n      <td>Población</td>\n      <td>510743</td>\n    </tr>\n    <tr>\n      <th>1</th>\n      <td>Huelva</td>\n      <td>Confirmados PDIA</td>\n      <td>9977</td>\n    </tr>\n    <tr>\n      <th>2</th>\n      <td>Huelva</td>\n      <td>Confirmados PDIA 14 días</td>\n      <td>1454</td>\n    </tr>\n    <tr>\n      <th>3</th>\n      <td>Huelva</td>\n      <td>Tasa PDIA 14 días</td>\n      <td>284,68329472944316</td>\n    </tr>\n    <tr>\n      <th>4</th>\n      <td>Huelva</td>\n      <td>Confirmados PDIA 7 días</td>\n      <td>568</td>\n    </tr>\n    <tr>\n      <th>...</th>\n      <td>...</td>\n      <td>...</td>\n      <td>...</td>\n    </tr>\n    <tr>\n      <th>627</th>\n      <td>Municipio de Huelva sin especificar</td>\n      <td>Tasa PDIA 14 días</td>\n      <td>-</td>\n    </tr>\n    <tr>\n      <th>628</th>\n      <td>Municipio de Huelva sin especificar</td>\n      <td>Confirmados PDIA 7 días</td>\n      <td>2</td>\n    </tr>\n    <tr>\n      <th>629</th>\n      <td>Municipio de Huelva sin especificar</td>\n      <td>Total Confirmados</td>\n      <td>122</td>\n    </tr>\n    <tr>\n      <th>630</th>\n      <td>Municipio de Huelva sin especificar</td>\n      <td>Curados</td>\n      <td>84</td>\n    </tr>\n    <tr>\n      <th>631</th>\n      <td>Municipio de Huelva sin especificar</td>\n      <td>Fallecidos</td>\n      <td>1</td>\n    </tr>\n  </tbody>\n</table>\n<p>632 rows × 3 columns</p>\n</div>"
     },
     "metadata": {},
     "execution_count": 4
    }
   ],
   "source": [
    "df"
   ]
  },
  {
   "cell_type": "code",
   "execution_count": 5,
   "metadata": {},
   "outputs": [],
   "source": [
    "df['Valor'] = pd.to_numeric(df['Valor'],errors='coerce')"
   ]
  },
  {
   "cell_type": "code",
   "execution_count": 6,
   "metadata": {},
   "outputs": [],
   "source": [
    "dfAnterior = pd.read_csv('covid_huelva.csv', index_col='Lugar de residencia')"
   ]
  },
  {
   "cell_type": "code",
   "execution_count": 7,
   "metadata": {
    "tags": []
   },
   "outputs": [
    {
     "output_type": "stream",
     "name": "stdout",
     "text": [
      "Confirmados PCR en la provincia de Huelva:  9977.0\n"
     ]
    }
   ],
   "source": [
    "# Confirmados PCR provincia Huelva\n",
    "p = df[df['Lugar de residencia'] == 'Huelva'][df['Medida'] == 'Confirmados PDIA']['Valor'].values[0]\n",
    "print('Confirmados PCR en la provincia de Huelva: ', p)"
   ]
  },
  {
   "cell_type": "code",
   "execution_count": 8,
   "metadata": {
    "tags": []
   },
   "outputs": [
    {
     "output_type": "stream",
     "name": "stdout",
     "text": [
      "Confirmados PCR en Huelva capital:  2798.0\n"
     ]
    }
   ],
   "source": [
    "# Confirmados PCR Huelva capitalpd\n",
    "c = df[df['Lugar de residencia'] == 'Huelva (capital)'][df['Medida'] == 'Confirmados PDIA']['Valor'].values[0]\n",
    "print('Confirmados PCR en Huelva capital: ', c)"
   ]
  },
  {
   "cell_type": "code",
   "execution_count": 9,
   "metadata": {
    "tags": []
   },
   "outputs": [],
   "source": [
    "c7 = df[df['Lugar de residencia'] == 'Huelva (capital)'][df['Medida'] == 'Confirmados PDIA 7 días']['Valor'].values[0]\n",
    "c14 = df[df['Lugar de residencia'] == 'Huelva (capital)'][df['Medida'] == 'Confirmados PDIA 14 días']['Valor'].values[0]\n",
    "p = df[df['Lugar de residencia'] == 'Huelva (capital)'][df['Medida'] == 'Población']['Valor'].values[0]"
   ]
  },
  {
   "cell_type": "code",
   "execution_count": 10,
   "metadata": {
    "tags": []
   },
   "outputs": [
    {
     "output_type": "stream",
     "name": "stdout",
     "text": [
      "Huelva (capital)\n\nUn positivo PCR cada 887 personas en los últimos 7 días \n\nUn positivo PCR cada 335 personas en los últimos 14 días\n"
     ]
    }
   ],
   "source": [
    "print('Huelva (capital)\\n')\n",
    "#print('Confirmados PCR 7 días x 1,000 habitantes: ', f\"{c7/(p/1000):.5f}\")\n",
    "print('Un positivo PCR cada', f\"{p/c7:.0f}\", 'personas en los últimos 7 días', '\\n')\n",
    "#print('Confirmados PCR 14 días x 1,000 habitantes: ', f\"{c14/(p/1000):.5f}\")\n",
    "print('Un positivo PCR cada', f\"{p/c14:.0f}\", 'personas en los últimos 14 días')"
   ]
  },
  {
   "cell_type": "code",
   "execution_count": 11,
   "metadata": {},
   "outputs": [],
   "source": [
    "filtro = ((df['Medida'] == 'Confirmados PDIA')| (df['Medida'] == 'Confirmados PDIA 7 días') | (df['Medida'] == 'Población' ) | (df['Medida'] == 'Confirmados PDIA 14 días')) & (df['Valor'] > 0)\n",
    "tabla = pd.pivot_table(df.loc[filtro], values='Valor', index='Lugar de residencia', columns='Medida').dropna()"
   ]
  },
  {
   "cell_type": "code",
   "execution_count": 12,
   "metadata": {},
   "outputs": [],
   "source": [
    "# Reorder columns\n",
    "tabla = tabla[['Confirmados PDIA', 'Confirmados PDIA 7 días', 'Confirmados PDIA 14 días', 'Población']]"
   ]
  },
  {
   "cell_type": "code",
   "execution_count": 13,
   "metadata": {},
   "outputs": [],
   "source": [
    "tabla['tasa7'] = tabla['Confirmados PDIA 7 días']/tabla['Población']*100000\n",
    "tabla['tasa14'] = tabla['Confirmados PDIA 14 días']/tabla['Población']*100000"
   ]
  },
  {
   "cell_type": "code",
   "execution_count": 14,
   "metadata": {},
   "outputs": [],
   "source": [
    "tabla['Diferencia PDIA'] = tabla['Confirmados PDIA'] - dfAnterior['Confirmados PDIA']"
   ]
  },
  {
   "cell_type": "code",
   "execution_count": 15,
   "metadata": {},
   "outputs": [
    {
     "output_type": "execute_result",
     "data": {
      "text/plain": [
       "Medida                             Confirmados PDIA  Confirmados PDIA 7 días  \\\n",
       "Lugar de residencia                                                            \n",
       "Huelva                                       9977.0                    568.0   \n",
       "Huelva-Costa                                 5520.0                    365.0   \n",
       "Huelva (capital)                             2798.0                    162.0   \n",
       "Condado-Campiña                              3083.0                    170.0   \n",
       "Lepe                                          881.0                     55.0   \n",
       "Isla Cristina                                 333.0                     55.0   \n",
       "Moguer                                        325.0                     38.0   \n",
       "Gibraleón                                     347.0                     12.0   \n",
       "Punta Umbría                                  224.0                     12.0   \n",
       "Palma del Condado (La)                        452.0                     27.0   \n",
       "Aljaraque                                     374.0                     23.0   \n",
       "Sierra de Huelva-Andévalo Central            1253.0                     31.0   \n",
       "Ayamonte                                      317.0                     23.0   \n",
       "Paterna del Campo                              57.0                      5.0   \n",
       "Villanueva de los Castillejos                  58.0                      4.0   \n",
       "Trigueros                                     127.0                      2.0   \n",
       "Zalamea la Real                                46.0                      4.0   \n",
       "Palos de la Frontera                          206.0                     19.0   \n",
       "Rociana del Condado                           114.0                     10.0   \n",
       "San Bartolomé de la Torre                      41.0                     14.0   \n",
       "Cartaya                                       320.0                     29.0   \n",
       "Bonares                                        42.0                      2.0   \n",
       "Beas                                           56.0                      5.0   \n",
       "Lucena del Puerto                              82.0                     16.0   \n",
       "Jabugo                                         35.0                      1.0   \n",
       "\n",
       "Medida                             Confirmados PDIA 14 días  Población  \\\n",
       "Lugar de residencia                                                      \n",
       "Huelva                                               1454.0   510743.0   \n",
       "Huelva-Costa                                          960.0   288115.0   \n",
       "Huelva (capital)                                      429.0   143663.0   \n",
       "Condado-Campiña                                       403.0   155057.0   \n",
       "Lepe                                                  179.0    27431.0   \n",
       "Isla Cristina                                          93.0    21264.0   \n",
       "Moguer                                                 90.0    22088.0   \n",
       "Gibraleón                                              17.0    12607.0   \n",
       "Punta Umbría                                           31.0    15242.0   \n",
       "Palma del Condado (La)                                 63.0    10761.0   \n",
       "Aljaraque                                              60.0    21260.0   \n",
       "Sierra de Huelva-Andévalo Central                      76.0    67571.0   \n",
       "Ayamonte                                               78.0    20946.0   \n",
       "Paterna del Campo                                       8.0     3509.0   \n",
       "Villanueva de los Castillejos                          14.0     2820.0   \n",
       "Trigueros                                               4.0     7713.0   \n",
       "Zalamea la Real                                         4.0     3068.0   \n",
       "Palos de la Frontera                                   49.0    11289.0   \n",
       "Rociana del Condado                                    30.0     7855.0   \n",
       "San Bartolomé de la Torre                              18.0     3736.0   \n",
       "Cartaya                                                61.0    19974.0   \n",
       "Bonares                                                 8.0     6058.0   \n",
       "Beas                                                    8.0     4257.0   \n",
       "Lucena del Puerto                                      32.0     3371.0   \n",
       "Jabugo                                                  1.0     2250.0   \n",
       "\n",
       "Medida                                  tasa7      tasa14  Diferencia PDIA  \n",
       "Lugar de residencia                                                         \n",
       "Huelva                             111.210531  284.683295            120.0  \n",
       "Huelva-Costa                       126.685525  333.200285             85.0  \n",
       "Huelva (capital)                   112.763899  298.615510             36.0  \n",
       "Condado-Campiña                    109.637101  259.904422             32.0  \n",
       "Lepe                               200.503080  652.546389             19.0  \n",
       "Isla Cristina                      258.653123  437.358916             13.0  \n",
       "Moguer                             172.039116  407.461065             10.0  \n",
       "Gibraleón                           95.185215  134.845721              7.0  \n",
       "Punta Umbría                        78.729825  203.385382              7.0  \n",
       "Palma del Condado (La)             250.906050  585.447449              5.0  \n",
       "Aljaraque                          108.184384  282.220132              4.0  \n",
       "Sierra de Huelva-Andévalo Central   45.877669  112.474286              3.0  \n",
       "Ayamonte                           109.806168  372.386136              3.0  \n",
       "Paterna del Campo                  142.490738  227.985181              2.0  \n",
       "Villanueva de los Castillejos      141.843972  496.453901              2.0  \n",
       "Trigueros                           25.930248   51.860495              2.0  \n",
       "Zalamea la Real                    130.378096  130.378096              2.0  \n",
       "Palos de la Frontera               168.305430  434.050846              1.0  \n",
       "Rociana del Condado                127.307447  381.922342              1.0  \n",
       "San Bartolomé de la Torre          374.732334  481.798715              1.0  \n",
       "Cartaya                            145.188745  305.397016              1.0  \n",
       "Bonares                             33.014196  132.056784              1.0  \n",
       "Beas                               117.453606  187.925769              1.0  \n",
       "Lucena del Puerto                  474.636606  949.273213              1.0  \n",
       "Jabugo                              44.444444   44.444444              NaN  "
      ],
      "text/html": "<div>\n<style scoped>\n    .dataframe tbody tr th:only-of-type {\n        vertical-align: middle;\n    }\n\n    .dataframe tbody tr th {\n        vertical-align: top;\n    }\n\n    .dataframe thead th {\n        text-align: right;\n    }\n</style>\n<table border=\"1\" class=\"dataframe\">\n  <thead>\n    <tr style=\"text-align: right;\">\n      <th>Medida</th>\n      <th>Confirmados PDIA</th>\n      <th>Confirmados PDIA 7 días</th>\n      <th>Confirmados PDIA 14 días</th>\n      <th>Población</th>\n      <th>tasa7</th>\n      <th>tasa14</th>\n      <th>Diferencia PDIA</th>\n    </tr>\n    <tr>\n      <th>Lugar de residencia</th>\n      <th></th>\n      <th></th>\n      <th></th>\n      <th></th>\n      <th></th>\n      <th></th>\n      <th></th>\n    </tr>\n  </thead>\n  <tbody>\n    <tr>\n      <th>Huelva</th>\n      <td>9977.0</td>\n      <td>568.0</td>\n      <td>1454.0</td>\n      <td>510743.0</td>\n      <td>111.210531</td>\n      <td>284.683295</td>\n      <td>120.0</td>\n    </tr>\n    <tr>\n      <th>Huelva-Costa</th>\n      <td>5520.0</td>\n      <td>365.0</td>\n      <td>960.0</td>\n      <td>288115.0</td>\n      <td>126.685525</td>\n      <td>333.200285</td>\n      <td>85.0</td>\n    </tr>\n    <tr>\n      <th>Huelva (capital)</th>\n      <td>2798.0</td>\n      <td>162.0</td>\n      <td>429.0</td>\n      <td>143663.0</td>\n      <td>112.763899</td>\n      <td>298.615510</td>\n      <td>36.0</td>\n    </tr>\n    <tr>\n      <th>Condado-Campiña</th>\n      <td>3083.0</td>\n      <td>170.0</td>\n      <td>403.0</td>\n      <td>155057.0</td>\n      <td>109.637101</td>\n      <td>259.904422</td>\n      <td>32.0</td>\n    </tr>\n    <tr>\n      <th>Lepe</th>\n      <td>881.0</td>\n      <td>55.0</td>\n      <td>179.0</td>\n      <td>27431.0</td>\n      <td>200.503080</td>\n      <td>652.546389</td>\n      <td>19.0</td>\n    </tr>\n    <tr>\n      <th>Isla Cristina</th>\n      <td>333.0</td>\n      <td>55.0</td>\n      <td>93.0</td>\n      <td>21264.0</td>\n      <td>258.653123</td>\n      <td>437.358916</td>\n      <td>13.0</td>\n    </tr>\n    <tr>\n      <th>Moguer</th>\n      <td>325.0</td>\n      <td>38.0</td>\n      <td>90.0</td>\n      <td>22088.0</td>\n      <td>172.039116</td>\n      <td>407.461065</td>\n      <td>10.0</td>\n    </tr>\n    <tr>\n      <th>Gibraleón</th>\n      <td>347.0</td>\n      <td>12.0</td>\n      <td>17.0</td>\n      <td>12607.0</td>\n      <td>95.185215</td>\n      <td>134.845721</td>\n      <td>7.0</td>\n    </tr>\n    <tr>\n      <th>Punta Umbría</th>\n      <td>224.0</td>\n      <td>12.0</td>\n      <td>31.0</td>\n      <td>15242.0</td>\n      <td>78.729825</td>\n      <td>203.385382</td>\n      <td>7.0</td>\n    </tr>\n    <tr>\n      <th>Palma del Condado (La)</th>\n      <td>452.0</td>\n      <td>27.0</td>\n      <td>63.0</td>\n      <td>10761.0</td>\n      <td>250.906050</td>\n      <td>585.447449</td>\n      <td>5.0</td>\n    </tr>\n    <tr>\n      <th>Aljaraque</th>\n      <td>374.0</td>\n      <td>23.0</td>\n      <td>60.0</td>\n      <td>21260.0</td>\n      <td>108.184384</td>\n      <td>282.220132</td>\n      <td>4.0</td>\n    </tr>\n    <tr>\n      <th>Sierra de Huelva-Andévalo Central</th>\n      <td>1253.0</td>\n      <td>31.0</td>\n      <td>76.0</td>\n      <td>67571.0</td>\n      <td>45.877669</td>\n      <td>112.474286</td>\n      <td>3.0</td>\n    </tr>\n    <tr>\n      <th>Ayamonte</th>\n      <td>317.0</td>\n      <td>23.0</td>\n      <td>78.0</td>\n      <td>20946.0</td>\n      <td>109.806168</td>\n      <td>372.386136</td>\n      <td>3.0</td>\n    </tr>\n    <tr>\n      <th>Paterna del Campo</th>\n      <td>57.0</td>\n      <td>5.0</td>\n      <td>8.0</td>\n      <td>3509.0</td>\n      <td>142.490738</td>\n      <td>227.985181</td>\n      <td>2.0</td>\n    </tr>\n    <tr>\n      <th>Villanueva de los Castillejos</th>\n      <td>58.0</td>\n      <td>4.0</td>\n      <td>14.0</td>\n      <td>2820.0</td>\n      <td>141.843972</td>\n      <td>496.453901</td>\n      <td>2.0</td>\n    </tr>\n    <tr>\n      <th>Trigueros</th>\n      <td>127.0</td>\n      <td>2.0</td>\n      <td>4.0</td>\n      <td>7713.0</td>\n      <td>25.930248</td>\n      <td>51.860495</td>\n      <td>2.0</td>\n    </tr>\n    <tr>\n      <th>Zalamea la Real</th>\n      <td>46.0</td>\n      <td>4.0</td>\n      <td>4.0</td>\n      <td>3068.0</td>\n      <td>130.378096</td>\n      <td>130.378096</td>\n      <td>2.0</td>\n    </tr>\n    <tr>\n      <th>Palos de la Frontera</th>\n      <td>206.0</td>\n      <td>19.0</td>\n      <td>49.0</td>\n      <td>11289.0</td>\n      <td>168.305430</td>\n      <td>434.050846</td>\n      <td>1.0</td>\n    </tr>\n    <tr>\n      <th>Rociana del Condado</th>\n      <td>114.0</td>\n      <td>10.0</td>\n      <td>30.0</td>\n      <td>7855.0</td>\n      <td>127.307447</td>\n      <td>381.922342</td>\n      <td>1.0</td>\n    </tr>\n    <tr>\n      <th>San Bartolomé de la Torre</th>\n      <td>41.0</td>\n      <td>14.0</td>\n      <td>18.0</td>\n      <td>3736.0</td>\n      <td>374.732334</td>\n      <td>481.798715</td>\n      <td>1.0</td>\n    </tr>\n    <tr>\n      <th>Cartaya</th>\n      <td>320.0</td>\n      <td>29.0</td>\n      <td>61.0</td>\n      <td>19974.0</td>\n      <td>145.188745</td>\n      <td>305.397016</td>\n      <td>1.0</td>\n    </tr>\n    <tr>\n      <th>Bonares</th>\n      <td>42.0</td>\n      <td>2.0</td>\n      <td>8.0</td>\n      <td>6058.0</td>\n      <td>33.014196</td>\n      <td>132.056784</td>\n      <td>1.0</td>\n    </tr>\n    <tr>\n      <th>Beas</th>\n      <td>56.0</td>\n      <td>5.0</td>\n      <td>8.0</td>\n      <td>4257.0</td>\n      <td>117.453606</td>\n      <td>187.925769</td>\n      <td>1.0</td>\n    </tr>\n    <tr>\n      <th>Lucena del Puerto</th>\n      <td>82.0</td>\n      <td>16.0</td>\n      <td>32.0</td>\n      <td>3371.0</td>\n      <td>474.636606</td>\n      <td>949.273213</td>\n      <td>1.0</td>\n    </tr>\n    <tr>\n      <th>Jabugo</th>\n      <td>35.0</td>\n      <td>1.0</td>\n      <td>1.0</td>\n      <td>2250.0</td>\n      <td>44.444444</td>\n      <td>44.444444</td>\n      <td>NaN</td>\n    </tr>\n  </tbody>\n</table>\n</div>"
     },
     "metadata": {},
     "execution_count": 15
    }
   ],
   "source": [
    "# Nuevos casos desde la última captura\n",
    "tabla[tabla['Diferencia PDIA'] != 0].sort_values('Diferencia PDIA', ascending=False)"
   ]
  },
  {
   "cell_type": "code",
   "execution_count": 16,
   "metadata": {},
   "outputs": [],
   "source": [
    "if tabla[tabla['Diferencia PDIA'] != 0]['Diferencia PDIA'].sum() > 0:\n",
    "  # Save to csv\n",
    "  tabla.to_csv('covid_huelva.csv', encoding='utf-8', header=True, index=True)  "
   ]
  },
  {
   "cell_type": "code",
   "execution_count": 17,
   "metadata": {},
   "outputs": [
    {
     "output_type": "execute_result",
     "data": {
      "text/plain": [
       "Medida                             Confirmados PDIA  Confirmados PDIA 7 días  \\\n",
       "Lugar de residencia                                                            \n",
       "Lucena del Puerto                              82.0                     16.0   \n",
       "Lepe                                          881.0                     55.0   \n",
       "Palma del Condado (La)                        452.0                     27.0   \n",
       "Niebla                                        112.0                      4.0   \n",
       "Villanueva de los Castillejos                  58.0                      4.0   \n",
       "San Bartolomé de la Torre                      41.0                     14.0   \n",
       "Villalba del Alcor                             98.0                      6.0   \n",
       "Isla Cristina                                 333.0                     55.0   \n",
       "Palos de la Frontera                          206.0                     19.0   \n",
       "Santa Ana la Real                               3.0                      2.0   \n",
       "Granada de Río-Tinto (La)                       1.0                      1.0   \n",
       "Moguer                                        325.0                     38.0   \n",
       "Rociana del Condado                           114.0                     10.0   \n",
       "Ayamonte                                      317.0                     23.0   \n",
       "Aroche                                         51.0                      2.0   \n",
       "Huelva-Costa                                 5520.0                    365.0   \n",
       "Cartaya                                       320.0                     29.0   \n",
       "Huelva (capital)                             2798.0                    162.0   \n",
       "Huelva                                       9977.0                    568.0   \n",
       "Aljaraque                                     374.0                     23.0   \n",
       "Condado-Campiña                              3083.0                    170.0   \n",
       "Paterna del Campo                              57.0                      5.0   \n",
       "Cerro de Andévalo (El)                         36.0                      1.0   \n",
       "Punta Umbría                                  224.0                     12.0   \n",
       "Nerva                                          86.0                      1.0   \n",
       "Beas                                           56.0                      5.0   \n",
       "Calañas                                        44.0                      1.0   \n",
       "Minas de Riotinto                              64.0                      1.0   \n",
       "Gibraleón                                     347.0                     12.0   \n",
       "Bonares                                        42.0                      2.0   \n",
       "Zalamea la Real                                46.0                      4.0   \n",
       "Valverde del Camino                           269.0                     10.0   \n",
       "Sierra de Huelva-Andévalo Central            1253.0                     31.0   \n",
       "Puebla de Guzmán                               23.0                      2.0   \n",
       "Bollullos Par del Condado                     231.0                      3.0   \n",
       "Aracena                                       285.0                      5.0   \n",
       "Zarza-Perrunal (La)                            13.0                      1.0   \n",
       "Almonte                                       433.0                      7.0   \n",
       "Trigueros                                     127.0                      2.0   \n",
       "Campillo (El)                                  53.0                      1.0   \n",
       "Jabugo                                         35.0                      1.0   \n",
       "\n",
       "Medida                             Confirmados PDIA 14 días  Población  \\\n",
       "Lugar de residencia                                                      \n",
       "Lucena del Puerto                                      32.0     3371.0   \n",
       "Lepe                                                  179.0    27431.0   \n",
       "Palma del Condado (La)                                 63.0    10761.0   \n",
       "Niebla                                                 24.0     4117.0   \n",
       "Villanueva de los Castillejos                          14.0     2820.0   \n",
       "San Bartolomé de la Torre                              18.0     3736.0   \n",
       "Villalba del Alcor                                     16.0     3338.0   \n",
       "Isla Cristina                                          93.0    21264.0   \n",
       "Palos de la Frontera                                   49.0    11289.0   \n",
       "Santa Ana la Real                                       2.0      476.0   \n",
       "Granada de Río-Tinto (La)                               1.0      239.0   \n",
       "Moguer                                                 90.0    22088.0   \n",
       "Rociana del Condado                                    30.0     7855.0   \n",
       "Ayamonte                                               78.0    20946.0   \n",
       "Aroche                                                 11.0     3073.0   \n",
       "Huelva-Costa                                          960.0   288115.0   \n",
       "Cartaya                                                61.0    19974.0   \n",
       "Huelva (capital)                                      429.0   143663.0   \n",
       "Huelva                                               1454.0   510743.0   \n",
       "Aljaraque                                              60.0    21260.0   \n",
       "Condado-Campiña                                       403.0   155057.0   \n",
       "Paterna del Campo                                       8.0     3509.0   \n",
       "Cerro de Andévalo (El)                                  5.0     2364.0   \n",
       "Punta Umbría                                           31.0    15242.0   \n",
       "Nerva                                                  10.0     5235.0   \n",
       "Beas                                                    8.0     4257.0   \n",
       "Calañas                                                 5.0     2791.0   \n",
       "Minas de Riotinto                                       6.0     3848.0   \n",
       "Gibraleón                                              17.0    12607.0   \n",
       "Bonares                                                 8.0     6058.0   \n",
       "Zalamea la Real                                         4.0     3068.0   \n",
       "Valverde del Camino                                    15.0    12820.0   \n",
       "Sierra de Huelva-Andévalo Central                      76.0    67571.0   \n",
       "Puebla de Guzmán                                        3.0     3073.0   \n",
       "Bollullos Par del Condado                              13.0    14272.0   \n",
       "Aracena                                                 7.0     8107.0   \n",
       "Zarza-Perrunal (La)                                     1.0     1267.0   \n",
       "Almonte                                                16.0    24191.0   \n",
       "Trigueros                                               4.0     7713.0   \n",
       "Campillo (El)                                           1.0     2023.0   \n",
       "Jabugo                                                  1.0     2250.0   \n",
       "\n",
       "Medida                                  tasa7      tasa14  Diferencia PDIA  \n",
       "Lugar de residencia                                                         \n",
       "Lucena del Puerto                  474.636606  949.273213              1.0  \n",
       "Lepe                               200.503080  652.546389             19.0  \n",
       "Palma del Condado (La)             250.906050  585.447449              5.0  \n",
       "Niebla                              97.158125  582.948749              0.0  \n",
       "Villanueva de los Castillejos      141.843972  496.453901              2.0  \n",
       "San Bartolomé de la Torre          374.732334  481.798715              1.0  \n",
       "Villalba del Alcor                 179.748352  479.328939              0.0  \n",
       "Isla Cristina                      258.653123  437.358916             13.0  \n",
       "Palos de la Frontera               168.305430  434.050846              1.0  \n",
       "Santa Ana la Real                  420.168067  420.168067              0.0  \n",
       "Granada de Río-Tinto (La)          418.410042  418.410042              0.0  \n",
       "Moguer                             172.039116  407.461065             10.0  \n",
       "Rociana del Condado                127.307447  381.922342              1.0  \n",
       "Ayamonte                           109.806168  372.386136              3.0  \n",
       "Aroche                              65.082981  357.956394              0.0  \n",
       "Huelva-Costa                       126.685525  333.200285             85.0  \n",
       "Cartaya                            145.188745  305.397016              1.0  \n",
       "Huelva (capital)                   112.763899  298.615510             36.0  \n",
       "Huelva                             111.210531  284.683295            120.0  \n",
       "Aljaraque                          108.184384  282.220132              4.0  \n",
       "Condado-Campiña                    109.637101  259.904422             32.0  \n",
       "Paterna del Campo                  142.490738  227.985181              2.0  \n",
       "Cerro de Andévalo (El)              42.301184  211.505922              0.0  \n",
       "Punta Umbría                        78.729825  203.385382              7.0  \n",
       "Nerva                               19.102197  191.021968              0.0  \n",
       "Beas                               117.453606  187.925769              1.0  \n",
       "Calañas                             35.829452  179.147259              0.0  \n",
       "Minas de Riotinto                   25.987526  155.925156              0.0  \n",
       "Gibraleón                           95.185215  134.845721              7.0  \n",
       "Bonares                             33.014196  132.056784              1.0  \n",
       "Zalamea la Real                    130.378096  130.378096              2.0  \n",
       "Valverde del Camino                 78.003120  117.004680              0.0  \n",
       "Sierra de Huelva-Andévalo Central   45.877669  112.474286              3.0  \n",
       "Puebla de Guzmán                    65.082981   97.624471              0.0  \n",
       "Bollullos Par del Condado           21.020179   91.087444              0.0  \n",
       "Aracena                             61.675096   86.345134              0.0  \n",
       "Zarza-Perrunal (La)                 78.926598   78.926598              0.0  \n",
       "Almonte                             28.936381   66.140300              0.0  \n",
       "Trigueros                           25.930248   51.860495              2.0  \n",
       "Campillo (El)                       49.431537   49.431537              0.0  \n",
       "Jabugo                              44.444444   44.444444              NaN  "
      ],
      "text/html": "<div>\n<style scoped>\n    .dataframe tbody tr th:only-of-type {\n        vertical-align: middle;\n    }\n\n    .dataframe tbody tr th {\n        vertical-align: top;\n    }\n\n    .dataframe thead th {\n        text-align: right;\n    }\n</style>\n<table border=\"1\" class=\"dataframe\">\n  <thead>\n    <tr style=\"text-align: right;\">\n      <th>Medida</th>\n      <th>Confirmados PDIA</th>\n      <th>Confirmados PDIA 7 días</th>\n      <th>Confirmados PDIA 14 días</th>\n      <th>Población</th>\n      <th>tasa7</th>\n      <th>tasa14</th>\n      <th>Diferencia PDIA</th>\n    </tr>\n    <tr>\n      <th>Lugar de residencia</th>\n      <th></th>\n      <th></th>\n      <th></th>\n      <th></th>\n      <th></th>\n      <th></th>\n      <th></th>\n    </tr>\n  </thead>\n  <tbody>\n    <tr>\n      <th>Lucena del Puerto</th>\n      <td>82.0</td>\n      <td>16.0</td>\n      <td>32.0</td>\n      <td>3371.0</td>\n      <td>474.636606</td>\n      <td>949.273213</td>\n      <td>1.0</td>\n    </tr>\n    <tr>\n      <th>Lepe</th>\n      <td>881.0</td>\n      <td>55.0</td>\n      <td>179.0</td>\n      <td>27431.0</td>\n      <td>200.503080</td>\n      <td>652.546389</td>\n      <td>19.0</td>\n    </tr>\n    <tr>\n      <th>Palma del Condado (La)</th>\n      <td>452.0</td>\n      <td>27.0</td>\n      <td>63.0</td>\n      <td>10761.0</td>\n      <td>250.906050</td>\n      <td>585.447449</td>\n      <td>5.0</td>\n    </tr>\n    <tr>\n      <th>Niebla</th>\n      <td>112.0</td>\n      <td>4.0</td>\n      <td>24.0</td>\n      <td>4117.0</td>\n      <td>97.158125</td>\n      <td>582.948749</td>\n      <td>0.0</td>\n    </tr>\n    <tr>\n      <th>Villanueva de los Castillejos</th>\n      <td>58.0</td>\n      <td>4.0</td>\n      <td>14.0</td>\n      <td>2820.0</td>\n      <td>141.843972</td>\n      <td>496.453901</td>\n      <td>2.0</td>\n    </tr>\n    <tr>\n      <th>San Bartolomé de la Torre</th>\n      <td>41.0</td>\n      <td>14.0</td>\n      <td>18.0</td>\n      <td>3736.0</td>\n      <td>374.732334</td>\n      <td>481.798715</td>\n      <td>1.0</td>\n    </tr>\n    <tr>\n      <th>Villalba del Alcor</th>\n      <td>98.0</td>\n      <td>6.0</td>\n      <td>16.0</td>\n      <td>3338.0</td>\n      <td>179.748352</td>\n      <td>479.328939</td>\n      <td>0.0</td>\n    </tr>\n    <tr>\n      <th>Isla Cristina</th>\n      <td>333.0</td>\n      <td>55.0</td>\n      <td>93.0</td>\n      <td>21264.0</td>\n      <td>258.653123</td>\n      <td>437.358916</td>\n      <td>13.0</td>\n    </tr>\n    <tr>\n      <th>Palos de la Frontera</th>\n      <td>206.0</td>\n      <td>19.0</td>\n      <td>49.0</td>\n      <td>11289.0</td>\n      <td>168.305430</td>\n      <td>434.050846</td>\n      <td>1.0</td>\n    </tr>\n    <tr>\n      <th>Santa Ana la Real</th>\n      <td>3.0</td>\n      <td>2.0</td>\n      <td>2.0</td>\n      <td>476.0</td>\n      <td>420.168067</td>\n      <td>420.168067</td>\n      <td>0.0</td>\n    </tr>\n    <tr>\n      <th>Granada de Río-Tinto (La)</th>\n      <td>1.0</td>\n      <td>1.0</td>\n      <td>1.0</td>\n      <td>239.0</td>\n      <td>418.410042</td>\n      <td>418.410042</td>\n      <td>0.0</td>\n    </tr>\n    <tr>\n      <th>Moguer</th>\n      <td>325.0</td>\n      <td>38.0</td>\n      <td>90.0</td>\n      <td>22088.0</td>\n      <td>172.039116</td>\n      <td>407.461065</td>\n      <td>10.0</td>\n    </tr>\n    <tr>\n      <th>Rociana del Condado</th>\n      <td>114.0</td>\n      <td>10.0</td>\n      <td>30.0</td>\n      <td>7855.0</td>\n      <td>127.307447</td>\n      <td>381.922342</td>\n      <td>1.0</td>\n    </tr>\n    <tr>\n      <th>Ayamonte</th>\n      <td>317.0</td>\n      <td>23.0</td>\n      <td>78.0</td>\n      <td>20946.0</td>\n      <td>109.806168</td>\n      <td>372.386136</td>\n      <td>3.0</td>\n    </tr>\n    <tr>\n      <th>Aroche</th>\n      <td>51.0</td>\n      <td>2.0</td>\n      <td>11.0</td>\n      <td>3073.0</td>\n      <td>65.082981</td>\n      <td>357.956394</td>\n      <td>0.0</td>\n    </tr>\n    <tr>\n      <th>Huelva-Costa</th>\n      <td>5520.0</td>\n      <td>365.0</td>\n      <td>960.0</td>\n      <td>288115.0</td>\n      <td>126.685525</td>\n      <td>333.200285</td>\n      <td>85.0</td>\n    </tr>\n    <tr>\n      <th>Cartaya</th>\n      <td>320.0</td>\n      <td>29.0</td>\n      <td>61.0</td>\n      <td>19974.0</td>\n      <td>145.188745</td>\n      <td>305.397016</td>\n      <td>1.0</td>\n    </tr>\n    <tr>\n      <th>Huelva (capital)</th>\n      <td>2798.0</td>\n      <td>162.0</td>\n      <td>429.0</td>\n      <td>143663.0</td>\n      <td>112.763899</td>\n      <td>298.615510</td>\n      <td>36.0</td>\n    </tr>\n    <tr>\n      <th>Huelva</th>\n      <td>9977.0</td>\n      <td>568.0</td>\n      <td>1454.0</td>\n      <td>510743.0</td>\n      <td>111.210531</td>\n      <td>284.683295</td>\n      <td>120.0</td>\n    </tr>\n    <tr>\n      <th>Aljaraque</th>\n      <td>374.0</td>\n      <td>23.0</td>\n      <td>60.0</td>\n      <td>21260.0</td>\n      <td>108.184384</td>\n      <td>282.220132</td>\n      <td>4.0</td>\n    </tr>\n    <tr>\n      <th>Condado-Campiña</th>\n      <td>3083.0</td>\n      <td>170.0</td>\n      <td>403.0</td>\n      <td>155057.0</td>\n      <td>109.637101</td>\n      <td>259.904422</td>\n      <td>32.0</td>\n    </tr>\n    <tr>\n      <th>Paterna del Campo</th>\n      <td>57.0</td>\n      <td>5.0</td>\n      <td>8.0</td>\n      <td>3509.0</td>\n      <td>142.490738</td>\n      <td>227.985181</td>\n      <td>2.0</td>\n    </tr>\n    <tr>\n      <th>Cerro de Andévalo (El)</th>\n      <td>36.0</td>\n      <td>1.0</td>\n      <td>5.0</td>\n      <td>2364.0</td>\n      <td>42.301184</td>\n      <td>211.505922</td>\n      <td>0.0</td>\n    </tr>\n    <tr>\n      <th>Punta Umbría</th>\n      <td>224.0</td>\n      <td>12.0</td>\n      <td>31.0</td>\n      <td>15242.0</td>\n      <td>78.729825</td>\n      <td>203.385382</td>\n      <td>7.0</td>\n    </tr>\n    <tr>\n      <th>Nerva</th>\n      <td>86.0</td>\n      <td>1.0</td>\n      <td>10.0</td>\n      <td>5235.0</td>\n      <td>19.102197</td>\n      <td>191.021968</td>\n      <td>0.0</td>\n    </tr>\n    <tr>\n      <th>Beas</th>\n      <td>56.0</td>\n      <td>5.0</td>\n      <td>8.0</td>\n      <td>4257.0</td>\n      <td>117.453606</td>\n      <td>187.925769</td>\n      <td>1.0</td>\n    </tr>\n    <tr>\n      <th>Calañas</th>\n      <td>44.0</td>\n      <td>1.0</td>\n      <td>5.0</td>\n      <td>2791.0</td>\n      <td>35.829452</td>\n      <td>179.147259</td>\n      <td>0.0</td>\n    </tr>\n    <tr>\n      <th>Minas de Riotinto</th>\n      <td>64.0</td>\n      <td>1.0</td>\n      <td>6.0</td>\n      <td>3848.0</td>\n      <td>25.987526</td>\n      <td>155.925156</td>\n      <td>0.0</td>\n    </tr>\n    <tr>\n      <th>Gibraleón</th>\n      <td>347.0</td>\n      <td>12.0</td>\n      <td>17.0</td>\n      <td>12607.0</td>\n      <td>95.185215</td>\n      <td>134.845721</td>\n      <td>7.0</td>\n    </tr>\n    <tr>\n      <th>Bonares</th>\n      <td>42.0</td>\n      <td>2.0</td>\n      <td>8.0</td>\n      <td>6058.0</td>\n      <td>33.014196</td>\n      <td>132.056784</td>\n      <td>1.0</td>\n    </tr>\n    <tr>\n      <th>Zalamea la Real</th>\n      <td>46.0</td>\n      <td>4.0</td>\n      <td>4.0</td>\n      <td>3068.0</td>\n      <td>130.378096</td>\n      <td>130.378096</td>\n      <td>2.0</td>\n    </tr>\n    <tr>\n      <th>Valverde del Camino</th>\n      <td>269.0</td>\n      <td>10.0</td>\n      <td>15.0</td>\n      <td>12820.0</td>\n      <td>78.003120</td>\n      <td>117.004680</td>\n      <td>0.0</td>\n    </tr>\n    <tr>\n      <th>Sierra de Huelva-Andévalo Central</th>\n      <td>1253.0</td>\n      <td>31.0</td>\n      <td>76.0</td>\n      <td>67571.0</td>\n      <td>45.877669</td>\n      <td>112.474286</td>\n      <td>3.0</td>\n    </tr>\n    <tr>\n      <th>Puebla de Guzmán</th>\n      <td>23.0</td>\n      <td>2.0</td>\n      <td>3.0</td>\n      <td>3073.0</td>\n      <td>65.082981</td>\n      <td>97.624471</td>\n      <td>0.0</td>\n    </tr>\n    <tr>\n      <th>Bollullos Par del Condado</th>\n      <td>231.0</td>\n      <td>3.0</td>\n      <td>13.0</td>\n      <td>14272.0</td>\n      <td>21.020179</td>\n      <td>91.087444</td>\n      <td>0.0</td>\n    </tr>\n    <tr>\n      <th>Aracena</th>\n      <td>285.0</td>\n      <td>5.0</td>\n      <td>7.0</td>\n      <td>8107.0</td>\n      <td>61.675096</td>\n      <td>86.345134</td>\n      <td>0.0</td>\n    </tr>\n    <tr>\n      <th>Zarza-Perrunal (La)</th>\n      <td>13.0</td>\n      <td>1.0</td>\n      <td>1.0</td>\n      <td>1267.0</td>\n      <td>78.926598</td>\n      <td>78.926598</td>\n      <td>0.0</td>\n    </tr>\n    <tr>\n      <th>Almonte</th>\n      <td>433.0</td>\n      <td>7.0</td>\n      <td>16.0</td>\n      <td>24191.0</td>\n      <td>28.936381</td>\n      <td>66.140300</td>\n      <td>0.0</td>\n    </tr>\n    <tr>\n      <th>Trigueros</th>\n      <td>127.0</td>\n      <td>2.0</td>\n      <td>4.0</td>\n      <td>7713.0</td>\n      <td>25.930248</td>\n      <td>51.860495</td>\n      <td>2.0</td>\n    </tr>\n    <tr>\n      <th>Campillo (El)</th>\n      <td>53.0</td>\n      <td>1.0</td>\n      <td>1.0</td>\n      <td>2023.0</td>\n      <td>49.431537</td>\n      <td>49.431537</td>\n      <td>0.0</td>\n    </tr>\n    <tr>\n      <th>Jabugo</th>\n      <td>35.0</td>\n      <td>1.0</td>\n      <td>1.0</td>\n      <td>2250.0</td>\n      <td>44.444444</td>\n      <td>44.444444</td>\n      <td>NaN</td>\n    </tr>\n  </tbody>\n</table>\n</div>"
     },
     "metadata": {},
     "execution_count": 17
    }
   ],
   "source": [
    "tabla.sort_values('tasa14', ascending=False)"
   ]
  },
  {
   "cell_type": "code",
   "execution_count": 18,
   "metadata": {},
   "outputs": [
    {
     "output_type": "execute_result",
     "data": {
      "text/plain": [
       "Medida                             Confirmados PDIA  Confirmados PDIA 7 días  \\\n",
       "Lugar de residencia                                                            \n",
       "Nerva                                          86.0                      1.0   \n",
       "Minas de Riotinto                              64.0                      1.0   \n",
       "Niebla                                        112.0                      4.0   \n",
       "Aroche                                         51.0                      2.0   \n",
       "Cerro de Andévalo (El)                         36.0                      1.0   \n",
       "Calañas                                        44.0                      1.0   \n",
       "Bollullos Par del Condado                     231.0                      3.0   \n",
       "Bonares                                        42.0                      2.0   \n",
       "Villanueva de los Castillejos                  58.0                      4.0   \n",
       "Ayamonte                                      317.0                     23.0   \n",
       "Lepe                                          881.0                     55.0   \n",
       "Rociana del Condado                           114.0                     10.0   \n",
       "Villalba del Alcor                             98.0                      6.0   \n",
       "Huelva (capital)                             2798.0                    162.0   \n",
       "Huelva-Costa                                 5520.0                    365.0   \n",
       "Aljaraque                                     374.0                     23.0   \n",
       "Punta Umbría                                  224.0                     12.0   \n",
       "Palos de la Frontera                          206.0                     19.0   \n",
       "Huelva                                       9977.0                    568.0   \n",
       "Sierra de Huelva-Andévalo Central            1253.0                     31.0   \n",
       "Condado-Campiña                              3083.0                    170.0   \n",
       "Moguer                                        325.0                     38.0   \n",
       "Palma del Condado (La)                        452.0                     27.0   \n",
       "Almonte                                       433.0                      7.0   \n",
       "Cartaya                                       320.0                     29.0   \n",
       "Lucena del Puerto                              82.0                     16.0   \n",
       "Trigueros                                     127.0                      2.0   \n",
       "Isla Cristina                                 333.0                     55.0   \n",
       "Paterna del Campo                              57.0                      5.0   \n",
       "Beas                                           56.0                      5.0   \n",
       "Puebla de Guzmán                               23.0                      2.0   \n",
       "Valverde del Camino                           269.0                     10.0   \n",
       "Gibraleón                                     347.0                     12.0   \n",
       "Aracena                                       285.0                      5.0   \n",
       "San Bartolomé de la Torre                      41.0                     14.0   \n",
       "Granada de Río-Tinto (La)                       1.0                      1.0   \n",
       "Campillo (El)                                  53.0                      1.0   \n",
       "Zalamea la Real                                46.0                      4.0   \n",
       "Jabugo                                         35.0                      1.0   \n",
       "Santa Ana la Real                               3.0                      2.0   \n",
       "Zarza-Perrunal (La)                            13.0                      1.0   \n",
       "\n",
       "Medida                             Confirmados PDIA 14 días  Población  \\\n",
       "Lugar de residencia                                                      \n",
       "Nerva                                                  10.0     5235.0   \n",
       "Minas de Riotinto                                       6.0     3848.0   \n",
       "Niebla                                                 24.0     4117.0   \n",
       "Aroche                                                 11.0     3073.0   \n",
       "Cerro de Andévalo (El)                                  5.0     2364.0   \n",
       "Calañas                                                 5.0     2791.0   \n",
       "Bollullos Par del Condado                              13.0    14272.0   \n",
       "Bonares                                                 8.0     6058.0   \n",
       "Villanueva de los Castillejos                          14.0     2820.0   \n",
       "Ayamonte                                               78.0    20946.0   \n",
       "Lepe                                                  179.0    27431.0   \n",
       "Rociana del Condado                                    30.0     7855.0   \n",
       "Villalba del Alcor                                     16.0     3338.0   \n",
       "Huelva (capital)                                      429.0   143663.0   \n",
       "Huelva-Costa                                          960.0   288115.0   \n",
       "Aljaraque                                              60.0    21260.0   \n",
       "Punta Umbría                                           31.0    15242.0   \n",
       "Palos de la Frontera                                   49.0    11289.0   \n",
       "Huelva                                               1454.0   510743.0   \n",
       "Sierra de Huelva-Andévalo Central                      76.0    67571.0   \n",
       "Condado-Campiña                                       403.0   155057.0   \n",
       "Moguer                                                 90.0    22088.0   \n",
       "Palma del Condado (La)                                 63.0    10761.0   \n",
       "Almonte                                                16.0    24191.0   \n",
       "Cartaya                                                61.0    19974.0   \n",
       "Lucena del Puerto                                      32.0     3371.0   \n",
       "Trigueros                                               4.0     7713.0   \n",
       "Isla Cristina                                          93.0    21264.0   \n",
       "Paterna del Campo                                       8.0     3509.0   \n",
       "Beas                                                    8.0     4257.0   \n",
       "Puebla de Guzmán                                        3.0     3073.0   \n",
       "Valverde del Camino                                    15.0    12820.0   \n",
       "Gibraleón                                              17.0    12607.0   \n",
       "Aracena                                                 7.0     8107.0   \n",
       "San Bartolomé de la Torre                              18.0     3736.0   \n",
       "Granada de Río-Tinto (La)                               1.0      239.0   \n",
       "Campillo (El)                                           1.0     2023.0   \n",
       "Zalamea la Real                                         4.0     3068.0   \n",
       "Jabugo                                                  1.0     2250.0   \n",
       "Santa Ana la Real                                       2.0      476.0   \n",
       "Zarza-Perrunal (La)                                     1.0     1267.0   \n",
       "\n",
       "Medida                                  tasa7      tasa14  Diferencia PDIA  \\\n",
       "Lugar de residencia                                                          \n",
       "Nerva                               19.102197  191.021968              0.0   \n",
       "Minas de Riotinto                   25.987526  155.925156              0.0   \n",
       "Niebla                              97.158125  582.948749              0.0   \n",
       "Aroche                              65.082981  357.956394              0.0   \n",
       "Cerro de Andévalo (El)              42.301184  211.505922              0.0   \n",
       "Calañas                             35.829452  179.147259              0.0   \n",
       "Bollullos Par del Condado           21.020179   91.087444              0.0   \n",
       "Bonares                             33.014196  132.056784              1.0   \n",
       "Villanueva de los Castillejos      141.843972  496.453901              2.0   \n",
       "Ayamonte                           109.806168  372.386136              3.0   \n",
       "Lepe                               200.503080  652.546389             19.0   \n",
       "Rociana del Condado                127.307447  381.922342              1.0   \n",
       "Villalba del Alcor                 179.748352  479.328939              0.0   \n",
       "Huelva (capital)                   112.763899  298.615510             36.0   \n",
       "Huelva-Costa                       126.685525  333.200285             85.0   \n",
       "Aljaraque                          108.184384  282.220132              4.0   \n",
       "Punta Umbría                        78.729825  203.385382              7.0   \n",
       "Palos de la Frontera               168.305430  434.050846              1.0   \n",
       "Huelva                             111.210531  284.683295            120.0   \n",
       "Sierra de Huelva-Andévalo Central   45.877669  112.474286              3.0   \n",
       "Condado-Campiña                    109.637101  259.904422             32.0   \n",
       "Moguer                             172.039116  407.461065             10.0   \n",
       "Palma del Condado (La)             250.906050  585.447449              5.0   \n",
       "Almonte                             28.936381   66.140300              0.0   \n",
       "Cartaya                            145.188745  305.397016              1.0   \n",
       "Lucena del Puerto                  474.636606  949.273213              1.0   \n",
       "Trigueros                           25.930248   51.860495              2.0   \n",
       "Isla Cristina                      258.653123  437.358916             13.0   \n",
       "Paterna del Campo                  142.490738  227.985181              2.0   \n",
       "Beas                               117.453606  187.925769              1.0   \n",
       "Puebla de Guzmán                    65.082981   97.624471              0.0   \n",
       "Valverde del Camino                 78.003120  117.004680              0.0   \n",
       "Gibraleón                           95.185215  134.845721              7.0   \n",
       "Aracena                             61.675096   86.345134              0.0   \n",
       "San Bartolomé de la Torre          374.732334  481.798715              1.0   \n",
       "Granada de Río-Tinto (La)          418.410042  418.410042              0.0   \n",
       "Campillo (El)                       49.431537   49.431537              0.0   \n",
       "Zalamea la Real                    130.378096  130.378096              2.0   \n",
       "Jabugo                              44.444444   44.444444              0.0   \n",
       "Santa Ana la Real                  420.168067  420.168067              0.0   \n",
       "Zarza-Perrunal (La)                 78.926598   78.926598              0.0   \n",
       "\n",
       "Medida                                 7/14  \n",
       "Lugar de residencia                          \n",
       "Nerva                              0.100000  \n",
       "Minas de Riotinto                  0.166667  \n",
       "Niebla                             0.166667  \n",
       "Aroche                             0.181818  \n",
       "Cerro de Andévalo (El)             0.200000  \n",
       "Calañas                            0.200000  \n",
       "Bollullos Par del Condado          0.230769  \n",
       "Bonares                            0.250000  \n",
       "Villanueva de los Castillejos      0.285714  \n",
       "Ayamonte                           0.294872  \n",
       "Lepe                               0.307263  \n",
       "Rociana del Condado                0.333333  \n",
       "Villalba del Alcor                 0.375000  \n",
       "Huelva (capital)                   0.377622  \n",
       "Huelva-Costa                       0.380208  \n",
       "Aljaraque                          0.383333  \n",
       "Punta Umbría                       0.387097  \n",
       "Palos de la Frontera               0.387755  \n",
       "Huelva                             0.390646  \n",
       "Sierra de Huelva-Andévalo Central  0.407895  \n",
       "Condado-Campiña                    0.421836  \n",
       "Moguer                             0.422222  \n",
       "Palma del Condado (La)             0.428571  \n",
       "Almonte                            0.437500  \n",
       "Cartaya                            0.475410  \n",
       "Lucena del Puerto                  0.500000  \n",
       "Trigueros                          0.500000  \n",
       "Isla Cristina                      0.591398  \n",
       "Paterna del Campo                  0.625000  \n",
       "Beas                               0.625000  \n",
       "Puebla de Guzmán                   0.666667  \n",
       "Valverde del Camino                0.666667  \n",
       "Gibraleón                          0.705882  \n",
       "Aracena                            0.714286  \n",
       "San Bartolomé de la Torre          0.777778  \n",
       "Granada de Río-Tinto (La)          1.000000  \n",
       "Campillo (El)                      1.000000  \n",
       "Zalamea la Real                    1.000000  \n",
       "Jabugo                             1.000000  \n",
       "Santa Ana la Real                  1.000000  \n",
       "Zarza-Perrunal (La)                1.000000  "
      ],
      "text/html": "<div>\n<style scoped>\n    .dataframe tbody tr th:only-of-type {\n        vertical-align: middle;\n    }\n\n    .dataframe tbody tr th {\n        vertical-align: top;\n    }\n\n    .dataframe thead th {\n        text-align: right;\n    }\n</style>\n<table border=\"1\" class=\"dataframe\">\n  <thead>\n    <tr style=\"text-align: right;\">\n      <th>Medida</th>\n      <th>Confirmados PDIA</th>\n      <th>Confirmados PDIA 7 días</th>\n      <th>Confirmados PDIA 14 días</th>\n      <th>Población</th>\n      <th>tasa7</th>\n      <th>tasa14</th>\n      <th>Diferencia PDIA</th>\n      <th>7/14</th>\n    </tr>\n    <tr>\n      <th>Lugar de residencia</th>\n      <th></th>\n      <th></th>\n      <th></th>\n      <th></th>\n      <th></th>\n      <th></th>\n      <th></th>\n      <th></th>\n    </tr>\n  </thead>\n  <tbody>\n    <tr>\n      <th>Nerva</th>\n      <td>86.0</td>\n      <td>1.0</td>\n      <td>10.0</td>\n      <td>5235.0</td>\n      <td>19.102197</td>\n      <td>191.021968</td>\n      <td>0.0</td>\n      <td>0.100000</td>\n    </tr>\n    <tr>\n      <th>Minas de Riotinto</th>\n      <td>64.0</td>\n      <td>1.0</td>\n      <td>6.0</td>\n      <td>3848.0</td>\n      <td>25.987526</td>\n      <td>155.925156</td>\n      <td>0.0</td>\n      <td>0.166667</td>\n    </tr>\n    <tr>\n      <th>Niebla</th>\n      <td>112.0</td>\n      <td>4.0</td>\n      <td>24.0</td>\n      <td>4117.0</td>\n      <td>97.158125</td>\n      <td>582.948749</td>\n      <td>0.0</td>\n      <td>0.166667</td>\n    </tr>\n    <tr>\n      <th>Aroche</th>\n      <td>51.0</td>\n      <td>2.0</td>\n      <td>11.0</td>\n      <td>3073.0</td>\n      <td>65.082981</td>\n      <td>357.956394</td>\n      <td>0.0</td>\n      <td>0.181818</td>\n    </tr>\n    <tr>\n      <th>Cerro de Andévalo (El)</th>\n      <td>36.0</td>\n      <td>1.0</td>\n      <td>5.0</td>\n      <td>2364.0</td>\n      <td>42.301184</td>\n      <td>211.505922</td>\n      <td>0.0</td>\n      <td>0.200000</td>\n    </tr>\n    <tr>\n      <th>Calañas</th>\n      <td>44.0</td>\n      <td>1.0</td>\n      <td>5.0</td>\n      <td>2791.0</td>\n      <td>35.829452</td>\n      <td>179.147259</td>\n      <td>0.0</td>\n      <td>0.200000</td>\n    </tr>\n    <tr>\n      <th>Bollullos Par del Condado</th>\n      <td>231.0</td>\n      <td>3.0</td>\n      <td>13.0</td>\n      <td>14272.0</td>\n      <td>21.020179</td>\n      <td>91.087444</td>\n      <td>0.0</td>\n      <td>0.230769</td>\n    </tr>\n    <tr>\n      <th>Bonares</th>\n      <td>42.0</td>\n      <td>2.0</td>\n      <td>8.0</td>\n      <td>6058.0</td>\n      <td>33.014196</td>\n      <td>132.056784</td>\n      <td>1.0</td>\n      <td>0.250000</td>\n    </tr>\n    <tr>\n      <th>Villanueva de los Castillejos</th>\n      <td>58.0</td>\n      <td>4.0</td>\n      <td>14.0</td>\n      <td>2820.0</td>\n      <td>141.843972</td>\n      <td>496.453901</td>\n      <td>2.0</td>\n      <td>0.285714</td>\n    </tr>\n    <tr>\n      <th>Ayamonte</th>\n      <td>317.0</td>\n      <td>23.0</td>\n      <td>78.0</td>\n      <td>20946.0</td>\n      <td>109.806168</td>\n      <td>372.386136</td>\n      <td>3.0</td>\n      <td>0.294872</td>\n    </tr>\n    <tr>\n      <th>Lepe</th>\n      <td>881.0</td>\n      <td>55.0</td>\n      <td>179.0</td>\n      <td>27431.0</td>\n      <td>200.503080</td>\n      <td>652.546389</td>\n      <td>19.0</td>\n      <td>0.307263</td>\n    </tr>\n    <tr>\n      <th>Rociana del Condado</th>\n      <td>114.0</td>\n      <td>10.0</td>\n      <td>30.0</td>\n      <td>7855.0</td>\n      <td>127.307447</td>\n      <td>381.922342</td>\n      <td>1.0</td>\n      <td>0.333333</td>\n    </tr>\n    <tr>\n      <th>Villalba del Alcor</th>\n      <td>98.0</td>\n      <td>6.0</td>\n      <td>16.0</td>\n      <td>3338.0</td>\n      <td>179.748352</td>\n      <td>479.328939</td>\n      <td>0.0</td>\n      <td>0.375000</td>\n    </tr>\n    <tr>\n      <th>Huelva (capital)</th>\n      <td>2798.0</td>\n      <td>162.0</td>\n      <td>429.0</td>\n      <td>143663.0</td>\n      <td>112.763899</td>\n      <td>298.615510</td>\n      <td>36.0</td>\n      <td>0.377622</td>\n    </tr>\n    <tr>\n      <th>Huelva-Costa</th>\n      <td>5520.0</td>\n      <td>365.0</td>\n      <td>960.0</td>\n      <td>288115.0</td>\n      <td>126.685525</td>\n      <td>333.200285</td>\n      <td>85.0</td>\n      <td>0.380208</td>\n    </tr>\n    <tr>\n      <th>Aljaraque</th>\n      <td>374.0</td>\n      <td>23.0</td>\n      <td>60.0</td>\n      <td>21260.0</td>\n      <td>108.184384</td>\n      <td>282.220132</td>\n      <td>4.0</td>\n      <td>0.383333</td>\n    </tr>\n    <tr>\n      <th>Punta Umbría</th>\n      <td>224.0</td>\n      <td>12.0</td>\n      <td>31.0</td>\n      <td>15242.0</td>\n      <td>78.729825</td>\n      <td>203.385382</td>\n      <td>7.0</td>\n      <td>0.387097</td>\n    </tr>\n    <tr>\n      <th>Palos de la Frontera</th>\n      <td>206.0</td>\n      <td>19.0</td>\n      <td>49.0</td>\n      <td>11289.0</td>\n      <td>168.305430</td>\n      <td>434.050846</td>\n      <td>1.0</td>\n      <td>0.387755</td>\n    </tr>\n    <tr>\n      <th>Huelva</th>\n      <td>9977.0</td>\n      <td>568.0</td>\n      <td>1454.0</td>\n      <td>510743.0</td>\n      <td>111.210531</td>\n      <td>284.683295</td>\n      <td>120.0</td>\n      <td>0.390646</td>\n    </tr>\n    <tr>\n      <th>Sierra de Huelva-Andévalo Central</th>\n      <td>1253.0</td>\n      <td>31.0</td>\n      <td>76.0</td>\n      <td>67571.0</td>\n      <td>45.877669</td>\n      <td>112.474286</td>\n      <td>3.0</td>\n      <td>0.407895</td>\n    </tr>\n    <tr>\n      <th>Condado-Campiña</th>\n      <td>3083.0</td>\n      <td>170.0</td>\n      <td>403.0</td>\n      <td>155057.0</td>\n      <td>109.637101</td>\n      <td>259.904422</td>\n      <td>32.0</td>\n      <td>0.421836</td>\n    </tr>\n    <tr>\n      <th>Moguer</th>\n      <td>325.0</td>\n      <td>38.0</td>\n      <td>90.0</td>\n      <td>22088.0</td>\n      <td>172.039116</td>\n      <td>407.461065</td>\n      <td>10.0</td>\n      <td>0.422222</td>\n    </tr>\n    <tr>\n      <th>Palma del Condado (La)</th>\n      <td>452.0</td>\n      <td>27.0</td>\n      <td>63.0</td>\n      <td>10761.0</td>\n      <td>250.906050</td>\n      <td>585.447449</td>\n      <td>5.0</td>\n      <td>0.428571</td>\n    </tr>\n    <tr>\n      <th>Almonte</th>\n      <td>433.0</td>\n      <td>7.0</td>\n      <td>16.0</td>\n      <td>24191.0</td>\n      <td>28.936381</td>\n      <td>66.140300</td>\n      <td>0.0</td>\n      <td>0.437500</td>\n    </tr>\n    <tr>\n      <th>Cartaya</th>\n      <td>320.0</td>\n      <td>29.0</td>\n      <td>61.0</td>\n      <td>19974.0</td>\n      <td>145.188745</td>\n      <td>305.397016</td>\n      <td>1.0</td>\n      <td>0.475410</td>\n    </tr>\n    <tr>\n      <th>Lucena del Puerto</th>\n      <td>82.0</td>\n      <td>16.0</td>\n      <td>32.0</td>\n      <td>3371.0</td>\n      <td>474.636606</td>\n      <td>949.273213</td>\n      <td>1.0</td>\n      <td>0.500000</td>\n    </tr>\n    <tr>\n      <th>Trigueros</th>\n      <td>127.0</td>\n      <td>2.0</td>\n      <td>4.0</td>\n      <td>7713.0</td>\n      <td>25.930248</td>\n      <td>51.860495</td>\n      <td>2.0</td>\n      <td>0.500000</td>\n    </tr>\n    <tr>\n      <th>Isla Cristina</th>\n      <td>333.0</td>\n      <td>55.0</td>\n      <td>93.0</td>\n      <td>21264.0</td>\n      <td>258.653123</td>\n      <td>437.358916</td>\n      <td>13.0</td>\n      <td>0.591398</td>\n    </tr>\n    <tr>\n      <th>Paterna del Campo</th>\n      <td>57.0</td>\n      <td>5.0</td>\n      <td>8.0</td>\n      <td>3509.0</td>\n      <td>142.490738</td>\n      <td>227.985181</td>\n      <td>2.0</td>\n      <td>0.625000</td>\n    </tr>\n    <tr>\n      <th>Beas</th>\n      <td>56.0</td>\n      <td>5.0</td>\n      <td>8.0</td>\n      <td>4257.0</td>\n      <td>117.453606</td>\n      <td>187.925769</td>\n      <td>1.0</td>\n      <td>0.625000</td>\n    </tr>\n    <tr>\n      <th>Puebla de Guzmán</th>\n      <td>23.0</td>\n      <td>2.0</td>\n      <td>3.0</td>\n      <td>3073.0</td>\n      <td>65.082981</td>\n      <td>97.624471</td>\n      <td>0.0</td>\n      <td>0.666667</td>\n    </tr>\n    <tr>\n      <th>Valverde del Camino</th>\n      <td>269.0</td>\n      <td>10.0</td>\n      <td>15.0</td>\n      <td>12820.0</td>\n      <td>78.003120</td>\n      <td>117.004680</td>\n      <td>0.0</td>\n      <td>0.666667</td>\n    </tr>\n    <tr>\n      <th>Gibraleón</th>\n      <td>347.0</td>\n      <td>12.0</td>\n      <td>17.0</td>\n      <td>12607.0</td>\n      <td>95.185215</td>\n      <td>134.845721</td>\n      <td>7.0</td>\n      <td>0.705882</td>\n    </tr>\n    <tr>\n      <th>Aracena</th>\n      <td>285.0</td>\n      <td>5.0</td>\n      <td>7.0</td>\n      <td>8107.0</td>\n      <td>61.675096</td>\n      <td>86.345134</td>\n      <td>0.0</td>\n      <td>0.714286</td>\n    </tr>\n    <tr>\n      <th>San Bartolomé de la Torre</th>\n      <td>41.0</td>\n      <td>14.0</td>\n      <td>18.0</td>\n      <td>3736.0</td>\n      <td>374.732334</td>\n      <td>481.798715</td>\n      <td>1.0</td>\n      <td>0.777778</td>\n    </tr>\n    <tr>\n      <th>Granada de Río-Tinto (La)</th>\n      <td>1.0</td>\n      <td>1.0</td>\n      <td>1.0</td>\n      <td>239.0</td>\n      <td>418.410042</td>\n      <td>418.410042</td>\n      <td>0.0</td>\n      <td>1.000000</td>\n    </tr>\n    <tr>\n      <th>Campillo (El)</th>\n      <td>53.0</td>\n      <td>1.0</td>\n      <td>1.0</td>\n      <td>2023.0</td>\n      <td>49.431537</td>\n      <td>49.431537</td>\n      <td>0.0</td>\n      <td>1.000000</td>\n    </tr>\n    <tr>\n      <th>Zalamea la Real</th>\n      <td>46.0</td>\n      <td>4.0</td>\n      <td>4.0</td>\n      <td>3068.0</td>\n      <td>130.378096</td>\n      <td>130.378096</td>\n      <td>2.0</td>\n      <td>1.000000</td>\n    </tr>\n    <tr>\n      <th>Jabugo</th>\n      <td>35.0</td>\n      <td>1.0</td>\n      <td>1.0</td>\n      <td>2250.0</td>\n      <td>44.444444</td>\n      <td>44.444444</td>\n      <td>0.0</td>\n      <td>1.000000</td>\n    </tr>\n    <tr>\n      <th>Santa Ana la Real</th>\n      <td>3.0</td>\n      <td>2.0</td>\n      <td>2.0</td>\n      <td>476.0</td>\n      <td>420.168067</td>\n      <td>420.168067</td>\n      <td>0.0</td>\n      <td>1.000000</td>\n    </tr>\n    <tr>\n      <th>Zarza-Perrunal (La)</th>\n      <td>13.0</td>\n      <td>1.0</td>\n      <td>1.0</td>\n      <td>1267.0</td>\n      <td>78.926598</td>\n      <td>78.926598</td>\n      <td>0.0</td>\n      <td>1.000000</td>\n    </tr>\n  </tbody>\n</table>\n</div>"
     },
     "metadata": {},
     "execution_count": 18
    }
   ],
   "source": [
    "# Peso de la tasa de la última semana en relación con la tasa a 14 días \n",
    "# Mejor cuanto menor. Valor 1 significa que no había casos antes de 7 días.\n",
    "tabla['7/14'] = tabla['tasa7'] / tabla['tasa14']\n",
    "tabla.fillna(0).sort_values('7/14', ascending=True)"
   ]
  },
  {
   "cell_type": "code",
   "execution_count": null,
   "metadata": {},
   "outputs": [],
   "source": []
  }
 ]
}