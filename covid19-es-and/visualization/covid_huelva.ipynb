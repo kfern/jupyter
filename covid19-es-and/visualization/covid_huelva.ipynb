{
 "metadata": {
  "language_info": {
   "codemirror_mode": {
    "name": "ipython",
    "version": 3
   },
   "file_extension": ".py",
   "mimetype": "text/x-python",
   "name": "python",
   "nbconvert_exporter": "python",
   "pygments_lexer": "ipython3",
   "version": "3.9.5"
  },
  "orig_nbformat": 2,
  "kernelspec": {
   "name": "python3",
   "display_name": "Python 3.9.5 64-bit"
  },
  "interpreter": {
   "hash": "31f2aee4e71d21fbe5cf8b01ff0e069b9275f58929596ceb00d14d90e3e16cd6"
  }
 },
 "nbformat": 4,
 "nbformat_minor": 2,
 "cells": [
  {
   "cell_type": "code",
   "execution_count": 1,
   "metadata": {},
   "outputs": [],
   "source": [
    "import pandas as pd\n",
    "pd.set_option('display.max_rows', None) # Print all rows"
   ]
  },
  {
   "cell_type": "code",
   "execution_count": 2,
   "metadata": {},
   "outputs": [],
   "source": [
    "# FIX SSL: CERTIFICATE_VERIFY_FAILED with Python3\n",
    "# https://stackoverflow.com/a/49174340\n",
    "import ssl\n",
    "\n",
    "ssl._create_default_https_context = ssl._create_unverified_context"
   ]
  },
  {
   "cell_type": "code",
   "execution_count": 3,
   "metadata": {},
   "outputs": [],
   "source": [
    "url = 'https://www.juntadeandalucia.es/institutodeestadisticaycartografia/badea/stpivot/stpivot/Print?cube=013d884c-cfc5-4c21-9e78-e26225682afd&type=3&foto=si&ejecutaDesde=&codConsulta=38668&consTipoVisua=JP'\n",
    "fields = ['Lugar de residencia', 'Medida', 'Valor']\n",
    "df = pd.read_csv(url, delimiter=';', usecols=fields, decimal=',')"
   ]
  },
  {
   "cell_type": "code",
   "execution_count": 4,
   "metadata": {},
   "outputs": [
    {
     "output_type": "execute_result",
     "data": {
      "text/plain": [
       "  Lugar de residencia                    Medida              Valor\n",
       "0              Huelva                 Población             513170\n",
       "1              Huelva          Confirmados PDIA              33878\n",
       "2              Huelva  Confirmados PDIA 14 días                858\n",
       "3              Huelva         Tasa PDIA 14 días  167,1960558879124\n",
       "4              Huelva   Confirmados PDIA 7 días                408\n",
       "5              Huelva        Total Confirmados               34063\n",
       "6              Huelva                   Curados              32242\n",
       "7              Huelva                Fallecidos                395"
      ],
      "text/html": "<div>\n<style scoped>\n    .dataframe tbody tr th:only-of-type {\n        vertical-align: middle;\n    }\n\n    .dataframe tbody tr th {\n        vertical-align: top;\n    }\n\n    .dataframe thead th {\n        text-align: right;\n    }\n</style>\n<table border=\"1\" class=\"dataframe\">\n  <thead>\n    <tr style=\"text-align: right;\">\n      <th></th>\n      <th>Lugar de residencia</th>\n      <th>Medida</th>\n      <th>Valor</th>\n    </tr>\n  </thead>\n  <tbody>\n    <tr>\n      <th>0</th>\n      <td>Huelva</td>\n      <td>Población</td>\n      <td>513170</td>\n    </tr>\n    <tr>\n      <th>1</th>\n      <td>Huelva</td>\n      <td>Confirmados PDIA</td>\n      <td>33878</td>\n    </tr>\n    <tr>\n      <th>2</th>\n      <td>Huelva</td>\n      <td>Confirmados PDIA 14 días</td>\n      <td>858</td>\n    </tr>\n    <tr>\n      <th>3</th>\n      <td>Huelva</td>\n      <td>Tasa PDIA 14 días</td>\n      <td>167,1960558879124</td>\n    </tr>\n    <tr>\n      <th>4</th>\n      <td>Huelva</td>\n      <td>Confirmados PDIA 7 días</td>\n      <td>408</td>\n    </tr>\n    <tr>\n      <th>5</th>\n      <td>Huelva</td>\n      <td>Total Confirmados</td>\n      <td>34063</td>\n    </tr>\n    <tr>\n      <th>6</th>\n      <td>Huelva</td>\n      <td>Curados</td>\n      <td>32242</td>\n    </tr>\n    <tr>\n      <th>7</th>\n      <td>Huelva</td>\n      <td>Fallecidos</td>\n      <td>395</td>\n    </tr>\n  </tbody>\n</table>\n</div>"
     },
     "metadata": {},
     "execution_count": 4
    }
   ],
   "source": [
    "df[df['Lugar de residencia'] == 'Huelva']"
   ]
  },
  {
   "cell_type": "code",
   "execution_count": 5,
   "metadata": {},
   "outputs": [],
   "source": [
    "df['Valor'] = pd.to_numeric(df['Valor'],errors='coerce')"
   ]
  },
  {
   "cell_type": "code",
   "execution_count": 6,
   "metadata": {},
   "outputs": [],
   "source": [
    "dfAnterior = pd.read_csv('covid_huelva.csv', index_col='Lugar de residencia')"
   ]
  },
  {
   "cell_type": "code",
   "execution_count": 7,
   "metadata": {
    "tags": []
   },
   "outputs": [
    {
     "output_type": "stream",
     "name": "stdout",
     "text": [
      "Confirmados PCR en la provincia de Huelva:  33878.0\n",
      "/tmp/ipykernel_65480/1396922249.py:2: UserWarning: Boolean Series key will be reindexed to match DataFrame index.\n",
      "  p = df[df['Lugar de residencia'] == 'Huelva'][df['Medida'] == 'Confirmados PDIA']['Valor'].values[0]\n"
     ]
    }
   ],
   "source": [
    "# Confirmados PCR provincia Huelva\n",
    "p = df[df['Lugar de residencia'] == 'Huelva'][df['Medida'] == 'Confirmados PDIA']['Valor'].values[0]\n",
    "print('Confirmados PCR en la provincia de Huelva: ', p)"
   ]
  },
  {
   "cell_type": "code",
   "execution_count": 8,
   "metadata": {
    "tags": []
   },
   "outputs": [
    {
     "output_type": "stream",
     "name": "stdout",
     "text": [
      "Confirmados PCR en Huelva capital:  9261.0\n",
      "/tmp/ipykernel_65480/2509482988.py:2: UserWarning: Boolean Series key will be reindexed to match DataFrame index.\n",
      "  c = df[df['Lugar de residencia'] == 'Huelva (capital)'][df['Medida'] == 'Confirmados PDIA']['Valor'].values[0]\n"
     ]
    }
   ],
   "source": [
    "# Confirmados PCR Huelva capitalpd\n",
    "c = df[df['Lugar de residencia'] == 'Huelva (capital)'][df['Medida'] == 'Confirmados PDIA']['Valor'].values[0]\n",
    "print('Confirmados PCR en Huelva capital: ', c)"
   ]
  },
  {
   "cell_type": "code",
   "execution_count": 9,
   "metadata": {
    "tags": []
   },
   "outputs": [
    {
     "output_type": "stream",
     "name": "stderr",
     "text": [
      "/tmp/ipykernel_65480/2690025379.py:1: UserWarning: Boolean Series key will be reindexed to match DataFrame index.\n  c7 = df[df['Lugar de residencia'] == 'Huelva (capital)'][df['Medida'] == 'Confirmados PDIA 7 días']['Valor'].values[0]\n/tmp/ipykernel_65480/2690025379.py:2: UserWarning: Boolean Series key will be reindexed to match DataFrame index.\n  c14 = df[df['Lugar de residencia'] == 'Huelva (capital)'][df['Medida'] == 'Confirmados PDIA 14 días']['Valor'].values[0]\n/tmp/ipykernel_65480/2690025379.py:3: UserWarning: Boolean Series key will be reindexed to match DataFrame index.\n  p = df[df['Lugar de residencia'] == 'Huelva (capital)'][df['Medida'] == 'Población']['Valor'].values[0]\n"
     ]
    }
   ],
   "source": [
    "c7 = df[df['Lugar de residencia'] == 'Huelva (capital)'][df['Medida'] == 'Confirmados PDIA 7 días']['Valor'].values[0]\n",
    "c14 = df[df['Lugar de residencia'] == 'Huelva (capital)'][df['Medida'] == 'Confirmados PDIA 14 días']['Valor'].values[0]\n",
    "p = df[df['Lugar de residencia'] == 'Huelva (capital)'][df['Medida'] == 'Población']['Valor'].values[0]"
   ]
  },
  {
   "cell_type": "code",
   "execution_count": 10,
   "metadata": {
    "tags": []
   },
   "outputs": [
    {
     "output_type": "stream",
     "name": "stdout",
     "text": [
      "Huelva (capital)\n\nUn positivo PCR cada 1514 personas en los últimos 7 días \n\nUn positivo PCR cada 631 personas en los últimos 14 días\n"
     ]
    }
   ],
   "source": [
    "print('Huelva (capital)\\n')\n",
    "#print('Confirmados PCR 7 días x 1,000 habitantes: ', f\"{c7/(p/1000):.5f}\")\n",
    "print('Un positivo PCR cada', f\"{p/c7:.0f}\", 'personas en los últimos 7 días', '\\n')\n",
    "#print('Confirmados PCR 14 días x 1,000 habitantes: ', f\"{c14/(p/1000):.5f}\")\n",
    "print('Un positivo PCR cada', f\"{p/c14:.0f}\", 'personas en los últimos 14 días')"
   ]
  },
  {
   "cell_type": "code",
   "execution_count": 11,
   "metadata": {},
   "outputs": [],
   "source": [
    "filtro = ((df['Medida'] == 'Confirmados PDIA')| (df['Medida'] == 'Confirmados PDIA 7 días') | (df['Medida'] == 'Población' ) | (df['Medida'] == 'Confirmados PDIA 14 días')) & (df['Valor'] > 0)\n",
    "tabla = pd.pivot_table(df.loc[filtro], values='Valor', index='Lugar de residencia', columns='Medida').dropna()"
   ]
  },
  {
   "cell_type": "code",
   "execution_count": 12,
   "metadata": {},
   "outputs": [],
   "source": [
    "# Reorder columns\n",
    "tabla = tabla[['Confirmados PDIA', 'Confirmados PDIA 7 días', 'Confirmados PDIA 14 días', 'Población']]"
   ]
  },
  {
   "cell_type": "code",
   "execution_count": 13,
   "metadata": {},
   "outputs": [],
   "source": [
    "tabla['tasa7'] = tabla['Confirmados PDIA 7 días']/tabla['Población']*100000\n",
    "tabla['tasa14'] = tabla['Confirmados PDIA 14 días']/tabla['Población']*100000"
   ]
  },
  {
   "cell_type": "code",
   "execution_count": 14,
   "metadata": {},
   "outputs": [],
   "source": [
    "tabla['Diferencia PDIA'] = tabla['Confirmados PDIA'] - dfAnterior['Confirmados PDIA']"
   ]
  },
  {
   "cell_type": "code",
   "execution_count": 15,
   "metadata": {},
   "outputs": [
    {
     "output_type": "execute_result",
     "data": {
      "text/plain": [
       "Medida                             Confirmados PDIA  Confirmados PDIA 7 días  \\\n",
       "Lugar de residencia                                                            \n",
       "Huelva                                      33878.0                    408.0   \n",
       "Huelva-Costa                                19555.0                    260.0   \n",
       "Condado-Campiña                             10996.0                    119.0   \n",
       "Huelva (capital)                             9261.0                     95.0   \n",
       "Isla Cristina                                2246.0                     49.0   \n",
       "Sierra de Huelva-Andévalo Central            2968.0                     24.0   \n",
       "Almonte                                      1940.0                     21.0   \n",
       "Ayamonte                                     1387.0                     24.0   \n",
       "Gibraleón                                     670.0                     14.0   \n",
       "Santa Bárbara de Casa                          29.0                     13.0   \n",
       "Lepe                                         2209.0                     27.0   \n",
       "Aljaraque                                    1190.0                      9.0   \n",
       "Punta Umbría                                  868.0                      9.0   \n",
       "Bollullos Par del Condado                    1053.0                     15.0   \n",
       "Alosno                                        201.0                     13.0   \n",
       "Cartaya                                      1425.0                     13.0   \n",
       "Bonares                                       313.0                      9.0   \n",
       "Valverde del Camino                           677.0                     12.0   \n",
       "Trigueros                                     339.0                      4.0   \n",
       "Cerro de Andévalo (El)                        160.0                      4.0   \n",
       "Palos de la Frontera                          739.0                      7.0   \n",
       "Moguer                                       1434.0                     19.0   \n",
       "Lucena del Puerto                             274.0                      7.0   \n",
       "San Juan del Puerto                           597.0                      4.0   \n",
       "Zarza-Perrunal (La)                            29.0                      2.0   \n",
       "Puebla de Guzmán                              144.0                      3.0   \n",
       "Rociana del Condado                           579.0                      1.0   \n",
       "San Bartolomé de la Torre                     309.0                      1.0   \n",
       "Aracena                                       544.0                      3.0   \n",
       "Beas                                          234.0                      2.0   \n",
       "Villarrasa                                    182.0                      2.0   \n",
       "Niebla                                        256.0                      7.0   \n",
       "\n",
       "Medida                             Confirmados PDIA 14 días  Población  \\\n",
       "Lugar de residencia                                                      \n",
       "Huelva                                                858.0   513170.0   \n",
       "Huelva-Costa                                          531.0   289548.0   \n",
       "Condado-Campiña                                       270.0   156231.0   \n",
       "Huelva (capital)                                      228.0   143837.0   \n",
       "Isla Cristina                                          67.0    21393.0   \n",
       "Sierra de Huelva-Andévalo Central                      51.0    67391.0   \n",
       "Almonte                                                35.0    24507.0   \n",
       "Ayamonte                                               53.0    21104.0   \n",
       "Gibraleón                                              21.0    12737.0   \n",
       "Santa Bárbara de Casa                                  13.0     1043.0   \n",
       "Lepe                                                   43.0    27880.0   \n",
       "Aljaraque                                              29.0    21474.0   \n",
       "Punta Umbría                                           20.0    15355.0   \n",
       "Bollullos Par del Condado                              22.0    14387.0   \n",
       "Alosno                                                 21.0     3933.0   \n",
       "Cartaya                                                44.0    20083.0   \n",
       "Bonares                                                20.0     6060.0   \n",
       "Valverde del Camino                                    20.0    12750.0   \n",
       "Trigueros                                               8.0     7862.0   \n",
       "Cerro de Andévalo (El)                                  9.0     2327.0   \n",
       "Palos de la Frontera                                   32.0    11742.0   \n",
       "Moguer                                                 53.0    21867.0   \n",
       "Lucena del Puerto                                       7.0     3261.0   \n",
       "San Juan del Puerto                                    28.0     9411.0   \n",
       "Zarza-Perrunal (La)                                     3.0     1253.0   \n",
       "Puebla de Guzmán                                        3.0     3092.0   \n",
       "Rociana del Condado                                     8.0     7939.0   \n",
       "San Bartolomé de la Torre                               2.0     3761.0   \n",
       "Aracena                                                 5.0     8255.0   \n",
       "Beas                                                    2.0     4341.0   \n",
       "Villarrasa                                              2.0     2211.0   \n",
       "Niebla                                                  9.0     4116.0   \n",
       "\n",
       "Medida                                   tasa7       tasa14  Diferencia PDIA  \n",
       "Lugar de residencia                                                           \n",
       "Huelva                               79.505817   167.196056            170.0  \n",
       "Huelva-Costa                         89.795129   183.389283            102.0  \n",
       "Condado-Campiña                      76.169262   172.821015             53.0  \n",
       "Huelva (capital)                     66.046984   158.512761             32.0  \n",
       "Isla Cristina                       229.046884   313.186556             23.0  \n",
       "Sierra de Huelva-Andévalo Central    35.613064    75.677761             10.0  \n",
       "Almonte                              85.689803   142.816338             10.0  \n",
       "Ayamonte                            113.722517   251.137225              9.0  \n",
       "Gibraleón                           109.915993   164.873989              8.0  \n",
       "Santa Bárbara de Casa              1246.404602  1246.404602              8.0  \n",
       "Lepe                                 96.843615   154.232425              8.0  \n",
       "Aljaraque                            41.911148   135.047034              7.0  \n",
       "Punta Umbría                         58.612830   130.250733              5.0  \n",
       "Bollullos Par del Condado           104.260791   152.915827              5.0  \n",
       "Alosno                              330.536486   533.943555              5.0  \n",
       "Cartaya                              64.731365   219.090773              4.0  \n",
       "Bonares                             148.514851   330.033003              4.0  \n",
       "Valverde del Camino                  94.117647   156.862745              4.0  \n",
       "Trigueros                            50.877639   101.755279              4.0  \n",
       "Cerro de Andévalo (El)              171.895144   386.764074              3.0  \n",
       "Palos de la Frontera                 59.615057   272.525975              3.0  \n",
       "Moguer                               86.888919   242.374354              3.0  \n",
       "Lucena del Puerto                   214.658080   214.658080              3.0  \n",
       "San Juan del Puerto                  42.503453   297.524174              2.0  \n",
       "Zarza-Perrunal (La)                 159.616919   239.425379              2.0  \n",
       "Puebla de Guzmán                     97.024580    97.024580              1.0  \n",
       "Rociana del Condado                  12.596045   100.768359              1.0  \n",
       "San Bartolomé de la Torre            26.588673    53.177346              1.0  \n",
       "Aracena                              36.341611    60.569352              1.0  \n",
       "Beas                                 46.072334    46.072334              1.0  \n",
       "Villarrasa                           90.456807    90.456807              1.0  \n",
       "Niebla                              170.068027   218.658892              NaN  "
      ],
      "text/html": "<div>\n<style scoped>\n    .dataframe tbody tr th:only-of-type {\n        vertical-align: middle;\n    }\n\n    .dataframe tbody tr th {\n        vertical-align: top;\n    }\n\n    .dataframe thead th {\n        text-align: right;\n    }\n</style>\n<table border=\"1\" class=\"dataframe\">\n  <thead>\n    <tr style=\"text-align: right;\">\n      <th>Medida</th>\n      <th>Confirmados PDIA</th>\n      <th>Confirmados PDIA 7 días</th>\n      <th>Confirmados PDIA 14 días</th>\n      <th>Población</th>\n      <th>tasa7</th>\n      <th>tasa14</th>\n      <th>Diferencia PDIA</th>\n    </tr>\n    <tr>\n      <th>Lugar de residencia</th>\n      <th></th>\n      <th></th>\n      <th></th>\n      <th></th>\n      <th></th>\n      <th></th>\n      <th></th>\n    </tr>\n  </thead>\n  <tbody>\n    <tr>\n      <th>Huelva</th>\n      <td>33878.0</td>\n      <td>408.0</td>\n      <td>858.0</td>\n      <td>513170.0</td>\n      <td>79.505817</td>\n      <td>167.196056</td>\n      <td>170.0</td>\n    </tr>\n    <tr>\n      <th>Huelva-Costa</th>\n      <td>19555.0</td>\n      <td>260.0</td>\n      <td>531.0</td>\n      <td>289548.0</td>\n      <td>89.795129</td>\n      <td>183.389283</td>\n      <td>102.0</td>\n    </tr>\n    <tr>\n      <th>Condado-Campiña</th>\n      <td>10996.0</td>\n      <td>119.0</td>\n      <td>270.0</td>\n      <td>156231.0</td>\n      <td>76.169262</td>\n      <td>172.821015</td>\n      <td>53.0</td>\n    </tr>\n    <tr>\n      <th>Huelva (capital)</th>\n      <td>9261.0</td>\n      <td>95.0</td>\n      <td>228.0</td>\n      <td>143837.0</td>\n      <td>66.046984</td>\n      <td>158.512761</td>\n      <td>32.0</td>\n    </tr>\n    <tr>\n      <th>Isla Cristina</th>\n      <td>2246.0</td>\n      <td>49.0</td>\n      <td>67.0</td>\n      <td>21393.0</td>\n      <td>229.046884</td>\n      <td>313.186556</td>\n      <td>23.0</td>\n    </tr>\n    <tr>\n      <th>Sierra de Huelva-Andévalo Central</th>\n      <td>2968.0</td>\n      <td>24.0</td>\n      <td>51.0</td>\n      <td>67391.0</td>\n      <td>35.613064</td>\n      <td>75.677761</td>\n      <td>10.0</td>\n    </tr>\n    <tr>\n      <th>Almonte</th>\n      <td>1940.0</td>\n      <td>21.0</td>\n      <td>35.0</td>\n      <td>24507.0</td>\n      <td>85.689803</td>\n      <td>142.816338</td>\n      <td>10.0</td>\n    </tr>\n    <tr>\n      <th>Ayamonte</th>\n      <td>1387.0</td>\n      <td>24.0</td>\n      <td>53.0</td>\n      <td>21104.0</td>\n      <td>113.722517</td>\n      <td>251.137225</td>\n      <td>9.0</td>\n    </tr>\n    <tr>\n      <th>Gibraleón</th>\n      <td>670.0</td>\n      <td>14.0</td>\n      <td>21.0</td>\n      <td>12737.0</td>\n      <td>109.915993</td>\n      <td>164.873989</td>\n      <td>8.0</td>\n    </tr>\n    <tr>\n      <th>Santa Bárbara de Casa</th>\n      <td>29.0</td>\n      <td>13.0</td>\n      <td>13.0</td>\n      <td>1043.0</td>\n      <td>1246.404602</td>\n      <td>1246.404602</td>\n      <td>8.0</td>\n    </tr>\n    <tr>\n      <th>Lepe</th>\n      <td>2209.0</td>\n      <td>27.0</td>\n      <td>43.0</td>\n      <td>27880.0</td>\n      <td>96.843615</td>\n      <td>154.232425</td>\n      <td>8.0</td>\n    </tr>\n    <tr>\n      <th>Aljaraque</th>\n      <td>1190.0</td>\n      <td>9.0</td>\n      <td>29.0</td>\n      <td>21474.0</td>\n      <td>41.911148</td>\n      <td>135.047034</td>\n      <td>7.0</td>\n    </tr>\n    <tr>\n      <th>Punta Umbría</th>\n      <td>868.0</td>\n      <td>9.0</td>\n      <td>20.0</td>\n      <td>15355.0</td>\n      <td>58.612830</td>\n      <td>130.250733</td>\n      <td>5.0</td>\n    </tr>\n    <tr>\n      <th>Bollullos Par del Condado</th>\n      <td>1053.0</td>\n      <td>15.0</td>\n      <td>22.0</td>\n      <td>14387.0</td>\n      <td>104.260791</td>\n      <td>152.915827</td>\n      <td>5.0</td>\n    </tr>\n    <tr>\n      <th>Alosno</th>\n      <td>201.0</td>\n      <td>13.0</td>\n      <td>21.0</td>\n      <td>3933.0</td>\n      <td>330.536486</td>\n      <td>533.943555</td>\n      <td>5.0</td>\n    </tr>\n    <tr>\n      <th>Cartaya</th>\n      <td>1425.0</td>\n      <td>13.0</td>\n      <td>44.0</td>\n      <td>20083.0</td>\n      <td>64.731365</td>\n      <td>219.090773</td>\n      <td>4.0</td>\n    </tr>\n    <tr>\n      <th>Bonares</th>\n      <td>313.0</td>\n      <td>9.0</td>\n      <td>20.0</td>\n      <td>6060.0</td>\n      <td>148.514851</td>\n      <td>330.033003</td>\n      <td>4.0</td>\n    </tr>\n    <tr>\n      <th>Valverde del Camino</th>\n      <td>677.0</td>\n      <td>12.0</td>\n      <td>20.0</td>\n      <td>12750.0</td>\n      <td>94.117647</td>\n      <td>156.862745</td>\n      <td>4.0</td>\n    </tr>\n    <tr>\n      <th>Trigueros</th>\n      <td>339.0</td>\n      <td>4.0</td>\n      <td>8.0</td>\n      <td>7862.0</td>\n      <td>50.877639</td>\n      <td>101.755279</td>\n      <td>4.0</td>\n    </tr>\n    <tr>\n      <th>Cerro de Andévalo (El)</th>\n      <td>160.0</td>\n      <td>4.0</td>\n      <td>9.0</td>\n      <td>2327.0</td>\n      <td>171.895144</td>\n      <td>386.764074</td>\n      <td>3.0</td>\n    </tr>\n    <tr>\n      <th>Palos de la Frontera</th>\n      <td>739.0</td>\n      <td>7.0</td>\n      <td>32.0</td>\n      <td>11742.0</td>\n      <td>59.615057</td>\n      <td>272.525975</td>\n      <td>3.0</td>\n    </tr>\n    <tr>\n      <th>Moguer</th>\n      <td>1434.0</td>\n      <td>19.0</td>\n      <td>53.0</td>\n      <td>21867.0</td>\n      <td>86.888919</td>\n      <td>242.374354</td>\n      <td>3.0</td>\n    </tr>\n    <tr>\n      <th>Lucena del Puerto</th>\n      <td>274.0</td>\n      <td>7.0</td>\n      <td>7.0</td>\n      <td>3261.0</td>\n      <td>214.658080</td>\n      <td>214.658080</td>\n      <td>3.0</td>\n    </tr>\n    <tr>\n      <th>San Juan del Puerto</th>\n      <td>597.0</td>\n      <td>4.0</td>\n      <td>28.0</td>\n      <td>9411.0</td>\n      <td>42.503453</td>\n      <td>297.524174</td>\n      <td>2.0</td>\n    </tr>\n    <tr>\n      <th>Zarza-Perrunal (La)</th>\n      <td>29.0</td>\n      <td>2.0</td>\n      <td>3.0</td>\n      <td>1253.0</td>\n      <td>159.616919</td>\n      <td>239.425379</td>\n      <td>2.0</td>\n    </tr>\n    <tr>\n      <th>Puebla de Guzmán</th>\n      <td>144.0</td>\n      <td>3.0</td>\n      <td>3.0</td>\n      <td>3092.0</td>\n      <td>97.024580</td>\n      <td>97.024580</td>\n      <td>1.0</td>\n    </tr>\n    <tr>\n      <th>Rociana del Condado</th>\n      <td>579.0</td>\n      <td>1.0</td>\n      <td>8.0</td>\n      <td>7939.0</td>\n      <td>12.596045</td>\n      <td>100.768359</td>\n      <td>1.0</td>\n    </tr>\n    <tr>\n      <th>San Bartolomé de la Torre</th>\n      <td>309.0</td>\n      <td>1.0</td>\n      <td>2.0</td>\n      <td>3761.0</td>\n      <td>26.588673</td>\n      <td>53.177346</td>\n      <td>1.0</td>\n    </tr>\n    <tr>\n      <th>Aracena</th>\n      <td>544.0</td>\n      <td>3.0</td>\n      <td>5.0</td>\n      <td>8255.0</td>\n      <td>36.341611</td>\n      <td>60.569352</td>\n      <td>1.0</td>\n    </tr>\n    <tr>\n      <th>Beas</th>\n      <td>234.0</td>\n      <td>2.0</td>\n      <td>2.0</td>\n      <td>4341.0</td>\n      <td>46.072334</td>\n      <td>46.072334</td>\n      <td>1.0</td>\n    </tr>\n    <tr>\n      <th>Villarrasa</th>\n      <td>182.0</td>\n      <td>2.0</td>\n      <td>2.0</td>\n      <td>2211.0</td>\n      <td>90.456807</td>\n      <td>90.456807</td>\n      <td>1.0</td>\n    </tr>\n    <tr>\n      <th>Niebla</th>\n      <td>256.0</td>\n      <td>7.0</td>\n      <td>9.0</td>\n      <td>4116.0</td>\n      <td>170.068027</td>\n      <td>218.658892</td>\n      <td>NaN</td>\n    </tr>\n  </tbody>\n</table>\n</div>"
     },
     "metadata": {},
     "execution_count": 15
    }
   ],
   "source": [
    "# Nuevos casos desde la última captura\n",
    "tabla[tabla['Diferencia PDIA'] != 0].sort_values('Diferencia PDIA', ascending=False)"
   ]
  },
  {
   "cell_type": "code",
   "execution_count": 16,
   "metadata": {},
   "outputs": [],
   "source": [
    "if tabla[tabla['Diferencia PDIA'] != 0]['Diferencia PDIA'].sum() != 0:\n",
    "  # Save to csv\n",
    "  tabla.to_csv('covid_huelva.csv', encoding='utf-8', header=True, index=True)  "
   ]
  },
  {
   "cell_type": "code",
   "execution_count": 17,
   "metadata": {},
   "outputs": [
    {
     "output_type": "execute_result",
     "data": {
      "text/plain": [
       "Medida                             Confirmados PDIA  Confirmados PDIA 7 días  \\\n",
       "Lugar de residencia                                                            \n",
       "Santa Bárbara de Casa                          29.0                     13.0   \n",
       "Alosno                                        201.0                     13.0   \n",
       "Cerro de Andévalo (El)                        160.0                      4.0   \n",
       "Paymogo                                        79.0                      1.0   \n",
       "Bonares                                       313.0                      9.0   \n",
       "Isla Cristina                                2246.0                     49.0   \n",
       "San Juan del Puerto                           597.0                      4.0   \n",
       "Palos de la Frontera                          739.0                      7.0   \n",
       "Ayamonte                                     1387.0                     24.0   \n",
       "Moguer                                       1434.0                     19.0   \n",
       "Zarza-Perrunal (La)                            29.0                      2.0   \n",
       "Cartaya                                      1425.0                     13.0   \n",
       "Niebla                                        256.0                      7.0   \n",
       "Lucena del Puerto                             274.0                      7.0   \n",
       "Huelva-Costa                                19555.0                    260.0   \n",
       "Rosal de la Frontera                           34.0                      1.0   \n",
       "Villablanca                                   196.0                      4.0   \n",
       "Condado-Campiña                             10996.0                    119.0   \n",
       "Huelva                                      33878.0                    408.0   \n",
       "Gibraleón                                     670.0                     14.0   \n",
       "Huelva (capital)                             9261.0                     95.0   \n",
       "Valverde del Camino                           677.0                     12.0   \n",
       "Lepe                                         2209.0                     27.0   \n",
       "Bollullos Par del Condado                    1053.0                     15.0   \n",
       "Almonte                                      1940.0                     21.0   \n",
       "Aljaraque                                    1190.0                      9.0   \n",
       "Punta Umbría                                  868.0                      9.0   \n",
       "Palma del Condado (La)                       1202.0                      5.0   \n",
       "Trigueros                                     339.0                      4.0   \n",
       "Rociana del Condado                           579.0                      1.0   \n",
       "Puebla de Guzmán                              144.0                      3.0   \n",
       "Villarrasa                                    182.0                      2.0   \n",
       "Sierra de Huelva-Andévalo Central            2968.0                     24.0   \n",
       "Aracena                                       544.0                      3.0   \n",
       "San Bartolomé de la Torre                     309.0                      1.0   \n",
       "Beas                                          234.0                      2.0   \n",
       "Cortegana                                     217.0                      1.0   \n",
       "Nerva                                         181.0                      1.0   \n",
       "Paterna del Campo                             130.0                      1.0   \n",
       "\n",
       "Medida                             Confirmados PDIA 14 días  Población  \\\n",
       "Lugar de residencia                                                      \n",
       "Santa Bárbara de Casa                                  13.0     1043.0   \n",
       "Alosno                                                 21.0     3933.0   \n",
       "Cerro de Andévalo (El)                                  9.0     2327.0   \n",
       "Paymogo                                                 4.0     1162.0   \n",
       "Bonares                                                20.0     6060.0   \n",
       "Isla Cristina                                          67.0    21393.0   \n",
       "San Juan del Puerto                                    28.0     9411.0   \n",
       "Palos de la Frontera                                   32.0    11742.0   \n",
       "Ayamonte                                               53.0    21104.0   \n",
       "Moguer                                                 53.0    21867.0   \n",
       "Zarza-Perrunal (La)                                     3.0     1253.0   \n",
       "Cartaya                                                44.0    20083.0   \n",
       "Niebla                                                  9.0     4116.0   \n",
       "Lucena del Puerto                                       7.0     3261.0   \n",
       "Huelva-Costa                                          531.0   289548.0   \n",
       "Rosal de la Frontera                                    3.0     1697.0   \n",
       "Villablanca                                             5.0     2885.0   \n",
       "Condado-Campiña                                       270.0   156231.0   \n",
       "Huelva                                                858.0   513170.0   \n",
       "Gibraleón                                              21.0    12737.0   \n",
       "Huelva (capital)                                      228.0   143837.0   \n",
       "Valverde del Camino                                    20.0    12750.0   \n",
       "Lepe                                                   43.0    27880.0   \n",
       "Bollullos Par del Condado                              22.0    14387.0   \n",
       "Almonte                                                35.0    24507.0   \n",
       "Aljaraque                                              29.0    21474.0   \n",
       "Punta Umbría                                           20.0    15355.0   \n",
       "Palma del Condado (La)                                 14.0    10801.0   \n",
       "Trigueros                                               8.0     7862.0   \n",
       "Rociana del Condado                                     8.0     7939.0   \n",
       "Puebla de Guzmán                                        3.0     3092.0   \n",
       "Villarrasa                                              2.0     2211.0   \n",
       "Sierra de Huelva-Andévalo Central                      51.0    67391.0   \n",
       "Aracena                                                 5.0     8255.0   \n",
       "San Bartolomé de la Torre                               2.0     3761.0   \n",
       "Beas                                                    2.0     4341.0   \n",
       "Cortegana                                               2.0     4602.0   \n",
       "Nerva                                                   2.0     5169.0   \n",
       "Paterna del Campo                                       1.0     3457.0   \n",
       "\n",
       "Medida                                   tasa7       tasa14  Diferencia PDIA  \n",
       "Lugar de residencia                                                           \n",
       "Santa Bárbara de Casa              1246.404602  1246.404602              8.0  \n",
       "Alosno                              330.536486   533.943555              5.0  \n",
       "Cerro de Andévalo (El)              171.895144   386.764074              3.0  \n",
       "Paymogo                              86.058520   344.234079              0.0  \n",
       "Bonares                             148.514851   330.033003              4.0  \n",
       "Isla Cristina                       229.046884   313.186556             23.0  \n",
       "San Juan del Puerto                  42.503453   297.524174              2.0  \n",
       "Palos de la Frontera                 59.615057   272.525975              3.0  \n",
       "Ayamonte                            113.722517   251.137225              9.0  \n",
       "Moguer                               86.888919   242.374354              3.0  \n",
       "Zarza-Perrunal (La)                 159.616919   239.425379              2.0  \n",
       "Cartaya                              64.731365   219.090773              4.0  \n",
       "Niebla                              170.068027   218.658892              NaN  \n",
       "Lucena del Puerto                   214.658080   214.658080              3.0  \n",
       "Huelva-Costa                         89.795129   183.389283            102.0  \n",
       "Rosal de la Frontera                 58.927519   176.782557              0.0  \n",
       "Villablanca                         138.648180   173.310225              0.0  \n",
       "Condado-Campiña                      76.169262   172.821015             53.0  \n",
       "Huelva                               79.505817   167.196056            170.0  \n",
       "Gibraleón                           109.915993   164.873989              8.0  \n",
       "Huelva (capital)                     66.046984   158.512761             32.0  \n",
       "Valverde del Camino                  94.117647   156.862745              4.0  \n",
       "Lepe                                 96.843615   154.232425              8.0  \n",
       "Bollullos Par del Condado           104.260791   152.915827              5.0  \n",
       "Almonte                              85.689803   142.816338             10.0  \n",
       "Aljaraque                            41.911148   135.047034              7.0  \n",
       "Punta Umbría                         58.612830   130.250733              5.0  \n",
       "Palma del Condado (La)               46.292010   129.617628              0.0  \n",
       "Trigueros                            50.877639   101.755279              4.0  \n",
       "Rociana del Condado                  12.596045   100.768359              1.0  \n",
       "Puebla de Guzmán                     97.024580    97.024580              1.0  \n",
       "Villarrasa                           90.456807    90.456807              1.0  \n",
       "Sierra de Huelva-Andévalo Central    35.613064    75.677761             10.0  \n",
       "Aracena                              36.341611    60.569352              1.0  \n",
       "San Bartolomé de la Torre            26.588673    53.177346              1.0  \n",
       "Beas                                 46.072334    46.072334              1.0  \n",
       "Cortegana                            21.729683    43.459365              0.0  \n",
       "Nerva                                19.346102    38.692204              0.0  \n",
       "Paterna del Campo                    28.926815    28.926815              0.0  "
      ],
      "text/html": "<div>\n<style scoped>\n    .dataframe tbody tr th:only-of-type {\n        vertical-align: middle;\n    }\n\n    .dataframe tbody tr th {\n        vertical-align: top;\n    }\n\n    .dataframe thead th {\n        text-align: right;\n    }\n</style>\n<table border=\"1\" class=\"dataframe\">\n  <thead>\n    <tr style=\"text-align: right;\">\n      <th>Medida</th>\n      <th>Confirmados PDIA</th>\n      <th>Confirmados PDIA 7 días</th>\n      <th>Confirmados PDIA 14 días</th>\n      <th>Población</th>\n      <th>tasa7</th>\n      <th>tasa14</th>\n      <th>Diferencia PDIA</th>\n    </tr>\n    <tr>\n      <th>Lugar de residencia</th>\n      <th></th>\n      <th></th>\n      <th></th>\n      <th></th>\n      <th></th>\n      <th></th>\n      <th></th>\n    </tr>\n  </thead>\n  <tbody>\n    <tr>\n      <th>Santa Bárbara de Casa</th>\n      <td>29.0</td>\n      <td>13.0</td>\n      <td>13.0</td>\n      <td>1043.0</td>\n      <td>1246.404602</td>\n      <td>1246.404602</td>\n      <td>8.0</td>\n    </tr>\n    <tr>\n      <th>Alosno</th>\n      <td>201.0</td>\n      <td>13.0</td>\n      <td>21.0</td>\n      <td>3933.0</td>\n      <td>330.536486</td>\n      <td>533.943555</td>\n      <td>5.0</td>\n    </tr>\n    <tr>\n      <th>Cerro de Andévalo (El)</th>\n      <td>160.0</td>\n      <td>4.0</td>\n      <td>9.0</td>\n      <td>2327.0</td>\n      <td>171.895144</td>\n      <td>386.764074</td>\n      <td>3.0</td>\n    </tr>\n    <tr>\n      <th>Paymogo</th>\n      <td>79.0</td>\n      <td>1.0</td>\n      <td>4.0</td>\n      <td>1162.0</td>\n      <td>86.058520</td>\n      <td>344.234079</td>\n      <td>0.0</td>\n    </tr>\n    <tr>\n      <th>Bonares</th>\n      <td>313.0</td>\n      <td>9.0</td>\n      <td>20.0</td>\n      <td>6060.0</td>\n      <td>148.514851</td>\n      <td>330.033003</td>\n      <td>4.0</td>\n    </tr>\n    <tr>\n      <th>Isla Cristina</th>\n      <td>2246.0</td>\n      <td>49.0</td>\n      <td>67.0</td>\n      <td>21393.0</td>\n      <td>229.046884</td>\n      <td>313.186556</td>\n      <td>23.0</td>\n    </tr>\n    <tr>\n      <th>San Juan del Puerto</th>\n      <td>597.0</td>\n      <td>4.0</td>\n      <td>28.0</td>\n      <td>9411.0</td>\n      <td>42.503453</td>\n      <td>297.524174</td>\n      <td>2.0</td>\n    </tr>\n    <tr>\n      <th>Palos de la Frontera</th>\n      <td>739.0</td>\n      <td>7.0</td>\n      <td>32.0</td>\n      <td>11742.0</td>\n      <td>59.615057</td>\n      <td>272.525975</td>\n      <td>3.0</td>\n    </tr>\n    <tr>\n      <th>Ayamonte</th>\n      <td>1387.0</td>\n      <td>24.0</td>\n      <td>53.0</td>\n      <td>21104.0</td>\n      <td>113.722517</td>\n      <td>251.137225</td>\n      <td>9.0</td>\n    </tr>\n    <tr>\n      <th>Moguer</th>\n      <td>1434.0</td>\n      <td>19.0</td>\n      <td>53.0</td>\n      <td>21867.0</td>\n      <td>86.888919</td>\n      <td>242.374354</td>\n      <td>3.0</td>\n    </tr>\n    <tr>\n      <th>Zarza-Perrunal (La)</th>\n      <td>29.0</td>\n      <td>2.0</td>\n      <td>3.0</td>\n      <td>1253.0</td>\n      <td>159.616919</td>\n      <td>239.425379</td>\n      <td>2.0</td>\n    </tr>\n    <tr>\n      <th>Cartaya</th>\n      <td>1425.0</td>\n      <td>13.0</td>\n      <td>44.0</td>\n      <td>20083.0</td>\n      <td>64.731365</td>\n      <td>219.090773</td>\n      <td>4.0</td>\n    </tr>\n    <tr>\n      <th>Niebla</th>\n      <td>256.0</td>\n      <td>7.0</td>\n      <td>9.0</td>\n      <td>4116.0</td>\n      <td>170.068027</td>\n      <td>218.658892</td>\n      <td>NaN</td>\n    </tr>\n    <tr>\n      <th>Lucena del Puerto</th>\n      <td>274.0</td>\n      <td>7.0</td>\n      <td>7.0</td>\n      <td>3261.0</td>\n      <td>214.658080</td>\n      <td>214.658080</td>\n      <td>3.0</td>\n    </tr>\n    <tr>\n      <th>Huelva-Costa</th>\n      <td>19555.0</td>\n      <td>260.0</td>\n      <td>531.0</td>\n      <td>289548.0</td>\n      <td>89.795129</td>\n      <td>183.389283</td>\n      <td>102.0</td>\n    </tr>\n    <tr>\n      <th>Rosal de la Frontera</th>\n      <td>34.0</td>\n      <td>1.0</td>\n      <td>3.0</td>\n      <td>1697.0</td>\n      <td>58.927519</td>\n      <td>176.782557</td>\n      <td>0.0</td>\n    </tr>\n    <tr>\n      <th>Villablanca</th>\n      <td>196.0</td>\n      <td>4.0</td>\n      <td>5.0</td>\n      <td>2885.0</td>\n      <td>138.648180</td>\n      <td>173.310225</td>\n      <td>0.0</td>\n    </tr>\n    <tr>\n      <th>Condado-Campiña</th>\n      <td>10996.0</td>\n      <td>119.0</td>\n      <td>270.0</td>\n      <td>156231.0</td>\n      <td>76.169262</td>\n      <td>172.821015</td>\n      <td>53.0</td>\n    </tr>\n    <tr>\n      <th>Huelva</th>\n      <td>33878.0</td>\n      <td>408.0</td>\n      <td>858.0</td>\n      <td>513170.0</td>\n      <td>79.505817</td>\n      <td>167.196056</td>\n      <td>170.0</td>\n    </tr>\n    <tr>\n      <th>Gibraleón</th>\n      <td>670.0</td>\n      <td>14.0</td>\n      <td>21.0</td>\n      <td>12737.0</td>\n      <td>109.915993</td>\n      <td>164.873989</td>\n      <td>8.0</td>\n    </tr>\n    <tr>\n      <th>Huelva (capital)</th>\n      <td>9261.0</td>\n      <td>95.0</td>\n      <td>228.0</td>\n      <td>143837.0</td>\n      <td>66.046984</td>\n      <td>158.512761</td>\n      <td>32.0</td>\n    </tr>\n    <tr>\n      <th>Valverde del Camino</th>\n      <td>677.0</td>\n      <td>12.0</td>\n      <td>20.0</td>\n      <td>12750.0</td>\n      <td>94.117647</td>\n      <td>156.862745</td>\n      <td>4.0</td>\n    </tr>\n    <tr>\n      <th>Lepe</th>\n      <td>2209.0</td>\n      <td>27.0</td>\n      <td>43.0</td>\n      <td>27880.0</td>\n      <td>96.843615</td>\n      <td>154.232425</td>\n      <td>8.0</td>\n    </tr>\n    <tr>\n      <th>Bollullos Par del Condado</th>\n      <td>1053.0</td>\n      <td>15.0</td>\n      <td>22.0</td>\n      <td>14387.0</td>\n      <td>104.260791</td>\n      <td>152.915827</td>\n      <td>5.0</td>\n    </tr>\n    <tr>\n      <th>Almonte</th>\n      <td>1940.0</td>\n      <td>21.0</td>\n      <td>35.0</td>\n      <td>24507.0</td>\n      <td>85.689803</td>\n      <td>142.816338</td>\n      <td>10.0</td>\n    </tr>\n    <tr>\n      <th>Aljaraque</th>\n      <td>1190.0</td>\n      <td>9.0</td>\n      <td>29.0</td>\n      <td>21474.0</td>\n      <td>41.911148</td>\n      <td>135.047034</td>\n      <td>7.0</td>\n    </tr>\n    <tr>\n      <th>Punta Umbría</th>\n      <td>868.0</td>\n      <td>9.0</td>\n      <td>20.0</td>\n      <td>15355.0</td>\n      <td>58.612830</td>\n      <td>130.250733</td>\n      <td>5.0</td>\n    </tr>\n    <tr>\n      <th>Palma del Condado (La)</th>\n      <td>1202.0</td>\n      <td>5.0</td>\n      <td>14.0</td>\n      <td>10801.0</td>\n      <td>46.292010</td>\n      <td>129.617628</td>\n      <td>0.0</td>\n    </tr>\n    <tr>\n      <th>Trigueros</th>\n      <td>339.0</td>\n      <td>4.0</td>\n      <td>8.0</td>\n      <td>7862.0</td>\n      <td>50.877639</td>\n      <td>101.755279</td>\n      <td>4.0</td>\n    </tr>\n    <tr>\n      <th>Rociana del Condado</th>\n      <td>579.0</td>\n      <td>1.0</td>\n      <td>8.0</td>\n      <td>7939.0</td>\n      <td>12.596045</td>\n      <td>100.768359</td>\n      <td>1.0</td>\n    </tr>\n    <tr>\n      <th>Puebla de Guzmán</th>\n      <td>144.0</td>\n      <td>3.0</td>\n      <td>3.0</td>\n      <td>3092.0</td>\n      <td>97.024580</td>\n      <td>97.024580</td>\n      <td>1.0</td>\n    </tr>\n    <tr>\n      <th>Villarrasa</th>\n      <td>182.0</td>\n      <td>2.0</td>\n      <td>2.0</td>\n      <td>2211.0</td>\n      <td>90.456807</td>\n      <td>90.456807</td>\n      <td>1.0</td>\n    </tr>\n    <tr>\n      <th>Sierra de Huelva-Andévalo Central</th>\n      <td>2968.0</td>\n      <td>24.0</td>\n      <td>51.0</td>\n      <td>67391.0</td>\n      <td>35.613064</td>\n      <td>75.677761</td>\n      <td>10.0</td>\n    </tr>\n    <tr>\n      <th>Aracena</th>\n      <td>544.0</td>\n      <td>3.0</td>\n      <td>5.0</td>\n      <td>8255.0</td>\n      <td>36.341611</td>\n      <td>60.569352</td>\n      <td>1.0</td>\n    </tr>\n    <tr>\n      <th>San Bartolomé de la Torre</th>\n      <td>309.0</td>\n      <td>1.0</td>\n      <td>2.0</td>\n      <td>3761.0</td>\n      <td>26.588673</td>\n      <td>53.177346</td>\n      <td>1.0</td>\n    </tr>\n    <tr>\n      <th>Beas</th>\n      <td>234.0</td>\n      <td>2.0</td>\n      <td>2.0</td>\n      <td>4341.0</td>\n      <td>46.072334</td>\n      <td>46.072334</td>\n      <td>1.0</td>\n    </tr>\n    <tr>\n      <th>Cortegana</th>\n      <td>217.0</td>\n      <td>1.0</td>\n      <td>2.0</td>\n      <td>4602.0</td>\n      <td>21.729683</td>\n      <td>43.459365</td>\n      <td>0.0</td>\n    </tr>\n    <tr>\n      <th>Nerva</th>\n      <td>181.0</td>\n      <td>1.0</td>\n      <td>2.0</td>\n      <td>5169.0</td>\n      <td>19.346102</td>\n      <td>38.692204</td>\n      <td>0.0</td>\n    </tr>\n    <tr>\n      <th>Paterna del Campo</th>\n      <td>130.0</td>\n      <td>1.0</td>\n      <td>1.0</td>\n      <td>3457.0</td>\n      <td>28.926815</td>\n      <td>28.926815</td>\n      <td>0.0</td>\n    </tr>\n  </tbody>\n</table>\n</div>"
     },
     "metadata": {},
     "execution_count": 17
    }
   ],
   "source": [
    "tabla.sort_values('tasa14', ascending=False)"
   ]
  },
  {
   "cell_type": "code",
   "execution_count": 18,
   "metadata": {},
   "outputs": [
    {
     "output_type": "execute_result",
     "data": {
      "text/plain": [
       "Medida                             Confirmados PDIA  Confirmados PDIA 7 días  \\\n",
       "Lugar de residencia                                                            \n",
       "Rociana del Condado                           579.0                      1.0   \n",
       "San Juan del Puerto                           597.0                      4.0   \n",
       "Palos de la Frontera                          739.0                      7.0   \n",
       "Paymogo                                        79.0                      1.0   \n",
       "Cartaya                                      1425.0                     13.0   \n",
       "Aljaraque                                    1190.0                      9.0   \n",
       "Rosal de la Frontera                           34.0                      1.0   \n",
       "Palma del Condado (La)                       1202.0                      5.0   \n",
       "Moguer                                       1434.0                     19.0   \n",
       "Huelva (capital)                             9261.0                     95.0   \n",
       "Condado-Campiña                             10996.0                    119.0   \n",
       "Cerro de Andévalo (El)                        160.0                      4.0   \n",
       "Bonares                                       313.0                      9.0   \n",
       "Punta Umbría                                  868.0                      9.0   \n",
       "Ayamonte                                     1387.0                     24.0   \n",
       "Sierra de Huelva-Andévalo Central            2968.0                     24.0   \n",
       "Huelva                                      33878.0                    408.0   \n",
       "Huelva-Costa                                19555.0                    260.0   \n",
       "Trigueros                                     339.0                      4.0   \n",
       "Nerva                                         181.0                      1.0   \n",
       "San Bartolomé de la Torre                     309.0                      1.0   \n",
       "Cortegana                                     217.0                      1.0   \n",
       "Almonte                                      1940.0                     21.0   \n",
       "Valverde del Camino                           677.0                     12.0   \n",
       "Aracena                                       544.0                      3.0   \n",
       "Alosno                                        201.0                     13.0   \n",
       "Lepe                                         2209.0                     27.0   \n",
       "Zarza-Perrunal (La)                            29.0                      2.0   \n",
       "Gibraleón                                     670.0                     14.0   \n",
       "Bollullos Par del Condado                    1053.0                     15.0   \n",
       "Isla Cristina                                2246.0                     49.0   \n",
       "Niebla                                        256.0                      7.0   \n",
       "Villablanca                                   196.0                      4.0   \n",
       "Paterna del Campo                             130.0                      1.0   \n",
       "Villarrasa                                    182.0                      2.0   \n",
       "Santa Bárbara de Casa                          29.0                     13.0   \n",
       "Lucena del Puerto                             274.0                      7.0   \n",
       "Puebla de Guzmán                              144.0                      3.0   \n",
       "Beas                                          234.0                      2.0   \n",
       "\n",
       "Medida                             Confirmados PDIA 14 días  Población  \\\n",
       "Lugar de residencia                                                      \n",
       "Rociana del Condado                                     8.0     7939.0   \n",
       "San Juan del Puerto                                    28.0     9411.0   \n",
       "Palos de la Frontera                                   32.0    11742.0   \n",
       "Paymogo                                                 4.0     1162.0   \n",
       "Cartaya                                                44.0    20083.0   \n",
       "Aljaraque                                              29.0    21474.0   \n",
       "Rosal de la Frontera                                    3.0     1697.0   \n",
       "Palma del Condado (La)                                 14.0    10801.0   \n",
       "Moguer                                                 53.0    21867.0   \n",
       "Huelva (capital)                                      228.0   143837.0   \n",
       "Condado-Campiña                                       270.0   156231.0   \n",
       "Cerro de Andévalo (El)                                  9.0     2327.0   \n",
       "Bonares                                                20.0     6060.0   \n",
       "Punta Umbría                                           20.0    15355.0   \n",
       "Ayamonte                                               53.0    21104.0   \n",
       "Sierra de Huelva-Andévalo Central                      51.0    67391.0   \n",
       "Huelva                                                858.0   513170.0   \n",
       "Huelva-Costa                                          531.0   289548.0   \n",
       "Trigueros                                               8.0     7862.0   \n",
       "Nerva                                                   2.0     5169.0   \n",
       "San Bartolomé de la Torre                               2.0     3761.0   \n",
       "Cortegana                                               2.0     4602.0   \n",
       "Almonte                                                35.0    24507.0   \n",
       "Valverde del Camino                                    20.0    12750.0   \n",
       "Aracena                                                 5.0     8255.0   \n",
       "Alosno                                                 21.0     3933.0   \n",
       "Lepe                                                   43.0    27880.0   \n",
       "Zarza-Perrunal (La)                                     3.0     1253.0   \n",
       "Gibraleón                                              21.0    12737.0   \n",
       "Bollullos Par del Condado                              22.0    14387.0   \n",
       "Isla Cristina                                          67.0    21393.0   \n",
       "Niebla                                                  9.0     4116.0   \n",
       "Villablanca                                             5.0     2885.0   \n",
       "Paterna del Campo                                       1.0     3457.0   \n",
       "Villarrasa                                              2.0     2211.0   \n",
       "Santa Bárbara de Casa                                  13.0     1043.0   \n",
       "Lucena del Puerto                                       7.0     3261.0   \n",
       "Puebla de Guzmán                                        3.0     3092.0   \n",
       "Beas                                                    2.0     4341.0   \n",
       "\n",
       "Medida                                   tasa7       tasa14  Diferencia PDIA  \\\n",
       "Lugar de residencia                                                            \n",
       "Rociana del Condado                  12.596045   100.768359              1.0   \n",
       "San Juan del Puerto                  42.503453   297.524174              2.0   \n",
       "Palos de la Frontera                 59.615057   272.525975              3.0   \n",
       "Paymogo                              86.058520   344.234079              0.0   \n",
       "Cartaya                              64.731365   219.090773              4.0   \n",
       "Aljaraque                            41.911148   135.047034              7.0   \n",
       "Rosal de la Frontera                 58.927519   176.782557              0.0   \n",
       "Palma del Condado (La)               46.292010   129.617628              0.0   \n",
       "Moguer                               86.888919   242.374354              3.0   \n",
       "Huelva (capital)                     66.046984   158.512761             32.0   \n",
       "Condado-Campiña                      76.169262   172.821015             53.0   \n",
       "Cerro de Andévalo (El)              171.895144   386.764074              3.0   \n",
       "Bonares                             148.514851   330.033003              4.0   \n",
       "Punta Umbría                         58.612830   130.250733              5.0   \n",
       "Ayamonte                            113.722517   251.137225              9.0   \n",
       "Sierra de Huelva-Andévalo Central    35.613064    75.677761             10.0   \n",
       "Huelva                               79.505817   167.196056            170.0   \n",
       "Huelva-Costa                         89.795129   183.389283            102.0   \n",
       "Trigueros                            50.877639   101.755279              4.0   \n",
       "Nerva                                19.346102    38.692204              0.0   \n",
       "San Bartolomé de la Torre            26.588673    53.177346              1.0   \n",
       "Cortegana                            21.729683    43.459365              0.0   \n",
       "Almonte                              85.689803   142.816338             10.0   \n",
       "Valverde del Camino                  94.117647   156.862745              4.0   \n",
       "Aracena                              36.341611    60.569352              1.0   \n",
       "Alosno                              330.536486   533.943555              5.0   \n",
       "Lepe                                 96.843615   154.232425              8.0   \n",
       "Zarza-Perrunal (La)                 159.616919   239.425379              2.0   \n",
       "Gibraleón                           109.915993   164.873989              8.0   \n",
       "Bollullos Par del Condado           104.260791   152.915827              5.0   \n",
       "Isla Cristina                       229.046884   313.186556             23.0   \n",
       "Niebla                              170.068027   218.658892              0.0   \n",
       "Villablanca                         138.648180   173.310225              0.0   \n",
       "Paterna del Campo                    28.926815    28.926815              0.0   \n",
       "Villarrasa                           90.456807    90.456807              1.0   \n",
       "Santa Bárbara de Casa              1246.404602  1246.404602              8.0   \n",
       "Lucena del Puerto                   214.658080   214.658080              3.0   \n",
       "Puebla de Guzmán                     97.024580    97.024580              1.0   \n",
       "Beas                                 46.072334    46.072334              1.0   \n",
       "\n",
       "Medida                                 7/14  \n",
       "Lugar de residencia                          \n",
       "Rociana del Condado                0.125000  \n",
       "San Juan del Puerto                0.142857  \n",
       "Palos de la Frontera               0.218750  \n",
       "Paymogo                            0.250000  \n",
       "Cartaya                            0.295455  \n",
       "Aljaraque                          0.310345  \n",
       "Rosal de la Frontera               0.333333  \n",
       "Palma del Condado (La)             0.357143  \n",
       "Moguer                             0.358491  \n",
       "Huelva (capital)                   0.416667  \n",
       "Condado-Campiña                    0.440741  \n",
       "Cerro de Andévalo (El)             0.444444  \n",
       "Bonares                            0.450000  \n",
       "Punta Umbría                       0.450000  \n",
       "Ayamonte                           0.452830  \n",
       "Sierra de Huelva-Andévalo Central  0.470588  \n",
       "Huelva                             0.475524  \n",
       "Huelva-Costa                       0.489642  \n",
       "Trigueros                          0.500000  \n",
       "Nerva                              0.500000  \n",
       "San Bartolomé de la Torre          0.500000  \n",
       "Cortegana                          0.500000  \n",
       "Almonte                            0.600000  \n",
       "Valverde del Camino                0.600000  \n",
       "Aracena                            0.600000  \n",
       "Alosno                             0.619048  \n",
       "Lepe                               0.627907  \n",
       "Zarza-Perrunal (La)                0.666667  \n",
       "Gibraleón                          0.666667  \n",
       "Bollullos Par del Condado          0.681818  \n",
       "Isla Cristina                      0.731343  \n",
       "Niebla                             0.777778  \n",
       "Villablanca                        0.800000  \n",
       "Paterna del Campo                  1.000000  \n",
       "Villarrasa                         1.000000  \n",
       "Santa Bárbara de Casa              1.000000  \n",
       "Lucena del Puerto                  1.000000  \n",
       "Puebla de Guzmán                   1.000000  \n",
       "Beas                               1.000000  "
      ],
      "text/html": "<div>\n<style scoped>\n    .dataframe tbody tr th:only-of-type {\n        vertical-align: middle;\n    }\n\n    .dataframe tbody tr th {\n        vertical-align: top;\n    }\n\n    .dataframe thead th {\n        text-align: right;\n    }\n</style>\n<table border=\"1\" class=\"dataframe\">\n  <thead>\n    <tr style=\"text-align: right;\">\n      <th>Medida</th>\n      <th>Confirmados PDIA</th>\n      <th>Confirmados PDIA 7 días</th>\n      <th>Confirmados PDIA 14 días</th>\n      <th>Población</th>\n      <th>tasa7</th>\n      <th>tasa14</th>\n      <th>Diferencia PDIA</th>\n      <th>7/14</th>\n    </tr>\n    <tr>\n      <th>Lugar de residencia</th>\n      <th></th>\n      <th></th>\n      <th></th>\n      <th></th>\n      <th></th>\n      <th></th>\n      <th></th>\n      <th></th>\n    </tr>\n  </thead>\n  <tbody>\n    <tr>\n      <th>Rociana del Condado</th>\n      <td>579.0</td>\n      <td>1.0</td>\n      <td>8.0</td>\n      <td>7939.0</td>\n      <td>12.596045</td>\n      <td>100.768359</td>\n      <td>1.0</td>\n      <td>0.125000</td>\n    </tr>\n    <tr>\n      <th>San Juan del Puerto</th>\n      <td>597.0</td>\n      <td>4.0</td>\n      <td>28.0</td>\n      <td>9411.0</td>\n      <td>42.503453</td>\n      <td>297.524174</td>\n      <td>2.0</td>\n      <td>0.142857</td>\n    </tr>\n    <tr>\n      <th>Palos de la Frontera</th>\n      <td>739.0</td>\n      <td>7.0</td>\n      <td>32.0</td>\n      <td>11742.0</td>\n      <td>59.615057</td>\n      <td>272.525975</td>\n      <td>3.0</td>\n      <td>0.218750</td>\n    </tr>\n    <tr>\n      <th>Paymogo</th>\n      <td>79.0</td>\n      <td>1.0</td>\n      <td>4.0</td>\n      <td>1162.0</td>\n      <td>86.058520</td>\n      <td>344.234079</td>\n      <td>0.0</td>\n      <td>0.250000</td>\n    </tr>\n    <tr>\n      <th>Cartaya</th>\n      <td>1425.0</td>\n      <td>13.0</td>\n      <td>44.0</td>\n      <td>20083.0</td>\n      <td>64.731365</td>\n      <td>219.090773</td>\n      <td>4.0</td>\n      <td>0.295455</td>\n    </tr>\n    <tr>\n      <th>Aljaraque</th>\n      <td>1190.0</td>\n      <td>9.0</td>\n      <td>29.0</td>\n      <td>21474.0</td>\n      <td>41.911148</td>\n      <td>135.047034</td>\n      <td>7.0</td>\n      <td>0.310345</td>\n    </tr>\n    <tr>\n      <th>Rosal de la Frontera</th>\n      <td>34.0</td>\n      <td>1.0</td>\n      <td>3.0</td>\n      <td>1697.0</td>\n      <td>58.927519</td>\n      <td>176.782557</td>\n      <td>0.0</td>\n      <td>0.333333</td>\n    </tr>\n    <tr>\n      <th>Palma del Condado (La)</th>\n      <td>1202.0</td>\n      <td>5.0</td>\n      <td>14.0</td>\n      <td>10801.0</td>\n      <td>46.292010</td>\n      <td>129.617628</td>\n      <td>0.0</td>\n      <td>0.357143</td>\n    </tr>\n    <tr>\n      <th>Moguer</th>\n      <td>1434.0</td>\n      <td>19.0</td>\n      <td>53.0</td>\n      <td>21867.0</td>\n      <td>86.888919</td>\n      <td>242.374354</td>\n      <td>3.0</td>\n      <td>0.358491</td>\n    </tr>\n    <tr>\n      <th>Huelva (capital)</th>\n      <td>9261.0</td>\n      <td>95.0</td>\n      <td>228.0</td>\n      <td>143837.0</td>\n      <td>66.046984</td>\n      <td>158.512761</td>\n      <td>32.0</td>\n      <td>0.416667</td>\n    </tr>\n    <tr>\n      <th>Condado-Campiña</th>\n      <td>10996.0</td>\n      <td>119.0</td>\n      <td>270.0</td>\n      <td>156231.0</td>\n      <td>76.169262</td>\n      <td>172.821015</td>\n      <td>53.0</td>\n      <td>0.440741</td>\n    </tr>\n    <tr>\n      <th>Cerro de Andévalo (El)</th>\n      <td>160.0</td>\n      <td>4.0</td>\n      <td>9.0</td>\n      <td>2327.0</td>\n      <td>171.895144</td>\n      <td>386.764074</td>\n      <td>3.0</td>\n      <td>0.444444</td>\n    </tr>\n    <tr>\n      <th>Bonares</th>\n      <td>313.0</td>\n      <td>9.0</td>\n      <td>20.0</td>\n      <td>6060.0</td>\n      <td>148.514851</td>\n      <td>330.033003</td>\n      <td>4.0</td>\n      <td>0.450000</td>\n    </tr>\n    <tr>\n      <th>Punta Umbría</th>\n      <td>868.0</td>\n      <td>9.0</td>\n      <td>20.0</td>\n      <td>15355.0</td>\n      <td>58.612830</td>\n      <td>130.250733</td>\n      <td>5.0</td>\n      <td>0.450000</td>\n    </tr>\n    <tr>\n      <th>Ayamonte</th>\n      <td>1387.0</td>\n      <td>24.0</td>\n      <td>53.0</td>\n      <td>21104.0</td>\n      <td>113.722517</td>\n      <td>251.137225</td>\n      <td>9.0</td>\n      <td>0.452830</td>\n    </tr>\n    <tr>\n      <th>Sierra de Huelva-Andévalo Central</th>\n      <td>2968.0</td>\n      <td>24.0</td>\n      <td>51.0</td>\n      <td>67391.0</td>\n      <td>35.613064</td>\n      <td>75.677761</td>\n      <td>10.0</td>\n      <td>0.470588</td>\n    </tr>\n    <tr>\n      <th>Huelva</th>\n      <td>33878.0</td>\n      <td>408.0</td>\n      <td>858.0</td>\n      <td>513170.0</td>\n      <td>79.505817</td>\n      <td>167.196056</td>\n      <td>170.0</td>\n      <td>0.475524</td>\n    </tr>\n    <tr>\n      <th>Huelva-Costa</th>\n      <td>19555.0</td>\n      <td>260.0</td>\n      <td>531.0</td>\n      <td>289548.0</td>\n      <td>89.795129</td>\n      <td>183.389283</td>\n      <td>102.0</td>\n      <td>0.489642</td>\n    </tr>\n    <tr>\n      <th>Trigueros</th>\n      <td>339.0</td>\n      <td>4.0</td>\n      <td>8.0</td>\n      <td>7862.0</td>\n      <td>50.877639</td>\n      <td>101.755279</td>\n      <td>4.0</td>\n      <td>0.500000</td>\n    </tr>\n    <tr>\n      <th>Nerva</th>\n      <td>181.0</td>\n      <td>1.0</td>\n      <td>2.0</td>\n      <td>5169.0</td>\n      <td>19.346102</td>\n      <td>38.692204</td>\n      <td>0.0</td>\n      <td>0.500000</td>\n    </tr>\n    <tr>\n      <th>San Bartolomé de la Torre</th>\n      <td>309.0</td>\n      <td>1.0</td>\n      <td>2.0</td>\n      <td>3761.0</td>\n      <td>26.588673</td>\n      <td>53.177346</td>\n      <td>1.0</td>\n      <td>0.500000</td>\n    </tr>\n    <tr>\n      <th>Cortegana</th>\n      <td>217.0</td>\n      <td>1.0</td>\n      <td>2.0</td>\n      <td>4602.0</td>\n      <td>21.729683</td>\n      <td>43.459365</td>\n      <td>0.0</td>\n      <td>0.500000</td>\n    </tr>\n    <tr>\n      <th>Almonte</th>\n      <td>1940.0</td>\n      <td>21.0</td>\n      <td>35.0</td>\n      <td>24507.0</td>\n      <td>85.689803</td>\n      <td>142.816338</td>\n      <td>10.0</td>\n      <td>0.600000</td>\n    </tr>\n    <tr>\n      <th>Valverde del Camino</th>\n      <td>677.0</td>\n      <td>12.0</td>\n      <td>20.0</td>\n      <td>12750.0</td>\n      <td>94.117647</td>\n      <td>156.862745</td>\n      <td>4.0</td>\n      <td>0.600000</td>\n    </tr>\n    <tr>\n      <th>Aracena</th>\n      <td>544.0</td>\n      <td>3.0</td>\n      <td>5.0</td>\n      <td>8255.0</td>\n      <td>36.341611</td>\n      <td>60.569352</td>\n      <td>1.0</td>\n      <td>0.600000</td>\n    </tr>\n    <tr>\n      <th>Alosno</th>\n      <td>201.0</td>\n      <td>13.0</td>\n      <td>21.0</td>\n      <td>3933.0</td>\n      <td>330.536486</td>\n      <td>533.943555</td>\n      <td>5.0</td>\n      <td>0.619048</td>\n    </tr>\n    <tr>\n      <th>Lepe</th>\n      <td>2209.0</td>\n      <td>27.0</td>\n      <td>43.0</td>\n      <td>27880.0</td>\n      <td>96.843615</td>\n      <td>154.232425</td>\n      <td>8.0</td>\n      <td>0.627907</td>\n    </tr>\n    <tr>\n      <th>Zarza-Perrunal (La)</th>\n      <td>29.0</td>\n      <td>2.0</td>\n      <td>3.0</td>\n      <td>1253.0</td>\n      <td>159.616919</td>\n      <td>239.425379</td>\n      <td>2.0</td>\n      <td>0.666667</td>\n    </tr>\n    <tr>\n      <th>Gibraleón</th>\n      <td>670.0</td>\n      <td>14.0</td>\n      <td>21.0</td>\n      <td>12737.0</td>\n      <td>109.915993</td>\n      <td>164.873989</td>\n      <td>8.0</td>\n      <td>0.666667</td>\n    </tr>\n    <tr>\n      <th>Bollullos Par del Condado</th>\n      <td>1053.0</td>\n      <td>15.0</td>\n      <td>22.0</td>\n      <td>14387.0</td>\n      <td>104.260791</td>\n      <td>152.915827</td>\n      <td>5.0</td>\n      <td>0.681818</td>\n    </tr>\n    <tr>\n      <th>Isla Cristina</th>\n      <td>2246.0</td>\n      <td>49.0</td>\n      <td>67.0</td>\n      <td>21393.0</td>\n      <td>229.046884</td>\n      <td>313.186556</td>\n      <td>23.0</td>\n      <td>0.731343</td>\n    </tr>\n    <tr>\n      <th>Niebla</th>\n      <td>256.0</td>\n      <td>7.0</td>\n      <td>9.0</td>\n      <td>4116.0</td>\n      <td>170.068027</td>\n      <td>218.658892</td>\n      <td>0.0</td>\n      <td>0.777778</td>\n    </tr>\n    <tr>\n      <th>Villablanca</th>\n      <td>196.0</td>\n      <td>4.0</td>\n      <td>5.0</td>\n      <td>2885.0</td>\n      <td>138.648180</td>\n      <td>173.310225</td>\n      <td>0.0</td>\n      <td>0.800000</td>\n    </tr>\n    <tr>\n      <th>Paterna del Campo</th>\n      <td>130.0</td>\n      <td>1.0</td>\n      <td>1.0</td>\n      <td>3457.0</td>\n      <td>28.926815</td>\n      <td>28.926815</td>\n      <td>0.0</td>\n      <td>1.000000</td>\n    </tr>\n    <tr>\n      <th>Villarrasa</th>\n      <td>182.0</td>\n      <td>2.0</td>\n      <td>2.0</td>\n      <td>2211.0</td>\n      <td>90.456807</td>\n      <td>90.456807</td>\n      <td>1.0</td>\n      <td>1.000000</td>\n    </tr>\n    <tr>\n      <th>Santa Bárbara de Casa</th>\n      <td>29.0</td>\n      <td>13.0</td>\n      <td>13.0</td>\n      <td>1043.0</td>\n      <td>1246.404602</td>\n      <td>1246.404602</td>\n      <td>8.0</td>\n      <td>1.000000</td>\n    </tr>\n    <tr>\n      <th>Lucena del Puerto</th>\n      <td>274.0</td>\n      <td>7.0</td>\n      <td>7.0</td>\n      <td>3261.0</td>\n      <td>214.658080</td>\n      <td>214.658080</td>\n      <td>3.0</td>\n      <td>1.000000</td>\n    </tr>\n    <tr>\n      <th>Puebla de Guzmán</th>\n      <td>144.0</td>\n      <td>3.0</td>\n      <td>3.0</td>\n      <td>3092.0</td>\n      <td>97.024580</td>\n      <td>97.024580</td>\n      <td>1.0</td>\n      <td>1.000000</td>\n    </tr>\n    <tr>\n      <th>Beas</th>\n      <td>234.0</td>\n      <td>2.0</td>\n      <td>2.0</td>\n      <td>4341.0</td>\n      <td>46.072334</td>\n      <td>46.072334</td>\n      <td>1.0</td>\n      <td>1.000000</td>\n    </tr>\n  </tbody>\n</table>\n</div>"
     },
     "metadata": {},
     "execution_count": 18
    }
   ],
   "source": [
    "# Peso de la tasa de la última semana en relación con la tasa a 14 días \n",
    "# Mejor cuanto menor. Valor 1 significa que no había casos antes de 7 días.\n",
    "tabla['7/14'] = tabla['tasa7'] / tabla['tasa14']\n",
    "tabla.fillna(0).sort_values('7/14', ascending=True)"
   ]
  },
  {
   "cell_type": "code",
   "execution_count": null,
   "metadata": {},
   "outputs": [],
   "source": []
  }
 ]
}