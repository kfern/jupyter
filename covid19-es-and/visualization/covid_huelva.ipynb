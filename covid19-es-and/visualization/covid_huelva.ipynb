{
 "metadata": {
  "language_info": {
   "codemirror_mode": {
    "name": "ipython",
    "version": 3
   },
   "file_extension": ".py",
   "mimetype": "text/x-python",
   "name": "python",
   "nbconvert_exporter": "python",
   "pygments_lexer": "ipython3",
   "version": "3.6.9-final"
  },
  "orig_nbformat": 2,
  "kernelspec": {
   "name": "Python 3.6.9 64-bit",
   "display_name": "Python 3.6.9 64-bit",
   "metadata": {
    "interpreter": {
     "hash": "31f2aee4e71d21fbe5cf8b01ff0e069b9275f58929596ceb00d14d90e3e16cd6"
    }
   }
  }
 },
 "nbformat": 4,
 "nbformat_minor": 2,
 "cells": [
  {
   "cell_type": "code",
   "execution_count": 1,
   "metadata": {},
   "outputs": [],
   "source": [
    "import pandas as pd"
   ]
  },
  {
   "cell_type": "code",
   "execution_count": 2,
   "metadata": {},
   "outputs": [],
   "source": [
    "# FIX SSL: CERTIFICATE_VERIFY_FAILED with Python3\n",
    "# https://stackoverflow.com/a/49174340\n",
    "import ssl\n",
    "\n",
    "ssl._create_default_https_context = ssl._create_unverified_context"
   ]
  },
  {
   "cell_type": "code",
   "execution_count": 3,
   "metadata": {},
   "outputs": [],
   "source": [
    "url = 'https://www.juntadeandalucia.es/institutodeestadisticaycartografia/badea/stpivot/stpivot/Print?cube=013d884c-cfc5-4c21-9e78-e26225682afd&type=3&foto=si&ejecutaDesde=&codConsulta=38668&consTipoVisua=JP'\n",
    "fields = ['Lugar de residencia', 'Medida', 'Valor']\n",
    "df = pd.read_csv(url, delimiter=';', usecols=fields, decimal=',')"
   ]
  },
  {
   "cell_type": "code",
   "execution_count": 4,
   "metadata": {},
   "outputs": [
    {
     "output_type": "execute_result",
     "data": {
      "text/plain": [
       "                     Lugar de residencia                    Medida  \\\n",
       "0                                 Huelva                 Población   \n",
       "1                                 Huelva          Confirmados PDIA   \n",
       "2                                 Huelva  Confirmados PDIA 14 días   \n",
       "3                                 Huelva         Tasa PDIA 14 días   \n",
       "4                                 Huelva   Confirmados PDIA 7 días   \n",
       "..                                   ...                       ...   \n",
       "627  Municipio de Huelva sin especificar         Tasa PDIA 14 días   \n",
       "628  Municipio de Huelva sin especificar   Confirmados PDIA 7 días   \n",
       "629  Municipio de Huelva sin especificar        Total Confirmados    \n",
       "630  Municipio de Huelva sin especificar                   Curados   \n",
       "631  Municipio de Huelva sin especificar                Fallecidos   \n",
       "\n",
       "                  Valor  \n",
       "0                510743  \n",
       "1                  2953  \n",
       "2                  1065  \n",
       "3    208,51974476400068  \n",
       "4                   673  \n",
       "..                  ...  \n",
       "627                   -  \n",
       "628                   1  \n",
       "629                  32  \n",
       "630                   8  \n",
       "631                   1  \n",
       "\n",
       "[632 rows x 3 columns]"
      ],
      "text/html": "<div>\n<style scoped>\n    .dataframe tbody tr th:only-of-type {\n        vertical-align: middle;\n    }\n\n    .dataframe tbody tr th {\n        vertical-align: top;\n    }\n\n    .dataframe thead th {\n        text-align: right;\n    }\n</style>\n<table border=\"1\" class=\"dataframe\">\n  <thead>\n    <tr style=\"text-align: right;\">\n      <th></th>\n      <th>Lugar de residencia</th>\n      <th>Medida</th>\n      <th>Valor</th>\n    </tr>\n  </thead>\n  <tbody>\n    <tr>\n      <th>0</th>\n      <td>Huelva</td>\n      <td>Población</td>\n      <td>510743</td>\n    </tr>\n    <tr>\n      <th>1</th>\n      <td>Huelva</td>\n      <td>Confirmados PDIA</td>\n      <td>2953</td>\n    </tr>\n    <tr>\n      <th>2</th>\n      <td>Huelva</td>\n      <td>Confirmados PDIA 14 días</td>\n      <td>1065</td>\n    </tr>\n    <tr>\n      <th>3</th>\n      <td>Huelva</td>\n      <td>Tasa PDIA 14 días</td>\n      <td>208,51974476400068</td>\n    </tr>\n    <tr>\n      <th>4</th>\n      <td>Huelva</td>\n      <td>Confirmados PDIA 7 días</td>\n      <td>673</td>\n    </tr>\n    <tr>\n      <th>...</th>\n      <td>...</td>\n      <td>...</td>\n      <td>...</td>\n    </tr>\n    <tr>\n      <th>627</th>\n      <td>Municipio de Huelva sin especificar</td>\n      <td>Tasa PDIA 14 días</td>\n      <td>-</td>\n    </tr>\n    <tr>\n      <th>628</th>\n      <td>Municipio de Huelva sin especificar</td>\n      <td>Confirmados PDIA 7 días</td>\n      <td>1</td>\n    </tr>\n    <tr>\n      <th>629</th>\n      <td>Municipio de Huelva sin especificar</td>\n      <td>Total Confirmados</td>\n      <td>32</td>\n    </tr>\n    <tr>\n      <th>630</th>\n      <td>Municipio de Huelva sin especificar</td>\n      <td>Curados</td>\n      <td>8</td>\n    </tr>\n    <tr>\n      <th>631</th>\n      <td>Municipio de Huelva sin especificar</td>\n      <td>Fallecidos</td>\n      <td>1</td>\n    </tr>\n  </tbody>\n</table>\n<p>632 rows × 3 columns</p>\n</div>"
     },
     "metadata": {},
     "execution_count": 4
    }
   ],
   "source": [
    "df"
   ]
  },
  {
   "cell_type": "code",
   "execution_count": 5,
   "metadata": {},
   "outputs": [],
   "source": [
    "df['Valor'] = pd.to_numeric(df['Valor'],errors='coerce')"
   ]
  },
  {
   "cell_type": "code",
   "execution_count": 6,
   "metadata": {},
   "outputs": [],
   "source": [
    "dfAnterior = pd.read_csv('covid_huelva.csv', index_col='Lugar de residencia')"
   ]
  },
  {
   "cell_type": "code",
   "execution_count": 7,
   "metadata": {
    "tags": []
   },
   "outputs": [
    {
     "output_type": "stream",
     "name": "stdout",
     "text": [
      "Confirmados PCR en la provincia de Huelva:  2953.0\n"
     ]
    }
   ],
   "source": [
    "# Confirmados PCR provincia Huelva\n",
    "p = df[df['Lugar de residencia'] == 'Huelva'][df['Medida'] == 'Confirmados PDIA']['Valor'].values[0]\n",
    "print('Confirmados PCR en la provincia de Huelva: ', p)"
   ]
  },
  {
   "cell_type": "code",
   "execution_count": 8,
   "metadata": {
    "tags": []
   },
   "outputs": [
    {
     "output_type": "stream",
     "name": "stdout",
     "text": [
      "Confirmados PCR en Huelva capital:  772.0\n"
     ]
    }
   ],
   "source": [
    "# Confirmados PCR Huelva capitalpd\n",
    "c = df[df['Lugar de residencia'] == 'Huelva (capital)'][df['Medida'] == 'Confirmados PDIA']['Valor'].values[0]\n",
    "print('Confirmados PCR en Huelva capital: ', c)"
   ]
  },
  {
   "cell_type": "code",
   "execution_count": 9,
   "metadata": {
    "tags": []
   },
   "outputs": [],
   "source": [
    "c7 = df[df['Lugar de residencia'] == 'Huelva (capital)'][df['Medida'] == 'Confirmados PDIA 7 días']['Valor'].values[0]\n",
    "c14 = df[df['Lugar de residencia'] == 'Huelva (capital)'][df['Medida'] == 'Confirmados PDIA 14 días']['Valor'].values[0]\n",
    "p = df[df['Lugar de residencia'] == 'Huelva (capital)'][df['Medida'] == 'Población']['Valor'].values[0]"
   ]
  },
  {
   "cell_type": "code",
   "execution_count": 10,
   "metadata": {
    "tags": []
   },
   "outputs": [
    {
     "output_type": "stream",
     "name": "stdout",
     "text": [
      "Huelva (capital)\n\nUn positivo PCR cada 826 personas en los últimos 7 días \n\nUn positivo PCR cada 487 personas en los últimos 14 días\n"
     ]
    }
   ],
   "source": [
    "print('Huelva (capital)\\n')\n",
    "#print('Confirmados PCR 7 días x 1,000 habitantes: ', f\"{c7/(p/1000):.5f}\")\n",
    "print('Un positivo PCR cada', f\"{p/c7:.0f}\", 'personas en los últimos 7 días', '\\n')\n",
    "#print('Confirmados PCR 14 días x 1,000 habitantes: ', f\"{c14/(p/1000):.5f}\")\n",
    "print('Un positivo PCR cada', f\"{p/c14:.0f}\", 'personas en los últimos 14 días')"
   ]
  },
  {
   "cell_type": "code",
   "execution_count": 11,
   "metadata": {},
   "outputs": [],
   "source": [
    "filtro = ((df['Medida'] == 'Confirmados PDIA')| (df['Medida'] == 'Confirmados PDIA 7 días') | (df['Medida'] == 'Población' ) | (df['Medida'] == 'Confirmados PDIA 14 días')) & (df['Valor'] > 0)\n",
    "tabla = pd.pivot_table(df.loc[filtro], values='Valor', index='Lugar de residencia', columns='Medida').dropna()"
   ]
  },
  {
   "cell_type": "code",
   "execution_count": 12,
   "metadata": {},
   "outputs": [],
   "source": [
    "# Reorder columns\n",
    "tabla = tabla[['Confirmados PDIA', 'Confirmados PDIA 7 días', 'Confirmados PDIA 14 días', 'Población']]"
   ]
  },
  {
   "cell_type": "code",
   "execution_count": 13,
   "metadata": {},
   "outputs": [],
   "source": [
    "tabla['tasa7'] = tabla['Confirmados PDIA 7 días']/tabla['Población']*100000\n",
    "tabla['tasa14'] = tabla['Confirmados PDIA 14 días']/tabla['Población']*100000"
   ]
  },
  {
   "cell_type": "code",
   "execution_count": 14,
   "metadata": {},
   "outputs": [],
   "source": [
    "tabla['Diferencia PDIA'] = tabla['Confirmados PDIA'] - dfAnterior['Confirmados PDIA']"
   ]
  },
  {
   "cell_type": "code",
   "execution_count": 15,
   "metadata": {},
   "outputs": [
    {
     "output_type": "execute_result",
     "data": {
      "text/plain": [
       "Medida                             Confirmados PDIA  Confirmados PDIA 7 días  \\\n",
       "Lugar de residencia                                                            \n",
       "Huelva                                       2953.0                    673.0   \n",
       "Huelva-Costa                                 1513.0                    329.0   \n",
       "Huelva (capital)                              772.0                    174.0   \n",
       "Condado-Campiña                               929.0                    163.0   \n",
       "Sierra de Huelva-Andévalo Central             479.0                    180.0   \n",
       "Lepe                                          230.0                     53.0   \n",
       "Almonte                                       125.0                     36.0   \n",
       "Cortegana                                     100.0                     70.0   \n",
       "Cartaya                                        72.0                     30.0   \n",
       "Gibraleón                                      66.0                     21.0   \n",
       "Bollullos Par del Condado                     133.0                     15.0   \n",
       "Palma del Condado (La)                        142.0                     29.0   \n",
       "Aracena                                        74.0                     10.0   \n",
       "Calañas                                        10.0                      7.0   \n",
       "Ayamonte                                       75.0                     15.0   \n",
       "Valverde del Camino                            64.0                     30.0   \n",
       "Almonaster la Real                             17.0                     14.0   \n",
       "San Juan del Puerto                            83.0                      7.0   \n",
       "Palos de la Frontera                           42.0                      9.0   \n",
       "Aljaraque                                     109.0                     20.0   \n",
       "Escacena del Campo                             25.0                      5.0   \n",
       "Rosal de la Frontera                            8.0                      5.0   \n",
       "Isla Cristina                                  98.0                     11.0   \n",
       "Villalba del Alcor                             49.0                      5.0   \n",
       "Trigueros                                      49.0                     10.0   \n",
       "Cerro de Andévalo (El)                         24.0                      7.0   \n",
       "Punta Umbría                                   47.0                      8.0   \n",
       "Higuera de la Sierra                            7.0                      3.0   \n",
       "Villarrasa                                     36.0                      7.0   \n",
       "Linares de la Sierra                            2.0                      2.0   \n",
       "Rociana del Condado                            15.0                      2.0   \n",
       "Niebla                                         19.0                     10.0   \n",
       "Nerva                                          37.0                     10.0   \n",
       "Aroche                                         14.0                      4.0   \n",
       "Minas de Riotinto                              23.0                      3.0   \n",
       "Alosno                                         11.0                      4.0   \n",
       "Lucena del Puerto                              17.0                      2.0   \n",
       "Galaroza                                        2.0                      2.0   \n",
       "\n",
       "Medida                             Confirmados PDIA 14 días  Población  \\\n",
       "Lugar de residencia                                                      \n",
       "Huelva                                               1065.0   510743.0   \n",
       "Huelva-Costa                                          559.0   288115.0   \n",
       "Huelva (capital)                                      295.0   143663.0   \n",
       "Condado-Campiña                                       268.0   155057.0   \n",
       "Sierra de Huelva-Andévalo Central                     235.0    67571.0   \n",
       "Lepe                                                   92.0    27431.0   \n",
       "Almonte                                                61.0    24191.0   \n",
       "Cortegana                                              87.0     4666.0   \n",
       "Cartaya                                                41.0    19974.0   \n",
       "Gibraleón                                              30.0    12607.0   \n",
       "Bollullos Par del Condado                              25.0    14272.0   \n",
       "Palma del Condado (La)                                 50.0    10761.0   \n",
       "Aracena                                                18.0     8107.0   \n",
       "Calañas                                                 7.0     2791.0   \n",
       "Ayamonte                                               23.0    20946.0   \n",
       "Valverde del Camino                                    34.0    12820.0   \n",
       "Almonaster la Real                                     16.0     1819.0   \n",
       "San Juan del Puerto                                    10.0     9300.0   \n",
       "Palos de la Frontera                                   12.0    11289.0   \n",
       "Aljaraque                                              31.0    21260.0   \n",
       "Escacena del Campo                                      7.0     2284.0   \n",
       "Rosal de la Frontera                                    6.0     1697.0   \n",
       "Isla Cristina                                          23.0    21264.0   \n",
       "Villalba del Alcor                                      7.0     3338.0   \n",
       "Trigueros                                              11.0     7713.0   \n",
       "Cerro de Andévalo (El)                                 19.0     2364.0   \n",
       "Punta Umbría                                            9.0    15242.0   \n",
       "Higuera de la Sierra                                    4.0     1287.0   \n",
       "Villarrasa                                             13.0     2176.0   \n",
       "Linares de la Sierra                                    2.0      263.0   \n",
       "Rociana del Condado                                     5.0     7855.0   \n",
       "Niebla                                                 12.0     4117.0   \n",
       "Nerva                                                  13.0     5235.0   \n",
       "Aroche                                                  4.0     3073.0   \n",
       "Minas de Riotinto                                       4.0     3848.0   \n",
       "Alosno                                                  5.0     3923.0   \n",
       "Lucena del Puerto                                       3.0     3371.0   \n",
       "Galaroza                                                2.0     1379.0   \n",
       "\n",
       "Medida                                   tasa7       tasa14  Diferencia PDIA  \n",
       "Lugar de residencia                                                           \n",
       "Huelva                              131.768815   208.519745            197.0  \n",
       "Huelva-Costa                        114.190514   194.019749            114.0  \n",
       "Huelva (capital)                    121.116780   205.341668             72.0  \n",
       "Condado-Campiña                     105.122632   172.839665             54.0  \n",
       "Sierra de Huelva-Andévalo Central   266.386468   347.782333             43.0  \n",
       "Lepe                                193.212059   335.386971             19.0  \n",
       "Almonte                             148.815675   252.159894             12.0  \n",
       "Cortegana                          1500.214316  1864.552079              9.0  \n",
       "Cartaya                             150.195254   205.266847              9.0  \n",
       "Gibraleón                           166.574125   237.963036              8.0  \n",
       "Bollullos Par del Condado           105.100897   175.168161              7.0  \n",
       "Palma del Condado (La)              269.491683   464.640833              7.0  \n",
       "Aracena                             123.350191   222.030344              6.0  \n",
       "Calañas                             250.806163   250.806163              5.0  \n",
       "Ayamonte                             71.612718   109.806168              5.0  \n",
       "Valverde del Camino                 234.009360   265.210608              5.0  \n",
       "Almonaster la Real                  769.653656   879.604178              5.0  \n",
       "San Juan del Puerto                  75.268817   107.526882              4.0  \n",
       "Palos de la Frontera                 79.723625   106.298166              4.0  \n",
       "Aljaraque                            94.073377   145.813735              4.0  \n",
       "Escacena del Campo                  218.914186   306.479860              3.0  \n",
       "Rosal de la Frontera                294.637596   353.565115              3.0  \n",
       "Isla Cristina                        51.730625   108.164033              2.0  \n",
       "Villalba del Alcor                  149.790294   209.706411              2.0  \n",
       "Trigueros                           129.651238   142.616362              2.0  \n",
       "Cerro de Andévalo (El)              296.108291   803.722504              2.0  \n",
       "Punta Umbría                         52.486550    59.047369              2.0  \n",
       "Higuera de la Sierra                233.100233   310.800311              2.0  \n",
       "Villarrasa                          321.691176   597.426471              2.0  \n",
       "Linares de la Sierra                760.456274   760.456274              1.0  \n",
       "Rociana del Condado                  25.461489    63.653724              1.0  \n",
       "Niebla                              242.895312   291.474375              1.0  \n",
       "Nerva                               191.021968   248.328558              1.0  \n",
       "Aroche                              130.165962   130.165962              1.0  \n",
       "Minas de Riotinto                    77.962578   103.950104              1.0  \n",
       "Alosno                              101.962784   127.453479              1.0  \n",
       "Lucena del Puerto                    59.329576    88.994364              1.0  \n",
       "Galaroza                            145.032632   145.032632              NaN  "
      ],
      "text/html": "<div>\n<style scoped>\n    .dataframe tbody tr th:only-of-type {\n        vertical-align: middle;\n    }\n\n    .dataframe tbody tr th {\n        vertical-align: top;\n    }\n\n    .dataframe thead th {\n        text-align: right;\n    }\n</style>\n<table border=\"1\" class=\"dataframe\">\n  <thead>\n    <tr style=\"text-align: right;\">\n      <th>Medida</th>\n      <th>Confirmados PDIA</th>\n      <th>Confirmados PDIA 7 días</th>\n      <th>Confirmados PDIA 14 días</th>\n      <th>Población</th>\n      <th>tasa7</th>\n      <th>tasa14</th>\n      <th>Diferencia PDIA</th>\n    </tr>\n    <tr>\n      <th>Lugar de residencia</th>\n      <th></th>\n      <th></th>\n      <th></th>\n      <th></th>\n      <th></th>\n      <th></th>\n      <th></th>\n    </tr>\n  </thead>\n  <tbody>\n    <tr>\n      <th>Huelva</th>\n      <td>2953.0</td>\n      <td>673.0</td>\n      <td>1065.0</td>\n      <td>510743.0</td>\n      <td>131.768815</td>\n      <td>208.519745</td>\n      <td>197.0</td>\n    </tr>\n    <tr>\n      <th>Huelva-Costa</th>\n      <td>1513.0</td>\n      <td>329.0</td>\n      <td>559.0</td>\n      <td>288115.0</td>\n      <td>114.190514</td>\n      <td>194.019749</td>\n      <td>114.0</td>\n    </tr>\n    <tr>\n      <th>Huelva (capital)</th>\n      <td>772.0</td>\n      <td>174.0</td>\n      <td>295.0</td>\n      <td>143663.0</td>\n      <td>121.116780</td>\n      <td>205.341668</td>\n      <td>72.0</td>\n    </tr>\n    <tr>\n      <th>Condado-Campiña</th>\n      <td>929.0</td>\n      <td>163.0</td>\n      <td>268.0</td>\n      <td>155057.0</td>\n      <td>105.122632</td>\n      <td>172.839665</td>\n      <td>54.0</td>\n    </tr>\n    <tr>\n      <th>Sierra de Huelva-Andévalo Central</th>\n      <td>479.0</td>\n      <td>180.0</td>\n      <td>235.0</td>\n      <td>67571.0</td>\n      <td>266.386468</td>\n      <td>347.782333</td>\n      <td>43.0</td>\n    </tr>\n    <tr>\n      <th>Lepe</th>\n      <td>230.0</td>\n      <td>53.0</td>\n      <td>92.0</td>\n      <td>27431.0</td>\n      <td>193.212059</td>\n      <td>335.386971</td>\n      <td>19.0</td>\n    </tr>\n    <tr>\n      <th>Almonte</th>\n      <td>125.0</td>\n      <td>36.0</td>\n      <td>61.0</td>\n      <td>24191.0</td>\n      <td>148.815675</td>\n      <td>252.159894</td>\n      <td>12.0</td>\n    </tr>\n    <tr>\n      <th>Cortegana</th>\n      <td>100.0</td>\n      <td>70.0</td>\n      <td>87.0</td>\n      <td>4666.0</td>\n      <td>1500.214316</td>\n      <td>1864.552079</td>\n      <td>9.0</td>\n    </tr>\n    <tr>\n      <th>Cartaya</th>\n      <td>72.0</td>\n      <td>30.0</td>\n      <td>41.0</td>\n      <td>19974.0</td>\n      <td>150.195254</td>\n      <td>205.266847</td>\n      <td>9.0</td>\n    </tr>\n    <tr>\n      <th>Gibraleón</th>\n      <td>66.0</td>\n      <td>21.0</td>\n      <td>30.0</td>\n      <td>12607.0</td>\n      <td>166.574125</td>\n      <td>237.963036</td>\n      <td>8.0</td>\n    </tr>\n    <tr>\n      <th>Bollullos Par del Condado</th>\n      <td>133.0</td>\n      <td>15.0</td>\n      <td>25.0</td>\n      <td>14272.0</td>\n      <td>105.100897</td>\n      <td>175.168161</td>\n      <td>7.0</td>\n    </tr>\n    <tr>\n      <th>Palma del Condado (La)</th>\n      <td>142.0</td>\n      <td>29.0</td>\n      <td>50.0</td>\n      <td>10761.0</td>\n      <td>269.491683</td>\n      <td>464.640833</td>\n      <td>7.0</td>\n    </tr>\n    <tr>\n      <th>Aracena</th>\n      <td>74.0</td>\n      <td>10.0</td>\n      <td>18.0</td>\n      <td>8107.0</td>\n      <td>123.350191</td>\n      <td>222.030344</td>\n      <td>6.0</td>\n    </tr>\n    <tr>\n      <th>Calañas</th>\n      <td>10.0</td>\n      <td>7.0</td>\n      <td>7.0</td>\n      <td>2791.0</td>\n      <td>250.806163</td>\n      <td>250.806163</td>\n      <td>5.0</td>\n    </tr>\n    <tr>\n      <th>Ayamonte</th>\n      <td>75.0</td>\n      <td>15.0</td>\n      <td>23.0</td>\n      <td>20946.0</td>\n      <td>71.612718</td>\n      <td>109.806168</td>\n      <td>5.0</td>\n    </tr>\n    <tr>\n      <th>Valverde del Camino</th>\n      <td>64.0</td>\n      <td>30.0</td>\n      <td>34.0</td>\n      <td>12820.0</td>\n      <td>234.009360</td>\n      <td>265.210608</td>\n      <td>5.0</td>\n    </tr>\n    <tr>\n      <th>Almonaster la Real</th>\n      <td>17.0</td>\n      <td>14.0</td>\n      <td>16.0</td>\n      <td>1819.0</td>\n      <td>769.653656</td>\n      <td>879.604178</td>\n      <td>5.0</td>\n    </tr>\n    <tr>\n      <th>San Juan del Puerto</th>\n      <td>83.0</td>\n      <td>7.0</td>\n      <td>10.0</td>\n      <td>9300.0</td>\n      <td>75.268817</td>\n      <td>107.526882</td>\n      <td>4.0</td>\n    </tr>\n    <tr>\n      <th>Palos de la Frontera</th>\n      <td>42.0</td>\n      <td>9.0</td>\n      <td>12.0</td>\n      <td>11289.0</td>\n      <td>79.723625</td>\n      <td>106.298166</td>\n      <td>4.0</td>\n    </tr>\n    <tr>\n      <th>Aljaraque</th>\n      <td>109.0</td>\n      <td>20.0</td>\n      <td>31.0</td>\n      <td>21260.0</td>\n      <td>94.073377</td>\n      <td>145.813735</td>\n      <td>4.0</td>\n    </tr>\n    <tr>\n      <th>Escacena del Campo</th>\n      <td>25.0</td>\n      <td>5.0</td>\n      <td>7.0</td>\n      <td>2284.0</td>\n      <td>218.914186</td>\n      <td>306.479860</td>\n      <td>3.0</td>\n    </tr>\n    <tr>\n      <th>Rosal de la Frontera</th>\n      <td>8.0</td>\n      <td>5.0</td>\n      <td>6.0</td>\n      <td>1697.0</td>\n      <td>294.637596</td>\n      <td>353.565115</td>\n      <td>3.0</td>\n    </tr>\n    <tr>\n      <th>Isla Cristina</th>\n      <td>98.0</td>\n      <td>11.0</td>\n      <td>23.0</td>\n      <td>21264.0</td>\n      <td>51.730625</td>\n      <td>108.164033</td>\n      <td>2.0</td>\n    </tr>\n    <tr>\n      <th>Villalba del Alcor</th>\n      <td>49.0</td>\n      <td>5.0</td>\n      <td>7.0</td>\n      <td>3338.0</td>\n      <td>149.790294</td>\n      <td>209.706411</td>\n      <td>2.0</td>\n    </tr>\n    <tr>\n      <th>Trigueros</th>\n      <td>49.0</td>\n      <td>10.0</td>\n      <td>11.0</td>\n      <td>7713.0</td>\n      <td>129.651238</td>\n      <td>142.616362</td>\n      <td>2.0</td>\n    </tr>\n    <tr>\n      <th>Cerro de Andévalo (El)</th>\n      <td>24.0</td>\n      <td>7.0</td>\n      <td>19.0</td>\n      <td>2364.0</td>\n      <td>296.108291</td>\n      <td>803.722504</td>\n      <td>2.0</td>\n    </tr>\n    <tr>\n      <th>Punta Umbría</th>\n      <td>47.0</td>\n      <td>8.0</td>\n      <td>9.0</td>\n      <td>15242.0</td>\n      <td>52.486550</td>\n      <td>59.047369</td>\n      <td>2.0</td>\n    </tr>\n    <tr>\n      <th>Higuera de la Sierra</th>\n      <td>7.0</td>\n      <td>3.0</td>\n      <td>4.0</td>\n      <td>1287.0</td>\n      <td>233.100233</td>\n      <td>310.800311</td>\n      <td>2.0</td>\n    </tr>\n    <tr>\n      <th>Villarrasa</th>\n      <td>36.0</td>\n      <td>7.0</td>\n      <td>13.0</td>\n      <td>2176.0</td>\n      <td>321.691176</td>\n      <td>597.426471</td>\n      <td>2.0</td>\n    </tr>\n    <tr>\n      <th>Linares de la Sierra</th>\n      <td>2.0</td>\n      <td>2.0</td>\n      <td>2.0</td>\n      <td>263.0</td>\n      <td>760.456274</td>\n      <td>760.456274</td>\n      <td>1.0</td>\n    </tr>\n    <tr>\n      <th>Rociana del Condado</th>\n      <td>15.0</td>\n      <td>2.0</td>\n      <td>5.0</td>\n      <td>7855.0</td>\n      <td>25.461489</td>\n      <td>63.653724</td>\n      <td>1.0</td>\n    </tr>\n    <tr>\n      <th>Niebla</th>\n      <td>19.0</td>\n      <td>10.0</td>\n      <td>12.0</td>\n      <td>4117.0</td>\n      <td>242.895312</td>\n      <td>291.474375</td>\n      <td>1.0</td>\n    </tr>\n    <tr>\n      <th>Nerva</th>\n      <td>37.0</td>\n      <td>10.0</td>\n      <td>13.0</td>\n      <td>5235.0</td>\n      <td>191.021968</td>\n      <td>248.328558</td>\n      <td>1.0</td>\n    </tr>\n    <tr>\n      <th>Aroche</th>\n      <td>14.0</td>\n      <td>4.0</td>\n      <td>4.0</td>\n      <td>3073.0</td>\n      <td>130.165962</td>\n      <td>130.165962</td>\n      <td>1.0</td>\n    </tr>\n    <tr>\n      <th>Minas de Riotinto</th>\n      <td>23.0</td>\n      <td>3.0</td>\n      <td>4.0</td>\n      <td>3848.0</td>\n      <td>77.962578</td>\n      <td>103.950104</td>\n      <td>1.0</td>\n    </tr>\n    <tr>\n      <th>Alosno</th>\n      <td>11.0</td>\n      <td>4.0</td>\n      <td>5.0</td>\n      <td>3923.0</td>\n      <td>101.962784</td>\n      <td>127.453479</td>\n      <td>1.0</td>\n    </tr>\n    <tr>\n      <th>Lucena del Puerto</th>\n      <td>17.0</td>\n      <td>2.0</td>\n      <td>3.0</td>\n      <td>3371.0</td>\n      <td>59.329576</td>\n      <td>88.994364</td>\n      <td>1.0</td>\n    </tr>\n    <tr>\n      <th>Galaroza</th>\n      <td>2.0</td>\n      <td>2.0</td>\n      <td>2.0</td>\n      <td>1379.0</td>\n      <td>145.032632</td>\n      <td>145.032632</td>\n      <td>NaN</td>\n    </tr>\n  </tbody>\n</table>\n</div>"
     },
     "metadata": {},
     "execution_count": 15
    }
   ],
   "source": [
    "# Nuevos casos desde la última captura\n",
    "tabla[tabla['Diferencia PDIA'] != 0].sort_values('Diferencia PDIA', ascending=False)"
   ]
  },
  {
   "cell_type": "code",
   "execution_count": 16,
   "metadata": {},
   "outputs": [],
   "source": [
    "if tabla[tabla['Diferencia PDIA'] != 0]['Diferencia PDIA'].sum() > 0:\n",
    "  # Save to csv\n",
    "  tabla.to_csv('covid_huelva.csv', encoding='utf-8', header=True, index=True)  "
   ]
  },
  {
   "cell_type": "code",
   "execution_count": 17,
   "metadata": {},
   "outputs": [
    {
     "output_type": "execute_result",
     "data": {
      "text/plain": [
       "Medida                             Confirmados PDIA  Confirmados PDIA 7 días  \\\n",
       "Lugar de residencia                                                            \n",
       "Granado (El)                                   31.0                      9.0   \n",
       "Cortegana                                     100.0                     70.0   \n",
       "Almonaster la Real                             17.0                     14.0   \n",
       "Cerro de Andévalo (El)                         24.0                      7.0   \n",
       "Linares de la Sierra                            2.0                      2.0   \n",
       "Puerto Moral                                    2.0                      2.0   \n",
       "Villarrasa                                     36.0                      7.0   \n",
       "Palma del Condado (La)                        142.0                     29.0   \n",
       "Valdelarco                                      3.0                      1.0   \n",
       "Villanueva de los Castillejos                  28.0                      4.0   \n",
       "Rosal de la Frontera                            8.0                      5.0   \n",
       "Sierra de Huelva-Andévalo Central             479.0                    180.0   \n",
       "Lepe                                          230.0                     53.0   \n",
       "Cortelazor                                      1.0                      1.0   \n",
       "Higuera de la Sierra                            7.0                      3.0   \n",
       "Escacena del Campo                             25.0                      5.0   \n",
       "Niebla                                         19.0                     10.0   \n",
       "Valverde del Camino                            64.0                     30.0   \n",
       "Almonte                                       125.0                     36.0   \n",
       "Calañas                                        10.0                      7.0   \n",
       "Nerva                                          37.0                     10.0   \n",
       "Gibraleón                                      66.0                     21.0   \n",
       "Zarza-Perrunal (La)                             3.0                      3.0   \n",
       "Aracena                                        74.0                     10.0   \n",
       "Villalba del Alcor                             49.0                      5.0   \n",
       "Huelva                                       2953.0                    673.0   \n",
       "Huelva (capital)                              772.0                    174.0   \n",
       "Cartaya                                        72.0                     30.0   \n",
       "Huelva-Costa                                 1513.0                    329.0   \n",
       "Jabugo                                         18.0                      4.0   \n",
       "Bollullos Par del Condado                     133.0                     15.0   \n",
       "Condado-Campiña                               929.0                    163.0   \n",
       "Aljaraque                                     109.0                     20.0   \n",
       "Galaroza                                        2.0                      2.0   \n",
       "Trigueros                                      49.0                     10.0   \n",
       "Aroche                                         14.0                      4.0   \n",
       "Alosno                                         11.0                      4.0   \n",
       "Ayamonte                                       75.0                     15.0   \n",
       "Isla Cristina                                  98.0                     11.0   \n",
       "San Juan del Puerto                            83.0                      7.0   \n",
       "Palos de la Frontera                           42.0                      9.0   \n",
       "Minas de Riotinto                              23.0                      3.0   \n",
       "Campillo (El)                                  29.0                      2.0   \n",
       "Santa Bárbara de Casa                           8.0                      1.0   \n",
       "Lucena del Puerto                              17.0                      2.0   \n",
       "San Bartolomé de la Torre                       7.0                      1.0   \n",
       "Rociana del Condado                            15.0                      2.0   \n",
       "Punta Umbría                                   47.0                      8.0   \n",
       "Bonares                                        10.0                      2.0   \n",
       "Moguer                                         63.0                      2.0   \n",
       "\n",
       "Medida                             Confirmados PDIA 14 días  Población  \\\n",
       "Lugar de residencia                                                      \n",
       "Granado (El)                                           28.0      516.0   \n",
       "Cortegana                                              87.0     4666.0   \n",
       "Almonaster la Real                                     16.0     1819.0   \n",
       "Cerro de Andévalo (El)                                 19.0     2364.0   \n",
       "Linares de la Sierra                                    2.0      263.0   \n",
       "Puerto Moral                                            2.0      282.0   \n",
       "Villarrasa                                             13.0     2176.0   \n",
       "Palma del Condado (La)                                 50.0    10761.0   \n",
       "Valdelarco                                              1.0      239.0   \n",
       "Villanueva de los Castillejos                          10.0     2820.0   \n",
       "Rosal de la Frontera                                    6.0     1697.0   \n",
       "Sierra de Huelva-Andévalo Central                     235.0    67571.0   \n",
       "Lepe                                                   92.0    27431.0   \n",
       "Cortelazor                                              1.0      299.0   \n",
       "Higuera de la Sierra                                    4.0     1287.0   \n",
       "Escacena del Campo                                      7.0     2284.0   \n",
       "Niebla                                                 12.0     4117.0   \n",
       "Valverde del Camino                                    34.0    12820.0   \n",
       "Almonte                                                61.0    24191.0   \n",
       "Calañas                                                 7.0     2791.0   \n",
       "Nerva                                                  13.0     5235.0   \n",
       "Gibraleón                                              30.0    12607.0   \n",
       "Zarza-Perrunal (La)                                     3.0     1267.0   \n",
       "Aracena                                                18.0     8107.0   \n",
       "Villalba del Alcor                                      7.0     3338.0   \n",
       "Huelva                                               1065.0   510743.0   \n",
       "Huelva (capital)                                      295.0   143663.0   \n",
       "Cartaya                                                41.0    19974.0   \n",
       "Huelva-Costa                                          559.0   288115.0   \n",
       "Jabugo                                                  4.0     2250.0   \n",
       "Bollullos Par del Condado                              25.0    14272.0   \n",
       "Condado-Campiña                                       268.0   155057.0   \n",
       "Aljaraque                                              31.0    21260.0   \n",
       "Galaroza                                                2.0     1379.0   \n",
       "Trigueros                                              11.0     7713.0   \n",
       "Aroche                                                  4.0     3073.0   \n",
       "Alosno                                                  5.0     3923.0   \n",
       "Ayamonte                                               23.0    20946.0   \n",
       "Isla Cristina                                          23.0    21264.0   \n",
       "San Juan del Puerto                                    10.0     9300.0   \n",
       "Palos de la Frontera                                   12.0    11289.0   \n",
       "Minas de Riotinto                                       4.0     3848.0   \n",
       "Campillo (El)                                           2.0     2023.0   \n",
       "Santa Bárbara de Casa                                   1.0     1035.0   \n",
       "Lucena del Puerto                                       3.0     3371.0   \n",
       "San Bartolomé de la Torre                               3.0     3736.0   \n",
       "Rociana del Condado                                     5.0     7855.0   \n",
       "Punta Umbría                                            9.0    15242.0   \n",
       "Bonares                                                 3.0     6058.0   \n",
       "Moguer                                                  9.0    22088.0   \n",
       "\n",
       "Medida                                   tasa7       tasa14  Diferencia PDIA  \n",
       "Lugar de residencia                                                           \n",
       "Granado (El)                       1744.186047  5426.356589              0.0  \n",
       "Cortegana                          1500.214316  1864.552079              9.0  \n",
       "Almonaster la Real                  769.653656   879.604178              5.0  \n",
       "Cerro de Andévalo (El)              296.108291   803.722504              2.0  \n",
       "Linares de la Sierra                760.456274   760.456274              1.0  \n",
       "Puerto Moral                        709.219858   709.219858              0.0  \n",
       "Villarrasa                          321.691176   597.426471              2.0  \n",
       "Palma del Condado (La)              269.491683   464.640833              7.0  \n",
       "Valdelarco                          418.410042   418.410042              0.0  \n",
       "Villanueva de los Castillejos       141.843972   354.609929              0.0  \n",
       "Rosal de la Frontera                294.637596   353.565115              3.0  \n",
       "Sierra de Huelva-Andévalo Central   266.386468   347.782333             43.0  \n",
       "Lepe                                193.212059   335.386971             19.0  \n",
       "Cortelazor                          334.448161   334.448161              0.0  \n",
       "Higuera de la Sierra                233.100233   310.800311              2.0  \n",
       "Escacena del Campo                  218.914186   306.479860              3.0  \n",
       "Niebla                              242.895312   291.474375              1.0  \n",
       "Valverde del Camino                 234.009360   265.210608              5.0  \n",
       "Almonte                             148.815675   252.159894             12.0  \n",
       "Calañas                             250.806163   250.806163              5.0  \n",
       "Nerva                               191.021968   248.328558              1.0  \n",
       "Gibraleón                           166.574125   237.963036              8.0  \n",
       "Zarza-Perrunal (La)                 236.779795   236.779795              0.0  \n",
       "Aracena                             123.350191   222.030344              6.0  \n",
       "Villalba del Alcor                  149.790294   209.706411              2.0  \n",
       "Huelva                              131.768815   208.519745            197.0  \n",
       "Huelva (capital)                    121.116780   205.341668             72.0  \n",
       "Cartaya                             150.195254   205.266847              9.0  \n",
       "Huelva-Costa                        114.190514   194.019749            114.0  \n",
       "Jabugo                              177.777778   177.777778              0.0  \n",
       "Bollullos Par del Condado           105.100897   175.168161              7.0  \n",
       "Condado-Campiña                     105.122632   172.839665             54.0  \n",
       "Aljaraque                            94.073377   145.813735              4.0  \n",
       "Galaroza                            145.032632   145.032632              NaN  \n",
       "Trigueros                           129.651238   142.616362              2.0  \n",
       "Aroche                              130.165962   130.165962              1.0  \n",
       "Alosno                              101.962784   127.453479              1.0  \n",
       "Ayamonte                             71.612718   109.806168              5.0  \n",
       "Isla Cristina                        51.730625   108.164033              2.0  \n",
       "San Juan del Puerto                  75.268817   107.526882              4.0  \n",
       "Palos de la Frontera                 79.723625   106.298166              4.0  \n",
       "Minas de Riotinto                    77.962578   103.950104              1.0  \n",
       "Campillo (El)                        98.863075    98.863075              0.0  \n",
       "Santa Bárbara de Casa                96.618357    96.618357              0.0  \n",
       "Lucena del Puerto                    59.329576    88.994364              1.0  \n",
       "San Bartolomé de la Torre            26.766595    80.299786              0.0  \n",
       "Rociana del Condado                  25.461489    63.653724              1.0  \n",
       "Punta Umbría                         52.486550    59.047369              2.0  \n",
       "Bonares                              33.014196    49.521294              0.0  \n",
       "Moguer                                9.054690    40.746106              0.0  "
      ],
      "text/html": "<div>\n<style scoped>\n    .dataframe tbody tr th:only-of-type {\n        vertical-align: middle;\n    }\n\n    .dataframe tbody tr th {\n        vertical-align: top;\n    }\n\n    .dataframe thead th {\n        text-align: right;\n    }\n</style>\n<table border=\"1\" class=\"dataframe\">\n  <thead>\n    <tr style=\"text-align: right;\">\n      <th>Medida</th>\n      <th>Confirmados PDIA</th>\n      <th>Confirmados PDIA 7 días</th>\n      <th>Confirmados PDIA 14 días</th>\n      <th>Población</th>\n      <th>tasa7</th>\n      <th>tasa14</th>\n      <th>Diferencia PDIA</th>\n    </tr>\n    <tr>\n      <th>Lugar de residencia</th>\n      <th></th>\n      <th></th>\n      <th></th>\n      <th></th>\n      <th></th>\n      <th></th>\n      <th></th>\n    </tr>\n  </thead>\n  <tbody>\n    <tr>\n      <th>Granado (El)</th>\n      <td>31.0</td>\n      <td>9.0</td>\n      <td>28.0</td>\n      <td>516.0</td>\n      <td>1744.186047</td>\n      <td>5426.356589</td>\n      <td>0.0</td>\n    </tr>\n    <tr>\n      <th>Cortegana</th>\n      <td>100.0</td>\n      <td>70.0</td>\n      <td>87.0</td>\n      <td>4666.0</td>\n      <td>1500.214316</td>\n      <td>1864.552079</td>\n      <td>9.0</td>\n    </tr>\n    <tr>\n      <th>Almonaster la Real</th>\n      <td>17.0</td>\n      <td>14.0</td>\n      <td>16.0</td>\n      <td>1819.0</td>\n      <td>769.653656</td>\n      <td>879.604178</td>\n      <td>5.0</td>\n    </tr>\n    <tr>\n      <th>Cerro de Andévalo (El)</th>\n      <td>24.0</td>\n      <td>7.0</td>\n      <td>19.0</td>\n      <td>2364.0</td>\n      <td>296.108291</td>\n      <td>803.722504</td>\n      <td>2.0</td>\n    </tr>\n    <tr>\n      <th>Linares de la Sierra</th>\n      <td>2.0</td>\n      <td>2.0</td>\n      <td>2.0</td>\n      <td>263.0</td>\n      <td>760.456274</td>\n      <td>760.456274</td>\n      <td>1.0</td>\n    </tr>\n    <tr>\n      <th>Puerto Moral</th>\n      <td>2.0</td>\n      <td>2.0</td>\n      <td>2.0</td>\n      <td>282.0</td>\n      <td>709.219858</td>\n      <td>709.219858</td>\n      <td>0.0</td>\n    </tr>\n    <tr>\n      <th>Villarrasa</th>\n      <td>36.0</td>\n      <td>7.0</td>\n      <td>13.0</td>\n      <td>2176.0</td>\n      <td>321.691176</td>\n      <td>597.426471</td>\n      <td>2.0</td>\n    </tr>\n    <tr>\n      <th>Palma del Condado (La)</th>\n      <td>142.0</td>\n      <td>29.0</td>\n      <td>50.0</td>\n      <td>10761.0</td>\n      <td>269.491683</td>\n      <td>464.640833</td>\n      <td>7.0</td>\n    </tr>\n    <tr>\n      <th>Valdelarco</th>\n      <td>3.0</td>\n      <td>1.0</td>\n      <td>1.0</td>\n      <td>239.0</td>\n      <td>418.410042</td>\n      <td>418.410042</td>\n      <td>0.0</td>\n    </tr>\n    <tr>\n      <th>Villanueva de los Castillejos</th>\n      <td>28.0</td>\n      <td>4.0</td>\n      <td>10.0</td>\n      <td>2820.0</td>\n      <td>141.843972</td>\n      <td>354.609929</td>\n      <td>0.0</td>\n    </tr>\n    <tr>\n      <th>Rosal de la Frontera</th>\n      <td>8.0</td>\n      <td>5.0</td>\n      <td>6.0</td>\n      <td>1697.0</td>\n      <td>294.637596</td>\n      <td>353.565115</td>\n      <td>3.0</td>\n    </tr>\n    <tr>\n      <th>Sierra de Huelva-Andévalo Central</th>\n      <td>479.0</td>\n      <td>180.0</td>\n      <td>235.0</td>\n      <td>67571.0</td>\n      <td>266.386468</td>\n      <td>347.782333</td>\n      <td>43.0</td>\n    </tr>\n    <tr>\n      <th>Lepe</th>\n      <td>230.0</td>\n      <td>53.0</td>\n      <td>92.0</td>\n      <td>27431.0</td>\n      <td>193.212059</td>\n      <td>335.386971</td>\n      <td>19.0</td>\n    </tr>\n    <tr>\n      <th>Cortelazor</th>\n      <td>1.0</td>\n      <td>1.0</td>\n      <td>1.0</td>\n      <td>299.0</td>\n      <td>334.448161</td>\n      <td>334.448161</td>\n      <td>0.0</td>\n    </tr>\n    <tr>\n      <th>Higuera de la Sierra</th>\n      <td>7.0</td>\n      <td>3.0</td>\n      <td>4.0</td>\n      <td>1287.0</td>\n      <td>233.100233</td>\n      <td>310.800311</td>\n      <td>2.0</td>\n    </tr>\n    <tr>\n      <th>Escacena del Campo</th>\n      <td>25.0</td>\n      <td>5.0</td>\n      <td>7.0</td>\n      <td>2284.0</td>\n      <td>218.914186</td>\n      <td>306.479860</td>\n      <td>3.0</td>\n    </tr>\n    <tr>\n      <th>Niebla</th>\n      <td>19.0</td>\n      <td>10.0</td>\n      <td>12.0</td>\n      <td>4117.0</td>\n      <td>242.895312</td>\n      <td>291.474375</td>\n      <td>1.0</td>\n    </tr>\n    <tr>\n      <th>Valverde del Camino</th>\n      <td>64.0</td>\n      <td>30.0</td>\n      <td>34.0</td>\n      <td>12820.0</td>\n      <td>234.009360</td>\n      <td>265.210608</td>\n      <td>5.0</td>\n    </tr>\n    <tr>\n      <th>Almonte</th>\n      <td>125.0</td>\n      <td>36.0</td>\n      <td>61.0</td>\n      <td>24191.0</td>\n      <td>148.815675</td>\n      <td>252.159894</td>\n      <td>12.0</td>\n    </tr>\n    <tr>\n      <th>Calañas</th>\n      <td>10.0</td>\n      <td>7.0</td>\n      <td>7.0</td>\n      <td>2791.0</td>\n      <td>250.806163</td>\n      <td>250.806163</td>\n      <td>5.0</td>\n    </tr>\n    <tr>\n      <th>Nerva</th>\n      <td>37.0</td>\n      <td>10.0</td>\n      <td>13.0</td>\n      <td>5235.0</td>\n      <td>191.021968</td>\n      <td>248.328558</td>\n      <td>1.0</td>\n    </tr>\n    <tr>\n      <th>Gibraleón</th>\n      <td>66.0</td>\n      <td>21.0</td>\n      <td>30.0</td>\n      <td>12607.0</td>\n      <td>166.574125</td>\n      <td>237.963036</td>\n      <td>8.0</td>\n    </tr>\n    <tr>\n      <th>Zarza-Perrunal (La)</th>\n      <td>3.0</td>\n      <td>3.0</td>\n      <td>3.0</td>\n      <td>1267.0</td>\n      <td>236.779795</td>\n      <td>236.779795</td>\n      <td>0.0</td>\n    </tr>\n    <tr>\n      <th>Aracena</th>\n      <td>74.0</td>\n      <td>10.0</td>\n      <td>18.0</td>\n      <td>8107.0</td>\n      <td>123.350191</td>\n      <td>222.030344</td>\n      <td>6.0</td>\n    </tr>\n    <tr>\n      <th>Villalba del Alcor</th>\n      <td>49.0</td>\n      <td>5.0</td>\n      <td>7.0</td>\n      <td>3338.0</td>\n      <td>149.790294</td>\n      <td>209.706411</td>\n      <td>2.0</td>\n    </tr>\n    <tr>\n      <th>Huelva</th>\n      <td>2953.0</td>\n      <td>673.0</td>\n      <td>1065.0</td>\n      <td>510743.0</td>\n      <td>131.768815</td>\n      <td>208.519745</td>\n      <td>197.0</td>\n    </tr>\n    <tr>\n      <th>Huelva (capital)</th>\n      <td>772.0</td>\n      <td>174.0</td>\n      <td>295.0</td>\n      <td>143663.0</td>\n      <td>121.116780</td>\n      <td>205.341668</td>\n      <td>72.0</td>\n    </tr>\n    <tr>\n      <th>Cartaya</th>\n      <td>72.0</td>\n      <td>30.0</td>\n      <td>41.0</td>\n      <td>19974.0</td>\n      <td>150.195254</td>\n      <td>205.266847</td>\n      <td>9.0</td>\n    </tr>\n    <tr>\n      <th>Huelva-Costa</th>\n      <td>1513.0</td>\n      <td>329.0</td>\n      <td>559.0</td>\n      <td>288115.0</td>\n      <td>114.190514</td>\n      <td>194.019749</td>\n      <td>114.0</td>\n    </tr>\n    <tr>\n      <th>Jabugo</th>\n      <td>18.0</td>\n      <td>4.0</td>\n      <td>4.0</td>\n      <td>2250.0</td>\n      <td>177.777778</td>\n      <td>177.777778</td>\n      <td>0.0</td>\n    </tr>\n    <tr>\n      <th>Bollullos Par del Condado</th>\n      <td>133.0</td>\n      <td>15.0</td>\n      <td>25.0</td>\n      <td>14272.0</td>\n      <td>105.100897</td>\n      <td>175.168161</td>\n      <td>7.0</td>\n    </tr>\n    <tr>\n      <th>Condado-Campiña</th>\n      <td>929.0</td>\n      <td>163.0</td>\n      <td>268.0</td>\n      <td>155057.0</td>\n      <td>105.122632</td>\n      <td>172.839665</td>\n      <td>54.0</td>\n    </tr>\n    <tr>\n      <th>Aljaraque</th>\n      <td>109.0</td>\n      <td>20.0</td>\n      <td>31.0</td>\n      <td>21260.0</td>\n      <td>94.073377</td>\n      <td>145.813735</td>\n      <td>4.0</td>\n    </tr>\n    <tr>\n      <th>Galaroza</th>\n      <td>2.0</td>\n      <td>2.0</td>\n      <td>2.0</td>\n      <td>1379.0</td>\n      <td>145.032632</td>\n      <td>145.032632</td>\n      <td>NaN</td>\n    </tr>\n    <tr>\n      <th>Trigueros</th>\n      <td>49.0</td>\n      <td>10.0</td>\n      <td>11.0</td>\n      <td>7713.0</td>\n      <td>129.651238</td>\n      <td>142.616362</td>\n      <td>2.0</td>\n    </tr>\n    <tr>\n      <th>Aroche</th>\n      <td>14.0</td>\n      <td>4.0</td>\n      <td>4.0</td>\n      <td>3073.0</td>\n      <td>130.165962</td>\n      <td>130.165962</td>\n      <td>1.0</td>\n    </tr>\n    <tr>\n      <th>Alosno</th>\n      <td>11.0</td>\n      <td>4.0</td>\n      <td>5.0</td>\n      <td>3923.0</td>\n      <td>101.962784</td>\n      <td>127.453479</td>\n      <td>1.0</td>\n    </tr>\n    <tr>\n      <th>Ayamonte</th>\n      <td>75.0</td>\n      <td>15.0</td>\n      <td>23.0</td>\n      <td>20946.0</td>\n      <td>71.612718</td>\n      <td>109.806168</td>\n      <td>5.0</td>\n    </tr>\n    <tr>\n      <th>Isla Cristina</th>\n      <td>98.0</td>\n      <td>11.0</td>\n      <td>23.0</td>\n      <td>21264.0</td>\n      <td>51.730625</td>\n      <td>108.164033</td>\n      <td>2.0</td>\n    </tr>\n    <tr>\n      <th>San Juan del Puerto</th>\n      <td>83.0</td>\n      <td>7.0</td>\n      <td>10.0</td>\n      <td>9300.0</td>\n      <td>75.268817</td>\n      <td>107.526882</td>\n      <td>4.0</td>\n    </tr>\n    <tr>\n      <th>Palos de la Frontera</th>\n      <td>42.0</td>\n      <td>9.0</td>\n      <td>12.0</td>\n      <td>11289.0</td>\n      <td>79.723625</td>\n      <td>106.298166</td>\n      <td>4.0</td>\n    </tr>\n    <tr>\n      <th>Minas de Riotinto</th>\n      <td>23.0</td>\n      <td>3.0</td>\n      <td>4.0</td>\n      <td>3848.0</td>\n      <td>77.962578</td>\n      <td>103.950104</td>\n      <td>1.0</td>\n    </tr>\n    <tr>\n      <th>Campillo (El)</th>\n      <td>29.0</td>\n      <td>2.0</td>\n      <td>2.0</td>\n      <td>2023.0</td>\n      <td>98.863075</td>\n      <td>98.863075</td>\n      <td>0.0</td>\n    </tr>\n    <tr>\n      <th>Santa Bárbara de Casa</th>\n      <td>8.0</td>\n      <td>1.0</td>\n      <td>1.0</td>\n      <td>1035.0</td>\n      <td>96.618357</td>\n      <td>96.618357</td>\n      <td>0.0</td>\n    </tr>\n    <tr>\n      <th>Lucena del Puerto</th>\n      <td>17.0</td>\n      <td>2.0</td>\n      <td>3.0</td>\n      <td>3371.0</td>\n      <td>59.329576</td>\n      <td>88.994364</td>\n      <td>1.0</td>\n    </tr>\n    <tr>\n      <th>San Bartolomé de la Torre</th>\n      <td>7.0</td>\n      <td>1.0</td>\n      <td>3.0</td>\n      <td>3736.0</td>\n      <td>26.766595</td>\n      <td>80.299786</td>\n      <td>0.0</td>\n    </tr>\n    <tr>\n      <th>Rociana del Condado</th>\n      <td>15.0</td>\n      <td>2.0</td>\n      <td>5.0</td>\n      <td>7855.0</td>\n      <td>25.461489</td>\n      <td>63.653724</td>\n      <td>1.0</td>\n    </tr>\n    <tr>\n      <th>Punta Umbría</th>\n      <td>47.0</td>\n      <td>8.0</td>\n      <td>9.0</td>\n      <td>15242.0</td>\n      <td>52.486550</td>\n      <td>59.047369</td>\n      <td>2.0</td>\n    </tr>\n    <tr>\n      <th>Bonares</th>\n      <td>10.0</td>\n      <td>2.0</td>\n      <td>3.0</td>\n      <td>6058.0</td>\n      <td>33.014196</td>\n      <td>49.521294</td>\n      <td>0.0</td>\n    </tr>\n    <tr>\n      <th>Moguer</th>\n      <td>63.0</td>\n      <td>2.0</td>\n      <td>9.0</td>\n      <td>22088.0</td>\n      <td>9.054690</td>\n      <td>40.746106</td>\n      <td>0.0</td>\n    </tr>\n  </tbody>\n</table>\n</div>"
     },
     "metadata": {},
     "execution_count": 17
    }
   ],
   "source": [
    "tabla.sort_values('tasa14', ascending=False)"
   ]
  },
  {
   "cell_type": "code",
   "execution_count": null,
   "metadata": {},
   "outputs": [],
   "source": []
  }
 ]
}