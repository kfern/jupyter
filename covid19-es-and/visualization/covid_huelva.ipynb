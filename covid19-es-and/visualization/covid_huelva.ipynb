{
 "metadata": {
  "language_info": {
   "codemirror_mode": {
    "name": "ipython",
    "version": 3
   },
   "file_extension": ".py",
   "mimetype": "text/x-python",
   "name": "python",
   "nbconvert_exporter": "python",
   "pygments_lexer": "ipython3",
   "version": "3.8.6"
  },
  "orig_nbformat": 2,
  "kernelspec": {
   "name": "python3",
   "display_name": "Python 3",
   "language": "python"
  }
 },
 "nbformat": 4,
 "nbformat_minor": 2,
 "cells": [
  {
   "cell_type": "code",
   "execution_count": 1,
   "metadata": {},
   "outputs": [],
   "source": [
    "import pandas as pd\n",
    "pd.set_option('display.max_rows', None) # Print all rows"
   ]
  },
  {
   "cell_type": "code",
   "execution_count": 2,
   "metadata": {},
   "outputs": [],
   "source": [
    "# FIX SSL: CERTIFICATE_VERIFY_FAILED with Python3\n",
    "# https://stackoverflow.com/a/49174340\n",
    "import ssl\n",
    "\n",
    "ssl._create_default_https_context = ssl._create_unverified_context"
   ]
  },
  {
   "cell_type": "code",
   "execution_count": 3,
   "metadata": {},
   "outputs": [],
   "source": [
    "url = 'https://www.juntadeandalucia.es/institutodeestadisticaycartografia/badea/stpivot/stpivot/Print?cube=013d884c-cfc5-4c21-9e78-e26225682afd&type=3&foto=si&ejecutaDesde=&codConsulta=38668&consTipoVisua=JP'\n",
    "fields = ['Lugar de residencia', 'Medida', 'Valor']\n",
    "df = pd.read_csv(url, delimiter=';', usecols=fields, decimal=',')"
   ]
  },
  {
   "cell_type": "code",
   "execution_count": 4,
   "metadata": {},
   "outputs": [
    {
     "output_type": "execute_result",
     "data": {
      "text/plain": [
       "  Lugar de residencia                    Medida               Valor\n",
       "0              Huelva                 Población              513170\n",
       "1              Huelva          Confirmados PDIA               30241\n",
       "2              Huelva  Confirmados PDIA 14 días                1267\n",
       "3              Huelva         Tasa PDIA 14 días  246,89673987177738\n",
       "4              Huelva   Confirmados PDIA 7 días                 612\n",
       "5              Huelva        Total Confirmados                30420\n",
       "6              Huelva                   Curados               27732\n",
       "7              Huelva                Fallecidos                 377"
      ],
      "text/html": "<div>\n<style scoped>\n    .dataframe tbody tr th:only-of-type {\n        vertical-align: middle;\n    }\n\n    .dataframe tbody tr th {\n        vertical-align: top;\n    }\n\n    .dataframe thead th {\n        text-align: right;\n    }\n</style>\n<table border=\"1\" class=\"dataframe\">\n  <thead>\n    <tr style=\"text-align: right;\">\n      <th></th>\n      <th>Lugar de residencia</th>\n      <th>Medida</th>\n      <th>Valor</th>\n    </tr>\n  </thead>\n  <tbody>\n    <tr>\n      <th>0</th>\n      <td>Huelva</td>\n      <td>Población</td>\n      <td>513170</td>\n    </tr>\n    <tr>\n      <th>1</th>\n      <td>Huelva</td>\n      <td>Confirmados PDIA</td>\n      <td>30241</td>\n    </tr>\n    <tr>\n      <th>2</th>\n      <td>Huelva</td>\n      <td>Confirmados PDIA 14 días</td>\n      <td>1267</td>\n    </tr>\n    <tr>\n      <th>3</th>\n      <td>Huelva</td>\n      <td>Tasa PDIA 14 días</td>\n      <td>246,89673987177738</td>\n    </tr>\n    <tr>\n      <th>4</th>\n      <td>Huelva</td>\n      <td>Confirmados PDIA 7 días</td>\n      <td>612</td>\n    </tr>\n    <tr>\n      <th>5</th>\n      <td>Huelva</td>\n      <td>Total Confirmados</td>\n      <td>30420</td>\n    </tr>\n    <tr>\n      <th>6</th>\n      <td>Huelva</td>\n      <td>Curados</td>\n      <td>27732</td>\n    </tr>\n    <tr>\n      <th>7</th>\n      <td>Huelva</td>\n      <td>Fallecidos</td>\n      <td>377</td>\n    </tr>\n  </tbody>\n</table>\n</div>"
     },
     "metadata": {},
     "execution_count": 4
    }
   ],
   "source": [
    "df[df['Lugar de residencia'] == 'Huelva']"
   ]
  },
  {
   "cell_type": "code",
   "execution_count": 5,
   "metadata": {},
   "outputs": [],
   "source": [
    "df['Valor'] = pd.to_numeric(df['Valor'],errors='coerce')"
   ]
  },
  {
   "cell_type": "code",
   "execution_count": 6,
   "metadata": {},
   "outputs": [],
   "source": [
    "dfAnterior = pd.read_csv('covid_huelva.csv', index_col='Lugar de residencia')"
   ]
  },
  {
   "cell_type": "code",
   "execution_count": 7,
   "metadata": {
    "tags": []
   },
   "outputs": [
    {
     "output_type": "stream",
     "name": "stdout",
     "text": [
      "Confirmados PCR en la provincia de Huelva:  30241.0\n",
      "<ipython-input-7-31b732756b19>:2: UserWarning: Boolean Series key will be reindexed to match DataFrame index.\n",
      "  p = df[df['Lugar de residencia'] == 'Huelva'][df['Medida'] == 'Confirmados PDIA']['Valor'].values[0]\n"
     ]
    }
   ],
   "source": [
    "# Confirmados PCR provincia Huelva\n",
    "p = df[df['Lugar de residencia'] == 'Huelva'][df['Medida'] == 'Confirmados PDIA']['Valor'].values[0]\n",
    "print('Confirmados PCR en la provincia de Huelva: ', p)"
   ]
  },
  {
   "cell_type": "code",
   "execution_count": 8,
   "metadata": {
    "tags": []
   },
   "outputs": [
    {
     "output_type": "stream",
     "name": "stdout",
     "text": [
      "Confirmados PCR en Huelva capital:  7916.0\n",
      "<ipython-input-8-e81bfb40e710>:2: UserWarning: Boolean Series key will be reindexed to match DataFrame index.\n",
      "  c = df[df['Lugar de residencia'] == 'Huelva (capital)'][df['Medida'] == 'Confirmados PDIA']['Valor'].values[0]\n"
     ]
    }
   ],
   "source": [
    "# Confirmados PCR Huelva capitalpd\n",
    "c = df[df['Lugar de residencia'] == 'Huelva (capital)'][df['Medida'] == 'Confirmados PDIA']['Valor'].values[0]\n",
    "print('Confirmados PCR en Huelva capital: ', c)"
   ]
  },
  {
   "cell_type": "code",
   "execution_count": 9,
   "metadata": {
    "tags": []
   },
   "outputs": [
    {
     "output_type": "stream",
     "name": "stderr",
     "text": [
      "<ipython-input-9-f09dd2050cc1>:1: UserWarning: Boolean Series key will be reindexed to match DataFrame index.\n  c7 = df[df['Lugar de residencia'] == 'Huelva (capital)'][df['Medida'] == 'Confirmados PDIA 7 días']['Valor'].values[0]\n<ipython-input-9-f09dd2050cc1>:2: UserWarning: Boolean Series key will be reindexed to match DataFrame index.\n  c14 = df[df['Lugar de residencia'] == 'Huelva (capital)'][df['Medida'] == 'Confirmados PDIA 14 días']['Valor'].values[0]\n<ipython-input-9-f09dd2050cc1>:3: UserWarning: Boolean Series key will be reindexed to match DataFrame index.\n  p = df[df['Lugar de residencia'] == 'Huelva (capital)'][df['Medida'] == 'Población']['Valor'].values[0]\n"
     ]
    }
   ],
   "source": [
    "c7 = df[df['Lugar de residencia'] == 'Huelva (capital)'][df['Medida'] == 'Confirmados PDIA 7 días']['Valor'].values[0]\n",
    "c14 = df[df['Lugar de residencia'] == 'Huelva (capital)'][df['Medida'] == 'Confirmados PDIA 14 días']['Valor'].values[0]\n",
    "p = df[df['Lugar de residencia'] == 'Huelva (capital)'][df['Medida'] == 'Población']['Valor'].values[0]"
   ]
  },
  {
   "cell_type": "code",
   "execution_count": 10,
   "metadata": {
    "tags": []
   },
   "outputs": [
    {
     "output_type": "stream",
     "name": "stdout",
     "text": [
      "Huelva (capital)\n\nUn positivo PCR cada 888 personas en los últimos 7 días \n\nUn positivo PCR cada 396 personas en los últimos 14 días\n"
     ]
    }
   ],
   "source": [
    "print('Huelva (capital)\\n')\n",
    "#print('Confirmados PCR 7 días x 1,000 habitantes: ', f\"{c7/(p/1000):.5f}\")\n",
    "print('Un positivo PCR cada', f\"{p/c7:.0f}\", 'personas en los últimos 7 días', '\\n')\n",
    "#print('Confirmados PCR 14 días x 1,000 habitantes: ', f\"{c14/(p/1000):.5f}\")\n",
    "print('Un positivo PCR cada', f\"{p/c14:.0f}\", 'personas en los últimos 14 días')"
   ]
  },
  {
   "cell_type": "code",
   "execution_count": 11,
   "metadata": {},
   "outputs": [],
   "source": [
    "filtro = ((df['Medida'] == 'Confirmados PDIA')| (df['Medida'] == 'Confirmados PDIA 7 días') | (df['Medida'] == 'Población' ) | (df['Medida'] == 'Confirmados PDIA 14 días')) & (df['Valor'] > 0)\n",
    "tabla = pd.pivot_table(df.loc[filtro], values='Valor', index='Lugar de residencia', columns='Medida').dropna()"
   ]
  },
  {
   "cell_type": "code",
   "execution_count": 12,
   "metadata": {},
   "outputs": [],
   "source": [
    "# Reorder columns\n",
    "tabla = tabla[['Confirmados PDIA', 'Confirmados PDIA 7 días', 'Confirmados PDIA 14 días', 'Población']]"
   ]
  },
  {
   "cell_type": "code",
   "execution_count": 13,
   "metadata": {},
   "outputs": [],
   "source": [
    "tabla['tasa7'] = tabla['Confirmados PDIA 7 días']/tabla['Población']*100000\n",
    "tabla['tasa14'] = tabla['Confirmados PDIA 14 días']/tabla['Población']*100000"
   ]
  },
  {
   "cell_type": "code",
   "execution_count": 14,
   "metadata": {},
   "outputs": [],
   "source": [
    "tabla['Diferencia PDIA'] = tabla['Confirmados PDIA'] - dfAnterior['Confirmados PDIA']"
   ]
  },
  {
   "cell_type": "code",
   "execution_count": 15,
   "metadata": {},
   "outputs": [
    {
     "output_type": "execute_result",
     "data": {
      "text/plain": [
       "Medida                             Confirmados PDIA  Confirmados PDIA 7 días  \\\n",
       "Lugar de residencia                                                            \n",
       "Huelva                                      30241.0                    612.0   \n",
       "Huelva-Costa                                17459.0                    272.0   \n",
       "Huelva (capital)                             7916.0                    162.0   \n",
       "Condado-Campiña                              9766.0                    292.0   \n",
       "Sierra de Huelva-Andévalo Central            2672.0                     45.0   \n",
       "Punta Umbría                                  784.0                     27.0   \n",
       "Palos de la Frontera                          619.0                     12.0   \n",
       "Almonte                                      1730.0                     69.0   \n",
       "Trigueros                                     291.0                     12.0   \n",
       "San Juan del Puerto                           477.0                      9.0   \n",
       "Palma del Condado (La)                       1115.0                     43.0   \n",
       "Valverde del Camino                           530.0                     24.0   \n",
       "Ayamonte                                     1309.0                     12.0   \n",
       "Lepe                                         2107.0                      6.0   \n",
       "Gibraleón                                     607.0                      7.0   \n",
       "Cartaya                                      1313.0                     19.0   \n",
       "Bollullos Par del Condado                     944.0                     44.0   \n",
       "Beas                                          205.0                      1.0   \n",
       "Aracena                                       517.0                      3.0   \n",
       "Aljaraque                                    1040.0                     19.0   \n",
       "Puebla de Guzmán                              112.0                      1.0   \n",
       "\n",
       "Medida                             Confirmados PDIA 14 días  Población  \\\n",
       "Lugar de residencia                                                      \n",
       "Huelva                                               1267.0   513170.0   \n",
       "Huelva-Costa                                          591.0   289548.0   \n",
       "Huelva (capital)                                      363.0   143837.0   \n",
       "Condado-Campiña                                       576.0   156231.0   \n",
       "Sierra de Huelva-Andévalo Central                      97.0    67391.0   \n",
       "Punta Umbría                                           66.0    15355.0   \n",
       "Palos de la Frontera                                   22.0    11742.0   \n",
       "Almonte                                               146.0    24507.0   \n",
       "Trigueros                                              19.0     7862.0   \n",
       "San Juan del Puerto                                    23.0     9411.0   \n",
       "Palma del Condado (La)                                 70.0    10801.0   \n",
       "Valverde del Camino                                    49.0    12750.0   \n",
       "Ayamonte                                               17.0    21104.0   \n",
       "Lepe                                                   22.0    27880.0   \n",
       "Gibraleón                                              14.0    12737.0   \n",
       "Cartaya                                                28.0    20083.0   \n",
       "Bollullos Par del Condado                              88.0    14387.0   \n",
       "Beas                                                    3.0     4341.0   \n",
       "Aracena                                                 4.0     8255.0   \n",
       "Aljaraque                                              31.0    21474.0   \n",
       "Puebla de Guzmán                                        1.0     3092.0   \n",
       "\n",
       "Medida                                  tasa7      tasa14  Diferencia PDIA  \n",
       "Lugar de residencia                                                         \n",
       "Huelva                             119.258725  246.896740             50.0  \n",
       "Huelva-Costa                        93.939520  204.111235             32.0  \n",
       "Huelva (capital)                   112.627488  252.369001             23.0  \n",
       "Condado-Campiña                    186.902727  368.684832             15.0  \n",
       "Sierra de Huelva-Andévalo Central   66.774495  143.936134              3.0  \n",
       "Punta Umbría                       175.838489  429.827418              3.0  \n",
       "Palos de la Frontera               102.197241  187.361608              3.0  \n",
       "Almonte                            281.552210  595.748154              3.0  \n",
       "Trigueros                          152.632918  241.668787              2.0  \n",
       "San Juan del Puerto                 95.632770  244.394857              2.0  \n",
       "Palma del Condado (La)             398.111286  648.088140              2.0  \n",
       "Valverde del Camino                188.235294  384.313725              2.0  \n",
       "Ayamonte                            56.861259   80.553450              2.0  \n",
       "Lepe                                21.520803   78.909613              1.0  \n",
       "Gibraleón                           54.957996  109.915993              1.0  \n",
       "Cartaya                             94.607379  139.421401              1.0  \n",
       "Bollullos Par del Condado          305.831654  611.663307              1.0  \n",
       "Beas                                23.036167   69.108500              1.0  \n",
       "Aracena                             36.341611   48.455482              1.0  \n",
       "Aljaraque                           88.479091  144.360622              1.0  \n",
       "Puebla de Guzmán                    32.341527   32.341527              NaN  "
      ],
      "text/html": "<div>\n<style scoped>\n    .dataframe tbody tr th:only-of-type {\n        vertical-align: middle;\n    }\n\n    .dataframe tbody tr th {\n        vertical-align: top;\n    }\n\n    .dataframe thead th {\n        text-align: right;\n    }\n</style>\n<table border=\"1\" class=\"dataframe\">\n  <thead>\n    <tr style=\"text-align: right;\">\n      <th>Medida</th>\n      <th>Confirmados PDIA</th>\n      <th>Confirmados PDIA 7 días</th>\n      <th>Confirmados PDIA 14 días</th>\n      <th>Población</th>\n      <th>tasa7</th>\n      <th>tasa14</th>\n      <th>Diferencia PDIA</th>\n    </tr>\n    <tr>\n      <th>Lugar de residencia</th>\n      <th></th>\n      <th></th>\n      <th></th>\n      <th></th>\n      <th></th>\n      <th></th>\n      <th></th>\n    </tr>\n  </thead>\n  <tbody>\n    <tr>\n      <th>Huelva</th>\n      <td>30241.0</td>\n      <td>612.0</td>\n      <td>1267.0</td>\n      <td>513170.0</td>\n      <td>119.258725</td>\n      <td>246.896740</td>\n      <td>50.0</td>\n    </tr>\n    <tr>\n      <th>Huelva-Costa</th>\n      <td>17459.0</td>\n      <td>272.0</td>\n      <td>591.0</td>\n      <td>289548.0</td>\n      <td>93.939520</td>\n      <td>204.111235</td>\n      <td>32.0</td>\n    </tr>\n    <tr>\n      <th>Huelva (capital)</th>\n      <td>7916.0</td>\n      <td>162.0</td>\n      <td>363.0</td>\n      <td>143837.0</td>\n      <td>112.627488</td>\n      <td>252.369001</td>\n      <td>23.0</td>\n    </tr>\n    <tr>\n      <th>Condado-Campiña</th>\n      <td>9766.0</td>\n      <td>292.0</td>\n      <td>576.0</td>\n      <td>156231.0</td>\n      <td>186.902727</td>\n      <td>368.684832</td>\n      <td>15.0</td>\n    </tr>\n    <tr>\n      <th>Sierra de Huelva-Andévalo Central</th>\n      <td>2672.0</td>\n      <td>45.0</td>\n      <td>97.0</td>\n      <td>67391.0</td>\n      <td>66.774495</td>\n      <td>143.936134</td>\n      <td>3.0</td>\n    </tr>\n    <tr>\n      <th>Punta Umbría</th>\n      <td>784.0</td>\n      <td>27.0</td>\n      <td>66.0</td>\n      <td>15355.0</td>\n      <td>175.838489</td>\n      <td>429.827418</td>\n      <td>3.0</td>\n    </tr>\n    <tr>\n      <th>Palos de la Frontera</th>\n      <td>619.0</td>\n      <td>12.0</td>\n      <td>22.0</td>\n      <td>11742.0</td>\n      <td>102.197241</td>\n      <td>187.361608</td>\n      <td>3.0</td>\n    </tr>\n    <tr>\n      <th>Almonte</th>\n      <td>1730.0</td>\n      <td>69.0</td>\n      <td>146.0</td>\n      <td>24507.0</td>\n      <td>281.552210</td>\n      <td>595.748154</td>\n      <td>3.0</td>\n    </tr>\n    <tr>\n      <th>Trigueros</th>\n      <td>291.0</td>\n      <td>12.0</td>\n      <td>19.0</td>\n      <td>7862.0</td>\n      <td>152.632918</td>\n      <td>241.668787</td>\n      <td>2.0</td>\n    </tr>\n    <tr>\n      <th>San Juan del Puerto</th>\n      <td>477.0</td>\n      <td>9.0</td>\n      <td>23.0</td>\n      <td>9411.0</td>\n      <td>95.632770</td>\n      <td>244.394857</td>\n      <td>2.0</td>\n    </tr>\n    <tr>\n      <th>Palma del Condado (La)</th>\n      <td>1115.0</td>\n      <td>43.0</td>\n      <td>70.0</td>\n      <td>10801.0</td>\n      <td>398.111286</td>\n      <td>648.088140</td>\n      <td>2.0</td>\n    </tr>\n    <tr>\n      <th>Valverde del Camino</th>\n      <td>530.0</td>\n      <td>24.0</td>\n      <td>49.0</td>\n      <td>12750.0</td>\n      <td>188.235294</td>\n      <td>384.313725</td>\n      <td>2.0</td>\n    </tr>\n    <tr>\n      <th>Ayamonte</th>\n      <td>1309.0</td>\n      <td>12.0</td>\n      <td>17.0</td>\n      <td>21104.0</td>\n      <td>56.861259</td>\n      <td>80.553450</td>\n      <td>2.0</td>\n    </tr>\n    <tr>\n      <th>Lepe</th>\n      <td>2107.0</td>\n      <td>6.0</td>\n      <td>22.0</td>\n      <td>27880.0</td>\n      <td>21.520803</td>\n      <td>78.909613</td>\n      <td>1.0</td>\n    </tr>\n    <tr>\n      <th>Gibraleón</th>\n      <td>607.0</td>\n      <td>7.0</td>\n      <td>14.0</td>\n      <td>12737.0</td>\n      <td>54.957996</td>\n      <td>109.915993</td>\n      <td>1.0</td>\n    </tr>\n    <tr>\n      <th>Cartaya</th>\n      <td>1313.0</td>\n      <td>19.0</td>\n      <td>28.0</td>\n      <td>20083.0</td>\n      <td>94.607379</td>\n      <td>139.421401</td>\n      <td>1.0</td>\n    </tr>\n    <tr>\n      <th>Bollullos Par del Condado</th>\n      <td>944.0</td>\n      <td>44.0</td>\n      <td>88.0</td>\n      <td>14387.0</td>\n      <td>305.831654</td>\n      <td>611.663307</td>\n      <td>1.0</td>\n    </tr>\n    <tr>\n      <th>Beas</th>\n      <td>205.0</td>\n      <td>1.0</td>\n      <td>3.0</td>\n      <td>4341.0</td>\n      <td>23.036167</td>\n      <td>69.108500</td>\n      <td>1.0</td>\n    </tr>\n    <tr>\n      <th>Aracena</th>\n      <td>517.0</td>\n      <td>3.0</td>\n      <td>4.0</td>\n      <td>8255.0</td>\n      <td>36.341611</td>\n      <td>48.455482</td>\n      <td>1.0</td>\n    </tr>\n    <tr>\n      <th>Aljaraque</th>\n      <td>1040.0</td>\n      <td>19.0</td>\n      <td>31.0</td>\n      <td>21474.0</td>\n      <td>88.479091</td>\n      <td>144.360622</td>\n      <td>1.0</td>\n    </tr>\n    <tr>\n      <th>Puebla de Guzmán</th>\n      <td>112.0</td>\n      <td>1.0</td>\n      <td>1.0</td>\n      <td>3092.0</td>\n      <td>32.341527</td>\n      <td>32.341527</td>\n      <td>NaN</td>\n    </tr>\n  </tbody>\n</table>\n</div>"
     },
     "metadata": {},
     "execution_count": 15
    }
   ],
   "source": [
    "# Nuevos casos desde la última captura\n",
    "tabla[tabla['Diferencia PDIA'] != 0].sort_values('Diferencia PDIA', ascending=False)"
   ]
  },
  {
   "cell_type": "code",
   "execution_count": 16,
   "metadata": {},
   "outputs": [],
   "source": [
    "if tabla[tabla['Diferencia PDIA'] != 0]['Diferencia PDIA'].sum() != 0:\n",
    "  # Save to csv\n",
    "  tabla.to_csv('covid_huelva.csv', encoding='utf-8', header=True, index=True)  "
   ]
  },
  {
   "cell_type": "code",
   "execution_count": 17,
   "metadata": {},
   "outputs": [
    {
     "output_type": "execute_result",
     "data": {
      "text/plain": [
       "Medida                             Confirmados PDIA  Confirmados PDIA 7 días  \\\n",
       "Lugar de residencia                                                            \n",
       "Villarrasa                                    163.0                     13.0   \n",
       "Palma del Condado (La)                       1115.0                     43.0   \n",
       "Bollullos Par del Condado                     944.0                     44.0   \n",
       "Almonte                                      1730.0                     69.0   \n",
       "Cabezas Rubias                                 36.0                      4.0   \n",
       "Moguer                                       1215.0                     53.0   \n",
       "Punta Umbría                                  784.0                     27.0   \n",
       "Calañas                                       185.0                      8.0   \n",
       "Valverde del Camino                           530.0                     24.0   \n",
       "Manzanilla                                     94.0                      5.0   \n",
       "Condado-Campiña                              9766.0                    292.0   \n",
       "Niebla                                        211.0                      4.0   \n",
       "Lucena del Puerto                             243.0                      3.0   \n",
       "Campofrío                                       9.0                      2.0   \n",
       "Villalba del Alcor                            480.0                      2.0   \n",
       "Huelva (capital)                             7916.0                    162.0   \n",
       "Huelva                                      30241.0                    612.0   \n",
       "San Juan del Puerto                           477.0                      9.0   \n",
       "Trigueros                                     291.0                     12.0   \n",
       "Isla Cristina                                2129.0                     16.0   \n",
       "Nerva                                         173.0                      4.0   \n",
       "San Bartolomé de la Torre                     291.0                      7.0   \n",
       "Huelva-Costa                                17459.0                    272.0   \n",
       "Palos de la Frontera                          619.0                     12.0   \n",
       "Villablanca                                   187.0                      3.0   \n",
       "Rociana del Condado                           538.0                      4.0   \n",
       "Aljaraque                                    1040.0                     19.0   \n",
       "Sierra de Huelva-Andévalo Central            2672.0                     45.0   \n",
       "Cartaya                                      1313.0                     19.0   \n",
       "Alájar                                         17.0                      1.0   \n",
       "Gibraleón                                     607.0                      7.0   \n",
       "Alosno                                        166.0                      3.0   \n",
       "Bonares                                       263.0                      3.0   \n",
       "Campillo (El)                                  72.0                      2.0   \n",
       "Ayamonte                                     1309.0                     12.0   \n",
       "Zarza-Perrunal (La)                            23.0                      1.0   \n",
       "Lepe                                         2107.0                      6.0   \n",
       "Beas                                          205.0                      1.0   \n",
       "Aracena                                       517.0                      3.0   \n",
       "Puebla de Guzmán                              112.0                      1.0   \n",
       "Paterna del Campo                             126.0                      1.0   \n",
       "\n",
       "Medida                             Confirmados PDIA 14 días  Población  \\\n",
       "Lugar de residencia                                                      \n",
       "Villarrasa                                             16.0     2211.0   \n",
       "Palma del Condado (La)                                 70.0    10801.0   \n",
       "Bollullos Par del Condado                              88.0    14387.0   \n",
       "Almonte                                               146.0    24507.0   \n",
       "Cabezas Rubias                                          4.0      706.0   \n",
       "Moguer                                                 98.0    21867.0   \n",
       "Punta Umbría                                           66.0    15355.0   \n",
       "Calañas                                                11.0     2768.0   \n",
       "Valverde del Camino                                    49.0    12750.0   \n",
       "Manzanilla                                              8.0     2118.0   \n",
       "Condado-Campiña                                       576.0   156231.0   \n",
       "Niebla                                                 15.0     4116.0   \n",
       "Lucena del Puerto                                      10.0     3261.0   \n",
       "Campofrío                                               2.0      713.0   \n",
       "Villalba del Alcor                                      9.0     3366.0   \n",
       "Huelva (capital)                                      363.0   143837.0   \n",
       "Huelva                                               1267.0   513170.0   \n",
       "San Juan del Puerto                                    23.0     9411.0   \n",
       "Trigueros                                              19.0     7862.0   \n",
       "Isla Cristina                                          50.0    21393.0   \n",
       "Nerva                                                  11.0     5169.0   \n",
       "San Bartolomé de la Torre                               8.0     3761.0   \n",
       "Huelva-Costa                                          591.0   289548.0   \n",
       "Palos de la Frontera                                   22.0    11742.0   \n",
       "Villablanca                                             5.0     2885.0   \n",
       "Rociana del Condado                                    13.0     7939.0   \n",
       "Aljaraque                                              31.0    21474.0   \n",
       "Sierra de Huelva-Andévalo Central                      97.0    67391.0   \n",
       "Cartaya                                                28.0    20083.0   \n",
       "Alájar                                                  1.0      759.0   \n",
       "Gibraleón                                              14.0    12737.0   \n",
       "Alosno                                                  4.0     3933.0   \n",
       "Bonares                                                 6.0     6060.0   \n",
       "Campillo (El)                                           2.0     2024.0   \n",
       "Ayamonte                                               17.0    21104.0   \n",
       "Zarza-Perrunal (La)                                     1.0     1253.0   \n",
       "Lepe                                                   22.0    27880.0   \n",
       "Beas                                                    3.0     4341.0   \n",
       "Aracena                                                 4.0     8255.0   \n",
       "Puebla de Guzmán                                        1.0     3092.0   \n",
       "Paterna del Campo                                       1.0     3457.0   \n",
       "\n",
       "Medida                                  tasa7      tasa14  Diferencia PDIA  \n",
       "Lugar de residencia                                                         \n",
       "Villarrasa                         587.969245  723.654455              0.0  \n",
       "Palma del Condado (La)             398.111286  648.088140              2.0  \n",
       "Bollullos Par del Condado          305.831654  611.663307              1.0  \n",
       "Almonte                            281.552210  595.748154              3.0  \n",
       "Cabezas Rubias                     566.572238  566.572238              0.0  \n",
       "Moguer                             242.374354  448.163900              0.0  \n",
       "Punta Umbría                       175.838489  429.827418              3.0  \n",
       "Calañas                            289.017341  397.398844              0.0  \n",
       "Valverde del Camino                188.235294  384.313725              2.0  \n",
       "Manzanilla                         236.071766  377.714825              0.0  \n",
       "Condado-Campiña                    186.902727  368.684832             15.0  \n",
       "Niebla                              97.181730  364.431487              0.0  \n",
       "Lucena del Puerto                   91.996320  306.654400              0.0  \n",
       "Campofrío                          280.504909  280.504909              0.0  \n",
       "Villalba del Alcor                  59.417706  267.379679              0.0  \n",
       "Huelva (capital)                   112.627488  252.369001             23.0  \n",
       "Huelva                             119.258725  246.896740             50.0  \n",
       "San Juan del Puerto                 95.632770  244.394857              2.0  \n",
       "Trigueros                          152.632918  241.668787              2.0  \n",
       "Isla Cristina                       74.790819  233.721311              0.0  \n",
       "Nerva                               77.384407  212.807119              0.0  \n",
       "San Bartolomé de la Torre          186.120713  212.709386              0.0  \n",
       "Huelva-Costa                        93.939520  204.111235             32.0  \n",
       "Palos de la Frontera               102.197241  187.361608              3.0  \n",
       "Villablanca                        103.986135  173.310225              0.0  \n",
       "Rociana del Condado                 50.384179  163.748583              0.0  \n",
       "Aljaraque                           88.479091  144.360622              1.0  \n",
       "Sierra de Huelva-Andévalo Central   66.774495  143.936134              3.0  \n",
       "Cartaya                             94.607379  139.421401              1.0  \n",
       "Alájar                             131.752306  131.752306              0.0  \n",
       "Gibraleón                           54.957996  109.915993              1.0  \n",
       "Alosno                              76.277651  101.703534              0.0  \n",
       "Bonares                             49.504950   99.009901              0.0  \n",
       "Campillo (El)                       98.814229   98.814229              0.0  \n",
       "Ayamonte                            56.861259   80.553450              2.0  \n",
       "Zarza-Perrunal (La)                 79.808460   79.808460              0.0  \n",
       "Lepe                                21.520803   78.909613              1.0  \n",
       "Beas                                23.036167   69.108500              1.0  \n",
       "Aracena                             36.341611   48.455482              1.0  \n",
       "Puebla de Guzmán                    32.341527   32.341527              NaN  \n",
       "Paterna del Campo                   28.926815   28.926815              0.0  "
      ],
      "text/html": "<div>\n<style scoped>\n    .dataframe tbody tr th:only-of-type {\n        vertical-align: middle;\n    }\n\n    .dataframe tbody tr th {\n        vertical-align: top;\n    }\n\n    .dataframe thead th {\n        text-align: right;\n    }\n</style>\n<table border=\"1\" class=\"dataframe\">\n  <thead>\n    <tr style=\"text-align: right;\">\n      <th>Medida</th>\n      <th>Confirmados PDIA</th>\n      <th>Confirmados PDIA 7 días</th>\n      <th>Confirmados PDIA 14 días</th>\n      <th>Población</th>\n      <th>tasa7</th>\n      <th>tasa14</th>\n      <th>Diferencia PDIA</th>\n    </tr>\n    <tr>\n      <th>Lugar de residencia</th>\n      <th></th>\n      <th></th>\n      <th></th>\n      <th></th>\n      <th></th>\n      <th></th>\n      <th></th>\n    </tr>\n  </thead>\n  <tbody>\n    <tr>\n      <th>Villarrasa</th>\n      <td>163.0</td>\n      <td>13.0</td>\n      <td>16.0</td>\n      <td>2211.0</td>\n      <td>587.969245</td>\n      <td>723.654455</td>\n      <td>0.0</td>\n    </tr>\n    <tr>\n      <th>Palma del Condado (La)</th>\n      <td>1115.0</td>\n      <td>43.0</td>\n      <td>70.0</td>\n      <td>10801.0</td>\n      <td>398.111286</td>\n      <td>648.088140</td>\n      <td>2.0</td>\n    </tr>\n    <tr>\n      <th>Bollullos Par del Condado</th>\n      <td>944.0</td>\n      <td>44.0</td>\n      <td>88.0</td>\n      <td>14387.0</td>\n      <td>305.831654</td>\n      <td>611.663307</td>\n      <td>1.0</td>\n    </tr>\n    <tr>\n      <th>Almonte</th>\n      <td>1730.0</td>\n      <td>69.0</td>\n      <td>146.0</td>\n      <td>24507.0</td>\n      <td>281.552210</td>\n      <td>595.748154</td>\n      <td>3.0</td>\n    </tr>\n    <tr>\n      <th>Cabezas Rubias</th>\n      <td>36.0</td>\n      <td>4.0</td>\n      <td>4.0</td>\n      <td>706.0</td>\n      <td>566.572238</td>\n      <td>566.572238</td>\n      <td>0.0</td>\n    </tr>\n    <tr>\n      <th>Moguer</th>\n      <td>1215.0</td>\n      <td>53.0</td>\n      <td>98.0</td>\n      <td>21867.0</td>\n      <td>242.374354</td>\n      <td>448.163900</td>\n      <td>0.0</td>\n    </tr>\n    <tr>\n      <th>Punta Umbría</th>\n      <td>784.0</td>\n      <td>27.0</td>\n      <td>66.0</td>\n      <td>15355.0</td>\n      <td>175.838489</td>\n      <td>429.827418</td>\n      <td>3.0</td>\n    </tr>\n    <tr>\n      <th>Calañas</th>\n      <td>185.0</td>\n      <td>8.0</td>\n      <td>11.0</td>\n      <td>2768.0</td>\n      <td>289.017341</td>\n      <td>397.398844</td>\n      <td>0.0</td>\n    </tr>\n    <tr>\n      <th>Valverde del Camino</th>\n      <td>530.0</td>\n      <td>24.0</td>\n      <td>49.0</td>\n      <td>12750.0</td>\n      <td>188.235294</td>\n      <td>384.313725</td>\n      <td>2.0</td>\n    </tr>\n    <tr>\n      <th>Manzanilla</th>\n      <td>94.0</td>\n      <td>5.0</td>\n      <td>8.0</td>\n      <td>2118.0</td>\n      <td>236.071766</td>\n      <td>377.714825</td>\n      <td>0.0</td>\n    </tr>\n    <tr>\n      <th>Condado-Campiña</th>\n      <td>9766.0</td>\n      <td>292.0</td>\n      <td>576.0</td>\n      <td>156231.0</td>\n      <td>186.902727</td>\n      <td>368.684832</td>\n      <td>15.0</td>\n    </tr>\n    <tr>\n      <th>Niebla</th>\n      <td>211.0</td>\n      <td>4.0</td>\n      <td>15.0</td>\n      <td>4116.0</td>\n      <td>97.181730</td>\n      <td>364.431487</td>\n      <td>0.0</td>\n    </tr>\n    <tr>\n      <th>Lucena del Puerto</th>\n      <td>243.0</td>\n      <td>3.0</td>\n      <td>10.0</td>\n      <td>3261.0</td>\n      <td>91.996320</td>\n      <td>306.654400</td>\n      <td>0.0</td>\n    </tr>\n    <tr>\n      <th>Campofrío</th>\n      <td>9.0</td>\n      <td>2.0</td>\n      <td>2.0</td>\n      <td>713.0</td>\n      <td>280.504909</td>\n      <td>280.504909</td>\n      <td>0.0</td>\n    </tr>\n    <tr>\n      <th>Villalba del Alcor</th>\n      <td>480.0</td>\n      <td>2.0</td>\n      <td>9.0</td>\n      <td>3366.0</td>\n      <td>59.417706</td>\n      <td>267.379679</td>\n      <td>0.0</td>\n    </tr>\n    <tr>\n      <th>Huelva (capital)</th>\n      <td>7916.0</td>\n      <td>162.0</td>\n      <td>363.0</td>\n      <td>143837.0</td>\n      <td>112.627488</td>\n      <td>252.369001</td>\n      <td>23.0</td>\n    </tr>\n    <tr>\n      <th>Huelva</th>\n      <td>30241.0</td>\n      <td>612.0</td>\n      <td>1267.0</td>\n      <td>513170.0</td>\n      <td>119.258725</td>\n      <td>246.896740</td>\n      <td>50.0</td>\n    </tr>\n    <tr>\n      <th>San Juan del Puerto</th>\n      <td>477.0</td>\n      <td>9.0</td>\n      <td>23.0</td>\n      <td>9411.0</td>\n      <td>95.632770</td>\n      <td>244.394857</td>\n      <td>2.0</td>\n    </tr>\n    <tr>\n      <th>Trigueros</th>\n      <td>291.0</td>\n      <td>12.0</td>\n      <td>19.0</td>\n      <td>7862.0</td>\n      <td>152.632918</td>\n      <td>241.668787</td>\n      <td>2.0</td>\n    </tr>\n    <tr>\n      <th>Isla Cristina</th>\n      <td>2129.0</td>\n      <td>16.0</td>\n      <td>50.0</td>\n      <td>21393.0</td>\n      <td>74.790819</td>\n      <td>233.721311</td>\n      <td>0.0</td>\n    </tr>\n    <tr>\n      <th>Nerva</th>\n      <td>173.0</td>\n      <td>4.0</td>\n      <td>11.0</td>\n      <td>5169.0</td>\n      <td>77.384407</td>\n      <td>212.807119</td>\n      <td>0.0</td>\n    </tr>\n    <tr>\n      <th>San Bartolomé de la Torre</th>\n      <td>291.0</td>\n      <td>7.0</td>\n      <td>8.0</td>\n      <td>3761.0</td>\n      <td>186.120713</td>\n      <td>212.709386</td>\n      <td>0.0</td>\n    </tr>\n    <tr>\n      <th>Huelva-Costa</th>\n      <td>17459.0</td>\n      <td>272.0</td>\n      <td>591.0</td>\n      <td>289548.0</td>\n      <td>93.939520</td>\n      <td>204.111235</td>\n      <td>32.0</td>\n    </tr>\n    <tr>\n      <th>Palos de la Frontera</th>\n      <td>619.0</td>\n      <td>12.0</td>\n      <td>22.0</td>\n      <td>11742.0</td>\n      <td>102.197241</td>\n      <td>187.361608</td>\n      <td>3.0</td>\n    </tr>\n    <tr>\n      <th>Villablanca</th>\n      <td>187.0</td>\n      <td>3.0</td>\n      <td>5.0</td>\n      <td>2885.0</td>\n      <td>103.986135</td>\n      <td>173.310225</td>\n      <td>0.0</td>\n    </tr>\n    <tr>\n      <th>Rociana del Condado</th>\n      <td>538.0</td>\n      <td>4.0</td>\n      <td>13.0</td>\n      <td>7939.0</td>\n      <td>50.384179</td>\n      <td>163.748583</td>\n      <td>0.0</td>\n    </tr>\n    <tr>\n      <th>Aljaraque</th>\n      <td>1040.0</td>\n      <td>19.0</td>\n      <td>31.0</td>\n      <td>21474.0</td>\n      <td>88.479091</td>\n      <td>144.360622</td>\n      <td>1.0</td>\n    </tr>\n    <tr>\n      <th>Sierra de Huelva-Andévalo Central</th>\n      <td>2672.0</td>\n      <td>45.0</td>\n      <td>97.0</td>\n      <td>67391.0</td>\n      <td>66.774495</td>\n      <td>143.936134</td>\n      <td>3.0</td>\n    </tr>\n    <tr>\n      <th>Cartaya</th>\n      <td>1313.0</td>\n      <td>19.0</td>\n      <td>28.0</td>\n      <td>20083.0</td>\n      <td>94.607379</td>\n      <td>139.421401</td>\n      <td>1.0</td>\n    </tr>\n    <tr>\n      <th>Alájar</th>\n      <td>17.0</td>\n      <td>1.0</td>\n      <td>1.0</td>\n      <td>759.0</td>\n      <td>131.752306</td>\n      <td>131.752306</td>\n      <td>0.0</td>\n    </tr>\n    <tr>\n      <th>Gibraleón</th>\n      <td>607.0</td>\n      <td>7.0</td>\n      <td>14.0</td>\n      <td>12737.0</td>\n      <td>54.957996</td>\n      <td>109.915993</td>\n      <td>1.0</td>\n    </tr>\n    <tr>\n      <th>Alosno</th>\n      <td>166.0</td>\n      <td>3.0</td>\n      <td>4.0</td>\n      <td>3933.0</td>\n      <td>76.277651</td>\n      <td>101.703534</td>\n      <td>0.0</td>\n    </tr>\n    <tr>\n      <th>Bonares</th>\n      <td>263.0</td>\n      <td>3.0</td>\n      <td>6.0</td>\n      <td>6060.0</td>\n      <td>49.504950</td>\n      <td>99.009901</td>\n      <td>0.0</td>\n    </tr>\n    <tr>\n      <th>Campillo (El)</th>\n      <td>72.0</td>\n      <td>2.0</td>\n      <td>2.0</td>\n      <td>2024.0</td>\n      <td>98.814229</td>\n      <td>98.814229</td>\n      <td>0.0</td>\n    </tr>\n    <tr>\n      <th>Ayamonte</th>\n      <td>1309.0</td>\n      <td>12.0</td>\n      <td>17.0</td>\n      <td>21104.0</td>\n      <td>56.861259</td>\n      <td>80.553450</td>\n      <td>2.0</td>\n    </tr>\n    <tr>\n      <th>Zarza-Perrunal (La)</th>\n      <td>23.0</td>\n      <td>1.0</td>\n      <td>1.0</td>\n      <td>1253.0</td>\n      <td>79.808460</td>\n      <td>79.808460</td>\n      <td>0.0</td>\n    </tr>\n    <tr>\n      <th>Lepe</th>\n      <td>2107.0</td>\n      <td>6.0</td>\n      <td>22.0</td>\n      <td>27880.0</td>\n      <td>21.520803</td>\n      <td>78.909613</td>\n      <td>1.0</td>\n    </tr>\n    <tr>\n      <th>Beas</th>\n      <td>205.0</td>\n      <td>1.0</td>\n      <td>3.0</td>\n      <td>4341.0</td>\n      <td>23.036167</td>\n      <td>69.108500</td>\n      <td>1.0</td>\n    </tr>\n    <tr>\n      <th>Aracena</th>\n      <td>517.0</td>\n      <td>3.0</td>\n      <td>4.0</td>\n      <td>8255.0</td>\n      <td>36.341611</td>\n      <td>48.455482</td>\n      <td>1.0</td>\n    </tr>\n    <tr>\n      <th>Puebla de Guzmán</th>\n      <td>112.0</td>\n      <td>1.0</td>\n      <td>1.0</td>\n      <td>3092.0</td>\n      <td>32.341527</td>\n      <td>32.341527</td>\n      <td>NaN</td>\n    </tr>\n    <tr>\n      <th>Paterna del Campo</th>\n      <td>126.0</td>\n      <td>1.0</td>\n      <td>1.0</td>\n      <td>3457.0</td>\n      <td>28.926815</td>\n      <td>28.926815</td>\n      <td>0.0</td>\n    </tr>\n  </tbody>\n</table>\n</div>"
     },
     "metadata": {},
     "execution_count": 17
    }
   ],
   "source": [
    "tabla.sort_values('tasa14', ascending=False)"
   ]
  },
  {
   "cell_type": "code",
   "execution_count": 18,
   "metadata": {},
   "outputs": [
    {
     "output_type": "execute_result",
     "data": {
      "text/plain": [
       "Medida                             Confirmados PDIA  Confirmados PDIA 7 días  \\\n",
       "Lugar de residencia                                                            \n",
       "Villalba del Alcor                            480.0                      2.0   \n",
       "Niebla                                        211.0                      4.0   \n",
       "Lepe                                         2107.0                      6.0   \n",
       "Lucena del Puerto                             243.0                      3.0   \n",
       "Rociana del Condado                           538.0                      4.0   \n",
       "Isla Cristina                                2129.0                     16.0   \n",
       "Beas                                          205.0                      1.0   \n",
       "Nerva                                         173.0                      4.0   \n",
       "San Juan del Puerto                           477.0                      9.0   \n",
       "Punta Umbría                                  784.0                     27.0   \n",
       "Huelva (capital)                             7916.0                    162.0   \n",
       "Huelva-Costa                                17459.0                    272.0   \n",
       "Sierra de Huelva-Andévalo Central            2672.0                     45.0   \n",
       "Almonte                                      1730.0                     69.0   \n",
       "Huelva                                      30241.0                    612.0   \n",
       "Valverde del Camino                           530.0                     24.0   \n",
       "Bollullos Par del Condado                     944.0                     44.0   \n",
       "Gibraleón                                     607.0                      7.0   \n",
       "Bonares                                       263.0                      3.0   \n",
       "Condado-Campiña                              9766.0                    292.0   \n",
       "Moguer                                       1215.0                     53.0   \n",
       "Palos de la Frontera                          619.0                     12.0   \n",
       "Villablanca                                   187.0                      3.0   \n",
       "Aljaraque                                    1040.0                     19.0   \n",
       "Palma del Condado (La)                       1115.0                     43.0   \n",
       "Manzanilla                                     94.0                      5.0   \n",
       "Trigueros                                     291.0                     12.0   \n",
       "Cartaya                                      1313.0                     19.0   \n",
       "Ayamonte                                     1309.0                     12.0   \n",
       "Calañas                                       185.0                      8.0   \n",
       "Alosno                                        166.0                      3.0   \n",
       "Aracena                                       517.0                      3.0   \n",
       "Villarrasa                                    163.0                     13.0   \n",
       "San Bartolomé de la Torre                     291.0                      7.0   \n",
       "Campillo (El)                                  72.0                      2.0   \n",
       "Puebla de Guzmán                              112.0                      1.0   \n",
       "Paterna del Campo                             126.0                      1.0   \n",
       "Alájar                                         17.0                      1.0   \n",
       "Campofrío                                       9.0                      2.0   \n",
       "Cabezas Rubias                                 36.0                      4.0   \n",
       "Zarza-Perrunal (La)                            23.0                      1.0   \n",
       "\n",
       "Medida                             Confirmados PDIA 14 días  Población  \\\n",
       "Lugar de residencia                                                      \n",
       "Villalba del Alcor                                      9.0     3366.0   \n",
       "Niebla                                                 15.0     4116.0   \n",
       "Lepe                                                   22.0    27880.0   \n",
       "Lucena del Puerto                                      10.0     3261.0   \n",
       "Rociana del Condado                                    13.0     7939.0   \n",
       "Isla Cristina                                          50.0    21393.0   \n",
       "Beas                                                    3.0     4341.0   \n",
       "Nerva                                                  11.0     5169.0   \n",
       "San Juan del Puerto                                    23.0     9411.0   \n",
       "Punta Umbría                                           66.0    15355.0   \n",
       "Huelva (capital)                                      363.0   143837.0   \n",
       "Huelva-Costa                                          591.0   289548.0   \n",
       "Sierra de Huelva-Andévalo Central                      97.0    67391.0   \n",
       "Almonte                                               146.0    24507.0   \n",
       "Huelva                                               1267.0   513170.0   \n",
       "Valverde del Camino                                    49.0    12750.0   \n",
       "Bollullos Par del Condado                              88.0    14387.0   \n",
       "Gibraleón                                              14.0    12737.0   \n",
       "Bonares                                                 6.0     6060.0   \n",
       "Condado-Campiña                                       576.0   156231.0   \n",
       "Moguer                                                 98.0    21867.0   \n",
       "Palos de la Frontera                                   22.0    11742.0   \n",
       "Villablanca                                             5.0     2885.0   \n",
       "Aljaraque                                              31.0    21474.0   \n",
       "Palma del Condado (La)                                 70.0    10801.0   \n",
       "Manzanilla                                              8.0     2118.0   \n",
       "Trigueros                                              19.0     7862.0   \n",
       "Cartaya                                                28.0    20083.0   \n",
       "Ayamonte                                               17.0    21104.0   \n",
       "Calañas                                                11.0     2768.0   \n",
       "Alosno                                                  4.0     3933.0   \n",
       "Aracena                                                 4.0     8255.0   \n",
       "Villarrasa                                             16.0     2211.0   \n",
       "San Bartolomé de la Torre                               8.0     3761.0   \n",
       "Campillo (El)                                           2.0     2024.0   \n",
       "Puebla de Guzmán                                        1.0     3092.0   \n",
       "Paterna del Campo                                       1.0     3457.0   \n",
       "Alájar                                                  1.0      759.0   \n",
       "Campofrío                                               2.0      713.0   \n",
       "Cabezas Rubias                                          4.0      706.0   \n",
       "Zarza-Perrunal (La)                                     1.0     1253.0   \n",
       "\n",
       "Medida                                  tasa7      tasa14  Diferencia PDIA  \\\n",
       "Lugar de residencia                                                          \n",
       "Villalba del Alcor                  59.417706  267.379679              0.0   \n",
       "Niebla                              97.181730  364.431487              0.0   \n",
       "Lepe                                21.520803   78.909613              1.0   \n",
       "Lucena del Puerto                   91.996320  306.654400              0.0   \n",
       "Rociana del Condado                 50.384179  163.748583              0.0   \n",
       "Isla Cristina                       74.790819  233.721311              0.0   \n",
       "Beas                                23.036167   69.108500              1.0   \n",
       "Nerva                               77.384407  212.807119              0.0   \n",
       "San Juan del Puerto                 95.632770  244.394857              2.0   \n",
       "Punta Umbría                       175.838489  429.827418              3.0   \n",
       "Huelva (capital)                   112.627488  252.369001             23.0   \n",
       "Huelva-Costa                        93.939520  204.111235             32.0   \n",
       "Sierra de Huelva-Andévalo Central   66.774495  143.936134              3.0   \n",
       "Almonte                            281.552210  595.748154              3.0   \n",
       "Huelva                             119.258725  246.896740             50.0   \n",
       "Valverde del Camino                188.235294  384.313725              2.0   \n",
       "Bollullos Par del Condado          305.831654  611.663307              1.0   \n",
       "Gibraleón                           54.957996  109.915993              1.0   \n",
       "Bonares                             49.504950   99.009901              0.0   \n",
       "Condado-Campiña                    186.902727  368.684832             15.0   \n",
       "Moguer                             242.374354  448.163900              0.0   \n",
       "Palos de la Frontera               102.197241  187.361608              3.0   \n",
       "Villablanca                        103.986135  173.310225              0.0   \n",
       "Aljaraque                           88.479091  144.360622              1.0   \n",
       "Palma del Condado (La)             398.111286  648.088140              2.0   \n",
       "Manzanilla                         236.071766  377.714825              0.0   \n",
       "Trigueros                          152.632918  241.668787              2.0   \n",
       "Cartaya                             94.607379  139.421401              1.0   \n",
       "Ayamonte                            56.861259   80.553450              2.0   \n",
       "Calañas                            289.017341  397.398844              0.0   \n",
       "Alosno                              76.277651  101.703534              0.0   \n",
       "Aracena                             36.341611   48.455482              1.0   \n",
       "Villarrasa                         587.969245  723.654455              0.0   \n",
       "San Bartolomé de la Torre          186.120713  212.709386              0.0   \n",
       "Campillo (El)                       98.814229   98.814229              0.0   \n",
       "Puebla de Guzmán                    32.341527   32.341527              0.0   \n",
       "Paterna del Campo                   28.926815   28.926815              0.0   \n",
       "Alájar                             131.752306  131.752306              0.0   \n",
       "Campofrío                          280.504909  280.504909              0.0   \n",
       "Cabezas Rubias                     566.572238  566.572238              0.0   \n",
       "Zarza-Perrunal (La)                 79.808460   79.808460              0.0   \n",
       "\n",
       "Medida                                 7/14  \n",
       "Lugar de residencia                          \n",
       "Villalba del Alcor                 0.222222  \n",
       "Niebla                             0.266667  \n",
       "Lepe                               0.272727  \n",
       "Lucena del Puerto                  0.300000  \n",
       "Rociana del Condado                0.307692  \n",
       "Isla Cristina                      0.320000  \n",
       "Beas                               0.333333  \n",
       "Nerva                              0.363636  \n",
       "San Juan del Puerto                0.391304  \n",
       "Punta Umbría                       0.409091  \n",
       "Huelva (capital)                   0.446281  \n",
       "Huelva-Costa                       0.460237  \n",
       "Sierra de Huelva-Andévalo Central  0.463918  \n",
       "Almonte                            0.472603  \n",
       "Huelva                             0.483031  \n",
       "Valverde del Camino                0.489796  \n",
       "Bollullos Par del Condado          0.500000  \n",
       "Gibraleón                          0.500000  \n",
       "Bonares                            0.500000  \n",
       "Condado-Campiña                    0.506944  \n",
       "Moguer                             0.540816  \n",
       "Palos de la Frontera               0.545455  \n",
       "Villablanca                        0.600000  \n",
       "Aljaraque                          0.612903  \n",
       "Palma del Condado (La)             0.614286  \n",
       "Manzanilla                         0.625000  \n",
       "Trigueros                          0.631579  \n",
       "Cartaya                            0.678571  \n",
       "Ayamonte                           0.705882  \n",
       "Calañas                            0.727273  \n",
       "Alosno                             0.750000  \n",
       "Aracena                            0.750000  \n",
       "Villarrasa                         0.812500  \n",
       "San Bartolomé de la Torre          0.875000  \n",
       "Campillo (El)                      1.000000  \n",
       "Puebla de Guzmán                   1.000000  \n",
       "Paterna del Campo                  1.000000  \n",
       "Alájar                             1.000000  \n",
       "Campofrío                          1.000000  \n",
       "Cabezas Rubias                     1.000000  \n",
       "Zarza-Perrunal (La)                1.000000  "
      ],
      "text/html": "<div>\n<style scoped>\n    .dataframe tbody tr th:only-of-type {\n        vertical-align: middle;\n    }\n\n    .dataframe tbody tr th {\n        vertical-align: top;\n    }\n\n    .dataframe thead th {\n        text-align: right;\n    }\n</style>\n<table border=\"1\" class=\"dataframe\">\n  <thead>\n    <tr style=\"text-align: right;\">\n      <th>Medida</th>\n      <th>Confirmados PDIA</th>\n      <th>Confirmados PDIA 7 días</th>\n      <th>Confirmados PDIA 14 días</th>\n      <th>Población</th>\n      <th>tasa7</th>\n      <th>tasa14</th>\n      <th>Diferencia PDIA</th>\n      <th>7/14</th>\n    </tr>\n    <tr>\n      <th>Lugar de residencia</th>\n      <th></th>\n      <th></th>\n      <th></th>\n      <th></th>\n      <th></th>\n      <th></th>\n      <th></th>\n      <th></th>\n    </tr>\n  </thead>\n  <tbody>\n    <tr>\n      <th>Villalba del Alcor</th>\n      <td>480.0</td>\n      <td>2.0</td>\n      <td>9.0</td>\n      <td>3366.0</td>\n      <td>59.417706</td>\n      <td>267.379679</td>\n      <td>0.0</td>\n      <td>0.222222</td>\n    </tr>\n    <tr>\n      <th>Niebla</th>\n      <td>211.0</td>\n      <td>4.0</td>\n      <td>15.0</td>\n      <td>4116.0</td>\n      <td>97.181730</td>\n      <td>364.431487</td>\n      <td>0.0</td>\n      <td>0.266667</td>\n    </tr>\n    <tr>\n      <th>Lepe</th>\n      <td>2107.0</td>\n      <td>6.0</td>\n      <td>22.0</td>\n      <td>27880.0</td>\n      <td>21.520803</td>\n      <td>78.909613</td>\n      <td>1.0</td>\n      <td>0.272727</td>\n    </tr>\n    <tr>\n      <th>Lucena del Puerto</th>\n      <td>243.0</td>\n      <td>3.0</td>\n      <td>10.0</td>\n      <td>3261.0</td>\n      <td>91.996320</td>\n      <td>306.654400</td>\n      <td>0.0</td>\n      <td>0.300000</td>\n    </tr>\n    <tr>\n      <th>Rociana del Condado</th>\n      <td>538.0</td>\n      <td>4.0</td>\n      <td>13.0</td>\n      <td>7939.0</td>\n      <td>50.384179</td>\n      <td>163.748583</td>\n      <td>0.0</td>\n      <td>0.307692</td>\n    </tr>\n    <tr>\n      <th>Isla Cristina</th>\n      <td>2129.0</td>\n      <td>16.0</td>\n      <td>50.0</td>\n      <td>21393.0</td>\n      <td>74.790819</td>\n      <td>233.721311</td>\n      <td>0.0</td>\n      <td>0.320000</td>\n    </tr>\n    <tr>\n      <th>Beas</th>\n      <td>205.0</td>\n      <td>1.0</td>\n      <td>3.0</td>\n      <td>4341.0</td>\n      <td>23.036167</td>\n      <td>69.108500</td>\n      <td>1.0</td>\n      <td>0.333333</td>\n    </tr>\n    <tr>\n      <th>Nerva</th>\n      <td>173.0</td>\n      <td>4.0</td>\n      <td>11.0</td>\n      <td>5169.0</td>\n      <td>77.384407</td>\n      <td>212.807119</td>\n      <td>0.0</td>\n      <td>0.363636</td>\n    </tr>\n    <tr>\n      <th>San Juan del Puerto</th>\n      <td>477.0</td>\n      <td>9.0</td>\n      <td>23.0</td>\n      <td>9411.0</td>\n      <td>95.632770</td>\n      <td>244.394857</td>\n      <td>2.0</td>\n      <td>0.391304</td>\n    </tr>\n    <tr>\n      <th>Punta Umbría</th>\n      <td>784.0</td>\n      <td>27.0</td>\n      <td>66.0</td>\n      <td>15355.0</td>\n      <td>175.838489</td>\n      <td>429.827418</td>\n      <td>3.0</td>\n      <td>0.409091</td>\n    </tr>\n    <tr>\n      <th>Huelva (capital)</th>\n      <td>7916.0</td>\n      <td>162.0</td>\n      <td>363.0</td>\n      <td>143837.0</td>\n      <td>112.627488</td>\n      <td>252.369001</td>\n      <td>23.0</td>\n      <td>0.446281</td>\n    </tr>\n    <tr>\n      <th>Huelva-Costa</th>\n      <td>17459.0</td>\n      <td>272.0</td>\n      <td>591.0</td>\n      <td>289548.0</td>\n      <td>93.939520</td>\n      <td>204.111235</td>\n      <td>32.0</td>\n      <td>0.460237</td>\n    </tr>\n    <tr>\n      <th>Sierra de Huelva-Andévalo Central</th>\n      <td>2672.0</td>\n      <td>45.0</td>\n      <td>97.0</td>\n      <td>67391.0</td>\n      <td>66.774495</td>\n      <td>143.936134</td>\n      <td>3.0</td>\n      <td>0.463918</td>\n    </tr>\n    <tr>\n      <th>Almonte</th>\n      <td>1730.0</td>\n      <td>69.0</td>\n      <td>146.0</td>\n      <td>24507.0</td>\n      <td>281.552210</td>\n      <td>595.748154</td>\n      <td>3.0</td>\n      <td>0.472603</td>\n    </tr>\n    <tr>\n      <th>Huelva</th>\n      <td>30241.0</td>\n      <td>612.0</td>\n      <td>1267.0</td>\n      <td>513170.0</td>\n      <td>119.258725</td>\n      <td>246.896740</td>\n      <td>50.0</td>\n      <td>0.483031</td>\n    </tr>\n    <tr>\n      <th>Valverde del Camino</th>\n      <td>530.0</td>\n      <td>24.0</td>\n      <td>49.0</td>\n      <td>12750.0</td>\n      <td>188.235294</td>\n      <td>384.313725</td>\n      <td>2.0</td>\n      <td>0.489796</td>\n    </tr>\n    <tr>\n      <th>Bollullos Par del Condado</th>\n      <td>944.0</td>\n      <td>44.0</td>\n      <td>88.0</td>\n      <td>14387.0</td>\n      <td>305.831654</td>\n      <td>611.663307</td>\n      <td>1.0</td>\n      <td>0.500000</td>\n    </tr>\n    <tr>\n      <th>Gibraleón</th>\n      <td>607.0</td>\n      <td>7.0</td>\n      <td>14.0</td>\n      <td>12737.0</td>\n      <td>54.957996</td>\n      <td>109.915993</td>\n      <td>1.0</td>\n      <td>0.500000</td>\n    </tr>\n    <tr>\n      <th>Bonares</th>\n      <td>263.0</td>\n      <td>3.0</td>\n      <td>6.0</td>\n      <td>6060.0</td>\n      <td>49.504950</td>\n      <td>99.009901</td>\n      <td>0.0</td>\n      <td>0.500000</td>\n    </tr>\n    <tr>\n      <th>Condado-Campiña</th>\n      <td>9766.0</td>\n      <td>292.0</td>\n      <td>576.0</td>\n      <td>156231.0</td>\n      <td>186.902727</td>\n      <td>368.684832</td>\n      <td>15.0</td>\n      <td>0.506944</td>\n    </tr>\n    <tr>\n      <th>Moguer</th>\n      <td>1215.0</td>\n      <td>53.0</td>\n      <td>98.0</td>\n      <td>21867.0</td>\n      <td>242.374354</td>\n      <td>448.163900</td>\n      <td>0.0</td>\n      <td>0.540816</td>\n    </tr>\n    <tr>\n      <th>Palos de la Frontera</th>\n      <td>619.0</td>\n      <td>12.0</td>\n      <td>22.0</td>\n      <td>11742.0</td>\n      <td>102.197241</td>\n      <td>187.361608</td>\n      <td>3.0</td>\n      <td>0.545455</td>\n    </tr>\n    <tr>\n      <th>Villablanca</th>\n      <td>187.0</td>\n      <td>3.0</td>\n      <td>5.0</td>\n      <td>2885.0</td>\n      <td>103.986135</td>\n      <td>173.310225</td>\n      <td>0.0</td>\n      <td>0.600000</td>\n    </tr>\n    <tr>\n      <th>Aljaraque</th>\n      <td>1040.0</td>\n      <td>19.0</td>\n      <td>31.0</td>\n      <td>21474.0</td>\n      <td>88.479091</td>\n      <td>144.360622</td>\n      <td>1.0</td>\n      <td>0.612903</td>\n    </tr>\n    <tr>\n      <th>Palma del Condado (La)</th>\n      <td>1115.0</td>\n      <td>43.0</td>\n      <td>70.0</td>\n      <td>10801.0</td>\n      <td>398.111286</td>\n      <td>648.088140</td>\n      <td>2.0</td>\n      <td>0.614286</td>\n    </tr>\n    <tr>\n      <th>Manzanilla</th>\n      <td>94.0</td>\n      <td>5.0</td>\n      <td>8.0</td>\n      <td>2118.0</td>\n      <td>236.071766</td>\n      <td>377.714825</td>\n      <td>0.0</td>\n      <td>0.625000</td>\n    </tr>\n    <tr>\n      <th>Trigueros</th>\n      <td>291.0</td>\n      <td>12.0</td>\n      <td>19.0</td>\n      <td>7862.0</td>\n      <td>152.632918</td>\n      <td>241.668787</td>\n      <td>2.0</td>\n      <td>0.631579</td>\n    </tr>\n    <tr>\n      <th>Cartaya</th>\n      <td>1313.0</td>\n      <td>19.0</td>\n      <td>28.0</td>\n      <td>20083.0</td>\n      <td>94.607379</td>\n      <td>139.421401</td>\n      <td>1.0</td>\n      <td>0.678571</td>\n    </tr>\n    <tr>\n      <th>Ayamonte</th>\n      <td>1309.0</td>\n      <td>12.0</td>\n      <td>17.0</td>\n      <td>21104.0</td>\n      <td>56.861259</td>\n      <td>80.553450</td>\n      <td>2.0</td>\n      <td>0.705882</td>\n    </tr>\n    <tr>\n      <th>Calañas</th>\n      <td>185.0</td>\n      <td>8.0</td>\n      <td>11.0</td>\n      <td>2768.0</td>\n      <td>289.017341</td>\n      <td>397.398844</td>\n      <td>0.0</td>\n      <td>0.727273</td>\n    </tr>\n    <tr>\n      <th>Alosno</th>\n      <td>166.0</td>\n      <td>3.0</td>\n      <td>4.0</td>\n      <td>3933.0</td>\n      <td>76.277651</td>\n      <td>101.703534</td>\n      <td>0.0</td>\n      <td>0.750000</td>\n    </tr>\n    <tr>\n      <th>Aracena</th>\n      <td>517.0</td>\n      <td>3.0</td>\n      <td>4.0</td>\n      <td>8255.0</td>\n      <td>36.341611</td>\n      <td>48.455482</td>\n      <td>1.0</td>\n      <td>0.750000</td>\n    </tr>\n    <tr>\n      <th>Villarrasa</th>\n      <td>163.0</td>\n      <td>13.0</td>\n      <td>16.0</td>\n      <td>2211.0</td>\n      <td>587.969245</td>\n      <td>723.654455</td>\n      <td>0.0</td>\n      <td>0.812500</td>\n    </tr>\n    <tr>\n      <th>San Bartolomé de la Torre</th>\n      <td>291.0</td>\n      <td>7.0</td>\n      <td>8.0</td>\n      <td>3761.0</td>\n      <td>186.120713</td>\n      <td>212.709386</td>\n      <td>0.0</td>\n      <td>0.875000</td>\n    </tr>\n    <tr>\n      <th>Campillo (El)</th>\n      <td>72.0</td>\n      <td>2.0</td>\n      <td>2.0</td>\n      <td>2024.0</td>\n      <td>98.814229</td>\n      <td>98.814229</td>\n      <td>0.0</td>\n      <td>1.000000</td>\n    </tr>\n    <tr>\n      <th>Puebla de Guzmán</th>\n      <td>112.0</td>\n      <td>1.0</td>\n      <td>1.0</td>\n      <td>3092.0</td>\n      <td>32.341527</td>\n      <td>32.341527</td>\n      <td>0.0</td>\n      <td>1.000000</td>\n    </tr>\n    <tr>\n      <th>Paterna del Campo</th>\n      <td>126.0</td>\n      <td>1.0</td>\n      <td>1.0</td>\n      <td>3457.0</td>\n      <td>28.926815</td>\n      <td>28.926815</td>\n      <td>0.0</td>\n      <td>1.000000</td>\n    </tr>\n    <tr>\n      <th>Alájar</th>\n      <td>17.0</td>\n      <td>1.0</td>\n      <td>1.0</td>\n      <td>759.0</td>\n      <td>131.752306</td>\n      <td>131.752306</td>\n      <td>0.0</td>\n      <td>1.000000</td>\n    </tr>\n    <tr>\n      <th>Campofrío</th>\n      <td>9.0</td>\n      <td>2.0</td>\n      <td>2.0</td>\n      <td>713.0</td>\n      <td>280.504909</td>\n      <td>280.504909</td>\n      <td>0.0</td>\n      <td>1.000000</td>\n    </tr>\n    <tr>\n      <th>Cabezas Rubias</th>\n      <td>36.0</td>\n      <td>4.0</td>\n      <td>4.0</td>\n      <td>706.0</td>\n      <td>566.572238</td>\n      <td>566.572238</td>\n      <td>0.0</td>\n      <td>1.000000</td>\n    </tr>\n    <tr>\n      <th>Zarza-Perrunal (La)</th>\n      <td>23.0</td>\n      <td>1.0</td>\n      <td>1.0</td>\n      <td>1253.0</td>\n      <td>79.808460</td>\n      <td>79.808460</td>\n      <td>0.0</td>\n      <td>1.000000</td>\n    </tr>\n  </tbody>\n</table>\n</div>"
     },
     "metadata": {},
     "execution_count": 18
    }
   ],
   "source": [
    "# Peso de la tasa de la última semana en relación con la tasa a 14 días \n",
    "# Mejor cuanto menor. Valor 1 significa que no había casos antes de 7 días.\n",
    "tabla['7/14'] = tabla['tasa7'] / tabla['tasa14']\n",
    "tabla.fillna(0).sort_values('7/14', ascending=True)"
   ]
  },
  {
   "cell_type": "code",
   "execution_count": null,
   "metadata": {},
   "outputs": [],
   "source": []
  }
 ]
}