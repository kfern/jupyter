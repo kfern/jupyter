{
 "metadata": {
  "language_info": {
   "codemirror_mode": {
    "name": "ipython",
    "version": 3
   },
   "file_extension": ".py",
   "mimetype": "text/x-python",
   "name": "python",
   "nbconvert_exporter": "python",
   "pygments_lexer": "ipython3",
   "version": "3.8.6-final"
  },
  "orig_nbformat": 2,
  "kernelspec": {
   "name": "python38564bit75945252d6ba481bad4868286020c89e",
   "display_name": "Python 3.8.5 64-bit",
   "language": "python"
  }
 },
 "nbformat": 4,
 "nbformat_minor": 2,
 "cells": [
  {
   "cell_type": "code",
   "execution_count": 1,
   "metadata": {},
   "outputs": [],
   "source": [
    "import pandas as pd"
   ]
  },
  {
   "cell_type": "code",
   "execution_count": 2,
   "metadata": {},
   "outputs": [],
   "source": [
    "# FIX SSL: CERTIFICATE_VERIFY_FAILED with Python3\n",
    "# https://stackoverflow.com/a/49174340\n",
    "import ssl\n",
    "\n",
    "ssl._create_default_https_context = ssl._create_unverified_context"
   ]
  },
  {
   "cell_type": "code",
   "execution_count": 3,
   "metadata": {},
   "outputs": [],
   "source": [
    "url = 'https://www.juntadeandalucia.es/institutodeestadisticaycartografia/badea/stpivot/stpivot/Print?cube=013d884c-cfc5-4c21-9e78-e26225682afd&type=3&foto=si&ejecutaDesde=&codConsulta=38668&consTipoVisua=JP'\n",
    "fields = ['Lugar de residencia', 'Medida', 'Valor']\n",
    "df = pd.read_csv(url, delimiter=';', usecols=fields, decimal=',')"
   ]
  },
  {
   "cell_type": "code",
   "execution_count": 4,
   "metadata": {},
   "outputs": [
    {
     "output_type": "execute_result",
     "data": {
      "text/plain": [
       "                     Lugar de residencia                    Medida  \\\n",
       "0                                 Huelva                 Población   \n",
       "1                                 Huelva          Confirmados PDIA   \n",
       "2                                 Huelva  Confirmados PDIA 14 días   \n",
       "3                                 Huelva         Tasa PDIA 14 días   \n",
       "4                                 Huelva   Confirmados PDIA 7 días   \n",
       "..                                   ...                       ...   \n",
       "627  Municipio de Huelva sin especificar         Tasa PDIA 14 días   \n",
       "628  Municipio de Huelva sin especificar   Confirmados PDIA 7 días   \n",
       "629  Municipio de Huelva sin especificar        Total Confirmados    \n",
       "630  Municipio de Huelva sin especificar                   Curados   \n",
       "631  Municipio de Huelva sin especificar                Fallecidos   \n",
       "\n",
       "                  Valor  \n",
       "0                510743  \n",
       "1                 12163  \n",
       "2                   892  \n",
       "3    174,64752331407382  \n",
       "4                   462  \n",
       "..                  ...  \n",
       "627                   -  \n",
       "628                   9  \n",
       "629                 158  \n",
       "630                 115  \n",
       "631                   2  \n",
       "\n",
       "[632 rows x 3 columns]"
      ],
      "text/html": "<div>\n<style scoped>\n    .dataframe tbody tr th:only-of-type {\n        vertical-align: middle;\n    }\n\n    .dataframe tbody tr th {\n        vertical-align: top;\n    }\n\n    .dataframe thead th {\n        text-align: right;\n    }\n</style>\n<table border=\"1\" class=\"dataframe\">\n  <thead>\n    <tr style=\"text-align: right;\">\n      <th></th>\n      <th>Lugar de residencia</th>\n      <th>Medida</th>\n      <th>Valor</th>\n    </tr>\n  </thead>\n  <tbody>\n    <tr>\n      <th>0</th>\n      <td>Huelva</td>\n      <td>Población</td>\n      <td>510743</td>\n    </tr>\n    <tr>\n      <th>1</th>\n      <td>Huelva</td>\n      <td>Confirmados PDIA</td>\n      <td>12163</td>\n    </tr>\n    <tr>\n      <th>2</th>\n      <td>Huelva</td>\n      <td>Confirmados PDIA 14 días</td>\n      <td>892</td>\n    </tr>\n    <tr>\n      <th>3</th>\n      <td>Huelva</td>\n      <td>Tasa PDIA 14 días</td>\n      <td>174,64752331407382</td>\n    </tr>\n    <tr>\n      <th>4</th>\n      <td>Huelva</td>\n      <td>Confirmados PDIA 7 días</td>\n      <td>462</td>\n    </tr>\n    <tr>\n      <th>...</th>\n      <td>...</td>\n      <td>...</td>\n      <td>...</td>\n    </tr>\n    <tr>\n      <th>627</th>\n      <td>Municipio de Huelva sin especificar</td>\n      <td>Tasa PDIA 14 días</td>\n      <td>-</td>\n    </tr>\n    <tr>\n      <th>628</th>\n      <td>Municipio de Huelva sin especificar</td>\n      <td>Confirmados PDIA 7 días</td>\n      <td>9</td>\n    </tr>\n    <tr>\n      <th>629</th>\n      <td>Municipio de Huelva sin especificar</td>\n      <td>Total Confirmados</td>\n      <td>158</td>\n    </tr>\n    <tr>\n      <th>630</th>\n      <td>Municipio de Huelva sin especificar</td>\n      <td>Curados</td>\n      <td>115</td>\n    </tr>\n    <tr>\n      <th>631</th>\n      <td>Municipio de Huelva sin especificar</td>\n      <td>Fallecidos</td>\n      <td>2</td>\n    </tr>\n  </tbody>\n</table>\n<p>632 rows × 3 columns</p>\n</div>"
     },
     "metadata": {},
     "execution_count": 4
    }
   ],
   "source": [
    "df"
   ]
  },
  {
   "cell_type": "code",
   "execution_count": 5,
   "metadata": {},
   "outputs": [],
   "source": [
    "df['Valor'] = pd.to_numeric(df['Valor'],errors='coerce')"
   ]
  },
  {
   "cell_type": "code",
   "execution_count": 6,
   "metadata": {},
   "outputs": [],
   "source": [
    "dfAnterior = pd.read_csv('covid_huelva.csv', index_col='Lugar de residencia')"
   ]
  },
  {
   "cell_type": "code",
   "execution_count": 7,
   "metadata": {
    "tags": []
   },
   "outputs": [
    {
     "output_type": "stream",
     "name": "stdout",
     "text": [
      "Confirmados PCR en la provincia de Huelva:  12163.0\n"
     ]
    }
   ],
   "source": [
    "# Confirmados PCR provincia Huelva\n",
    "p = df[df['Lugar de residencia'] == 'Huelva'][df['Medida'] == 'Confirmados PDIA']['Valor'].values[0]\n",
    "print('Confirmados PCR en la provincia de Huelva: ', p)"
   ]
  },
  {
   "cell_type": "code",
   "execution_count": 8,
   "metadata": {
    "tags": []
   },
   "outputs": [
    {
     "output_type": "stream",
     "name": "stdout",
     "text": [
      "Confirmados PCR en Huelva capital:  3473.0\n"
     ]
    }
   ],
   "source": [
    "# Confirmados PCR Huelva capitalpd\n",
    "c = df[df['Lugar de residencia'] == 'Huelva (capital)'][df['Medida'] == 'Confirmados PDIA']['Valor'].values[0]\n",
    "print('Confirmados PCR en Huelva capital: ', c)"
   ]
  },
  {
   "cell_type": "code",
   "execution_count": 9,
   "metadata": {
    "tags": []
   },
   "outputs": [],
   "source": [
    "c7 = df[df['Lugar de residencia'] == 'Huelva (capital)'][df['Medida'] == 'Confirmados PDIA 7 días']['Valor'].values[0]\n",
    "c14 = df[df['Lugar de residencia'] == 'Huelva (capital)'][df['Medida'] == 'Confirmados PDIA 14 días']['Valor'].values[0]\n",
    "p = df[df['Lugar de residencia'] == 'Huelva (capital)'][df['Medida'] == 'Población']['Valor'].values[0]"
   ]
  },
  {
   "cell_type": "code",
   "execution_count": 10,
   "metadata": {
    "tags": []
   },
   "outputs": [
    {
     "output_type": "stream",
     "name": "stdout",
     "text": [
      "Huelva (capital)\n\nUn positivo PCR cada 1026 personas en los últimos 7 días \n\nUn positivo PCR cada 526 personas en los últimos 14 días\n"
     ]
    }
   ],
   "source": [
    "print('Huelva (capital)\\n')\n",
    "#print('Confirmados PCR 7 días x 1,000 habitantes: ', f\"{c7/(p/1000):.5f}\")\n",
    "print('Un positivo PCR cada', f\"{p/c7:.0f}\", 'personas en los últimos 7 días', '\\n')\n",
    "#print('Confirmados PCR 14 días x 1,000 habitantes: ', f\"{c14/(p/1000):.5f}\")\n",
    "print('Un positivo PCR cada', f\"{p/c14:.0f}\", 'personas en los últimos 14 días')"
   ]
  },
  {
   "cell_type": "code",
   "execution_count": 11,
   "metadata": {},
   "outputs": [],
   "source": [
    "filtro = ((df['Medida'] == 'Confirmados PDIA')| (df['Medida'] == 'Confirmados PDIA 7 días') | (df['Medida'] == 'Población' ) | (df['Medida'] == 'Confirmados PDIA 14 días')) & (df['Valor'] > 0)\n",
    "tabla = pd.pivot_table(df.loc[filtro], values='Valor', index='Lugar de residencia', columns='Medida').dropna()"
   ]
  },
  {
   "cell_type": "code",
   "execution_count": 12,
   "metadata": {},
   "outputs": [],
   "source": [
    "# Reorder columns\n",
    "tabla = tabla[['Confirmados PDIA', 'Confirmados PDIA 7 días', 'Confirmados PDIA 14 días', 'Población']]"
   ]
  },
  {
   "cell_type": "code",
   "execution_count": 13,
   "metadata": {},
   "outputs": [],
   "source": [
    "tabla['tasa7'] = tabla['Confirmados PDIA 7 días']/tabla['Población']*100000\n",
    "tabla['tasa14'] = tabla['Confirmados PDIA 14 días']/tabla['Población']*100000"
   ]
  },
  {
   "cell_type": "code",
   "execution_count": 14,
   "metadata": {},
   "outputs": [],
   "source": [
    "tabla['Diferencia PDIA'] = tabla['Confirmados PDIA'] - dfAnterior['Confirmados PDIA']"
   ]
  },
  {
   "cell_type": "code",
   "execution_count": 15,
   "metadata": {},
   "outputs": [
    {
     "output_type": "execute_result",
     "data": {
      "text/plain": [
       "Medida                             Confirmados PDIA  Confirmados PDIA 7 días  \\\n",
       "Lugar de residencia                                                            \n",
       "Huelva                                      12163.0                    462.0   \n",
       "Huelva-Costa                                 6982.0                    303.0   \n",
       "Huelva (capital)                             3473.0                    140.0   \n",
       "Isla Cristina                                 602.0                     60.0   \n",
       "Aljaraque                                     487.0                     40.0   \n",
       "Sierra de Huelva-Andévalo Central            1394.0                     62.0   \n",
       "Condado-Campiña                              3630.0                     88.0   \n",
       "Cartaya                                       464.0                     22.0   \n",
       "Aracena                                       306.0                     13.0   \n",
       "Villalba del Alcor                            115.0                     11.0   \n",
       "Ayamonte                                      369.0                     14.0   \n",
       "Lepe                                         1017.0                     12.0   \n",
       "San Juan del Puerto                           167.0                      8.0   \n",
       "Bollullos Par del Condado                     263.0                      9.0   \n",
       "Aroche                                         69.0                     14.0   \n",
       "Almonte                                       461.0                      8.0   \n",
       "Alosno                                         50.0                      2.0   \n",
       "Palos de la Frontera                          273.0                      3.0   \n",
       "Puebla de Guzmán                               27.0                      2.0   \n",
       "Punta Umbría                                  250.0                      5.0   \n",
       "San Bartolomé de la Torre                      53.0                      8.0   \n",
       "Encinasola                                     14.0                      4.0   \n",
       "Higuera de la Sierra                           16.0                      1.0   \n",
       "Villanueva de los Castillejos                  67.0                      1.0   \n",
       "\n",
       "Medida                             Confirmados PDIA 14 días  Población  \\\n",
       "Lugar de residencia                                                      \n",
       "Huelva                                                892.0   510743.0   \n",
       "Huelva-Costa                                          599.0   288115.0   \n",
       "Huelva (capital)                                      273.0   143663.0   \n",
       "Isla Cristina                                         140.0    21264.0   \n",
       "Aljaraque                                              44.0    21260.0   \n",
       "Sierra de Huelva-Andévalo Central                     100.0    67571.0   \n",
       "Condado-Campiña                                       168.0   155057.0   \n",
       "Cartaya                                                35.0    19974.0   \n",
       "Aracena                                                19.0     8107.0   \n",
       "Villalba del Alcor                                     11.0     3338.0   \n",
       "Ayamonte                                               28.0    20946.0   \n",
       "Lepe                                                   39.0    27431.0   \n",
       "San Juan del Puerto                                    13.0     9300.0   \n",
       "Bollullos Par del Condado                              11.0    14272.0   \n",
       "Aroche                                                 14.0     3073.0   \n",
       "Almonte                                                12.0    24191.0   \n",
       "Alosno                                                  6.0     3923.0   \n",
       "Palos de la Frontera                                   14.0    11289.0   \n",
       "Puebla de Guzmán                                        2.0     3073.0   \n",
       "Punta Umbría                                           14.0    15242.0   \n",
       "San Bartolomé de la Torre                               8.0     3736.0   \n",
       "Encinasola                                              5.0     1305.0   \n",
       "Higuera de la Sierra                                    1.0     1287.0   \n",
       "Villanueva de los Castillejos                           3.0     2820.0   \n",
       "\n",
       "Medida                                  tasa7      tasa14  Diferencia PDIA  \n",
       "Lugar de residencia                                                         \n",
       "Huelva                              90.456453  174.647523            120.0  \n",
       "Huelva-Costa                       105.166340  207.903094            103.0  \n",
       "Huelva (capital)                    97.450283  190.028052             54.0  \n",
       "Isla Cristina                      282.167043  658.389767             22.0  \n",
       "Aljaraque                          188.146754  206.961430             12.0  \n",
       "Sierra de Huelva-Andévalo Central   91.755339  147.992482             11.0  \n",
       "Condado-Campiña                     56.753323  108.347253             10.0  \n",
       "Cartaya                            110.143186  175.227796              6.0  \n",
       "Aracena                            160.355249  234.365363              5.0  \n",
       "Villalba del Alcor                 329.538646  329.538646              5.0  \n",
       "Ayamonte                            66.838537  133.677074              2.0  \n",
       "Lepe                                43.746127  142.174912              2.0  \n",
       "San Juan del Puerto                 86.021505  139.784946              2.0  \n",
       "Bollullos Par del Condado           63.060538   77.073991              1.0  \n",
       "Aroche                             455.580866  455.580866              1.0  \n",
       "Almonte                             33.070150   49.605225              1.0  \n",
       "Alosno                              50.981392  152.944175              1.0  \n",
       "Palos de la Frontera                26.574542  124.014527              1.0  \n",
       "Puebla de Guzmán                    65.082981   65.082981              1.0  \n",
       "Punta Umbría                        32.804094   91.851463              1.0  \n",
       "San Bartolomé de la Torre          214.132762  214.132762              1.0  \n",
       "Encinasola                         306.513410  383.141762              NaN  \n",
       "Higuera de la Sierra                77.700078   77.700078              NaN  \n",
       "Villanueva de los Castillejos       35.460993  106.382979              NaN  "
      ],
      "text/html": "<div>\n<style scoped>\n    .dataframe tbody tr th:only-of-type {\n        vertical-align: middle;\n    }\n\n    .dataframe tbody tr th {\n        vertical-align: top;\n    }\n\n    .dataframe thead th {\n        text-align: right;\n    }\n</style>\n<table border=\"1\" class=\"dataframe\">\n  <thead>\n    <tr style=\"text-align: right;\">\n      <th>Medida</th>\n      <th>Confirmados PDIA</th>\n      <th>Confirmados PDIA 7 días</th>\n      <th>Confirmados PDIA 14 días</th>\n      <th>Población</th>\n      <th>tasa7</th>\n      <th>tasa14</th>\n      <th>Diferencia PDIA</th>\n    </tr>\n    <tr>\n      <th>Lugar de residencia</th>\n      <th></th>\n      <th></th>\n      <th></th>\n      <th></th>\n      <th></th>\n      <th></th>\n      <th></th>\n    </tr>\n  </thead>\n  <tbody>\n    <tr>\n      <th>Huelva</th>\n      <td>12163.0</td>\n      <td>462.0</td>\n      <td>892.0</td>\n      <td>510743.0</td>\n      <td>90.456453</td>\n      <td>174.647523</td>\n      <td>120.0</td>\n    </tr>\n    <tr>\n      <th>Huelva-Costa</th>\n      <td>6982.0</td>\n      <td>303.0</td>\n      <td>599.0</td>\n      <td>288115.0</td>\n      <td>105.166340</td>\n      <td>207.903094</td>\n      <td>103.0</td>\n    </tr>\n    <tr>\n      <th>Huelva (capital)</th>\n      <td>3473.0</td>\n      <td>140.0</td>\n      <td>273.0</td>\n      <td>143663.0</td>\n      <td>97.450283</td>\n      <td>190.028052</td>\n      <td>54.0</td>\n    </tr>\n    <tr>\n      <th>Isla Cristina</th>\n      <td>602.0</td>\n      <td>60.0</td>\n      <td>140.0</td>\n      <td>21264.0</td>\n      <td>282.167043</td>\n      <td>658.389767</td>\n      <td>22.0</td>\n    </tr>\n    <tr>\n      <th>Aljaraque</th>\n      <td>487.0</td>\n      <td>40.0</td>\n      <td>44.0</td>\n      <td>21260.0</td>\n      <td>188.146754</td>\n      <td>206.961430</td>\n      <td>12.0</td>\n    </tr>\n    <tr>\n      <th>Sierra de Huelva-Andévalo Central</th>\n      <td>1394.0</td>\n      <td>62.0</td>\n      <td>100.0</td>\n      <td>67571.0</td>\n      <td>91.755339</td>\n      <td>147.992482</td>\n      <td>11.0</td>\n    </tr>\n    <tr>\n      <th>Condado-Campiña</th>\n      <td>3630.0</td>\n      <td>88.0</td>\n      <td>168.0</td>\n      <td>155057.0</td>\n      <td>56.753323</td>\n      <td>108.347253</td>\n      <td>10.0</td>\n    </tr>\n    <tr>\n      <th>Cartaya</th>\n      <td>464.0</td>\n      <td>22.0</td>\n      <td>35.0</td>\n      <td>19974.0</td>\n      <td>110.143186</td>\n      <td>175.227796</td>\n      <td>6.0</td>\n    </tr>\n    <tr>\n      <th>Aracena</th>\n      <td>306.0</td>\n      <td>13.0</td>\n      <td>19.0</td>\n      <td>8107.0</td>\n      <td>160.355249</td>\n      <td>234.365363</td>\n      <td>5.0</td>\n    </tr>\n    <tr>\n      <th>Villalba del Alcor</th>\n      <td>115.0</td>\n      <td>11.0</td>\n      <td>11.0</td>\n      <td>3338.0</td>\n      <td>329.538646</td>\n      <td>329.538646</td>\n      <td>5.0</td>\n    </tr>\n    <tr>\n      <th>Ayamonte</th>\n      <td>369.0</td>\n      <td>14.0</td>\n      <td>28.0</td>\n      <td>20946.0</td>\n      <td>66.838537</td>\n      <td>133.677074</td>\n      <td>2.0</td>\n    </tr>\n    <tr>\n      <th>Lepe</th>\n      <td>1017.0</td>\n      <td>12.0</td>\n      <td>39.0</td>\n      <td>27431.0</td>\n      <td>43.746127</td>\n      <td>142.174912</td>\n      <td>2.0</td>\n    </tr>\n    <tr>\n      <th>San Juan del Puerto</th>\n      <td>167.0</td>\n      <td>8.0</td>\n      <td>13.0</td>\n      <td>9300.0</td>\n      <td>86.021505</td>\n      <td>139.784946</td>\n      <td>2.0</td>\n    </tr>\n    <tr>\n      <th>Bollullos Par del Condado</th>\n      <td>263.0</td>\n      <td>9.0</td>\n      <td>11.0</td>\n      <td>14272.0</td>\n      <td>63.060538</td>\n      <td>77.073991</td>\n      <td>1.0</td>\n    </tr>\n    <tr>\n      <th>Aroche</th>\n      <td>69.0</td>\n      <td>14.0</td>\n      <td>14.0</td>\n      <td>3073.0</td>\n      <td>455.580866</td>\n      <td>455.580866</td>\n      <td>1.0</td>\n    </tr>\n    <tr>\n      <th>Almonte</th>\n      <td>461.0</td>\n      <td>8.0</td>\n      <td>12.0</td>\n      <td>24191.0</td>\n      <td>33.070150</td>\n      <td>49.605225</td>\n      <td>1.0</td>\n    </tr>\n    <tr>\n      <th>Alosno</th>\n      <td>50.0</td>\n      <td>2.0</td>\n      <td>6.0</td>\n      <td>3923.0</td>\n      <td>50.981392</td>\n      <td>152.944175</td>\n      <td>1.0</td>\n    </tr>\n    <tr>\n      <th>Palos de la Frontera</th>\n      <td>273.0</td>\n      <td>3.0</td>\n      <td>14.0</td>\n      <td>11289.0</td>\n      <td>26.574542</td>\n      <td>124.014527</td>\n      <td>1.0</td>\n    </tr>\n    <tr>\n      <th>Puebla de Guzmán</th>\n      <td>27.0</td>\n      <td>2.0</td>\n      <td>2.0</td>\n      <td>3073.0</td>\n      <td>65.082981</td>\n      <td>65.082981</td>\n      <td>1.0</td>\n    </tr>\n    <tr>\n      <th>Punta Umbría</th>\n      <td>250.0</td>\n      <td>5.0</td>\n      <td>14.0</td>\n      <td>15242.0</td>\n      <td>32.804094</td>\n      <td>91.851463</td>\n      <td>1.0</td>\n    </tr>\n    <tr>\n      <th>San Bartolomé de la Torre</th>\n      <td>53.0</td>\n      <td>8.0</td>\n      <td>8.0</td>\n      <td>3736.0</td>\n      <td>214.132762</td>\n      <td>214.132762</td>\n      <td>1.0</td>\n    </tr>\n    <tr>\n      <th>Encinasola</th>\n      <td>14.0</td>\n      <td>4.0</td>\n      <td>5.0</td>\n      <td>1305.0</td>\n      <td>306.513410</td>\n      <td>383.141762</td>\n      <td>NaN</td>\n    </tr>\n    <tr>\n      <th>Higuera de la Sierra</th>\n      <td>16.0</td>\n      <td>1.0</td>\n      <td>1.0</td>\n      <td>1287.0</td>\n      <td>77.700078</td>\n      <td>77.700078</td>\n      <td>NaN</td>\n    </tr>\n    <tr>\n      <th>Villanueva de los Castillejos</th>\n      <td>67.0</td>\n      <td>1.0</td>\n      <td>3.0</td>\n      <td>2820.0</td>\n      <td>35.460993</td>\n      <td>106.382979</td>\n      <td>NaN</td>\n    </tr>\n  </tbody>\n</table>\n</div>"
     },
     "metadata": {},
     "execution_count": 15
    }
   ],
   "source": [
    "# Nuevos casos desde la última captura\n",
    "tabla[tabla['Diferencia PDIA'] != 0].sort_values('Diferencia PDIA', ascending=False)"
   ]
  },
  {
   "cell_type": "code",
   "execution_count": 16,
   "metadata": {},
   "outputs": [],
   "source": [
    "if tabla[tabla['Diferencia PDIA'] != 0]['Diferencia PDIA'].sum() > 0:\n",
    "  # Save to csv\n",
    "  tabla.to_csv('covid_huelva.csv', encoding='utf-8', header=True, index=True)  "
   ]
  },
  {
   "cell_type": "code",
   "execution_count": 17,
   "metadata": {},
   "outputs": [
    {
     "output_type": "execute_result",
     "data": {
      "text/plain": [
       "Medida                             Confirmados PDIA  Confirmados PDIA 7 días  \\\n",
       "Lugar de residencia                                                            \n",
       "Almendro (El)                                  24.0                      4.0   \n",
       "Cerro de Andévalo (El)                         60.0                      5.0   \n",
       "Isla Cristina                                 602.0                     60.0   \n",
       "Cumbres Mayores                                20.0                      1.0   \n",
       "Aroche                                         69.0                     14.0   \n",
       "Castaño del Robledo                             3.0                      1.0   \n",
       "Encinasola                                     14.0                      4.0   \n",
       "Corteconcepción                                20.0                      2.0   \n",
       "Villalba del Alcor                            115.0                     11.0   \n",
       "Palma del Condado (La)                        582.0                      9.0   \n",
       "Villablanca                                    70.0                      1.0   \n",
       "Aracena                                       306.0                     13.0   \n",
       "San Bartolomé de la Torre                      53.0                      8.0   \n",
       "Huelva-Costa                                 6982.0                    303.0   \n",
       "Aljaraque                                     487.0                     40.0   \n",
       "Huelva (capital)                             3473.0                    140.0   \n",
       "Moguer                                        430.0                     21.0   \n",
       "Calañas                                        48.0                      3.0   \n",
       "Lucena del Puerto                             112.0                      1.0   \n",
       "Cartaya                                       464.0                     22.0   \n",
       "Huelva                                      12163.0                    462.0   \n",
       "Zarza-Perrunal (La)                            15.0                      2.0   \n",
       "Alosno                                         50.0                      2.0   \n",
       "Cortegana                                     130.0                      7.0   \n",
       "Sierra de Huelva-Andévalo Central            1394.0                     62.0   \n",
       "Lepe                                         1017.0                     12.0   \n",
       "San Juan del Puerto                           167.0                      8.0   \n",
       "Ayamonte                                      369.0                     14.0   \n",
       "Palos de la Frontera                          273.0                      3.0   \n",
       "Condado-Campiña                              3630.0                     88.0   \n",
       "Villanueva de los Castillejos                  67.0                      1.0   \n",
       "Campillo (El)                                  56.0                      1.0   \n",
       "Punta Umbría                                  250.0                      5.0   \n",
       "Rociana del Condado                           128.0                      5.0   \n",
       "Bonares                                        72.0                      4.0   \n",
       "Higuera de la Sierra                           16.0                      1.0   \n",
       "Bollullos Par del Condado                     263.0                      9.0   \n",
       "Puebla de Guzmán                               27.0                      2.0   \n",
       "Valverde del Camino                           281.0                      6.0   \n",
       "Minas de Riotinto                              69.0                      2.0   \n",
       "Almonte                                       461.0                      8.0   \n",
       "Gibraleón                                     352.0                      1.0   \n",
       "\n",
       "Medida                             Confirmados PDIA 14 días  Población  \\\n",
       "Lugar de residencia                                                      \n",
       "Almendro (El)                                           8.0      826.0   \n",
       "Cerro de Andévalo (El)                                 18.0     2364.0   \n",
       "Isla Cristina                                         140.0    21264.0   \n",
       "Cumbres Mayores                                        10.0     1755.0   \n",
       "Aroche                                                 14.0     3073.0   \n",
       "Castaño del Robledo                                     1.0      223.0   \n",
       "Encinasola                                              5.0     1305.0   \n",
       "Corteconcepción                                         2.0      548.0   \n",
       "Villalba del Alcor                                     11.0     3338.0   \n",
       "Palma del Condado (La)                                 28.0    10761.0   \n",
       "Villablanca                                             7.0     2848.0   \n",
       "Aracena                                                19.0     8107.0   \n",
       "San Bartolomé de la Torre                               8.0     3736.0   \n",
       "Huelva-Costa                                          599.0   288115.0   \n",
       "Aljaraque                                              44.0    21260.0   \n",
       "Huelva (capital)                                      273.0   143663.0   \n",
       "Moguer                                                 41.0    22088.0   \n",
       "Calañas                                                 5.0     2791.0   \n",
       "Lucena del Puerto                                       6.0     3371.0   \n",
       "Cartaya                                                35.0    19974.0   \n",
       "Huelva                                                892.0   510743.0   \n",
       "Zarza-Perrunal (La)                                     2.0     1267.0   \n",
       "Alosno                                                  6.0     3923.0   \n",
       "Cortegana                                               7.0     4666.0   \n",
       "Sierra de Huelva-Andévalo Central                     100.0    67571.0   \n",
       "Lepe                                                   39.0    27431.0   \n",
       "San Juan del Puerto                                    13.0     9300.0   \n",
       "Ayamonte                                               28.0    20946.0   \n",
       "Palos de la Frontera                                   14.0    11289.0   \n",
       "Condado-Campiña                                       168.0   155057.0   \n",
       "Villanueva de los Castillejos                           3.0     2820.0   \n",
       "Campillo (El)                                           2.0     2023.0   \n",
       "Punta Umbría                                           14.0    15242.0   \n",
       "Rociana del Condado                                     7.0     7855.0   \n",
       "Bonares                                                 5.0     6058.0   \n",
       "Higuera de la Sierra                                    1.0     1287.0   \n",
       "Bollullos Par del Condado                              11.0    14272.0   \n",
       "Puebla de Guzmán                                        2.0     3073.0   \n",
       "Valverde del Camino                                     8.0    12820.0   \n",
       "Minas de Riotinto                                       2.0     3848.0   \n",
       "Almonte                                                12.0    24191.0   \n",
       "Gibraleón                                               1.0    12607.0   \n",
       "\n",
       "Medida                                  tasa7      tasa14  Diferencia PDIA  \n",
       "Lugar de residencia                                                         \n",
       "Almendro (El)                      484.261501  968.523002              0.0  \n",
       "Cerro de Andévalo (El)             211.505922  761.421320              0.0  \n",
       "Isla Cristina                      282.167043  658.389767             22.0  \n",
       "Cumbres Mayores                     56.980057  569.800570              0.0  \n",
       "Aroche                             455.580866  455.580866              1.0  \n",
       "Castaño del Robledo                448.430493  448.430493              0.0  \n",
       "Encinasola                         306.513410  383.141762              NaN  \n",
       "Corteconcepción                    364.963504  364.963504              0.0  \n",
       "Villalba del Alcor                 329.538646  329.538646              5.0  \n",
       "Palma del Condado (La)              83.635350  260.198866              0.0  \n",
       "Villablanca                         35.112360  245.786517              0.0  \n",
       "Aracena                            160.355249  234.365363              5.0  \n",
       "San Bartolomé de la Torre          214.132762  214.132762              1.0  \n",
       "Huelva-Costa                       105.166340  207.903094            103.0  \n",
       "Aljaraque                          188.146754  206.961430             12.0  \n",
       "Huelva (capital)                    97.450283  190.028052             54.0  \n",
       "Moguer                              95.074248  185.621152              0.0  \n",
       "Calañas                            107.488355  179.147259              0.0  \n",
       "Lucena del Puerto                   29.664788  177.988727              0.0  \n",
       "Cartaya                            110.143186  175.227796              6.0  \n",
       "Huelva                              90.456453  174.647523            120.0  \n",
       "Zarza-Perrunal (La)                157.853197  157.853197              0.0  \n",
       "Alosno                              50.981392  152.944175              1.0  \n",
       "Cortegana                          150.021432  150.021432              0.0  \n",
       "Sierra de Huelva-Andévalo Central   91.755339  147.992482             11.0  \n",
       "Lepe                                43.746127  142.174912              2.0  \n",
       "San Juan del Puerto                 86.021505  139.784946              2.0  \n",
       "Ayamonte                            66.838537  133.677074              2.0  \n",
       "Palos de la Frontera                26.574542  124.014527              1.0  \n",
       "Condado-Campiña                     56.753323  108.347253             10.0  \n",
       "Villanueva de los Castillejos       35.460993  106.382979              NaN  \n",
       "Campillo (El)                       49.431537   98.863075              0.0  \n",
       "Punta Umbría                        32.804094   91.851463              1.0  \n",
       "Rociana del Condado                 63.653724   89.115213              0.0  \n",
       "Bonares                             66.028392   82.535490              0.0  \n",
       "Higuera de la Sierra                77.700078   77.700078              NaN  \n",
       "Bollullos Par del Condado           63.060538   77.073991              1.0  \n",
       "Puebla de Guzmán                    65.082981   65.082981              1.0  \n",
       "Valverde del Camino                 46.801872   62.402496              0.0  \n",
       "Minas de Riotinto                   51.975052   51.975052              0.0  \n",
       "Almonte                             33.070150   49.605225              1.0  \n",
       "Gibraleón                            7.932101    7.932101              0.0  "
      ],
      "text/html": "<div>\n<style scoped>\n    .dataframe tbody tr th:only-of-type {\n        vertical-align: middle;\n    }\n\n    .dataframe tbody tr th {\n        vertical-align: top;\n    }\n\n    .dataframe thead th {\n        text-align: right;\n    }\n</style>\n<table border=\"1\" class=\"dataframe\">\n  <thead>\n    <tr style=\"text-align: right;\">\n      <th>Medida</th>\n      <th>Confirmados PDIA</th>\n      <th>Confirmados PDIA 7 días</th>\n      <th>Confirmados PDIA 14 días</th>\n      <th>Población</th>\n      <th>tasa7</th>\n      <th>tasa14</th>\n      <th>Diferencia PDIA</th>\n    </tr>\n    <tr>\n      <th>Lugar de residencia</th>\n      <th></th>\n      <th></th>\n      <th></th>\n      <th></th>\n      <th></th>\n      <th></th>\n      <th></th>\n    </tr>\n  </thead>\n  <tbody>\n    <tr>\n      <th>Almendro (El)</th>\n      <td>24.0</td>\n      <td>4.0</td>\n      <td>8.0</td>\n      <td>826.0</td>\n      <td>484.261501</td>\n      <td>968.523002</td>\n      <td>0.0</td>\n    </tr>\n    <tr>\n      <th>Cerro de Andévalo (El)</th>\n      <td>60.0</td>\n      <td>5.0</td>\n      <td>18.0</td>\n      <td>2364.0</td>\n      <td>211.505922</td>\n      <td>761.421320</td>\n      <td>0.0</td>\n    </tr>\n    <tr>\n      <th>Isla Cristina</th>\n      <td>602.0</td>\n      <td>60.0</td>\n      <td>140.0</td>\n      <td>21264.0</td>\n      <td>282.167043</td>\n      <td>658.389767</td>\n      <td>22.0</td>\n    </tr>\n    <tr>\n      <th>Cumbres Mayores</th>\n      <td>20.0</td>\n      <td>1.0</td>\n      <td>10.0</td>\n      <td>1755.0</td>\n      <td>56.980057</td>\n      <td>569.800570</td>\n      <td>0.0</td>\n    </tr>\n    <tr>\n      <th>Aroche</th>\n      <td>69.0</td>\n      <td>14.0</td>\n      <td>14.0</td>\n      <td>3073.0</td>\n      <td>455.580866</td>\n      <td>455.580866</td>\n      <td>1.0</td>\n    </tr>\n    <tr>\n      <th>Castaño del Robledo</th>\n      <td>3.0</td>\n      <td>1.0</td>\n      <td>1.0</td>\n      <td>223.0</td>\n      <td>448.430493</td>\n      <td>448.430493</td>\n      <td>0.0</td>\n    </tr>\n    <tr>\n      <th>Encinasola</th>\n      <td>14.0</td>\n      <td>4.0</td>\n      <td>5.0</td>\n      <td>1305.0</td>\n      <td>306.513410</td>\n      <td>383.141762</td>\n      <td>NaN</td>\n    </tr>\n    <tr>\n      <th>Corteconcepción</th>\n      <td>20.0</td>\n      <td>2.0</td>\n      <td>2.0</td>\n      <td>548.0</td>\n      <td>364.963504</td>\n      <td>364.963504</td>\n      <td>0.0</td>\n    </tr>\n    <tr>\n      <th>Villalba del Alcor</th>\n      <td>115.0</td>\n      <td>11.0</td>\n      <td>11.0</td>\n      <td>3338.0</td>\n      <td>329.538646</td>\n      <td>329.538646</td>\n      <td>5.0</td>\n    </tr>\n    <tr>\n      <th>Palma del Condado (La)</th>\n      <td>582.0</td>\n      <td>9.0</td>\n      <td>28.0</td>\n      <td>10761.0</td>\n      <td>83.635350</td>\n      <td>260.198866</td>\n      <td>0.0</td>\n    </tr>\n    <tr>\n      <th>Villablanca</th>\n      <td>70.0</td>\n      <td>1.0</td>\n      <td>7.0</td>\n      <td>2848.0</td>\n      <td>35.112360</td>\n      <td>245.786517</td>\n      <td>0.0</td>\n    </tr>\n    <tr>\n      <th>Aracena</th>\n      <td>306.0</td>\n      <td>13.0</td>\n      <td>19.0</td>\n      <td>8107.0</td>\n      <td>160.355249</td>\n      <td>234.365363</td>\n      <td>5.0</td>\n    </tr>\n    <tr>\n      <th>San Bartolomé de la Torre</th>\n      <td>53.0</td>\n      <td>8.0</td>\n      <td>8.0</td>\n      <td>3736.0</td>\n      <td>214.132762</td>\n      <td>214.132762</td>\n      <td>1.0</td>\n    </tr>\n    <tr>\n      <th>Huelva-Costa</th>\n      <td>6982.0</td>\n      <td>303.0</td>\n      <td>599.0</td>\n      <td>288115.0</td>\n      <td>105.166340</td>\n      <td>207.903094</td>\n      <td>103.0</td>\n    </tr>\n    <tr>\n      <th>Aljaraque</th>\n      <td>487.0</td>\n      <td>40.0</td>\n      <td>44.0</td>\n      <td>21260.0</td>\n      <td>188.146754</td>\n      <td>206.961430</td>\n      <td>12.0</td>\n    </tr>\n    <tr>\n      <th>Huelva (capital)</th>\n      <td>3473.0</td>\n      <td>140.0</td>\n      <td>273.0</td>\n      <td>143663.0</td>\n      <td>97.450283</td>\n      <td>190.028052</td>\n      <td>54.0</td>\n    </tr>\n    <tr>\n      <th>Moguer</th>\n      <td>430.0</td>\n      <td>21.0</td>\n      <td>41.0</td>\n      <td>22088.0</td>\n      <td>95.074248</td>\n      <td>185.621152</td>\n      <td>0.0</td>\n    </tr>\n    <tr>\n      <th>Calañas</th>\n      <td>48.0</td>\n      <td>3.0</td>\n      <td>5.0</td>\n      <td>2791.0</td>\n      <td>107.488355</td>\n      <td>179.147259</td>\n      <td>0.0</td>\n    </tr>\n    <tr>\n      <th>Lucena del Puerto</th>\n      <td>112.0</td>\n      <td>1.0</td>\n      <td>6.0</td>\n      <td>3371.0</td>\n      <td>29.664788</td>\n      <td>177.988727</td>\n      <td>0.0</td>\n    </tr>\n    <tr>\n      <th>Cartaya</th>\n      <td>464.0</td>\n      <td>22.0</td>\n      <td>35.0</td>\n      <td>19974.0</td>\n      <td>110.143186</td>\n      <td>175.227796</td>\n      <td>6.0</td>\n    </tr>\n    <tr>\n      <th>Huelva</th>\n      <td>12163.0</td>\n      <td>462.0</td>\n      <td>892.0</td>\n      <td>510743.0</td>\n      <td>90.456453</td>\n      <td>174.647523</td>\n      <td>120.0</td>\n    </tr>\n    <tr>\n      <th>Zarza-Perrunal (La)</th>\n      <td>15.0</td>\n      <td>2.0</td>\n      <td>2.0</td>\n      <td>1267.0</td>\n      <td>157.853197</td>\n      <td>157.853197</td>\n      <td>0.0</td>\n    </tr>\n    <tr>\n      <th>Alosno</th>\n      <td>50.0</td>\n      <td>2.0</td>\n      <td>6.0</td>\n      <td>3923.0</td>\n      <td>50.981392</td>\n      <td>152.944175</td>\n      <td>1.0</td>\n    </tr>\n    <tr>\n      <th>Cortegana</th>\n      <td>130.0</td>\n      <td>7.0</td>\n      <td>7.0</td>\n      <td>4666.0</td>\n      <td>150.021432</td>\n      <td>150.021432</td>\n      <td>0.0</td>\n    </tr>\n    <tr>\n      <th>Sierra de Huelva-Andévalo Central</th>\n      <td>1394.0</td>\n      <td>62.0</td>\n      <td>100.0</td>\n      <td>67571.0</td>\n      <td>91.755339</td>\n      <td>147.992482</td>\n      <td>11.0</td>\n    </tr>\n    <tr>\n      <th>Lepe</th>\n      <td>1017.0</td>\n      <td>12.0</td>\n      <td>39.0</td>\n      <td>27431.0</td>\n      <td>43.746127</td>\n      <td>142.174912</td>\n      <td>2.0</td>\n    </tr>\n    <tr>\n      <th>San Juan del Puerto</th>\n      <td>167.0</td>\n      <td>8.0</td>\n      <td>13.0</td>\n      <td>9300.0</td>\n      <td>86.021505</td>\n      <td>139.784946</td>\n      <td>2.0</td>\n    </tr>\n    <tr>\n      <th>Ayamonte</th>\n      <td>369.0</td>\n      <td>14.0</td>\n      <td>28.0</td>\n      <td>20946.0</td>\n      <td>66.838537</td>\n      <td>133.677074</td>\n      <td>2.0</td>\n    </tr>\n    <tr>\n      <th>Palos de la Frontera</th>\n      <td>273.0</td>\n      <td>3.0</td>\n      <td>14.0</td>\n      <td>11289.0</td>\n      <td>26.574542</td>\n      <td>124.014527</td>\n      <td>1.0</td>\n    </tr>\n    <tr>\n      <th>Condado-Campiña</th>\n      <td>3630.0</td>\n      <td>88.0</td>\n      <td>168.0</td>\n      <td>155057.0</td>\n      <td>56.753323</td>\n      <td>108.347253</td>\n      <td>10.0</td>\n    </tr>\n    <tr>\n      <th>Villanueva de los Castillejos</th>\n      <td>67.0</td>\n      <td>1.0</td>\n      <td>3.0</td>\n      <td>2820.0</td>\n      <td>35.460993</td>\n      <td>106.382979</td>\n      <td>NaN</td>\n    </tr>\n    <tr>\n      <th>Campillo (El)</th>\n      <td>56.0</td>\n      <td>1.0</td>\n      <td>2.0</td>\n      <td>2023.0</td>\n      <td>49.431537</td>\n      <td>98.863075</td>\n      <td>0.0</td>\n    </tr>\n    <tr>\n      <th>Punta Umbría</th>\n      <td>250.0</td>\n      <td>5.0</td>\n      <td>14.0</td>\n      <td>15242.0</td>\n      <td>32.804094</td>\n      <td>91.851463</td>\n      <td>1.0</td>\n    </tr>\n    <tr>\n      <th>Rociana del Condado</th>\n      <td>128.0</td>\n      <td>5.0</td>\n      <td>7.0</td>\n      <td>7855.0</td>\n      <td>63.653724</td>\n      <td>89.115213</td>\n      <td>0.0</td>\n    </tr>\n    <tr>\n      <th>Bonares</th>\n      <td>72.0</td>\n      <td>4.0</td>\n      <td>5.0</td>\n      <td>6058.0</td>\n      <td>66.028392</td>\n      <td>82.535490</td>\n      <td>0.0</td>\n    </tr>\n    <tr>\n      <th>Higuera de la Sierra</th>\n      <td>16.0</td>\n      <td>1.0</td>\n      <td>1.0</td>\n      <td>1287.0</td>\n      <td>77.700078</td>\n      <td>77.700078</td>\n      <td>NaN</td>\n    </tr>\n    <tr>\n      <th>Bollullos Par del Condado</th>\n      <td>263.0</td>\n      <td>9.0</td>\n      <td>11.0</td>\n      <td>14272.0</td>\n      <td>63.060538</td>\n      <td>77.073991</td>\n      <td>1.0</td>\n    </tr>\n    <tr>\n      <th>Puebla de Guzmán</th>\n      <td>27.0</td>\n      <td>2.0</td>\n      <td>2.0</td>\n      <td>3073.0</td>\n      <td>65.082981</td>\n      <td>65.082981</td>\n      <td>1.0</td>\n    </tr>\n    <tr>\n      <th>Valverde del Camino</th>\n      <td>281.0</td>\n      <td>6.0</td>\n      <td>8.0</td>\n      <td>12820.0</td>\n      <td>46.801872</td>\n      <td>62.402496</td>\n      <td>0.0</td>\n    </tr>\n    <tr>\n      <th>Minas de Riotinto</th>\n      <td>69.0</td>\n      <td>2.0</td>\n      <td>2.0</td>\n      <td>3848.0</td>\n      <td>51.975052</td>\n      <td>51.975052</td>\n      <td>0.0</td>\n    </tr>\n    <tr>\n      <th>Almonte</th>\n      <td>461.0</td>\n      <td>8.0</td>\n      <td>12.0</td>\n      <td>24191.0</td>\n      <td>33.070150</td>\n      <td>49.605225</td>\n      <td>1.0</td>\n    </tr>\n    <tr>\n      <th>Gibraleón</th>\n      <td>352.0</td>\n      <td>1.0</td>\n      <td>1.0</td>\n      <td>12607.0</td>\n      <td>7.932101</td>\n      <td>7.932101</td>\n      <td>0.0</td>\n    </tr>\n  </tbody>\n</table>\n</div>"
     },
     "metadata": {},
     "execution_count": 17
    }
   ],
   "source": [
    "tabla.sort_values('tasa14', ascending=False)"
   ]
  },
  {
   "cell_type": "code",
   "execution_count": 18,
   "metadata": {},
   "outputs": [
    {
     "output_type": "execute_result",
     "data": {
      "text/plain": [
       "Medida                             Confirmados PDIA  Confirmados PDIA 7 días  \\\n",
       "Lugar de residencia                                                            \n",
       "Cumbres Mayores                                20.0                      1.0   \n",
       "Villablanca                                    70.0                      1.0   \n",
       "Lucena del Puerto                             112.0                      1.0   \n",
       "Palos de la Frontera                          273.0                      3.0   \n",
       "Cerro de Andévalo (El)                         60.0                      5.0   \n",
       "Lepe                                         1017.0                     12.0   \n",
       "Palma del Condado (La)                        582.0                      9.0   \n",
       "Villanueva de los Castillejos                  67.0                      1.0   \n",
       "Alosno                                         50.0                      2.0   \n",
       "Punta Umbría                                  250.0                      5.0   \n",
       "Isla Cristina                                 602.0                     60.0   \n",
       "Ayamonte                                      369.0                     14.0   \n",
       "Almendro (El)                                  24.0                      4.0   \n",
       "Campillo (El)                                  56.0                      1.0   \n",
       "Huelva-Costa                                 6982.0                    303.0   \n",
       "Moguer                                        430.0                     21.0   \n",
       "Huelva (capital)                             3473.0                    140.0   \n",
       "Huelva                                      12163.0                    462.0   \n",
       "Condado-Campiña                              3630.0                     88.0   \n",
       "Calañas                                        48.0                      3.0   \n",
       "San Juan del Puerto                           167.0                      8.0   \n",
       "Sierra de Huelva-Andévalo Central            1394.0                     62.0   \n",
       "Cartaya                                       464.0                     22.0   \n",
       "Almonte                                       461.0                      8.0   \n",
       "Aracena                                       306.0                     13.0   \n",
       "Rociana del Condado                           128.0                      5.0   \n",
       "Valverde del Camino                           281.0                      6.0   \n",
       "Bonares                                        72.0                      4.0   \n",
       "Encinasola                                     14.0                      4.0   \n",
       "Bollullos Par del Condado                     263.0                      9.0   \n",
       "Aljaraque                                     487.0                     40.0   \n",
       "San Bartolomé de la Torre                      53.0                      8.0   \n",
       "Villalba del Alcor                            115.0                     11.0   \n",
       "Higuera de la Sierra                           16.0                      1.0   \n",
       "Minas de Riotinto                              69.0                      2.0   \n",
       "Gibraleón                                     352.0                      1.0   \n",
       "Cortegana                                     130.0                      7.0   \n",
       "Corteconcepción                                20.0                      2.0   \n",
       "Castaño del Robledo                             3.0                      1.0   \n",
       "Aroche                                         69.0                     14.0   \n",
       "Puebla de Guzmán                               27.0                      2.0   \n",
       "Zarza-Perrunal (La)                            15.0                      2.0   \n",
       "\n",
       "Medida                             Confirmados PDIA 14 días  Población  \\\n",
       "Lugar de residencia                                                      \n",
       "Cumbres Mayores                                        10.0     1755.0   \n",
       "Villablanca                                             7.0     2848.0   \n",
       "Lucena del Puerto                                       6.0     3371.0   \n",
       "Palos de la Frontera                                   14.0    11289.0   \n",
       "Cerro de Andévalo (El)                                 18.0     2364.0   \n",
       "Lepe                                                   39.0    27431.0   \n",
       "Palma del Condado (La)                                 28.0    10761.0   \n",
       "Villanueva de los Castillejos                           3.0     2820.0   \n",
       "Alosno                                                  6.0     3923.0   \n",
       "Punta Umbría                                           14.0    15242.0   \n",
       "Isla Cristina                                         140.0    21264.0   \n",
       "Ayamonte                                               28.0    20946.0   \n",
       "Almendro (El)                                           8.0      826.0   \n",
       "Campillo (El)                                           2.0     2023.0   \n",
       "Huelva-Costa                                          599.0   288115.0   \n",
       "Moguer                                                 41.0    22088.0   \n",
       "Huelva (capital)                                      273.0   143663.0   \n",
       "Huelva                                                892.0   510743.0   \n",
       "Condado-Campiña                                       168.0   155057.0   \n",
       "Calañas                                                 5.0     2791.0   \n",
       "San Juan del Puerto                                    13.0     9300.0   \n",
       "Sierra de Huelva-Andévalo Central                     100.0    67571.0   \n",
       "Cartaya                                                35.0    19974.0   \n",
       "Almonte                                                12.0    24191.0   \n",
       "Aracena                                                19.0     8107.0   \n",
       "Rociana del Condado                                     7.0     7855.0   \n",
       "Valverde del Camino                                     8.0    12820.0   \n",
       "Bonares                                                 5.0     6058.0   \n",
       "Encinasola                                              5.0     1305.0   \n",
       "Bollullos Par del Condado                              11.0    14272.0   \n",
       "Aljaraque                                              44.0    21260.0   \n",
       "San Bartolomé de la Torre                               8.0     3736.0   \n",
       "Villalba del Alcor                                     11.0     3338.0   \n",
       "Higuera de la Sierra                                    1.0     1287.0   \n",
       "Minas de Riotinto                                       2.0     3848.0   \n",
       "Gibraleón                                               1.0    12607.0   \n",
       "Cortegana                                               7.0     4666.0   \n",
       "Corteconcepción                                         2.0      548.0   \n",
       "Castaño del Robledo                                     1.0      223.0   \n",
       "Aroche                                                 14.0     3073.0   \n",
       "Puebla de Guzmán                                        2.0     3073.0   \n",
       "Zarza-Perrunal (La)                                     2.0     1267.0   \n",
       "\n",
       "Medida                                  tasa7      tasa14  Diferencia PDIA  \\\n",
       "Lugar de residencia                                                          \n",
       "Cumbres Mayores                     56.980057  569.800570              0.0   \n",
       "Villablanca                         35.112360  245.786517              0.0   \n",
       "Lucena del Puerto                   29.664788  177.988727              0.0   \n",
       "Palos de la Frontera                26.574542  124.014527              1.0   \n",
       "Cerro de Andévalo (El)             211.505922  761.421320              0.0   \n",
       "Lepe                                43.746127  142.174912              2.0   \n",
       "Palma del Condado (La)              83.635350  260.198866              0.0   \n",
       "Villanueva de los Castillejos       35.460993  106.382979              0.0   \n",
       "Alosno                              50.981392  152.944175              1.0   \n",
       "Punta Umbría                        32.804094   91.851463              1.0   \n",
       "Isla Cristina                      282.167043  658.389767             22.0   \n",
       "Ayamonte                            66.838537  133.677074              2.0   \n",
       "Almendro (El)                      484.261501  968.523002              0.0   \n",
       "Campillo (El)                       49.431537   98.863075              0.0   \n",
       "Huelva-Costa                       105.166340  207.903094            103.0   \n",
       "Moguer                              95.074248  185.621152              0.0   \n",
       "Huelva (capital)                    97.450283  190.028052             54.0   \n",
       "Huelva                              90.456453  174.647523            120.0   \n",
       "Condado-Campiña                     56.753323  108.347253             10.0   \n",
       "Calañas                            107.488355  179.147259              0.0   \n",
       "San Juan del Puerto                 86.021505  139.784946              2.0   \n",
       "Sierra de Huelva-Andévalo Central   91.755339  147.992482             11.0   \n",
       "Cartaya                            110.143186  175.227796              6.0   \n",
       "Almonte                             33.070150   49.605225              1.0   \n",
       "Aracena                            160.355249  234.365363              5.0   \n",
       "Rociana del Condado                 63.653724   89.115213              0.0   \n",
       "Valverde del Camino                 46.801872   62.402496              0.0   \n",
       "Bonares                             66.028392   82.535490              0.0   \n",
       "Encinasola                         306.513410  383.141762              0.0   \n",
       "Bollullos Par del Condado           63.060538   77.073991              1.0   \n",
       "Aljaraque                          188.146754  206.961430             12.0   \n",
       "San Bartolomé de la Torre          214.132762  214.132762              1.0   \n",
       "Villalba del Alcor                 329.538646  329.538646              5.0   \n",
       "Higuera de la Sierra                77.700078   77.700078              0.0   \n",
       "Minas de Riotinto                   51.975052   51.975052              0.0   \n",
       "Gibraleón                            7.932101    7.932101              0.0   \n",
       "Cortegana                          150.021432  150.021432              0.0   \n",
       "Corteconcepción                    364.963504  364.963504              0.0   \n",
       "Castaño del Robledo                448.430493  448.430493              0.0   \n",
       "Aroche                             455.580866  455.580866              1.0   \n",
       "Puebla de Guzmán                    65.082981   65.082981              1.0   \n",
       "Zarza-Perrunal (La)                157.853197  157.853197              0.0   \n",
       "\n",
       "Medida                                 7/14  \n",
       "Lugar de residencia                          \n",
       "Cumbres Mayores                    0.100000  \n",
       "Villablanca                        0.142857  \n",
       "Lucena del Puerto                  0.166667  \n",
       "Palos de la Frontera               0.214286  \n",
       "Cerro de Andévalo (El)             0.277778  \n",
       "Lepe                               0.307692  \n",
       "Palma del Condado (La)             0.321429  \n",
       "Villanueva de los Castillejos      0.333333  \n",
       "Alosno                             0.333333  \n",
       "Punta Umbría                       0.357143  \n",
       "Isla Cristina                      0.428571  \n",
       "Ayamonte                           0.500000  \n",
       "Almendro (El)                      0.500000  \n",
       "Campillo (El)                      0.500000  \n",
       "Huelva-Costa                       0.505843  \n",
       "Moguer                             0.512195  \n",
       "Huelva (capital)                   0.512821  \n",
       "Huelva                             0.517937  \n",
       "Condado-Campiña                    0.523810  \n",
       "Calañas                            0.600000  \n",
       "San Juan del Puerto                0.615385  \n",
       "Sierra de Huelva-Andévalo Central  0.620000  \n",
       "Cartaya                            0.628571  \n",
       "Almonte                            0.666667  \n",
       "Aracena                            0.684211  \n",
       "Rociana del Condado                0.714286  \n",
       "Valverde del Camino                0.750000  \n",
       "Bonares                            0.800000  \n",
       "Encinasola                         0.800000  \n",
       "Bollullos Par del Condado          0.818182  \n",
       "Aljaraque                          0.909091  \n",
       "San Bartolomé de la Torre          1.000000  \n",
       "Villalba del Alcor                 1.000000  \n",
       "Higuera de la Sierra               1.000000  \n",
       "Minas de Riotinto                  1.000000  \n",
       "Gibraleón                          1.000000  \n",
       "Cortegana                          1.000000  \n",
       "Corteconcepción                    1.000000  \n",
       "Castaño del Robledo                1.000000  \n",
       "Aroche                             1.000000  \n",
       "Puebla de Guzmán                   1.000000  \n",
       "Zarza-Perrunal (La)                1.000000  "
      ],
      "text/html": "<div>\n<style scoped>\n    .dataframe tbody tr th:only-of-type {\n        vertical-align: middle;\n    }\n\n    .dataframe tbody tr th {\n        vertical-align: top;\n    }\n\n    .dataframe thead th {\n        text-align: right;\n    }\n</style>\n<table border=\"1\" class=\"dataframe\">\n  <thead>\n    <tr style=\"text-align: right;\">\n      <th>Medida</th>\n      <th>Confirmados PDIA</th>\n      <th>Confirmados PDIA 7 días</th>\n      <th>Confirmados PDIA 14 días</th>\n      <th>Población</th>\n      <th>tasa7</th>\n      <th>tasa14</th>\n      <th>Diferencia PDIA</th>\n      <th>7/14</th>\n    </tr>\n    <tr>\n      <th>Lugar de residencia</th>\n      <th></th>\n      <th></th>\n      <th></th>\n      <th></th>\n      <th></th>\n      <th></th>\n      <th></th>\n      <th></th>\n    </tr>\n  </thead>\n  <tbody>\n    <tr>\n      <th>Cumbres Mayores</th>\n      <td>20.0</td>\n      <td>1.0</td>\n      <td>10.0</td>\n      <td>1755.0</td>\n      <td>56.980057</td>\n      <td>569.800570</td>\n      <td>0.0</td>\n      <td>0.100000</td>\n    </tr>\n    <tr>\n      <th>Villablanca</th>\n      <td>70.0</td>\n      <td>1.0</td>\n      <td>7.0</td>\n      <td>2848.0</td>\n      <td>35.112360</td>\n      <td>245.786517</td>\n      <td>0.0</td>\n      <td>0.142857</td>\n    </tr>\n    <tr>\n      <th>Lucena del Puerto</th>\n      <td>112.0</td>\n      <td>1.0</td>\n      <td>6.0</td>\n      <td>3371.0</td>\n      <td>29.664788</td>\n      <td>177.988727</td>\n      <td>0.0</td>\n      <td>0.166667</td>\n    </tr>\n    <tr>\n      <th>Palos de la Frontera</th>\n      <td>273.0</td>\n      <td>3.0</td>\n      <td>14.0</td>\n      <td>11289.0</td>\n      <td>26.574542</td>\n      <td>124.014527</td>\n      <td>1.0</td>\n      <td>0.214286</td>\n    </tr>\n    <tr>\n      <th>Cerro de Andévalo (El)</th>\n      <td>60.0</td>\n      <td>5.0</td>\n      <td>18.0</td>\n      <td>2364.0</td>\n      <td>211.505922</td>\n      <td>761.421320</td>\n      <td>0.0</td>\n      <td>0.277778</td>\n    </tr>\n    <tr>\n      <th>Lepe</th>\n      <td>1017.0</td>\n      <td>12.0</td>\n      <td>39.0</td>\n      <td>27431.0</td>\n      <td>43.746127</td>\n      <td>142.174912</td>\n      <td>2.0</td>\n      <td>0.307692</td>\n    </tr>\n    <tr>\n      <th>Palma del Condado (La)</th>\n      <td>582.0</td>\n      <td>9.0</td>\n      <td>28.0</td>\n      <td>10761.0</td>\n      <td>83.635350</td>\n      <td>260.198866</td>\n      <td>0.0</td>\n      <td>0.321429</td>\n    </tr>\n    <tr>\n      <th>Villanueva de los Castillejos</th>\n      <td>67.0</td>\n      <td>1.0</td>\n      <td>3.0</td>\n      <td>2820.0</td>\n      <td>35.460993</td>\n      <td>106.382979</td>\n      <td>0.0</td>\n      <td>0.333333</td>\n    </tr>\n    <tr>\n      <th>Alosno</th>\n      <td>50.0</td>\n      <td>2.0</td>\n      <td>6.0</td>\n      <td>3923.0</td>\n      <td>50.981392</td>\n      <td>152.944175</td>\n      <td>1.0</td>\n      <td>0.333333</td>\n    </tr>\n    <tr>\n      <th>Punta Umbría</th>\n      <td>250.0</td>\n      <td>5.0</td>\n      <td>14.0</td>\n      <td>15242.0</td>\n      <td>32.804094</td>\n      <td>91.851463</td>\n      <td>1.0</td>\n      <td>0.357143</td>\n    </tr>\n    <tr>\n      <th>Isla Cristina</th>\n      <td>602.0</td>\n      <td>60.0</td>\n      <td>140.0</td>\n      <td>21264.0</td>\n      <td>282.167043</td>\n      <td>658.389767</td>\n      <td>22.0</td>\n      <td>0.428571</td>\n    </tr>\n    <tr>\n      <th>Ayamonte</th>\n      <td>369.0</td>\n      <td>14.0</td>\n      <td>28.0</td>\n      <td>20946.0</td>\n      <td>66.838537</td>\n      <td>133.677074</td>\n      <td>2.0</td>\n      <td>0.500000</td>\n    </tr>\n    <tr>\n      <th>Almendro (El)</th>\n      <td>24.0</td>\n      <td>4.0</td>\n      <td>8.0</td>\n      <td>826.0</td>\n      <td>484.261501</td>\n      <td>968.523002</td>\n      <td>0.0</td>\n      <td>0.500000</td>\n    </tr>\n    <tr>\n      <th>Campillo (El)</th>\n      <td>56.0</td>\n      <td>1.0</td>\n      <td>2.0</td>\n      <td>2023.0</td>\n      <td>49.431537</td>\n      <td>98.863075</td>\n      <td>0.0</td>\n      <td>0.500000</td>\n    </tr>\n    <tr>\n      <th>Huelva-Costa</th>\n      <td>6982.0</td>\n      <td>303.0</td>\n      <td>599.0</td>\n      <td>288115.0</td>\n      <td>105.166340</td>\n      <td>207.903094</td>\n      <td>103.0</td>\n      <td>0.505843</td>\n    </tr>\n    <tr>\n      <th>Moguer</th>\n      <td>430.0</td>\n      <td>21.0</td>\n      <td>41.0</td>\n      <td>22088.0</td>\n      <td>95.074248</td>\n      <td>185.621152</td>\n      <td>0.0</td>\n      <td>0.512195</td>\n    </tr>\n    <tr>\n      <th>Huelva (capital)</th>\n      <td>3473.0</td>\n      <td>140.0</td>\n      <td>273.0</td>\n      <td>143663.0</td>\n      <td>97.450283</td>\n      <td>190.028052</td>\n      <td>54.0</td>\n      <td>0.512821</td>\n    </tr>\n    <tr>\n      <th>Huelva</th>\n      <td>12163.0</td>\n      <td>462.0</td>\n      <td>892.0</td>\n      <td>510743.0</td>\n      <td>90.456453</td>\n      <td>174.647523</td>\n      <td>120.0</td>\n      <td>0.517937</td>\n    </tr>\n    <tr>\n      <th>Condado-Campiña</th>\n      <td>3630.0</td>\n      <td>88.0</td>\n      <td>168.0</td>\n      <td>155057.0</td>\n      <td>56.753323</td>\n      <td>108.347253</td>\n      <td>10.0</td>\n      <td>0.523810</td>\n    </tr>\n    <tr>\n      <th>Calañas</th>\n      <td>48.0</td>\n      <td>3.0</td>\n      <td>5.0</td>\n      <td>2791.0</td>\n      <td>107.488355</td>\n      <td>179.147259</td>\n      <td>0.0</td>\n      <td>0.600000</td>\n    </tr>\n    <tr>\n      <th>San Juan del Puerto</th>\n      <td>167.0</td>\n      <td>8.0</td>\n      <td>13.0</td>\n      <td>9300.0</td>\n      <td>86.021505</td>\n      <td>139.784946</td>\n      <td>2.0</td>\n      <td>0.615385</td>\n    </tr>\n    <tr>\n      <th>Sierra de Huelva-Andévalo Central</th>\n      <td>1394.0</td>\n      <td>62.0</td>\n      <td>100.0</td>\n      <td>67571.0</td>\n      <td>91.755339</td>\n      <td>147.992482</td>\n      <td>11.0</td>\n      <td>0.620000</td>\n    </tr>\n    <tr>\n      <th>Cartaya</th>\n      <td>464.0</td>\n      <td>22.0</td>\n      <td>35.0</td>\n      <td>19974.0</td>\n      <td>110.143186</td>\n      <td>175.227796</td>\n      <td>6.0</td>\n      <td>0.628571</td>\n    </tr>\n    <tr>\n      <th>Almonte</th>\n      <td>461.0</td>\n      <td>8.0</td>\n      <td>12.0</td>\n      <td>24191.0</td>\n      <td>33.070150</td>\n      <td>49.605225</td>\n      <td>1.0</td>\n      <td>0.666667</td>\n    </tr>\n    <tr>\n      <th>Aracena</th>\n      <td>306.0</td>\n      <td>13.0</td>\n      <td>19.0</td>\n      <td>8107.0</td>\n      <td>160.355249</td>\n      <td>234.365363</td>\n      <td>5.0</td>\n      <td>0.684211</td>\n    </tr>\n    <tr>\n      <th>Rociana del Condado</th>\n      <td>128.0</td>\n      <td>5.0</td>\n      <td>7.0</td>\n      <td>7855.0</td>\n      <td>63.653724</td>\n      <td>89.115213</td>\n      <td>0.0</td>\n      <td>0.714286</td>\n    </tr>\n    <tr>\n      <th>Valverde del Camino</th>\n      <td>281.0</td>\n      <td>6.0</td>\n      <td>8.0</td>\n      <td>12820.0</td>\n      <td>46.801872</td>\n      <td>62.402496</td>\n      <td>0.0</td>\n      <td>0.750000</td>\n    </tr>\n    <tr>\n      <th>Bonares</th>\n      <td>72.0</td>\n      <td>4.0</td>\n      <td>5.0</td>\n      <td>6058.0</td>\n      <td>66.028392</td>\n      <td>82.535490</td>\n      <td>0.0</td>\n      <td>0.800000</td>\n    </tr>\n    <tr>\n      <th>Encinasola</th>\n      <td>14.0</td>\n      <td>4.0</td>\n      <td>5.0</td>\n      <td>1305.0</td>\n      <td>306.513410</td>\n      <td>383.141762</td>\n      <td>0.0</td>\n      <td>0.800000</td>\n    </tr>\n    <tr>\n      <th>Bollullos Par del Condado</th>\n      <td>263.0</td>\n      <td>9.0</td>\n      <td>11.0</td>\n      <td>14272.0</td>\n      <td>63.060538</td>\n      <td>77.073991</td>\n      <td>1.0</td>\n      <td>0.818182</td>\n    </tr>\n    <tr>\n      <th>Aljaraque</th>\n      <td>487.0</td>\n      <td>40.0</td>\n      <td>44.0</td>\n      <td>21260.0</td>\n      <td>188.146754</td>\n      <td>206.961430</td>\n      <td>12.0</td>\n      <td>0.909091</td>\n    </tr>\n    <tr>\n      <th>San Bartolomé de la Torre</th>\n      <td>53.0</td>\n      <td>8.0</td>\n      <td>8.0</td>\n      <td>3736.0</td>\n      <td>214.132762</td>\n      <td>214.132762</td>\n      <td>1.0</td>\n      <td>1.000000</td>\n    </tr>\n    <tr>\n      <th>Villalba del Alcor</th>\n      <td>115.0</td>\n      <td>11.0</td>\n      <td>11.0</td>\n      <td>3338.0</td>\n      <td>329.538646</td>\n      <td>329.538646</td>\n      <td>5.0</td>\n      <td>1.000000</td>\n    </tr>\n    <tr>\n      <th>Higuera de la Sierra</th>\n      <td>16.0</td>\n      <td>1.0</td>\n      <td>1.0</td>\n      <td>1287.0</td>\n      <td>77.700078</td>\n      <td>77.700078</td>\n      <td>0.0</td>\n      <td>1.000000</td>\n    </tr>\n    <tr>\n      <th>Minas de Riotinto</th>\n      <td>69.0</td>\n      <td>2.0</td>\n      <td>2.0</td>\n      <td>3848.0</td>\n      <td>51.975052</td>\n      <td>51.975052</td>\n      <td>0.0</td>\n      <td>1.000000</td>\n    </tr>\n    <tr>\n      <th>Gibraleón</th>\n      <td>352.0</td>\n      <td>1.0</td>\n      <td>1.0</td>\n      <td>12607.0</td>\n      <td>7.932101</td>\n      <td>7.932101</td>\n      <td>0.0</td>\n      <td>1.000000</td>\n    </tr>\n    <tr>\n      <th>Cortegana</th>\n      <td>130.0</td>\n      <td>7.0</td>\n      <td>7.0</td>\n      <td>4666.0</td>\n      <td>150.021432</td>\n      <td>150.021432</td>\n      <td>0.0</td>\n      <td>1.000000</td>\n    </tr>\n    <tr>\n      <th>Corteconcepción</th>\n      <td>20.0</td>\n      <td>2.0</td>\n      <td>2.0</td>\n      <td>548.0</td>\n      <td>364.963504</td>\n      <td>364.963504</td>\n      <td>0.0</td>\n      <td>1.000000</td>\n    </tr>\n    <tr>\n      <th>Castaño del Robledo</th>\n      <td>3.0</td>\n      <td>1.0</td>\n      <td>1.0</td>\n      <td>223.0</td>\n      <td>448.430493</td>\n      <td>448.430493</td>\n      <td>0.0</td>\n      <td>1.000000</td>\n    </tr>\n    <tr>\n      <th>Aroche</th>\n      <td>69.0</td>\n      <td>14.0</td>\n      <td>14.0</td>\n      <td>3073.0</td>\n      <td>455.580866</td>\n      <td>455.580866</td>\n      <td>1.0</td>\n      <td>1.000000</td>\n    </tr>\n    <tr>\n      <th>Puebla de Guzmán</th>\n      <td>27.0</td>\n      <td>2.0</td>\n      <td>2.0</td>\n      <td>3073.0</td>\n      <td>65.082981</td>\n      <td>65.082981</td>\n      <td>1.0</td>\n      <td>1.000000</td>\n    </tr>\n    <tr>\n      <th>Zarza-Perrunal (La)</th>\n      <td>15.0</td>\n      <td>2.0</td>\n      <td>2.0</td>\n      <td>1267.0</td>\n      <td>157.853197</td>\n      <td>157.853197</td>\n      <td>0.0</td>\n      <td>1.000000</td>\n    </tr>\n  </tbody>\n</table>\n</div>"
     },
     "metadata": {},
     "execution_count": 18
    }
   ],
   "source": [
    "# Peso de la tasa de la última semana en relación con la tasa a 14 días \n",
    "# Mejor cuanto menor. Valor 1 significa que no había casos antes de 7 días.\n",
    "tabla['7/14'] = tabla['tasa7'] / tabla['tasa14']\n",
    "tabla.fillna(0).sort_values('7/14', ascending=True)"
   ]
  },
  {
   "cell_type": "code",
   "execution_count": null,
   "metadata": {},
   "outputs": [],
   "source": []
  }
 ]
}