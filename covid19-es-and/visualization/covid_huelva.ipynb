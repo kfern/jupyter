{
 "metadata": {
  "language_info": {
   "codemirror_mode": {
    "name": "ipython",
    "version": 3
   },
   "file_extension": ".py",
   "mimetype": "text/x-python",
   "name": "python",
   "nbconvert_exporter": "python",
   "pygments_lexer": "ipython3",
   "version": "3.8.6"
  },
  "orig_nbformat": 2,
  "kernelspec": {
   "name": "python3",
   "display_name": "Python 3.8.6 64-bit"
  },
  "interpreter": {
   "hash": "31f2aee4e71d21fbe5cf8b01ff0e069b9275f58929596ceb00d14d90e3e16cd6"
  }
 },
 "nbformat": 4,
 "nbformat_minor": 2,
 "cells": [
  {
   "cell_type": "code",
   "execution_count": 1,
   "metadata": {},
   "outputs": [],
   "source": [
    "import pandas as pd\n",
    "pd.set_option('display.max_rows', None) # Print all rows"
   ]
  },
  {
   "cell_type": "code",
   "execution_count": 2,
   "metadata": {},
   "outputs": [],
   "source": [
    "# FIX SSL: CERTIFICATE_VERIFY_FAILED with Python3\n",
    "# https://stackoverflow.com/a/49174340\n",
    "import ssl\n",
    "\n",
    "ssl._create_default_https_context = ssl._create_unverified_context"
   ]
  },
  {
   "cell_type": "code",
   "execution_count": 3,
   "metadata": {},
   "outputs": [],
   "source": [
    "url = 'https://www.juntadeandalucia.es/institutodeestadisticaycartografia/badea/stpivot/stpivot/Print?cube=013d884c-cfc5-4c21-9e78-e26225682afd&type=3&foto=si&ejecutaDesde=&codConsulta=38668&consTipoVisua=JP'\n",
    "fields = ['Lugar de residencia', 'Medida', 'Valor']\n",
    "df = pd.read_csv(url, delimiter=';', usecols=fields, decimal=',')"
   ]
  },
  {
   "cell_type": "code",
   "execution_count": 4,
   "metadata": {},
   "outputs": [
    {
     "output_type": "execute_result",
     "data": {
      "text/plain": [
       "  Lugar de residencia                    Medida              Valor\n",
       "0              Huelva                 Población             513170\n",
       "1              Huelva          Confirmados PDIA              32986\n",
       "2              Huelva  Confirmados PDIA 14 días               1157\n",
       "3              Huelva         Tasa PDIA 14 días  225,4613480912758\n",
       "4              Huelva   Confirmados PDIA 7 días                472\n",
       "5              Huelva        Total Confirmados               33169\n",
       "6              Huelva                   Curados              30941\n",
       "7              Huelva                Fallecidos                388"
      ],
      "text/html": "<div>\n<style scoped>\n    .dataframe tbody tr th:only-of-type {\n        vertical-align: middle;\n    }\n\n    .dataframe tbody tr th {\n        vertical-align: top;\n    }\n\n    .dataframe thead th {\n        text-align: right;\n    }\n</style>\n<table border=\"1\" class=\"dataframe\">\n  <thead>\n    <tr style=\"text-align: right;\">\n      <th></th>\n      <th>Lugar de residencia</th>\n      <th>Medida</th>\n      <th>Valor</th>\n    </tr>\n  </thead>\n  <tbody>\n    <tr>\n      <th>0</th>\n      <td>Huelva</td>\n      <td>Población</td>\n      <td>513170</td>\n    </tr>\n    <tr>\n      <th>1</th>\n      <td>Huelva</td>\n      <td>Confirmados PDIA</td>\n      <td>32986</td>\n    </tr>\n    <tr>\n      <th>2</th>\n      <td>Huelva</td>\n      <td>Confirmados PDIA 14 días</td>\n      <td>1157</td>\n    </tr>\n    <tr>\n      <th>3</th>\n      <td>Huelva</td>\n      <td>Tasa PDIA 14 días</td>\n      <td>225,4613480912758</td>\n    </tr>\n    <tr>\n      <th>4</th>\n      <td>Huelva</td>\n      <td>Confirmados PDIA 7 días</td>\n      <td>472</td>\n    </tr>\n    <tr>\n      <th>5</th>\n      <td>Huelva</td>\n      <td>Total Confirmados</td>\n      <td>33169</td>\n    </tr>\n    <tr>\n      <th>6</th>\n      <td>Huelva</td>\n      <td>Curados</td>\n      <td>30941</td>\n    </tr>\n    <tr>\n      <th>7</th>\n      <td>Huelva</td>\n      <td>Fallecidos</td>\n      <td>388</td>\n    </tr>\n  </tbody>\n</table>\n</div>"
     },
     "metadata": {},
     "execution_count": 4
    }
   ],
   "source": [
    "df[df['Lugar de residencia'] == 'Huelva']"
   ]
  },
  {
   "cell_type": "code",
   "execution_count": 5,
   "metadata": {},
   "outputs": [],
   "source": [
    "df['Valor'] = pd.to_numeric(df['Valor'],errors='coerce')"
   ]
  },
  {
   "cell_type": "code",
   "execution_count": 6,
   "metadata": {},
   "outputs": [],
   "source": [
    "dfAnterior = pd.read_csv('covid_huelva.csv', index_col='Lugar de residencia')"
   ]
  },
  {
   "cell_type": "code",
   "execution_count": 7,
   "metadata": {
    "tags": []
   },
   "outputs": [
    {
     "output_type": "stream",
     "name": "stdout",
     "text": [
      "Confirmados PCR en la provincia de Huelva:  32986.0\n",
      "<ipython-input-7-31b732756b19>:2: UserWarning: Boolean Series key will be reindexed to match DataFrame index.\n",
      "  p = df[df['Lugar de residencia'] == 'Huelva'][df['Medida'] == 'Confirmados PDIA']['Valor'].values[0]\n"
     ]
    }
   ],
   "source": [
    "# Confirmados PCR provincia Huelva\n",
    "p = df[df['Lugar de residencia'] == 'Huelva'][df['Medida'] == 'Confirmados PDIA']['Valor'].values[0]\n",
    "print('Confirmados PCR en la provincia de Huelva: ', p)"
   ]
  },
  {
   "cell_type": "code",
   "execution_count": 8,
   "metadata": {
    "tags": []
   },
   "outputs": [
    {
     "output_type": "stream",
     "name": "stdout",
     "text": [
      "Confirmados PCR en Huelva capital:  9021.0\n",
      "<ipython-input-8-e81bfb40e710>:2: UserWarning: Boolean Series key will be reindexed to match DataFrame index.\n",
      "  c = df[df['Lugar de residencia'] == 'Huelva (capital)'][df['Medida'] == 'Confirmados PDIA']['Valor'].values[0]\n"
     ]
    }
   ],
   "source": [
    "# Confirmados PCR Huelva capitalpd\n",
    "c = df[df['Lugar de residencia'] == 'Huelva (capital)'][df['Medida'] == 'Confirmados PDIA']['Valor'].values[0]\n",
    "print('Confirmados PCR en Huelva capital: ', c)"
   ]
  },
  {
   "cell_type": "code",
   "execution_count": 9,
   "metadata": {
    "tags": []
   },
   "outputs": [
    {
     "output_type": "stream",
     "name": "stderr",
     "text": [
      "<ipython-input-9-f09dd2050cc1>:1: UserWarning: Boolean Series key will be reindexed to match DataFrame index.\n  c7 = df[df['Lugar de residencia'] == 'Huelva (capital)'][df['Medida'] == 'Confirmados PDIA 7 días']['Valor'].values[0]\n<ipython-input-9-f09dd2050cc1>:2: UserWarning: Boolean Series key will be reindexed to match DataFrame index.\n  c14 = df[df['Lugar de residencia'] == 'Huelva (capital)'][df['Medida'] == 'Confirmados PDIA 14 días']['Valor'].values[0]\n<ipython-input-9-f09dd2050cc1>:3: UserWarning: Boolean Series key will be reindexed to match DataFrame index.\n  p = df[df['Lugar de residencia'] == 'Huelva (capital)'][df['Medida'] == 'Población']['Valor'].values[0]\n"
     ]
    }
   ],
   "source": [
    "c7 = df[df['Lugar de residencia'] == 'Huelva (capital)'][df['Medida'] == 'Confirmados PDIA 7 días']['Valor'].values[0]\n",
    "c14 = df[df['Lugar de residencia'] == 'Huelva (capital)'][df['Medida'] == 'Confirmados PDIA 14 días']['Valor'].values[0]\n",
    "p = df[df['Lugar de residencia'] == 'Huelva (capital)'][df['Medida'] == 'Población']['Valor'].values[0]"
   ]
  },
  {
   "cell_type": "code",
   "execution_count": 10,
   "metadata": {
    "tags": []
   },
   "outputs": [
    {
     "output_type": "stream",
     "name": "stdout",
     "text": [
      "Huelva (capital)\n\nUn positivo PCR cada 817 personas en los últimos 7 días \n\nUn positivo PCR cada 289 personas en los últimos 14 días\n"
     ]
    }
   ],
   "source": [
    "print('Huelva (capital)\\n')\n",
    "#print('Confirmados PCR 7 días x 1,000 habitantes: ', f\"{c7/(p/1000):.5f}\")\n",
    "print('Un positivo PCR cada', f\"{p/c7:.0f}\", 'personas en los últimos 7 días', '\\n')\n",
    "#print('Confirmados PCR 14 días x 1,000 habitantes: ', f\"{c14/(p/1000):.5f}\")\n",
    "print('Un positivo PCR cada', f\"{p/c14:.0f}\", 'personas en los últimos 14 días')"
   ]
  },
  {
   "cell_type": "code",
   "execution_count": 11,
   "metadata": {},
   "outputs": [],
   "source": [
    "filtro = ((df['Medida'] == 'Confirmados PDIA')| (df['Medida'] == 'Confirmados PDIA 7 días') | (df['Medida'] == 'Población' ) | (df['Medida'] == 'Confirmados PDIA 14 días')) & (df['Valor'] > 0)\n",
    "tabla = pd.pivot_table(df.loc[filtro], values='Valor', index='Lugar de residencia', columns='Medida').dropna()"
   ]
  },
  {
   "cell_type": "code",
   "execution_count": 12,
   "metadata": {},
   "outputs": [],
   "source": [
    "# Reorder columns\n",
    "tabla = tabla[['Confirmados PDIA', 'Confirmados PDIA 7 días', 'Confirmados PDIA 14 días', 'Población']]"
   ]
  },
  {
   "cell_type": "code",
   "execution_count": 13,
   "metadata": {},
   "outputs": [],
   "source": [
    "tabla['tasa7'] = tabla['Confirmados PDIA 7 días']/tabla['Población']*100000\n",
    "tabla['tasa14'] = tabla['Confirmados PDIA 14 días']/tabla['Población']*100000"
   ]
  },
  {
   "cell_type": "code",
   "execution_count": 14,
   "metadata": {},
   "outputs": [],
   "source": [
    "tabla['Diferencia PDIA'] = tabla['Confirmados PDIA'] - dfAnterior['Confirmados PDIA']"
   ]
  },
  {
   "cell_type": "code",
   "execution_count": 15,
   "metadata": {},
   "outputs": [
    {
     "output_type": "execute_result",
     "data": {
      "text/plain": [
       "Medida                             Confirmados PDIA  Confirmados PDIA 7 días  \\\n",
       "Lugar de residencia                                                            \n",
       "Huelva                                      32986.0                    472.0   \n",
       "Huelva-Costa                                19006.0                    255.0   \n",
       "Huelva (capital)                             9021.0                    176.0   \n",
       "Condado-Campiña                             10710.0                    167.0   \n",
       "Sierra de Huelva-Andévalo Central            2917.0                     48.0   \n",
       "Moguer                                       1378.0                     27.0   \n",
       "Beas                                          232.0                     17.0   \n",
       "Almonte                                      1905.0                     40.0   \n",
       "Cartaya                                      1380.0                     17.0   \n",
       "Punta Umbría                                  848.0                      8.0   \n",
       "San Juan del Puerto                           566.0                     14.0   \n",
       "Valverde del Camino                           657.0                     30.0   \n",
       "Isla Cristina                                2177.0                     13.0   \n",
       "Palma del Condado (La)                       1184.0                     10.0   \n",
       "Lepe                                         2166.0                     16.0   \n",
       "Bollullos Par del Condado                    1029.0                     13.0   \n",
       "Aljaraque                                    1160.0                      8.0   \n",
       "Cerro de Andévalo (El)                        151.0                      4.0   \n",
       "Trigueros                                     331.0                      6.0   \n",
       "Lucena del Puerto                             267.0                      7.0   \n",
       "Puebla de Guzmán                              141.0                      8.0   \n",
       "Bonares                                       293.0                      5.0   \n",
       "San Bartolomé de la Torre                     307.0                      3.0   \n",
       "Ayamonte                                     1332.0                      3.0   \n",
       "Gibraleón                                     646.0                      5.0   \n",
       "Rociana del Condado                           570.0                     10.0   \n",
       "Calañas                                       201.0                      6.0   \n",
       "Almonaster la Real                             69.0                      2.0   \n",
       "Palos de la Frontera                          707.0                      9.0   \n",
       "Cortegana                                     215.0                      1.0   \n",
       "Cumbres Mayores                                54.0                      1.0   \n",
       "Manzanilla                                    104.0                      1.0   \n",
       "Villanueva de los Castillejos                 165.0                      1.0   \n",
       "\n",
       "Medida                             Confirmados PDIA 14 días  Población  \\\n",
       "Lugar de residencia                                                      \n",
       "Huelva                                               1157.0   513170.0   \n",
       "Huelva-Costa                                          699.0   289548.0   \n",
       "Huelva (capital)                                      498.0   143837.0   \n",
       "Condado-Campiña                                       354.0   156231.0   \n",
       "Sierra de Huelva-Andévalo Central                     101.0    67391.0   \n",
       "Moguer                                                 67.0    21867.0   \n",
       "Beas                                                   21.0     4341.0   \n",
       "Almonte                                                59.0    24507.0   \n",
       "Cartaya                                                30.0    20083.0   \n",
       "Punta Umbría                                           22.0    15355.0   \n",
       "San Juan del Puerto                                    43.0     9411.0   \n",
       "Valverde del Camino                                    58.0    12750.0   \n",
       "Isla Cristina                                          26.0    21393.0   \n",
       "Palma del Condado (La)                                 21.0    10801.0   \n",
       "Lepe                                                   31.0    27880.0   \n",
       "Bollullos Par del Condado                              30.0    14387.0   \n",
       "Aljaraque                                              39.0    21474.0   \n",
       "Cerro de Andévalo (El)                                  6.0     2327.0   \n",
       "Trigueros                                              14.0     7862.0   \n",
       "Lucena del Puerto                                      12.0     3261.0   \n",
       "Puebla de Guzmán                                       20.0     3092.0   \n",
       "Bonares                                                13.0     6060.0   \n",
       "San Bartolomé de la Torre                               7.0     3761.0   \n",
       "Ayamonte                                               11.0    21104.0   \n",
       "Gibraleón                                              14.0    12737.0   \n",
       "Rociana del Condado                                    13.0     7939.0   \n",
       "Calañas                                                10.0     2768.0   \n",
       "Almonaster la Real                                      3.0     1788.0   \n",
       "Palos de la Frontera                                   26.0    11742.0   \n",
       "Cortegana                                               1.0     4602.0   \n",
       "Cumbres Mayores                                         1.0     1749.0   \n",
       "Manzanilla                                              2.0     2118.0   \n",
       "Villanueva de los Castillejos                           3.0     2825.0   \n",
       "\n",
       "Medida                                  tasa7      tasa14  Diferencia PDIA  \n",
       "Lugar de residencia                                                         \n",
       "Huelva                              91.977317  225.461348            173.0  \n",
       "Huelva-Costa                        88.068300  241.410751            104.0  \n",
       "Huelva (capital)                   122.360728  346.225241             73.0  \n",
       "Condado-Campiña                    106.892998  226.587553             56.0  \n",
       "Sierra de Huelva-Andévalo Central   71.226128  149.871645             12.0  \n",
       "Moguer                             123.473728  306.397768             12.0  \n",
       "Beas                               391.614835  483.759502             10.0  \n",
       "Almonte                            163.218672  240.747542              8.0  \n",
       "Cartaya                             84.648708  149.380073              8.0  \n",
       "Punta Umbría                        52.100293  143.275806              7.0  \n",
       "San Juan del Puerto                148.762087  456.912124              6.0  \n",
       "Valverde del Camino                235.294118  454.901961              6.0  \n",
       "Isla Cristina                       60.767541  121.535082              5.0  \n",
       "Palma del Condado (La)              92.584020  194.426442              5.0  \n",
       "Lepe                                57.388809  111.190818              4.0  \n",
       "Bollullos Par del Condado           90.359352  208.521582              4.0  \n",
       "Aljaraque                           37.254354  181.614976              3.0  \n",
       "Cerro de Andévalo (El)             171.895144  257.842716              3.0  \n",
       "Trigueros                           76.316459  178.071737              2.0  \n",
       "Lucena del Puerto                  214.658080  367.985281              2.0  \n",
       "Puebla de Guzmán                   258.732212  646.830530              2.0  \n",
       "Bonares                             82.508251  214.521452              2.0  \n",
       "San Bartolomé de la Torre           79.766020  186.120713              1.0  \n",
       "Ayamonte                            14.215315   52.122820              1.0  \n",
       "Gibraleón                           39.255712  109.915993              1.0  \n",
       "Rociana del Condado                125.960448  163.748583              1.0  \n",
       "Calañas                            216.763006  361.271676              1.0  \n",
       "Almonaster la Real                 111.856823  167.785235              1.0  \n",
       "Palos de la Frontera                76.647931  221.427355              1.0  \n",
       "Cortegana                           21.729683   21.729683              NaN  \n",
       "Cumbres Mayores                     57.175529   57.175529              NaN  \n",
       "Manzanilla                          47.214353   94.428706              NaN  \n",
       "Villanueva de los Castillejos       35.398230  106.194690              NaN  "
      ],
      "text/html": "<div>\n<style scoped>\n    .dataframe tbody tr th:only-of-type {\n        vertical-align: middle;\n    }\n\n    .dataframe tbody tr th {\n        vertical-align: top;\n    }\n\n    .dataframe thead th {\n        text-align: right;\n    }\n</style>\n<table border=\"1\" class=\"dataframe\">\n  <thead>\n    <tr style=\"text-align: right;\">\n      <th>Medida</th>\n      <th>Confirmados PDIA</th>\n      <th>Confirmados PDIA 7 días</th>\n      <th>Confirmados PDIA 14 días</th>\n      <th>Población</th>\n      <th>tasa7</th>\n      <th>tasa14</th>\n      <th>Diferencia PDIA</th>\n    </tr>\n    <tr>\n      <th>Lugar de residencia</th>\n      <th></th>\n      <th></th>\n      <th></th>\n      <th></th>\n      <th></th>\n      <th></th>\n      <th></th>\n    </tr>\n  </thead>\n  <tbody>\n    <tr>\n      <th>Huelva</th>\n      <td>32986.0</td>\n      <td>472.0</td>\n      <td>1157.0</td>\n      <td>513170.0</td>\n      <td>91.977317</td>\n      <td>225.461348</td>\n      <td>173.0</td>\n    </tr>\n    <tr>\n      <th>Huelva-Costa</th>\n      <td>19006.0</td>\n      <td>255.0</td>\n      <td>699.0</td>\n      <td>289548.0</td>\n      <td>88.068300</td>\n      <td>241.410751</td>\n      <td>104.0</td>\n    </tr>\n    <tr>\n      <th>Huelva (capital)</th>\n      <td>9021.0</td>\n      <td>176.0</td>\n      <td>498.0</td>\n      <td>143837.0</td>\n      <td>122.360728</td>\n      <td>346.225241</td>\n      <td>73.0</td>\n    </tr>\n    <tr>\n      <th>Condado-Campiña</th>\n      <td>10710.0</td>\n      <td>167.0</td>\n      <td>354.0</td>\n      <td>156231.0</td>\n      <td>106.892998</td>\n      <td>226.587553</td>\n      <td>56.0</td>\n    </tr>\n    <tr>\n      <th>Sierra de Huelva-Andévalo Central</th>\n      <td>2917.0</td>\n      <td>48.0</td>\n      <td>101.0</td>\n      <td>67391.0</td>\n      <td>71.226128</td>\n      <td>149.871645</td>\n      <td>12.0</td>\n    </tr>\n    <tr>\n      <th>Moguer</th>\n      <td>1378.0</td>\n      <td>27.0</td>\n      <td>67.0</td>\n      <td>21867.0</td>\n      <td>123.473728</td>\n      <td>306.397768</td>\n      <td>12.0</td>\n    </tr>\n    <tr>\n      <th>Beas</th>\n      <td>232.0</td>\n      <td>17.0</td>\n      <td>21.0</td>\n      <td>4341.0</td>\n      <td>391.614835</td>\n      <td>483.759502</td>\n      <td>10.0</td>\n    </tr>\n    <tr>\n      <th>Almonte</th>\n      <td>1905.0</td>\n      <td>40.0</td>\n      <td>59.0</td>\n      <td>24507.0</td>\n      <td>163.218672</td>\n      <td>240.747542</td>\n      <td>8.0</td>\n    </tr>\n    <tr>\n      <th>Cartaya</th>\n      <td>1380.0</td>\n      <td>17.0</td>\n      <td>30.0</td>\n      <td>20083.0</td>\n      <td>84.648708</td>\n      <td>149.380073</td>\n      <td>8.0</td>\n    </tr>\n    <tr>\n      <th>Punta Umbría</th>\n      <td>848.0</td>\n      <td>8.0</td>\n      <td>22.0</td>\n      <td>15355.0</td>\n      <td>52.100293</td>\n      <td>143.275806</td>\n      <td>7.0</td>\n    </tr>\n    <tr>\n      <th>San Juan del Puerto</th>\n      <td>566.0</td>\n      <td>14.0</td>\n      <td>43.0</td>\n      <td>9411.0</td>\n      <td>148.762087</td>\n      <td>456.912124</td>\n      <td>6.0</td>\n    </tr>\n    <tr>\n      <th>Valverde del Camino</th>\n      <td>657.0</td>\n      <td>30.0</td>\n      <td>58.0</td>\n      <td>12750.0</td>\n      <td>235.294118</td>\n      <td>454.901961</td>\n      <td>6.0</td>\n    </tr>\n    <tr>\n      <th>Isla Cristina</th>\n      <td>2177.0</td>\n      <td>13.0</td>\n      <td>26.0</td>\n      <td>21393.0</td>\n      <td>60.767541</td>\n      <td>121.535082</td>\n      <td>5.0</td>\n    </tr>\n    <tr>\n      <th>Palma del Condado (La)</th>\n      <td>1184.0</td>\n      <td>10.0</td>\n      <td>21.0</td>\n      <td>10801.0</td>\n      <td>92.584020</td>\n      <td>194.426442</td>\n      <td>5.0</td>\n    </tr>\n    <tr>\n      <th>Lepe</th>\n      <td>2166.0</td>\n      <td>16.0</td>\n      <td>31.0</td>\n      <td>27880.0</td>\n      <td>57.388809</td>\n      <td>111.190818</td>\n      <td>4.0</td>\n    </tr>\n    <tr>\n      <th>Bollullos Par del Condado</th>\n      <td>1029.0</td>\n      <td>13.0</td>\n      <td>30.0</td>\n      <td>14387.0</td>\n      <td>90.359352</td>\n      <td>208.521582</td>\n      <td>4.0</td>\n    </tr>\n    <tr>\n      <th>Aljaraque</th>\n      <td>1160.0</td>\n      <td>8.0</td>\n      <td>39.0</td>\n      <td>21474.0</td>\n      <td>37.254354</td>\n      <td>181.614976</td>\n      <td>3.0</td>\n    </tr>\n    <tr>\n      <th>Cerro de Andévalo (El)</th>\n      <td>151.0</td>\n      <td>4.0</td>\n      <td>6.0</td>\n      <td>2327.0</td>\n      <td>171.895144</td>\n      <td>257.842716</td>\n      <td>3.0</td>\n    </tr>\n    <tr>\n      <th>Trigueros</th>\n      <td>331.0</td>\n      <td>6.0</td>\n      <td>14.0</td>\n      <td>7862.0</td>\n      <td>76.316459</td>\n      <td>178.071737</td>\n      <td>2.0</td>\n    </tr>\n    <tr>\n      <th>Lucena del Puerto</th>\n      <td>267.0</td>\n      <td>7.0</td>\n      <td>12.0</td>\n      <td>3261.0</td>\n      <td>214.658080</td>\n      <td>367.985281</td>\n      <td>2.0</td>\n    </tr>\n    <tr>\n      <th>Puebla de Guzmán</th>\n      <td>141.0</td>\n      <td>8.0</td>\n      <td>20.0</td>\n      <td>3092.0</td>\n      <td>258.732212</td>\n      <td>646.830530</td>\n      <td>2.0</td>\n    </tr>\n    <tr>\n      <th>Bonares</th>\n      <td>293.0</td>\n      <td>5.0</td>\n      <td>13.0</td>\n      <td>6060.0</td>\n      <td>82.508251</td>\n      <td>214.521452</td>\n      <td>2.0</td>\n    </tr>\n    <tr>\n      <th>San Bartolomé de la Torre</th>\n      <td>307.0</td>\n      <td>3.0</td>\n      <td>7.0</td>\n      <td>3761.0</td>\n      <td>79.766020</td>\n      <td>186.120713</td>\n      <td>1.0</td>\n    </tr>\n    <tr>\n      <th>Ayamonte</th>\n      <td>1332.0</td>\n      <td>3.0</td>\n      <td>11.0</td>\n      <td>21104.0</td>\n      <td>14.215315</td>\n      <td>52.122820</td>\n      <td>1.0</td>\n    </tr>\n    <tr>\n      <th>Gibraleón</th>\n      <td>646.0</td>\n      <td>5.0</td>\n      <td>14.0</td>\n      <td>12737.0</td>\n      <td>39.255712</td>\n      <td>109.915993</td>\n      <td>1.0</td>\n    </tr>\n    <tr>\n      <th>Rociana del Condado</th>\n      <td>570.0</td>\n      <td>10.0</td>\n      <td>13.0</td>\n      <td>7939.0</td>\n      <td>125.960448</td>\n      <td>163.748583</td>\n      <td>1.0</td>\n    </tr>\n    <tr>\n      <th>Calañas</th>\n      <td>201.0</td>\n      <td>6.0</td>\n      <td>10.0</td>\n      <td>2768.0</td>\n      <td>216.763006</td>\n      <td>361.271676</td>\n      <td>1.0</td>\n    </tr>\n    <tr>\n      <th>Almonaster la Real</th>\n      <td>69.0</td>\n      <td>2.0</td>\n      <td>3.0</td>\n      <td>1788.0</td>\n      <td>111.856823</td>\n      <td>167.785235</td>\n      <td>1.0</td>\n    </tr>\n    <tr>\n      <th>Palos de la Frontera</th>\n      <td>707.0</td>\n      <td>9.0</td>\n      <td>26.0</td>\n      <td>11742.0</td>\n      <td>76.647931</td>\n      <td>221.427355</td>\n      <td>1.0</td>\n    </tr>\n    <tr>\n      <th>Cortegana</th>\n      <td>215.0</td>\n      <td>1.0</td>\n      <td>1.0</td>\n      <td>4602.0</td>\n      <td>21.729683</td>\n      <td>21.729683</td>\n      <td>NaN</td>\n    </tr>\n    <tr>\n      <th>Cumbres Mayores</th>\n      <td>54.0</td>\n      <td>1.0</td>\n      <td>1.0</td>\n      <td>1749.0</td>\n      <td>57.175529</td>\n      <td>57.175529</td>\n      <td>NaN</td>\n    </tr>\n    <tr>\n      <th>Manzanilla</th>\n      <td>104.0</td>\n      <td>1.0</td>\n      <td>2.0</td>\n      <td>2118.0</td>\n      <td>47.214353</td>\n      <td>94.428706</td>\n      <td>NaN</td>\n    </tr>\n    <tr>\n      <th>Villanueva de los Castillejos</th>\n      <td>165.0</td>\n      <td>1.0</td>\n      <td>3.0</td>\n      <td>2825.0</td>\n      <td>35.398230</td>\n      <td>106.194690</td>\n      <td>NaN</td>\n    </tr>\n  </tbody>\n</table>\n</div>"
     },
     "metadata": {},
     "execution_count": 15
    }
   ],
   "source": [
    "# Nuevos casos desde la última captura\n",
    "tabla[tabla['Diferencia PDIA'] != 0].sort_values('Diferencia PDIA', ascending=False)"
   ]
  },
  {
   "cell_type": "code",
   "execution_count": 16,
   "metadata": {},
   "outputs": [],
   "source": [
    "if tabla[tabla['Diferencia PDIA'] != 0]['Diferencia PDIA'].sum() != 0:\n",
    "  # Save to csv\n",
    "  tabla.to_csv('covid_huelva.csv', encoding='utf-8', header=True, index=True)  "
   ]
  },
  {
   "cell_type": "code",
   "execution_count": 17,
   "metadata": {},
   "outputs": [
    {
     "output_type": "execute_result",
     "data": {
      "text/plain": [
       "Medida                             Confirmados PDIA  Confirmados PDIA 7 días  \\\n",
       "Lugar de residencia                                                            \n",
       "Puebla de Guzmán                              141.0                      8.0   \n",
       "Beas                                          232.0                     17.0   \n",
       "San Juan del Puerto                           566.0                     14.0   \n",
       "Valverde del Camino                           657.0                     30.0   \n",
       "Lucena del Puerto                             267.0                      7.0   \n",
       "Calañas                                       201.0                      6.0   \n",
       "Almendro (El)                                  39.0                      1.0   \n",
       "Huelva (capital)                             9021.0                    176.0   \n",
       "Moguer                                       1378.0                     27.0   \n",
       "Alosno                                        179.0                      1.0   \n",
       "Cerro de Andévalo (El)                        151.0                      4.0   \n",
       "Huelva-Costa                                19006.0                    255.0   \n",
       "Almonte                                      1905.0                     40.0   \n",
       "Condado-Campiña                             10710.0                    167.0   \n",
       "Huelva                                      32986.0                    472.0   \n",
       "Palos de la Frontera                          707.0                      9.0   \n",
       "Bonares                                       293.0                      5.0   \n",
       "Bollullos Par del Condado                    1029.0                     13.0   \n",
       "Palma del Condado (La)                       1184.0                     10.0   \n",
       "San Bartolomé de la Torre                     307.0                      3.0   \n",
       "Aljaraque                                    1160.0                      8.0   \n",
       "Trigueros                                     331.0                      6.0   \n",
       "Almonaster la Real                             69.0                      2.0   \n",
       "Rociana del Condado                           570.0                     10.0   \n",
       "Sierra de Huelva-Andévalo Central            2917.0                     48.0   \n",
       "Cartaya                                      1380.0                     17.0   \n",
       "Punta Umbría                                  848.0                      8.0   \n",
       "Villablanca                                   191.0                      2.0   \n",
       "Isla Cristina                                2177.0                     13.0   \n",
       "Lepe                                         2166.0                     16.0   \n",
       "Gibraleón                                     646.0                      5.0   \n",
       "Aracena                                       539.0                      2.0   \n",
       "Villanueva de los Castillejos                 165.0                      1.0   \n",
       "Santa Bárbara de Casa                          16.0                      1.0   \n",
       "Manzanilla                                    104.0                      1.0   \n",
       "Zarza-Perrunal (La)                            26.0                      1.0   \n",
       "Cumbres Mayores                                54.0                      1.0   \n",
       "Minas de Riotinto                             129.0                      1.0   \n",
       "Ayamonte                                     1332.0                      3.0   \n",
       "Cortegana                                     215.0                      1.0   \n",
       "\n",
       "Medida                             Confirmados PDIA 14 días  Población  \\\n",
       "Lugar de residencia                                                      \n",
       "Puebla de Guzmán                                       20.0     3092.0   \n",
       "Beas                                                   21.0     4341.0   \n",
       "San Juan del Puerto                                    43.0     9411.0   \n",
       "Valverde del Camino                                    58.0    12750.0   \n",
       "Lucena del Puerto                                      12.0     3261.0   \n",
       "Calañas                                                10.0     2768.0   \n",
       "Almendro (El)                                           3.0      840.0   \n",
       "Huelva (capital)                                      498.0   143837.0   \n",
       "Moguer                                                 67.0    21867.0   \n",
       "Alosno                                                 11.0     3933.0   \n",
       "Cerro de Andévalo (El)                                  6.0     2327.0   \n",
       "Huelva-Costa                                          699.0   289548.0   \n",
       "Almonte                                                59.0    24507.0   \n",
       "Condado-Campiña                                       354.0   156231.0   \n",
       "Huelva                                               1157.0   513170.0   \n",
       "Palos de la Frontera                                   26.0    11742.0   \n",
       "Bonares                                                13.0     6060.0   \n",
       "Bollullos Par del Condado                              30.0    14387.0   \n",
       "Palma del Condado (La)                                 21.0    10801.0   \n",
       "San Bartolomé de la Torre                               7.0     3761.0   \n",
       "Aljaraque                                              39.0    21474.0   \n",
       "Trigueros                                              14.0     7862.0   \n",
       "Almonaster la Real                                      3.0     1788.0   \n",
       "Rociana del Condado                                    13.0     7939.0   \n",
       "Sierra de Huelva-Andévalo Central                     101.0    67391.0   \n",
       "Cartaya                                                30.0    20083.0   \n",
       "Punta Umbría                                           22.0    15355.0   \n",
       "Villablanca                                             4.0     2885.0   \n",
       "Isla Cristina                                          26.0    21393.0   \n",
       "Lepe                                                   31.0    27880.0   \n",
       "Gibraleón                                              14.0    12737.0   \n",
       "Aracena                                                 9.0     8255.0   \n",
       "Villanueva de los Castillejos                           3.0     2825.0   \n",
       "Santa Bárbara de Casa                                   1.0     1043.0   \n",
       "Manzanilla                                              2.0     2118.0   \n",
       "Zarza-Perrunal (La)                                     1.0     1253.0   \n",
       "Cumbres Mayores                                         1.0     1749.0   \n",
       "Minas de Riotinto                                       2.0     3812.0   \n",
       "Ayamonte                                               11.0    21104.0   \n",
       "Cortegana                                               1.0     4602.0   \n",
       "\n",
       "Medida                                  tasa7      tasa14  Diferencia PDIA  \n",
       "Lugar de residencia                                                         \n",
       "Puebla de Guzmán                   258.732212  646.830530              2.0  \n",
       "Beas                               391.614835  483.759502             10.0  \n",
       "San Juan del Puerto                148.762087  456.912124              6.0  \n",
       "Valverde del Camino                235.294118  454.901961              6.0  \n",
       "Lucena del Puerto                  214.658080  367.985281              2.0  \n",
       "Calañas                            216.763006  361.271676              1.0  \n",
       "Almendro (El)                      119.047619  357.142857              0.0  \n",
       "Huelva (capital)                   122.360728  346.225241             73.0  \n",
       "Moguer                             123.473728  306.397768             12.0  \n",
       "Alosno                              25.425884  279.684719              0.0  \n",
       "Cerro de Andévalo (El)             171.895144  257.842716              3.0  \n",
       "Huelva-Costa                        88.068300  241.410751            104.0  \n",
       "Almonte                            163.218672  240.747542              8.0  \n",
       "Condado-Campiña                    106.892998  226.587553             56.0  \n",
       "Huelva                              91.977317  225.461348            173.0  \n",
       "Palos de la Frontera                76.647931  221.427355              1.0  \n",
       "Bonares                             82.508251  214.521452              2.0  \n",
       "Bollullos Par del Condado           90.359352  208.521582              4.0  \n",
       "Palma del Condado (La)              92.584020  194.426442              5.0  \n",
       "San Bartolomé de la Torre           79.766020  186.120713              1.0  \n",
       "Aljaraque                           37.254354  181.614976              3.0  \n",
       "Trigueros                           76.316459  178.071737              2.0  \n",
       "Almonaster la Real                 111.856823  167.785235              1.0  \n",
       "Rociana del Condado                125.960448  163.748583              1.0  \n",
       "Sierra de Huelva-Andévalo Central   71.226128  149.871645             12.0  \n",
       "Cartaya                             84.648708  149.380073              8.0  \n",
       "Punta Umbría                        52.100293  143.275806              7.0  \n",
       "Villablanca                         69.324090  138.648180              0.0  \n",
       "Isla Cristina                       60.767541  121.535082              5.0  \n",
       "Lepe                                57.388809  111.190818              4.0  \n",
       "Gibraleón                           39.255712  109.915993              1.0  \n",
       "Aracena                             24.227741  109.024833              0.0  \n",
       "Villanueva de los Castillejos       35.398230  106.194690              NaN  \n",
       "Santa Bárbara de Casa               95.877277   95.877277              0.0  \n",
       "Manzanilla                          47.214353   94.428706              NaN  \n",
       "Zarza-Perrunal (La)                 79.808460   79.808460              0.0  \n",
       "Cumbres Mayores                     57.175529   57.175529              NaN  \n",
       "Minas de Riotinto                   26.232949   52.465897              0.0  \n",
       "Ayamonte                            14.215315   52.122820              1.0  \n",
       "Cortegana                           21.729683   21.729683              NaN  "
      ],
      "text/html": "<div>\n<style scoped>\n    .dataframe tbody tr th:only-of-type {\n        vertical-align: middle;\n    }\n\n    .dataframe tbody tr th {\n        vertical-align: top;\n    }\n\n    .dataframe thead th {\n        text-align: right;\n    }\n</style>\n<table border=\"1\" class=\"dataframe\">\n  <thead>\n    <tr style=\"text-align: right;\">\n      <th>Medida</th>\n      <th>Confirmados PDIA</th>\n      <th>Confirmados PDIA 7 días</th>\n      <th>Confirmados PDIA 14 días</th>\n      <th>Población</th>\n      <th>tasa7</th>\n      <th>tasa14</th>\n      <th>Diferencia PDIA</th>\n    </tr>\n    <tr>\n      <th>Lugar de residencia</th>\n      <th></th>\n      <th></th>\n      <th></th>\n      <th></th>\n      <th></th>\n      <th></th>\n      <th></th>\n    </tr>\n  </thead>\n  <tbody>\n    <tr>\n      <th>Puebla de Guzmán</th>\n      <td>141.0</td>\n      <td>8.0</td>\n      <td>20.0</td>\n      <td>3092.0</td>\n      <td>258.732212</td>\n      <td>646.830530</td>\n      <td>2.0</td>\n    </tr>\n    <tr>\n      <th>Beas</th>\n      <td>232.0</td>\n      <td>17.0</td>\n      <td>21.0</td>\n      <td>4341.0</td>\n      <td>391.614835</td>\n      <td>483.759502</td>\n      <td>10.0</td>\n    </tr>\n    <tr>\n      <th>San Juan del Puerto</th>\n      <td>566.0</td>\n      <td>14.0</td>\n      <td>43.0</td>\n      <td>9411.0</td>\n      <td>148.762087</td>\n      <td>456.912124</td>\n      <td>6.0</td>\n    </tr>\n    <tr>\n      <th>Valverde del Camino</th>\n      <td>657.0</td>\n      <td>30.0</td>\n      <td>58.0</td>\n      <td>12750.0</td>\n      <td>235.294118</td>\n      <td>454.901961</td>\n      <td>6.0</td>\n    </tr>\n    <tr>\n      <th>Lucena del Puerto</th>\n      <td>267.0</td>\n      <td>7.0</td>\n      <td>12.0</td>\n      <td>3261.0</td>\n      <td>214.658080</td>\n      <td>367.985281</td>\n      <td>2.0</td>\n    </tr>\n    <tr>\n      <th>Calañas</th>\n      <td>201.0</td>\n      <td>6.0</td>\n      <td>10.0</td>\n      <td>2768.0</td>\n      <td>216.763006</td>\n      <td>361.271676</td>\n      <td>1.0</td>\n    </tr>\n    <tr>\n      <th>Almendro (El)</th>\n      <td>39.0</td>\n      <td>1.0</td>\n      <td>3.0</td>\n      <td>840.0</td>\n      <td>119.047619</td>\n      <td>357.142857</td>\n      <td>0.0</td>\n    </tr>\n    <tr>\n      <th>Huelva (capital)</th>\n      <td>9021.0</td>\n      <td>176.0</td>\n      <td>498.0</td>\n      <td>143837.0</td>\n      <td>122.360728</td>\n      <td>346.225241</td>\n      <td>73.0</td>\n    </tr>\n    <tr>\n      <th>Moguer</th>\n      <td>1378.0</td>\n      <td>27.0</td>\n      <td>67.0</td>\n      <td>21867.0</td>\n      <td>123.473728</td>\n      <td>306.397768</td>\n      <td>12.0</td>\n    </tr>\n    <tr>\n      <th>Alosno</th>\n      <td>179.0</td>\n      <td>1.0</td>\n      <td>11.0</td>\n      <td>3933.0</td>\n      <td>25.425884</td>\n      <td>279.684719</td>\n      <td>0.0</td>\n    </tr>\n    <tr>\n      <th>Cerro de Andévalo (El)</th>\n      <td>151.0</td>\n      <td>4.0</td>\n      <td>6.0</td>\n      <td>2327.0</td>\n      <td>171.895144</td>\n      <td>257.842716</td>\n      <td>3.0</td>\n    </tr>\n    <tr>\n      <th>Huelva-Costa</th>\n      <td>19006.0</td>\n      <td>255.0</td>\n      <td>699.0</td>\n      <td>289548.0</td>\n      <td>88.068300</td>\n      <td>241.410751</td>\n      <td>104.0</td>\n    </tr>\n    <tr>\n      <th>Almonte</th>\n      <td>1905.0</td>\n      <td>40.0</td>\n      <td>59.0</td>\n      <td>24507.0</td>\n      <td>163.218672</td>\n      <td>240.747542</td>\n      <td>8.0</td>\n    </tr>\n    <tr>\n      <th>Condado-Campiña</th>\n      <td>10710.0</td>\n      <td>167.0</td>\n      <td>354.0</td>\n      <td>156231.0</td>\n      <td>106.892998</td>\n      <td>226.587553</td>\n      <td>56.0</td>\n    </tr>\n    <tr>\n      <th>Huelva</th>\n      <td>32986.0</td>\n      <td>472.0</td>\n      <td>1157.0</td>\n      <td>513170.0</td>\n      <td>91.977317</td>\n      <td>225.461348</td>\n      <td>173.0</td>\n    </tr>\n    <tr>\n      <th>Palos de la Frontera</th>\n      <td>707.0</td>\n      <td>9.0</td>\n      <td>26.0</td>\n      <td>11742.0</td>\n      <td>76.647931</td>\n      <td>221.427355</td>\n      <td>1.0</td>\n    </tr>\n    <tr>\n      <th>Bonares</th>\n      <td>293.0</td>\n      <td>5.0</td>\n      <td>13.0</td>\n      <td>6060.0</td>\n      <td>82.508251</td>\n      <td>214.521452</td>\n      <td>2.0</td>\n    </tr>\n    <tr>\n      <th>Bollullos Par del Condado</th>\n      <td>1029.0</td>\n      <td>13.0</td>\n      <td>30.0</td>\n      <td>14387.0</td>\n      <td>90.359352</td>\n      <td>208.521582</td>\n      <td>4.0</td>\n    </tr>\n    <tr>\n      <th>Palma del Condado (La)</th>\n      <td>1184.0</td>\n      <td>10.0</td>\n      <td>21.0</td>\n      <td>10801.0</td>\n      <td>92.584020</td>\n      <td>194.426442</td>\n      <td>5.0</td>\n    </tr>\n    <tr>\n      <th>San Bartolomé de la Torre</th>\n      <td>307.0</td>\n      <td>3.0</td>\n      <td>7.0</td>\n      <td>3761.0</td>\n      <td>79.766020</td>\n      <td>186.120713</td>\n      <td>1.0</td>\n    </tr>\n    <tr>\n      <th>Aljaraque</th>\n      <td>1160.0</td>\n      <td>8.0</td>\n      <td>39.0</td>\n      <td>21474.0</td>\n      <td>37.254354</td>\n      <td>181.614976</td>\n      <td>3.0</td>\n    </tr>\n    <tr>\n      <th>Trigueros</th>\n      <td>331.0</td>\n      <td>6.0</td>\n      <td>14.0</td>\n      <td>7862.0</td>\n      <td>76.316459</td>\n      <td>178.071737</td>\n      <td>2.0</td>\n    </tr>\n    <tr>\n      <th>Almonaster la Real</th>\n      <td>69.0</td>\n      <td>2.0</td>\n      <td>3.0</td>\n      <td>1788.0</td>\n      <td>111.856823</td>\n      <td>167.785235</td>\n      <td>1.0</td>\n    </tr>\n    <tr>\n      <th>Rociana del Condado</th>\n      <td>570.0</td>\n      <td>10.0</td>\n      <td>13.0</td>\n      <td>7939.0</td>\n      <td>125.960448</td>\n      <td>163.748583</td>\n      <td>1.0</td>\n    </tr>\n    <tr>\n      <th>Sierra de Huelva-Andévalo Central</th>\n      <td>2917.0</td>\n      <td>48.0</td>\n      <td>101.0</td>\n      <td>67391.0</td>\n      <td>71.226128</td>\n      <td>149.871645</td>\n      <td>12.0</td>\n    </tr>\n    <tr>\n      <th>Cartaya</th>\n      <td>1380.0</td>\n      <td>17.0</td>\n      <td>30.0</td>\n      <td>20083.0</td>\n      <td>84.648708</td>\n      <td>149.380073</td>\n      <td>8.0</td>\n    </tr>\n    <tr>\n      <th>Punta Umbría</th>\n      <td>848.0</td>\n      <td>8.0</td>\n      <td>22.0</td>\n      <td>15355.0</td>\n      <td>52.100293</td>\n      <td>143.275806</td>\n      <td>7.0</td>\n    </tr>\n    <tr>\n      <th>Villablanca</th>\n      <td>191.0</td>\n      <td>2.0</td>\n      <td>4.0</td>\n      <td>2885.0</td>\n      <td>69.324090</td>\n      <td>138.648180</td>\n      <td>0.0</td>\n    </tr>\n    <tr>\n      <th>Isla Cristina</th>\n      <td>2177.0</td>\n      <td>13.0</td>\n      <td>26.0</td>\n      <td>21393.0</td>\n      <td>60.767541</td>\n      <td>121.535082</td>\n      <td>5.0</td>\n    </tr>\n    <tr>\n      <th>Lepe</th>\n      <td>2166.0</td>\n      <td>16.0</td>\n      <td>31.0</td>\n      <td>27880.0</td>\n      <td>57.388809</td>\n      <td>111.190818</td>\n      <td>4.0</td>\n    </tr>\n    <tr>\n      <th>Gibraleón</th>\n      <td>646.0</td>\n      <td>5.0</td>\n      <td>14.0</td>\n      <td>12737.0</td>\n      <td>39.255712</td>\n      <td>109.915993</td>\n      <td>1.0</td>\n    </tr>\n    <tr>\n      <th>Aracena</th>\n      <td>539.0</td>\n      <td>2.0</td>\n      <td>9.0</td>\n      <td>8255.0</td>\n      <td>24.227741</td>\n      <td>109.024833</td>\n      <td>0.0</td>\n    </tr>\n    <tr>\n      <th>Villanueva de los Castillejos</th>\n      <td>165.0</td>\n      <td>1.0</td>\n      <td>3.0</td>\n      <td>2825.0</td>\n      <td>35.398230</td>\n      <td>106.194690</td>\n      <td>NaN</td>\n    </tr>\n    <tr>\n      <th>Santa Bárbara de Casa</th>\n      <td>16.0</td>\n      <td>1.0</td>\n      <td>1.0</td>\n      <td>1043.0</td>\n      <td>95.877277</td>\n      <td>95.877277</td>\n      <td>0.0</td>\n    </tr>\n    <tr>\n      <th>Manzanilla</th>\n      <td>104.0</td>\n      <td>1.0</td>\n      <td>2.0</td>\n      <td>2118.0</td>\n      <td>47.214353</td>\n      <td>94.428706</td>\n      <td>NaN</td>\n    </tr>\n    <tr>\n      <th>Zarza-Perrunal (La)</th>\n      <td>26.0</td>\n      <td>1.0</td>\n      <td>1.0</td>\n      <td>1253.0</td>\n      <td>79.808460</td>\n      <td>79.808460</td>\n      <td>0.0</td>\n    </tr>\n    <tr>\n      <th>Cumbres Mayores</th>\n      <td>54.0</td>\n      <td>1.0</td>\n      <td>1.0</td>\n      <td>1749.0</td>\n      <td>57.175529</td>\n      <td>57.175529</td>\n      <td>NaN</td>\n    </tr>\n    <tr>\n      <th>Minas de Riotinto</th>\n      <td>129.0</td>\n      <td>1.0</td>\n      <td>2.0</td>\n      <td>3812.0</td>\n      <td>26.232949</td>\n      <td>52.465897</td>\n      <td>0.0</td>\n    </tr>\n    <tr>\n      <th>Ayamonte</th>\n      <td>1332.0</td>\n      <td>3.0</td>\n      <td>11.0</td>\n      <td>21104.0</td>\n      <td>14.215315</td>\n      <td>52.122820</td>\n      <td>1.0</td>\n    </tr>\n    <tr>\n      <th>Cortegana</th>\n      <td>215.0</td>\n      <td>1.0</td>\n      <td>1.0</td>\n      <td>4602.0</td>\n      <td>21.729683</td>\n      <td>21.729683</td>\n      <td>NaN</td>\n    </tr>\n  </tbody>\n</table>\n</div>"
     },
     "metadata": {},
     "execution_count": 17
    }
   ],
   "source": [
    "tabla.sort_values('tasa14', ascending=False)"
   ]
  },
  {
   "cell_type": "code",
   "execution_count": 18,
   "metadata": {},
   "outputs": [
    {
     "output_type": "execute_result",
     "data": {
      "text/plain": [
       "Medida                             Confirmados PDIA  Confirmados PDIA 7 días  \\\n",
       "Lugar de residencia                                                            \n",
       "Alosno                                        179.0                      1.0   \n",
       "Aljaraque                                    1160.0                      8.0   \n",
       "Aracena                                       539.0                      2.0   \n",
       "Ayamonte                                     1332.0                      3.0   \n",
       "San Juan del Puerto                           566.0                     14.0   \n",
       "Villanueva de los Castillejos                 165.0                      1.0   \n",
       "Almendro (El)                                  39.0                      1.0   \n",
       "Palos de la Frontera                          707.0                      9.0   \n",
       "Huelva (capital)                             9021.0                    176.0   \n",
       "Gibraleón                                     646.0                      5.0   \n",
       "Punta Umbría                                  848.0                      8.0   \n",
       "Huelva-Costa                                19006.0                    255.0   \n",
       "Bonares                                       293.0                      5.0   \n",
       "Puebla de Guzmán                              141.0                      8.0   \n",
       "Moguer                                       1378.0                     27.0   \n",
       "Huelva                                      32986.0                    472.0   \n",
       "Trigueros                                     331.0                      6.0   \n",
       "San Bartolomé de la Torre                     307.0                      3.0   \n",
       "Bollullos Par del Condado                    1029.0                     13.0   \n",
       "Condado-Campiña                             10710.0                    167.0   \n",
       "Sierra de Huelva-Andévalo Central            2917.0                     48.0   \n",
       "Palma del Condado (La)                       1184.0                     10.0   \n",
       "Isla Cristina                                2177.0                     13.0   \n",
       "Manzanilla                                    104.0                      1.0   \n",
       "Minas de Riotinto                             129.0                      1.0   \n",
       "Villablanca                                   191.0                      2.0   \n",
       "Lepe                                         2166.0                     16.0   \n",
       "Valverde del Camino                           657.0                     30.0   \n",
       "Cartaya                                      1380.0                     17.0   \n",
       "Lucena del Puerto                             267.0                      7.0   \n",
       "Calañas                                       201.0                      6.0   \n",
       "Almonaster la Real                             69.0                      2.0   \n",
       "Cerro de Andévalo (El)                        151.0                      4.0   \n",
       "Almonte                                      1905.0                     40.0   \n",
       "Rociana del Condado                           570.0                     10.0   \n",
       "Beas                                          232.0                     17.0   \n",
       "Santa Bárbara de Casa                          16.0                      1.0   \n",
       "Cumbres Mayores                                54.0                      1.0   \n",
       "Cortegana                                     215.0                      1.0   \n",
       "Zarza-Perrunal (La)                            26.0                      1.0   \n",
       "\n",
       "Medida                             Confirmados PDIA 14 días  Población  \\\n",
       "Lugar de residencia                                                      \n",
       "Alosno                                                 11.0     3933.0   \n",
       "Aljaraque                                              39.0    21474.0   \n",
       "Aracena                                                 9.0     8255.0   \n",
       "Ayamonte                                               11.0    21104.0   \n",
       "San Juan del Puerto                                    43.0     9411.0   \n",
       "Villanueva de los Castillejos                           3.0     2825.0   \n",
       "Almendro (El)                                           3.0      840.0   \n",
       "Palos de la Frontera                                   26.0    11742.0   \n",
       "Huelva (capital)                                      498.0   143837.0   \n",
       "Gibraleón                                              14.0    12737.0   \n",
       "Punta Umbría                                           22.0    15355.0   \n",
       "Huelva-Costa                                          699.0   289548.0   \n",
       "Bonares                                                13.0     6060.0   \n",
       "Puebla de Guzmán                                       20.0     3092.0   \n",
       "Moguer                                                 67.0    21867.0   \n",
       "Huelva                                               1157.0   513170.0   \n",
       "Trigueros                                              14.0     7862.0   \n",
       "San Bartolomé de la Torre                               7.0     3761.0   \n",
       "Bollullos Par del Condado                              30.0    14387.0   \n",
       "Condado-Campiña                                       354.0   156231.0   \n",
       "Sierra de Huelva-Andévalo Central                     101.0    67391.0   \n",
       "Palma del Condado (La)                                 21.0    10801.0   \n",
       "Isla Cristina                                          26.0    21393.0   \n",
       "Manzanilla                                              2.0     2118.0   \n",
       "Minas de Riotinto                                       2.0     3812.0   \n",
       "Villablanca                                             4.0     2885.0   \n",
       "Lepe                                                   31.0    27880.0   \n",
       "Valverde del Camino                                    58.0    12750.0   \n",
       "Cartaya                                                30.0    20083.0   \n",
       "Lucena del Puerto                                      12.0     3261.0   \n",
       "Calañas                                                10.0     2768.0   \n",
       "Almonaster la Real                                      3.0     1788.0   \n",
       "Cerro de Andévalo (El)                                  6.0     2327.0   \n",
       "Almonte                                                59.0    24507.0   \n",
       "Rociana del Condado                                    13.0     7939.0   \n",
       "Beas                                                   21.0     4341.0   \n",
       "Santa Bárbara de Casa                                   1.0     1043.0   \n",
       "Cumbres Mayores                                         1.0     1749.0   \n",
       "Cortegana                                               1.0     4602.0   \n",
       "Zarza-Perrunal (La)                                     1.0     1253.0   \n",
       "\n",
       "Medida                                  tasa7      tasa14  Diferencia PDIA  \\\n",
       "Lugar de residencia                                                          \n",
       "Alosno                              25.425884  279.684719              0.0   \n",
       "Aljaraque                           37.254354  181.614976              3.0   \n",
       "Aracena                             24.227741  109.024833              0.0   \n",
       "Ayamonte                            14.215315   52.122820              1.0   \n",
       "San Juan del Puerto                148.762087  456.912124              6.0   \n",
       "Villanueva de los Castillejos       35.398230  106.194690              0.0   \n",
       "Almendro (El)                      119.047619  357.142857              0.0   \n",
       "Palos de la Frontera                76.647931  221.427355              1.0   \n",
       "Huelva (capital)                   122.360728  346.225241             73.0   \n",
       "Gibraleón                           39.255712  109.915993              1.0   \n",
       "Punta Umbría                        52.100293  143.275806              7.0   \n",
       "Huelva-Costa                        88.068300  241.410751            104.0   \n",
       "Bonares                             82.508251  214.521452              2.0   \n",
       "Puebla de Guzmán                   258.732212  646.830530              2.0   \n",
       "Moguer                             123.473728  306.397768             12.0   \n",
       "Huelva                              91.977317  225.461348            173.0   \n",
       "Trigueros                           76.316459  178.071737              2.0   \n",
       "San Bartolomé de la Torre           79.766020  186.120713              1.0   \n",
       "Bollullos Par del Condado           90.359352  208.521582              4.0   \n",
       "Condado-Campiña                    106.892998  226.587553             56.0   \n",
       "Sierra de Huelva-Andévalo Central   71.226128  149.871645             12.0   \n",
       "Palma del Condado (La)              92.584020  194.426442              5.0   \n",
       "Isla Cristina                       60.767541  121.535082              5.0   \n",
       "Manzanilla                          47.214353   94.428706              0.0   \n",
       "Minas de Riotinto                   26.232949   52.465897              0.0   \n",
       "Villablanca                         69.324090  138.648180              0.0   \n",
       "Lepe                                57.388809  111.190818              4.0   \n",
       "Valverde del Camino                235.294118  454.901961              6.0   \n",
       "Cartaya                             84.648708  149.380073              8.0   \n",
       "Lucena del Puerto                  214.658080  367.985281              2.0   \n",
       "Calañas                            216.763006  361.271676              1.0   \n",
       "Almonaster la Real                 111.856823  167.785235              1.0   \n",
       "Cerro de Andévalo (El)             171.895144  257.842716              3.0   \n",
       "Almonte                            163.218672  240.747542              8.0   \n",
       "Rociana del Condado                125.960448  163.748583              1.0   \n",
       "Beas                               391.614835  483.759502             10.0   \n",
       "Santa Bárbara de Casa               95.877277   95.877277              0.0   \n",
       "Cumbres Mayores                     57.175529   57.175529              0.0   \n",
       "Cortegana                           21.729683   21.729683              0.0   \n",
       "Zarza-Perrunal (La)                 79.808460   79.808460              0.0   \n",
       "\n",
       "Medida                                 7/14  \n",
       "Lugar de residencia                          \n",
       "Alosno                             0.090909  \n",
       "Aljaraque                          0.205128  \n",
       "Aracena                            0.222222  \n",
       "Ayamonte                           0.272727  \n",
       "San Juan del Puerto                0.325581  \n",
       "Villanueva de los Castillejos      0.333333  \n",
       "Almendro (El)                      0.333333  \n",
       "Palos de la Frontera               0.346154  \n",
       "Huelva (capital)                   0.353414  \n",
       "Gibraleón                          0.357143  \n",
       "Punta Umbría                       0.363636  \n",
       "Huelva-Costa                       0.364807  \n",
       "Bonares                            0.384615  \n",
       "Puebla de Guzmán                   0.400000  \n",
       "Moguer                             0.402985  \n",
       "Huelva                             0.407952  \n",
       "Trigueros                          0.428571  \n",
       "San Bartolomé de la Torre          0.428571  \n",
       "Bollullos Par del Condado          0.433333  \n",
       "Condado-Campiña                    0.471751  \n",
       "Sierra de Huelva-Andévalo Central  0.475248  \n",
       "Palma del Condado (La)             0.476190  \n",
       "Isla Cristina                      0.500000  \n",
       "Manzanilla                         0.500000  \n",
       "Minas de Riotinto                  0.500000  \n",
       "Villablanca                        0.500000  \n",
       "Lepe                               0.516129  \n",
       "Valverde del Camino                0.517241  \n",
       "Cartaya                            0.566667  \n",
       "Lucena del Puerto                  0.583333  \n",
       "Calañas                            0.600000  \n",
       "Almonaster la Real                 0.666667  \n",
       "Cerro de Andévalo (El)             0.666667  \n",
       "Almonte                            0.677966  \n",
       "Rociana del Condado                0.769231  \n",
       "Beas                               0.809524  \n",
       "Santa Bárbara de Casa              1.000000  \n",
       "Cumbres Mayores                    1.000000  \n",
       "Cortegana                          1.000000  \n",
       "Zarza-Perrunal (La)                1.000000  "
      ],
      "text/html": "<div>\n<style scoped>\n    .dataframe tbody tr th:only-of-type {\n        vertical-align: middle;\n    }\n\n    .dataframe tbody tr th {\n        vertical-align: top;\n    }\n\n    .dataframe thead th {\n        text-align: right;\n    }\n</style>\n<table border=\"1\" class=\"dataframe\">\n  <thead>\n    <tr style=\"text-align: right;\">\n      <th>Medida</th>\n      <th>Confirmados PDIA</th>\n      <th>Confirmados PDIA 7 días</th>\n      <th>Confirmados PDIA 14 días</th>\n      <th>Población</th>\n      <th>tasa7</th>\n      <th>tasa14</th>\n      <th>Diferencia PDIA</th>\n      <th>7/14</th>\n    </tr>\n    <tr>\n      <th>Lugar de residencia</th>\n      <th></th>\n      <th></th>\n      <th></th>\n      <th></th>\n      <th></th>\n      <th></th>\n      <th></th>\n      <th></th>\n    </tr>\n  </thead>\n  <tbody>\n    <tr>\n      <th>Alosno</th>\n      <td>179.0</td>\n      <td>1.0</td>\n      <td>11.0</td>\n      <td>3933.0</td>\n      <td>25.425884</td>\n      <td>279.684719</td>\n      <td>0.0</td>\n      <td>0.090909</td>\n    </tr>\n    <tr>\n      <th>Aljaraque</th>\n      <td>1160.0</td>\n      <td>8.0</td>\n      <td>39.0</td>\n      <td>21474.0</td>\n      <td>37.254354</td>\n      <td>181.614976</td>\n      <td>3.0</td>\n      <td>0.205128</td>\n    </tr>\n    <tr>\n      <th>Aracena</th>\n      <td>539.0</td>\n      <td>2.0</td>\n      <td>9.0</td>\n      <td>8255.0</td>\n      <td>24.227741</td>\n      <td>109.024833</td>\n      <td>0.0</td>\n      <td>0.222222</td>\n    </tr>\n    <tr>\n      <th>Ayamonte</th>\n      <td>1332.0</td>\n      <td>3.0</td>\n      <td>11.0</td>\n      <td>21104.0</td>\n      <td>14.215315</td>\n      <td>52.122820</td>\n      <td>1.0</td>\n      <td>0.272727</td>\n    </tr>\n    <tr>\n      <th>San Juan del Puerto</th>\n      <td>566.0</td>\n      <td>14.0</td>\n      <td>43.0</td>\n      <td>9411.0</td>\n      <td>148.762087</td>\n      <td>456.912124</td>\n      <td>6.0</td>\n      <td>0.325581</td>\n    </tr>\n    <tr>\n      <th>Villanueva de los Castillejos</th>\n      <td>165.0</td>\n      <td>1.0</td>\n      <td>3.0</td>\n      <td>2825.0</td>\n      <td>35.398230</td>\n      <td>106.194690</td>\n      <td>0.0</td>\n      <td>0.333333</td>\n    </tr>\n    <tr>\n      <th>Almendro (El)</th>\n      <td>39.0</td>\n      <td>1.0</td>\n      <td>3.0</td>\n      <td>840.0</td>\n      <td>119.047619</td>\n      <td>357.142857</td>\n      <td>0.0</td>\n      <td>0.333333</td>\n    </tr>\n    <tr>\n      <th>Palos de la Frontera</th>\n      <td>707.0</td>\n      <td>9.0</td>\n      <td>26.0</td>\n      <td>11742.0</td>\n      <td>76.647931</td>\n      <td>221.427355</td>\n      <td>1.0</td>\n      <td>0.346154</td>\n    </tr>\n    <tr>\n      <th>Huelva (capital)</th>\n      <td>9021.0</td>\n      <td>176.0</td>\n      <td>498.0</td>\n      <td>143837.0</td>\n      <td>122.360728</td>\n      <td>346.225241</td>\n      <td>73.0</td>\n      <td>0.353414</td>\n    </tr>\n    <tr>\n      <th>Gibraleón</th>\n      <td>646.0</td>\n      <td>5.0</td>\n      <td>14.0</td>\n      <td>12737.0</td>\n      <td>39.255712</td>\n      <td>109.915993</td>\n      <td>1.0</td>\n      <td>0.357143</td>\n    </tr>\n    <tr>\n      <th>Punta Umbría</th>\n      <td>848.0</td>\n      <td>8.0</td>\n      <td>22.0</td>\n      <td>15355.0</td>\n      <td>52.100293</td>\n      <td>143.275806</td>\n      <td>7.0</td>\n      <td>0.363636</td>\n    </tr>\n    <tr>\n      <th>Huelva-Costa</th>\n      <td>19006.0</td>\n      <td>255.0</td>\n      <td>699.0</td>\n      <td>289548.0</td>\n      <td>88.068300</td>\n      <td>241.410751</td>\n      <td>104.0</td>\n      <td>0.364807</td>\n    </tr>\n    <tr>\n      <th>Bonares</th>\n      <td>293.0</td>\n      <td>5.0</td>\n      <td>13.0</td>\n      <td>6060.0</td>\n      <td>82.508251</td>\n      <td>214.521452</td>\n      <td>2.0</td>\n      <td>0.384615</td>\n    </tr>\n    <tr>\n      <th>Puebla de Guzmán</th>\n      <td>141.0</td>\n      <td>8.0</td>\n      <td>20.0</td>\n      <td>3092.0</td>\n      <td>258.732212</td>\n      <td>646.830530</td>\n      <td>2.0</td>\n      <td>0.400000</td>\n    </tr>\n    <tr>\n      <th>Moguer</th>\n      <td>1378.0</td>\n      <td>27.0</td>\n      <td>67.0</td>\n      <td>21867.0</td>\n      <td>123.473728</td>\n      <td>306.397768</td>\n      <td>12.0</td>\n      <td>0.402985</td>\n    </tr>\n    <tr>\n      <th>Huelva</th>\n      <td>32986.0</td>\n      <td>472.0</td>\n      <td>1157.0</td>\n      <td>513170.0</td>\n      <td>91.977317</td>\n      <td>225.461348</td>\n      <td>173.0</td>\n      <td>0.407952</td>\n    </tr>\n    <tr>\n      <th>Trigueros</th>\n      <td>331.0</td>\n      <td>6.0</td>\n      <td>14.0</td>\n      <td>7862.0</td>\n      <td>76.316459</td>\n      <td>178.071737</td>\n      <td>2.0</td>\n      <td>0.428571</td>\n    </tr>\n    <tr>\n      <th>San Bartolomé de la Torre</th>\n      <td>307.0</td>\n      <td>3.0</td>\n      <td>7.0</td>\n      <td>3761.0</td>\n      <td>79.766020</td>\n      <td>186.120713</td>\n      <td>1.0</td>\n      <td>0.428571</td>\n    </tr>\n    <tr>\n      <th>Bollullos Par del Condado</th>\n      <td>1029.0</td>\n      <td>13.0</td>\n      <td>30.0</td>\n      <td>14387.0</td>\n      <td>90.359352</td>\n      <td>208.521582</td>\n      <td>4.0</td>\n      <td>0.433333</td>\n    </tr>\n    <tr>\n      <th>Condado-Campiña</th>\n      <td>10710.0</td>\n      <td>167.0</td>\n      <td>354.0</td>\n      <td>156231.0</td>\n      <td>106.892998</td>\n      <td>226.587553</td>\n      <td>56.0</td>\n      <td>0.471751</td>\n    </tr>\n    <tr>\n      <th>Sierra de Huelva-Andévalo Central</th>\n      <td>2917.0</td>\n      <td>48.0</td>\n      <td>101.0</td>\n      <td>67391.0</td>\n      <td>71.226128</td>\n      <td>149.871645</td>\n      <td>12.0</td>\n      <td>0.475248</td>\n    </tr>\n    <tr>\n      <th>Palma del Condado (La)</th>\n      <td>1184.0</td>\n      <td>10.0</td>\n      <td>21.0</td>\n      <td>10801.0</td>\n      <td>92.584020</td>\n      <td>194.426442</td>\n      <td>5.0</td>\n      <td>0.476190</td>\n    </tr>\n    <tr>\n      <th>Isla Cristina</th>\n      <td>2177.0</td>\n      <td>13.0</td>\n      <td>26.0</td>\n      <td>21393.0</td>\n      <td>60.767541</td>\n      <td>121.535082</td>\n      <td>5.0</td>\n      <td>0.500000</td>\n    </tr>\n    <tr>\n      <th>Manzanilla</th>\n      <td>104.0</td>\n      <td>1.0</td>\n      <td>2.0</td>\n      <td>2118.0</td>\n      <td>47.214353</td>\n      <td>94.428706</td>\n      <td>0.0</td>\n      <td>0.500000</td>\n    </tr>\n    <tr>\n      <th>Minas de Riotinto</th>\n      <td>129.0</td>\n      <td>1.0</td>\n      <td>2.0</td>\n      <td>3812.0</td>\n      <td>26.232949</td>\n      <td>52.465897</td>\n      <td>0.0</td>\n      <td>0.500000</td>\n    </tr>\n    <tr>\n      <th>Villablanca</th>\n      <td>191.0</td>\n      <td>2.0</td>\n      <td>4.0</td>\n      <td>2885.0</td>\n      <td>69.324090</td>\n      <td>138.648180</td>\n      <td>0.0</td>\n      <td>0.500000</td>\n    </tr>\n    <tr>\n      <th>Lepe</th>\n      <td>2166.0</td>\n      <td>16.0</td>\n      <td>31.0</td>\n      <td>27880.0</td>\n      <td>57.388809</td>\n      <td>111.190818</td>\n      <td>4.0</td>\n      <td>0.516129</td>\n    </tr>\n    <tr>\n      <th>Valverde del Camino</th>\n      <td>657.0</td>\n      <td>30.0</td>\n      <td>58.0</td>\n      <td>12750.0</td>\n      <td>235.294118</td>\n      <td>454.901961</td>\n      <td>6.0</td>\n      <td>0.517241</td>\n    </tr>\n    <tr>\n      <th>Cartaya</th>\n      <td>1380.0</td>\n      <td>17.0</td>\n      <td>30.0</td>\n      <td>20083.0</td>\n      <td>84.648708</td>\n      <td>149.380073</td>\n      <td>8.0</td>\n      <td>0.566667</td>\n    </tr>\n    <tr>\n      <th>Lucena del Puerto</th>\n      <td>267.0</td>\n      <td>7.0</td>\n      <td>12.0</td>\n      <td>3261.0</td>\n      <td>214.658080</td>\n      <td>367.985281</td>\n      <td>2.0</td>\n      <td>0.583333</td>\n    </tr>\n    <tr>\n      <th>Calañas</th>\n      <td>201.0</td>\n      <td>6.0</td>\n      <td>10.0</td>\n      <td>2768.0</td>\n      <td>216.763006</td>\n      <td>361.271676</td>\n      <td>1.0</td>\n      <td>0.600000</td>\n    </tr>\n    <tr>\n      <th>Almonaster la Real</th>\n      <td>69.0</td>\n      <td>2.0</td>\n      <td>3.0</td>\n      <td>1788.0</td>\n      <td>111.856823</td>\n      <td>167.785235</td>\n      <td>1.0</td>\n      <td>0.666667</td>\n    </tr>\n    <tr>\n      <th>Cerro de Andévalo (El)</th>\n      <td>151.0</td>\n      <td>4.0</td>\n      <td>6.0</td>\n      <td>2327.0</td>\n      <td>171.895144</td>\n      <td>257.842716</td>\n      <td>3.0</td>\n      <td>0.666667</td>\n    </tr>\n    <tr>\n      <th>Almonte</th>\n      <td>1905.0</td>\n      <td>40.0</td>\n      <td>59.0</td>\n      <td>24507.0</td>\n      <td>163.218672</td>\n      <td>240.747542</td>\n      <td>8.0</td>\n      <td>0.677966</td>\n    </tr>\n    <tr>\n      <th>Rociana del Condado</th>\n      <td>570.0</td>\n      <td>10.0</td>\n      <td>13.0</td>\n      <td>7939.0</td>\n      <td>125.960448</td>\n      <td>163.748583</td>\n      <td>1.0</td>\n      <td>0.769231</td>\n    </tr>\n    <tr>\n      <th>Beas</th>\n      <td>232.0</td>\n      <td>17.0</td>\n      <td>21.0</td>\n      <td>4341.0</td>\n      <td>391.614835</td>\n      <td>483.759502</td>\n      <td>10.0</td>\n      <td>0.809524</td>\n    </tr>\n    <tr>\n      <th>Santa Bárbara de Casa</th>\n      <td>16.0</td>\n      <td>1.0</td>\n      <td>1.0</td>\n      <td>1043.0</td>\n      <td>95.877277</td>\n      <td>95.877277</td>\n      <td>0.0</td>\n      <td>1.000000</td>\n    </tr>\n    <tr>\n      <th>Cumbres Mayores</th>\n      <td>54.0</td>\n      <td>1.0</td>\n      <td>1.0</td>\n      <td>1749.0</td>\n      <td>57.175529</td>\n      <td>57.175529</td>\n      <td>0.0</td>\n      <td>1.000000</td>\n    </tr>\n    <tr>\n      <th>Cortegana</th>\n      <td>215.0</td>\n      <td>1.0</td>\n      <td>1.0</td>\n      <td>4602.0</td>\n      <td>21.729683</td>\n      <td>21.729683</td>\n      <td>0.0</td>\n      <td>1.000000</td>\n    </tr>\n    <tr>\n      <th>Zarza-Perrunal (La)</th>\n      <td>26.0</td>\n      <td>1.0</td>\n      <td>1.0</td>\n      <td>1253.0</td>\n      <td>79.808460</td>\n      <td>79.808460</td>\n      <td>0.0</td>\n      <td>1.000000</td>\n    </tr>\n  </tbody>\n</table>\n</div>"
     },
     "metadata": {},
     "execution_count": 18
    }
   ],
   "source": [
    "# Peso de la tasa de la última semana en relación con la tasa a 14 días \n",
    "# Mejor cuanto menor. Valor 1 significa que no había casos antes de 7 días.\n",
    "tabla['7/14'] = tabla['tasa7'] / tabla['tasa14']\n",
    "tabla.fillna(0).sort_values('7/14', ascending=True)"
   ]
  },
  {
   "cell_type": "code",
   "execution_count": null,
   "metadata": {},
   "outputs": [],
   "source": []
  }
 ]
}