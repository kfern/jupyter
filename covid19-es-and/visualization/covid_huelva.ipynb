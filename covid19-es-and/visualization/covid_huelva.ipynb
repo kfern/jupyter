{
 "metadata": {
  "language_info": {
   "codemirror_mode": {
    "name": "ipython",
    "version": 3
   },
   "file_extension": ".py",
   "mimetype": "text/x-python",
   "name": "python",
   "nbconvert_exporter": "python",
   "pygments_lexer": "ipython3",
   "version": "3.8.6"
  },
  "orig_nbformat": 2,
  "kernelspec": {
   "name": "python3",
   "display_name": "Python 3",
   "language": "python"
  }
 },
 "nbformat": 4,
 "nbformat_minor": 2,
 "cells": [
  {
   "cell_type": "code",
   "execution_count": 1,
   "metadata": {},
   "outputs": [],
   "source": [
    "import pandas as pd\n",
    "pd.set_option('display.max_rows', None) # Print all rows"
   ]
  },
  {
   "cell_type": "code",
   "execution_count": 2,
   "metadata": {},
   "outputs": [],
   "source": [
    "# FIX SSL: CERTIFICATE_VERIFY_FAILED with Python3\n",
    "# https://stackoverflow.com/a/49174340\n",
    "import ssl\n",
    "\n",
    "ssl._create_default_https_context = ssl._create_unverified_context"
   ]
  },
  {
   "cell_type": "code",
   "execution_count": 3,
   "metadata": {},
   "outputs": [],
   "source": [
    "url = 'https://www.juntadeandalucia.es/institutodeestadisticaycartografia/badea/stpivot/stpivot/Print?cube=013d884c-cfc5-4c21-9e78-e26225682afd&type=3&foto=si&ejecutaDesde=&codConsulta=38668&consTipoVisua=JP'\n",
    "fields = ['Lugar de residencia', 'Medida', 'Valor']\n",
    "df = pd.read_csv(url, delimiter=';', usecols=fields, decimal=',')"
   ]
  },
  {
   "cell_type": "code",
   "execution_count": 4,
   "metadata": {},
   "outputs": [
    {
     "output_type": "execute_result",
     "data": {
      "text/plain": [
       "  Lugar de residencia                    Medida               Valor\n",
       "0              Huelva                 Población              513170\n",
       "1              Huelva          Confirmados PDIA               27853\n",
       "2              Huelva  Confirmados PDIA 14 días                1226\n",
       "3              Huelva         Tasa PDIA 14 días  238,90718475359043\n",
       "4              Huelva   Confirmados PDIA 7 días                 571\n",
       "5              Huelva        Total Confirmados                28026\n",
       "6              Huelva                   Curados               23464\n",
       "7              Huelva                Fallecidos                 362"
      ],
      "text/html": "<div>\n<style scoped>\n    .dataframe tbody tr th:only-of-type {\n        vertical-align: middle;\n    }\n\n    .dataframe tbody tr th {\n        vertical-align: top;\n    }\n\n    .dataframe thead th {\n        text-align: right;\n    }\n</style>\n<table border=\"1\" class=\"dataframe\">\n  <thead>\n    <tr style=\"text-align: right;\">\n      <th></th>\n      <th>Lugar de residencia</th>\n      <th>Medida</th>\n      <th>Valor</th>\n    </tr>\n  </thead>\n  <tbody>\n    <tr>\n      <th>0</th>\n      <td>Huelva</td>\n      <td>Población</td>\n      <td>513170</td>\n    </tr>\n    <tr>\n      <th>1</th>\n      <td>Huelva</td>\n      <td>Confirmados PDIA</td>\n      <td>27853</td>\n    </tr>\n    <tr>\n      <th>2</th>\n      <td>Huelva</td>\n      <td>Confirmados PDIA 14 días</td>\n      <td>1226</td>\n    </tr>\n    <tr>\n      <th>3</th>\n      <td>Huelva</td>\n      <td>Tasa PDIA 14 días</td>\n      <td>238,90718475359043</td>\n    </tr>\n    <tr>\n      <th>4</th>\n      <td>Huelva</td>\n      <td>Confirmados PDIA 7 días</td>\n      <td>571</td>\n    </tr>\n    <tr>\n      <th>5</th>\n      <td>Huelva</td>\n      <td>Total Confirmados</td>\n      <td>28026</td>\n    </tr>\n    <tr>\n      <th>6</th>\n      <td>Huelva</td>\n      <td>Curados</td>\n      <td>23464</td>\n    </tr>\n    <tr>\n      <th>7</th>\n      <td>Huelva</td>\n      <td>Fallecidos</td>\n      <td>362</td>\n    </tr>\n  </tbody>\n</table>\n</div>"
     },
     "metadata": {},
     "execution_count": 4
    }
   ],
   "source": [
    "df[df['Lugar de residencia'] == 'Huelva']"
   ]
  },
  {
   "cell_type": "code",
   "execution_count": 5,
   "metadata": {},
   "outputs": [],
   "source": [
    "df['Valor'] = pd.to_numeric(df['Valor'],errors='coerce')"
   ]
  },
  {
   "cell_type": "code",
   "execution_count": 6,
   "metadata": {},
   "outputs": [],
   "source": [
    "dfAnterior = pd.read_csv('covid_huelva.csv', index_col='Lugar de residencia')"
   ]
  },
  {
   "cell_type": "code",
   "execution_count": 7,
   "metadata": {
    "tags": []
   },
   "outputs": [
    {
     "output_type": "stream",
     "name": "stdout",
     "text": [
      "Confirmados PCR en la provincia de Huelva:  27853.0\n",
      "<ipython-input-7-31b732756b19>:2: UserWarning: Boolean Series key will be reindexed to match DataFrame index.\n",
      "  p = df[df['Lugar de residencia'] == 'Huelva'][df['Medida'] == 'Confirmados PDIA']['Valor'].values[0]\n"
     ]
    }
   ],
   "source": [
    "# Confirmados PCR provincia Huelva\n",
    "p = df[df['Lugar de residencia'] == 'Huelva'][df['Medida'] == 'Confirmados PDIA']['Valor'].values[0]\n",
    "print('Confirmados PCR en la provincia de Huelva: ', p)"
   ]
  },
  {
   "cell_type": "code",
   "execution_count": 8,
   "metadata": {
    "tags": []
   },
   "outputs": [
    {
     "output_type": "stream",
     "name": "stdout",
     "text": [
      "Confirmados PCR en Huelva capital:  7227.0\n",
      "<ipython-input-8-e81bfb40e710>:2: UserWarning: Boolean Series key will be reindexed to match DataFrame index.\n",
      "  c = df[df['Lugar de residencia'] == 'Huelva (capital)'][df['Medida'] == 'Confirmados PDIA']['Valor'].values[0]\n"
     ]
    }
   ],
   "source": [
    "# Confirmados PCR Huelva capitalpd\n",
    "c = df[df['Lugar de residencia'] == 'Huelva (capital)'][df['Medida'] == 'Confirmados PDIA']['Valor'].values[0]\n",
    "print('Confirmados PCR en Huelva capital: ', c)"
   ]
  },
  {
   "cell_type": "code",
   "execution_count": 9,
   "metadata": {
    "tags": []
   },
   "outputs": [
    {
     "output_type": "stream",
     "name": "stderr",
     "text": [
      "<ipython-input-9-f09dd2050cc1>:1: UserWarning: Boolean Series key will be reindexed to match DataFrame index.\n  c7 = df[df['Lugar de residencia'] == 'Huelva (capital)'][df['Medida'] == 'Confirmados PDIA 7 días']['Valor'].values[0]\n<ipython-input-9-f09dd2050cc1>:2: UserWarning: Boolean Series key will be reindexed to match DataFrame index.\n  c14 = df[df['Lugar de residencia'] == 'Huelva (capital)'][df['Medida'] == 'Confirmados PDIA 14 días']['Valor'].values[0]\n<ipython-input-9-f09dd2050cc1>:3: UserWarning: Boolean Series key will be reindexed to match DataFrame index.\n  p = df[df['Lugar de residencia'] == 'Huelva (capital)'][df['Medida'] == 'Población']['Valor'].values[0]\n"
     ]
    }
   ],
   "source": [
    "c7 = df[df['Lugar de residencia'] == 'Huelva (capital)'][df['Medida'] == 'Confirmados PDIA 7 días']['Valor'].values[0]\n",
    "c14 = df[df['Lugar de residencia'] == 'Huelva (capital)'][df['Medida'] == 'Confirmados PDIA 14 días']['Valor'].values[0]\n",
    "p = df[df['Lugar de residencia'] == 'Huelva (capital)'][df['Medida'] == 'Población']['Valor'].values[0]"
   ]
  },
  {
   "cell_type": "code",
   "execution_count": 10,
   "metadata": {
    "tags": []
   },
   "outputs": [
    {
     "output_type": "stream",
     "name": "stdout",
     "text": [
      "Huelva (capital)\n\nUn positivo PCR cada 1081 personas en los últimos 7 días \n\nUn positivo PCR cada 521 personas en los últimos 14 días\n"
     ]
    }
   ],
   "source": [
    "print('Huelva (capital)\\n')\n",
    "#print('Confirmados PCR 7 días x 1,000 habitantes: ', f\"{c7/(p/1000):.5f}\")\n",
    "print('Un positivo PCR cada', f\"{p/c7:.0f}\", 'personas en los últimos 7 días', '\\n')\n",
    "#print('Confirmados PCR 14 días x 1,000 habitantes: ', f\"{c14/(p/1000):.5f}\")\n",
    "print('Un positivo PCR cada', f\"{p/c14:.0f}\", 'personas en los últimos 14 días')"
   ]
  },
  {
   "cell_type": "code",
   "execution_count": 11,
   "metadata": {},
   "outputs": [],
   "source": [
    "filtro = ((df['Medida'] == 'Confirmados PDIA')| (df['Medida'] == 'Confirmados PDIA 7 días') | (df['Medida'] == 'Población' ) | (df['Medida'] == 'Confirmados PDIA 14 días')) & (df['Valor'] > 0)\n",
    "tabla = pd.pivot_table(df.loc[filtro], values='Valor', index='Lugar de residencia', columns='Medida').dropna()"
   ]
  },
  {
   "cell_type": "code",
   "execution_count": 12,
   "metadata": {},
   "outputs": [],
   "source": [
    "# Reorder columns\n",
    "tabla = tabla[['Confirmados PDIA', 'Confirmados PDIA 7 días', 'Confirmados PDIA 14 días', 'Población']]"
   ]
  },
  {
   "cell_type": "code",
   "execution_count": 13,
   "metadata": {},
   "outputs": [],
   "source": [
    "tabla['tasa7'] = tabla['Confirmados PDIA 7 días']/tabla['Población']*100000\n",
    "tabla['tasa14'] = tabla['Confirmados PDIA 14 días']/tabla['Población']*100000"
   ]
  },
  {
   "cell_type": "code",
   "execution_count": 14,
   "metadata": {},
   "outputs": [],
   "source": [
    "tabla['Diferencia PDIA'] = tabla['Confirmados PDIA'] - dfAnterior['Confirmados PDIA']"
   ]
  },
  {
   "cell_type": "code",
   "execution_count": 15,
   "metadata": {},
   "outputs": [
    {
     "output_type": "execute_result",
     "data": {
      "text/plain": [
       "Medida                             Confirmados PDIA  Confirmados PDIA 7 días  \\\n",
       "Lugar de residencia                                                            \n",
       "Huelva                                      27853.0                    571.0   \n",
       "Huelva-Costa                                16346.0                    215.0   \n",
       "Condado-Campiña                              8611.0                    290.0   \n",
       "Huelva (capital)                             7227.0                    133.0   \n",
       "Sierra de Huelva-Andévalo Central            2487.0                     59.0   \n",
       "Cartaya                                      1239.0                     38.0   \n",
       "Bollullos Par del Condado                     764.0                     32.0   \n",
       "Isla Cristina                                2032.0                     11.0   \n",
       "Moguer                                       1049.0                     41.0   \n",
       "Lucena del Puerto                             194.0                      6.0   \n",
       "Lepe                                         2064.0                      9.0   \n",
       "Aljaraque                                     989.0                     10.0   \n",
       "Almonte                                      1418.0                    106.0   \n",
       "Beas                                          178.0                      5.0   \n",
       "Aracena                                       505.0                      8.0   \n",
       "Palos de la Frontera                          565.0                      7.0   \n",
       "Rociana del Condado                           491.0                     30.0   \n",
       "Valverde del Camino                           459.0                      8.0   \n",
       "Gibraleón                                     573.0                     11.0   \n",
       "Cortegana                                     194.0                      2.0   \n",
       "Bonares                                       234.0                     10.0   \n",
       "Palma del Condado (La)                       1026.0                     13.0   \n",
       "Punta Umbría                                  694.0                     10.0   \n",
       "Aroche                                         88.0                      1.0   \n",
       "Cortelazor                                      5.0                      1.0   \n",
       "Paterna del Campo                             125.0                      1.0   \n",
       "\n",
       "Medida                             Confirmados PDIA 14 días  Población  \\\n",
       "Lugar de residencia                                                      \n",
       "Huelva                                               1226.0   513170.0   \n",
       "Huelva-Costa                                          487.0   289548.0   \n",
       "Condado-Campiña                                       621.0   156231.0   \n",
       "Huelva (capital)                                      276.0   143837.0   \n",
       "Sierra de Huelva-Andévalo Central                     101.0    67391.0   \n",
       "Cartaya                                               126.0    20083.0   \n",
       "Bollullos Par del Condado                              55.0    14387.0   \n",
       "Isla Cristina                                          13.0    21393.0   \n",
       "Moguer                                                 87.0    21867.0   \n",
       "Lucena del Puerto                                      12.0     3261.0   \n",
       "Lepe                                                   24.0    27880.0   \n",
       "Aljaraque                                              23.0    21474.0   \n",
       "Almonte                                               237.0    24507.0   \n",
       "Beas                                                   13.0     4341.0   \n",
       "Aracena                                                20.0     8255.0   \n",
       "Palos de la Frontera                                   43.0    11742.0   \n",
       "Rociana del Condado                                    66.0     7939.0   \n",
       "Valverde del Camino                                    16.0    12750.0   \n",
       "Gibraleón                                              18.0    12737.0   \n",
       "Cortegana                                               2.0     4602.0   \n",
       "Bonares                                                15.0     6060.0   \n",
       "Palma del Condado (La)                                 18.0    10801.0   \n",
       "Punta Umbría                                           14.0    15355.0   \n",
       "Aroche                                                  3.0     3054.0   \n",
       "Cortelazor                                              1.0      299.0   \n",
       "Paterna del Campo                                       1.0     3457.0   \n",
       "\n",
       "Medida                                  tasa7      tasa14  Diferencia PDIA  \n",
       "Lugar de residencia                                                         \n",
       "Huelva                             111.269170  238.907185             53.0  \n",
       "Huelva-Costa                        74.253664  168.193184             28.0  \n",
       "Condado-Campiña                    185.622572  397.488335             24.0  \n",
       "Huelva (capital)                    92.465777  191.883869             12.0  \n",
       "Sierra de Huelva-Andévalo Central   87.548782  149.871645              8.0  \n",
       "Cartaya                            189.214759  627.396305              5.0  \n",
       "Bollullos Par del Condado          222.423021  382.289567              4.0  \n",
       "Isla Cristina                       51.418688   60.767541              4.0  \n",
       "Moguer                             187.497142  397.859789              3.0  \n",
       "Lucena del Puerto                  183.992640  367.985281              3.0  \n",
       "Lepe                                32.281205   86.083214              3.0  \n",
       "Aljaraque                           46.567943  107.106268              3.0  \n",
       "Almonte                            432.529481  967.070633              3.0  \n",
       "Beas                               115.180834  299.470168              3.0  \n",
       "Aracena                             96.910963  242.277408              3.0  \n",
       "Palos de la Frontera                59.615057  366.206779              2.0  \n",
       "Rociana del Condado                377.881345  831.338960              2.0  \n",
       "Valverde del Camino                 62.745098  125.490196              2.0  \n",
       "Gibraleón                           86.362566  141.320562              1.0  \n",
       "Cortegana                           43.459365   43.459365              1.0  \n",
       "Bonares                            165.016502  247.524752              1.0  \n",
       "Palma del Condado (La)             120.359226  166.651236              1.0  \n",
       "Punta Umbría                        65.125366   91.175513              1.0  \n",
       "Aroche                              32.743942   98.231827              NaN  \n",
       "Cortelazor                         334.448161  334.448161              NaN  \n",
       "Paterna del Campo                   28.926815   28.926815              NaN  "
      ],
      "text/html": "<div>\n<style scoped>\n    .dataframe tbody tr th:only-of-type {\n        vertical-align: middle;\n    }\n\n    .dataframe tbody tr th {\n        vertical-align: top;\n    }\n\n    .dataframe thead th {\n        text-align: right;\n    }\n</style>\n<table border=\"1\" class=\"dataframe\">\n  <thead>\n    <tr style=\"text-align: right;\">\n      <th>Medida</th>\n      <th>Confirmados PDIA</th>\n      <th>Confirmados PDIA 7 días</th>\n      <th>Confirmados PDIA 14 días</th>\n      <th>Población</th>\n      <th>tasa7</th>\n      <th>tasa14</th>\n      <th>Diferencia PDIA</th>\n    </tr>\n    <tr>\n      <th>Lugar de residencia</th>\n      <th></th>\n      <th></th>\n      <th></th>\n      <th></th>\n      <th></th>\n      <th></th>\n      <th></th>\n    </tr>\n  </thead>\n  <tbody>\n    <tr>\n      <th>Huelva</th>\n      <td>27853.0</td>\n      <td>571.0</td>\n      <td>1226.0</td>\n      <td>513170.0</td>\n      <td>111.269170</td>\n      <td>238.907185</td>\n      <td>53.0</td>\n    </tr>\n    <tr>\n      <th>Huelva-Costa</th>\n      <td>16346.0</td>\n      <td>215.0</td>\n      <td>487.0</td>\n      <td>289548.0</td>\n      <td>74.253664</td>\n      <td>168.193184</td>\n      <td>28.0</td>\n    </tr>\n    <tr>\n      <th>Condado-Campiña</th>\n      <td>8611.0</td>\n      <td>290.0</td>\n      <td>621.0</td>\n      <td>156231.0</td>\n      <td>185.622572</td>\n      <td>397.488335</td>\n      <td>24.0</td>\n    </tr>\n    <tr>\n      <th>Huelva (capital)</th>\n      <td>7227.0</td>\n      <td>133.0</td>\n      <td>276.0</td>\n      <td>143837.0</td>\n      <td>92.465777</td>\n      <td>191.883869</td>\n      <td>12.0</td>\n    </tr>\n    <tr>\n      <th>Sierra de Huelva-Andévalo Central</th>\n      <td>2487.0</td>\n      <td>59.0</td>\n      <td>101.0</td>\n      <td>67391.0</td>\n      <td>87.548782</td>\n      <td>149.871645</td>\n      <td>8.0</td>\n    </tr>\n    <tr>\n      <th>Cartaya</th>\n      <td>1239.0</td>\n      <td>38.0</td>\n      <td>126.0</td>\n      <td>20083.0</td>\n      <td>189.214759</td>\n      <td>627.396305</td>\n      <td>5.0</td>\n    </tr>\n    <tr>\n      <th>Bollullos Par del Condado</th>\n      <td>764.0</td>\n      <td>32.0</td>\n      <td>55.0</td>\n      <td>14387.0</td>\n      <td>222.423021</td>\n      <td>382.289567</td>\n      <td>4.0</td>\n    </tr>\n    <tr>\n      <th>Isla Cristina</th>\n      <td>2032.0</td>\n      <td>11.0</td>\n      <td>13.0</td>\n      <td>21393.0</td>\n      <td>51.418688</td>\n      <td>60.767541</td>\n      <td>4.0</td>\n    </tr>\n    <tr>\n      <th>Moguer</th>\n      <td>1049.0</td>\n      <td>41.0</td>\n      <td>87.0</td>\n      <td>21867.0</td>\n      <td>187.497142</td>\n      <td>397.859789</td>\n      <td>3.0</td>\n    </tr>\n    <tr>\n      <th>Lucena del Puerto</th>\n      <td>194.0</td>\n      <td>6.0</td>\n      <td>12.0</td>\n      <td>3261.0</td>\n      <td>183.992640</td>\n      <td>367.985281</td>\n      <td>3.0</td>\n    </tr>\n    <tr>\n      <th>Lepe</th>\n      <td>2064.0</td>\n      <td>9.0</td>\n      <td>24.0</td>\n      <td>27880.0</td>\n      <td>32.281205</td>\n      <td>86.083214</td>\n      <td>3.0</td>\n    </tr>\n    <tr>\n      <th>Aljaraque</th>\n      <td>989.0</td>\n      <td>10.0</td>\n      <td>23.0</td>\n      <td>21474.0</td>\n      <td>46.567943</td>\n      <td>107.106268</td>\n      <td>3.0</td>\n    </tr>\n    <tr>\n      <th>Almonte</th>\n      <td>1418.0</td>\n      <td>106.0</td>\n      <td>237.0</td>\n      <td>24507.0</td>\n      <td>432.529481</td>\n      <td>967.070633</td>\n      <td>3.0</td>\n    </tr>\n    <tr>\n      <th>Beas</th>\n      <td>178.0</td>\n      <td>5.0</td>\n      <td>13.0</td>\n      <td>4341.0</td>\n      <td>115.180834</td>\n      <td>299.470168</td>\n      <td>3.0</td>\n    </tr>\n    <tr>\n      <th>Aracena</th>\n      <td>505.0</td>\n      <td>8.0</td>\n      <td>20.0</td>\n      <td>8255.0</td>\n      <td>96.910963</td>\n      <td>242.277408</td>\n      <td>3.0</td>\n    </tr>\n    <tr>\n      <th>Palos de la Frontera</th>\n      <td>565.0</td>\n      <td>7.0</td>\n      <td>43.0</td>\n      <td>11742.0</td>\n      <td>59.615057</td>\n      <td>366.206779</td>\n      <td>2.0</td>\n    </tr>\n    <tr>\n      <th>Rociana del Condado</th>\n      <td>491.0</td>\n      <td>30.0</td>\n      <td>66.0</td>\n      <td>7939.0</td>\n      <td>377.881345</td>\n      <td>831.338960</td>\n      <td>2.0</td>\n    </tr>\n    <tr>\n      <th>Valverde del Camino</th>\n      <td>459.0</td>\n      <td>8.0</td>\n      <td>16.0</td>\n      <td>12750.0</td>\n      <td>62.745098</td>\n      <td>125.490196</td>\n      <td>2.0</td>\n    </tr>\n    <tr>\n      <th>Gibraleón</th>\n      <td>573.0</td>\n      <td>11.0</td>\n      <td>18.0</td>\n      <td>12737.0</td>\n      <td>86.362566</td>\n      <td>141.320562</td>\n      <td>1.0</td>\n    </tr>\n    <tr>\n      <th>Cortegana</th>\n      <td>194.0</td>\n      <td>2.0</td>\n      <td>2.0</td>\n      <td>4602.0</td>\n      <td>43.459365</td>\n      <td>43.459365</td>\n      <td>1.0</td>\n    </tr>\n    <tr>\n      <th>Bonares</th>\n      <td>234.0</td>\n      <td>10.0</td>\n      <td>15.0</td>\n      <td>6060.0</td>\n      <td>165.016502</td>\n      <td>247.524752</td>\n      <td>1.0</td>\n    </tr>\n    <tr>\n      <th>Palma del Condado (La)</th>\n      <td>1026.0</td>\n      <td>13.0</td>\n      <td>18.0</td>\n      <td>10801.0</td>\n      <td>120.359226</td>\n      <td>166.651236</td>\n      <td>1.0</td>\n    </tr>\n    <tr>\n      <th>Punta Umbría</th>\n      <td>694.0</td>\n      <td>10.0</td>\n      <td>14.0</td>\n      <td>15355.0</td>\n      <td>65.125366</td>\n      <td>91.175513</td>\n      <td>1.0</td>\n    </tr>\n    <tr>\n      <th>Aroche</th>\n      <td>88.0</td>\n      <td>1.0</td>\n      <td>3.0</td>\n      <td>3054.0</td>\n      <td>32.743942</td>\n      <td>98.231827</td>\n      <td>NaN</td>\n    </tr>\n    <tr>\n      <th>Cortelazor</th>\n      <td>5.0</td>\n      <td>1.0</td>\n      <td>1.0</td>\n      <td>299.0</td>\n      <td>334.448161</td>\n      <td>334.448161</td>\n      <td>NaN</td>\n    </tr>\n    <tr>\n      <th>Paterna del Campo</th>\n      <td>125.0</td>\n      <td>1.0</td>\n      <td>1.0</td>\n      <td>3457.0</td>\n      <td>28.926815</td>\n      <td>28.926815</td>\n      <td>NaN</td>\n    </tr>\n  </tbody>\n</table>\n</div>"
     },
     "metadata": {},
     "execution_count": 15
    }
   ],
   "source": [
    "# Nuevos casos desde la última captura\n",
    "tabla[tabla['Diferencia PDIA'] != 0].sort_values('Diferencia PDIA', ascending=False)"
   ]
  },
  {
   "cell_type": "code",
   "execution_count": 16,
   "metadata": {},
   "outputs": [],
   "source": [
    "if tabla[tabla['Diferencia PDIA'] != 0]['Diferencia PDIA'].sum() != 0:\n",
    "  # Save to csv\n",
    "  tabla.to_csv('covid_huelva.csv', encoding='utf-8', header=True, index=True)  "
   ]
  },
  {
   "cell_type": "code",
   "execution_count": 17,
   "metadata": {},
   "outputs": [
    {
     "output_type": "execute_result",
     "data": {
      "text/plain": [
       "Medida                             Confirmados PDIA  Confirmados PDIA 7 días  \\\n",
       "Lugar de residencia                                                            \n",
       "Cumbres Mayores                                43.0                     18.0   \n",
       "Almonte                                      1418.0                    106.0   \n",
       "Santa Ana la Real                               9.0                      3.0   \n",
       "Rociana del Condado                           491.0                     30.0   \n",
       "Cumbres de San Bartolomé                        8.0                      3.0   \n",
       "Cartaya                                      1239.0                     38.0   \n",
       "Galaroza                                       24.0                      8.0   \n",
       "Almonaster la Real                             63.0                      5.0   \n",
       "San Bartolomé de la Torre                     282.0                      6.0   \n",
       "Moguer                                       1049.0                     41.0   \n",
       "Condado-Campiña                              8611.0                    290.0   \n",
       "Bollullos Par del Condado                     764.0                     32.0   \n",
       "Granado (El)                                   38.0                      2.0   \n",
       "Lucena del Puerto                             194.0                      6.0   \n",
       "Palos de la Frontera                          565.0                      7.0   \n",
       "Cortelazor                                      5.0                      1.0   \n",
       "Villarrasa                                    147.0                      4.0   \n",
       "Beas                                          178.0                      5.0   \n",
       "Bonares                                       234.0                     10.0   \n",
       "Aracena                                       505.0                      8.0   \n",
       "Huelva                                      27853.0                    571.0   \n",
       "Almendro (El)                                  36.0                      1.0   \n",
       "Niebla                                        191.0                      4.0   \n",
       "Huelva (capital)                             7227.0                    133.0   \n",
       "Minas de Riotinto                             107.0                      1.0   \n",
       "San Juan del Puerto                           423.0                     13.0   \n",
       "Huelva-Costa                                16346.0                    215.0   \n",
       "Palma del Condado (La)                       1026.0                     13.0   \n",
       "Sierra de Huelva-Andévalo Central            2487.0                     59.0   \n",
       "Gibraleón                                     573.0                     11.0   \n",
       "Fuenteheridos                                   6.0                      1.0   \n",
       "Valverde del Camino                           459.0                      8.0   \n",
       "Aljaraque                                     989.0                     10.0   \n",
       "Aroche                                         88.0                      1.0   \n",
       "Punta Umbría                                  694.0                     10.0   \n",
       "Lepe                                         2064.0                      9.0   \n",
       "Isla Cristina                                2032.0                     11.0   \n",
       "Cortegana                                     194.0                      2.0   \n",
       "Villalba del Alcor                            471.0                      1.0   \n",
       "Paterna del Campo                             125.0                      1.0   \n",
       "Ayamonte                                     1262.0                      1.0   \n",
       "\n",
       "Medida                             Confirmados PDIA 14 días  Población  \\\n",
       "Lugar de residencia                                                      \n",
       "Cumbres Mayores                                        18.0     1749.0   \n",
       "Almonte                                               237.0    24507.0   \n",
       "Santa Ana la Real                                       4.0      475.0   \n",
       "Rociana del Condado                                    66.0     7939.0   \n",
       "Cumbres de San Bartolomé                                3.0      376.0   \n",
       "Cartaya                                               126.0    20083.0   \n",
       "Galaroza                                                8.0     1382.0   \n",
       "Almonaster la Real                                      9.0     1788.0   \n",
       "San Bartolomé de la Torre                              15.0     3761.0   \n",
       "Moguer                                                 87.0    21867.0   \n",
       "Condado-Campiña                                       621.0   156231.0   \n",
       "Bollullos Par del Condado                              55.0    14387.0   \n",
       "Granado (El)                                            2.0      532.0   \n",
       "Lucena del Puerto                                      12.0     3261.0   \n",
       "Palos de la Frontera                                   43.0    11742.0   \n",
       "Cortelazor                                              1.0      299.0   \n",
       "Villarrasa                                              7.0     2211.0   \n",
       "Beas                                                   13.0     4341.0   \n",
       "Bonares                                                15.0     6060.0   \n",
       "Aracena                                                20.0     8255.0   \n",
       "Huelva                                               1226.0   513170.0   \n",
       "Almendro (El)                                           2.0      840.0   \n",
       "Niebla                                                  8.0     4116.0   \n",
       "Huelva (capital)                                      276.0   143837.0   \n",
       "Minas de Riotinto                                       7.0     3812.0   \n",
       "San Juan del Puerto                                    17.0     9411.0   \n",
       "Huelva-Costa                                          487.0   289548.0   \n",
       "Palma del Condado (La)                                 18.0    10801.0   \n",
       "Sierra de Huelva-Andévalo Central                     101.0    67391.0   \n",
       "Gibraleón                                              18.0    12737.0   \n",
       "Fuenteheridos                                           1.0      709.0   \n",
       "Valverde del Camino                                    16.0    12750.0   \n",
       "Aljaraque                                              23.0    21474.0   \n",
       "Aroche                                                  3.0     3054.0   \n",
       "Punta Umbría                                           14.0    15355.0   \n",
       "Lepe                                                   24.0    27880.0   \n",
       "Isla Cristina                                          13.0    21393.0   \n",
       "Cortegana                                               2.0     4602.0   \n",
       "Villalba del Alcor                                      1.0     3366.0   \n",
       "Paterna del Campo                                       1.0     3457.0   \n",
       "Ayamonte                                                6.0    21104.0   \n",
       "\n",
       "Medida                                   tasa7       tasa14  Diferencia PDIA  \n",
       "Lugar de residencia                                                           \n",
       "Cumbres Mayores                    1029.159520  1029.159520              0.0  \n",
       "Almonte                             432.529481   967.070633              3.0  \n",
       "Santa Ana la Real                   631.578947   842.105263              0.0  \n",
       "Rociana del Condado                 377.881345   831.338960              2.0  \n",
       "Cumbres de San Bartolomé            797.872340   797.872340              0.0  \n",
       "Cartaya                             189.214759   627.396305              5.0  \n",
       "Galaroza                            578.871201   578.871201              0.0  \n",
       "Almonaster la Real                  279.642058   503.355705              0.0  \n",
       "San Bartolomé de la Torre           159.532039   398.830098              0.0  \n",
       "Moguer                              187.497142   397.859789              3.0  \n",
       "Condado-Campiña                     185.622572   397.488335             24.0  \n",
       "Bollullos Par del Condado           222.423021   382.289567              4.0  \n",
       "Granado (El)                        375.939850   375.939850              0.0  \n",
       "Lucena del Puerto                   183.992640   367.985281              3.0  \n",
       "Palos de la Frontera                 59.615057   366.206779              2.0  \n",
       "Cortelazor                          334.448161   334.448161              NaN  \n",
       "Villarrasa                          180.913614   316.598824              0.0  \n",
       "Beas                                115.180834   299.470168              3.0  \n",
       "Bonares                             165.016502   247.524752              1.0  \n",
       "Aracena                              96.910963   242.277408              3.0  \n",
       "Huelva                              111.269170   238.907185             53.0  \n",
       "Almendro (El)                       119.047619   238.095238              0.0  \n",
       "Niebla                               97.181730   194.363460              0.0  \n",
       "Huelva (capital)                     92.465777   191.883869             12.0  \n",
       "Minas de Riotinto                    26.232949   183.630640              0.0  \n",
       "San Juan del Puerto                 138.136224   180.639677              0.0  \n",
       "Huelva-Costa                         74.253664   168.193184             28.0  \n",
       "Palma del Condado (La)              120.359226   166.651236              1.0  \n",
       "Sierra de Huelva-Andévalo Central    87.548782   149.871645              8.0  \n",
       "Gibraleón                            86.362566   141.320562              1.0  \n",
       "Fuenteheridos                       141.043724   141.043724              0.0  \n",
       "Valverde del Camino                  62.745098   125.490196              2.0  \n",
       "Aljaraque                            46.567943   107.106268              3.0  \n",
       "Aroche                               32.743942    98.231827              NaN  \n",
       "Punta Umbría                         65.125366    91.175513              1.0  \n",
       "Lepe                                 32.281205    86.083214              3.0  \n",
       "Isla Cristina                        51.418688    60.767541              4.0  \n",
       "Cortegana                            43.459365    43.459365              1.0  \n",
       "Villalba del Alcor                   29.708853    29.708853              0.0  \n",
       "Paterna del Campo                    28.926815    28.926815              NaN  \n",
       "Ayamonte                              4.738438    28.430629              0.0  "
      ],
      "text/html": "<div>\n<style scoped>\n    .dataframe tbody tr th:only-of-type {\n        vertical-align: middle;\n    }\n\n    .dataframe tbody tr th {\n        vertical-align: top;\n    }\n\n    .dataframe thead th {\n        text-align: right;\n    }\n</style>\n<table border=\"1\" class=\"dataframe\">\n  <thead>\n    <tr style=\"text-align: right;\">\n      <th>Medida</th>\n      <th>Confirmados PDIA</th>\n      <th>Confirmados PDIA 7 días</th>\n      <th>Confirmados PDIA 14 días</th>\n      <th>Población</th>\n      <th>tasa7</th>\n      <th>tasa14</th>\n      <th>Diferencia PDIA</th>\n    </tr>\n    <tr>\n      <th>Lugar de residencia</th>\n      <th></th>\n      <th></th>\n      <th></th>\n      <th></th>\n      <th></th>\n      <th></th>\n      <th></th>\n    </tr>\n  </thead>\n  <tbody>\n    <tr>\n      <th>Cumbres Mayores</th>\n      <td>43.0</td>\n      <td>18.0</td>\n      <td>18.0</td>\n      <td>1749.0</td>\n      <td>1029.159520</td>\n      <td>1029.159520</td>\n      <td>0.0</td>\n    </tr>\n    <tr>\n      <th>Almonte</th>\n      <td>1418.0</td>\n      <td>106.0</td>\n      <td>237.0</td>\n      <td>24507.0</td>\n      <td>432.529481</td>\n      <td>967.070633</td>\n      <td>3.0</td>\n    </tr>\n    <tr>\n      <th>Santa Ana la Real</th>\n      <td>9.0</td>\n      <td>3.0</td>\n      <td>4.0</td>\n      <td>475.0</td>\n      <td>631.578947</td>\n      <td>842.105263</td>\n      <td>0.0</td>\n    </tr>\n    <tr>\n      <th>Rociana del Condado</th>\n      <td>491.0</td>\n      <td>30.0</td>\n      <td>66.0</td>\n      <td>7939.0</td>\n      <td>377.881345</td>\n      <td>831.338960</td>\n      <td>2.0</td>\n    </tr>\n    <tr>\n      <th>Cumbres de San Bartolomé</th>\n      <td>8.0</td>\n      <td>3.0</td>\n      <td>3.0</td>\n      <td>376.0</td>\n      <td>797.872340</td>\n      <td>797.872340</td>\n      <td>0.0</td>\n    </tr>\n    <tr>\n      <th>Cartaya</th>\n      <td>1239.0</td>\n      <td>38.0</td>\n      <td>126.0</td>\n      <td>20083.0</td>\n      <td>189.214759</td>\n      <td>627.396305</td>\n      <td>5.0</td>\n    </tr>\n    <tr>\n      <th>Galaroza</th>\n      <td>24.0</td>\n      <td>8.0</td>\n      <td>8.0</td>\n      <td>1382.0</td>\n      <td>578.871201</td>\n      <td>578.871201</td>\n      <td>0.0</td>\n    </tr>\n    <tr>\n      <th>Almonaster la Real</th>\n      <td>63.0</td>\n      <td>5.0</td>\n      <td>9.0</td>\n      <td>1788.0</td>\n      <td>279.642058</td>\n      <td>503.355705</td>\n      <td>0.0</td>\n    </tr>\n    <tr>\n      <th>San Bartolomé de la Torre</th>\n      <td>282.0</td>\n      <td>6.0</td>\n      <td>15.0</td>\n      <td>3761.0</td>\n      <td>159.532039</td>\n      <td>398.830098</td>\n      <td>0.0</td>\n    </tr>\n    <tr>\n      <th>Moguer</th>\n      <td>1049.0</td>\n      <td>41.0</td>\n      <td>87.0</td>\n      <td>21867.0</td>\n      <td>187.497142</td>\n      <td>397.859789</td>\n      <td>3.0</td>\n    </tr>\n    <tr>\n      <th>Condado-Campiña</th>\n      <td>8611.0</td>\n      <td>290.0</td>\n      <td>621.0</td>\n      <td>156231.0</td>\n      <td>185.622572</td>\n      <td>397.488335</td>\n      <td>24.0</td>\n    </tr>\n    <tr>\n      <th>Bollullos Par del Condado</th>\n      <td>764.0</td>\n      <td>32.0</td>\n      <td>55.0</td>\n      <td>14387.0</td>\n      <td>222.423021</td>\n      <td>382.289567</td>\n      <td>4.0</td>\n    </tr>\n    <tr>\n      <th>Granado (El)</th>\n      <td>38.0</td>\n      <td>2.0</td>\n      <td>2.0</td>\n      <td>532.0</td>\n      <td>375.939850</td>\n      <td>375.939850</td>\n      <td>0.0</td>\n    </tr>\n    <tr>\n      <th>Lucena del Puerto</th>\n      <td>194.0</td>\n      <td>6.0</td>\n      <td>12.0</td>\n      <td>3261.0</td>\n      <td>183.992640</td>\n      <td>367.985281</td>\n      <td>3.0</td>\n    </tr>\n    <tr>\n      <th>Palos de la Frontera</th>\n      <td>565.0</td>\n      <td>7.0</td>\n      <td>43.0</td>\n      <td>11742.0</td>\n      <td>59.615057</td>\n      <td>366.206779</td>\n      <td>2.0</td>\n    </tr>\n    <tr>\n      <th>Cortelazor</th>\n      <td>5.0</td>\n      <td>1.0</td>\n      <td>1.0</td>\n      <td>299.0</td>\n      <td>334.448161</td>\n      <td>334.448161</td>\n      <td>NaN</td>\n    </tr>\n    <tr>\n      <th>Villarrasa</th>\n      <td>147.0</td>\n      <td>4.0</td>\n      <td>7.0</td>\n      <td>2211.0</td>\n      <td>180.913614</td>\n      <td>316.598824</td>\n      <td>0.0</td>\n    </tr>\n    <tr>\n      <th>Beas</th>\n      <td>178.0</td>\n      <td>5.0</td>\n      <td>13.0</td>\n      <td>4341.0</td>\n      <td>115.180834</td>\n      <td>299.470168</td>\n      <td>3.0</td>\n    </tr>\n    <tr>\n      <th>Bonares</th>\n      <td>234.0</td>\n      <td>10.0</td>\n      <td>15.0</td>\n      <td>6060.0</td>\n      <td>165.016502</td>\n      <td>247.524752</td>\n      <td>1.0</td>\n    </tr>\n    <tr>\n      <th>Aracena</th>\n      <td>505.0</td>\n      <td>8.0</td>\n      <td>20.0</td>\n      <td>8255.0</td>\n      <td>96.910963</td>\n      <td>242.277408</td>\n      <td>3.0</td>\n    </tr>\n    <tr>\n      <th>Huelva</th>\n      <td>27853.0</td>\n      <td>571.0</td>\n      <td>1226.0</td>\n      <td>513170.0</td>\n      <td>111.269170</td>\n      <td>238.907185</td>\n      <td>53.0</td>\n    </tr>\n    <tr>\n      <th>Almendro (El)</th>\n      <td>36.0</td>\n      <td>1.0</td>\n      <td>2.0</td>\n      <td>840.0</td>\n      <td>119.047619</td>\n      <td>238.095238</td>\n      <td>0.0</td>\n    </tr>\n    <tr>\n      <th>Niebla</th>\n      <td>191.0</td>\n      <td>4.0</td>\n      <td>8.0</td>\n      <td>4116.0</td>\n      <td>97.181730</td>\n      <td>194.363460</td>\n      <td>0.0</td>\n    </tr>\n    <tr>\n      <th>Huelva (capital)</th>\n      <td>7227.0</td>\n      <td>133.0</td>\n      <td>276.0</td>\n      <td>143837.0</td>\n      <td>92.465777</td>\n      <td>191.883869</td>\n      <td>12.0</td>\n    </tr>\n    <tr>\n      <th>Minas de Riotinto</th>\n      <td>107.0</td>\n      <td>1.0</td>\n      <td>7.0</td>\n      <td>3812.0</td>\n      <td>26.232949</td>\n      <td>183.630640</td>\n      <td>0.0</td>\n    </tr>\n    <tr>\n      <th>San Juan del Puerto</th>\n      <td>423.0</td>\n      <td>13.0</td>\n      <td>17.0</td>\n      <td>9411.0</td>\n      <td>138.136224</td>\n      <td>180.639677</td>\n      <td>0.0</td>\n    </tr>\n    <tr>\n      <th>Huelva-Costa</th>\n      <td>16346.0</td>\n      <td>215.0</td>\n      <td>487.0</td>\n      <td>289548.0</td>\n      <td>74.253664</td>\n      <td>168.193184</td>\n      <td>28.0</td>\n    </tr>\n    <tr>\n      <th>Palma del Condado (La)</th>\n      <td>1026.0</td>\n      <td>13.0</td>\n      <td>18.0</td>\n      <td>10801.0</td>\n      <td>120.359226</td>\n      <td>166.651236</td>\n      <td>1.0</td>\n    </tr>\n    <tr>\n      <th>Sierra de Huelva-Andévalo Central</th>\n      <td>2487.0</td>\n      <td>59.0</td>\n      <td>101.0</td>\n      <td>67391.0</td>\n      <td>87.548782</td>\n      <td>149.871645</td>\n      <td>8.0</td>\n    </tr>\n    <tr>\n      <th>Gibraleón</th>\n      <td>573.0</td>\n      <td>11.0</td>\n      <td>18.0</td>\n      <td>12737.0</td>\n      <td>86.362566</td>\n      <td>141.320562</td>\n      <td>1.0</td>\n    </tr>\n    <tr>\n      <th>Fuenteheridos</th>\n      <td>6.0</td>\n      <td>1.0</td>\n      <td>1.0</td>\n      <td>709.0</td>\n      <td>141.043724</td>\n      <td>141.043724</td>\n      <td>0.0</td>\n    </tr>\n    <tr>\n      <th>Valverde del Camino</th>\n      <td>459.0</td>\n      <td>8.0</td>\n      <td>16.0</td>\n      <td>12750.0</td>\n      <td>62.745098</td>\n      <td>125.490196</td>\n      <td>2.0</td>\n    </tr>\n    <tr>\n      <th>Aljaraque</th>\n      <td>989.0</td>\n      <td>10.0</td>\n      <td>23.0</td>\n      <td>21474.0</td>\n      <td>46.567943</td>\n      <td>107.106268</td>\n      <td>3.0</td>\n    </tr>\n    <tr>\n      <th>Aroche</th>\n      <td>88.0</td>\n      <td>1.0</td>\n      <td>3.0</td>\n      <td>3054.0</td>\n      <td>32.743942</td>\n      <td>98.231827</td>\n      <td>NaN</td>\n    </tr>\n    <tr>\n      <th>Punta Umbría</th>\n      <td>694.0</td>\n      <td>10.0</td>\n      <td>14.0</td>\n      <td>15355.0</td>\n      <td>65.125366</td>\n      <td>91.175513</td>\n      <td>1.0</td>\n    </tr>\n    <tr>\n      <th>Lepe</th>\n      <td>2064.0</td>\n      <td>9.0</td>\n      <td>24.0</td>\n      <td>27880.0</td>\n      <td>32.281205</td>\n      <td>86.083214</td>\n      <td>3.0</td>\n    </tr>\n    <tr>\n      <th>Isla Cristina</th>\n      <td>2032.0</td>\n      <td>11.0</td>\n      <td>13.0</td>\n      <td>21393.0</td>\n      <td>51.418688</td>\n      <td>60.767541</td>\n      <td>4.0</td>\n    </tr>\n    <tr>\n      <th>Cortegana</th>\n      <td>194.0</td>\n      <td>2.0</td>\n      <td>2.0</td>\n      <td>4602.0</td>\n      <td>43.459365</td>\n      <td>43.459365</td>\n      <td>1.0</td>\n    </tr>\n    <tr>\n      <th>Villalba del Alcor</th>\n      <td>471.0</td>\n      <td>1.0</td>\n      <td>1.0</td>\n      <td>3366.0</td>\n      <td>29.708853</td>\n      <td>29.708853</td>\n      <td>0.0</td>\n    </tr>\n    <tr>\n      <th>Paterna del Campo</th>\n      <td>125.0</td>\n      <td>1.0</td>\n      <td>1.0</td>\n      <td>3457.0</td>\n      <td>28.926815</td>\n      <td>28.926815</td>\n      <td>NaN</td>\n    </tr>\n    <tr>\n      <th>Ayamonte</th>\n      <td>1262.0</td>\n      <td>1.0</td>\n      <td>6.0</td>\n      <td>21104.0</td>\n      <td>4.738438</td>\n      <td>28.430629</td>\n      <td>0.0</td>\n    </tr>\n  </tbody>\n</table>\n</div>"
     },
     "metadata": {},
     "execution_count": 17
    }
   ],
   "source": [
    "tabla.sort_values('tasa14', ascending=False)"
   ]
  },
  {
   "cell_type": "code",
   "execution_count": 18,
   "metadata": {},
   "outputs": [
    {
     "output_type": "execute_result",
     "data": {
      "text/plain": [
       "Medida                             Confirmados PDIA  Confirmados PDIA 7 días  \\\n",
       "Lugar de residencia                                                            \n",
       "Minas de Riotinto                             107.0                      1.0   \n",
       "Palos de la Frontera                          565.0                      7.0   \n",
       "Ayamonte                                     1262.0                      1.0   \n",
       "Cartaya                                      1239.0                     38.0   \n",
       "Aroche                                         88.0                      1.0   \n",
       "Lepe                                         2064.0                      9.0   \n",
       "Beas                                          178.0                      5.0   \n",
       "San Bartolomé de la Torre                     282.0                      6.0   \n",
       "Aracena                                       505.0                      8.0   \n",
       "Aljaraque                                     989.0                     10.0   \n",
       "Huelva-Costa                                16346.0                    215.0   \n",
       "Almonte                                      1418.0                    106.0   \n",
       "Rociana del Condado                           491.0                     30.0   \n",
       "Huelva                                      27853.0                    571.0   \n",
       "Condado-Campiña                              8611.0                    290.0   \n",
       "Moguer                                       1049.0                     41.0   \n",
       "Huelva (capital)                             7227.0                    133.0   \n",
       "Valverde del Camino                           459.0                      8.0   \n",
       "Almendro (El)                                  36.0                      1.0   \n",
       "Niebla                                        191.0                      4.0   \n",
       "Lucena del Puerto                             194.0                      6.0   \n",
       "Almonaster la Real                             63.0                      5.0   \n",
       "Villarrasa                                    147.0                      4.0   \n",
       "Bollullos Par del Condado                     764.0                     32.0   \n",
       "Sierra de Huelva-Andévalo Central            2487.0                     59.0   \n",
       "Gibraleón                                     573.0                     11.0   \n",
       "Bonares                                       234.0                     10.0   \n",
       "Punta Umbría                                  694.0                     10.0   \n",
       "Palma del Condado (La)                       1026.0                     13.0   \n",
       "Santa Ana la Real                               9.0                      3.0   \n",
       "San Juan del Puerto                           423.0                     13.0   \n",
       "Isla Cristina                                2032.0                     11.0   \n",
       "Cumbres de San Bartolomé                        8.0                      3.0   \n",
       "Fuenteheridos                                   6.0                      1.0   \n",
       "Paterna del Campo                             125.0                      1.0   \n",
       "Cortegana                                     194.0                      2.0   \n",
       "Cortelazor                                      5.0                      1.0   \n",
       "Granado (El)                                   38.0                      2.0   \n",
       "Villalba del Alcor                            471.0                      1.0   \n",
       "Galaroza                                       24.0                      8.0   \n",
       "Cumbres Mayores                                43.0                     18.0   \n",
       "\n",
       "Medida                             Confirmados PDIA 14 días  Población  \\\n",
       "Lugar de residencia                                                      \n",
       "Minas de Riotinto                                       7.0     3812.0   \n",
       "Palos de la Frontera                                   43.0    11742.0   \n",
       "Ayamonte                                                6.0    21104.0   \n",
       "Cartaya                                               126.0    20083.0   \n",
       "Aroche                                                  3.0     3054.0   \n",
       "Lepe                                                   24.0    27880.0   \n",
       "Beas                                                   13.0     4341.0   \n",
       "San Bartolomé de la Torre                              15.0     3761.0   \n",
       "Aracena                                                20.0     8255.0   \n",
       "Aljaraque                                              23.0    21474.0   \n",
       "Huelva-Costa                                          487.0   289548.0   \n",
       "Almonte                                               237.0    24507.0   \n",
       "Rociana del Condado                                    66.0     7939.0   \n",
       "Huelva                                               1226.0   513170.0   \n",
       "Condado-Campiña                                       621.0   156231.0   \n",
       "Moguer                                                 87.0    21867.0   \n",
       "Huelva (capital)                                      276.0   143837.0   \n",
       "Valverde del Camino                                    16.0    12750.0   \n",
       "Almendro (El)                                           2.0      840.0   \n",
       "Niebla                                                  8.0     4116.0   \n",
       "Lucena del Puerto                                      12.0     3261.0   \n",
       "Almonaster la Real                                      9.0     1788.0   \n",
       "Villarrasa                                              7.0     2211.0   \n",
       "Bollullos Par del Condado                              55.0    14387.0   \n",
       "Sierra de Huelva-Andévalo Central                     101.0    67391.0   \n",
       "Gibraleón                                              18.0    12737.0   \n",
       "Bonares                                                15.0     6060.0   \n",
       "Punta Umbría                                           14.0    15355.0   \n",
       "Palma del Condado (La)                                 18.0    10801.0   \n",
       "Santa Ana la Real                                       4.0      475.0   \n",
       "San Juan del Puerto                                    17.0     9411.0   \n",
       "Isla Cristina                                          13.0    21393.0   \n",
       "Cumbres de San Bartolomé                                3.0      376.0   \n",
       "Fuenteheridos                                           1.0      709.0   \n",
       "Paterna del Campo                                       1.0     3457.0   \n",
       "Cortegana                                               2.0     4602.0   \n",
       "Cortelazor                                              1.0      299.0   \n",
       "Granado (El)                                            2.0      532.0   \n",
       "Villalba del Alcor                                      1.0     3366.0   \n",
       "Galaroza                                                8.0     1382.0   \n",
       "Cumbres Mayores                                        18.0     1749.0   \n",
       "\n",
       "Medida                                   tasa7       tasa14  Diferencia PDIA  \\\n",
       "Lugar de residencia                                                            \n",
       "Minas de Riotinto                    26.232949   183.630640              0.0   \n",
       "Palos de la Frontera                 59.615057   366.206779              2.0   \n",
       "Ayamonte                              4.738438    28.430629              0.0   \n",
       "Cartaya                             189.214759   627.396305              5.0   \n",
       "Aroche                               32.743942    98.231827              0.0   \n",
       "Lepe                                 32.281205    86.083214              3.0   \n",
       "Beas                                115.180834   299.470168              3.0   \n",
       "San Bartolomé de la Torre           159.532039   398.830098              0.0   \n",
       "Aracena                              96.910963   242.277408              3.0   \n",
       "Aljaraque                            46.567943   107.106268              3.0   \n",
       "Huelva-Costa                         74.253664   168.193184             28.0   \n",
       "Almonte                             432.529481   967.070633              3.0   \n",
       "Rociana del Condado                 377.881345   831.338960              2.0   \n",
       "Huelva                              111.269170   238.907185             53.0   \n",
       "Condado-Campiña                     185.622572   397.488335             24.0   \n",
       "Moguer                              187.497142   397.859789              3.0   \n",
       "Huelva (capital)                     92.465777   191.883869             12.0   \n",
       "Valverde del Camino                  62.745098   125.490196              2.0   \n",
       "Almendro (El)                       119.047619   238.095238              0.0   \n",
       "Niebla                               97.181730   194.363460              0.0   \n",
       "Lucena del Puerto                   183.992640   367.985281              3.0   \n",
       "Almonaster la Real                  279.642058   503.355705              0.0   \n",
       "Villarrasa                          180.913614   316.598824              0.0   \n",
       "Bollullos Par del Condado           222.423021   382.289567              4.0   \n",
       "Sierra de Huelva-Andévalo Central    87.548782   149.871645              8.0   \n",
       "Gibraleón                            86.362566   141.320562              1.0   \n",
       "Bonares                             165.016502   247.524752              1.0   \n",
       "Punta Umbría                         65.125366    91.175513              1.0   \n",
       "Palma del Condado (La)              120.359226   166.651236              1.0   \n",
       "Santa Ana la Real                   631.578947   842.105263              0.0   \n",
       "San Juan del Puerto                 138.136224   180.639677              0.0   \n",
       "Isla Cristina                        51.418688    60.767541              4.0   \n",
       "Cumbres de San Bartolomé            797.872340   797.872340              0.0   \n",
       "Fuenteheridos                       141.043724   141.043724              0.0   \n",
       "Paterna del Campo                    28.926815    28.926815              0.0   \n",
       "Cortegana                            43.459365    43.459365              1.0   \n",
       "Cortelazor                          334.448161   334.448161              0.0   \n",
       "Granado (El)                        375.939850   375.939850              0.0   \n",
       "Villalba del Alcor                   29.708853    29.708853              0.0   \n",
       "Galaroza                            578.871201   578.871201              0.0   \n",
       "Cumbres Mayores                    1029.159520  1029.159520              0.0   \n",
       "\n",
       "Medida                                 7/14  \n",
       "Lugar de residencia                          \n",
       "Minas de Riotinto                  0.142857  \n",
       "Palos de la Frontera               0.162791  \n",
       "Ayamonte                           0.166667  \n",
       "Cartaya                            0.301587  \n",
       "Aroche                             0.333333  \n",
       "Lepe                               0.375000  \n",
       "Beas                               0.384615  \n",
       "San Bartolomé de la Torre          0.400000  \n",
       "Aracena                            0.400000  \n",
       "Aljaraque                          0.434783  \n",
       "Huelva-Costa                       0.441478  \n",
       "Almonte                            0.447257  \n",
       "Rociana del Condado                0.454545  \n",
       "Huelva                             0.465742  \n",
       "Condado-Campiña                    0.466989  \n",
       "Moguer                             0.471264  \n",
       "Huelva (capital)                   0.481884  \n",
       "Valverde del Camino                0.500000  \n",
       "Almendro (El)                      0.500000  \n",
       "Niebla                             0.500000  \n",
       "Lucena del Puerto                  0.500000  \n",
       "Almonaster la Real                 0.555556  \n",
       "Villarrasa                         0.571429  \n",
       "Bollullos Par del Condado          0.581818  \n",
       "Sierra de Huelva-Andévalo Central  0.584158  \n",
       "Gibraleón                          0.611111  \n",
       "Bonares                            0.666667  \n",
       "Punta Umbría                       0.714286  \n",
       "Palma del Condado (La)             0.722222  \n",
       "Santa Ana la Real                  0.750000  \n",
       "San Juan del Puerto                0.764706  \n",
       "Isla Cristina                      0.846154  \n",
       "Cumbres de San Bartolomé           1.000000  \n",
       "Fuenteheridos                      1.000000  \n",
       "Paterna del Campo                  1.000000  \n",
       "Cortegana                          1.000000  \n",
       "Cortelazor                         1.000000  \n",
       "Granado (El)                       1.000000  \n",
       "Villalba del Alcor                 1.000000  \n",
       "Galaroza                           1.000000  \n",
       "Cumbres Mayores                    1.000000  "
      ],
      "text/html": "<div>\n<style scoped>\n    .dataframe tbody tr th:only-of-type {\n        vertical-align: middle;\n    }\n\n    .dataframe tbody tr th {\n        vertical-align: top;\n    }\n\n    .dataframe thead th {\n        text-align: right;\n    }\n</style>\n<table border=\"1\" class=\"dataframe\">\n  <thead>\n    <tr style=\"text-align: right;\">\n      <th>Medida</th>\n      <th>Confirmados PDIA</th>\n      <th>Confirmados PDIA 7 días</th>\n      <th>Confirmados PDIA 14 días</th>\n      <th>Población</th>\n      <th>tasa7</th>\n      <th>tasa14</th>\n      <th>Diferencia PDIA</th>\n      <th>7/14</th>\n    </tr>\n    <tr>\n      <th>Lugar de residencia</th>\n      <th></th>\n      <th></th>\n      <th></th>\n      <th></th>\n      <th></th>\n      <th></th>\n      <th></th>\n      <th></th>\n    </tr>\n  </thead>\n  <tbody>\n    <tr>\n      <th>Minas de Riotinto</th>\n      <td>107.0</td>\n      <td>1.0</td>\n      <td>7.0</td>\n      <td>3812.0</td>\n      <td>26.232949</td>\n      <td>183.630640</td>\n      <td>0.0</td>\n      <td>0.142857</td>\n    </tr>\n    <tr>\n      <th>Palos de la Frontera</th>\n      <td>565.0</td>\n      <td>7.0</td>\n      <td>43.0</td>\n      <td>11742.0</td>\n      <td>59.615057</td>\n      <td>366.206779</td>\n      <td>2.0</td>\n      <td>0.162791</td>\n    </tr>\n    <tr>\n      <th>Ayamonte</th>\n      <td>1262.0</td>\n      <td>1.0</td>\n      <td>6.0</td>\n      <td>21104.0</td>\n      <td>4.738438</td>\n      <td>28.430629</td>\n      <td>0.0</td>\n      <td>0.166667</td>\n    </tr>\n    <tr>\n      <th>Cartaya</th>\n      <td>1239.0</td>\n      <td>38.0</td>\n      <td>126.0</td>\n      <td>20083.0</td>\n      <td>189.214759</td>\n      <td>627.396305</td>\n      <td>5.0</td>\n      <td>0.301587</td>\n    </tr>\n    <tr>\n      <th>Aroche</th>\n      <td>88.0</td>\n      <td>1.0</td>\n      <td>3.0</td>\n      <td>3054.0</td>\n      <td>32.743942</td>\n      <td>98.231827</td>\n      <td>0.0</td>\n      <td>0.333333</td>\n    </tr>\n    <tr>\n      <th>Lepe</th>\n      <td>2064.0</td>\n      <td>9.0</td>\n      <td>24.0</td>\n      <td>27880.0</td>\n      <td>32.281205</td>\n      <td>86.083214</td>\n      <td>3.0</td>\n      <td>0.375000</td>\n    </tr>\n    <tr>\n      <th>Beas</th>\n      <td>178.0</td>\n      <td>5.0</td>\n      <td>13.0</td>\n      <td>4341.0</td>\n      <td>115.180834</td>\n      <td>299.470168</td>\n      <td>3.0</td>\n      <td>0.384615</td>\n    </tr>\n    <tr>\n      <th>San Bartolomé de la Torre</th>\n      <td>282.0</td>\n      <td>6.0</td>\n      <td>15.0</td>\n      <td>3761.0</td>\n      <td>159.532039</td>\n      <td>398.830098</td>\n      <td>0.0</td>\n      <td>0.400000</td>\n    </tr>\n    <tr>\n      <th>Aracena</th>\n      <td>505.0</td>\n      <td>8.0</td>\n      <td>20.0</td>\n      <td>8255.0</td>\n      <td>96.910963</td>\n      <td>242.277408</td>\n      <td>3.0</td>\n      <td>0.400000</td>\n    </tr>\n    <tr>\n      <th>Aljaraque</th>\n      <td>989.0</td>\n      <td>10.0</td>\n      <td>23.0</td>\n      <td>21474.0</td>\n      <td>46.567943</td>\n      <td>107.106268</td>\n      <td>3.0</td>\n      <td>0.434783</td>\n    </tr>\n    <tr>\n      <th>Huelva-Costa</th>\n      <td>16346.0</td>\n      <td>215.0</td>\n      <td>487.0</td>\n      <td>289548.0</td>\n      <td>74.253664</td>\n      <td>168.193184</td>\n      <td>28.0</td>\n      <td>0.441478</td>\n    </tr>\n    <tr>\n      <th>Almonte</th>\n      <td>1418.0</td>\n      <td>106.0</td>\n      <td>237.0</td>\n      <td>24507.0</td>\n      <td>432.529481</td>\n      <td>967.070633</td>\n      <td>3.0</td>\n      <td>0.447257</td>\n    </tr>\n    <tr>\n      <th>Rociana del Condado</th>\n      <td>491.0</td>\n      <td>30.0</td>\n      <td>66.0</td>\n      <td>7939.0</td>\n      <td>377.881345</td>\n      <td>831.338960</td>\n      <td>2.0</td>\n      <td>0.454545</td>\n    </tr>\n    <tr>\n      <th>Huelva</th>\n      <td>27853.0</td>\n      <td>571.0</td>\n      <td>1226.0</td>\n      <td>513170.0</td>\n      <td>111.269170</td>\n      <td>238.907185</td>\n      <td>53.0</td>\n      <td>0.465742</td>\n    </tr>\n    <tr>\n      <th>Condado-Campiña</th>\n      <td>8611.0</td>\n      <td>290.0</td>\n      <td>621.0</td>\n      <td>156231.0</td>\n      <td>185.622572</td>\n      <td>397.488335</td>\n      <td>24.0</td>\n      <td>0.466989</td>\n    </tr>\n    <tr>\n      <th>Moguer</th>\n      <td>1049.0</td>\n      <td>41.0</td>\n      <td>87.0</td>\n      <td>21867.0</td>\n      <td>187.497142</td>\n      <td>397.859789</td>\n      <td>3.0</td>\n      <td>0.471264</td>\n    </tr>\n    <tr>\n      <th>Huelva (capital)</th>\n      <td>7227.0</td>\n      <td>133.0</td>\n      <td>276.0</td>\n      <td>143837.0</td>\n      <td>92.465777</td>\n      <td>191.883869</td>\n      <td>12.0</td>\n      <td>0.481884</td>\n    </tr>\n    <tr>\n      <th>Valverde del Camino</th>\n      <td>459.0</td>\n      <td>8.0</td>\n      <td>16.0</td>\n      <td>12750.0</td>\n      <td>62.745098</td>\n      <td>125.490196</td>\n      <td>2.0</td>\n      <td>0.500000</td>\n    </tr>\n    <tr>\n      <th>Almendro (El)</th>\n      <td>36.0</td>\n      <td>1.0</td>\n      <td>2.0</td>\n      <td>840.0</td>\n      <td>119.047619</td>\n      <td>238.095238</td>\n      <td>0.0</td>\n      <td>0.500000</td>\n    </tr>\n    <tr>\n      <th>Niebla</th>\n      <td>191.0</td>\n      <td>4.0</td>\n      <td>8.0</td>\n      <td>4116.0</td>\n      <td>97.181730</td>\n      <td>194.363460</td>\n      <td>0.0</td>\n      <td>0.500000</td>\n    </tr>\n    <tr>\n      <th>Lucena del Puerto</th>\n      <td>194.0</td>\n      <td>6.0</td>\n      <td>12.0</td>\n      <td>3261.0</td>\n      <td>183.992640</td>\n      <td>367.985281</td>\n      <td>3.0</td>\n      <td>0.500000</td>\n    </tr>\n    <tr>\n      <th>Almonaster la Real</th>\n      <td>63.0</td>\n      <td>5.0</td>\n      <td>9.0</td>\n      <td>1788.0</td>\n      <td>279.642058</td>\n      <td>503.355705</td>\n      <td>0.0</td>\n      <td>0.555556</td>\n    </tr>\n    <tr>\n      <th>Villarrasa</th>\n      <td>147.0</td>\n      <td>4.0</td>\n      <td>7.0</td>\n      <td>2211.0</td>\n      <td>180.913614</td>\n      <td>316.598824</td>\n      <td>0.0</td>\n      <td>0.571429</td>\n    </tr>\n    <tr>\n      <th>Bollullos Par del Condado</th>\n      <td>764.0</td>\n      <td>32.0</td>\n      <td>55.0</td>\n      <td>14387.0</td>\n      <td>222.423021</td>\n      <td>382.289567</td>\n      <td>4.0</td>\n      <td>0.581818</td>\n    </tr>\n    <tr>\n      <th>Sierra de Huelva-Andévalo Central</th>\n      <td>2487.0</td>\n      <td>59.0</td>\n      <td>101.0</td>\n      <td>67391.0</td>\n      <td>87.548782</td>\n      <td>149.871645</td>\n      <td>8.0</td>\n      <td>0.584158</td>\n    </tr>\n    <tr>\n      <th>Gibraleón</th>\n      <td>573.0</td>\n      <td>11.0</td>\n      <td>18.0</td>\n      <td>12737.0</td>\n      <td>86.362566</td>\n      <td>141.320562</td>\n      <td>1.0</td>\n      <td>0.611111</td>\n    </tr>\n    <tr>\n      <th>Bonares</th>\n      <td>234.0</td>\n      <td>10.0</td>\n      <td>15.0</td>\n      <td>6060.0</td>\n      <td>165.016502</td>\n      <td>247.524752</td>\n      <td>1.0</td>\n      <td>0.666667</td>\n    </tr>\n    <tr>\n      <th>Punta Umbría</th>\n      <td>694.0</td>\n      <td>10.0</td>\n      <td>14.0</td>\n      <td>15355.0</td>\n      <td>65.125366</td>\n      <td>91.175513</td>\n      <td>1.0</td>\n      <td>0.714286</td>\n    </tr>\n    <tr>\n      <th>Palma del Condado (La)</th>\n      <td>1026.0</td>\n      <td>13.0</td>\n      <td>18.0</td>\n      <td>10801.0</td>\n      <td>120.359226</td>\n      <td>166.651236</td>\n      <td>1.0</td>\n      <td>0.722222</td>\n    </tr>\n    <tr>\n      <th>Santa Ana la Real</th>\n      <td>9.0</td>\n      <td>3.0</td>\n      <td>4.0</td>\n      <td>475.0</td>\n      <td>631.578947</td>\n      <td>842.105263</td>\n      <td>0.0</td>\n      <td>0.750000</td>\n    </tr>\n    <tr>\n      <th>San Juan del Puerto</th>\n      <td>423.0</td>\n      <td>13.0</td>\n      <td>17.0</td>\n      <td>9411.0</td>\n      <td>138.136224</td>\n      <td>180.639677</td>\n      <td>0.0</td>\n      <td>0.764706</td>\n    </tr>\n    <tr>\n      <th>Isla Cristina</th>\n      <td>2032.0</td>\n      <td>11.0</td>\n      <td>13.0</td>\n      <td>21393.0</td>\n      <td>51.418688</td>\n      <td>60.767541</td>\n      <td>4.0</td>\n      <td>0.846154</td>\n    </tr>\n    <tr>\n      <th>Cumbres de San Bartolomé</th>\n      <td>8.0</td>\n      <td>3.0</td>\n      <td>3.0</td>\n      <td>376.0</td>\n      <td>797.872340</td>\n      <td>797.872340</td>\n      <td>0.0</td>\n      <td>1.000000</td>\n    </tr>\n    <tr>\n      <th>Fuenteheridos</th>\n      <td>6.0</td>\n      <td>1.0</td>\n      <td>1.0</td>\n      <td>709.0</td>\n      <td>141.043724</td>\n      <td>141.043724</td>\n      <td>0.0</td>\n      <td>1.000000</td>\n    </tr>\n    <tr>\n      <th>Paterna del Campo</th>\n      <td>125.0</td>\n      <td>1.0</td>\n      <td>1.0</td>\n      <td>3457.0</td>\n      <td>28.926815</td>\n      <td>28.926815</td>\n      <td>0.0</td>\n      <td>1.000000</td>\n    </tr>\n    <tr>\n      <th>Cortegana</th>\n      <td>194.0</td>\n      <td>2.0</td>\n      <td>2.0</td>\n      <td>4602.0</td>\n      <td>43.459365</td>\n      <td>43.459365</td>\n      <td>1.0</td>\n      <td>1.000000</td>\n    </tr>\n    <tr>\n      <th>Cortelazor</th>\n      <td>5.0</td>\n      <td>1.0</td>\n      <td>1.0</td>\n      <td>299.0</td>\n      <td>334.448161</td>\n      <td>334.448161</td>\n      <td>0.0</td>\n      <td>1.000000</td>\n    </tr>\n    <tr>\n      <th>Granado (El)</th>\n      <td>38.0</td>\n      <td>2.0</td>\n      <td>2.0</td>\n      <td>532.0</td>\n      <td>375.939850</td>\n      <td>375.939850</td>\n      <td>0.0</td>\n      <td>1.000000</td>\n    </tr>\n    <tr>\n      <th>Villalba del Alcor</th>\n      <td>471.0</td>\n      <td>1.0</td>\n      <td>1.0</td>\n      <td>3366.0</td>\n      <td>29.708853</td>\n      <td>29.708853</td>\n      <td>0.0</td>\n      <td>1.000000</td>\n    </tr>\n    <tr>\n      <th>Galaroza</th>\n      <td>24.0</td>\n      <td>8.0</td>\n      <td>8.0</td>\n      <td>1382.0</td>\n      <td>578.871201</td>\n      <td>578.871201</td>\n      <td>0.0</td>\n      <td>1.000000</td>\n    </tr>\n    <tr>\n      <th>Cumbres Mayores</th>\n      <td>43.0</td>\n      <td>18.0</td>\n      <td>18.0</td>\n      <td>1749.0</td>\n      <td>1029.159520</td>\n      <td>1029.159520</td>\n      <td>0.0</td>\n      <td>1.000000</td>\n    </tr>\n  </tbody>\n</table>\n</div>"
     },
     "metadata": {},
     "execution_count": 18
    }
   ],
   "source": [
    "# Peso de la tasa de la última semana en relación con la tasa a 14 días \n",
    "# Mejor cuanto menor. Valor 1 significa que no había casos antes de 7 días.\n",
    "tabla['7/14'] = tabla['tasa7'] / tabla['tasa14']\n",
    "tabla.fillna(0).sort_values('7/14', ascending=True)"
   ]
  },
  {
   "cell_type": "code",
   "execution_count": null,
   "metadata": {},
   "outputs": [],
   "source": []
  }
 ]
}