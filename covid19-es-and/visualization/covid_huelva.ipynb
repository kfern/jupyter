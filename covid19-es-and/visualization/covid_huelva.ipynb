{
 "metadata": {
  "language_info": {
   "codemirror_mode": {
    "name": "ipython",
    "version": 3
   },
   "file_extension": ".py",
   "mimetype": "text/x-python",
   "name": "python",
   "nbconvert_exporter": "python",
   "pygments_lexer": "ipython3",
   "version": "3.6.9-final"
  },
  "orig_nbformat": 2,
  "kernelspec": {
   "name": "Python 3.6.9 64-bit",
   "display_name": "Python 3.6.9 64-bit",
   "metadata": {
    "interpreter": {
     "hash": "31f2aee4e71d21fbe5cf8b01ff0e069b9275f58929596ceb00d14d90e3e16cd6"
    }
   }
  }
 },
 "nbformat": 4,
 "nbformat_minor": 2,
 "cells": [
  {
   "cell_type": "code",
   "execution_count": 1,
   "metadata": {},
   "outputs": [],
   "source": [
    "import pandas as pd"
   ]
  },
  {
   "cell_type": "code",
   "execution_count": 2,
   "metadata": {},
   "outputs": [],
   "source": [
    "# FIX SSL: CERTIFICATE_VERIFY_FAILED with Python3\n",
    "# https://stackoverflow.com/a/49174340\n",
    "import ssl\n",
    "\n",
    "ssl._create_default_https_context = ssl._create_unverified_context"
   ]
  },
  {
   "cell_type": "code",
   "execution_count": 3,
   "metadata": {},
   "outputs": [],
   "source": [
    "url = 'https://www.juntadeandalucia.es/institutodeestadisticaycartografia/badea/stpivot/stpivot/Print?cube=013d884c-cfc5-4c21-9e78-e26225682afd&type=3&foto=si&ejecutaDesde=&codConsulta=38668&consTipoVisua=JP'\n",
    "fields = ['Lugar de residencia', 'Medida', 'Valor']\n",
    "df = pd.read_csv(url, delimiter=';', usecols=fields, decimal=',')"
   ]
  },
  {
   "cell_type": "code",
   "execution_count": 4,
   "metadata": {},
   "outputs": [
    {
     "output_type": "execute_result",
     "data": {
      "text/plain": [
       "                     Lugar de residencia                    Medida  \\\n",
       "0                                 Huelva                 Población   \n",
       "1                                 Huelva          Confirmados PDIA   \n",
       "2                                 Huelva  Confirmados PDIA 14 días   \n",
       "3                                 Huelva         Tasa PDIA 14 días   \n",
       "4                                 Huelva   Confirmados PDIA 7 días   \n",
       "..                                   ...                       ...   \n",
       "627  Municipio de Huelva sin especificar         Tasa PDIA 14 días   \n",
       "628  Municipio de Huelva sin especificar   Confirmados PDIA 7 días   \n",
       "629  Municipio de Huelva sin especificar        Total Confirmados    \n",
       "630  Municipio de Huelva sin especificar                   Curados   \n",
       "631  Municipio de Huelva sin especificar                Fallecidos   \n",
       "\n",
       "                  Valor  \n",
       "0                510743  \n",
       "1                  2185  \n",
       "2                   615  \n",
       "3    120,41281035667645  \n",
       "4                   302  \n",
       "..                  ...  \n",
       "627                   -  \n",
       "628                   2  \n",
       "629                  32  \n",
       "630                   4  \n",
       "631                   1  \n",
       "\n",
       "[632 rows x 3 columns]"
      ],
      "text/html": "<div>\n<style scoped>\n    .dataframe tbody tr th:only-of-type {\n        vertical-align: middle;\n    }\n\n    .dataframe tbody tr th {\n        vertical-align: top;\n    }\n\n    .dataframe thead th {\n        text-align: right;\n    }\n</style>\n<table border=\"1\" class=\"dataframe\">\n  <thead>\n    <tr style=\"text-align: right;\">\n      <th></th>\n      <th>Lugar de residencia</th>\n      <th>Medida</th>\n      <th>Valor</th>\n    </tr>\n  </thead>\n  <tbody>\n    <tr>\n      <th>0</th>\n      <td>Huelva</td>\n      <td>Población</td>\n      <td>510743</td>\n    </tr>\n    <tr>\n      <th>1</th>\n      <td>Huelva</td>\n      <td>Confirmados PDIA</td>\n      <td>2185</td>\n    </tr>\n    <tr>\n      <th>2</th>\n      <td>Huelva</td>\n      <td>Confirmados PDIA 14 días</td>\n      <td>615</td>\n    </tr>\n    <tr>\n      <th>3</th>\n      <td>Huelva</td>\n      <td>Tasa PDIA 14 días</td>\n      <td>120,41281035667645</td>\n    </tr>\n    <tr>\n      <th>4</th>\n      <td>Huelva</td>\n      <td>Confirmados PDIA 7 días</td>\n      <td>302</td>\n    </tr>\n    <tr>\n      <th>...</th>\n      <td>...</td>\n      <td>...</td>\n      <td>...</td>\n    </tr>\n    <tr>\n      <th>627</th>\n      <td>Municipio de Huelva sin especificar</td>\n      <td>Tasa PDIA 14 días</td>\n      <td>-</td>\n    </tr>\n    <tr>\n      <th>628</th>\n      <td>Municipio de Huelva sin especificar</td>\n      <td>Confirmados PDIA 7 días</td>\n      <td>2</td>\n    </tr>\n    <tr>\n      <th>629</th>\n      <td>Municipio de Huelva sin especificar</td>\n      <td>Total Confirmados</td>\n      <td>32</td>\n    </tr>\n    <tr>\n      <th>630</th>\n      <td>Municipio de Huelva sin especificar</td>\n      <td>Curados</td>\n      <td>4</td>\n    </tr>\n    <tr>\n      <th>631</th>\n      <td>Municipio de Huelva sin especificar</td>\n      <td>Fallecidos</td>\n      <td>1</td>\n    </tr>\n  </tbody>\n</table>\n<p>632 rows × 3 columns</p>\n</div>"
     },
     "metadata": {},
     "execution_count": 4
    }
   ],
   "source": [
    "df"
   ]
  },
  {
   "cell_type": "code",
   "execution_count": 5,
   "metadata": {},
   "outputs": [],
   "source": [
    "df['Valor'] = pd.to_numeric(df['Valor'],errors='coerce')"
   ]
  },
  {
   "cell_type": "code",
   "execution_count": 6,
   "metadata": {},
   "outputs": [],
   "source": [
    "dfAnterior = pd.read_csv('covid_huelva.csv', index_col='Lugar de residencia')"
   ]
  },
  {
   "cell_type": "code",
   "execution_count": 7,
   "metadata": {
    "tags": []
   },
   "outputs": [
    {
     "output_type": "stream",
     "name": "stdout",
     "text": [
      "Confirmados PCR en la provincia de Huelva:  2185.0\n"
     ]
    }
   ],
   "source": [
    "# Confirmados PCR provincia Huelva\n",
    "p = df[df['Lugar de residencia'] == 'Huelva'][df['Medida'] == 'Confirmados PDIA']['Valor'].values[0]\n",
    "print('Confirmados PCR en la provincia de Huelva: ', p)"
   ]
  },
  {
   "cell_type": "code",
   "execution_count": 8,
   "metadata": {
    "tags": []
   },
   "outputs": [
    {
     "output_type": "stream",
     "name": "stdout",
     "text": [
      "Confirmados PCR en Huelva capital:  583.0\n"
     ]
    }
   ],
   "source": [
    "# Confirmados PCR Huelva capitalpd\n",
    "c = df[df['Lugar de residencia'] == 'Huelva (capital)'][df['Medida'] == 'Confirmados PDIA']['Valor'].values[0]\n",
    "print('Confirmados PCR en Huelva capital: ', c)"
   ]
  },
  {
   "cell_type": "code",
   "execution_count": 9,
   "metadata": {
    "tags": []
   },
   "outputs": [],
   "source": [
    "c7 = df[df['Lugar de residencia'] == 'Huelva (capital)'][df['Medida'] == 'Confirmados PDIA 7 días']['Valor'].values[0]\n",
    "c14 = df[df['Lugar de residencia'] == 'Huelva (capital)'][df['Medida'] == 'Confirmados PDIA 14 días']['Valor'].values[0]\n",
    "p = df[df['Lugar de residencia'] == 'Huelva (capital)'][df['Medida'] == 'Población']['Valor'].values[0]"
   ]
  },
  {
   "cell_type": "code",
   "execution_count": 10,
   "metadata": {
    "tags": []
   },
   "outputs": [
    {
     "output_type": "stream",
     "name": "stdout",
     "text": [
      "Huelva (capital)\n\nUn positivo PCR cada 1330 personas en los últimos 7 días \n\nUn positivo PCR cada 704 personas en los últimos 14 días\n"
     ]
    }
   ],
   "source": [
    "print('Huelva (capital)\\n')\n",
    "#print('Confirmados PCR 7 días x 1,000 habitantes: ', f\"{c7/(p/1000):.5f}\")\n",
    "print('Un positivo PCR cada', f\"{p/c7:.0f}\", 'personas en los últimos 7 días', '\\n')\n",
    "#print('Confirmados PCR 14 días x 1,000 habitantes: ', f\"{c14/(p/1000):.5f}\")\n",
    "print('Un positivo PCR cada', f\"{p/c14:.0f}\", 'personas en los últimos 14 días')"
   ]
  },
  {
   "cell_type": "code",
   "execution_count": 11,
   "metadata": {},
   "outputs": [],
   "source": [
    "filtro = ((df['Medida'] == 'Confirmados PDIA')| (df['Medida'] == 'Confirmados PDIA 7 días') | (df['Medida'] == 'Población' ) | (df['Medida'] == 'Confirmados PDIA 14 días')) & (df['Valor'] > 0)\n",
    "tabla = pd.pivot_table(df.loc[filtro], values='Valor', index='Lugar de residencia', columns='Medida').dropna()"
   ]
  },
  {
   "cell_type": "code",
   "execution_count": 12,
   "metadata": {},
   "outputs": [],
   "source": [
    "# Reorder columns\n",
    "tabla = tabla[['Confirmados PDIA', 'Confirmados PDIA 7 días', 'Confirmados PDIA 14 días', 'Población']]"
   ]
  },
  {
   "cell_type": "code",
   "execution_count": 13,
   "metadata": {},
   "outputs": [],
   "source": [
    "tabla['tasa7'] = tabla['Confirmados PDIA 7 días']/tabla['Población']*100000\n",
    "tabla['tasa14'] = tabla['Confirmados PDIA 14 días']/tabla['Población']*100000"
   ]
  },
  {
   "cell_type": "code",
   "execution_count": 14,
   "metadata": {},
   "outputs": [],
   "source": [
    "tabla['Diferencia PDIA'] = tabla['Confirmados PDIA'] - dfAnterior['Confirmados PDIA']"
   ]
  },
  {
   "cell_type": "code",
   "execution_count": 15,
   "metadata": {},
   "outputs": [
    {
     "output_type": "execute_result",
     "data": {
      "text/plain": [
       "Medida                             Confirmados PDIA  Confirmados PDIA 7 días  \\\n",
       "Lugar de residencia                                                            \n",
       "Huelva                                       2185.0                    302.0   \n",
       "Huelva-Costa                                 1142.0                    190.0   \n",
       "Condado-Campiña                               729.0                     71.0   \n",
       "Huelva (capital)                              583.0                    108.0   \n",
       "Lepe                                          169.0                     31.0   \n",
       "Sierra de Huelva-Andévalo Central             282.0                     39.0   \n",
       "Almonte                                        76.0                     12.0   \n",
       "Cartaya                                        41.0                     10.0   \n",
       "Cerro de Andévalo (El)                         14.0                      9.0   \n",
       "Isla Cristina                                  84.0                      9.0   \n",
       "Ayamonte                                       57.0                      5.0   \n",
       "Palma del Condado (La)                        108.0                     17.0   \n",
       "Granado (El)                                   17.0                     14.0   \n",
       "Aracena                                        63.0                      7.0   \n",
       "Bollullos Par del Condado                     116.0                      8.0   \n",
       "Moguer                                         58.0                      4.0   \n",
       "Aljaraque                                      87.0                      9.0   \n",
       "Gibraleón                                      45.0                      9.0   \n",
       "Villarrasa                                     29.0                      6.0   \n",
       "Paterna del Campo                              18.0                      5.0   \n",
       "Rociana del Condado                            12.0                      2.0   \n",
       "Escacena del Campo                             19.0                      1.0   \n",
       "Valverde del Camino                            33.0                      4.0   \n",
       "Marines (Los)                                   1.0                      1.0   \n",
       "Punta Umbría                                   39.0                      1.0   \n",
       "Trigueros                                      39.0                      1.0   \n",
       "Villanueva de los Castillejos                  20.0                      2.0   \n",
       "\n",
       "Medida                             Confirmados PDIA 14 días  Población  \\\n",
       "Lugar de residencia                                                      \n",
       "Huelva                                                615.0   510743.0   \n",
       "Huelva-Costa                                          346.0   288115.0   \n",
       "Condado-Campiña                                       191.0   155057.0   \n",
       "Huelva (capital)                                      204.0   143663.0   \n",
       "Lepe                                                   53.0    27431.0   \n",
       "Sierra de Huelva-Andévalo Central                      69.0    67571.0   \n",
       "Almonte                                                21.0    24191.0   \n",
       "Cartaya                                                15.0    19974.0   \n",
       "Cerro de Andévalo (El)                                  9.0     2364.0   \n",
       "Isla Cristina                                          16.0    21264.0   \n",
       "Ayamonte                                                6.0    20946.0   \n",
       "Palma del Condado (La)                                 33.0    10761.0   \n",
       "Granado (El)                                           15.0      516.0   \n",
       "Aracena                                                14.0     8107.0   \n",
       "Bollullos Par del Condado                              22.0    14272.0   \n",
       "Moguer                                                 13.0    22088.0   \n",
       "Aljaraque                                              15.0    21260.0   \n",
       "Gibraleón                                              17.0    12607.0   \n",
       "Villarrasa                                             19.0     2176.0   \n",
       "Paterna del Campo                                       6.0     3509.0   \n",
       "Rociana del Condado                                     3.0     7855.0   \n",
       "Escacena del Campo                                      4.0     2284.0   \n",
       "Valverde del Camino                                     5.0    12820.0   \n",
       "Marines (Los)                                           1.0      396.0   \n",
       "Punta Umbría                                            3.0    15242.0   \n",
       "Trigueros                                               2.0     7713.0   \n",
       "Villanueva de los Castillejos                          13.0     2820.0   \n",
       "\n",
       "Medida                                   tasa7       tasa14  Diferencia PDIA  \n",
       "Lugar de residencia                                                           \n",
       "Huelva                               59.129543   120.412810             90.0  \n",
       "Huelva-Costa                         65.945890   120.090936             57.0  \n",
       "Condado-Campiña                      45.789613   123.180508             24.0  \n",
       "Huelva (capital)                     75.175933   141.998984             21.0  \n",
       "Lepe                                113.010827   193.212059             12.0  \n",
       "Sierra de Huelva-Andévalo Central    57.717068   102.114813             11.0  \n",
       "Almonte                              49.605225    86.809144              7.0  \n",
       "Cartaya                              50.065085    75.097627              6.0  \n",
       "Cerro de Andévalo (El)              380.710660   380.710660              6.0  \n",
       "Isla Cristina                        42.325056    75.244545              5.0  \n",
       "Ayamonte                             23.870906    28.645087              4.0  \n",
       "Palma del Condado (La)              157.977883   306.662950              4.0  \n",
       "Granado (El)                       2713.178295  2906.976744              4.0  \n",
       "Aracena                              86.345134   172.690268              3.0  \n",
       "Bollullos Par del Condado            56.053812   154.147982              3.0  \n",
       "Moguer                               18.109381    58.855487              2.0  \n",
       "Aljaraque                            42.333020    70.555033              2.0  \n",
       "Gibraleón                            71.388911   134.845721              2.0  \n",
       "Villarrasa                          275.735294   873.161765              2.0  \n",
       "Paterna del Campo                   142.490738   170.988886              1.0  \n",
       "Rociana del Condado                  25.461489    38.192234              1.0  \n",
       "Escacena del Campo                   43.782837   175.131349              1.0  \n",
       "Valverde del Camino                  31.201248    39.001560              1.0  \n",
       "Marines (Los)                       252.525253   252.525253              NaN  \n",
       "Punta Umbría                          6.560819    19.682456              NaN  \n",
       "Trigueros                            12.965124    25.930248              NaN  \n",
       "Villanueva de los Castillejos        70.921986   460.992908              NaN  "
      ],
      "text/html": "<div>\n<style scoped>\n    .dataframe tbody tr th:only-of-type {\n        vertical-align: middle;\n    }\n\n    .dataframe tbody tr th {\n        vertical-align: top;\n    }\n\n    .dataframe thead th {\n        text-align: right;\n    }\n</style>\n<table border=\"1\" class=\"dataframe\">\n  <thead>\n    <tr style=\"text-align: right;\">\n      <th>Medida</th>\n      <th>Confirmados PDIA</th>\n      <th>Confirmados PDIA 7 días</th>\n      <th>Confirmados PDIA 14 días</th>\n      <th>Población</th>\n      <th>tasa7</th>\n      <th>tasa14</th>\n      <th>Diferencia PDIA</th>\n    </tr>\n    <tr>\n      <th>Lugar de residencia</th>\n      <th></th>\n      <th></th>\n      <th></th>\n      <th></th>\n      <th></th>\n      <th></th>\n      <th></th>\n    </tr>\n  </thead>\n  <tbody>\n    <tr>\n      <th>Huelva</th>\n      <td>2185.0</td>\n      <td>302.0</td>\n      <td>615.0</td>\n      <td>510743.0</td>\n      <td>59.129543</td>\n      <td>120.412810</td>\n      <td>90.0</td>\n    </tr>\n    <tr>\n      <th>Huelva-Costa</th>\n      <td>1142.0</td>\n      <td>190.0</td>\n      <td>346.0</td>\n      <td>288115.0</td>\n      <td>65.945890</td>\n      <td>120.090936</td>\n      <td>57.0</td>\n    </tr>\n    <tr>\n      <th>Condado-Campiña</th>\n      <td>729.0</td>\n      <td>71.0</td>\n      <td>191.0</td>\n      <td>155057.0</td>\n      <td>45.789613</td>\n      <td>123.180508</td>\n      <td>24.0</td>\n    </tr>\n    <tr>\n      <th>Huelva (capital)</th>\n      <td>583.0</td>\n      <td>108.0</td>\n      <td>204.0</td>\n      <td>143663.0</td>\n      <td>75.175933</td>\n      <td>141.998984</td>\n      <td>21.0</td>\n    </tr>\n    <tr>\n      <th>Lepe</th>\n      <td>169.0</td>\n      <td>31.0</td>\n      <td>53.0</td>\n      <td>27431.0</td>\n      <td>113.010827</td>\n      <td>193.212059</td>\n      <td>12.0</td>\n    </tr>\n    <tr>\n      <th>Sierra de Huelva-Andévalo Central</th>\n      <td>282.0</td>\n      <td>39.0</td>\n      <td>69.0</td>\n      <td>67571.0</td>\n      <td>57.717068</td>\n      <td>102.114813</td>\n      <td>11.0</td>\n    </tr>\n    <tr>\n      <th>Almonte</th>\n      <td>76.0</td>\n      <td>12.0</td>\n      <td>21.0</td>\n      <td>24191.0</td>\n      <td>49.605225</td>\n      <td>86.809144</td>\n      <td>7.0</td>\n    </tr>\n    <tr>\n      <th>Cartaya</th>\n      <td>41.0</td>\n      <td>10.0</td>\n      <td>15.0</td>\n      <td>19974.0</td>\n      <td>50.065085</td>\n      <td>75.097627</td>\n      <td>6.0</td>\n    </tr>\n    <tr>\n      <th>Cerro de Andévalo (El)</th>\n      <td>14.0</td>\n      <td>9.0</td>\n      <td>9.0</td>\n      <td>2364.0</td>\n      <td>380.710660</td>\n      <td>380.710660</td>\n      <td>6.0</td>\n    </tr>\n    <tr>\n      <th>Isla Cristina</th>\n      <td>84.0</td>\n      <td>9.0</td>\n      <td>16.0</td>\n      <td>21264.0</td>\n      <td>42.325056</td>\n      <td>75.244545</td>\n      <td>5.0</td>\n    </tr>\n    <tr>\n      <th>Ayamonte</th>\n      <td>57.0</td>\n      <td>5.0</td>\n      <td>6.0</td>\n      <td>20946.0</td>\n      <td>23.870906</td>\n      <td>28.645087</td>\n      <td>4.0</td>\n    </tr>\n    <tr>\n      <th>Palma del Condado (La)</th>\n      <td>108.0</td>\n      <td>17.0</td>\n      <td>33.0</td>\n      <td>10761.0</td>\n      <td>157.977883</td>\n      <td>306.662950</td>\n      <td>4.0</td>\n    </tr>\n    <tr>\n      <th>Granado (El)</th>\n      <td>17.0</td>\n      <td>14.0</td>\n      <td>15.0</td>\n      <td>516.0</td>\n      <td>2713.178295</td>\n      <td>2906.976744</td>\n      <td>4.0</td>\n    </tr>\n    <tr>\n      <th>Aracena</th>\n      <td>63.0</td>\n      <td>7.0</td>\n      <td>14.0</td>\n      <td>8107.0</td>\n      <td>86.345134</td>\n      <td>172.690268</td>\n      <td>3.0</td>\n    </tr>\n    <tr>\n      <th>Bollullos Par del Condado</th>\n      <td>116.0</td>\n      <td>8.0</td>\n      <td>22.0</td>\n      <td>14272.0</td>\n      <td>56.053812</td>\n      <td>154.147982</td>\n      <td>3.0</td>\n    </tr>\n    <tr>\n      <th>Moguer</th>\n      <td>58.0</td>\n      <td>4.0</td>\n      <td>13.0</td>\n      <td>22088.0</td>\n      <td>18.109381</td>\n      <td>58.855487</td>\n      <td>2.0</td>\n    </tr>\n    <tr>\n      <th>Aljaraque</th>\n      <td>87.0</td>\n      <td>9.0</td>\n      <td>15.0</td>\n      <td>21260.0</td>\n      <td>42.333020</td>\n      <td>70.555033</td>\n      <td>2.0</td>\n    </tr>\n    <tr>\n      <th>Gibraleón</th>\n      <td>45.0</td>\n      <td>9.0</td>\n      <td>17.0</td>\n      <td>12607.0</td>\n      <td>71.388911</td>\n      <td>134.845721</td>\n      <td>2.0</td>\n    </tr>\n    <tr>\n      <th>Villarrasa</th>\n      <td>29.0</td>\n      <td>6.0</td>\n      <td>19.0</td>\n      <td>2176.0</td>\n      <td>275.735294</td>\n      <td>873.161765</td>\n      <td>2.0</td>\n    </tr>\n    <tr>\n      <th>Paterna del Campo</th>\n      <td>18.0</td>\n      <td>5.0</td>\n      <td>6.0</td>\n      <td>3509.0</td>\n      <td>142.490738</td>\n      <td>170.988886</td>\n      <td>1.0</td>\n    </tr>\n    <tr>\n      <th>Rociana del Condado</th>\n      <td>12.0</td>\n      <td>2.0</td>\n      <td>3.0</td>\n      <td>7855.0</td>\n      <td>25.461489</td>\n      <td>38.192234</td>\n      <td>1.0</td>\n    </tr>\n    <tr>\n      <th>Escacena del Campo</th>\n      <td>19.0</td>\n      <td>1.0</td>\n      <td>4.0</td>\n      <td>2284.0</td>\n      <td>43.782837</td>\n      <td>175.131349</td>\n      <td>1.0</td>\n    </tr>\n    <tr>\n      <th>Valverde del Camino</th>\n      <td>33.0</td>\n      <td>4.0</td>\n      <td>5.0</td>\n      <td>12820.0</td>\n      <td>31.201248</td>\n      <td>39.001560</td>\n      <td>1.0</td>\n    </tr>\n    <tr>\n      <th>Marines (Los)</th>\n      <td>1.0</td>\n      <td>1.0</td>\n      <td>1.0</td>\n      <td>396.0</td>\n      <td>252.525253</td>\n      <td>252.525253</td>\n      <td>NaN</td>\n    </tr>\n    <tr>\n      <th>Punta Umbría</th>\n      <td>39.0</td>\n      <td>1.0</td>\n      <td>3.0</td>\n      <td>15242.0</td>\n      <td>6.560819</td>\n      <td>19.682456</td>\n      <td>NaN</td>\n    </tr>\n    <tr>\n      <th>Trigueros</th>\n      <td>39.0</td>\n      <td>1.0</td>\n      <td>2.0</td>\n      <td>7713.0</td>\n      <td>12.965124</td>\n      <td>25.930248</td>\n      <td>NaN</td>\n    </tr>\n    <tr>\n      <th>Villanueva de los Castillejos</th>\n      <td>20.0</td>\n      <td>2.0</td>\n      <td>13.0</td>\n      <td>2820.0</td>\n      <td>70.921986</td>\n      <td>460.992908</td>\n      <td>NaN</td>\n    </tr>\n  </tbody>\n</table>\n</div>"
     },
     "metadata": {},
     "execution_count": 15
    }
   ],
   "source": [
    "# Nuevos casos desde la última captura\n",
    "tabla[tabla['Diferencia PDIA'] != 0].sort_values('Diferencia PDIA', ascending=False)"
   ]
  },
  {
   "cell_type": "code",
   "execution_count": 16,
   "metadata": {},
   "outputs": [],
   "source": [
    "if tabla[tabla['Diferencia PDIA'] != 0]['Diferencia PDIA'].sum() > 0:\n",
    "  # Save to csv\n",
    "  tabla.to_csv('covid_huelva.csv', encoding='utf-8', header=True, index=True)  "
   ]
  },
  {
   "cell_type": "code",
   "execution_count": 17,
   "metadata": {},
   "outputs": [
    {
     "output_type": "execute_result",
     "data": {
      "text/plain": [
       "Medida                             Confirmados PDIA  Confirmados PDIA 7 días  \\\n",
       "Lugar de residencia                                                            \n",
       "Granado (El)                                   17.0                     14.0   \n",
       "Villarrasa                                     29.0                      6.0   \n",
       "Villanueva de los Castillejos                  20.0                      2.0   \n",
       "San Juan del Puerto                            74.0                      3.0   \n",
       "Cerro de Andévalo (El)                         14.0                      9.0   \n",
       "Palma del Condado (La)                        108.0                     17.0   \n",
       "Cortegana                                      22.0                      9.0   \n",
       "Marines (Los)                                   1.0                      1.0   \n",
       "Zalamea la Real                                28.0                      2.0   \n",
       "Lepe                                          169.0                     31.0   \n",
       "Escacena del Campo                             19.0                      1.0   \n",
       "Aracena                                        63.0                      7.0   \n",
       "Paterna del Campo                              18.0                      5.0   \n",
       "Higuera de la Sierra                            4.0                      1.0   \n",
       "Bollullos Par del Condado                     116.0                      8.0   \n",
       "Huelva (capital)                              583.0                    108.0   \n",
       "Gibraleón                                      45.0                      9.0   \n",
       "Condado-Campiña                               729.0                     71.0   \n",
       "Huelva                                       2185.0                    302.0   \n",
       "Huelva-Costa                                 1142.0                    190.0   \n",
       "Sierra de Huelva-Andévalo Central             282.0                     39.0   \n",
       "Almonte                                        76.0                     12.0   \n",
       "Encinasola                                      1.0                      1.0   \n",
       "Isla Cristina                                  84.0                      9.0   \n",
       "Cartaya                                        41.0                     10.0   \n",
       "Niebla                                          8.0                      1.0   \n",
       "Aljaraque                                      87.0                      9.0   \n",
       "Moguer                                         58.0                      4.0   \n",
       "Nerva                                          26.0                      2.0   \n",
       "Cumbres Mayores                                 3.0                      1.0   \n",
       "Almonaster la Real                              2.0                      1.0   \n",
       "San Bartolomé de la Torre                       5.0                      1.0   \n",
       "Minas de Riotinto                              20.0                      1.0   \n",
       "Manzanilla                                     20.0                      1.0   \n",
       "Valverde del Camino                            33.0                      4.0   \n",
       "Rociana del Condado                            12.0                      2.0   \n",
       "Ayamonte                                       57.0                      5.0   \n",
       "Trigueros                                      39.0                      1.0   \n",
       "Alosno                                          7.0                      1.0   \n",
       "Punta Umbría                                   39.0                      1.0   \n",
       "\n",
       "Medida                             Confirmados PDIA 14 días  Población  \\\n",
       "Lugar de residencia                                                      \n",
       "Granado (El)                                           15.0      516.0   \n",
       "Villarrasa                                             19.0     2176.0   \n",
       "Villanueva de los Castillejos                          13.0     2820.0   \n",
       "San Juan del Puerto                                    37.0     9300.0   \n",
       "Cerro de Andévalo (El)                                  9.0     2364.0   \n",
       "Palma del Condado (La)                                 33.0    10761.0   \n",
       "Cortegana                                              12.0     4666.0   \n",
       "Marines (Los)                                           1.0      396.0   \n",
       "Zalamea la Real                                         7.0     3068.0   \n",
       "Lepe                                                   53.0    27431.0   \n",
       "Escacena del Campo                                      4.0     2284.0   \n",
       "Aracena                                                14.0     8107.0   \n",
       "Paterna del Campo                                       6.0     3509.0   \n",
       "Higuera de la Sierra                                    2.0     1287.0   \n",
       "Bollullos Par del Condado                              22.0    14272.0   \n",
       "Huelva (capital)                                      204.0   143663.0   \n",
       "Gibraleón                                              17.0    12607.0   \n",
       "Condado-Campiña                                       191.0   155057.0   \n",
       "Huelva                                                615.0   510743.0   \n",
       "Huelva-Costa                                          346.0   288115.0   \n",
       "Sierra de Huelva-Andévalo Central                      69.0    67571.0   \n",
       "Almonte                                                21.0    24191.0   \n",
       "Encinasola                                              1.0     1305.0   \n",
       "Isla Cristina                                          16.0    21264.0   \n",
       "Cartaya                                                15.0    19974.0   \n",
       "Niebla                                                  3.0     4117.0   \n",
       "Aljaraque                                              15.0    21260.0   \n",
       "Moguer                                                 13.0    22088.0   \n",
       "Nerva                                                   3.0     5235.0   \n",
       "Cumbres Mayores                                         1.0     1755.0   \n",
       "Almonaster la Real                                      1.0     1819.0   \n",
       "San Bartolomé de la Torre                               2.0     3736.0   \n",
       "Minas de Riotinto                                       2.0     3848.0   \n",
       "Manzanilla                                              1.0     2135.0   \n",
       "Valverde del Camino                                     5.0    12820.0   \n",
       "Rociana del Condado                                     3.0     7855.0   \n",
       "Ayamonte                                                6.0    20946.0   \n",
       "Trigueros                                               2.0     7713.0   \n",
       "Alosno                                                  1.0     3923.0   \n",
       "Punta Umbría                                            3.0    15242.0   \n",
       "\n",
       "Medida                                   tasa7       tasa14  Diferencia PDIA  \n",
       "Lugar de residencia                                                           \n",
       "Granado (El)                       2713.178295  2906.976744              4.0  \n",
       "Villarrasa                          275.735294   873.161765              2.0  \n",
       "Villanueva de los Castillejos        70.921986   460.992908              NaN  \n",
       "San Juan del Puerto                  32.258065   397.849462              0.0  \n",
       "Cerro de Andévalo (El)              380.710660   380.710660              6.0  \n",
       "Palma del Condado (La)              157.977883   306.662950              4.0  \n",
       "Cortegana                           192.884698   257.179597              0.0  \n",
       "Marines (Los)                       252.525253   252.525253              NaN  \n",
       "Zalamea la Real                      65.189048   228.161669              0.0  \n",
       "Lepe                                113.010827   193.212059             12.0  \n",
       "Escacena del Campo                   43.782837   175.131349              1.0  \n",
       "Aracena                              86.345134   172.690268              3.0  \n",
       "Paterna del Campo                   142.490738   170.988886              1.0  \n",
       "Higuera de la Sierra                 77.700078   155.400155              0.0  \n",
       "Bollullos Par del Condado            56.053812   154.147982              3.0  \n",
       "Huelva (capital)                     75.175933   141.998984             21.0  \n",
       "Gibraleón                            71.388911   134.845721              2.0  \n",
       "Condado-Campiña                      45.789613   123.180508             24.0  \n",
       "Huelva                               59.129543   120.412810             90.0  \n",
       "Huelva-Costa                         65.945890   120.090936             57.0  \n",
       "Sierra de Huelva-Andévalo Central    57.717068   102.114813             11.0  \n",
       "Almonte                              49.605225    86.809144              7.0  \n",
       "Encinasola                           76.628352    76.628352              0.0  \n",
       "Isla Cristina                        42.325056    75.244545              5.0  \n",
       "Cartaya                              50.065085    75.097627              6.0  \n",
       "Niebla                               24.289531    72.868594              0.0  \n",
       "Aljaraque                            42.333020    70.555033              2.0  \n",
       "Moguer                               18.109381    58.855487              2.0  \n",
       "Nerva                                38.204394    57.306590              0.0  \n",
       "Cumbres Mayores                      56.980057    56.980057              0.0  \n",
       "Almonaster la Real                   54.975261    54.975261              0.0  \n",
       "San Bartolomé de la Torre            26.766595    53.533191              0.0  \n",
       "Minas de Riotinto                    25.987526    51.975052              0.0  \n",
       "Manzanilla                           46.838407    46.838407              0.0  \n",
       "Valverde del Camino                  31.201248    39.001560              1.0  \n",
       "Rociana del Condado                  25.461489    38.192234              1.0  \n",
       "Ayamonte                             23.870906    28.645087              4.0  \n",
       "Trigueros                            12.965124    25.930248              NaN  \n",
       "Alosno                               25.490696    25.490696              0.0  \n",
       "Punta Umbría                          6.560819    19.682456              NaN  "
      ],
      "text/html": "<div>\n<style scoped>\n    .dataframe tbody tr th:only-of-type {\n        vertical-align: middle;\n    }\n\n    .dataframe tbody tr th {\n        vertical-align: top;\n    }\n\n    .dataframe thead th {\n        text-align: right;\n    }\n</style>\n<table border=\"1\" class=\"dataframe\">\n  <thead>\n    <tr style=\"text-align: right;\">\n      <th>Medida</th>\n      <th>Confirmados PDIA</th>\n      <th>Confirmados PDIA 7 días</th>\n      <th>Confirmados PDIA 14 días</th>\n      <th>Población</th>\n      <th>tasa7</th>\n      <th>tasa14</th>\n      <th>Diferencia PDIA</th>\n    </tr>\n    <tr>\n      <th>Lugar de residencia</th>\n      <th></th>\n      <th></th>\n      <th></th>\n      <th></th>\n      <th></th>\n      <th></th>\n      <th></th>\n    </tr>\n  </thead>\n  <tbody>\n    <tr>\n      <th>Granado (El)</th>\n      <td>17.0</td>\n      <td>14.0</td>\n      <td>15.0</td>\n      <td>516.0</td>\n      <td>2713.178295</td>\n      <td>2906.976744</td>\n      <td>4.0</td>\n    </tr>\n    <tr>\n      <th>Villarrasa</th>\n      <td>29.0</td>\n      <td>6.0</td>\n      <td>19.0</td>\n      <td>2176.0</td>\n      <td>275.735294</td>\n      <td>873.161765</td>\n      <td>2.0</td>\n    </tr>\n    <tr>\n      <th>Villanueva de los Castillejos</th>\n      <td>20.0</td>\n      <td>2.0</td>\n      <td>13.0</td>\n      <td>2820.0</td>\n      <td>70.921986</td>\n      <td>460.992908</td>\n      <td>NaN</td>\n    </tr>\n    <tr>\n      <th>San Juan del Puerto</th>\n      <td>74.0</td>\n      <td>3.0</td>\n      <td>37.0</td>\n      <td>9300.0</td>\n      <td>32.258065</td>\n      <td>397.849462</td>\n      <td>0.0</td>\n    </tr>\n    <tr>\n      <th>Cerro de Andévalo (El)</th>\n      <td>14.0</td>\n      <td>9.0</td>\n      <td>9.0</td>\n      <td>2364.0</td>\n      <td>380.710660</td>\n      <td>380.710660</td>\n      <td>6.0</td>\n    </tr>\n    <tr>\n      <th>Palma del Condado (La)</th>\n      <td>108.0</td>\n      <td>17.0</td>\n      <td>33.0</td>\n      <td>10761.0</td>\n      <td>157.977883</td>\n      <td>306.662950</td>\n      <td>4.0</td>\n    </tr>\n    <tr>\n      <th>Cortegana</th>\n      <td>22.0</td>\n      <td>9.0</td>\n      <td>12.0</td>\n      <td>4666.0</td>\n      <td>192.884698</td>\n      <td>257.179597</td>\n      <td>0.0</td>\n    </tr>\n    <tr>\n      <th>Marines (Los)</th>\n      <td>1.0</td>\n      <td>1.0</td>\n      <td>1.0</td>\n      <td>396.0</td>\n      <td>252.525253</td>\n      <td>252.525253</td>\n      <td>NaN</td>\n    </tr>\n    <tr>\n      <th>Zalamea la Real</th>\n      <td>28.0</td>\n      <td>2.0</td>\n      <td>7.0</td>\n      <td>3068.0</td>\n      <td>65.189048</td>\n      <td>228.161669</td>\n      <td>0.0</td>\n    </tr>\n    <tr>\n      <th>Lepe</th>\n      <td>169.0</td>\n      <td>31.0</td>\n      <td>53.0</td>\n      <td>27431.0</td>\n      <td>113.010827</td>\n      <td>193.212059</td>\n      <td>12.0</td>\n    </tr>\n    <tr>\n      <th>Escacena del Campo</th>\n      <td>19.0</td>\n      <td>1.0</td>\n      <td>4.0</td>\n      <td>2284.0</td>\n      <td>43.782837</td>\n      <td>175.131349</td>\n      <td>1.0</td>\n    </tr>\n    <tr>\n      <th>Aracena</th>\n      <td>63.0</td>\n      <td>7.0</td>\n      <td>14.0</td>\n      <td>8107.0</td>\n      <td>86.345134</td>\n      <td>172.690268</td>\n      <td>3.0</td>\n    </tr>\n    <tr>\n      <th>Paterna del Campo</th>\n      <td>18.0</td>\n      <td>5.0</td>\n      <td>6.0</td>\n      <td>3509.0</td>\n      <td>142.490738</td>\n      <td>170.988886</td>\n      <td>1.0</td>\n    </tr>\n    <tr>\n      <th>Higuera de la Sierra</th>\n      <td>4.0</td>\n      <td>1.0</td>\n      <td>2.0</td>\n      <td>1287.0</td>\n      <td>77.700078</td>\n      <td>155.400155</td>\n      <td>0.0</td>\n    </tr>\n    <tr>\n      <th>Bollullos Par del Condado</th>\n      <td>116.0</td>\n      <td>8.0</td>\n      <td>22.0</td>\n      <td>14272.0</td>\n      <td>56.053812</td>\n      <td>154.147982</td>\n      <td>3.0</td>\n    </tr>\n    <tr>\n      <th>Huelva (capital)</th>\n      <td>583.0</td>\n      <td>108.0</td>\n      <td>204.0</td>\n      <td>143663.0</td>\n      <td>75.175933</td>\n      <td>141.998984</td>\n      <td>21.0</td>\n    </tr>\n    <tr>\n      <th>Gibraleón</th>\n      <td>45.0</td>\n      <td>9.0</td>\n      <td>17.0</td>\n      <td>12607.0</td>\n      <td>71.388911</td>\n      <td>134.845721</td>\n      <td>2.0</td>\n    </tr>\n    <tr>\n      <th>Condado-Campiña</th>\n      <td>729.0</td>\n      <td>71.0</td>\n      <td>191.0</td>\n      <td>155057.0</td>\n      <td>45.789613</td>\n      <td>123.180508</td>\n      <td>24.0</td>\n    </tr>\n    <tr>\n      <th>Huelva</th>\n      <td>2185.0</td>\n      <td>302.0</td>\n      <td>615.0</td>\n      <td>510743.0</td>\n      <td>59.129543</td>\n      <td>120.412810</td>\n      <td>90.0</td>\n    </tr>\n    <tr>\n      <th>Huelva-Costa</th>\n      <td>1142.0</td>\n      <td>190.0</td>\n      <td>346.0</td>\n      <td>288115.0</td>\n      <td>65.945890</td>\n      <td>120.090936</td>\n      <td>57.0</td>\n    </tr>\n    <tr>\n      <th>Sierra de Huelva-Andévalo Central</th>\n      <td>282.0</td>\n      <td>39.0</td>\n      <td>69.0</td>\n      <td>67571.0</td>\n      <td>57.717068</td>\n      <td>102.114813</td>\n      <td>11.0</td>\n    </tr>\n    <tr>\n      <th>Almonte</th>\n      <td>76.0</td>\n      <td>12.0</td>\n      <td>21.0</td>\n      <td>24191.0</td>\n      <td>49.605225</td>\n      <td>86.809144</td>\n      <td>7.0</td>\n    </tr>\n    <tr>\n      <th>Encinasola</th>\n      <td>1.0</td>\n      <td>1.0</td>\n      <td>1.0</td>\n      <td>1305.0</td>\n      <td>76.628352</td>\n      <td>76.628352</td>\n      <td>0.0</td>\n    </tr>\n    <tr>\n      <th>Isla Cristina</th>\n      <td>84.0</td>\n      <td>9.0</td>\n      <td>16.0</td>\n      <td>21264.0</td>\n      <td>42.325056</td>\n      <td>75.244545</td>\n      <td>5.0</td>\n    </tr>\n    <tr>\n      <th>Cartaya</th>\n      <td>41.0</td>\n      <td>10.0</td>\n      <td>15.0</td>\n      <td>19974.0</td>\n      <td>50.065085</td>\n      <td>75.097627</td>\n      <td>6.0</td>\n    </tr>\n    <tr>\n      <th>Niebla</th>\n      <td>8.0</td>\n      <td>1.0</td>\n      <td>3.0</td>\n      <td>4117.0</td>\n      <td>24.289531</td>\n      <td>72.868594</td>\n      <td>0.0</td>\n    </tr>\n    <tr>\n      <th>Aljaraque</th>\n      <td>87.0</td>\n      <td>9.0</td>\n      <td>15.0</td>\n      <td>21260.0</td>\n      <td>42.333020</td>\n      <td>70.555033</td>\n      <td>2.0</td>\n    </tr>\n    <tr>\n      <th>Moguer</th>\n      <td>58.0</td>\n      <td>4.0</td>\n      <td>13.0</td>\n      <td>22088.0</td>\n      <td>18.109381</td>\n      <td>58.855487</td>\n      <td>2.0</td>\n    </tr>\n    <tr>\n      <th>Nerva</th>\n      <td>26.0</td>\n      <td>2.0</td>\n      <td>3.0</td>\n      <td>5235.0</td>\n      <td>38.204394</td>\n      <td>57.306590</td>\n      <td>0.0</td>\n    </tr>\n    <tr>\n      <th>Cumbres Mayores</th>\n      <td>3.0</td>\n      <td>1.0</td>\n      <td>1.0</td>\n      <td>1755.0</td>\n      <td>56.980057</td>\n      <td>56.980057</td>\n      <td>0.0</td>\n    </tr>\n    <tr>\n      <th>Almonaster la Real</th>\n      <td>2.0</td>\n      <td>1.0</td>\n      <td>1.0</td>\n      <td>1819.0</td>\n      <td>54.975261</td>\n      <td>54.975261</td>\n      <td>0.0</td>\n    </tr>\n    <tr>\n      <th>San Bartolomé de la Torre</th>\n      <td>5.0</td>\n      <td>1.0</td>\n      <td>2.0</td>\n      <td>3736.0</td>\n      <td>26.766595</td>\n      <td>53.533191</td>\n      <td>0.0</td>\n    </tr>\n    <tr>\n      <th>Minas de Riotinto</th>\n      <td>20.0</td>\n      <td>1.0</td>\n      <td>2.0</td>\n      <td>3848.0</td>\n      <td>25.987526</td>\n      <td>51.975052</td>\n      <td>0.0</td>\n    </tr>\n    <tr>\n      <th>Manzanilla</th>\n      <td>20.0</td>\n      <td>1.0</td>\n      <td>1.0</td>\n      <td>2135.0</td>\n      <td>46.838407</td>\n      <td>46.838407</td>\n      <td>0.0</td>\n    </tr>\n    <tr>\n      <th>Valverde del Camino</th>\n      <td>33.0</td>\n      <td>4.0</td>\n      <td>5.0</td>\n      <td>12820.0</td>\n      <td>31.201248</td>\n      <td>39.001560</td>\n      <td>1.0</td>\n    </tr>\n    <tr>\n      <th>Rociana del Condado</th>\n      <td>12.0</td>\n      <td>2.0</td>\n      <td>3.0</td>\n      <td>7855.0</td>\n      <td>25.461489</td>\n      <td>38.192234</td>\n      <td>1.0</td>\n    </tr>\n    <tr>\n      <th>Ayamonte</th>\n      <td>57.0</td>\n      <td>5.0</td>\n      <td>6.0</td>\n      <td>20946.0</td>\n      <td>23.870906</td>\n      <td>28.645087</td>\n      <td>4.0</td>\n    </tr>\n    <tr>\n      <th>Trigueros</th>\n      <td>39.0</td>\n      <td>1.0</td>\n      <td>2.0</td>\n      <td>7713.0</td>\n      <td>12.965124</td>\n      <td>25.930248</td>\n      <td>NaN</td>\n    </tr>\n    <tr>\n      <th>Alosno</th>\n      <td>7.0</td>\n      <td>1.0</td>\n      <td>1.0</td>\n      <td>3923.0</td>\n      <td>25.490696</td>\n      <td>25.490696</td>\n      <td>0.0</td>\n    </tr>\n    <tr>\n      <th>Punta Umbría</th>\n      <td>39.0</td>\n      <td>1.0</td>\n      <td>3.0</td>\n      <td>15242.0</td>\n      <td>6.560819</td>\n      <td>19.682456</td>\n      <td>NaN</td>\n    </tr>\n  </tbody>\n</table>\n</div>"
     },
     "metadata": {},
     "execution_count": 17
    }
   ],
   "source": [
    "tabla.sort_values('tasa14', ascending=False)"
   ]
  },
  {
   "cell_type": "code",
   "execution_count": null,
   "metadata": {},
   "outputs": [],
   "source": []
  }
 ]
}