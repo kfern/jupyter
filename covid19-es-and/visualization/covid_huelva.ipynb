{
 "metadata": {
  "language_info": {
   "codemirror_mode": {
    "name": "ipython",
    "version": 3
   },
   "file_extension": ".py",
   "mimetype": "text/x-python",
   "name": "python",
   "nbconvert_exporter": "python",
   "pygments_lexer": "ipython3",
   "version": "3.8.6-final"
  },
  "orig_nbformat": 2,
  "kernelspec": {
   "name": "python38564bit75945252d6ba481bad4868286020c89e",
   "display_name": "Python 3.8.5 64-bit",
   "language": "python"
  }
 },
 "nbformat": 4,
 "nbformat_minor": 2,
 "cells": [
  {
   "cell_type": "code",
   "execution_count": 1,
   "metadata": {},
   "outputs": [],
   "source": [
    "import pandas as pd\n",
    "pd.set_option('display.max_rows', None) # Print all rows"
   ]
  },
  {
   "cell_type": "code",
   "execution_count": 2,
   "metadata": {},
   "outputs": [],
   "source": [
    "# FIX SSL: CERTIFICATE_VERIFY_FAILED with Python3\n",
    "# https://stackoverflow.com/a/49174340\n",
    "import ssl\n",
    "\n",
    "ssl._create_default_https_context = ssl._create_unverified_context"
   ]
  },
  {
   "cell_type": "code",
   "execution_count": 3,
   "metadata": {},
   "outputs": [],
   "source": [
    "url = 'https://www.juntadeandalucia.es/institutodeestadisticaycartografia/badea/stpivot/stpivot/Print?cube=013d884c-cfc5-4c21-9e78-e26225682afd&type=3&foto=si&ejecutaDesde=&codConsulta=38668&consTipoVisua=JP'\n",
    "fields = ['Lugar de residencia', 'Medida', 'Valor']\n",
    "df = pd.read_csv(url, delimiter=';', usecols=fields, decimal=',')"
   ]
  },
  {
   "cell_type": "code",
   "execution_count": 4,
   "metadata": {},
   "outputs": [
    {
     "output_type": "execute_result",
     "data": {
      "text/plain": [
       "  Lugar de residencia                    Medida              Valor\n",
       "0              Huelva                 Población             513170\n",
       "1              Huelva          Confirmados PDIA              24522\n",
       "2              Huelva  Confirmados PDIA 14 días                413\n",
       "3              Huelva         Tasa PDIA 14 días  80,48015277588324\n",
       "4              Huelva   Confirmados PDIA 7 días                126\n",
       "5              Huelva        Total Confirmados               24744\n",
       "6              Huelva                   Curados              15994\n",
       "7              Huelva                Fallecidos                295"
      ],
      "text/html": "<div>\n<style scoped>\n    .dataframe tbody tr th:only-of-type {\n        vertical-align: middle;\n    }\n\n    .dataframe tbody tr th {\n        vertical-align: top;\n    }\n\n    .dataframe thead th {\n        text-align: right;\n    }\n</style>\n<table border=\"1\" class=\"dataframe\">\n  <thead>\n    <tr style=\"text-align: right;\">\n      <th></th>\n      <th>Lugar de residencia</th>\n      <th>Medida</th>\n      <th>Valor</th>\n    </tr>\n  </thead>\n  <tbody>\n    <tr>\n      <th>0</th>\n      <td>Huelva</td>\n      <td>Población</td>\n      <td>513170</td>\n    </tr>\n    <tr>\n      <th>1</th>\n      <td>Huelva</td>\n      <td>Confirmados PDIA</td>\n      <td>24522</td>\n    </tr>\n    <tr>\n      <th>2</th>\n      <td>Huelva</td>\n      <td>Confirmados PDIA 14 días</td>\n      <td>413</td>\n    </tr>\n    <tr>\n      <th>3</th>\n      <td>Huelva</td>\n      <td>Tasa PDIA 14 días</td>\n      <td>80,48015277588324</td>\n    </tr>\n    <tr>\n      <th>4</th>\n      <td>Huelva</td>\n      <td>Confirmados PDIA 7 días</td>\n      <td>126</td>\n    </tr>\n    <tr>\n      <th>5</th>\n      <td>Huelva</td>\n      <td>Total Confirmados</td>\n      <td>24744</td>\n    </tr>\n    <tr>\n      <th>6</th>\n      <td>Huelva</td>\n      <td>Curados</td>\n      <td>15994</td>\n    </tr>\n    <tr>\n      <th>7</th>\n      <td>Huelva</td>\n      <td>Fallecidos</td>\n      <td>295</td>\n    </tr>\n  </tbody>\n</table>\n</div>"
     },
     "metadata": {},
     "execution_count": 4
    }
   ],
   "source": [
    "df[df['Lugar de residencia'] == 'Huelva']"
   ]
  },
  {
   "cell_type": "code",
   "execution_count": 5,
   "metadata": {},
   "outputs": [],
   "source": [
    "df['Valor'] = pd.to_numeric(df['Valor'],errors='coerce')"
   ]
  },
  {
   "cell_type": "code",
   "execution_count": 6,
   "metadata": {},
   "outputs": [],
   "source": [
    "dfAnterior = pd.read_csv('covid_huelva.csv', index_col='Lugar de residencia')"
   ]
  },
  {
   "cell_type": "code",
   "execution_count": 7,
   "metadata": {
    "tags": []
   },
   "outputs": [
    {
     "output_type": "stream",
     "name": "stdout",
     "text": [
      "Confirmados PCR en la provincia de Huelva:  24522.0\n"
     ]
    }
   ],
   "source": [
    "# Confirmados PCR provincia Huelva\n",
    "p = df[df['Lugar de residencia'] == 'Huelva'][df['Medida'] == 'Confirmados PDIA']['Valor'].values[0]\n",
    "print('Confirmados PCR en la provincia de Huelva: ', p)"
   ]
  },
  {
   "cell_type": "code",
   "execution_count": 8,
   "metadata": {
    "tags": []
   },
   "outputs": [
    {
     "output_type": "stream",
     "name": "stdout",
     "text": [
      "Confirmados PCR en Huelva capital:  6543.0\n"
     ]
    }
   ],
   "source": [
    "# Confirmados PCR Huelva capitalpd\n",
    "c = df[df['Lugar de residencia'] == 'Huelva (capital)'][df['Medida'] == 'Confirmados PDIA']['Valor'].values[0]\n",
    "print('Confirmados PCR en Huelva capital: ', c)"
   ]
  },
  {
   "cell_type": "code",
   "execution_count": 9,
   "metadata": {
    "tags": []
   },
   "outputs": [],
   "source": [
    "c7 = df[df['Lugar de residencia'] == 'Huelva (capital)'][df['Medida'] == 'Confirmados PDIA 7 días']['Valor'].values[0]\n",
    "c14 = df[df['Lugar de residencia'] == 'Huelva (capital)'][df['Medida'] == 'Confirmados PDIA 14 días']['Valor'].values[0]\n",
    "p = df[df['Lugar de residencia'] == 'Huelva (capital)'][df['Medida'] == 'Población']['Valor'].values[0]"
   ]
  },
  {
   "cell_type": "code",
   "execution_count": 10,
   "metadata": {
    "tags": []
   },
   "outputs": [
    {
     "output_type": "stream",
     "name": "stdout",
     "text": [
      "Huelva (capital)\n\nUn positivo PCR cada 5532 personas en los últimos 7 días \n\nUn positivo PCR cada 1370 personas en los últimos 14 días\n"
     ]
    }
   ],
   "source": [
    "print('Huelva (capital)\\n')\n",
    "#print('Confirmados PCR 7 días x 1,000 habitantes: ', f\"{c7/(p/1000):.5f}\")\n",
    "print('Un positivo PCR cada', f\"{p/c7:.0f}\", 'personas en los últimos 7 días', '\\n')\n",
    "#print('Confirmados PCR 14 días x 1,000 habitantes: ', f\"{c14/(p/1000):.5f}\")\n",
    "print('Un positivo PCR cada', f\"{p/c14:.0f}\", 'personas en los últimos 14 días')"
   ]
  },
  {
   "cell_type": "code",
   "execution_count": 11,
   "metadata": {},
   "outputs": [],
   "source": [
    "filtro = ((df['Medida'] == 'Confirmados PDIA')| (df['Medida'] == 'Confirmados PDIA 7 días') | (df['Medida'] == 'Población' ) | (df['Medida'] == 'Confirmados PDIA 14 días')) & (df['Valor'] > 0)\n",
    "tabla = pd.pivot_table(df.loc[filtro], values='Valor', index='Lugar de residencia', columns='Medida').dropna()"
   ]
  },
  {
   "cell_type": "code",
   "execution_count": 12,
   "metadata": {},
   "outputs": [],
   "source": [
    "# Reorder columns\n",
    "tabla = tabla[['Confirmados PDIA', 'Confirmados PDIA 7 días', 'Confirmados PDIA 14 días', 'Población']]"
   ]
  },
  {
   "cell_type": "code",
   "execution_count": 13,
   "metadata": {},
   "outputs": [],
   "source": [
    "tabla['tasa7'] = tabla['Confirmados PDIA 7 días']/tabla['Población']*100000\n",
    "tabla['tasa14'] = tabla['Confirmados PDIA 14 días']/tabla['Población']*100000"
   ]
  },
  {
   "cell_type": "code",
   "execution_count": 14,
   "metadata": {},
   "outputs": [],
   "source": [
    "tabla['Diferencia PDIA'] = tabla['Confirmados PDIA'] - dfAnterior['Confirmados PDIA']"
   ]
  },
  {
   "cell_type": "code",
   "execution_count": 15,
   "metadata": {},
   "outputs": [
    {
     "output_type": "execute_result",
     "data": {
      "text/plain": [
       "Medida                     Confirmados PDIA  Confirmados PDIA 7 días  \\\n",
       "Lugar de residencia                                                    \n",
       "Huelva                              24522.0                    126.0   \n",
       "Huelva-Costa                        14962.0                     74.0   \n",
       "Condado-Campiña                      6838.0                     49.0   \n",
       "Huelva (capital)                     6543.0                     26.0   \n",
       "Almonte                               853.0                     18.0   \n",
       "Cartaya                               937.0                     14.0   \n",
       "Isla Cristina                        1982.0                      6.0   \n",
       "Lepe                                 1989.0                      9.0   \n",
       "Palos de la Frontera                  448.0                      2.0   \n",
       "Ayamonte                             1186.0                      3.0   \n",
       "Aljaraque                             923.0                      5.0   \n",
       "Moguer                                821.0                      4.0   \n",
       "Palma del Condado (La)                970.0                      7.0   \n",
       "Punta Umbría                          657.0                      3.0   \n",
       "San Bartolomé de la Torre             193.0                      2.0   \n",
       "Trigueros                             228.0                      1.0   \n",
       "\n",
       "Medida                     Confirmados PDIA 14 días  Población      tasa7  \\\n",
       "Lugar de residencia                                                         \n",
       "Huelva                                        413.0   513170.0  24.553267   \n",
       "Huelva-Costa                                  243.0   289548.0  25.557075   \n",
       "Condado-Campiña                               153.0   156231.0  31.363814   \n",
       "Huelva (capital)                              105.0   143837.0  18.076017   \n",
       "Almonte                                        39.0    24507.0  73.448402   \n",
       "Cartaya                                        36.0    20083.0  69.710701   \n",
       "Isla Cristina                                  11.0    21393.0  28.046557   \n",
       "Lepe                                           33.0    27880.0  32.281205   \n",
       "Palos de la Frontera                           12.0    11742.0  17.032873   \n",
       "Ayamonte                                       14.0    21104.0  14.215315   \n",
       "Aljaraque                                       9.0    21474.0  23.283971   \n",
       "Moguer                                         26.0    21867.0  18.292404   \n",
       "Palma del Condado (La)                         11.0    10801.0  64.808814   \n",
       "Punta Umbría                                   14.0    15355.0  19.537610   \n",
       "San Bartolomé de la Torre                       3.0     3761.0  53.177346   \n",
       "Trigueros                                       6.0     7862.0  12.719410   \n",
       "\n",
       "Medida                         tasa14  Diferencia PDIA  \n",
       "Lugar de residencia                                     \n",
       "Huelva                      80.480153             35.0  \n",
       "Huelva-Costa                83.923909             22.0  \n",
       "Condado-Campiña             97.931909             13.0  \n",
       "Huelva (capital)            72.999298              8.0  \n",
       "Almonte                    159.138205              5.0  \n",
       "Cartaya                    179.256087              3.0  \n",
       "Isla Cristina               51.418688              3.0  \n",
       "Lepe                       118.364419              3.0  \n",
       "Palos de la Frontera       102.197241              3.0  \n",
       "Ayamonte                    66.338135              2.0  \n",
       "Aljaraque                   41.911148              1.0  \n",
       "Moguer                     118.900627              1.0  \n",
       "Palma del Condado (La)     101.842422              1.0  \n",
       "Punta Umbría                91.175513              1.0  \n",
       "San Bartolomé de la Torre   79.766020              NaN  \n",
       "Trigueros                   76.316459              NaN  "
      ],
      "text/html": "<div>\n<style scoped>\n    .dataframe tbody tr th:only-of-type {\n        vertical-align: middle;\n    }\n\n    .dataframe tbody tr th {\n        vertical-align: top;\n    }\n\n    .dataframe thead th {\n        text-align: right;\n    }\n</style>\n<table border=\"1\" class=\"dataframe\">\n  <thead>\n    <tr style=\"text-align: right;\">\n      <th>Medida</th>\n      <th>Confirmados PDIA</th>\n      <th>Confirmados PDIA 7 días</th>\n      <th>Confirmados PDIA 14 días</th>\n      <th>Población</th>\n      <th>tasa7</th>\n      <th>tasa14</th>\n      <th>Diferencia PDIA</th>\n    </tr>\n    <tr>\n      <th>Lugar de residencia</th>\n      <th></th>\n      <th></th>\n      <th></th>\n      <th></th>\n      <th></th>\n      <th></th>\n      <th></th>\n    </tr>\n  </thead>\n  <tbody>\n    <tr>\n      <th>Huelva</th>\n      <td>24522.0</td>\n      <td>126.0</td>\n      <td>413.0</td>\n      <td>513170.0</td>\n      <td>24.553267</td>\n      <td>80.480153</td>\n      <td>35.0</td>\n    </tr>\n    <tr>\n      <th>Huelva-Costa</th>\n      <td>14962.0</td>\n      <td>74.0</td>\n      <td>243.0</td>\n      <td>289548.0</td>\n      <td>25.557075</td>\n      <td>83.923909</td>\n      <td>22.0</td>\n    </tr>\n    <tr>\n      <th>Condado-Campiña</th>\n      <td>6838.0</td>\n      <td>49.0</td>\n      <td>153.0</td>\n      <td>156231.0</td>\n      <td>31.363814</td>\n      <td>97.931909</td>\n      <td>13.0</td>\n    </tr>\n    <tr>\n      <th>Huelva (capital)</th>\n      <td>6543.0</td>\n      <td>26.0</td>\n      <td>105.0</td>\n      <td>143837.0</td>\n      <td>18.076017</td>\n      <td>72.999298</td>\n      <td>8.0</td>\n    </tr>\n    <tr>\n      <th>Almonte</th>\n      <td>853.0</td>\n      <td>18.0</td>\n      <td>39.0</td>\n      <td>24507.0</td>\n      <td>73.448402</td>\n      <td>159.138205</td>\n      <td>5.0</td>\n    </tr>\n    <tr>\n      <th>Cartaya</th>\n      <td>937.0</td>\n      <td>14.0</td>\n      <td>36.0</td>\n      <td>20083.0</td>\n      <td>69.710701</td>\n      <td>179.256087</td>\n      <td>3.0</td>\n    </tr>\n    <tr>\n      <th>Isla Cristina</th>\n      <td>1982.0</td>\n      <td>6.0</td>\n      <td>11.0</td>\n      <td>21393.0</td>\n      <td>28.046557</td>\n      <td>51.418688</td>\n      <td>3.0</td>\n    </tr>\n    <tr>\n      <th>Lepe</th>\n      <td>1989.0</td>\n      <td>9.0</td>\n      <td>33.0</td>\n      <td>27880.0</td>\n      <td>32.281205</td>\n      <td>118.364419</td>\n      <td>3.0</td>\n    </tr>\n    <tr>\n      <th>Palos de la Frontera</th>\n      <td>448.0</td>\n      <td>2.0</td>\n      <td>12.0</td>\n      <td>11742.0</td>\n      <td>17.032873</td>\n      <td>102.197241</td>\n      <td>3.0</td>\n    </tr>\n    <tr>\n      <th>Ayamonte</th>\n      <td>1186.0</td>\n      <td>3.0</td>\n      <td>14.0</td>\n      <td>21104.0</td>\n      <td>14.215315</td>\n      <td>66.338135</td>\n      <td>2.0</td>\n    </tr>\n    <tr>\n      <th>Aljaraque</th>\n      <td>923.0</td>\n      <td>5.0</td>\n      <td>9.0</td>\n      <td>21474.0</td>\n      <td>23.283971</td>\n      <td>41.911148</td>\n      <td>1.0</td>\n    </tr>\n    <tr>\n      <th>Moguer</th>\n      <td>821.0</td>\n      <td>4.0</td>\n      <td>26.0</td>\n      <td>21867.0</td>\n      <td>18.292404</td>\n      <td>118.900627</td>\n      <td>1.0</td>\n    </tr>\n    <tr>\n      <th>Palma del Condado (La)</th>\n      <td>970.0</td>\n      <td>7.0</td>\n      <td>11.0</td>\n      <td>10801.0</td>\n      <td>64.808814</td>\n      <td>101.842422</td>\n      <td>1.0</td>\n    </tr>\n    <tr>\n      <th>Punta Umbría</th>\n      <td>657.0</td>\n      <td>3.0</td>\n      <td>14.0</td>\n      <td>15355.0</td>\n      <td>19.537610</td>\n      <td>91.175513</td>\n      <td>1.0</td>\n    </tr>\n    <tr>\n      <th>San Bartolomé de la Torre</th>\n      <td>193.0</td>\n      <td>2.0</td>\n      <td>3.0</td>\n      <td>3761.0</td>\n      <td>53.177346</td>\n      <td>79.766020</td>\n      <td>NaN</td>\n    </tr>\n    <tr>\n      <th>Trigueros</th>\n      <td>228.0</td>\n      <td>1.0</td>\n      <td>6.0</td>\n      <td>7862.0</td>\n      <td>12.719410</td>\n      <td>76.316459</td>\n      <td>NaN</td>\n    </tr>\n  </tbody>\n</table>\n</div>"
     },
     "metadata": {},
     "execution_count": 15
    }
   ],
   "source": [
    "# Nuevos casos desde la última captura\n",
    "tabla[tabla['Diferencia PDIA'] != 0].sort_values('Diferencia PDIA', ascending=False)"
   ]
  },
  {
   "cell_type": "code",
   "execution_count": 16,
   "metadata": {},
   "outputs": [],
   "source": [
    "if tabla[tabla['Diferencia PDIA'] != 0]['Diferencia PDIA'].sum() != 0:\n",
    "  # Save to csv\n",
    "  tabla.to_csv('covid_huelva.csv', encoding='utf-8', header=True, index=True)  "
   ]
  },
  {
   "cell_type": "code",
   "execution_count": 17,
   "metadata": {},
   "outputs": [
    {
     "output_type": "execute_result",
     "data": {
      "text/plain": [
       "Medida                             Confirmados PDIA  Confirmados PDIA 7 días  \\\n",
       "Lugar de residencia                                                            \n",
       "Villablanca                                   174.0                      2.0   \n",
       "Villanueva de los Castillejos                 150.0                      2.0   \n",
       "Cartaya                                       937.0                     14.0   \n",
       "Rosal de la Frontera                           25.0                      2.0   \n",
       "Bollullos Par del Condado                     606.0                      7.0   \n",
       "Almonte                                       853.0                     18.0   \n",
       "Villalba del Alcor                            443.0                      3.0   \n",
       "Cabezas Rubias                                 29.0                      1.0   \n",
       "Moguer                                        821.0                      4.0   \n",
       "Lepe                                         1989.0                      9.0   \n",
       "Rociana del Condado                           309.0                      1.0   \n",
       "Palos de la Frontera                          448.0                      2.0   \n",
       "Palma del Condado (La)                        970.0                      7.0   \n",
       "Condado-Campiña                              6838.0                     49.0   \n",
       "Punta Umbría                                  657.0                      3.0   \n",
       "Huelva-Costa                                14962.0                     74.0   \n",
       "Huelva                                      24522.0                    126.0   \n",
       "San Bartolomé de la Torre                     193.0                      2.0   \n",
       "Trigueros                                     228.0                      1.0   \n",
       "Huelva (capital)                             6543.0                     26.0   \n",
       "Ayamonte                                     1186.0                      3.0   \n",
       "Puebla de Guzmán                               82.0                      2.0   \n",
       "Isla Cristina                                1982.0                      6.0   \n",
       "Alosno                                        120.0                      1.0   \n",
       "San Juan del Puerto                           359.0                      2.0   \n",
       "Aljaraque                                     923.0                      5.0   \n",
       "Gibraleón                                     509.0                      1.0   \n",
       "Lucena del Puerto                             145.0                      1.0   \n",
       "Sierra de Huelva-Andévalo Central            2298.0                      2.0   \n",
       "\n",
       "Medida                             Confirmados PDIA 14 días  Población  \\\n",
       "Lugar de residencia                                                      \n",
       "Villablanca                                            10.0     2885.0   \n",
       "Villanueva de los Castillejos                           6.0     2825.0   \n",
       "Cartaya                                                36.0    20083.0   \n",
       "Rosal de la Frontera                                    3.0     1697.0   \n",
       "Bollullos Par del Condado                              23.0    14387.0   \n",
       "Almonte                                                39.0    24507.0   \n",
       "Villalba del Alcor                                      5.0     3366.0   \n",
       "Cabezas Rubias                                          1.0      706.0   \n",
       "Moguer                                                 26.0    21867.0   \n",
       "Lepe                                                   33.0    27880.0   \n",
       "Rociana del Condado                                     9.0     7939.0   \n",
       "Palos de la Frontera                                   12.0    11742.0   \n",
       "Palma del Condado (La)                                 11.0    10801.0   \n",
       "Condado-Campiña                                       153.0   156231.0   \n",
       "Punta Umbría                                           14.0    15355.0   \n",
       "Huelva-Costa                                          243.0   289548.0   \n",
       "Huelva                                                413.0   513170.0   \n",
       "San Bartolomé de la Torre                               3.0     3761.0   \n",
       "Trigueros                                               6.0     7862.0   \n",
       "Huelva (capital)                                      105.0   143837.0   \n",
       "Ayamonte                                               14.0    21104.0   \n",
       "Puebla de Guzmán                                        2.0     3092.0   \n",
       "Isla Cristina                                          11.0    21393.0   \n",
       "Alosno                                                  2.0     3933.0   \n",
       "San Juan del Puerto                                     4.0     9411.0   \n",
       "Aljaraque                                               9.0    21474.0   \n",
       "Gibraleón                                               5.0    12737.0   \n",
       "Lucena del Puerto                                       1.0     3261.0   \n",
       "Sierra de Huelva-Andévalo Central                       9.0    67391.0   \n",
       "\n",
       "Medida                                  tasa7      tasa14  Diferencia PDIA  \n",
       "Lugar de residencia                                                         \n",
       "Villablanca                         69.324090  346.620451              0.0  \n",
       "Villanueva de los Castillejos       70.796460  212.389381              0.0  \n",
       "Cartaya                             69.710701  179.256087              3.0  \n",
       "Rosal de la Frontera               117.855038  176.782557              0.0  \n",
       "Bollullos Par del Condado           48.655036  159.866546              0.0  \n",
       "Almonte                             73.448402  159.138205              5.0  \n",
       "Villalba del Alcor                  89.126560  148.544266              0.0  \n",
       "Cabezas Rubias                     141.643059  141.643059              0.0  \n",
       "Moguer                              18.292404  118.900627              1.0  \n",
       "Lepe                                32.281205  118.364419              3.0  \n",
       "Rociana del Condado                 12.596045  113.364404              0.0  \n",
       "Palos de la Frontera                17.032873  102.197241              3.0  \n",
       "Palma del Condado (La)              64.808814  101.842422              1.0  \n",
       "Condado-Campiña                     31.363814   97.931909             13.0  \n",
       "Punta Umbría                        19.537610   91.175513              1.0  \n",
       "Huelva-Costa                        25.557075   83.923909             22.0  \n",
       "Huelva                              24.553267   80.480153             35.0  \n",
       "San Bartolomé de la Torre           53.177346   79.766020              NaN  \n",
       "Trigueros                           12.719410   76.316459              NaN  \n",
       "Huelva (capital)                    18.076017   72.999298              8.0  \n",
       "Ayamonte                            14.215315   66.338135              2.0  \n",
       "Puebla de Guzmán                    64.683053   64.683053              0.0  \n",
       "Isla Cristina                       28.046557   51.418688              3.0  \n",
       "Alosno                              25.425884   50.851767              0.0  \n",
       "San Juan del Puerto                 21.251727   42.503453              0.0  \n",
       "Aljaraque                           23.283971   41.911148              1.0  \n",
       "Gibraleón                            7.851142   39.255712              0.0  \n",
       "Lucena del Puerto                   30.665440   30.665440              0.0  \n",
       "Sierra de Huelva-Andévalo Central    2.967755   13.354899              0.0  "
      ],
      "text/html": "<div>\n<style scoped>\n    .dataframe tbody tr th:only-of-type {\n        vertical-align: middle;\n    }\n\n    .dataframe tbody tr th {\n        vertical-align: top;\n    }\n\n    .dataframe thead th {\n        text-align: right;\n    }\n</style>\n<table border=\"1\" class=\"dataframe\">\n  <thead>\n    <tr style=\"text-align: right;\">\n      <th>Medida</th>\n      <th>Confirmados PDIA</th>\n      <th>Confirmados PDIA 7 días</th>\n      <th>Confirmados PDIA 14 días</th>\n      <th>Población</th>\n      <th>tasa7</th>\n      <th>tasa14</th>\n      <th>Diferencia PDIA</th>\n    </tr>\n    <tr>\n      <th>Lugar de residencia</th>\n      <th></th>\n      <th></th>\n      <th></th>\n      <th></th>\n      <th></th>\n      <th></th>\n      <th></th>\n    </tr>\n  </thead>\n  <tbody>\n    <tr>\n      <th>Villablanca</th>\n      <td>174.0</td>\n      <td>2.0</td>\n      <td>10.0</td>\n      <td>2885.0</td>\n      <td>69.324090</td>\n      <td>346.620451</td>\n      <td>0.0</td>\n    </tr>\n    <tr>\n      <th>Villanueva de los Castillejos</th>\n      <td>150.0</td>\n      <td>2.0</td>\n      <td>6.0</td>\n      <td>2825.0</td>\n      <td>70.796460</td>\n      <td>212.389381</td>\n      <td>0.0</td>\n    </tr>\n    <tr>\n      <th>Cartaya</th>\n      <td>937.0</td>\n      <td>14.0</td>\n      <td>36.0</td>\n      <td>20083.0</td>\n      <td>69.710701</td>\n      <td>179.256087</td>\n      <td>3.0</td>\n    </tr>\n    <tr>\n      <th>Rosal de la Frontera</th>\n      <td>25.0</td>\n      <td>2.0</td>\n      <td>3.0</td>\n      <td>1697.0</td>\n      <td>117.855038</td>\n      <td>176.782557</td>\n      <td>0.0</td>\n    </tr>\n    <tr>\n      <th>Bollullos Par del Condado</th>\n      <td>606.0</td>\n      <td>7.0</td>\n      <td>23.0</td>\n      <td>14387.0</td>\n      <td>48.655036</td>\n      <td>159.866546</td>\n      <td>0.0</td>\n    </tr>\n    <tr>\n      <th>Almonte</th>\n      <td>853.0</td>\n      <td>18.0</td>\n      <td>39.0</td>\n      <td>24507.0</td>\n      <td>73.448402</td>\n      <td>159.138205</td>\n      <td>5.0</td>\n    </tr>\n    <tr>\n      <th>Villalba del Alcor</th>\n      <td>443.0</td>\n      <td>3.0</td>\n      <td>5.0</td>\n      <td>3366.0</td>\n      <td>89.126560</td>\n      <td>148.544266</td>\n      <td>0.0</td>\n    </tr>\n    <tr>\n      <th>Cabezas Rubias</th>\n      <td>29.0</td>\n      <td>1.0</td>\n      <td>1.0</td>\n      <td>706.0</td>\n      <td>141.643059</td>\n      <td>141.643059</td>\n      <td>0.0</td>\n    </tr>\n    <tr>\n      <th>Moguer</th>\n      <td>821.0</td>\n      <td>4.0</td>\n      <td>26.0</td>\n      <td>21867.0</td>\n      <td>18.292404</td>\n      <td>118.900627</td>\n      <td>1.0</td>\n    </tr>\n    <tr>\n      <th>Lepe</th>\n      <td>1989.0</td>\n      <td>9.0</td>\n      <td>33.0</td>\n      <td>27880.0</td>\n      <td>32.281205</td>\n      <td>118.364419</td>\n      <td>3.0</td>\n    </tr>\n    <tr>\n      <th>Rociana del Condado</th>\n      <td>309.0</td>\n      <td>1.0</td>\n      <td>9.0</td>\n      <td>7939.0</td>\n      <td>12.596045</td>\n      <td>113.364404</td>\n      <td>0.0</td>\n    </tr>\n    <tr>\n      <th>Palos de la Frontera</th>\n      <td>448.0</td>\n      <td>2.0</td>\n      <td>12.0</td>\n      <td>11742.0</td>\n      <td>17.032873</td>\n      <td>102.197241</td>\n      <td>3.0</td>\n    </tr>\n    <tr>\n      <th>Palma del Condado (La)</th>\n      <td>970.0</td>\n      <td>7.0</td>\n      <td>11.0</td>\n      <td>10801.0</td>\n      <td>64.808814</td>\n      <td>101.842422</td>\n      <td>1.0</td>\n    </tr>\n    <tr>\n      <th>Condado-Campiña</th>\n      <td>6838.0</td>\n      <td>49.0</td>\n      <td>153.0</td>\n      <td>156231.0</td>\n      <td>31.363814</td>\n      <td>97.931909</td>\n      <td>13.0</td>\n    </tr>\n    <tr>\n      <th>Punta Umbría</th>\n      <td>657.0</td>\n      <td>3.0</td>\n      <td>14.0</td>\n      <td>15355.0</td>\n      <td>19.537610</td>\n      <td>91.175513</td>\n      <td>1.0</td>\n    </tr>\n    <tr>\n      <th>Huelva-Costa</th>\n      <td>14962.0</td>\n      <td>74.0</td>\n      <td>243.0</td>\n      <td>289548.0</td>\n      <td>25.557075</td>\n      <td>83.923909</td>\n      <td>22.0</td>\n    </tr>\n    <tr>\n      <th>Huelva</th>\n      <td>24522.0</td>\n      <td>126.0</td>\n      <td>413.0</td>\n      <td>513170.0</td>\n      <td>24.553267</td>\n      <td>80.480153</td>\n      <td>35.0</td>\n    </tr>\n    <tr>\n      <th>San Bartolomé de la Torre</th>\n      <td>193.0</td>\n      <td>2.0</td>\n      <td>3.0</td>\n      <td>3761.0</td>\n      <td>53.177346</td>\n      <td>79.766020</td>\n      <td>NaN</td>\n    </tr>\n    <tr>\n      <th>Trigueros</th>\n      <td>228.0</td>\n      <td>1.0</td>\n      <td>6.0</td>\n      <td>7862.0</td>\n      <td>12.719410</td>\n      <td>76.316459</td>\n      <td>NaN</td>\n    </tr>\n    <tr>\n      <th>Huelva (capital)</th>\n      <td>6543.0</td>\n      <td>26.0</td>\n      <td>105.0</td>\n      <td>143837.0</td>\n      <td>18.076017</td>\n      <td>72.999298</td>\n      <td>8.0</td>\n    </tr>\n    <tr>\n      <th>Ayamonte</th>\n      <td>1186.0</td>\n      <td>3.0</td>\n      <td>14.0</td>\n      <td>21104.0</td>\n      <td>14.215315</td>\n      <td>66.338135</td>\n      <td>2.0</td>\n    </tr>\n    <tr>\n      <th>Puebla de Guzmán</th>\n      <td>82.0</td>\n      <td>2.0</td>\n      <td>2.0</td>\n      <td>3092.0</td>\n      <td>64.683053</td>\n      <td>64.683053</td>\n      <td>0.0</td>\n    </tr>\n    <tr>\n      <th>Isla Cristina</th>\n      <td>1982.0</td>\n      <td>6.0</td>\n      <td>11.0</td>\n      <td>21393.0</td>\n      <td>28.046557</td>\n      <td>51.418688</td>\n      <td>3.0</td>\n    </tr>\n    <tr>\n      <th>Alosno</th>\n      <td>120.0</td>\n      <td>1.0</td>\n      <td>2.0</td>\n      <td>3933.0</td>\n      <td>25.425884</td>\n      <td>50.851767</td>\n      <td>0.0</td>\n    </tr>\n    <tr>\n      <th>San Juan del Puerto</th>\n      <td>359.0</td>\n      <td>2.0</td>\n      <td>4.0</td>\n      <td>9411.0</td>\n      <td>21.251727</td>\n      <td>42.503453</td>\n      <td>0.0</td>\n    </tr>\n    <tr>\n      <th>Aljaraque</th>\n      <td>923.0</td>\n      <td>5.0</td>\n      <td>9.0</td>\n      <td>21474.0</td>\n      <td>23.283971</td>\n      <td>41.911148</td>\n      <td>1.0</td>\n    </tr>\n    <tr>\n      <th>Gibraleón</th>\n      <td>509.0</td>\n      <td>1.0</td>\n      <td>5.0</td>\n      <td>12737.0</td>\n      <td>7.851142</td>\n      <td>39.255712</td>\n      <td>0.0</td>\n    </tr>\n    <tr>\n      <th>Lucena del Puerto</th>\n      <td>145.0</td>\n      <td>1.0</td>\n      <td>1.0</td>\n      <td>3261.0</td>\n      <td>30.665440</td>\n      <td>30.665440</td>\n      <td>0.0</td>\n    </tr>\n    <tr>\n      <th>Sierra de Huelva-Andévalo Central</th>\n      <td>2298.0</td>\n      <td>2.0</td>\n      <td>9.0</td>\n      <td>67391.0</td>\n      <td>2.967755</td>\n      <td>13.354899</td>\n      <td>0.0</td>\n    </tr>\n  </tbody>\n</table>\n</div>"
     },
     "metadata": {},
     "execution_count": 17
    }
   ],
   "source": [
    "tabla.sort_values('tasa14', ascending=False)"
   ]
  },
  {
   "cell_type": "code",
   "execution_count": 18,
   "metadata": {},
   "outputs": [
    {
     "output_type": "execute_result",
     "data": {
      "text/plain": [
       "Medida                             Confirmados PDIA  Confirmados PDIA 7 días  \\\n",
       "Lugar de residencia                                                            \n",
       "Rociana del Condado                           309.0                      1.0   \n",
       "Moguer                                        821.0                      4.0   \n",
       "Palos de la Frontera                          448.0                      2.0   \n",
       "Trigueros                                     228.0                      1.0   \n",
       "Villablanca                                   174.0                      2.0   \n",
       "Gibraleón                                     509.0                      1.0   \n",
       "Ayamonte                                     1186.0                      3.0   \n",
       "Punta Umbría                                  657.0                      3.0   \n",
       "Sierra de Huelva-Andévalo Central            2298.0                      2.0   \n",
       "Huelva (capital)                             6543.0                     26.0   \n",
       "Lepe                                         1989.0                      9.0   \n",
       "Bollullos Par del Condado                     606.0                      7.0   \n",
       "Huelva-Costa                                14962.0                     74.0   \n",
       "Huelva                                      24522.0                    126.0   \n",
       "Condado-Campiña                              6838.0                     49.0   \n",
       "Villanueva de los Castillejos                 150.0                      2.0   \n",
       "Cartaya                                       937.0                     14.0   \n",
       "Almonte                                       853.0                     18.0   \n",
       "Alosno                                        120.0                      1.0   \n",
       "San Juan del Puerto                           359.0                      2.0   \n",
       "Isla Cristina                                1982.0                      6.0   \n",
       "Aljaraque                                     923.0                      5.0   \n",
       "Villalba del Alcor                            443.0                      3.0   \n",
       "Palma del Condado (La)                        970.0                      7.0   \n",
       "San Bartolomé de la Torre                     193.0                      2.0   \n",
       "Rosal de la Frontera                           25.0                      2.0   \n",
       "Puebla de Guzmán                               82.0                      2.0   \n",
       "Cabezas Rubias                                 29.0                      1.0   \n",
       "Lucena del Puerto                             145.0                      1.0   \n",
       "\n",
       "Medida                             Confirmados PDIA 14 días  Población  \\\n",
       "Lugar de residencia                                                      \n",
       "Rociana del Condado                                     9.0     7939.0   \n",
       "Moguer                                                 26.0    21867.0   \n",
       "Palos de la Frontera                                   12.0    11742.0   \n",
       "Trigueros                                               6.0     7862.0   \n",
       "Villablanca                                            10.0     2885.0   \n",
       "Gibraleón                                               5.0    12737.0   \n",
       "Ayamonte                                               14.0    21104.0   \n",
       "Punta Umbría                                           14.0    15355.0   \n",
       "Sierra de Huelva-Andévalo Central                       9.0    67391.0   \n",
       "Huelva (capital)                                      105.0   143837.0   \n",
       "Lepe                                                   33.0    27880.0   \n",
       "Bollullos Par del Condado                              23.0    14387.0   \n",
       "Huelva-Costa                                          243.0   289548.0   \n",
       "Huelva                                                413.0   513170.0   \n",
       "Condado-Campiña                                       153.0   156231.0   \n",
       "Villanueva de los Castillejos                           6.0     2825.0   \n",
       "Cartaya                                                36.0    20083.0   \n",
       "Almonte                                                39.0    24507.0   \n",
       "Alosno                                                  2.0     3933.0   \n",
       "San Juan del Puerto                                     4.0     9411.0   \n",
       "Isla Cristina                                          11.0    21393.0   \n",
       "Aljaraque                                               9.0    21474.0   \n",
       "Villalba del Alcor                                      5.0     3366.0   \n",
       "Palma del Condado (La)                                 11.0    10801.0   \n",
       "San Bartolomé de la Torre                               3.0     3761.0   \n",
       "Rosal de la Frontera                                    3.0     1697.0   \n",
       "Puebla de Guzmán                                        2.0     3092.0   \n",
       "Cabezas Rubias                                          1.0      706.0   \n",
       "Lucena del Puerto                                       1.0     3261.0   \n",
       "\n",
       "Medida                                  tasa7      tasa14  Diferencia PDIA  \\\n",
       "Lugar de residencia                                                          \n",
       "Rociana del Condado                 12.596045  113.364404              0.0   \n",
       "Moguer                              18.292404  118.900627              1.0   \n",
       "Palos de la Frontera                17.032873  102.197241              3.0   \n",
       "Trigueros                           12.719410   76.316459              0.0   \n",
       "Villablanca                         69.324090  346.620451              0.0   \n",
       "Gibraleón                            7.851142   39.255712              0.0   \n",
       "Ayamonte                            14.215315   66.338135              2.0   \n",
       "Punta Umbría                        19.537610   91.175513              1.0   \n",
       "Sierra de Huelva-Andévalo Central    2.967755   13.354899              0.0   \n",
       "Huelva (capital)                    18.076017   72.999298              8.0   \n",
       "Lepe                                32.281205  118.364419              3.0   \n",
       "Bollullos Par del Condado           48.655036  159.866546              0.0   \n",
       "Huelva-Costa                        25.557075   83.923909             22.0   \n",
       "Huelva                              24.553267   80.480153             35.0   \n",
       "Condado-Campiña                     31.363814   97.931909             13.0   \n",
       "Villanueva de los Castillejos       70.796460  212.389381              0.0   \n",
       "Cartaya                             69.710701  179.256087              3.0   \n",
       "Almonte                             73.448402  159.138205              5.0   \n",
       "Alosno                              25.425884   50.851767              0.0   \n",
       "San Juan del Puerto                 21.251727   42.503453              0.0   \n",
       "Isla Cristina                       28.046557   51.418688              3.0   \n",
       "Aljaraque                           23.283971   41.911148              1.0   \n",
       "Villalba del Alcor                  89.126560  148.544266              0.0   \n",
       "Palma del Condado (La)              64.808814  101.842422              1.0   \n",
       "San Bartolomé de la Torre           53.177346   79.766020              0.0   \n",
       "Rosal de la Frontera               117.855038  176.782557              0.0   \n",
       "Puebla de Guzmán                    64.683053   64.683053              0.0   \n",
       "Cabezas Rubias                     141.643059  141.643059              0.0   \n",
       "Lucena del Puerto                   30.665440   30.665440              0.0   \n",
       "\n",
       "Medida                                 7/14  \n",
       "Lugar de residencia                          \n",
       "Rociana del Condado                0.111111  \n",
       "Moguer                             0.153846  \n",
       "Palos de la Frontera               0.166667  \n",
       "Trigueros                          0.166667  \n",
       "Villablanca                        0.200000  \n",
       "Gibraleón                          0.200000  \n",
       "Ayamonte                           0.214286  \n",
       "Punta Umbría                       0.214286  \n",
       "Sierra de Huelva-Andévalo Central  0.222222  \n",
       "Huelva (capital)                   0.247619  \n",
       "Lepe                               0.272727  \n",
       "Bollullos Par del Condado          0.304348  \n",
       "Huelva-Costa                       0.304527  \n",
       "Huelva                             0.305085  \n",
       "Condado-Campiña                    0.320261  \n",
       "Villanueva de los Castillejos      0.333333  \n",
       "Cartaya                            0.388889  \n",
       "Almonte                            0.461538  \n",
       "Alosno                             0.500000  \n",
       "San Juan del Puerto                0.500000  \n",
       "Isla Cristina                      0.545455  \n",
       "Aljaraque                          0.555556  \n",
       "Villalba del Alcor                 0.600000  \n",
       "Palma del Condado (La)             0.636364  \n",
       "San Bartolomé de la Torre          0.666667  \n",
       "Rosal de la Frontera               0.666667  \n",
       "Puebla de Guzmán                   1.000000  \n",
       "Cabezas Rubias                     1.000000  \n",
       "Lucena del Puerto                  1.000000  "
      ],
      "text/html": "<div>\n<style scoped>\n    .dataframe tbody tr th:only-of-type {\n        vertical-align: middle;\n    }\n\n    .dataframe tbody tr th {\n        vertical-align: top;\n    }\n\n    .dataframe thead th {\n        text-align: right;\n    }\n</style>\n<table border=\"1\" class=\"dataframe\">\n  <thead>\n    <tr style=\"text-align: right;\">\n      <th>Medida</th>\n      <th>Confirmados PDIA</th>\n      <th>Confirmados PDIA 7 días</th>\n      <th>Confirmados PDIA 14 días</th>\n      <th>Población</th>\n      <th>tasa7</th>\n      <th>tasa14</th>\n      <th>Diferencia PDIA</th>\n      <th>7/14</th>\n    </tr>\n    <tr>\n      <th>Lugar de residencia</th>\n      <th></th>\n      <th></th>\n      <th></th>\n      <th></th>\n      <th></th>\n      <th></th>\n      <th></th>\n      <th></th>\n    </tr>\n  </thead>\n  <tbody>\n    <tr>\n      <th>Rociana del Condado</th>\n      <td>309.0</td>\n      <td>1.0</td>\n      <td>9.0</td>\n      <td>7939.0</td>\n      <td>12.596045</td>\n      <td>113.364404</td>\n      <td>0.0</td>\n      <td>0.111111</td>\n    </tr>\n    <tr>\n      <th>Moguer</th>\n      <td>821.0</td>\n      <td>4.0</td>\n      <td>26.0</td>\n      <td>21867.0</td>\n      <td>18.292404</td>\n      <td>118.900627</td>\n      <td>1.0</td>\n      <td>0.153846</td>\n    </tr>\n    <tr>\n      <th>Palos de la Frontera</th>\n      <td>448.0</td>\n      <td>2.0</td>\n      <td>12.0</td>\n      <td>11742.0</td>\n      <td>17.032873</td>\n      <td>102.197241</td>\n      <td>3.0</td>\n      <td>0.166667</td>\n    </tr>\n    <tr>\n      <th>Trigueros</th>\n      <td>228.0</td>\n      <td>1.0</td>\n      <td>6.0</td>\n      <td>7862.0</td>\n      <td>12.719410</td>\n      <td>76.316459</td>\n      <td>0.0</td>\n      <td>0.166667</td>\n    </tr>\n    <tr>\n      <th>Villablanca</th>\n      <td>174.0</td>\n      <td>2.0</td>\n      <td>10.0</td>\n      <td>2885.0</td>\n      <td>69.324090</td>\n      <td>346.620451</td>\n      <td>0.0</td>\n      <td>0.200000</td>\n    </tr>\n    <tr>\n      <th>Gibraleón</th>\n      <td>509.0</td>\n      <td>1.0</td>\n      <td>5.0</td>\n      <td>12737.0</td>\n      <td>7.851142</td>\n      <td>39.255712</td>\n      <td>0.0</td>\n      <td>0.200000</td>\n    </tr>\n    <tr>\n      <th>Ayamonte</th>\n      <td>1186.0</td>\n      <td>3.0</td>\n      <td>14.0</td>\n      <td>21104.0</td>\n      <td>14.215315</td>\n      <td>66.338135</td>\n      <td>2.0</td>\n      <td>0.214286</td>\n    </tr>\n    <tr>\n      <th>Punta Umbría</th>\n      <td>657.0</td>\n      <td>3.0</td>\n      <td>14.0</td>\n      <td>15355.0</td>\n      <td>19.537610</td>\n      <td>91.175513</td>\n      <td>1.0</td>\n      <td>0.214286</td>\n    </tr>\n    <tr>\n      <th>Sierra de Huelva-Andévalo Central</th>\n      <td>2298.0</td>\n      <td>2.0</td>\n      <td>9.0</td>\n      <td>67391.0</td>\n      <td>2.967755</td>\n      <td>13.354899</td>\n      <td>0.0</td>\n      <td>0.222222</td>\n    </tr>\n    <tr>\n      <th>Huelva (capital)</th>\n      <td>6543.0</td>\n      <td>26.0</td>\n      <td>105.0</td>\n      <td>143837.0</td>\n      <td>18.076017</td>\n      <td>72.999298</td>\n      <td>8.0</td>\n      <td>0.247619</td>\n    </tr>\n    <tr>\n      <th>Lepe</th>\n      <td>1989.0</td>\n      <td>9.0</td>\n      <td>33.0</td>\n      <td>27880.0</td>\n      <td>32.281205</td>\n      <td>118.364419</td>\n      <td>3.0</td>\n      <td>0.272727</td>\n    </tr>\n    <tr>\n      <th>Bollullos Par del Condado</th>\n      <td>606.0</td>\n      <td>7.0</td>\n      <td>23.0</td>\n      <td>14387.0</td>\n      <td>48.655036</td>\n      <td>159.866546</td>\n      <td>0.0</td>\n      <td>0.304348</td>\n    </tr>\n    <tr>\n      <th>Huelva-Costa</th>\n      <td>14962.0</td>\n      <td>74.0</td>\n      <td>243.0</td>\n      <td>289548.0</td>\n      <td>25.557075</td>\n      <td>83.923909</td>\n      <td>22.0</td>\n      <td>0.304527</td>\n    </tr>\n    <tr>\n      <th>Huelva</th>\n      <td>24522.0</td>\n      <td>126.0</td>\n      <td>413.0</td>\n      <td>513170.0</td>\n      <td>24.553267</td>\n      <td>80.480153</td>\n      <td>35.0</td>\n      <td>0.305085</td>\n    </tr>\n    <tr>\n      <th>Condado-Campiña</th>\n      <td>6838.0</td>\n      <td>49.0</td>\n      <td>153.0</td>\n      <td>156231.0</td>\n      <td>31.363814</td>\n      <td>97.931909</td>\n      <td>13.0</td>\n      <td>0.320261</td>\n    </tr>\n    <tr>\n      <th>Villanueva de los Castillejos</th>\n      <td>150.0</td>\n      <td>2.0</td>\n      <td>6.0</td>\n      <td>2825.0</td>\n      <td>70.796460</td>\n      <td>212.389381</td>\n      <td>0.0</td>\n      <td>0.333333</td>\n    </tr>\n    <tr>\n      <th>Cartaya</th>\n      <td>937.0</td>\n      <td>14.0</td>\n      <td>36.0</td>\n      <td>20083.0</td>\n      <td>69.710701</td>\n      <td>179.256087</td>\n      <td>3.0</td>\n      <td>0.388889</td>\n    </tr>\n    <tr>\n      <th>Almonte</th>\n      <td>853.0</td>\n      <td>18.0</td>\n      <td>39.0</td>\n      <td>24507.0</td>\n      <td>73.448402</td>\n      <td>159.138205</td>\n      <td>5.0</td>\n      <td>0.461538</td>\n    </tr>\n    <tr>\n      <th>Alosno</th>\n      <td>120.0</td>\n      <td>1.0</td>\n      <td>2.0</td>\n      <td>3933.0</td>\n      <td>25.425884</td>\n      <td>50.851767</td>\n      <td>0.0</td>\n      <td>0.500000</td>\n    </tr>\n    <tr>\n      <th>San Juan del Puerto</th>\n      <td>359.0</td>\n      <td>2.0</td>\n      <td>4.0</td>\n      <td>9411.0</td>\n      <td>21.251727</td>\n      <td>42.503453</td>\n      <td>0.0</td>\n      <td>0.500000</td>\n    </tr>\n    <tr>\n      <th>Isla Cristina</th>\n      <td>1982.0</td>\n      <td>6.0</td>\n      <td>11.0</td>\n      <td>21393.0</td>\n      <td>28.046557</td>\n      <td>51.418688</td>\n      <td>3.0</td>\n      <td>0.545455</td>\n    </tr>\n    <tr>\n      <th>Aljaraque</th>\n      <td>923.0</td>\n      <td>5.0</td>\n      <td>9.0</td>\n      <td>21474.0</td>\n      <td>23.283971</td>\n      <td>41.911148</td>\n      <td>1.0</td>\n      <td>0.555556</td>\n    </tr>\n    <tr>\n      <th>Villalba del Alcor</th>\n      <td>443.0</td>\n      <td>3.0</td>\n      <td>5.0</td>\n      <td>3366.0</td>\n      <td>89.126560</td>\n      <td>148.544266</td>\n      <td>0.0</td>\n      <td>0.600000</td>\n    </tr>\n    <tr>\n      <th>Palma del Condado (La)</th>\n      <td>970.0</td>\n      <td>7.0</td>\n      <td>11.0</td>\n      <td>10801.0</td>\n      <td>64.808814</td>\n      <td>101.842422</td>\n      <td>1.0</td>\n      <td>0.636364</td>\n    </tr>\n    <tr>\n      <th>San Bartolomé de la Torre</th>\n      <td>193.0</td>\n      <td>2.0</td>\n      <td>3.0</td>\n      <td>3761.0</td>\n      <td>53.177346</td>\n      <td>79.766020</td>\n      <td>0.0</td>\n      <td>0.666667</td>\n    </tr>\n    <tr>\n      <th>Rosal de la Frontera</th>\n      <td>25.0</td>\n      <td>2.0</td>\n      <td>3.0</td>\n      <td>1697.0</td>\n      <td>117.855038</td>\n      <td>176.782557</td>\n      <td>0.0</td>\n      <td>0.666667</td>\n    </tr>\n    <tr>\n      <th>Puebla de Guzmán</th>\n      <td>82.0</td>\n      <td>2.0</td>\n      <td>2.0</td>\n      <td>3092.0</td>\n      <td>64.683053</td>\n      <td>64.683053</td>\n      <td>0.0</td>\n      <td>1.000000</td>\n    </tr>\n    <tr>\n      <th>Cabezas Rubias</th>\n      <td>29.0</td>\n      <td>1.0</td>\n      <td>1.0</td>\n      <td>706.0</td>\n      <td>141.643059</td>\n      <td>141.643059</td>\n      <td>0.0</td>\n      <td>1.000000</td>\n    </tr>\n    <tr>\n      <th>Lucena del Puerto</th>\n      <td>145.0</td>\n      <td>1.0</td>\n      <td>1.0</td>\n      <td>3261.0</td>\n      <td>30.665440</td>\n      <td>30.665440</td>\n      <td>0.0</td>\n      <td>1.000000</td>\n    </tr>\n  </tbody>\n</table>\n</div>"
     },
     "metadata": {},
     "execution_count": 18
    }
   ],
   "source": [
    "# Peso de la tasa de la última semana en relación con la tasa a 14 días \n",
    "# Mejor cuanto menor. Valor 1 significa que no había casos antes de 7 días.\n",
    "tabla['7/14'] = tabla['tasa7'] / tabla['tasa14']\n",
    "tabla.fillna(0).sort_values('7/14', ascending=True)"
   ]
  },
  {
   "cell_type": "code",
   "execution_count": null,
   "metadata": {},
   "outputs": [],
   "source": []
  }
 ]
}