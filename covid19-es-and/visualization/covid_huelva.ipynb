{
 "metadata": {
  "language_info": {
   "codemirror_mode": {
    "name": "ipython",
    "version": 3
   },
   "file_extension": ".py",
   "mimetype": "text/x-python",
   "name": "python",
   "nbconvert_exporter": "python",
   "pygments_lexer": "ipython3",
   "version": "3.8.6"
  },
  "orig_nbformat": 2,
  "kernelspec": {
   "name": "python3",
   "display_name": "Python 3",
   "language": "python"
  }
 },
 "nbformat": 4,
 "nbformat_minor": 2,
 "cells": [
  {
   "cell_type": "code",
   "execution_count": 1,
   "metadata": {},
   "outputs": [],
   "source": [
    "import pandas as pd\n",
    "pd.set_option('display.max_rows', None) # Print all rows"
   ]
  },
  {
   "cell_type": "code",
   "execution_count": 2,
   "metadata": {},
   "outputs": [],
   "source": [
    "# FIX SSL: CERTIFICATE_VERIFY_FAILED with Python3\n",
    "# https://stackoverflow.com/a/49174340\n",
    "import ssl\n",
    "\n",
    "ssl._create_default_https_context = ssl._create_unverified_context"
   ]
  },
  {
   "cell_type": "code",
   "execution_count": 3,
   "metadata": {},
   "outputs": [],
   "source": [
    "url = 'https://www.juntadeandalucia.es/institutodeestadisticaycartografia/badea/stpivot/stpivot/Print?cube=013d884c-cfc5-4c21-9e78-e26225682afd&type=3&foto=si&ejecutaDesde=&codConsulta=38668&consTipoVisua=JP'\n",
    "fields = ['Lugar de residencia', 'Medida', 'Valor']\n",
    "df = pd.read_csv(url, delimiter=';', usecols=fields, decimal=',')"
   ]
  },
  {
   "cell_type": "code",
   "execution_count": 4,
   "metadata": {},
   "outputs": [
    {
     "output_type": "execute_result",
     "data": {
      "text/plain": [
       "  Lugar de residencia                    Medida               Valor\n",
       "0              Huelva                 Población              513170\n",
       "1              Huelva          Confirmados PDIA               30499\n",
       "2              Huelva  Confirmados PDIA 14 días                1305\n",
       "3              Huelva         Tasa PDIA 14 días  254,30169339595065\n",
       "4              Huelva   Confirmados PDIA 7 días                 593\n",
       "5              Huelva        Total Confirmados                30679\n",
       "6              Huelva                   Curados               28061\n",
       "7              Huelva                Fallecidos                 377"
      ],
      "text/html": "<div>\n<style scoped>\n    .dataframe tbody tr th:only-of-type {\n        vertical-align: middle;\n    }\n\n    .dataframe tbody tr th {\n        vertical-align: top;\n    }\n\n    .dataframe thead th {\n        text-align: right;\n    }\n</style>\n<table border=\"1\" class=\"dataframe\">\n  <thead>\n    <tr style=\"text-align: right;\">\n      <th></th>\n      <th>Lugar de residencia</th>\n      <th>Medida</th>\n      <th>Valor</th>\n    </tr>\n  </thead>\n  <tbody>\n    <tr>\n      <th>0</th>\n      <td>Huelva</td>\n      <td>Población</td>\n      <td>513170</td>\n    </tr>\n    <tr>\n      <th>1</th>\n      <td>Huelva</td>\n      <td>Confirmados PDIA</td>\n      <td>30499</td>\n    </tr>\n    <tr>\n      <th>2</th>\n      <td>Huelva</td>\n      <td>Confirmados PDIA 14 días</td>\n      <td>1305</td>\n    </tr>\n    <tr>\n      <th>3</th>\n      <td>Huelva</td>\n      <td>Tasa PDIA 14 días</td>\n      <td>254,30169339595065</td>\n    </tr>\n    <tr>\n      <th>4</th>\n      <td>Huelva</td>\n      <td>Confirmados PDIA 7 días</td>\n      <td>593</td>\n    </tr>\n    <tr>\n      <th>5</th>\n      <td>Huelva</td>\n      <td>Total Confirmados</td>\n      <td>30679</td>\n    </tr>\n    <tr>\n      <th>6</th>\n      <td>Huelva</td>\n      <td>Curados</td>\n      <td>28061</td>\n    </tr>\n    <tr>\n      <th>7</th>\n      <td>Huelva</td>\n      <td>Fallecidos</td>\n      <td>377</td>\n    </tr>\n  </tbody>\n</table>\n</div>"
     },
     "metadata": {},
     "execution_count": 4
    }
   ],
   "source": [
    "df[df['Lugar de residencia'] == 'Huelva']"
   ]
  },
  {
   "cell_type": "code",
   "execution_count": 5,
   "metadata": {},
   "outputs": [],
   "source": [
    "df['Valor'] = pd.to_numeric(df['Valor'],errors='coerce')"
   ]
  },
  {
   "cell_type": "code",
   "execution_count": 6,
   "metadata": {},
   "outputs": [],
   "source": [
    "dfAnterior = pd.read_csv('covid_huelva.csv', index_col='Lugar de residencia')"
   ]
  },
  {
   "cell_type": "code",
   "execution_count": 7,
   "metadata": {
    "tags": []
   },
   "outputs": [
    {
     "output_type": "stream",
     "name": "stdout",
     "text": [
      "Confirmados PCR en la provincia de Huelva:  30499.0\n",
      "<ipython-input-7-31b732756b19>:2: UserWarning: Boolean Series key will be reindexed to match DataFrame index.\n",
      "  p = df[df['Lugar de residencia'] == 'Huelva'][df['Medida'] == 'Confirmados PDIA']['Valor'].values[0]\n"
     ]
    }
   ],
   "source": [
    "# Confirmados PCR provincia Huelva\n",
    "p = df[df['Lugar de residencia'] == 'Huelva'][df['Medida'] == 'Confirmados PDIA']['Valor'].values[0]\n",
    "print('Confirmados PCR en la provincia de Huelva: ', p)"
   ]
  },
  {
   "cell_type": "code",
   "execution_count": 8,
   "metadata": {
    "tags": []
   },
   "outputs": [
    {
     "output_type": "stream",
     "name": "stdout",
     "text": [
      "Confirmados PCR en Huelva capital:  8003.0\n",
      "<ipython-input-8-e81bfb40e710>:2: UserWarning: Boolean Series key will be reindexed to match DataFrame index.\n",
      "  c = df[df['Lugar de residencia'] == 'Huelva (capital)'][df['Medida'] == 'Confirmados PDIA']['Valor'].values[0]\n"
     ]
    }
   ],
   "source": [
    "# Confirmados PCR Huelva capitalpd\n",
    "c = df[df['Lugar de residencia'] == 'Huelva (capital)'][df['Medida'] == 'Confirmados PDIA']['Valor'].values[0]\n",
    "print('Confirmados PCR en Huelva capital: ', c)"
   ]
  },
  {
   "cell_type": "code",
   "execution_count": 9,
   "metadata": {
    "tags": []
   },
   "outputs": [
    {
     "output_type": "stream",
     "name": "stderr",
     "text": [
      "<ipython-input-9-f09dd2050cc1>:1: UserWarning: Boolean Series key will be reindexed to match DataFrame index.\n  c7 = df[df['Lugar de residencia'] == 'Huelva (capital)'][df['Medida'] == 'Confirmados PDIA 7 días']['Valor'].values[0]\n<ipython-input-9-f09dd2050cc1>:2: UserWarning: Boolean Series key will be reindexed to match DataFrame index.\n  c14 = df[df['Lugar de residencia'] == 'Huelva (capital)'][df['Medida'] == 'Confirmados PDIA 14 días']['Valor'].values[0]\n<ipython-input-9-f09dd2050cc1>:3: UserWarning: Boolean Series key will be reindexed to match DataFrame index.\n  p = df[df['Lugar de residencia'] == 'Huelva (capital)'][df['Medida'] == 'Población']['Valor'].values[0]\n"
     ]
    }
   ],
   "source": [
    "c7 = df[df['Lugar de residencia'] == 'Huelva (capital)'][df['Medida'] == 'Confirmados PDIA 7 días']['Valor'].values[0]\n",
    "c14 = df[df['Lugar de residencia'] == 'Huelva (capital)'][df['Medida'] == 'Confirmados PDIA 14 días']['Valor'].values[0]\n",
    "p = df[df['Lugar de residencia'] == 'Huelva (capital)'][df['Medida'] == 'Población']['Valor'].values[0]"
   ]
  },
  {
   "cell_type": "code",
   "execution_count": 10,
   "metadata": {
    "tags": []
   },
   "outputs": [
    {
     "output_type": "stream",
     "name": "stdout",
     "text": [
      "Huelva (capital)\n\nUn positivo PCR cada 841 personas en los últimos 7 días \n\nUn positivo PCR cada 377 personas en los últimos 14 días\n"
     ]
    }
   ],
   "source": [
    "print('Huelva (capital)\\n')\n",
    "#print('Confirmados PCR 7 días x 1,000 habitantes: ', f\"{c7/(p/1000):.5f}\")\n",
    "print('Un positivo PCR cada', f\"{p/c7:.0f}\", 'personas en los últimos 7 días', '\\n')\n",
    "#print('Confirmados PCR 14 días x 1,000 habitantes: ', f\"{c14/(p/1000):.5f}\")\n",
    "print('Un positivo PCR cada', f\"{p/c14:.0f}\", 'personas en los últimos 14 días')"
   ]
  },
  {
   "cell_type": "code",
   "execution_count": 11,
   "metadata": {},
   "outputs": [],
   "source": [
    "filtro = ((df['Medida'] == 'Confirmados PDIA')| (df['Medida'] == 'Confirmados PDIA 7 días') | (df['Medida'] == 'Población' ) | (df['Medida'] == 'Confirmados PDIA 14 días')) & (df['Valor'] > 0)\n",
    "tabla = pd.pivot_table(df.loc[filtro], values='Valor', index='Lugar de residencia', columns='Medida').dropna()"
   ]
  },
  {
   "cell_type": "code",
   "execution_count": 12,
   "metadata": {},
   "outputs": [],
   "source": [
    "# Reorder columns\n",
    "tabla = tabla[['Confirmados PDIA', 'Confirmados PDIA 7 días', 'Confirmados PDIA 14 días', 'Población']]"
   ]
  },
  {
   "cell_type": "code",
   "execution_count": 13,
   "metadata": {},
   "outputs": [],
   "source": [
    "tabla['tasa7'] = tabla['Confirmados PDIA 7 días']/tabla['Población']*100000\n",
    "tabla['tasa14'] = tabla['Confirmados PDIA 14 días']/tabla['Población']*100000"
   ]
  },
  {
   "cell_type": "code",
   "execution_count": 14,
   "metadata": {},
   "outputs": [],
   "source": [
    "tabla['Diferencia PDIA'] = tabla['Confirmados PDIA'] - dfAnterior['Confirmados PDIA']"
   ]
  },
  {
   "cell_type": "code",
   "execution_count": 15,
   "metadata": {},
   "outputs": [
    {
     "output_type": "execute_result",
     "data": {
      "text/plain": [
       "Medida                             Confirmados PDIA  Confirmados PDIA 7 días  \\\n",
       "Lugar de residencia                                                            \n",
       "Huelva                                      30499.0                    593.0   \n",
       "Huelva-Costa                                17596.0                    287.0   \n",
       "Huelva (capital)                             8003.0                    171.0   \n",
       "Condado-Campiña                              9863.0                    254.0   \n",
       "Moguer                                       1236.0                     49.0   \n",
       "Palma del Condado (La)                       1130.0                     33.0   \n",
       "Sierra de Huelva-Andévalo Central            2696.0                     50.0   \n",
       "Aljaraque                                    1054.0                     25.0   \n",
       "Punta Umbría                                  795.0                     25.0   \n",
       "Palos de la Frontera                          628.0                     19.0   \n",
       "Almonte                                      1747.0                     58.0   \n",
       "Cerro de Andévalo (El)                        143.0                      5.0   \n",
       "Valverde del Camino                           539.0                     19.0   \n",
       "Isla Cristina                                2134.0                     13.0   \n",
       "Gibraleón                                     611.0                      6.0   \n",
       "Bollullos Par del Condado                     953.0                     28.0   \n",
       "Ayamonte                                     1312.0                     14.0   \n",
       "Lepe                                         2114.0                     11.0   \n",
       "Niebla                                        214.0                      5.0   \n",
       "Cartaya                                      1318.0                     16.0   \n",
       "Nerva                                         174.0                      5.0   \n",
       "Calañas                                       189.0                     11.0   \n",
       "Puebla de Guzmán                              113.0                      2.0   \n",
       "Cabezas Rubias                                 37.0                      3.0   \n",
       "San Juan del Puerto                           480.0                      9.0   \n",
       "Zarza-Perrunal (La)                            24.0                      1.0   \n",
       "Rociana del Condado                           543.0                      7.0   \n",
       "Cortegana                                     201.0                      1.0   \n",
       "Paterna del Campo                             127.0                      1.0   \n",
       "Santa Bárbara de Casa                          15.0                      1.0   \n",
       "Villanueva de los Castillejos                 158.0                      1.0   \n",
       "\n",
       "Medida                             Confirmados PDIA 14 días  Población  \\\n",
       "Lugar de residencia                                                      \n",
       "Huelva                                               1305.0   513170.0   \n",
       "Huelva-Costa                                          606.0   289548.0   \n",
       "Huelva (capital)                                      382.0   143837.0   \n",
       "Condado-Campiña                                       585.0   156231.0   \n",
       "Moguer                                                111.0    21867.0   \n",
       "Palma del Condado (La)                                 82.0    10801.0   \n",
       "Sierra de Huelva-Andévalo Central                     111.0    67391.0   \n",
       "Aljaraque                                              41.0    21474.0   \n",
       "Punta Umbría                                           59.0    15355.0   \n",
       "Palos de la Frontera                                   27.0    11742.0   \n",
       "Almonte                                               135.0    24507.0   \n",
       "Cerro de Andévalo (El)                                  7.0     2327.0   \n",
       "Valverde del Camino                                    52.0    12750.0   \n",
       "Isla Cristina                                          38.0    21393.0   \n",
       "Gibraleón                                              16.0    12737.0   \n",
       "Bollullos Par del Condado                              77.0    14387.0   \n",
       "Ayamonte                                               16.0    21104.0   \n",
       "Lepe                                                   25.0    27880.0   \n",
       "Niebla                                                 13.0     4116.0   \n",
       "Cartaya                                                28.0    20083.0   \n",
       "Nerva                                                  12.0     5169.0   \n",
       "Calañas                                                15.0     2768.0   \n",
       "Puebla de Guzmán                                        2.0     3092.0   \n",
       "Cabezas Rubias                                          5.0      706.0   \n",
       "San Juan del Puerto                                    21.0     9411.0   \n",
       "Zarza-Perrunal (La)                                     2.0     1253.0   \n",
       "Rociana del Condado                                    14.0     7939.0   \n",
       "Cortegana                                               1.0     4602.0   \n",
       "Paterna del Campo                                       2.0     3457.0   \n",
       "Santa Bárbara de Casa                                   1.0     1043.0   \n",
       "Villanueva de los Castillejos                           1.0     2825.0   \n",
       "\n",
       "Medida                                  tasa7      tasa14  Diferencia PDIA  \n",
       "Lugar de residencia                                                         \n",
       "Huelva                             115.556248  254.301693            131.0  \n",
       "Huelva-Costa                        99.120008  209.291724             76.0  \n",
       "Huelva (capital)                   118.884571  265.578398             48.0  \n",
       "Condado-Campiña                    162.579770  374.445533             44.0  \n",
       "Moguer                             224.081950  507.614213             13.0  \n",
       "Palma del Condado (La)             305.527266  759.188964             12.0  \n",
       "Sierra de Huelva-Andévalo Central   74.193883  164.710421             11.0  \n",
       "Aljaraque                          116.419857  190.928565              8.0  \n",
       "Punta Umbría                       162.813416  384.239661              6.0  \n",
       "Palos de la Frontera               161.812298  229.943792              6.0  \n",
       "Almonte                            236.667075  550.863019              4.0  \n",
       "Cerro de Andévalo (El)             214.868930  300.816502              4.0  \n",
       "Valverde del Camino                149.019608  407.843137              3.0  \n",
       "Isla Cristina                       60.767541  177.628196              3.0  \n",
       "Gibraleón                           47.106854  125.618277              3.0  \n",
       "Bollullos Par del Condado          194.620143  535.205394              3.0  \n",
       "Ayamonte                            66.338135   75.815011              3.0  \n",
       "Lepe                                39.454806   89.670014              2.0  \n",
       "Niebla                             121.477162  315.840622              2.0  \n",
       "Cartaya                             79.669372  139.421401              2.0  \n",
       "Nerva                               96.730509  232.153221              1.0  \n",
       "Calañas                            397.398844  541.907514              1.0  \n",
       "Puebla de Guzmán                    64.683053   64.683053              1.0  \n",
       "Cabezas Rubias                     424.929178  708.215297              1.0  \n",
       "San Juan del Puerto                 95.632770  223.143130              1.0  \n",
       "Zarza-Perrunal (La)                 79.808460  159.616919              1.0  \n",
       "Rociana del Condado                 88.172314  176.344628             -1.0  \n",
       "Cortegana                           21.729683   21.729683              NaN  \n",
       "Paterna del Campo                   28.926815   57.853630              NaN  \n",
       "Santa Bárbara de Casa               95.877277   95.877277              NaN  \n",
       "Villanueva de los Castillejos       35.398230   35.398230              NaN  "
      ],
      "text/html": "<div>\n<style scoped>\n    .dataframe tbody tr th:only-of-type {\n        vertical-align: middle;\n    }\n\n    .dataframe tbody tr th {\n        vertical-align: top;\n    }\n\n    .dataframe thead th {\n        text-align: right;\n    }\n</style>\n<table border=\"1\" class=\"dataframe\">\n  <thead>\n    <tr style=\"text-align: right;\">\n      <th>Medida</th>\n      <th>Confirmados PDIA</th>\n      <th>Confirmados PDIA 7 días</th>\n      <th>Confirmados PDIA 14 días</th>\n      <th>Población</th>\n      <th>tasa7</th>\n      <th>tasa14</th>\n      <th>Diferencia PDIA</th>\n    </tr>\n    <tr>\n      <th>Lugar de residencia</th>\n      <th></th>\n      <th></th>\n      <th></th>\n      <th></th>\n      <th></th>\n      <th></th>\n      <th></th>\n    </tr>\n  </thead>\n  <tbody>\n    <tr>\n      <th>Huelva</th>\n      <td>30499.0</td>\n      <td>593.0</td>\n      <td>1305.0</td>\n      <td>513170.0</td>\n      <td>115.556248</td>\n      <td>254.301693</td>\n      <td>131.0</td>\n    </tr>\n    <tr>\n      <th>Huelva-Costa</th>\n      <td>17596.0</td>\n      <td>287.0</td>\n      <td>606.0</td>\n      <td>289548.0</td>\n      <td>99.120008</td>\n      <td>209.291724</td>\n      <td>76.0</td>\n    </tr>\n    <tr>\n      <th>Huelva (capital)</th>\n      <td>8003.0</td>\n      <td>171.0</td>\n      <td>382.0</td>\n      <td>143837.0</td>\n      <td>118.884571</td>\n      <td>265.578398</td>\n      <td>48.0</td>\n    </tr>\n    <tr>\n      <th>Condado-Campiña</th>\n      <td>9863.0</td>\n      <td>254.0</td>\n      <td>585.0</td>\n      <td>156231.0</td>\n      <td>162.579770</td>\n      <td>374.445533</td>\n      <td>44.0</td>\n    </tr>\n    <tr>\n      <th>Moguer</th>\n      <td>1236.0</td>\n      <td>49.0</td>\n      <td>111.0</td>\n      <td>21867.0</td>\n      <td>224.081950</td>\n      <td>507.614213</td>\n      <td>13.0</td>\n    </tr>\n    <tr>\n      <th>Palma del Condado (La)</th>\n      <td>1130.0</td>\n      <td>33.0</td>\n      <td>82.0</td>\n      <td>10801.0</td>\n      <td>305.527266</td>\n      <td>759.188964</td>\n      <td>12.0</td>\n    </tr>\n    <tr>\n      <th>Sierra de Huelva-Andévalo Central</th>\n      <td>2696.0</td>\n      <td>50.0</td>\n      <td>111.0</td>\n      <td>67391.0</td>\n      <td>74.193883</td>\n      <td>164.710421</td>\n      <td>11.0</td>\n    </tr>\n    <tr>\n      <th>Aljaraque</th>\n      <td>1054.0</td>\n      <td>25.0</td>\n      <td>41.0</td>\n      <td>21474.0</td>\n      <td>116.419857</td>\n      <td>190.928565</td>\n      <td>8.0</td>\n    </tr>\n    <tr>\n      <th>Punta Umbría</th>\n      <td>795.0</td>\n      <td>25.0</td>\n      <td>59.0</td>\n      <td>15355.0</td>\n      <td>162.813416</td>\n      <td>384.239661</td>\n      <td>6.0</td>\n    </tr>\n    <tr>\n      <th>Palos de la Frontera</th>\n      <td>628.0</td>\n      <td>19.0</td>\n      <td>27.0</td>\n      <td>11742.0</td>\n      <td>161.812298</td>\n      <td>229.943792</td>\n      <td>6.0</td>\n    </tr>\n    <tr>\n      <th>Almonte</th>\n      <td>1747.0</td>\n      <td>58.0</td>\n      <td>135.0</td>\n      <td>24507.0</td>\n      <td>236.667075</td>\n      <td>550.863019</td>\n      <td>4.0</td>\n    </tr>\n    <tr>\n      <th>Cerro de Andévalo (El)</th>\n      <td>143.0</td>\n      <td>5.0</td>\n      <td>7.0</td>\n      <td>2327.0</td>\n      <td>214.868930</td>\n      <td>300.816502</td>\n      <td>4.0</td>\n    </tr>\n    <tr>\n      <th>Valverde del Camino</th>\n      <td>539.0</td>\n      <td>19.0</td>\n      <td>52.0</td>\n      <td>12750.0</td>\n      <td>149.019608</td>\n      <td>407.843137</td>\n      <td>3.0</td>\n    </tr>\n    <tr>\n      <th>Isla Cristina</th>\n      <td>2134.0</td>\n      <td>13.0</td>\n      <td>38.0</td>\n      <td>21393.0</td>\n      <td>60.767541</td>\n      <td>177.628196</td>\n      <td>3.0</td>\n    </tr>\n    <tr>\n      <th>Gibraleón</th>\n      <td>611.0</td>\n      <td>6.0</td>\n      <td>16.0</td>\n      <td>12737.0</td>\n      <td>47.106854</td>\n      <td>125.618277</td>\n      <td>3.0</td>\n    </tr>\n    <tr>\n      <th>Bollullos Par del Condado</th>\n      <td>953.0</td>\n      <td>28.0</td>\n      <td>77.0</td>\n      <td>14387.0</td>\n      <td>194.620143</td>\n      <td>535.205394</td>\n      <td>3.0</td>\n    </tr>\n    <tr>\n      <th>Ayamonte</th>\n      <td>1312.0</td>\n      <td>14.0</td>\n      <td>16.0</td>\n      <td>21104.0</td>\n      <td>66.338135</td>\n      <td>75.815011</td>\n      <td>3.0</td>\n    </tr>\n    <tr>\n      <th>Lepe</th>\n      <td>2114.0</td>\n      <td>11.0</td>\n      <td>25.0</td>\n      <td>27880.0</td>\n      <td>39.454806</td>\n      <td>89.670014</td>\n      <td>2.0</td>\n    </tr>\n    <tr>\n      <th>Niebla</th>\n      <td>214.0</td>\n      <td>5.0</td>\n      <td>13.0</td>\n      <td>4116.0</td>\n      <td>121.477162</td>\n      <td>315.840622</td>\n      <td>2.0</td>\n    </tr>\n    <tr>\n      <th>Cartaya</th>\n      <td>1318.0</td>\n      <td>16.0</td>\n      <td>28.0</td>\n      <td>20083.0</td>\n      <td>79.669372</td>\n      <td>139.421401</td>\n      <td>2.0</td>\n    </tr>\n    <tr>\n      <th>Nerva</th>\n      <td>174.0</td>\n      <td>5.0</td>\n      <td>12.0</td>\n      <td>5169.0</td>\n      <td>96.730509</td>\n      <td>232.153221</td>\n      <td>1.0</td>\n    </tr>\n    <tr>\n      <th>Calañas</th>\n      <td>189.0</td>\n      <td>11.0</td>\n      <td>15.0</td>\n      <td>2768.0</td>\n      <td>397.398844</td>\n      <td>541.907514</td>\n      <td>1.0</td>\n    </tr>\n    <tr>\n      <th>Puebla de Guzmán</th>\n      <td>113.0</td>\n      <td>2.0</td>\n      <td>2.0</td>\n      <td>3092.0</td>\n      <td>64.683053</td>\n      <td>64.683053</td>\n      <td>1.0</td>\n    </tr>\n    <tr>\n      <th>Cabezas Rubias</th>\n      <td>37.0</td>\n      <td>3.0</td>\n      <td>5.0</td>\n      <td>706.0</td>\n      <td>424.929178</td>\n      <td>708.215297</td>\n      <td>1.0</td>\n    </tr>\n    <tr>\n      <th>San Juan del Puerto</th>\n      <td>480.0</td>\n      <td>9.0</td>\n      <td>21.0</td>\n      <td>9411.0</td>\n      <td>95.632770</td>\n      <td>223.143130</td>\n      <td>1.0</td>\n    </tr>\n    <tr>\n      <th>Zarza-Perrunal (La)</th>\n      <td>24.0</td>\n      <td>1.0</td>\n      <td>2.0</td>\n      <td>1253.0</td>\n      <td>79.808460</td>\n      <td>159.616919</td>\n      <td>1.0</td>\n    </tr>\n    <tr>\n      <th>Rociana del Condado</th>\n      <td>543.0</td>\n      <td>7.0</td>\n      <td>14.0</td>\n      <td>7939.0</td>\n      <td>88.172314</td>\n      <td>176.344628</td>\n      <td>-1.0</td>\n    </tr>\n    <tr>\n      <th>Cortegana</th>\n      <td>201.0</td>\n      <td>1.0</td>\n      <td>1.0</td>\n      <td>4602.0</td>\n      <td>21.729683</td>\n      <td>21.729683</td>\n      <td>NaN</td>\n    </tr>\n    <tr>\n      <th>Paterna del Campo</th>\n      <td>127.0</td>\n      <td>1.0</td>\n      <td>2.0</td>\n      <td>3457.0</td>\n      <td>28.926815</td>\n      <td>57.853630</td>\n      <td>NaN</td>\n    </tr>\n    <tr>\n      <th>Santa Bárbara de Casa</th>\n      <td>15.0</td>\n      <td>1.0</td>\n      <td>1.0</td>\n      <td>1043.0</td>\n      <td>95.877277</td>\n      <td>95.877277</td>\n      <td>NaN</td>\n    </tr>\n    <tr>\n      <th>Villanueva de los Castillejos</th>\n      <td>158.0</td>\n      <td>1.0</td>\n      <td>1.0</td>\n      <td>2825.0</td>\n      <td>35.398230</td>\n      <td>35.398230</td>\n      <td>NaN</td>\n    </tr>\n  </tbody>\n</table>\n</div>"
     },
     "metadata": {},
     "execution_count": 15
    }
   ],
   "source": [
    "# Nuevos casos desde la última captura\n",
    "tabla[tabla['Diferencia PDIA'] != 0].sort_values('Diferencia PDIA', ascending=False)"
   ]
  },
  {
   "cell_type": "code",
   "execution_count": 16,
   "metadata": {},
   "outputs": [],
   "source": [
    "if tabla[tabla['Diferencia PDIA'] != 0]['Diferencia PDIA'].sum() != 0:\n",
    "  # Save to csv\n",
    "  tabla.to_csv('covid_huelva.csv', encoding='utf-8', header=True, index=True)  "
   ]
  },
  {
   "cell_type": "code",
   "execution_count": 17,
   "metadata": {},
   "outputs": [
    {
     "output_type": "execute_result",
     "data": {
      "text/plain": [
       "Medida                             Confirmados PDIA  Confirmados PDIA 7 días  \\\n",
       "Lugar de residencia                                                            \n",
       "Villarrasa                                    165.0                     12.0   \n",
       "Palma del Condado (La)                       1130.0                     33.0   \n",
       "Cabezas Rubias                                 37.0                      3.0   \n",
       "Almonte                                      1747.0                     58.0   \n",
       "Calañas                                       189.0                     11.0   \n",
       "Bollullos Par del Condado                     953.0                     28.0   \n",
       "Moguer                                       1236.0                     49.0   \n",
       "Manzanilla                                     95.0                      5.0   \n",
       "Valverde del Camino                           539.0                     19.0   \n",
       "Punta Umbría                                  795.0                     25.0   \n",
       "Condado-Campiña                              9863.0                    254.0   \n",
       "Lucena del Puerto                             246.0                      5.0   \n",
       "Niebla                                        214.0                      5.0   \n",
       "Cerro de Andévalo (El)                        143.0                      5.0   \n",
       "Campofrío                                       9.0                      2.0   \n",
       "Villalba del Alcor                            481.0                      1.0   \n",
       "Huelva (capital)                             8003.0                    171.0   \n",
       "Huelva                                      30499.0                    593.0   \n",
       "Nerva                                         174.0                      5.0   \n",
       "Palos de la Frontera                          628.0                     19.0   \n",
       "Trigueros                                     291.0                      8.0   \n",
       "San Juan del Puerto                           480.0                      9.0   \n",
       "San Bartolomé de la Torre                     291.0                      2.0   \n",
       "Huelva-Costa                                17596.0                    287.0   \n",
       "Aljaraque                                    1054.0                     25.0   \n",
       "Isla Cristina                                2134.0                     13.0   \n",
       "Rociana del Condado                           543.0                      7.0   \n",
       "Sierra de Huelva-Andévalo Central            2696.0                     50.0   \n",
       "Zarza-Perrunal (La)                            24.0                      1.0   \n",
       "Cartaya                                      1318.0                     16.0   \n",
       "Gibraleón                                     611.0                      6.0   \n",
       "Beas                                          207.0                      3.0   \n",
       "Villablanca                                   187.0                      2.0   \n",
       "Alosno                                        166.0                      2.0   \n",
       "Zalamea la Real                                89.0                      2.0   \n",
       "Santa Bárbara de Casa                          15.0                      1.0   \n",
       "Lepe                                         2114.0                     11.0   \n",
       "Paymogo                                        75.0                      1.0   \n",
       "Bonares                                       264.0                      3.0   \n",
       "Ayamonte                                     1312.0                     14.0   \n",
       "Puebla de Guzmán                              113.0                      2.0   \n",
       "Aracena                                       518.0                      4.0   \n",
       "Paterna del Campo                             127.0                      1.0   \n",
       "Villanueva de los Castillejos                 158.0                      1.0   \n",
       "Cortegana                                     201.0                      1.0   \n",
       "\n",
       "Medida                             Confirmados PDIA 14 días  Población  \\\n",
       "Lugar de residencia                                                      \n",
       "Villarrasa                                             17.0     2211.0   \n",
       "Palma del Condado (La)                                 82.0    10801.0   \n",
       "Cabezas Rubias                                          5.0      706.0   \n",
       "Almonte                                               135.0    24507.0   \n",
       "Calañas                                                15.0     2768.0   \n",
       "Bollullos Par del Condado                              77.0    14387.0   \n",
       "Moguer                                                111.0    21867.0   \n",
       "Manzanilla                                              9.0     2118.0   \n",
       "Valverde del Camino                                    52.0    12750.0   \n",
       "Punta Umbría                                           59.0    15355.0   \n",
       "Condado-Campiña                                       585.0   156231.0   \n",
       "Lucena del Puerto                                      12.0     3261.0   \n",
       "Niebla                                                 13.0     4116.0   \n",
       "Cerro de Andévalo (El)                                  7.0     2327.0   \n",
       "Campofrío                                               2.0      713.0   \n",
       "Villalba del Alcor                                      9.0     3366.0   \n",
       "Huelva (capital)                                      382.0   143837.0   \n",
       "Huelva                                               1305.0   513170.0   \n",
       "Nerva                                                  12.0     5169.0   \n",
       "Palos de la Frontera                                   27.0    11742.0   \n",
       "Trigueros                                              18.0     7862.0   \n",
       "San Juan del Puerto                                    21.0     9411.0   \n",
       "San Bartolomé de la Torre                               8.0     3761.0   \n",
       "Huelva-Costa                                          606.0   289548.0   \n",
       "Aljaraque                                              41.0    21474.0   \n",
       "Isla Cristina                                          38.0    21393.0   \n",
       "Rociana del Condado                                    14.0     7939.0   \n",
       "Sierra de Huelva-Andévalo Central                     111.0    67391.0   \n",
       "Zarza-Perrunal (La)                                     2.0     1253.0   \n",
       "Cartaya                                                28.0    20083.0   \n",
       "Gibraleón                                              16.0    12737.0   \n",
       "Beas                                                    5.0     4341.0   \n",
       "Villablanca                                             3.0     2885.0   \n",
       "Alosno                                                  4.0     3933.0   \n",
       "Zalamea la Real                                         3.0     3054.0   \n",
       "Santa Bárbara de Casa                                   1.0     1043.0   \n",
       "Lepe                                                   25.0    27880.0   \n",
       "Paymogo                                                 1.0     1162.0   \n",
       "Bonares                                                 5.0     6060.0   \n",
       "Ayamonte                                               16.0    21104.0   \n",
       "Puebla de Guzmán                                        2.0     3092.0   \n",
       "Aracena                                                 5.0     8255.0   \n",
       "Paterna del Campo                                       2.0     3457.0   \n",
       "Villanueva de los Castillejos                           1.0     2825.0   \n",
       "Cortegana                                               1.0     4602.0   \n",
       "\n",
       "Medida                                  tasa7      tasa14  Diferencia PDIA  \n",
       "Lugar de residencia                                                         \n",
       "Villarrasa                         542.740841  768.882858              0.0  \n",
       "Palma del Condado (La)             305.527266  759.188964             12.0  \n",
       "Cabezas Rubias                     424.929178  708.215297              1.0  \n",
       "Almonte                            236.667075  550.863019              4.0  \n",
       "Calañas                            397.398844  541.907514              1.0  \n",
       "Bollullos Par del Condado          194.620143  535.205394              3.0  \n",
       "Moguer                             224.081950  507.614213             13.0  \n",
       "Manzanilla                         236.071766  424.929178              0.0  \n",
       "Valverde del Camino                149.019608  407.843137              3.0  \n",
       "Punta Umbría                       162.813416  384.239661              6.0  \n",
       "Condado-Campiña                    162.579770  374.445533             44.0  \n",
       "Lucena del Puerto                  153.327200  367.985281              0.0  \n",
       "Niebla                             121.477162  315.840622              2.0  \n",
       "Cerro de Andévalo (El)             214.868930  300.816502              4.0  \n",
       "Campofrío                          280.504909  280.504909              0.0  \n",
       "Villalba del Alcor                  29.708853  267.379679              0.0  \n",
       "Huelva (capital)                   118.884571  265.578398             48.0  \n",
       "Huelva                             115.556248  254.301693            131.0  \n",
       "Nerva                               96.730509  232.153221              1.0  \n",
       "Palos de la Frontera               161.812298  229.943792              6.0  \n",
       "Trigueros                          101.755279  228.949377              0.0  \n",
       "San Juan del Puerto                 95.632770  223.143130              1.0  \n",
       "San Bartolomé de la Torre           53.177346  212.709386              0.0  \n",
       "Huelva-Costa                        99.120008  209.291724             76.0  \n",
       "Aljaraque                          116.419857  190.928565              8.0  \n",
       "Isla Cristina                       60.767541  177.628196              3.0  \n",
       "Rociana del Condado                 88.172314  176.344628             -1.0  \n",
       "Sierra de Huelva-Andévalo Central   74.193883  164.710421             11.0  \n",
       "Zarza-Perrunal (La)                 79.808460  159.616919              1.0  \n",
       "Cartaya                             79.669372  139.421401              2.0  \n",
       "Gibraleón                           47.106854  125.618277              3.0  \n",
       "Beas                                69.108500  115.180834              0.0  \n",
       "Villablanca                         69.324090  103.986135              0.0  \n",
       "Alosno                              50.851767  101.703534              0.0  \n",
       "Zalamea la Real                     65.487885   98.231827              0.0  \n",
       "Santa Bárbara de Casa               95.877277   95.877277              NaN  \n",
       "Lepe                                39.454806   89.670014              2.0  \n",
       "Paymogo                             86.058520   86.058520              0.0  \n",
       "Bonares                             49.504950   82.508251              0.0  \n",
       "Ayamonte                            66.338135   75.815011              3.0  \n",
       "Puebla de Guzmán                    64.683053   64.683053              1.0  \n",
       "Aracena                             48.455482   60.569352              0.0  \n",
       "Paterna del Campo                   28.926815   57.853630              NaN  \n",
       "Villanueva de los Castillejos       35.398230   35.398230              NaN  \n",
       "Cortegana                           21.729683   21.729683              NaN  "
      ],
      "text/html": "<div>\n<style scoped>\n    .dataframe tbody tr th:only-of-type {\n        vertical-align: middle;\n    }\n\n    .dataframe tbody tr th {\n        vertical-align: top;\n    }\n\n    .dataframe thead th {\n        text-align: right;\n    }\n</style>\n<table border=\"1\" class=\"dataframe\">\n  <thead>\n    <tr style=\"text-align: right;\">\n      <th>Medida</th>\n      <th>Confirmados PDIA</th>\n      <th>Confirmados PDIA 7 días</th>\n      <th>Confirmados PDIA 14 días</th>\n      <th>Población</th>\n      <th>tasa7</th>\n      <th>tasa14</th>\n      <th>Diferencia PDIA</th>\n    </tr>\n    <tr>\n      <th>Lugar de residencia</th>\n      <th></th>\n      <th></th>\n      <th></th>\n      <th></th>\n      <th></th>\n      <th></th>\n      <th></th>\n    </tr>\n  </thead>\n  <tbody>\n    <tr>\n      <th>Villarrasa</th>\n      <td>165.0</td>\n      <td>12.0</td>\n      <td>17.0</td>\n      <td>2211.0</td>\n      <td>542.740841</td>\n      <td>768.882858</td>\n      <td>0.0</td>\n    </tr>\n    <tr>\n      <th>Palma del Condado (La)</th>\n      <td>1130.0</td>\n      <td>33.0</td>\n      <td>82.0</td>\n      <td>10801.0</td>\n      <td>305.527266</td>\n      <td>759.188964</td>\n      <td>12.0</td>\n    </tr>\n    <tr>\n      <th>Cabezas Rubias</th>\n      <td>37.0</td>\n      <td>3.0</td>\n      <td>5.0</td>\n      <td>706.0</td>\n      <td>424.929178</td>\n      <td>708.215297</td>\n      <td>1.0</td>\n    </tr>\n    <tr>\n      <th>Almonte</th>\n      <td>1747.0</td>\n      <td>58.0</td>\n      <td>135.0</td>\n      <td>24507.0</td>\n      <td>236.667075</td>\n      <td>550.863019</td>\n      <td>4.0</td>\n    </tr>\n    <tr>\n      <th>Calañas</th>\n      <td>189.0</td>\n      <td>11.0</td>\n      <td>15.0</td>\n      <td>2768.0</td>\n      <td>397.398844</td>\n      <td>541.907514</td>\n      <td>1.0</td>\n    </tr>\n    <tr>\n      <th>Bollullos Par del Condado</th>\n      <td>953.0</td>\n      <td>28.0</td>\n      <td>77.0</td>\n      <td>14387.0</td>\n      <td>194.620143</td>\n      <td>535.205394</td>\n      <td>3.0</td>\n    </tr>\n    <tr>\n      <th>Moguer</th>\n      <td>1236.0</td>\n      <td>49.0</td>\n      <td>111.0</td>\n      <td>21867.0</td>\n      <td>224.081950</td>\n      <td>507.614213</td>\n      <td>13.0</td>\n    </tr>\n    <tr>\n      <th>Manzanilla</th>\n      <td>95.0</td>\n      <td>5.0</td>\n      <td>9.0</td>\n      <td>2118.0</td>\n      <td>236.071766</td>\n      <td>424.929178</td>\n      <td>0.0</td>\n    </tr>\n    <tr>\n      <th>Valverde del Camino</th>\n      <td>539.0</td>\n      <td>19.0</td>\n      <td>52.0</td>\n      <td>12750.0</td>\n      <td>149.019608</td>\n      <td>407.843137</td>\n      <td>3.0</td>\n    </tr>\n    <tr>\n      <th>Punta Umbría</th>\n      <td>795.0</td>\n      <td>25.0</td>\n      <td>59.0</td>\n      <td>15355.0</td>\n      <td>162.813416</td>\n      <td>384.239661</td>\n      <td>6.0</td>\n    </tr>\n    <tr>\n      <th>Condado-Campiña</th>\n      <td>9863.0</td>\n      <td>254.0</td>\n      <td>585.0</td>\n      <td>156231.0</td>\n      <td>162.579770</td>\n      <td>374.445533</td>\n      <td>44.0</td>\n    </tr>\n    <tr>\n      <th>Lucena del Puerto</th>\n      <td>246.0</td>\n      <td>5.0</td>\n      <td>12.0</td>\n      <td>3261.0</td>\n      <td>153.327200</td>\n      <td>367.985281</td>\n      <td>0.0</td>\n    </tr>\n    <tr>\n      <th>Niebla</th>\n      <td>214.0</td>\n      <td>5.0</td>\n      <td>13.0</td>\n      <td>4116.0</td>\n      <td>121.477162</td>\n      <td>315.840622</td>\n      <td>2.0</td>\n    </tr>\n    <tr>\n      <th>Cerro de Andévalo (El)</th>\n      <td>143.0</td>\n      <td>5.0</td>\n      <td>7.0</td>\n      <td>2327.0</td>\n      <td>214.868930</td>\n      <td>300.816502</td>\n      <td>4.0</td>\n    </tr>\n    <tr>\n      <th>Campofrío</th>\n      <td>9.0</td>\n      <td>2.0</td>\n      <td>2.0</td>\n      <td>713.0</td>\n      <td>280.504909</td>\n      <td>280.504909</td>\n      <td>0.0</td>\n    </tr>\n    <tr>\n      <th>Villalba del Alcor</th>\n      <td>481.0</td>\n      <td>1.0</td>\n      <td>9.0</td>\n      <td>3366.0</td>\n      <td>29.708853</td>\n      <td>267.379679</td>\n      <td>0.0</td>\n    </tr>\n    <tr>\n      <th>Huelva (capital)</th>\n      <td>8003.0</td>\n      <td>171.0</td>\n      <td>382.0</td>\n      <td>143837.0</td>\n      <td>118.884571</td>\n      <td>265.578398</td>\n      <td>48.0</td>\n    </tr>\n    <tr>\n      <th>Huelva</th>\n      <td>30499.0</td>\n      <td>593.0</td>\n      <td>1305.0</td>\n      <td>513170.0</td>\n      <td>115.556248</td>\n      <td>254.301693</td>\n      <td>131.0</td>\n    </tr>\n    <tr>\n      <th>Nerva</th>\n      <td>174.0</td>\n      <td>5.0</td>\n      <td>12.0</td>\n      <td>5169.0</td>\n      <td>96.730509</td>\n      <td>232.153221</td>\n      <td>1.0</td>\n    </tr>\n    <tr>\n      <th>Palos de la Frontera</th>\n      <td>628.0</td>\n      <td>19.0</td>\n      <td>27.0</td>\n      <td>11742.0</td>\n      <td>161.812298</td>\n      <td>229.943792</td>\n      <td>6.0</td>\n    </tr>\n    <tr>\n      <th>Trigueros</th>\n      <td>291.0</td>\n      <td>8.0</td>\n      <td>18.0</td>\n      <td>7862.0</td>\n      <td>101.755279</td>\n      <td>228.949377</td>\n      <td>0.0</td>\n    </tr>\n    <tr>\n      <th>San Juan del Puerto</th>\n      <td>480.0</td>\n      <td>9.0</td>\n      <td>21.0</td>\n      <td>9411.0</td>\n      <td>95.632770</td>\n      <td>223.143130</td>\n      <td>1.0</td>\n    </tr>\n    <tr>\n      <th>San Bartolomé de la Torre</th>\n      <td>291.0</td>\n      <td>2.0</td>\n      <td>8.0</td>\n      <td>3761.0</td>\n      <td>53.177346</td>\n      <td>212.709386</td>\n      <td>0.0</td>\n    </tr>\n    <tr>\n      <th>Huelva-Costa</th>\n      <td>17596.0</td>\n      <td>287.0</td>\n      <td>606.0</td>\n      <td>289548.0</td>\n      <td>99.120008</td>\n      <td>209.291724</td>\n      <td>76.0</td>\n    </tr>\n    <tr>\n      <th>Aljaraque</th>\n      <td>1054.0</td>\n      <td>25.0</td>\n      <td>41.0</td>\n      <td>21474.0</td>\n      <td>116.419857</td>\n      <td>190.928565</td>\n      <td>8.0</td>\n    </tr>\n    <tr>\n      <th>Isla Cristina</th>\n      <td>2134.0</td>\n      <td>13.0</td>\n      <td>38.0</td>\n      <td>21393.0</td>\n      <td>60.767541</td>\n      <td>177.628196</td>\n      <td>3.0</td>\n    </tr>\n    <tr>\n      <th>Rociana del Condado</th>\n      <td>543.0</td>\n      <td>7.0</td>\n      <td>14.0</td>\n      <td>7939.0</td>\n      <td>88.172314</td>\n      <td>176.344628</td>\n      <td>-1.0</td>\n    </tr>\n    <tr>\n      <th>Sierra de Huelva-Andévalo Central</th>\n      <td>2696.0</td>\n      <td>50.0</td>\n      <td>111.0</td>\n      <td>67391.0</td>\n      <td>74.193883</td>\n      <td>164.710421</td>\n      <td>11.0</td>\n    </tr>\n    <tr>\n      <th>Zarza-Perrunal (La)</th>\n      <td>24.0</td>\n      <td>1.0</td>\n      <td>2.0</td>\n      <td>1253.0</td>\n      <td>79.808460</td>\n      <td>159.616919</td>\n      <td>1.0</td>\n    </tr>\n    <tr>\n      <th>Cartaya</th>\n      <td>1318.0</td>\n      <td>16.0</td>\n      <td>28.0</td>\n      <td>20083.0</td>\n      <td>79.669372</td>\n      <td>139.421401</td>\n      <td>2.0</td>\n    </tr>\n    <tr>\n      <th>Gibraleón</th>\n      <td>611.0</td>\n      <td>6.0</td>\n      <td>16.0</td>\n      <td>12737.0</td>\n      <td>47.106854</td>\n      <td>125.618277</td>\n      <td>3.0</td>\n    </tr>\n    <tr>\n      <th>Beas</th>\n      <td>207.0</td>\n      <td>3.0</td>\n      <td>5.0</td>\n      <td>4341.0</td>\n      <td>69.108500</td>\n      <td>115.180834</td>\n      <td>0.0</td>\n    </tr>\n    <tr>\n      <th>Villablanca</th>\n      <td>187.0</td>\n      <td>2.0</td>\n      <td>3.0</td>\n      <td>2885.0</td>\n      <td>69.324090</td>\n      <td>103.986135</td>\n      <td>0.0</td>\n    </tr>\n    <tr>\n      <th>Alosno</th>\n      <td>166.0</td>\n      <td>2.0</td>\n      <td>4.0</td>\n      <td>3933.0</td>\n      <td>50.851767</td>\n      <td>101.703534</td>\n      <td>0.0</td>\n    </tr>\n    <tr>\n      <th>Zalamea la Real</th>\n      <td>89.0</td>\n      <td>2.0</td>\n      <td>3.0</td>\n      <td>3054.0</td>\n      <td>65.487885</td>\n      <td>98.231827</td>\n      <td>0.0</td>\n    </tr>\n    <tr>\n      <th>Santa Bárbara de Casa</th>\n      <td>15.0</td>\n      <td>1.0</td>\n      <td>1.0</td>\n      <td>1043.0</td>\n      <td>95.877277</td>\n      <td>95.877277</td>\n      <td>NaN</td>\n    </tr>\n    <tr>\n      <th>Lepe</th>\n      <td>2114.0</td>\n      <td>11.0</td>\n      <td>25.0</td>\n      <td>27880.0</td>\n      <td>39.454806</td>\n      <td>89.670014</td>\n      <td>2.0</td>\n    </tr>\n    <tr>\n      <th>Paymogo</th>\n      <td>75.0</td>\n      <td>1.0</td>\n      <td>1.0</td>\n      <td>1162.0</td>\n      <td>86.058520</td>\n      <td>86.058520</td>\n      <td>0.0</td>\n    </tr>\n    <tr>\n      <th>Bonares</th>\n      <td>264.0</td>\n      <td>3.0</td>\n      <td>5.0</td>\n      <td>6060.0</td>\n      <td>49.504950</td>\n      <td>82.508251</td>\n      <td>0.0</td>\n    </tr>\n    <tr>\n      <th>Ayamonte</th>\n      <td>1312.0</td>\n      <td>14.0</td>\n      <td>16.0</td>\n      <td>21104.0</td>\n      <td>66.338135</td>\n      <td>75.815011</td>\n      <td>3.0</td>\n    </tr>\n    <tr>\n      <th>Puebla de Guzmán</th>\n      <td>113.0</td>\n      <td>2.0</td>\n      <td>2.0</td>\n      <td>3092.0</td>\n      <td>64.683053</td>\n      <td>64.683053</td>\n      <td>1.0</td>\n    </tr>\n    <tr>\n      <th>Aracena</th>\n      <td>518.0</td>\n      <td>4.0</td>\n      <td>5.0</td>\n      <td>8255.0</td>\n      <td>48.455482</td>\n      <td>60.569352</td>\n      <td>0.0</td>\n    </tr>\n    <tr>\n      <th>Paterna del Campo</th>\n      <td>127.0</td>\n      <td>1.0</td>\n      <td>2.0</td>\n      <td>3457.0</td>\n      <td>28.926815</td>\n      <td>57.853630</td>\n      <td>NaN</td>\n    </tr>\n    <tr>\n      <th>Villanueva de los Castillejos</th>\n      <td>158.0</td>\n      <td>1.0</td>\n      <td>1.0</td>\n      <td>2825.0</td>\n      <td>35.398230</td>\n      <td>35.398230</td>\n      <td>NaN</td>\n    </tr>\n    <tr>\n      <th>Cortegana</th>\n      <td>201.0</td>\n      <td>1.0</td>\n      <td>1.0</td>\n      <td>4602.0</td>\n      <td>21.729683</td>\n      <td>21.729683</td>\n      <td>NaN</td>\n    </tr>\n  </tbody>\n</table>\n</div>"
     },
     "metadata": {},
     "execution_count": 17
    }
   ],
   "source": [
    "tabla.sort_values('tasa14', ascending=False)"
   ]
  },
  {
   "cell_type": "code",
   "execution_count": 18,
   "metadata": {},
   "outputs": [
    {
     "output_type": "execute_result",
     "data": {
      "text/plain": [
       "Medida                             Confirmados PDIA  Confirmados PDIA 7 días  \\\n",
       "Lugar de residencia                                                            \n",
       "Villalba del Alcor                            481.0                      1.0   \n",
       "San Bartolomé de la Torre                     291.0                      2.0   \n",
       "Isla Cristina                                2134.0                     13.0   \n",
       "Bollullos Par del Condado                     953.0                     28.0   \n",
       "Valverde del Camino                           539.0                     19.0   \n",
       "Gibraleón                                     611.0                      6.0   \n",
       "Niebla                                        214.0                      5.0   \n",
       "Palma del Condado (La)                       1130.0                     33.0   \n",
       "Nerva                                         174.0                      5.0   \n",
       "Lucena del Puerto                             246.0                      5.0   \n",
       "Punta Umbría                                  795.0                     25.0   \n",
       "San Juan del Puerto                           480.0                      9.0   \n",
       "Almonte                                      1747.0                     58.0   \n",
       "Condado-Campiña                              9863.0                    254.0   \n",
       "Lepe                                         2114.0                     11.0   \n",
       "Moguer                                       1236.0                     49.0   \n",
       "Trigueros                                     291.0                      8.0   \n",
       "Huelva (capital)                             8003.0                    171.0   \n",
       "Sierra de Huelva-Andévalo Central            2696.0                     50.0   \n",
       "Huelva                                      30499.0                    593.0   \n",
       "Huelva-Costa                                17596.0                    287.0   \n",
       "Zarza-Perrunal (La)                            24.0                      1.0   \n",
       "Alosno                                        166.0                      2.0   \n",
       "Rociana del Condado                           543.0                      7.0   \n",
       "Paterna del Campo                             127.0                      1.0   \n",
       "Manzanilla                                     95.0                      5.0   \n",
       "Cartaya                                      1318.0                     16.0   \n",
       "Bonares                                       264.0                      3.0   \n",
       "Beas                                          207.0                      3.0   \n",
       "Cabezas Rubias                                 37.0                      3.0   \n",
       "Aljaraque                                    1054.0                     25.0   \n",
       "Villablanca                                   187.0                      2.0   \n",
       "Zalamea la Real                                89.0                      2.0   \n",
       "Palos de la Frontera                          628.0                     19.0   \n",
       "Villarrasa                                    165.0                     12.0   \n",
       "Cerro de Andévalo (El)                        143.0                      5.0   \n",
       "Calañas                                       189.0                     11.0   \n",
       "Aracena                                       518.0                      4.0   \n",
       "Ayamonte                                     1312.0                     14.0   \n",
       "Villanueva de los Castillejos                 158.0                      1.0   \n",
       "Cortegana                                     201.0                      1.0   \n",
       "Puebla de Guzmán                              113.0                      2.0   \n",
       "Paymogo                                        75.0                      1.0   \n",
       "Campofrío                                       9.0                      2.0   \n",
       "Santa Bárbara de Casa                          15.0                      1.0   \n",
       "\n",
       "Medida                             Confirmados PDIA 14 días  Población  \\\n",
       "Lugar de residencia                                                      \n",
       "Villalba del Alcor                                      9.0     3366.0   \n",
       "San Bartolomé de la Torre                               8.0     3761.0   \n",
       "Isla Cristina                                          38.0    21393.0   \n",
       "Bollullos Par del Condado                              77.0    14387.0   \n",
       "Valverde del Camino                                    52.0    12750.0   \n",
       "Gibraleón                                              16.0    12737.0   \n",
       "Niebla                                                 13.0     4116.0   \n",
       "Palma del Condado (La)                                 82.0    10801.0   \n",
       "Nerva                                                  12.0     5169.0   \n",
       "Lucena del Puerto                                      12.0     3261.0   \n",
       "Punta Umbría                                           59.0    15355.0   \n",
       "San Juan del Puerto                                    21.0     9411.0   \n",
       "Almonte                                               135.0    24507.0   \n",
       "Condado-Campiña                                       585.0   156231.0   \n",
       "Lepe                                                   25.0    27880.0   \n",
       "Moguer                                                111.0    21867.0   \n",
       "Trigueros                                              18.0     7862.0   \n",
       "Huelva (capital)                                      382.0   143837.0   \n",
       "Sierra de Huelva-Andévalo Central                     111.0    67391.0   \n",
       "Huelva                                               1305.0   513170.0   \n",
       "Huelva-Costa                                          606.0   289548.0   \n",
       "Zarza-Perrunal (La)                                     2.0     1253.0   \n",
       "Alosno                                                  4.0     3933.0   \n",
       "Rociana del Condado                                    14.0     7939.0   \n",
       "Paterna del Campo                                       2.0     3457.0   \n",
       "Manzanilla                                              9.0     2118.0   \n",
       "Cartaya                                                28.0    20083.0   \n",
       "Bonares                                                 5.0     6060.0   \n",
       "Beas                                                    5.0     4341.0   \n",
       "Cabezas Rubias                                          5.0      706.0   \n",
       "Aljaraque                                              41.0    21474.0   \n",
       "Villablanca                                             3.0     2885.0   \n",
       "Zalamea la Real                                         3.0     3054.0   \n",
       "Palos de la Frontera                                   27.0    11742.0   \n",
       "Villarrasa                                             17.0     2211.0   \n",
       "Cerro de Andévalo (El)                                  7.0     2327.0   \n",
       "Calañas                                                15.0     2768.0   \n",
       "Aracena                                                 5.0     8255.0   \n",
       "Ayamonte                                               16.0    21104.0   \n",
       "Villanueva de los Castillejos                           1.0     2825.0   \n",
       "Cortegana                                               1.0     4602.0   \n",
       "Puebla de Guzmán                                        2.0     3092.0   \n",
       "Paymogo                                                 1.0     1162.0   \n",
       "Campofrío                                               2.0      713.0   \n",
       "Santa Bárbara de Casa                                   1.0     1043.0   \n",
       "\n",
       "Medida                                  tasa7      tasa14  Diferencia PDIA  \\\n",
       "Lugar de residencia                                                          \n",
       "Villalba del Alcor                  29.708853  267.379679              0.0   \n",
       "San Bartolomé de la Torre           53.177346  212.709386              0.0   \n",
       "Isla Cristina                       60.767541  177.628196              3.0   \n",
       "Bollullos Par del Condado          194.620143  535.205394              3.0   \n",
       "Valverde del Camino                149.019608  407.843137              3.0   \n",
       "Gibraleón                           47.106854  125.618277              3.0   \n",
       "Niebla                             121.477162  315.840622              2.0   \n",
       "Palma del Condado (La)             305.527266  759.188964             12.0   \n",
       "Nerva                               96.730509  232.153221              1.0   \n",
       "Lucena del Puerto                  153.327200  367.985281              0.0   \n",
       "Punta Umbría                       162.813416  384.239661              6.0   \n",
       "San Juan del Puerto                 95.632770  223.143130              1.0   \n",
       "Almonte                            236.667075  550.863019              4.0   \n",
       "Condado-Campiña                    162.579770  374.445533             44.0   \n",
       "Lepe                                39.454806   89.670014              2.0   \n",
       "Moguer                             224.081950  507.614213             13.0   \n",
       "Trigueros                          101.755279  228.949377              0.0   \n",
       "Huelva (capital)                   118.884571  265.578398             48.0   \n",
       "Sierra de Huelva-Andévalo Central   74.193883  164.710421             11.0   \n",
       "Huelva                             115.556248  254.301693            131.0   \n",
       "Huelva-Costa                        99.120008  209.291724             76.0   \n",
       "Zarza-Perrunal (La)                 79.808460  159.616919              1.0   \n",
       "Alosno                              50.851767  101.703534              0.0   \n",
       "Rociana del Condado                 88.172314  176.344628             -1.0   \n",
       "Paterna del Campo                   28.926815   57.853630              0.0   \n",
       "Manzanilla                         236.071766  424.929178              0.0   \n",
       "Cartaya                             79.669372  139.421401              2.0   \n",
       "Bonares                             49.504950   82.508251              0.0   \n",
       "Beas                                69.108500  115.180834              0.0   \n",
       "Cabezas Rubias                     424.929178  708.215297              1.0   \n",
       "Aljaraque                          116.419857  190.928565              8.0   \n",
       "Villablanca                         69.324090  103.986135              0.0   \n",
       "Zalamea la Real                     65.487885   98.231827              0.0   \n",
       "Palos de la Frontera               161.812298  229.943792              6.0   \n",
       "Villarrasa                         542.740841  768.882858              0.0   \n",
       "Cerro de Andévalo (El)             214.868930  300.816502              4.0   \n",
       "Calañas                            397.398844  541.907514              1.0   \n",
       "Aracena                             48.455482   60.569352              0.0   \n",
       "Ayamonte                            66.338135   75.815011              3.0   \n",
       "Villanueva de los Castillejos       35.398230   35.398230              0.0   \n",
       "Cortegana                           21.729683   21.729683              0.0   \n",
       "Puebla de Guzmán                    64.683053   64.683053              1.0   \n",
       "Paymogo                             86.058520   86.058520              0.0   \n",
       "Campofrío                          280.504909  280.504909              0.0   \n",
       "Santa Bárbara de Casa               95.877277   95.877277              0.0   \n",
       "\n",
       "Medida                                 7/14  \n",
       "Lugar de residencia                          \n",
       "Villalba del Alcor                 0.111111  \n",
       "San Bartolomé de la Torre          0.250000  \n",
       "Isla Cristina                      0.342105  \n",
       "Bollullos Par del Condado          0.363636  \n",
       "Valverde del Camino                0.365385  \n",
       "Gibraleón                          0.375000  \n",
       "Niebla                             0.384615  \n",
       "Palma del Condado (La)             0.402439  \n",
       "Nerva                              0.416667  \n",
       "Lucena del Puerto                  0.416667  \n",
       "Punta Umbría                       0.423729  \n",
       "San Juan del Puerto                0.428571  \n",
       "Almonte                            0.429630  \n",
       "Condado-Campiña                    0.434188  \n",
       "Lepe                               0.440000  \n",
       "Moguer                             0.441441  \n",
       "Trigueros                          0.444444  \n",
       "Huelva (capital)                   0.447644  \n",
       "Sierra de Huelva-Andévalo Central  0.450450  \n",
       "Huelva                             0.454406  \n",
       "Huelva-Costa                       0.473597  \n",
       "Zarza-Perrunal (La)                0.500000  \n",
       "Alosno                             0.500000  \n",
       "Rociana del Condado                0.500000  \n",
       "Paterna del Campo                  0.500000  \n",
       "Manzanilla                         0.555556  \n",
       "Cartaya                            0.571429  \n",
       "Bonares                            0.600000  \n",
       "Beas                               0.600000  \n",
       "Cabezas Rubias                     0.600000  \n",
       "Aljaraque                          0.609756  \n",
       "Villablanca                        0.666667  \n",
       "Zalamea la Real                    0.666667  \n",
       "Palos de la Frontera               0.703704  \n",
       "Villarrasa                         0.705882  \n",
       "Cerro de Andévalo (El)             0.714286  \n",
       "Calañas                            0.733333  \n",
       "Aracena                            0.800000  \n",
       "Ayamonte                           0.875000  \n",
       "Villanueva de los Castillejos      1.000000  \n",
       "Cortegana                          1.000000  \n",
       "Puebla de Guzmán                   1.000000  \n",
       "Paymogo                            1.000000  \n",
       "Campofrío                          1.000000  \n",
       "Santa Bárbara de Casa              1.000000  "
      ],
      "text/html": "<div>\n<style scoped>\n    .dataframe tbody tr th:only-of-type {\n        vertical-align: middle;\n    }\n\n    .dataframe tbody tr th {\n        vertical-align: top;\n    }\n\n    .dataframe thead th {\n        text-align: right;\n    }\n</style>\n<table border=\"1\" class=\"dataframe\">\n  <thead>\n    <tr style=\"text-align: right;\">\n      <th>Medida</th>\n      <th>Confirmados PDIA</th>\n      <th>Confirmados PDIA 7 días</th>\n      <th>Confirmados PDIA 14 días</th>\n      <th>Población</th>\n      <th>tasa7</th>\n      <th>tasa14</th>\n      <th>Diferencia PDIA</th>\n      <th>7/14</th>\n    </tr>\n    <tr>\n      <th>Lugar de residencia</th>\n      <th></th>\n      <th></th>\n      <th></th>\n      <th></th>\n      <th></th>\n      <th></th>\n      <th></th>\n      <th></th>\n    </tr>\n  </thead>\n  <tbody>\n    <tr>\n      <th>Villalba del Alcor</th>\n      <td>481.0</td>\n      <td>1.0</td>\n      <td>9.0</td>\n      <td>3366.0</td>\n      <td>29.708853</td>\n      <td>267.379679</td>\n      <td>0.0</td>\n      <td>0.111111</td>\n    </tr>\n    <tr>\n      <th>San Bartolomé de la Torre</th>\n      <td>291.0</td>\n      <td>2.0</td>\n      <td>8.0</td>\n      <td>3761.0</td>\n      <td>53.177346</td>\n      <td>212.709386</td>\n      <td>0.0</td>\n      <td>0.250000</td>\n    </tr>\n    <tr>\n      <th>Isla Cristina</th>\n      <td>2134.0</td>\n      <td>13.0</td>\n      <td>38.0</td>\n      <td>21393.0</td>\n      <td>60.767541</td>\n      <td>177.628196</td>\n      <td>3.0</td>\n      <td>0.342105</td>\n    </tr>\n    <tr>\n      <th>Bollullos Par del Condado</th>\n      <td>953.0</td>\n      <td>28.0</td>\n      <td>77.0</td>\n      <td>14387.0</td>\n      <td>194.620143</td>\n      <td>535.205394</td>\n      <td>3.0</td>\n      <td>0.363636</td>\n    </tr>\n    <tr>\n      <th>Valverde del Camino</th>\n      <td>539.0</td>\n      <td>19.0</td>\n      <td>52.0</td>\n      <td>12750.0</td>\n      <td>149.019608</td>\n      <td>407.843137</td>\n      <td>3.0</td>\n      <td>0.365385</td>\n    </tr>\n    <tr>\n      <th>Gibraleón</th>\n      <td>611.0</td>\n      <td>6.0</td>\n      <td>16.0</td>\n      <td>12737.0</td>\n      <td>47.106854</td>\n      <td>125.618277</td>\n      <td>3.0</td>\n      <td>0.375000</td>\n    </tr>\n    <tr>\n      <th>Niebla</th>\n      <td>214.0</td>\n      <td>5.0</td>\n      <td>13.0</td>\n      <td>4116.0</td>\n      <td>121.477162</td>\n      <td>315.840622</td>\n      <td>2.0</td>\n      <td>0.384615</td>\n    </tr>\n    <tr>\n      <th>Palma del Condado (La)</th>\n      <td>1130.0</td>\n      <td>33.0</td>\n      <td>82.0</td>\n      <td>10801.0</td>\n      <td>305.527266</td>\n      <td>759.188964</td>\n      <td>12.0</td>\n      <td>0.402439</td>\n    </tr>\n    <tr>\n      <th>Nerva</th>\n      <td>174.0</td>\n      <td>5.0</td>\n      <td>12.0</td>\n      <td>5169.0</td>\n      <td>96.730509</td>\n      <td>232.153221</td>\n      <td>1.0</td>\n      <td>0.416667</td>\n    </tr>\n    <tr>\n      <th>Lucena del Puerto</th>\n      <td>246.0</td>\n      <td>5.0</td>\n      <td>12.0</td>\n      <td>3261.0</td>\n      <td>153.327200</td>\n      <td>367.985281</td>\n      <td>0.0</td>\n      <td>0.416667</td>\n    </tr>\n    <tr>\n      <th>Punta Umbría</th>\n      <td>795.0</td>\n      <td>25.0</td>\n      <td>59.0</td>\n      <td>15355.0</td>\n      <td>162.813416</td>\n      <td>384.239661</td>\n      <td>6.0</td>\n      <td>0.423729</td>\n    </tr>\n    <tr>\n      <th>San Juan del Puerto</th>\n      <td>480.0</td>\n      <td>9.0</td>\n      <td>21.0</td>\n      <td>9411.0</td>\n      <td>95.632770</td>\n      <td>223.143130</td>\n      <td>1.0</td>\n      <td>0.428571</td>\n    </tr>\n    <tr>\n      <th>Almonte</th>\n      <td>1747.0</td>\n      <td>58.0</td>\n      <td>135.0</td>\n      <td>24507.0</td>\n      <td>236.667075</td>\n      <td>550.863019</td>\n      <td>4.0</td>\n      <td>0.429630</td>\n    </tr>\n    <tr>\n      <th>Condado-Campiña</th>\n      <td>9863.0</td>\n      <td>254.0</td>\n      <td>585.0</td>\n      <td>156231.0</td>\n      <td>162.579770</td>\n      <td>374.445533</td>\n      <td>44.0</td>\n      <td>0.434188</td>\n    </tr>\n    <tr>\n      <th>Lepe</th>\n      <td>2114.0</td>\n      <td>11.0</td>\n      <td>25.0</td>\n      <td>27880.0</td>\n      <td>39.454806</td>\n      <td>89.670014</td>\n      <td>2.0</td>\n      <td>0.440000</td>\n    </tr>\n    <tr>\n      <th>Moguer</th>\n      <td>1236.0</td>\n      <td>49.0</td>\n      <td>111.0</td>\n      <td>21867.0</td>\n      <td>224.081950</td>\n      <td>507.614213</td>\n      <td>13.0</td>\n      <td>0.441441</td>\n    </tr>\n    <tr>\n      <th>Trigueros</th>\n      <td>291.0</td>\n      <td>8.0</td>\n      <td>18.0</td>\n      <td>7862.0</td>\n      <td>101.755279</td>\n      <td>228.949377</td>\n      <td>0.0</td>\n      <td>0.444444</td>\n    </tr>\n    <tr>\n      <th>Huelva (capital)</th>\n      <td>8003.0</td>\n      <td>171.0</td>\n      <td>382.0</td>\n      <td>143837.0</td>\n      <td>118.884571</td>\n      <td>265.578398</td>\n      <td>48.0</td>\n      <td>0.447644</td>\n    </tr>\n    <tr>\n      <th>Sierra de Huelva-Andévalo Central</th>\n      <td>2696.0</td>\n      <td>50.0</td>\n      <td>111.0</td>\n      <td>67391.0</td>\n      <td>74.193883</td>\n      <td>164.710421</td>\n      <td>11.0</td>\n      <td>0.450450</td>\n    </tr>\n    <tr>\n      <th>Huelva</th>\n      <td>30499.0</td>\n      <td>593.0</td>\n      <td>1305.0</td>\n      <td>513170.0</td>\n      <td>115.556248</td>\n      <td>254.301693</td>\n      <td>131.0</td>\n      <td>0.454406</td>\n    </tr>\n    <tr>\n      <th>Huelva-Costa</th>\n      <td>17596.0</td>\n      <td>287.0</td>\n      <td>606.0</td>\n      <td>289548.0</td>\n      <td>99.120008</td>\n      <td>209.291724</td>\n      <td>76.0</td>\n      <td>0.473597</td>\n    </tr>\n    <tr>\n      <th>Zarza-Perrunal (La)</th>\n      <td>24.0</td>\n      <td>1.0</td>\n      <td>2.0</td>\n      <td>1253.0</td>\n      <td>79.808460</td>\n      <td>159.616919</td>\n      <td>1.0</td>\n      <td>0.500000</td>\n    </tr>\n    <tr>\n      <th>Alosno</th>\n      <td>166.0</td>\n      <td>2.0</td>\n      <td>4.0</td>\n      <td>3933.0</td>\n      <td>50.851767</td>\n      <td>101.703534</td>\n      <td>0.0</td>\n      <td>0.500000</td>\n    </tr>\n    <tr>\n      <th>Rociana del Condado</th>\n      <td>543.0</td>\n      <td>7.0</td>\n      <td>14.0</td>\n      <td>7939.0</td>\n      <td>88.172314</td>\n      <td>176.344628</td>\n      <td>-1.0</td>\n      <td>0.500000</td>\n    </tr>\n    <tr>\n      <th>Paterna del Campo</th>\n      <td>127.0</td>\n      <td>1.0</td>\n      <td>2.0</td>\n      <td>3457.0</td>\n      <td>28.926815</td>\n      <td>57.853630</td>\n      <td>0.0</td>\n      <td>0.500000</td>\n    </tr>\n    <tr>\n      <th>Manzanilla</th>\n      <td>95.0</td>\n      <td>5.0</td>\n      <td>9.0</td>\n      <td>2118.0</td>\n      <td>236.071766</td>\n      <td>424.929178</td>\n      <td>0.0</td>\n      <td>0.555556</td>\n    </tr>\n    <tr>\n      <th>Cartaya</th>\n      <td>1318.0</td>\n      <td>16.0</td>\n      <td>28.0</td>\n      <td>20083.0</td>\n      <td>79.669372</td>\n      <td>139.421401</td>\n      <td>2.0</td>\n      <td>0.571429</td>\n    </tr>\n    <tr>\n      <th>Bonares</th>\n      <td>264.0</td>\n      <td>3.0</td>\n      <td>5.0</td>\n      <td>6060.0</td>\n      <td>49.504950</td>\n      <td>82.508251</td>\n      <td>0.0</td>\n      <td>0.600000</td>\n    </tr>\n    <tr>\n      <th>Beas</th>\n      <td>207.0</td>\n      <td>3.0</td>\n      <td>5.0</td>\n      <td>4341.0</td>\n      <td>69.108500</td>\n      <td>115.180834</td>\n      <td>0.0</td>\n      <td>0.600000</td>\n    </tr>\n    <tr>\n      <th>Cabezas Rubias</th>\n      <td>37.0</td>\n      <td>3.0</td>\n      <td>5.0</td>\n      <td>706.0</td>\n      <td>424.929178</td>\n      <td>708.215297</td>\n      <td>1.0</td>\n      <td>0.600000</td>\n    </tr>\n    <tr>\n      <th>Aljaraque</th>\n      <td>1054.0</td>\n      <td>25.0</td>\n      <td>41.0</td>\n      <td>21474.0</td>\n      <td>116.419857</td>\n      <td>190.928565</td>\n      <td>8.0</td>\n      <td>0.609756</td>\n    </tr>\n    <tr>\n      <th>Villablanca</th>\n      <td>187.0</td>\n      <td>2.0</td>\n      <td>3.0</td>\n      <td>2885.0</td>\n      <td>69.324090</td>\n      <td>103.986135</td>\n      <td>0.0</td>\n      <td>0.666667</td>\n    </tr>\n    <tr>\n      <th>Zalamea la Real</th>\n      <td>89.0</td>\n      <td>2.0</td>\n      <td>3.0</td>\n      <td>3054.0</td>\n      <td>65.487885</td>\n      <td>98.231827</td>\n      <td>0.0</td>\n      <td>0.666667</td>\n    </tr>\n    <tr>\n      <th>Palos de la Frontera</th>\n      <td>628.0</td>\n      <td>19.0</td>\n      <td>27.0</td>\n      <td>11742.0</td>\n      <td>161.812298</td>\n      <td>229.943792</td>\n      <td>6.0</td>\n      <td>0.703704</td>\n    </tr>\n    <tr>\n      <th>Villarrasa</th>\n      <td>165.0</td>\n      <td>12.0</td>\n      <td>17.0</td>\n      <td>2211.0</td>\n      <td>542.740841</td>\n      <td>768.882858</td>\n      <td>0.0</td>\n      <td>0.705882</td>\n    </tr>\n    <tr>\n      <th>Cerro de Andévalo (El)</th>\n      <td>143.0</td>\n      <td>5.0</td>\n      <td>7.0</td>\n      <td>2327.0</td>\n      <td>214.868930</td>\n      <td>300.816502</td>\n      <td>4.0</td>\n      <td>0.714286</td>\n    </tr>\n    <tr>\n      <th>Calañas</th>\n      <td>189.0</td>\n      <td>11.0</td>\n      <td>15.0</td>\n      <td>2768.0</td>\n      <td>397.398844</td>\n      <td>541.907514</td>\n      <td>1.0</td>\n      <td>0.733333</td>\n    </tr>\n    <tr>\n      <th>Aracena</th>\n      <td>518.0</td>\n      <td>4.0</td>\n      <td>5.0</td>\n      <td>8255.0</td>\n      <td>48.455482</td>\n      <td>60.569352</td>\n      <td>0.0</td>\n      <td>0.800000</td>\n    </tr>\n    <tr>\n      <th>Ayamonte</th>\n      <td>1312.0</td>\n      <td>14.0</td>\n      <td>16.0</td>\n      <td>21104.0</td>\n      <td>66.338135</td>\n      <td>75.815011</td>\n      <td>3.0</td>\n      <td>0.875000</td>\n    </tr>\n    <tr>\n      <th>Villanueva de los Castillejos</th>\n      <td>158.0</td>\n      <td>1.0</td>\n      <td>1.0</td>\n      <td>2825.0</td>\n      <td>35.398230</td>\n      <td>35.398230</td>\n      <td>0.0</td>\n      <td>1.000000</td>\n    </tr>\n    <tr>\n      <th>Cortegana</th>\n      <td>201.0</td>\n      <td>1.0</td>\n      <td>1.0</td>\n      <td>4602.0</td>\n      <td>21.729683</td>\n      <td>21.729683</td>\n      <td>0.0</td>\n      <td>1.000000</td>\n    </tr>\n    <tr>\n      <th>Puebla de Guzmán</th>\n      <td>113.0</td>\n      <td>2.0</td>\n      <td>2.0</td>\n      <td>3092.0</td>\n      <td>64.683053</td>\n      <td>64.683053</td>\n      <td>1.0</td>\n      <td>1.000000</td>\n    </tr>\n    <tr>\n      <th>Paymogo</th>\n      <td>75.0</td>\n      <td>1.0</td>\n      <td>1.0</td>\n      <td>1162.0</td>\n      <td>86.058520</td>\n      <td>86.058520</td>\n      <td>0.0</td>\n      <td>1.000000</td>\n    </tr>\n    <tr>\n      <th>Campofrío</th>\n      <td>9.0</td>\n      <td>2.0</td>\n      <td>2.0</td>\n      <td>713.0</td>\n      <td>280.504909</td>\n      <td>280.504909</td>\n      <td>0.0</td>\n      <td>1.000000</td>\n    </tr>\n    <tr>\n      <th>Santa Bárbara de Casa</th>\n      <td>15.0</td>\n      <td>1.0</td>\n      <td>1.0</td>\n      <td>1043.0</td>\n      <td>95.877277</td>\n      <td>95.877277</td>\n      <td>0.0</td>\n      <td>1.000000</td>\n    </tr>\n  </tbody>\n</table>\n</div>"
     },
     "metadata": {},
     "execution_count": 18
    }
   ],
   "source": [
    "# Peso de la tasa de la última semana en relación con la tasa a 14 días \n",
    "# Mejor cuanto menor. Valor 1 significa que no había casos antes de 7 días.\n",
    "tabla['7/14'] = tabla['tasa7'] / tabla['tasa14']\n",
    "tabla.fillna(0).sort_values('7/14', ascending=True)"
   ]
  },
  {
   "cell_type": "code",
   "execution_count": null,
   "metadata": {},
   "outputs": [],
   "source": []
  }
 ]
}