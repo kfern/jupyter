{
 "metadata": {
  "language_info": {
   "codemirror_mode": {
    "name": "ipython",
    "version": 3
   },
   "file_extension": ".py",
   "mimetype": "text/x-python",
   "name": "python",
   "nbconvert_exporter": "python",
   "pygments_lexer": "ipython3",
   "version": "3.6.9-final"
  },
  "orig_nbformat": 2,
  "kernelspec": {
   "name": "python_defaultSpec_1599504750090",
   "display_name": "Python 3.6.9 64-bit"
  }
 },
 "nbformat": 4,
 "nbformat_minor": 2,
 "cells": [
  {
   "cell_type": "code",
   "execution_count": 1,
   "metadata": {},
   "outputs": [],
   "source": [
    "import pandas as pd"
   ]
  },
  {
   "cell_type": "code",
   "execution_count": 2,
   "metadata": {},
   "outputs": [],
   "source": [
    "url = 'https://www.juntadeandalucia.es/institutodeestadisticaycartografia/badea/stpivot/stpivot/Print?cube=013d884c-cfc5-4c21-9e78-e26225682afd&type=3&foto=si&ejecutaDesde=&codConsulta=38668&consTipoVisua=JP'\n",
    "fields = ['Lugar de residencia', 'Medida', 'Valor']\n",
    "df = pd.read_csv(url, delimiter=';', usecols=fields)"
   ]
  },
  {
   "cell_type": "code",
   "execution_count": 3,
   "metadata": {
    "tags": []
   },
   "outputs": [
    {
     "output_type": "stream",
     "name": "stdout",
     "text": "Confirmados PCR en la provincia de Huelva:  797.0\n"
    }
   ],
   "source": [
    "# Confirmados PCR provincia Huelva\n",
    "p = df[df['Lugar de residencia'] == 'Huelva'][df['Medida'] == 'Confirmados PCR']['Valor'].values[0]\n",
    "print('Confirmados PCR en la provincia de Huelva: ', p)"
   ]
  },
  {
   "cell_type": "code",
   "execution_count": 4,
   "metadata": {
    "tags": []
   },
   "outputs": [
    {
     "output_type": "stream",
     "name": "stdout",
     "text": "Confirmados PCR en Huelva capital:  219.0\n"
    }
   ],
   "source": [
    "# Confirmados PCR Huelva capital\n",
    "c = df[df['Lugar de residencia'] == 'Huelva (capital)'][df['Medida'] == 'Confirmados PCR']['Valor'].values[0]\n",
    "print('Confirmados PCR en Huelva capital: ', c)"
   ]
  },
  {
   "cell_type": "code",
   "execution_count": 5,
   "metadata": {
    "tags": []
   },
   "outputs": [],
   "source": [
    "c7 = df[df['Lugar de residencia'] == 'Huelva (capital)'][df['Medida'] == 'Confirmados PCR 7 días']['Valor'].values[0]\n",
    "c14 = df[df['Lugar de residencia'] == 'Huelva (capital)'][df['Medida'] == 'Confirmados PCR 14 días']['Valor'].values[0]\n",
    "p = df[df['Lugar de residencia'] == 'Huelva (capital)'][df['Medida'] == 'Población']['Valor'].values[0]"
   ]
  },
  {
   "cell_type": "code",
   "execution_count": 6,
   "metadata": {
    "tags": []
   },
   "outputs": [
    {
     "output_type": "stream",
     "name": "stdout",
     "text": "Huelva (capital)\n\nConfirmados PCR 7 días x 1,000 habitantes:  0.11137\nUn positivo PCR cada 8979 personas en los últimos 7 días \n\nConfirmados PCR 14 días x 1,000 habitantes:  0.20882\nUn positivo PCR cada 4789 personas en los últimos 14 días\n"
    }
   ],
   "source": [
    "print('Huelva (capital)\\n')\n",
    "print('Confirmados PCR 7 días x 1,000 habitantes: ', f\"{c7/(p/1000):.5f}\")\n",
    "print('Un positivo PCR cada', f\"{p/c7:.0f}\", 'personas en los últimos 7 días', '\\n')\n",
    "print('Confirmados PCR 14 días x 1,000 habitantes: ', f\"{c14/(p/1000):.5f}\")\n",
    "print('Un positivo PCR cada', f\"{p/c14:.0f}\", 'personas en los últimos 14 días')"
   ]
  },
  {
   "cell_type": "code",
   "execution_count": 7,
   "metadata": {},
   "outputs": [],
   "source": [
    "filtro = ((df['Medida'] == 'Confirmados PCR')| (df['Medida'] == 'Confirmados PCR 7 días') | (df['Medida'] == 'Población' ) | (df['Medida'] == 'Confirmados PCR 14 días')) & (df['Valor'] > 0)\n",
    "tabla = pd.pivot_table(df.loc[filtro], values='Valor', index='Lugar de residencia', columns='Medida').dropna()"
   ]
  },
  {
   "cell_type": "code",
   "execution_count": 8,
   "metadata": {},
   "outputs": [],
   "source": [
    "# Reorder columns\n",
    "tabla = tabla[['Confirmados PCR', 'Confirmados PCR 7 días', 'Confirmados PCR 14 días', 'Población']]"
   ]
  },
  {
   "cell_type": "code",
   "execution_count": 9,
   "metadata": {},
   "outputs": [],
   "source": [
    "tabla['tasa7'] = tabla['Confirmados PCR 7 días']/tabla['Población']*100000\n",
    "tabla['tasa14'] = tabla['Confirmados PCR 14 días']/tabla['Población']*100000"
   ]
  },
  {
   "cell_type": "code",
   "execution_count": 10,
   "metadata": {},
   "outputs": [
    {
     "output_type": "execute_result",
     "data": {
      "text/plain": "Medida                             Confirmados PCR  Confirmados PCR 7 días  \\\nLugar de residencia                                                          \nAljaraque                                     45.0                     2.0   \nAlmonte                                       41.0                     8.0   \nAyamonte                                      15.0                     4.0   \nBollullos Par del Condado                     18.0                     6.0   \nCabezas Rubias                                 2.0                     1.0   \nCondado-Campiña                              229.0                    39.0   \nCorteconcepción                                3.0                     1.0   \nCortegana                                      8.0                     4.0   \nEscacena del Campo                             9.0                     5.0   \nGibraleón                                     11.0                     1.0   \nHuelva                                       797.0                   100.0   \nHuelva (capital)                             219.0                    16.0   \nHuelva-Costa                                 420.0                    49.0   \nIsla Cristina                                 31.0                    14.0   \nLepe                                          55.0                     6.0   \nMinas de Riotinto                             14.0                     3.0   \nMoguer                                        23.0                     2.0   \nPalma del Condado (La)                        23.0                     3.0   \nPunta Umbría                                  20.0                     6.0   \nRociana del Condado                            4.0                     1.0   \nSierra de Huelva-Andévalo Central            139.0                    11.0   \nTrigueros                                     26.0                     1.0   \nValverde del Camino                           23.0                     2.0   \nVillalba del Alcor                            22.0                    12.0   \nZalamea la Real                               14.0                     1.0   \n\nMedida                             Confirmados PCR 14 días  Población  \\\nLugar de residencia                                                     \nAljaraque                                             15.0    21260.0   \nAlmonte                                               10.0    24191.0   \nAyamonte                                               5.0    20946.0   \nBollullos Par del Condado                              7.0    14272.0   \nCabezas Rubias                                         2.0      730.0   \nCondado-Campiña                                       66.0   155057.0   \nCorteconcepción                                        2.0      548.0   \nCortegana                                              4.0     4666.0   \nEscacena del Campo                                     8.0     2284.0   \nGibraleón                                              1.0    12607.0   \nHuelva                                               195.0   510743.0   \nHuelva (capital)                                      30.0   143663.0   \nHuelva-Costa                                          99.0   288115.0   \nIsla Cristina                                         19.0    21264.0   \nLepe                                                  20.0    27431.0   \nMinas de Riotinto                                     10.0     3848.0   \nMoguer                                                 5.0    22088.0   \nPalma del Condado (La)                                 5.0    10761.0   \nPunta Umbría                                           6.0    15242.0   \nRociana del Condado                                    1.0     7855.0   \nSierra de Huelva-Andévalo Central                     24.0    67571.0   \nTrigueros                                              2.0     7713.0   \nValverde del Camino                                    4.0    12820.0   \nVillalba del Alcor                                    20.0     3338.0   \nZalamea la Real                                        3.0     3068.0   \n\nMedida                                  tasa7      tasa14  \nLugar de residencia                                        \nAljaraque                            9.407338   70.555033  \nAlmonte                             33.070150   41.337688  \nAyamonte                            19.096725   23.870906  \nBollullos Par del Condado           42.040359   49.047085  \nCabezas Rubias                     136.986301  273.972603  \nCondado-Campiña                     25.152041   42.564992  \nCorteconcepción                    182.481752  364.963504  \nCortegana                           85.726532   85.726532  \nEscacena del Campo                 218.914186  350.262697  \nGibraleón                            7.932101    7.932101  \nHuelva                              19.579319   38.179672  \nHuelva (capital)                    11.137175   20.882203  \nHuelva-Costa                        17.007098   34.361279  \nIsla Cristina                       65.838977   89.352897  \nLepe                                21.873063   72.910211  \nMinas de Riotinto                   77.962578  259.875260  \nMoguer                               9.054690   22.636726  \nPalma del Condado (La)              27.878450   46.464083  \nPunta Umbría                        39.364913   39.364913  \nRociana del Condado                 12.730745   12.730745  \nSierra de Huelva-Andévalo Central   16.279173   35.518196  \nTrigueros                           12.965124   25.930248  \nValverde del Camino                 15.600624   31.201248  \nVillalba del Alcor                 359.496705  599.161174  \nZalamea la Real                     32.594524   97.783572  ",
      "text/html": "<div>\n<style scoped>\n    .dataframe tbody tr th:only-of-type {\n        vertical-align: middle;\n    }\n\n    .dataframe tbody tr th {\n        vertical-align: top;\n    }\n\n    .dataframe thead th {\n        text-align: right;\n    }\n</style>\n<table border=\"1\" class=\"dataframe\">\n  <thead>\n    <tr style=\"text-align: right;\">\n      <th>Medida</th>\n      <th>Confirmados PCR</th>\n      <th>Confirmados PCR 7 días</th>\n      <th>Confirmados PCR 14 días</th>\n      <th>Población</th>\n      <th>tasa7</th>\n      <th>tasa14</th>\n    </tr>\n    <tr>\n      <th>Lugar de residencia</th>\n      <th></th>\n      <th></th>\n      <th></th>\n      <th></th>\n      <th></th>\n      <th></th>\n    </tr>\n  </thead>\n  <tbody>\n    <tr>\n      <th>Aljaraque</th>\n      <td>45.0</td>\n      <td>2.0</td>\n      <td>15.0</td>\n      <td>21260.0</td>\n      <td>9.407338</td>\n      <td>70.555033</td>\n    </tr>\n    <tr>\n      <th>Almonte</th>\n      <td>41.0</td>\n      <td>8.0</td>\n      <td>10.0</td>\n      <td>24191.0</td>\n      <td>33.070150</td>\n      <td>41.337688</td>\n    </tr>\n    <tr>\n      <th>Ayamonte</th>\n      <td>15.0</td>\n      <td>4.0</td>\n      <td>5.0</td>\n      <td>20946.0</td>\n      <td>19.096725</td>\n      <td>23.870906</td>\n    </tr>\n    <tr>\n      <th>Bollullos Par del Condado</th>\n      <td>18.0</td>\n      <td>6.0</td>\n      <td>7.0</td>\n      <td>14272.0</td>\n      <td>42.040359</td>\n      <td>49.047085</td>\n    </tr>\n    <tr>\n      <th>Cabezas Rubias</th>\n      <td>2.0</td>\n      <td>1.0</td>\n      <td>2.0</td>\n      <td>730.0</td>\n      <td>136.986301</td>\n      <td>273.972603</td>\n    </tr>\n    <tr>\n      <th>Condado-Campiña</th>\n      <td>229.0</td>\n      <td>39.0</td>\n      <td>66.0</td>\n      <td>155057.0</td>\n      <td>25.152041</td>\n      <td>42.564992</td>\n    </tr>\n    <tr>\n      <th>Corteconcepción</th>\n      <td>3.0</td>\n      <td>1.0</td>\n      <td>2.0</td>\n      <td>548.0</td>\n      <td>182.481752</td>\n      <td>364.963504</td>\n    </tr>\n    <tr>\n      <th>Cortegana</th>\n      <td>8.0</td>\n      <td>4.0</td>\n      <td>4.0</td>\n      <td>4666.0</td>\n      <td>85.726532</td>\n      <td>85.726532</td>\n    </tr>\n    <tr>\n      <th>Escacena del Campo</th>\n      <td>9.0</td>\n      <td>5.0</td>\n      <td>8.0</td>\n      <td>2284.0</td>\n      <td>218.914186</td>\n      <td>350.262697</td>\n    </tr>\n    <tr>\n      <th>Gibraleón</th>\n      <td>11.0</td>\n      <td>1.0</td>\n      <td>1.0</td>\n      <td>12607.0</td>\n      <td>7.932101</td>\n      <td>7.932101</td>\n    </tr>\n    <tr>\n      <th>Huelva</th>\n      <td>797.0</td>\n      <td>100.0</td>\n      <td>195.0</td>\n      <td>510743.0</td>\n      <td>19.579319</td>\n      <td>38.179672</td>\n    </tr>\n    <tr>\n      <th>Huelva (capital)</th>\n      <td>219.0</td>\n      <td>16.0</td>\n      <td>30.0</td>\n      <td>143663.0</td>\n      <td>11.137175</td>\n      <td>20.882203</td>\n    </tr>\n    <tr>\n      <th>Huelva-Costa</th>\n      <td>420.0</td>\n      <td>49.0</td>\n      <td>99.0</td>\n      <td>288115.0</td>\n      <td>17.007098</td>\n      <td>34.361279</td>\n    </tr>\n    <tr>\n      <th>Isla Cristina</th>\n      <td>31.0</td>\n      <td>14.0</td>\n      <td>19.0</td>\n      <td>21264.0</td>\n      <td>65.838977</td>\n      <td>89.352897</td>\n    </tr>\n    <tr>\n      <th>Lepe</th>\n      <td>55.0</td>\n      <td>6.0</td>\n      <td>20.0</td>\n      <td>27431.0</td>\n      <td>21.873063</td>\n      <td>72.910211</td>\n    </tr>\n    <tr>\n      <th>Minas de Riotinto</th>\n      <td>14.0</td>\n      <td>3.0</td>\n      <td>10.0</td>\n      <td>3848.0</td>\n      <td>77.962578</td>\n      <td>259.875260</td>\n    </tr>\n    <tr>\n      <th>Moguer</th>\n      <td>23.0</td>\n      <td>2.0</td>\n      <td>5.0</td>\n      <td>22088.0</td>\n      <td>9.054690</td>\n      <td>22.636726</td>\n    </tr>\n    <tr>\n      <th>Palma del Condado (La)</th>\n      <td>23.0</td>\n      <td>3.0</td>\n      <td>5.0</td>\n      <td>10761.0</td>\n      <td>27.878450</td>\n      <td>46.464083</td>\n    </tr>\n    <tr>\n      <th>Punta Umbría</th>\n      <td>20.0</td>\n      <td>6.0</td>\n      <td>6.0</td>\n      <td>15242.0</td>\n      <td>39.364913</td>\n      <td>39.364913</td>\n    </tr>\n    <tr>\n      <th>Rociana del Condado</th>\n      <td>4.0</td>\n      <td>1.0</td>\n      <td>1.0</td>\n      <td>7855.0</td>\n      <td>12.730745</td>\n      <td>12.730745</td>\n    </tr>\n    <tr>\n      <th>Sierra de Huelva-Andévalo Central</th>\n      <td>139.0</td>\n      <td>11.0</td>\n      <td>24.0</td>\n      <td>67571.0</td>\n      <td>16.279173</td>\n      <td>35.518196</td>\n    </tr>\n    <tr>\n      <th>Trigueros</th>\n      <td>26.0</td>\n      <td>1.0</td>\n      <td>2.0</td>\n      <td>7713.0</td>\n      <td>12.965124</td>\n      <td>25.930248</td>\n    </tr>\n    <tr>\n      <th>Valverde del Camino</th>\n      <td>23.0</td>\n      <td>2.0</td>\n      <td>4.0</td>\n      <td>12820.0</td>\n      <td>15.600624</td>\n      <td>31.201248</td>\n    </tr>\n    <tr>\n      <th>Villalba del Alcor</th>\n      <td>22.0</td>\n      <td>12.0</td>\n      <td>20.0</td>\n      <td>3338.0</td>\n      <td>359.496705</td>\n      <td>599.161174</td>\n    </tr>\n    <tr>\n      <th>Zalamea la Real</th>\n      <td>14.0</td>\n      <td>1.0</td>\n      <td>3.0</td>\n      <td>3068.0</td>\n      <td>32.594524</td>\n      <td>97.783572</td>\n    </tr>\n  </tbody>\n</table>\n</div>"
     },
     "metadata": {},
     "execution_count": 10
    }
   ],
   "source": [
    "# Resultado ordenado por Lugar de residencia\n",
    "tabla"
   ]
  },
  {
   "cell_type": "code",
   "execution_count": 11,
   "metadata": {},
   "outputs": [
    {
     "output_type": "execute_result",
     "data": {
      "text/plain": "Medida                             Confirmados PCR  Confirmados PCR 7 días  \\\nLugar de residencia                                                          \nVillalba del Alcor                            22.0                    12.0   \nCorteconcepción                                3.0                     1.0   \nEscacena del Campo                             9.0                     5.0   \nCabezas Rubias                                 2.0                     1.0   \nMinas de Riotinto                             14.0                     3.0   \nZalamea la Real                               14.0                     1.0   \nIsla Cristina                                 31.0                    14.0   \nCortegana                                      8.0                     4.0   \nLepe                                          55.0                     6.0   \nAljaraque                                     45.0                     2.0   \nBollullos Par del Condado                     18.0                     6.0   \nPalma del Condado (La)                        23.0                     3.0   \nCondado-Campiña                              229.0                    39.0   \nAlmonte                                       41.0                     8.0   \nPunta Umbría                                  20.0                     6.0   \nHuelva                                       797.0                   100.0   \nSierra de Huelva-Andévalo Central            139.0                    11.0   \nHuelva-Costa                                 420.0                    49.0   \nValverde del Camino                           23.0                     2.0   \nTrigueros                                     26.0                     1.0   \nAyamonte                                      15.0                     4.0   \nMoguer                                        23.0                     2.0   \nHuelva (capital)                             219.0                    16.0   \nRociana del Condado                            4.0                     1.0   \nGibraleón                                     11.0                     1.0   \n\nMedida                             Confirmados PCR 14 días  Población  \\\nLugar de residencia                                                     \nVillalba del Alcor                                    20.0     3338.0   \nCorteconcepción                                        2.0      548.0   \nEscacena del Campo                                     8.0     2284.0   \nCabezas Rubias                                         2.0      730.0   \nMinas de Riotinto                                     10.0     3848.0   \nZalamea la Real                                        3.0     3068.0   \nIsla Cristina                                         19.0    21264.0   \nCortegana                                              4.0     4666.0   \nLepe                                                  20.0    27431.0   \nAljaraque                                             15.0    21260.0   \nBollullos Par del Condado                              7.0    14272.0   \nPalma del Condado (La)                                 5.0    10761.0   \nCondado-Campiña                                       66.0   155057.0   \nAlmonte                                               10.0    24191.0   \nPunta Umbría                                           6.0    15242.0   \nHuelva                                               195.0   510743.0   \nSierra de Huelva-Andévalo Central                     24.0    67571.0   \nHuelva-Costa                                          99.0   288115.0   \nValverde del Camino                                    4.0    12820.0   \nTrigueros                                              2.0     7713.0   \nAyamonte                                               5.0    20946.0   \nMoguer                                                 5.0    22088.0   \nHuelva (capital)                                      30.0   143663.0   \nRociana del Condado                                    1.0     7855.0   \nGibraleón                                              1.0    12607.0   \n\nMedida                                  tasa7      tasa14  \nLugar de residencia                                        \nVillalba del Alcor                 359.496705  599.161174  \nCorteconcepción                    182.481752  364.963504  \nEscacena del Campo                 218.914186  350.262697  \nCabezas Rubias                     136.986301  273.972603  \nMinas de Riotinto                   77.962578  259.875260  \nZalamea la Real                     32.594524   97.783572  \nIsla Cristina                       65.838977   89.352897  \nCortegana                           85.726532   85.726532  \nLepe                                21.873063   72.910211  \nAljaraque                            9.407338   70.555033  \nBollullos Par del Condado           42.040359   49.047085  \nPalma del Condado (La)              27.878450   46.464083  \nCondado-Campiña                     25.152041   42.564992  \nAlmonte                             33.070150   41.337688  \nPunta Umbría                        39.364913   39.364913  \nHuelva                              19.579319   38.179672  \nSierra de Huelva-Andévalo Central   16.279173   35.518196  \nHuelva-Costa                        17.007098   34.361279  \nValverde del Camino                 15.600624   31.201248  \nTrigueros                           12.965124   25.930248  \nAyamonte                            19.096725   23.870906  \nMoguer                               9.054690   22.636726  \nHuelva (capital)                    11.137175   20.882203  \nRociana del Condado                 12.730745   12.730745  \nGibraleón                            7.932101    7.932101  ",
      "text/html": "<div>\n<style scoped>\n    .dataframe tbody tr th:only-of-type {\n        vertical-align: middle;\n    }\n\n    .dataframe tbody tr th {\n        vertical-align: top;\n    }\n\n    .dataframe thead th {\n        text-align: right;\n    }\n</style>\n<table border=\"1\" class=\"dataframe\">\n  <thead>\n    <tr style=\"text-align: right;\">\n      <th>Medida</th>\n      <th>Confirmados PCR</th>\n      <th>Confirmados PCR 7 días</th>\n      <th>Confirmados PCR 14 días</th>\n      <th>Población</th>\n      <th>tasa7</th>\n      <th>tasa14</th>\n    </tr>\n    <tr>\n      <th>Lugar de residencia</th>\n      <th></th>\n      <th></th>\n      <th></th>\n      <th></th>\n      <th></th>\n      <th></th>\n    </tr>\n  </thead>\n  <tbody>\n    <tr>\n      <th>Villalba del Alcor</th>\n      <td>22.0</td>\n      <td>12.0</td>\n      <td>20.0</td>\n      <td>3338.0</td>\n      <td>359.496705</td>\n      <td>599.161174</td>\n    </tr>\n    <tr>\n      <th>Corteconcepción</th>\n      <td>3.0</td>\n      <td>1.0</td>\n      <td>2.0</td>\n      <td>548.0</td>\n      <td>182.481752</td>\n      <td>364.963504</td>\n    </tr>\n    <tr>\n      <th>Escacena del Campo</th>\n      <td>9.0</td>\n      <td>5.0</td>\n      <td>8.0</td>\n      <td>2284.0</td>\n      <td>218.914186</td>\n      <td>350.262697</td>\n    </tr>\n    <tr>\n      <th>Cabezas Rubias</th>\n      <td>2.0</td>\n      <td>1.0</td>\n      <td>2.0</td>\n      <td>730.0</td>\n      <td>136.986301</td>\n      <td>273.972603</td>\n    </tr>\n    <tr>\n      <th>Minas de Riotinto</th>\n      <td>14.0</td>\n      <td>3.0</td>\n      <td>10.0</td>\n      <td>3848.0</td>\n      <td>77.962578</td>\n      <td>259.875260</td>\n    </tr>\n    <tr>\n      <th>Zalamea la Real</th>\n      <td>14.0</td>\n      <td>1.0</td>\n      <td>3.0</td>\n      <td>3068.0</td>\n      <td>32.594524</td>\n      <td>97.783572</td>\n    </tr>\n    <tr>\n      <th>Isla Cristina</th>\n      <td>31.0</td>\n      <td>14.0</td>\n      <td>19.0</td>\n      <td>21264.0</td>\n      <td>65.838977</td>\n      <td>89.352897</td>\n    </tr>\n    <tr>\n      <th>Cortegana</th>\n      <td>8.0</td>\n      <td>4.0</td>\n      <td>4.0</td>\n      <td>4666.0</td>\n      <td>85.726532</td>\n      <td>85.726532</td>\n    </tr>\n    <tr>\n      <th>Lepe</th>\n      <td>55.0</td>\n      <td>6.0</td>\n      <td>20.0</td>\n      <td>27431.0</td>\n      <td>21.873063</td>\n      <td>72.910211</td>\n    </tr>\n    <tr>\n      <th>Aljaraque</th>\n      <td>45.0</td>\n      <td>2.0</td>\n      <td>15.0</td>\n      <td>21260.0</td>\n      <td>9.407338</td>\n      <td>70.555033</td>\n    </tr>\n    <tr>\n      <th>Bollullos Par del Condado</th>\n      <td>18.0</td>\n      <td>6.0</td>\n      <td>7.0</td>\n      <td>14272.0</td>\n      <td>42.040359</td>\n      <td>49.047085</td>\n    </tr>\n    <tr>\n      <th>Palma del Condado (La)</th>\n      <td>23.0</td>\n      <td>3.0</td>\n      <td>5.0</td>\n      <td>10761.0</td>\n      <td>27.878450</td>\n      <td>46.464083</td>\n    </tr>\n    <tr>\n      <th>Condado-Campiña</th>\n      <td>229.0</td>\n      <td>39.0</td>\n      <td>66.0</td>\n      <td>155057.0</td>\n      <td>25.152041</td>\n      <td>42.564992</td>\n    </tr>\n    <tr>\n      <th>Almonte</th>\n      <td>41.0</td>\n      <td>8.0</td>\n      <td>10.0</td>\n      <td>24191.0</td>\n      <td>33.070150</td>\n      <td>41.337688</td>\n    </tr>\n    <tr>\n      <th>Punta Umbría</th>\n      <td>20.0</td>\n      <td>6.0</td>\n      <td>6.0</td>\n      <td>15242.0</td>\n      <td>39.364913</td>\n      <td>39.364913</td>\n    </tr>\n    <tr>\n      <th>Huelva</th>\n      <td>797.0</td>\n      <td>100.0</td>\n      <td>195.0</td>\n      <td>510743.0</td>\n      <td>19.579319</td>\n      <td>38.179672</td>\n    </tr>\n    <tr>\n      <th>Sierra de Huelva-Andévalo Central</th>\n      <td>139.0</td>\n      <td>11.0</td>\n      <td>24.0</td>\n      <td>67571.0</td>\n      <td>16.279173</td>\n      <td>35.518196</td>\n    </tr>\n    <tr>\n      <th>Huelva-Costa</th>\n      <td>420.0</td>\n      <td>49.0</td>\n      <td>99.0</td>\n      <td>288115.0</td>\n      <td>17.007098</td>\n      <td>34.361279</td>\n    </tr>\n    <tr>\n      <th>Valverde del Camino</th>\n      <td>23.0</td>\n      <td>2.0</td>\n      <td>4.0</td>\n      <td>12820.0</td>\n      <td>15.600624</td>\n      <td>31.201248</td>\n    </tr>\n    <tr>\n      <th>Trigueros</th>\n      <td>26.0</td>\n      <td>1.0</td>\n      <td>2.0</td>\n      <td>7713.0</td>\n      <td>12.965124</td>\n      <td>25.930248</td>\n    </tr>\n    <tr>\n      <th>Ayamonte</th>\n      <td>15.0</td>\n      <td>4.0</td>\n      <td>5.0</td>\n      <td>20946.0</td>\n      <td>19.096725</td>\n      <td>23.870906</td>\n    </tr>\n    <tr>\n      <th>Moguer</th>\n      <td>23.0</td>\n      <td>2.0</td>\n      <td>5.0</td>\n      <td>22088.0</td>\n      <td>9.054690</td>\n      <td>22.636726</td>\n    </tr>\n    <tr>\n      <th>Huelva (capital)</th>\n      <td>219.0</td>\n      <td>16.0</td>\n      <td>30.0</td>\n      <td>143663.0</td>\n      <td>11.137175</td>\n      <td>20.882203</td>\n    </tr>\n    <tr>\n      <th>Rociana del Condado</th>\n      <td>4.0</td>\n      <td>1.0</td>\n      <td>1.0</td>\n      <td>7855.0</td>\n      <td>12.730745</td>\n      <td>12.730745</td>\n    </tr>\n    <tr>\n      <th>Gibraleón</th>\n      <td>11.0</td>\n      <td>1.0</td>\n      <td>1.0</td>\n      <td>12607.0</td>\n      <td>7.932101</td>\n      <td>7.932101</td>\n    </tr>\n  </tbody>\n</table>\n</div>"
     },
     "metadata": {},
     "execution_count": 11
    }
   ],
   "source": [
    "tabla.sort_values('tasa14', ascending=False)"
   ]
  },
  {
   "cell_type": "code",
   "execution_count": null,
   "metadata": {},
   "outputs": [],
   "source": []
  }
 ]
}