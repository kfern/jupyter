{
 "metadata": {
  "language_info": {
   "codemirror_mode": {
    "name": "ipython",
    "version": 3
   },
   "file_extension": ".py",
   "mimetype": "text/x-python",
   "name": "python",
   "nbconvert_exporter": "python",
   "pygments_lexer": "ipython3",
   "version": "3.8.6"
  },
  "orig_nbformat": 2,
  "kernelspec": {
   "name": "python3",
   "display_name": "Python 3",
   "language": "python"
  }
 },
 "nbformat": 4,
 "nbformat_minor": 2,
 "cells": [
  {
   "cell_type": "code",
   "execution_count": 1,
   "metadata": {},
   "outputs": [],
   "source": [
    "import pandas as pd\n",
    "pd.set_option('display.max_rows', None) # Print all rows"
   ]
  },
  {
   "cell_type": "code",
   "execution_count": 2,
   "metadata": {},
   "outputs": [],
   "source": [
    "# FIX SSL: CERTIFICATE_VERIFY_FAILED with Python3\n",
    "# https://stackoverflow.com/a/49174340\n",
    "import ssl\n",
    "\n",
    "ssl._create_default_https_context = ssl._create_unverified_context"
   ]
  },
  {
   "cell_type": "code",
   "execution_count": 3,
   "metadata": {},
   "outputs": [],
   "source": [
    "url = 'https://www.juntadeandalucia.es/institutodeestadisticaycartografia/badea/stpivot/stpivot/Print?cube=013d884c-cfc5-4c21-9e78-e26225682afd&type=3&foto=si&ejecutaDesde=&codConsulta=38668&consTipoVisua=JP'\n",
    "fields = ['Lugar de residencia', 'Medida', 'Valor']\n",
    "df = pd.read_csv(url, delimiter=';', usecols=fields, decimal=',')"
   ]
  },
  {
   "cell_type": "code",
   "execution_count": 4,
   "metadata": {},
   "outputs": [
    {
     "output_type": "execute_result",
     "data": {
      "text/plain": [
       "  Lugar de residencia                    Medida               Valor\n",
       "0              Huelva                 Población              513170\n",
       "1              Huelva          Confirmados PDIA               31331\n",
       "2              Huelva  Confirmados PDIA 14 días                1422\n",
       "3              Huelva         Tasa PDIA 14 días  277,10115556248417\n",
       "4              Huelva   Confirmados PDIA 7 días                 733\n",
       "5              Huelva        Total Confirmados                31511\n",
       "6              Huelva                   Curados               28904\n",
       "7              Huelva                Fallecidos                 383"
      ],
      "text/html": "<div>\n<style scoped>\n    .dataframe tbody tr th:only-of-type {\n        vertical-align: middle;\n    }\n\n    .dataframe tbody tr th {\n        vertical-align: top;\n    }\n\n    .dataframe thead th {\n        text-align: right;\n    }\n</style>\n<table border=\"1\" class=\"dataframe\">\n  <thead>\n    <tr style=\"text-align: right;\">\n      <th></th>\n      <th>Lugar de residencia</th>\n      <th>Medida</th>\n      <th>Valor</th>\n    </tr>\n  </thead>\n  <tbody>\n    <tr>\n      <th>0</th>\n      <td>Huelva</td>\n      <td>Población</td>\n      <td>513170</td>\n    </tr>\n    <tr>\n      <th>1</th>\n      <td>Huelva</td>\n      <td>Confirmados PDIA</td>\n      <td>31331</td>\n    </tr>\n    <tr>\n      <th>2</th>\n      <td>Huelva</td>\n      <td>Confirmados PDIA 14 días</td>\n      <td>1422</td>\n    </tr>\n    <tr>\n      <th>3</th>\n      <td>Huelva</td>\n      <td>Tasa PDIA 14 días</td>\n      <td>277,10115556248417</td>\n    </tr>\n    <tr>\n      <th>4</th>\n      <td>Huelva</td>\n      <td>Confirmados PDIA 7 días</td>\n      <td>733</td>\n    </tr>\n    <tr>\n      <th>5</th>\n      <td>Huelva</td>\n      <td>Total Confirmados</td>\n      <td>31511</td>\n    </tr>\n    <tr>\n      <th>6</th>\n      <td>Huelva</td>\n      <td>Curados</td>\n      <td>28904</td>\n    </tr>\n    <tr>\n      <th>7</th>\n      <td>Huelva</td>\n      <td>Fallecidos</td>\n      <td>383</td>\n    </tr>\n  </tbody>\n</table>\n</div>"
     },
     "metadata": {},
     "execution_count": 4
    }
   ],
   "source": [
    "df[df['Lugar de residencia'] == 'Huelva']"
   ]
  },
  {
   "cell_type": "code",
   "execution_count": 5,
   "metadata": {},
   "outputs": [],
   "source": [
    "df['Valor'] = pd.to_numeric(df['Valor'],errors='coerce')"
   ]
  },
  {
   "cell_type": "code",
   "execution_count": 6,
   "metadata": {},
   "outputs": [],
   "source": [
    "dfAnterior = pd.read_csv('covid_huelva.csv', index_col='Lugar de residencia')"
   ]
  },
  {
   "cell_type": "code",
   "execution_count": 7,
   "metadata": {
    "tags": []
   },
   "outputs": [
    {
     "output_type": "stream",
     "name": "stdout",
     "text": [
      "Confirmados PCR en la provincia de Huelva:  31331.0\n",
      "<ipython-input-7-31b732756b19>:2: UserWarning: Boolean Series key will be reindexed to match DataFrame index.\n",
      "  p = df[df['Lugar de residencia'] == 'Huelva'][df['Medida'] == 'Confirmados PDIA']['Valor'].values[0]\n"
     ]
    }
   ],
   "source": [
    "# Confirmados PCR provincia Huelva\n",
    "p = df[df['Lugar de residencia'] == 'Huelva'][df['Medida'] == 'Confirmados PDIA']['Valor'].values[0]\n",
    "print('Confirmados PCR en la provincia de Huelva: ', p)"
   ]
  },
  {
   "cell_type": "code",
   "execution_count": 8,
   "metadata": {
    "tags": []
   },
   "outputs": [
    {
     "output_type": "stream",
     "name": "stdout",
     "text": [
      "Confirmados PCR en Huelva capital:  8320.0\n",
      "<ipython-input-8-e81bfb40e710>:2: UserWarning: Boolean Series key will be reindexed to match DataFrame index.\n",
      "  c = df[df['Lugar de residencia'] == 'Huelva (capital)'][df['Medida'] == 'Confirmados PDIA']['Valor'].values[0]\n"
     ]
    }
   ],
   "source": [
    "# Confirmados PCR Huelva capitalpd\n",
    "c = df[df['Lugar de residencia'] == 'Huelva (capital)'][df['Medida'] == 'Confirmados PDIA']['Valor'].values[0]\n",
    "print('Confirmados PCR en Huelva capital: ', c)"
   ]
  },
  {
   "cell_type": "code",
   "execution_count": 9,
   "metadata": {
    "tags": []
   },
   "outputs": [
    {
     "output_type": "stream",
     "name": "stderr",
     "text": [
      "<ipython-input-9-f09dd2050cc1>:1: UserWarning: Boolean Series key will be reindexed to match DataFrame index.\n  c7 = df[df['Lugar de residencia'] == 'Huelva (capital)'][df['Medida'] == 'Confirmados PDIA 7 días']['Valor'].values[0]\n<ipython-input-9-f09dd2050cc1>:2: UserWarning: Boolean Series key will be reindexed to match DataFrame index.\n  c14 = df[df['Lugar de residencia'] == 'Huelva (capital)'][df['Medida'] == 'Confirmados PDIA 14 días']['Valor'].values[0]\n<ipython-input-9-f09dd2050cc1>:3: UserWarning: Boolean Series key will be reindexed to match DataFrame index.\n  p = df[df['Lugar de residencia'] == 'Huelva (capital)'][df['Medida'] == 'Población']['Valor'].values[0]\n"
     ]
    }
   ],
   "source": [
    "c7 = df[df['Lugar de residencia'] == 'Huelva (capital)'][df['Medida'] == 'Confirmados PDIA 7 días']['Valor'].values[0]\n",
    "c14 = df[df['Lugar de residencia'] == 'Huelva (capital)'][df['Medida'] == 'Confirmados PDIA 14 días']['Valor'].values[0]\n",
    "p = df[df['Lugar de residencia'] == 'Huelva (capital)'][df['Medida'] == 'Población']['Valor'].values[0]"
   ]
  },
  {
   "cell_type": "code",
   "execution_count": 10,
   "metadata": {
    "tags": []
   },
   "outputs": [
    {
     "output_type": "stream",
     "name": "stdout",
     "text": [
      "Huelva (capital)\n\nUn positivo PCR cada 519 personas en los últimos 7 días \n\nUn positivo PCR cada 295 personas en los últimos 14 días\n"
     ]
    }
   ],
   "source": [
    "print('Huelva (capital)\\n')\n",
    "#print('Confirmados PCR 7 días x 1,000 habitantes: ', f\"{c7/(p/1000):.5f}\")\n",
    "print('Un positivo PCR cada', f\"{p/c7:.0f}\", 'personas en los últimos 7 días', '\\n')\n",
    "#print('Confirmados PCR 14 días x 1,000 habitantes: ', f\"{c14/(p/1000):.5f}\")\n",
    "print('Un positivo PCR cada', f\"{p/c14:.0f}\", 'personas en los últimos 14 días')"
   ]
  },
  {
   "cell_type": "code",
   "execution_count": 11,
   "metadata": {},
   "outputs": [],
   "source": [
    "filtro = ((df['Medida'] == 'Confirmados PDIA')| (df['Medida'] == 'Confirmados PDIA 7 días') | (df['Medida'] == 'Población' ) | (df['Medida'] == 'Confirmados PDIA 14 días')) & (df['Valor'] > 0)\n",
    "tabla = pd.pivot_table(df.loc[filtro], values='Valor', index='Lugar de residencia', columns='Medida').dropna()"
   ]
  },
  {
   "cell_type": "code",
   "execution_count": 12,
   "metadata": {},
   "outputs": [],
   "source": [
    "# Reorder columns\n",
    "tabla = tabla[['Confirmados PDIA', 'Confirmados PDIA 7 días', 'Confirmados PDIA 14 días', 'Población']]"
   ]
  },
  {
   "cell_type": "code",
   "execution_count": 13,
   "metadata": {},
   "outputs": [],
   "source": [
    "tabla['tasa7'] = tabla['Confirmados PDIA 7 días']/tabla['Población']*100000\n",
    "tabla['tasa14'] = tabla['Confirmados PDIA 14 días']/tabla['Población']*100000"
   ]
  },
  {
   "cell_type": "code",
   "execution_count": 14,
   "metadata": {},
   "outputs": [],
   "source": [
    "tabla['Diferencia PDIA'] = tabla['Confirmados PDIA'] - dfAnterior['Confirmados PDIA']"
   ]
  },
  {
   "cell_type": "code",
   "execution_count": 15,
   "metadata": {},
   "outputs": [
    {
     "output_type": "execute_result",
     "data": {
      "text/plain": [
       "Medida                             Confirmados PDIA  Confirmados PDIA 7 días  \\\n",
       "Lugar de residencia                                                            \n",
       "Huelva                                      31331.0                    733.0   \n",
       "Huelva-Costa                                18028.0                    378.0   \n",
       "Huelva (capital)                             8320.0                    277.0   \n",
       "Condado-Campiña                             10188.0                    281.0   \n",
       "Sierra de Huelva-Andévalo Central            2767.0                     71.0   \n",
       "Palos de la Frontera                          662.0                     29.0   \n",
       "Valverde del Camino                           576.0                     37.0   \n",
       "Moguer                                       1289.0                     45.0   \n",
       "Aljaraque                                    1093.0                     35.0   \n",
       "Gibraleón                                     631.0                     18.0   \n",
       "Cartaya                                      1341.0                     23.0   \n",
       "Cortegana                                     206.0                      5.0   \n",
       "San Bartolomé de la Torre                     299.0                      8.0   \n",
       "Palma del Condado (La)                       1149.0                     16.0   \n",
       "Punta Umbría                                  808.0                     11.0   \n",
       "Rociana del Condado                           557.0                     13.0   \n",
       "Villanueva de los Castillejos                 162.0                      4.0   \n",
       "Almonte                                      1817.0                     65.0   \n",
       "Bollullos Par del Condado                     975.0                     20.0   \n",
       "Niebla                                        235.0                     16.0   \n",
       "Aracena                                       527.0                      9.0   \n",
       "Puebla de Guzmán                              116.0                      3.0   \n",
       "San Juan del Puerto                           501.0                     16.0   \n",
       "Manzanilla                                     99.0                      2.0   \n",
       "Lucena del Puerto                             253.0                      5.0   \n",
       "Isla Cristina                                2148.0                     12.0   \n",
       "Calañas                                       191.0                      2.0   \n",
       "Villarrasa                                    172.0                      6.0   \n",
       "Alosno                                        167.0                      1.0   \n",
       "\n",
       "Medida                             Confirmados PDIA 14 días  Población  \\\n",
       "Lugar de residencia                                                      \n",
       "Huelva                                               1422.0   513170.0   \n",
       "Huelva-Costa                                          717.0   289548.0   \n",
       "Huelva (capital)                                      487.0   143837.0   \n",
       "Condado-Campiña                                       578.0   156231.0   \n",
       "Sierra de Huelva-Andévalo Central                     121.0    67391.0   \n",
       "Palos de la Frontera                                   53.0    11742.0   \n",
       "Valverde del Camino                                    56.0    12750.0   \n",
       "Moguer                                                102.0    21867.0   \n",
       "Aljaraque                                              64.0    21474.0   \n",
       "Gibraleón                                              26.0    12737.0   \n",
       "Cartaya                                                39.0    20083.0   \n",
       "Cortegana                                               6.0     4602.0   \n",
       "San Bartolomé de la Torre                              10.0     3761.0   \n",
       "Palma del Condado (La)                                 52.0    10801.0   \n",
       "Punta Umbría                                           37.0    15355.0   \n",
       "Rociana del Condado                                    21.0     7939.0   \n",
       "Villanueva de los Castillejos                           5.0     2825.0   \n",
       "Almonte                                               128.0    24507.0   \n",
       "Bollullos Par del Condado                              50.0    14387.0   \n",
       "Niebla                                                 26.0     4116.0   \n",
       "Aracena                                                13.0     8255.0   \n",
       "Puebla de Guzmán                                        5.0     3092.0   \n",
       "San Juan del Puerto                                    30.0     9411.0   \n",
       "Manzanilla                                              9.0     2118.0   \n",
       "Lucena del Puerto                                      12.0     3261.0   \n",
       "Isla Cristina                                          27.0    21393.0   \n",
       "Calañas                                                13.0     2768.0   \n",
       "Villarrasa                                             19.0     2211.0   \n",
       "Alosno                                                  3.0     3933.0   \n",
       "\n",
       "Medida                                  tasa7      tasa14  Diferencia PDIA  \n",
       "Lugar de residencia                                                         \n",
       "Huelva                             142.837656  277.101156            174.0  \n",
       "Huelva-Costa                       130.548303  247.627336             92.0  \n",
       "Huelva (capital)                   192.579100  338.577696             68.0  \n",
       "Condado-Campiña                    179.861871  369.964988             59.0  \n",
       "Sierra de Huelva-Andévalo Central  105.355315  179.549198             21.0  \n",
       "Palos de la Frontera               246.976665  451.371146             18.0  \n",
       "Valverde del Camino                290.196078  439.215686             14.0  \n",
       "Moguer                             205.789546  466.456304             13.0  \n",
       "Aljaraque                          162.987799  298.034833              8.0  \n",
       "Gibraleón                          141.320562  204.129701              8.0  \n",
       "Cartaya                            114.524722  194.194095              7.0  \n",
       "Cortegana                          108.648414  130.378096              4.0  \n",
       "San Bartolomé de la Torre          212.709386  265.886732              4.0  \n",
       "Palma del Condado (La)             148.134432  481.436904              3.0  \n",
       "Punta Umbría                        71.637903  240.963855              3.0  \n",
       "Rociana del Condado                163.748583  264.516942              3.0  \n",
       "Villanueva de los Castillejos      141.592920  176.991150              2.0  \n",
       "Almonte                            265.230342  522.299751              2.0  \n",
       "Bollullos Par del Condado          139.014388  347.535970              2.0  \n",
       "Niebla                             388.726919  631.681244              2.0  \n",
       "Aracena                            109.024833  157.480315              2.0  \n",
       "Puebla de Guzmán                    97.024580  161.707633              2.0  \n",
       "San Juan del Puerto                170.013814  318.775901              1.0  \n",
       "Manzanilla                          94.428706  424.929178              1.0  \n",
       "Lucena del Puerto                  153.327200  367.985281              1.0  \n",
       "Isla Cristina                       56.093115  126.209508              1.0  \n",
       "Calañas                             72.254335  469.653179              1.0  \n",
       "Villarrasa                         271.370421  859.339665              1.0  \n",
       "Alosno                              25.425884   76.277651              NaN  "
      ],
      "text/html": "<div>\n<style scoped>\n    .dataframe tbody tr th:only-of-type {\n        vertical-align: middle;\n    }\n\n    .dataframe tbody tr th {\n        vertical-align: top;\n    }\n\n    .dataframe thead th {\n        text-align: right;\n    }\n</style>\n<table border=\"1\" class=\"dataframe\">\n  <thead>\n    <tr style=\"text-align: right;\">\n      <th>Medida</th>\n      <th>Confirmados PDIA</th>\n      <th>Confirmados PDIA 7 días</th>\n      <th>Confirmados PDIA 14 días</th>\n      <th>Población</th>\n      <th>tasa7</th>\n      <th>tasa14</th>\n      <th>Diferencia PDIA</th>\n    </tr>\n    <tr>\n      <th>Lugar de residencia</th>\n      <th></th>\n      <th></th>\n      <th></th>\n      <th></th>\n      <th></th>\n      <th></th>\n      <th></th>\n    </tr>\n  </thead>\n  <tbody>\n    <tr>\n      <th>Huelva</th>\n      <td>31331.0</td>\n      <td>733.0</td>\n      <td>1422.0</td>\n      <td>513170.0</td>\n      <td>142.837656</td>\n      <td>277.101156</td>\n      <td>174.0</td>\n    </tr>\n    <tr>\n      <th>Huelva-Costa</th>\n      <td>18028.0</td>\n      <td>378.0</td>\n      <td>717.0</td>\n      <td>289548.0</td>\n      <td>130.548303</td>\n      <td>247.627336</td>\n      <td>92.0</td>\n    </tr>\n    <tr>\n      <th>Huelva (capital)</th>\n      <td>8320.0</td>\n      <td>277.0</td>\n      <td>487.0</td>\n      <td>143837.0</td>\n      <td>192.579100</td>\n      <td>338.577696</td>\n      <td>68.0</td>\n    </tr>\n    <tr>\n      <th>Condado-Campiña</th>\n      <td>10188.0</td>\n      <td>281.0</td>\n      <td>578.0</td>\n      <td>156231.0</td>\n      <td>179.861871</td>\n      <td>369.964988</td>\n      <td>59.0</td>\n    </tr>\n    <tr>\n      <th>Sierra de Huelva-Andévalo Central</th>\n      <td>2767.0</td>\n      <td>71.0</td>\n      <td>121.0</td>\n      <td>67391.0</td>\n      <td>105.355315</td>\n      <td>179.549198</td>\n      <td>21.0</td>\n    </tr>\n    <tr>\n      <th>Palos de la Frontera</th>\n      <td>662.0</td>\n      <td>29.0</td>\n      <td>53.0</td>\n      <td>11742.0</td>\n      <td>246.976665</td>\n      <td>451.371146</td>\n      <td>18.0</td>\n    </tr>\n    <tr>\n      <th>Valverde del Camino</th>\n      <td>576.0</td>\n      <td>37.0</td>\n      <td>56.0</td>\n      <td>12750.0</td>\n      <td>290.196078</td>\n      <td>439.215686</td>\n      <td>14.0</td>\n    </tr>\n    <tr>\n      <th>Moguer</th>\n      <td>1289.0</td>\n      <td>45.0</td>\n      <td>102.0</td>\n      <td>21867.0</td>\n      <td>205.789546</td>\n      <td>466.456304</td>\n      <td>13.0</td>\n    </tr>\n    <tr>\n      <th>Aljaraque</th>\n      <td>1093.0</td>\n      <td>35.0</td>\n      <td>64.0</td>\n      <td>21474.0</td>\n      <td>162.987799</td>\n      <td>298.034833</td>\n      <td>8.0</td>\n    </tr>\n    <tr>\n      <th>Gibraleón</th>\n      <td>631.0</td>\n      <td>18.0</td>\n      <td>26.0</td>\n      <td>12737.0</td>\n      <td>141.320562</td>\n      <td>204.129701</td>\n      <td>8.0</td>\n    </tr>\n    <tr>\n      <th>Cartaya</th>\n      <td>1341.0</td>\n      <td>23.0</td>\n      <td>39.0</td>\n      <td>20083.0</td>\n      <td>114.524722</td>\n      <td>194.194095</td>\n      <td>7.0</td>\n    </tr>\n    <tr>\n      <th>Cortegana</th>\n      <td>206.0</td>\n      <td>5.0</td>\n      <td>6.0</td>\n      <td>4602.0</td>\n      <td>108.648414</td>\n      <td>130.378096</td>\n      <td>4.0</td>\n    </tr>\n    <tr>\n      <th>San Bartolomé de la Torre</th>\n      <td>299.0</td>\n      <td>8.0</td>\n      <td>10.0</td>\n      <td>3761.0</td>\n      <td>212.709386</td>\n      <td>265.886732</td>\n      <td>4.0</td>\n    </tr>\n    <tr>\n      <th>Palma del Condado (La)</th>\n      <td>1149.0</td>\n      <td>16.0</td>\n      <td>52.0</td>\n      <td>10801.0</td>\n      <td>148.134432</td>\n      <td>481.436904</td>\n      <td>3.0</td>\n    </tr>\n    <tr>\n      <th>Punta Umbría</th>\n      <td>808.0</td>\n      <td>11.0</td>\n      <td>37.0</td>\n      <td>15355.0</td>\n      <td>71.637903</td>\n      <td>240.963855</td>\n      <td>3.0</td>\n    </tr>\n    <tr>\n      <th>Rociana del Condado</th>\n      <td>557.0</td>\n      <td>13.0</td>\n      <td>21.0</td>\n      <td>7939.0</td>\n      <td>163.748583</td>\n      <td>264.516942</td>\n      <td>3.0</td>\n    </tr>\n    <tr>\n      <th>Villanueva de los Castillejos</th>\n      <td>162.0</td>\n      <td>4.0</td>\n      <td>5.0</td>\n      <td>2825.0</td>\n      <td>141.592920</td>\n      <td>176.991150</td>\n      <td>2.0</td>\n    </tr>\n    <tr>\n      <th>Almonte</th>\n      <td>1817.0</td>\n      <td>65.0</td>\n      <td>128.0</td>\n      <td>24507.0</td>\n      <td>265.230342</td>\n      <td>522.299751</td>\n      <td>2.0</td>\n    </tr>\n    <tr>\n      <th>Bollullos Par del Condado</th>\n      <td>975.0</td>\n      <td>20.0</td>\n      <td>50.0</td>\n      <td>14387.0</td>\n      <td>139.014388</td>\n      <td>347.535970</td>\n      <td>2.0</td>\n    </tr>\n    <tr>\n      <th>Niebla</th>\n      <td>235.0</td>\n      <td>16.0</td>\n      <td>26.0</td>\n      <td>4116.0</td>\n      <td>388.726919</td>\n      <td>631.681244</td>\n      <td>2.0</td>\n    </tr>\n    <tr>\n      <th>Aracena</th>\n      <td>527.0</td>\n      <td>9.0</td>\n      <td>13.0</td>\n      <td>8255.0</td>\n      <td>109.024833</td>\n      <td>157.480315</td>\n      <td>2.0</td>\n    </tr>\n    <tr>\n      <th>Puebla de Guzmán</th>\n      <td>116.0</td>\n      <td>3.0</td>\n      <td>5.0</td>\n      <td>3092.0</td>\n      <td>97.024580</td>\n      <td>161.707633</td>\n      <td>2.0</td>\n    </tr>\n    <tr>\n      <th>San Juan del Puerto</th>\n      <td>501.0</td>\n      <td>16.0</td>\n      <td>30.0</td>\n      <td>9411.0</td>\n      <td>170.013814</td>\n      <td>318.775901</td>\n      <td>1.0</td>\n    </tr>\n    <tr>\n      <th>Manzanilla</th>\n      <td>99.0</td>\n      <td>2.0</td>\n      <td>9.0</td>\n      <td>2118.0</td>\n      <td>94.428706</td>\n      <td>424.929178</td>\n      <td>1.0</td>\n    </tr>\n    <tr>\n      <th>Lucena del Puerto</th>\n      <td>253.0</td>\n      <td>5.0</td>\n      <td>12.0</td>\n      <td>3261.0</td>\n      <td>153.327200</td>\n      <td>367.985281</td>\n      <td>1.0</td>\n    </tr>\n    <tr>\n      <th>Isla Cristina</th>\n      <td>2148.0</td>\n      <td>12.0</td>\n      <td>27.0</td>\n      <td>21393.0</td>\n      <td>56.093115</td>\n      <td>126.209508</td>\n      <td>1.0</td>\n    </tr>\n    <tr>\n      <th>Calañas</th>\n      <td>191.0</td>\n      <td>2.0</td>\n      <td>13.0</td>\n      <td>2768.0</td>\n      <td>72.254335</td>\n      <td>469.653179</td>\n      <td>1.0</td>\n    </tr>\n    <tr>\n      <th>Villarrasa</th>\n      <td>172.0</td>\n      <td>6.0</td>\n      <td>19.0</td>\n      <td>2211.0</td>\n      <td>271.370421</td>\n      <td>859.339665</td>\n      <td>1.0</td>\n    </tr>\n    <tr>\n      <th>Alosno</th>\n      <td>167.0</td>\n      <td>1.0</td>\n      <td>3.0</td>\n      <td>3933.0</td>\n      <td>25.425884</td>\n      <td>76.277651</td>\n      <td>NaN</td>\n    </tr>\n  </tbody>\n</table>\n</div>"
     },
     "metadata": {},
     "execution_count": 15
    }
   ],
   "source": [
    "# Nuevos casos desde la última captura\n",
    "tabla[tabla['Diferencia PDIA'] != 0].sort_values('Diferencia PDIA', ascending=False)"
   ]
  },
  {
   "cell_type": "code",
   "execution_count": 16,
   "metadata": {},
   "outputs": [],
   "source": [
    "if tabla[tabla['Diferencia PDIA'] != 0]['Diferencia PDIA'].sum() != 0:\n",
    "  # Save to csv\n",
    "  tabla.to_csv('covid_huelva.csv', encoding='utf-8', header=True, index=True)  "
   ]
  },
  {
   "cell_type": "code",
   "execution_count": 17,
   "metadata": {},
   "outputs": [
    {
     "output_type": "execute_result",
     "data": {
      "text/plain": [
       "Medida                             Confirmados PDIA  Confirmados PDIA 7 días  \\\n",
       "Lugar de residencia                                                            \n",
       "Villarrasa                                    172.0                      6.0   \n",
       "Niebla                                        235.0                     16.0   \n",
       "Almonte                                      1817.0                     65.0   \n",
       "Palma del Condado (La)                       1149.0                     16.0   \n",
       "Calañas                                       191.0                      2.0   \n",
       "Moguer                                       1289.0                     45.0   \n",
       "Palos de la Frontera                          662.0                     29.0   \n",
       "Valverde del Camino                           576.0                     37.0   \n",
       "Manzanilla                                     99.0                      2.0   \n",
       "Campofrío                                      10.0                      1.0   \n",
       "Granada de Río-Tinto (La)                       3.0                      1.0   \n",
       "Condado-Campiña                             10188.0                    281.0   \n",
       "Lucena del Puerto                             253.0                      5.0   \n",
       "Bollullos Par del Condado                     975.0                     20.0   \n",
       "Cerro de Andévalo (El)                        146.0                      3.0   \n",
       "Huelva (capital)                             8320.0                    277.0   \n",
       "San Juan del Puerto                           501.0                     16.0   \n",
       "Aljaraque                                    1093.0                     35.0   \n",
       "Huelva                                      31331.0                    733.0   \n",
       "Trigueros                                     305.0                     13.0   \n",
       "San Bartolomé de la Torre                     299.0                      8.0   \n",
       "Rociana del Condado                           557.0                     13.0   \n",
       "Huelva-Costa                                18028.0                    378.0   \n",
       "Punta Umbría                                  808.0                     11.0   \n",
       "Gibraleón                                     631.0                     18.0   \n",
       "Cartaya                                      1341.0                     23.0   \n",
       "Sierra de Huelva-Andévalo Central            2767.0                     71.0   \n",
       "Villanueva de los Castillejos                 162.0                      4.0   \n",
       "Bonares                                       271.0                      7.0   \n",
       "Puebla de Guzmán                              116.0                      3.0   \n",
       "Zarza-Perrunal (La)                            25.0                      1.0   \n",
       "Aracena                                       527.0                      9.0   \n",
       "Nerva                                         177.0                      3.0   \n",
       "Beas                                          210.0                      1.0   \n",
       "Zalamea la Real                                91.0                      2.0   \n",
       "Cortegana                                     206.0                      5.0   \n",
       "Isla Cristina                                2148.0                     12.0   \n",
       "Minas de Riotinto                             121.0                      4.0   \n",
       "Ayamonte                                     1317.0                      5.0   \n",
       "Lepe                                         2127.0                      7.0   \n",
       "Higuera de la Sierra                           33.0                      1.0   \n",
       "Alosno                                        167.0                      1.0   \n",
       "Paterna del Campo                             128.0                      1.0   \n",
       "Cumbres Mayores                                51.0                      1.0   \n",
       "Jabugo                                         64.0                      1.0   \n",
       "\n",
       "Medida                             Confirmados PDIA 14 días  Población  \\\n",
       "Lugar de residencia                                                      \n",
       "Villarrasa                                             19.0     2211.0   \n",
       "Niebla                                                 26.0     4116.0   \n",
       "Almonte                                               128.0    24507.0   \n",
       "Palma del Condado (La)                                 52.0    10801.0   \n",
       "Calañas                                                13.0     2768.0   \n",
       "Moguer                                                102.0    21867.0   \n",
       "Palos de la Frontera                                   53.0    11742.0   \n",
       "Valverde del Camino                                    56.0    12750.0   \n",
       "Manzanilla                                              9.0     2118.0   \n",
       "Campofrío                                               3.0      713.0   \n",
       "Granada de Río-Tinto (La)                               1.0      243.0   \n",
       "Condado-Campiña                                       578.0   156231.0   \n",
       "Lucena del Puerto                                      12.0     3261.0   \n",
       "Bollullos Par del Condado                              50.0    14387.0   \n",
       "Cerro de Andévalo (El)                                  8.0     2327.0   \n",
       "Huelva (capital)                                      487.0   143837.0   \n",
       "San Juan del Puerto                                    30.0     9411.0   \n",
       "Aljaraque                                              64.0    21474.0   \n",
       "Huelva                                               1422.0   513170.0   \n",
       "Trigueros                                              21.0     7862.0   \n",
       "San Bartolomé de la Torre                              10.0     3761.0   \n",
       "Rociana del Condado                                    21.0     7939.0   \n",
       "Huelva-Costa                                          717.0   289548.0   \n",
       "Punta Umbría                                           37.0    15355.0   \n",
       "Gibraleón                                              26.0    12737.0   \n",
       "Cartaya                                                39.0    20083.0   \n",
       "Sierra de Huelva-Andévalo Central                     121.0    67391.0   \n",
       "Villanueva de los Castillejos                           5.0     2825.0   \n",
       "Bonares                                                10.0     6060.0   \n",
       "Puebla de Guzmán                                        5.0     3092.0   \n",
       "Zarza-Perrunal (La)                                     2.0     1253.0   \n",
       "Aracena                                                13.0     8255.0   \n",
       "Nerva                                                   8.0     5169.0   \n",
       "Beas                                                    6.0     4341.0   \n",
       "Zalamea la Real                                         4.0     3054.0   \n",
       "Cortegana                                               6.0     4602.0   \n",
       "Isla Cristina                                          27.0    21393.0   \n",
       "Minas de Riotinto                                       4.0     3812.0   \n",
       "Ayamonte                                               19.0    21104.0   \n",
       "Lepe                                                   24.0    27880.0   \n",
       "Higuera de la Sierra                                    1.0     1291.0   \n",
       "Alosno                                                  3.0     3933.0   \n",
       "Paterna del Campo                                       2.0     3457.0   \n",
       "Cumbres Mayores                                         1.0     1749.0   \n",
       "Jabugo                                                  1.0     2260.0   \n",
       "\n",
       "Medida                                  tasa7      tasa14  Diferencia PDIA  \n",
       "Lugar de residencia                                                         \n",
       "Villarrasa                         271.370421  859.339665              1.0  \n",
       "Niebla                             388.726919  631.681244              2.0  \n",
       "Almonte                            265.230342  522.299751              2.0  \n",
       "Palma del Condado (La)             148.134432  481.436904              3.0  \n",
       "Calañas                             72.254335  469.653179              1.0  \n",
       "Moguer                             205.789546  466.456304             13.0  \n",
       "Palos de la Frontera               246.976665  451.371146             18.0  \n",
       "Valverde del Camino                290.196078  439.215686             14.0  \n",
       "Manzanilla                          94.428706  424.929178              1.0  \n",
       "Campofrío                          140.252454  420.757363              0.0  \n",
       "Granada de Río-Tinto (La)          411.522634  411.522634              0.0  \n",
       "Condado-Campiña                    179.861871  369.964988             59.0  \n",
       "Lucena del Puerto                  153.327200  367.985281              1.0  \n",
       "Bollullos Par del Condado          139.014388  347.535970              2.0  \n",
       "Cerro de Andévalo (El)             128.921358  343.790288              0.0  \n",
       "Huelva (capital)                   192.579100  338.577696             68.0  \n",
       "San Juan del Puerto                170.013814  318.775901              1.0  \n",
       "Aljaraque                          162.987799  298.034833              8.0  \n",
       "Huelva                             142.837656  277.101156            174.0  \n",
       "Trigueros                          165.352328  267.107606              0.0  \n",
       "San Bartolomé de la Torre          212.709386  265.886732              4.0  \n",
       "Rociana del Condado                163.748583  264.516942              3.0  \n",
       "Huelva-Costa                       130.548303  247.627336             92.0  \n",
       "Punta Umbría                        71.637903  240.963855              3.0  \n",
       "Gibraleón                          141.320562  204.129701              8.0  \n",
       "Cartaya                            114.524722  194.194095              7.0  \n",
       "Sierra de Huelva-Andévalo Central  105.355315  179.549198             21.0  \n",
       "Villanueva de los Castillejos      141.592920  176.991150              2.0  \n",
       "Bonares                            115.511551  165.016502              0.0  \n",
       "Puebla de Guzmán                    97.024580  161.707633              2.0  \n",
       "Zarza-Perrunal (La)                 79.808460  159.616919              0.0  \n",
       "Aracena                            109.024833  157.480315              2.0  \n",
       "Nerva                               58.038305  154.768814              0.0  \n",
       "Beas                                23.036167  138.217001              0.0  \n",
       "Zalamea la Real                     65.487885  130.975769              0.0  \n",
       "Cortegana                          108.648414  130.378096              4.0  \n",
       "Isla Cristina                       56.093115  126.209508              1.0  \n",
       "Minas de Riotinto                  104.931794  104.931794              0.0  \n",
       "Ayamonte                            23.692191   90.030326              0.0  \n",
       "Lepe                                25.107604   86.083214              0.0  \n",
       "Higuera de la Sierra                77.459334   77.459334              0.0  \n",
       "Alosno                              25.425884   76.277651              NaN  \n",
       "Paterna del Campo                   28.926815   57.853630              0.0  \n",
       "Cumbres Mayores                     57.175529   57.175529              0.0  \n",
       "Jabugo                              44.247788   44.247788              0.0  "
      ],
      "text/html": "<div>\n<style scoped>\n    .dataframe tbody tr th:only-of-type {\n        vertical-align: middle;\n    }\n\n    .dataframe tbody tr th {\n        vertical-align: top;\n    }\n\n    .dataframe thead th {\n        text-align: right;\n    }\n</style>\n<table border=\"1\" class=\"dataframe\">\n  <thead>\n    <tr style=\"text-align: right;\">\n      <th>Medida</th>\n      <th>Confirmados PDIA</th>\n      <th>Confirmados PDIA 7 días</th>\n      <th>Confirmados PDIA 14 días</th>\n      <th>Población</th>\n      <th>tasa7</th>\n      <th>tasa14</th>\n      <th>Diferencia PDIA</th>\n    </tr>\n    <tr>\n      <th>Lugar de residencia</th>\n      <th></th>\n      <th></th>\n      <th></th>\n      <th></th>\n      <th></th>\n      <th></th>\n      <th></th>\n    </tr>\n  </thead>\n  <tbody>\n    <tr>\n      <th>Villarrasa</th>\n      <td>172.0</td>\n      <td>6.0</td>\n      <td>19.0</td>\n      <td>2211.0</td>\n      <td>271.370421</td>\n      <td>859.339665</td>\n      <td>1.0</td>\n    </tr>\n    <tr>\n      <th>Niebla</th>\n      <td>235.0</td>\n      <td>16.0</td>\n      <td>26.0</td>\n      <td>4116.0</td>\n      <td>388.726919</td>\n      <td>631.681244</td>\n      <td>2.0</td>\n    </tr>\n    <tr>\n      <th>Almonte</th>\n      <td>1817.0</td>\n      <td>65.0</td>\n      <td>128.0</td>\n      <td>24507.0</td>\n      <td>265.230342</td>\n      <td>522.299751</td>\n      <td>2.0</td>\n    </tr>\n    <tr>\n      <th>Palma del Condado (La)</th>\n      <td>1149.0</td>\n      <td>16.0</td>\n      <td>52.0</td>\n      <td>10801.0</td>\n      <td>148.134432</td>\n      <td>481.436904</td>\n      <td>3.0</td>\n    </tr>\n    <tr>\n      <th>Calañas</th>\n      <td>191.0</td>\n      <td>2.0</td>\n      <td>13.0</td>\n      <td>2768.0</td>\n      <td>72.254335</td>\n      <td>469.653179</td>\n      <td>1.0</td>\n    </tr>\n    <tr>\n      <th>Moguer</th>\n      <td>1289.0</td>\n      <td>45.0</td>\n      <td>102.0</td>\n      <td>21867.0</td>\n      <td>205.789546</td>\n      <td>466.456304</td>\n      <td>13.0</td>\n    </tr>\n    <tr>\n      <th>Palos de la Frontera</th>\n      <td>662.0</td>\n      <td>29.0</td>\n      <td>53.0</td>\n      <td>11742.0</td>\n      <td>246.976665</td>\n      <td>451.371146</td>\n      <td>18.0</td>\n    </tr>\n    <tr>\n      <th>Valverde del Camino</th>\n      <td>576.0</td>\n      <td>37.0</td>\n      <td>56.0</td>\n      <td>12750.0</td>\n      <td>290.196078</td>\n      <td>439.215686</td>\n      <td>14.0</td>\n    </tr>\n    <tr>\n      <th>Manzanilla</th>\n      <td>99.0</td>\n      <td>2.0</td>\n      <td>9.0</td>\n      <td>2118.0</td>\n      <td>94.428706</td>\n      <td>424.929178</td>\n      <td>1.0</td>\n    </tr>\n    <tr>\n      <th>Campofrío</th>\n      <td>10.0</td>\n      <td>1.0</td>\n      <td>3.0</td>\n      <td>713.0</td>\n      <td>140.252454</td>\n      <td>420.757363</td>\n      <td>0.0</td>\n    </tr>\n    <tr>\n      <th>Granada de Río-Tinto (La)</th>\n      <td>3.0</td>\n      <td>1.0</td>\n      <td>1.0</td>\n      <td>243.0</td>\n      <td>411.522634</td>\n      <td>411.522634</td>\n      <td>0.0</td>\n    </tr>\n    <tr>\n      <th>Condado-Campiña</th>\n      <td>10188.0</td>\n      <td>281.0</td>\n      <td>578.0</td>\n      <td>156231.0</td>\n      <td>179.861871</td>\n      <td>369.964988</td>\n      <td>59.0</td>\n    </tr>\n    <tr>\n      <th>Lucena del Puerto</th>\n      <td>253.0</td>\n      <td>5.0</td>\n      <td>12.0</td>\n      <td>3261.0</td>\n      <td>153.327200</td>\n      <td>367.985281</td>\n      <td>1.0</td>\n    </tr>\n    <tr>\n      <th>Bollullos Par del Condado</th>\n      <td>975.0</td>\n      <td>20.0</td>\n      <td>50.0</td>\n      <td>14387.0</td>\n      <td>139.014388</td>\n      <td>347.535970</td>\n      <td>2.0</td>\n    </tr>\n    <tr>\n      <th>Cerro de Andévalo (El)</th>\n      <td>146.0</td>\n      <td>3.0</td>\n      <td>8.0</td>\n      <td>2327.0</td>\n      <td>128.921358</td>\n      <td>343.790288</td>\n      <td>0.0</td>\n    </tr>\n    <tr>\n      <th>Huelva (capital)</th>\n      <td>8320.0</td>\n      <td>277.0</td>\n      <td>487.0</td>\n      <td>143837.0</td>\n      <td>192.579100</td>\n      <td>338.577696</td>\n      <td>68.0</td>\n    </tr>\n    <tr>\n      <th>San Juan del Puerto</th>\n      <td>501.0</td>\n      <td>16.0</td>\n      <td>30.0</td>\n      <td>9411.0</td>\n      <td>170.013814</td>\n      <td>318.775901</td>\n      <td>1.0</td>\n    </tr>\n    <tr>\n      <th>Aljaraque</th>\n      <td>1093.0</td>\n      <td>35.0</td>\n      <td>64.0</td>\n      <td>21474.0</td>\n      <td>162.987799</td>\n      <td>298.034833</td>\n      <td>8.0</td>\n    </tr>\n    <tr>\n      <th>Huelva</th>\n      <td>31331.0</td>\n      <td>733.0</td>\n      <td>1422.0</td>\n      <td>513170.0</td>\n      <td>142.837656</td>\n      <td>277.101156</td>\n      <td>174.0</td>\n    </tr>\n    <tr>\n      <th>Trigueros</th>\n      <td>305.0</td>\n      <td>13.0</td>\n      <td>21.0</td>\n      <td>7862.0</td>\n      <td>165.352328</td>\n      <td>267.107606</td>\n      <td>0.0</td>\n    </tr>\n    <tr>\n      <th>San Bartolomé de la Torre</th>\n      <td>299.0</td>\n      <td>8.0</td>\n      <td>10.0</td>\n      <td>3761.0</td>\n      <td>212.709386</td>\n      <td>265.886732</td>\n      <td>4.0</td>\n    </tr>\n    <tr>\n      <th>Rociana del Condado</th>\n      <td>557.0</td>\n      <td>13.0</td>\n      <td>21.0</td>\n      <td>7939.0</td>\n      <td>163.748583</td>\n      <td>264.516942</td>\n      <td>3.0</td>\n    </tr>\n    <tr>\n      <th>Huelva-Costa</th>\n      <td>18028.0</td>\n      <td>378.0</td>\n      <td>717.0</td>\n      <td>289548.0</td>\n      <td>130.548303</td>\n      <td>247.627336</td>\n      <td>92.0</td>\n    </tr>\n    <tr>\n      <th>Punta Umbría</th>\n      <td>808.0</td>\n      <td>11.0</td>\n      <td>37.0</td>\n      <td>15355.0</td>\n      <td>71.637903</td>\n      <td>240.963855</td>\n      <td>3.0</td>\n    </tr>\n    <tr>\n      <th>Gibraleón</th>\n      <td>631.0</td>\n      <td>18.0</td>\n      <td>26.0</td>\n      <td>12737.0</td>\n      <td>141.320562</td>\n      <td>204.129701</td>\n      <td>8.0</td>\n    </tr>\n    <tr>\n      <th>Cartaya</th>\n      <td>1341.0</td>\n      <td>23.0</td>\n      <td>39.0</td>\n      <td>20083.0</td>\n      <td>114.524722</td>\n      <td>194.194095</td>\n      <td>7.0</td>\n    </tr>\n    <tr>\n      <th>Sierra de Huelva-Andévalo Central</th>\n      <td>2767.0</td>\n      <td>71.0</td>\n      <td>121.0</td>\n      <td>67391.0</td>\n      <td>105.355315</td>\n      <td>179.549198</td>\n      <td>21.0</td>\n    </tr>\n    <tr>\n      <th>Villanueva de los Castillejos</th>\n      <td>162.0</td>\n      <td>4.0</td>\n      <td>5.0</td>\n      <td>2825.0</td>\n      <td>141.592920</td>\n      <td>176.991150</td>\n      <td>2.0</td>\n    </tr>\n    <tr>\n      <th>Bonares</th>\n      <td>271.0</td>\n      <td>7.0</td>\n      <td>10.0</td>\n      <td>6060.0</td>\n      <td>115.511551</td>\n      <td>165.016502</td>\n      <td>0.0</td>\n    </tr>\n    <tr>\n      <th>Puebla de Guzmán</th>\n      <td>116.0</td>\n      <td>3.0</td>\n      <td>5.0</td>\n      <td>3092.0</td>\n      <td>97.024580</td>\n      <td>161.707633</td>\n      <td>2.0</td>\n    </tr>\n    <tr>\n      <th>Zarza-Perrunal (La)</th>\n      <td>25.0</td>\n      <td>1.0</td>\n      <td>2.0</td>\n      <td>1253.0</td>\n      <td>79.808460</td>\n      <td>159.616919</td>\n      <td>0.0</td>\n    </tr>\n    <tr>\n      <th>Aracena</th>\n      <td>527.0</td>\n      <td>9.0</td>\n      <td>13.0</td>\n      <td>8255.0</td>\n      <td>109.024833</td>\n      <td>157.480315</td>\n      <td>2.0</td>\n    </tr>\n    <tr>\n      <th>Nerva</th>\n      <td>177.0</td>\n      <td>3.0</td>\n      <td>8.0</td>\n      <td>5169.0</td>\n      <td>58.038305</td>\n      <td>154.768814</td>\n      <td>0.0</td>\n    </tr>\n    <tr>\n      <th>Beas</th>\n      <td>210.0</td>\n      <td>1.0</td>\n      <td>6.0</td>\n      <td>4341.0</td>\n      <td>23.036167</td>\n      <td>138.217001</td>\n      <td>0.0</td>\n    </tr>\n    <tr>\n      <th>Zalamea la Real</th>\n      <td>91.0</td>\n      <td>2.0</td>\n      <td>4.0</td>\n      <td>3054.0</td>\n      <td>65.487885</td>\n      <td>130.975769</td>\n      <td>0.0</td>\n    </tr>\n    <tr>\n      <th>Cortegana</th>\n      <td>206.0</td>\n      <td>5.0</td>\n      <td>6.0</td>\n      <td>4602.0</td>\n      <td>108.648414</td>\n      <td>130.378096</td>\n      <td>4.0</td>\n    </tr>\n    <tr>\n      <th>Isla Cristina</th>\n      <td>2148.0</td>\n      <td>12.0</td>\n      <td>27.0</td>\n      <td>21393.0</td>\n      <td>56.093115</td>\n      <td>126.209508</td>\n      <td>1.0</td>\n    </tr>\n    <tr>\n      <th>Minas de Riotinto</th>\n      <td>121.0</td>\n      <td>4.0</td>\n      <td>4.0</td>\n      <td>3812.0</td>\n      <td>104.931794</td>\n      <td>104.931794</td>\n      <td>0.0</td>\n    </tr>\n    <tr>\n      <th>Ayamonte</th>\n      <td>1317.0</td>\n      <td>5.0</td>\n      <td>19.0</td>\n      <td>21104.0</td>\n      <td>23.692191</td>\n      <td>90.030326</td>\n      <td>0.0</td>\n    </tr>\n    <tr>\n      <th>Lepe</th>\n      <td>2127.0</td>\n      <td>7.0</td>\n      <td>24.0</td>\n      <td>27880.0</td>\n      <td>25.107604</td>\n      <td>86.083214</td>\n      <td>0.0</td>\n    </tr>\n    <tr>\n      <th>Higuera de la Sierra</th>\n      <td>33.0</td>\n      <td>1.0</td>\n      <td>1.0</td>\n      <td>1291.0</td>\n      <td>77.459334</td>\n      <td>77.459334</td>\n      <td>0.0</td>\n    </tr>\n    <tr>\n      <th>Alosno</th>\n      <td>167.0</td>\n      <td>1.0</td>\n      <td>3.0</td>\n      <td>3933.0</td>\n      <td>25.425884</td>\n      <td>76.277651</td>\n      <td>NaN</td>\n    </tr>\n    <tr>\n      <th>Paterna del Campo</th>\n      <td>128.0</td>\n      <td>1.0</td>\n      <td>2.0</td>\n      <td>3457.0</td>\n      <td>28.926815</td>\n      <td>57.853630</td>\n      <td>0.0</td>\n    </tr>\n    <tr>\n      <th>Cumbres Mayores</th>\n      <td>51.0</td>\n      <td>1.0</td>\n      <td>1.0</td>\n      <td>1749.0</td>\n      <td>57.175529</td>\n      <td>57.175529</td>\n      <td>0.0</td>\n    </tr>\n    <tr>\n      <th>Jabugo</th>\n      <td>64.0</td>\n      <td>1.0</td>\n      <td>1.0</td>\n      <td>2260.0</td>\n      <td>44.247788</td>\n      <td>44.247788</td>\n      <td>0.0</td>\n    </tr>\n  </tbody>\n</table>\n</div>"
     },
     "metadata": {},
     "execution_count": 17
    }
   ],
   "source": [
    "tabla.sort_values('tasa14', ascending=False)"
   ]
  },
  {
   "cell_type": "code",
   "execution_count": 18,
   "metadata": {},
   "outputs": [
    {
     "output_type": "execute_result",
     "data": {
      "text/plain": [
       "Medida                             Confirmados PDIA  Confirmados PDIA 7 días  \\\n",
       "Lugar de residencia                                                            \n",
       "Calañas                                       191.0                      2.0   \n",
       "Beas                                          210.0                      1.0   \n",
       "Manzanilla                                     99.0                      2.0   \n",
       "Ayamonte                                     1317.0                      5.0   \n",
       "Lepe                                         2127.0                      7.0   \n",
       "Punta Umbría                                  808.0                     11.0   \n",
       "Palma del Condado (La)                       1149.0                     16.0   \n",
       "Villarrasa                                    172.0                      6.0   \n",
       "Alosno                                        167.0                      1.0   \n",
       "Campofrío                                      10.0                      1.0   \n",
       "Cerro de Andévalo (El)                        146.0                      3.0   \n",
       "Nerva                                         177.0                      3.0   \n",
       "Bollullos Par del Condado                     975.0                     20.0   \n",
       "Lucena del Puerto                             253.0                      5.0   \n",
       "Moguer                                       1289.0                     45.0   \n",
       "Isla Cristina                                2148.0                     12.0   \n",
       "Condado-Campiña                             10188.0                    281.0   \n",
       "Zalamea la Real                                91.0                      2.0   \n",
       "Paterna del Campo                             128.0                      1.0   \n",
       "Zarza-Perrunal (La)                            25.0                      1.0   \n",
       "Almonte                                      1817.0                     65.0   \n",
       "Huelva                                      31331.0                    733.0   \n",
       "Huelva-Costa                                18028.0                    378.0   \n",
       "San Juan del Puerto                           501.0                     16.0   \n",
       "Aljaraque                                    1093.0                     35.0   \n",
       "Palos de la Frontera                          662.0                     29.0   \n",
       "Huelva (capital)                             8320.0                    277.0   \n",
       "Sierra de Huelva-Andévalo Central            2767.0                     71.0   \n",
       "Cartaya                                      1341.0                     23.0   \n",
       "Puebla de Guzmán                              116.0                      3.0   \n",
       "Niebla                                        235.0                     16.0   \n",
       "Rociana del Condado                           557.0                     13.0   \n",
       "Trigueros                                     305.0                     13.0   \n",
       "Valverde del Camino                           576.0                     37.0   \n",
       "Aracena                                       527.0                      9.0   \n",
       "Gibraleón                                     631.0                     18.0   \n",
       "Bonares                                       271.0                      7.0   \n",
       "Villanueva de los Castillejos                 162.0                      4.0   \n",
       "San Bartolomé de la Torre                     299.0                      8.0   \n",
       "Cortegana                                     206.0                      5.0   \n",
       "Higuera de la Sierra                           33.0                      1.0   \n",
       "Granada de Río-Tinto (La)                       3.0                      1.0   \n",
       "Minas de Riotinto                             121.0                      4.0   \n",
       "Cumbres Mayores                                51.0                      1.0   \n",
       "Jabugo                                         64.0                      1.0   \n",
       "\n",
       "Medida                             Confirmados PDIA 14 días  Población  \\\n",
       "Lugar de residencia                                                      \n",
       "Calañas                                                13.0     2768.0   \n",
       "Beas                                                    6.0     4341.0   \n",
       "Manzanilla                                              9.0     2118.0   \n",
       "Ayamonte                                               19.0    21104.0   \n",
       "Lepe                                                   24.0    27880.0   \n",
       "Punta Umbría                                           37.0    15355.0   \n",
       "Palma del Condado (La)                                 52.0    10801.0   \n",
       "Villarrasa                                             19.0     2211.0   \n",
       "Alosno                                                  3.0     3933.0   \n",
       "Campofrío                                               3.0      713.0   \n",
       "Cerro de Andévalo (El)                                  8.0     2327.0   \n",
       "Nerva                                                   8.0     5169.0   \n",
       "Bollullos Par del Condado                              50.0    14387.0   \n",
       "Lucena del Puerto                                      12.0     3261.0   \n",
       "Moguer                                                102.0    21867.0   \n",
       "Isla Cristina                                          27.0    21393.0   \n",
       "Condado-Campiña                                       578.0   156231.0   \n",
       "Zalamea la Real                                         4.0     3054.0   \n",
       "Paterna del Campo                                       2.0     3457.0   \n",
       "Zarza-Perrunal (La)                                     2.0     1253.0   \n",
       "Almonte                                               128.0    24507.0   \n",
       "Huelva                                               1422.0   513170.0   \n",
       "Huelva-Costa                                          717.0   289548.0   \n",
       "San Juan del Puerto                                    30.0     9411.0   \n",
       "Aljaraque                                              64.0    21474.0   \n",
       "Palos de la Frontera                                   53.0    11742.0   \n",
       "Huelva (capital)                                      487.0   143837.0   \n",
       "Sierra de Huelva-Andévalo Central                     121.0    67391.0   \n",
       "Cartaya                                                39.0    20083.0   \n",
       "Puebla de Guzmán                                        5.0     3092.0   \n",
       "Niebla                                                 26.0     4116.0   \n",
       "Rociana del Condado                                    21.0     7939.0   \n",
       "Trigueros                                              21.0     7862.0   \n",
       "Valverde del Camino                                    56.0    12750.0   \n",
       "Aracena                                                13.0     8255.0   \n",
       "Gibraleón                                              26.0    12737.0   \n",
       "Bonares                                                10.0     6060.0   \n",
       "Villanueva de los Castillejos                           5.0     2825.0   \n",
       "San Bartolomé de la Torre                              10.0     3761.0   \n",
       "Cortegana                                               6.0     4602.0   \n",
       "Higuera de la Sierra                                    1.0     1291.0   \n",
       "Granada de Río-Tinto (La)                               1.0      243.0   \n",
       "Minas de Riotinto                                       4.0     3812.0   \n",
       "Cumbres Mayores                                         1.0     1749.0   \n",
       "Jabugo                                                  1.0     2260.0   \n",
       "\n",
       "Medida                                  tasa7      tasa14  Diferencia PDIA  \\\n",
       "Lugar de residencia                                                          \n",
       "Calañas                             72.254335  469.653179              1.0   \n",
       "Beas                                23.036167  138.217001              0.0   \n",
       "Manzanilla                          94.428706  424.929178              1.0   \n",
       "Ayamonte                            23.692191   90.030326              0.0   \n",
       "Lepe                                25.107604   86.083214              0.0   \n",
       "Punta Umbría                        71.637903  240.963855              3.0   \n",
       "Palma del Condado (La)             148.134432  481.436904              3.0   \n",
       "Villarrasa                         271.370421  859.339665              1.0   \n",
       "Alosno                              25.425884   76.277651              0.0   \n",
       "Campofrío                          140.252454  420.757363              0.0   \n",
       "Cerro de Andévalo (El)             128.921358  343.790288              0.0   \n",
       "Nerva                               58.038305  154.768814              0.0   \n",
       "Bollullos Par del Condado          139.014388  347.535970              2.0   \n",
       "Lucena del Puerto                  153.327200  367.985281              1.0   \n",
       "Moguer                             205.789546  466.456304             13.0   \n",
       "Isla Cristina                       56.093115  126.209508              1.0   \n",
       "Condado-Campiña                    179.861871  369.964988             59.0   \n",
       "Zalamea la Real                     65.487885  130.975769              0.0   \n",
       "Paterna del Campo                   28.926815   57.853630              0.0   \n",
       "Zarza-Perrunal (La)                 79.808460  159.616919              0.0   \n",
       "Almonte                            265.230342  522.299751              2.0   \n",
       "Huelva                             142.837656  277.101156            174.0   \n",
       "Huelva-Costa                       130.548303  247.627336             92.0   \n",
       "San Juan del Puerto                170.013814  318.775901              1.0   \n",
       "Aljaraque                          162.987799  298.034833              8.0   \n",
       "Palos de la Frontera               246.976665  451.371146             18.0   \n",
       "Huelva (capital)                   192.579100  338.577696             68.0   \n",
       "Sierra de Huelva-Andévalo Central  105.355315  179.549198             21.0   \n",
       "Cartaya                            114.524722  194.194095              7.0   \n",
       "Puebla de Guzmán                    97.024580  161.707633              2.0   \n",
       "Niebla                             388.726919  631.681244              2.0   \n",
       "Rociana del Condado                163.748583  264.516942              3.0   \n",
       "Trigueros                          165.352328  267.107606              0.0   \n",
       "Valverde del Camino                290.196078  439.215686             14.0   \n",
       "Aracena                            109.024833  157.480315              2.0   \n",
       "Gibraleón                          141.320562  204.129701              8.0   \n",
       "Bonares                            115.511551  165.016502              0.0   \n",
       "Villanueva de los Castillejos      141.592920  176.991150              2.0   \n",
       "San Bartolomé de la Torre          212.709386  265.886732              4.0   \n",
       "Cortegana                          108.648414  130.378096              4.0   \n",
       "Higuera de la Sierra                77.459334   77.459334              0.0   \n",
       "Granada de Río-Tinto (La)          411.522634  411.522634              0.0   \n",
       "Minas de Riotinto                  104.931794  104.931794              0.0   \n",
       "Cumbres Mayores                     57.175529   57.175529              0.0   \n",
       "Jabugo                              44.247788   44.247788              0.0   \n",
       "\n",
       "Medida                                 7/14  \n",
       "Lugar de residencia                          \n",
       "Calañas                            0.153846  \n",
       "Beas                               0.166667  \n",
       "Manzanilla                         0.222222  \n",
       "Ayamonte                           0.263158  \n",
       "Lepe                               0.291667  \n",
       "Punta Umbría                       0.297297  \n",
       "Palma del Condado (La)             0.307692  \n",
       "Villarrasa                         0.315789  \n",
       "Alosno                             0.333333  \n",
       "Campofrío                          0.333333  \n",
       "Cerro de Andévalo (El)             0.375000  \n",
       "Nerva                              0.375000  \n",
       "Bollullos Par del Condado          0.400000  \n",
       "Lucena del Puerto                  0.416667  \n",
       "Moguer                             0.441176  \n",
       "Isla Cristina                      0.444444  \n",
       "Condado-Campiña                    0.486159  \n",
       "Zalamea la Real                    0.500000  \n",
       "Paterna del Campo                  0.500000  \n",
       "Zarza-Perrunal (La)                0.500000  \n",
       "Almonte                            0.507812  \n",
       "Huelva                             0.515471  \n",
       "Huelva-Costa                       0.527197  \n",
       "San Juan del Puerto                0.533333  \n",
       "Aljaraque                          0.546875  \n",
       "Palos de la Frontera               0.547170  \n",
       "Huelva (capital)                   0.568789  \n",
       "Sierra de Huelva-Andévalo Central  0.586777  \n",
       "Cartaya                            0.589744  \n",
       "Puebla de Guzmán                   0.600000  \n",
       "Niebla                             0.615385  \n",
       "Rociana del Condado                0.619048  \n",
       "Trigueros                          0.619048  \n",
       "Valverde del Camino                0.660714  \n",
       "Aracena                            0.692308  \n",
       "Gibraleón                          0.692308  \n",
       "Bonares                            0.700000  \n",
       "Villanueva de los Castillejos      0.800000  \n",
       "San Bartolomé de la Torre          0.800000  \n",
       "Cortegana                          0.833333  \n",
       "Higuera de la Sierra               1.000000  \n",
       "Granada de Río-Tinto (La)          1.000000  \n",
       "Minas de Riotinto                  1.000000  \n",
       "Cumbres Mayores                    1.000000  \n",
       "Jabugo                             1.000000  "
      ],
      "text/html": "<div>\n<style scoped>\n    .dataframe tbody tr th:only-of-type {\n        vertical-align: middle;\n    }\n\n    .dataframe tbody tr th {\n        vertical-align: top;\n    }\n\n    .dataframe thead th {\n        text-align: right;\n    }\n</style>\n<table border=\"1\" class=\"dataframe\">\n  <thead>\n    <tr style=\"text-align: right;\">\n      <th>Medida</th>\n      <th>Confirmados PDIA</th>\n      <th>Confirmados PDIA 7 días</th>\n      <th>Confirmados PDIA 14 días</th>\n      <th>Población</th>\n      <th>tasa7</th>\n      <th>tasa14</th>\n      <th>Diferencia PDIA</th>\n      <th>7/14</th>\n    </tr>\n    <tr>\n      <th>Lugar de residencia</th>\n      <th></th>\n      <th></th>\n      <th></th>\n      <th></th>\n      <th></th>\n      <th></th>\n      <th></th>\n      <th></th>\n    </tr>\n  </thead>\n  <tbody>\n    <tr>\n      <th>Calañas</th>\n      <td>191.0</td>\n      <td>2.0</td>\n      <td>13.0</td>\n      <td>2768.0</td>\n      <td>72.254335</td>\n      <td>469.653179</td>\n      <td>1.0</td>\n      <td>0.153846</td>\n    </tr>\n    <tr>\n      <th>Beas</th>\n      <td>210.0</td>\n      <td>1.0</td>\n      <td>6.0</td>\n      <td>4341.0</td>\n      <td>23.036167</td>\n      <td>138.217001</td>\n      <td>0.0</td>\n      <td>0.166667</td>\n    </tr>\n    <tr>\n      <th>Manzanilla</th>\n      <td>99.0</td>\n      <td>2.0</td>\n      <td>9.0</td>\n      <td>2118.0</td>\n      <td>94.428706</td>\n      <td>424.929178</td>\n      <td>1.0</td>\n      <td>0.222222</td>\n    </tr>\n    <tr>\n      <th>Ayamonte</th>\n      <td>1317.0</td>\n      <td>5.0</td>\n      <td>19.0</td>\n      <td>21104.0</td>\n      <td>23.692191</td>\n      <td>90.030326</td>\n      <td>0.0</td>\n      <td>0.263158</td>\n    </tr>\n    <tr>\n      <th>Lepe</th>\n      <td>2127.0</td>\n      <td>7.0</td>\n      <td>24.0</td>\n      <td>27880.0</td>\n      <td>25.107604</td>\n      <td>86.083214</td>\n      <td>0.0</td>\n      <td>0.291667</td>\n    </tr>\n    <tr>\n      <th>Punta Umbría</th>\n      <td>808.0</td>\n      <td>11.0</td>\n      <td>37.0</td>\n      <td>15355.0</td>\n      <td>71.637903</td>\n      <td>240.963855</td>\n      <td>3.0</td>\n      <td>0.297297</td>\n    </tr>\n    <tr>\n      <th>Palma del Condado (La)</th>\n      <td>1149.0</td>\n      <td>16.0</td>\n      <td>52.0</td>\n      <td>10801.0</td>\n      <td>148.134432</td>\n      <td>481.436904</td>\n      <td>3.0</td>\n      <td>0.307692</td>\n    </tr>\n    <tr>\n      <th>Villarrasa</th>\n      <td>172.0</td>\n      <td>6.0</td>\n      <td>19.0</td>\n      <td>2211.0</td>\n      <td>271.370421</td>\n      <td>859.339665</td>\n      <td>1.0</td>\n      <td>0.315789</td>\n    </tr>\n    <tr>\n      <th>Alosno</th>\n      <td>167.0</td>\n      <td>1.0</td>\n      <td>3.0</td>\n      <td>3933.0</td>\n      <td>25.425884</td>\n      <td>76.277651</td>\n      <td>0.0</td>\n      <td>0.333333</td>\n    </tr>\n    <tr>\n      <th>Campofrío</th>\n      <td>10.0</td>\n      <td>1.0</td>\n      <td>3.0</td>\n      <td>713.0</td>\n      <td>140.252454</td>\n      <td>420.757363</td>\n      <td>0.0</td>\n      <td>0.333333</td>\n    </tr>\n    <tr>\n      <th>Cerro de Andévalo (El)</th>\n      <td>146.0</td>\n      <td>3.0</td>\n      <td>8.0</td>\n      <td>2327.0</td>\n      <td>128.921358</td>\n      <td>343.790288</td>\n      <td>0.0</td>\n      <td>0.375000</td>\n    </tr>\n    <tr>\n      <th>Nerva</th>\n      <td>177.0</td>\n      <td>3.0</td>\n      <td>8.0</td>\n      <td>5169.0</td>\n      <td>58.038305</td>\n      <td>154.768814</td>\n      <td>0.0</td>\n      <td>0.375000</td>\n    </tr>\n    <tr>\n      <th>Bollullos Par del Condado</th>\n      <td>975.0</td>\n      <td>20.0</td>\n      <td>50.0</td>\n      <td>14387.0</td>\n      <td>139.014388</td>\n      <td>347.535970</td>\n      <td>2.0</td>\n      <td>0.400000</td>\n    </tr>\n    <tr>\n      <th>Lucena del Puerto</th>\n      <td>253.0</td>\n      <td>5.0</td>\n      <td>12.0</td>\n      <td>3261.0</td>\n      <td>153.327200</td>\n      <td>367.985281</td>\n      <td>1.0</td>\n      <td>0.416667</td>\n    </tr>\n    <tr>\n      <th>Moguer</th>\n      <td>1289.0</td>\n      <td>45.0</td>\n      <td>102.0</td>\n      <td>21867.0</td>\n      <td>205.789546</td>\n      <td>466.456304</td>\n      <td>13.0</td>\n      <td>0.441176</td>\n    </tr>\n    <tr>\n      <th>Isla Cristina</th>\n      <td>2148.0</td>\n      <td>12.0</td>\n      <td>27.0</td>\n      <td>21393.0</td>\n      <td>56.093115</td>\n      <td>126.209508</td>\n      <td>1.0</td>\n      <td>0.444444</td>\n    </tr>\n    <tr>\n      <th>Condado-Campiña</th>\n      <td>10188.0</td>\n      <td>281.0</td>\n      <td>578.0</td>\n      <td>156231.0</td>\n      <td>179.861871</td>\n      <td>369.964988</td>\n      <td>59.0</td>\n      <td>0.486159</td>\n    </tr>\n    <tr>\n      <th>Zalamea la Real</th>\n      <td>91.0</td>\n      <td>2.0</td>\n      <td>4.0</td>\n      <td>3054.0</td>\n      <td>65.487885</td>\n      <td>130.975769</td>\n      <td>0.0</td>\n      <td>0.500000</td>\n    </tr>\n    <tr>\n      <th>Paterna del Campo</th>\n      <td>128.0</td>\n      <td>1.0</td>\n      <td>2.0</td>\n      <td>3457.0</td>\n      <td>28.926815</td>\n      <td>57.853630</td>\n      <td>0.0</td>\n      <td>0.500000</td>\n    </tr>\n    <tr>\n      <th>Zarza-Perrunal (La)</th>\n      <td>25.0</td>\n      <td>1.0</td>\n      <td>2.0</td>\n      <td>1253.0</td>\n      <td>79.808460</td>\n      <td>159.616919</td>\n      <td>0.0</td>\n      <td>0.500000</td>\n    </tr>\n    <tr>\n      <th>Almonte</th>\n      <td>1817.0</td>\n      <td>65.0</td>\n      <td>128.0</td>\n      <td>24507.0</td>\n      <td>265.230342</td>\n      <td>522.299751</td>\n      <td>2.0</td>\n      <td>0.507812</td>\n    </tr>\n    <tr>\n      <th>Huelva</th>\n      <td>31331.0</td>\n      <td>733.0</td>\n      <td>1422.0</td>\n      <td>513170.0</td>\n      <td>142.837656</td>\n      <td>277.101156</td>\n      <td>174.0</td>\n      <td>0.515471</td>\n    </tr>\n    <tr>\n      <th>Huelva-Costa</th>\n      <td>18028.0</td>\n      <td>378.0</td>\n      <td>717.0</td>\n      <td>289548.0</td>\n      <td>130.548303</td>\n      <td>247.627336</td>\n      <td>92.0</td>\n      <td>0.527197</td>\n    </tr>\n    <tr>\n      <th>San Juan del Puerto</th>\n      <td>501.0</td>\n      <td>16.0</td>\n      <td>30.0</td>\n      <td>9411.0</td>\n      <td>170.013814</td>\n      <td>318.775901</td>\n      <td>1.0</td>\n      <td>0.533333</td>\n    </tr>\n    <tr>\n      <th>Aljaraque</th>\n      <td>1093.0</td>\n      <td>35.0</td>\n      <td>64.0</td>\n      <td>21474.0</td>\n      <td>162.987799</td>\n      <td>298.034833</td>\n      <td>8.0</td>\n      <td>0.546875</td>\n    </tr>\n    <tr>\n      <th>Palos de la Frontera</th>\n      <td>662.0</td>\n      <td>29.0</td>\n      <td>53.0</td>\n      <td>11742.0</td>\n      <td>246.976665</td>\n      <td>451.371146</td>\n      <td>18.0</td>\n      <td>0.547170</td>\n    </tr>\n    <tr>\n      <th>Huelva (capital)</th>\n      <td>8320.0</td>\n      <td>277.0</td>\n      <td>487.0</td>\n      <td>143837.0</td>\n      <td>192.579100</td>\n      <td>338.577696</td>\n      <td>68.0</td>\n      <td>0.568789</td>\n    </tr>\n    <tr>\n      <th>Sierra de Huelva-Andévalo Central</th>\n      <td>2767.0</td>\n      <td>71.0</td>\n      <td>121.0</td>\n      <td>67391.0</td>\n      <td>105.355315</td>\n      <td>179.549198</td>\n      <td>21.0</td>\n      <td>0.586777</td>\n    </tr>\n    <tr>\n      <th>Cartaya</th>\n      <td>1341.0</td>\n      <td>23.0</td>\n      <td>39.0</td>\n      <td>20083.0</td>\n      <td>114.524722</td>\n      <td>194.194095</td>\n      <td>7.0</td>\n      <td>0.589744</td>\n    </tr>\n    <tr>\n      <th>Puebla de Guzmán</th>\n      <td>116.0</td>\n      <td>3.0</td>\n      <td>5.0</td>\n      <td>3092.0</td>\n      <td>97.024580</td>\n      <td>161.707633</td>\n      <td>2.0</td>\n      <td>0.600000</td>\n    </tr>\n    <tr>\n      <th>Niebla</th>\n      <td>235.0</td>\n      <td>16.0</td>\n      <td>26.0</td>\n      <td>4116.0</td>\n      <td>388.726919</td>\n      <td>631.681244</td>\n      <td>2.0</td>\n      <td>0.615385</td>\n    </tr>\n    <tr>\n      <th>Rociana del Condado</th>\n      <td>557.0</td>\n      <td>13.0</td>\n      <td>21.0</td>\n      <td>7939.0</td>\n      <td>163.748583</td>\n      <td>264.516942</td>\n      <td>3.0</td>\n      <td>0.619048</td>\n    </tr>\n    <tr>\n      <th>Trigueros</th>\n      <td>305.0</td>\n      <td>13.0</td>\n      <td>21.0</td>\n      <td>7862.0</td>\n      <td>165.352328</td>\n      <td>267.107606</td>\n      <td>0.0</td>\n      <td>0.619048</td>\n    </tr>\n    <tr>\n      <th>Valverde del Camino</th>\n      <td>576.0</td>\n      <td>37.0</td>\n      <td>56.0</td>\n      <td>12750.0</td>\n      <td>290.196078</td>\n      <td>439.215686</td>\n      <td>14.0</td>\n      <td>0.660714</td>\n    </tr>\n    <tr>\n      <th>Aracena</th>\n      <td>527.0</td>\n      <td>9.0</td>\n      <td>13.0</td>\n      <td>8255.0</td>\n      <td>109.024833</td>\n      <td>157.480315</td>\n      <td>2.0</td>\n      <td>0.692308</td>\n    </tr>\n    <tr>\n      <th>Gibraleón</th>\n      <td>631.0</td>\n      <td>18.0</td>\n      <td>26.0</td>\n      <td>12737.0</td>\n      <td>141.320562</td>\n      <td>204.129701</td>\n      <td>8.0</td>\n      <td>0.692308</td>\n    </tr>\n    <tr>\n      <th>Bonares</th>\n      <td>271.0</td>\n      <td>7.0</td>\n      <td>10.0</td>\n      <td>6060.0</td>\n      <td>115.511551</td>\n      <td>165.016502</td>\n      <td>0.0</td>\n      <td>0.700000</td>\n    </tr>\n    <tr>\n      <th>Villanueva de los Castillejos</th>\n      <td>162.0</td>\n      <td>4.0</td>\n      <td>5.0</td>\n      <td>2825.0</td>\n      <td>141.592920</td>\n      <td>176.991150</td>\n      <td>2.0</td>\n      <td>0.800000</td>\n    </tr>\n    <tr>\n      <th>San Bartolomé de la Torre</th>\n      <td>299.0</td>\n      <td>8.0</td>\n      <td>10.0</td>\n      <td>3761.0</td>\n      <td>212.709386</td>\n      <td>265.886732</td>\n      <td>4.0</td>\n      <td>0.800000</td>\n    </tr>\n    <tr>\n      <th>Cortegana</th>\n      <td>206.0</td>\n      <td>5.0</td>\n      <td>6.0</td>\n      <td>4602.0</td>\n      <td>108.648414</td>\n      <td>130.378096</td>\n      <td>4.0</td>\n      <td>0.833333</td>\n    </tr>\n    <tr>\n      <th>Higuera de la Sierra</th>\n      <td>33.0</td>\n      <td>1.0</td>\n      <td>1.0</td>\n      <td>1291.0</td>\n      <td>77.459334</td>\n      <td>77.459334</td>\n      <td>0.0</td>\n      <td>1.000000</td>\n    </tr>\n    <tr>\n      <th>Granada de Río-Tinto (La)</th>\n      <td>3.0</td>\n      <td>1.0</td>\n      <td>1.0</td>\n      <td>243.0</td>\n      <td>411.522634</td>\n      <td>411.522634</td>\n      <td>0.0</td>\n      <td>1.000000</td>\n    </tr>\n    <tr>\n      <th>Minas de Riotinto</th>\n      <td>121.0</td>\n      <td>4.0</td>\n      <td>4.0</td>\n      <td>3812.0</td>\n      <td>104.931794</td>\n      <td>104.931794</td>\n      <td>0.0</td>\n      <td>1.000000</td>\n    </tr>\n    <tr>\n      <th>Cumbres Mayores</th>\n      <td>51.0</td>\n      <td>1.0</td>\n      <td>1.0</td>\n      <td>1749.0</td>\n      <td>57.175529</td>\n      <td>57.175529</td>\n      <td>0.0</td>\n      <td>1.000000</td>\n    </tr>\n    <tr>\n      <th>Jabugo</th>\n      <td>64.0</td>\n      <td>1.0</td>\n      <td>1.0</td>\n      <td>2260.0</td>\n      <td>44.247788</td>\n      <td>44.247788</td>\n      <td>0.0</td>\n      <td>1.000000</td>\n    </tr>\n  </tbody>\n</table>\n</div>"
     },
     "metadata": {},
     "execution_count": 18
    }
   ],
   "source": [
    "# Peso de la tasa de la última semana en relación con la tasa a 14 días \n",
    "# Mejor cuanto menor. Valor 1 significa que no había casos antes de 7 días.\n",
    "tabla['7/14'] = tabla['tasa7'] / tabla['tasa14']\n",
    "tabla.fillna(0).sort_values('7/14', ascending=True)"
   ]
  },
  {
   "cell_type": "code",
   "execution_count": null,
   "metadata": {},
   "outputs": [],
   "source": []
  }
 ]
}