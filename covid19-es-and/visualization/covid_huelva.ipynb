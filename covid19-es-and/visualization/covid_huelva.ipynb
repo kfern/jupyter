{
 "metadata": {
  "language_info": {
   "codemirror_mode": {
    "name": "ipython",
    "version": 3
   },
   "file_extension": ".py",
   "mimetype": "text/x-python",
   "name": "python",
   "nbconvert_exporter": "python",
   "pygments_lexer": "ipython3",
   "version": "3.8.6-final"
  },
  "orig_nbformat": 2,
  "kernelspec": {
   "name": "python38564bit75945252d6ba481bad4868286020c89e",
   "display_name": "Python 3.8.5 64-bit",
   "language": "python"
  }
 },
 "nbformat": 4,
 "nbformat_minor": 2,
 "cells": [
  {
   "cell_type": "code",
   "execution_count": 1,
   "metadata": {},
   "outputs": [],
   "source": [
    "import pandas as pd\n",
    "pd.set_option('display.max_rows', None) # Print all rows"
   ]
  },
  {
   "cell_type": "code",
   "execution_count": 2,
   "metadata": {},
   "outputs": [],
   "source": [
    "# FIX SSL: CERTIFICATE_VERIFY_FAILED with Python3\n",
    "# https://stackoverflow.com/a/49174340\n",
    "import ssl\n",
    "\n",
    "ssl._create_default_https_context = ssl._create_unverified_context"
   ]
  },
  {
   "cell_type": "code",
   "execution_count": 3,
   "metadata": {},
   "outputs": [],
   "source": [
    "url = 'https://www.juntadeandalucia.es/institutodeestadisticaycartografia/badea/stpivot/stpivot/Print?cube=013d884c-cfc5-4c21-9e78-e26225682afd&type=3&foto=si&ejecutaDesde=&codConsulta=38668&consTipoVisua=JP'\n",
    "fields = ['Lugar de residencia', 'Medida', 'Valor']\n",
    "df = pd.read_csv(url, delimiter=';', usecols=fields, decimal=',')"
   ]
  },
  {
   "cell_type": "code",
   "execution_count": 4,
   "metadata": {},
   "outputs": [
    {
     "output_type": "execute_result",
     "data": {
      "text/plain": [
       "  Lugar de residencia                    Medida              Valor\n",
       "0              Huelva                 Población             513170\n",
       "1              Huelva          Confirmados PDIA              24939\n",
       "2              Huelva  Confirmados PDIA 14 días                330\n",
       "3              Huelva         Tasa PDIA 14 días  64,30617534150477\n",
       "4              Huelva   Confirmados PDIA 7 días                199\n",
       "5              Huelva        Total Confirmados               25140\n",
       "6              Huelva                   Curados              18661\n",
       "7              Huelva                Fallecidos                343"
      ],
      "text/html": "<div>\n<style scoped>\n    .dataframe tbody tr th:only-of-type {\n        vertical-align: middle;\n    }\n\n    .dataframe tbody tr th {\n        vertical-align: top;\n    }\n\n    .dataframe thead th {\n        text-align: right;\n    }\n</style>\n<table border=\"1\" class=\"dataframe\">\n  <thead>\n    <tr style=\"text-align: right;\">\n      <th></th>\n      <th>Lugar de residencia</th>\n      <th>Medida</th>\n      <th>Valor</th>\n    </tr>\n  </thead>\n  <tbody>\n    <tr>\n      <th>0</th>\n      <td>Huelva</td>\n      <td>Población</td>\n      <td>513170</td>\n    </tr>\n    <tr>\n      <th>1</th>\n      <td>Huelva</td>\n      <td>Confirmados PDIA</td>\n      <td>24939</td>\n    </tr>\n    <tr>\n      <th>2</th>\n      <td>Huelva</td>\n      <td>Confirmados PDIA 14 días</td>\n      <td>330</td>\n    </tr>\n    <tr>\n      <th>3</th>\n      <td>Huelva</td>\n      <td>Tasa PDIA 14 días</td>\n      <td>64,30617534150477</td>\n    </tr>\n    <tr>\n      <th>4</th>\n      <td>Huelva</td>\n      <td>Confirmados PDIA 7 días</td>\n      <td>199</td>\n    </tr>\n    <tr>\n      <th>5</th>\n      <td>Huelva</td>\n      <td>Total Confirmados</td>\n      <td>25140</td>\n    </tr>\n    <tr>\n      <th>6</th>\n      <td>Huelva</td>\n      <td>Curados</td>\n      <td>18661</td>\n    </tr>\n    <tr>\n      <th>7</th>\n      <td>Huelva</td>\n      <td>Fallecidos</td>\n      <td>343</td>\n    </tr>\n  </tbody>\n</table>\n</div>"
     },
     "metadata": {},
     "execution_count": 4
    }
   ],
   "source": [
    "df[df['Lugar de residencia'] == 'Huelva']"
   ]
  },
  {
   "cell_type": "code",
   "execution_count": 5,
   "metadata": {},
   "outputs": [],
   "source": [
    "df['Valor'] = pd.to_numeric(df['Valor'],errors='coerce')"
   ]
  },
  {
   "cell_type": "code",
   "execution_count": 6,
   "metadata": {},
   "outputs": [],
   "source": [
    "dfAnterior = pd.read_csv('covid_huelva.csv', index_col='Lugar de residencia')"
   ]
  },
  {
   "cell_type": "code",
   "execution_count": 7,
   "metadata": {
    "tags": []
   },
   "outputs": [
    {
     "output_type": "stream",
     "name": "stdout",
     "text": [
      "Confirmados PCR en la provincia de Huelva:  24939.0\n",
      "<ipython-input-7-31b732756b19>:2: UserWarning: Boolean Series key will be reindexed to match DataFrame index.\n",
      "  p = df[df['Lugar de residencia'] == 'Huelva'][df['Medida'] == 'Confirmados PDIA']['Valor'].values[0]\n"
     ]
    }
   ],
   "source": [
    "# Confirmados PCR provincia Huelva\n",
    "p = df[df['Lugar de residencia'] == 'Huelva'][df['Medida'] == 'Confirmados PDIA']['Valor'].values[0]\n",
    "print('Confirmados PCR en la provincia de Huelva: ', p)"
   ]
  },
  {
   "cell_type": "code",
   "execution_count": 8,
   "metadata": {
    "tags": []
   },
   "outputs": [
    {
     "output_type": "stream",
     "name": "stdout",
     "text": [
      "Confirmados PCR en Huelva capital:  6613.0\n",
      "<ipython-input-8-e81bfb40e710>:2: UserWarning: Boolean Series key will be reindexed to match DataFrame index.\n",
      "  c = df[df['Lugar de residencia'] == 'Huelva (capital)'][df['Medida'] == 'Confirmados PDIA']['Valor'].values[0]\n"
     ]
    }
   ],
   "source": [
    "# Confirmados PCR Huelva capitalpd\n",
    "c = df[df['Lugar de residencia'] == 'Huelva (capital)'][df['Medida'] == 'Confirmados PDIA']['Valor'].values[0]\n",
    "print('Confirmados PCR en Huelva capital: ', c)"
   ]
  },
  {
   "cell_type": "code",
   "execution_count": 9,
   "metadata": {
    "tags": []
   },
   "outputs": [
    {
     "output_type": "stream",
     "name": "stderr",
     "text": [
      "<ipython-input-9-f09dd2050cc1>:1: UserWarning: Boolean Series key will be reindexed to match DataFrame index.\n  c7 = df[df['Lugar de residencia'] == 'Huelva (capital)'][df['Medida'] == 'Confirmados PDIA 7 días']['Valor'].values[0]\n<ipython-input-9-f09dd2050cc1>:2: UserWarning: Boolean Series key will be reindexed to match DataFrame index.\n  c14 = df[df['Lugar de residencia'] == 'Huelva (capital)'][df['Medida'] == 'Confirmados PDIA 14 días']['Valor'].values[0]\n<ipython-input-9-f09dd2050cc1>:3: UserWarning: Boolean Series key will be reindexed to match DataFrame index.\n  p = df[df['Lugar de residencia'] == 'Huelva (capital)'][df['Medida'] == 'Población']['Valor'].values[0]\n"
     ]
    }
   ],
   "source": [
    "c7 = df[df['Lugar de residencia'] == 'Huelva (capital)'][df['Medida'] == 'Confirmados PDIA 7 días']['Valor'].values[0]\n",
    "c14 = df[df['Lugar de residencia'] == 'Huelva (capital)'][df['Medida'] == 'Confirmados PDIA 14 días']['Valor'].values[0]\n",
    "p = df[df['Lugar de residencia'] == 'Huelva (capital)'][df['Medida'] == 'Población']['Valor'].values[0]"
   ]
  },
  {
   "cell_type": "code",
   "execution_count": 10,
   "metadata": {
    "tags": []
   },
   "outputs": [
    {
     "output_type": "stream",
     "name": "stdout",
     "text": [
      "Huelva (capital)\n\nUn positivo PCR cada 4110 personas en los últimos 7 días \n\nUn positivo PCR cada 2664 personas en los últimos 14 días\n"
     ]
    }
   ],
   "source": [
    "print('Huelva (capital)\\n')\n",
    "#print('Confirmados PCR 7 días x 1,000 habitantes: ', f\"{c7/(p/1000):.5f}\")\n",
    "print('Un positivo PCR cada', f\"{p/c7:.0f}\", 'personas en los últimos 7 días', '\\n')\n",
    "#print('Confirmados PCR 14 días x 1,000 habitantes: ', f\"{c14/(p/1000):.5f}\")\n",
    "print('Un positivo PCR cada', f\"{p/c14:.0f}\", 'personas en los últimos 14 días')"
   ]
  },
  {
   "cell_type": "code",
   "execution_count": 11,
   "metadata": {},
   "outputs": [],
   "source": [
    "filtro = ((df['Medida'] == 'Confirmados PDIA')| (df['Medida'] == 'Confirmados PDIA 7 días') | (df['Medida'] == 'Población' ) | (df['Medida'] == 'Confirmados PDIA 14 días')) & (df['Valor'] > 0)\n",
    "tabla = pd.pivot_table(df.loc[filtro], values='Valor', index='Lugar de residencia', columns='Medida').dropna()"
   ]
  },
  {
   "cell_type": "code",
   "execution_count": 12,
   "metadata": {},
   "outputs": [],
   "source": [
    "# Reorder columns\n",
    "tabla = tabla[['Confirmados PDIA', 'Confirmados PDIA 7 días', 'Confirmados PDIA 14 días', 'Población']]"
   ]
  },
  {
   "cell_type": "code",
   "execution_count": 13,
   "metadata": {},
   "outputs": [],
   "source": [
    "tabla['tasa7'] = tabla['Confirmados PDIA 7 días']/tabla['Población']*100000\n",
    "tabla['tasa14'] = tabla['Confirmados PDIA 14 días']/tabla['Población']*100000"
   ]
  },
  {
   "cell_type": "code",
   "execution_count": 14,
   "metadata": {},
   "outputs": [],
   "source": [
    "tabla['Diferencia PDIA'] = tabla['Confirmados PDIA'] - dfAnterior['Confirmados PDIA']"
   ]
  },
  {
   "cell_type": "code",
   "execution_count": 15,
   "metadata": {},
   "outputs": [
    {
     "output_type": "execute_result",
     "data": {
      "text/plain": [
       "Medida                             Confirmados PDIA  Confirmados PDIA 7 días  \\\n",
       "Lugar de residencia                                                            \n",
       "Huelva                                      24939.0                    199.0   \n",
       "Condado-Campiña                              7035.0                     95.0   \n",
       "Huelva-Costa                                15185.0                     96.0   \n",
       "Huelva (capital)                             6613.0                     35.0   \n",
       "Almonte                                       894.0                     19.0   \n",
       "Bollullos Par del Condado                     629.0                     11.0   \n",
       "Cartaya                                       971.0                     14.0   \n",
       "Isla Cristina                                1997.0                      9.0   \n",
       "Moguer                                        844.0                     10.0   \n",
       "Puebla de Guzmán                              108.0                     10.0   \n",
       "Palos de la Frontera                          460.0                      9.0   \n",
       "Lepe                                         2006.0                     11.0   \n",
       "Gibraleón                                     519.0                      6.0   \n",
       "Ayamonte                                     1231.0                     12.0   \n",
       "Rociana del Condado                           317.0                      5.0   \n",
       "Sierra de Huelva-Andévalo Central            2306.0                      7.0   \n",
       "Villalba del Alcor                            455.0                      9.0   \n",
       "Palma del Condado (La)                        988.0                      8.0   \n",
       "San Bartolomé de la Torre                     209.0                      9.0   \n",
       "Valverde del Camino                           421.0                      5.0   \n",
       "Villarrasa                                    132.0                      3.0   \n",
       "Alosno                                        124.0                      2.0   \n",
       "Beas                                          163.0                      1.0   \n",
       "Lucena del Puerto                             161.0                      1.0   \n",
       "Aljaraque                                     926.0                      1.0   \n",
       "Niebla                                        158.0                      1.0   \n",
       "Zalamea la Real                                85.0                      1.0   \n",
       "\n",
       "Medida                             Confirmados PDIA 14 días  Población  \\\n",
       "Lugar de residencia                                                      \n",
       "Huelva                                                330.0   513170.0   \n",
       "Condado-Campiña                                       148.0   156231.0   \n",
       "Huelva-Costa                                          173.0   289548.0   \n",
       "Huelva (capital)                                       54.0   143837.0   \n",
       "Almonte                                                30.0    24507.0   \n",
       "Bollullos Par del Condado                              18.0    14387.0   \n",
       "Cartaya                                                23.0    20083.0   \n",
       "Isla Cristina                                          16.0    21393.0   \n",
       "Moguer                                                 15.0    21867.0   \n",
       "Puebla de Guzmán                                       21.0     3092.0   \n",
       "Palos de la Frontera                                   11.0    11742.0   \n",
       "Lepe                                                   13.0    27880.0   \n",
       "Gibraleón                                               8.0    12737.0   \n",
       "Ayamonte                                               35.0    21104.0   \n",
       "Rociana del Condado                                     7.0     7939.0   \n",
       "Sierra de Huelva-Andévalo Central                       7.0    67391.0   \n",
       "Villalba del Alcor                                     10.0     3366.0   \n",
       "Palma del Condado (La)                                 11.0    10801.0   \n",
       "San Bartolomé de la Torre                              16.0     3761.0   \n",
       "Valverde del Camino                                     5.0    12750.0   \n",
       "Villarrasa                                              3.0     2211.0   \n",
       "Alosno                                                  4.0     3933.0   \n",
       "Beas                                                    2.0     4341.0   \n",
       "Lucena del Puerto                                       8.0     3261.0   \n",
       "Aljaraque                                               2.0    21474.0   \n",
       "Niebla                                                  1.0     4116.0   \n",
       "Zalamea la Real                                         1.0     3054.0   \n",
       "\n",
       "Medida                                  tasa7      tasa14  Diferencia PDIA  \n",
       "Lugar de residencia                                                         \n",
       "Huelva                              38.778572   64.306175            109.0  \n",
       "Condado-Campiña                     60.807394   94.731519             55.0  \n",
       "Huelva-Costa                        33.155125   59.748297             49.0  \n",
       "Huelva (capital)                    24.333099   37.542496             17.0  \n",
       "Almonte                             77.528869  122.414004             14.0  \n",
       "Bollullos Par del Condado           76.457913  125.112949              8.0  \n",
       "Cartaya                             69.710701  114.524722              8.0  \n",
       "Isla Cristina                       42.069836   74.790819              7.0  \n",
       "Moguer                              45.731010   68.596515              7.0  \n",
       "Puebla de Guzmán                   323.415265  679.172057              6.0  \n",
       "Palos de la Frontera                76.647931   93.680804              5.0  \n",
       "Lepe                                39.454806   46.628407              5.0  \n",
       "Gibraleón                           47.106854   62.809139              4.0  \n",
       "Ayamonte                            56.861259  165.845337              4.0  \n",
       "Rociana del Condado                 62.980224   88.172314              4.0  \n",
       "Sierra de Huelva-Andévalo Central   10.387144   10.387144              4.0  \n",
       "Villalba del Alcor                 267.379679  297.088532              4.0  \n",
       "Palma del Condado (La)              74.067216  101.842422              3.0  \n",
       "San Bartolomé de la Torre          239.298059  425.418772              3.0  \n",
       "Valverde del Camino                 39.215686   39.215686              3.0  \n",
       "Villarrasa                         135.685210  135.685210              2.0  \n",
       "Alosno                              50.851767  101.703534              1.0  \n",
       "Beas                                23.036167   46.072334              1.0  \n",
       "Lucena del Puerto                   30.665440  245.323520             -1.0  \n",
       "Aljaraque                            4.656794    9.313589              NaN  \n",
       "Niebla                              24.295432   24.295432              NaN  \n",
       "Zalamea la Real                     32.743942   32.743942              NaN  "
      ],
      "text/html": "<div>\n<style scoped>\n    .dataframe tbody tr th:only-of-type {\n        vertical-align: middle;\n    }\n\n    .dataframe tbody tr th {\n        vertical-align: top;\n    }\n\n    .dataframe thead th {\n        text-align: right;\n    }\n</style>\n<table border=\"1\" class=\"dataframe\">\n  <thead>\n    <tr style=\"text-align: right;\">\n      <th>Medida</th>\n      <th>Confirmados PDIA</th>\n      <th>Confirmados PDIA 7 días</th>\n      <th>Confirmados PDIA 14 días</th>\n      <th>Población</th>\n      <th>tasa7</th>\n      <th>tasa14</th>\n      <th>Diferencia PDIA</th>\n    </tr>\n    <tr>\n      <th>Lugar de residencia</th>\n      <th></th>\n      <th></th>\n      <th></th>\n      <th></th>\n      <th></th>\n      <th></th>\n      <th></th>\n    </tr>\n  </thead>\n  <tbody>\n    <tr>\n      <th>Huelva</th>\n      <td>24939.0</td>\n      <td>199.0</td>\n      <td>330.0</td>\n      <td>513170.0</td>\n      <td>38.778572</td>\n      <td>64.306175</td>\n      <td>109.0</td>\n    </tr>\n    <tr>\n      <th>Condado-Campiña</th>\n      <td>7035.0</td>\n      <td>95.0</td>\n      <td>148.0</td>\n      <td>156231.0</td>\n      <td>60.807394</td>\n      <td>94.731519</td>\n      <td>55.0</td>\n    </tr>\n    <tr>\n      <th>Huelva-Costa</th>\n      <td>15185.0</td>\n      <td>96.0</td>\n      <td>173.0</td>\n      <td>289548.0</td>\n      <td>33.155125</td>\n      <td>59.748297</td>\n      <td>49.0</td>\n    </tr>\n    <tr>\n      <th>Huelva (capital)</th>\n      <td>6613.0</td>\n      <td>35.0</td>\n      <td>54.0</td>\n      <td>143837.0</td>\n      <td>24.333099</td>\n      <td>37.542496</td>\n      <td>17.0</td>\n    </tr>\n    <tr>\n      <th>Almonte</th>\n      <td>894.0</td>\n      <td>19.0</td>\n      <td>30.0</td>\n      <td>24507.0</td>\n      <td>77.528869</td>\n      <td>122.414004</td>\n      <td>14.0</td>\n    </tr>\n    <tr>\n      <th>Bollullos Par del Condado</th>\n      <td>629.0</td>\n      <td>11.0</td>\n      <td>18.0</td>\n      <td>14387.0</td>\n      <td>76.457913</td>\n      <td>125.112949</td>\n      <td>8.0</td>\n    </tr>\n    <tr>\n      <th>Cartaya</th>\n      <td>971.0</td>\n      <td>14.0</td>\n      <td>23.0</td>\n      <td>20083.0</td>\n      <td>69.710701</td>\n      <td>114.524722</td>\n      <td>8.0</td>\n    </tr>\n    <tr>\n      <th>Isla Cristina</th>\n      <td>1997.0</td>\n      <td>9.0</td>\n      <td>16.0</td>\n      <td>21393.0</td>\n      <td>42.069836</td>\n      <td>74.790819</td>\n      <td>7.0</td>\n    </tr>\n    <tr>\n      <th>Moguer</th>\n      <td>844.0</td>\n      <td>10.0</td>\n      <td>15.0</td>\n      <td>21867.0</td>\n      <td>45.731010</td>\n      <td>68.596515</td>\n      <td>7.0</td>\n    </tr>\n    <tr>\n      <th>Puebla de Guzmán</th>\n      <td>108.0</td>\n      <td>10.0</td>\n      <td>21.0</td>\n      <td>3092.0</td>\n      <td>323.415265</td>\n      <td>679.172057</td>\n      <td>6.0</td>\n    </tr>\n    <tr>\n      <th>Palos de la Frontera</th>\n      <td>460.0</td>\n      <td>9.0</td>\n      <td>11.0</td>\n      <td>11742.0</td>\n      <td>76.647931</td>\n      <td>93.680804</td>\n      <td>5.0</td>\n    </tr>\n    <tr>\n      <th>Lepe</th>\n      <td>2006.0</td>\n      <td>11.0</td>\n      <td>13.0</td>\n      <td>27880.0</td>\n      <td>39.454806</td>\n      <td>46.628407</td>\n      <td>5.0</td>\n    </tr>\n    <tr>\n      <th>Gibraleón</th>\n      <td>519.0</td>\n      <td>6.0</td>\n      <td>8.0</td>\n      <td>12737.0</td>\n      <td>47.106854</td>\n      <td>62.809139</td>\n      <td>4.0</td>\n    </tr>\n    <tr>\n      <th>Ayamonte</th>\n      <td>1231.0</td>\n      <td>12.0</td>\n      <td>35.0</td>\n      <td>21104.0</td>\n      <td>56.861259</td>\n      <td>165.845337</td>\n      <td>4.0</td>\n    </tr>\n    <tr>\n      <th>Rociana del Condado</th>\n      <td>317.0</td>\n      <td>5.0</td>\n      <td>7.0</td>\n      <td>7939.0</td>\n      <td>62.980224</td>\n      <td>88.172314</td>\n      <td>4.0</td>\n    </tr>\n    <tr>\n      <th>Sierra de Huelva-Andévalo Central</th>\n      <td>2306.0</td>\n      <td>7.0</td>\n      <td>7.0</td>\n      <td>67391.0</td>\n      <td>10.387144</td>\n      <td>10.387144</td>\n      <td>4.0</td>\n    </tr>\n    <tr>\n      <th>Villalba del Alcor</th>\n      <td>455.0</td>\n      <td>9.0</td>\n      <td>10.0</td>\n      <td>3366.0</td>\n      <td>267.379679</td>\n      <td>297.088532</td>\n      <td>4.0</td>\n    </tr>\n    <tr>\n      <th>Palma del Condado (La)</th>\n      <td>988.0</td>\n      <td>8.0</td>\n      <td>11.0</td>\n      <td>10801.0</td>\n      <td>74.067216</td>\n      <td>101.842422</td>\n      <td>3.0</td>\n    </tr>\n    <tr>\n      <th>San Bartolomé de la Torre</th>\n      <td>209.0</td>\n      <td>9.0</td>\n      <td>16.0</td>\n      <td>3761.0</td>\n      <td>239.298059</td>\n      <td>425.418772</td>\n      <td>3.0</td>\n    </tr>\n    <tr>\n      <th>Valverde del Camino</th>\n      <td>421.0</td>\n      <td>5.0</td>\n      <td>5.0</td>\n      <td>12750.0</td>\n      <td>39.215686</td>\n      <td>39.215686</td>\n      <td>3.0</td>\n    </tr>\n    <tr>\n      <th>Villarrasa</th>\n      <td>132.0</td>\n      <td>3.0</td>\n      <td>3.0</td>\n      <td>2211.0</td>\n      <td>135.685210</td>\n      <td>135.685210</td>\n      <td>2.0</td>\n    </tr>\n    <tr>\n      <th>Alosno</th>\n      <td>124.0</td>\n      <td>2.0</td>\n      <td>4.0</td>\n      <td>3933.0</td>\n      <td>50.851767</td>\n      <td>101.703534</td>\n      <td>1.0</td>\n    </tr>\n    <tr>\n      <th>Beas</th>\n      <td>163.0</td>\n      <td>1.0</td>\n      <td>2.0</td>\n      <td>4341.0</td>\n      <td>23.036167</td>\n      <td>46.072334</td>\n      <td>1.0</td>\n    </tr>\n    <tr>\n      <th>Lucena del Puerto</th>\n      <td>161.0</td>\n      <td>1.0</td>\n      <td>8.0</td>\n      <td>3261.0</td>\n      <td>30.665440</td>\n      <td>245.323520</td>\n      <td>-1.0</td>\n    </tr>\n    <tr>\n      <th>Aljaraque</th>\n      <td>926.0</td>\n      <td>1.0</td>\n      <td>2.0</td>\n      <td>21474.0</td>\n      <td>4.656794</td>\n      <td>9.313589</td>\n      <td>NaN</td>\n    </tr>\n    <tr>\n      <th>Niebla</th>\n      <td>158.0</td>\n      <td>1.0</td>\n      <td>1.0</td>\n      <td>4116.0</td>\n      <td>24.295432</td>\n      <td>24.295432</td>\n      <td>NaN</td>\n    </tr>\n    <tr>\n      <th>Zalamea la Real</th>\n      <td>85.0</td>\n      <td>1.0</td>\n      <td>1.0</td>\n      <td>3054.0</td>\n      <td>32.743942</td>\n      <td>32.743942</td>\n      <td>NaN</td>\n    </tr>\n  </tbody>\n</table>\n</div>"
     },
     "metadata": {},
     "execution_count": 15
    }
   ],
   "source": [
    "# Nuevos casos desde la última captura\n",
    "tabla[tabla['Diferencia PDIA'] != 0].sort_values('Diferencia PDIA', ascending=False)"
   ]
  },
  {
   "cell_type": "code",
   "execution_count": 16,
   "metadata": {},
   "outputs": [],
   "source": [
    "if tabla[tabla['Diferencia PDIA'] != 0]['Diferencia PDIA'].sum() != 0:\n",
    "  # Save to csv\n",
    "  tabla.to_csv('covid_huelva.csv', encoding='utf-8', header=True, index=True)  "
   ]
  },
  {
   "cell_type": "code",
   "execution_count": 17,
   "metadata": {},
   "outputs": [
    {
     "output_type": "execute_result",
     "data": {
      "text/plain": [
       "Medida                             Confirmados PDIA  Confirmados PDIA 7 días  \\\n",
       "Lugar de residencia                                                            \n",
       "Puebla de Guzmán                              108.0                     10.0   \n",
       "San Bartolomé de la Torre                     209.0                      9.0   \n",
       "San Silvestre de Guzmán                        13.0                      1.0   \n",
       "Villalba del Alcor                            455.0                      9.0   \n",
       "Lucena del Puerto                             161.0                      1.0   \n",
       "Corteconcepción                                24.0                      1.0   \n",
       "Ayamonte                                     1231.0                     12.0   \n",
       "Villarrasa                                    132.0                      3.0   \n",
       "Bollullos Par del Condado                     629.0                     11.0   \n",
       "Almonte                                       894.0                     19.0   \n",
       "Cartaya                                       971.0                     14.0   \n",
       "Palma del Condado (La)                        988.0                      8.0   \n",
       "Alosno                                        124.0                      2.0   \n",
       "Condado-Campiña                              7035.0                     95.0   \n",
       "Palos de la Frontera                          460.0                      9.0   \n",
       "Rociana del Condado                           317.0                      5.0   \n",
       "Isla Cristina                                1997.0                      9.0   \n",
       "San Juan del Puerto                           365.0                      2.0   \n",
       "Moguer                                        844.0                     10.0   \n",
       "Huelva                                      24939.0                    199.0   \n",
       "Gibraleón                                     519.0                      6.0   \n",
       "Huelva-Costa                                15185.0                     96.0   \n",
       "Lepe                                         2006.0                     11.0   \n",
       "Beas                                          163.0                      1.0   \n",
       "Escacena del Campo                            140.0                      1.0   \n",
       "Valverde del Camino                           421.0                      5.0   \n",
       "Huelva (capital)                             6613.0                     35.0   \n",
       "Villablanca                                   177.0                      1.0   \n",
       "Zalamea la Real                                85.0                      1.0   \n",
       "Niebla                                        158.0                      1.0   \n",
       "Sierra de Huelva-Andévalo Central            2306.0                      7.0   \n",
       "Aljaraque                                     926.0                      1.0   \n",
       "\n",
       "Medida                             Confirmados PDIA 14 días  Población  \\\n",
       "Lugar de residencia                                                      \n",
       "Puebla de Guzmán                                       21.0     3092.0   \n",
       "San Bartolomé de la Torre                              16.0     3761.0   \n",
       "San Silvestre de Guzmán                                 2.0      614.0   \n",
       "Villalba del Alcor                                     10.0     3366.0   \n",
       "Lucena del Puerto                                       8.0     3261.0   \n",
       "Corteconcepción                                         1.0      536.0   \n",
       "Ayamonte                                               35.0    21104.0   \n",
       "Villarrasa                                              3.0     2211.0   \n",
       "Bollullos Par del Condado                              18.0    14387.0   \n",
       "Almonte                                                30.0    24507.0   \n",
       "Cartaya                                                23.0    20083.0   \n",
       "Palma del Condado (La)                                 11.0    10801.0   \n",
       "Alosno                                                  4.0     3933.0   \n",
       "Condado-Campiña                                       148.0   156231.0   \n",
       "Palos de la Frontera                                   11.0    11742.0   \n",
       "Rociana del Condado                                     7.0     7939.0   \n",
       "Isla Cristina                                          16.0    21393.0   \n",
       "San Juan del Puerto                                     7.0     9411.0   \n",
       "Moguer                                                 15.0    21867.0   \n",
       "Huelva                                                330.0   513170.0   \n",
       "Gibraleón                                               8.0    12737.0   \n",
       "Huelva-Costa                                          173.0   289548.0   \n",
       "Lepe                                                   13.0    27880.0   \n",
       "Beas                                                    2.0     4341.0   \n",
       "Escacena del Campo                                      1.0     2287.0   \n",
       "Valverde del Camino                                     5.0    12750.0   \n",
       "Huelva (capital)                                       54.0   143837.0   \n",
       "Villablanca                                             1.0     2885.0   \n",
       "Zalamea la Real                                         1.0     3054.0   \n",
       "Niebla                                                  1.0     4116.0   \n",
       "Sierra de Huelva-Andévalo Central                       7.0    67391.0   \n",
       "Aljaraque                                               2.0    21474.0   \n",
       "\n",
       "Medida                                  tasa7      tasa14  Diferencia PDIA  \n",
       "Lugar de residencia                                                         \n",
       "Puebla de Guzmán                   323.415265  679.172057              6.0  \n",
       "San Bartolomé de la Torre          239.298059  425.418772              3.0  \n",
       "San Silvestre de Guzmán            162.866450  325.732899              0.0  \n",
       "Villalba del Alcor                 267.379679  297.088532              4.0  \n",
       "Lucena del Puerto                   30.665440  245.323520             -1.0  \n",
       "Corteconcepción                    186.567164  186.567164              0.0  \n",
       "Ayamonte                            56.861259  165.845337              4.0  \n",
       "Villarrasa                         135.685210  135.685210              2.0  \n",
       "Bollullos Par del Condado           76.457913  125.112949              8.0  \n",
       "Almonte                             77.528869  122.414004             14.0  \n",
       "Cartaya                             69.710701  114.524722              8.0  \n",
       "Palma del Condado (La)              74.067216  101.842422              3.0  \n",
       "Alosno                              50.851767  101.703534              1.0  \n",
       "Condado-Campiña                     60.807394   94.731519             55.0  \n",
       "Palos de la Frontera                76.647931   93.680804              5.0  \n",
       "Rociana del Condado                 62.980224   88.172314              4.0  \n",
       "Isla Cristina                       42.069836   74.790819              7.0  \n",
       "San Juan del Puerto                 21.251727   74.381043              0.0  \n",
       "Moguer                              45.731010   68.596515              7.0  \n",
       "Huelva                              38.778572   64.306175            109.0  \n",
       "Gibraleón                           47.106854   62.809139              4.0  \n",
       "Huelva-Costa                        33.155125   59.748297             49.0  \n",
       "Lepe                                39.454806   46.628407              5.0  \n",
       "Beas                                23.036167   46.072334              1.0  \n",
       "Escacena del Campo                  43.725404   43.725404              0.0  \n",
       "Valverde del Camino                 39.215686   39.215686              3.0  \n",
       "Huelva (capital)                    24.333099   37.542496             17.0  \n",
       "Villablanca                         34.662045   34.662045              0.0  \n",
       "Zalamea la Real                     32.743942   32.743942              NaN  \n",
       "Niebla                              24.295432   24.295432              NaN  \n",
       "Sierra de Huelva-Andévalo Central   10.387144   10.387144              4.0  \n",
       "Aljaraque                            4.656794    9.313589              NaN  "
      ],
      "text/html": "<div>\n<style scoped>\n    .dataframe tbody tr th:only-of-type {\n        vertical-align: middle;\n    }\n\n    .dataframe tbody tr th {\n        vertical-align: top;\n    }\n\n    .dataframe thead th {\n        text-align: right;\n    }\n</style>\n<table border=\"1\" class=\"dataframe\">\n  <thead>\n    <tr style=\"text-align: right;\">\n      <th>Medida</th>\n      <th>Confirmados PDIA</th>\n      <th>Confirmados PDIA 7 días</th>\n      <th>Confirmados PDIA 14 días</th>\n      <th>Población</th>\n      <th>tasa7</th>\n      <th>tasa14</th>\n      <th>Diferencia PDIA</th>\n    </tr>\n    <tr>\n      <th>Lugar de residencia</th>\n      <th></th>\n      <th></th>\n      <th></th>\n      <th></th>\n      <th></th>\n      <th></th>\n      <th></th>\n    </tr>\n  </thead>\n  <tbody>\n    <tr>\n      <th>Puebla de Guzmán</th>\n      <td>108.0</td>\n      <td>10.0</td>\n      <td>21.0</td>\n      <td>3092.0</td>\n      <td>323.415265</td>\n      <td>679.172057</td>\n      <td>6.0</td>\n    </tr>\n    <tr>\n      <th>San Bartolomé de la Torre</th>\n      <td>209.0</td>\n      <td>9.0</td>\n      <td>16.0</td>\n      <td>3761.0</td>\n      <td>239.298059</td>\n      <td>425.418772</td>\n      <td>3.0</td>\n    </tr>\n    <tr>\n      <th>San Silvestre de Guzmán</th>\n      <td>13.0</td>\n      <td>1.0</td>\n      <td>2.0</td>\n      <td>614.0</td>\n      <td>162.866450</td>\n      <td>325.732899</td>\n      <td>0.0</td>\n    </tr>\n    <tr>\n      <th>Villalba del Alcor</th>\n      <td>455.0</td>\n      <td>9.0</td>\n      <td>10.0</td>\n      <td>3366.0</td>\n      <td>267.379679</td>\n      <td>297.088532</td>\n      <td>4.0</td>\n    </tr>\n    <tr>\n      <th>Lucena del Puerto</th>\n      <td>161.0</td>\n      <td>1.0</td>\n      <td>8.0</td>\n      <td>3261.0</td>\n      <td>30.665440</td>\n      <td>245.323520</td>\n      <td>-1.0</td>\n    </tr>\n    <tr>\n      <th>Corteconcepción</th>\n      <td>24.0</td>\n      <td>1.0</td>\n      <td>1.0</td>\n      <td>536.0</td>\n      <td>186.567164</td>\n      <td>186.567164</td>\n      <td>0.0</td>\n    </tr>\n    <tr>\n      <th>Ayamonte</th>\n      <td>1231.0</td>\n      <td>12.0</td>\n      <td>35.0</td>\n      <td>21104.0</td>\n      <td>56.861259</td>\n      <td>165.845337</td>\n      <td>4.0</td>\n    </tr>\n    <tr>\n      <th>Villarrasa</th>\n      <td>132.0</td>\n      <td>3.0</td>\n      <td>3.0</td>\n      <td>2211.0</td>\n      <td>135.685210</td>\n      <td>135.685210</td>\n      <td>2.0</td>\n    </tr>\n    <tr>\n      <th>Bollullos Par del Condado</th>\n      <td>629.0</td>\n      <td>11.0</td>\n      <td>18.0</td>\n      <td>14387.0</td>\n      <td>76.457913</td>\n      <td>125.112949</td>\n      <td>8.0</td>\n    </tr>\n    <tr>\n      <th>Almonte</th>\n      <td>894.0</td>\n      <td>19.0</td>\n      <td>30.0</td>\n      <td>24507.0</td>\n      <td>77.528869</td>\n      <td>122.414004</td>\n      <td>14.0</td>\n    </tr>\n    <tr>\n      <th>Cartaya</th>\n      <td>971.0</td>\n      <td>14.0</td>\n      <td>23.0</td>\n      <td>20083.0</td>\n      <td>69.710701</td>\n      <td>114.524722</td>\n      <td>8.0</td>\n    </tr>\n    <tr>\n      <th>Palma del Condado (La)</th>\n      <td>988.0</td>\n      <td>8.0</td>\n      <td>11.0</td>\n      <td>10801.0</td>\n      <td>74.067216</td>\n      <td>101.842422</td>\n      <td>3.0</td>\n    </tr>\n    <tr>\n      <th>Alosno</th>\n      <td>124.0</td>\n      <td>2.0</td>\n      <td>4.0</td>\n      <td>3933.0</td>\n      <td>50.851767</td>\n      <td>101.703534</td>\n      <td>1.0</td>\n    </tr>\n    <tr>\n      <th>Condado-Campiña</th>\n      <td>7035.0</td>\n      <td>95.0</td>\n      <td>148.0</td>\n      <td>156231.0</td>\n      <td>60.807394</td>\n      <td>94.731519</td>\n      <td>55.0</td>\n    </tr>\n    <tr>\n      <th>Palos de la Frontera</th>\n      <td>460.0</td>\n      <td>9.0</td>\n      <td>11.0</td>\n      <td>11742.0</td>\n      <td>76.647931</td>\n      <td>93.680804</td>\n      <td>5.0</td>\n    </tr>\n    <tr>\n      <th>Rociana del Condado</th>\n      <td>317.0</td>\n      <td>5.0</td>\n      <td>7.0</td>\n      <td>7939.0</td>\n      <td>62.980224</td>\n      <td>88.172314</td>\n      <td>4.0</td>\n    </tr>\n    <tr>\n      <th>Isla Cristina</th>\n      <td>1997.0</td>\n      <td>9.0</td>\n      <td>16.0</td>\n      <td>21393.0</td>\n      <td>42.069836</td>\n      <td>74.790819</td>\n      <td>7.0</td>\n    </tr>\n    <tr>\n      <th>San Juan del Puerto</th>\n      <td>365.0</td>\n      <td>2.0</td>\n      <td>7.0</td>\n      <td>9411.0</td>\n      <td>21.251727</td>\n      <td>74.381043</td>\n      <td>0.0</td>\n    </tr>\n    <tr>\n      <th>Moguer</th>\n      <td>844.0</td>\n      <td>10.0</td>\n      <td>15.0</td>\n      <td>21867.0</td>\n      <td>45.731010</td>\n      <td>68.596515</td>\n      <td>7.0</td>\n    </tr>\n    <tr>\n      <th>Huelva</th>\n      <td>24939.0</td>\n      <td>199.0</td>\n      <td>330.0</td>\n      <td>513170.0</td>\n      <td>38.778572</td>\n      <td>64.306175</td>\n      <td>109.0</td>\n    </tr>\n    <tr>\n      <th>Gibraleón</th>\n      <td>519.0</td>\n      <td>6.0</td>\n      <td>8.0</td>\n      <td>12737.0</td>\n      <td>47.106854</td>\n      <td>62.809139</td>\n      <td>4.0</td>\n    </tr>\n    <tr>\n      <th>Huelva-Costa</th>\n      <td>15185.0</td>\n      <td>96.0</td>\n      <td>173.0</td>\n      <td>289548.0</td>\n      <td>33.155125</td>\n      <td>59.748297</td>\n      <td>49.0</td>\n    </tr>\n    <tr>\n      <th>Lepe</th>\n      <td>2006.0</td>\n      <td>11.0</td>\n      <td>13.0</td>\n      <td>27880.0</td>\n      <td>39.454806</td>\n      <td>46.628407</td>\n      <td>5.0</td>\n    </tr>\n    <tr>\n      <th>Beas</th>\n      <td>163.0</td>\n      <td>1.0</td>\n      <td>2.0</td>\n      <td>4341.0</td>\n      <td>23.036167</td>\n      <td>46.072334</td>\n      <td>1.0</td>\n    </tr>\n    <tr>\n      <th>Escacena del Campo</th>\n      <td>140.0</td>\n      <td>1.0</td>\n      <td>1.0</td>\n      <td>2287.0</td>\n      <td>43.725404</td>\n      <td>43.725404</td>\n      <td>0.0</td>\n    </tr>\n    <tr>\n      <th>Valverde del Camino</th>\n      <td>421.0</td>\n      <td>5.0</td>\n      <td>5.0</td>\n      <td>12750.0</td>\n      <td>39.215686</td>\n      <td>39.215686</td>\n      <td>3.0</td>\n    </tr>\n    <tr>\n      <th>Huelva (capital)</th>\n      <td>6613.0</td>\n      <td>35.0</td>\n      <td>54.0</td>\n      <td>143837.0</td>\n      <td>24.333099</td>\n      <td>37.542496</td>\n      <td>17.0</td>\n    </tr>\n    <tr>\n      <th>Villablanca</th>\n      <td>177.0</td>\n      <td>1.0</td>\n      <td>1.0</td>\n      <td>2885.0</td>\n      <td>34.662045</td>\n      <td>34.662045</td>\n      <td>0.0</td>\n    </tr>\n    <tr>\n      <th>Zalamea la Real</th>\n      <td>85.0</td>\n      <td>1.0</td>\n      <td>1.0</td>\n      <td>3054.0</td>\n      <td>32.743942</td>\n      <td>32.743942</td>\n      <td>NaN</td>\n    </tr>\n    <tr>\n      <th>Niebla</th>\n      <td>158.0</td>\n      <td>1.0</td>\n      <td>1.0</td>\n      <td>4116.0</td>\n      <td>24.295432</td>\n      <td>24.295432</td>\n      <td>NaN</td>\n    </tr>\n    <tr>\n      <th>Sierra de Huelva-Andévalo Central</th>\n      <td>2306.0</td>\n      <td>7.0</td>\n      <td>7.0</td>\n      <td>67391.0</td>\n      <td>10.387144</td>\n      <td>10.387144</td>\n      <td>4.0</td>\n    </tr>\n    <tr>\n      <th>Aljaraque</th>\n      <td>926.0</td>\n      <td>1.0</td>\n      <td>2.0</td>\n      <td>21474.0</td>\n      <td>4.656794</td>\n      <td>9.313589</td>\n      <td>NaN</td>\n    </tr>\n  </tbody>\n</table>\n</div>"
     },
     "metadata": {},
     "execution_count": 17
    }
   ],
   "source": [
    "tabla.sort_values('tasa14', ascending=False)"
   ]
  },
  {
   "cell_type": "code",
   "execution_count": 18,
   "metadata": {},
   "outputs": [
    {
     "output_type": "execute_result",
     "data": {
      "text/plain": [
       "Medida                             Confirmados PDIA  Confirmados PDIA 7 días  \\\n",
       "Lugar de residencia                                                            \n",
       "Lucena del Puerto                             161.0                      1.0   \n",
       "San Juan del Puerto                           365.0                      2.0   \n",
       "Ayamonte                                     1231.0                     12.0   \n",
       "Puebla de Guzmán                              108.0                     10.0   \n",
       "San Silvestre de Guzmán                        13.0                      1.0   \n",
       "Aljaraque                                     926.0                      1.0   \n",
       "Beas                                          163.0                      1.0   \n",
       "Alosno                                        124.0                      2.0   \n",
       "Huelva-Costa                                15185.0                     96.0   \n",
       "San Bartolomé de la Torre                     209.0                      9.0   \n",
       "Isla Cristina                                1997.0                      9.0   \n",
       "Huelva                                      24939.0                    199.0   \n",
       "Cartaya                                       971.0                     14.0   \n",
       "Bollullos Par del Condado                     629.0                     11.0   \n",
       "Almonte                                       894.0                     19.0   \n",
       "Condado-Campiña                              7035.0                     95.0   \n",
       "Huelva (capital)                             6613.0                     35.0   \n",
       "Moguer                                        844.0                     10.0   \n",
       "Rociana del Condado                           317.0                      5.0   \n",
       "Palma del Condado (La)                        988.0                      8.0   \n",
       "Gibraleón                                     519.0                      6.0   \n",
       "Palos de la Frontera                          460.0                      9.0   \n",
       "Lepe                                         2006.0                     11.0   \n",
       "Villalba del Alcor                            455.0                      9.0   \n",
       "Villarrasa                                    132.0                      3.0   \n",
       "Escacena del Campo                            140.0                      1.0   \n",
       "Corteconcepción                                24.0                      1.0   \n",
       "Sierra de Huelva-Andévalo Central            2306.0                      7.0   \n",
       "Valverde del Camino                           421.0                      5.0   \n",
       "Villablanca                                   177.0                      1.0   \n",
       "Niebla                                        158.0                      1.0   \n",
       "Zalamea la Real                                85.0                      1.0   \n",
       "\n",
       "Medida                             Confirmados PDIA 14 días  Población  \\\n",
       "Lugar de residencia                                                      \n",
       "Lucena del Puerto                                       8.0     3261.0   \n",
       "San Juan del Puerto                                     7.0     9411.0   \n",
       "Ayamonte                                               35.0    21104.0   \n",
       "Puebla de Guzmán                                       21.0     3092.0   \n",
       "San Silvestre de Guzmán                                 2.0      614.0   \n",
       "Aljaraque                                               2.0    21474.0   \n",
       "Beas                                                    2.0     4341.0   \n",
       "Alosno                                                  4.0     3933.0   \n",
       "Huelva-Costa                                          173.0   289548.0   \n",
       "San Bartolomé de la Torre                              16.0     3761.0   \n",
       "Isla Cristina                                          16.0    21393.0   \n",
       "Huelva                                                330.0   513170.0   \n",
       "Cartaya                                                23.0    20083.0   \n",
       "Bollullos Par del Condado                              18.0    14387.0   \n",
       "Almonte                                                30.0    24507.0   \n",
       "Condado-Campiña                                       148.0   156231.0   \n",
       "Huelva (capital)                                       54.0   143837.0   \n",
       "Moguer                                                 15.0    21867.0   \n",
       "Rociana del Condado                                     7.0     7939.0   \n",
       "Palma del Condado (La)                                 11.0    10801.0   \n",
       "Gibraleón                                               8.0    12737.0   \n",
       "Palos de la Frontera                                   11.0    11742.0   \n",
       "Lepe                                                   13.0    27880.0   \n",
       "Villalba del Alcor                                     10.0     3366.0   \n",
       "Villarrasa                                              3.0     2211.0   \n",
       "Escacena del Campo                                      1.0     2287.0   \n",
       "Corteconcepción                                         1.0      536.0   \n",
       "Sierra de Huelva-Andévalo Central                       7.0    67391.0   \n",
       "Valverde del Camino                                     5.0    12750.0   \n",
       "Villablanca                                             1.0     2885.0   \n",
       "Niebla                                                  1.0     4116.0   \n",
       "Zalamea la Real                                         1.0     3054.0   \n",
       "\n",
       "Medida                                  tasa7      tasa14  Diferencia PDIA  \\\n",
       "Lugar de residencia                                                          \n",
       "Lucena del Puerto                   30.665440  245.323520             -1.0   \n",
       "San Juan del Puerto                 21.251727   74.381043              0.0   \n",
       "Ayamonte                            56.861259  165.845337              4.0   \n",
       "Puebla de Guzmán                   323.415265  679.172057              6.0   \n",
       "San Silvestre de Guzmán            162.866450  325.732899              0.0   \n",
       "Aljaraque                            4.656794    9.313589              0.0   \n",
       "Beas                                23.036167   46.072334              1.0   \n",
       "Alosno                              50.851767  101.703534              1.0   \n",
       "Huelva-Costa                        33.155125   59.748297             49.0   \n",
       "San Bartolomé de la Torre          239.298059  425.418772              3.0   \n",
       "Isla Cristina                       42.069836   74.790819              7.0   \n",
       "Huelva                              38.778572   64.306175            109.0   \n",
       "Cartaya                             69.710701  114.524722              8.0   \n",
       "Bollullos Par del Condado           76.457913  125.112949              8.0   \n",
       "Almonte                             77.528869  122.414004             14.0   \n",
       "Condado-Campiña                     60.807394   94.731519             55.0   \n",
       "Huelva (capital)                    24.333099   37.542496             17.0   \n",
       "Moguer                              45.731010   68.596515              7.0   \n",
       "Rociana del Condado                 62.980224   88.172314              4.0   \n",
       "Palma del Condado (La)              74.067216  101.842422              3.0   \n",
       "Gibraleón                           47.106854   62.809139              4.0   \n",
       "Palos de la Frontera                76.647931   93.680804              5.0   \n",
       "Lepe                                39.454806   46.628407              5.0   \n",
       "Villalba del Alcor                 267.379679  297.088532              4.0   \n",
       "Villarrasa                         135.685210  135.685210              2.0   \n",
       "Escacena del Campo                  43.725404   43.725404              0.0   \n",
       "Corteconcepción                    186.567164  186.567164              0.0   \n",
       "Sierra de Huelva-Andévalo Central   10.387144   10.387144              4.0   \n",
       "Valverde del Camino                 39.215686   39.215686              3.0   \n",
       "Villablanca                         34.662045   34.662045              0.0   \n",
       "Niebla                              24.295432   24.295432              0.0   \n",
       "Zalamea la Real                     32.743942   32.743942              0.0   \n",
       "\n",
       "Medida                                 7/14  \n",
       "Lugar de residencia                          \n",
       "Lucena del Puerto                  0.125000  \n",
       "San Juan del Puerto                0.285714  \n",
       "Ayamonte                           0.342857  \n",
       "Puebla de Guzmán                   0.476190  \n",
       "San Silvestre de Guzmán            0.500000  \n",
       "Aljaraque                          0.500000  \n",
       "Beas                               0.500000  \n",
       "Alosno                             0.500000  \n",
       "Huelva-Costa                       0.554913  \n",
       "San Bartolomé de la Torre          0.562500  \n",
       "Isla Cristina                      0.562500  \n",
       "Huelva                             0.603030  \n",
       "Cartaya                            0.608696  \n",
       "Bollullos Par del Condado          0.611111  \n",
       "Almonte                            0.633333  \n",
       "Condado-Campiña                    0.641892  \n",
       "Huelva (capital)                   0.648148  \n",
       "Moguer                             0.666667  \n",
       "Rociana del Condado                0.714286  \n",
       "Palma del Condado (La)             0.727273  \n",
       "Gibraleón                          0.750000  \n",
       "Palos de la Frontera               0.818182  \n",
       "Lepe                               0.846154  \n",
       "Villalba del Alcor                 0.900000  \n",
       "Villarrasa                         1.000000  \n",
       "Escacena del Campo                 1.000000  \n",
       "Corteconcepción                    1.000000  \n",
       "Sierra de Huelva-Andévalo Central  1.000000  \n",
       "Valverde del Camino                1.000000  \n",
       "Villablanca                        1.000000  \n",
       "Niebla                             1.000000  \n",
       "Zalamea la Real                    1.000000  "
      ],
      "text/html": "<div>\n<style scoped>\n    .dataframe tbody tr th:only-of-type {\n        vertical-align: middle;\n    }\n\n    .dataframe tbody tr th {\n        vertical-align: top;\n    }\n\n    .dataframe thead th {\n        text-align: right;\n    }\n</style>\n<table border=\"1\" class=\"dataframe\">\n  <thead>\n    <tr style=\"text-align: right;\">\n      <th>Medida</th>\n      <th>Confirmados PDIA</th>\n      <th>Confirmados PDIA 7 días</th>\n      <th>Confirmados PDIA 14 días</th>\n      <th>Población</th>\n      <th>tasa7</th>\n      <th>tasa14</th>\n      <th>Diferencia PDIA</th>\n      <th>7/14</th>\n    </tr>\n    <tr>\n      <th>Lugar de residencia</th>\n      <th></th>\n      <th></th>\n      <th></th>\n      <th></th>\n      <th></th>\n      <th></th>\n      <th></th>\n      <th></th>\n    </tr>\n  </thead>\n  <tbody>\n    <tr>\n      <th>Lucena del Puerto</th>\n      <td>161.0</td>\n      <td>1.0</td>\n      <td>8.0</td>\n      <td>3261.0</td>\n      <td>30.665440</td>\n      <td>245.323520</td>\n      <td>-1.0</td>\n      <td>0.125000</td>\n    </tr>\n    <tr>\n      <th>San Juan del Puerto</th>\n      <td>365.0</td>\n      <td>2.0</td>\n      <td>7.0</td>\n      <td>9411.0</td>\n      <td>21.251727</td>\n      <td>74.381043</td>\n      <td>0.0</td>\n      <td>0.285714</td>\n    </tr>\n    <tr>\n      <th>Ayamonte</th>\n      <td>1231.0</td>\n      <td>12.0</td>\n      <td>35.0</td>\n      <td>21104.0</td>\n      <td>56.861259</td>\n      <td>165.845337</td>\n      <td>4.0</td>\n      <td>0.342857</td>\n    </tr>\n    <tr>\n      <th>Puebla de Guzmán</th>\n      <td>108.0</td>\n      <td>10.0</td>\n      <td>21.0</td>\n      <td>3092.0</td>\n      <td>323.415265</td>\n      <td>679.172057</td>\n      <td>6.0</td>\n      <td>0.476190</td>\n    </tr>\n    <tr>\n      <th>San Silvestre de Guzmán</th>\n      <td>13.0</td>\n      <td>1.0</td>\n      <td>2.0</td>\n      <td>614.0</td>\n      <td>162.866450</td>\n      <td>325.732899</td>\n      <td>0.0</td>\n      <td>0.500000</td>\n    </tr>\n    <tr>\n      <th>Aljaraque</th>\n      <td>926.0</td>\n      <td>1.0</td>\n      <td>2.0</td>\n      <td>21474.0</td>\n      <td>4.656794</td>\n      <td>9.313589</td>\n      <td>0.0</td>\n      <td>0.500000</td>\n    </tr>\n    <tr>\n      <th>Beas</th>\n      <td>163.0</td>\n      <td>1.0</td>\n      <td>2.0</td>\n      <td>4341.0</td>\n      <td>23.036167</td>\n      <td>46.072334</td>\n      <td>1.0</td>\n      <td>0.500000</td>\n    </tr>\n    <tr>\n      <th>Alosno</th>\n      <td>124.0</td>\n      <td>2.0</td>\n      <td>4.0</td>\n      <td>3933.0</td>\n      <td>50.851767</td>\n      <td>101.703534</td>\n      <td>1.0</td>\n      <td>0.500000</td>\n    </tr>\n    <tr>\n      <th>Huelva-Costa</th>\n      <td>15185.0</td>\n      <td>96.0</td>\n      <td>173.0</td>\n      <td>289548.0</td>\n      <td>33.155125</td>\n      <td>59.748297</td>\n      <td>49.0</td>\n      <td>0.554913</td>\n    </tr>\n    <tr>\n      <th>San Bartolomé de la Torre</th>\n      <td>209.0</td>\n      <td>9.0</td>\n      <td>16.0</td>\n      <td>3761.0</td>\n      <td>239.298059</td>\n      <td>425.418772</td>\n      <td>3.0</td>\n      <td>0.562500</td>\n    </tr>\n    <tr>\n      <th>Isla Cristina</th>\n      <td>1997.0</td>\n      <td>9.0</td>\n      <td>16.0</td>\n      <td>21393.0</td>\n      <td>42.069836</td>\n      <td>74.790819</td>\n      <td>7.0</td>\n      <td>0.562500</td>\n    </tr>\n    <tr>\n      <th>Huelva</th>\n      <td>24939.0</td>\n      <td>199.0</td>\n      <td>330.0</td>\n      <td>513170.0</td>\n      <td>38.778572</td>\n      <td>64.306175</td>\n      <td>109.0</td>\n      <td>0.603030</td>\n    </tr>\n    <tr>\n      <th>Cartaya</th>\n      <td>971.0</td>\n      <td>14.0</td>\n      <td>23.0</td>\n      <td>20083.0</td>\n      <td>69.710701</td>\n      <td>114.524722</td>\n      <td>8.0</td>\n      <td>0.608696</td>\n    </tr>\n    <tr>\n      <th>Bollullos Par del Condado</th>\n      <td>629.0</td>\n      <td>11.0</td>\n      <td>18.0</td>\n      <td>14387.0</td>\n      <td>76.457913</td>\n      <td>125.112949</td>\n      <td>8.0</td>\n      <td>0.611111</td>\n    </tr>\n    <tr>\n      <th>Almonte</th>\n      <td>894.0</td>\n      <td>19.0</td>\n      <td>30.0</td>\n      <td>24507.0</td>\n      <td>77.528869</td>\n      <td>122.414004</td>\n      <td>14.0</td>\n      <td>0.633333</td>\n    </tr>\n    <tr>\n      <th>Condado-Campiña</th>\n      <td>7035.0</td>\n      <td>95.0</td>\n      <td>148.0</td>\n      <td>156231.0</td>\n      <td>60.807394</td>\n      <td>94.731519</td>\n      <td>55.0</td>\n      <td>0.641892</td>\n    </tr>\n    <tr>\n      <th>Huelva (capital)</th>\n      <td>6613.0</td>\n      <td>35.0</td>\n      <td>54.0</td>\n      <td>143837.0</td>\n      <td>24.333099</td>\n      <td>37.542496</td>\n      <td>17.0</td>\n      <td>0.648148</td>\n    </tr>\n    <tr>\n      <th>Moguer</th>\n      <td>844.0</td>\n      <td>10.0</td>\n      <td>15.0</td>\n      <td>21867.0</td>\n      <td>45.731010</td>\n      <td>68.596515</td>\n      <td>7.0</td>\n      <td>0.666667</td>\n    </tr>\n    <tr>\n      <th>Rociana del Condado</th>\n      <td>317.0</td>\n      <td>5.0</td>\n      <td>7.0</td>\n      <td>7939.0</td>\n      <td>62.980224</td>\n      <td>88.172314</td>\n      <td>4.0</td>\n      <td>0.714286</td>\n    </tr>\n    <tr>\n      <th>Palma del Condado (La)</th>\n      <td>988.0</td>\n      <td>8.0</td>\n      <td>11.0</td>\n      <td>10801.0</td>\n      <td>74.067216</td>\n      <td>101.842422</td>\n      <td>3.0</td>\n      <td>0.727273</td>\n    </tr>\n    <tr>\n      <th>Gibraleón</th>\n      <td>519.0</td>\n      <td>6.0</td>\n      <td>8.0</td>\n      <td>12737.0</td>\n      <td>47.106854</td>\n      <td>62.809139</td>\n      <td>4.0</td>\n      <td>0.750000</td>\n    </tr>\n    <tr>\n      <th>Palos de la Frontera</th>\n      <td>460.0</td>\n      <td>9.0</td>\n      <td>11.0</td>\n      <td>11742.0</td>\n      <td>76.647931</td>\n      <td>93.680804</td>\n      <td>5.0</td>\n      <td>0.818182</td>\n    </tr>\n    <tr>\n      <th>Lepe</th>\n      <td>2006.0</td>\n      <td>11.0</td>\n      <td>13.0</td>\n      <td>27880.0</td>\n      <td>39.454806</td>\n      <td>46.628407</td>\n      <td>5.0</td>\n      <td>0.846154</td>\n    </tr>\n    <tr>\n      <th>Villalba del Alcor</th>\n      <td>455.0</td>\n      <td>9.0</td>\n      <td>10.0</td>\n      <td>3366.0</td>\n      <td>267.379679</td>\n      <td>297.088532</td>\n      <td>4.0</td>\n      <td>0.900000</td>\n    </tr>\n    <tr>\n      <th>Villarrasa</th>\n      <td>132.0</td>\n      <td>3.0</td>\n      <td>3.0</td>\n      <td>2211.0</td>\n      <td>135.685210</td>\n      <td>135.685210</td>\n      <td>2.0</td>\n      <td>1.000000</td>\n    </tr>\n    <tr>\n      <th>Escacena del Campo</th>\n      <td>140.0</td>\n      <td>1.0</td>\n      <td>1.0</td>\n      <td>2287.0</td>\n      <td>43.725404</td>\n      <td>43.725404</td>\n      <td>0.0</td>\n      <td>1.000000</td>\n    </tr>\n    <tr>\n      <th>Corteconcepción</th>\n      <td>24.0</td>\n      <td>1.0</td>\n      <td>1.0</td>\n      <td>536.0</td>\n      <td>186.567164</td>\n      <td>186.567164</td>\n      <td>0.0</td>\n      <td>1.000000</td>\n    </tr>\n    <tr>\n      <th>Sierra de Huelva-Andévalo Central</th>\n      <td>2306.0</td>\n      <td>7.0</td>\n      <td>7.0</td>\n      <td>67391.0</td>\n      <td>10.387144</td>\n      <td>10.387144</td>\n      <td>4.0</td>\n      <td>1.000000</td>\n    </tr>\n    <tr>\n      <th>Valverde del Camino</th>\n      <td>421.0</td>\n      <td>5.0</td>\n      <td>5.0</td>\n      <td>12750.0</td>\n      <td>39.215686</td>\n      <td>39.215686</td>\n      <td>3.0</td>\n      <td>1.000000</td>\n    </tr>\n    <tr>\n      <th>Villablanca</th>\n      <td>177.0</td>\n      <td>1.0</td>\n      <td>1.0</td>\n      <td>2885.0</td>\n      <td>34.662045</td>\n      <td>34.662045</td>\n      <td>0.0</td>\n      <td>1.000000</td>\n    </tr>\n    <tr>\n      <th>Niebla</th>\n      <td>158.0</td>\n      <td>1.0</td>\n      <td>1.0</td>\n      <td>4116.0</td>\n      <td>24.295432</td>\n      <td>24.295432</td>\n      <td>0.0</td>\n      <td>1.000000</td>\n    </tr>\n    <tr>\n      <th>Zalamea la Real</th>\n      <td>85.0</td>\n      <td>1.0</td>\n      <td>1.0</td>\n      <td>3054.0</td>\n      <td>32.743942</td>\n      <td>32.743942</td>\n      <td>0.0</td>\n      <td>1.000000</td>\n    </tr>\n  </tbody>\n</table>\n</div>"
     },
     "metadata": {},
     "execution_count": 18
    }
   ],
   "source": [
    "# Peso de la tasa de la última semana en relación con la tasa a 14 días \n",
    "# Mejor cuanto menor. Valor 1 significa que no había casos antes de 7 días.\n",
    "tabla['7/14'] = tabla['tasa7'] / tabla['tasa14']\n",
    "tabla.fillna(0).sort_values('7/14', ascending=True)"
   ]
  },
  {
   "cell_type": "code",
   "execution_count": null,
   "metadata": {},
   "outputs": [],
   "source": []
  }
 ]
}