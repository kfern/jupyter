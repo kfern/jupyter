{
 "metadata": {
  "language_info": {
   "codemirror_mode": {
    "name": "ipython",
    "version": 3
   },
   "file_extension": ".py",
   "mimetype": "text/x-python",
   "name": "python",
   "nbconvert_exporter": "python",
   "pygments_lexer": "ipython3",
   "version": "3.6.9-final"
  },
  "orig_nbformat": 2,
  "kernelspec": {
   "name": "python_defaultSpec_1600801483302",
   "display_name": "Python 3.6.9 64-bit"
  }
 },
 "nbformat": 4,
 "nbformat_minor": 2,
 "cells": [
  {
   "cell_type": "code",
   "execution_count": 1,
   "metadata": {},
   "outputs": [],
   "source": [
    "import pandas as pd"
   ]
  },
  {
   "cell_type": "code",
   "execution_count": 2,
   "metadata": {},
   "outputs": [],
   "source": [
    "url = 'https://www.juntadeandalucia.es/institutodeestadisticaycartografia/badea/stpivot/stpivot/Print?cube=013d884c-cfc5-4c21-9e78-e26225682afd&type=3&foto=si&ejecutaDesde=&codConsulta=38668&consTipoVisua=JP'\n",
    "fields = ['Lugar de residencia', 'Medida', 'Valor']\n",
    "df = pd.read_csv(url, delimiter=';', usecols=fields, decimal=',')"
   ]
  },
  {
   "cell_type": "code",
   "execution_count": 3,
   "metadata": {},
   "outputs": [],
   "source": [
    "df['Valor'] = pd.to_numeric(df['Valor'],errors='coerce')"
   ]
  },
  {
   "cell_type": "code",
   "execution_count": 4,
   "metadata": {},
   "outputs": [],
   "source": [
    "dfAnterior = pd.read_csv('covid_huelva.csv', index_col='Lugar de residencia')"
   ]
  },
  {
   "cell_type": "code",
   "execution_count": 5,
   "metadata": {
    "tags": []
   },
   "outputs": [
    {
     "output_type": "stream",
     "name": "stdout",
     "text": "Confirmados PCR en la provincia de Huelva:  1153.0\n"
    }
   ],
   "source": [
    "# Confirmados PCR provincia Huelva\n",
    "p = df[df['Lugar de residencia'] == 'Huelva'][df['Medida'] == 'Confirmados PCR']['Valor'].values[0]\n",
    "print('Confirmados PCR en la provincia de Huelva: ', p)"
   ]
  },
  {
   "cell_type": "code",
   "execution_count": 6,
   "metadata": {
    "tags": []
   },
   "outputs": [
    {
     "output_type": "stream",
     "name": "stdout",
     "text": "Confirmados PCR en Huelva capital:  306.0\n"
    }
   ],
   "source": [
    "# Confirmados PCR Huelva capital\n",
    "c = df[df['Lugar de residencia'] == 'Huelva (capital)'][df['Medida'] == 'Confirmados PCR']['Valor'].values[0]\n",
    "print('Confirmados PCR en Huelva capital: ', c)"
   ]
  },
  {
   "cell_type": "code",
   "execution_count": 7,
   "metadata": {
    "tags": []
   },
   "outputs": [],
   "source": [
    "c7 = df[df['Lugar de residencia'] == 'Huelva (capital)'][df['Medida'] == 'Confirmados PCR 7 días']['Valor'].values[0]\n",
    "c14 = df[df['Lugar de residencia'] == 'Huelva (capital)'][df['Medida'] == 'Confirmados PCR 14 días']['Valor'].values[0]\n",
    "p = df[df['Lugar de residencia'] == 'Huelva (capital)'][df['Medida'] == 'Población']['Valor'].values[0]"
   ]
  },
  {
   "cell_type": "code",
   "execution_count": 8,
   "metadata": {
    "tags": []
   },
   "outputs": [
    {
     "output_type": "stream",
     "name": "stdout",
     "text": "Huelva (capital)\n\nUn positivo PCR cada 2993 personas en los últimos 7 días \n\nUn positivo PCR cada 1731 personas en los últimos 14 días\n"
    }
   ],
   "source": [
    "print('Huelva (capital)\\n')\n",
    "#print('Confirmados PCR 7 días x 1,000 habitantes: ', f\"{c7/(p/1000):.5f}\")\n",
    "print('Un positivo PCR cada', f\"{p/c7:.0f}\", 'personas en los últimos 7 días', '\\n')\n",
    "#print('Confirmados PCR 14 días x 1,000 habitantes: ', f\"{c14/(p/1000):.5f}\")\n",
    "print('Un positivo PCR cada', f\"{p/c14:.0f}\", 'personas en los últimos 14 días')"
   ]
  },
  {
   "cell_type": "code",
   "execution_count": 9,
   "metadata": {},
   "outputs": [],
   "source": [
    "filtro = ((df['Medida'] == 'Confirmados PCR')| (df['Medida'] == 'Confirmados PCR 7 días') | (df['Medida'] == 'Población' ) | (df['Medida'] == 'Confirmados PCR 14 días')) & (df['Valor'] > 0)\n",
    "tabla = pd.pivot_table(df.loc[filtro], values='Valor', index='Lugar de residencia', columns='Medida').dropna()"
   ]
  },
  {
   "cell_type": "code",
   "execution_count": 10,
   "metadata": {},
   "outputs": [],
   "source": [
    "# Reorder columns\n",
    "tabla = tabla[['Confirmados PCR', 'Confirmados PCR 7 días', 'Confirmados PCR 14 días', 'Población']]"
   ]
  },
  {
   "cell_type": "code",
   "execution_count": 11,
   "metadata": {},
   "outputs": [],
   "source": [
    "tabla['tasa7'] = tabla['Confirmados PCR 7 días']/tabla['Población']*100000\n",
    "tabla['tasa14'] = tabla['Confirmados PCR 14 días']/tabla['Población']*100000"
   ]
  },
  {
   "cell_type": "code",
   "execution_count": 12,
   "metadata": {},
   "outputs": [],
   "source": [
    "tabla['Diferencia PCR'] = tabla['Confirmados PCR'] - dfAnterior['Confirmados PCR']"
   ]
  },
  {
   "cell_type": "code",
   "execution_count": 13,
   "metadata": {},
   "outputs": [
    {
     "output_type": "execute_result",
     "data": {
      "text/plain": "Medida                             Confirmados PCR  Confirmados PCR 7 días  \\\nLugar de residencia                                                          \nHuelva                                      1153.0                   159.0   \nHuelva-Costa                                 617.0                    92.0   \nAroche                                         8.0                     4.0   \nCondado-Campiña                              349.0                    48.0   \nSierra de Huelva-Andévalo Central            167.0                    17.0   \nPalos de la Frontera                          26.0                     5.0   \nAyamonte                                      38.0                    12.0   \nCartaya                                       21.0                     2.0   \nHuelva (capital)                             306.0                    48.0   \nLepe                                          74.0                     9.0   \nPalma del Condado (La)                        36.0                     5.0   \n\nMedida                             Confirmados PCR 14 días  Población  \\\nLugar de residencia                                                     \nHuelva                                               336.0   510743.0   \nHuelva-Costa                                         190.0   288115.0   \nAroche                                                 6.0     3073.0   \nCondado-Campiña                                      109.0   155057.0   \nSierra de Huelva-Andévalo Central                     28.0    67571.0   \nPalos de la Frontera                                  18.0    11289.0   \nAyamonte                                              23.0    20946.0   \nCartaya                                                7.0    19974.0   \nHuelva (capital)                                      83.0   143663.0   \nLepe                                                  19.0    27431.0   \nPalma del Condado (La)                                11.0    10761.0   \n\nMedida                                  tasa7      tasa14  Diferencia PCR  \nLugar de residencia                                                        \nHuelva                              31.131117   65.786511            12.0  \nHuelva-Costa                        31.931694   65.945890             5.0  \nAroche                             130.165962  195.248942             3.0  \nCondado-Campiña                     30.956358   70.296730             3.0  \nSierra de Huelva-Andévalo Central   25.158722   41.437895             3.0  \nPalos de la Frontera                44.290903  159.447250             2.0  \nAyamonte                            57.290175  109.806168             1.0  \nCartaya                             10.013017   35.045559             1.0  \nHuelva (capital)                    33.411526   57.774096             1.0  \nLepe                                32.809595   69.264701             1.0  \nPalma del Condado (La)              46.464083  102.220983             1.0  ",
      "text/html": "<div>\n<style scoped>\n    .dataframe tbody tr th:only-of-type {\n        vertical-align: middle;\n    }\n\n    .dataframe tbody tr th {\n        vertical-align: top;\n    }\n\n    .dataframe thead th {\n        text-align: right;\n    }\n</style>\n<table border=\"1\" class=\"dataframe\">\n  <thead>\n    <tr style=\"text-align: right;\">\n      <th>Medida</th>\n      <th>Confirmados PCR</th>\n      <th>Confirmados PCR 7 días</th>\n      <th>Confirmados PCR 14 días</th>\n      <th>Población</th>\n      <th>tasa7</th>\n      <th>tasa14</th>\n      <th>Diferencia PCR</th>\n    </tr>\n    <tr>\n      <th>Lugar de residencia</th>\n      <th></th>\n      <th></th>\n      <th></th>\n      <th></th>\n      <th></th>\n      <th></th>\n      <th></th>\n    </tr>\n  </thead>\n  <tbody>\n    <tr>\n      <th>Huelva</th>\n      <td>1153.0</td>\n      <td>159.0</td>\n      <td>336.0</td>\n      <td>510743.0</td>\n      <td>31.131117</td>\n      <td>65.786511</td>\n      <td>12.0</td>\n    </tr>\n    <tr>\n      <th>Huelva-Costa</th>\n      <td>617.0</td>\n      <td>92.0</td>\n      <td>190.0</td>\n      <td>288115.0</td>\n      <td>31.931694</td>\n      <td>65.945890</td>\n      <td>5.0</td>\n    </tr>\n    <tr>\n      <th>Aroche</th>\n      <td>8.0</td>\n      <td>4.0</td>\n      <td>6.0</td>\n      <td>3073.0</td>\n      <td>130.165962</td>\n      <td>195.248942</td>\n      <td>3.0</td>\n    </tr>\n    <tr>\n      <th>Condado-Campiña</th>\n      <td>349.0</td>\n      <td>48.0</td>\n      <td>109.0</td>\n      <td>155057.0</td>\n      <td>30.956358</td>\n      <td>70.296730</td>\n      <td>3.0</td>\n    </tr>\n    <tr>\n      <th>Sierra de Huelva-Andévalo Central</th>\n      <td>167.0</td>\n      <td>17.0</td>\n      <td>28.0</td>\n      <td>67571.0</td>\n      <td>25.158722</td>\n      <td>41.437895</td>\n      <td>3.0</td>\n    </tr>\n    <tr>\n      <th>Palos de la Frontera</th>\n      <td>26.0</td>\n      <td>5.0</td>\n      <td>18.0</td>\n      <td>11289.0</td>\n      <td>44.290903</td>\n      <td>159.447250</td>\n      <td>2.0</td>\n    </tr>\n    <tr>\n      <th>Ayamonte</th>\n      <td>38.0</td>\n      <td>12.0</td>\n      <td>23.0</td>\n      <td>20946.0</td>\n      <td>57.290175</td>\n      <td>109.806168</td>\n      <td>1.0</td>\n    </tr>\n    <tr>\n      <th>Cartaya</th>\n      <td>21.0</td>\n      <td>2.0</td>\n      <td>7.0</td>\n      <td>19974.0</td>\n      <td>10.013017</td>\n      <td>35.045559</td>\n      <td>1.0</td>\n    </tr>\n    <tr>\n      <th>Huelva (capital)</th>\n      <td>306.0</td>\n      <td>48.0</td>\n      <td>83.0</td>\n      <td>143663.0</td>\n      <td>33.411526</td>\n      <td>57.774096</td>\n      <td>1.0</td>\n    </tr>\n    <tr>\n      <th>Lepe</th>\n      <td>74.0</td>\n      <td>9.0</td>\n      <td>19.0</td>\n      <td>27431.0</td>\n      <td>32.809595</td>\n      <td>69.264701</td>\n      <td>1.0</td>\n    </tr>\n    <tr>\n      <th>Palma del Condado (La)</th>\n      <td>36.0</td>\n      <td>5.0</td>\n      <td>11.0</td>\n      <td>10761.0</td>\n      <td>46.464083</td>\n      <td>102.220983</td>\n      <td>1.0</td>\n    </tr>\n  </tbody>\n</table>\n</div>"
     },
     "metadata": {},
     "execution_count": 13
    }
   ],
   "source": [
    "# Nuevos casos desde la última captura\n",
    "tabla[tabla['Diferencia PCR'] > 0].sort_values('Diferencia PCR', ascending=False)"
   ]
  },
  {
   "cell_type": "code",
   "execution_count": 14,
   "metadata": {},
   "outputs": [],
   "source": [
    "if tabla[tabla['Diferencia PCR'] > 0]['Diferencia PCR'].sum() > 0:\n",
    "  # Save to csv\n",
    "  tabla.to_csv('covid_huelva.csv', encoding='utf-8', header=True, index=True)  "
   ]
  },
  {
   "cell_type": "code",
   "execution_count": 15,
   "metadata": {},
   "outputs": [
    {
     "output_type": "execute_result",
     "data": {
      "text/plain": "Medida                             Confirmados PCR  Confirmados PCR 7 días  \\\nLugar de residencia                                                          \nCabezas Rubias                                 9.0                     2.0   \nVillalba del Alcor                            42.0                     4.0   \nBollullos Par del Condado                     46.0                    12.0   \nZalamea la Real                               20.0                     1.0   \nAroche                                         8.0                     4.0   \nPalos de la Frontera                          26.0                     5.0   \nIsla Cristina                                 58.0                     6.0   \nNerva                                         20.0                     6.0   \nAyamonte                                      38.0                    12.0   \nPalma del Condado (La)                        36.0                     5.0   \nSanta Bárbara de Casa                          7.0                     1.0   \nAljaraque                                     66.0                    11.0   \nVillarrasa                                     3.0                     1.0   \nJabugo                                         2.0                     2.0   \nCondado-Campiña                              349.0                    48.0   \nLepe                                          74.0                     9.0   \nHuelva-Costa                                 617.0                    92.0   \nHuelva                                      1153.0                   159.0   \nTrigueros                                     33.0                     4.0   \nHuelva (capital)                             306.0                    48.0   \nMinas de Riotinto                             16.0                     2.0   \nBonares                                        4.0                     2.0   \nBeas                                           7.0                     2.0   \nSierra de Huelva-Andévalo Central            167.0                    17.0   \nCartaya                                       21.0                     2.0   \nPuebla de Guzmán                               5.0                     1.0   \nGibraleón                                     16.0                     4.0   \nAlmonte                                       48.0                     4.0   \nMoguer                                        29.0                     3.0   \nSan Juan del Puerto                           19.0                     1.0   \nCortegana                                      9.0                     1.0   \nRociana del Condado                            5.0                     1.0   \nAracena                                       46.0                     1.0   \n\nMedida                             Confirmados PCR 14 días  Población  \\\nLugar de residencia                                                     \nCabezas Rubias                                         7.0      730.0   \nVillalba del Alcor                                    15.0     3338.0   \nBollullos Par del Condado                             28.0    14272.0   \nZalamea la Real                                        6.0     3068.0   \nAroche                                                 6.0     3073.0   \nPalos de la Frontera                                  18.0    11289.0   \nIsla Cristina                                         25.0    21264.0   \nNerva                                                  6.0     5235.0   \nAyamonte                                              23.0    20946.0   \nPalma del Condado (La)                                11.0    10761.0   \nSanta Bárbara de Casa                                  1.0     1035.0   \nAljaraque                                             20.0    21260.0   \nVillarrasa                                             2.0     2176.0   \nJabugo                                                 2.0     2250.0   \nCondado-Campiña                                      109.0   155057.0   \nLepe                                                  19.0    27431.0   \nHuelva-Costa                                         190.0   288115.0   \nHuelva                                               336.0   510743.0   \nTrigueros                                              5.0     7713.0   \nHuelva (capital)                                      83.0   143663.0   \nMinas de Riotinto                                      2.0     3848.0   \nBonares                                                3.0     6058.0   \nBeas                                                   2.0     4257.0   \nSierra de Huelva-Andévalo Central                     28.0    67571.0   \nCartaya                                                7.0    19974.0   \nPuebla de Guzmán                                       1.0     3073.0   \nGibraleón                                              4.0    12607.0   \nAlmonte                                                7.0    24191.0   \nMoguer                                                 5.0    22088.0   \nSan Juan del Puerto                                    2.0     9300.0   \nCortegana                                              1.0     4666.0   \nRociana del Condado                                    1.0     7855.0   \nAracena                                                1.0     8107.0   \n\nMedida                                  tasa7      tasa14  Diferencia PCR  \nLugar de residencia                                                        \nCabezas Rubias                     273.972603  958.904110             0.0  \nVillalba del Alcor                 119.832235  449.370881             0.0  \nBollullos Par del Condado           84.080717  196.188341             0.0  \nZalamea la Real                     32.594524  195.567145             0.0  \nAroche                             130.165962  195.248942             3.0  \nPalos de la Frontera                44.290903  159.447250             2.0  \nIsla Cristina                       28.216704  117.569601             0.0  \nNerva                              114.613181  114.613181             0.0  \nAyamonte                            57.290175  109.806168             1.0  \nPalma del Condado (La)              46.464083  102.220983             1.0  \nSanta Bárbara de Casa               96.618357   96.618357             0.0  \nAljaraque                           51.740357   94.073377             0.0  \nVillarrasa                          45.955882   91.911765             0.0  \nJabugo                              88.888889   88.888889             0.0  \nCondado-Campiña                     30.956358   70.296730             3.0  \nLepe                                32.809595   69.264701             1.0  \nHuelva-Costa                        31.931694   65.945890             5.0  \nHuelva                              31.131117   65.786511            12.0  \nTrigueros                           51.860495   64.825619             0.0  \nHuelva (capital)                    33.411526   57.774096             1.0  \nMinas de Riotinto                   51.975052   51.975052             0.0  \nBonares                             33.014196   49.521294             0.0  \nBeas                                46.981442   46.981442             0.0  \nSierra de Huelva-Andévalo Central   25.158722   41.437895             3.0  \nCartaya                             10.013017   35.045559             1.0  \nPuebla de Guzmán                    32.541490   32.541490             NaN  \nGibraleón                           31.728405   31.728405             0.0  \nAlmonte                             16.535075   28.936381             0.0  \nMoguer                              13.582035   22.636726             0.0  \nSan Juan del Puerto                 10.752688   21.505376             0.0  \nCortegana                           21.431633   21.431633             0.0  \nRociana del Condado                 12.730745   12.730745             0.0  \nAracena                             12.335019   12.335019             0.0  ",
      "text/html": "<div>\n<style scoped>\n    .dataframe tbody tr th:only-of-type {\n        vertical-align: middle;\n    }\n\n    .dataframe tbody tr th {\n        vertical-align: top;\n    }\n\n    .dataframe thead th {\n        text-align: right;\n    }\n</style>\n<table border=\"1\" class=\"dataframe\">\n  <thead>\n    <tr style=\"text-align: right;\">\n      <th>Medida</th>\n      <th>Confirmados PCR</th>\n      <th>Confirmados PCR 7 días</th>\n      <th>Confirmados PCR 14 días</th>\n      <th>Población</th>\n      <th>tasa7</th>\n      <th>tasa14</th>\n      <th>Diferencia PCR</th>\n    </tr>\n    <tr>\n      <th>Lugar de residencia</th>\n      <th></th>\n      <th></th>\n      <th></th>\n      <th></th>\n      <th></th>\n      <th></th>\n      <th></th>\n    </tr>\n  </thead>\n  <tbody>\n    <tr>\n      <th>Cabezas Rubias</th>\n      <td>9.0</td>\n      <td>2.0</td>\n      <td>7.0</td>\n      <td>730.0</td>\n      <td>273.972603</td>\n      <td>958.904110</td>\n      <td>0.0</td>\n    </tr>\n    <tr>\n      <th>Villalba del Alcor</th>\n      <td>42.0</td>\n      <td>4.0</td>\n      <td>15.0</td>\n      <td>3338.0</td>\n      <td>119.832235</td>\n      <td>449.370881</td>\n      <td>0.0</td>\n    </tr>\n    <tr>\n      <th>Bollullos Par del Condado</th>\n      <td>46.0</td>\n      <td>12.0</td>\n      <td>28.0</td>\n      <td>14272.0</td>\n      <td>84.080717</td>\n      <td>196.188341</td>\n      <td>0.0</td>\n    </tr>\n    <tr>\n      <th>Zalamea la Real</th>\n      <td>20.0</td>\n      <td>1.0</td>\n      <td>6.0</td>\n      <td>3068.0</td>\n      <td>32.594524</td>\n      <td>195.567145</td>\n      <td>0.0</td>\n    </tr>\n    <tr>\n      <th>Aroche</th>\n      <td>8.0</td>\n      <td>4.0</td>\n      <td>6.0</td>\n      <td>3073.0</td>\n      <td>130.165962</td>\n      <td>195.248942</td>\n      <td>3.0</td>\n    </tr>\n    <tr>\n      <th>Palos de la Frontera</th>\n      <td>26.0</td>\n      <td>5.0</td>\n      <td>18.0</td>\n      <td>11289.0</td>\n      <td>44.290903</td>\n      <td>159.447250</td>\n      <td>2.0</td>\n    </tr>\n    <tr>\n      <th>Isla Cristina</th>\n      <td>58.0</td>\n      <td>6.0</td>\n      <td>25.0</td>\n      <td>21264.0</td>\n      <td>28.216704</td>\n      <td>117.569601</td>\n      <td>0.0</td>\n    </tr>\n    <tr>\n      <th>Nerva</th>\n      <td>20.0</td>\n      <td>6.0</td>\n      <td>6.0</td>\n      <td>5235.0</td>\n      <td>114.613181</td>\n      <td>114.613181</td>\n      <td>0.0</td>\n    </tr>\n    <tr>\n      <th>Ayamonte</th>\n      <td>38.0</td>\n      <td>12.0</td>\n      <td>23.0</td>\n      <td>20946.0</td>\n      <td>57.290175</td>\n      <td>109.806168</td>\n      <td>1.0</td>\n    </tr>\n    <tr>\n      <th>Palma del Condado (La)</th>\n      <td>36.0</td>\n      <td>5.0</td>\n      <td>11.0</td>\n      <td>10761.0</td>\n      <td>46.464083</td>\n      <td>102.220983</td>\n      <td>1.0</td>\n    </tr>\n    <tr>\n      <th>Santa Bárbara de Casa</th>\n      <td>7.0</td>\n      <td>1.0</td>\n      <td>1.0</td>\n      <td>1035.0</td>\n      <td>96.618357</td>\n      <td>96.618357</td>\n      <td>0.0</td>\n    </tr>\n    <tr>\n      <th>Aljaraque</th>\n      <td>66.0</td>\n      <td>11.0</td>\n      <td>20.0</td>\n      <td>21260.0</td>\n      <td>51.740357</td>\n      <td>94.073377</td>\n      <td>0.0</td>\n    </tr>\n    <tr>\n      <th>Villarrasa</th>\n      <td>3.0</td>\n      <td>1.0</td>\n      <td>2.0</td>\n      <td>2176.0</td>\n      <td>45.955882</td>\n      <td>91.911765</td>\n      <td>0.0</td>\n    </tr>\n    <tr>\n      <th>Jabugo</th>\n      <td>2.0</td>\n      <td>2.0</td>\n      <td>2.0</td>\n      <td>2250.0</td>\n      <td>88.888889</td>\n      <td>88.888889</td>\n      <td>0.0</td>\n    </tr>\n    <tr>\n      <th>Condado-Campiña</th>\n      <td>349.0</td>\n      <td>48.0</td>\n      <td>109.0</td>\n      <td>155057.0</td>\n      <td>30.956358</td>\n      <td>70.296730</td>\n      <td>3.0</td>\n    </tr>\n    <tr>\n      <th>Lepe</th>\n      <td>74.0</td>\n      <td>9.0</td>\n      <td>19.0</td>\n      <td>27431.0</td>\n      <td>32.809595</td>\n      <td>69.264701</td>\n      <td>1.0</td>\n    </tr>\n    <tr>\n      <th>Huelva-Costa</th>\n      <td>617.0</td>\n      <td>92.0</td>\n      <td>190.0</td>\n      <td>288115.0</td>\n      <td>31.931694</td>\n      <td>65.945890</td>\n      <td>5.0</td>\n    </tr>\n    <tr>\n      <th>Huelva</th>\n      <td>1153.0</td>\n      <td>159.0</td>\n      <td>336.0</td>\n      <td>510743.0</td>\n      <td>31.131117</td>\n      <td>65.786511</td>\n      <td>12.0</td>\n    </tr>\n    <tr>\n      <th>Trigueros</th>\n      <td>33.0</td>\n      <td>4.0</td>\n      <td>5.0</td>\n      <td>7713.0</td>\n      <td>51.860495</td>\n      <td>64.825619</td>\n      <td>0.0</td>\n    </tr>\n    <tr>\n      <th>Huelva (capital)</th>\n      <td>306.0</td>\n      <td>48.0</td>\n      <td>83.0</td>\n      <td>143663.0</td>\n      <td>33.411526</td>\n      <td>57.774096</td>\n      <td>1.0</td>\n    </tr>\n    <tr>\n      <th>Minas de Riotinto</th>\n      <td>16.0</td>\n      <td>2.0</td>\n      <td>2.0</td>\n      <td>3848.0</td>\n      <td>51.975052</td>\n      <td>51.975052</td>\n      <td>0.0</td>\n    </tr>\n    <tr>\n      <th>Bonares</th>\n      <td>4.0</td>\n      <td>2.0</td>\n      <td>3.0</td>\n      <td>6058.0</td>\n      <td>33.014196</td>\n      <td>49.521294</td>\n      <td>0.0</td>\n    </tr>\n    <tr>\n      <th>Beas</th>\n      <td>7.0</td>\n      <td>2.0</td>\n      <td>2.0</td>\n      <td>4257.0</td>\n      <td>46.981442</td>\n      <td>46.981442</td>\n      <td>0.0</td>\n    </tr>\n    <tr>\n      <th>Sierra de Huelva-Andévalo Central</th>\n      <td>167.0</td>\n      <td>17.0</td>\n      <td>28.0</td>\n      <td>67571.0</td>\n      <td>25.158722</td>\n      <td>41.437895</td>\n      <td>3.0</td>\n    </tr>\n    <tr>\n      <th>Cartaya</th>\n      <td>21.0</td>\n      <td>2.0</td>\n      <td>7.0</td>\n      <td>19974.0</td>\n      <td>10.013017</td>\n      <td>35.045559</td>\n      <td>1.0</td>\n    </tr>\n    <tr>\n      <th>Puebla de Guzmán</th>\n      <td>5.0</td>\n      <td>1.0</td>\n      <td>1.0</td>\n      <td>3073.0</td>\n      <td>32.541490</td>\n      <td>32.541490</td>\n      <td>NaN</td>\n    </tr>\n    <tr>\n      <th>Gibraleón</th>\n      <td>16.0</td>\n      <td>4.0</td>\n      <td>4.0</td>\n      <td>12607.0</td>\n      <td>31.728405</td>\n      <td>31.728405</td>\n      <td>0.0</td>\n    </tr>\n    <tr>\n      <th>Almonte</th>\n      <td>48.0</td>\n      <td>4.0</td>\n      <td>7.0</td>\n      <td>24191.0</td>\n      <td>16.535075</td>\n      <td>28.936381</td>\n      <td>0.0</td>\n    </tr>\n    <tr>\n      <th>Moguer</th>\n      <td>29.0</td>\n      <td>3.0</td>\n      <td>5.0</td>\n      <td>22088.0</td>\n      <td>13.582035</td>\n      <td>22.636726</td>\n      <td>0.0</td>\n    </tr>\n    <tr>\n      <th>San Juan del Puerto</th>\n      <td>19.0</td>\n      <td>1.0</td>\n      <td>2.0</td>\n      <td>9300.0</td>\n      <td>10.752688</td>\n      <td>21.505376</td>\n      <td>0.0</td>\n    </tr>\n    <tr>\n      <th>Cortegana</th>\n      <td>9.0</td>\n      <td>1.0</td>\n      <td>1.0</td>\n      <td>4666.0</td>\n      <td>21.431633</td>\n      <td>21.431633</td>\n      <td>0.0</td>\n    </tr>\n    <tr>\n      <th>Rociana del Condado</th>\n      <td>5.0</td>\n      <td>1.0</td>\n      <td>1.0</td>\n      <td>7855.0</td>\n      <td>12.730745</td>\n      <td>12.730745</td>\n      <td>0.0</td>\n    </tr>\n    <tr>\n      <th>Aracena</th>\n      <td>46.0</td>\n      <td>1.0</td>\n      <td>1.0</td>\n      <td>8107.0</td>\n      <td>12.335019</td>\n      <td>12.335019</td>\n      <td>0.0</td>\n    </tr>\n  </tbody>\n</table>\n</div>"
     },
     "metadata": {},
     "execution_count": 15
    }
   ],
   "source": [
    "tabla.sort_values('tasa14', ascending=False)"
   ]
  },
  {
   "cell_type": "code",
   "execution_count": null,
   "metadata": {},
   "outputs": [],
   "source": []
  }
 ]
}