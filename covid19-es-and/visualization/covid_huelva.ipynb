{
 "metadata": {
  "language_info": {
   "codemirror_mode": {
    "name": "ipython",
    "version": 3
   },
   "file_extension": ".py",
   "mimetype": "text/x-python",
   "name": "python",
   "nbconvert_exporter": "python",
   "pygments_lexer": "ipython3",
   "version": "3.8.6-final"
  },
  "orig_nbformat": 2,
  "kernelspec": {
   "name": "python3",
   "display_name": "Python 3",
   "language": "python"
  }
 },
 "nbformat": 4,
 "nbformat_minor": 2,
 "cells": [
  {
   "cell_type": "code",
   "execution_count": 1,
   "metadata": {},
   "outputs": [],
   "source": [
    "import pandas as pd\n",
    "pd.set_option('display.max_rows', None) # Print all rows"
   ]
  },
  {
   "cell_type": "code",
   "execution_count": 2,
   "metadata": {},
   "outputs": [],
   "source": [
    "# FIX SSL: CERTIFICATE_VERIFY_FAILED with Python3\n",
    "# https://stackoverflow.com/a/49174340\n",
    "import ssl\n",
    "\n",
    "ssl._create_default_https_context = ssl._create_unverified_context"
   ]
  },
  {
   "cell_type": "code",
   "execution_count": 3,
   "metadata": {},
   "outputs": [],
   "source": [
    "url = 'https://www.juntadeandalucia.es/institutodeestadisticaycartografia/badea/stpivot/stpivot/Print?cube=013d884c-cfc5-4c21-9e78-e26225682afd&type=3&foto=si&ejecutaDesde=&codConsulta=38668&consTipoVisua=JP'\n",
    "fields = ['Lugar de residencia', 'Medida', 'Valor']\n",
    "df = pd.read_csv(url, delimiter=';', usecols=fields, decimal=',')"
   ]
  },
  {
   "cell_type": "code",
   "execution_count": 4,
   "metadata": {},
   "outputs": [
    {
     "output_type": "execute_result",
     "data": {
      "text/plain": [
       "  Lugar de residencia                    Medida              Valor\n",
       "0              Huelva                 Población             513170\n",
       "1              Huelva          Confirmados PDIA              26718\n",
       "2              Huelva  Confirmados PDIA 14 días               1209\n",
       "3              Huelva         Tasa PDIA 14 días  235,5944423875129\n",
       "4              Huelva   Confirmados PDIA 7 días                630\n",
       "5              Huelva        Total Confirmados               26906\n",
       "6              Huelva                   Curados              22338\n",
       "7              Huelva                Fallecidos                357"
      ],
      "text/html": "<div>\n<style scoped>\n    .dataframe tbody tr th:only-of-type {\n        vertical-align: middle;\n    }\n\n    .dataframe tbody tr th {\n        vertical-align: top;\n    }\n\n    .dataframe thead th {\n        text-align: right;\n    }\n</style>\n<table border=\"1\" class=\"dataframe\">\n  <thead>\n    <tr style=\"text-align: right;\">\n      <th></th>\n      <th>Lugar de residencia</th>\n      <th>Medida</th>\n      <th>Valor</th>\n    </tr>\n  </thead>\n  <tbody>\n    <tr>\n      <th>0</th>\n      <td>Huelva</td>\n      <td>Población</td>\n      <td>513170</td>\n    </tr>\n    <tr>\n      <th>1</th>\n      <td>Huelva</td>\n      <td>Confirmados PDIA</td>\n      <td>26718</td>\n    </tr>\n    <tr>\n      <th>2</th>\n      <td>Huelva</td>\n      <td>Confirmados PDIA 14 días</td>\n      <td>1209</td>\n    </tr>\n    <tr>\n      <th>3</th>\n      <td>Huelva</td>\n      <td>Tasa PDIA 14 días</td>\n      <td>235,5944423875129</td>\n    </tr>\n    <tr>\n      <th>4</th>\n      <td>Huelva</td>\n      <td>Confirmados PDIA 7 días</td>\n      <td>630</td>\n    </tr>\n    <tr>\n      <th>5</th>\n      <td>Huelva</td>\n      <td>Total Confirmados</td>\n      <td>26906</td>\n    </tr>\n    <tr>\n      <th>6</th>\n      <td>Huelva</td>\n      <td>Curados</td>\n      <td>22338</td>\n    </tr>\n    <tr>\n      <th>7</th>\n      <td>Huelva</td>\n      <td>Fallecidos</td>\n      <td>357</td>\n    </tr>\n  </tbody>\n</table>\n</div>"
     },
     "metadata": {},
     "execution_count": 4
    }
   ],
   "source": [
    "df[df['Lugar de residencia'] == 'Huelva']"
   ]
  },
  {
   "cell_type": "code",
   "execution_count": 5,
   "metadata": {},
   "outputs": [],
   "source": [
    "df['Valor'] = pd.to_numeric(df['Valor'],errors='coerce')"
   ]
  },
  {
   "cell_type": "code",
   "execution_count": 6,
   "metadata": {},
   "outputs": [],
   "source": [
    "dfAnterior = pd.read_csv('covid_huelva.csv', index_col='Lugar de residencia')"
   ]
  },
  {
   "cell_type": "code",
   "execution_count": 7,
   "metadata": {
    "tags": []
   },
   "outputs": [
    {
     "output_type": "stream",
     "name": "stdout",
     "text": [
      "Confirmados PCR en la provincia de Huelva:  26718.0\n",
      "<ipython-input-7-31b732756b19>:2: UserWarning: Boolean Series key will be reindexed to match DataFrame index.\n",
      "  p = df[df['Lugar de residencia'] == 'Huelva'][df['Medida'] == 'Confirmados PDIA']['Valor'].values[0]\n"
     ]
    }
   ],
   "source": [
    "# Confirmados PCR provincia Huelva\n",
    "p = df[df['Lugar de residencia'] == 'Huelva'][df['Medida'] == 'Confirmados PDIA']['Valor'].values[0]\n",
    "print('Confirmados PCR en la provincia de Huelva: ', p)"
   ]
  },
  {
   "cell_type": "code",
   "execution_count": 8,
   "metadata": {
    "tags": []
   },
   "outputs": [
    {
     "output_type": "stream",
     "name": "stdout",
     "text": [
      "Confirmados PCR en Huelva capital:  6960.0\n",
      "<ipython-input-8-e81bfb40e710>:2: UserWarning: Boolean Series key will be reindexed to match DataFrame index.\n",
      "  c = df[df['Lugar de residencia'] == 'Huelva (capital)'][df['Medida'] == 'Confirmados PDIA']['Valor'].values[0]\n"
     ]
    }
   ],
   "source": [
    "# Confirmados PCR Huelva capitalpd\n",
    "c = df[df['Lugar de residencia'] == 'Huelva (capital)'][df['Medida'] == 'Confirmados PDIA']['Valor'].values[0]\n",
    "print('Confirmados PCR en Huelva capital: ', c)"
   ]
  },
  {
   "cell_type": "code",
   "execution_count": 9,
   "metadata": {
    "tags": []
   },
   "outputs": [
    {
     "output_type": "stream",
     "name": "stderr",
     "text": [
      "<ipython-input-9-f09dd2050cc1>:1: UserWarning: Boolean Series key will be reindexed to match DataFrame index.\n  c7 = df[df['Lugar de residencia'] == 'Huelva (capital)'][df['Medida'] == 'Confirmados PDIA 7 días']['Valor'].values[0]\n<ipython-input-9-f09dd2050cc1>:2: UserWarning: Boolean Series key will be reindexed to match DataFrame index.\n  c14 = df[df['Lugar de residencia'] == 'Huelva (capital)'][df['Medida'] == 'Confirmados PDIA 14 días']['Valor'].values[0]\n<ipython-input-9-f09dd2050cc1>:3: UserWarning: Boolean Series key will be reindexed to match DataFrame index.\n  p = df[df['Lugar de residencia'] == 'Huelva (capital)'][df['Medida'] == 'Población']['Valor'].values[0]\n"
     ]
    }
   ],
   "source": [
    "c7 = df[df['Lugar de residencia'] == 'Huelva (capital)'][df['Medida'] == 'Confirmados PDIA 7 días']['Valor'].values[0]\n",
    "c14 = df[df['Lugar de residencia'] == 'Huelva (capital)'][df['Medida'] == 'Confirmados PDIA 14 días']['Valor'].values[0]\n",
    "p = df[df['Lugar de residencia'] == 'Huelva (capital)'][df['Medida'] == 'Población']['Valor'].values[0]"
   ]
  },
  {
   "cell_type": "code",
   "execution_count": 10,
   "metadata": {
    "tags": []
   },
   "outputs": [
    {
     "output_type": "stream",
     "name": "stdout",
     "text": [
      "Huelva (capital)\n\nUn positivo PCR cada 1050 personas en los últimos 7 días \n\nUn positivo PCR cada 560 personas en los últimos 14 días\n"
     ]
    }
   ],
   "source": [
    "print('Huelva (capital)\\n')\n",
    "#print('Confirmados PCR 7 días x 1,000 habitantes: ', f\"{c7/(p/1000):.5f}\")\n",
    "print('Un positivo PCR cada', f\"{p/c7:.0f}\", 'personas en los últimos 7 días', '\\n')\n",
    "#print('Confirmados PCR 14 días x 1,000 habitantes: ', f\"{c14/(p/1000):.5f}\")\n",
    "print('Un positivo PCR cada', f\"{p/c14:.0f}\", 'personas en los últimos 14 días')"
   ]
  },
  {
   "cell_type": "code",
   "execution_count": 11,
   "metadata": {},
   "outputs": [],
   "source": [
    "filtro = ((df['Medida'] == 'Confirmados PDIA')| (df['Medida'] == 'Confirmados PDIA 7 días') | (df['Medida'] == 'Población' ) | (df['Medida'] == 'Confirmados PDIA 14 días')) & (df['Valor'] > 0)\n",
    "tabla = pd.pivot_table(df.loc[filtro], values='Valor', index='Lugar de residencia', columns='Medida').dropna()"
   ]
  },
  {
   "cell_type": "code",
   "execution_count": 12,
   "metadata": {},
   "outputs": [],
   "source": [
    "# Reorder columns\n",
    "tabla = tabla[['Confirmados PDIA', 'Confirmados PDIA 7 días', 'Confirmados PDIA 14 días', 'Población']]"
   ]
  },
  {
   "cell_type": "code",
   "execution_count": 13,
   "metadata": {},
   "outputs": [],
   "source": [
    "tabla['tasa7'] = tabla['Confirmados PDIA 7 días']/tabla['Población']*100000\n",
    "tabla['tasa14'] = tabla['Confirmados PDIA 14 días']/tabla['Población']*100000"
   ]
  },
  {
   "cell_type": "code",
   "execution_count": 14,
   "metadata": {},
   "outputs": [],
   "source": [
    "tabla['Diferencia PDIA'] = tabla['Confirmados PDIA'] - dfAnterior['Confirmados PDIA']"
   ]
  },
  {
   "cell_type": "code",
   "execution_count": 15,
   "metadata": {},
   "outputs": [
    {
     "output_type": "execute_result",
     "data": {
      "text/plain": [
       "Medida                             Confirmados PDIA  Confirmados PDIA 7 días  \\\n",
       "Lugar de residencia                                                            \n",
       "Huelva                                      26718.0                    630.0   \n",
       "Condado-Campiña                              8038.0                    322.0   \n",
       "Huelva-Costa                                15868.0                    256.0   \n",
       "Almonte                                      1206.0                    104.0   \n",
       "Huelva (capital)                             6960.0                    137.0   \n",
       "Cartaya                                      1128.0                     72.0   \n",
       "Palos de la Frontera                          527.0                     23.0   \n",
       "Moguer                                        969.0                     44.0   \n",
       "Sierra de Huelva-Andévalo Central            2391.0                     41.0   \n",
       "Rociana del Condado                           432.0                     41.0   \n",
       "Aracena                                       489.0                     21.0   \n",
       "Bollullos Par del Condado                     713.0                     14.0   \n",
       "Palma del Condado (La)                       1010.0                     11.0   \n",
       "San Juan del Puerto                           406.0                     15.0   \n",
       "San Bartolomé de la Torre                     268.0                     16.0   \n",
       "Aljaraque                                     966.0                     21.0   \n",
       "Villalba del Alcor                            470.0                      3.0   \n",
       "Minas de Riotinto                             102.0                      2.0   \n",
       "Punta Umbría                                  679.0                      7.0   \n",
       "Gibraleón                                     556.0                      4.0   \n",
       "Villarrasa                                    139.0                      4.0   \n",
       "Beas                                          165.0                      1.0   \n",
       "\n",
       "Medida                             Confirmados PDIA 14 días  Población  \\\n",
       "Lugar de residencia                                                      \n",
       "Huelva                                               1209.0   513170.0   \n",
       "Condado-Campiña                                       643.0   156231.0   \n",
       "Huelva-Costa                                          475.0   289548.0   \n",
       "Almonte                                               198.0    24507.0   \n",
       "Huelva (capital)                                      257.0   143837.0   \n",
       "Cartaya                                               127.0    20083.0   \n",
       "Palos de la Frontera                                   49.0    11742.0   \n",
       "Moguer                                                 89.0    21867.0   \n",
       "Sierra de Huelva-Andévalo Central                      69.0    67391.0   \n",
       "Rociana del Condado                                    63.0     7939.0   \n",
       "Aracena                                                34.0     8255.0   \n",
       "Bollullos Par del Condado                              44.0    14387.0   \n",
       "Palma del Condado (La)                                 16.0    10801.0   \n",
       "San Juan del Puerto                                    33.0     9411.0   \n",
       "San Bartolomé de la Torre                              38.0     3761.0   \n",
       "Aljaraque                                              35.0    21474.0   \n",
       "Villalba del Alcor                                      9.0     3366.0   \n",
       "Minas de Riotinto                                       2.0     3812.0   \n",
       "Punta Umbría                                           13.0    15355.0   \n",
       "Gibraleón                                              10.0    12737.0   \n",
       "Villarrasa                                              6.0     2211.0   \n",
       "Beas                                                    2.0     4341.0   \n",
       "\n",
       "Medida                                  tasa7       tasa14  Diferencia PDIA  \n",
       "Lugar de residencia                                                          \n",
       "Huelva                             122.766335   235.594442             82.0  \n",
       "Condado-Campiña                    206.105062   411.570047             52.0  \n",
       "Huelva-Costa                        88.413665   164.048793             29.0  \n",
       "Almonte                            424.368548   807.932427             17.0  \n",
       "Huelva (capital)                    95.246703   178.674472             14.0  \n",
       "Cartaya                            358.512174   632.375641             12.0  \n",
       "Palos de la Frontera               195.878045   417.305399              9.0  \n",
       "Moguer                             201.216445   407.005991              6.0  \n",
       "Sierra de Huelva-Andévalo Central   60.838984   102.387559              6.0  \n",
       "Rociana del Condado                516.437839   793.550825              5.0  \n",
       "Aracena                            254.391278   411.871593              5.0  \n",
       "Bollullos Par del Condado           97.310072   305.831654              4.0  \n",
       "Palma del Condado (La)             101.842422   148.134432              3.0  \n",
       "San Juan del Puerto                159.387950   350.653491              3.0  \n",
       "San Bartolomé de la Torre          425.418772  1010.369583              2.0  \n",
       "Aljaraque                           97.792680   162.987799              2.0  \n",
       "Villalba del Alcor                  89.126560   267.379679              1.0  \n",
       "Minas de Riotinto                   52.465897    52.465897              1.0  \n",
       "Punta Umbría                        45.587756    84.662976              1.0  \n",
       "Gibraleón                           31.404569    78.511423              1.0  \n",
       "Villarrasa                         180.913614   271.370421              1.0  \n",
       "Beas                                23.036167    46.072334             -1.0  "
      ],
      "text/html": "<div>\n<style scoped>\n    .dataframe tbody tr th:only-of-type {\n        vertical-align: middle;\n    }\n\n    .dataframe tbody tr th {\n        vertical-align: top;\n    }\n\n    .dataframe thead th {\n        text-align: right;\n    }\n</style>\n<table border=\"1\" class=\"dataframe\">\n  <thead>\n    <tr style=\"text-align: right;\">\n      <th>Medida</th>\n      <th>Confirmados PDIA</th>\n      <th>Confirmados PDIA 7 días</th>\n      <th>Confirmados PDIA 14 días</th>\n      <th>Población</th>\n      <th>tasa7</th>\n      <th>tasa14</th>\n      <th>Diferencia PDIA</th>\n    </tr>\n    <tr>\n      <th>Lugar de residencia</th>\n      <th></th>\n      <th></th>\n      <th></th>\n      <th></th>\n      <th></th>\n      <th></th>\n      <th></th>\n    </tr>\n  </thead>\n  <tbody>\n    <tr>\n      <th>Huelva</th>\n      <td>26718.0</td>\n      <td>630.0</td>\n      <td>1209.0</td>\n      <td>513170.0</td>\n      <td>122.766335</td>\n      <td>235.594442</td>\n      <td>82.0</td>\n    </tr>\n    <tr>\n      <th>Condado-Campiña</th>\n      <td>8038.0</td>\n      <td>322.0</td>\n      <td>643.0</td>\n      <td>156231.0</td>\n      <td>206.105062</td>\n      <td>411.570047</td>\n      <td>52.0</td>\n    </tr>\n    <tr>\n      <th>Huelva-Costa</th>\n      <td>15868.0</td>\n      <td>256.0</td>\n      <td>475.0</td>\n      <td>289548.0</td>\n      <td>88.413665</td>\n      <td>164.048793</td>\n      <td>29.0</td>\n    </tr>\n    <tr>\n      <th>Almonte</th>\n      <td>1206.0</td>\n      <td>104.0</td>\n      <td>198.0</td>\n      <td>24507.0</td>\n      <td>424.368548</td>\n      <td>807.932427</td>\n      <td>17.0</td>\n    </tr>\n    <tr>\n      <th>Huelva (capital)</th>\n      <td>6960.0</td>\n      <td>137.0</td>\n      <td>257.0</td>\n      <td>143837.0</td>\n      <td>95.246703</td>\n      <td>178.674472</td>\n      <td>14.0</td>\n    </tr>\n    <tr>\n      <th>Cartaya</th>\n      <td>1128.0</td>\n      <td>72.0</td>\n      <td>127.0</td>\n      <td>20083.0</td>\n      <td>358.512174</td>\n      <td>632.375641</td>\n      <td>12.0</td>\n    </tr>\n    <tr>\n      <th>Palos de la Frontera</th>\n      <td>527.0</td>\n      <td>23.0</td>\n      <td>49.0</td>\n      <td>11742.0</td>\n      <td>195.878045</td>\n      <td>417.305399</td>\n      <td>9.0</td>\n    </tr>\n    <tr>\n      <th>Moguer</th>\n      <td>969.0</td>\n      <td>44.0</td>\n      <td>89.0</td>\n      <td>21867.0</td>\n      <td>201.216445</td>\n      <td>407.005991</td>\n      <td>6.0</td>\n    </tr>\n    <tr>\n      <th>Sierra de Huelva-Andévalo Central</th>\n      <td>2391.0</td>\n      <td>41.0</td>\n      <td>69.0</td>\n      <td>67391.0</td>\n      <td>60.838984</td>\n      <td>102.387559</td>\n      <td>6.0</td>\n    </tr>\n    <tr>\n      <th>Rociana del Condado</th>\n      <td>432.0</td>\n      <td>41.0</td>\n      <td>63.0</td>\n      <td>7939.0</td>\n      <td>516.437839</td>\n      <td>793.550825</td>\n      <td>5.0</td>\n    </tr>\n    <tr>\n      <th>Aracena</th>\n      <td>489.0</td>\n      <td>21.0</td>\n      <td>34.0</td>\n      <td>8255.0</td>\n      <td>254.391278</td>\n      <td>411.871593</td>\n      <td>5.0</td>\n    </tr>\n    <tr>\n      <th>Bollullos Par del Condado</th>\n      <td>713.0</td>\n      <td>14.0</td>\n      <td>44.0</td>\n      <td>14387.0</td>\n      <td>97.310072</td>\n      <td>305.831654</td>\n      <td>4.0</td>\n    </tr>\n    <tr>\n      <th>Palma del Condado (La)</th>\n      <td>1010.0</td>\n      <td>11.0</td>\n      <td>16.0</td>\n      <td>10801.0</td>\n      <td>101.842422</td>\n      <td>148.134432</td>\n      <td>3.0</td>\n    </tr>\n    <tr>\n      <th>San Juan del Puerto</th>\n      <td>406.0</td>\n      <td>15.0</td>\n      <td>33.0</td>\n      <td>9411.0</td>\n      <td>159.387950</td>\n      <td>350.653491</td>\n      <td>3.0</td>\n    </tr>\n    <tr>\n      <th>San Bartolomé de la Torre</th>\n      <td>268.0</td>\n      <td>16.0</td>\n      <td>38.0</td>\n      <td>3761.0</td>\n      <td>425.418772</td>\n      <td>1010.369583</td>\n      <td>2.0</td>\n    </tr>\n    <tr>\n      <th>Aljaraque</th>\n      <td>966.0</td>\n      <td>21.0</td>\n      <td>35.0</td>\n      <td>21474.0</td>\n      <td>97.792680</td>\n      <td>162.987799</td>\n      <td>2.0</td>\n    </tr>\n    <tr>\n      <th>Villalba del Alcor</th>\n      <td>470.0</td>\n      <td>3.0</td>\n      <td>9.0</td>\n      <td>3366.0</td>\n      <td>89.126560</td>\n      <td>267.379679</td>\n      <td>1.0</td>\n    </tr>\n    <tr>\n      <th>Minas de Riotinto</th>\n      <td>102.0</td>\n      <td>2.0</td>\n      <td>2.0</td>\n      <td>3812.0</td>\n      <td>52.465897</td>\n      <td>52.465897</td>\n      <td>1.0</td>\n    </tr>\n    <tr>\n      <th>Punta Umbría</th>\n      <td>679.0</td>\n      <td>7.0</td>\n      <td>13.0</td>\n      <td>15355.0</td>\n      <td>45.587756</td>\n      <td>84.662976</td>\n      <td>1.0</td>\n    </tr>\n    <tr>\n      <th>Gibraleón</th>\n      <td>556.0</td>\n      <td>4.0</td>\n      <td>10.0</td>\n      <td>12737.0</td>\n      <td>31.404569</td>\n      <td>78.511423</td>\n      <td>1.0</td>\n    </tr>\n    <tr>\n      <th>Villarrasa</th>\n      <td>139.0</td>\n      <td>4.0</td>\n      <td>6.0</td>\n      <td>2211.0</td>\n      <td>180.913614</td>\n      <td>271.370421</td>\n      <td>1.0</td>\n    </tr>\n    <tr>\n      <th>Beas</th>\n      <td>165.0</td>\n      <td>1.0</td>\n      <td>2.0</td>\n      <td>4341.0</td>\n      <td>23.036167</td>\n      <td>46.072334</td>\n      <td>-1.0</td>\n    </tr>\n  </tbody>\n</table>\n</div>"
     },
     "metadata": {},
     "execution_count": 15
    }
   ],
   "source": [
    "# Nuevos casos desde la última captura\n",
    "tabla[tabla['Diferencia PDIA'] != 0].sort_values('Diferencia PDIA', ascending=False)"
   ]
  },
  {
   "cell_type": "code",
   "execution_count": 16,
   "metadata": {},
   "outputs": [],
   "source": [
    "if tabla[tabla['Diferencia PDIA'] != 0]['Diferencia PDIA'].sum() != 0:\n",
    "  # Save to csv\n",
    "  tabla.to_csv('covid_huelva.csv', encoding='utf-8', header=True, index=True)  "
   ]
  },
  {
   "cell_type": "code",
   "execution_count": 17,
   "metadata": {},
   "outputs": [
    {
     "output_type": "execute_result",
     "data": {
      "text/plain": [
       "Medida                             Confirmados PDIA  Confirmados PDIA 7 días  \\\n",
       "Lugar de residencia                                                            \n",
       "San Bartolomé de la Torre                     268.0                     16.0   \n",
       "Almonte                                      1206.0                    104.0   \n",
       "Rociana del Condado                           432.0                     41.0   \n",
       "Sanlúcar de Guadiana                            6.0                      3.0   \n",
       "Cartaya                                      1128.0                     72.0   \n",
       "Bonares                                       218.0                     18.0   \n",
       "Lucena del Puerto                             181.0                     15.0   \n",
       "Palos de la Frontera                          527.0                     23.0   \n",
       "Aracena                                       489.0                     21.0   \n",
       "Condado-Campiña                              8038.0                    322.0   \n",
       "Moguer                                        969.0                     44.0   \n",
       "San Juan del Puerto                           406.0                     15.0   \n",
       "Bollullos Par del Condado                     713.0                     14.0   \n",
       "Villarrasa                                    139.0                      4.0   \n",
       "Villalba del Alcor                            470.0                      3.0   \n",
       "Niebla                                        183.0                      5.0   \n",
       "Alosno                                        160.0                      6.0   \n",
       "Huelva                                      26718.0                    630.0   \n",
       "Trigueros                                     245.0                      4.0   \n",
       "Huelva (capital)                             6960.0                    137.0   \n",
       "Huelva-Costa                                15868.0                    256.0   \n",
       "Aljaraque                                     966.0                     21.0   \n",
       "San Silvestre de Guzmán                        14.0                      1.0   \n",
       "Palma del Condado (La)                       1010.0                     11.0   \n",
       "Aroche                                         85.0                      1.0   \n",
       "Almonaster la Real                             55.0                      2.0   \n",
       "Valverde del Camino                           442.0                     10.0   \n",
       "Villanueva de los Castillejos                 156.0                      1.0   \n",
       "Sierra de Huelva-Andévalo Central            2391.0                     41.0   \n",
       "Campillo (El)                                  63.0                      1.0   \n",
       "Punta Umbría                                  679.0                      7.0   \n",
       "Gibraleón                                     556.0                      4.0   \n",
       "Calañas                                       173.0                      1.0   \n",
       "Cortegana                                     192.0                      2.0   \n",
       "Lepe                                         2036.0                      5.0   \n",
       "Minas de Riotinto                             102.0                      2.0   \n",
       "Beas                                          165.0                      1.0   \n",
       "Puebla de Guzmán                              111.0                      1.0   \n",
       "Ayamonte                                     1252.0                      2.0   \n",
       "Nerva                                         153.0                      1.0   \n",
       "\n",
       "Medida                             Confirmados PDIA 14 días  Población  \\\n",
       "Lugar de residencia                                                      \n",
       "San Bartolomé de la Torre                              38.0     3761.0   \n",
       "Almonte                                               198.0    24507.0   \n",
       "Rociana del Condado                                    63.0     7939.0   \n",
       "Sanlúcar de Guadiana                                    3.0      403.0   \n",
       "Cartaya                                               127.0    20083.0   \n",
       "Bonares                                                35.0     6060.0   \n",
       "Lucena del Puerto                                      18.0     3261.0   \n",
       "Palos de la Frontera                                   49.0    11742.0   \n",
       "Aracena                                                34.0     8255.0   \n",
       "Condado-Campiña                                       643.0   156231.0   \n",
       "Moguer                                                 89.0    21867.0   \n",
       "San Juan del Puerto                                    33.0     9411.0   \n",
       "Bollullos Par del Condado                              44.0    14387.0   \n",
       "Villarrasa                                              6.0     2211.0   \n",
       "Villalba del Alcor                                      9.0     3366.0   \n",
       "Niebla                                                 11.0     4116.0   \n",
       "Alosno                                                 10.0     3933.0   \n",
       "Huelva                                               1209.0   513170.0   \n",
       "Trigueros                                              16.0     7862.0   \n",
       "Huelva (capital)                                      257.0   143837.0   \n",
       "Huelva-Costa                                          475.0   289548.0   \n",
       "Aljaraque                                              35.0    21474.0   \n",
       "San Silvestre de Guzmán                                 1.0      614.0   \n",
       "Palma del Condado (La)                                 16.0    10801.0   \n",
       "Aroche                                                  4.0     3054.0   \n",
       "Almonaster la Real                                      2.0     1788.0   \n",
       "Valverde del Camino                                    14.0    12750.0   \n",
       "Villanueva de los Castillejos                           3.0     2825.0   \n",
       "Sierra de Huelva-Andévalo Central                      69.0    67391.0   \n",
       "Campillo (El)                                           2.0     2024.0   \n",
       "Punta Umbría                                           13.0    15355.0   \n",
       "Gibraleón                                              10.0    12737.0   \n",
       "Calañas                                                 2.0     2768.0   \n",
       "Cortegana                                               3.0     4602.0   \n",
       "Lepe                                                   16.0    27880.0   \n",
       "Minas de Riotinto                                       2.0     3812.0   \n",
       "Beas                                                    2.0     4341.0   \n",
       "Puebla de Guzmán                                        1.0     3092.0   \n",
       "Ayamonte                                                5.0    21104.0   \n",
       "Nerva                                                   1.0     5169.0   \n",
       "\n",
       "Medida                                  tasa7       tasa14  Diferencia PDIA  \n",
       "Lugar de residencia                                                          \n",
       "San Bartolomé de la Torre          425.418772  1010.369583              2.0  \n",
       "Almonte                            424.368548   807.932427             17.0  \n",
       "Rociana del Condado                516.437839   793.550825              5.0  \n",
       "Sanlúcar de Guadiana               744.416873   744.416873              0.0  \n",
       "Cartaya                            358.512174   632.375641             12.0  \n",
       "Bonares                            297.029703   577.557756              0.0  \n",
       "Lucena del Puerto                  459.981601   551.977921              0.0  \n",
       "Palos de la Frontera               195.878045   417.305399              9.0  \n",
       "Aracena                            254.391278   411.871593              5.0  \n",
       "Condado-Campiña                    206.105062   411.570047             52.0  \n",
       "Moguer                             201.216445   407.005991              6.0  \n",
       "San Juan del Puerto                159.387950   350.653491              3.0  \n",
       "Bollullos Par del Condado           97.310072   305.831654              4.0  \n",
       "Villarrasa                         180.913614   271.370421              1.0  \n",
       "Villalba del Alcor                  89.126560   267.379679              1.0  \n",
       "Niebla                             121.477162   267.249757              0.0  \n",
       "Alosno                             152.555301   254.258835              0.0  \n",
       "Huelva                             122.766335   235.594442             82.0  \n",
       "Trigueros                           50.877639   203.510557              0.0  \n",
       "Huelva (capital)                    95.246703   178.674472             14.0  \n",
       "Huelva-Costa                        88.413665   164.048793             29.0  \n",
       "Aljaraque                           97.792680   162.987799              2.0  \n",
       "San Silvestre de Guzmán            162.866450   162.866450              0.0  \n",
       "Palma del Condado (La)             101.842422   148.134432              3.0  \n",
       "Aroche                              32.743942   130.975769              0.0  \n",
       "Almonaster la Real                 111.856823   111.856823              0.0  \n",
       "Valverde del Camino                 78.431373   109.803922              0.0  \n",
       "Villanueva de los Castillejos       35.398230   106.194690              0.0  \n",
       "Sierra de Huelva-Andévalo Central   60.838984   102.387559              6.0  \n",
       "Campillo (El)                       49.407115    98.814229              0.0  \n",
       "Punta Umbría                        45.587756    84.662976              1.0  \n",
       "Gibraleón                           31.404569    78.511423              1.0  \n",
       "Calañas                             36.127168    72.254335              0.0  \n",
       "Cortegana                           43.459365    65.189048              0.0  \n",
       "Lepe                                17.934003    57.388809              0.0  \n",
       "Minas de Riotinto                   52.465897    52.465897              1.0  \n",
       "Beas                                23.036167    46.072334             -1.0  \n",
       "Puebla de Guzmán                    32.341527    32.341527              0.0  \n",
       "Ayamonte                             9.476876    23.692191              0.0  \n",
       "Nerva                               19.346102    19.346102              0.0  "
      ],
      "text/html": "<div>\n<style scoped>\n    .dataframe tbody tr th:only-of-type {\n        vertical-align: middle;\n    }\n\n    .dataframe tbody tr th {\n        vertical-align: top;\n    }\n\n    .dataframe thead th {\n        text-align: right;\n    }\n</style>\n<table border=\"1\" class=\"dataframe\">\n  <thead>\n    <tr style=\"text-align: right;\">\n      <th>Medida</th>\n      <th>Confirmados PDIA</th>\n      <th>Confirmados PDIA 7 días</th>\n      <th>Confirmados PDIA 14 días</th>\n      <th>Población</th>\n      <th>tasa7</th>\n      <th>tasa14</th>\n      <th>Diferencia PDIA</th>\n    </tr>\n    <tr>\n      <th>Lugar de residencia</th>\n      <th></th>\n      <th></th>\n      <th></th>\n      <th></th>\n      <th></th>\n      <th></th>\n      <th></th>\n    </tr>\n  </thead>\n  <tbody>\n    <tr>\n      <th>San Bartolomé de la Torre</th>\n      <td>268.0</td>\n      <td>16.0</td>\n      <td>38.0</td>\n      <td>3761.0</td>\n      <td>425.418772</td>\n      <td>1010.369583</td>\n      <td>2.0</td>\n    </tr>\n    <tr>\n      <th>Almonte</th>\n      <td>1206.0</td>\n      <td>104.0</td>\n      <td>198.0</td>\n      <td>24507.0</td>\n      <td>424.368548</td>\n      <td>807.932427</td>\n      <td>17.0</td>\n    </tr>\n    <tr>\n      <th>Rociana del Condado</th>\n      <td>432.0</td>\n      <td>41.0</td>\n      <td>63.0</td>\n      <td>7939.0</td>\n      <td>516.437839</td>\n      <td>793.550825</td>\n      <td>5.0</td>\n    </tr>\n    <tr>\n      <th>Sanlúcar de Guadiana</th>\n      <td>6.0</td>\n      <td>3.0</td>\n      <td>3.0</td>\n      <td>403.0</td>\n      <td>744.416873</td>\n      <td>744.416873</td>\n      <td>0.0</td>\n    </tr>\n    <tr>\n      <th>Cartaya</th>\n      <td>1128.0</td>\n      <td>72.0</td>\n      <td>127.0</td>\n      <td>20083.0</td>\n      <td>358.512174</td>\n      <td>632.375641</td>\n      <td>12.0</td>\n    </tr>\n    <tr>\n      <th>Bonares</th>\n      <td>218.0</td>\n      <td>18.0</td>\n      <td>35.0</td>\n      <td>6060.0</td>\n      <td>297.029703</td>\n      <td>577.557756</td>\n      <td>0.0</td>\n    </tr>\n    <tr>\n      <th>Lucena del Puerto</th>\n      <td>181.0</td>\n      <td>15.0</td>\n      <td>18.0</td>\n      <td>3261.0</td>\n      <td>459.981601</td>\n      <td>551.977921</td>\n      <td>0.0</td>\n    </tr>\n    <tr>\n      <th>Palos de la Frontera</th>\n      <td>527.0</td>\n      <td>23.0</td>\n      <td>49.0</td>\n      <td>11742.0</td>\n      <td>195.878045</td>\n      <td>417.305399</td>\n      <td>9.0</td>\n    </tr>\n    <tr>\n      <th>Aracena</th>\n      <td>489.0</td>\n      <td>21.0</td>\n      <td>34.0</td>\n      <td>8255.0</td>\n      <td>254.391278</td>\n      <td>411.871593</td>\n      <td>5.0</td>\n    </tr>\n    <tr>\n      <th>Condado-Campiña</th>\n      <td>8038.0</td>\n      <td>322.0</td>\n      <td>643.0</td>\n      <td>156231.0</td>\n      <td>206.105062</td>\n      <td>411.570047</td>\n      <td>52.0</td>\n    </tr>\n    <tr>\n      <th>Moguer</th>\n      <td>969.0</td>\n      <td>44.0</td>\n      <td>89.0</td>\n      <td>21867.0</td>\n      <td>201.216445</td>\n      <td>407.005991</td>\n      <td>6.0</td>\n    </tr>\n    <tr>\n      <th>San Juan del Puerto</th>\n      <td>406.0</td>\n      <td>15.0</td>\n      <td>33.0</td>\n      <td>9411.0</td>\n      <td>159.387950</td>\n      <td>350.653491</td>\n      <td>3.0</td>\n    </tr>\n    <tr>\n      <th>Bollullos Par del Condado</th>\n      <td>713.0</td>\n      <td>14.0</td>\n      <td>44.0</td>\n      <td>14387.0</td>\n      <td>97.310072</td>\n      <td>305.831654</td>\n      <td>4.0</td>\n    </tr>\n    <tr>\n      <th>Villarrasa</th>\n      <td>139.0</td>\n      <td>4.0</td>\n      <td>6.0</td>\n      <td>2211.0</td>\n      <td>180.913614</td>\n      <td>271.370421</td>\n      <td>1.0</td>\n    </tr>\n    <tr>\n      <th>Villalba del Alcor</th>\n      <td>470.0</td>\n      <td>3.0</td>\n      <td>9.0</td>\n      <td>3366.0</td>\n      <td>89.126560</td>\n      <td>267.379679</td>\n      <td>1.0</td>\n    </tr>\n    <tr>\n      <th>Niebla</th>\n      <td>183.0</td>\n      <td>5.0</td>\n      <td>11.0</td>\n      <td>4116.0</td>\n      <td>121.477162</td>\n      <td>267.249757</td>\n      <td>0.0</td>\n    </tr>\n    <tr>\n      <th>Alosno</th>\n      <td>160.0</td>\n      <td>6.0</td>\n      <td>10.0</td>\n      <td>3933.0</td>\n      <td>152.555301</td>\n      <td>254.258835</td>\n      <td>0.0</td>\n    </tr>\n    <tr>\n      <th>Huelva</th>\n      <td>26718.0</td>\n      <td>630.0</td>\n      <td>1209.0</td>\n      <td>513170.0</td>\n      <td>122.766335</td>\n      <td>235.594442</td>\n      <td>82.0</td>\n    </tr>\n    <tr>\n      <th>Trigueros</th>\n      <td>245.0</td>\n      <td>4.0</td>\n      <td>16.0</td>\n      <td>7862.0</td>\n      <td>50.877639</td>\n      <td>203.510557</td>\n      <td>0.0</td>\n    </tr>\n    <tr>\n      <th>Huelva (capital)</th>\n      <td>6960.0</td>\n      <td>137.0</td>\n      <td>257.0</td>\n      <td>143837.0</td>\n      <td>95.246703</td>\n      <td>178.674472</td>\n      <td>14.0</td>\n    </tr>\n    <tr>\n      <th>Huelva-Costa</th>\n      <td>15868.0</td>\n      <td>256.0</td>\n      <td>475.0</td>\n      <td>289548.0</td>\n      <td>88.413665</td>\n      <td>164.048793</td>\n      <td>29.0</td>\n    </tr>\n    <tr>\n      <th>Aljaraque</th>\n      <td>966.0</td>\n      <td>21.0</td>\n      <td>35.0</td>\n      <td>21474.0</td>\n      <td>97.792680</td>\n      <td>162.987799</td>\n      <td>2.0</td>\n    </tr>\n    <tr>\n      <th>San Silvestre de Guzmán</th>\n      <td>14.0</td>\n      <td>1.0</td>\n      <td>1.0</td>\n      <td>614.0</td>\n      <td>162.866450</td>\n      <td>162.866450</td>\n      <td>0.0</td>\n    </tr>\n    <tr>\n      <th>Palma del Condado (La)</th>\n      <td>1010.0</td>\n      <td>11.0</td>\n      <td>16.0</td>\n      <td>10801.0</td>\n      <td>101.842422</td>\n      <td>148.134432</td>\n      <td>3.0</td>\n    </tr>\n    <tr>\n      <th>Aroche</th>\n      <td>85.0</td>\n      <td>1.0</td>\n      <td>4.0</td>\n      <td>3054.0</td>\n      <td>32.743942</td>\n      <td>130.975769</td>\n      <td>0.0</td>\n    </tr>\n    <tr>\n      <th>Almonaster la Real</th>\n      <td>55.0</td>\n      <td>2.0</td>\n      <td>2.0</td>\n      <td>1788.0</td>\n      <td>111.856823</td>\n      <td>111.856823</td>\n      <td>0.0</td>\n    </tr>\n    <tr>\n      <th>Valverde del Camino</th>\n      <td>442.0</td>\n      <td>10.0</td>\n      <td>14.0</td>\n      <td>12750.0</td>\n      <td>78.431373</td>\n      <td>109.803922</td>\n      <td>0.0</td>\n    </tr>\n    <tr>\n      <th>Villanueva de los Castillejos</th>\n      <td>156.0</td>\n      <td>1.0</td>\n      <td>3.0</td>\n      <td>2825.0</td>\n      <td>35.398230</td>\n      <td>106.194690</td>\n      <td>0.0</td>\n    </tr>\n    <tr>\n      <th>Sierra de Huelva-Andévalo Central</th>\n      <td>2391.0</td>\n      <td>41.0</td>\n      <td>69.0</td>\n      <td>67391.0</td>\n      <td>60.838984</td>\n      <td>102.387559</td>\n      <td>6.0</td>\n    </tr>\n    <tr>\n      <th>Campillo (El)</th>\n      <td>63.0</td>\n      <td>1.0</td>\n      <td>2.0</td>\n      <td>2024.0</td>\n      <td>49.407115</td>\n      <td>98.814229</td>\n      <td>0.0</td>\n    </tr>\n    <tr>\n      <th>Punta Umbría</th>\n      <td>679.0</td>\n      <td>7.0</td>\n      <td>13.0</td>\n      <td>15355.0</td>\n      <td>45.587756</td>\n      <td>84.662976</td>\n      <td>1.0</td>\n    </tr>\n    <tr>\n      <th>Gibraleón</th>\n      <td>556.0</td>\n      <td>4.0</td>\n      <td>10.0</td>\n      <td>12737.0</td>\n      <td>31.404569</td>\n      <td>78.511423</td>\n      <td>1.0</td>\n    </tr>\n    <tr>\n      <th>Calañas</th>\n      <td>173.0</td>\n      <td>1.0</td>\n      <td>2.0</td>\n      <td>2768.0</td>\n      <td>36.127168</td>\n      <td>72.254335</td>\n      <td>0.0</td>\n    </tr>\n    <tr>\n      <th>Cortegana</th>\n      <td>192.0</td>\n      <td>2.0</td>\n      <td>3.0</td>\n      <td>4602.0</td>\n      <td>43.459365</td>\n      <td>65.189048</td>\n      <td>0.0</td>\n    </tr>\n    <tr>\n      <th>Lepe</th>\n      <td>2036.0</td>\n      <td>5.0</td>\n      <td>16.0</td>\n      <td>27880.0</td>\n      <td>17.934003</td>\n      <td>57.388809</td>\n      <td>0.0</td>\n    </tr>\n    <tr>\n      <th>Minas de Riotinto</th>\n      <td>102.0</td>\n      <td>2.0</td>\n      <td>2.0</td>\n      <td>3812.0</td>\n      <td>52.465897</td>\n      <td>52.465897</td>\n      <td>1.0</td>\n    </tr>\n    <tr>\n      <th>Beas</th>\n      <td>165.0</td>\n      <td>1.0</td>\n      <td>2.0</td>\n      <td>4341.0</td>\n      <td>23.036167</td>\n      <td>46.072334</td>\n      <td>-1.0</td>\n    </tr>\n    <tr>\n      <th>Puebla de Guzmán</th>\n      <td>111.0</td>\n      <td>1.0</td>\n      <td>1.0</td>\n      <td>3092.0</td>\n      <td>32.341527</td>\n      <td>32.341527</td>\n      <td>0.0</td>\n    </tr>\n    <tr>\n      <th>Ayamonte</th>\n      <td>1252.0</td>\n      <td>2.0</td>\n      <td>5.0</td>\n      <td>21104.0</td>\n      <td>9.476876</td>\n      <td>23.692191</td>\n      <td>0.0</td>\n    </tr>\n    <tr>\n      <th>Nerva</th>\n      <td>153.0</td>\n      <td>1.0</td>\n      <td>1.0</td>\n      <td>5169.0</td>\n      <td>19.346102</td>\n      <td>19.346102</td>\n      <td>0.0</td>\n    </tr>\n  </tbody>\n</table>\n</div>"
     },
     "metadata": {},
     "execution_count": 17
    }
   ],
   "source": [
    "tabla.sort_values('tasa14', ascending=False)"
   ]
  },
  {
   "cell_type": "code",
   "execution_count": 18,
   "metadata": {},
   "outputs": [
    {
     "output_type": "execute_result",
     "data": {
      "text/plain": [
       "Medida                             Confirmados PDIA  Confirmados PDIA 7 días  \\\n",
       "Lugar de residencia                                                            \n",
       "Trigueros                                     245.0                      4.0   \n",
       "Aroche                                         85.0                      1.0   \n",
       "Lepe                                         2036.0                      5.0   \n",
       "Bollullos Par del Condado                     713.0                     14.0   \n",
       "Villalba del Alcor                            470.0                      3.0   \n",
       "Villanueva de los Castillejos                 156.0                      1.0   \n",
       "Ayamonte                                     1252.0                      2.0   \n",
       "Gibraleón                                     556.0                      4.0   \n",
       "San Bartolomé de la Torre                     268.0                     16.0   \n",
       "San Juan del Puerto                           406.0                     15.0   \n",
       "Niebla                                        183.0                      5.0   \n",
       "Palos de la Frontera                          527.0                     23.0   \n",
       "Moguer                                        969.0                     44.0   \n",
       "Campillo (El)                                  63.0                      1.0   \n",
       "Beas                                          165.0                      1.0   \n",
       "Calañas                                       173.0                      1.0   \n",
       "Condado-Campiña                              8038.0                    322.0   \n",
       "Bonares                                       218.0                     18.0   \n",
       "Huelva                                      26718.0                    630.0   \n",
       "Almonte                                      1206.0                    104.0   \n",
       "Huelva (capital)                             6960.0                    137.0   \n",
       "Punta Umbría                                  679.0                      7.0   \n",
       "Huelva-Costa                                15868.0                    256.0   \n",
       "Cartaya                                      1128.0                     72.0   \n",
       "Sierra de Huelva-Andévalo Central            2391.0                     41.0   \n",
       "Aljaraque                                     966.0                     21.0   \n",
       "Alosno                                        160.0                      6.0   \n",
       "Aracena                                       489.0                     21.0   \n",
       "Rociana del Condado                           432.0                     41.0   \n",
       "Villarrasa                                    139.0                      4.0   \n",
       "Cortegana                                     192.0                      2.0   \n",
       "Palma del Condado (La)                       1010.0                     11.0   \n",
       "Valverde del Camino                           442.0                     10.0   \n",
       "Lucena del Puerto                             181.0                     15.0   \n",
       "Nerva                                         153.0                      1.0   \n",
       "Puebla de Guzmán                              111.0                      1.0   \n",
       "Minas de Riotinto                             102.0                      2.0   \n",
       "San Silvestre de Guzmán                        14.0                      1.0   \n",
       "Sanlúcar de Guadiana                            6.0                      3.0   \n",
       "Almonaster la Real                             55.0                      2.0   \n",
       "\n",
       "Medida                             Confirmados PDIA 14 días  Población  \\\n",
       "Lugar de residencia                                                      \n",
       "Trigueros                                              16.0     7862.0   \n",
       "Aroche                                                  4.0     3054.0   \n",
       "Lepe                                                   16.0    27880.0   \n",
       "Bollullos Par del Condado                              44.0    14387.0   \n",
       "Villalba del Alcor                                      9.0     3366.0   \n",
       "Villanueva de los Castillejos                           3.0     2825.0   \n",
       "Ayamonte                                                5.0    21104.0   \n",
       "Gibraleón                                              10.0    12737.0   \n",
       "San Bartolomé de la Torre                              38.0     3761.0   \n",
       "San Juan del Puerto                                    33.0     9411.0   \n",
       "Niebla                                                 11.0     4116.0   \n",
       "Palos de la Frontera                                   49.0    11742.0   \n",
       "Moguer                                                 89.0    21867.0   \n",
       "Campillo (El)                                           2.0     2024.0   \n",
       "Beas                                                    2.0     4341.0   \n",
       "Calañas                                                 2.0     2768.0   \n",
       "Condado-Campiña                                       643.0   156231.0   \n",
       "Bonares                                                35.0     6060.0   \n",
       "Huelva                                               1209.0   513170.0   \n",
       "Almonte                                               198.0    24507.0   \n",
       "Huelva (capital)                                      257.0   143837.0   \n",
       "Punta Umbría                                           13.0    15355.0   \n",
       "Huelva-Costa                                          475.0   289548.0   \n",
       "Cartaya                                               127.0    20083.0   \n",
       "Sierra de Huelva-Andévalo Central                      69.0    67391.0   \n",
       "Aljaraque                                              35.0    21474.0   \n",
       "Alosno                                                 10.0     3933.0   \n",
       "Aracena                                                34.0     8255.0   \n",
       "Rociana del Condado                                    63.0     7939.0   \n",
       "Villarrasa                                              6.0     2211.0   \n",
       "Cortegana                                               3.0     4602.0   \n",
       "Palma del Condado (La)                                 16.0    10801.0   \n",
       "Valverde del Camino                                    14.0    12750.0   \n",
       "Lucena del Puerto                                      18.0     3261.0   \n",
       "Nerva                                                   1.0     5169.0   \n",
       "Puebla de Guzmán                                        1.0     3092.0   \n",
       "Minas de Riotinto                                       2.0     3812.0   \n",
       "San Silvestre de Guzmán                                 1.0      614.0   \n",
       "Sanlúcar de Guadiana                                    3.0      403.0   \n",
       "Almonaster la Real                                      2.0     1788.0   \n",
       "\n",
       "Medida                                  tasa7       tasa14  Diferencia PDIA  \\\n",
       "Lugar de residencia                                                           \n",
       "Trigueros                           50.877639   203.510557              0.0   \n",
       "Aroche                              32.743942   130.975769              0.0   \n",
       "Lepe                                17.934003    57.388809              0.0   \n",
       "Bollullos Par del Condado           97.310072   305.831654              4.0   \n",
       "Villalba del Alcor                  89.126560   267.379679              1.0   \n",
       "Villanueva de los Castillejos       35.398230   106.194690              0.0   \n",
       "Ayamonte                             9.476876    23.692191              0.0   \n",
       "Gibraleón                           31.404569    78.511423              1.0   \n",
       "San Bartolomé de la Torre          425.418772  1010.369583              2.0   \n",
       "San Juan del Puerto                159.387950   350.653491              3.0   \n",
       "Niebla                             121.477162   267.249757              0.0   \n",
       "Palos de la Frontera               195.878045   417.305399              9.0   \n",
       "Moguer                             201.216445   407.005991              6.0   \n",
       "Campillo (El)                       49.407115    98.814229              0.0   \n",
       "Beas                                23.036167    46.072334             -1.0   \n",
       "Calañas                             36.127168    72.254335              0.0   \n",
       "Condado-Campiña                    206.105062   411.570047             52.0   \n",
       "Bonares                            297.029703   577.557756              0.0   \n",
       "Huelva                             122.766335   235.594442             82.0   \n",
       "Almonte                            424.368548   807.932427             17.0   \n",
       "Huelva (capital)                    95.246703   178.674472             14.0   \n",
       "Punta Umbría                        45.587756    84.662976              1.0   \n",
       "Huelva-Costa                        88.413665   164.048793             29.0   \n",
       "Cartaya                            358.512174   632.375641             12.0   \n",
       "Sierra de Huelva-Andévalo Central   60.838984   102.387559              6.0   \n",
       "Aljaraque                           97.792680   162.987799              2.0   \n",
       "Alosno                             152.555301   254.258835              0.0   \n",
       "Aracena                            254.391278   411.871593              5.0   \n",
       "Rociana del Condado                516.437839   793.550825              5.0   \n",
       "Villarrasa                         180.913614   271.370421              1.0   \n",
       "Cortegana                           43.459365    65.189048              0.0   \n",
       "Palma del Condado (La)             101.842422   148.134432              3.0   \n",
       "Valverde del Camino                 78.431373   109.803922              0.0   \n",
       "Lucena del Puerto                  459.981601   551.977921              0.0   \n",
       "Nerva                               19.346102    19.346102              0.0   \n",
       "Puebla de Guzmán                    32.341527    32.341527              0.0   \n",
       "Minas de Riotinto                   52.465897    52.465897              1.0   \n",
       "San Silvestre de Guzmán            162.866450   162.866450              0.0   \n",
       "Sanlúcar de Guadiana               744.416873   744.416873              0.0   \n",
       "Almonaster la Real                 111.856823   111.856823              0.0   \n",
       "\n",
       "Medida                                 7/14  \n",
       "Lugar de residencia                          \n",
       "Trigueros                          0.250000  \n",
       "Aroche                             0.250000  \n",
       "Lepe                               0.312500  \n",
       "Bollullos Par del Condado          0.318182  \n",
       "Villalba del Alcor                 0.333333  \n",
       "Villanueva de los Castillejos      0.333333  \n",
       "Ayamonte                           0.400000  \n",
       "Gibraleón                          0.400000  \n",
       "San Bartolomé de la Torre          0.421053  \n",
       "San Juan del Puerto                0.454545  \n",
       "Niebla                             0.454545  \n",
       "Palos de la Frontera               0.469388  \n",
       "Moguer                             0.494382  \n",
       "Campillo (El)                      0.500000  \n",
       "Beas                               0.500000  \n",
       "Calañas                            0.500000  \n",
       "Condado-Campiña                    0.500778  \n",
       "Bonares                            0.514286  \n",
       "Huelva                             0.521092  \n",
       "Almonte                            0.525253  \n",
       "Huelva (capital)                   0.533074  \n",
       "Punta Umbría                       0.538462  \n",
       "Huelva-Costa                       0.538947  \n",
       "Cartaya                            0.566929  \n",
       "Sierra de Huelva-Andévalo Central  0.594203  \n",
       "Aljaraque                          0.600000  \n",
       "Alosno                             0.600000  \n",
       "Aracena                            0.617647  \n",
       "Rociana del Condado                0.650794  \n",
       "Villarrasa                         0.666667  \n",
       "Cortegana                          0.666667  \n",
       "Palma del Condado (La)             0.687500  \n",
       "Valverde del Camino                0.714286  \n",
       "Lucena del Puerto                  0.833333  \n",
       "Nerva                              1.000000  \n",
       "Puebla de Guzmán                   1.000000  \n",
       "Minas de Riotinto                  1.000000  \n",
       "San Silvestre de Guzmán            1.000000  \n",
       "Sanlúcar de Guadiana               1.000000  \n",
       "Almonaster la Real                 1.000000  "
      ],
      "text/html": "<div>\n<style scoped>\n    .dataframe tbody tr th:only-of-type {\n        vertical-align: middle;\n    }\n\n    .dataframe tbody tr th {\n        vertical-align: top;\n    }\n\n    .dataframe thead th {\n        text-align: right;\n    }\n</style>\n<table border=\"1\" class=\"dataframe\">\n  <thead>\n    <tr style=\"text-align: right;\">\n      <th>Medida</th>\n      <th>Confirmados PDIA</th>\n      <th>Confirmados PDIA 7 días</th>\n      <th>Confirmados PDIA 14 días</th>\n      <th>Población</th>\n      <th>tasa7</th>\n      <th>tasa14</th>\n      <th>Diferencia PDIA</th>\n      <th>7/14</th>\n    </tr>\n    <tr>\n      <th>Lugar de residencia</th>\n      <th></th>\n      <th></th>\n      <th></th>\n      <th></th>\n      <th></th>\n      <th></th>\n      <th></th>\n      <th></th>\n    </tr>\n  </thead>\n  <tbody>\n    <tr>\n      <th>Trigueros</th>\n      <td>245.0</td>\n      <td>4.0</td>\n      <td>16.0</td>\n      <td>7862.0</td>\n      <td>50.877639</td>\n      <td>203.510557</td>\n      <td>0.0</td>\n      <td>0.250000</td>\n    </tr>\n    <tr>\n      <th>Aroche</th>\n      <td>85.0</td>\n      <td>1.0</td>\n      <td>4.0</td>\n      <td>3054.0</td>\n      <td>32.743942</td>\n      <td>130.975769</td>\n      <td>0.0</td>\n      <td>0.250000</td>\n    </tr>\n    <tr>\n      <th>Lepe</th>\n      <td>2036.0</td>\n      <td>5.0</td>\n      <td>16.0</td>\n      <td>27880.0</td>\n      <td>17.934003</td>\n      <td>57.388809</td>\n      <td>0.0</td>\n      <td>0.312500</td>\n    </tr>\n    <tr>\n      <th>Bollullos Par del Condado</th>\n      <td>713.0</td>\n      <td>14.0</td>\n      <td>44.0</td>\n      <td>14387.0</td>\n      <td>97.310072</td>\n      <td>305.831654</td>\n      <td>4.0</td>\n      <td>0.318182</td>\n    </tr>\n    <tr>\n      <th>Villalba del Alcor</th>\n      <td>470.0</td>\n      <td>3.0</td>\n      <td>9.0</td>\n      <td>3366.0</td>\n      <td>89.126560</td>\n      <td>267.379679</td>\n      <td>1.0</td>\n      <td>0.333333</td>\n    </tr>\n    <tr>\n      <th>Villanueva de los Castillejos</th>\n      <td>156.0</td>\n      <td>1.0</td>\n      <td>3.0</td>\n      <td>2825.0</td>\n      <td>35.398230</td>\n      <td>106.194690</td>\n      <td>0.0</td>\n      <td>0.333333</td>\n    </tr>\n    <tr>\n      <th>Ayamonte</th>\n      <td>1252.0</td>\n      <td>2.0</td>\n      <td>5.0</td>\n      <td>21104.0</td>\n      <td>9.476876</td>\n      <td>23.692191</td>\n      <td>0.0</td>\n      <td>0.400000</td>\n    </tr>\n    <tr>\n      <th>Gibraleón</th>\n      <td>556.0</td>\n      <td>4.0</td>\n      <td>10.0</td>\n      <td>12737.0</td>\n      <td>31.404569</td>\n      <td>78.511423</td>\n      <td>1.0</td>\n      <td>0.400000</td>\n    </tr>\n    <tr>\n      <th>San Bartolomé de la Torre</th>\n      <td>268.0</td>\n      <td>16.0</td>\n      <td>38.0</td>\n      <td>3761.0</td>\n      <td>425.418772</td>\n      <td>1010.369583</td>\n      <td>2.0</td>\n      <td>0.421053</td>\n    </tr>\n    <tr>\n      <th>San Juan del Puerto</th>\n      <td>406.0</td>\n      <td>15.0</td>\n      <td>33.0</td>\n      <td>9411.0</td>\n      <td>159.387950</td>\n      <td>350.653491</td>\n      <td>3.0</td>\n      <td>0.454545</td>\n    </tr>\n    <tr>\n      <th>Niebla</th>\n      <td>183.0</td>\n      <td>5.0</td>\n      <td>11.0</td>\n      <td>4116.0</td>\n      <td>121.477162</td>\n      <td>267.249757</td>\n      <td>0.0</td>\n      <td>0.454545</td>\n    </tr>\n    <tr>\n      <th>Palos de la Frontera</th>\n      <td>527.0</td>\n      <td>23.0</td>\n      <td>49.0</td>\n      <td>11742.0</td>\n      <td>195.878045</td>\n      <td>417.305399</td>\n      <td>9.0</td>\n      <td>0.469388</td>\n    </tr>\n    <tr>\n      <th>Moguer</th>\n      <td>969.0</td>\n      <td>44.0</td>\n      <td>89.0</td>\n      <td>21867.0</td>\n      <td>201.216445</td>\n      <td>407.005991</td>\n      <td>6.0</td>\n      <td>0.494382</td>\n    </tr>\n    <tr>\n      <th>Campillo (El)</th>\n      <td>63.0</td>\n      <td>1.0</td>\n      <td>2.0</td>\n      <td>2024.0</td>\n      <td>49.407115</td>\n      <td>98.814229</td>\n      <td>0.0</td>\n      <td>0.500000</td>\n    </tr>\n    <tr>\n      <th>Beas</th>\n      <td>165.0</td>\n      <td>1.0</td>\n      <td>2.0</td>\n      <td>4341.0</td>\n      <td>23.036167</td>\n      <td>46.072334</td>\n      <td>-1.0</td>\n      <td>0.500000</td>\n    </tr>\n    <tr>\n      <th>Calañas</th>\n      <td>173.0</td>\n      <td>1.0</td>\n      <td>2.0</td>\n      <td>2768.0</td>\n      <td>36.127168</td>\n      <td>72.254335</td>\n      <td>0.0</td>\n      <td>0.500000</td>\n    </tr>\n    <tr>\n      <th>Condado-Campiña</th>\n      <td>8038.0</td>\n      <td>322.0</td>\n      <td>643.0</td>\n      <td>156231.0</td>\n      <td>206.105062</td>\n      <td>411.570047</td>\n      <td>52.0</td>\n      <td>0.500778</td>\n    </tr>\n    <tr>\n      <th>Bonares</th>\n      <td>218.0</td>\n      <td>18.0</td>\n      <td>35.0</td>\n      <td>6060.0</td>\n      <td>297.029703</td>\n      <td>577.557756</td>\n      <td>0.0</td>\n      <td>0.514286</td>\n    </tr>\n    <tr>\n      <th>Huelva</th>\n      <td>26718.0</td>\n      <td>630.0</td>\n      <td>1209.0</td>\n      <td>513170.0</td>\n      <td>122.766335</td>\n      <td>235.594442</td>\n      <td>82.0</td>\n      <td>0.521092</td>\n    </tr>\n    <tr>\n      <th>Almonte</th>\n      <td>1206.0</td>\n      <td>104.0</td>\n      <td>198.0</td>\n      <td>24507.0</td>\n      <td>424.368548</td>\n      <td>807.932427</td>\n      <td>17.0</td>\n      <td>0.525253</td>\n    </tr>\n    <tr>\n      <th>Huelva (capital)</th>\n      <td>6960.0</td>\n      <td>137.0</td>\n      <td>257.0</td>\n      <td>143837.0</td>\n      <td>95.246703</td>\n      <td>178.674472</td>\n      <td>14.0</td>\n      <td>0.533074</td>\n    </tr>\n    <tr>\n      <th>Punta Umbría</th>\n      <td>679.0</td>\n      <td>7.0</td>\n      <td>13.0</td>\n      <td>15355.0</td>\n      <td>45.587756</td>\n      <td>84.662976</td>\n      <td>1.0</td>\n      <td>0.538462</td>\n    </tr>\n    <tr>\n      <th>Huelva-Costa</th>\n      <td>15868.0</td>\n      <td>256.0</td>\n      <td>475.0</td>\n      <td>289548.0</td>\n      <td>88.413665</td>\n      <td>164.048793</td>\n      <td>29.0</td>\n      <td>0.538947</td>\n    </tr>\n    <tr>\n      <th>Cartaya</th>\n      <td>1128.0</td>\n      <td>72.0</td>\n      <td>127.0</td>\n      <td>20083.0</td>\n      <td>358.512174</td>\n      <td>632.375641</td>\n      <td>12.0</td>\n      <td>0.566929</td>\n    </tr>\n    <tr>\n      <th>Sierra de Huelva-Andévalo Central</th>\n      <td>2391.0</td>\n      <td>41.0</td>\n      <td>69.0</td>\n      <td>67391.0</td>\n      <td>60.838984</td>\n      <td>102.387559</td>\n      <td>6.0</td>\n      <td>0.594203</td>\n    </tr>\n    <tr>\n      <th>Aljaraque</th>\n      <td>966.0</td>\n      <td>21.0</td>\n      <td>35.0</td>\n      <td>21474.0</td>\n      <td>97.792680</td>\n      <td>162.987799</td>\n      <td>2.0</td>\n      <td>0.600000</td>\n    </tr>\n    <tr>\n      <th>Alosno</th>\n      <td>160.0</td>\n      <td>6.0</td>\n      <td>10.0</td>\n      <td>3933.0</td>\n      <td>152.555301</td>\n      <td>254.258835</td>\n      <td>0.0</td>\n      <td>0.600000</td>\n    </tr>\n    <tr>\n      <th>Aracena</th>\n      <td>489.0</td>\n      <td>21.0</td>\n      <td>34.0</td>\n      <td>8255.0</td>\n      <td>254.391278</td>\n      <td>411.871593</td>\n      <td>5.0</td>\n      <td>0.617647</td>\n    </tr>\n    <tr>\n      <th>Rociana del Condado</th>\n      <td>432.0</td>\n      <td>41.0</td>\n      <td>63.0</td>\n      <td>7939.0</td>\n      <td>516.437839</td>\n      <td>793.550825</td>\n      <td>5.0</td>\n      <td>0.650794</td>\n    </tr>\n    <tr>\n      <th>Villarrasa</th>\n      <td>139.0</td>\n      <td>4.0</td>\n      <td>6.0</td>\n      <td>2211.0</td>\n      <td>180.913614</td>\n      <td>271.370421</td>\n      <td>1.0</td>\n      <td>0.666667</td>\n    </tr>\n    <tr>\n      <th>Cortegana</th>\n      <td>192.0</td>\n      <td>2.0</td>\n      <td>3.0</td>\n      <td>4602.0</td>\n      <td>43.459365</td>\n      <td>65.189048</td>\n      <td>0.0</td>\n      <td>0.666667</td>\n    </tr>\n    <tr>\n      <th>Palma del Condado (La)</th>\n      <td>1010.0</td>\n      <td>11.0</td>\n      <td>16.0</td>\n      <td>10801.0</td>\n      <td>101.842422</td>\n      <td>148.134432</td>\n      <td>3.0</td>\n      <td>0.687500</td>\n    </tr>\n    <tr>\n      <th>Valverde del Camino</th>\n      <td>442.0</td>\n      <td>10.0</td>\n      <td>14.0</td>\n      <td>12750.0</td>\n      <td>78.431373</td>\n      <td>109.803922</td>\n      <td>0.0</td>\n      <td>0.714286</td>\n    </tr>\n    <tr>\n      <th>Lucena del Puerto</th>\n      <td>181.0</td>\n      <td>15.0</td>\n      <td>18.0</td>\n      <td>3261.0</td>\n      <td>459.981601</td>\n      <td>551.977921</td>\n      <td>0.0</td>\n      <td>0.833333</td>\n    </tr>\n    <tr>\n      <th>Nerva</th>\n      <td>153.0</td>\n      <td>1.0</td>\n      <td>1.0</td>\n      <td>5169.0</td>\n      <td>19.346102</td>\n      <td>19.346102</td>\n      <td>0.0</td>\n      <td>1.000000</td>\n    </tr>\n    <tr>\n      <th>Puebla de Guzmán</th>\n      <td>111.0</td>\n      <td>1.0</td>\n      <td>1.0</td>\n      <td>3092.0</td>\n      <td>32.341527</td>\n      <td>32.341527</td>\n      <td>0.0</td>\n      <td>1.000000</td>\n    </tr>\n    <tr>\n      <th>Minas de Riotinto</th>\n      <td>102.0</td>\n      <td>2.0</td>\n      <td>2.0</td>\n      <td>3812.0</td>\n      <td>52.465897</td>\n      <td>52.465897</td>\n      <td>1.0</td>\n      <td>1.000000</td>\n    </tr>\n    <tr>\n      <th>San Silvestre de Guzmán</th>\n      <td>14.0</td>\n      <td>1.0</td>\n      <td>1.0</td>\n      <td>614.0</td>\n      <td>162.866450</td>\n      <td>162.866450</td>\n      <td>0.0</td>\n      <td>1.000000</td>\n    </tr>\n    <tr>\n      <th>Sanlúcar de Guadiana</th>\n      <td>6.0</td>\n      <td>3.0</td>\n      <td>3.0</td>\n      <td>403.0</td>\n      <td>744.416873</td>\n      <td>744.416873</td>\n      <td>0.0</td>\n      <td>1.000000</td>\n    </tr>\n    <tr>\n      <th>Almonaster la Real</th>\n      <td>55.0</td>\n      <td>2.0</td>\n      <td>2.0</td>\n      <td>1788.0</td>\n      <td>111.856823</td>\n      <td>111.856823</td>\n      <td>0.0</td>\n      <td>1.000000</td>\n    </tr>\n  </tbody>\n</table>\n</div>"
     },
     "metadata": {},
     "execution_count": 18
    }
   ],
   "source": [
    "# Peso de la tasa de la última semana en relación con la tasa a 14 días \n",
    "# Mejor cuanto menor. Valor 1 significa que no había casos antes de 7 días.\n",
    "tabla['7/14'] = tabla['tasa7'] / tabla['tasa14']\n",
    "tabla.fillna(0).sort_values('7/14', ascending=True)"
   ]
  },
  {
   "cell_type": "code",
   "execution_count": null,
   "metadata": {},
   "outputs": [],
   "source": []
  }
 ]
}