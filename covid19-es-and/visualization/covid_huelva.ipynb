{
 "metadata": {
  "language_info": {
   "codemirror_mode": {
    "name": "ipython",
    "version": 3
   },
   "file_extension": ".py",
   "mimetype": "text/x-python",
   "name": "python",
   "nbconvert_exporter": "python",
   "pygments_lexer": "ipython3",
   "version": "3.8.6-final"
  },
  "orig_nbformat": 2,
  "kernelspec": {
   "name": "python38564bit75945252d6ba481bad4868286020c89e",
   "display_name": "Python 3.8.5 64-bit",
   "language": "python"
  }
 },
 "nbformat": 4,
 "nbformat_minor": 2,
 "cells": [
  {
   "cell_type": "code",
   "execution_count": 1,
   "metadata": {},
   "outputs": [],
   "source": [
    "import pandas as pd\n",
    "pd.set_option('display.max_rows', None) # Print all rows"
   ]
  },
  {
   "cell_type": "code",
   "execution_count": 2,
   "metadata": {},
   "outputs": [],
   "source": [
    "# FIX SSL: CERTIFICATE_VERIFY_FAILED with Python3\n",
    "# https://stackoverflow.com/a/49174340\n",
    "import ssl\n",
    "\n",
    "ssl._create_default_https_context = ssl._create_unverified_context"
   ]
  },
  {
   "cell_type": "code",
   "execution_count": 3,
   "metadata": {},
   "outputs": [],
   "source": [
    "url = 'https://www.juntadeandalucia.es/institutodeestadisticaycartografia/badea/stpivot/stpivot/Print?cube=013d884c-cfc5-4c21-9e78-e26225682afd&type=3&foto=si&ejecutaDesde=&codConsulta=38668&consTipoVisua=JP'\n",
    "fields = ['Lugar de residencia', 'Medida', 'Valor']\n",
    "df = pd.read_csv(url, delimiter=';', usecols=fields, decimal=',')"
   ]
  },
  {
   "cell_type": "code",
   "execution_count": 4,
   "metadata": {},
   "outputs": [
    {
     "output_type": "execute_result",
     "data": {
      "text/plain": [
       "  Lugar de residencia                    Medida              Valor\n",
       "0              Huelva                 Población             513170\n",
       "1              Huelva          Confirmados PDIA              24999\n",
       "2              Huelva  Confirmados PDIA 14 días                350\n",
       "3              Huelva         Tasa PDIA 14 días  68,20351930159596\n",
       "4              Huelva   Confirmados PDIA 7 días                204\n",
       "5              Huelva        Total Confirmados               25197\n",
       "6              Huelva                   Curados              19022\n",
       "7              Huelva                Fallecidos                345"
      ],
      "text/html": "<div>\n<style scoped>\n    .dataframe tbody tr th:only-of-type {\n        vertical-align: middle;\n    }\n\n    .dataframe tbody tr th {\n        vertical-align: top;\n    }\n\n    .dataframe thead th {\n        text-align: right;\n    }\n</style>\n<table border=\"1\" class=\"dataframe\">\n  <thead>\n    <tr style=\"text-align: right;\">\n      <th></th>\n      <th>Lugar de residencia</th>\n      <th>Medida</th>\n      <th>Valor</th>\n    </tr>\n  </thead>\n  <tbody>\n    <tr>\n      <th>0</th>\n      <td>Huelva</td>\n      <td>Población</td>\n      <td>513170</td>\n    </tr>\n    <tr>\n      <th>1</th>\n      <td>Huelva</td>\n      <td>Confirmados PDIA</td>\n      <td>24999</td>\n    </tr>\n    <tr>\n      <th>2</th>\n      <td>Huelva</td>\n      <td>Confirmados PDIA 14 días</td>\n      <td>350</td>\n    </tr>\n    <tr>\n      <th>3</th>\n      <td>Huelva</td>\n      <td>Tasa PDIA 14 días</td>\n      <td>68,20351930159596</td>\n    </tr>\n    <tr>\n      <th>4</th>\n      <td>Huelva</td>\n      <td>Confirmados PDIA 7 días</td>\n      <td>204</td>\n    </tr>\n    <tr>\n      <th>5</th>\n      <td>Huelva</td>\n      <td>Total Confirmados</td>\n      <td>25197</td>\n    </tr>\n    <tr>\n      <th>6</th>\n      <td>Huelva</td>\n      <td>Curados</td>\n      <td>19022</td>\n    </tr>\n    <tr>\n      <th>7</th>\n      <td>Huelva</td>\n      <td>Fallecidos</td>\n      <td>345</td>\n    </tr>\n  </tbody>\n</table>\n</div>"
     },
     "metadata": {},
     "execution_count": 4
    }
   ],
   "source": [
    "df[df['Lugar de residencia'] == 'Huelva']"
   ]
  },
  {
   "cell_type": "code",
   "execution_count": 5,
   "metadata": {},
   "outputs": [],
   "source": [
    "df['Valor'] = pd.to_numeric(df['Valor'],errors='coerce')"
   ]
  },
  {
   "cell_type": "code",
   "execution_count": 6,
   "metadata": {},
   "outputs": [],
   "source": [
    "dfAnterior = pd.read_csv('covid_huelva.csv', index_col='Lugar de residencia')"
   ]
  },
  {
   "cell_type": "code",
   "execution_count": 7,
   "metadata": {
    "tags": []
   },
   "outputs": [
    {
     "output_type": "stream",
     "name": "stdout",
     "text": [
      "Confirmados PCR en la provincia de Huelva:  24999.0\n",
      "<ipython-input-7-31b732756b19>:2: UserWarning: Boolean Series key will be reindexed to match DataFrame index.\n",
      "  p = df[df['Lugar de residencia'] == 'Huelva'][df['Medida'] == 'Confirmados PDIA']['Valor'].values[0]\n"
     ]
    }
   ],
   "source": [
    "# Confirmados PCR provincia Huelva\n",
    "p = df[df['Lugar de residencia'] == 'Huelva'][df['Medida'] == 'Confirmados PDIA']['Valor'].values[0]\n",
    "print('Confirmados PCR en la provincia de Huelva: ', p)"
   ]
  },
  {
   "cell_type": "code",
   "execution_count": 8,
   "metadata": {
    "tags": []
   },
   "outputs": [
    {
     "output_type": "stream",
     "name": "stdout",
     "text": [
      "Confirmados PCR en Huelva capital:  6623.0\n",
      "<ipython-input-8-e81bfb40e710>:2: UserWarning: Boolean Series key will be reindexed to match DataFrame index.\n",
      "  c = df[df['Lugar de residencia'] == 'Huelva (capital)'][df['Medida'] == 'Confirmados PDIA']['Valor'].values[0]\n"
     ]
    }
   ],
   "source": [
    "# Confirmados PCR Huelva capitalpd\n",
    "c = df[df['Lugar de residencia'] == 'Huelva (capital)'][df['Medida'] == 'Confirmados PDIA']['Valor'].values[0]\n",
    "print('Confirmados PCR en Huelva capital: ', c)"
   ]
  },
  {
   "cell_type": "code",
   "execution_count": 9,
   "metadata": {
    "tags": []
   },
   "outputs": [
    {
     "output_type": "stream",
     "name": "stderr",
     "text": [
      "<ipython-input-9-f09dd2050cc1>:1: UserWarning: Boolean Series key will be reindexed to match DataFrame index.\n  c7 = df[df['Lugar de residencia'] == 'Huelva (capital)'][df['Medida'] == 'Confirmados PDIA 7 días']['Valor'].values[0]\n<ipython-input-9-f09dd2050cc1>:2: UserWarning: Boolean Series key will be reindexed to match DataFrame index.\n  c14 = df[df['Lugar de residencia'] == 'Huelva (capital)'][df['Medida'] == 'Confirmados PDIA 14 días']['Valor'].values[0]\n<ipython-input-9-f09dd2050cc1>:3: UserWarning: Boolean Series key will be reindexed to match DataFrame index.\n  p = df[df['Lugar de residencia'] == 'Huelva (capital)'][df['Medida'] == 'Población']['Valor'].values[0]\n"
     ]
    }
   ],
   "source": [
    "c7 = df[df['Lugar de residencia'] == 'Huelva (capital)'][df['Medida'] == 'Confirmados PDIA 7 días']['Valor'].values[0]\n",
    "c14 = df[df['Lugar de residencia'] == 'Huelva (capital)'][df['Medida'] == 'Confirmados PDIA 14 días']['Valor'].values[0]\n",
    "p = df[df['Lugar de residencia'] == 'Huelva (capital)'][df['Medida'] == 'Población']['Valor'].values[0]"
   ]
  },
  {
   "cell_type": "code",
   "execution_count": 10,
   "metadata": {
    "tags": []
   },
   "outputs": [
    {
     "output_type": "stream",
     "name": "stdout",
     "text": [
      "Huelva (capital)\n\nUn positivo PCR cada 4359 personas en los últimos 7 días \n\nUn positivo PCR cada 2569 personas en los últimos 14 días\n"
     ]
    }
   ],
   "source": [
    "print('Huelva (capital)\\n')\n",
    "#print('Confirmados PCR 7 días x 1,000 habitantes: ', f\"{c7/(p/1000):.5f}\")\n",
    "print('Un positivo PCR cada', f\"{p/c7:.0f}\", 'personas en los últimos 7 días', '\\n')\n",
    "#print('Confirmados PCR 14 días x 1,000 habitantes: ', f\"{c14/(p/1000):.5f}\")\n",
    "print('Un positivo PCR cada', f\"{p/c14:.0f}\", 'personas en los últimos 14 días')"
   ]
  },
  {
   "cell_type": "code",
   "execution_count": 11,
   "metadata": {},
   "outputs": [],
   "source": [
    "filtro = ((df['Medida'] == 'Confirmados PDIA')| (df['Medida'] == 'Confirmados PDIA 7 días') | (df['Medida'] == 'Población' ) | (df['Medida'] == 'Confirmados PDIA 14 días')) & (df['Valor'] > 0)\n",
    "tabla = pd.pivot_table(df.loc[filtro], values='Valor', index='Lugar de residencia', columns='Medida').dropna()"
   ]
  },
  {
   "cell_type": "code",
   "execution_count": 12,
   "metadata": {},
   "outputs": [],
   "source": [
    "# Reorder columns\n",
    "tabla = tabla[['Confirmados PDIA', 'Confirmados PDIA 7 días', 'Confirmados PDIA 14 días', 'Población']]"
   ]
  },
  {
   "cell_type": "code",
   "execution_count": 13,
   "metadata": {},
   "outputs": [],
   "source": [
    "tabla['tasa7'] = tabla['Confirmados PDIA 7 días']/tabla['Población']*100000\n",
    "tabla['tasa14'] = tabla['Confirmados PDIA 14 días']/tabla['Población']*100000"
   ]
  },
  {
   "cell_type": "code",
   "execution_count": 14,
   "metadata": {},
   "outputs": [],
   "source": [
    "tabla['Diferencia PDIA'] = tabla['Confirmados PDIA'] - dfAnterior['Confirmados PDIA']"
   ]
  },
  {
   "cell_type": "code",
   "execution_count": 15,
   "metadata": {},
   "outputs": [
    {
     "output_type": "execute_result",
     "data": {
      "text/plain": [
       "Medida                             Confirmados PDIA  Confirmados PDIA 7 días  \\\n",
       "Lugar de residencia                                                            \n",
       "Huelva                                      24999.0                    204.0   \n",
       "Huelva-Costa                                15214.0                     91.0   \n",
       "Condado-Campiña                              7063.0                    103.0   \n",
       "Almonte                                       905.0                     27.0   \n",
       "Huelva (capital)                             6623.0                     33.0   \n",
       "Isla Cristina                                2004.0                     10.0   \n",
       "Alosno                                        128.0                      6.0   \n",
       "Moguer                                        849.0                     14.0   \n",
       "Aljaraque                                     928.0                      3.0   \n",
       "Cartaya                                       974.0                     15.0   \n",
       "Gibraleón                                     521.0                      8.0   \n",
       "Lepe                                         2008.0                      8.0   \n",
       "Ayamonte                                     1232.0                     10.0   \n",
       "Bollullos Par del Condado                     632.0                     11.0   \n",
       "Sierra de Huelva-Andévalo Central            2308.0                      8.0   \n",
       "Valverde del Camino                           423.0                      6.0   \n",
       "\n",
       "Medida                             Confirmados PDIA 14 días  Población  \\\n",
       "Lugar de residencia                                                      \n",
       "Huelva                                                350.0   513170.0   \n",
       "Huelva-Costa                                          177.0   289548.0   \n",
       "Condado-Campiña                                       161.0   156231.0   \n",
       "Almonte                                                37.0    24507.0   \n",
       "Huelva (capital)                                       56.0   143837.0   \n",
       "Isla Cristina                                          21.0    21393.0   \n",
       "Alosno                                                  7.0     3933.0   \n",
       "Moguer                                                 20.0    21867.0   \n",
       "Aljaraque                                               3.0    21474.0   \n",
       "Cartaya                                                23.0    20083.0   \n",
       "Gibraleón                                              10.0    12737.0   \n",
       "Lepe                                                   15.0    27880.0   \n",
       "Ayamonte                                               32.0    21104.0   \n",
       "Bollullos Par del Condado                              18.0    14387.0   \n",
       "Sierra de Huelva-Andévalo Central                       9.0    67391.0   \n",
       "Valverde del Camino                                     7.0    12750.0   \n",
       "\n",
       "Medida                                  tasa7      tasa14  Diferencia PDIA  \n",
       "Lugar de residencia                                                         \n",
       "Huelva                              39.752908   68.203519             40.0  \n",
       "Huelva-Costa                        31.428295   61.129761             25.0  \n",
       "Condado-Campiña                     65.928017  103.052531             15.0  \n",
       "Almonte                            110.172604  150.977272              9.0  \n",
       "Huelva (capital)                    22.942636   38.932959              9.0  \n",
       "Isla Cristina                       46.744262   98.162950              6.0  \n",
       "Alosno                             152.555301  177.981185              3.0  \n",
       "Moguer                              64.023414   91.462020              3.0  \n",
       "Aljaraque                           13.970383   13.970383              2.0  \n",
       "Cartaya                             74.690036  114.524722              2.0  \n",
       "Gibraleón                           62.809139   78.511423              2.0  \n",
       "Lepe                                28.694405   53.802009              2.0  \n",
       "Ayamonte                            47.384382  151.630023              1.0  \n",
       "Bollullos Par del Condado           76.457913  125.112949              1.0  \n",
       "Sierra de Huelva-Andévalo Central   11.871021   13.354899             -1.0  \n",
       "Valverde del Camino                 47.058824   54.901961             -1.0  "
      ],
      "text/html": "<div>\n<style scoped>\n    .dataframe tbody tr th:only-of-type {\n        vertical-align: middle;\n    }\n\n    .dataframe tbody tr th {\n        vertical-align: top;\n    }\n\n    .dataframe thead th {\n        text-align: right;\n    }\n</style>\n<table border=\"1\" class=\"dataframe\">\n  <thead>\n    <tr style=\"text-align: right;\">\n      <th>Medida</th>\n      <th>Confirmados PDIA</th>\n      <th>Confirmados PDIA 7 días</th>\n      <th>Confirmados PDIA 14 días</th>\n      <th>Población</th>\n      <th>tasa7</th>\n      <th>tasa14</th>\n      <th>Diferencia PDIA</th>\n    </tr>\n    <tr>\n      <th>Lugar de residencia</th>\n      <th></th>\n      <th></th>\n      <th></th>\n      <th></th>\n      <th></th>\n      <th></th>\n      <th></th>\n    </tr>\n  </thead>\n  <tbody>\n    <tr>\n      <th>Huelva</th>\n      <td>24999.0</td>\n      <td>204.0</td>\n      <td>350.0</td>\n      <td>513170.0</td>\n      <td>39.752908</td>\n      <td>68.203519</td>\n      <td>40.0</td>\n    </tr>\n    <tr>\n      <th>Huelva-Costa</th>\n      <td>15214.0</td>\n      <td>91.0</td>\n      <td>177.0</td>\n      <td>289548.0</td>\n      <td>31.428295</td>\n      <td>61.129761</td>\n      <td>25.0</td>\n    </tr>\n    <tr>\n      <th>Condado-Campiña</th>\n      <td>7063.0</td>\n      <td>103.0</td>\n      <td>161.0</td>\n      <td>156231.0</td>\n      <td>65.928017</td>\n      <td>103.052531</td>\n      <td>15.0</td>\n    </tr>\n    <tr>\n      <th>Almonte</th>\n      <td>905.0</td>\n      <td>27.0</td>\n      <td>37.0</td>\n      <td>24507.0</td>\n      <td>110.172604</td>\n      <td>150.977272</td>\n      <td>9.0</td>\n    </tr>\n    <tr>\n      <th>Huelva (capital)</th>\n      <td>6623.0</td>\n      <td>33.0</td>\n      <td>56.0</td>\n      <td>143837.0</td>\n      <td>22.942636</td>\n      <td>38.932959</td>\n      <td>9.0</td>\n    </tr>\n    <tr>\n      <th>Isla Cristina</th>\n      <td>2004.0</td>\n      <td>10.0</td>\n      <td>21.0</td>\n      <td>21393.0</td>\n      <td>46.744262</td>\n      <td>98.162950</td>\n      <td>6.0</td>\n    </tr>\n    <tr>\n      <th>Alosno</th>\n      <td>128.0</td>\n      <td>6.0</td>\n      <td>7.0</td>\n      <td>3933.0</td>\n      <td>152.555301</td>\n      <td>177.981185</td>\n      <td>3.0</td>\n    </tr>\n    <tr>\n      <th>Moguer</th>\n      <td>849.0</td>\n      <td>14.0</td>\n      <td>20.0</td>\n      <td>21867.0</td>\n      <td>64.023414</td>\n      <td>91.462020</td>\n      <td>3.0</td>\n    </tr>\n    <tr>\n      <th>Aljaraque</th>\n      <td>928.0</td>\n      <td>3.0</td>\n      <td>3.0</td>\n      <td>21474.0</td>\n      <td>13.970383</td>\n      <td>13.970383</td>\n      <td>2.0</td>\n    </tr>\n    <tr>\n      <th>Cartaya</th>\n      <td>974.0</td>\n      <td>15.0</td>\n      <td>23.0</td>\n      <td>20083.0</td>\n      <td>74.690036</td>\n      <td>114.524722</td>\n      <td>2.0</td>\n    </tr>\n    <tr>\n      <th>Gibraleón</th>\n      <td>521.0</td>\n      <td>8.0</td>\n      <td>10.0</td>\n      <td>12737.0</td>\n      <td>62.809139</td>\n      <td>78.511423</td>\n      <td>2.0</td>\n    </tr>\n    <tr>\n      <th>Lepe</th>\n      <td>2008.0</td>\n      <td>8.0</td>\n      <td>15.0</td>\n      <td>27880.0</td>\n      <td>28.694405</td>\n      <td>53.802009</td>\n      <td>2.0</td>\n    </tr>\n    <tr>\n      <th>Ayamonte</th>\n      <td>1232.0</td>\n      <td>10.0</td>\n      <td>32.0</td>\n      <td>21104.0</td>\n      <td>47.384382</td>\n      <td>151.630023</td>\n      <td>1.0</td>\n    </tr>\n    <tr>\n      <th>Bollullos Par del Condado</th>\n      <td>632.0</td>\n      <td>11.0</td>\n      <td>18.0</td>\n      <td>14387.0</td>\n      <td>76.457913</td>\n      <td>125.112949</td>\n      <td>1.0</td>\n    </tr>\n    <tr>\n      <th>Sierra de Huelva-Andévalo Central</th>\n      <td>2308.0</td>\n      <td>8.0</td>\n      <td>9.0</td>\n      <td>67391.0</td>\n      <td>11.871021</td>\n      <td>13.354899</td>\n      <td>-1.0</td>\n    </tr>\n    <tr>\n      <th>Valverde del Camino</th>\n      <td>423.0</td>\n      <td>6.0</td>\n      <td>7.0</td>\n      <td>12750.0</td>\n      <td>47.058824</td>\n      <td>54.901961</td>\n      <td>-1.0</td>\n    </tr>\n  </tbody>\n</table>\n</div>"
     },
     "metadata": {},
     "execution_count": 15
    }
   ],
   "source": [
    "# Nuevos casos desde la última captura\n",
    "tabla[tabla['Diferencia PDIA'] != 0].sort_values('Diferencia PDIA', ascending=False)"
   ]
  },
  {
   "cell_type": "code",
   "execution_count": 16,
   "metadata": {},
   "outputs": [],
   "source": [
    "if tabla[tabla['Diferencia PDIA'] != 0]['Diferencia PDIA'].sum() != 0:\n",
    "  # Save to csv\n",
    "  tabla.to_csv('covid_huelva.csv', encoding='utf-8', header=True, index=True)  "
   ]
  },
  {
   "cell_type": "code",
   "execution_count": 17,
   "metadata": {},
   "outputs": [
    {
     "output_type": "execute_result",
     "data": {
      "text/plain": [
       "Medida                             Confirmados PDIA  Confirmados PDIA 7 días  \\\n",
       "Lugar de residencia                                                            \n",
       "Puebla de Guzmán                              108.0                      6.0   \n",
       "San Bartolomé de la Torre                     210.0                      7.0   \n",
       "Villalba del Alcor                            456.0                      9.0   \n",
       "Corteconcepción                                24.0                      1.0   \n",
       "Alosno                                        128.0                      6.0   \n",
       "Ayamonte                                     1232.0                     10.0   \n",
       "Almonte                                       905.0                     27.0   \n",
       "Villarrasa                                    132.0                      3.0   \n",
       "Rociana del Condado                           320.0                      7.0   \n",
       "Bollullos Par del Condado                     632.0                     11.0   \n",
       "Cartaya                                       974.0                     15.0   \n",
       "Condado-Campiña                              7063.0                    103.0   \n",
       "Isla Cristina                                2004.0                     10.0   \n",
       "San Juan del Puerto                           367.0                      2.0   \n",
       "Palma del Condado (La)                        988.0                      6.0   \n",
       "Moguer                                        849.0                     14.0   \n",
       "Palos de la Frontera                          460.0                      8.0   \n",
       "Gibraleón                                     521.0                      8.0   \n",
       "Huelva                                      24999.0                    204.0   \n",
       "Huelva-Costa                                15214.0                     91.0   \n",
       "Valverde del Camino                           423.0                      6.0   \n",
       "Lepe                                         2008.0                      8.0   \n",
       "Huelva (capital)                             6623.0                     33.0   \n",
       "Zalamea la Real                                85.0                      1.0   \n",
       "Niebla                                        158.0                      1.0   \n",
       "Aljaraque                                     928.0                      3.0   \n",
       "Sierra de Huelva-Andévalo Central            2308.0                      8.0   \n",
       "\n",
       "Medida                             Confirmados PDIA 14 días  Población  \\\n",
       "Lugar de residencia                                                      \n",
       "Puebla de Guzmán                                       15.0     3092.0   \n",
       "San Bartolomé de la Torre                              15.0     3761.0   \n",
       "Villalba del Alcor                                     11.0     3366.0   \n",
       "Corteconcepción                                         1.0      536.0   \n",
       "Alosno                                                  7.0     3933.0   \n",
       "Ayamonte                                               32.0    21104.0   \n",
       "Almonte                                                37.0    24507.0   \n",
       "Villarrasa                                              3.0     2211.0   \n",
       "Rociana del Condado                                    10.0     7939.0   \n",
       "Bollullos Par del Condado                              18.0    14387.0   \n",
       "Cartaya                                                23.0    20083.0   \n",
       "Condado-Campiña                                       161.0   156231.0   \n",
       "Isla Cristina                                          21.0    21393.0   \n",
       "San Juan del Puerto                                     9.0     9411.0   \n",
       "Palma del Condado (La)                                 10.0    10801.0   \n",
       "Moguer                                                 20.0    21867.0   \n",
       "Palos de la Frontera                                   10.0    11742.0   \n",
       "Gibraleón                                              10.0    12737.0   \n",
       "Huelva                                                350.0   513170.0   \n",
       "Huelva-Costa                                          177.0   289548.0   \n",
       "Valverde del Camino                                     7.0    12750.0   \n",
       "Lepe                                                   15.0    27880.0   \n",
       "Huelva (capital)                                       56.0   143837.0   \n",
       "Zalamea la Real                                         1.0     3054.0   \n",
       "Niebla                                                  1.0     4116.0   \n",
       "Aljaraque                                               3.0    21474.0   \n",
       "Sierra de Huelva-Andévalo Central                       9.0    67391.0   \n",
       "\n",
       "Medida                                  tasa7      tasa14  Diferencia PDIA  \n",
       "Lugar de residencia                                                         \n",
       "Puebla de Guzmán                   194.049159  485.122898              0.0  \n",
       "San Bartolomé de la Torre          186.120713  398.830098              0.0  \n",
       "Villalba del Alcor                 267.379679  326.797386              0.0  \n",
       "Corteconcepción                    186.567164  186.567164              0.0  \n",
       "Alosno                             152.555301  177.981185              3.0  \n",
       "Ayamonte                            47.384382  151.630023              1.0  \n",
       "Almonte                            110.172604  150.977272              9.0  \n",
       "Villarrasa                         135.685210  135.685210              0.0  \n",
       "Rociana del Condado                 88.172314  125.960448              0.0  \n",
       "Bollullos Par del Condado           76.457913  125.112949              1.0  \n",
       "Cartaya                             74.690036  114.524722              2.0  \n",
       "Condado-Campiña                     65.928017  103.052531             15.0  \n",
       "Isla Cristina                       46.744262   98.162950              6.0  \n",
       "San Juan del Puerto                 21.251727   95.632770              0.0  \n",
       "Palma del Condado (La)              55.550412   92.584020              0.0  \n",
       "Moguer                              64.023414   91.462020              3.0  \n",
       "Palos de la Frontera                68.131494   85.164367              0.0  \n",
       "Gibraleón                           62.809139   78.511423              2.0  \n",
       "Huelva                              39.752908   68.203519             40.0  \n",
       "Huelva-Costa                        31.428295   61.129761             25.0  \n",
       "Valverde del Camino                 47.058824   54.901961             -1.0  \n",
       "Lepe                                28.694405   53.802009              2.0  \n",
       "Huelva (capital)                    22.942636   38.932959              9.0  \n",
       "Zalamea la Real                     32.743942   32.743942              0.0  \n",
       "Niebla                              24.295432   24.295432              0.0  \n",
       "Aljaraque                           13.970383   13.970383              2.0  \n",
       "Sierra de Huelva-Andévalo Central   11.871021   13.354899             -1.0  "
      ],
      "text/html": "<div>\n<style scoped>\n    .dataframe tbody tr th:only-of-type {\n        vertical-align: middle;\n    }\n\n    .dataframe tbody tr th {\n        vertical-align: top;\n    }\n\n    .dataframe thead th {\n        text-align: right;\n    }\n</style>\n<table border=\"1\" class=\"dataframe\">\n  <thead>\n    <tr style=\"text-align: right;\">\n      <th>Medida</th>\n      <th>Confirmados PDIA</th>\n      <th>Confirmados PDIA 7 días</th>\n      <th>Confirmados PDIA 14 días</th>\n      <th>Población</th>\n      <th>tasa7</th>\n      <th>tasa14</th>\n      <th>Diferencia PDIA</th>\n    </tr>\n    <tr>\n      <th>Lugar de residencia</th>\n      <th></th>\n      <th></th>\n      <th></th>\n      <th></th>\n      <th></th>\n      <th></th>\n      <th></th>\n    </tr>\n  </thead>\n  <tbody>\n    <tr>\n      <th>Puebla de Guzmán</th>\n      <td>108.0</td>\n      <td>6.0</td>\n      <td>15.0</td>\n      <td>3092.0</td>\n      <td>194.049159</td>\n      <td>485.122898</td>\n      <td>0.0</td>\n    </tr>\n    <tr>\n      <th>San Bartolomé de la Torre</th>\n      <td>210.0</td>\n      <td>7.0</td>\n      <td>15.0</td>\n      <td>3761.0</td>\n      <td>186.120713</td>\n      <td>398.830098</td>\n      <td>0.0</td>\n    </tr>\n    <tr>\n      <th>Villalba del Alcor</th>\n      <td>456.0</td>\n      <td>9.0</td>\n      <td>11.0</td>\n      <td>3366.0</td>\n      <td>267.379679</td>\n      <td>326.797386</td>\n      <td>0.0</td>\n    </tr>\n    <tr>\n      <th>Corteconcepción</th>\n      <td>24.0</td>\n      <td>1.0</td>\n      <td>1.0</td>\n      <td>536.0</td>\n      <td>186.567164</td>\n      <td>186.567164</td>\n      <td>0.0</td>\n    </tr>\n    <tr>\n      <th>Alosno</th>\n      <td>128.0</td>\n      <td>6.0</td>\n      <td>7.0</td>\n      <td>3933.0</td>\n      <td>152.555301</td>\n      <td>177.981185</td>\n      <td>3.0</td>\n    </tr>\n    <tr>\n      <th>Ayamonte</th>\n      <td>1232.0</td>\n      <td>10.0</td>\n      <td>32.0</td>\n      <td>21104.0</td>\n      <td>47.384382</td>\n      <td>151.630023</td>\n      <td>1.0</td>\n    </tr>\n    <tr>\n      <th>Almonte</th>\n      <td>905.0</td>\n      <td>27.0</td>\n      <td>37.0</td>\n      <td>24507.0</td>\n      <td>110.172604</td>\n      <td>150.977272</td>\n      <td>9.0</td>\n    </tr>\n    <tr>\n      <th>Villarrasa</th>\n      <td>132.0</td>\n      <td>3.0</td>\n      <td>3.0</td>\n      <td>2211.0</td>\n      <td>135.685210</td>\n      <td>135.685210</td>\n      <td>0.0</td>\n    </tr>\n    <tr>\n      <th>Rociana del Condado</th>\n      <td>320.0</td>\n      <td>7.0</td>\n      <td>10.0</td>\n      <td>7939.0</td>\n      <td>88.172314</td>\n      <td>125.960448</td>\n      <td>0.0</td>\n    </tr>\n    <tr>\n      <th>Bollullos Par del Condado</th>\n      <td>632.0</td>\n      <td>11.0</td>\n      <td>18.0</td>\n      <td>14387.0</td>\n      <td>76.457913</td>\n      <td>125.112949</td>\n      <td>1.0</td>\n    </tr>\n    <tr>\n      <th>Cartaya</th>\n      <td>974.0</td>\n      <td>15.0</td>\n      <td>23.0</td>\n      <td>20083.0</td>\n      <td>74.690036</td>\n      <td>114.524722</td>\n      <td>2.0</td>\n    </tr>\n    <tr>\n      <th>Condado-Campiña</th>\n      <td>7063.0</td>\n      <td>103.0</td>\n      <td>161.0</td>\n      <td>156231.0</td>\n      <td>65.928017</td>\n      <td>103.052531</td>\n      <td>15.0</td>\n    </tr>\n    <tr>\n      <th>Isla Cristina</th>\n      <td>2004.0</td>\n      <td>10.0</td>\n      <td>21.0</td>\n      <td>21393.0</td>\n      <td>46.744262</td>\n      <td>98.162950</td>\n      <td>6.0</td>\n    </tr>\n    <tr>\n      <th>San Juan del Puerto</th>\n      <td>367.0</td>\n      <td>2.0</td>\n      <td>9.0</td>\n      <td>9411.0</td>\n      <td>21.251727</td>\n      <td>95.632770</td>\n      <td>0.0</td>\n    </tr>\n    <tr>\n      <th>Palma del Condado (La)</th>\n      <td>988.0</td>\n      <td>6.0</td>\n      <td>10.0</td>\n      <td>10801.0</td>\n      <td>55.550412</td>\n      <td>92.584020</td>\n      <td>0.0</td>\n    </tr>\n    <tr>\n      <th>Moguer</th>\n      <td>849.0</td>\n      <td>14.0</td>\n      <td>20.0</td>\n      <td>21867.0</td>\n      <td>64.023414</td>\n      <td>91.462020</td>\n      <td>3.0</td>\n    </tr>\n    <tr>\n      <th>Palos de la Frontera</th>\n      <td>460.0</td>\n      <td>8.0</td>\n      <td>10.0</td>\n      <td>11742.0</td>\n      <td>68.131494</td>\n      <td>85.164367</td>\n      <td>0.0</td>\n    </tr>\n    <tr>\n      <th>Gibraleón</th>\n      <td>521.0</td>\n      <td>8.0</td>\n      <td>10.0</td>\n      <td>12737.0</td>\n      <td>62.809139</td>\n      <td>78.511423</td>\n      <td>2.0</td>\n    </tr>\n    <tr>\n      <th>Huelva</th>\n      <td>24999.0</td>\n      <td>204.0</td>\n      <td>350.0</td>\n      <td>513170.0</td>\n      <td>39.752908</td>\n      <td>68.203519</td>\n      <td>40.0</td>\n    </tr>\n    <tr>\n      <th>Huelva-Costa</th>\n      <td>15214.0</td>\n      <td>91.0</td>\n      <td>177.0</td>\n      <td>289548.0</td>\n      <td>31.428295</td>\n      <td>61.129761</td>\n      <td>25.0</td>\n    </tr>\n    <tr>\n      <th>Valverde del Camino</th>\n      <td>423.0</td>\n      <td>6.0</td>\n      <td>7.0</td>\n      <td>12750.0</td>\n      <td>47.058824</td>\n      <td>54.901961</td>\n      <td>-1.0</td>\n    </tr>\n    <tr>\n      <th>Lepe</th>\n      <td>2008.0</td>\n      <td>8.0</td>\n      <td>15.0</td>\n      <td>27880.0</td>\n      <td>28.694405</td>\n      <td>53.802009</td>\n      <td>2.0</td>\n    </tr>\n    <tr>\n      <th>Huelva (capital)</th>\n      <td>6623.0</td>\n      <td>33.0</td>\n      <td>56.0</td>\n      <td>143837.0</td>\n      <td>22.942636</td>\n      <td>38.932959</td>\n      <td>9.0</td>\n    </tr>\n    <tr>\n      <th>Zalamea la Real</th>\n      <td>85.0</td>\n      <td>1.0</td>\n      <td>1.0</td>\n      <td>3054.0</td>\n      <td>32.743942</td>\n      <td>32.743942</td>\n      <td>0.0</td>\n    </tr>\n    <tr>\n      <th>Niebla</th>\n      <td>158.0</td>\n      <td>1.0</td>\n      <td>1.0</td>\n      <td>4116.0</td>\n      <td>24.295432</td>\n      <td>24.295432</td>\n      <td>0.0</td>\n    </tr>\n    <tr>\n      <th>Aljaraque</th>\n      <td>928.0</td>\n      <td>3.0</td>\n      <td>3.0</td>\n      <td>21474.0</td>\n      <td>13.970383</td>\n      <td>13.970383</td>\n      <td>2.0</td>\n    </tr>\n    <tr>\n      <th>Sierra de Huelva-Andévalo Central</th>\n      <td>2308.0</td>\n      <td>8.0</td>\n      <td>9.0</td>\n      <td>67391.0</td>\n      <td>11.871021</td>\n      <td>13.354899</td>\n      <td>-1.0</td>\n    </tr>\n  </tbody>\n</table>\n</div>"
     },
     "metadata": {},
     "execution_count": 17
    }
   ],
   "source": [
    "tabla.sort_values('tasa14', ascending=False)"
   ]
  },
  {
   "cell_type": "code",
   "execution_count": 18,
   "metadata": {},
   "outputs": [
    {
     "output_type": "execute_result",
     "data": {
      "text/plain": [
       "Medida                             Confirmados PDIA  Confirmados PDIA 7 días  \\\n",
       "Lugar de residencia                                                            \n",
       "San Juan del Puerto                           367.0                      2.0   \n",
       "Ayamonte                                     1232.0                     10.0   \n",
       "Puebla de Guzmán                              108.0                      6.0   \n",
       "San Bartolomé de la Torre                     210.0                      7.0   \n",
       "Isla Cristina                                2004.0                     10.0   \n",
       "Huelva-Costa                                15214.0                     91.0   \n",
       "Lepe                                         2008.0                      8.0   \n",
       "Huelva                                      24999.0                    204.0   \n",
       "Huelva (capital)                             6623.0                     33.0   \n",
       "Palma del Condado (La)                        988.0                      6.0   \n",
       "Bollullos Par del Condado                     632.0                     11.0   \n",
       "Condado-Campiña                              7063.0                    103.0   \n",
       "Cartaya                                       974.0                     15.0   \n",
       "Moguer                                        849.0                     14.0   \n",
       "Rociana del Condado                           320.0                      7.0   \n",
       "Almonte                                       905.0                     27.0   \n",
       "Palos de la Frontera                          460.0                      8.0   \n",
       "Gibraleón                                     521.0                      8.0   \n",
       "Villalba del Alcor                            456.0                      9.0   \n",
       "Alosno                                        128.0                      6.0   \n",
       "Valverde del Camino                           423.0                      6.0   \n",
       "Sierra de Huelva-Andévalo Central            2308.0                      8.0   \n",
       "Aljaraque                                     928.0                      3.0   \n",
       "Villarrasa                                    132.0                      3.0   \n",
       "Corteconcepción                                24.0                      1.0   \n",
       "Niebla                                        158.0                      1.0   \n",
       "Zalamea la Real                                85.0                      1.0   \n",
       "\n",
       "Medida                             Confirmados PDIA 14 días  Población  \\\n",
       "Lugar de residencia                                                      \n",
       "San Juan del Puerto                                     9.0     9411.0   \n",
       "Ayamonte                                               32.0    21104.0   \n",
       "Puebla de Guzmán                                       15.0     3092.0   \n",
       "San Bartolomé de la Torre                              15.0     3761.0   \n",
       "Isla Cristina                                          21.0    21393.0   \n",
       "Huelva-Costa                                          177.0   289548.0   \n",
       "Lepe                                                   15.0    27880.0   \n",
       "Huelva                                                350.0   513170.0   \n",
       "Huelva (capital)                                       56.0   143837.0   \n",
       "Palma del Condado (La)                                 10.0    10801.0   \n",
       "Bollullos Par del Condado                              18.0    14387.0   \n",
       "Condado-Campiña                                       161.0   156231.0   \n",
       "Cartaya                                                23.0    20083.0   \n",
       "Moguer                                                 20.0    21867.0   \n",
       "Rociana del Condado                                    10.0     7939.0   \n",
       "Almonte                                                37.0    24507.0   \n",
       "Palos de la Frontera                                   10.0    11742.0   \n",
       "Gibraleón                                              10.0    12737.0   \n",
       "Villalba del Alcor                                     11.0     3366.0   \n",
       "Alosno                                                  7.0     3933.0   \n",
       "Valverde del Camino                                     7.0    12750.0   \n",
       "Sierra de Huelva-Andévalo Central                       9.0    67391.0   \n",
       "Aljaraque                                               3.0    21474.0   \n",
       "Villarrasa                                              3.0     2211.0   \n",
       "Corteconcepción                                         1.0      536.0   \n",
       "Niebla                                                  1.0     4116.0   \n",
       "Zalamea la Real                                         1.0     3054.0   \n",
       "\n",
       "Medida                                  tasa7      tasa14  Diferencia PDIA  \\\n",
       "Lugar de residencia                                                          \n",
       "San Juan del Puerto                 21.251727   95.632770              0.0   \n",
       "Ayamonte                            47.384382  151.630023              1.0   \n",
       "Puebla de Guzmán                   194.049159  485.122898              0.0   \n",
       "San Bartolomé de la Torre          186.120713  398.830098              0.0   \n",
       "Isla Cristina                       46.744262   98.162950              6.0   \n",
       "Huelva-Costa                        31.428295   61.129761             25.0   \n",
       "Lepe                                28.694405   53.802009              2.0   \n",
       "Huelva                              39.752908   68.203519             40.0   \n",
       "Huelva (capital)                    22.942636   38.932959              9.0   \n",
       "Palma del Condado (La)              55.550412   92.584020              0.0   \n",
       "Bollullos Par del Condado           76.457913  125.112949              1.0   \n",
       "Condado-Campiña                     65.928017  103.052531             15.0   \n",
       "Cartaya                             74.690036  114.524722              2.0   \n",
       "Moguer                              64.023414   91.462020              3.0   \n",
       "Rociana del Condado                 88.172314  125.960448              0.0   \n",
       "Almonte                            110.172604  150.977272              9.0   \n",
       "Palos de la Frontera                68.131494   85.164367              0.0   \n",
       "Gibraleón                           62.809139   78.511423              2.0   \n",
       "Villalba del Alcor                 267.379679  326.797386              0.0   \n",
       "Alosno                             152.555301  177.981185              3.0   \n",
       "Valverde del Camino                 47.058824   54.901961             -1.0   \n",
       "Sierra de Huelva-Andévalo Central   11.871021   13.354899             -1.0   \n",
       "Aljaraque                           13.970383   13.970383              2.0   \n",
       "Villarrasa                         135.685210  135.685210              0.0   \n",
       "Corteconcepción                    186.567164  186.567164              0.0   \n",
       "Niebla                              24.295432   24.295432              0.0   \n",
       "Zalamea la Real                     32.743942   32.743942              0.0   \n",
       "\n",
       "Medida                                 7/14  \n",
       "Lugar de residencia                          \n",
       "San Juan del Puerto                0.222222  \n",
       "Ayamonte                           0.312500  \n",
       "Puebla de Guzmán                   0.400000  \n",
       "San Bartolomé de la Torre          0.466667  \n",
       "Isla Cristina                      0.476190  \n",
       "Huelva-Costa                       0.514124  \n",
       "Lepe                               0.533333  \n",
       "Huelva                             0.582857  \n",
       "Huelva (capital)                   0.589286  \n",
       "Palma del Condado (La)             0.600000  \n",
       "Bollullos Par del Condado          0.611111  \n",
       "Condado-Campiña                    0.639752  \n",
       "Cartaya                            0.652174  \n",
       "Moguer                             0.700000  \n",
       "Rociana del Condado                0.700000  \n",
       "Almonte                            0.729730  \n",
       "Palos de la Frontera               0.800000  \n",
       "Gibraleón                          0.800000  \n",
       "Villalba del Alcor                 0.818182  \n",
       "Alosno                             0.857143  \n",
       "Valverde del Camino                0.857143  \n",
       "Sierra de Huelva-Andévalo Central  0.888889  \n",
       "Aljaraque                          1.000000  \n",
       "Villarrasa                         1.000000  \n",
       "Corteconcepción                    1.000000  \n",
       "Niebla                             1.000000  \n",
       "Zalamea la Real                    1.000000  "
      ],
      "text/html": "<div>\n<style scoped>\n    .dataframe tbody tr th:only-of-type {\n        vertical-align: middle;\n    }\n\n    .dataframe tbody tr th {\n        vertical-align: top;\n    }\n\n    .dataframe thead th {\n        text-align: right;\n    }\n</style>\n<table border=\"1\" class=\"dataframe\">\n  <thead>\n    <tr style=\"text-align: right;\">\n      <th>Medida</th>\n      <th>Confirmados PDIA</th>\n      <th>Confirmados PDIA 7 días</th>\n      <th>Confirmados PDIA 14 días</th>\n      <th>Población</th>\n      <th>tasa7</th>\n      <th>tasa14</th>\n      <th>Diferencia PDIA</th>\n      <th>7/14</th>\n    </tr>\n    <tr>\n      <th>Lugar de residencia</th>\n      <th></th>\n      <th></th>\n      <th></th>\n      <th></th>\n      <th></th>\n      <th></th>\n      <th></th>\n      <th></th>\n    </tr>\n  </thead>\n  <tbody>\n    <tr>\n      <th>San Juan del Puerto</th>\n      <td>367.0</td>\n      <td>2.0</td>\n      <td>9.0</td>\n      <td>9411.0</td>\n      <td>21.251727</td>\n      <td>95.632770</td>\n      <td>0.0</td>\n      <td>0.222222</td>\n    </tr>\n    <tr>\n      <th>Ayamonte</th>\n      <td>1232.0</td>\n      <td>10.0</td>\n      <td>32.0</td>\n      <td>21104.0</td>\n      <td>47.384382</td>\n      <td>151.630023</td>\n      <td>1.0</td>\n      <td>0.312500</td>\n    </tr>\n    <tr>\n      <th>Puebla de Guzmán</th>\n      <td>108.0</td>\n      <td>6.0</td>\n      <td>15.0</td>\n      <td>3092.0</td>\n      <td>194.049159</td>\n      <td>485.122898</td>\n      <td>0.0</td>\n      <td>0.400000</td>\n    </tr>\n    <tr>\n      <th>San Bartolomé de la Torre</th>\n      <td>210.0</td>\n      <td>7.0</td>\n      <td>15.0</td>\n      <td>3761.0</td>\n      <td>186.120713</td>\n      <td>398.830098</td>\n      <td>0.0</td>\n      <td>0.466667</td>\n    </tr>\n    <tr>\n      <th>Isla Cristina</th>\n      <td>2004.0</td>\n      <td>10.0</td>\n      <td>21.0</td>\n      <td>21393.0</td>\n      <td>46.744262</td>\n      <td>98.162950</td>\n      <td>6.0</td>\n      <td>0.476190</td>\n    </tr>\n    <tr>\n      <th>Huelva-Costa</th>\n      <td>15214.0</td>\n      <td>91.0</td>\n      <td>177.0</td>\n      <td>289548.0</td>\n      <td>31.428295</td>\n      <td>61.129761</td>\n      <td>25.0</td>\n      <td>0.514124</td>\n    </tr>\n    <tr>\n      <th>Lepe</th>\n      <td>2008.0</td>\n      <td>8.0</td>\n      <td>15.0</td>\n      <td>27880.0</td>\n      <td>28.694405</td>\n      <td>53.802009</td>\n      <td>2.0</td>\n      <td>0.533333</td>\n    </tr>\n    <tr>\n      <th>Huelva</th>\n      <td>24999.0</td>\n      <td>204.0</td>\n      <td>350.0</td>\n      <td>513170.0</td>\n      <td>39.752908</td>\n      <td>68.203519</td>\n      <td>40.0</td>\n      <td>0.582857</td>\n    </tr>\n    <tr>\n      <th>Huelva (capital)</th>\n      <td>6623.0</td>\n      <td>33.0</td>\n      <td>56.0</td>\n      <td>143837.0</td>\n      <td>22.942636</td>\n      <td>38.932959</td>\n      <td>9.0</td>\n      <td>0.589286</td>\n    </tr>\n    <tr>\n      <th>Palma del Condado (La)</th>\n      <td>988.0</td>\n      <td>6.0</td>\n      <td>10.0</td>\n      <td>10801.0</td>\n      <td>55.550412</td>\n      <td>92.584020</td>\n      <td>0.0</td>\n      <td>0.600000</td>\n    </tr>\n    <tr>\n      <th>Bollullos Par del Condado</th>\n      <td>632.0</td>\n      <td>11.0</td>\n      <td>18.0</td>\n      <td>14387.0</td>\n      <td>76.457913</td>\n      <td>125.112949</td>\n      <td>1.0</td>\n      <td>0.611111</td>\n    </tr>\n    <tr>\n      <th>Condado-Campiña</th>\n      <td>7063.0</td>\n      <td>103.0</td>\n      <td>161.0</td>\n      <td>156231.0</td>\n      <td>65.928017</td>\n      <td>103.052531</td>\n      <td>15.0</td>\n      <td>0.639752</td>\n    </tr>\n    <tr>\n      <th>Cartaya</th>\n      <td>974.0</td>\n      <td>15.0</td>\n      <td>23.0</td>\n      <td>20083.0</td>\n      <td>74.690036</td>\n      <td>114.524722</td>\n      <td>2.0</td>\n      <td>0.652174</td>\n    </tr>\n    <tr>\n      <th>Moguer</th>\n      <td>849.0</td>\n      <td>14.0</td>\n      <td>20.0</td>\n      <td>21867.0</td>\n      <td>64.023414</td>\n      <td>91.462020</td>\n      <td>3.0</td>\n      <td>0.700000</td>\n    </tr>\n    <tr>\n      <th>Rociana del Condado</th>\n      <td>320.0</td>\n      <td>7.0</td>\n      <td>10.0</td>\n      <td>7939.0</td>\n      <td>88.172314</td>\n      <td>125.960448</td>\n      <td>0.0</td>\n      <td>0.700000</td>\n    </tr>\n    <tr>\n      <th>Almonte</th>\n      <td>905.0</td>\n      <td>27.0</td>\n      <td>37.0</td>\n      <td>24507.0</td>\n      <td>110.172604</td>\n      <td>150.977272</td>\n      <td>9.0</td>\n      <td>0.729730</td>\n    </tr>\n    <tr>\n      <th>Palos de la Frontera</th>\n      <td>460.0</td>\n      <td>8.0</td>\n      <td>10.0</td>\n      <td>11742.0</td>\n      <td>68.131494</td>\n      <td>85.164367</td>\n      <td>0.0</td>\n      <td>0.800000</td>\n    </tr>\n    <tr>\n      <th>Gibraleón</th>\n      <td>521.0</td>\n      <td>8.0</td>\n      <td>10.0</td>\n      <td>12737.0</td>\n      <td>62.809139</td>\n      <td>78.511423</td>\n      <td>2.0</td>\n      <td>0.800000</td>\n    </tr>\n    <tr>\n      <th>Villalba del Alcor</th>\n      <td>456.0</td>\n      <td>9.0</td>\n      <td>11.0</td>\n      <td>3366.0</td>\n      <td>267.379679</td>\n      <td>326.797386</td>\n      <td>0.0</td>\n      <td>0.818182</td>\n    </tr>\n    <tr>\n      <th>Alosno</th>\n      <td>128.0</td>\n      <td>6.0</td>\n      <td>7.0</td>\n      <td>3933.0</td>\n      <td>152.555301</td>\n      <td>177.981185</td>\n      <td>3.0</td>\n      <td>0.857143</td>\n    </tr>\n    <tr>\n      <th>Valverde del Camino</th>\n      <td>423.0</td>\n      <td>6.0</td>\n      <td>7.0</td>\n      <td>12750.0</td>\n      <td>47.058824</td>\n      <td>54.901961</td>\n      <td>-1.0</td>\n      <td>0.857143</td>\n    </tr>\n    <tr>\n      <th>Sierra de Huelva-Andévalo Central</th>\n      <td>2308.0</td>\n      <td>8.0</td>\n      <td>9.0</td>\n      <td>67391.0</td>\n      <td>11.871021</td>\n      <td>13.354899</td>\n      <td>-1.0</td>\n      <td>0.888889</td>\n    </tr>\n    <tr>\n      <th>Aljaraque</th>\n      <td>928.0</td>\n      <td>3.0</td>\n      <td>3.0</td>\n      <td>21474.0</td>\n      <td>13.970383</td>\n      <td>13.970383</td>\n      <td>2.0</td>\n      <td>1.000000</td>\n    </tr>\n    <tr>\n      <th>Villarrasa</th>\n      <td>132.0</td>\n      <td>3.0</td>\n      <td>3.0</td>\n      <td>2211.0</td>\n      <td>135.685210</td>\n      <td>135.685210</td>\n      <td>0.0</td>\n      <td>1.000000</td>\n    </tr>\n    <tr>\n      <th>Corteconcepción</th>\n      <td>24.0</td>\n      <td>1.0</td>\n      <td>1.0</td>\n      <td>536.0</td>\n      <td>186.567164</td>\n      <td>186.567164</td>\n      <td>0.0</td>\n      <td>1.000000</td>\n    </tr>\n    <tr>\n      <th>Niebla</th>\n      <td>158.0</td>\n      <td>1.0</td>\n      <td>1.0</td>\n      <td>4116.0</td>\n      <td>24.295432</td>\n      <td>24.295432</td>\n      <td>0.0</td>\n      <td>1.000000</td>\n    </tr>\n    <tr>\n      <th>Zalamea la Real</th>\n      <td>85.0</td>\n      <td>1.0</td>\n      <td>1.0</td>\n      <td>3054.0</td>\n      <td>32.743942</td>\n      <td>32.743942</td>\n      <td>0.0</td>\n      <td>1.000000</td>\n    </tr>\n  </tbody>\n</table>\n</div>"
     },
     "metadata": {},
     "execution_count": 18
    }
   ],
   "source": [
    "# Peso de la tasa de la última semana en relación con la tasa a 14 días \n",
    "# Mejor cuanto menor. Valor 1 significa que no había casos antes de 7 días.\n",
    "tabla['7/14'] = tabla['tasa7'] / tabla['tasa14']\n",
    "tabla.fillna(0).sort_values('7/14', ascending=True)"
   ]
  },
  {
   "cell_type": "code",
   "execution_count": null,
   "metadata": {},
   "outputs": [],
   "source": []
  }
 ]
}