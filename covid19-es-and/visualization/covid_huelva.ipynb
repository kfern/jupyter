{
 "metadata": {
  "language_info": {
   "codemirror_mode": {
    "name": "ipython",
    "version": 3
   },
   "file_extension": ".py",
   "mimetype": "text/x-python",
   "name": "python",
   "nbconvert_exporter": "python",
   "pygments_lexer": "ipython3",
   "version": "3.8.6-final"
  },
  "orig_nbformat": 2,
  "kernelspec": {
   "name": "python38564bit75945252d6ba481bad4868286020c89e",
   "display_name": "Python 3.8.5 64-bit",
   "language": "python"
  }
 },
 "nbformat": 4,
 "nbformat_minor": 2,
 "cells": [
  {
   "cell_type": "code",
   "execution_count": 1,
   "metadata": {},
   "outputs": [],
   "source": [
    "import pandas as pd\n",
    "pd.set_option('display.max_rows', None) # Print all rows"
   ]
  },
  {
   "cell_type": "code",
   "execution_count": 2,
   "metadata": {},
   "outputs": [],
   "source": [
    "# FIX SSL: CERTIFICATE_VERIFY_FAILED with Python3\n",
    "# https://stackoverflow.com/a/49174340\n",
    "import ssl\n",
    "\n",
    "ssl._create_default_https_context = ssl._create_unverified_context"
   ]
  },
  {
   "cell_type": "code",
   "execution_count": 3,
   "metadata": {},
   "outputs": [],
   "source": [
    "url = 'https://www.juntadeandalucia.es/institutodeestadisticaycartografia/badea/stpivot/stpivot/Print?cube=013d884c-cfc5-4c21-9e78-e26225682afd&type=3&foto=si&ejecutaDesde=&codConsulta=38668&consTipoVisua=JP'\n",
    "fields = ['Lugar de residencia', 'Medida', 'Valor']\n",
    "df = pd.read_csv(url, delimiter=';', usecols=fields, decimal=',')"
   ]
  },
  {
   "cell_type": "code",
   "execution_count": 4,
   "metadata": {},
   "outputs": [
    {
     "output_type": "execute_result",
     "data": {
      "text/plain": [
       "  Lugar de residencia                    Medida               Valor\n",
       "0              Huelva                 Población              513170\n",
       "1              Huelva          Confirmados PDIA               24663\n",
       "2              Huelva  Confirmados PDIA 14 días                 249\n",
       "3              Huelva         Tasa PDIA 14 días  48,521932303135415\n",
       "4              Huelva   Confirmados PDIA 7 días                 116\n",
       "5              Huelva        Total Confirmados                24883\n",
       "6              Huelva                   Curados               16963\n",
       "7              Huelva                Fallecidos                 308"
      ],
      "text/html": "<div>\n<style scoped>\n    .dataframe tbody tr th:only-of-type {\n        vertical-align: middle;\n    }\n\n    .dataframe tbody tr th {\n        vertical-align: top;\n    }\n\n    .dataframe thead th {\n        text-align: right;\n    }\n</style>\n<table border=\"1\" class=\"dataframe\">\n  <thead>\n    <tr style=\"text-align: right;\">\n      <th></th>\n      <th>Lugar de residencia</th>\n      <th>Medida</th>\n      <th>Valor</th>\n    </tr>\n  </thead>\n  <tbody>\n    <tr>\n      <th>0</th>\n      <td>Huelva</td>\n      <td>Población</td>\n      <td>513170</td>\n    </tr>\n    <tr>\n      <th>1</th>\n      <td>Huelva</td>\n      <td>Confirmados PDIA</td>\n      <td>24663</td>\n    </tr>\n    <tr>\n      <th>2</th>\n      <td>Huelva</td>\n      <td>Confirmados PDIA 14 días</td>\n      <td>249</td>\n    </tr>\n    <tr>\n      <th>3</th>\n      <td>Huelva</td>\n      <td>Tasa PDIA 14 días</td>\n      <td>48,521932303135415</td>\n    </tr>\n    <tr>\n      <th>4</th>\n      <td>Huelva</td>\n      <td>Confirmados PDIA 7 días</td>\n      <td>116</td>\n    </tr>\n    <tr>\n      <th>5</th>\n      <td>Huelva</td>\n      <td>Total Confirmados</td>\n      <td>24883</td>\n    </tr>\n    <tr>\n      <th>6</th>\n      <td>Huelva</td>\n      <td>Curados</td>\n      <td>16963</td>\n    </tr>\n    <tr>\n      <th>7</th>\n      <td>Huelva</td>\n      <td>Fallecidos</td>\n      <td>308</td>\n    </tr>\n  </tbody>\n</table>\n</div>"
     },
     "metadata": {},
     "execution_count": 4
    }
   ],
   "source": [
    "df[df['Lugar de residencia'] == 'Huelva']"
   ]
  },
  {
   "cell_type": "code",
   "execution_count": 5,
   "metadata": {},
   "outputs": [],
   "source": [
    "df['Valor'] = pd.to_numeric(df['Valor'],errors='coerce')"
   ]
  },
  {
   "cell_type": "code",
   "execution_count": 6,
   "metadata": {},
   "outputs": [],
   "source": [
    "dfAnterior = pd.read_csv('covid_huelva.csv', index_col='Lugar de residencia')"
   ]
  },
  {
   "cell_type": "code",
   "execution_count": 7,
   "metadata": {
    "tags": []
   },
   "outputs": [
    {
     "output_type": "stream",
     "name": "stdout",
     "text": [
      "Confirmados PCR en la provincia de Huelva:  24663.0\n",
      "<ipython-input-7-31b732756b19>:2: UserWarning: Boolean Series key will be reindexed to match DataFrame index.\n",
      "  p = df[df['Lugar de residencia'] == 'Huelva'][df['Medida'] == 'Confirmados PDIA']['Valor'].values[0]\n"
     ]
    }
   ],
   "source": [
    "# Confirmados PCR provincia Huelva\n",
    "p = df[df['Lugar de residencia'] == 'Huelva'][df['Medida'] == 'Confirmados PDIA']['Valor'].values[0]\n",
    "print('Confirmados PCR en la provincia de Huelva: ', p)"
   ]
  },
  {
   "cell_type": "code",
   "execution_count": 8,
   "metadata": {
    "tags": []
   },
   "outputs": [
    {
     "output_type": "stream",
     "name": "stdout",
     "text": [
      "Confirmados PCR en Huelva capital:  6563.0\n",
      "<ipython-input-8-e81bfb40e710>:2: UserWarning: Boolean Series key will be reindexed to match DataFrame index.\n",
      "  c = df[df['Lugar de residencia'] == 'Huelva (capital)'][df['Medida'] == 'Confirmados PDIA']['Valor'].values[0]\n"
     ]
    }
   ],
   "source": [
    "# Confirmados PCR Huelva capitalpd\n",
    "c = df[df['Lugar de residencia'] == 'Huelva (capital)'][df['Medida'] == 'Confirmados PDIA']['Valor'].values[0]\n",
    "print('Confirmados PCR en Huelva capital: ', c)"
   ]
  },
  {
   "cell_type": "code",
   "execution_count": 9,
   "metadata": {
    "tags": []
   },
   "outputs": [
    {
     "output_type": "stream",
     "name": "stderr",
     "text": [
      "<ipython-input-9-f09dd2050cc1>:1: UserWarning: Boolean Series key will be reindexed to match DataFrame index.\n  c7 = df[df['Lugar de residencia'] == 'Huelva (capital)'][df['Medida'] == 'Confirmados PDIA 7 días']['Valor'].values[0]\n<ipython-input-9-f09dd2050cc1>:2: UserWarning: Boolean Series key will be reindexed to match DataFrame index.\n  c14 = df[df['Lugar de residencia'] == 'Huelva (capital)'][df['Medida'] == 'Confirmados PDIA 14 días']['Valor'].values[0]\n<ipython-input-9-f09dd2050cc1>:3: UserWarning: Boolean Series key will be reindexed to match DataFrame index.\n  p = df[df['Lugar de residencia'] == 'Huelva (capital)'][df['Medida'] == 'Población']['Valor'].values[0]\n"
     ]
    }
   ],
   "source": [
    "c7 = df[df['Lugar de residencia'] == 'Huelva (capital)'][df['Medida'] == 'Confirmados PDIA 7 días']['Valor'].values[0]\n",
    "c14 = df[df['Lugar de residencia'] == 'Huelva (capital)'][df['Medida'] == 'Confirmados PDIA 14 días']['Valor'].values[0]\n",
    "p = df[df['Lugar de residencia'] == 'Huelva (capital)'][df['Medida'] == 'Población']['Valor'].values[0]"
   ]
  },
  {
   "cell_type": "code",
   "execution_count": 10,
   "metadata": {
    "tags": []
   },
   "outputs": [
    {
     "output_type": "stream",
     "name": "stdout",
     "text": [
      "Huelva (capital)\n\nUn positivo PCR cada 6849 personas en los últimos 7 días \n\nUn positivo PCR cada 2877 personas en los últimos 14 días\n"
     ]
    }
   ],
   "source": [
    "print('Huelva (capital)\\n')\n",
    "#print('Confirmados PCR 7 días x 1,000 habitantes: ', f\"{c7/(p/1000):.5f}\")\n",
    "print('Un positivo PCR cada', f\"{p/c7:.0f}\", 'personas en los últimos 7 días', '\\n')\n",
    "#print('Confirmados PCR 14 días x 1,000 habitantes: ', f\"{c14/(p/1000):.5f}\")\n",
    "print('Un positivo PCR cada', f\"{p/c14:.0f}\", 'personas en los últimos 14 días')"
   ]
  },
  {
   "cell_type": "code",
   "execution_count": 11,
   "metadata": {},
   "outputs": [],
   "source": [
    "filtro = ((df['Medida'] == 'Confirmados PDIA')| (df['Medida'] == 'Confirmados PDIA 7 días') | (df['Medida'] == 'Población' ) | (df['Medida'] == 'Confirmados PDIA 14 días')) & (df['Valor'] > 0)\n",
    "tabla = pd.pivot_table(df.loc[filtro], values='Valor', index='Lugar de residencia', columns='Medida').dropna()"
   ]
  },
  {
   "cell_type": "code",
   "execution_count": 12,
   "metadata": {},
   "outputs": [],
   "source": [
    "# Reorder columns\n",
    "tabla = tabla[['Confirmados PDIA', 'Confirmados PDIA 7 días', 'Confirmados PDIA 14 días', 'Población']]"
   ]
  },
  {
   "cell_type": "code",
   "execution_count": 13,
   "metadata": {},
   "outputs": [],
   "source": [
    "tabla['tasa7'] = tabla['Confirmados PDIA 7 días']/tabla['Población']*100000\n",
    "tabla['tasa14'] = tabla['Confirmados PDIA 14 días']/tabla['Población']*100000"
   ]
  },
  {
   "cell_type": "code",
   "execution_count": 14,
   "metadata": {},
   "outputs": [],
   "source": [
    "tabla['Diferencia PDIA'] = tabla['Confirmados PDIA'] - dfAnterior['Confirmados PDIA']"
   ]
  },
  {
   "cell_type": "code",
   "execution_count": 15,
   "metadata": {},
   "outputs": [
    {
     "output_type": "execute_result",
     "data": {
      "text/plain": [
       "Medida                             Confirmados PDIA  Confirmados PDIA 7 días  \\\n",
       "Lugar de residencia                                                            \n",
       "Huelva                                      24663.0                    116.0   \n",
       "Huelva-Costa                                15047.0                     74.0   \n",
       "Condado-Campiña                              6906.0                     40.0   \n",
       "Ayamonte                                     1205.0                     15.0   \n",
       "Huelva (capital)                             6563.0                     21.0   \n",
       "Isla Cristina                                1983.0                      6.0   \n",
       "San Bartolomé de la Torre                     199.0                      6.0   \n",
       "Cartaya                                       955.0                     12.0   \n",
       "Palma del Condado (La)                        977.0                      4.0   \n",
       "Rociana del Condado                           312.0                      2.0   \n",
       "Moguer                                        830.0                      3.0   \n",
       "Palos de la Frontera                          451.0                      2.0   \n",
       "Puebla de Guzmán                               95.0                     10.0   \n",
       "Sierra de Huelva-Andévalo Central            2297.0                      1.0   \n",
       "San Juan del Puerto                           359.0                      1.0   \n",
       "Villanueva de los Castillejos                 153.0                      1.0   \n",
       "\n",
       "Medida                             Confirmados PDIA 14 días  Población  \\\n",
       "Lugar de residencia                                                      \n",
       "Huelva                                                249.0   513170.0   \n",
       "Huelva-Costa                                          152.0   289548.0   \n",
       "Condado-Campiña                                        93.0   156231.0   \n",
       "Ayamonte                                               20.0    21104.0   \n",
       "Huelva (capital)                                       50.0   143837.0   \n",
       "Isla Cristina                                          10.0    21393.0   \n",
       "San Bartolomé de la Torre                               8.0     3761.0   \n",
       "Cartaya                                                28.0    20083.0   \n",
       "Palma del Condado (La)                                 12.0    10801.0   \n",
       "Rociana del Condado                                     4.0     7939.0   \n",
       "Moguer                                                 13.0    21867.0   \n",
       "Palos de la Frontera                                    4.0    11742.0   \n",
       "Puebla de Guzmán                                       15.0     3092.0   \n",
       "Sierra de Huelva-Andévalo Central                       2.0    67391.0   \n",
       "San Juan del Puerto                                     3.0     9411.0   \n",
       "Villanueva de los Castillejos                           1.0     2825.0   \n",
       "\n",
       "Medida                                  tasa7      tasa14  Diferencia PDIA  \n",
       "Lugar de residencia                                                         \n",
       "Huelva                              22.604595   48.521932             27.0  \n",
       "Huelva-Costa                        25.557075   52.495614             18.0  \n",
       "Condado-Campiña                     25.603113   59.527239             11.0  \n",
       "Ayamonte                            71.076573   94.768764              5.0  \n",
       "Huelva (capital)                    14.599860   34.761570              4.0  \n",
       "Isla Cristina                       28.046557   46.744262              4.0  \n",
       "San Bartolomé de la Torre          159.532039  212.709386              4.0  \n",
       "Cartaya                             59.752029  139.421401              3.0  \n",
       "Palma del Condado (La)              37.033608  111.100824              2.0  \n",
       "Rociana del Condado                 25.192090   50.384179              2.0  \n",
       "Moguer                              13.719303   59.450313              1.0  \n",
       "Palos de la Frontera                17.032873   34.065747              1.0  \n",
       "Puebla de Guzmán                   323.415265  485.122898              1.0  \n",
       "Sierra de Huelva-Andévalo Central    1.483878    2.967755             -2.0  \n",
       "San Juan del Puerto                 10.625863   31.877590              NaN  \n",
       "Villanueva de los Castillejos       35.398230   35.398230              NaN  "
      ],
      "text/html": "<div>\n<style scoped>\n    .dataframe tbody tr th:only-of-type {\n        vertical-align: middle;\n    }\n\n    .dataframe tbody tr th {\n        vertical-align: top;\n    }\n\n    .dataframe thead th {\n        text-align: right;\n    }\n</style>\n<table border=\"1\" class=\"dataframe\">\n  <thead>\n    <tr style=\"text-align: right;\">\n      <th>Medida</th>\n      <th>Confirmados PDIA</th>\n      <th>Confirmados PDIA 7 días</th>\n      <th>Confirmados PDIA 14 días</th>\n      <th>Población</th>\n      <th>tasa7</th>\n      <th>tasa14</th>\n      <th>Diferencia PDIA</th>\n    </tr>\n    <tr>\n      <th>Lugar de residencia</th>\n      <th></th>\n      <th></th>\n      <th></th>\n      <th></th>\n      <th></th>\n      <th></th>\n      <th></th>\n    </tr>\n  </thead>\n  <tbody>\n    <tr>\n      <th>Huelva</th>\n      <td>24663.0</td>\n      <td>116.0</td>\n      <td>249.0</td>\n      <td>513170.0</td>\n      <td>22.604595</td>\n      <td>48.521932</td>\n      <td>27.0</td>\n    </tr>\n    <tr>\n      <th>Huelva-Costa</th>\n      <td>15047.0</td>\n      <td>74.0</td>\n      <td>152.0</td>\n      <td>289548.0</td>\n      <td>25.557075</td>\n      <td>52.495614</td>\n      <td>18.0</td>\n    </tr>\n    <tr>\n      <th>Condado-Campiña</th>\n      <td>6906.0</td>\n      <td>40.0</td>\n      <td>93.0</td>\n      <td>156231.0</td>\n      <td>25.603113</td>\n      <td>59.527239</td>\n      <td>11.0</td>\n    </tr>\n    <tr>\n      <th>Ayamonte</th>\n      <td>1205.0</td>\n      <td>15.0</td>\n      <td>20.0</td>\n      <td>21104.0</td>\n      <td>71.076573</td>\n      <td>94.768764</td>\n      <td>5.0</td>\n    </tr>\n    <tr>\n      <th>Huelva (capital)</th>\n      <td>6563.0</td>\n      <td>21.0</td>\n      <td>50.0</td>\n      <td>143837.0</td>\n      <td>14.599860</td>\n      <td>34.761570</td>\n      <td>4.0</td>\n    </tr>\n    <tr>\n      <th>Isla Cristina</th>\n      <td>1983.0</td>\n      <td>6.0</td>\n      <td>10.0</td>\n      <td>21393.0</td>\n      <td>28.046557</td>\n      <td>46.744262</td>\n      <td>4.0</td>\n    </tr>\n    <tr>\n      <th>San Bartolomé de la Torre</th>\n      <td>199.0</td>\n      <td>6.0</td>\n      <td>8.0</td>\n      <td>3761.0</td>\n      <td>159.532039</td>\n      <td>212.709386</td>\n      <td>4.0</td>\n    </tr>\n    <tr>\n      <th>Cartaya</th>\n      <td>955.0</td>\n      <td>12.0</td>\n      <td>28.0</td>\n      <td>20083.0</td>\n      <td>59.752029</td>\n      <td>139.421401</td>\n      <td>3.0</td>\n    </tr>\n    <tr>\n      <th>Palma del Condado (La)</th>\n      <td>977.0</td>\n      <td>4.0</td>\n      <td>12.0</td>\n      <td>10801.0</td>\n      <td>37.033608</td>\n      <td>111.100824</td>\n      <td>2.0</td>\n    </tr>\n    <tr>\n      <th>Rociana del Condado</th>\n      <td>312.0</td>\n      <td>2.0</td>\n      <td>4.0</td>\n      <td>7939.0</td>\n      <td>25.192090</td>\n      <td>50.384179</td>\n      <td>2.0</td>\n    </tr>\n    <tr>\n      <th>Moguer</th>\n      <td>830.0</td>\n      <td>3.0</td>\n      <td>13.0</td>\n      <td>21867.0</td>\n      <td>13.719303</td>\n      <td>59.450313</td>\n      <td>1.0</td>\n    </tr>\n    <tr>\n      <th>Palos de la Frontera</th>\n      <td>451.0</td>\n      <td>2.0</td>\n      <td>4.0</td>\n      <td>11742.0</td>\n      <td>17.032873</td>\n      <td>34.065747</td>\n      <td>1.0</td>\n    </tr>\n    <tr>\n      <th>Puebla de Guzmán</th>\n      <td>95.0</td>\n      <td>10.0</td>\n      <td>15.0</td>\n      <td>3092.0</td>\n      <td>323.415265</td>\n      <td>485.122898</td>\n      <td>1.0</td>\n    </tr>\n    <tr>\n      <th>Sierra de Huelva-Andévalo Central</th>\n      <td>2297.0</td>\n      <td>1.0</td>\n      <td>2.0</td>\n      <td>67391.0</td>\n      <td>1.483878</td>\n      <td>2.967755</td>\n      <td>-2.0</td>\n    </tr>\n    <tr>\n      <th>San Juan del Puerto</th>\n      <td>359.0</td>\n      <td>1.0</td>\n      <td>3.0</td>\n      <td>9411.0</td>\n      <td>10.625863</td>\n      <td>31.877590</td>\n      <td>NaN</td>\n    </tr>\n    <tr>\n      <th>Villanueva de los Castillejos</th>\n      <td>153.0</td>\n      <td>1.0</td>\n      <td>1.0</td>\n      <td>2825.0</td>\n      <td>35.398230</td>\n      <td>35.398230</td>\n      <td>NaN</td>\n    </tr>\n  </tbody>\n</table>\n</div>"
     },
     "metadata": {},
     "execution_count": 15
    }
   ],
   "source": [
    "# Nuevos casos desde la última captura\n",
    "tabla[tabla['Diferencia PDIA'] != 0].sort_values('Diferencia PDIA', ascending=False)"
   ]
  },
  {
   "cell_type": "code",
   "execution_count": 16,
   "metadata": {},
   "outputs": [],
   "source": [
    "if tabla[tabla['Diferencia PDIA'] != 0]['Diferencia PDIA'].sum() != 0:\n",
    "  # Save to csv\n",
    "  tabla.to_csv('covid_huelva.csv', encoding='utf-8', header=True, index=True)  "
   ]
  },
  {
   "cell_type": "code",
   "execution_count": 17,
   "metadata": {},
   "outputs": [
    {
     "output_type": "execute_result",
     "data": {
      "text/plain": [
       "Medida                             Confirmados PDIA  Confirmados PDIA 7 días  \\\n",
       "Lugar de residencia                                                            \n",
       "Puebla de Guzmán                               95.0                     10.0   \n",
       "Lucena del Puerto                             157.0                      6.0   \n",
       "San Bartolomé de la Torre                     199.0                      6.0   \n",
       "Cartaya                                       955.0                     12.0   \n",
       "Villablanca                                   176.0                      1.0   \n",
       "Palma del Condado (La)                        977.0                      4.0   \n",
       "Almonte                                       868.0                     10.0   \n",
       "Ayamonte                                     1205.0                     15.0   \n",
       "Condado-Campiña                              6906.0                     40.0   \n",
       "Moguer                                        830.0                      3.0   \n",
       "Bollullos Par del Condado                     615.0                      5.0   \n",
       "Huelva-Costa                                15047.0                     74.0   \n",
       "Alosno                                        122.0                      2.0   \n",
       "Rociana del Condado                           312.0                      2.0   \n",
       "Huelva                                      24663.0                    116.0   \n",
       "Isla Cristina                                1983.0                      6.0   \n",
       "Lepe                                         1994.0                      5.0   \n",
       "Aljaraque                                     925.0                      1.0   \n",
       "Villanueva de los Castillejos                 153.0                      1.0   \n",
       "Huelva (capital)                             6563.0                     21.0   \n",
       "Palos de la Frontera                          451.0                      2.0   \n",
       "San Juan del Puerto                           359.0                      1.0   \n",
       "Paterna del Campo                             111.0                      1.0   \n",
       "Aracena                                       450.0                      1.0   \n",
       "Sierra de Huelva-Andévalo Central            2297.0                      1.0   \n",
       "\n",
       "Medida                             Confirmados PDIA 14 días  Población  \\\n",
       "Lugar de residencia                                                      \n",
       "Puebla de Guzmán                                       15.0     3092.0   \n",
       "Lucena del Puerto                                      11.0     3261.0   \n",
       "San Bartolomé de la Torre                               8.0     3761.0   \n",
       "Cartaya                                                28.0    20083.0   \n",
       "Villablanca                                             4.0     2885.0   \n",
       "Palma del Condado (La)                                 12.0    10801.0   \n",
       "Almonte                                                27.0    24507.0   \n",
       "Ayamonte                                               20.0    21104.0   \n",
       "Condado-Campiña                                        93.0   156231.0   \n",
       "Moguer                                                 13.0    21867.0   \n",
       "Bollullos Par del Condado                               8.0    14387.0   \n",
       "Huelva-Costa                                          152.0   289548.0   \n",
       "Alosno                                                  2.0     3933.0   \n",
       "Rociana del Condado                                     4.0     7939.0   \n",
       "Huelva                                                249.0   513170.0   \n",
       "Isla Cristina                                          10.0    21393.0   \n",
       "Lepe                                                   11.0    27880.0   \n",
       "Aljaraque                                               8.0    21474.0   \n",
       "Villanueva de los Castillejos                           1.0     2825.0   \n",
       "Huelva (capital)                                       50.0   143837.0   \n",
       "Palos de la Frontera                                    4.0    11742.0   \n",
       "San Juan del Puerto                                     3.0     9411.0   \n",
       "Paterna del Campo                                       1.0     3457.0   \n",
       "Aracena                                                 1.0     8255.0   \n",
       "Sierra de Huelva-Andévalo Central                       2.0    67391.0   \n",
       "\n",
       "Medida                                  tasa7      tasa14  Diferencia PDIA  \n",
       "Lugar de residencia                                                         \n",
       "Puebla de Guzmán                   323.415265  485.122898              1.0  \n",
       "Lucena del Puerto                  183.992640  337.319841              0.0  \n",
       "San Bartolomé de la Torre          159.532039  212.709386              4.0  \n",
       "Cartaya                             59.752029  139.421401              3.0  \n",
       "Villablanca                         34.662045  138.648180              0.0  \n",
       "Palma del Condado (La)              37.033608  111.100824              2.0  \n",
       "Almonte                             40.804668  110.172604              0.0  \n",
       "Ayamonte                            71.076573   94.768764              5.0  \n",
       "Condado-Campiña                     25.603113   59.527239             11.0  \n",
       "Moguer                              13.719303   59.450313              1.0  \n",
       "Bollullos Par del Condado           34.753597   55.605755              0.0  \n",
       "Huelva-Costa                        25.557075   52.495614             18.0  \n",
       "Alosno                              50.851767   50.851767              0.0  \n",
       "Rociana del Condado                 25.192090   50.384179              2.0  \n",
       "Huelva                              22.604595   48.521932             27.0  \n",
       "Isla Cristina                       28.046557   46.744262              4.0  \n",
       "Lepe                                17.934003   39.454806              0.0  \n",
       "Aljaraque                            4.656794   37.254354              0.0  \n",
       "Villanueva de los Castillejos       35.398230   35.398230              NaN  \n",
       "Huelva (capital)                    14.599860   34.761570              4.0  \n",
       "Palos de la Frontera                17.032873   34.065747              1.0  \n",
       "San Juan del Puerto                 10.625863   31.877590              NaN  \n",
       "Paterna del Campo                   28.926815   28.926815              0.0  \n",
       "Aracena                             12.113870   12.113870              0.0  \n",
       "Sierra de Huelva-Andévalo Central    1.483878    2.967755             -2.0  "
      ],
      "text/html": "<div>\n<style scoped>\n    .dataframe tbody tr th:only-of-type {\n        vertical-align: middle;\n    }\n\n    .dataframe tbody tr th {\n        vertical-align: top;\n    }\n\n    .dataframe thead th {\n        text-align: right;\n    }\n</style>\n<table border=\"1\" class=\"dataframe\">\n  <thead>\n    <tr style=\"text-align: right;\">\n      <th>Medida</th>\n      <th>Confirmados PDIA</th>\n      <th>Confirmados PDIA 7 días</th>\n      <th>Confirmados PDIA 14 días</th>\n      <th>Población</th>\n      <th>tasa7</th>\n      <th>tasa14</th>\n      <th>Diferencia PDIA</th>\n    </tr>\n    <tr>\n      <th>Lugar de residencia</th>\n      <th></th>\n      <th></th>\n      <th></th>\n      <th></th>\n      <th></th>\n      <th></th>\n      <th></th>\n    </tr>\n  </thead>\n  <tbody>\n    <tr>\n      <th>Puebla de Guzmán</th>\n      <td>95.0</td>\n      <td>10.0</td>\n      <td>15.0</td>\n      <td>3092.0</td>\n      <td>323.415265</td>\n      <td>485.122898</td>\n      <td>1.0</td>\n    </tr>\n    <tr>\n      <th>Lucena del Puerto</th>\n      <td>157.0</td>\n      <td>6.0</td>\n      <td>11.0</td>\n      <td>3261.0</td>\n      <td>183.992640</td>\n      <td>337.319841</td>\n      <td>0.0</td>\n    </tr>\n    <tr>\n      <th>San Bartolomé de la Torre</th>\n      <td>199.0</td>\n      <td>6.0</td>\n      <td>8.0</td>\n      <td>3761.0</td>\n      <td>159.532039</td>\n      <td>212.709386</td>\n      <td>4.0</td>\n    </tr>\n    <tr>\n      <th>Cartaya</th>\n      <td>955.0</td>\n      <td>12.0</td>\n      <td>28.0</td>\n      <td>20083.0</td>\n      <td>59.752029</td>\n      <td>139.421401</td>\n      <td>3.0</td>\n    </tr>\n    <tr>\n      <th>Villablanca</th>\n      <td>176.0</td>\n      <td>1.0</td>\n      <td>4.0</td>\n      <td>2885.0</td>\n      <td>34.662045</td>\n      <td>138.648180</td>\n      <td>0.0</td>\n    </tr>\n    <tr>\n      <th>Palma del Condado (La)</th>\n      <td>977.0</td>\n      <td>4.0</td>\n      <td>12.0</td>\n      <td>10801.0</td>\n      <td>37.033608</td>\n      <td>111.100824</td>\n      <td>2.0</td>\n    </tr>\n    <tr>\n      <th>Almonte</th>\n      <td>868.0</td>\n      <td>10.0</td>\n      <td>27.0</td>\n      <td>24507.0</td>\n      <td>40.804668</td>\n      <td>110.172604</td>\n      <td>0.0</td>\n    </tr>\n    <tr>\n      <th>Ayamonte</th>\n      <td>1205.0</td>\n      <td>15.0</td>\n      <td>20.0</td>\n      <td>21104.0</td>\n      <td>71.076573</td>\n      <td>94.768764</td>\n      <td>5.0</td>\n    </tr>\n    <tr>\n      <th>Condado-Campiña</th>\n      <td>6906.0</td>\n      <td>40.0</td>\n      <td>93.0</td>\n      <td>156231.0</td>\n      <td>25.603113</td>\n      <td>59.527239</td>\n      <td>11.0</td>\n    </tr>\n    <tr>\n      <th>Moguer</th>\n      <td>830.0</td>\n      <td>3.0</td>\n      <td>13.0</td>\n      <td>21867.0</td>\n      <td>13.719303</td>\n      <td>59.450313</td>\n      <td>1.0</td>\n    </tr>\n    <tr>\n      <th>Bollullos Par del Condado</th>\n      <td>615.0</td>\n      <td>5.0</td>\n      <td>8.0</td>\n      <td>14387.0</td>\n      <td>34.753597</td>\n      <td>55.605755</td>\n      <td>0.0</td>\n    </tr>\n    <tr>\n      <th>Huelva-Costa</th>\n      <td>15047.0</td>\n      <td>74.0</td>\n      <td>152.0</td>\n      <td>289548.0</td>\n      <td>25.557075</td>\n      <td>52.495614</td>\n      <td>18.0</td>\n    </tr>\n    <tr>\n      <th>Alosno</th>\n      <td>122.0</td>\n      <td>2.0</td>\n      <td>2.0</td>\n      <td>3933.0</td>\n      <td>50.851767</td>\n      <td>50.851767</td>\n      <td>0.0</td>\n    </tr>\n    <tr>\n      <th>Rociana del Condado</th>\n      <td>312.0</td>\n      <td>2.0</td>\n      <td>4.0</td>\n      <td>7939.0</td>\n      <td>25.192090</td>\n      <td>50.384179</td>\n      <td>2.0</td>\n    </tr>\n    <tr>\n      <th>Huelva</th>\n      <td>24663.0</td>\n      <td>116.0</td>\n      <td>249.0</td>\n      <td>513170.0</td>\n      <td>22.604595</td>\n      <td>48.521932</td>\n      <td>27.0</td>\n    </tr>\n    <tr>\n      <th>Isla Cristina</th>\n      <td>1983.0</td>\n      <td>6.0</td>\n      <td>10.0</td>\n      <td>21393.0</td>\n      <td>28.046557</td>\n      <td>46.744262</td>\n      <td>4.0</td>\n    </tr>\n    <tr>\n      <th>Lepe</th>\n      <td>1994.0</td>\n      <td>5.0</td>\n      <td>11.0</td>\n      <td>27880.0</td>\n      <td>17.934003</td>\n      <td>39.454806</td>\n      <td>0.0</td>\n    </tr>\n    <tr>\n      <th>Aljaraque</th>\n      <td>925.0</td>\n      <td>1.0</td>\n      <td>8.0</td>\n      <td>21474.0</td>\n      <td>4.656794</td>\n      <td>37.254354</td>\n      <td>0.0</td>\n    </tr>\n    <tr>\n      <th>Villanueva de los Castillejos</th>\n      <td>153.0</td>\n      <td>1.0</td>\n      <td>1.0</td>\n      <td>2825.0</td>\n      <td>35.398230</td>\n      <td>35.398230</td>\n      <td>NaN</td>\n    </tr>\n    <tr>\n      <th>Huelva (capital)</th>\n      <td>6563.0</td>\n      <td>21.0</td>\n      <td>50.0</td>\n      <td>143837.0</td>\n      <td>14.599860</td>\n      <td>34.761570</td>\n      <td>4.0</td>\n    </tr>\n    <tr>\n      <th>Palos de la Frontera</th>\n      <td>451.0</td>\n      <td>2.0</td>\n      <td>4.0</td>\n      <td>11742.0</td>\n      <td>17.032873</td>\n      <td>34.065747</td>\n      <td>1.0</td>\n    </tr>\n    <tr>\n      <th>San Juan del Puerto</th>\n      <td>359.0</td>\n      <td>1.0</td>\n      <td>3.0</td>\n      <td>9411.0</td>\n      <td>10.625863</td>\n      <td>31.877590</td>\n      <td>NaN</td>\n    </tr>\n    <tr>\n      <th>Paterna del Campo</th>\n      <td>111.0</td>\n      <td>1.0</td>\n      <td>1.0</td>\n      <td>3457.0</td>\n      <td>28.926815</td>\n      <td>28.926815</td>\n      <td>0.0</td>\n    </tr>\n    <tr>\n      <th>Aracena</th>\n      <td>450.0</td>\n      <td>1.0</td>\n      <td>1.0</td>\n      <td>8255.0</td>\n      <td>12.113870</td>\n      <td>12.113870</td>\n      <td>0.0</td>\n    </tr>\n    <tr>\n      <th>Sierra de Huelva-Andévalo Central</th>\n      <td>2297.0</td>\n      <td>1.0</td>\n      <td>2.0</td>\n      <td>67391.0</td>\n      <td>1.483878</td>\n      <td>2.967755</td>\n      <td>-2.0</td>\n    </tr>\n  </tbody>\n</table>\n</div>"
     },
     "metadata": {},
     "execution_count": 17
    }
   ],
   "source": [
    "tabla.sort_values('tasa14', ascending=False)"
   ]
  },
  {
   "cell_type": "code",
   "execution_count": 18,
   "metadata": {},
   "outputs": [
    {
     "output_type": "execute_result",
     "data": {
      "text/plain": [
       "Medida                             Confirmados PDIA  Confirmados PDIA 7 días  \\\n",
       "Lugar de residencia                                                            \n",
       "Aljaraque                                     925.0                      1.0   \n",
       "Moguer                                        830.0                      3.0   \n",
       "Villablanca                                   176.0                      1.0   \n",
       "San Juan del Puerto                           359.0                      1.0   \n",
       "Palma del Condado (La)                        977.0                      4.0   \n",
       "Almonte                                       868.0                     10.0   \n",
       "Huelva (capital)                             6563.0                     21.0   \n",
       "Cartaya                                       955.0                     12.0   \n",
       "Condado-Campiña                              6906.0                     40.0   \n",
       "Lepe                                         1994.0                      5.0   \n",
       "Huelva                                      24663.0                    116.0   \n",
       "Huelva-Costa                                15047.0                     74.0   \n",
       "Palos de la Frontera                          451.0                      2.0   \n",
       "Rociana del Condado                           312.0                      2.0   \n",
       "Sierra de Huelva-Andévalo Central            2297.0                      1.0   \n",
       "Lucena del Puerto                             157.0                      6.0   \n",
       "Isla Cristina                                1983.0                      6.0   \n",
       "Bollullos Par del Condado                     615.0                      5.0   \n",
       "Puebla de Guzmán                               95.0                     10.0   \n",
       "San Bartolomé de la Torre                     199.0                      6.0   \n",
       "Ayamonte                                     1205.0                     15.0   \n",
       "Aracena                                       450.0                      1.0   \n",
       "Paterna del Campo                             111.0                      1.0   \n",
       "Alosno                                        122.0                      2.0   \n",
       "Villanueva de los Castillejos                 153.0                      1.0   \n",
       "\n",
       "Medida                             Confirmados PDIA 14 días  Población  \\\n",
       "Lugar de residencia                                                      \n",
       "Aljaraque                                               8.0    21474.0   \n",
       "Moguer                                                 13.0    21867.0   \n",
       "Villablanca                                             4.0     2885.0   \n",
       "San Juan del Puerto                                     3.0     9411.0   \n",
       "Palma del Condado (La)                                 12.0    10801.0   \n",
       "Almonte                                                27.0    24507.0   \n",
       "Huelva (capital)                                       50.0   143837.0   \n",
       "Cartaya                                                28.0    20083.0   \n",
       "Condado-Campiña                                        93.0   156231.0   \n",
       "Lepe                                                   11.0    27880.0   \n",
       "Huelva                                                249.0   513170.0   \n",
       "Huelva-Costa                                          152.0   289548.0   \n",
       "Palos de la Frontera                                    4.0    11742.0   \n",
       "Rociana del Condado                                     4.0     7939.0   \n",
       "Sierra de Huelva-Andévalo Central                       2.0    67391.0   \n",
       "Lucena del Puerto                                      11.0     3261.0   \n",
       "Isla Cristina                                          10.0    21393.0   \n",
       "Bollullos Par del Condado                               8.0    14387.0   \n",
       "Puebla de Guzmán                                       15.0     3092.0   \n",
       "San Bartolomé de la Torre                               8.0     3761.0   \n",
       "Ayamonte                                               20.0    21104.0   \n",
       "Aracena                                                 1.0     8255.0   \n",
       "Paterna del Campo                                       1.0     3457.0   \n",
       "Alosno                                                  2.0     3933.0   \n",
       "Villanueva de los Castillejos                           1.0     2825.0   \n",
       "\n",
       "Medida                                  tasa7      tasa14  Diferencia PDIA  \\\n",
       "Lugar de residencia                                                          \n",
       "Aljaraque                            4.656794   37.254354              0.0   \n",
       "Moguer                              13.719303   59.450313              1.0   \n",
       "Villablanca                         34.662045  138.648180              0.0   \n",
       "San Juan del Puerto                 10.625863   31.877590              0.0   \n",
       "Palma del Condado (La)              37.033608  111.100824              2.0   \n",
       "Almonte                             40.804668  110.172604              0.0   \n",
       "Huelva (capital)                    14.599860   34.761570              4.0   \n",
       "Cartaya                             59.752029  139.421401              3.0   \n",
       "Condado-Campiña                     25.603113   59.527239             11.0   \n",
       "Lepe                                17.934003   39.454806              0.0   \n",
       "Huelva                              22.604595   48.521932             27.0   \n",
       "Huelva-Costa                        25.557075   52.495614             18.0   \n",
       "Palos de la Frontera                17.032873   34.065747              1.0   \n",
       "Rociana del Condado                 25.192090   50.384179              2.0   \n",
       "Sierra de Huelva-Andévalo Central    1.483878    2.967755             -2.0   \n",
       "Lucena del Puerto                  183.992640  337.319841              0.0   \n",
       "Isla Cristina                       28.046557   46.744262              4.0   \n",
       "Bollullos Par del Condado           34.753597   55.605755              0.0   \n",
       "Puebla de Guzmán                   323.415265  485.122898              1.0   \n",
       "San Bartolomé de la Torre          159.532039  212.709386              4.0   \n",
       "Ayamonte                            71.076573   94.768764              5.0   \n",
       "Aracena                             12.113870   12.113870              0.0   \n",
       "Paterna del Campo                   28.926815   28.926815              0.0   \n",
       "Alosno                              50.851767   50.851767              0.0   \n",
       "Villanueva de los Castillejos       35.398230   35.398230              0.0   \n",
       "\n",
       "Medida                                 7/14  \n",
       "Lugar de residencia                          \n",
       "Aljaraque                          0.125000  \n",
       "Moguer                             0.230769  \n",
       "Villablanca                        0.250000  \n",
       "San Juan del Puerto                0.333333  \n",
       "Palma del Condado (La)             0.333333  \n",
       "Almonte                            0.370370  \n",
       "Huelva (capital)                   0.420000  \n",
       "Cartaya                            0.428571  \n",
       "Condado-Campiña                    0.430108  \n",
       "Lepe                               0.454545  \n",
       "Huelva                             0.465863  \n",
       "Huelva-Costa                       0.486842  \n",
       "Palos de la Frontera               0.500000  \n",
       "Rociana del Condado                0.500000  \n",
       "Sierra de Huelva-Andévalo Central  0.500000  \n",
       "Lucena del Puerto                  0.545455  \n",
       "Isla Cristina                      0.600000  \n",
       "Bollullos Par del Condado          0.625000  \n",
       "Puebla de Guzmán                   0.666667  \n",
       "San Bartolomé de la Torre          0.750000  \n",
       "Ayamonte                           0.750000  \n",
       "Aracena                            1.000000  \n",
       "Paterna del Campo                  1.000000  \n",
       "Alosno                             1.000000  \n",
       "Villanueva de los Castillejos      1.000000  "
      ],
      "text/html": "<div>\n<style scoped>\n    .dataframe tbody tr th:only-of-type {\n        vertical-align: middle;\n    }\n\n    .dataframe tbody tr th {\n        vertical-align: top;\n    }\n\n    .dataframe thead th {\n        text-align: right;\n    }\n</style>\n<table border=\"1\" class=\"dataframe\">\n  <thead>\n    <tr style=\"text-align: right;\">\n      <th>Medida</th>\n      <th>Confirmados PDIA</th>\n      <th>Confirmados PDIA 7 días</th>\n      <th>Confirmados PDIA 14 días</th>\n      <th>Población</th>\n      <th>tasa7</th>\n      <th>tasa14</th>\n      <th>Diferencia PDIA</th>\n      <th>7/14</th>\n    </tr>\n    <tr>\n      <th>Lugar de residencia</th>\n      <th></th>\n      <th></th>\n      <th></th>\n      <th></th>\n      <th></th>\n      <th></th>\n      <th></th>\n      <th></th>\n    </tr>\n  </thead>\n  <tbody>\n    <tr>\n      <th>Aljaraque</th>\n      <td>925.0</td>\n      <td>1.0</td>\n      <td>8.0</td>\n      <td>21474.0</td>\n      <td>4.656794</td>\n      <td>37.254354</td>\n      <td>0.0</td>\n      <td>0.125000</td>\n    </tr>\n    <tr>\n      <th>Moguer</th>\n      <td>830.0</td>\n      <td>3.0</td>\n      <td>13.0</td>\n      <td>21867.0</td>\n      <td>13.719303</td>\n      <td>59.450313</td>\n      <td>1.0</td>\n      <td>0.230769</td>\n    </tr>\n    <tr>\n      <th>Villablanca</th>\n      <td>176.0</td>\n      <td>1.0</td>\n      <td>4.0</td>\n      <td>2885.0</td>\n      <td>34.662045</td>\n      <td>138.648180</td>\n      <td>0.0</td>\n      <td>0.250000</td>\n    </tr>\n    <tr>\n      <th>San Juan del Puerto</th>\n      <td>359.0</td>\n      <td>1.0</td>\n      <td>3.0</td>\n      <td>9411.0</td>\n      <td>10.625863</td>\n      <td>31.877590</td>\n      <td>0.0</td>\n      <td>0.333333</td>\n    </tr>\n    <tr>\n      <th>Palma del Condado (La)</th>\n      <td>977.0</td>\n      <td>4.0</td>\n      <td>12.0</td>\n      <td>10801.0</td>\n      <td>37.033608</td>\n      <td>111.100824</td>\n      <td>2.0</td>\n      <td>0.333333</td>\n    </tr>\n    <tr>\n      <th>Almonte</th>\n      <td>868.0</td>\n      <td>10.0</td>\n      <td>27.0</td>\n      <td>24507.0</td>\n      <td>40.804668</td>\n      <td>110.172604</td>\n      <td>0.0</td>\n      <td>0.370370</td>\n    </tr>\n    <tr>\n      <th>Huelva (capital)</th>\n      <td>6563.0</td>\n      <td>21.0</td>\n      <td>50.0</td>\n      <td>143837.0</td>\n      <td>14.599860</td>\n      <td>34.761570</td>\n      <td>4.0</td>\n      <td>0.420000</td>\n    </tr>\n    <tr>\n      <th>Cartaya</th>\n      <td>955.0</td>\n      <td>12.0</td>\n      <td>28.0</td>\n      <td>20083.0</td>\n      <td>59.752029</td>\n      <td>139.421401</td>\n      <td>3.0</td>\n      <td>0.428571</td>\n    </tr>\n    <tr>\n      <th>Condado-Campiña</th>\n      <td>6906.0</td>\n      <td>40.0</td>\n      <td>93.0</td>\n      <td>156231.0</td>\n      <td>25.603113</td>\n      <td>59.527239</td>\n      <td>11.0</td>\n      <td>0.430108</td>\n    </tr>\n    <tr>\n      <th>Lepe</th>\n      <td>1994.0</td>\n      <td>5.0</td>\n      <td>11.0</td>\n      <td>27880.0</td>\n      <td>17.934003</td>\n      <td>39.454806</td>\n      <td>0.0</td>\n      <td>0.454545</td>\n    </tr>\n    <tr>\n      <th>Huelva</th>\n      <td>24663.0</td>\n      <td>116.0</td>\n      <td>249.0</td>\n      <td>513170.0</td>\n      <td>22.604595</td>\n      <td>48.521932</td>\n      <td>27.0</td>\n      <td>0.465863</td>\n    </tr>\n    <tr>\n      <th>Huelva-Costa</th>\n      <td>15047.0</td>\n      <td>74.0</td>\n      <td>152.0</td>\n      <td>289548.0</td>\n      <td>25.557075</td>\n      <td>52.495614</td>\n      <td>18.0</td>\n      <td>0.486842</td>\n    </tr>\n    <tr>\n      <th>Palos de la Frontera</th>\n      <td>451.0</td>\n      <td>2.0</td>\n      <td>4.0</td>\n      <td>11742.0</td>\n      <td>17.032873</td>\n      <td>34.065747</td>\n      <td>1.0</td>\n      <td>0.500000</td>\n    </tr>\n    <tr>\n      <th>Rociana del Condado</th>\n      <td>312.0</td>\n      <td>2.0</td>\n      <td>4.0</td>\n      <td>7939.0</td>\n      <td>25.192090</td>\n      <td>50.384179</td>\n      <td>2.0</td>\n      <td>0.500000</td>\n    </tr>\n    <tr>\n      <th>Sierra de Huelva-Andévalo Central</th>\n      <td>2297.0</td>\n      <td>1.0</td>\n      <td>2.0</td>\n      <td>67391.0</td>\n      <td>1.483878</td>\n      <td>2.967755</td>\n      <td>-2.0</td>\n      <td>0.500000</td>\n    </tr>\n    <tr>\n      <th>Lucena del Puerto</th>\n      <td>157.0</td>\n      <td>6.0</td>\n      <td>11.0</td>\n      <td>3261.0</td>\n      <td>183.992640</td>\n      <td>337.319841</td>\n      <td>0.0</td>\n      <td>0.545455</td>\n    </tr>\n    <tr>\n      <th>Isla Cristina</th>\n      <td>1983.0</td>\n      <td>6.0</td>\n      <td>10.0</td>\n      <td>21393.0</td>\n      <td>28.046557</td>\n      <td>46.744262</td>\n      <td>4.0</td>\n      <td>0.600000</td>\n    </tr>\n    <tr>\n      <th>Bollullos Par del Condado</th>\n      <td>615.0</td>\n      <td>5.0</td>\n      <td>8.0</td>\n      <td>14387.0</td>\n      <td>34.753597</td>\n      <td>55.605755</td>\n      <td>0.0</td>\n      <td>0.625000</td>\n    </tr>\n    <tr>\n      <th>Puebla de Guzmán</th>\n      <td>95.0</td>\n      <td>10.0</td>\n      <td>15.0</td>\n      <td>3092.0</td>\n      <td>323.415265</td>\n      <td>485.122898</td>\n      <td>1.0</td>\n      <td>0.666667</td>\n    </tr>\n    <tr>\n      <th>San Bartolomé de la Torre</th>\n      <td>199.0</td>\n      <td>6.0</td>\n      <td>8.0</td>\n      <td>3761.0</td>\n      <td>159.532039</td>\n      <td>212.709386</td>\n      <td>4.0</td>\n      <td>0.750000</td>\n    </tr>\n    <tr>\n      <th>Ayamonte</th>\n      <td>1205.0</td>\n      <td>15.0</td>\n      <td>20.0</td>\n      <td>21104.0</td>\n      <td>71.076573</td>\n      <td>94.768764</td>\n      <td>5.0</td>\n      <td>0.750000</td>\n    </tr>\n    <tr>\n      <th>Aracena</th>\n      <td>450.0</td>\n      <td>1.0</td>\n      <td>1.0</td>\n      <td>8255.0</td>\n      <td>12.113870</td>\n      <td>12.113870</td>\n      <td>0.0</td>\n      <td>1.000000</td>\n    </tr>\n    <tr>\n      <th>Paterna del Campo</th>\n      <td>111.0</td>\n      <td>1.0</td>\n      <td>1.0</td>\n      <td>3457.0</td>\n      <td>28.926815</td>\n      <td>28.926815</td>\n      <td>0.0</td>\n      <td>1.000000</td>\n    </tr>\n    <tr>\n      <th>Alosno</th>\n      <td>122.0</td>\n      <td>2.0</td>\n      <td>2.0</td>\n      <td>3933.0</td>\n      <td>50.851767</td>\n      <td>50.851767</td>\n      <td>0.0</td>\n      <td>1.000000</td>\n    </tr>\n    <tr>\n      <th>Villanueva de los Castillejos</th>\n      <td>153.0</td>\n      <td>1.0</td>\n      <td>1.0</td>\n      <td>2825.0</td>\n      <td>35.398230</td>\n      <td>35.398230</td>\n      <td>0.0</td>\n      <td>1.000000</td>\n    </tr>\n  </tbody>\n</table>\n</div>"
     },
     "metadata": {},
     "execution_count": 18
    }
   ],
   "source": [
    "# Peso de la tasa de la última semana en relación con la tasa a 14 días \n",
    "# Mejor cuanto menor. Valor 1 significa que no había casos antes de 7 días.\n",
    "tabla['7/14'] = tabla['tasa7'] / tabla['tasa14']\n",
    "tabla.fillna(0).sort_values('7/14', ascending=True)"
   ]
  },
  {
   "cell_type": "code",
   "execution_count": null,
   "metadata": {},
   "outputs": [],
   "source": []
  }
 ]
}