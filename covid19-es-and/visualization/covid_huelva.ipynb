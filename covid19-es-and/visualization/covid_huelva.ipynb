{
 "metadata": {
  "language_info": {
   "codemirror_mode": {
    "name": "ipython",
    "version": 3
   },
   "file_extension": ".py",
   "mimetype": "text/x-python",
   "name": "python",
   "nbconvert_exporter": "python",
   "pygments_lexer": "ipython3",
   "version": "3.8.6"
  },
  "orig_nbformat": 2,
  "kernelspec": {
   "name": "python3",
   "display_name": "Python 3",
   "language": "python"
  }
 },
 "nbformat": 4,
 "nbformat_minor": 2,
 "cells": [
  {
   "cell_type": "code",
   "execution_count": 1,
   "metadata": {},
   "outputs": [],
   "source": [
    "import pandas as pd\n",
    "pd.set_option('display.max_rows', None) # Print all rows"
   ]
  },
  {
   "cell_type": "code",
   "execution_count": 2,
   "metadata": {},
   "outputs": [],
   "source": [
    "# FIX SSL: CERTIFICATE_VERIFY_FAILED with Python3\n",
    "# https://stackoverflow.com/a/49174340\n",
    "import ssl\n",
    "\n",
    "ssl._create_default_https_context = ssl._create_unverified_context"
   ]
  },
  {
   "cell_type": "code",
   "execution_count": 3,
   "metadata": {},
   "outputs": [],
   "source": [
    "url = 'https://www.juntadeandalucia.es/institutodeestadisticaycartografia/badea/stpivot/stpivot/Print?cube=013d884c-cfc5-4c21-9e78-e26225682afd&type=3&foto=si&ejecutaDesde=&codConsulta=38668&consTipoVisua=JP'\n",
    "fields = ['Lugar de residencia', 'Medida', 'Valor']\n",
    "df = pd.read_csv(url, delimiter=';', usecols=fields, decimal=',')"
   ]
  },
  {
   "cell_type": "code",
   "execution_count": 4,
   "metadata": {},
   "outputs": [
    {
     "output_type": "execute_result",
     "data": {
      "text/plain": [
       "  Lugar de residencia                    Medida              Valor\n",
       "0              Huelva                 Población             513170\n",
       "1              Huelva          Confirmados PDIA              29118\n",
       "2              Huelva  Confirmados PDIA 14 días                990\n",
       "3              Huelva         Tasa PDIA 14 días  192,9185260245143\n",
       "4              Huelva   Confirmados PDIA 7 días                495\n",
       "5              Huelva        Total Confirmados               29294\n",
       "6              Huelva                   Curados              25745\n",
       "7              Huelva                Fallecidos                370"
      ],
      "text/html": "<div>\n<style scoped>\n    .dataframe tbody tr th:only-of-type {\n        vertical-align: middle;\n    }\n\n    .dataframe tbody tr th {\n        vertical-align: top;\n    }\n\n    .dataframe thead th {\n        text-align: right;\n    }\n</style>\n<table border=\"1\" class=\"dataframe\">\n  <thead>\n    <tr style=\"text-align: right;\">\n      <th></th>\n      <th>Lugar de residencia</th>\n      <th>Medida</th>\n      <th>Valor</th>\n    </tr>\n  </thead>\n  <tbody>\n    <tr>\n      <th>0</th>\n      <td>Huelva</td>\n      <td>Población</td>\n      <td>513170</td>\n    </tr>\n    <tr>\n      <th>1</th>\n      <td>Huelva</td>\n      <td>Confirmados PDIA</td>\n      <td>29118</td>\n    </tr>\n    <tr>\n      <th>2</th>\n      <td>Huelva</td>\n      <td>Confirmados PDIA 14 días</td>\n      <td>990</td>\n    </tr>\n    <tr>\n      <th>3</th>\n      <td>Huelva</td>\n      <td>Tasa PDIA 14 días</td>\n      <td>192,9185260245143</td>\n    </tr>\n    <tr>\n      <th>4</th>\n      <td>Huelva</td>\n      <td>Confirmados PDIA 7 días</td>\n      <td>495</td>\n    </tr>\n    <tr>\n      <th>5</th>\n      <td>Huelva</td>\n      <td>Total Confirmados</td>\n      <td>29294</td>\n    </tr>\n    <tr>\n      <th>6</th>\n      <td>Huelva</td>\n      <td>Curados</td>\n      <td>25745</td>\n    </tr>\n    <tr>\n      <th>7</th>\n      <td>Huelva</td>\n      <td>Fallecidos</td>\n      <td>370</td>\n    </tr>\n  </tbody>\n</table>\n</div>"
     },
     "metadata": {},
     "execution_count": 4
    }
   ],
   "source": [
    "df[df['Lugar de residencia'] == 'Huelva']"
   ]
  },
  {
   "cell_type": "code",
   "execution_count": 5,
   "metadata": {},
   "outputs": [],
   "source": [
    "df['Valor'] = pd.to_numeric(df['Valor'],errors='coerce')"
   ]
  },
  {
   "cell_type": "code",
   "execution_count": 6,
   "metadata": {},
   "outputs": [],
   "source": [
    "dfAnterior = pd.read_csv('covid_huelva.csv', index_col='Lugar de residencia')"
   ]
  },
  {
   "cell_type": "code",
   "execution_count": 7,
   "metadata": {
    "tags": []
   },
   "outputs": [
    {
     "output_type": "stream",
     "name": "stdout",
     "text": [
      "Confirmados PCR en la provincia de Huelva:  29118.0\n",
      "<ipython-input-7-31b732756b19>:2: UserWarning: Boolean Series key will be reindexed to match DataFrame index.\n",
      "  p = df[df['Lugar de residencia'] == 'Huelva'][df['Medida'] == 'Confirmados PDIA']['Valor'].values[0]\n"
     ]
    }
   ],
   "source": [
    "# Confirmados PCR provincia Huelva\n",
    "p = df[df['Lugar de residencia'] == 'Huelva'][df['Medida'] == 'Confirmados PDIA']['Valor'].values[0]\n",
    "print('Confirmados PCR en la provincia de Huelva: ', p)"
   ]
  },
  {
   "cell_type": "code",
   "execution_count": 8,
   "metadata": {
    "tags": []
   },
   "outputs": [
    {
     "output_type": "stream",
     "name": "stdout",
     "text": [
      "Confirmados PCR en Huelva capital:  7594.0\n",
      "<ipython-input-8-e81bfb40e710>:2: UserWarning: Boolean Series key will be reindexed to match DataFrame index.\n",
      "  c = df[df['Lugar de residencia'] == 'Huelva (capital)'][df['Medida'] == 'Confirmados PDIA']['Valor'].values[0]\n"
     ]
    }
   ],
   "source": [
    "# Confirmados PCR Huelva capitalpd\n",
    "c = df[df['Lugar de residencia'] == 'Huelva (capital)'][df['Medida'] == 'Confirmados PDIA']['Valor'].values[0]\n",
    "print('Confirmados PCR en Huelva capital: ', c)"
   ]
  },
  {
   "cell_type": "code",
   "execution_count": 9,
   "metadata": {
    "tags": []
   },
   "outputs": [
    {
     "output_type": "stream",
     "name": "stderr",
     "text": [
      "<ipython-input-9-f09dd2050cc1>:1: UserWarning: Boolean Series key will be reindexed to match DataFrame index.\n  c7 = df[df['Lugar de residencia'] == 'Huelva (capital)'][df['Medida'] == 'Confirmados PDIA 7 días']['Valor'].values[0]\n<ipython-input-9-f09dd2050cc1>:2: UserWarning: Boolean Series key will be reindexed to match DataFrame index.\n  c14 = df[df['Lugar de residencia'] == 'Huelva (capital)'][df['Medida'] == 'Confirmados PDIA 14 días']['Valor'].values[0]\n<ipython-input-9-f09dd2050cc1>:3: UserWarning: Boolean Series key will be reindexed to match DataFrame index.\n  p = df[df['Lugar de residencia'] == 'Huelva (capital)'][df['Medida'] == 'Población']['Valor'].values[0]\n"
     ]
    }
   ],
   "source": [
    "c7 = df[df['Lugar de residencia'] == 'Huelva (capital)'][df['Medida'] == 'Confirmados PDIA 7 días']['Valor'].values[0]\n",
    "c14 = df[df['Lugar de residencia'] == 'Huelva (capital)'][df['Medida'] == 'Confirmados PDIA 14 días']['Valor'].values[0]\n",
    "p = df[df['Lugar de residencia'] == 'Huelva (capital)'][df['Medida'] == 'Población']['Valor'].values[0]"
   ]
  },
  {
   "cell_type": "code",
   "execution_count": 10,
   "metadata": {
    "tags": []
   },
   "outputs": [
    {
     "output_type": "stream",
     "name": "stdout",
     "text": [
      "Huelva (capital)\n\nUn positivo PCR cada 861 personas en los últimos 7 días \n\nUn positivo PCR cada 494 personas en los últimos 14 días\n"
     ]
    }
   ],
   "source": [
    "print('Huelva (capital)\\n')\n",
    "#print('Confirmados PCR 7 días x 1,000 habitantes: ', f\"{c7/(p/1000):.5f}\")\n",
    "print('Un positivo PCR cada', f\"{p/c7:.0f}\", 'personas en los últimos 7 días', '\\n')\n",
    "#print('Confirmados PCR 14 días x 1,000 habitantes: ', f\"{c14/(p/1000):.5f}\")\n",
    "print('Un positivo PCR cada', f\"{p/c14:.0f}\", 'personas en los últimos 14 días')"
   ]
  },
  {
   "cell_type": "code",
   "execution_count": 11,
   "metadata": {},
   "outputs": [],
   "source": [
    "filtro = ((df['Medida'] == 'Confirmados PDIA')| (df['Medida'] == 'Confirmados PDIA 7 días') | (df['Medida'] == 'Población' ) | (df['Medida'] == 'Confirmados PDIA 14 días')) & (df['Valor'] > 0)\n",
    "tabla = pd.pivot_table(df.loc[filtro], values='Valor', index='Lugar de residencia', columns='Medida').dropna()"
   ]
  },
  {
   "cell_type": "code",
   "execution_count": 12,
   "metadata": {},
   "outputs": [],
   "source": [
    "# Reorder columns\n",
    "tabla = tabla[['Confirmados PDIA', 'Confirmados PDIA 7 días', 'Confirmados PDIA 14 días', 'Población']]"
   ]
  },
  {
   "cell_type": "code",
   "execution_count": 13,
   "metadata": {},
   "outputs": [],
   "source": [
    "tabla['tasa7'] = tabla['Confirmados PDIA 7 días']/tabla['Población']*100000\n",
    "tabla['tasa14'] = tabla['Confirmados PDIA 14 días']/tabla['Población']*100000"
   ]
  },
  {
   "cell_type": "code",
   "execution_count": 14,
   "metadata": {},
   "outputs": [],
   "source": [
    "tabla['Diferencia PDIA'] = tabla['Confirmados PDIA'] - dfAnterior['Confirmados PDIA']"
   ]
  },
  {
   "cell_type": "code",
   "execution_count": 15,
   "metadata": {},
   "outputs": [
    {
     "output_type": "execute_result",
     "data": {
      "text/plain": [
       "Medida                             Confirmados PDIA  Confirmados PDIA 7 días  \\\n",
       "Lugar de residencia                                                            \n",
       "Huelva                                      29118.0                    495.0   \n",
       "Huelva-Costa                                16945.0                    254.0   \n",
       "Huelva (capital)                             7594.0                    167.0   \n",
       "Condado-Campiña                              9247.0                    205.0   \n",
       "Punta Umbría                                  728.0                     15.0   \n",
       "Sierra de Huelva-Andévalo Central            2584.0                     34.0   \n",
       "Almonte                                      1604.0                     69.0   \n",
       "Bollullos Par del Condado                     868.0                     43.0   \n",
       "Valverde del Camino                           487.0                     12.0   \n",
       "Niebla                                        200.0                      5.0   \n",
       "Lepe                                         2089.0                      7.0   \n",
       "Isla Cristina                                2089.0                     25.0   \n",
       "Galaroza                                       35.0                      8.0   \n",
       "Moguer                                       1121.0                     16.0   \n",
       "Palma del Condado (La)                       1048.0                     10.0   \n",
       "San Juan del Puerto                           457.0                      7.0   \n",
       "Bonares                                       259.0                      4.0   \n",
       "Rociana del Condado                           527.0                     12.0   \n",
       "Aljaraque                                    1012.0                      8.0   \n",
       "Palos de la Frontera                          599.0                     14.0   \n",
       "Gibraleón                                     594.0                      7.0   \n",
       "Cartaya                                      1289.0                     18.0   \n",
       "Ayamonte                                     1296.0                     10.0   \n",
       "Villablanca                                   183.0                      3.0   \n",
       "Villalba del Alcor                            472.0                      1.0   \n",
       "Villarrasa                                    148.0                      1.0   \n",
       "\n",
       "Medida                             Confirmados PDIA 14 días  Población  \\\n",
       "Lugar de residencia                                                      \n",
       "Huelva                                                990.0   513170.0   \n",
       "Huelva-Costa                                          457.0   289548.0   \n",
       "Huelva (capital)                                      291.0   143837.0   \n",
       "Condado-Campiña                                       457.0   156231.0   \n",
       "Punta Umbría                                           25.0    15355.0   \n",
       "Sierra de Huelva-Andévalo Central                      67.0    67391.0   \n",
       "Almonte                                               149.0    24507.0   \n",
       "Bollullos Par del Condado                              85.0    14387.0   \n",
       "Valverde del Camino                                    21.0    12750.0   \n",
       "Niebla                                                  8.0     4116.0   \n",
       "Lepe                                                   14.0    27880.0   \n",
       "Isla Cristina                                          41.0    21393.0   \n",
       "Galaroza                                                8.0     1382.0   \n",
       "Moguer                                                 49.0    21867.0   \n",
       "Palma del Condado (La)                                 18.0    10801.0   \n",
       "San Juan del Puerto                                    18.0     9411.0   \n",
       "Bonares                                                16.0     6060.0   \n",
       "Rociana del Condado                                    29.0     7939.0   \n",
       "Aljaraque                                              20.0    21474.0   \n",
       "Palos de la Frontera                                   24.0    11742.0   \n",
       "Gibraleón                                              13.0    12737.0   \n",
       "Cartaya                                                35.0    20083.0   \n",
       "Ayamonte                                               26.0    21104.0   \n",
       "Villablanca                                             3.0     2885.0   \n",
       "Villalba del Alcor                                      1.0     3366.0   \n",
       "Villarrasa                                              1.0     2211.0   \n",
       "\n",
       "Medida                                  tasa7      tasa14  Diferencia PDIA  \n",
       "Lugar de residencia                                                         \n",
       "Huelva                              96.459263  192.918526            101.0  \n",
       "Huelva-Costa                        87.722934  157.832207             61.0  \n",
       "Huelva (capital)                   116.103645  202.312340             39.0  \n",
       "Condado-Campiña                    131.215956  292.515570             34.0  \n",
       "Punta Umbría                        97.688049  162.813416             10.0  \n",
       "Sierra de Huelva-Andévalo Central   50.451841   99.419804              8.0  \n",
       "Almonte                            281.552210  607.989554              8.0  \n",
       "Bollullos Par del Condado          298.880934  590.811149              7.0  \n",
       "Valverde del Camino                 94.117647  164.705882              5.0  \n",
       "Niebla                             121.477162  194.363460              4.0  \n",
       "Lepe                                25.107604   50.215208              4.0  \n",
       "Isla Cristina                      116.860655  191.651475              4.0  \n",
       "Galaroza                           578.871201  578.871201              3.0  \n",
       "Moguer                              73.169616  224.081950              3.0  \n",
       "Palma del Condado (La)              92.584020  166.651236              3.0  \n",
       "San Juan del Puerto                 74.381043  191.265540              2.0  \n",
       "Bonares                             66.006601  264.026403              2.0  \n",
       "Rociana del Condado                151.152538  365.285300              1.0  \n",
       "Aljaraque                           37.254354   93.135885              1.0  \n",
       "Palos de la Frontera               119.230114  204.394481              1.0  \n",
       "Gibraleón                           54.957996  102.064850              1.0  \n",
       "Cartaya                             89.628044  174.276751              1.0  \n",
       "Ayamonte                            47.384382  123.199393              1.0  \n",
       "Villablanca                        103.986135  103.986135              1.0  \n",
       "Villalba del Alcor                  29.708853   29.708853              NaN  \n",
       "Villarrasa                          45.228403   45.228403              NaN  "
      ],
      "text/html": "<div>\n<style scoped>\n    .dataframe tbody tr th:only-of-type {\n        vertical-align: middle;\n    }\n\n    .dataframe tbody tr th {\n        vertical-align: top;\n    }\n\n    .dataframe thead th {\n        text-align: right;\n    }\n</style>\n<table border=\"1\" class=\"dataframe\">\n  <thead>\n    <tr style=\"text-align: right;\">\n      <th>Medida</th>\n      <th>Confirmados PDIA</th>\n      <th>Confirmados PDIA 7 días</th>\n      <th>Confirmados PDIA 14 días</th>\n      <th>Población</th>\n      <th>tasa7</th>\n      <th>tasa14</th>\n      <th>Diferencia PDIA</th>\n    </tr>\n    <tr>\n      <th>Lugar de residencia</th>\n      <th></th>\n      <th></th>\n      <th></th>\n      <th></th>\n      <th></th>\n      <th></th>\n      <th></th>\n    </tr>\n  </thead>\n  <tbody>\n    <tr>\n      <th>Huelva</th>\n      <td>29118.0</td>\n      <td>495.0</td>\n      <td>990.0</td>\n      <td>513170.0</td>\n      <td>96.459263</td>\n      <td>192.918526</td>\n      <td>101.0</td>\n    </tr>\n    <tr>\n      <th>Huelva-Costa</th>\n      <td>16945.0</td>\n      <td>254.0</td>\n      <td>457.0</td>\n      <td>289548.0</td>\n      <td>87.722934</td>\n      <td>157.832207</td>\n      <td>61.0</td>\n    </tr>\n    <tr>\n      <th>Huelva (capital)</th>\n      <td>7594.0</td>\n      <td>167.0</td>\n      <td>291.0</td>\n      <td>143837.0</td>\n      <td>116.103645</td>\n      <td>202.312340</td>\n      <td>39.0</td>\n    </tr>\n    <tr>\n      <th>Condado-Campiña</th>\n      <td>9247.0</td>\n      <td>205.0</td>\n      <td>457.0</td>\n      <td>156231.0</td>\n      <td>131.215956</td>\n      <td>292.515570</td>\n      <td>34.0</td>\n    </tr>\n    <tr>\n      <th>Punta Umbría</th>\n      <td>728.0</td>\n      <td>15.0</td>\n      <td>25.0</td>\n      <td>15355.0</td>\n      <td>97.688049</td>\n      <td>162.813416</td>\n      <td>10.0</td>\n    </tr>\n    <tr>\n      <th>Sierra de Huelva-Andévalo Central</th>\n      <td>2584.0</td>\n      <td>34.0</td>\n      <td>67.0</td>\n      <td>67391.0</td>\n      <td>50.451841</td>\n      <td>99.419804</td>\n      <td>8.0</td>\n    </tr>\n    <tr>\n      <th>Almonte</th>\n      <td>1604.0</td>\n      <td>69.0</td>\n      <td>149.0</td>\n      <td>24507.0</td>\n      <td>281.552210</td>\n      <td>607.989554</td>\n      <td>8.0</td>\n    </tr>\n    <tr>\n      <th>Bollullos Par del Condado</th>\n      <td>868.0</td>\n      <td>43.0</td>\n      <td>85.0</td>\n      <td>14387.0</td>\n      <td>298.880934</td>\n      <td>590.811149</td>\n      <td>7.0</td>\n    </tr>\n    <tr>\n      <th>Valverde del Camino</th>\n      <td>487.0</td>\n      <td>12.0</td>\n      <td>21.0</td>\n      <td>12750.0</td>\n      <td>94.117647</td>\n      <td>164.705882</td>\n      <td>5.0</td>\n    </tr>\n    <tr>\n      <th>Niebla</th>\n      <td>200.0</td>\n      <td>5.0</td>\n      <td>8.0</td>\n      <td>4116.0</td>\n      <td>121.477162</td>\n      <td>194.363460</td>\n      <td>4.0</td>\n    </tr>\n    <tr>\n      <th>Lepe</th>\n      <td>2089.0</td>\n      <td>7.0</td>\n      <td>14.0</td>\n      <td>27880.0</td>\n      <td>25.107604</td>\n      <td>50.215208</td>\n      <td>4.0</td>\n    </tr>\n    <tr>\n      <th>Isla Cristina</th>\n      <td>2089.0</td>\n      <td>25.0</td>\n      <td>41.0</td>\n      <td>21393.0</td>\n      <td>116.860655</td>\n      <td>191.651475</td>\n      <td>4.0</td>\n    </tr>\n    <tr>\n      <th>Galaroza</th>\n      <td>35.0</td>\n      <td>8.0</td>\n      <td>8.0</td>\n      <td>1382.0</td>\n      <td>578.871201</td>\n      <td>578.871201</td>\n      <td>3.0</td>\n    </tr>\n    <tr>\n      <th>Moguer</th>\n      <td>1121.0</td>\n      <td>16.0</td>\n      <td>49.0</td>\n      <td>21867.0</td>\n      <td>73.169616</td>\n      <td>224.081950</td>\n      <td>3.0</td>\n    </tr>\n    <tr>\n      <th>Palma del Condado (La)</th>\n      <td>1048.0</td>\n      <td>10.0</td>\n      <td>18.0</td>\n      <td>10801.0</td>\n      <td>92.584020</td>\n      <td>166.651236</td>\n      <td>3.0</td>\n    </tr>\n    <tr>\n      <th>San Juan del Puerto</th>\n      <td>457.0</td>\n      <td>7.0</td>\n      <td>18.0</td>\n      <td>9411.0</td>\n      <td>74.381043</td>\n      <td>191.265540</td>\n      <td>2.0</td>\n    </tr>\n    <tr>\n      <th>Bonares</th>\n      <td>259.0</td>\n      <td>4.0</td>\n      <td>16.0</td>\n      <td>6060.0</td>\n      <td>66.006601</td>\n      <td>264.026403</td>\n      <td>2.0</td>\n    </tr>\n    <tr>\n      <th>Rociana del Condado</th>\n      <td>527.0</td>\n      <td>12.0</td>\n      <td>29.0</td>\n      <td>7939.0</td>\n      <td>151.152538</td>\n      <td>365.285300</td>\n      <td>1.0</td>\n    </tr>\n    <tr>\n      <th>Aljaraque</th>\n      <td>1012.0</td>\n      <td>8.0</td>\n      <td>20.0</td>\n      <td>21474.0</td>\n      <td>37.254354</td>\n      <td>93.135885</td>\n      <td>1.0</td>\n    </tr>\n    <tr>\n      <th>Palos de la Frontera</th>\n      <td>599.0</td>\n      <td>14.0</td>\n      <td>24.0</td>\n      <td>11742.0</td>\n      <td>119.230114</td>\n      <td>204.394481</td>\n      <td>1.0</td>\n    </tr>\n    <tr>\n      <th>Gibraleón</th>\n      <td>594.0</td>\n      <td>7.0</td>\n      <td>13.0</td>\n      <td>12737.0</td>\n      <td>54.957996</td>\n      <td>102.064850</td>\n      <td>1.0</td>\n    </tr>\n    <tr>\n      <th>Cartaya</th>\n      <td>1289.0</td>\n      <td>18.0</td>\n      <td>35.0</td>\n      <td>20083.0</td>\n      <td>89.628044</td>\n      <td>174.276751</td>\n      <td>1.0</td>\n    </tr>\n    <tr>\n      <th>Ayamonte</th>\n      <td>1296.0</td>\n      <td>10.0</td>\n      <td>26.0</td>\n      <td>21104.0</td>\n      <td>47.384382</td>\n      <td>123.199393</td>\n      <td>1.0</td>\n    </tr>\n    <tr>\n      <th>Villablanca</th>\n      <td>183.0</td>\n      <td>3.0</td>\n      <td>3.0</td>\n      <td>2885.0</td>\n      <td>103.986135</td>\n      <td>103.986135</td>\n      <td>1.0</td>\n    </tr>\n    <tr>\n      <th>Villalba del Alcor</th>\n      <td>472.0</td>\n      <td>1.0</td>\n      <td>1.0</td>\n      <td>3366.0</td>\n      <td>29.708853</td>\n      <td>29.708853</td>\n      <td>NaN</td>\n    </tr>\n    <tr>\n      <th>Villarrasa</th>\n      <td>148.0</td>\n      <td>1.0</td>\n      <td>1.0</td>\n      <td>2211.0</td>\n      <td>45.228403</td>\n      <td>45.228403</td>\n      <td>NaN</td>\n    </tr>\n  </tbody>\n</table>\n</div>"
     },
     "metadata": {},
     "execution_count": 15
    }
   ],
   "source": [
    "# Nuevos casos desde la última captura\n",
    "tabla[tabla['Diferencia PDIA'] != 0].sort_values('Diferencia PDIA', ascending=False)"
   ]
  },
  {
   "cell_type": "code",
   "execution_count": 16,
   "metadata": {},
   "outputs": [],
   "source": [
    "if tabla[tabla['Diferencia PDIA'] != 0]['Diferencia PDIA'].sum() != 0:\n",
    "  # Save to csv\n",
    "  tabla.to_csv('covid_huelva.csv', encoding='utf-8', header=True, index=True)  "
   ]
  },
  {
   "cell_type": "code",
   "execution_count": 17,
   "metadata": {},
   "outputs": [
    {
     "output_type": "execute_result",
     "data": {
      "text/plain": [
       "Medida                             Confirmados PDIA  Confirmados PDIA 7 días  \\\n",
       "Lugar de residencia                                                            \n",
       "Cortelazor                                      8.0                      1.0   \n",
       "Almonte                                      1604.0                     69.0   \n",
       "Bollullos Par del Condado                     868.0                     43.0   \n",
       "Galaroza                                       35.0                      8.0   \n",
       "Rociana del Condado                           527.0                     12.0   \n",
       "Condado-Campiña                              9247.0                    205.0   \n",
       "Cumbres de San Bartolomé                       11.0                      1.0   \n",
       "Bonares                                       259.0                      4.0   \n",
       "Moguer                                       1121.0                     16.0   \n",
       "Escacena del Campo                            148.0                      4.0   \n",
       "Santa Ana la Real                              10.0                      1.0   \n",
       "Palos de la Frontera                          599.0                     14.0   \n",
       "Huelva (capital)                             7594.0                    167.0   \n",
       "Niebla                                        200.0                      5.0   \n",
       "Huelva                                      29118.0                    495.0   \n",
       "Isla Cristina                                2089.0                     25.0   \n",
       "San Juan del Puerto                           457.0                      7.0   \n",
       "Beas                                          202.0                      3.0   \n",
       "Rosal de la Frontera                           29.0                      1.0   \n",
       "Cartaya                                      1289.0                     18.0   \n",
       "Nerva                                         162.0                      8.0   \n",
       "Palma del Condado (La)                       1048.0                     10.0   \n",
       "Valverde del Camino                           487.0                     12.0   \n",
       "Punta Umbría                                  728.0                     15.0   \n",
       "Huelva-Costa                                16945.0                    254.0   \n",
       "Cabezas Rubias                                 32.0                      1.0   \n",
       "Trigueros                                     273.0                      6.0   \n",
       "Ayamonte                                     1296.0                     10.0   \n",
       "Cortegana                                     200.0                      1.0   \n",
       "Villablanca                                   183.0                      3.0   \n",
       "Gibraleón                                     594.0                      7.0   \n",
       "Sierra de Huelva-Andévalo Central            2584.0                     34.0   \n",
       "Manzanilla                                     86.0                      1.0   \n",
       "Aljaraque                                    1012.0                      8.0   \n",
       "Aracena                                       513.0                      1.0   \n",
       "Lepe                                         2089.0                      7.0   \n",
       "Villarrasa                                    148.0                      1.0   \n",
       "Villalba del Alcor                            472.0                      1.0   \n",
       "Paterna del Campo                             125.0                      1.0   \n",
       "San Bartolomé de la Torre                     283.0                      1.0   \n",
       "\n",
       "Medida                             Confirmados PDIA 14 días  Población  \\\n",
       "Lugar de residencia                                                      \n",
       "Cortelazor                                              3.0      299.0   \n",
       "Almonte                                               149.0    24507.0   \n",
       "Bollullos Par del Condado                              85.0    14387.0   \n",
       "Galaroza                                                8.0     1382.0   \n",
       "Rociana del Condado                                    29.0     7939.0   \n",
       "Condado-Campiña                                       457.0   156231.0   \n",
       "Cumbres de San Bartolomé                                1.0      376.0   \n",
       "Bonares                                                16.0     6060.0   \n",
       "Moguer                                                 49.0    21867.0   \n",
       "Escacena del Campo                                      5.0     2287.0   \n",
       "Santa Ana la Real                                       1.0      475.0   \n",
       "Palos de la Frontera                                   24.0    11742.0   \n",
       "Huelva (capital)                                      291.0   143837.0   \n",
       "Niebla                                                  8.0     4116.0   \n",
       "Huelva                                                990.0   513170.0   \n",
       "Isla Cristina                                          41.0    21393.0   \n",
       "San Juan del Puerto                                    18.0     9411.0   \n",
       "Beas                                                    8.0     4341.0   \n",
       "Rosal de la Frontera                                    3.0     1697.0   \n",
       "Cartaya                                                35.0    20083.0   \n",
       "Nerva                                                   9.0     5169.0   \n",
       "Palma del Condado (La)                                 18.0    10801.0   \n",
       "Valverde del Camino                                    21.0    12750.0   \n",
       "Punta Umbría                                           25.0    15355.0   \n",
       "Huelva-Costa                                          457.0   289548.0   \n",
       "Cabezas Rubias                                          1.0      706.0   \n",
       "Trigueros                                              11.0     7862.0   \n",
       "Ayamonte                                               26.0    21104.0   \n",
       "Cortegana                                               5.0     4602.0   \n",
       "Villablanca                                             3.0     2885.0   \n",
       "Gibraleón                                              13.0    12737.0   \n",
       "Sierra de Huelva-Andévalo Central                      67.0    67391.0   \n",
       "Manzanilla                                              2.0     2118.0   \n",
       "Aljaraque                                              20.0    21474.0   \n",
       "Aracena                                                 6.0     8255.0   \n",
       "Lepe                                                   14.0    27880.0   \n",
       "Villarrasa                                              1.0     2211.0   \n",
       "Villalba del Alcor                                      1.0     3366.0   \n",
       "Paterna del Campo                                       1.0     3457.0   \n",
       "San Bartolomé de la Torre                               1.0     3761.0   \n",
       "\n",
       "Medida                                  tasa7       tasa14  Diferencia PDIA  \n",
       "Lugar de residencia                                                          \n",
       "Cortelazor                         334.448161  1003.344482              0.0  \n",
       "Almonte                            281.552210   607.989554              8.0  \n",
       "Bollullos Par del Condado          298.880934   590.811149              7.0  \n",
       "Galaroza                           578.871201   578.871201              3.0  \n",
       "Rociana del Condado                151.152538   365.285300              1.0  \n",
       "Condado-Campiña                    131.215956   292.515570             34.0  \n",
       "Cumbres de San Bartolomé           265.957447   265.957447              0.0  \n",
       "Bonares                             66.006601   264.026403              2.0  \n",
       "Moguer                              73.169616   224.081950              3.0  \n",
       "Escacena del Campo                 174.901618   218.627022              0.0  \n",
       "Santa Ana la Real                  210.526316   210.526316              0.0  \n",
       "Palos de la Frontera               119.230114   204.394481              1.0  \n",
       "Huelva (capital)                   116.103645   202.312340             39.0  \n",
       "Niebla                             121.477162   194.363460              4.0  \n",
       "Huelva                              96.459263   192.918526            101.0  \n",
       "Isla Cristina                      116.860655   191.651475              4.0  \n",
       "San Juan del Puerto                 74.381043   191.265540              2.0  \n",
       "Beas                                69.108500   184.289334              0.0  \n",
       "Rosal de la Frontera                58.927519   176.782557              0.0  \n",
       "Cartaya                             89.628044   174.276751              1.0  \n",
       "Nerva                              154.768814   174.114916              0.0  \n",
       "Palma del Condado (La)              92.584020   166.651236              3.0  \n",
       "Valverde del Camino                 94.117647   164.705882              5.0  \n",
       "Punta Umbría                        97.688049   162.813416             10.0  \n",
       "Huelva-Costa                        87.722934   157.832207             61.0  \n",
       "Cabezas Rubias                     141.643059   141.643059              0.0  \n",
       "Trigueros                           76.316459   139.913508              0.0  \n",
       "Ayamonte                            47.384382   123.199393              1.0  \n",
       "Cortegana                           21.729683   108.648414              0.0  \n",
       "Villablanca                        103.986135   103.986135              1.0  \n",
       "Gibraleón                           54.957996   102.064850              1.0  \n",
       "Sierra de Huelva-Andévalo Central   50.451841    99.419804              8.0  \n",
       "Manzanilla                          47.214353    94.428706              0.0  \n",
       "Aljaraque                           37.254354    93.135885              1.0  \n",
       "Aracena                             12.113870    72.683222              0.0  \n",
       "Lepe                                25.107604    50.215208              4.0  \n",
       "Villarrasa                          45.228403    45.228403              NaN  \n",
       "Villalba del Alcor                  29.708853    29.708853              NaN  \n",
       "Paterna del Campo                   28.926815    28.926815              0.0  \n",
       "San Bartolomé de la Torre           26.588673    26.588673              0.0  "
      ],
      "text/html": "<div>\n<style scoped>\n    .dataframe tbody tr th:only-of-type {\n        vertical-align: middle;\n    }\n\n    .dataframe tbody tr th {\n        vertical-align: top;\n    }\n\n    .dataframe thead th {\n        text-align: right;\n    }\n</style>\n<table border=\"1\" class=\"dataframe\">\n  <thead>\n    <tr style=\"text-align: right;\">\n      <th>Medida</th>\n      <th>Confirmados PDIA</th>\n      <th>Confirmados PDIA 7 días</th>\n      <th>Confirmados PDIA 14 días</th>\n      <th>Población</th>\n      <th>tasa7</th>\n      <th>tasa14</th>\n      <th>Diferencia PDIA</th>\n    </tr>\n    <tr>\n      <th>Lugar de residencia</th>\n      <th></th>\n      <th></th>\n      <th></th>\n      <th></th>\n      <th></th>\n      <th></th>\n      <th></th>\n    </tr>\n  </thead>\n  <tbody>\n    <tr>\n      <th>Cortelazor</th>\n      <td>8.0</td>\n      <td>1.0</td>\n      <td>3.0</td>\n      <td>299.0</td>\n      <td>334.448161</td>\n      <td>1003.344482</td>\n      <td>0.0</td>\n    </tr>\n    <tr>\n      <th>Almonte</th>\n      <td>1604.0</td>\n      <td>69.0</td>\n      <td>149.0</td>\n      <td>24507.0</td>\n      <td>281.552210</td>\n      <td>607.989554</td>\n      <td>8.0</td>\n    </tr>\n    <tr>\n      <th>Bollullos Par del Condado</th>\n      <td>868.0</td>\n      <td>43.0</td>\n      <td>85.0</td>\n      <td>14387.0</td>\n      <td>298.880934</td>\n      <td>590.811149</td>\n      <td>7.0</td>\n    </tr>\n    <tr>\n      <th>Galaroza</th>\n      <td>35.0</td>\n      <td>8.0</td>\n      <td>8.0</td>\n      <td>1382.0</td>\n      <td>578.871201</td>\n      <td>578.871201</td>\n      <td>3.0</td>\n    </tr>\n    <tr>\n      <th>Rociana del Condado</th>\n      <td>527.0</td>\n      <td>12.0</td>\n      <td>29.0</td>\n      <td>7939.0</td>\n      <td>151.152538</td>\n      <td>365.285300</td>\n      <td>1.0</td>\n    </tr>\n    <tr>\n      <th>Condado-Campiña</th>\n      <td>9247.0</td>\n      <td>205.0</td>\n      <td>457.0</td>\n      <td>156231.0</td>\n      <td>131.215956</td>\n      <td>292.515570</td>\n      <td>34.0</td>\n    </tr>\n    <tr>\n      <th>Cumbres de San Bartolomé</th>\n      <td>11.0</td>\n      <td>1.0</td>\n      <td>1.0</td>\n      <td>376.0</td>\n      <td>265.957447</td>\n      <td>265.957447</td>\n      <td>0.0</td>\n    </tr>\n    <tr>\n      <th>Bonares</th>\n      <td>259.0</td>\n      <td>4.0</td>\n      <td>16.0</td>\n      <td>6060.0</td>\n      <td>66.006601</td>\n      <td>264.026403</td>\n      <td>2.0</td>\n    </tr>\n    <tr>\n      <th>Moguer</th>\n      <td>1121.0</td>\n      <td>16.0</td>\n      <td>49.0</td>\n      <td>21867.0</td>\n      <td>73.169616</td>\n      <td>224.081950</td>\n      <td>3.0</td>\n    </tr>\n    <tr>\n      <th>Escacena del Campo</th>\n      <td>148.0</td>\n      <td>4.0</td>\n      <td>5.0</td>\n      <td>2287.0</td>\n      <td>174.901618</td>\n      <td>218.627022</td>\n      <td>0.0</td>\n    </tr>\n    <tr>\n      <th>Santa Ana la Real</th>\n      <td>10.0</td>\n      <td>1.0</td>\n      <td>1.0</td>\n      <td>475.0</td>\n      <td>210.526316</td>\n      <td>210.526316</td>\n      <td>0.0</td>\n    </tr>\n    <tr>\n      <th>Palos de la Frontera</th>\n      <td>599.0</td>\n      <td>14.0</td>\n      <td>24.0</td>\n      <td>11742.0</td>\n      <td>119.230114</td>\n      <td>204.394481</td>\n      <td>1.0</td>\n    </tr>\n    <tr>\n      <th>Huelva (capital)</th>\n      <td>7594.0</td>\n      <td>167.0</td>\n      <td>291.0</td>\n      <td>143837.0</td>\n      <td>116.103645</td>\n      <td>202.312340</td>\n      <td>39.0</td>\n    </tr>\n    <tr>\n      <th>Niebla</th>\n      <td>200.0</td>\n      <td>5.0</td>\n      <td>8.0</td>\n      <td>4116.0</td>\n      <td>121.477162</td>\n      <td>194.363460</td>\n      <td>4.0</td>\n    </tr>\n    <tr>\n      <th>Huelva</th>\n      <td>29118.0</td>\n      <td>495.0</td>\n      <td>990.0</td>\n      <td>513170.0</td>\n      <td>96.459263</td>\n      <td>192.918526</td>\n      <td>101.0</td>\n    </tr>\n    <tr>\n      <th>Isla Cristina</th>\n      <td>2089.0</td>\n      <td>25.0</td>\n      <td>41.0</td>\n      <td>21393.0</td>\n      <td>116.860655</td>\n      <td>191.651475</td>\n      <td>4.0</td>\n    </tr>\n    <tr>\n      <th>San Juan del Puerto</th>\n      <td>457.0</td>\n      <td>7.0</td>\n      <td>18.0</td>\n      <td>9411.0</td>\n      <td>74.381043</td>\n      <td>191.265540</td>\n      <td>2.0</td>\n    </tr>\n    <tr>\n      <th>Beas</th>\n      <td>202.0</td>\n      <td>3.0</td>\n      <td>8.0</td>\n      <td>4341.0</td>\n      <td>69.108500</td>\n      <td>184.289334</td>\n      <td>0.0</td>\n    </tr>\n    <tr>\n      <th>Rosal de la Frontera</th>\n      <td>29.0</td>\n      <td>1.0</td>\n      <td>3.0</td>\n      <td>1697.0</td>\n      <td>58.927519</td>\n      <td>176.782557</td>\n      <td>0.0</td>\n    </tr>\n    <tr>\n      <th>Cartaya</th>\n      <td>1289.0</td>\n      <td>18.0</td>\n      <td>35.0</td>\n      <td>20083.0</td>\n      <td>89.628044</td>\n      <td>174.276751</td>\n      <td>1.0</td>\n    </tr>\n    <tr>\n      <th>Nerva</th>\n      <td>162.0</td>\n      <td>8.0</td>\n      <td>9.0</td>\n      <td>5169.0</td>\n      <td>154.768814</td>\n      <td>174.114916</td>\n      <td>0.0</td>\n    </tr>\n    <tr>\n      <th>Palma del Condado (La)</th>\n      <td>1048.0</td>\n      <td>10.0</td>\n      <td>18.0</td>\n      <td>10801.0</td>\n      <td>92.584020</td>\n      <td>166.651236</td>\n      <td>3.0</td>\n    </tr>\n    <tr>\n      <th>Valverde del Camino</th>\n      <td>487.0</td>\n      <td>12.0</td>\n      <td>21.0</td>\n      <td>12750.0</td>\n      <td>94.117647</td>\n      <td>164.705882</td>\n      <td>5.0</td>\n    </tr>\n    <tr>\n      <th>Punta Umbría</th>\n      <td>728.0</td>\n      <td>15.0</td>\n      <td>25.0</td>\n      <td>15355.0</td>\n      <td>97.688049</td>\n      <td>162.813416</td>\n      <td>10.0</td>\n    </tr>\n    <tr>\n      <th>Huelva-Costa</th>\n      <td>16945.0</td>\n      <td>254.0</td>\n      <td>457.0</td>\n      <td>289548.0</td>\n      <td>87.722934</td>\n      <td>157.832207</td>\n      <td>61.0</td>\n    </tr>\n    <tr>\n      <th>Cabezas Rubias</th>\n      <td>32.0</td>\n      <td>1.0</td>\n      <td>1.0</td>\n      <td>706.0</td>\n      <td>141.643059</td>\n      <td>141.643059</td>\n      <td>0.0</td>\n    </tr>\n    <tr>\n      <th>Trigueros</th>\n      <td>273.0</td>\n      <td>6.0</td>\n      <td>11.0</td>\n      <td>7862.0</td>\n      <td>76.316459</td>\n      <td>139.913508</td>\n      <td>0.0</td>\n    </tr>\n    <tr>\n      <th>Ayamonte</th>\n      <td>1296.0</td>\n      <td>10.0</td>\n      <td>26.0</td>\n      <td>21104.0</td>\n      <td>47.384382</td>\n      <td>123.199393</td>\n      <td>1.0</td>\n    </tr>\n    <tr>\n      <th>Cortegana</th>\n      <td>200.0</td>\n      <td>1.0</td>\n      <td>5.0</td>\n      <td>4602.0</td>\n      <td>21.729683</td>\n      <td>108.648414</td>\n      <td>0.0</td>\n    </tr>\n    <tr>\n      <th>Villablanca</th>\n      <td>183.0</td>\n      <td>3.0</td>\n      <td>3.0</td>\n      <td>2885.0</td>\n      <td>103.986135</td>\n      <td>103.986135</td>\n      <td>1.0</td>\n    </tr>\n    <tr>\n      <th>Gibraleón</th>\n      <td>594.0</td>\n      <td>7.0</td>\n      <td>13.0</td>\n      <td>12737.0</td>\n      <td>54.957996</td>\n      <td>102.064850</td>\n      <td>1.0</td>\n    </tr>\n    <tr>\n      <th>Sierra de Huelva-Andévalo Central</th>\n      <td>2584.0</td>\n      <td>34.0</td>\n      <td>67.0</td>\n      <td>67391.0</td>\n      <td>50.451841</td>\n      <td>99.419804</td>\n      <td>8.0</td>\n    </tr>\n    <tr>\n      <th>Manzanilla</th>\n      <td>86.0</td>\n      <td>1.0</td>\n      <td>2.0</td>\n      <td>2118.0</td>\n      <td>47.214353</td>\n      <td>94.428706</td>\n      <td>0.0</td>\n    </tr>\n    <tr>\n      <th>Aljaraque</th>\n      <td>1012.0</td>\n      <td>8.0</td>\n      <td>20.0</td>\n      <td>21474.0</td>\n      <td>37.254354</td>\n      <td>93.135885</td>\n      <td>1.0</td>\n    </tr>\n    <tr>\n      <th>Aracena</th>\n      <td>513.0</td>\n      <td>1.0</td>\n      <td>6.0</td>\n      <td>8255.0</td>\n      <td>12.113870</td>\n      <td>72.683222</td>\n      <td>0.0</td>\n    </tr>\n    <tr>\n      <th>Lepe</th>\n      <td>2089.0</td>\n      <td>7.0</td>\n      <td>14.0</td>\n      <td>27880.0</td>\n      <td>25.107604</td>\n      <td>50.215208</td>\n      <td>4.0</td>\n    </tr>\n    <tr>\n      <th>Villarrasa</th>\n      <td>148.0</td>\n      <td>1.0</td>\n      <td>1.0</td>\n      <td>2211.0</td>\n      <td>45.228403</td>\n      <td>45.228403</td>\n      <td>NaN</td>\n    </tr>\n    <tr>\n      <th>Villalba del Alcor</th>\n      <td>472.0</td>\n      <td>1.0</td>\n      <td>1.0</td>\n      <td>3366.0</td>\n      <td>29.708853</td>\n      <td>29.708853</td>\n      <td>NaN</td>\n    </tr>\n    <tr>\n      <th>Paterna del Campo</th>\n      <td>125.0</td>\n      <td>1.0</td>\n      <td>1.0</td>\n      <td>3457.0</td>\n      <td>28.926815</td>\n      <td>28.926815</td>\n      <td>0.0</td>\n    </tr>\n    <tr>\n      <th>San Bartolomé de la Torre</th>\n      <td>283.0</td>\n      <td>1.0</td>\n      <td>1.0</td>\n      <td>3761.0</td>\n      <td>26.588673</td>\n      <td>26.588673</td>\n      <td>0.0</td>\n    </tr>\n  </tbody>\n</table>\n</div>"
     },
     "metadata": {},
     "execution_count": 17
    }
   ],
   "source": [
    "tabla.sort_values('tasa14', ascending=False)"
   ]
  },
  {
   "cell_type": "code",
   "execution_count": 18,
   "metadata": {},
   "outputs": [
    {
     "output_type": "execute_result",
     "data": {
      "text/plain": [
       "Medida                             Confirmados PDIA  Confirmados PDIA 7 días  \\\n",
       "Lugar de residencia                                                            \n",
       "Aracena                                       513.0                      1.0   \n",
       "Cortegana                                     200.0                      1.0   \n",
       "Bonares                                       259.0                      4.0   \n",
       "Moguer                                       1121.0                     16.0   \n",
       "Cortelazor                                      8.0                      1.0   \n",
       "Rosal de la Frontera                           29.0                      1.0   \n",
       "Beas                                          202.0                      3.0   \n",
       "Ayamonte                                     1296.0                     10.0   \n",
       "San Juan del Puerto                           457.0                      7.0   \n",
       "Aljaraque                                    1012.0                      8.0   \n",
       "Rociana del Condado                           527.0                     12.0   \n",
       "Condado-Campiña                              9247.0                    205.0   \n",
       "Almonte                                      1604.0                     69.0   \n",
       "Manzanilla                                     86.0                      1.0   \n",
       "Lepe                                         2089.0                      7.0   \n",
       "Huelva                                      29118.0                    495.0   \n",
       "Bollullos Par del Condado                     868.0                     43.0   \n",
       "Sierra de Huelva-Andévalo Central            2584.0                     34.0   \n",
       "Cartaya                                      1289.0                     18.0   \n",
       "Gibraleón                                     594.0                      7.0   \n",
       "Trigueros                                     273.0                      6.0   \n",
       "Palma del Condado (La)                       1048.0                     10.0   \n",
       "Huelva-Costa                                16945.0                    254.0   \n",
       "Valverde del Camino                           487.0                     12.0   \n",
       "Huelva (capital)                             7594.0                    167.0   \n",
       "Palos de la Frontera                          599.0                     14.0   \n",
       "Punta Umbría                                  728.0                     15.0   \n",
       "Isla Cristina                                2089.0                     25.0   \n",
       "Niebla                                        200.0                      5.0   \n",
       "Escacena del Campo                            148.0                      4.0   \n",
       "Nerva                                         162.0                      8.0   \n",
       "Villalba del Alcor                            472.0                      1.0   \n",
       "San Bartolomé de la Torre                     283.0                      1.0   \n",
       "Galaroza                                       35.0                      8.0   \n",
       "Santa Ana la Real                              10.0                      1.0   \n",
       "Cumbres de San Bartolomé                       11.0                      1.0   \n",
       "Cabezas Rubias                                 32.0                      1.0   \n",
       "Villablanca                                   183.0                      3.0   \n",
       "Paterna del Campo                             125.0                      1.0   \n",
       "Villarrasa                                    148.0                      1.0   \n",
       "\n",
       "Medida                             Confirmados PDIA 14 días  Población  \\\n",
       "Lugar de residencia                                                      \n",
       "Aracena                                                 6.0     8255.0   \n",
       "Cortegana                                               5.0     4602.0   \n",
       "Bonares                                                16.0     6060.0   \n",
       "Moguer                                                 49.0    21867.0   \n",
       "Cortelazor                                              3.0      299.0   \n",
       "Rosal de la Frontera                                    3.0     1697.0   \n",
       "Beas                                                    8.0     4341.0   \n",
       "Ayamonte                                               26.0    21104.0   \n",
       "San Juan del Puerto                                    18.0     9411.0   \n",
       "Aljaraque                                              20.0    21474.0   \n",
       "Rociana del Condado                                    29.0     7939.0   \n",
       "Condado-Campiña                                       457.0   156231.0   \n",
       "Almonte                                               149.0    24507.0   \n",
       "Manzanilla                                              2.0     2118.0   \n",
       "Lepe                                                   14.0    27880.0   \n",
       "Huelva                                                990.0   513170.0   \n",
       "Bollullos Par del Condado                              85.0    14387.0   \n",
       "Sierra de Huelva-Andévalo Central                      67.0    67391.0   \n",
       "Cartaya                                                35.0    20083.0   \n",
       "Gibraleón                                              13.0    12737.0   \n",
       "Trigueros                                              11.0     7862.0   \n",
       "Palma del Condado (La)                                 18.0    10801.0   \n",
       "Huelva-Costa                                          457.0   289548.0   \n",
       "Valverde del Camino                                    21.0    12750.0   \n",
       "Huelva (capital)                                      291.0   143837.0   \n",
       "Palos de la Frontera                                   24.0    11742.0   \n",
       "Punta Umbría                                           25.0    15355.0   \n",
       "Isla Cristina                                          41.0    21393.0   \n",
       "Niebla                                                  8.0     4116.0   \n",
       "Escacena del Campo                                      5.0     2287.0   \n",
       "Nerva                                                   9.0     5169.0   \n",
       "Villalba del Alcor                                      1.0     3366.0   \n",
       "San Bartolomé de la Torre                               1.0     3761.0   \n",
       "Galaroza                                                8.0     1382.0   \n",
       "Santa Ana la Real                                       1.0      475.0   \n",
       "Cumbres de San Bartolomé                                1.0      376.0   \n",
       "Cabezas Rubias                                          1.0      706.0   \n",
       "Villablanca                                             3.0     2885.0   \n",
       "Paterna del Campo                                       1.0     3457.0   \n",
       "Villarrasa                                              1.0     2211.0   \n",
       "\n",
       "Medida                                  tasa7       tasa14  Diferencia PDIA  \\\n",
       "Lugar de residencia                                                           \n",
       "Aracena                             12.113870    72.683222              0.0   \n",
       "Cortegana                           21.729683   108.648414              0.0   \n",
       "Bonares                             66.006601   264.026403              2.0   \n",
       "Moguer                              73.169616   224.081950              3.0   \n",
       "Cortelazor                         334.448161  1003.344482              0.0   \n",
       "Rosal de la Frontera                58.927519   176.782557              0.0   \n",
       "Beas                                69.108500   184.289334              0.0   \n",
       "Ayamonte                            47.384382   123.199393              1.0   \n",
       "San Juan del Puerto                 74.381043   191.265540              2.0   \n",
       "Aljaraque                           37.254354    93.135885              1.0   \n",
       "Rociana del Condado                151.152538   365.285300              1.0   \n",
       "Condado-Campiña                    131.215956   292.515570             34.0   \n",
       "Almonte                            281.552210   607.989554              8.0   \n",
       "Manzanilla                          47.214353    94.428706              0.0   \n",
       "Lepe                                25.107604    50.215208              4.0   \n",
       "Huelva                              96.459263   192.918526            101.0   \n",
       "Bollullos Par del Condado          298.880934   590.811149              7.0   \n",
       "Sierra de Huelva-Andévalo Central   50.451841    99.419804              8.0   \n",
       "Cartaya                             89.628044   174.276751              1.0   \n",
       "Gibraleón                           54.957996   102.064850              1.0   \n",
       "Trigueros                           76.316459   139.913508              0.0   \n",
       "Palma del Condado (La)              92.584020   166.651236              3.0   \n",
       "Huelva-Costa                        87.722934   157.832207             61.0   \n",
       "Valverde del Camino                 94.117647   164.705882              5.0   \n",
       "Huelva (capital)                   116.103645   202.312340             39.0   \n",
       "Palos de la Frontera               119.230114   204.394481              1.0   \n",
       "Punta Umbría                        97.688049   162.813416             10.0   \n",
       "Isla Cristina                      116.860655   191.651475              4.0   \n",
       "Niebla                             121.477162   194.363460              4.0   \n",
       "Escacena del Campo                 174.901618   218.627022              0.0   \n",
       "Nerva                              154.768814   174.114916              0.0   \n",
       "Villalba del Alcor                  29.708853    29.708853              0.0   \n",
       "San Bartolomé de la Torre           26.588673    26.588673              0.0   \n",
       "Galaroza                           578.871201   578.871201              3.0   \n",
       "Santa Ana la Real                  210.526316   210.526316              0.0   \n",
       "Cumbres de San Bartolomé           265.957447   265.957447              0.0   \n",
       "Cabezas Rubias                     141.643059   141.643059              0.0   \n",
       "Villablanca                        103.986135   103.986135              1.0   \n",
       "Paterna del Campo                   28.926815    28.926815              0.0   \n",
       "Villarrasa                          45.228403    45.228403              0.0   \n",
       "\n",
       "Medida                                 7/14  \n",
       "Lugar de residencia                          \n",
       "Aracena                            0.166667  \n",
       "Cortegana                          0.200000  \n",
       "Bonares                            0.250000  \n",
       "Moguer                             0.326531  \n",
       "Cortelazor                         0.333333  \n",
       "Rosal de la Frontera               0.333333  \n",
       "Beas                               0.375000  \n",
       "Ayamonte                           0.384615  \n",
       "San Juan del Puerto                0.388889  \n",
       "Aljaraque                          0.400000  \n",
       "Rociana del Condado                0.413793  \n",
       "Condado-Campiña                    0.448578  \n",
       "Almonte                            0.463087  \n",
       "Manzanilla                         0.500000  \n",
       "Lepe                               0.500000  \n",
       "Huelva                             0.500000  \n",
       "Bollullos Par del Condado          0.505882  \n",
       "Sierra de Huelva-Andévalo Central  0.507463  \n",
       "Cartaya                            0.514286  \n",
       "Gibraleón                          0.538462  \n",
       "Trigueros                          0.545455  \n",
       "Palma del Condado (La)             0.555556  \n",
       "Huelva-Costa                       0.555799  \n",
       "Valverde del Camino                0.571429  \n",
       "Huelva (capital)                   0.573883  \n",
       "Palos de la Frontera               0.583333  \n",
       "Punta Umbría                       0.600000  \n",
       "Isla Cristina                      0.609756  \n",
       "Niebla                             0.625000  \n",
       "Escacena del Campo                 0.800000  \n",
       "Nerva                              0.888889  \n",
       "Villalba del Alcor                 1.000000  \n",
       "San Bartolomé de la Torre          1.000000  \n",
       "Galaroza                           1.000000  \n",
       "Santa Ana la Real                  1.000000  \n",
       "Cumbres de San Bartolomé           1.000000  \n",
       "Cabezas Rubias                     1.000000  \n",
       "Villablanca                        1.000000  \n",
       "Paterna del Campo                  1.000000  \n",
       "Villarrasa                         1.000000  "
      ],
      "text/html": "<div>\n<style scoped>\n    .dataframe tbody tr th:only-of-type {\n        vertical-align: middle;\n    }\n\n    .dataframe tbody tr th {\n        vertical-align: top;\n    }\n\n    .dataframe thead th {\n        text-align: right;\n    }\n</style>\n<table border=\"1\" class=\"dataframe\">\n  <thead>\n    <tr style=\"text-align: right;\">\n      <th>Medida</th>\n      <th>Confirmados PDIA</th>\n      <th>Confirmados PDIA 7 días</th>\n      <th>Confirmados PDIA 14 días</th>\n      <th>Población</th>\n      <th>tasa7</th>\n      <th>tasa14</th>\n      <th>Diferencia PDIA</th>\n      <th>7/14</th>\n    </tr>\n    <tr>\n      <th>Lugar de residencia</th>\n      <th></th>\n      <th></th>\n      <th></th>\n      <th></th>\n      <th></th>\n      <th></th>\n      <th></th>\n      <th></th>\n    </tr>\n  </thead>\n  <tbody>\n    <tr>\n      <th>Aracena</th>\n      <td>513.0</td>\n      <td>1.0</td>\n      <td>6.0</td>\n      <td>8255.0</td>\n      <td>12.113870</td>\n      <td>72.683222</td>\n      <td>0.0</td>\n      <td>0.166667</td>\n    </tr>\n    <tr>\n      <th>Cortegana</th>\n      <td>200.0</td>\n      <td>1.0</td>\n      <td>5.0</td>\n      <td>4602.0</td>\n      <td>21.729683</td>\n      <td>108.648414</td>\n      <td>0.0</td>\n      <td>0.200000</td>\n    </tr>\n    <tr>\n      <th>Bonares</th>\n      <td>259.0</td>\n      <td>4.0</td>\n      <td>16.0</td>\n      <td>6060.0</td>\n      <td>66.006601</td>\n      <td>264.026403</td>\n      <td>2.0</td>\n      <td>0.250000</td>\n    </tr>\n    <tr>\n      <th>Moguer</th>\n      <td>1121.0</td>\n      <td>16.0</td>\n      <td>49.0</td>\n      <td>21867.0</td>\n      <td>73.169616</td>\n      <td>224.081950</td>\n      <td>3.0</td>\n      <td>0.326531</td>\n    </tr>\n    <tr>\n      <th>Cortelazor</th>\n      <td>8.0</td>\n      <td>1.0</td>\n      <td>3.0</td>\n      <td>299.0</td>\n      <td>334.448161</td>\n      <td>1003.344482</td>\n      <td>0.0</td>\n      <td>0.333333</td>\n    </tr>\n    <tr>\n      <th>Rosal de la Frontera</th>\n      <td>29.0</td>\n      <td>1.0</td>\n      <td>3.0</td>\n      <td>1697.0</td>\n      <td>58.927519</td>\n      <td>176.782557</td>\n      <td>0.0</td>\n      <td>0.333333</td>\n    </tr>\n    <tr>\n      <th>Beas</th>\n      <td>202.0</td>\n      <td>3.0</td>\n      <td>8.0</td>\n      <td>4341.0</td>\n      <td>69.108500</td>\n      <td>184.289334</td>\n      <td>0.0</td>\n      <td>0.375000</td>\n    </tr>\n    <tr>\n      <th>Ayamonte</th>\n      <td>1296.0</td>\n      <td>10.0</td>\n      <td>26.0</td>\n      <td>21104.0</td>\n      <td>47.384382</td>\n      <td>123.199393</td>\n      <td>1.0</td>\n      <td>0.384615</td>\n    </tr>\n    <tr>\n      <th>San Juan del Puerto</th>\n      <td>457.0</td>\n      <td>7.0</td>\n      <td>18.0</td>\n      <td>9411.0</td>\n      <td>74.381043</td>\n      <td>191.265540</td>\n      <td>2.0</td>\n      <td>0.388889</td>\n    </tr>\n    <tr>\n      <th>Aljaraque</th>\n      <td>1012.0</td>\n      <td>8.0</td>\n      <td>20.0</td>\n      <td>21474.0</td>\n      <td>37.254354</td>\n      <td>93.135885</td>\n      <td>1.0</td>\n      <td>0.400000</td>\n    </tr>\n    <tr>\n      <th>Rociana del Condado</th>\n      <td>527.0</td>\n      <td>12.0</td>\n      <td>29.0</td>\n      <td>7939.0</td>\n      <td>151.152538</td>\n      <td>365.285300</td>\n      <td>1.0</td>\n      <td>0.413793</td>\n    </tr>\n    <tr>\n      <th>Condado-Campiña</th>\n      <td>9247.0</td>\n      <td>205.0</td>\n      <td>457.0</td>\n      <td>156231.0</td>\n      <td>131.215956</td>\n      <td>292.515570</td>\n      <td>34.0</td>\n      <td>0.448578</td>\n    </tr>\n    <tr>\n      <th>Almonte</th>\n      <td>1604.0</td>\n      <td>69.0</td>\n      <td>149.0</td>\n      <td>24507.0</td>\n      <td>281.552210</td>\n      <td>607.989554</td>\n      <td>8.0</td>\n      <td>0.463087</td>\n    </tr>\n    <tr>\n      <th>Manzanilla</th>\n      <td>86.0</td>\n      <td>1.0</td>\n      <td>2.0</td>\n      <td>2118.0</td>\n      <td>47.214353</td>\n      <td>94.428706</td>\n      <td>0.0</td>\n      <td>0.500000</td>\n    </tr>\n    <tr>\n      <th>Lepe</th>\n      <td>2089.0</td>\n      <td>7.0</td>\n      <td>14.0</td>\n      <td>27880.0</td>\n      <td>25.107604</td>\n      <td>50.215208</td>\n      <td>4.0</td>\n      <td>0.500000</td>\n    </tr>\n    <tr>\n      <th>Huelva</th>\n      <td>29118.0</td>\n      <td>495.0</td>\n      <td>990.0</td>\n      <td>513170.0</td>\n      <td>96.459263</td>\n      <td>192.918526</td>\n      <td>101.0</td>\n      <td>0.500000</td>\n    </tr>\n    <tr>\n      <th>Bollullos Par del Condado</th>\n      <td>868.0</td>\n      <td>43.0</td>\n      <td>85.0</td>\n      <td>14387.0</td>\n      <td>298.880934</td>\n      <td>590.811149</td>\n      <td>7.0</td>\n      <td>0.505882</td>\n    </tr>\n    <tr>\n      <th>Sierra de Huelva-Andévalo Central</th>\n      <td>2584.0</td>\n      <td>34.0</td>\n      <td>67.0</td>\n      <td>67391.0</td>\n      <td>50.451841</td>\n      <td>99.419804</td>\n      <td>8.0</td>\n      <td>0.507463</td>\n    </tr>\n    <tr>\n      <th>Cartaya</th>\n      <td>1289.0</td>\n      <td>18.0</td>\n      <td>35.0</td>\n      <td>20083.0</td>\n      <td>89.628044</td>\n      <td>174.276751</td>\n      <td>1.0</td>\n      <td>0.514286</td>\n    </tr>\n    <tr>\n      <th>Gibraleón</th>\n      <td>594.0</td>\n      <td>7.0</td>\n      <td>13.0</td>\n      <td>12737.0</td>\n      <td>54.957996</td>\n      <td>102.064850</td>\n      <td>1.0</td>\n      <td>0.538462</td>\n    </tr>\n    <tr>\n      <th>Trigueros</th>\n      <td>273.0</td>\n      <td>6.0</td>\n      <td>11.0</td>\n      <td>7862.0</td>\n      <td>76.316459</td>\n      <td>139.913508</td>\n      <td>0.0</td>\n      <td>0.545455</td>\n    </tr>\n    <tr>\n      <th>Palma del Condado (La)</th>\n      <td>1048.0</td>\n      <td>10.0</td>\n      <td>18.0</td>\n      <td>10801.0</td>\n      <td>92.584020</td>\n      <td>166.651236</td>\n      <td>3.0</td>\n      <td>0.555556</td>\n    </tr>\n    <tr>\n      <th>Huelva-Costa</th>\n      <td>16945.0</td>\n      <td>254.0</td>\n      <td>457.0</td>\n      <td>289548.0</td>\n      <td>87.722934</td>\n      <td>157.832207</td>\n      <td>61.0</td>\n      <td>0.555799</td>\n    </tr>\n    <tr>\n      <th>Valverde del Camino</th>\n      <td>487.0</td>\n      <td>12.0</td>\n      <td>21.0</td>\n      <td>12750.0</td>\n      <td>94.117647</td>\n      <td>164.705882</td>\n      <td>5.0</td>\n      <td>0.571429</td>\n    </tr>\n    <tr>\n      <th>Huelva (capital)</th>\n      <td>7594.0</td>\n      <td>167.0</td>\n      <td>291.0</td>\n      <td>143837.0</td>\n      <td>116.103645</td>\n      <td>202.312340</td>\n      <td>39.0</td>\n      <td>0.573883</td>\n    </tr>\n    <tr>\n      <th>Palos de la Frontera</th>\n      <td>599.0</td>\n      <td>14.0</td>\n      <td>24.0</td>\n      <td>11742.0</td>\n      <td>119.230114</td>\n      <td>204.394481</td>\n      <td>1.0</td>\n      <td>0.583333</td>\n    </tr>\n    <tr>\n      <th>Punta Umbría</th>\n      <td>728.0</td>\n      <td>15.0</td>\n      <td>25.0</td>\n      <td>15355.0</td>\n      <td>97.688049</td>\n      <td>162.813416</td>\n      <td>10.0</td>\n      <td>0.600000</td>\n    </tr>\n    <tr>\n      <th>Isla Cristina</th>\n      <td>2089.0</td>\n      <td>25.0</td>\n      <td>41.0</td>\n      <td>21393.0</td>\n      <td>116.860655</td>\n      <td>191.651475</td>\n      <td>4.0</td>\n      <td>0.609756</td>\n    </tr>\n    <tr>\n      <th>Niebla</th>\n      <td>200.0</td>\n      <td>5.0</td>\n      <td>8.0</td>\n      <td>4116.0</td>\n      <td>121.477162</td>\n      <td>194.363460</td>\n      <td>4.0</td>\n      <td>0.625000</td>\n    </tr>\n    <tr>\n      <th>Escacena del Campo</th>\n      <td>148.0</td>\n      <td>4.0</td>\n      <td>5.0</td>\n      <td>2287.0</td>\n      <td>174.901618</td>\n      <td>218.627022</td>\n      <td>0.0</td>\n      <td>0.800000</td>\n    </tr>\n    <tr>\n      <th>Nerva</th>\n      <td>162.0</td>\n      <td>8.0</td>\n      <td>9.0</td>\n      <td>5169.0</td>\n      <td>154.768814</td>\n      <td>174.114916</td>\n      <td>0.0</td>\n      <td>0.888889</td>\n    </tr>\n    <tr>\n      <th>Villalba del Alcor</th>\n      <td>472.0</td>\n      <td>1.0</td>\n      <td>1.0</td>\n      <td>3366.0</td>\n      <td>29.708853</td>\n      <td>29.708853</td>\n      <td>0.0</td>\n      <td>1.000000</td>\n    </tr>\n    <tr>\n      <th>San Bartolomé de la Torre</th>\n      <td>283.0</td>\n      <td>1.0</td>\n      <td>1.0</td>\n      <td>3761.0</td>\n      <td>26.588673</td>\n      <td>26.588673</td>\n      <td>0.0</td>\n      <td>1.000000</td>\n    </tr>\n    <tr>\n      <th>Galaroza</th>\n      <td>35.0</td>\n      <td>8.0</td>\n      <td>8.0</td>\n      <td>1382.0</td>\n      <td>578.871201</td>\n      <td>578.871201</td>\n      <td>3.0</td>\n      <td>1.000000</td>\n    </tr>\n    <tr>\n      <th>Santa Ana la Real</th>\n      <td>10.0</td>\n      <td>1.0</td>\n      <td>1.0</td>\n      <td>475.0</td>\n      <td>210.526316</td>\n      <td>210.526316</td>\n      <td>0.0</td>\n      <td>1.000000</td>\n    </tr>\n    <tr>\n      <th>Cumbres de San Bartolomé</th>\n      <td>11.0</td>\n      <td>1.0</td>\n      <td>1.0</td>\n      <td>376.0</td>\n      <td>265.957447</td>\n      <td>265.957447</td>\n      <td>0.0</td>\n      <td>1.000000</td>\n    </tr>\n    <tr>\n      <th>Cabezas Rubias</th>\n      <td>32.0</td>\n      <td>1.0</td>\n      <td>1.0</td>\n      <td>706.0</td>\n      <td>141.643059</td>\n      <td>141.643059</td>\n      <td>0.0</td>\n      <td>1.000000</td>\n    </tr>\n    <tr>\n      <th>Villablanca</th>\n      <td>183.0</td>\n      <td>3.0</td>\n      <td>3.0</td>\n      <td>2885.0</td>\n      <td>103.986135</td>\n      <td>103.986135</td>\n      <td>1.0</td>\n      <td>1.000000</td>\n    </tr>\n    <tr>\n      <th>Paterna del Campo</th>\n      <td>125.0</td>\n      <td>1.0</td>\n      <td>1.0</td>\n      <td>3457.0</td>\n      <td>28.926815</td>\n      <td>28.926815</td>\n      <td>0.0</td>\n      <td>1.000000</td>\n    </tr>\n    <tr>\n      <th>Villarrasa</th>\n      <td>148.0</td>\n      <td>1.0</td>\n      <td>1.0</td>\n      <td>2211.0</td>\n      <td>45.228403</td>\n      <td>45.228403</td>\n      <td>0.0</td>\n      <td>1.000000</td>\n    </tr>\n  </tbody>\n</table>\n</div>"
     },
     "metadata": {},
     "execution_count": 18
    }
   ],
   "source": [
    "# Peso de la tasa de la última semana en relación con la tasa a 14 días \n",
    "# Mejor cuanto menor. Valor 1 significa que no había casos antes de 7 días.\n",
    "tabla['7/14'] = tabla['tasa7'] / tabla['tasa14']\n",
    "tabla.fillna(0).sort_values('7/14', ascending=True)"
   ]
  },
  {
   "cell_type": "code",
   "execution_count": null,
   "metadata": {},
   "outputs": [],
   "source": []
  }
 ]
}