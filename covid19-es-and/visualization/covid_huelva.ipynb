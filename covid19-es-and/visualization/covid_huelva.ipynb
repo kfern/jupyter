{
 "metadata": {
  "language_info": {
   "codemirror_mode": {
    "name": "ipython",
    "version": 3
   },
   "file_extension": ".py",
   "mimetype": "text/x-python",
   "name": "python",
   "nbconvert_exporter": "python",
   "pygments_lexer": "ipython3",
   "version": "3.9.5"
  },
  "orig_nbformat": 2,
  "kernelspec": {
   "name": "python3",
   "display_name": "Python 3.9.5 64-bit"
  },
  "interpreter": {
   "hash": "31f2aee4e71d21fbe5cf8b01ff0e069b9275f58929596ceb00d14d90e3e16cd6"
  }
 },
 "nbformat": 4,
 "nbformat_minor": 2,
 "cells": [
  {
   "cell_type": "code",
   "execution_count": 1,
   "metadata": {},
   "outputs": [],
   "source": [
    "import pandas as pd\n",
    "pd.set_option('display.max_rows', None) # Print all rows"
   ]
  },
  {
   "cell_type": "code",
   "execution_count": 2,
   "metadata": {},
   "outputs": [],
   "source": [
    "# FIX SSL: CERTIFICATE_VERIFY_FAILED with Python3\n",
    "# https://stackoverflow.com/a/49174340\n",
    "import ssl\n",
    "\n",
    "ssl._create_default_https_context = ssl._create_unverified_context"
   ]
  },
  {
   "cell_type": "code",
   "execution_count": 3,
   "metadata": {},
   "outputs": [],
   "source": [
    "url = 'https://www.juntadeandalucia.es/institutodeestadisticaycartografia/badea/stpivot/stpivot/Print?cube=013d884c-cfc5-4c21-9e78-e26225682afd&type=3&foto=si&ejecutaDesde=&codConsulta=38668&consTipoVisua=JP'\n",
    "fields = ['Lugar de residencia', 'Medida', 'Valor']\n",
    "df = pd.read_csv(url, delimiter=';', usecols=fields, decimal=',')"
   ]
  },
  {
   "cell_type": "code",
   "execution_count": 4,
   "metadata": {},
   "outputs": [
    {
     "output_type": "execute_result",
     "data": {
      "text/plain": [
       "  Lugar de residencia                    Medida              Valor\n",
       "0              Huelva                 Población             513170\n",
       "1              Huelva          Confirmados PDIA              34299\n",
       "2              Huelva  Confirmados PDIA 14 días                967\n",
       "3              Huelva         Tasa PDIA 14 días  188,4365804704094\n",
       "4              Huelva   Confirmados PDIA 7 días                541\n",
       "5              Huelva        Total Confirmados               34486\n",
       "6              Huelva                   Curados              32402\n",
       "7              Huelva                Fallecidos                395"
      ],
      "text/html": "<div>\n<style scoped>\n    .dataframe tbody tr th:only-of-type {\n        vertical-align: middle;\n    }\n\n    .dataframe tbody tr th {\n        vertical-align: top;\n    }\n\n    .dataframe thead th {\n        text-align: right;\n    }\n</style>\n<table border=\"1\" class=\"dataframe\">\n  <thead>\n    <tr style=\"text-align: right;\">\n      <th></th>\n      <th>Lugar de residencia</th>\n      <th>Medida</th>\n      <th>Valor</th>\n    </tr>\n  </thead>\n  <tbody>\n    <tr>\n      <th>0</th>\n      <td>Huelva</td>\n      <td>Población</td>\n      <td>513170</td>\n    </tr>\n    <tr>\n      <th>1</th>\n      <td>Huelva</td>\n      <td>Confirmados PDIA</td>\n      <td>34299</td>\n    </tr>\n    <tr>\n      <th>2</th>\n      <td>Huelva</td>\n      <td>Confirmados PDIA 14 días</td>\n      <td>967</td>\n    </tr>\n    <tr>\n      <th>3</th>\n      <td>Huelva</td>\n      <td>Tasa PDIA 14 días</td>\n      <td>188,4365804704094</td>\n    </tr>\n    <tr>\n      <th>4</th>\n      <td>Huelva</td>\n      <td>Confirmados PDIA 7 días</td>\n      <td>541</td>\n    </tr>\n    <tr>\n      <th>5</th>\n      <td>Huelva</td>\n      <td>Total Confirmados</td>\n      <td>34486</td>\n    </tr>\n    <tr>\n      <th>6</th>\n      <td>Huelva</td>\n      <td>Curados</td>\n      <td>32402</td>\n    </tr>\n    <tr>\n      <th>7</th>\n      <td>Huelva</td>\n      <td>Fallecidos</td>\n      <td>395</td>\n    </tr>\n  </tbody>\n</table>\n</div>"
     },
     "metadata": {},
     "execution_count": 4
    }
   ],
   "source": [
    "df[df['Lugar de residencia'] == 'Huelva']"
   ]
  },
  {
   "cell_type": "code",
   "execution_count": 5,
   "metadata": {},
   "outputs": [],
   "source": [
    "df['Valor'] = pd.to_numeric(df['Valor'],errors='coerce')"
   ]
  },
  {
   "cell_type": "code",
   "execution_count": 6,
   "metadata": {},
   "outputs": [],
   "source": [
    "dfAnterior = pd.read_csv('covid_huelva.csv', index_col='Lugar de residencia')"
   ]
  },
  {
   "cell_type": "code",
   "execution_count": 7,
   "metadata": {
    "tags": []
   },
   "outputs": [
    {
     "output_type": "stream",
     "name": "stdout",
     "text": [
      "Confirmados PCR en la provincia de Huelva:  34299.0\n",
      "/tmp/ipykernel_66028/1396922249.py:2: UserWarning: Boolean Series key will be reindexed to match DataFrame index.\n",
      "  p = df[df['Lugar de residencia'] == 'Huelva'][df['Medida'] == 'Confirmados PDIA']['Valor'].values[0]\n"
     ]
    }
   ],
   "source": [
    "# Confirmados PCR provincia Huelva\n",
    "p = df[df['Lugar de residencia'] == 'Huelva'][df['Medida'] == 'Confirmados PDIA']['Valor'].values[0]\n",
    "print('Confirmados PCR en la provincia de Huelva: ', p)"
   ]
  },
  {
   "cell_type": "code",
   "execution_count": 8,
   "metadata": {
    "tags": []
   },
   "outputs": [
    {
     "output_type": "stream",
     "name": "stdout",
     "text": [
      "Confirmados PCR en Huelva capital:  9380.0\n",
      "/tmp/ipykernel_66028/2509482988.py:2: UserWarning: Boolean Series key will be reindexed to match DataFrame index.\n",
      "  c = df[df['Lugar de residencia'] == 'Huelva (capital)'][df['Medida'] == 'Confirmados PDIA']['Valor'].values[0]\n"
     ]
    }
   ],
   "source": [
    "# Confirmados PCR Huelva capitalpd\n",
    "c = df[df['Lugar de residencia'] == 'Huelva (capital)'][df['Medida'] == 'Confirmados PDIA']['Valor'].values[0]\n",
    "print('Confirmados PCR en Huelva capital: ', c)"
   ]
  },
  {
   "cell_type": "code",
   "execution_count": 9,
   "metadata": {
    "tags": []
   },
   "outputs": [
    {
     "output_type": "stream",
     "name": "stderr",
     "text": [
      "/tmp/ipykernel_66028/2690025379.py:1: UserWarning: Boolean Series key will be reindexed to match DataFrame index.\n  c7 = df[df['Lugar de residencia'] == 'Huelva (capital)'][df['Medida'] == 'Confirmados PDIA 7 días']['Valor'].values[0]\n/tmp/ipykernel_66028/2690025379.py:2: UserWarning: Boolean Series key will be reindexed to match DataFrame index.\n  c14 = df[df['Lugar de residencia'] == 'Huelva (capital)'][df['Medida'] == 'Confirmados PDIA 14 días']['Valor'].values[0]\n/tmp/ipykernel_66028/2690025379.py:3: UserWarning: Boolean Series key will be reindexed to match DataFrame index.\n  p = df[df['Lugar de residencia'] == 'Huelva (capital)'][df['Medida'] == 'Población']['Valor'].values[0]\n"
     ]
    }
   ],
   "source": [
    "c7 = df[df['Lugar de residencia'] == 'Huelva (capital)'][df['Medida'] == 'Confirmados PDIA 7 días']['Valor'].values[0]\n",
    "c14 = df[df['Lugar de residencia'] == 'Huelva (capital)'][df['Medida'] == 'Confirmados PDIA 14 días']['Valor'].values[0]\n",
    "p = df[df['Lugar de residencia'] == 'Huelva (capital)'][df['Medida'] == 'Población']['Valor'].values[0]"
   ]
  },
  {
   "cell_type": "code",
   "execution_count": 10,
   "metadata": {
    "tags": []
   },
   "outputs": [
    {
     "output_type": "stream",
     "name": "stdout",
     "text": [
      "Huelva (capital)\n\nUn positivo PCR cada 1050 personas en los últimos 7 días \n\nUn positivo PCR cada 549 personas en los últimos 14 días\n"
     ]
    }
   ],
   "source": [
    "print('Huelva (capital)\\n')\n",
    "#print('Confirmados PCR 7 días x 1,000 habitantes: ', f\"{c7/(p/1000):.5f}\")\n",
    "print('Un positivo PCR cada', f\"{p/c7:.0f}\", 'personas en los últimos 7 días', '\\n')\n",
    "#print('Confirmados PCR 14 días x 1,000 habitantes: ', f\"{c14/(p/1000):.5f}\")\n",
    "print('Un positivo PCR cada', f\"{p/c14:.0f}\", 'personas en los últimos 14 días')"
   ]
  },
  {
   "cell_type": "code",
   "execution_count": 11,
   "metadata": {},
   "outputs": [],
   "source": [
    "filtro = ((df['Medida'] == 'Confirmados PDIA')| (df['Medida'] == 'Confirmados PDIA 7 días') | (df['Medida'] == 'Población' ) | (df['Medida'] == 'Confirmados PDIA 14 días')) & (df['Valor'] > 0)\n",
    "tabla = pd.pivot_table(df.loc[filtro], values='Valor', index='Lugar de residencia', columns='Medida').dropna()"
   ]
  },
  {
   "cell_type": "code",
   "execution_count": 12,
   "metadata": {},
   "outputs": [],
   "source": [
    "# Reorder columns\n",
    "tabla = tabla[['Confirmados PDIA', 'Confirmados PDIA 7 días', 'Confirmados PDIA 14 días', 'Población']]"
   ]
  },
  {
   "cell_type": "code",
   "execution_count": 13,
   "metadata": {},
   "outputs": [],
   "source": [
    "tabla['tasa7'] = tabla['Confirmados PDIA 7 días']/tabla['Población']*100000\n",
    "tabla['tasa14'] = tabla['Confirmados PDIA 14 días']/tabla['Población']*100000"
   ]
  },
  {
   "cell_type": "code",
   "execution_count": 14,
   "metadata": {},
   "outputs": [],
   "source": [
    "tabla['Diferencia PDIA'] = tabla['Confirmados PDIA'] - dfAnterior['Confirmados PDIA']"
   ]
  },
  {
   "cell_type": "code",
   "execution_count": 15,
   "metadata": {},
   "outputs": [
    {
     "output_type": "execute_result",
     "data": {
      "text/plain": [
       "Medida                             Confirmados PDIA  Confirmados PDIA 7 días  \\\n",
       "Lugar de residencia                                                            \n",
       "Huelva                                      34299.0                    541.0   \n",
       "Huelva-Costa                                19860.0                    374.0   \n",
       "Huelva (capital)                             9380.0                    137.0   \n",
       "Isla Cristina                                2329.0                     97.0   \n",
       "Condado-Campiña                             11098.0                    147.0   \n",
       "Lepe                                         2246.0                     43.0   \n",
       "Moguer                                       1450.0                     20.0   \n",
       "Aljaraque                                    1208.0                     24.0   \n",
       "Ayamonte                                     1411.0                     32.0   \n",
       "Palos de la Frontera                          747.0                     11.0   \n",
       "Sierra de Huelva-Andévalo Central            2983.0                     17.0   \n",
       "Bollullos Par del Condado                    1059.0                     10.0   \n",
       "Bonares                                       316.0                      7.0   \n",
       "Almonte                                      1950.0                     16.0   \n",
       "Aracena                                       549.0                      6.0   \n",
       "San Juan del Puerto                           602.0                      6.0   \n",
       "Cartaya                                      1431.0                      9.0   \n",
       "Lucena del Puerto                             278.0                      7.0   \n",
       "Niebla                                        281.0                     32.0   \n",
       "Punta Umbría                                  872.0                      6.0   \n",
       "Santa Bárbara de Casa                          35.0                     13.0   \n",
       "Valverde del Camino                           678.0                      2.0   \n",
       "Zarza-Perrunal (La)                            31.0                      2.0   \n",
       "\n",
       "Medida                             Confirmados PDIA 14 días  Población  \\\n",
       "Lugar de residencia                                                      \n",
       "Huelva                                                967.0   513170.0   \n",
       "Huelva-Costa                                          664.0   289548.0   \n",
       "Huelva (capital)                                      262.0   143837.0   \n",
       "Isla Cristina                                         138.0    21393.0   \n",
       "Condado-Campiña                                       252.0   156231.0   \n",
       "Lepe                                                   70.0    27880.0   \n",
       "Moguer                                                 41.0    21867.0   \n",
       "Aljaraque                                              37.0    21474.0   \n",
       "Ayamonte                                               64.0    21104.0   \n",
       "Palos de la Frontera                                   17.0    11742.0   \n",
       "Sierra de Huelva-Andévalo Central                      45.0    67391.0   \n",
       "Bollullos Par del Condado                              25.0    14387.0   \n",
       "Bonares                                                16.0     6060.0   \n",
       "Almonte                                                32.0    24507.0   \n",
       "Aracena                                                 8.0     8255.0   \n",
       "San Juan del Puerto                                    13.0     9411.0   \n",
       "Cartaya                                                23.0    20083.0   \n",
       "Lucena del Puerto                                      11.0     3261.0   \n",
       "Niebla                                                 32.0     4116.0   \n",
       "Punta Umbría                                           15.0    15355.0   \n",
       "Santa Bárbara de Casa                                  19.0     1043.0   \n",
       "Valverde del Camino                                    14.0    12750.0   \n",
       "Zarza-Perrunal (La)                                     5.0     1253.0   \n",
       "\n",
       "Medida                                   tasa7       tasa14  Diferencia PDIA  \n",
       "Lugar de residencia                                                           \n",
       "Huelva                              105.423154   188.436580            126.0  \n",
       "Huelva-Costa                        129.166839   229.322945            101.0  \n",
       "Huelva (capital)                     95.246703   182.150629             40.0  \n",
       "Isla Cristina                       453.419343   645.070818             31.0  \n",
       "Condado-Campiña                      94.091442   161.299614             21.0  \n",
       "Lepe                                154.232425   251.076040             16.0  \n",
       "Moguer                               91.462020   187.497142              6.0  \n",
       "Aljaraque                           111.763062   172.301388              6.0  \n",
       "Ayamonte                            151.630023   303.260045              5.0  \n",
       "Palos de la Frontera                 93.680804   144.779424              4.0  \n",
       "Sierra de Huelva-Andévalo Central    25.225920    66.774495              4.0  \n",
       "Bollullos Par del Condado            69.507194   173.767985              3.0  \n",
       "Bonares                             115.511551   264.026403              2.0  \n",
       "Almonte                              65.287469   130.574938              2.0  \n",
       "Aracena                              72.683222    96.910963              2.0  \n",
       "San Juan del Puerto                  63.755180   138.136224              2.0  \n",
       "Cartaya                              44.814022   114.524722              1.0  \n",
       "Lucena del Puerto                   214.658080   337.319841              1.0  \n",
       "Niebla                              777.453839   777.453839              1.0  \n",
       "Punta Umbría                         39.075220    97.688049              1.0  \n",
       "Santa Bárbara de Casa              1246.404602  1821.668265              1.0  \n",
       "Valverde del Camino                  15.686275   109.803922              1.0  \n",
       "Zarza-Perrunal (La)                 159.616919   399.042298              1.0  "
      ],
      "text/html": "<div>\n<style scoped>\n    .dataframe tbody tr th:only-of-type {\n        vertical-align: middle;\n    }\n\n    .dataframe tbody tr th {\n        vertical-align: top;\n    }\n\n    .dataframe thead th {\n        text-align: right;\n    }\n</style>\n<table border=\"1\" class=\"dataframe\">\n  <thead>\n    <tr style=\"text-align: right;\">\n      <th>Medida</th>\n      <th>Confirmados PDIA</th>\n      <th>Confirmados PDIA 7 días</th>\n      <th>Confirmados PDIA 14 días</th>\n      <th>Población</th>\n      <th>tasa7</th>\n      <th>tasa14</th>\n      <th>Diferencia PDIA</th>\n    </tr>\n    <tr>\n      <th>Lugar de residencia</th>\n      <th></th>\n      <th></th>\n      <th></th>\n      <th></th>\n      <th></th>\n      <th></th>\n      <th></th>\n    </tr>\n  </thead>\n  <tbody>\n    <tr>\n      <th>Huelva</th>\n      <td>34299.0</td>\n      <td>541.0</td>\n      <td>967.0</td>\n      <td>513170.0</td>\n      <td>105.423154</td>\n      <td>188.436580</td>\n      <td>126.0</td>\n    </tr>\n    <tr>\n      <th>Huelva-Costa</th>\n      <td>19860.0</td>\n      <td>374.0</td>\n      <td>664.0</td>\n      <td>289548.0</td>\n      <td>129.166839</td>\n      <td>229.322945</td>\n      <td>101.0</td>\n    </tr>\n    <tr>\n      <th>Huelva (capital)</th>\n      <td>9380.0</td>\n      <td>137.0</td>\n      <td>262.0</td>\n      <td>143837.0</td>\n      <td>95.246703</td>\n      <td>182.150629</td>\n      <td>40.0</td>\n    </tr>\n    <tr>\n      <th>Isla Cristina</th>\n      <td>2329.0</td>\n      <td>97.0</td>\n      <td>138.0</td>\n      <td>21393.0</td>\n      <td>453.419343</td>\n      <td>645.070818</td>\n      <td>31.0</td>\n    </tr>\n    <tr>\n      <th>Condado-Campiña</th>\n      <td>11098.0</td>\n      <td>147.0</td>\n      <td>252.0</td>\n      <td>156231.0</td>\n      <td>94.091442</td>\n      <td>161.299614</td>\n      <td>21.0</td>\n    </tr>\n    <tr>\n      <th>Lepe</th>\n      <td>2246.0</td>\n      <td>43.0</td>\n      <td>70.0</td>\n      <td>27880.0</td>\n      <td>154.232425</td>\n      <td>251.076040</td>\n      <td>16.0</td>\n    </tr>\n    <tr>\n      <th>Moguer</th>\n      <td>1450.0</td>\n      <td>20.0</td>\n      <td>41.0</td>\n      <td>21867.0</td>\n      <td>91.462020</td>\n      <td>187.497142</td>\n      <td>6.0</td>\n    </tr>\n    <tr>\n      <th>Aljaraque</th>\n      <td>1208.0</td>\n      <td>24.0</td>\n      <td>37.0</td>\n      <td>21474.0</td>\n      <td>111.763062</td>\n      <td>172.301388</td>\n      <td>6.0</td>\n    </tr>\n    <tr>\n      <th>Ayamonte</th>\n      <td>1411.0</td>\n      <td>32.0</td>\n      <td>64.0</td>\n      <td>21104.0</td>\n      <td>151.630023</td>\n      <td>303.260045</td>\n      <td>5.0</td>\n    </tr>\n    <tr>\n      <th>Palos de la Frontera</th>\n      <td>747.0</td>\n      <td>11.0</td>\n      <td>17.0</td>\n      <td>11742.0</td>\n      <td>93.680804</td>\n      <td>144.779424</td>\n      <td>4.0</td>\n    </tr>\n    <tr>\n      <th>Sierra de Huelva-Andévalo Central</th>\n      <td>2983.0</td>\n      <td>17.0</td>\n      <td>45.0</td>\n      <td>67391.0</td>\n      <td>25.225920</td>\n      <td>66.774495</td>\n      <td>4.0</td>\n    </tr>\n    <tr>\n      <th>Bollullos Par del Condado</th>\n      <td>1059.0</td>\n      <td>10.0</td>\n      <td>25.0</td>\n      <td>14387.0</td>\n      <td>69.507194</td>\n      <td>173.767985</td>\n      <td>3.0</td>\n    </tr>\n    <tr>\n      <th>Bonares</th>\n      <td>316.0</td>\n      <td>7.0</td>\n      <td>16.0</td>\n      <td>6060.0</td>\n      <td>115.511551</td>\n      <td>264.026403</td>\n      <td>2.0</td>\n    </tr>\n    <tr>\n      <th>Almonte</th>\n      <td>1950.0</td>\n      <td>16.0</td>\n      <td>32.0</td>\n      <td>24507.0</td>\n      <td>65.287469</td>\n      <td>130.574938</td>\n      <td>2.0</td>\n    </tr>\n    <tr>\n      <th>Aracena</th>\n      <td>549.0</td>\n      <td>6.0</td>\n      <td>8.0</td>\n      <td>8255.0</td>\n      <td>72.683222</td>\n      <td>96.910963</td>\n      <td>2.0</td>\n    </tr>\n    <tr>\n      <th>San Juan del Puerto</th>\n      <td>602.0</td>\n      <td>6.0</td>\n      <td>13.0</td>\n      <td>9411.0</td>\n      <td>63.755180</td>\n      <td>138.136224</td>\n      <td>2.0</td>\n    </tr>\n    <tr>\n      <th>Cartaya</th>\n      <td>1431.0</td>\n      <td>9.0</td>\n      <td>23.0</td>\n      <td>20083.0</td>\n      <td>44.814022</td>\n      <td>114.524722</td>\n      <td>1.0</td>\n    </tr>\n    <tr>\n      <th>Lucena del Puerto</th>\n      <td>278.0</td>\n      <td>7.0</td>\n      <td>11.0</td>\n      <td>3261.0</td>\n      <td>214.658080</td>\n      <td>337.319841</td>\n      <td>1.0</td>\n    </tr>\n    <tr>\n      <th>Niebla</th>\n      <td>281.0</td>\n      <td>32.0</td>\n      <td>32.0</td>\n      <td>4116.0</td>\n      <td>777.453839</td>\n      <td>777.453839</td>\n      <td>1.0</td>\n    </tr>\n    <tr>\n      <th>Punta Umbría</th>\n      <td>872.0</td>\n      <td>6.0</td>\n      <td>15.0</td>\n      <td>15355.0</td>\n      <td>39.075220</td>\n      <td>97.688049</td>\n      <td>1.0</td>\n    </tr>\n    <tr>\n      <th>Santa Bárbara de Casa</th>\n      <td>35.0</td>\n      <td>13.0</td>\n      <td>19.0</td>\n      <td>1043.0</td>\n      <td>1246.404602</td>\n      <td>1821.668265</td>\n      <td>1.0</td>\n    </tr>\n    <tr>\n      <th>Valverde del Camino</th>\n      <td>678.0</td>\n      <td>2.0</td>\n      <td>14.0</td>\n      <td>12750.0</td>\n      <td>15.686275</td>\n      <td>109.803922</td>\n      <td>1.0</td>\n    </tr>\n    <tr>\n      <th>Zarza-Perrunal (La)</th>\n      <td>31.0</td>\n      <td>2.0</td>\n      <td>5.0</td>\n      <td>1253.0</td>\n      <td>159.616919</td>\n      <td>399.042298</td>\n      <td>1.0</td>\n    </tr>\n  </tbody>\n</table>\n</div>"
     },
     "metadata": {},
     "execution_count": 15
    }
   ],
   "source": [
    "# Nuevos casos desde la última captura\n",
    "tabla[tabla['Diferencia PDIA'] != 0].sort_values('Diferencia PDIA', ascending=False)"
   ]
  },
  {
   "cell_type": "code",
   "execution_count": 16,
   "metadata": {},
   "outputs": [],
   "source": [
    "if tabla[tabla['Diferencia PDIA'] != 0]['Diferencia PDIA'].sum() != 0:\n",
    "  # Save to csv\n",
    "  tabla.to_csv('covid_huelva.csv', encoding='utf-8', header=True, index=True)  "
   ]
  },
  {
   "cell_type": "code",
   "execution_count": 17,
   "metadata": {},
   "outputs": [
    {
     "output_type": "execute_result",
     "data": {
      "text/plain": [
       "Medida                             Confirmados PDIA  Confirmados PDIA 7 días  \\\n",
       "Lugar de residencia                                                            \n",
       "Santa Bárbara de Casa                          35.0                     13.0   \n",
       "Niebla                                        281.0                     32.0   \n",
       "Isla Cristina                                2329.0                     97.0   \n",
       "Alosno                                        207.0                     11.0   \n",
       "Zarza-Perrunal (La)                            31.0                      2.0   \n",
       "Puerto Moral                                    5.0                      1.0   \n",
       "Lucena del Puerto                             278.0                      7.0   \n",
       "Ayamonte                                     1411.0                     32.0   \n",
       "Rosal de la Frontera                           36.0                      2.0   \n",
       "Bonares                                       316.0                      7.0   \n",
       "Lepe                                         2246.0                     43.0   \n",
       "Huelva-Costa                                19860.0                    374.0   \n",
       "Gibraleón                                     678.0                     16.0   \n",
       "Huelva                                      34299.0                    541.0   \n",
       "Moguer                                       1450.0                     20.0   \n",
       "Huelva (capital)                             9380.0                    137.0   \n",
       "Bollullos Par del Condado                    1059.0                     10.0   \n",
       "Aljaraque                                    1208.0                     24.0   \n",
       "Condado-Campiña                             11098.0                    147.0   \n",
       "Palos de la Frontera                          747.0                     11.0   \n",
       "Manzanilla                                    110.0                      1.0   \n",
       "San Juan del Puerto                           602.0                      6.0   \n",
       "San Bartolomé de la Torre                     312.0                      3.0   \n",
       "Almonte                                      1950.0                     16.0   \n",
       "Puebla de Guzmán                              145.0                      1.0   \n",
       "Palma del Condado (La)                       1208.0                      6.0   \n",
       "Cartaya                                      1431.0                      9.0   \n",
       "Trigueros                                     344.0                      8.0   \n",
       "Valverde del Camino                           678.0                      2.0   \n",
       "Punta Umbría                                  872.0                      6.0   \n",
       "Aracena                                       549.0                      6.0   \n",
       "Villarrasa                                    182.0                      1.0   \n",
       "Sierra de Huelva-Andévalo Central            2983.0                     17.0   \n",
       "Campillo (El)                                  75.0                      1.0   \n",
       "Beas                                          234.0                      1.0   \n",
       "Escacena del Campo                            155.0                      1.0   \n",
       "Nerva                                         182.0                      1.0   \n",
       "Calañas                                       202.0                      1.0   \n",
       "Villanueva de los Castillejos                 166.0                      1.0   \n",
       "Villalba del Alcor                            483.0                      1.0   \n",
       "Minas de Riotinto                             130.0                      1.0   \n",
       "\n",
       "Medida                             Confirmados PDIA 14 días  Población  \\\n",
       "Lugar de residencia                                                      \n",
       "Santa Bárbara de Casa                                  19.0     1043.0   \n",
       "Niebla                                                 32.0     4116.0   \n",
       "Isla Cristina                                         138.0    21393.0   \n",
       "Alosno                                                 24.0     3933.0   \n",
       "Zarza-Perrunal (La)                                     5.0     1253.0   \n",
       "Puerto Moral                                            1.0      278.0   \n",
       "Lucena del Puerto                                      11.0     3261.0   \n",
       "Ayamonte                                               64.0    21104.0   \n",
       "Rosal de la Frontera                                    5.0     1697.0   \n",
       "Bonares                                                16.0     6060.0   \n",
       "Lepe                                                   70.0    27880.0   \n",
       "Huelva-Costa                                          664.0   289548.0   \n",
       "Gibraleón                                              25.0    12737.0   \n",
       "Huelva                                                967.0   513170.0   \n",
       "Moguer                                                 41.0    21867.0   \n",
       "Huelva (capital)                                      262.0   143837.0   \n",
       "Bollullos Par del Condado                              25.0    14387.0   \n",
       "Aljaraque                                              37.0    21474.0   \n",
       "Condado-Campiña                                       252.0   156231.0   \n",
       "Palos de la Frontera                                   17.0    11742.0   \n",
       "Manzanilla                                              3.0     2118.0   \n",
       "San Juan del Puerto                                    13.0     9411.0   \n",
       "San Bartolomé de la Torre                               5.0     3761.0   \n",
       "Almonte                                                32.0    24507.0   \n",
       "Puebla de Guzmán                                        4.0     3092.0   \n",
       "Palma del Condado (La)                                 13.0    10801.0   \n",
       "Cartaya                                                23.0    20083.0   \n",
       "Trigueros                                               9.0     7862.0   \n",
       "Valverde del Camino                                    14.0    12750.0   \n",
       "Punta Umbría                                           15.0    15355.0   \n",
       "Aracena                                                 8.0     8255.0   \n",
       "Villarrasa                                              2.0     2211.0   \n",
       "Sierra de Huelva-Andévalo Central                      45.0    67391.0   \n",
       "Campillo (El)                                           1.0     2024.0   \n",
       "Beas                                                    2.0     4341.0   \n",
       "Escacena del Campo                                      1.0     2287.0   \n",
       "Nerva                                                   2.0     5169.0   \n",
       "Calañas                                                 1.0     2768.0   \n",
       "Villanueva de los Castillejos                           1.0     2825.0   \n",
       "Villalba del Alcor                                      1.0     3366.0   \n",
       "Minas de Riotinto                                       1.0     3812.0   \n",
       "\n",
       "Medida                                   tasa7       tasa14  Diferencia PDIA  \n",
       "Lugar de residencia                                                           \n",
       "Santa Bárbara de Casa              1246.404602  1821.668265              1.0  \n",
       "Niebla                              777.453839   777.453839              1.0  \n",
       "Isla Cristina                       453.419343   645.070818             31.0  \n",
       "Alosno                              279.684719   610.221205              0.0  \n",
       "Zarza-Perrunal (La)                 159.616919   399.042298              1.0  \n",
       "Puerto Moral                        359.712230   359.712230              0.0  \n",
       "Lucena del Puerto                   214.658080   337.319841              1.0  \n",
       "Ayamonte                            151.630023   303.260045              5.0  \n",
       "Rosal de la Frontera                117.855038   294.637596              0.0  \n",
       "Bonares                             115.511551   264.026403              2.0  \n",
       "Lepe                                154.232425   251.076040             16.0  \n",
       "Huelva-Costa                        129.166839   229.322945            101.0  \n",
       "Gibraleón                           125.618277   196.278559              0.0  \n",
       "Huelva                              105.423154   188.436580            126.0  \n",
       "Moguer                               91.462020   187.497142              6.0  \n",
       "Huelva (capital)                     95.246703   182.150629             40.0  \n",
       "Bollullos Par del Condado            69.507194   173.767985              3.0  \n",
       "Aljaraque                           111.763062   172.301388              6.0  \n",
       "Condado-Campiña                      94.091442   161.299614             21.0  \n",
       "Palos de la Frontera                 93.680804   144.779424              4.0  \n",
       "Manzanilla                           47.214353   141.643059              0.0  \n",
       "San Juan del Puerto                  63.755180   138.136224              2.0  \n",
       "San Bartolomé de la Torre            79.766020   132.943366              0.0  \n",
       "Almonte                              65.287469   130.574938              2.0  \n",
       "Puebla de Guzmán                     32.341527   129.366106              0.0  \n",
       "Palma del Condado (La)               55.550412   120.359226              0.0  \n",
       "Cartaya                              44.814022   114.524722              1.0  \n",
       "Trigueros                           101.755279   114.474688              0.0  \n",
       "Valverde del Camino                  15.686275   109.803922              1.0  \n",
       "Punta Umbría                         39.075220    97.688049              1.0  \n",
       "Aracena                              72.683222    96.910963              2.0  \n",
       "Villarrasa                           45.228403    90.456807              0.0  \n",
       "Sierra de Huelva-Andévalo Central    25.225920    66.774495              4.0  \n",
       "Campillo (El)                        49.407115    49.407115              0.0  \n",
       "Beas                                 23.036167    46.072334              0.0  \n",
       "Escacena del Campo                   43.725404    43.725404              0.0  \n",
       "Nerva                                19.346102    38.692204              0.0  \n",
       "Calañas                              36.127168    36.127168              0.0  \n",
       "Villanueva de los Castillejos        35.398230    35.398230              0.0  \n",
       "Villalba del Alcor                   29.708853    29.708853              0.0  \n",
       "Minas de Riotinto                    26.232949    26.232949              0.0  "
      ],
      "text/html": "<div>\n<style scoped>\n    .dataframe tbody tr th:only-of-type {\n        vertical-align: middle;\n    }\n\n    .dataframe tbody tr th {\n        vertical-align: top;\n    }\n\n    .dataframe thead th {\n        text-align: right;\n    }\n</style>\n<table border=\"1\" class=\"dataframe\">\n  <thead>\n    <tr style=\"text-align: right;\">\n      <th>Medida</th>\n      <th>Confirmados PDIA</th>\n      <th>Confirmados PDIA 7 días</th>\n      <th>Confirmados PDIA 14 días</th>\n      <th>Población</th>\n      <th>tasa7</th>\n      <th>tasa14</th>\n      <th>Diferencia PDIA</th>\n    </tr>\n    <tr>\n      <th>Lugar de residencia</th>\n      <th></th>\n      <th></th>\n      <th></th>\n      <th></th>\n      <th></th>\n      <th></th>\n      <th></th>\n    </tr>\n  </thead>\n  <tbody>\n    <tr>\n      <th>Santa Bárbara de Casa</th>\n      <td>35.0</td>\n      <td>13.0</td>\n      <td>19.0</td>\n      <td>1043.0</td>\n      <td>1246.404602</td>\n      <td>1821.668265</td>\n      <td>1.0</td>\n    </tr>\n    <tr>\n      <th>Niebla</th>\n      <td>281.0</td>\n      <td>32.0</td>\n      <td>32.0</td>\n      <td>4116.0</td>\n      <td>777.453839</td>\n      <td>777.453839</td>\n      <td>1.0</td>\n    </tr>\n    <tr>\n      <th>Isla Cristina</th>\n      <td>2329.0</td>\n      <td>97.0</td>\n      <td>138.0</td>\n      <td>21393.0</td>\n      <td>453.419343</td>\n      <td>645.070818</td>\n      <td>31.0</td>\n    </tr>\n    <tr>\n      <th>Alosno</th>\n      <td>207.0</td>\n      <td>11.0</td>\n      <td>24.0</td>\n      <td>3933.0</td>\n      <td>279.684719</td>\n      <td>610.221205</td>\n      <td>0.0</td>\n    </tr>\n    <tr>\n      <th>Zarza-Perrunal (La)</th>\n      <td>31.0</td>\n      <td>2.0</td>\n      <td>5.0</td>\n      <td>1253.0</td>\n      <td>159.616919</td>\n      <td>399.042298</td>\n      <td>1.0</td>\n    </tr>\n    <tr>\n      <th>Puerto Moral</th>\n      <td>5.0</td>\n      <td>1.0</td>\n      <td>1.0</td>\n      <td>278.0</td>\n      <td>359.712230</td>\n      <td>359.712230</td>\n      <td>0.0</td>\n    </tr>\n    <tr>\n      <th>Lucena del Puerto</th>\n      <td>278.0</td>\n      <td>7.0</td>\n      <td>11.0</td>\n      <td>3261.0</td>\n      <td>214.658080</td>\n      <td>337.319841</td>\n      <td>1.0</td>\n    </tr>\n    <tr>\n      <th>Ayamonte</th>\n      <td>1411.0</td>\n      <td>32.0</td>\n      <td>64.0</td>\n      <td>21104.0</td>\n      <td>151.630023</td>\n      <td>303.260045</td>\n      <td>5.0</td>\n    </tr>\n    <tr>\n      <th>Rosal de la Frontera</th>\n      <td>36.0</td>\n      <td>2.0</td>\n      <td>5.0</td>\n      <td>1697.0</td>\n      <td>117.855038</td>\n      <td>294.637596</td>\n      <td>0.0</td>\n    </tr>\n    <tr>\n      <th>Bonares</th>\n      <td>316.0</td>\n      <td>7.0</td>\n      <td>16.0</td>\n      <td>6060.0</td>\n      <td>115.511551</td>\n      <td>264.026403</td>\n      <td>2.0</td>\n    </tr>\n    <tr>\n      <th>Lepe</th>\n      <td>2246.0</td>\n      <td>43.0</td>\n      <td>70.0</td>\n      <td>27880.0</td>\n      <td>154.232425</td>\n      <td>251.076040</td>\n      <td>16.0</td>\n    </tr>\n    <tr>\n      <th>Huelva-Costa</th>\n      <td>19860.0</td>\n      <td>374.0</td>\n      <td>664.0</td>\n      <td>289548.0</td>\n      <td>129.166839</td>\n      <td>229.322945</td>\n      <td>101.0</td>\n    </tr>\n    <tr>\n      <th>Gibraleón</th>\n      <td>678.0</td>\n      <td>16.0</td>\n      <td>25.0</td>\n      <td>12737.0</td>\n      <td>125.618277</td>\n      <td>196.278559</td>\n      <td>0.0</td>\n    </tr>\n    <tr>\n      <th>Huelva</th>\n      <td>34299.0</td>\n      <td>541.0</td>\n      <td>967.0</td>\n      <td>513170.0</td>\n      <td>105.423154</td>\n      <td>188.436580</td>\n      <td>126.0</td>\n    </tr>\n    <tr>\n      <th>Moguer</th>\n      <td>1450.0</td>\n      <td>20.0</td>\n      <td>41.0</td>\n      <td>21867.0</td>\n      <td>91.462020</td>\n      <td>187.497142</td>\n      <td>6.0</td>\n    </tr>\n    <tr>\n      <th>Huelva (capital)</th>\n      <td>9380.0</td>\n      <td>137.0</td>\n      <td>262.0</td>\n      <td>143837.0</td>\n      <td>95.246703</td>\n      <td>182.150629</td>\n      <td>40.0</td>\n    </tr>\n    <tr>\n      <th>Bollullos Par del Condado</th>\n      <td>1059.0</td>\n      <td>10.0</td>\n      <td>25.0</td>\n      <td>14387.0</td>\n      <td>69.507194</td>\n      <td>173.767985</td>\n      <td>3.0</td>\n    </tr>\n    <tr>\n      <th>Aljaraque</th>\n      <td>1208.0</td>\n      <td>24.0</td>\n      <td>37.0</td>\n      <td>21474.0</td>\n      <td>111.763062</td>\n      <td>172.301388</td>\n      <td>6.0</td>\n    </tr>\n    <tr>\n      <th>Condado-Campiña</th>\n      <td>11098.0</td>\n      <td>147.0</td>\n      <td>252.0</td>\n      <td>156231.0</td>\n      <td>94.091442</td>\n      <td>161.299614</td>\n      <td>21.0</td>\n    </tr>\n    <tr>\n      <th>Palos de la Frontera</th>\n      <td>747.0</td>\n      <td>11.0</td>\n      <td>17.0</td>\n      <td>11742.0</td>\n      <td>93.680804</td>\n      <td>144.779424</td>\n      <td>4.0</td>\n    </tr>\n    <tr>\n      <th>Manzanilla</th>\n      <td>110.0</td>\n      <td>1.0</td>\n      <td>3.0</td>\n      <td>2118.0</td>\n      <td>47.214353</td>\n      <td>141.643059</td>\n      <td>0.0</td>\n    </tr>\n    <tr>\n      <th>San Juan del Puerto</th>\n      <td>602.0</td>\n      <td>6.0</td>\n      <td>13.0</td>\n      <td>9411.0</td>\n      <td>63.755180</td>\n      <td>138.136224</td>\n      <td>2.0</td>\n    </tr>\n    <tr>\n      <th>San Bartolomé de la Torre</th>\n      <td>312.0</td>\n      <td>3.0</td>\n      <td>5.0</td>\n      <td>3761.0</td>\n      <td>79.766020</td>\n      <td>132.943366</td>\n      <td>0.0</td>\n    </tr>\n    <tr>\n      <th>Almonte</th>\n      <td>1950.0</td>\n      <td>16.0</td>\n      <td>32.0</td>\n      <td>24507.0</td>\n      <td>65.287469</td>\n      <td>130.574938</td>\n      <td>2.0</td>\n    </tr>\n    <tr>\n      <th>Puebla de Guzmán</th>\n      <td>145.0</td>\n      <td>1.0</td>\n      <td>4.0</td>\n      <td>3092.0</td>\n      <td>32.341527</td>\n      <td>129.366106</td>\n      <td>0.0</td>\n    </tr>\n    <tr>\n      <th>Palma del Condado (La)</th>\n      <td>1208.0</td>\n      <td>6.0</td>\n      <td>13.0</td>\n      <td>10801.0</td>\n      <td>55.550412</td>\n      <td>120.359226</td>\n      <td>0.0</td>\n    </tr>\n    <tr>\n      <th>Cartaya</th>\n      <td>1431.0</td>\n      <td>9.0</td>\n      <td>23.0</td>\n      <td>20083.0</td>\n      <td>44.814022</td>\n      <td>114.524722</td>\n      <td>1.0</td>\n    </tr>\n    <tr>\n      <th>Trigueros</th>\n      <td>344.0</td>\n      <td>8.0</td>\n      <td>9.0</td>\n      <td>7862.0</td>\n      <td>101.755279</td>\n      <td>114.474688</td>\n      <td>0.0</td>\n    </tr>\n    <tr>\n      <th>Valverde del Camino</th>\n      <td>678.0</td>\n      <td>2.0</td>\n      <td>14.0</td>\n      <td>12750.0</td>\n      <td>15.686275</td>\n      <td>109.803922</td>\n      <td>1.0</td>\n    </tr>\n    <tr>\n      <th>Punta Umbría</th>\n      <td>872.0</td>\n      <td>6.0</td>\n      <td>15.0</td>\n      <td>15355.0</td>\n      <td>39.075220</td>\n      <td>97.688049</td>\n      <td>1.0</td>\n    </tr>\n    <tr>\n      <th>Aracena</th>\n      <td>549.0</td>\n      <td>6.0</td>\n      <td>8.0</td>\n      <td>8255.0</td>\n      <td>72.683222</td>\n      <td>96.910963</td>\n      <td>2.0</td>\n    </tr>\n    <tr>\n      <th>Villarrasa</th>\n      <td>182.0</td>\n      <td>1.0</td>\n      <td>2.0</td>\n      <td>2211.0</td>\n      <td>45.228403</td>\n      <td>90.456807</td>\n      <td>0.0</td>\n    </tr>\n    <tr>\n      <th>Sierra de Huelva-Andévalo Central</th>\n      <td>2983.0</td>\n      <td>17.0</td>\n      <td>45.0</td>\n      <td>67391.0</td>\n      <td>25.225920</td>\n      <td>66.774495</td>\n      <td>4.0</td>\n    </tr>\n    <tr>\n      <th>Campillo (El)</th>\n      <td>75.0</td>\n      <td>1.0</td>\n      <td>1.0</td>\n      <td>2024.0</td>\n      <td>49.407115</td>\n      <td>49.407115</td>\n      <td>0.0</td>\n    </tr>\n    <tr>\n      <th>Beas</th>\n      <td>234.0</td>\n      <td>1.0</td>\n      <td>2.0</td>\n      <td>4341.0</td>\n      <td>23.036167</td>\n      <td>46.072334</td>\n      <td>0.0</td>\n    </tr>\n    <tr>\n      <th>Escacena del Campo</th>\n      <td>155.0</td>\n      <td>1.0</td>\n      <td>1.0</td>\n      <td>2287.0</td>\n      <td>43.725404</td>\n      <td>43.725404</td>\n      <td>0.0</td>\n    </tr>\n    <tr>\n      <th>Nerva</th>\n      <td>182.0</td>\n      <td>1.0</td>\n      <td>2.0</td>\n      <td>5169.0</td>\n      <td>19.346102</td>\n      <td>38.692204</td>\n      <td>0.0</td>\n    </tr>\n    <tr>\n      <th>Calañas</th>\n      <td>202.0</td>\n      <td>1.0</td>\n      <td>1.0</td>\n      <td>2768.0</td>\n      <td>36.127168</td>\n      <td>36.127168</td>\n      <td>0.0</td>\n    </tr>\n    <tr>\n      <th>Villanueva de los Castillejos</th>\n      <td>166.0</td>\n      <td>1.0</td>\n      <td>1.0</td>\n      <td>2825.0</td>\n      <td>35.398230</td>\n      <td>35.398230</td>\n      <td>0.0</td>\n    </tr>\n    <tr>\n      <th>Villalba del Alcor</th>\n      <td>483.0</td>\n      <td>1.0</td>\n      <td>1.0</td>\n      <td>3366.0</td>\n      <td>29.708853</td>\n      <td>29.708853</td>\n      <td>0.0</td>\n    </tr>\n    <tr>\n      <th>Minas de Riotinto</th>\n      <td>130.0</td>\n      <td>1.0</td>\n      <td>1.0</td>\n      <td>3812.0</td>\n      <td>26.232949</td>\n      <td>26.232949</td>\n      <td>0.0</td>\n    </tr>\n  </tbody>\n</table>\n</div>"
     },
     "metadata": {},
     "execution_count": 17
    }
   ],
   "source": [
    "tabla.sort_values('tasa14', ascending=False)"
   ]
  },
  {
   "cell_type": "code",
   "execution_count": 18,
   "metadata": {},
   "outputs": [
    {
     "output_type": "execute_result",
     "data": {
      "text/plain": [
       "Medida                             Confirmados PDIA  Confirmados PDIA 7 días  \\\n",
       "Lugar de residencia                                                            \n",
       "Valverde del Camino                           678.0                      2.0   \n",
       "Puebla de Guzmán                              145.0                      1.0   \n",
       "Manzanilla                                    110.0                      1.0   \n",
       "Sierra de Huelva-Andévalo Central            2983.0                     17.0   \n",
       "Cartaya                                      1431.0                      9.0   \n",
       "Rosal de la Frontera                           36.0                      2.0   \n",
       "Zarza-Perrunal (La)                            31.0                      2.0   \n",
       "Bollullos Par del Condado                    1059.0                     10.0   \n",
       "Punta Umbría                                  872.0                      6.0   \n",
       "Bonares                                       316.0                      7.0   \n",
       "Alosno                                        207.0                     11.0   \n",
       "San Juan del Puerto                           602.0                      6.0   \n",
       "Palma del Condado (La)                       1208.0                      6.0   \n",
       "Moguer                                       1450.0                     20.0   \n",
       "Almonte                                      1950.0                     16.0   \n",
       "Ayamonte                                     1411.0                     32.0   \n",
       "Villarrasa                                    182.0                      1.0   \n",
       "Nerva                                         182.0                      1.0   \n",
       "Beas                                          234.0                      1.0   \n",
       "Huelva (capital)                             9380.0                    137.0   \n",
       "Huelva                                      34299.0                    541.0   \n",
       "Huelva-Costa                                19860.0                    374.0   \n",
       "Condado-Campiña                             11098.0                    147.0   \n",
       "San Bartolomé de la Torre                     312.0                      3.0   \n",
       "Lepe                                         2246.0                     43.0   \n",
       "Lucena del Puerto                             278.0                      7.0   \n",
       "Gibraleón                                     678.0                     16.0   \n",
       "Palos de la Frontera                          747.0                     11.0   \n",
       "Aljaraque                                    1208.0                     24.0   \n",
       "Santa Bárbara de Casa                          35.0                     13.0   \n",
       "Isla Cristina                                2329.0                     97.0   \n",
       "Aracena                                       549.0                      6.0   \n",
       "Trigueros                                     344.0                      8.0   \n",
       "Escacena del Campo                            155.0                      1.0   \n",
       "Puerto Moral                                    5.0                      1.0   \n",
       "Minas de Riotinto                             130.0                      1.0   \n",
       "Campillo (El)                                  75.0                      1.0   \n",
       "Calañas                                       202.0                      1.0   \n",
       "Villalba del Alcor                            483.0                      1.0   \n",
       "Villanueva de los Castillejos                 166.0                      1.0   \n",
       "Niebla                                        281.0                     32.0   \n",
       "\n",
       "Medida                             Confirmados PDIA 14 días  Población  \\\n",
       "Lugar de residencia                                                      \n",
       "Valverde del Camino                                    14.0    12750.0   \n",
       "Puebla de Guzmán                                        4.0     3092.0   \n",
       "Manzanilla                                              3.0     2118.0   \n",
       "Sierra de Huelva-Andévalo Central                      45.0    67391.0   \n",
       "Cartaya                                                23.0    20083.0   \n",
       "Rosal de la Frontera                                    5.0     1697.0   \n",
       "Zarza-Perrunal (La)                                     5.0     1253.0   \n",
       "Bollullos Par del Condado                              25.0    14387.0   \n",
       "Punta Umbría                                           15.0    15355.0   \n",
       "Bonares                                                16.0     6060.0   \n",
       "Alosno                                                 24.0     3933.0   \n",
       "San Juan del Puerto                                    13.0     9411.0   \n",
       "Palma del Condado (La)                                 13.0    10801.0   \n",
       "Moguer                                                 41.0    21867.0   \n",
       "Almonte                                                32.0    24507.0   \n",
       "Ayamonte                                               64.0    21104.0   \n",
       "Villarrasa                                              2.0     2211.0   \n",
       "Nerva                                                   2.0     5169.0   \n",
       "Beas                                                    2.0     4341.0   \n",
       "Huelva (capital)                                      262.0   143837.0   \n",
       "Huelva                                                967.0   513170.0   \n",
       "Huelva-Costa                                          664.0   289548.0   \n",
       "Condado-Campiña                                       252.0   156231.0   \n",
       "San Bartolomé de la Torre                               5.0     3761.0   \n",
       "Lepe                                                   70.0    27880.0   \n",
       "Lucena del Puerto                                      11.0     3261.0   \n",
       "Gibraleón                                              25.0    12737.0   \n",
       "Palos de la Frontera                                   17.0    11742.0   \n",
       "Aljaraque                                              37.0    21474.0   \n",
       "Santa Bárbara de Casa                                  19.0     1043.0   \n",
       "Isla Cristina                                         138.0    21393.0   \n",
       "Aracena                                                 8.0     8255.0   \n",
       "Trigueros                                               9.0     7862.0   \n",
       "Escacena del Campo                                      1.0     2287.0   \n",
       "Puerto Moral                                            1.0      278.0   \n",
       "Minas de Riotinto                                       1.0     3812.0   \n",
       "Campillo (El)                                           1.0     2024.0   \n",
       "Calañas                                                 1.0     2768.0   \n",
       "Villalba del Alcor                                      1.0     3366.0   \n",
       "Villanueva de los Castillejos                           1.0     2825.0   \n",
       "Niebla                                                 32.0     4116.0   \n",
       "\n",
       "Medida                                   tasa7       tasa14  Diferencia PDIA  \\\n",
       "Lugar de residencia                                                            \n",
       "Valverde del Camino                  15.686275   109.803922              1.0   \n",
       "Puebla de Guzmán                     32.341527   129.366106              0.0   \n",
       "Manzanilla                           47.214353   141.643059              0.0   \n",
       "Sierra de Huelva-Andévalo Central    25.225920    66.774495              4.0   \n",
       "Cartaya                              44.814022   114.524722              1.0   \n",
       "Rosal de la Frontera                117.855038   294.637596              0.0   \n",
       "Zarza-Perrunal (La)                 159.616919   399.042298              1.0   \n",
       "Bollullos Par del Condado            69.507194   173.767985              3.0   \n",
       "Punta Umbría                         39.075220    97.688049              1.0   \n",
       "Bonares                             115.511551   264.026403              2.0   \n",
       "Alosno                              279.684719   610.221205              0.0   \n",
       "San Juan del Puerto                  63.755180   138.136224              2.0   \n",
       "Palma del Condado (La)               55.550412   120.359226              0.0   \n",
       "Moguer                               91.462020   187.497142              6.0   \n",
       "Almonte                              65.287469   130.574938              2.0   \n",
       "Ayamonte                            151.630023   303.260045              5.0   \n",
       "Villarrasa                           45.228403    90.456807              0.0   \n",
       "Nerva                                19.346102    38.692204              0.0   \n",
       "Beas                                 23.036167    46.072334              0.0   \n",
       "Huelva (capital)                     95.246703   182.150629             40.0   \n",
       "Huelva                              105.423154   188.436580            126.0   \n",
       "Huelva-Costa                        129.166839   229.322945            101.0   \n",
       "Condado-Campiña                      94.091442   161.299614             21.0   \n",
       "San Bartolomé de la Torre            79.766020   132.943366              0.0   \n",
       "Lepe                                154.232425   251.076040             16.0   \n",
       "Lucena del Puerto                   214.658080   337.319841              1.0   \n",
       "Gibraleón                           125.618277   196.278559              0.0   \n",
       "Palos de la Frontera                 93.680804   144.779424              4.0   \n",
       "Aljaraque                           111.763062   172.301388              6.0   \n",
       "Santa Bárbara de Casa              1246.404602  1821.668265              1.0   \n",
       "Isla Cristina                       453.419343   645.070818             31.0   \n",
       "Aracena                              72.683222    96.910963              2.0   \n",
       "Trigueros                           101.755279   114.474688              0.0   \n",
       "Escacena del Campo                   43.725404    43.725404              0.0   \n",
       "Puerto Moral                        359.712230   359.712230              0.0   \n",
       "Minas de Riotinto                    26.232949    26.232949              0.0   \n",
       "Campillo (El)                        49.407115    49.407115              0.0   \n",
       "Calañas                              36.127168    36.127168              0.0   \n",
       "Villalba del Alcor                   29.708853    29.708853              0.0   \n",
       "Villanueva de los Castillejos        35.398230    35.398230              0.0   \n",
       "Niebla                              777.453839   777.453839              1.0   \n",
       "\n",
       "Medida                                 7/14  \n",
       "Lugar de residencia                          \n",
       "Valverde del Camino                0.142857  \n",
       "Puebla de Guzmán                   0.250000  \n",
       "Manzanilla                         0.333333  \n",
       "Sierra de Huelva-Andévalo Central  0.377778  \n",
       "Cartaya                            0.391304  \n",
       "Rosal de la Frontera               0.400000  \n",
       "Zarza-Perrunal (La)                0.400000  \n",
       "Bollullos Par del Condado          0.400000  \n",
       "Punta Umbría                       0.400000  \n",
       "Bonares                            0.437500  \n",
       "Alosno                             0.458333  \n",
       "San Juan del Puerto                0.461538  \n",
       "Palma del Condado (La)             0.461538  \n",
       "Moguer                             0.487805  \n",
       "Almonte                            0.500000  \n",
       "Ayamonte                           0.500000  \n",
       "Villarrasa                         0.500000  \n",
       "Nerva                              0.500000  \n",
       "Beas                               0.500000  \n",
       "Huelva (capital)                   0.522901  \n",
       "Huelva                             0.559462  \n",
       "Huelva-Costa                       0.563253  \n",
       "Condado-Campiña                    0.583333  \n",
       "San Bartolomé de la Torre          0.600000  \n",
       "Lepe                               0.614286  \n",
       "Lucena del Puerto                  0.636364  \n",
       "Gibraleón                          0.640000  \n",
       "Palos de la Frontera               0.647059  \n",
       "Aljaraque                          0.648649  \n",
       "Santa Bárbara de Casa              0.684211  \n",
       "Isla Cristina                      0.702899  \n",
       "Aracena                            0.750000  \n",
       "Trigueros                          0.888889  \n",
       "Escacena del Campo                 1.000000  \n",
       "Puerto Moral                       1.000000  \n",
       "Minas de Riotinto                  1.000000  \n",
       "Campillo (El)                      1.000000  \n",
       "Calañas                            1.000000  \n",
       "Villalba del Alcor                 1.000000  \n",
       "Villanueva de los Castillejos      1.000000  \n",
       "Niebla                             1.000000  "
      ],
      "text/html": "<div>\n<style scoped>\n    .dataframe tbody tr th:only-of-type {\n        vertical-align: middle;\n    }\n\n    .dataframe tbody tr th {\n        vertical-align: top;\n    }\n\n    .dataframe thead th {\n        text-align: right;\n    }\n</style>\n<table border=\"1\" class=\"dataframe\">\n  <thead>\n    <tr style=\"text-align: right;\">\n      <th>Medida</th>\n      <th>Confirmados PDIA</th>\n      <th>Confirmados PDIA 7 días</th>\n      <th>Confirmados PDIA 14 días</th>\n      <th>Población</th>\n      <th>tasa7</th>\n      <th>tasa14</th>\n      <th>Diferencia PDIA</th>\n      <th>7/14</th>\n    </tr>\n    <tr>\n      <th>Lugar de residencia</th>\n      <th></th>\n      <th></th>\n      <th></th>\n      <th></th>\n      <th></th>\n      <th></th>\n      <th></th>\n      <th></th>\n    </tr>\n  </thead>\n  <tbody>\n    <tr>\n      <th>Valverde del Camino</th>\n      <td>678.0</td>\n      <td>2.0</td>\n      <td>14.0</td>\n      <td>12750.0</td>\n      <td>15.686275</td>\n      <td>109.803922</td>\n      <td>1.0</td>\n      <td>0.142857</td>\n    </tr>\n    <tr>\n      <th>Puebla de Guzmán</th>\n      <td>145.0</td>\n      <td>1.0</td>\n      <td>4.0</td>\n      <td>3092.0</td>\n      <td>32.341527</td>\n      <td>129.366106</td>\n      <td>0.0</td>\n      <td>0.250000</td>\n    </tr>\n    <tr>\n      <th>Manzanilla</th>\n      <td>110.0</td>\n      <td>1.0</td>\n      <td>3.0</td>\n      <td>2118.0</td>\n      <td>47.214353</td>\n      <td>141.643059</td>\n      <td>0.0</td>\n      <td>0.333333</td>\n    </tr>\n    <tr>\n      <th>Sierra de Huelva-Andévalo Central</th>\n      <td>2983.0</td>\n      <td>17.0</td>\n      <td>45.0</td>\n      <td>67391.0</td>\n      <td>25.225920</td>\n      <td>66.774495</td>\n      <td>4.0</td>\n      <td>0.377778</td>\n    </tr>\n    <tr>\n      <th>Cartaya</th>\n      <td>1431.0</td>\n      <td>9.0</td>\n      <td>23.0</td>\n      <td>20083.0</td>\n      <td>44.814022</td>\n      <td>114.524722</td>\n      <td>1.0</td>\n      <td>0.391304</td>\n    </tr>\n    <tr>\n      <th>Rosal de la Frontera</th>\n      <td>36.0</td>\n      <td>2.0</td>\n      <td>5.0</td>\n      <td>1697.0</td>\n      <td>117.855038</td>\n      <td>294.637596</td>\n      <td>0.0</td>\n      <td>0.400000</td>\n    </tr>\n    <tr>\n      <th>Zarza-Perrunal (La)</th>\n      <td>31.0</td>\n      <td>2.0</td>\n      <td>5.0</td>\n      <td>1253.0</td>\n      <td>159.616919</td>\n      <td>399.042298</td>\n      <td>1.0</td>\n      <td>0.400000</td>\n    </tr>\n    <tr>\n      <th>Bollullos Par del Condado</th>\n      <td>1059.0</td>\n      <td>10.0</td>\n      <td>25.0</td>\n      <td>14387.0</td>\n      <td>69.507194</td>\n      <td>173.767985</td>\n      <td>3.0</td>\n      <td>0.400000</td>\n    </tr>\n    <tr>\n      <th>Punta Umbría</th>\n      <td>872.0</td>\n      <td>6.0</td>\n      <td>15.0</td>\n      <td>15355.0</td>\n      <td>39.075220</td>\n      <td>97.688049</td>\n      <td>1.0</td>\n      <td>0.400000</td>\n    </tr>\n    <tr>\n      <th>Bonares</th>\n      <td>316.0</td>\n      <td>7.0</td>\n      <td>16.0</td>\n      <td>6060.0</td>\n      <td>115.511551</td>\n      <td>264.026403</td>\n      <td>2.0</td>\n      <td>0.437500</td>\n    </tr>\n    <tr>\n      <th>Alosno</th>\n      <td>207.0</td>\n      <td>11.0</td>\n      <td>24.0</td>\n      <td>3933.0</td>\n      <td>279.684719</td>\n      <td>610.221205</td>\n      <td>0.0</td>\n      <td>0.458333</td>\n    </tr>\n    <tr>\n      <th>San Juan del Puerto</th>\n      <td>602.0</td>\n      <td>6.0</td>\n      <td>13.0</td>\n      <td>9411.0</td>\n      <td>63.755180</td>\n      <td>138.136224</td>\n      <td>2.0</td>\n      <td>0.461538</td>\n    </tr>\n    <tr>\n      <th>Palma del Condado (La)</th>\n      <td>1208.0</td>\n      <td>6.0</td>\n      <td>13.0</td>\n      <td>10801.0</td>\n      <td>55.550412</td>\n      <td>120.359226</td>\n      <td>0.0</td>\n      <td>0.461538</td>\n    </tr>\n    <tr>\n      <th>Moguer</th>\n      <td>1450.0</td>\n      <td>20.0</td>\n      <td>41.0</td>\n      <td>21867.0</td>\n      <td>91.462020</td>\n      <td>187.497142</td>\n      <td>6.0</td>\n      <td>0.487805</td>\n    </tr>\n    <tr>\n      <th>Almonte</th>\n      <td>1950.0</td>\n      <td>16.0</td>\n      <td>32.0</td>\n      <td>24507.0</td>\n      <td>65.287469</td>\n      <td>130.574938</td>\n      <td>2.0</td>\n      <td>0.500000</td>\n    </tr>\n    <tr>\n      <th>Ayamonte</th>\n      <td>1411.0</td>\n      <td>32.0</td>\n      <td>64.0</td>\n      <td>21104.0</td>\n      <td>151.630023</td>\n      <td>303.260045</td>\n      <td>5.0</td>\n      <td>0.500000</td>\n    </tr>\n    <tr>\n      <th>Villarrasa</th>\n      <td>182.0</td>\n      <td>1.0</td>\n      <td>2.0</td>\n      <td>2211.0</td>\n      <td>45.228403</td>\n      <td>90.456807</td>\n      <td>0.0</td>\n      <td>0.500000</td>\n    </tr>\n    <tr>\n      <th>Nerva</th>\n      <td>182.0</td>\n      <td>1.0</td>\n      <td>2.0</td>\n      <td>5169.0</td>\n      <td>19.346102</td>\n      <td>38.692204</td>\n      <td>0.0</td>\n      <td>0.500000</td>\n    </tr>\n    <tr>\n      <th>Beas</th>\n      <td>234.0</td>\n      <td>1.0</td>\n      <td>2.0</td>\n      <td>4341.0</td>\n      <td>23.036167</td>\n      <td>46.072334</td>\n      <td>0.0</td>\n      <td>0.500000</td>\n    </tr>\n    <tr>\n      <th>Huelva (capital)</th>\n      <td>9380.0</td>\n      <td>137.0</td>\n      <td>262.0</td>\n      <td>143837.0</td>\n      <td>95.246703</td>\n      <td>182.150629</td>\n      <td>40.0</td>\n      <td>0.522901</td>\n    </tr>\n    <tr>\n      <th>Huelva</th>\n      <td>34299.0</td>\n      <td>541.0</td>\n      <td>967.0</td>\n      <td>513170.0</td>\n      <td>105.423154</td>\n      <td>188.436580</td>\n      <td>126.0</td>\n      <td>0.559462</td>\n    </tr>\n    <tr>\n      <th>Huelva-Costa</th>\n      <td>19860.0</td>\n      <td>374.0</td>\n      <td>664.0</td>\n      <td>289548.0</td>\n      <td>129.166839</td>\n      <td>229.322945</td>\n      <td>101.0</td>\n      <td>0.563253</td>\n    </tr>\n    <tr>\n      <th>Condado-Campiña</th>\n      <td>11098.0</td>\n      <td>147.0</td>\n      <td>252.0</td>\n      <td>156231.0</td>\n      <td>94.091442</td>\n      <td>161.299614</td>\n      <td>21.0</td>\n      <td>0.583333</td>\n    </tr>\n    <tr>\n      <th>San Bartolomé de la Torre</th>\n      <td>312.0</td>\n      <td>3.0</td>\n      <td>5.0</td>\n      <td>3761.0</td>\n      <td>79.766020</td>\n      <td>132.943366</td>\n      <td>0.0</td>\n      <td>0.600000</td>\n    </tr>\n    <tr>\n      <th>Lepe</th>\n      <td>2246.0</td>\n      <td>43.0</td>\n      <td>70.0</td>\n      <td>27880.0</td>\n      <td>154.232425</td>\n      <td>251.076040</td>\n      <td>16.0</td>\n      <td>0.614286</td>\n    </tr>\n    <tr>\n      <th>Lucena del Puerto</th>\n      <td>278.0</td>\n      <td>7.0</td>\n      <td>11.0</td>\n      <td>3261.0</td>\n      <td>214.658080</td>\n      <td>337.319841</td>\n      <td>1.0</td>\n      <td>0.636364</td>\n    </tr>\n    <tr>\n      <th>Gibraleón</th>\n      <td>678.0</td>\n      <td>16.0</td>\n      <td>25.0</td>\n      <td>12737.0</td>\n      <td>125.618277</td>\n      <td>196.278559</td>\n      <td>0.0</td>\n      <td>0.640000</td>\n    </tr>\n    <tr>\n      <th>Palos de la Frontera</th>\n      <td>747.0</td>\n      <td>11.0</td>\n      <td>17.0</td>\n      <td>11742.0</td>\n      <td>93.680804</td>\n      <td>144.779424</td>\n      <td>4.0</td>\n      <td>0.647059</td>\n    </tr>\n    <tr>\n      <th>Aljaraque</th>\n      <td>1208.0</td>\n      <td>24.0</td>\n      <td>37.0</td>\n      <td>21474.0</td>\n      <td>111.763062</td>\n      <td>172.301388</td>\n      <td>6.0</td>\n      <td>0.648649</td>\n    </tr>\n    <tr>\n      <th>Santa Bárbara de Casa</th>\n      <td>35.0</td>\n      <td>13.0</td>\n      <td>19.0</td>\n      <td>1043.0</td>\n      <td>1246.404602</td>\n      <td>1821.668265</td>\n      <td>1.0</td>\n      <td>0.684211</td>\n    </tr>\n    <tr>\n      <th>Isla Cristina</th>\n      <td>2329.0</td>\n      <td>97.0</td>\n      <td>138.0</td>\n      <td>21393.0</td>\n      <td>453.419343</td>\n      <td>645.070818</td>\n      <td>31.0</td>\n      <td>0.702899</td>\n    </tr>\n    <tr>\n      <th>Aracena</th>\n      <td>549.0</td>\n      <td>6.0</td>\n      <td>8.0</td>\n      <td>8255.0</td>\n      <td>72.683222</td>\n      <td>96.910963</td>\n      <td>2.0</td>\n      <td>0.750000</td>\n    </tr>\n    <tr>\n      <th>Trigueros</th>\n      <td>344.0</td>\n      <td>8.0</td>\n      <td>9.0</td>\n      <td>7862.0</td>\n      <td>101.755279</td>\n      <td>114.474688</td>\n      <td>0.0</td>\n      <td>0.888889</td>\n    </tr>\n    <tr>\n      <th>Escacena del Campo</th>\n      <td>155.0</td>\n      <td>1.0</td>\n      <td>1.0</td>\n      <td>2287.0</td>\n      <td>43.725404</td>\n      <td>43.725404</td>\n      <td>0.0</td>\n      <td>1.000000</td>\n    </tr>\n    <tr>\n      <th>Puerto Moral</th>\n      <td>5.0</td>\n      <td>1.0</td>\n      <td>1.0</td>\n      <td>278.0</td>\n      <td>359.712230</td>\n      <td>359.712230</td>\n      <td>0.0</td>\n      <td>1.000000</td>\n    </tr>\n    <tr>\n      <th>Minas de Riotinto</th>\n      <td>130.0</td>\n      <td>1.0</td>\n      <td>1.0</td>\n      <td>3812.0</td>\n      <td>26.232949</td>\n      <td>26.232949</td>\n      <td>0.0</td>\n      <td>1.000000</td>\n    </tr>\n    <tr>\n      <th>Campillo (El)</th>\n      <td>75.0</td>\n      <td>1.0</td>\n      <td>1.0</td>\n      <td>2024.0</td>\n      <td>49.407115</td>\n      <td>49.407115</td>\n      <td>0.0</td>\n      <td>1.000000</td>\n    </tr>\n    <tr>\n      <th>Calañas</th>\n      <td>202.0</td>\n      <td>1.0</td>\n      <td>1.0</td>\n      <td>2768.0</td>\n      <td>36.127168</td>\n      <td>36.127168</td>\n      <td>0.0</td>\n      <td>1.000000</td>\n    </tr>\n    <tr>\n      <th>Villalba del Alcor</th>\n      <td>483.0</td>\n      <td>1.0</td>\n      <td>1.0</td>\n      <td>3366.0</td>\n      <td>29.708853</td>\n      <td>29.708853</td>\n      <td>0.0</td>\n      <td>1.000000</td>\n    </tr>\n    <tr>\n      <th>Villanueva de los Castillejos</th>\n      <td>166.0</td>\n      <td>1.0</td>\n      <td>1.0</td>\n      <td>2825.0</td>\n      <td>35.398230</td>\n      <td>35.398230</td>\n      <td>0.0</td>\n      <td>1.000000</td>\n    </tr>\n    <tr>\n      <th>Niebla</th>\n      <td>281.0</td>\n      <td>32.0</td>\n      <td>32.0</td>\n      <td>4116.0</td>\n      <td>777.453839</td>\n      <td>777.453839</td>\n      <td>1.0</td>\n      <td>1.000000</td>\n    </tr>\n  </tbody>\n</table>\n</div>"
     },
     "metadata": {},
     "execution_count": 18
    }
   ],
   "source": [
    "# Peso de la tasa de la última semana en relación con la tasa a 14 días \n",
    "# Mejor cuanto menor. Valor 1 significa que no había casos antes de 7 días.\n",
    "tabla['7/14'] = tabla['tasa7'] / tabla['tasa14']\n",
    "tabla.fillna(0).sort_values('7/14', ascending=True)"
   ]
  },
  {
   "cell_type": "code",
   "execution_count": null,
   "metadata": {},
   "outputs": [],
   "source": []
  }
 ]
}