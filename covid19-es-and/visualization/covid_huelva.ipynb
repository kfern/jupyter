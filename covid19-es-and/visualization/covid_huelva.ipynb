{
 "metadata": {
  "language_info": {
   "codemirror_mode": {
    "name": "ipython",
    "version": 3
   },
   "file_extension": ".py",
   "mimetype": "text/x-python",
   "name": "python",
   "nbconvert_exporter": "python",
   "pygments_lexer": "ipython3",
   "version": "3.6.9-final"
  },
  "orig_nbformat": 2,
  "kernelspec": {
   "name": "Python 3.6.9 64-bit",
   "display_name": "Python 3.6.9 64-bit",
   "metadata": {
    "interpreter": {
     "hash": "31f2aee4e71d21fbe5cf8b01ff0e069b9275f58929596ceb00d14d90e3e16cd6"
    }
   }
  }
 },
 "nbformat": 4,
 "nbformat_minor": 2,
 "cells": [
  {
   "cell_type": "code",
   "execution_count": 1,
   "metadata": {},
   "outputs": [],
   "source": [
    "import pandas as pd"
   ]
  },
  {
   "cell_type": "code",
   "execution_count": 2,
   "metadata": {},
   "outputs": [],
   "source": [
    "# FIX SSL: CERTIFICATE_VERIFY_FAILED with Python3\n",
    "# https://stackoverflow.com/a/49174340\n",
    "import ssl\n",
    "\n",
    "ssl._create_default_https_context = ssl._create_unverified_context"
   ]
  },
  {
   "cell_type": "code",
   "execution_count": 3,
   "metadata": {},
   "outputs": [],
   "source": [
    "url = 'https://www.juntadeandalucia.es/institutodeestadisticaycartografia/badea/stpivot/stpivot/Print?cube=013d884c-cfc5-4c21-9e78-e26225682afd&type=3&foto=si&ejecutaDesde=&codConsulta=38668&consTipoVisua=JP'\n",
    "fields = ['Lugar de residencia', 'Medida', 'Valor']\n",
    "df = pd.read_csv(url, delimiter=';', usecols=fields, decimal=',')"
   ]
  },
  {
   "cell_type": "code",
   "execution_count": 4,
   "metadata": {},
   "outputs": [
    {
     "output_type": "execute_result",
     "data": {
      "text/plain": [
       "                     Lugar de residencia                    Medida  \\\n",
       "0                                 Huelva                 Población   \n",
       "1                                 Huelva          Confirmados PDIA   \n",
       "2                                 Huelva  Confirmados PDIA 14 días   \n",
       "3                                 Huelva         Tasa PDIA 14 días   \n",
       "4                                 Huelva   Confirmados PDIA 7 días   \n",
       "..                                   ...                       ...   \n",
       "627  Municipio de Huelva sin especificar         Tasa PDIA 14 días   \n",
       "628  Municipio de Huelva sin especificar   Confirmados PDIA 7 días   \n",
       "629  Municipio de Huelva sin especificar        Total Confirmados    \n",
       "630  Municipio de Huelva sin especificar                   Curados   \n",
       "631  Municipio de Huelva sin especificar                Fallecidos   \n",
       "\n",
       "                  Valor  \n",
       "0                510743  \n",
       "1                  3692  \n",
       "2                  1586  \n",
       "3    310,52799548892494  \n",
       "4                   938  \n",
       "..                  ...  \n",
       "627                   -  \n",
       "628                  26  \n",
       "629                  58  \n",
       "630                  11  \n",
       "631                   1  \n",
       "\n",
       "[632 rows x 3 columns]"
      ],
      "text/html": "<div>\n<style scoped>\n    .dataframe tbody tr th:only-of-type {\n        vertical-align: middle;\n    }\n\n    .dataframe tbody tr th {\n        vertical-align: top;\n    }\n\n    .dataframe thead th {\n        text-align: right;\n    }\n</style>\n<table border=\"1\" class=\"dataframe\">\n  <thead>\n    <tr style=\"text-align: right;\">\n      <th></th>\n      <th>Lugar de residencia</th>\n      <th>Medida</th>\n      <th>Valor</th>\n    </tr>\n  </thead>\n  <tbody>\n    <tr>\n      <th>0</th>\n      <td>Huelva</td>\n      <td>Población</td>\n      <td>510743</td>\n    </tr>\n    <tr>\n      <th>1</th>\n      <td>Huelva</td>\n      <td>Confirmados PDIA</td>\n      <td>3692</td>\n    </tr>\n    <tr>\n      <th>2</th>\n      <td>Huelva</td>\n      <td>Confirmados PDIA 14 días</td>\n      <td>1586</td>\n    </tr>\n    <tr>\n      <th>3</th>\n      <td>Huelva</td>\n      <td>Tasa PDIA 14 días</td>\n      <td>310,52799548892494</td>\n    </tr>\n    <tr>\n      <th>4</th>\n      <td>Huelva</td>\n      <td>Confirmados PDIA 7 días</td>\n      <td>938</td>\n    </tr>\n    <tr>\n      <th>...</th>\n      <td>...</td>\n      <td>...</td>\n      <td>...</td>\n    </tr>\n    <tr>\n      <th>627</th>\n      <td>Municipio de Huelva sin especificar</td>\n      <td>Tasa PDIA 14 días</td>\n      <td>-</td>\n    </tr>\n    <tr>\n      <th>628</th>\n      <td>Municipio de Huelva sin especificar</td>\n      <td>Confirmados PDIA 7 días</td>\n      <td>26</td>\n    </tr>\n    <tr>\n      <th>629</th>\n      <td>Municipio de Huelva sin especificar</td>\n      <td>Total Confirmados</td>\n      <td>58</td>\n    </tr>\n    <tr>\n      <th>630</th>\n      <td>Municipio de Huelva sin especificar</td>\n      <td>Curados</td>\n      <td>11</td>\n    </tr>\n    <tr>\n      <th>631</th>\n      <td>Municipio de Huelva sin especificar</td>\n      <td>Fallecidos</td>\n      <td>1</td>\n    </tr>\n  </tbody>\n</table>\n<p>632 rows × 3 columns</p>\n</div>"
     },
     "metadata": {},
     "execution_count": 4
    }
   ],
   "source": [
    "df"
   ]
  },
  {
   "cell_type": "code",
   "execution_count": 5,
   "metadata": {},
   "outputs": [],
   "source": [
    "df['Valor'] = pd.to_numeric(df['Valor'],errors='coerce')"
   ]
  },
  {
   "cell_type": "code",
   "execution_count": 6,
   "metadata": {},
   "outputs": [],
   "source": [
    "dfAnterior = pd.read_csv('covid_huelva.csv', index_col='Lugar de residencia')"
   ]
  },
  {
   "cell_type": "code",
   "execution_count": 7,
   "metadata": {
    "tags": []
   },
   "outputs": [
    {
     "output_type": "stream",
     "name": "stdout",
     "text": [
      "Confirmados PCR en la provincia de Huelva:  3692.0\n"
     ]
    }
   ],
   "source": [
    "# Confirmados PCR provincia Huelva\n",
    "p = df[df['Lugar de residencia'] == 'Huelva'][df['Medida'] == 'Confirmados PDIA']['Valor'].values[0]\n",
    "print('Confirmados PCR en la provincia de Huelva: ', p)"
   ]
  },
  {
   "cell_type": "code",
   "execution_count": 8,
   "metadata": {
    "tags": []
   },
   "outputs": [
    {
     "output_type": "stream",
     "name": "stdout",
     "text": [
      "Confirmados PCR en Huelva capital:  976.0\n"
     ]
    }
   ],
   "source": [
    "# Confirmados PCR Huelva capitalpd\n",
    "c = df[df['Lugar de residencia'] == 'Huelva (capital)'][df['Medida'] == 'Confirmados PDIA']['Valor'].values[0]\n",
    "print('Confirmados PCR en Huelva capital: ', c)"
   ]
  },
  {
   "cell_type": "code",
   "execution_count": 9,
   "metadata": {
    "tags": []
   },
   "outputs": [],
   "source": [
    "c7 = df[df['Lugar de residencia'] == 'Huelva (capital)'][df['Medida'] == 'Confirmados PDIA 7 días']['Valor'].values[0]\n",
    "c14 = df[df['Lugar de residencia'] == 'Huelva (capital)'][df['Medida'] == 'Confirmados PDIA 14 días']['Valor'].values[0]\n",
    "p = df[df['Lugar de residencia'] == 'Huelva (capital)'][df['Medida'] == 'Población']['Valor'].values[0]"
   ]
  },
  {
   "cell_type": "code",
   "execution_count": 10,
   "metadata": {
    "tags": []
   },
   "outputs": [
    {
     "output_type": "stream",
     "name": "stdout",
     "text": [
      "Huelva (capital)\n\nUn positivo PCR cada 557 personas en los últimos 7 días \n\nUn positivo PCR cada 349 personas en los últimos 14 días\n"
     ]
    }
   ],
   "source": [
    "print('Huelva (capital)\\n')\n",
    "#print('Confirmados PCR 7 días x 1,000 habitantes: ', f\"{c7/(p/1000):.5f}\")\n",
    "print('Un positivo PCR cada', f\"{p/c7:.0f}\", 'personas en los últimos 7 días', '\\n')\n",
    "#print('Confirmados PCR 14 días x 1,000 habitantes: ', f\"{c14/(p/1000):.5f}\")\n",
    "print('Un positivo PCR cada', f\"{p/c14:.0f}\", 'personas en los últimos 14 días')"
   ]
  },
  {
   "cell_type": "code",
   "execution_count": 11,
   "metadata": {},
   "outputs": [],
   "source": [
    "filtro = ((df['Medida'] == 'Confirmados PDIA')| (df['Medida'] == 'Confirmados PDIA 7 días') | (df['Medida'] == 'Población' ) | (df['Medida'] == 'Confirmados PDIA 14 días')) & (df['Valor'] > 0)\n",
    "tabla = pd.pivot_table(df.loc[filtro], values='Valor', index='Lugar de residencia', columns='Medida').dropna()"
   ]
  },
  {
   "cell_type": "code",
   "execution_count": 12,
   "metadata": {},
   "outputs": [],
   "source": [
    "# Reorder columns\n",
    "tabla = tabla[['Confirmados PDIA', 'Confirmados PDIA 7 días', 'Confirmados PDIA 14 días', 'Población']]"
   ]
  },
  {
   "cell_type": "code",
   "execution_count": 13,
   "metadata": {},
   "outputs": [],
   "source": [
    "tabla['tasa7'] = tabla['Confirmados PDIA 7 días']/tabla['Población']*100000\n",
    "tabla['tasa14'] = tabla['Confirmados PDIA 14 días']/tabla['Población']*100000"
   ]
  },
  {
   "cell_type": "code",
   "execution_count": 14,
   "metadata": {},
   "outputs": [],
   "source": [
    "tabla['Diferencia PDIA'] = tabla['Confirmados PDIA'] - dfAnterior['Confirmados PDIA']"
   ]
  },
  {
   "cell_type": "code",
   "execution_count": 15,
   "metadata": {},
   "outputs": [
    {
     "output_type": "execute_result",
     "data": {
      "text/plain": [
       "Medida                             Confirmados PDIA  Confirmados PDIA 7 días  \\\n",
       "Lugar de residencia                                                            \n",
       "Huelva                                       3692.0                    938.0   \n",
       "Huelva-Costa                                 1857.0                    449.0   \n",
       "Condado-Campiña                              1174.0                    290.0   \n",
       "Huelva (capital)                              976.0                    258.0   \n",
       "Sierra de Huelva-Andévalo Central             603.0                    173.0   \n",
       "Almonte                                       185.0                     73.0   \n",
       "Palma del Condado (La)                        173.0                     40.0   \n",
       "Valverde del Camino                           110.0                     54.0   \n",
       "Aracena                                        98.0                     27.0   \n",
       "Gibraleón                                     108.0                     44.0   \n",
       "Lepe                                          273.0                     61.0   \n",
       "Aroche                                         23.0                      9.0   \n",
       "Ayamonte                                       87.0                     17.0   \n",
       "Isla Cristina                                 114.0                     19.0   \n",
       "Aljaraque                                     141.0                     38.0   \n",
       "Cartaya                                        85.0                     25.0   \n",
       "Villarrasa                                     53.0                     19.0   \n",
       "Escacena del Campo                             46.0                     24.0   \n",
       "Villalba del Alcor                             53.0                      6.0   \n",
       "Punta Umbría                                   62.0                     18.0   \n",
       "Niebla                                         33.0                     14.0   \n",
       "Bollullos Par del Condado                     145.0                     18.0   \n",
       "Nerva                                          46.0                     11.0   \n",
       "Moguer                                         70.0                      7.0   \n",
       "Manzanilla                                     24.0                      4.0   \n",
       "Almonaster la Real                             20.0                      8.0   \n",
       "Palos de la Frontera                           46.0                      6.0   \n",
       "San Bartolomé de la Torre                       9.0                      2.0   \n",
       "Beas                                           14.0                      5.0   \n",
       "Trigueros                                      59.0                     12.0   \n",
       "Alosno                                         12.0                      4.0   \n",
       "Granado (El)                                   34.0                      3.0   \n",
       "Bonares                                        11.0                      1.0   \n",
       "Cumbres Mayores                                 4.0                      1.0   \n",
       "Paterna del Campo                              21.0                      2.0   \n",
       "Paymogo                                         2.0                      1.0   \n",
       "Zalamea la Real                                30.0                      2.0   \n",
       "\n",
       "Medida                             Confirmados PDIA 14 días  Población  \\\n",
       "Lugar de residencia                                                      \n",
       "Huelva                                               1586.0   510743.0   \n",
       "Huelva-Costa                                          766.0   288115.0   \n",
       "Condado-Campiña                                       457.0   155057.0   \n",
       "Huelva (capital)                                      412.0   143663.0   \n",
       "Sierra de Huelva-Andévalo Central                     336.0    67571.0   \n",
       "Almonte                                               115.0    24191.0   \n",
       "Palma del Condado (La)                                 67.0    10761.0   \n",
       "Valverde del Camino                                    76.0    12820.0   \n",
       "Aracena                                                38.0     8107.0   \n",
       "Gibraleón                                              67.0    12607.0   \n",
       "Lepe                                                  117.0    27431.0   \n",
       "Aroche                                                 13.0     3073.0   \n",
       "Ayamonte                                               35.0    20946.0   \n",
       "Isla Cristina                                          35.0    21264.0   \n",
       "Aljaraque                                              55.0    21260.0   \n",
       "Cartaya                                                50.0    19974.0   \n",
       "Villarrasa                                             24.0     2176.0   \n",
       "Escacena del Campo                                     27.0     2284.0   \n",
       "Villalba del Alcor                                     11.0     3338.0   \n",
       "Punta Umbría                                           23.0    15242.0   \n",
       "Niebla                                                 24.0     4117.0   \n",
       "Bollullos Par del Condado                              29.0    14272.0   \n",
       "Nerva                                                  20.0     5235.0   \n",
       "Moguer                                                 12.0    22088.0   \n",
       "Manzanilla                                              4.0     2135.0   \n",
       "Almonaster la Real                                     18.0     1819.0   \n",
       "Palos de la Frontera                                   16.0    11289.0   \n",
       "San Bartolomé de la Torre                               5.0     3736.0   \n",
       "Beas                                                    5.0     4257.0   \n",
       "Trigueros                                              20.0     7713.0   \n",
       "Alosno                                                  5.0     3923.0   \n",
       "Granado (El)                                           19.0      516.0   \n",
       "Bonares                                                 4.0     6058.0   \n",
       "Cumbres Mayores                                         1.0     1755.0   \n",
       "Paterna del Campo                                       4.0     3509.0   \n",
       "Paymogo                                                 1.0     1159.0   \n",
       "Zalamea la Real                                         2.0     3068.0   \n",
       "\n",
       "Medida                                   tasa7       tasa14  Diferencia PDIA  \n",
       "Lugar de residencia                                                           \n",
       "Huelva                              183.654010   310.527995            165.0  \n",
       "Huelva-Costa                        155.840550   265.866060             76.0  \n",
       "Condado-Campiña                     187.027996   294.730325             61.0  \n",
       "Huelva (capital)                    179.586950   286.782261             40.0  \n",
       "Sierra de Huelva-Andévalo Central   256.026994   497.254739             28.0  \n",
       "Almonte                             301.765119   475.383407             15.0  \n",
       "Palma del Condado (La)              371.712666   622.618716              9.0  \n",
       "Valverde del Camino                 421.216849   592.823713              8.0  \n",
       "Aracena                             333.045516   468.730727              8.0  \n",
       "Gibraleón                           349.012453   531.450781              8.0  \n",
       "Lepe                                222.376144   426.524735              7.0  \n",
       "Aroche                              292.873414   423.039375              6.0  \n",
       "Ayamonte                             81.161081   167.096343              6.0  \n",
       "Isla Cristina                        89.352897   164.597442              6.0  \n",
       "Aljaraque                           178.739417   258.701787              5.0  \n",
       "Cartaya                             125.162712   250.325423              5.0  \n",
       "Villarrasa                          873.161765  1102.941176              4.0  \n",
       "Escacena del Campo                 1050.788091  1182.136602              4.0  \n",
       "Villalba del Alcor                  179.748352   329.538646              4.0  \n",
       "Punta Umbría                        118.094738   150.898832              4.0  \n",
       "Niebla                              340.053437   582.948749              3.0  \n",
       "Bollullos Par del Condado           126.121076   203.195067              3.0  \n",
       "Nerva                               210.124164   382.043935              2.0  \n",
       "Moguer                               31.691416    54.328142              2.0  \n",
       "Manzanilla                          187.353630   187.353630              2.0  \n",
       "Almonaster la Real                  439.802089   989.554700              1.0  \n",
       "Palos de la Frontera                 53.149083   141.730888              1.0  \n",
       "San Bartolomé de la Torre            53.533191   133.832976              1.0  \n",
       "Beas                                117.453606   117.453606              1.0  \n",
       "Trigueros                           155.581486   259.302476              1.0  \n",
       "Alosno                              101.962784   127.453479              1.0  \n",
       "Granado (El)                        581.395349  3682.170543              1.0  \n",
       "Bonares                              16.507098    66.028392              NaN  \n",
       "Cumbres Mayores                      56.980057    56.980057              NaN  \n",
       "Paterna del Campo                    56.996295   113.992590              NaN  \n",
       "Paymogo                              86.281277    86.281277              NaN  \n",
       "Zalamea la Real                      65.189048    65.189048              NaN  "
      ],
      "text/html": "<div>\n<style scoped>\n    .dataframe tbody tr th:only-of-type {\n        vertical-align: middle;\n    }\n\n    .dataframe tbody tr th {\n        vertical-align: top;\n    }\n\n    .dataframe thead th {\n        text-align: right;\n    }\n</style>\n<table border=\"1\" class=\"dataframe\">\n  <thead>\n    <tr style=\"text-align: right;\">\n      <th>Medida</th>\n      <th>Confirmados PDIA</th>\n      <th>Confirmados PDIA 7 días</th>\n      <th>Confirmados PDIA 14 días</th>\n      <th>Población</th>\n      <th>tasa7</th>\n      <th>tasa14</th>\n      <th>Diferencia PDIA</th>\n    </tr>\n    <tr>\n      <th>Lugar de residencia</th>\n      <th></th>\n      <th></th>\n      <th></th>\n      <th></th>\n      <th></th>\n      <th></th>\n      <th></th>\n    </tr>\n  </thead>\n  <tbody>\n    <tr>\n      <th>Huelva</th>\n      <td>3692.0</td>\n      <td>938.0</td>\n      <td>1586.0</td>\n      <td>510743.0</td>\n      <td>183.654010</td>\n      <td>310.527995</td>\n      <td>165.0</td>\n    </tr>\n    <tr>\n      <th>Huelva-Costa</th>\n      <td>1857.0</td>\n      <td>449.0</td>\n      <td>766.0</td>\n      <td>288115.0</td>\n      <td>155.840550</td>\n      <td>265.866060</td>\n      <td>76.0</td>\n    </tr>\n    <tr>\n      <th>Condado-Campiña</th>\n      <td>1174.0</td>\n      <td>290.0</td>\n      <td>457.0</td>\n      <td>155057.0</td>\n      <td>187.027996</td>\n      <td>294.730325</td>\n      <td>61.0</td>\n    </tr>\n    <tr>\n      <th>Huelva (capital)</th>\n      <td>976.0</td>\n      <td>258.0</td>\n      <td>412.0</td>\n      <td>143663.0</td>\n      <td>179.586950</td>\n      <td>286.782261</td>\n      <td>40.0</td>\n    </tr>\n    <tr>\n      <th>Sierra de Huelva-Andévalo Central</th>\n      <td>603.0</td>\n      <td>173.0</td>\n      <td>336.0</td>\n      <td>67571.0</td>\n      <td>256.026994</td>\n      <td>497.254739</td>\n      <td>28.0</td>\n    </tr>\n    <tr>\n      <th>Almonte</th>\n      <td>185.0</td>\n      <td>73.0</td>\n      <td>115.0</td>\n      <td>24191.0</td>\n      <td>301.765119</td>\n      <td>475.383407</td>\n      <td>15.0</td>\n    </tr>\n    <tr>\n      <th>Palma del Condado (La)</th>\n      <td>173.0</td>\n      <td>40.0</td>\n      <td>67.0</td>\n      <td>10761.0</td>\n      <td>371.712666</td>\n      <td>622.618716</td>\n      <td>9.0</td>\n    </tr>\n    <tr>\n      <th>Valverde del Camino</th>\n      <td>110.0</td>\n      <td>54.0</td>\n      <td>76.0</td>\n      <td>12820.0</td>\n      <td>421.216849</td>\n      <td>592.823713</td>\n      <td>8.0</td>\n    </tr>\n    <tr>\n      <th>Aracena</th>\n      <td>98.0</td>\n      <td>27.0</td>\n      <td>38.0</td>\n      <td>8107.0</td>\n      <td>333.045516</td>\n      <td>468.730727</td>\n      <td>8.0</td>\n    </tr>\n    <tr>\n      <th>Gibraleón</th>\n      <td>108.0</td>\n      <td>44.0</td>\n      <td>67.0</td>\n      <td>12607.0</td>\n      <td>349.012453</td>\n      <td>531.450781</td>\n      <td>8.0</td>\n    </tr>\n    <tr>\n      <th>Lepe</th>\n      <td>273.0</td>\n      <td>61.0</td>\n      <td>117.0</td>\n      <td>27431.0</td>\n      <td>222.376144</td>\n      <td>426.524735</td>\n      <td>7.0</td>\n    </tr>\n    <tr>\n      <th>Aroche</th>\n      <td>23.0</td>\n      <td>9.0</td>\n      <td>13.0</td>\n      <td>3073.0</td>\n      <td>292.873414</td>\n      <td>423.039375</td>\n      <td>6.0</td>\n    </tr>\n    <tr>\n      <th>Ayamonte</th>\n      <td>87.0</td>\n      <td>17.0</td>\n      <td>35.0</td>\n      <td>20946.0</td>\n      <td>81.161081</td>\n      <td>167.096343</td>\n      <td>6.0</td>\n    </tr>\n    <tr>\n      <th>Isla Cristina</th>\n      <td>114.0</td>\n      <td>19.0</td>\n      <td>35.0</td>\n      <td>21264.0</td>\n      <td>89.352897</td>\n      <td>164.597442</td>\n      <td>6.0</td>\n    </tr>\n    <tr>\n      <th>Aljaraque</th>\n      <td>141.0</td>\n      <td>38.0</td>\n      <td>55.0</td>\n      <td>21260.0</td>\n      <td>178.739417</td>\n      <td>258.701787</td>\n      <td>5.0</td>\n    </tr>\n    <tr>\n      <th>Cartaya</th>\n      <td>85.0</td>\n      <td>25.0</td>\n      <td>50.0</td>\n      <td>19974.0</td>\n      <td>125.162712</td>\n      <td>250.325423</td>\n      <td>5.0</td>\n    </tr>\n    <tr>\n      <th>Villarrasa</th>\n      <td>53.0</td>\n      <td>19.0</td>\n      <td>24.0</td>\n      <td>2176.0</td>\n      <td>873.161765</td>\n      <td>1102.941176</td>\n      <td>4.0</td>\n    </tr>\n    <tr>\n      <th>Escacena del Campo</th>\n      <td>46.0</td>\n      <td>24.0</td>\n      <td>27.0</td>\n      <td>2284.0</td>\n      <td>1050.788091</td>\n      <td>1182.136602</td>\n      <td>4.0</td>\n    </tr>\n    <tr>\n      <th>Villalba del Alcor</th>\n      <td>53.0</td>\n      <td>6.0</td>\n      <td>11.0</td>\n      <td>3338.0</td>\n      <td>179.748352</td>\n      <td>329.538646</td>\n      <td>4.0</td>\n    </tr>\n    <tr>\n      <th>Punta Umbría</th>\n      <td>62.0</td>\n      <td>18.0</td>\n      <td>23.0</td>\n      <td>15242.0</td>\n      <td>118.094738</td>\n      <td>150.898832</td>\n      <td>4.0</td>\n    </tr>\n    <tr>\n      <th>Niebla</th>\n      <td>33.0</td>\n      <td>14.0</td>\n      <td>24.0</td>\n      <td>4117.0</td>\n      <td>340.053437</td>\n      <td>582.948749</td>\n      <td>3.0</td>\n    </tr>\n    <tr>\n      <th>Bollullos Par del Condado</th>\n      <td>145.0</td>\n      <td>18.0</td>\n      <td>29.0</td>\n      <td>14272.0</td>\n      <td>126.121076</td>\n      <td>203.195067</td>\n      <td>3.0</td>\n    </tr>\n    <tr>\n      <th>Nerva</th>\n      <td>46.0</td>\n      <td>11.0</td>\n      <td>20.0</td>\n      <td>5235.0</td>\n      <td>210.124164</td>\n      <td>382.043935</td>\n      <td>2.0</td>\n    </tr>\n    <tr>\n      <th>Moguer</th>\n      <td>70.0</td>\n      <td>7.0</td>\n      <td>12.0</td>\n      <td>22088.0</td>\n      <td>31.691416</td>\n      <td>54.328142</td>\n      <td>2.0</td>\n    </tr>\n    <tr>\n      <th>Manzanilla</th>\n      <td>24.0</td>\n      <td>4.0</td>\n      <td>4.0</td>\n      <td>2135.0</td>\n      <td>187.353630</td>\n      <td>187.353630</td>\n      <td>2.0</td>\n    </tr>\n    <tr>\n      <th>Almonaster la Real</th>\n      <td>20.0</td>\n      <td>8.0</td>\n      <td>18.0</td>\n      <td>1819.0</td>\n      <td>439.802089</td>\n      <td>989.554700</td>\n      <td>1.0</td>\n    </tr>\n    <tr>\n      <th>Palos de la Frontera</th>\n      <td>46.0</td>\n      <td>6.0</td>\n      <td>16.0</td>\n      <td>11289.0</td>\n      <td>53.149083</td>\n      <td>141.730888</td>\n      <td>1.0</td>\n    </tr>\n    <tr>\n      <th>San Bartolomé de la Torre</th>\n      <td>9.0</td>\n      <td>2.0</td>\n      <td>5.0</td>\n      <td>3736.0</td>\n      <td>53.533191</td>\n      <td>133.832976</td>\n      <td>1.0</td>\n    </tr>\n    <tr>\n      <th>Beas</th>\n      <td>14.0</td>\n      <td>5.0</td>\n      <td>5.0</td>\n      <td>4257.0</td>\n      <td>117.453606</td>\n      <td>117.453606</td>\n      <td>1.0</td>\n    </tr>\n    <tr>\n      <th>Trigueros</th>\n      <td>59.0</td>\n      <td>12.0</td>\n      <td>20.0</td>\n      <td>7713.0</td>\n      <td>155.581486</td>\n      <td>259.302476</td>\n      <td>1.0</td>\n    </tr>\n    <tr>\n      <th>Alosno</th>\n      <td>12.0</td>\n      <td>4.0</td>\n      <td>5.0</td>\n      <td>3923.0</td>\n      <td>101.962784</td>\n      <td>127.453479</td>\n      <td>1.0</td>\n    </tr>\n    <tr>\n      <th>Granado (El)</th>\n      <td>34.0</td>\n      <td>3.0</td>\n      <td>19.0</td>\n      <td>516.0</td>\n      <td>581.395349</td>\n      <td>3682.170543</td>\n      <td>1.0</td>\n    </tr>\n    <tr>\n      <th>Bonares</th>\n      <td>11.0</td>\n      <td>1.0</td>\n      <td>4.0</td>\n      <td>6058.0</td>\n      <td>16.507098</td>\n      <td>66.028392</td>\n      <td>NaN</td>\n    </tr>\n    <tr>\n      <th>Cumbres Mayores</th>\n      <td>4.0</td>\n      <td>1.0</td>\n      <td>1.0</td>\n      <td>1755.0</td>\n      <td>56.980057</td>\n      <td>56.980057</td>\n      <td>NaN</td>\n    </tr>\n    <tr>\n      <th>Paterna del Campo</th>\n      <td>21.0</td>\n      <td>2.0</td>\n      <td>4.0</td>\n      <td>3509.0</td>\n      <td>56.996295</td>\n      <td>113.992590</td>\n      <td>NaN</td>\n    </tr>\n    <tr>\n      <th>Paymogo</th>\n      <td>2.0</td>\n      <td>1.0</td>\n      <td>1.0</td>\n      <td>1159.0</td>\n      <td>86.281277</td>\n      <td>86.281277</td>\n      <td>NaN</td>\n    </tr>\n    <tr>\n      <th>Zalamea la Real</th>\n      <td>30.0</td>\n      <td>2.0</td>\n      <td>2.0</td>\n      <td>3068.0</td>\n      <td>65.189048</td>\n      <td>65.189048</td>\n      <td>NaN</td>\n    </tr>\n  </tbody>\n</table>\n</div>"
     },
     "metadata": {},
     "execution_count": 15
    }
   ],
   "source": [
    "# Nuevos casos desde la última captura\n",
    "tabla[tabla['Diferencia PDIA'] != 0].sort_values('Diferencia PDIA', ascending=False)"
   ]
  },
  {
   "cell_type": "code",
   "execution_count": 16,
   "metadata": {},
   "outputs": [],
   "source": [
    "if tabla[tabla['Diferencia PDIA'] != 0]['Diferencia PDIA'].sum() > 0:\n",
    "  # Save to csv\n",
    "  tabla.to_csv('covid_huelva.csv', encoding='utf-8', header=True, index=True)  "
   ]
  },
  {
   "cell_type": "code",
   "execution_count": 17,
   "metadata": {},
   "outputs": [
    {
     "output_type": "execute_result",
     "data": {
      "text/plain": [
       "Medida                             Confirmados PDIA  Confirmados PDIA 7 días  \\\n",
       "Lugar de residencia                                                            \n",
       "Granado (El)                                   34.0                      3.0   \n",
       "Cortegana                                     111.0                     26.0   \n",
       "Escacena del Campo                             46.0                     24.0   \n",
       "Villarrasa                                     53.0                     19.0   \n",
       "Almonaster la Real                             20.0                      8.0   \n",
       "Cerro de Andévalo (El)                         25.0                      3.0   \n",
       "Calañas                                        23.0                     18.0   \n",
       "Palma del Condado (La)                        173.0                     40.0   \n",
       "Valverde del Camino                           110.0                     54.0   \n",
       "Niebla                                         33.0                     14.0   \n",
       "Gibraleón                                     108.0                     44.0   \n",
       "Sierra de Huelva-Andévalo Central             603.0                    173.0   \n",
       "Almonte                                       185.0                     73.0   \n",
       "Aracena                                        98.0                     27.0   \n",
       "Lepe                                          273.0                     61.0   \n",
       "Aroche                                         23.0                      9.0   \n",
       "Rosal de la Frontera                            9.0                      4.0   \n",
       "Nerva                                          46.0                     11.0   \n",
       "Villanueva de los Castillejos                  30.0                      2.0   \n",
       "Villalba del Alcor                             53.0                      6.0   \n",
       "Huelva                                       3692.0                    938.0   \n",
       "Condado-Campiña                              1174.0                    290.0   \n",
       "Huelva (capital)                              976.0                    258.0   \n",
       "Huelva-Costa                                 1857.0                    449.0   \n",
       "Trigueros                                      59.0                     12.0   \n",
       "Aljaraque                                     141.0                     38.0   \n",
       "Cartaya                                        85.0                     25.0   \n",
       "Higuera de la Sierra                            7.0                      2.0   \n",
       "Bollullos Par del Condado                     145.0                     18.0   \n",
       "Manzanilla                                     24.0                      4.0   \n",
       "Ayamonte                                       87.0                     17.0   \n",
       "Isla Cristina                                 114.0                     19.0   \n",
       "San Silvestre de Guzmán                         1.0                      1.0   \n",
       "Punta Umbría                                   62.0                     18.0   \n",
       "Campillo (El)                                  30.0                      1.0   \n",
       "Campofrío                                       3.0                      1.0   \n",
       "Fuenteheridos                                   2.0                      1.0   \n",
       "Galaroza                                        2.0                      2.0   \n",
       "Palos de la Frontera                           46.0                      6.0   \n",
       "San Juan del Puerto                            89.0                      9.0   \n",
       "San Bartolomé de la Torre                       9.0                      2.0   \n",
       "Alosno                                         12.0                      4.0   \n",
       "Almendro (El)                                   6.0                      1.0   \n",
       "Beas                                           14.0                      5.0   \n",
       "Paterna del Campo                              21.0                      2.0   \n",
       "Santa Bárbara de Casa                           8.0                      1.0   \n",
       "Rociana del Condado                            18.0                      4.0   \n",
       "Paymogo                                         2.0                      1.0   \n",
       "Minas de Riotinto                              23.0                      2.0   \n",
       "Encinasola                                      2.0                      1.0   \n",
       "Bonares                                        11.0                      1.0   \n",
       "Zalamea la Real                                30.0                      2.0   \n",
       "Cumbres Mayores                                 4.0                      1.0   \n",
       "Moguer                                         70.0                      7.0   \n",
       "\n",
       "Medida                             Confirmados PDIA 14 días  Población  \\\n",
       "Lugar de residencia                                                      \n",
       "Granado (El)                                           19.0      516.0   \n",
       "Cortegana                                              95.0     4666.0   \n",
       "Escacena del Campo                                     27.0     2284.0   \n",
       "Villarrasa                                             24.0     2176.0   \n",
       "Almonaster la Real                                     18.0     1819.0   \n",
       "Cerro de Andévalo (El)                                 17.0     2364.0   \n",
       "Calañas                                                20.0     2791.0   \n",
       "Palma del Condado (La)                                 67.0    10761.0   \n",
       "Valverde del Camino                                    76.0    12820.0   \n",
       "Niebla                                                 24.0     4117.0   \n",
       "Gibraleón                                              67.0    12607.0   \n",
       "Sierra de Huelva-Andévalo Central                     336.0    67571.0   \n",
       "Almonte                                               115.0    24191.0   \n",
       "Aracena                                                38.0     8107.0   \n",
       "Lepe                                                  117.0    27431.0   \n",
       "Aroche                                                 13.0     3073.0   \n",
       "Rosal de la Frontera                                    7.0     1697.0   \n",
       "Nerva                                                  20.0     5235.0   \n",
       "Villanueva de los Castillejos                          10.0     2820.0   \n",
       "Villalba del Alcor                                     11.0     3338.0   \n",
       "Huelva                                               1586.0   510743.0   \n",
       "Condado-Campiña                                       457.0   155057.0   \n",
       "Huelva (capital)                                      412.0   143663.0   \n",
       "Huelva-Costa                                          766.0   288115.0   \n",
       "Trigueros                                              20.0     7713.0   \n",
       "Aljaraque                                              55.0    21260.0   \n",
       "Cartaya                                                50.0    19974.0   \n",
       "Higuera de la Sierra                                    3.0     1287.0   \n",
       "Bollullos Par del Condado                              29.0    14272.0   \n",
       "Manzanilla                                              4.0     2135.0   \n",
       "Ayamonte                                               35.0    20946.0   \n",
       "Isla Cristina                                          35.0    21264.0   \n",
       "San Silvestre de Guzmán                                 1.0      623.0   \n",
       "Punta Umbría                                           23.0    15242.0   \n",
       "Campillo (El)                                           3.0     2023.0   \n",
       "Campofrío                                               1.0      675.0   \n",
       "Fuenteheridos                                           1.0      678.0   \n",
       "Galaroza                                                2.0     1379.0   \n",
       "Palos de la Frontera                                   16.0    11289.0   \n",
       "San Juan del Puerto                                    13.0     9300.0   \n",
       "San Bartolomé de la Torre                               5.0     3736.0   \n",
       "Alosno                                                  5.0     3923.0   \n",
       "Almendro (El)                                           1.0      826.0   \n",
       "Beas                                                    5.0     4257.0   \n",
       "Paterna del Campo                                       4.0     3509.0   \n",
       "Santa Bárbara de Casa                                   1.0     1035.0   \n",
       "Rociana del Condado                                     7.0     7855.0   \n",
       "Paymogo                                                 1.0     1159.0   \n",
       "Minas de Riotinto                                       3.0     3848.0   \n",
       "Encinasola                                              1.0     1305.0   \n",
       "Bonares                                                 4.0     6058.0   \n",
       "Zalamea la Real                                         2.0     3068.0   \n",
       "Cumbres Mayores                                         1.0     1755.0   \n",
       "Moguer                                                 12.0    22088.0   \n",
       "\n",
       "Medida                                   tasa7       tasa14  Diferencia PDIA  \n",
       "Lugar de residencia                                                           \n",
       "Granado (El)                        581.395349  3682.170543              1.0  \n",
       "Cortegana                           557.222460  2036.005144              0.0  \n",
       "Escacena del Campo                 1050.788091  1182.136602              4.0  \n",
       "Villarrasa                          873.161765  1102.941176              4.0  \n",
       "Almonaster la Real                  439.802089   989.554700              1.0  \n",
       "Cerro de Andévalo (El)              126.903553   719.120135              0.0  \n",
       "Calañas                             644.930133   716.589036              0.0  \n",
       "Palma del Condado (La)              371.712666   622.618716              9.0  \n",
       "Valverde del Camino                 421.216849   592.823713              8.0  \n",
       "Niebla                              340.053437   582.948749              3.0  \n",
       "Gibraleón                           349.012453   531.450781              8.0  \n",
       "Sierra de Huelva-Andévalo Central   256.026994   497.254739             28.0  \n",
       "Almonte                             301.765119   475.383407             15.0  \n",
       "Aracena                             333.045516   468.730727              8.0  \n",
       "Lepe                                222.376144   426.524735              7.0  \n",
       "Aroche                              292.873414   423.039375              6.0  \n",
       "Rosal de la Frontera                235.710077   412.492634              0.0  \n",
       "Nerva                               210.124164   382.043935              2.0  \n",
       "Villanueva de los Castillejos        70.921986   354.609929              0.0  \n",
       "Villalba del Alcor                  179.748352   329.538646              4.0  \n",
       "Huelva                              183.654010   310.527995            165.0  \n",
       "Condado-Campiña                     187.027996   294.730325             61.0  \n",
       "Huelva (capital)                    179.586950   286.782261             40.0  \n",
       "Huelva-Costa                        155.840550   265.866060             76.0  \n",
       "Trigueros                           155.581486   259.302476              1.0  \n",
       "Aljaraque                           178.739417   258.701787              5.0  \n",
       "Cartaya                             125.162712   250.325423              5.0  \n",
       "Higuera de la Sierra                155.400155   233.100233              0.0  \n",
       "Bollullos Par del Condado           126.121076   203.195067              3.0  \n",
       "Manzanilla                          187.353630   187.353630              2.0  \n",
       "Ayamonte                             81.161081   167.096343              6.0  \n",
       "Isla Cristina                        89.352897   164.597442              6.0  \n",
       "San Silvestre de Guzmán             160.513644   160.513644              0.0  \n",
       "Punta Umbría                        118.094738   150.898832              4.0  \n",
       "Campillo (El)                        49.431537   148.294612              0.0  \n",
       "Campofrío                           148.148148   148.148148              0.0  \n",
       "Fuenteheridos                       147.492625   147.492625              0.0  \n",
       "Galaroza                            145.032632   145.032632              0.0  \n",
       "Palos de la Frontera                 53.149083   141.730888              1.0  \n",
       "San Juan del Puerto                  96.774194   139.784946              0.0  \n",
       "San Bartolomé de la Torre            53.533191   133.832976              1.0  \n",
       "Alosno                              101.962784   127.453479              1.0  \n",
       "Almendro (El)                       121.065375   121.065375              0.0  \n",
       "Beas                                117.453606   117.453606              1.0  \n",
       "Paterna del Campo                    56.996295   113.992590              NaN  \n",
       "Santa Bárbara de Casa                96.618357    96.618357              0.0  \n",
       "Rociana del Condado                  50.922979    89.115213              0.0  \n",
       "Paymogo                              86.281277    86.281277              NaN  \n",
       "Minas de Riotinto                    51.975052    77.962578              0.0  \n",
       "Encinasola                           76.628352    76.628352              0.0  \n",
       "Bonares                              16.507098    66.028392              NaN  \n",
       "Zalamea la Real                      65.189048    65.189048              NaN  \n",
       "Cumbres Mayores                      56.980057    56.980057              NaN  \n",
       "Moguer                               31.691416    54.328142              2.0  "
      ],
      "text/html": "<div>\n<style scoped>\n    .dataframe tbody tr th:only-of-type {\n        vertical-align: middle;\n    }\n\n    .dataframe tbody tr th {\n        vertical-align: top;\n    }\n\n    .dataframe thead th {\n        text-align: right;\n    }\n</style>\n<table border=\"1\" class=\"dataframe\">\n  <thead>\n    <tr style=\"text-align: right;\">\n      <th>Medida</th>\n      <th>Confirmados PDIA</th>\n      <th>Confirmados PDIA 7 días</th>\n      <th>Confirmados PDIA 14 días</th>\n      <th>Población</th>\n      <th>tasa7</th>\n      <th>tasa14</th>\n      <th>Diferencia PDIA</th>\n    </tr>\n    <tr>\n      <th>Lugar de residencia</th>\n      <th></th>\n      <th></th>\n      <th></th>\n      <th></th>\n      <th></th>\n      <th></th>\n      <th></th>\n    </tr>\n  </thead>\n  <tbody>\n    <tr>\n      <th>Granado (El)</th>\n      <td>34.0</td>\n      <td>3.0</td>\n      <td>19.0</td>\n      <td>516.0</td>\n      <td>581.395349</td>\n      <td>3682.170543</td>\n      <td>1.0</td>\n    </tr>\n    <tr>\n      <th>Cortegana</th>\n      <td>111.0</td>\n      <td>26.0</td>\n      <td>95.0</td>\n      <td>4666.0</td>\n      <td>557.222460</td>\n      <td>2036.005144</td>\n      <td>0.0</td>\n    </tr>\n    <tr>\n      <th>Escacena del Campo</th>\n      <td>46.0</td>\n      <td>24.0</td>\n      <td>27.0</td>\n      <td>2284.0</td>\n      <td>1050.788091</td>\n      <td>1182.136602</td>\n      <td>4.0</td>\n    </tr>\n    <tr>\n      <th>Villarrasa</th>\n      <td>53.0</td>\n      <td>19.0</td>\n      <td>24.0</td>\n      <td>2176.0</td>\n      <td>873.161765</td>\n      <td>1102.941176</td>\n      <td>4.0</td>\n    </tr>\n    <tr>\n      <th>Almonaster la Real</th>\n      <td>20.0</td>\n      <td>8.0</td>\n      <td>18.0</td>\n      <td>1819.0</td>\n      <td>439.802089</td>\n      <td>989.554700</td>\n      <td>1.0</td>\n    </tr>\n    <tr>\n      <th>Cerro de Andévalo (El)</th>\n      <td>25.0</td>\n      <td>3.0</td>\n      <td>17.0</td>\n      <td>2364.0</td>\n      <td>126.903553</td>\n      <td>719.120135</td>\n      <td>0.0</td>\n    </tr>\n    <tr>\n      <th>Calañas</th>\n      <td>23.0</td>\n      <td>18.0</td>\n      <td>20.0</td>\n      <td>2791.0</td>\n      <td>644.930133</td>\n      <td>716.589036</td>\n      <td>0.0</td>\n    </tr>\n    <tr>\n      <th>Palma del Condado (La)</th>\n      <td>173.0</td>\n      <td>40.0</td>\n      <td>67.0</td>\n      <td>10761.0</td>\n      <td>371.712666</td>\n      <td>622.618716</td>\n      <td>9.0</td>\n    </tr>\n    <tr>\n      <th>Valverde del Camino</th>\n      <td>110.0</td>\n      <td>54.0</td>\n      <td>76.0</td>\n      <td>12820.0</td>\n      <td>421.216849</td>\n      <td>592.823713</td>\n      <td>8.0</td>\n    </tr>\n    <tr>\n      <th>Niebla</th>\n      <td>33.0</td>\n      <td>14.0</td>\n      <td>24.0</td>\n      <td>4117.0</td>\n      <td>340.053437</td>\n      <td>582.948749</td>\n      <td>3.0</td>\n    </tr>\n    <tr>\n      <th>Gibraleón</th>\n      <td>108.0</td>\n      <td>44.0</td>\n      <td>67.0</td>\n      <td>12607.0</td>\n      <td>349.012453</td>\n      <td>531.450781</td>\n      <td>8.0</td>\n    </tr>\n    <tr>\n      <th>Sierra de Huelva-Andévalo Central</th>\n      <td>603.0</td>\n      <td>173.0</td>\n      <td>336.0</td>\n      <td>67571.0</td>\n      <td>256.026994</td>\n      <td>497.254739</td>\n      <td>28.0</td>\n    </tr>\n    <tr>\n      <th>Almonte</th>\n      <td>185.0</td>\n      <td>73.0</td>\n      <td>115.0</td>\n      <td>24191.0</td>\n      <td>301.765119</td>\n      <td>475.383407</td>\n      <td>15.0</td>\n    </tr>\n    <tr>\n      <th>Aracena</th>\n      <td>98.0</td>\n      <td>27.0</td>\n      <td>38.0</td>\n      <td>8107.0</td>\n      <td>333.045516</td>\n      <td>468.730727</td>\n      <td>8.0</td>\n    </tr>\n    <tr>\n      <th>Lepe</th>\n      <td>273.0</td>\n      <td>61.0</td>\n      <td>117.0</td>\n      <td>27431.0</td>\n      <td>222.376144</td>\n      <td>426.524735</td>\n      <td>7.0</td>\n    </tr>\n    <tr>\n      <th>Aroche</th>\n      <td>23.0</td>\n      <td>9.0</td>\n      <td>13.0</td>\n      <td>3073.0</td>\n      <td>292.873414</td>\n      <td>423.039375</td>\n      <td>6.0</td>\n    </tr>\n    <tr>\n      <th>Rosal de la Frontera</th>\n      <td>9.0</td>\n      <td>4.0</td>\n      <td>7.0</td>\n      <td>1697.0</td>\n      <td>235.710077</td>\n      <td>412.492634</td>\n      <td>0.0</td>\n    </tr>\n    <tr>\n      <th>Nerva</th>\n      <td>46.0</td>\n      <td>11.0</td>\n      <td>20.0</td>\n      <td>5235.0</td>\n      <td>210.124164</td>\n      <td>382.043935</td>\n      <td>2.0</td>\n    </tr>\n    <tr>\n      <th>Villanueva de los Castillejos</th>\n      <td>30.0</td>\n      <td>2.0</td>\n      <td>10.0</td>\n      <td>2820.0</td>\n      <td>70.921986</td>\n      <td>354.609929</td>\n      <td>0.0</td>\n    </tr>\n    <tr>\n      <th>Villalba del Alcor</th>\n      <td>53.0</td>\n      <td>6.0</td>\n      <td>11.0</td>\n      <td>3338.0</td>\n      <td>179.748352</td>\n      <td>329.538646</td>\n      <td>4.0</td>\n    </tr>\n    <tr>\n      <th>Huelva</th>\n      <td>3692.0</td>\n      <td>938.0</td>\n      <td>1586.0</td>\n      <td>510743.0</td>\n      <td>183.654010</td>\n      <td>310.527995</td>\n      <td>165.0</td>\n    </tr>\n    <tr>\n      <th>Condado-Campiña</th>\n      <td>1174.0</td>\n      <td>290.0</td>\n      <td>457.0</td>\n      <td>155057.0</td>\n      <td>187.027996</td>\n      <td>294.730325</td>\n      <td>61.0</td>\n    </tr>\n    <tr>\n      <th>Huelva (capital)</th>\n      <td>976.0</td>\n      <td>258.0</td>\n      <td>412.0</td>\n      <td>143663.0</td>\n      <td>179.586950</td>\n      <td>286.782261</td>\n      <td>40.0</td>\n    </tr>\n    <tr>\n      <th>Huelva-Costa</th>\n      <td>1857.0</td>\n      <td>449.0</td>\n      <td>766.0</td>\n      <td>288115.0</td>\n      <td>155.840550</td>\n      <td>265.866060</td>\n      <td>76.0</td>\n    </tr>\n    <tr>\n      <th>Trigueros</th>\n      <td>59.0</td>\n      <td>12.0</td>\n      <td>20.0</td>\n      <td>7713.0</td>\n      <td>155.581486</td>\n      <td>259.302476</td>\n      <td>1.0</td>\n    </tr>\n    <tr>\n      <th>Aljaraque</th>\n      <td>141.0</td>\n      <td>38.0</td>\n      <td>55.0</td>\n      <td>21260.0</td>\n      <td>178.739417</td>\n      <td>258.701787</td>\n      <td>5.0</td>\n    </tr>\n    <tr>\n      <th>Cartaya</th>\n      <td>85.0</td>\n      <td>25.0</td>\n      <td>50.0</td>\n      <td>19974.0</td>\n      <td>125.162712</td>\n      <td>250.325423</td>\n      <td>5.0</td>\n    </tr>\n    <tr>\n      <th>Higuera de la Sierra</th>\n      <td>7.0</td>\n      <td>2.0</td>\n      <td>3.0</td>\n      <td>1287.0</td>\n      <td>155.400155</td>\n      <td>233.100233</td>\n      <td>0.0</td>\n    </tr>\n    <tr>\n      <th>Bollullos Par del Condado</th>\n      <td>145.0</td>\n      <td>18.0</td>\n      <td>29.0</td>\n      <td>14272.0</td>\n      <td>126.121076</td>\n      <td>203.195067</td>\n      <td>3.0</td>\n    </tr>\n    <tr>\n      <th>Manzanilla</th>\n      <td>24.0</td>\n      <td>4.0</td>\n      <td>4.0</td>\n      <td>2135.0</td>\n      <td>187.353630</td>\n      <td>187.353630</td>\n      <td>2.0</td>\n    </tr>\n    <tr>\n      <th>Ayamonte</th>\n      <td>87.0</td>\n      <td>17.0</td>\n      <td>35.0</td>\n      <td>20946.0</td>\n      <td>81.161081</td>\n      <td>167.096343</td>\n      <td>6.0</td>\n    </tr>\n    <tr>\n      <th>Isla Cristina</th>\n      <td>114.0</td>\n      <td>19.0</td>\n      <td>35.0</td>\n      <td>21264.0</td>\n      <td>89.352897</td>\n      <td>164.597442</td>\n      <td>6.0</td>\n    </tr>\n    <tr>\n      <th>San Silvestre de Guzmán</th>\n      <td>1.0</td>\n      <td>1.0</td>\n      <td>1.0</td>\n      <td>623.0</td>\n      <td>160.513644</td>\n      <td>160.513644</td>\n      <td>0.0</td>\n    </tr>\n    <tr>\n      <th>Punta Umbría</th>\n      <td>62.0</td>\n      <td>18.0</td>\n      <td>23.0</td>\n      <td>15242.0</td>\n      <td>118.094738</td>\n      <td>150.898832</td>\n      <td>4.0</td>\n    </tr>\n    <tr>\n      <th>Campillo (El)</th>\n      <td>30.0</td>\n      <td>1.0</td>\n      <td>3.0</td>\n      <td>2023.0</td>\n      <td>49.431537</td>\n      <td>148.294612</td>\n      <td>0.0</td>\n    </tr>\n    <tr>\n      <th>Campofrío</th>\n      <td>3.0</td>\n      <td>1.0</td>\n      <td>1.0</td>\n      <td>675.0</td>\n      <td>148.148148</td>\n      <td>148.148148</td>\n      <td>0.0</td>\n    </tr>\n    <tr>\n      <th>Fuenteheridos</th>\n      <td>2.0</td>\n      <td>1.0</td>\n      <td>1.0</td>\n      <td>678.0</td>\n      <td>147.492625</td>\n      <td>147.492625</td>\n      <td>0.0</td>\n    </tr>\n    <tr>\n      <th>Galaroza</th>\n      <td>2.0</td>\n      <td>2.0</td>\n      <td>2.0</td>\n      <td>1379.0</td>\n      <td>145.032632</td>\n      <td>145.032632</td>\n      <td>0.0</td>\n    </tr>\n    <tr>\n      <th>Palos de la Frontera</th>\n      <td>46.0</td>\n      <td>6.0</td>\n      <td>16.0</td>\n      <td>11289.0</td>\n      <td>53.149083</td>\n      <td>141.730888</td>\n      <td>1.0</td>\n    </tr>\n    <tr>\n      <th>San Juan del Puerto</th>\n      <td>89.0</td>\n      <td>9.0</td>\n      <td>13.0</td>\n      <td>9300.0</td>\n      <td>96.774194</td>\n      <td>139.784946</td>\n      <td>0.0</td>\n    </tr>\n    <tr>\n      <th>San Bartolomé de la Torre</th>\n      <td>9.0</td>\n      <td>2.0</td>\n      <td>5.0</td>\n      <td>3736.0</td>\n      <td>53.533191</td>\n      <td>133.832976</td>\n      <td>1.0</td>\n    </tr>\n    <tr>\n      <th>Alosno</th>\n      <td>12.0</td>\n      <td>4.0</td>\n      <td>5.0</td>\n      <td>3923.0</td>\n      <td>101.962784</td>\n      <td>127.453479</td>\n      <td>1.0</td>\n    </tr>\n    <tr>\n      <th>Almendro (El)</th>\n      <td>6.0</td>\n      <td>1.0</td>\n      <td>1.0</td>\n      <td>826.0</td>\n      <td>121.065375</td>\n      <td>121.065375</td>\n      <td>0.0</td>\n    </tr>\n    <tr>\n      <th>Beas</th>\n      <td>14.0</td>\n      <td>5.0</td>\n      <td>5.0</td>\n      <td>4257.0</td>\n      <td>117.453606</td>\n      <td>117.453606</td>\n      <td>1.0</td>\n    </tr>\n    <tr>\n      <th>Paterna del Campo</th>\n      <td>21.0</td>\n      <td>2.0</td>\n      <td>4.0</td>\n      <td>3509.0</td>\n      <td>56.996295</td>\n      <td>113.992590</td>\n      <td>NaN</td>\n    </tr>\n    <tr>\n      <th>Santa Bárbara de Casa</th>\n      <td>8.0</td>\n      <td>1.0</td>\n      <td>1.0</td>\n      <td>1035.0</td>\n      <td>96.618357</td>\n      <td>96.618357</td>\n      <td>0.0</td>\n    </tr>\n    <tr>\n      <th>Rociana del Condado</th>\n      <td>18.0</td>\n      <td>4.0</td>\n      <td>7.0</td>\n      <td>7855.0</td>\n      <td>50.922979</td>\n      <td>89.115213</td>\n      <td>0.0</td>\n    </tr>\n    <tr>\n      <th>Paymogo</th>\n      <td>2.0</td>\n      <td>1.0</td>\n      <td>1.0</td>\n      <td>1159.0</td>\n      <td>86.281277</td>\n      <td>86.281277</td>\n      <td>NaN</td>\n    </tr>\n    <tr>\n      <th>Minas de Riotinto</th>\n      <td>23.0</td>\n      <td>2.0</td>\n      <td>3.0</td>\n      <td>3848.0</td>\n      <td>51.975052</td>\n      <td>77.962578</td>\n      <td>0.0</td>\n    </tr>\n    <tr>\n      <th>Encinasola</th>\n      <td>2.0</td>\n      <td>1.0</td>\n      <td>1.0</td>\n      <td>1305.0</td>\n      <td>76.628352</td>\n      <td>76.628352</td>\n      <td>0.0</td>\n    </tr>\n    <tr>\n      <th>Bonares</th>\n      <td>11.0</td>\n      <td>1.0</td>\n      <td>4.0</td>\n      <td>6058.0</td>\n      <td>16.507098</td>\n      <td>66.028392</td>\n      <td>NaN</td>\n    </tr>\n    <tr>\n      <th>Zalamea la Real</th>\n      <td>30.0</td>\n      <td>2.0</td>\n      <td>2.0</td>\n      <td>3068.0</td>\n      <td>65.189048</td>\n      <td>65.189048</td>\n      <td>NaN</td>\n    </tr>\n    <tr>\n      <th>Cumbres Mayores</th>\n      <td>4.0</td>\n      <td>1.0</td>\n      <td>1.0</td>\n      <td>1755.0</td>\n      <td>56.980057</td>\n      <td>56.980057</td>\n      <td>NaN</td>\n    </tr>\n    <tr>\n      <th>Moguer</th>\n      <td>70.0</td>\n      <td>7.0</td>\n      <td>12.0</td>\n      <td>22088.0</td>\n      <td>31.691416</td>\n      <td>54.328142</td>\n      <td>2.0</td>\n    </tr>\n  </tbody>\n</table>\n</div>"
     },
     "metadata": {},
     "execution_count": 17
    }
   ],
   "source": [
    "tabla.sort_values('tasa14', ascending=False)"
   ]
  },
  {
   "cell_type": "code",
   "execution_count": null,
   "metadata": {},
   "outputs": [],
   "source": []
  }
 ]
}