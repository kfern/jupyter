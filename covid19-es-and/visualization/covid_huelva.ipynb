{
 "metadata": {
  "language_info": {
   "codemirror_mode": {
    "name": "ipython",
    "version": 3
   },
   "file_extension": ".py",
   "mimetype": "text/x-python",
   "name": "python",
   "nbconvert_exporter": "python",
   "pygments_lexer": "ipython3",
   "version": "3.9.5"
  },
  "orig_nbformat": 2,
  "kernelspec": {
   "name": "python3",
   "display_name": "Python 3.9.5 64-bit"
  },
  "interpreter": {
   "hash": "31f2aee4e71d21fbe5cf8b01ff0e069b9275f58929596ceb00d14d90e3e16cd6"
  }
 },
 "nbformat": 4,
 "nbformat_minor": 2,
 "cells": [
  {
   "cell_type": "code",
   "execution_count": 1,
   "metadata": {},
   "outputs": [],
   "source": [
    "import pandas as pd\n",
    "pd.set_option('display.max_rows', None) # Print all rows"
   ]
  },
  {
   "cell_type": "code",
   "execution_count": 2,
   "metadata": {},
   "outputs": [],
   "source": [
    "# FIX SSL: CERTIFICATE_VERIFY_FAILED with Python3\n",
    "# https://stackoverflow.com/a/49174340\n",
    "import ssl\n",
    "\n",
    "ssl._create_default_https_context = ssl._create_unverified_context"
   ]
  },
  {
   "cell_type": "code",
   "execution_count": 3,
   "metadata": {},
   "outputs": [],
   "source": [
    "url = 'https://www.juntadeandalucia.es/institutodeestadisticaycartografia/badea/stpivot/stpivot/Print?cube=013d884c-cfc5-4c21-9e78-e26225682afd&type=3&foto=si&ejecutaDesde=&codConsulta=38668&consTipoVisua=JP'\n",
    "fields = ['Lugar de residencia', 'Medida', 'Valor']\n",
    "df = pd.read_csv(url, delimiter=';', usecols=fields, decimal=',')"
   ]
  },
  {
   "cell_type": "code",
   "execution_count": 4,
   "metadata": {},
   "outputs": [
    {
     "output_type": "execute_result",
     "data": {
      "text/plain": [
       "  Lugar de residencia                    Medida              Valor\n",
       "0              Huelva                 Población             513170\n",
       "1              Huelva          Confirmados PDIA              34835\n",
       "2              Huelva  Confirmados PDIA 14 días               1239\n",
       "3              Huelva         Tasa PDIA 14 días  241,4404583276497\n",
       "4              Huelva   Confirmados PDIA 7 días                685\n",
       "5              Huelva        Total Confirmados               35024\n",
       "6              Huelva                   Curados              32633\n",
       "7              Huelva                Fallecidos                395"
      ],
      "text/html": "<div>\n<style scoped>\n    .dataframe tbody tr th:only-of-type {\n        vertical-align: middle;\n    }\n\n    .dataframe tbody tr th {\n        vertical-align: top;\n    }\n\n    .dataframe thead th {\n        text-align: right;\n    }\n</style>\n<table border=\"1\" class=\"dataframe\">\n  <thead>\n    <tr style=\"text-align: right;\">\n      <th></th>\n      <th>Lugar de residencia</th>\n      <th>Medida</th>\n      <th>Valor</th>\n    </tr>\n  </thead>\n  <tbody>\n    <tr>\n      <th>0</th>\n      <td>Huelva</td>\n      <td>Población</td>\n      <td>513170</td>\n    </tr>\n    <tr>\n      <th>1</th>\n      <td>Huelva</td>\n      <td>Confirmados PDIA</td>\n      <td>34835</td>\n    </tr>\n    <tr>\n      <th>2</th>\n      <td>Huelva</td>\n      <td>Confirmados PDIA 14 días</td>\n      <td>1239</td>\n    </tr>\n    <tr>\n      <th>3</th>\n      <td>Huelva</td>\n      <td>Tasa PDIA 14 días</td>\n      <td>241,4404583276497</td>\n    </tr>\n    <tr>\n      <th>4</th>\n      <td>Huelva</td>\n      <td>Confirmados PDIA 7 días</td>\n      <td>685</td>\n    </tr>\n    <tr>\n      <th>5</th>\n      <td>Huelva</td>\n      <td>Total Confirmados</td>\n      <td>35024</td>\n    </tr>\n    <tr>\n      <th>6</th>\n      <td>Huelva</td>\n      <td>Curados</td>\n      <td>32633</td>\n    </tr>\n    <tr>\n      <th>7</th>\n      <td>Huelva</td>\n      <td>Fallecidos</td>\n      <td>395</td>\n    </tr>\n  </tbody>\n</table>\n</div>"
     },
     "metadata": {},
     "execution_count": 4
    }
   ],
   "source": [
    "df[df['Lugar de residencia'] == 'Huelva']"
   ]
  },
  {
   "cell_type": "code",
   "execution_count": 5,
   "metadata": {},
   "outputs": [],
   "source": [
    "df['Valor'] = pd.to_numeric(df['Valor'],errors='coerce')"
   ]
  },
  {
   "cell_type": "code",
   "execution_count": 6,
   "metadata": {},
   "outputs": [],
   "source": [
    "dfAnterior = pd.read_csv('covid_huelva.csv', index_col='Lugar de residencia')"
   ]
  },
  {
   "cell_type": "code",
   "execution_count": 7,
   "metadata": {
    "tags": []
   },
   "outputs": [
    {
     "output_type": "stream",
     "name": "stdout",
     "text": [
      "Confirmados PCR en la provincia de Huelva:  34835.0\n",
      "/tmp/ipykernel_119245/1396922249.py:2: UserWarning: Boolean Series key will be reindexed to match DataFrame index.\n",
      "  p = df[df['Lugar de residencia'] == 'Huelva'][df['Medida'] == 'Confirmados PDIA']['Valor'].values[0]\n"
     ]
    }
   ],
   "source": [
    "# Confirmados PCR provincia Huelva\n",
    "p = df[df['Lugar de residencia'] == 'Huelva'][df['Medida'] == 'Confirmados PDIA']['Valor'].values[0]\n",
    "print('Confirmados PCR en la provincia de Huelva: ', p)"
   ]
  },
  {
   "cell_type": "code",
   "execution_count": 8,
   "metadata": {
    "tags": []
   },
   "outputs": [
    {
     "output_type": "stream",
     "name": "stdout",
     "text": [
      "Confirmados PCR en Huelva capital:  9563.0\n",
      "/tmp/ipykernel_119245/2509482988.py:2: UserWarning: Boolean Series key will be reindexed to match DataFrame index.\n",
      "  c = df[df['Lugar de residencia'] == 'Huelva (capital)'][df['Medida'] == 'Confirmados PDIA']['Valor'].values[0]\n"
     ]
    }
   ],
   "source": [
    "# Confirmados PCR Huelva capitalpd\n",
    "c = df[df['Lugar de residencia'] == 'Huelva (capital)'][df['Medida'] == 'Confirmados PDIA']['Valor'].values[0]\n",
    "print('Confirmados PCR en Huelva capital: ', c)"
   ]
  },
  {
   "cell_type": "code",
   "execution_count": 9,
   "metadata": {
    "tags": []
   },
   "outputs": [
    {
     "output_type": "stream",
     "name": "stderr",
     "text": [
      "/tmp/ipykernel_119245/2690025379.py:1: UserWarning: Boolean Series key will be reindexed to match DataFrame index.\n  c7 = df[df['Lugar de residencia'] == 'Huelva (capital)'][df['Medida'] == 'Confirmados PDIA 7 días']['Valor'].values[0]\n/tmp/ipykernel_119245/2690025379.py:2: UserWarning: Boolean Series key will be reindexed to match DataFrame index.\n  c14 = df[df['Lugar de residencia'] == 'Huelva (capital)'][df['Medida'] == 'Confirmados PDIA 14 días']['Valor'].values[0]\n/tmp/ipykernel_119245/2690025379.py:3: UserWarning: Boolean Series key will be reindexed to match DataFrame index.\n  p = df[df['Lugar de residencia'] == 'Huelva (capital)'][df['Medida'] == 'Población']['Valor'].values[0]\n"
     ]
    }
   ],
   "source": [
    "c7 = df[df['Lugar de residencia'] == 'Huelva (capital)'][df['Medida'] == 'Confirmados PDIA 7 días']['Valor'].values[0]\n",
    "c14 = df[df['Lugar de residencia'] == 'Huelva (capital)'][df['Medida'] == 'Confirmados PDIA 14 días']['Valor'].values[0]\n",
    "p = df[df['Lugar de residencia'] == 'Huelva (capital)'][df['Medida'] == 'Población']['Valor'].values[0]"
   ]
  },
  {
   "cell_type": "code",
   "execution_count": 10,
   "metadata": {
    "tags": []
   },
   "outputs": [
    {
     "output_type": "stream",
     "name": "stdout",
     "text": [
      "Huelva (capital)\n\nUn positivo PCR cada 612 personas en los últimos 7 días \n\nUn positivo PCR cada 395 personas en los últimos 14 días\n"
     ]
    }
   ],
   "source": [
    "print('Huelva (capital)\\n')\n",
    "#print('Confirmados PCR 7 días x 1,000 habitantes: ', f\"{c7/(p/1000):.5f}\")\n",
    "print('Un positivo PCR cada', f\"{p/c7:.0f}\", 'personas en los últimos 7 días', '\\n')\n",
    "#print('Confirmados PCR 14 días x 1,000 habitantes: ', f\"{c14/(p/1000):.5f}\")\n",
    "print('Un positivo PCR cada', f\"{p/c14:.0f}\", 'personas en los últimos 14 días')"
   ]
  },
  {
   "cell_type": "code",
   "execution_count": 11,
   "metadata": {},
   "outputs": [],
   "source": [
    "filtro = ((df['Medida'] == 'Confirmados PDIA')| (df['Medida'] == 'Confirmados PDIA 7 días') | (df['Medida'] == 'Población' ) | (df['Medida'] == 'Confirmados PDIA 14 días')) & (df['Valor'] > 0)\n",
    "tabla = pd.pivot_table(df.loc[filtro], values='Valor', index='Lugar de residencia', columns='Medida').dropna()"
   ]
  },
  {
   "cell_type": "code",
   "execution_count": 12,
   "metadata": {},
   "outputs": [],
   "source": [
    "# Reorder columns\n",
    "tabla = tabla[['Confirmados PDIA', 'Confirmados PDIA 7 días', 'Confirmados PDIA 14 días', 'Población']]"
   ]
  },
  {
   "cell_type": "code",
   "execution_count": 13,
   "metadata": {},
   "outputs": [],
   "source": [
    "tabla['tasa7'] = tabla['Confirmados PDIA 7 días']/tabla['Población']*100000\n",
    "tabla['tasa14'] = tabla['Confirmados PDIA 14 días']/tabla['Población']*100000"
   ]
  },
  {
   "cell_type": "code",
   "execution_count": 14,
   "metadata": {},
   "outputs": [],
   "source": [
    "tabla['Diferencia PDIA'] = tabla['Confirmados PDIA'] - dfAnterior['Confirmados PDIA']"
   ]
  },
  {
   "cell_type": "code",
   "execution_count": 15,
   "metadata": {},
   "outputs": [
    {
     "output_type": "execute_result",
     "data": {
      "text/plain": [
       "Medida                             Confirmados PDIA  Confirmados PDIA 7 días  \\\n",
       "Lugar de residencia                                                            \n",
       "Huelva                                      34835.0                    685.0   \n",
       "Huelva-Costa                                20222.0                    479.0   \n",
       "Huelva (capital)                             9563.0                    235.0   \n",
       "Condado-Campiña                             11231.0                    162.0   \n",
       "Moguer                                       1483.0                     40.0   \n",
       "Isla Cristina                                2379.0                     79.0   \n",
       "Sierra de Huelva-Andévalo Central            3011.0                     31.0   \n",
       "Cartaya                                      1451.0                     22.0   \n",
       "Punta Umbría                                  884.0                     14.0   \n",
       "Aljaraque                                    1232.0                     29.0   \n",
       "Ayamonte                                     1438.0                     36.0   \n",
       "Niebla                                        303.0                     24.0   \n",
       "Bonares                                       324.0                     10.0   \n",
       "Palos de la Frontera                          766.0                     21.0   \n",
       "Aracena                                       557.0                     10.0   \n",
       "Lepe                                         2286.0                     55.0   \n",
       "Minas de Riotinto                             133.0                      3.0   \n",
       "Palma del Condado (La)                       1221.0                     13.0   \n",
       "Valverde del Camino                           683.0                      5.0   \n",
       "Beas                                          237.0                      3.0   \n",
       "Almonte                                      1958.0                     11.0   \n",
       "Bollullos Par del Condado                    1062.0                      7.0   \n",
       "Cortegana                                     219.0                      2.0   \n",
       "Lucena del Puerto                             280.0                      4.0   \n",
       "San Juan del Puerto                           610.0                     12.0   \n",
       "Alosno                                        208.0                      1.0   \n",
       "Trigueros                                     345.0                      1.0   \n",
       "Calañas                                       203.0                      1.0   \n",
       "Higuera de la Sierra                           35.0                      1.0   \n",
       "Paterna del Campo                             131.0                      1.0   \n",
       "Sanlúcar de Guadiana                            7.0                      1.0   \n",
       "\n",
       "Medida                             Confirmados PDIA 14 días  Población  \\\n",
       "Lugar de residencia                                                      \n",
       "Huelva                                               1239.0   513170.0   \n",
       "Huelva-Costa                                          846.0   289548.0   \n",
       "Huelva (capital)                                      364.0   143837.0   \n",
       "Condado-Campiña                                       318.0   156231.0   \n",
       "Moguer                                                 58.0    21867.0   \n",
       "Isla Cristina                                         171.0    21393.0   \n",
       "Sierra de Huelva-Andévalo Central                      57.0    67391.0   \n",
       "Cartaya                                                34.0    20083.0   \n",
       "Punta Umbría                                           22.0    15355.0   \n",
       "Aljaraque                                              49.0    21474.0   \n",
       "Ayamonte                                               67.0    21104.0   \n",
       "Niebla                                                 54.0     4116.0   \n",
       "Bonares                                                16.0     6060.0   \n",
       "Palos de la Frontera                                   32.0    11742.0   \n",
       "Aracena                                                15.0     8255.0   \n",
       "Lepe                                                   95.0    27880.0   \n",
       "Minas de Riotinto                                       4.0     3812.0   \n",
       "Palma del Condado (La)                                 22.0    10801.0   \n",
       "Valverde del Camino                                    12.0    12750.0   \n",
       "Beas                                                    4.0     4341.0   \n",
       "Almonte                                                36.0    24507.0   \n",
       "Bollullos Par del Condado                              17.0    14387.0   \n",
       "Cortegana                                               3.0     4602.0   \n",
       "Lucena del Puerto                                      12.0     3261.0   \n",
       "San Juan del Puerto                                    16.0     9411.0   \n",
       "Alosno                                                 16.0     3933.0   \n",
       "Trigueros                                               9.0     7862.0   \n",
       "Calañas                                                 2.0     2768.0   \n",
       "Higuera de la Sierra                                    1.0     1291.0   \n",
       "Paterna del Campo                                       2.0     3457.0   \n",
       "Sanlúcar de Guadiana                                    1.0      403.0   \n",
       "\n",
       "Medida                                  tasa7       tasa14  Diferencia PDIA  \n",
       "Lugar de residencia                                                          \n",
       "Huelva                             133.484031   241.440458            159.0  \n",
       "Huelva-Costa                       165.430257   292.179535            102.0  \n",
       "Huelva (capital)                   163.379381   253.064232             55.0  \n",
       "Condado-Campiña                    103.692609   203.544751             47.0  \n",
       "Moguer                             182.924041   265.239859             19.0  \n",
       "Isla Cristina                      369.279671   799.326883             13.0  \n",
       "Sierra de Huelva-Andévalo Central   46.000208    84.581027             10.0  \n",
       "Cartaya                            109.545387   169.297416              9.0  \n",
       "Punta Umbría                        91.175513   143.275806              7.0  \n",
       "Aljaraque                          135.047034   228.182919              7.0  \n",
       "Ayamonte                           170.583776   317.475360              6.0  \n",
       "Niebla                             583.090379  1311.953353              6.0  \n",
       "Bonares                            165.016502   264.026403              5.0  \n",
       "Palos de la Frontera               178.845171   272.525975              5.0  \n",
       "Aracena                            121.138704   181.708056              3.0  \n",
       "Lepe                               197.274032   340.746055              3.0  \n",
       "Minas de Riotinto                   78.698846   104.931794              2.0  \n",
       "Palma del Condado (La)             120.359226   203.684844              2.0  \n",
       "Valverde del Camino                 39.215686    94.117647              2.0  \n",
       "Beas                                69.108500    92.144667              2.0  \n",
       "Almonte                             44.885135   146.896805              2.0  \n",
       "Bollullos Par del Condado           48.655036   118.162230              2.0  \n",
       "Cortegana                           43.459365    65.189048              1.0  \n",
       "Lucena del Puerto                  122.661760   367.985281              1.0  \n",
       "San Juan del Puerto                127.510360   170.013814              1.0  \n",
       "Alosno                              25.425884   406.814137              1.0  \n",
       "Trigueros                           12.719410   114.474688              1.0  \n",
       "Calañas                             36.127168    72.254335              1.0  \n",
       "Higuera de la Sierra                77.459334    77.459334              NaN  \n",
       "Paterna del Campo                   28.926815    57.853630              NaN  \n",
       "Sanlúcar de Guadiana               248.138958   248.138958              NaN  "
      ],
      "text/html": "<div>\n<style scoped>\n    .dataframe tbody tr th:only-of-type {\n        vertical-align: middle;\n    }\n\n    .dataframe tbody tr th {\n        vertical-align: top;\n    }\n\n    .dataframe thead th {\n        text-align: right;\n    }\n</style>\n<table border=\"1\" class=\"dataframe\">\n  <thead>\n    <tr style=\"text-align: right;\">\n      <th>Medida</th>\n      <th>Confirmados PDIA</th>\n      <th>Confirmados PDIA 7 días</th>\n      <th>Confirmados PDIA 14 días</th>\n      <th>Población</th>\n      <th>tasa7</th>\n      <th>tasa14</th>\n      <th>Diferencia PDIA</th>\n    </tr>\n    <tr>\n      <th>Lugar de residencia</th>\n      <th></th>\n      <th></th>\n      <th></th>\n      <th></th>\n      <th></th>\n      <th></th>\n      <th></th>\n    </tr>\n  </thead>\n  <tbody>\n    <tr>\n      <th>Huelva</th>\n      <td>34835.0</td>\n      <td>685.0</td>\n      <td>1239.0</td>\n      <td>513170.0</td>\n      <td>133.484031</td>\n      <td>241.440458</td>\n      <td>159.0</td>\n    </tr>\n    <tr>\n      <th>Huelva-Costa</th>\n      <td>20222.0</td>\n      <td>479.0</td>\n      <td>846.0</td>\n      <td>289548.0</td>\n      <td>165.430257</td>\n      <td>292.179535</td>\n      <td>102.0</td>\n    </tr>\n    <tr>\n      <th>Huelva (capital)</th>\n      <td>9563.0</td>\n      <td>235.0</td>\n      <td>364.0</td>\n      <td>143837.0</td>\n      <td>163.379381</td>\n      <td>253.064232</td>\n      <td>55.0</td>\n    </tr>\n    <tr>\n      <th>Condado-Campiña</th>\n      <td>11231.0</td>\n      <td>162.0</td>\n      <td>318.0</td>\n      <td>156231.0</td>\n      <td>103.692609</td>\n      <td>203.544751</td>\n      <td>47.0</td>\n    </tr>\n    <tr>\n      <th>Moguer</th>\n      <td>1483.0</td>\n      <td>40.0</td>\n      <td>58.0</td>\n      <td>21867.0</td>\n      <td>182.924041</td>\n      <td>265.239859</td>\n      <td>19.0</td>\n    </tr>\n    <tr>\n      <th>Isla Cristina</th>\n      <td>2379.0</td>\n      <td>79.0</td>\n      <td>171.0</td>\n      <td>21393.0</td>\n      <td>369.279671</td>\n      <td>799.326883</td>\n      <td>13.0</td>\n    </tr>\n    <tr>\n      <th>Sierra de Huelva-Andévalo Central</th>\n      <td>3011.0</td>\n      <td>31.0</td>\n      <td>57.0</td>\n      <td>67391.0</td>\n      <td>46.000208</td>\n      <td>84.581027</td>\n      <td>10.0</td>\n    </tr>\n    <tr>\n      <th>Cartaya</th>\n      <td>1451.0</td>\n      <td>22.0</td>\n      <td>34.0</td>\n      <td>20083.0</td>\n      <td>109.545387</td>\n      <td>169.297416</td>\n      <td>9.0</td>\n    </tr>\n    <tr>\n      <th>Punta Umbría</th>\n      <td>884.0</td>\n      <td>14.0</td>\n      <td>22.0</td>\n      <td>15355.0</td>\n      <td>91.175513</td>\n      <td>143.275806</td>\n      <td>7.0</td>\n    </tr>\n    <tr>\n      <th>Aljaraque</th>\n      <td>1232.0</td>\n      <td>29.0</td>\n      <td>49.0</td>\n      <td>21474.0</td>\n      <td>135.047034</td>\n      <td>228.182919</td>\n      <td>7.0</td>\n    </tr>\n    <tr>\n      <th>Ayamonte</th>\n      <td>1438.0</td>\n      <td>36.0</td>\n      <td>67.0</td>\n      <td>21104.0</td>\n      <td>170.583776</td>\n      <td>317.475360</td>\n      <td>6.0</td>\n    </tr>\n    <tr>\n      <th>Niebla</th>\n      <td>303.0</td>\n      <td>24.0</td>\n      <td>54.0</td>\n      <td>4116.0</td>\n      <td>583.090379</td>\n      <td>1311.953353</td>\n      <td>6.0</td>\n    </tr>\n    <tr>\n      <th>Bonares</th>\n      <td>324.0</td>\n      <td>10.0</td>\n      <td>16.0</td>\n      <td>6060.0</td>\n      <td>165.016502</td>\n      <td>264.026403</td>\n      <td>5.0</td>\n    </tr>\n    <tr>\n      <th>Palos de la Frontera</th>\n      <td>766.0</td>\n      <td>21.0</td>\n      <td>32.0</td>\n      <td>11742.0</td>\n      <td>178.845171</td>\n      <td>272.525975</td>\n      <td>5.0</td>\n    </tr>\n    <tr>\n      <th>Aracena</th>\n      <td>557.0</td>\n      <td>10.0</td>\n      <td>15.0</td>\n      <td>8255.0</td>\n      <td>121.138704</td>\n      <td>181.708056</td>\n      <td>3.0</td>\n    </tr>\n    <tr>\n      <th>Lepe</th>\n      <td>2286.0</td>\n      <td>55.0</td>\n      <td>95.0</td>\n      <td>27880.0</td>\n      <td>197.274032</td>\n      <td>340.746055</td>\n      <td>3.0</td>\n    </tr>\n    <tr>\n      <th>Minas de Riotinto</th>\n      <td>133.0</td>\n      <td>3.0</td>\n      <td>4.0</td>\n      <td>3812.0</td>\n      <td>78.698846</td>\n      <td>104.931794</td>\n      <td>2.0</td>\n    </tr>\n    <tr>\n      <th>Palma del Condado (La)</th>\n      <td>1221.0</td>\n      <td>13.0</td>\n      <td>22.0</td>\n      <td>10801.0</td>\n      <td>120.359226</td>\n      <td>203.684844</td>\n      <td>2.0</td>\n    </tr>\n    <tr>\n      <th>Valverde del Camino</th>\n      <td>683.0</td>\n      <td>5.0</td>\n      <td>12.0</td>\n      <td>12750.0</td>\n      <td>39.215686</td>\n      <td>94.117647</td>\n      <td>2.0</td>\n    </tr>\n    <tr>\n      <th>Beas</th>\n      <td>237.0</td>\n      <td>3.0</td>\n      <td>4.0</td>\n      <td>4341.0</td>\n      <td>69.108500</td>\n      <td>92.144667</td>\n      <td>2.0</td>\n    </tr>\n    <tr>\n      <th>Almonte</th>\n      <td>1958.0</td>\n      <td>11.0</td>\n      <td>36.0</td>\n      <td>24507.0</td>\n      <td>44.885135</td>\n      <td>146.896805</td>\n      <td>2.0</td>\n    </tr>\n    <tr>\n      <th>Bollullos Par del Condado</th>\n      <td>1062.0</td>\n      <td>7.0</td>\n      <td>17.0</td>\n      <td>14387.0</td>\n      <td>48.655036</td>\n      <td>118.162230</td>\n      <td>2.0</td>\n    </tr>\n    <tr>\n      <th>Cortegana</th>\n      <td>219.0</td>\n      <td>2.0</td>\n      <td>3.0</td>\n      <td>4602.0</td>\n      <td>43.459365</td>\n      <td>65.189048</td>\n      <td>1.0</td>\n    </tr>\n    <tr>\n      <th>Lucena del Puerto</th>\n      <td>280.0</td>\n      <td>4.0</td>\n      <td>12.0</td>\n      <td>3261.0</td>\n      <td>122.661760</td>\n      <td>367.985281</td>\n      <td>1.0</td>\n    </tr>\n    <tr>\n      <th>San Juan del Puerto</th>\n      <td>610.0</td>\n      <td>12.0</td>\n      <td>16.0</td>\n      <td>9411.0</td>\n      <td>127.510360</td>\n      <td>170.013814</td>\n      <td>1.0</td>\n    </tr>\n    <tr>\n      <th>Alosno</th>\n      <td>208.0</td>\n      <td>1.0</td>\n      <td>16.0</td>\n      <td>3933.0</td>\n      <td>25.425884</td>\n      <td>406.814137</td>\n      <td>1.0</td>\n    </tr>\n    <tr>\n      <th>Trigueros</th>\n      <td>345.0</td>\n      <td>1.0</td>\n      <td>9.0</td>\n      <td>7862.0</td>\n      <td>12.719410</td>\n      <td>114.474688</td>\n      <td>1.0</td>\n    </tr>\n    <tr>\n      <th>Calañas</th>\n      <td>203.0</td>\n      <td>1.0</td>\n      <td>2.0</td>\n      <td>2768.0</td>\n      <td>36.127168</td>\n      <td>72.254335</td>\n      <td>1.0</td>\n    </tr>\n    <tr>\n      <th>Higuera de la Sierra</th>\n      <td>35.0</td>\n      <td>1.0</td>\n      <td>1.0</td>\n      <td>1291.0</td>\n      <td>77.459334</td>\n      <td>77.459334</td>\n      <td>NaN</td>\n    </tr>\n    <tr>\n      <th>Paterna del Campo</th>\n      <td>131.0</td>\n      <td>1.0</td>\n      <td>2.0</td>\n      <td>3457.0</td>\n      <td>28.926815</td>\n      <td>57.853630</td>\n      <td>NaN</td>\n    </tr>\n    <tr>\n      <th>Sanlúcar de Guadiana</th>\n      <td>7.0</td>\n      <td>1.0</td>\n      <td>1.0</td>\n      <td>403.0</td>\n      <td>248.138958</td>\n      <td>248.138958</td>\n      <td>NaN</td>\n    </tr>\n  </tbody>\n</table>\n</div>"
     },
     "metadata": {},
     "execution_count": 15
    }
   ],
   "source": [
    "# Nuevos casos desde la última captura\n",
    "tabla[tabla['Diferencia PDIA'] != 0].sort_values('Diferencia PDIA', ascending=False)"
   ]
  },
  {
   "cell_type": "code",
   "execution_count": 16,
   "metadata": {},
   "outputs": [],
   "source": [
    "if tabla[tabla['Diferencia PDIA'] != 0]['Diferencia PDIA'].sum() != 0:\n",
    "  # Save to csv\n",
    "  tabla.to_csv('covid_huelva.csv', encoding='utf-8', header=True, index=True)  "
   ]
  },
  {
   "cell_type": "code",
   "execution_count": 17,
   "metadata": {},
   "outputs": [
    {
     "output_type": "execute_result",
     "data": {
      "text/plain": [
       "Medida                             Confirmados PDIA  Confirmados PDIA 7 días  \\\n",
       "Lugar de residencia                                                            \n",
       "Santa Bárbara de Casa                          35.0                      3.0   \n",
       "Niebla                                        303.0                     24.0   \n",
       "Isla Cristina                                2379.0                     79.0   \n",
       "Zarza-Perrunal (La)                            33.0                      3.0   \n",
       "Alosno                                        208.0                      1.0   \n",
       "Lucena del Puerto                             280.0                      4.0   \n",
       "Lepe                                         2286.0                     55.0   \n",
       "Ayamonte                                     1438.0                     36.0   \n",
       "Huelva-Costa                                20222.0                    479.0   \n",
       "Palos de la Frontera                          766.0                     21.0   \n",
       "Moguer                                       1483.0                     40.0   \n",
       "Bonares                                       324.0                     10.0   \n",
       "Huelva (capital)                             9563.0                    235.0   \n",
       "Sanlúcar de Guadiana                            7.0                      1.0   \n",
       "Huelva                                      34835.0                    685.0   \n",
       "Aljaraque                                    1232.0                     29.0   \n",
       "Gibraleón                                     688.0                     12.0   \n",
       "Cerro de Andévalo (El)                        162.0                      2.0   \n",
       "Palma del Condado (La)                       1221.0                     13.0   \n",
       "Condado-Campiña                             11231.0                    162.0   \n",
       "Granado (El)                                   39.0                      1.0   \n",
       "Aracena                                       557.0                     10.0   \n",
       "San Juan del Puerto                           610.0                     12.0   \n",
       "Cartaya                                      1451.0                     22.0   \n",
       "Almonte                                      1958.0                     11.0   \n",
       "Punta Umbría                                  884.0                     14.0   \n",
       "San Bartolomé de la Torre                     313.0                      2.0   \n",
       "Puebla de Guzmán                              147.0                      2.0   \n",
       "Bollullos Par del Condado                    1062.0                      7.0   \n",
       "Trigueros                                     345.0                      1.0   \n",
       "Minas de Riotinto                             133.0                      3.0   \n",
       "Manzanilla                                    111.0                      1.0   \n",
       "Valverde del Camino                           683.0                      5.0   \n",
       "Beas                                          237.0                      3.0   \n",
       "Sierra de Huelva-Andévalo Central            3011.0                     31.0   \n",
       "Higuera de la Sierra                           35.0                      1.0   \n",
       "Calañas                                       203.0                      1.0   \n",
       "Villanueva de los Castillejos                 167.0                      1.0   \n",
       "Cortegana                                     219.0                      2.0   \n",
       "Paterna del Campo                             131.0                      1.0   \n",
       "Cumbres Mayores                                55.0                      1.0   \n",
       "Jabugo                                         68.0                      1.0   \n",
       "Nerva                                         183.0                      1.0   \n",
       "Zalamea la Real                                95.0                      1.0   \n",
       "\n",
       "Medida                             Confirmados PDIA 14 días  Población  \\\n",
       "Lugar de residencia                                                      \n",
       "Santa Bárbara de Casa                                  18.0     1043.0   \n",
       "Niebla                                                 54.0     4116.0   \n",
       "Isla Cristina                                         171.0    21393.0   \n",
       "Zarza-Perrunal (La)                                     6.0     1253.0   \n",
       "Alosno                                                 16.0     3933.0   \n",
       "Lucena del Puerto                                      12.0     3261.0   \n",
       "Lepe                                                   95.0    27880.0   \n",
       "Ayamonte                                               67.0    21104.0   \n",
       "Huelva-Costa                                          846.0   289548.0   \n",
       "Palos de la Frontera                                   32.0    11742.0   \n",
       "Moguer                                                 58.0    21867.0   \n",
       "Bonares                                                16.0     6060.0   \n",
       "Huelva (capital)                                      364.0   143837.0   \n",
       "Sanlúcar de Guadiana                                    1.0      403.0   \n",
       "Huelva                                               1239.0   513170.0   \n",
       "Aljaraque                                              49.0    21474.0   \n",
       "Gibraleón                                              28.0    12737.0   \n",
       "Cerro de Andévalo (El)                                  5.0     2327.0   \n",
       "Palma del Condado (La)                                 22.0    10801.0   \n",
       "Condado-Campiña                                       318.0   156231.0   \n",
       "Granado (El)                                            1.0      532.0   \n",
       "Aracena                                                15.0     8255.0   \n",
       "San Juan del Puerto                                    16.0     9411.0   \n",
       "Cartaya                                                34.0    20083.0   \n",
       "Almonte                                                36.0    24507.0   \n",
       "Punta Umbría                                           22.0    15355.0   \n",
       "San Bartolomé de la Torre                               5.0     3761.0   \n",
       "Puebla de Guzmán                                        4.0     3092.0   \n",
       "Bollullos Par del Condado                              17.0    14387.0   \n",
       "Trigueros                                               9.0     7862.0   \n",
       "Minas de Riotinto                                       4.0     3812.0   \n",
       "Manzanilla                                              2.0     2118.0   \n",
       "Valverde del Camino                                    12.0    12750.0   \n",
       "Beas                                                    4.0     4341.0   \n",
       "Sierra de Huelva-Andévalo Central                      57.0    67391.0   \n",
       "Higuera de la Sierra                                    1.0     1291.0   \n",
       "Calañas                                                 2.0     2768.0   \n",
       "Villanueva de los Castillejos                           2.0     2825.0   \n",
       "Cortegana                                               3.0     4602.0   \n",
       "Paterna del Campo                                       2.0     3457.0   \n",
       "Cumbres Mayores                                         1.0     1749.0   \n",
       "Jabugo                                                  1.0     2260.0   \n",
       "Nerva                                                   2.0     5169.0   \n",
       "Zalamea la Real                                         1.0     3054.0   \n",
       "\n",
       "Medida                                  tasa7       tasa14  Diferencia PDIA  \n",
       "Lugar de residencia                                                          \n",
       "Santa Bárbara de Casa              287.631831  1725.790988              0.0  \n",
       "Niebla                             583.090379  1311.953353              6.0  \n",
       "Isla Cristina                      369.279671   799.326883             13.0  \n",
       "Zarza-Perrunal (La)                239.425379   478.850758              0.0  \n",
       "Alosno                              25.425884   406.814137              1.0  \n",
       "Lucena del Puerto                  122.661760   367.985281              1.0  \n",
       "Lepe                               197.274032   340.746055              3.0  \n",
       "Ayamonte                           170.583776   317.475360              6.0  \n",
       "Huelva-Costa                       165.430257   292.179535            102.0  \n",
       "Palos de la Frontera               178.845171   272.525975              5.0  \n",
       "Moguer                             182.924041   265.239859             19.0  \n",
       "Bonares                            165.016502   264.026403              5.0  \n",
       "Huelva (capital)                   163.379381   253.064232             55.0  \n",
       "Sanlúcar de Guadiana               248.138958   248.138958              NaN  \n",
       "Huelva                             133.484031   241.440458            159.0  \n",
       "Aljaraque                          135.047034   228.182919              7.0  \n",
       "Gibraleón                           94.213708   219.831986              0.0  \n",
       "Cerro de Andévalo (El)              85.947572   214.868930              0.0  \n",
       "Palma del Condado (La)             120.359226   203.684844              2.0  \n",
       "Condado-Campiña                    103.692609   203.544751             47.0  \n",
       "Granado (El)                       187.969925   187.969925              0.0  \n",
       "Aracena                            121.138704   181.708056              3.0  \n",
       "San Juan del Puerto                127.510360   170.013814              1.0  \n",
       "Cartaya                            109.545387   169.297416              9.0  \n",
       "Almonte                             44.885135   146.896805              2.0  \n",
       "Punta Umbría                        91.175513   143.275806              7.0  \n",
       "San Bartolomé de la Torre           53.177346   132.943366              0.0  \n",
       "Puebla de Guzmán                    64.683053   129.366106              0.0  \n",
       "Bollullos Par del Condado           48.655036   118.162230              2.0  \n",
       "Trigueros                           12.719410   114.474688              1.0  \n",
       "Minas de Riotinto                   78.698846   104.931794              2.0  \n",
       "Manzanilla                          47.214353    94.428706              0.0  \n",
       "Valverde del Camino                 39.215686    94.117647              2.0  \n",
       "Beas                                69.108500    92.144667              2.0  \n",
       "Sierra de Huelva-Andévalo Central   46.000208    84.581027             10.0  \n",
       "Higuera de la Sierra                77.459334    77.459334              NaN  \n",
       "Calañas                             36.127168    72.254335              1.0  \n",
       "Villanueva de los Castillejos       35.398230    70.796460              0.0  \n",
       "Cortegana                           43.459365    65.189048              1.0  \n",
       "Paterna del Campo                   28.926815    57.853630              NaN  \n",
       "Cumbres Mayores                     57.175529    57.175529              0.0  \n",
       "Jabugo                              44.247788    44.247788              0.0  \n",
       "Nerva                               19.346102    38.692204              0.0  \n",
       "Zalamea la Real                     32.743942    32.743942              0.0  "
      ],
      "text/html": "<div>\n<style scoped>\n    .dataframe tbody tr th:only-of-type {\n        vertical-align: middle;\n    }\n\n    .dataframe tbody tr th {\n        vertical-align: top;\n    }\n\n    .dataframe thead th {\n        text-align: right;\n    }\n</style>\n<table border=\"1\" class=\"dataframe\">\n  <thead>\n    <tr style=\"text-align: right;\">\n      <th>Medida</th>\n      <th>Confirmados PDIA</th>\n      <th>Confirmados PDIA 7 días</th>\n      <th>Confirmados PDIA 14 días</th>\n      <th>Población</th>\n      <th>tasa7</th>\n      <th>tasa14</th>\n      <th>Diferencia PDIA</th>\n    </tr>\n    <tr>\n      <th>Lugar de residencia</th>\n      <th></th>\n      <th></th>\n      <th></th>\n      <th></th>\n      <th></th>\n      <th></th>\n      <th></th>\n    </tr>\n  </thead>\n  <tbody>\n    <tr>\n      <th>Santa Bárbara de Casa</th>\n      <td>35.0</td>\n      <td>3.0</td>\n      <td>18.0</td>\n      <td>1043.0</td>\n      <td>287.631831</td>\n      <td>1725.790988</td>\n      <td>0.0</td>\n    </tr>\n    <tr>\n      <th>Niebla</th>\n      <td>303.0</td>\n      <td>24.0</td>\n      <td>54.0</td>\n      <td>4116.0</td>\n      <td>583.090379</td>\n      <td>1311.953353</td>\n      <td>6.0</td>\n    </tr>\n    <tr>\n      <th>Isla Cristina</th>\n      <td>2379.0</td>\n      <td>79.0</td>\n      <td>171.0</td>\n      <td>21393.0</td>\n      <td>369.279671</td>\n      <td>799.326883</td>\n      <td>13.0</td>\n    </tr>\n    <tr>\n      <th>Zarza-Perrunal (La)</th>\n      <td>33.0</td>\n      <td>3.0</td>\n      <td>6.0</td>\n      <td>1253.0</td>\n      <td>239.425379</td>\n      <td>478.850758</td>\n      <td>0.0</td>\n    </tr>\n    <tr>\n      <th>Alosno</th>\n      <td>208.0</td>\n      <td>1.0</td>\n      <td>16.0</td>\n      <td>3933.0</td>\n      <td>25.425884</td>\n      <td>406.814137</td>\n      <td>1.0</td>\n    </tr>\n    <tr>\n      <th>Lucena del Puerto</th>\n      <td>280.0</td>\n      <td>4.0</td>\n      <td>12.0</td>\n      <td>3261.0</td>\n      <td>122.661760</td>\n      <td>367.985281</td>\n      <td>1.0</td>\n    </tr>\n    <tr>\n      <th>Lepe</th>\n      <td>2286.0</td>\n      <td>55.0</td>\n      <td>95.0</td>\n      <td>27880.0</td>\n      <td>197.274032</td>\n      <td>340.746055</td>\n      <td>3.0</td>\n    </tr>\n    <tr>\n      <th>Ayamonte</th>\n      <td>1438.0</td>\n      <td>36.0</td>\n      <td>67.0</td>\n      <td>21104.0</td>\n      <td>170.583776</td>\n      <td>317.475360</td>\n      <td>6.0</td>\n    </tr>\n    <tr>\n      <th>Huelva-Costa</th>\n      <td>20222.0</td>\n      <td>479.0</td>\n      <td>846.0</td>\n      <td>289548.0</td>\n      <td>165.430257</td>\n      <td>292.179535</td>\n      <td>102.0</td>\n    </tr>\n    <tr>\n      <th>Palos de la Frontera</th>\n      <td>766.0</td>\n      <td>21.0</td>\n      <td>32.0</td>\n      <td>11742.0</td>\n      <td>178.845171</td>\n      <td>272.525975</td>\n      <td>5.0</td>\n    </tr>\n    <tr>\n      <th>Moguer</th>\n      <td>1483.0</td>\n      <td>40.0</td>\n      <td>58.0</td>\n      <td>21867.0</td>\n      <td>182.924041</td>\n      <td>265.239859</td>\n      <td>19.0</td>\n    </tr>\n    <tr>\n      <th>Bonares</th>\n      <td>324.0</td>\n      <td>10.0</td>\n      <td>16.0</td>\n      <td>6060.0</td>\n      <td>165.016502</td>\n      <td>264.026403</td>\n      <td>5.0</td>\n    </tr>\n    <tr>\n      <th>Huelva (capital)</th>\n      <td>9563.0</td>\n      <td>235.0</td>\n      <td>364.0</td>\n      <td>143837.0</td>\n      <td>163.379381</td>\n      <td>253.064232</td>\n      <td>55.0</td>\n    </tr>\n    <tr>\n      <th>Sanlúcar de Guadiana</th>\n      <td>7.0</td>\n      <td>1.0</td>\n      <td>1.0</td>\n      <td>403.0</td>\n      <td>248.138958</td>\n      <td>248.138958</td>\n      <td>NaN</td>\n    </tr>\n    <tr>\n      <th>Huelva</th>\n      <td>34835.0</td>\n      <td>685.0</td>\n      <td>1239.0</td>\n      <td>513170.0</td>\n      <td>133.484031</td>\n      <td>241.440458</td>\n      <td>159.0</td>\n    </tr>\n    <tr>\n      <th>Aljaraque</th>\n      <td>1232.0</td>\n      <td>29.0</td>\n      <td>49.0</td>\n      <td>21474.0</td>\n      <td>135.047034</td>\n      <td>228.182919</td>\n      <td>7.0</td>\n    </tr>\n    <tr>\n      <th>Gibraleón</th>\n      <td>688.0</td>\n      <td>12.0</td>\n      <td>28.0</td>\n      <td>12737.0</td>\n      <td>94.213708</td>\n      <td>219.831986</td>\n      <td>0.0</td>\n    </tr>\n    <tr>\n      <th>Cerro de Andévalo (El)</th>\n      <td>162.0</td>\n      <td>2.0</td>\n      <td>5.0</td>\n      <td>2327.0</td>\n      <td>85.947572</td>\n      <td>214.868930</td>\n      <td>0.0</td>\n    </tr>\n    <tr>\n      <th>Palma del Condado (La)</th>\n      <td>1221.0</td>\n      <td>13.0</td>\n      <td>22.0</td>\n      <td>10801.0</td>\n      <td>120.359226</td>\n      <td>203.684844</td>\n      <td>2.0</td>\n    </tr>\n    <tr>\n      <th>Condado-Campiña</th>\n      <td>11231.0</td>\n      <td>162.0</td>\n      <td>318.0</td>\n      <td>156231.0</td>\n      <td>103.692609</td>\n      <td>203.544751</td>\n      <td>47.0</td>\n    </tr>\n    <tr>\n      <th>Granado (El)</th>\n      <td>39.0</td>\n      <td>1.0</td>\n      <td>1.0</td>\n      <td>532.0</td>\n      <td>187.969925</td>\n      <td>187.969925</td>\n      <td>0.0</td>\n    </tr>\n    <tr>\n      <th>Aracena</th>\n      <td>557.0</td>\n      <td>10.0</td>\n      <td>15.0</td>\n      <td>8255.0</td>\n      <td>121.138704</td>\n      <td>181.708056</td>\n      <td>3.0</td>\n    </tr>\n    <tr>\n      <th>San Juan del Puerto</th>\n      <td>610.0</td>\n      <td>12.0</td>\n      <td>16.0</td>\n      <td>9411.0</td>\n      <td>127.510360</td>\n      <td>170.013814</td>\n      <td>1.0</td>\n    </tr>\n    <tr>\n      <th>Cartaya</th>\n      <td>1451.0</td>\n      <td>22.0</td>\n      <td>34.0</td>\n      <td>20083.0</td>\n      <td>109.545387</td>\n      <td>169.297416</td>\n      <td>9.0</td>\n    </tr>\n    <tr>\n      <th>Almonte</th>\n      <td>1958.0</td>\n      <td>11.0</td>\n      <td>36.0</td>\n      <td>24507.0</td>\n      <td>44.885135</td>\n      <td>146.896805</td>\n      <td>2.0</td>\n    </tr>\n    <tr>\n      <th>Punta Umbría</th>\n      <td>884.0</td>\n      <td>14.0</td>\n      <td>22.0</td>\n      <td>15355.0</td>\n      <td>91.175513</td>\n      <td>143.275806</td>\n      <td>7.0</td>\n    </tr>\n    <tr>\n      <th>San Bartolomé de la Torre</th>\n      <td>313.0</td>\n      <td>2.0</td>\n      <td>5.0</td>\n      <td>3761.0</td>\n      <td>53.177346</td>\n      <td>132.943366</td>\n      <td>0.0</td>\n    </tr>\n    <tr>\n      <th>Puebla de Guzmán</th>\n      <td>147.0</td>\n      <td>2.0</td>\n      <td>4.0</td>\n      <td>3092.0</td>\n      <td>64.683053</td>\n      <td>129.366106</td>\n      <td>0.0</td>\n    </tr>\n    <tr>\n      <th>Bollullos Par del Condado</th>\n      <td>1062.0</td>\n      <td>7.0</td>\n      <td>17.0</td>\n      <td>14387.0</td>\n      <td>48.655036</td>\n      <td>118.162230</td>\n      <td>2.0</td>\n    </tr>\n    <tr>\n      <th>Trigueros</th>\n      <td>345.0</td>\n      <td>1.0</td>\n      <td>9.0</td>\n      <td>7862.0</td>\n      <td>12.719410</td>\n      <td>114.474688</td>\n      <td>1.0</td>\n    </tr>\n    <tr>\n      <th>Minas de Riotinto</th>\n      <td>133.0</td>\n      <td>3.0</td>\n      <td>4.0</td>\n      <td>3812.0</td>\n      <td>78.698846</td>\n      <td>104.931794</td>\n      <td>2.0</td>\n    </tr>\n    <tr>\n      <th>Manzanilla</th>\n      <td>111.0</td>\n      <td>1.0</td>\n      <td>2.0</td>\n      <td>2118.0</td>\n      <td>47.214353</td>\n      <td>94.428706</td>\n      <td>0.0</td>\n    </tr>\n    <tr>\n      <th>Valverde del Camino</th>\n      <td>683.0</td>\n      <td>5.0</td>\n      <td>12.0</td>\n      <td>12750.0</td>\n      <td>39.215686</td>\n      <td>94.117647</td>\n      <td>2.0</td>\n    </tr>\n    <tr>\n      <th>Beas</th>\n      <td>237.0</td>\n      <td>3.0</td>\n      <td>4.0</td>\n      <td>4341.0</td>\n      <td>69.108500</td>\n      <td>92.144667</td>\n      <td>2.0</td>\n    </tr>\n    <tr>\n      <th>Sierra de Huelva-Andévalo Central</th>\n      <td>3011.0</td>\n      <td>31.0</td>\n      <td>57.0</td>\n      <td>67391.0</td>\n      <td>46.000208</td>\n      <td>84.581027</td>\n      <td>10.0</td>\n    </tr>\n    <tr>\n      <th>Higuera de la Sierra</th>\n      <td>35.0</td>\n      <td>1.0</td>\n      <td>1.0</td>\n      <td>1291.0</td>\n      <td>77.459334</td>\n      <td>77.459334</td>\n      <td>NaN</td>\n    </tr>\n    <tr>\n      <th>Calañas</th>\n      <td>203.0</td>\n      <td>1.0</td>\n      <td>2.0</td>\n      <td>2768.0</td>\n      <td>36.127168</td>\n      <td>72.254335</td>\n      <td>1.0</td>\n    </tr>\n    <tr>\n      <th>Villanueva de los Castillejos</th>\n      <td>167.0</td>\n      <td>1.0</td>\n      <td>2.0</td>\n      <td>2825.0</td>\n      <td>35.398230</td>\n      <td>70.796460</td>\n      <td>0.0</td>\n    </tr>\n    <tr>\n      <th>Cortegana</th>\n      <td>219.0</td>\n      <td>2.0</td>\n      <td>3.0</td>\n      <td>4602.0</td>\n      <td>43.459365</td>\n      <td>65.189048</td>\n      <td>1.0</td>\n    </tr>\n    <tr>\n      <th>Paterna del Campo</th>\n      <td>131.0</td>\n      <td>1.0</td>\n      <td>2.0</td>\n      <td>3457.0</td>\n      <td>28.926815</td>\n      <td>57.853630</td>\n      <td>NaN</td>\n    </tr>\n    <tr>\n      <th>Cumbres Mayores</th>\n      <td>55.0</td>\n      <td>1.0</td>\n      <td>1.0</td>\n      <td>1749.0</td>\n      <td>57.175529</td>\n      <td>57.175529</td>\n      <td>0.0</td>\n    </tr>\n    <tr>\n      <th>Jabugo</th>\n      <td>68.0</td>\n      <td>1.0</td>\n      <td>1.0</td>\n      <td>2260.0</td>\n      <td>44.247788</td>\n      <td>44.247788</td>\n      <td>0.0</td>\n    </tr>\n    <tr>\n      <th>Nerva</th>\n      <td>183.0</td>\n      <td>1.0</td>\n      <td>2.0</td>\n      <td>5169.0</td>\n      <td>19.346102</td>\n      <td>38.692204</td>\n      <td>0.0</td>\n    </tr>\n    <tr>\n      <th>Zalamea la Real</th>\n      <td>95.0</td>\n      <td>1.0</td>\n      <td>1.0</td>\n      <td>3054.0</td>\n      <td>32.743942</td>\n      <td>32.743942</td>\n      <td>0.0</td>\n    </tr>\n  </tbody>\n</table>\n</div>"
     },
     "metadata": {},
     "execution_count": 17
    }
   ],
   "source": [
    "tabla.sort_values('tasa14', ascending=False)"
   ]
  },
  {
   "cell_type": "code",
   "execution_count": 18,
   "metadata": {},
   "outputs": [
    {
     "output_type": "execute_result",
     "data": {
      "text/plain": [
       "Medida                             Confirmados PDIA  Confirmados PDIA 7 días  \\\n",
       "Lugar de residencia                                                            \n",
       "Alosno                                        208.0                      1.0   \n",
       "Trigueros                                     345.0                      1.0   \n",
       "Santa Bárbara de Casa                          35.0                      3.0   \n",
       "Almonte                                      1958.0                     11.0   \n",
       "Lucena del Puerto                             280.0                      4.0   \n",
       "Cerro de Andévalo (El)                        162.0                      2.0   \n",
       "San Bartolomé de la Torre                     313.0                      2.0   \n",
       "Bollullos Par del Condado                    1062.0                      7.0   \n",
       "Valverde del Camino                           683.0                      5.0   \n",
       "Gibraleón                                     688.0                     12.0   \n",
       "Niebla                                        303.0                     24.0   \n",
       "Isla Cristina                                2379.0                     79.0   \n",
       "Paterna del Campo                             131.0                      1.0   \n",
       "Puebla de Guzmán                              147.0                      2.0   \n",
       "Zarza-Perrunal (La)                            33.0                      3.0   \n",
       "Calañas                                       203.0                      1.0   \n",
       "Villanueva de los Castillejos                 167.0                      1.0   \n",
       "Manzanilla                                    111.0                      1.0   \n",
       "Nerva                                         183.0                      1.0   \n",
       "Condado-Campiña                             11231.0                    162.0   \n",
       "Ayamonte                                     1438.0                     36.0   \n",
       "Sierra de Huelva-Andévalo Central            3011.0                     31.0   \n",
       "Huelva                                      34835.0                    685.0   \n",
       "Huelva-Costa                                20222.0                    479.0   \n",
       "Lepe                                         2286.0                     55.0   \n",
       "Palma del Condado (La)                       1221.0                     13.0   \n",
       "Aljaraque                                    1232.0                     29.0   \n",
       "Bonares                                       324.0                     10.0   \n",
       "Punta Umbría                                  884.0                     14.0   \n",
       "Huelva (capital)                             9563.0                    235.0   \n",
       "Cartaya                                      1451.0                     22.0   \n",
       "Palos de la Frontera                          766.0                     21.0   \n",
       "Aracena                                       557.0                     10.0   \n",
       "Cortegana                                     219.0                      2.0   \n",
       "Moguer                                       1483.0                     40.0   \n",
       "Minas de Riotinto                             133.0                      3.0   \n",
       "Beas                                          237.0                      3.0   \n",
       "San Juan del Puerto                           610.0                     12.0   \n",
       "Cumbres Mayores                                55.0                      1.0   \n",
       "Granado (El)                                   39.0                      1.0   \n",
       "Higuera de la Sierra                           35.0                      1.0   \n",
       "Zalamea la Real                                95.0                      1.0   \n",
       "Sanlúcar de Guadiana                            7.0                      1.0   \n",
       "Jabugo                                         68.0                      1.0   \n",
       "\n",
       "Medida                             Confirmados PDIA 14 días  Población  \\\n",
       "Lugar de residencia                                                      \n",
       "Alosno                                                 16.0     3933.0   \n",
       "Trigueros                                               9.0     7862.0   \n",
       "Santa Bárbara de Casa                                  18.0     1043.0   \n",
       "Almonte                                                36.0    24507.0   \n",
       "Lucena del Puerto                                      12.0     3261.0   \n",
       "Cerro de Andévalo (El)                                  5.0     2327.0   \n",
       "San Bartolomé de la Torre                               5.0     3761.0   \n",
       "Bollullos Par del Condado                              17.0    14387.0   \n",
       "Valverde del Camino                                    12.0    12750.0   \n",
       "Gibraleón                                              28.0    12737.0   \n",
       "Niebla                                                 54.0     4116.0   \n",
       "Isla Cristina                                         171.0    21393.0   \n",
       "Paterna del Campo                                       2.0     3457.0   \n",
       "Puebla de Guzmán                                        4.0     3092.0   \n",
       "Zarza-Perrunal (La)                                     6.0     1253.0   \n",
       "Calañas                                                 2.0     2768.0   \n",
       "Villanueva de los Castillejos                           2.0     2825.0   \n",
       "Manzanilla                                              2.0     2118.0   \n",
       "Nerva                                                   2.0     5169.0   \n",
       "Condado-Campiña                                       318.0   156231.0   \n",
       "Ayamonte                                               67.0    21104.0   \n",
       "Sierra de Huelva-Andévalo Central                      57.0    67391.0   \n",
       "Huelva                                               1239.0   513170.0   \n",
       "Huelva-Costa                                          846.0   289548.0   \n",
       "Lepe                                                   95.0    27880.0   \n",
       "Palma del Condado (La)                                 22.0    10801.0   \n",
       "Aljaraque                                              49.0    21474.0   \n",
       "Bonares                                                16.0     6060.0   \n",
       "Punta Umbría                                           22.0    15355.0   \n",
       "Huelva (capital)                                      364.0   143837.0   \n",
       "Cartaya                                                34.0    20083.0   \n",
       "Palos de la Frontera                                   32.0    11742.0   \n",
       "Aracena                                                15.0     8255.0   \n",
       "Cortegana                                               3.0     4602.0   \n",
       "Moguer                                                 58.0    21867.0   \n",
       "Minas de Riotinto                                       4.0     3812.0   \n",
       "Beas                                                    4.0     4341.0   \n",
       "San Juan del Puerto                                    16.0     9411.0   \n",
       "Cumbres Mayores                                         1.0     1749.0   \n",
       "Granado (El)                                            1.0      532.0   \n",
       "Higuera de la Sierra                                    1.0     1291.0   \n",
       "Zalamea la Real                                         1.0     3054.0   \n",
       "Sanlúcar de Guadiana                                    1.0      403.0   \n",
       "Jabugo                                                  1.0     2260.0   \n",
       "\n",
       "Medida                                  tasa7       tasa14  Diferencia PDIA  \\\n",
       "Lugar de residencia                                                           \n",
       "Alosno                              25.425884   406.814137              1.0   \n",
       "Trigueros                           12.719410   114.474688              1.0   \n",
       "Santa Bárbara de Casa              287.631831  1725.790988              0.0   \n",
       "Almonte                             44.885135   146.896805              2.0   \n",
       "Lucena del Puerto                  122.661760   367.985281              1.0   \n",
       "Cerro de Andévalo (El)              85.947572   214.868930              0.0   \n",
       "San Bartolomé de la Torre           53.177346   132.943366              0.0   \n",
       "Bollullos Par del Condado           48.655036   118.162230              2.0   \n",
       "Valverde del Camino                 39.215686    94.117647              2.0   \n",
       "Gibraleón                           94.213708   219.831986              0.0   \n",
       "Niebla                             583.090379  1311.953353              6.0   \n",
       "Isla Cristina                      369.279671   799.326883             13.0   \n",
       "Paterna del Campo                   28.926815    57.853630              0.0   \n",
       "Puebla de Guzmán                    64.683053   129.366106              0.0   \n",
       "Zarza-Perrunal (La)                239.425379   478.850758              0.0   \n",
       "Calañas                             36.127168    72.254335              1.0   \n",
       "Villanueva de los Castillejos       35.398230    70.796460              0.0   \n",
       "Manzanilla                          47.214353    94.428706              0.0   \n",
       "Nerva                               19.346102    38.692204              0.0   \n",
       "Condado-Campiña                    103.692609   203.544751             47.0   \n",
       "Ayamonte                           170.583776   317.475360              6.0   \n",
       "Sierra de Huelva-Andévalo Central   46.000208    84.581027             10.0   \n",
       "Huelva                             133.484031   241.440458            159.0   \n",
       "Huelva-Costa                       165.430257   292.179535            102.0   \n",
       "Lepe                               197.274032   340.746055              3.0   \n",
       "Palma del Condado (La)             120.359226   203.684844              2.0   \n",
       "Aljaraque                          135.047034   228.182919              7.0   \n",
       "Bonares                            165.016502   264.026403              5.0   \n",
       "Punta Umbría                        91.175513   143.275806              7.0   \n",
       "Huelva (capital)                   163.379381   253.064232             55.0   \n",
       "Cartaya                            109.545387   169.297416              9.0   \n",
       "Palos de la Frontera               178.845171   272.525975              5.0   \n",
       "Aracena                            121.138704   181.708056              3.0   \n",
       "Cortegana                           43.459365    65.189048              1.0   \n",
       "Moguer                             182.924041   265.239859             19.0   \n",
       "Minas de Riotinto                   78.698846   104.931794              2.0   \n",
       "Beas                                69.108500    92.144667              2.0   \n",
       "San Juan del Puerto                127.510360   170.013814              1.0   \n",
       "Cumbres Mayores                     57.175529    57.175529              0.0   \n",
       "Granado (El)                       187.969925   187.969925              0.0   \n",
       "Higuera de la Sierra                77.459334    77.459334              0.0   \n",
       "Zalamea la Real                     32.743942    32.743942              0.0   \n",
       "Sanlúcar de Guadiana               248.138958   248.138958              0.0   \n",
       "Jabugo                              44.247788    44.247788              0.0   \n",
       "\n",
       "Medida                                 7/14  \n",
       "Lugar de residencia                          \n",
       "Alosno                             0.062500  \n",
       "Trigueros                          0.111111  \n",
       "Santa Bárbara de Casa              0.166667  \n",
       "Almonte                            0.305556  \n",
       "Lucena del Puerto                  0.333333  \n",
       "Cerro de Andévalo (El)             0.400000  \n",
       "San Bartolomé de la Torre          0.400000  \n",
       "Bollullos Par del Condado          0.411765  \n",
       "Valverde del Camino                0.416667  \n",
       "Gibraleón                          0.428571  \n",
       "Niebla                             0.444444  \n",
       "Isla Cristina                      0.461988  \n",
       "Paterna del Campo                  0.500000  \n",
       "Puebla de Guzmán                   0.500000  \n",
       "Zarza-Perrunal (La)                0.500000  \n",
       "Calañas                            0.500000  \n",
       "Villanueva de los Castillejos      0.500000  \n",
       "Manzanilla                         0.500000  \n",
       "Nerva                              0.500000  \n",
       "Condado-Campiña                    0.509434  \n",
       "Ayamonte                           0.537313  \n",
       "Sierra de Huelva-Andévalo Central  0.543860  \n",
       "Huelva                             0.552865  \n",
       "Huelva-Costa                       0.566194  \n",
       "Lepe                               0.578947  \n",
       "Palma del Condado (La)             0.590909  \n",
       "Aljaraque                          0.591837  \n",
       "Bonares                            0.625000  \n",
       "Punta Umbría                       0.636364  \n",
       "Huelva (capital)                   0.645604  \n",
       "Cartaya                            0.647059  \n",
       "Palos de la Frontera               0.656250  \n",
       "Aracena                            0.666667  \n",
       "Cortegana                          0.666667  \n",
       "Moguer                             0.689655  \n",
       "Minas de Riotinto                  0.750000  \n",
       "Beas                               0.750000  \n",
       "San Juan del Puerto                0.750000  \n",
       "Cumbres Mayores                    1.000000  \n",
       "Granado (El)                       1.000000  \n",
       "Higuera de la Sierra               1.000000  \n",
       "Zalamea la Real                    1.000000  \n",
       "Sanlúcar de Guadiana               1.000000  \n",
       "Jabugo                             1.000000  "
      ],
      "text/html": "<div>\n<style scoped>\n    .dataframe tbody tr th:only-of-type {\n        vertical-align: middle;\n    }\n\n    .dataframe tbody tr th {\n        vertical-align: top;\n    }\n\n    .dataframe thead th {\n        text-align: right;\n    }\n</style>\n<table border=\"1\" class=\"dataframe\">\n  <thead>\n    <tr style=\"text-align: right;\">\n      <th>Medida</th>\n      <th>Confirmados PDIA</th>\n      <th>Confirmados PDIA 7 días</th>\n      <th>Confirmados PDIA 14 días</th>\n      <th>Población</th>\n      <th>tasa7</th>\n      <th>tasa14</th>\n      <th>Diferencia PDIA</th>\n      <th>7/14</th>\n    </tr>\n    <tr>\n      <th>Lugar de residencia</th>\n      <th></th>\n      <th></th>\n      <th></th>\n      <th></th>\n      <th></th>\n      <th></th>\n      <th></th>\n      <th></th>\n    </tr>\n  </thead>\n  <tbody>\n    <tr>\n      <th>Alosno</th>\n      <td>208.0</td>\n      <td>1.0</td>\n      <td>16.0</td>\n      <td>3933.0</td>\n      <td>25.425884</td>\n      <td>406.814137</td>\n      <td>1.0</td>\n      <td>0.062500</td>\n    </tr>\n    <tr>\n      <th>Trigueros</th>\n      <td>345.0</td>\n      <td>1.0</td>\n      <td>9.0</td>\n      <td>7862.0</td>\n      <td>12.719410</td>\n      <td>114.474688</td>\n      <td>1.0</td>\n      <td>0.111111</td>\n    </tr>\n    <tr>\n      <th>Santa Bárbara de Casa</th>\n      <td>35.0</td>\n      <td>3.0</td>\n      <td>18.0</td>\n      <td>1043.0</td>\n      <td>287.631831</td>\n      <td>1725.790988</td>\n      <td>0.0</td>\n      <td>0.166667</td>\n    </tr>\n    <tr>\n      <th>Almonte</th>\n      <td>1958.0</td>\n      <td>11.0</td>\n      <td>36.0</td>\n      <td>24507.0</td>\n      <td>44.885135</td>\n      <td>146.896805</td>\n      <td>2.0</td>\n      <td>0.305556</td>\n    </tr>\n    <tr>\n      <th>Lucena del Puerto</th>\n      <td>280.0</td>\n      <td>4.0</td>\n      <td>12.0</td>\n      <td>3261.0</td>\n      <td>122.661760</td>\n      <td>367.985281</td>\n      <td>1.0</td>\n      <td>0.333333</td>\n    </tr>\n    <tr>\n      <th>Cerro de Andévalo (El)</th>\n      <td>162.0</td>\n      <td>2.0</td>\n      <td>5.0</td>\n      <td>2327.0</td>\n      <td>85.947572</td>\n      <td>214.868930</td>\n      <td>0.0</td>\n      <td>0.400000</td>\n    </tr>\n    <tr>\n      <th>San Bartolomé de la Torre</th>\n      <td>313.0</td>\n      <td>2.0</td>\n      <td>5.0</td>\n      <td>3761.0</td>\n      <td>53.177346</td>\n      <td>132.943366</td>\n      <td>0.0</td>\n      <td>0.400000</td>\n    </tr>\n    <tr>\n      <th>Bollullos Par del Condado</th>\n      <td>1062.0</td>\n      <td>7.0</td>\n      <td>17.0</td>\n      <td>14387.0</td>\n      <td>48.655036</td>\n      <td>118.162230</td>\n      <td>2.0</td>\n      <td>0.411765</td>\n    </tr>\n    <tr>\n      <th>Valverde del Camino</th>\n      <td>683.0</td>\n      <td>5.0</td>\n      <td>12.0</td>\n      <td>12750.0</td>\n      <td>39.215686</td>\n      <td>94.117647</td>\n      <td>2.0</td>\n      <td>0.416667</td>\n    </tr>\n    <tr>\n      <th>Gibraleón</th>\n      <td>688.0</td>\n      <td>12.0</td>\n      <td>28.0</td>\n      <td>12737.0</td>\n      <td>94.213708</td>\n      <td>219.831986</td>\n      <td>0.0</td>\n      <td>0.428571</td>\n    </tr>\n    <tr>\n      <th>Niebla</th>\n      <td>303.0</td>\n      <td>24.0</td>\n      <td>54.0</td>\n      <td>4116.0</td>\n      <td>583.090379</td>\n      <td>1311.953353</td>\n      <td>6.0</td>\n      <td>0.444444</td>\n    </tr>\n    <tr>\n      <th>Isla Cristina</th>\n      <td>2379.0</td>\n      <td>79.0</td>\n      <td>171.0</td>\n      <td>21393.0</td>\n      <td>369.279671</td>\n      <td>799.326883</td>\n      <td>13.0</td>\n      <td>0.461988</td>\n    </tr>\n    <tr>\n      <th>Paterna del Campo</th>\n      <td>131.0</td>\n      <td>1.0</td>\n      <td>2.0</td>\n      <td>3457.0</td>\n      <td>28.926815</td>\n      <td>57.853630</td>\n      <td>0.0</td>\n      <td>0.500000</td>\n    </tr>\n    <tr>\n      <th>Puebla de Guzmán</th>\n      <td>147.0</td>\n      <td>2.0</td>\n      <td>4.0</td>\n      <td>3092.0</td>\n      <td>64.683053</td>\n      <td>129.366106</td>\n      <td>0.0</td>\n      <td>0.500000</td>\n    </tr>\n    <tr>\n      <th>Zarza-Perrunal (La)</th>\n      <td>33.0</td>\n      <td>3.0</td>\n      <td>6.0</td>\n      <td>1253.0</td>\n      <td>239.425379</td>\n      <td>478.850758</td>\n      <td>0.0</td>\n      <td>0.500000</td>\n    </tr>\n    <tr>\n      <th>Calañas</th>\n      <td>203.0</td>\n      <td>1.0</td>\n      <td>2.0</td>\n      <td>2768.0</td>\n      <td>36.127168</td>\n      <td>72.254335</td>\n      <td>1.0</td>\n      <td>0.500000</td>\n    </tr>\n    <tr>\n      <th>Villanueva de los Castillejos</th>\n      <td>167.0</td>\n      <td>1.0</td>\n      <td>2.0</td>\n      <td>2825.0</td>\n      <td>35.398230</td>\n      <td>70.796460</td>\n      <td>0.0</td>\n      <td>0.500000</td>\n    </tr>\n    <tr>\n      <th>Manzanilla</th>\n      <td>111.0</td>\n      <td>1.0</td>\n      <td>2.0</td>\n      <td>2118.0</td>\n      <td>47.214353</td>\n      <td>94.428706</td>\n      <td>0.0</td>\n      <td>0.500000</td>\n    </tr>\n    <tr>\n      <th>Nerva</th>\n      <td>183.0</td>\n      <td>1.0</td>\n      <td>2.0</td>\n      <td>5169.0</td>\n      <td>19.346102</td>\n      <td>38.692204</td>\n      <td>0.0</td>\n      <td>0.500000</td>\n    </tr>\n    <tr>\n      <th>Condado-Campiña</th>\n      <td>11231.0</td>\n      <td>162.0</td>\n      <td>318.0</td>\n      <td>156231.0</td>\n      <td>103.692609</td>\n      <td>203.544751</td>\n      <td>47.0</td>\n      <td>0.509434</td>\n    </tr>\n    <tr>\n      <th>Ayamonte</th>\n      <td>1438.0</td>\n      <td>36.0</td>\n      <td>67.0</td>\n      <td>21104.0</td>\n      <td>170.583776</td>\n      <td>317.475360</td>\n      <td>6.0</td>\n      <td>0.537313</td>\n    </tr>\n    <tr>\n      <th>Sierra de Huelva-Andévalo Central</th>\n      <td>3011.0</td>\n      <td>31.0</td>\n      <td>57.0</td>\n      <td>67391.0</td>\n      <td>46.000208</td>\n      <td>84.581027</td>\n      <td>10.0</td>\n      <td>0.543860</td>\n    </tr>\n    <tr>\n      <th>Huelva</th>\n      <td>34835.0</td>\n      <td>685.0</td>\n      <td>1239.0</td>\n      <td>513170.0</td>\n      <td>133.484031</td>\n      <td>241.440458</td>\n      <td>159.0</td>\n      <td>0.552865</td>\n    </tr>\n    <tr>\n      <th>Huelva-Costa</th>\n      <td>20222.0</td>\n      <td>479.0</td>\n      <td>846.0</td>\n      <td>289548.0</td>\n      <td>165.430257</td>\n      <td>292.179535</td>\n      <td>102.0</td>\n      <td>0.566194</td>\n    </tr>\n    <tr>\n      <th>Lepe</th>\n      <td>2286.0</td>\n      <td>55.0</td>\n      <td>95.0</td>\n      <td>27880.0</td>\n      <td>197.274032</td>\n      <td>340.746055</td>\n      <td>3.0</td>\n      <td>0.578947</td>\n    </tr>\n    <tr>\n      <th>Palma del Condado (La)</th>\n      <td>1221.0</td>\n      <td>13.0</td>\n      <td>22.0</td>\n      <td>10801.0</td>\n      <td>120.359226</td>\n      <td>203.684844</td>\n      <td>2.0</td>\n      <td>0.590909</td>\n    </tr>\n    <tr>\n      <th>Aljaraque</th>\n      <td>1232.0</td>\n      <td>29.0</td>\n      <td>49.0</td>\n      <td>21474.0</td>\n      <td>135.047034</td>\n      <td>228.182919</td>\n      <td>7.0</td>\n      <td>0.591837</td>\n    </tr>\n    <tr>\n      <th>Bonares</th>\n      <td>324.0</td>\n      <td>10.0</td>\n      <td>16.0</td>\n      <td>6060.0</td>\n      <td>165.016502</td>\n      <td>264.026403</td>\n      <td>5.0</td>\n      <td>0.625000</td>\n    </tr>\n    <tr>\n      <th>Punta Umbría</th>\n      <td>884.0</td>\n      <td>14.0</td>\n      <td>22.0</td>\n      <td>15355.0</td>\n      <td>91.175513</td>\n      <td>143.275806</td>\n      <td>7.0</td>\n      <td>0.636364</td>\n    </tr>\n    <tr>\n      <th>Huelva (capital)</th>\n      <td>9563.0</td>\n      <td>235.0</td>\n      <td>364.0</td>\n      <td>143837.0</td>\n      <td>163.379381</td>\n      <td>253.064232</td>\n      <td>55.0</td>\n      <td>0.645604</td>\n    </tr>\n    <tr>\n      <th>Cartaya</th>\n      <td>1451.0</td>\n      <td>22.0</td>\n      <td>34.0</td>\n      <td>20083.0</td>\n      <td>109.545387</td>\n      <td>169.297416</td>\n      <td>9.0</td>\n      <td>0.647059</td>\n    </tr>\n    <tr>\n      <th>Palos de la Frontera</th>\n      <td>766.0</td>\n      <td>21.0</td>\n      <td>32.0</td>\n      <td>11742.0</td>\n      <td>178.845171</td>\n      <td>272.525975</td>\n      <td>5.0</td>\n      <td>0.656250</td>\n    </tr>\n    <tr>\n      <th>Aracena</th>\n      <td>557.0</td>\n      <td>10.0</td>\n      <td>15.0</td>\n      <td>8255.0</td>\n      <td>121.138704</td>\n      <td>181.708056</td>\n      <td>3.0</td>\n      <td>0.666667</td>\n    </tr>\n    <tr>\n      <th>Cortegana</th>\n      <td>219.0</td>\n      <td>2.0</td>\n      <td>3.0</td>\n      <td>4602.0</td>\n      <td>43.459365</td>\n      <td>65.189048</td>\n      <td>1.0</td>\n      <td>0.666667</td>\n    </tr>\n    <tr>\n      <th>Moguer</th>\n      <td>1483.0</td>\n      <td>40.0</td>\n      <td>58.0</td>\n      <td>21867.0</td>\n      <td>182.924041</td>\n      <td>265.239859</td>\n      <td>19.0</td>\n      <td>0.689655</td>\n    </tr>\n    <tr>\n      <th>Minas de Riotinto</th>\n      <td>133.0</td>\n      <td>3.0</td>\n      <td>4.0</td>\n      <td>3812.0</td>\n      <td>78.698846</td>\n      <td>104.931794</td>\n      <td>2.0</td>\n      <td>0.750000</td>\n    </tr>\n    <tr>\n      <th>Beas</th>\n      <td>237.0</td>\n      <td>3.0</td>\n      <td>4.0</td>\n      <td>4341.0</td>\n      <td>69.108500</td>\n      <td>92.144667</td>\n      <td>2.0</td>\n      <td>0.750000</td>\n    </tr>\n    <tr>\n      <th>San Juan del Puerto</th>\n      <td>610.0</td>\n      <td>12.0</td>\n      <td>16.0</td>\n      <td>9411.0</td>\n      <td>127.510360</td>\n      <td>170.013814</td>\n      <td>1.0</td>\n      <td>0.750000</td>\n    </tr>\n    <tr>\n      <th>Cumbres Mayores</th>\n      <td>55.0</td>\n      <td>1.0</td>\n      <td>1.0</td>\n      <td>1749.0</td>\n      <td>57.175529</td>\n      <td>57.175529</td>\n      <td>0.0</td>\n      <td>1.000000</td>\n    </tr>\n    <tr>\n      <th>Granado (El)</th>\n      <td>39.0</td>\n      <td>1.0</td>\n      <td>1.0</td>\n      <td>532.0</td>\n      <td>187.969925</td>\n      <td>187.969925</td>\n      <td>0.0</td>\n      <td>1.000000</td>\n    </tr>\n    <tr>\n      <th>Higuera de la Sierra</th>\n      <td>35.0</td>\n      <td>1.0</td>\n      <td>1.0</td>\n      <td>1291.0</td>\n      <td>77.459334</td>\n      <td>77.459334</td>\n      <td>0.0</td>\n      <td>1.000000</td>\n    </tr>\n    <tr>\n      <th>Zalamea la Real</th>\n      <td>95.0</td>\n      <td>1.0</td>\n      <td>1.0</td>\n      <td>3054.0</td>\n      <td>32.743942</td>\n      <td>32.743942</td>\n      <td>0.0</td>\n      <td>1.000000</td>\n    </tr>\n    <tr>\n      <th>Sanlúcar de Guadiana</th>\n      <td>7.0</td>\n      <td>1.0</td>\n      <td>1.0</td>\n      <td>403.0</td>\n      <td>248.138958</td>\n      <td>248.138958</td>\n      <td>0.0</td>\n      <td>1.000000</td>\n    </tr>\n    <tr>\n      <th>Jabugo</th>\n      <td>68.0</td>\n      <td>1.0</td>\n      <td>1.0</td>\n      <td>2260.0</td>\n      <td>44.247788</td>\n      <td>44.247788</td>\n      <td>0.0</td>\n      <td>1.000000</td>\n    </tr>\n  </tbody>\n</table>\n</div>"
     },
     "metadata": {},
     "execution_count": 18
    }
   ],
   "source": [
    "# Peso de la tasa de la última semana en relación con la tasa a 14 días \n",
    "# Mejor cuanto menor. Valor 1 significa que no había casos antes de 7 días.\n",
    "tabla['7/14'] = tabla['tasa7'] / tabla['tasa14']\n",
    "tabla.fillna(0).sort_values('7/14', ascending=True)"
   ]
  },
  {
   "cell_type": "code",
   "execution_count": null,
   "metadata": {},
   "outputs": [],
   "source": []
  }
 ]
}