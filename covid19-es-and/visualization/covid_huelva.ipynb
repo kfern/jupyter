{
 "metadata": {
  "language_info": {
   "codemirror_mode": {
    "name": "ipython",
    "version": 3
   },
   "file_extension": ".py",
   "mimetype": "text/x-python",
   "name": "python",
   "nbconvert_exporter": "python",
   "pygments_lexer": "ipython3",
   "version": "3.6.9-final"
  },
  "orig_nbformat": 2,
  "kernelspec": {
   "name": "Python 3.6.9 64-bit",
   "display_name": "Python 3.6.9 64-bit",
   "metadata": {
    "interpreter": {
     "hash": "31f2aee4e71d21fbe5cf8b01ff0e069b9275f58929596ceb00d14d90e3e16cd6"
    }
   }
  }
 },
 "nbformat": 4,
 "nbformat_minor": 2,
 "cells": [
  {
   "cell_type": "code",
   "execution_count": 1,
   "metadata": {},
   "outputs": [],
   "source": [
    "import pandas as pd"
   ]
  },
  {
   "cell_type": "code",
   "execution_count": 2,
   "metadata": {},
   "outputs": [],
   "source": [
    "# FIX SSL: CERTIFICATE_VERIFY_FAILED with Python3\n",
    "# https://stackoverflow.com/a/49174340\n",
    "import ssl\n",
    "\n",
    "ssl._create_default_https_context = ssl._create_unverified_context"
   ]
  },
  {
   "cell_type": "code",
   "execution_count": 3,
   "metadata": {},
   "outputs": [],
   "source": [
    "url = 'https://www.juntadeandalucia.es/institutodeestadisticaycartografia/badea/stpivot/stpivot/Print?cube=013d884c-cfc5-4c21-9e78-e26225682afd&type=3&foto=si&ejecutaDesde=&codConsulta=38668&consTipoVisua=JP'\n",
    "fields = ['Lugar de residencia', 'Medida', 'Valor']\n",
    "df = pd.read_csv(url, delimiter=';', usecols=fields, decimal=',')"
   ]
  },
  {
   "cell_type": "code",
   "execution_count": 4,
   "metadata": {},
   "outputs": [
    {
     "output_type": "execute_result",
     "data": {
      "text/plain": [
       "                     Lugar de residencia                    Medida  \\\n",
       "0                                 Huelva                 Población   \n",
       "1                                 Huelva          Confirmados PDIA   \n",
       "2                                 Huelva  Confirmados PDIA 14 días   \n",
       "3                                 Huelva         Tasa PDIA 14 días   \n",
       "4                                 Huelva   Confirmados PDIA 7 días   \n",
       "..                                   ...                       ...   \n",
       "627  Municipio de Huelva sin especificar         Tasa PDIA 14 días   \n",
       "628  Municipio de Huelva sin especificar   Confirmados PDIA 7 días   \n",
       "629  Municipio de Huelva sin especificar        Total Confirmados    \n",
       "630  Municipio de Huelva sin especificar                   Curados   \n",
       "631  Municipio de Huelva sin especificar                Fallecidos   \n",
       "\n",
       "                  Valor  \n",
       "0                510743  \n",
       "1                 10260  \n",
       "2                  1142  \n",
       "3    223,59582020703172  \n",
       "4                   468  \n",
       "..                  ...  \n",
       "627                   -  \n",
       "628                   3  \n",
       "629                 125  \n",
       "630                  88  \n",
       "631                   1  \n",
       "\n",
       "[632 rows x 3 columns]"
      ],
      "text/html": "<div>\n<style scoped>\n    .dataframe tbody tr th:only-of-type {\n        vertical-align: middle;\n    }\n\n    .dataframe tbody tr th {\n        vertical-align: top;\n    }\n\n    .dataframe thead th {\n        text-align: right;\n    }\n</style>\n<table border=\"1\" class=\"dataframe\">\n  <thead>\n    <tr style=\"text-align: right;\">\n      <th></th>\n      <th>Lugar de residencia</th>\n      <th>Medida</th>\n      <th>Valor</th>\n    </tr>\n  </thead>\n  <tbody>\n    <tr>\n      <th>0</th>\n      <td>Huelva</td>\n      <td>Población</td>\n      <td>510743</td>\n    </tr>\n    <tr>\n      <th>1</th>\n      <td>Huelva</td>\n      <td>Confirmados PDIA</td>\n      <td>10260</td>\n    </tr>\n    <tr>\n      <th>2</th>\n      <td>Huelva</td>\n      <td>Confirmados PDIA 14 días</td>\n      <td>1142</td>\n    </tr>\n    <tr>\n      <th>3</th>\n      <td>Huelva</td>\n      <td>Tasa PDIA 14 días</td>\n      <td>223,59582020703172</td>\n    </tr>\n    <tr>\n      <th>4</th>\n      <td>Huelva</td>\n      <td>Confirmados PDIA 7 días</td>\n      <td>468</td>\n    </tr>\n    <tr>\n      <th>...</th>\n      <td>...</td>\n      <td>...</td>\n      <td>...</td>\n    </tr>\n    <tr>\n      <th>627</th>\n      <td>Municipio de Huelva sin especificar</td>\n      <td>Tasa PDIA 14 días</td>\n      <td>-</td>\n    </tr>\n    <tr>\n      <th>628</th>\n      <td>Municipio de Huelva sin especificar</td>\n      <td>Confirmados PDIA 7 días</td>\n      <td>3</td>\n    </tr>\n    <tr>\n      <th>629</th>\n      <td>Municipio de Huelva sin especificar</td>\n      <td>Total Confirmados</td>\n      <td>125</td>\n    </tr>\n    <tr>\n      <th>630</th>\n      <td>Municipio de Huelva sin especificar</td>\n      <td>Curados</td>\n      <td>88</td>\n    </tr>\n    <tr>\n      <th>631</th>\n      <td>Municipio de Huelva sin especificar</td>\n      <td>Fallecidos</td>\n      <td>1</td>\n    </tr>\n  </tbody>\n</table>\n<p>632 rows × 3 columns</p>\n</div>"
     },
     "metadata": {},
     "execution_count": 4
    }
   ],
   "source": [
    "df"
   ]
  },
  {
   "cell_type": "code",
   "execution_count": 5,
   "metadata": {},
   "outputs": [],
   "source": [
    "df['Valor'] = pd.to_numeric(df['Valor'],errors='coerce')"
   ]
  },
  {
   "cell_type": "code",
   "execution_count": 6,
   "metadata": {},
   "outputs": [],
   "source": [
    "dfAnterior = pd.read_csv('covid_huelva.csv', index_col='Lugar de residencia')"
   ]
  },
  {
   "cell_type": "code",
   "execution_count": 7,
   "metadata": {
    "tags": []
   },
   "outputs": [
    {
     "output_type": "stream",
     "name": "stdout",
     "text": [
      "Confirmados PCR en la provincia de Huelva:  10260.0\n"
     ]
    }
   ],
   "source": [
    "# Confirmados PCR provincia Huelva\n",
    "p = df[df['Lugar de residencia'] == 'Huelva'][df['Medida'] == 'Confirmados PDIA']['Valor'].values[0]\n",
    "print('Confirmados PCR en la provincia de Huelva: ', p)"
   ]
  },
  {
   "cell_type": "code",
   "execution_count": 8,
   "metadata": {
    "tags": []
   },
   "outputs": [
    {
     "output_type": "stream",
     "name": "stdout",
     "text": [
      "Confirmados PCR en Huelva capital:  2886.0\n"
     ]
    }
   ],
   "source": [
    "# Confirmados PCR Huelva capitalpd\n",
    "c = df[df['Lugar de residencia'] == 'Huelva (capital)'][df['Medida'] == 'Confirmados PDIA']['Valor'].values[0]\n",
    "print('Confirmados PCR en Huelva capital: ', c)"
   ]
  },
  {
   "cell_type": "code",
   "execution_count": 9,
   "metadata": {
    "tags": []
   },
   "outputs": [],
   "source": [
    "c7 = df[df['Lugar de residencia'] == 'Huelva (capital)'][df['Medida'] == 'Confirmados PDIA 7 días']['Valor'].values[0]\n",
    "c14 = df[df['Lugar de residencia'] == 'Huelva (capital)'][df['Medida'] == 'Confirmados PDIA 14 días']['Valor'].values[0]\n",
    "p = df[df['Lugar de residencia'] == 'Huelva (capital)'][df['Medida'] == 'Población']['Valor'].values[0]"
   ]
  },
  {
   "cell_type": "code",
   "execution_count": 10,
   "metadata": {
    "tags": []
   },
   "outputs": [
    {
     "output_type": "stream",
     "name": "stdout",
     "text": [
      "Huelva (capital)\n\nUn positivo PCR cada 1056 personas en los últimos 7 días \n\nUn positivo PCR cada 437 personas en los últimos 14 días\n"
     ]
    }
   ],
   "source": [
    "print('Huelva (capital)\\n')\n",
    "#print('Confirmados PCR 7 días x 1,000 habitantes: ', f\"{c7/(p/1000):.5f}\")\n",
    "print('Un positivo PCR cada', f\"{p/c7:.0f}\", 'personas en los últimos 7 días', '\\n')\n",
    "#print('Confirmados PCR 14 días x 1,000 habitantes: ', f\"{c14/(p/1000):.5f}\")\n",
    "print('Un positivo PCR cada', f\"{p/c14:.0f}\", 'personas en los últimos 14 días')"
   ]
  },
  {
   "cell_type": "code",
   "execution_count": 11,
   "metadata": {},
   "outputs": [],
   "source": [
    "filtro = ((df['Medida'] == 'Confirmados PDIA')| (df['Medida'] == 'Confirmados PDIA 7 días') | (df['Medida'] == 'Población' ) | (df['Medida'] == 'Confirmados PDIA 14 días')) & (df['Valor'] > 0)\n",
    "tabla = pd.pivot_table(df.loc[filtro], values='Valor', index='Lugar de residencia', columns='Medida').dropna()"
   ]
  },
  {
   "cell_type": "code",
   "execution_count": 12,
   "metadata": {},
   "outputs": [],
   "source": [
    "# Reorder columns\n",
    "tabla = tabla[['Confirmados PDIA', 'Confirmados PDIA 7 días', 'Confirmados PDIA 14 días', 'Población']]"
   ]
  },
  {
   "cell_type": "code",
   "execution_count": 13,
   "metadata": {},
   "outputs": [],
   "source": [
    "tabla['tasa7'] = tabla['Confirmados PDIA 7 días']/tabla['Población']*100000\n",
    "tabla['tasa14'] = tabla['Confirmados PDIA 14 días']/tabla['Población']*100000"
   ]
  },
  {
   "cell_type": "code",
   "execution_count": 14,
   "metadata": {},
   "outputs": [],
   "source": [
    "tabla['Diferencia PDIA'] = tabla['Confirmados PDIA'] - dfAnterior['Confirmados PDIA']"
   ]
  },
  {
   "cell_type": "code",
   "execution_count": 15,
   "metadata": {},
   "outputs": [
    {
     "output_type": "execute_result",
     "data": {
      "text/plain": [
       "Medida                     Confirmados PDIA  Confirmados PDIA 7 días  \\\n",
       "Lugar de residencia                                                    \n",
       "Huelva                              10260.0                    468.0   \n",
       "Huelva-Costa                         5722.0                    323.0   \n",
       "Huelva (capital)                     2886.0                    136.0   \n",
       "Condado-Campiña                      3151.0                    129.0   \n",
       "Aljaraque                             390.0                     22.0   \n",
       "Almonte                               434.0                      2.0   \n",
       "Bollullos Par del Condado             235.0                      5.0   \n",
       "Cartaya                               348.0                     32.0   \n",
       "Lepe                                  903.0                     42.0   \n",
       "Lucena del Puerto                      83.0                      5.0   \n",
       "Palma del Condado (La)                478.0                     32.0   \n",
       "Palos de la Frontera                  215.0                     13.0   \n",
       "Puebla de Guzmán                       24.0                      1.0   \n",
       "Punta Umbría                          227.0                     11.0   \n",
       "Rociana del Condado                   115.0                      4.0   \n",
       "\n",
       "Medida                     Confirmados PDIA 14 días  Población       tasa7  \\\n",
       "Lugar de residencia                                                          \n",
       "Huelva                                       1142.0   510743.0   91.631212   \n",
       "Huelva-Costa                                  769.0   288115.0  112.108012   \n",
       "Huelva (capital)                              329.0   143663.0   94.665989   \n",
       "Condado-Campiña                               320.0   155057.0   83.195212   \n",
       "Aljaraque                                      56.0    21260.0  103.480715   \n",
       "Almonte                                        10.0    24191.0    8.267538   \n",
       "Bollullos Par del Condado                      10.0    14272.0   35.033632   \n",
       "Cartaya                                        71.0    19974.0  160.208271   \n",
       "Lepe                                          118.0    27431.0  153.111443   \n",
       "Lucena del Puerto                              24.0     3371.0  148.323939   \n",
       "Palma del Condado (La)                         70.0    10761.0  297.370133   \n",
       "Palos de la Frontera                           33.0    11289.0  115.156347   \n",
       "Puebla de Guzmán                                4.0     3073.0   32.541490   \n",
       "Punta Umbría                                   21.0    15242.0   72.169007   \n",
       "Rociana del Condado                            16.0     7855.0   50.922979   \n",
       "\n",
       "Medida                         tasa14  Diferencia PDIA  \n",
       "Lugar de residencia                                     \n",
       "Huelva                     223.595820             22.0  \n",
       "Huelva-Costa               266.907311             16.0  \n",
       "Huelva (capital)           229.008165             10.0  \n",
       "Condado-Campiña            206.375720              6.0  \n",
       "Aljaraque                  263.405456              2.0  \n",
       "Almonte                     41.337688              1.0  \n",
       "Bollullos Par del Condado   70.067265              1.0  \n",
       "Cartaya                    355.462101              1.0  \n",
       "Lepe                       430.170245              1.0  \n",
       "Lucena del Puerto          711.954910              1.0  \n",
       "Palma del Condado (La)     650.497166              1.0  \n",
       "Palos de la Frontera       292.319957              1.0  \n",
       "Puebla de Guzmán           130.165962              1.0  \n",
       "Punta Umbría               137.777195              1.0  \n",
       "Rociana del Condado        203.691916              1.0  "
      ],
      "text/html": "<div>\n<style scoped>\n    .dataframe tbody tr th:only-of-type {\n        vertical-align: middle;\n    }\n\n    .dataframe tbody tr th {\n        vertical-align: top;\n    }\n\n    .dataframe thead th {\n        text-align: right;\n    }\n</style>\n<table border=\"1\" class=\"dataframe\">\n  <thead>\n    <tr style=\"text-align: right;\">\n      <th>Medida</th>\n      <th>Confirmados PDIA</th>\n      <th>Confirmados PDIA 7 días</th>\n      <th>Confirmados PDIA 14 días</th>\n      <th>Población</th>\n      <th>tasa7</th>\n      <th>tasa14</th>\n      <th>Diferencia PDIA</th>\n    </tr>\n    <tr>\n      <th>Lugar de residencia</th>\n      <th></th>\n      <th></th>\n      <th></th>\n      <th></th>\n      <th></th>\n      <th></th>\n      <th></th>\n    </tr>\n  </thead>\n  <tbody>\n    <tr>\n      <th>Huelva</th>\n      <td>10260.0</td>\n      <td>468.0</td>\n      <td>1142.0</td>\n      <td>510743.0</td>\n      <td>91.631212</td>\n      <td>223.595820</td>\n      <td>22.0</td>\n    </tr>\n    <tr>\n      <th>Huelva-Costa</th>\n      <td>5722.0</td>\n      <td>323.0</td>\n      <td>769.0</td>\n      <td>288115.0</td>\n      <td>112.108012</td>\n      <td>266.907311</td>\n      <td>16.0</td>\n    </tr>\n    <tr>\n      <th>Huelva (capital)</th>\n      <td>2886.0</td>\n      <td>136.0</td>\n      <td>329.0</td>\n      <td>143663.0</td>\n      <td>94.665989</td>\n      <td>229.008165</td>\n      <td>10.0</td>\n    </tr>\n    <tr>\n      <th>Condado-Campiña</th>\n      <td>3151.0</td>\n      <td>129.0</td>\n      <td>320.0</td>\n      <td>155057.0</td>\n      <td>83.195212</td>\n      <td>206.375720</td>\n      <td>6.0</td>\n    </tr>\n    <tr>\n      <th>Aljaraque</th>\n      <td>390.0</td>\n      <td>22.0</td>\n      <td>56.0</td>\n      <td>21260.0</td>\n      <td>103.480715</td>\n      <td>263.405456</td>\n      <td>2.0</td>\n    </tr>\n    <tr>\n      <th>Almonte</th>\n      <td>434.0</td>\n      <td>2.0</td>\n      <td>10.0</td>\n      <td>24191.0</td>\n      <td>8.267538</td>\n      <td>41.337688</td>\n      <td>1.0</td>\n    </tr>\n    <tr>\n      <th>Bollullos Par del Condado</th>\n      <td>235.0</td>\n      <td>5.0</td>\n      <td>10.0</td>\n      <td>14272.0</td>\n      <td>35.033632</td>\n      <td>70.067265</td>\n      <td>1.0</td>\n    </tr>\n    <tr>\n      <th>Cartaya</th>\n      <td>348.0</td>\n      <td>32.0</td>\n      <td>71.0</td>\n      <td>19974.0</td>\n      <td>160.208271</td>\n      <td>355.462101</td>\n      <td>1.0</td>\n    </tr>\n    <tr>\n      <th>Lepe</th>\n      <td>903.0</td>\n      <td>42.0</td>\n      <td>118.0</td>\n      <td>27431.0</td>\n      <td>153.111443</td>\n      <td>430.170245</td>\n      <td>1.0</td>\n    </tr>\n    <tr>\n      <th>Lucena del Puerto</th>\n      <td>83.0</td>\n      <td>5.0</td>\n      <td>24.0</td>\n      <td>3371.0</td>\n      <td>148.323939</td>\n      <td>711.954910</td>\n      <td>1.0</td>\n    </tr>\n    <tr>\n      <th>Palma del Condado (La)</th>\n      <td>478.0</td>\n      <td>32.0</td>\n      <td>70.0</td>\n      <td>10761.0</td>\n      <td>297.370133</td>\n      <td>650.497166</td>\n      <td>1.0</td>\n    </tr>\n    <tr>\n      <th>Palos de la Frontera</th>\n      <td>215.0</td>\n      <td>13.0</td>\n      <td>33.0</td>\n      <td>11289.0</td>\n      <td>115.156347</td>\n      <td>292.319957</td>\n      <td>1.0</td>\n    </tr>\n    <tr>\n      <th>Puebla de Guzmán</th>\n      <td>24.0</td>\n      <td>1.0</td>\n      <td>4.0</td>\n      <td>3073.0</td>\n      <td>32.541490</td>\n      <td>130.165962</td>\n      <td>1.0</td>\n    </tr>\n    <tr>\n      <th>Punta Umbría</th>\n      <td>227.0</td>\n      <td>11.0</td>\n      <td>21.0</td>\n      <td>15242.0</td>\n      <td>72.169007</td>\n      <td>137.777195</td>\n      <td>1.0</td>\n    </tr>\n    <tr>\n      <th>Rociana del Condado</th>\n      <td>115.0</td>\n      <td>4.0</td>\n      <td>16.0</td>\n      <td>7855.0</td>\n      <td>50.922979</td>\n      <td>203.691916</td>\n      <td>1.0</td>\n    </tr>\n  </tbody>\n</table>\n</div>"
     },
     "metadata": {},
     "execution_count": 15
    }
   ],
   "source": [
    "# Nuevos casos desde la última captura\n",
    "tabla[tabla['Diferencia PDIA'] != 0].sort_values('Diferencia PDIA', ascending=False)"
   ]
  },
  {
   "cell_type": "code",
   "execution_count": 16,
   "metadata": {},
   "outputs": [],
   "source": [
    "if tabla[tabla['Diferencia PDIA'] != 0]['Diferencia PDIA'].sum() > 0:\n",
    "  # Save to csv\n",
    "  tabla.to_csv('covid_huelva.csv', encoding='utf-8', header=True, index=True)  "
   ]
  },
  {
   "cell_type": "code",
   "execution_count": 17,
   "metadata": {},
   "outputs": [
    {
     "output_type": "execute_result",
     "data": {
      "text/plain": [
       "Medida                             Confirmados PDIA  Confirmados PDIA 7 días  \\\n",
       "Lugar de residencia                                                            \n",
       "Lucena del Puerto                              83.0                      5.0   \n",
       "Palma del Condado (La)                        478.0                     32.0   \n",
       "Isla Cristina                                 376.0                     70.0   \n",
       "Sanlúcar de Guadiana                            4.0                      1.0   \n",
       "San Bartolomé de la Torre                      44.0                      6.0   \n",
       "Lepe                                          903.0                     42.0   \n",
       "Villalba del Alcor                            102.0                      6.0   \n",
       "Cartaya                                       348.0                     32.0   \n",
       "Cortelazor                                      2.0                      1.0   \n",
       "Moguer                                        335.0                     32.0   \n",
       "Palos de la Frontera                          215.0                     13.0   \n",
       "Paterna del Campo                              60.0                      7.0   \n",
       "Villanueva de los Castillejos                  58.0                      2.0   \n",
       "Huelva-Costa                                 5722.0                    323.0   \n",
       "Aljaraque                                     390.0                     22.0   \n",
       "Huelva (capital)                             2886.0                    136.0   \n",
       "Huelva                                      10260.0                    468.0   \n",
       "Ayamonte                                      317.0                      6.0   \n",
       "Condado-Campiña                              3151.0                    129.0   \n",
       "Rociana del Condado                           115.0                      4.0   \n",
       "Campofrío                                       7.0                      1.0   \n",
       "Beas                                           56.0                      1.0   \n",
       "Punta Umbría                                  227.0                     11.0   \n",
       "Alájar                                          4.0                      1.0   \n",
       "Zalamea la Real                                46.0                      2.0   \n",
       "Puebla de Guzmán                               24.0                      1.0   \n",
       "Cerro de Andévalo (El)                         37.0                      1.0   \n",
       "Gibraleón                                     349.0                      9.0   \n",
       "Campillo (El)                                  54.0                      1.0   \n",
       "Valverde del Camino                           271.0                      2.0   \n",
       "Bonares                                        43.0                      2.0   \n",
       "Minas de Riotinto                              66.0                      2.0   \n",
       "Bollullos Par del Condado                     235.0                      5.0   \n",
       "Sierra de Huelva-Andévalo Central            1263.0                     13.0   \n",
       "Trigueros                                     127.0                      2.0   \n",
       "Manzanilla                                     45.0                      1.0   \n",
       "Jabugo                                         35.0                      1.0   \n",
       "San Juan del Puerto                           137.0                      2.0   \n",
       "Almonte                                       434.0                      2.0   \n",
       "Nerva                                          87.0                      1.0   \n",
       "\n",
       "Medida                             Confirmados PDIA 14 días  Población  \\\n",
       "Lugar de residencia                                                      \n",
       "Lucena del Puerto                                      24.0     3371.0   \n",
       "Palma del Condado (La)                                 70.0    10761.0   \n",
       "Isla Cristina                                         114.0    21264.0   \n",
       "Sanlúcar de Guadiana                                    2.0      409.0   \n",
       "San Bartolomé de la Torre                              18.0     3736.0   \n",
       "Lepe                                                  118.0    27431.0   \n",
       "Villalba del Alcor                                     14.0     3338.0   \n",
       "Cartaya                                                71.0    19974.0   \n",
       "Cortelazor                                              1.0      299.0   \n",
       "Moguer                                                 66.0    22088.0   \n",
       "Palos de la Frontera                                   33.0    11289.0   \n",
       "Paterna del Campo                                      10.0     3509.0   \n",
       "Villanueva de los Castillejos                           8.0     2820.0   \n",
       "Huelva-Costa                                          769.0   288115.0   \n",
       "Aljaraque                                              56.0    21260.0   \n",
       "Huelva (capital)                                      329.0   143663.0   \n",
       "Huelva                                               1142.0   510743.0   \n",
       "Ayamonte                                               46.0    20946.0   \n",
       "Condado-Campiña                                       320.0   155057.0   \n",
       "Rociana del Condado                                    16.0     7855.0   \n",
       "Campofrío                                               1.0      675.0   \n",
       "Beas                                                    6.0     4257.0   \n",
       "Punta Umbría                                           21.0    15242.0   \n",
       "Alájar                                                  1.0      756.0   \n",
       "Zalamea la Real                                         4.0     3068.0   \n",
       "Puebla de Guzmán                                        4.0     3073.0   \n",
       "Cerro de Andévalo (El)                                  3.0     2364.0   \n",
       "Gibraleón                                              14.0    12607.0   \n",
       "Campillo (El)                                           2.0     2023.0   \n",
       "Valverde del Camino                                    12.0    12820.0   \n",
       "Bonares                                                 5.0     6058.0   \n",
       "Minas de Riotinto                                       3.0     3848.0   \n",
       "Bollullos Par del Condado                              10.0    14272.0   \n",
       "Sierra de Huelva-Andévalo Central                      47.0    67571.0   \n",
       "Trigueros                                               4.0     7713.0   \n",
       "Manzanilla                                              1.0     2135.0   \n",
       "Jabugo                                                  1.0     2250.0   \n",
       "San Juan del Puerto                                     4.0     9300.0   \n",
       "Almonte                                                10.0    24191.0   \n",
       "Nerva                                                   2.0     5235.0   \n",
       "\n",
       "Medida                                  tasa7      tasa14  Diferencia PDIA  \n",
       "Lugar de residencia                                                         \n",
       "Lucena del Puerto                  148.323939  711.954910              1.0  \n",
       "Palma del Condado (La)             297.370133  650.497166              1.0  \n",
       "Isla Cristina                      329.194883  536.117381              0.0  \n",
       "Sanlúcar de Guadiana               244.498778  488.997555              0.0  \n",
       "San Bartolomé de la Torre          160.599572  481.798715              0.0  \n",
       "Lepe                               153.111443  430.170245              1.0  \n",
       "Villalba del Alcor                 179.748352  419.412822              0.0  \n",
       "Cartaya                            160.208271  355.462101              1.0  \n",
       "Cortelazor                         334.448161  334.448161              0.0  \n",
       "Moguer                             144.875045  298.804781              0.0  \n",
       "Palos de la Frontera               115.156347  292.319957              1.0  \n",
       "Paterna del Campo                  199.487033  284.981476              0.0  \n",
       "Villanueva de los Castillejos       70.921986  283.687943              0.0  \n",
       "Huelva-Costa                       112.108012  266.907311             16.0  \n",
       "Aljaraque                          103.480715  263.405456              2.0  \n",
       "Huelva (capital)                    94.665989  229.008165             10.0  \n",
       "Huelva                              91.631212  223.595820             22.0  \n",
       "Ayamonte                            28.645087  219.612336              0.0  \n",
       "Condado-Campiña                     83.195212  206.375720              6.0  \n",
       "Rociana del Condado                 50.922979  203.691916              1.0  \n",
       "Campofrío                          148.148148  148.148148              0.0  \n",
       "Beas                                23.490721  140.944327              0.0  \n",
       "Punta Umbría                        72.169007  137.777195              1.0  \n",
       "Alájar                             132.275132  132.275132              0.0  \n",
       "Zalamea la Real                     65.189048  130.378096              0.0  \n",
       "Puebla de Guzmán                    32.541490  130.165962              1.0  \n",
       "Cerro de Andévalo (El)              42.301184  126.903553              0.0  \n",
       "Gibraleón                           71.388911  111.049417              0.0  \n",
       "Campillo (El)                       49.431537   98.863075              0.0  \n",
       "Valverde del Camino                 15.600624   93.603744              0.0  \n",
       "Bonares                             33.014196   82.535490              0.0  \n",
       "Minas de Riotinto                   51.975052   77.962578              0.0  \n",
       "Bollullos Par del Condado           35.033632   70.067265              1.0  \n",
       "Sierra de Huelva-Andévalo Central   19.239023   69.556467              0.0  \n",
       "Trigueros                           25.930248   51.860495              0.0  \n",
       "Manzanilla                          46.838407   46.838407              0.0  \n",
       "Jabugo                              44.444444   44.444444              0.0  \n",
       "San Juan del Puerto                 21.505376   43.010753              0.0  \n",
       "Almonte                              8.267538   41.337688              1.0  \n",
       "Nerva                               19.102197   38.204394              0.0  "
      ],
      "text/html": "<div>\n<style scoped>\n    .dataframe tbody tr th:only-of-type {\n        vertical-align: middle;\n    }\n\n    .dataframe tbody tr th {\n        vertical-align: top;\n    }\n\n    .dataframe thead th {\n        text-align: right;\n    }\n</style>\n<table border=\"1\" class=\"dataframe\">\n  <thead>\n    <tr style=\"text-align: right;\">\n      <th>Medida</th>\n      <th>Confirmados PDIA</th>\n      <th>Confirmados PDIA 7 días</th>\n      <th>Confirmados PDIA 14 días</th>\n      <th>Población</th>\n      <th>tasa7</th>\n      <th>tasa14</th>\n      <th>Diferencia PDIA</th>\n    </tr>\n    <tr>\n      <th>Lugar de residencia</th>\n      <th></th>\n      <th></th>\n      <th></th>\n      <th></th>\n      <th></th>\n      <th></th>\n      <th></th>\n    </tr>\n  </thead>\n  <tbody>\n    <tr>\n      <th>Lucena del Puerto</th>\n      <td>83.0</td>\n      <td>5.0</td>\n      <td>24.0</td>\n      <td>3371.0</td>\n      <td>148.323939</td>\n      <td>711.954910</td>\n      <td>1.0</td>\n    </tr>\n    <tr>\n      <th>Palma del Condado (La)</th>\n      <td>478.0</td>\n      <td>32.0</td>\n      <td>70.0</td>\n      <td>10761.0</td>\n      <td>297.370133</td>\n      <td>650.497166</td>\n      <td>1.0</td>\n    </tr>\n    <tr>\n      <th>Isla Cristina</th>\n      <td>376.0</td>\n      <td>70.0</td>\n      <td>114.0</td>\n      <td>21264.0</td>\n      <td>329.194883</td>\n      <td>536.117381</td>\n      <td>0.0</td>\n    </tr>\n    <tr>\n      <th>Sanlúcar de Guadiana</th>\n      <td>4.0</td>\n      <td>1.0</td>\n      <td>2.0</td>\n      <td>409.0</td>\n      <td>244.498778</td>\n      <td>488.997555</td>\n      <td>0.0</td>\n    </tr>\n    <tr>\n      <th>San Bartolomé de la Torre</th>\n      <td>44.0</td>\n      <td>6.0</td>\n      <td>18.0</td>\n      <td>3736.0</td>\n      <td>160.599572</td>\n      <td>481.798715</td>\n      <td>0.0</td>\n    </tr>\n    <tr>\n      <th>Lepe</th>\n      <td>903.0</td>\n      <td>42.0</td>\n      <td>118.0</td>\n      <td>27431.0</td>\n      <td>153.111443</td>\n      <td>430.170245</td>\n      <td>1.0</td>\n    </tr>\n    <tr>\n      <th>Villalba del Alcor</th>\n      <td>102.0</td>\n      <td>6.0</td>\n      <td>14.0</td>\n      <td>3338.0</td>\n      <td>179.748352</td>\n      <td>419.412822</td>\n      <td>0.0</td>\n    </tr>\n    <tr>\n      <th>Cartaya</th>\n      <td>348.0</td>\n      <td>32.0</td>\n      <td>71.0</td>\n      <td>19974.0</td>\n      <td>160.208271</td>\n      <td>355.462101</td>\n      <td>1.0</td>\n    </tr>\n    <tr>\n      <th>Cortelazor</th>\n      <td>2.0</td>\n      <td>1.0</td>\n      <td>1.0</td>\n      <td>299.0</td>\n      <td>334.448161</td>\n      <td>334.448161</td>\n      <td>0.0</td>\n    </tr>\n    <tr>\n      <th>Moguer</th>\n      <td>335.0</td>\n      <td>32.0</td>\n      <td>66.0</td>\n      <td>22088.0</td>\n      <td>144.875045</td>\n      <td>298.804781</td>\n      <td>0.0</td>\n    </tr>\n    <tr>\n      <th>Palos de la Frontera</th>\n      <td>215.0</td>\n      <td>13.0</td>\n      <td>33.0</td>\n      <td>11289.0</td>\n      <td>115.156347</td>\n      <td>292.319957</td>\n      <td>1.0</td>\n    </tr>\n    <tr>\n      <th>Paterna del Campo</th>\n      <td>60.0</td>\n      <td>7.0</td>\n      <td>10.0</td>\n      <td>3509.0</td>\n      <td>199.487033</td>\n      <td>284.981476</td>\n      <td>0.0</td>\n    </tr>\n    <tr>\n      <th>Villanueva de los Castillejos</th>\n      <td>58.0</td>\n      <td>2.0</td>\n      <td>8.0</td>\n      <td>2820.0</td>\n      <td>70.921986</td>\n      <td>283.687943</td>\n      <td>0.0</td>\n    </tr>\n    <tr>\n      <th>Huelva-Costa</th>\n      <td>5722.0</td>\n      <td>323.0</td>\n      <td>769.0</td>\n      <td>288115.0</td>\n      <td>112.108012</td>\n      <td>266.907311</td>\n      <td>16.0</td>\n    </tr>\n    <tr>\n      <th>Aljaraque</th>\n      <td>390.0</td>\n      <td>22.0</td>\n      <td>56.0</td>\n      <td>21260.0</td>\n      <td>103.480715</td>\n      <td>263.405456</td>\n      <td>2.0</td>\n    </tr>\n    <tr>\n      <th>Huelva (capital)</th>\n      <td>2886.0</td>\n      <td>136.0</td>\n      <td>329.0</td>\n      <td>143663.0</td>\n      <td>94.665989</td>\n      <td>229.008165</td>\n      <td>10.0</td>\n    </tr>\n    <tr>\n      <th>Huelva</th>\n      <td>10260.0</td>\n      <td>468.0</td>\n      <td>1142.0</td>\n      <td>510743.0</td>\n      <td>91.631212</td>\n      <td>223.595820</td>\n      <td>22.0</td>\n    </tr>\n    <tr>\n      <th>Ayamonte</th>\n      <td>317.0</td>\n      <td>6.0</td>\n      <td>46.0</td>\n      <td>20946.0</td>\n      <td>28.645087</td>\n      <td>219.612336</td>\n      <td>0.0</td>\n    </tr>\n    <tr>\n      <th>Condado-Campiña</th>\n      <td>3151.0</td>\n      <td>129.0</td>\n      <td>320.0</td>\n      <td>155057.0</td>\n      <td>83.195212</td>\n      <td>206.375720</td>\n      <td>6.0</td>\n    </tr>\n    <tr>\n      <th>Rociana del Condado</th>\n      <td>115.0</td>\n      <td>4.0</td>\n      <td>16.0</td>\n      <td>7855.0</td>\n      <td>50.922979</td>\n      <td>203.691916</td>\n      <td>1.0</td>\n    </tr>\n    <tr>\n      <th>Campofrío</th>\n      <td>7.0</td>\n      <td>1.0</td>\n      <td>1.0</td>\n      <td>675.0</td>\n      <td>148.148148</td>\n      <td>148.148148</td>\n      <td>0.0</td>\n    </tr>\n    <tr>\n      <th>Beas</th>\n      <td>56.0</td>\n      <td>1.0</td>\n      <td>6.0</td>\n      <td>4257.0</td>\n      <td>23.490721</td>\n      <td>140.944327</td>\n      <td>0.0</td>\n    </tr>\n    <tr>\n      <th>Punta Umbría</th>\n      <td>227.0</td>\n      <td>11.0</td>\n      <td>21.0</td>\n      <td>15242.0</td>\n      <td>72.169007</td>\n      <td>137.777195</td>\n      <td>1.0</td>\n    </tr>\n    <tr>\n      <th>Alájar</th>\n      <td>4.0</td>\n      <td>1.0</td>\n      <td>1.0</td>\n      <td>756.0</td>\n      <td>132.275132</td>\n      <td>132.275132</td>\n      <td>0.0</td>\n    </tr>\n    <tr>\n      <th>Zalamea la Real</th>\n      <td>46.0</td>\n      <td>2.0</td>\n      <td>4.0</td>\n      <td>3068.0</td>\n      <td>65.189048</td>\n      <td>130.378096</td>\n      <td>0.0</td>\n    </tr>\n    <tr>\n      <th>Puebla de Guzmán</th>\n      <td>24.0</td>\n      <td>1.0</td>\n      <td>4.0</td>\n      <td>3073.0</td>\n      <td>32.541490</td>\n      <td>130.165962</td>\n      <td>1.0</td>\n    </tr>\n    <tr>\n      <th>Cerro de Andévalo (El)</th>\n      <td>37.0</td>\n      <td>1.0</td>\n      <td>3.0</td>\n      <td>2364.0</td>\n      <td>42.301184</td>\n      <td>126.903553</td>\n      <td>0.0</td>\n    </tr>\n    <tr>\n      <th>Gibraleón</th>\n      <td>349.0</td>\n      <td>9.0</td>\n      <td>14.0</td>\n      <td>12607.0</td>\n      <td>71.388911</td>\n      <td>111.049417</td>\n      <td>0.0</td>\n    </tr>\n    <tr>\n      <th>Campillo (El)</th>\n      <td>54.0</td>\n      <td>1.0</td>\n      <td>2.0</td>\n      <td>2023.0</td>\n      <td>49.431537</td>\n      <td>98.863075</td>\n      <td>0.0</td>\n    </tr>\n    <tr>\n      <th>Valverde del Camino</th>\n      <td>271.0</td>\n      <td>2.0</td>\n      <td>12.0</td>\n      <td>12820.0</td>\n      <td>15.600624</td>\n      <td>93.603744</td>\n      <td>0.0</td>\n    </tr>\n    <tr>\n      <th>Bonares</th>\n      <td>43.0</td>\n      <td>2.0</td>\n      <td>5.0</td>\n      <td>6058.0</td>\n      <td>33.014196</td>\n      <td>82.535490</td>\n      <td>0.0</td>\n    </tr>\n    <tr>\n      <th>Minas de Riotinto</th>\n      <td>66.0</td>\n      <td>2.0</td>\n      <td>3.0</td>\n      <td>3848.0</td>\n      <td>51.975052</td>\n      <td>77.962578</td>\n      <td>0.0</td>\n    </tr>\n    <tr>\n      <th>Bollullos Par del Condado</th>\n      <td>235.0</td>\n      <td>5.0</td>\n      <td>10.0</td>\n      <td>14272.0</td>\n      <td>35.033632</td>\n      <td>70.067265</td>\n      <td>1.0</td>\n    </tr>\n    <tr>\n      <th>Sierra de Huelva-Andévalo Central</th>\n      <td>1263.0</td>\n      <td>13.0</td>\n      <td>47.0</td>\n      <td>67571.0</td>\n      <td>19.239023</td>\n      <td>69.556467</td>\n      <td>0.0</td>\n    </tr>\n    <tr>\n      <th>Trigueros</th>\n      <td>127.0</td>\n      <td>2.0</td>\n      <td>4.0</td>\n      <td>7713.0</td>\n      <td>25.930248</td>\n      <td>51.860495</td>\n      <td>0.0</td>\n    </tr>\n    <tr>\n      <th>Manzanilla</th>\n      <td>45.0</td>\n      <td>1.0</td>\n      <td>1.0</td>\n      <td>2135.0</td>\n      <td>46.838407</td>\n      <td>46.838407</td>\n      <td>0.0</td>\n    </tr>\n    <tr>\n      <th>Jabugo</th>\n      <td>35.0</td>\n      <td>1.0</td>\n      <td>1.0</td>\n      <td>2250.0</td>\n      <td>44.444444</td>\n      <td>44.444444</td>\n      <td>0.0</td>\n    </tr>\n    <tr>\n      <th>San Juan del Puerto</th>\n      <td>137.0</td>\n      <td>2.0</td>\n      <td>4.0</td>\n      <td>9300.0</td>\n      <td>21.505376</td>\n      <td>43.010753</td>\n      <td>0.0</td>\n    </tr>\n    <tr>\n      <th>Almonte</th>\n      <td>434.0</td>\n      <td>2.0</td>\n      <td>10.0</td>\n      <td>24191.0</td>\n      <td>8.267538</td>\n      <td>41.337688</td>\n      <td>1.0</td>\n    </tr>\n    <tr>\n      <th>Nerva</th>\n      <td>87.0</td>\n      <td>1.0</td>\n      <td>2.0</td>\n      <td>5235.0</td>\n      <td>19.102197</td>\n      <td>38.204394</td>\n      <td>0.0</td>\n    </tr>\n  </tbody>\n</table>\n</div>"
     },
     "metadata": {},
     "execution_count": 17
    }
   ],
   "source": [
    "tabla.sort_values('tasa14', ascending=False)"
   ]
  },
  {
   "cell_type": "code",
   "execution_count": 18,
   "metadata": {},
   "outputs": [
    {
     "output_type": "execute_result",
     "data": {
      "text/plain": [
       "Medida                             Confirmados PDIA  Confirmados PDIA 7 días  \\\n",
       "Lugar de residencia                                                            \n",
       "Ayamonte                                      317.0                      6.0   \n",
       "Valverde del Camino                           271.0                      2.0   \n",
       "Beas                                           56.0                      1.0   \n",
       "Almonte                                       434.0                      2.0   \n",
       "Lucena del Puerto                              83.0                      5.0   \n",
       "Rociana del Condado                           115.0                      4.0   \n",
       "Puebla de Guzmán                               24.0                      1.0   \n",
       "Villanueva de los Castillejos                  58.0                      2.0   \n",
       "Sierra de Huelva-Andévalo Central            1263.0                     13.0   \n",
       "San Bartolomé de la Torre                      44.0                      6.0   \n",
       "Cerro de Andévalo (El)                         37.0                      1.0   \n",
       "Lepe                                          903.0                     42.0   \n",
       "Aljaraque                                     390.0                     22.0   \n",
       "Palos de la Frontera                          215.0                     13.0   \n",
       "Bonares                                        43.0                      2.0   \n",
       "Condado-Campiña                              3151.0                    129.0   \n",
       "Huelva                                      10260.0                    468.0   \n",
       "Huelva (capital)                             2886.0                    136.0   \n",
       "Huelva-Costa                                 5722.0                    323.0   \n",
       "Villalba del Alcor                            102.0                      6.0   \n",
       "Cartaya                                       348.0                     32.0   \n",
       "Palma del Condado (La)                        478.0                     32.0   \n",
       "Moguer                                        335.0                     32.0   \n",
       "Trigueros                                     127.0                      2.0   \n",
       "Bollullos Par del Condado                     235.0                      5.0   \n",
       "Sanlúcar de Guadiana                            4.0                      1.0   \n",
       "San Juan del Puerto                           137.0                      2.0   \n",
       "Campillo (El)                                  54.0                      1.0   \n",
       "Zalamea la Real                                46.0                      2.0   \n",
       "Nerva                                          87.0                      1.0   \n",
       "Punta Umbría                                  227.0                     11.0   \n",
       "Isla Cristina                                 376.0                     70.0   \n",
       "Gibraleón                                     349.0                      9.0   \n",
       "Minas de Riotinto                              66.0                      2.0   \n",
       "Paterna del Campo                              60.0                      7.0   \n",
       "Cortelazor                                      2.0                      1.0   \n",
       "Manzanilla                                     45.0                      1.0   \n",
       "Jabugo                                         35.0                      1.0   \n",
       "Alájar                                          4.0                      1.0   \n",
       "Campofrío                                       7.0                      1.0   \n",
       "\n",
       "Medida                             Confirmados PDIA 14 días  Población  \\\n",
       "Lugar de residencia                                                      \n",
       "Ayamonte                                               46.0    20946.0   \n",
       "Valverde del Camino                                    12.0    12820.0   \n",
       "Beas                                                    6.0     4257.0   \n",
       "Almonte                                                10.0    24191.0   \n",
       "Lucena del Puerto                                      24.0     3371.0   \n",
       "Rociana del Condado                                    16.0     7855.0   \n",
       "Puebla de Guzmán                                        4.0     3073.0   \n",
       "Villanueva de los Castillejos                           8.0     2820.0   \n",
       "Sierra de Huelva-Andévalo Central                      47.0    67571.0   \n",
       "San Bartolomé de la Torre                              18.0     3736.0   \n",
       "Cerro de Andévalo (El)                                  3.0     2364.0   \n",
       "Lepe                                                  118.0    27431.0   \n",
       "Aljaraque                                              56.0    21260.0   \n",
       "Palos de la Frontera                                   33.0    11289.0   \n",
       "Bonares                                                 5.0     6058.0   \n",
       "Condado-Campiña                                       320.0   155057.0   \n",
       "Huelva                                               1142.0   510743.0   \n",
       "Huelva (capital)                                      329.0   143663.0   \n",
       "Huelva-Costa                                          769.0   288115.0   \n",
       "Villalba del Alcor                                     14.0     3338.0   \n",
       "Cartaya                                                71.0    19974.0   \n",
       "Palma del Condado (La)                                 70.0    10761.0   \n",
       "Moguer                                                 66.0    22088.0   \n",
       "Trigueros                                               4.0     7713.0   \n",
       "Bollullos Par del Condado                              10.0    14272.0   \n",
       "Sanlúcar de Guadiana                                    2.0      409.0   \n",
       "San Juan del Puerto                                     4.0     9300.0   \n",
       "Campillo (El)                                           2.0     2023.0   \n",
       "Zalamea la Real                                         4.0     3068.0   \n",
       "Nerva                                                   2.0     5235.0   \n",
       "Punta Umbría                                           21.0    15242.0   \n",
       "Isla Cristina                                         114.0    21264.0   \n",
       "Gibraleón                                              14.0    12607.0   \n",
       "Minas de Riotinto                                       3.0     3848.0   \n",
       "Paterna del Campo                                      10.0     3509.0   \n",
       "Cortelazor                                              1.0      299.0   \n",
       "Manzanilla                                              1.0     2135.0   \n",
       "Jabugo                                                  1.0     2250.0   \n",
       "Alájar                                                  1.0      756.0   \n",
       "Campofrío                                               1.0      675.0   \n",
       "\n",
       "Medida                                  tasa7      tasa14  Diferencia PDIA  \\\n",
       "Lugar de residencia                                                          \n",
       "Ayamonte                            28.645087  219.612336              0.0   \n",
       "Valverde del Camino                 15.600624   93.603744              0.0   \n",
       "Beas                                23.490721  140.944327              0.0   \n",
       "Almonte                              8.267538   41.337688              1.0   \n",
       "Lucena del Puerto                  148.323939  711.954910              1.0   \n",
       "Rociana del Condado                 50.922979  203.691916              1.0   \n",
       "Puebla de Guzmán                    32.541490  130.165962              1.0   \n",
       "Villanueva de los Castillejos       70.921986  283.687943              0.0   \n",
       "Sierra de Huelva-Andévalo Central   19.239023   69.556467              0.0   \n",
       "San Bartolomé de la Torre          160.599572  481.798715              0.0   \n",
       "Cerro de Andévalo (El)              42.301184  126.903553              0.0   \n",
       "Lepe                               153.111443  430.170245              1.0   \n",
       "Aljaraque                          103.480715  263.405456              2.0   \n",
       "Palos de la Frontera               115.156347  292.319957              1.0   \n",
       "Bonares                             33.014196   82.535490              0.0   \n",
       "Condado-Campiña                     83.195212  206.375720              6.0   \n",
       "Huelva                              91.631212  223.595820             22.0   \n",
       "Huelva (capital)                    94.665989  229.008165             10.0   \n",
       "Huelva-Costa                       112.108012  266.907311             16.0   \n",
       "Villalba del Alcor                 179.748352  419.412822              0.0   \n",
       "Cartaya                            160.208271  355.462101              1.0   \n",
       "Palma del Condado (La)             297.370133  650.497166              1.0   \n",
       "Moguer                             144.875045  298.804781              0.0   \n",
       "Trigueros                           25.930248   51.860495              0.0   \n",
       "Bollullos Par del Condado           35.033632   70.067265              1.0   \n",
       "Sanlúcar de Guadiana               244.498778  488.997555              0.0   \n",
       "San Juan del Puerto                 21.505376   43.010753              0.0   \n",
       "Campillo (El)                       49.431537   98.863075              0.0   \n",
       "Zalamea la Real                     65.189048  130.378096              0.0   \n",
       "Nerva                               19.102197   38.204394              0.0   \n",
       "Punta Umbría                        72.169007  137.777195              1.0   \n",
       "Isla Cristina                      329.194883  536.117381              0.0   \n",
       "Gibraleón                           71.388911  111.049417              0.0   \n",
       "Minas de Riotinto                   51.975052   77.962578              0.0   \n",
       "Paterna del Campo                  199.487033  284.981476              0.0   \n",
       "Cortelazor                         334.448161  334.448161              0.0   \n",
       "Manzanilla                          46.838407   46.838407              0.0   \n",
       "Jabugo                              44.444444   44.444444              0.0   \n",
       "Alájar                             132.275132  132.275132              0.0   \n",
       "Campofrío                          148.148148  148.148148              0.0   \n",
       "\n",
       "Medida                                 7/14  \n",
       "Lugar de residencia                          \n",
       "Ayamonte                           0.130435  \n",
       "Valverde del Camino                0.166667  \n",
       "Beas                               0.166667  \n",
       "Almonte                            0.200000  \n",
       "Lucena del Puerto                  0.208333  \n",
       "Rociana del Condado                0.250000  \n",
       "Puebla de Guzmán                   0.250000  \n",
       "Villanueva de los Castillejos      0.250000  \n",
       "Sierra de Huelva-Andévalo Central  0.276596  \n",
       "San Bartolomé de la Torre          0.333333  \n",
       "Cerro de Andévalo (El)             0.333333  \n",
       "Lepe                               0.355932  \n",
       "Aljaraque                          0.392857  \n",
       "Palos de la Frontera               0.393939  \n",
       "Bonares                            0.400000  \n",
       "Condado-Campiña                    0.403125  \n",
       "Huelva                             0.409807  \n",
       "Huelva (capital)                   0.413374  \n",
       "Huelva-Costa                       0.420026  \n",
       "Villalba del Alcor                 0.428571  \n",
       "Cartaya                            0.450704  \n",
       "Palma del Condado (La)             0.457143  \n",
       "Moguer                             0.484848  \n",
       "Trigueros                          0.500000  \n",
       "Bollullos Par del Condado          0.500000  \n",
       "Sanlúcar de Guadiana               0.500000  \n",
       "San Juan del Puerto                0.500000  \n",
       "Campillo (El)                      0.500000  \n",
       "Zalamea la Real                    0.500000  \n",
       "Nerva                              0.500000  \n",
       "Punta Umbría                       0.523810  \n",
       "Isla Cristina                      0.614035  \n",
       "Gibraleón                          0.642857  \n",
       "Minas de Riotinto                  0.666667  \n",
       "Paterna del Campo                  0.700000  \n",
       "Cortelazor                         1.000000  \n",
       "Manzanilla                         1.000000  \n",
       "Jabugo                             1.000000  \n",
       "Alájar                             1.000000  \n",
       "Campofrío                          1.000000  "
      ],
      "text/html": "<div>\n<style scoped>\n    .dataframe tbody tr th:only-of-type {\n        vertical-align: middle;\n    }\n\n    .dataframe tbody tr th {\n        vertical-align: top;\n    }\n\n    .dataframe thead th {\n        text-align: right;\n    }\n</style>\n<table border=\"1\" class=\"dataframe\">\n  <thead>\n    <tr style=\"text-align: right;\">\n      <th>Medida</th>\n      <th>Confirmados PDIA</th>\n      <th>Confirmados PDIA 7 días</th>\n      <th>Confirmados PDIA 14 días</th>\n      <th>Población</th>\n      <th>tasa7</th>\n      <th>tasa14</th>\n      <th>Diferencia PDIA</th>\n      <th>7/14</th>\n    </tr>\n    <tr>\n      <th>Lugar de residencia</th>\n      <th></th>\n      <th></th>\n      <th></th>\n      <th></th>\n      <th></th>\n      <th></th>\n      <th></th>\n      <th></th>\n    </tr>\n  </thead>\n  <tbody>\n    <tr>\n      <th>Ayamonte</th>\n      <td>317.0</td>\n      <td>6.0</td>\n      <td>46.0</td>\n      <td>20946.0</td>\n      <td>28.645087</td>\n      <td>219.612336</td>\n      <td>0.0</td>\n      <td>0.130435</td>\n    </tr>\n    <tr>\n      <th>Valverde del Camino</th>\n      <td>271.0</td>\n      <td>2.0</td>\n      <td>12.0</td>\n      <td>12820.0</td>\n      <td>15.600624</td>\n      <td>93.603744</td>\n      <td>0.0</td>\n      <td>0.166667</td>\n    </tr>\n    <tr>\n      <th>Beas</th>\n      <td>56.0</td>\n      <td>1.0</td>\n      <td>6.0</td>\n      <td>4257.0</td>\n      <td>23.490721</td>\n      <td>140.944327</td>\n      <td>0.0</td>\n      <td>0.166667</td>\n    </tr>\n    <tr>\n      <th>Almonte</th>\n      <td>434.0</td>\n      <td>2.0</td>\n      <td>10.0</td>\n      <td>24191.0</td>\n      <td>8.267538</td>\n      <td>41.337688</td>\n      <td>1.0</td>\n      <td>0.200000</td>\n    </tr>\n    <tr>\n      <th>Lucena del Puerto</th>\n      <td>83.0</td>\n      <td>5.0</td>\n      <td>24.0</td>\n      <td>3371.0</td>\n      <td>148.323939</td>\n      <td>711.954910</td>\n      <td>1.0</td>\n      <td>0.208333</td>\n    </tr>\n    <tr>\n      <th>Rociana del Condado</th>\n      <td>115.0</td>\n      <td>4.0</td>\n      <td>16.0</td>\n      <td>7855.0</td>\n      <td>50.922979</td>\n      <td>203.691916</td>\n      <td>1.0</td>\n      <td>0.250000</td>\n    </tr>\n    <tr>\n      <th>Puebla de Guzmán</th>\n      <td>24.0</td>\n      <td>1.0</td>\n      <td>4.0</td>\n      <td>3073.0</td>\n      <td>32.541490</td>\n      <td>130.165962</td>\n      <td>1.0</td>\n      <td>0.250000</td>\n    </tr>\n    <tr>\n      <th>Villanueva de los Castillejos</th>\n      <td>58.0</td>\n      <td>2.0</td>\n      <td>8.0</td>\n      <td>2820.0</td>\n      <td>70.921986</td>\n      <td>283.687943</td>\n      <td>0.0</td>\n      <td>0.250000</td>\n    </tr>\n    <tr>\n      <th>Sierra de Huelva-Andévalo Central</th>\n      <td>1263.0</td>\n      <td>13.0</td>\n      <td>47.0</td>\n      <td>67571.0</td>\n      <td>19.239023</td>\n      <td>69.556467</td>\n      <td>0.0</td>\n      <td>0.276596</td>\n    </tr>\n    <tr>\n      <th>San Bartolomé de la Torre</th>\n      <td>44.0</td>\n      <td>6.0</td>\n      <td>18.0</td>\n      <td>3736.0</td>\n      <td>160.599572</td>\n      <td>481.798715</td>\n      <td>0.0</td>\n      <td>0.333333</td>\n    </tr>\n    <tr>\n      <th>Cerro de Andévalo (El)</th>\n      <td>37.0</td>\n      <td>1.0</td>\n      <td>3.0</td>\n      <td>2364.0</td>\n      <td>42.301184</td>\n      <td>126.903553</td>\n      <td>0.0</td>\n      <td>0.333333</td>\n    </tr>\n    <tr>\n      <th>Lepe</th>\n      <td>903.0</td>\n      <td>42.0</td>\n      <td>118.0</td>\n      <td>27431.0</td>\n      <td>153.111443</td>\n      <td>430.170245</td>\n      <td>1.0</td>\n      <td>0.355932</td>\n    </tr>\n    <tr>\n      <th>Aljaraque</th>\n      <td>390.0</td>\n      <td>22.0</td>\n      <td>56.0</td>\n      <td>21260.0</td>\n      <td>103.480715</td>\n      <td>263.405456</td>\n      <td>2.0</td>\n      <td>0.392857</td>\n    </tr>\n    <tr>\n      <th>Palos de la Frontera</th>\n      <td>215.0</td>\n      <td>13.0</td>\n      <td>33.0</td>\n      <td>11289.0</td>\n      <td>115.156347</td>\n      <td>292.319957</td>\n      <td>1.0</td>\n      <td>0.393939</td>\n    </tr>\n    <tr>\n      <th>Bonares</th>\n      <td>43.0</td>\n      <td>2.0</td>\n      <td>5.0</td>\n      <td>6058.0</td>\n      <td>33.014196</td>\n      <td>82.535490</td>\n      <td>0.0</td>\n      <td>0.400000</td>\n    </tr>\n    <tr>\n      <th>Condado-Campiña</th>\n      <td>3151.0</td>\n      <td>129.0</td>\n      <td>320.0</td>\n      <td>155057.0</td>\n      <td>83.195212</td>\n      <td>206.375720</td>\n      <td>6.0</td>\n      <td>0.403125</td>\n    </tr>\n    <tr>\n      <th>Huelva</th>\n      <td>10260.0</td>\n      <td>468.0</td>\n      <td>1142.0</td>\n      <td>510743.0</td>\n      <td>91.631212</td>\n      <td>223.595820</td>\n      <td>22.0</td>\n      <td>0.409807</td>\n    </tr>\n    <tr>\n      <th>Huelva (capital)</th>\n      <td>2886.0</td>\n      <td>136.0</td>\n      <td>329.0</td>\n      <td>143663.0</td>\n      <td>94.665989</td>\n      <td>229.008165</td>\n      <td>10.0</td>\n      <td>0.413374</td>\n    </tr>\n    <tr>\n      <th>Huelva-Costa</th>\n      <td>5722.0</td>\n      <td>323.0</td>\n      <td>769.0</td>\n      <td>288115.0</td>\n      <td>112.108012</td>\n      <td>266.907311</td>\n      <td>16.0</td>\n      <td>0.420026</td>\n    </tr>\n    <tr>\n      <th>Villalba del Alcor</th>\n      <td>102.0</td>\n      <td>6.0</td>\n      <td>14.0</td>\n      <td>3338.0</td>\n      <td>179.748352</td>\n      <td>419.412822</td>\n      <td>0.0</td>\n      <td>0.428571</td>\n    </tr>\n    <tr>\n      <th>Cartaya</th>\n      <td>348.0</td>\n      <td>32.0</td>\n      <td>71.0</td>\n      <td>19974.0</td>\n      <td>160.208271</td>\n      <td>355.462101</td>\n      <td>1.0</td>\n      <td>0.450704</td>\n    </tr>\n    <tr>\n      <th>Palma del Condado (La)</th>\n      <td>478.0</td>\n      <td>32.0</td>\n      <td>70.0</td>\n      <td>10761.0</td>\n      <td>297.370133</td>\n      <td>650.497166</td>\n      <td>1.0</td>\n      <td>0.457143</td>\n    </tr>\n    <tr>\n      <th>Moguer</th>\n      <td>335.0</td>\n      <td>32.0</td>\n      <td>66.0</td>\n      <td>22088.0</td>\n      <td>144.875045</td>\n      <td>298.804781</td>\n      <td>0.0</td>\n      <td>0.484848</td>\n    </tr>\n    <tr>\n      <th>Trigueros</th>\n      <td>127.0</td>\n      <td>2.0</td>\n      <td>4.0</td>\n      <td>7713.0</td>\n      <td>25.930248</td>\n      <td>51.860495</td>\n      <td>0.0</td>\n      <td>0.500000</td>\n    </tr>\n    <tr>\n      <th>Bollullos Par del Condado</th>\n      <td>235.0</td>\n      <td>5.0</td>\n      <td>10.0</td>\n      <td>14272.0</td>\n      <td>35.033632</td>\n      <td>70.067265</td>\n      <td>1.0</td>\n      <td>0.500000</td>\n    </tr>\n    <tr>\n      <th>Sanlúcar de Guadiana</th>\n      <td>4.0</td>\n      <td>1.0</td>\n      <td>2.0</td>\n      <td>409.0</td>\n      <td>244.498778</td>\n      <td>488.997555</td>\n      <td>0.0</td>\n      <td>0.500000</td>\n    </tr>\n    <tr>\n      <th>San Juan del Puerto</th>\n      <td>137.0</td>\n      <td>2.0</td>\n      <td>4.0</td>\n      <td>9300.0</td>\n      <td>21.505376</td>\n      <td>43.010753</td>\n      <td>0.0</td>\n      <td>0.500000</td>\n    </tr>\n    <tr>\n      <th>Campillo (El)</th>\n      <td>54.0</td>\n      <td>1.0</td>\n      <td>2.0</td>\n      <td>2023.0</td>\n      <td>49.431537</td>\n      <td>98.863075</td>\n      <td>0.0</td>\n      <td>0.500000</td>\n    </tr>\n    <tr>\n      <th>Zalamea la Real</th>\n      <td>46.0</td>\n      <td>2.0</td>\n      <td>4.0</td>\n      <td>3068.0</td>\n      <td>65.189048</td>\n      <td>130.378096</td>\n      <td>0.0</td>\n      <td>0.500000</td>\n    </tr>\n    <tr>\n      <th>Nerva</th>\n      <td>87.0</td>\n      <td>1.0</td>\n      <td>2.0</td>\n      <td>5235.0</td>\n      <td>19.102197</td>\n      <td>38.204394</td>\n      <td>0.0</td>\n      <td>0.500000</td>\n    </tr>\n    <tr>\n      <th>Punta Umbría</th>\n      <td>227.0</td>\n      <td>11.0</td>\n      <td>21.0</td>\n      <td>15242.0</td>\n      <td>72.169007</td>\n      <td>137.777195</td>\n      <td>1.0</td>\n      <td>0.523810</td>\n    </tr>\n    <tr>\n      <th>Isla Cristina</th>\n      <td>376.0</td>\n      <td>70.0</td>\n      <td>114.0</td>\n      <td>21264.0</td>\n      <td>329.194883</td>\n      <td>536.117381</td>\n      <td>0.0</td>\n      <td>0.614035</td>\n    </tr>\n    <tr>\n      <th>Gibraleón</th>\n      <td>349.0</td>\n      <td>9.0</td>\n      <td>14.0</td>\n      <td>12607.0</td>\n      <td>71.388911</td>\n      <td>111.049417</td>\n      <td>0.0</td>\n      <td>0.642857</td>\n    </tr>\n    <tr>\n      <th>Minas de Riotinto</th>\n      <td>66.0</td>\n      <td>2.0</td>\n      <td>3.0</td>\n      <td>3848.0</td>\n      <td>51.975052</td>\n      <td>77.962578</td>\n      <td>0.0</td>\n      <td>0.666667</td>\n    </tr>\n    <tr>\n      <th>Paterna del Campo</th>\n      <td>60.0</td>\n      <td>7.0</td>\n      <td>10.0</td>\n      <td>3509.0</td>\n      <td>199.487033</td>\n      <td>284.981476</td>\n      <td>0.0</td>\n      <td>0.700000</td>\n    </tr>\n    <tr>\n      <th>Cortelazor</th>\n      <td>2.0</td>\n      <td>1.0</td>\n      <td>1.0</td>\n      <td>299.0</td>\n      <td>334.448161</td>\n      <td>334.448161</td>\n      <td>0.0</td>\n      <td>1.000000</td>\n    </tr>\n    <tr>\n      <th>Manzanilla</th>\n      <td>45.0</td>\n      <td>1.0</td>\n      <td>1.0</td>\n      <td>2135.0</td>\n      <td>46.838407</td>\n      <td>46.838407</td>\n      <td>0.0</td>\n      <td>1.000000</td>\n    </tr>\n    <tr>\n      <th>Jabugo</th>\n      <td>35.0</td>\n      <td>1.0</td>\n      <td>1.0</td>\n      <td>2250.0</td>\n      <td>44.444444</td>\n      <td>44.444444</td>\n      <td>0.0</td>\n      <td>1.000000</td>\n    </tr>\n    <tr>\n      <th>Alájar</th>\n      <td>4.0</td>\n      <td>1.0</td>\n      <td>1.0</td>\n      <td>756.0</td>\n      <td>132.275132</td>\n      <td>132.275132</td>\n      <td>0.0</td>\n      <td>1.000000</td>\n    </tr>\n    <tr>\n      <th>Campofrío</th>\n      <td>7.0</td>\n      <td>1.0</td>\n      <td>1.0</td>\n      <td>675.0</td>\n      <td>148.148148</td>\n      <td>148.148148</td>\n      <td>0.0</td>\n      <td>1.000000</td>\n    </tr>\n  </tbody>\n</table>\n</div>"
     },
     "metadata": {},
     "execution_count": 18
    }
   ],
   "source": [
    "# Peso de la tasa de la última semana en relación con la tasa a 14 días \n",
    "# Mejor cuanto menor. Valor 1 significa que no había casos antes de 7 días.\n",
    "tabla['7/14'] = tabla['tasa7'] / tabla['tasa14']\n",
    "tabla.fillna(0).sort_values('7/14', ascending=True)"
   ]
  },
  {
   "cell_type": "code",
   "execution_count": null,
   "metadata": {},
   "outputs": [],
   "source": []
  }
 ]
}