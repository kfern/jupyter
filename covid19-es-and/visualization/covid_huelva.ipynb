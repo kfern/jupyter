{
 "metadata": {
  "language_info": {
   "codemirror_mode": {
    "name": "ipython",
    "version": 3
   },
   "file_extension": ".py",
   "mimetype": "text/x-python",
   "name": "python",
   "nbconvert_exporter": "python",
   "pygments_lexer": "ipython3",
   "version": "3.8.6-final"
  },
  "orig_nbformat": 2,
  "kernelspec": {
   "name": "python38564bit75945252d6ba481bad4868286020c89e",
   "display_name": "Python 3.8.5 64-bit",
   "language": "python"
  }
 },
 "nbformat": 4,
 "nbformat_minor": 2,
 "cells": [
  {
   "cell_type": "code",
   "execution_count": 1,
   "metadata": {},
   "outputs": [],
   "source": [
    "import pandas as pd"
   ]
  },
  {
   "cell_type": "code",
   "execution_count": 2,
   "metadata": {},
   "outputs": [],
   "source": [
    "# FIX SSL: CERTIFICATE_VERIFY_FAILED with Python3\n",
    "# https://stackoverflow.com/a/49174340\n",
    "import ssl\n",
    "\n",
    "ssl._create_default_https_context = ssl._create_unverified_context"
   ]
  },
  {
   "cell_type": "code",
   "execution_count": 3,
   "metadata": {},
   "outputs": [],
   "source": [
    "url = 'https://www.juntadeandalucia.es/institutodeestadisticaycartografia/badea/stpivot/stpivot/Print?cube=013d884c-cfc5-4c21-9e78-e26225682afd&type=3&foto=si&ejecutaDesde=&codConsulta=38668&consTipoVisua=JP'\n",
    "fields = ['Lugar de residencia', 'Medida', 'Valor']\n",
    "df = pd.read_csv(url, delimiter=';', usecols=fields, decimal=',')"
   ]
  },
  {
   "cell_type": "code",
   "execution_count": 4,
   "metadata": {},
   "outputs": [
    {
     "output_type": "execute_result",
     "data": {
      "text/plain": [
       "                     Lugar de residencia                    Medida  \\\n",
       "0                                 Huelva                 Población   \n",
       "1                                 Huelva          Confirmados PDIA   \n",
       "2                                 Huelva  Confirmados PDIA 14 días   \n",
       "3                                 Huelva         Tasa PDIA 14 días   \n",
       "4                                 Huelva   Confirmados PDIA 7 días   \n",
       "..                                   ...                       ...   \n",
       "627  Municipio de Huelva sin especificar         Tasa PDIA 14 días   \n",
       "628  Municipio de Huelva sin especificar   Confirmados PDIA 7 días   \n",
       "629  Municipio de Huelva sin especificar        Total Confirmados    \n",
       "630  Municipio de Huelva sin especificar                   Curados   \n",
       "631  Municipio de Huelva sin especificar                Fallecidos   \n",
       "\n",
       "                  Valor  \n",
       "0                510743  \n",
       "1                 11123  \n",
       "2                   837  \n",
       "3    163,87889799762308  \n",
       "4                   323  \n",
       "..                  ...  \n",
       "627                   -  \n",
       "628                   2  \n",
       "629                 126  \n",
       "630                 107  \n",
       "631                   2  \n",
       "\n",
       "[632 rows x 3 columns]"
      ],
      "text/html": "<div>\n<style scoped>\n    .dataframe tbody tr th:only-of-type {\n        vertical-align: middle;\n    }\n\n    .dataframe tbody tr th {\n        vertical-align: top;\n    }\n\n    .dataframe thead th {\n        text-align: right;\n    }\n</style>\n<table border=\"1\" class=\"dataframe\">\n  <thead>\n    <tr style=\"text-align: right;\">\n      <th></th>\n      <th>Lugar de residencia</th>\n      <th>Medida</th>\n      <th>Valor</th>\n    </tr>\n  </thead>\n  <tbody>\n    <tr>\n      <th>0</th>\n      <td>Huelva</td>\n      <td>Población</td>\n      <td>510743</td>\n    </tr>\n    <tr>\n      <th>1</th>\n      <td>Huelva</td>\n      <td>Confirmados PDIA</td>\n      <td>11123</td>\n    </tr>\n    <tr>\n      <th>2</th>\n      <td>Huelva</td>\n      <td>Confirmados PDIA 14 días</td>\n      <td>837</td>\n    </tr>\n    <tr>\n      <th>3</th>\n      <td>Huelva</td>\n      <td>Tasa PDIA 14 días</td>\n      <td>163,87889799762308</td>\n    </tr>\n    <tr>\n      <th>4</th>\n      <td>Huelva</td>\n      <td>Confirmados PDIA 7 días</td>\n      <td>323</td>\n    </tr>\n    <tr>\n      <th>...</th>\n      <td>...</td>\n      <td>...</td>\n      <td>...</td>\n    </tr>\n    <tr>\n      <th>627</th>\n      <td>Municipio de Huelva sin especificar</td>\n      <td>Tasa PDIA 14 días</td>\n      <td>-</td>\n    </tr>\n    <tr>\n      <th>628</th>\n      <td>Municipio de Huelva sin especificar</td>\n      <td>Confirmados PDIA 7 días</td>\n      <td>2</td>\n    </tr>\n    <tr>\n      <th>629</th>\n      <td>Municipio de Huelva sin especificar</td>\n      <td>Total Confirmados</td>\n      <td>126</td>\n    </tr>\n    <tr>\n      <th>630</th>\n      <td>Municipio de Huelva sin especificar</td>\n      <td>Curados</td>\n      <td>107</td>\n    </tr>\n    <tr>\n      <th>631</th>\n      <td>Municipio de Huelva sin especificar</td>\n      <td>Fallecidos</td>\n      <td>2</td>\n    </tr>\n  </tbody>\n</table>\n<p>632 rows × 3 columns</p>\n</div>"
     },
     "metadata": {},
     "execution_count": 4
    }
   ],
   "source": [
    "df"
   ]
  },
  {
   "cell_type": "code",
   "execution_count": 5,
   "metadata": {},
   "outputs": [],
   "source": [
    "df['Valor'] = pd.to_numeric(df['Valor'],errors='coerce')"
   ]
  },
  {
   "cell_type": "code",
   "execution_count": 6,
   "metadata": {},
   "outputs": [],
   "source": [
    "dfAnterior = pd.read_csv('covid_huelva.csv', index_col='Lugar de residencia')"
   ]
  },
  {
   "cell_type": "code",
   "execution_count": 7,
   "metadata": {
    "tags": []
   },
   "outputs": [
    {
     "output_type": "stream",
     "name": "stdout",
     "text": [
      "Confirmados PCR en la provincia de Huelva:  11123.0\n"
     ]
    }
   ],
   "source": [
    "# Confirmados PCR provincia Huelva\n",
    "p = df[df['Lugar de residencia'] == 'Huelva'][df['Medida'] == 'Confirmados PDIA']['Valor'].values[0]\n",
    "print('Confirmados PCR en la provincia de Huelva: ', p)"
   ]
  },
  {
   "cell_type": "code",
   "execution_count": 8,
   "metadata": {
    "tags": []
   },
   "outputs": [
    {
     "output_type": "stream",
     "name": "stdout",
     "text": [
      "Confirmados PCR en Huelva capital:  3145.0\n"
     ]
    }
   ],
   "source": [
    "# Confirmados PCR Huelva capitalpd\n",
    "c = df[df['Lugar de residencia'] == 'Huelva (capital)'][df['Medida'] == 'Confirmados PDIA']['Valor'].values[0]\n",
    "print('Confirmados PCR en Huelva capital: ', c)"
   ]
  },
  {
   "cell_type": "code",
   "execution_count": 9,
   "metadata": {
    "tags": []
   },
   "outputs": [],
   "source": [
    "c7 = df[df['Lugar de residencia'] == 'Huelva (capital)'][df['Medida'] == 'Confirmados PDIA 7 días']['Valor'].values[0]\n",
    "c14 = df[df['Lugar de residencia'] == 'Huelva (capital)'][df['Medida'] == 'Confirmados PDIA 14 días']['Valor'].values[0]\n",
    "p = df[df['Lugar de residencia'] == 'Huelva (capital)'][df['Medida'] == 'Población']['Valor'].values[0]"
   ]
  },
  {
   "cell_type": "code",
   "execution_count": 10,
   "metadata": {
    "tags": []
   },
   "outputs": [
    {
     "output_type": "stream",
     "name": "stdout",
     "text": [
      "Huelva (capital)\n\nUn positivo PCR cada 1451 personas en los últimos 7 días \n\nUn positivo PCR cada 591 personas en los últimos 14 días\n"
     ]
    }
   ],
   "source": [
    "print('Huelva (capital)\\n')\n",
    "#print('Confirmados PCR 7 días x 1,000 habitantes: ', f\"{c7/(p/1000):.5f}\")\n",
    "print('Un positivo PCR cada', f\"{p/c7:.0f}\", 'personas en los últimos 7 días', '\\n')\n",
    "#print('Confirmados PCR 14 días x 1,000 habitantes: ', f\"{c14/(p/1000):.5f}\")\n",
    "print('Un positivo PCR cada', f\"{p/c14:.0f}\", 'personas en los últimos 14 días')"
   ]
  },
  {
   "cell_type": "code",
   "execution_count": 11,
   "metadata": {},
   "outputs": [],
   "source": [
    "filtro = ((df['Medida'] == 'Confirmados PDIA')| (df['Medida'] == 'Confirmados PDIA 7 días') | (df['Medida'] == 'Población' ) | (df['Medida'] == 'Confirmados PDIA 14 días')) & (df['Valor'] > 0)\n",
    "tabla = pd.pivot_table(df.loc[filtro], values='Valor', index='Lugar de residencia', columns='Medida').dropna()"
   ]
  },
  {
   "cell_type": "code",
   "execution_count": 12,
   "metadata": {},
   "outputs": [],
   "source": [
    "# Reorder columns\n",
    "tabla = tabla[['Confirmados PDIA', 'Confirmados PDIA 7 días', 'Confirmados PDIA 14 días', 'Población']]"
   ]
  },
  {
   "cell_type": "code",
   "execution_count": 13,
   "metadata": {},
   "outputs": [],
   "source": [
    "tabla['tasa7'] = tabla['Confirmados PDIA 7 días']/tabla['Población']*100000\n",
    "tabla['tasa14'] = tabla['Confirmados PDIA 14 días']/tabla['Población']*100000"
   ]
  },
  {
   "cell_type": "code",
   "execution_count": 14,
   "metadata": {},
   "outputs": [],
   "source": [
    "tabla['Diferencia PDIA'] = tabla['Confirmados PDIA'] - dfAnterior['Confirmados PDIA']"
   ]
  },
  {
   "cell_type": "code",
   "execution_count": 15,
   "metadata": {},
   "outputs": [
    {
     "output_type": "execute_result",
     "data": {
      "text/plain": [
       "Medida                     Confirmados PDIA  Confirmados PDIA 7 días  \\\n",
       "Lugar de residencia                                                    \n",
       "Huelva                              11123.0                    323.0   \n",
       "Huelva-Costa                         6286.0                    215.0   \n",
       "Huelva (capital)                     3145.0                     99.0   \n",
       "Condado-Campiña                      3426.0                    103.0   \n",
       "Cartaya                               423.0                     32.0   \n",
       "Lepe                                  970.0                     23.0   \n",
       "Palma del Condado (La)                545.0                     23.0   \n",
       "Almonte                               447.0                      9.0   \n",
       "Moguer                                382.0                     14.0   \n",
       "Isla Cristina                         450.0                     31.0   \n",
       "Aljaraque                             439.0                     14.0   \n",
       "Bollullos Par del Condado             250.0                      2.0   \n",
       "Bonares                                66.0                     15.0   \n",
       "San Juan del Puerto                   154.0                      2.0   \n",
       "Villalba del Alcor                    104.0                      1.0   \n",
       "\n",
       "Medida                     Confirmados PDIA 14 días  Población       tasa7  \\\n",
       "Lugar de residencia                                                          \n",
       "Huelva                                        837.0   510743.0   63.241200   \n",
       "Huelva-Costa                                  545.0   288115.0   74.622980   \n",
       "Huelva (capital)                              243.0   143663.0   68.911272   \n",
       "Condado-Campiña                               265.0   155057.0   66.427185   \n",
       "Cartaya                                        74.0    19974.0  160.208271   \n",
       "Lepe                                           67.0    27431.0   83.846743   \n",
       "Palma del Condado (La)                         63.0    10761.0  213.734783   \n",
       "Almonte                                        13.0    24191.0   37.203919   \n",
       "Moguer                                         44.0    22088.0   63.382832   \n",
       "Isla Cristina                                  73.0    21264.0  145.786305   \n",
       "Aljaraque                                      47.0    21260.0   65.851364   \n",
       "Bollullos Par del Condado                      15.0    14272.0   14.013453   \n",
       "Bonares                                        23.0     6058.0  247.606471   \n",
       "San Juan del Puerto                            15.0     9300.0   21.505376   \n",
       "Villalba del Alcor                              2.0     3338.0   29.958059   \n",
       "\n",
       "Medida                         tasa14  Diferencia PDIA  \n",
       "Lugar de residencia                                     \n",
       "Huelva                     163.878898             44.0  \n",
       "Huelva-Costa               189.160578             32.0  \n",
       "Huelva (capital)           169.145848             15.0  \n",
       "Condado-Campiña            170.904893             13.0  \n",
       "Cartaya                    370.481626              9.0  \n",
       "Lepe                       244.249207              5.0  \n",
       "Palma del Condado (La)     585.447449              5.0  \n",
       "Almonte                     53.738994              3.0  \n",
       "Moguer                     199.203187              3.0  \n",
       "Isla Cristina              343.303236              2.0  \n",
       "Aljaraque                  221.072437              1.0  \n",
       "Bollullos Par del Condado  105.100897              1.0  \n",
       "Bonares                    379.663255              1.0  \n",
       "San Juan del Puerto        161.290323             -1.0  \n",
       "Villalba del Alcor          59.916117              NaN  "
      ],
      "text/html": "<div>\n<style scoped>\n    .dataframe tbody tr th:only-of-type {\n        vertical-align: middle;\n    }\n\n    .dataframe tbody tr th {\n        vertical-align: top;\n    }\n\n    .dataframe thead th {\n        text-align: right;\n    }\n</style>\n<table border=\"1\" class=\"dataframe\">\n  <thead>\n    <tr style=\"text-align: right;\">\n      <th>Medida</th>\n      <th>Confirmados PDIA</th>\n      <th>Confirmados PDIA 7 días</th>\n      <th>Confirmados PDIA 14 días</th>\n      <th>Población</th>\n      <th>tasa7</th>\n      <th>tasa14</th>\n      <th>Diferencia PDIA</th>\n    </tr>\n    <tr>\n      <th>Lugar de residencia</th>\n      <th></th>\n      <th></th>\n      <th></th>\n      <th></th>\n      <th></th>\n      <th></th>\n      <th></th>\n    </tr>\n  </thead>\n  <tbody>\n    <tr>\n      <th>Huelva</th>\n      <td>11123.0</td>\n      <td>323.0</td>\n      <td>837.0</td>\n      <td>510743.0</td>\n      <td>63.241200</td>\n      <td>163.878898</td>\n      <td>44.0</td>\n    </tr>\n    <tr>\n      <th>Huelva-Costa</th>\n      <td>6286.0</td>\n      <td>215.0</td>\n      <td>545.0</td>\n      <td>288115.0</td>\n      <td>74.622980</td>\n      <td>189.160578</td>\n      <td>32.0</td>\n    </tr>\n    <tr>\n      <th>Huelva (capital)</th>\n      <td>3145.0</td>\n      <td>99.0</td>\n      <td>243.0</td>\n      <td>143663.0</td>\n      <td>68.911272</td>\n      <td>169.145848</td>\n      <td>15.0</td>\n    </tr>\n    <tr>\n      <th>Condado-Campiña</th>\n      <td>3426.0</td>\n      <td>103.0</td>\n      <td>265.0</td>\n      <td>155057.0</td>\n      <td>66.427185</td>\n      <td>170.904893</td>\n      <td>13.0</td>\n    </tr>\n    <tr>\n      <th>Cartaya</th>\n      <td>423.0</td>\n      <td>32.0</td>\n      <td>74.0</td>\n      <td>19974.0</td>\n      <td>160.208271</td>\n      <td>370.481626</td>\n      <td>9.0</td>\n    </tr>\n    <tr>\n      <th>Lepe</th>\n      <td>970.0</td>\n      <td>23.0</td>\n      <td>67.0</td>\n      <td>27431.0</td>\n      <td>83.846743</td>\n      <td>244.249207</td>\n      <td>5.0</td>\n    </tr>\n    <tr>\n      <th>Palma del Condado (La)</th>\n      <td>545.0</td>\n      <td>23.0</td>\n      <td>63.0</td>\n      <td>10761.0</td>\n      <td>213.734783</td>\n      <td>585.447449</td>\n      <td>5.0</td>\n    </tr>\n    <tr>\n      <th>Almonte</th>\n      <td>447.0</td>\n      <td>9.0</td>\n      <td>13.0</td>\n      <td>24191.0</td>\n      <td>37.203919</td>\n      <td>53.738994</td>\n      <td>3.0</td>\n    </tr>\n    <tr>\n      <th>Moguer</th>\n      <td>382.0</td>\n      <td>14.0</td>\n      <td>44.0</td>\n      <td>22088.0</td>\n      <td>63.382832</td>\n      <td>199.203187</td>\n      <td>3.0</td>\n    </tr>\n    <tr>\n      <th>Isla Cristina</th>\n      <td>450.0</td>\n      <td>31.0</td>\n      <td>73.0</td>\n      <td>21264.0</td>\n      <td>145.786305</td>\n      <td>343.303236</td>\n      <td>2.0</td>\n    </tr>\n    <tr>\n      <th>Aljaraque</th>\n      <td>439.0</td>\n      <td>14.0</td>\n      <td>47.0</td>\n      <td>21260.0</td>\n      <td>65.851364</td>\n      <td>221.072437</td>\n      <td>1.0</td>\n    </tr>\n    <tr>\n      <th>Bollullos Par del Condado</th>\n      <td>250.0</td>\n      <td>2.0</td>\n      <td>15.0</td>\n      <td>14272.0</td>\n      <td>14.013453</td>\n      <td>105.100897</td>\n      <td>1.0</td>\n    </tr>\n    <tr>\n      <th>Bonares</th>\n      <td>66.0</td>\n      <td>15.0</td>\n      <td>23.0</td>\n      <td>6058.0</td>\n      <td>247.606471</td>\n      <td>379.663255</td>\n      <td>1.0</td>\n    </tr>\n    <tr>\n      <th>San Juan del Puerto</th>\n      <td>154.0</td>\n      <td>2.0</td>\n      <td>15.0</td>\n      <td>9300.0</td>\n      <td>21.505376</td>\n      <td>161.290323</td>\n      <td>-1.0</td>\n    </tr>\n    <tr>\n      <th>Villalba del Alcor</th>\n      <td>104.0</td>\n      <td>1.0</td>\n      <td>2.0</td>\n      <td>3338.0</td>\n      <td>29.958059</td>\n      <td>59.916117</td>\n      <td>NaN</td>\n    </tr>\n  </tbody>\n</table>\n</div>"
     },
     "metadata": {},
     "execution_count": 15
    }
   ],
   "source": [
    "# Nuevos casos desde la última captura\n",
    "tabla[tabla['Diferencia PDIA'] != 0].sort_values('Diferencia PDIA', ascending=False)"
   ]
  },
  {
   "cell_type": "code",
   "execution_count": 16,
   "metadata": {},
   "outputs": [],
   "source": [
    "if tabla[tabla['Diferencia PDIA'] != 0]['Diferencia PDIA'].sum() > 0:\n",
    "  # Save to csv\n",
    "  tabla.to_csv('covid_huelva.csv', encoding='utf-8', header=True, index=True)  "
   ]
  },
  {
   "cell_type": "code",
   "execution_count": 17,
   "metadata": {},
   "outputs": [
    {
     "output_type": "execute_result",
     "data": {
      "text/plain": [
       "Medida                             Confirmados PDIA  Confirmados PDIA 7 días  \\\n",
       "Lugar de residencia                                                            \n",
       "Lucena del Puerto                             104.0                      8.0   \n",
       "Palma del Condado (La)                        545.0                     23.0   \n",
       "Bonares                                        66.0                     15.0   \n",
       "Cartaya                                       423.0                     32.0   \n",
       "Isla Cristina                                 450.0                     31.0   \n",
       "Palos de la Frontera                          251.0                     15.0   \n",
       "Escacena del Campo                             97.0                      1.0   \n",
       "Lepe                                          970.0                     23.0   \n",
       "Aljaraque                                     439.0                     14.0   \n",
       "Villanueva de los Castillejos                  64.0                      3.0   \n",
       "Moguer                                        382.0                     14.0   \n",
       "Huelva-Costa                                 6286.0                    215.0   \n",
       "Condado-Campiña                              3426.0                    103.0   \n",
       "Huelva (capital)                             3145.0                     99.0   \n",
       "Huelva                                      11123.0                    323.0   \n",
       "San Juan del Puerto                           154.0                      2.0   \n",
       "Niebla                                        117.0                      5.0   \n",
       "Villablanca                                    57.0                      2.0   \n",
       "Bollullos Par del Condado                     250.0                      2.0   \n",
       "Ayamonte                                      336.0                      7.0   \n",
       "Trigueros                                     134.0                      3.0   \n",
       "Villalba del Alcor                            104.0                      1.0   \n",
       "Almonte                                       447.0                      9.0   \n",
       "Punta Umbría                                  235.0                      3.0   \n",
       "Rociana del Condado                           120.0                      4.0   \n",
       "Cortegana                                     123.0                      1.0   \n",
       "Cerro de Andévalo (El)                         38.0                      1.0   \n",
       "Sierra de Huelva-Andévalo Central            1286.0                      3.0   \n",
       "Puebla de Guzmán                               25.0                      1.0   \n",
       "Aracena                                       287.0                      1.0   \n",
       "Gibraleón                                     350.0                      1.0   \n",
       "\n",
       "Medida                             Confirmados PDIA 14 días  Población  \\\n",
       "Lugar de residencia                                                      \n",
       "Lucena del Puerto                                      21.0     3371.0   \n",
       "Palma del Condado (La)                                 63.0    10761.0   \n",
       "Bonares                                                23.0     6058.0   \n",
       "Cartaya                                                74.0    19974.0   \n",
       "Isla Cristina                                          73.0    21264.0   \n",
       "Palos de la Frontera                                   35.0    11289.0   \n",
       "Escacena del Campo                                      6.0     2284.0   \n",
       "Lepe                                                   67.0    27431.0   \n",
       "Aljaraque                                              47.0    21260.0   \n",
       "Villanueva de los Castillejos                           6.0     2820.0   \n",
       "Moguer                                                 44.0    22088.0   \n",
       "Huelva-Costa                                          545.0   288115.0   \n",
       "Condado-Campiña                                       265.0   155057.0   \n",
       "Huelva (capital)                                      243.0   143663.0   \n",
       "Huelva                                                837.0   510743.0   \n",
       "San Juan del Puerto                                    15.0     9300.0   \n",
       "Niebla                                                  5.0     4117.0   \n",
       "Villablanca                                             3.0     2848.0   \n",
       "Bollullos Par del Condado                              15.0    14272.0   \n",
       "Ayamonte                                               19.0    20946.0   \n",
       "Trigueros                                               6.0     7713.0   \n",
       "Villalba del Alcor                                      2.0     3338.0   \n",
       "Almonte                                                13.0    24191.0   \n",
       "Punta Umbría                                            8.0    15242.0   \n",
       "Rociana del Condado                                     4.0     7855.0   \n",
       "Cortegana                                               2.0     4666.0   \n",
       "Cerro de Andévalo (El)                                  1.0     2364.0   \n",
       "Sierra de Huelva-Andévalo Central                      23.0    67571.0   \n",
       "Puebla de Guzmán                                        1.0     3073.0   \n",
       "Aracena                                                 2.0     8107.0   \n",
       "Gibraleón                                               3.0    12607.0   \n",
       "\n",
       "Medida                                  tasa7      tasa14  Diferencia PDIA  \n",
       "Lugar de residencia                                                         \n",
       "Lucena del Puerto                  237.318303  622.960546              0.0  \n",
       "Palma del Condado (La)             213.734783  585.447449              5.0  \n",
       "Bonares                            247.606471  379.663255              1.0  \n",
       "Cartaya                            160.208271  370.481626              9.0  \n",
       "Isla Cristina                      145.786305  343.303236              2.0  \n",
       "Palos de la Frontera               132.872708  310.036319              0.0  \n",
       "Escacena del Campo                  43.782837  262.697023              0.0  \n",
       "Lepe                                83.846743  244.249207              5.0  \n",
       "Aljaraque                           65.851364  221.072437              1.0  \n",
       "Villanueva de los Castillejos      106.382979  212.765957              0.0  \n",
       "Moguer                              63.382832  199.203187              3.0  \n",
       "Huelva-Costa                        74.622980  189.160578             32.0  \n",
       "Condado-Campiña                     66.427185  170.904893             13.0  \n",
       "Huelva (capital)                    68.911272  169.145848             15.0  \n",
       "Huelva                              63.241200  163.878898             44.0  \n",
       "San Juan del Puerto                 21.505376  161.290323             -1.0  \n",
       "Niebla                             121.447656  121.447656              0.0  \n",
       "Villablanca                         70.224719  105.337079              0.0  \n",
       "Bollullos Par del Condado           14.013453  105.100897              1.0  \n",
       "Ayamonte                            33.419269   90.709443              0.0  \n",
       "Trigueros                           38.895371   77.790743              0.0  \n",
       "Villalba del Alcor                  29.958059   59.916117              NaN  \n",
       "Almonte                             37.203919   53.738994              3.0  \n",
       "Punta Umbría                        19.682456   52.486550              0.0  \n",
       "Rociana del Condado                 50.922979   50.922979              0.0  \n",
       "Cortegana                           21.431633   42.863266              0.0  \n",
       "Cerro de Andévalo (El)              42.301184   42.301184              0.0  \n",
       "Sierra de Huelva-Andévalo Central    4.439774   34.038271              0.0  \n",
       "Puebla de Guzmán                    32.541490   32.541490              0.0  \n",
       "Aracena                             12.335019   24.670038              0.0  \n",
       "Gibraleón                            7.932101   23.796304              0.0  "
      ],
      "text/html": "<div>\n<style scoped>\n    .dataframe tbody tr th:only-of-type {\n        vertical-align: middle;\n    }\n\n    .dataframe tbody tr th {\n        vertical-align: top;\n    }\n\n    .dataframe thead th {\n        text-align: right;\n    }\n</style>\n<table border=\"1\" class=\"dataframe\">\n  <thead>\n    <tr style=\"text-align: right;\">\n      <th>Medida</th>\n      <th>Confirmados PDIA</th>\n      <th>Confirmados PDIA 7 días</th>\n      <th>Confirmados PDIA 14 días</th>\n      <th>Población</th>\n      <th>tasa7</th>\n      <th>tasa14</th>\n      <th>Diferencia PDIA</th>\n    </tr>\n    <tr>\n      <th>Lugar de residencia</th>\n      <th></th>\n      <th></th>\n      <th></th>\n      <th></th>\n      <th></th>\n      <th></th>\n      <th></th>\n    </tr>\n  </thead>\n  <tbody>\n    <tr>\n      <th>Lucena del Puerto</th>\n      <td>104.0</td>\n      <td>8.0</td>\n      <td>21.0</td>\n      <td>3371.0</td>\n      <td>237.318303</td>\n      <td>622.960546</td>\n      <td>0.0</td>\n    </tr>\n    <tr>\n      <th>Palma del Condado (La)</th>\n      <td>545.0</td>\n      <td>23.0</td>\n      <td>63.0</td>\n      <td>10761.0</td>\n      <td>213.734783</td>\n      <td>585.447449</td>\n      <td>5.0</td>\n    </tr>\n    <tr>\n      <th>Bonares</th>\n      <td>66.0</td>\n      <td>15.0</td>\n      <td>23.0</td>\n      <td>6058.0</td>\n      <td>247.606471</td>\n      <td>379.663255</td>\n      <td>1.0</td>\n    </tr>\n    <tr>\n      <th>Cartaya</th>\n      <td>423.0</td>\n      <td>32.0</td>\n      <td>74.0</td>\n      <td>19974.0</td>\n      <td>160.208271</td>\n      <td>370.481626</td>\n      <td>9.0</td>\n    </tr>\n    <tr>\n      <th>Isla Cristina</th>\n      <td>450.0</td>\n      <td>31.0</td>\n      <td>73.0</td>\n      <td>21264.0</td>\n      <td>145.786305</td>\n      <td>343.303236</td>\n      <td>2.0</td>\n    </tr>\n    <tr>\n      <th>Palos de la Frontera</th>\n      <td>251.0</td>\n      <td>15.0</td>\n      <td>35.0</td>\n      <td>11289.0</td>\n      <td>132.872708</td>\n      <td>310.036319</td>\n      <td>0.0</td>\n    </tr>\n    <tr>\n      <th>Escacena del Campo</th>\n      <td>97.0</td>\n      <td>1.0</td>\n      <td>6.0</td>\n      <td>2284.0</td>\n      <td>43.782837</td>\n      <td>262.697023</td>\n      <td>0.0</td>\n    </tr>\n    <tr>\n      <th>Lepe</th>\n      <td>970.0</td>\n      <td>23.0</td>\n      <td>67.0</td>\n      <td>27431.0</td>\n      <td>83.846743</td>\n      <td>244.249207</td>\n      <td>5.0</td>\n    </tr>\n    <tr>\n      <th>Aljaraque</th>\n      <td>439.0</td>\n      <td>14.0</td>\n      <td>47.0</td>\n      <td>21260.0</td>\n      <td>65.851364</td>\n      <td>221.072437</td>\n      <td>1.0</td>\n    </tr>\n    <tr>\n      <th>Villanueva de los Castillejos</th>\n      <td>64.0</td>\n      <td>3.0</td>\n      <td>6.0</td>\n      <td>2820.0</td>\n      <td>106.382979</td>\n      <td>212.765957</td>\n      <td>0.0</td>\n    </tr>\n    <tr>\n      <th>Moguer</th>\n      <td>382.0</td>\n      <td>14.0</td>\n      <td>44.0</td>\n      <td>22088.0</td>\n      <td>63.382832</td>\n      <td>199.203187</td>\n      <td>3.0</td>\n    </tr>\n    <tr>\n      <th>Huelva-Costa</th>\n      <td>6286.0</td>\n      <td>215.0</td>\n      <td>545.0</td>\n      <td>288115.0</td>\n      <td>74.622980</td>\n      <td>189.160578</td>\n      <td>32.0</td>\n    </tr>\n    <tr>\n      <th>Condado-Campiña</th>\n      <td>3426.0</td>\n      <td>103.0</td>\n      <td>265.0</td>\n      <td>155057.0</td>\n      <td>66.427185</td>\n      <td>170.904893</td>\n      <td>13.0</td>\n    </tr>\n    <tr>\n      <th>Huelva (capital)</th>\n      <td>3145.0</td>\n      <td>99.0</td>\n      <td>243.0</td>\n      <td>143663.0</td>\n      <td>68.911272</td>\n      <td>169.145848</td>\n      <td>15.0</td>\n    </tr>\n    <tr>\n      <th>Huelva</th>\n      <td>11123.0</td>\n      <td>323.0</td>\n      <td>837.0</td>\n      <td>510743.0</td>\n      <td>63.241200</td>\n      <td>163.878898</td>\n      <td>44.0</td>\n    </tr>\n    <tr>\n      <th>San Juan del Puerto</th>\n      <td>154.0</td>\n      <td>2.0</td>\n      <td>15.0</td>\n      <td>9300.0</td>\n      <td>21.505376</td>\n      <td>161.290323</td>\n      <td>-1.0</td>\n    </tr>\n    <tr>\n      <th>Niebla</th>\n      <td>117.0</td>\n      <td>5.0</td>\n      <td>5.0</td>\n      <td>4117.0</td>\n      <td>121.447656</td>\n      <td>121.447656</td>\n      <td>0.0</td>\n    </tr>\n    <tr>\n      <th>Villablanca</th>\n      <td>57.0</td>\n      <td>2.0</td>\n      <td>3.0</td>\n      <td>2848.0</td>\n      <td>70.224719</td>\n      <td>105.337079</td>\n      <td>0.0</td>\n    </tr>\n    <tr>\n      <th>Bollullos Par del Condado</th>\n      <td>250.0</td>\n      <td>2.0</td>\n      <td>15.0</td>\n      <td>14272.0</td>\n      <td>14.013453</td>\n      <td>105.100897</td>\n      <td>1.0</td>\n    </tr>\n    <tr>\n      <th>Ayamonte</th>\n      <td>336.0</td>\n      <td>7.0</td>\n      <td>19.0</td>\n      <td>20946.0</td>\n      <td>33.419269</td>\n      <td>90.709443</td>\n      <td>0.0</td>\n    </tr>\n    <tr>\n      <th>Trigueros</th>\n      <td>134.0</td>\n      <td>3.0</td>\n      <td>6.0</td>\n      <td>7713.0</td>\n      <td>38.895371</td>\n      <td>77.790743</td>\n      <td>0.0</td>\n    </tr>\n    <tr>\n      <th>Villalba del Alcor</th>\n      <td>104.0</td>\n      <td>1.0</td>\n      <td>2.0</td>\n      <td>3338.0</td>\n      <td>29.958059</td>\n      <td>59.916117</td>\n      <td>NaN</td>\n    </tr>\n    <tr>\n      <th>Almonte</th>\n      <td>447.0</td>\n      <td>9.0</td>\n      <td>13.0</td>\n      <td>24191.0</td>\n      <td>37.203919</td>\n      <td>53.738994</td>\n      <td>3.0</td>\n    </tr>\n    <tr>\n      <th>Punta Umbría</th>\n      <td>235.0</td>\n      <td>3.0</td>\n      <td>8.0</td>\n      <td>15242.0</td>\n      <td>19.682456</td>\n      <td>52.486550</td>\n      <td>0.0</td>\n    </tr>\n    <tr>\n      <th>Rociana del Condado</th>\n      <td>120.0</td>\n      <td>4.0</td>\n      <td>4.0</td>\n      <td>7855.0</td>\n      <td>50.922979</td>\n      <td>50.922979</td>\n      <td>0.0</td>\n    </tr>\n    <tr>\n      <th>Cortegana</th>\n      <td>123.0</td>\n      <td>1.0</td>\n      <td>2.0</td>\n      <td>4666.0</td>\n      <td>21.431633</td>\n      <td>42.863266</td>\n      <td>0.0</td>\n    </tr>\n    <tr>\n      <th>Cerro de Andévalo (El)</th>\n      <td>38.0</td>\n      <td>1.0</td>\n      <td>1.0</td>\n      <td>2364.0</td>\n      <td>42.301184</td>\n      <td>42.301184</td>\n      <td>0.0</td>\n    </tr>\n    <tr>\n      <th>Sierra de Huelva-Andévalo Central</th>\n      <td>1286.0</td>\n      <td>3.0</td>\n      <td>23.0</td>\n      <td>67571.0</td>\n      <td>4.439774</td>\n      <td>34.038271</td>\n      <td>0.0</td>\n    </tr>\n    <tr>\n      <th>Puebla de Guzmán</th>\n      <td>25.0</td>\n      <td>1.0</td>\n      <td>1.0</td>\n      <td>3073.0</td>\n      <td>32.541490</td>\n      <td>32.541490</td>\n      <td>0.0</td>\n    </tr>\n    <tr>\n      <th>Aracena</th>\n      <td>287.0</td>\n      <td>1.0</td>\n      <td>2.0</td>\n      <td>8107.0</td>\n      <td>12.335019</td>\n      <td>24.670038</td>\n      <td>0.0</td>\n    </tr>\n    <tr>\n      <th>Gibraleón</th>\n      <td>350.0</td>\n      <td>1.0</td>\n      <td>3.0</td>\n      <td>12607.0</td>\n      <td>7.932101</td>\n      <td>23.796304</td>\n      <td>0.0</td>\n    </tr>\n  </tbody>\n</table>\n</div>"
     },
     "metadata": {},
     "execution_count": 17
    }
   ],
   "source": [
    "tabla.sort_values('tasa14', ascending=False)"
   ]
  },
  {
   "cell_type": "code",
   "execution_count": 18,
   "metadata": {},
   "outputs": [
    {
     "output_type": "execute_result",
     "data": {
      "text/plain": [
       "Medida                             Confirmados PDIA  Confirmados PDIA 7 días  \\\n",
       "Lugar de residencia                                                            \n",
       "Sierra de Huelva-Andévalo Central            1286.0                      3.0   \n",
       "San Juan del Puerto                           154.0                      2.0   \n",
       "Bollullos Par del Condado                     250.0                      2.0   \n",
       "Escacena del Campo                             97.0                      1.0   \n",
       "Aljaraque                                     439.0                     14.0   \n",
       "Moguer                                        382.0                     14.0   \n",
       "Gibraleón                                     350.0                      1.0   \n",
       "Lepe                                          970.0                     23.0   \n",
       "Palma del Condado (La)                        545.0                     23.0   \n",
       "Ayamonte                                      336.0                      7.0   \n",
       "Punta Umbría                                  235.0                      3.0   \n",
       "Lucena del Puerto                             104.0                      8.0   \n",
       "Huelva                                      11123.0                    323.0   \n",
       "Condado-Campiña                              3426.0                    103.0   \n",
       "Huelva-Costa                                 6286.0                    215.0   \n",
       "Huelva (capital)                             3145.0                     99.0   \n",
       "Isla Cristina                                 450.0                     31.0   \n",
       "Palos de la Frontera                          251.0                     15.0   \n",
       "Cartaya                                       423.0                     32.0   \n",
       "Cortegana                                     123.0                      1.0   \n",
       "Aracena                                       287.0                      1.0   \n",
       "Trigueros                                     134.0                      3.0   \n",
       "Villalba del Alcor                            104.0                      1.0   \n",
       "Villanueva de los Castillejos                  64.0                      3.0   \n",
       "Bonares                                        66.0                     15.0   \n",
       "Villablanca                                    57.0                      2.0   \n",
       "Almonte                                       447.0                      9.0   \n",
       "Cerro de Andévalo (El)                         38.0                      1.0   \n",
       "Niebla                                        117.0                      5.0   \n",
       "Puebla de Guzmán                               25.0                      1.0   \n",
       "Rociana del Condado                           120.0                      4.0   \n",
       "\n",
       "Medida                             Confirmados PDIA 14 días  Población  \\\n",
       "Lugar de residencia                                                      \n",
       "Sierra de Huelva-Andévalo Central                      23.0    67571.0   \n",
       "San Juan del Puerto                                    15.0     9300.0   \n",
       "Bollullos Par del Condado                              15.0    14272.0   \n",
       "Escacena del Campo                                      6.0     2284.0   \n",
       "Aljaraque                                              47.0    21260.0   \n",
       "Moguer                                                 44.0    22088.0   \n",
       "Gibraleón                                               3.0    12607.0   \n",
       "Lepe                                                   67.0    27431.0   \n",
       "Palma del Condado (La)                                 63.0    10761.0   \n",
       "Ayamonte                                               19.0    20946.0   \n",
       "Punta Umbría                                            8.0    15242.0   \n",
       "Lucena del Puerto                                      21.0     3371.0   \n",
       "Huelva                                                837.0   510743.0   \n",
       "Condado-Campiña                                       265.0   155057.0   \n",
       "Huelva-Costa                                          545.0   288115.0   \n",
       "Huelva (capital)                                      243.0   143663.0   \n",
       "Isla Cristina                                          73.0    21264.0   \n",
       "Palos de la Frontera                                   35.0    11289.0   \n",
       "Cartaya                                                74.0    19974.0   \n",
       "Cortegana                                               2.0     4666.0   \n",
       "Aracena                                                 2.0     8107.0   \n",
       "Trigueros                                               6.0     7713.0   \n",
       "Villalba del Alcor                                      2.0     3338.0   \n",
       "Villanueva de los Castillejos                           6.0     2820.0   \n",
       "Bonares                                                23.0     6058.0   \n",
       "Villablanca                                             3.0     2848.0   \n",
       "Almonte                                                13.0    24191.0   \n",
       "Cerro de Andévalo (El)                                  1.0     2364.0   \n",
       "Niebla                                                  5.0     4117.0   \n",
       "Puebla de Guzmán                                        1.0     3073.0   \n",
       "Rociana del Condado                                     4.0     7855.0   \n",
       "\n",
       "Medida                                  tasa7      tasa14  Diferencia PDIA  \\\n",
       "Lugar de residencia                                                          \n",
       "Sierra de Huelva-Andévalo Central    4.439774   34.038271              0.0   \n",
       "San Juan del Puerto                 21.505376  161.290323             -1.0   \n",
       "Bollullos Par del Condado           14.013453  105.100897              1.0   \n",
       "Escacena del Campo                  43.782837  262.697023              0.0   \n",
       "Aljaraque                           65.851364  221.072437              1.0   \n",
       "Moguer                              63.382832  199.203187              3.0   \n",
       "Gibraleón                            7.932101   23.796304              0.0   \n",
       "Lepe                                83.846743  244.249207              5.0   \n",
       "Palma del Condado (La)             213.734783  585.447449              5.0   \n",
       "Ayamonte                            33.419269   90.709443              0.0   \n",
       "Punta Umbría                        19.682456   52.486550              0.0   \n",
       "Lucena del Puerto                  237.318303  622.960546              0.0   \n",
       "Huelva                              63.241200  163.878898             44.0   \n",
       "Condado-Campiña                     66.427185  170.904893             13.0   \n",
       "Huelva-Costa                        74.622980  189.160578             32.0   \n",
       "Huelva (capital)                    68.911272  169.145848             15.0   \n",
       "Isla Cristina                      145.786305  343.303236              2.0   \n",
       "Palos de la Frontera               132.872708  310.036319              0.0   \n",
       "Cartaya                            160.208271  370.481626              9.0   \n",
       "Cortegana                           21.431633   42.863266              0.0   \n",
       "Aracena                             12.335019   24.670038              0.0   \n",
       "Trigueros                           38.895371   77.790743              0.0   \n",
       "Villalba del Alcor                  29.958059   59.916117              0.0   \n",
       "Villanueva de los Castillejos      106.382979  212.765957              0.0   \n",
       "Bonares                            247.606471  379.663255              1.0   \n",
       "Villablanca                         70.224719  105.337079              0.0   \n",
       "Almonte                             37.203919   53.738994              3.0   \n",
       "Cerro de Andévalo (El)              42.301184   42.301184              0.0   \n",
       "Niebla                             121.447656  121.447656              0.0   \n",
       "Puebla de Guzmán                    32.541490   32.541490              0.0   \n",
       "Rociana del Condado                 50.922979   50.922979              0.0   \n",
       "\n",
       "Medida                                 7/14  \n",
       "Lugar de residencia                          \n",
       "Sierra de Huelva-Andévalo Central  0.130435  \n",
       "San Juan del Puerto                0.133333  \n",
       "Bollullos Par del Condado          0.133333  \n",
       "Escacena del Campo                 0.166667  \n",
       "Aljaraque                          0.297872  \n",
       "Moguer                             0.318182  \n",
       "Gibraleón                          0.333333  \n",
       "Lepe                               0.343284  \n",
       "Palma del Condado (La)             0.365079  \n",
       "Ayamonte                           0.368421  \n",
       "Punta Umbría                       0.375000  \n",
       "Lucena del Puerto                  0.380952  \n",
       "Huelva                             0.385902  \n",
       "Condado-Campiña                    0.388679  \n",
       "Huelva-Costa                       0.394495  \n",
       "Huelva (capital)                   0.407407  \n",
       "Isla Cristina                      0.424658  \n",
       "Palos de la Frontera               0.428571  \n",
       "Cartaya                            0.432432  \n",
       "Cortegana                          0.500000  \n",
       "Aracena                            0.500000  \n",
       "Trigueros                          0.500000  \n",
       "Villalba del Alcor                 0.500000  \n",
       "Villanueva de los Castillejos      0.500000  \n",
       "Bonares                            0.652174  \n",
       "Villablanca                        0.666667  \n",
       "Almonte                            0.692308  \n",
       "Cerro de Andévalo (El)             1.000000  \n",
       "Niebla                             1.000000  \n",
       "Puebla de Guzmán                   1.000000  \n",
       "Rociana del Condado                1.000000  "
      ],
      "text/html": "<div>\n<style scoped>\n    .dataframe tbody tr th:only-of-type {\n        vertical-align: middle;\n    }\n\n    .dataframe tbody tr th {\n        vertical-align: top;\n    }\n\n    .dataframe thead th {\n        text-align: right;\n    }\n</style>\n<table border=\"1\" class=\"dataframe\">\n  <thead>\n    <tr style=\"text-align: right;\">\n      <th>Medida</th>\n      <th>Confirmados PDIA</th>\n      <th>Confirmados PDIA 7 días</th>\n      <th>Confirmados PDIA 14 días</th>\n      <th>Población</th>\n      <th>tasa7</th>\n      <th>tasa14</th>\n      <th>Diferencia PDIA</th>\n      <th>7/14</th>\n    </tr>\n    <tr>\n      <th>Lugar de residencia</th>\n      <th></th>\n      <th></th>\n      <th></th>\n      <th></th>\n      <th></th>\n      <th></th>\n      <th></th>\n      <th></th>\n    </tr>\n  </thead>\n  <tbody>\n    <tr>\n      <th>Sierra de Huelva-Andévalo Central</th>\n      <td>1286.0</td>\n      <td>3.0</td>\n      <td>23.0</td>\n      <td>67571.0</td>\n      <td>4.439774</td>\n      <td>34.038271</td>\n      <td>0.0</td>\n      <td>0.130435</td>\n    </tr>\n    <tr>\n      <th>San Juan del Puerto</th>\n      <td>154.0</td>\n      <td>2.0</td>\n      <td>15.0</td>\n      <td>9300.0</td>\n      <td>21.505376</td>\n      <td>161.290323</td>\n      <td>-1.0</td>\n      <td>0.133333</td>\n    </tr>\n    <tr>\n      <th>Bollullos Par del Condado</th>\n      <td>250.0</td>\n      <td>2.0</td>\n      <td>15.0</td>\n      <td>14272.0</td>\n      <td>14.013453</td>\n      <td>105.100897</td>\n      <td>1.0</td>\n      <td>0.133333</td>\n    </tr>\n    <tr>\n      <th>Escacena del Campo</th>\n      <td>97.0</td>\n      <td>1.0</td>\n      <td>6.0</td>\n      <td>2284.0</td>\n      <td>43.782837</td>\n      <td>262.697023</td>\n      <td>0.0</td>\n      <td>0.166667</td>\n    </tr>\n    <tr>\n      <th>Aljaraque</th>\n      <td>439.0</td>\n      <td>14.0</td>\n      <td>47.0</td>\n      <td>21260.0</td>\n      <td>65.851364</td>\n      <td>221.072437</td>\n      <td>1.0</td>\n      <td>0.297872</td>\n    </tr>\n    <tr>\n      <th>Moguer</th>\n      <td>382.0</td>\n      <td>14.0</td>\n      <td>44.0</td>\n      <td>22088.0</td>\n      <td>63.382832</td>\n      <td>199.203187</td>\n      <td>3.0</td>\n      <td>0.318182</td>\n    </tr>\n    <tr>\n      <th>Gibraleón</th>\n      <td>350.0</td>\n      <td>1.0</td>\n      <td>3.0</td>\n      <td>12607.0</td>\n      <td>7.932101</td>\n      <td>23.796304</td>\n      <td>0.0</td>\n      <td>0.333333</td>\n    </tr>\n    <tr>\n      <th>Lepe</th>\n      <td>970.0</td>\n      <td>23.0</td>\n      <td>67.0</td>\n      <td>27431.0</td>\n      <td>83.846743</td>\n      <td>244.249207</td>\n      <td>5.0</td>\n      <td>0.343284</td>\n    </tr>\n    <tr>\n      <th>Palma del Condado (La)</th>\n      <td>545.0</td>\n      <td>23.0</td>\n      <td>63.0</td>\n      <td>10761.0</td>\n      <td>213.734783</td>\n      <td>585.447449</td>\n      <td>5.0</td>\n      <td>0.365079</td>\n    </tr>\n    <tr>\n      <th>Ayamonte</th>\n      <td>336.0</td>\n      <td>7.0</td>\n      <td>19.0</td>\n      <td>20946.0</td>\n      <td>33.419269</td>\n      <td>90.709443</td>\n      <td>0.0</td>\n      <td>0.368421</td>\n    </tr>\n    <tr>\n      <th>Punta Umbría</th>\n      <td>235.0</td>\n      <td>3.0</td>\n      <td>8.0</td>\n      <td>15242.0</td>\n      <td>19.682456</td>\n      <td>52.486550</td>\n      <td>0.0</td>\n      <td>0.375000</td>\n    </tr>\n    <tr>\n      <th>Lucena del Puerto</th>\n      <td>104.0</td>\n      <td>8.0</td>\n      <td>21.0</td>\n      <td>3371.0</td>\n      <td>237.318303</td>\n      <td>622.960546</td>\n      <td>0.0</td>\n      <td>0.380952</td>\n    </tr>\n    <tr>\n      <th>Huelva</th>\n      <td>11123.0</td>\n      <td>323.0</td>\n      <td>837.0</td>\n      <td>510743.0</td>\n      <td>63.241200</td>\n      <td>163.878898</td>\n      <td>44.0</td>\n      <td>0.385902</td>\n    </tr>\n    <tr>\n      <th>Condado-Campiña</th>\n      <td>3426.0</td>\n      <td>103.0</td>\n      <td>265.0</td>\n      <td>155057.0</td>\n      <td>66.427185</td>\n      <td>170.904893</td>\n      <td>13.0</td>\n      <td>0.388679</td>\n    </tr>\n    <tr>\n      <th>Huelva-Costa</th>\n      <td>6286.0</td>\n      <td>215.0</td>\n      <td>545.0</td>\n      <td>288115.0</td>\n      <td>74.622980</td>\n      <td>189.160578</td>\n      <td>32.0</td>\n      <td>0.394495</td>\n    </tr>\n    <tr>\n      <th>Huelva (capital)</th>\n      <td>3145.0</td>\n      <td>99.0</td>\n      <td>243.0</td>\n      <td>143663.0</td>\n      <td>68.911272</td>\n      <td>169.145848</td>\n      <td>15.0</td>\n      <td>0.407407</td>\n    </tr>\n    <tr>\n      <th>Isla Cristina</th>\n      <td>450.0</td>\n      <td>31.0</td>\n      <td>73.0</td>\n      <td>21264.0</td>\n      <td>145.786305</td>\n      <td>343.303236</td>\n      <td>2.0</td>\n      <td>0.424658</td>\n    </tr>\n    <tr>\n      <th>Palos de la Frontera</th>\n      <td>251.0</td>\n      <td>15.0</td>\n      <td>35.0</td>\n      <td>11289.0</td>\n      <td>132.872708</td>\n      <td>310.036319</td>\n      <td>0.0</td>\n      <td>0.428571</td>\n    </tr>\n    <tr>\n      <th>Cartaya</th>\n      <td>423.0</td>\n      <td>32.0</td>\n      <td>74.0</td>\n      <td>19974.0</td>\n      <td>160.208271</td>\n      <td>370.481626</td>\n      <td>9.0</td>\n      <td>0.432432</td>\n    </tr>\n    <tr>\n      <th>Cortegana</th>\n      <td>123.0</td>\n      <td>1.0</td>\n      <td>2.0</td>\n      <td>4666.0</td>\n      <td>21.431633</td>\n      <td>42.863266</td>\n      <td>0.0</td>\n      <td>0.500000</td>\n    </tr>\n    <tr>\n      <th>Aracena</th>\n      <td>287.0</td>\n      <td>1.0</td>\n      <td>2.0</td>\n      <td>8107.0</td>\n      <td>12.335019</td>\n      <td>24.670038</td>\n      <td>0.0</td>\n      <td>0.500000</td>\n    </tr>\n    <tr>\n      <th>Trigueros</th>\n      <td>134.0</td>\n      <td>3.0</td>\n      <td>6.0</td>\n      <td>7713.0</td>\n      <td>38.895371</td>\n      <td>77.790743</td>\n      <td>0.0</td>\n      <td>0.500000</td>\n    </tr>\n    <tr>\n      <th>Villalba del Alcor</th>\n      <td>104.0</td>\n      <td>1.0</td>\n      <td>2.0</td>\n      <td>3338.0</td>\n      <td>29.958059</td>\n      <td>59.916117</td>\n      <td>0.0</td>\n      <td>0.500000</td>\n    </tr>\n    <tr>\n      <th>Villanueva de los Castillejos</th>\n      <td>64.0</td>\n      <td>3.0</td>\n      <td>6.0</td>\n      <td>2820.0</td>\n      <td>106.382979</td>\n      <td>212.765957</td>\n      <td>0.0</td>\n      <td>0.500000</td>\n    </tr>\n    <tr>\n      <th>Bonares</th>\n      <td>66.0</td>\n      <td>15.0</td>\n      <td>23.0</td>\n      <td>6058.0</td>\n      <td>247.606471</td>\n      <td>379.663255</td>\n      <td>1.0</td>\n      <td>0.652174</td>\n    </tr>\n    <tr>\n      <th>Villablanca</th>\n      <td>57.0</td>\n      <td>2.0</td>\n      <td>3.0</td>\n      <td>2848.0</td>\n      <td>70.224719</td>\n      <td>105.337079</td>\n      <td>0.0</td>\n      <td>0.666667</td>\n    </tr>\n    <tr>\n      <th>Almonte</th>\n      <td>447.0</td>\n      <td>9.0</td>\n      <td>13.0</td>\n      <td>24191.0</td>\n      <td>37.203919</td>\n      <td>53.738994</td>\n      <td>3.0</td>\n      <td>0.692308</td>\n    </tr>\n    <tr>\n      <th>Cerro de Andévalo (El)</th>\n      <td>38.0</td>\n      <td>1.0</td>\n      <td>1.0</td>\n      <td>2364.0</td>\n      <td>42.301184</td>\n      <td>42.301184</td>\n      <td>0.0</td>\n      <td>1.000000</td>\n    </tr>\n    <tr>\n      <th>Niebla</th>\n      <td>117.0</td>\n      <td>5.0</td>\n      <td>5.0</td>\n      <td>4117.0</td>\n      <td>121.447656</td>\n      <td>121.447656</td>\n      <td>0.0</td>\n      <td>1.000000</td>\n    </tr>\n    <tr>\n      <th>Puebla de Guzmán</th>\n      <td>25.0</td>\n      <td>1.0</td>\n      <td>1.0</td>\n      <td>3073.0</td>\n      <td>32.541490</td>\n      <td>32.541490</td>\n      <td>0.0</td>\n      <td>1.000000</td>\n    </tr>\n    <tr>\n      <th>Rociana del Condado</th>\n      <td>120.0</td>\n      <td>4.0</td>\n      <td>4.0</td>\n      <td>7855.0</td>\n      <td>50.922979</td>\n      <td>50.922979</td>\n      <td>0.0</td>\n      <td>1.000000</td>\n    </tr>\n  </tbody>\n</table>\n</div>"
     },
     "metadata": {},
     "execution_count": 18
    }
   ],
   "source": [
    "# Peso de la tasa de la última semana en relación con la tasa a 14 días \n",
    "# Mejor cuanto menor. Valor 1 significa que no había casos antes de 7 días.\n",
    "tabla['7/14'] = tabla['tasa7'] / tabla['tasa14']\n",
    "tabla.fillna(0).sort_values('7/14', ascending=True)"
   ]
  },
  {
   "cell_type": "code",
   "execution_count": null,
   "metadata": {},
   "outputs": [],
   "source": []
  }
 ]
}