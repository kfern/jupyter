{
 "metadata": {
  "language_info": {
   "codemirror_mode": {
    "name": "ipython",
    "version": 3
   },
   "file_extension": ".py",
   "mimetype": "text/x-python",
   "name": "python",
   "nbconvert_exporter": "python",
   "pygments_lexer": "ipython3",
   "version": "3.6.9-final"
  },
  "orig_nbformat": 2,
  "kernelspec": {
   "name": "Python 3.6.9 64-bit",
   "display_name": "Python 3.6.9 64-bit",
   "metadata": {
    "interpreter": {
     "hash": "31f2aee4e71d21fbe5cf8b01ff0e069b9275f58929596ceb00d14d90e3e16cd6"
    }
   }
  }
 },
 "nbformat": 4,
 "nbformat_minor": 2,
 "cells": [
  {
   "cell_type": "code",
   "execution_count": 1,
   "metadata": {},
   "outputs": [],
   "source": [
    "import pandas as pd"
   ]
  },
  {
   "cell_type": "code",
   "execution_count": 2,
   "metadata": {},
   "outputs": [],
   "source": [
    "# FIX SSL: CERTIFICATE_VERIFY_FAILED with Python3\n",
    "# https://stackoverflow.com/a/49174340\n",
    "import ssl\n",
    "\n",
    "ssl._create_default_https_context = ssl._create_unverified_context"
   ]
  },
  {
   "cell_type": "code",
   "execution_count": 3,
   "metadata": {},
   "outputs": [],
   "source": [
    "url = 'https://www.juntadeandalucia.es/institutodeestadisticaycartografia/badea/stpivot/stpivot/Print?cube=013d884c-cfc5-4c21-9e78-e26225682afd&type=3&foto=si&ejecutaDesde=&codConsulta=38668&consTipoVisua=JP'\n",
    "fields = ['Lugar de residencia', 'Medida', 'Valor']\n",
    "df = pd.read_csv(url, delimiter=';', usecols=fields, decimal=',')"
   ]
  },
  {
   "cell_type": "code",
   "execution_count": 4,
   "metadata": {},
   "outputs": [
    {
     "output_type": "execute_result",
     "data": {
      "text/plain": [
       "                     Lugar de residencia                    Medida  \\\n",
       "0                                 Huelva                 Población   \n",
       "1                                 Huelva          Confirmados PDIA   \n",
       "2                                 Huelva  Confirmados PDIA 14 días   \n",
       "3                                 Huelva         Tasa PDIA 14 días   \n",
       "4                                 Huelva   Confirmados PDIA 7 días   \n",
       "..                                   ...                       ...   \n",
       "627  Municipio de Huelva sin especificar         Tasa PDIA 14 días   \n",
       "628  Municipio de Huelva sin especificar   Confirmados PDIA 7 días   \n",
       "629  Municipio de Huelva sin especificar        Total Confirmados    \n",
       "630  Municipio de Huelva sin especificar                   Curados   \n",
       "631  Municipio de Huelva sin especificar                Fallecidos   \n",
       "\n",
       "                  Valor  \n",
       "0                510743  \n",
       "1                 10396  \n",
       "2                   985  \n",
       "3    192,85628975825415  \n",
       "4                   362  \n",
       "..                  ...  \n",
       "627                   -  \n",
       "628                   0  \n",
       "629                 122  \n",
       "630                  90  \n",
       "631                   1  \n",
       "\n",
       "[632 rows x 3 columns]"
      ],
      "text/html": "<div>\n<style scoped>\n    .dataframe tbody tr th:only-of-type {\n        vertical-align: middle;\n    }\n\n    .dataframe tbody tr th {\n        vertical-align: top;\n    }\n\n    .dataframe thead th {\n        text-align: right;\n    }\n</style>\n<table border=\"1\" class=\"dataframe\">\n  <thead>\n    <tr style=\"text-align: right;\">\n      <th></th>\n      <th>Lugar de residencia</th>\n      <th>Medida</th>\n      <th>Valor</th>\n    </tr>\n  </thead>\n  <tbody>\n    <tr>\n      <th>0</th>\n      <td>Huelva</td>\n      <td>Población</td>\n      <td>510743</td>\n    </tr>\n    <tr>\n      <th>1</th>\n      <td>Huelva</td>\n      <td>Confirmados PDIA</td>\n      <td>10396</td>\n    </tr>\n    <tr>\n      <th>2</th>\n      <td>Huelva</td>\n      <td>Confirmados PDIA 14 días</td>\n      <td>985</td>\n    </tr>\n    <tr>\n      <th>3</th>\n      <td>Huelva</td>\n      <td>Tasa PDIA 14 días</td>\n      <td>192,85628975825415</td>\n    </tr>\n    <tr>\n      <th>4</th>\n      <td>Huelva</td>\n      <td>Confirmados PDIA 7 días</td>\n      <td>362</td>\n    </tr>\n    <tr>\n      <th>...</th>\n      <td>...</td>\n      <td>...</td>\n      <td>...</td>\n    </tr>\n    <tr>\n      <th>627</th>\n      <td>Municipio de Huelva sin especificar</td>\n      <td>Tasa PDIA 14 días</td>\n      <td>-</td>\n    </tr>\n    <tr>\n      <th>628</th>\n      <td>Municipio de Huelva sin especificar</td>\n      <td>Confirmados PDIA 7 días</td>\n      <td>0</td>\n    </tr>\n    <tr>\n      <th>629</th>\n      <td>Municipio de Huelva sin especificar</td>\n      <td>Total Confirmados</td>\n      <td>122</td>\n    </tr>\n    <tr>\n      <th>630</th>\n      <td>Municipio de Huelva sin especificar</td>\n      <td>Curados</td>\n      <td>90</td>\n    </tr>\n    <tr>\n      <th>631</th>\n      <td>Municipio de Huelva sin especificar</td>\n      <td>Fallecidos</td>\n      <td>1</td>\n    </tr>\n  </tbody>\n</table>\n<p>632 rows × 3 columns</p>\n</div>"
     },
     "metadata": {},
     "execution_count": 4
    }
   ],
   "source": [
    "df"
   ]
  },
  {
   "cell_type": "code",
   "execution_count": 5,
   "metadata": {},
   "outputs": [],
   "source": [
    "df['Valor'] = pd.to_numeric(df['Valor'],errors='coerce')"
   ]
  },
  {
   "cell_type": "code",
   "execution_count": 6,
   "metadata": {},
   "outputs": [],
   "source": [
    "dfAnterior = pd.read_csv('covid_huelva.csv', index_col='Lugar de residencia')"
   ]
  },
  {
   "cell_type": "code",
   "execution_count": 7,
   "metadata": {
    "tags": []
   },
   "outputs": [
    {
     "output_type": "stream",
     "name": "stdout",
     "text": [
      "Confirmados PCR en la provincia de Huelva:  10396.0\n"
     ]
    }
   ],
   "source": [
    "# Confirmados PCR provincia Huelva\n",
    "p = df[df['Lugar de residencia'] == 'Huelva'][df['Medida'] == 'Confirmados PDIA']['Valor'].values[0]\n",
    "print('Confirmados PCR en la provincia de Huelva: ', p)"
   ]
  },
  {
   "cell_type": "code",
   "execution_count": 8,
   "metadata": {
    "tags": []
   },
   "outputs": [
    {
     "output_type": "stream",
     "name": "stdout",
     "text": [
      "Confirmados PCR en Huelva capital:  2932.0\n"
     ]
    }
   ],
   "source": [
    "# Confirmados PCR Huelva capitalpd\n",
    "c = df[df['Lugar de residencia'] == 'Huelva (capital)'][df['Medida'] == 'Confirmados PDIA']['Valor'].values[0]\n",
    "print('Confirmados PCR en Huelva capital: ', c)"
   ]
  },
  {
   "cell_type": "code",
   "execution_count": 9,
   "metadata": {
    "tags": []
   },
   "outputs": [],
   "source": [
    "c7 = df[df['Lugar de residencia'] == 'Huelva (capital)'][df['Medida'] == 'Confirmados PDIA 7 días']['Valor'].values[0]\n",
    "c14 = df[df['Lugar de residencia'] == 'Huelva (capital)'][df['Medida'] == 'Confirmados PDIA 14 días']['Valor'].values[0]\n",
    "p = df[df['Lugar de residencia'] == 'Huelva (capital)'][df['Medida'] == 'Población']['Valor'].values[0]"
   ]
  },
  {
   "cell_type": "code",
   "execution_count": 10,
   "metadata": {
    "tags": []
   },
   "outputs": [
    {
     "output_type": "stream",
     "name": "stdout",
     "text": [
      "Huelva (capital)\n\nUn positivo PCR cada 1217 personas en los últimos 7 días \n\nUn positivo PCR cada 487 personas en los últimos 14 días\n"
     ]
    }
   ],
   "source": [
    "print('Huelva (capital)\\n')\n",
    "#print('Confirmados PCR 7 días x 1,000 habitantes: ', f\"{c7/(p/1000):.5f}\")\n",
    "print('Un positivo PCR cada', f\"{p/c7:.0f}\", 'personas en los últimos 7 días', '\\n')\n",
    "#print('Confirmados PCR 14 días x 1,000 habitantes: ', f\"{c14/(p/1000):.5f}\")\n",
    "print('Un positivo PCR cada', f\"{p/c14:.0f}\", 'personas en los últimos 14 días')"
   ]
  },
  {
   "cell_type": "code",
   "execution_count": 11,
   "metadata": {},
   "outputs": [],
   "source": [
    "filtro = ((df['Medida'] == 'Confirmados PDIA')| (df['Medida'] == 'Confirmados PDIA 7 días') | (df['Medida'] == 'Población' ) | (df['Medida'] == 'Confirmados PDIA 14 días')) & (df['Valor'] > 0)\n",
    "tabla = pd.pivot_table(df.loc[filtro], values='Valor', index='Lugar de residencia', columns='Medida').dropna()"
   ]
  },
  {
   "cell_type": "code",
   "execution_count": 12,
   "metadata": {},
   "outputs": [],
   "source": [
    "# Reorder columns\n",
    "tabla = tabla[['Confirmados PDIA', 'Confirmados PDIA 7 días', 'Confirmados PDIA 14 días', 'Población']]"
   ]
  },
  {
   "cell_type": "code",
   "execution_count": 13,
   "metadata": {},
   "outputs": [],
   "source": [
    "tabla['tasa7'] = tabla['Confirmados PDIA 7 días']/tabla['Población']*100000\n",
    "tabla['tasa14'] = tabla['Confirmados PDIA 14 días']/tabla['Población']*100000"
   ]
  },
  {
   "cell_type": "code",
   "execution_count": 14,
   "metadata": {},
   "outputs": [],
   "source": [
    "tabla['Diferencia PDIA'] = tabla['Confirmados PDIA'] - dfAnterior['Confirmados PDIA']"
   ]
  },
  {
   "cell_type": "code",
   "execution_count": 15,
   "metadata": {},
   "outputs": [
    {
     "output_type": "execute_result",
     "data": {
      "text/plain": [
       "Medida                             Confirmados PDIA  Confirmados PDIA 7 días  \\\n",
       "Lugar de residencia                                                            \n",
       "Huelva                                      10396.0                    362.0   \n",
       "Huelva-Costa                                 5810.0                    249.0   \n",
       "Condado-Campiña                              3199.0                    100.0   \n",
       "Huelva (capital)                             2932.0                    118.0   \n",
       "Isla Cristina                                 388.0                     46.0   \n",
       "Palma del Condado (La)                        492.0                     36.0   \n",
       "Lepe                                          912.0                     28.0   \n",
       "San Juan del Puerto                           147.0                     10.0   \n",
       "Aljaraque                                     399.0                     22.0   \n",
       "Palos de la Frontera                          222.0                     15.0   \n",
       "Ayamonte                                      320.0                      3.0   \n",
       "Sierra de Huelva-Andévalo Central            1266.0                     13.0   \n",
       "Gibraleón                                     351.0                      3.0   \n",
       "Bonares                                        45.0                      3.0   \n",
       "Bollullos Par del Condado                     238.0                      7.0   \n",
       "Moguer                                        339.0                     10.0   \n",
       "Punta Umbría                                  229.0                      4.0   \n",
       "Villanueva de los Castillejos                  60.0                      2.0   \n",
       "Cartaya                                       352.0                     23.0   \n",
       "Almonte                                       435.0                      2.0   \n",
       "Jabugo                                         36.0                      1.0   \n",
       "Beas                                           57.0                      1.0   \n",
       "Paterna del Campo                              61.0                      2.0   \n",
       "Villalba del Alcor                            103.0                      3.0   \n",
       "Alosno                                         42.0                      1.0   \n",
       "Aroche                                         54.0                      2.0   \n",
       "\n",
       "Medida                             Confirmados PDIA 14 días  Población  \\\n",
       "Lugar de residencia                                                      \n",
       "Huelva                                                985.0   510743.0   \n",
       "Huelva-Costa                                          653.0   288115.0   \n",
       "Condado-Campiña                                       286.0   155057.0   \n",
       "Huelva (capital)                                      295.0   143663.0   \n",
       "Isla Cristina                                         110.0    21264.0   \n",
       "Palma del Condado (La)                                 67.0    10761.0   \n",
       "Lepe                                                   85.0    27431.0   \n",
       "San Juan del Puerto                                    12.0     9300.0   \n",
       "Aljaraque                                              48.0    21260.0   \n",
       "Palos de la Frontera                                   35.0    11289.0   \n",
       "Ayamonte                                               26.0    20946.0   \n",
       "Sierra de Huelva-Andévalo Central                      44.0    67571.0   \n",
       "Gibraleón                                              16.0    12607.0   \n",
       "Bonares                                                 5.0     6058.0   \n",
       "Bollullos Par del Condado                              10.0    14272.0   \n",
       "Moguer                                                 52.0    22088.0   \n",
       "Punta Umbría                                           17.0    15242.0   \n",
       "Villanueva de los Castillejos                           6.0     2820.0   \n",
       "Cartaya                                                61.0    19974.0   \n",
       "Almonte                                                 9.0    24191.0   \n",
       "Jabugo                                                  2.0     2250.0   \n",
       "Beas                                                    6.0     4257.0   \n",
       "Paterna del Campo                                       9.0     3509.0   \n",
       "Villalba del Alcor                                     11.0     3338.0   \n",
       "Alosno                                                  1.0     3923.0   \n",
       "Aroche                                                  4.0     3073.0   \n",
       "\n",
       "Medida                                  tasa7      tasa14  Diferencia PDIA  \n",
       "Lugar de residencia                                                         \n",
       "Huelva                              70.877134  192.856290            101.0  \n",
       "Huelva-Costa                        86.423824  226.645610             64.0  \n",
       "Condado-Campiña                     64.492412  184.448300             34.0  \n",
       "Huelva (capital)                    82.136667  205.341668             29.0  \n",
       "Isla Cristina                      216.328066  517.306245             11.0  \n",
       "Palma del Condado (La)             334.541399  622.618716             10.0  \n",
       "Lepe                               102.074296  309.868397              8.0  \n",
       "San Juan del Puerto                107.526882  129.032258              7.0  \n",
       "Aljaraque                          103.480715  225.776105              7.0  \n",
       "Palos de la Frontera               132.872708  310.036319              5.0  \n",
       "Ayamonte                            14.322544  124.128712              3.0  \n",
       "Sierra de Huelva-Andévalo Central   19.239023   65.116692              3.0  \n",
       "Gibraleón                           23.796304  126.913619              2.0  \n",
       "Bonares                             49.521294   82.535490              2.0  \n",
       "Bollullos Par del Condado           49.047085   70.067265              2.0  \n",
       "Moguer                              45.273452  235.421949              2.0  \n",
       "Punta Umbría                        26.243275  111.533919              2.0  \n",
       "Villanueva de los Castillejos       70.921986  212.765957              2.0  \n",
       "Cartaya                            115.149695  305.397016              1.0  \n",
       "Almonte                              8.267538   37.203919              1.0  \n",
       "Jabugo                              44.444444   88.888889              1.0  \n",
       "Beas                                23.490721  140.944327              1.0  \n",
       "Paterna del Campo                   56.996295  256.483329              1.0  \n",
       "Villalba del Alcor                  89.874176  329.538646              1.0  \n",
       "Alosno                              25.490696   25.490696              NaN  \n",
       "Aroche                              65.082981  130.165962              NaN  "
      ],
      "text/html": "<div>\n<style scoped>\n    .dataframe tbody tr th:only-of-type {\n        vertical-align: middle;\n    }\n\n    .dataframe tbody tr th {\n        vertical-align: top;\n    }\n\n    .dataframe thead th {\n        text-align: right;\n    }\n</style>\n<table border=\"1\" class=\"dataframe\">\n  <thead>\n    <tr style=\"text-align: right;\">\n      <th>Medida</th>\n      <th>Confirmados PDIA</th>\n      <th>Confirmados PDIA 7 días</th>\n      <th>Confirmados PDIA 14 días</th>\n      <th>Población</th>\n      <th>tasa7</th>\n      <th>tasa14</th>\n      <th>Diferencia PDIA</th>\n    </tr>\n    <tr>\n      <th>Lugar de residencia</th>\n      <th></th>\n      <th></th>\n      <th></th>\n      <th></th>\n      <th></th>\n      <th></th>\n      <th></th>\n    </tr>\n  </thead>\n  <tbody>\n    <tr>\n      <th>Huelva</th>\n      <td>10396.0</td>\n      <td>362.0</td>\n      <td>985.0</td>\n      <td>510743.0</td>\n      <td>70.877134</td>\n      <td>192.856290</td>\n      <td>101.0</td>\n    </tr>\n    <tr>\n      <th>Huelva-Costa</th>\n      <td>5810.0</td>\n      <td>249.0</td>\n      <td>653.0</td>\n      <td>288115.0</td>\n      <td>86.423824</td>\n      <td>226.645610</td>\n      <td>64.0</td>\n    </tr>\n    <tr>\n      <th>Condado-Campiña</th>\n      <td>3199.0</td>\n      <td>100.0</td>\n      <td>286.0</td>\n      <td>155057.0</td>\n      <td>64.492412</td>\n      <td>184.448300</td>\n      <td>34.0</td>\n    </tr>\n    <tr>\n      <th>Huelva (capital)</th>\n      <td>2932.0</td>\n      <td>118.0</td>\n      <td>295.0</td>\n      <td>143663.0</td>\n      <td>82.136667</td>\n      <td>205.341668</td>\n      <td>29.0</td>\n    </tr>\n    <tr>\n      <th>Isla Cristina</th>\n      <td>388.0</td>\n      <td>46.0</td>\n      <td>110.0</td>\n      <td>21264.0</td>\n      <td>216.328066</td>\n      <td>517.306245</td>\n      <td>11.0</td>\n    </tr>\n    <tr>\n      <th>Palma del Condado (La)</th>\n      <td>492.0</td>\n      <td>36.0</td>\n      <td>67.0</td>\n      <td>10761.0</td>\n      <td>334.541399</td>\n      <td>622.618716</td>\n      <td>10.0</td>\n    </tr>\n    <tr>\n      <th>Lepe</th>\n      <td>912.0</td>\n      <td>28.0</td>\n      <td>85.0</td>\n      <td>27431.0</td>\n      <td>102.074296</td>\n      <td>309.868397</td>\n      <td>8.0</td>\n    </tr>\n    <tr>\n      <th>San Juan del Puerto</th>\n      <td>147.0</td>\n      <td>10.0</td>\n      <td>12.0</td>\n      <td>9300.0</td>\n      <td>107.526882</td>\n      <td>129.032258</td>\n      <td>7.0</td>\n    </tr>\n    <tr>\n      <th>Aljaraque</th>\n      <td>399.0</td>\n      <td>22.0</td>\n      <td>48.0</td>\n      <td>21260.0</td>\n      <td>103.480715</td>\n      <td>225.776105</td>\n      <td>7.0</td>\n    </tr>\n    <tr>\n      <th>Palos de la Frontera</th>\n      <td>222.0</td>\n      <td>15.0</td>\n      <td>35.0</td>\n      <td>11289.0</td>\n      <td>132.872708</td>\n      <td>310.036319</td>\n      <td>5.0</td>\n    </tr>\n    <tr>\n      <th>Ayamonte</th>\n      <td>320.0</td>\n      <td>3.0</td>\n      <td>26.0</td>\n      <td>20946.0</td>\n      <td>14.322544</td>\n      <td>124.128712</td>\n      <td>3.0</td>\n    </tr>\n    <tr>\n      <th>Sierra de Huelva-Andévalo Central</th>\n      <td>1266.0</td>\n      <td>13.0</td>\n      <td>44.0</td>\n      <td>67571.0</td>\n      <td>19.239023</td>\n      <td>65.116692</td>\n      <td>3.0</td>\n    </tr>\n    <tr>\n      <th>Gibraleón</th>\n      <td>351.0</td>\n      <td>3.0</td>\n      <td>16.0</td>\n      <td>12607.0</td>\n      <td>23.796304</td>\n      <td>126.913619</td>\n      <td>2.0</td>\n    </tr>\n    <tr>\n      <th>Bonares</th>\n      <td>45.0</td>\n      <td>3.0</td>\n      <td>5.0</td>\n      <td>6058.0</td>\n      <td>49.521294</td>\n      <td>82.535490</td>\n      <td>2.0</td>\n    </tr>\n    <tr>\n      <th>Bollullos Par del Condado</th>\n      <td>238.0</td>\n      <td>7.0</td>\n      <td>10.0</td>\n      <td>14272.0</td>\n      <td>49.047085</td>\n      <td>70.067265</td>\n      <td>2.0</td>\n    </tr>\n    <tr>\n      <th>Moguer</th>\n      <td>339.0</td>\n      <td>10.0</td>\n      <td>52.0</td>\n      <td>22088.0</td>\n      <td>45.273452</td>\n      <td>235.421949</td>\n      <td>2.0</td>\n    </tr>\n    <tr>\n      <th>Punta Umbría</th>\n      <td>229.0</td>\n      <td>4.0</td>\n      <td>17.0</td>\n      <td>15242.0</td>\n      <td>26.243275</td>\n      <td>111.533919</td>\n      <td>2.0</td>\n    </tr>\n    <tr>\n      <th>Villanueva de los Castillejos</th>\n      <td>60.0</td>\n      <td>2.0</td>\n      <td>6.0</td>\n      <td>2820.0</td>\n      <td>70.921986</td>\n      <td>212.765957</td>\n      <td>2.0</td>\n    </tr>\n    <tr>\n      <th>Cartaya</th>\n      <td>352.0</td>\n      <td>23.0</td>\n      <td>61.0</td>\n      <td>19974.0</td>\n      <td>115.149695</td>\n      <td>305.397016</td>\n      <td>1.0</td>\n    </tr>\n    <tr>\n      <th>Almonte</th>\n      <td>435.0</td>\n      <td>2.0</td>\n      <td>9.0</td>\n      <td>24191.0</td>\n      <td>8.267538</td>\n      <td>37.203919</td>\n      <td>1.0</td>\n    </tr>\n    <tr>\n      <th>Jabugo</th>\n      <td>36.0</td>\n      <td>1.0</td>\n      <td>2.0</td>\n      <td>2250.0</td>\n      <td>44.444444</td>\n      <td>88.888889</td>\n      <td>1.0</td>\n    </tr>\n    <tr>\n      <th>Beas</th>\n      <td>57.0</td>\n      <td>1.0</td>\n      <td>6.0</td>\n      <td>4257.0</td>\n      <td>23.490721</td>\n      <td>140.944327</td>\n      <td>1.0</td>\n    </tr>\n    <tr>\n      <th>Paterna del Campo</th>\n      <td>61.0</td>\n      <td>2.0</td>\n      <td>9.0</td>\n      <td>3509.0</td>\n      <td>56.996295</td>\n      <td>256.483329</td>\n      <td>1.0</td>\n    </tr>\n    <tr>\n      <th>Villalba del Alcor</th>\n      <td>103.0</td>\n      <td>3.0</td>\n      <td>11.0</td>\n      <td>3338.0</td>\n      <td>89.874176</td>\n      <td>329.538646</td>\n      <td>1.0</td>\n    </tr>\n    <tr>\n      <th>Alosno</th>\n      <td>42.0</td>\n      <td>1.0</td>\n      <td>1.0</td>\n      <td>3923.0</td>\n      <td>25.490696</td>\n      <td>25.490696</td>\n      <td>NaN</td>\n    </tr>\n    <tr>\n      <th>Aroche</th>\n      <td>54.0</td>\n      <td>2.0</td>\n      <td>4.0</td>\n      <td>3073.0</td>\n      <td>65.082981</td>\n      <td>130.165962</td>\n      <td>NaN</td>\n    </tr>\n  </tbody>\n</table>\n</div>"
     },
     "metadata": {},
     "execution_count": 15
    }
   ],
   "source": [
    "# Nuevos casos desde la última captura\n",
    "tabla[tabla['Diferencia PDIA'] != 0].sort_values('Diferencia PDIA', ascending=False)"
   ]
  },
  {
   "cell_type": "code",
   "execution_count": 16,
   "metadata": {},
   "outputs": [],
   "source": [
    "if tabla[tabla['Diferencia PDIA'] != 0]['Diferencia PDIA'].sum() > 0:\n",
    "  # Save to csv\n",
    "  tabla.to_csv('covid_huelva.csv', encoding='utf-8', header=True, index=True)  "
   ]
  },
  {
   "cell_type": "code",
   "execution_count": 17,
   "metadata": {},
   "outputs": [
    {
     "output_type": "execute_result",
     "data": {
      "text/plain": [
       "Medida                             Confirmados PDIA  Confirmados PDIA 7 días  \\\n",
       "Lugar de residencia                                                            \n",
       "Palma del Condado (La)                        492.0                     36.0   \n",
       "Isla Cristina                                 388.0                     46.0   \n",
       "Lucena del Puerto                              83.0                      1.0   \n",
       "San Bartolomé de la Torre                      44.0                      3.0   \n",
       "Cortelazor                                      2.0                      1.0   \n",
       "Villalba del Alcor                            103.0                      3.0   \n",
       "Palos de la Frontera                          222.0                     15.0   \n",
       "Lepe                                          912.0                     28.0   \n",
       "Cartaya                                       352.0                     23.0   \n",
       "Paterna del Campo                              61.0                      2.0   \n",
       "Sanlúcar de Guadiana                            4.0                      1.0   \n",
       "Moguer                                        339.0                     10.0   \n",
       "Huelva-Costa                                 5810.0                    249.0   \n",
       "Aljaraque                                     399.0                     22.0   \n",
       "Villanueva de los Castillejos                  60.0                      2.0   \n",
       "Huelva (capital)                             2932.0                    118.0   \n",
       "Huelva                                      10396.0                    362.0   \n",
       "Condado-Campiña                              3199.0                    100.0   \n",
       "Rociana del Condado                           116.0                      2.0   \n",
       "Campofrío                                       7.0                      1.0   \n",
       "Beas                                           57.0                      1.0   \n",
       "Alájar                                          4.0                      1.0   \n",
       "Aroche                                         54.0                      2.0   \n",
       "San Juan del Puerto                           147.0                     10.0   \n",
       "Gibraleón                                     351.0                      3.0   \n",
       "Ayamonte                                      320.0                      3.0   \n",
       "Punta Umbría                                  229.0                      4.0   \n",
       "Campillo (El)                                  54.0                      1.0   \n",
       "Puebla de Guzmán                               24.0                      1.0   \n",
       "Valverde del Camino                           271.0                      2.0   \n",
       "Jabugo                                         36.0                      1.0   \n",
       "Cerro de Andévalo (El)                         37.0                      1.0   \n",
       "Bonares                                        45.0                      3.0   \n",
       "Minas de Riotinto                              66.0                      2.0   \n",
       "Bollullos Par del Condado                     238.0                      7.0   \n",
       "Sierra de Huelva-Andévalo Central            1266.0                     13.0   \n",
       "Manzanilla                                     45.0                      1.0   \n",
       "Trigueros                                     128.0                      1.0   \n",
       "Nerva                                          87.0                      1.0   \n",
       "Almonte                                       435.0                      2.0   \n",
       "Alosno                                         42.0                      1.0   \n",
       "\n",
       "Medida                             Confirmados PDIA 14 días  Población  \\\n",
       "Lugar de residencia                                                      \n",
       "Palma del Condado (La)                                 67.0    10761.0   \n",
       "Isla Cristina                                         110.0    21264.0   \n",
       "Lucena del Puerto                                      17.0     3371.0   \n",
       "San Bartolomé de la Torre                              17.0     3736.0   \n",
       "Cortelazor                                              1.0      299.0   \n",
       "Villalba del Alcor                                     11.0     3338.0   \n",
       "Palos de la Frontera                                   35.0    11289.0   \n",
       "Lepe                                                   85.0    27431.0   \n",
       "Cartaya                                                61.0    19974.0   \n",
       "Paterna del Campo                                       9.0     3509.0   \n",
       "Sanlúcar de Guadiana                                    1.0      409.0   \n",
       "Moguer                                                 52.0    22088.0   \n",
       "Huelva-Costa                                          653.0   288115.0   \n",
       "Aljaraque                                              48.0    21260.0   \n",
       "Villanueva de los Castillejos                           6.0     2820.0   \n",
       "Huelva (capital)                                      295.0   143663.0   \n",
       "Huelva                                                985.0   510743.0   \n",
       "Condado-Campiña                                       286.0   155057.0   \n",
       "Rociana del Condado                                    12.0     7855.0   \n",
       "Campofrío                                               1.0      675.0   \n",
       "Beas                                                    6.0     4257.0   \n",
       "Alájar                                                  1.0      756.0   \n",
       "Aroche                                                  4.0     3073.0   \n",
       "San Juan del Puerto                                    12.0     9300.0   \n",
       "Gibraleón                                              16.0    12607.0   \n",
       "Ayamonte                                               26.0    20946.0   \n",
       "Punta Umbría                                           17.0    15242.0   \n",
       "Campillo (El)                                           2.0     2023.0   \n",
       "Puebla de Guzmán                                        3.0     3073.0   \n",
       "Valverde del Camino                                    12.0    12820.0   \n",
       "Jabugo                                                  2.0     2250.0   \n",
       "Cerro de Andévalo (El)                                  2.0     2364.0   \n",
       "Bonares                                                 5.0     6058.0   \n",
       "Minas de Riotinto                                       3.0     3848.0   \n",
       "Bollullos Par del Condado                              10.0    14272.0   \n",
       "Sierra de Huelva-Andévalo Central                      44.0    67571.0   \n",
       "Manzanilla                                              1.0     2135.0   \n",
       "Trigueros                                               3.0     7713.0   \n",
       "Nerva                                                   2.0     5235.0   \n",
       "Almonte                                                 9.0    24191.0   \n",
       "Alosno                                                  1.0     3923.0   \n",
       "\n",
       "Medida                                  tasa7      tasa14  Diferencia PDIA  \n",
       "Lugar de residencia                                                         \n",
       "Palma del Condado (La)             334.541399  622.618716             10.0  \n",
       "Isla Cristina                      216.328066  517.306245             11.0  \n",
       "Lucena del Puerto                   29.664788  504.301394              0.0  \n",
       "San Bartolomé de la Torre           80.299786  455.032120              0.0  \n",
       "Cortelazor                         334.448161  334.448161              0.0  \n",
       "Villalba del Alcor                  89.874176  329.538646              1.0  \n",
       "Palos de la Frontera               132.872708  310.036319              5.0  \n",
       "Lepe                               102.074296  309.868397              8.0  \n",
       "Cartaya                            115.149695  305.397016              1.0  \n",
       "Paterna del Campo                   56.996295  256.483329              1.0  \n",
       "Sanlúcar de Guadiana               244.498778  244.498778              0.0  \n",
       "Moguer                              45.273452  235.421949              2.0  \n",
       "Huelva-Costa                        86.423824  226.645610             64.0  \n",
       "Aljaraque                          103.480715  225.776105              7.0  \n",
       "Villanueva de los Castillejos       70.921986  212.765957              2.0  \n",
       "Huelva (capital)                    82.136667  205.341668             29.0  \n",
       "Huelva                              70.877134  192.856290            101.0  \n",
       "Condado-Campiña                     64.492412  184.448300             34.0  \n",
       "Rociana del Condado                 25.461489  152.768937              0.0  \n",
       "Campofrío                          148.148148  148.148148              0.0  \n",
       "Beas                                23.490721  140.944327              1.0  \n",
       "Alájar                             132.275132  132.275132              0.0  \n",
       "Aroche                              65.082981  130.165962              NaN  \n",
       "San Juan del Puerto                107.526882  129.032258              7.0  \n",
       "Gibraleón                           23.796304  126.913619              2.0  \n",
       "Ayamonte                            14.322544  124.128712              3.0  \n",
       "Punta Umbría                        26.243275  111.533919              2.0  \n",
       "Campillo (El)                       49.431537   98.863075              0.0  \n",
       "Puebla de Guzmán                    32.541490   97.624471              0.0  \n",
       "Valverde del Camino                 15.600624   93.603744              0.0  \n",
       "Jabugo                              44.444444   88.888889              1.0  \n",
       "Cerro de Andévalo (El)              42.301184   84.602369              0.0  \n",
       "Bonares                             49.521294   82.535490              2.0  \n",
       "Minas de Riotinto                   51.975052   77.962578              0.0  \n",
       "Bollullos Par del Condado           49.047085   70.067265              2.0  \n",
       "Sierra de Huelva-Andévalo Central   19.239023   65.116692              3.0  \n",
       "Manzanilla                          46.838407   46.838407              0.0  \n",
       "Trigueros                           12.965124   38.895371              0.0  \n",
       "Nerva                               19.102197   38.204394              0.0  \n",
       "Almonte                              8.267538   37.203919              1.0  \n",
       "Alosno                              25.490696   25.490696              NaN  "
      ],
      "text/html": "<div>\n<style scoped>\n    .dataframe tbody tr th:only-of-type {\n        vertical-align: middle;\n    }\n\n    .dataframe tbody tr th {\n        vertical-align: top;\n    }\n\n    .dataframe thead th {\n        text-align: right;\n    }\n</style>\n<table border=\"1\" class=\"dataframe\">\n  <thead>\n    <tr style=\"text-align: right;\">\n      <th>Medida</th>\n      <th>Confirmados PDIA</th>\n      <th>Confirmados PDIA 7 días</th>\n      <th>Confirmados PDIA 14 días</th>\n      <th>Población</th>\n      <th>tasa7</th>\n      <th>tasa14</th>\n      <th>Diferencia PDIA</th>\n    </tr>\n    <tr>\n      <th>Lugar de residencia</th>\n      <th></th>\n      <th></th>\n      <th></th>\n      <th></th>\n      <th></th>\n      <th></th>\n      <th></th>\n    </tr>\n  </thead>\n  <tbody>\n    <tr>\n      <th>Palma del Condado (La)</th>\n      <td>492.0</td>\n      <td>36.0</td>\n      <td>67.0</td>\n      <td>10761.0</td>\n      <td>334.541399</td>\n      <td>622.618716</td>\n      <td>10.0</td>\n    </tr>\n    <tr>\n      <th>Isla Cristina</th>\n      <td>388.0</td>\n      <td>46.0</td>\n      <td>110.0</td>\n      <td>21264.0</td>\n      <td>216.328066</td>\n      <td>517.306245</td>\n      <td>11.0</td>\n    </tr>\n    <tr>\n      <th>Lucena del Puerto</th>\n      <td>83.0</td>\n      <td>1.0</td>\n      <td>17.0</td>\n      <td>3371.0</td>\n      <td>29.664788</td>\n      <td>504.301394</td>\n      <td>0.0</td>\n    </tr>\n    <tr>\n      <th>San Bartolomé de la Torre</th>\n      <td>44.0</td>\n      <td>3.0</td>\n      <td>17.0</td>\n      <td>3736.0</td>\n      <td>80.299786</td>\n      <td>455.032120</td>\n      <td>0.0</td>\n    </tr>\n    <tr>\n      <th>Cortelazor</th>\n      <td>2.0</td>\n      <td>1.0</td>\n      <td>1.0</td>\n      <td>299.0</td>\n      <td>334.448161</td>\n      <td>334.448161</td>\n      <td>0.0</td>\n    </tr>\n    <tr>\n      <th>Villalba del Alcor</th>\n      <td>103.0</td>\n      <td>3.0</td>\n      <td>11.0</td>\n      <td>3338.0</td>\n      <td>89.874176</td>\n      <td>329.538646</td>\n      <td>1.0</td>\n    </tr>\n    <tr>\n      <th>Palos de la Frontera</th>\n      <td>222.0</td>\n      <td>15.0</td>\n      <td>35.0</td>\n      <td>11289.0</td>\n      <td>132.872708</td>\n      <td>310.036319</td>\n      <td>5.0</td>\n    </tr>\n    <tr>\n      <th>Lepe</th>\n      <td>912.0</td>\n      <td>28.0</td>\n      <td>85.0</td>\n      <td>27431.0</td>\n      <td>102.074296</td>\n      <td>309.868397</td>\n      <td>8.0</td>\n    </tr>\n    <tr>\n      <th>Cartaya</th>\n      <td>352.0</td>\n      <td>23.0</td>\n      <td>61.0</td>\n      <td>19974.0</td>\n      <td>115.149695</td>\n      <td>305.397016</td>\n      <td>1.0</td>\n    </tr>\n    <tr>\n      <th>Paterna del Campo</th>\n      <td>61.0</td>\n      <td>2.0</td>\n      <td>9.0</td>\n      <td>3509.0</td>\n      <td>56.996295</td>\n      <td>256.483329</td>\n      <td>1.0</td>\n    </tr>\n    <tr>\n      <th>Sanlúcar de Guadiana</th>\n      <td>4.0</td>\n      <td>1.0</td>\n      <td>1.0</td>\n      <td>409.0</td>\n      <td>244.498778</td>\n      <td>244.498778</td>\n      <td>0.0</td>\n    </tr>\n    <tr>\n      <th>Moguer</th>\n      <td>339.0</td>\n      <td>10.0</td>\n      <td>52.0</td>\n      <td>22088.0</td>\n      <td>45.273452</td>\n      <td>235.421949</td>\n      <td>2.0</td>\n    </tr>\n    <tr>\n      <th>Huelva-Costa</th>\n      <td>5810.0</td>\n      <td>249.0</td>\n      <td>653.0</td>\n      <td>288115.0</td>\n      <td>86.423824</td>\n      <td>226.645610</td>\n      <td>64.0</td>\n    </tr>\n    <tr>\n      <th>Aljaraque</th>\n      <td>399.0</td>\n      <td>22.0</td>\n      <td>48.0</td>\n      <td>21260.0</td>\n      <td>103.480715</td>\n      <td>225.776105</td>\n      <td>7.0</td>\n    </tr>\n    <tr>\n      <th>Villanueva de los Castillejos</th>\n      <td>60.0</td>\n      <td>2.0</td>\n      <td>6.0</td>\n      <td>2820.0</td>\n      <td>70.921986</td>\n      <td>212.765957</td>\n      <td>2.0</td>\n    </tr>\n    <tr>\n      <th>Huelva (capital)</th>\n      <td>2932.0</td>\n      <td>118.0</td>\n      <td>295.0</td>\n      <td>143663.0</td>\n      <td>82.136667</td>\n      <td>205.341668</td>\n      <td>29.0</td>\n    </tr>\n    <tr>\n      <th>Huelva</th>\n      <td>10396.0</td>\n      <td>362.0</td>\n      <td>985.0</td>\n      <td>510743.0</td>\n      <td>70.877134</td>\n      <td>192.856290</td>\n      <td>101.0</td>\n    </tr>\n    <tr>\n      <th>Condado-Campiña</th>\n      <td>3199.0</td>\n      <td>100.0</td>\n      <td>286.0</td>\n      <td>155057.0</td>\n      <td>64.492412</td>\n      <td>184.448300</td>\n      <td>34.0</td>\n    </tr>\n    <tr>\n      <th>Rociana del Condado</th>\n      <td>116.0</td>\n      <td>2.0</td>\n      <td>12.0</td>\n      <td>7855.0</td>\n      <td>25.461489</td>\n      <td>152.768937</td>\n      <td>0.0</td>\n    </tr>\n    <tr>\n      <th>Campofrío</th>\n      <td>7.0</td>\n      <td>1.0</td>\n      <td>1.0</td>\n      <td>675.0</td>\n      <td>148.148148</td>\n      <td>148.148148</td>\n      <td>0.0</td>\n    </tr>\n    <tr>\n      <th>Beas</th>\n      <td>57.0</td>\n      <td>1.0</td>\n      <td>6.0</td>\n      <td>4257.0</td>\n      <td>23.490721</td>\n      <td>140.944327</td>\n      <td>1.0</td>\n    </tr>\n    <tr>\n      <th>Alájar</th>\n      <td>4.0</td>\n      <td>1.0</td>\n      <td>1.0</td>\n      <td>756.0</td>\n      <td>132.275132</td>\n      <td>132.275132</td>\n      <td>0.0</td>\n    </tr>\n    <tr>\n      <th>Aroche</th>\n      <td>54.0</td>\n      <td>2.0</td>\n      <td>4.0</td>\n      <td>3073.0</td>\n      <td>65.082981</td>\n      <td>130.165962</td>\n      <td>NaN</td>\n    </tr>\n    <tr>\n      <th>San Juan del Puerto</th>\n      <td>147.0</td>\n      <td>10.0</td>\n      <td>12.0</td>\n      <td>9300.0</td>\n      <td>107.526882</td>\n      <td>129.032258</td>\n      <td>7.0</td>\n    </tr>\n    <tr>\n      <th>Gibraleón</th>\n      <td>351.0</td>\n      <td>3.0</td>\n      <td>16.0</td>\n      <td>12607.0</td>\n      <td>23.796304</td>\n      <td>126.913619</td>\n      <td>2.0</td>\n    </tr>\n    <tr>\n      <th>Ayamonte</th>\n      <td>320.0</td>\n      <td>3.0</td>\n      <td>26.0</td>\n      <td>20946.0</td>\n      <td>14.322544</td>\n      <td>124.128712</td>\n      <td>3.0</td>\n    </tr>\n    <tr>\n      <th>Punta Umbría</th>\n      <td>229.0</td>\n      <td>4.0</td>\n      <td>17.0</td>\n      <td>15242.0</td>\n      <td>26.243275</td>\n      <td>111.533919</td>\n      <td>2.0</td>\n    </tr>\n    <tr>\n      <th>Campillo (El)</th>\n      <td>54.0</td>\n      <td>1.0</td>\n      <td>2.0</td>\n      <td>2023.0</td>\n      <td>49.431537</td>\n      <td>98.863075</td>\n      <td>0.0</td>\n    </tr>\n    <tr>\n      <th>Puebla de Guzmán</th>\n      <td>24.0</td>\n      <td>1.0</td>\n      <td>3.0</td>\n      <td>3073.0</td>\n      <td>32.541490</td>\n      <td>97.624471</td>\n      <td>0.0</td>\n    </tr>\n    <tr>\n      <th>Valverde del Camino</th>\n      <td>271.0</td>\n      <td>2.0</td>\n      <td>12.0</td>\n      <td>12820.0</td>\n      <td>15.600624</td>\n      <td>93.603744</td>\n      <td>0.0</td>\n    </tr>\n    <tr>\n      <th>Jabugo</th>\n      <td>36.0</td>\n      <td>1.0</td>\n      <td>2.0</td>\n      <td>2250.0</td>\n      <td>44.444444</td>\n      <td>88.888889</td>\n      <td>1.0</td>\n    </tr>\n    <tr>\n      <th>Cerro de Andévalo (El)</th>\n      <td>37.0</td>\n      <td>1.0</td>\n      <td>2.0</td>\n      <td>2364.0</td>\n      <td>42.301184</td>\n      <td>84.602369</td>\n      <td>0.0</td>\n    </tr>\n    <tr>\n      <th>Bonares</th>\n      <td>45.0</td>\n      <td>3.0</td>\n      <td>5.0</td>\n      <td>6058.0</td>\n      <td>49.521294</td>\n      <td>82.535490</td>\n      <td>2.0</td>\n    </tr>\n    <tr>\n      <th>Minas de Riotinto</th>\n      <td>66.0</td>\n      <td>2.0</td>\n      <td>3.0</td>\n      <td>3848.0</td>\n      <td>51.975052</td>\n      <td>77.962578</td>\n      <td>0.0</td>\n    </tr>\n    <tr>\n      <th>Bollullos Par del Condado</th>\n      <td>238.0</td>\n      <td>7.0</td>\n      <td>10.0</td>\n      <td>14272.0</td>\n      <td>49.047085</td>\n      <td>70.067265</td>\n      <td>2.0</td>\n    </tr>\n    <tr>\n      <th>Sierra de Huelva-Andévalo Central</th>\n      <td>1266.0</td>\n      <td>13.0</td>\n      <td>44.0</td>\n      <td>67571.0</td>\n      <td>19.239023</td>\n      <td>65.116692</td>\n      <td>3.0</td>\n    </tr>\n    <tr>\n      <th>Manzanilla</th>\n      <td>45.0</td>\n      <td>1.0</td>\n      <td>1.0</td>\n      <td>2135.0</td>\n      <td>46.838407</td>\n      <td>46.838407</td>\n      <td>0.0</td>\n    </tr>\n    <tr>\n      <th>Trigueros</th>\n      <td>128.0</td>\n      <td>1.0</td>\n      <td>3.0</td>\n      <td>7713.0</td>\n      <td>12.965124</td>\n      <td>38.895371</td>\n      <td>0.0</td>\n    </tr>\n    <tr>\n      <th>Nerva</th>\n      <td>87.0</td>\n      <td>1.0</td>\n      <td>2.0</td>\n      <td>5235.0</td>\n      <td>19.102197</td>\n      <td>38.204394</td>\n      <td>0.0</td>\n    </tr>\n    <tr>\n      <th>Almonte</th>\n      <td>435.0</td>\n      <td>2.0</td>\n      <td>9.0</td>\n      <td>24191.0</td>\n      <td>8.267538</td>\n      <td>37.203919</td>\n      <td>1.0</td>\n    </tr>\n    <tr>\n      <th>Alosno</th>\n      <td>42.0</td>\n      <td>1.0</td>\n      <td>1.0</td>\n      <td>3923.0</td>\n      <td>25.490696</td>\n      <td>25.490696</td>\n      <td>NaN</td>\n    </tr>\n  </tbody>\n</table>\n</div>"
     },
     "metadata": {},
     "execution_count": 17
    }
   ],
   "source": [
    "tabla.sort_values('tasa14', ascending=False)"
   ]
  },
  {
   "cell_type": "code",
   "execution_count": 18,
   "metadata": {},
   "outputs": [
    {
     "output_type": "execute_result",
     "data": {
      "text/plain": [
       "Medida                             Confirmados PDIA  Confirmados PDIA 7 días  \\\n",
       "Lugar de residencia                                                            \n",
       "Lucena del Puerto                              83.0                      1.0   \n",
       "Ayamonte                                      320.0                      3.0   \n",
       "Valverde del Camino                           271.0                      2.0   \n",
       "Rociana del Condado                           116.0                      2.0   \n",
       "Beas                                           57.0                      1.0   \n",
       "San Bartolomé de la Torre                      44.0                      3.0   \n",
       "Gibraleón                                     351.0                      3.0   \n",
       "Moguer                                        339.0                     10.0   \n",
       "Paterna del Campo                              61.0                      2.0   \n",
       "Almonte                                       435.0                      2.0   \n",
       "Punta Umbría                                  229.0                      4.0   \n",
       "Villalba del Alcor                            103.0                      3.0   \n",
       "Sierra de Huelva-Andévalo Central            1266.0                     13.0   \n",
       "Lepe                                          912.0                     28.0   \n",
       "Villanueva de los Castillejos                  60.0                      2.0   \n",
       "Puebla de Guzmán                               24.0                      1.0   \n",
       "Trigueros                                     128.0                      1.0   \n",
       "Condado-Campiña                              3199.0                    100.0   \n",
       "Huelva                                      10396.0                    362.0   \n",
       "Cartaya                                       352.0                     23.0   \n",
       "Huelva-Costa                                 5810.0                    249.0   \n",
       "Huelva (capital)                             2932.0                    118.0   \n",
       "Isla Cristina                                 388.0                     46.0   \n",
       "Palos de la Frontera                          222.0                     15.0   \n",
       "Aljaraque                                     399.0                     22.0   \n",
       "Nerva                                          87.0                      1.0   \n",
       "Cerro de Andévalo (El)                         37.0                      1.0   \n",
       "Campillo (El)                                  54.0                      1.0   \n",
       "Aroche                                         54.0                      2.0   \n",
       "Jabugo                                         36.0                      1.0   \n",
       "Palma del Condado (La)                        492.0                     36.0   \n",
       "Bonares                                        45.0                      3.0   \n",
       "Minas de Riotinto                              66.0                      2.0   \n",
       "Bollullos Par del Condado                     238.0                      7.0   \n",
       "San Juan del Puerto                           147.0                     10.0   \n",
       "Manzanilla                                     45.0                      1.0   \n",
       "Cortelazor                                      2.0                      1.0   \n",
       "Campofrío                                       7.0                      1.0   \n",
       "Sanlúcar de Guadiana                            4.0                      1.0   \n",
       "Alájar                                          4.0                      1.0   \n",
       "Alosno                                         42.0                      1.0   \n",
       "\n",
       "Medida                             Confirmados PDIA 14 días  Población  \\\n",
       "Lugar de residencia                                                      \n",
       "Lucena del Puerto                                      17.0     3371.0   \n",
       "Ayamonte                                               26.0    20946.0   \n",
       "Valverde del Camino                                    12.0    12820.0   \n",
       "Rociana del Condado                                    12.0     7855.0   \n",
       "Beas                                                    6.0     4257.0   \n",
       "San Bartolomé de la Torre                              17.0     3736.0   \n",
       "Gibraleón                                              16.0    12607.0   \n",
       "Moguer                                                 52.0    22088.0   \n",
       "Paterna del Campo                                       9.0     3509.0   \n",
       "Almonte                                                 9.0    24191.0   \n",
       "Punta Umbría                                           17.0    15242.0   \n",
       "Villalba del Alcor                                     11.0     3338.0   \n",
       "Sierra de Huelva-Andévalo Central                      44.0    67571.0   \n",
       "Lepe                                                   85.0    27431.0   \n",
       "Villanueva de los Castillejos                           6.0     2820.0   \n",
       "Puebla de Guzmán                                        3.0     3073.0   \n",
       "Trigueros                                               3.0     7713.0   \n",
       "Condado-Campiña                                       286.0   155057.0   \n",
       "Huelva                                                985.0   510743.0   \n",
       "Cartaya                                                61.0    19974.0   \n",
       "Huelva-Costa                                          653.0   288115.0   \n",
       "Huelva (capital)                                      295.0   143663.0   \n",
       "Isla Cristina                                         110.0    21264.0   \n",
       "Palos de la Frontera                                   35.0    11289.0   \n",
       "Aljaraque                                              48.0    21260.0   \n",
       "Nerva                                                   2.0     5235.0   \n",
       "Cerro de Andévalo (El)                                  2.0     2364.0   \n",
       "Campillo (El)                                           2.0     2023.0   \n",
       "Aroche                                                  4.0     3073.0   \n",
       "Jabugo                                                  2.0     2250.0   \n",
       "Palma del Condado (La)                                 67.0    10761.0   \n",
       "Bonares                                                 5.0     6058.0   \n",
       "Minas de Riotinto                                       3.0     3848.0   \n",
       "Bollullos Par del Condado                              10.0    14272.0   \n",
       "San Juan del Puerto                                    12.0     9300.0   \n",
       "Manzanilla                                              1.0     2135.0   \n",
       "Cortelazor                                              1.0      299.0   \n",
       "Campofrío                                               1.0      675.0   \n",
       "Sanlúcar de Guadiana                                    1.0      409.0   \n",
       "Alájar                                                  1.0      756.0   \n",
       "Alosno                                                  1.0     3923.0   \n",
       "\n",
       "Medida                                  tasa7      tasa14  Diferencia PDIA  \\\n",
       "Lugar de residencia                                                          \n",
       "Lucena del Puerto                   29.664788  504.301394              0.0   \n",
       "Ayamonte                            14.322544  124.128712              3.0   \n",
       "Valverde del Camino                 15.600624   93.603744              0.0   \n",
       "Rociana del Condado                 25.461489  152.768937              0.0   \n",
       "Beas                                23.490721  140.944327              1.0   \n",
       "San Bartolomé de la Torre           80.299786  455.032120              0.0   \n",
       "Gibraleón                           23.796304  126.913619              2.0   \n",
       "Moguer                              45.273452  235.421949              2.0   \n",
       "Paterna del Campo                   56.996295  256.483329              1.0   \n",
       "Almonte                              8.267538   37.203919              1.0   \n",
       "Punta Umbría                        26.243275  111.533919              2.0   \n",
       "Villalba del Alcor                  89.874176  329.538646              1.0   \n",
       "Sierra de Huelva-Andévalo Central   19.239023   65.116692              3.0   \n",
       "Lepe                               102.074296  309.868397              8.0   \n",
       "Villanueva de los Castillejos       70.921986  212.765957              2.0   \n",
       "Puebla de Guzmán                    32.541490   97.624471              0.0   \n",
       "Trigueros                           12.965124   38.895371              0.0   \n",
       "Condado-Campiña                     64.492412  184.448300             34.0   \n",
       "Huelva                              70.877134  192.856290            101.0   \n",
       "Cartaya                            115.149695  305.397016              1.0   \n",
       "Huelva-Costa                        86.423824  226.645610             64.0   \n",
       "Huelva (capital)                    82.136667  205.341668             29.0   \n",
       "Isla Cristina                      216.328066  517.306245             11.0   \n",
       "Palos de la Frontera               132.872708  310.036319              5.0   \n",
       "Aljaraque                          103.480715  225.776105              7.0   \n",
       "Nerva                               19.102197   38.204394              0.0   \n",
       "Cerro de Andévalo (El)              42.301184   84.602369              0.0   \n",
       "Campillo (El)                       49.431537   98.863075              0.0   \n",
       "Aroche                              65.082981  130.165962              0.0   \n",
       "Jabugo                              44.444444   88.888889              1.0   \n",
       "Palma del Condado (La)             334.541399  622.618716             10.0   \n",
       "Bonares                             49.521294   82.535490              2.0   \n",
       "Minas de Riotinto                   51.975052   77.962578              0.0   \n",
       "Bollullos Par del Condado           49.047085   70.067265              2.0   \n",
       "San Juan del Puerto                107.526882  129.032258              7.0   \n",
       "Manzanilla                          46.838407   46.838407              0.0   \n",
       "Cortelazor                         334.448161  334.448161              0.0   \n",
       "Campofrío                          148.148148  148.148148              0.0   \n",
       "Sanlúcar de Guadiana               244.498778  244.498778              0.0   \n",
       "Alájar                             132.275132  132.275132              0.0   \n",
       "Alosno                              25.490696   25.490696              0.0   \n",
       "\n",
       "Medida                                 7/14  \n",
       "Lugar de residencia                          \n",
       "Lucena del Puerto                  0.058824  \n",
       "Ayamonte                           0.115385  \n",
       "Valverde del Camino                0.166667  \n",
       "Rociana del Condado                0.166667  \n",
       "Beas                               0.166667  \n",
       "San Bartolomé de la Torre          0.176471  \n",
       "Gibraleón                          0.187500  \n",
       "Moguer                             0.192308  \n",
       "Paterna del Campo                  0.222222  \n",
       "Almonte                            0.222222  \n",
       "Punta Umbría                       0.235294  \n",
       "Villalba del Alcor                 0.272727  \n",
       "Sierra de Huelva-Andévalo Central  0.295455  \n",
       "Lepe                               0.329412  \n",
       "Villanueva de los Castillejos      0.333333  \n",
       "Puebla de Guzmán                   0.333333  \n",
       "Trigueros                          0.333333  \n",
       "Condado-Campiña                    0.349650  \n",
       "Huelva                             0.367513  \n",
       "Cartaya                            0.377049  \n",
       "Huelva-Costa                       0.381317  \n",
       "Huelva (capital)                   0.400000  \n",
       "Isla Cristina                      0.418182  \n",
       "Palos de la Frontera               0.428571  \n",
       "Aljaraque                          0.458333  \n",
       "Nerva                              0.500000  \n",
       "Cerro de Andévalo (El)             0.500000  \n",
       "Campillo (El)                      0.500000  \n",
       "Aroche                             0.500000  \n",
       "Jabugo                             0.500000  \n",
       "Palma del Condado (La)             0.537313  \n",
       "Bonares                            0.600000  \n",
       "Minas de Riotinto                  0.666667  \n",
       "Bollullos Par del Condado          0.700000  \n",
       "San Juan del Puerto                0.833333  \n",
       "Manzanilla                         1.000000  \n",
       "Cortelazor                         1.000000  \n",
       "Campofrío                          1.000000  \n",
       "Sanlúcar de Guadiana               1.000000  \n",
       "Alájar                             1.000000  \n",
       "Alosno                             1.000000  "
      ],
      "text/html": "<div>\n<style scoped>\n    .dataframe tbody tr th:only-of-type {\n        vertical-align: middle;\n    }\n\n    .dataframe tbody tr th {\n        vertical-align: top;\n    }\n\n    .dataframe thead th {\n        text-align: right;\n    }\n</style>\n<table border=\"1\" class=\"dataframe\">\n  <thead>\n    <tr style=\"text-align: right;\">\n      <th>Medida</th>\n      <th>Confirmados PDIA</th>\n      <th>Confirmados PDIA 7 días</th>\n      <th>Confirmados PDIA 14 días</th>\n      <th>Población</th>\n      <th>tasa7</th>\n      <th>tasa14</th>\n      <th>Diferencia PDIA</th>\n      <th>7/14</th>\n    </tr>\n    <tr>\n      <th>Lugar de residencia</th>\n      <th></th>\n      <th></th>\n      <th></th>\n      <th></th>\n      <th></th>\n      <th></th>\n      <th></th>\n      <th></th>\n    </tr>\n  </thead>\n  <tbody>\n    <tr>\n      <th>Lucena del Puerto</th>\n      <td>83.0</td>\n      <td>1.0</td>\n      <td>17.0</td>\n      <td>3371.0</td>\n      <td>29.664788</td>\n      <td>504.301394</td>\n      <td>0.0</td>\n      <td>0.058824</td>\n    </tr>\n    <tr>\n      <th>Ayamonte</th>\n      <td>320.0</td>\n      <td>3.0</td>\n      <td>26.0</td>\n      <td>20946.0</td>\n      <td>14.322544</td>\n      <td>124.128712</td>\n      <td>3.0</td>\n      <td>0.115385</td>\n    </tr>\n    <tr>\n      <th>Valverde del Camino</th>\n      <td>271.0</td>\n      <td>2.0</td>\n      <td>12.0</td>\n      <td>12820.0</td>\n      <td>15.600624</td>\n      <td>93.603744</td>\n      <td>0.0</td>\n      <td>0.166667</td>\n    </tr>\n    <tr>\n      <th>Rociana del Condado</th>\n      <td>116.0</td>\n      <td>2.0</td>\n      <td>12.0</td>\n      <td>7855.0</td>\n      <td>25.461489</td>\n      <td>152.768937</td>\n      <td>0.0</td>\n      <td>0.166667</td>\n    </tr>\n    <tr>\n      <th>Beas</th>\n      <td>57.0</td>\n      <td>1.0</td>\n      <td>6.0</td>\n      <td>4257.0</td>\n      <td>23.490721</td>\n      <td>140.944327</td>\n      <td>1.0</td>\n      <td>0.166667</td>\n    </tr>\n    <tr>\n      <th>San Bartolomé de la Torre</th>\n      <td>44.0</td>\n      <td>3.0</td>\n      <td>17.0</td>\n      <td>3736.0</td>\n      <td>80.299786</td>\n      <td>455.032120</td>\n      <td>0.0</td>\n      <td>0.176471</td>\n    </tr>\n    <tr>\n      <th>Gibraleón</th>\n      <td>351.0</td>\n      <td>3.0</td>\n      <td>16.0</td>\n      <td>12607.0</td>\n      <td>23.796304</td>\n      <td>126.913619</td>\n      <td>2.0</td>\n      <td>0.187500</td>\n    </tr>\n    <tr>\n      <th>Moguer</th>\n      <td>339.0</td>\n      <td>10.0</td>\n      <td>52.0</td>\n      <td>22088.0</td>\n      <td>45.273452</td>\n      <td>235.421949</td>\n      <td>2.0</td>\n      <td>0.192308</td>\n    </tr>\n    <tr>\n      <th>Paterna del Campo</th>\n      <td>61.0</td>\n      <td>2.0</td>\n      <td>9.0</td>\n      <td>3509.0</td>\n      <td>56.996295</td>\n      <td>256.483329</td>\n      <td>1.0</td>\n      <td>0.222222</td>\n    </tr>\n    <tr>\n      <th>Almonte</th>\n      <td>435.0</td>\n      <td>2.0</td>\n      <td>9.0</td>\n      <td>24191.0</td>\n      <td>8.267538</td>\n      <td>37.203919</td>\n      <td>1.0</td>\n      <td>0.222222</td>\n    </tr>\n    <tr>\n      <th>Punta Umbría</th>\n      <td>229.0</td>\n      <td>4.0</td>\n      <td>17.0</td>\n      <td>15242.0</td>\n      <td>26.243275</td>\n      <td>111.533919</td>\n      <td>2.0</td>\n      <td>0.235294</td>\n    </tr>\n    <tr>\n      <th>Villalba del Alcor</th>\n      <td>103.0</td>\n      <td>3.0</td>\n      <td>11.0</td>\n      <td>3338.0</td>\n      <td>89.874176</td>\n      <td>329.538646</td>\n      <td>1.0</td>\n      <td>0.272727</td>\n    </tr>\n    <tr>\n      <th>Sierra de Huelva-Andévalo Central</th>\n      <td>1266.0</td>\n      <td>13.0</td>\n      <td>44.0</td>\n      <td>67571.0</td>\n      <td>19.239023</td>\n      <td>65.116692</td>\n      <td>3.0</td>\n      <td>0.295455</td>\n    </tr>\n    <tr>\n      <th>Lepe</th>\n      <td>912.0</td>\n      <td>28.0</td>\n      <td>85.0</td>\n      <td>27431.0</td>\n      <td>102.074296</td>\n      <td>309.868397</td>\n      <td>8.0</td>\n      <td>0.329412</td>\n    </tr>\n    <tr>\n      <th>Villanueva de los Castillejos</th>\n      <td>60.0</td>\n      <td>2.0</td>\n      <td>6.0</td>\n      <td>2820.0</td>\n      <td>70.921986</td>\n      <td>212.765957</td>\n      <td>2.0</td>\n      <td>0.333333</td>\n    </tr>\n    <tr>\n      <th>Puebla de Guzmán</th>\n      <td>24.0</td>\n      <td>1.0</td>\n      <td>3.0</td>\n      <td>3073.0</td>\n      <td>32.541490</td>\n      <td>97.624471</td>\n      <td>0.0</td>\n      <td>0.333333</td>\n    </tr>\n    <tr>\n      <th>Trigueros</th>\n      <td>128.0</td>\n      <td>1.0</td>\n      <td>3.0</td>\n      <td>7713.0</td>\n      <td>12.965124</td>\n      <td>38.895371</td>\n      <td>0.0</td>\n      <td>0.333333</td>\n    </tr>\n    <tr>\n      <th>Condado-Campiña</th>\n      <td>3199.0</td>\n      <td>100.0</td>\n      <td>286.0</td>\n      <td>155057.0</td>\n      <td>64.492412</td>\n      <td>184.448300</td>\n      <td>34.0</td>\n      <td>0.349650</td>\n    </tr>\n    <tr>\n      <th>Huelva</th>\n      <td>10396.0</td>\n      <td>362.0</td>\n      <td>985.0</td>\n      <td>510743.0</td>\n      <td>70.877134</td>\n      <td>192.856290</td>\n      <td>101.0</td>\n      <td>0.367513</td>\n    </tr>\n    <tr>\n      <th>Cartaya</th>\n      <td>352.0</td>\n      <td>23.0</td>\n      <td>61.0</td>\n      <td>19974.0</td>\n      <td>115.149695</td>\n      <td>305.397016</td>\n      <td>1.0</td>\n      <td>0.377049</td>\n    </tr>\n    <tr>\n      <th>Huelva-Costa</th>\n      <td>5810.0</td>\n      <td>249.0</td>\n      <td>653.0</td>\n      <td>288115.0</td>\n      <td>86.423824</td>\n      <td>226.645610</td>\n      <td>64.0</td>\n      <td>0.381317</td>\n    </tr>\n    <tr>\n      <th>Huelva (capital)</th>\n      <td>2932.0</td>\n      <td>118.0</td>\n      <td>295.0</td>\n      <td>143663.0</td>\n      <td>82.136667</td>\n      <td>205.341668</td>\n      <td>29.0</td>\n      <td>0.400000</td>\n    </tr>\n    <tr>\n      <th>Isla Cristina</th>\n      <td>388.0</td>\n      <td>46.0</td>\n      <td>110.0</td>\n      <td>21264.0</td>\n      <td>216.328066</td>\n      <td>517.306245</td>\n      <td>11.0</td>\n      <td>0.418182</td>\n    </tr>\n    <tr>\n      <th>Palos de la Frontera</th>\n      <td>222.0</td>\n      <td>15.0</td>\n      <td>35.0</td>\n      <td>11289.0</td>\n      <td>132.872708</td>\n      <td>310.036319</td>\n      <td>5.0</td>\n      <td>0.428571</td>\n    </tr>\n    <tr>\n      <th>Aljaraque</th>\n      <td>399.0</td>\n      <td>22.0</td>\n      <td>48.0</td>\n      <td>21260.0</td>\n      <td>103.480715</td>\n      <td>225.776105</td>\n      <td>7.0</td>\n      <td>0.458333</td>\n    </tr>\n    <tr>\n      <th>Nerva</th>\n      <td>87.0</td>\n      <td>1.0</td>\n      <td>2.0</td>\n      <td>5235.0</td>\n      <td>19.102197</td>\n      <td>38.204394</td>\n      <td>0.0</td>\n      <td>0.500000</td>\n    </tr>\n    <tr>\n      <th>Cerro de Andévalo (El)</th>\n      <td>37.0</td>\n      <td>1.0</td>\n      <td>2.0</td>\n      <td>2364.0</td>\n      <td>42.301184</td>\n      <td>84.602369</td>\n      <td>0.0</td>\n      <td>0.500000</td>\n    </tr>\n    <tr>\n      <th>Campillo (El)</th>\n      <td>54.0</td>\n      <td>1.0</td>\n      <td>2.0</td>\n      <td>2023.0</td>\n      <td>49.431537</td>\n      <td>98.863075</td>\n      <td>0.0</td>\n      <td>0.500000</td>\n    </tr>\n    <tr>\n      <th>Aroche</th>\n      <td>54.0</td>\n      <td>2.0</td>\n      <td>4.0</td>\n      <td>3073.0</td>\n      <td>65.082981</td>\n      <td>130.165962</td>\n      <td>0.0</td>\n      <td>0.500000</td>\n    </tr>\n    <tr>\n      <th>Jabugo</th>\n      <td>36.0</td>\n      <td>1.0</td>\n      <td>2.0</td>\n      <td>2250.0</td>\n      <td>44.444444</td>\n      <td>88.888889</td>\n      <td>1.0</td>\n      <td>0.500000</td>\n    </tr>\n    <tr>\n      <th>Palma del Condado (La)</th>\n      <td>492.0</td>\n      <td>36.0</td>\n      <td>67.0</td>\n      <td>10761.0</td>\n      <td>334.541399</td>\n      <td>622.618716</td>\n      <td>10.0</td>\n      <td>0.537313</td>\n    </tr>\n    <tr>\n      <th>Bonares</th>\n      <td>45.0</td>\n      <td>3.0</td>\n      <td>5.0</td>\n      <td>6058.0</td>\n      <td>49.521294</td>\n      <td>82.535490</td>\n      <td>2.0</td>\n      <td>0.600000</td>\n    </tr>\n    <tr>\n      <th>Minas de Riotinto</th>\n      <td>66.0</td>\n      <td>2.0</td>\n      <td>3.0</td>\n      <td>3848.0</td>\n      <td>51.975052</td>\n      <td>77.962578</td>\n      <td>0.0</td>\n      <td>0.666667</td>\n    </tr>\n    <tr>\n      <th>Bollullos Par del Condado</th>\n      <td>238.0</td>\n      <td>7.0</td>\n      <td>10.0</td>\n      <td>14272.0</td>\n      <td>49.047085</td>\n      <td>70.067265</td>\n      <td>2.0</td>\n      <td>0.700000</td>\n    </tr>\n    <tr>\n      <th>San Juan del Puerto</th>\n      <td>147.0</td>\n      <td>10.0</td>\n      <td>12.0</td>\n      <td>9300.0</td>\n      <td>107.526882</td>\n      <td>129.032258</td>\n      <td>7.0</td>\n      <td>0.833333</td>\n    </tr>\n    <tr>\n      <th>Manzanilla</th>\n      <td>45.0</td>\n      <td>1.0</td>\n      <td>1.0</td>\n      <td>2135.0</td>\n      <td>46.838407</td>\n      <td>46.838407</td>\n      <td>0.0</td>\n      <td>1.000000</td>\n    </tr>\n    <tr>\n      <th>Cortelazor</th>\n      <td>2.0</td>\n      <td>1.0</td>\n      <td>1.0</td>\n      <td>299.0</td>\n      <td>334.448161</td>\n      <td>334.448161</td>\n      <td>0.0</td>\n      <td>1.000000</td>\n    </tr>\n    <tr>\n      <th>Campofrío</th>\n      <td>7.0</td>\n      <td>1.0</td>\n      <td>1.0</td>\n      <td>675.0</td>\n      <td>148.148148</td>\n      <td>148.148148</td>\n      <td>0.0</td>\n      <td>1.000000</td>\n    </tr>\n    <tr>\n      <th>Sanlúcar de Guadiana</th>\n      <td>4.0</td>\n      <td>1.0</td>\n      <td>1.0</td>\n      <td>409.0</td>\n      <td>244.498778</td>\n      <td>244.498778</td>\n      <td>0.0</td>\n      <td>1.000000</td>\n    </tr>\n    <tr>\n      <th>Alájar</th>\n      <td>4.0</td>\n      <td>1.0</td>\n      <td>1.0</td>\n      <td>756.0</td>\n      <td>132.275132</td>\n      <td>132.275132</td>\n      <td>0.0</td>\n      <td>1.000000</td>\n    </tr>\n    <tr>\n      <th>Alosno</th>\n      <td>42.0</td>\n      <td>1.0</td>\n      <td>1.0</td>\n      <td>3923.0</td>\n      <td>25.490696</td>\n      <td>25.490696</td>\n      <td>0.0</td>\n      <td>1.000000</td>\n    </tr>\n  </tbody>\n</table>\n</div>"
     },
     "metadata": {},
     "execution_count": 18
    }
   ],
   "source": [
    "# Peso de la tasa de la última semana en relación con la tasa a 14 días \n",
    "# Mejor cuanto menor. Valor 1 significa que no había casos antes de 7 días.\n",
    "tabla['7/14'] = tabla['tasa7'] / tabla['tasa14']\n",
    "tabla.fillna(0).sort_values('7/14', ascending=True)"
   ]
  },
  {
   "cell_type": "code",
   "execution_count": null,
   "metadata": {},
   "outputs": [],
   "source": []
  }
 ]
}