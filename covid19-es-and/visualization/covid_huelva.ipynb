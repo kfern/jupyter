{
 "metadata": {
  "language_info": {
   "codemirror_mode": {
    "name": "ipython",
    "version": 3
   },
   "file_extension": ".py",
   "mimetype": "text/x-python",
   "name": "python",
   "nbconvert_exporter": "python",
   "pygments_lexer": "ipython3",
   "version": "3.8.6-final"
  },
  "orig_nbformat": 2,
  "kernelspec": {
   "name": "python38564bit75945252d6ba481bad4868286020c89e",
   "display_name": "Python 3.8.5 64-bit",
   "language": "python"
  }
 },
 "nbformat": 4,
 "nbformat_minor": 2,
 "cells": [
  {
   "cell_type": "code",
   "execution_count": 1,
   "metadata": {},
   "outputs": [],
   "source": [
    "import pandas as pd\n",
    "pd.set_option('display.max_rows', None) # Print all rows"
   ]
  },
  {
   "cell_type": "code",
   "execution_count": 2,
   "metadata": {},
   "outputs": [],
   "source": [
    "# FIX SSL: CERTIFICATE_VERIFY_FAILED with Python3\n",
    "# https://stackoverflow.com/a/49174340\n",
    "import ssl\n",
    "\n",
    "ssl._create_default_https_context = ssl._create_unverified_context"
   ]
  },
  {
   "cell_type": "code",
   "execution_count": 3,
   "metadata": {},
   "outputs": [],
   "source": [
    "url = 'https://www.juntadeandalucia.es/institutodeestadisticaycartografia/badea/stpivot/stpivot/Print?cube=013d884c-cfc5-4c21-9e78-e26225682afd&type=3&foto=si&ejecutaDesde=&codConsulta=38668&consTipoVisua=JP'\n",
    "fields = ['Lugar de residencia', 'Medida', 'Valor']\n",
    "df = pd.read_csv(url, delimiter=';', usecols=fields, decimal=',')"
   ]
  },
  {
   "cell_type": "code",
   "execution_count": 4,
   "metadata": {},
   "outputs": [
    {
     "output_type": "execute_result",
     "data": {
      "text/plain": [
       "  Lugar de residencia                    Medida              Valor\n",
       "0              Huelva                 Población             513170\n",
       "1              Huelva          Confirmados PDIA              25058\n",
       "2              Huelva  Confirmados PDIA 14 días                382\n",
       "3              Huelva         Tasa PDIA 14 días  74,43926963774187\n",
       "4              Huelva   Confirmados PDIA 7 días                232\n",
       "5              Huelva        Total Confirmados               25257\n",
       "6              Huelva                   Curados              19253\n",
       "7              Huelva                Fallecidos                346"
      ],
      "text/html": "<div>\n<style scoped>\n    .dataframe tbody tr th:only-of-type {\n        vertical-align: middle;\n    }\n\n    .dataframe tbody tr th {\n        vertical-align: top;\n    }\n\n    .dataframe thead th {\n        text-align: right;\n    }\n</style>\n<table border=\"1\" class=\"dataframe\">\n  <thead>\n    <tr style=\"text-align: right;\">\n      <th></th>\n      <th>Lugar de residencia</th>\n      <th>Medida</th>\n      <th>Valor</th>\n    </tr>\n  </thead>\n  <tbody>\n    <tr>\n      <th>0</th>\n      <td>Huelva</td>\n      <td>Población</td>\n      <td>513170</td>\n    </tr>\n    <tr>\n      <th>1</th>\n      <td>Huelva</td>\n      <td>Confirmados PDIA</td>\n      <td>25058</td>\n    </tr>\n    <tr>\n      <th>2</th>\n      <td>Huelva</td>\n      <td>Confirmados PDIA 14 días</td>\n      <td>382</td>\n    </tr>\n    <tr>\n      <th>3</th>\n      <td>Huelva</td>\n      <td>Tasa PDIA 14 días</td>\n      <td>74,43926963774187</td>\n    </tr>\n    <tr>\n      <th>4</th>\n      <td>Huelva</td>\n      <td>Confirmados PDIA 7 días</td>\n      <td>232</td>\n    </tr>\n    <tr>\n      <th>5</th>\n      <td>Huelva</td>\n      <td>Total Confirmados</td>\n      <td>25257</td>\n    </tr>\n    <tr>\n      <th>6</th>\n      <td>Huelva</td>\n      <td>Curados</td>\n      <td>19253</td>\n    </tr>\n    <tr>\n      <th>7</th>\n      <td>Huelva</td>\n      <td>Fallecidos</td>\n      <td>346</td>\n    </tr>\n  </tbody>\n</table>\n</div>"
     },
     "metadata": {},
     "execution_count": 4
    }
   ],
   "source": [
    "df[df['Lugar de residencia'] == 'Huelva']"
   ]
  },
  {
   "cell_type": "code",
   "execution_count": 5,
   "metadata": {},
   "outputs": [],
   "source": [
    "df['Valor'] = pd.to_numeric(df['Valor'],errors='coerce')"
   ]
  },
  {
   "cell_type": "code",
   "execution_count": 6,
   "metadata": {},
   "outputs": [],
   "source": [
    "dfAnterior = pd.read_csv('covid_huelva.csv', index_col='Lugar de residencia')"
   ]
  },
  {
   "cell_type": "code",
   "execution_count": 7,
   "metadata": {
    "tags": []
   },
   "outputs": [
    {
     "output_type": "stream",
     "name": "stdout",
     "text": [
      "Confirmados PCR en la provincia de Huelva:  25058.0\n",
      "<ipython-input-7-31b732756b19>:2: UserWarning: Boolean Series key will be reindexed to match DataFrame index.\n",
      "  p = df[df['Lugar de residencia'] == 'Huelva'][df['Medida'] == 'Confirmados PDIA']['Valor'].values[0]\n"
     ]
    }
   ],
   "source": [
    "# Confirmados PCR provincia Huelva\n",
    "p = df[df['Lugar de residencia'] == 'Huelva'][df['Medida'] == 'Confirmados PDIA']['Valor'].values[0]\n",
    "print('Confirmados PCR en la provincia de Huelva: ', p)"
   ]
  },
  {
   "cell_type": "code",
   "execution_count": 8,
   "metadata": {
    "tags": []
   },
   "outputs": [
    {
     "output_type": "stream",
     "name": "stdout",
     "text": [
      "Confirmados PCR en Huelva capital:  6633.0\n",
      "<ipython-input-8-e81bfb40e710>:2: UserWarning: Boolean Series key will be reindexed to match DataFrame index.\n",
      "  c = df[df['Lugar de residencia'] == 'Huelva (capital)'][df['Medida'] == 'Confirmados PDIA']['Valor'].values[0]\n"
     ]
    }
   ],
   "source": [
    "# Confirmados PCR Huelva capitalpd\n",
    "c = df[df['Lugar de residencia'] == 'Huelva (capital)'][df['Medida'] == 'Confirmados PDIA']['Valor'].values[0]\n",
    "print('Confirmados PCR en Huelva capital: ', c)"
   ]
  },
  {
   "cell_type": "code",
   "execution_count": 9,
   "metadata": {
    "tags": []
   },
   "outputs": [
    {
     "output_type": "stream",
     "name": "stderr",
     "text": [
      "<ipython-input-9-f09dd2050cc1>:1: UserWarning: Boolean Series key will be reindexed to match DataFrame index.\n  c7 = df[df['Lugar de residencia'] == 'Huelva (capital)'][df['Medida'] == 'Confirmados PDIA 7 días']['Valor'].values[0]\n<ipython-input-9-f09dd2050cc1>:2: UserWarning: Boolean Series key will be reindexed to match DataFrame index.\n  c14 = df[df['Lugar de residencia'] == 'Huelva (capital)'][df['Medida'] == 'Confirmados PDIA 14 días']['Valor'].values[0]\n<ipython-input-9-f09dd2050cc1>:3: UserWarning: Boolean Series key will be reindexed to match DataFrame index.\n  p = df[df['Lugar de residencia'] == 'Huelva (capital)'][df['Medida'] == 'Población']['Valor'].values[0]\n"
     ]
    }
   ],
   "source": [
    "c7 = df[df['Lugar de residencia'] == 'Huelva (capital)'][df['Medida'] == 'Confirmados PDIA 7 días']['Valor'].values[0]\n",
    "c14 = df[df['Lugar de residencia'] == 'Huelva (capital)'][df['Medida'] == 'Confirmados PDIA 14 días']['Valor'].values[0]\n",
    "p = df[df['Lugar de residencia'] == 'Huelva (capital)'][df['Medida'] == 'Población']['Valor'].values[0]"
   ]
  },
  {
   "cell_type": "code",
   "execution_count": 10,
   "metadata": {
    "tags": []
   },
   "outputs": [
    {
     "output_type": "stream",
     "name": "stdout",
     "text": [
      "Huelva (capital)\n\nUn positivo PCR cada 3688 personas en los últimos 7 días \n\nUn positivo PCR cada 2247 personas en los últimos 14 días\n"
     ]
    }
   ],
   "source": [
    "print('Huelva (capital)\\n')\n",
    "#print('Confirmados PCR 7 días x 1,000 habitantes: ', f\"{c7/(p/1000):.5f}\")\n",
    "print('Un positivo PCR cada', f\"{p/c7:.0f}\", 'personas en los últimos 7 días', '\\n')\n",
    "#print('Confirmados PCR 14 días x 1,000 habitantes: ', f\"{c14/(p/1000):.5f}\")\n",
    "print('Un positivo PCR cada', f\"{p/c14:.0f}\", 'personas en los últimos 14 días')"
   ]
  },
  {
   "cell_type": "code",
   "execution_count": 11,
   "metadata": {},
   "outputs": [],
   "source": [
    "filtro = ((df['Medida'] == 'Confirmados PDIA')| (df['Medida'] == 'Confirmados PDIA 7 días') | (df['Medida'] == 'Población' ) | (df['Medida'] == 'Confirmados PDIA 14 días')) & (df['Valor'] > 0)\n",
    "tabla = pd.pivot_table(df.loc[filtro], values='Valor', index='Lugar de residencia', columns='Medida').dropna()"
   ]
  },
  {
   "cell_type": "code",
   "execution_count": 12,
   "metadata": {},
   "outputs": [],
   "source": [
    "# Reorder columns\n",
    "tabla = tabla[['Confirmados PDIA', 'Confirmados PDIA 7 días', 'Confirmados PDIA 14 días', 'Población']]"
   ]
  },
  {
   "cell_type": "code",
   "execution_count": 13,
   "metadata": {},
   "outputs": [],
   "source": [
    "tabla['tasa7'] = tabla['Confirmados PDIA 7 días']/tabla['Población']*100000\n",
    "tabla['tasa14'] = tabla['Confirmados PDIA 14 días']/tabla['Población']*100000"
   ]
  },
  {
   "cell_type": "code",
   "execution_count": 14,
   "metadata": {},
   "outputs": [],
   "source": [
    "tabla['Diferencia PDIA'] = tabla['Confirmados PDIA'] - dfAnterior['Confirmados PDIA']"
   ]
  },
  {
   "cell_type": "code",
   "execution_count": 15,
   "metadata": {},
   "outputs": [
    {
     "output_type": "execute_result",
     "data": {
      "text/plain": [
       "Medida                     Confirmados PDIA  Confirmados PDIA 7 días  \\\n",
       "Lugar de residencia                                                    \n",
       "Huelva                              25058.0                    232.0   \n",
       "Condado-Campiña                      7110.0                    134.0   \n",
       "Huelva-Costa                        15226.0                     89.0   \n",
       "Almonte                               916.0                     37.0   \n",
       "Moguer                                860.0                     24.0   \n",
       "Huelva (capital)                     6633.0                     39.0   \n",
       "Gibraleón                             530.0                     15.0   \n",
       "Rociana del Condado                   323.0                     10.0   \n",
       "Bollullos Par del Condado             634.0                     13.0   \n",
       "San Bartolomé de la Torre             212.0                      8.0   \n",
       "Villalba del Alcor                    458.0                      7.0   \n",
       "Ayamonte                             1233.0                      4.0   \n",
       "Lepe                                 2009.0                      9.0   \n",
       "Niebla                                159.0                      2.0   \n",
       "Palos de la Frontera                  461.0                      5.0   \n",
       "San Juan del Puerto                   368.0                      3.0   \n",
       "Bonares                               180.0                      2.0   \n",
       "Escacena del Campo                    141.0                      1.0   \n",
       "Paterna del Campo                     113.0                      1.0   \n",
       "\n",
       "Medida                     Confirmados PDIA 14 días  Población       tasa7  \\\n",
       "Lugar de residencia                                                          \n",
       "Huelva                                        382.0   513170.0   45.209190   \n",
       "Condado-Campiña                               198.0   156231.0   85.770430   \n",
       "Huelva-Costa                                  172.0   289548.0   30.737563   \n",
       "Almonte                                        48.0    24507.0  150.977272   \n",
       "Moguer                                         31.0    21867.0  109.754424   \n",
       "Huelva (capital)                               64.0   143837.0   27.114025   \n",
       "Gibraleón                                      19.0    12737.0  117.767135   \n",
       "Rociana del Condado                            12.0     7939.0  125.960448   \n",
       "Bollullos Par del Condado                      18.0    14387.0   90.359352   \n",
       "San Bartolomé de la Torre                      13.0     3761.0  212.709386   \n",
       "Villalba del Alcor                             13.0     3366.0  207.961973   \n",
       "Ayamonte                                       27.0    21104.0   18.953753   \n",
       "Lepe                                           16.0    27880.0   32.281205   \n",
       "Niebla                                          2.0     4116.0   48.590865   \n",
       "Palos de la Frontera                            9.0    11742.0   42.582184   \n",
       "San Juan del Puerto                             9.0     9411.0   31.877590   \n",
       "Bonares                                         2.0     6060.0   33.003300   \n",
       "Escacena del Campo                              2.0     2287.0   43.725404   \n",
       "Paterna del Campo                               1.0     3457.0   28.926815   \n",
       "\n",
       "Medida                         tasa14  Diferencia PDIA  \n",
       "Lugar de residencia                                     \n",
       "Huelva                      74.439270             59.0  \n",
       "Condado-Campiña            126.735411             47.0  \n",
       "Huelva-Costa                59.402931             12.0  \n",
       "Almonte                    195.862407             11.0  \n",
       "Moguer                     141.766132             11.0  \n",
       "Huelva (capital)            44.494810             10.0  \n",
       "Gibraleón                  149.171704              9.0  \n",
       "Rociana del Condado        151.152538              3.0  \n",
       "Bollullos Par del Condado  125.112949              2.0  \n",
       "San Bartolomé de la Torre  345.652752              2.0  \n",
       "Villalba del Alcor         386.215092              2.0  \n",
       "Ayamonte                   127.937832              1.0  \n",
       "Lepe                        57.388809              1.0  \n",
       "Niebla                      48.590865              1.0  \n",
       "Palos de la Frontera        76.647931              1.0  \n",
       "San Juan del Puerto         95.632770              1.0  \n",
       "Bonares                     33.003300              NaN  \n",
       "Escacena del Campo          87.450809              NaN  \n",
       "Paterna del Campo           28.926815              NaN  "
      ],
      "text/html": "<div>\n<style scoped>\n    .dataframe tbody tr th:only-of-type {\n        vertical-align: middle;\n    }\n\n    .dataframe tbody tr th {\n        vertical-align: top;\n    }\n\n    .dataframe thead th {\n        text-align: right;\n    }\n</style>\n<table border=\"1\" class=\"dataframe\">\n  <thead>\n    <tr style=\"text-align: right;\">\n      <th>Medida</th>\n      <th>Confirmados PDIA</th>\n      <th>Confirmados PDIA 7 días</th>\n      <th>Confirmados PDIA 14 días</th>\n      <th>Población</th>\n      <th>tasa7</th>\n      <th>tasa14</th>\n      <th>Diferencia PDIA</th>\n    </tr>\n    <tr>\n      <th>Lugar de residencia</th>\n      <th></th>\n      <th></th>\n      <th></th>\n      <th></th>\n      <th></th>\n      <th></th>\n      <th></th>\n    </tr>\n  </thead>\n  <tbody>\n    <tr>\n      <th>Huelva</th>\n      <td>25058.0</td>\n      <td>232.0</td>\n      <td>382.0</td>\n      <td>513170.0</td>\n      <td>45.209190</td>\n      <td>74.439270</td>\n      <td>59.0</td>\n    </tr>\n    <tr>\n      <th>Condado-Campiña</th>\n      <td>7110.0</td>\n      <td>134.0</td>\n      <td>198.0</td>\n      <td>156231.0</td>\n      <td>85.770430</td>\n      <td>126.735411</td>\n      <td>47.0</td>\n    </tr>\n    <tr>\n      <th>Huelva-Costa</th>\n      <td>15226.0</td>\n      <td>89.0</td>\n      <td>172.0</td>\n      <td>289548.0</td>\n      <td>30.737563</td>\n      <td>59.402931</td>\n      <td>12.0</td>\n    </tr>\n    <tr>\n      <th>Almonte</th>\n      <td>916.0</td>\n      <td>37.0</td>\n      <td>48.0</td>\n      <td>24507.0</td>\n      <td>150.977272</td>\n      <td>195.862407</td>\n      <td>11.0</td>\n    </tr>\n    <tr>\n      <th>Moguer</th>\n      <td>860.0</td>\n      <td>24.0</td>\n      <td>31.0</td>\n      <td>21867.0</td>\n      <td>109.754424</td>\n      <td>141.766132</td>\n      <td>11.0</td>\n    </tr>\n    <tr>\n      <th>Huelva (capital)</th>\n      <td>6633.0</td>\n      <td>39.0</td>\n      <td>64.0</td>\n      <td>143837.0</td>\n      <td>27.114025</td>\n      <td>44.494810</td>\n      <td>10.0</td>\n    </tr>\n    <tr>\n      <th>Gibraleón</th>\n      <td>530.0</td>\n      <td>15.0</td>\n      <td>19.0</td>\n      <td>12737.0</td>\n      <td>117.767135</td>\n      <td>149.171704</td>\n      <td>9.0</td>\n    </tr>\n    <tr>\n      <th>Rociana del Condado</th>\n      <td>323.0</td>\n      <td>10.0</td>\n      <td>12.0</td>\n      <td>7939.0</td>\n      <td>125.960448</td>\n      <td>151.152538</td>\n      <td>3.0</td>\n    </tr>\n    <tr>\n      <th>Bollullos Par del Condado</th>\n      <td>634.0</td>\n      <td>13.0</td>\n      <td>18.0</td>\n      <td>14387.0</td>\n      <td>90.359352</td>\n      <td>125.112949</td>\n      <td>2.0</td>\n    </tr>\n    <tr>\n      <th>San Bartolomé de la Torre</th>\n      <td>212.0</td>\n      <td>8.0</td>\n      <td>13.0</td>\n      <td>3761.0</td>\n      <td>212.709386</td>\n      <td>345.652752</td>\n      <td>2.0</td>\n    </tr>\n    <tr>\n      <th>Villalba del Alcor</th>\n      <td>458.0</td>\n      <td>7.0</td>\n      <td>13.0</td>\n      <td>3366.0</td>\n      <td>207.961973</td>\n      <td>386.215092</td>\n      <td>2.0</td>\n    </tr>\n    <tr>\n      <th>Ayamonte</th>\n      <td>1233.0</td>\n      <td>4.0</td>\n      <td>27.0</td>\n      <td>21104.0</td>\n      <td>18.953753</td>\n      <td>127.937832</td>\n      <td>1.0</td>\n    </tr>\n    <tr>\n      <th>Lepe</th>\n      <td>2009.0</td>\n      <td>9.0</td>\n      <td>16.0</td>\n      <td>27880.0</td>\n      <td>32.281205</td>\n      <td>57.388809</td>\n      <td>1.0</td>\n    </tr>\n    <tr>\n      <th>Niebla</th>\n      <td>159.0</td>\n      <td>2.0</td>\n      <td>2.0</td>\n      <td>4116.0</td>\n      <td>48.590865</td>\n      <td>48.590865</td>\n      <td>1.0</td>\n    </tr>\n    <tr>\n      <th>Palos de la Frontera</th>\n      <td>461.0</td>\n      <td>5.0</td>\n      <td>9.0</td>\n      <td>11742.0</td>\n      <td>42.582184</td>\n      <td>76.647931</td>\n      <td>1.0</td>\n    </tr>\n    <tr>\n      <th>San Juan del Puerto</th>\n      <td>368.0</td>\n      <td>3.0</td>\n      <td>9.0</td>\n      <td>9411.0</td>\n      <td>31.877590</td>\n      <td>95.632770</td>\n      <td>1.0</td>\n    </tr>\n    <tr>\n      <th>Bonares</th>\n      <td>180.0</td>\n      <td>2.0</td>\n      <td>2.0</td>\n      <td>6060.0</td>\n      <td>33.003300</td>\n      <td>33.003300</td>\n      <td>NaN</td>\n    </tr>\n    <tr>\n      <th>Escacena del Campo</th>\n      <td>141.0</td>\n      <td>1.0</td>\n      <td>2.0</td>\n      <td>2287.0</td>\n      <td>43.725404</td>\n      <td>87.450809</td>\n      <td>NaN</td>\n    </tr>\n    <tr>\n      <th>Paterna del Campo</th>\n      <td>113.0</td>\n      <td>1.0</td>\n      <td>1.0</td>\n      <td>3457.0</td>\n      <td>28.926815</td>\n      <td>28.926815</td>\n      <td>NaN</td>\n    </tr>\n  </tbody>\n</table>\n</div>"
     },
     "metadata": {},
     "execution_count": 15
    }
   ],
   "source": [
    "# Nuevos casos desde la última captura\n",
    "tabla[tabla['Diferencia PDIA'] != 0].sort_values('Diferencia PDIA', ascending=False)"
   ]
  },
  {
   "cell_type": "code",
   "execution_count": 16,
   "metadata": {},
   "outputs": [],
   "source": [
    "if tabla[tabla['Diferencia PDIA'] != 0]['Diferencia PDIA'].sum() != 0:\n",
    "  # Save to csv\n",
    "  tabla.to_csv('covid_huelva.csv', encoding='utf-8', header=True, index=True)  "
   ]
  },
  {
   "cell_type": "code",
   "execution_count": 17,
   "metadata": {},
   "outputs": [
    {
     "output_type": "execute_result",
     "data": {
      "text/plain": [
       "Medida                             Confirmados PDIA  Confirmados PDIA 7 días  \\\n",
       "Lugar de residencia                                                            \n",
       "Puebla de Guzmán                              108.0                      6.0   \n",
       "Villalba del Alcor                            458.0                      7.0   \n",
       "San Bartolomé de la Torre                     212.0                      8.0   \n",
       "Almonte                                       916.0                     37.0   \n",
       "Alosno                                        128.0                      5.0   \n",
       "Rociana del Condado                           323.0                     10.0   \n",
       "Gibraleón                                     530.0                     15.0   \n",
       "Moguer                                        860.0                     24.0   \n",
       "Villarrasa                                    132.0                      2.0   \n",
       "Ayamonte                                     1233.0                      4.0   \n",
       "Condado-Campiña                              7110.0                    134.0   \n",
       "Bollullos Par del Condado                     634.0                     13.0   \n",
       "Cartaya                                       974.0                     13.0   \n",
       "San Juan del Puerto                           368.0                      3.0   \n",
       "Palma del Condado (La)                        988.0                      4.0   \n",
       "Isla Cristina                                2004.0                     10.0   \n",
       "Escacena del Campo                            141.0                      1.0   \n",
       "Palos de la Frontera                          461.0                      5.0   \n",
       "Huelva                                      25058.0                    232.0   \n",
       "Huelva-Costa                                15226.0                     89.0   \n",
       "Lepe                                         2009.0                      9.0   \n",
       "Valverde del Camino                           423.0                      6.0   \n",
       "Niebla                                        159.0                      2.0   \n",
       "Huelva (capital)                             6633.0                     39.0   \n",
       "Bonares                                       180.0                      2.0   \n",
       "Zalamea la Real                                85.0                      1.0   \n",
       "Paterna del Campo                             113.0                      1.0   \n",
       "Aljaraque                                     928.0                      3.0   \n",
       "Sierra de Huelva-Andévalo Central            2308.0                      7.0   \n",
       "\n",
       "Medida                             Confirmados PDIA 14 días  Población  \\\n",
       "Lugar de residencia                                                      \n",
       "Puebla de Guzmán                                       13.0     3092.0   \n",
       "Villalba del Alcor                                     13.0     3366.0   \n",
       "San Bartolomé de la Torre                              13.0     3761.0   \n",
       "Almonte                                                48.0    24507.0   \n",
       "Alosno                                                  6.0     3933.0   \n",
       "Rociana del Condado                                    12.0     7939.0   \n",
       "Gibraleón                                              19.0    12737.0   \n",
       "Moguer                                                 31.0    21867.0   \n",
       "Villarrasa                                              3.0     2211.0   \n",
       "Ayamonte                                               27.0    21104.0   \n",
       "Condado-Campiña                                       198.0   156231.0   \n",
       "Bollullos Par del Condado                              18.0    14387.0   \n",
       "Cartaya                                                20.0    20083.0   \n",
       "San Juan del Puerto                                     9.0     9411.0   \n",
       "Palma del Condado (La)                                 10.0    10801.0   \n",
       "Isla Cristina                                          19.0    21393.0   \n",
       "Escacena del Campo                                      2.0     2287.0   \n",
       "Palos de la Frontera                                    9.0    11742.0   \n",
       "Huelva                                                382.0   513170.0   \n",
       "Huelva-Costa                                          172.0   289548.0   \n",
       "Lepe                                                   16.0    27880.0   \n",
       "Valverde del Camino                                     7.0    12750.0   \n",
       "Niebla                                                  2.0     4116.0   \n",
       "Huelva (capital)                                       64.0   143837.0   \n",
       "Bonares                                                 2.0     6060.0   \n",
       "Zalamea la Real                                         1.0     3054.0   \n",
       "Paterna del Campo                                       1.0     3457.0   \n",
       "Aljaraque                                               3.0    21474.0   \n",
       "Sierra de Huelva-Andévalo Central                       9.0    67391.0   \n",
       "\n",
       "Medida                                  tasa7      tasa14  Diferencia PDIA  \n",
       "Lugar de residencia                                                         \n",
       "Puebla de Guzmán                   194.049159  420.439845              0.0  \n",
       "Villalba del Alcor                 207.961973  386.215092              2.0  \n",
       "San Bartolomé de la Torre          212.709386  345.652752              2.0  \n",
       "Almonte                            150.977272  195.862407             11.0  \n",
       "Alosno                             127.129418  152.555301              0.0  \n",
       "Rociana del Condado                125.960448  151.152538              3.0  \n",
       "Gibraleón                          117.767135  149.171704              9.0  \n",
       "Moguer                             109.754424  141.766132             11.0  \n",
       "Villarrasa                          90.456807  135.685210              0.0  \n",
       "Ayamonte                            18.953753  127.937832              1.0  \n",
       "Condado-Campiña                     85.770430  126.735411             47.0  \n",
       "Bollullos Par del Condado           90.359352  125.112949              2.0  \n",
       "Cartaya                             64.731365   99.586715              0.0  \n",
       "San Juan del Puerto                 31.877590   95.632770              1.0  \n",
       "Palma del Condado (La)              37.033608   92.584020              0.0  \n",
       "Isla Cristina                       46.744262   88.814098              0.0  \n",
       "Escacena del Campo                  43.725404   87.450809              NaN  \n",
       "Palos de la Frontera                42.582184   76.647931              1.0  \n",
       "Huelva                              45.209190   74.439270             59.0  \n",
       "Huelva-Costa                        30.737563   59.402931             12.0  \n",
       "Lepe                                32.281205   57.388809              1.0  \n",
       "Valverde del Camino                 47.058824   54.901961              0.0  \n",
       "Niebla                              48.590865   48.590865              1.0  \n",
       "Huelva (capital)                    27.114025   44.494810             10.0  \n",
       "Bonares                             33.003300   33.003300              NaN  \n",
       "Zalamea la Real                     32.743942   32.743942              0.0  \n",
       "Paterna del Campo                   28.926815   28.926815              NaN  \n",
       "Aljaraque                           13.970383   13.970383              0.0  \n",
       "Sierra de Huelva-Andévalo Central   10.387144   13.354899              0.0  "
      ],
      "text/html": "<div>\n<style scoped>\n    .dataframe tbody tr th:only-of-type {\n        vertical-align: middle;\n    }\n\n    .dataframe tbody tr th {\n        vertical-align: top;\n    }\n\n    .dataframe thead th {\n        text-align: right;\n    }\n</style>\n<table border=\"1\" class=\"dataframe\">\n  <thead>\n    <tr style=\"text-align: right;\">\n      <th>Medida</th>\n      <th>Confirmados PDIA</th>\n      <th>Confirmados PDIA 7 días</th>\n      <th>Confirmados PDIA 14 días</th>\n      <th>Población</th>\n      <th>tasa7</th>\n      <th>tasa14</th>\n      <th>Diferencia PDIA</th>\n    </tr>\n    <tr>\n      <th>Lugar de residencia</th>\n      <th></th>\n      <th></th>\n      <th></th>\n      <th></th>\n      <th></th>\n      <th></th>\n      <th></th>\n    </tr>\n  </thead>\n  <tbody>\n    <tr>\n      <th>Puebla de Guzmán</th>\n      <td>108.0</td>\n      <td>6.0</td>\n      <td>13.0</td>\n      <td>3092.0</td>\n      <td>194.049159</td>\n      <td>420.439845</td>\n      <td>0.0</td>\n    </tr>\n    <tr>\n      <th>Villalba del Alcor</th>\n      <td>458.0</td>\n      <td>7.0</td>\n      <td>13.0</td>\n      <td>3366.0</td>\n      <td>207.961973</td>\n      <td>386.215092</td>\n      <td>2.0</td>\n    </tr>\n    <tr>\n      <th>San Bartolomé de la Torre</th>\n      <td>212.0</td>\n      <td>8.0</td>\n      <td>13.0</td>\n      <td>3761.0</td>\n      <td>212.709386</td>\n      <td>345.652752</td>\n      <td>2.0</td>\n    </tr>\n    <tr>\n      <th>Almonte</th>\n      <td>916.0</td>\n      <td>37.0</td>\n      <td>48.0</td>\n      <td>24507.0</td>\n      <td>150.977272</td>\n      <td>195.862407</td>\n      <td>11.0</td>\n    </tr>\n    <tr>\n      <th>Alosno</th>\n      <td>128.0</td>\n      <td>5.0</td>\n      <td>6.0</td>\n      <td>3933.0</td>\n      <td>127.129418</td>\n      <td>152.555301</td>\n      <td>0.0</td>\n    </tr>\n    <tr>\n      <th>Rociana del Condado</th>\n      <td>323.0</td>\n      <td>10.0</td>\n      <td>12.0</td>\n      <td>7939.0</td>\n      <td>125.960448</td>\n      <td>151.152538</td>\n      <td>3.0</td>\n    </tr>\n    <tr>\n      <th>Gibraleón</th>\n      <td>530.0</td>\n      <td>15.0</td>\n      <td>19.0</td>\n      <td>12737.0</td>\n      <td>117.767135</td>\n      <td>149.171704</td>\n      <td>9.0</td>\n    </tr>\n    <tr>\n      <th>Moguer</th>\n      <td>860.0</td>\n      <td>24.0</td>\n      <td>31.0</td>\n      <td>21867.0</td>\n      <td>109.754424</td>\n      <td>141.766132</td>\n      <td>11.0</td>\n    </tr>\n    <tr>\n      <th>Villarrasa</th>\n      <td>132.0</td>\n      <td>2.0</td>\n      <td>3.0</td>\n      <td>2211.0</td>\n      <td>90.456807</td>\n      <td>135.685210</td>\n      <td>0.0</td>\n    </tr>\n    <tr>\n      <th>Ayamonte</th>\n      <td>1233.0</td>\n      <td>4.0</td>\n      <td>27.0</td>\n      <td>21104.0</td>\n      <td>18.953753</td>\n      <td>127.937832</td>\n      <td>1.0</td>\n    </tr>\n    <tr>\n      <th>Condado-Campiña</th>\n      <td>7110.0</td>\n      <td>134.0</td>\n      <td>198.0</td>\n      <td>156231.0</td>\n      <td>85.770430</td>\n      <td>126.735411</td>\n      <td>47.0</td>\n    </tr>\n    <tr>\n      <th>Bollullos Par del Condado</th>\n      <td>634.0</td>\n      <td>13.0</td>\n      <td>18.0</td>\n      <td>14387.0</td>\n      <td>90.359352</td>\n      <td>125.112949</td>\n      <td>2.0</td>\n    </tr>\n    <tr>\n      <th>Cartaya</th>\n      <td>974.0</td>\n      <td>13.0</td>\n      <td>20.0</td>\n      <td>20083.0</td>\n      <td>64.731365</td>\n      <td>99.586715</td>\n      <td>0.0</td>\n    </tr>\n    <tr>\n      <th>San Juan del Puerto</th>\n      <td>368.0</td>\n      <td>3.0</td>\n      <td>9.0</td>\n      <td>9411.0</td>\n      <td>31.877590</td>\n      <td>95.632770</td>\n      <td>1.0</td>\n    </tr>\n    <tr>\n      <th>Palma del Condado (La)</th>\n      <td>988.0</td>\n      <td>4.0</td>\n      <td>10.0</td>\n      <td>10801.0</td>\n      <td>37.033608</td>\n      <td>92.584020</td>\n      <td>0.0</td>\n    </tr>\n    <tr>\n      <th>Isla Cristina</th>\n      <td>2004.0</td>\n      <td>10.0</td>\n      <td>19.0</td>\n      <td>21393.0</td>\n      <td>46.744262</td>\n      <td>88.814098</td>\n      <td>0.0</td>\n    </tr>\n    <tr>\n      <th>Escacena del Campo</th>\n      <td>141.0</td>\n      <td>1.0</td>\n      <td>2.0</td>\n      <td>2287.0</td>\n      <td>43.725404</td>\n      <td>87.450809</td>\n      <td>NaN</td>\n    </tr>\n    <tr>\n      <th>Palos de la Frontera</th>\n      <td>461.0</td>\n      <td>5.0</td>\n      <td>9.0</td>\n      <td>11742.0</td>\n      <td>42.582184</td>\n      <td>76.647931</td>\n      <td>1.0</td>\n    </tr>\n    <tr>\n      <th>Huelva</th>\n      <td>25058.0</td>\n      <td>232.0</td>\n      <td>382.0</td>\n      <td>513170.0</td>\n      <td>45.209190</td>\n      <td>74.439270</td>\n      <td>59.0</td>\n    </tr>\n    <tr>\n      <th>Huelva-Costa</th>\n      <td>15226.0</td>\n      <td>89.0</td>\n      <td>172.0</td>\n      <td>289548.0</td>\n      <td>30.737563</td>\n      <td>59.402931</td>\n      <td>12.0</td>\n    </tr>\n    <tr>\n      <th>Lepe</th>\n      <td>2009.0</td>\n      <td>9.0</td>\n      <td>16.0</td>\n      <td>27880.0</td>\n      <td>32.281205</td>\n      <td>57.388809</td>\n      <td>1.0</td>\n    </tr>\n    <tr>\n      <th>Valverde del Camino</th>\n      <td>423.0</td>\n      <td>6.0</td>\n      <td>7.0</td>\n      <td>12750.0</td>\n      <td>47.058824</td>\n      <td>54.901961</td>\n      <td>0.0</td>\n    </tr>\n    <tr>\n      <th>Niebla</th>\n      <td>159.0</td>\n      <td>2.0</td>\n      <td>2.0</td>\n      <td>4116.0</td>\n      <td>48.590865</td>\n      <td>48.590865</td>\n      <td>1.0</td>\n    </tr>\n    <tr>\n      <th>Huelva (capital)</th>\n      <td>6633.0</td>\n      <td>39.0</td>\n      <td>64.0</td>\n      <td>143837.0</td>\n      <td>27.114025</td>\n      <td>44.494810</td>\n      <td>10.0</td>\n    </tr>\n    <tr>\n      <th>Bonares</th>\n      <td>180.0</td>\n      <td>2.0</td>\n      <td>2.0</td>\n      <td>6060.0</td>\n      <td>33.003300</td>\n      <td>33.003300</td>\n      <td>NaN</td>\n    </tr>\n    <tr>\n      <th>Zalamea la Real</th>\n      <td>85.0</td>\n      <td>1.0</td>\n      <td>1.0</td>\n      <td>3054.0</td>\n      <td>32.743942</td>\n      <td>32.743942</td>\n      <td>0.0</td>\n    </tr>\n    <tr>\n      <th>Paterna del Campo</th>\n      <td>113.0</td>\n      <td>1.0</td>\n      <td>1.0</td>\n      <td>3457.0</td>\n      <td>28.926815</td>\n      <td>28.926815</td>\n      <td>NaN</td>\n    </tr>\n    <tr>\n      <th>Aljaraque</th>\n      <td>928.0</td>\n      <td>3.0</td>\n      <td>3.0</td>\n      <td>21474.0</td>\n      <td>13.970383</td>\n      <td>13.970383</td>\n      <td>0.0</td>\n    </tr>\n    <tr>\n      <th>Sierra de Huelva-Andévalo Central</th>\n      <td>2308.0</td>\n      <td>7.0</td>\n      <td>9.0</td>\n      <td>67391.0</td>\n      <td>10.387144</td>\n      <td>13.354899</td>\n      <td>0.0</td>\n    </tr>\n  </tbody>\n</table>\n</div>"
     },
     "metadata": {},
     "execution_count": 17
    }
   ],
   "source": [
    "tabla.sort_values('tasa14', ascending=False)"
   ]
  },
  {
   "cell_type": "code",
   "execution_count": 18,
   "metadata": {},
   "outputs": [
    {
     "output_type": "execute_result",
     "data": {
      "text/plain": [
       "Medida                             Confirmados PDIA  Confirmados PDIA 7 días  \\\n",
       "Lugar de residencia                                                            \n",
       "Ayamonte                                     1233.0                      4.0   \n",
       "San Juan del Puerto                           368.0                      3.0   \n",
       "Palma del Condado (La)                        988.0                      4.0   \n",
       "Puebla de Guzmán                              108.0                      6.0   \n",
       "Escacena del Campo                            141.0                      1.0   \n",
       "Huelva-Costa                                15226.0                     89.0   \n",
       "Isla Cristina                                2004.0                     10.0   \n",
       "Villalba del Alcor                            458.0                      7.0   \n",
       "Palos de la Frontera                          461.0                      5.0   \n",
       "Lepe                                         2009.0                      9.0   \n",
       "Huelva                                      25058.0                    232.0   \n",
       "Huelva (capital)                             6633.0                     39.0   \n",
       "San Bartolomé de la Torre                     212.0                      8.0   \n",
       "Cartaya                                       974.0                     13.0   \n",
       "Villarrasa                                    132.0                      2.0   \n",
       "Condado-Campiña                              7110.0                    134.0   \n",
       "Bollullos Par del Condado                     634.0                     13.0   \n",
       "Almonte                                       916.0                     37.0   \n",
       "Moguer                                        860.0                     24.0   \n",
       "Sierra de Huelva-Andévalo Central            2308.0                      7.0   \n",
       "Gibraleón                                     530.0                     15.0   \n",
       "Alosno                                        128.0                      5.0   \n",
       "Rociana del Condado                           323.0                     10.0   \n",
       "Valverde del Camino                           423.0                      6.0   \n",
       "Aljaraque                                     928.0                      3.0   \n",
       "Niebla                                        159.0                      2.0   \n",
       "Bonares                                       180.0                      2.0   \n",
       "Paterna del Campo                             113.0                      1.0   \n",
       "Zalamea la Real                                85.0                      1.0   \n",
       "\n",
       "Medida                             Confirmados PDIA 14 días  Población  \\\n",
       "Lugar de residencia                                                      \n",
       "Ayamonte                                               27.0    21104.0   \n",
       "San Juan del Puerto                                     9.0     9411.0   \n",
       "Palma del Condado (La)                                 10.0    10801.0   \n",
       "Puebla de Guzmán                                       13.0     3092.0   \n",
       "Escacena del Campo                                      2.0     2287.0   \n",
       "Huelva-Costa                                          172.0   289548.0   \n",
       "Isla Cristina                                          19.0    21393.0   \n",
       "Villalba del Alcor                                     13.0     3366.0   \n",
       "Palos de la Frontera                                    9.0    11742.0   \n",
       "Lepe                                                   16.0    27880.0   \n",
       "Huelva                                                382.0   513170.0   \n",
       "Huelva (capital)                                       64.0   143837.0   \n",
       "San Bartolomé de la Torre                              13.0     3761.0   \n",
       "Cartaya                                                20.0    20083.0   \n",
       "Villarrasa                                              3.0     2211.0   \n",
       "Condado-Campiña                                       198.0   156231.0   \n",
       "Bollullos Par del Condado                              18.0    14387.0   \n",
       "Almonte                                                48.0    24507.0   \n",
       "Moguer                                                 31.0    21867.0   \n",
       "Sierra de Huelva-Andévalo Central                       9.0    67391.0   \n",
       "Gibraleón                                              19.0    12737.0   \n",
       "Alosno                                                  6.0     3933.0   \n",
       "Rociana del Condado                                    12.0     7939.0   \n",
       "Valverde del Camino                                     7.0    12750.0   \n",
       "Aljaraque                                               3.0    21474.0   \n",
       "Niebla                                                  2.0     4116.0   \n",
       "Bonares                                                 2.0     6060.0   \n",
       "Paterna del Campo                                       1.0     3457.0   \n",
       "Zalamea la Real                                         1.0     3054.0   \n",
       "\n",
       "Medida                                  tasa7      tasa14  Diferencia PDIA  \\\n",
       "Lugar de residencia                                                          \n",
       "Ayamonte                            18.953753  127.937832              1.0   \n",
       "San Juan del Puerto                 31.877590   95.632770              1.0   \n",
       "Palma del Condado (La)              37.033608   92.584020              0.0   \n",
       "Puebla de Guzmán                   194.049159  420.439845              0.0   \n",
       "Escacena del Campo                  43.725404   87.450809              0.0   \n",
       "Huelva-Costa                        30.737563   59.402931             12.0   \n",
       "Isla Cristina                       46.744262   88.814098              0.0   \n",
       "Villalba del Alcor                 207.961973  386.215092              2.0   \n",
       "Palos de la Frontera                42.582184   76.647931              1.0   \n",
       "Lepe                                32.281205   57.388809              1.0   \n",
       "Huelva                              45.209190   74.439270             59.0   \n",
       "Huelva (capital)                    27.114025   44.494810             10.0   \n",
       "San Bartolomé de la Torre          212.709386  345.652752              2.0   \n",
       "Cartaya                             64.731365   99.586715              0.0   \n",
       "Villarrasa                          90.456807  135.685210              0.0   \n",
       "Condado-Campiña                     85.770430  126.735411             47.0   \n",
       "Bollullos Par del Condado           90.359352  125.112949              2.0   \n",
       "Almonte                            150.977272  195.862407             11.0   \n",
       "Moguer                             109.754424  141.766132             11.0   \n",
       "Sierra de Huelva-Andévalo Central   10.387144   13.354899              0.0   \n",
       "Gibraleón                          117.767135  149.171704              9.0   \n",
       "Alosno                             127.129418  152.555301              0.0   \n",
       "Rociana del Condado                125.960448  151.152538              3.0   \n",
       "Valverde del Camino                 47.058824   54.901961              0.0   \n",
       "Aljaraque                           13.970383   13.970383              0.0   \n",
       "Niebla                              48.590865   48.590865              1.0   \n",
       "Bonares                             33.003300   33.003300              0.0   \n",
       "Paterna del Campo                   28.926815   28.926815              0.0   \n",
       "Zalamea la Real                     32.743942   32.743942              0.0   \n",
       "\n",
       "Medida                                 7/14  \n",
       "Lugar de residencia                          \n",
       "Ayamonte                           0.148148  \n",
       "San Juan del Puerto                0.333333  \n",
       "Palma del Condado (La)             0.400000  \n",
       "Puebla de Guzmán                   0.461538  \n",
       "Escacena del Campo                 0.500000  \n",
       "Huelva-Costa                       0.517442  \n",
       "Isla Cristina                      0.526316  \n",
       "Villalba del Alcor                 0.538462  \n",
       "Palos de la Frontera               0.555556  \n",
       "Lepe                               0.562500  \n",
       "Huelva                             0.607330  \n",
       "Huelva (capital)                   0.609375  \n",
       "San Bartolomé de la Torre          0.615385  \n",
       "Cartaya                            0.650000  \n",
       "Villarrasa                         0.666667  \n",
       "Condado-Campiña                    0.676768  \n",
       "Bollullos Par del Condado          0.722222  \n",
       "Almonte                            0.770833  \n",
       "Moguer                             0.774194  \n",
       "Sierra de Huelva-Andévalo Central  0.777778  \n",
       "Gibraleón                          0.789474  \n",
       "Alosno                             0.833333  \n",
       "Rociana del Condado                0.833333  \n",
       "Valverde del Camino                0.857143  \n",
       "Aljaraque                          1.000000  \n",
       "Niebla                             1.000000  \n",
       "Bonares                            1.000000  \n",
       "Paterna del Campo                  1.000000  \n",
       "Zalamea la Real                    1.000000  "
      ],
      "text/html": "<div>\n<style scoped>\n    .dataframe tbody tr th:only-of-type {\n        vertical-align: middle;\n    }\n\n    .dataframe tbody tr th {\n        vertical-align: top;\n    }\n\n    .dataframe thead th {\n        text-align: right;\n    }\n</style>\n<table border=\"1\" class=\"dataframe\">\n  <thead>\n    <tr style=\"text-align: right;\">\n      <th>Medida</th>\n      <th>Confirmados PDIA</th>\n      <th>Confirmados PDIA 7 días</th>\n      <th>Confirmados PDIA 14 días</th>\n      <th>Población</th>\n      <th>tasa7</th>\n      <th>tasa14</th>\n      <th>Diferencia PDIA</th>\n      <th>7/14</th>\n    </tr>\n    <tr>\n      <th>Lugar de residencia</th>\n      <th></th>\n      <th></th>\n      <th></th>\n      <th></th>\n      <th></th>\n      <th></th>\n      <th></th>\n      <th></th>\n    </tr>\n  </thead>\n  <tbody>\n    <tr>\n      <th>Ayamonte</th>\n      <td>1233.0</td>\n      <td>4.0</td>\n      <td>27.0</td>\n      <td>21104.0</td>\n      <td>18.953753</td>\n      <td>127.937832</td>\n      <td>1.0</td>\n      <td>0.148148</td>\n    </tr>\n    <tr>\n      <th>San Juan del Puerto</th>\n      <td>368.0</td>\n      <td>3.0</td>\n      <td>9.0</td>\n      <td>9411.0</td>\n      <td>31.877590</td>\n      <td>95.632770</td>\n      <td>1.0</td>\n      <td>0.333333</td>\n    </tr>\n    <tr>\n      <th>Palma del Condado (La)</th>\n      <td>988.0</td>\n      <td>4.0</td>\n      <td>10.0</td>\n      <td>10801.0</td>\n      <td>37.033608</td>\n      <td>92.584020</td>\n      <td>0.0</td>\n      <td>0.400000</td>\n    </tr>\n    <tr>\n      <th>Puebla de Guzmán</th>\n      <td>108.0</td>\n      <td>6.0</td>\n      <td>13.0</td>\n      <td>3092.0</td>\n      <td>194.049159</td>\n      <td>420.439845</td>\n      <td>0.0</td>\n      <td>0.461538</td>\n    </tr>\n    <tr>\n      <th>Escacena del Campo</th>\n      <td>141.0</td>\n      <td>1.0</td>\n      <td>2.0</td>\n      <td>2287.0</td>\n      <td>43.725404</td>\n      <td>87.450809</td>\n      <td>0.0</td>\n      <td>0.500000</td>\n    </tr>\n    <tr>\n      <th>Huelva-Costa</th>\n      <td>15226.0</td>\n      <td>89.0</td>\n      <td>172.0</td>\n      <td>289548.0</td>\n      <td>30.737563</td>\n      <td>59.402931</td>\n      <td>12.0</td>\n      <td>0.517442</td>\n    </tr>\n    <tr>\n      <th>Isla Cristina</th>\n      <td>2004.0</td>\n      <td>10.0</td>\n      <td>19.0</td>\n      <td>21393.0</td>\n      <td>46.744262</td>\n      <td>88.814098</td>\n      <td>0.0</td>\n      <td>0.526316</td>\n    </tr>\n    <tr>\n      <th>Villalba del Alcor</th>\n      <td>458.0</td>\n      <td>7.0</td>\n      <td>13.0</td>\n      <td>3366.0</td>\n      <td>207.961973</td>\n      <td>386.215092</td>\n      <td>2.0</td>\n      <td>0.538462</td>\n    </tr>\n    <tr>\n      <th>Palos de la Frontera</th>\n      <td>461.0</td>\n      <td>5.0</td>\n      <td>9.0</td>\n      <td>11742.0</td>\n      <td>42.582184</td>\n      <td>76.647931</td>\n      <td>1.0</td>\n      <td>0.555556</td>\n    </tr>\n    <tr>\n      <th>Lepe</th>\n      <td>2009.0</td>\n      <td>9.0</td>\n      <td>16.0</td>\n      <td>27880.0</td>\n      <td>32.281205</td>\n      <td>57.388809</td>\n      <td>1.0</td>\n      <td>0.562500</td>\n    </tr>\n    <tr>\n      <th>Huelva</th>\n      <td>25058.0</td>\n      <td>232.0</td>\n      <td>382.0</td>\n      <td>513170.0</td>\n      <td>45.209190</td>\n      <td>74.439270</td>\n      <td>59.0</td>\n      <td>0.607330</td>\n    </tr>\n    <tr>\n      <th>Huelva (capital)</th>\n      <td>6633.0</td>\n      <td>39.0</td>\n      <td>64.0</td>\n      <td>143837.0</td>\n      <td>27.114025</td>\n      <td>44.494810</td>\n      <td>10.0</td>\n      <td>0.609375</td>\n    </tr>\n    <tr>\n      <th>San Bartolomé de la Torre</th>\n      <td>212.0</td>\n      <td>8.0</td>\n      <td>13.0</td>\n      <td>3761.0</td>\n      <td>212.709386</td>\n      <td>345.652752</td>\n      <td>2.0</td>\n      <td>0.615385</td>\n    </tr>\n    <tr>\n      <th>Cartaya</th>\n      <td>974.0</td>\n      <td>13.0</td>\n      <td>20.0</td>\n      <td>20083.0</td>\n      <td>64.731365</td>\n      <td>99.586715</td>\n      <td>0.0</td>\n      <td>0.650000</td>\n    </tr>\n    <tr>\n      <th>Villarrasa</th>\n      <td>132.0</td>\n      <td>2.0</td>\n      <td>3.0</td>\n      <td>2211.0</td>\n      <td>90.456807</td>\n      <td>135.685210</td>\n      <td>0.0</td>\n      <td>0.666667</td>\n    </tr>\n    <tr>\n      <th>Condado-Campiña</th>\n      <td>7110.0</td>\n      <td>134.0</td>\n      <td>198.0</td>\n      <td>156231.0</td>\n      <td>85.770430</td>\n      <td>126.735411</td>\n      <td>47.0</td>\n      <td>0.676768</td>\n    </tr>\n    <tr>\n      <th>Bollullos Par del Condado</th>\n      <td>634.0</td>\n      <td>13.0</td>\n      <td>18.0</td>\n      <td>14387.0</td>\n      <td>90.359352</td>\n      <td>125.112949</td>\n      <td>2.0</td>\n      <td>0.722222</td>\n    </tr>\n    <tr>\n      <th>Almonte</th>\n      <td>916.0</td>\n      <td>37.0</td>\n      <td>48.0</td>\n      <td>24507.0</td>\n      <td>150.977272</td>\n      <td>195.862407</td>\n      <td>11.0</td>\n      <td>0.770833</td>\n    </tr>\n    <tr>\n      <th>Moguer</th>\n      <td>860.0</td>\n      <td>24.0</td>\n      <td>31.0</td>\n      <td>21867.0</td>\n      <td>109.754424</td>\n      <td>141.766132</td>\n      <td>11.0</td>\n      <td>0.774194</td>\n    </tr>\n    <tr>\n      <th>Sierra de Huelva-Andévalo Central</th>\n      <td>2308.0</td>\n      <td>7.0</td>\n      <td>9.0</td>\n      <td>67391.0</td>\n      <td>10.387144</td>\n      <td>13.354899</td>\n      <td>0.0</td>\n      <td>0.777778</td>\n    </tr>\n    <tr>\n      <th>Gibraleón</th>\n      <td>530.0</td>\n      <td>15.0</td>\n      <td>19.0</td>\n      <td>12737.0</td>\n      <td>117.767135</td>\n      <td>149.171704</td>\n      <td>9.0</td>\n      <td>0.789474</td>\n    </tr>\n    <tr>\n      <th>Alosno</th>\n      <td>128.0</td>\n      <td>5.0</td>\n      <td>6.0</td>\n      <td>3933.0</td>\n      <td>127.129418</td>\n      <td>152.555301</td>\n      <td>0.0</td>\n      <td>0.833333</td>\n    </tr>\n    <tr>\n      <th>Rociana del Condado</th>\n      <td>323.0</td>\n      <td>10.0</td>\n      <td>12.0</td>\n      <td>7939.0</td>\n      <td>125.960448</td>\n      <td>151.152538</td>\n      <td>3.0</td>\n      <td>0.833333</td>\n    </tr>\n    <tr>\n      <th>Valverde del Camino</th>\n      <td>423.0</td>\n      <td>6.0</td>\n      <td>7.0</td>\n      <td>12750.0</td>\n      <td>47.058824</td>\n      <td>54.901961</td>\n      <td>0.0</td>\n      <td>0.857143</td>\n    </tr>\n    <tr>\n      <th>Aljaraque</th>\n      <td>928.0</td>\n      <td>3.0</td>\n      <td>3.0</td>\n      <td>21474.0</td>\n      <td>13.970383</td>\n      <td>13.970383</td>\n      <td>0.0</td>\n      <td>1.000000</td>\n    </tr>\n    <tr>\n      <th>Niebla</th>\n      <td>159.0</td>\n      <td>2.0</td>\n      <td>2.0</td>\n      <td>4116.0</td>\n      <td>48.590865</td>\n      <td>48.590865</td>\n      <td>1.0</td>\n      <td>1.000000</td>\n    </tr>\n    <tr>\n      <th>Bonares</th>\n      <td>180.0</td>\n      <td>2.0</td>\n      <td>2.0</td>\n      <td>6060.0</td>\n      <td>33.003300</td>\n      <td>33.003300</td>\n      <td>0.0</td>\n      <td>1.000000</td>\n    </tr>\n    <tr>\n      <th>Paterna del Campo</th>\n      <td>113.0</td>\n      <td>1.0</td>\n      <td>1.0</td>\n      <td>3457.0</td>\n      <td>28.926815</td>\n      <td>28.926815</td>\n      <td>0.0</td>\n      <td>1.000000</td>\n    </tr>\n    <tr>\n      <th>Zalamea la Real</th>\n      <td>85.0</td>\n      <td>1.0</td>\n      <td>1.0</td>\n      <td>3054.0</td>\n      <td>32.743942</td>\n      <td>32.743942</td>\n      <td>0.0</td>\n      <td>1.000000</td>\n    </tr>\n  </tbody>\n</table>\n</div>"
     },
     "metadata": {},
     "execution_count": 18
    }
   ],
   "source": [
    "# Peso de la tasa de la última semana en relación con la tasa a 14 días \n",
    "# Mejor cuanto menor. Valor 1 significa que no había casos antes de 7 días.\n",
    "tabla['7/14'] = tabla['tasa7'] / tabla['tasa14']\n",
    "tabla.fillna(0).sort_values('7/14', ascending=True)"
   ]
  },
  {
   "cell_type": "code",
   "execution_count": null,
   "metadata": {},
   "outputs": [],
   "source": []
  }
 ]
}