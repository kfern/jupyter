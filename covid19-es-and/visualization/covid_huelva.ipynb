{
 "metadata": {
  "language_info": {
   "codemirror_mode": {
    "name": "ipython",
    "version": 3
   },
   "file_extension": ".py",
   "mimetype": "text/x-python",
   "name": "python",
   "nbconvert_exporter": "python",
   "pygments_lexer": "ipython3",
   "version": "3.8.6"
  },
  "orig_nbformat": 2,
  "kernelspec": {
   "name": "python3",
   "display_name": "Python 3",
   "language": "python"
  }
 },
 "nbformat": 4,
 "nbformat_minor": 2,
 "cells": [
  {
   "cell_type": "code",
   "execution_count": 1,
   "metadata": {},
   "outputs": [],
   "source": [
    "import pandas as pd\n",
    "pd.set_option('display.max_rows', None) # Print all rows"
   ]
  },
  {
   "cell_type": "code",
   "execution_count": 2,
   "metadata": {},
   "outputs": [],
   "source": [
    "# FIX SSL: CERTIFICATE_VERIFY_FAILED with Python3\n",
    "# https://stackoverflow.com/a/49174340\n",
    "import ssl\n",
    "\n",
    "ssl._create_default_https_context = ssl._create_unverified_context"
   ]
  },
  {
   "cell_type": "code",
   "execution_count": 3,
   "metadata": {},
   "outputs": [],
   "source": [
    "url = 'https://www.juntadeandalucia.es/institutodeestadisticaycartografia/badea/stpivot/stpivot/Print?cube=013d884c-cfc5-4c21-9e78-e26225682afd&type=3&foto=si&ejecutaDesde=&codConsulta=38668&consTipoVisua=JP'\n",
    "fields = ['Lugar de residencia', 'Medida', 'Valor']\n",
    "df = pd.read_csv(url, delimiter=';', usecols=fields, decimal=',')"
   ]
  },
  {
   "cell_type": "code",
   "execution_count": 4,
   "metadata": {},
   "outputs": [
    {
     "output_type": "execute_result",
     "data": {
      "text/plain": [
       "  Lugar de residencia                    Medida               Valor\n",
       "0              Huelva                 Población              513170\n",
       "1              Huelva          Confirmados PDIA               27980\n",
       "2              Huelva  Confirmados PDIA 14 días                1288\n",
       "3              Huelva         Tasa PDIA 14 días  250,98895102987314\n",
       "4              Huelva   Confirmados PDIA 7 días                 577\n",
       "5              Huelva        Total Confirmados                28153\n",
       "6              Huelva                   Curados               23528\n",
       "7              Huelva                Fallecidos                 362"
      ],
      "text/html": "<div>\n<style scoped>\n    .dataframe tbody tr th:only-of-type {\n        vertical-align: middle;\n    }\n\n    .dataframe tbody tr th {\n        vertical-align: top;\n    }\n\n    .dataframe thead th {\n        text-align: right;\n    }\n</style>\n<table border=\"1\" class=\"dataframe\">\n  <thead>\n    <tr style=\"text-align: right;\">\n      <th></th>\n      <th>Lugar de residencia</th>\n      <th>Medida</th>\n      <th>Valor</th>\n    </tr>\n  </thead>\n  <tbody>\n    <tr>\n      <th>0</th>\n      <td>Huelva</td>\n      <td>Población</td>\n      <td>513170</td>\n    </tr>\n    <tr>\n      <th>1</th>\n      <td>Huelva</td>\n      <td>Confirmados PDIA</td>\n      <td>27980</td>\n    </tr>\n    <tr>\n      <th>2</th>\n      <td>Huelva</td>\n      <td>Confirmados PDIA 14 días</td>\n      <td>1288</td>\n    </tr>\n    <tr>\n      <th>3</th>\n      <td>Huelva</td>\n      <td>Tasa PDIA 14 días</td>\n      <td>250,98895102987314</td>\n    </tr>\n    <tr>\n      <th>4</th>\n      <td>Huelva</td>\n      <td>Confirmados PDIA 7 días</td>\n      <td>577</td>\n    </tr>\n    <tr>\n      <th>5</th>\n      <td>Huelva</td>\n      <td>Total Confirmados</td>\n      <td>28153</td>\n    </tr>\n    <tr>\n      <th>6</th>\n      <td>Huelva</td>\n      <td>Curados</td>\n      <td>23528</td>\n    </tr>\n    <tr>\n      <th>7</th>\n      <td>Huelva</td>\n      <td>Fallecidos</td>\n      <td>362</td>\n    </tr>\n  </tbody>\n</table>\n</div>"
     },
     "metadata": {},
     "execution_count": 4
    }
   ],
   "source": [
    "df[df['Lugar de residencia'] == 'Huelva']"
   ]
  },
  {
   "cell_type": "code",
   "execution_count": 5,
   "metadata": {},
   "outputs": [],
   "source": [
    "df['Valor'] = pd.to_numeric(df['Valor'],errors='coerce')"
   ]
  },
  {
   "cell_type": "code",
   "execution_count": 6,
   "metadata": {},
   "outputs": [],
   "source": [
    "dfAnterior = pd.read_csv('covid_huelva.csv', index_col='Lugar de residencia')"
   ]
  },
  {
   "cell_type": "code",
   "execution_count": 7,
   "metadata": {
    "tags": []
   },
   "outputs": [
    {
     "output_type": "stream",
     "name": "stdout",
     "text": [
      "Confirmados PCR en la provincia de Huelva:  27980.0\n",
      "<ipython-input-7-31b732756b19>:2: UserWarning: Boolean Series key will be reindexed to match DataFrame index.\n",
      "  p = df[df['Lugar de residencia'] == 'Huelva'][df['Medida'] == 'Confirmados PDIA']['Valor'].values[0]\n"
     ]
    }
   ],
   "source": [
    "# Confirmados PCR provincia Huelva\n",
    "p = df[df['Lugar de residencia'] == 'Huelva'][df['Medida'] == 'Confirmados PDIA']['Valor'].values[0]\n",
    "print('Confirmados PCR en la provincia de Huelva: ', p)"
   ]
  },
  {
   "cell_type": "code",
   "execution_count": 8,
   "metadata": {
    "tags": []
   },
   "outputs": [
    {
     "output_type": "stream",
     "name": "stdout",
     "text": [
      "Confirmados PCR en Huelva capital:  7242.0\n",
      "<ipython-input-8-e81bfb40e710>:2: UserWarning: Boolean Series key will be reindexed to match DataFrame index.\n",
      "  c = df[df['Lugar de residencia'] == 'Huelva (capital)'][df['Medida'] == 'Confirmados PDIA']['Valor'].values[0]\n"
     ]
    }
   ],
   "source": [
    "# Confirmados PCR Huelva capitalpd\n",
    "c = df[df['Lugar de residencia'] == 'Huelva (capital)'][df['Medida'] == 'Confirmados PDIA']['Valor'].values[0]\n",
    "print('Confirmados PCR en Huelva capital: ', c)"
   ]
  },
  {
   "cell_type": "code",
   "execution_count": 9,
   "metadata": {
    "tags": []
   },
   "outputs": [
    {
     "output_type": "stream",
     "name": "stderr",
     "text": [
      "<ipython-input-9-f09dd2050cc1>:1: UserWarning: Boolean Series key will be reindexed to match DataFrame index.\n  c7 = df[df['Lugar de residencia'] == 'Huelva (capital)'][df['Medida'] == 'Confirmados PDIA 7 días']['Valor'].values[0]\n<ipython-input-9-f09dd2050cc1>:2: UserWarning: Boolean Series key will be reindexed to match DataFrame index.\n  c14 = df[df['Lugar de residencia'] == 'Huelva (capital)'][df['Medida'] == 'Confirmados PDIA 14 días']['Valor'].values[0]\n<ipython-input-9-f09dd2050cc1>:3: UserWarning: Boolean Series key will be reindexed to match DataFrame index.\n  p = df[df['Lugar de residencia'] == 'Huelva (capital)'][df['Medida'] == 'Población']['Valor'].values[0]\n"
     ]
    }
   ],
   "source": [
    "c7 = df[df['Lugar de residencia'] == 'Huelva (capital)'][df['Medida'] == 'Confirmados PDIA 7 días']['Valor'].values[0]\n",
    "c14 = df[df['Lugar de residencia'] == 'Huelva (capital)'][df['Medida'] == 'Confirmados PDIA 14 días']['Valor'].values[0]\n",
    "p = df[df['Lugar de residencia'] == 'Huelva (capital)'][df['Medida'] == 'Población']['Valor'].values[0]"
   ]
  },
  {
   "cell_type": "code",
   "execution_count": 10,
   "metadata": {
    "tags": []
   },
   "outputs": [
    {
     "output_type": "stream",
     "name": "stdout",
     "text": [
      "Huelva (capital)\n\nUn positivo PCR cada 1199 personas en los últimos 7 días \n\nUn positivo PCR cada 517 personas en los últimos 14 días\n"
     ]
    }
   ],
   "source": [
    "print('Huelva (capital)\\n')\n",
    "#print('Confirmados PCR 7 días x 1,000 habitantes: ', f\"{c7/(p/1000):.5f}\")\n",
    "print('Un positivo PCR cada', f\"{p/c7:.0f}\", 'personas en los últimos 7 días', '\\n')\n",
    "#print('Confirmados PCR 14 días x 1,000 habitantes: ', f\"{c14/(p/1000):.5f}\")\n",
    "print('Un positivo PCR cada', f\"{p/c14:.0f}\", 'personas en los últimos 14 días')"
   ]
  },
  {
   "cell_type": "code",
   "execution_count": 11,
   "metadata": {},
   "outputs": [],
   "source": [
    "filtro = ((df['Medida'] == 'Confirmados PDIA')| (df['Medida'] == 'Confirmados PDIA 7 días') | (df['Medida'] == 'Población' ) | (df['Medida'] == 'Confirmados PDIA 14 días')) & (df['Valor'] > 0)\n",
    "tabla = pd.pivot_table(df.loc[filtro], values='Valor', index='Lugar de residencia', columns='Medida').dropna()"
   ]
  },
  {
   "cell_type": "code",
   "execution_count": 12,
   "metadata": {},
   "outputs": [],
   "source": [
    "# Reorder columns\n",
    "tabla = tabla[['Confirmados PDIA', 'Confirmados PDIA 7 días', 'Confirmados PDIA 14 días', 'Población']]"
   ]
  },
  {
   "cell_type": "code",
   "execution_count": 13,
   "metadata": {},
   "outputs": [],
   "source": [
    "tabla['tasa7'] = tabla['Confirmados PDIA 7 días']/tabla['Población']*100000\n",
    "tabla['tasa14'] = tabla['Confirmados PDIA 14 días']/tabla['Población']*100000"
   ]
  },
  {
   "cell_type": "code",
   "execution_count": 14,
   "metadata": {},
   "outputs": [],
   "source": [
    "tabla['Diferencia PDIA'] = tabla['Confirmados PDIA'] - dfAnterior['Confirmados PDIA']"
   ]
  },
  {
   "cell_type": "code",
   "execution_count": 15,
   "metadata": {},
   "outputs": [
    {
     "output_type": "execute_result",
     "data": {
      "text/plain": [
       "Medida                             Confirmados PDIA  Confirmados PDIA 7 días  \\\n",
       "Lugar de residencia                                                            \n",
       "Huelva                                      27980.0                    577.0   \n",
       "Condado-Campiña                              8695.0                    316.0   \n",
       "Huelva-Costa                                16370.0                    190.0   \n",
       "Almonte                                      1438.0                    108.0   \n",
       "Sierra de Huelva-Andévalo Central            2503.0                     63.0   \n",
       "Huelva (capital)                             7242.0                    120.0   \n",
       "San Juan del Puerto                           432.0                     19.0   \n",
       "Bollullos Par del Condado                     773.0                     36.0   \n",
       "Bonares                                       242.0                     17.0   \n",
       "Lucena del Puerto                             202.0                     13.0   \n",
       "Beas                                          185.0                     11.0   \n",
       "Moguer                                       1056.0                     39.0   \n",
       "Cumbres Mayores                                48.0                     21.0   \n",
       "Isla Cristina                                2036.0                     12.0   \n",
       "Rociana del Condado                           495.0                     27.0   \n",
       "Palos de la Frontera                          569.0                     10.0   \n",
       "Valverde del Camino                           463.0                     10.0   \n",
       "Minas de Riotinto                             109.0                      3.0   \n",
       "Cumbres de San Bartolomé                       10.0                      5.0   \n",
       "Palma del Condado (La)                       1028.0                     10.0   \n",
       "Punta Umbría                                  696.0                      9.0   \n",
       "Gibraleón                                     574.0                     10.0   \n",
       "Niebla                                        192.0                      5.0   \n",
       "Cartaya                                      1240.0                     27.0   \n",
       "Ayamonte                                     1263.0                      2.0   \n",
       "Aroche                                         89.0                      2.0   \n",
       "Aracena                                       506.0                      7.0   \n",
       "Aljaraque                                     990.0                     11.0   \n",
       "Encinasola                                    117.0                      1.0   \n",
       "Trigueros                                     258.0                      5.0   \n",
       "\n",
       "Medida                             Confirmados PDIA 14 días  Población  \\\n",
       "Lugar de residencia                                                      \n",
       "Huelva                                               1288.0   513170.0   \n",
       "Condado-Campiña                                       677.0   156231.0   \n",
       "Huelva-Costa                                          480.0   289548.0   \n",
       "Almonte                                               249.0    24507.0   \n",
       "Sierra de Huelva-Andévalo Central                     113.0    67391.0   \n",
       "Huelva (capital)                                      278.0   143837.0   \n",
       "San Juan del Puerto                                    26.0     9411.0   \n",
       "Bollullos Par del Condado                              63.0    14387.0   \n",
       "Bonares                                                23.0     6060.0   \n",
       "Lucena del Puerto                                      20.0     3261.0   \n",
       "Beas                                                   20.0     4341.0   \n",
       "Moguer                                                 88.0    21867.0   \n",
       "Cumbres Mayores                                        23.0     1749.0   \n",
       "Isla Cristina                                          17.0    21393.0   \n",
       "Rociana del Condado                                    64.0     7939.0   \n",
       "Palos de la Frontera                                   43.0    11742.0   \n",
       "Valverde del Camino                                    20.0    12750.0   \n",
       "Minas de Riotinto                                       9.0     3812.0   \n",
       "Cumbres de San Bartolomé                                5.0      376.0   \n",
       "Palma del Condado (La)                                 19.0    10801.0   \n",
       "Punta Umbría                                           15.0    15355.0   \n",
       "Gibraleón                                              18.0    12737.0   \n",
       "Niebla                                                  9.0     4116.0   \n",
       "Cartaya                                               114.0    20083.0   \n",
       "Ayamonte                                                7.0    21104.0   \n",
       "Aroche                                                  4.0     3054.0   \n",
       "Aracena                                                18.0     8255.0   \n",
       "Aljaraque                                              22.0    21474.0   \n",
       "Encinasola                                              1.0     1310.0   \n",
       "Trigueros                                              12.0     7862.0   \n",
       "\n",
       "Medida                                   tasa7       tasa14  Diferencia PDIA  \n",
       "Lugar de residencia                                                           \n",
       "Huelva                              112.438373   250.988951            127.0  \n",
       "Condado-Campiña                     202.264595   433.332693             84.0  \n",
       "Huelva-Costa                         65.619517   165.775623             24.0  \n",
       "Almonte                             440.690415  1016.036235             20.0  \n",
       "Sierra de Huelva-Andévalo Central    93.484293   167.678177             16.0  \n",
       "Huelva (capital)                     83.427769   193.274331             15.0  \n",
       "San Juan del Puerto                 201.891404   276.272447              9.0  \n",
       "Bollullos Par del Condado           250.225898   437.895322              9.0  \n",
       "Bonares                             280.528053   379.537954              8.0  \n",
       "Lucena del Puerto                   398.650721   613.308801              8.0  \n",
       "Beas                                253.397835   460.723336              7.0  \n",
       "Moguer                              178.350940   402.432890              7.0  \n",
       "Cumbres Mayores                    1200.686106  1315.037164              5.0  \n",
       "Isla Cristina                        56.093115    79.465246              4.0  \n",
       "Rociana del Condado                 340.093211   806.146870              4.0  \n",
       "Palos de la Frontera                 85.164367   366.206779              4.0  \n",
       "Valverde del Camino                  78.431373   156.862745              4.0  \n",
       "Minas de Riotinto                    78.698846   236.096537              2.0  \n",
       "Cumbres de San Bartolomé           1329.787234  1329.787234              2.0  \n",
       "Palma del Condado (La)               92.584020   175.909638              2.0  \n",
       "Punta Umbría                         58.612830    97.688049              2.0  \n",
       "Gibraleón                            78.511423   141.320562              1.0  \n",
       "Niebla                              121.477162   218.658892              1.0  \n",
       "Cartaya                             134.442065   567.644276              1.0  \n",
       "Ayamonte                              9.476876    33.169067              1.0  \n",
       "Aroche                               65.487885   130.975769              1.0  \n",
       "Aracena                              84.797093   218.049667              1.0  \n",
       "Aljaraque                            51.224737   102.449474              1.0  \n",
       "Encinasola                           76.335878    76.335878              NaN  \n",
       "Trigueros                            63.597049   152.632918              NaN  "
      ],
      "text/html": "<div>\n<style scoped>\n    .dataframe tbody tr th:only-of-type {\n        vertical-align: middle;\n    }\n\n    .dataframe tbody tr th {\n        vertical-align: top;\n    }\n\n    .dataframe thead th {\n        text-align: right;\n    }\n</style>\n<table border=\"1\" class=\"dataframe\">\n  <thead>\n    <tr style=\"text-align: right;\">\n      <th>Medida</th>\n      <th>Confirmados PDIA</th>\n      <th>Confirmados PDIA 7 días</th>\n      <th>Confirmados PDIA 14 días</th>\n      <th>Población</th>\n      <th>tasa7</th>\n      <th>tasa14</th>\n      <th>Diferencia PDIA</th>\n    </tr>\n    <tr>\n      <th>Lugar de residencia</th>\n      <th></th>\n      <th></th>\n      <th></th>\n      <th></th>\n      <th></th>\n      <th></th>\n      <th></th>\n    </tr>\n  </thead>\n  <tbody>\n    <tr>\n      <th>Huelva</th>\n      <td>27980.0</td>\n      <td>577.0</td>\n      <td>1288.0</td>\n      <td>513170.0</td>\n      <td>112.438373</td>\n      <td>250.988951</td>\n      <td>127.0</td>\n    </tr>\n    <tr>\n      <th>Condado-Campiña</th>\n      <td>8695.0</td>\n      <td>316.0</td>\n      <td>677.0</td>\n      <td>156231.0</td>\n      <td>202.264595</td>\n      <td>433.332693</td>\n      <td>84.0</td>\n    </tr>\n    <tr>\n      <th>Huelva-Costa</th>\n      <td>16370.0</td>\n      <td>190.0</td>\n      <td>480.0</td>\n      <td>289548.0</td>\n      <td>65.619517</td>\n      <td>165.775623</td>\n      <td>24.0</td>\n    </tr>\n    <tr>\n      <th>Almonte</th>\n      <td>1438.0</td>\n      <td>108.0</td>\n      <td>249.0</td>\n      <td>24507.0</td>\n      <td>440.690415</td>\n      <td>1016.036235</td>\n      <td>20.0</td>\n    </tr>\n    <tr>\n      <th>Sierra de Huelva-Andévalo Central</th>\n      <td>2503.0</td>\n      <td>63.0</td>\n      <td>113.0</td>\n      <td>67391.0</td>\n      <td>93.484293</td>\n      <td>167.678177</td>\n      <td>16.0</td>\n    </tr>\n    <tr>\n      <th>Huelva (capital)</th>\n      <td>7242.0</td>\n      <td>120.0</td>\n      <td>278.0</td>\n      <td>143837.0</td>\n      <td>83.427769</td>\n      <td>193.274331</td>\n      <td>15.0</td>\n    </tr>\n    <tr>\n      <th>San Juan del Puerto</th>\n      <td>432.0</td>\n      <td>19.0</td>\n      <td>26.0</td>\n      <td>9411.0</td>\n      <td>201.891404</td>\n      <td>276.272447</td>\n      <td>9.0</td>\n    </tr>\n    <tr>\n      <th>Bollullos Par del Condado</th>\n      <td>773.0</td>\n      <td>36.0</td>\n      <td>63.0</td>\n      <td>14387.0</td>\n      <td>250.225898</td>\n      <td>437.895322</td>\n      <td>9.0</td>\n    </tr>\n    <tr>\n      <th>Bonares</th>\n      <td>242.0</td>\n      <td>17.0</td>\n      <td>23.0</td>\n      <td>6060.0</td>\n      <td>280.528053</td>\n      <td>379.537954</td>\n      <td>8.0</td>\n    </tr>\n    <tr>\n      <th>Lucena del Puerto</th>\n      <td>202.0</td>\n      <td>13.0</td>\n      <td>20.0</td>\n      <td>3261.0</td>\n      <td>398.650721</td>\n      <td>613.308801</td>\n      <td>8.0</td>\n    </tr>\n    <tr>\n      <th>Beas</th>\n      <td>185.0</td>\n      <td>11.0</td>\n      <td>20.0</td>\n      <td>4341.0</td>\n      <td>253.397835</td>\n      <td>460.723336</td>\n      <td>7.0</td>\n    </tr>\n    <tr>\n      <th>Moguer</th>\n      <td>1056.0</td>\n      <td>39.0</td>\n      <td>88.0</td>\n      <td>21867.0</td>\n      <td>178.350940</td>\n      <td>402.432890</td>\n      <td>7.0</td>\n    </tr>\n    <tr>\n      <th>Cumbres Mayores</th>\n      <td>48.0</td>\n      <td>21.0</td>\n      <td>23.0</td>\n      <td>1749.0</td>\n      <td>1200.686106</td>\n      <td>1315.037164</td>\n      <td>5.0</td>\n    </tr>\n    <tr>\n      <th>Isla Cristina</th>\n      <td>2036.0</td>\n      <td>12.0</td>\n      <td>17.0</td>\n      <td>21393.0</td>\n      <td>56.093115</td>\n      <td>79.465246</td>\n      <td>4.0</td>\n    </tr>\n    <tr>\n      <th>Rociana del Condado</th>\n      <td>495.0</td>\n      <td>27.0</td>\n      <td>64.0</td>\n      <td>7939.0</td>\n      <td>340.093211</td>\n      <td>806.146870</td>\n      <td>4.0</td>\n    </tr>\n    <tr>\n      <th>Palos de la Frontera</th>\n      <td>569.0</td>\n      <td>10.0</td>\n      <td>43.0</td>\n      <td>11742.0</td>\n      <td>85.164367</td>\n      <td>366.206779</td>\n      <td>4.0</td>\n    </tr>\n    <tr>\n      <th>Valverde del Camino</th>\n      <td>463.0</td>\n      <td>10.0</td>\n      <td>20.0</td>\n      <td>12750.0</td>\n      <td>78.431373</td>\n      <td>156.862745</td>\n      <td>4.0</td>\n    </tr>\n    <tr>\n      <th>Minas de Riotinto</th>\n      <td>109.0</td>\n      <td>3.0</td>\n      <td>9.0</td>\n      <td>3812.0</td>\n      <td>78.698846</td>\n      <td>236.096537</td>\n      <td>2.0</td>\n    </tr>\n    <tr>\n      <th>Cumbres de San Bartolomé</th>\n      <td>10.0</td>\n      <td>5.0</td>\n      <td>5.0</td>\n      <td>376.0</td>\n      <td>1329.787234</td>\n      <td>1329.787234</td>\n      <td>2.0</td>\n    </tr>\n    <tr>\n      <th>Palma del Condado (La)</th>\n      <td>1028.0</td>\n      <td>10.0</td>\n      <td>19.0</td>\n      <td>10801.0</td>\n      <td>92.584020</td>\n      <td>175.909638</td>\n      <td>2.0</td>\n    </tr>\n    <tr>\n      <th>Punta Umbría</th>\n      <td>696.0</td>\n      <td>9.0</td>\n      <td>15.0</td>\n      <td>15355.0</td>\n      <td>58.612830</td>\n      <td>97.688049</td>\n      <td>2.0</td>\n    </tr>\n    <tr>\n      <th>Gibraleón</th>\n      <td>574.0</td>\n      <td>10.0</td>\n      <td>18.0</td>\n      <td>12737.0</td>\n      <td>78.511423</td>\n      <td>141.320562</td>\n      <td>1.0</td>\n    </tr>\n    <tr>\n      <th>Niebla</th>\n      <td>192.0</td>\n      <td>5.0</td>\n      <td>9.0</td>\n      <td>4116.0</td>\n      <td>121.477162</td>\n      <td>218.658892</td>\n      <td>1.0</td>\n    </tr>\n    <tr>\n      <th>Cartaya</th>\n      <td>1240.0</td>\n      <td>27.0</td>\n      <td>114.0</td>\n      <td>20083.0</td>\n      <td>134.442065</td>\n      <td>567.644276</td>\n      <td>1.0</td>\n    </tr>\n    <tr>\n      <th>Ayamonte</th>\n      <td>1263.0</td>\n      <td>2.0</td>\n      <td>7.0</td>\n      <td>21104.0</td>\n      <td>9.476876</td>\n      <td>33.169067</td>\n      <td>1.0</td>\n    </tr>\n    <tr>\n      <th>Aroche</th>\n      <td>89.0</td>\n      <td>2.0</td>\n      <td>4.0</td>\n      <td>3054.0</td>\n      <td>65.487885</td>\n      <td>130.975769</td>\n      <td>1.0</td>\n    </tr>\n    <tr>\n      <th>Aracena</th>\n      <td>506.0</td>\n      <td>7.0</td>\n      <td>18.0</td>\n      <td>8255.0</td>\n      <td>84.797093</td>\n      <td>218.049667</td>\n      <td>1.0</td>\n    </tr>\n    <tr>\n      <th>Aljaraque</th>\n      <td>990.0</td>\n      <td>11.0</td>\n      <td>22.0</td>\n      <td>21474.0</td>\n      <td>51.224737</td>\n      <td>102.449474</td>\n      <td>1.0</td>\n    </tr>\n    <tr>\n      <th>Encinasola</th>\n      <td>117.0</td>\n      <td>1.0</td>\n      <td>1.0</td>\n      <td>1310.0</td>\n      <td>76.335878</td>\n      <td>76.335878</td>\n      <td>NaN</td>\n    </tr>\n    <tr>\n      <th>Trigueros</th>\n      <td>258.0</td>\n      <td>5.0</td>\n      <td>12.0</td>\n      <td>7862.0</td>\n      <td>63.597049</td>\n      <td>152.632918</td>\n      <td>NaN</td>\n    </tr>\n  </tbody>\n</table>\n</div>"
     },
     "metadata": {},
     "execution_count": 15
    }
   ],
   "source": [
    "# Nuevos casos desde la última captura\n",
    "tabla[tabla['Diferencia PDIA'] != 0].sort_values('Diferencia PDIA', ascending=False)"
   ]
  },
  {
   "cell_type": "code",
   "execution_count": 16,
   "metadata": {},
   "outputs": [],
   "source": [
    "if tabla[tabla['Diferencia PDIA'] != 0]['Diferencia PDIA'].sum() != 0:\n",
    "  # Save to csv\n",
    "  tabla.to_csv('covid_huelva.csv', encoding='utf-8', header=True, index=True)  "
   ]
  },
  {
   "cell_type": "code",
   "execution_count": 17,
   "metadata": {},
   "outputs": [
    {
     "output_type": "execute_result",
     "data": {
      "text/plain": [
       "Medida                             Confirmados PDIA  Confirmados PDIA 7 días  \\\n",
       "Lugar de residencia                                                            \n",
       "Cumbres de San Bartolomé                       10.0                      5.0   \n",
       "Cumbres Mayores                                48.0                     21.0   \n",
       "Almonte                                      1438.0                    108.0   \n",
       "Santa Ana la Real                               9.0                      3.0   \n",
       "Rociana del Condado                           495.0                     27.0   \n",
       "Lucena del Puerto                             202.0                     13.0   \n",
       "Galaroza                                       24.0                      7.0   \n",
       "Cartaya                                      1240.0                     27.0   \n",
       "Beas                                          185.0                     11.0   \n",
       "Almonaster la Real                             63.0                      1.0   \n",
       "Bollullos Par del Condado                     773.0                     36.0   \n",
       "Condado-Campiña                              8695.0                    316.0   \n",
       "Moguer                                       1056.0                     39.0   \n",
       "Bonares                                       242.0                     17.0   \n",
       "Granado (El)                                   38.0                      1.0   \n",
       "San Bartolomé de la Torre                     282.0                      5.0   \n",
       "Palos de la Frontera                          569.0                     10.0   \n",
       "Cortelazor                                      5.0                      1.0   \n",
       "Villarrasa                                    147.0                      1.0   \n",
       "San Juan del Puerto                           432.0                     19.0   \n",
       "Huelva                                      27980.0                    577.0   \n",
       "Minas de Riotinto                             109.0                      3.0   \n",
       "Niebla                                        192.0                      5.0   \n",
       "Aracena                                       506.0                      7.0   \n",
       "Huelva (capital)                             7242.0                    120.0   \n",
       "Palma del Condado (La)                       1028.0                     10.0   \n",
       "Sierra de Huelva-Andévalo Central            2503.0                     63.0   \n",
       "Huelva-Costa                                16370.0                    190.0   \n",
       "Valverde del Camino                           463.0                     10.0   \n",
       "Trigueros                                     258.0                      5.0   \n",
       "Gibraleón                                     574.0                     10.0   \n",
       "Aroche                                         89.0                      2.0   \n",
       "Aljaraque                                     990.0                     11.0   \n",
       "Punta Umbría                                  696.0                      9.0   \n",
       "Isla Cristina                                2036.0                     12.0   \n",
       "Lepe                                         2064.0                      8.0   \n",
       "Encinasola                                    117.0                      1.0   \n",
       "Cortegana                                     194.0                      2.0   \n",
       "Ayamonte                                     1263.0                      2.0   \n",
       "\n",
       "Medida                             Confirmados PDIA 14 días  Población  \\\n",
       "Lugar de residencia                                                      \n",
       "Cumbres de San Bartolomé                                5.0      376.0   \n",
       "Cumbres Mayores                                        23.0     1749.0   \n",
       "Almonte                                               249.0    24507.0   \n",
       "Santa Ana la Real                                       4.0      475.0   \n",
       "Rociana del Condado                                    64.0     7939.0   \n",
       "Lucena del Puerto                                      20.0     3261.0   \n",
       "Galaroza                                                8.0     1382.0   \n",
       "Cartaya                                               114.0    20083.0   \n",
       "Beas                                                   20.0     4341.0   \n",
       "Almonaster la Real                                      8.0     1788.0   \n",
       "Bollullos Par del Condado                              63.0    14387.0   \n",
       "Condado-Campiña                                       677.0   156231.0   \n",
       "Moguer                                                 88.0    21867.0   \n",
       "Bonares                                                23.0     6060.0   \n",
       "Granado (El)                                            2.0      532.0   \n",
       "San Bartolomé de la Torre                              14.0     3761.0   \n",
       "Palos de la Frontera                                   43.0    11742.0   \n",
       "Cortelazor                                              1.0      299.0   \n",
       "Villarrasa                                              7.0     2211.0   \n",
       "San Juan del Puerto                                    26.0     9411.0   \n",
       "Huelva                                               1288.0   513170.0   \n",
       "Minas de Riotinto                                       9.0     3812.0   \n",
       "Niebla                                                  9.0     4116.0   \n",
       "Aracena                                                18.0     8255.0   \n",
       "Huelva (capital)                                      278.0   143837.0   \n",
       "Palma del Condado (La)                                 19.0    10801.0   \n",
       "Sierra de Huelva-Andévalo Central                     113.0    67391.0   \n",
       "Huelva-Costa                                          480.0   289548.0   \n",
       "Valverde del Camino                                    20.0    12750.0   \n",
       "Trigueros                                              12.0     7862.0   \n",
       "Gibraleón                                              18.0    12737.0   \n",
       "Aroche                                                  4.0     3054.0   \n",
       "Aljaraque                                              22.0    21474.0   \n",
       "Punta Umbría                                           15.0    15355.0   \n",
       "Isla Cristina                                          17.0    21393.0   \n",
       "Lepe                                                   22.0    27880.0   \n",
       "Encinasola                                              1.0     1310.0   \n",
       "Cortegana                                               2.0     4602.0   \n",
       "Ayamonte                                                7.0    21104.0   \n",
       "\n",
       "Medida                                   tasa7       tasa14  Diferencia PDIA  \n",
       "Lugar de residencia                                                           \n",
       "Cumbres de San Bartolomé           1329.787234  1329.787234              2.0  \n",
       "Cumbres Mayores                    1200.686106  1315.037164              5.0  \n",
       "Almonte                             440.690415  1016.036235             20.0  \n",
       "Santa Ana la Real                   631.578947   842.105263              0.0  \n",
       "Rociana del Condado                 340.093211   806.146870              4.0  \n",
       "Lucena del Puerto                   398.650721   613.308801              8.0  \n",
       "Galaroza                            506.512301   578.871201              0.0  \n",
       "Cartaya                             134.442065   567.644276              1.0  \n",
       "Beas                                253.397835   460.723336              7.0  \n",
       "Almonaster la Real                   55.928412   447.427293              0.0  \n",
       "Bollullos Par del Condado           250.225898   437.895322              9.0  \n",
       "Condado-Campiña                     202.264595   433.332693             84.0  \n",
       "Moguer                              178.350940   402.432890              7.0  \n",
       "Bonares                             280.528053   379.537954              8.0  \n",
       "Granado (El)                        187.969925   375.939850              0.0  \n",
       "San Bartolomé de la Torre           132.943366   372.241425              0.0  \n",
       "Palos de la Frontera                 85.164367   366.206779              4.0  \n",
       "Cortelazor                          334.448161   334.448161              0.0  \n",
       "Villarrasa                           45.228403   316.598824              0.0  \n",
       "San Juan del Puerto                 201.891404   276.272447              9.0  \n",
       "Huelva                              112.438373   250.988951            127.0  \n",
       "Minas de Riotinto                    78.698846   236.096537              2.0  \n",
       "Niebla                              121.477162   218.658892              1.0  \n",
       "Aracena                              84.797093   218.049667              1.0  \n",
       "Huelva (capital)                     83.427769   193.274331             15.0  \n",
       "Palma del Condado (La)               92.584020   175.909638              2.0  \n",
       "Sierra de Huelva-Andévalo Central    93.484293   167.678177             16.0  \n",
       "Huelva-Costa                         65.619517   165.775623             24.0  \n",
       "Valverde del Camino                  78.431373   156.862745              4.0  \n",
       "Trigueros                            63.597049   152.632918              NaN  \n",
       "Gibraleón                            78.511423   141.320562              1.0  \n",
       "Aroche                               65.487885   130.975769              1.0  \n",
       "Aljaraque                            51.224737   102.449474              1.0  \n",
       "Punta Umbría                         58.612830    97.688049              2.0  \n",
       "Isla Cristina                        56.093115    79.465246              4.0  \n",
       "Lepe                                 28.694405    78.909613              0.0  \n",
       "Encinasola                           76.335878    76.335878              NaN  \n",
       "Cortegana                            43.459365    43.459365              0.0  \n",
       "Ayamonte                              9.476876    33.169067              1.0  "
      ],
      "text/html": "<div>\n<style scoped>\n    .dataframe tbody tr th:only-of-type {\n        vertical-align: middle;\n    }\n\n    .dataframe tbody tr th {\n        vertical-align: top;\n    }\n\n    .dataframe thead th {\n        text-align: right;\n    }\n</style>\n<table border=\"1\" class=\"dataframe\">\n  <thead>\n    <tr style=\"text-align: right;\">\n      <th>Medida</th>\n      <th>Confirmados PDIA</th>\n      <th>Confirmados PDIA 7 días</th>\n      <th>Confirmados PDIA 14 días</th>\n      <th>Población</th>\n      <th>tasa7</th>\n      <th>tasa14</th>\n      <th>Diferencia PDIA</th>\n    </tr>\n    <tr>\n      <th>Lugar de residencia</th>\n      <th></th>\n      <th></th>\n      <th></th>\n      <th></th>\n      <th></th>\n      <th></th>\n      <th></th>\n    </tr>\n  </thead>\n  <tbody>\n    <tr>\n      <th>Cumbres de San Bartolomé</th>\n      <td>10.0</td>\n      <td>5.0</td>\n      <td>5.0</td>\n      <td>376.0</td>\n      <td>1329.787234</td>\n      <td>1329.787234</td>\n      <td>2.0</td>\n    </tr>\n    <tr>\n      <th>Cumbres Mayores</th>\n      <td>48.0</td>\n      <td>21.0</td>\n      <td>23.0</td>\n      <td>1749.0</td>\n      <td>1200.686106</td>\n      <td>1315.037164</td>\n      <td>5.0</td>\n    </tr>\n    <tr>\n      <th>Almonte</th>\n      <td>1438.0</td>\n      <td>108.0</td>\n      <td>249.0</td>\n      <td>24507.0</td>\n      <td>440.690415</td>\n      <td>1016.036235</td>\n      <td>20.0</td>\n    </tr>\n    <tr>\n      <th>Santa Ana la Real</th>\n      <td>9.0</td>\n      <td>3.0</td>\n      <td>4.0</td>\n      <td>475.0</td>\n      <td>631.578947</td>\n      <td>842.105263</td>\n      <td>0.0</td>\n    </tr>\n    <tr>\n      <th>Rociana del Condado</th>\n      <td>495.0</td>\n      <td>27.0</td>\n      <td>64.0</td>\n      <td>7939.0</td>\n      <td>340.093211</td>\n      <td>806.146870</td>\n      <td>4.0</td>\n    </tr>\n    <tr>\n      <th>Lucena del Puerto</th>\n      <td>202.0</td>\n      <td>13.0</td>\n      <td>20.0</td>\n      <td>3261.0</td>\n      <td>398.650721</td>\n      <td>613.308801</td>\n      <td>8.0</td>\n    </tr>\n    <tr>\n      <th>Galaroza</th>\n      <td>24.0</td>\n      <td>7.0</td>\n      <td>8.0</td>\n      <td>1382.0</td>\n      <td>506.512301</td>\n      <td>578.871201</td>\n      <td>0.0</td>\n    </tr>\n    <tr>\n      <th>Cartaya</th>\n      <td>1240.0</td>\n      <td>27.0</td>\n      <td>114.0</td>\n      <td>20083.0</td>\n      <td>134.442065</td>\n      <td>567.644276</td>\n      <td>1.0</td>\n    </tr>\n    <tr>\n      <th>Beas</th>\n      <td>185.0</td>\n      <td>11.0</td>\n      <td>20.0</td>\n      <td>4341.0</td>\n      <td>253.397835</td>\n      <td>460.723336</td>\n      <td>7.0</td>\n    </tr>\n    <tr>\n      <th>Almonaster la Real</th>\n      <td>63.0</td>\n      <td>1.0</td>\n      <td>8.0</td>\n      <td>1788.0</td>\n      <td>55.928412</td>\n      <td>447.427293</td>\n      <td>0.0</td>\n    </tr>\n    <tr>\n      <th>Bollullos Par del Condado</th>\n      <td>773.0</td>\n      <td>36.0</td>\n      <td>63.0</td>\n      <td>14387.0</td>\n      <td>250.225898</td>\n      <td>437.895322</td>\n      <td>9.0</td>\n    </tr>\n    <tr>\n      <th>Condado-Campiña</th>\n      <td>8695.0</td>\n      <td>316.0</td>\n      <td>677.0</td>\n      <td>156231.0</td>\n      <td>202.264595</td>\n      <td>433.332693</td>\n      <td>84.0</td>\n    </tr>\n    <tr>\n      <th>Moguer</th>\n      <td>1056.0</td>\n      <td>39.0</td>\n      <td>88.0</td>\n      <td>21867.0</td>\n      <td>178.350940</td>\n      <td>402.432890</td>\n      <td>7.0</td>\n    </tr>\n    <tr>\n      <th>Bonares</th>\n      <td>242.0</td>\n      <td>17.0</td>\n      <td>23.0</td>\n      <td>6060.0</td>\n      <td>280.528053</td>\n      <td>379.537954</td>\n      <td>8.0</td>\n    </tr>\n    <tr>\n      <th>Granado (El)</th>\n      <td>38.0</td>\n      <td>1.0</td>\n      <td>2.0</td>\n      <td>532.0</td>\n      <td>187.969925</td>\n      <td>375.939850</td>\n      <td>0.0</td>\n    </tr>\n    <tr>\n      <th>San Bartolomé de la Torre</th>\n      <td>282.0</td>\n      <td>5.0</td>\n      <td>14.0</td>\n      <td>3761.0</td>\n      <td>132.943366</td>\n      <td>372.241425</td>\n      <td>0.0</td>\n    </tr>\n    <tr>\n      <th>Palos de la Frontera</th>\n      <td>569.0</td>\n      <td>10.0</td>\n      <td>43.0</td>\n      <td>11742.0</td>\n      <td>85.164367</td>\n      <td>366.206779</td>\n      <td>4.0</td>\n    </tr>\n    <tr>\n      <th>Cortelazor</th>\n      <td>5.0</td>\n      <td>1.0</td>\n      <td>1.0</td>\n      <td>299.0</td>\n      <td>334.448161</td>\n      <td>334.448161</td>\n      <td>0.0</td>\n    </tr>\n    <tr>\n      <th>Villarrasa</th>\n      <td>147.0</td>\n      <td>1.0</td>\n      <td>7.0</td>\n      <td>2211.0</td>\n      <td>45.228403</td>\n      <td>316.598824</td>\n      <td>0.0</td>\n    </tr>\n    <tr>\n      <th>San Juan del Puerto</th>\n      <td>432.0</td>\n      <td>19.0</td>\n      <td>26.0</td>\n      <td>9411.0</td>\n      <td>201.891404</td>\n      <td>276.272447</td>\n      <td>9.0</td>\n    </tr>\n    <tr>\n      <th>Huelva</th>\n      <td>27980.0</td>\n      <td>577.0</td>\n      <td>1288.0</td>\n      <td>513170.0</td>\n      <td>112.438373</td>\n      <td>250.988951</td>\n      <td>127.0</td>\n    </tr>\n    <tr>\n      <th>Minas de Riotinto</th>\n      <td>109.0</td>\n      <td>3.0</td>\n      <td>9.0</td>\n      <td>3812.0</td>\n      <td>78.698846</td>\n      <td>236.096537</td>\n      <td>2.0</td>\n    </tr>\n    <tr>\n      <th>Niebla</th>\n      <td>192.0</td>\n      <td>5.0</td>\n      <td>9.0</td>\n      <td>4116.0</td>\n      <td>121.477162</td>\n      <td>218.658892</td>\n      <td>1.0</td>\n    </tr>\n    <tr>\n      <th>Aracena</th>\n      <td>506.0</td>\n      <td>7.0</td>\n      <td>18.0</td>\n      <td>8255.0</td>\n      <td>84.797093</td>\n      <td>218.049667</td>\n      <td>1.0</td>\n    </tr>\n    <tr>\n      <th>Huelva (capital)</th>\n      <td>7242.0</td>\n      <td>120.0</td>\n      <td>278.0</td>\n      <td>143837.0</td>\n      <td>83.427769</td>\n      <td>193.274331</td>\n      <td>15.0</td>\n    </tr>\n    <tr>\n      <th>Palma del Condado (La)</th>\n      <td>1028.0</td>\n      <td>10.0</td>\n      <td>19.0</td>\n      <td>10801.0</td>\n      <td>92.584020</td>\n      <td>175.909638</td>\n      <td>2.0</td>\n    </tr>\n    <tr>\n      <th>Sierra de Huelva-Andévalo Central</th>\n      <td>2503.0</td>\n      <td>63.0</td>\n      <td>113.0</td>\n      <td>67391.0</td>\n      <td>93.484293</td>\n      <td>167.678177</td>\n      <td>16.0</td>\n    </tr>\n    <tr>\n      <th>Huelva-Costa</th>\n      <td>16370.0</td>\n      <td>190.0</td>\n      <td>480.0</td>\n      <td>289548.0</td>\n      <td>65.619517</td>\n      <td>165.775623</td>\n      <td>24.0</td>\n    </tr>\n    <tr>\n      <th>Valverde del Camino</th>\n      <td>463.0</td>\n      <td>10.0</td>\n      <td>20.0</td>\n      <td>12750.0</td>\n      <td>78.431373</td>\n      <td>156.862745</td>\n      <td>4.0</td>\n    </tr>\n    <tr>\n      <th>Trigueros</th>\n      <td>258.0</td>\n      <td>5.0</td>\n      <td>12.0</td>\n      <td>7862.0</td>\n      <td>63.597049</td>\n      <td>152.632918</td>\n      <td>NaN</td>\n    </tr>\n    <tr>\n      <th>Gibraleón</th>\n      <td>574.0</td>\n      <td>10.0</td>\n      <td>18.0</td>\n      <td>12737.0</td>\n      <td>78.511423</td>\n      <td>141.320562</td>\n      <td>1.0</td>\n    </tr>\n    <tr>\n      <th>Aroche</th>\n      <td>89.0</td>\n      <td>2.0</td>\n      <td>4.0</td>\n      <td>3054.0</td>\n      <td>65.487885</td>\n      <td>130.975769</td>\n      <td>1.0</td>\n    </tr>\n    <tr>\n      <th>Aljaraque</th>\n      <td>990.0</td>\n      <td>11.0</td>\n      <td>22.0</td>\n      <td>21474.0</td>\n      <td>51.224737</td>\n      <td>102.449474</td>\n      <td>1.0</td>\n    </tr>\n    <tr>\n      <th>Punta Umbría</th>\n      <td>696.0</td>\n      <td>9.0</td>\n      <td>15.0</td>\n      <td>15355.0</td>\n      <td>58.612830</td>\n      <td>97.688049</td>\n      <td>2.0</td>\n    </tr>\n    <tr>\n      <th>Isla Cristina</th>\n      <td>2036.0</td>\n      <td>12.0</td>\n      <td>17.0</td>\n      <td>21393.0</td>\n      <td>56.093115</td>\n      <td>79.465246</td>\n      <td>4.0</td>\n    </tr>\n    <tr>\n      <th>Lepe</th>\n      <td>2064.0</td>\n      <td>8.0</td>\n      <td>22.0</td>\n      <td>27880.0</td>\n      <td>28.694405</td>\n      <td>78.909613</td>\n      <td>0.0</td>\n    </tr>\n    <tr>\n      <th>Encinasola</th>\n      <td>117.0</td>\n      <td>1.0</td>\n      <td>1.0</td>\n      <td>1310.0</td>\n      <td>76.335878</td>\n      <td>76.335878</td>\n      <td>NaN</td>\n    </tr>\n    <tr>\n      <th>Cortegana</th>\n      <td>194.0</td>\n      <td>2.0</td>\n      <td>2.0</td>\n      <td>4602.0</td>\n      <td>43.459365</td>\n      <td>43.459365</td>\n      <td>0.0</td>\n    </tr>\n    <tr>\n      <th>Ayamonte</th>\n      <td>1263.0</td>\n      <td>2.0</td>\n      <td>7.0</td>\n      <td>21104.0</td>\n      <td>9.476876</td>\n      <td>33.169067</td>\n      <td>1.0</td>\n    </tr>\n  </tbody>\n</table>\n</div>"
     },
     "metadata": {},
     "execution_count": 17
    }
   ],
   "source": [
    "tabla.sort_values('tasa14', ascending=False)"
   ]
  },
  {
   "cell_type": "code",
   "execution_count": 18,
   "metadata": {},
   "outputs": [
    {
     "output_type": "execute_result",
     "data": {
      "text/plain": [
       "Medida                             Confirmados PDIA  Confirmados PDIA 7 días  \\\n",
       "Lugar de residencia                                                            \n",
       "Almonaster la Real                             63.0                      1.0   \n",
       "Villarrasa                                    147.0                      1.0   \n",
       "Palos de la Frontera                          569.0                     10.0   \n",
       "Cartaya                                      1240.0                     27.0   \n",
       "Ayamonte                                     1263.0                      2.0   \n",
       "Minas de Riotinto                             109.0                      3.0   \n",
       "San Bartolomé de la Torre                     282.0                      5.0   \n",
       "Lepe                                         2064.0                      8.0   \n",
       "Aracena                                       506.0                      7.0   \n",
       "Huelva-Costa                                16370.0                    190.0   \n",
       "Trigueros                                     258.0                      5.0   \n",
       "Rociana del Condado                           495.0                     27.0   \n",
       "Huelva (capital)                             7242.0                    120.0   \n",
       "Almonte                                      1438.0                    108.0   \n",
       "Moguer                                       1056.0                     39.0   \n",
       "Huelva                                      27980.0                    577.0   \n",
       "Condado-Campiña                              8695.0                    316.0   \n",
       "Aljaraque                                     990.0                     11.0   \n",
       "Aroche                                         89.0                      2.0   \n",
       "Granado (El)                                   38.0                      1.0   \n",
       "Valverde del Camino                           463.0                     10.0   \n",
       "Palma del Condado (La)                       1028.0                     10.0   \n",
       "Beas                                          185.0                     11.0   \n",
       "Niebla                                        192.0                      5.0   \n",
       "Gibraleón                                     574.0                     10.0   \n",
       "Sierra de Huelva-Andévalo Central            2503.0                     63.0   \n",
       "Bollullos Par del Condado                     773.0                     36.0   \n",
       "Punta Umbría                                  696.0                      9.0   \n",
       "Lucena del Puerto                             202.0                     13.0   \n",
       "Isla Cristina                                2036.0                     12.0   \n",
       "San Juan del Puerto                           432.0                     19.0   \n",
       "Bonares                                       242.0                     17.0   \n",
       "Santa Ana la Real                               9.0                      3.0   \n",
       "Galaroza                                       24.0                      7.0   \n",
       "Cumbres Mayores                                48.0                     21.0   \n",
       "Cortegana                                     194.0                      2.0   \n",
       "Encinasola                                    117.0                      1.0   \n",
       "Cumbres de San Bartolomé                       10.0                      5.0   \n",
       "Cortelazor                                      5.0                      1.0   \n",
       "\n",
       "Medida                             Confirmados PDIA 14 días  Población  \\\n",
       "Lugar de residencia                                                      \n",
       "Almonaster la Real                                      8.0     1788.0   \n",
       "Villarrasa                                              7.0     2211.0   \n",
       "Palos de la Frontera                                   43.0    11742.0   \n",
       "Cartaya                                               114.0    20083.0   \n",
       "Ayamonte                                                7.0    21104.0   \n",
       "Minas de Riotinto                                       9.0     3812.0   \n",
       "San Bartolomé de la Torre                              14.0     3761.0   \n",
       "Lepe                                                   22.0    27880.0   \n",
       "Aracena                                                18.0     8255.0   \n",
       "Huelva-Costa                                          480.0   289548.0   \n",
       "Trigueros                                              12.0     7862.0   \n",
       "Rociana del Condado                                    64.0     7939.0   \n",
       "Huelva (capital)                                      278.0   143837.0   \n",
       "Almonte                                               249.0    24507.0   \n",
       "Moguer                                                 88.0    21867.0   \n",
       "Huelva                                               1288.0   513170.0   \n",
       "Condado-Campiña                                       677.0   156231.0   \n",
       "Aljaraque                                              22.0    21474.0   \n",
       "Aroche                                                  4.0     3054.0   \n",
       "Granado (El)                                            2.0      532.0   \n",
       "Valverde del Camino                                    20.0    12750.0   \n",
       "Palma del Condado (La)                                 19.0    10801.0   \n",
       "Beas                                                   20.0     4341.0   \n",
       "Niebla                                                  9.0     4116.0   \n",
       "Gibraleón                                              18.0    12737.0   \n",
       "Sierra de Huelva-Andévalo Central                     113.0    67391.0   \n",
       "Bollullos Par del Condado                              63.0    14387.0   \n",
       "Punta Umbría                                           15.0    15355.0   \n",
       "Lucena del Puerto                                      20.0     3261.0   \n",
       "Isla Cristina                                          17.0    21393.0   \n",
       "San Juan del Puerto                                    26.0     9411.0   \n",
       "Bonares                                                23.0     6060.0   \n",
       "Santa Ana la Real                                       4.0      475.0   \n",
       "Galaroza                                                8.0     1382.0   \n",
       "Cumbres Mayores                                        23.0     1749.0   \n",
       "Cortegana                                               2.0     4602.0   \n",
       "Encinasola                                              1.0     1310.0   \n",
       "Cumbres de San Bartolomé                                5.0      376.0   \n",
       "Cortelazor                                              1.0      299.0   \n",
       "\n",
       "Medida                                   tasa7       tasa14  Diferencia PDIA  \\\n",
       "Lugar de residencia                                                            \n",
       "Almonaster la Real                   55.928412   447.427293              0.0   \n",
       "Villarrasa                           45.228403   316.598824              0.0   \n",
       "Palos de la Frontera                 85.164367   366.206779              4.0   \n",
       "Cartaya                             134.442065   567.644276              1.0   \n",
       "Ayamonte                              9.476876    33.169067              1.0   \n",
       "Minas de Riotinto                    78.698846   236.096537              2.0   \n",
       "San Bartolomé de la Torre           132.943366   372.241425              0.0   \n",
       "Lepe                                 28.694405    78.909613              0.0   \n",
       "Aracena                              84.797093   218.049667              1.0   \n",
       "Huelva-Costa                         65.619517   165.775623             24.0   \n",
       "Trigueros                            63.597049   152.632918              0.0   \n",
       "Rociana del Condado                 340.093211   806.146870              4.0   \n",
       "Huelva (capital)                     83.427769   193.274331             15.0   \n",
       "Almonte                             440.690415  1016.036235             20.0   \n",
       "Moguer                              178.350940   402.432890              7.0   \n",
       "Huelva                              112.438373   250.988951            127.0   \n",
       "Condado-Campiña                     202.264595   433.332693             84.0   \n",
       "Aljaraque                            51.224737   102.449474              1.0   \n",
       "Aroche                               65.487885   130.975769              1.0   \n",
       "Granado (El)                        187.969925   375.939850              0.0   \n",
       "Valverde del Camino                  78.431373   156.862745              4.0   \n",
       "Palma del Condado (La)               92.584020   175.909638              2.0   \n",
       "Beas                                253.397835   460.723336              7.0   \n",
       "Niebla                              121.477162   218.658892              1.0   \n",
       "Gibraleón                            78.511423   141.320562              1.0   \n",
       "Sierra de Huelva-Andévalo Central    93.484293   167.678177             16.0   \n",
       "Bollullos Par del Condado           250.225898   437.895322              9.0   \n",
       "Punta Umbría                         58.612830    97.688049              2.0   \n",
       "Lucena del Puerto                   398.650721   613.308801              8.0   \n",
       "Isla Cristina                        56.093115    79.465246              4.0   \n",
       "San Juan del Puerto                 201.891404   276.272447              9.0   \n",
       "Bonares                             280.528053   379.537954              8.0   \n",
       "Santa Ana la Real                   631.578947   842.105263              0.0   \n",
       "Galaroza                            506.512301   578.871201              0.0   \n",
       "Cumbres Mayores                    1200.686106  1315.037164              5.0   \n",
       "Cortegana                            43.459365    43.459365              0.0   \n",
       "Encinasola                           76.335878    76.335878              0.0   \n",
       "Cumbres de San Bartolomé           1329.787234  1329.787234              2.0   \n",
       "Cortelazor                          334.448161   334.448161              0.0   \n",
       "\n",
       "Medida                                 7/14  \n",
       "Lugar de residencia                          \n",
       "Almonaster la Real                 0.125000  \n",
       "Villarrasa                         0.142857  \n",
       "Palos de la Frontera               0.232558  \n",
       "Cartaya                            0.236842  \n",
       "Ayamonte                           0.285714  \n",
       "Minas de Riotinto                  0.333333  \n",
       "San Bartolomé de la Torre          0.357143  \n",
       "Lepe                               0.363636  \n",
       "Aracena                            0.388889  \n",
       "Huelva-Costa                       0.395833  \n",
       "Trigueros                          0.416667  \n",
       "Rociana del Condado                0.421875  \n",
       "Huelva (capital)                   0.431655  \n",
       "Almonte                            0.433735  \n",
       "Moguer                             0.443182  \n",
       "Huelva                             0.447981  \n",
       "Condado-Campiña                    0.466765  \n",
       "Aljaraque                          0.500000  \n",
       "Aroche                             0.500000  \n",
       "Granado (El)                       0.500000  \n",
       "Valverde del Camino                0.500000  \n",
       "Palma del Condado (La)             0.526316  \n",
       "Beas                               0.550000  \n",
       "Niebla                             0.555556  \n",
       "Gibraleón                          0.555556  \n",
       "Sierra de Huelva-Andévalo Central  0.557522  \n",
       "Bollullos Par del Condado          0.571429  \n",
       "Punta Umbría                       0.600000  \n",
       "Lucena del Puerto                  0.650000  \n",
       "Isla Cristina                      0.705882  \n",
       "San Juan del Puerto                0.730769  \n",
       "Bonares                            0.739130  \n",
       "Santa Ana la Real                  0.750000  \n",
       "Galaroza                           0.875000  \n",
       "Cumbres Mayores                    0.913043  \n",
       "Cortegana                          1.000000  \n",
       "Encinasola                         1.000000  \n",
       "Cumbres de San Bartolomé           1.000000  \n",
       "Cortelazor                         1.000000  "
      ],
      "text/html": "<div>\n<style scoped>\n    .dataframe tbody tr th:only-of-type {\n        vertical-align: middle;\n    }\n\n    .dataframe tbody tr th {\n        vertical-align: top;\n    }\n\n    .dataframe thead th {\n        text-align: right;\n    }\n</style>\n<table border=\"1\" class=\"dataframe\">\n  <thead>\n    <tr style=\"text-align: right;\">\n      <th>Medida</th>\n      <th>Confirmados PDIA</th>\n      <th>Confirmados PDIA 7 días</th>\n      <th>Confirmados PDIA 14 días</th>\n      <th>Población</th>\n      <th>tasa7</th>\n      <th>tasa14</th>\n      <th>Diferencia PDIA</th>\n      <th>7/14</th>\n    </tr>\n    <tr>\n      <th>Lugar de residencia</th>\n      <th></th>\n      <th></th>\n      <th></th>\n      <th></th>\n      <th></th>\n      <th></th>\n      <th></th>\n      <th></th>\n    </tr>\n  </thead>\n  <tbody>\n    <tr>\n      <th>Almonaster la Real</th>\n      <td>63.0</td>\n      <td>1.0</td>\n      <td>8.0</td>\n      <td>1788.0</td>\n      <td>55.928412</td>\n      <td>447.427293</td>\n      <td>0.0</td>\n      <td>0.125000</td>\n    </tr>\n    <tr>\n      <th>Villarrasa</th>\n      <td>147.0</td>\n      <td>1.0</td>\n      <td>7.0</td>\n      <td>2211.0</td>\n      <td>45.228403</td>\n      <td>316.598824</td>\n      <td>0.0</td>\n      <td>0.142857</td>\n    </tr>\n    <tr>\n      <th>Palos de la Frontera</th>\n      <td>569.0</td>\n      <td>10.0</td>\n      <td>43.0</td>\n      <td>11742.0</td>\n      <td>85.164367</td>\n      <td>366.206779</td>\n      <td>4.0</td>\n      <td>0.232558</td>\n    </tr>\n    <tr>\n      <th>Cartaya</th>\n      <td>1240.0</td>\n      <td>27.0</td>\n      <td>114.0</td>\n      <td>20083.0</td>\n      <td>134.442065</td>\n      <td>567.644276</td>\n      <td>1.0</td>\n      <td>0.236842</td>\n    </tr>\n    <tr>\n      <th>Ayamonte</th>\n      <td>1263.0</td>\n      <td>2.0</td>\n      <td>7.0</td>\n      <td>21104.0</td>\n      <td>9.476876</td>\n      <td>33.169067</td>\n      <td>1.0</td>\n      <td>0.285714</td>\n    </tr>\n    <tr>\n      <th>Minas de Riotinto</th>\n      <td>109.0</td>\n      <td>3.0</td>\n      <td>9.0</td>\n      <td>3812.0</td>\n      <td>78.698846</td>\n      <td>236.096537</td>\n      <td>2.0</td>\n      <td>0.333333</td>\n    </tr>\n    <tr>\n      <th>San Bartolomé de la Torre</th>\n      <td>282.0</td>\n      <td>5.0</td>\n      <td>14.0</td>\n      <td>3761.0</td>\n      <td>132.943366</td>\n      <td>372.241425</td>\n      <td>0.0</td>\n      <td>0.357143</td>\n    </tr>\n    <tr>\n      <th>Lepe</th>\n      <td>2064.0</td>\n      <td>8.0</td>\n      <td>22.0</td>\n      <td>27880.0</td>\n      <td>28.694405</td>\n      <td>78.909613</td>\n      <td>0.0</td>\n      <td>0.363636</td>\n    </tr>\n    <tr>\n      <th>Aracena</th>\n      <td>506.0</td>\n      <td>7.0</td>\n      <td>18.0</td>\n      <td>8255.0</td>\n      <td>84.797093</td>\n      <td>218.049667</td>\n      <td>1.0</td>\n      <td>0.388889</td>\n    </tr>\n    <tr>\n      <th>Huelva-Costa</th>\n      <td>16370.0</td>\n      <td>190.0</td>\n      <td>480.0</td>\n      <td>289548.0</td>\n      <td>65.619517</td>\n      <td>165.775623</td>\n      <td>24.0</td>\n      <td>0.395833</td>\n    </tr>\n    <tr>\n      <th>Trigueros</th>\n      <td>258.0</td>\n      <td>5.0</td>\n      <td>12.0</td>\n      <td>7862.0</td>\n      <td>63.597049</td>\n      <td>152.632918</td>\n      <td>0.0</td>\n      <td>0.416667</td>\n    </tr>\n    <tr>\n      <th>Rociana del Condado</th>\n      <td>495.0</td>\n      <td>27.0</td>\n      <td>64.0</td>\n      <td>7939.0</td>\n      <td>340.093211</td>\n      <td>806.146870</td>\n      <td>4.0</td>\n      <td>0.421875</td>\n    </tr>\n    <tr>\n      <th>Huelva (capital)</th>\n      <td>7242.0</td>\n      <td>120.0</td>\n      <td>278.0</td>\n      <td>143837.0</td>\n      <td>83.427769</td>\n      <td>193.274331</td>\n      <td>15.0</td>\n      <td>0.431655</td>\n    </tr>\n    <tr>\n      <th>Almonte</th>\n      <td>1438.0</td>\n      <td>108.0</td>\n      <td>249.0</td>\n      <td>24507.0</td>\n      <td>440.690415</td>\n      <td>1016.036235</td>\n      <td>20.0</td>\n      <td>0.433735</td>\n    </tr>\n    <tr>\n      <th>Moguer</th>\n      <td>1056.0</td>\n      <td>39.0</td>\n      <td>88.0</td>\n      <td>21867.0</td>\n      <td>178.350940</td>\n      <td>402.432890</td>\n      <td>7.0</td>\n      <td>0.443182</td>\n    </tr>\n    <tr>\n      <th>Huelva</th>\n      <td>27980.0</td>\n      <td>577.0</td>\n      <td>1288.0</td>\n      <td>513170.0</td>\n      <td>112.438373</td>\n      <td>250.988951</td>\n      <td>127.0</td>\n      <td>0.447981</td>\n    </tr>\n    <tr>\n      <th>Condado-Campiña</th>\n      <td>8695.0</td>\n      <td>316.0</td>\n      <td>677.0</td>\n      <td>156231.0</td>\n      <td>202.264595</td>\n      <td>433.332693</td>\n      <td>84.0</td>\n      <td>0.466765</td>\n    </tr>\n    <tr>\n      <th>Aljaraque</th>\n      <td>990.0</td>\n      <td>11.0</td>\n      <td>22.0</td>\n      <td>21474.0</td>\n      <td>51.224737</td>\n      <td>102.449474</td>\n      <td>1.0</td>\n      <td>0.500000</td>\n    </tr>\n    <tr>\n      <th>Aroche</th>\n      <td>89.0</td>\n      <td>2.0</td>\n      <td>4.0</td>\n      <td>3054.0</td>\n      <td>65.487885</td>\n      <td>130.975769</td>\n      <td>1.0</td>\n      <td>0.500000</td>\n    </tr>\n    <tr>\n      <th>Granado (El)</th>\n      <td>38.0</td>\n      <td>1.0</td>\n      <td>2.0</td>\n      <td>532.0</td>\n      <td>187.969925</td>\n      <td>375.939850</td>\n      <td>0.0</td>\n      <td>0.500000</td>\n    </tr>\n    <tr>\n      <th>Valverde del Camino</th>\n      <td>463.0</td>\n      <td>10.0</td>\n      <td>20.0</td>\n      <td>12750.0</td>\n      <td>78.431373</td>\n      <td>156.862745</td>\n      <td>4.0</td>\n      <td>0.500000</td>\n    </tr>\n    <tr>\n      <th>Palma del Condado (La)</th>\n      <td>1028.0</td>\n      <td>10.0</td>\n      <td>19.0</td>\n      <td>10801.0</td>\n      <td>92.584020</td>\n      <td>175.909638</td>\n      <td>2.0</td>\n      <td>0.526316</td>\n    </tr>\n    <tr>\n      <th>Beas</th>\n      <td>185.0</td>\n      <td>11.0</td>\n      <td>20.0</td>\n      <td>4341.0</td>\n      <td>253.397835</td>\n      <td>460.723336</td>\n      <td>7.0</td>\n      <td>0.550000</td>\n    </tr>\n    <tr>\n      <th>Niebla</th>\n      <td>192.0</td>\n      <td>5.0</td>\n      <td>9.0</td>\n      <td>4116.0</td>\n      <td>121.477162</td>\n      <td>218.658892</td>\n      <td>1.0</td>\n      <td>0.555556</td>\n    </tr>\n    <tr>\n      <th>Gibraleón</th>\n      <td>574.0</td>\n      <td>10.0</td>\n      <td>18.0</td>\n      <td>12737.0</td>\n      <td>78.511423</td>\n      <td>141.320562</td>\n      <td>1.0</td>\n      <td>0.555556</td>\n    </tr>\n    <tr>\n      <th>Sierra de Huelva-Andévalo Central</th>\n      <td>2503.0</td>\n      <td>63.0</td>\n      <td>113.0</td>\n      <td>67391.0</td>\n      <td>93.484293</td>\n      <td>167.678177</td>\n      <td>16.0</td>\n      <td>0.557522</td>\n    </tr>\n    <tr>\n      <th>Bollullos Par del Condado</th>\n      <td>773.0</td>\n      <td>36.0</td>\n      <td>63.0</td>\n      <td>14387.0</td>\n      <td>250.225898</td>\n      <td>437.895322</td>\n      <td>9.0</td>\n      <td>0.571429</td>\n    </tr>\n    <tr>\n      <th>Punta Umbría</th>\n      <td>696.0</td>\n      <td>9.0</td>\n      <td>15.0</td>\n      <td>15355.0</td>\n      <td>58.612830</td>\n      <td>97.688049</td>\n      <td>2.0</td>\n      <td>0.600000</td>\n    </tr>\n    <tr>\n      <th>Lucena del Puerto</th>\n      <td>202.0</td>\n      <td>13.0</td>\n      <td>20.0</td>\n      <td>3261.0</td>\n      <td>398.650721</td>\n      <td>613.308801</td>\n      <td>8.0</td>\n      <td>0.650000</td>\n    </tr>\n    <tr>\n      <th>Isla Cristina</th>\n      <td>2036.0</td>\n      <td>12.0</td>\n      <td>17.0</td>\n      <td>21393.0</td>\n      <td>56.093115</td>\n      <td>79.465246</td>\n      <td>4.0</td>\n      <td>0.705882</td>\n    </tr>\n    <tr>\n      <th>San Juan del Puerto</th>\n      <td>432.0</td>\n      <td>19.0</td>\n      <td>26.0</td>\n      <td>9411.0</td>\n      <td>201.891404</td>\n      <td>276.272447</td>\n      <td>9.0</td>\n      <td>0.730769</td>\n    </tr>\n    <tr>\n      <th>Bonares</th>\n      <td>242.0</td>\n      <td>17.0</td>\n      <td>23.0</td>\n      <td>6060.0</td>\n      <td>280.528053</td>\n      <td>379.537954</td>\n      <td>8.0</td>\n      <td>0.739130</td>\n    </tr>\n    <tr>\n      <th>Santa Ana la Real</th>\n      <td>9.0</td>\n      <td>3.0</td>\n      <td>4.0</td>\n      <td>475.0</td>\n      <td>631.578947</td>\n      <td>842.105263</td>\n      <td>0.0</td>\n      <td>0.750000</td>\n    </tr>\n    <tr>\n      <th>Galaroza</th>\n      <td>24.0</td>\n      <td>7.0</td>\n      <td>8.0</td>\n      <td>1382.0</td>\n      <td>506.512301</td>\n      <td>578.871201</td>\n      <td>0.0</td>\n      <td>0.875000</td>\n    </tr>\n    <tr>\n      <th>Cumbres Mayores</th>\n      <td>48.0</td>\n      <td>21.0</td>\n      <td>23.0</td>\n      <td>1749.0</td>\n      <td>1200.686106</td>\n      <td>1315.037164</td>\n      <td>5.0</td>\n      <td>0.913043</td>\n    </tr>\n    <tr>\n      <th>Cortegana</th>\n      <td>194.0</td>\n      <td>2.0</td>\n      <td>2.0</td>\n      <td>4602.0</td>\n      <td>43.459365</td>\n      <td>43.459365</td>\n      <td>0.0</td>\n      <td>1.000000</td>\n    </tr>\n    <tr>\n      <th>Encinasola</th>\n      <td>117.0</td>\n      <td>1.0</td>\n      <td>1.0</td>\n      <td>1310.0</td>\n      <td>76.335878</td>\n      <td>76.335878</td>\n      <td>0.0</td>\n      <td>1.000000</td>\n    </tr>\n    <tr>\n      <th>Cumbres de San Bartolomé</th>\n      <td>10.0</td>\n      <td>5.0</td>\n      <td>5.0</td>\n      <td>376.0</td>\n      <td>1329.787234</td>\n      <td>1329.787234</td>\n      <td>2.0</td>\n      <td>1.000000</td>\n    </tr>\n    <tr>\n      <th>Cortelazor</th>\n      <td>5.0</td>\n      <td>1.0</td>\n      <td>1.0</td>\n      <td>299.0</td>\n      <td>334.448161</td>\n      <td>334.448161</td>\n      <td>0.0</td>\n      <td>1.000000</td>\n    </tr>\n  </tbody>\n</table>\n</div>"
     },
     "metadata": {},
     "execution_count": 18
    }
   ],
   "source": [
    "# Peso de la tasa de la última semana en relación con la tasa a 14 días \n",
    "# Mejor cuanto menor. Valor 1 significa que no había casos antes de 7 días.\n",
    "tabla['7/14'] = tabla['tasa7'] / tabla['tasa14']\n",
    "tabla.fillna(0).sort_values('7/14', ascending=True)"
   ]
  },
  {
   "cell_type": "code",
   "execution_count": null,
   "metadata": {},
   "outputs": [],
   "source": []
  }
 ]
}