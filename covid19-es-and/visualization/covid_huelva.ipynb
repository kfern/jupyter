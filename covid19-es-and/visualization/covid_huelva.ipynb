{
 "metadata": {
  "language_info": {
   "codemirror_mode": {
    "name": "ipython",
    "version": 3
   },
   "file_extension": ".py",
   "mimetype": "text/x-python",
   "name": "python",
   "nbconvert_exporter": "python",
   "pygments_lexer": "ipython3",
   "version": "3.6.9-final"
  },
  "orig_nbformat": 2,
  "kernelspec": {
   "name": "Python 3.6.9 64-bit",
   "display_name": "Python 3.6.9 64-bit",
   "metadata": {
    "interpreter": {
     "hash": "31f2aee4e71d21fbe5cf8b01ff0e069b9275f58929596ceb00d14d90e3e16cd6"
    }
   }
  }
 },
 "nbformat": 4,
 "nbformat_minor": 2,
 "cells": [
  {
   "cell_type": "code",
   "execution_count": 1,
   "metadata": {},
   "outputs": [],
   "source": [
    "import pandas as pd"
   ]
  },
  {
   "cell_type": "code",
   "execution_count": 2,
   "metadata": {},
   "outputs": [],
   "source": [
    "url = 'https://www.juntadeandalucia.es/institutodeestadisticaycartografia/badea/stpivot/stpivot/Print?cube=013d884c-cfc5-4c21-9e78-e26225682afd&type=3&foto=si&ejecutaDesde=&codConsulta=38668&consTipoVisua=JP'\n",
    "fields = ['Lugar de residencia', 'Medida', 'Valor']\n",
    "df = pd.read_csv(url, delimiter=';', usecols=fields, decimal=',')"
   ]
  },
  {
   "cell_type": "code",
   "execution_count": 3,
   "metadata": {},
   "outputs": [
    {
     "output_type": "execute_result",
     "data": {
      "text/plain": "                     Lugar de residencia                    Medida  \\\n0                                 Huelva                 Población   \n1                                 Huelva          Confirmados PDIA   \n2                                 Huelva  Confirmados PDIA 14 días   \n3                                 Huelva         Tasa PDIA 14 días   \n4                                 Huelva   Confirmados PDIA 7 días   \n..                                   ...                       ...   \n627  Municipio de Huelva sin especificar         Tasa PDIA 14 días   \n628  Municipio de Huelva sin especificar   Confirmados PDIA 7 días   \n629  Municipio de Huelva sin especificar        Total Confirmados    \n630  Municipio de Huelva sin especificar                   Curados   \n631  Municipio de Huelva sin especificar                Fallecidos   \n\n                 Valor  \n0               510743  \n1                 1670  \n2                  505  \n3    98,87555972377497  \n4                  233  \n..                 ...  \n627                  -  \n628                  2  \n629                 25  \n630                  1  \n631                  1  \n\n[632 rows x 3 columns]",
      "text/html": "<div>\n<style scoped>\n    .dataframe tbody tr th:only-of-type {\n        vertical-align: middle;\n    }\n\n    .dataframe tbody tr th {\n        vertical-align: top;\n    }\n\n    .dataframe thead th {\n        text-align: right;\n    }\n</style>\n<table border=\"1\" class=\"dataframe\">\n  <thead>\n    <tr style=\"text-align: right;\">\n      <th></th>\n      <th>Lugar de residencia</th>\n      <th>Medida</th>\n      <th>Valor</th>\n    </tr>\n  </thead>\n  <tbody>\n    <tr>\n      <th>0</th>\n      <td>Huelva</td>\n      <td>Población</td>\n      <td>510743</td>\n    </tr>\n    <tr>\n      <th>1</th>\n      <td>Huelva</td>\n      <td>Confirmados PDIA</td>\n      <td>1670</td>\n    </tr>\n    <tr>\n      <th>2</th>\n      <td>Huelva</td>\n      <td>Confirmados PDIA 14 días</td>\n      <td>505</td>\n    </tr>\n    <tr>\n      <th>3</th>\n      <td>Huelva</td>\n      <td>Tasa PDIA 14 días</td>\n      <td>98,87555972377497</td>\n    </tr>\n    <tr>\n      <th>4</th>\n      <td>Huelva</td>\n      <td>Confirmados PDIA 7 días</td>\n      <td>233</td>\n    </tr>\n    <tr>\n      <th>...</th>\n      <td>...</td>\n      <td>...</td>\n      <td>...</td>\n    </tr>\n    <tr>\n      <th>627</th>\n      <td>Municipio de Huelva sin especificar</td>\n      <td>Tasa PDIA 14 días</td>\n      <td>-</td>\n    </tr>\n    <tr>\n      <th>628</th>\n      <td>Municipio de Huelva sin especificar</td>\n      <td>Confirmados PDIA 7 días</td>\n      <td>2</td>\n    </tr>\n    <tr>\n      <th>629</th>\n      <td>Municipio de Huelva sin especificar</td>\n      <td>Total Confirmados</td>\n      <td>25</td>\n    </tr>\n    <tr>\n      <th>630</th>\n      <td>Municipio de Huelva sin especificar</td>\n      <td>Curados</td>\n      <td>1</td>\n    </tr>\n    <tr>\n      <th>631</th>\n      <td>Municipio de Huelva sin especificar</td>\n      <td>Fallecidos</td>\n      <td>1</td>\n    </tr>\n  </tbody>\n</table>\n<p>632 rows × 3 columns</p>\n</div>"
     },
     "metadata": {},
     "execution_count": 3
    }
   ],
   "source": [
    "df"
   ]
  },
  {
   "cell_type": "code",
   "execution_count": 4,
   "metadata": {},
   "outputs": [],
   "source": [
    "df['Valor'] = pd.to_numeric(df['Valor'],errors='coerce')"
   ]
  },
  {
   "cell_type": "code",
   "execution_count": 5,
   "metadata": {},
   "outputs": [],
   "source": [
    "dfAnterior = pd.read_csv('covid_huelva.csv', index_col='Lugar de residencia')"
   ]
  },
  {
   "cell_type": "code",
   "execution_count": 6,
   "metadata": {
    "tags": []
   },
   "outputs": [
    {
     "output_type": "stream",
     "name": "stdout",
     "text": "Confirmados PCR en la provincia de Huelva:  1670.0\n"
    }
   ],
   "source": [
    "# Confirmados PCR provincia Huelva\n",
    "p = df[df['Lugar de residencia'] == 'Huelva'][df['Medida'] == 'Confirmados PDIA']['Valor'].values[0]\n",
    "print('Confirmados PCR en la provincia de Huelva: ', p)"
   ]
  },
  {
   "cell_type": "code",
   "execution_count": 7,
   "metadata": {
    "tags": []
   },
   "outputs": [
    {
     "output_type": "stream",
     "name": "stdout",
     "text": "Confirmados PCR en Huelva capital:  402.0\n"
    }
   ],
   "source": [
    "# Confirmados PCR Huelva capitalpd\n",
    "c = df[df['Lugar de residencia'] == 'Huelva (capital)'][df['Medida'] == 'Confirmados PDIA']['Valor'].values[0]\n",
    "print('Confirmados PCR en Huelva capital: ', c)"
   ]
  },
  {
   "cell_type": "code",
   "execution_count": 8,
   "metadata": {
    "tags": []
   },
   "outputs": [],
   "source": [
    "c7 = df[df['Lugar de residencia'] == 'Huelva (capital)'][df['Medida'] == 'Confirmados PDIA 7 días']['Valor'].values[0]\n",
    "c14 = df[df['Lugar de residencia'] == 'Huelva (capital)'][df['Medida'] == 'Confirmados PDIA 14 días']['Valor'].values[0]\n",
    "p = df[df['Lugar de residencia'] == 'Huelva (capital)'][df['Medida'] == 'Población']['Valor'].values[0]"
   ]
  },
  {
   "cell_type": "code",
   "execution_count": 9,
   "metadata": {
    "tags": []
   },
   "outputs": [
    {
     "output_type": "stream",
     "name": "stdout",
     "text": "Huelva (capital)\n\nUn positivo PCR cada 3057 personas en los últimos 7 días \n\nUn positivo PCR cada 1528 personas en los últimos 14 días\n"
    }
   ],
   "source": [
    "print('Huelva (capital)\\n')\n",
    "#print('Confirmados PCR 7 días x 1,000 habitantes: ', f\"{c7/(p/1000):.5f}\")\n",
    "print('Un positivo PCR cada', f\"{p/c7:.0f}\", 'personas en los últimos 7 días', '\\n')\n",
    "#print('Confirmados PCR 14 días x 1,000 habitantes: ', f\"{c14/(p/1000):.5f}\")\n",
    "print('Un positivo PCR cada', f\"{p/c14:.0f}\", 'personas en los últimos 14 días')"
   ]
  },
  {
   "cell_type": "code",
   "execution_count": 10,
   "metadata": {},
   "outputs": [],
   "source": [
    "filtro = ((df['Medida'] == 'Confirmados PDIA')| (df['Medida'] == 'Confirmados PDIA 7 días') | (df['Medida'] == 'Población' ) | (df['Medida'] == 'Confirmados PDIA 14 días')) & (df['Valor'] > 0)\n",
    "tabla = pd.pivot_table(df.loc[filtro], values='Valor', index='Lugar de residencia', columns='Medida').dropna()"
   ]
  },
  {
   "cell_type": "code",
   "execution_count": 11,
   "metadata": {},
   "outputs": [],
   "source": [
    "# Reorder columns\n",
    "tabla = tabla[['Confirmados PDIA', 'Confirmados PDIA 7 días', 'Confirmados PDIA 14 días', 'Población']]"
   ]
  },
  {
   "cell_type": "code",
   "execution_count": 12,
   "metadata": {},
   "outputs": [],
   "source": [
    "tabla['tasa7'] = tabla['Confirmados PDIA 7 días']/tabla['Población']*100000\n",
    "tabla['tasa14'] = tabla['Confirmados PDIA 14 días']/tabla['Población']*100000"
   ]
  },
  {
   "cell_type": "code",
   "execution_count": 13,
   "metadata": {},
   "outputs": [],
   "source": [
    "tabla['Diferencia PDIA'] = tabla['Confirmados PDIA'] - dfAnterior['Confirmados PCR']"
   ]
  },
  {
   "cell_type": "code",
   "execution_count": 14,
   "metadata": {},
   "outputs": [
    {
     "output_type": "execute_result",
     "data": {
      "text/plain": "Medida                             Confirmados PDIA  Confirmados PDIA 7 días  \\\nLugar de residencia                                                            \nHuelva                                       1670.0                    233.0   \nCondado-Campiña                               590.0                    123.0   \nHuelva-Costa                                  832.0                     93.0   \nSan Juan del Puerto                            58.0                     37.0   \nHuelva (capital)                              402.0                     47.0   \nBollullos Par del Condado                     105.0                     21.0   \nLepe                                          122.0                     26.0   \nSierra de Huelva-Andévalo Central             223.0                     15.0   \nPalma del Condado (La)                         82.0                     19.0   \nMoguer                                         49.0                      6.0   \nVillanueva de los Castillejos                  11.0                      7.0   \nJabugo                                          8.0                      3.0   \nLucena del Puerto                              12.0                      3.0   \nVillarrasa                                     11.0                      6.0   \nGibraleón                                      31.0                     12.0   \nBonares                                         8.0                      3.0   \nAracena                                        52.0                      4.0   \nAlmonte                                        56.0                      3.0   \nIsla Cristina                                  68.0                      3.0   \nAljaraque                                      73.0                      2.0   \nNiebla                                          5.0                      2.0   \nCartaya                                        27.0                      2.0   \nPalos de la Frontera                           28.0                      1.0   \nRociana del Condado                            10.0                      3.0   \nAyamonte                                       51.0                      1.0   \nValverde del Camino                            29.0                      2.0   \nVillablanca                                     7.0                      2.0   \nAroche                                         10.0                      1.0   \nHiguera de la Sierra                            3.0                      1.0   \nNerva                                          24.0                      1.0   \n\nMedida                             Confirmados PDIA 14 días  Población  \\\nLugar de residencia                                                      \nHuelva                                                505.0   510743.0   \nCondado-Campiña                                       238.0   155057.0   \nHuelva-Costa                                          209.0   288115.0   \nSan Juan del Puerto                                    37.0     9300.0   \nHuelva (capital)                                       94.0   143663.0   \nBollullos Par del Condado                              59.0    14272.0   \nLepe                                                   48.0    27431.0   \nSierra de Huelva-Andévalo Central                      54.0    67571.0   \nPalma del Condado (La)                                 46.0    10761.0   \nMoguer                                                 20.0    22088.0   \nVillanueva de los Castillejos                           9.0     2820.0   \nJabugo                                                  4.0     2250.0   \nLucena del Puerto                                       7.0     3371.0   \nVillarrasa                                              8.0     2176.0   \nGibraleón                                              15.0    12607.0   \nBonares                                                 4.0     6058.0   \nAracena                                                 6.0     8107.0   \nAlmonte                                                 7.0    24191.0   \nIsla Cristina                                           8.0    21264.0   \nAljaraque                                               7.0    21260.0   \nNiebla                                                  3.0     4117.0   \nCartaya                                                 6.0    19974.0   \nPalos de la Frontera                                    2.0    11289.0   \nRociana del Condado                                     5.0     7855.0   \nAyamonte                                               11.0    20946.0   \nValverde del Camino                                     3.0    12820.0   \nVillablanca                                             5.0     2848.0   \nAroche                                                  2.0     3073.0   \nHiguera de la Sierra                                    1.0     1287.0   \nNerva                                                   4.0     5235.0   \n\nMedida                                  tasa7      tasa14  Diferencia PDIA  \nLugar de residencia                                                         \nHuelva                              45.619813   98.875560            150.0  \nCondado-Campiña                     79.325667  153.491942             84.0  \nHuelva-Costa                        32.278778   72.540479             56.0  \nSan Juan del Puerto                397.849462  397.849462             34.0  \nHuelva (capital)                    32.715452   65.430904             34.0  \nBollullos Par del Condado          147.141256  413.396861             16.0  \nLepe                                94.783274  174.984507             11.0  \nSierra de Huelva-Andévalo Central   22.198872   79.915940             10.0  \nPalma del Condado (La)             176.563516  427.469566             10.0  \nMoguer                              27.164071   90.546903              6.0  \nVillanueva de los Castillejos      248.226950  319.148936              4.0  \nJabugo                             133.333333  177.777778              3.0  \nLucena del Puerto                   88.994364  207.653515              3.0  \nVillarrasa                         275.735294  367.647059              3.0  \nGibraleón                           95.185215  118.981518              3.0  \nBonares                             49.521294   66.028392              3.0  \nAracena                             49.340076   74.010115              3.0  \nAlmonte                             12.401306   28.936381              2.0  \nIsla Cristina                       14.108352   37.622272              2.0  \nAljaraque                            9.407338   32.925682              2.0  \nNiebla                              48.579062   72.868594              1.0  \nCartaya                             10.013017   30.039051              1.0  \nPalos de la Frontera                 8.858181   17.716361              1.0  \nRociana del Condado                 38.192234   63.653724              1.0  \nAyamonte                             4.774181   52.515994              1.0  \nValverde del Camino                 15.600624   23.400936              1.0  \nVillablanca                         70.224719  175.561798              1.0  \nAroche                              32.541490   65.082981              NaN  \nHiguera de la Sierra                77.700078   77.700078              NaN  \nNerva                               19.102197   76.408787              NaN  ",
      "text/html": "<div>\n<style scoped>\n    .dataframe tbody tr th:only-of-type {\n        vertical-align: middle;\n    }\n\n    .dataframe tbody tr th {\n        vertical-align: top;\n    }\n\n    .dataframe thead th {\n        text-align: right;\n    }\n</style>\n<table border=\"1\" class=\"dataframe\">\n  <thead>\n    <tr style=\"text-align: right;\">\n      <th>Medida</th>\n      <th>Confirmados PDIA</th>\n      <th>Confirmados PDIA 7 días</th>\n      <th>Confirmados PDIA 14 días</th>\n      <th>Población</th>\n      <th>tasa7</th>\n      <th>tasa14</th>\n      <th>Diferencia PDIA</th>\n    </tr>\n    <tr>\n      <th>Lugar de residencia</th>\n      <th></th>\n      <th></th>\n      <th></th>\n      <th></th>\n      <th></th>\n      <th></th>\n      <th></th>\n    </tr>\n  </thead>\n  <tbody>\n    <tr>\n      <th>Huelva</th>\n      <td>1670.0</td>\n      <td>233.0</td>\n      <td>505.0</td>\n      <td>510743.0</td>\n      <td>45.619813</td>\n      <td>98.875560</td>\n      <td>150.0</td>\n    </tr>\n    <tr>\n      <th>Condado-Campiña</th>\n      <td>590.0</td>\n      <td>123.0</td>\n      <td>238.0</td>\n      <td>155057.0</td>\n      <td>79.325667</td>\n      <td>153.491942</td>\n      <td>84.0</td>\n    </tr>\n    <tr>\n      <th>Huelva-Costa</th>\n      <td>832.0</td>\n      <td>93.0</td>\n      <td>209.0</td>\n      <td>288115.0</td>\n      <td>32.278778</td>\n      <td>72.540479</td>\n      <td>56.0</td>\n    </tr>\n    <tr>\n      <th>San Juan del Puerto</th>\n      <td>58.0</td>\n      <td>37.0</td>\n      <td>37.0</td>\n      <td>9300.0</td>\n      <td>397.849462</td>\n      <td>397.849462</td>\n      <td>34.0</td>\n    </tr>\n    <tr>\n      <th>Huelva (capital)</th>\n      <td>402.0</td>\n      <td>47.0</td>\n      <td>94.0</td>\n      <td>143663.0</td>\n      <td>32.715452</td>\n      <td>65.430904</td>\n      <td>34.0</td>\n    </tr>\n    <tr>\n      <th>Bollullos Par del Condado</th>\n      <td>105.0</td>\n      <td>21.0</td>\n      <td>59.0</td>\n      <td>14272.0</td>\n      <td>147.141256</td>\n      <td>413.396861</td>\n      <td>16.0</td>\n    </tr>\n    <tr>\n      <th>Lepe</th>\n      <td>122.0</td>\n      <td>26.0</td>\n      <td>48.0</td>\n      <td>27431.0</td>\n      <td>94.783274</td>\n      <td>174.984507</td>\n      <td>11.0</td>\n    </tr>\n    <tr>\n      <th>Sierra de Huelva-Andévalo Central</th>\n      <td>223.0</td>\n      <td>15.0</td>\n      <td>54.0</td>\n      <td>67571.0</td>\n      <td>22.198872</td>\n      <td>79.915940</td>\n      <td>10.0</td>\n    </tr>\n    <tr>\n      <th>Palma del Condado (La)</th>\n      <td>82.0</td>\n      <td>19.0</td>\n      <td>46.0</td>\n      <td>10761.0</td>\n      <td>176.563516</td>\n      <td>427.469566</td>\n      <td>10.0</td>\n    </tr>\n    <tr>\n      <th>Moguer</th>\n      <td>49.0</td>\n      <td>6.0</td>\n      <td>20.0</td>\n      <td>22088.0</td>\n      <td>27.164071</td>\n      <td>90.546903</td>\n      <td>6.0</td>\n    </tr>\n    <tr>\n      <th>Villanueva de los Castillejos</th>\n      <td>11.0</td>\n      <td>7.0</td>\n      <td>9.0</td>\n      <td>2820.0</td>\n      <td>248.226950</td>\n      <td>319.148936</td>\n      <td>4.0</td>\n    </tr>\n    <tr>\n      <th>Jabugo</th>\n      <td>8.0</td>\n      <td>3.0</td>\n      <td>4.0</td>\n      <td>2250.0</td>\n      <td>133.333333</td>\n      <td>177.777778</td>\n      <td>3.0</td>\n    </tr>\n    <tr>\n      <th>Lucena del Puerto</th>\n      <td>12.0</td>\n      <td>3.0</td>\n      <td>7.0</td>\n      <td>3371.0</td>\n      <td>88.994364</td>\n      <td>207.653515</td>\n      <td>3.0</td>\n    </tr>\n    <tr>\n      <th>Villarrasa</th>\n      <td>11.0</td>\n      <td>6.0</td>\n      <td>8.0</td>\n      <td>2176.0</td>\n      <td>275.735294</td>\n      <td>367.647059</td>\n      <td>3.0</td>\n    </tr>\n    <tr>\n      <th>Gibraleón</th>\n      <td>31.0</td>\n      <td>12.0</td>\n      <td>15.0</td>\n      <td>12607.0</td>\n      <td>95.185215</td>\n      <td>118.981518</td>\n      <td>3.0</td>\n    </tr>\n    <tr>\n      <th>Bonares</th>\n      <td>8.0</td>\n      <td>3.0</td>\n      <td>4.0</td>\n      <td>6058.0</td>\n      <td>49.521294</td>\n      <td>66.028392</td>\n      <td>3.0</td>\n    </tr>\n    <tr>\n      <th>Aracena</th>\n      <td>52.0</td>\n      <td>4.0</td>\n      <td>6.0</td>\n      <td>8107.0</td>\n      <td>49.340076</td>\n      <td>74.010115</td>\n      <td>3.0</td>\n    </tr>\n    <tr>\n      <th>Almonte</th>\n      <td>56.0</td>\n      <td>3.0</td>\n      <td>7.0</td>\n      <td>24191.0</td>\n      <td>12.401306</td>\n      <td>28.936381</td>\n      <td>2.0</td>\n    </tr>\n    <tr>\n      <th>Isla Cristina</th>\n      <td>68.0</td>\n      <td>3.0</td>\n      <td>8.0</td>\n      <td>21264.0</td>\n      <td>14.108352</td>\n      <td>37.622272</td>\n      <td>2.0</td>\n    </tr>\n    <tr>\n      <th>Aljaraque</th>\n      <td>73.0</td>\n      <td>2.0</td>\n      <td>7.0</td>\n      <td>21260.0</td>\n      <td>9.407338</td>\n      <td>32.925682</td>\n      <td>2.0</td>\n    </tr>\n    <tr>\n      <th>Niebla</th>\n      <td>5.0</td>\n      <td>2.0</td>\n      <td>3.0</td>\n      <td>4117.0</td>\n      <td>48.579062</td>\n      <td>72.868594</td>\n      <td>1.0</td>\n    </tr>\n    <tr>\n      <th>Cartaya</th>\n      <td>27.0</td>\n      <td>2.0</td>\n      <td>6.0</td>\n      <td>19974.0</td>\n      <td>10.013017</td>\n      <td>30.039051</td>\n      <td>1.0</td>\n    </tr>\n    <tr>\n      <th>Palos de la Frontera</th>\n      <td>28.0</td>\n      <td>1.0</td>\n      <td>2.0</td>\n      <td>11289.0</td>\n      <td>8.858181</td>\n      <td>17.716361</td>\n      <td>1.0</td>\n    </tr>\n    <tr>\n      <th>Rociana del Condado</th>\n      <td>10.0</td>\n      <td>3.0</td>\n      <td>5.0</td>\n      <td>7855.0</td>\n      <td>38.192234</td>\n      <td>63.653724</td>\n      <td>1.0</td>\n    </tr>\n    <tr>\n      <th>Ayamonte</th>\n      <td>51.0</td>\n      <td>1.0</td>\n      <td>11.0</td>\n      <td>20946.0</td>\n      <td>4.774181</td>\n      <td>52.515994</td>\n      <td>1.0</td>\n    </tr>\n    <tr>\n      <th>Valverde del Camino</th>\n      <td>29.0</td>\n      <td>2.0</td>\n      <td>3.0</td>\n      <td>12820.0</td>\n      <td>15.600624</td>\n      <td>23.400936</td>\n      <td>1.0</td>\n    </tr>\n    <tr>\n      <th>Villablanca</th>\n      <td>7.0</td>\n      <td>2.0</td>\n      <td>5.0</td>\n      <td>2848.0</td>\n      <td>70.224719</td>\n      <td>175.561798</td>\n      <td>1.0</td>\n    </tr>\n    <tr>\n      <th>Aroche</th>\n      <td>10.0</td>\n      <td>1.0</td>\n      <td>2.0</td>\n      <td>3073.0</td>\n      <td>32.541490</td>\n      <td>65.082981</td>\n      <td>NaN</td>\n    </tr>\n    <tr>\n      <th>Higuera de la Sierra</th>\n      <td>3.0</td>\n      <td>1.0</td>\n      <td>1.0</td>\n      <td>1287.0</td>\n      <td>77.700078</td>\n      <td>77.700078</td>\n      <td>NaN</td>\n    </tr>\n    <tr>\n      <th>Nerva</th>\n      <td>24.0</td>\n      <td>1.0</td>\n      <td>4.0</td>\n      <td>5235.0</td>\n      <td>19.102197</td>\n      <td>76.408787</td>\n      <td>NaN</td>\n    </tr>\n  </tbody>\n</table>\n</div>"
     },
     "metadata": {},
     "execution_count": 14
    }
   ],
   "source": [
    "# Nuevos casos desde la última captura\n",
    "tabla[tabla['Diferencia PDIA'] != 0].sort_values('Diferencia PDIA', ascending=False)"
   ]
  },
  {
   "cell_type": "code",
   "execution_count": 15,
   "metadata": {},
   "outputs": [],
   "source": [
    "if tabla[tabla['Diferencia PDIA'] != 0]['Diferencia PDIA'].sum() > 0:\n",
    "  # Save to csv\n",
    "  tabla.to_csv('covid_huelva.csv', encoding='utf-8', header=True, index=True)  "
   ]
  },
  {
   "cell_type": "code",
   "execution_count": 16,
   "metadata": {},
   "outputs": [
    {
     "output_type": "execute_result",
     "data": {
      "text/plain": "Medida                             Confirmados PDIA  Confirmados PDIA 7 días  \\\nLugar de residencia                                                            \nManzanilla                                     19.0                      7.0   \nAlmendro (El)                                   5.0                      1.0   \nValdelarco                                      2.0                      1.0   \nPalma del Condado (La)                         81.0                     27.0   \nBollullos Par del Condado                     103.0                     23.0   \nSan Juan del Puerto                            50.0                     29.0   \nVillarrasa                                     10.0                      6.0   \nVillanueva de los Castillejos                  10.0                      7.0   \nLucena del Puerto                              12.0                      5.0   \nVillablanca                                     7.0                      3.0   \nLepe                                          122.0                     30.0   \nCerro de Andévalo (El)                          5.0                      2.0   \nCondado-Campiña                               573.0                    129.0   \nPaterna del Campo                              12.0                      2.0   \nGibraleón                                      29.0                     12.0   \nHuelva                                       1641.0                    243.0   \nMoguer                                         49.0                      6.0   \nJabugo                                          6.0                      1.0   \nPunta Umbría                                   36.0                      2.0   \nAracena                                        52.0                      5.0   \nSierra de Huelva-Andévalo Central             219.0                     13.0   \nNiebla                                          5.0                      3.0   \nHuelva-Costa                                  824.0                     99.0   \nAroche                                         10.0                      1.0   \nRociana del Condado                            10.0                      3.0   \nHuelva (capital)                              396.0                     46.0   \nAyamonte                                       51.0                      3.0   \nMinas de Riotinto                              18.0                      1.0   \nTrigueros                                      37.0                      2.0   \nIsla Cristina                                  68.0                      4.0   \nPalos de la Frontera                           28.0                      1.0   \nAljaraque                                      73.0                      2.0   \nAlmonte                                        56.0                      3.0   \nCartaya                                        26.0                      1.0   \nValverde del Camino                            29.0                      2.0   \n\nMedida                             Confirmados PDIA 14 días  Población  \\\nLugar de residencia                                                      \nManzanilla                                             15.0     2135.0   \nAlmendro (El)                                           4.0      826.0   \nValdelarco                                              1.0      239.0   \nPalma del Condado (La)                                 45.0    10761.0   \nBollullos Par del Condado                              57.0    14272.0   \nSan Juan del Puerto                                    31.0     9300.0   \nVillarrasa                                              7.0     2176.0   \nVillanueva de los Castillejos                           8.0     2820.0   \nLucena del Puerto                                       7.0     3371.0   \nVillablanca                                             5.0     2848.0   \nLepe                                                   48.0    27431.0   \nCerro de Andévalo (El)                                  4.0     2364.0   \nCondado-Campiña                                       225.0   155057.0   \nPaterna del Campo                                       5.0     3509.0   \nGibraleón                                              13.0    12607.0   \nHuelva                                                486.0   510743.0   \nMoguer                                                 20.0    22088.0   \nJabugo                                                  2.0     2250.0   \nPunta Umbría                                           13.0    15242.0   \nAracena                                                 6.0     8107.0   \nSierra de Huelva-Andévalo Central                      50.0    67571.0   \nNiebla                                                  3.0     4117.0   \nHuelva-Costa                                          207.0   288115.0   \nAroche                                                  2.0     3073.0   \nRociana del Condado                                     5.0     7855.0   \nHuelva (capital)                                       90.0   143663.0   \nAyamonte                                               12.0    20946.0   \nMinas de Riotinto                                       2.0     3848.0   \nTrigueros                                               4.0     7713.0   \nIsla Cristina                                          10.0    21264.0   \nPalos de la Frontera                                    4.0    11289.0   \nAljaraque                                               7.0    21260.0   \nAlmonte                                                 7.0    24191.0   \nCartaya                                                 5.0    19974.0   \nValverde del Camino                                     3.0    12820.0   \n\nMedida                                  tasa7      tasa14  Diferencia PDIA  \nLugar de residencia                                                         \nManzanilla                         327.868852  702.576112              0.0  \nAlmendro (El)                      121.065375  484.261501              0.0  \nValdelarco                         418.410042  418.410042              0.0  \nPalma del Condado (La)             250.906050  418.176749              9.0  \nBollullos Par del Condado          161.154709  399.383408             14.0  \nSan Juan del Puerto                311.827957  333.333333             26.0  \nVillarrasa                         275.735294  321.691176              2.0  \nVillanueva de los Castillejos      248.226950  283.687943              3.0  \nLucena del Puerto                  148.323939  207.653515              3.0  \nVillablanca                        105.337079  175.561798              1.0  \nLepe                               109.365317  174.984507             11.0  \nCerro de Andévalo (El)              84.602369  169.204738              0.0  \nCondado-Campiña                     83.195212  145.107928             67.0  \nPaterna del Campo                   56.996295  142.490738              0.0  \nGibraleón                           95.185215  103.117316              1.0  \nHuelva                              47.577745   95.155489            121.0  \nMoguer                              27.164071   90.546903              6.0  \nJabugo                              44.444444   88.888889              1.0  \nPunta Umbría                        13.121638   85.290644              0.0  \nAracena                             61.675096   74.010115              3.0  \nSierra de Huelva-Andévalo Central   19.239023   73.996241              6.0  \nNiebla                              72.868594   72.868594              1.0  \nHuelva-Costa                        34.361279   71.846311             48.0  \nAroche                              32.541490   65.082981              NaN  \nRociana del Condado                 38.192234   63.653724              1.0  \nHuelva (capital)                    32.019379   62.646610             28.0  \nAyamonte                            14.322544   57.290175              1.0  \nMinas de Riotinto                   25.987526   51.975052              0.0  \nTrigueros                           25.930248   51.860495              1.0  \nIsla Cristina                       18.811136   47.027840              2.0  \nPalos de la Frontera                 8.858181   35.432722              1.0  \nAljaraque                            9.407338   32.925682              2.0  \nAlmonte                             12.401306   28.936381              2.0  \nCartaya                              5.006508   25.032542              0.0  \nValverde del Camino                 15.600624   23.400936              1.0  ",
      "text/html": "<div>\n<style scoped>\n    .dataframe tbody tr th:only-of-type {\n        vertical-align: middle;\n    }\n\n    .dataframe tbody tr th {\n        vertical-align: top;\n    }\n\n    .dataframe thead th {\n        text-align: right;\n    }\n</style>\n<table border=\"1\" class=\"dataframe\">\n  <thead>\n    <tr style=\"text-align: right;\">\n      <th>Medida</th>\n      <th>Confirmados PDIA</th>\n      <th>Confirmados PDIA 7 días</th>\n      <th>Confirmados PDIA 14 días</th>\n      <th>Población</th>\n      <th>tasa7</th>\n      <th>tasa14</th>\n      <th>Diferencia PDIA</th>\n    </tr>\n    <tr>\n      <th>Lugar de residencia</th>\n      <th></th>\n      <th></th>\n      <th></th>\n      <th></th>\n      <th></th>\n      <th></th>\n      <th></th>\n    </tr>\n  </thead>\n  <tbody>\n    <tr>\n      <th>Manzanilla</th>\n      <td>19.0</td>\n      <td>7.0</td>\n      <td>15.0</td>\n      <td>2135.0</td>\n      <td>327.868852</td>\n      <td>702.576112</td>\n      <td>0.0</td>\n    </tr>\n    <tr>\n      <th>Almendro (El)</th>\n      <td>5.0</td>\n      <td>1.0</td>\n      <td>4.0</td>\n      <td>826.0</td>\n      <td>121.065375</td>\n      <td>484.261501</td>\n      <td>0.0</td>\n    </tr>\n    <tr>\n      <th>Valdelarco</th>\n      <td>2.0</td>\n      <td>1.0</td>\n      <td>1.0</td>\n      <td>239.0</td>\n      <td>418.410042</td>\n      <td>418.410042</td>\n      <td>0.0</td>\n    </tr>\n    <tr>\n      <th>Palma del Condado (La)</th>\n      <td>81.0</td>\n      <td>27.0</td>\n      <td>45.0</td>\n      <td>10761.0</td>\n      <td>250.906050</td>\n      <td>418.176749</td>\n      <td>9.0</td>\n    </tr>\n    <tr>\n      <th>Bollullos Par del Condado</th>\n      <td>103.0</td>\n      <td>23.0</td>\n      <td>57.0</td>\n      <td>14272.0</td>\n      <td>161.154709</td>\n      <td>399.383408</td>\n      <td>14.0</td>\n    </tr>\n    <tr>\n      <th>San Juan del Puerto</th>\n      <td>50.0</td>\n      <td>29.0</td>\n      <td>31.0</td>\n      <td>9300.0</td>\n      <td>311.827957</td>\n      <td>333.333333</td>\n      <td>26.0</td>\n    </tr>\n    <tr>\n      <th>Villarrasa</th>\n      <td>10.0</td>\n      <td>6.0</td>\n      <td>7.0</td>\n      <td>2176.0</td>\n      <td>275.735294</td>\n      <td>321.691176</td>\n      <td>2.0</td>\n    </tr>\n    <tr>\n      <th>Villanueva de los Castillejos</th>\n      <td>10.0</td>\n      <td>7.0</td>\n      <td>8.0</td>\n      <td>2820.0</td>\n      <td>248.226950</td>\n      <td>283.687943</td>\n      <td>3.0</td>\n    </tr>\n    <tr>\n      <th>Lucena del Puerto</th>\n      <td>12.0</td>\n      <td>5.0</td>\n      <td>7.0</td>\n      <td>3371.0</td>\n      <td>148.323939</td>\n      <td>207.653515</td>\n      <td>3.0</td>\n    </tr>\n    <tr>\n      <th>Villablanca</th>\n      <td>7.0</td>\n      <td>3.0</td>\n      <td>5.0</td>\n      <td>2848.0</td>\n      <td>105.337079</td>\n      <td>175.561798</td>\n      <td>1.0</td>\n    </tr>\n    <tr>\n      <th>Lepe</th>\n      <td>122.0</td>\n      <td>30.0</td>\n      <td>48.0</td>\n      <td>27431.0</td>\n      <td>109.365317</td>\n      <td>174.984507</td>\n      <td>11.0</td>\n    </tr>\n    <tr>\n      <th>Cerro de Andévalo (El)</th>\n      <td>5.0</td>\n      <td>2.0</td>\n      <td>4.0</td>\n      <td>2364.0</td>\n      <td>84.602369</td>\n      <td>169.204738</td>\n      <td>0.0</td>\n    </tr>\n    <tr>\n      <th>Condado-Campiña</th>\n      <td>573.0</td>\n      <td>129.0</td>\n      <td>225.0</td>\n      <td>155057.0</td>\n      <td>83.195212</td>\n      <td>145.107928</td>\n      <td>67.0</td>\n    </tr>\n    <tr>\n      <th>Paterna del Campo</th>\n      <td>12.0</td>\n      <td>2.0</td>\n      <td>5.0</td>\n      <td>3509.0</td>\n      <td>56.996295</td>\n      <td>142.490738</td>\n      <td>0.0</td>\n    </tr>\n    <tr>\n      <th>Gibraleón</th>\n      <td>29.0</td>\n      <td>12.0</td>\n      <td>13.0</td>\n      <td>12607.0</td>\n      <td>95.185215</td>\n      <td>103.117316</td>\n      <td>1.0</td>\n    </tr>\n    <tr>\n      <th>Huelva</th>\n      <td>1641.0</td>\n      <td>243.0</td>\n      <td>486.0</td>\n      <td>510743.0</td>\n      <td>47.577745</td>\n      <td>95.155489</td>\n      <td>121.0</td>\n    </tr>\n    <tr>\n      <th>Moguer</th>\n      <td>49.0</td>\n      <td>6.0</td>\n      <td>20.0</td>\n      <td>22088.0</td>\n      <td>27.164071</td>\n      <td>90.546903</td>\n      <td>6.0</td>\n    </tr>\n    <tr>\n      <th>Jabugo</th>\n      <td>6.0</td>\n      <td>1.0</td>\n      <td>2.0</td>\n      <td>2250.0</td>\n      <td>44.444444</td>\n      <td>88.888889</td>\n      <td>1.0</td>\n    </tr>\n    <tr>\n      <th>Punta Umbría</th>\n      <td>36.0</td>\n      <td>2.0</td>\n      <td>13.0</td>\n      <td>15242.0</td>\n      <td>13.121638</td>\n      <td>85.290644</td>\n      <td>0.0</td>\n    </tr>\n    <tr>\n      <th>Aracena</th>\n      <td>52.0</td>\n      <td>5.0</td>\n      <td>6.0</td>\n      <td>8107.0</td>\n      <td>61.675096</td>\n      <td>74.010115</td>\n      <td>3.0</td>\n    </tr>\n    <tr>\n      <th>Sierra de Huelva-Andévalo Central</th>\n      <td>219.0</td>\n      <td>13.0</td>\n      <td>50.0</td>\n      <td>67571.0</td>\n      <td>19.239023</td>\n      <td>73.996241</td>\n      <td>6.0</td>\n    </tr>\n    <tr>\n      <th>Niebla</th>\n      <td>5.0</td>\n      <td>3.0</td>\n      <td>3.0</td>\n      <td>4117.0</td>\n      <td>72.868594</td>\n      <td>72.868594</td>\n      <td>1.0</td>\n    </tr>\n    <tr>\n      <th>Huelva-Costa</th>\n      <td>824.0</td>\n      <td>99.0</td>\n      <td>207.0</td>\n      <td>288115.0</td>\n      <td>34.361279</td>\n      <td>71.846311</td>\n      <td>48.0</td>\n    </tr>\n    <tr>\n      <th>Aroche</th>\n      <td>10.0</td>\n      <td>1.0</td>\n      <td>2.0</td>\n      <td>3073.0</td>\n      <td>32.541490</td>\n      <td>65.082981</td>\n      <td>NaN</td>\n    </tr>\n    <tr>\n      <th>Rociana del Condado</th>\n      <td>10.0</td>\n      <td>3.0</td>\n      <td>5.0</td>\n      <td>7855.0</td>\n      <td>38.192234</td>\n      <td>63.653724</td>\n      <td>1.0</td>\n    </tr>\n    <tr>\n      <th>Huelva (capital)</th>\n      <td>396.0</td>\n      <td>46.0</td>\n      <td>90.0</td>\n      <td>143663.0</td>\n      <td>32.019379</td>\n      <td>62.646610</td>\n      <td>28.0</td>\n    </tr>\n    <tr>\n      <th>Ayamonte</th>\n      <td>51.0</td>\n      <td>3.0</td>\n      <td>12.0</td>\n      <td>20946.0</td>\n      <td>14.322544</td>\n      <td>57.290175</td>\n      <td>1.0</td>\n    </tr>\n    <tr>\n      <th>Minas de Riotinto</th>\n      <td>18.0</td>\n      <td>1.0</td>\n      <td>2.0</td>\n      <td>3848.0</td>\n      <td>25.987526</td>\n      <td>51.975052</td>\n      <td>0.0</td>\n    </tr>\n    <tr>\n      <th>Trigueros</th>\n      <td>37.0</td>\n      <td>2.0</td>\n      <td>4.0</td>\n      <td>7713.0</td>\n      <td>25.930248</td>\n      <td>51.860495</td>\n      <td>1.0</td>\n    </tr>\n    <tr>\n      <th>Isla Cristina</th>\n      <td>68.0</td>\n      <td>4.0</td>\n      <td>10.0</td>\n      <td>21264.0</td>\n      <td>18.811136</td>\n      <td>47.027840</td>\n      <td>2.0</td>\n    </tr>\n    <tr>\n      <th>Palos de la Frontera</th>\n      <td>28.0</td>\n      <td>1.0</td>\n      <td>4.0</td>\n      <td>11289.0</td>\n      <td>8.858181</td>\n      <td>35.432722</td>\n      <td>1.0</td>\n    </tr>\n    <tr>\n      <th>Aljaraque</th>\n      <td>73.0</td>\n      <td>2.0</td>\n      <td>7.0</td>\n      <td>21260.0</td>\n      <td>9.407338</td>\n      <td>32.925682</td>\n      <td>2.0</td>\n    </tr>\n    <tr>\n      <th>Almonte</th>\n      <td>56.0</td>\n      <td>3.0</td>\n      <td>7.0</td>\n      <td>24191.0</td>\n      <td>12.401306</td>\n      <td>28.936381</td>\n      <td>2.0</td>\n    </tr>\n    <tr>\n      <th>Cartaya</th>\n      <td>26.0</td>\n      <td>1.0</td>\n      <td>5.0</td>\n      <td>19974.0</td>\n      <td>5.006508</td>\n      <td>25.032542</td>\n      <td>0.0</td>\n    </tr>\n    <tr>\n      <th>Valverde del Camino</th>\n      <td>29.0</td>\n      <td>2.0</td>\n      <td>3.0</td>\n      <td>12820.0</td>\n      <td>15.600624</td>\n      <td>23.400936</td>\n      <td>1.0</td>\n    </tr>\n  </tbody>\n</table>\n</div>"
     },
     "metadata": {},
     "execution_count": 16
    }
   ],
   "source": [
    "tabla.sort_values('tasa14', ascending=False)"
   ]
  },
  {
   "cell_type": "code",
   "execution_count": null,
   "metadata": {},
   "outputs": [],
   "source": []
  }
 ]
}