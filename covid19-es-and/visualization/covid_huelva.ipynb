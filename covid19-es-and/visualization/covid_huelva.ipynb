{
 "metadata": {
  "language_info": {
   "codemirror_mode": {
    "name": "ipython",
    "version": 3
   },
   "file_extension": ".py",
   "mimetype": "text/x-python",
   "name": "python",
   "nbconvert_exporter": "python",
   "pygments_lexer": "ipython3",
   "version": "3.6.9-final"
  },
  "orig_nbformat": 2,
  "kernelspec": {
   "name": "Python 3.6.9 64-bit",
   "display_name": "Python 3.6.9 64-bit",
   "metadata": {
    "interpreter": {
     "hash": "31f2aee4e71d21fbe5cf8b01ff0e069b9275f58929596ceb00d14d90e3e16cd6"
    }
   }
  }
 },
 "nbformat": 4,
 "nbformat_minor": 2,
 "cells": [
  {
   "cell_type": "code",
   "execution_count": 1,
   "metadata": {},
   "outputs": [],
   "source": [
    "import pandas as pd"
   ]
  },
  {
   "cell_type": "code",
   "execution_count": 2,
   "metadata": {},
   "outputs": [],
   "source": [
    "url = 'https://www.juntadeandalucia.es/institutodeestadisticaycartografia/badea/stpivot/stpivot/Print?cube=013d884c-cfc5-4c21-9e78-e26225682afd&type=3&foto=si&ejecutaDesde=&codConsulta=38668&consTipoVisua=JP'\n",
    "fields = ['Lugar de residencia', 'Medida', 'Valor']\n",
    "df = pd.read_csv(url, delimiter=';', usecols=fields, decimal=',')"
   ]
  },
  {
   "cell_type": "code",
   "execution_count": 3,
   "metadata": {},
   "outputs": [],
   "source": [
    "df['Valor'] = pd.to_numeric(df['Valor'],errors='coerce')"
   ]
  },
  {
   "cell_type": "code",
   "execution_count": 4,
   "metadata": {},
   "outputs": [],
   "source": [
    "dfAnterior = pd.read_csv('covid_huelva.csv', index_col='Lugar de residencia')"
   ]
  },
  {
   "cell_type": "code",
   "execution_count": 5,
   "metadata": {
    "tags": []
   },
   "outputs": [
    {
     "output_type": "stream",
     "name": "stdout",
     "text": "Confirmados PCR en la provincia de Huelva:  1262.0\n"
    }
   ],
   "source": [
    "# Confirmados PCR provincia Huelva\n",
    "p = df[df['Lugar de residencia'] == 'Huelva'][df['Medida'] == 'Confirmados PCR']['Valor'].values[0]\n",
    "print('Confirmados PCR en la provincia de Huelva: ', p)"
   ]
  },
  {
   "cell_type": "code",
   "execution_count": 6,
   "metadata": {
    "tags": []
   },
   "outputs": [
    {
     "output_type": "stream",
     "name": "stdout",
     "text": "Confirmados PCR en Huelva capital:  335.0\n"
    }
   ],
   "source": [
    "# Confirmados PCR Huelva capital\n",
    "c = df[df['Lugar de residencia'] == 'Huelva (capital)'][df['Medida'] == 'Confirmados PCR']['Valor'].values[0]\n",
    "print('Confirmados PCR en Huelva capital: ', c)"
   ]
  },
  {
   "cell_type": "code",
   "execution_count": 7,
   "metadata": {
    "tags": []
   },
   "outputs": [],
   "source": [
    "c7 = df[df['Lugar de residencia'] == 'Huelva (capital)'][df['Medida'] == 'Confirmados PCR 7 días']['Valor'].values[0]\n",
    "c14 = df[df['Lugar de residencia'] == 'Huelva (capital)'][df['Medida'] == 'Confirmados PCR 14 días']['Valor'].values[0]\n",
    "p = df[df['Lugar de residencia'] == 'Huelva (capital)'][df['Medida'] == 'Población']['Valor'].values[0]"
   ]
  },
  {
   "cell_type": "code",
   "execution_count": 8,
   "metadata": {
    "tags": []
   },
   "outputs": [
    {
     "output_type": "stream",
     "name": "stdout",
     "text": "Huelva (capital)\n\nUn positivo PCR cada 2993 personas en los últimos 7 días \n\nUn positivo PCR cada 1381 personas en los últimos 14 días\n"
    }
   ],
   "source": [
    "print('Huelva (capital)\\n')\n",
    "#print('Confirmados PCR 7 días x 1,000 habitantes: ', f\"{c7/(p/1000):.5f}\")\n",
    "print('Un positivo PCR cada', f\"{p/c7:.0f}\", 'personas en los últimos 7 días', '\\n')\n",
    "#print('Confirmados PCR 14 días x 1,000 habitantes: ', f\"{c14/(p/1000):.5f}\")\n",
    "print('Un positivo PCR cada', f\"{p/c14:.0f}\", 'personas en los últimos 14 días')"
   ]
  },
  {
   "cell_type": "code",
   "execution_count": 9,
   "metadata": {},
   "outputs": [],
   "source": [
    "filtro = ((df['Medida'] == 'Confirmados PCR')| (df['Medida'] == 'Confirmados PCR 7 días') | (df['Medida'] == 'Población' ) | (df['Medida'] == 'Confirmados PCR 14 días')) & (df['Valor'] > 0)\n",
    "tabla = pd.pivot_table(df.loc[filtro], values='Valor', index='Lugar de residencia', columns='Medida').dropna()"
   ]
  },
  {
   "cell_type": "code",
   "execution_count": 10,
   "metadata": {},
   "outputs": [],
   "source": [
    "# Reorder columns\n",
    "tabla = tabla[['Confirmados PCR', 'Confirmados PCR 7 días', 'Confirmados PCR 14 días', 'Población']]"
   ]
  },
  {
   "cell_type": "code",
   "execution_count": 11,
   "metadata": {},
   "outputs": [],
   "source": [
    "tabla['tasa7'] = tabla['Confirmados PCR 7 días']/tabla['Población']*100000\n",
    "tabla['tasa14'] = tabla['Confirmados PCR 14 días']/tabla['Población']*100000"
   ]
  },
  {
   "cell_type": "code",
   "execution_count": 12,
   "metadata": {},
   "outputs": [],
   "source": [
    "tabla['Diferencia PCR'] = tabla['Confirmados PCR'] - dfAnterior['Confirmados PCR']"
   ]
  },
  {
   "cell_type": "code",
   "execution_count": 13,
   "metadata": {},
   "outputs": [
    {
     "output_type": "execute_result",
     "data": {
      "text/plain": "Medida                     Confirmados PCR  Confirmados PCR 7 días  \\\nLugar de residencia                                                  \nHuelva                              1262.0                   183.0   \nHuelva-Costa                         684.0                   104.0   \nCondado-Campiña                      385.0                    63.0   \nHuelva (capital)                     335.0                    48.0   \nBollullos Par del Condado             62.0                    21.0   \nAyamonte                              46.0                    12.0   \nAljaraque                             69.0                     5.0   \nMoguer                                35.0                     8.0   \nAlmonte                               53.0                     7.0   \nLepe                                  84.0                    16.0   \nPalma del Condado (La)                38.0                     6.0   \nAlosno                                 5.0                     2.0   \nCartaya                               23.0                     2.0   \nIsla Cristina                         62.0                     9.0   \n\nMedida                     Confirmados PCR 14 días  Población       tasa7  \\\nLugar de residencia                                                         \nHuelva                                       370.0   510743.0   35.830153   \nHuelva-Costa                                 231.0   288115.0   36.096697   \nCondado-Campiña                              104.0   155057.0   40.630220   \nHuelva (capital)                             104.0   143663.0   33.411526   \nBollullos Par del Condado                     31.0    14272.0  147.141256   \nAyamonte                                      29.0    20946.0   57.290175   \nAljaraque                                     21.0    21260.0   23.518344   \nMoguer                                         9.0    22088.0   36.218761   \nAlmonte                                       12.0    24191.0   28.936381   \nLepe                                          23.0    27431.0   58.328169   \nPalma del Condado (La)                         7.0    10761.0   55.756900   \nAlosno                                         2.0     3923.0   50.981392   \nCartaya                                        8.0    19974.0   10.013017   \nIsla Cristina                                 24.0    21264.0   42.325056   \n\nMedida                         tasa14  Diferencia PCR  \nLugar de residencia                                    \nHuelva                      72.443479            44.0  \nHuelva-Costa                80.176318            26.0  \nCondado-Campiña             67.072109            18.0  \nHuelva (capital)            72.391639            13.0  \nBollullos Par del Condado  217.208520             7.0  \nAyamonte                   138.451256             5.0  \nAljaraque                   98.777046             3.0  \nMoguer                      40.746106             3.0  \nAlmonte                     49.605225             2.0  \nLepe                        83.846743             2.0  \nPalma del Condado (La)      65.049717             2.0  \nAlosno                      50.981392             1.0  \nCartaya                     40.052068             1.0  \nIsla Cristina              112.866817             1.0  ",
      "text/html": "<div>\n<style scoped>\n    .dataframe tbody tr th:only-of-type {\n        vertical-align: middle;\n    }\n\n    .dataframe tbody tr th {\n        vertical-align: top;\n    }\n\n    .dataframe thead th {\n        text-align: right;\n    }\n</style>\n<table border=\"1\" class=\"dataframe\">\n  <thead>\n    <tr style=\"text-align: right;\">\n      <th>Medida</th>\n      <th>Confirmados PCR</th>\n      <th>Confirmados PCR 7 días</th>\n      <th>Confirmados PCR 14 días</th>\n      <th>Población</th>\n      <th>tasa7</th>\n      <th>tasa14</th>\n      <th>Diferencia PCR</th>\n    </tr>\n    <tr>\n      <th>Lugar de residencia</th>\n      <th></th>\n      <th></th>\n      <th></th>\n      <th></th>\n      <th></th>\n      <th></th>\n      <th></th>\n    </tr>\n  </thead>\n  <tbody>\n    <tr>\n      <th>Huelva</th>\n      <td>1262.0</td>\n      <td>183.0</td>\n      <td>370.0</td>\n      <td>510743.0</td>\n      <td>35.830153</td>\n      <td>72.443479</td>\n      <td>44.0</td>\n    </tr>\n    <tr>\n      <th>Huelva-Costa</th>\n      <td>684.0</td>\n      <td>104.0</td>\n      <td>231.0</td>\n      <td>288115.0</td>\n      <td>36.096697</td>\n      <td>80.176318</td>\n      <td>26.0</td>\n    </tr>\n    <tr>\n      <th>Condado-Campiña</th>\n      <td>385.0</td>\n      <td>63.0</td>\n      <td>104.0</td>\n      <td>155057.0</td>\n      <td>40.630220</td>\n      <td>67.072109</td>\n      <td>18.0</td>\n    </tr>\n    <tr>\n      <th>Huelva (capital)</th>\n      <td>335.0</td>\n      <td>48.0</td>\n      <td>104.0</td>\n      <td>143663.0</td>\n      <td>33.411526</td>\n      <td>72.391639</td>\n      <td>13.0</td>\n    </tr>\n    <tr>\n      <th>Bollullos Par del Condado</th>\n      <td>62.0</td>\n      <td>21.0</td>\n      <td>31.0</td>\n      <td>14272.0</td>\n      <td>147.141256</td>\n      <td>217.208520</td>\n      <td>7.0</td>\n    </tr>\n    <tr>\n      <th>Ayamonte</th>\n      <td>46.0</td>\n      <td>12.0</td>\n      <td>29.0</td>\n      <td>20946.0</td>\n      <td>57.290175</td>\n      <td>138.451256</td>\n      <td>5.0</td>\n    </tr>\n    <tr>\n      <th>Aljaraque</th>\n      <td>69.0</td>\n      <td>5.0</td>\n      <td>21.0</td>\n      <td>21260.0</td>\n      <td>23.518344</td>\n      <td>98.777046</td>\n      <td>3.0</td>\n    </tr>\n    <tr>\n      <th>Moguer</th>\n      <td>35.0</td>\n      <td>8.0</td>\n      <td>9.0</td>\n      <td>22088.0</td>\n      <td>36.218761</td>\n      <td>40.746106</td>\n      <td>3.0</td>\n    </tr>\n    <tr>\n      <th>Almonte</th>\n      <td>53.0</td>\n      <td>7.0</td>\n      <td>12.0</td>\n      <td>24191.0</td>\n      <td>28.936381</td>\n      <td>49.605225</td>\n      <td>2.0</td>\n    </tr>\n    <tr>\n      <th>Lepe</th>\n      <td>84.0</td>\n      <td>16.0</td>\n      <td>23.0</td>\n      <td>27431.0</td>\n      <td>58.328169</td>\n      <td>83.846743</td>\n      <td>2.0</td>\n    </tr>\n    <tr>\n      <th>Palma del Condado (La)</th>\n      <td>38.0</td>\n      <td>6.0</td>\n      <td>7.0</td>\n      <td>10761.0</td>\n      <td>55.756900</td>\n      <td>65.049717</td>\n      <td>2.0</td>\n    </tr>\n    <tr>\n      <th>Alosno</th>\n      <td>5.0</td>\n      <td>2.0</td>\n      <td>2.0</td>\n      <td>3923.0</td>\n      <td>50.981392</td>\n      <td>50.981392</td>\n      <td>1.0</td>\n    </tr>\n    <tr>\n      <th>Cartaya</th>\n      <td>23.0</td>\n      <td>2.0</td>\n      <td>8.0</td>\n      <td>19974.0</td>\n      <td>10.013017</td>\n      <td>40.052068</td>\n      <td>1.0</td>\n    </tr>\n    <tr>\n      <th>Isla Cristina</th>\n      <td>62.0</td>\n      <td>9.0</td>\n      <td>24.0</td>\n      <td>21264.0</td>\n      <td>42.325056</td>\n      <td>112.866817</td>\n      <td>1.0</td>\n    </tr>\n  </tbody>\n</table>\n</div>"
     },
     "metadata": {},
     "execution_count": 13
    }
   ],
   "source": [
    "# Nuevos casos desde la última captura\n",
    "tabla[tabla['Diferencia PCR'] > 0].sort_values('Diferencia PCR', ascending=False)"
   ]
  },
  {
   "cell_type": "code",
   "execution_count": 14,
   "metadata": {},
   "outputs": [],
   "source": [
    "if tabla[tabla['Diferencia PCR'] > 0]['Diferencia PCR'].sum() > 0:\n",
    "  # Save to csv\n",
    "  tabla.to_csv('covid_huelva.csv', encoding='utf-8', header=True, index=True)  "
   ]
  },
  {
   "cell_type": "code",
   "execution_count": 15,
   "metadata": {},
   "outputs": [
    {
     "output_type": "execute_result",
     "data": {
      "text/plain": "Medida                             Confirmados PCR  Confirmados PCR 7 días  \\\nLugar de residencia                                                          \nAlmendro (El)                                  4.0                     3.0   \nBollullos Par del Condado                     62.0                    21.0   \nVillalba del Alcor                            42.0                     1.0   \nAroche                                         8.0                     4.0   \nNerva                                         23.0                     6.0   \nZalamea la Real                               20.0                     1.0   \nManzanilla                                     7.0                     3.0   \nAyamonte                                      46.0                    12.0   \nPalos de la Frontera                          26.0                     4.0   \nIsla Cristina                                 62.0                     9.0   \nAljaraque                                     69.0                     5.0   \nVillarrasa                                     4.0                     1.0   \nJabugo                                         2.0                     2.0   \nLepe                                          84.0                    16.0   \nHuelva-Costa                                 684.0                   104.0   \nHuelva                                      1262.0                   183.0   \nHuelva (capital)                             335.0                    48.0   \nCondado-Campiña                              385.0                    63.0   \nPalma del Condado (La)                        38.0                     6.0   \nPunta Umbría                                  29.0                     6.0   \nMinas de Riotinto                             16.0                     1.0   \nTrigueros                                     33.0                     4.0   \nAlosno                                         5.0                     2.0   \nAlmonte                                       53.0                     7.0   \nBonares                                        4.0                     1.0   \nBeas                                           7.0                     2.0   \nSierra de Huelva-Andévalo Central            171.0                    15.0   \nMoguer                                        35.0                     8.0   \nCartaya                                       23.0                     2.0   \nPuebla de Guzmán                               5.0                     1.0   \nSan Juan del Puerto                           21.0                     2.0   \nGibraleón                                     16.0                     2.0   \nRociana del Condado                            6.0                     1.0   \nAracena                                       47.0                     1.0   \n\nMedida                             Confirmados PCR 14 días  Población  \\\nLugar de residencia                                                     \nAlmendro (El)                                          3.0      826.0   \nBollullos Par del Condado                             31.0    14272.0   \nVillalba del Alcor                                     7.0     3338.0   \nAroche                                                 6.0     3073.0   \nNerva                                                  9.0     5235.0   \nZalamea la Real                                        5.0     3068.0   \nManzanilla                                             3.0     2135.0   \nAyamonte                                              29.0    20946.0   \nPalos de la Frontera                                  15.0    11289.0   \nIsla Cristina                                         24.0    21264.0   \nAljaraque                                             21.0    21260.0   \nVillarrasa                                             2.0     2176.0   \nJabugo                                                 2.0     2250.0   \nLepe                                                  23.0    27431.0   \nHuelva-Costa                                         231.0   288115.0   \nHuelva                                               370.0   510743.0   \nHuelva (capital)                                     104.0   143663.0   \nCondado-Campiña                                      104.0   155057.0   \nPalma del Condado (La)                                 7.0    10761.0   \nPunta Umbría                                           8.0    15242.0   \nMinas de Riotinto                                      2.0     3848.0   \nTrigueros                                              4.0     7713.0   \nAlosno                                                 2.0     3923.0   \nAlmonte                                               12.0    24191.0   \nBonares                                                3.0     6058.0   \nBeas                                                   2.0     4257.0   \nSierra de Huelva-Andévalo Central                     30.0    67571.0   \nMoguer                                                 9.0    22088.0   \nCartaya                                                8.0    19974.0   \nPuebla de Guzmán                                       1.0     3073.0   \nSan Juan del Puerto                                    3.0     9300.0   \nGibraleón                                              4.0    12607.0   \nRociana del Condado                                    2.0     7855.0   \nAracena                                                2.0     8107.0   \n\nMedida                                  tasa7      tasa14  Diferencia PCR  \nLugar de residencia                                                        \nAlmendro (El)                      363.196126  363.196126             0.0  \nBollullos Par del Condado          147.141256  217.208520             7.0  \nVillalba del Alcor                  29.958059  209.706411             0.0  \nAroche                             130.165962  195.248942             0.0  \nNerva                              114.613181  171.919771             0.0  \nZalamea la Real                     32.594524  162.972621             0.0  \nManzanilla                         140.515222  140.515222             NaN  \nAyamonte                            57.290175  138.451256             5.0  \nPalos de la Frontera                35.432722  132.872708             0.0  \nIsla Cristina                       42.325056  112.866817             1.0  \nAljaraque                           23.518344   98.777046             3.0  \nVillarrasa                          45.955882   91.911765             NaN  \nJabugo                              88.888889   88.888889             0.0  \nLepe                                58.328169   83.846743             2.0  \nHuelva-Costa                        36.096697   80.176318            26.0  \nHuelva                              35.830153   72.443479            44.0  \nHuelva (capital)                    33.411526   72.391639            13.0  \nCondado-Campiña                     40.630220   67.072109            18.0  \nPalma del Condado (La)              55.756900   65.049717             2.0  \nPunta Umbría                        39.364913   52.486550             0.0  \nMinas de Riotinto                   25.987526   51.975052             0.0  \nTrigueros                           51.860495   51.860495             0.0  \nAlosno                              50.981392   50.981392             1.0  \nAlmonte                             28.936381   49.605225             2.0  \nBonares                             16.507098   49.521294             0.0  \nBeas                                46.981442   46.981442             0.0  \nSierra de Huelva-Andévalo Central   22.198872   44.397745             0.0  \nMoguer                              36.218761   40.746106             3.0  \nCartaya                             10.013017   40.052068             1.0  \nPuebla de Guzmán                    32.541490   32.541490             0.0  \nSan Juan del Puerto                 21.505376   32.258065             0.0  \nGibraleón                           15.864202   31.728405             0.0  \nRociana del Condado                 12.730745   25.461489             0.0  \nAracena                             12.335019   24.670038             0.0  ",
      "text/html": "<div>\n<style scoped>\n    .dataframe tbody tr th:only-of-type {\n        vertical-align: middle;\n    }\n\n    .dataframe tbody tr th {\n        vertical-align: top;\n    }\n\n    .dataframe thead th {\n        text-align: right;\n    }\n</style>\n<table border=\"1\" class=\"dataframe\">\n  <thead>\n    <tr style=\"text-align: right;\">\n      <th>Medida</th>\n      <th>Confirmados PCR</th>\n      <th>Confirmados PCR 7 días</th>\n      <th>Confirmados PCR 14 días</th>\n      <th>Población</th>\n      <th>tasa7</th>\n      <th>tasa14</th>\n      <th>Diferencia PCR</th>\n    </tr>\n    <tr>\n      <th>Lugar de residencia</th>\n      <th></th>\n      <th></th>\n      <th></th>\n      <th></th>\n      <th></th>\n      <th></th>\n      <th></th>\n    </tr>\n  </thead>\n  <tbody>\n    <tr>\n      <th>Almendro (El)</th>\n      <td>4.0</td>\n      <td>3.0</td>\n      <td>3.0</td>\n      <td>826.0</td>\n      <td>363.196126</td>\n      <td>363.196126</td>\n      <td>0.0</td>\n    </tr>\n    <tr>\n      <th>Bollullos Par del Condado</th>\n      <td>62.0</td>\n      <td>21.0</td>\n      <td>31.0</td>\n      <td>14272.0</td>\n      <td>147.141256</td>\n      <td>217.208520</td>\n      <td>7.0</td>\n    </tr>\n    <tr>\n      <th>Villalba del Alcor</th>\n      <td>42.0</td>\n      <td>1.0</td>\n      <td>7.0</td>\n      <td>3338.0</td>\n      <td>29.958059</td>\n      <td>209.706411</td>\n      <td>0.0</td>\n    </tr>\n    <tr>\n      <th>Aroche</th>\n      <td>8.0</td>\n      <td>4.0</td>\n      <td>6.0</td>\n      <td>3073.0</td>\n      <td>130.165962</td>\n      <td>195.248942</td>\n      <td>0.0</td>\n    </tr>\n    <tr>\n      <th>Nerva</th>\n      <td>23.0</td>\n      <td>6.0</td>\n      <td>9.0</td>\n      <td>5235.0</td>\n      <td>114.613181</td>\n      <td>171.919771</td>\n      <td>0.0</td>\n    </tr>\n    <tr>\n      <th>Zalamea la Real</th>\n      <td>20.0</td>\n      <td>1.0</td>\n      <td>5.0</td>\n      <td>3068.0</td>\n      <td>32.594524</td>\n      <td>162.972621</td>\n      <td>0.0</td>\n    </tr>\n    <tr>\n      <th>Manzanilla</th>\n      <td>7.0</td>\n      <td>3.0</td>\n      <td>3.0</td>\n      <td>2135.0</td>\n      <td>140.515222</td>\n      <td>140.515222</td>\n      <td>NaN</td>\n    </tr>\n    <tr>\n      <th>Ayamonte</th>\n      <td>46.0</td>\n      <td>12.0</td>\n      <td>29.0</td>\n      <td>20946.0</td>\n      <td>57.290175</td>\n      <td>138.451256</td>\n      <td>5.0</td>\n    </tr>\n    <tr>\n      <th>Palos de la Frontera</th>\n      <td>26.0</td>\n      <td>4.0</td>\n      <td>15.0</td>\n      <td>11289.0</td>\n      <td>35.432722</td>\n      <td>132.872708</td>\n      <td>0.0</td>\n    </tr>\n    <tr>\n      <th>Isla Cristina</th>\n      <td>62.0</td>\n      <td>9.0</td>\n      <td>24.0</td>\n      <td>21264.0</td>\n      <td>42.325056</td>\n      <td>112.866817</td>\n      <td>1.0</td>\n    </tr>\n    <tr>\n      <th>Aljaraque</th>\n      <td>69.0</td>\n      <td>5.0</td>\n      <td>21.0</td>\n      <td>21260.0</td>\n      <td>23.518344</td>\n      <td>98.777046</td>\n      <td>3.0</td>\n    </tr>\n    <tr>\n      <th>Villarrasa</th>\n      <td>4.0</td>\n      <td>1.0</td>\n      <td>2.0</td>\n      <td>2176.0</td>\n      <td>45.955882</td>\n      <td>91.911765</td>\n      <td>NaN</td>\n    </tr>\n    <tr>\n      <th>Jabugo</th>\n      <td>2.0</td>\n      <td>2.0</td>\n      <td>2.0</td>\n      <td>2250.0</td>\n      <td>88.888889</td>\n      <td>88.888889</td>\n      <td>0.0</td>\n    </tr>\n    <tr>\n      <th>Lepe</th>\n      <td>84.0</td>\n      <td>16.0</td>\n      <td>23.0</td>\n      <td>27431.0</td>\n      <td>58.328169</td>\n      <td>83.846743</td>\n      <td>2.0</td>\n    </tr>\n    <tr>\n      <th>Huelva-Costa</th>\n      <td>684.0</td>\n      <td>104.0</td>\n      <td>231.0</td>\n      <td>288115.0</td>\n      <td>36.096697</td>\n      <td>80.176318</td>\n      <td>26.0</td>\n    </tr>\n    <tr>\n      <th>Huelva</th>\n      <td>1262.0</td>\n      <td>183.0</td>\n      <td>370.0</td>\n      <td>510743.0</td>\n      <td>35.830153</td>\n      <td>72.443479</td>\n      <td>44.0</td>\n    </tr>\n    <tr>\n      <th>Huelva (capital)</th>\n      <td>335.0</td>\n      <td>48.0</td>\n      <td>104.0</td>\n      <td>143663.0</td>\n      <td>33.411526</td>\n      <td>72.391639</td>\n      <td>13.0</td>\n    </tr>\n    <tr>\n      <th>Condado-Campiña</th>\n      <td>385.0</td>\n      <td>63.0</td>\n      <td>104.0</td>\n      <td>155057.0</td>\n      <td>40.630220</td>\n      <td>67.072109</td>\n      <td>18.0</td>\n    </tr>\n    <tr>\n      <th>Palma del Condado (La)</th>\n      <td>38.0</td>\n      <td>6.0</td>\n      <td>7.0</td>\n      <td>10761.0</td>\n      <td>55.756900</td>\n      <td>65.049717</td>\n      <td>2.0</td>\n    </tr>\n    <tr>\n      <th>Punta Umbría</th>\n      <td>29.0</td>\n      <td>6.0</td>\n      <td>8.0</td>\n      <td>15242.0</td>\n      <td>39.364913</td>\n      <td>52.486550</td>\n      <td>0.0</td>\n    </tr>\n    <tr>\n      <th>Minas de Riotinto</th>\n      <td>16.0</td>\n      <td>1.0</td>\n      <td>2.0</td>\n      <td>3848.0</td>\n      <td>25.987526</td>\n      <td>51.975052</td>\n      <td>0.0</td>\n    </tr>\n    <tr>\n      <th>Trigueros</th>\n      <td>33.0</td>\n      <td>4.0</td>\n      <td>4.0</td>\n      <td>7713.0</td>\n      <td>51.860495</td>\n      <td>51.860495</td>\n      <td>0.0</td>\n    </tr>\n    <tr>\n      <th>Alosno</th>\n      <td>5.0</td>\n      <td>2.0</td>\n      <td>2.0</td>\n      <td>3923.0</td>\n      <td>50.981392</td>\n      <td>50.981392</td>\n      <td>1.0</td>\n    </tr>\n    <tr>\n      <th>Almonte</th>\n      <td>53.0</td>\n      <td>7.0</td>\n      <td>12.0</td>\n      <td>24191.0</td>\n      <td>28.936381</td>\n      <td>49.605225</td>\n      <td>2.0</td>\n    </tr>\n    <tr>\n      <th>Bonares</th>\n      <td>4.0</td>\n      <td>1.0</td>\n      <td>3.0</td>\n      <td>6058.0</td>\n      <td>16.507098</td>\n      <td>49.521294</td>\n      <td>0.0</td>\n    </tr>\n    <tr>\n      <th>Beas</th>\n      <td>7.0</td>\n      <td>2.0</td>\n      <td>2.0</td>\n      <td>4257.0</td>\n      <td>46.981442</td>\n      <td>46.981442</td>\n      <td>0.0</td>\n    </tr>\n    <tr>\n      <th>Sierra de Huelva-Andévalo Central</th>\n      <td>171.0</td>\n      <td>15.0</td>\n      <td>30.0</td>\n      <td>67571.0</td>\n      <td>22.198872</td>\n      <td>44.397745</td>\n      <td>0.0</td>\n    </tr>\n    <tr>\n      <th>Moguer</th>\n      <td>35.0</td>\n      <td>8.0</td>\n      <td>9.0</td>\n      <td>22088.0</td>\n      <td>36.218761</td>\n      <td>40.746106</td>\n      <td>3.0</td>\n    </tr>\n    <tr>\n      <th>Cartaya</th>\n      <td>23.0</td>\n      <td>2.0</td>\n      <td>8.0</td>\n      <td>19974.0</td>\n      <td>10.013017</td>\n      <td>40.052068</td>\n      <td>1.0</td>\n    </tr>\n    <tr>\n      <th>Puebla de Guzmán</th>\n      <td>5.0</td>\n      <td>1.0</td>\n      <td>1.0</td>\n      <td>3073.0</td>\n      <td>32.541490</td>\n      <td>32.541490</td>\n      <td>0.0</td>\n    </tr>\n    <tr>\n      <th>San Juan del Puerto</th>\n      <td>21.0</td>\n      <td>2.0</td>\n      <td>3.0</td>\n      <td>9300.0</td>\n      <td>21.505376</td>\n      <td>32.258065</td>\n      <td>0.0</td>\n    </tr>\n    <tr>\n      <th>Gibraleón</th>\n      <td>16.0</td>\n      <td>2.0</td>\n      <td>4.0</td>\n      <td>12607.0</td>\n      <td>15.864202</td>\n      <td>31.728405</td>\n      <td>0.0</td>\n    </tr>\n    <tr>\n      <th>Rociana del Condado</th>\n      <td>6.0</td>\n      <td>1.0</td>\n      <td>2.0</td>\n      <td>7855.0</td>\n      <td>12.730745</td>\n      <td>25.461489</td>\n      <td>0.0</td>\n    </tr>\n    <tr>\n      <th>Aracena</th>\n      <td>47.0</td>\n      <td>1.0</td>\n      <td>2.0</td>\n      <td>8107.0</td>\n      <td>12.335019</td>\n      <td>24.670038</td>\n      <td>0.0</td>\n    </tr>\n  </tbody>\n</table>\n</div>"
     },
     "metadata": {},
     "execution_count": 15
    }
   ],
   "source": [
    "tabla.sort_values('tasa14', ascending=False)"
   ]
  },
  {
   "cell_type": "code",
   "execution_count": null,
   "metadata": {},
   "outputs": [],
   "source": []
  }
 ]
}