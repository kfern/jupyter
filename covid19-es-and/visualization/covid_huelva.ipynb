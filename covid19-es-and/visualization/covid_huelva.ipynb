{
 "metadata": {
  "language_info": {
   "codemirror_mode": {
    "name": "ipython",
    "version": 3
   },
   "file_extension": ".py",
   "mimetype": "text/x-python",
   "name": "python",
   "nbconvert_exporter": "python",
   "pygments_lexer": "ipython3",
   "version": "3.8.6"
  },
  "orig_nbformat": 2,
  "kernelspec": {
   "name": "python3",
   "display_name": "Python 3",
   "language": "python"
  }
 },
 "nbformat": 4,
 "nbformat_minor": 2,
 "cells": [
  {
   "cell_type": "code",
   "execution_count": 1,
   "metadata": {},
   "outputs": [],
   "source": [
    "import pandas as pd\n",
    "pd.set_option('display.max_rows', None) # Print all rows"
   ]
  },
  {
   "cell_type": "code",
   "execution_count": 2,
   "metadata": {},
   "outputs": [],
   "source": [
    "# FIX SSL: CERTIFICATE_VERIFY_FAILED with Python3\n",
    "# https://stackoverflow.com/a/49174340\n",
    "import ssl\n",
    "\n",
    "ssl._create_default_https_context = ssl._create_unverified_context"
   ]
  },
  {
   "cell_type": "code",
   "execution_count": 3,
   "metadata": {},
   "outputs": [],
   "source": [
    "url = 'https://www.juntadeandalucia.es/institutodeestadisticaycartografia/badea/stpivot/stpivot/Print?cube=013d884c-cfc5-4c21-9e78-e26225682afd&type=3&foto=si&ejecutaDesde=&codConsulta=38668&consTipoVisua=JP'\n",
    "fields = ['Lugar de residencia', 'Medida', 'Valor']\n",
    "df = pd.read_csv(url, delimiter=';', usecols=fields, decimal=',')"
   ]
  },
  {
   "cell_type": "code",
   "execution_count": 4,
   "metadata": {},
   "outputs": [
    {
     "output_type": "execute_result",
     "data": {
      "text/plain": [
       "  Lugar de residencia                    Medida               Valor\n",
       "0              Huelva                 Población              513170\n",
       "1              Huelva          Confirmados PDIA               29929\n",
       "2              Huelva  Confirmados PDIA 14 días                1220\n",
       "3              Huelva         Tasa PDIA 14 días  237,73798156556308\n",
       "4              Huelva   Confirmados PDIA 7 días                 610\n",
       "5              Huelva        Total Confirmados                30106\n",
       "6              Huelva                   Curados               27034\n",
       "7              Huelva                Fallecidos                 375"
      ],
      "text/html": "<div>\n<style scoped>\n    .dataframe tbody tr th:only-of-type {\n        vertical-align: middle;\n    }\n\n    .dataframe tbody tr th {\n        vertical-align: top;\n    }\n\n    .dataframe thead th {\n        text-align: right;\n    }\n</style>\n<table border=\"1\" class=\"dataframe\">\n  <thead>\n    <tr style=\"text-align: right;\">\n      <th></th>\n      <th>Lugar de residencia</th>\n      <th>Medida</th>\n      <th>Valor</th>\n    </tr>\n  </thead>\n  <tbody>\n    <tr>\n      <th>0</th>\n      <td>Huelva</td>\n      <td>Población</td>\n      <td>513170</td>\n    </tr>\n    <tr>\n      <th>1</th>\n      <td>Huelva</td>\n      <td>Confirmados PDIA</td>\n      <td>29929</td>\n    </tr>\n    <tr>\n      <th>2</th>\n      <td>Huelva</td>\n      <td>Confirmados PDIA 14 días</td>\n      <td>1220</td>\n    </tr>\n    <tr>\n      <th>3</th>\n      <td>Huelva</td>\n      <td>Tasa PDIA 14 días</td>\n      <td>237,73798156556308</td>\n    </tr>\n    <tr>\n      <th>4</th>\n      <td>Huelva</td>\n      <td>Confirmados PDIA 7 días</td>\n      <td>610</td>\n    </tr>\n    <tr>\n      <th>5</th>\n      <td>Huelva</td>\n      <td>Total Confirmados</td>\n      <td>30106</td>\n    </tr>\n    <tr>\n      <th>6</th>\n      <td>Huelva</td>\n      <td>Curados</td>\n      <td>27034</td>\n    </tr>\n    <tr>\n      <th>7</th>\n      <td>Huelva</td>\n      <td>Fallecidos</td>\n      <td>375</td>\n    </tr>\n  </tbody>\n</table>\n</div>"
     },
     "metadata": {},
     "execution_count": 4
    }
   ],
   "source": [
    "df[df['Lugar de residencia'] == 'Huelva']"
   ]
  },
  {
   "cell_type": "code",
   "execution_count": 5,
   "metadata": {},
   "outputs": [],
   "source": [
    "df['Valor'] = pd.to_numeric(df['Valor'],errors='coerce')"
   ]
  },
  {
   "cell_type": "code",
   "execution_count": 6,
   "metadata": {},
   "outputs": [],
   "source": [
    "dfAnterior = pd.read_csv('covid_huelva.csv', index_col='Lugar de residencia')"
   ]
  },
  {
   "cell_type": "code",
   "execution_count": 7,
   "metadata": {
    "tags": []
   },
   "outputs": [
    {
     "output_type": "stream",
     "name": "stdout",
     "text": [
      "Confirmados PCR en la provincia de Huelva:  29929.0\n",
      "<ipython-input-7-31b732756b19>:2: UserWarning: Boolean Series key will be reindexed to match DataFrame index.\n",
      "  p = df[df['Lugar de residencia'] == 'Huelva'][df['Medida'] == 'Confirmados PDIA']['Valor'].values[0]\n"
     ]
    }
   ],
   "source": [
    "# Confirmados PCR provincia Huelva\n",
    "p = df[df['Lugar de residencia'] == 'Huelva'][df['Medida'] == 'Confirmados PDIA']['Valor'].values[0]\n",
    "print('Confirmados PCR en la provincia de Huelva: ', p)"
   ]
  },
  {
   "cell_type": "code",
   "execution_count": 8,
   "metadata": {
    "tags": []
   },
   "outputs": [
    {
     "output_type": "stream",
     "name": "stdout",
     "text": [
      "Confirmados PCR en Huelva capital:  7825.0\n",
      "<ipython-input-8-e81bfb40e710>:2: UserWarning: Boolean Series key will be reindexed to match DataFrame index.\n",
      "  c = df[df['Lugar de residencia'] == 'Huelva (capital)'][df['Medida'] == 'Confirmados PDIA']['Valor'].values[0]\n"
     ]
    }
   ],
   "source": [
    "# Confirmados PCR Huelva capitalpd\n",
    "c = df[df['Lugar de residencia'] == 'Huelva (capital)'][df['Medida'] == 'Confirmados PDIA']['Valor'].values[0]\n",
    "print('Confirmados PCR en Huelva capital: ', c)"
   ]
  },
  {
   "cell_type": "code",
   "execution_count": 9,
   "metadata": {
    "tags": []
   },
   "outputs": [
    {
     "output_type": "stream",
     "name": "stderr",
     "text": [
      "<ipython-input-9-f09dd2050cc1>:1: UserWarning: Boolean Series key will be reindexed to match DataFrame index.\n  c7 = df[df['Lugar de residencia'] == 'Huelva (capital)'][df['Medida'] == 'Confirmados PDIA 7 días']['Valor'].values[0]\n<ipython-input-9-f09dd2050cc1>:2: UserWarning: Boolean Series key will be reindexed to match DataFrame index.\n  c14 = df[df['Lugar de residencia'] == 'Huelva (capital)'][df['Medida'] == 'Confirmados PDIA 14 días']['Valor'].values[0]\n<ipython-input-9-f09dd2050cc1>:3: UserWarning: Boolean Series key will be reindexed to match DataFrame index.\n  p = df[df['Lugar de residencia'] == 'Huelva (capital)'][df['Medida'] == 'Población']['Valor'].values[0]\n"
     ]
    }
   ],
   "source": [
    "c7 = df[df['Lugar de residencia'] == 'Huelva (capital)'][df['Medida'] == 'Confirmados PDIA 7 días']['Valor'].values[0]\n",
    "c14 = df[df['Lugar de residencia'] == 'Huelva (capital)'][df['Medida'] == 'Confirmados PDIA 14 días']['Valor'].values[0]\n",
    "p = df[df['Lugar de residencia'] == 'Huelva (capital)'][df['Medida'] == 'Población']['Valor'].values[0]"
   ]
  },
  {
   "cell_type": "code",
   "execution_count": 10,
   "metadata": {
    "tags": []
   },
   "outputs": [
    {
     "output_type": "stream",
     "name": "stdout",
     "text": [
      "Huelva (capital)\n\nUn positivo PCR cada 866 personas en los últimos 7 días \n\nUn positivo PCR cada 393 personas en los últimos 14 días\n"
     ]
    }
   ],
   "source": [
    "print('Huelva (capital)\\n')\n",
    "#print('Confirmados PCR 7 días x 1,000 habitantes: ', f\"{c7/(p/1000):.5f}\")\n",
    "print('Un positivo PCR cada', f\"{p/c7:.0f}\", 'personas en los últimos 7 días', '\\n')\n",
    "#print('Confirmados PCR 14 días x 1,000 habitantes: ', f\"{c14/(p/1000):.5f}\")\n",
    "print('Un positivo PCR cada', f\"{p/c14:.0f}\", 'personas en los últimos 14 días')"
   ]
  },
  {
   "cell_type": "code",
   "execution_count": 11,
   "metadata": {},
   "outputs": [],
   "source": [
    "filtro = ((df['Medida'] == 'Confirmados PDIA')| (df['Medida'] == 'Confirmados PDIA 7 días') | (df['Medida'] == 'Población' ) | (df['Medida'] == 'Confirmados PDIA 14 días')) & (df['Valor'] > 0)\n",
    "tabla = pd.pivot_table(df.loc[filtro], values='Valor', index='Lugar de residencia', columns='Medida').dropna()"
   ]
  },
  {
   "cell_type": "code",
   "execution_count": 12,
   "metadata": {},
   "outputs": [],
   "source": [
    "# Reorder columns\n",
    "tabla = tabla[['Confirmados PDIA', 'Confirmados PDIA 7 días', 'Confirmados PDIA 14 días', 'Población']]"
   ]
  },
  {
   "cell_type": "code",
   "execution_count": 13,
   "metadata": {},
   "outputs": [],
   "source": [
    "tabla['tasa7'] = tabla['Confirmados PDIA 7 días']/tabla['Población']*100000\n",
    "tabla['tasa14'] = tabla['Confirmados PDIA 14 días']/tabla['Población']*100000"
   ]
  },
  {
   "cell_type": "code",
   "execution_count": 14,
   "metadata": {},
   "outputs": [],
   "source": [
    "tabla['Diferencia PDIA'] = tabla['Confirmados PDIA'] - dfAnterior['Confirmados PDIA']"
   ]
  },
  {
   "cell_type": "code",
   "execution_count": 15,
   "metadata": {},
   "outputs": [
    {
     "output_type": "execute_result",
     "data": {
      "text/plain": [
       "Medida                             Confirmados PDIA  Confirmados PDIA 7 días  \\\n",
       "Lugar de residencia                                                            \n",
       "Huelva                                      29929.0                    610.0   \n",
       "Huelva-Costa                                17316.0                    259.0   \n",
       "Condado-Campiña                              9621.0                    290.0   \n",
       "Huelva (capital)                             7825.0                    166.0   \n",
       "Sierra de Huelva-Andévalo Central            2651.0                     61.0   \n",
       "Almonte                                      1696.0                     62.0   \n",
       "Palma del Condado (La)                       1098.0                     46.0   \n",
       "Moguer                                       1188.0                     55.0   \n",
       "Valverde del Camino                           520.0                     31.0   \n",
       "Punta Umbría                                  770.0                     25.0   \n",
       "Cartaya                                      1305.0                     14.0   \n",
       "Calañas                                       181.0                      7.0   \n",
       "Isla Cristina                                2124.0                     24.0   \n",
       "Aljaraque                                    1030.0                     11.0   \n",
       "Bollullos Par del Condado                     926.0                     46.0   \n",
       "Niebla                                        210.0                      7.0   \n",
       "Palos de la Frontera                          610.0                      9.0   \n",
       "Trigueros                                     284.0                      8.0   \n",
       "Lepe                                         2105.0                      8.0   \n",
       "Gibraleón                                     605.0                      7.0   \n",
       "Ayamonte                                     1300.0                      4.0   \n",
       "Alosno                                        165.0                      2.0   \n",
       "Villablanca                                   187.0                      3.0   \n",
       "Nerva                                         170.0                      8.0   \n",
       "Manzanilla                                     90.0                      4.0   \n",
       "Rociana del Condado                           535.0                      4.0   \n",
       "San Bartolomé de la Torre                     289.0                      6.0   \n",
       "Aracena                                       515.0                      2.0   \n",
       "Cabezas Rubias                                 34.0                      2.0   \n",
       "Campillo (El)                                  72.0                      2.0   \n",
       "\n",
       "Medida                             Confirmados PDIA 14 días  Población  \\\n",
       "Lugar de residencia                                                      \n",
       "Huelva                                               1220.0   513170.0   \n",
       "Huelva-Costa                                          582.0   289548.0   \n",
       "Condado-Campiña                                       545.0   156231.0   \n",
       "Huelva (capital)                                      366.0   143837.0   \n",
       "Sierra de Huelva-Andévalo Central                      93.0    67391.0   \n",
       "Almonte                                               146.0    24507.0   \n",
       "Palma del Condado (La)                                 59.0    10801.0   \n",
       "Moguer                                                 80.0    21867.0   \n",
       "Valverde del Camino                                    44.0    12750.0   \n",
       "Punta Umbría                                           56.0    15355.0   \n",
       "Cartaya                                                30.0    20083.0   \n",
       "Calañas                                                 7.0     2768.0   \n",
       "Isla Cristina                                          60.0    21393.0   \n",
       "Aljaraque                                              24.0    21474.0   \n",
       "Bollullos Par del Condado                              92.0    14387.0   \n",
       "Niebla                                                 14.0     4116.0   \n",
       "Palos de la Frontera                                   23.0    11742.0   \n",
       "Trigueros                                              17.0     7862.0   \n",
       "Lepe                                                   22.0    27880.0   \n",
       "Gibraleón                                              18.0    12737.0   \n",
       "Ayamonte                                               13.0    21104.0   \n",
       "Alosno                                                  3.0     3933.0   \n",
       "Villablanca                                             5.0     2885.0   \n",
       "Nerva                                                  16.0     5169.0   \n",
       "Manzanilla                                              5.0     2118.0   \n",
       "Rociana del Condado                                    19.0     7939.0   \n",
       "San Bartolomé de la Torre                               7.0     3761.0   \n",
       "Aracena                                                 2.0     8255.0   \n",
       "Cabezas Rubias                                          3.0      706.0   \n",
       "Campillo (El)                                           2.0     2024.0   \n",
       "\n",
       "Medida                                  tasa7      tasa14  Diferencia PDIA  \n",
       "Lugar de residencia                                                         \n",
       "Huelva                             118.868991  237.737982            104.0  \n",
       "Huelva-Costa                        89.449763  201.002943             52.0  \n",
       "Condado-Campiña                    185.622572  348.842419             38.0  \n",
       "Huelva (capital)                   115.408414  254.454695             24.0  \n",
       "Sierra de Huelva-Andévalo Central   90.516538  138.000623             14.0  \n",
       "Almonte                            252.988942  595.748154             10.0  \n",
       "Palma del Condado (La)             425.886492  546.245718              7.0  \n",
       "Moguer                             251.520556  365.848082              7.0  \n",
       "Valverde del Camino                243.137255  345.098039              6.0  \n",
       "Punta Umbría                       162.813416  364.702051              5.0  \n",
       "Cartaya                             69.710701  149.380073              5.0  \n",
       "Calañas                            252.890173  252.890173              4.0  \n",
       "Isla Cristina                      112.186229  280.465573              4.0  \n",
       "Aljaraque                           51.224737  111.763062              4.0  \n",
       "Bollullos Par del Condado          319.733092  639.466185              3.0  \n",
       "Niebla                             170.068027  340.136054              2.0  \n",
       "Palos de la Frontera                76.647931  195.878045              2.0  \n",
       "Trigueros                          101.755279  216.229967              2.0  \n",
       "Lepe                                28.694405   78.909613              2.0  \n",
       "Gibraleón                           54.957996  141.320562              2.0  \n",
       "Ayamonte                            18.953753   61.599697              2.0  \n",
       "Alosno                              50.851767   76.277651              2.0  \n",
       "Villablanca                        103.986135  173.310225              2.0  \n",
       "Nerva                              154.768814  309.537628              1.0  \n",
       "Manzanilla                         188.857413  236.071766              1.0  \n",
       "Rociana del Condado                 50.384179  239.324852              1.0  \n",
       "San Bartolomé de la Torre          159.532039  186.120713              1.0  \n",
       "Aracena                             24.227741   24.227741              1.0  \n",
       "Cabezas Rubias                     283.286119  424.929178              NaN  \n",
       "Campillo (El)                       98.814229   98.814229              NaN  "
      ],
      "text/html": "<div>\n<style scoped>\n    .dataframe tbody tr th:only-of-type {\n        vertical-align: middle;\n    }\n\n    .dataframe tbody tr th {\n        vertical-align: top;\n    }\n\n    .dataframe thead th {\n        text-align: right;\n    }\n</style>\n<table border=\"1\" class=\"dataframe\">\n  <thead>\n    <tr style=\"text-align: right;\">\n      <th>Medida</th>\n      <th>Confirmados PDIA</th>\n      <th>Confirmados PDIA 7 días</th>\n      <th>Confirmados PDIA 14 días</th>\n      <th>Población</th>\n      <th>tasa7</th>\n      <th>tasa14</th>\n      <th>Diferencia PDIA</th>\n    </tr>\n    <tr>\n      <th>Lugar de residencia</th>\n      <th></th>\n      <th></th>\n      <th></th>\n      <th></th>\n      <th></th>\n      <th></th>\n      <th></th>\n    </tr>\n  </thead>\n  <tbody>\n    <tr>\n      <th>Huelva</th>\n      <td>29929.0</td>\n      <td>610.0</td>\n      <td>1220.0</td>\n      <td>513170.0</td>\n      <td>118.868991</td>\n      <td>237.737982</td>\n      <td>104.0</td>\n    </tr>\n    <tr>\n      <th>Huelva-Costa</th>\n      <td>17316.0</td>\n      <td>259.0</td>\n      <td>582.0</td>\n      <td>289548.0</td>\n      <td>89.449763</td>\n      <td>201.002943</td>\n      <td>52.0</td>\n    </tr>\n    <tr>\n      <th>Condado-Campiña</th>\n      <td>9621.0</td>\n      <td>290.0</td>\n      <td>545.0</td>\n      <td>156231.0</td>\n      <td>185.622572</td>\n      <td>348.842419</td>\n      <td>38.0</td>\n    </tr>\n    <tr>\n      <th>Huelva (capital)</th>\n      <td>7825.0</td>\n      <td>166.0</td>\n      <td>366.0</td>\n      <td>143837.0</td>\n      <td>115.408414</td>\n      <td>254.454695</td>\n      <td>24.0</td>\n    </tr>\n    <tr>\n      <th>Sierra de Huelva-Andévalo Central</th>\n      <td>2651.0</td>\n      <td>61.0</td>\n      <td>93.0</td>\n      <td>67391.0</td>\n      <td>90.516538</td>\n      <td>138.000623</td>\n      <td>14.0</td>\n    </tr>\n    <tr>\n      <th>Almonte</th>\n      <td>1696.0</td>\n      <td>62.0</td>\n      <td>146.0</td>\n      <td>24507.0</td>\n      <td>252.988942</td>\n      <td>595.748154</td>\n      <td>10.0</td>\n    </tr>\n    <tr>\n      <th>Palma del Condado (La)</th>\n      <td>1098.0</td>\n      <td>46.0</td>\n      <td>59.0</td>\n      <td>10801.0</td>\n      <td>425.886492</td>\n      <td>546.245718</td>\n      <td>7.0</td>\n    </tr>\n    <tr>\n      <th>Moguer</th>\n      <td>1188.0</td>\n      <td>55.0</td>\n      <td>80.0</td>\n      <td>21867.0</td>\n      <td>251.520556</td>\n      <td>365.848082</td>\n      <td>7.0</td>\n    </tr>\n    <tr>\n      <th>Valverde del Camino</th>\n      <td>520.0</td>\n      <td>31.0</td>\n      <td>44.0</td>\n      <td>12750.0</td>\n      <td>243.137255</td>\n      <td>345.098039</td>\n      <td>6.0</td>\n    </tr>\n    <tr>\n      <th>Punta Umbría</th>\n      <td>770.0</td>\n      <td>25.0</td>\n      <td>56.0</td>\n      <td>15355.0</td>\n      <td>162.813416</td>\n      <td>364.702051</td>\n      <td>5.0</td>\n    </tr>\n    <tr>\n      <th>Cartaya</th>\n      <td>1305.0</td>\n      <td>14.0</td>\n      <td>30.0</td>\n      <td>20083.0</td>\n      <td>69.710701</td>\n      <td>149.380073</td>\n      <td>5.0</td>\n    </tr>\n    <tr>\n      <th>Calañas</th>\n      <td>181.0</td>\n      <td>7.0</td>\n      <td>7.0</td>\n      <td>2768.0</td>\n      <td>252.890173</td>\n      <td>252.890173</td>\n      <td>4.0</td>\n    </tr>\n    <tr>\n      <th>Isla Cristina</th>\n      <td>2124.0</td>\n      <td>24.0</td>\n      <td>60.0</td>\n      <td>21393.0</td>\n      <td>112.186229</td>\n      <td>280.465573</td>\n      <td>4.0</td>\n    </tr>\n    <tr>\n      <th>Aljaraque</th>\n      <td>1030.0</td>\n      <td>11.0</td>\n      <td>24.0</td>\n      <td>21474.0</td>\n      <td>51.224737</td>\n      <td>111.763062</td>\n      <td>4.0</td>\n    </tr>\n    <tr>\n      <th>Bollullos Par del Condado</th>\n      <td>926.0</td>\n      <td>46.0</td>\n      <td>92.0</td>\n      <td>14387.0</td>\n      <td>319.733092</td>\n      <td>639.466185</td>\n      <td>3.0</td>\n    </tr>\n    <tr>\n      <th>Niebla</th>\n      <td>210.0</td>\n      <td>7.0</td>\n      <td>14.0</td>\n      <td>4116.0</td>\n      <td>170.068027</td>\n      <td>340.136054</td>\n      <td>2.0</td>\n    </tr>\n    <tr>\n      <th>Palos de la Frontera</th>\n      <td>610.0</td>\n      <td>9.0</td>\n      <td>23.0</td>\n      <td>11742.0</td>\n      <td>76.647931</td>\n      <td>195.878045</td>\n      <td>2.0</td>\n    </tr>\n    <tr>\n      <th>Trigueros</th>\n      <td>284.0</td>\n      <td>8.0</td>\n      <td>17.0</td>\n      <td>7862.0</td>\n      <td>101.755279</td>\n      <td>216.229967</td>\n      <td>2.0</td>\n    </tr>\n    <tr>\n      <th>Lepe</th>\n      <td>2105.0</td>\n      <td>8.0</td>\n      <td>22.0</td>\n      <td>27880.0</td>\n      <td>28.694405</td>\n      <td>78.909613</td>\n      <td>2.0</td>\n    </tr>\n    <tr>\n      <th>Gibraleón</th>\n      <td>605.0</td>\n      <td>7.0</td>\n      <td>18.0</td>\n      <td>12737.0</td>\n      <td>54.957996</td>\n      <td>141.320562</td>\n      <td>2.0</td>\n    </tr>\n    <tr>\n      <th>Ayamonte</th>\n      <td>1300.0</td>\n      <td>4.0</td>\n      <td>13.0</td>\n      <td>21104.0</td>\n      <td>18.953753</td>\n      <td>61.599697</td>\n      <td>2.0</td>\n    </tr>\n    <tr>\n      <th>Alosno</th>\n      <td>165.0</td>\n      <td>2.0</td>\n      <td>3.0</td>\n      <td>3933.0</td>\n      <td>50.851767</td>\n      <td>76.277651</td>\n      <td>2.0</td>\n    </tr>\n    <tr>\n      <th>Villablanca</th>\n      <td>187.0</td>\n      <td>3.0</td>\n      <td>5.0</td>\n      <td>2885.0</td>\n      <td>103.986135</td>\n      <td>173.310225</td>\n      <td>2.0</td>\n    </tr>\n    <tr>\n      <th>Nerva</th>\n      <td>170.0</td>\n      <td>8.0</td>\n      <td>16.0</td>\n      <td>5169.0</td>\n      <td>154.768814</td>\n      <td>309.537628</td>\n      <td>1.0</td>\n    </tr>\n    <tr>\n      <th>Manzanilla</th>\n      <td>90.0</td>\n      <td>4.0</td>\n      <td>5.0</td>\n      <td>2118.0</td>\n      <td>188.857413</td>\n      <td>236.071766</td>\n      <td>1.0</td>\n    </tr>\n    <tr>\n      <th>Rociana del Condado</th>\n      <td>535.0</td>\n      <td>4.0</td>\n      <td>19.0</td>\n      <td>7939.0</td>\n      <td>50.384179</td>\n      <td>239.324852</td>\n      <td>1.0</td>\n    </tr>\n    <tr>\n      <th>San Bartolomé de la Torre</th>\n      <td>289.0</td>\n      <td>6.0</td>\n      <td>7.0</td>\n      <td>3761.0</td>\n      <td>159.532039</td>\n      <td>186.120713</td>\n      <td>1.0</td>\n    </tr>\n    <tr>\n      <th>Aracena</th>\n      <td>515.0</td>\n      <td>2.0</td>\n      <td>2.0</td>\n      <td>8255.0</td>\n      <td>24.227741</td>\n      <td>24.227741</td>\n      <td>1.0</td>\n    </tr>\n    <tr>\n      <th>Cabezas Rubias</th>\n      <td>34.0</td>\n      <td>2.0</td>\n      <td>3.0</td>\n      <td>706.0</td>\n      <td>283.286119</td>\n      <td>424.929178</td>\n      <td>NaN</td>\n    </tr>\n    <tr>\n      <th>Campillo (El)</th>\n      <td>72.0</td>\n      <td>2.0</td>\n      <td>2.0</td>\n      <td>2024.0</td>\n      <td>98.814229</td>\n      <td>98.814229</td>\n      <td>NaN</td>\n    </tr>\n  </tbody>\n</table>\n</div>"
     },
     "metadata": {},
     "execution_count": 15
    }
   ],
   "source": [
    "# Nuevos casos desde la última captura\n",
    "tabla[tabla['Diferencia PDIA'] != 0].sort_values('Diferencia PDIA', ascending=False)"
   ]
  },
  {
   "cell_type": "code",
   "execution_count": 16,
   "metadata": {},
   "outputs": [],
   "source": [
    "if tabla[tabla['Diferencia PDIA'] != 0]['Diferencia PDIA'].sum() != 0:\n",
    "  # Save to csv\n",
    "  tabla.to_csv('covid_huelva.csv', encoding='utf-8', header=True, index=True)  "
   ]
  },
  {
   "cell_type": "code",
   "execution_count": 17,
   "metadata": {},
   "outputs": [
    {
     "output_type": "execute_result",
     "data": {
      "text/plain": [
       "Medida                             Confirmados PDIA  Confirmados PDIA 7 días  \\\n",
       "Lugar de residencia                                                            \n",
       "Galaroza                                       41.0                      4.0   \n",
       "Bollullos Par del Condado                     926.0                     46.0   \n",
       "Almonte                                      1696.0                     62.0   \n",
       "Palma del Condado (La)                       1098.0                     46.0   \n",
       "Cabezas Rubias                                 34.0                      2.0   \n",
       "Moguer                                       1188.0                     55.0   \n",
       "Punta Umbría                                  770.0                     25.0   \n",
       "Escacena del Campo                            154.0                      3.0   \n",
       "Condado-Campiña                              9621.0                    290.0   \n",
       "Valverde del Camino                           520.0                     31.0   \n",
       "Niebla                                        210.0                      7.0   \n",
       "Nerva                                         170.0                      8.0   \n",
       "Isla Cristina                                2124.0                     24.0   \n",
       "Villarrasa                                    153.0                      5.0   \n",
       "Villalba del Alcor                            480.0                      6.0   \n",
       "Huelva (capital)                             7825.0                    166.0   \n",
       "Calañas                                       181.0                      7.0   \n",
       "Lucena del Puerto                             241.0                      7.0   \n",
       "Rociana del Condado                           535.0                      4.0   \n",
       "Huelva                                      29929.0                    610.0   \n",
       "Manzanilla                                     90.0                      4.0   \n",
       "San Juan del Puerto                           471.0                     10.0   \n",
       "Trigueros                                     284.0                      8.0   \n",
       "Huelva-Costa                                17316.0                    259.0   \n",
       "Palos de la Frontera                          610.0                      9.0   \n",
       "San Bartolomé de la Torre                     289.0                      6.0   \n",
       "Villablanca                                   187.0                      3.0   \n",
       "Cartaya                                      1305.0                     14.0   \n",
       "Gibraleón                                     605.0                      7.0   \n",
       "Sierra de Huelva-Andévalo Central            2651.0                     61.0   \n",
       "Alájar                                         17.0                      1.0   \n",
       "Beas                                          204.0                      2.0   \n",
       "Aljaraque                                    1030.0                     11.0   \n",
       "Bonares                                       261.0                      2.0   \n",
       "Campillo (El)                                  72.0                      2.0   \n",
       "Cerro de Andévalo (El)                        138.0                      2.0   \n",
       "Zarza-Perrunal (La)                            23.0                      1.0   \n",
       "Lepe                                         2105.0                      8.0   \n",
       "Minas de Riotinto                             117.0                      2.0   \n",
       "Alosno                                        165.0                      2.0   \n",
       "Ayamonte                                     1300.0                      4.0   \n",
       "Paterna del Campo                             126.0                      1.0   \n",
       "Zalamea la Real                                87.0                      1.0   \n",
       "Aracena                                       515.0                      2.0   \n",
       "\n",
       "Medida                             Confirmados PDIA 14 días  Población  \\\n",
       "Lugar de residencia                                                      \n",
       "Galaroza                                               11.0     1382.0   \n",
       "Bollullos Par del Condado                              92.0    14387.0   \n",
       "Almonte                                               146.0    24507.0   \n",
       "Palma del Condado (La)                                 59.0    10801.0   \n",
       "Cabezas Rubias                                          3.0      706.0   \n",
       "Moguer                                                 80.0    21867.0   \n",
       "Punta Umbría                                           56.0    15355.0   \n",
       "Escacena del Campo                                      8.0     2287.0   \n",
       "Condado-Campiña                                       545.0   156231.0   \n",
       "Valverde del Camino                                    44.0    12750.0   \n",
       "Niebla                                                 14.0     4116.0   \n",
       "Nerva                                                  16.0     5169.0   \n",
       "Isla Cristina                                          60.0    21393.0   \n",
       "Villarrasa                                              6.0     2211.0   \n",
       "Villalba del Alcor                                      9.0     3366.0   \n",
       "Huelva (capital)                                      366.0   143837.0   \n",
       "Calañas                                                 7.0     2768.0   \n",
       "Lucena del Puerto                                       8.0     3261.0   \n",
       "Rociana del Condado                                    19.0     7939.0   \n",
       "Huelva                                               1220.0   513170.0   \n",
       "Manzanilla                                              5.0     2118.0   \n",
       "San Juan del Puerto                                    21.0     9411.0   \n",
       "Trigueros                                              17.0     7862.0   \n",
       "Huelva-Costa                                          582.0   289548.0   \n",
       "Palos de la Frontera                                   23.0    11742.0   \n",
       "San Bartolomé de la Torre                               7.0     3761.0   \n",
       "Villablanca                                             5.0     2885.0   \n",
       "Cartaya                                                30.0    20083.0   \n",
       "Gibraleón                                              18.0    12737.0   \n",
       "Sierra de Huelva-Andévalo Central                      93.0    67391.0   \n",
       "Alájar                                                  1.0      759.0   \n",
       "Beas                                                    5.0     4341.0   \n",
       "Aljaraque                                              24.0    21474.0   \n",
       "Bonares                                                 6.0     6060.0   \n",
       "Campillo (El)                                           2.0     2024.0   \n",
       "Cerro de Andévalo (El)                                  2.0     2327.0   \n",
       "Zarza-Perrunal (La)                                     1.0     1253.0   \n",
       "Lepe                                                   22.0    27880.0   \n",
       "Minas de Riotinto                                       3.0     3812.0   \n",
       "Alosno                                                  3.0     3933.0   \n",
       "Ayamonte                                               13.0    21104.0   \n",
       "Paterna del Campo                                       2.0     3457.0   \n",
       "Zalamea la Real                                         1.0     3054.0   \n",
       "Aracena                                                 2.0     8255.0   \n",
       "\n",
       "Medida                                  tasa7      tasa14  Diferencia PDIA  \n",
       "Lugar de residencia                                                         \n",
       "Galaroza                           289.435601  795.947902              0.0  \n",
       "Bollullos Par del Condado          319.733092  639.466185              3.0  \n",
       "Almonte                            252.988942  595.748154             10.0  \n",
       "Palma del Condado (La)             425.886492  546.245718              7.0  \n",
       "Cabezas Rubias                     283.286119  424.929178              NaN  \n",
       "Moguer                             251.520556  365.848082              7.0  \n",
       "Punta Umbría                       162.813416  364.702051              5.0  \n",
       "Escacena del Campo                 131.176213  349.803236              0.0  \n",
       "Condado-Campiña                    185.622572  348.842419             38.0  \n",
       "Valverde del Camino                243.137255  345.098039              6.0  \n",
       "Niebla                             170.068027  340.136054              2.0  \n",
       "Nerva                              154.768814  309.537628              1.0  \n",
       "Isla Cristina                      112.186229  280.465573              4.0  \n",
       "Villarrasa                         226.142017  271.370421              0.0  \n",
       "Villalba del Alcor                 178.253119  267.379679              0.0  \n",
       "Huelva (capital)                   115.408414  254.454695             24.0  \n",
       "Calañas                            252.890173  252.890173              4.0  \n",
       "Lucena del Puerto                  214.658080  245.323520              0.0  \n",
       "Rociana del Condado                 50.384179  239.324852              1.0  \n",
       "Huelva                             118.868991  237.737982            104.0  \n",
       "Manzanilla                         188.857413  236.071766              1.0  \n",
       "San Juan del Puerto                106.258634  223.143130              0.0  \n",
       "Trigueros                          101.755279  216.229967              2.0  \n",
       "Huelva-Costa                        89.449763  201.002943             52.0  \n",
       "Palos de la Frontera                76.647931  195.878045              2.0  \n",
       "San Bartolomé de la Torre          159.532039  186.120713              1.0  \n",
       "Villablanca                        103.986135  173.310225              2.0  \n",
       "Cartaya                             69.710701  149.380073              5.0  \n",
       "Gibraleón                           54.957996  141.320562              2.0  \n",
       "Sierra de Huelva-Andévalo Central   90.516538  138.000623             14.0  \n",
       "Alájar                             131.752306  131.752306              0.0  \n",
       "Beas                                46.072334  115.180834              0.0  \n",
       "Aljaraque                           51.224737  111.763062              4.0  \n",
       "Bonares                             33.003300   99.009901              0.0  \n",
       "Campillo (El)                       98.814229   98.814229              NaN  \n",
       "Cerro de Andévalo (El)              85.947572   85.947572              0.0  \n",
       "Zarza-Perrunal (La)                 79.808460   79.808460              0.0  \n",
       "Lepe                                28.694405   78.909613              2.0  \n",
       "Minas de Riotinto                   52.465897   78.698846              0.0  \n",
       "Alosno                              50.851767   76.277651              2.0  \n",
       "Ayamonte                            18.953753   61.599697              2.0  \n",
       "Paterna del Campo                   28.926815   57.853630              0.0  \n",
       "Zalamea la Real                     32.743942   32.743942              0.0  \n",
       "Aracena                             24.227741   24.227741              1.0  "
      ],
      "text/html": "<div>\n<style scoped>\n    .dataframe tbody tr th:only-of-type {\n        vertical-align: middle;\n    }\n\n    .dataframe tbody tr th {\n        vertical-align: top;\n    }\n\n    .dataframe thead th {\n        text-align: right;\n    }\n</style>\n<table border=\"1\" class=\"dataframe\">\n  <thead>\n    <tr style=\"text-align: right;\">\n      <th>Medida</th>\n      <th>Confirmados PDIA</th>\n      <th>Confirmados PDIA 7 días</th>\n      <th>Confirmados PDIA 14 días</th>\n      <th>Población</th>\n      <th>tasa7</th>\n      <th>tasa14</th>\n      <th>Diferencia PDIA</th>\n    </tr>\n    <tr>\n      <th>Lugar de residencia</th>\n      <th></th>\n      <th></th>\n      <th></th>\n      <th></th>\n      <th></th>\n      <th></th>\n      <th></th>\n    </tr>\n  </thead>\n  <tbody>\n    <tr>\n      <th>Galaroza</th>\n      <td>41.0</td>\n      <td>4.0</td>\n      <td>11.0</td>\n      <td>1382.0</td>\n      <td>289.435601</td>\n      <td>795.947902</td>\n      <td>0.0</td>\n    </tr>\n    <tr>\n      <th>Bollullos Par del Condado</th>\n      <td>926.0</td>\n      <td>46.0</td>\n      <td>92.0</td>\n      <td>14387.0</td>\n      <td>319.733092</td>\n      <td>639.466185</td>\n      <td>3.0</td>\n    </tr>\n    <tr>\n      <th>Almonte</th>\n      <td>1696.0</td>\n      <td>62.0</td>\n      <td>146.0</td>\n      <td>24507.0</td>\n      <td>252.988942</td>\n      <td>595.748154</td>\n      <td>10.0</td>\n    </tr>\n    <tr>\n      <th>Palma del Condado (La)</th>\n      <td>1098.0</td>\n      <td>46.0</td>\n      <td>59.0</td>\n      <td>10801.0</td>\n      <td>425.886492</td>\n      <td>546.245718</td>\n      <td>7.0</td>\n    </tr>\n    <tr>\n      <th>Cabezas Rubias</th>\n      <td>34.0</td>\n      <td>2.0</td>\n      <td>3.0</td>\n      <td>706.0</td>\n      <td>283.286119</td>\n      <td>424.929178</td>\n      <td>NaN</td>\n    </tr>\n    <tr>\n      <th>Moguer</th>\n      <td>1188.0</td>\n      <td>55.0</td>\n      <td>80.0</td>\n      <td>21867.0</td>\n      <td>251.520556</td>\n      <td>365.848082</td>\n      <td>7.0</td>\n    </tr>\n    <tr>\n      <th>Punta Umbría</th>\n      <td>770.0</td>\n      <td>25.0</td>\n      <td>56.0</td>\n      <td>15355.0</td>\n      <td>162.813416</td>\n      <td>364.702051</td>\n      <td>5.0</td>\n    </tr>\n    <tr>\n      <th>Escacena del Campo</th>\n      <td>154.0</td>\n      <td>3.0</td>\n      <td>8.0</td>\n      <td>2287.0</td>\n      <td>131.176213</td>\n      <td>349.803236</td>\n      <td>0.0</td>\n    </tr>\n    <tr>\n      <th>Condado-Campiña</th>\n      <td>9621.0</td>\n      <td>290.0</td>\n      <td>545.0</td>\n      <td>156231.0</td>\n      <td>185.622572</td>\n      <td>348.842419</td>\n      <td>38.0</td>\n    </tr>\n    <tr>\n      <th>Valverde del Camino</th>\n      <td>520.0</td>\n      <td>31.0</td>\n      <td>44.0</td>\n      <td>12750.0</td>\n      <td>243.137255</td>\n      <td>345.098039</td>\n      <td>6.0</td>\n    </tr>\n    <tr>\n      <th>Niebla</th>\n      <td>210.0</td>\n      <td>7.0</td>\n      <td>14.0</td>\n      <td>4116.0</td>\n      <td>170.068027</td>\n      <td>340.136054</td>\n      <td>2.0</td>\n    </tr>\n    <tr>\n      <th>Nerva</th>\n      <td>170.0</td>\n      <td>8.0</td>\n      <td>16.0</td>\n      <td>5169.0</td>\n      <td>154.768814</td>\n      <td>309.537628</td>\n      <td>1.0</td>\n    </tr>\n    <tr>\n      <th>Isla Cristina</th>\n      <td>2124.0</td>\n      <td>24.0</td>\n      <td>60.0</td>\n      <td>21393.0</td>\n      <td>112.186229</td>\n      <td>280.465573</td>\n      <td>4.0</td>\n    </tr>\n    <tr>\n      <th>Villarrasa</th>\n      <td>153.0</td>\n      <td>5.0</td>\n      <td>6.0</td>\n      <td>2211.0</td>\n      <td>226.142017</td>\n      <td>271.370421</td>\n      <td>0.0</td>\n    </tr>\n    <tr>\n      <th>Villalba del Alcor</th>\n      <td>480.0</td>\n      <td>6.0</td>\n      <td>9.0</td>\n      <td>3366.0</td>\n      <td>178.253119</td>\n      <td>267.379679</td>\n      <td>0.0</td>\n    </tr>\n    <tr>\n      <th>Huelva (capital)</th>\n      <td>7825.0</td>\n      <td>166.0</td>\n      <td>366.0</td>\n      <td>143837.0</td>\n      <td>115.408414</td>\n      <td>254.454695</td>\n      <td>24.0</td>\n    </tr>\n    <tr>\n      <th>Calañas</th>\n      <td>181.0</td>\n      <td>7.0</td>\n      <td>7.0</td>\n      <td>2768.0</td>\n      <td>252.890173</td>\n      <td>252.890173</td>\n      <td>4.0</td>\n    </tr>\n    <tr>\n      <th>Lucena del Puerto</th>\n      <td>241.0</td>\n      <td>7.0</td>\n      <td>8.0</td>\n      <td>3261.0</td>\n      <td>214.658080</td>\n      <td>245.323520</td>\n      <td>0.0</td>\n    </tr>\n    <tr>\n      <th>Rociana del Condado</th>\n      <td>535.0</td>\n      <td>4.0</td>\n      <td>19.0</td>\n      <td>7939.0</td>\n      <td>50.384179</td>\n      <td>239.324852</td>\n      <td>1.0</td>\n    </tr>\n    <tr>\n      <th>Huelva</th>\n      <td>29929.0</td>\n      <td>610.0</td>\n      <td>1220.0</td>\n      <td>513170.0</td>\n      <td>118.868991</td>\n      <td>237.737982</td>\n      <td>104.0</td>\n    </tr>\n    <tr>\n      <th>Manzanilla</th>\n      <td>90.0</td>\n      <td>4.0</td>\n      <td>5.0</td>\n      <td>2118.0</td>\n      <td>188.857413</td>\n      <td>236.071766</td>\n      <td>1.0</td>\n    </tr>\n    <tr>\n      <th>San Juan del Puerto</th>\n      <td>471.0</td>\n      <td>10.0</td>\n      <td>21.0</td>\n      <td>9411.0</td>\n      <td>106.258634</td>\n      <td>223.143130</td>\n      <td>0.0</td>\n    </tr>\n    <tr>\n      <th>Trigueros</th>\n      <td>284.0</td>\n      <td>8.0</td>\n      <td>17.0</td>\n      <td>7862.0</td>\n      <td>101.755279</td>\n      <td>216.229967</td>\n      <td>2.0</td>\n    </tr>\n    <tr>\n      <th>Huelva-Costa</th>\n      <td>17316.0</td>\n      <td>259.0</td>\n      <td>582.0</td>\n      <td>289548.0</td>\n      <td>89.449763</td>\n      <td>201.002943</td>\n      <td>52.0</td>\n    </tr>\n    <tr>\n      <th>Palos de la Frontera</th>\n      <td>610.0</td>\n      <td>9.0</td>\n      <td>23.0</td>\n      <td>11742.0</td>\n      <td>76.647931</td>\n      <td>195.878045</td>\n      <td>2.0</td>\n    </tr>\n    <tr>\n      <th>San Bartolomé de la Torre</th>\n      <td>289.0</td>\n      <td>6.0</td>\n      <td>7.0</td>\n      <td>3761.0</td>\n      <td>159.532039</td>\n      <td>186.120713</td>\n      <td>1.0</td>\n    </tr>\n    <tr>\n      <th>Villablanca</th>\n      <td>187.0</td>\n      <td>3.0</td>\n      <td>5.0</td>\n      <td>2885.0</td>\n      <td>103.986135</td>\n      <td>173.310225</td>\n      <td>2.0</td>\n    </tr>\n    <tr>\n      <th>Cartaya</th>\n      <td>1305.0</td>\n      <td>14.0</td>\n      <td>30.0</td>\n      <td>20083.0</td>\n      <td>69.710701</td>\n      <td>149.380073</td>\n      <td>5.0</td>\n    </tr>\n    <tr>\n      <th>Gibraleón</th>\n      <td>605.0</td>\n      <td>7.0</td>\n      <td>18.0</td>\n      <td>12737.0</td>\n      <td>54.957996</td>\n      <td>141.320562</td>\n      <td>2.0</td>\n    </tr>\n    <tr>\n      <th>Sierra de Huelva-Andévalo Central</th>\n      <td>2651.0</td>\n      <td>61.0</td>\n      <td>93.0</td>\n      <td>67391.0</td>\n      <td>90.516538</td>\n      <td>138.000623</td>\n      <td>14.0</td>\n    </tr>\n    <tr>\n      <th>Alájar</th>\n      <td>17.0</td>\n      <td>1.0</td>\n      <td>1.0</td>\n      <td>759.0</td>\n      <td>131.752306</td>\n      <td>131.752306</td>\n      <td>0.0</td>\n    </tr>\n    <tr>\n      <th>Beas</th>\n      <td>204.0</td>\n      <td>2.0</td>\n      <td>5.0</td>\n      <td>4341.0</td>\n      <td>46.072334</td>\n      <td>115.180834</td>\n      <td>0.0</td>\n    </tr>\n    <tr>\n      <th>Aljaraque</th>\n      <td>1030.0</td>\n      <td>11.0</td>\n      <td>24.0</td>\n      <td>21474.0</td>\n      <td>51.224737</td>\n      <td>111.763062</td>\n      <td>4.0</td>\n    </tr>\n    <tr>\n      <th>Bonares</th>\n      <td>261.0</td>\n      <td>2.0</td>\n      <td>6.0</td>\n      <td>6060.0</td>\n      <td>33.003300</td>\n      <td>99.009901</td>\n      <td>0.0</td>\n    </tr>\n    <tr>\n      <th>Campillo (El)</th>\n      <td>72.0</td>\n      <td>2.0</td>\n      <td>2.0</td>\n      <td>2024.0</td>\n      <td>98.814229</td>\n      <td>98.814229</td>\n      <td>NaN</td>\n    </tr>\n    <tr>\n      <th>Cerro de Andévalo (El)</th>\n      <td>138.0</td>\n      <td>2.0</td>\n      <td>2.0</td>\n      <td>2327.0</td>\n      <td>85.947572</td>\n      <td>85.947572</td>\n      <td>0.0</td>\n    </tr>\n    <tr>\n      <th>Zarza-Perrunal (La)</th>\n      <td>23.0</td>\n      <td>1.0</td>\n      <td>1.0</td>\n      <td>1253.0</td>\n      <td>79.808460</td>\n      <td>79.808460</td>\n      <td>0.0</td>\n    </tr>\n    <tr>\n      <th>Lepe</th>\n      <td>2105.0</td>\n      <td>8.0</td>\n      <td>22.0</td>\n      <td>27880.0</td>\n      <td>28.694405</td>\n      <td>78.909613</td>\n      <td>2.0</td>\n    </tr>\n    <tr>\n      <th>Minas de Riotinto</th>\n      <td>117.0</td>\n      <td>2.0</td>\n      <td>3.0</td>\n      <td>3812.0</td>\n      <td>52.465897</td>\n      <td>78.698846</td>\n      <td>0.0</td>\n    </tr>\n    <tr>\n      <th>Alosno</th>\n      <td>165.0</td>\n      <td>2.0</td>\n      <td>3.0</td>\n      <td>3933.0</td>\n      <td>50.851767</td>\n      <td>76.277651</td>\n      <td>2.0</td>\n    </tr>\n    <tr>\n      <th>Ayamonte</th>\n      <td>1300.0</td>\n      <td>4.0</td>\n      <td>13.0</td>\n      <td>21104.0</td>\n      <td>18.953753</td>\n      <td>61.599697</td>\n      <td>2.0</td>\n    </tr>\n    <tr>\n      <th>Paterna del Campo</th>\n      <td>126.0</td>\n      <td>1.0</td>\n      <td>2.0</td>\n      <td>3457.0</td>\n      <td>28.926815</td>\n      <td>57.853630</td>\n      <td>0.0</td>\n    </tr>\n    <tr>\n      <th>Zalamea la Real</th>\n      <td>87.0</td>\n      <td>1.0</td>\n      <td>1.0</td>\n      <td>3054.0</td>\n      <td>32.743942</td>\n      <td>32.743942</td>\n      <td>0.0</td>\n    </tr>\n    <tr>\n      <th>Aracena</th>\n      <td>515.0</td>\n      <td>2.0</td>\n      <td>2.0</td>\n      <td>8255.0</td>\n      <td>24.227741</td>\n      <td>24.227741</td>\n      <td>1.0</td>\n    </tr>\n  </tbody>\n</table>\n</div>"
     },
     "metadata": {},
     "execution_count": 17
    }
   ],
   "source": [
    "tabla.sort_values('tasa14', ascending=False)"
   ]
  },
  {
   "cell_type": "code",
   "execution_count": 18,
   "metadata": {},
   "outputs": [
    {
     "output_type": "execute_result",
     "data": {
      "text/plain": [
       "Medida                             Confirmados PDIA  Confirmados PDIA 7 días  \\\n",
       "Lugar de residencia                                                            \n",
       "Rociana del Condado                           535.0                      4.0   \n",
       "Ayamonte                                     1300.0                      4.0   \n",
       "Bonares                                       261.0                      2.0   \n",
       "Lepe                                         2105.0                      8.0   \n",
       "Galaroza                                       41.0                      4.0   \n",
       "Escacena del Campo                            154.0                      3.0   \n",
       "Gibraleón                                     605.0                      7.0   \n",
       "Palos de la Frontera                          610.0                      9.0   \n",
       "Beas                                          204.0                      2.0   \n",
       "Isla Cristina                                2124.0                     24.0   \n",
       "Almonte                                      1696.0                     62.0   \n",
       "Huelva-Costa                                17316.0                    259.0   \n",
       "Punta Umbría                                  770.0                     25.0   \n",
       "Huelva (capital)                             7825.0                    166.0   \n",
       "Aljaraque                                    1030.0                     11.0   \n",
       "Cartaya                                      1305.0                     14.0   \n",
       "Trigueros                                     284.0                      8.0   \n",
       "San Juan del Puerto                           471.0                     10.0   \n",
       "Huelva                                      29929.0                    610.0   \n",
       "Paterna del Campo                             126.0                      1.0   \n",
       "Bollullos Par del Condado                     926.0                     46.0   \n",
       "Niebla                                        210.0                      7.0   \n",
       "Nerva                                         170.0                      8.0   \n",
       "Condado-Campiña                              9621.0                    290.0   \n",
       "Villablanca                                   187.0                      3.0   \n",
       "Sierra de Huelva-Andévalo Central            2651.0                     61.0   \n",
       "Alosno                                        165.0                      2.0   \n",
       "Minas de Riotinto                             117.0                      2.0   \n",
       "Cabezas Rubias                                 34.0                      2.0   \n",
       "Villalba del Alcor                            480.0                      6.0   \n",
       "Moguer                                       1188.0                     55.0   \n",
       "Valverde del Camino                           520.0                     31.0   \n",
       "Palma del Condado (La)                       1098.0                     46.0   \n",
       "Manzanilla                                     90.0                      4.0   \n",
       "Villarrasa                                    153.0                      5.0   \n",
       "San Bartolomé de la Torre                     289.0                      6.0   \n",
       "Lucena del Puerto                             241.0                      7.0   \n",
       "Cerro de Andévalo (El)                        138.0                      2.0   \n",
       "Aracena                                       515.0                      2.0   \n",
       "Zalamea la Real                                87.0                      1.0   \n",
       "Calañas                                       181.0                      7.0   \n",
       "Campillo (El)                                  72.0                      2.0   \n",
       "Alájar                                         17.0                      1.0   \n",
       "Zarza-Perrunal (La)                            23.0                      1.0   \n",
       "\n",
       "Medida                             Confirmados PDIA 14 días  Población  \\\n",
       "Lugar de residencia                                                      \n",
       "Rociana del Condado                                    19.0     7939.0   \n",
       "Ayamonte                                               13.0    21104.0   \n",
       "Bonares                                                 6.0     6060.0   \n",
       "Lepe                                                   22.0    27880.0   \n",
       "Galaroza                                               11.0     1382.0   \n",
       "Escacena del Campo                                      8.0     2287.0   \n",
       "Gibraleón                                              18.0    12737.0   \n",
       "Palos de la Frontera                                   23.0    11742.0   \n",
       "Beas                                                    5.0     4341.0   \n",
       "Isla Cristina                                          60.0    21393.0   \n",
       "Almonte                                               146.0    24507.0   \n",
       "Huelva-Costa                                          582.0   289548.0   \n",
       "Punta Umbría                                           56.0    15355.0   \n",
       "Huelva (capital)                                      366.0   143837.0   \n",
       "Aljaraque                                              24.0    21474.0   \n",
       "Cartaya                                                30.0    20083.0   \n",
       "Trigueros                                              17.0     7862.0   \n",
       "San Juan del Puerto                                    21.0     9411.0   \n",
       "Huelva                                               1220.0   513170.0   \n",
       "Paterna del Campo                                       2.0     3457.0   \n",
       "Bollullos Par del Condado                              92.0    14387.0   \n",
       "Niebla                                                 14.0     4116.0   \n",
       "Nerva                                                  16.0     5169.0   \n",
       "Condado-Campiña                                       545.0   156231.0   \n",
       "Villablanca                                             5.0     2885.0   \n",
       "Sierra de Huelva-Andévalo Central                      93.0    67391.0   \n",
       "Alosno                                                  3.0     3933.0   \n",
       "Minas de Riotinto                                       3.0     3812.0   \n",
       "Cabezas Rubias                                          3.0      706.0   \n",
       "Villalba del Alcor                                      9.0     3366.0   \n",
       "Moguer                                                 80.0    21867.0   \n",
       "Valverde del Camino                                    44.0    12750.0   \n",
       "Palma del Condado (La)                                 59.0    10801.0   \n",
       "Manzanilla                                              5.0     2118.0   \n",
       "Villarrasa                                              6.0     2211.0   \n",
       "San Bartolomé de la Torre                               7.0     3761.0   \n",
       "Lucena del Puerto                                       8.0     3261.0   \n",
       "Cerro de Andévalo (El)                                  2.0     2327.0   \n",
       "Aracena                                                 2.0     8255.0   \n",
       "Zalamea la Real                                         1.0     3054.0   \n",
       "Calañas                                                 7.0     2768.0   \n",
       "Campillo (El)                                           2.0     2024.0   \n",
       "Alájar                                                  1.0      759.0   \n",
       "Zarza-Perrunal (La)                                     1.0     1253.0   \n",
       "\n",
       "Medida                                  tasa7      tasa14  Diferencia PDIA  \\\n",
       "Lugar de residencia                                                          \n",
       "Rociana del Condado                 50.384179  239.324852              1.0   \n",
       "Ayamonte                            18.953753   61.599697              2.0   \n",
       "Bonares                             33.003300   99.009901              0.0   \n",
       "Lepe                                28.694405   78.909613              2.0   \n",
       "Galaroza                           289.435601  795.947902              0.0   \n",
       "Escacena del Campo                 131.176213  349.803236              0.0   \n",
       "Gibraleón                           54.957996  141.320562              2.0   \n",
       "Palos de la Frontera                76.647931  195.878045              2.0   \n",
       "Beas                                46.072334  115.180834              0.0   \n",
       "Isla Cristina                      112.186229  280.465573              4.0   \n",
       "Almonte                            252.988942  595.748154             10.0   \n",
       "Huelva-Costa                        89.449763  201.002943             52.0   \n",
       "Punta Umbría                       162.813416  364.702051              5.0   \n",
       "Huelva (capital)                   115.408414  254.454695             24.0   \n",
       "Aljaraque                           51.224737  111.763062              4.0   \n",
       "Cartaya                             69.710701  149.380073              5.0   \n",
       "Trigueros                          101.755279  216.229967              2.0   \n",
       "San Juan del Puerto                106.258634  223.143130              0.0   \n",
       "Huelva                             118.868991  237.737982            104.0   \n",
       "Paterna del Campo                   28.926815   57.853630              0.0   \n",
       "Bollullos Par del Condado          319.733092  639.466185              3.0   \n",
       "Niebla                             170.068027  340.136054              2.0   \n",
       "Nerva                              154.768814  309.537628              1.0   \n",
       "Condado-Campiña                    185.622572  348.842419             38.0   \n",
       "Villablanca                        103.986135  173.310225              2.0   \n",
       "Sierra de Huelva-Andévalo Central   90.516538  138.000623             14.0   \n",
       "Alosno                              50.851767   76.277651              2.0   \n",
       "Minas de Riotinto                   52.465897   78.698846              0.0   \n",
       "Cabezas Rubias                     283.286119  424.929178              0.0   \n",
       "Villalba del Alcor                 178.253119  267.379679              0.0   \n",
       "Moguer                             251.520556  365.848082              7.0   \n",
       "Valverde del Camino                243.137255  345.098039              6.0   \n",
       "Palma del Condado (La)             425.886492  546.245718              7.0   \n",
       "Manzanilla                         188.857413  236.071766              1.0   \n",
       "Villarrasa                         226.142017  271.370421              0.0   \n",
       "San Bartolomé de la Torre          159.532039  186.120713              1.0   \n",
       "Lucena del Puerto                  214.658080  245.323520              0.0   \n",
       "Cerro de Andévalo (El)              85.947572   85.947572              0.0   \n",
       "Aracena                             24.227741   24.227741              1.0   \n",
       "Zalamea la Real                     32.743942   32.743942              0.0   \n",
       "Calañas                            252.890173  252.890173              4.0   \n",
       "Campillo (El)                       98.814229   98.814229              0.0   \n",
       "Alájar                             131.752306  131.752306              0.0   \n",
       "Zarza-Perrunal (La)                 79.808460   79.808460              0.0   \n",
       "\n",
       "Medida                                 7/14  \n",
       "Lugar de residencia                          \n",
       "Rociana del Condado                0.210526  \n",
       "Ayamonte                           0.307692  \n",
       "Bonares                            0.333333  \n",
       "Lepe                               0.363636  \n",
       "Galaroza                           0.363636  \n",
       "Escacena del Campo                 0.375000  \n",
       "Gibraleón                          0.388889  \n",
       "Palos de la Frontera               0.391304  \n",
       "Beas                               0.400000  \n",
       "Isla Cristina                      0.400000  \n",
       "Almonte                            0.424658  \n",
       "Huelva-Costa                       0.445017  \n",
       "Punta Umbría                       0.446429  \n",
       "Huelva (capital)                   0.453552  \n",
       "Aljaraque                          0.458333  \n",
       "Cartaya                            0.466667  \n",
       "Trigueros                          0.470588  \n",
       "San Juan del Puerto                0.476190  \n",
       "Huelva                             0.500000  \n",
       "Paterna del Campo                  0.500000  \n",
       "Bollullos Par del Condado          0.500000  \n",
       "Niebla                             0.500000  \n",
       "Nerva                              0.500000  \n",
       "Condado-Campiña                    0.532110  \n",
       "Villablanca                        0.600000  \n",
       "Sierra de Huelva-Andévalo Central  0.655914  \n",
       "Alosno                             0.666667  \n",
       "Minas de Riotinto                  0.666667  \n",
       "Cabezas Rubias                     0.666667  \n",
       "Villalba del Alcor                 0.666667  \n",
       "Moguer                             0.687500  \n",
       "Valverde del Camino                0.704545  \n",
       "Palma del Condado (La)             0.779661  \n",
       "Manzanilla                         0.800000  \n",
       "Villarrasa                         0.833333  \n",
       "San Bartolomé de la Torre          0.857143  \n",
       "Lucena del Puerto                  0.875000  \n",
       "Cerro de Andévalo (El)             1.000000  \n",
       "Aracena                            1.000000  \n",
       "Zalamea la Real                    1.000000  \n",
       "Calañas                            1.000000  \n",
       "Campillo (El)                      1.000000  \n",
       "Alájar                             1.000000  \n",
       "Zarza-Perrunal (La)                1.000000  "
      ],
      "text/html": "<div>\n<style scoped>\n    .dataframe tbody tr th:only-of-type {\n        vertical-align: middle;\n    }\n\n    .dataframe tbody tr th {\n        vertical-align: top;\n    }\n\n    .dataframe thead th {\n        text-align: right;\n    }\n</style>\n<table border=\"1\" class=\"dataframe\">\n  <thead>\n    <tr style=\"text-align: right;\">\n      <th>Medida</th>\n      <th>Confirmados PDIA</th>\n      <th>Confirmados PDIA 7 días</th>\n      <th>Confirmados PDIA 14 días</th>\n      <th>Población</th>\n      <th>tasa7</th>\n      <th>tasa14</th>\n      <th>Diferencia PDIA</th>\n      <th>7/14</th>\n    </tr>\n    <tr>\n      <th>Lugar de residencia</th>\n      <th></th>\n      <th></th>\n      <th></th>\n      <th></th>\n      <th></th>\n      <th></th>\n      <th></th>\n      <th></th>\n    </tr>\n  </thead>\n  <tbody>\n    <tr>\n      <th>Rociana del Condado</th>\n      <td>535.0</td>\n      <td>4.0</td>\n      <td>19.0</td>\n      <td>7939.0</td>\n      <td>50.384179</td>\n      <td>239.324852</td>\n      <td>1.0</td>\n      <td>0.210526</td>\n    </tr>\n    <tr>\n      <th>Ayamonte</th>\n      <td>1300.0</td>\n      <td>4.0</td>\n      <td>13.0</td>\n      <td>21104.0</td>\n      <td>18.953753</td>\n      <td>61.599697</td>\n      <td>2.0</td>\n      <td>0.307692</td>\n    </tr>\n    <tr>\n      <th>Bonares</th>\n      <td>261.0</td>\n      <td>2.0</td>\n      <td>6.0</td>\n      <td>6060.0</td>\n      <td>33.003300</td>\n      <td>99.009901</td>\n      <td>0.0</td>\n      <td>0.333333</td>\n    </tr>\n    <tr>\n      <th>Lepe</th>\n      <td>2105.0</td>\n      <td>8.0</td>\n      <td>22.0</td>\n      <td>27880.0</td>\n      <td>28.694405</td>\n      <td>78.909613</td>\n      <td>2.0</td>\n      <td>0.363636</td>\n    </tr>\n    <tr>\n      <th>Galaroza</th>\n      <td>41.0</td>\n      <td>4.0</td>\n      <td>11.0</td>\n      <td>1382.0</td>\n      <td>289.435601</td>\n      <td>795.947902</td>\n      <td>0.0</td>\n      <td>0.363636</td>\n    </tr>\n    <tr>\n      <th>Escacena del Campo</th>\n      <td>154.0</td>\n      <td>3.0</td>\n      <td>8.0</td>\n      <td>2287.0</td>\n      <td>131.176213</td>\n      <td>349.803236</td>\n      <td>0.0</td>\n      <td>0.375000</td>\n    </tr>\n    <tr>\n      <th>Gibraleón</th>\n      <td>605.0</td>\n      <td>7.0</td>\n      <td>18.0</td>\n      <td>12737.0</td>\n      <td>54.957996</td>\n      <td>141.320562</td>\n      <td>2.0</td>\n      <td>0.388889</td>\n    </tr>\n    <tr>\n      <th>Palos de la Frontera</th>\n      <td>610.0</td>\n      <td>9.0</td>\n      <td>23.0</td>\n      <td>11742.0</td>\n      <td>76.647931</td>\n      <td>195.878045</td>\n      <td>2.0</td>\n      <td>0.391304</td>\n    </tr>\n    <tr>\n      <th>Beas</th>\n      <td>204.0</td>\n      <td>2.0</td>\n      <td>5.0</td>\n      <td>4341.0</td>\n      <td>46.072334</td>\n      <td>115.180834</td>\n      <td>0.0</td>\n      <td>0.400000</td>\n    </tr>\n    <tr>\n      <th>Isla Cristina</th>\n      <td>2124.0</td>\n      <td>24.0</td>\n      <td>60.0</td>\n      <td>21393.0</td>\n      <td>112.186229</td>\n      <td>280.465573</td>\n      <td>4.0</td>\n      <td>0.400000</td>\n    </tr>\n    <tr>\n      <th>Almonte</th>\n      <td>1696.0</td>\n      <td>62.0</td>\n      <td>146.0</td>\n      <td>24507.0</td>\n      <td>252.988942</td>\n      <td>595.748154</td>\n      <td>10.0</td>\n      <td>0.424658</td>\n    </tr>\n    <tr>\n      <th>Huelva-Costa</th>\n      <td>17316.0</td>\n      <td>259.0</td>\n      <td>582.0</td>\n      <td>289548.0</td>\n      <td>89.449763</td>\n      <td>201.002943</td>\n      <td>52.0</td>\n      <td>0.445017</td>\n    </tr>\n    <tr>\n      <th>Punta Umbría</th>\n      <td>770.0</td>\n      <td>25.0</td>\n      <td>56.0</td>\n      <td>15355.0</td>\n      <td>162.813416</td>\n      <td>364.702051</td>\n      <td>5.0</td>\n      <td>0.446429</td>\n    </tr>\n    <tr>\n      <th>Huelva (capital)</th>\n      <td>7825.0</td>\n      <td>166.0</td>\n      <td>366.0</td>\n      <td>143837.0</td>\n      <td>115.408414</td>\n      <td>254.454695</td>\n      <td>24.0</td>\n      <td>0.453552</td>\n    </tr>\n    <tr>\n      <th>Aljaraque</th>\n      <td>1030.0</td>\n      <td>11.0</td>\n      <td>24.0</td>\n      <td>21474.0</td>\n      <td>51.224737</td>\n      <td>111.763062</td>\n      <td>4.0</td>\n      <td>0.458333</td>\n    </tr>\n    <tr>\n      <th>Cartaya</th>\n      <td>1305.0</td>\n      <td>14.0</td>\n      <td>30.0</td>\n      <td>20083.0</td>\n      <td>69.710701</td>\n      <td>149.380073</td>\n      <td>5.0</td>\n      <td>0.466667</td>\n    </tr>\n    <tr>\n      <th>Trigueros</th>\n      <td>284.0</td>\n      <td>8.0</td>\n      <td>17.0</td>\n      <td>7862.0</td>\n      <td>101.755279</td>\n      <td>216.229967</td>\n      <td>2.0</td>\n      <td>0.470588</td>\n    </tr>\n    <tr>\n      <th>San Juan del Puerto</th>\n      <td>471.0</td>\n      <td>10.0</td>\n      <td>21.0</td>\n      <td>9411.0</td>\n      <td>106.258634</td>\n      <td>223.143130</td>\n      <td>0.0</td>\n      <td>0.476190</td>\n    </tr>\n    <tr>\n      <th>Huelva</th>\n      <td>29929.0</td>\n      <td>610.0</td>\n      <td>1220.0</td>\n      <td>513170.0</td>\n      <td>118.868991</td>\n      <td>237.737982</td>\n      <td>104.0</td>\n      <td>0.500000</td>\n    </tr>\n    <tr>\n      <th>Paterna del Campo</th>\n      <td>126.0</td>\n      <td>1.0</td>\n      <td>2.0</td>\n      <td>3457.0</td>\n      <td>28.926815</td>\n      <td>57.853630</td>\n      <td>0.0</td>\n      <td>0.500000</td>\n    </tr>\n    <tr>\n      <th>Bollullos Par del Condado</th>\n      <td>926.0</td>\n      <td>46.0</td>\n      <td>92.0</td>\n      <td>14387.0</td>\n      <td>319.733092</td>\n      <td>639.466185</td>\n      <td>3.0</td>\n      <td>0.500000</td>\n    </tr>\n    <tr>\n      <th>Niebla</th>\n      <td>210.0</td>\n      <td>7.0</td>\n      <td>14.0</td>\n      <td>4116.0</td>\n      <td>170.068027</td>\n      <td>340.136054</td>\n      <td>2.0</td>\n      <td>0.500000</td>\n    </tr>\n    <tr>\n      <th>Nerva</th>\n      <td>170.0</td>\n      <td>8.0</td>\n      <td>16.0</td>\n      <td>5169.0</td>\n      <td>154.768814</td>\n      <td>309.537628</td>\n      <td>1.0</td>\n      <td>0.500000</td>\n    </tr>\n    <tr>\n      <th>Condado-Campiña</th>\n      <td>9621.0</td>\n      <td>290.0</td>\n      <td>545.0</td>\n      <td>156231.0</td>\n      <td>185.622572</td>\n      <td>348.842419</td>\n      <td>38.0</td>\n      <td>0.532110</td>\n    </tr>\n    <tr>\n      <th>Villablanca</th>\n      <td>187.0</td>\n      <td>3.0</td>\n      <td>5.0</td>\n      <td>2885.0</td>\n      <td>103.986135</td>\n      <td>173.310225</td>\n      <td>2.0</td>\n      <td>0.600000</td>\n    </tr>\n    <tr>\n      <th>Sierra de Huelva-Andévalo Central</th>\n      <td>2651.0</td>\n      <td>61.0</td>\n      <td>93.0</td>\n      <td>67391.0</td>\n      <td>90.516538</td>\n      <td>138.000623</td>\n      <td>14.0</td>\n      <td>0.655914</td>\n    </tr>\n    <tr>\n      <th>Alosno</th>\n      <td>165.0</td>\n      <td>2.0</td>\n      <td>3.0</td>\n      <td>3933.0</td>\n      <td>50.851767</td>\n      <td>76.277651</td>\n      <td>2.0</td>\n      <td>0.666667</td>\n    </tr>\n    <tr>\n      <th>Minas de Riotinto</th>\n      <td>117.0</td>\n      <td>2.0</td>\n      <td>3.0</td>\n      <td>3812.0</td>\n      <td>52.465897</td>\n      <td>78.698846</td>\n      <td>0.0</td>\n      <td>0.666667</td>\n    </tr>\n    <tr>\n      <th>Cabezas Rubias</th>\n      <td>34.0</td>\n      <td>2.0</td>\n      <td>3.0</td>\n      <td>706.0</td>\n      <td>283.286119</td>\n      <td>424.929178</td>\n      <td>0.0</td>\n      <td>0.666667</td>\n    </tr>\n    <tr>\n      <th>Villalba del Alcor</th>\n      <td>480.0</td>\n      <td>6.0</td>\n      <td>9.0</td>\n      <td>3366.0</td>\n      <td>178.253119</td>\n      <td>267.379679</td>\n      <td>0.0</td>\n      <td>0.666667</td>\n    </tr>\n    <tr>\n      <th>Moguer</th>\n      <td>1188.0</td>\n      <td>55.0</td>\n      <td>80.0</td>\n      <td>21867.0</td>\n      <td>251.520556</td>\n      <td>365.848082</td>\n      <td>7.0</td>\n      <td>0.687500</td>\n    </tr>\n    <tr>\n      <th>Valverde del Camino</th>\n      <td>520.0</td>\n      <td>31.0</td>\n      <td>44.0</td>\n      <td>12750.0</td>\n      <td>243.137255</td>\n      <td>345.098039</td>\n      <td>6.0</td>\n      <td>0.704545</td>\n    </tr>\n    <tr>\n      <th>Palma del Condado (La)</th>\n      <td>1098.0</td>\n      <td>46.0</td>\n      <td>59.0</td>\n      <td>10801.0</td>\n      <td>425.886492</td>\n      <td>546.245718</td>\n      <td>7.0</td>\n      <td>0.779661</td>\n    </tr>\n    <tr>\n      <th>Manzanilla</th>\n      <td>90.0</td>\n      <td>4.0</td>\n      <td>5.0</td>\n      <td>2118.0</td>\n      <td>188.857413</td>\n      <td>236.071766</td>\n      <td>1.0</td>\n      <td>0.800000</td>\n    </tr>\n    <tr>\n      <th>Villarrasa</th>\n      <td>153.0</td>\n      <td>5.0</td>\n      <td>6.0</td>\n      <td>2211.0</td>\n      <td>226.142017</td>\n      <td>271.370421</td>\n      <td>0.0</td>\n      <td>0.833333</td>\n    </tr>\n    <tr>\n      <th>San Bartolomé de la Torre</th>\n      <td>289.0</td>\n      <td>6.0</td>\n      <td>7.0</td>\n      <td>3761.0</td>\n      <td>159.532039</td>\n      <td>186.120713</td>\n      <td>1.0</td>\n      <td>0.857143</td>\n    </tr>\n    <tr>\n      <th>Lucena del Puerto</th>\n      <td>241.0</td>\n      <td>7.0</td>\n      <td>8.0</td>\n      <td>3261.0</td>\n      <td>214.658080</td>\n      <td>245.323520</td>\n      <td>0.0</td>\n      <td>0.875000</td>\n    </tr>\n    <tr>\n      <th>Cerro de Andévalo (El)</th>\n      <td>138.0</td>\n      <td>2.0</td>\n      <td>2.0</td>\n      <td>2327.0</td>\n      <td>85.947572</td>\n      <td>85.947572</td>\n      <td>0.0</td>\n      <td>1.000000</td>\n    </tr>\n    <tr>\n      <th>Aracena</th>\n      <td>515.0</td>\n      <td>2.0</td>\n      <td>2.0</td>\n      <td>8255.0</td>\n      <td>24.227741</td>\n      <td>24.227741</td>\n      <td>1.0</td>\n      <td>1.000000</td>\n    </tr>\n    <tr>\n      <th>Zalamea la Real</th>\n      <td>87.0</td>\n      <td>1.0</td>\n      <td>1.0</td>\n      <td>3054.0</td>\n      <td>32.743942</td>\n      <td>32.743942</td>\n      <td>0.0</td>\n      <td>1.000000</td>\n    </tr>\n    <tr>\n      <th>Calañas</th>\n      <td>181.0</td>\n      <td>7.0</td>\n      <td>7.0</td>\n      <td>2768.0</td>\n      <td>252.890173</td>\n      <td>252.890173</td>\n      <td>4.0</td>\n      <td>1.000000</td>\n    </tr>\n    <tr>\n      <th>Campillo (El)</th>\n      <td>72.0</td>\n      <td>2.0</td>\n      <td>2.0</td>\n      <td>2024.0</td>\n      <td>98.814229</td>\n      <td>98.814229</td>\n      <td>0.0</td>\n      <td>1.000000</td>\n    </tr>\n    <tr>\n      <th>Alájar</th>\n      <td>17.0</td>\n      <td>1.0</td>\n      <td>1.0</td>\n      <td>759.0</td>\n      <td>131.752306</td>\n      <td>131.752306</td>\n      <td>0.0</td>\n      <td>1.000000</td>\n    </tr>\n    <tr>\n      <th>Zarza-Perrunal (La)</th>\n      <td>23.0</td>\n      <td>1.0</td>\n      <td>1.0</td>\n      <td>1253.0</td>\n      <td>79.808460</td>\n      <td>79.808460</td>\n      <td>0.0</td>\n      <td>1.000000</td>\n    </tr>\n  </tbody>\n</table>\n</div>"
     },
     "metadata": {},
     "execution_count": 18
    }
   ],
   "source": [
    "# Peso de la tasa de la última semana en relación con la tasa a 14 días \n",
    "# Mejor cuanto menor. Valor 1 significa que no había casos antes de 7 días.\n",
    "tabla['7/14'] = tabla['tasa7'] / tabla['tasa14']\n",
    "tabla.fillna(0).sort_values('7/14', ascending=True)"
   ]
  },
  {
   "cell_type": "code",
   "execution_count": null,
   "metadata": {},
   "outputs": [],
   "source": []
  }
 ]
}