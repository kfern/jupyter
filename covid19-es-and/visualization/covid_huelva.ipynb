{
 "metadata": {
  "language_info": {
   "codemirror_mode": {
    "name": "ipython",
    "version": 3
   },
   "file_extension": ".py",
   "mimetype": "text/x-python",
   "name": "python",
   "nbconvert_exporter": "python",
   "pygments_lexer": "ipython3",
   "version": "3.8.6"
  },
  "orig_nbformat": 2,
  "kernelspec": {
   "name": "python3",
   "display_name": "Python 3.8.6 64-bit"
  },
  "interpreter": {
   "hash": "31f2aee4e71d21fbe5cf8b01ff0e069b9275f58929596ceb00d14d90e3e16cd6"
  }
 },
 "nbformat": 4,
 "nbformat_minor": 2,
 "cells": [
  {
   "cell_type": "code",
   "execution_count": 1,
   "metadata": {},
   "outputs": [],
   "source": [
    "import pandas as pd\n",
    "pd.set_option('display.max_rows', None) # Print all rows"
   ]
  },
  {
   "cell_type": "code",
   "execution_count": 2,
   "metadata": {},
   "outputs": [],
   "source": [
    "# FIX SSL: CERTIFICATE_VERIFY_FAILED with Python3\n",
    "# https://stackoverflow.com/a/49174340\n",
    "import ssl\n",
    "\n",
    "ssl._create_default_https_context = ssl._create_unverified_context"
   ]
  },
  {
   "cell_type": "code",
   "execution_count": 3,
   "metadata": {},
   "outputs": [],
   "source": [
    "url = 'https://www.juntadeandalucia.es/institutodeestadisticaycartografia/badea/stpivot/stpivot/Print?cube=013d884c-cfc5-4c21-9e78-e26225682afd&type=3&foto=si&ejecutaDesde=&codConsulta=38668&consTipoVisua=JP'\n",
    "fields = ['Lugar de residencia', 'Medida', 'Valor']\n",
    "df = pd.read_csv(url, delimiter=';', usecols=fields, decimal=',')"
   ]
  },
  {
   "cell_type": "code",
   "execution_count": 4,
   "metadata": {},
   "outputs": [
    {
     "output_type": "execute_result",
     "data": {
      "text/plain": [
       "  Lugar de residencia                    Medida               Valor\n",
       "0              Huelva                 Población              513170\n",
       "1              Huelva          Confirmados PDIA               32732\n",
       "2              Huelva  Confirmados PDIA 14 días                1316\n",
       "3              Huelva         Tasa PDIA 14 días  256,44523257400084\n",
       "4              Huelva   Confirmados PDIA 7 días                 549\n",
       "5              Huelva        Total Confirmados                32914\n",
       "6              Huelva                   Curados               30672\n",
       "7              Huelva                Fallecidos                 388"
      ],
      "text/html": "<div>\n<style scoped>\n    .dataframe tbody tr th:only-of-type {\n        vertical-align: middle;\n    }\n\n    .dataframe tbody tr th {\n        vertical-align: top;\n    }\n\n    .dataframe thead th {\n        text-align: right;\n    }\n</style>\n<table border=\"1\" class=\"dataframe\">\n  <thead>\n    <tr style=\"text-align: right;\">\n      <th></th>\n      <th>Lugar de residencia</th>\n      <th>Medida</th>\n      <th>Valor</th>\n    </tr>\n  </thead>\n  <tbody>\n    <tr>\n      <th>0</th>\n      <td>Huelva</td>\n      <td>Población</td>\n      <td>513170</td>\n    </tr>\n    <tr>\n      <th>1</th>\n      <td>Huelva</td>\n      <td>Confirmados PDIA</td>\n      <td>32732</td>\n    </tr>\n    <tr>\n      <th>2</th>\n      <td>Huelva</td>\n      <td>Confirmados PDIA 14 días</td>\n      <td>1316</td>\n    </tr>\n    <tr>\n      <th>3</th>\n      <td>Huelva</td>\n      <td>Tasa PDIA 14 días</td>\n      <td>256,44523257400084</td>\n    </tr>\n    <tr>\n      <th>4</th>\n      <td>Huelva</td>\n      <td>Confirmados PDIA 7 días</td>\n      <td>549</td>\n    </tr>\n    <tr>\n      <th>5</th>\n      <td>Huelva</td>\n      <td>Total Confirmados</td>\n      <td>32914</td>\n    </tr>\n    <tr>\n      <th>6</th>\n      <td>Huelva</td>\n      <td>Curados</td>\n      <td>30672</td>\n    </tr>\n    <tr>\n      <th>7</th>\n      <td>Huelva</td>\n      <td>Fallecidos</td>\n      <td>388</td>\n    </tr>\n  </tbody>\n</table>\n</div>"
     },
     "metadata": {},
     "execution_count": 4
    }
   ],
   "source": [
    "df[df['Lugar de residencia'] == 'Huelva']"
   ]
  },
  {
   "cell_type": "code",
   "execution_count": 5,
   "metadata": {},
   "outputs": [],
   "source": [
    "df['Valor'] = pd.to_numeric(df['Valor'],errors='coerce')"
   ]
  },
  {
   "cell_type": "code",
   "execution_count": 6,
   "metadata": {},
   "outputs": [],
   "source": [
    "dfAnterior = pd.read_csv('covid_huelva.csv', index_col='Lugar de residencia')"
   ]
  },
  {
   "cell_type": "code",
   "execution_count": 7,
   "metadata": {
    "tags": []
   },
   "outputs": [
    {
     "output_type": "stream",
     "name": "stdout",
     "text": [
      "Confirmados PCR en la provincia de Huelva:  32732.0\n",
      "<ipython-input-7-31b732756b19>:2: UserWarning: Boolean Series key will be reindexed to match DataFrame index.\n",
      "  p = df[df['Lugar de residencia'] == 'Huelva'][df['Medida'] == 'Confirmados PDIA']['Valor'].values[0]\n"
     ]
    }
   ],
   "source": [
    "# Confirmados PCR provincia Huelva\n",
    "p = df[df['Lugar de residencia'] == 'Huelva'][df['Medida'] == 'Confirmados PDIA']['Valor'].values[0]\n",
    "print('Confirmados PCR en la provincia de Huelva: ', p)"
   ]
  },
  {
   "cell_type": "code",
   "execution_count": 8,
   "metadata": {
    "tags": []
   },
   "outputs": [
    {
     "output_type": "stream",
     "name": "stdout",
     "text": [
      "Confirmados PCR en Huelva capital:  8927.0\n",
      "<ipython-input-8-e81bfb40e710>:2: UserWarning: Boolean Series key will be reindexed to match DataFrame index.\n",
      "  c = df[df['Lugar de residencia'] == 'Huelva (capital)'][df['Medida'] == 'Confirmados PDIA']['Valor'].values[0]\n"
     ]
    }
   ],
   "source": [
    "# Confirmados PCR Huelva capitalpd\n",
    "c = df[df['Lugar de residencia'] == 'Huelva (capital)'][df['Medida'] == 'Confirmados PDIA']['Valor'].values[0]\n",
    "print('Confirmados PCR en Huelva capital: ', c)"
   ]
  },
  {
   "cell_type": "code",
   "execution_count": 9,
   "metadata": {
    "tags": []
   },
   "outputs": [
    {
     "output_type": "stream",
     "name": "stderr",
     "text": [
      "<ipython-input-9-f09dd2050cc1>:1: UserWarning: Boolean Series key will be reindexed to match DataFrame index.\n  c7 = df[df['Lugar de residencia'] == 'Huelva (capital)'][df['Medida'] == 'Confirmados PDIA 7 días']['Valor'].values[0]\n<ipython-input-9-f09dd2050cc1>:2: UserWarning: Boolean Series key will be reindexed to match DataFrame index.\n  c14 = df[df['Lugar de residencia'] == 'Huelva (capital)'][df['Medida'] == 'Confirmados PDIA 14 días']['Valor'].values[0]\n<ipython-input-9-f09dd2050cc1>:3: UserWarning: Boolean Series key will be reindexed to match DataFrame index.\n  p = df[df['Lugar de residencia'] == 'Huelva (capital)'][df['Medida'] == 'Población']['Valor'].values[0]\n"
     ]
    }
   ],
   "source": [
    "c7 = df[df['Lugar de residencia'] == 'Huelva (capital)'][df['Medida'] == 'Confirmados PDIA 7 días']['Valor'].values[0]\n",
    "c14 = df[df['Lugar de residencia'] == 'Huelva (capital)'][df['Medida'] == 'Confirmados PDIA 14 días']['Valor'].values[0]\n",
    "p = df[df['Lugar de residencia'] == 'Huelva (capital)'][df['Medida'] == 'Población']['Valor'].values[0]"
   ]
  },
  {
   "cell_type": "code",
   "execution_count": 10,
   "metadata": {
    "tags": []
   },
   "outputs": [
    {
     "output_type": "stream",
     "name": "stdout",
     "text": [
      "Huelva (capital)\n\nUn positivo PCR cada 604 personas en los últimos 7 días \n\nUn positivo PCR cada 258 personas en los últimos 14 días\n"
     ]
    }
   ],
   "source": [
    "print('Huelva (capital)\\n')\n",
    "#print('Confirmados PCR 7 días x 1,000 habitantes: ', f\"{c7/(p/1000):.5f}\")\n",
    "print('Un positivo PCR cada', f\"{p/c7:.0f}\", 'personas en los últimos 7 días', '\\n')\n",
    "#print('Confirmados PCR 14 días x 1,000 habitantes: ', f\"{c14/(p/1000):.5f}\")\n",
    "print('Un positivo PCR cada', f\"{p/c14:.0f}\", 'personas en los últimos 14 días')"
   ]
  },
  {
   "cell_type": "code",
   "execution_count": 11,
   "metadata": {},
   "outputs": [],
   "source": [
    "filtro = ((df['Medida'] == 'Confirmados PDIA')| (df['Medida'] == 'Confirmados PDIA 7 días') | (df['Medida'] == 'Población' ) | (df['Medida'] == 'Confirmados PDIA 14 días')) & (df['Valor'] > 0)\n",
    "tabla = pd.pivot_table(df.loc[filtro], values='Valor', index='Lugar de residencia', columns='Medida').dropna()"
   ]
  },
  {
   "cell_type": "code",
   "execution_count": 12,
   "metadata": {},
   "outputs": [],
   "source": [
    "# Reorder columns\n",
    "tabla = tabla[['Confirmados PDIA', 'Confirmados PDIA 7 días', 'Confirmados PDIA 14 días', 'Población']]"
   ]
  },
  {
   "cell_type": "code",
   "execution_count": 13,
   "metadata": {},
   "outputs": [],
   "source": [
    "tabla['tasa7'] = tabla['Confirmados PDIA 7 días']/tabla['Población']*100000\n",
    "tabla['tasa14'] = tabla['Confirmados PDIA 14 días']/tabla['Población']*100000"
   ]
  },
  {
   "cell_type": "code",
   "execution_count": 14,
   "metadata": {},
   "outputs": [],
   "source": [
    "tabla['Diferencia PDIA'] = tabla['Confirmados PDIA'] - dfAnterior['Confirmados PDIA']"
   ]
  },
  {
   "cell_type": "code",
   "execution_count": 15,
   "metadata": {},
   "outputs": [
    {
     "output_type": "execute_result",
     "data": {
      "text/plain": [
       "Medida                             Confirmados PDIA  Confirmados PDIA 7 días  \\\n",
       "Lugar de residencia                                                            \n",
       "Huelva                                      32732.0                    549.0   \n",
       "Huelva-Costa                                18865.0                    325.0   \n",
       "Huelva (capital)                             8927.0                    238.0   \n",
       "Condado-Campiña                             10620.0                    174.0   \n",
       "Sierra de Huelva-Andévalo Central            2896.0                     49.0   \n",
       "Valverde del Camino                           645.0                     26.0   \n",
       "Almonte                                      1888.0                     29.0   \n",
       "Lepe                                         2157.0                     11.0   \n",
       "Cartaya                                      1369.0                     12.0   \n",
       "Moguer                                       1361.0                     28.0   \n",
       "Palos de la Frontera                          703.0                     14.0   \n",
       "Trigueros                                     329.0                      8.0   \n",
       "San Juan del Puerto                           559.0                     26.0   \n",
       "Rociana del Condado                           563.0                      5.0   \n",
       "Puebla de Guzmán                              136.0                     10.0   \n",
       "Palma del Condado (La)                       1179.0                     13.0   \n",
       "Aljaraque                                    1157.0                     16.0   \n",
       "Gibraleón                                     643.0                      5.0   \n",
       "Lucena del Puerto                             264.0                      5.0   \n",
       "Punta Umbría                                  841.0                      6.0   \n",
       "Calañas                                       200.0                      8.0   \n",
       "Bollullos Par del Condado                    1023.0                     17.0   \n",
       "Beas                                          218.0                      5.0   \n",
       "Aracena                                       539.0                      5.0   \n",
       "Isla Cristina                                2171.0                     13.0   \n",
       "Cerro de Andévalo (El)                        147.0                      2.0   \n",
       "\n",
       "Medida                             Confirmados PDIA 14 días  Población  \\\n",
       "Lugar de residencia                                                      \n",
       "Huelva                                               1316.0   513170.0   \n",
       "Huelva-Costa                                          770.0   289548.0   \n",
       "Huelva (capital)                                      558.0   143837.0   \n",
       "Condado-Campiña                                       418.0   156231.0   \n",
       "Sierra de Huelva-Andévalo Central                     124.0    67391.0   \n",
       "Valverde del Camino                                    66.0    12750.0   \n",
       "Almonte                                                69.0    24507.0   \n",
       "Lepe                                                   29.0    27880.0   \n",
       "Cartaya                                                26.0    20083.0   \n",
       "Moguer                                                 70.0    21867.0   \n",
       "Palos de la Frontera                                   40.0    11742.0   \n",
       "Trigueros                                              24.0     7862.0   \n",
       "San Juan del Puerto                                    57.0     9411.0   \n",
       "Rociana del Condado                                     6.0     7939.0   \n",
       "Puebla de Guzmán                                       17.0     3092.0   \n",
       "Palma del Condado (La)                                 27.0    10801.0   \n",
       "Aljaraque                                              57.0    21474.0   \n",
       "Gibraleón                                              12.0    12737.0   \n",
       "Lucena del Puerto                                      10.0     3261.0   \n",
       "Punta Umbría                                           31.0    15355.0   \n",
       "Calañas                                                 9.0     2768.0   \n",
       "Bollullos Par del Condado                              46.0    14387.0   \n",
       "Beas                                                    8.0     4341.0   \n",
       "Aracena                                                12.0     8255.0   \n",
       "Isla Cristina                                          21.0    21393.0   \n",
       "Cerro de Andévalo (El)                                  2.0     2327.0   \n",
       "\n",
       "Medida                                  tasa7      tasa14  Diferencia PDIA  \n",
       "Lugar de residencia                                                         \n",
       "Huelva                             106.982092  256.445233            102.0  \n",
       "Huelva-Costa                       112.243911  265.931728             61.0  \n",
       "Huelva (capital)                   165.465075  387.939126             44.0  \n",
       "Condado-Campiña                    111.373543  267.552534             30.0  \n",
       "Sierra de Huelva-Andévalo Central   72.710006  184.000831             11.0  \n",
       "Valverde del Camino                203.921569  517.647059             10.0  \n",
       "Almonte                            118.333537  281.552210             10.0  \n",
       "Lepe                                39.454806  104.017217              6.0  \n",
       "Cartaya                             59.752029  129.462730              5.0  \n",
       "Moguer                             128.046829  320.117071              4.0  \n",
       "Palos de la Frontera               119.230114  340.657469              3.0  \n",
       "Trigueros                          101.755279  305.265836              2.0  \n",
       "San Juan del Puerto                276.272447  605.674211              2.0  \n",
       "Rociana del Condado                 62.980224   75.576269              2.0  \n",
       "Puebla de Guzmán                   323.415265  549.805951              2.0  \n",
       "Palma del Condado (La)             120.359226  249.976854              2.0  \n",
       "Aljaraque                           74.508708  265.437273              2.0  \n",
       "Gibraleón                           39.255712   94.213708              2.0  \n",
       "Lucena del Puerto                  153.327200  306.654400              1.0  \n",
       "Punta Umbría                        39.075220  201.888636              1.0  \n",
       "Calañas                            289.017341  325.144509              1.0  \n",
       "Bollullos Par del Condado          118.162230  319.733092              1.0  \n",
       "Beas                               115.180834  184.289334              1.0  \n",
       "Aracena                             60.569352  145.366445              1.0  \n",
       "Isla Cristina                       60.767541   98.162950              1.0  \n",
       "Cerro de Andévalo (El)              85.947572   85.947572             -1.0  "
      ],
      "text/html": "<div>\n<style scoped>\n    .dataframe tbody tr th:only-of-type {\n        vertical-align: middle;\n    }\n\n    .dataframe tbody tr th {\n        vertical-align: top;\n    }\n\n    .dataframe thead th {\n        text-align: right;\n    }\n</style>\n<table border=\"1\" class=\"dataframe\">\n  <thead>\n    <tr style=\"text-align: right;\">\n      <th>Medida</th>\n      <th>Confirmados PDIA</th>\n      <th>Confirmados PDIA 7 días</th>\n      <th>Confirmados PDIA 14 días</th>\n      <th>Población</th>\n      <th>tasa7</th>\n      <th>tasa14</th>\n      <th>Diferencia PDIA</th>\n    </tr>\n    <tr>\n      <th>Lugar de residencia</th>\n      <th></th>\n      <th></th>\n      <th></th>\n      <th></th>\n      <th></th>\n      <th></th>\n      <th></th>\n    </tr>\n  </thead>\n  <tbody>\n    <tr>\n      <th>Huelva</th>\n      <td>32732.0</td>\n      <td>549.0</td>\n      <td>1316.0</td>\n      <td>513170.0</td>\n      <td>106.982092</td>\n      <td>256.445233</td>\n      <td>102.0</td>\n    </tr>\n    <tr>\n      <th>Huelva-Costa</th>\n      <td>18865.0</td>\n      <td>325.0</td>\n      <td>770.0</td>\n      <td>289548.0</td>\n      <td>112.243911</td>\n      <td>265.931728</td>\n      <td>61.0</td>\n    </tr>\n    <tr>\n      <th>Huelva (capital)</th>\n      <td>8927.0</td>\n      <td>238.0</td>\n      <td>558.0</td>\n      <td>143837.0</td>\n      <td>165.465075</td>\n      <td>387.939126</td>\n      <td>44.0</td>\n    </tr>\n    <tr>\n      <th>Condado-Campiña</th>\n      <td>10620.0</td>\n      <td>174.0</td>\n      <td>418.0</td>\n      <td>156231.0</td>\n      <td>111.373543</td>\n      <td>267.552534</td>\n      <td>30.0</td>\n    </tr>\n    <tr>\n      <th>Sierra de Huelva-Andévalo Central</th>\n      <td>2896.0</td>\n      <td>49.0</td>\n      <td>124.0</td>\n      <td>67391.0</td>\n      <td>72.710006</td>\n      <td>184.000831</td>\n      <td>11.0</td>\n    </tr>\n    <tr>\n      <th>Valverde del Camino</th>\n      <td>645.0</td>\n      <td>26.0</td>\n      <td>66.0</td>\n      <td>12750.0</td>\n      <td>203.921569</td>\n      <td>517.647059</td>\n      <td>10.0</td>\n    </tr>\n    <tr>\n      <th>Almonte</th>\n      <td>1888.0</td>\n      <td>29.0</td>\n      <td>69.0</td>\n      <td>24507.0</td>\n      <td>118.333537</td>\n      <td>281.552210</td>\n      <td>10.0</td>\n    </tr>\n    <tr>\n      <th>Lepe</th>\n      <td>2157.0</td>\n      <td>11.0</td>\n      <td>29.0</td>\n      <td>27880.0</td>\n      <td>39.454806</td>\n      <td>104.017217</td>\n      <td>6.0</td>\n    </tr>\n    <tr>\n      <th>Cartaya</th>\n      <td>1369.0</td>\n      <td>12.0</td>\n      <td>26.0</td>\n      <td>20083.0</td>\n      <td>59.752029</td>\n      <td>129.462730</td>\n      <td>5.0</td>\n    </tr>\n    <tr>\n      <th>Moguer</th>\n      <td>1361.0</td>\n      <td>28.0</td>\n      <td>70.0</td>\n      <td>21867.0</td>\n      <td>128.046829</td>\n      <td>320.117071</td>\n      <td>4.0</td>\n    </tr>\n    <tr>\n      <th>Palos de la Frontera</th>\n      <td>703.0</td>\n      <td>14.0</td>\n      <td>40.0</td>\n      <td>11742.0</td>\n      <td>119.230114</td>\n      <td>340.657469</td>\n      <td>3.0</td>\n    </tr>\n    <tr>\n      <th>Trigueros</th>\n      <td>329.0</td>\n      <td>8.0</td>\n      <td>24.0</td>\n      <td>7862.0</td>\n      <td>101.755279</td>\n      <td>305.265836</td>\n      <td>2.0</td>\n    </tr>\n    <tr>\n      <th>San Juan del Puerto</th>\n      <td>559.0</td>\n      <td>26.0</td>\n      <td>57.0</td>\n      <td>9411.0</td>\n      <td>276.272447</td>\n      <td>605.674211</td>\n      <td>2.0</td>\n    </tr>\n    <tr>\n      <th>Rociana del Condado</th>\n      <td>563.0</td>\n      <td>5.0</td>\n      <td>6.0</td>\n      <td>7939.0</td>\n      <td>62.980224</td>\n      <td>75.576269</td>\n      <td>2.0</td>\n    </tr>\n    <tr>\n      <th>Puebla de Guzmán</th>\n      <td>136.0</td>\n      <td>10.0</td>\n      <td>17.0</td>\n      <td>3092.0</td>\n      <td>323.415265</td>\n      <td>549.805951</td>\n      <td>2.0</td>\n    </tr>\n    <tr>\n      <th>Palma del Condado (La)</th>\n      <td>1179.0</td>\n      <td>13.0</td>\n      <td>27.0</td>\n      <td>10801.0</td>\n      <td>120.359226</td>\n      <td>249.976854</td>\n      <td>2.0</td>\n    </tr>\n    <tr>\n      <th>Aljaraque</th>\n      <td>1157.0</td>\n      <td>16.0</td>\n      <td>57.0</td>\n      <td>21474.0</td>\n      <td>74.508708</td>\n      <td>265.437273</td>\n      <td>2.0</td>\n    </tr>\n    <tr>\n      <th>Gibraleón</th>\n      <td>643.0</td>\n      <td>5.0</td>\n      <td>12.0</td>\n      <td>12737.0</td>\n      <td>39.255712</td>\n      <td>94.213708</td>\n      <td>2.0</td>\n    </tr>\n    <tr>\n      <th>Lucena del Puerto</th>\n      <td>264.0</td>\n      <td>5.0</td>\n      <td>10.0</td>\n      <td>3261.0</td>\n      <td>153.327200</td>\n      <td>306.654400</td>\n      <td>1.0</td>\n    </tr>\n    <tr>\n      <th>Punta Umbría</th>\n      <td>841.0</td>\n      <td>6.0</td>\n      <td>31.0</td>\n      <td>15355.0</td>\n      <td>39.075220</td>\n      <td>201.888636</td>\n      <td>1.0</td>\n    </tr>\n    <tr>\n      <th>Calañas</th>\n      <td>200.0</td>\n      <td>8.0</td>\n      <td>9.0</td>\n      <td>2768.0</td>\n      <td>289.017341</td>\n      <td>325.144509</td>\n      <td>1.0</td>\n    </tr>\n    <tr>\n      <th>Bollullos Par del Condado</th>\n      <td>1023.0</td>\n      <td>17.0</td>\n      <td>46.0</td>\n      <td>14387.0</td>\n      <td>118.162230</td>\n      <td>319.733092</td>\n      <td>1.0</td>\n    </tr>\n    <tr>\n      <th>Beas</th>\n      <td>218.0</td>\n      <td>5.0</td>\n      <td>8.0</td>\n      <td>4341.0</td>\n      <td>115.180834</td>\n      <td>184.289334</td>\n      <td>1.0</td>\n    </tr>\n    <tr>\n      <th>Aracena</th>\n      <td>539.0</td>\n      <td>5.0</td>\n      <td>12.0</td>\n      <td>8255.0</td>\n      <td>60.569352</td>\n      <td>145.366445</td>\n      <td>1.0</td>\n    </tr>\n    <tr>\n      <th>Isla Cristina</th>\n      <td>2171.0</td>\n      <td>13.0</td>\n      <td>21.0</td>\n      <td>21393.0</td>\n      <td>60.767541</td>\n      <td>98.162950</td>\n      <td>1.0</td>\n    </tr>\n    <tr>\n      <th>Cerro de Andévalo (El)</th>\n      <td>147.0</td>\n      <td>2.0</td>\n      <td>2.0</td>\n      <td>2327.0</td>\n      <td>85.947572</td>\n      <td>85.947572</td>\n      <td>-1.0</td>\n    </tr>\n  </tbody>\n</table>\n</div>"
     },
     "metadata": {},
     "execution_count": 15
    }
   ],
   "source": [
    "# Nuevos casos desde la última captura\n",
    "tabla[tabla['Diferencia PDIA'] != 0].sort_values('Diferencia PDIA', ascending=False)"
   ]
  },
  {
   "cell_type": "code",
   "execution_count": 16,
   "metadata": {},
   "outputs": [],
   "source": [
    "if tabla[tabla['Diferencia PDIA'] != 0]['Diferencia PDIA'].sum() != 0:\n",
    "  # Save to csv\n",
    "  tabla.to_csv('covid_huelva.csv', encoding='utf-8', header=True, index=True)  "
   ]
  },
  {
   "cell_type": "code",
   "execution_count": 17,
   "metadata": {},
   "outputs": [
    {
     "output_type": "execute_result",
     "data": {
      "text/plain": [
       "Medida                             Confirmados PDIA  Confirmados PDIA 7 días  \\\n",
       "Lugar de residencia                                                            \n",
       "Cortelazor                                     13.0                      1.0   \n",
       "San Juan del Puerto                           559.0                     26.0   \n",
       "Puebla de Guzmán                              136.0                     10.0   \n",
       "Valverde del Camino                           645.0                     26.0   \n",
       "Huelva (capital)                             8927.0                    238.0   \n",
       "Almendro (El)                                  39.0                      2.0   \n",
       "Palos de la Frontera                          703.0                     14.0   \n",
       "Calañas                                       200.0                      8.0   \n",
       "Moguer                                       1361.0                     28.0   \n",
       "Bollullos Par del Condado                    1023.0                     17.0   \n",
       "Villarrasa                                    180.0                      1.0   \n",
       "Bonares                                       291.0                      6.0   \n",
       "Lucena del Puerto                             264.0                      5.0   \n",
       "Trigueros                                     329.0                      8.0   \n",
       "Alosno                                        179.0                      8.0   \n",
       "Niebla                                        247.0                      7.0   \n",
       "Almonte                                      1888.0                     29.0   \n",
       "Condado-Campiña                             10620.0                    174.0   \n",
       "Huelva-Costa                                18865.0                    325.0   \n",
       "Aljaraque                                    1157.0                     16.0   \n",
       "Huelva                                      32732.0                    549.0   \n",
       "Palma del Condado (La)                       1179.0                     13.0   \n",
       "Punta Umbría                                  841.0                      6.0   \n",
       "Manzanilla                                    103.0                      1.0   \n",
       "Beas                                          218.0                      5.0   \n",
       "Sierra de Huelva-Andévalo Central            2896.0                     49.0   \n",
       "San Bartolomé de la Torre                     305.0                      4.0   \n",
       "Minas de Riotinto                             128.0                      1.0   \n",
       "Aracena                                       539.0                      5.0   \n",
       "Alájar                                         18.0                      1.0   \n",
       "Cartaya                                      1369.0                     12.0   \n",
       "Rosal de la Frontera                           31.0                      1.0   \n",
       "Almonaster la Real                             68.0                      2.0   \n",
       "Lepe                                         2157.0                     11.0   \n",
       "Isla Cristina                                2171.0                     13.0   \n",
       "Gibraleón                                     643.0                      5.0   \n",
       "Cerro de Andévalo (El)                        147.0                      2.0   \n",
       "Rociana del Condado                           563.0                      5.0   \n",
       "Villablanca                                   189.0                      2.0   \n",
       "Ayamonte                                     1330.0                      7.0   \n",
       "Campillo (El)                                  74.0                      1.0   \n",
       "Nerva                                         179.0                      1.0   \n",
       "\n",
       "Medida                             Confirmados PDIA 14 días  Población  \\\n",
       "Lugar de residencia                                                      \n",
       "Cortelazor                                              5.0      299.0   \n",
       "San Juan del Puerto                                    57.0     9411.0   \n",
       "Puebla de Guzmán                                       17.0     3092.0   \n",
       "Valverde del Camino                                    66.0    12750.0   \n",
       "Huelva (capital)                                      558.0   143837.0   \n",
       "Almendro (El)                                           3.0      840.0   \n",
       "Palos de la Frontera                                   40.0    11742.0   \n",
       "Calañas                                                 9.0     2768.0   \n",
       "Moguer                                                 70.0    21867.0   \n",
       "Bollullos Par del Condado                              46.0    14387.0   \n",
       "Villarrasa                                              7.0     2211.0   \n",
       "Bonares                                                19.0     6060.0   \n",
       "Lucena del Puerto                                      10.0     3261.0   \n",
       "Trigueros                                              24.0     7862.0   \n",
       "Alosno                                                 12.0     3933.0   \n",
       "Niebla                                                 12.0     4116.0   \n",
       "Almonte                                                69.0    24507.0   \n",
       "Condado-Campiña                                       418.0   156231.0   \n",
       "Huelva-Costa                                          770.0   289548.0   \n",
       "Aljaraque                                              57.0    21474.0   \n",
       "Huelva                                               1316.0   513170.0   \n",
       "Palma del Condado (La)                                 27.0    10801.0   \n",
       "Punta Umbría                                           31.0    15355.0   \n",
       "Manzanilla                                              4.0     2118.0   \n",
       "Beas                                                    8.0     4341.0   \n",
       "Sierra de Huelva-Andévalo Central                     124.0    67391.0   \n",
       "San Bartolomé de la Torre                               6.0     3761.0   \n",
       "Minas de Riotinto                                       6.0     3812.0   \n",
       "Aracena                                                12.0     8255.0   \n",
       "Alájar                                                  1.0      759.0   \n",
       "Cartaya                                                26.0    20083.0   \n",
       "Rosal de la Frontera                                    2.0     1697.0   \n",
       "Almonaster la Real                                      2.0     1788.0   \n",
       "Lepe                                                   29.0    27880.0   \n",
       "Isla Cristina                                          21.0    21393.0   \n",
       "Gibraleón                                              12.0    12737.0   \n",
       "Cerro de Andévalo (El)                                  2.0     2327.0   \n",
       "Rociana del Condado                                     6.0     7939.0   \n",
       "Villablanca                                             2.0     2885.0   \n",
       "Ayamonte                                               12.0    21104.0   \n",
       "Campillo (El)                                           1.0     2024.0   \n",
       "Nerva                                                   1.0     5169.0   \n",
       "\n",
       "Medida                                  tasa7       tasa14  Diferencia PDIA  \n",
       "Lugar de residencia                                                          \n",
       "Cortelazor                         334.448161  1672.240803              0.0  \n",
       "San Juan del Puerto                276.272447   605.674211              2.0  \n",
       "Puebla de Guzmán                   323.415265   549.805951              2.0  \n",
       "Valverde del Camino                203.921569   517.647059             10.0  \n",
       "Huelva (capital)                   165.465075   387.939126             44.0  \n",
       "Almendro (El)                      238.095238   357.142857              0.0  \n",
       "Palos de la Frontera               119.230114   340.657469              3.0  \n",
       "Calañas                            289.017341   325.144509              1.0  \n",
       "Moguer                             128.046829   320.117071              4.0  \n",
       "Bollullos Par del Condado          118.162230   319.733092              1.0  \n",
       "Villarrasa                          45.228403   316.598824              0.0  \n",
       "Bonares                             99.009901   313.531353              0.0  \n",
       "Lucena del Puerto                  153.327200   306.654400              1.0  \n",
       "Trigueros                          101.755279   305.265836              2.0  \n",
       "Alosno                             203.407068   305.110603              0.0  \n",
       "Niebla                             170.068027   291.545190              0.0  \n",
       "Almonte                            118.333537   281.552210             10.0  \n",
       "Condado-Campiña                    111.373543   267.552534             30.0  \n",
       "Huelva-Costa                       112.243911   265.931728             61.0  \n",
       "Aljaraque                           74.508708   265.437273              2.0  \n",
       "Huelva                             106.982092   256.445233            102.0  \n",
       "Palma del Condado (La)             120.359226   249.976854              2.0  \n",
       "Punta Umbría                        39.075220   201.888636              1.0  \n",
       "Manzanilla                          47.214353   188.857413              0.0  \n",
       "Beas                               115.180834   184.289334              1.0  \n",
       "Sierra de Huelva-Andévalo Central   72.710006   184.000831             11.0  \n",
       "San Bartolomé de la Torre          106.354693   159.532039              0.0  \n",
       "Minas de Riotinto                   26.232949   157.397692              0.0  \n",
       "Aracena                             60.569352   145.366445              1.0  \n",
       "Alájar                             131.752306   131.752306              0.0  \n",
       "Cartaya                             59.752029   129.462730              5.0  \n",
       "Rosal de la Frontera                58.927519   117.855038              0.0  \n",
       "Almonaster la Real                 111.856823   111.856823              0.0  \n",
       "Lepe                                39.454806   104.017217              6.0  \n",
       "Isla Cristina                       60.767541    98.162950              1.0  \n",
       "Gibraleón                           39.255712    94.213708              2.0  \n",
       "Cerro de Andévalo (El)              85.947572    85.947572             -1.0  \n",
       "Rociana del Condado                 62.980224    75.576269              2.0  \n",
       "Villablanca                         69.324090    69.324090              0.0  \n",
       "Ayamonte                            33.169067    56.861259              0.0  \n",
       "Campillo (El)                       49.407115    49.407115              0.0  \n",
       "Nerva                               19.346102    19.346102              0.0  "
      ],
      "text/html": "<div>\n<style scoped>\n    .dataframe tbody tr th:only-of-type {\n        vertical-align: middle;\n    }\n\n    .dataframe tbody tr th {\n        vertical-align: top;\n    }\n\n    .dataframe thead th {\n        text-align: right;\n    }\n</style>\n<table border=\"1\" class=\"dataframe\">\n  <thead>\n    <tr style=\"text-align: right;\">\n      <th>Medida</th>\n      <th>Confirmados PDIA</th>\n      <th>Confirmados PDIA 7 días</th>\n      <th>Confirmados PDIA 14 días</th>\n      <th>Población</th>\n      <th>tasa7</th>\n      <th>tasa14</th>\n      <th>Diferencia PDIA</th>\n    </tr>\n    <tr>\n      <th>Lugar de residencia</th>\n      <th></th>\n      <th></th>\n      <th></th>\n      <th></th>\n      <th></th>\n      <th></th>\n      <th></th>\n    </tr>\n  </thead>\n  <tbody>\n    <tr>\n      <th>Cortelazor</th>\n      <td>13.0</td>\n      <td>1.0</td>\n      <td>5.0</td>\n      <td>299.0</td>\n      <td>334.448161</td>\n      <td>1672.240803</td>\n      <td>0.0</td>\n    </tr>\n    <tr>\n      <th>San Juan del Puerto</th>\n      <td>559.0</td>\n      <td>26.0</td>\n      <td>57.0</td>\n      <td>9411.0</td>\n      <td>276.272447</td>\n      <td>605.674211</td>\n      <td>2.0</td>\n    </tr>\n    <tr>\n      <th>Puebla de Guzmán</th>\n      <td>136.0</td>\n      <td>10.0</td>\n      <td>17.0</td>\n      <td>3092.0</td>\n      <td>323.415265</td>\n      <td>549.805951</td>\n      <td>2.0</td>\n    </tr>\n    <tr>\n      <th>Valverde del Camino</th>\n      <td>645.0</td>\n      <td>26.0</td>\n      <td>66.0</td>\n      <td>12750.0</td>\n      <td>203.921569</td>\n      <td>517.647059</td>\n      <td>10.0</td>\n    </tr>\n    <tr>\n      <th>Huelva (capital)</th>\n      <td>8927.0</td>\n      <td>238.0</td>\n      <td>558.0</td>\n      <td>143837.0</td>\n      <td>165.465075</td>\n      <td>387.939126</td>\n      <td>44.0</td>\n    </tr>\n    <tr>\n      <th>Almendro (El)</th>\n      <td>39.0</td>\n      <td>2.0</td>\n      <td>3.0</td>\n      <td>840.0</td>\n      <td>238.095238</td>\n      <td>357.142857</td>\n      <td>0.0</td>\n    </tr>\n    <tr>\n      <th>Palos de la Frontera</th>\n      <td>703.0</td>\n      <td>14.0</td>\n      <td>40.0</td>\n      <td>11742.0</td>\n      <td>119.230114</td>\n      <td>340.657469</td>\n      <td>3.0</td>\n    </tr>\n    <tr>\n      <th>Calañas</th>\n      <td>200.0</td>\n      <td>8.0</td>\n      <td>9.0</td>\n      <td>2768.0</td>\n      <td>289.017341</td>\n      <td>325.144509</td>\n      <td>1.0</td>\n    </tr>\n    <tr>\n      <th>Moguer</th>\n      <td>1361.0</td>\n      <td>28.0</td>\n      <td>70.0</td>\n      <td>21867.0</td>\n      <td>128.046829</td>\n      <td>320.117071</td>\n      <td>4.0</td>\n    </tr>\n    <tr>\n      <th>Bollullos Par del Condado</th>\n      <td>1023.0</td>\n      <td>17.0</td>\n      <td>46.0</td>\n      <td>14387.0</td>\n      <td>118.162230</td>\n      <td>319.733092</td>\n      <td>1.0</td>\n    </tr>\n    <tr>\n      <th>Villarrasa</th>\n      <td>180.0</td>\n      <td>1.0</td>\n      <td>7.0</td>\n      <td>2211.0</td>\n      <td>45.228403</td>\n      <td>316.598824</td>\n      <td>0.0</td>\n    </tr>\n    <tr>\n      <th>Bonares</th>\n      <td>291.0</td>\n      <td>6.0</td>\n      <td>19.0</td>\n      <td>6060.0</td>\n      <td>99.009901</td>\n      <td>313.531353</td>\n      <td>0.0</td>\n    </tr>\n    <tr>\n      <th>Lucena del Puerto</th>\n      <td>264.0</td>\n      <td>5.0</td>\n      <td>10.0</td>\n      <td>3261.0</td>\n      <td>153.327200</td>\n      <td>306.654400</td>\n      <td>1.0</td>\n    </tr>\n    <tr>\n      <th>Trigueros</th>\n      <td>329.0</td>\n      <td>8.0</td>\n      <td>24.0</td>\n      <td>7862.0</td>\n      <td>101.755279</td>\n      <td>305.265836</td>\n      <td>2.0</td>\n    </tr>\n    <tr>\n      <th>Alosno</th>\n      <td>179.0</td>\n      <td>8.0</td>\n      <td>12.0</td>\n      <td>3933.0</td>\n      <td>203.407068</td>\n      <td>305.110603</td>\n      <td>0.0</td>\n    </tr>\n    <tr>\n      <th>Niebla</th>\n      <td>247.0</td>\n      <td>7.0</td>\n      <td>12.0</td>\n      <td>4116.0</td>\n      <td>170.068027</td>\n      <td>291.545190</td>\n      <td>0.0</td>\n    </tr>\n    <tr>\n      <th>Almonte</th>\n      <td>1888.0</td>\n      <td>29.0</td>\n      <td>69.0</td>\n      <td>24507.0</td>\n      <td>118.333537</td>\n      <td>281.552210</td>\n      <td>10.0</td>\n    </tr>\n    <tr>\n      <th>Condado-Campiña</th>\n      <td>10620.0</td>\n      <td>174.0</td>\n      <td>418.0</td>\n      <td>156231.0</td>\n      <td>111.373543</td>\n      <td>267.552534</td>\n      <td>30.0</td>\n    </tr>\n    <tr>\n      <th>Huelva-Costa</th>\n      <td>18865.0</td>\n      <td>325.0</td>\n      <td>770.0</td>\n      <td>289548.0</td>\n      <td>112.243911</td>\n      <td>265.931728</td>\n      <td>61.0</td>\n    </tr>\n    <tr>\n      <th>Aljaraque</th>\n      <td>1157.0</td>\n      <td>16.0</td>\n      <td>57.0</td>\n      <td>21474.0</td>\n      <td>74.508708</td>\n      <td>265.437273</td>\n      <td>2.0</td>\n    </tr>\n    <tr>\n      <th>Huelva</th>\n      <td>32732.0</td>\n      <td>549.0</td>\n      <td>1316.0</td>\n      <td>513170.0</td>\n      <td>106.982092</td>\n      <td>256.445233</td>\n      <td>102.0</td>\n    </tr>\n    <tr>\n      <th>Palma del Condado (La)</th>\n      <td>1179.0</td>\n      <td>13.0</td>\n      <td>27.0</td>\n      <td>10801.0</td>\n      <td>120.359226</td>\n      <td>249.976854</td>\n      <td>2.0</td>\n    </tr>\n    <tr>\n      <th>Punta Umbría</th>\n      <td>841.0</td>\n      <td>6.0</td>\n      <td>31.0</td>\n      <td>15355.0</td>\n      <td>39.075220</td>\n      <td>201.888636</td>\n      <td>1.0</td>\n    </tr>\n    <tr>\n      <th>Manzanilla</th>\n      <td>103.0</td>\n      <td>1.0</td>\n      <td>4.0</td>\n      <td>2118.0</td>\n      <td>47.214353</td>\n      <td>188.857413</td>\n      <td>0.0</td>\n    </tr>\n    <tr>\n      <th>Beas</th>\n      <td>218.0</td>\n      <td>5.0</td>\n      <td>8.0</td>\n      <td>4341.0</td>\n      <td>115.180834</td>\n      <td>184.289334</td>\n      <td>1.0</td>\n    </tr>\n    <tr>\n      <th>Sierra de Huelva-Andévalo Central</th>\n      <td>2896.0</td>\n      <td>49.0</td>\n      <td>124.0</td>\n      <td>67391.0</td>\n      <td>72.710006</td>\n      <td>184.000831</td>\n      <td>11.0</td>\n    </tr>\n    <tr>\n      <th>San Bartolomé de la Torre</th>\n      <td>305.0</td>\n      <td>4.0</td>\n      <td>6.0</td>\n      <td>3761.0</td>\n      <td>106.354693</td>\n      <td>159.532039</td>\n      <td>0.0</td>\n    </tr>\n    <tr>\n      <th>Minas de Riotinto</th>\n      <td>128.0</td>\n      <td>1.0</td>\n      <td>6.0</td>\n      <td>3812.0</td>\n      <td>26.232949</td>\n      <td>157.397692</td>\n      <td>0.0</td>\n    </tr>\n    <tr>\n      <th>Aracena</th>\n      <td>539.0</td>\n      <td>5.0</td>\n      <td>12.0</td>\n      <td>8255.0</td>\n      <td>60.569352</td>\n      <td>145.366445</td>\n      <td>1.0</td>\n    </tr>\n    <tr>\n      <th>Alájar</th>\n      <td>18.0</td>\n      <td>1.0</td>\n      <td>1.0</td>\n      <td>759.0</td>\n      <td>131.752306</td>\n      <td>131.752306</td>\n      <td>0.0</td>\n    </tr>\n    <tr>\n      <th>Cartaya</th>\n      <td>1369.0</td>\n      <td>12.0</td>\n      <td>26.0</td>\n      <td>20083.0</td>\n      <td>59.752029</td>\n      <td>129.462730</td>\n      <td>5.0</td>\n    </tr>\n    <tr>\n      <th>Rosal de la Frontera</th>\n      <td>31.0</td>\n      <td>1.0</td>\n      <td>2.0</td>\n      <td>1697.0</td>\n      <td>58.927519</td>\n      <td>117.855038</td>\n      <td>0.0</td>\n    </tr>\n    <tr>\n      <th>Almonaster la Real</th>\n      <td>68.0</td>\n      <td>2.0</td>\n      <td>2.0</td>\n      <td>1788.0</td>\n      <td>111.856823</td>\n      <td>111.856823</td>\n      <td>0.0</td>\n    </tr>\n    <tr>\n      <th>Lepe</th>\n      <td>2157.0</td>\n      <td>11.0</td>\n      <td>29.0</td>\n      <td>27880.0</td>\n      <td>39.454806</td>\n      <td>104.017217</td>\n      <td>6.0</td>\n    </tr>\n    <tr>\n      <th>Isla Cristina</th>\n      <td>2171.0</td>\n      <td>13.0</td>\n      <td>21.0</td>\n      <td>21393.0</td>\n      <td>60.767541</td>\n      <td>98.162950</td>\n      <td>1.0</td>\n    </tr>\n    <tr>\n      <th>Gibraleón</th>\n      <td>643.0</td>\n      <td>5.0</td>\n      <td>12.0</td>\n      <td>12737.0</td>\n      <td>39.255712</td>\n      <td>94.213708</td>\n      <td>2.0</td>\n    </tr>\n    <tr>\n      <th>Cerro de Andévalo (El)</th>\n      <td>147.0</td>\n      <td>2.0</td>\n      <td>2.0</td>\n      <td>2327.0</td>\n      <td>85.947572</td>\n      <td>85.947572</td>\n      <td>-1.0</td>\n    </tr>\n    <tr>\n      <th>Rociana del Condado</th>\n      <td>563.0</td>\n      <td>5.0</td>\n      <td>6.0</td>\n      <td>7939.0</td>\n      <td>62.980224</td>\n      <td>75.576269</td>\n      <td>2.0</td>\n    </tr>\n    <tr>\n      <th>Villablanca</th>\n      <td>189.0</td>\n      <td>2.0</td>\n      <td>2.0</td>\n      <td>2885.0</td>\n      <td>69.324090</td>\n      <td>69.324090</td>\n      <td>0.0</td>\n    </tr>\n    <tr>\n      <th>Ayamonte</th>\n      <td>1330.0</td>\n      <td>7.0</td>\n      <td>12.0</td>\n      <td>21104.0</td>\n      <td>33.169067</td>\n      <td>56.861259</td>\n      <td>0.0</td>\n    </tr>\n    <tr>\n      <th>Campillo (El)</th>\n      <td>74.0</td>\n      <td>1.0</td>\n      <td>1.0</td>\n      <td>2024.0</td>\n      <td>49.407115</td>\n      <td>49.407115</td>\n      <td>0.0</td>\n    </tr>\n    <tr>\n      <th>Nerva</th>\n      <td>179.0</td>\n      <td>1.0</td>\n      <td>1.0</td>\n      <td>5169.0</td>\n      <td>19.346102</td>\n      <td>19.346102</td>\n      <td>0.0</td>\n    </tr>\n  </tbody>\n</table>\n</div>"
     },
     "metadata": {},
     "execution_count": 17
    }
   ],
   "source": [
    "tabla.sort_values('tasa14', ascending=False)"
   ]
  },
  {
   "cell_type": "code",
   "execution_count": 18,
   "metadata": {},
   "outputs": [
    {
     "output_type": "execute_result",
     "data": {
      "text/plain": [
       "Medida                             Confirmados PDIA  Confirmados PDIA 7 días  \\\n",
       "Lugar de residencia                                                            \n",
       "Villarrasa                                    180.0                      1.0   \n",
       "Minas de Riotinto                             128.0                      1.0   \n",
       "Punta Umbría                                  841.0                      6.0   \n",
       "Cortelazor                                     13.0                      1.0   \n",
       "Manzanilla                                    103.0                      1.0   \n",
       "Aljaraque                                    1157.0                     16.0   \n",
       "Bonares                                       291.0                      6.0   \n",
       "Trigueros                                     329.0                      8.0   \n",
       "Palos de la Frontera                          703.0                     14.0   \n",
       "Bollullos Par del Condado                    1023.0                     17.0   \n",
       "Lepe                                         2157.0                     11.0   \n",
       "Valverde del Camino                           645.0                     26.0   \n",
       "Sierra de Huelva-Andévalo Central            2896.0                     49.0   \n",
       "Moguer                                       1361.0                     28.0   \n",
       "Condado-Campiña                             10620.0                    174.0   \n",
       "Aracena                                       539.0                      5.0   \n",
       "Gibraleón                                     643.0                      5.0   \n",
       "Huelva                                      32732.0                    549.0   \n",
       "Almonte                                      1888.0                     29.0   \n",
       "Huelva-Costa                                18865.0                    325.0   \n",
       "Huelva (capital)                             8927.0                    238.0   \n",
       "San Juan del Puerto                           559.0                     26.0   \n",
       "Cartaya                                      1369.0                     12.0   \n",
       "Palma del Condado (La)                       1179.0                     13.0   \n",
       "Lucena del Puerto                             264.0                      5.0   \n",
       "Rosal de la Frontera                           31.0                      1.0   \n",
       "Niebla                                        247.0                      7.0   \n",
       "Ayamonte                                     1330.0                      7.0   \n",
       "Puebla de Guzmán                              136.0                     10.0   \n",
       "Isla Cristina                                2171.0                     13.0   \n",
       "Beas                                          218.0                      5.0   \n",
       "Alosno                                        179.0                      8.0   \n",
       "San Bartolomé de la Torre                     305.0                      4.0   \n",
       "Almendro (El)                                  39.0                      2.0   \n",
       "Rociana del Condado                           563.0                      5.0   \n",
       "Calañas                                       200.0                      8.0   \n",
       "Villablanca                                   189.0                      2.0   \n",
       "Almonaster la Real                             68.0                      2.0   \n",
       "Cerro de Andévalo (El)                        147.0                      2.0   \n",
       "Alájar                                         18.0                      1.0   \n",
       "Nerva                                         179.0                      1.0   \n",
       "Campillo (El)                                  74.0                      1.0   \n",
       "\n",
       "Medida                             Confirmados PDIA 14 días  Población  \\\n",
       "Lugar de residencia                                                      \n",
       "Villarrasa                                              7.0     2211.0   \n",
       "Minas de Riotinto                                       6.0     3812.0   \n",
       "Punta Umbría                                           31.0    15355.0   \n",
       "Cortelazor                                              5.0      299.0   \n",
       "Manzanilla                                              4.0     2118.0   \n",
       "Aljaraque                                              57.0    21474.0   \n",
       "Bonares                                                19.0     6060.0   \n",
       "Trigueros                                              24.0     7862.0   \n",
       "Palos de la Frontera                                   40.0    11742.0   \n",
       "Bollullos Par del Condado                              46.0    14387.0   \n",
       "Lepe                                                   29.0    27880.0   \n",
       "Valverde del Camino                                    66.0    12750.0   \n",
       "Sierra de Huelva-Andévalo Central                     124.0    67391.0   \n",
       "Moguer                                                 70.0    21867.0   \n",
       "Condado-Campiña                                       418.0   156231.0   \n",
       "Aracena                                                12.0     8255.0   \n",
       "Gibraleón                                              12.0    12737.0   \n",
       "Huelva                                               1316.0   513170.0   \n",
       "Almonte                                                69.0    24507.0   \n",
       "Huelva-Costa                                          770.0   289548.0   \n",
       "Huelva (capital)                                      558.0   143837.0   \n",
       "San Juan del Puerto                                    57.0     9411.0   \n",
       "Cartaya                                                26.0    20083.0   \n",
       "Palma del Condado (La)                                 27.0    10801.0   \n",
       "Lucena del Puerto                                      10.0     3261.0   \n",
       "Rosal de la Frontera                                    2.0     1697.0   \n",
       "Niebla                                                 12.0     4116.0   \n",
       "Ayamonte                                               12.0    21104.0   \n",
       "Puebla de Guzmán                                       17.0     3092.0   \n",
       "Isla Cristina                                          21.0    21393.0   \n",
       "Beas                                                    8.0     4341.0   \n",
       "Alosno                                                 12.0     3933.0   \n",
       "San Bartolomé de la Torre                               6.0     3761.0   \n",
       "Almendro (El)                                           3.0      840.0   \n",
       "Rociana del Condado                                     6.0     7939.0   \n",
       "Calañas                                                 9.0     2768.0   \n",
       "Villablanca                                             2.0     2885.0   \n",
       "Almonaster la Real                                      2.0     1788.0   \n",
       "Cerro de Andévalo (El)                                  2.0     2327.0   \n",
       "Alájar                                                  1.0      759.0   \n",
       "Nerva                                                   1.0     5169.0   \n",
       "Campillo (El)                                           1.0     2024.0   \n",
       "\n",
       "Medida                                  tasa7       tasa14  Diferencia PDIA  \\\n",
       "Lugar de residencia                                                           \n",
       "Villarrasa                          45.228403   316.598824              0.0   \n",
       "Minas de Riotinto                   26.232949   157.397692              0.0   \n",
       "Punta Umbría                        39.075220   201.888636              1.0   \n",
       "Cortelazor                         334.448161  1672.240803              0.0   \n",
       "Manzanilla                          47.214353   188.857413              0.0   \n",
       "Aljaraque                           74.508708   265.437273              2.0   \n",
       "Bonares                             99.009901   313.531353              0.0   \n",
       "Trigueros                          101.755279   305.265836              2.0   \n",
       "Palos de la Frontera               119.230114   340.657469              3.0   \n",
       "Bollullos Par del Condado          118.162230   319.733092              1.0   \n",
       "Lepe                                39.454806   104.017217              6.0   \n",
       "Valverde del Camino                203.921569   517.647059             10.0   \n",
       "Sierra de Huelva-Andévalo Central   72.710006   184.000831             11.0   \n",
       "Moguer                             128.046829   320.117071              4.0   \n",
       "Condado-Campiña                    111.373543   267.552534             30.0   \n",
       "Aracena                             60.569352   145.366445              1.0   \n",
       "Gibraleón                           39.255712    94.213708              2.0   \n",
       "Huelva                             106.982092   256.445233            102.0   \n",
       "Almonte                            118.333537   281.552210             10.0   \n",
       "Huelva-Costa                       112.243911   265.931728             61.0   \n",
       "Huelva (capital)                   165.465075   387.939126             44.0   \n",
       "San Juan del Puerto                276.272447   605.674211              2.0   \n",
       "Cartaya                             59.752029   129.462730              5.0   \n",
       "Palma del Condado (La)             120.359226   249.976854              2.0   \n",
       "Lucena del Puerto                  153.327200   306.654400              1.0   \n",
       "Rosal de la Frontera                58.927519   117.855038              0.0   \n",
       "Niebla                             170.068027   291.545190              0.0   \n",
       "Ayamonte                            33.169067    56.861259              0.0   \n",
       "Puebla de Guzmán                   323.415265   549.805951              2.0   \n",
       "Isla Cristina                       60.767541    98.162950              1.0   \n",
       "Beas                               115.180834   184.289334              1.0   \n",
       "Alosno                             203.407068   305.110603              0.0   \n",
       "San Bartolomé de la Torre          106.354693   159.532039              0.0   \n",
       "Almendro (El)                      238.095238   357.142857              0.0   \n",
       "Rociana del Condado                 62.980224    75.576269              2.0   \n",
       "Calañas                            289.017341   325.144509              1.0   \n",
       "Villablanca                         69.324090    69.324090              0.0   \n",
       "Almonaster la Real                 111.856823   111.856823              0.0   \n",
       "Cerro de Andévalo (El)              85.947572    85.947572             -1.0   \n",
       "Alájar                             131.752306   131.752306              0.0   \n",
       "Nerva                               19.346102    19.346102              0.0   \n",
       "Campillo (El)                       49.407115    49.407115              0.0   \n",
       "\n",
       "Medida                                 7/14  \n",
       "Lugar de residencia                          \n",
       "Villarrasa                         0.142857  \n",
       "Minas de Riotinto                  0.166667  \n",
       "Punta Umbría                       0.193548  \n",
       "Cortelazor                         0.200000  \n",
       "Manzanilla                         0.250000  \n",
       "Aljaraque                          0.280702  \n",
       "Bonares                            0.315789  \n",
       "Trigueros                          0.333333  \n",
       "Palos de la Frontera               0.350000  \n",
       "Bollullos Par del Condado          0.369565  \n",
       "Lepe                               0.379310  \n",
       "Valverde del Camino                0.393939  \n",
       "Sierra de Huelva-Andévalo Central  0.395161  \n",
       "Moguer                             0.400000  \n",
       "Condado-Campiña                    0.416268  \n",
       "Aracena                            0.416667  \n",
       "Gibraleón                          0.416667  \n",
       "Huelva                             0.417173  \n",
       "Almonte                            0.420290  \n",
       "Huelva-Costa                       0.422078  \n",
       "Huelva (capital)                   0.426523  \n",
       "San Juan del Puerto                0.456140  \n",
       "Cartaya                            0.461538  \n",
       "Palma del Condado (La)             0.481481  \n",
       "Lucena del Puerto                  0.500000  \n",
       "Rosal de la Frontera               0.500000  \n",
       "Niebla                             0.583333  \n",
       "Ayamonte                           0.583333  \n",
       "Puebla de Guzmán                   0.588235  \n",
       "Isla Cristina                      0.619048  \n",
       "Beas                               0.625000  \n",
       "Alosno                             0.666667  \n",
       "San Bartolomé de la Torre          0.666667  \n",
       "Almendro (El)                      0.666667  \n",
       "Rociana del Condado                0.833333  \n",
       "Calañas                            0.888889  \n",
       "Villablanca                        1.000000  \n",
       "Almonaster la Real                 1.000000  \n",
       "Cerro de Andévalo (El)             1.000000  \n",
       "Alájar                             1.000000  \n",
       "Nerva                              1.000000  \n",
       "Campillo (El)                      1.000000  "
      ],
      "text/html": "<div>\n<style scoped>\n    .dataframe tbody tr th:only-of-type {\n        vertical-align: middle;\n    }\n\n    .dataframe tbody tr th {\n        vertical-align: top;\n    }\n\n    .dataframe thead th {\n        text-align: right;\n    }\n</style>\n<table border=\"1\" class=\"dataframe\">\n  <thead>\n    <tr style=\"text-align: right;\">\n      <th>Medida</th>\n      <th>Confirmados PDIA</th>\n      <th>Confirmados PDIA 7 días</th>\n      <th>Confirmados PDIA 14 días</th>\n      <th>Población</th>\n      <th>tasa7</th>\n      <th>tasa14</th>\n      <th>Diferencia PDIA</th>\n      <th>7/14</th>\n    </tr>\n    <tr>\n      <th>Lugar de residencia</th>\n      <th></th>\n      <th></th>\n      <th></th>\n      <th></th>\n      <th></th>\n      <th></th>\n      <th></th>\n      <th></th>\n    </tr>\n  </thead>\n  <tbody>\n    <tr>\n      <th>Villarrasa</th>\n      <td>180.0</td>\n      <td>1.0</td>\n      <td>7.0</td>\n      <td>2211.0</td>\n      <td>45.228403</td>\n      <td>316.598824</td>\n      <td>0.0</td>\n      <td>0.142857</td>\n    </tr>\n    <tr>\n      <th>Minas de Riotinto</th>\n      <td>128.0</td>\n      <td>1.0</td>\n      <td>6.0</td>\n      <td>3812.0</td>\n      <td>26.232949</td>\n      <td>157.397692</td>\n      <td>0.0</td>\n      <td>0.166667</td>\n    </tr>\n    <tr>\n      <th>Punta Umbría</th>\n      <td>841.0</td>\n      <td>6.0</td>\n      <td>31.0</td>\n      <td>15355.0</td>\n      <td>39.075220</td>\n      <td>201.888636</td>\n      <td>1.0</td>\n      <td>0.193548</td>\n    </tr>\n    <tr>\n      <th>Cortelazor</th>\n      <td>13.0</td>\n      <td>1.0</td>\n      <td>5.0</td>\n      <td>299.0</td>\n      <td>334.448161</td>\n      <td>1672.240803</td>\n      <td>0.0</td>\n      <td>0.200000</td>\n    </tr>\n    <tr>\n      <th>Manzanilla</th>\n      <td>103.0</td>\n      <td>1.0</td>\n      <td>4.0</td>\n      <td>2118.0</td>\n      <td>47.214353</td>\n      <td>188.857413</td>\n      <td>0.0</td>\n      <td>0.250000</td>\n    </tr>\n    <tr>\n      <th>Aljaraque</th>\n      <td>1157.0</td>\n      <td>16.0</td>\n      <td>57.0</td>\n      <td>21474.0</td>\n      <td>74.508708</td>\n      <td>265.437273</td>\n      <td>2.0</td>\n      <td>0.280702</td>\n    </tr>\n    <tr>\n      <th>Bonares</th>\n      <td>291.0</td>\n      <td>6.0</td>\n      <td>19.0</td>\n      <td>6060.0</td>\n      <td>99.009901</td>\n      <td>313.531353</td>\n      <td>0.0</td>\n      <td>0.315789</td>\n    </tr>\n    <tr>\n      <th>Trigueros</th>\n      <td>329.0</td>\n      <td>8.0</td>\n      <td>24.0</td>\n      <td>7862.0</td>\n      <td>101.755279</td>\n      <td>305.265836</td>\n      <td>2.0</td>\n      <td>0.333333</td>\n    </tr>\n    <tr>\n      <th>Palos de la Frontera</th>\n      <td>703.0</td>\n      <td>14.0</td>\n      <td>40.0</td>\n      <td>11742.0</td>\n      <td>119.230114</td>\n      <td>340.657469</td>\n      <td>3.0</td>\n      <td>0.350000</td>\n    </tr>\n    <tr>\n      <th>Bollullos Par del Condado</th>\n      <td>1023.0</td>\n      <td>17.0</td>\n      <td>46.0</td>\n      <td>14387.0</td>\n      <td>118.162230</td>\n      <td>319.733092</td>\n      <td>1.0</td>\n      <td>0.369565</td>\n    </tr>\n    <tr>\n      <th>Lepe</th>\n      <td>2157.0</td>\n      <td>11.0</td>\n      <td>29.0</td>\n      <td>27880.0</td>\n      <td>39.454806</td>\n      <td>104.017217</td>\n      <td>6.0</td>\n      <td>0.379310</td>\n    </tr>\n    <tr>\n      <th>Valverde del Camino</th>\n      <td>645.0</td>\n      <td>26.0</td>\n      <td>66.0</td>\n      <td>12750.0</td>\n      <td>203.921569</td>\n      <td>517.647059</td>\n      <td>10.0</td>\n      <td>0.393939</td>\n    </tr>\n    <tr>\n      <th>Sierra de Huelva-Andévalo Central</th>\n      <td>2896.0</td>\n      <td>49.0</td>\n      <td>124.0</td>\n      <td>67391.0</td>\n      <td>72.710006</td>\n      <td>184.000831</td>\n      <td>11.0</td>\n      <td>0.395161</td>\n    </tr>\n    <tr>\n      <th>Moguer</th>\n      <td>1361.0</td>\n      <td>28.0</td>\n      <td>70.0</td>\n      <td>21867.0</td>\n      <td>128.046829</td>\n      <td>320.117071</td>\n      <td>4.0</td>\n      <td>0.400000</td>\n    </tr>\n    <tr>\n      <th>Condado-Campiña</th>\n      <td>10620.0</td>\n      <td>174.0</td>\n      <td>418.0</td>\n      <td>156231.0</td>\n      <td>111.373543</td>\n      <td>267.552534</td>\n      <td>30.0</td>\n      <td>0.416268</td>\n    </tr>\n    <tr>\n      <th>Aracena</th>\n      <td>539.0</td>\n      <td>5.0</td>\n      <td>12.0</td>\n      <td>8255.0</td>\n      <td>60.569352</td>\n      <td>145.366445</td>\n      <td>1.0</td>\n      <td>0.416667</td>\n    </tr>\n    <tr>\n      <th>Gibraleón</th>\n      <td>643.0</td>\n      <td>5.0</td>\n      <td>12.0</td>\n      <td>12737.0</td>\n      <td>39.255712</td>\n      <td>94.213708</td>\n      <td>2.0</td>\n      <td>0.416667</td>\n    </tr>\n    <tr>\n      <th>Huelva</th>\n      <td>32732.0</td>\n      <td>549.0</td>\n      <td>1316.0</td>\n      <td>513170.0</td>\n      <td>106.982092</td>\n      <td>256.445233</td>\n      <td>102.0</td>\n      <td>0.417173</td>\n    </tr>\n    <tr>\n      <th>Almonte</th>\n      <td>1888.0</td>\n      <td>29.0</td>\n      <td>69.0</td>\n      <td>24507.0</td>\n      <td>118.333537</td>\n      <td>281.552210</td>\n      <td>10.0</td>\n      <td>0.420290</td>\n    </tr>\n    <tr>\n      <th>Huelva-Costa</th>\n      <td>18865.0</td>\n      <td>325.0</td>\n      <td>770.0</td>\n      <td>289548.0</td>\n      <td>112.243911</td>\n      <td>265.931728</td>\n      <td>61.0</td>\n      <td>0.422078</td>\n    </tr>\n    <tr>\n      <th>Huelva (capital)</th>\n      <td>8927.0</td>\n      <td>238.0</td>\n      <td>558.0</td>\n      <td>143837.0</td>\n      <td>165.465075</td>\n      <td>387.939126</td>\n      <td>44.0</td>\n      <td>0.426523</td>\n    </tr>\n    <tr>\n      <th>San Juan del Puerto</th>\n      <td>559.0</td>\n      <td>26.0</td>\n      <td>57.0</td>\n      <td>9411.0</td>\n      <td>276.272447</td>\n      <td>605.674211</td>\n      <td>2.0</td>\n      <td>0.456140</td>\n    </tr>\n    <tr>\n      <th>Cartaya</th>\n      <td>1369.0</td>\n      <td>12.0</td>\n      <td>26.0</td>\n      <td>20083.0</td>\n      <td>59.752029</td>\n      <td>129.462730</td>\n      <td>5.0</td>\n      <td>0.461538</td>\n    </tr>\n    <tr>\n      <th>Palma del Condado (La)</th>\n      <td>1179.0</td>\n      <td>13.0</td>\n      <td>27.0</td>\n      <td>10801.0</td>\n      <td>120.359226</td>\n      <td>249.976854</td>\n      <td>2.0</td>\n      <td>0.481481</td>\n    </tr>\n    <tr>\n      <th>Lucena del Puerto</th>\n      <td>264.0</td>\n      <td>5.0</td>\n      <td>10.0</td>\n      <td>3261.0</td>\n      <td>153.327200</td>\n      <td>306.654400</td>\n      <td>1.0</td>\n      <td>0.500000</td>\n    </tr>\n    <tr>\n      <th>Rosal de la Frontera</th>\n      <td>31.0</td>\n      <td>1.0</td>\n      <td>2.0</td>\n      <td>1697.0</td>\n      <td>58.927519</td>\n      <td>117.855038</td>\n      <td>0.0</td>\n      <td>0.500000</td>\n    </tr>\n    <tr>\n      <th>Niebla</th>\n      <td>247.0</td>\n      <td>7.0</td>\n      <td>12.0</td>\n      <td>4116.0</td>\n      <td>170.068027</td>\n      <td>291.545190</td>\n      <td>0.0</td>\n      <td>0.583333</td>\n    </tr>\n    <tr>\n      <th>Ayamonte</th>\n      <td>1330.0</td>\n      <td>7.0</td>\n      <td>12.0</td>\n      <td>21104.0</td>\n      <td>33.169067</td>\n      <td>56.861259</td>\n      <td>0.0</td>\n      <td>0.583333</td>\n    </tr>\n    <tr>\n      <th>Puebla de Guzmán</th>\n      <td>136.0</td>\n      <td>10.0</td>\n      <td>17.0</td>\n      <td>3092.0</td>\n      <td>323.415265</td>\n      <td>549.805951</td>\n      <td>2.0</td>\n      <td>0.588235</td>\n    </tr>\n    <tr>\n      <th>Isla Cristina</th>\n      <td>2171.0</td>\n      <td>13.0</td>\n      <td>21.0</td>\n      <td>21393.0</td>\n      <td>60.767541</td>\n      <td>98.162950</td>\n      <td>1.0</td>\n      <td>0.619048</td>\n    </tr>\n    <tr>\n      <th>Beas</th>\n      <td>218.0</td>\n      <td>5.0</td>\n      <td>8.0</td>\n      <td>4341.0</td>\n      <td>115.180834</td>\n      <td>184.289334</td>\n      <td>1.0</td>\n      <td>0.625000</td>\n    </tr>\n    <tr>\n      <th>Alosno</th>\n      <td>179.0</td>\n      <td>8.0</td>\n      <td>12.0</td>\n      <td>3933.0</td>\n      <td>203.407068</td>\n      <td>305.110603</td>\n      <td>0.0</td>\n      <td>0.666667</td>\n    </tr>\n    <tr>\n      <th>San Bartolomé de la Torre</th>\n      <td>305.0</td>\n      <td>4.0</td>\n      <td>6.0</td>\n      <td>3761.0</td>\n      <td>106.354693</td>\n      <td>159.532039</td>\n      <td>0.0</td>\n      <td>0.666667</td>\n    </tr>\n    <tr>\n      <th>Almendro (El)</th>\n      <td>39.0</td>\n      <td>2.0</td>\n      <td>3.0</td>\n      <td>840.0</td>\n      <td>238.095238</td>\n      <td>357.142857</td>\n      <td>0.0</td>\n      <td>0.666667</td>\n    </tr>\n    <tr>\n      <th>Rociana del Condado</th>\n      <td>563.0</td>\n      <td>5.0</td>\n      <td>6.0</td>\n      <td>7939.0</td>\n      <td>62.980224</td>\n      <td>75.576269</td>\n      <td>2.0</td>\n      <td>0.833333</td>\n    </tr>\n    <tr>\n      <th>Calañas</th>\n      <td>200.0</td>\n      <td>8.0</td>\n      <td>9.0</td>\n      <td>2768.0</td>\n      <td>289.017341</td>\n      <td>325.144509</td>\n      <td>1.0</td>\n      <td>0.888889</td>\n    </tr>\n    <tr>\n      <th>Villablanca</th>\n      <td>189.0</td>\n      <td>2.0</td>\n      <td>2.0</td>\n      <td>2885.0</td>\n      <td>69.324090</td>\n      <td>69.324090</td>\n      <td>0.0</td>\n      <td>1.000000</td>\n    </tr>\n    <tr>\n      <th>Almonaster la Real</th>\n      <td>68.0</td>\n      <td>2.0</td>\n      <td>2.0</td>\n      <td>1788.0</td>\n      <td>111.856823</td>\n      <td>111.856823</td>\n      <td>0.0</td>\n      <td>1.000000</td>\n    </tr>\n    <tr>\n      <th>Cerro de Andévalo (El)</th>\n      <td>147.0</td>\n      <td>2.0</td>\n      <td>2.0</td>\n      <td>2327.0</td>\n      <td>85.947572</td>\n      <td>85.947572</td>\n      <td>-1.0</td>\n      <td>1.000000</td>\n    </tr>\n    <tr>\n      <th>Alájar</th>\n      <td>18.0</td>\n      <td>1.0</td>\n      <td>1.0</td>\n      <td>759.0</td>\n      <td>131.752306</td>\n      <td>131.752306</td>\n      <td>0.0</td>\n      <td>1.000000</td>\n    </tr>\n    <tr>\n      <th>Nerva</th>\n      <td>179.0</td>\n      <td>1.0</td>\n      <td>1.0</td>\n      <td>5169.0</td>\n      <td>19.346102</td>\n      <td>19.346102</td>\n      <td>0.0</td>\n      <td>1.000000</td>\n    </tr>\n    <tr>\n      <th>Campillo (El)</th>\n      <td>74.0</td>\n      <td>1.0</td>\n      <td>1.0</td>\n      <td>2024.0</td>\n      <td>49.407115</td>\n      <td>49.407115</td>\n      <td>0.0</td>\n      <td>1.000000</td>\n    </tr>\n  </tbody>\n</table>\n</div>"
     },
     "metadata": {},
     "execution_count": 18
    }
   ],
   "source": [
    "# Peso de la tasa de la última semana en relación con la tasa a 14 días \n",
    "# Mejor cuanto menor. Valor 1 significa que no había casos antes de 7 días.\n",
    "tabla['7/14'] = tabla['tasa7'] / tabla['tasa14']\n",
    "tabla.fillna(0).sort_values('7/14', ascending=True)"
   ]
  },
  {
   "cell_type": "code",
   "execution_count": null,
   "metadata": {},
   "outputs": [],
   "source": []
  }
 ]
}