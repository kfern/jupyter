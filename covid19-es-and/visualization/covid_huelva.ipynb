{
 "metadata": {
  "language_info": {
   "codemirror_mode": {
    "name": "ipython",
    "version": 3
   },
   "file_extension": ".py",
   "mimetype": "text/x-python",
   "name": "python",
   "nbconvert_exporter": "python",
   "pygments_lexer": "ipython3",
   "version": "3.8.6"
  },
  "orig_nbformat": 2,
  "kernelspec": {
   "name": "python3",
   "display_name": "Python 3",
   "language": "python"
  }
 },
 "nbformat": 4,
 "nbformat_minor": 2,
 "cells": [
  {
   "cell_type": "code",
   "execution_count": 1,
   "metadata": {},
   "outputs": [],
   "source": [
    "import pandas as pd\n",
    "pd.set_option('display.max_rows', None) # Print all rows"
   ]
  },
  {
   "cell_type": "code",
   "execution_count": 2,
   "metadata": {},
   "outputs": [],
   "source": [
    "# FIX SSL: CERTIFICATE_VERIFY_FAILED with Python3\n",
    "# https://stackoverflow.com/a/49174340\n",
    "import ssl\n",
    "\n",
    "ssl._create_default_https_context = ssl._create_unverified_context"
   ]
  },
  {
   "cell_type": "code",
   "execution_count": 3,
   "metadata": {},
   "outputs": [],
   "source": [
    "url = 'https://www.juntadeandalucia.es/institutodeestadisticaycartografia/badea/stpivot/stpivot/Print?cube=013d884c-cfc5-4c21-9e78-e26225682afd&type=3&foto=si&ejecutaDesde=&codConsulta=38668&consTipoVisua=JP'\n",
    "fields = ['Lugar de residencia', 'Medida', 'Valor']\n",
    "df = pd.read_csv(url, delimiter=';', usecols=fields, decimal=',')"
   ]
  },
  {
   "cell_type": "code",
   "execution_count": 4,
   "metadata": {},
   "outputs": [
    {
     "output_type": "execute_result",
     "data": {
      "text/plain": [
       "  Lugar de residencia                    Medida             Valor\n",
       "0              Huelva                 Población            513170\n",
       "1              Huelva          Confirmados PDIA             29017\n",
       "2              Huelva  Confirmados PDIA 14 días              1002\n",
       "3              Huelva         Tasa PDIA 14 días  195,256932400569\n",
       "4              Huelva   Confirmados PDIA 7 días               484\n",
       "5              Huelva        Total Confirmados              29193\n",
       "6              Huelva                   Curados             25632\n",
       "7              Huelva                Fallecidos               369"
      ],
      "text/html": "<div>\n<style scoped>\n    .dataframe tbody tr th:only-of-type {\n        vertical-align: middle;\n    }\n\n    .dataframe tbody tr th {\n        vertical-align: top;\n    }\n\n    .dataframe thead th {\n        text-align: right;\n    }\n</style>\n<table border=\"1\" class=\"dataframe\">\n  <thead>\n    <tr style=\"text-align: right;\">\n      <th></th>\n      <th>Lugar de residencia</th>\n      <th>Medida</th>\n      <th>Valor</th>\n    </tr>\n  </thead>\n  <tbody>\n    <tr>\n      <th>0</th>\n      <td>Huelva</td>\n      <td>Población</td>\n      <td>513170</td>\n    </tr>\n    <tr>\n      <th>1</th>\n      <td>Huelva</td>\n      <td>Confirmados PDIA</td>\n      <td>29017</td>\n    </tr>\n    <tr>\n      <th>2</th>\n      <td>Huelva</td>\n      <td>Confirmados PDIA 14 días</td>\n      <td>1002</td>\n    </tr>\n    <tr>\n      <th>3</th>\n      <td>Huelva</td>\n      <td>Tasa PDIA 14 días</td>\n      <td>195,256932400569</td>\n    </tr>\n    <tr>\n      <th>4</th>\n      <td>Huelva</td>\n      <td>Confirmados PDIA 7 días</td>\n      <td>484</td>\n    </tr>\n    <tr>\n      <th>5</th>\n      <td>Huelva</td>\n      <td>Total Confirmados</td>\n      <td>29193</td>\n    </tr>\n    <tr>\n      <th>6</th>\n      <td>Huelva</td>\n      <td>Curados</td>\n      <td>25632</td>\n    </tr>\n    <tr>\n      <th>7</th>\n      <td>Huelva</td>\n      <td>Fallecidos</td>\n      <td>369</td>\n    </tr>\n  </tbody>\n</table>\n</div>"
     },
     "metadata": {},
     "execution_count": 4
    }
   ],
   "source": [
    "df[df['Lugar de residencia'] == 'Huelva']"
   ]
  },
  {
   "cell_type": "code",
   "execution_count": 5,
   "metadata": {},
   "outputs": [],
   "source": [
    "df['Valor'] = pd.to_numeric(df['Valor'],errors='coerce')"
   ]
  },
  {
   "cell_type": "code",
   "execution_count": 6,
   "metadata": {},
   "outputs": [],
   "source": [
    "dfAnterior = pd.read_csv('covid_huelva.csv', index_col='Lugar de residencia')"
   ]
  },
  {
   "cell_type": "code",
   "execution_count": 7,
   "metadata": {
    "tags": []
   },
   "outputs": [
    {
     "output_type": "stream",
     "name": "stdout",
     "text": [
      "Confirmados PCR en la provincia de Huelva:  29017.0\n",
      "<ipython-input-7-31b732756b19>:2: UserWarning: Boolean Series key will be reindexed to match DataFrame index.\n",
      "  p = df[df['Lugar de residencia'] == 'Huelva'][df['Medida'] == 'Confirmados PDIA']['Valor'].values[0]\n"
     ]
    }
   ],
   "source": [
    "# Confirmados PCR provincia Huelva\n",
    "p = df[df['Lugar de residencia'] == 'Huelva'][df['Medida'] == 'Confirmados PDIA']['Valor'].values[0]\n",
    "print('Confirmados PCR en la provincia de Huelva: ', p)"
   ]
  },
  {
   "cell_type": "code",
   "execution_count": 8,
   "metadata": {
    "tags": []
   },
   "outputs": [
    {
     "output_type": "stream",
     "name": "stdout",
     "text": [
      "Confirmados PCR en Huelva capital:  7555.0\n",
      "<ipython-input-8-e81bfb40e710>:2: UserWarning: Boolean Series key will be reindexed to match DataFrame index.\n",
      "  c = df[df['Lugar de residencia'] == 'Huelva (capital)'][df['Medida'] == 'Confirmados PDIA']['Valor'].values[0]\n"
     ]
    }
   ],
   "source": [
    "# Confirmados PCR Huelva capitalpd\n",
    "c = df[df['Lugar de residencia'] == 'Huelva (capital)'][df['Medida'] == 'Confirmados PDIA']['Valor'].values[0]\n",
    "print('Confirmados PCR en Huelva capital: ', c)"
   ]
  },
  {
   "cell_type": "code",
   "execution_count": 9,
   "metadata": {
    "tags": []
   },
   "outputs": [
    {
     "output_type": "stream",
     "name": "stderr",
     "text": [
      "<ipython-input-9-f09dd2050cc1>:1: UserWarning: Boolean Series key will be reindexed to match DataFrame index.\n  c7 = df[df['Lugar de residencia'] == 'Huelva (capital)'][df['Medida'] == 'Confirmados PDIA 7 días']['Valor'].values[0]\n<ipython-input-9-f09dd2050cc1>:2: UserWarning: Boolean Series key will be reindexed to match DataFrame index.\n  c14 = df[df['Lugar de residencia'] == 'Huelva (capital)'][df['Medida'] == 'Confirmados PDIA 14 días']['Valor'].values[0]\n<ipython-input-9-f09dd2050cc1>:3: UserWarning: Boolean Series key will be reindexed to match DataFrame index.\n  p = df[df['Lugar de residencia'] == 'Huelva (capital)'][df['Medida'] == 'Población']['Valor'].values[0]\n"
     ]
    }
   ],
   "source": [
    "c7 = df[df['Lugar de residencia'] == 'Huelva (capital)'][df['Medida'] == 'Confirmados PDIA 7 días']['Valor'].values[0]\n",
    "c14 = df[df['Lugar de residencia'] == 'Huelva (capital)'][df['Medida'] == 'Confirmados PDIA 14 días']['Valor'].values[0]\n",
    "p = df[df['Lugar de residencia'] == 'Huelva (capital)'][df['Medida'] == 'Población']['Valor'].values[0]"
   ]
  },
  {
   "cell_type": "code",
   "execution_count": 10,
   "metadata": {
    "tags": []
   },
   "outputs": [
    {
     "output_type": "stream",
     "name": "stdout",
     "text": [
      "Huelva (capital)\n\nUn positivo PCR cada 946 personas en los últimos 7 días \n\nUn positivo PCR cada 525 personas en los últimos 14 días\n"
     ]
    }
   ],
   "source": [
    "print('Huelva (capital)\\n')\n",
    "#print('Confirmados PCR 7 días x 1,000 habitantes: ', f\"{c7/(p/1000):.5f}\")\n",
    "print('Un positivo PCR cada', f\"{p/c7:.0f}\", 'personas en los últimos 7 días', '\\n')\n",
    "#print('Confirmados PCR 14 días x 1,000 habitantes: ', f\"{c14/(p/1000):.5f}\")\n",
    "print('Un positivo PCR cada', f\"{p/c14:.0f}\", 'personas en los últimos 14 días')"
   ]
  },
  {
   "cell_type": "code",
   "execution_count": 11,
   "metadata": {},
   "outputs": [],
   "source": [
    "filtro = ((df['Medida'] == 'Confirmados PDIA')| (df['Medida'] == 'Confirmados PDIA 7 días') | (df['Medida'] == 'Población' ) | (df['Medida'] == 'Confirmados PDIA 14 días')) & (df['Valor'] > 0)\n",
    "tabla = pd.pivot_table(df.loc[filtro], values='Valor', index='Lugar de residencia', columns='Medida').dropna()"
   ]
  },
  {
   "cell_type": "code",
   "execution_count": 12,
   "metadata": {},
   "outputs": [],
   "source": [
    "# Reorder columns\n",
    "tabla = tabla[['Confirmados PDIA', 'Confirmados PDIA 7 días', 'Confirmados PDIA 14 días', 'Población']]"
   ]
  },
  {
   "cell_type": "code",
   "execution_count": 13,
   "metadata": {},
   "outputs": [],
   "source": [
    "tabla['tasa7'] = tabla['Confirmados PDIA 7 días']/tabla['Población']*100000\n",
    "tabla['tasa14'] = tabla['Confirmados PDIA 14 días']/tabla['Población']*100000"
   ]
  },
  {
   "cell_type": "code",
   "execution_count": 14,
   "metadata": {},
   "outputs": [],
   "source": [
    "tabla['Diferencia PDIA'] = tabla['Confirmados PDIA'] - dfAnterior['Confirmados PDIA']"
   ]
  },
  {
   "cell_type": "code",
   "execution_count": 15,
   "metadata": {},
   "outputs": [
    {
     "output_type": "execute_result",
     "data": {
      "text/plain": [
       "Medida                             Confirmados PDIA  Confirmados PDIA 7 días  \\\n",
       "Lugar de residencia                                                            \n",
       "Huelva                                      29017.0                    484.0   \n",
       "Huelva-Costa                                16884.0                    234.0   \n",
       "Condado-Campiña                              9213.0                    216.0   \n",
       "Huelva (capital)                             7555.0                    152.0   \n",
       "Almonte                                      1596.0                     85.0   \n",
       "Isla Cristina                                2085.0                     25.0   \n",
       "Cartaya                                      1288.0                     19.0   \n",
       "Sierra de Huelva-Andévalo Central            2576.0                     32.0   \n",
       "Trigueros                                     273.0                      6.0   \n",
       "Bollullos Par del Condado                     861.0                     45.0   \n",
       "Ayamonte                                     1295.0                     11.0   \n",
       "Nerva                                         162.0                      9.0   \n",
       "Moguer                                       1118.0                     16.0   \n",
       "Aljaraque                                    1011.0                     13.0   \n",
       "Gibraleón                                     593.0                      7.0   \n",
       "Galaroza                                       32.0                      5.0   \n",
       "Lepe                                         2085.0                      6.0   \n",
       "Manzanilla                                     86.0                      1.0   \n",
       "Palma del Condado (La)                       1045.0                      8.0   \n",
       "Palos de la Frontera                          598.0                     16.0   \n",
       "Rociana del Condado                           526.0                     11.0   \n",
       "San Juan del Puerto                           455.0                      5.0   \n",
       "Escacena del Campo                            148.0                      4.0   \n",
       "Beas                                          202.0                      4.0   \n",
       "Valverde del Camino                           482.0                      8.0   \n",
       "Villablanca                                   182.0                      2.0   \n",
       "Cortelazor                                      8.0                      1.0   \n",
       "Paterna del Campo                             125.0                      1.0   \n",
       "San Bartolomé de la Torre                     283.0                      1.0   \n",
       "\n",
       "Medida                             Confirmados PDIA 14 días  Población  \\\n",
       "Lugar de residencia                                                      \n",
       "Huelva                                               1002.0   513170.0   \n",
       "Huelva-Costa                                          445.0   289548.0   \n",
       "Condado-Campiña                                       480.0   156231.0   \n",
       "Huelva (capital)                                      274.0   143837.0   \n",
       "Almonte                                               150.0    24507.0   \n",
       "Isla Cristina                                          40.0    21393.0   \n",
       "Cartaya                                                42.0    20083.0   \n",
       "Sierra de Huelva-Andévalo Central                      67.0    67391.0   \n",
       "Trigueros                                              13.0     7862.0   \n",
       "Bollullos Par del Condado                              86.0    14387.0   \n",
       "Ayamonte                                               28.0    21104.0   \n",
       "Nerva                                                   9.0     5169.0   \n",
       "Moguer                                                 56.0    21867.0   \n",
       "Aljaraque                                              20.0    21474.0   \n",
       "Gibraleón                                              12.0    12737.0   \n",
       "Galaroza                                                7.0     1382.0   \n",
       "Lepe                                                   14.0    27880.0   \n",
       "Manzanilla                                              2.0     2118.0   \n",
       "Palma del Condado (La)                                 16.0    10801.0   \n",
       "Palos de la Frontera                                   25.0    11742.0   \n",
       "Rociana del Condado                                    30.0     7939.0   \n",
       "San Juan del Puerto                                    22.0     9411.0   \n",
       "Escacena del Campo                                      5.0     2287.0   \n",
       "Beas                                                   15.0     4341.0   \n",
       "Valverde del Camino                                    18.0    12750.0   \n",
       "Villablanca                                             3.0     2885.0   \n",
       "Cortelazor                                              3.0      299.0   \n",
       "Paterna del Campo                                       1.0     3457.0   \n",
       "San Bartolomé de la Torre                               1.0     3761.0   \n",
       "\n",
       "Medida                                  tasa7       tasa14  Diferencia PDIA  \n",
       "Lugar de residencia                                                          \n",
       "Huelva                              94.315724   195.256932            101.0  \n",
       "Huelva-Costa                        80.815616   153.687817             54.0  \n",
       "Condado-Campiña                    138.256812   307.237360             40.0  \n",
       "Huelva (capital)                   105.675174   190.493406             30.0  \n",
       "Almonte                            346.839678   612.070021             17.0  \n",
       "Isla Cristina                      116.860655   186.977049             10.0  \n",
       "Cartaya                             94.607379   209.132102              6.0  \n",
       "Sierra de Huelva-Andévalo Central   47.484085    99.419804              6.0  \n",
       "Trigueros                           76.316459   165.352328              5.0  \n",
       "Bollullos Par del Condado          312.782373   597.761868              5.0  \n",
       "Ayamonte                            52.122820   132.676270              4.0  \n",
       "Nerva                              174.114916   174.114916              2.0  \n",
       "Moguer                              73.169616   256.093657              2.0  \n",
       "Aljaraque                           60.538325    93.135885              2.0  \n",
       "Gibraleón                           54.957996    94.213708              2.0  \n",
       "Galaroza                           361.794501   506.512301              2.0  \n",
       "Lepe                                21.520803    50.215208              1.0  \n",
       "Manzanilla                          47.214353    94.428706              1.0  \n",
       "Palma del Condado (La)              74.067216   148.134432              1.0  \n",
       "Palos de la Frontera               136.262988   212.910918              1.0  \n",
       "Rociana del Condado                138.556493   377.881345              1.0  \n",
       "San Juan del Puerto                 53.129317   233.768994              1.0  \n",
       "Escacena del Campo                 174.901618   218.627022              1.0  \n",
       "Beas                                92.144667   345.542502              1.0  \n",
       "Valverde del Camino                 62.745098   141.176471              1.0  \n",
       "Villablanca                         69.324090   103.986135              1.0  \n",
       "Cortelazor                         334.448161  1003.344482              NaN  \n",
       "Paterna del Campo                   28.926815    28.926815              NaN  \n",
       "San Bartolomé de la Torre           26.588673    26.588673              NaN  "
      ],
      "text/html": "<div>\n<style scoped>\n    .dataframe tbody tr th:only-of-type {\n        vertical-align: middle;\n    }\n\n    .dataframe tbody tr th {\n        vertical-align: top;\n    }\n\n    .dataframe thead th {\n        text-align: right;\n    }\n</style>\n<table border=\"1\" class=\"dataframe\">\n  <thead>\n    <tr style=\"text-align: right;\">\n      <th>Medida</th>\n      <th>Confirmados PDIA</th>\n      <th>Confirmados PDIA 7 días</th>\n      <th>Confirmados PDIA 14 días</th>\n      <th>Población</th>\n      <th>tasa7</th>\n      <th>tasa14</th>\n      <th>Diferencia PDIA</th>\n    </tr>\n    <tr>\n      <th>Lugar de residencia</th>\n      <th></th>\n      <th></th>\n      <th></th>\n      <th></th>\n      <th></th>\n      <th></th>\n      <th></th>\n    </tr>\n  </thead>\n  <tbody>\n    <tr>\n      <th>Huelva</th>\n      <td>29017.0</td>\n      <td>484.0</td>\n      <td>1002.0</td>\n      <td>513170.0</td>\n      <td>94.315724</td>\n      <td>195.256932</td>\n      <td>101.0</td>\n    </tr>\n    <tr>\n      <th>Huelva-Costa</th>\n      <td>16884.0</td>\n      <td>234.0</td>\n      <td>445.0</td>\n      <td>289548.0</td>\n      <td>80.815616</td>\n      <td>153.687817</td>\n      <td>54.0</td>\n    </tr>\n    <tr>\n      <th>Condado-Campiña</th>\n      <td>9213.0</td>\n      <td>216.0</td>\n      <td>480.0</td>\n      <td>156231.0</td>\n      <td>138.256812</td>\n      <td>307.237360</td>\n      <td>40.0</td>\n    </tr>\n    <tr>\n      <th>Huelva (capital)</th>\n      <td>7555.0</td>\n      <td>152.0</td>\n      <td>274.0</td>\n      <td>143837.0</td>\n      <td>105.675174</td>\n      <td>190.493406</td>\n      <td>30.0</td>\n    </tr>\n    <tr>\n      <th>Almonte</th>\n      <td>1596.0</td>\n      <td>85.0</td>\n      <td>150.0</td>\n      <td>24507.0</td>\n      <td>346.839678</td>\n      <td>612.070021</td>\n      <td>17.0</td>\n    </tr>\n    <tr>\n      <th>Isla Cristina</th>\n      <td>2085.0</td>\n      <td>25.0</td>\n      <td>40.0</td>\n      <td>21393.0</td>\n      <td>116.860655</td>\n      <td>186.977049</td>\n      <td>10.0</td>\n    </tr>\n    <tr>\n      <th>Cartaya</th>\n      <td>1288.0</td>\n      <td>19.0</td>\n      <td>42.0</td>\n      <td>20083.0</td>\n      <td>94.607379</td>\n      <td>209.132102</td>\n      <td>6.0</td>\n    </tr>\n    <tr>\n      <th>Sierra de Huelva-Andévalo Central</th>\n      <td>2576.0</td>\n      <td>32.0</td>\n      <td>67.0</td>\n      <td>67391.0</td>\n      <td>47.484085</td>\n      <td>99.419804</td>\n      <td>6.0</td>\n    </tr>\n    <tr>\n      <th>Trigueros</th>\n      <td>273.0</td>\n      <td>6.0</td>\n      <td>13.0</td>\n      <td>7862.0</td>\n      <td>76.316459</td>\n      <td>165.352328</td>\n      <td>5.0</td>\n    </tr>\n    <tr>\n      <th>Bollullos Par del Condado</th>\n      <td>861.0</td>\n      <td>45.0</td>\n      <td>86.0</td>\n      <td>14387.0</td>\n      <td>312.782373</td>\n      <td>597.761868</td>\n      <td>5.0</td>\n    </tr>\n    <tr>\n      <th>Ayamonte</th>\n      <td>1295.0</td>\n      <td>11.0</td>\n      <td>28.0</td>\n      <td>21104.0</td>\n      <td>52.122820</td>\n      <td>132.676270</td>\n      <td>4.0</td>\n    </tr>\n    <tr>\n      <th>Nerva</th>\n      <td>162.0</td>\n      <td>9.0</td>\n      <td>9.0</td>\n      <td>5169.0</td>\n      <td>174.114916</td>\n      <td>174.114916</td>\n      <td>2.0</td>\n    </tr>\n    <tr>\n      <th>Moguer</th>\n      <td>1118.0</td>\n      <td>16.0</td>\n      <td>56.0</td>\n      <td>21867.0</td>\n      <td>73.169616</td>\n      <td>256.093657</td>\n      <td>2.0</td>\n    </tr>\n    <tr>\n      <th>Aljaraque</th>\n      <td>1011.0</td>\n      <td>13.0</td>\n      <td>20.0</td>\n      <td>21474.0</td>\n      <td>60.538325</td>\n      <td>93.135885</td>\n      <td>2.0</td>\n    </tr>\n    <tr>\n      <th>Gibraleón</th>\n      <td>593.0</td>\n      <td>7.0</td>\n      <td>12.0</td>\n      <td>12737.0</td>\n      <td>54.957996</td>\n      <td>94.213708</td>\n      <td>2.0</td>\n    </tr>\n    <tr>\n      <th>Galaroza</th>\n      <td>32.0</td>\n      <td>5.0</td>\n      <td>7.0</td>\n      <td>1382.0</td>\n      <td>361.794501</td>\n      <td>506.512301</td>\n      <td>2.0</td>\n    </tr>\n    <tr>\n      <th>Lepe</th>\n      <td>2085.0</td>\n      <td>6.0</td>\n      <td>14.0</td>\n      <td>27880.0</td>\n      <td>21.520803</td>\n      <td>50.215208</td>\n      <td>1.0</td>\n    </tr>\n    <tr>\n      <th>Manzanilla</th>\n      <td>86.0</td>\n      <td>1.0</td>\n      <td>2.0</td>\n      <td>2118.0</td>\n      <td>47.214353</td>\n      <td>94.428706</td>\n      <td>1.0</td>\n    </tr>\n    <tr>\n      <th>Palma del Condado (La)</th>\n      <td>1045.0</td>\n      <td>8.0</td>\n      <td>16.0</td>\n      <td>10801.0</td>\n      <td>74.067216</td>\n      <td>148.134432</td>\n      <td>1.0</td>\n    </tr>\n    <tr>\n      <th>Palos de la Frontera</th>\n      <td>598.0</td>\n      <td>16.0</td>\n      <td>25.0</td>\n      <td>11742.0</td>\n      <td>136.262988</td>\n      <td>212.910918</td>\n      <td>1.0</td>\n    </tr>\n    <tr>\n      <th>Rociana del Condado</th>\n      <td>526.0</td>\n      <td>11.0</td>\n      <td>30.0</td>\n      <td>7939.0</td>\n      <td>138.556493</td>\n      <td>377.881345</td>\n      <td>1.0</td>\n    </tr>\n    <tr>\n      <th>San Juan del Puerto</th>\n      <td>455.0</td>\n      <td>5.0</td>\n      <td>22.0</td>\n      <td>9411.0</td>\n      <td>53.129317</td>\n      <td>233.768994</td>\n      <td>1.0</td>\n    </tr>\n    <tr>\n      <th>Escacena del Campo</th>\n      <td>148.0</td>\n      <td>4.0</td>\n      <td>5.0</td>\n      <td>2287.0</td>\n      <td>174.901618</td>\n      <td>218.627022</td>\n      <td>1.0</td>\n    </tr>\n    <tr>\n      <th>Beas</th>\n      <td>202.0</td>\n      <td>4.0</td>\n      <td>15.0</td>\n      <td>4341.0</td>\n      <td>92.144667</td>\n      <td>345.542502</td>\n      <td>1.0</td>\n    </tr>\n    <tr>\n      <th>Valverde del Camino</th>\n      <td>482.0</td>\n      <td>8.0</td>\n      <td>18.0</td>\n      <td>12750.0</td>\n      <td>62.745098</td>\n      <td>141.176471</td>\n      <td>1.0</td>\n    </tr>\n    <tr>\n      <th>Villablanca</th>\n      <td>182.0</td>\n      <td>2.0</td>\n      <td>3.0</td>\n      <td>2885.0</td>\n      <td>69.324090</td>\n      <td>103.986135</td>\n      <td>1.0</td>\n    </tr>\n    <tr>\n      <th>Cortelazor</th>\n      <td>8.0</td>\n      <td>1.0</td>\n      <td>3.0</td>\n      <td>299.0</td>\n      <td>334.448161</td>\n      <td>1003.344482</td>\n      <td>NaN</td>\n    </tr>\n    <tr>\n      <th>Paterna del Campo</th>\n      <td>125.0</td>\n      <td>1.0</td>\n      <td>1.0</td>\n      <td>3457.0</td>\n      <td>28.926815</td>\n      <td>28.926815</td>\n      <td>NaN</td>\n    </tr>\n    <tr>\n      <th>San Bartolomé de la Torre</th>\n      <td>283.0</td>\n      <td>1.0</td>\n      <td>1.0</td>\n      <td>3761.0</td>\n      <td>26.588673</td>\n      <td>26.588673</td>\n      <td>NaN</td>\n    </tr>\n  </tbody>\n</table>\n</div>"
     },
     "metadata": {},
     "execution_count": 15
    }
   ],
   "source": [
    "# Nuevos casos desde la última captura\n",
    "tabla[tabla['Diferencia PDIA'] != 0].sort_values('Diferencia PDIA', ascending=False)"
   ]
  },
  {
   "cell_type": "code",
   "execution_count": 16,
   "metadata": {},
   "outputs": [],
   "source": [
    "if tabla[tabla['Diferencia PDIA'] != 0]['Diferencia PDIA'].sum() != 0:\n",
    "  # Save to csv\n",
    "  tabla.to_csv('covid_huelva.csv', encoding='utf-8', header=True, index=True)  "
   ]
  },
  {
   "cell_type": "code",
   "execution_count": 17,
   "metadata": {},
   "outputs": [
    {
     "output_type": "execute_result",
     "data": {
      "text/plain": [
       "Medida                             Confirmados PDIA  Confirmados PDIA 7 días  \\\n",
       "Lugar de residencia                                                            \n",
       "Cortelazor                                      8.0                      1.0   \n",
       "Lucena del Puerto                             233.0                      1.0   \n",
       "Almonte                                      1596.0                     85.0   \n",
       "Bollullos Par del Condado                     861.0                     45.0   \n",
       "Galaroza                                       32.0                      5.0   \n",
       "Rociana del Condado                           526.0                     11.0   \n",
       "Beas                                          202.0                      4.0   \n",
       "Condado-Campiña                              9213.0                    216.0   \n",
       "Cumbres de San Bartolomé                       11.0                      1.0   \n",
       "Moguer                                       1118.0                     16.0   \n",
       "Bonares                                       257.0                      3.0   \n",
       "Rosal de la Frontera                           29.0                      1.0   \n",
       "San Juan del Puerto                           455.0                      5.0   \n",
       "Escacena del Campo                            148.0                      4.0   \n",
       "Palos de la Frontera                          598.0                     16.0   \n",
       "Santa Ana la Real                              10.0                      1.0   \n",
       "Cartaya                                      1288.0                     19.0   \n",
       "Huelva                                      29017.0                    484.0   \n",
       "Huelva (capital)                             7555.0                    152.0   \n",
       "Isla Cristina                                2085.0                     25.0   \n",
       "Nerva                                         162.0                      9.0   \n",
       "Almonaster la Real                             66.0                      1.0   \n",
       "Trigueros                                     273.0                      6.0   \n",
       "Huelva-Costa                                16884.0                    234.0   \n",
       "Palma del Condado (La)                       1045.0                      8.0   \n",
       "Cabezas Rubias                                 32.0                      1.0   \n",
       "Valverde del Camino                           482.0                      8.0   \n",
       "Punta Umbría                                  718.0                      5.0   \n",
       "Ayamonte                                     1295.0                     11.0   \n",
       "Cortegana                                     200.0                      1.0   \n",
       "Villablanca                                   182.0                      2.0   \n",
       "Sierra de Huelva-Andévalo Central            2576.0                     32.0   \n",
       "Niebla                                        196.0                      2.0   \n",
       "Manzanilla                                     86.0                      1.0   \n",
       "Gibraleón                                     593.0                      7.0   \n",
       "Aljaraque                                    1011.0                     13.0   \n",
       "Aracena                                       513.0                      4.0   \n",
       "Lepe                                         2085.0                      6.0   \n",
       "Paterna del Campo                             125.0                      1.0   \n",
       "San Bartolomé de la Torre                     283.0                      1.0   \n",
       "\n",
       "Medida                             Confirmados PDIA 14 días  Población  \\\n",
       "Lugar de residencia                                                      \n",
       "Cortelazor                                              3.0      299.0   \n",
       "Lucena del Puerto                                      27.0     3261.0   \n",
       "Almonte                                               150.0    24507.0   \n",
       "Bollullos Par del Condado                              86.0    14387.0   \n",
       "Galaroza                                                7.0     1382.0   \n",
       "Rociana del Condado                                    30.0     7939.0   \n",
       "Beas                                                   15.0     4341.0   \n",
       "Condado-Campiña                                       480.0   156231.0   \n",
       "Cumbres de San Bartolomé                                1.0      376.0   \n",
       "Moguer                                                 56.0    21867.0   \n",
       "Bonares                                                15.0     6060.0   \n",
       "Rosal de la Frontera                                    4.0     1697.0   \n",
       "San Juan del Puerto                                    22.0     9411.0   \n",
       "Escacena del Campo                                      5.0     2287.0   \n",
       "Palos de la Frontera                                   25.0    11742.0   \n",
       "Santa Ana la Real                                       1.0      475.0   \n",
       "Cartaya                                                42.0    20083.0   \n",
       "Huelva                                               1002.0   513170.0   \n",
       "Huelva (capital)                                      274.0   143837.0   \n",
       "Isla Cristina                                          40.0    21393.0   \n",
       "Nerva                                                   9.0     5169.0   \n",
       "Almonaster la Real                                      3.0     1788.0   \n",
       "Trigueros                                              13.0     7862.0   \n",
       "Huelva-Costa                                          445.0   289548.0   \n",
       "Palma del Condado (La)                                 16.0    10801.0   \n",
       "Cabezas Rubias                                          1.0      706.0   \n",
       "Valverde del Camino                                    18.0    12750.0   \n",
       "Punta Umbría                                           21.0    15355.0   \n",
       "Ayamonte                                               28.0    21104.0   \n",
       "Cortegana                                               6.0     4602.0   \n",
       "Villablanca                                             3.0     2885.0   \n",
       "Sierra de Huelva-Andévalo Central                      67.0    67391.0   \n",
       "Niebla                                                  4.0     4116.0   \n",
       "Manzanilla                                              2.0     2118.0   \n",
       "Gibraleón                                              12.0    12737.0   \n",
       "Aljaraque                                              20.0    21474.0   \n",
       "Aracena                                                 6.0     8255.0   \n",
       "Lepe                                                   14.0    27880.0   \n",
       "Paterna del Campo                                       1.0     3457.0   \n",
       "San Bartolomé de la Torre                               1.0     3761.0   \n",
       "\n",
       "Medida                                  tasa7       tasa14  Diferencia PDIA  \n",
       "Lugar de residencia                                                          \n",
       "Cortelazor                         334.448161  1003.344482              NaN  \n",
       "Lucena del Puerto                   30.665440   827.966881              0.0  \n",
       "Almonte                            346.839678   612.070021             17.0  \n",
       "Bollullos Par del Condado          312.782373   597.761868              5.0  \n",
       "Galaroza                           361.794501   506.512301              2.0  \n",
       "Rociana del Condado                138.556493   377.881345              1.0  \n",
       "Beas                                92.144667   345.542502              1.0  \n",
       "Condado-Campiña                    138.256812   307.237360             40.0  \n",
       "Cumbres de San Bartolomé           265.957447   265.957447              0.0  \n",
       "Moguer                              73.169616   256.093657              2.0  \n",
       "Bonares                             49.504950   247.524752              0.0  \n",
       "Rosal de la Frontera                58.927519   235.710077              0.0  \n",
       "San Juan del Puerto                 53.129317   233.768994              1.0  \n",
       "Escacena del Campo                 174.901618   218.627022              1.0  \n",
       "Palos de la Frontera               136.262988   212.910918              1.0  \n",
       "Santa Ana la Real                  210.526316   210.526316              0.0  \n",
       "Cartaya                             94.607379   209.132102              6.0  \n",
       "Huelva                              94.315724   195.256932            101.0  \n",
       "Huelva (capital)                   105.675174   190.493406             30.0  \n",
       "Isla Cristina                      116.860655   186.977049             10.0  \n",
       "Nerva                              174.114916   174.114916              2.0  \n",
       "Almonaster la Real                  55.928412   167.785235              0.0  \n",
       "Trigueros                           76.316459   165.352328              5.0  \n",
       "Huelva-Costa                        80.815616   153.687817             54.0  \n",
       "Palma del Condado (La)              74.067216   148.134432              1.0  \n",
       "Cabezas Rubias                     141.643059   141.643059              0.0  \n",
       "Valverde del Camino                 62.745098   141.176471              1.0  \n",
       "Punta Umbría                        32.562683   136.763269              0.0  \n",
       "Ayamonte                            52.122820   132.676270              4.0  \n",
       "Cortegana                           21.729683   130.378096              0.0  \n",
       "Villablanca                         69.324090   103.986135              1.0  \n",
       "Sierra de Huelva-Andévalo Central   47.484085    99.419804              6.0  \n",
       "Niebla                              48.590865    97.181730              0.0  \n",
       "Manzanilla                          47.214353    94.428706              1.0  \n",
       "Gibraleón                           54.957996    94.213708              2.0  \n",
       "Aljaraque                           60.538325    93.135885              2.0  \n",
       "Aracena                             48.455482    72.683222              0.0  \n",
       "Lepe                                21.520803    50.215208              1.0  \n",
       "Paterna del Campo                   28.926815    28.926815              NaN  \n",
       "San Bartolomé de la Torre           26.588673    26.588673              NaN  "
      ],
      "text/html": "<div>\n<style scoped>\n    .dataframe tbody tr th:only-of-type {\n        vertical-align: middle;\n    }\n\n    .dataframe tbody tr th {\n        vertical-align: top;\n    }\n\n    .dataframe thead th {\n        text-align: right;\n    }\n</style>\n<table border=\"1\" class=\"dataframe\">\n  <thead>\n    <tr style=\"text-align: right;\">\n      <th>Medida</th>\n      <th>Confirmados PDIA</th>\n      <th>Confirmados PDIA 7 días</th>\n      <th>Confirmados PDIA 14 días</th>\n      <th>Población</th>\n      <th>tasa7</th>\n      <th>tasa14</th>\n      <th>Diferencia PDIA</th>\n    </tr>\n    <tr>\n      <th>Lugar de residencia</th>\n      <th></th>\n      <th></th>\n      <th></th>\n      <th></th>\n      <th></th>\n      <th></th>\n      <th></th>\n    </tr>\n  </thead>\n  <tbody>\n    <tr>\n      <th>Cortelazor</th>\n      <td>8.0</td>\n      <td>1.0</td>\n      <td>3.0</td>\n      <td>299.0</td>\n      <td>334.448161</td>\n      <td>1003.344482</td>\n      <td>NaN</td>\n    </tr>\n    <tr>\n      <th>Lucena del Puerto</th>\n      <td>233.0</td>\n      <td>1.0</td>\n      <td>27.0</td>\n      <td>3261.0</td>\n      <td>30.665440</td>\n      <td>827.966881</td>\n      <td>0.0</td>\n    </tr>\n    <tr>\n      <th>Almonte</th>\n      <td>1596.0</td>\n      <td>85.0</td>\n      <td>150.0</td>\n      <td>24507.0</td>\n      <td>346.839678</td>\n      <td>612.070021</td>\n      <td>17.0</td>\n    </tr>\n    <tr>\n      <th>Bollullos Par del Condado</th>\n      <td>861.0</td>\n      <td>45.0</td>\n      <td>86.0</td>\n      <td>14387.0</td>\n      <td>312.782373</td>\n      <td>597.761868</td>\n      <td>5.0</td>\n    </tr>\n    <tr>\n      <th>Galaroza</th>\n      <td>32.0</td>\n      <td>5.0</td>\n      <td>7.0</td>\n      <td>1382.0</td>\n      <td>361.794501</td>\n      <td>506.512301</td>\n      <td>2.0</td>\n    </tr>\n    <tr>\n      <th>Rociana del Condado</th>\n      <td>526.0</td>\n      <td>11.0</td>\n      <td>30.0</td>\n      <td>7939.0</td>\n      <td>138.556493</td>\n      <td>377.881345</td>\n      <td>1.0</td>\n    </tr>\n    <tr>\n      <th>Beas</th>\n      <td>202.0</td>\n      <td>4.0</td>\n      <td>15.0</td>\n      <td>4341.0</td>\n      <td>92.144667</td>\n      <td>345.542502</td>\n      <td>1.0</td>\n    </tr>\n    <tr>\n      <th>Condado-Campiña</th>\n      <td>9213.0</td>\n      <td>216.0</td>\n      <td>480.0</td>\n      <td>156231.0</td>\n      <td>138.256812</td>\n      <td>307.237360</td>\n      <td>40.0</td>\n    </tr>\n    <tr>\n      <th>Cumbres de San Bartolomé</th>\n      <td>11.0</td>\n      <td>1.0</td>\n      <td>1.0</td>\n      <td>376.0</td>\n      <td>265.957447</td>\n      <td>265.957447</td>\n      <td>0.0</td>\n    </tr>\n    <tr>\n      <th>Moguer</th>\n      <td>1118.0</td>\n      <td>16.0</td>\n      <td>56.0</td>\n      <td>21867.0</td>\n      <td>73.169616</td>\n      <td>256.093657</td>\n      <td>2.0</td>\n    </tr>\n    <tr>\n      <th>Bonares</th>\n      <td>257.0</td>\n      <td>3.0</td>\n      <td>15.0</td>\n      <td>6060.0</td>\n      <td>49.504950</td>\n      <td>247.524752</td>\n      <td>0.0</td>\n    </tr>\n    <tr>\n      <th>Rosal de la Frontera</th>\n      <td>29.0</td>\n      <td>1.0</td>\n      <td>4.0</td>\n      <td>1697.0</td>\n      <td>58.927519</td>\n      <td>235.710077</td>\n      <td>0.0</td>\n    </tr>\n    <tr>\n      <th>San Juan del Puerto</th>\n      <td>455.0</td>\n      <td>5.0</td>\n      <td>22.0</td>\n      <td>9411.0</td>\n      <td>53.129317</td>\n      <td>233.768994</td>\n      <td>1.0</td>\n    </tr>\n    <tr>\n      <th>Escacena del Campo</th>\n      <td>148.0</td>\n      <td>4.0</td>\n      <td>5.0</td>\n      <td>2287.0</td>\n      <td>174.901618</td>\n      <td>218.627022</td>\n      <td>1.0</td>\n    </tr>\n    <tr>\n      <th>Palos de la Frontera</th>\n      <td>598.0</td>\n      <td>16.0</td>\n      <td>25.0</td>\n      <td>11742.0</td>\n      <td>136.262988</td>\n      <td>212.910918</td>\n      <td>1.0</td>\n    </tr>\n    <tr>\n      <th>Santa Ana la Real</th>\n      <td>10.0</td>\n      <td>1.0</td>\n      <td>1.0</td>\n      <td>475.0</td>\n      <td>210.526316</td>\n      <td>210.526316</td>\n      <td>0.0</td>\n    </tr>\n    <tr>\n      <th>Cartaya</th>\n      <td>1288.0</td>\n      <td>19.0</td>\n      <td>42.0</td>\n      <td>20083.0</td>\n      <td>94.607379</td>\n      <td>209.132102</td>\n      <td>6.0</td>\n    </tr>\n    <tr>\n      <th>Huelva</th>\n      <td>29017.0</td>\n      <td>484.0</td>\n      <td>1002.0</td>\n      <td>513170.0</td>\n      <td>94.315724</td>\n      <td>195.256932</td>\n      <td>101.0</td>\n    </tr>\n    <tr>\n      <th>Huelva (capital)</th>\n      <td>7555.0</td>\n      <td>152.0</td>\n      <td>274.0</td>\n      <td>143837.0</td>\n      <td>105.675174</td>\n      <td>190.493406</td>\n      <td>30.0</td>\n    </tr>\n    <tr>\n      <th>Isla Cristina</th>\n      <td>2085.0</td>\n      <td>25.0</td>\n      <td>40.0</td>\n      <td>21393.0</td>\n      <td>116.860655</td>\n      <td>186.977049</td>\n      <td>10.0</td>\n    </tr>\n    <tr>\n      <th>Nerva</th>\n      <td>162.0</td>\n      <td>9.0</td>\n      <td>9.0</td>\n      <td>5169.0</td>\n      <td>174.114916</td>\n      <td>174.114916</td>\n      <td>2.0</td>\n    </tr>\n    <tr>\n      <th>Almonaster la Real</th>\n      <td>66.0</td>\n      <td>1.0</td>\n      <td>3.0</td>\n      <td>1788.0</td>\n      <td>55.928412</td>\n      <td>167.785235</td>\n      <td>0.0</td>\n    </tr>\n    <tr>\n      <th>Trigueros</th>\n      <td>273.0</td>\n      <td>6.0</td>\n      <td>13.0</td>\n      <td>7862.0</td>\n      <td>76.316459</td>\n      <td>165.352328</td>\n      <td>5.0</td>\n    </tr>\n    <tr>\n      <th>Huelva-Costa</th>\n      <td>16884.0</td>\n      <td>234.0</td>\n      <td>445.0</td>\n      <td>289548.0</td>\n      <td>80.815616</td>\n      <td>153.687817</td>\n      <td>54.0</td>\n    </tr>\n    <tr>\n      <th>Palma del Condado (La)</th>\n      <td>1045.0</td>\n      <td>8.0</td>\n      <td>16.0</td>\n      <td>10801.0</td>\n      <td>74.067216</td>\n      <td>148.134432</td>\n      <td>1.0</td>\n    </tr>\n    <tr>\n      <th>Cabezas Rubias</th>\n      <td>32.0</td>\n      <td>1.0</td>\n      <td>1.0</td>\n      <td>706.0</td>\n      <td>141.643059</td>\n      <td>141.643059</td>\n      <td>0.0</td>\n    </tr>\n    <tr>\n      <th>Valverde del Camino</th>\n      <td>482.0</td>\n      <td>8.0</td>\n      <td>18.0</td>\n      <td>12750.0</td>\n      <td>62.745098</td>\n      <td>141.176471</td>\n      <td>1.0</td>\n    </tr>\n    <tr>\n      <th>Punta Umbría</th>\n      <td>718.0</td>\n      <td>5.0</td>\n      <td>21.0</td>\n      <td>15355.0</td>\n      <td>32.562683</td>\n      <td>136.763269</td>\n      <td>0.0</td>\n    </tr>\n    <tr>\n      <th>Ayamonte</th>\n      <td>1295.0</td>\n      <td>11.0</td>\n      <td>28.0</td>\n      <td>21104.0</td>\n      <td>52.122820</td>\n      <td>132.676270</td>\n      <td>4.0</td>\n    </tr>\n    <tr>\n      <th>Cortegana</th>\n      <td>200.0</td>\n      <td>1.0</td>\n      <td>6.0</td>\n      <td>4602.0</td>\n      <td>21.729683</td>\n      <td>130.378096</td>\n      <td>0.0</td>\n    </tr>\n    <tr>\n      <th>Villablanca</th>\n      <td>182.0</td>\n      <td>2.0</td>\n      <td>3.0</td>\n      <td>2885.0</td>\n      <td>69.324090</td>\n      <td>103.986135</td>\n      <td>1.0</td>\n    </tr>\n    <tr>\n      <th>Sierra de Huelva-Andévalo Central</th>\n      <td>2576.0</td>\n      <td>32.0</td>\n      <td>67.0</td>\n      <td>67391.0</td>\n      <td>47.484085</td>\n      <td>99.419804</td>\n      <td>6.0</td>\n    </tr>\n    <tr>\n      <th>Niebla</th>\n      <td>196.0</td>\n      <td>2.0</td>\n      <td>4.0</td>\n      <td>4116.0</td>\n      <td>48.590865</td>\n      <td>97.181730</td>\n      <td>0.0</td>\n    </tr>\n    <tr>\n      <th>Manzanilla</th>\n      <td>86.0</td>\n      <td>1.0</td>\n      <td>2.0</td>\n      <td>2118.0</td>\n      <td>47.214353</td>\n      <td>94.428706</td>\n      <td>1.0</td>\n    </tr>\n    <tr>\n      <th>Gibraleón</th>\n      <td>593.0</td>\n      <td>7.0</td>\n      <td>12.0</td>\n      <td>12737.0</td>\n      <td>54.957996</td>\n      <td>94.213708</td>\n      <td>2.0</td>\n    </tr>\n    <tr>\n      <th>Aljaraque</th>\n      <td>1011.0</td>\n      <td>13.0</td>\n      <td>20.0</td>\n      <td>21474.0</td>\n      <td>60.538325</td>\n      <td>93.135885</td>\n      <td>2.0</td>\n    </tr>\n    <tr>\n      <th>Aracena</th>\n      <td>513.0</td>\n      <td>4.0</td>\n      <td>6.0</td>\n      <td>8255.0</td>\n      <td>48.455482</td>\n      <td>72.683222</td>\n      <td>0.0</td>\n    </tr>\n    <tr>\n      <th>Lepe</th>\n      <td>2085.0</td>\n      <td>6.0</td>\n      <td>14.0</td>\n      <td>27880.0</td>\n      <td>21.520803</td>\n      <td>50.215208</td>\n      <td>1.0</td>\n    </tr>\n    <tr>\n      <th>Paterna del Campo</th>\n      <td>125.0</td>\n      <td>1.0</td>\n      <td>1.0</td>\n      <td>3457.0</td>\n      <td>28.926815</td>\n      <td>28.926815</td>\n      <td>NaN</td>\n    </tr>\n    <tr>\n      <th>San Bartolomé de la Torre</th>\n      <td>283.0</td>\n      <td>1.0</td>\n      <td>1.0</td>\n      <td>3761.0</td>\n      <td>26.588673</td>\n      <td>26.588673</td>\n      <td>NaN</td>\n    </tr>\n  </tbody>\n</table>\n</div>"
     },
     "metadata": {},
     "execution_count": 17
    }
   ],
   "source": [
    "tabla.sort_values('tasa14', ascending=False)"
   ]
  },
  {
   "cell_type": "code",
   "execution_count": 18,
   "metadata": {},
   "outputs": [
    {
     "output_type": "execute_result",
     "data": {
      "text/plain": [
       "Medida                             Confirmados PDIA  Confirmados PDIA 7 días  \\\n",
       "Lugar de residencia                                                            \n",
       "Lucena del Puerto                             233.0                      1.0   \n",
       "Cortegana                                     200.0                      1.0   \n",
       "Bonares                                       257.0                      3.0   \n",
       "San Juan del Puerto                           455.0                      5.0   \n",
       "Punta Umbría                                  718.0                      5.0   \n",
       "Rosal de la Frontera                           29.0                      1.0   \n",
       "Beas                                          202.0                      4.0   \n",
       "Moguer                                       1118.0                     16.0   \n",
       "Almonaster la Real                             66.0                      1.0   \n",
       "Cortelazor                                      8.0                      1.0   \n",
       "Rociana del Condado                           526.0                     11.0   \n",
       "Ayamonte                                     1295.0                     11.0   \n",
       "Lepe                                         2085.0                      6.0   \n",
       "Valverde del Camino                           482.0                      8.0   \n",
       "Condado-Campiña                              9213.0                    216.0   \n",
       "Cartaya                                      1288.0                     19.0   \n",
       "Trigueros                                     273.0                      6.0   \n",
       "Sierra de Huelva-Andévalo Central            2576.0                     32.0   \n",
       "Huelva                                      29017.0                    484.0   \n",
       "Palma del Condado (La)                       1045.0                      8.0   \n",
       "Manzanilla                                     86.0                      1.0   \n",
       "Niebla                                        196.0                      2.0   \n",
       "Bollullos Par del Condado                     861.0                     45.0   \n",
       "Huelva-Costa                                16884.0                    234.0   \n",
       "Huelva (capital)                             7555.0                    152.0   \n",
       "Almonte                                      1596.0                     85.0   \n",
       "Gibraleón                                     593.0                      7.0   \n",
       "Isla Cristina                                2085.0                     25.0   \n",
       "Palos de la Frontera                          598.0                     16.0   \n",
       "Aljaraque                                    1011.0                     13.0   \n",
       "Aracena                                       513.0                      4.0   \n",
       "Villablanca                                   182.0                      2.0   \n",
       "Galaroza                                       32.0                      5.0   \n",
       "Escacena del Campo                            148.0                      4.0   \n",
       "Nerva                                         162.0                      9.0   \n",
       "San Bartolomé de la Torre                     283.0                      1.0   \n",
       "Cumbres de San Bartolomé                       11.0                      1.0   \n",
       "Santa Ana la Real                              10.0                      1.0   \n",
       "Cabezas Rubias                                 32.0                      1.0   \n",
       "Paterna del Campo                             125.0                      1.0   \n",
       "\n",
       "Medida                             Confirmados PDIA 14 días  Población  \\\n",
       "Lugar de residencia                                                      \n",
       "Lucena del Puerto                                      27.0     3261.0   \n",
       "Cortegana                                               6.0     4602.0   \n",
       "Bonares                                                15.0     6060.0   \n",
       "San Juan del Puerto                                    22.0     9411.0   \n",
       "Punta Umbría                                           21.0    15355.0   \n",
       "Rosal de la Frontera                                    4.0     1697.0   \n",
       "Beas                                                   15.0     4341.0   \n",
       "Moguer                                                 56.0    21867.0   \n",
       "Almonaster la Real                                      3.0     1788.0   \n",
       "Cortelazor                                              3.0      299.0   \n",
       "Rociana del Condado                                    30.0     7939.0   \n",
       "Ayamonte                                               28.0    21104.0   \n",
       "Lepe                                                   14.0    27880.0   \n",
       "Valverde del Camino                                    18.0    12750.0   \n",
       "Condado-Campiña                                       480.0   156231.0   \n",
       "Cartaya                                                42.0    20083.0   \n",
       "Trigueros                                              13.0     7862.0   \n",
       "Sierra de Huelva-Andévalo Central                      67.0    67391.0   \n",
       "Huelva                                               1002.0   513170.0   \n",
       "Palma del Condado (La)                                 16.0    10801.0   \n",
       "Manzanilla                                              2.0     2118.0   \n",
       "Niebla                                                  4.0     4116.0   \n",
       "Bollullos Par del Condado                              86.0    14387.0   \n",
       "Huelva-Costa                                          445.0   289548.0   \n",
       "Huelva (capital)                                      274.0   143837.0   \n",
       "Almonte                                               150.0    24507.0   \n",
       "Gibraleón                                              12.0    12737.0   \n",
       "Isla Cristina                                          40.0    21393.0   \n",
       "Palos de la Frontera                                   25.0    11742.0   \n",
       "Aljaraque                                              20.0    21474.0   \n",
       "Aracena                                                 6.0     8255.0   \n",
       "Villablanca                                             3.0     2885.0   \n",
       "Galaroza                                                7.0     1382.0   \n",
       "Escacena del Campo                                      5.0     2287.0   \n",
       "Nerva                                                   9.0     5169.0   \n",
       "San Bartolomé de la Torre                               1.0     3761.0   \n",
       "Cumbres de San Bartolomé                                1.0      376.0   \n",
       "Santa Ana la Real                                       1.0      475.0   \n",
       "Cabezas Rubias                                          1.0      706.0   \n",
       "Paterna del Campo                                       1.0     3457.0   \n",
       "\n",
       "Medida                                  tasa7       tasa14  Diferencia PDIA  \\\n",
       "Lugar de residencia                                                           \n",
       "Lucena del Puerto                   30.665440   827.966881              0.0   \n",
       "Cortegana                           21.729683   130.378096              0.0   \n",
       "Bonares                             49.504950   247.524752              0.0   \n",
       "San Juan del Puerto                 53.129317   233.768994              1.0   \n",
       "Punta Umbría                        32.562683   136.763269              0.0   \n",
       "Rosal de la Frontera                58.927519   235.710077              0.0   \n",
       "Beas                                92.144667   345.542502              1.0   \n",
       "Moguer                              73.169616   256.093657              2.0   \n",
       "Almonaster la Real                  55.928412   167.785235              0.0   \n",
       "Cortelazor                         334.448161  1003.344482              0.0   \n",
       "Rociana del Condado                138.556493   377.881345              1.0   \n",
       "Ayamonte                            52.122820   132.676270              4.0   \n",
       "Lepe                                21.520803    50.215208              1.0   \n",
       "Valverde del Camino                 62.745098   141.176471              1.0   \n",
       "Condado-Campiña                    138.256812   307.237360             40.0   \n",
       "Cartaya                             94.607379   209.132102              6.0   \n",
       "Trigueros                           76.316459   165.352328              5.0   \n",
       "Sierra de Huelva-Andévalo Central   47.484085    99.419804              6.0   \n",
       "Huelva                              94.315724   195.256932            101.0   \n",
       "Palma del Condado (La)              74.067216   148.134432              1.0   \n",
       "Manzanilla                          47.214353    94.428706              1.0   \n",
       "Niebla                              48.590865    97.181730              0.0   \n",
       "Bollullos Par del Condado          312.782373   597.761868              5.0   \n",
       "Huelva-Costa                        80.815616   153.687817             54.0   \n",
       "Huelva (capital)                   105.675174   190.493406             30.0   \n",
       "Almonte                            346.839678   612.070021             17.0   \n",
       "Gibraleón                           54.957996    94.213708              2.0   \n",
       "Isla Cristina                      116.860655   186.977049             10.0   \n",
       "Palos de la Frontera               136.262988   212.910918              1.0   \n",
       "Aljaraque                           60.538325    93.135885              2.0   \n",
       "Aracena                             48.455482    72.683222              0.0   \n",
       "Villablanca                         69.324090   103.986135              1.0   \n",
       "Galaroza                           361.794501   506.512301              2.0   \n",
       "Escacena del Campo                 174.901618   218.627022              1.0   \n",
       "Nerva                              174.114916   174.114916              2.0   \n",
       "San Bartolomé de la Torre           26.588673    26.588673              0.0   \n",
       "Cumbres de San Bartolomé           265.957447   265.957447              0.0   \n",
       "Santa Ana la Real                  210.526316   210.526316              0.0   \n",
       "Cabezas Rubias                     141.643059   141.643059              0.0   \n",
       "Paterna del Campo                   28.926815    28.926815              0.0   \n",
       "\n",
       "Medida                                 7/14  \n",
       "Lugar de residencia                          \n",
       "Lucena del Puerto                  0.037037  \n",
       "Cortegana                          0.166667  \n",
       "Bonares                            0.200000  \n",
       "San Juan del Puerto                0.227273  \n",
       "Punta Umbría                       0.238095  \n",
       "Rosal de la Frontera               0.250000  \n",
       "Beas                               0.266667  \n",
       "Moguer                             0.285714  \n",
       "Almonaster la Real                 0.333333  \n",
       "Cortelazor                         0.333333  \n",
       "Rociana del Condado                0.366667  \n",
       "Ayamonte                           0.392857  \n",
       "Lepe                               0.428571  \n",
       "Valverde del Camino                0.444444  \n",
       "Condado-Campiña                    0.450000  \n",
       "Cartaya                            0.452381  \n",
       "Trigueros                          0.461538  \n",
       "Sierra de Huelva-Andévalo Central  0.477612  \n",
       "Huelva                             0.483034  \n",
       "Palma del Condado (La)             0.500000  \n",
       "Manzanilla                         0.500000  \n",
       "Niebla                             0.500000  \n",
       "Bollullos Par del Condado          0.523256  \n",
       "Huelva-Costa                       0.525843  \n",
       "Huelva (capital)                   0.554745  \n",
       "Almonte                            0.566667  \n",
       "Gibraleón                          0.583333  \n",
       "Isla Cristina                      0.625000  \n",
       "Palos de la Frontera               0.640000  \n",
       "Aljaraque                          0.650000  \n",
       "Aracena                            0.666667  \n",
       "Villablanca                        0.666667  \n",
       "Galaroza                           0.714286  \n",
       "Escacena del Campo                 0.800000  \n",
       "Nerva                              1.000000  \n",
       "San Bartolomé de la Torre          1.000000  \n",
       "Cumbres de San Bartolomé           1.000000  \n",
       "Santa Ana la Real                  1.000000  \n",
       "Cabezas Rubias                     1.000000  \n",
       "Paterna del Campo                  1.000000  "
      ],
      "text/html": "<div>\n<style scoped>\n    .dataframe tbody tr th:only-of-type {\n        vertical-align: middle;\n    }\n\n    .dataframe tbody tr th {\n        vertical-align: top;\n    }\n\n    .dataframe thead th {\n        text-align: right;\n    }\n</style>\n<table border=\"1\" class=\"dataframe\">\n  <thead>\n    <tr style=\"text-align: right;\">\n      <th>Medida</th>\n      <th>Confirmados PDIA</th>\n      <th>Confirmados PDIA 7 días</th>\n      <th>Confirmados PDIA 14 días</th>\n      <th>Población</th>\n      <th>tasa7</th>\n      <th>tasa14</th>\n      <th>Diferencia PDIA</th>\n      <th>7/14</th>\n    </tr>\n    <tr>\n      <th>Lugar de residencia</th>\n      <th></th>\n      <th></th>\n      <th></th>\n      <th></th>\n      <th></th>\n      <th></th>\n      <th></th>\n      <th></th>\n    </tr>\n  </thead>\n  <tbody>\n    <tr>\n      <th>Lucena del Puerto</th>\n      <td>233.0</td>\n      <td>1.0</td>\n      <td>27.0</td>\n      <td>3261.0</td>\n      <td>30.665440</td>\n      <td>827.966881</td>\n      <td>0.0</td>\n      <td>0.037037</td>\n    </tr>\n    <tr>\n      <th>Cortegana</th>\n      <td>200.0</td>\n      <td>1.0</td>\n      <td>6.0</td>\n      <td>4602.0</td>\n      <td>21.729683</td>\n      <td>130.378096</td>\n      <td>0.0</td>\n      <td>0.166667</td>\n    </tr>\n    <tr>\n      <th>Bonares</th>\n      <td>257.0</td>\n      <td>3.0</td>\n      <td>15.0</td>\n      <td>6060.0</td>\n      <td>49.504950</td>\n      <td>247.524752</td>\n      <td>0.0</td>\n      <td>0.200000</td>\n    </tr>\n    <tr>\n      <th>San Juan del Puerto</th>\n      <td>455.0</td>\n      <td>5.0</td>\n      <td>22.0</td>\n      <td>9411.0</td>\n      <td>53.129317</td>\n      <td>233.768994</td>\n      <td>1.0</td>\n      <td>0.227273</td>\n    </tr>\n    <tr>\n      <th>Punta Umbría</th>\n      <td>718.0</td>\n      <td>5.0</td>\n      <td>21.0</td>\n      <td>15355.0</td>\n      <td>32.562683</td>\n      <td>136.763269</td>\n      <td>0.0</td>\n      <td>0.238095</td>\n    </tr>\n    <tr>\n      <th>Rosal de la Frontera</th>\n      <td>29.0</td>\n      <td>1.0</td>\n      <td>4.0</td>\n      <td>1697.0</td>\n      <td>58.927519</td>\n      <td>235.710077</td>\n      <td>0.0</td>\n      <td>0.250000</td>\n    </tr>\n    <tr>\n      <th>Beas</th>\n      <td>202.0</td>\n      <td>4.0</td>\n      <td>15.0</td>\n      <td>4341.0</td>\n      <td>92.144667</td>\n      <td>345.542502</td>\n      <td>1.0</td>\n      <td>0.266667</td>\n    </tr>\n    <tr>\n      <th>Moguer</th>\n      <td>1118.0</td>\n      <td>16.0</td>\n      <td>56.0</td>\n      <td>21867.0</td>\n      <td>73.169616</td>\n      <td>256.093657</td>\n      <td>2.0</td>\n      <td>0.285714</td>\n    </tr>\n    <tr>\n      <th>Almonaster la Real</th>\n      <td>66.0</td>\n      <td>1.0</td>\n      <td>3.0</td>\n      <td>1788.0</td>\n      <td>55.928412</td>\n      <td>167.785235</td>\n      <td>0.0</td>\n      <td>0.333333</td>\n    </tr>\n    <tr>\n      <th>Cortelazor</th>\n      <td>8.0</td>\n      <td>1.0</td>\n      <td>3.0</td>\n      <td>299.0</td>\n      <td>334.448161</td>\n      <td>1003.344482</td>\n      <td>0.0</td>\n      <td>0.333333</td>\n    </tr>\n    <tr>\n      <th>Rociana del Condado</th>\n      <td>526.0</td>\n      <td>11.0</td>\n      <td>30.0</td>\n      <td>7939.0</td>\n      <td>138.556493</td>\n      <td>377.881345</td>\n      <td>1.0</td>\n      <td>0.366667</td>\n    </tr>\n    <tr>\n      <th>Ayamonte</th>\n      <td>1295.0</td>\n      <td>11.0</td>\n      <td>28.0</td>\n      <td>21104.0</td>\n      <td>52.122820</td>\n      <td>132.676270</td>\n      <td>4.0</td>\n      <td>0.392857</td>\n    </tr>\n    <tr>\n      <th>Lepe</th>\n      <td>2085.0</td>\n      <td>6.0</td>\n      <td>14.0</td>\n      <td>27880.0</td>\n      <td>21.520803</td>\n      <td>50.215208</td>\n      <td>1.0</td>\n      <td>0.428571</td>\n    </tr>\n    <tr>\n      <th>Valverde del Camino</th>\n      <td>482.0</td>\n      <td>8.0</td>\n      <td>18.0</td>\n      <td>12750.0</td>\n      <td>62.745098</td>\n      <td>141.176471</td>\n      <td>1.0</td>\n      <td>0.444444</td>\n    </tr>\n    <tr>\n      <th>Condado-Campiña</th>\n      <td>9213.0</td>\n      <td>216.0</td>\n      <td>480.0</td>\n      <td>156231.0</td>\n      <td>138.256812</td>\n      <td>307.237360</td>\n      <td>40.0</td>\n      <td>0.450000</td>\n    </tr>\n    <tr>\n      <th>Cartaya</th>\n      <td>1288.0</td>\n      <td>19.0</td>\n      <td>42.0</td>\n      <td>20083.0</td>\n      <td>94.607379</td>\n      <td>209.132102</td>\n      <td>6.0</td>\n      <td>0.452381</td>\n    </tr>\n    <tr>\n      <th>Trigueros</th>\n      <td>273.0</td>\n      <td>6.0</td>\n      <td>13.0</td>\n      <td>7862.0</td>\n      <td>76.316459</td>\n      <td>165.352328</td>\n      <td>5.0</td>\n      <td>0.461538</td>\n    </tr>\n    <tr>\n      <th>Sierra de Huelva-Andévalo Central</th>\n      <td>2576.0</td>\n      <td>32.0</td>\n      <td>67.0</td>\n      <td>67391.0</td>\n      <td>47.484085</td>\n      <td>99.419804</td>\n      <td>6.0</td>\n      <td>0.477612</td>\n    </tr>\n    <tr>\n      <th>Huelva</th>\n      <td>29017.0</td>\n      <td>484.0</td>\n      <td>1002.0</td>\n      <td>513170.0</td>\n      <td>94.315724</td>\n      <td>195.256932</td>\n      <td>101.0</td>\n      <td>0.483034</td>\n    </tr>\n    <tr>\n      <th>Palma del Condado (La)</th>\n      <td>1045.0</td>\n      <td>8.0</td>\n      <td>16.0</td>\n      <td>10801.0</td>\n      <td>74.067216</td>\n      <td>148.134432</td>\n      <td>1.0</td>\n      <td>0.500000</td>\n    </tr>\n    <tr>\n      <th>Manzanilla</th>\n      <td>86.0</td>\n      <td>1.0</td>\n      <td>2.0</td>\n      <td>2118.0</td>\n      <td>47.214353</td>\n      <td>94.428706</td>\n      <td>1.0</td>\n      <td>0.500000</td>\n    </tr>\n    <tr>\n      <th>Niebla</th>\n      <td>196.0</td>\n      <td>2.0</td>\n      <td>4.0</td>\n      <td>4116.0</td>\n      <td>48.590865</td>\n      <td>97.181730</td>\n      <td>0.0</td>\n      <td>0.500000</td>\n    </tr>\n    <tr>\n      <th>Bollullos Par del Condado</th>\n      <td>861.0</td>\n      <td>45.0</td>\n      <td>86.0</td>\n      <td>14387.0</td>\n      <td>312.782373</td>\n      <td>597.761868</td>\n      <td>5.0</td>\n      <td>0.523256</td>\n    </tr>\n    <tr>\n      <th>Huelva-Costa</th>\n      <td>16884.0</td>\n      <td>234.0</td>\n      <td>445.0</td>\n      <td>289548.0</td>\n      <td>80.815616</td>\n      <td>153.687817</td>\n      <td>54.0</td>\n      <td>0.525843</td>\n    </tr>\n    <tr>\n      <th>Huelva (capital)</th>\n      <td>7555.0</td>\n      <td>152.0</td>\n      <td>274.0</td>\n      <td>143837.0</td>\n      <td>105.675174</td>\n      <td>190.493406</td>\n      <td>30.0</td>\n      <td>0.554745</td>\n    </tr>\n    <tr>\n      <th>Almonte</th>\n      <td>1596.0</td>\n      <td>85.0</td>\n      <td>150.0</td>\n      <td>24507.0</td>\n      <td>346.839678</td>\n      <td>612.070021</td>\n      <td>17.0</td>\n      <td>0.566667</td>\n    </tr>\n    <tr>\n      <th>Gibraleón</th>\n      <td>593.0</td>\n      <td>7.0</td>\n      <td>12.0</td>\n      <td>12737.0</td>\n      <td>54.957996</td>\n      <td>94.213708</td>\n      <td>2.0</td>\n      <td>0.583333</td>\n    </tr>\n    <tr>\n      <th>Isla Cristina</th>\n      <td>2085.0</td>\n      <td>25.0</td>\n      <td>40.0</td>\n      <td>21393.0</td>\n      <td>116.860655</td>\n      <td>186.977049</td>\n      <td>10.0</td>\n      <td>0.625000</td>\n    </tr>\n    <tr>\n      <th>Palos de la Frontera</th>\n      <td>598.0</td>\n      <td>16.0</td>\n      <td>25.0</td>\n      <td>11742.0</td>\n      <td>136.262988</td>\n      <td>212.910918</td>\n      <td>1.0</td>\n      <td>0.640000</td>\n    </tr>\n    <tr>\n      <th>Aljaraque</th>\n      <td>1011.0</td>\n      <td>13.0</td>\n      <td>20.0</td>\n      <td>21474.0</td>\n      <td>60.538325</td>\n      <td>93.135885</td>\n      <td>2.0</td>\n      <td>0.650000</td>\n    </tr>\n    <tr>\n      <th>Aracena</th>\n      <td>513.0</td>\n      <td>4.0</td>\n      <td>6.0</td>\n      <td>8255.0</td>\n      <td>48.455482</td>\n      <td>72.683222</td>\n      <td>0.0</td>\n      <td>0.666667</td>\n    </tr>\n    <tr>\n      <th>Villablanca</th>\n      <td>182.0</td>\n      <td>2.0</td>\n      <td>3.0</td>\n      <td>2885.0</td>\n      <td>69.324090</td>\n      <td>103.986135</td>\n      <td>1.0</td>\n      <td>0.666667</td>\n    </tr>\n    <tr>\n      <th>Galaroza</th>\n      <td>32.0</td>\n      <td>5.0</td>\n      <td>7.0</td>\n      <td>1382.0</td>\n      <td>361.794501</td>\n      <td>506.512301</td>\n      <td>2.0</td>\n      <td>0.714286</td>\n    </tr>\n    <tr>\n      <th>Escacena del Campo</th>\n      <td>148.0</td>\n      <td>4.0</td>\n      <td>5.0</td>\n      <td>2287.0</td>\n      <td>174.901618</td>\n      <td>218.627022</td>\n      <td>1.0</td>\n      <td>0.800000</td>\n    </tr>\n    <tr>\n      <th>Nerva</th>\n      <td>162.0</td>\n      <td>9.0</td>\n      <td>9.0</td>\n      <td>5169.0</td>\n      <td>174.114916</td>\n      <td>174.114916</td>\n      <td>2.0</td>\n      <td>1.000000</td>\n    </tr>\n    <tr>\n      <th>San Bartolomé de la Torre</th>\n      <td>283.0</td>\n      <td>1.0</td>\n      <td>1.0</td>\n      <td>3761.0</td>\n      <td>26.588673</td>\n      <td>26.588673</td>\n      <td>0.0</td>\n      <td>1.000000</td>\n    </tr>\n    <tr>\n      <th>Cumbres de San Bartolomé</th>\n      <td>11.0</td>\n      <td>1.0</td>\n      <td>1.0</td>\n      <td>376.0</td>\n      <td>265.957447</td>\n      <td>265.957447</td>\n      <td>0.0</td>\n      <td>1.000000</td>\n    </tr>\n    <tr>\n      <th>Santa Ana la Real</th>\n      <td>10.0</td>\n      <td>1.0</td>\n      <td>1.0</td>\n      <td>475.0</td>\n      <td>210.526316</td>\n      <td>210.526316</td>\n      <td>0.0</td>\n      <td>1.000000</td>\n    </tr>\n    <tr>\n      <th>Cabezas Rubias</th>\n      <td>32.0</td>\n      <td>1.0</td>\n      <td>1.0</td>\n      <td>706.0</td>\n      <td>141.643059</td>\n      <td>141.643059</td>\n      <td>0.0</td>\n      <td>1.000000</td>\n    </tr>\n    <tr>\n      <th>Paterna del Campo</th>\n      <td>125.0</td>\n      <td>1.0</td>\n      <td>1.0</td>\n      <td>3457.0</td>\n      <td>28.926815</td>\n      <td>28.926815</td>\n      <td>0.0</td>\n      <td>1.000000</td>\n    </tr>\n  </tbody>\n</table>\n</div>"
     },
     "metadata": {},
     "execution_count": 18
    }
   ],
   "source": [
    "# Peso de la tasa de la última semana en relación con la tasa a 14 días \n",
    "# Mejor cuanto menor. Valor 1 significa que no había casos antes de 7 días.\n",
    "tabla['7/14'] = tabla['tasa7'] / tabla['tasa14']\n",
    "tabla.fillna(0).sort_values('7/14', ascending=True)"
   ]
  },
  {
   "cell_type": "code",
   "execution_count": null,
   "metadata": {},
   "outputs": [],
   "source": []
  }
 ]
}