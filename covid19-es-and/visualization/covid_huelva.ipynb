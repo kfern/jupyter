{
 "metadata": {
  "language_info": {
   "codemirror_mode": {
    "name": "ipython",
    "version": 3
   },
   "file_extension": ".py",
   "mimetype": "text/x-python",
   "name": "python",
   "nbconvert_exporter": "python",
   "pygments_lexer": "ipython3",
   "version": "3.6.9-final"
  },
  "orig_nbformat": 2,
  "kernelspec": {
   "name": "Python 3.6.9 64-bit",
   "display_name": "Python 3.6.9 64-bit",
   "metadata": {
    "interpreter": {
     "hash": "31f2aee4e71d21fbe5cf8b01ff0e069b9275f58929596ceb00d14d90e3e16cd6"
    }
   }
  }
 },
 "nbformat": 4,
 "nbformat_minor": 2,
 "cells": [
  {
   "cell_type": "code",
   "execution_count": 1,
   "metadata": {},
   "outputs": [],
   "source": [
    "import pandas as pd"
   ]
  },
  {
   "cell_type": "code",
   "execution_count": 2,
   "metadata": {},
   "outputs": [],
   "source": [
    "url = 'https://www.juntadeandalucia.es/institutodeestadisticaycartografia/badea/stpivot/stpivot/Print?cube=013d884c-cfc5-4c21-9e78-e26225682afd&type=3&foto=si&ejecutaDesde=&codConsulta=38668&consTipoVisua=JP'\n",
    "fields = ['Lugar de residencia', 'Medida', 'Valor']\n",
    "df = pd.read_csv(url, delimiter=';', usecols=fields, decimal=',')"
   ]
  },
  {
   "cell_type": "code",
   "execution_count": 3,
   "metadata": {},
   "outputs": [],
   "source": [
    "df['Valor'] = pd.to_numeric(df['Valor'],errors='coerce')"
   ]
  },
  {
   "cell_type": "code",
   "execution_count": 4,
   "metadata": {},
   "outputs": [],
   "source": [
    "dfAnterior = pd.read_csv('covid_huelva.csv', index_col='Lugar de residencia')"
   ]
  },
  {
   "cell_type": "code",
   "execution_count": 5,
   "metadata": {
    "tags": []
   },
   "outputs": [
    {
     "output_type": "stream",
     "name": "stdout",
     "text": "Confirmados PCR en la provincia de Huelva:  1520.0\n"
    }
   ],
   "source": [
    "# Confirmados PCR provincia Huelva\n",
    "p = df[df['Lugar de residencia'] == 'Huelva'][df['Medida'] == 'Confirmados PCR']['Valor'].values[0]\n",
    "print('Confirmados PCR en la provincia de Huelva: ', p)"
   ]
  },
  {
   "cell_type": "code",
   "execution_count": 6,
   "metadata": {
    "tags": []
   },
   "outputs": [
    {
     "output_type": "stream",
     "name": "stdout",
     "text": "Confirmados PCR en Huelva capital:  368.0\n"
    }
   ],
   "source": [
    "# Confirmados PCR Huelva capital\n",
    "c = df[df['Lugar de residencia'] == 'Huelva (capital)'][df['Medida'] == 'Confirmados PCR']['Valor'].values[0]\n",
    "print('Confirmados PCR en Huelva capital: ', c)"
   ]
  },
  {
   "cell_type": "code",
   "execution_count": 7,
   "metadata": {
    "tags": []
   },
   "outputs": [],
   "source": [
    "c7 = df[df['Lugar de residencia'] == 'Huelva (capital)'][df['Medida'] == 'Confirmados PCR 7 días']['Valor'].values[0]\n",
    "c14 = df[df['Lugar de residencia'] == 'Huelva (capital)'][df['Medida'] == 'Confirmados PCR 14 días']['Valor'].values[0]\n",
    "p = df[df['Lugar de residencia'] == 'Huelva (capital)'][df['Medida'] == 'Población']['Valor'].values[0]"
   ]
  },
  {
   "cell_type": "code",
   "execution_count": 8,
   "metadata": {
    "tags": []
   },
   "outputs": [
    {
     "output_type": "stream",
     "name": "stdout",
     "text": "Huelva (capital)\n\nUn positivo PCR cada 4489 personas en los últimos 7 días \n\nUn positivo PCR cada 1752 personas en los últimos 14 días\n"
    }
   ],
   "source": [
    "print('Huelva (capital)\\n')\n",
    "#print('Confirmados PCR 7 días x 1,000 habitantes: ', f\"{c7/(p/1000):.5f}\")\n",
    "print('Un positivo PCR cada', f\"{p/c7:.0f}\", 'personas en los últimos 7 días', '\\n')\n",
    "#print('Confirmados PCR 14 días x 1,000 habitantes: ', f\"{c14/(p/1000):.5f}\")\n",
    "print('Un positivo PCR cada', f\"{p/c14:.0f}\", 'personas en los últimos 14 días')"
   ]
  },
  {
   "cell_type": "code",
   "execution_count": 9,
   "metadata": {},
   "outputs": [],
   "source": [
    "filtro = ((df['Medida'] == 'Confirmados PCR')| (df['Medida'] == 'Confirmados PCR 7 días') | (df['Medida'] == 'Población' ) | (df['Medida'] == 'Confirmados PCR 14 días')) & (df['Valor'] > 0)\n",
    "tabla = pd.pivot_table(df.loc[filtro], values='Valor', index='Lugar de residencia', columns='Medida').dropna()"
   ]
  },
  {
   "cell_type": "code",
   "execution_count": 10,
   "metadata": {},
   "outputs": [],
   "source": [
    "# Reorder columns\n",
    "tabla = tabla[['Confirmados PCR', 'Confirmados PCR 7 días', 'Confirmados PCR 14 días', 'Población']]"
   ]
  },
  {
   "cell_type": "code",
   "execution_count": 11,
   "metadata": {},
   "outputs": [],
   "source": [
    "tabla['tasa7'] = tabla['Confirmados PCR 7 días']/tabla['Población']*100000\n",
    "tabla['tasa14'] = tabla['Confirmados PCR 14 días']/tabla['Población']*100000"
   ]
  },
  {
   "cell_type": "code",
   "execution_count": 12,
   "metadata": {},
   "outputs": [],
   "source": [
    "tabla['Diferencia PCR'] = tabla['Confirmados PCR'] - dfAnterior['Confirmados PCR']"
   ]
  },
  {
   "cell_type": "code",
   "execution_count": 13,
   "metadata": {},
   "outputs": [
    {
     "output_type": "execute_result",
     "data": {
      "text/plain": "Medida                             Confirmados PCR  Confirmados PCR 7 días  \\\nLugar de residencia                                                          \nHuelva                                      1520.0                   242.0   \nCondado-Campiña                              506.0                   115.0   \nHuelva-Costa                                 776.0                    86.0   \nHuelva (capital)                             368.0                    32.0   \nLepe                                         111.0                    26.0   \nBollullos Par del Condado                     89.0                    24.0   \nVillarrasa                                     8.0                     4.0   \nGibraleón                                     28.0                    12.0   \nManzanilla                                    19.0                    12.0   \nPalma del Condado (La)                        72.0                    32.0   \nSierra de Huelva-Andévalo Central            213.0                    38.0   \nSan Juan del Puerto                           24.0                     3.0   \nVillablanca                                    6.0                     4.0   \nValverde del Camino                           28.0                     2.0   \nAracena                                       49.0                     2.0   \nPunta Umbría                                  36.0                     7.0   \nPaterna del Campo                             12.0                     5.0   \nNiebla                                         4.0                     2.0   \nCartaya                                       26.0                     2.0   \nMinas de Riotinto                             18.0                     1.0   \n\nMedida                             Confirmados PCR 14 días  Población  \\\nLugar de residencia                                                     \nHuelva                                               440.0   510743.0   \nCondado-Campiña                                      184.0   155057.0   \nHuelva-Costa                                         196.0   288115.0   \nHuelva (capital)                                      82.0   143663.0   \nLepe                                                  43.0    27431.0   \nBollullos Par del Condado                             48.0    14272.0   \nVillarrasa                                             5.0     2176.0   \nGibraleón                                             14.0    12607.0   \nManzanilla                                            15.0     2135.0   \nPalma del Condado (La)                                40.0    10761.0   \nSierra de Huelva-Andévalo Central                     56.0    67571.0   \nSan Juan del Puerto                                    5.0     9300.0   \nVillablanca                                            4.0     2848.0   \nValverde del Camino                                    2.0    12820.0   \nAracena                                                3.0     8107.0   \nPunta Umbría                                          13.0    15242.0   \nPaterna del Campo                                      5.0     3509.0   \nNiebla                                                 2.0     4117.0   \nCartaya                                                5.0    19974.0   \nMinas de Riotinto                                      3.0     3848.0   \n\nMedida                                  tasa7      tasa14  Diferencia PCR  \nLugar de residencia                                                        \nHuelva                              47.381951   86.149003            40.0  \nCondado-Campiña                     74.166274  118.666039            20.0  \nHuelva-Costa                        29.849192   68.028391            16.0  \nHuelva (capital)                    22.274350   57.078023             7.0  \nLepe                                94.783274  156.756954             6.0  \nBollullos Par del Condado          168.161435  336.322870             5.0  \nVillarrasa                         183.823529  229.779412             3.0  \nGibraleón                           95.185215  111.049417             3.0  \nManzanilla                         562.060890  702.576112             3.0  \nPalma del Condado (La)             297.370133  371.712666             3.0  \nSierra de Huelva-Andévalo Central   56.237143   82.875790             3.0  \nSan Juan del Puerto                 32.258065   53.763441             1.0  \nVillablanca                        140.449438  140.449438             1.0  \nValverde del Camino                 15.600624   15.600624             1.0  \nAracena                             24.670038   37.005057             1.0  \nPunta Umbría                        45.925732   85.290644             1.0  \nPaterna del Campo                  142.490738  142.490738             1.0  \nNiebla                              48.579062   48.579062             1.0  \nCartaya                             10.013017   25.032542             1.0  \nMinas de Riotinto                   25.987526   77.962578             1.0  ",
      "text/html": "<div>\n<style scoped>\n    .dataframe tbody tr th:only-of-type {\n        vertical-align: middle;\n    }\n\n    .dataframe tbody tr th {\n        vertical-align: top;\n    }\n\n    .dataframe thead th {\n        text-align: right;\n    }\n</style>\n<table border=\"1\" class=\"dataframe\">\n  <thead>\n    <tr style=\"text-align: right;\">\n      <th>Medida</th>\n      <th>Confirmados PCR</th>\n      <th>Confirmados PCR 7 días</th>\n      <th>Confirmados PCR 14 días</th>\n      <th>Población</th>\n      <th>tasa7</th>\n      <th>tasa14</th>\n      <th>Diferencia PCR</th>\n    </tr>\n    <tr>\n      <th>Lugar de residencia</th>\n      <th></th>\n      <th></th>\n      <th></th>\n      <th></th>\n      <th></th>\n      <th></th>\n      <th></th>\n    </tr>\n  </thead>\n  <tbody>\n    <tr>\n      <th>Huelva</th>\n      <td>1520.0</td>\n      <td>242.0</td>\n      <td>440.0</td>\n      <td>510743.0</td>\n      <td>47.381951</td>\n      <td>86.149003</td>\n      <td>40.0</td>\n    </tr>\n    <tr>\n      <th>Condado-Campiña</th>\n      <td>506.0</td>\n      <td>115.0</td>\n      <td>184.0</td>\n      <td>155057.0</td>\n      <td>74.166274</td>\n      <td>118.666039</td>\n      <td>20.0</td>\n    </tr>\n    <tr>\n      <th>Huelva-Costa</th>\n      <td>776.0</td>\n      <td>86.0</td>\n      <td>196.0</td>\n      <td>288115.0</td>\n      <td>29.849192</td>\n      <td>68.028391</td>\n      <td>16.0</td>\n    </tr>\n    <tr>\n      <th>Huelva (capital)</th>\n      <td>368.0</td>\n      <td>32.0</td>\n      <td>82.0</td>\n      <td>143663.0</td>\n      <td>22.274350</td>\n      <td>57.078023</td>\n      <td>7.0</td>\n    </tr>\n    <tr>\n      <th>Lepe</th>\n      <td>111.0</td>\n      <td>26.0</td>\n      <td>43.0</td>\n      <td>27431.0</td>\n      <td>94.783274</td>\n      <td>156.756954</td>\n      <td>6.0</td>\n    </tr>\n    <tr>\n      <th>Bollullos Par del Condado</th>\n      <td>89.0</td>\n      <td>24.0</td>\n      <td>48.0</td>\n      <td>14272.0</td>\n      <td>168.161435</td>\n      <td>336.322870</td>\n      <td>5.0</td>\n    </tr>\n    <tr>\n      <th>Villarrasa</th>\n      <td>8.0</td>\n      <td>4.0</td>\n      <td>5.0</td>\n      <td>2176.0</td>\n      <td>183.823529</td>\n      <td>229.779412</td>\n      <td>3.0</td>\n    </tr>\n    <tr>\n      <th>Gibraleón</th>\n      <td>28.0</td>\n      <td>12.0</td>\n      <td>14.0</td>\n      <td>12607.0</td>\n      <td>95.185215</td>\n      <td>111.049417</td>\n      <td>3.0</td>\n    </tr>\n    <tr>\n      <th>Manzanilla</th>\n      <td>19.0</td>\n      <td>12.0</td>\n      <td>15.0</td>\n      <td>2135.0</td>\n      <td>562.060890</td>\n      <td>702.576112</td>\n      <td>3.0</td>\n    </tr>\n    <tr>\n      <th>Palma del Condado (La)</th>\n      <td>72.0</td>\n      <td>32.0</td>\n      <td>40.0</td>\n      <td>10761.0</td>\n      <td>297.370133</td>\n      <td>371.712666</td>\n      <td>3.0</td>\n    </tr>\n    <tr>\n      <th>Sierra de Huelva-Andévalo Central</th>\n      <td>213.0</td>\n      <td>38.0</td>\n      <td>56.0</td>\n      <td>67571.0</td>\n      <td>56.237143</td>\n      <td>82.875790</td>\n      <td>3.0</td>\n    </tr>\n    <tr>\n      <th>San Juan del Puerto</th>\n      <td>24.0</td>\n      <td>3.0</td>\n      <td>5.0</td>\n      <td>9300.0</td>\n      <td>32.258065</td>\n      <td>53.763441</td>\n      <td>1.0</td>\n    </tr>\n    <tr>\n      <th>Villablanca</th>\n      <td>6.0</td>\n      <td>4.0</td>\n      <td>4.0</td>\n      <td>2848.0</td>\n      <td>140.449438</td>\n      <td>140.449438</td>\n      <td>1.0</td>\n    </tr>\n    <tr>\n      <th>Valverde del Camino</th>\n      <td>28.0</td>\n      <td>2.0</td>\n      <td>2.0</td>\n      <td>12820.0</td>\n      <td>15.600624</td>\n      <td>15.600624</td>\n      <td>1.0</td>\n    </tr>\n    <tr>\n      <th>Aracena</th>\n      <td>49.0</td>\n      <td>2.0</td>\n      <td>3.0</td>\n      <td>8107.0</td>\n      <td>24.670038</td>\n      <td>37.005057</td>\n      <td>1.0</td>\n    </tr>\n    <tr>\n      <th>Punta Umbría</th>\n      <td>36.0</td>\n      <td>7.0</td>\n      <td>13.0</td>\n      <td>15242.0</td>\n      <td>45.925732</td>\n      <td>85.290644</td>\n      <td>1.0</td>\n    </tr>\n    <tr>\n      <th>Paterna del Campo</th>\n      <td>12.0</td>\n      <td>5.0</td>\n      <td>5.0</td>\n      <td>3509.0</td>\n      <td>142.490738</td>\n      <td>142.490738</td>\n      <td>1.0</td>\n    </tr>\n    <tr>\n      <th>Niebla</th>\n      <td>4.0</td>\n      <td>2.0</td>\n      <td>2.0</td>\n      <td>4117.0</td>\n      <td>48.579062</td>\n      <td>48.579062</td>\n      <td>1.0</td>\n    </tr>\n    <tr>\n      <th>Cartaya</th>\n      <td>26.0</td>\n      <td>2.0</td>\n      <td>5.0</td>\n      <td>19974.0</td>\n      <td>10.013017</td>\n      <td>25.032542</td>\n      <td>1.0</td>\n    </tr>\n    <tr>\n      <th>Minas de Riotinto</th>\n      <td>18.0</td>\n      <td>1.0</td>\n      <td>3.0</td>\n      <td>3848.0</td>\n      <td>25.987526</td>\n      <td>77.962578</td>\n      <td>1.0</td>\n    </tr>\n  </tbody>\n</table>\n</div>"
     },
     "metadata": {},
     "execution_count": 13
    }
   ],
   "source": [
    "# Nuevos casos desde la última captura\n",
    "tabla[tabla['Diferencia PCR'] != 0].sort_values('Diferencia PCR', ascending=False)"
   ]
  },
  {
   "cell_type": "code",
   "execution_count": 14,
   "metadata": {},
   "outputs": [],
   "source": [
    "if tabla[tabla['Diferencia PCR'] != 0]['Diferencia PCR'].sum() > 0:\n",
    "  # Save to csv\n",
    "  tabla.to_csv('covid_huelva.csv', encoding='utf-8', header=True, index=True)  "
   ]
  },
  {
   "cell_type": "code",
   "execution_count": 15,
   "metadata": {},
   "outputs": [
    {
     "output_type": "execute_result",
     "data": {
      "text/plain": "Medida                             Confirmados PCR  Confirmados PCR 7 días  \\\nLugar de residencia                                                          \nCampillo (El)                                 26.0                    24.0   \nManzanilla                                    19.0                    12.0   \nAlmendro (El)                                  5.0                     1.0   \nValdelarco                                     2.0                     1.0   \nPalma del Condado (La)                        72.0                    32.0   \nBollullos Par del Condado                     89.0                    24.0   \nVillarrasa                                     8.0                     4.0   \nGranado (El)                                   2.0                     1.0   \nJabugo                                         5.0                     1.0   \nVillanueva de los Castillejos                  7.0                     5.0   \nCerro de Andévalo (El)                         5.0                     4.0   \nLepe                                         111.0                    26.0   \nPaterna del Campo                             12.0                     5.0   \nVillablanca                                    6.0                     4.0   \nCondado-Campiña                              506.0                   115.0   \nLucena del Puerto                              9.0                     4.0   \nGibraleón                                     28.0                    12.0   \nTrigueros                                     36.0                     3.0   \nHuelva                                      1520.0                   242.0   \nPunta Umbría                                  36.0                     7.0   \nSierra de Huelva-Andévalo Central            213.0                    38.0   \nMinas de Riotinto                             18.0                     1.0   \nAlosno                                         6.0                     1.0   \nMoguer                                        43.0                     7.0   \nAyamonte                                      50.0                     2.0   \nHuelva-Costa                                 776.0                    86.0   \nZalamea la Real                               21.0                     1.0   \nIsla Cristina                                 66.0                     4.0   \nHuelva (capital)                             368.0                    32.0   \nCumbres Mayores                                2.0                     1.0   \nSan Juan del Puerto                           24.0                     3.0   \nRociana del Condado                            9.0                     3.0   \nNiebla                                         4.0                     2.0   \nPalos de la Frontera                          27.0                     1.0   \nAracena                                       49.0                     2.0   \nAlmonte                                       54.0                     1.0   \nBonares                                        5.0                     1.0   \nAljaraque                                     71.0                     1.0   \nSan Bartolomé de la Torre                      3.0                     1.0   \nCartaya                                       26.0                     2.0   \nCortegana                                     10.0                     1.0   \nValverde del Camino                           28.0                     2.0   \n\nMedida                             Confirmados PCR 14 días  Población  \\\nLugar de residencia                                                     \nCampillo (El)                                         24.0     2023.0   \nManzanilla                                            15.0     2135.0   \nAlmendro (El)                                          4.0      826.0   \nValdelarco                                             1.0      239.0   \nPalma del Condado (La)                                40.0    10761.0   \nBollullos Par del Condado                             48.0    14272.0   \nVillarrasa                                             5.0     2176.0   \nGranado (El)                                           1.0      516.0   \nJabugo                                                 4.0     2250.0   \nVillanueva de los Castillejos                          5.0     2820.0   \nCerro de Andévalo (El)                                 4.0     2364.0   \nLepe                                                  43.0    27431.0   \nPaterna del Campo                                      5.0     3509.0   \nVillablanca                                            4.0     2848.0   \nCondado-Campiña                                      184.0   155057.0   \nLucena del Puerto                                      4.0     3371.0   \nGibraleón                                             14.0    12607.0   \nTrigueros                                              7.0     7713.0   \nHuelva                                               440.0   510743.0   \nPunta Umbría                                          13.0    15242.0   \nSierra de Huelva-Andévalo Central                     56.0    67571.0   \nMinas de Riotinto                                      3.0     3848.0   \nAlosno                                                 3.0     3923.0   \nMoguer                                                16.0    22088.0   \nAyamonte                                              15.0    20946.0   \nHuelva-Costa                                         196.0   288115.0   \nZalamea la Real                                        2.0     3068.0   \nIsla Cristina                                         13.0    21264.0   \nHuelva (capital)                                      82.0   143663.0   \nCumbres Mayores                                        1.0     1755.0   \nSan Juan del Puerto                                    5.0     9300.0   \nRociana del Condado                                    4.0     7855.0   \nNiebla                                                 2.0     4117.0   \nPalos de la Frontera                                   5.0    11289.0   \nAracena                                                3.0     8107.0   \nAlmonte                                                8.0    24191.0   \nBonares                                                2.0     6058.0   \nAljaraque                                              7.0    21260.0   \nSan Bartolomé de la Torre                              1.0     3736.0   \nCartaya                                                5.0    19974.0   \nCortegana                                              1.0     4666.0   \nValverde del Camino                                    2.0    12820.0   \n\nMedida                                   tasa7       tasa14  Diferencia PCR  \nLugar de residencia                                                          \nCampillo (El)                      1186.356896  1186.356896             0.0  \nManzanilla                          562.060890   702.576112             3.0  \nAlmendro (El)                       121.065375   484.261501             0.0  \nValdelarco                          418.410042   418.410042             0.0  \nPalma del Condado (La)              297.370133   371.712666             3.0  \nBollullos Par del Condado           168.161435   336.322870             5.0  \nVillarrasa                          183.823529   229.779412             3.0  \nGranado (El)                        193.798450   193.798450             0.0  \nJabugo                               44.444444   177.777778             0.0  \nVillanueva de los Castillejos       177.304965   177.304965             0.0  \nCerro de Andévalo (El)              169.204738   169.204738             0.0  \nLepe                                 94.783274   156.756954             6.0  \nPaterna del Campo                   142.490738   142.490738             1.0  \nVillablanca                         140.449438   140.449438             1.0  \nCondado-Campiña                      74.166274   118.666039            20.0  \nLucena del Puerto                   118.659152   118.659152             0.0  \nGibraleón                            95.185215   111.049417             3.0  \nTrigueros                            38.895371    90.755867             0.0  \nHuelva                               47.381951    86.149003            40.0  \nPunta Umbría                         45.925732    85.290644             1.0  \nSierra de Huelva-Andévalo Central    56.237143    82.875790             3.0  \nMinas de Riotinto                    25.987526    77.962578             1.0  \nAlosno                               25.490696    76.472088             0.0  \nMoguer                               31.691416    72.437523             0.0  \nAyamonte                              9.548362    71.612718             0.0  \nHuelva-Costa                         29.849192    68.028391            16.0  \nZalamea la Real                      32.594524    65.189048             0.0  \nIsla Cristina                        18.811136    61.136193             0.0  \nHuelva (capital)                     22.274350    57.078023             7.0  \nCumbres Mayores                      56.980057    56.980057             0.0  \nSan Juan del Puerto                  32.258065    53.763441             1.0  \nRociana del Condado                  38.192234    50.922979             0.0  \nNiebla                               48.579062    48.579062             1.0  \nPalos de la Frontera                  8.858181    44.290903             0.0  \nAracena                              24.670038    37.005057             1.0  \nAlmonte                               4.133769    33.070150             0.0  \nBonares                              16.507098    33.014196             0.0  \nAljaraque                             4.703669    32.925682             0.0  \nSan Bartolomé de la Torre            26.766595    26.766595             0.0  \nCartaya                              10.013017    25.032542             1.0  \nCortegana                            21.431633    21.431633             0.0  \nValverde del Camino                  15.600624    15.600624             1.0  ",
      "text/html": "<div>\n<style scoped>\n    .dataframe tbody tr th:only-of-type {\n        vertical-align: middle;\n    }\n\n    .dataframe tbody tr th {\n        vertical-align: top;\n    }\n\n    .dataframe thead th {\n        text-align: right;\n    }\n</style>\n<table border=\"1\" class=\"dataframe\">\n  <thead>\n    <tr style=\"text-align: right;\">\n      <th>Medida</th>\n      <th>Confirmados PCR</th>\n      <th>Confirmados PCR 7 días</th>\n      <th>Confirmados PCR 14 días</th>\n      <th>Población</th>\n      <th>tasa7</th>\n      <th>tasa14</th>\n      <th>Diferencia PCR</th>\n    </tr>\n    <tr>\n      <th>Lugar de residencia</th>\n      <th></th>\n      <th></th>\n      <th></th>\n      <th></th>\n      <th></th>\n      <th></th>\n      <th></th>\n    </tr>\n  </thead>\n  <tbody>\n    <tr>\n      <th>Campillo (El)</th>\n      <td>26.0</td>\n      <td>24.0</td>\n      <td>24.0</td>\n      <td>2023.0</td>\n      <td>1186.356896</td>\n      <td>1186.356896</td>\n      <td>0.0</td>\n    </tr>\n    <tr>\n      <th>Manzanilla</th>\n      <td>19.0</td>\n      <td>12.0</td>\n      <td>15.0</td>\n      <td>2135.0</td>\n      <td>562.060890</td>\n      <td>702.576112</td>\n      <td>3.0</td>\n    </tr>\n    <tr>\n      <th>Almendro (El)</th>\n      <td>5.0</td>\n      <td>1.0</td>\n      <td>4.0</td>\n      <td>826.0</td>\n      <td>121.065375</td>\n      <td>484.261501</td>\n      <td>0.0</td>\n    </tr>\n    <tr>\n      <th>Valdelarco</th>\n      <td>2.0</td>\n      <td>1.0</td>\n      <td>1.0</td>\n      <td>239.0</td>\n      <td>418.410042</td>\n      <td>418.410042</td>\n      <td>0.0</td>\n    </tr>\n    <tr>\n      <th>Palma del Condado (La)</th>\n      <td>72.0</td>\n      <td>32.0</td>\n      <td>40.0</td>\n      <td>10761.0</td>\n      <td>297.370133</td>\n      <td>371.712666</td>\n      <td>3.0</td>\n    </tr>\n    <tr>\n      <th>Bollullos Par del Condado</th>\n      <td>89.0</td>\n      <td>24.0</td>\n      <td>48.0</td>\n      <td>14272.0</td>\n      <td>168.161435</td>\n      <td>336.322870</td>\n      <td>5.0</td>\n    </tr>\n    <tr>\n      <th>Villarrasa</th>\n      <td>8.0</td>\n      <td>4.0</td>\n      <td>5.0</td>\n      <td>2176.0</td>\n      <td>183.823529</td>\n      <td>229.779412</td>\n      <td>3.0</td>\n    </tr>\n    <tr>\n      <th>Granado (El)</th>\n      <td>2.0</td>\n      <td>1.0</td>\n      <td>1.0</td>\n      <td>516.0</td>\n      <td>193.798450</td>\n      <td>193.798450</td>\n      <td>0.0</td>\n    </tr>\n    <tr>\n      <th>Jabugo</th>\n      <td>5.0</td>\n      <td>1.0</td>\n      <td>4.0</td>\n      <td>2250.0</td>\n      <td>44.444444</td>\n      <td>177.777778</td>\n      <td>0.0</td>\n    </tr>\n    <tr>\n      <th>Villanueva de los Castillejos</th>\n      <td>7.0</td>\n      <td>5.0</td>\n      <td>5.0</td>\n      <td>2820.0</td>\n      <td>177.304965</td>\n      <td>177.304965</td>\n      <td>0.0</td>\n    </tr>\n    <tr>\n      <th>Cerro de Andévalo (El)</th>\n      <td>5.0</td>\n      <td>4.0</td>\n      <td>4.0</td>\n      <td>2364.0</td>\n      <td>169.204738</td>\n      <td>169.204738</td>\n      <td>0.0</td>\n    </tr>\n    <tr>\n      <th>Lepe</th>\n      <td>111.0</td>\n      <td>26.0</td>\n      <td>43.0</td>\n      <td>27431.0</td>\n      <td>94.783274</td>\n      <td>156.756954</td>\n      <td>6.0</td>\n    </tr>\n    <tr>\n      <th>Paterna del Campo</th>\n      <td>12.0</td>\n      <td>5.0</td>\n      <td>5.0</td>\n      <td>3509.0</td>\n      <td>142.490738</td>\n      <td>142.490738</td>\n      <td>1.0</td>\n    </tr>\n    <tr>\n      <th>Villablanca</th>\n      <td>6.0</td>\n      <td>4.0</td>\n      <td>4.0</td>\n      <td>2848.0</td>\n      <td>140.449438</td>\n      <td>140.449438</td>\n      <td>1.0</td>\n    </tr>\n    <tr>\n      <th>Condado-Campiña</th>\n      <td>506.0</td>\n      <td>115.0</td>\n      <td>184.0</td>\n      <td>155057.0</td>\n      <td>74.166274</td>\n      <td>118.666039</td>\n      <td>20.0</td>\n    </tr>\n    <tr>\n      <th>Lucena del Puerto</th>\n      <td>9.0</td>\n      <td>4.0</td>\n      <td>4.0</td>\n      <td>3371.0</td>\n      <td>118.659152</td>\n      <td>118.659152</td>\n      <td>0.0</td>\n    </tr>\n    <tr>\n      <th>Gibraleón</th>\n      <td>28.0</td>\n      <td>12.0</td>\n      <td>14.0</td>\n      <td>12607.0</td>\n      <td>95.185215</td>\n      <td>111.049417</td>\n      <td>3.0</td>\n    </tr>\n    <tr>\n      <th>Trigueros</th>\n      <td>36.0</td>\n      <td>3.0</td>\n      <td>7.0</td>\n      <td>7713.0</td>\n      <td>38.895371</td>\n      <td>90.755867</td>\n      <td>0.0</td>\n    </tr>\n    <tr>\n      <th>Huelva</th>\n      <td>1520.0</td>\n      <td>242.0</td>\n      <td>440.0</td>\n      <td>510743.0</td>\n      <td>47.381951</td>\n      <td>86.149003</td>\n      <td>40.0</td>\n    </tr>\n    <tr>\n      <th>Punta Umbría</th>\n      <td>36.0</td>\n      <td>7.0</td>\n      <td>13.0</td>\n      <td>15242.0</td>\n      <td>45.925732</td>\n      <td>85.290644</td>\n      <td>1.0</td>\n    </tr>\n    <tr>\n      <th>Sierra de Huelva-Andévalo Central</th>\n      <td>213.0</td>\n      <td>38.0</td>\n      <td>56.0</td>\n      <td>67571.0</td>\n      <td>56.237143</td>\n      <td>82.875790</td>\n      <td>3.0</td>\n    </tr>\n    <tr>\n      <th>Minas de Riotinto</th>\n      <td>18.0</td>\n      <td>1.0</td>\n      <td>3.0</td>\n      <td>3848.0</td>\n      <td>25.987526</td>\n      <td>77.962578</td>\n      <td>1.0</td>\n    </tr>\n    <tr>\n      <th>Alosno</th>\n      <td>6.0</td>\n      <td>1.0</td>\n      <td>3.0</td>\n      <td>3923.0</td>\n      <td>25.490696</td>\n      <td>76.472088</td>\n      <td>0.0</td>\n    </tr>\n    <tr>\n      <th>Moguer</th>\n      <td>43.0</td>\n      <td>7.0</td>\n      <td>16.0</td>\n      <td>22088.0</td>\n      <td>31.691416</td>\n      <td>72.437523</td>\n      <td>0.0</td>\n    </tr>\n    <tr>\n      <th>Ayamonte</th>\n      <td>50.0</td>\n      <td>2.0</td>\n      <td>15.0</td>\n      <td>20946.0</td>\n      <td>9.548362</td>\n      <td>71.612718</td>\n      <td>0.0</td>\n    </tr>\n    <tr>\n      <th>Huelva-Costa</th>\n      <td>776.0</td>\n      <td>86.0</td>\n      <td>196.0</td>\n      <td>288115.0</td>\n      <td>29.849192</td>\n      <td>68.028391</td>\n      <td>16.0</td>\n    </tr>\n    <tr>\n      <th>Zalamea la Real</th>\n      <td>21.0</td>\n      <td>1.0</td>\n      <td>2.0</td>\n      <td>3068.0</td>\n      <td>32.594524</td>\n      <td>65.189048</td>\n      <td>0.0</td>\n    </tr>\n    <tr>\n      <th>Isla Cristina</th>\n      <td>66.0</td>\n      <td>4.0</td>\n      <td>13.0</td>\n      <td>21264.0</td>\n      <td>18.811136</td>\n      <td>61.136193</td>\n      <td>0.0</td>\n    </tr>\n    <tr>\n      <th>Huelva (capital)</th>\n      <td>368.0</td>\n      <td>32.0</td>\n      <td>82.0</td>\n      <td>143663.0</td>\n      <td>22.274350</td>\n      <td>57.078023</td>\n      <td>7.0</td>\n    </tr>\n    <tr>\n      <th>Cumbres Mayores</th>\n      <td>2.0</td>\n      <td>1.0</td>\n      <td>1.0</td>\n      <td>1755.0</td>\n      <td>56.980057</td>\n      <td>56.980057</td>\n      <td>0.0</td>\n    </tr>\n    <tr>\n      <th>San Juan del Puerto</th>\n      <td>24.0</td>\n      <td>3.0</td>\n      <td>5.0</td>\n      <td>9300.0</td>\n      <td>32.258065</td>\n      <td>53.763441</td>\n      <td>1.0</td>\n    </tr>\n    <tr>\n      <th>Rociana del Condado</th>\n      <td>9.0</td>\n      <td>3.0</td>\n      <td>4.0</td>\n      <td>7855.0</td>\n      <td>38.192234</td>\n      <td>50.922979</td>\n      <td>0.0</td>\n    </tr>\n    <tr>\n      <th>Niebla</th>\n      <td>4.0</td>\n      <td>2.0</td>\n      <td>2.0</td>\n      <td>4117.0</td>\n      <td>48.579062</td>\n      <td>48.579062</td>\n      <td>1.0</td>\n    </tr>\n    <tr>\n      <th>Palos de la Frontera</th>\n      <td>27.0</td>\n      <td>1.0</td>\n      <td>5.0</td>\n      <td>11289.0</td>\n      <td>8.858181</td>\n      <td>44.290903</td>\n      <td>0.0</td>\n    </tr>\n    <tr>\n      <th>Aracena</th>\n      <td>49.0</td>\n      <td>2.0</td>\n      <td>3.0</td>\n      <td>8107.0</td>\n      <td>24.670038</td>\n      <td>37.005057</td>\n      <td>1.0</td>\n    </tr>\n    <tr>\n      <th>Almonte</th>\n      <td>54.0</td>\n      <td>1.0</td>\n      <td>8.0</td>\n      <td>24191.0</td>\n      <td>4.133769</td>\n      <td>33.070150</td>\n      <td>0.0</td>\n    </tr>\n    <tr>\n      <th>Bonares</th>\n      <td>5.0</td>\n      <td>1.0</td>\n      <td>2.0</td>\n      <td>6058.0</td>\n      <td>16.507098</td>\n      <td>33.014196</td>\n      <td>0.0</td>\n    </tr>\n    <tr>\n      <th>Aljaraque</th>\n      <td>71.0</td>\n      <td>1.0</td>\n      <td>7.0</td>\n      <td>21260.0</td>\n      <td>4.703669</td>\n      <td>32.925682</td>\n      <td>0.0</td>\n    </tr>\n    <tr>\n      <th>San Bartolomé de la Torre</th>\n      <td>3.0</td>\n      <td>1.0</td>\n      <td>1.0</td>\n      <td>3736.0</td>\n      <td>26.766595</td>\n      <td>26.766595</td>\n      <td>0.0</td>\n    </tr>\n    <tr>\n      <th>Cartaya</th>\n      <td>26.0</td>\n      <td>2.0</td>\n      <td>5.0</td>\n      <td>19974.0</td>\n      <td>10.013017</td>\n      <td>25.032542</td>\n      <td>1.0</td>\n    </tr>\n    <tr>\n      <th>Cortegana</th>\n      <td>10.0</td>\n      <td>1.0</td>\n      <td>1.0</td>\n      <td>4666.0</td>\n      <td>21.431633</td>\n      <td>21.431633</td>\n      <td>0.0</td>\n    </tr>\n    <tr>\n      <th>Valverde del Camino</th>\n      <td>28.0</td>\n      <td>2.0</td>\n      <td>2.0</td>\n      <td>12820.0</td>\n      <td>15.600624</td>\n      <td>15.600624</td>\n      <td>1.0</td>\n    </tr>\n  </tbody>\n</table>\n</div>"
     },
     "metadata": {},
     "execution_count": 15
    }
   ],
   "source": [
    "tabla.sort_values('tasa14', ascending=False)"
   ]
  },
  {
   "cell_type": "code",
   "execution_count": null,
   "metadata": {},
   "outputs": [],
   "source": []
  }
 ]
}