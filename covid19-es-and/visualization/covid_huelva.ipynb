{
 "metadata": {
  "language_info": {
   "codemirror_mode": {
    "name": "ipython",
    "version": 3
   },
   "file_extension": ".py",
   "mimetype": "text/x-python",
   "name": "python",
   "nbconvert_exporter": "python",
   "pygments_lexer": "ipython3",
   "version": "3.8.6-final"
  },
  "orig_nbformat": 2,
  "kernelspec": {
   "name": "python38564bit75945252d6ba481bad4868286020c89e",
   "display_name": "Python 3.8.5 64-bit",
   "language": "python"
  }
 },
 "nbformat": 4,
 "nbformat_minor": 2,
 "cells": [
  {
   "cell_type": "code",
   "execution_count": 1,
   "metadata": {},
   "outputs": [],
   "source": [
    "import pandas as pd\n",
    "pd.set_option('display.max_rows', None) # Print all rows"
   ]
  },
  {
   "cell_type": "code",
   "execution_count": 2,
   "metadata": {},
   "outputs": [],
   "source": [
    "# FIX SSL: CERTIFICATE_VERIFY_FAILED with Python3\n",
    "# https://stackoverflow.com/a/49174340\n",
    "import ssl\n",
    "\n",
    "ssl._create_default_https_context = ssl._create_unverified_context"
   ]
  },
  {
   "cell_type": "code",
   "execution_count": 3,
   "metadata": {},
   "outputs": [],
   "source": [
    "url = 'https://www.juntadeandalucia.es/institutodeestadisticaycartografia/badea/stpivot/stpivot/Print?cube=013d884c-cfc5-4c21-9e78-e26225682afd&type=3&foto=si&ejecutaDesde=&codConsulta=38668&consTipoVisua=JP'\n",
    "fields = ['Lugar de residencia', 'Medida', 'Valor']\n",
    "df = pd.read_csv(url, delimiter=';', usecols=fields, decimal=',')"
   ]
  },
  {
   "cell_type": "code",
   "execution_count": 4,
   "metadata": {},
   "outputs": [
    {
     "output_type": "execute_result",
     "data": {
      "text/plain": [
       "  Lugar de residencia                    Medida               Valor\n",
       "0              Huelva                 Población              513170\n",
       "1              Huelva          Confirmados PDIA               24261\n",
       "2              Huelva  Confirmados PDIA 14 días                 986\n",
       "3              Huelva         Tasa PDIA 14 días  192,13905723249604\n",
       "4              Huelva   Confirmados PDIA 7 días                 308\n",
       "5              Huelva        Total Confirmados                24489\n",
       "6              Huelva                   Curados               14130\n",
       "7              Huelva                Fallecidos                 274"
      ],
      "text/html": "<div>\n<style scoped>\n    .dataframe tbody tr th:only-of-type {\n        vertical-align: middle;\n    }\n\n    .dataframe tbody tr th {\n        vertical-align: top;\n    }\n\n    .dataframe thead th {\n        text-align: right;\n    }\n</style>\n<table border=\"1\" class=\"dataframe\">\n  <thead>\n    <tr style=\"text-align: right;\">\n      <th></th>\n      <th>Lugar de residencia</th>\n      <th>Medida</th>\n      <th>Valor</th>\n    </tr>\n  </thead>\n  <tbody>\n    <tr>\n      <th>0</th>\n      <td>Huelva</td>\n      <td>Población</td>\n      <td>513170</td>\n    </tr>\n    <tr>\n      <th>1</th>\n      <td>Huelva</td>\n      <td>Confirmados PDIA</td>\n      <td>24261</td>\n    </tr>\n    <tr>\n      <th>2</th>\n      <td>Huelva</td>\n      <td>Confirmados PDIA 14 días</td>\n      <td>986</td>\n    </tr>\n    <tr>\n      <th>3</th>\n      <td>Huelva</td>\n      <td>Tasa PDIA 14 días</td>\n      <td>192,13905723249604</td>\n    </tr>\n    <tr>\n      <th>4</th>\n      <td>Huelva</td>\n      <td>Confirmados PDIA 7 días</td>\n      <td>308</td>\n    </tr>\n    <tr>\n      <th>5</th>\n      <td>Huelva</td>\n      <td>Total Confirmados</td>\n      <td>24489</td>\n    </tr>\n    <tr>\n      <th>6</th>\n      <td>Huelva</td>\n      <td>Curados</td>\n      <td>14130</td>\n    </tr>\n    <tr>\n      <th>7</th>\n      <td>Huelva</td>\n      <td>Fallecidos</td>\n      <td>274</td>\n    </tr>\n  </tbody>\n</table>\n</div>"
     },
     "metadata": {},
     "execution_count": 4
    }
   ],
   "source": [
    "df[df['Lugar de residencia'] == 'Huelva']"
   ]
  },
  {
   "cell_type": "code",
   "execution_count": 5,
   "metadata": {},
   "outputs": [],
   "source": [
    "df['Valor'] = pd.to_numeric(df['Valor'],errors='coerce')"
   ]
  },
  {
   "cell_type": "code",
   "execution_count": 6,
   "metadata": {},
   "outputs": [],
   "source": [
    "dfAnterior = pd.read_csv('covid_huelva.csv', index_col='Lugar de residencia')"
   ]
  },
  {
   "cell_type": "code",
   "execution_count": 7,
   "metadata": {
    "tags": []
   },
   "outputs": [
    {
     "output_type": "stream",
     "name": "stdout",
     "text": [
      "Confirmados PCR en la provincia de Huelva:  24261.0\n"
     ]
    }
   ],
   "source": [
    "# Confirmados PCR provincia Huelva\n",
    "p = df[df['Lugar de residencia'] == 'Huelva'][df['Medida'] == 'Confirmados PDIA']['Valor'].values[0]\n",
    "print('Confirmados PCR en la provincia de Huelva: ', p)"
   ]
  },
  {
   "cell_type": "code",
   "execution_count": 8,
   "metadata": {
    "tags": []
   },
   "outputs": [
    {
     "output_type": "stream",
     "name": "stdout",
     "text": [
      "Confirmados PCR en Huelva capital:  6481.0\n"
     ]
    }
   ],
   "source": [
    "# Confirmados PCR Huelva capitalpd\n",
    "c = df[df['Lugar de residencia'] == 'Huelva (capital)'][df['Medida'] == 'Confirmados PDIA']['Valor'].values[0]\n",
    "print('Confirmados PCR en Huelva capital: ', c)"
   ]
  },
  {
   "cell_type": "code",
   "execution_count": 9,
   "metadata": {
    "tags": []
   },
   "outputs": [],
   "source": [
    "c7 = df[df['Lugar de residencia'] == 'Huelva (capital)'][df['Medida'] == 'Confirmados PDIA 7 días']['Valor'].values[0]\n",
    "c14 = df[df['Lugar de residencia'] == 'Huelva (capital)'][df['Medida'] == 'Confirmados PDIA 14 días']['Valor'].values[0]\n",
    "p = df[df['Lugar de residencia'] == 'Huelva (capital)'][df['Medida'] == 'Población']['Valor'].values[0]"
   ]
  },
  {
   "cell_type": "code",
   "execution_count": 10,
   "metadata": {
    "tags": []
   },
   "outputs": [
    {
     "output_type": "stream",
     "name": "stdout",
     "text": [
      "Huelva (capital)\n\nUn positivo PCR cada 1498 personas en los últimos 7 días \n\nUn positivo PCR cada 462 personas en los últimos 14 días\n"
     ]
    }
   ],
   "source": [
    "print('Huelva (capital)\\n')\n",
    "#print('Confirmados PCR 7 días x 1,000 habitantes: ', f\"{c7/(p/1000):.5f}\")\n",
    "print('Un positivo PCR cada', f\"{p/c7:.0f}\", 'personas en los últimos 7 días', '\\n')\n",
    "#print('Confirmados PCR 14 días x 1,000 habitantes: ', f\"{c14/(p/1000):.5f}\")\n",
    "print('Un positivo PCR cada', f\"{p/c14:.0f}\", 'personas en los últimos 14 días')"
   ]
  },
  {
   "cell_type": "code",
   "execution_count": 11,
   "metadata": {},
   "outputs": [],
   "source": [
    "filtro = ((df['Medida'] == 'Confirmados PDIA')| (df['Medida'] == 'Confirmados PDIA 7 días') | (df['Medida'] == 'Población' ) | (df['Medida'] == 'Confirmados PDIA 14 días')) & (df['Valor'] > 0)\n",
    "tabla = pd.pivot_table(df.loc[filtro], values='Valor', index='Lugar de residencia', columns='Medida').dropna()"
   ]
  },
  {
   "cell_type": "code",
   "execution_count": 12,
   "metadata": {},
   "outputs": [],
   "source": [
    "# Reorder columns\n",
    "tabla = tabla[['Confirmados PDIA', 'Confirmados PDIA 7 días', 'Confirmados PDIA 14 días', 'Población']]"
   ]
  },
  {
   "cell_type": "code",
   "execution_count": 13,
   "metadata": {},
   "outputs": [],
   "source": [
    "tabla['tasa7'] = tabla['Confirmados PDIA 7 días']/tabla['Población']*100000\n",
    "tabla['tasa14'] = tabla['Confirmados PDIA 14 días']/tabla['Población']*100000"
   ]
  },
  {
   "cell_type": "code",
   "execution_count": 14,
   "metadata": {},
   "outputs": [],
   "source": [
    "tabla['Diferencia PDIA'] = tabla['Confirmados PDIA'] - dfAnterior['Confirmados PDIA']"
   ]
  },
  {
   "cell_type": "code",
   "execution_count": 15,
   "metadata": {},
   "outputs": [
    {
     "output_type": "execute_result",
     "data": {
      "text/plain": [
       "Medida                             Confirmados PDIA  Confirmados PDIA 7 días  \\\n",
       "Lugar de residencia                                                            \n",
       "Villalba del Alcor                            438.0                      1.0   \n",
       "Trigueros                                     224.0                      5.0   \n",
       "Villanueva de los Castillejos                 145.0                      4.0   \n",
       "San Bartolomé de la Torre                     191.0                      3.0   \n",
       "Villablanca                                   167.0                      4.0   \n",
       "Alosno                                        119.0                      1.0   \n",
       "Nerva                                         151.0                      1.0   \n",
       "Palos de la Frontera                          439.0                      5.0   \n",
       "Ayamonte                                     1178.0                     12.0   \n",
       "Bonares                                       177.0                      2.0   \n",
       "Gibraleón                                     508.0                      6.0   \n",
       "Aracena                                       453.0                      2.0   \n",
       "Punta Umbría                                  647.0                     11.0   \n",
       "Condado-Campiña                              6735.0                     96.0   \n",
       "Aljaraque                                     915.0                      6.0   \n",
       "Valverde del Camino                           414.0                      1.0   \n",
       "Isla Cristina                                1971.0                     15.0   \n",
       "Huelva (capital)                             6481.0                     96.0   \n",
       "Sierra de Huelva-Andévalo Central            2299.0                      6.0   \n",
       "Huelva-Costa                                14799.0                    201.0   \n",
       "Huelva                                      24261.0                    308.0   \n",
       "\n",
       "Medida                             Confirmados PDIA 14 días  Población  \\\n",
       "Lugar de residencia                                                      \n",
       "Villalba del Alcor                                      2.0     3366.0   \n",
       "Trigueros                                               6.0     7862.0   \n",
       "Villanueva de los Castillejos                           9.0     2825.0   \n",
       "San Bartolomé de la Torre                               4.0     3761.0   \n",
       "Villablanca                                            11.0     2885.0   \n",
       "Alosno                                                  3.0     3933.0   \n",
       "Nerva                                                   7.0     5169.0   \n",
       "Palos de la Frontera                                   22.0    11742.0   \n",
       "Ayamonte                                               39.0    21104.0   \n",
       "Bonares                                                 7.0     6060.0   \n",
       "Gibraleón                                              17.0    12737.0   \n",
       "Aracena                                                 6.0     8255.0   \n",
       "Punta Umbría                                           36.0    15355.0   \n",
       "Condado-Campiña                                       280.0   156231.0   \n",
       "Aljaraque                                              21.0    21474.0   \n",
       "Valverde del Camino                                    13.0    12750.0   \n",
       "Isla Cristina                                          62.0    21393.0   \n",
       "Huelva (capital)                                      311.0   143837.0   \n",
       "Sierra de Huelva-Andévalo Central                      44.0    67391.0   \n",
       "Huelva-Costa                                          642.0   289548.0   \n",
       "Huelva                                                986.0   513170.0   \n",
       "\n",
       "Medida                                  tasa7      tasa14  Diferencia PDIA  \n",
       "Lugar de residencia                                                         \n",
       "Villalba del Alcor                  29.708853   59.417706              1.0  \n",
       "Trigueros                           63.597049   76.316459              1.0  \n",
       "Villanueva de los Castillejos      141.592920  318.584071             -1.0  \n",
       "San Bartolomé de la Torre           79.766020  106.354693             -1.0  \n",
       "Villablanca                        138.648180  381.282496             -1.0  \n",
       "Alosno                              25.425884   76.277651             -1.0  \n",
       "Nerva                               19.346102  135.422712             -1.0  \n",
       "Palos de la Frontera                42.582184  187.361608             -1.0  \n",
       "Ayamonte                            56.861259  184.799090             -2.0  \n",
       "Bonares                             33.003300  115.511551             -2.0  \n",
       "Gibraleón                           47.106854  133.469420             -2.0  \n",
       "Aracena                             24.227741   72.683222             -3.0  \n",
       "Punta Umbría                        71.637903  234.451319             -3.0  \n",
       "Condado-Campiña                     61.447472  179.221793             -5.0  \n",
       "Aljaraque                           27.940766   97.792680             -6.0  \n",
       "Valverde del Camino                  7.843137  101.960784             -9.0  \n",
       "Isla Cristina                       70.116393  289.814425            -10.0  \n",
       "Huelva (capital)                    66.742215  216.216968            -21.0  \n",
       "Sierra de Huelva-Andévalo Central    8.903266   65.290617            -28.0  \n",
       "Huelva-Costa                        69.418542  221.724895            -47.0  \n",
       "Huelva                              60.019097  192.139057            -82.0  "
      ],
      "text/html": "<div>\n<style scoped>\n    .dataframe tbody tr th:only-of-type {\n        vertical-align: middle;\n    }\n\n    .dataframe tbody tr th {\n        vertical-align: top;\n    }\n\n    .dataframe thead th {\n        text-align: right;\n    }\n</style>\n<table border=\"1\" class=\"dataframe\">\n  <thead>\n    <tr style=\"text-align: right;\">\n      <th>Medida</th>\n      <th>Confirmados PDIA</th>\n      <th>Confirmados PDIA 7 días</th>\n      <th>Confirmados PDIA 14 días</th>\n      <th>Población</th>\n      <th>tasa7</th>\n      <th>tasa14</th>\n      <th>Diferencia PDIA</th>\n    </tr>\n    <tr>\n      <th>Lugar de residencia</th>\n      <th></th>\n      <th></th>\n      <th></th>\n      <th></th>\n      <th></th>\n      <th></th>\n      <th></th>\n    </tr>\n  </thead>\n  <tbody>\n    <tr>\n      <th>Villalba del Alcor</th>\n      <td>438.0</td>\n      <td>1.0</td>\n      <td>2.0</td>\n      <td>3366.0</td>\n      <td>29.708853</td>\n      <td>59.417706</td>\n      <td>1.0</td>\n    </tr>\n    <tr>\n      <th>Trigueros</th>\n      <td>224.0</td>\n      <td>5.0</td>\n      <td>6.0</td>\n      <td>7862.0</td>\n      <td>63.597049</td>\n      <td>76.316459</td>\n      <td>1.0</td>\n    </tr>\n    <tr>\n      <th>Villanueva de los Castillejos</th>\n      <td>145.0</td>\n      <td>4.0</td>\n      <td>9.0</td>\n      <td>2825.0</td>\n      <td>141.592920</td>\n      <td>318.584071</td>\n      <td>-1.0</td>\n    </tr>\n    <tr>\n      <th>San Bartolomé de la Torre</th>\n      <td>191.0</td>\n      <td>3.0</td>\n      <td>4.0</td>\n      <td>3761.0</td>\n      <td>79.766020</td>\n      <td>106.354693</td>\n      <td>-1.0</td>\n    </tr>\n    <tr>\n      <th>Villablanca</th>\n      <td>167.0</td>\n      <td>4.0</td>\n      <td>11.0</td>\n      <td>2885.0</td>\n      <td>138.648180</td>\n      <td>381.282496</td>\n      <td>-1.0</td>\n    </tr>\n    <tr>\n      <th>Alosno</th>\n      <td>119.0</td>\n      <td>1.0</td>\n      <td>3.0</td>\n      <td>3933.0</td>\n      <td>25.425884</td>\n      <td>76.277651</td>\n      <td>-1.0</td>\n    </tr>\n    <tr>\n      <th>Nerva</th>\n      <td>151.0</td>\n      <td>1.0</td>\n      <td>7.0</td>\n      <td>5169.0</td>\n      <td>19.346102</td>\n      <td>135.422712</td>\n      <td>-1.0</td>\n    </tr>\n    <tr>\n      <th>Palos de la Frontera</th>\n      <td>439.0</td>\n      <td>5.0</td>\n      <td>22.0</td>\n      <td>11742.0</td>\n      <td>42.582184</td>\n      <td>187.361608</td>\n      <td>-1.0</td>\n    </tr>\n    <tr>\n      <th>Ayamonte</th>\n      <td>1178.0</td>\n      <td>12.0</td>\n      <td>39.0</td>\n      <td>21104.0</td>\n      <td>56.861259</td>\n      <td>184.799090</td>\n      <td>-2.0</td>\n    </tr>\n    <tr>\n      <th>Bonares</th>\n      <td>177.0</td>\n      <td>2.0</td>\n      <td>7.0</td>\n      <td>6060.0</td>\n      <td>33.003300</td>\n      <td>115.511551</td>\n      <td>-2.0</td>\n    </tr>\n    <tr>\n      <th>Gibraleón</th>\n      <td>508.0</td>\n      <td>6.0</td>\n      <td>17.0</td>\n      <td>12737.0</td>\n      <td>47.106854</td>\n      <td>133.469420</td>\n      <td>-2.0</td>\n    </tr>\n    <tr>\n      <th>Aracena</th>\n      <td>453.0</td>\n      <td>2.0</td>\n      <td>6.0</td>\n      <td>8255.0</td>\n      <td>24.227741</td>\n      <td>72.683222</td>\n      <td>-3.0</td>\n    </tr>\n    <tr>\n      <th>Punta Umbría</th>\n      <td>647.0</td>\n      <td>11.0</td>\n      <td>36.0</td>\n      <td>15355.0</td>\n      <td>71.637903</td>\n      <td>234.451319</td>\n      <td>-3.0</td>\n    </tr>\n    <tr>\n      <th>Condado-Campiña</th>\n      <td>6735.0</td>\n      <td>96.0</td>\n      <td>280.0</td>\n      <td>156231.0</td>\n      <td>61.447472</td>\n      <td>179.221793</td>\n      <td>-5.0</td>\n    </tr>\n    <tr>\n      <th>Aljaraque</th>\n      <td>915.0</td>\n      <td>6.0</td>\n      <td>21.0</td>\n      <td>21474.0</td>\n      <td>27.940766</td>\n      <td>97.792680</td>\n      <td>-6.0</td>\n    </tr>\n    <tr>\n      <th>Valverde del Camino</th>\n      <td>414.0</td>\n      <td>1.0</td>\n      <td>13.0</td>\n      <td>12750.0</td>\n      <td>7.843137</td>\n      <td>101.960784</td>\n      <td>-9.0</td>\n    </tr>\n    <tr>\n      <th>Isla Cristina</th>\n      <td>1971.0</td>\n      <td>15.0</td>\n      <td>62.0</td>\n      <td>21393.0</td>\n      <td>70.116393</td>\n      <td>289.814425</td>\n      <td>-10.0</td>\n    </tr>\n    <tr>\n      <th>Huelva (capital)</th>\n      <td>6481.0</td>\n      <td>96.0</td>\n      <td>311.0</td>\n      <td>143837.0</td>\n      <td>66.742215</td>\n      <td>216.216968</td>\n      <td>-21.0</td>\n    </tr>\n    <tr>\n      <th>Sierra de Huelva-Andévalo Central</th>\n      <td>2299.0</td>\n      <td>6.0</td>\n      <td>44.0</td>\n      <td>67391.0</td>\n      <td>8.903266</td>\n      <td>65.290617</td>\n      <td>-28.0</td>\n    </tr>\n    <tr>\n      <th>Huelva-Costa</th>\n      <td>14799.0</td>\n      <td>201.0</td>\n      <td>642.0</td>\n      <td>289548.0</td>\n      <td>69.418542</td>\n      <td>221.724895</td>\n      <td>-47.0</td>\n    </tr>\n    <tr>\n      <th>Huelva</th>\n      <td>24261.0</td>\n      <td>308.0</td>\n      <td>986.0</td>\n      <td>513170.0</td>\n      <td>60.019097</td>\n      <td>192.139057</td>\n      <td>-82.0</td>\n    </tr>\n  </tbody>\n</table>\n</div>"
     },
     "metadata": {},
     "execution_count": 15
    }
   ],
   "source": [
    "# Nuevos casos desde la última captura\n",
    "tabla[tabla['Diferencia PDIA'] != 0].sort_values('Diferencia PDIA', ascending=False)"
   ]
  },
  {
   "cell_type": "code",
   "execution_count": 16,
   "metadata": {},
   "outputs": [],
   "source": [
    "if tabla[tabla['Diferencia PDIA'] != 0]['Diferencia PDIA'].sum() != 0:\n",
    "  # Save to csv\n",
    "  tabla.to_csv('covid_huelva.csv', encoding='utf-8', header=True, index=True)  "
   ]
  },
  {
   "cell_type": "code",
   "execution_count": 17,
   "metadata": {},
   "outputs": [
    {
     "output_type": "execute_result",
     "data": {
      "text/plain": [
       "Medida                             Confirmados PDIA  Confirmados PDIA 7 días  \\\n",
       "Lugar de residencia                                                            \n",
       "Villablanca                                   167.0                      4.0   \n",
       "Escacena del Campo                            136.0                      3.0   \n",
       "Villanueva de los Castillejos                 145.0                      4.0   \n",
       "Almonte                                       826.0                     28.0   \n",
       "Cartaya                                       915.0                     31.0   \n",
       "Lepe                                         1964.0                     21.0   \n",
       "Bollullos Par del Condado                     591.0                     16.0   \n",
       "Isla Cristina                                1971.0                     15.0   \n",
       "Punta Umbría                                  647.0                     11.0   \n",
       "Huelva-Costa                                14799.0                    201.0   \n",
       "Huelva (capital)                             6481.0                     96.0   \n",
       "Moguer                                        803.0                     16.0   \n",
       "Rociana del Condado                           303.0                      5.0   \n",
       "Huelva                                      24261.0                    308.0   \n",
       "Palos de la Frontera                          439.0                      5.0   \n",
       "Ayamonte                                     1178.0                     12.0   \n",
       "Condado-Campiña                              6735.0                     96.0   \n",
       "Cerro de Andévalo (El)                        135.0                      1.0   \n",
       "Beas                                          159.0                      2.0   \n",
       "Nerva                                         151.0                      1.0   \n",
       "Gibraleón                                     508.0                      6.0   \n",
       "Bonares                                       177.0                      2.0   \n",
       "San Bartolomé de la Torre                     191.0                      3.0   \n",
       "Valverde del Camino                           414.0                      1.0   \n",
       "Palma del Condado (La)                        960.0                      2.0   \n",
       "Aljaraque                                     915.0                      6.0   \n",
       "Trigueros                                     224.0                      5.0   \n",
       "Alosno                                        119.0                      1.0   \n",
       "Aracena                                       453.0                      2.0   \n",
       "Calañas                                       171.0                      1.0   \n",
       "Sierra de Huelva-Andévalo Central            2299.0                      6.0   \n",
       "Villalba del Alcor                            438.0                      1.0   \n",
       "San Juan del Puerto                           355.0                      1.0   \n",
       "Paterna del Campo                             110.0                      1.0   \n",
       "\n",
       "Medida                             Confirmados PDIA 14 días  Población  \\\n",
       "Lugar de residencia                                                      \n",
       "Villablanca                                            11.0     2885.0   \n",
       "Escacena del Campo                                      8.0     2287.0   \n",
       "Villanueva de los Castillejos                           9.0     2825.0   \n",
       "Almonte                                                78.0    24507.0   \n",
       "Cartaya                                                62.0    20083.0   \n",
       "Lepe                                                   86.0    27880.0   \n",
       "Bollullos Par del Condado                              43.0    14387.0   \n",
       "Isla Cristina                                          62.0    21393.0   \n",
       "Punta Umbría                                           36.0    15355.0   \n",
       "Huelva-Costa                                          642.0   289548.0   \n",
       "Huelva (capital)                                      311.0   143837.0   \n",
       "Moguer                                                 47.0    21867.0   \n",
       "Rociana del Condado                                    17.0     7939.0   \n",
       "Huelva                                                986.0   513170.0   \n",
       "Palos de la Frontera                                   22.0    11742.0   \n",
       "Ayamonte                                               39.0    21104.0   \n",
       "Condado-Campiña                                       280.0   156231.0   \n",
       "Cerro de Andévalo (El)                                  4.0     2327.0   \n",
       "Beas                                                    6.0     4341.0   \n",
       "Nerva                                                   7.0     5169.0   \n",
       "Gibraleón                                              17.0    12737.0   \n",
       "Bonares                                                 7.0     6060.0   \n",
       "San Bartolomé de la Torre                               4.0     3761.0   \n",
       "Valverde del Camino                                    13.0    12750.0   \n",
       "Palma del Condado (La)                                 11.0    10801.0   \n",
       "Aljaraque                                              21.0    21474.0   \n",
       "Trigueros                                               6.0     7862.0   \n",
       "Alosno                                                  3.0     3933.0   \n",
       "Aracena                                                 6.0     8255.0   \n",
       "Calañas                                                 2.0     2768.0   \n",
       "Sierra de Huelva-Andévalo Central                      44.0    67391.0   \n",
       "Villalba del Alcor                                      2.0     3366.0   \n",
       "San Juan del Puerto                                     5.0     9411.0   \n",
       "Paterna del Campo                                       1.0     3457.0   \n",
       "\n",
       "Medida                                  tasa7      tasa14  Diferencia PDIA  \n",
       "Lugar de residencia                                                         \n",
       "Villablanca                        138.648180  381.282496             -1.0  \n",
       "Escacena del Campo                 131.176213  349.803236              0.0  \n",
       "Villanueva de los Castillejos      141.592920  318.584071             -1.0  \n",
       "Almonte                            114.253071  318.276411              0.0  \n",
       "Cartaya                            154.359408  308.718817              0.0  \n",
       "Lepe                                75.322812  308.464849              0.0  \n",
       "Bollullos Par del Condado          111.211510  298.880934              0.0  \n",
       "Isla Cristina                       70.116393  289.814425            -10.0  \n",
       "Punta Umbría                        71.637903  234.451319             -3.0  \n",
       "Huelva-Costa                        69.418542  221.724895            -47.0  \n",
       "Huelva (capital)                    66.742215  216.216968            -21.0  \n",
       "Moguer                              73.169616  214.935748              0.0  \n",
       "Rociana del Condado                 62.980224  214.132762              0.0  \n",
       "Huelva                              60.019097  192.139057            -82.0  \n",
       "Palos de la Frontera                42.582184  187.361608             -1.0  \n",
       "Ayamonte                            56.861259  184.799090             -2.0  \n",
       "Condado-Campiña                     61.447472  179.221793             -5.0  \n",
       "Cerro de Andévalo (El)              42.973786  171.895144              0.0  \n",
       "Beas                                46.072334  138.217001              0.0  \n",
       "Nerva                               19.346102  135.422712             -1.0  \n",
       "Gibraleón                           47.106854  133.469420             -2.0  \n",
       "Bonares                             33.003300  115.511551             -2.0  \n",
       "San Bartolomé de la Torre           79.766020  106.354693             -1.0  \n",
       "Valverde del Camino                  7.843137  101.960784             -9.0  \n",
       "Palma del Condado (La)              18.516804  101.842422              0.0  \n",
       "Aljaraque                           27.940766   97.792680             -6.0  \n",
       "Trigueros                           63.597049   76.316459              1.0  \n",
       "Alosno                              25.425884   76.277651             -1.0  \n",
       "Aracena                             24.227741   72.683222             -3.0  \n",
       "Calañas                             36.127168   72.254335              0.0  \n",
       "Sierra de Huelva-Andévalo Central    8.903266   65.290617            -28.0  \n",
       "Villalba del Alcor                  29.708853   59.417706              1.0  \n",
       "San Juan del Puerto                 10.625863   53.129317              0.0  \n",
       "Paterna del Campo                   28.926815   28.926815              0.0  "
      ],
      "text/html": "<div>\n<style scoped>\n    .dataframe tbody tr th:only-of-type {\n        vertical-align: middle;\n    }\n\n    .dataframe tbody tr th {\n        vertical-align: top;\n    }\n\n    .dataframe thead th {\n        text-align: right;\n    }\n</style>\n<table border=\"1\" class=\"dataframe\">\n  <thead>\n    <tr style=\"text-align: right;\">\n      <th>Medida</th>\n      <th>Confirmados PDIA</th>\n      <th>Confirmados PDIA 7 días</th>\n      <th>Confirmados PDIA 14 días</th>\n      <th>Población</th>\n      <th>tasa7</th>\n      <th>tasa14</th>\n      <th>Diferencia PDIA</th>\n    </tr>\n    <tr>\n      <th>Lugar de residencia</th>\n      <th></th>\n      <th></th>\n      <th></th>\n      <th></th>\n      <th></th>\n      <th></th>\n      <th></th>\n    </tr>\n  </thead>\n  <tbody>\n    <tr>\n      <th>Villablanca</th>\n      <td>167.0</td>\n      <td>4.0</td>\n      <td>11.0</td>\n      <td>2885.0</td>\n      <td>138.648180</td>\n      <td>381.282496</td>\n      <td>-1.0</td>\n    </tr>\n    <tr>\n      <th>Escacena del Campo</th>\n      <td>136.0</td>\n      <td>3.0</td>\n      <td>8.0</td>\n      <td>2287.0</td>\n      <td>131.176213</td>\n      <td>349.803236</td>\n      <td>0.0</td>\n    </tr>\n    <tr>\n      <th>Villanueva de los Castillejos</th>\n      <td>145.0</td>\n      <td>4.0</td>\n      <td>9.0</td>\n      <td>2825.0</td>\n      <td>141.592920</td>\n      <td>318.584071</td>\n      <td>-1.0</td>\n    </tr>\n    <tr>\n      <th>Almonte</th>\n      <td>826.0</td>\n      <td>28.0</td>\n      <td>78.0</td>\n      <td>24507.0</td>\n      <td>114.253071</td>\n      <td>318.276411</td>\n      <td>0.0</td>\n    </tr>\n    <tr>\n      <th>Cartaya</th>\n      <td>915.0</td>\n      <td>31.0</td>\n      <td>62.0</td>\n      <td>20083.0</td>\n      <td>154.359408</td>\n      <td>308.718817</td>\n      <td>0.0</td>\n    </tr>\n    <tr>\n      <th>Lepe</th>\n      <td>1964.0</td>\n      <td>21.0</td>\n      <td>86.0</td>\n      <td>27880.0</td>\n      <td>75.322812</td>\n      <td>308.464849</td>\n      <td>0.0</td>\n    </tr>\n    <tr>\n      <th>Bollullos Par del Condado</th>\n      <td>591.0</td>\n      <td>16.0</td>\n      <td>43.0</td>\n      <td>14387.0</td>\n      <td>111.211510</td>\n      <td>298.880934</td>\n      <td>0.0</td>\n    </tr>\n    <tr>\n      <th>Isla Cristina</th>\n      <td>1971.0</td>\n      <td>15.0</td>\n      <td>62.0</td>\n      <td>21393.0</td>\n      <td>70.116393</td>\n      <td>289.814425</td>\n      <td>-10.0</td>\n    </tr>\n    <tr>\n      <th>Punta Umbría</th>\n      <td>647.0</td>\n      <td>11.0</td>\n      <td>36.0</td>\n      <td>15355.0</td>\n      <td>71.637903</td>\n      <td>234.451319</td>\n      <td>-3.0</td>\n    </tr>\n    <tr>\n      <th>Huelva-Costa</th>\n      <td>14799.0</td>\n      <td>201.0</td>\n      <td>642.0</td>\n      <td>289548.0</td>\n      <td>69.418542</td>\n      <td>221.724895</td>\n      <td>-47.0</td>\n    </tr>\n    <tr>\n      <th>Huelva (capital)</th>\n      <td>6481.0</td>\n      <td>96.0</td>\n      <td>311.0</td>\n      <td>143837.0</td>\n      <td>66.742215</td>\n      <td>216.216968</td>\n      <td>-21.0</td>\n    </tr>\n    <tr>\n      <th>Moguer</th>\n      <td>803.0</td>\n      <td>16.0</td>\n      <td>47.0</td>\n      <td>21867.0</td>\n      <td>73.169616</td>\n      <td>214.935748</td>\n      <td>0.0</td>\n    </tr>\n    <tr>\n      <th>Rociana del Condado</th>\n      <td>303.0</td>\n      <td>5.0</td>\n      <td>17.0</td>\n      <td>7939.0</td>\n      <td>62.980224</td>\n      <td>214.132762</td>\n      <td>0.0</td>\n    </tr>\n    <tr>\n      <th>Huelva</th>\n      <td>24261.0</td>\n      <td>308.0</td>\n      <td>986.0</td>\n      <td>513170.0</td>\n      <td>60.019097</td>\n      <td>192.139057</td>\n      <td>-82.0</td>\n    </tr>\n    <tr>\n      <th>Palos de la Frontera</th>\n      <td>439.0</td>\n      <td>5.0</td>\n      <td>22.0</td>\n      <td>11742.0</td>\n      <td>42.582184</td>\n      <td>187.361608</td>\n      <td>-1.0</td>\n    </tr>\n    <tr>\n      <th>Ayamonte</th>\n      <td>1178.0</td>\n      <td>12.0</td>\n      <td>39.0</td>\n      <td>21104.0</td>\n      <td>56.861259</td>\n      <td>184.799090</td>\n      <td>-2.0</td>\n    </tr>\n    <tr>\n      <th>Condado-Campiña</th>\n      <td>6735.0</td>\n      <td>96.0</td>\n      <td>280.0</td>\n      <td>156231.0</td>\n      <td>61.447472</td>\n      <td>179.221793</td>\n      <td>-5.0</td>\n    </tr>\n    <tr>\n      <th>Cerro de Andévalo (El)</th>\n      <td>135.0</td>\n      <td>1.0</td>\n      <td>4.0</td>\n      <td>2327.0</td>\n      <td>42.973786</td>\n      <td>171.895144</td>\n      <td>0.0</td>\n    </tr>\n    <tr>\n      <th>Beas</th>\n      <td>159.0</td>\n      <td>2.0</td>\n      <td>6.0</td>\n      <td>4341.0</td>\n      <td>46.072334</td>\n      <td>138.217001</td>\n      <td>0.0</td>\n    </tr>\n    <tr>\n      <th>Nerva</th>\n      <td>151.0</td>\n      <td>1.0</td>\n      <td>7.0</td>\n      <td>5169.0</td>\n      <td>19.346102</td>\n      <td>135.422712</td>\n      <td>-1.0</td>\n    </tr>\n    <tr>\n      <th>Gibraleón</th>\n      <td>508.0</td>\n      <td>6.0</td>\n      <td>17.0</td>\n      <td>12737.0</td>\n      <td>47.106854</td>\n      <td>133.469420</td>\n      <td>-2.0</td>\n    </tr>\n    <tr>\n      <th>Bonares</th>\n      <td>177.0</td>\n      <td>2.0</td>\n      <td>7.0</td>\n      <td>6060.0</td>\n      <td>33.003300</td>\n      <td>115.511551</td>\n      <td>-2.0</td>\n    </tr>\n    <tr>\n      <th>San Bartolomé de la Torre</th>\n      <td>191.0</td>\n      <td>3.0</td>\n      <td>4.0</td>\n      <td>3761.0</td>\n      <td>79.766020</td>\n      <td>106.354693</td>\n      <td>-1.0</td>\n    </tr>\n    <tr>\n      <th>Valverde del Camino</th>\n      <td>414.0</td>\n      <td>1.0</td>\n      <td>13.0</td>\n      <td>12750.0</td>\n      <td>7.843137</td>\n      <td>101.960784</td>\n      <td>-9.0</td>\n    </tr>\n    <tr>\n      <th>Palma del Condado (La)</th>\n      <td>960.0</td>\n      <td>2.0</td>\n      <td>11.0</td>\n      <td>10801.0</td>\n      <td>18.516804</td>\n      <td>101.842422</td>\n      <td>0.0</td>\n    </tr>\n    <tr>\n      <th>Aljaraque</th>\n      <td>915.0</td>\n      <td>6.0</td>\n      <td>21.0</td>\n      <td>21474.0</td>\n      <td>27.940766</td>\n      <td>97.792680</td>\n      <td>-6.0</td>\n    </tr>\n    <tr>\n      <th>Trigueros</th>\n      <td>224.0</td>\n      <td>5.0</td>\n      <td>6.0</td>\n      <td>7862.0</td>\n      <td>63.597049</td>\n      <td>76.316459</td>\n      <td>1.0</td>\n    </tr>\n    <tr>\n      <th>Alosno</th>\n      <td>119.0</td>\n      <td>1.0</td>\n      <td>3.0</td>\n      <td>3933.0</td>\n      <td>25.425884</td>\n      <td>76.277651</td>\n      <td>-1.0</td>\n    </tr>\n    <tr>\n      <th>Aracena</th>\n      <td>453.0</td>\n      <td>2.0</td>\n      <td>6.0</td>\n      <td>8255.0</td>\n      <td>24.227741</td>\n      <td>72.683222</td>\n      <td>-3.0</td>\n    </tr>\n    <tr>\n      <th>Calañas</th>\n      <td>171.0</td>\n      <td>1.0</td>\n      <td>2.0</td>\n      <td>2768.0</td>\n      <td>36.127168</td>\n      <td>72.254335</td>\n      <td>0.0</td>\n    </tr>\n    <tr>\n      <th>Sierra de Huelva-Andévalo Central</th>\n      <td>2299.0</td>\n      <td>6.0</td>\n      <td>44.0</td>\n      <td>67391.0</td>\n      <td>8.903266</td>\n      <td>65.290617</td>\n      <td>-28.0</td>\n    </tr>\n    <tr>\n      <th>Villalba del Alcor</th>\n      <td>438.0</td>\n      <td>1.0</td>\n      <td>2.0</td>\n      <td>3366.0</td>\n      <td>29.708853</td>\n      <td>59.417706</td>\n      <td>1.0</td>\n    </tr>\n    <tr>\n      <th>San Juan del Puerto</th>\n      <td>355.0</td>\n      <td>1.0</td>\n      <td>5.0</td>\n      <td>9411.0</td>\n      <td>10.625863</td>\n      <td>53.129317</td>\n      <td>0.0</td>\n    </tr>\n    <tr>\n      <th>Paterna del Campo</th>\n      <td>110.0</td>\n      <td>1.0</td>\n      <td>1.0</td>\n      <td>3457.0</td>\n      <td>28.926815</td>\n      <td>28.926815</td>\n      <td>0.0</td>\n    </tr>\n  </tbody>\n</table>\n</div>"
     },
     "metadata": {},
     "execution_count": 17
    }
   ],
   "source": [
    "tabla.sort_values('tasa14', ascending=False)"
   ]
  },
  {
   "cell_type": "code",
   "execution_count": 18,
   "metadata": {},
   "outputs": [
    {
     "output_type": "execute_result",
     "data": {
      "text/plain": [
       "Medida                             Confirmados PDIA  Confirmados PDIA 7 días  \\\n",
       "Lugar de residencia                                                            \n",
       "Valverde del Camino                           414.0                      1.0   \n",
       "Sierra de Huelva-Andévalo Central            2299.0                      6.0   \n",
       "Nerva                                         151.0                      1.0   \n",
       "Palma del Condado (La)                        960.0                      2.0   \n",
       "San Juan del Puerto                           355.0                      1.0   \n",
       "Palos de la Frontera                          439.0                      5.0   \n",
       "Isla Cristina                                1971.0                     15.0   \n",
       "Lepe                                         1964.0                     21.0   \n",
       "Cerro de Andévalo (El)                        135.0                      1.0   \n",
       "Aljaraque                                     915.0                      6.0   \n",
       "Bonares                                       177.0                      2.0   \n",
       "Rociana del Condado                           303.0                      5.0   \n",
       "Punta Umbría                                  647.0                     11.0   \n",
       "Ayamonte                                     1178.0                     12.0   \n",
       "Huelva (capital)                             6481.0                     96.0   \n",
       "Huelva                                      24261.0                    308.0   \n",
       "Huelva-Costa                                14799.0                    201.0   \n",
       "Alosno                                        119.0                      1.0   \n",
       "Beas                                          159.0                      2.0   \n",
       "Aracena                                       453.0                      2.0   \n",
       "Moguer                                        803.0                     16.0   \n",
       "Condado-Campiña                              6735.0                     96.0   \n",
       "Gibraleón                                     508.0                      6.0   \n",
       "Almonte                                       826.0                     28.0   \n",
       "Villablanca                                   167.0                      4.0   \n",
       "Bollullos Par del Condado                     591.0                     16.0   \n",
       "Escacena del Campo                            136.0                      3.0   \n",
       "Villanueva de los Castillejos                 145.0                      4.0   \n",
       "Villalba del Alcor                            438.0                      1.0   \n",
       "Cartaya                                       915.0                     31.0   \n",
       "Calañas                                       171.0                      1.0   \n",
       "San Bartolomé de la Torre                     191.0                      3.0   \n",
       "Trigueros                                     224.0                      5.0   \n",
       "Paterna del Campo                             110.0                      1.0   \n",
       "\n",
       "Medida                             Confirmados PDIA 14 días  Población  \\\n",
       "Lugar de residencia                                                      \n",
       "Valverde del Camino                                    13.0    12750.0   \n",
       "Sierra de Huelva-Andévalo Central                      44.0    67391.0   \n",
       "Nerva                                                   7.0     5169.0   \n",
       "Palma del Condado (La)                                 11.0    10801.0   \n",
       "San Juan del Puerto                                     5.0     9411.0   \n",
       "Palos de la Frontera                                   22.0    11742.0   \n",
       "Isla Cristina                                          62.0    21393.0   \n",
       "Lepe                                                   86.0    27880.0   \n",
       "Cerro de Andévalo (El)                                  4.0     2327.0   \n",
       "Aljaraque                                              21.0    21474.0   \n",
       "Bonares                                                 7.0     6060.0   \n",
       "Rociana del Condado                                    17.0     7939.0   \n",
       "Punta Umbría                                           36.0    15355.0   \n",
       "Ayamonte                                               39.0    21104.0   \n",
       "Huelva (capital)                                      311.0   143837.0   \n",
       "Huelva                                                986.0   513170.0   \n",
       "Huelva-Costa                                          642.0   289548.0   \n",
       "Alosno                                                  3.0     3933.0   \n",
       "Beas                                                    6.0     4341.0   \n",
       "Aracena                                                 6.0     8255.0   \n",
       "Moguer                                                 47.0    21867.0   \n",
       "Condado-Campiña                                       280.0   156231.0   \n",
       "Gibraleón                                              17.0    12737.0   \n",
       "Almonte                                                78.0    24507.0   \n",
       "Villablanca                                            11.0     2885.0   \n",
       "Bollullos Par del Condado                              43.0    14387.0   \n",
       "Escacena del Campo                                      8.0     2287.0   \n",
       "Villanueva de los Castillejos                           9.0     2825.0   \n",
       "Villalba del Alcor                                      2.0     3366.0   \n",
       "Cartaya                                                62.0    20083.0   \n",
       "Calañas                                                 2.0     2768.0   \n",
       "San Bartolomé de la Torre                               4.0     3761.0   \n",
       "Trigueros                                               6.0     7862.0   \n",
       "Paterna del Campo                                       1.0     3457.0   \n",
       "\n",
       "Medida                                  tasa7      tasa14  Diferencia PDIA  \\\n",
       "Lugar de residencia                                                          \n",
       "Valverde del Camino                  7.843137  101.960784             -9.0   \n",
       "Sierra de Huelva-Andévalo Central    8.903266   65.290617            -28.0   \n",
       "Nerva                               19.346102  135.422712             -1.0   \n",
       "Palma del Condado (La)              18.516804  101.842422              0.0   \n",
       "San Juan del Puerto                 10.625863   53.129317              0.0   \n",
       "Palos de la Frontera                42.582184  187.361608             -1.0   \n",
       "Isla Cristina                       70.116393  289.814425            -10.0   \n",
       "Lepe                                75.322812  308.464849              0.0   \n",
       "Cerro de Andévalo (El)              42.973786  171.895144              0.0   \n",
       "Aljaraque                           27.940766   97.792680             -6.0   \n",
       "Bonares                             33.003300  115.511551             -2.0   \n",
       "Rociana del Condado                 62.980224  214.132762              0.0   \n",
       "Punta Umbría                        71.637903  234.451319             -3.0   \n",
       "Ayamonte                            56.861259  184.799090             -2.0   \n",
       "Huelva (capital)                    66.742215  216.216968            -21.0   \n",
       "Huelva                              60.019097  192.139057            -82.0   \n",
       "Huelva-Costa                        69.418542  221.724895            -47.0   \n",
       "Alosno                              25.425884   76.277651             -1.0   \n",
       "Beas                                46.072334  138.217001              0.0   \n",
       "Aracena                             24.227741   72.683222             -3.0   \n",
       "Moguer                              73.169616  214.935748              0.0   \n",
       "Condado-Campiña                     61.447472  179.221793             -5.0   \n",
       "Gibraleón                           47.106854  133.469420             -2.0   \n",
       "Almonte                            114.253071  318.276411              0.0   \n",
       "Villablanca                        138.648180  381.282496             -1.0   \n",
       "Bollullos Par del Condado          111.211510  298.880934              0.0   \n",
       "Escacena del Campo                 131.176213  349.803236              0.0   \n",
       "Villanueva de los Castillejos      141.592920  318.584071             -1.0   \n",
       "Villalba del Alcor                  29.708853   59.417706              1.0   \n",
       "Cartaya                            154.359408  308.718817              0.0   \n",
       "Calañas                             36.127168   72.254335              0.0   \n",
       "San Bartolomé de la Torre           79.766020  106.354693             -1.0   \n",
       "Trigueros                           63.597049   76.316459              1.0   \n",
       "Paterna del Campo                   28.926815   28.926815              0.0   \n",
       "\n",
       "Medida                                 7/14  \n",
       "Lugar de residencia                          \n",
       "Valverde del Camino                0.076923  \n",
       "Sierra de Huelva-Andévalo Central  0.136364  \n",
       "Nerva                              0.142857  \n",
       "Palma del Condado (La)             0.181818  \n",
       "San Juan del Puerto                0.200000  \n",
       "Palos de la Frontera               0.227273  \n",
       "Isla Cristina                      0.241935  \n",
       "Lepe                               0.244186  \n",
       "Cerro de Andévalo (El)             0.250000  \n",
       "Aljaraque                          0.285714  \n",
       "Bonares                            0.285714  \n",
       "Rociana del Condado                0.294118  \n",
       "Punta Umbría                       0.305556  \n",
       "Ayamonte                           0.307692  \n",
       "Huelva (capital)                   0.308682  \n",
       "Huelva                             0.312373  \n",
       "Huelva-Costa                       0.313084  \n",
       "Alosno                             0.333333  \n",
       "Beas                               0.333333  \n",
       "Aracena                            0.333333  \n",
       "Moguer                             0.340426  \n",
       "Condado-Campiña                    0.342857  \n",
       "Gibraleón                          0.352941  \n",
       "Almonte                            0.358974  \n",
       "Villablanca                        0.363636  \n",
       "Bollullos Par del Condado          0.372093  \n",
       "Escacena del Campo                 0.375000  \n",
       "Villanueva de los Castillejos      0.444444  \n",
       "Villalba del Alcor                 0.500000  \n",
       "Cartaya                            0.500000  \n",
       "Calañas                            0.500000  \n",
       "San Bartolomé de la Torre          0.750000  \n",
       "Trigueros                          0.833333  \n",
       "Paterna del Campo                  1.000000  "
      ],
      "text/html": "<div>\n<style scoped>\n    .dataframe tbody tr th:only-of-type {\n        vertical-align: middle;\n    }\n\n    .dataframe tbody tr th {\n        vertical-align: top;\n    }\n\n    .dataframe thead th {\n        text-align: right;\n    }\n</style>\n<table border=\"1\" class=\"dataframe\">\n  <thead>\n    <tr style=\"text-align: right;\">\n      <th>Medida</th>\n      <th>Confirmados PDIA</th>\n      <th>Confirmados PDIA 7 días</th>\n      <th>Confirmados PDIA 14 días</th>\n      <th>Población</th>\n      <th>tasa7</th>\n      <th>tasa14</th>\n      <th>Diferencia PDIA</th>\n      <th>7/14</th>\n    </tr>\n    <tr>\n      <th>Lugar de residencia</th>\n      <th></th>\n      <th></th>\n      <th></th>\n      <th></th>\n      <th></th>\n      <th></th>\n      <th></th>\n      <th></th>\n    </tr>\n  </thead>\n  <tbody>\n    <tr>\n      <th>Valverde del Camino</th>\n      <td>414.0</td>\n      <td>1.0</td>\n      <td>13.0</td>\n      <td>12750.0</td>\n      <td>7.843137</td>\n      <td>101.960784</td>\n      <td>-9.0</td>\n      <td>0.076923</td>\n    </tr>\n    <tr>\n      <th>Sierra de Huelva-Andévalo Central</th>\n      <td>2299.0</td>\n      <td>6.0</td>\n      <td>44.0</td>\n      <td>67391.0</td>\n      <td>8.903266</td>\n      <td>65.290617</td>\n      <td>-28.0</td>\n      <td>0.136364</td>\n    </tr>\n    <tr>\n      <th>Nerva</th>\n      <td>151.0</td>\n      <td>1.0</td>\n      <td>7.0</td>\n      <td>5169.0</td>\n      <td>19.346102</td>\n      <td>135.422712</td>\n      <td>-1.0</td>\n      <td>0.142857</td>\n    </tr>\n    <tr>\n      <th>Palma del Condado (La)</th>\n      <td>960.0</td>\n      <td>2.0</td>\n      <td>11.0</td>\n      <td>10801.0</td>\n      <td>18.516804</td>\n      <td>101.842422</td>\n      <td>0.0</td>\n      <td>0.181818</td>\n    </tr>\n    <tr>\n      <th>San Juan del Puerto</th>\n      <td>355.0</td>\n      <td>1.0</td>\n      <td>5.0</td>\n      <td>9411.0</td>\n      <td>10.625863</td>\n      <td>53.129317</td>\n      <td>0.0</td>\n      <td>0.200000</td>\n    </tr>\n    <tr>\n      <th>Palos de la Frontera</th>\n      <td>439.0</td>\n      <td>5.0</td>\n      <td>22.0</td>\n      <td>11742.0</td>\n      <td>42.582184</td>\n      <td>187.361608</td>\n      <td>-1.0</td>\n      <td>0.227273</td>\n    </tr>\n    <tr>\n      <th>Isla Cristina</th>\n      <td>1971.0</td>\n      <td>15.0</td>\n      <td>62.0</td>\n      <td>21393.0</td>\n      <td>70.116393</td>\n      <td>289.814425</td>\n      <td>-10.0</td>\n      <td>0.241935</td>\n    </tr>\n    <tr>\n      <th>Lepe</th>\n      <td>1964.0</td>\n      <td>21.0</td>\n      <td>86.0</td>\n      <td>27880.0</td>\n      <td>75.322812</td>\n      <td>308.464849</td>\n      <td>0.0</td>\n      <td>0.244186</td>\n    </tr>\n    <tr>\n      <th>Cerro de Andévalo (El)</th>\n      <td>135.0</td>\n      <td>1.0</td>\n      <td>4.0</td>\n      <td>2327.0</td>\n      <td>42.973786</td>\n      <td>171.895144</td>\n      <td>0.0</td>\n      <td>0.250000</td>\n    </tr>\n    <tr>\n      <th>Aljaraque</th>\n      <td>915.0</td>\n      <td>6.0</td>\n      <td>21.0</td>\n      <td>21474.0</td>\n      <td>27.940766</td>\n      <td>97.792680</td>\n      <td>-6.0</td>\n      <td>0.285714</td>\n    </tr>\n    <tr>\n      <th>Bonares</th>\n      <td>177.0</td>\n      <td>2.0</td>\n      <td>7.0</td>\n      <td>6060.0</td>\n      <td>33.003300</td>\n      <td>115.511551</td>\n      <td>-2.0</td>\n      <td>0.285714</td>\n    </tr>\n    <tr>\n      <th>Rociana del Condado</th>\n      <td>303.0</td>\n      <td>5.0</td>\n      <td>17.0</td>\n      <td>7939.0</td>\n      <td>62.980224</td>\n      <td>214.132762</td>\n      <td>0.0</td>\n      <td>0.294118</td>\n    </tr>\n    <tr>\n      <th>Punta Umbría</th>\n      <td>647.0</td>\n      <td>11.0</td>\n      <td>36.0</td>\n      <td>15355.0</td>\n      <td>71.637903</td>\n      <td>234.451319</td>\n      <td>-3.0</td>\n      <td>0.305556</td>\n    </tr>\n    <tr>\n      <th>Ayamonte</th>\n      <td>1178.0</td>\n      <td>12.0</td>\n      <td>39.0</td>\n      <td>21104.0</td>\n      <td>56.861259</td>\n      <td>184.799090</td>\n      <td>-2.0</td>\n      <td>0.307692</td>\n    </tr>\n    <tr>\n      <th>Huelva (capital)</th>\n      <td>6481.0</td>\n      <td>96.0</td>\n      <td>311.0</td>\n      <td>143837.0</td>\n      <td>66.742215</td>\n      <td>216.216968</td>\n      <td>-21.0</td>\n      <td>0.308682</td>\n    </tr>\n    <tr>\n      <th>Huelva</th>\n      <td>24261.0</td>\n      <td>308.0</td>\n      <td>986.0</td>\n      <td>513170.0</td>\n      <td>60.019097</td>\n      <td>192.139057</td>\n      <td>-82.0</td>\n      <td>0.312373</td>\n    </tr>\n    <tr>\n      <th>Huelva-Costa</th>\n      <td>14799.0</td>\n      <td>201.0</td>\n      <td>642.0</td>\n      <td>289548.0</td>\n      <td>69.418542</td>\n      <td>221.724895</td>\n      <td>-47.0</td>\n      <td>0.313084</td>\n    </tr>\n    <tr>\n      <th>Alosno</th>\n      <td>119.0</td>\n      <td>1.0</td>\n      <td>3.0</td>\n      <td>3933.0</td>\n      <td>25.425884</td>\n      <td>76.277651</td>\n      <td>-1.0</td>\n      <td>0.333333</td>\n    </tr>\n    <tr>\n      <th>Beas</th>\n      <td>159.0</td>\n      <td>2.0</td>\n      <td>6.0</td>\n      <td>4341.0</td>\n      <td>46.072334</td>\n      <td>138.217001</td>\n      <td>0.0</td>\n      <td>0.333333</td>\n    </tr>\n    <tr>\n      <th>Aracena</th>\n      <td>453.0</td>\n      <td>2.0</td>\n      <td>6.0</td>\n      <td>8255.0</td>\n      <td>24.227741</td>\n      <td>72.683222</td>\n      <td>-3.0</td>\n      <td>0.333333</td>\n    </tr>\n    <tr>\n      <th>Moguer</th>\n      <td>803.0</td>\n      <td>16.0</td>\n      <td>47.0</td>\n      <td>21867.0</td>\n      <td>73.169616</td>\n      <td>214.935748</td>\n      <td>0.0</td>\n      <td>0.340426</td>\n    </tr>\n    <tr>\n      <th>Condado-Campiña</th>\n      <td>6735.0</td>\n      <td>96.0</td>\n      <td>280.0</td>\n      <td>156231.0</td>\n      <td>61.447472</td>\n      <td>179.221793</td>\n      <td>-5.0</td>\n      <td>0.342857</td>\n    </tr>\n    <tr>\n      <th>Gibraleón</th>\n      <td>508.0</td>\n      <td>6.0</td>\n      <td>17.0</td>\n      <td>12737.0</td>\n      <td>47.106854</td>\n      <td>133.469420</td>\n      <td>-2.0</td>\n      <td>0.352941</td>\n    </tr>\n    <tr>\n      <th>Almonte</th>\n      <td>826.0</td>\n      <td>28.0</td>\n      <td>78.0</td>\n      <td>24507.0</td>\n      <td>114.253071</td>\n      <td>318.276411</td>\n      <td>0.0</td>\n      <td>0.358974</td>\n    </tr>\n    <tr>\n      <th>Villablanca</th>\n      <td>167.0</td>\n      <td>4.0</td>\n      <td>11.0</td>\n      <td>2885.0</td>\n      <td>138.648180</td>\n      <td>381.282496</td>\n      <td>-1.0</td>\n      <td>0.363636</td>\n    </tr>\n    <tr>\n      <th>Bollullos Par del Condado</th>\n      <td>591.0</td>\n      <td>16.0</td>\n      <td>43.0</td>\n      <td>14387.0</td>\n      <td>111.211510</td>\n      <td>298.880934</td>\n      <td>0.0</td>\n      <td>0.372093</td>\n    </tr>\n    <tr>\n      <th>Escacena del Campo</th>\n      <td>136.0</td>\n      <td>3.0</td>\n      <td>8.0</td>\n      <td>2287.0</td>\n      <td>131.176213</td>\n      <td>349.803236</td>\n      <td>0.0</td>\n      <td>0.375000</td>\n    </tr>\n    <tr>\n      <th>Villanueva de los Castillejos</th>\n      <td>145.0</td>\n      <td>4.0</td>\n      <td>9.0</td>\n      <td>2825.0</td>\n      <td>141.592920</td>\n      <td>318.584071</td>\n      <td>-1.0</td>\n      <td>0.444444</td>\n    </tr>\n    <tr>\n      <th>Villalba del Alcor</th>\n      <td>438.0</td>\n      <td>1.0</td>\n      <td>2.0</td>\n      <td>3366.0</td>\n      <td>29.708853</td>\n      <td>59.417706</td>\n      <td>1.0</td>\n      <td>0.500000</td>\n    </tr>\n    <tr>\n      <th>Cartaya</th>\n      <td>915.0</td>\n      <td>31.0</td>\n      <td>62.0</td>\n      <td>20083.0</td>\n      <td>154.359408</td>\n      <td>308.718817</td>\n      <td>0.0</td>\n      <td>0.500000</td>\n    </tr>\n    <tr>\n      <th>Calañas</th>\n      <td>171.0</td>\n      <td>1.0</td>\n      <td>2.0</td>\n      <td>2768.0</td>\n      <td>36.127168</td>\n      <td>72.254335</td>\n      <td>0.0</td>\n      <td>0.500000</td>\n    </tr>\n    <tr>\n      <th>San Bartolomé de la Torre</th>\n      <td>191.0</td>\n      <td>3.0</td>\n      <td>4.0</td>\n      <td>3761.0</td>\n      <td>79.766020</td>\n      <td>106.354693</td>\n      <td>-1.0</td>\n      <td>0.750000</td>\n    </tr>\n    <tr>\n      <th>Trigueros</th>\n      <td>224.0</td>\n      <td>5.0</td>\n      <td>6.0</td>\n      <td>7862.0</td>\n      <td>63.597049</td>\n      <td>76.316459</td>\n      <td>1.0</td>\n      <td>0.833333</td>\n    </tr>\n    <tr>\n      <th>Paterna del Campo</th>\n      <td>110.0</td>\n      <td>1.0</td>\n      <td>1.0</td>\n      <td>3457.0</td>\n      <td>28.926815</td>\n      <td>28.926815</td>\n      <td>0.0</td>\n      <td>1.000000</td>\n    </tr>\n  </tbody>\n</table>\n</div>"
     },
     "metadata": {},
     "execution_count": 18
    }
   ],
   "source": [
    "# Peso de la tasa de la última semana en relación con la tasa a 14 días \n",
    "# Mejor cuanto menor. Valor 1 significa que no había casos antes de 7 días.\n",
    "tabla['7/14'] = tabla['tasa7'] / tabla['tasa14']\n",
    "tabla.fillna(0).sort_values('7/14', ascending=True)"
   ]
  },
  {
   "cell_type": "code",
   "execution_count": null,
   "metadata": {},
   "outputs": [],
   "source": []
  }
 ]
}