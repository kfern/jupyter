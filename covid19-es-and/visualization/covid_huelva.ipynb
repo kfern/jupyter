{
 "metadata": {
  "language_info": {
   "codemirror_mode": {
    "name": "ipython",
    "version": 3
   },
   "file_extension": ".py",
   "mimetype": "text/x-python",
   "name": "python",
   "nbconvert_exporter": "python",
   "pygments_lexer": "ipython3",
   "version": "3.6.9-final"
  },
  "orig_nbformat": 2,
  "kernelspec": {
   "name": "Python 3.6.9 64-bit",
   "display_name": "Python 3.6.9 64-bit",
   "metadata": {
    "interpreter": {
     "hash": "31f2aee4e71d21fbe5cf8b01ff0e069b9275f58929596ceb00d14d90e3e16cd6"
    }
   }
  }
 },
 "nbformat": 4,
 "nbformat_minor": 2,
 "cells": [
  {
   "cell_type": "code",
   "execution_count": 1,
   "metadata": {},
   "outputs": [],
   "source": [
    "import pandas as pd"
   ]
  },
  {
   "cell_type": "code",
   "execution_count": 2,
   "metadata": {},
   "outputs": [],
   "source": [
    "# FIX SSL: CERTIFICATE_VERIFY_FAILED with Python3\n",
    "# https://stackoverflow.com/a/49174340\n",
    "import ssl\n",
    "\n",
    "ssl._create_default_https_context = ssl._create_unverified_context"
   ]
  },
  {
   "cell_type": "code",
   "execution_count": 3,
   "metadata": {},
   "outputs": [],
   "source": [
    "url = 'https://www.juntadeandalucia.es/institutodeestadisticaycartografia/badea/stpivot/stpivot/Print?cube=013d884c-cfc5-4c21-9e78-e26225682afd&type=3&foto=si&ejecutaDesde=&codConsulta=38668&consTipoVisua=JP'\n",
    "fields = ['Lugar de residencia', 'Medida', 'Valor']\n",
    "df = pd.read_csv(url, delimiter=';', usecols=fields, decimal=',')"
   ]
  },
  {
   "cell_type": "code",
   "execution_count": 4,
   "metadata": {},
   "outputs": [
    {
     "output_type": "execute_result",
     "data": {
      "text/plain": [
       "                     Lugar de residencia                    Medida  \\\n",
       "0                                 Huelva                 Población   \n",
       "1                                 Huelva          Confirmados PDIA   \n",
       "2                                 Huelva  Confirmados PDIA 14 días   \n",
       "3                                 Huelva         Tasa PDIA 14 días   \n",
       "4                                 Huelva   Confirmados PDIA 7 días   \n",
       "..                                   ...                       ...   \n",
       "627  Municipio de Huelva sin especificar         Tasa PDIA 14 días   \n",
       "628  Municipio de Huelva sin especificar   Confirmados PDIA 7 días   \n",
       "629  Municipio de Huelva sin especificar        Total Confirmados    \n",
       "630  Municipio de Huelva sin especificar                   Curados   \n",
       "631  Municipio de Huelva sin especificar                Fallecidos   \n",
       "\n",
       "                  Valor  \n",
       "0                510743  \n",
       "1                  2756  \n",
       "2                   947  \n",
       "3    185,41614863052456  \n",
       "4                   588  \n",
       "..                  ...  \n",
       "627                   -  \n",
       "628                  15  \n",
       "629                  46  \n",
       "630                   8  \n",
       "631                   1  \n",
       "\n",
       "[632 rows x 3 columns]"
      ],
      "text/html": "<div>\n<style scoped>\n    .dataframe tbody tr th:only-of-type {\n        vertical-align: middle;\n    }\n\n    .dataframe tbody tr th {\n        vertical-align: top;\n    }\n\n    .dataframe thead th {\n        text-align: right;\n    }\n</style>\n<table border=\"1\" class=\"dataframe\">\n  <thead>\n    <tr style=\"text-align: right;\">\n      <th></th>\n      <th>Lugar de residencia</th>\n      <th>Medida</th>\n      <th>Valor</th>\n    </tr>\n  </thead>\n  <tbody>\n    <tr>\n      <th>0</th>\n      <td>Huelva</td>\n      <td>Población</td>\n      <td>510743</td>\n    </tr>\n    <tr>\n      <th>1</th>\n      <td>Huelva</td>\n      <td>Confirmados PDIA</td>\n      <td>2756</td>\n    </tr>\n    <tr>\n      <th>2</th>\n      <td>Huelva</td>\n      <td>Confirmados PDIA 14 días</td>\n      <td>947</td>\n    </tr>\n    <tr>\n      <th>3</th>\n      <td>Huelva</td>\n      <td>Tasa PDIA 14 días</td>\n      <td>185,41614863052456</td>\n    </tr>\n    <tr>\n      <th>4</th>\n      <td>Huelva</td>\n      <td>Confirmados PDIA 7 días</td>\n      <td>588</td>\n    </tr>\n    <tr>\n      <th>...</th>\n      <td>...</td>\n      <td>...</td>\n      <td>...</td>\n    </tr>\n    <tr>\n      <th>627</th>\n      <td>Municipio de Huelva sin especificar</td>\n      <td>Tasa PDIA 14 días</td>\n      <td>-</td>\n    </tr>\n    <tr>\n      <th>628</th>\n      <td>Municipio de Huelva sin especificar</td>\n      <td>Confirmados PDIA 7 días</td>\n      <td>15</td>\n    </tr>\n    <tr>\n      <th>629</th>\n      <td>Municipio de Huelva sin especificar</td>\n      <td>Total Confirmados</td>\n      <td>46</td>\n    </tr>\n    <tr>\n      <th>630</th>\n      <td>Municipio de Huelva sin especificar</td>\n      <td>Curados</td>\n      <td>8</td>\n    </tr>\n    <tr>\n      <th>631</th>\n      <td>Municipio de Huelva sin especificar</td>\n      <td>Fallecidos</td>\n      <td>1</td>\n    </tr>\n  </tbody>\n</table>\n<p>632 rows × 3 columns</p>\n</div>"
     },
     "metadata": {},
     "execution_count": 4
    }
   ],
   "source": [
    "df"
   ]
  },
  {
   "cell_type": "code",
   "execution_count": 5,
   "metadata": {},
   "outputs": [],
   "source": [
    "df['Valor'] = pd.to_numeric(df['Valor'],errors='coerce')"
   ]
  },
  {
   "cell_type": "code",
   "execution_count": 6,
   "metadata": {},
   "outputs": [],
   "source": [
    "dfAnterior = pd.read_csv('covid_huelva.csv', index_col='Lugar de residencia')"
   ]
  },
  {
   "cell_type": "code",
   "execution_count": 7,
   "metadata": {
    "tags": []
   },
   "outputs": [
    {
     "output_type": "stream",
     "name": "stdout",
     "text": [
      "Confirmados PCR en la provincia de Huelva:  2756.0\n"
     ]
    }
   ],
   "source": [
    "# Confirmados PCR provincia Huelva\n",
    "p = df[df['Lugar de residencia'] == 'Huelva'][df['Medida'] == 'Confirmados PDIA']['Valor'].values[0]\n",
    "print('Confirmados PCR en la provincia de Huelva: ', p)"
   ]
  },
  {
   "cell_type": "code",
   "execution_count": 8,
   "metadata": {
    "tags": []
   },
   "outputs": [
    {
     "output_type": "stream",
     "name": "stdout",
     "text": [
      "Confirmados PCR en Huelva capital:  700.0\n"
     ]
    }
   ],
   "source": [
    "# Confirmados PCR Huelva capitalpd\n",
    "c = df[df['Lugar de residencia'] == 'Huelva (capital)'][df['Medida'] == 'Confirmados PDIA']['Valor'].values[0]\n",
    "print('Confirmados PCR en Huelva capital: ', c)"
   ]
  },
  {
   "cell_type": "code",
   "execution_count": 9,
   "metadata": {
    "tags": []
   },
   "outputs": [],
   "source": [
    "c7 = df[df['Lugar de residencia'] == 'Huelva (capital)'][df['Medida'] == 'Confirmados PDIA 7 días']['Valor'].values[0]\n",
    "c14 = df[df['Lugar de residencia'] == 'Huelva (capital)'][df['Medida'] == 'Confirmados PDIA 14 días']['Valor'].values[0]\n",
    "p = df[df['Lugar de residencia'] == 'Huelva (capital)'][df['Medida'] == 'Población']['Valor'].values[0]"
   ]
  },
  {
   "cell_type": "code",
   "execution_count": 10,
   "metadata": {
    "tags": []
   },
   "outputs": [
    {
     "output_type": "stream",
     "name": "stdout",
     "text": [
      "Huelva (capital)\n\nUn positivo PCR cada 1168 personas en los últimos 7 días \n\nUn positivo PCR cada 577 personas en los últimos 14 días\n"
     ]
    }
   ],
   "source": [
    "print('Huelva (capital)\\n')\n",
    "#print('Confirmados PCR 7 días x 1,000 habitantes: ', f\"{c7/(p/1000):.5f}\")\n",
    "print('Un positivo PCR cada', f\"{p/c7:.0f}\", 'personas en los últimos 7 días', '\\n')\n",
    "#print('Confirmados PCR 14 días x 1,000 habitantes: ', f\"{c14/(p/1000):.5f}\")\n",
    "print('Un positivo PCR cada', f\"{p/c14:.0f}\", 'personas en los últimos 14 días')"
   ]
  },
  {
   "cell_type": "code",
   "execution_count": 11,
   "metadata": {},
   "outputs": [],
   "source": [
    "filtro = ((df['Medida'] == 'Confirmados PDIA')| (df['Medida'] == 'Confirmados PDIA 7 días') | (df['Medida'] == 'Población' ) | (df['Medida'] == 'Confirmados PDIA 14 días')) & (df['Valor'] > 0)\n",
    "tabla = pd.pivot_table(df.loc[filtro], values='Valor', index='Lugar de residencia', columns='Medida').dropna()"
   ]
  },
  {
   "cell_type": "code",
   "execution_count": 12,
   "metadata": {},
   "outputs": [],
   "source": [
    "# Reorder columns\n",
    "tabla = tabla[['Confirmados PDIA', 'Confirmados PDIA 7 días', 'Confirmados PDIA 14 días', 'Población']]"
   ]
  },
  {
   "cell_type": "code",
   "execution_count": 13,
   "metadata": {},
   "outputs": [],
   "source": [
    "tabla['tasa7'] = tabla['Confirmados PDIA 7 días']/tabla['Población']*100000\n",
    "tabla['tasa14'] = tabla['Confirmados PDIA 14 días']/tabla['Población']*100000"
   ]
  },
  {
   "cell_type": "code",
   "execution_count": 14,
   "metadata": {},
   "outputs": [],
   "source": [
    "tabla['Diferencia PDIA'] = tabla['Confirmados PDIA'] - dfAnterior['Confirmados PDIA']"
   ]
  },
  {
   "cell_type": "code",
   "execution_count": 15,
   "metadata": {},
   "outputs": [
    {
     "output_type": "execute_result",
     "data": {
      "text/plain": [
       "Medida                             Confirmados PDIA  Confirmados PDIA 7 días  \\\n",
       "Lugar de residencia                                                            \n",
       "Huelva                                       2756.0                    588.0   \n",
       "Huelva-Costa                                 1399.0                    277.0   \n",
       "Sierra de Huelva-Andévalo Central             436.0                    158.0   \n",
       "Condado-Campiña                               875.0                    138.0   \n",
       "Huelva (capital)                              700.0                    123.0   \n",
       "Cortegana                                      91.0                     68.0   \n",
       "Valverde del Camino                            59.0                     25.0   \n",
       "Lepe                                          211.0                     48.0   \n",
       "Almonte                                       113.0                     36.0   \n",
       "Palma del Condado (La)                        135.0                     26.0   \n",
       "Cartaya                                        63.0                     25.0   \n",
       "Gibraleón                                      58.0                     13.0   \n",
       "Aljaraque                                     105.0                     18.0   \n",
       "Nerva                                          36.0                      9.0   \n",
       "Ayamonte                                       70.0                     16.0   \n",
       "Almonaster la Real                             12.0                     10.0   \n",
       "Palos de la Frontera                           38.0                      7.0   \n",
       "Granado (El)                                   31.0                     13.0   \n",
       "Isla Cristina                                  96.0                     15.0   \n",
       "Punta Umbría                                   45.0                      6.0   \n",
       "Trigueros                                      47.0                      8.0   \n",
       "Niebla                                         18.0                     10.0   \n",
       "Villalba del Alcor                             47.0                      5.0   \n",
       "Villarrasa                                     34.0                      5.0   \n",
       "Bollullos Par del Condado                     126.0                     10.0   \n",
       "Escacena del Campo                             22.0                      2.0   \n",
       "Rosal de la Frontera                            5.0                      3.0   \n",
       "Aroche                                         13.0                      3.0   \n",
       "Villanueva de los Castillejos                  28.0                      8.0   \n",
       "Jabugo                                         18.0                      4.0   \n",
       "Moguer                                         63.0                      3.0   \n",
       "Minas de Riotinto                              22.0                      2.0   \n",
       "Puerto Moral                                    2.0                      2.0   \n",
       "Cerro de Andévalo (El)                         22.0                     11.0   \n",
       "San Bartolomé de la Torre                       7.0                      1.0   \n",
       "San Juan del Puerto                            79.0                      4.0   \n",
       "Campillo (El)                                  29.0                      2.0   \n",
       "Aracena                                        68.0                      8.0   \n",
       "Alosno                                         10.0                      3.0   \n",
       "Calañas                                         5.0                      2.0   \n",
       "Cortelazor                                      1.0                      1.0   \n",
       "Santa Bárbara de Casa                           8.0                      1.0   \n",
       "Zarza-Perrunal (La)                             3.0                      3.0   \n",
       "\n",
       "Medida                             Confirmados PDIA 14 días  Población  \\\n",
       "Lugar de residencia                                                      \n",
       "Huelva                                                947.0   510743.0   \n",
       "Huelva-Costa                                          485.0   288115.0   \n",
       "Sierra de Huelva-Andévalo Central                     198.0    67571.0   \n",
       "Condado-Campiña                                       246.0   155057.0   \n",
       "Huelva (capital)                                      249.0   143663.0   \n",
       "Cortegana                                              79.0     4666.0   \n",
       "Valverde del Camino                                    29.0    12820.0   \n",
       "Lepe                                                   78.0    27431.0   \n",
       "Almonte                                                53.0    24191.0   \n",
       "Palma del Condado (La)                                 47.0    10761.0   \n",
       "Cartaya                                                35.0    19974.0   \n",
       "Gibraleón                                              24.0    12607.0   \n",
       "Aljaraque                                              29.0    21260.0   \n",
       "Nerva                                                  12.0     5235.0   \n",
       "Ayamonte                                               18.0    20946.0   \n",
       "Almonaster la Real                                     11.0     1819.0   \n",
       "Palos de la Frontera                                    9.0    11289.0   \n",
       "Granado (El)                                           29.0      516.0   \n",
       "Isla Cristina                                          24.0    21264.0   \n",
       "Punta Umbría                                            7.0    15242.0   \n",
       "Trigueros                                               9.0     7713.0   \n",
       "Niebla                                                 12.0     4117.0   \n",
       "Villalba del Alcor                                      5.0     3338.0   \n",
       "Villarrasa                                             18.0     2176.0   \n",
       "Bollullos Par del Condado                              20.0    14272.0   \n",
       "Escacena del Campo                                      6.0     2284.0   \n",
       "Rosal de la Frontera                                    3.0     1697.0   \n",
       "Aroche                                                  3.0     3073.0   \n",
       "Villanueva de los Castillejos                          10.0     2820.0   \n",
       "Jabugo                                                  5.0     2250.0   \n",
       "Moguer                                                 12.0    22088.0   \n",
       "Minas de Riotinto                                       4.0     3848.0   \n",
       "Puerto Moral                                            2.0      282.0   \n",
       "Cerro de Andévalo (El)                                 17.0     2364.0   \n",
       "San Bartolomé de la Torre                               3.0     3736.0   \n",
       "San Juan del Puerto                                    11.0     9300.0   \n",
       "Campillo (El)                                           2.0     2023.0   \n",
       "Aracena                                                14.0     8107.0   \n",
       "Alosno                                                  4.0     3923.0   \n",
       "Calañas                                                 2.0     2791.0   \n",
       "Cortelazor                                              1.0      299.0   \n",
       "Santa Bárbara de Casa                                   1.0     1035.0   \n",
       "Zarza-Perrunal (La)                                     3.0     1267.0   \n",
       "\n",
       "Medida                                   tasa7       tasa14  Diferencia PDIA  \n",
       "Lugar de residencia                                                           \n",
       "Huelva                              115.126394   185.416149            307.0  \n",
       "Huelva-Costa                         96.142165   168.335560            127.0  \n",
       "Sierra de Huelva-Andévalo Central   233.828122   293.025114             98.0  \n",
       "Condado-Campiña                      88.999529   158.651335             70.0  \n",
       "Huelva (capital)                     85.617034   173.322289             57.0  \n",
       "Cortegana                          1457.351050  1693.099014             42.0  \n",
       "Valverde del Camino                 195.007800   226.209048             26.0  \n",
       "Lepe                                174.984507   284.349823             20.0  \n",
       "Almonte                             148.815675   219.089744             18.0  \n",
       "Palma del Condado (La)              241.613233   436.762383             17.0  \n",
       "Cartaya                             125.162712   175.227796             16.0  \n",
       "Gibraleón                           103.117316   190.370429              7.0  \n",
       "Aljaraque                            84.666040   136.406397              7.0  \n",
       "Nerva                               171.919771   229.226361              7.0  \n",
       "Ayamonte                             76.386900    85.935262              7.0  \n",
       "Almonaster la Real                  549.752611   604.727872              6.0  \n",
       "Palos de la Frontera                 62.007264    79.723625              5.0  \n",
       "Granado (El)                       2519.379845  5620.155039              5.0  \n",
       "Isla Cristina                        70.541761   112.866817              5.0  \n",
       "Punta Umbría                         39.364913    45.925732              4.0  \n",
       "Trigueros                           103.720991   116.686114              4.0  \n",
       "Niebla                              242.895312   291.474375              4.0  \n",
       "Villalba del Alcor                  149.790294   149.790294              3.0  \n",
       "Villarrasa                          229.779412   827.205882              3.0  \n",
       "Bollullos Par del Condado            70.067265   140.134529              3.0  \n",
       "Escacena del Campo                   87.565674   262.697023              2.0  \n",
       "Rosal de la Frontera                176.782557   176.782557              2.0  \n",
       "Aroche                               97.624471    97.624471              2.0  \n",
       "Villanueva de los Castillejos       283.687943   354.609929              2.0  \n",
       "Jabugo                              177.777778   222.222222              2.0  \n",
       "Moguer                               13.582035    54.328142              1.0  \n",
       "Minas de Riotinto                    51.975052   103.950104              1.0  \n",
       "Puerto Moral                        709.219858   709.219858              1.0  \n",
       "Cerro de Andévalo (El)              465.313029   719.120135              1.0  \n",
       "San Bartolomé de la Torre            26.766595    80.299786              1.0  \n",
       "San Juan del Puerto                  43.010753   118.279570              1.0  \n",
       "Campillo (El)                        98.863075    98.863075              1.0  \n",
       "Aracena                              98.680153   172.690268              1.0  \n",
       "Alosno                               76.472088   101.962784              NaN  \n",
       "Calañas                              71.658904    71.658904              NaN  \n",
       "Cortelazor                          334.448161   334.448161              NaN  \n",
       "Santa Bárbara de Casa                96.618357    96.618357              NaN  \n",
       "Zarza-Perrunal (La)                 236.779795   236.779795              NaN  "
      ],
      "text/html": "<div>\n<style scoped>\n    .dataframe tbody tr th:only-of-type {\n        vertical-align: middle;\n    }\n\n    .dataframe tbody tr th {\n        vertical-align: top;\n    }\n\n    .dataframe thead th {\n        text-align: right;\n    }\n</style>\n<table border=\"1\" class=\"dataframe\">\n  <thead>\n    <tr style=\"text-align: right;\">\n      <th>Medida</th>\n      <th>Confirmados PDIA</th>\n      <th>Confirmados PDIA 7 días</th>\n      <th>Confirmados PDIA 14 días</th>\n      <th>Población</th>\n      <th>tasa7</th>\n      <th>tasa14</th>\n      <th>Diferencia PDIA</th>\n    </tr>\n    <tr>\n      <th>Lugar de residencia</th>\n      <th></th>\n      <th></th>\n      <th></th>\n      <th></th>\n      <th></th>\n      <th></th>\n      <th></th>\n    </tr>\n  </thead>\n  <tbody>\n    <tr>\n      <th>Huelva</th>\n      <td>2756.0</td>\n      <td>588.0</td>\n      <td>947.0</td>\n      <td>510743.0</td>\n      <td>115.126394</td>\n      <td>185.416149</td>\n      <td>307.0</td>\n    </tr>\n    <tr>\n      <th>Huelva-Costa</th>\n      <td>1399.0</td>\n      <td>277.0</td>\n      <td>485.0</td>\n      <td>288115.0</td>\n      <td>96.142165</td>\n      <td>168.335560</td>\n      <td>127.0</td>\n    </tr>\n    <tr>\n      <th>Sierra de Huelva-Andévalo Central</th>\n      <td>436.0</td>\n      <td>158.0</td>\n      <td>198.0</td>\n      <td>67571.0</td>\n      <td>233.828122</td>\n      <td>293.025114</td>\n      <td>98.0</td>\n    </tr>\n    <tr>\n      <th>Condado-Campiña</th>\n      <td>875.0</td>\n      <td>138.0</td>\n      <td>246.0</td>\n      <td>155057.0</td>\n      <td>88.999529</td>\n      <td>158.651335</td>\n      <td>70.0</td>\n    </tr>\n    <tr>\n      <th>Huelva (capital)</th>\n      <td>700.0</td>\n      <td>123.0</td>\n      <td>249.0</td>\n      <td>143663.0</td>\n      <td>85.617034</td>\n      <td>173.322289</td>\n      <td>57.0</td>\n    </tr>\n    <tr>\n      <th>Cortegana</th>\n      <td>91.0</td>\n      <td>68.0</td>\n      <td>79.0</td>\n      <td>4666.0</td>\n      <td>1457.351050</td>\n      <td>1693.099014</td>\n      <td>42.0</td>\n    </tr>\n    <tr>\n      <th>Valverde del Camino</th>\n      <td>59.0</td>\n      <td>25.0</td>\n      <td>29.0</td>\n      <td>12820.0</td>\n      <td>195.007800</td>\n      <td>226.209048</td>\n      <td>26.0</td>\n    </tr>\n    <tr>\n      <th>Lepe</th>\n      <td>211.0</td>\n      <td>48.0</td>\n      <td>78.0</td>\n      <td>27431.0</td>\n      <td>174.984507</td>\n      <td>284.349823</td>\n      <td>20.0</td>\n    </tr>\n    <tr>\n      <th>Almonte</th>\n      <td>113.0</td>\n      <td>36.0</td>\n      <td>53.0</td>\n      <td>24191.0</td>\n      <td>148.815675</td>\n      <td>219.089744</td>\n      <td>18.0</td>\n    </tr>\n    <tr>\n      <th>Palma del Condado (La)</th>\n      <td>135.0</td>\n      <td>26.0</td>\n      <td>47.0</td>\n      <td>10761.0</td>\n      <td>241.613233</td>\n      <td>436.762383</td>\n      <td>17.0</td>\n    </tr>\n    <tr>\n      <th>Cartaya</th>\n      <td>63.0</td>\n      <td>25.0</td>\n      <td>35.0</td>\n      <td>19974.0</td>\n      <td>125.162712</td>\n      <td>175.227796</td>\n      <td>16.0</td>\n    </tr>\n    <tr>\n      <th>Gibraleón</th>\n      <td>58.0</td>\n      <td>13.0</td>\n      <td>24.0</td>\n      <td>12607.0</td>\n      <td>103.117316</td>\n      <td>190.370429</td>\n      <td>7.0</td>\n    </tr>\n    <tr>\n      <th>Aljaraque</th>\n      <td>105.0</td>\n      <td>18.0</td>\n      <td>29.0</td>\n      <td>21260.0</td>\n      <td>84.666040</td>\n      <td>136.406397</td>\n      <td>7.0</td>\n    </tr>\n    <tr>\n      <th>Nerva</th>\n      <td>36.0</td>\n      <td>9.0</td>\n      <td>12.0</td>\n      <td>5235.0</td>\n      <td>171.919771</td>\n      <td>229.226361</td>\n      <td>7.0</td>\n    </tr>\n    <tr>\n      <th>Ayamonte</th>\n      <td>70.0</td>\n      <td>16.0</td>\n      <td>18.0</td>\n      <td>20946.0</td>\n      <td>76.386900</td>\n      <td>85.935262</td>\n      <td>7.0</td>\n    </tr>\n    <tr>\n      <th>Almonaster la Real</th>\n      <td>12.0</td>\n      <td>10.0</td>\n      <td>11.0</td>\n      <td>1819.0</td>\n      <td>549.752611</td>\n      <td>604.727872</td>\n      <td>6.0</td>\n    </tr>\n    <tr>\n      <th>Palos de la Frontera</th>\n      <td>38.0</td>\n      <td>7.0</td>\n      <td>9.0</td>\n      <td>11289.0</td>\n      <td>62.007264</td>\n      <td>79.723625</td>\n      <td>5.0</td>\n    </tr>\n    <tr>\n      <th>Granado (El)</th>\n      <td>31.0</td>\n      <td>13.0</td>\n      <td>29.0</td>\n      <td>516.0</td>\n      <td>2519.379845</td>\n      <td>5620.155039</td>\n      <td>5.0</td>\n    </tr>\n    <tr>\n      <th>Isla Cristina</th>\n      <td>96.0</td>\n      <td>15.0</td>\n      <td>24.0</td>\n      <td>21264.0</td>\n      <td>70.541761</td>\n      <td>112.866817</td>\n      <td>5.0</td>\n    </tr>\n    <tr>\n      <th>Punta Umbría</th>\n      <td>45.0</td>\n      <td>6.0</td>\n      <td>7.0</td>\n      <td>15242.0</td>\n      <td>39.364913</td>\n      <td>45.925732</td>\n      <td>4.0</td>\n    </tr>\n    <tr>\n      <th>Trigueros</th>\n      <td>47.0</td>\n      <td>8.0</td>\n      <td>9.0</td>\n      <td>7713.0</td>\n      <td>103.720991</td>\n      <td>116.686114</td>\n      <td>4.0</td>\n    </tr>\n    <tr>\n      <th>Niebla</th>\n      <td>18.0</td>\n      <td>10.0</td>\n      <td>12.0</td>\n      <td>4117.0</td>\n      <td>242.895312</td>\n      <td>291.474375</td>\n      <td>4.0</td>\n    </tr>\n    <tr>\n      <th>Villalba del Alcor</th>\n      <td>47.0</td>\n      <td>5.0</td>\n      <td>5.0</td>\n      <td>3338.0</td>\n      <td>149.790294</td>\n      <td>149.790294</td>\n      <td>3.0</td>\n    </tr>\n    <tr>\n      <th>Villarrasa</th>\n      <td>34.0</td>\n      <td>5.0</td>\n      <td>18.0</td>\n      <td>2176.0</td>\n      <td>229.779412</td>\n      <td>827.205882</td>\n      <td>3.0</td>\n    </tr>\n    <tr>\n      <th>Bollullos Par del Condado</th>\n      <td>126.0</td>\n      <td>10.0</td>\n      <td>20.0</td>\n      <td>14272.0</td>\n      <td>70.067265</td>\n      <td>140.134529</td>\n      <td>3.0</td>\n    </tr>\n    <tr>\n      <th>Escacena del Campo</th>\n      <td>22.0</td>\n      <td>2.0</td>\n      <td>6.0</td>\n      <td>2284.0</td>\n      <td>87.565674</td>\n      <td>262.697023</td>\n      <td>2.0</td>\n    </tr>\n    <tr>\n      <th>Rosal de la Frontera</th>\n      <td>5.0</td>\n      <td>3.0</td>\n      <td>3.0</td>\n      <td>1697.0</td>\n      <td>176.782557</td>\n      <td>176.782557</td>\n      <td>2.0</td>\n    </tr>\n    <tr>\n      <th>Aroche</th>\n      <td>13.0</td>\n      <td>3.0</td>\n      <td>3.0</td>\n      <td>3073.0</td>\n      <td>97.624471</td>\n      <td>97.624471</td>\n      <td>2.0</td>\n    </tr>\n    <tr>\n      <th>Villanueva de los Castillejos</th>\n      <td>28.0</td>\n      <td>8.0</td>\n      <td>10.0</td>\n      <td>2820.0</td>\n      <td>283.687943</td>\n      <td>354.609929</td>\n      <td>2.0</td>\n    </tr>\n    <tr>\n      <th>Jabugo</th>\n      <td>18.0</td>\n      <td>4.0</td>\n      <td>5.0</td>\n      <td>2250.0</td>\n      <td>177.777778</td>\n      <td>222.222222</td>\n      <td>2.0</td>\n    </tr>\n    <tr>\n      <th>Moguer</th>\n      <td>63.0</td>\n      <td>3.0</td>\n      <td>12.0</td>\n      <td>22088.0</td>\n      <td>13.582035</td>\n      <td>54.328142</td>\n      <td>1.0</td>\n    </tr>\n    <tr>\n      <th>Minas de Riotinto</th>\n      <td>22.0</td>\n      <td>2.0</td>\n      <td>4.0</td>\n      <td>3848.0</td>\n      <td>51.975052</td>\n      <td>103.950104</td>\n      <td>1.0</td>\n    </tr>\n    <tr>\n      <th>Puerto Moral</th>\n      <td>2.0</td>\n      <td>2.0</td>\n      <td>2.0</td>\n      <td>282.0</td>\n      <td>709.219858</td>\n      <td>709.219858</td>\n      <td>1.0</td>\n    </tr>\n    <tr>\n      <th>Cerro de Andévalo (El)</th>\n      <td>22.0</td>\n      <td>11.0</td>\n      <td>17.0</td>\n      <td>2364.0</td>\n      <td>465.313029</td>\n      <td>719.120135</td>\n      <td>1.0</td>\n    </tr>\n    <tr>\n      <th>San Bartolomé de la Torre</th>\n      <td>7.0</td>\n      <td>1.0</td>\n      <td>3.0</td>\n      <td>3736.0</td>\n      <td>26.766595</td>\n      <td>80.299786</td>\n      <td>1.0</td>\n    </tr>\n    <tr>\n      <th>San Juan del Puerto</th>\n      <td>79.0</td>\n      <td>4.0</td>\n      <td>11.0</td>\n      <td>9300.0</td>\n      <td>43.010753</td>\n      <td>118.279570</td>\n      <td>1.0</td>\n    </tr>\n    <tr>\n      <th>Campillo (El)</th>\n      <td>29.0</td>\n      <td>2.0</td>\n      <td>2.0</td>\n      <td>2023.0</td>\n      <td>98.863075</td>\n      <td>98.863075</td>\n      <td>1.0</td>\n    </tr>\n    <tr>\n      <th>Aracena</th>\n      <td>68.0</td>\n      <td>8.0</td>\n      <td>14.0</td>\n      <td>8107.0</td>\n      <td>98.680153</td>\n      <td>172.690268</td>\n      <td>1.0</td>\n    </tr>\n    <tr>\n      <th>Alosno</th>\n      <td>10.0</td>\n      <td>3.0</td>\n      <td>4.0</td>\n      <td>3923.0</td>\n      <td>76.472088</td>\n      <td>101.962784</td>\n      <td>NaN</td>\n    </tr>\n    <tr>\n      <th>Calañas</th>\n      <td>5.0</td>\n      <td>2.0</td>\n      <td>2.0</td>\n      <td>2791.0</td>\n      <td>71.658904</td>\n      <td>71.658904</td>\n      <td>NaN</td>\n    </tr>\n    <tr>\n      <th>Cortelazor</th>\n      <td>1.0</td>\n      <td>1.0</td>\n      <td>1.0</td>\n      <td>299.0</td>\n      <td>334.448161</td>\n      <td>334.448161</td>\n      <td>NaN</td>\n    </tr>\n    <tr>\n      <th>Santa Bárbara de Casa</th>\n      <td>8.0</td>\n      <td>1.0</td>\n      <td>1.0</td>\n      <td>1035.0</td>\n      <td>96.618357</td>\n      <td>96.618357</td>\n      <td>NaN</td>\n    </tr>\n    <tr>\n      <th>Zarza-Perrunal (La)</th>\n      <td>3.0</td>\n      <td>3.0</td>\n      <td>3.0</td>\n      <td>1267.0</td>\n      <td>236.779795</td>\n      <td>236.779795</td>\n      <td>NaN</td>\n    </tr>\n  </tbody>\n</table>\n</div>"
     },
     "metadata": {},
     "execution_count": 15
    }
   ],
   "source": [
    "# Nuevos casos desde la última captura\n",
    "tabla[tabla['Diferencia PDIA'] != 0].sort_values('Diferencia PDIA', ascending=False)"
   ]
  },
  {
   "cell_type": "code",
   "execution_count": 16,
   "metadata": {},
   "outputs": [],
   "source": [
    "if tabla[tabla['Diferencia PDIA'] != 0]['Diferencia PDIA'].sum() > 0:\n",
    "  # Save to csv\n",
    "  tabla.to_csv('covid_huelva.csv', encoding='utf-8', header=True, index=True)  "
   ]
  },
  {
   "cell_type": "code",
   "execution_count": 17,
   "metadata": {},
   "outputs": [
    {
     "output_type": "execute_result",
     "data": {
      "text/plain": [
       "Medida                             Confirmados PDIA  Confirmados PDIA 7 días  \\\n",
       "Lugar de residencia                                                            \n",
       "Granado (El)                                   31.0                     13.0   \n",
       "Cortegana                                      91.0                     68.0   \n",
       "Villarrasa                                     34.0                      5.0   \n",
       "Cerro de Andévalo (El)                         22.0                     11.0   \n",
       "Puerto Moral                                    2.0                      2.0   \n",
       "Almonaster la Real                             12.0                     10.0   \n",
       "Marines (Los)                                   2.0                      2.0   \n",
       "Palma del Condado (La)                        135.0                     26.0   \n",
       "Valdelarco                                      3.0                      1.0   \n",
       "Linares de la Sierra                            1.0                      1.0   \n",
       "Villanueva de los Castillejos                  28.0                      8.0   \n",
       "Cortelazor                                      1.0                      1.0   \n",
       "Sierra de Huelva-Andévalo Central             436.0                    158.0   \n",
       "Niebla                                         18.0                     10.0   \n",
       "Lepe                                          211.0                     48.0   \n",
       "Escacena del Campo                             22.0                      2.0   \n",
       "Sanlúcar de Guadiana                            1.0                      1.0   \n",
       "Zarza-Perrunal (La)                             3.0                      3.0   \n",
       "Nerva                                          36.0                      9.0   \n",
       "Valverde del Camino                            59.0                     25.0   \n",
       "Jabugo                                         18.0                      4.0   \n",
       "Almonte                                       113.0                     36.0   \n",
       "Gibraleón                                      58.0                     13.0   \n",
       "Huelva                                       2756.0                    588.0   \n",
       "Rosal de la Frontera                            5.0                      3.0   \n",
       "Cartaya                                        63.0                     25.0   \n",
       "Huelva (capital)                              700.0                    123.0   \n",
       "Aracena                                        68.0                      8.0   \n",
       "Huelva-Costa                                 1399.0                    277.0   \n",
       "Condado-Campiña                               875.0                    138.0   \n",
       "Higuera de la Sierra                            5.0                      1.0   \n",
       "Villalba del Alcor                             47.0                      5.0   \n",
       "Bollullos Par del Condado                     126.0                     10.0   \n",
       "Aljaraque                                     105.0                     18.0   \n",
       "San Juan del Puerto                            79.0                      4.0   \n",
       "Trigueros                                      47.0                      8.0   \n",
       "Isla Cristina                                  96.0                     15.0   \n",
       "Minas de Riotinto                              22.0                      2.0   \n",
       "Alosno                                         10.0                      3.0   \n",
       "Campillo (El)                                  29.0                      2.0   \n",
       "Aroche                                         13.0                      3.0   \n",
       "Santa Bárbara de Casa                           8.0                      1.0   \n",
       "Ayamonte                                       70.0                     16.0   \n",
       "San Bartolomé de la Torre                       7.0                      1.0   \n",
       "Palos de la Frontera                           38.0                      7.0   \n",
       "Calañas                                         5.0                      2.0   \n",
       "Lucena del Puerto                              16.0                      2.0   \n",
       "Moguer                                         63.0                      3.0   \n",
       "Rociana del Condado                            14.0                      3.0   \n",
       "Bonares                                        10.0                      3.0   \n",
       "Punta Umbría                                   45.0                      6.0   \n",
       "\n",
       "Medida                             Confirmados PDIA 14 días  Población  \\\n",
       "Lugar de residencia                                                      \n",
       "Granado (El)                                           29.0      516.0   \n",
       "Cortegana                                              79.0     4666.0   \n",
       "Villarrasa                                             18.0     2176.0   \n",
       "Cerro de Andévalo (El)                                 17.0     2364.0   \n",
       "Puerto Moral                                            2.0      282.0   \n",
       "Almonaster la Real                                     11.0     1819.0   \n",
       "Marines (Los)                                           2.0      396.0   \n",
       "Palma del Condado (La)                                 47.0    10761.0   \n",
       "Valdelarco                                              1.0      239.0   \n",
       "Linares de la Sierra                                    1.0      263.0   \n",
       "Villanueva de los Castillejos                          10.0     2820.0   \n",
       "Cortelazor                                              1.0      299.0   \n",
       "Sierra de Huelva-Andévalo Central                     198.0    67571.0   \n",
       "Niebla                                                 12.0     4117.0   \n",
       "Lepe                                                   78.0    27431.0   \n",
       "Escacena del Campo                                      6.0     2284.0   \n",
       "Sanlúcar de Guadiana                                    1.0      409.0   \n",
       "Zarza-Perrunal (La)                                     3.0     1267.0   \n",
       "Nerva                                                  12.0     5235.0   \n",
       "Valverde del Camino                                    29.0    12820.0   \n",
       "Jabugo                                                  5.0     2250.0   \n",
       "Almonte                                                53.0    24191.0   \n",
       "Gibraleón                                              24.0    12607.0   \n",
       "Huelva                                                947.0   510743.0   \n",
       "Rosal de la Frontera                                    3.0     1697.0   \n",
       "Cartaya                                                35.0    19974.0   \n",
       "Huelva (capital)                                      249.0   143663.0   \n",
       "Aracena                                                14.0     8107.0   \n",
       "Huelva-Costa                                          485.0   288115.0   \n",
       "Condado-Campiña                                       246.0   155057.0   \n",
       "Higuera de la Sierra                                    2.0     1287.0   \n",
       "Villalba del Alcor                                      5.0     3338.0   \n",
       "Bollullos Par del Condado                              20.0    14272.0   \n",
       "Aljaraque                                              29.0    21260.0   \n",
       "San Juan del Puerto                                    11.0     9300.0   \n",
       "Trigueros                                               9.0     7713.0   \n",
       "Isla Cristina                                          24.0    21264.0   \n",
       "Minas de Riotinto                                       4.0     3848.0   \n",
       "Alosno                                                  4.0     3923.0   \n",
       "Campillo (El)                                           2.0     2023.0   \n",
       "Aroche                                                  3.0     3073.0   \n",
       "Santa Bárbara de Casa                                   1.0     1035.0   \n",
       "Ayamonte                                               18.0    20946.0   \n",
       "San Bartolomé de la Torre                               3.0     3736.0   \n",
       "Palos de la Frontera                                    9.0    11289.0   \n",
       "Calañas                                                 2.0     2791.0   \n",
       "Lucena del Puerto                                       2.0     3371.0   \n",
       "Moguer                                                 12.0    22088.0   \n",
       "Rociana del Condado                                     4.0     7855.0   \n",
       "Bonares                                                 3.0     6058.0   \n",
       "Punta Umbría                                            7.0    15242.0   \n",
       "\n",
       "Medida                                   tasa7       tasa14  Diferencia PDIA  \n",
       "Lugar de residencia                                                           \n",
       "Granado (El)                       2519.379845  5620.155039              5.0  \n",
       "Cortegana                          1457.351050  1693.099014             42.0  \n",
       "Villarrasa                          229.779412   827.205882              3.0  \n",
       "Cerro de Andévalo (El)              465.313029   719.120135              1.0  \n",
       "Puerto Moral                        709.219858   709.219858              1.0  \n",
       "Almonaster la Real                  549.752611   604.727872              6.0  \n",
       "Marines (Los)                       505.050505   505.050505              0.0  \n",
       "Palma del Condado (La)              241.613233   436.762383             17.0  \n",
       "Valdelarco                          418.410042   418.410042              0.0  \n",
       "Linares de la Sierra                380.228137   380.228137              0.0  \n",
       "Villanueva de los Castillejos       283.687943   354.609929              2.0  \n",
       "Cortelazor                          334.448161   334.448161              NaN  \n",
       "Sierra de Huelva-Andévalo Central   233.828122   293.025114             98.0  \n",
       "Niebla                              242.895312   291.474375              4.0  \n",
       "Lepe                                174.984507   284.349823             20.0  \n",
       "Escacena del Campo                   87.565674   262.697023              2.0  \n",
       "Sanlúcar de Guadiana                244.498778   244.498778              0.0  \n",
       "Zarza-Perrunal (La)                 236.779795   236.779795              NaN  \n",
       "Nerva                               171.919771   229.226361              7.0  \n",
       "Valverde del Camino                 195.007800   226.209048             26.0  \n",
       "Jabugo                              177.777778   222.222222              2.0  \n",
       "Almonte                             148.815675   219.089744             18.0  \n",
       "Gibraleón                           103.117316   190.370429              7.0  \n",
       "Huelva                              115.126394   185.416149            307.0  \n",
       "Rosal de la Frontera                176.782557   176.782557              2.0  \n",
       "Cartaya                             125.162712   175.227796             16.0  \n",
       "Huelva (capital)                     85.617034   173.322289             57.0  \n",
       "Aracena                              98.680153   172.690268              1.0  \n",
       "Huelva-Costa                         96.142165   168.335560            127.0  \n",
       "Condado-Campiña                      88.999529   158.651335             70.0  \n",
       "Higuera de la Sierra                 77.700078   155.400155              0.0  \n",
       "Villalba del Alcor                  149.790294   149.790294              3.0  \n",
       "Bollullos Par del Condado            70.067265   140.134529              3.0  \n",
       "Aljaraque                            84.666040   136.406397              7.0  \n",
       "San Juan del Puerto                  43.010753   118.279570              1.0  \n",
       "Trigueros                           103.720991   116.686114              4.0  \n",
       "Isla Cristina                        70.541761   112.866817              5.0  \n",
       "Minas de Riotinto                    51.975052   103.950104              1.0  \n",
       "Alosno                               76.472088   101.962784              NaN  \n",
       "Campillo (El)                        98.863075    98.863075              1.0  \n",
       "Aroche                               97.624471    97.624471              2.0  \n",
       "Santa Bárbara de Casa                96.618357    96.618357              NaN  \n",
       "Ayamonte                             76.386900    85.935262              7.0  \n",
       "San Bartolomé de la Torre            26.766595    80.299786              1.0  \n",
       "Palos de la Frontera                 62.007264    79.723625              5.0  \n",
       "Calañas                              71.658904    71.658904              NaN  \n",
       "Lucena del Puerto                    59.329576    59.329576              0.0  \n",
       "Moguer                               13.582035    54.328142              1.0  \n",
       "Rociana del Condado                  38.192234    50.922979              0.0  \n",
       "Bonares                              49.521294    49.521294              0.0  \n",
       "Punta Umbría                         39.364913    45.925732              4.0  "
      ],
      "text/html": "<div>\n<style scoped>\n    .dataframe tbody tr th:only-of-type {\n        vertical-align: middle;\n    }\n\n    .dataframe tbody tr th {\n        vertical-align: top;\n    }\n\n    .dataframe thead th {\n        text-align: right;\n    }\n</style>\n<table border=\"1\" class=\"dataframe\">\n  <thead>\n    <tr style=\"text-align: right;\">\n      <th>Medida</th>\n      <th>Confirmados PDIA</th>\n      <th>Confirmados PDIA 7 días</th>\n      <th>Confirmados PDIA 14 días</th>\n      <th>Población</th>\n      <th>tasa7</th>\n      <th>tasa14</th>\n      <th>Diferencia PDIA</th>\n    </tr>\n    <tr>\n      <th>Lugar de residencia</th>\n      <th></th>\n      <th></th>\n      <th></th>\n      <th></th>\n      <th></th>\n      <th></th>\n      <th></th>\n    </tr>\n  </thead>\n  <tbody>\n    <tr>\n      <th>Granado (El)</th>\n      <td>31.0</td>\n      <td>13.0</td>\n      <td>29.0</td>\n      <td>516.0</td>\n      <td>2519.379845</td>\n      <td>5620.155039</td>\n      <td>5.0</td>\n    </tr>\n    <tr>\n      <th>Cortegana</th>\n      <td>91.0</td>\n      <td>68.0</td>\n      <td>79.0</td>\n      <td>4666.0</td>\n      <td>1457.351050</td>\n      <td>1693.099014</td>\n      <td>42.0</td>\n    </tr>\n    <tr>\n      <th>Villarrasa</th>\n      <td>34.0</td>\n      <td>5.0</td>\n      <td>18.0</td>\n      <td>2176.0</td>\n      <td>229.779412</td>\n      <td>827.205882</td>\n      <td>3.0</td>\n    </tr>\n    <tr>\n      <th>Cerro de Andévalo (El)</th>\n      <td>22.0</td>\n      <td>11.0</td>\n      <td>17.0</td>\n      <td>2364.0</td>\n      <td>465.313029</td>\n      <td>719.120135</td>\n      <td>1.0</td>\n    </tr>\n    <tr>\n      <th>Puerto Moral</th>\n      <td>2.0</td>\n      <td>2.0</td>\n      <td>2.0</td>\n      <td>282.0</td>\n      <td>709.219858</td>\n      <td>709.219858</td>\n      <td>1.0</td>\n    </tr>\n    <tr>\n      <th>Almonaster la Real</th>\n      <td>12.0</td>\n      <td>10.0</td>\n      <td>11.0</td>\n      <td>1819.0</td>\n      <td>549.752611</td>\n      <td>604.727872</td>\n      <td>6.0</td>\n    </tr>\n    <tr>\n      <th>Marines (Los)</th>\n      <td>2.0</td>\n      <td>2.0</td>\n      <td>2.0</td>\n      <td>396.0</td>\n      <td>505.050505</td>\n      <td>505.050505</td>\n      <td>0.0</td>\n    </tr>\n    <tr>\n      <th>Palma del Condado (La)</th>\n      <td>135.0</td>\n      <td>26.0</td>\n      <td>47.0</td>\n      <td>10761.0</td>\n      <td>241.613233</td>\n      <td>436.762383</td>\n      <td>17.0</td>\n    </tr>\n    <tr>\n      <th>Valdelarco</th>\n      <td>3.0</td>\n      <td>1.0</td>\n      <td>1.0</td>\n      <td>239.0</td>\n      <td>418.410042</td>\n      <td>418.410042</td>\n      <td>0.0</td>\n    </tr>\n    <tr>\n      <th>Linares de la Sierra</th>\n      <td>1.0</td>\n      <td>1.0</td>\n      <td>1.0</td>\n      <td>263.0</td>\n      <td>380.228137</td>\n      <td>380.228137</td>\n      <td>0.0</td>\n    </tr>\n    <tr>\n      <th>Villanueva de los Castillejos</th>\n      <td>28.0</td>\n      <td>8.0</td>\n      <td>10.0</td>\n      <td>2820.0</td>\n      <td>283.687943</td>\n      <td>354.609929</td>\n      <td>2.0</td>\n    </tr>\n    <tr>\n      <th>Cortelazor</th>\n      <td>1.0</td>\n      <td>1.0</td>\n      <td>1.0</td>\n      <td>299.0</td>\n      <td>334.448161</td>\n      <td>334.448161</td>\n      <td>NaN</td>\n    </tr>\n    <tr>\n      <th>Sierra de Huelva-Andévalo Central</th>\n      <td>436.0</td>\n      <td>158.0</td>\n      <td>198.0</td>\n      <td>67571.0</td>\n      <td>233.828122</td>\n      <td>293.025114</td>\n      <td>98.0</td>\n    </tr>\n    <tr>\n      <th>Niebla</th>\n      <td>18.0</td>\n      <td>10.0</td>\n      <td>12.0</td>\n      <td>4117.0</td>\n      <td>242.895312</td>\n      <td>291.474375</td>\n      <td>4.0</td>\n    </tr>\n    <tr>\n      <th>Lepe</th>\n      <td>211.0</td>\n      <td>48.0</td>\n      <td>78.0</td>\n      <td>27431.0</td>\n      <td>174.984507</td>\n      <td>284.349823</td>\n      <td>20.0</td>\n    </tr>\n    <tr>\n      <th>Escacena del Campo</th>\n      <td>22.0</td>\n      <td>2.0</td>\n      <td>6.0</td>\n      <td>2284.0</td>\n      <td>87.565674</td>\n      <td>262.697023</td>\n      <td>2.0</td>\n    </tr>\n    <tr>\n      <th>Sanlúcar de Guadiana</th>\n      <td>1.0</td>\n      <td>1.0</td>\n      <td>1.0</td>\n      <td>409.0</td>\n      <td>244.498778</td>\n      <td>244.498778</td>\n      <td>0.0</td>\n    </tr>\n    <tr>\n      <th>Zarza-Perrunal (La)</th>\n      <td>3.0</td>\n      <td>3.0</td>\n      <td>3.0</td>\n      <td>1267.0</td>\n      <td>236.779795</td>\n      <td>236.779795</td>\n      <td>NaN</td>\n    </tr>\n    <tr>\n      <th>Nerva</th>\n      <td>36.0</td>\n      <td>9.0</td>\n      <td>12.0</td>\n      <td>5235.0</td>\n      <td>171.919771</td>\n      <td>229.226361</td>\n      <td>7.0</td>\n    </tr>\n    <tr>\n      <th>Valverde del Camino</th>\n      <td>59.0</td>\n      <td>25.0</td>\n      <td>29.0</td>\n      <td>12820.0</td>\n      <td>195.007800</td>\n      <td>226.209048</td>\n      <td>26.0</td>\n    </tr>\n    <tr>\n      <th>Jabugo</th>\n      <td>18.0</td>\n      <td>4.0</td>\n      <td>5.0</td>\n      <td>2250.0</td>\n      <td>177.777778</td>\n      <td>222.222222</td>\n      <td>2.0</td>\n    </tr>\n    <tr>\n      <th>Almonte</th>\n      <td>113.0</td>\n      <td>36.0</td>\n      <td>53.0</td>\n      <td>24191.0</td>\n      <td>148.815675</td>\n      <td>219.089744</td>\n      <td>18.0</td>\n    </tr>\n    <tr>\n      <th>Gibraleón</th>\n      <td>58.0</td>\n      <td>13.0</td>\n      <td>24.0</td>\n      <td>12607.0</td>\n      <td>103.117316</td>\n      <td>190.370429</td>\n      <td>7.0</td>\n    </tr>\n    <tr>\n      <th>Huelva</th>\n      <td>2756.0</td>\n      <td>588.0</td>\n      <td>947.0</td>\n      <td>510743.0</td>\n      <td>115.126394</td>\n      <td>185.416149</td>\n      <td>307.0</td>\n    </tr>\n    <tr>\n      <th>Rosal de la Frontera</th>\n      <td>5.0</td>\n      <td>3.0</td>\n      <td>3.0</td>\n      <td>1697.0</td>\n      <td>176.782557</td>\n      <td>176.782557</td>\n      <td>2.0</td>\n    </tr>\n    <tr>\n      <th>Cartaya</th>\n      <td>63.0</td>\n      <td>25.0</td>\n      <td>35.0</td>\n      <td>19974.0</td>\n      <td>125.162712</td>\n      <td>175.227796</td>\n      <td>16.0</td>\n    </tr>\n    <tr>\n      <th>Huelva (capital)</th>\n      <td>700.0</td>\n      <td>123.0</td>\n      <td>249.0</td>\n      <td>143663.0</td>\n      <td>85.617034</td>\n      <td>173.322289</td>\n      <td>57.0</td>\n    </tr>\n    <tr>\n      <th>Aracena</th>\n      <td>68.0</td>\n      <td>8.0</td>\n      <td>14.0</td>\n      <td>8107.0</td>\n      <td>98.680153</td>\n      <td>172.690268</td>\n      <td>1.0</td>\n    </tr>\n    <tr>\n      <th>Huelva-Costa</th>\n      <td>1399.0</td>\n      <td>277.0</td>\n      <td>485.0</td>\n      <td>288115.0</td>\n      <td>96.142165</td>\n      <td>168.335560</td>\n      <td>127.0</td>\n    </tr>\n    <tr>\n      <th>Condado-Campiña</th>\n      <td>875.0</td>\n      <td>138.0</td>\n      <td>246.0</td>\n      <td>155057.0</td>\n      <td>88.999529</td>\n      <td>158.651335</td>\n      <td>70.0</td>\n    </tr>\n    <tr>\n      <th>Higuera de la Sierra</th>\n      <td>5.0</td>\n      <td>1.0</td>\n      <td>2.0</td>\n      <td>1287.0</td>\n      <td>77.700078</td>\n      <td>155.400155</td>\n      <td>0.0</td>\n    </tr>\n    <tr>\n      <th>Villalba del Alcor</th>\n      <td>47.0</td>\n      <td>5.0</td>\n      <td>5.0</td>\n      <td>3338.0</td>\n      <td>149.790294</td>\n      <td>149.790294</td>\n      <td>3.0</td>\n    </tr>\n    <tr>\n      <th>Bollullos Par del Condado</th>\n      <td>126.0</td>\n      <td>10.0</td>\n      <td>20.0</td>\n      <td>14272.0</td>\n      <td>70.067265</td>\n      <td>140.134529</td>\n      <td>3.0</td>\n    </tr>\n    <tr>\n      <th>Aljaraque</th>\n      <td>105.0</td>\n      <td>18.0</td>\n      <td>29.0</td>\n      <td>21260.0</td>\n      <td>84.666040</td>\n      <td>136.406397</td>\n      <td>7.0</td>\n    </tr>\n    <tr>\n      <th>San Juan del Puerto</th>\n      <td>79.0</td>\n      <td>4.0</td>\n      <td>11.0</td>\n      <td>9300.0</td>\n      <td>43.010753</td>\n      <td>118.279570</td>\n      <td>1.0</td>\n    </tr>\n    <tr>\n      <th>Trigueros</th>\n      <td>47.0</td>\n      <td>8.0</td>\n      <td>9.0</td>\n      <td>7713.0</td>\n      <td>103.720991</td>\n      <td>116.686114</td>\n      <td>4.0</td>\n    </tr>\n    <tr>\n      <th>Isla Cristina</th>\n      <td>96.0</td>\n      <td>15.0</td>\n      <td>24.0</td>\n      <td>21264.0</td>\n      <td>70.541761</td>\n      <td>112.866817</td>\n      <td>5.0</td>\n    </tr>\n    <tr>\n      <th>Minas de Riotinto</th>\n      <td>22.0</td>\n      <td>2.0</td>\n      <td>4.0</td>\n      <td>3848.0</td>\n      <td>51.975052</td>\n      <td>103.950104</td>\n      <td>1.0</td>\n    </tr>\n    <tr>\n      <th>Alosno</th>\n      <td>10.0</td>\n      <td>3.0</td>\n      <td>4.0</td>\n      <td>3923.0</td>\n      <td>76.472088</td>\n      <td>101.962784</td>\n      <td>NaN</td>\n    </tr>\n    <tr>\n      <th>Campillo (El)</th>\n      <td>29.0</td>\n      <td>2.0</td>\n      <td>2.0</td>\n      <td>2023.0</td>\n      <td>98.863075</td>\n      <td>98.863075</td>\n      <td>1.0</td>\n    </tr>\n    <tr>\n      <th>Aroche</th>\n      <td>13.0</td>\n      <td>3.0</td>\n      <td>3.0</td>\n      <td>3073.0</td>\n      <td>97.624471</td>\n      <td>97.624471</td>\n      <td>2.0</td>\n    </tr>\n    <tr>\n      <th>Santa Bárbara de Casa</th>\n      <td>8.0</td>\n      <td>1.0</td>\n      <td>1.0</td>\n      <td>1035.0</td>\n      <td>96.618357</td>\n      <td>96.618357</td>\n      <td>NaN</td>\n    </tr>\n    <tr>\n      <th>Ayamonte</th>\n      <td>70.0</td>\n      <td>16.0</td>\n      <td>18.0</td>\n      <td>20946.0</td>\n      <td>76.386900</td>\n      <td>85.935262</td>\n      <td>7.0</td>\n    </tr>\n    <tr>\n      <th>San Bartolomé de la Torre</th>\n      <td>7.0</td>\n      <td>1.0</td>\n      <td>3.0</td>\n      <td>3736.0</td>\n      <td>26.766595</td>\n      <td>80.299786</td>\n      <td>1.0</td>\n    </tr>\n    <tr>\n      <th>Palos de la Frontera</th>\n      <td>38.0</td>\n      <td>7.0</td>\n      <td>9.0</td>\n      <td>11289.0</td>\n      <td>62.007264</td>\n      <td>79.723625</td>\n      <td>5.0</td>\n    </tr>\n    <tr>\n      <th>Calañas</th>\n      <td>5.0</td>\n      <td>2.0</td>\n      <td>2.0</td>\n      <td>2791.0</td>\n      <td>71.658904</td>\n      <td>71.658904</td>\n      <td>NaN</td>\n    </tr>\n    <tr>\n      <th>Lucena del Puerto</th>\n      <td>16.0</td>\n      <td>2.0</td>\n      <td>2.0</td>\n      <td>3371.0</td>\n      <td>59.329576</td>\n      <td>59.329576</td>\n      <td>0.0</td>\n    </tr>\n    <tr>\n      <th>Moguer</th>\n      <td>63.0</td>\n      <td>3.0</td>\n      <td>12.0</td>\n      <td>22088.0</td>\n      <td>13.582035</td>\n      <td>54.328142</td>\n      <td>1.0</td>\n    </tr>\n    <tr>\n      <th>Rociana del Condado</th>\n      <td>14.0</td>\n      <td>3.0</td>\n      <td>4.0</td>\n      <td>7855.0</td>\n      <td>38.192234</td>\n      <td>50.922979</td>\n      <td>0.0</td>\n    </tr>\n    <tr>\n      <th>Bonares</th>\n      <td>10.0</td>\n      <td>3.0</td>\n      <td>3.0</td>\n      <td>6058.0</td>\n      <td>49.521294</td>\n      <td>49.521294</td>\n      <td>0.0</td>\n    </tr>\n    <tr>\n      <th>Punta Umbría</th>\n      <td>45.0</td>\n      <td>6.0</td>\n      <td>7.0</td>\n      <td>15242.0</td>\n      <td>39.364913</td>\n      <td>45.925732</td>\n      <td>4.0</td>\n    </tr>\n  </tbody>\n</table>\n</div>"
     },
     "metadata": {},
     "execution_count": 17
    }
   ],
   "source": [
    "tabla.sort_values('tasa14', ascending=False)"
   ]
  },
  {
   "cell_type": "code",
   "execution_count": null,
   "metadata": {},
   "outputs": [],
   "source": []
  }
 ]
}