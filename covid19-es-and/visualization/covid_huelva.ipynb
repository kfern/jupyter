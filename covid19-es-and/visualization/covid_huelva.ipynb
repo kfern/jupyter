{
 "metadata": {
  "language_info": {
   "codemirror_mode": {
    "name": "ipython",
    "version": 3
   },
   "file_extension": ".py",
   "mimetype": "text/x-python",
   "name": "python",
   "nbconvert_exporter": "python",
   "pygments_lexer": "ipython3",
   "version": "3.8.6"
  },
  "orig_nbformat": 2,
  "kernelspec": {
   "name": "python3",
   "display_name": "Python 3",
   "language": "python"
  }
 },
 "nbformat": 4,
 "nbformat_minor": 2,
 "cells": [
  {
   "cell_type": "code",
   "execution_count": 1,
   "metadata": {},
   "outputs": [],
   "source": [
    "import pandas as pd\n",
    "pd.set_option('display.max_rows', None) # Print all rows"
   ]
  },
  {
   "cell_type": "code",
   "execution_count": 2,
   "metadata": {},
   "outputs": [],
   "source": [
    "# FIX SSL: CERTIFICATE_VERIFY_FAILED with Python3\n",
    "# https://stackoverflow.com/a/49174340\n",
    "import ssl\n",
    "\n",
    "ssl._create_default_https_context = ssl._create_unverified_context"
   ]
  },
  {
   "cell_type": "code",
   "execution_count": 3,
   "metadata": {},
   "outputs": [],
   "source": [
    "url = 'https://www.juntadeandalucia.es/institutodeestadisticaycartografia/badea/stpivot/stpivot/Print?cube=013d884c-cfc5-4c21-9e78-e26225682afd&type=3&foto=si&ejecutaDesde=&codConsulta=38668&consTipoVisua=JP'\n",
    "fields = ['Lugar de residencia', 'Medida', 'Valor']\n",
    "df = pd.read_csv(url, delimiter=';', usecols=fields, decimal=',')"
   ]
  },
  {
   "cell_type": "code",
   "execution_count": 4,
   "metadata": {},
   "outputs": [
    {
     "output_type": "execute_result",
     "data": {
      "text/plain": [
       "  Lugar de residencia                    Medida               Valor\n",
       "0              Huelva                 Población              513170\n",
       "1              Huelva          Confirmados PDIA               28916\n",
       "2              Huelva  Confirmados PDIA 14 días                1009\n",
       "3              Huelva         Tasa PDIA 14 días  196,62100278660094\n",
       "4              Huelva   Confirmados PDIA 7 días                 463\n",
       "5              Huelva        Total Confirmados                29092\n",
       "6              Huelva                   Curados               25440\n",
       "7              Huelva                Fallecidos                 369"
      ],
      "text/html": "<div>\n<style scoped>\n    .dataframe tbody tr th:only-of-type {\n        vertical-align: middle;\n    }\n\n    .dataframe tbody tr th {\n        vertical-align: top;\n    }\n\n    .dataframe thead th {\n        text-align: right;\n    }\n</style>\n<table border=\"1\" class=\"dataframe\">\n  <thead>\n    <tr style=\"text-align: right;\">\n      <th></th>\n      <th>Lugar de residencia</th>\n      <th>Medida</th>\n      <th>Valor</th>\n    </tr>\n  </thead>\n  <tbody>\n    <tr>\n      <th>0</th>\n      <td>Huelva</td>\n      <td>Población</td>\n      <td>513170</td>\n    </tr>\n    <tr>\n      <th>1</th>\n      <td>Huelva</td>\n      <td>Confirmados PDIA</td>\n      <td>28916</td>\n    </tr>\n    <tr>\n      <th>2</th>\n      <td>Huelva</td>\n      <td>Confirmados PDIA 14 días</td>\n      <td>1009</td>\n    </tr>\n    <tr>\n      <th>3</th>\n      <td>Huelva</td>\n      <td>Tasa PDIA 14 días</td>\n      <td>196,62100278660094</td>\n    </tr>\n    <tr>\n      <th>4</th>\n      <td>Huelva</td>\n      <td>Confirmados PDIA 7 días</td>\n      <td>463</td>\n    </tr>\n    <tr>\n      <th>5</th>\n      <td>Huelva</td>\n      <td>Total Confirmados</td>\n      <td>29092</td>\n    </tr>\n    <tr>\n      <th>6</th>\n      <td>Huelva</td>\n      <td>Curados</td>\n      <td>25440</td>\n    </tr>\n    <tr>\n      <th>7</th>\n      <td>Huelva</td>\n      <td>Fallecidos</td>\n      <td>369</td>\n    </tr>\n  </tbody>\n</table>\n</div>"
     },
     "metadata": {},
     "execution_count": 4
    }
   ],
   "source": [
    "df[df['Lugar de residencia'] == 'Huelva']"
   ]
  },
  {
   "cell_type": "code",
   "execution_count": 5,
   "metadata": {},
   "outputs": [],
   "source": [
    "df['Valor'] = pd.to_numeric(df['Valor'],errors='coerce')"
   ]
  },
  {
   "cell_type": "code",
   "execution_count": 6,
   "metadata": {},
   "outputs": [],
   "source": [
    "dfAnterior = pd.read_csv('covid_huelva.csv', index_col='Lugar de residencia')"
   ]
  },
  {
   "cell_type": "code",
   "execution_count": 7,
   "metadata": {
    "tags": []
   },
   "outputs": [
    {
     "output_type": "stream",
     "name": "stdout",
     "text": [
      "Confirmados PCR en la provincia de Huelva:  28916.0\n",
      "<ipython-input-7-31b732756b19>:2: UserWarning: Boolean Series key will be reindexed to match DataFrame index.\n",
      "  p = df[df['Lugar de residencia'] == 'Huelva'][df['Medida'] == 'Confirmados PDIA']['Valor'].values[0]\n"
     ]
    }
   ],
   "source": [
    "# Confirmados PCR provincia Huelva\n",
    "p = df[df['Lugar de residencia'] == 'Huelva'][df['Medida'] == 'Confirmados PDIA']['Valor'].values[0]\n",
    "print('Confirmados PCR en la provincia de Huelva: ', p)"
   ]
  },
  {
   "cell_type": "code",
   "execution_count": 8,
   "metadata": {
    "tags": []
   },
   "outputs": [
    {
     "output_type": "stream",
     "name": "stdout",
     "text": [
      "Confirmados PCR en Huelva capital:  7525.0\n",
      "<ipython-input-8-e81bfb40e710>:2: UserWarning: Boolean Series key will be reindexed to match DataFrame index.\n",
      "  c = df[df['Lugar de residencia'] == 'Huelva (capital)'][df['Medida'] == 'Confirmados PDIA']['Valor'].values[0]\n"
     ]
    }
   ],
   "source": [
    "# Confirmados PCR Huelva capitalpd\n",
    "c = df[df['Lugar de residencia'] == 'Huelva (capital)'][df['Medida'] == 'Confirmados PDIA']['Valor'].values[0]\n",
    "print('Confirmados PCR en Huelva capital: ', c)"
   ]
  },
  {
   "cell_type": "code",
   "execution_count": 9,
   "metadata": {
    "tags": []
   },
   "outputs": [
    {
     "output_type": "stream",
     "name": "stderr",
     "text": [
      "<ipython-input-9-f09dd2050cc1>:1: UserWarning: Boolean Series key will be reindexed to match DataFrame index.\n  c7 = df[df['Lugar de residencia'] == 'Huelva (capital)'][df['Medida'] == 'Confirmados PDIA 7 días']['Valor'].values[0]\n<ipython-input-9-f09dd2050cc1>:2: UserWarning: Boolean Series key will be reindexed to match DataFrame index.\n  c14 = df[df['Lugar de residencia'] == 'Huelva (capital)'][df['Medida'] == 'Confirmados PDIA 14 días']['Valor'].values[0]\n<ipython-input-9-f09dd2050cc1>:3: UserWarning: Boolean Series key will be reindexed to match DataFrame index.\n  p = df[df['Lugar de residencia'] == 'Huelva (capital)'][df['Medida'] == 'Población']['Valor'].values[0]\n"
     ]
    }
   ],
   "source": [
    "c7 = df[df['Lugar de residencia'] == 'Huelva (capital)'][df['Medida'] == 'Confirmados PDIA 7 días']['Valor'].values[0]\n",
    "c14 = df[df['Lugar de residencia'] == 'Huelva (capital)'][df['Medida'] == 'Confirmados PDIA 14 días']['Valor'].values[0]\n",
    "p = df[df['Lugar de residencia'] == 'Huelva (capital)'][df['Medida'] == 'Población']['Valor'].values[0]"
   ]
  },
  {
   "cell_type": "code",
   "execution_count": 10,
   "metadata": {
    "tags": []
   },
   "outputs": [
    {
     "output_type": "stream",
     "name": "stdout",
     "text": [
      "Huelva (capital)\n\nUn positivo PCR cada 1020 personas en los últimos 7 días \n\nUn positivo PCR cada 519 personas en los últimos 14 días\n"
     ]
    }
   ],
   "source": [
    "print('Huelva (capital)\\n')\n",
    "#print('Confirmados PCR 7 días x 1,000 habitantes: ', f\"{c7/(p/1000):.5f}\")\n",
    "print('Un positivo PCR cada', f\"{p/c7:.0f}\", 'personas en los últimos 7 días', '\\n')\n",
    "#print('Confirmados PCR 14 días x 1,000 habitantes: ', f\"{c14/(p/1000):.5f}\")\n",
    "print('Un positivo PCR cada', f\"{p/c14:.0f}\", 'personas en los últimos 14 días')"
   ]
  },
  {
   "cell_type": "code",
   "execution_count": 11,
   "metadata": {},
   "outputs": [],
   "source": [
    "filtro = ((df['Medida'] == 'Confirmados PDIA')| (df['Medida'] == 'Confirmados PDIA 7 días') | (df['Medida'] == 'Población' ) | (df['Medida'] == 'Confirmados PDIA 14 días')) & (df['Valor'] > 0)\n",
    "tabla = pd.pivot_table(df.loc[filtro], values='Valor', index='Lugar de residencia', columns='Medida').dropna()"
   ]
  },
  {
   "cell_type": "code",
   "execution_count": 12,
   "metadata": {},
   "outputs": [],
   "source": [
    "# Reorder columns\n",
    "tabla = tabla[['Confirmados PDIA', 'Confirmados PDIA 7 días', 'Confirmados PDIA 14 días', 'Población']]"
   ]
  },
  {
   "cell_type": "code",
   "execution_count": 13,
   "metadata": {},
   "outputs": [],
   "source": [
    "tabla['tasa7'] = tabla['Confirmados PDIA 7 días']/tabla['Población']*100000\n",
    "tabla['tasa14'] = tabla['Confirmados PDIA 14 días']/tabla['Población']*100000"
   ]
  },
  {
   "cell_type": "code",
   "execution_count": 14,
   "metadata": {},
   "outputs": [],
   "source": [
    "tabla['Diferencia PDIA'] = tabla['Confirmados PDIA'] - dfAnterior['Confirmados PDIA']"
   ]
  },
  {
   "cell_type": "code",
   "execution_count": 15,
   "metadata": {},
   "outputs": [
    {
     "output_type": "execute_result",
     "data": {
      "text/plain": [
       "Medida                             Confirmados PDIA  Confirmados PDIA 7 días  \\\n",
       "Lugar de residencia                                                            \n",
       "Huelva                                      28916.0                    463.0   \n",
       "Condado-Campiña                              9173.0                    220.0   \n",
       "Huelva-Costa                                16830.0                    212.0   \n",
       "Huelva (capital)                             7525.0                    141.0   \n",
       "Almonte                                      1579.0                     82.0   \n",
       "Bollullos Par del Condado                     856.0                     48.0   \n",
       "Rociana del Condado                           525.0                     15.0   \n",
       "Palma del Condado (La)                       1044.0                      8.0   \n",
       "San Juan del Puerto                           454.0                      7.0   \n",
       "Nerva                                         160.0                      7.0   \n",
       "Sierra de Huelva-Andévalo Central            2570.0                     28.0   \n",
       "Gibraleón                                     591.0                      5.0   \n",
       "Moguer                                       1116.0                     19.0   \n",
       "Palos de la Frontera                          597.0                     19.0   \n",
       "Punta Umbría                                  718.0                      8.0   \n",
       "Bonares                                       257.0                      4.0   \n",
       "Isla Cristina                                2075.0                     15.0   \n",
       "\n",
       "Medida                             Confirmados PDIA 14 días  Población  \\\n",
       "Lugar de residencia                                                      \n",
       "Huelva                                               1009.0   513170.0   \n",
       "Condado-Campiña                                       489.0   156231.0   \n",
       "Huelva-Costa                                          439.0   289548.0   \n",
       "Huelva (capital)                                      277.0   143837.0   \n",
       "Almonte                                               155.0    24507.0   \n",
       "Bollullos Par del Condado                              83.0    14387.0   \n",
       "Rociana del Condado                                    29.0     7939.0   \n",
       "Palma del Condado (La)                                 15.0    10801.0   \n",
       "San Juan del Puerto                                    22.0     9411.0   \n",
       "Nerva                                                   7.0     5169.0   \n",
       "Sierra de Huelva-Andévalo Central                      71.0    67391.0   \n",
       "Gibraleón                                              14.0    12737.0   \n",
       "Moguer                                                 57.0    21867.0   \n",
       "Palos de la Frontera                                   28.0    11742.0   \n",
       "Punta Umbría                                           22.0    15355.0   \n",
       "Bonares                                                17.0     6060.0   \n",
       "Isla Cristina                                          35.0    21393.0   \n",
       "\n",
       "Medida                                  tasa7      tasa14  Diferencia PDIA  \n",
       "Lugar de residencia                                                         \n",
       "Huelva                              90.223513  196.621003             76.0  \n",
       "Condado-Campiña                    140.817123  312.998061             43.0  \n",
       "Huelva-Costa                        73.217567  151.615622             30.0  \n",
       "Huelva (capital)                    98.027628  192.579100             28.0  \n",
       "Almonte                            334.598278  632.472355             15.0  \n",
       "Bollullos Par del Condado          333.634531  576.909710              8.0  \n",
       "Rociana del Condado                188.940673  365.285300              7.0  \n",
       "Palma del Condado (La)              74.067216  138.876030              5.0  \n",
       "San Juan del Puerto                 74.381043  233.768994              3.0  \n",
       "Nerva                              135.422712  135.422712              2.0  \n",
       "Sierra de Huelva-Andévalo Central   41.548575  105.355315              2.0  \n",
       "Gibraleón                           39.255712  109.915993              2.0  \n",
       "Moguer                              86.888919  260.666758              1.0  \n",
       "Palos de la Frontera               161.812298  238.460228              1.0  \n",
       "Punta Umbría                        52.100293  143.275806              1.0  \n",
       "Bonares                             66.006601  280.528053              1.0  \n",
       "Isla Cristina                       70.116393  163.604917              1.0  "
      ],
      "text/html": "<div>\n<style scoped>\n    .dataframe tbody tr th:only-of-type {\n        vertical-align: middle;\n    }\n\n    .dataframe tbody tr th {\n        vertical-align: top;\n    }\n\n    .dataframe thead th {\n        text-align: right;\n    }\n</style>\n<table border=\"1\" class=\"dataframe\">\n  <thead>\n    <tr style=\"text-align: right;\">\n      <th>Medida</th>\n      <th>Confirmados PDIA</th>\n      <th>Confirmados PDIA 7 días</th>\n      <th>Confirmados PDIA 14 días</th>\n      <th>Población</th>\n      <th>tasa7</th>\n      <th>tasa14</th>\n      <th>Diferencia PDIA</th>\n    </tr>\n    <tr>\n      <th>Lugar de residencia</th>\n      <th></th>\n      <th></th>\n      <th></th>\n      <th></th>\n      <th></th>\n      <th></th>\n      <th></th>\n    </tr>\n  </thead>\n  <tbody>\n    <tr>\n      <th>Huelva</th>\n      <td>28916.0</td>\n      <td>463.0</td>\n      <td>1009.0</td>\n      <td>513170.0</td>\n      <td>90.223513</td>\n      <td>196.621003</td>\n      <td>76.0</td>\n    </tr>\n    <tr>\n      <th>Condado-Campiña</th>\n      <td>9173.0</td>\n      <td>220.0</td>\n      <td>489.0</td>\n      <td>156231.0</td>\n      <td>140.817123</td>\n      <td>312.998061</td>\n      <td>43.0</td>\n    </tr>\n    <tr>\n      <th>Huelva-Costa</th>\n      <td>16830.0</td>\n      <td>212.0</td>\n      <td>439.0</td>\n      <td>289548.0</td>\n      <td>73.217567</td>\n      <td>151.615622</td>\n      <td>30.0</td>\n    </tr>\n    <tr>\n      <th>Huelva (capital)</th>\n      <td>7525.0</td>\n      <td>141.0</td>\n      <td>277.0</td>\n      <td>143837.0</td>\n      <td>98.027628</td>\n      <td>192.579100</td>\n      <td>28.0</td>\n    </tr>\n    <tr>\n      <th>Almonte</th>\n      <td>1579.0</td>\n      <td>82.0</td>\n      <td>155.0</td>\n      <td>24507.0</td>\n      <td>334.598278</td>\n      <td>632.472355</td>\n      <td>15.0</td>\n    </tr>\n    <tr>\n      <th>Bollullos Par del Condado</th>\n      <td>856.0</td>\n      <td>48.0</td>\n      <td>83.0</td>\n      <td>14387.0</td>\n      <td>333.634531</td>\n      <td>576.909710</td>\n      <td>8.0</td>\n    </tr>\n    <tr>\n      <th>Rociana del Condado</th>\n      <td>525.0</td>\n      <td>15.0</td>\n      <td>29.0</td>\n      <td>7939.0</td>\n      <td>188.940673</td>\n      <td>365.285300</td>\n      <td>7.0</td>\n    </tr>\n    <tr>\n      <th>Palma del Condado (La)</th>\n      <td>1044.0</td>\n      <td>8.0</td>\n      <td>15.0</td>\n      <td>10801.0</td>\n      <td>74.067216</td>\n      <td>138.876030</td>\n      <td>5.0</td>\n    </tr>\n    <tr>\n      <th>San Juan del Puerto</th>\n      <td>454.0</td>\n      <td>7.0</td>\n      <td>22.0</td>\n      <td>9411.0</td>\n      <td>74.381043</td>\n      <td>233.768994</td>\n      <td>3.0</td>\n    </tr>\n    <tr>\n      <th>Nerva</th>\n      <td>160.0</td>\n      <td>7.0</td>\n      <td>7.0</td>\n      <td>5169.0</td>\n      <td>135.422712</td>\n      <td>135.422712</td>\n      <td>2.0</td>\n    </tr>\n    <tr>\n      <th>Sierra de Huelva-Andévalo Central</th>\n      <td>2570.0</td>\n      <td>28.0</td>\n      <td>71.0</td>\n      <td>67391.0</td>\n      <td>41.548575</td>\n      <td>105.355315</td>\n      <td>2.0</td>\n    </tr>\n    <tr>\n      <th>Gibraleón</th>\n      <td>591.0</td>\n      <td>5.0</td>\n      <td>14.0</td>\n      <td>12737.0</td>\n      <td>39.255712</td>\n      <td>109.915993</td>\n      <td>2.0</td>\n    </tr>\n    <tr>\n      <th>Moguer</th>\n      <td>1116.0</td>\n      <td>19.0</td>\n      <td>57.0</td>\n      <td>21867.0</td>\n      <td>86.888919</td>\n      <td>260.666758</td>\n      <td>1.0</td>\n    </tr>\n    <tr>\n      <th>Palos de la Frontera</th>\n      <td>597.0</td>\n      <td>19.0</td>\n      <td>28.0</td>\n      <td>11742.0</td>\n      <td>161.812298</td>\n      <td>238.460228</td>\n      <td>1.0</td>\n    </tr>\n    <tr>\n      <th>Punta Umbría</th>\n      <td>718.0</td>\n      <td>8.0</td>\n      <td>22.0</td>\n      <td>15355.0</td>\n      <td>52.100293</td>\n      <td>143.275806</td>\n      <td>1.0</td>\n    </tr>\n    <tr>\n      <th>Bonares</th>\n      <td>257.0</td>\n      <td>4.0</td>\n      <td>17.0</td>\n      <td>6060.0</td>\n      <td>66.006601</td>\n      <td>280.528053</td>\n      <td>1.0</td>\n    </tr>\n    <tr>\n      <th>Isla Cristina</th>\n      <td>2075.0</td>\n      <td>15.0</td>\n      <td>35.0</td>\n      <td>21393.0</td>\n      <td>70.116393</td>\n      <td>163.604917</td>\n      <td>1.0</td>\n    </tr>\n  </tbody>\n</table>\n</div>"
     },
     "metadata": {},
     "execution_count": 15
    }
   ],
   "source": [
    "# Nuevos casos desde la última captura\n",
    "tabla[tabla['Diferencia PDIA'] != 0].sort_values('Diferencia PDIA', ascending=False)"
   ]
  },
  {
   "cell_type": "code",
   "execution_count": 16,
   "metadata": {},
   "outputs": [],
   "source": [
    "if tabla[tabla['Diferencia PDIA'] != 0]['Diferencia PDIA'].sum() != 0:\n",
    "  # Save to csv\n",
    "  tabla.to_csv('covid_huelva.csv', encoding='utf-8', header=True, index=True)  "
   ]
  },
  {
   "cell_type": "code",
   "execution_count": 17,
   "metadata": {},
   "outputs": [
    {
     "output_type": "execute_result",
     "data": {
      "text/plain": [
       "Medida                             Confirmados PDIA  Confirmados PDIA 7 días  \\\n",
       "Lugar de residencia                                                            \n",
       "Lucena del Puerto                             233.0                      2.0   \n",
       "Cumbres de San Bartolomé                       11.0                      1.0   \n",
       "Almonte                                      1579.0                     82.0   \n",
       "Bollullos Par del Condado                     856.0                     48.0   \n",
       "Galaroza                                       30.0                      3.0   \n",
       "Beas                                          201.0                      3.0   \n",
       "Rociana del Condado                           525.0                     15.0   \n",
       "Condado-Campiña                              9173.0                    220.0   \n",
       "Bonares                                       257.0                      4.0   \n",
       "Moguer                                       1116.0                     19.0   \n",
       "Palos de la Frontera                          597.0                     19.0   \n",
       "Rosal de la Frontera                           29.0                      1.0   \n",
       "San Juan del Puerto                           454.0                      7.0   \n",
       "Santa Ana la Real                              10.0                      1.0   \n",
       "Cartaya                                      1282.0                     17.0   \n",
       "Huelva                                      28916.0                    463.0   \n",
       "Huelva (capital)                             7525.0                    141.0   \n",
       "Escacena del Campo                            147.0                      3.0   \n",
       "Almonaster la Real                             66.0                      1.0   \n",
       "Isla Cristina                                2075.0                     15.0   \n",
       "Huelva-Costa                                16830.0                    212.0   \n",
       "Punta Umbría                                  718.0                      8.0   \n",
       "Cabezas Rubias                                 32.0                      1.0   \n",
       "Valverde del Camino                           481.0                      8.0   \n",
       "Palma del Condado (La)                       1044.0                      8.0   \n",
       "Nerva                                         160.0                      7.0   \n",
       "Cortegana                                     200.0                      1.0   \n",
       "Trigueros                                     268.0                      1.0   \n",
       "Ayamonte                                     1291.0                     10.0   \n",
       "Gibraleón                                     591.0                      5.0   \n",
       "Sierra de Huelva-Andévalo Central            2570.0                     28.0   \n",
       "Niebla                                        196.0                      3.0   \n",
       "Aracena                                       513.0                      4.0   \n",
       "Aljaraque                                    1009.0                     13.0   \n",
       "Minas de Riotinto                             114.0                      1.0   \n",
       "Villablanca                                   181.0                      1.0   \n",
       "Lepe                                         2084.0                      6.0   \n",
       "Manzanilla                                     85.0                      1.0   \n",
       "\n",
       "Medida                             Confirmados PDIA 14 días  Población  \\\n",
       "Lugar de residencia                                                      \n",
       "Lucena del Puerto                                      33.0     3261.0   \n",
       "Cumbres de San Bartolomé                                3.0      376.0   \n",
       "Almonte                                               155.0    24507.0   \n",
       "Bollullos Par del Condado                              83.0    14387.0   \n",
       "Galaroza                                                6.0     1382.0   \n",
       "Beas                                                   17.0     4341.0   \n",
       "Rociana del Condado                                    29.0     7939.0   \n",
       "Condado-Campiña                                       489.0   156231.0   \n",
       "Bonares                                                17.0     6060.0   \n",
       "Moguer                                                 57.0    21867.0   \n",
       "Palos de la Frontera                                   28.0    11742.0   \n",
       "Rosal de la Frontera                                    4.0     1697.0   \n",
       "San Juan del Puerto                                    22.0     9411.0   \n",
       "Santa Ana la Real                                       1.0      475.0   \n",
       "Cartaya                                                41.0    20083.0   \n",
       "Huelva                                               1009.0   513170.0   \n",
       "Huelva (capital)                                      277.0   143837.0   \n",
       "Escacena del Campo                                      4.0     2287.0   \n",
       "Almonaster la Real                                      3.0     1788.0   \n",
       "Isla Cristina                                          35.0    21393.0   \n",
       "Huelva-Costa                                          439.0   289548.0   \n",
       "Punta Umbría                                           22.0    15355.0   \n",
       "Cabezas Rubias                                          1.0      706.0   \n",
       "Valverde del Camino                                    18.0    12750.0   \n",
       "Palma del Condado (La)                                 15.0    10801.0   \n",
       "Nerva                                                   7.0     5169.0   \n",
       "Cortegana                                               6.0     4602.0   \n",
       "Trigueros                                              10.0     7862.0   \n",
       "Ayamonte                                               26.0    21104.0   \n",
       "Gibraleón                                              14.0    12737.0   \n",
       "Sierra de Huelva-Andévalo Central                      71.0    67391.0   \n",
       "Niebla                                                  4.0     4116.0   \n",
       "Aracena                                                 7.0     8255.0   \n",
       "Aljaraque                                              18.0    21474.0   \n",
       "Minas de Riotinto                                       3.0     3812.0   \n",
       "Villablanca                                             2.0     2885.0   \n",
       "Lepe                                                   15.0    27880.0   \n",
       "Manzanilla                                              1.0     2118.0   \n",
       "\n",
       "Medida                                  tasa7       tasa14  Diferencia PDIA  \n",
       "Lugar de residencia                                                          \n",
       "Lucena del Puerto                   61.330880  1011.959522              0.0  \n",
       "Cumbres de San Bartolomé           265.957447   797.872340              0.0  \n",
       "Almonte                            334.598278   632.472355             15.0  \n",
       "Bollullos Par del Condado          333.634531   576.909710              8.0  \n",
       "Galaroza                           217.076700   434.153401              0.0  \n",
       "Beas                                69.108500   391.614835              0.0  \n",
       "Rociana del Condado                188.940673   365.285300              7.0  \n",
       "Condado-Campiña                    140.817123   312.998061             43.0  \n",
       "Bonares                             66.006601   280.528053              1.0  \n",
       "Moguer                              86.888919   260.666758              1.0  \n",
       "Palos de la Frontera               161.812298   238.460228              1.0  \n",
       "Rosal de la Frontera                58.927519   235.710077              0.0  \n",
       "San Juan del Puerto                 74.381043   233.768994              3.0  \n",
       "Santa Ana la Real                  210.526316   210.526316              0.0  \n",
       "Cartaya                             84.648708   204.152766              0.0  \n",
       "Huelva                              90.223513   196.621003             76.0  \n",
       "Huelva (capital)                    98.027628   192.579100             28.0  \n",
       "Escacena del Campo                 131.176213   174.901618              0.0  \n",
       "Almonaster la Real                  55.928412   167.785235              0.0  \n",
       "Isla Cristina                       70.116393   163.604917              1.0  \n",
       "Huelva-Costa                        73.217567   151.615622             30.0  \n",
       "Punta Umbría                        52.100293   143.275806              1.0  \n",
       "Cabezas Rubias                     141.643059   141.643059              0.0  \n",
       "Valverde del Camino                 62.745098   141.176471              0.0  \n",
       "Palma del Condado (La)              74.067216   138.876030              5.0  \n",
       "Nerva                              135.422712   135.422712              2.0  \n",
       "Cortegana                           21.729683   130.378096              0.0  \n",
       "Trigueros                           12.719410   127.194098              0.0  \n",
       "Ayamonte                            47.384382   123.199393              0.0  \n",
       "Gibraleón                           39.255712   109.915993              2.0  \n",
       "Sierra de Huelva-Andévalo Central   41.548575   105.355315              2.0  \n",
       "Niebla                              72.886297    97.181730              0.0  \n",
       "Aracena                             48.455482    84.797093              0.0  \n",
       "Aljaraque                           60.538325    83.822297              0.0  \n",
       "Minas de Riotinto                   26.232949    78.698846              0.0  \n",
       "Villablanca                         34.662045    69.324090              0.0  \n",
       "Lepe                                21.520803    53.802009              0.0  \n",
       "Manzanilla                          47.214353    47.214353              0.0  "
      ],
      "text/html": "<div>\n<style scoped>\n    .dataframe tbody tr th:only-of-type {\n        vertical-align: middle;\n    }\n\n    .dataframe tbody tr th {\n        vertical-align: top;\n    }\n\n    .dataframe thead th {\n        text-align: right;\n    }\n</style>\n<table border=\"1\" class=\"dataframe\">\n  <thead>\n    <tr style=\"text-align: right;\">\n      <th>Medida</th>\n      <th>Confirmados PDIA</th>\n      <th>Confirmados PDIA 7 días</th>\n      <th>Confirmados PDIA 14 días</th>\n      <th>Población</th>\n      <th>tasa7</th>\n      <th>tasa14</th>\n      <th>Diferencia PDIA</th>\n    </tr>\n    <tr>\n      <th>Lugar de residencia</th>\n      <th></th>\n      <th></th>\n      <th></th>\n      <th></th>\n      <th></th>\n      <th></th>\n      <th></th>\n    </tr>\n  </thead>\n  <tbody>\n    <tr>\n      <th>Lucena del Puerto</th>\n      <td>233.0</td>\n      <td>2.0</td>\n      <td>33.0</td>\n      <td>3261.0</td>\n      <td>61.330880</td>\n      <td>1011.959522</td>\n      <td>0.0</td>\n    </tr>\n    <tr>\n      <th>Cumbres de San Bartolomé</th>\n      <td>11.0</td>\n      <td>1.0</td>\n      <td>3.0</td>\n      <td>376.0</td>\n      <td>265.957447</td>\n      <td>797.872340</td>\n      <td>0.0</td>\n    </tr>\n    <tr>\n      <th>Almonte</th>\n      <td>1579.0</td>\n      <td>82.0</td>\n      <td>155.0</td>\n      <td>24507.0</td>\n      <td>334.598278</td>\n      <td>632.472355</td>\n      <td>15.0</td>\n    </tr>\n    <tr>\n      <th>Bollullos Par del Condado</th>\n      <td>856.0</td>\n      <td>48.0</td>\n      <td>83.0</td>\n      <td>14387.0</td>\n      <td>333.634531</td>\n      <td>576.909710</td>\n      <td>8.0</td>\n    </tr>\n    <tr>\n      <th>Galaroza</th>\n      <td>30.0</td>\n      <td>3.0</td>\n      <td>6.0</td>\n      <td>1382.0</td>\n      <td>217.076700</td>\n      <td>434.153401</td>\n      <td>0.0</td>\n    </tr>\n    <tr>\n      <th>Beas</th>\n      <td>201.0</td>\n      <td>3.0</td>\n      <td>17.0</td>\n      <td>4341.0</td>\n      <td>69.108500</td>\n      <td>391.614835</td>\n      <td>0.0</td>\n    </tr>\n    <tr>\n      <th>Rociana del Condado</th>\n      <td>525.0</td>\n      <td>15.0</td>\n      <td>29.0</td>\n      <td>7939.0</td>\n      <td>188.940673</td>\n      <td>365.285300</td>\n      <td>7.0</td>\n    </tr>\n    <tr>\n      <th>Condado-Campiña</th>\n      <td>9173.0</td>\n      <td>220.0</td>\n      <td>489.0</td>\n      <td>156231.0</td>\n      <td>140.817123</td>\n      <td>312.998061</td>\n      <td>43.0</td>\n    </tr>\n    <tr>\n      <th>Bonares</th>\n      <td>257.0</td>\n      <td>4.0</td>\n      <td>17.0</td>\n      <td>6060.0</td>\n      <td>66.006601</td>\n      <td>280.528053</td>\n      <td>1.0</td>\n    </tr>\n    <tr>\n      <th>Moguer</th>\n      <td>1116.0</td>\n      <td>19.0</td>\n      <td>57.0</td>\n      <td>21867.0</td>\n      <td>86.888919</td>\n      <td>260.666758</td>\n      <td>1.0</td>\n    </tr>\n    <tr>\n      <th>Palos de la Frontera</th>\n      <td>597.0</td>\n      <td>19.0</td>\n      <td>28.0</td>\n      <td>11742.0</td>\n      <td>161.812298</td>\n      <td>238.460228</td>\n      <td>1.0</td>\n    </tr>\n    <tr>\n      <th>Rosal de la Frontera</th>\n      <td>29.0</td>\n      <td>1.0</td>\n      <td>4.0</td>\n      <td>1697.0</td>\n      <td>58.927519</td>\n      <td>235.710077</td>\n      <td>0.0</td>\n    </tr>\n    <tr>\n      <th>San Juan del Puerto</th>\n      <td>454.0</td>\n      <td>7.0</td>\n      <td>22.0</td>\n      <td>9411.0</td>\n      <td>74.381043</td>\n      <td>233.768994</td>\n      <td>3.0</td>\n    </tr>\n    <tr>\n      <th>Santa Ana la Real</th>\n      <td>10.0</td>\n      <td>1.0</td>\n      <td>1.0</td>\n      <td>475.0</td>\n      <td>210.526316</td>\n      <td>210.526316</td>\n      <td>0.0</td>\n    </tr>\n    <tr>\n      <th>Cartaya</th>\n      <td>1282.0</td>\n      <td>17.0</td>\n      <td>41.0</td>\n      <td>20083.0</td>\n      <td>84.648708</td>\n      <td>204.152766</td>\n      <td>0.0</td>\n    </tr>\n    <tr>\n      <th>Huelva</th>\n      <td>28916.0</td>\n      <td>463.0</td>\n      <td>1009.0</td>\n      <td>513170.0</td>\n      <td>90.223513</td>\n      <td>196.621003</td>\n      <td>76.0</td>\n    </tr>\n    <tr>\n      <th>Huelva (capital)</th>\n      <td>7525.0</td>\n      <td>141.0</td>\n      <td>277.0</td>\n      <td>143837.0</td>\n      <td>98.027628</td>\n      <td>192.579100</td>\n      <td>28.0</td>\n    </tr>\n    <tr>\n      <th>Escacena del Campo</th>\n      <td>147.0</td>\n      <td>3.0</td>\n      <td>4.0</td>\n      <td>2287.0</td>\n      <td>131.176213</td>\n      <td>174.901618</td>\n      <td>0.0</td>\n    </tr>\n    <tr>\n      <th>Almonaster la Real</th>\n      <td>66.0</td>\n      <td>1.0</td>\n      <td>3.0</td>\n      <td>1788.0</td>\n      <td>55.928412</td>\n      <td>167.785235</td>\n      <td>0.0</td>\n    </tr>\n    <tr>\n      <th>Isla Cristina</th>\n      <td>2075.0</td>\n      <td>15.0</td>\n      <td>35.0</td>\n      <td>21393.0</td>\n      <td>70.116393</td>\n      <td>163.604917</td>\n      <td>1.0</td>\n    </tr>\n    <tr>\n      <th>Huelva-Costa</th>\n      <td>16830.0</td>\n      <td>212.0</td>\n      <td>439.0</td>\n      <td>289548.0</td>\n      <td>73.217567</td>\n      <td>151.615622</td>\n      <td>30.0</td>\n    </tr>\n    <tr>\n      <th>Punta Umbría</th>\n      <td>718.0</td>\n      <td>8.0</td>\n      <td>22.0</td>\n      <td>15355.0</td>\n      <td>52.100293</td>\n      <td>143.275806</td>\n      <td>1.0</td>\n    </tr>\n    <tr>\n      <th>Cabezas Rubias</th>\n      <td>32.0</td>\n      <td>1.0</td>\n      <td>1.0</td>\n      <td>706.0</td>\n      <td>141.643059</td>\n      <td>141.643059</td>\n      <td>0.0</td>\n    </tr>\n    <tr>\n      <th>Valverde del Camino</th>\n      <td>481.0</td>\n      <td>8.0</td>\n      <td>18.0</td>\n      <td>12750.0</td>\n      <td>62.745098</td>\n      <td>141.176471</td>\n      <td>0.0</td>\n    </tr>\n    <tr>\n      <th>Palma del Condado (La)</th>\n      <td>1044.0</td>\n      <td>8.0</td>\n      <td>15.0</td>\n      <td>10801.0</td>\n      <td>74.067216</td>\n      <td>138.876030</td>\n      <td>5.0</td>\n    </tr>\n    <tr>\n      <th>Nerva</th>\n      <td>160.0</td>\n      <td>7.0</td>\n      <td>7.0</td>\n      <td>5169.0</td>\n      <td>135.422712</td>\n      <td>135.422712</td>\n      <td>2.0</td>\n    </tr>\n    <tr>\n      <th>Cortegana</th>\n      <td>200.0</td>\n      <td>1.0</td>\n      <td>6.0</td>\n      <td>4602.0</td>\n      <td>21.729683</td>\n      <td>130.378096</td>\n      <td>0.0</td>\n    </tr>\n    <tr>\n      <th>Trigueros</th>\n      <td>268.0</td>\n      <td>1.0</td>\n      <td>10.0</td>\n      <td>7862.0</td>\n      <td>12.719410</td>\n      <td>127.194098</td>\n      <td>0.0</td>\n    </tr>\n    <tr>\n      <th>Ayamonte</th>\n      <td>1291.0</td>\n      <td>10.0</td>\n      <td>26.0</td>\n      <td>21104.0</td>\n      <td>47.384382</td>\n      <td>123.199393</td>\n      <td>0.0</td>\n    </tr>\n    <tr>\n      <th>Gibraleón</th>\n      <td>591.0</td>\n      <td>5.0</td>\n      <td>14.0</td>\n      <td>12737.0</td>\n      <td>39.255712</td>\n      <td>109.915993</td>\n      <td>2.0</td>\n    </tr>\n    <tr>\n      <th>Sierra de Huelva-Andévalo Central</th>\n      <td>2570.0</td>\n      <td>28.0</td>\n      <td>71.0</td>\n      <td>67391.0</td>\n      <td>41.548575</td>\n      <td>105.355315</td>\n      <td>2.0</td>\n    </tr>\n    <tr>\n      <th>Niebla</th>\n      <td>196.0</td>\n      <td>3.0</td>\n      <td>4.0</td>\n      <td>4116.0</td>\n      <td>72.886297</td>\n      <td>97.181730</td>\n      <td>0.0</td>\n    </tr>\n    <tr>\n      <th>Aracena</th>\n      <td>513.0</td>\n      <td>4.0</td>\n      <td>7.0</td>\n      <td>8255.0</td>\n      <td>48.455482</td>\n      <td>84.797093</td>\n      <td>0.0</td>\n    </tr>\n    <tr>\n      <th>Aljaraque</th>\n      <td>1009.0</td>\n      <td>13.0</td>\n      <td>18.0</td>\n      <td>21474.0</td>\n      <td>60.538325</td>\n      <td>83.822297</td>\n      <td>0.0</td>\n    </tr>\n    <tr>\n      <th>Minas de Riotinto</th>\n      <td>114.0</td>\n      <td>1.0</td>\n      <td>3.0</td>\n      <td>3812.0</td>\n      <td>26.232949</td>\n      <td>78.698846</td>\n      <td>0.0</td>\n    </tr>\n    <tr>\n      <th>Villablanca</th>\n      <td>181.0</td>\n      <td>1.0</td>\n      <td>2.0</td>\n      <td>2885.0</td>\n      <td>34.662045</td>\n      <td>69.324090</td>\n      <td>0.0</td>\n    </tr>\n    <tr>\n      <th>Lepe</th>\n      <td>2084.0</td>\n      <td>6.0</td>\n      <td>15.0</td>\n      <td>27880.0</td>\n      <td>21.520803</td>\n      <td>53.802009</td>\n      <td>0.0</td>\n    </tr>\n    <tr>\n      <th>Manzanilla</th>\n      <td>85.0</td>\n      <td>1.0</td>\n      <td>1.0</td>\n      <td>2118.0</td>\n      <td>47.214353</td>\n      <td>47.214353</td>\n      <td>0.0</td>\n    </tr>\n  </tbody>\n</table>\n</div>"
     },
     "metadata": {},
     "execution_count": 17
    }
   ],
   "source": [
    "tabla.sort_values('tasa14', ascending=False)"
   ]
  },
  {
   "cell_type": "code",
   "execution_count": 18,
   "metadata": {},
   "outputs": [
    {
     "output_type": "execute_result",
     "data": {
      "text/plain": [
       "Medida                             Confirmados PDIA  Confirmados PDIA 7 días  \\\n",
       "Lugar de residencia                                                            \n",
       "Lucena del Puerto                             233.0                      2.0   \n",
       "Trigueros                                     268.0                      1.0   \n",
       "Cortegana                                     200.0                      1.0   \n",
       "Beas                                          201.0                      3.0   \n",
       "Bonares                                       257.0                      4.0   \n",
       "Rosal de la Frontera                           29.0                      1.0   \n",
       "San Juan del Puerto                           454.0                      7.0   \n",
       "Almonaster la Real                             66.0                      1.0   \n",
       "Minas de Riotinto                             114.0                      1.0   \n",
       "Cumbres de San Bartolomé                       11.0                      1.0   \n",
       "Moguer                                       1116.0                     19.0   \n",
       "Gibraleón                                     591.0                      5.0   \n",
       "Punta Umbría                                  718.0                      8.0   \n",
       "Ayamonte                                     1291.0                     10.0   \n",
       "Sierra de Huelva-Andévalo Central            2570.0                     28.0   \n",
       "Lepe                                         2084.0                      6.0   \n",
       "Cartaya                                      1282.0                     17.0   \n",
       "Isla Cristina                                2075.0                     15.0   \n",
       "Valverde del Camino                           481.0                      8.0   \n",
       "Condado-Campiña                              9173.0                    220.0   \n",
       "Huelva                                      28916.0                    463.0   \n",
       "Huelva-Costa                                16830.0                    212.0   \n",
       "Villablanca                                   181.0                      1.0   \n",
       "Galaroza                                       30.0                      3.0   \n",
       "Huelva (capital)                             7525.0                    141.0   \n",
       "Rociana del Condado                           525.0                     15.0   \n",
       "Almonte                                      1579.0                     82.0   \n",
       "Palma del Condado (La)                       1044.0                      8.0   \n",
       "Aracena                                       513.0                      4.0   \n",
       "Bollullos Par del Condado                     856.0                     48.0   \n",
       "Palos de la Frontera                          597.0                     19.0   \n",
       "Aljaraque                                    1009.0                     13.0   \n",
       "Niebla                                        196.0                      3.0   \n",
       "Escacena del Campo                            147.0                      3.0   \n",
       "Nerva                                         160.0                      7.0   \n",
       "Cabezas Rubias                                 32.0                      1.0   \n",
       "Santa Ana la Real                              10.0                      1.0   \n",
       "Manzanilla                                     85.0                      1.0   \n",
       "\n",
       "Medida                             Confirmados PDIA 14 días  Población  \\\n",
       "Lugar de residencia                                                      \n",
       "Lucena del Puerto                                      33.0     3261.0   \n",
       "Trigueros                                              10.0     7862.0   \n",
       "Cortegana                                               6.0     4602.0   \n",
       "Beas                                                   17.0     4341.0   \n",
       "Bonares                                                17.0     6060.0   \n",
       "Rosal de la Frontera                                    4.0     1697.0   \n",
       "San Juan del Puerto                                    22.0     9411.0   \n",
       "Almonaster la Real                                      3.0     1788.0   \n",
       "Minas de Riotinto                                       3.0     3812.0   \n",
       "Cumbres de San Bartolomé                                3.0      376.0   \n",
       "Moguer                                                 57.0    21867.0   \n",
       "Gibraleón                                              14.0    12737.0   \n",
       "Punta Umbría                                           22.0    15355.0   \n",
       "Ayamonte                                               26.0    21104.0   \n",
       "Sierra de Huelva-Andévalo Central                      71.0    67391.0   \n",
       "Lepe                                                   15.0    27880.0   \n",
       "Cartaya                                                41.0    20083.0   \n",
       "Isla Cristina                                          35.0    21393.0   \n",
       "Valverde del Camino                                    18.0    12750.0   \n",
       "Condado-Campiña                                       489.0   156231.0   \n",
       "Huelva                                               1009.0   513170.0   \n",
       "Huelva-Costa                                          439.0   289548.0   \n",
       "Villablanca                                             2.0     2885.0   \n",
       "Galaroza                                                6.0     1382.0   \n",
       "Huelva (capital)                                      277.0   143837.0   \n",
       "Rociana del Condado                                    29.0     7939.0   \n",
       "Almonte                                               155.0    24507.0   \n",
       "Palma del Condado (La)                                 15.0    10801.0   \n",
       "Aracena                                                 7.0     8255.0   \n",
       "Bollullos Par del Condado                              83.0    14387.0   \n",
       "Palos de la Frontera                                   28.0    11742.0   \n",
       "Aljaraque                                              18.0    21474.0   \n",
       "Niebla                                                  4.0     4116.0   \n",
       "Escacena del Campo                                      4.0     2287.0   \n",
       "Nerva                                                   7.0     5169.0   \n",
       "Cabezas Rubias                                          1.0      706.0   \n",
       "Santa Ana la Real                                       1.0      475.0   \n",
       "Manzanilla                                              1.0     2118.0   \n",
       "\n",
       "Medida                                  tasa7       tasa14  Diferencia PDIA  \\\n",
       "Lugar de residencia                                                           \n",
       "Lucena del Puerto                   61.330880  1011.959522              0.0   \n",
       "Trigueros                           12.719410   127.194098              0.0   \n",
       "Cortegana                           21.729683   130.378096              0.0   \n",
       "Beas                                69.108500   391.614835              0.0   \n",
       "Bonares                             66.006601   280.528053              1.0   \n",
       "Rosal de la Frontera                58.927519   235.710077              0.0   \n",
       "San Juan del Puerto                 74.381043   233.768994              3.0   \n",
       "Almonaster la Real                  55.928412   167.785235              0.0   \n",
       "Minas de Riotinto                   26.232949    78.698846              0.0   \n",
       "Cumbres de San Bartolomé           265.957447   797.872340              0.0   \n",
       "Moguer                              86.888919   260.666758              1.0   \n",
       "Gibraleón                           39.255712   109.915993              2.0   \n",
       "Punta Umbría                        52.100293   143.275806              1.0   \n",
       "Ayamonte                            47.384382   123.199393              0.0   \n",
       "Sierra de Huelva-Andévalo Central   41.548575   105.355315              2.0   \n",
       "Lepe                                21.520803    53.802009              0.0   \n",
       "Cartaya                             84.648708   204.152766              0.0   \n",
       "Isla Cristina                       70.116393   163.604917              1.0   \n",
       "Valverde del Camino                 62.745098   141.176471              0.0   \n",
       "Condado-Campiña                    140.817123   312.998061             43.0   \n",
       "Huelva                              90.223513   196.621003             76.0   \n",
       "Huelva-Costa                        73.217567   151.615622             30.0   \n",
       "Villablanca                         34.662045    69.324090              0.0   \n",
       "Galaroza                           217.076700   434.153401              0.0   \n",
       "Huelva (capital)                    98.027628   192.579100             28.0   \n",
       "Rociana del Condado                188.940673   365.285300              7.0   \n",
       "Almonte                            334.598278   632.472355             15.0   \n",
       "Palma del Condado (La)              74.067216   138.876030              5.0   \n",
       "Aracena                             48.455482    84.797093              0.0   \n",
       "Bollullos Par del Condado          333.634531   576.909710              8.0   \n",
       "Palos de la Frontera               161.812298   238.460228              1.0   \n",
       "Aljaraque                           60.538325    83.822297              0.0   \n",
       "Niebla                              72.886297    97.181730              0.0   \n",
       "Escacena del Campo                 131.176213   174.901618              0.0   \n",
       "Nerva                              135.422712   135.422712              2.0   \n",
       "Cabezas Rubias                     141.643059   141.643059              0.0   \n",
       "Santa Ana la Real                  210.526316   210.526316              0.0   \n",
       "Manzanilla                          47.214353    47.214353              0.0   \n",
       "\n",
       "Medida                                 7/14  \n",
       "Lugar de residencia                          \n",
       "Lucena del Puerto                  0.060606  \n",
       "Trigueros                          0.100000  \n",
       "Cortegana                          0.166667  \n",
       "Beas                               0.176471  \n",
       "Bonares                            0.235294  \n",
       "Rosal de la Frontera               0.250000  \n",
       "San Juan del Puerto                0.318182  \n",
       "Almonaster la Real                 0.333333  \n",
       "Minas de Riotinto                  0.333333  \n",
       "Cumbres de San Bartolomé           0.333333  \n",
       "Moguer                             0.333333  \n",
       "Gibraleón                          0.357143  \n",
       "Punta Umbría                       0.363636  \n",
       "Ayamonte                           0.384615  \n",
       "Sierra de Huelva-Andévalo Central  0.394366  \n",
       "Lepe                               0.400000  \n",
       "Cartaya                            0.414634  \n",
       "Isla Cristina                      0.428571  \n",
       "Valverde del Camino                0.444444  \n",
       "Condado-Campiña                    0.449898  \n",
       "Huelva                             0.458870  \n",
       "Huelva-Costa                       0.482916  \n",
       "Villablanca                        0.500000  \n",
       "Galaroza                           0.500000  \n",
       "Huelva (capital)                   0.509025  \n",
       "Rociana del Condado                0.517241  \n",
       "Almonte                            0.529032  \n",
       "Palma del Condado (La)             0.533333  \n",
       "Aracena                            0.571429  \n",
       "Bollullos Par del Condado          0.578313  \n",
       "Palos de la Frontera               0.678571  \n",
       "Aljaraque                          0.722222  \n",
       "Niebla                             0.750000  \n",
       "Escacena del Campo                 0.750000  \n",
       "Nerva                              1.000000  \n",
       "Cabezas Rubias                     1.000000  \n",
       "Santa Ana la Real                  1.000000  \n",
       "Manzanilla                         1.000000  "
      ],
      "text/html": "<div>\n<style scoped>\n    .dataframe tbody tr th:only-of-type {\n        vertical-align: middle;\n    }\n\n    .dataframe tbody tr th {\n        vertical-align: top;\n    }\n\n    .dataframe thead th {\n        text-align: right;\n    }\n</style>\n<table border=\"1\" class=\"dataframe\">\n  <thead>\n    <tr style=\"text-align: right;\">\n      <th>Medida</th>\n      <th>Confirmados PDIA</th>\n      <th>Confirmados PDIA 7 días</th>\n      <th>Confirmados PDIA 14 días</th>\n      <th>Población</th>\n      <th>tasa7</th>\n      <th>tasa14</th>\n      <th>Diferencia PDIA</th>\n      <th>7/14</th>\n    </tr>\n    <tr>\n      <th>Lugar de residencia</th>\n      <th></th>\n      <th></th>\n      <th></th>\n      <th></th>\n      <th></th>\n      <th></th>\n      <th></th>\n      <th></th>\n    </tr>\n  </thead>\n  <tbody>\n    <tr>\n      <th>Lucena del Puerto</th>\n      <td>233.0</td>\n      <td>2.0</td>\n      <td>33.0</td>\n      <td>3261.0</td>\n      <td>61.330880</td>\n      <td>1011.959522</td>\n      <td>0.0</td>\n      <td>0.060606</td>\n    </tr>\n    <tr>\n      <th>Trigueros</th>\n      <td>268.0</td>\n      <td>1.0</td>\n      <td>10.0</td>\n      <td>7862.0</td>\n      <td>12.719410</td>\n      <td>127.194098</td>\n      <td>0.0</td>\n      <td>0.100000</td>\n    </tr>\n    <tr>\n      <th>Cortegana</th>\n      <td>200.0</td>\n      <td>1.0</td>\n      <td>6.0</td>\n      <td>4602.0</td>\n      <td>21.729683</td>\n      <td>130.378096</td>\n      <td>0.0</td>\n      <td>0.166667</td>\n    </tr>\n    <tr>\n      <th>Beas</th>\n      <td>201.0</td>\n      <td>3.0</td>\n      <td>17.0</td>\n      <td>4341.0</td>\n      <td>69.108500</td>\n      <td>391.614835</td>\n      <td>0.0</td>\n      <td>0.176471</td>\n    </tr>\n    <tr>\n      <th>Bonares</th>\n      <td>257.0</td>\n      <td>4.0</td>\n      <td>17.0</td>\n      <td>6060.0</td>\n      <td>66.006601</td>\n      <td>280.528053</td>\n      <td>1.0</td>\n      <td>0.235294</td>\n    </tr>\n    <tr>\n      <th>Rosal de la Frontera</th>\n      <td>29.0</td>\n      <td>1.0</td>\n      <td>4.0</td>\n      <td>1697.0</td>\n      <td>58.927519</td>\n      <td>235.710077</td>\n      <td>0.0</td>\n      <td>0.250000</td>\n    </tr>\n    <tr>\n      <th>San Juan del Puerto</th>\n      <td>454.0</td>\n      <td>7.0</td>\n      <td>22.0</td>\n      <td>9411.0</td>\n      <td>74.381043</td>\n      <td>233.768994</td>\n      <td>3.0</td>\n      <td>0.318182</td>\n    </tr>\n    <tr>\n      <th>Almonaster la Real</th>\n      <td>66.0</td>\n      <td>1.0</td>\n      <td>3.0</td>\n      <td>1788.0</td>\n      <td>55.928412</td>\n      <td>167.785235</td>\n      <td>0.0</td>\n      <td>0.333333</td>\n    </tr>\n    <tr>\n      <th>Minas de Riotinto</th>\n      <td>114.0</td>\n      <td>1.0</td>\n      <td>3.0</td>\n      <td>3812.0</td>\n      <td>26.232949</td>\n      <td>78.698846</td>\n      <td>0.0</td>\n      <td>0.333333</td>\n    </tr>\n    <tr>\n      <th>Cumbres de San Bartolomé</th>\n      <td>11.0</td>\n      <td>1.0</td>\n      <td>3.0</td>\n      <td>376.0</td>\n      <td>265.957447</td>\n      <td>797.872340</td>\n      <td>0.0</td>\n      <td>0.333333</td>\n    </tr>\n    <tr>\n      <th>Moguer</th>\n      <td>1116.0</td>\n      <td>19.0</td>\n      <td>57.0</td>\n      <td>21867.0</td>\n      <td>86.888919</td>\n      <td>260.666758</td>\n      <td>1.0</td>\n      <td>0.333333</td>\n    </tr>\n    <tr>\n      <th>Gibraleón</th>\n      <td>591.0</td>\n      <td>5.0</td>\n      <td>14.0</td>\n      <td>12737.0</td>\n      <td>39.255712</td>\n      <td>109.915993</td>\n      <td>2.0</td>\n      <td>0.357143</td>\n    </tr>\n    <tr>\n      <th>Punta Umbría</th>\n      <td>718.0</td>\n      <td>8.0</td>\n      <td>22.0</td>\n      <td>15355.0</td>\n      <td>52.100293</td>\n      <td>143.275806</td>\n      <td>1.0</td>\n      <td>0.363636</td>\n    </tr>\n    <tr>\n      <th>Ayamonte</th>\n      <td>1291.0</td>\n      <td>10.0</td>\n      <td>26.0</td>\n      <td>21104.0</td>\n      <td>47.384382</td>\n      <td>123.199393</td>\n      <td>0.0</td>\n      <td>0.384615</td>\n    </tr>\n    <tr>\n      <th>Sierra de Huelva-Andévalo Central</th>\n      <td>2570.0</td>\n      <td>28.0</td>\n      <td>71.0</td>\n      <td>67391.0</td>\n      <td>41.548575</td>\n      <td>105.355315</td>\n      <td>2.0</td>\n      <td>0.394366</td>\n    </tr>\n    <tr>\n      <th>Lepe</th>\n      <td>2084.0</td>\n      <td>6.0</td>\n      <td>15.0</td>\n      <td>27880.0</td>\n      <td>21.520803</td>\n      <td>53.802009</td>\n      <td>0.0</td>\n      <td>0.400000</td>\n    </tr>\n    <tr>\n      <th>Cartaya</th>\n      <td>1282.0</td>\n      <td>17.0</td>\n      <td>41.0</td>\n      <td>20083.0</td>\n      <td>84.648708</td>\n      <td>204.152766</td>\n      <td>0.0</td>\n      <td>0.414634</td>\n    </tr>\n    <tr>\n      <th>Isla Cristina</th>\n      <td>2075.0</td>\n      <td>15.0</td>\n      <td>35.0</td>\n      <td>21393.0</td>\n      <td>70.116393</td>\n      <td>163.604917</td>\n      <td>1.0</td>\n      <td>0.428571</td>\n    </tr>\n    <tr>\n      <th>Valverde del Camino</th>\n      <td>481.0</td>\n      <td>8.0</td>\n      <td>18.0</td>\n      <td>12750.0</td>\n      <td>62.745098</td>\n      <td>141.176471</td>\n      <td>0.0</td>\n      <td>0.444444</td>\n    </tr>\n    <tr>\n      <th>Condado-Campiña</th>\n      <td>9173.0</td>\n      <td>220.0</td>\n      <td>489.0</td>\n      <td>156231.0</td>\n      <td>140.817123</td>\n      <td>312.998061</td>\n      <td>43.0</td>\n      <td>0.449898</td>\n    </tr>\n    <tr>\n      <th>Huelva</th>\n      <td>28916.0</td>\n      <td>463.0</td>\n      <td>1009.0</td>\n      <td>513170.0</td>\n      <td>90.223513</td>\n      <td>196.621003</td>\n      <td>76.0</td>\n      <td>0.458870</td>\n    </tr>\n    <tr>\n      <th>Huelva-Costa</th>\n      <td>16830.0</td>\n      <td>212.0</td>\n      <td>439.0</td>\n      <td>289548.0</td>\n      <td>73.217567</td>\n      <td>151.615622</td>\n      <td>30.0</td>\n      <td>0.482916</td>\n    </tr>\n    <tr>\n      <th>Villablanca</th>\n      <td>181.0</td>\n      <td>1.0</td>\n      <td>2.0</td>\n      <td>2885.0</td>\n      <td>34.662045</td>\n      <td>69.324090</td>\n      <td>0.0</td>\n      <td>0.500000</td>\n    </tr>\n    <tr>\n      <th>Galaroza</th>\n      <td>30.0</td>\n      <td>3.0</td>\n      <td>6.0</td>\n      <td>1382.0</td>\n      <td>217.076700</td>\n      <td>434.153401</td>\n      <td>0.0</td>\n      <td>0.500000</td>\n    </tr>\n    <tr>\n      <th>Huelva (capital)</th>\n      <td>7525.0</td>\n      <td>141.0</td>\n      <td>277.0</td>\n      <td>143837.0</td>\n      <td>98.027628</td>\n      <td>192.579100</td>\n      <td>28.0</td>\n      <td>0.509025</td>\n    </tr>\n    <tr>\n      <th>Rociana del Condado</th>\n      <td>525.0</td>\n      <td>15.0</td>\n      <td>29.0</td>\n      <td>7939.0</td>\n      <td>188.940673</td>\n      <td>365.285300</td>\n      <td>7.0</td>\n      <td>0.517241</td>\n    </tr>\n    <tr>\n      <th>Almonte</th>\n      <td>1579.0</td>\n      <td>82.0</td>\n      <td>155.0</td>\n      <td>24507.0</td>\n      <td>334.598278</td>\n      <td>632.472355</td>\n      <td>15.0</td>\n      <td>0.529032</td>\n    </tr>\n    <tr>\n      <th>Palma del Condado (La)</th>\n      <td>1044.0</td>\n      <td>8.0</td>\n      <td>15.0</td>\n      <td>10801.0</td>\n      <td>74.067216</td>\n      <td>138.876030</td>\n      <td>5.0</td>\n      <td>0.533333</td>\n    </tr>\n    <tr>\n      <th>Aracena</th>\n      <td>513.0</td>\n      <td>4.0</td>\n      <td>7.0</td>\n      <td>8255.0</td>\n      <td>48.455482</td>\n      <td>84.797093</td>\n      <td>0.0</td>\n      <td>0.571429</td>\n    </tr>\n    <tr>\n      <th>Bollullos Par del Condado</th>\n      <td>856.0</td>\n      <td>48.0</td>\n      <td>83.0</td>\n      <td>14387.0</td>\n      <td>333.634531</td>\n      <td>576.909710</td>\n      <td>8.0</td>\n      <td>0.578313</td>\n    </tr>\n    <tr>\n      <th>Palos de la Frontera</th>\n      <td>597.0</td>\n      <td>19.0</td>\n      <td>28.0</td>\n      <td>11742.0</td>\n      <td>161.812298</td>\n      <td>238.460228</td>\n      <td>1.0</td>\n      <td>0.678571</td>\n    </tr>\n    <tr>\n      <th>Aljaraque</th>\n      <td>1009.0</td>\n      <td>13.0</td>\n      <td>18.0</td>\n      <td>21474.0</td>\n      <td>60.538325</td>\n      <td>83.822297</td>\n      <td>0.0</td>\n      <td>0.722222</td>\n    </tr>\n    <tr>\n      <th>Niebla</th>\n      <td>196.0</td>\n      <td>3.0</td>\n      <td>4.0</td>\n      <td>4116.0</td>\n      <td>72.886297</td>\n      <td>97.181730</td>\n      <td>0.0</td>\n      <td>0.750000</td>\n    </tr>\n    <tr>\n      <th>Escacena del Campo</th>\n      <td>147.0</td>\n      <td>3.0</td>\n      <td>4.0</td>\n      <td>2287.0</td>\n      <td>131.176213</td>\n      <td>174.901618</td>\n      <td>0.0</td>\n      <td>0.750000</td>\n    </tr>\n    <tr>\n      <th>Nerva</th>\n      <td>160.0</td>\n      <td>7.0</td>\n      <td>7.0</td>\n      <td>5169.0</td>\n      <td>135.422712</td>\n      <td>135.422712</td>\n      <td>2.0</td>\n      <td>1.000000</td>\n    </tr>\n    <tr>\n      <th>Cabezas Rubias</th>\n      <td>32.0</td>\n      <td>1.0</td>\n      <td>1.0</td>\n      <td>706.0</td>\n      <td>141.643059</td>\n      <td>141.643059</td>\n      <td>0.0</td>\n      <td>1.000000</td>\n    </tr>\n    <tr>\n      <th>Santa Ana la Real</th>\n      <td>10.0</td>\n      <td>1.0</td>\n      <td>1.0</td>\n      <td>475.0</td>\n      <td>210.526316</td>\n      <td>210.526316</td>\n      <td>0.0</td>\n      <td>1.000000</td>\n    </tr>\n    <tr>\n      <th>Manzanilla</th>\n      <td>85.0</td>\n      <td>1.0</td>\n      <td>1.0</td>\n      <td>2118.0</td>\n      <td>47.214353</td>\n      <td>47.214353</td>\n      <td>0.0</td>\n      <td>1.000000</td>\n    </tr>\n  </tbody>\n</table>\n</div>"
     },
     "metadata": {},
     "execution_count": 18
    }
   ],
   "source": [
    "# Peso de la tasa de la última semana en relación con la tasa a 14 días \n",
    "# Mejor cuanto menor. Valor 1 significa que no había casos antes de 7 días.\n",
    "tabla['7/14'] = tabla['tasa7'] / tabla['tasa14']\n",
    "tabla.fillna(0).sort_values('7/14', ascending=True)"
   ]
  },
  {
   "cell_type": "code",
   "execution_count": null,
   "metadata": {},
   "outputs": [],
   "source": []
  }
 ]
}