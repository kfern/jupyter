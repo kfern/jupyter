{
 "metadata": {
  "language_info": {
   "codemirror_mode": {
    "name": "ipython",
    "version": 3
   },
   "file_extension": ".py",
   "mimetype": "text/x-python",
   "name": "python",
   "nbconvert_exporter": "python",
   "pygments_lexer": "ipython3",
   "version": "3.6.9-final"
  },
  "orig_nbformat": 2,
  "kernelspec": {
   "name": "Python 3.6.9 64-bit",
   "display_name": "Python 3.6.9 64-bit",
   "metadata": {
    "interpreter": {
     "hash": "31f2aee4e71d21fbe5cf8b01ff0e069b9275f58929596ceb00d14d90e3e16cd6"
    }
   }
  }
 },
 "nbformat": 4,
 "nbformat_minor": 2,
 "cells": [
  {
   "cell_type": "code",
   "execution_count": 1,
   "metadata": {},
   "outputs": [],
   "source": [
    "import pandas as pd"
   ]
  },
  {
   "cell_type": "code",
   "execution_count": 2,
   "metadata": {},
   "outputs": [],
   "source": [
    "# FIX SSL: CERTIFICATE_VERIFY_FAILED with Python3\n",
    "# https://stackoverflow.com/a/49174340\n",
    "import ssl\n",
    "\n",
    "ssl._create_default_https_context = ssl._create_unverified_context"
   ]
  },
  {
   "cell_type": "code",
   "execution_count": 3,
   "metadata": {},
   "outputs": [],
   "source": [
    "url = 'https://www.juntadeandalucia.es/institutodeestadisticaycartografia/badea/stpivot/stpivot/Print?cube=013d884c-cfc5-4c21-9e78-e26225682afd&type=3&foto=si&ejecutaDesde=&codConsulta=38668&consTipoVisua=JP'\n",
    "fields = ['Lugar de residencia', 'Medida', 'Valor']\n",
    "df = pd.read_csv(url, delimiter=';', usecols=fields, decimal=',')"
   ]
  },
  {
   "cell_type": "code",
   "execution_count": 4,
   "metadata": {},
   "outputs": [
    {
     "output_type": "execute_result",
     "data": {
      "text/plain": [
       "                     Lugar de residencia                    Medida  \\\n",
       "0                                 Huelva                 Población   \n",
       "1                                 Huelva          Confirmados PDIA   \n",
       "2                                 Huelva  Confirmados PDIA 14 días   \n",
       "3                                 Huelva         Tasa PDIA 14 días   \n",
       "4                                 Huelva   Confirmados PDIA 7 días   \n",
       "..                                   ...                       ...   \n",
       "627  Municipio de Huelva sin especificar         Tasa PDIA 14 días   \n",
       "628  Municipio de Huelva sin especificar   Confirmados PDIA 7 días   \n",
       "629  Municipio de Huelva sin especificar        Total Confirmados    \n",
       "630  Municipio de Huelva sin especificar                   Curados   \n",
       "631  Municipio de Huelva sin especificar                Fallecidos   \n",
       "\n",
       "                  Valor  \n",
       "0                510743  \n",
       "1                  1769  \n",
       "2                   524  \n",
       "3    102,59563028763978  \n",
       "4                   251  \n",
       "..                  ...  \n",
       "627                   -  \n",
       "628                   9  \n",
       "629                  32  \n",
       "630                   1  \n",
       "631                   1  \n",
       "\n",
       "[632 rows x 3 columns]"
      ],
      "text/html": "<div>\n<style scoped>\n    .dataframe tbody tr th:only-of-type {\n        vertical-align: middle;\n    }\n\n    .dataframe tbody tr th {\n        vertical-align: top;\n    }\n\n    .dataframe thead th {\n        text-align: right;\n    }\n</style>\n<table border=\"1\" class=\"dataframe\">\n  <thead>\n    <tr style=\"text-align: right;\">\n      <th></th>\n      <th>Lugar de residencia</th>\n      <th>Medida</th>\n      <th>Valor</th>\n    </tr>\n  </thead>\n  <tbody>\n    <tr>\n      <th>0</th>\n      <td>Huelva</td>\n      <td>Población</td>\n      <td>510743</td>\n    </tr>\n    <tr>\n      <th>1</th>\n      <td>Huelva</td>\n      <td>Confirmados PDIA</td>\n      <td>1769</td>\n    </tr>\n    <tr>\n      <th>2</th>\n      <td>Huelva</td>\n      <td>Confirmados PDIA 14 días</td>\n      <td>524</td>\n    </tr>\n    <tr>\n      <th>3</th>\n      <td>Huelva</td>\n      <td>Tasa PDIA 14 días</td>\n      <td>102,59563028763978</td>\n    </tr>\n    <tr>\n      <th>4</th>\n      <td>Huelva</td>\n      <td>Confirmados PDIA 7 días</td>\n      <td>251</td>\n    </tr>\n    <tr>\n      <th>...</th>\n      <td>...</td>\n      <td>...</td>\n      <td>...</td>\n    </tr>\n    <tr>\n      <th>627</th>\n      <td>Municipio de Huelva sin especificar</td>\n      <td>Tasa PDIA 14 días</td>\n      <td>-</td>\n    </tr>\n    <tr>\n      <th>628</th>\n      <td>Municipio de Huelva sin especificar</td>\n      <td>Confirmados PDIA 7 días</td>\n      <td>9</td>\n    </tr>\n    <tr>\n      <th>629</th>\n      <td>Municipio de Huelva sin especificar</td>\n      <td>Total Confirmados</td>\n      <td>32</td>\n    </tr>\n    <tr>\n      <th>630</th>\n      <td>Municipio de Huelva sin especificar</td>\n      <td>Curados</td>\n      <td>1</td>\n    </tr>\n    <tr>\n      <th>631</th>\n      <td>Municipio de Huelva sin especificar</td>\n      <td>Fallecidos</td>\n      <td>1</td>\n    </tr>\n  </tbody>\n</table>\n<p>632 rows × 3 columns</p>\n</div>"
     },
     "metadata": {},
     "execution_count": 4
    }
   ],
   "source": [
    "df"
   ]
  },
  {
   "cell_type": "code",
   "execution_count": 5,
   "metadata": {},
   "outputs": [],
   "source": [
    "df['Valor'] = pd.to_numeric(df['Valor'],errors='coerce')"
   ]
  },
  {
   "cell_type": "code",
   "execution_count": 6,
   "metadata": {},
   "outputs": [],
   "source": [
    "dfAnterior = pd.read_csv('covid_huelva.csv', index_col='Lugar de residencia')"
   ]
  },
  {
   "cell_type": "code",
   "execution_count": 7,
   "metadata": {
    "tags": []
   },
   "outputs": [
    {
     "output_type": "stream",
     "name": "stdout",
     "text": [
      "Confirmados PCR en la provincia de Huelva:  1769.0\n"
     ]
    }
   ],
   "source": [
    "# Confirmados PCR provincia Huelva\n",
    "p = df[df['Lugar de residencia'] == 'Huelva'][df['Medida'] == 'Confirmados PDIA']['Valor'].values[0]\n",
    "print('Confirmados PCR en la provincia de Huelva: ', p)"
   ]
  },
  {
   "cell_type": "code",
   "execution_count": 8,
   "metadata": {
    "tags": []
   },
   "outputs": [
    {
     "output_type": "stream",
     "name": "stdout",
     "text": [
      "Confirmados PCR en Huelva capital:  432.0\n"
     ]
    }
   ],
   "source": [
    "# Confirmados PCR Huelva capitalpd\n",
    "c = df[df['Lugar de residencia'] == 'Huelva (capital)'][df['Medida'] == 'Confirmados PDIA']['Valor'].values[0]\n",
    "print('Confirmados PCR en Huelva capital: ', c)"
   ]
  },
  {
   "cell_type": "code",
   "execution_count": 9,
   "metadata": {
    "tags": []
   },
   "outputs": [],
   "source": [
    "c7 = df[df['Lugar de residencia'] == 'Huelva (capital)'][df['Medida'] == 'Confirmados PDIA 7 días']['Valor'].values[0]\n",
    "c14 = df[df['Lugar de residencia'] == 'Huelva (capital)'][df['Medida'] == 'Confirmados PDIA 14 días']['Valor'].values[0]\n",
    "p = df[df['Lugar de residencia'] == 'Huelva (capital)'][df['Medida'] == 'Población']['Valor'].values[0]"
   ]
  },
  {
   "cell_type": "code",
   "execution_count": 10,
   "metadata": {
    "tags": []
   },
   "outputs": [
    {
     "output_type": "stream",
     "name": "stdout",
     "text": [
      "Huelva (capital)\n\nUn positivo PCR cada 2113 personas en los últimos 7 días \n\nUn positivo PCR cada 1381 personas en los últimos 14 días\n"
     ]
    }
   ],
   "source": [
    "print('Huelva (capital)\\n')\n",
    "#print('Confirmados PCR 7 días x 1,000 habitantes: ', f\"{c7/(p/1000):.5f}\")\n",
    "print('Un positivo PCR cada', f\"{p/c7:.0f}\", 'personas en los últimos 7 días', '\\n')\n",
    "#print('Confirmados PCR 14 días x 1,000 habitantes: ', f\"{c14/(p/1000):.5f}\")\n",
    "print('Un positivo PCR cada', f\"{p/c14:.0f}\", 'personas en los últimos 14 días')"
   ]
  },
  {
   "cell_type": "code",
   "execution_count": 11,
   "metadata": {},
   "outputs": [],
   "source": [
    "filtro = ((df['Medida'] == 'Confirmados PDIA')| (df['Medida'] == 'Confirmados PDIA 7 días') | (df['Medida'] == 'Población' ) | (df['Medida'] == 'Confirmados PDIA 14 días')) & (df['Valor'] > 0)\n",
    "tabla = pd.pivot_table(df.loc[filtro], values='Valor', index='Lugar de residencia', columns='Medida').dropna()"
   ]
  },
  {
   "cell_type": "code",
   "execution_count": 12,
   "metadata": {},
   "outputs": [],
   "source": [
    "# Reorder columns\n",
    "tabla = tabla[['Confirmados PDIA', 'Confirmados PDIA 7 días', 'Confirmados PDIA 14 días', 'Población']]"
   ]
  },
  {
   "cell_type": "code",
   "execution_count": 13,
   "metadata": {},
   "outputs": [],
   "source": [
    "tabla['tasa7'] = tabla['Confirmados PDIA 7 días']/tabla['Población']*100000\n",
    "tabla['tasa14'] = tabla['Confirmados PDIA 14 días']/tabla['Población']*100000"
   ]
  },
  {
   "cell_type": "code",
   "execution_count": 14,
   "metadata": {},
   "outputs": [],
   "source": [
    "tabla['Diferencia PDIA'] = tabla['Confirmados PDIA'] - dfAnterior['Confirmados PDIA']"
   ]
  },
  {
   "cell_type": "code",
   "execution_count": 15,
   "metadata": {},
   "outputs": [
    {
     "output_type": "execute_result",
     "data": {
      "text/plain": [
       "Medida                             Confirmados PDIA  Confirmados PDIA 7 días  \\\n",
       "Lugar de residencia                                                            \n",
       "Huelva                                       1769.0                    251.0   \n",
       "Huelva-Costa                                  883.0                    116.0   \n",
       "Huelva (capital)                              432.0                     68.0   \n",
       "Condado-Campiña                               621.0                    105.0   \n",
       "Sierra de Huelva-Andévalo Central             233.0                     21.0   \n",
       "Villanueva de los Castillejos                  16.0                      9.0   \n",
       "Jabugo                                         11.0                      6.0   \n",
       "Aljaraque                                      75.0                      4.0   \n",
       "Almonte                                        60.0                      6.0   \n",
       "San Juan del Puerto                            66.0                     30.0   \n",
       "Palma del Condado (La)                         87.0                     16.0   \n",
       "Punta Umbría                                   37.0                      2.0   \n",
       "Lucena del Puerto                              14.0                      3.0   \n",
       "Niebla                                          6.0                      2.0   \n",
       "Moguer                                         50.0                      6.0   \n",
       "Lepe                                          132.0                     24.0   \n",
       "Isla Cristina                                  70.0                      3.0   \n",
       "Villarrasa                                     14.0                      6.0   \n",
       "Cabezas Rubias                                 10.0                      1.0   \n",
       "Campillo (El)                                  27.0                      1.0   \n",
       "Cortegana                                      12.0                      2.0   \n",
       "Zalamea la Real                                24.0                      3.0   \n",
       "\n",
       "Medida                             Confirmados PDIA 14 días  Población  \\\n",
       "Lugar de residencia                                                      \n",
       "Huelva                                                524.0   510743.0   \n",
       "Huelva-Costa                                          208.0   288115.0   \n",
       "Huelva (capital)                                      104.0   143663.0   \n",
       "Condado-Campiña                                       245.0   155057.0   \n",
       "Sierra de Huelva-Andévalo Central                      60.0    67571.0   \n",
       "Villanueva de los Castillejos                          14.0     2820.0   \n",
       "Jabugo                                                  7.0     2250.0   \n",
       "Aljaraque                                               8.0    21260.0   \n",
       "Almonte                                                 8.0    24191.0   \n",
       "San Juan del Puerto                                    45.0     9300.0   \n",
       "Palma del Condado (La)                                 49.0    10761.0   \n",
       "Punta Umbría                                            8.0    15242.0   \n",
       "Lucena del Puerto                                       9.0     3371.0   \n",
       "Niebla                                                  4.0     4117.0   \n",
       "Moguer                                                 17.0    22088.0   \n",
       "Lepe                                                   49.0    27431.0   \n",
       "Isla Cristina                                           8.0    21264.0   \n",
       "Villarrasa                                             10.0     2176.0   \n",
       "Cabezas Rubias                                          1.0      730.0   \n",
       "Campillo (El)                                          25.0     2023.0   \n",
       "Cortegana                                               3.0     4666.0   \n",
       "Zalamea la Real                                         4.0     3068.0   \n",
       "\n",
       "Medida                                  tasa7       tasa14  Diferencia PDIA  \n",
       "Lugar de residencia                                                          \n",
       "Huelva                              49.144090   102.595630             55.0  \n",
       "Huelva-Costa                        40.261701    72.193395             31.0  \n",
       "Huelva (capital)                    47.332995    72.391639             21.0  \n",
       "Condado-Campiña                     67.717033   158.006411              9.0  \n",
       "Sierra de Huelva-Andévalo Central   31.078421    88.795489              9.0  \n",
       "Villanueva de los Castillejos      319.148936   496.453901              4.0  \n",
       "Jabugo                             266.666667   311.111111              3.0  \n",
       "Aljaraque                           18.814675    37.629351              2.0  \n",
       "Almonte                             24.802613    33.070150              2.0  \n",
       "San Juan del Puerto                322.580645   483.870968              2.0  \n",
       "Palma del Condado (La)             148.685066   455.348016              1.0  \n",
       "Punta Umbría                        13.121638    52.486550              1.0  \n",
       "Lucena del Puerto                   88.994364   266.983091              1.0  \n",
       "Niebla                              48.579062    97.158125              1.0  \n",
       "Moguer                              27.164071    76.964868              1.0  \n",
       "Lepe                                87.492253   178.630017              1.0  \n",
       "Isla Cristina                       14.108352    37.622272              1.0  \n",
       "Villarrasa                         275.735294   459.558824              1.0  \n",
       "Cabezas Rubias                     136.986301   136.986301              NaN  \n",
       "Campillo (El)                       49.431537  1235.788433              NaN  \n",
       "Cortegana                           42.863266    64.294899              NaN  \n",
       "Zalamea la Real                     97.783572   130.378096              NaN  "
      ],
      "text/html": "<div>\n<style scoped>\n    .dataframe tbody tr th:only-of-type {\n        vertical-align: middle;\n    }\n\n    .dataframe tbody tr th {\n        vertical-align: top;\n    }\n\n    .dataframe thead th {\n        text-align: right;\n    }\n</style>\n<table border=\"1\" class=\"dataframe\">\n  <thead>\n    <tr style=\"text-align: right;\">\n      <th>Medida</th>\n      <th>Confirmados PDIA</th>\n      <th>Confirmados PDIA 7 días</th>\n      <th>Confirmados PDIA 14 días</th>\n      <th>Población</th>\n      <th>tasa7</th>\n      <th>tasa14</th>\n      <th>Diferencia PDIA</th>\n    </tr>\n    <tr>\n      <th>Lugar de residencia</th>\n      <th></th>\n      <th></th>\n      <th></th>\n      <th></th>\n      <th></th>\n      <th></th>\n      <th></th>\n    </tr>\n  </thead>\n  <tbody>\n    <tr>\n      <th>Huelva</th>\n      <td>1769.0</td>\n      <td>251.0</td>\n      <td>524.0</td>\n      <td>510743.0</td>\n      <td>49.144090</td>\n      <td>102.595630</td>\n      <td>55.0</td>\n    </tr>\n    <tr>\n      <th>Huelva-Costa</th>\n      <td>883.0</td>\n      <td>116.0</td>\n      <td>208.0</td>\n      <td>288115.0</td>\n      <td>40.261701</td>\n      <td>72.193395</td>\n      <td>31.0</td>\n    </tr>\n    <tr>\n      <th>Huelva (capital)</th>\n      <td>432.0</td>\n      <td>68.0</td>\n      <td>104.0</td>\n      <td>143663.0</td>\n      <td>47.332995</td>\n      <td>72.391639</td>\n      <td>21.0</td>\n    </tr>\n    <tr>\n      <th>Condado-Campiña</th>\n      <td>621.0</td>\n      <td>105.0</td>\n      <td>245.0</td>\n      <td>155057.0</td>\n      <td>67.717033</td>\n      <td>158.006411</td>\n      <td>9.0</td>\n    </tr>\n    <tr>\n      <th>Sierra de Huelva-Andévalo Central</th>\n      <td>233.0</td>\n      <td>21.0</td>\n      <td>60.0</td>\n      <td>67571.0</td>\n      <td>31.078421</td>\n      <td>88.795489</td>\n      <td>9.0</td>\n    </tr>\n    <tr>\n      <th>Villanueva de los Castillejos</th>\n      <td>16.0</td>\n      <td>9.0</td>\n      <td>14.0</td>\n      <td>2820.0</td>\n      <td>319.148936</td>\n      <td>496.453901</td>\n      <td>4.0</td>\n    </tr>\n    <tr>\n      <th>Jabugo</th>\n      <td>11.0</td>\n      <td>6.0</td>\n      <td>7.0</td>\n      <td>2250.0</td>\n      <td>266.666667</td>\n      <td>311.111111</td>\n      <td>3.0</td>\n    </tr>\n    <tr>\n      <th>Aljaraque</th>\n      <td>75.0</td>\n      <td>4.0</td>\n      <td>8.0</td>\n      <td>21260.0</td>\n      <td>18.814675</td>\n      <td>37.629351</td>\n      <td>2.0</td>\n    </tr>\n    <tr>\n      <th>Almonte</th>\n      <td>60.0</td>\n      <td>6.0</td>\n      <td>8.0</td>\n      <td>24191.0</td>\n      <td>24.802613</td>\n      <td>33.070150</td>\n      <td>2.0</td>\n    </tr>\n    <tr>\n      <th>San Juan del Puerto</th>\n      <td>66.0</td>\n      <td>30.0</td>\n      <td>45.0</td>\n      <td>9300.0</td>\n      <td>322.580645</td>\n      <td>483.870968</td>\n      <td>2.0</td>\n    </tr>\n    <tr>\n      <th>Palma del Condado (La)</th>\n      <td>87.0</td>\n      <td>16.0</td>\n      <td>49.0</td>\n      <td>10761.0</td>\n      <td>148.685066</td>\n      <td>455.348016</td>\n      <td>1.0</td>\n    </tr>\n    <tr>\n      <th>Punta Umbría</th>\n      <td>37.0</td>\n      <td>2.0</td>\n      <td>8.0</td>\n      <td>15242.0</td>\n      <td>13.121638</td>\n      <td>52.486550</td>\n      <td>1.0</td>\n    </tr>\n    <tr>\n      <th>Lucena del Puerto</th>\n      <td>14.0</td>\n      <td>3.0</td>\n      <td>9.0</td>\n      <td>3371.0</td>\n      <td>88.994364</td>\n      <td>266.983091</td>\n      <td>1.0</td>\n    </tr>\n    <tr>\n      <th>Niebla</th>\n      <td>6.0</td>\n      <td>2.0</td>\n      <td>4.0</td>\n      <td>4117.0</td>\n      <td>48.579062</td>\n      <td>97.158125</td>\n      <td>1.0</td>\n    </tr>\n    <tr>\n      <th>Moguer</th>\n      <td>50.0</td>\n      <td>6.0</td>\n      <td>17.0</td>\n      <td>22088.0</td>\n      <td>27.164071</td>\n      <td>76.964868</td>\n      <td>1.0</td>\n    </tr>\n    <tr>\n      <th>Lepe</th>\n      <td>132.0</td>\n      <td>24.0</td>\n      <td>49.0</td>\n      <td>27431.0</td>\n      <td>87.492253</td>\n      <td>178.630017</td>\n      <td>1.0</td>\n    </tr>\n    <tr>\n      <th>Isla Cristina</th>\n      <td>70.0</td>\n      <td>3.0</td>\n      <td>8.0</td>\n      <td>21264.0</td>\n      <td>14.108352</td>\n      <td>37.622272</td>\n      <td>1.0</td>\n    </tr>\n    <tr>\n      <th>Villarrasa</th>\n      <td>14.0</td>\n      <td>6.0</td>\n      <td>10.0</td>\n      <td>2176.0</td>\n      <td>275.735294</td>\n      <td>459.558824</td>\n      <td>1.0</td>\n    </tr>\n    <tr>\n      <th>Cabezas Rubias</th>\n      <td>10.0</td>\n      <td>1.0</td>\n      <td>1.0</td>\n      <td>730.0</td>\n      <td>136.986301</td>\n      <td>136.986301</td>\n      <td>NaN</td>\n    </tr>\n    <tr>\n      <th>Campillo (El)</th>\n      <td>27.0</td>\n      <td>1.0</td>\n      <td>25.0</td>\n      <td>2023.0</td>\n      <td>49.431537</td>\n      <td>1235.788433</td>\n      <td>NaN</td>\n    </tr>\n    <tr>\n      <th>Cortegana</th>\n      <td>12.0</td>\n      <td>2.0</td>\n      <td>3.0</td>\n      <td>4666.0</td>\n      <td>42.863266</td>\n      <td>64.294899</td>\n      <td>NaN</td>\n    </tr>\n    <tr>\n      <th>Zalamea la Real</th>\n      <td>24.0</td>\n      <td>3.0</td>\n      <td>4.0</td>\n      <td>3068.0</td>\n      <td>97.783572</td>\n      <td>130.378096</td>\n      <td>NaN</td>\n    </tr>\n  </tbody>\n</table>\n</div>"
     },
     "metadata": {},
     "execution_count": 15
    }
   ],
   "source": [
    "# Nuevos casos desde la última captura\n",
    "tabla[tabla['Diferencia PDIA'] != 0].sort_values('Diferencia PDIA', ascending=False)"
   ]
  },
  {
   "cell_type": "code",
   "execution_count": 16,
   "metadata": {},
   "outputs": [],
   "source": [
    "if tabla[tabla['Diferencia PDIA'] != 0]['Diferencia PDIA'].sum() > 0:\n",
    "  # Save to csv\n",
    "  tabla.to_csv('covid_huelva.csv', encoding='utf-8', header=True, index=True)  "
   ]
  },
  {
   "cell_type": "code",
   "execution_count": 17,
   "metadata": {},
   "outputs": [
    {
     "output_type": "execute_result",
     "data": {
      "text/plain": [
       "Medida                             Confirmados PDIA  Confirmados PDIA 7 días  \\\n",
       "Lugar de residencia                                                            \n",
       "Campillo (El)                                  27.0                      1.0   \n",
       "Manzanilla                                     19.0                      3.0   \n",
       "Villanueva de los Castillejos                  16.0                      9.0   \n",
       "San Juan del Puerto                            66.0                     30.0   \n",
       "Villarrasa                                     14.0                      6.0   \n",
       "Palma del Condado (La)                         87.0                     16.0   \n",
       "Bollullos Par del Condado                     106.0                     18.0   \n",
       "Jabugo                                         11.0                      6.0   \n",
       "Lucena del Puerto                              14.0                      3.0   \n",
       "Lepe                                          132.0                     24.0   \n",
       "Villablanca                                     7.0                      2.0   \n",
       "Condado-Campiña                               621.0                    105.0   \n",
       "Paterna del Campo                              12.0                      1.0   \n",
       "Cabezas Rubias                                 10.0                      1.0   \n",
       "Zalamea la Real                                24.0                      3.0   \n",
       "Gibraleón                                      32.0                      6.0   \n",
       "Huelva                                       1769.0                    251.0   \n",
       "Niebla                                          6.0                      2.0   \n",
       "Sierra de Huelva-Andévalo Central             233.0                     21.0   \n",
       "Higuera de la Sierra                            3.0                      1.0   \n",
       "Moguer                                         50.0                      6.0   \n",
       "Aracena                                        53.0                      4.0   \n",
       "Huelva (capital)                              432.0                     68.0   \n",
       "Huelva-Costa                                  883.0                    116.0   \n",
       "Bonares                                         8.0                      3.0   \n",
       "Aroche                                         10.0                      1.0   \n",
       "Cortegana                                      12.0                      2.0   \n",
       "San Bartolomé de la Torre                       4.0                      1.0   \n",
       "Punta Umbría                                   37.0                      2.0   \n",
       "Minas de Riotinto                              18.0                      1.0   \n",
       "Rociana del Condado                            10.0                      1.0   \n",
       "Escacena del Campo                             16.0                      1.0   \n",
       "Aljaraque                                      75.0                      4.0   \n",
       "Isla Cristina                                  70.0                      3.0   \n",
       "Almonte                                        60.0                      6.0   \n",
       "Palos de la Frontera                           29.0                      1.0   \n",
       "Beas                                            8.0                      1.0   \n",
       "Valverde del Camino                            29.0                      1.0   \n",
       "Cartaya                                        27.0                      2.0   \n",
       "Nerva                                          24.0                      1.0   \n",
       "Ayamonte                                       51.0                      1.0   \n",
       "\n",
       "Medida                             Confirmados PDIA 14 días  Población  \\\n",
       "Lugar de residencia                                                      \n",
       "Campillo (El)                                          25.0     2023.0   \n",
       "Manzanilla                                             14.0     2135.0   \n",
       "Villanueva de los Castillejos                          14.0     2820.0   \n",
       "San Juan del Puerto                                    45.0     9300.0   \n",
       "Villarrasa                                             10.0     2176.0   \n",
       "Palma del Condado (La)                                 49.0    10761.0   \n",
       "Bollullos Par del Condado                              49.0    14272.0   \n",
       "Jabugo                                                  7.0     2250.0   \n",
       "Lucena del Puerto                                       9.0     3371.0   \n",
       "Lepe                                                   49.0    27431.0   \n",
       "Villablanca                                             5.0     2848.0   \n",
       "Condado-Campiña                                       245.0   155057.0   \n",
       "Paterna del Campo                                       5.0     3509.0   \n",
       "Cabezas Rubias                                          1.0      730.0   \n",
       "Zalamea la Real                                         4.0     3068.0   \n",
       "Gibraleón                                              16.0    12607.0   \n",
       "Huelva                                                524.0   510743.0   \n",
       "Niebla                                                  4.0     4117.0   \n",
       "Sierra de Huelva-Andévalo Central                      60.0    67571.0   \n",
       "Higuera de la Sierra                                    1.0     1287.0   \n",
       "Moguer                                                 17.0    22088.0   \n",
       "Aracena                                                 6.0     8107.0   \n",
       "Huelva (capital)                                      104.0   143663.0   \n",
       "Huelva-Costa                                          208.0   288115.0   \n",
       "Bonares                                                 4.0     6058.0   \n",
       "Aroche                                                  2.0     3073.0   \n",
       "Cortegana                                               3.0     4666.0   \n",
       "San Bartolomé de la Torre                               2.0     3736.0   \n",
       "Punta Umbría                                            8.0    15242.0   \n",
       "Minas de Riotinto                                       2.0     3848.0   \n",
       "Rociana del Condado                                     4.0     7855.0   \n",
       "Escacena del Campo                                      1.0     2284.0   \n",
       "Aljaraque                                               8.0    21260.0   \n",
       "Isla Cristina                                           8.0    21264.0   \n",
       "Almonte                                                 8.0    24191.0   \n",
       "Palos de la Frontera                                    3.0    11289.0   \n",
       "Beas                                                    1.0     4257.0   \n",
       "Valverde del Camino                                     3.0    12820.0   \n",
       "Cartaya                                                 4.0    19974.0   \n",
       "Nerva                                                   1.0     5235.0   \n",
       "Ayamonte                                                4.0    20946.0   \n",
       "\n",
       "Medida                                  tasa7       tasa14  Diferencia PDIA  \n",
       "Lugar de residencia                                                          \n",
       "Campillo (El)                       49.431537  1235.788433              NaN  \n",
       "Manzanilla                         140.515222   655.737705              0.0  \n",
       "Villanueva de los Castillejos      319.148936   496.453901              4.0  \n",
       "San Juan del Puerto                322.580645   483.870968              2.0  \n",
       "Villarrasa                         275.735294   459.558824              1.0  \n",
       "Palma del Condado (La)             148.685066   455.348016              1.0  \n",
       "Bollullos Par del Condado          126.121076   343.329596              0.0  \n",
       "Jabugo                             266.666667   311.111111              3.0  \n",
       "Lucena del Puerto                   88.994364   266.983091              1.0  \n",
       "Lepe                                87.492253   178.630017              1.0  \n",
       "Villablanca                         70.224719   175.561798              0.0  \n",
       "Condado-Campiña                     67.717033   158.006411              9.0  \n",
       "Paterna del Campo                   28.498148   142.490738              0.0  \n",
       "Cabezas Rubias                     136.986301   136.986301              NaN  \n",
       "Zalamea la Real                     97.783572   130.378096              NaN  \n",
       "Gibraleón                           47.592607   126.913619              0.0  \n",
       "Huelva                              49.144090   102.595630             55.0  \n",
       "Niebla                              48.579062    97.158125              1.0  \n",
       "Sierra de Huelva-Andévalo Central   31.078421    88.795489              9.0  \n",
       "Higuera de la Sierra                77.700078    77.700078              0.0  \n",
       "Moguer                              27.164071    76.964868              1.0  \n",
       "Aracena                             49.340076    74.010115              0.0  \n",
       "Huelva (capital)                    47.332995    72.391639             21.0  \n",
       "Huelva-Costa                        40.261701    72.193395             31.0  \n",
       "Bonares                             49.521294    66.028392              0.0  \n",
       "Aroche                              32.541490    65.082981              0.0  \n",
       "Cortegana                           42.863266    64.294899              NaN  \n",
       "San Bartolomé de la Torre           26.766595    53.533191              0.0  \n",
       "Punta Umbría                        13.121638    52.486550              1.0  \n",
       "Minas de Riotinto                   25.987526    51.975052              0.0  \n",
       "Rociana del Condado                 12.730745    50.922979              0.0  \n",
       "Escacena del Campo                  43.782837    43.782837              0.0  \n",
       "Aljaraque                           18.814675    37.629351              2.0  \n",
       "Isla Cristina                       14.108352    37.622272              1.0  \n",
       "Almonte                             24.802613    33.070150              2.0  \n",
       "Palos de la Frontera                 8.858181    26.574542              0.0  \n",
       "Beas                                23.490721    23.490721              0.0  \n",
       "Valverde del Camino                  7.800312    23.400936              0.0  \n",
       "Cartaya                             10.013017    20.026034              0.0  \n",
       "Nerva                               19.102197    19.102197              0.0  \n",
       "Ayamonte                             4.774181    19.096725              0.0  "
      ],
      "text/html": "<div>\n<style scoped>\n    .dataframe tbody tr th:only-of-type {\n        vertical-align: middle;\n    }\n\n    .dataframe tbody tr th {\n        vertical-align: top;\n    }\n\n    .dataframe thead th {\n        text-align: right;\n    }\n</style>\n<table border=\"1\" class=\"dataframe\">\n  <thead>\n    <tr style=\"text-align: right;\">\n      <th>Medida</th>\n      <th>Confirmados PDIA</th>\n      <th>Confirmados PDIA 7 días</th>\n      <th>Confirmados PDIA 14 días</th>\n      <th>Población</th>\n      <th>tasa7</th>\n      <th>tasa14</th>\n      <th>Diferencia PDIA</th>\n    </tr>\n    <tr>\n      <th>Lugar de residencia</th>\n      <th></th>\n      <th></th>\n      <th></th>\n      <th></th>\n      <th></th>\n      <th></th>\n      <th></th>\n    </tr>\n  </thead>\n  <tbody>\n    <tr>\n      <th>Campillo (El)</th>\n      <td>27.0</td>\n      <td>1.0</td>\n      <td>25.0</td>\n      <td>2023.0</td>\n      <td>49.431537</td>\n      <td>1235.788433</td>\n      <td>NaN</td>\n    </tr>\n    <tr>\n      <th>Manzanilla</th>\n      <td>19.0</td>\n      <td>3.0</td>\n      <td>14.0</td>\n      <td>2135.0</td>\n      <td>140.515222</td>\n      <td>655.737705</td>\n      <td>0.0</td>\n    </tr>\n    <tr>\n      <th>Villanueva de los Castillejos</th>\n      <td>16.0</td>\n      <td>9.0</td>\n      <td>14.0</td>\n      <td>2820.0</td>\n      <td>319.148936</td>\n      <td>496.453901</td>\n      <td>4.0</td>\n    </tr>\n    <tr>\n      <th>San Juan del Puerto</th>\n      <td>66.0</td>\n      <td>30.0</td>\n      <td>45.0</td>\n      <td>9300.0</td>\n      <td>322.580645</td>\n      <td>483.870968</td>\n      <td>2.0</td>\n    </tr>\n    <tr>\n      <th>Villarrasa</th>\n      <td>14.0</td>\n      <td>6.0</td>\n      <td>10.0</td>\n      <td>2176.0</td>\n      <td>275.735294</td>\n      <td>459.558824</td>\n      <td>1.0</td>\n    </tr>\n    <tr>\n      <th>Palma del Condado (La)</th>\n      <td>87.0</td>\n      <td>16.0</td>\n      <td>49.0</td>\n      <td>10761.0</td>\n      <td>148.685066</td>\n      <td>455.348016</td>\n      <td>1.0</td>\n    </tr>\n    <tr>\n      <th>Bollullos Par del Condado</th>\n      <td>106.0</td>\n      <td>18.0</td>\n      <td>49.0</td>\n      <td>14272.0</td>\n      <td>126.121076</td>\n      <td>343.329596</td>\n      <td>0.0</td>\n    </tr>\n    <tr>\n      <th>Jabugo</th>\n      <td>11.0</td>\n      <td>6.0</td>\n      <td>7.0</td>\n      <td>2250.0</td>\n      <td>266.666667</td>\n      <td>311.111111</td>\n      <td>3.0</td>\n    </tr>\n    <tr>\n      <th>Lucena del Puerto</th>\n      <td>14.0</td>\n      <td>3.0</td>\n      <td>9.0</td>\n      <td>3371.0</td>\n      <td>88.994364</td>\n      <td>266.983091</td>\n      <td>1.0</td>\n    </tr>\n    <tr>\n      <th>Lepe</th>\n      <td>132.0</td>\n      <td>24.0</td>\n      <td>49.0</td>\n      <td>27431.0</td>\n      <td>87.492253</td>\n      <td>178.630017</td>\n      <td>1.0</td>\n    </tr>\n    <tr>\n      <th>Villablanca</th>\n      <td>7.0</td>\n      <td>2.0</td>\n      <td>5.0</td>\n      <td>2848.0</td>\n      <td>70.224719</td>\n      <td>175.561798</td>\n      <td>0.0</td>\n    </tr>\n    <tr>\n      <th>Condado-Campiña</th>\n      <td>621.0</td>\n      <td>105.0</td>\n      <td>245.0</td>\n      <td>155057.0</td>\n      <td>67.717033</td>\n      <td>158.006411</td>\n      <td>9.0</td>\n    </tr>\n    <tr>\n      <th>Paterna del Campo</th>\n      <td>12.0</td>\n      <td>1.0</td>\n      <td>5.0</td>\n      <td>3509.0</td>\n      <td>28.498148</td>\n      <td>142.490738</td>\n      <td>0.0</td>\n    </tr>\n    <tr>\n      <th>Cabezas Rubias</th>\n      <td>10.0</td>\n      <td>1.0</td>\n      <td>1.0</td>\n      <td>730.0</td>\n      <td>136.986301</td>\n      <td>136.986301</td>\n      <td>NaN</td>\n    </tr>\n    <tr>\n      <th>Zalamea la Real</th>\n      <td>24.0</td>\n      <td>3.0</td>\n      <td>4.0</td>\n      <td>3068.0</td>\n      <td>97.783572</td>\n      <td>130.378096</td>\n      <td>NaN</td>\n    </tr>\n    <tr>\n      <th>Gibraleón</th>\n      <td>32.0</td>\n      <td>6.0</td>\n      <td>16.0</td>\n      <td>12607.0</td>\n      <td>47.592607</td>\n      <td>126.913619</td>\n      <td>0.0</td>\n    </tr>\n    <tr>\n      <th>Huelva</th>\n      <td>1769.0</td>\n      <td>251.0</td>\n      <td>524.0</td>\n      <td>510743.0</td>\n      <td>49.144090</td>\n      <td>102.595630</td>\n      <td>55.0</td>\n    </tr>\n    <tr>\n      <th>Niebla</th>\n      <td>6.0</td>\n      <td>2.0</td>\n      <td>4.0</td>\n      <td>4117.0</td>\n      <td>48.579062</td>\n      <td>97.158125</td>\n      <td>1.0</td>\n    </tr>\n    <tr>\n      <th>Sierra de Huelva-Andévalo Central</th>\n      <td>233.0</td>\n      <td>21.0</td>\n      <td>60.0</td>\n      <td>67571.0</td>\n      <td>31.078421</td>\n      <td>88.795489</td>\n      <td>9.0</td>\n    </tr>\n    <tr>\n      <th>Higuera de la Sierra</th>\n      <td>3.0</td>\n      <td>1.0</td>\n      <td>1.0</td>\n      <td>1287.0</td>\n      <td>77.700078</td>\n      <td>77.700078</td>\n      <td>0.0</td>\n    </tr>\n    <tr>\n      <th>Moguer</th>\n      <td>50.0</td>\n      <td>6.0</td>\n      <td>17.0</td>\n      <td>22088.0</td>\n      <td>27.164071</td>\n      <td>76.964868</td>\n      <td>1.0</td>\n    </tr>\n    <tr>\n      <th>Aracena</th>\n      <td>53.0</td>\n      <td>4.0</td>\n      <td>6.0</td>\n      <td>8107.0</td>\n      <td>49.340076</td>\n      <td>74.010115</td>\n      <td>0.0</td>\n    </tr>\n    <tr>\n      <th>Huelva (capital)</th>\n      <td>432.0</td>\n      <td>68.0</td>\n      <td>104.0</td>\n      <td>143663.0</td>\n      <td>47.332995</td>\n      <td>72.391639</td>\n      <td>21.0</td>\n    </tr>\n    <tr>\n      <th>Huelva-Costa</th>\n      <td>883.0</td>\n      <td>116.0</td>\n      <td>208.0</td>\n      <td>288115.0</td>\n      <td>40.261701</td>\n      <td>72.193395</td>\n      <td>31.0</td>\n    </tr>\n    <tr>\n      <th>Bonares</th>\n      <td>8.0</td>\n      <td>3.0</td>\n      <td>4.0</td>\n      <td>6058.0</td>\n      <td>49.521294</td>\n      <td>66.028392</td>\n      <td>0.0</td>\n    </tr>\n    <tr>\n      <th>Aroche</th>\n      <td>10.0</td>\n      <td>1.0</td>\n      <td>2.0</td>\n      <td>3073.0</td>\n      <td>32.541490</td>\n      <td>65.082981</td>\n      <td>0.0</td>\n    </tr>\n    <tr>\n      <th>Cortegana</th>\n      <td>12.0</td>\n      <td>2.0</td>\n      <td>3.0</td>\n      <td>4666.0</td>\n      <td>42.863266</td>\n      <td>64.294899</td>\n      <td>NaN</td>\n    </tr>\n    <tr>\n      <th>San Bartolomé de la Torre</th>\n      <td>4.0</td>\n      <td>1.0</td>\n      <td>2.0</td>\n      <td>3736.0</td>\n      <td>26.766595</td>\n      <td>53.533191</td>\n      <td>0.0</td>\n    </tr>\n    <tr>\n      <th>Punta Umbría</th>\n      <td>37.0</td>\n      <td>2.0</td>\n      <td>8.0</td>\n      <td>15242.0</td>\n      <td>13.121638</td>\n      <td>52.486550</td>\n      <td>1.0</td>\n    </tr>\n    <tr>\n      <th>Minas de Riotinto</th>\n      <td>18.0</td>\n      <td>1.0</td>\n      <td>2.0</td>\n      <td>3848.0</td>\n      <td>25.987526</td>\n      <td>51.975052</td>\n      <td>0.0</td>\n    </tr>\n    <tr>\n      <th>Rociana del Condado</th>\n      <td>10.0</td>\n      <td>1.0</td>\n      <td>4.0</td>\n      <td>7855.0</td>\n      <td>12.730745</td>\n      <td>50.922979</td>\n      <td>0.0</td>\n    </tr>\n    <tr>\n      <th>Escacena del Campo</th>\n      <td>16.0</td>\n      <td>1.0</td>\n      <td>1.0</td>\n      <td>2284.0</td>\n      <td>43.782837</td>\n      <td>43.782837</td>\n      <td>0.0</td>\n    </tr>\n    <tr>\n      <th>Aljaraque</th>\n      <td>75.0</td>\n      <td>4.0</td>\n      <td>8.0</td>\n      <td>21260.0</td>\n      <td>18.814675</td>\n      <td>37.629351</td>\n      <td>2.0</td>\n    </tr>\n    <tr>\n      <th>Isla Cristina</th>\n      <td>70.0</td>\n      <td>3.0</td>\n      <td>8.0</td>\n      <td>21264.0</td>\n      <td>14.108352</td>\n      <td>37.622272</td>\n      <td>1.0</td>\n    </tr>\n    <tr>\n      <th>Almonte</th>\n      <td>60.0</td>\n      <td>6.0</td>\n      <td>8.0</td>\n      <td>24191.0</td>\n      <td>24.802613</td>\n      <td>33.070150</td>\n      <td>2.0</td>\n    </tr>\n    <tr>\n      <th>Palos de la Frontera</th>\n      <td>29.0</td>\n      <td>1.0</td>\n      <td>3.0</td>\n      <td>11289.0</td>\n      <td>8.858181</td>\n      <td>26.574542</td>\n      <td>0.0</td>\n    </tr>\n    <tr>\n      <th>Beas</th>\n      <td>8.0</td>\n      <td>1.0</td>\n      <td>1.0</td>\n      <td>4257.0</td>\n      <td>23.490721</td>\n      <td>23.490721</td>\n      <td>0.0</td>\n    </tr>\n    <tr>\n      <th>Valverde del Camino</th>\n      <td>29.0</td>\n      <td>1.0</td>\n      <td>3.0</td>\n      <td>12820.0</td>\n      <td>7.800312</td>\n      <td>23.400936</td>\n      <td>0.0</td>\n    </tr>\n    <tr>\n      <th>Cartaya</th>\n      <td>27.0</td>\n      <td>2.0</td>\n      <td>4.0</td>\n      <td>19974.0</td>\n      <td>10.013017</td>\n      <td>20.026034</td>\n      <td>0.0</td>\n    </tr>\n    <tr>\n      <th>Nerva</th>\n      <td>24.0</td>\n      <td>1.0</td>\n      <td>1.0</td>\n      <td>5235.0</td>\n      <td>19.102197</td>\n      <td>19.102197</td>\n      <td>0.0</td>\n    </tr>\n    <tr>\n      <th>Ayamonte</th>\n      <td>51.0</td>\n      <td>1.0</td>\n      <td>4.0</td>\n      <td>20946.0</td>\n      <td>4.774181</td>\n      <td>19.096725</td>\n      <td>0.0</td>\n    </tr>\n  </tbody>\n</table>\n</div>"
     },
     "metadata": {},
     "execution_count": 17
    }
   ],
   "source": [
    "tabla.sort_values('tasa14', ascending=False)"
   ]
  },
  {
   "cell_type": "code",
   "execution_count": null,
   "metadata": {},
   "outputs": [],
   "source": []
  }
 ]
}