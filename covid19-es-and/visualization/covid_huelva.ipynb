{
 "metadata": {
  "language_info": {
   "codemirror_mode": {
    "name": "ipython",
    "version": 3
   },
   "file_extension": ".py",
   "mimetype": "text/x-python",
   "name": "python",
   "nbconvert_exporter": "python",
   "pygments_lexer": "ipython3",
   "version": "3.8.6"
  },
  "orig_nbformat": 2,
  "kernelspec": {
   "name": "python3",
   "display_name": "Python 3.8.6 64-bit"
  },
  "interpreter": {
   "hash": "31f2aee4e71d21fbe5cf8b01ff0e069b9275f58929596ceb00d14d90e3e16cd6"
  }
 },
 "nbformat": 4,
 "nbformat_minor": 2,
 "cells": [
  {
   "cell_type": "code",
   "execution_count": 1,
   "metadata": {},
   "outputs": [],
   "source": [
    "import pandas as pd\n",
    "pd.set_option('display.max_rows', None) # Print all rows"
   ]
  },
  {
   "cell_type": "code",
   "execution_count": 2,
   "metadata": {},
   "outputs": [],
   "source": [
    "# FIX SSL: CERTIFICATE_VERIFY_FAILED with Python3\n",
    "# https://stackoverflow.com/a/49174340\n",
    "import ssl\n",
    "\n",
    "ssl._create_default_https_context = ssl._create_unverified_context"
   ]
  },
  {
   "cell_type": "code",
   "execution_count": 3,
   "metadata": {},
   "outputs": [],
   "source": [
    "url = 'https://www.juntadeandalucia.es/institutodeestadisticaycartografia/badea/stpivot/stpivot/Print?cube=013d884c-cfc5-4c21-9e78-e26225682afd&type=3&foto=si&ejecutaDesde=&codConsulta=38668&consTipoVisua=JP'\n",
    "fields = ['Lugar de residencia', 'Medida', 'Valor']\n",
    "df = pd.read_csv(url, delimiter=';', usecols=fields, decimal=',')"
   ]
  },
  {
   "cell_type": "code",
   "execution_count": 4,
   "metadata": {},
   "outputs": [
    {
     "output_type": "execute_result",
     "data": {
      "text/plain": [
       "  Lugar de residencia                    Medida               Valor\n",
       "0              Huelva                 Población              513170\n",
       "1              Huelva          Confirmados PDIA               32482\n",
       "2              Huelva  Confirmados PDIA 14 días                1487\n",
       "3              Huelva         Tasa PDIA 14 días  289,76752343278054\n",
       "4              Huelva   Confirmados PDIA 7 días                 652\n",
       "5              Huelva        Total Confirmados                32663\n",
       "6              Huelva                   Curados               30170\n",
       "7              Huelva                Fallecidos                 386"
      ],
      "text/html": "<div>\n<style scoped>\n    .dataframe tbody tr th:only-of-type {\n        vertical-align: middle;\n    }\n\n    .dataframe tbody tr th {\n        vertical-align: top;\n    }\n\n    .dataframe thead th {\n        text-align: right;\n    }\n</style>\n<table border=\"1\" class=\"dataframe\">\n  <thead>\n    <tr style=\"text-align: right;\">\n      <th></th>\n      <th>Lugar de residencia</th>\n      <th>Medida</th>\n      <th>Valor</th>\n    </tr>\n  </thead>\n  <tbody>\n    <tr>\n      <th>0</th>\n      <td>Huelva</td>\n      <td>Población</td>\n      <td>513170</td>\n    </tr>\n    <tr>\n      <th>1</th>\n      <td>Huelva</td>\n      <td>Confirmados PDIA</td>\n      <td>32482</td>\n    </tr>\n    <tr>\n      <th>2</th>\n      <td>Huelva</td>\n      <td>Confirmados PDIA 14 días</td>\n      <td>1487</td>\n    </tr>\n    <tr>\n      <th>3</th>\n      <td>Huelva</td>\n      <td>Tasa PDIA 14 días</td>\n      <td>289,76752343278054</td>\n    </tr>\n    <tr>\n      <th>4</th>\n      <td>Huelva</td>\n      <td>Confirmados PDIA 7 días</td>\n      <td>652</td>\n    </tr>\n    <tr>\n      <th>5</th>\n      <td>Huelva</td>\n      <td>Total Confirmados</td>\n      <td>32663</td>\n    </tr>\n    <tr>\n      <th>6</th>\n      <td>Huelva</td>\n      <td>Curados</td>\n      <td>30170</td>\n    </tr>\n    <tr>\n      <th>7</th>\n      <td>Huelva</td>\n      <td>Fallecidos</td>\n      <td>386</td>\n    </tr>\n  </tbody>\n</table>\n</div>"
     },
     "metadata": {},
     "execution_count": 4
    }
   ],
   "source": [
    "df[df['Lugar de residencia'] == 'Huelva']"
   ]
  },
  {
   "cell_type": "code",
   "execution_count": 5,
   "metadata": {},
   "outputs": [],
   "source": [
    "df['Valor'] = pd.to_numeric(df['Valor'],errors='coerce')"
   ]
  },
  {
   "cell_type": "code",
   "execution_count": 6,
   "metadata": {},
   "outputs": [],
   "source": [
    "dfAnterior = pd.read_csv('covid_huelva.csv', index_col='Lugar de residencia')"
   ]
  },
  {
   "cell_type": "code",
   "execution_count": 7,
   "metadata": {
    "tags": []
   },
   "outputs": [
    {
     "output_type": "stream",
     "name": "stdout",
     "text": [
      "Confirmados PCR en la provincia de Huelva:  32482.0\n",
      "<ipython-input-7-31b732756b19>:2: UserWarning: Boolean Series key will be reindexed to match DataFrame index.\n",
      "  p = df[df['Lugar de residencia'] == 'Huelva'][df['Medida'] == 'Confirmados PDIA']['Valor'].values[0]\n"
     ]
    }
   ],
   "source": [
    "# Confirmados PCR provincia Huelva\n",
    "p = df[df['Lugar de residencia'] == 'Huelva'][df['Medida'] == 'Confirmados PDIA']['Valor'].values[0]\n",
    "print('Confirmados PCR en la provincia de Huelva: ', p)"
   ]
  },
  {
   "cell_type": "code",
   "execution_count": 8,
   "metadata": {
    "tags": []
   },
   "outputs": [
    {
     "output_type": "stream",
     "name": "stdout",
     "text": [
      "Confirmados PCR en Huelva capital:  8829.0\n",
      "<ipython-input-8-e81bfb40e710>:2: UserWarning: Boolean Series key will be reindexed to match DataFrame index.\n",
      "  c = df[df['Lugar de residencia'] == 'Huelva (capital)'][df['Medida'] == 'Confirmados PDIA']['Valor'].values[0]\n"
     ]
    }
   ],
   "source": [
    "# Confirmados PCR Huelva capitalpd\n",
    "c = df[df['Lugar de residencia'] == 'Huelva (capital)'][df['Medida'] == 'Confirmados PDIA']['Valor'].values[0]\n",
    "print('Confirmados PCR en Huelva capital: ', c)"
   ]
  },
  {
   "cell_type": "code",
   "execution_count": 9,
   "metadata": {
    "tags": []
   },
   "outputs": [
    {
     "output_type": "stream",
     "name": "stderr",
     "text": [
      "<ipython-input-9-f09dd2050cc1>:1: UserWarning: Boolean Series key will be reindexed to match DataFrame index.\n  c7 = df[df['Lugar de residencia'] == 'Huelva (capital)'][df['Medida'] == 'Confirmados PDIA 7 días']['Valor'].values[0]\n<ipython-input-9-f09dd2050cc1>:2: UserWarning: Boolean Series key will be reindexed to match DataFrame index.\n  c14 = df[df['Lugar de residencia'] == 'Huelva (capital)'][df['Medida'] == 'Confirmados PDIA 14 días']['Valor'].values[0]\n<ipython-input-9-f09dd2050cc1>:3: UserWarning: Boolean Series key will be reindexed to match DataFrame index.\n  p = df[df['Lugar de residencia'] == 'Huelva (capital)'][df['Medida'] == 'Población']['Valor'].values[0]\n"
     ]
    }
   ],
   "source": [
    "c7 = df[df['Lugar de residencia'] == 'Huelva (capital)'][df['Medida'] == 'Confirmados PDIA 7 días']['Valor'].values[0]\n",
    "c14 = df[df['Lugar de residencia'] == 'Huelva (capital)'][df['Medida'] == 'Confirmados PDIA 14 días']['Valor'].values[0]\n",
    "p = df[df['Lugar de residencia'] == 'Huelva (capital)'][df['Medida'] == 'Población']['Valor'].values[0]"
   ]
  },
  {
   "cell_type": "code",
   "execution_count": 10,
   "metadata": {
    "tags": []
   },
   "outputs": [
    {
     "output_type": "stream",
     "name": "stdout",
     "text": [
      "Huelva (capital)\n\nUn positivo PCR cada 470 personas en los últimos 7 días \n\nUn positivo PCR cada 227 personas en los últimos 14 días\n"
     ]
    }
   ],
   "source": [
    "print('Huelva (capital)\\n')\n",
    "#print('Confirmados PCR 7 días x 1,000 habitantes: ', f\"{c7/(p/1000):.5f}\")\n",
    "print('Un positivo PCR cada', f\"{p/c7:.0f}\", 'personas en los últimos 7 días', '\\n')\n",
    "#print('Confirmados PCR 14 días x 1,000 habitantes: ', f\"{c14/(p/1000):.5f}\")\n",
    "print('Un positivo PCR cada', f\"{p/c14:.0f}\", 'personas en los últimos 14 días')"
   ]
  },
  {
   "cell_type": "code",
   "execution_count": 11,
   "metadata": {},
   "outputs": [],
   "source": [
    "filtro = ((df['Medida'] == 'Confirmados PDIA')| (df['Medida'] == 'Confirmados PDIA 7 días') | (df['Medida'] == 'Población' ) | (df['Medida'] == 'Confirmados PDIA 14 días')) & (df['Valor'] > 0)\n",
    "tabla = pd.pivot_table(df.loc[filtro], values='Valor', index='Lugar de residencia', columns='Medida').dropna()"
   ]
  },
  {
   "cell_type": "code",
   "execution_count": 12,
   "metadata": {},
   "outputs": [],
   "source": [
    "# Reorder columns\n",
    "tabla = tabla[['Confirmados PDIA', 'Confirmados PDIA 7 días', 'Confirmados PDIA 14 días', 'Población']]"
   ]
  },
  {
   "cell_type": "code",
   "execution_count": 13,
   "metadata": {},
   "outputs": [],
   "source": [
    "tabla['tasa7'] = tabla['Confirmados PDIA 7 días']/tabla['Población']*100000\n",
    "tabla['tasa14'] = tabla['Confirmados PDIA 14 días']/tabla['Población']*100000"
   ]
  },
  {
   "cell_type": "code",
   "execution_count": 14,
   "metadata": {},
   "outputs": [],
   "source": [
    "tabla['Diferencia PDIA'] = tabla['Confirmados PDIA'] - dfAnterior['Confirmados PDIA']"
   ]
  },
  {
   "cell_type": "code",
   "execution_count": 15,
   "metadata": {},
   "outputs": [
    {
     "output_type": "execute_result",
     "data": {
      "text/plain": [
       "Medida                             Confirmados PDIA  Confirmados PDIA 7 días  \\\n",
       "Lugar de residencia                                                            \n",
       "Huelva                                      32482.0                    652.0   \n",
       "Huelva-Costa                                18731.0                    424.0   \n",
       "Huelva (capital)                             8829.0                    306.0   \n",
       "Condado-Campiña                             10532.0                    177.0   \n",
       "Sierra de Huelva-Andévalo Central            2868.0                     50.0   \n",
       "San Juan del Puerto                           550.0                     27.0   \n",
       "Moguer                                       1348.0                     38.0   \n",
       "Bollullos Par del Condado                    1015.0                     16.0   \n",
       "Palma del Condado (La)                       1174.0                     11.0   \n",
       "Valverde del Camino                           627.0                     27.0   \n",
       "Alosno                                        179.0                     11.0   \n",
       "Puebla de Guzmán                              132.0                     12.0   \n",
       "Palos de la Frontera                          696.0                     15.0   \n",
       "Niebla                                        247.0                      8.0   \n",
       "Isla Cristina                                2164.0                     13.0   \n",
       "Cartaya                                      1363.0                     12.0   \n",
       "Aljaraque                                    1150.0                     29.0   \n",
       "Ayamonte                                     1328.0                      7.0   \n",
       "Almonte                                      1864.0                     18.0   \n",
       "Lepe                                         2149.0                     14.0   \n",
       "Punta Umbría                                  840.0                     14.0   \n",
       "Aracena                                       537.0                      7.0   \n",
       "Gibraleón                                     641.0                      9.0   \n",
       "Calañas                                       195.0                      4.0   \n",
       "Bonares                                       288.0                      8.0   \n",
       "San Bartolomé de la Torre                     304.0                      4.0   \n",
       "Trigueros                                     324.0                      7.0   \n",
       "Beas                                          215.0                      4.0   \n",
       "Cortelazor                                     13.0                      5.0   \n",
       "Manzanilla                                    103.0                      1.0   \n",
       "Rociana del Condado                           559.0                      2.0   \n",
       "Rosal de la Frontera                           31.0                      2.0   \n",
       "Lucena del Puerto                             260.0                      5.0   \n",
       "Almendro (El)                                  38.0                      2.0   \n",
       "Almonaster la Real                             67.0                      1.0   \n",
       "Alájar                                         18.0                      1.0   \n",
       "Minas de Riotinto                             128.0                      1.0   \n",
       "Nerva                                         179.0                      1.0   \n",
       "Villablanca                                   189.0                      2.0   \n",
       "\n",
       "Medida                             Confirmados PDIA 14 días  Población  \\\n",
       "Lugar de residencia                                                      \n",
       "Huelva                                               1487.0   513170.0   \n",
       "Huelva-Costa                                          874.0   289548.0   \n",
       "Huelva (capital)                                      635.0   143837.0   \n",
       "Condado-Campiña                                       464.0   156231.0   \n",
       "Sierra de Huelva-Andévalo Central                     144.0    67391.0   \n",
       "San Juan del Puerto                                    56.0     9411.0   \n",
       "Moguer                                                 78.0    21867.0   \n",
       "Bollullos Par del Condado                              43.0    14387.0   \n",
       "Palma del Condado (La)                                 31.0    10801.0   \n",
       "Valverde del Camino                                    74.0    12750.0   \n",
       "Alosno                                                 13.0     3933.0   \n",
       "Puebla de Guzmán                                       19.0     3092.0   \n",
       "Palos de la Frontera                                   54.0    11742.0   \n",
       "Niebla                                                 16.0     4116.0   \n",
       "Isla Cristina                                          20.0    21393.0   \n",
       "Cartaya                                                35.0    20083.0   \n",
       "Aljaraque                                              73.0    21474.0   \n",
       "Ayamonte                                               12.0    21104.0   \n",
       "Almonte                                                71.0    24507.0   \n",
       "Lepe                                                   22.0    27880.0   \n",
       "Punta Umbría                                           36.0    15355.0   \n",
       "Aracena                                                14.0     8255.0   \n",
       "Gibraleón                                              19.0    12737.0   \n",
       "Calañas                                                 6.0     2768.0   \n",
       "Bonares                                                18.0     6060.0   \n",
       "San Bartolomé de la Torre                              10.0     3761.0   \n",
       "Trigueros                                              24.0     7862.0   \n",
       "Beas                                                    5.0     4341.0   \n",
       "Cortelazor                                              5.0      299.0   \n",
       "Manzanilla                                              5.0     2118.0   \n",
       "Rociana del Condado                                    12.0     7939.0   \n",
       "Rosal de la Frontera                                    2.0     1697.0   \n",
       "Lucena del Puerto                                       8.0     3261.0   \n",
       "Almendro (El)                                           2.0      840.0   \n",
       "Almonaster la Real                                      1.0     1788.0   \n",
       "Alájar                                                  1.0      759.0   \n",
       "Minas de Riotinto                                      10.0     3812.0   \n",
       "Nerva                                                   3.0     5169.0   \n",
       "Villablanca                                             2.0     2885.0   \n",
       "\n",
       "Medida                                   tasa7       tasa14  Diferencia PDIA  \n",
       "Lugar de residencia                                                           \n",
       "Huelva                              127.053413   289.767523            276.0  \n",
       "Huelva-Costa                        146.435133   301.849780            179.0  \n",
       "Huelva (capital)                    212.740811   441.471944            130.0  \n",
       "Condado-Campiña                     113.293777   296.996115             77.0  \n",
       "Sierra de Huelva-Andévalo Central    74.193883   213.678384             19.0  \n",
       "San Juan del Puerto                 286.898310   595.048348             16.0  \n",
       "Moguer                              173.777839   356.701880             12.0  \n",
       "Bollullos Par del Condado           111.211510   298.880934             10.0  \n",
       "Palma del Condado (La)              101.842422   287.010462              8.0  \n",
       "Valverde del Camino                 211.764706   580.392157              7.0  \n",
       "Alosno                              279.684719   330.536486              7.0  \n",
       "Puebla de Guzmán                    388.098318   614.489004              7.0  \n",
       "Palos de la Frontera                127.746551   459.887583              6.0  \n",
       "Niebla                              194.363460   388.726919              6.0  \n",
       "Isla Cristina                        60.767541    93.488524              6.0  \n",
       "Cartaya                              59.752029   174.276751              6.0  \n",
       "Aljaraque                           135.047034   339.945981              5.0  \n",
       "Ayamonte                             33.169067    56.861259              5.0  \n",
       "Almonte                              73.448402   289.713143              5.0  \n",
       "Lepe                                 50.215208    78.909613              5.0  \n",
       "Punta Umbría                         91.175513   234.451319              5.0  \n",
       "Aracena                              84.797093   169.594185              3.0  \n",
       "Gibraleón                            70.660281   149.171704              3.0  \n",
       "Calañas                             144.508671   216.763006              3.0  \n",
       "Bonares                             132.013201   297.029703              2.0  \n",
       "San Bartolomé de la Torre           106.354693   265.886732              2.0  \n",
       "Trigueros                            89.035869   305.265836              2.0  \n",
       "Beas                                 92.144667   115.180834              2.0  \n",
       "Cortelazor                         1672.240803  1672.240803              1.0  \n",
       "Manzanilla                           47.214353   236.071766              1.0  \n",
       "Rociana del Condado                  25.192090   151.152538              1.0  \n",
       "Rosal de la Frontera                117.855038   117.855038              1.0  \n",
       "Lucena del Puerto                   153.327200   245.323520              1.0  \n",
       "Almendro (El)                       238.095238   238.095238              1.0  \n",
       "Almonaster la Real                   55.928412    55.928412              NaN  \n",
       "Alájar                              131.752306   131.752306              NaN  \n",
       "Minas de Riotinto                    26.232949   262.329486              NaN  \n",
       "Nerva                                19.346102    58.038305              NaN  \n",
       "Villablanca                          69.324090    69.324090              NaN  "
      ],
      "text/html": "<div>\n<style scoped>\n    .dataframe tbody tr th:only-of-type {\n        vertical-align: middle;\n    }\n\n    .dataframe tbody tr th {\n        vertical-align: top;\n    }\n\n    .dataframe thead th {\n        text-align: right;\n    }\n</style>\n<table border=\"1\" class=\"dataframe\">\n  <thead>\n    <tr style=\"text-align: right;\">\n      <th>Medida</th>\n      <th>Confirmados PDIA</th>\n      <th>Confirmados PDIA 7 días</th>\n      <th>Confirmados PDIA 14 días</th>\n      <th>Población</th>\n      <th>tasa7</th>\n      <th>tasa14</th>\n      <th>Diferencia PDIA</th>\n    </tr>\n    <tr>\n      <th>Lugar de residencia</th>\n      <th></th>\n      <th></th>\n      <th></th>\n      <th></th>\n      <th></th>\n      <th></th>\n      <th></th>\n    </tr>\n  </thead>\n  <tbody>\n    <tr>\n      <th>Huelva</th>\n      <td>32482.0</td>\n      <td>652.0</td>\n      <td>1487.0</td>\n      <td>513170.0</td>\n      <td>127.053413</td>\n      <td>289.767523</td>\n      <td>276.0</td>\n    </tr>\n    <tr>\n      <th>Huelva-Costa</th>\n      <td>18731.0</td>\n      <td>424.0</td>\n      <td>874.0</td>\n      <td>289548.0</td>\n      <td>146.435133</td>\n      <td>301.849780</td>\n      <td>179.0</td>\n    </tr>\n    <tr>\n      <th>Huelva (capital)</th>\n      <td>8829.0</td>\n      <td>306.0</td>\n      <td>635.0</td>\n      <td>143837.0</td>\n      <td>212.740811</td>\n      <td>441.471944</td>\n      <td>130.0</td>\n    </tr>\n    <tr>\n      <th>Condado-Campiña</th>\n      <td>10532.0</td>\n      <td>177.0</td>\n      <td>464.0</td>\n      <td>156231.0</td>\n      <td>113.293777</td>\n      <td>296.996115</td>\n      <td>77.0</td>\n    </tr>\n    <tr>\n      <th>Sierra de Huelva-Andévalo Central</th>\n      <td>2868.0</td>\n      <td>50.0</td>\n      <td>144.0</td>\n      <td>67391.0</td>\n      <td>74.193883</td>\n      <td>213.678384</td>\n      <td>19.0</td>\n    </tr>\n    <tr>\n      <th>San Juan del Puerto</th>\n      <td>550.0</td>\n      <td>27.0</td>\n      <td>56.0</td>\n      <td>9411.0</td>\n      <td>286.898310</td>\n      <td>595.048348</td>\n      <td>16.0</td>\n    </tr>\n    <tr>\n      <th>Moguer</th>\n      <td>1348.0</td>\n      <td>38.0</td>\n      <td>78.0</td>\n      <td>21867.0</td>\n      <td>173.777839</td>\n      <td>356.701880</td>\n      <td>12.0</td>\n    </tr>\n    <tr>\n      <th>Bollullos Par del Condado</th>\n      <td>1015.0</td>\n      <td>16.0</td>\n      <td>43.0</td>\n      <td>14387.0</td>\n      <td>111.211510</td>\n      <td>298.880934</td>\n      <td>10.0</td>\n    </tr>\n    <tr>\n      <th>Palma del Condado (La)</th>\n      <td>1174.0</td>\n      <td>11.0</td>\n      <td>31.0</td>\n      <td>10801.0</td>\n      <td>101.842422</td>\n      <td>287.010462</td>\n      <td>8.0</td>\n    </tr>\n    <tr>\n      <th>Valverde del Camino</th>\n      <td>627.0</td>\n      <td>27.0</td>\n      <td>74.0</td>\n      <td>12750.0</td>\n      <td>211.764706</td>\n      <td>580.392157</td>\n      <td>7.0</td>\n    </tr>\n    <tr>\n      <th>Alosno</th>\n      <td>179.0</td>\n      <td>11.0</td>\n      <td>13.0</td>\n      <td>3933.0</td>\n      <td>279.684719</td>\n      <td>330.536486</td>\n      <td>7.0</td>\n    </tr>\n    <tr>\n      <th>Puebla de Guzmán</th>\n      <td>132.0</td>\n      <td>12.0</td>\n      <td>19.0</td>\n      <td>3092.0</td>\n      <td>388.098318</td>\n      <td>614.489004</td>\n      <td>7.0</td>\n    </tr>\n    <tr>\n      <th>Palos de la Frontera</th>\n      <td>696.0</td>\n      <td>15.0</td>\n      <td>54.0</td>\n      <td>11742.0</td>\n      <td>127.746551</td>\n      <td>459.887583</td>\n      <td>6.0</td>\n    </tr>\n    <tr>\n      <th>Niebla</th>\n      <td>247.0</td>\n      <td>8.0</td>\n      <td>16.0</td>\n      <td>4116.0</td>\n      <td>194.363460</td>\n      <td>388.726919</td>\n      <td>6.0</td>\n    </tr>\n    <tr>\n      <th>Isla Cristina</th>\n      <td>2164.0</td>\n      <td>13.0</td>\n      <td>20.0</td>\n      <td>21393.0</td>\n      <td>60.767541</td>\n      <td>93.488524</td>\n      <td>6.0</td>\n    </tr>\n    <tr>\n      <th>Cartaya</th>\n      <td>1363.0</td>\n      <td>12.0</td>\n      <td>35.0</td>\n      <td>20083.0</td>\n      <td>59.752029</td>\n      <td>174.276751</td>\n      <td>6.0</td>\n    </tr>\n    <tr>\n      <th>Aljaraque</th>\n      <td>1150.0</td>\n      <td>29.0</td>\n      <td>73.0</td>\n      <td>21474.0</td>\n      <td>135.047034</td>\n      <td>339.945981</td>\n      <td>5.0</td>\n    </tr>\n    <tr>\n      <th>Ayamonte</th>\n      <td>1328.0</td>\n      <td>7.0</td>\n      <td>12.0</td>\n      <td>21104.0</td>\n      <td>33.169067</td>\n      <td>56.861259</td>\n      <td>5.0</td>\n    </tr>\n    <tr>\n      <th>Almonte</th>\n      <td>1864.0</td>\n      <td>18.0</td>\n      <td>71.0</td>\n      <td>24507.0</td>\n      <td>73.448402</td>\n      <td>289.713143</td>\n      <td>5.0</td>\n    </tr>\n    <tr>\n      <th>Lepe</th>\n      <td>2149.0</td>\n      <td>14.0</td>\n      <td>22.0</td>\n      <td>27880.0</td>\n      <td>50.215208</td>\n      <td>78.909613</td>\n      <td>5.0</td>\n    </tr>\n    <tr>\n      <th>Punta Umbría</th>\n      <td>840.0</td>\n      <td>14.0</td>\n      <td>36.0</td>\n      <td>15355.0</td>\n      <td>91.175513</td>\n      <td>234.451319</td>\n      <td>5.0</td>\n    </tr>\n    <tr>\n      <th>Aracena</th>\n      <td>537.0</td>\n      <td>7.0</td>\n      <td>14.0</td>\n      <td>8255.0</td>\n      <td>84.797093</td>\n      <td>169.594185</td>\n      <td>3.0</td>\n    </tr>\n    <tr>\n      <th>Gibraleón</th>\n      <td>641.0</td>\n      <td>9.0</td>\n      <td>19.0</td>\n      <td>12737.0</td>\n      <td>70.660281</td>\n      <td>149.171704</td>\n      <td>3.0</td>\n    </tr>\n    <tr>\n      <th>Calañas</th>\n      <td>195.0</td>\n      <td>4.0</td>\n      <td>6.0</td>\n      <td>2768.0</td>\n      <td>144.508671</td>\n      <td>216.763006</td>\n      <td>3.0</td>\n    </tr>\n    <tr>\n      <th>Bonares</th>\n      <td>288.0</td>\n      <td>8.0</td>\n      <td>18.0</td>\n      <td>6060.0</td>\n      <td>132.013201</td>\n      <td>297.029703</td>\n      <td>2.0</td>\n    </tr>\n    <tr>\n      <th>San Bartolomé de la Torre</th>\n      <td>304.0</td>\n      <td>4.0</td>\n      <td>10.0</td>\n      <td>3761.0</td>\n      <td>106.354693</td>\n      <td>265.886732</td>\n      <td>2.0</td>\n    </tr>\n    <tr>\n      <th>Trigueros</th>\n      <td>324.0</td>\n      <td>7.0</td>\n      <td>24.0</td>\n      <td>7862.0</td>\n      <td>89.035869</td>\n      <td>305.265836</td>\n      <td>2.0</td>\n    </tr>\n    <tr>\n      <th>Beas</th>\n      <td>215.0</td>\n      <td>4.0</td>\n      <td>5.0</td>\n      <td>4341.0</td>\n      <td>92.144667</td>\n      <td>115.180834</td>\n      <td>2.0</td>\n    </tr>\n    <tr>\n      <th>Cortelazor</th>\n      <td>13.0</td>\n      <td>5.0</td>\n      <td>5.0</td>\n      <td>299.0</td>\n      <td>1672.240803</td>\n      <td>1672.240803</td>\n      <td>1.0</td>\n    </tr>\n    <tr>\n      <th>Manzanilla</th>\n      <td>103.0</td>\n      <td>1.0</td>\n      <td>5.0</td>\n      <td>2118.0</td>\n      <td>47.214353</td>\n      <td>236.071766</td>\n      <td>1.0</td>\n    </tr>\n    <tr>\n      <th>Rociana del Condado</th>\n      <td>559.0</td>\n      <td>2.0</td>\n      <td>12.0</td>\n      <td>7939.0</td>\n      <td>25.192090</td>\n      <td>151.152538</td>\n      <td>1.0</td>\n    </tr>\n    <tr>\n      <th>Rosal de la Frontera</th>\n      <td>31.0</td>\n      <td>2.0</td>\n      <td>2.0</td>\n      <td>1697.0</td>\n      <td>117.855038</td>\n      <td>117.855038</td>\n      <td>1.0</td>\n    </tr>\n    <tr>\n      <th>Lucena del Puerto</th>\n      <td>260.0</td>\n      <td>5.0</td>\n      <td>8.0</td>\n      <td>3261.0</td>\n      <td>153.327200</td>\n      <td>245.323520</td>\n      <td>1.0</td>\n    </tr>\n    <tr>\n      <th>Almendro (El)</th>\n      <td>38.0</td>\n      <td>2.0</td>\n      <td>2.0</td>\n      <td>840.0</td>\n      <td>238.095238</td>\n      <td>238.095238</td>\n      <td>1.0</td>\n    </tr>\n    <tr>\n      <th>Almonaster la Real</th>\n      <td>67.0</td>\n      <td>1.0</td>\n      <td>1.0</td>\n      <td>1788.0</td>\n      <td>55.928412</td>\n      <td>55.928412</td>\n      <td>NaN</td>\n    </tr>\n    <tr>\n      <th>Alájar</th>\n      <td>18.0</td>\n      <td>1.0</td>\n      <td>1.0</td>\n      <td>759.0</td>\n      <td>131.752306</td>\n      <td>131.752306</td>\n      <td>NaN</td>\n    </tr>\n    <tr>\n      <th>Minas de Riotinto</th>\n      <td>128.0</td>\n      <td>1.0</td>\n      <td>10.0</td>\n      <td>3812.0</td>\n      <td>26.232949</td>\n      <td>262.329486</td>\n      <td>NaN</td>\n    </tr>\n    <tr>\n      <th>Nerva</th>\n      <td>179.0</td>\n      <td>1.0</td>\n      <td>3.0</td>\n      <td>5169.0</td>\n      <td>19.346102</td>\n      <td>58.038305</td>\n      <td>NaN</td>\n    </tr>\n    <tr>\n      <th>Villablanca</th>\n      <td>189.0</td>\n      <td>2.0</td>\n      <td>2.0</td>\n      <td>2885.0</td>\n      <td>69.324090</td>\n      <td>69.324090</td>\n      <td>NaN</td>\n    </tr>\n  </tbody>\n</table>\n</div>"
     },
     "metadata": {},
     "execution_count": 15
    }
   ],
   "source": [
    "# Nuevos casos desde la última captura\n",
    "tabla[tabla['Diferencia PDIA'] != 0].sort_values('Diferencia PDIA', ascending=False)"
   ]
  },
  {
   "cell_type": "code",
   "execution_count": 16,
   "metadata": {},
   "outputs": [],
   "source": [
    "if tabla[tabla['Diferencia PDIA'] != 0]['Diferencia PDIA'].sum() != 0:\n",
    "  # Save to csv\n",
    "  tabla.to_csv('covid_huelva.csv', encoding='utf-8', header=True, index=True)  "
   ]
  },
  {
   "cell_type": "code",
   "execution_count": 17,
   "metadata": {},
   "outputs": [
    {
     "output_type": "execute_result",
     "data": {
      "text/plain": [
       "Medida                             Confirmados PDIA  Confirmados PDIA 7 días  \\\n",
       "Lugar de residencia                                                            \n",
       "Cortelazor                                     13.0                      5.0   \n",
       "Puebla de Guzmán                              132.0                     12.0   \n",
       "San Juan del Puerto                           550.0                     27.0   \n",
       "Villarrasa                                    180.0                      3.0   \n",
       "Valverde del Camino                           627.0                     27.0   \n",
       "Palos de la Frontera                          696.0                     15.0   \n",
       "Huelva (capital)                             8829.0                    306.0   \n",
       "Niebla                                        247.0                      8.0   \n",
       "Moguer                                       1348.0                     38.0   \n",
       "Aljaraque                                    1150.0                     29.0   \n",
       "Alosno                                        179.0                     11.0   \n",
       "Trigueros                                     324.0                      7.0   \n",
       "Huelva-Costa                                18731.0                    424.0   \n",
       "Bollullos Par del Condado                    1015.0                     16.0   \n",
       "Bonares                                       288.0                      8.0   \n",
       "Condado-Campiña                             10532.0                    177.0   \n",
       "Huelva                                      32482.0                    652.0   \n",
       "Almonte                                      1864.0                     18.0   \n",
       "Palma del Condado (La)                       1174.0                     11.0   \n",
       "San Bartolomé de la Torre                     304.0                      4.0   \n",
       "Minas de Riotinto                             128.0                      1.0   \n",
       "Lucena del Puerto                             260.0                      5.0   \n",
       "Almendro (El)                                  38.0                      2.0   \n",
       "Manzanilla                                    103.0                      1.0   \n",
       "Punta Umbría                                  840.0                     14.0   \n",
       "Calañas                                       195.0                      4.0   \n",
       "Sierra de Huelva-Andévalo Central            2868.0                     50.0   \n",
       "Villanueva de los Castillejos                 164.0                      2.0   \n",
       "Cartaya                                      1363.0                     12.0   \n",
       "Aracena                                       537.0                      7.0   \n",
       "Rociana del Condado                           559.0                      2.0   \n",
       "Gibraleón                                     641.0                      9.0   \n",
       "Alájar                                         18.0                      1.0   \n",
       "Rosal de la Frontera                           31.0                      2.0   \n",
       "Beas                                          215.0                      4.0   \n",
       "Isla Cristina                                2164.0                     13.0   \n",
       "Lepe                                         2149.0                     14.0   \n",
       "Villablanca                                   189.0                      2.0   \n",
       "Nerva                                         179.0                      1.0   \n",
       "Ayamonte                                     1328.0                      7.0   \n",
       "Almonaster la Real                             67.0                      1.0   \n",
       "Jabugo                                         65.0                      1.0   \n",
       "Paterna del Campo                             129.0                      1.0   \n",
       "\n",
       "Medida                             Confirmados PDIA 14 días  Población  \\\n",
       "Lugar de residencia                                                      \n",
       "Cortelazor                                              5.0      299.0   \n",
       "Puebla de Guzmán                                       19.0     3092.0   \n",
       "San Juan del Puerto                                    56.0     9411.0   \n",
       "Villarrasa                                             13.0     2211.0   \n",
       "Valverde del Camino                                    74.0    12750.0   \n",
       "Palos de la Frontera                                   54.0    11742.0   \n",
       "Huelva (capital)                                      635.0   143837.0   \n",
       "Niebla                                                 16.0     4116.0   \n",
       "Moguer                                                 78.0    21867.0   \n",
       "Aljaraque                                              73.0    21474.0   \n",
       "Alosno                                                 13.0     3933.0   \n",
       "Trigueros                                              24.0     7862.0   \n",
       "Huelva-Costa                                          874.0   289548.0   \n",
       "Bollullos Par del Condado                              43.0    14387.0   \n",
       "Bonares                                                18.0     6060.0   \n",
       "Condado-Campiña                                       464.0   156231.0   \n",
       "Huelva                                               1487.0   513170.0   \n",
       "Almonte                                                71.0    24507.0   \n",
       "Palma del Condado (La)                                 31.0    10801.0   \n",
       "San Bartolomé de la Torre                              10.0     3761.0   \n",
       "Minas de Riotinto                                      10.0     3812.0   \n",
       "Lucena del Puerto                                       8.0     3261.0   \n",
       "Almendro (El)                                           2.0      840.0   \n",
       "Manzanilla                                              5.0     2118.0   \n",
       "Punta Umbría                                           36.0    15355.0   \n",
       "Calañas                                                 6.0     2768.0   \n",
       "Sierra de Huelva-Andévalo Central                     144.0    67391.0   \n",
       "Villanueva de los Castillejos                           5.0     2825.0   \n",
       "Cartaya                                                35.0    20083.0   \n",
       "Aracena                                                14.0     8255.0   \n",
       "Rociana del Condado                                    12.0     7939.0   \n",
       "Gibraleón                                              19.0    12737.0   \n",
       "Alájar                                                  1.0      759.0   \n",
       "Rosal de la Frontera                                    2.0     1697.0   \n",
       "Beas                                                    5.0     4341.0   \n",
       "Isla Cristina                                          20.0    21393.0   \n",
       "Lepe                                                   22.0    27880.0   \n",
       "Villablanca                                             2.0     2885.0   \n",
       "Nerva                                                   3.0     5169.0   \n",
       "Ayamonte                                               12.0    21104.0   \n",
       "Almonaster la Real                                      1.0     1788.0   \n",
       "Jabugo                                                  1.0     2260.0   \n",
       "Paterna del Campo                                       1.0     3457.0   \n",
       "\n",
       "Medida                                   tasa7       tasa14  Diferencia PDIA  \n",
       "Lugar de residencia                                                           \n",
       "Cortelazor                         1672.240803  1672.240803              1.0  \n",
       "Puebla de Guzmán                    388.098318   614.489004              7.0  \n",
       "San Juan del Puerto                 286.898310   595.048348             16.0  \n",
       "Villarrasa                          135.685210   587.969245              0.0  \n",
       "Valverde del Camino                 211.764706   580.392157              7.0  \n",
       "Palos de la Frontera                127.746551   459.887583              6.0  \n",
       "Huelva (capital)                    212.740811   441.471944            130.0  \n",
       "Niebla                              194.363460   388.726919              6.0  \n",
       "Moguer                              173.777839   356.701880             12.0  \n",
       "Aljaraque                           135.047034   339.945981              5.0  \n",
       "Alosno                              279.684719   330.536486              7.0  \n",
       "Trigueros                            89.035869   305.265836              2.0  \n",
       "Huelva-Costa                        146.435133   301.849780            179.0  \n",
       "Bollullos Par del Condado           111.211510   298.880934             10.0  \n",
       "Bonares                             132.013201   297.029703              2.0  \n",
       "Condado-Campiña                     113.293777   296.996115             77.0  \n",
       "Huelva                              127.053413   289.767523            276.0  \n",
       "Almonte                              73.448402   289.713143              5.0  \n",
       "Palma del Condado (La)              101.842422   287.010462              8.0  \n",
       "San Bartolomé de la Torre           106.354693   265.886732              2.0  \n",
       "Minas de Riotinto                    26.232949   262.329486              NaN  \n",
       "Lucena del Puerto                   153.327200   245.323520              1.0  \n",
       "Almendro (El)                       238.095238   238.095238              1.0  \n",
       "Manzanilla                           47.214353   236.071766              1.0  \n",
       "Punta Umbría                         91.175513   234.451319              5.0  \n",
       "Calañas                             144.508671   216.763006              3.0  \n",
       "Sierra de Huelva-Andévalo Central    74.193883   213.678384             19.0  \n",
       "Villanueva de los Castillejos        70.796460   176.991150              0.0  \n",
       "Cartaya                              59.752029   174.276751              6.0  \n",
       "Aracena                              84.797093   169.594185              3.0  \n",
       "Rociana del Condado                  25.192090   151.152538              1.0  \n",
       "Gibraleón                            70.660281   149.171704              3.0  \n",
       "Alájar                              131.752306   131.752306              NaN  \n",
       "Rosal de la Frontera                117.855038   117.855038              1.0  \n",
       "Beas                                 92.144667   115.180834              2.0  \n",
       "Isla Cristina                        60.767541    93.488524              6.0  \n",
       "Lepe                                 50.215208    78.909613              5.0  \n",
       "Villablanca                          69.324090    69.324090              NaN  \n",
       "Nerva                                19.346102    58.038305              NaN  \n",
       "Ayamonte                             33.169067    56.861259              5.0  \n",
       "Almonaster la Real                   55.928412    55.928412              NaN  \n",
       "Jabugo                               44.247788    44.247788              0.0  \n",
       "Paterna del Campo                    28.926815    28.926815              0.0  "
      ],
      "text/html": "<div>\n<style scoped>\n    .dataframe tbody tr th:only-of-type {\n        vertical-align: middle;\n    }\n\n    .dataframe tbody tr th {\n        vertical-align: top;\n    }\n\n    .dataframe thead th {\n        text-align: right;\n    }\n</style>\n<table border=\"1\" class=\"dataframe\">\n  <thead>\n    <tr style=\"text-align: right;\">\n      <th>Medida</th>\n      <th>Confirmados PDIA</th>\n      <th>Confirmados PDIA 7 días</th>\n      <th>Confirmados PDIA 14 días</th>\n      <th>Población</th>\n      <th>tasa7</th>\n      <th>tasa14</th>\n      <th>Diferencia PDIA</th>\n    </tr>\n    <tr>\n      <th>Lugar de residencia</th>\n      <th></th>\n      <th></th>\n      <th></th>\n      <th></th>\n      <th></th>\n      <th></th>\n      <th></th>\n    </tr>\n  </thead>\n  <tbody>\n    <tr>\n      <th>Cortelazor</th>\n      <td>13.0</td>\n      <td>5.0</td>\n      <td>5.0</td>\n      <td>299.0</td>\n      <td>1672.240803</td>\n      <td>1672.240803</td>\n      <td>1.0</td>\n    </tr>\n    <tr>\n      <th>Puebla de Guzmán</th>\n      <td>132.0</td>\n      <td>12.0</td>\n      <td>19.0</td>\n      <td>3092.0</td>\n      <td>388.098318</td>\n      <td>614.489004</td>\n      <td>7.0</td>\n    </tr>\n    <tr>\n      <th>San Juan del Puerto</th>\n      <td>550.0</td>\n      <td>27.0</td>\n      <td>56.0</td>\n      <td>9411.0</td>\n      <td>286.898310</td>\n      <td>595.048348</td>\n      <td>16.0</td>\n    </tr>\n    <tr>\n      <th>Villarrasa</th>\n      <td>180.0</td>\n      <td>3.0</td>\n      <td>13.0</td>\n      <td>2211.0</td>\n      <td>135.685210</td>\n      <td>587.969245</td>\n      <td>0.0</td>\n    </tr>\n    <tr>\n      <th>Valverde del Camino</th>\n      <td>627.0</td>\n      <td>27.0</td>\n      <td>74.0</td>\n      <td>12750.0</td>\n      <td>211.764706</td>\n      <td>580.392157</td>\n      <td>7.0</td>\n    </tr>\n    <tr>\n      <th>Palos de la Frontera</th>\n      <td>696.0</td>\n      <td>15.0</td>\n      <td>54.0</td>\n      <td>11742.0</td>\n      <td>127.746551</td>\n      <td>459.887583</td>\n      <td>6.0</td>\n    </tr>\n    <tr>\n      <th>Huelva (capital)</th>\n      <td>8829.0</td>\n      <td>306.0</td>\n      <td>635.0</td>\n      <td>143837.0</td>\n      <td>212.740811</td>\n      <td>441.471944</td>\n      <td>130.0</td>\n    </tr>\n    <tr>\n      <th>Niebla</th>\n      <td>247.0</td>\n      <td>8.0</td>\n      <td>16.0</td>\n      <td>4116.0</td>\n      <td>194.363460</td>\n      <td>388.726919</td>\n      <td>6.0</td>\n    </tr>\n    <tr>\n      <th>Moguer</th>\n      <td>1348.0</td>\n      <td>38.0</td>\n      <td>78.0</td>\n      <td>21867.0</td>\n      <td>173.777839</td>\n      <td>356.701880</td>\n      <td>12.0</td>\n    </tr>\n    <tr>\n      <th>Aljaraque</th>\n      <td>1150.0</td>\n      <td>29.0</td>\n      <td>73.0</td>\n      <td>21474.0</td>\n      <td>135.047034</td>\n      <td>339.945981</td>\n      <td>5.0</td>\n    </tr>\n    <tr>\n      <th>Alosno</th>\n      <td>179.0</td>\n      <td>11.0</td>\n      <td>13.0</td>\n      <td>3933.0</td>\n      <td>279.684719</td>\n      <td>330.536486</td>\n      <td>7.0</td>\n    </tr>\n    <tr>\n      <th>Trigueros</th>\n      <td>324.0</td>\n      <td>7.0</td>\n      <td>24.0</td>\n      <td>7862.0</td>\n      <td>89.035869</td>\n      <td>305.265836</td>\n      <td>2.0</td>\n    </tr>\n    <tr>\n      <th>Huelva-Costa</th>\n      <td>18731.0</td>\n      <td>424.0</td>\n      <td>874.0</td>\n      <td>289548.0</td>\n      <td>146.435133</td>\n      <td>301.849780</td>\n      <td>179.0</td>\n    </tr>\n    <tr>\n      <th>Bollullos Par del Condado</th>\n      <td>1015.0</td>\n      <td>16.0</td>\n      <td>43.0</td>\n      <td>14387.0</td>\n      <td>111.211510</td>\n      <td>298.880934</td>\n      <td>10.0</td>\n    </tr>\n    <tr>\n      <th>Bonares</th>\n      <td>288.0</td>\n      <td>8.0</td>\n      <td>18.0</td>\n      <td>6060.0</td>\n      <td>132.013201</td>\n      <td>297.029703</td>\n      <td>2.0</td>\n    </tr>\n    <tr>\n      <th>Condado-Campiña</th>\n      <td>10532.0</td>\n      <td>177.0</td>\n      <td>464.0</td>\n      <td>156231.0</td>\n      <td>113.293777</td>\n      <td>296.996115</td>\n      <td>77.0</td>\n    </tr>\n    <tr>\n      <th>Huelva</th>\n      <td>32482.0</td>\n      <td>652.0</td>\n      <td>1487.0</td>\n      <td>513170.0</td>\n      <td>127.053413</td>\n      <td>289.767523</td>\n      <td>276.0</td>\n    </tr>\n    <tr>\n      <th>Almonte</th>\n      <td>1864.0</td>\n      <td>18.0</td>\n      <td>71.0</td>\n      <td>24507.0</td>\n      <td>73.448402</td>\n      <td>289.713143</td>\n      <td>5.0</td>\n    </tr>\n    <tr>\n      <th>Palma del Condado (La)</th>\n      <td>1174.0</td>\n      <td>11.0</td>\n      <td>31.0</td>\n      <td>10801.0</td>\n      <td>101.842422</td>\n      <td>287.010462</td>\n      <td>8.0</td>\n    </tr>\n    <tr>\n      <th>San Bartolomé de la Torre</th>\n      <td>304.0</td>\n      <td>4.0</td>\n      <td>10.0</td>\n      <td>3761.0</td>\n      <td>106.354693</td>\n      <td>265.886732</td>\n      <td>2.0</td>\n    </tr>\n    <tr>\n      <th>Minas de Riotinto</th>\n      <td>128.0</td>\n      <td>1.0</td>\n      <td>10.0</td>\n      <td>3812.0</td>\n      <td>26.232949</td>\n      <td>262.329486</td>\n      <td>NaN</td>\n    </tr>\n    <tr>\n      <th>Lucena del Puerto</th>\n      <td>260.0</td>\n      <td>5.0</td>\n      <td>8.0</td>\n      <td>3261.0</td>\n      <td>153.327200</td>\n      <td>245.323520</td>\n      <td>1.0</td>\n    </tr>\n    <tr>\n      <th>Almendro (El)</th>\n      <td>38.0</td>\n      <td>2.0</td>\n      <td>2.0</td>\n      <td>840.0</td>\n      <td>238.095238</td>\n      <td>238.095238</td>\n      <td>1.0</td>\n    </tr>\n    <tr>\n      <th>Manzanilla</th>\n      <td>103.0</td>\n      <td>1.0</td>\n      <td>5.0</td>\n      <td>2118.0</td>\n      <td>47.214353</td>\n      <td>236.071766</td>\n      <td>1.0</td>\n    </tr>\n    <tr>\n      <th>Punta Umbría</th>\n      <td>840.0</td>\n      <td>14.0</td>\n      <td>36.0</td>\n      <td>15355.0</td>\n      <td>91.175513</td>\n      <td>234.451319</td>\n      <td>5.0</td>\n    </tr>\n    <tr>\n      <th>Calañas</th>\n      <td>195.0</td>\n      <td>4.0</td>\n      <td>6.0</td>\n      <td>2768.0</td>\n      <td>144.508671</td>\n      <td>216.763006</td>\n      <td>3.0</td>\n    </tr>\n    <tr>\n      <th>Sierra de Huelva-Andévalo Central</th>\n      <td>2868.0</td>\n      <td>50.0</td>\n      <td>144.0</td>\n      <td>67391.0</td>\n      <td>74.193883</td>\n      <td>213.678384</td>\n      <td>19.0</td>\n    </tr>\n    <tr>\n      <th>Villanueva de los Castillejos</th>\n      <td>164.0</td>\n      <td>2.0</td>\n      <td>5.0</td>\n      <td>2825.0</td>\n      <td>70.796460</td>\n      <td>176.991150</td>\n      <td>0.0</td>\n    </tr>\n    <tr>\n      <th>Cartaya</th>\n      <td>1363.0</td>\n      <td>12.0</td>\n      <td>35.0</td>\n      <td>20083.0</td>\n      <td>59.752029</td>\n      <td>174.276751</td>\n      <td>6.0</td>\n    </tr>\n    <tr>\n      <th>Aracena</th>\n      <td>537.0</td>\n      <td>7.0</td>\n      <td>14.0</td>\n      <td>8255.0</td>\n      <td>84.797093</td>\n      <td>169.594185</td>\n      <td>3.0</td>\n    </tr>\n    <tr>\n      <th>Rociana del Condado</th>\n      <td>559.0</td>\n      <td>2.0</td>\n      <td>12.0</td>\n      <td>7939.0</td>\n      <td>25.192090</td>\n      <td>151.152538</td>\n      <td>1.0</td>\n    </tr>\n    <tr>\n      <th>Gibraleón</th>\n      <td>641.0</td>\n      <td>9.0</td>\n      <td>19.0</td>\n      <td>12737.0</td>\n      <td>70.660281</td>\n      <td>149.171704</td>\n      <td>3.0</td>\n    </tr>\n    <tr>\n      <th>Alájar</th>\n      <td>18.0</td>\n      <td>1.0</td>\n      <td>1.0</td>\n      <td>759.0</td>\n      <td>131.752306</td>\n      <td>131.752306</td>\n      <td>NaN</td>\n    </tr>\n    <tr>\n      <th>Rosal de la Frontera</th>\n      <td>31.0</td>\n      <td>2.0</td>\n      <td>2.0</td>\n      <td>1697.0</td>\n      <td>117.855038</td>\n      <td>117.855038</td>\n      <td>1.0</td>\n    </tr>\n    <tr>\n      <th>Beas</th>\n      <td>215.0</td>\n      <td>4.0</td>\n      <td>5.0</td>\n      <td>4341.0</td>\n      <td>92.144667</td>\n      <td>115.180834</td>\n      <td>2.0</td>\n    </tr>\n    <tr>\n      <th>Isla Cristina</th>\n      <td>2164.0</td>\n      <td>13.0</td>\n      <td>20.0</td>\n      <td>21393.0</td>\n      <td>60.767541</td>\n      <td>93.488524</td>\n      <td>6.0</td>\n    </tr>\n    <tr>\n      <th>Lepe</th>\n      <td>2149.0</td>\n      <td>14.0</td>\n      <td>22.0</td>\n      <td>27880.0</td>\n      <td>50.215208</td>\n      <td>78.909613</td>\n      <td>5.0</td>\n    </tr>\n    <tr>\n      <th>Villablanca</th>\n      <td>189.0</td>\n      <td>2.0</td>\n      <td>2.0</td>\n      <td>2885.0</td>\n      <td>69.324090</td>\n      <td>69.324090</td>\n      <td>NaN</td>\n    </tr>\n    <tr>\n      <th>Nerva</th>\n      <td>179.0</td>\n      <td>1.0</td>\n      <td>3.0</td>\n      <td>5169.0</td>\n      <td>19.346102</td>\n      <td>58.038305</td>\n      <td>NaN</td>\n    </tr>\n    <tr>\n      <th>Ayamonte</th>\n      <td>1328.0</td>\n      <td>7.0</td>\n      <td>12.0</td>\n      <td>21104.0</td>\n      <td>33.169067</td>\n      <td>56.861259</td>\n      <td>5.0</td>\n    </tr>\n    <tr>\n      <th>Almonaster la Real</th>\n      <td>67.0</td>\n      <td>1.0</td>\n      <td>1.0</td>\n      <td>1788.0</td>\n      <td>55.928412</td>\n      <td>55.928412</td>\n      <td>NaN</td>\n    </tr>\n    <tr>\n      <th>Jabugo</th>\n      <td>65.0</td>\n      <td>1.0</td>\n      <td>1.0</td>\n      <td>2260.0</td>\n      <td>44.247788</td>\n      <td>44.247788</td>\n      <td>0.0</td>\n    </tr>\n    <tr>\n      <th>Paterna del Campo</th>\n      <td>129.0</td>\n      <td>1.0</td>\n      <td>1.0</td>\n      <td>3457.0</td>\n      <td>28.926815</td>\n      <td>28.926815</td>\n      <td>0.0</td>\n    </tr>\n  </tbody>\n</table>\n</div>"
     },
     "metadata": {},
     "execution_count": 17
    }
   ],
   "source": [
    "tabla.sort_values('tasa14', ascending=False)"
   ]
  },
  {
   "cell_type": "code",
   "execution_count": 18,
   "metadata": {},
   "outputs": [
    {
     "output_type": "execute_result",
     "data": {
      "text/plain": [
       "Medida                             Confirmados PDIA  Confirmados PDIA 7 días  \\\n",
       "Lugar de residencia                                                            \n",
       "Minas de Riotinto                             128.0                      1.0   \n",
       "Rociana del Condado                           559.0                      2.0   \n",
       "Manzanilla                                    103.0                      1.0   \n",
       "Villarrasa                                    180.0                      3.0   \n",
       "Almonte                                      1864.0                     18.0   \n",
       "Palos de la Frontera                          696.0                     15.0   \n",
       "Trigueros                                     324.0                      7.0   \n",
       "Nerva                                         179.0                      1.0   \n",
       "Cartaya                                      1363.0                     12.0   \n",
       "Sierra de Huelva-Andévalo Central            2868.0                     50.0   \n",
       "Palma del Condado (La)                       1174.0                     11.0   \n",
       "Valverde del Camino                           627.0                     27.0   \n",
       "Bollullos Par del Condado                    1015.0                     16.0   \n",
       "Condado-Campiña                             10532.0                    177.0   \n",
       "Punta Umbría                                  840.0                     14.0   \n",
       "Aljaraque                                    1150.0                     29.0   \n",
       "Villanueva de los Castillejos                 164.0                      2.0   \n",
       "San Bartolomé de la Torre                     304.0                      4.0   \n",
       "Huelva                                      32482.0                    652.0   \n",
       "Bonares                                       288.0                      8.0   \n",
       "Gibraleón                                     641.0                      9.0   \n",
       "Huelva (capital)                             8829.0                    306.0   \n",
       "San Juan del Puerto                           550.0                     27.0   \n",
       "Huelva-Costa                                18731.0                    424.0   \n",
       "Moguer                                       1348.0                     38.0   \n",
       "Aracena                                       537.0                      7.0   \n",
       "Niebla                                        247.0                      8.0   \n",
       "Ayamonte                                     1328.0                      7.0   \n",
       "Lucena del Puerto                             260.0                      5.0   \n",
       "Puebla de Guzmán                              132.0                     12.0   \n",
       "Lepe                                         2149.0                     14.0   \n",
       "Isla Cristina                                2164.0                     13.0   \n",
       "Calañas                                       195.0                      4.0   \n",
       "Beas                                          215.0                      4.0   \n",
       "Alosno                                        179.0                     11.0   \n",
       "Cortelazor                                     13.0                      5.0   \n",
       "Paterna del Campo                             129.0                      1.0   \n",
       "Alájar                                         18.0                      1.0   \n",
       "Rosal de la Frontera                           31.0                      2.0   \n",
       "Jabugo                                         65.0                      1.0   \n",
       "Almonaster la Real                             67.0                      1.0   \n",
       "Almendro (El)                                  38.0                      2.0   \n",
       "Villablanca                                   189.0                      2.0   \n",
       "\n",
       "Medida                             Confirmados PDIA 14 días  Población  \\\n",
       "Lugar de residencia                                                      \n",
       "Minas de Riotinto                                      10.0     3812.0   \n",
       "Rociana del Condado                                    12.0     7939.0   \n",
       "Manzanilla                                              5.0     2118.0   \n",
       "Villarrasa                                             13.0     2211.0   \n",
       "Almonte                                                71.0    24507.0   \n",
       "Palos de la Frontera                                   54.0    11742.0   \n",
       "Trigueros                                              24.0     7862.0   \n",
       "Nerva                                                   3.0     5169.0   \n",
       "Cartaya                                                35.0    20083.0   \n",
       "Sierra de Huelva-Andévalo Central                     144.0    67391.0   \n",
       "Palma del Condado (La)                                 31.0    10801.0   \n",
       "Valverde del Camino                                    74.0    12750.0   \n",
       "Bollullos Par del Condado                              43.0    14387.0   \n",
       "Condado-Campiña                                       464.0   156231.0   \n",
       "Punta Umbría                                           36.0    15355.0   \n",
       "Aljaraque                                              73.0    21474.0   \n",
       "Villanueva de los Castillejos                           5.0     2825.0   \n",
       "San Bartolomé de la Torre                              10.0     3761.0   \n",
       "Huelva                                               1487.0   513170.0   \n",
       "Bonares                                                18.0     6060.0   \n",
       "Gibraleón                                              19.0    12737.0   \n",
       "Huelva (capital)                                      635.0   143837.0   \n",
       "San Juan del Puerto                                    56.0     9411.0   \n",
       "Huelva-Costa                                          874.0   289548.0   \n",
       "Moguer                                                 78.0    21867.0   \n",
       "Aracena                                                14.0     8255.0   \n",
       "Niebla                                                 16.0     4116.0   \n",
       "Ayamonte                                               12.0    21104.0   \n",
       "Lucena del Puerto                                       8.0     3261.0   \n",
       "Puebla de Guzmán                                       19.0     3092.0   \n",
       "Lepe                                                   22.0    27880.0   \n",
       "Isla Cristina                                          20.0    21393.0   \n",
       "Calañas                                                 6.0     2768.0   \n",
       "Beas                                                    5.0     4341.0   \n",
       "Alosno                                                 13.0     3933.0   \n",
       "Cortelazor                                              5.0      299.0   \n",
       "Paterna del Campo                                       1.0     3457.0   \n",
       "Alájar                                                  1.0      759.0   \n",
       "Rosal de la Frontera                                    2.0     1697.0   \n",
       "Jabugo                                                  1.0     2260.0   \n",
       "Almonaster la Real                                      1.0     1788.0   \n",
       "Almendro (El)                                           2.0      840.0   \n",
       "Villablanca                                             2.0     2885.0   \n",
       "\n",
       "Medida                                   tasa7       tasa14  Diferencia PDIA  \\\n",
       "Lugar de residencia                                                            \n",
       "Minas de Riotinto                    26.232949   262.329486              0.0   \n",
       "Rociana del Condado                  25.192090   151.152538              1.0   \n",
       "Manzanilla                           47.214353   236.071766              1.0   \n",
       "Villarrasa                          135.685210   587.969245              0.0   \n",
       "Almonte                              73.448402   289.713143              5.0   \n",
       "Palos de la Frontera                127.746551   459.887583              6.0   \n",
       "Trigueros                            89.035869   305.265836              2.0   \n",
       "Nerva                                19.346102    58.038305              0.0   \n",
       "Cartaya                              59.752029   174.276751              6.0   \n",
       "Sierra de Huelva-Andévalo Central    74.193883   213.678384             19.0   \n",
       "Palma del Condado (La)              101.842422   287.010462              8.0   \n",
       "Valverde del Camino                 211.764706   580.392157              7.0   \n",
       "Bollullos Par del Condado           111.211510   298.880934             10.0   \n",
       "Condado-Campiña                     113.293777   296.996115             77.0   \n",
       "Punta Umbría                         91.175513   234.451319              5.0   \n",
       "Aljaraque                           135.047034   339.945981              5.0   \n",
       "Villanueva de los Castillejos        70.796460   176.991150              0.0   \n",
       "San Bartolomé de la Torre           106.354693   265.886732              2.0   \n",
       "Huelva                              127.053413   289.767523            276.0   \n",
       "Bonares                             132.013201   297.029703              2.0   \n",
       "Gibraleón                            70.660281   149.171704              3.0   \n",
       "Huelva (capital)                    212.740811   441.471944            130.0   \n",
       "San Juan del Puerto                 286.898310   595.048348             16.0   \n",
       "Huelva-Costa                        146.435133   301.849780            179.0   \n",
       "Moguer                              173.777839   356.701880             12.0   \n",
       "Aracena                              84.797093   169.594185              3.0   \n",
       "Niebla                              194.363460   388.726919              6.0   \n",
       "Ayamonte                             33.169067    56.861259              5.0   \n",
       "Lucena del Puerto                   153.327200   245.323520              1.0   \n",
       "Puebla de Guzmán                    388.098318   614.489004              7.0   \n",
       "Lepe                                 50.215208    78.909613              5.0   \n",
       "Isla Cristina                        60.767541    93.488524              6.0   \n",
       "Calañas                             144.508671   216.763006              3.0   \n",
       "Beas                                 92.144667   115.180834              2.0   \n",
       "Alosno                              279.684719   330.536486              7.0   \n",
       "Cortelazor                         1672.240803  1672.240803              1.0   \n",
       "Paterna del Campo                    28.926815    28.926815              0.0   \n",
       "Alájar                              131.752306   131.752306              0.0   \n",
       "Rosal de la Frontera                117.855038   117.855038              1.0   \n",
       "Jabugo                               44.247788    44.247788              0.0   \n",
       "Almonaster la Real                   55.928412    55.928412              0.0   \n",
       "Almendro (El)                       238.095238   238.095238              1.0   \n",
       "Villablanca                          69.324090    69.324090              0.0   \n",
       "\n",
       "Medida                                 7/14  \n",
       "Lugar de residencia                          \n",
       "Minas de Riotinto                  0.100000  \n",
       "Rociana del Condado                0.166667  \n",
       "Manzanilla                         0.200000  \n",
       "Villarrasa                         0.230769  \n",
       "Almonte                            0.253521  \n",
       "Palos de la Frontera               0.277778  \n",
       "Trigueros                          0.291667  \n",
       "Nerva                              0.333333  \n",
       "Cartaya                            0.342857  \n",
       "Sierra de Huelva-Andévalo Central  0.347222  \n",
       "Palma del Condado (La)             0.354839  \n",
       "Valverde del Camino                0.364865  \n",
       "Bollullos Par del Condado          0.372093  \n",
       "Condado-Campiña                    0.381466  \n",
       "Punta Umbría                       0.388889  \n",
       "Aljaraque                          0.397260  \n",
       "Villanueva de los Castillejos      0.400000  \n",
       "San Bartolomé de la Torre          0.400000  \n",
       "Huelva                             0.438467  \n",
       "Bonares                            0.444444  \n",
       "Gibraleón                          0.473684  \n",
       "Huelva (capital)                   0.481890  \n",
       "San Juan del Puerto                0.482143  \n",
       "Huelva-Costa                       0.485126  \n",
       "Moguer                             0.487179  \n",
       "Aracena                            0.500000  \n",
       "Niebla                             0.500000  \n",
       "Ayamonte                           0.583333  \n",
       "Lucena del Puerto                  0.625000  \n",
       "Puebla de Guzmán                   0.631579  \n",
       "Lepe                               0.636364  \n",
       "Isla Cristina                      0.650000  \n",
       "Calañas                            0.666667  \n",
       "Beas                               0.800000  \n",
       "Alosno                             0.846154  \n",
       "Cortelazor                         1.000000  \n",
       "Paterna del Campo                  1.000000  \n",
       "Alájar                             1.000000  \n",
       "Rosal de la Frontera               1.000000  \n",
       "Jabugo                             1.000000  \n",
       "Almonaster la Real                 1.000000  \n",
       "Almendro (El)                      1.000000  \n",
       "Villablanca                        1.000000  "
      ],
      "text/html": "<div>\n<style scoped>\n    .dataframe tbody tr th:only-of-type {\n        vertical-align: middle;\n    }\n\n    .dataframe tbody tr th {\n        vertical-align: top;\n    }\n\n    .dataframe thead th {\n        text-align: right;\n    }\n</style>\n<table border=\"1\" class=\"dataframe\">\n  <thead>\n    <tr style=\"text-align: right;\">\n      <th>Medida</th>\n      <th>Confirmados PDIA</th>\n      <th>Confirmados PDIA 7 días</th>\n      <th>Confirmados PDIA 14 días</th>\n      <th>Población</th>\n      <th>tasa7</th>\n      <th>tasa14</th>\n      <th>Diferencia PDIA</th>\n      <th>7/14</th>\n    </tr>\n    <tr>\n      <th>Lugar de residencia</th>\n      <th></th>\n      <th></th>\n      <th></th>\n      <th></th>\n      <th></th>\n      <th></th>\n      <th></th>\n      <th></th>\n    </tr>\n  </thead>\n  <tbody>\n    <tr>\n      <th>Minas de Riotinto</th>\n      <td>128.0</td>\n      <td>1.0</td>\n      <td>10.0</td>\n      <td>3812.0</td>\n      <td>26.232949</td>\n      <td>262.329486</td>\n      <td>0.0</td>\n      <td>0.100000</td>\n    </tr>\n    <tr>\n      <th>Rociana del Condado</th>\n      <td>559.0</td>\n      <td>2.0</td>\n      <td>12.0</td>\n      <td>7939.0</td>\n      <td>25.192090</td>\n      <td>151.152538</td>\n      <td>1.0</td>\n      <td>0.166667</td>\n    </tr>\n    <tr>\n      <th>Manzanilla</th>\n      <td>103.0</td>\n      <td>1.0</td>\n      <td>5.0</td>\n      <td>2118.0</td>\n      <td>47.214353</td>\n      <td>236.071766</td>\n      <td>1.0</td>\n      <td>0.200000</td>\n    </tr>\n    <tr>\n      <th>Villarrasa</th>\n      <td>180.0</td>\n      <td>3.0</td>\n      <td>13.0</td>\n      <td>2211.0</td>\n      <td>135.685210</td>\n      <td>587.969245</td>\n      <td>0.0</td>\n      <td>0.230769</td>\n    </tr>\n    <tr>\n      <th>Almonte</th>\n      <td>1864.0</td>\n      <td>18.0</td>\n      <td>71.0</td>\n      <td>24507.0</td>\n      <td>73.448402</td>\n      <td>289.713143</td>\n      <td>5.0</td>\n      <td>0.253521</td>\n    </tr>\n    <tr>\n      <th>Palos de la Frontera</th>\n      <td>696.0</td>\n      <td>15.0</td>\n      <td>54.0</td>\n      <td>11742.0</td>\n      <td>127.746551</td>\n      <td>459.887583</td>\n      <td>6.0</td>\n      <td>0.277778</td>\n    </tr>\n    <tr>\n      <th>Trigueros</th>\n      <td>324.0</td>\n      <td>7.0</td>\n      <td>24.0</td>\n      <td>7862.0</td>\n      <td>89.035869</td>\n      <td>305.265836</td>\n      <td>2.0</td>\n      <td>0.291667</td>\n    </tr>\n    <tr>\n      <th>Nerva</th>\n      <td>179.0</td>\n      <td>1.0</td>\n      <td>3.0</td>\n      <td>5169.0</td>\n      <td>19.346102</td>\n      <td>58.038305</td>\n      <td>0.0</td>\n      <td>0.333333</td>\n    </tr>\n    <tr>\n      <th>Cartaya</th>\n      <td>1363.0</td>\n      <td>12.0</td>\n      <td>35.0</td>\n      <td>20083.0</td>\n      <td>59.752029</td>\n      <td>174.276751</td>\n      <td>6.0</td>\n      <td>0.342857</td>\n    </tr>\n    <tr>\n      <th>Sierra de Huelva-Andévalo Central</th>\n      <td>2868.0</td>\n      <td>50.0</td>\n      <td>144.0</td>\n      <td>67391.0</td>\n      <td>74.193883</td>\n      <td>213.678384</td>\n      <td>19.0</td>\n      <td>0.347222</td>\n    </tr>\n    <tr>\n      <th>Palma del Condado (La)</th>\n      <td>1174.0</td>\n      <td>11.0</td>\n      <td>31.0</td>\n      <td>10801.0</td>\n      <td>101.842422</td>\n      <td>287.010462</td>\n      <td>8.0</td>\n      <td>0.354839</td>\n    </tr>\n    <tr>\n      <th>Valverde del Camino</th>\n      <td>627.0</td>\n      <td>27.0</td>\n      <td>74.0</td>\n      <td>12750.0</td>\n      <td>211.764706</td>\n      <td>580.392157</td>\n      <td>7.0</td>\n      <td>0.364865</td>\n    </tr>\n    <tr>\n      <th>Bollullos Par del Condado</th>\n      <td>1015.0</td>\n      <td>16.0</td>\n      <td>43.0</td>\n      <td>14387.0</td>\n      <td>111.211510</td>\n      <td>298.880934</td>\n      <td>10.0</td>\n      <td>0.372093</td>\n    </tr>\n    <tr>\n      <th>Condado-Campiña</th>\n      <td>10532.0</td>\n      <td>177.0</td>\n      <td>464.0</td>\n      <td>156231.0</td>\n      <td>113.293777</td>\n      <td>296.996115</td>\n      <td>77.0</td>\n      <td>0.381466</td>\n    </tr>\n    <tr>\n      <th>Punta Umbría</th>\n      <td>840.0</td>\n      <td>14.0</td>\n      <td>36.0</td>\n      <td>15355.0</td>\n      <td>91.175513</td>\n      <td>234.451319</td>\n      <td>5.0</td>\n      <td>0.388889</td>\n    </tr>\n    <tr>\n      <th>Aljaraque</th>\n      <td>1150.0</td>\n      <td>29.0</td>\n      <td>73.0</td>\n      <td>21474.0</td>\n      <td>135.047034</td>\n      <td>339.945981</td>\n      <td>5.0</td>\n      <td>0.397260</td>\n    </tr>\n    <tr>\n      <th>Villanueva de los Castillejos</th>\n      <td>164.0</td>\n      <td>2.0</td>\n      <td>5.0</td>\n      <td>2825.0</td>\n      <td>70.796460</td>\n      <td>176.991150</td>\n      <td>0.0</td>\n      <td>0.400000</td>\n    </tr>\n    <tr>\n      <th>San Bartolomé de la Torre</th>\n      <td>304.0</td>\n      <td>4.0</td>\n      <td>10.0</td>\n      <td>3761.0</td>\n      <td>106.354693</td>\n      <td>265.886732</td>\n      <td>2.0</td>\n      <td>0.400000</td>\n    </tr>\n    <tr>\n      <th>Huelva</th>\n      <td>32482.0</td>\n      <td>652.0</td>\n      <td>1487.0</td>\n      <td>513170.0</td>\n      <td>127.053413</td>\n      <td>289.767523</td>\n      <td>276.0</td>\n      <td>0.438467</td>\n    </tr>\n    <tr>\n      <th>Bonares</th>\n      <td>288.0</td>\n      <td>8.0</td>\n      <td>18.0</td>\n      <td>6060.0</td>\n      <td>132.013201</td>\n      <td>297.029703</td>\n      <td>2.0</td>\n      <td>0.444444</td>\n    </tr>\n    <tr>\n      <th>Gibraleón</th>\n      <td>641.0</td>\n      <td>9.0</td>\n      <td>19.0</td>\n      <td>12737.0</td>\n      <td>70.660281</td>\n      <td>149.171704</td>\n      <td>3.0</td>\n      <td>0.473684</td>\n    </tr>\n    <tr>\n      <th>Huelva (capital)</th>\n      <td>8829.0</td>\n      <td>306.0</td>\n      <td>635.0</td>\n      <td>143837.0</td>\n      <td>212.740811</td>\n      <td>441.471944</td>\n      <td>130.0</td>\n      <td>0.481890</td>\n    </tr>\n    <tr>\n      <th>San Juan del Puerto</th>\n      <td>550.0</td>\n      <td>27.0</td>\n      <td>56.0</td>\n      <td>9411.0</td>\n      <td>286.898310</td>\n      <td>595.048348</td>\n      <td>16.0</td>\n      <td>0.482143</td>\n    </tr>\n    <tr>\n      <th>Huelva-Costa</th>\n      <td>18731.0</td>\n      <td>424.0</td>\n      <td>874.0</td>\n      <td>289548.0</td>\n      <td>146.435133</td>\n      <td>301.849780</td>\n      <td>179.0</td>\n      <td>0.485126</td>\n    </tr>\n    <tr>\n      <th>Moguer</th>\n      <td>1348.0</td>\n      <td>38.0</td>\n      <td>78.0</td>\n      <td>21867.0</td>\n      <td>173.777839</td>\n      <td>356.701880</td>\n      <td>12.0</td>\n      <td>0.487179</td>\n    </tr>\n    <tr>\n      <th>Aracena</th>\n      <td>537.0</td>\n      <td>7.0</td>\n      <td>14.0</td>\n      <td>8255.0</td>\n      <td>84.797093</td>\n      <td>169.594185</td>\n      <td>3.0</td>\n      <td>0.500000</td>\n    </tr>\n    <tr>\n      <th>Niebla</th>\n      <td>247.0</td>\n      <td>8.0</td>\n      <td>16.0</td>\n      <td>4116.0</td>\n      <td>194.363460</td>\n      <td>388.726919</td>\n      <td>6.0</td>\n      <td>0.500000</td>\n    </tr>\n    <tr>\n      <th>Ayamonte</th>\n      <td>1328.0</td>\n      <td>7.0</td>\n      <td>12.0</td>\n      <td>21104.0</td>\n      <td>33.169067</td>\n      <td>56.861259</td>\n      <td>5.0</td>\n      <td>0.583333</td>\n    </tr>\n    <tr>\n      <th>Lucena del Puerto</th>\n      <td>260.0</td>\n      <td>5.0</td>\n      <td>8.0</td>\n      <td>3261.0</td>\n      <td>153.327200</td>\n      <td>245.323520</td>\n      <td>1.0</td>\n      <td>0.625000</td>\n    </tr>\n    <tr>\n      <th>Puebla de Guzmán</th>\n      <td>132.0</td>\n      <td>12.0</td>\n      <td>19.0</td>\n      <td>3092.0</td>\n      <td>388.098318</td>\n      <td>614.489004</td>\n      <td>7.0</td>\n      <td>0.631579</td>\n    </tr>\n    <tr>\n      <th>Lepe</th>\n      <td>2149.0</td>\n      <td>14.0</td>\n      <td>22.0</td>\n      <td>27880.0</td>\n      <td>50.215208</td>\n      <td>78.909613</td>\n      <td>5.0</td>\n      <td>0.636364</td>\n    </tr>\n    <tr>\n      <th>Isla Cristina</th>\n      <td>2164.0</td>\n      <td>13.0</td>\n      <td>20.0</td>\n      <td>21393.0</td>\n      <td>60.767541</td>\n      <td>93.488524</td>\n      <td>6.0</td>\n      <td>0.650000</td>\n    </tr>\n    <tr>\n      <th>Calañas</th>\n      <td>195.0</td>\n      <td>4.0</td>\n      <td>6.0</td>\n      <td>2768.0</td>\n      <td>144.508671</td>\n      <td>216.763006</td>\n      <td>3.0</td>\n      <td>0.666667</td>\n    </tr>\n    <tr>\n      <th>Beas</th>\n      <td>215.0</td>\n      <td>4.0</td>\n      <td>5.0</td>\n      <td>4341.0</td>\n      <td>92.144667</td>\n      <td>115.180834</td>\n      <td>2.0</td>\n      <td>0.800000</td>\n    </tr>\n    <tr>\n      <th>Alosno</th>\n      <td>179.0</td>\n      <td>11.0</td>\n      <td>13.0</td>\n      <td>3933.0</td>\n      <td>279.684719</td>\n      <td>330.536486</td>\n      <td>7.0</td>\n      <td>0.846154</td>\n    </tr>\n    <tr>\n      <th>Cortelazor</th>\n      <td>13.0</td>\n      <td>5.0</td>\n      <td>5.0</td>\n      <td>299.0</td>\n      <td>1672.240803</td>\n      <td>1672.240803</td>\n      <td>1.0</td>\n      <td>1.000000</td>\n    </tr>\n    <tr>\n      <th>Paterna del Campo</th>\n      <td>129.0</td>\n      <td>1.0</td>\n      <td>1.0</td>\n      <td>3457.0</td>\n      <td>28.926815</td>\n      <td>28.926815</td>\n      <td>0.0</td>\n      <td>1.000000</td>\n    </tr>\n    <tr>\n      <th>Alájar</th>\n      <td>18.0</td>\n      <td>1.0</td>\n      <td>1.0</td>\n      <td>759.0</td>\n      <td>131.752306</td>\n      <td>131.752306</td>\n      <td>0.0</td>\n      <td>1.000000</td>\n    </tr>\n    <tr>\n      <th>Rosal de la Frontera</th>\n      <td>31.0</td>\n      <td>2.0</td>\n      <td>2.0</td>\n      <td>1697.0</td>\n      <td>117.855038</td>\n      <td>117.855038</td>\n      <td>1.0</td>\n      <td>1.000000</td>\n    </tr>\n    <tr>\n      <th>Jabugo</th>\n      <td>65.0</td>\n      <td>1.0</td>\n      <td>1.0</td>\n      <td>2260.0</td>\n      <td>44.247788</td>\n      <td>44.247788</td>\n      <td>0.0</td>\n      <td>1.000000</td>\n    </tr>\n    <tr>\n      <th>Almonaster la Real</th>\n      <td>67.0</td>\n      <td>1.0</td>\n      <td>1.0</td>\n      <td>1788.0</td>\n      <td>55.928412</td>\n      <td>55.928412</td>\n      <td>0.0</td>\n      <td>1.000000</td>\n    </tr>\n    <tr>\n      <th>Almendro (El)</th>\n      <td>38.0</td>\n      <td>2.0</td>\n      <td>2.0</td>\n      <td>840.0</td>\n      <td>238.095238</td>\n      <td>238.095238</td>\n      <td>1.0</td>\n      <td>1.000000</td>\n    </tr>\n    <tr>\n      <th>Villablanca</th>\n      <td>189.0</td>\n      <td>2.0</td>\n      <td>2.0</td>\n      <td>2885.0</td>\n      <td>69.324090</td>\n      <td>69.324090</td>\n      <td>0.0</td>\n      <td>1.000000</td>\n    </tr>\n  </tbody>\n</table>\n</div>"
     },
     "metadata": {},
     "execution_count": 18
    }
   ],
   "source": [
    "# Peso de la tasa de la última semana en relación con la tasa a 14 días \n",
    "# Mejor cuanto menor. Valor 1 significa que no había casos antes de 7 días.\n",
    "tabla['7/14'] = tabla['tasa7'] / tabla['tasa14']\n",
    "tabla.fillna(0).sort_values('7/14', ascending=True)"
   ]
  },
  {
   "cell_type": "code",
   "execution_count": null,
   "metadata": {},
   "outputs": [],
   "source": []
  }
 ]
}