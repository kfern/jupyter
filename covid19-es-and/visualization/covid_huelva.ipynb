{
 "metadata": {
  "language_info": {
   "codemirror_mode": {
    "name": "ipython",
    "version": 3
   },
   "file_extension": ".py",
   "mimetype": "text/x-python",
   "name": "python",
   "nbconvert_exporter": "python",
   "pygments_lexer": "ipython3",
   "version": "3.6.9-final"
  },
  "orig_nbformat": 2,
  "kernelspec": {
   "name": "python3",
   "display_name": "Python 3.6.9 64-bit",
   "metadata": {
    "interpreter": {
     "hash": "31f2aee4e71d21fbe5cf8b01ff0e069b9275f58929596ceb00d14d90e3e16cd6"
    }
   }
  }
 },
 "nbformat": 4,
 "nbformat_minor": 2,
 "cells": [
  {
   "cell_type": "code",
   "execution_count": 1,
   "metadata": {},
   "outputs": [],
   "source": [
    "import pandas as pd"
   ]
  },
  {
   "cell_type": "code",
   "execution_count": 2,
   "metadata": {},
   "outputs": [],
   "source": [
    "# FIX SSL: CERTIFICATE_VERIFY_FAILED with Python3\n",
    "# https://stackoverflow.com/a/49174340\n",
    "import ssl\n",
    "\n",
    "ssl._create_default_https_context = ssl._create_unverified_context"
   ]
  },
  {
   "cell_type": "code",
   "execution_count": 3,
   "metadata": {},
   "outputs": [],
   "source": [
    "url = 'https://www.juntadeandalucia.es/institutodeestadisticaycartografia/badea/stpivot/stpivot/Print?cube=013d884c-cfc5-4c21-9e78-e26225682afd&type=3&foto=si&ejecutaDesde=&codConsulta=38668&consTipoVisua=JP'\n",
    "fields = ['Lugar de residencia', 'Medida', 'Valor']\n",
    "df = pd.read_csv(url, delimiter=';', usecols=fields, decimal=',')"
   ]
  },
  {
   "cell_type": "code",
   "execution_count": 4,
   "metadata": {},
   "outputs": [
    {
     "output_type": "execute_result",
     "data": {
      "text/plain": [
       "                     Lugar de residencia                    Medida  \\\n",
       "0                                 Huelva                 Población   \n",
       "1                                 Huelva          Confirmados PDIA   \n",
       "2                                 Huelva  Confirmados PDIA 14 días   \n",
       "3                                 Huelva         Tasa PDIA 14 días   \n",
       "4                                 Huelva   Confirmados PDIA 7 días   \n",
       "..                                   ...                       ...   \n",
       "627  Municipio de Huelva sin especificar         Tasa PDIA 14 días   \n",
       "628  Municipio de Huelva sin especificar   Confirmados PDIA 7 días   \n",
       "629  Municipio de Huelva sin especificar        Total Confirmados    \n",
       "630  Municipio de Huelva sin especificar                   Curados   \n",
       "631  Municipio de Huelva sin especificar                Fallecidos   \n",
       "\n",
       "                Valor  \n",
       "0              510743  \n",
       "1               10769  \n",
       "2                 980  \n",
       "3    191,877323820395  \n",
       "4                 483  \n",
       "..                ...  \n",
       "627                 -  \n",
       "628                 1  \n",
       "629               123  \n",
       "630               101  \n",
       "631                 1  \n",
       "\n",
       "[632 rows x 3 columns]"
      ],
      "text/html": "<div>\n<style scoped>\n    .dataframe tbody tr th:only-of-type {\n        vertical-align: middle;\n    }\n\n    .dataframe tbody tr th {\n        vertical-align: top;\n    }\n\n    .dataframe thead th {\n        text-align: right;\n    }\n</style>\n<table border=\"1\" class=\"dataframe\">\n  <thead>\n    <tr style=\"text-align: right;\">\n      <th></th>\n      <th>Lugar de residencia</th>\n      <th>Medida</th>\n      <th>Valor</th>\n    </tr>\n  </thead>\n  <tbody>\n    <tr>\n      <th>0</th>\n      <td>Huelva</td>\n      <td>Población</td>\n      <td>510743</td>\n    </tr>\n    <tr>\n      <th>1</th>\n      <td>Huelva</td>\n      <td>Confirmados PDIA</td>\n      <td>10769</td>\n    </tr>\n    <tr>\n      <th>2</th>\n      <td>Huelva</td>\n      <td>Confirmados PDIA 14 días</td>\n      <td>980</td>\n    </tr>\n    <tr>\n      <th>3</th>\n      <td>Huelva</td>\n      <td>Tasa PDIA 14 días</td>\n      <td>191,877323820395</td>\n    </tr>\n    <tr>\n      <th>4</th>\n      <td>Huelva</td>\n      <td>Confirmados PDIA 7 días</td>\n      <td>483</td>\n    </tr>\n    <tr>\n      <th>...</th>\n      <td>...</td>\n      <td>...</td>\n      <td>...</td>\n    </tr>\n    <tr>\n      <th>627</th>\n      <td>Municipio de Huelva sin especificar</td>\n      <td>Tasa PDIA 14 días</td>\n      <td>-</td>\n    </tr>\n    <tr>\n      <th>628</th>\n      <td>Municipio de Huelva sin especificar</td>\n      <td>Confirmados PDIA 7 días</td>\n      <td>1</td>\n    </tr>\n    <tr>\n      <th>629</th>\n      <td>Municipio de Huelva sin especificar</td>\n      <td>Total Confirmados</td>\n      <td>123</td>\n    </tr>\n    <tr>\n      <th>630</th>\n      <td>Municipio de Huelva sin especificar</td>\n      <td>Curados</td>\n      <td>101</td>\n    </tr>\n    <tr>\n      <th>631</th>\n      <td>Municipio de Huelva sin especificar</td>\n      <td>Fallecidos</td>\n      <td>1</td>\n    </tr>\n  </tbody>\n</table>\n<p>632 rows × 3 columns</p>\n</div>"
     },
     "metadata": {},
     "execution_count": 4
    }
   ],
   "source": [
    "df"
   ]
  },
  {
   "cell_type": "code",
   "execution_count": 5,
   "metadata": {},
   "outputs": [],
   "source": [
    "df['Valor'] = pd.to_numeric(df['Valor'],errors='coerce')"
   ]
  },
  {
   "cell_type": "code",
   "execution_count": 6,
   "metadata": {},
   "outputs": [],
   "source": [
    "dfAnterior = pd.read_csv('covid_huelva.csv', index_col='Lugar de residencia')"
   ]
  },
  {
   "cell_type": "code",
   "execution_count": 7,
   "metadata": {
    "tags": []
   },
   "outputs": [
    {
     "output_type": "stream",
     "name": "stdout",
     "text": [
      "Confirmados PCR en la provincia de Huelva:  10769.0\n"
     ]
    }
   ],
   "source": [
    "# Confirmados PCR provincia Huelva\n",
    "p = df[df['Lugar de residencia'] == 'Huelva'][df['Medida'] == 'Confirmados PDIA']['Valor'].values[0]\n",
    "print('Confirmados PCR en la provincia de Huelva: ', p)"
   ]
  },
  {
   "cell_type": "code",
   "execution_count": 8,
   "metadata": {
    "tags": []
   },
   "outputs": [
    {
     "output_type": "stream",
     "name": "stdout",
     "text": [
      "Confirmados PCR en Huelva capital:  3045.0\n"
     ]
    }
   ],
   "source": [
    "# Confirmados PCR Huelva capitalpd\n",
    "c = df[df['Lugar de residencia'] == 'Huelva (capital)'][df['Medida'] == 'Confirmados PDIA']['Valor'].values[0]\n",
    "print('Confirmados PCR en Huelva capital: ', c)"
   ]
  },
  {
   "cell_type": "code",
   "execution_count": 9,
   "metadata": {
    "tags": []
   },
   "outputs": [],
   "source": [
    "c7 = df[df['Lugar de residencia'] == 'Huelva (capital)'][df['Medida'] == 'Confirmados PDIA 7 días']['Valor'].values[0]\n",
    "c14 = df[df['Lugar de residencia'] == 'Huelva (capital)'][df['Medida'] == 'Confirmados PDIA 14 días']['Valor'].values[0]\n",
    "p = df[df['Lugar de residencia'] == 'Huelva (capital)'][df['Medida'] == 'Población']['Valor'].values[0]"
   ]
  },
  {
   "cell_type": "code",
   "execution_count": 10,
   "metadata": {
    "tags": []
   },
   "outputs": [
    {
     "output_type": "stream",
     "name": "stdout",
     "text": [
      "Huelva (capital)\n\nUn positivo PCR cada 1012 personas en los últimos 7 días \n\nUn positivo PCR cada 489 personas en los últimos 14 días\n"
     ]
    }
   ],
   "source": [
    "print('Huelva (capital)\\n')\n",
    "#print('Confirmados PCR 7 días x 1,000 habitantes: ', f\"{c7/(p/1000):.5f}\")\n",
    "print('Un positivo PCR cada', f\"{p/c7:.0f}\", 'personas en los últimos 7 días', '\\n')\n",
    "#print('Confirmados PCR 14 días x 1,000 habitantes: ', f\"{c14/(p/1000):.5f}\")\n",
    "print('Un positivo PCR cada', f\"{p/c14:.0f}\", 'personas en los últimos 14 días')"
   ]
  },
  {
   "cell_type": "code",
   "execution_count": 11,
   "metadata": {},
   "outputs": [],
   "source": [
    "filtro = ((df['Medida'] == 'Confirmados PDIA')| (df['Medida'] == 'Confirmados PDIA 7 días') | (df['Medida'] == 'Población' ) | (df['Medida'] == 'Confirmados PDIA 14 días')) & (df['Valor'] > 0)\n",
    "tabla = pd.pivot_table(df.loc[filtro], values='Valor', index='Lugar de residencia', columns='Medida').dropna()"
   ]
  },
  {
   "cell_type": "code",
   "execution_count": 12,
   "metadata": {},
   "outputs": [],
   "source": [
    "# Reorder columns\n",
    "tabla = tabla[['Confirmados PDIA', 'Confirmados PDIA 7 días', 'Confirmados PDIA 14 días', 'Población']]"
   ]
  },
  {
   "cell_type": "code",
   "execution_count": 13,
   "metadata": {},
   "outputs": [],
   "source": [
    "tabla['tasa7'] = tabla['Confirmados PDIA 7 días']/tabla['Población']*100000\n",
    "tabla['tasa14'] = tabla['Confirmados PDIA 14 días']/tabla['Población']*100000"
   ]
  },
  {
   "cell_type": "code",
   "execution_count": 14,
   "metadata": {},
   "outputs": [],
   "source": [
    "tabla['Diferencia PDIA'] = tabla['Confirmados PDIA'] - dfAnterior['Confirmados PDIA']"
   ]
  },
  {
   "cell_type": "code",
   "execution_count": 15,
   "metadata": {},
   "outputs": [
    {
     "output_type": "execute_result",
     "data": {
      "text/plain": [
       "Medida                         Confirmados PDIA  Confirmados PDIA 7 días  \\\n",
       "Lugar de residencia                                                        \n",
       "Huelva                                  10769.0                    483.0   \n",
       "Huelva-Costa                             6049.0                    309.0   \n",
       "Huelva (capital)                         3045.0                    142.0   \n",
       "Condado-Campiña                          3315.0                    153.0   \n",
       "Cartaya                                   385.0                     36.0   \n",
       "Aljaraque                                 422.0                     31.0   \n",
       "Moguer                                    367.0                     30.0   \n",
       "Palos de la Frontera                      233.0                     17.0   \n",
       "Paterna del Campo                          68.0                      8.0   \n",
       "Bonares                                    51.0                      8.0   \n",
       "Ayamonte                                  329.0                     12.0   \n",
       "Lepe                                      943.0                     40.0   \n",
       "Isla Cristina                             410.0                     34.0   \n",
       "Lucena del Puerto                          95.0                     12.0   \n",
       "Villanueva de los Castillejos              62.0                      4.0   \n",
       "Almonte                                   438.0                      4.0   \n",
       "Palma del Condado (La)                    519.0                     37.0   \n",
       "Escacena del Campo                         94.0                      3.0   \n",
       "\n",
       "Medida                         Confirmados PDIA 14 días  Población  \\\n",
       "Lugar de residencia                                                  \n",
       "Huelva                                            980.0   510743.0   \n",
       "Huelva-Costa                                      650.0   288115.0   \n",
       "Huelva (capital)                                  294.0   143663.0   \n",
       "Condado-Campiña                                   296.0   155057.0   \n",
       "Cartaya                                            69.0    19974.0   \n",
       "Aljaraque                                          55.0    21260.0   \n",
       "Moguer                                             64.0    22088.0   \n",
       "Palos de la Frontera                               32.0    11289.0   \n",
       "Paterna del Campo                                  15.0     3509.0   \n",
       "Bonares                                            10.0     6058.0   \n",
       "Ayamonte                                           18.0    20946.0   \n",
       "Lepe                                               82.0    27431.0   \n",
       "Isla Cristina                                     104.0    21264.0   \n",
       "Lucena del Puerto                                  17.0     3371.0   \n",
       "Villanueva de los Castillejos                       6.0     2820.0   \n",
       "Almonte                                             6.0    24191.0   \n",
       "Palma del Condado (La)                             73.0    10761.0   \n",
       "Escacena del Campo                                  3.0     2284.0   \n",
       "\n",
       "Medida                              tasa7      tasa14  Diferencia PDIA  \n",
       "Lugar de residencia                                                     \n",
       "Huelva                          94.568110  191.877324             82.0  \n",
       "Huelva-Costa                   107.248842  225.604359             59.0  \n",
       "Huelva (capital)                98.842430  204.645594             30.0  \n",
       "Condado-Campiña                 98.673391  190.897541             23.0  \n",
       "Cartaya                        180.234305  345.449084             11.0  \n",
       "Aljaraque                      145.813735  258.701787              8.0  \n",
       "Moguer                         135.820355  289.750091              5.0  \n",
       "Palos de la Frontera           150.589069  283.461777              4.0  \n",
       "Paterna del Campo              227.985181  427.472214              4.0  \n",
       "Bonares                        132.056784  165.070981              3.0  \n",
       "Ayamonte                        57.290175   85.935262              3.0  \n",
       "Lepe                           145.820422  298.931865              3.0  \n",
       "Isla Cristina                  159.894658  489.089541              2.0  \n",
       "Lucena del Puerto              355.977455  504.301394              2.0  \n",
       "Villanueva de los Castillejos  141.843972  212.765957              2.0  \n",
       "Almonte                         16.535075   24.802613              1.0  \n",
       "Palma del Condado (La)         343.834216  678.375616              1.0  \n",
       "Escacena del Campo             131.348511  131.348511              NaN  "
      ],
      "text/html": "<div>\n<style scoped>\n    .dataframe tbody tr th:only-of-type {\n        vertical-align: middle;\n    }\n\n    .dataframe tbody tr th {\n        vertical-align: top;\n    }\n\n    .dataframe thead th {\n        text-align: right;\n    }\n</style>\n<table border=\"1\" class=\"dataframe\">\n  <thead>\n    <tr style=\"text-align: right;\">\n      <th>Medida</th>\n      <th>Confirmados PDIA</th>\n      <th>Confirmados PDIA 7 días</th>\n      <th>Confirmados PDIA 14 días</th>\n      <th>Población</th>\n      <th>tasa7</th>\n      <th>tasa14</th>\n      <th>Diferencia PDIA</th>\n    </tr>\n    <tr>\n      <th>Lugar de residencia</th>\n      <th></th>\n      <th></th>\n      <th></th>\n      <th></th>\n      <th></th>\n      <th></th>\n      <th></th>\n    </tr>\n  </thead>\n  <tbody>\n    <tr>\n      <th>Huelva</th>\n      <td>10769.0</td>\n      <td>483.0</td>\n      <td>980.0</td>\n      <td>510743.0</td>\n      <td>94.568110</td>\n      <td>191.877324</td>\n      <td>82.0</td>\n    </tr>\n    <tr>\n      <th>Huelva-Costa</th>\n      <td>6049.0</td>\n      <td>309.0</td>\n      <td>650.0</td>\n      <td>288115.0</td>\n      <td>107.248842</td>\n      <td>225.604359</td>\n      <td>59.0</td>\n    </tr>\n    <tr>\n      <th>Huelva (capital)</th>\n      <td>3045.0</td>\n      <td>142.0</td>\n      <td>294.0</td>\n      <td>143663.0</td>\n      <td>98.842430</td>\n      <td>204.645594</td>\n      <td>30.0</td>\n    </tr>\n    <tr>\n      <th>Condado-Campiña</th>\n      <td>3315.0</td>\n      <td>153.0</td>\n      <td>296.0</td>\n      <td>155057.0</td>\n      <td>98.673391</td>\n      <td>190.897541</td>\n      <td>23.0</td>\n    </tr>\n    <tr>\n      <th>Cartaya</th>\n      <td>385.0</td>\n      <td>36.0</td>\n      <td>69.0</td>\n      <td>19974.0</td>\n      <td>180.234305</td>\n      <td>345.449084</td>\n      <td>11.0</td>\n    </tr>\n    <tr>\n      <th>Aljaraque</th>\n      <td>422.0</td>\n      <td>31.0</td>\n      <td>55.0</td>\n      <td>21260.0</td>\n      <td>145.813735</td>\n      <td>258.701787</td>\n      <td>8.0</td>\n    </tr>\n    <tr>\n      <th>Moguer</th>\n      <td>367.0</td>\n      <td>30.0</td>\n      <td>64.0</td>\n      <td>22088.0</td>\n      <td>135.820355</td>\n      <td>289.750091</td>\n      <td>5.0</td>\n    </tr>\n    <tr>\n      <th>Palos de la Frontera</th>\n      <td>233.0</td>\n      <td>17.0</td>\n      <td>32.0</td>\n      <td>11289.0</td>\n      <td>150.589069</td>\n      <td>283.461777</td>\n      <td>4.0</td>\n    </tr>\n    <tr>\n      <th>Paterna del Campo</th>\n      <td>68.0</td>\n      <td>8.0</td>\n      <td>15.0</td>\n      <td>3509.0</td>\n      <td>227.985181</td>\n      <td>427.472214</td>\n      <td>4.0</td>\n    </tr>\n    <tr>\n      <th>Bonares</th>\n      <td>51.0</td>\n      <td>8.0</td>\n      <td>10.0</td>\n      <td>6058.0</td>\n      <td>132.056784</td>\n      <td>165.070981</td>\n      <td>3.0</td>\n    </tr>\n    <tr>\n      <th>Ayamonte</th>\n      <td>329.0</td>\n      <td>12.0</td>\n      <td>18.0</td>\n      <td>20946.0</td>\n      <td>57.290175</td>\n      <td>85.935262</td>\n      <td>3.0</td>\n    </tr>\n    <tr>\n      <th>Lepe</th>\n      <td>943.0</td>\n      <td>40.0</td>\n      <td>82.0</td>\n      <td>27431.0</td>\n      <td>145.820422</td>\n      <td>298.931865</td>\n      <td>3.0</td>\n    </tr>\n    <tr>\n      <th>Isla Cristina</th>\n      <td>410.0</td>\n      <td>34.0</td>\n      <td>104.0</td>\n      <td>21264.0</td>\n      <td>159.894658</td>\n      <td>489.089541</td>\n      <td>2.0</td>\n    </tr>\n    <tr>\n      <th>Lucena del Puerto</th>\n      <td>95.0</td>\n      <td>12.0</td>\n      <td>17.0</td>\n      <td>3371.0</td>\n      <td>355.977455</td>\n      <td>504.301394</td>\n      <td>2.0</td>\n    </tr>\n    <tr>\n      <th>Villanueva de los Castillejos</th>\n      <td>62.0</td>\n      <td>4.0</td>\n      <td>6.0</td>\n      <td>2820.0</td>\n      <td>141.843972</td>\n      <td>212.765957</td>\n      <td>2.0</td>\n    </tr>\n    <tr>\n      <th>Almonte</th>\n      <td>438.0</td>\n      <td>4.0</td>\n      <td>6.0</td>\n      <td>24191.0</td>\n      <td>16.535075</td>\n      <td>24.802613</td>\n      <td>1.0</td>\n    </tr>\n    <tr>\n      <th>Palma del Condado (La)</th>\n      <td>519.0</td>\n      <td>37.0</td>\n      <td>73.0</td>\n      <td>10761.0</td>\n      <td>343.834216</td>\n      <td>678.375616</td>\n      <td>1.0</td>\n    </tr>\n    <tr>\n      <th>Escacena del Campo</th>\n      <td>94.0</td>\n      <td>3.0</td>\n      <td>3.0</td>\n      <td>2284.0</td>\n      <td>131.348511</td>\n      <td>131.348511</td>\n      <td>NaN</td>\n    </tr>\n  </tbody>\n</table>\n</div>"
     },
     "metadata": {},
     "execution_count": 15
    }
   ],
   "source": [
    "# Nuevos casos desde la última captura\n",
    "tabla[tabla['Diferencia PDIA'] != 0].sort_values('Diferencia PDIA', ascending=False)"
   ]
  },
  {
   "cell_type": "code",
   "execution_count": 16,
   "metadata": {},
   "outputs": [],
   "source": [
    "if tabla[tabla['Diferencia PDIA'] != 0]['Diferencia PDIA'].sum() > 0:\n",
    "  # Save to csv\n",
    "  tabla.to_csv('covid_huelva.csv', encoding='utf-8', header=True, index=True)  "
   ]
  },
  {
   "cell_type": "code",
   "execution_count": 17,
   "metadata": {},
   "outputs": [
    {
     "output_type": "execute_result",
     "data": {
      "text/plain": [
       "Medida                             Confirmados PDIA  Confirmados PDIA 7 días  \\\n",
       "Lugar de residencia                                                            \n",
       "Palma del Condado (La)                        519.0                     37.0   \n",
       "Jabugo                                         46.0                     11.0   \n",
       "Lucena del Puerto                              95.0                     12.0   \n",
       "Isla Cristina                                 410.0                     34.0   \n",
       "Paterna del Campo                              68.0                      8.0   \n",
       "Cartaya                                       385.0                     36.0   \n",
       "Lepe                                          943.0                     40.0   \n",
       "Moguer                                        367.0                     30.0   \n",
       "Palos de la Frontera                          233.0                     17.0   \n",
       "Aljaraque                                     422.0                     31.0   \n",
       "Huelva-Costa                                 6049.0                    309.0   \n",
       "Villanueva de los Castillejos                  62.0                      4.0   \n",
       "Villalba del Alcor                            103.0                      1.0   \n",
       "Huelva (capital)                             3045.0                    142.0   \n",
       "Granado (El)                                   37.0                      1.0   \n",
       "San Juan del Puerto                           153.0                     13.0   \n",
       "Huelva                                      10769.0                    483.0   \n",
       "Condado-Campiña                              3315.0                    153.0   \n",
       "San Bartolomé de la Torre                      45.0                      1.0   \n",
       "Bonares                                        51.0                      8.0   \n",
       "Bollullos Par del Condado                     249.0                     13.0   \n",
       "Escacena del Campo                             94.0                      3.0   \n",
       "Punta Umbría                                  232.0                      5.0   \n",
       "Zalamea la Real                                47.0                      1.0   \n",
       "Aroche                                         55.0                      3.0   \n",
       "Gibraleón                                     349.0                      2.0   \n",
       "Ayamonte                                      329.0                     12.0   \n",
       "Minas de Riotinto                              67.0                      1.0   \n",
       "Trigueros                                     131.0                      3.0   \n",
       "Alosno                                         44.0                      3.0   \n",
       "Sierra de Huelva-Andévalo Central            1283.0                     20.0   \n",
       "Beas                                           57.0                      1.0   \n",
       "Villablanca                                    55.0                      1.0   \n",
       "Valverde del Camino                           273.0                      2.0   \n",
       "Almonte                                       438.0                      4.0   \n",
       "Cortegana                                     122.0                      1.0   \n",
       "Aracena                                       286.0                      1.0   \n",
       "\n",
       "Medida                             Confirmados PDIA 14 días  Población  \\\n",
       "Lugar de residencia                                                      \n",
       "Palma del Condado (La)                                 73.0    10761.0   \n",
       "Jabugo                                                 12.0     2250.0   \n",
       "Lucena del Puerto                                      17.0     3371.0   \n",
       "Isla Cristina                                         104.0    21264.0   \n",
       "Paterna del Campo                                      15.0     3509.0   \n",
       "Cartaya                                                69.0    19974.0   \n",
       "Lepe                                                   82.0    27431.0   \n",
       "Moguer                                                 64.0    22088.0   \n",
       "Palos de la Frontera                                   32.0    11289.0   \n",
       "Aljaraque                                              55.0    21260.0   \n",
       "Huelva-Costa                                          650.0   288115.0   \n",
       "Villanueva de los Castillejos                           6.0     2820.0   \n",
       "Villalba del Alcor                                      7.0     3338.0   \n",
       "Huelva (capital)                                      294.0   143663.0   \n",
       "Granado (El)                                            1.0      516.0   \n",
       "San Juan del Puerto                                    18.0     9300.0   \n",
       "Huelva                                                980.0   510743.0   \n",
       "Condado-Campiña                                       296.0   155057.0   \n",
       "San Bartolomé de la Torre                               7.0     3736.0   \n",
       "Bonares                                                10.0     6058.0   \n",
       "Bollullos Par del Condado                              19.0    14272.0   \n",
       "Escacena del Campo                                      3.0     2284.0   \n",
       "Punta Umbría                                           16.0    15242.0   \n",
       "Zalamea la Real                                         3.0     3068.0   \n",
       "Aroche                                                  3.0     3073.0   \n",
       "Gibraleón                                              11.0    12607.0   \n",
       "Ayamonte                                               18.0    20946.0   \n",
       "Minas de Riotinto                                       3.0     3848.0   \n",
       "Trigueros                                               6.0     7713.0   \n",
       "Alosno                                                  3.0     3923.0   \n",
       "Sierra de Huelva-Andévalo Central                      33.0    67571.0   \n",
       "Beas                                                    2.0     4257.0   \n",
       "Villablanca                                             1.0     2848.0   \n",
       "Valverde del Camino                                     4.0    12820.0   \n",
       "Almonte                                                 6.0    24191.0   \n",
       "Cortegana                                               1.0     4666.0   \n",
       "Aracena                                                 1.0     8107.0   \n",
       "\n",
       "Medida                                  tasa7      tasa14  Diferencia PDIA  \n",
       "Lugar de residencia                                                         \n",
       "Palma del Condado (La)             343.834216  678.375616              1.0  \n",
       "Jabugo                             488.888889  533.333333              0.0  \n",
       "Lucena del Puerto                  355.977455  504.301394              2.0  \n",
       "Isla Cristina                      159.894658  489.089541              2.0  \n",
       "Paterna del Campo                  227.985181  427.472214              4.0  \n",
       "Cartaya                            180.234305  345.449084             11.0  \n",
       "Lepe                               145.820422  298.931865              3.0  \n",
       "Moguer                             135.820355  289.750091              5.0  \n",
       "Palos de la Frontera               150.589069  283.461777              4.0  \n",
       "Aljaraque                          145.813735  258.701787              8.0  \n",
       "Huelva-Costa                       107.248842  225.604359             59.0  \n",
       "Villanueva de los Castillejos      141.843972  212.765957              2.0  \n",
       "Villalba del Alcor                  29.958059  209.706411              0.0  \n",
       "Huelva (capital)                    98.842430  204.645594             30.0  \n",
       "Granado (El)                       193.798450  193.798450              0.0  \n",
       "San Juan del Puerto                139.784946  193.548387              0.0  \n",
       "Huelva                              94.568110  191.877324             82.0  \n",
       "Condado-Campiña                     98.673391  190.897541             23.0  \n",
       "San Bartolomé de la Torre           26.766595  187.366167              0.0  \n",
       "Bonares                            132.056784  165.070981              3.0  \n",
       "Bollullos Par del Condado           91.087444  133.127803              0.0  \n",
       "Escacena del Campo                 131.348511  131.348511              NaN  \n",
       "Punta Umbría                        32.804094  104.973101              0.0  \n",
       "Zalamea la Real                     32.594524   97.783572              0.0  \n",
       "Aroche                              97.624471   97.624471              0.0  \n",
       "Gibraleón                           15.864202   87.253113              0.0  \n",
       "Ayamonte                            57.290175   85.935262              3.0  \n",
       "Minas de Riotinto                   25.987526   77.962578              0.0  \n",
       "Trigueros                           38.895371   77.790743              0.0  \n",
       "Alosno                              76.472088   76.472088              0.0  \n",
       "Sierra de Huelva-Andévalo Central   29.598496   48.837519              0.0  \n",
       "Beas                                23.490721   46.981442              0.0  \n",
       "Villablanca                         35.112360   35.112360              0.0  \n",
       "Valverde del Camino                 15.600624   31.201248              0.0  \n",
       "Almonte                             16.535075   24.802613              1.0  \n",
       "Cortegana                           21.431633   21.431633              0.0  \n",
       "Aracena                             12.335019   12.335019              0.0  "
      ],
      "text/html": "<div>\n<style scoped>\n    .dataframe tbody tr th:only-of-type {\n        vertical-align: middle;\n    }\n\n    .dataframe tbody tr th {\n        vertical-align: top;\n    }\n\n    .dataframe thead th {\n        text-align: right;\n    }\n</style>\n<table border=\"1\" class=\"dataframe\">\n  <thead>\n    <tr style=\"text-align: right;\">\n      <th>Medida</th>\n      <th>Confirmados PDIA</th>\n      <th>Confirmados PDIA 7 días</th>\n      <th>Confirmados PDIA 14 días</th>\n      <th>Población</th>\n      <th>tasa7</th>\n      <th>tasa14</th>\n      <th>Diferencia PDIA</th>\n    </tr>\n    <tr>\n      <th>Lugar de residencia</th>\n      <th></th>\n      <th></th>\n      <th></th>\n      <th></th>\n      <th></th>\n      <th></th>\n      <th></th>\n    </tr>\n  </thead>\n  <tbody>\n    <tr>\n      <th>Palma del Condado (La)</th>\n      <td>519.0</td>\n      <td>37.0</td>\n      <td>73.0</td>\n      <td>10761.0</td>\n      <td>343.834216</td>\n      <td>678.375616</td>\n      <td>1.0</td>\n    </tr>\n    <tr>\n      <th>Jabugo</th>\n      <td>46.0</td>\n      <td>11.0</td>\n      <td>12.0</td>\n      <td>2250.0</td>\n      <td>488.888889</td>\n      <td>533.333333</td>\n      <td>0.0</td>\n    </tr>\n    <tr>\n      <th>Lucena del Puerto</th>\n      <td>95.0</td>\n      <td>12.0</td>\n      <td>17.0</td>\n      <td>3371.0</td>\n      <td>355.977455</td>\n      <td>504.301394</td>\n      <td>2.0</td>\n    </tr>\n    <tr>\n      <th>Isla Cristina</th>\n      <td>410.0</td>\n      <td>34.0</td>\n      <td>104.0</td>\n      <td>21264.0</td>\n      <td>159.894658</td>\n      <td>489.089541</td>\n      <td>2.0</td>\n    </tr>\n    <tr>\n      <th>Paterna del Campo</th>\n      <td>68.0</td>\n      <td>8.0</td>\n      <td>15.0</td>\n      <td>3509.0</td>\n      <td>227.985181</td>\n      <td>427.472214</td>\n      <td>4.0</td>\n    </tr>\n    <tr>\n      <th>Cartaya</th>\n      <td>385.0</td>\n      <td>36.0</td>\n      <td>69.0</td>\n      <td>19974.0</td>\n      <td>180.234305</td>\n      <td>345.449084</td>\n      <td>11.0</td>\n    </tr>\n    <tr>\n      <th>Lepe</th>\n      <td>943.0</td>\n      <td>40.0</td>\n      <td>82.0</td>\n      <td>27431.0</td>\n      <td>145.820422</td>\n      <td>298.931865</td>\n      <td>3.0</td>\n    </tr>\n    <tr>\n      <th>Moguer</th>\n      <td>367.0</td>\n      <td>30.0</td>\n      <td>64.0</td>\n      <td>22088.0</td>\n      <td>135.820355</td>\n      <td>289.750091</td>\n      <td>5.0</td>\n    </tr>\n    <tr>\n      <th>Palos de la Frontera</th>\n      <td>233.0</td>\n      <td>17.0</td>\n      <td>32.0</td>\n      <td>11289.0</td>\n      <td>150.589069</td>\n      <td>283.461777</td>\n      <td>4.0</td>\n    </tr>\n    <tr>\n      <th>Aljaraque</th>\n      <td>422.0</td>\n      <td>31.0</td>\n      <td>55.0</td>\n      <td>21260.0</td>\n      <td>145.813735</td>\n      <td>258.701787</td>\n      <td>8.0</td>\n    </tr>\n    <tr>\n      <th>Huelva-Costa</th>\n      <td>6049.0</td>\n      <td>309.0</td>\n      <td>650.0</td>\n      <td>288115.0</td>\n      <td>107.248842</td>\n      <td>225.604359</td>\n      <td>59.0</td>\n    </tr>\n    <tr>\n      <th>Villanueva de los Castillejos</th>\n      <td>62.0</td>\n      <td>4.0</td>\n      <td>6.0</td>\n      <td>2820.0</td>\n      <td>141.843972</td>\n      <td>212.765957</td>\n      <td>2.0</td>\n    </tr>\n    <tr>\n      <th>Villalba del Alcor</th>\n      <td>103.0</td>\n      <td>1.0</td>\n      <td>7.0</td>\n      <td>3338.0</td>\n      <td>29.958059</td>\n      <td>209.706411</td>\n      <td>0.0</td>\n    </tr>\n    <tr>\n      <th>Huelva (capital)</th>\n      <td>3045.0</td>\n      <td>142.0</td>\n      <td>294.0</td>\n      <td>143663.0</td>\n      <td>98.842430</td>\n      <td>204.645594</td>\n      <td>30.0</td>\n    </tr>\n    <tr>\n      <th>Granado (El)</th>\n      <td>37.0</td>\n      <td>1.0</td>\n      <td>1.0</td>\n      <td>516.0</td>\n      <td>193.798450</td>\n      <td>193.798450</td>\n      <td>0.0</td>\n    </tr>\n    <tr>\n      <th>San Juan del Puerto</th>\n      <td>153.0</td>\n      <td>13.0</td>\n      <td>18.0</td>\n      <td>9300.0</td>\n      <td>139.784946</td>\n      <td>193.548387</td>\n      <td>0.0</td>\n    </tr>\n    <tr>\n      <th>Huelva</th>\n      <td>10769.0</td>\n      <td>483.0</td>\n      <td>980.0</td>\n      <td>510743.0</td>\n      <td>94.568110</td>\n      <td>191.877324</td>\n      <td>82.0</td>\n    </tr>\n    <tr>\n      <th>Condado-Campiña</th>\n      <td>3315.0</td>\n      <td>153.0</td>\n      <td>296.0</td>\n      <td>155057.0</td>\n      <td>98.673391</td>\n      <td>190.897541</td>\n      <td>23.0</td>\n    </tr>\n    <tr>\n      <th>San Bartolomé de la Torre</th>\n      <td>45.0</td>\n      <td>1.0</td>\n      <td>7.0</td>\n      <td>3736.0</td>\n      <td>26.766595</td>\n      <td>187.366167</td>\n      <td>0.0</td>\n    </tr>\n    <tr>\n      <th>Bonares</th>\n      <td>51.0</td>\n      <td>8.0</td>\n      <td>10.0</td>\n      <td>6058.0</td>\n      <td>132.056784</td>\n      <td>165.070981</td>\n      <td>3.0</td>\n    </tr>\n    <tr>\n      <th>Bollullos Par del Condado</th>\n      <td>249.0</td>\n      <td>13.0</td>\n      <td>19.0</td>\n      <td>14272.0</td>\n      <td>91.087444</td>\n      <td>133.127803</td>\n      <td>0.0</td>\n    </tr>\n    <tr>\n      <th>Escacena del Campo</th>\n      <td>94.0</td>\n      <td>3.0</td>\n      <td>3.0</td>\n      <td>2284.0</td>\n      <td>131.348511</td>\n      <td>131.348511</td>\n      <td>NaN</td>\n    </tr>\n    <tr>\n      <th>Punta Umbría</th>\n      <td>232.0</td>\n      <td>5.0</td>\n      <td>16.0</td>\n      <td>15242.0</td>\n      <td>32.804094</td>\n      <td>104.973101</td>\n      <td>0.0</td>\n    </tr>\n    <tr>\n      <th>Zalamea la Real</th>\n      <td>47.0</td>\n      <td>1.0</td>\n      <td>3.0</td>\n      <td>3068.0</td>\n      <td>32.594524</td>\n      <td>97.783572</td>\n      <td>0.0</td>\n    </tr>\n    <tr>\n      <th>Aroche</th>\n      <td>55.0</td>\n      <td>3.0</td>\n      <td>3.0</td>\n      <td>3073.0</td>\n      <td>97.624471</td>\n      <td>97.624471</td>\n      <td>0.0</td>\n    </tr>\n    <tr>\n      <th>Gibraleón</th>\n      <td>349.0</td>\n      <td>2.0</td>\n      <td>11.0</td>\n      <td>12607.0</td>\n      <td>15.864202</td>\n      <td>87.253113</td>\n      <td>0.0</td>\n    </tr>\n    <tr>\n      <th>Ayamonte</th>\n      <td>329.0</td>\n      <td>12.0</td>\n      <td>18.0</td>\n      <td>20946.0</td>\n      <td>57.290175</td>\n      <td>85.935262</td>\n      <td>3.0</td>\n    </tr>\n    <tr>\n      <th>Minas de Riotinto</th>\n      <td>67.0</td>\n      <td>1.0</td>\n      <td>3.0</td>\n      <td>3848.0</td>\n      <td>25.987526</td>\n      <td>77.962578</td>\n      <td>0.0</td>\n    </tr>\n    <tr>\n      <th>Trigueros</th>\n      <td>131.0</td>\n      <td>3.0</td>\n      <td>6.0</td>\n      <td>7713.0</td>\n      <td>38.895371</td>\n      <td>77.790743</td>\n      <td>0.0</td>\n    </tr>\n    <tr>\n      <th>Alosno</th>\n      <td>44.0</td>\n      <td>3.0</td>\n      <td>3.0</td>\n      <td>3923.0</td>\n      <td>76.472088</td>\n      <td>76.472088</td>\n      <td>0.0</td>\n    </tr>\n    <tr>\n      <th>Sierra de Huelva-Andévalo Central</th>\n      <td>1283.0</td>\n      <td>20.0</td>\n      <td>33.0</td>\n      <td>67571.0</td>\n      <td>29.598496</td>\n      <td>48.837519</td>\n      <td>0.0</td>\n    </tr>\n    <tr>\n      <th>Beas</th>\n      <td>57.0</td>\n      <td>1.0</td>\n      <td>2.0</td>\n      <td>4257.0</td>\n      <td>23.490721</td>\n      <td>46.981442</td>\n      <td>0.0</td>\n    </tr>\n    <tr>\n      <th>Villablanca</th>\n      <td>55.0</td>\n      <td>1.0</td>\n      <td>1.0</td>\n      <td>2848.0</td>\n      <td>35.112360</td>\n      <td>35.112360</td>\n      <td>0.0</td>\n    </tr>\n    <tr>\n      <th>Valverde del Camino</th>\n      <td>273.0</td>\n      <td>2.0</td>\n      <td>4.0</td>\n      <td>12820.0</td>\n      <td>15.600624</td>\n      <td>31.201248</td>\n      <td>0.0</td>\n    </tr>\n    <tr>\n      <th>Almonte</th>\n      <td>438.0</td>\n      <td>4.0</td>\n      <td>6.0</td>\n      <td>24191.0</td>\n      <td>16.535075</td>\n      <td>24.802613</td>\n      <td>1.0</td>\n    </tr>\n    <tr>\n      <th>Cortegana</th>\n      <td>122.0</td>\n      <td>1.0</td>\n      <td>1.0</td>\n      <td>4666.0</td>\n      <td>21.431633</td>\n      <td>21.431633</td>\n      <td>0.0</td>\n    </tr>\n    <tr>\n      <th>Aracena</th>\n      <td>286.0</td>\n      <td>1.0</td>\n      <td>1.0</td>\n      <td>8107.0</td>\n      <td>12.335019</td>\n      <td>12.335019</td>\n      <td>0.0</td>\n    </tr>\n  </tbody>\n</table>\n</div>"
     },
     "metadata": {},
     "execution_count": 17
    }
   ],
   "source": [
    "tabla.sort_values('tasa14', ascending=False)"
   ]
  },
  {
   "cell_type": "code",
   "execution_count": 18,
   "metadata": {},
   "outputs": [
    {
     "output_type": "execute_result",
     "data": {
      "text/plain": [
       "Medida                             Confirmados PDIA  Confirmados PDIA 7 días  \\\n",
       "Lugar de residencia                                                            \n",
       "Villalba del Alcor                            103.0                      1.0   \n",
       "San Bartolomé de la Torre                      45.0                      1.0   \n",
       "Gibraleón                                     349.0                      2.0   \n",
       "Punta Umbría                                  232.0                      5.0   \n",
       "Isla Cristina                                 410.0                     34.0   \n",
       "Zalamea la Real                                47.0                      1.0   \n",
       "Minas de Riotinto                              67.0                      1.0   \n",
       "Moguer                                        367.0                     30.0   \n",
       "Huelva-Costa                                 6049.0                    309.0   \n",
       "Huelva (capital)                             3045.0                    142.0   \n",
       "Lepe                                          943.0                     40.0   \n",
       "Huelva                                      10769.0                    483.0   \n",
       "Beas                                           57.0                      1.0   \n",
       "Valverde del Camino                           273.0                      2.0   \n",
       "Trigueros                                     131.0                      3.0   \n",
       "Palma del Condado (La)                        519.0                     37.0   \n",
       "Condado-Campiña                              3315.0                    153.0   \n",
       "Cartaya                                       385.0                     36.0   \n",
       "Palos de la Frontera                          233.0                     17.0   \n",
       "Paterna del Campo                              68.0                      8.0   \n",
       "Aljaraque                                     422.0                     31.0   \n",
       "Sierra de Huelva-Andévalo Central            1283.0                     20.0   \n",
       "Ayamonte                                      329.0                     12.0   \n",
       "Villanueva de los Castillejos                  62.0                      4.0   \n",
       "Almonte                                       438.0                      4.0   \n",
       "Bollullos Par del Condado                     249.0                     13.0   \n",
       "Lucena del Puerto                              95.0                     12.0   \n",
       "San Juan del Puerto                           153.0                     13.0   \n",
       "Bonares                                        51.0                      8.0   \n",
       "Jabugo                                         46.0                     11.0   \n",
       "Granado (El)                                   37.0                      1.0   \n",
       "Aroche                                         55.0                      3.0   \n",
       "Escacena del Campo                             94.0                      3.0   \n",
       "Cortegana                                     122.0                      1.0   \n",
       "Aracena                                       286.0                      1.0   \n",
       "Alosno                                         44.0                      3.0   \n",
       "Villablanca                                    55.0                      1.0   \n",
       "\n",
       "Medida                             Confirmados PDIA 14 días  Población  \\\n",
       "Lugar de residencia                                                      \n",
       "Villalba del Alcor                                      7.0     3338.0   \n",
       "San Bartolomé de la Torre                               7.0     3736.0   \n",
       "Gibraleón                                              11.0    12607.0   \n",
       "Punta Umbría                                           16.0    15242.0   \n",
       "Isla Cristina                                         104.0    21264.0   \n",
       "Zalamea la Real                                         3.0     3068.0   \n",
       "Minas de Riotinto                                       3.0     3848.0   \n",
       "Moguer                                                 64.0    22088.0   \n",
       "Huelva-Costa                                          650.0   288115.0   \n",
       "Huelva (capital)                                      294.0   143663.0   \n",
       "Lepe                                                   82.0    27431.0   \n",
       "Huelva                                                980.0   510743.0   \n",
       "Beas                                                    2.0     4257.0   \n",
       "Valverde del Camino                                     4.0    12820.0   \n",
       "Trigueros                                               6.0     7713.0   \n",
       "Palma del Condado (La)                                 73.0    10761.0   \n",
       "Condado-Campiña                                       296.0   155057.0   \n",
       "Cartaya                                                69.0    19974.0   \n",
       "Palos de la Frontera                                   32.0    11289.0   \n",
       "Paterna del Campo                                      15.0     3509.0   \n",
       "Aljaraque                                              55.0    21260.0   \n",
       "Sierra de Huelva-Andévalo Central                      33.0    67571.0   \n",
       "Ayamonte                                               18.0    20946.0   \n",
       "Villanueva de los Castillejos                           6.0     2820.0   \n",
       "Almonte                                                 6.0    24191.0   \n",
       "Bollullos Par del Condado                              19.0    14272.0   \n",
       "Lucena del Puerto                                      17.0     3371.0   \n",
       "San Juan del Puerto                                    18.0     9300.0   \n",
       "Bonares                                                10.0     6058.0   \n",
       "Jabugo                                                 12.0     2250.0   \n",
       "Granado (El)                                            1.0      516.0   \n",
       "Aroche                                                  3.0     3073.0   \n",
       "Escacena del Campo                                      3.0     2284.0   \n",
       "Cortegana                                               1.0     4666.0   \n",
       "Aracena                                                 1.0     8107.0   \n",
       "Alosno                                                  3.0     3923.0   \n",
       "Villablanca                                             1.0     2848.0   \n",
       "\n",
       "Medida                                  tasa7      tasa14  Diferencia PDIA  \\\n",
       "Lugar de residencia                                                          \n",
       "Villalba del Alcor                  29.958059  209.706411              0.0   \n",
       "San Bartolomé de la Torre           26.766595  187.366167              0.0   \n",
       "Gibraleón                           15.864202   87.253113              0.0   \n",
       "Punta Umbría                        32.804094  104.973101              0.0   \n",
       "Isla Cristina                      159.894658  489.089541              2.0   \n",
       "Zalamea la Real                     32.594524   97.783572              0.0   \n",
       "Minas de Riotinto                   25.987526   77.962578              0.0   \n",
       "Moguer                             135.820355  289.750091              5.0   \n",
       "Huelva-Costa                       107.248842  225.604359             59.0   \n",
       "Huelva (capital)                    98.842430  204.645594             30.0   \n",
       "Lepe                               145.820422  298.931865              3.0   \n",
       "Huelva                              94.568110  191.877324             82.0   \n",
       "Beas                                23.490721   46.981442              0.0   \n",
       "Valverde del Camino                 15.600624   31.201248              0.0   \n",
       "Trigueros                           38.895371   77.790743              0.0   \n",
       "Palma del Condado (La)             343.834216  678.375616              1.0   \n",
       "Condado-Campiña                     98.673391  190.897541             23.0   \n",
       "Cartaya                            180.234305  345.449084             11.0   \n",
       "Palos de la Frontera               150.589069  283.461777              4.0   \n",
       "Paterna del Campo                  227.985181  427.472214              4.0   \n",
       "Aljaraque                          145.813735  258.701787              8.0   \n",
       "Sierra de Huelva-Andévalo Central   29.598496   48.837519              0.0   \n",
       "Ayamonte                            57.290175   85.935262              3.0   \n",
       "Villanueva de los Castillejos      141.843972  212.765957              2.0   \n",
       "Almonte                             16.535075   24.802613              1.0   \n",
       "Bollullos Par del Condado           91.087444  133.127803              0.0   \n",
       "Lucena del Puerto                  355.977455  504.301394              2.0   \n",
       "San Juan del Puerto                139.784946  193.548387              0.0   \n",
       "Bonares                            132.056784  165.070981              3.0   \n",
       "Jabugo                             488.888889  533.333333              0.0   \n",
       "Granado (El)                       193.798450  193.798450              0.0   \n",
       "Aroche                              97.624471   97.624471              0.0   \n",
       "Escacena del Campo                 131.348511  131.348511              0.0   \n",
       "Cortegana                           21.431633   21.431633              0.0   \n",
       "Aracena                             12.335019   12.335019              0.0   \n",
       "Alosno                              76.472088   76.472088              0.0   \n",
       "Villablanca                         35.112360   35.112360              0.0   \n",
       "\n",
       "Medida                                 7/14  \n",
       "Lugar de residencia                          \n",
       "Villalba del Alcor                 0.142857  \n",
       "San Bartolomé de la Torre          0.142857  \n",
       "Gibraleón                          0.181818  \n",
       "Punta Umbría                       0.312500  \n",
       "Isla Cristina                      0.326923  \n",
       "Zalamea la Real                    0.333333  \n",
       "Minas de Riotinto                  0.333333  \n",
       "Moguer                             0.468750  \n",
       "Huelva-Costa                       0.475385  \n",
       "Huelva (capital)                   0.482993  \n",
       "Lepe                               0.487805  \n",
       "Huelva                             0.492857  \n",
       "Beas                               0.500000  \n",
       "Valverde del Camino                0.500000  \n",
       "Trigueros                          0.500000  \n",
       "Palma del Condado (La)             0.506849  \n",
       "Condado-Campiña                    0.516892  \n",
       "Cartaya                            0.521739  \n",
       "Palos de la Frontera               0.531250  \n",
       "Paterna del Campo                  0.533333  \n",
       "Aljaraque                          0.563636  \n",
       "Sierra de Huelva-Andévalo Central  0.606061  \n",
       "Ayamonte                           0.666667  \n",
       "Villanueva de los Castillejos      0.666667  \n",
       "Almonte                            0.666667  \n",
       "Bollullos Par del Condado          0.684211  \n",
       "Lucena del Puerto                  0.705882  \n",
       "San Juan del Puerto                0.722222  \n",
       "Bonares                            0.800000  \n",
       "Jabugo                             0.916667  \n",
       "Granado (El)                       1.000000  \n",
       "Aroche                             1.000000  \n",
       "Escacena del Campo                 1.000000  \n",
       "Cortegana                          1.000000  \n",
       "Aracena                            1.000000  \n",
       "Alosno                             1.000000  \n",
       "Villablanca                        1.000000  "
      ],
      "text/html": "<div>\n<style scoped>\n    .dataframe tbody tr th:only-of-type {\n        vertical-align: middle;\n    }\n\n    .dataframe tbody tr th {\n        vertical-align: top;\n    }\n\n    .dataframe thead th {\n        text-align: right;\n    }\n</style>\n<table border=\"1\" class=\"dataframe\">\n  <thead>\n    <tr style=\"text-align: right;\">\n      <th>Medida</th>\n      <th>Confirmados PDIA</th>\n      <th>Confirmados PDIA 7 días</th>\n      <th>Confirmados PDIA 14 días</th>\n      <th>Población</th>\n      <th>tasa7</th>\n      <th>tasa14</th>\n      <th>Diferencia PDIA</th>\n      <th>7/14</th>\n    </tr>\n    <tr>\n      <th>Lugar de residencia</th>\n      <th></th>\n      <th></th>\n      <th></th>\n      <th></th>\n      <th></th>\n      <th></th>\n      <th></th>\n      <th></th>\n    </tr>\n  </thead>\n  <tbody>\n    <tr>\n      <th>Villalba del Alcor</th>\n      <td>103.0</td>\n      <td>1.0</td>\n      <td>7.0</td>\n      <td>3338.0</td>\n      <td>29.958059</td>\n      <td>209.706411</td>\n      <td>0.0</td>\n      <td>0.142857</td>\n    </tr>\n    <tr>\n      <th>San Bartolomé de la Torre</th>\n      <td>45.0</td>\n      <td>1.0</td>\n      <td>7.0</td>\n      <td>3736.0</td>\n      <td>26.766595</td>\n      <td>187.366167</td>\n      <td>0.0</td>\n      <td>0.142857</td>\n    </tr>\n    <tr>\n      <th>Gibraleón</th>\n      <td>349.0</td>\n      <td>2.0</td>\n      <td>11.0</td>\n      <td>12607.0</td>\n      <td>15.864202</td>\n      <td>87.253113</td>\n      <td>0.0</td>\n      <td>0.181818</td>\n    </tr>\n    <tr>\n      <th>Punta Umbría</th>\n      <td>232.0</td>\n      <td>5.0</td>\n      <td>16.0</td>\n      <td>15242.0</td>\n      <td>32.804094</td>\n      <td>104.973101</td>\n      <td>0.0</td>\n      <td>0.312500</td>\n    </tr>\n    <tr>\n      <th>Isla Cristina</th>\n      <td>410.0</td>\n      <td>34.0</td>\n      <td>104.0</td>\n      <td>21264.0</td>\n      <td>159.894658</td>\n      <td>489.089541</td>\n      <td>2.0</td>\n      <td>0.326923</td>\n    </tr>\n    <tr>\n      <th>Zalamea la Real</th>\n      <td>47.0</td>\n      <td>1.0</td>\n      <td>3.0</td>\n      <td>3068.0</td>\n      <td>32.594524</td>\n      <td>97.783572</td>\n      <td>0.0</td>\n      <td>0.333333</td>\n    </tr>\n    <tr>\n      <th>Minas de Riotinto</th>\n      <td>67.0</td>\n      <td>1.0</td>\n      <td>3.0</td>\n      <td>3848.0</td>\n      <td>25.987526</td>\n      <td>77.962578</td>\n      <td>0.0</td>\n      <td>0.333333</td>\n    </tr>\n    <tr>\n      <th>Moguer</th>\n      <td>367.0</td>\n      <td>30.0</td>\n      <td>64.0</td>\n      <td>22088.0</td>\n      <td>135.820355</td>\n      <td>289.750091</td>\n      <td>5.0</td>\n      <td>0.468750</td>\n    </tr>\n    <tr>\n      <th>Huelva-Costa</th>\n      <td>6049.0</td>\n      <td>309.0</td>\n      <td>650.0</td>\n      <td>288115.0</td>\n      <td>107.248842</td>\n      <td>225.604359</td>\n      <td>59.0</td>\n      <td>0.475385</td>\n    </tr>\n    <tr>\n      <th>Huelva (capital)</th>\n      <td>3045.0</td>\n      <td>142.0</td>\n      <td>294.0</td>\n      <td>143663.0</td>\n      <td>98.842430</td>\n      <td>204.645594</td>\n      <td>30.0</td>\n      <td>0.482993</td>\n    </tr>\n    <tr>\n      <th>Lepe</th>\n      <td>943.0</td>\n      <td>40.0</td>\n      <td>82.0</td>\n      <td>27431.0</td>\n      <td>145.820422</td>\n      <td>298.931865</td>\n      <td>3.0</td>\n      <td>0.487805</td>\n    </tr>\n    <tr>\n      <th>Huelva</th>\n      <td>10769.0</td>\n      <td>483.0</td>\n      <td>980.0</td>\n      <td>510743.0</td>\n      <td>94.568110</td>\n      <td>191.877324</td>\n      <td>82.0</td>\n      <td>0.492857</td>\n    </tr>\n    <tr>\n      <th>Beas</th>\n      <td>57.0</td>\n      <td>1.0</td>\n      <td>2.0</td>\n      <td>4257.0</td>\n      <td>23.490721</td>\n      <td>46.981442</td>\n      <td>0.0</td>\n      <td>0.500000</td>\n    </tr>\n    <tr>\n      <th>Valverde del Camino</th>\n      <td>273.0</td>\n      <td>2.0</td>\n      <td>4.0</td>\n      <td>12820.0</td>\n      <td>15.600624</td>\n      <td>31.201248</td>\n      <td>0.0</td>\n      <td>0.500000</td>\n    </tr>\n    <tr>\n      <th>Trigueros</th>\n      <td>131.0</td>\n      <td>3.0</td>\n      <td>6.0</td>\n      <td>7713.0</td>\n      <td>38.895371</td>\n      <td>77.790743</td>\n      <td>0.0</td>\n      <td>0.500000</td>\n    </tr>\n    <tr>\n      <th>Palma del Condado (La)</th>\n      <td>519.0</td>\n      <td>37.0</td>\n      <td>73.0</td>\n      <td>10761.0</td>\n      <td>343.834216</td>\n      <td>678.375616</td>\n      <td>1.0</td>\n      <td>0.506849</td>\n    </tr>\n    <tr>\n      <th>Condado-Campiña</th>\n      <td>3315.0</td>\n      <td>153.0</td>\n      <td>296.0</td>\n      <td>155057.0</td>\n      <td>98.673391</td>\n      <td>190.897541</td>\n      <td>23.0</td>\n      <td>0.516892</td>\n    </tr>\n    <tr>\n      <th>Cartaya</th>\n      <td>385.0</td>\n      <td>36.0</td>\n      <td>69.0</td>\n      <td>19974.0</td>\n      <td>180.234305</td>\n      <td>345.449084</td>\n      <td>11.0</td>\n      <td>0.521739</td>\n    </tr>\n    <tr>\n      <th>Palos de la Frontera</th>\n      <td>233.0</td>\n      <td>17.0</td>\n      <td>32.0</td>\n      <td>11289.0</td>\n      <td>150.589069</td>\n      <td>283.461777</td>\n      <td>4.0</td>\n      <td>0.531250</td>\n    </tr>\n    <tr>\n      <th>Paterna del Campo</th>\n      <td>68.0</td>\n      <td>8.0</td>\n      <td>15.0</td>\n      <td>3509.0</td>\n      <td>227.985181</td>\n      <td>427.472214</td>\n      <td>4.0</td>\n      <td>0.533333</td>\n    </tr>\n    <tr>\n      <th>Aljaraque</th>\n      <td>422.0</td>\n      <td>31.0</td>\n      <td>55.0</td>\n      <td>21260.0</td>\n      <td>145.813735</td>\n      <td>258.701787</td>\n      <td>8.0</td>\n      <td>0.563636</td>\n    </tr>\n    <tr>\n      <th>Sierra de Huelva-Andévalo Central</th>\n      <td>1283.0</td>\n      <td>20.0</td>\n      <td>33.0</td>\n      <td>67571.0</td>\n      <td>29.598496</td>\n      <td>48.837519</td>\n      <td>0.0</td>\n      <td>0.606061</td>\n    </tr>\n    <tr>\n      <th>Ayamonte</th>\n      <td>329.0</td>\n      <td>12.0</td>\n      <td>18.0</td>\n      <td>20946.0</td>\n      <td>57.290175</td>\n      <td>85.935262</td>\n      <td>3.0</td>\n      <td>0.666667</td>\n    </tr>\n    <tr>\n      <th>Villanueva de los Castillejos</th>\n      <td>62.0</td>\n      <td>4.0</td>\n      <td>6.0</td>\n      <td>2820.0</td>\n      <td>141.843972</td>\n      <td>212.765957</td>\n      <td>2.0</td>\n      <td>0.666667</td>\n    </tr>\n    <tr>\n      <th>Almonte</th>\n      <td>438.0</td>\n      <td>4.0</td>\n      <td>6.0</td>\n      <td>24191.0</td>\n      <td>16.535075</td>\n      <td>24.802613</td>\n      <td>1.0</td>\n      <td>0.666667</td>\n    </tr>\n    <tr>\n      <th>Bollullos Par del Condado</th>\n      <td>249.0</td>\n      <td>13.0</td>\n      <td>19.0</td>\n      <td>14272.0</td>\n      <td>91.087444</td>\n      <td>133.127803</td>\n      <td>0.0</td>\n      <td>0.684211</td>\n    </tr>\n    <tr>\n      <th>Lucena del Puerto</th>\n      <td>95.0</td>\n      <td>12.0</td>\n      <td>17.0</td>\n      <td>3371.0</td>\n      <td>355.977455</td>\n      <td>504.301394</td>\n      <td>2.0</td>\n      <td>0.705882</td>\n    </tr>\n    <tr>\n      <th>San Juan del Puerto</th>\n      <td>153.0</td>\n      <td>13.0</td>\n      <td>18.0</td>\n      <td>9300.0</td>\n      <td>139.784946</td>\n      <td>193.548387</td>\n      <td>0.0</td>\n      <td>0.722222</td>\n    </tr>\n    <tr>\n      <th>Bonares</th>\n      <td>51.0</td>\n      <td>8.0</td>\n      <td>10.0</td>\n      <td>6058.0</td>\n      <td>132.056784</td>\n      <td>165.070981</td>\n      <td>3.0</td>\n      <td>0.800000</td>\n    </tr>\n    <tr>\n      <th>Jabugo</th>\n      <td>46.0</td>\n      <td>11.0</td>\n      <td>12.0</td>\n      <td>2250.0</td>\n      <td>488.888889</td>\n      <td>533.333333</td>\n      <td>0.0</td>\n      <td>0.916667</td>\n    </tr>\n    <tr>\n      <th>Granado (El)</th>\n      <td>37.0</td>\n      <td>1.0</td>\n      <td>1.0</td>\n      <td>516.0</td>\n      <td>193.798450</td>\n      <td>193.798450</td>\n      <td>0.0</td>\n      <td>1.000000</td>\n    </tr>\n    <tr>\n      <th>Aroche</th>\n      <td>55.0</td>\n      <td>3.0</td>\n      <td>3.0</td>\n      <td>3073.0</td>\n      <td>97.624471</td>\n      <td>97.624471</td>\n      <td>0.0</td>\n      <td>1.000000</td>\n    </tr>\n    <tr>\n      <th>Escacena del Campo</th>\n      <td>94.0</td>\n      <td>3.0</td>\n      <td>3.0</td>\n      <td>2284.0</td>\n      <td>131.348511</td>\n      <td>131.348511</td>\n      <td>0.0</td>\n      <td>1.000000</td>\n    </tr>\n    <tr>\n      <th>Cortegana</th>\n      <td>122.0</td>\n      <td>1.0</td>\n      <td>1.0</td>\n      <td>4666.0</td>\n      <td>21.431633</td>\n      <td>21.431633</td>\n      <td>0.0</td>\n      <td>1.000000</td>\n    </tr>\n    <tr>\n      <th>Aracena</th>\n      <td>286.0</td>\n      <td>1.0</td>\n      <td>1.0</td>\n      <td>8107.0</td>\n      <td>12.335019</td>\n      <td>12.335019</td>\n      <td>0.0</td>\n      <td>1.000000</td>\n    </tr>\n    <tr>\n      <th>Alosno</th>\n      <td>44.0</td>\n      <td>3.0</td>\n      <td>3.0</td>\n      <td>3923.0</td>\n      <td>76.472088</td>\n      <td>76.472088</td>\n      <td>0.0</td>\n      <td>1.000000</td>\n    </tr>\n    <tr>\n      <th>Villablanca</th>\n      <td>55.0</td>\n      <td>1.0</td>\n      <td>1.0</td>\n      <td>2848.0</td>\n      <td>35.112360</td>\n      <td>35.112360</td>\n      <td>0.0</td>\n      <td>1.000000</td>\n    </tr>\n  </tbody>\n</table>\n</div>"
     },
     "metadata": {},
     "execution_count": 18
    }
   ],
   "source": [
    "# Peso de la tasa de la última semana en relación con la tasa a 14 días \n",
    "# Mejor cuanto menor. Valor 1 significa que no había casos antes de 7 días.\n",
    "tabla['7/14'] = tabla['tasa7'] / tabla['tasa14']\n",
    "tabla.fillna(0).sort_values('7/14', ascending=True)"
   ]
  },
  {
   "cell_type": "code",
   "execution_count": null,
   "metadata": {},
   "outputs": [],
   "source": []
  }
 ]
}