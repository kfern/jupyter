{
 "metadata": {
  "language_info": {
   "codemirror_mode": {
    "name": "ipython",
    "version": 3
   },
   "file_extension": ".py",
   "mimetype": "text/x-python",
   "name": "python",
   "nbconvert_exporter": "python",
   "pygments_lexer": "ipython3",
   "version": "3.8.6-final"
  },
  "orig_nbformat": 2,
  "kernelspec": {
   "name": "python3",
   "display_name": "Python 3",
   "language": "python"
  }
 },
 "nbformat": 4,
 "nbformat_minor": 2,
 "cells": [
  {
   "cell_type": "code",
   "execution_count": 1,
   "metadata": {},
   "outputs": [],
   "source": [
    "import pandas as pd\n",
    "pd.set_option('display.max_rows', None) # Print all rows"
   ]
  },
  {
   "cell_type": "code",
   "execution_count": 2,
   "metadata": {},
   "outputs": [],
   "source": [
    "# FIX SSL: CERTIFICATE_VERIFY_FAILED with Python3\n",
    "# https://stackoverflow.com/a/49174340\n",
    "import ssl\n",
    "\n",
    "ssl._create_default_https_context = ssl._create_unverified_context"
   ]
  },
  {
   "cell_type": "code",
   "execution_count": 3,
   "metadata": {},
   "outputs": [],
   "source": [
    "url = 'https://www.juntadeandalucia.es/institutodeestadisticaycartografia/badea/stpivot/stpivot/Print?cube=013d884c-cfc5-4c21-9e78-e26225682afd&type=3&foto=si&ejecutaDesde=&codConsulta=38668&consTipoVisua=JP'\n",
    "fields = ['Lugar de residencia', 'Medida', 'Valor']\n",
    "df = pd.read_csv(url, delimiter=';', usecols=fields, decimal=',')"
   ]
  },
  {
   "cell_type": "code",
   "execution_count": 4,
   "metadata": {},
   "outputs": [
    {
     "output_type": "execute_result",
     "data": {
      "text/plain": [
       "  Lugar de residencia                    Medida              Valor\n",
       "0              Huelva                 Población             513170\n",
       "1              Huelva          Confirmados PDIA              27160\n",
       "2              Huelva  Confirmados PDIA 14 días               1454\n",
       "3              Huelva         Tasa PDIA 14 días  283,3369058986301\n",
       "4              Huelva   Confirmados PDIA 7 días                611\n",
       "5              Huelva        Total Confirmados               27334\n",
       "6              Huelva                   Curados              22801\n",
       "7              Huelva                Fallecidos                356"
      ],
      "text/html": "<div>\n<style scoped>\n    .dataframe tbody tr th:only-of-type {\n        vertical-align: middle;\n    }\n\n    .dataframe tbody tr th {\n        vertical-align: top;\n    }\n\n    .dataframe thead th {\n        text-align: right;\n    }\n</style>\n<table border=\"1\" class=\"dataframe\">\n  <thead>\n    <tr style=\"text-align: right;\">\n      <th></th>\n      <th>Lugar de residencia</th>\n      <th>Medida</th>\n      <th>Valor</th>\n    </tr>\n  </thead>\n  <tbody>\n    <tr>\n      <th>0</th>\n      <td>Huelva</td>\n      <td>Población</td>\n      <td>513170</td>\n    </tr>\n    <tr>\n      <th>1</th>\n      <td>Huelva</td>\n      <td>Confirmados PDIA</td>\n      <td>27160</td>\n    </tr>\n    <tr>\n      <th>2</th>\n      <td>Huelva</td>\n      <td>Confirmados PDIA 14 días</td>\n      <td>1454</td>\n    </tr>\n    <tr>\n      <th>3</th>\n      <td>Huelva</td>\n      <td>Tasa PDIA 14 días</td>\n      <td>283,3369058986301</td>\n    </tr>\n    <tr>\n      <th>4</th>\n      <td>Huelva</td>\n      <td>Confirmados PDIA 7 días</td>\n      <td>611</td>\n    </tr>\n    <tr>\n      <th>5</th>\n      <td>Huelva</td>\n      <td>Total Confirmados</td>\n      <td>27334</td>\n    </tr>\n    <tr>\n      <th>6</th>\n      <td>Huelva</td>\n      <td>Curados</td>\n      <td>22801</td>\n    </tr>\n    <tr>\n      <th>7</th>\n      <td>Huelva</td>\n      <td>Fallecidos</td>\n      <td>356</td>\n    </tr>\n  </tbody>\n</table>\n</div>"
     },
     "metadata": {},
     "execution_count": 4
    }
   ],
   "source": [
    "df[df['Lugar de residencia'] == 'Huelva']"
   ]
  },
  {
   "cell_type": "code",
   "execution_count": 5,
   "metadata": {},
   "outputs": [],
   "source": [
    "df['Valor'] = pd.to_numeric(df['Valor'],errors='coerce')"
   ]
  },
  {
   "cell_type": "code",
   "execution_count": 6,
   "metadata": {},
   "outputs": [],
   "source": [
    "dfAnterior = pd.read_csv('covid_huelva.csv', index_col='Lugar de residencia')"
   ]
  },
  {
   "cell_type": "code",
   "execution_count": 7,
   "metadata": {
    "tags": []
   },
   "outputs": [
    {
     "output_type": "stream",
     "name": "stdout",
     "text": [
      "Confirmados PCR en la provincia de Huelva:  27160.0\n",
      "<ipython-input-7-31b732756b19>:2: UserWarning: Boolean Series key will be reindexed to match DataFrame index.\n",
      "  p = df[df['Lugar de residencia'] == 'Huelva'][df['Medida'] == 'Confirmados PDIA']['Valor'].values[0]\n"
     ]
    }
   ],
   "source": [
    "# Confirmados PCR provincia Huelva\n",
    "p = df[df['Lugar de residencia'] == 'Huelva'][df['Medida'] == 'Confirmados PDIA']['Valor'].values[0]\n",
    "print('Confirmados PCR en la provincia de Huelva: ', p)"
   ]
  },
  {
   "cell_type": "code",
   "execution_count": 8,
   "metadata": {
    "tags": []
   },
   "outputs": [
    {
     "output_type": "stream",
     "name": "stdout",
     "text": [
      "Confirmados PCR en Huelva capital:  7048.0\n",
      "<ipython-input-8-e81bfb40e710>:2: UserWarning: Boolean Series key will be reindexed to match DataFrame index.\n",
      "  c = df[df['Lugar de residencia'] == 'Huelva (capital)'][df['Medida'] == 'Confirmados PDIA']['Valor'].values[0]\n"
     ]
    }
   ],
   "source": [
    "# Confirmados PCR Huelva capitalpd\n",
    "c = df[df['Lugar de residencia'] == 'Huelva (capital)'][df['Medida'] == 'Confirmados PDIA']['Valor'].values[0]\n",
    "print('Confirmados PCR en Huelva capital: ', c)"
   ]
  },
  {
   "cell_type": "code",
   "execution_count": 9,
   "metadata": {
    "tags": []
   },
   "outputs": [
    {
     "output_type": "stream",
     "name": "stderr",
     "text": [
      "<ipython-input-9-f09dd2050cc1>:1: UserWarning: Boolean Series key will be reindexed to match DataFrame index.\n  c7 = df[df['Lugar de residencia'] == 'Huelva (capital)'][df['Medida'] == 'Confirmados PDIA 7 días']['Valor'].values[0]\n<ipython-input-9-f09dd2050cc1>:2: UserWarning: Boolean Series key will be reindexed to match DataFrame index.\n  c14 = df[df['Lugar de residencia'] == 'Huelva (capital)'][df['Medida'] == 'Confirmados PDIA 14 días']['Valor'].values[0]\n<ipython-input-9-f09dd2050cc1>:3: UserWarning: Boolean Series key will be reindexed to match DataFrame index.\n  p = df[df['Lugar de residencia'] == 'Huelva (capital)'][df['Medida'] == 'Población']['Valor'].values[0]\n"
     ]
    }
   ],
   "source": [
    "c7 = df[df['Lugar de residencia'] == 'Huelva (capital)'][df['Medida'] == 'Confirmados PDIA 7 días']['Valor'].values[0]\n",
    "c14 = df[df['Lugar de residencia'] == 'Huelva (capital)'][df['Medida'] == 'Confirmados PDIA 14 días']['Valor'].values[0]\n",
    "p = df[df['Lugar de residencia'] == 'Huelva (capital)'][df['Medida'] == 'Población']['Valor'].values[0]"
   ]
  },
  {
   "cell_type": "code",
   "execution_count": 10,
   "metadata": {
    "tags": []
   },
   "outputs": [
    {
     "output_type": "stream",
     "name": "stdout",
     "text": [
      "Huelva (capital)\n\nUn positivo PCR cada 1219 personas en los últimos 7 días \n\nUn positivo PCR cada 462 personas en los últimos 14 días\n"
     ]
    }
   ],
   "source": [
    "print('Huelva (capital)\\n')\n",
    "#print('Confirmados PCR 7 días x 1,000 habitantes: ', f\"{c7/(p/1000):.5f}\")\n",
    "print('Un positivo PCR cada', f\"{p/c7:.0f}\", 'personas en los últimos 7 días', '\\n')\n",
    "#print('Confirmados PCR 14 días x 1,000 habitantes: ', f\"{c14/(p/1000):.5f}\")\n",
    "print('Un positivo PCR cada', f\"{p/c14:.0f}\", 'personas en los últimos 14 días')"
   ]
  },
  {
   "cell_type": "code",
   "execution_count": 11,
   "metadata": {},
   "outputs": [],
   "source": [
    "filtro = ((df['Medida'] == 'Confirmados PDIA')| (df['Medida'] == 'Confirmados PDIA 7 días') | (df['Medida'] == 'Población' ) | (df['Medida'] == 'Confirmados PDIA 14 días')) & (df['Valor'] > 0)\n",
    "tabla = pd.pivot_table(df.loc[filtro], values='Valor', index='Lugar de residencia', columns='Medida').dropna()"
   ]
  },
  {
   "cell_type": "code",
   "execution_count": 12,
   "metadata": {},
   "outputs": [],
   "source": [
    "# Reorder columns\n",
    "tabla = tabla[['Confirmados PDIA', 'Confirmados PDIA 7 días', 'Confirmados PDIA 14 días', 'Población']]"
   ]
  },
  {
   "cell_type": "code",
   "execution_count": 13,
   "metadata": {},
   "outputs": [],
   "source": [
    "tabla['tasa7'] = tabla['Confirmados PDIA 7 días']/tabla['Población']*100000\n",
    "tabla['tasa14'] = tabla['Confirmados PDIA 14 días']/tabla['Población']*100000"
   ]
  },
  {
   "cell_type": "code",
   "execution_count": 14,
   "metadata": {},
   "outputs": [],
   "source": [
    "tabla['Diferencia PDIA'] = tabla['Confirmados PDIA'] - dfAnterior['Confirmados PDIA']"
   ]
  },
  {
   "cell_type": "code",
   "execution_count": 15,
   "metadata": {},
   "outputs": [
    {
     "output_type": "execute_result",
     "data": {
      "text/plain": [
       "Medida                             Confirmados PDIA  Confirmados PDIA 7 días  \\\n",
       "Lugar de residencia                                                            \n",
       "Huelva                                      27160.0                    611.0   \n",
       "Condado-Campiña                              8253.0                    306.0   \n",
       "Huelva-Costa                                16058.0                    249.0   \n",
       "Almonte                                      1295.0                    127.0   \n",
       "Huelva (capital)                             7048.0                    118.0   \n",
       "Cartaya                                      1189.0                     82.0   \n",
       "Sierra de Huelva-Andévalo Central            2419.0                     47.0   \n",
       "Moguer                                        999.0                     42.0   \n",
       "Rociana del Condado                           451.0                     31.0   \n",
       "Lepe                                         2055.0                     19.0   \n",
       "Bollullos Par del Condado                     731.0                     24.0   \n",
       "Campillo (El)                                  70.0                      7.0   \n",
       "Palos de la Frontera                          548.0                     29.0   \n",
       "Aracena                                       494.0                     16.0   \n",
       "Beas                                          170.0                      5.0   \n",
       "Bonares                                       223.0                      4.0   \n",
       "Niebla                                        187.0                      5.0   \n",
       "Ayamonte                                     1258.0                      5.0   \n",
       "Trigueros                                     252.0                      7.0   \n",
       "Minas de Riotinto                             106.0                      6.0   \n",
       "Valverde del Camino                           448.0                     11.0   \n",
       "Aljaraque                                     971.0                     11.0   \n",
       "Lucena del Puerto                             185.0                      9.0   \n",
       "Villarrasa                                    141.0                      2.0   \n",
       "Palma del Condado (La)                       1012.0                      5.0   \n",
       "Almonaster la Real                             57.0                      3.0   \n",
       "San Bartolomé de la Torre                     275.0                      9.0   \n",
       "San Juan del Puerto                           408.0                      5.0   \n",
       "Calañas                                       174.0                      1.0   \n",
       "Aroche                                         87.0                      2.0   \n",
       "Alosno                                        161.0                      5.0   \n",
       "Almendro (El)                                  35.0                      1.0   \n",
       "Isla Cristina                                2018.0                      2.0   \n",
       "\n",
       "Medida                             Confirmados PDIA 14 días  Población  \\\n",
       "Lugar de residencia                                                      \n",
       "Huelva                                               1454.0   513170.0   \n",
       "Condado-Campiña                                       737.0   156231.0   \n",
       "Huelva-Costa                                          599.0   289548.0   \n",
       "Almonte                                               254.0    24507.0   \n",
       "Huelva (capital)                                      311.0   143837.0   \n",
       "Cartaya                                               173.0    20083.0   \n",
       "Sierra de Huelva-Andévalo Central                      88.0    67391.0   \n",
       "Moguer                                                104.0    21867.0   \n",
       "Rociana del Condado                                    70.0     7939.0   \n",
       "Lepe                                                   29.0    27880.0   \n",
       "Bollullos Par del Condado                              44.0    14387.0   \n",
       "Campillo (El)                                           9.0     2024.0   \n",
       "Palos de la Frontera                                   59.0    11742.0   \n",
       "Aracena                                                37.0     8255.0   \n",
       "Beas                                                    7.0     4341.0   \n",
       "Bonares                                                28.0     6060.0   \n",
       "Niebla                                                 11.0     4116.0   \n",
       "Ayamonte                                                9.0    21104.0   \n",
       "Trigueros                                              20.0     7862.0   \n",
       "Minas de Riotinto                                       6.0     3812.0   \n",
       "Valverde del Camino                                    18.0    12750.0   \n",
       "Aljaraque                                              37.0    21474.0   \n",
       "Lucena del Puerto                                      22.0     3261.0   \n",
       "Villarrasa                                              8.0     2211.0   \n",
       "Palma del Condado (La)                                 16.0    10801.0   \n",
       "Almonaster la Real                                      4.0     1788.0   \n",
       "San Bartolomé de la Torre                              38.0     3761.0   \n",
       "San Juan del Puerto                                    33.0     9411.0   \n",
       "Calañas                                                 2.0     2768.0   \n",
       "Aroche                                                  4.0     3054.0   \n",
       "Alosno                                                 11.0     3933.0   \n",
       "Almendro (El)                                           1.0      840.0   \n",
       "Isla Cristina                                           5.0    21393.0   \n",
       "\n",
       "Medida                                  tasa7       tasa14  Diferencia PDIA  \n",
       "Lugar de residencia                                                          \n",
       "Huelva                             119.063858   283.336906            283.0  \n",
       "Condado-Campiña                    195.863817   471.737363            135.0  \n",
       "Huelva-Costa                        85.996104   206.874162            121.0  \n",
       "Almonte                            518.219284  1036.438569             62.0  \n",
       "Huelva (capital)                    82.037306   216.216968             57.0  \n",
       "Cartaya                            408.305532   861.425086             42.0  \n",
       "Sierra de Huelva-Andévalo Central   69.742250   130.581235             22.0  \n",
       "Moguer                             192.070243   475.602506             19.0  \n",
       "Rociana del Condado                390.477390   881.723139             16.0  \n",
       "Lepe                                68.149211   104.017217             12.0  \n",
       "Bollullos Par del Condado          166.817266   305.831654              8.0  \n",
       "Campillo (El)                      345.849802   444.664032              7.0  \n",
       "Palos de la Frontera               246.976665   502.469767              7.0  \n",
       "Aracena                            193.821926   448.213204              5.0  \n",
       "Beas                               115.180834   161.253167              4.0  \n",
       "Bonares                             66.006601   462.046205              4.0  \n",
       "Niebla                             121.477162   267.249757              4.0  \n",
       "Ayamonte                            23.692191    42.645944              4.0  \n",
       "Trigueros                           89.035869   254.388196              4.0  \n",
       "Minas de Riotinto                  157.397692   157.397692              4.0  \n",
       "Valverde del Camino                 86.274510   141.176471              3.0  \n",
       "Aljaraque                           51.224737   172.301388              2.0  \n",
       "Lucena del Puerto                  275.988960   674.639681              2.0  \n",
       "Villarrasa                          90.456807   361.827227              2.0  \n",
       "Palma del Condado (La)              46.292010   148.134432              1.0  \n",
       "Almonaster la Real                 167.785235   223.713647              1.0  \n",
       "San Bartolomé de la Torre          239.298059  1010.369583              1.0  \n",
       "San Juan del Puerto                 53.129317   350.653491              1.0  \n",
       "Calañas                             36.127168    72.254335              1.0  \n",
       "Aroche                              65.487885   130.975769              1.0  \n",
       "Alosno                             127.129418   279.684719              1.0  \n",
       "Almendro (El)                      119.047619   119.047619              NaN  \n",
       "Isla Cristina                        9.348852    23.372131              NaN  "
      ],
      "text/html": "<div>\n<style scoped>\n    .dataframe tbody tr th:only-of-type {\n        vertical-align: middle;\n    }\n\n    .dataframe tbody tr th {\n        vertical-align: top;\n    }\n\n    .dataframe thead th {\n        text-align: right;\n    }\n</style>\n<table border=\"1\" class=\"dataframe\">\n  <thead>\n    <tr style=\"text-align: right;\">\n      <th>Medida</th>\n      <th>Confirmados PDIA</th>\n      <th>Confirmados PDIA 7 días</th>\n      <th>Confirmados PDIA 14 días</th>\n      <th>Población</th>\n      <th>tasa7</th>\n      <th>tasa14</th>\n      <th>Diferencia PDIA</th>\n    </tr>\n    <tr>\n      <th>Lugar de residencia</th>\n      <th></th>\n      <th></th>\n      <th></th>\n      <th></th>\n      <th></th>\n      <th></th>\n      <th></th>\n    </tr>\n  </thead>\n  <tbody>\n    <tr>\n      <th>Huelva</th>\n      <td>27160.0</td>\n      <td>611.0</td>\n      <td>1454.0</td>\n      <td>513170.0</td>\n      <td>119.063858</td>\n      <td>283.336906</td>\n      <td>283.0</td>\n    </tr>\n    <tr>\n      <th>Condado-Campiña</th>\n      <td>8253.0</td>\n      <td>306.0</td>\n      <td>737.0</td>\n      <td>156231.0</td>\n      <td>195.863817</td>\n      <td>471.737363</td>\n      <td>135.0</td>\n    </tr>\n    <tr>\n      <th>Huelva-Costa</th>\n      <td>16058.0</td>\n      <td>249.0</td>\n      <td>599.0</td>\n      <td>289548.0</td>\n      <td>85.996104</td>\n      <td>206.874162</td>\n      <td>121.0</td>\n    </tr>\n    <tr>\n      <th>Almonte</th>\n      <td>1295.0</td>\n      <td>127.0</td>\n      <td>254.0</td>\n      <td>24507.0</td>\n      <td>518.219284</td>\n      <td>1036.438569</td>\n      <td>62.0</td>\n    </tr>\n    <tr>\n      <th>Huelva (capital)</th>\n      <td>7048.0</td>\n      <td>118.0</td>\n      <td>311.0</td>\n      <td>143837.0</td>\n      <td>82.037306</td>\n      <td>216.216968</td>\n      <td>57.0</td>\n    </tr>\n    <tr>\n      <th>Cartaya</th>\n      <td>1189.0</td>\n      <td>82.0</td>\n      <td>173.0</td>\n      <td>20083.0</td>\n      <td>408.305532</td>\n      <td>861.425086</td>\n      <td>42.0</td>\n    </tr>\n    <tr>\n      <th>Sierra de Huelva-Andévalo Central</th>\n      <td>2419.0</td>\n      <td>47.0</td>\n      <td>88.0</td>\n      <td>67391.0</td>\n      <td>69.742250</td>\n      <td>130.581235</td>\n      <td>22.0</td>\n    </tr>\n    <tr>\n      <th>Moguer</th>\n      <td>999.0</td>\n      <td>42.0</td>\n      <td>104.0</td>\n      <td>21867.0</td>\n      <td>192.070243</td>\n      <td>475.602506</td>\n      <td>19.0</td>\n    </tr>\n    <tr>\n      <th>Rociana del Condado</th>\n      <td>451.0</td>\n      <td>31.0</td>\n      <td>70.0</td>\n      <td>7939.0</td>\n      <td>390.477390</td>\n      <td>881.723139</td>\n      <td>16.0</td>\n    </tr>\n    <tr>\n      <th>Lepe</th>\n      <td>2055.0</td>\n      <td>19.0</td>\n      <td>29.0</td>\n      <td>27880.0</td>\n      <td>68.149211</td>\n      <td>104.017217</td>\n      <td>12.0</td>\n    </tr>\n    <tr>\n      <th>Bollullos Par del Condado</th>\n      <td>731.0</td>\n      <td>24.0</td>\n      <td>44.0</td>\n      <td>14387.0</td>\n      <td>166.817266</td>\n      <td>305.831654</td>\n      <td>8.0</td>\n    </tr>\n    <tr>\n      <th>Campillo (El)</th>\n      <td>70.0</td>\n      <td>7.0</td>\n      <td>9.0</td>\n      <td>2024.0</td>\n      <td>345.849802</td>\n      <td>444.664032</td>\n      <td>7.0</td>\n    </tr>\n    <tr>\n      <th>Palos de la Frontera</th>\n      <td>548.0</td>\n      <td>29.0</td>\n      <td>59.0</td>\n      <td>11742.0</td>\n      <td>246.976665</td>\n      <td>502.469767</td>\n      <td>7.0</td>\n    </tr>\n    <tr>\n      <th>Aracena</th>\n      <td>494.0</td>\n      <td>16.0</td>\n      <td>37.0</td>\n      <td>8255.0</td>\n      <td>193.821926</td>\n      <td>448.213204</td>\n      <td>5.0</td>\n    </tr>\n    <tr>\n      <th>Beas</th>\n      <td>170.0</td>\n      <td>5.0</td>\n      <td>7.0</td>\n      <td>4341.0</td>\n      <td>115.180834</td>\n      <td>161.253167</td>\n      <td>4.0</td>\n    </tr>\n    <tr>\n      <th>Bonares</th>\n      <td>223.0</td>\n      <td>4.0</td>\n      <td>28.0</td>\n      <td>6060.0</td>\n      <td>66.006601</td>\n      <td>462.046205</td>\n      <td>4.0</td>\n    </tr>\n    <tr>\n      <th>Niebla</th>\n      <td>187.0</td>\n      <td>5.0</td>\n      <td>11.0</td>\n      <td>4116.0</td>\n      <td>121.477162</td>\n      <td>267.249757</td>\n      <td>4.0</td>\n    </tr>\n    <tr>\n      <th>Ayamonte</th>\n      <td>1258.0</td>\n      <td>5.0</td>\n      <td>9.0</td>\n      <td>21104.0</td>\n      <td>23.692191</td>\n      <td>42.645944</td>\n      <td>4.0</td>\n    </tr>\n    <tr>\n      <th>Trigueros</th>\n      <td>252.0</td>\n      <td>7.0</td>\n      <td>20.0</td>\n      <td>7862.0</td>\n      <td>89.035869</td>\n      <td>254.388196</td>\n      <td>4.0</td>\n    </tr>\n    <tr>\n      <th>Minas de Riotinto</th>\n      <td>106.0</td>\n      <td>6.0</td>\n      <td>6.0</td>\n      <td>3812.0</td>\n      <td>157.397692</td>\n      <td>157.397692</td>\n      <td>4.0</td>\n    </tr>\n    <tr>\n      <th>Valverde del Camino</th>\n      <td>448.0</td>\n      <td>11.0</td>\n      <td>18.0</td>\n      <td>12750.0</td>\n      <td>86.274510</td>\n      <td>141.176471</td>\n      <td>3.0</td>\n    </tr>\n    <tr>\n      <th>Aljaraque</th>\n      <td>971.0</td>\n      <td>11.0</td>\n      <td>37.0</td>\n      <td>21474.0</td>\n      <td>51.224737</td>\n      <td>172.301388</td>\n      <td>2.0</td>\n    </tr>\n    <tr>\n      <th>Lucena del Puerto</th>\n      <td>185.0</td>\n      <td>9.0</td>\n      <td>22.0</td>\n      <td>3261.0</td>\n      <td>275.988960</td>\n      <td>674.639681</td>\n      <td>2.0</td>\n    </tr>\n    <tr>\n      <th>Villarrasa</th>\n      <td>141.0</td>\n      <td>2.0</td>\n      <td>8.0</td>\n      <td>2211.0</td>\n      <td>90.456807</td>\n      <td>361.827227</td>\n      <td>2.0</td>\n    </tr>\n    <tr>\n      <th>Palma del Condado (La)</th>\n      <td>1012.0</td>\n      <td>5.0</td>\n      <td>16.0</td>\n      <td>10801.0</td>\n      <td>46.292010</td>\n      <td>148.134432</td>\n      <td>1.0</td>\n    </tr>\n    <tr>\n      <th>Almonaster la Real</th>\n      <td>57.0</td>\n      <td>3.0</td>\n      <td>4.0</td>\n      <td>1788.0</td>\n      <td>167.785235</td>\n      <td>223.713647</td>\n      <td>1.0</td>\n    </tr>\n    <tr>\n      <th>San Bartolomé de la Torre</th>\n      <td>275.0</td>\n      <td>9.0</td>\n      <td>38.0</td>\n      <td>3761.0</td>\n      <td>239.298059</td>\n      <td>1010.369583</td>\n      <td>1.0</td>\n    </tr>\n    <tr>\n      <th>San Juan del Puerto</th>\n      <td>408.0</td>\n      <td>5.0</td>\n      <td>33.0</td>\n      <td>9411.0</td>\n      <td>53.129317</td>\n      <td>350.653491</td>\n      <td>1.0</td>\n    </tr>\n    <tr>\n      <th>Calañas</th>\n      <td>174.0</td>\n      <td>1.0</td>\n      <td>2.0</td>\n      <td>2768.0</td>\n      <td>36.127168</td>\n      <td>72.254335</td>\n      <td>1.0</td>\n    </tr>\n    <tr>\n      <th>Aroche</th>\n      <td>87.0</td>\n      <td>2.0</td>\n      <td>4.0</td>\n      <td>3054.0</td>\n      <td>65.487885</td>\n      <td>130.975769</td>\n      <td>1.0</td>\n    </tr>\n    <tr>\n      <th>Alosno</th>\n      <td>161.0</td>\n      <td>5.0</td>\n      <td>11.0</td>\n      <td>3933.0</td>\n      <td>127.129418</td>\n      <td>279.684719</td>\n      <td>1.0</td>\n    </tr>\n    <tr>\n      <th>Almendro (El)</th>\n      <td>35.0</td>\n      <td>1.0</td>\n      <td>1.0</td>\n      <td>840.0</td>\n      <td>119.047619</td>\n      <td>119.047619</td>\n      <td>NaN</td>\n    </tr>\n    <tr>\n      <th>Isla Cristina</th>\n      <td>2018.0</td>\n      <td>2.0</td>\n      <td>5.0</td>\n      <td>21393.0</td>\n      <td>9.348852</td>\n      <td>23.372131</td>\n      <td>NaN</td>\n    </tr>\n  </tbody>\n</table>\n</div>"
     },
     "metadata": {},
     "execution_count": 15
    }
   ],
   "source": [
    "# Nuevos casos desde la última captura\n",
    "tabla[tabla['Diferencia PDIA'] != 0].sort_values('Diferencia PDIA', ascending=False)"
   ]
  },
  {
   "cell_type": "code",
   "execution_count": 16,
   "metadata": {},
   "outputs": [],
   "source": [
    "if tabla[tabla['Diferencia PDIA'] != 0]['Diferencia PDIA'].sum() != 0:\n",
    "  # Save to csv\n",
    "  tabla.to_csv('covid_huelva.csv', encoding='utf-8', header=True, index=True)  "
   ]
  },
  {
   "cell_type": "code",
   "execution_count": 17,
   "metadata": {},
   "outputs": [
    {
     "output_type": "execute_result",
     "data": {
      "text/plain": [
       "Medida                             Confirmados PDIA  Confirmados PDIA 7 días  \\\n",
       "Lugar de residencia                                                            \n",
       "Almonte                                      1295.0                    127.0   \n",
       "San Bartolomé de la Torre                     275.0                      9.0   \n",
       "Rociana del Condado                           451.0                     31.0   \n",
       "Cartaya                                      1189.0                     82.0   \n",
       "Lucena del Puerto                             185.0                      9.0   \n",
       "Palos de la Frontera                          548.0                     29.0   \n",
       "Moguer                                        999.0                     42.0   \n",
       "Condado-Campiña                              8253.0                    306.0   \n",
       "Bonares                                       223.0                      4.0   \n",
       "Aracena                                       494.0                     16.0   \n",
       "Campillo (El)                                  70.0                      7.0   \n",
       "Villarrasa                                    141.0                      2.0   \n",
       "San Juan del Puerto                           408.0                      5.0   \n",
       "Bollullos Par del Condado                     731.0                     24.0   \n",
       "Huelva                                      27160.0                    611.0   \n",
       "Alosno                                        161.0                      5.0   \n",
       "Niebla                                        187.0                      5.0   \n",
       "Trigueros                                     252.0                      7.0   \n",
       "Villalba del Alcor                            470.0                      1.0   \n",
       "Almonaster la Real                             57.0                      3.0   \n",
       "Huelva (capital)                             7048.0                    118.0   \n",
       "Huelva-Costa                                16058.0                    249.0   \n",
       "Aljaraque                                     971.0                     11.0   \n",
       "Beas                                          170.0                      5.0   \n",
       "Minas de Riotinto                             106.0                      6.0   \n",
       "Higuera de la Sierra                           32.0                      1.0   \n",
       "Palma del Condado (La)                       1012.0                      5.0   \n",
       "Valverde del Camino                           448.0                     11.0   \n",
       "Aroche                                         87.0                      2.0   \n",
       "Sierra de Huelva-Andévalo Central            2419.0                     47.0   \n",
       "Almendro (El)                                  35.0                      1.0   \n",
       "Villanueva de los Castillejos                 157.0                      1.0   \n",
       "Lepe                                         2055.0                     19.0   \n",
       "Punta Umbría                                  683.0                      4.0   \n",
       "Gibraleón                                     556.0                      1.0   \n",
       "Calañas                                       174.0                      1.0   \n",
       "Ayamonte                                     1258.0                      5.0   \n",
       "Puebla de Guzmán                              111.0                      1.0   \n",
       "Isla Cristina                                2018.0                      2.0   \n",
       "\n",
       "Medida                             Confirmados PDIA 14 días  Población  \\\n",
       "Lugar de residencia                                                      \n",
       "Almonte                                               254.0    24507.0   \n",
       "San Bartolomé de la Torre                              38.0     3761.0   \n",
       "Rociana del Condado                                    70.0     7939.0   \n",
       "Cartaya                                               173.0    20083.0   \n",
       "Lucena del Puerto                                      22.0     3261.0   \n",
       "Palos de la Frontera                                   59.0    11742.0   \n",
       "Moguer                                                104.0    21867.0   \n",
       "Condado-Campiña                                       737.0   156231.0   \n",
       "Bonares                                                28.0     6060.0   \n",
       "Aracena                                                37.0     8255.0   \n",
       "Campillo (El)                                           9.0     2024.0   \n",
       "Villarrasa                                              8.0     2211.0   \n",
       "San Juan del Puerto                                    33.0     9411.0   \n",
       "Bollullos Par del Condado                              44.0    14387.0   \n",
       "Huelva                                               1454.0   513170.0   \n",
       "Alosno                                                 11.0     3933.0   \n",
       "Niebla                                                 11.0     4116.0   \n",
       "Trigueros                                              20.0     7862.0   \n",
       "Villalba del Alcor                                      8.0     3366.0   \n",
       "Almonaster la Real                                      4.0     1788.0   \n",
       "Huelva (capital)                                      311.0   143837.0   \n",
       "Huelva-Costa                                          599.0   289548.0   \n",
       "Aljaraque                                              37.0    21474.0   \n",
       "Beas                                                    7.0     4341.0   \n",
       "Minas de Riotinto                                       6.0     3812.0   \n",
       "Higuera de la Sierra                                    2.0     1291.0   \n",
       "Palma del Condado (La)                                 16.0    10801.0   \n",
       "Valverde del Camino                                    18.0    12750.0   \n",
       "Aroche                                                  4.0     3054.0   \n",
       "Sierra de Huelva-Andévalo Central                      88.0    67391.0   \n",
       "Almendro (El)                                           1.0      840.0   \n",
       "Villanueva de los Castillejos                           3.0     2825.0   \n",
       "Lepe                                                   29.0    27880.0   \n",
       "Punta Umbría                                           15.0    15355.0   \n",
       "Gibraleón                                              10.0    12737.0   \n",
       "Calañas                                                 2.0     2768.0   \n",
       "Ayamonte                                                9.0    21104.0   \n",
       "Puebla de Guzmán                                        1.0     3092.0   \n",
       "Isla Cristina                                           5.0    21393.0   \n",
       "\n",
       "Medida                                  tasa7       tasa14  Diferencia PDIA  \n",
       "Lugar de residencia                                                          \n",
       "Almonte                            518.219284  1036.438569             62.0  \n",
       "San Bartolomé de la Torre          239.298059  1010.369583              1.0  \n",
       "Rociana del Condado                390.477390   881.723139             16.0  \n",
       "Cartaya                            408.305532   861.425086             42.0  \n",
       "Lucena del Puerto                  275.988960   674.639681              2.0  \n",
       "Palos de la Frontera               246.976665   502.469767              7.0  \n",
       "Moguer                             192.070243   475.602506             19.0  \n",
       "Condado-Campiña                    195.863817   471.737363            135.0  \n",
       "Bonares                             66.006601   462.046205              4.0  \n",
       "Aracena                            193.821926   448.213204              5.0  \n",
       "Campillo (El)                      345.849802   444.664032              7.0  \n",
       "Villarrasa                          90.456807   361.827227              2.0  \n",
       "San Juan del Puerto                 53.129317   350.653491              1.0  \n",
       "Bollullos Par del Condado          166.817266   305.831654              8.0  \n",
       "Huelva                             119.063858   283.336906            283.0  \n",
       "Alosno                             127.129418   279.684719              1.0  \n",
       "Niebla                             121.477162   267.249757              4.0  \n",
       "Trigueros                           89.035869   254.388196              4.0  \n",
       "Villalba del Alcor                  29.708853   237.670826              0.0  \n",
       "Almonaster la Real                 167.785235   223.713647              1.0  \n",
       "Huelva (capital)                    82.037306   216.216968             57.0  \n",
       "Huelva-Costa                        85.996104   206.874162            121.0  \n",
       "Aljaraque                           51.224737   172.301388              2.0  \n",
       "Beas                               115.180834   161.253167              4.0  \n",
       "Minas de Riotinto                  157.397692   157.397692              4.0  \n",
       "Higuera de la Sierra                77.459334   154.918668              0.0  \n",
       "Palma del Condado (La)              46.292010   148.134432              1.0  \n",
       "Valverde del Camino                 86.274510   141.176471              3.0  \n",
       "Aroche                              65.487885   130.975769              1.0  \n",
       "Sierra de Huelva-Andévalo Central   69.742250   130.581235             22.0  \n",
       "Almendro (El)                      119.047619   119.047619              NaN  \n",
       "Villanueva de los Castillejos       35.398230   106.194690              0.0  \n",
       "Lepe                                68.149211   104.017217             12.0  \n",
       "Punta Umbría                        26.050147    97.688049              0.0  \n",
       "Gibraleón                            7.851142    78.511423              0.0  \n",
       "Calañas                             36.127168    72.254335              1.0  \n",
       "Ayamonte                            23.692191    42.645944              4.0  \n",
       "Puebla de Guzmán                    32.341527    32.341527              0.0  \n",
       "Isla Cristina                        9.348852    23.372131              NaN  "
      ],
      "text/html": "<div>\n<style scoped>\n    .dataframe tbody tr th:only-of-type {\n        vertical-align: middle;\n    }\n\n    .dataframe tbody tr th {\n        vertical-align: top;\n    }\n\n    .dataframe thead th {\n        text-align: right;\n    }\n</style>\n<table border=\"1\" class=\"dataframe\">\n  <thead>\n    <tr style=\"text-align: right;\">\n      <th>Medida</th>\n      <th>Confirmados PDIA</th>\n      <th>Confirmados PDIA 7 días</th>\n      <th>Confirmados PDIA 14 días</th>\n      <th>Población</th>\n      <th>tasa7</th>\n      <th>tasa14</th>\n      <th>Diferencia PDIA</th>\n    </tr>\n    <tr>\n      <th>Lugar de residencia</th>\n      <th></th>\n      <th></th>\n      <th></th>\n      <th></th>\n      <th></th>\n      <th></th>\n      <th></th>\n    </tr>\n  </thead>\n  <tbody>\n    <tr>\n      <th>Almonte</th>\n      <td>1295.0</td>\n      <td>127.0</td>\n      <td>254.0</td>\n      <td>24507.0</td>\n      <td>518.219284</td>\n      <td>1036.438569</td>\n      <td>62.0</td>\n    </tr>\n    <tr>\n      <th>San Bartolomé de la Torre</th>\n      <td>275.0</td>\n      <td>9.0</td>\n      <td>38.0</td>\n      <td>3761.0</td>\n      <td>239.298059</td>\n      <td>1010.369583</td>\n      <td>1.0</td>\n    </tr>\n    <tr>\n      <th>Rociana del Condado</th>\n      <td>451.0</td>\n      <td>31.0</td>\n      <td>70.0</td>\n      <td>7939.0</td>\n      <td>390.477390</td>\n      <td>881.723139</td>\n      <td>16.0</td>\n    </tr>\n    <tr>\n      <th>Cartaya</th>\n      <td>1189.0</td>\n      <td>82.0</td>\n      <td>173.0</td>\n      <td>20083.0</td>\n      <td>408.305532</td>\n      <td>861.425086</td>\n      <td>42.0</td>\n    </tr>\n    <tr>\n      <th>Lucena del Puerto</th>\n      <td>185.0</td>\n      <td>9.0</td>\n      <td>22.0</td>\n      <td>3261.0</td>\n      <td>275.988960</td>\n      <td>674.639681</td>\n      <td>2.0</td>\n    </tr>\n    <tr>\n      <th>Palos de la Frontera</th>\n      <td>548.0</td>\n      <td>29.0</td>\n      <td>59.0</td>\n      <td>11742.0</td>\n      <td>246.976665</td>\n      <td>502.469767</td>\n      <td>7.0</td>\n    </tr>\n    <tr>\n      <th>Moguer</th>\n      <td>999.0</td>\n      <td>42.0</td>\n      <td>104.0</td>\n      <td>21867.0</td>\n      <td>192.070243</td>\n      <td>475.602506</td>\n      <td>19.0</td>\n    </tr>\n    <tr>\n      <th>Condado-Campiña</th>\n      <td>8253.0</td>\n      <td>306.0</td>\n      <td>737.0</td>\n      <td>156231.0</td>\n      <td>195.863817</td>\n      <td>471.737363</td>\n      <td>135.0</td>\n    </tr>\n    <tr>\n      <th>Bonares</th>\n      <td>223.0</td>\n      <td>4.0</td>\n      <td>28.0</td>\n      <td>6060.0</td>\n      <td>66.006601</td>\n      <td>462.046205</td>\n      <td>4.0</td>\n    </tr>\n    <tr>\n      <th>Aracena</th>\n      <td>494.0</td>\n      <td>16.0</td>\n      <td>37.0</td>\n      <td>8255.0</td>\n      <td>193.821926</td>\n      <td>448.213204</td>\n      <td>5.0</td>\n    </tr>\n    <tr>\n      <th>Campillo (El)</th>\n      <td>70.0</td>\n      <td>7.0</td>\n      <td>9.0</td>\n      <td>2024.0</td>\n      <td>345.849802</td>\n      <td>444.664032</td>\n      <td>7.0</td>\n    </tr>\n    <tr>\n      <th>Villarrasa</th>\n      <td>141.0</td>\n      <td>2.0</td>\n      <td>8.0</td>\n      <td>2211.0</td>\n      <td>90.456807</td>\n      <td>361.827227</td>\n      <td>2.0</td>\n    </tr>\n    <tr>\n      <th>San Juan del Puerto</th>\n      <td>408.0</td>\n      <td>5.0</td>\n      <td>33.0</td>\n      <td>9411.0</td>\n      <td>53.129317</td>\n      <td>350.653491</td>\n      <td>1.0</td>\n    </tr>\n    <tr>\n      <th>Bollullos Par del Condado</th>\n      <td>731.0</td>\n      <td>24.0</td>\n      <td>44.0</td>\n      <td>14387.0</td>\n      <td>166.817266</td>\n      <td>305.831654</td>\n      <td>8.0</td>\n    </tr>\n    <tr>\n      <th>Huelva</th>\n      <td>27160.0</td>\n      <td>611.0</td>\n      <td>1454.0</td>\n      <td>513170.0</td>\n      <td>119.063858</td>\n      <td>283.336906</td>\n      <td>283.0</td>\n    </tr>\n    <tr>\n      <th>Alosno</th>\n      <td>161.0</td>\n      <td>5.0</td>\n      <td>11.0</td>\n      <td>3933.0</td>\n      <td>127.129418</td>\n      <td>279.684719</td>\n      <td>1.0</td>\n    </tr>\n    <tr>\n      <th>Niebla</th>\n      <td>187.0</td>\n      <td>5.0</td>\n      <td>11.0</td>\n      <td>4116.0</td>\n      <td>121.477162</td>\n      <td>267.249757</td>\n      <td>4.0</td>\n    </tr>\n    <tr>\n      <th>Trigueros</th>\n      <td>252.0</td>\n      <td>7.0</td>\n      <td>20.0</td>\n      <td>7862.0</td>\n      <td>89.035869</td>\n      <td>254.388196</td>\n      <td>4.0</td>\n    </tr>\n    <tr>\n      <th>Villalba del Alcor</th>\n      <td>470.0</td>\n      <td>1.0</td>\n      <td>8.0</td>\n      <td>3366.0</td>\n      <td>29.708853</td>\n      <td>237.670826</td>\n      <td>0.0</td>\n    </tr>\n    <tr>\n      <th>Almonaster la Real</th>\n      <td>57.0</td>\n      <td>3.0</td>\n      <td>4.0</td>\n      <td>1788.0</td>\n      <td>167.785235</td>\n      <td>223.713647</td>\n      <td>1.0</td>\n    </tr>\n    <tr>\n      <th>Huelva (capital)</th>\n      <td>7048.0</td>\n      <td>118.0</td>\n      <td>311.0</td>\n      <td>143837.0</td>\n      <td>82.037306</td>\n      <td>216.216968</td>\n      <td>57.0</td>\n    </tr>\n    <tr>\n      <th>Huelva-Costa</th>\n      <td>16058.0</td>\n      <td>249.0</td>\n      <td>599.0</td>\n      <td>289548.0</td>\n      <td>85.996104</td>\n      <td>206.874162</td>\n      <td>121.0</td>\n    </tr>\n    <tr>\n      <th>Aljaraque</th>\n      <td>971.0</td>\n      <td>11.0</td>\n      <td>37.0</td>\n      <td>21474.0</td>\n      <td>51.224737</td>\n      <td>172.301388</td>\n      <td>2.0</td>\n    </tr>\n    <tr>\n      <th>Beas</th>\n      <td>170.0</td>\n      <td>5.0</td>\n      <td>7.0</td>\n      <td>4341.0</td>\n      <td>115.180834</td>\n      <td>161.253167</td>\n      <td>4.0</td>\n    </tr>\n    <tr>\n      <th>Minas de Riotinto</th>\n      <td>106.0</td>\n      <td>6.0</td>\n      <td>6.0</td>\n      <td>3812.0</td>\n      <td>157.397692</td>\n      <td>157.397692</td>\n      <td>4.0</td>\n    </tr>\n    <tr>\n      <th>Higuera de la Sierra</th>\n      <td>32.0</td>\n      <td>1.0</td>\n      <td>2.0</td>\n      <td>1291.0</td>\n      <td>77.459334</td>\n      <td>154.918668</td>\n      <td>0.0</td>\n    </tr>\n    <tr>\n      <th>Palma del Condado (La)</th>\n      <td>1012.0</td>\n      <td>5.0</td>\n      <td>16.0</td>\n      <td>10801.0</td>\n      <td>46.292010</td>\n      <td>148.134432</td>\n      <td>1.0</td>\n    </tr>\n    <tr>\n      <th>Valverde del Camino</th>\n      <td>448.0</td>\n      <td>11.0</td>\n      <td>18.0</td>\n      <td>12750.0</td>\n      <td>86.274510</td>\n      <td>141.176471</td>\n      <td>3.0</td>\n    </tr>\n    <tr>\n      <th>Aroche</th>\n      <td>87.0</td>\n      <td>2.0</td>\n      <td>4.0</td>\n      <td>3054.0</td>\n      <td>65.487885</td>\n      <td>130.975769</td>\n      <td>1.0</td>\n    </tr>\n    <tr>\n      <th>Sierra de Huelva-Andévalo Central</th>\n      <td>2419.0</td>\n      <td>47.0</td>\n      <td>88.0</td>\n      <td>67391.0</td>\n      <td>69.742250</td>\n      <td>130.581235</td>\n      <td>22.0</td>\n    </tr>\n    <tr>\n      <th>Almendro (El)</th>\n      <td>35.0</td>\n      <td>1.0</td>\n      <td>1.0</td>\n      <td>840.0</td>\n      <td>119.047619</td>\n      <td>119.047619</td>\n      <td>NaN</td>\n    </tr>\n    <tr>\n      <th>Villanueva de los Castillejos</th>\n      <td>157.0</td>\n      <td>1.0</td>\n      <td>3.0</td>\n      <td>2825.0</td>\n      <td>35.398230</td>\n      <td>106.194690</td>\n      <td>0.0</td>\n    </tr>\n    <tr>\n      <th>Lepe</th>\n      <td>2055.0</td>\n      <td>19.0</td>\n      <td>29.0</td>\n      <td>27880.0</td>\n      <td>68.149211</td>\n      <td>104.017217</td>\n      <td>12.0</td>\n    </tr>\n    <tr>\n      <th>Punta Umbría</th>\n      <td>683.0</td>\n      <td>4.0</td>\n      <td>15.0</td>\n      <td>15355.0</td>\n      <td>26.050147</td>\n      <td>97.688049</td>\n      <td>0.0</td>\n    </tr>\n    <tr>\n      <th>Gibraleón</th>\n      <td>556.0</td>\n      <td>1.0</td>\n      <td>10.0</td>\n      <td>12737.0</td>\n      <td>7.851142</td>\n      <td>78.511423</td>\n      <td>0.0</td>\n    </tr>\n    <tr>\n      <th>Calañas</th>\n      <td>174.0</td>\n      <td>1.0</td>\n      <td>2.0</td>\n      <td>2768.0</td>\n      <td>36.127168</td>\n      <td>72.254335</td>\n      <td>1.0</td>\n    </tr>\n    <tr>\n      <th>Ayamonte</th>\n      <td>1258.0</td>\n      <td>5.0</td>\n      <td>9.0</td>\n      <td>21104.0</td>\n      <td>23.692191</td>\n      <td>42.645944</td>\n      <td>4.0</td>\n    </tr>\n    <tr>\n      <th>Puebla de Guzmán</th>\n      <td>111.0</td>\n      <td>1.0</td>\n      <td>1.0</td>\n      <td>3092.0</td>\n      <td>32.341527</td>\n      <td>32.341527</td>\n      <td>0.0</td>\n    </tr>\n    <tr>\n      <th>Isla Cristina</th>\n      <td>2018.0</td>\n      <td>2.0</td>\n      <td>5.0</td>\n      <td>21393.0</td>\n      <td>9.348852</td>\n      <td>23.372131</td>\n      <td>NaN</td>\n    </tr>\n  </tbody>\n</table>\n</div>"
     },
     "metadata": {},
     "execution_count": 17
    }
   ],
   "source": [
    "tabla.sort_values('tasa14', ascending=False)"
   ]
  },
  {
   "cell_type": "code",
   "execution_count": 18,
   "metadata": {},
   "outputs": [
    {
     "output_type": "execute_result",
     "data": {
      "text/plain": [
       "Medida                             Confirmados PDIA  Confirmados PDIA 7 días  \\\n",
       "Lugar de residencia                                                            \n",
       "Gibraleón                                     556.0                      1.0   \n",
       "Villalba del Alcor                            470.0                      1.0   \n",
       "Bonares                                       223.0                      4.0   \n",
       "San Juan del Puerto                           408.0                      5.0   \n",
       "San Bartolomé de la Torre                     275.0                      9.0   \n",
       "Villarrasa                                    141.0                      2.0   \n",
       "Punta Umbría                                  683.0                      4.0   \n",
       "Aljaraque                                     971.0                     11.0   \n",
       "Palma del Condado (La)                       1012.0                      5.0   \n",
       "Villanueva de los Castillejos                 157.0                      1.0   \n",
       "Trigueros                                     252.0                      7.0   \n",
       "Huelva (capital)                             7048.0                    118.0   \n",
       "Isla Cristina                                2018.0                      2.0   \n",
       "Moguer                                        999.0                     42.0   \n",
       "Lucena del Puerto                             185.0                      9.0   \n",
       "Condado-Campiña                              8253.0                    306.0   \n",
       "Huelva-Costa                                16058.0                    249.0   \n",
       "Huelva                                      27160.0                    611.0   \n",
       "Aracena                                       494.0                     16.0   \n",
       "Rociana del Condado                           451.0                     31.0   \n",
       "Niebla                                        187.0                      5.0   \n",
       "Alosno                                        161.0                      5.0   \n",
       "Cartaya                                      1189.0                     82.0   \n",
       "Palos de la Frontera                          548.0                     29.0   \n",
       "Almonte                                      1295.0                    127.0   \n",
       "Calañas                                       174.0                      1.0   \n",
       "Aroche                                         87.0                      2.0   \n",
       "Higuera de la Sierra                           32.0                      1.0   \n",
       "Sierra de Huelva-Andévalo Central            2419.0                     47.0   \n",
       "Bollullos Par del Condado                     731.0                     24.0   \n",
       "Ayamonte                                     1258.0                      5.0   \n",
       "Valverde del Camino                           448.0                     11.0   \n",
       "Lepe                                         2055.0                     19.0   \n",
       "Beas                                          170.0                      5.0   \n",
       "Almonaster la Real                             57.0                      3.0   \n",
       "Campillo (El)                                  70.0                      7.0   \n",
       "Puebla de Guzmán                              111.0                      1.0   \n",
       "Almendro (El)                                  35.0                      1.0   \n",
       "Minas de Riotinto                             106.0                      6.0   \n",
       "\n",
       "Medida                             Confirmados PDIA 14 días  Población  \\\n",
       "Lugar de residencia                                                      \n",
       "Gibraleón                                              10.0    12737.0   \n",
       "Villalba del Alcor                                      8.0     3366.0   \n",
       "Bonares                                                28.0     6060.0   \n",
       "San Juan del Puerto                                    33.0     9411.0   \n",
       "San Bartolomé de la Torre                              38.0     3761.0   \n",
       "Villarrasa                                              8.0     2211.0   \n",
       "Punta Umbría                                           15.0    15355.0   \n",
       "Aljaraque                                              37.0    21474.0   \n",
       "Palma del Condado (La)                                 16.0    10801.0   \n",
       "Villanueva de los Castillejos                           3.0     2825.0   \n",
       "Trigueros                                              20.0     7862.0   \n",
       "Huelva (capital)                                      311.0   143837.0   \n",
       "Isla Cristina                                           5.0    21393.0   \n",
       "Moguer                                                104.0    21867.0   \n",
       "Lucena del Puerto                                      22.0     3261.0   \n",
       "Condado-Campiña                                       737.0   156231.0   \n",
       "Huelva-Costa                                          599.0   289548.0   \n",
       "Huelva                                               1454.0   513170.0   \n",
       "Aracena                                                37.0     8255.0   \n",
       "Rociana del Condado                                    70.0     7939.0   \n",
       "Niebla                                                 11.0     4116.0   \n",
       "Alosno                                                 11.0     3933.0   \n",
       "Cartaya                                               173.0    20083.0   \n",
       "Palos de la Frontera                                   59.0    11742.0   \n",
       "Almonte                                               254.0    24507.0   \n",
       "Calañas                                                 2.0     2768.0   \n",
       "Aroche                                                  4.0     3054.0   \n",
       "Higuera de la Sierra                                    2.0     1291.0   \n",
       "Sierra de Huelva-Andévalo Central                      88.0    67391.0   \n",
       "Bollullos Par del Condado                              44.0    14387.0   \n",
       "Ayamonte                                                9.0    21104.0   \n",
       "Valverde del Camino                                    18.0    12750.0   \n",
       "Lepe                                                   29.0    27880.0   \n",
       "Beas                                                    7.0     4341.0   \n",
       "Almonaster la Real                                      4.0     1788.0   \n",
       "Campillo (El)                                           9.0     2024.0   \n",
       "Puebla de Guzmán                                        1.0     3092.0   \n",
       "Almendro (El)                                           1.0      840.0   \n",
       "Minas de Riotinto                                       6.0     3812.0   \n",
       "\n",
       "Medida                                  tasa7       tasa14  Diferencia PDIA  \\\n",
       "Lugar de residencia                                                           \n",
       "Gibraleón                            7.851142    78.511423              0.0   \n",
       "Villalba del Alcor                  29.708853   237.670826              0.0   \n",
       "Bonares                             66.006601   462.046205              4.0   \n",
       "San Juan del Puerto                 53.129317   350.653491              1.0   \n",
       "San Bartolomé de la Torre          239.298059  1010.369583              1.0   \n",
       "Villarrasa                          90.456807   361.827227              2.0   \n",
       "Punta Umbría                        26.050147    97.688049              0.0   \n",
       "Aljaraque                           51.224737   172.301388              2.0   \n",
       "Palma del Condado (La)              46.292010   148.134432              1.0   \n",
       "Villanueva de los Castillejos       35.398230   106.194690              0.0   \n",
       "Trigueros                           89.035869   254.388196              4.0   \n",
       "Huelva (capital)                    82.037306   216.216968             57.0   \n",
       "Isla Cristina                        9.348852    23.372131              0.0   \n",
       "Moguer                             192.070243   475.602506             19.0   \n",
       "Lucena del Puerto                  275.988960   674.639681              2.0   \n",
       "Condado-Campiña                    195.863817   471.737363            135.0   \n",
       "Huelva-Costa                        85.996104   206.874162            121.0   \n",
       "Huelva                             119.063858   283.336906            283.0   \n",
       "Aracena                            193.821926   448.213204              5.0   \n",
       "Rociana del Condado                390.477390   881.723139             16.0   \n",
       "Niebla                             121.477162   267.249757              4.0   \n",
       "Alosno                             127.129418   279.684719              1.0   \n",
       "Cartaya                            408.305532   861.425086             42.0   \n",
       "Palos de la Frontera               246.976665   502.469767              7.0   \n",
       "Almonte                            518.219284  1036.438569             62.0   \n",
       "Calañas                             36.127168    72.254335              1.0   \n",
       "Aroche                              65.487885   130.975769              1.0   \n",
       "Higuera de la Sierra                77.459334   154.918668              0.0   \n",
       "Sierra de Huelva-Andévalo Central   69.742250   130.581235             22.0   \n",
       "Bollullos Par del Condado          166.817266   305.831654              8.0   \n",
       "Ayamonte                            23.692191    42.645944              4.0   \n",
       "Valverde del Camino                 86.274510   141.176471              3.0   \n",
       "Lepe                                68.149211   104.017217             12.0   \n",
       "Beas                               115.180834   161.253167              4.0   \n",
       "Almonaster la Real                 167.785235   223.713647              1.0   \n",
       "Campillo (El)                      345.849802   444.664032              7.0   \n",
       "Puebla de Guzmán                    32.341527    32.341527              0.0   \n",
       "Almendro (El)                      119.047619   119.047619              0.0   \n",
       "Minas de Riotinto                  157.397692   157.397692              4.0   \n",
       "\n",
       "Medida                                 7/14  \n",
       "Lugar de residencia                          \n",
       "Gibraleón                          0.100000  \n",
       "Villalba del Alcor                 0.125000  \n",
       "Bonares                            0.142857  \n",
       "San Juan del Puerto                0.151515  \n",
       "San Bartolomé de la Torre          0.236842  \n",
       "Villarrasa                         0.250000  \n",
       "Punta Umbría                       0.266667  \n",
       "Aljaraque                          0.297297  \n",
       "Palma del Condado (La)             0.312500  \n",
       "Villanueva de los Castillejos      0.333333  \n",
       "Trigueros                          0.350000  \n",
       "Huelva (capital)                   0.379421  \n",
       "Isla Cristina                      0.400000  \n",
       "Moguer                             0.403846  \n",
       "Lucena del Puerto                  0.409091  \n",
       "Condado-Campiña                    0.415197  \n",
       "Huelva-Costa                       0.415693  \n",
       "Huelva                             0.420220  \n",
       "Aracena                            0.432432  \n",
       "Rociana del Condado                0.442857  \n",
       "Niebla                             0.454545  \n",
       "Alosno                             0.454545  \n",
       "Cartaya                            0.473988  \n",
       "Palos de la Frontera               0.491525  \n",
       "Almonte                            0.500000  \n",
       "Calañas                            0.500000  \n",
       "Aroche                             0.500000  \n",
       "Higuera de la Sierra               0.500000  \n",
       "Sierra de Huelva-Andévalo Central  0.534091  \n",
       "Bollullos Par del Condado          0.545455  \n",
       "Ayamonte                           0.555556  \n",
       "Valverde del Camino                0.611111  \n",
       "Lepe                               0.655172  \n",
       "Beas                               0.714286  \n",
       "Almonaster la Real                 0.750000  \n",
       "Campillo (El)                      0.777778  \n",
       "Puebla de Guzmán                   1.000000  \n",
       "Almendro (El)                      1.000000  \n",
       "Minas de Riotinto                  1.000000  "
      ],
      "text/html": "<div>\n<style scoped>\n    .dataframe tbody tr th:only-of-type {\n        vertical-align: middle;\n    }\n\n    .dataframe tbody tr th {\n        vertical-align: top;\n    }\n\n    .dataframe thead th {\n        text-align: right;\n    }\n</style>\n<table border=\"1\" class=\"dataframe\">\n  <thead>\n    <tr style=\"text-align: right;\">\n      <th>Medida</th>\n      <th>Confirmados PDIA</th>\n      <th>Confirmados PDIA 7 días</th>\n      <th>Confirmados PDIA 14 días</th>\n      <th>Población</th>\n      <th>tasa7</th>\n      <th>tasa14</th>\n      <th>Diferencia PDIA</th>\n      <th>7/14</th>\n    </tr>\n    <tr>\n      <th>Lugar de residencia</th>\n      <th></th>\n      <th></th>\n      <th></th>\n      <th></th>\n      <th></th>\n      <th></th>\n      <th></th>\n      <th></th>\n    </tr>\n  </thead>\n  <tbody>\n    <tr>\n      <th>Gibraleón</th>\n      <td>556.0</td>\n      <td>1.0</td>\n      <td>10.0</td>\n      <td>12737.0</td>\n      <td>7.851142</td>\n      <td>78.511423</td>\n      <td>0.0</td>\n      <td>0.100000</td>\n    </tr>\n    <tr>\n      <th>Villalba del Alcor</th>\n      <td>470.0</td>\n      <td>1.0</td>\n      <td>8.0</td>\n      <td>3366.0</td>\n      <td>29.708853</td>\n      <td>237.670826</td>\n      <td>0.0</td>\n      <td>0.125000</td>\n    </tr>\n    <tr>\n      <th>Bonares</th>\n      <td>223.0</td>\n      <td>4.0</td>\n      <td>28.0</td>\n      <td>6060.0</td>\n      <td>66.006601</td>\n      <td>462.046205</td>\n      <td>4.0</td>\n      <td>0.142857</td>\n    </tr>\n    <tr>\n      <th>San Juan del Puerto</th>\n      <td>408.0</td>\n      <td>5.0</td>\n      <td>33.0</td>\n      <td>9411.0</td>\n      <td>53.129317</td>\n      <td>350.653491</td>\n      <td>1.0</td>\n      <td>0.151515</td>\n    </tr>\n    <tr>\n      <th>San Bartolomé de la Torre</th>\n      <td>275.0</td>\n      <td>9.0</td>\n      <td>38.0</td>\n      <td>3761.0</td>\n      <td>239.298059</td>\n      <td>1010.369583</td>\n      <td>1.0</td>\n      <td>0.236842</td>\n    </tr>\n    <tr>\n      <th>Villarrasa</th>\n      <td>141.0</td>\n      <td>2.0</td>\n      <td>8.0</td>\n      <td>2211.0</td>\n      <td>90.456807</td>\n      <td>361.827227</td>\n      <td>2.0</td>\n      <td>0.250000</td>\n    </tr>\n    <tr>\n      <th>Punta Umbría</th>\n      <td>683.0</td>\n      <td>4.0</td>\n      <td>15.0</td>\n      <td>15355.0</td>\n      <td>26.050147</td>\n      <td>97.688049</td>\n      <td>0.0</td>\n      <td>0.266667</td>\n    </tr>\n    <tr>\n      <th>Aljaraque</th>\n      <td>971.0</td>\n      <td>11.0</td>\n      <td>37.0</td>\n      <td>21474.0</td>\n      <td>51.224737</td>\n      <td>172.301388</td>\n      <td>2.0</td>\n      <td>0.297297</td>\n    </tr>\n    <tr>\n      <th>Palma del Condado (La)</th>\n      <td>1012.0</td>\n      <td>5.0</td>\n      <td>16.0</td>\n      <td>10801.0</td>\n      <td>46.292010</td>\n      <td>148.134432</td>\n      <td>1.0</td>\n      <td>0.312500</td>\n    </tr>\n    <tr>\n      <th>Villanueva de los Castillejos</th>\n      <td>157.0</td>\n      <td>1.0</td>\n      <td>3.0</td>\n      <td>2825.0</td>\n      <td>35.398230</td>\n      <td>106.194690</td>\n      <td>0.0</td>\n      <td>0.333333</td>\n    </tr>\n    <tr>\n      <th>Trigueros</th>\n      <td>252.0</td>\n      <td>7.0</td>\n      <td>20.0</td>\n      <td>7862.0</td>\n      <td>89.035869</td>\n      <td>254.388196</td>\n      <td>4.0</td>\n      <td>0.350000</td>\n    </tr>\n    <tr>\n      <th>Huelva (capital)</th>\n      <td>7048.0</td>\n      <td>118.0</td>\n      <td>311.0</td>\n      <td>143837.0</td>\n      <td>82.037306</td>\n      <td>216.216968</td>\n      <td>57.0</td>\n      <td>0.379421</td>\n    </tr>\n    <tr>\n      <th>Isla Cristina</th>\n      <td>2018.0</td>\n      <td>2.0</td>\n      <td>5.0</td>\n      <td>21393.0</td>\n      <td>9.348852</td>\n      <td>23.372131</td>\n      <td>0.0</td>\n      <td>0.400000</td>\n    </tr>\n    <tr>\n      <th>Moguer</th>\n      <td>999.0</td>\n      <td>42.0</td>\n      <td>104.0</td>\n      <td>21867.0</td>\n      <td>192.070243</td>\n      <td>475.602506</td>\n      <td>19.0</td>\n      <td>0.403846</td>\n    </tr>\n    <tr>\n      <th>Lucena del Puerto</th>\n      <td>185.0</td>\n      <td>9.0</td>\n      <td>22.0</td>\n      <td>3261.0</td>\n      <td>275.988960</td>\n      <td>674.639681</td>\n      <td>2.0</td>\n      <td>0.409091</td>\n    </tr>\n    <tr>\n      <th>Condado-Campiña</th>\n      <td>8253.0</td>\n      <td>306.0</td>\n      <td>737.0</td>\n      <td>156231.0</td>\n      <td>195.863817</td>\n      <td>471.737363</td>\n      <td>135.0</td>\n      <td>0.415197</td>\n    </tr>\n    <tr>\n      <th>Huelva-Costa</th>\n      <td>16058.0</td>\n      <td>249.0</td>\n      <td>599.0</td>\n      <td>289548.0</td>\n      <td>85.996104</td>\n      <td>206.874162</td>\n      <td>121.0</td>\n      <td>0.415693</td>\n    </tr>\n    <tr>\n      <th>Huelva</th>\n      <td>27160.0</td>\n      <td>611.0</td>\n      <td>1454.0</td>\n      <td>513170.0</td>\n      <td>119.063858</td>\n      <td>283.336906</td>\n      <td>283.0</td>\n      <td>0.420220</td>\n    </tr>\n    <tr>\n      <th>Aracena</th>\n      <td>494.0</td>\n      <td>16.0</td>\n      <td>37.0</td>\n      <td>8255.0</td>\n      <td>193.821926</td>\n      <td>448.213204</td>\n      <td>5.0</td>\n      <td>0.432432</td>\n    </tr>\n    <tr>\n      <th>Rociana del Condado</th>\n      <td>451.0</td>\n      <td>31.0</td>\n      <td>70.0</td>\n      <td>7939.0</td>\n      <td>390.477390</td>\n      <td>881.723139</td>\n      <td>16.0</td>\n      <td>0.442857</td>\n    </tr>\n    <tr>\n      <th>Niebla</th>\n      <td>187.0</td>\n      <td>5.0</td>\n      <td>11.0</td>\n      <td>4116.0</td>\n      <td>121.477162</td>\n      <td>267.249757</td>\n      <td>4.0</td>\n      <td>0.454545</td>\n    </tr>\n    <tr>\n      <th>Alosno</th>\n      <td>161.0</td>\n      <td>5.0</td>\n      <td>11.0</td>\n      <td>3933.0</td>\n      <td>127.129418</td>\n      <td>279.684719</td>\n      <td>1.0</td>\n      <td>0.454545</td>\n    </tr>\n    <tr>\n      <th>Cartaya</th>\n      <td>1189.0</td>\n      <td>82.0</td>\n      <td>173.0</td>\n      <td>20083.0</td>\n      <td>408.305532</td>\n      <td>861.425086</td>\n      <td>42.0</td>\n      <td>0.473988</td>\n    </tr>\n    <tr>\n      <th>Palos de la Frontera</th>\n      <td>548.0</td>\n      <td>29.0</td>\n      <td>59.0</td>\n      <td>11742.0</td>\n      <td>246.976665</td>\n      <td>502.469767</td>\n      <td>7.0</td>\n      <td>0.491525</td>\n    </tr>\n    <tr>\n      <th>Almonte</th>\n      <td>1295.0</td>\n      <td>127.0</td>\n      <td>254.0</td>\n      <td>24507.0</td>\n      <td>518.219284</td>\n      <td>1036.438569</td>\n      <td>62.0</td>\n      <td>0.500000</td>\n    </tr>\n    <tr>\n      <th>Calañas</th>\n      <td>174.0</td>\n      <td>1.0</td>\n      <td>2.0</td>\n      <td>2768.0</td>\n      <td>36.127168</td>\n      <td>72.254335</td>\n      <td>1.0</td>\n      <td>0.500000</td>\n    </tr>\n    <tr>\n      <th>Aroche</th>\n      <td>87.0</td>\n      <td>2.0</td>\n      <td>4.0</td>\n      <td>3054.0</td>\n      <td>65.487885</td>\n      <td>130.975769</td>\n      <td>1.0</td>\n      <td>0.500000</td>\n    </tr>\n    <tr>\n      <th>Higuera de la Sierra</th>\n      <td>32.0</td>\n      <td>1.0</td>\n      <td>2.0</td>\n      <td>1291.0</td>\n      <td>77.459334</td>\n      <td>154.918668</td>\n      <td>0.0</td>\n      <td>0.500000</td>\n    </tr>\n    <tr>\n      <th>Sierra de Huelva-Andévalo Central</th>\n      <td>2419.0</td>\n      <td>47.0</td>\n      <td>88.0</td>\n      <td>67391.0</td>\n      <td>69.742250</td>\n      <td>130.581235</td>\n      <td>22.0</td>\n      <td>0.534091</td>\n    </tr>\n    <tr>\n      <th>Bollullos Par del Condado</th>\n      <td>731.0</td>\n      <td>24.0</td>\n      <td>44.0</td>\n      <td>14387.0</td>\n      <td>166.817266</td>\n      <td>305.831654</td>\n      <td>8.0</td>\n      <td>0.545455</td>\n    </tr>\n    <tr>\n      <th>Ayamonte</th>\n      <td>1258.0</td>\n      <td>5.0</td>\n      <td>9.0</td>\n      <td>21104.0</td>\n      <td>23.692191</td>\n      <td>42.645944</td>\n      <td>4.0</td>\n      <td>0.555556</td>\n    </tr>\n    <tr>\n      <th>Valverde del Camino</th>\n      <td>448.0</td>\n      <td>11.0</td>\n      <td>18.0</td>\n      <td>12750.0</td>\n      <td>86.274510</td>\n      <td>141.176471</td>\n      <td>3.0</td>\n      <td>0.611111</td>\n    </tr>\n    <tr>\n      <th>Lepe</th>\n      <td>2055.0</td>\n      <td>19.0</td>\n      <td>29.0</td>\n      <td>27880.0</td>\n      <td>68.149211</td>\n      <td>104.017217</td>\n      <td>12.0</td>\n      <td>0.655172</td>\n    </tr>\n    <tr>\n      <th>Beas</th>\n      <td>170.0</td>\n      <td>5.0</td>\n      <td>7.0</td>\n      <td>4341.0</td>\n      <td>115.180834</td>\n      <td>161.253167</td>\n      <td>4.0</td>\n      <td>0.714286</td>\n    </tr>\n    <tr>\n      <th>Almonaster la Real</th>\n      <td>57.0</td>\n      <td>3.0</td>\n      <td>4.0</td>\n      <td>1788.0</td>\n      <td>167.785235</td>\n      <td>223.713647</td>\n      <td>1.0</td>\n      <td>0.750000</td>\n    </tr>\n    <tr>\n      <th>Campillo (El)</th>\n      <td>70.0</td>\n      <td>7.0</td>\n      <td>9.0</td>\n      <td>2024.0</td>\n      <td>345.849802</td>\n      <td>444.664032</td>\n      <td>7.0</td>\n      <td>0.777778</td>\n    </tr>\n    <tr>\n      <th>Puebla de Guzmán</th>\n      <td>111.0</td>\n      <td>1.0</td>\n      <td>1.0</td>\n      <td>3092.0</td>\n      <td>32.341527</td>\n      <td>32.341527</td>\n      <td>0.0</td>\n      <td>1.000000</td>\n    </tr>\n    <tr>\n      <th>Almendro (El)</th>\n      <td>35.0</td>\n      <td>1.0</td>\n      <td>1.0</td>\n      <td>840.0</td>\n      <td>119.047619</td>\n      <td>119.047619</td>\n      <td>0.0</td>\n      <td>1.000000</td>\n    </tr>\n    <tr>\n      <th>Minas de Riotinto</th>\n      <td>106.0</td>\n      <td>6.0</td>\n      <td>6.0</td>\n      <td>3812.0</td>\n      <td>157.397692</td>\n      <td>157.397692</td>\n      <td>4.0</td>\n      <td>1.000000</td>\n    </tr>\n  </tbody>\n</table>\n</div>"
     },
     "metadata": {},
     "execution_count": 18
    }
   ],
   "source": [
    "# Peso de la tasa de la última semana en relación con la tasa a 14 días \n",
    "# Mejor cuanto menor. Valor 1 significa que no había casos antes de 7 días.\n",
    "tabla['7/14'] = tabla['tasa7'] / tabla['tasa14']\n",
    "tabla.fillna(0).sort_values('7/14', ascending=True)"
   ]
  },
  {
   "cell_type": "code",
   "execution_count": null,
   "metadata": {},
   "outputs": [],
   "source": []
  }
 ]
}