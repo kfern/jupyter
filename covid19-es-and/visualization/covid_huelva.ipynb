{
 "metadata": {
  "language_info": {
   "codemirror_mode": {
    "name": "ipython",
    "version": 3
   },
   "file_extension": ".py",
   "mimetype": "text/x-python",
   "name": "python",
   "nbconvert_exporter": "python",
   "pygments_lexer": "ipython3",
   "version": "3.8.6"
  },
  "orig_nbformat": 2,
  "kernelspec": {
   "name": "python3",
   "display_name": "Python 3.8.6 64-bit"
  },
  "interpreter": {
   "hash": "31f2aee4e71d21fbe5cf8b01ff0e069b9275f58929596ceb00d14d90e3e16cd6"
  }
 },
 "nbformat": 4,
 "nbformat_minor": 2,
 "cells": [
  {
   "cell_type": "code",
   "execution_count": 1,
   "metadata": {},
   "outputs": [],
   "source": [
    "import pandas as pd\n",
    "pd.set_option('display.max_rows', None) # Print all rows"
   ]
  },
  {
   "cell_type": "code",
   "execution_count": 2,
   "metadata": {},
   "outputs": [],
   "source": [
    "# FIX SSL: CERTIFICATE_VERIFY_FAILED with Python3\n",
    "# https://stackoverflow.com/a/49174340\n",
    "import ssl\n",
    "\n",
    "ssl._create_default_https_context = ssl._create_unverified_context"
   ]
  },
  {
   "cell_type": "code",
   "execution_count": 3,
   "metadata": {},
   "outputs": [],
   "source": [
    "url = 'https://www.juntadeandalucia.es/institutodeestadisticaycartografia/badea/stpivot/stpivot/Print?cube=013d884c-cfc5-4c21-9e78-e26225682afd&type=3&foto=si&ejecutaDesde=&codConsulta=38668&consTipoVisua=JP'\n",
    "fields = ['Lugar de residencia', 'Medida', 'Valor']\n",
    "df = pd.read_csv(url, delimiter=';', usecols=fields, decimal=',')"
   ]
  },
  {
   "cell_type": "code",
   "execution_count": 4,
   "metadata": {},
   "outputs": [
    {
     "output_type": "execute_result",
     "data": {
      "text/plain": [
       "  Lugar de residencia                    Medida               Valor\n",
       "0              Huelva                 Población              513170\n",
       "1              Huelva          Confirmados PDIA               32106\n",
       "2              Huelva  Confirmados PDIA 14 días                1507\n",
       "3              Huelva         Tasa PDIA 14 días  293,66486739287177\n",
       "4              Huelva   Confirmados PDIA 7 días                 690\n",
       "5              Huelva        Total Confirmados                32286\n",
       "6              Huelva                   Curados               29871\n",
       "7              Huelva                Fallecidos                 386"
      ],
      "text/html": "<div>\n<style scoped>\n    .dataframe tbody tr th:only-of-type {\n        vertical-align: middle;\n    }\n\n    .dataframe tbody tr th {\n        vertical-align: top;\n    }\n\n    .dataframe thead th {\n        text-align: right;\n    }\n</style>\n<table border=\"1\" class=\"dataframe\">\n  <thead>\n    <tr style=\"text-align: right;\">\n      <th></th>\n      <th>Lugar de residencia</th>\n      <th>Medida</th>\n      <th>Valor</th>\n    </tr>\n  </thead>\n  <tbody>\n    <tr>\n      <th>0</th>\n      <td>Huelva</td>\n      <td>Población</td>\n      <td>513170</td>\n    </tr>\n    <tr>\n      <th>1</th>\n      <td>Huelva</td>\n      <td>Confirmados PDIA</td>\n      <td>32106</td>\n    </tr>\n    <tr>\n      <th>2</th>\n      <td>Huelva</td>\n      <td>Confirmados PDIA 14 días</td>\n      <td>1507</td>\n    </tr>\n    <tr>\n      <th>3</th>\n      <td>Huelva</td>\n      <td>Tasa PDIA 14 días</td>\n      <td>293,66486739287177</td>\n    </tr>\n    <tr>\n      <th>4</th>\n      <td>Huelva</td>\n      <td>Confirmados PDIA 7 días</td>\n      <td>690</td>\n    </tr>\n    <tr>\n      <th>5</th>\n      <td>Huelva</td>\n      <td>Total Confirmados</td>\n      <td>32286</td>\n    </tr>\n    <tr>\n      <th>6</th>\n      <td>Huelva</td>\n      <td>Curados</td>\n      <td>29871</td>\n    </tr>\n    <tr>\n      <th>7</th>\n      <td>Huelva</td>\n      <td>Fallecidos</td>\n      <td>386</td>\n    </tr>\n  </tbody>\n</table>\n</div>"
     },
     "metadata": {},
     "execution_count": 4
    }
   ],
   "source": [
    "df[df['Lugar de residencia'] == 'Huelva']"
   ]
  },
  {
   "cell_type": "code",
   "execution_count": 5,
   "metadata": {},
   "outputs": [],
   "source": [
    "df['Valor'] = pd.to_numeric(df['Valor'],errors='coerce')"
   ]
  },
  {
   "cell_type": "code",
   "execution_count": 6,
   "metadata": {},
   "outputs": [],
   "source": [
    "dfAnterior = pd.read_csv('covid_huelva.csv', index_col='Lugar de residencia')"
   ]
  },
  {
   "cell_type": "code",
   "execution_count": 7,
   "metadata": {
    "tags": []
   },
   "outputs": [
    {
     "output_type": "stream",
     "name": "stdout",
     "text": [
      "Confirmados PCR en la provincia de Huelva:  32106.0\n",
      "<ipython-input-7-31b732756b19>:2: UserWarning: Boolean Series key will be reindexed to match DataFrame index.\n",
      "  p = df[df['Lugar de residencia'] == 'Huelva'][df['Medida'] == 'Confirmados PDIA']['Valor'].values[0]\n"
     ]
    }
   ],
   "source": [
    "# Confirmados PCR provincia Huelva\n",
    "p = df[df['Lugar de residencia'] == 'Huelva'][df['Medida'] == 'Confirmados PDIA']['Valor'].values[0]\n",
    "print('Confirmados PCR en la provincia de Huelva: ', p)"
   ]
  },
  {
   "cell_type": "code",
   "execution_count": 8,
   "metadata": {
    "tags": []
   },
   "outputs": [
    {
     "output_type": "stream",
     "name": "stdout",
     "text": [
      "Confirmados PCR en Huelva capital:  8649.0\n",
      "<ipython-input-8-e81bfb40e710>:2: UserWarning: Boolean Series key will be reindexed to match DataFrame index.\n",
      "  c = df[df['Lugar de residencia'] == 'Huelva (capital)'][df['Medida'] == 'Confirmados PDIA']['Valor'].values[0]\n"
     ]
    }
   ],
   "source": [
    "# Confirmados PCR Huelva capitalpd\n",
    "c = df[df['Lugar de residencia'] == 'Huelva (capital)'][df['Medida'] == 'Confirmados PDIA']['Valor'].values[0]\n",
    "print('Confirmados PCR en Huelva capital: ', c)"
   ]
  },
  {
   "cell_type": "code",
   "execution_count": 9,
   "metadata": {
    "tags": []
   },
   "outputs": [
    {
     "output_type": "stream",
     "name": "stderr",
     "text": [
      "<ipython-input-9-f09dd2050cc1>:1: UserWarning: Boolean Series key will be reindexed to match DataFrame index.\n  c7 = df[df['Lugar de residencia'] == 'Huelva (capital)'][df['Medida'] == 'Confirmados PDIA 7 días']['Valor'].values[0]\n<ipython-input-9-f09dd2050cc1>:2: UserWarning: Boolean Series key will be reindexed to match DataFrame index.\n  c14 = df[df['Lugar de residencia'] == 'Huelva (capital)'][df['Medida'] == 'Confirmados PDIA 14 días']['Valor'].values[0]\n<ipython-input-9-f09dd2050cc1>:3: UserWarning: Boolean Series key will be reindexed to match DataFrame index.\n  p = df[df['Lugar de residencia'] == 'Huelva (capital)'][df['Medida'] == 'Población']['Valor'].values[0]\n"
     ]
    }
   ],
   "source": [
    "c7 = df[df['Lugar de residencia'] == 'Huelva (capital)'][df['Medida'] == 'Confirmados PDIA 7 días']['Valor'].values[0]\n",
    "c14 = df[df['Lugar de residencia'] == 'Huelva (capital)'][df['Medida'] == 'Confirmados PDIA 14 días']['Valor'].values[0]\n",
    "p = df[df['Lugar de residencia'] == 'Huelva (capital)'][df['Medida'] == 'Población']['Valor'].values[0]"
   ]
  },
  {
   "cell_type": "code",
   "execution_count": 10,
   "metadata": {
    "tags": []
   },
   "outputs": [
    {
     "output_type": "stream",
     "name": "stdout",
     "text": [
      "Huelva (capital)\n\nUn positivo PCR cada 514 personas en los últimos 7 días \n\nUn positivo PCR cada 237 personas en los últimos 14 días\n"
     ]
    }
   ],
   "source": [
    "print('Huelva (capital)\\n')\n",
    "#print('Confirmados PCR 7 días x 1,000 habitantes: ', f\"{c7/(p/1000):.5f}\")\n",
    "print('Un positivo PCR cada', f\"{p/c7:.0f}\", 'personas en los últimos 7 días', '\\n')\n",
    "#print('Confirmados PCR 14 días x 1,000 habitantes: ', f\"{c14/(p/1000):.5f}\")\n",
    "print('Un positivo PCR cada', f\"{p/c14:.0f}\", 'personas en los últimos 14 días')"
   ]
  },
  {
   "cell_type": "code",
   "execution_count": 11,
   "metadata": {},
   "outputs": [],
   "source": [
    "filtro = ((df['Medida'] == 'Confirmados PDIA')| (df['Medida'] == 'Confirmados PDIA 7 días') | (df['Medida'] == 'Población' ) | (df['Medida'] == 'Confirmados PDIA 14 días')) & (df['Valor'] > 0)\n",
    "tabla = pd.pivot_table(df.loc[filtro], values='Valor', index='Lugar de residencia', columns='Medida').dropna()"
   ]
  },
  {
   "cell_type": "code",
   "execution_count": 12,
   "metadata": {},
   "outputs": [],
   "source": [
    "# Reorder columns\n",
    "tabla = tabla[['Confirmados PDIA', 'Confirmados PDIA 7 días', 'Confirmados PDIA 14 días', 'Población']]"
   ]
  },
  {
   "cell_type": "code",
   "execution_count": 13,
   "metadata": {},
   "outputs": [],
   "source": [
    "tabla['tasa7'] = tabla['Confirmados PDIA 7 días']/tabla['Población']*100000\n",
    "tabla['tasa14'] = tabla['Confirmados PDIA 14 días']/tabla['Población']*100000"
   ]
  },
  {
   "cell_type": "code",
   "execution_count": 14,
   "metadata": {},
   "outputs": [],
   "source": [
    "tabla['Diferencia PDIA'] = tabla['Confirmados PDIA'] - dfAnterior['Confirmados PDIA']"
   ]
  },
  {
   "cell_type": "code",
   "execution_count": 15,
   "metadata": {},
   "outputs": [
    {
     "output_type": "execute_result",
     "data": {
      "text/plain": [
       "Medida                             Confirmados PDIA  Confirmados PDIA 7 días  \\\n",
       "Lugar de residencia                                                            \n",
       "Huelva                                      32106.0                    690.0   \n",
       "Huelva-Costa                                18487.0                    392.0   \n",
       "Huelva (capital)                             8649.0                    280.0   \n",
       "Condado-Campiña                             10430.0                    229.0   \n",
       "Moguer                                       1326.0                     36.0   \n",
       "Aljaraque                                    1139.0                     39.0   \n",
       "Sierra de Huelva-Andévalo Central            2839.0                     66.0   \n",
       "Almonte                                      1856.0                     37.0   \n",
       "San Juan del Puerto                           532.0                     30.0   \n",
       "Valverde del Camino                           616.0                     37.0   \n",
       "Lepe                                         2144.0                     16.0   \n",
       "Bonares                                       285.0                     13.0   \n",
       "Palos de la Frontera                          688.0                     25.0   \n",
       "Alosno                                        171.0                      4.0   \n",
       "Bollullos Par del Condado                    1005.0                     28.0   \n",
       "Punta Umbría                                  835.0                     25.0   \n",
       "Cartaya                                      1356.0                     12.0   \n",
       "Aracena                                       533.0                      6.0   \n",
       "Gibraleón                                     636.0                      5.0   \n",
       "Palma del Condado (La)                       1166.0                     14.0   \n",
       "Lucena del Puerto                             259.0                      5.0   \n",
       "Isla Cristina                                2155.0                      5.0   \n",
       "Puebla de Guzmán                              123.0                      5.0   \n",
       "Niebla                                        240.0                      5.0   \n",
       "San Bartolomé de la Torre                     301.0                      2.0   \n",
       "Trigueros                                     320.0                     15.0   \n",
       "Villanueva de los Castillejos                 164.0                      2.0   \n",
       "Ayamonte                                     1322.0                      4.0   \n",
       "Rosal de la Frontera                           30.0                      1.0   \n",
       "\n",
       "Medida                             Confirmados PDIA 14 días  Población  \\\n",
       "Lugar de residencia                                                      \n",
       "Huelva                                               1507.0   513170.0   \n",
       "Huelva-Costa                                          837.0   289548.0   \n",
       "Huelva (capital)                                      607.0   143837.0   \n",
       "Condado-Campiña                                       522.0   156231.0   \n",
       "Moguer                                                 82.0    21867.0   \n",
       "Aljaraque                                              81.0    21474.0   \n",
       "Sierra de Huelva-Andévalo Central                     143.0    67391.0   \n",
       "Almonte                                               104.0    24507.0   \n",
       "San Juan del Puerto                                    48.0     9411.0   \n",
       "Valverde del Camino                                    77.0    12750.0   \n",
       "Lepe                                                   24.0    27880.0   \n",
       "Bonares                                                21.0     6060.0   \n",
       "Palos de la Frontera                                   55.0    11742.0   \n",
       "Alosno                                                  5.0     3933.0   \n",
       "Bollullos Par del Condado                              49.0    14387.0   \n",
       "Punta Umbría                                           37.0    15355.0   \n",
       "Cartaya                                                38.0    20083.0   \n",
       "Aracena                                                15.0     8255.0   \n",
       "Gibraleón                                              23.0    12737.0   \n",
       "Palma del Condado (La)                                 32.0    10801.0   \n",
       "Lucena del Puerto                                      11.0     3261.0   \n",
       "Isla Cristina                                          19.0    21393.0   \n",
       "Puebla de Guzmán                                       10.0     3092.0   \n",
       "Niebla                                                 21.0     4116.0   \n",
       "San Bartolomé de la Torre                              10.0     3761.0   \n",
       "Trigueros                                              28.0     7862.0   \n",
       "Villanueva de los Castillejos                           6.0     2825.0   \n",
       "Ayamonte                                               10.0    21104.0   \n",
       "Rosal de la Frontera                                    1.0     1697.0   \n",
       "\n",
       "Medida                                  tasa7      tasa14  Diferencia PDIA  \n",
       "Lugar de residencia                                                         \n",
       "Huelva                             134.458367  293.664867            144.0  \n",
       "Huelva-Costa                       135.383425  289.071242             84.0  \n",
       "Huelva (capital)                   194.664794  422.005465             57.0  \n",
       "Condado-Campiña                    146.577824  334.120629             50.0  \n",
       "Moguer                             164.631637  374.994284             13.0  \n",
       "Aljaraque                          181.614976  377.200335             12.0  \n",
       "Sierra de Huelva-Andévalo Central   97.935926  212.194507             10.0  \n",
       "Almonte                            150.977272  424.368548             10.0  \n",
       "San Juan del Puerto                318.775901  510.041441              8.0  \n",
       "Valverde del Camino                290.196078  603.921569              7.0  \n",
       "Lepe                                57.388809   86.083214              4.0  \n",
       "Bonares                            214.521452  346.534653              4.0  \n",
       "Palos de la Frontera               212.910918  468.404020              3.0  \n",
       "Alosno                             101.703534  127.129418              3.0  \n",
       "Bollullos Par del Condado          194.620143  340.585251              3.0  \n",
       "Punta Umbría                       162.813416  240.963855              3.0  \n",
       "Cartaya                             59.752029  189.214759              2.0  \n",
       "Aracena                             72.683222  181.708056              2.0  \n",
       "Gibraleón                           39.255712  180.576274              2.0  \n",
       "Palma del Condado (La)             129.617628  296.268864              2.0  \n",
       "Lucena del Puerto                  153.327200  337.319841              2.0  \n",
       "Isla Cristina                       23.372131   88.814098              2.0  \n",
       "Puebla de Guzmán                   161.707633  323.415265              1.0  \n",
       "Niebla                             121.477162  510.204082              1.0  \n",
       "San Bartolomé de la Torre           53.177346  265.886732              1.0  \n",
       "Trigueros                          190.791147  356.143475              1.0  \n",
       "Villanueva de los Castillejos       70.796460  212.389381              1.0  \n",
       "Ayamonte                            18.953753   47.384382             -1.0  \n",
       "Rosal de la Frontera                58.927519   58.927519              NaN  "
      ],
      "text/html": "<div>\n<style scoped>\n    .dataframe tbody tr th:only-of-type {\n        vertical-align: middle;\n    }\n\n    .dataframe tbody tr th {\n        vertical-align: top;\n    }\n\n    .dataframe thead th {\n        text-align: right;\n    }\n</style>\n<table border=\"1\" class=\"dataframe\">\n  <thead>\n    <tr style=\"text-align: right;\">\n      <th>Medida</th>\n      <th>Confirmados PDIA</th>\n      <th>Confirmados PDIA 7 días</th>\n      <th>Confirmados PDIA 14 días</th>\n      <th>Población</th>\n      <th>tasa7</th>\n      <th>tasa14</th>\n      <th>Diferencia PDIA</th>\n    </tr>\n    <tr>\n      <th>Lugar de residencia</th>\n      <th></th>\n      <th></th>\n      <th></th>\n      <th></th>\n      <th></th>\n      <th></th>\n      <th></th>\n    </tr>\n  </thead>\n  <tbody>\n    <tr>\n      <th>Huelva</th>\n      <td>32106.0</td>\n      <td>690.0</td>\n      <td>1507.0</td>\n      <td>513170.0</td>\n      <td>134.458367</td>\n      <td>293.664867</td>\n      <td>144.0</td>\n    </tr>\n    <tr>\n      <th>Huelva-Costa</th>\n      <td>18487.0</td>\n      <td>392.0</td>\n      <td>837.0</td>\n      <td>289548.0</td>\n      <td>135.383425</td>\n      <td>289.071242</td>\n      <td>84.0</td>\n    </tr>\n    <tr>\n      <th>Huelva (capital)</th>\n      <td>8649.0</td>\n      <td>280.0</td>\n      <td>607.0</td>\n      <td>143837.0</td>\n      <td>194.664794</td>\n      <td>422.005465</td>\n      <td>57.0</td>\n    </tr>\n    <tr>\n      <th>Condado-Campiña</th>\n      <td>10430.0</td>\n      <td>229.0</td>\n      <td>522.0</td>\n      <td>156231.0</td>\n      <td>146.577824</td>\n      <td>334.120629</td>\n      <td>50.0</td>\n    </tr>\n    <tr>\n      <th>Moguer</th>\n      <td>1326.0</td>\n      <td>36.0</td>\n      <td>82.0</td>\n      <td>21867.0</td>\n      <td>164.631637</td>\n      <td>374.994284</td>\n      <td>13.0</td>\n    </tr>\n    <tr>\n      <th>Aljaraque</th>\n      <td>1139.0</td>\n      <td>39.0</td>\n      <td>81.0</td>\n      <td>21474.0</td>\n      <td>181.614976</td>\n      <td>377.200335</td>\n      <td>12.0</td>\n    </tr>\n    <tr>\n      <th>Sierra de Huelva-Andévalo Central</th>\n      <td>2839.0</td>\n      <td>66.0</td>\n      <td>143.0</td>\n      <td>67391.0</td>\n      <td>97.935926</td>\n      <td>212.194507</td>\n      <td>10.0</td>\n    </tr>\n    <tr>\n      <th>Almonte</th>\n      <td>1856.0</td>\n      <td>37.0</td>\n      <td>104.0</td>\n      <td>24507.0</td>\n      <td>150.977272</td>\n      <td>424.368548</td>\n      <td>10.0</td>\n    </tr>\n    <tr>\n      <th>San Juan del Puerto</th>\n      <td>532.0</td>\n      <td>30.0</td>\n      <td>48.0</td>\n      <td>9411.0</td>\n      <td>318.775901</td>\n      <td>510.041441</td>\n      <td>8.0</td>\n    </tr>\n    <tr>\n      <th>Valverde del Camino</th>\n      <td>616.0</td>\n      <td>37.0</td>\n      <td>77.0</td>\n      <td>12750.0</td>\n      <td>290.196078</td>\n      <td>603.921569</td>\n      <td>7.0</td>\n    </tr>\n    <tr>\n      <th>Lepe</th>\n      <td>2144.0</td>\n      <td>16.0</td>\n      <td>24.0</td>\n      <td>27880.0</td>\n      <td>57.388809</td>\n      <td>86.083214</td>\n      <td>4.0</td>\n    </tr>\n    <tr>\n      <th>Bonares</th>\n      <td>285.0</td>\n      <td>13.0</td>\n      <td>21.0</td>\n      <td>6060.0</td>\n      <td>214.521452</td>\n      <td>346.534653</td>\n      <td>4.0</td>\n    </tr>\n    <tr>\n      <th>Palos de la Frontera</th>\n      <td>688.0</td>\n      <td>25.0</td>\n      <td>55.0</td>\n      <td>11742.0</td>\n      <td>212.910918</td>\n      <td>468.404020</td>\n      <td>3.0</td>\n    </tr>\n    <tr>\n      <th>Alosno</th>\n      <td>171.0</td>\n      <td>4.0</td>\n      <td>5.0</td>\n      <td>3933.0</td>\n      <td>101.703534</td>\n      <td>127.129418</td>\n      <td>3.0</td>\n    </tr>\n    <tr>\n      <th>Bollullos Par del Condado</th>\n      <td>1005.0</td>\n      <td>28.0</td>\n      <td>49.0</td>\n      <td>14387.0</td>\n      <td>194.620143</td>\n      <td>340.585251</td>\n      <td>3.0</td>\n    </tr>\n    <tr>\n      <th>Punta Umbría</th>\n      <td>835.0</td>\n      <td>25.0</td>\n      <td>37.0</td>\n      <td>15355.0</td>\n      <td>162.813416</td>\n      <td>240.963855</td>\n      <td>3.0</td>\n    </tr>\n    <tr>\n      <th>Cartaya</th>\n      <td>1356.0</td>\n      <td>12.0</td>\n      <td>38.0</td>\n      <td>20083.0</td>\n      <td>59.752029</td>\n      <td>189.214759</td>\n      <td>2.0</td>\n    </tr>\n    <tr>\n      <th>Aracena</th>\n      <td>533.0</td>\n      <td>6.0</td>\n      <td>15.0</td>\n      <td>8255.0</td>\n      <td>72.683222</td>\n      <td>181.708056</td>\n      <td>2.0</td>\n    </tr>\n    <tr>\n      <th>Gibraleón</th>\n      <td>636.0</td>\n      <td>5.0</td>\n      <td>23.0</td>\n      <td>12737.0</td>\n      <td>39.255712</td>\n      <td>180.576274</td>\n      <td>2.0</td>\n    </tr>\n    <tr>\n      <th>Palma del Condado (La)</th>\n      <td>1166.0</td>\n      <td>14.0</td>\n      <td>32.0</td>\n      <td>10801.0</td>\n      <td>129.617628</td>\n      <td>296.268864</td>\n      <td>2.0</td>\n    </tr>\n    <tr>\n      <th>Lucena del Puerto</th>\n      <td>259.0</td>\n      <td>5.0</td>\n      <td>11.0</td>\n      <td>3261.0</td>\n      <td>153.327200</td>\n      <td>337.319841</td>\n      <td>2.0</td>\n    </tr>\n    <tr>\n      <th>Isla Cristina</th>\n      <td>2155.0</td>\n      <td>5.0</td>\n      <td>19.0</td>\n      <td>21393.0</td>\n      <td>23.372131</td>\n      <td>88.814098</td>\n      <td>2.0</td>\n    </tr>\n    <tr>\n      <th>Puebla de Guzmán</th>\n      <td>123.0</td>\n      <td>5.0</td>\n      <td>10.0</td>\n      <td>3092.0</td>\n      <td>161.707633</td>\n      <td>323.415265</td>\n      <td>1.0</td>\n    </tr>\n    <tr>\n      <th>Niebla</th>\n      <td>240.0</td>\n      <td>5.0</td>\n      <td>21.0</td>\n      <td>4116.0</td>\n      <td>121.477162</td>\n      <td>510.204082</td>\n      <td>1.0</td>\n    </tr>\n    <tr>\n      <th>San Bartolomé de la Torre</th>\n      <td>301.0</td>\n      <td>2.0</td>\n      <td>10.0</td>\n      <td>3761.0</td>\n      <td>53.177346</td>\n      <td>265.886732</td>\n      <td>1.0</td>\n    </tr>\n    <tr>\n      <th>Trigueros</th>\n      <td>320.0</td>\n      <td>15.0</td>\n      <td>28.0</td>\n      <td>7862.0</td>\n      <td>190.791147</td>\n      <td>356.143475</td>\n      <td>1.0</td>\n    </tr>\n    <tr>\n      <th>Villanueva de los Castillejos</th>\n      <td>164.0</td>\n      <td>2.0</td>\n      <td>6.0</td>\n      <td>2825.0</td>\n      <td>70.796460</td>\n      <td>212.389381</td>\n      <td>1.0</td>\n    </tr>\n    <tr>\n      <th>Ayamonte</th>\n      <td>1322.0</td>\n      <td>4.0</td>\n      <td>10.0</td>\n      <td>21104.0</td>\n      <td>18.953753</td>\n      <td>47.384382</td>\n      <td>-1.0</td>\n    </tr>\n    <tr>\n      <th>Rosal de la Frontera</th>\n      <td>30.0</td>\n      <td>1.0</td>\n      <td>1.0</td>\n      <td>1697.0</td>\n      <td>58.927519</td>\n      <td>58.927519</td>\n      <td>NaN</td>\n    </tr>\n  </tbody>\n</table>\n</div>"
     },
     "metadata": {},
     "execution_count": 15
    }
   ],
   "source": [
    "# Nuevos casos desde la última captura\n",
    "tabla[tabla['Diferencia PDIA'] != 0].sort_values('Diferencia PDIA', ascending=False)"
   ]
  },
  {
   "cell_type": "code",
   "execution_count": 16,
   "metadata": {},
   "outputs": [],
   "source": [
    "if tabla[tabla['Diferencia PDIA'] != 0]['Diferencia PDIA'].sum() != 0:\n",
    "  # Save to csv\n",
    "  tabla.to_csv('covid_huelva.csv', encoding='utf-8', header=True, index=True)  "
   ]
  },
  {
   "cell_type": "code",
   "execution_count": 17,
   "metadata": {},
   "outputs": [
    {
     "output_type": "execute_result",
     "data": {
      "text/plain": [
       "Medida                             Confirmados PDIA  Confirmados PDIA 7 días  \\\n",
       "Lugar de residencia                                                            \n",
       "Valverde del Camino                           616.0                     37.0   \n",
       "Villarrasa                                    179.0                      6.0   \n",
       "Niebla                                        240.0                      5.0   \n",
       "San Juan del Puerto                           532.0                     30.0   \n",
       "Palos de la Frontera                          688.0                     25.0   \n",
       "Almonte                                      1856.0                     37.0   \n",
       "Huelva (capital)                             8649.0                    280.0   \n",
       "Aljaraque                                    1139.0                     39.0   \n",
       "Moguer                                       1326.0                     36.0   \n",
       "Trigueros                                     320.0                     15.0   \n",
       "Bonares                                       285.0                     13.0   \n",
       "Bollullos Par del Condado                    1005.0                     28.0   \n",
       "Lucena del Puerto                             259.0                      5.0   \n",
       "Cortelazor                                      9.0                      1.0   \n",
       "Condado-Campiña                             10430.0                    229.0   \n",
       "Puebla de Guzmán                              123.0                      5.0   \n",
       "Palma del Condado (La)                       1166.0                     14.0   \n",
       "Huelva                                      32106.0                    690.0   \n",
       "Huelva-Costa                                18487.0                    392.0   \n",
       "Cortegana                                     214.0                      8.0   \n",
       "San Bartolomé de la Torre                     301.0                      2.0   \n",
       "Minas de Riotinto                             127.0                      5.0   \n",
       "Punta Umbría                                  835.0                     25.0   \n",
       "Manzanilla                                    102.0                      3.0   \n",
       "Villanueva de los Castillejos                 164.0                      2.0   \n",
       "Sierra de Huelva-Andévalo Central            2839.0                     66.0   \n",
       "Cartaya                                      1356.0                     12.0   \n",
       "Aracena                                       533.0                      6.0   \n",
       "Gibraleón                                     636.0                      5.0   \n",
       "Rociana del Condado                           558.0                      1.0   \n",
       "Cumbres Mayores                                53.0                      2.0   \n",
       "Zalamea la Real                                94.0                      3.0   \n",
       "Higuera de la Sierra                           34.0                      1.0   \n",
       "Alosno                                        171.0                      4.0   \n",
       "Beas                                          213.0                      3.0   \n",
       "Isla Cristina                                2155.0                      5.0   \n",
       "Lepe                                         2144.0                     16.0   \n",
       "Galaroza                                       42.0                      1.0   \n",
       "Rosal de la Frontera                           30.0                      1.0   \n",
       "Paterna del Campo                             129.0                      1.0   \n",
       "Ayamonte                                     1322.0                      4.0   \n",
       "Aroche                                         91.0                      1.0   \n",
       "\n",
       "Medida                             Confirmados PDIA 14 días  Población  \\\n",
       "Lugar de residencia                                                      \n",
       "Valverde del Camino                                    77.0    12750.0   \n",
       "Villarrasa                                             13.0     2211.0   \n",
       "Niebla                                                 21.0     4116.0   \n",
       "San Juan del Puerto                                    48.0     9411.0   \n",
       "Palos de la Frontera                                   55.0    11742.0   \n",
       "Almonte                                               104.0    24507.0   \n",
       "Huelva (capital)                                      607.0   143837.0   \n",
       "Aljaraque                                              81.0    21474.0   \n",
       "Moguer                                                 82.0    21867.0   \n",
       "Trigueros                                              28.0     7862.0   \n",
       "Bonares                                                21.0     6060.0   \n",
       "Bollullos Par del Condado                              49.0    14387.0   \n",
       "Lucena del Puerto                                      11.0     3261.0   \n",
       "Cortelazor                                              1.0      299.0   \n",
       "Condado-Campiña                                       522.0   156231.0   \n",
       "Puebla de Guzmán                                       10.0     3092.0   \n",
       "Palma del Condado (La)                                 32.0    10801.0   \n",
       "Huelva                                               1507.0   513170.0   \n",
       "Huelva-Costa                                          837.0   289548.0   \n",
       "Cortegana                                              13.0     4602.0   \n",
       "San Bartolomé de la Torre                              10.0     3761.0   \n",
       "Minas de Riotinto                                      10.0     3812.0   \n",
       "Punta Umbría                                           37.0    15355.0   \n",
       "Manzanilla                                              5.0     2118.0   \n",
       "Villanueva de los Castillejos                           6.0     2825.0   \n",
       "Sierra de Huelva-Andévalo Central                     143.0    67391.0   \n",
       "Cartaya                                                38.0    20083.0   \n",
       "Aracena                                                15.0     8255.0   \n",
       "Gibraleón                                              23.0    12737.0   \n",
       "Rociana del Condado                                    14.0     7939.0   \n",
       "Cumbres Mayores                                         3.0     1749.0   \n",
       "Zalamea la Real                                         5.0     3054.0   \n",
       "Higuera de la Sierra                                    2.0     1291.0   \n",
       "Alosno                                                  5.0     3933.0   \n",
       "Beas                                                    4.0     4341.0   \n",
       "Isla Cristina                                          19.0    21393.0   \n",
       "Lepe                                                   24.0    27880.0   \n",
       "Galaroza                                                1.0     1382.0   \n",
       "Rosal de la Frontera                                    1.0     1697.0   \n",
       "Paterna del Campo                                       2.0     3457.0   \n",
       "Ayamonte                                               10.0    21104.0   \n",
       "Aroche                                                  1.0     3054.0   \n",
       "\n",
       "Medida                                  tasa7      tasa14  Diferencia PDIA  \n",
       "Lugar de residencia                                                         \n",
       "Valverde del Camino                290.196078  603.921569              7.0  \n",
       "Villarrasa                         271.370421  587.969245              0.0  \n",
       "Niebla                             121.477162  510.204082              1.0  \n",
       "San Juan del Puerto                318.775901  510.041441              8.0  \n",
       "Palos de la Frontera               212.910918  468.404020              3.0  \n",
       "Almonte                            150.977272  424.368548             10.0  \n",
       "Huelva (capital)                   194.664794  422.005465             57.0  \n",
       "Aljaraque                          181.614976  377.200335             12.0  \n",
       "Moguer                             164.631637  374.994284             13.0  \n",
       "Trigueros                          190.791147  356.143475              1.0  \n",
       "Bonares                            214.521452  346.534653              4.0  \n",
       "Bollullos Par del Condado          194.620143  340.585251              3.0  \n",
       "Lucena del Puerto                  153.327200  337.319841              2.0  \n",
       "Cortelazor                         334.448161  334.448161              0.0  \n",
       "Condado-Campiña                    146.577824  334.120629             50.0  \n",
       "Puebla de Guzmán                   161.707633  323.415265              1.0  \n",
       "Palma del Condado (La)             129.617628  296.268864              2.0  \n",
       "Huelva                             134.458367  293.664867            144.0  \n",
       "Huelva-Costa                       135.383425  289.071242             84.0  \n",
       "Cortegana                          173.837462  282.485876              0.0  \n",
       "San Bartolomé de la Torre           53.177346  265.886732              1.0  \n",
       "Minas de Riotinto                  131.164743  262.329486              0.0  \n",
       "Punta Umbría                       162.813416  240.963855              3.0  \n",
       "Manzanilla                         141.643059  236.071766              0.0  \n",
       "Villanueva de los Castillejos       70.796460  212.389381              1.0  \n",
       "Sierra de Huelva-Andévalo Central   97.935926  212.194507             10.0  \n",
       "Cartaya                             59.752029  189.214759              2.0  \n",
       "Aracena                             72.683222  181.708056              2.0  \n",
       "Gibraleón                           39.255712  180.576274              2.0  \n",
       "Rociana del Condado                 12.596045  176.344628              0.0  \n",
       "Cumbres Mayores                    114.351058  171.526587              0.0  \n",
       "Zalamea la Real                     98.231827  163.719712              0.0  \n",
       "Higuera de la Sierra                77.459334  154.918668              0.0  \n",
       "Alosno                             101.703534  127.129418              3.0  \n",
       "Beas                                69.108500   92.144667              0.0  \n",
       "Isla Cristina                       23.372131   88.814098              2.0  \n",
       "Lepe                                57.388809   86.083214              4.0  \n",
       "Galaroza                            72.358900   72.358900              0.0  \n",
       "Rosal de la Frontera                58.927519   58.927519              NaN  \n",
       "Paterna del Campo                   28.926815   57.853630              0.0  \n",
       "Ayamonte                            18.953753   47.384382             -1.0  \n",
       "Aroche                              32.743942   32.743942              0.0  "
      ],
      "text/html": "<div>\n<style scoped>\n    .dataframe tbody tr th:only-of-type {\n        vertical-align: middle;\n    }\n\n    .dataframe tbody tr th {\n        vertical-align: top;\n    }\n\n    .dataframe thead th {\n        text-align: right;\n    }\n</style>\n<table border=\"1\" class=\"dataframe\">\n  <thead>\n    <tr style=\"text-align: right;\">\n      <th>Medida</th>\n      <th>Confirmados PDIA</th>\n      <th>Confirmados PDIA 7 días</th>\n      <th>Confirmados PDIA 14 días</th>\n      <th>Población</th>\n      <th>tasa7</th>\n      <th>tasa14</th>\n      <th>Diferencia PDIA</th>\n    </tr>\n    <tr>\n      <th>Lugar de residencia</th>\n      <th></th>\n      <th></th>\n      <th></th>\n      <th></th>\n      <th></th>\n      <th></th>\n      <th></th>\n    </tr>\n  </thead>\n  <tbody>\n    <tr>\n      <th>Valverde del Camino</th>\n      <td>616.0</td>\n      <td>37.0</td>\n      <td>77.0</td>\n      <td>12750.0</td>\n      <td>290.196078</td>\n      <td>603.921569</td>\n      <td>7.0</td>\n    </tr>\n    <tr>\n      <th>Villarrasa</th>\n      <td>179.0</td>\n      <td>6.0</td>\n      <td>13.0</td>\n      <td>2211.0</td>\n      <td>271.370421</td>\n      <td>587.969245</td>\n      <td>0.0</td>\n    </tr>\n    <tr>\n      <th>Niebla</th>\n      <td>240.0</td>\n      <td>5.0</td>\n      <td>21.0</td>\n      <td>4116.0</td>\n      <td>121.477162</td>\n      <td>510.204082</td>\n      <td>1.0</td>\n    </tr>\n    <tr>\n      <th>San Juan del Puerto</th>\n      <td>532.0</td>\n      <td>30.0</td>\n      <td>48.0</td>\n      <td>9411.0</td>\n      <td>318.775901</td>\n      <td>510.041441</td>\n      <td>8.0</td>\n    </tr>\n    <tr>\n      <th>Palos de la Frontera</th>\n      <td>688.0</td>\n      <td>25.0</td>\n      <td>55.0</td>\n      <td>11742.0</td>\n      <td>212.910918</td>\n      <td>468.404020</td>\n      <td>3.0</td>\n    </tr>\n    <tr>\n      <th>Almonte</th>\n      <td>1856.0</td>\n      <td>37.0</td>\n      <td>104.0</td>\n      <td>24507.0</td>\n      <td>150.977272</td>\n      <td>424.368548</td>\n      <td>10.0</td>\n    </tr>\n    <tr>\n      <th>Huelva (capital)</th>\n      <td>8649.0</td>\n      <td>280.0</td>\n      <td>607.0</td>\n      <td>143837.0</td>\n      <td>194.664794</td>\n      <td>422.005465</td>\n      <td>57.0</td>\n    </tr>\n    <tr>\n      <th>Aljaraque</th>\n      <td>1139.0</td>\n      <td>39.0</td>\n      <td>81.0</td>\n      <td>21474.0</td>\n      <td>181.614976</td>\n      <td>377.200335</td>\n      <td>12.0</td>\n    </tr>\n    <tr>\n      <th>Moguer</th>\n      <td>1326.0</td>\n      <td>36.0</td>\n      <td>82.0</td>\n      <td>21867.0</td>\n      <td>164.631637</td>\n      <td>374.994284</td>\n      <td>13.0</td>\n    </tr>\n    <tr>\n      <th>Trigueros</th>\n      <td>320.0</td>\n      <td>15.0</td>\n      <td>28.0</td>\n      <td>7862.0</td>\n      <td>190.791147</td>\n      <td>356.143475</td>\n      <td>1.0</td>\n    </tr>\n    <tr>\n      <th>Bonares</th>\n      <td>285.0</td>\n      <td>13.0</td>\n      <td>21.0</td>\n      <td>6060.0</td>\n      <td>214.521452</td>\n      <td>346.534653</td>\n      <td>4.0</td>\n    </tr>\n    <tr>\n      <th>Bollullos Par del Condado</th>\n      <td>1005.0</td>\n      <td>28.0</td>\n      <td>49.0</td>\n      <td>14387.0</td>\n      <td>194.620143</td>\n      <td>340.585251</td>\n      <td>3.0</td>\n    </tr>\n    <tr>\n      <th>Lucena del Puerto</th>\n      <td>259.0</td>\n      <td>5.0</td>\n      <td>11.0</td>\n      <td>3261.0</td>\n      <td>153.327200</td>\n      <td>337.319841</td>\n      <td>2.0</td>\n    </tr>\n    <tr>\n      <th>Cortelazor</th>\n      <td>9.0</td>\n      <td>1.0</td>\n      <td>1.0</td>\n      <td>299.0</td>\n      <td>334.448161</td>\n      <td>334.448161</td>\n      <td>0.0</td>\n    </tr>\n    <tr>\n      <th>Condado-Campiña</th>\n      <td>10430.0</td>\n      <td>229.0</td>\n      <td>522.0</td>\n      <td>156231.0</td>\n      <td>146.577824</td>\n      <td>334.120629</td>\n      <td>50.0</td>\n    </tr>\n    <tr>\n      <th>Puebla de Guzmán</th>\n      <td>123.0</td>\n      <td>5.0</td>\n      <td>10.0</td>\n      <td>3092.0</td>\n      <td>161.707633</td>\n      <td>323.415265</td>\n      <td>1.0</td>\n    </tr>\n    <tr>\n      <th>Palma del Condado (La)</th>\n      <td>1166.0</td>\n      <td>14.0</td>\n      <td>32.0</td>\n      <td>10801.0</td>\n      <td>129.617628</td>\n      <td>296.268864</td>\n      <td>2.0</td>\n    </tr>\n    <tr>\n      <th>Huelva</th>\n      <td>32106.0</td>\n      <td>690.0</td>\n      <td>1507.0</td>\n      <td>513170.0</td>\n      <td>134.458367</td>\n      <td>293.664867</td>\n      <td>144.0</td>\n    </tr>\n    <tr>\n      <th>Huelva-Costa</th>\n      <td>18487.0</td>\n      <td>392.0</td>\n      <td>837.0</td>\n      <td>289548.0</td>\n      <td>135.383425</td>\n      <td>289.071242</td>\n      <td>84.0</td>\n    </tr>\n    <tr>\n      <th>Cortegana</th>\n      <td>214.0</td>\n      <td>8.0</td>\n      <td>13.0</td>\n      <td>4602.0</td>\n      <td>173.837462</td>\n      <td>282.485876</td>\n      <td>0.0</td>\n    </tr>\n    <tr>\n      <th>San Bartolomé de la Torre</th>\n      <td>301.0</td>\n      <td>2.0</td>\n      <td>10.0</td>\n      <td>3761.0</td>\n      <td>53.177346</td>\n      <td>265.886732</td>\n      <td>1.0</td>\n    </tr>\n    <tr>\n      <th>Minas de Riotinto</th>\n      <td>127.0</td>\n      <td>5.0</td>\n      <td>10.0</td>\n      <td>3812.0</td>\n      <td>131.164743</td>\n      <td>262.329486</td>\n      <td>0.0</td>\n    </tr>\n    <tr>\n      <th>Punta Umbría</th>\n      <td>835.0</td>\n      <td>25.0</td>\n      <td>37.0</td>\n      <td>15355.0</td>\n      <td>162.813416</td>\n      <td>240.963855</td>\n      <td>3.0</td>\n    </tr>\n    <tr>\n      <th>Manzanilla</th>\n      <td>102.0</td>\n      <td>3.0</td>\n      <td>5.0</td>\n      <td>2118.0</td>\n      <td>141.643059</td>\n      <td>236.071766</td>\n      <td>0.0</td>\n    </tr>\n    <tr>\n      <th>Villanueva de los Castillejos</th>\n      <td>164.0</td>\n      <td>2.0</td>\n      <td>6.0</td>\n      <td>2825.0</td>\n      <td>70.796460</td>\n      <td>212.389381</td>\n      <td>1.0</td>\n    </tr>\n    <tr>\n      <th>Sierra de Huelva-Andévalo Central</th>\n      <td>2839.0</td>\n      <td>66.0</td>\n      <td>143.0</td>\n      <td>67391.0</td>\n      <td>97.935926</td>\n      <td>212.194507</td>\n      <td>10.0</td>\n    </tr>\n    <tr>\n      <th>Cartaya</th>\n      <td>1356.0</td>\n      <td>12.0</td>\n      <td>38.0</td>\n      <td>20083.0</td>\n      <td>59.752029</td>\n      <td>189.214759</td>\n      <td>2.0</td>\n    </tr>\n    <tr>\n      <th>Aracena</th>\n      <td>533.0</td>\n      <td>6.0</td>\n      <td>15.0</td>\n      <td>8255.0</td>\n      <td>72.683222</td>\n      <td>181.708056</td>\n      <td>2.0</td>\n    </tr>\n    <tr>\n      <th>Gibraleón</th>\n      <td>636.0</td>\n      <td>5.0</td>\n      <td>23.0</td>\n      <td>12737.0</td>\n      <td>39.255712</td>\n      <td>180.576274</td>\n      <td>2.0</td>\n    </tr>\n    <tr>\n      <th>Rociana del Condado</th>\n      <td>558.0</td>\n      <td>1.0</td>\n      <td>14.0</td>\n      <td>7939.0</td>\n      <td>12.596045</td>\n      <td>176.344628</td>\n      <td>0.0</td>\n    </tr>\n    <tr>\n      <th>Cumbres Mayores</th>\n      <td>53.0</td>\n      <td>2.0</td>\n      <td>3.0</td>\n      <td>1749.0</td>\n      <td>114.351058</td>\n      <td>171.526587</td>\n      <td>0.0</td>\n    </tr>\n    <tr>\n      <th>Zalamea la Real</th>\n      <td>94.0</td>\n      <td>3.0</td>\n      <td>5.0</td>\n      <td>3054.0</td>\n      <td>98.231827</td>\n      <td>163.719712</td>\n      <td>0.0</td>\n    </tr>\n    <tr>\n      <th>Higuera de la Sierra</th>\n      <td>34.0</td>\n      <td>1.0</td>\n      <td>2.0</td>\n      <td>1291.0</td>\n      <td>77.459334</td>\n      <td>154.918668</td>\n      <td>0.0</td>\n    </tr>\n    <tr>\n      <th>Alosno</th>\n      <td>171.0</td>\n      <td>4.0</td>\n      <td>5.0</td>\n      <td>3933.0</td>\n      <td>101.703534</td>\n      <td>127.129418</td>\n      <td>3.0</td>\n    </tr>\n    <tr>\n      <th>Beas</th>\n      <td>213.0</td>\n      <td>3.0</td>\n      <td>4.0</td>\n      <td>4341.0</td>\n      <td>69.108500</td>\n      <td>92.144667</td>\n      <td>0.0</td>\n    </tr>\n    <tr>\n      <th>Isla Cristina</th>\n      <td>2155.0</td>\n      <td>5.0</td>\n      <td>19.0</td>\n      <td>21393.0</td>\n      <td>23.372131</td>\n      <td>88.814098</td>\n      <td>2.0</td>\n    </tr>\n    <tr>\n      <th>Lepe</th>\n      <td>2144.0</td>\n      <td>16.0</td>\n      <td>24.0</td>\n      <td>27880.0</td>\n      <td>57.388809</td>\n      <td>86.083214</td>\n      <td>4.0</td>\n    </tr>\n    <tr>\n      <th>Galaroza</th>\n      <td>42.0</td>\n      <td>1.0</td>\n      <td>1.0</td>\n      <td>1382.0</td>\n      <td>72.358900</td>\n      <td>72.358900</td>\n      <td>0.0</td>\n    </tr>\n    <tr>\n      <th>Rosal de la Frontera</th>\n      <td>30.0</td>\n      <td>1.0</td>\n      <td>1.0</td>\n      <td>1697.0</td>\n      <td>58.927519</td>\n      <td>58.927519</td>\n      <td>NaN</td>\n    </tr>\n    <tr>\n      <th>Paterna del Campo</th>\n      <td>129.0</td>\n      <td>1.0</td>\n      <td>2.0</td>\n      <td>3457.0</td>\n      <td>28.926815</td>\n      <td>57.853630</td>\n      <td>0.0</td>\n    </tr>\n    <tr>\n      <th>Ayamonte</th>\n      <td>1322.0</td>\n      <td>4.0</td>\n      <td>10.0</td>\n      <td>21104.0</td>\n      <td>18.953753</td>\n      <td>47.384382</td>\n      <td>-1.0</td>\n    </tr>\n    <tr>\n      <th>Aroche</th>\n      <td>91.0</td>\n      <td>1.0</td>\n      <td>1.0</td>\n      <td>3054.0</td>\n      <td>32.743942</td>\n      <td>32.743942</td>\n      <td>0.0</td>\n    </tr>\n  </tbody>\n</table>\n</div>"
     },
     "metadata": {},
     "execution_count": 17
    }
   ],
   "source": [
    "tabla.sort_values('tasa14', ascending=False)"
   ]
  },
  {
   "cell_type": "code",
   "execution_count": 18,
   "metadata": {},
   "outputs": [
    {
     "output_type": "execute_result",
     "data": {
      "text/plain": [
       "Medida                             Confirmados PDIA  Confirmados PDIA 7 días  \\\n",
       "Lugar de residencia                                                            \n",
       "Rociana del Condado                           558.0                      1.0   \n",
       "San Bartolomé de la Torre                     301.0                      2.0   \n",
       "Gibraleón                                     636.0                      5.0   \n",
       "Niebla                                        240.0                      5.0   \n",
       "Isla Cristina                                2155.0                      5.0   \n",
       "Cartaya                                      1356.0                     12.0   \n",
       "Villanueva de los Castillejos                 164.0                      2.0   \n",
       "Almonte                                      1856.0                     37.0   \n",
       "Ayamonte                                     1322.0                      4.0   \n",
       "Aracena                                       533.0                      6.0   \n",
       "Palma del Condado (La)                       1166.0                     14.0   \n",
       "Condado-Campiña                             10430.0                    229.0   \n",
       "Moguer                                       1326.0                     36.0   \n",
       "Lucena del Puerto                             259.0                      5.0   \n",
       "Palos de la Frontera                          688.0                     25.0   \n",
       "Huelva                                      32106.0                    690.0   \n",
       "Huelva (capital)                             8649.0                    280.0   \n",
       "Sierra de Huelva-Andévalo Central            2839.0                     66.0   \n",
       "Villarrasa                                    179.0                      6.0   \n",
       "Huelva-Costa                                18487.0                    392.0   \n",
       "Valverde del Camino                           616.0                     37.0   \n",
       "Aljaraque                                    1139.0                     39.0   \n",
       "Higuera de la Sierra                           34.0                      1.0   \n",
       "Minas de Riotinto                             127.0                      5.0   \n",
       "Puebla de Guzmán                              123.0                      5.0   \n",
       "Paterna del Campo                             129.0                      1.0   \n",
       "Trigueros                                     320.0                     15.0   \n",
       "Bollullos Par del Condado                    1005.0                     28.0   \n",
       "Zalamea la Real                                94.0                      3.0   \n",
       "Manzanilla                                    102.0                      3.0   \n",
       "Cortegana                                     214.0                      8.0   \n",
       "Bonares                                       285.0                     13.0   \n",
       "San Juan del Puerto                           532.0                     30.0   \n",
       "Cumbres Mayores                                53.0                      2.0   \n",
       "Lepe                                         2144.0                     16.0   \n",
       "Punta Umbría                                  835.0                     25.0   \n",
       "Beas                                          213.0                      3.0   \n",
       "Alosno                                        171.0                      4.0   \n",
       "Cortelazor                                      9.0                      1.0   \n",
       "Rosal de la Frontera                           30.0                      1.0   \n",
       "Galaroza                                       42.0                      1.0   \n",
       "Aroche                                         91.0                      1.0   \n",
       "\n",
       "Medida                             Confirmados PDIA 14 días  Población  \\\n",
       "Lugar de residencia                                                      \n",
       "Rociana del Condado                                    14.0     7939.0   \n",
       "San Bartolomé de la Torre                              10.0     3761.0   \n",
       "Gibraleón                                              23.0    12737.0   \n",
       "Niebla                                                 21.0     4116.0   \n",
       "Isla Cristina                                          19.0    21393.0   \n",
       "Cartaya                                                38.0    20083.0   \n",
       "Villanueva de los Castillejos                           6.0     2825.0   \n",
       "Almonte                                               104.0    24507.0   \n",
       "Ayamonte                                               10.0    21104.0   \n",
       "Aracena                                                15.0     8255.0   \n",
       "Palma del Condado (La)                                 32.0    10801.0   \n",
       "Condado-Campiña                                       522.0   156231.0   \n",
       "Moguer                                                 82.0    21867.0   \n",
       "Lucena del Puerto                                      11.0     3261.0   \n",
       "Palos de la Frontera                                   55.0    11742.0   \n",
       "Huelva                                               1507.0   513170.0   \n",
       "Huelva (capital)                                      607.0   143837.0   \n",
       "Sierra de Huelva-Andévalo Central                     143.0    67391.0   \n",
       "Villarrasa                                             13.0     2211.0   \n",
       "Huelva-Costa                                          837.0   289548.0   \n",
       "Valverde del Camino                                    77.0    12750.0   \n",
       "Aljaraque                                              81.0    21474.0   \n",
       "Higuera de la Sierra                                    2.0     1291.0   \n",
       "Minas de Riotinto                                      10.0     3812.0   \n",
       "Puebla de Guzmán                                       10.0     3092.0   \n",
       "Paterna del Campo                                       2.0     3457.0   \n",
       "Trigueros                                              28.0     7862.0   \n",
       "Bollullos Par del Condado                              49.0    14387.0   \n",
       "Zalamea la Real                                         5.0     3054.0   \n",
       "Manzanilla                                              5.0     2118.0   \n",
       "Cortegana                                              13.0     4602.0   \n",
       "Bonares                                                21.0     6060.0   \n",
       "San Juan del Puerto                                    48.0     9411.0   \n",
       "Cumbres Mayores                                         3.0     1749.0   \n",
       "Lepe                                                   24.0    27880.0   \n",
       "Punta Umbría                                           37.0    15355.0   \n",
       "Beas                                                    4.0     4341.0   \n",
       "Alosno                                                  5.0     3933.0   \n",
       "Cortelazor                                              1.0      299.0   \n",
       "Rosal de la Frontera                                    1.0     1697.0   \n",
       "Galaroza                                                1.0     1382.0   \n",
       "Aroche                                                  1.0     3054.0   \n",
       "\n",
       "Medida                                  tasa7      tasa14  Diferencia PDIA  \\\n",
       "Lugar de residencia                                                          \n",
       "Rociana del Condado                 12.596045  176.344628              0.0   \n",
       "San Bartolomé de la Torre           53.177346  265.886732              1.0   \n",
       "Gibraleón                           39.255712  180.576274              2.0   \n",
       "Niebla                             121.477162  510.204082              1.0   \n",
       "Isla Cristina                       23.372131   88.814098              2.0   \n",
       "Cartaya                             59.752029  189.214759              2.0   \n",
       "Villanueva de los Castillejos       70.796460  212.389381              1.0   \n",
       "Almonte                            150.977272  424.368548             10.0   \n",
       "Ayamonte                            18.953753   47.384382             -1.0   \n",
       "Aracena                             72.683222  181.708056              2.0   \n",
       "Palma del Condado (La)             129.617628  296.268864              2.0   \n",
       "Condado-Campiña                    146.577824  334.120629             50.0   \n",
       "Moguer                             164.631637  374.994284             13.0   \n",
       "Lucena del Puerto                  153.327200  337.319841              2.0   \n",
       "Palos de la Frontera               212.910918  468.404020              3.0   \n",
       "Huelva                             134.458367  293.664867            144.0   \n",
       "Huelva (capital)                   194.664794  422.005465             57.0   \n",
       "Sierra de Huelva-Andévalo Central   97.935926  212.194507             10.0   \n",
       "Villarrasa                         271.370421  587.969245              0.0   \n",
       "Huelva-Costa                       135.383425  289.071242             84.0   \n",
       "Valverde del Camino                290.196078  603.921569              7.0   \n",
       "Aljaraque                          181.614976  377.200335             12.0   \n",
       "Higuera de la Sierra                77.459334  154.918668              0.0   \n",
       "Minas de Riotinto                  131.164743  262.329486              0.0   \n",
       "Puebla de Guzmán                   161.707633  323.415265              1.0   \n",
       "Paterna del Campo                   28.926815   57.853630              0.0   \n",
       "Trigueros                          190.791147  356.143475              1.0   \n",
       "Bollullos Par del Condado          194.620143  340.585251              3.0   \n",
       "Zalamea la Real                     98.231827  163.719712              0.0   \n",
       "Manzanilla                         141.643059  236.071766              0.0   \n",
       "Cortegana                          173.837462  282.485876              0.0   \n",
       "Bonares                            214.521452  346.534653              4.0   \n",
       "San Juan del Puerto                318.775901  510.041441              8.0   \n",
       "Cumbres Mayores                    114.351058  171.526587              0.0   \n",
       "Lepe                                57.388809   86.083214              4.0   \n",
       "Punta Umbría                       162.813416  240.963855              3.0   \n",
       "Beas                                69.108500   92.144667              0.0   \n",
       "Alosno                             101.703534  127.129418              3.0   \n",
       "Cortelazor                         334.448161  334.448161              0.0   \n",
       "Rosal de la Frontera                58.927519   58.927519              0.0   \n",
       "Galaroza                            72.358900   72.358900              0.0   \n",
       "Aroche                              32.743942   32.743942              0.0   \n",
       "\n",
       "Medida                                 7/14  \n",
       "Lugar de residencia                          \n",
       "Rociana del Condado                0.071429  \n",
       "San Bartolomé de la Torre          0.200000  \n",
       "Gibraleón                          0.217391  \n",
       "Niebla                             0.238095  \n",
       "Isla Cristina                      0.263158  \n",
       "Cartaya                            0.315789  \n",
       "Villanueva de los Castillejos      0.333333  \n",
       "Almonte                            0.355769  \n",
       "Ayamonte                           0.400000  \n",
       "Aracena                            0.400000  \n",
       "Palma del Condado (La)             0.437500  \n",
       "Condado-Campiña                    0.438697  \n",
       "Moguer                             0.439024  \n",
       "Lucena del Puerto                  0.454545  \n",
       "Palos de la Frontera               0.454545  \n",
       "Huelva                             0.457863  \n",
       "Huelva (capital)                   0.461285  \n",
       "Sierra de Huelva-Andévalo Central  0.461538  \n",
       "Villarrasa                         0.461538  \n",
       "Huelva-Costa                       0.468339  \n",
       "Valverde del Camino                0.480519  \n",
       "Aljaraque                          0.481481  \n",
       "Higuera de la Sierra               0.500000  \n",
       "Minas de Riotinto                  0.500000  \n",
       "Puebla de Guzmán                   0.500000  \n",
       "Paterna del Campo                  0.500000  \n",
       "Trigueros                          0.535714  \n",
       "Bollullos Par del Condado          0.571429  \n",
       "Zalamea la Real                    0.600000  \n",
       "Manzanilla                         0.600000  \n",
       "Cortegana                          0.615385  \n",
       "Bonares                            0.619048  \n",
       "San Juan del Puerto                0.625000  \n",
       "Cumbres Mayores                    0.666667  \n",
       "Lepe                               0.666667  \n",
       "Punta Umbría                       0.675676  \n",
       "Beas                               0.750000  \n",
       "Alosno                             0.800000  \n",
       "Cortelazor                         1.000000  \n",
       "Rosal de la Frontera               1.000000  \n",
       "Galaroza                           1.000000  \n",
       "Aroche                             1.000000  "
      ],
      "text/html": "<div>\n<style scoped>\n    .dataframe tbody tr th:only-of-type {\n        vertical-align: middle;\n    }\n\n    .dataframe tbody tr th {\n        vertical-align: top;\n    }\n\n    .dataframe thead th {\n        text-align: right;\n    }\n</style>\n<table border=\"1\" class=\"dataframe\">\n  <thead>\n    <tr style=\"text-align: right;\">\n      <th>Medida</th>\n      <th>Confirmados PDIA</th>\n      <th>Confirmados PDIA 7 días</th>\n      <th>Confirmados PDIA 14 días</th>\n      <th>Población</th>\n      <th>tasa7</th>\n      <th>tasa14</th>\n      <th>Diferencia PDIA</th>\n      <th>7/14</th>\n    </tr>\n    <tr>\n      <th>Lugar de residencia</th>\n      <th></th>\n      <th></th>\n      <th></th>\n      <th></th>\n      <th></th>\n      <th></th>\n      <th></th>\n      <th></th>\n    </tr>\n  </thead>\n  <tbody>\n    <tr>\n      <th>Rociana del Condado</th>\n      <td>558.0</td>\n      <td>1.0</td>\n      <td>14.0</td>\n      <td>7939.0</td>\n      <td>12.596045</td>\n      <td>176.344628</td>\n      <td>0.0</td>\n      <td>0.071429</td>\n    </tr>\n    <tr>\n      <th>San Bartolomé de la Torre</th>\n      <td>301.0</td>\n      <td>2.0</td>\n      <td>10.0</td>\n      <td>3761.0</td>\n      <td>53.177346</td>\n      <td>265.886732</td>\n      <td>1.0</td>\n      <td>0.200000</td>\n    </tr>\n    <tr>\n      <th>Gibraleón</th>\n      <td>636.0</td>\n      <td>5.0</td>\n      <td>23.0</td>\n      <td>12737.0</td>\n      <td>39.255712</td>\n      <td>180.576274</td>\n      <td>2.0</td>\n      <td>0.217391</td>\n    </tr>\n    <tr>\n      <th>Niebla</th>\n      <td>240.0</td>\n      <td>5.0</td>\n      <td>21.0</td>\n      <td>4116.0</td>\n      <td>121.477162</td>\n      <td>510.204082</td>\n      <td>1.0</td>\n      <td>0.238095</td>\n    </tr>\n    <tr>\n      <th>Isla Cristina</th>\n      <td>2155.0</td>\n      <td>5.0</td>\n      <td>19.0</td>\n      <td>21393.0</td>\n      <td>23.372131</td>\n      <td>88.814098</td>\n      <td>2.0</td>\n      <td>0.263158</td>\n    </tr>\n    <tr>\n      <th>Cartaya</th>\n      <td>1356.0</td>\n      <td>12.0</td>\n      <td>38.0</td>\n      <td>20083.0</td>\n      <td>59.752029</td>\n      <td>189.214759</td>\n      <td>2.0</td>\n      <td>0.315789</td>\n    </tr>\n    <tr>\n      <th>Villanueva de los Castillejos</th>\n      <td>164.0</td>\n      <td>2.0</td>\n      <td>6.0</td>\n      <td>2825.0</td>\n      <td>70.796460</td>\n      <td>212.389381</td>\n      <td>1.0</td>\n      <td>0.333333</td>\n    </tr>\n    <tr>\n      <th>Almonte</th>\n      <td>1856.0</td>\n      <td>37.0</td>\n      <td>104.0</td>\n      <td>24507.0</td>\n      <td>150.977272</td>\n      <td>424.368548</td>\n      <td>10.0</td>\n      <td>0.355769</td>\n    </tr>\n    <tr>\n      <th>Ayamonte</th>\n      <td>1322.0</td>\n      <td>4.0</td>\n      <td>10.0</td>\n      <td>21104.0</td>\n      <td>18.953753</td>\n      <td>47.384382</td>\n      <td>-1.0</td>\n      <td>0.400000</td>\n    </tr>\n    <tr>\n      <th>Aracena</th>\n      <td>533.0</td>\n      <td>6.0</td>\n      <td>15.0</td>\n      <td>8255.0</td>\n      <td>72.683222</td>\n      <td>181.708056</td>\n      <td>2.0</td>\n      <td>0.400000</td>\n    </tr>\n    <tr>\n      <th>Palma del Condado (La)</th>\n      <td>1166.0</td>\n      <td>14.0</td>\n      <td>32.0</td>\n      <td>10801.0</td>\n      <td>129.617628</td>\n      <td>296.268864</td>\n      <td>2.0</td>\n      <td>0.437500</td>\n    </tr>\n    <tr>\n      <th>Condado-Campiña</th>\n      <td>10430.0</td>\n      <td>229.0</td>\n      <td>522.0</td>\n      <td>156231.0</td>\n      <td>146.577824</td>\n      <td>334.120629</td>\n      <td>50.0</td>\n      <td>0.438697</td>\n    </tr>\n    <tr>\n      <th>Moguer</th>\n      <td>1326.0</td>\n      <td>36.0</td>\n      <td>82.0</td>\n      <td>21867.0</td>\n      <td>164.631637</td>\n      <td>374.994284</td>\n      <td>13.0</td>\n      <td>0.439024</td>\n    </tr>\n    <tr>\n      <th>Lucena del Puerto</th>\n      <td>259.0</td>\n      <td>5.0</td>\n      <td>11.0</td>\n      <td>3261.0</td>\n      <td>153.327200</td>\n      <td>337.319841</td>\n      <td>2.0</td>\n      <td>0.454545</td>\n    </tr>\n    <tr>\n      <th>Palos de la Frontera</th>\n      <td>688.0</td>\n      <td>25.0</td>\n      <td>55.0</td>\n      <td>11742.0</td>\n      <td>212.910918</td>\n      <td>468.404020</td>\n      <td>3.0</td>\n      <td>0.454545</td>\n    </tr>\n    <tr>\n      <th>Huelva</th>\n      <td>32106.0</td>\n      <td>690.0</td>\n      <td>1507.0</td>\n      <td>513170.0</td>\n      <td>134.458367</td>\n      <td>293.664867</td>\n      <td>144.0</td>\n      <td>0.457863</td>\n    </tr>\n    <tr>\n      <th>Huelva (capital)</th>\n      <td>8649.0</td>\n      <td>280.0</td>\n      <td>607.0</td>\n      <td>143837.0</td>\n      <td>194.664794</td>\n      <td>422.005465</td>\n      <td>57.0</td>\n      <td>0.461285</td>\n    </tr>\n    <tr>\n      <th>Sierra de Huelva-Andévalo Central</th>\n      <td>2839.0</td>\n      <td>66.0</td>\n      <td>143.0</td>\n      <td>67391.0</td>\n      <td>97.935926</td>\n      <td>212.194507</td>\n      <td>10.0</td>\n      <td>0.461538</td>\n    </tr>\n    <tr>\n      <th>Villarrasa</th>\n      <td>179.0</td>\n      <td>6.0</td>\n      <td>13.0</td>\n      <td>2211.0</td>\n      <td>271.370421</td>\n      <td>587.969245</td>\n      <td>0.0</td>\n      <td>0.461538</td>\n    </tr>\n    <tr>\n      <th>Huelva-Costa</th>\n      <td>18487.0</td>\n      <td>392.0</td>\n      <td>837.0</td>\n      <td>289548.0</td>\n      <td>135.383425</td>\n      <td>289.071242</td>\n      <td>84.0</td>\n      <td>0.468339</td>\n    </tr>\n    <tr>\n      <th>Valverde del Camino</th>\n      <td>616.0</td>\n      <td>37.0</td>\n      <td>77.0</td>\n      <td>12750.0</td>\n      <td>290.196078</td>\n      <td>603.921569</td>\n      <td>7.0</td>\n      <td>0.480519</td>\n    </tr>\n    <tr>\n      <th>Aljaraque</th>\n      <td>1139.0</td>\n      <td>39.0</td>\n      <td>81.0</td>\n      <td>21474.0</td>\n      <td>181.614976</td>\n      <td>377.200335</td>\n      <td>12.0</td>\n      <td>0.481481</td>\n    </tr>\n    <tr>\n      <th>Higuera de la Sierra</th>\n      <td>34.0</td>\n      <td>1.0</td>\n      <td>2.0</td>\n      <td>1291.0</td>\n      <td>77.459334</td>\n      <td>154.918668</td>\n      <td>0.0</td>\n      <td>0.500000</td>\n    </tr>\n    <tr>\n      <th>Minas de Riotinto</th>\n      <td>127.0</td>\n      <td>5.0</td>\n      <td>10.0</td>\n      <td>3812.0</td>\n      <td>131.164743</td>\n      <td>262.329486</td>\n      <td>0.0</td>\n      <td>0.500000</td>\n    </tr>\n    <tr>\n      <th>Puebla de Guzmán</th>\n      <td>123.0</td>\n      <td>5.0</td>\n      <td>10.0</td>\n      <td>3092.0</td>\n      <td>161.707633</td>\n      <td>323.415265</td>\n      <td>1.0</td>\n      <td>0.500000</td>\n    </tr>\n    <tr>\n      <th>Paterna del Campo</th>\n      <td>129.0</td>\n      <td>1.0</td>\n      <td>2.0</td>\n      <td>3457.0</td>\n      <td>28.926815</td>\n      <td>57.853630</td>\n      <td>0.0</td>\n      <td>0.500000</td>\n    </tr>\n    <tr>\n      <th>Trigueros</th>\n      <td>320.0</td>\n      <td>15.0</td>\n      <td>28.0</td>\n      <td>7862.0</td>\n      <td>190.791147</td>\n      <td>356.143475</td>\n      <td>1.0</td>\n      <td>0.535714</td>\n    </tr>\n    <tr>\n      <th>Bollullos Par del Condado</th>\n      <td>1005.0</td>\n      <td>28.0</td>\n      <td>49.0</td>\n      <td>14387.0</td>\n      <td>194.620143</td>\n      <td>340.585251</td>\n      <td>3.0</td>\n      <td>0.571429</td>\n    </tr>\n    <tr>\n      <th>Zalamea la Real</th>\n      <td>94.0</td>\n      <td>3.0</td>\n      <td>5.0</td>\n      <td>3054.0</td>\n      <td>98.231827</td>\n      <td>163.719712</td>\n      <td>0.0</td>\n      <td>0.600000</td>\n    </tr>\n    <tr>\n      <th>Manzanilla</th>\n      <td>102.0</td>\n      <td>3.0</td>\n      <td>5.0</td>\n      <td>2118.0</td>\n      <td>141.643059</td>\n      <td>236.071766</td>\n      <td>0.0</td>\n      <td>0.600000</td>\n    </tr>\n    <tr>\n      <th>Cortegana</th>\n      <td>214.0</td>\n      <td>8.0</td>\n      <td>13.0</td>\n      <td>4602.0</td>\n      <td>173.837462</td>\n      <td>282.485876</td>\n      <td>0.0</td>\n      <td>0.615385</td>\n    </tr>\n    <tr>\n      <th>Bonares</th>\n      <td>285.0</td>\n      <td>13.0</td>\n      <td>21.0</td>\n      <td>6060.0</td>\n      <td>214.521452</td>\n      <td>346.534653</td>\n      <td>4.0</td>\n      <td>0.619048</td>\n    </tr>\n    <tr>\n      <th>San Juan del Puerto</th>\n      <td>532.0</td>\n      <td>30.0</td>\n      <td>48.0</td>\n      <td>9411.0</td>\n      <td>318.775901</td>\n      <td>510.041441</td>\n      <td>8.0</td>\n      <td>0.625000</td>\n    </tr>\n    <tr>\n      <th>Cumbres Mayores</th>\n      <td>53.0</td>\n      <td>2.0</td>\n      <td>3.0</td>\n      <td>1749.0</td>\n      <td>114.351058</td>\n      <td>171.526587</td>\n      <td>0.0</td>\n      <td>0.666667</td>\n    </tr>\n    <tr>\n      <th>Lepe</th>\n      <td>2144.0</td>\n      <td>16.0</td>\n      <td>24.0</td>\n      <td>27880.0</td>\n      <td>57.388809</td>\n      <td>86.083214</td>\n      <td>4.0</td>\n      <td>0.666667</td>\n    </tr>\n    <tr>\n      <th>Punta Umbría</th>\n      <td>835.0</td>\n      <td>25.0</td>\n      <td>37.0</td>\n      <td>15355.0</td>\n      <td>162.813416</td>\n      <td>240.963855</td>\n      <td>3.0</td>\n      <td>0.675676</td>\n    </tr>\n    <tr>\n      <th>Beas</th>\n      <td>213.0</td>\n      <td>3.0</td>\n      <td>4.0</td>\n      <td>4341.0</td>\n      <td>69.108500</td>\n      <td>92.144667</td>\n      <td>0.0</td>\n      <td>0.750000</td>\n    </tr>\n    <tr>\n      <th>Alosno</th>\n      <td>171.0</td>\n      <td>4.0</td>\n      <td>5.0</td>\n      <td>3933.0</td>\n      <td>101.703534</td>\n      <td>127.129418</td>\n      <td>3.0</td>\n      <td>0.800000</td>\n    </tr>\n    <tr>\n      <th>Cortelazor</th>\n      <td>9.0</td>\n      <td>1.0</td>\n      <td>1.0</td>\n      <td>299.0</td>\n      <td>334.448161</td>\n      <td>334.448161</td>\n      <td>0.0</td>\n      <td>1.000000</td>\n    </tr>\n    <tr>\n      <th>Rosal de la Frontera</th>\n      <td>30.0</td>\n      <td>1.0</td>\n      <td>1.0</td>\n      <td>1697.0</td>\n      <td>58.927519</td>\n      <td>58.927519</td>\n      <td>0.0</td>\n      <td>1.000000</td>\n    </tr>\n    <tr>\n      <th>Galaroza</th>\n      <td>42.0</td>\n      <td>1.0</td>\n      <td>1.0</td>\n      <td>1382.0</td>\n      <td>72.358900</td>\n      <td>72.358900</td>\n      <td>0.0</td>\n      <td>1.000000</td>\n    </tr>\n    <tr>\n      <th>Aroche</th>\n      <td>91.0</td>\n      <td>1.0</td>\n      <td>1.0</td>\n      <td>3054.0</td>\n      <td>32.743942</td>\n      <td>32.743942</td>\n      <td>0.0</td>\n      <td>1.000000</td>\n    </tr>\n  </tbody>\n</table>\n</div>"
     },
     "metadata": {},
     "execution_count": 18
    }
   ],
   "source": [
    "# Peso de la tasa de la última semana en relación con la tasa a 14 días \n",
    "# Mejor cuanto menor. Valor 1 significa que no había casos antes de 7 días.\n",
    "tabla['7/14'] = tabla['tasa7'] / tabla['tasa14']\n",
    "tabla.fillna(0).sort_values('7/14', ascending=True)"
   ]
  },
  {
   "cell_type": "code",
   "execution_count": null,
   "metadata": {},
   "outputs": [],
   "source": []
  }
 ]
}