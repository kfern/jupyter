{
 "metadata": {
  "language_info": {
   "codemirror_mode": {
    "name": "ipython",
    "version": 3
   },
   "file_extension": ".py",
   "mimetype": "text/x-python",
   "name": "python",
   "nbconvert_exporter": "python",
   "pygments_lexer": "ipython3",
   "version": "3.6.9-final"
  },
  "orig_nbformat": 2,
  "kernelspec": {
   "name": "Python 3.6.9 64-bit",
   "display_name": "Python 3.6.9 64-bit",
   "metadata": {
    "interpreter": {
     "hash": "31f2aee4e71d21fbe5cf8b01ff0e069b9275f58929596ceb00d14d90e3e16cd6"
    }
   }
  }
 },
 "nbformat": 4,
 "nbformat_minor": 2,
 "cells": [
  {
   "cell_type": "code",
   "execution_count": 1,
   "metadata": {},
   "outputs": [],
   "source": [
    "import pandas as pd"
   ]
  },
  {
   "cell_type": "code",
   "execution_count": 2,
   "metadata": {},
   "outputs": [],
   "source": [
    "# FIX SSL: CERTIFICATE_VERIFY_FAILED with Python3\n",
    "# https://stackoverflow.com/a/49174340\n",
    "import ssl\n",
    "\n",
    "ssl._create_default_https_context = ssl._create_unverified_context"
   ]
  },
  {
   "cell_type": "code",
   "execution_count": 3,
   "metadata": {},
   "outputs": [],
   "source": [
    "url = 'https://www.juntadeandalucia.es/institutodeestadisticaycartografia/badea/stpivot/stpivot/Print?cube=013d884c-cfc5-4c21-9e78-e26225682afd&type=3&foto=si&ejecutaDesde=&codConsulta=38668&consTipoVisua=JP'\n",
    "fields = ['Lugar de residencia', 'Medida', 'Valor']\n",
    "df = pd.read_csv(url, delimiter=';', usecols=fields, decimal=',')"
   ]
  },
  {
   "cell_type": "code",
   "execution_count": 4,
   "metadata": {},
   "outputs": [
    {
     "output_type": "execute_result",
     "data": {
      "text/plain": [
       "                     Lugar de residencia                    Medida  \\\n",
       "0                                 Huelva                 Población   \n",
       "1                                 Huelva          Confirmados PDIA   \n",
       "2                                 Huelva  Confirmados PDIA 14 días   \n",
       "3                                 Huelva         Tasa PDIA 14 días   \n",
       "4                                 Huelva   Confirmados PDIA 7 días   \n",
       "..                                   ...                       ...   \n",
       "627  Municipio de Huelva sin especificar         Tasa PDIA 14 días   \n",
       "628  Municipio de Huelva sin especificar   Confirmados PDIA 7 días   \n",
       "629  Municipio de Huelva sin especificar        Total Confirmados    \n",
       "630  Municipio de Huelva sin especificar                   Curados   \n",
       "631  Municipio de Huelva sin especificar                Fallecidos   \n",
       "\n",
       "                 Valor  \n",
       "0               510743  \n",
       "1                 3527  \n",
       "2                 1474  \n",
       "3    288,5991584808798  \n",
       "4                  895  \n",
       "..                 ...  \n",
       "627                  -  \n",
       "628                 27  \n",
       "629                 58  \n",
       "630                  9  \n",
       "631                  1  \n",
       "\n",
       "[632 rows x 3 columns]"
      ],
      "text/html": "<div>\n<style scoped>\n    .dataframe tbody tr th:only-of-type {\n        vertical-align: middle;\n    }\n\n    .dataframe tbody tr th {\n        vertical-align: top;\n    }\n\n    .dataframe thead th {\n        text-align: right;\n    }\n</style>\n<table border=\"1\" class=\"dataframe\">\n  <thead>\n    <tr style=\"text-align: right;\">\n      <th></th>\n      <th>Lugar de residencia</th>\n      <th>Medida</th>\n      <th>Valor</th>\n    </tr>\n  </thead>\n  <tbody>\n    <tr>\n      <th>0</th>\n      <td>Huelva</td>\n      <td>Población</td>\n      <td>510743</td>\n    </tr>\n    <tr>\n      <th>1</th>\n      <td>Huelva</td>\n      <td>Confirmados PDIA</td>\n      <td>3527</td>\n    </tr>\n    <tr>\n      <th>2</th>\n      <td>Huelva</td>\n      <td>Confirmados PDIA 14 días</td>\n      <td>1474</td>\n    </tr>\n    <tr>\n      <th>3</th>\n      <td>Huelva</td>\n      <td>Tasa PDIA 14 días</td>\n      <td>288,5991584808798</td>\n    </tr>\n    <tr>\n      <th>4</th>\n      <td>Huelva</td>\n      <td>Confirmados PDIA 7 días</td>\n      <td>895</td>\n    </tr>\n    <tr>\n      <th>...</th>\n      <td>...</td>\n      <td>...</td>\n      <td>...</td>\n    </tr>\n    <tr>\n      <th>627</th>\n      <td>Municipio de Huelva sin especificar</td>\n      <td>Tasa PDIA 14 días</td>\n      <td>-</td>\n    </tr>\n    <tr>\n      <th>628</th>\n      <td>Municipio de Huelva sin especificar</td>\n      <td>Confirmados PDIA 7 días</td>\n      <td>27</td>\n    </tr>\n    <tr>\n      <th>629</th>\n      <td>Municipio de Huelva sin especificar</td>\n      <td>Total Confirmados</td>\n      <td>58</td>\n    </tr>\n    <tr>\n      <th>630</th>\n      <td>Municipio de Huelva sin especificar</td>\n      <td>Curados</td>\n      <td>9</td>\n    </tr>\n    <tr>\n      <th>631</th>\n      <td>Municipio de Huelva sin especificar</td>\n      <td>Fallecidos</td>\n      <td>1</td>\n    </tr>\n  </tbody>\n</table>\n<p>632 rows × 3 columns</p>\n</div>"
     },
     "metadata": {},
     "execution_count": 4
    }
   ],
   "source": [
    "df"
   ]
  },
  {
   "cell_type": "code",
   "execution_count": 5,
   "metadata": {},
   "outputs": [],
   "source": [
    "df['Valor'] = pd.to_numeric(df['Valor'],errors='coerce')"
   ]
  },
  {
   "cell_type": "code",
   "execution_count": 6,
   "metadata": {},
   "outputs": [],
   "source": [
    "dfAnterior = pd.read_csv('covid_huelva.csv', index_col='Lugar de residencia')"
   ]
  },
  {
   "cell_type": "code",
   "execution_count": 7,
   "metadata": {
    "tags": []
   },
   "outputs": [
    {
     "output_type": "stream",
     "name": "stdout",
     "text": [
      "Confirmados PCR en la provincia de Huelva:  3527.0\n"
     ]
    }
   ],
   "source": [
    "# Confirmados PCR provincia Huelva\n",
    "p = df[df['Lugar de residencia'] == 'Huelva'][df['Medida'] == 'Confirmados PDIA']['Valor'].values[0]\n",
    "print('Confirmados PCR en la provincia de Huelva: ', p)"
   ]
  },
  {
   "cell_type": "code",
   "execution_count": 8,
   "metadata": {
    "tags": []
   },
   "outputs": [
    {
     "output_type": "stream",
     "name": "stdout",
     "text": [
      "Confirmados PCR en Huelva capital:  936.0\n"
     ]
    }
   ],
   "source": [
    "# Confirmados PCR Huelva capitalpd\n",
    "c = df[df['Lugar de residencia'] == 'Huelva (capital)'][df['Medida'] == 'Confirmados PDIA']['Valor'].values[0]\n",
    "print('Confirmados PCR en Huelva capital: ', c)"
   ]
  },
  {
   "cell_type": "code",
   "execution_count": 9,
   "metadata": {
    "tags": []
   },
   "outputs": [],
   "source": [
    "c7 = df[df['Lugar de residencia'] == 'Huelva (capital)'][df['Medida'] == 'Confirmados PDIA 7 días']['Valor'].values[0]\n",
    "c14 = df[df['Lugar de residencia'] == 'Huelva (capital)'][df['Medida'] == 'Confirmados PDIA 14 días']['Valor'].values[0]\n",
    "p = df[df['Lugar de residencia'] == 'Huelva (capital)'][df['Medida'] == 'Población']['Valor'].values[0]"
   ]
  },
  {
   "cell_type": "code",
   "execution_count": 10,
   "metadata": {
    "tags": []
   },
   "outputs": [
    {
     "output_type": "stream",
     "name": "stdout",
     "text": [
      "Huelva (capital)\n",
      "\n",
      "Un positivo PCR cada 563 personas en los últimos 7 días \n",
      "\n",
      "Un positivo PCR cada 372 personas en los últimos 14 días\n"
     ]
    }
   ],
   "source": [
    "print('Huelva (capital)\\n')\n",
    "#print('Confirmados PCR 7 días x 1,000 habitantes: ', f\"{c7/(p/1000):.5f}\")\n",
    "print('Un positivo PCR cada', f\"{p/c7:.0f}\", 'personas en los últimos 7 días', '\\n')\n",
    "#print('Confirmados PCR 14 días x 1,000 habitantes: ', f\"{c14/(p/1000):.5f}\")\n",
    "print('Un positivo PCR cada', f\"{p/c14:.0f}\", 'personas en los últimos 14 días')"
   ]
  },
  {
   "cell_type": "code",
   "execution_count": 11,
   "metadata": {},
   "outputs": [],
   "source": [
    "filtro = ((df['Medida'] == 'Confirmados PDIA')| (df['Medida'] == 'Confirmados PDIA 7 días') | (df['Medida'] == 'Población' ) | (df['Medida'] == 'Confirmados PDIA 14 días')) & (df['Valor'] > 0)\n",
    "tabla = pd.pivot_table(df.loc[filtro], values='Valor', index='Lugar de residencia', columns='Medida').dropna()"
   ]
  },
  {
   "cell_type": "code",
   "execution_count": 12,
   "metadata": {},
   "outputs": [],
   "source": [
    "# Reorder columns\n",
    "tabla = tabla[['Confirmados PDIA', 'Confirmados PDIA 7 días', 'Confirmados PDIA 14 días', 'Población']]"
   ]
  },
  {
   "cell_type": "code",
   "execution_count": 13,
   "metadata": {},
   "outputs": [],
   "source": [
    "tabla['tasa7'] = tabla['Confirmados PDIA 7 días']/tabla['Población']*100000\n",
    "tabla['tasa14'] = tabla['Confirmados PDIA 14 días']/tabla['Población']*100000"
   ]
  },
  {
   "cell_type": "code",
   "execution_count": 14,
   "metadata": {},
   "outputs": [],
   "source": [
    "tabla['Diferencia PDIA'] = tabla['Confirmados PDIA'] - dfAnterior['Confirmados PDIA']"
   ]
  },
  {
   "cell_type": "code",
   "execution_count": 15,
   "metadata": {},
   "outputs": [
    {
     "output_type": "execute_result",
     "data": {
      "text/plain": [
       "Medida                             Confirmados PDIA  Confirmados PDIA 7 días  \\\n",
       "Lugar de residencia                                                            \n",
       "Huelva                                       3527.0                    895.0   \n",
       "Huelva-Costa                                 1781.0                    441.0   \n",
       "Condado-Campiña                              1113.0                    261.0   \n",
       "Huelva (capital)                              936.0                    255.0   \n",
       "Sierra de Huelva-Andévalo Central             575.0                    166.0   \n",
       "Gibraleón                                     100.0                     45.0   \n",
       "Aljaraque                                     136.0                     35.0   \n",
       "Almonte                                       170.0                     64.0   \n",
       "Valverde del Camino                           102.0                     60.0   \n",
       "Lepe                                          266.0                     67.0   \n",
       "Palma del Condado (La)                        164.0                     36.0   \n",
       "Cartaya                                        80.0                     28.0   \n",
       "Aracena                                        90.0                     19.0   \n",
       "Villarrasa                                     49.0                     15.0   \n",
       "Trigueros                                      58.0                     13.0   \n",
       "Niebla                                         30.0                     14.0   \n",
       "Bollullos Par del Condado                     142.0                     16.0   \n",
       "Palos de la Frontera                           45.0                      8.0   \n",
       "Isla Cristina                                 108.0                     16.0   \n",
       "Cortegana                                     111.0                     29.0   \n",
       "Moguer                                         68.0                      5.0   \n",
       "Rociana del Condado                            18.0                      4.0   \n",
       "San Bartolomé de la Torre                       8.0                      2.0   \n",
       "Escacena del Campo                             42.0                     22.0   \n",
       "San Juan del Puerto                            89.0                      9.0   \n",
       "Beas                                           13.0                      4.0   \n",
       "Punta Umbría                                   58.0                     16.0   \n",
       "Almonaster la Real                             19.0                      7.0   \n",
       "Calañas                                        23.0                     19.0   \n",
       "Granado (El)                                   33.0                      2.0   \n",
       "Nerva                                          44.0                     10.0   \n",
       "Campofrío                                       3.0                      1.0   \n",
       "Manzanilla                                     22.0                      2.0   \n",
       "\n",
       "Medida                             Confirmados PDIA 14 días  Población  \\\n",
       "Lugar de residencia                                                      \n",
       "Huelva                                               1474.0   510743.0   \n",
       "Huelva-Costa                                          719.0   288115.0   \n",
       "Condado-Campiña                                       416.0   155057.0   \n",
       "Huelva (capital)                                      386.0   143663.0   \n",
       "Sierra de Huelva-Andévalo Central                     312.0    67571.0   \n",
       "Gibraleón                                              61.0    12607.0   \n",
       "Aljaraque                                              52.0    21260.0   \n",
       "Almonte                                               103.0    24191.0   \n",
       "Valverde del Camino                                    69.0    12820.0   \n",
       "Lepe                                                  119.0    27431.0   \n",
       "Palma del Condado (La)                                 63.0    10761.0   \n",
       "Cartaya                                                45.0    19974.0   \n",
       "Aracena                                                31.0     8107.0   \n",
       "Villarrasa                                             22.0     2176.0   \n",
       "Trigueros                                              20.0     7713.0   \n",
       "Niebla                                                 22.0     4117.0   \n",
       "Bollullos Par del Condado                              29.0    14272.0   \n",
       "Palos de la Frontera                                   15.0    11289.0   \n",
       "Isla Cristina                                          29.0    21264.0   \n",
       "Cortegana                                              96.0     4666.0   \n",
       "Moguer                                                 12.0    22088.0   \n",
       "Rociana del Condado                                     7.0     7855.0   \n",
       "San Bartolomé de la Torre                               4.0     3736.0   \n",
       "Escacena del Campo                                     24.0     2284.0   \n",
       "San Juan del Puerto                                    13.0     9300.0   \n",
       "Beas                                                    4.0     4257.0   \n",
       "Punta Umbría                                           19.0    15242.0   \n",
       "Almonaster la Real                                     17.0     1819.0   \n",
       "Calañas                                                20.0     2791.0   \n",
       "Granado (El)                                           21.0      516.0   \n",
       "Nerva                                                  18.0     5235.0   \n",
       "Campofrío                                               1.0      675.0   \n",
       "Manzanilla                                              2.0     2135.0   \n",
       "\n",
       "Medida                                  tasa7       tasa14  Diferencia PDIA  \n",
       "Lugar de residencia                                                          \n",
       "Huelva                             175.234903   288.599158            106.0  \n",
       "Huelva-Costa                       153.063881   249.553130             64.0  \n",
       "Condado-Campiña                    168.325197   268.288436             58.0  \n",
       "Huelva (capital)                   177.498730   268.684352             33.0  \n",
       "Sierra de Huelva-Andévalo Central  245.667520   461.736544             21.0  \n",
       "Gibraleón                          356.944555   483.858174             15.0  \n",
       "Aljaraque                          164.628410   244.590781             13.0  \n",
       "Almonte                            264.561200   425.778182             13.0  \n",
       "Valverde del Camino                468.018721   538.221529             11.0  \n",
       "Lepe                               244.249207   433.815756             10.0  \n",
       "Palma del Condado (La)             334.541399   585.447449              5.0  \n",
       "Cartaya                            140.182237   225.292881              4.0  \n",
       "Aracena                            234.365363   382.385593              4.0  \n",
       "Villarrasa                         689.338235  1011.029412              4.0  \n",
       "Trigueros                          168.546610   259.302476              3.0  \n",
       "Niebla                             340.053437   534.369687              3.0  \n",
       "Bollullos Par del Condado          112.107623   203.195067              3.0  \n",
       "Palos de la Frontera                70.865444   132.872708              2.0  \n",
       "Isla Cristina                       75.244545   136.380737              2.0  \n",
       "Cortegana                          621.517360  2057.436777              2.0  \n",
       "Moguer                              22.636726    54.328142              2.0  \n",
       "Rociana del Condado                 50.922979    89.115213              2.0  \n",
       "San Bartolomé de la Torre           53.533191   107.066381              1.0  \n",
       "Escacena del Campo                 963.222417  1050.788091              1.0  \n",
       "San Juan del Puerto                 96.774194   139.784946              1.0  \n",
       "Beas                                93.962885    93.962885              1.0  \n",
       "Punta Umbría                       104.973101   124.655557              1.0  \n",
       "Almonaster la Real                 384.826828   934.579439              1.0  \n",
       "Calañas                            680.759584   716.589036              1.0  \n",
       "Granado (El)                       387.596899  4069.767442              1.0  \n",
       "Nerva                              191.021968   343.839542              1.0  \n",
       "Campofrío                          148.148148   148.148148              NaN  \n",
       "Manzanilla                          93.676815    93.676815              NaN  "
      ],
      "text/html": "<div>\n<style scoped>\n    .dataframe tbody tr th:only-of-type {\n        vertical-align: middle;\n    }\n\n    .dataframe tbody tr th {\n        vertical-align: top;\n    }\n\n    .dataframe thead th {\n        text-align: right;\n    }\n</style>\n<table border=\"1\" class=\"dataframe\">\n  <thead>\n    <tr style=\"text-align: right;\">\n      <th>Medida</th>\n      <th>Confirmados PDIA</th>\n      <th>Confirmados PDIA 7 días</th>\n      <th>Confirmados PDIA 14 días</th>\n      <th>Población</th>\n      <th>tasa7</th>\n      <th>tasa14</th>\n      <th>Diferencia PDIA</th>\n    </tr>\n    <tr>\n      <th>Lugar de residencia</th>\n      <th></th>\n      <th></th>\n      <th></th>\n      <th></th>\n      <th></th>\n      <th></th>\n      <th></th>\n    </tr>\n  </thead>\n  <tbody>\n    <tr>\n      <th>Huelva</th>\n      <td>3527.0</td>\n      <td>895.0</td>\n      <td>1474.0</td>\n      <td>510743.0</td>\n      <td>175.234903</td>\n      <td>288.599158</td>\n      <td>106.0</td>\n    </tr>\n    <tr>\n      <th>Huelva-Costa</th>\n      <td>1781.0</td>\n      <td>441.0</td>\n      <td>719.0</td>\n      <td>288115.0</td>\n      <td>153.063881</td>\n      <td>249.553130</td>\n      <td>64.0</td>\n    </tr>\n    <tr>\n      <th>Condado-Campiña</th>\n      <td>1113.0</td>\n      <td>261.0</td>\n      <td>416.0</td>\n      <td>155057.0</td>\n      <td>168.325197</td>\n      <td>268.288436</td>\n      <td>58.0</td>\n    </tr>\n    <tr>\n      <th>Huelva (capital)</th>\n      <td>936.0</td>\n      <td>255.0</td>\n      <td>386.0</td>\n      <td>143663.0</td>\n      <td>177.498730</td>\n      <td>268.684352</td>\n      <td>33.0</td>\n    </tr>\n    <tr>\n      <th>Sierra de Huelva-Andévalo Central</th>\n      <td>575.0</td>\n      <td>166.0</td>\n      <td>312.0</td>\n      <td>67571.0</td>\n      <td>245.667520</td>\n      <td>461.736544</td>\n      <td>21.0</td>\n    </tr>\n    <tr>\n      <th>Gibraleón</th>\n      <td>100.0</td>\n      <td>45.0</td>\n      <td>61.0</td>\n      <td>12607.0</td>\n      <td>356.944555</td>\n      <td>483.858174</td>\n      <td>15.0</td>\n    </tr>\n    <tr>\n      <th>Aljaraque</th>\n      <td>136.0</td>\n      <td>35.0</td>\n      <td>52.0</td>\n      <td>21260.0</td>\n      <td>164.628410</td>\n      <td>244.590781</td>\n      <td>13.0</td>\n    </tr>\n    <tr>\n      <th>Almonte</th>\n      <td>170.0</td>\n      <td>64.0</td>\n      <td>103.0</td>\n      <td>24191.0</td>\n      <td>264.561200</td>\n      <td>425.778182</td>\n      <td>13.0</td>\n    </tr>\n    <tr>\n      <th>Valverde del Camino</th>\n      <td>102.0</td>\n      <td>60.0</td>\n      <td>69.0</td>\n      <td>12820.0</td>\n      <td>468.018721</td>\n      <td>538.221529</td>\n      <td>11.0</td>\n    </tr>\n    <tr>\n      <th>Lepe</th>\n      <td>266.0</td>\n      <td>67.0</td>\n      <td>119.0</td>\n      <td>27431.0</td>\n      <td>244.249207</td>\n      <td>433.815756</td>\n      <td>10.0</td>\n    </tr>\n    <tr>\n      <th>Palma del Condado (La)</th>\n      <td>164.0</td>\n      <td>36.0</td>\n      <td>63.0</td>\n      <td>10761.0</td>\n      <td>334.541399</td>\n      <td>585.447449</td>\n      <td>5.0</td>\n    </tr>\n    <tr>\n      <th>Cartaya</th>\n      <td>80.0</td>\n      <td>28.0</td>\n      <td>45.0</td>\n      <td>19974.0</td>\n      <td>140.182237</td>\n      <td>225.292881</td>\n      <td>4.0</td>\n    </tr>\n    <tr>\n      <th>Aracena</th>\n      <td>90.0</td>\n      <td>19.0</td>\n      <td>31.0</td>\n      <td>8107.0</td>\n      <td>234.365363</td>\n      <td>382.385593</td>\n      <td>4.0</td>\n    </tr>\n    <tr>\n      <th>Villarrasa</th>\n      <td>49.0</td>\n      <td>15.0</td>\n      <td>22.0</td>\n      <td>2176.0</td>\n      <td>689.338235</td>\n      <td>1011.029412</td>\n      <td>4.0</td>\n    </tr>\n    <tr>\n      <th>Trigueros</th>\n      <td>58.0</td>\n      <td>13.0</td>\n      <td>20.0</td>\n      <td>7713.0</td>\n      <td>168.546610</td>\n      <td>259.302476</td>\n      <td>3.0</td>\n    </tr>\n    <tr>\n      <th>Niebla</th>\n      <td>30.0</td>\n      <td>14.0</td>\n      <td>22.0</td>\n      <td>4117.0</td>\n      <td>340.053437</td>\n      <td>534.369687</td>\n      <td>3.0</td>\n    </tr>\n    <tr>\n      <th>Bollullos Par del Condado</th>\n      <td>142.0</td>\n      <td>16.0</td>\n      <td>29.0</td>\n      <td>14272.0</td>\n      <td>112.107623</td>\n      <td>203.195067</td>\n      <td>3.0</td>\n    </tr>\n    <tr>\n      <th>Palos de la Frontera</th>\n      <td>45.0</td>\n      <td>8.0</td>\n      <td>15.0</td>\n      <td>11289.0</td>\n      <td>70.865444</td>\n      <td>132.872708</td>\n      <td>2.0</td>\n    </tr>\n    <tr>\n      <th>Isla Cristina</th>\n      <td>108.0</td>\n      <td>16.0</td>\n      <td>29.0</td>\n      <td>21264.0</td>\n      <td>75.244545</td>\n      <td>136.380737</td>\n      <td>2.0</td>\n    </tr>\n    <tr>\n      <th>Cortegana</th>\n      <td>111.0</td>\n      <td>29.0</td>\n      <td>96.0</td>\n      <td>4666.0</td>\n      <td>621.517360</td>\n      <td>2057.436777</td>\n      <td>2.0</td>\n    </tr>\n    <tr>\n      <th>Moguer</th>\n      <td>68.0</td>\n      <td>5.0</td>\n      <td>12.0</td>\n      <td>22088.0</td>\n      <td>22.636726</td>\n      <td>54.328142</td>\n      <td>2.0</td>\n    </tr>\n    <tr>\n      <th>Rociana del Condado</th>\n      <td>18.0</td>\n      <td>4.0</td>\n      <td>7.0</td>\n      <td>7855.0</td>\n      <td>50.922979</td>\n      <td>89.115213</td>\n      <td>2.0</td>\n    </tr>\n    <tr>\n      <th>San Bartolomé de la Torre</th>\n      <td>8.0</td>\n      <td>2.0</td>\n      <td>4.0</td>\n      <td>3736.0</td>\n      <td>53.533191</td>\n      <td>107.066381</td>\n      <td>1.0</td>\n    </tr>\n    <tr>\n      <th>Escacena del Campo</th>\n      <td>42.0</td>\n      <td>22.0</td>\n      <td>24.0</td>\n      <td>2284.0</td>\n      <td>963.222417</td>\n      <td>1050.788091</td>\n      <td>1.0</td>\n    </tr>\n    <tr>\n      <th>San Juan del Puerto</th>\n      <td>89.0</td>\n      <td>9.0</td>\n      <td>13.0</td>\n      <td>9300.0</td>\n      <td>96.774194</td>\n      <td>139.784946</td>\n      <td>1.0</td>\n    </tr>\n    <tr>\n      <th>Beas</th>\n      <td>13.0</td>\n      <td>4.0</td>\n      <td>4.0</td>\n      <td>4257.0</td>\n      <td>93.962885</td>\n      <td>93.962885</td>\n      <td>1.0</td>\n    </tr>\n    <tr>\n      <th>Punta Umbría</th>\n      <td>58.0</td>\n      <td>16.0</td>\n      <td>19.0</td>\n      <td>15242.0</td>\n      <td>104.973101</td>\n      <td>124.655557</td>\n      <td>1.0</td>\n    </tr>\n    <tr>\n      <th>Almonaster la Real</th>\n      <td>19.0</td>\n      <td>7.0</td>\n      <td>17.0</td>\n      <td>1819.0</td>\n      <td>384.826828</td>\n      <td>934.579439</td>\n      <td>1.0</td>\n    </tr>\n    <tr>\n      <th>Calañas</th>\n      <td>23.0</td>\n      <td>19.0</td>\n      <td>20.0</td>\n      <td>2791.0</td>\n      <td>680.759584</td>\n      <td>716.589036</td>\n      <td>1.0</td>\n    </tr>\n    <tr>\n      <th>Granado (El)</th>\n      <td>33.0</td>\n      <td>2.0</td>\n      <td>21.0</td>\n      <td>516.0</td>\n      <td>387.596899</td>\n      <td>4069.767442</td>\n      <td>1.0</td>\n    </tr>\n    <tr>\n      <th>Nerva</th>\n      <td>44.0</td>\n      <td>10.0</td>\n      <td>18.0</td>\n      <td>5235.0</td>\n      <td>191.021968</td>\n      <td>343.839542</td>\n      <td>1.0</td>\n    </tr>\n    <tr>\n      <th>Campofrío</th>\n      <td>3.0</td>\n      <td>1.0</td>\n      <td>1.0</td>\n      <td>675.0</td>\n      <td>148.148148</td>\n      <td>148.148148</td>\n      <td>NaN</td>\n    </tr>\n    <tr>\n      <th>Manzanilla</th>\n      <td>22.0</td>\n      <td>2.0</td>\n      <td>2.0</td>\n      <td>2135.0</td>\n      <td>93.676815</td>\n      <td>93.676815</td>\n      <td>NaN</td>\n    </tr>\n  </tbody>\n</table>\n</div>"
     },
     "metadata": {},
     "execution_count": 15
    }
   ],
   "source": [
    "# Nuevos casos desde la última captura\n",
    "tabla[tabla['Diferencia PDIA'] != 0].sort_values('Diferencia PDIA', ascending=False)"
   ]
  },
  {
   "cell_type": "code",
   "execution_count": 16,
   "metadata": {},
   "outputs": [],
   "source": [
    "if tabla[tabla['Diferencia PDIA'] != 0]['Diferencia PDIA'].sum() > 0:\n",
    "  # Save to csv\n",
    "  tabla.to_csv('covid_huelva.csv', encoding='utf-8', header=True, index=True)  "
   ]
  },
  {
   "cell_type": "code",
   "execution_count": 17,
   "metadata": {},
   "outputs": [
    {
     "output_type": "execute_result",
     "data": {
      "text/plain": [
       "Medida                             Confirmados PDIA  Confirmados PDIA 7 días  \\\n",
       "Lugar de residencia                                                            \n",
       "Granado (El)                                   33.0                      2.0   \n",
       "Cortegana                                     111.0                     29.0   \n",
       "Escacena del Campo                             42.0                     22.0   \n",
       "Villarrasa                                     49.0                     15.0   \n",
       "Almonaster la Real                             19.0                      7.0   \n",
       "Cerro de Andévalo (El)                         25.0                      3.0   \n",
       "Calañas                                        23.0                     19.0   \n",
       "Palma del Condado (La)                        164.0                     36.0   \n",
       "Valverde del Camino                           102.0                     60.0   \n",
       "Niebla                                         30.0                     14.0   \n",
       "Gibraleón                                     100.0                     45.0   \n",
       "Sierra de Huelva-Andévalo Central             575.0                    166.0   \n",
       "Lepe                                          266.0                     67.0   \n",
       "Almonte                                       170.0                     64.0   \n",
       "Rosal de la Frontera                            9.0                      4.0   \n",
       "Villanueva de los Castillejos                  30.0                      2.0   \n",
       "Aracena                                        90.0                     19.0   \n",
       "Nerva                                          44.0                     10.0   \n",
       "Cortelazor                                      1.0                      1.0   \n",
       "Huelva                                       3527.0                    895.0   \n",
       "Huelva (capital)                              936.0                    255.0   \n",
       "Condado-Campiña                              1113.0                    261.0   \n",
       "Trigueros                                      58.0                     13.0   \n",
       "Huelva-Costa                                 1781.0                    441.0   \n",
       "Aljaraque                                     136.0                     35.0   \n",
       "Higuera de la Sierra                            7.0                      2.0   \n",
       "Aroche                                         17.0                      3.0   \n",
       "Cartaya                                        80.0                     28.0   \n",
       "Villalba del Alcor                             49.0                      2.0   \n",
       "Bollullos Par del Condado                     142.0                     16.0   \n",
       "San Silvestre de Guzmán                         1.0                      1.0   \n",
       "Campillo (El)                                  30.0                      2.0   \n",
       "Campofrío                                       3.0                      1.0   \n",
       "Fuenteheridos                                   2.0                      1.0   \n",
       "Galaroza                                        2.0                      2.0   \n",
       "San Juan del Puerto                            89.0                      9.0   \n",
       "Ayamonte                                       81.0                     14.0   \n",
       "Isla Cristina                                 108.0                     16.0   \n",
       "Palos de la Frontera                           45.0                      8.0   \n",
       "Punta Umbría                                   58.0                     16.0   \n",
       "Almendro (El)                                   6.0                      1.0   \n",
       "San Bartolomé de la Torre                       8.0                      2.0   \n",
       "Alosno                                         11.0                      3.0   \n",
       "Santa Bárbara de Casa                           8.0                      1.0   \n",
       "Beas                                           13.0                      4.0   \n",
       "Manzanilla                                     22.0                      2.0   \n",
       "Rociana del Condado                            18.0                      4.0   \n",
       "Minas de Riotinto                              23.0                      2.0   \n",
       "Encinasola                                      2.0                      1.0   \n",
       "Moguer                                         68.0                      5.0   \n",
       "\n",
       "Medida                             Confirmados PDIA 14 días  Población  \\\n",
       "Lugar de residencia                                                      \n",
       "Granado (El)                                           21.0      516.0   \n",
       "Cortegana                                              96.0     4666.0   \n",
       "Escacena del Campo                                     24.0     2284.0   \n",
       "Villarrasa                                             22.0     2176.0   \n",
       "Almonaster la Real                                     17.0     1819.0   \n",
       "Cerro de Andévalo (El)                                 18.0     2364.0   \n",
       "Calañas                                                20.0     2791.0   \n",
       "Palma del Condado (La)                                 63.0    10761.0   \n",
       "Valverde del Camino                                    69.0    12820.0   \n",
       "Niebla                                                 22.0     4117.0   \n",
       "Gibraleón                                              61.0    12607.0   \n",
       "Sierra de Huelva-Andévalo Central                     312.0    67571.0   \n",
       "Lepe                                                  119.0    27431.0   \n",
       "Almonte                                               103.0    24191.0   \n",
       "Rosal de la Frontera                                    7.0     1697.0   \n",
       "Villanueva de los Castillejos                          11.0     2820.0   \n",
       "Aracena                                                31.0     8107.0   \n",
       "Nerva                                                  18.0     5235.0   \n",
       "Cortelazor                                              1.0      299.0   \n",
       "Huelva                                               1474.0   510743.0   \n",
       "Huelva (capital)                                      386.0   143663.0   \n",
       "Condado-Campiña                                       416.0   155057.0   \n",
       "Trigueros                                              20.0     7713.0   \n",
       "Huelva-Costa                                          719.0   288115.0   \n",
       "Aljaraque                                              52.0    21260.0   \n",
       "Higuera de la Sierra                                    3.0     1287.0   \n",
       "Aroche                                                  7.0     3073.0   \n",
       "Cartaya                                                45.0    19974.0   \n",
       "Villalba del Alcor                                      7.0     3338.0   \n",
       "Bollullos Par del Condado                              29.0    14272.0   \n",
       "San Silvestre de Guzmán                                 1.0      623.0   \n",
       "Campillo (El)                                           3.0     2023.0   \n",
       "Campofrío                                               1.0      675.0   \n",
       "Fuenteheridos                                           1.0      678.0   \n",
       "Galaroza                                                2.0     1379.0   \n",
       "San Juan del Puerto                                    13.0     9300.0   \n",
       "Ayamonte                                               29.0    20946.0   \n",
       "Isla Cristina                                          29.0    21264.0   \n",
       "Palos de la Frontera                                   15.0    11289.0   \n",
       "Punta Umbría                                           19.0    15242.0   \n",
       "Almendro (El)                                           1.0      826.0   \n",
       "San Bartolomé de la Torre                               4.0     3736.0   \n",
       "Alosno                                                  4.0     3923.0   \n",
       "Santa Bárbara de Casa                                   1.0     1035.0   \n",
       "Beas                                                    4.0     4257.0   \n",
       "Manzanilla                                              2.0     2135.0   \n",
       "Rociana del Condado                                     7.0     7855.0   \n",
       "Minas de Riotinto                                       3.0     3848.0   \n",
       "Encinasola                                              1.0     1305.0   \n",
       "Moguer                                                 12.0    22088.0   \n",
       "\n",
       "Medida                                  tasa7       tasa14  Diferencia PDIA  \n",
       "Lugar de residencia                                                          \n",
       "Granado (El)                       387.596899  4069.767442              1.0  \n",
       "Cortegana                          621.517360  2057.436777              2.0  \n",
       "Escacena del Campo                 963.222417  1050.788091              1.0  \n",
       "Villarrasa                         689.338235  1011.029412              4.0  \n",
       "Almonaster la Real                 384.826828   934.579439              1.0  \n",
       "Cerro de Andévalo (El)             126.903553   761.421320              0.0  \n",
       "Calañas                            680.759584   716.589036              1.0  \n",
       "Palma del Condado (La)             334.541399   585.447449              5.0  \n",
       "Valverde del Camino                468.018721   538.221529             11.0  \n",
       "Niebla                             340.053437   534.369687              3.0  \n",
       "Gibraleón                          356.944555   483.858174             15.0  \n",
       "Sierra de Huelva-Andévalo Central  245.667520   461.736544             21.0  \n",
       "Lepe                               244.249207   433.815756             10.0  \n",
       "Almonte                            264.561200   425.778182             13.0  \n",
       "Rosal de la Frontera               235.710077   412.492634              0.0  \n",
       "Villanueva de los Castillejos       70.921986   390.070922              0.0  \n",
       "Aracena                            234.365363   382.385593              4.0  \n",
       "Nerva                              191.021968   343.839542              1.0  \n",
       "Cortelazor                         334.448161   334.448161              0.0  \n",
       "Huelva                             175.234903   288.599158            106.0  \n",
       "Huelva (capital)                   177.498730   268.684352             33.0  \n",
       "Condado-Campiña                    168.325197   268.288436             58.0  \n",
       "Trigueros                          168.546610   259.302476              3.0  \n",
       "Huelva-Costa                       153.063881   249.553130             64.0  \n",
       "Aljaraque                          164.628410   244.590781             13.0  \n",
       "Higuera de la Sierra               155.400155   233.100233              0.0  \n",
       "Aroche                              97.624471   227.790433              0.0  \n",
       "Cartaya                            140.182237   225.292881              4.0  \n",
       "Villalba del Alcor                  59.916117   209.706411              0.0  \n",
       "Bollullos Par del Condado          112.107623   203.195067              3.0  \n",
       "San Silvestre de Guzmán            160.513644   160.513644              0.0  \n",
       "Campillo (El)                       98.863075   148.294612              0.0  \n",
       "Campofrío                          148.148148   148.148148              NaN  \n",
       "Fuenteheridos                      147.492625   147.492625              0.0  \n",
       "Galaroza                           145.032632   145.032632              0.0  \n",
       "San Juan del Puerto                 96.774194   139.784946              1.0  \n",
       "Ayamonte                            66.838537   138.451256              0.0  \n",
       "Isla Cristina                       75.244545   136.380737              2.0  \n",
       "Palos de la Frontera                70.865444   132.872708              2.0  \n",
       "Punta Umbría                       104.973101   124.655557              1.0  \n",
       "Almendro (El)                      121.065375   121.065375              0.0  \n",
       "San Bartolomé de la Torre           53.533191   107.066381              1.0  \n",
       "Alosno                              76.472088   101.962784              0.0  \n",
       "Santa Bárbara de Casa               96.618357    96.618357              0.0  \n",
       "Beas                                93.962885    93.962885              1.0  \n",
       "Manzanilla                          93.676815    93.676815              NaN  \n",
       "Rociana del Condado                 50.922979    89.115213              2.0  \n",
       "Minas de Riotinto                   51.975052    77.962578              0.0  \n",
       "Encinasola                          76.628352    76.628352              0.0  \n",
       "Moguer                              22.636726    54.328142              2.0  "
      ],
      "text/html": "<div>\n<style scoped>\n    .dataframe tbody tr th:only-of-type {\n        vertical-align: middle;\n    }\n\n    .dataframe tbody tr th {\n        vertical-align: top;\n    }\n\n    .dataframe thead th {\n        text-align: right;\n    }\n</style>\n<table border=\"1\" class=\"dataframe\">\n  <thead>\n    <tr style=\"text-align: right;\">\n      <th>Medida</th>\n      <th>Confirmados PDIA</th>\n      <th>Confirmados PDIA 7 días</th>\n      <th>Confirmados PDIA 14 días</th>\n      <th>Población</th>\n      <th>tasa7</th>\n      <th>tasa14</th>\n      <th>Diferencia PDIA</th>\n    </tr>\n    <tr>\n      <th>Lugar de residencia</th>\n      <th></th>\n      <th></th>\n      <th></th>\n      <th></th>\n      <th></th>\n      <th></th>\n      <th></th>\n    </tr>\n  </thead>\n  <tbody>\n    <tr>\n      <th>Granado (El)</th>\n      <td>33.0</td>\n      <td>2.0</td>\n      <td>21.0</td>\n      <td>516.0</td>\n      <td>387.596899</td>\n      <td>4069.767442</td>\n      <td>1.0</td>\n    </tr>\n    <tr>\n      <th>Cortegana</th>\n      <td>111.0</td>\n      <td>29.0</td>\n      <td>96.0</td>\n      <td>4666.0</td>\n      <td>621.517360</td>\n      <td>2057.436777</td>\n      <td>2.0</td>\n    </tr>\n    <tr>\n      <th>Escacena del Campo</th>\n      <td>42.0</td>\n      <td>22.0</td>\n      <td>24.0</td>\n      <td>2284.0</td>\n      <td>963.222417</td>\n      <td>1050.788091</td>\n      <td>1.0</td>\n    </tr>\n    <tr>\n      <th>Villarrasa</th>\n      <td>49.0</td>\n      <td>15.0</td>\n      <td>22.0</td>\n      <td>2176.0</td>\n      <td>689.338235</td>\n      <td>1011.029412</td>\n      <td>4.0</td>\n    </tr>\n    <tr>\n      <th>Almonaster la Real</th>\n      <td>19.0</td>\n      <td>7.0</td>\n      <td>17.0</td>\n      <td>1819.0</td>\n      <td>384.826828</td>\n      <td>934.579439</td>\n      <td>1.0</td>\n    </tr>\n    <tr>\n      <th>Cerro de Andévalo (El)</th>\n      <td>25.0</td>\n      <td>3.0</td>\n      <td>18.0</td>\n      <td>2364.0</td>\n      <td>126.903553</td>\n      <td>761.421320</td>\n      <td>0.0</td>\n    </tr>\n    <tr>\n      <th>Calañas</th>\n      <td>23.0</td>\n      <td>19.0</td>\n      <td>20.0</td>\n      <td>2791.0</td>\n      <td>680.759584</td>\n      <td>716.589036</td>\n      <td>1.0</td>\n    </tr>\n    <tr>\n      <th>Palma del Condado (La)</th>\n      <td>164.0</td>\n      <td>36.0</td>\n      <td>63.0</td>\n      <td>10761.0</td>\n      <td>334.541399</td>\n      <td>585.447449</td>\n      <td>5.0</td>\n    </tr>\n    <tr>\n      <th>Valverde del Camino</th>\n      <td>102.0</td>\n      <td>60.0</td>\n      <td>69.0</td>\n      <td>12820.0</td>\n      <td>468.018721</td>\n      <td>538.221529</td>\n      <td>11.0</td>\n    </tr>\n    <tr>\n      <th>Niebla</th>\n      <td>30.0</td>\n      <td>14.0</td>\n      <td>22.0</td>\n      <td>4117.0</td>\n      <td>340.053437</td>\n      <td>534.369687</td>\n      <td>3.0</td>\n    </tr>\n    <tr>\n      <th>Gibraleón</th>\n      <td>100.0</td>\n      <td>45.0</td>\n      <td>61.0</td>\n      <td>12607.0</td>\n      <td>356.944555</td>\n      <td>483.858174</td>\n      <td>15.0</td>\n    </tr>\n    <tr>\n      <th>Sierra de Huelva-Andévalo Central</th>\n      <td>575.0</td>\n      <td>166.0</td>\n      <td>312.0</td>\n      <td>67571.0</td>\n      <td>245.667520</td>\n      <td>461.736544</td>\n      <td>21.0</td>\n    </tr>\n    <tr>\n      <th>Lepe</th>\n      <td>266.0</td>\n      <td>67.0</td>\n      <td>119.0</td>\n      <td>27431.0</td>\n      <td>244.249207</td>\n      <td>433.815756</td>\n      <td>10.0</td>\n    </tr>\n    <tr>\n      <th>Almonte</th>\n      <td>170.0</td>\n      <td>64.0</td>\n      <td>103.0</td>\n      <td>24191.0</td>\n      <td>264.561200</td>\n      <td>425.778182</td>\n      <td>13.0</td>\n    </tr>\n    <tr>\n      <th>Rosal de la Frontera</th>\n      <td>9.0</td>\n      <td>4.0</td>\n      <td>7.0</td>\n      <td>1697.0</td>\n      <td>235.710077</td>\n      <td>412.492634</td>\n      <td>0.0</td>\n    </tr>\n    <tr>\n      <th>Villanueva de los Castillejos</th>\n      <td>30.0</td>\n      <td>2.0</td>\n      <td>11.0</td>\n      <td>2820.0</td>\n      <td>70.921986</td>\n      <td>390.070922</td>\n      <td>0.0</td>\n    </tr>\n    <tr>\n      <th>Aracena</th>\n      <td>90.0</td>\n      <td>19.0</td>\n      <td>31.0</td>\n      <td>8107.0</td>\n      <td>234.365363</td>\n      <td>382.385593</td>\n      <td>4.0</td>\n    </tr>\n    <tr>\n      <th>Nerva</th>\n      <td>44.0</td>\n      <td>10.0</td>\n      <td>18.0</td>\n      <td>5235.0</td>\n      <td>191.021968</td>\n      <td>343.839542</td>\n      <td>1.0</td>\n    </tr>\n    <tr>\n      <th>Cortelazor</th>\n      <td>1.0</td>\n      <td>1.0</td>\n      <td>1.0</td>\n      <td>299.0</td>\n      <td>334.448161</td>\n      <td>334.448161</td>\n      <td>0.0</td>\n    </tr>\n    <tr>\n      <th>Huelva</th>\n      <td>3527.0</td>\n      <td>895.0</td>\n      <td>1474.0</td>\n      <td>510743.0</td>\n      <td>175.234903</td>\n      <td>288.599158</td>\n      <td>106.0</td>\n    </tr>\n    <tr>\n      <th>Huelva (capital)</th>\n      <td>936.0</td>\n      <td>255.0</td>\n      <td>386.0</td>\n      <td>143663.0</td>\n      <td>177.498730</td>\n      <td>268.684352</td>\n      <td>33.0</td>\n    </tr>\n    <tr>\n      <th>Condado-Campiña</th>\n      <td>1113.0</td>\n      <td>261.0</td>\n      <td>416.0</td>\n      <td>155057.0</td>\n      <td>168.325197</td>\n      <td>268.288436</td>\n      <td>58.0</td>\n    </tr>\n    <tr>\n      <th>Trigueros</th>\n      <td>58.0</td>\n      <td>13.0</td>\n      <td>20.0</td>\n      <td>7713.0</td>\n      <td>168.546610</td>\n      <td>259.302476</td>\n      <td>3.0</td>\n    </tr>\n    <tr>\n      <th>Huelva-Costa</th>\n      <td>1781.0</td>\n      <td>441.0</td>\n      <td>719.0</td>\n      <td>288115.0</td>\n      <td>153.063881</td>\n      <td>249.553130</td>\n      <td>64.0</td>\n    </tr>\n    <tr>\n      <th>Aljaraque</th>\n      <td>136.0</td>\n      <td>35.0</td>\n      <td>52.0</td>\n      <td>21260.0</td>\n      <td>164.628410</td>\n      <td>244.590781</td>\n      <td>13.0</td>\n    </tr>\n    <tr>\n      <th>Higuera de la Sierra</th>\n      <td>7.0</td>\n      <td>2.0</td>\n      <td>3.0</td>\n      <td>1287.0</td>\n      <td>155.400155</td>\n      <td>233.100233</td>\n      <td>0.0</td>\n    </tr>\n    <tr>\n      <th>Aroche</th>\n      <td>17.0</td>\n      <td>3.0</td>\n      <td>7.0</td>\n      <td>3073.0</td>\n      <td>97.624471</td>\n      <td>227.790433</td>\n      <td>0.0</td>\n    </tr>\n    <tr>\n      <th>Cartaya</th>\n      <td>80.0</td>\n      <td>28.0</td>\n      <td>45.0</td>\n      <td>19974.0</td>\n      <td>140.182237</td>\n      <td>225.292881</td>\n      <td>4.0</td>\n    </tr>\n    <tr>\n      <th>Villalba del Alcor</th>\n      <td>49.0</td>\n      <td>2.0</td>\n      <td>7.0</td>\n      <td>3338.0</td>\n      <td>59.916117</td>\n      <td>209.706411</td>\n      <td>0.0</td>\n    </tr>\n    <tr>\n      <th>Bollullos Par del Condado</th>\n      <td>142.0</td>\n      <td>16.0</td>\n      <td>29.0</td>\n      <td>14272.0</td>\n      <td>112.107623</td>\n      <td>203.195067</td>\n      <td>3.0</td>\n    </tr>\n    <tr>\n      <th>San Silvestre de Guzmán</th>\n      <td>1.0</td>\n      <td>1.0</td>\n      <td>1.0</td>\n      <td>623.0</td>\n      <td>160.513644</td>\n      <td>160.513644</td>\n      <td>0.0</td>\n    </tr>\n    <tr>\n      <th>Campillo (El)</th>\n      <td>30.0</td>\n      <td>2.0</td>\n      <td>3.0</td>\n      <td>2023.0</td>\n      <td>98.863075</td>\n      <td>148.294612</td>\n      <td>0.0</td>\n    </tr>\n    <tr>\n      <th>Campofrío</th>\n      <td>3.0</td>\n      <td>1.0</td>\n      <td>1.0</td>\n      <td>675.0</td>\n      <td>148.148148</td>\n      <td>148.148148</td>\n      <td>NaN</td>\n    </tr>\n    <tr>\n      <th>Fuenteheridos</th>\n      <td>2.0</td>\n      <td>1.0</td>\n      <td>1.0</td>\n      <td>678.0</td>\n      <td>147.492625</td>\n      <td>147.492625</td>\n      <td>0.0</td>\n    </tr>\n    <tr>\n      <th>Galaroza</th>\n      <td>2.0</td>\n      <td>2.0</td>\n      <td>2.0</td>\n      <td>1379.0</td>\n      <td>145.032632</td>\n      <td>145.032632</td>\n      <td>0.0</td>\n    </tr>\n    <tr>\n      <th>San Juan del Puerto</th>\n      <td>89.0</td>\n      <td>9.0</td>\n      <td>13.0</td>\n      <td>9300.0</td>\n      <td>96.774194</td>\n      <td>139.784946</td>\n      <td>1.0</td>\n    </tr>\n    <tr>\n      <th>Ayamonte</th>\n      <td>81.0</td>\n      <td>14.0</td>\n      <td>29.0</td>\n      <td>20946.0</td>\n      <td>66.838537</td>\n      <td>138.451256</td>\n      <td>0.0</td>\n    </tr>\n    <tr>\n      <th>Isla Cristina</th>\n      <td>108.0</td>\n      <td>16.0</td>\n      <td>29.0</td>\n      <td>21264.0</td>\n      <td>75.244545</td>\n      <td>136.380737</td>\n      <td>2.0</td>\n    </tr>\n    <tr>\n      <th>Palos de la Frontera</th>\n      <td>45.0</td>\n      <td>8.0</td>\n      <td>15.0</td>\n      <td>11289.0</td>\n      <td>70.865444</td>\n      <td>132.872708</td>\n      <td>2.0</td>\n    </tr>\n    <tr>\n      <th>Punta Umbría</th>\n      <td>58.0</td>\n      <td>16.0</td>\n      <td>19.0</td>\n      <td>15242.0</td>\n      <td>104.973101</td>\n      <td>124.655557</td>\n      <td>1.0</td>\n    </tr>\n    <tr>\n      <th>Almendro (El)</th>\n      <td>6.0</td>\n      <td>1.0</td>\n      <td>1.0</td>\n      <td>826.0</td>\n      <td>121.065375</td>\n      <td>121.065375</td>\n      <td>0.0</td>\n    </tr>\n    <tr>\n      <th>San Bartolomé de la Torre</th>\n      <td>8.0</td>\n      <td>2.0</td>\n      <td>4.0</td>\n      <td>3736.0</td>\n      <td>53.533191</td>\n      <td>107.066381</td>\n      <td>1.0</td>\n    </tr>\n    <tr>\n      <th>Alosno</th>\n      <td>11.0</td>\n      <td>3.0</td>\n      <td>4.0</td>\n      <td>3923.0</td>\n      <td>76.472088</td>\n      <td>101.962784</td>\n      <td>0.0</td>\n    </tr>\n    <tr>\n      <th>Santa Bárbara de Casa</th>\n      <td>8.0</td>\n      <td>1.0</td>\n      <td>1.0</td>\n      <td>1035.0</td>\n      <td>96.618357</td>\n      <td>96.618357</td>\n      <td>0.0</td>\n    </tr>\n    <tr>\n      <th>Beas</th>\n      <td>13.0</td>\n      <td>4.0</td>\n      <td>4.0</td>\n      <td>4257.0</td>\n      <td>93.962885</td>\n      <td>93.962885</td>\n      <td>1.0</td>\n    </tr>\n    <tr>\n      <th>Manzanilla</th>\n      <td>22.0</td>\n      <td>2.0</td>\n      <td>2.0</td>\n      <td>2135.0</td>\n      <td>93.676815</td>\n      <td>93.676815</td>\n      <td>NaN</td>\n    </tr>\n    <tr>\n      <th>Rociana del Condado</th>\n      <td>18.0</td>\n      <td>4.0</td>\n      <td>7.0</td>\n      <td>7855.0</td>\n      <td>50.922979</td>\n      <td>89.115213</td>\n      <td>2.0</td>\n    </tr>\n    <tr>\n      <th>Minas de Riotinto</th>\n      <td>23.0</td>\n      <td>2.0</td>\n      <td>3.0</td>\n      <td>3848.0</td>\n      <td>51.975052</td>\n      <td>77.962578</td>\n      <td>0.0</td>\n    </tr>\n    <tr>\n      <th>Encinasola</th>\n      <td>2.0</td>\n      <td>1.0</td>\n      <td>1.0</td>\n      <td>1305.0</td>\n      <td>76.628352</td>\n      <td>76.628352</td>\n      <td>0.0</td>\n    </tr>\n    <tr>\n      <th>Moguer</th>\n      <td>68.0</td>\n      <td>5.0</td>\n      <td>12.0</td>\n      <td>22088.0</td>\n      <td>22.636726</td>\n      <td>54.328142</td>\n      <td>2.0</td>\n    </tr>\n  </tbody>\n</table>\n</div>"
     },
     "metadata": {},
     "execution_count": 17
    }
   ],
   "source": [
    "tabla.sort_values('tasa14', ascending=False)"
   ]
  },
  {
   "cell_type": "code",
   "execution_count": null,
   "metadata": {},
   "outputs": [],
   "source": []
  }
 ]
}