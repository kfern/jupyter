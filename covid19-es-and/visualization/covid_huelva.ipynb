{
 "metadata": {
  "language_info": {
   "codemirror_mode": {
    "name": "ipython",
    "version": 3
   },
   "file_extension": ".py",
   "mimetype": "text/x-python",
   "name": "python",
   "nbconvert_exporter": "python",
   "pygments_lexer": "ipython3",
   "version": "3.8.6"
  },
  "orig_nbformat": 2,
  "kernelspec": {
   "name": "python3",
   "display_name": "Python 3.8.6 64-bit"
  },
  "interpreter": {
   "hash": "31f2aee4e71d21fbe5cf8b01ff0e069b9275f58929596ceb00d14d90e3e16cd6"
  }
 },
 "nbformat": 4,
 "nbformat_minor": 2,
 "cells": [
  {
   "cell_type": "code",
   "execution_count": 1,
   "metadata": {},
   "outputs": [],
   "source": [
    "import pandas as pd\n",
    "pd.set_option('display.max_rows', None) # Print all rows"
   ]
  },
  {
   "cell_type": "code",
   "execution_count": 2,
   "metadata": {},
   "outputs": [],
   "source": [
    "# FIX SSL: CERTIFICATE_VERIFY_FAILED with Python3\n",
    "# https://stackoverflow.com/a/49174340\n",
    "import ssl\n",
    "\n",
    "ssl._create_default_https_context = ssl._create_unverified_context"
   ]
  },
  {
   "cell_type": "code",
   "execution_count": 3,
   "metadata": {},
   "outputs": [],
   "source": [
    "url = 'https://www.juntadeandalucia.es/institutodeestadisticaycartografia/badea/stpivot/stpivot/Print?cube=013d884c-cfc5-4c21-9e78-e26225682afd&type=3&foto=si&ejecutaDesde=&codConsulta=38668&consTipoVisua=JP'\n",
    "fields = ['Lugar de residencia', 'Medida', 'Valor']\n",
    "df = pd.read_csv(url, delimiter=';', usecols=fields, decimal=',')"
   ]
  },
  {
   "cell_type": "code",
   "execution_count": 4,
   "metadata": {},
   "outputs": [
    {
     "output_type": "execute_result",
     "data": {
      "text/plain": [
       "  Lugar de residencia                    Medida               Valor\n",
       "0              Huelva                 Población              513170\n",
       "1              Huelva          Confirmados PDIA               33133\n",
       "2              Huelva  Confirmados PDIA 14 días                1084\n",
       "3              Huelva         Tasa PDIA 14 días  211,23604263694293\n",
       "4              Huelva   Confirmados PDIA 7 días                 452\n",
       "5              Huelva        Total Confirmados                33317\n",
       "6              Huelva                   Curados               31291\n",
       "7              Huelva                Fallecidos                 389"
      ],
      "text/html": "<div>\n<style scoped>\n    .dataframe tbody tr th:only-of-type {\n        vertical-align: middle;\n    }\n\n    .dataframe tbody tr th {\n        vertical-align: top;\n    }\n\n    .dataframe thead th {\n        text-align: right;\n    }\n</style>\n<table border=\"1\" class=\"dataframe\">\n  <thead>\n    <tr style=\"text-align: right;\">\n      <th></th>\n      <th>Lugar de residencia</th>\n      <th>Medida</th>\n      <th>Valor</th>\n    </tr>\n  </thead>\n  <tbody>\n    <tr>\n      <th>0</th>\n      <td>Huelva</td>\n      <td>Población</td>\n      <td>513170</td>\n    </tr>\n    <tr>\n      <th>1</th>\n      <td>Huelva</td>\n      <td>Confirmados PDIA</td>\n      <td>33133</td>\n    </tr>\n    <tr>\n      <th>2</th>\n      <td>Huelva</td>\n      <td>Confirmados PDIA 14 días</td>\n      <td>1084</td>\n    </tr>\n    <tr>\n      <th>3</th>\n      <td>Huelva</td>\n      <td>Tasa PDIA 14 días</td>\n      <td>211,23604263694293</td>\n    </tr>\n    <tr>\n      <th>4</th>\n      <td>Huelva</td>\n      <td>Confirmados PDIA 7 días</td>\n      <td>452</td>\n    </tr>\n    <tr>\n      <th>5</th>\n      <td>Huelva</td>\n      <td>Total Confirmados</td>\n      <td>33317</td>\n    </tr>\n    <tr>\n      <th>6</th>\n      <td>Huelva</td>\n      <td>Curados</td>\n      <td>31291</td>\n    </tr>\n    <tr>\n      <th>7</th>\n      <td>Huelva</td>\n      <td>Fallecidos</td>\n      <td>389</td>\n    </tr>\n  </tbody>\n</table>\n</div>"
     },
     "metadata": {},
     "execution_count": 4
    }
   ],
   "source": [
    "df[df['Lugar de residencia'] == 'Huelva']"
   ]
  },
  {
   "cell_type": "code",
   "execution_count": 5,
   "metadata": {},
   "outputs": [],
   "source": [
    "df['Valor'] = pd.to_numeric(df['Valor'],errors='coerce')"
   ]
  },
  {
   "cell_type": "code",
   "execution_count": 6,
   "metadata": {},
   "outputs": [],
   "source": [
    "dfAnterior = pd.read_csv('covid_huelva.csv', index_col='Lugar de residencia')"
   ]
  },
  {
   "cell_type": "code",
   "execution_count": 7,
   "metadata": {
    "tags": []
   },
   "outputs": [
    {
     "output_type": "stream",
     "name": "stdout",
     "text": [
      "Confirmados PCR en la provincia de Huelva:  33133.0\n",
      "<ipython-input-7-31b732756b19>:2: UserWarning: Boolean Series key will be reindexed to match DataFrame index.\n",
      "  p = df[df['Lugar de residencia'] == 'Huelva'][df['Medida'] == 'Confirmados PDIA']['Valor'].values[0]\n"
     ]
    }
   ],
   "source": [
    "# Confirmados PCR provincia Huelva\n",
    "p = df[df['Lugar de residencia'] == 'Huelva'][df['Medida'] == 'Confirmados PDIA']['Valor'].values[0]\n",
    "print('Confirmados PCR en la provincia de Huelva: ', p)"
   ]
  },
  {
   "cell_type": "code",
   "execution_count": 8,
   "metadata": {
    "tags": []
   },
   "outputs": [
    {
     "output_type": "stream",
     "name": "stdout",
     "text": [
      "Confirmados PCR en Huelva capital:  9072.0\n",
      "<ipython-input-8-e81bfb40e710>:2: UserWarning: Boolean Series key will be reindexed to match DataFrame index.\n",
      "  c = df[df['Lugar de residencia'] == 'Huelva (capital)'][df['Medida'] == 'Confirmados PDIA']['Valor'].values[0]\n"
     ]
    }
   ],
   "source": [
    "# Confirmados PCR Huelva capitalpd\n",
    "c = df[df['Lugar de residencia'] == 'Huelva (capital)'][df['Medida'] == 'Confirmados PDIA']['Valor'].values[0]\n",
    "print('Confirmados PCR en Huelva capital: ', c)"
   ]
  },
  {
   "cell_type": "code",
   "execution_count": 9,
   "metadata": {
    "tags": []
   },
   "outputs": [
    {
     "output_type": "stream",
     "name": "stderr",
     "text": [
      "<ipython-input-9-f09dd2050cc1>:1: UserWarning: Boolean Series key will be reindexed to match DataFrame index.\n  c7 = df[df['Lugar de residencia'] == 'Huelva (capital)'][df['Medida'] == 'Confirmados PDIA 7 días']['Valor'].values[0]\n<ipython-input-9-f09dd2050cc1>:2: UserWarning: Boolean Series key will be reindexed to match DataFrame index.\n  c14 = df[df['Lugar de residencia'] == 'Huelva (capital)'][df['Medida'] == 'Confirmados PDIA 14 días']['Valor'].values[0]\n<ipython-input-9-f09dd2050cc1>:3: UserWarning: Boolean Series key will be reindexed to match DataFrame index.\n  p = df[df['Lugar de residencia'] == 'Huelva (capital)'][df['Medida'] == 'Población']['Valor'].values[0]\n"
     ]
    }
   ],
   "source": [
    "c7 = df[df['Lugar de residencia'] == 'Huelva (capital)'][df['Medida'] == 'Confirmados PDIA 7 días']['Valor'].values[0]\n",
    "c14 = df[df['Lugar de residencia'] == 'Huelva (capital)'][df['Medida'] == 'Confirmados PDIA 14 días']['Valor'].values[0]\n",
    "p = df[df['Lugar de residencia'] == 'Huelva (capital)'][df['Medida'] == 'Población']['Valor'].values[0]"
   ]
  },
  {
   "cell_type": "code",
   "execution_count": 10,
   "metadata": {
    "tags": []
   },
   "outputs": [
    {
     "output_type": "stream",
     "name": "stdout",
     "text": [
      "Huelva (capital)\n\nUn positivo PCR cada 899 personas en los últimos 7 días \n\nUn positivo PCR cada 326 personas en los últimos 14 días\n"
     ]
    }
   ],
   "source": [
    "print('Huelva (capital)\\n')\n",
    "#print('Confirmados PCR 7 días x 1,000 habitantes: ', f\"{c7/(p/1000):.5f}\")\n",
    "print('Un positivo PCR cada', f\"{p/c7:.0f}\", 'personas en los últimos 7 días', '\\n')\n",
    "#print('Confirmados PCR 14 días x 1,000 habitantes: ', f\"{c14/(p/1000):.5f}\")\n",
    "print('Un positivo PCR cada', f\"{p/c14:.0f}\", 'personas en los últimos 14 días')"
   ]
  },
  {
   "cell_type": "code",
   "execution_count": 11,
   "metadata": {},
   "outputs": [],
   "source": [
    "filtro = ((df['Medida'] == 'Confirmados PDIA')| (df['Medida'] == 'Confirmados PDIA 7 días') | (df['Medida'] == 'Población' ) | (df['Medida'] == 'Confirmados PDIA 14 días')) & (df['Valor'] > 0)\n",
    "tabla = pd.pivot_table(df.loc[filtro], values='Valor', index='Lugar de residencia', columns='Medida').dropna()"
   ]
  },
  {
   "cell_type": "code",
   "execution_count": 12,
   "metadata": {},
   "outputs": [],
   "source": [
    "# Reorder columns\n",
    "tabla = tabla[['Confirmados PDIA', 'Confirmados PDIA 7 días', 'Confirmados PDIA 14 días', 'Población']]"
   ]
  },
  {
   "cell_type": "code",
   "execution_count": 13,
   "metadata": {},
   "outputs": [],
   "source": [
    "tabla['tasa7'] = tabla['Confirmados PDIA 7 días']/tabla['Población']*100000\n",
    "tabla['tasa14'] = tabla['Confirmados PDIA 14 días']/tabla['Población']*100000"
   ]
  },
  {
   "cell_type": "code",
   "execution_count": 14,
   "metadata": {},
   "outputs": [],
   "source": [
    "tabla['Diferencia PDIA'] = tabla['Confirmados PDIA'] - dfAnterior['Confirmados PDIA']"
   ]
  },
  {
   "cell_type": "code",
   "execution_count": 15,
   "metadata": {},
   "outputs": [
    {
     "output_type": "execute_result",
     "data": {
      "text/plain": [
       "Medida                             Confirmados PDIA  Confirmados PDIA 7 días  \\\n",
       "Lugar de residencia                                                            \n",
       "Huelva                                      33133.0                    452.0   \n",
       "Condado-Campiña                             10778.0                    182.0   \n",
       "Huelva-Costa                                19076.0                    235.0   \n",
       "Huelva (capital)                             9072.0                    160.0   \n",
       "Sierra de Huelva-Andévalo Central            2926.0                     33.0   \n",
       "Palos de la Frontera                          721.0                     21.0   \n",
       "Moguer                                       1391.0                     31.0   \n",
       "San Juan del Puerto                           579.0                     21.0   \n",
       "Gibraleón                                     653.0                     12.0   \n",
       "Palma del Condado (La)                       1191.0                     14.0   \n",
       "Isla Cristina                                2182.0                     11.0   \n",
       "Valverde del Camino                           660.0                     17.0   \n",
       "Cerro de Andévalo (El)                        154.0                      7.0   \n",
       "Ayamonte                                     1335.0                      4.0   \n",
       "Lepe                                         2168.0                     15.0   \n",
       "Manzanilla                                    106.0                      3.0   \n",
       "Bollullos Par del Condado                    1033.0                     10.0   \n",
       "Punta Umbría                                  850.0                     10.0   \n",
       "Almonte                                      1907.0                     29.0   \n",
       "Almonaster la Real                             70.0                      2.0   \n",
       "Cartaya                                      1384.0                     18.0   \n",
       "Bonares                                       295.0                      4.0   \n",
       "Niebla                                        249.0                      2.0   \n",
       "Rociana del Condado                           572.0                     11.0   \n",
       "Aracena                                       540.0                      1.0   \n",
       "Aljaraque                                    1162.0                      7.0   \n",
       "Nerva                                         180.0                      1.0   \n",
       "Paymogo                                        76.0                      1.0   \n",
       "\n",
       "Medida                             Confirmados PDIA 14 días  Población  \\\n",
       "Lugar de residencia                                                      \n",
       "Huelva                                               1084.0   513170.0   \n",
       "Condado-Campiña                                       361.0   156231.0   \n",
       "Huelva-Costa                                          626.0   289548.0   \n",
       "Huelva (capital)                                      441.0   143837.0   \n",
       "Sierra de Huelva-Andévalo Central                      94.0    67391.0   \n",
       "Palos de la Frontera                                   34.0    11742.0   \n",
       "Moguer                                                 72.0    21867.0   \n",
       "San Juan del Puerto                                    47.0     9411.0   \n",
       "Gibraleón                                              17.0    12737.0   \n",
       "Palma del Condado (La)                                 26.0    10801.0   \n",
       "Isla Cristina                                          29.0    21393.0   \n",
       "Valverde del Camino                                    49.0    12750.0   \n",
       "Cerro de Andévalo (El)                                  9.0     2327.0   \n",
       "Ayamonte                                               13.0    21104.0   \n",
       "Lepe                                                   25.0    27880.0   \n",
       "Manzanilla                                              4.0     2118.0   \n",
       "Bollullos Par del Condado                              28.0    14387.0   \n",
       "Punta Umbría                                           18.0    15355.0   \n",
       "Almonte                                                53.0    24507.0   \n",
       "Almonaster la Real                                      4.0     1788.0   \n",
       "Cartaya                                                30.0    20083.0   \n",
       "Bonares                                                10.0     6060.0   \n",
       "Niebla                                                  9.0     4116.0   \n",
       "Rociana del Condado                                    14.0     7939.0   \n",
       "Aracena                                                 8.0     8255.0   \n",
       "Aljaraque                                              32.0    21474.0   \n",
       "Nerva                                                   2.0     5169.0   \n",
       "Paymogo                                                 1.0     1162.0   \n",
       "\n",
       "Medida                                  tasa7      tasa14  Diferencia PDIA  \n",
       "Lugar de residencia                                                         \n",
       "Huelva                              88.079973  211.236043             94.0  \n",
       "Condado-Campiña                    116.494166  231.068098             44.0  \n",
       "Huelva-Costa                        81.160982  216.199041             41.0  \n",
       "Huelva (capital)                   111.237025  306.597051             28.0  \n",
       "Sierra de Huelva-Andévalo Central   48.967963  139.484501              9.0  \n",
       "Palos de la Frontera               178.845171  289.558849              9.0  \n",
       "Moguer                             141.766132  329.263273              8.0  \n",
       "San Juan del Puerto                223.143130  499.415578              7.0  \n",
       "Gibraleón                           94.213708  133.469420              7.0  \n",
       "Palma del Condado (La)             129.617628  240.718452              4.0  \n",
       "Isla Cristina                       51.418688  135.558360              3.0  \n",
       "Valverde del Camino                133.333333  384.313725              3.0  \n",
       "Cerro de Andévalo (El)             300.816502  386.764074              3.0  \n",
       "Ayamonte                            18.953753   61.599697              3.0  \n",
       "Lepe                                53.802009   89.670014              2.0  \n",
       "Manzanilla                         141.643059  188.857413              2.0  \n",
       "Bollullos Par del Condado           69.507194  194.620143              2.0  \n",
       "Punta Umbría                        65.125366  117.225659              2.0  \n",
       "Almonte                            118.333537  216.264741              2.0  \n",
       "Almonaster la Real                 111.856823  223.713647              1.0  \n",
       "Cartaya                             89.628044  149.380073              1.0  \n",
       "Bonares                             66.006601  165.016502              1.0  \n",
       "Niebla                              48.590865  218.658892              1.0  \n",
       "Rociana del Condado                138.556493  176.344628              1.0  \n",
       "Aracena                             12.113870   96.910963              1.0  \n",
       "Aljaraque                           32.597560  149.017416              1.0  \n",
       "Nerva                               19.346102   38.692204              NaN  \n",
       "Paymogo                             86.058520   86.058520              NaN  "
      ],
      "text/html": "<div>\n<style scoped>\n    .dataframe tbody tr th:only-of-type {\n        vertical-align: middle;\n    }\n\n    .dataframe tbody tr th {\n        vertical-align: top;\n    }\n\n    .dataframe thead th {\n        text-align: right;\n    }\n</style>\n<table border=\"1\" class=\"dataframe\">\n  <thead>\n    <tr style=\"text-align: right;\">\n      <th>Medida</th>\n      <th>Confirmados PDIA</th>\n      <th>Confirmados PDIA 7 días</th>\n      <th>Confirmados PDIA 14 días</th>\n      <th>Población</th>\n      <th>tasa7</th>\n      <th>tasa14</th>\n      <th>Diferencia PDIA</th>\n    </tr>\n    <tr>\n      <th>Lugar de residencia</th>\n      <th></th>\n      <th></th>\n      <th></th>\n      <th></th>\n      <th></th>\n      <th></th>\n      <th></th>\n    </tr>\n  </thead>\n  <tbody>\n    <tr>\n      <th>Huelva</th>\n      <td>33133.0</td>\n      <td>452.0</td>\n      <td>1084.0</td>\n      <td>513170.0</td>\n      <td>88.079973</td>\n      <td>211.236043</td>\n      <td>94.0</td>\n    </tr>\n    <tr>\n      <th>Condado-Campiña</th>\n      <td>10778.0</td>\n      <td>182.0</td>\n      <td>361.0</td>\n      <td>156231.0</td>\n      <td>116.494166</td>\n      <td>231.068098</td>\n      <td>44.0</td>\n    </tr>\n    <tr>\n      <th>Huelva-Costa</th>\n      <td>19076.0</td>\n      <td>235.0</td>\n      <td>626.0</td>\n      <td>289548.0</td>\n      <td>81.160982</td>\n      <td>216.199041</td>\n      <td>41.0</td>\n    </tr>\n    <tr>\n      <th>Huelva (capital)</th>\n      <td>9072.0</td>\n      <td>160.0</td>\n      <td>441.0</td>\n      <td>143837.0</td>\n      <td>111.237025</td>\n      <td>306.597051</td>\n      <td>28.0</td>\n    </tr>\n    <tr>\n      <th>Sierra de Huelva-Andévalo Central</th>\n      <td>2926.0</td>\n      <td>33.0</td>\n      <td>94.0</td>\n      <td>67391.0</td>\n      <td>48.967963</td>\n      <td>139.484501</td>\n      <td>9.0</td>\n    </tr>\n    <tr>\n      <th>Palos de la Frontera</th>\n      <td>721.0</td>\n      <td>21.0</td>\n      <td>34.0</td>\n      <td>11742.0</td>\n      <td>178.845171</td>\n      <td>289.558849</td>\n      <td>9.0</td>\n    </tr>\n    <tr>\n      <th>Moguer</th>\n      <td>1391.0</td>\n      <td>31.0</td>\n      <td>72.0</td>\n      <td>21867.0</td>\n      <td>141.766132</td>\n      <td>329.263273</td>\n      <td>8.0</td>\n    </tr>\n    <tr>\n      <th>San Juan del Puerto</th>\n      <td>579.0</td>\n      <td>21.0</td>\n      <td>47.0</td>\n      <td>9411.0</td>\n      <td>223.143130</td>\n      <td>499.415578</td>\n      <td>7.0</td>\n    </tr>\n    <tr>\n      <th>Gibraleón</th>\n      <td>653.0</td>\n      <td>12.0</td>\n      <td>17.0</td>\n      <td>12737.0</td>\n      <td>94.213708</td>\n      <td>133.469420</td>\n      <td>7.0</td>\n    </tr>\n    <tr>\n      <th>Palma del Condado (La)</th>\n      <td>1191.0</td>\n      <td>14.0</td>\n      <td>26.0</td>\n      <td>10801.0</td>\n      <td>129.617628</td>\n      <td>240.718452</td>\n      <td>4.0</td>\n    </tr>\n    <tr>\n      <th>Isla Cristina</th>\n      <td>2182.0</td>\n      <td>11.0</td>\n      <td>29.0</td>\n      <td>21393.0</td>\n      <td>51.418688</td>\n      <td>135.558360</td>\n      <td>3.0</td>\n    </tr>\n    <tr>\n      <th>Valverde del Camino</th>\n      <td>660.0</td>\n      <td>17.0</td>\n      <td>49.0</td>\n      <td>12750.0</td>\n      <td>133.333333</td>\n      <td>384.313725</td>\n      <td>3.0</td>\n    </tr>\n    <tr>\n      <th>Cerro de Andévalo (El)</th>\n      <td>154.0</td>\n      <td>7.0</td>\n      <td>9.0</td>\n      <td>2327.0</td>\n      <td>300.816502</td>\n      <td>386.764074</td>\n      <td>3.0</td>\n    </tr>\n    <tr>\n      <th>Ayamonte</th>\n      <td>1335.0</td>\n      <td>4.0</td>\n      <td>13.0</td>\n      <td>21104.0</td>\n      <td>18.953753</td>\n      <td>61.599697</td>\n      <td>3.0</td>\n    </tr>\n    <tr>\n      <th>Lepe</th>\n      <td>2168.0</td>\n      <td>15.0</td>\n      <td>25.0</td>\n      <td>27880.0</td>\n      <td>53.802009</td>\n      <td>89.670014</td>\n      <td>2.0</td>\n    </tr>\n    <tr>\n      <th>Manzanilla</th>\n      <td>106.0</td>\n      <td>3.0</td>\n      <td>4.0</td>\n      <td>2118.0</td>\n      <td>141.643059</td>\n      <td>188.857413</td>\n      <td>2.0</td>\n    </tr>\n    <tr>\n      <th>Bollullos Par del Condado</th>\n      <td>1033.0</td>\n      <td>10.0</td>\n      <td>28.0</td>\n      <td>14387.0</td>\n      <td>69.507194</td>\n      <td>194.620143</td>\n      <td>2.0</td>\n    </tr>\n    <tr>\n      <th>Punta Umbría</th>\n      <td>850.0</td>\n      <td>10.0</td>\n      <td>18.0</td>\n      <td>15355.0</td>\n      <td>65.125366</td>\n      <td>117.225659</td>\n      <td>2.0</td>\n    </tr>\n    <tr>\n      <th>Almonte</th>\n      <td>1907.0</td>\n      <td>29.0</td>\n      <td>53.0</td>\n      <td>24507.0</td>\n      <td>118.333537</td>\n      <td>216.264741</td>\n      <td>2.0</td>\n    </tr>\n    <tr>\n      <th>Almonaster la Real</th>\n      <td>70.0</td>\n      <td>2.0</td>\n      <td>4.0</td>\n      <td>1788.0</td>\n      <td>111.856823</td>\n      <td>223.713647</td>\n      <td>1.0</td>\n    </tr>\n    <tr>\n      <th>Cartaya</th>\n      <td>1384.0</td>\n      <td>18.0</td>\n      <td>30.0</td>\n      <td>20083.0</td>\n      <td>89.628044</td>\n      <td>149.380073</td>\n      <td>1.0</td>\n    </tr>\n    <tr>\n      <th>Bonares</th>\n      <td>295.0</td>\n      <td>4.0</td>\n      <td>10.0</td>\n      <td>6060.0</td>\n      <td>66.006601</td>\n      <td>165.016502</td>\n      <td>1.0</td>\n    </tr>\n    <tr>\n      <th>Niebla</th>\n      <td>249.0</td>\n      <td>2.0</td>\n      <td>9.0</td>\n      <td>4116.0</td>\n      <td>48.590865</td>\n      <td>218.658892</td>\n      <td>1.0</td>\n    </tr>\n    <tr>\n      <th>Rociana del Condado</th>\n      <td>572.0</td>\n      <td>11.0</td>\n      <td>14.0</td>\n      <td>7939.0</td>\n      <td>138.556493</td>\n      <td>176.344628</td>\n      <td>1.0</td>\n    </tr>\n    <tr>\n      <th>Aracena</th>\n      <td>540.0</td>\n      <td>1.0</td>\n      <td>8.0</td>\n      <td>8255.0</td>\n      <td>12.113870</td>\n      <td>96.910963</td>\n      <td>1.0</td>\n    </tr>\n    <tr>\n      <th>Aljaraque</th>\n      <td>1162.0</td>\n      <td>7.0</td>\n      <td>32.0</td>\n      <td>21474.0</td>\n      <td>32.597560</td>\n      <td>149.017416</td>\n      <td>1.0</td>\n    </tr>\n    <tr>\n      <th>Nerva</th>\n      <td>180.0</td>\n      <td>1.0</td>\n      <td>2.0</td>\n      <td>5169.0</td>\n      <td>19.346102</td>\n      <td>38.692204</td>\n      <td>NaN</td>\n    </tr>\n    <tr>\n      <th>Paymogo</th>\n      <td>76.0</td>\n      <td>1.0</td>\n      <td>1.0</td>\n      <td>1162.0</td>\n      <td>86.058520</td>\n      <td>86.058520</td>\n      <td>NaN</td>\n    </tr>\n  </tbody>\n</table>\n</div>"
     },
     "metadata": {},
     "execution_count": 15
    }
   ],
   "source": [
    "# Nuevos casos desde la última captura\n",
    "tabla[tabla['Diferencia PDIA'] != 0].sort_values('Diferencia PDIA', ascending=False)"
   ]
  },
  {
   "cell_type": "code",
   "execution_count": 16,
   "metadata": {},
   "outputs": [],
   "source": [
    "if tabla[tabla['Diferencia PDIA'] != 0]['Diferencia PDIA'].sum() != 0:\n",
    "  # Save to csv\n",
    "  tabla.to_csv('covid_huelva.csv', encoding='utf-8', header=True, index=True)  "
   ]
  },
  {
   "cell_type": "code",
   "execution_count": 17,
   "metadata": {},
   "outputs": [
    {
     "output_type": "execute_result",
     "data": {
      "text/plain": [
       "Medida                             Confirmados PDIA  Confirmados PDIA 7 días  \\\n",
       "Lugar de residencia                                                            \n",
       "Puebla de Guzmán                              141.0                      4.0   \n",
       "San Juan del Puerto                           579.0                     21.0   \n",
       "Beas                                          232.0                     15.0   \n",
       "Cerro de Andévalo (El)                        154.0                      7.0   \n",
       "Valverde del Camino                           660.0                     17.0   \n",
       "Calañas                                       201.0                      1.0   \n",
       "Almendro (El)                                  39.0                      1.0   \n",
       "Moguer                                       1391.0                     31.0   \n",
       "Huelva (capital)                             9072.0                    160.0   \n",
       "Palos de la Frontera                          721.0                     21.0   \n",
       "Lucena del Puerto                             267.0                      4.0   \n",
       "Palma del Condado (La)                       1191.0                     14.0   \n",
       "Condado-Campiña                             10778.0                    182.0   \n",
       "Almonaster la Real                             70.0                      2.0   \n",
       "Niebla                                        249.0                      2.0   \n",
       "Almonte                                      1907.0                     29.0   \n",
       "Huelva-Costa                                19076.0                    235.0   \n",
       "Huelva                                      33133.0                    452.0   \n",
       "Bollullos Par del Condado                    1033.0                     10.0   \n",
       "Manzanilla                                    106.0                      3.0   \n",
       "San Bartolomé de la Torre                     307.0                      2.0   \n",
       "Rociana del Condado                           572.0                     11.0   \n",
       "Bonares                                       295.0                      4.0   \n",
       "Cartaya                                      1384.0                     18.0   \n",
       "Aljaraque                                    1162.0                      7.0   \n",
       "Trigueros                                     331.0                      3.0   \n",
       "Sierra de Huelva-Andévalo Central            2926.0                     33.0   \n",
       "Villablanca                                   191.0                      2.0   \n",
       "Isla Cristina                                2182.0                     11.0   \n",
       "Gibraleón                                     653.0                     12.0   \n",
       "Punta Umbría                                  850.0                     10.0   \n",
       "Aracena                                       540.0                      1.0   \n",
       "Santa Bárbara de Casa                          16.0                      1.0   \n",
       "Lepe                                         2168.0                     15.0   \n",
       "Paymogo                                        76.0                      1.0   \n",
       "Zarza-Perrunal (La)                            26.0                      1.0   \n",
       "Ayamonte                                     1335.0                      4.0   \n",
       "Cumbres Mayores                                54.0                      1.0   \n",
       "Minas de Riotinto                             129.0                      1.0   \n",
       "Nerva                                         180.0                      1.0   \n",
       "Villanueva de los Castillejos                 165.0                      1.0   \n",
       "Cortegana                                     215.0                      1.0   \n",
       "\n",
       "Medida                             Confirmados PDIA 14 días  Población  \\\n",
       "Lugar de residencia                                                      \n",
       "Puebla de Guzmán                                       17.0     3092.0   \n",
       "San Juan del Puerto                                    47.0     9411.0   \n",
       "Beas                                                   19.0     4341.0   \n",
       "Cerro de Andévalo (El)                                  9.0     2327.0   \n",
       "Valverde del Camino                                    49.0    12750.0   \n",
       "Calañas                                                10.0     2768.0   \n",
       "Almendro (El)                                           3.0      840.0   \n",
       "Moguer                                                 72.0    21867.0   \n",
       "Huelva (capital)                                      441.0   143837.0   \n",
       "Palos de la Frontera                                   34.0    11742.0   \n",
       "Lucena del Puerto                                       9.0     3261.0   \n",
       "Palma del Condado (La)                                 26.0    10801.0   \n",
       "Condado-Campiña                                       361.0   156231.0   \n",
       "Almonaster la Real                                      4.0     1788.0   \n",
       "Niebla                                                  9.0     4116.0   \n",
       "Almonte                                                53.0    24507.0   \n",
       "Huelva-Costa                                          626.0   289548.0   \n",
       "Huelva                                               1084.0   513170.0   \n",
       "Bollullos Par del Condado                              28.0    14387.0   \n",
       "Manzanilla                                              4.0     2118.0   \n",
       "San Bartolomé de la Torre                               7.0     3761.0   \n",
       "Rociana del Condado                                    14.0     7939.0   \n",
       "Bonares                                                10.0     6060.0   \n",
       "Cartaya                                                30.0    20083.0   \n",
       "Aljaraque                                              32.0    21474.0   \n",
       "Trigueros                                              11.0     7862.0   \n",
       "Sierra de Huelva-Andévalo Central                      94.0    67391.0   \n",
       "Villablanca                                             4.0     2885.0   \n",
       "Isla Cristina                                          29.0    21393.0   \n",
       "Gibraleón                                              17.0    12737.0   \n",
       "Punta Umbría                                           18.0    15355.0   \n",
       "Aracena                                                 8.0     8255.0   \n",
       "Santa Bárbara de Casa                                   1.0     1043.0   \n",
       "Lepe                                                   25.0    27880.0   \n",
       "Paymogo                                                 1.0     1162.0   \n",
       "Zarza-Perrunal (La)                                     1.0     1253.0   \n",
       "Ayamonte                                               13.0    21104.0   \n",
       "Cumbres Mayores                                         1.0     1749.0   \n",
       "Minas de Riotinto                                       2.0     3812.0   \n",
       "Nerva                                                   2.0     5169.0   \n",
       "Villanueva de los Castillejos                           1.0     2825.0   \n",
       "Cortegana                                               1.0     4602.0   \n",
       "\n",
       "Medida                                  tasa7      tasa14  Diferencia PDIA  \n",
       "Lugar de residencia                                                         \n",
       "Puebla de Guzmán                   129.366106  549.805951              0.0  \n",
       "San Juan del Puerto                223.143130  499.415578              7.0  \n",
       "Beas                               345.542502  437.687169              0.0  \n",
       "Cerro de Andévalo (El)             300.816502  386.764074              3.0  \n",
       "Valverde del Camino                133.333333  384.313725              3.0  \n",
       "Calañas                             36.127168  361.271676              0.0  \n",
       "Almendro (El)                      119.047619  357.142857              0.0  \n",
       "Moguer                             141.766132  329.263273              8.0  \n",
       "Huelva (capital)                   111.237025  306.597051             28.0  \n",
       "Palos de la Frontera               178.845171  289.558849              9.0  \n",
       "Lucena del Puerto                  122.661760  275.988960              0.0  \n",
       "Palma del Condado (La)             129.617628  240.718452              4.0  \n",
       "Condado-Campiña                    116.494166  231.068098             44.0  \n",
       "Almonaster la Real                 111.856823  223.713647              1.0  \n",
       "Niebla                              48.590865  218.658892              1.0  \n",
       "Almonte                            118.333537  216.264741              2.0  \n",
       "Huelva-Costa                        81.160982  216.199041             41.0  \n",
       "Huelva                              88.079973  211.236043             94.0  \n",
       "Bollullos Par del Condado           69.507194  194.620143              2.0  \n",
       "Manzanilla                         141.643059  188.857413              2.0  \n",
       "San Bartolomé de la Torre           53.177346  186.120713              0.0  \n",
       "Rociana del Condado                138.556493  176.344628              1.0  \n",
       "Bonares                             66.006601  165.016502              1.0  \n",
       "Cartaya                             89.628044  149.380073              1.0  \n",
       "Aljaraque                           32.597560  149.017416              1.0  \n",
       "Trigueros                           38.158229  139.913508              0.0  \n",
       "Sierra de Huelva-Andévalo Central   48.967963  139.484501              9.0  \n",
       "Villablanca                         69.324090  138.648180              0.0  \n",
       "Isla Cristina                       51.418688  135.558360              3.0  \n",
       "Gibraleón                           94.213708  133.469420              7.0  \n",
       "Punta Umbría                        65.125366  117.225659              2.0  \n",
       "Aracena                             12.113870   96.910963              1.0  \n",
       "Santa Bárbara de Casa               95.877277   95.877277              0.0  \n",
       "Lepe                                53.802009   89.670014              2.0  \n",
       "Paymogo                             86.058520   86.058520              NaN  \n",
       "Zarza-Perrunal (La)                 79.808460   79.808460              0.0  \n",
       "Ayamonte                            18.953753   61.599697              3.0  \n",
       "Cumbres Mayores                     57.175529   57.175529              0.0  \n",
       "Minas de Riotinto                   26.232949   52.465897              0.0  \n",
       "Nerva                               19.346102   38.692204              NaN  \n",
       "Villanueva de los Castillejos       35.398230   35.398230              0.0  \n",
       "Cortegana                           21.729683   21.729683              0.0  "
      ],
      "text/html": "<div>\n<style scoped>\n    .dataframe tbody tr th:only-of-type {\n        vertical-align: middle;\n    }\n\n    .dataframe tbody tr th {\n        vertical-align: top;\n    }\n\n    .dataframe thead th {\n        text-align: right;\n    }\n</style>\n<table border=\"1\" class=\"dataframe\">\n  <thead>\n    <tr style=\"text-align: right;\">\n      <th>Medida</th>\n      <th>Confirmados PDIA</th>\n      <th>Confirmados PDIA 7 días</th>\n      <th>Confirmados PDIA 14 días</th>\n      <th>Población</th>\n      <th>tasa7</th>\n      <th>tasa14</th>\n      <th>Diferencia PDIA</th>\n    </tr>\n    <tr>\n      <th>Lugar de residencia</th>\n      <th></th>\n      <th></th>\n      <th></th>\n      <th></th>\n      <th></th>\n      <th></th>\n      <th></th>\n    </tr>\n  </thead>\n  <tbody>\n    <tr>\n      <th>Puebla de Guzmán</th>\n      <td>141.0</td>\n      <td>4.0</td>\n      <td>17.0</td>\n      <td>3092.0</td>\n      <td>129.366106</td>\n      <td>549.805951</td>\n      <td>0.0</td>\n    </tr>\n    <tr>\n      <th>San Juan del Puerto</th>\n      <td>579.0</td>\n      <td>21.0</td>\n      <td>47.0</td>\n      <td>9411.0</td>\n      <td>223.143130</td>\n      <td>499.415578</td>\n      <td>7.0</td>\n    </tr>\n    <tr>\n      <th>Beas</th>\n      <td>232.0</td>\n      <td>15.0</td>\n      <td>19.0</td>\n      <td>4341.0</td>\n      <td>345.542502</td>\n      <td>437.687169</td>\n      <td>0.0</td>\n    </tr>\n    <tr>\n      <th>Cerro de Andévalo (El)</th>\n      <td>154.0</td>\n      <td>7.0</td>\n      <td>9.0</td>\n      <td>2327.0</td>\n      <td>300.816502</td>\n      <td>386.764074</td>\n      <td>3.0</td>\n    </tr>\n    <tr>\n      <th>Valverde del Camino</th>\n      <td>660.0</td>\n      <td>17.0</td>\n      <td>49.0</td>\n      <td>12750.0</td>\n      <td>133.333333</td>\n      <td>384.313725</td>\n      <td>3.0</td>\n    </tr>\n    <tr>\n      <th>Calañas</th>\n      <td>201.0</td>\n      <td>1.0</td>\n      <td>10.0</td>\n      <td>2768.0</td>\n      <td>36.127168</td>\n      <td>361.271676</td>\n      <td>0.0</td>\n    </tr>\n    <tr>\n      <th>Almendro (El)</th>\n      <td>39.0</td>\n      <td>1.0</td>\n      <td>3.0</td>\n      <td>840.0</td>\n      <td>119.047619</td>\n      <td>357.142857</td>\n      <td>0.0</td>\n    </tr>\n    <tr>\n      <th>Moguer</th>\n      <td>1391.0</td>\n      <td>31.0</td>\n      <td>72.0</td>\n      <td>21867.0</td>\n      <td>141.766132</td>\n      <td>329.263273</td>\n      <td>8.0</td>\n    </tr>\n    <tr>\n      <th>Huelva (capital)</th>\n      <td>9072.0</td>\n      <td>160.0</td>\n      <td>441.0</td>\n      <td>143837.0</td>\n      <td>111.237025</td>\n      <td>306.597051</td>\n      <td>28.0</td>\n    </tr>\n    <tr>\n      <th>Palos de la Frontera</th>\n      <td>721.0</td>\n      <td>21.0</td>\n      <td>34.0</td>\n      <td>11742.0</td>\n      <td>178.845171</td>\n      <td>289.558849</td>\n      <td>9.0</td>\n    </tr>\n    <tr>\n      <th>Lucena del Puerto</th>\n      <td>267.0</td>\n      <td>4.0</td>\n      <td>9.0</td>\n      <td>3261.0</td>\n      <td>122.661760</td>\n      <td>275.988960</td>\n      <td>0.0</td>\n    </tr>\n    <tr>\n      <th>Palma del Condado (La)</th>\n      <td>1191.0</td>\n      <td>14.0</td>\n      <td>26.0</td>\n      <td>10801.0</td>\n      <td>129.617628</td>\n      <td>240.718452</td>\n      <td>4.0</td>\n    </tr>\n    <tr>\n      <th>Condado-Campiña</th>\n      <td>10778.0</td>\n      <td>182.0</td>\n      <td>361.0</td>\n      <td>156231.0</td>\n      <td>116.494166</td>\n      <td>231.068098</td>\n      <td>44.0</td>\n    </tr>\n    <tr>\n      <th>Almonaster la Real</th>\n      <td>70.0</td>\n      <td>2.0</td>\n      <td>4.0</td>\n      <td>1788.0</td>\n      <td>111.856823</td>\n      <td>223.713647</td>\n      <td>1.0</td>\n    </tr>\n    <tr>\n      <th>Niebla</th>\n      <td>249.0</td>\n      <td>2.0</td>\n      <td>9.0</td>\n      <td>4116.0</td>\n      <td>48.590865</td>\n      <td>218.658892</td>\n      <td>1.0</td>\n    </tr>\n    <tr>\n      <th>Almonte</th>\n      <td>1907.0</td>\n      <td>29.0</td>\n      <td>53.0</td>\n      <td>24507.0</td>\n      <td>118.333537</td>\n      <td>216.264741</td>\n      <td>2.0</td>\n    </tr>\n    <tr>\n      <th>Huelva-Costa</th>\n      <td>19076.0</td>\n      <td>235.0</td>\n      <td>626.0</td>\n      <td>289548.0</td>\n      <td>81.160982</td>\n      <td>216.199041</td>\n      <td>41.0</td>\n    </tr>\n    <tr>\n      <th>Huelva</th>\n      <td>33133.0</td>\n      <td>452.0</td>\n      <td>1084.0</td>\n      <td>513170.0</td>\n      <td>88.079973</td>\n      <td>211.236043</td>\n      <td>94.0</td>\n    </tr>\n    <tr>\n      <th>Bollullos Par del Condado</th>\n      <td>1033.0</td>\n      <td>10.0</td>\n      <td>28.0</td>\n      <td>14387.0</td>\n      <td>69.507194</td>\n      <td>194.620143</td>\n      <td>2.0</td>\n    </tr>\n    <tr>\n      <th>Manzanilla</th>\n      <td>106.0</td>\n      <td>3.0</td>\n      <td>4.0</td>\n      <td>2118.0</td>\n      <td>141.643059</td>\n      <td>188.857413</td>\n      <td>2.0</td>\n    </tr>\n    <tr>\n      <th>San Bartolomé de la Torre</th>\n      <td>307.0</td>\n      <td>2.0</td>\n      <td>7.0</td>\n      <td>3761.0</td>\n      <td>53.177346</td>\n      <td>186.120713</td>\n      <td>0.0</td>\n    </tr>\n    <tr>\n      <th>Rociana del Condado</th>\n      <td>572.0</td>\n      <td>11.0</td>\n      <td>14.0</td>\n      <td>7939.0</td>\n      <td>138.556493</td>\n      <td>176.344628</td>\n      <td>1.0</td>\n    </tr>\n    <tr>\n      <th>Bonares</th>\n      <td>295.0</td>\n      <td>4.0</td>\n      <td>10.0</td>\n      <td>6060.0</td>\n      <td>66.006601</td>\n      <td>165.016502</td>\n      <td>1.0</td>\n    </tr>\n    <tr>\n      <th>Cartaya</th>\n      <td>1384.0</td>\n      <td>18.0</td>\n      <td>30.0</td>\n      <td>20083.0</td>\n      <td>89.628044</td>\n      <td>149.380073</td>\n      <td>1.0</td>\n    </tr>\n    <tr>\n      <th>Aljaraque</th>\n      <td>1162.0</td>\n      <td>7.0</td>\n      <td>32.0</td>\n      <td>21474.0</td>\n      <td>32.597560</td>\n      <td>149.017416</td>\n      <td>1.0</td>\n    </tr>\n    <tr>\n      <th>Trigueros</th>\n      <td>331.0</td>\n      <td>3.0</td>\n      <td>11.0</td>\n      <td>7862.0</td>\n      <td>38.158229</td>\n      <td>139.913508</td>\n      <td>0.0</td>\n    </tr>\n    <tr>\n      <th>Sierra de Huelva-Andévalo Central</th>\n      <td>2926.0</td>\n      <td>33.0</td>\n      <td>94.0</td>\n      <td>67391.0</td>\n      <td>48.967963</td>\n      <td>139.484501</td>\n      <td>9.0</td>\n    </tr>\n    <tr>\n      <th>Villablanca</th>\n      <td>191.0</td>\n      <td>2.0</td>\n      <td>4.0</td>\n      <td>2885.0</td>\n      <td>69.324090</td>\n      <td>138.648180</td>\n      <td>0.0</td>\n    </tr>\n    <tr>\n      <th>Isla Cristina</th>\n      <td>2182.0</td>\n      <td>11.0</td>\n      <td>29.0</td>\n      <td>21393.0</td>\n      <td>51.418688</td>\n      <td>135.558360</td>\n      <td>3.0</td>\n    </tr>\n    <tr>\n      <th>Gibraleón</th>\n      <td>653.0</td>\n      <td>12.0</td>\n      <td>17.0</td>\n      <td>12737.0</td>\n      <td>94.213708</td>\n      <td>133.469420</td>\n      <td>7.0</td>\n    </tr>\n    <tr>\n      <th>Punta Umbría</th>\n      <td>850.0</td>\n      <td>10.0</td>\n      <td>18.0</td>\n      <td>15355.0</td>\n      <td>65.125366</td>\n      <td>117.225659</td>\n      <td>2.0</td>\n    </tr>\n    <tr>\n      <th>Aracena</th>\n      <td>540.0</td>\n      <td>1.0</td>\n      <td>8.0</td>\n      <td>8255.0</td>\n      <td>12.113870</td>\n      <td>96.910963</td>\n      <td>1.0</td>\n    </tr>\n    <tr>\n      <th>Santa Bárbara de Casa</th>\n      <td>16.0</td>\n      <td>1.0</td>\n      <td>1.0</td>\n      <td>1043.0</td>\n      <td>95.877277</td>\n      <td>95.877277</td>\n      <td>0.0</td>\n    </tr>\n    <tr>\n      <th>Lepe</th>\n      <td>2168.0</td>\n      <td>15.0</td>\n      <td>25.0</td>\n      <td>27880.0</td>\n      <td>53.802009</td>\n      <td>89.670014</td>\n      <td>2.0</td>\n    </tr>\n    <tr>\n      <th>Paymogo</th>\n      <td>76.0</td>\n      <td>1.0</td>\n      <td>1.0</td>\n      <td>1162.0</td>\n      <td>86.058520</td>\n      <td>86.058520</td>\n      <td>NaN</td>\n    </tr>\n    <tr>\n      <th>Zarza-Perrunal (La)</th>\n      <td>26.0</td>\n      <td>1.0</td>\n      <td>1.0</td>\n      <td>1253.0</td>\n      <td>79.808460</td>\n      <td>79.808460</td>\n      <td>0.0</td>\n    </tr>\n    <tr>\n      <th>Ayamonte</th>\n      <td>1335.0</td>\n      <td>4.0</td>\n      <td>13.0</td>\n      <td>21104.0</td>\n      <td>18.953753</td>\n      <td>61.599697</td>\n      <td>3.0</td>\n    </tr>\n    <tr>\n      <th>Cumbres Mayores</th>\n      <td>54.0</td>\n      <td>1.0</td>\n      <td>1.0</td>\n      <td>1749.0</td>\n      <td>57.175529</td>\n      <td>57.175529</td>\n      <td>0.0</td>\n    </tr>\n    <tr>\n      <th>Minas de Riotinto</th>\n      <td>129.0</td>\n      <td>1.0</td>\n      <td>2.0</td>\n      <td>3812.0</td>\n      <td>26.232949</td>\n      <td>52.465897</td>\n      <td>0.0</td>\n    </tr>\n    <tr>\n      <th>Nerva</th>\n      <td>180.0</td>\n      <td>1.0</td>\n      <td>2.0</td>\n      <td>5169.0</td>\n      <td>19.346102</td>\n      <td>38.692204</td>\n      <td>NaN</td>\n    </tr>\n    <tr>\n      <th>Villanueva de los Castillejos</th>\n      <td>165.0</td>\n      <td>1.0</td>\n      <td>1.0</td>\n      <td>2825.0</td>\n      <td>35.398230</td>\n      <td>35.398230</td>\n      <td>0.0</td>\n    </tr>\n    <tr>\n      <th>Cortegana</th>\n      <td>215.0</td>\n      <td>1.0</td>\n      <td>1.0</td>\n      <td>4602.0</td>\n      <td>21.729683</td>\n      <td>21.729683</td>\n      <td>0.0</td>\n    </tr>\n  </tbody>\n</table>\n</div>"
     },
     "metadata": {},
     "execution_count": 17
    }
   ],
   "source": [
    "tabla.sort_values('tasa14', ascending=False)"
   ]
  },
  {
   "cell_type": "code",
   "execution_count": 18,
   "metadata": {},
   "outputs": [
    {
     "output_type": "execute_result",
     "data": {
      "text/plain": [
       "Medida                             Confirmados PDIA  Confirmados PDIA 7 días  \\\n",
       "Lugar de residencia                                                            \n",
       "Calañas                                       201.0                      1.0   \n",
       "Aracena                                       540.0                      1.0   \n",
       "Aljaraque                                    1162.0                      7.0   \n",
       "Niebla                                        249.0                      2.0   \n",
       "Puebla de Guzmán                              141.0                      4.0   \n",
       "Trigueros                                     331.0                      3.0   \n",
       "San Bartolomé de la Torre                     307.0                      2.0   \n",
       "Ayamonte                                     1335.0                      4.0   \n",
       "Almendro (El)                                  39.0                      1.0   \n",
       "Valverde del Camino                           660.0                     17.0   \n",
       "Sierra de Huelva-Andévalo Central            2926.0                     33.0   \n",
       "Bollullos Par del Condado                    1033.0                     10.0   \n",
       "Huelva (capital)                             9072.0                    160.0   \n",
       "Huelva-Costa                                19076.0                    235.0   \n",
       "Isla Cristina                                2182.0                     11.0   \n",
       "Bonares                                       295.0                      4.0   \n",
       "Huelva                                      33133.0                    452.0   \n",
       "Moguer                                       1391.0                     31.0   \n",
       "Lucena del Puerto                             267.0                      4.0   \n",
       "San Juan del Puerto                           579.0                     21.0   \n",
       "Villablanca                                   191.0                      2.0   \n",
       "Almonaster la Real                             70.0                      2.0   \n",
       "Minas de Riotinto                             129.0                      1.0   \n",
       "Nerva                                         180.0                      1.0   \n",
       "Condado-Campiña                             10778.0                    182.0   \n",
       "Palma del Condado (La)                       1191.0                     14.0   \n",
       "Almonte                                      1907.0                     29.0   \n",
       "Punta Umbría                                  850.0                     10.0   \n",
       "Lepe                                         2168.0                     15.0   \n",
       "Cartaya                                      1384.0                     18.0   \n",
       "Palos de la Frontera                          721.0                     21.0   \n",
       "Gibraleón                                     653.0                     12.0   \n",
       "Manzanilla                                    106.0                      3.0   \n",
       "Cerro de Andévalo (El)                        154.0                      7.0   \n",
       "Rociana del Condado                           572.0                     11.0   \n",
       "Beas                                          232.0                     15.0   \n",
       "Paymogo                                        76.0                      1.0   \n",
       "Villanueva de los Castillejos                 165.0                      1.0   \n",
       "Cumbres Mayores                                54.0                      1.0   \n",
       "Santa Bárbara de Casa                          16.0                      1.0   \n",
       "Cortegana                                     215.0                      1.0   \n",
       "Zarza-Perrunal (La)                            26.0                      1.0   \n",
       "\n",
       "Medida                             Confirmados PDIA 14 días  Población  \\\n",
       "Lugar de residencia                                                      \n",
       "Calañas                                                10.0     2768.0   \n",
       "Aracena                                                 8.0     8255.0   \n",
       "Aljaraque                                              32.0    21474.0   \n",
       "Niebla                                                  9.0     4116.0   \n",
       "Puebla de Guzmán                                       17.0     3092.0   \n",
       "Trigueros                                              11.0     7862.0   \n",
       "San Bartolomé de la Torre                               7.0     3761.0   \n",
       "Ayamonte                                               13.0    21104.0   \n",
       "Almendro (El)                                           3.0      840.0   \n",
       "Valverde del Camino                                    49.0    12750.0   \n",
       "Sierra de Huelva-Andévalo Central                      94.0    67391.0   \n",
       "Bollullos Par del Condado                              28.0    14387.0   \n",
       "Huelva (capital)                                      441.0   143837.0   \n",
       "Huelva-Costa                                          626.0   289548.0   \n",
       "Isla Cristina                                          29.0    21393.0   \n",
       "Bonares                                                10.0     6060.0   \n",
       "Huelva                                               1084.0   513170.0   \n",
       "Moguer                                                 72.0    21867.0   \n",
       "Lucena del Puerto                                       9.0     3261.0   \n",
       "San Juan del Puerto                                    47.0     9411.0   \n",
       "Villablanca                                             4.0     2885.0   \n",
       "Almonaster la Real                                      4.0     1788.0   \n",
       "Minas de Riotinto                                       2.0     3812.0   \n",
       "Nerva                                                   2.0     5169.0   \n",
       "Condado-Campiña                                       361.0   156231.0   \n",
       "Palma del Condado (La)                                 26.0    10801.0   \n",
       "Almonte                                                53.0    24507.0   \n",
       "Punta Umbría                                           18.0    15355.0   \n",
       "Lepe                                                   25.0    27880.0   \n",
       "Cartaya                                                30.0    20083.0   \n",
       "Palos de la Frontera                                   34.0    11742.0   \n",
       "Gibraleón                                              17.0    12737.0   \n",
       "Manzanilla                                              4.0     2118.0   \n",
       "Cerro de Andévalo (El)                                  9.0     2327.0   \n",
       "Rociana del Condado                                    14.0     7939.0   \n",
       "Beas                                                   19.0     4341.0   \n",
       "Paymogo                                                 1.0     1162.0   \n",
       "Villanueva de los Castillejos                           1.0     2825.0   \n",
       "Cumbres Mayores                                         1.0     1749.0   \n",
       "Santa Bárbara de Casa                                   1.0     1043.0   \n",
       "Cortegana                                               1.0     4602.0   \n",
       "Zarza-Perrunal (La)                                     1.0     1253.0   \n",
       "\n",
       "Medida                                  tasa7      tasa14  Diferencia PDIA  \\\n",
       "Lugar de residencia                                                          \n",
       "Calañas                             36.127168  361.271676              0.0   \n",
       "Aracena                             12.113870   96.910963              1.0   \n",
       "Aljaraque                           32.597560  149.017416              1.0   \n",
       "Niebla                              48.590865  218.658892              1.0   \n",
       "Puebla de Guzmán                   129.366106  549.805951              0.0   \n",
       "Trigueros                           38.158229  139.913508              0.0   \n",
       "San Bartolomé de la Torre           53.177346  186.120713              0.0   \n",
       "Ayamonte                            18.953753   61.599697              3.0   \n",
       "Almendro (El)                      119.047619  357.142857              0.0   \n",
       "Valverde del Camino                133.333333  384.313725              3.0   \n",
       "Sierra de Huelva-Andévalo Central   48.967963  139.484501              9.0   \n",
       "Bollullos Par del Condado           69.507194  194.620143              2.0   \n",
       "Huelva (capital)                   111.237025  306.597051             28.0   \n",
       "Huelva-Costa                        81.160982  216.199041             41.0   \n",
       "Isla Cristina                       51.418688  135.558360              3.0   \n",
       "Bonares                             66.006601  165.016502              1.0   \n",
       "Huelva                              88.079973  211.236043             94.0   \n",
       "Moguer                             141.766132  329.263273              8.0   \n",
       "Lucena del Puerto                  122.661760  275.988960              0.0   \n",
       "San Juan del Puerto                223.143130  499.415578              7.0   \n",
       "Villablanca                         69.324090  138.648180              0.0   \n",
       "Almonaster la Real                 111.856823  223.713647              1.0   \n",
       "Minas de Riotinto                   26.232949   52.465897              0.0   \n",
       "Nerva                               19.346102   38.692204              0.0   \n",
       "Condado-Campiña                    116.494166  231.068098             44.0   \n",
       "Palma del Condado (La)             129.617628  240.718452              4.0   \n",
       "Almonte                            118.333537  216.264741              2.0   \n",
       "Punta Umbría                        65.125366  117.225659              2.0   \n",
       "Lepe                                53.802009   89.670014              2.0   \n",
       "Cartaya                             89.628044  149.380073              1.0   \n",
       "Palos de la Frontera               178.845171  289.558849              9.0   \n",
       "Gibraleón                           94.213708  133.469420              7.0   \n",
       "Manzanilla                         141.643059  188.857413              2.0   \n",
       "Cerro de Andévalo (El)             300.816502  386.764074              3.0   \n",
       "Rociana del Condado                138.556493  176.344628              1.0   \n",
       "Beas                               345.542502  437.687169              0.0   \n",
       "Paymogo                             86.058520   86.058520              0.0   \n",
       "Villanueva de los Castillejos       35.398230   35.398230              0.0   \n",
       "Cumbres Mayores                     57.175529   57.175529              0.0   \n",
       "Santa Bárbara de Casa               95.877277   95.877277              0.0   \n",
       "Cortegana                           21.729683   21.729683              0.0   \n",
       "Zarza-Perrunal (La)                 79.808460   79.808460              0.0   \n",
       "\n",
       "Medida                                 7/14  \n",
       "Lugar de residencia                          \n",
       "Calañas                            0.100000  \n",
       "Aracena                            0.125000  \n",
       "Aljaraque                          0.218750  \n",
       "Niebla                             0.222222  \n",
       "Puebla de Guzmán                   0.235294  \n",
       "Trigueros                          0.272727  \n",
       "San Bartolomé de la Torre          0.285714  \n",
       "Ayamonte                           0.307692  \n",
       "Almendro (El)                      0.333333  \n",
       "Valverde del Camino                0.346939  \n",
       "Sierra de Huelva-Andévalo Central  0.351064  \n",
       "Bollullos Par del Condado          0.357143  \n",
       "Huelva (capital)                   0.362812  \n",
       "Huelva-Costa                       0.375399  \n",
       "Isla Cristina                      0.379310  \n",
       "Bonares                            0.400000  \n",
       "Huelva                             0.416974  \n",
       "Moguer                             0.430556  \n",
       "Lucena del Puerto                  0.444444  \n",
       "San Juan del Puerto                0.446809  \n",
       "Villablanca                        0.500000  \n",
       "Almonaster la Real                 0.500000  \n",
       "Minas de Riotinto                  0.500000  \n",
       "Nerva                              0.500000  \n",
       "Condado-Campiña                    0.504155  \n",
       "Palma del Condado (La)             0.538462  \n",
       "Almonte                            0.547170  \n",
       "Punta Umbría                       0.555556  \n",
       "Lepe                               0.600000  \n",
       "Cartaya                            0.600000  \n",
       "Palos de la Frontera               0.617647  \n",
       "Gibraleón                          0.705882  \n",
       "Manzanilla                         0.750000  \n",
       "Cerro de Andévalo (El)             0.777778  \n",
       "Rociana del Condado                0.785714  \n",
       "Beas                               0.789474  \n",
       "Paymogo                            1.000000  \n",
       "Villanueva de los Castillejos      1.000000  \n",
       "Cumbres Mayores                    1.000000  \n",
       "Santa Bárbara de Casa              1.000000  \n",
       "Cortegana                          1.000000  \n",
       "Zarza-Perrunal (La)                1.000000  "
      ],
      "text/html": "<div>\n<style scoped>\n    .dataframe tbody tr th:only-of-type {\n        vertical-align: middle;\n    }\n\n    .dataframe tbody tr th {\n        vertical-align: top;\n    }\n\n    .dataframe thead th {\n        text-align: right;\n    }\n</style>\n<table border=\"1\" class=\"dataframe\">\n  <thead>\n    <tr style=\"text-align: right;\">\n      <th>Medida</th>\n      <th>Confirmados PDIA</th>\n      <th>Confirmados PDIA 7 días</th>\n      <th>Confirmados PDIA 14 días</th>\n      <th>Población</th>\n      <th>tasa7</th>\n      <th>tasa14</th>\n      <th>Diferencia PDIA</th>\n      <th>7/14</th>\n    </tr>\n    <tr>\n      <th>Lugar de residencia</th>\n      <th></th>\n      <th></th>\n      <th></th>\n      <th></th>\n      <th></th>\n      <th></th>\n      <th></th>\n      <th></th>\n    </tr>\n  </thead>\n  <tbody>\n    <tr>\n      <th>Calañas</th>\n      <td>201.0</td>\n      <td>1.0</td>\n      <td>10.0</td>\n      <td>2768.0</td>\n      <td>36.127168</td>\n      <td>361.271676</td>\n      <td>0.0</td>\n      <td>0.100000</td>\n    </tr>\n    <tr>\n      <th>Aracena</th>\n      <td>540.0</td>\n      <td>1.0</td>\n      <td>8.0</td>\n      <td>8255.0</td>\n      <td>12.113870</td>\n      <td>96.910963</td>\n      <td>1.0</td>\n      <td>0.125000</td>\n    </tr>\n    <tr>\n      <th>Aljaraque</th>\n      <td>1162.0</td>\n      <td>7.0</td>\n      <td>32.0</td>\n      <td>21474.0</td>\n      <td>32.597560</td>\n      <td>149.017416</td>\n      <td>1.0</td>\n      <td>0.218750</td>\n    </tr>\n    <tr>\n      <th>Niebla</th>\n      <td>249.0</td>\n      <td>2.0</td>\n      <td>9.0</td>\n      <td>4116.0</td>\n      <td>48.590865</td>\n      <td>218.658892</td>\n      <td>1.0</td>\n      <td>0.222222</td>\n    </tr>\n    <tr>\n      <th>Puebla de Guzmán</th>\n      <td>141.0</td>\n      <td>4.0</td>\n      <td>17.0</td>\n      <td>3092.0</td>\n      <td>129.366106</td>\n      <td>549.805951</td>\n      <td>0.0</td>\n      <td>0.235294</td>\n    </tr>\n    <tr>\n      <th>Trigueros</th>\n      <td>331.0</td>\n      <td>3.0</td>\n      <td>11.0</td>\n      <td>7862.0</td>\n      <td>38.158229</td>\n      <td>139.913508</td>\n      <td>0.0</td>\n      <td>0.272727</td>\n    </tr>\n    <tr>\n      <th>San Bartolomé de la Torre</th>\n      <td>307.0</td>\n      <td>2.0</td>\n      <td>7.0</td>\n      <td>3761.0</td>\n      <td>53.177346</td>\n      <td>186.120713</td>\n      <td>0.0</td>\n      <td>0.285714</td>\n    </tr>\n    <tr>\n      <th>Ayamonte</th>\n      <td>1335.0</td>\n      <td>4.0</td>\n      <td>13.0</td>\n      <td>21104.0</td>\n      <td>18.953753</td>\n      <td>61.599697</td>\n      <td>3.0</td>\n      <td>0.307692</td>\n    </tr>\n    <tr>\n      <th>Almendro (El)</th>\n      <td>39.0</td>\n      <td>1.0</td>\n      <td>3.0</td>\n      <td>840.0</td>\n      <td>119.047619</td>\n      <td>357.142857</td>\n      <td>0.0</td>\n      <td>0.333333</td>\n    </tr>\n    <tr>\n      <th>Valverde del Camino</th>\n      <td>660.0</td>\n      <td>17.0</td>\n      <td>49.0</td>\n      <td>12750.0</td>\n      <td>133.333333</td>\n      <td>384.313725</td>\n      <td>3.0</td>\n      <td>0.346939</td>\n    </tr>\n    <tr>\n      <th>Sierra de Huelva-Andévalo Central</th>\n      <td>2926.0</td>\n      <td>33.0</td>\n      <td>94.0</td>\n      <td>67391.0</td>\n      <td>48.967963</td>\n      <td>139.484501</td>\n      <td>9.0</td>\n      <td>0.351064</td>\n    </tr>\n    <tr>\n      <th>Bollullos Par del Condado</th>\n      <td>1033.0</td>\n      <td>10.0</td>\n      <td>28.0</td>\n      <td>14387.0</td>\n      <td>69.507194</td>\n      <td>194.620143</td>\n      <td>2.0</td>\n      <td>0.357143</td>\n    </tr>\n    <tr>\n      <th>Huelva (capital)</th>\n      <td>9072.0</td>\n      <td>160.0</td>\n      <td>441.0</td>\n      <td>143837.0</td>\n      <td>111.237025</td>\n      <td>306.597051</td>\n      <td>28.0</td>\n      <td>0.362812</td>\n    </tr>\n    <tr>\n      <th>Huelva-Costa</th>\n      <td>19076.0</td>\n      <td>235.0</td>\n      <td>626.0</td>\n      <td>289548.0</td>\n      <td>81.160982</td>\n      <td>216.199041</td>\n      <td>41.0</td>\n      <td>0.375399</td>\n    </tr>\n    <tr>\n      <th>Isla Cristina</th>\n      <td>2182.0</td>\n      <td>11.0</td>\n      <td>29.0</td>\n      <td>21393.0</td>\n      <td>51.418688</td>\n      <td>135.558360</td>\n      <td>3.0</td>\n      <td>0.379310</td>\n    </tr>\n    <tr>\n      <th>Bonares</th>\n      <td>295.0</td>\n      <td>4.0</td>\n      <td>10.0</td>\n      <td>6060.0</td>\n      <td>66.006601</td>\n      <td>165.016502</td>\n      <td>1.0</td>\n      <td>0.400000</td>\n    </tr>\n    <tr>\n      <th>Huelva</th>\n      <td>33133.0</td>\n      <td>452.0</td>\n      <td>1084.0</td>\n      <td>513170.0</td>\n      <td>88.079973</td>\n      <td>211.236043</td>\n      <td>94.0</td>\n      <td>0.416974</td>\n    </tr>\n    <tr>\n      <th>Moguer</th>\n      <td>1391.0</td>\n      <td>31.0</td>\n      <td>72.0</td>\n      <td>21867.0</td>\n      <td>141.766132</td>\n      <td>329.263273</td>\n      <td>8.0</td>\n      <td>0.430556</td>\n    </tr>\n    <tr>\n      <th>Lucena del Puerto</th>\n      <td>267.0</td>\n      <td>4.0</td>\n      <td>9.0</td>\n      <td>3261.0</td>\n      <td>122.661760</td>\n      <td>275.988960</td>\n      <td>0.0</td>\n      <td>0.444444</td>\n    </tr>\n    <tr>\n      <th>San Juan del Puerto</th>\n      <td>579.0</td>\n      <td>21.0</td>\n      <td>47.0</td>\n      <td>9411.0</td>\n      <td>223.143130</td>\n      <td>499.415578</td>\n      <td>7.0</td>\n      <td>0.446809</td>\n    </tr>\n    <tr>\n      <th>Villablanca</th>\n      <td>191.0</td>\n      <td>2.0</td>\n      <td>4.0</td>\n      <td>2885.0</td>\n      <td>69.324090</td>\n      <td>138.648180</td>\n      <td>0.0</td>\n      <td>0.500000</td>\n    </tr>\n    <tr>\n      <th>Almonaster la Real</th>\n      <td>70.0</td>\n      <td>2.0</td>\n      <td>4.0</td>\n      <td>1788.0</td>\n      <td>111.856823</td>\n      <td>223.713647</td>\n      <td>1.0</td>\n      <td>0.500000</td>\n    </tr>\n    <tr>\n      <th>Minas de Riotinto</th>\n      <td>129.0</td>\n      <td>1.0</td>\n      <td>2.0</td>\n      <td>3812.0</td>\n      <td>26.232949</td>\n      <td>52.465897</td>\n      <td>0.0</td>\n      <td>0.500000</td>\n    </tr>\n    <tr>\n      <th>Nerva</th>\n      <td>180.0</td>\n      <td>1.0</td>\n      <td>2.0</td>\n      <td>5169.0</td>\n      <td>19.346102</td>\n      <td>38.692204</td>\n      <td>0.0</td>\n      <td>0.500000</td>\n    </tr>\n    <tr>\n      <th>Condado-Campiña</th>\n      <td>10778.0</td>\n      <td>182.0</td>\n      <td>361.0</td>\n      <td>156231.0</td>\n      <td>116.494166</td>\n      <td>231.068098</td>\n      <td>44.0</td>\n      <td>0.504155</td>\n    </tr>\n    <tr>\n      <th>Palma del Condado (La)</th>\n      <td>1191.0</td>\n      <td>14.0</td>\n      <td>26.0</td>\n      <td>10801.0</td>\n      <td>129.617628</td>\n      <td>240.718452</td>\n      <td>4.0</td>\n      <td>0.538462</td>\n    </tr>\n    <tr>\n      <th>Almonte</th>\n      <td>1907.0</td>\n      <td>29.0</td>\n      <td>53.0</td>\n      <td>24507.0</td>\n      <td>118.333537</td>\n      <td>216.264741</td>\n      <td>2.0</td>\n      <td>0.547170</td>\n    </tr>\n    <tr>\n      <th>Punta Umbría</th>\n      <td>850.0</td>\n      <td>10.0</td>\n      <td>18.0</td>\n      <td>15355.0</td>\n      <td>65.125366</td>\n      <td>117.225659</td>\n      <td>2.0</td>\n      <td>0.555556</td>\n    </tr>\n    <tr>\n      <th>Lepe</th>\n      <td>2168.0</td>\n      <td>15.0</td>\n      <td>25.0</td>\n      <td>27880.0</td>\n      <td>53.802009</td>\n      <td>89.670014</td>\n      <td>2.0</td>\n      <td>0.600000</td>\n    </tr>\n    <tr>\n      <th>Cartaya</th>\n      <td>1384.0</td>\n      <td>18.0</td>\n      <td>30.0</td>\n      <td>20083.0</td>\n      <td>89.628044</td>\n      <td>149.380073</td>\n      <td>1.0</td>\n      <td>0.600000</td>\n    </tr>\n    <tr>\n      <th>Palos de la Frontera</th>\n      <td>721.0</td>\n      <td>21.0</td>\n      <td>34.0</td>\n      <td>11742.0</td>\n      <td>178.845171</td>\n      <td>289.558849</td>\n      <td>9.0</td>\n      <td>0.617647</td>\n    </tr>\n    <tr>\n      <th>Gibraleón</th>\n      <td>653.0</td>\n      <td>12.0</td>\n      <td>17.0</td>\n      <td>12737.0</td>\n      <td>94.213708</td>\n      <td>133.469420</td>\n      <td>7.0</td>\n      <td>0.705882</td>\n    </tr>\n    <tr>\n      <th>Manzanilla</th>\n      <td>106.0</td>\n      <td>3.0</td>\n      <td>4.0</td>\n      <td>2118.0</td>\n      <td>141.643059</td>\n      <td>188.857413</td>\n      <td>2.0</td>\n      <td>0.750000</td>\n    </tr>\n    <tr>\n      <th>Cerro de Andévalo (El)</th>\n      <td>154.0</td>\n      <td>7.0</td>\n      <td>9.0</td>\n      <td>2327.0</td>\n      <td>300.816502</td>\n      <td>386.764074</td>\n      <td>3.0</td>\n      <td>0.777778</td>\n    </tr>\n    <tr>\n      <th>Rociana del Condado</th>\n      <td>572.0</td>\n      <td>11.0</td>\n      <td>14.0</td>\n      <td>7939.0</td>\n      <td>138.556493</td>\n      <td>176.344628</td>\n      <td>1.0</td>\n      <td>0.785714</td>\n    </tr>\n    <tr>\n      <th>Beas</th>\n      <td>232.0</td>\n      <td>15.0</td>\n      <td>19.0</td>\n      <td>4341.0</td>\n      <td>345.542502</td>\n      <td>437.687169</td>\n      <td>0.0</td>\n      <td>0.789474</td>\n    </tr>\n    <tr>\n      <th>Paymogo</th>\n      <td>76.0</td>\n      <td>1.0</td>\n      <td>1.0</td>\n      <td>1162.0</td>\n      <td>86.058520</td>\n      <td>86.058520</td>\n      <td>0.0</td>\n      <td>1.000000</td>\n    </tr>\n    <tr>\n      <th>Villanueva de los Castillejos</th>\n      <td>165.0</td>\n      <td>1.0</td>\n      <td>1.0</td>\n      <td>2825.0</td>\n      <td>35.398230</td>\n      <td>35.398230</td>\n      <td>0.0</td>\n      <td>1.000000</td>\n    </tr>\n    <tr>\n      <th>Cumbres Mayores</th>\n      <td>54.0</td>\n      <td>1.0</td>\n      <td>1.0</td>\n      <td>1749.0</td>\n      <td>57.175529</td>\n      <td>57.175529</td>\n      <td>0.0</td>\n      <td>1.000000</td>\n    </tr>\n    <tr>\n      <th>Santa Bárbara de Casa</th>\n      <td>16.0</td>\n      <td>1.0</td>\n      <td>1.0</td>\n      <td>1043.0</td>\n      <td>95.877277</td>\n      <td>95.877277</td>\n      <td>0.0</td>\n      <td>1.000000</td>\n    </tr>\n    <tr>\n      <th>Cortegana</th>\n      <td>215.0</td>\n      <td>1.0</td>\n      <td>1.0</td>\n      <td>4602.0</td>\n      <td>21.729683</td>\n      <td>21.729683</td>\n      <td>0.0</td>\n      <td>1.000000</td>\n    </tr>\n    <tr>\n      <th>Zarza-Perrunal (La)</th>\n      <td>26.0</td>\n      <td>1.0</td>\n      <td>1.0</td>\n      <td>1253.0</td>\n      <td>79.808460</td>\n      <td>79.808460</td>\n      <td>0.0</td>\n      <td>1.000000</td>\n    </tr>\n  </tbody>\n</table>\n</div>"
     },
     "metadata": {},
     "execution_count": 18
    }
   ],
   "source": [
    "# Peso de la tasa de la última semana en relación con la tasa a 14 días \n",
    "# Mejor cuanto menor. Valor 1 significa que no había casos antes de 7 días.\n",
    "tabla['7/14'] = tabla['tasa7'] / tabla['tasa14']\n",
    "tabla.fillna(0).sort_values('7/14', ascending=True)"
   ]
  },
  {
   "cell_type": "code",
   "execution_count": null,
   "metadata": {},
   "outputs": [],
   "source": []
  }
 ]
}