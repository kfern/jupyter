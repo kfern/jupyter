{
 "metadata": {
  "language_info": {
   "codemirror_mode": {
    "name": "ipython",
    "version": 3
   },
   "file_extension": ".py",
   "mimetype": "text/x-python",
   "name": "python",
   "nbconvert_exporter": "python",
   "pygments_lexer": "ipython3",
   "version": "3.8.6-final"
  },
  "orig_nbformat": 2,
  "kernelspec": {
   "name": "python3",
   "display_name": "Python 3",
   "language": "python"
  }
 },
 "nbformat": 4,
 "nbformat_minor": 2,
 "cells": [
  {
   "cell_type": "code",
   "execution_count": 1,
   "metadata": {},
   "outputs": [],
   "source": [
    "import pandas as pd\n",
    "pd.set_option('display.max_rows', None) # Print all rows"
   ]
  },
  {
   "cell_type": "code",
   "execution_count": 2,
   "metadata": {},
   "outputs": [],
   "source": [
    "# FIX SSL: CERTIFICATE_VERIFY_FAILED with Python3\n",
    "# https://stackoverflow.com/a/49174340\n",
    "import ssl\n",
    "\n",
    "ssl._create_default_https_context = ssl._create_unverified_context"
   ]
  },
  {
   "cell_type": "code",
   "execution_count": 3,
   "metadata": {},
   "outputs": [],
   "source": [
    "url = 'https://www.juntadeandalucia.es/institutodeestadisticaycartografia/badea/stpivot/stpivot/Print?cube=013d884c-cfc5-4c21-9e78-e26225682afd&type=3&foto=si&ejecutaDesde=&codConsulta=38668&consTipoVisua=JP'\n",
    "fields = ['Lugar de residencia', 'Medida', 'Valor']\n",
    "df = pd.read_csv(url, delimiter=';', usecols=fields, decimal=',')"
   ]
  },
  {
   "cell_type": "code",
   "execution_count": 4,
   "metadata": {},
   "outputs": [
    {
     "output_type": "execute_result",
     "data": {
      "text/plain": [
       "  Lugar de residencia                    Medida               Valor\n",
       "0              Huelva                 Población              513170\n",
       "1              Huelva          Confirmados PDIA               26132\n",
       "2              Huelva  Confirmados PDIA 14 días                 987\n",
       "3              Huelva         Tasa PDIA 14 días  192,33392443050062\n",
       "4              Huelva   Confirmados PDIA 7 días                 574\n",
       "5              Huelva        Total Confirmados                26330\n",
       "6              Huelva                   Curados               21546\n",
       "7              Huelva                Fallecidos                 355"
      ],
      "text/html": "<div>\n<style scoped>\n    .dataframe tbody tr th:only-of-type {\n        vertical-align: middle;\n    }\n\n    .dataframe tbody tr th {\n        vertical-align: top;\n    }\n\n    .dataframe thead th {\n        text-align: right;\n    }\n</style>\n<table border=\"1\" class=\"dataframe\">\n  <thead>\n    <tr style=\"text-align: right;\">\n      <th></th>\n      <th>Lugar de residencia</th>\n      <th>Medida</th>\n      <th>Valor</th>\n    </tr>\n  </thead>\n  <tbody>\n    <tr>\n      <th>0</th>\n      <td>Huelva</td>\n      <td>Población</td>\n      <td>513170</td>\n    </tr>\n    <tr>\n      <th>1</th>\n      <td>Huelva</td>\n      <td>Confirmados PDIA</td>\n      <td>26132</td>\n    </tr>\n    <tr>\n      <th>2</th>\n      <td>Huelva</td>\n      <td>Confirmados PDIA 14 días</td>\n      <td>987</td>\n    </tr>\n    <tr>\n      <th>3</th>\n      <td>Huelva</td>\n      <td>Tasa PDIA 14 días</td>\n      <td>192,33392443050062</td>\n    </tr>\n    <tr>\n      <th>4</th>\n      <td>Huelva</td>\n      <td>Confirmados PDIA 7 días</td>\n      <td>574</td>\n    </tr>\n    <tr>\n      <th>5</th>\n      <td>Huelva</td>\n      <td>Total Confirmados</td>\n      <td>26330</td>\n    </tr>\n    <tr>\n      <th>6</th>\n      <td>Huelva</td>\n      <td>Curados</td>\n      <td>21546</td>\n    </tr>\n    <tr>\n      <th>7</th>\n      <td>Huelva</td>\n      <td>Fallecidos</td>\n      <td>355</td>\n    </tr>\n  </tbody>\n</table>\n</div>"
     },
     "metadata": {},
     "execution_count": 4
    }
   ],
   "source": [
    "df[df['Lugar de residencia'] == 'Huelva']"
   ]
  },
  {
   "cell_type": "code",
   "execution_count": 5,
   "metadata": {},
   "outputs": [],
   "source": [
    "df['Valor'] = pd.to_numeric(df['Valor'],errors='coerce')"
   ]
  },
  {
   "cell_type": "code",
   "execution_count": 6,
   "metadata": {},
   "outputs": [],
   "source": [
    "dfAnterior = pd.read_csv('covid_huelva.csv', index_col='Lugar de residencia')"
   ]
  },
  {
   "cell_type": "code",
   "execution_count": 7,
   "metadata": {
    "tags": []
   },
   "outputs": [
    {
     "output_type": "stream",
     "name": "stdout",
     "text": [
      "Confirmados PCR en la provincia de Huelva:  26132.0\n",
      "<ipython-input-7-31b732756b19>:2: UserWarning: Boolean Series key will be reindexed to match DataFrame index.\n",
      "  p = df[df['Lugar de residencia'] == 'Huelva'][df['Medida'] == 'Confirmados PDIA']['Valor'].values[0]\n"
     ]
    }
   ],
   "source": [
    "# Confirmados PCR provincia Huelva\n",
    "p = df[df['Lugar de residencia'] == 'Huelva'][df['Medida'] == 'Confirmados PDIA']['Valor'].values[0]\n",
    "print('Confirmados PCR en la provincia de Huelva: ', p)"
   ]
  },
  {
   "cell_type": "code",
   "execution_count": 8,
   "metadata": {
    "tags": []
   },
   "outputs": [
    {
     "output_type": "stream",
     "name": "stdout",
     "text": [
      "Confirmados PCR en Huelva capital:  6827.0\n",
      "<ipython-input-8-e81bfb40e710>:2: UserWarning: Boolean Series key will be reindexed to match DataFrame index.\n",
      "  c = df[df['Lugar de residencia'] == 'Huelva (capital)'][df['Medida'] == 'Confirmados PDIA']['Valor'].values[0]\n"
     ]
    }
   ],
   "source": [
    "# Confirmados PCR Huelva capitalpd\n",
    "c = df[df['Lugar de residencia'] == 'Huelva (capital)'][df['Medida'] == 'Confirmados PDIA']['Valor'].values[0]\n",
    "print('Confirmados PCR en Huelva capital: ', c)"
   ]
  },
  {
   "cell_type": "code",
   "execution_count": 9,
   "metadata": {
    "tags": []
   },
   "outputs": [
    {
     "output_type": "stream",
     "name": "stderr",
     "text": [
      "<ipython-input-9-f09dd2050cc1>:1: UserWarning: Boolean Series key will be reindexed to match DataFrame index.\n  c7 = df[df['Lugar de residencia'] == 'Huelva (capital)'][df['Medida'] == 'Confirmados PDIA 7 días']['Valor'].values[0]\n<ipython-input-9-f09dd2050cc1>:2: UserWarning: Boolean Series key will be reindexed to match DataFrame index.\n  c14 = df[df['Lugar de residencia'] == 'Huelva (capital)'][df['Medida'] == 'Confirmados PDIA 14 días']['Valor'].values[0]\n<ipython-input-9-f09dd2050cc1>:3: UserWarning: Boolean Series key will be reindexed to match DataFrame index.\n  p = df[df['Lugar de residencia'] == 'Huelva (capital)'][df['Medida'] == 'Población']['Valor'].values[0]\n"
     ]
    }
   ],
   "source": [
    "c7 = df[df['Lugar de residencia'] == 'Huelva (capital)'][df['Medida'] == 'Confirmados PDIA 7 días']['Valor'].values[0]\n",
    "c14 = df[df['Lugar de residencia'] == 'Huelva (capital)'][df['Medida'] == 'Confirmados PDIA 14 días']['Valor'].values[0]\n",
    "p = df[df['Lugar de residencia'] == 'Huelva (capital)'][df['Medida'] == 'Población']['Valor'].values[0]"
   ]
  },
  {
   "cell_type": "code",
   "execution_count": 10,
   "metadata": {
    "tags": []
   },
   "outputs": [
    {
     "output_type": "stream",
     "name": "stdout",
     "text": [
      "Huelva (capital)\n\nUn positivo PCR cada 1209 personas en los últimos 7 días \n\nUn positivo PCR cada 827 personas en los últimos 14 días\n"
     ]
    }
   ],
   "source": [
    "print('Huelva (capital)\\n')\n",
    "#print('Confirmados PCR 7 días x 1,000 habitantes: ', f\"{c7/(p/1000):.5f}\")\n",
    "print('Un positivo PCR cada', f\"{p/c7:.0f}\", 'personas en los últimos 7 días', '\\n')\n",
    "#print('Confirmados PCR 14 días x 1,000 habitantes: ', f\"{c14/(p/1000):.5f}\")\n",
    "print('Un positivo PCR cada', f\"{p/c14:.0f}\", 'personas en los últimos 14 días')"
   ]
  },
  {
   "cell_type": "code",
   "execution_count": 11,
   "metadata": {},
   "outputs": [],
   "source": [
    "filtro = ((df['Medida'] == 'Confirmados PDIA')| (df['Medida'] == 'Confirmados PDIA 7 días') | (df['Medida'] == 'Población' ) | (df['Medida'] == 'Confirmados PDIA 14 días')) & (df['Valor'] > 0)\n",
    "tabla = pd.pivot_table(df.loc[filtro], values='Valor', index='Lugar de residencia', columns='Medida').dropna()"
   ]
  },
  {
   "cell_type": "code",
   "execution_count": 12,
   "metadata": {},
   "outputs": [],
   "source": [
    "# Reorder columns\n",
    "tabla = tabla[['Confirmados PDIA', 'Confirmados PDIA 7 días', 'Confirmados PDIA 14 días', 'Población']]"
   ]
  },
  {
   "cell_type": "code",
   "execution_count": 13,
   "metadata": {},
   "outputs": [],
   "source": [
    "tabla['tasa7'] = tabla['Confirmados PDIA 7 días']/tabla['Población']*100000\n",
    "tabla['tasa14'] = tabla['Confirmados PDIA 14 días']/tabla['Población']*100000"
   ]
  },
  {
   "cell_type": "code",
   "execution_count": 14,
   "metadata": {},
   "outputs": [],
   "source": [
    "tabla['Diferencia PDIA'] = tabla['Confirmados PDIA'] - dfAnterior['Confirmados PDIA']"
   ]
  },
  {
   "cell_type": "code",
   "execution_count": 15,
   "metadata": {},
   "outputs": [
    {
     "output_type": "execute_result",
     "data": {
      "text/plain": [
       "Medida                             Confirmados PDIA  Confirmados PDIA 7 días  \\\n",
       "Lugar de residencia                                                            \n",
       "Huelva                                      26132.0                    574.0   \n",
       "Huelva-Costa                                15624.0                    223.0   \n",
       "Condado-Campiña                              7726.0                    308.0   \n",
       "Huelva (capital)                             6827.0                    119.0   \n",
       "Cartaya                                      1063.0                     56.0   \n",
       "Almonte                                      1106.0                     89.0   \n",
       "Moguer                                        929.0                     42.0   \n",
       "Sierra de Huelva-Andévalo Central            2353.0                     29.0   \n",
       "San Juan del Puerto                           393.0                     19.0   \n",
       "Bonares                                       203.0                     17.0   \n",
       "San Bartolomé de la Torre                     252.0                     21.0   \n",
       "Lucena del Puerto                             167.0                      4.0   \n",
       "Aljaraque                                     947.0                     16.0   \n",
       "Aracena                                       469.0                     12.0   \n",
       "Villalba del Alcor                            468.0                      6.0   \n",
       "Palos de la Frontera                          503.0                     23.0   \n",
       "Rociana del Condado                           391.0                     21.0   \n",
       "Valverde del Camino                           434.0                      6.0   \n",
       "Lepe                                         2031.0                     12.0   \n",
       "Bollullos Par del Condado                     695.0                     29.0   \n",
       "Ayamonte                                     1250.0                      4.0   \n",
       "Alosno                                        154.0                      4.0   \n",
       "Villarrasa                                    136.0                      3.0   \n",
       "Palma del Condado (La)                        999.0                      5.0   \n",
       "Niebla                                        178.0                      5.0   \n",
       "Cortegana                                     191.0                      2.0   \n",
       "Fuenteheridos                                   5.0                      2.0   \n",
       "San Silvestre de Guzmán                        14.0                      1.0   \n",
       "\n",
       "Medida                             Confirmados PDIA 14 días  Población  \\\n",
       "Lugar de residencia                                                      \n",
       "Huelva                                                987.0   513170.0   \n",
       "Huelva-Costa                                          341.0   289548.0   \n",
       "Condado-Campiña                                       584.0   156231.0   \n",
       "Huelva (capital)                                      174.0   143837.0   \n",
       "Cartaya                                                78.0    20083.0   \n",
       "Almonte                                               174.0    24507.0   \n",
       "Moguer                                                 69.0    21867.0   \n",
       "Sierra de Huelva-Andévalo Central                      42.0    67391.0   \n",
       "San Juan del Puerto                                    26.0     9411.0   \n",
       "Bonares                                                23.0     6060.0   \n",
       "San Bartolomé de la Torre                              38.0     3761.0   \n",
       "Lucena del Puerto                                       5.0     3261.0   \n",
       "Aljaraque                                              18.0    21474.0   \n",
       "Aracena                                                19.0     8255.0   \n",
       "Villalba del Alcor                                     10.0     3366.0   \n",
       "Palos de la Frontera                                   39.0    11742.0   \n",
       "Rociana del Condado                                    66.0     7939.0   \n",
       "Valverde del Camino                                     9.0    12750.0   \n",
       "Lepe                                                   21.0    27880.0   \n",
       "Bollullos Par del Condado                              58.0    14387.0   \n",
       "Ayamonte                                               12.0    21104.0   \n",
       "Alosno                                                 11.0     3933.0   \n",
       "Villarrasa                                              4.0     2211.0   \n",
       "Palma del Condado (La)                                 11.0    10801.0   \n",
       "Niebla                                                 16.0     4116.0   \n",
       "Cortegana                                               2.0     4602.0   \n",
       "Fuenteheridos                                           2.0      709.0   \n",
       "San Silvestre de Guzmán                                 1.0      614.0   \n",
       "\n",
       "Medida                                  tasa7       tasa14  Diferencia PDIA  \n",
       "Lugar de residencia                                                          \n",
       "Huelva                             111.853772   192.333924            147.0  \n",
       "Huelva-Costa                        77.016591   117.769765             70.0  \n",
       "Condado-Campiña                    197.143973   373.805455             64.0  \n",
       "Huelva (capital)                    82.732538   120.970265             33.0  \n",
       "Cartaya                            278.842802   388.388189             26.0  \n",
       "Almonte                            363.161546   710.001224             22.0  \n",
       "Moguer                             192.070243   315.543970             10.0  \n",
       "Sierra de Huelva-Andévalo Central   43.032452    62.322862             10.0  \n",
       "San Juan del Puerto                201.891404   276.272447              8.0  \n",
       "Bonares                            280.528053   379.537954              4.0  \n",
       "San Bartolomé de la Torre          558.362138  1010.369583              3.0  \n",
       "Lucena del Puerto                  122.661760   153.327200              3.0  \n",
       "Aljaraque                           74.508708    83.822297              3.0  \n",
       "Aracena                            145.366445   230.163537              3.0  \n",
       "Villalba del Alcor                 178.253119   297.088532              3.0  \n",
       "Palos de la Frontera               195.878045   332.141032              3.0  \n",
       "Rociana del Condado                264.516942   831.338960              2.0  \n",
       "Valverde del Camino                 47.058824    70.588235              2.0  \n",
       "Lepe                                43.041607    75.322812              2.0  \n",
       "Bollullos Par del Condado          201.570863   403.141725              2.0  \n",
       "Ayamonte                            18.953753    56.861259              2.0  \n",
       "Alosno                             101.703534   279.684719              2.0  \n",
       "Villarrasa                         135.685210   180.913614              2.0  \n",
       "Palma del Condado (La)              46.292010   101.842422              1.0  \n",
       "Niebla                             121.477162   388.726919              1.0  \n",
       "Cortegana                           43.459365    43.459365              NaN  \n",
       "Fuenteheridos                      282.087447   282.087447              NaN  \n",
       "San Silvestre de Guzmán            162.866450   162.866450              NaN  "
      ],
      "text/html": "<div>\n<style scoped>\n    .dataframe tbody tr th:only-of-type {\n        vertical-align: middle;\n    }\n\n    .dataframe tbody tr th {\n        vertical-align: top;\n    }\n\n    .dataframe thead th {\n        text-align: right;\n    }\n</style>\n<table border=\"1\" class=\"dataframe\">\n  <thead>\n    <tr style=\"text-align: right;\">\n      <th>Medida</th>\n      <th>Confirmados PDIA</th>\n      <th>Confirmados PDIA 7 días</th>\n      <th>Confirmados PDIA 14 días</th>\n      <th>Población</th>\n      <th>tasa7</th>\n      <th>tasa14</th>\n      <th>Diferencia PDIA</th>\n    </tr>\n    <tr>\n      <th>Lugar de residencia</th>\n      <th></th>\n      <th></th>\n      <th></th>\n      <th></th>\n      <th></th>\n      <th></th>\n      <th></th>\n    </tr>\n  </thead>\n  <tbody>\n    <tr>\n      <th>Huelva</th>\n      <td>26132.0</td>\n      <td>574.0</td>\n      <td>987.0</td>\n      <td>513170.0</td>\n      <td>111.853772</td>\n      <td>192.333924</td>\n      <td>147.0</td>\n    </tr>\n    <tr>\n      <th>Huelva-Costa</th>\n      <td>15624.0</td>\n      <td>223.0</td>\n      <td>341.0</td>\n      <td>289548.0</td>\n      <td>77.016591</td>\n      <td>117.769765</td>\n      <td>70.0</td>\n    </tr>\n    <tr>\n      <th>Condado-Campiña</th>\n      <td>7726.0</td>\n      <td>308.0</td>\n      <td>584.0</td>\n      <td>156231.0</td>\n      <td>197.143973</td>\n      <td>373.805455</td>\n      <td>64.0</td>\n    </tr>\n    <tr>\n      <th>Huelva (capital)</th>\n      <td>6827.0</td>\n      <td>119.0</td>\n      <td>174.0</td>\n      <td>143837.0</td>\n      <td>82.732538</td>\n      <td>120.970265</td>\n      <td>33.0</td>\n    </tr>\n    <tr>\n      <th>Cartaya</th>\n      <td>1063.0</td>\n      <td>56.0</td>\n      <td>78.0</td>\n      <td>20083.0</td>\n      <td>278.842802</td>\n      <td>388.388189</td>\n      <td>26.0</td>\n    </tr>\n    <tr>\n      <th>Almonte</th>\n      <td>1106.0</td>\n      <td>89.0</td>\n      <td>174.0</td>\n      <td>24507.0</td>\n      <td>363.161546</td>\n      <td>710.001224</td>\n      <td>22.0</td>\n    </tr>\n    <tr>\n      <th>Moguer</th>\n      <td>929.0</td>\n      <td>42.0</td>\n      <td>69.0</td>\n      <td>21867.0</td>\n      <td>192.070243</td>\n      <td>315.543970</td>\n      <td>10.0</td>\n    </tr>\n    <tr>\n      <th>Sierra de Huelva-Andévalo Central</th>\n      <td>2353.0</td>\n      <td>29.0</td>\n      <td>42.0</td>\n      <td>67391.0</td>\n      <td>43.032452</td>\n      <td>62.322862</td>\n      <td>10.0</td>\n    </tr>\n    <tr>\n      <th>San Juan del Puerto</th>\n      <td>393.0</td>\n      <td>19.0</td>\n      <td>26.0</td>\n      <td>9411.0</td>\n      <td>201.891404</td>\n      <td>276.272447</td>\n      <td>8.0</td>\n    </tr>\n    <tr>\n      <th>Bonares</th>\n      <td>203.0</td>\n      <td>17.0</td>\n      <td>23.0</td>\n      <td>6060.0</td>\n      <td>280.528053</td>\n      <td>379.537954</td>\n      <td>4.0</td>\n    </tr>\n    <tr>\n      <th>San Bartolomé de la Torre</th>\n      <td>252.0</td>\n      <td>21.0</td>\n      <td>38.0</td>\n      <td>3761.0</td>\n      <td>558.362138</td>\n      <td>1010.369583</td>\n      <td>3.0</td>\n    </tr>\n    <tr>\n      <th>Lucena del Puerto</th>\n      <td>167.0</td>\n      <td>4.0</td>\n      <td>5.0</td>\n      <td>3261.0</td>\n      <td>122.661760</td>\n      <td>153.327200</td>\n      <td>3.0</td>\n    </tr>\n    <tr>\n      <th>Aljaraque</th>\n      <td>947.0</td>\n      <td>16.0</td>\n      <td>18.0</td>\n      <td>21474.0</td>\n      <td>74.508708</td>\n      <td>83.822297</td>\n      <td>3.0</td>\n    </tr>\n    <tr>\n      <th>Aracena</th>\n      <td>469.0</td>\n      <td>12.0</td>\n      <td>19.0</td>\n      <td>8255.0</td>\n      <td>145.366445</td>\n      <td>230.163537</td>\n      <td>3.0</td>\n    </tr>\n    <tr>\n      <th>Villalba del Alcor</th>\n      <td>468.0</td>\n      <td>6.0</td>\n      <td>10.0</td>\n      <td>3366.0</td>\n      <td>178.253119</td>\n      <td>297.088532</td>\n      <td>3.0</td>\n    </tr>\n    <tr>\n      <th>Palos de la Frontera</th>\n      <td>503.0</td>\n      <td>23.0</td>\n      <td>39.0</td>\n      <td>11742.0</td>\n      <td>195.878045</td>\n      <td>332.141032</td>\n      <td>3.0</td>\n    </tr>\n    <tr>\n      <th>Rociana del Condado</th>\n      <td>391.0</td>\n      <td>21.0</td>\n      <td>66.0</td>\n      <td>7939.0</td>\n      <td>264.516942</td>\n      <td>831.338960</td>\n      <td>2.0</td>\n    </tr>\n    <tr>\n      <th>Valverde del Camino</th>\n      <td>434.0</td>\n      <td>6.0</td>\n      <td>9.0</td>\n      <td>12750.0</td>\n      <td>47.058824</td>\n      <td>70.588235</td>\n      <td>2.0</td>\n    </tr>\n    <tr>\n      <th>Lepe</th>\n      <td>2031.0</td>\n      <td>12.0</td>\n      <td>21.0</td>\n      <td>27880.0</td>\n      <td>43.041607</td>\n      <td>75.322812</td>\n      <td>2.0</td>\n    </tr>\n    <tr>\n      <th>Bollullos Par del Condado</th>\n      <td>695.0</td>\n      <td>29.0</td>\n      <td>58.0</td>\n      <td>14387.0</td>\n      <td>201.570863</td>\n      <td>403.141725</td>\n      <td>2.0</td>\n    </tr>\n    <tr>\n      <th>Ayamonte</th>\n      <td>1250.0</td>\n      <td>4.0</td>\n      <td>12.0</td>\n      <td>21104.0</td>\n      <td>18.953753</td>\n      <td>56.861259</td>\n      <td>2.0</td>\n    </tr>\n    <tr>\n      <th>Alosno</th>\n      <td>154.0</td>\n      <td>4.0</td>\n      <td>11.0</td>\n      <td>3933.0</td>\n      <td>101.703534</td>\n      <td>279.684719</td>\n      <td>2.0</td>\n    </tr>\n    <tr>\n      <th>Villarrasa</th>\n      <td>136.0</td>\n      <td>3.0</td>\n      <td>4.0</td>\n      <td>2211.0</td>\n      <td>135.685210</td>\n      <td>180.913614</td>\n      <td>2.0</td>\n    </tr>\n    <tr>\n      <th>Palma del Condado (La)</th>\n      <td>999.0</td>\n      <td>5.0</td>\n      <td>11.0</td>\n      <td>10801.0</td>\n      <td>46.292010</td>\n      <td>101.842422</td>\n      <td>1.0</td>\n    </tr>\n    <tr>\n      <th>Niebla</th>\n      <td>178.0</td>\n      <td>5.0</td>\n      <td>16.0</td>\n      <td>4116.0</td>\n      <td>121.477162</td>\n      <td>388.726919</td>\n      <td>1.0</td>\n    </tr>\n    <tr>\n      <th>Cortegana</th>\n      <td>191.0</td>\n      <td>2.0</td>\n      <td>2.0</td>\n      <td>4602.0</td>\n      <td>43.459365</td>\n      <td>43.459365</td>\n      <td>NaN</td>\n    </tr>\n    <tr>\n      <th>Fuenteheridos</th>\n      <td>5.0</td>\n      <td>2.0</td>\n      <td>2.0</td>\n      <td>709.0</td>\n      <td>282.087447</td>\n      <td>282.087447</td>\n      <td>NaN</td>\n    </tr>\n    <tr>\n      <th>San Silvestre de Guzmán</th>\n      <td>14.0</td>\n      <td>1.0</td>\n      <td>1.0</td>\n      <td>614.0</td>\n      <td>162.866450</td>\n      <td>162.866450</td>\n      <td>NaN</td>\n    </tr>\n  </tbody>\n</table>\n</div>"
     },
     "metadata": {},
     "execution_count": 15
    }
   ],
   "source": [
    "# Nuevos casos desde la última captura\n",
    "tabla[tabla['Diferencia PDIA'] != 0].sort_values('Diferencia PDIA', ascending=False)"
   ]
  },
  {
   "cell_type": "code",
   "execution_count": 16,
   "metadata": {},
   "outputs": [],
   "source": [
    "if tabla[tabla['Diferencia PDIA'] != 0]['Diferencia PDIA'].sum() != 0:\n",
    "  # Save to csv\n",
    "  tabla.to_csv('covid_huelva.csv', encoding='utf-8', header=True, index=True)  "
   ]
  },
  {
   "cell_type": "code",
   "execution_count": 17,
   "metadata": {},
   "outputs": [
    {
     "output_type": "execute_result",
     "data": {
      "text/plain": [
       "Medida                             Confirmados PDIA  Confirmados PDIA 7 días  \\\n",
       "Lugar de residencia                                                            \n",
       "San Bartolomé de la Torre                     252.0                     21.0   \n",
       "Rociana del Condado                           391.0                     21.0   \n",
       "Almonte                                      1106.0                     89.0   \n",
       "Bollullos Par del Condado                     695.0                     29.0   \n",
       "Niebla                                        178.0                      5.0   \n",
       "Cartaya                                      1063.0                     56.0   \n",
       "Bonares                                       203.0                     17.0   \n",
       "Condado-Campiña                              7726.0                    308.0   \n",
       "Palos de la Frontera                          503.0                     23.0   \n",
       "Moguer                                        929.0                     42.0   \n",
       "Villalba del Alcor                            468.0                      6.0   \n",
       "Fuenteheridos                                   5.0                      2.0   \n",
       "Alosno                                        154.0                      4.0   \n",
       "San Juan del Puerto                           393.0                     19.0   \n",
       "Paterna del Campo                             123.0                      4.0   \n",
       "Aracena                                       469.0                     12.0   \n",
       "Huelva                                      26132.0                    574.0   \n",
       "Villarrasa                                    136.0                      3.0   \n",
       "Trigueros                                     241.0                     12.0   \n",
       "San Silvestre de Guzmán                        14.0                      1.0   \n",
       "Gibraleón                                     552.0                      6.0   \n",
       "Higuera de la Sierra                           31.0                      2.0   \n",
       "Lucena del Puerto                             167.0                      4.0   \n",
       "Aroche                                         84.0                      2.0   \n",
       "Huelva (capital)                             6827.0                    119.0   \n",
       "Huelva-Costa                                15624.0                    223.0   \n",
       "Palma del Condado (La)                        999.0                      5.0   \n",
       "Punta Umbría                                  672.0                      6.0   \n",
       "Paymogo                                        74.0                      1.0   \n",
       "Aljaraque                                     947.0                     16.0   \n",
       "Lepe                                         2031.0                     12.0   \n",
       "Villanueva de los Castillejos                 155.0                      2.0   \n",
       "Valverde del Camino                           434.0                      6.0   \n",
       "Sierra de Huelva-Andévalo Central            2353.0                     29.0   \n",
       "Ayamonte                                     1250.0                      4.0   \n",
       "Campillo (El)                                  62.0                      1.0   \n",
       "Escacena del Campo                            142.0                      1.0   \n",
       "Cortegana                                     191.0                      2.0   \n",
       "Calañas                                       172.0                      1.0   \n",
       "Zalamea la Real                                86.0                      1.0   \n",
       "Isla Cristina                                2013.0                      2.0   \n",
       "Beas                                          164.0                      1.0   \n",
       "\n",
       "Medida                             Confirmados PDIA 14 días  Población  \\\n",
       "Lugar de residencia                                                      \n",
       "San Bartolomé de la Torre                              38.0     3761.0   \n",
       "Rociana del Condado                                    66.0     7939.0   \n",
       "Almonte                                               174.0    24507.0   \n",
       "Bollullos Par del Condado                              58.0    14387.0   \n",
       "Niebla                                                 16.0     4116.0   \n",
       "Cartaya                                                78.0    20083.0   \n",
       "Bonares                                                23.0     6060.0   \n",
       "Condado-Campiña                                       584.0   156231.0   \n",
       "Palos de la Frontera                                   39.0    11742.0   \n",
       "Moguer                                                 69.0    21867.0   \n",
       "Villalba del Alcor                                     10.0     3366.0   \n",
       "Fuenteheridos                                           2.0      709.0   \n",
       "Alosno                                                 11.0     3933.0   \n",
       "San Juan del Puerto                                    26.0     9411.0   \n",
       "Paterna del Campo                                       9.0     3457.0   \n",
       "Aracena                                                19.0     8255.0   \n",
       "Huelva                                                987.0   513170.0   \n",
       "Villarrasa                                              4.0     2211.0   \n",
       "Trigueros                                              13.0     7862.0   \n",
       "San Silvestre de Guzmán                                 1.0      614.0   \n",
       "Gibraleón                                              20.0    12737.0   \n",
       "Higuera de la Sierra                                    2.0     1291.0   \n",
       "Lucena del Puerto                                       5.0     3261.0   \n",
       "Aroche                                                  4.0     3054.0   \n",
       "Huelva (capital)                                      174.0   143837.0   \n",
       "Huelva-Costa                                          341.0   289548.0   \n",
       "Palma del Condado (La)                                 11.0    10801.0   \n",
       "Punta Umbría                                           14.0    15355.0   \n",
       "Paymogo                                                 1.0     1162.0   \n",
       "Aljaraque                                              18.0    21474.0   \n",
       "Lepe                                                   21.0    27880.0   \n",
       "Villanueva de los Castillejos                           2.0     2825.0   \n",
       "Valverde del Camino                                     9.0    12750.0   \n",
       "Sierra de Huelva-Andévalo Central                      42.0    67391.0   \n",
       "Ayamonte                                               12.0    21104.0   \n",
       "Campillo (El)                                           1.0     2024.0   \n",
       "Escacena del Campo                                      1.0     2287.0   \n",
       "Cortegana                                               2.0     4602.0   \n",
       "Calañas                                                 1.0     2768.0   \n",
       "Zalamea la Real                                         1.0     3054.0   \n",
       "Isla Cristina                                           7.0    21393.0   \n",
       "Beas                                                    1.0     4341.0   \n",
       "\n",
       "Medida                                  tasa7       tasa14  Diferencia PDIA  \n",
       "Lugar de residencia                                                          \n",
       "San Bartolomé de la Torre          558.362138  1010.369583              3.0  \n",
       "Rociana del Condado                264.516942   831.338960              2.0  \n",
       "Almonte                            363.161546   710.001224             22.0  \n",
       "Bollullos Par del Condado          201.570863   403.141725              2.0  \n",
       "Niebla                             121.477162   388.726919              1.0  \n",
       "Cartaya                            278.842802   388.388189             26.0  \n",
       "Bonares                            280.528053   379.537954              4.0  \n",
       "Condado-Campiña                    197.143973   373.805455             64.0  \n",
       "Palos de la Frontera               195.878045   332.141032              3.0  \n",
       "Moguer                             192.070243   315.543970             10.0  \n",
       "Villalba del Alcor                 178.253119   297.088532              3.0  \n",
       "Fuenteheridos                      282.087447   282.087447              NaN  \n",
       "Alosno                             101.703534   279.684719              2.0  \n",
       "San Juan del Puerto                201.891404   276.272447              8.0  \n",
       "Paterna del Campo                  115.707261   260.341336              0.0  \n",
       "Aracena                            145.366445   230.163537              3.0  \n",
       "Huelva                             111.853772   192.333924            147.0  \n",
       "Villarrasa                         135.685210   180.913614              2.0  \n",
       "Trigueros                          152.632918   165.352328              0.0  \n",
       "San Silvestre de Guzmán            162.866450   162.866450              NaN  \n",
       "Gibraleón                           47.106854   157.022847              0.0  \n",
       "Higuera de la Sierra               154.918668   154.918668              0.0  \n",
       "Lucena del Puerto                  122.661760   153.327200              3.0  \n",
       "Aroche                              65.487885   130.975769              0.0  \n",
       "Huelva (capital)                    82.732538   120.970265             33.0  \n",
       "Huelva-Costa                        77.016591   117.769765             70.0  \n",
       "Palma del Condado (La)              46.292010   101.842422              1.0  \n",
       "Punta Umbría                        39.075220    91.175513              0.0  \n",
       "Paymogo                             86.058520    86.058520              0.0  \n",
       "Aljaraque                           74.508708    83.822297              3.0  \n",
       "Lepe                                43.041607    75.322812              2.0  \n",
       "Villanueva de los Castillejos       70.796460    70.796460              0.0  \n",
       "Valverde del Camino                 47.058824    70.588235              2.0  \n",
       "Sierra de Huelva-Andévalo Central   43.032452    62.322862             10.0  \n",
       "Ayamonte                            18.953753    56.861259              2.0  \n",
       "Campillo (El)                       49.407115    49.407115              0.0  \n",
       "Escacena del Campo                  43.725404    43.725404              0.0  \n",
       "Cortegana                           43.459365    43.459365              NaN  \n",
       "Calañas                             36.127168    36.127168              0.0  \n",
       "Zalamea la Real                     32.743942    32.743942              0.0  \n",
       "Isla Cristina                        9.348852    32.720983              0.0  \n",
       "Beas                                23.036167    23.036167              0.0  "
      ],
      "text/html": "<div>\n<style scoped>\n    .dataframe tbody tr th:only-of-type {\n        vertical-align: middle;\n    }\n\n    .dataframe tbody tr th {\n        vertical-align: top;\n    }\n\n    .dataframe thead th {\n        text-align: right;\n    }\n</style>\n<table border=\"1\" class=\"dataframe\">\n  <thead>\n    <tr style=\"text-align: right;\">\n      <th>Medida</th>\n      <th>Confirmados PDIA</th>\n      <th>Confirmados PDIA 7 días</th>\n      <th>Confirmados PDIA 14 días</th>\n      <th>Población</th>\n      <th>tasa7</th>\n      <th>tasa14</th>\n      <th>Diferencia PDIA</th>\n    </tr>\n    <tr>\n      <th>Lugar de residencia</th>\n      <th></th>\n      <th></th>\n      <th></th>\n      <th></th>\n      <th></th>\n      <th></th>\n      <th></th>\n    </tr>\n  </thead>\n  <tbody>\n    <tr>\n      <th>San Bartolomé de la Torre</th>\n      <td>252.0</td>\n      <td>21.0</td>\n      <td>38.0</td>\n      <td>3761.0</td>\n      <td>558.362138</td>\n      <td>1010.369583</td>\n      <td>3.0</td>\n    </tr>\n    <tr>\n      <th>Rociana del Condado</th>\n      <td>391.0</td>\n      <td>21.0</td>\n      <td>66.0</td>\n      <td>7939.0</td>\n      <td>264.516942</td>\n      <td>831.338960</td>\n      <td>2.0</td>\n    </tr>\n    <tr>\n      <th>Almonte</th>\n      <td>1106.0</td>\n      <td>89.0</td>\n      <td>174.0</td>\n      <td>24507.0</td>\n      <td>363.161546</td>\n      <td>710.001224</td>\n      <td>22.0</td>\n    </tr>\n    <tr>\n      <th>Bollullos Par del Condado</th>\n      <td>695.0</td>\n      <td>29.0</td>\n      <td>58.0</td>\n      <td>14387.0</td>\n      <td>201.570863</td>\n      <td>403.141725</td>\n      <td>2.0</td>\n    </tr>\n    <tr>\n      <th>Niebla</th>\n      <td>178.0</td>\n      <td>5.0</td>\n      <td>16.0</td>\n      <td>4116.0</td>\n      <td>121.477162</td>\n      <td>388.726919</td>\n      <td>1.0</td>\n    </tr>\n    <tr>\n      <th>Cartaya</th>\n      <td>1063.0</td>\n      <td>56.0</td>\n      <td>78.0</td>\n      <td>20083.0</td>\n      <td>278.842802</td>\n      <td>388.388189</td>\n      <td>26.0</td>\n    </tr>\n    <tr>\n      <th>Bonares</th>\n      <td>203.0</td>\n      <td>17.0</td>\n      <td>23.0</td>\n      <td>6060.0</td>\n      <td>280.528053</td>\n      <td>379.537954</td>\n      <td>4.0</td>\n    </tr>\n    <tr>\n      <th>Condado-Campiña</th>\n      <td>7726.0</td>\n      <td>308.0</td>\n      <td>584.0</td>\n      <td>156231.0</td>\n      <td>197.143973</td>\n      <td>373.805455</td>\n      <td>64.0</td>\n    </tr>\n    <tr>\n      <th>Palos de la Frontera</th>\n      <td>503.0</td>\n      <td>23.0</td>\n      <td>39.0</td>\n      <td>11742.0</td>\n      <td>195.878045</td>\n      <td>332.141032</td>\n      <td>3.0</td>\n    </tr>\n    <tr>\n      <th>Moguer</th>\n      <td>929.0</td>\n      <td>42.0</td>\n      <td>69.0</td>\n      <td>21867.0</td>\n      <td>192.070243</td>\n      <td>315.543970</td>\n      <td>10.0</td>\n    </tr>\n    <tr>\n      <th>Villalba del Alcor</th>\n      <td>468.0</td>\n      <td>6.0</td>\n      <td>10.0</td>\n      <td>3366.0</td>\n      <td>178.253119</td>\n      <td>297.088532</td>\n      <td>3.0</td>\n    </tr>\n    <tr>\n      <th>Fuenteheridos</th>\n      <td>5.0</td>\n      <td>2.0</td>\n      <td>2.0</td>\n      <td>709.0</td>\n      <td>282.087447</td>\n      <td>282.087447</td>\n      <td>NaN</td>\n    </tr>\n    <tr>\n      <th>Alosno</th>\n      <td>154.0</td>\n      <td>4.0</td>\n      <td>11.0</td>\n      <td>3933.0</td>\n      <td>101.703534</td>\n      <td>279.684719</td>\n      <td>2.0</td>\n    </tr>\n    <tr>\n      <th>San Juan del Puerto</th>\n      <td>393.0</td>\n      <td>19.0</td>\n      <td>26.0</td>\n      <td>9411.0</td>\n      <td>201.891404</td>\n      <td>276.272447</td>\n      <td>8.0</td>\n    </tr>\n    <tr>\n      <th>Paterna del Campo</th>\n      <td>123.0</td>\n      <td>4.0</td>\n      <td>9.0</td>\n      <td>3457.0</td>\n      <td>115.707261</td>\n      <td>260.341336</td>\n      <td>0.0</td>\n    </tr>\n    <tr>\n      <th>Aracena</th>\n      <td>469.0</td>\n      <td>12.0</td>\n      <td>19.0</td>\n      <td>8255.0</td>\n      <td>145.366445</td>\n      <td>230.163537</td>\n      <td>3.0</td>\n    </tr>\n    <tr>\n      <th>Huelva</th>\n      <td>26132.0</td>\n      <td>574.0</td>\n      <td>987.0</td>\n      <td>513170.0</td>\n      <td>111.853772</td>\n      <td>192.333924</td>\n      <td>147.0</td>\n    </tr>\n    <tr>\n      <th>Villarrasa</th>\n      <td>136.0</td>\n      <td>3.0</td>\n      <td>4.0</td>\n      <td>2211.0</td>\n      <td>135.685210</td>\n      <td>180.913614</td>\n      <td>2.0</td>\n    </tr>\n    <tr>\n      <th>Trigueros</th>\n      <td>241.0</td>\n      <td>12.0</td>\n      <td>13.0</td>\n      <td>7862.0</td>\n      <td>152.632918</td>\n      <td>165.352328</td>\n      <td>0.0</td>\n    </tr>\n    <tr>\n      <th>San Silvestre de Guzmán</th>\n      <td>14.0</td>\n      <td>1.0</td>\n      <td>1.0</td>\n      <td>614.0</td>\n      <td>162.866450</td>\n      <td>162.866450</td>\n      <td>NaN</td>\n    </tr>\n    <tr>\n      <th>Gibraleón</th>\n      <td>552.0</td>\n      <td>6.0</td>\n      <td>20.0</td>\n      <td>12737.0</td>\n      <td>47.106854</td>\n      <td>157.022847</td>\n      <td>0.0</td>\n    </tr>\n    <tr>\n      <th>Higuera de la Sierra</th>\n      <td>31.0</td>\n      <td>2.0</td>\n      <td>2.0</td>\n      <td>1291.0</td>\n      <td>154.918668</td>\n      <td>154.918668</td>\n      <td>0.0</td>\n    </tr>\n    <tr>\n      <th>Lucena del Puerto</th>\n      <td>167.0</td>\n      <td>4.0</td>\n      <td>5.0</td>\n      <td>3261.0</td>\n      <td>122.661760</td>\n      <td>153.327200</td>\n      <td>3.0</td>\n    </tr>\n    <tr>\n      <th>Aroche</th>\n      <td>84.0</td>\n      <td>2.0</td>\n      <td>4.0</td>\n      <td>3054.0</td>\n      <td>65.487885</td>\n      <td>130.975769</td>\n      <td>0.0</td>\n    </tr>\n    <tr>\n      <th>Huelva (capital)</th>\n      <td>6827.0</td>\n      <td>119.0</td>\n      <td>174.0</td>\n      <td>143837.0</td>\n      <td>82.732538</td>\n      <td>120.970265</td>\n      <td>33.0</td>\n    </tr>\n    <tr>\n      <th>Huelva-Costa</th>\n      <td>15624.0</td>\n      <td>223.0</td>\n      <td>341.0</td>\n      <td>289548.0</td>\n      <td>77.016591</td>\n      <td>117.769765</td>\n      <td>70.0</td>\n    </tr>\n    <tr>\n      <th>Palma del Condado (La)</th>\n      <td>999.0</td>\n      <td>5.0</td>\n      <td>11.0</td>\n      <td>10801.0</td>\n      <td>46.292010</td>\n      <td>101.842422</td>\n      <td>1.0</td>\n    </tr>\n    <tr>\n      <th>Punta Umbría</th>\n      <td>672.0</td>\n      <td>6.0</td>\n      <td>14.0</td>\n      <td>15355.0</td>\n      <td>39.075220</td>\n      <td>91.175513</td>\n      <td>0.0</td>\n    </tr>\n    <tr>\n      <th>Paymogo</th>\n      <td>74.0</td>\n      <td>1.0</td>\n      <td>1.0</td>\n      <td>1162.0</td>\n      <td>86.058520</td>\n      <td>86.058520</td>\n      <td>0.0</td>\n    </tr>\n    <tr>\n      <th>Aljaraque</th>\n      <td>947.0</td>\n      <td>16.0</td>\n      <td>18.0</td>\n      <td>21474.0</td>\n      <td>74.508708</td>\n      <td>83.822297</td>\n      <td>3.0</td>\n    </tr>\n    <tr>\n      <th>Lepe</th>\n      <td>2031.0</td>\n      <td>12.0</td>\n      <td>21.0</td>\n      <td>27880.0</td>\n      <td>43.041607</td>\n      <td>75.322812</td>\n      <td>2.0</td>\n    </tr>\n    <tr>\n      <th>Villanueva de los Castillejos</th>\n      <td>155.0</td>\n      <td>2.0</td>\n      <td>2.0</td>\n      <td>2825.0</td>\n      <td>70.796460</td>\n      <td>70.796460</td>\n      <td>0.0</td>\n    </tr>\n    <tr>\n      <th>Valverde del Camino</th>\n      <td>434.0</td>\n      <td>6.0</td>\n      <td>9.0</td>\n      <td>12750.0</td>\n      <td>47.058824</td>\n      <td>70.588235</td>\n      <td>2.0</td>\n    </tr>\n    <tr>\n      <th>Sierra de Huelva-Andévalo Central</th>\n      <td>2353.0</td>\n      <td>29.0</td>\n      <td>42.0</td>\n      <td>67391.0</td>\n      <td>43.032452</td>\n      <td>62.322862</td>\n      <td>10.0</td>\n    </tr>\n    <tr>\n      <th>Ayamonte</th>\n      <td>1250.0</td>\n      <td>4.0</td>\n      <td>12.0</td>\n      <td>21104.0</td>\n      <td>18.953753</td>\n      <td>56.861259</td>\n      <td>2.0</td>\n    </tr>\n    <tr>\n      <th>Campillo (El)</th>\n      <td>62.0</td>\n      <td>1.0</td>\n      <td>1.0</td>\n      <td>2024.0</td>\n      <td>49.407115</td>\n      <td>49.407115</td>\n      <td>0.0</td>\n    </tr>\n    <tr>\n      <th>Escacena del Campo</th>\n      <td>142.0</td>\n      <td>1.0</td>\n      <td>1.0</td>\n      <td>2287.0</td>\n      <td>43.725404</td>\n      <td>43.725404</td>\n      <td>0.0</td>\n    </tr>\n    <tr>\n      <th>Cortegana</th>\n      <td>191.0</td>\n      <td>2.0</td>\n      <td>2.0</td>\n      <td>4602.0</td>\n      <td>43.459365</td>\n      <td>43.459365</td>\n      <td>NaN</td>\n    </tr>\n    <tr>\n      <th>Calañas</th>\n      <td>172.0</td>\n      <td>1.0</td>\n      <td>1.0</td>\n      <td>2768.0</td>\n      <td>36.127168</td>\n      <td>36.127168</td>\n      <td>0.0</td>\n    </tr>\n    <tr>\n      <th>Zalamea la Real</th>\n      <td>86.0</td>\n      <td>1.0</td>\n      <td>1.0</td>\n      <td>3054.0</td>\n      <td>32.743942</td>\n      <td>32.743942</td>\n      <td>0.0</td>\n    </tr>\n    <tr>\n      <th>Isla Cristina</th>\n      <td>2013.0</td>\n      <td>2.0</td>\n      <td>7.0</td>\n      <td>21393.0</td>\n      <td>9.348852</td>\n      <td>32.720983</td>\n      <td>0.0</td>\n    </tr>\n    <tr>\n      <th>Beas</th>\n      <td>164.0</td>\n      <td>1.0</td>\n      <td>1.0</td>\n      <td>4341.0</td>\n      <td>23.036167</td>\n      <td>23.036167</td>\n      <td>0.0</td>\n    </tr>\n  </tbody>\n</table>\n</div>"
     },
     "metadata": {},
     "execution_count": 17
    }
   ],
   "source": [
    "tabla.sort_values('tasa14', ascending=False)"
   ]
  },
  {
   "cell_type": "code",
   "execution_count": 18,
   "metadata": {},
   "outputs": [
    {
     "output_type": "execute_result",
     "data": {
      "text/plain": [
       "Medida                             Confirmados PDIA  Confirmados PDIA 7 días  \\\n",
       "Lugar de residencia                                                            \n",
       "Isla Cristina                                2013.0                      2.0   \n",
       "Gibraleón                                     552.0                      6.0   \n",
       "Niebla                                        178.0                      5.0   \n",
       "Rociana del Condado                           391.0                     21.0   \n",
       "Ayamonte                                     1250.0                      4.0   \n",
       "Alosno                                        154.0                      4.0   \n",
       "Punta Umbría                                  672.0                      6.0   \n",
       "Paterna del Campo                             123.0                      4.0   \n",
       "Palma del Condado (La)                        999.0                      5.0   \n",
       "Aroche                                         84.0                      2.0   \n",
       "Bollullos Par del Condado                     695.0                     29.0   \n",
       "Almonte                                      1106.0                     89.0   \n",
       "Condado-Campiña                              7726.0                    308.0   \n",
       "San Bartolomé de la Torre                     252.0                     21.0   \n",
       "Lepe                                         2031.0                     12.0   \n",
       "Huelva                                      26132.0                    574.0   \n",
       "Palos de la Frontera                          503.0                     23.0   \n",
       "Villalba del Alcor                            468.0                      6.0   \n",
       "Moguer                                        929.0                     42.0   \n",
       "Aracena                                       469.0                     12.0   \n",
       "Huelva-Costa                                15624.0                    223.0   \n",
       "Valverde del Camino                           434.0                      6.0   \n",
       "Huelva (capital)                             6827.0                    119.0   \n",
       "Sierra de Huelva-Andévalo Central            2353.0                     29.0   \n",
       "Cartaya                                      1063.0                     56.0   \n",
       "San Juan del Puerto                           393.0                     19.0   \n",
       "Bonares                                       203.0                     17.0   \n",
       "Villarrasa                                    136.0                      3.0   \n",
       "Lucena del Puerto                             167.0                      4.0   \n",
       "Aljaraque                                     947.0                     16.0   \n",
       "Trigueros                                     241.0                     12.0   \n",
       "Higuera de la Sierra                           31.0                      2.0   \n",
       "Fuenteheridos                                   5.0                      2.0   \n",
       "Escacena del Campo                            142.0                      1.0   \n",
       "Cortegana                                     191.0                      2.0   \n",
       "San Silvestre de Guzmán                        14.0                      1.0   \n",
       "Campillo (El)                                  62.0                      1.0   \n",
       "Calañas                                       172.0                      1.0   \n",
       "Beas                                          164.0                      1.0   \n",
       "Villanueva de los Castillejos                 155.0                      2.0   \n",
       "Paymogo                                        74.0                      1.0   \n",
       "Zalamea la Real                                86.0                      1.0   \n",
       "\n",
       "Medida                             Confirmados PDIA 14 días  Población  \\\n",
       "Lugar de residencia                                                      \n",
       "Isla Cristina                                           7.0    21393.0   \n",
       "Gibraleón                                              20.0    12737.0   \n",
       "Niebla                                                 16.0     4116.0   \n",
       "Rociana del Condado                                    66.0     7939.0   \n",
       "Ayamonte                                               12.0    21104.0   \n",
       "Alosno                                                 11.0     3933.0   \n",
       "Punta Umbría                                           14.0    15355.0   \n",
       "Paterna del Campo                                       9.0     3457.0   \n",
       "Palma del Condado (La)                                 11.0    10801.0   \n",
       "Aroche                                                  4.0     3054.0   \n",
       "Bollullos Par del Condado                              58.0    14387.0   \n",
       "Almonte                                               174.0    24507.0   \n",
       "Condado-Campiña                                       584.0   156231.0   \n",
       "San Bartolomé de la Torre                              38.0     3761.0   \n",
       "Lepe                                                   21.0    27880.0   \n",
       "Huelva                                                987.0   513170.0   \n",
       "Palos de la Frontera                                   39.0    11742.0   \n",
       "Villalba del Alcor                                     10.0     3366.0   \n",
       "Moguer                                                 69.0    21867.0   \n",
       "Aracena                                                19.0     8255.0   \n",
       "Huelva-Costa                                          341.0   289548.0   \n",
       "Valverde del Camino                                     9.0    12750.0   \n",
       "Huelva (capital)                                      174.0   143837.0   \n",
       "Sierra de Huelva-Andévalo Central                      42.0    67391.0   \n",
       "Cartaya                                                78.0    20083.0   \n",
       "San Juan del Puerto                                    26.0     9411.0   \n",
       "Bonares                                                23.0     6060.0   \n",
       "Villarrasa                                              4.0     2211.0   \n",
       "Lucena del Puerto                                       5.0     3261.0   \n",
       "Aljaraque                                              18.0    21474.0   \n",
       "Trigueros                                              13.0     7862.0   \n",
       "Higuera de la Sierra                                    2.0     1291.0   \n",
       "Fuenteheridos                                           2.0      709.0   \n",
       "Escacena del Campo                                      1.0     2287.0   \n",
       "Cortegana                                               2.0     4602.0   \n",
       "San Silvestre de Guzmán                                 1.0      614.0   \n",
       "Campillo (El)                                           1.0     2024.0   \n",
       "Calañas                                                 1.0     2768.0   \n",
       "Beas                                                    1.0     4341.0   \n",
       "Villanueva de los Castillejos                           2.0     2825.0   \n",
       "Paymogo                                                 1.0     1162.0   \n",
       "Zalamea la Real                                         1.0     3054.0   \n",
       "\n",
       "Medida                                  tasa7       tasa14  Diferencia PDIA  \\\n",
       "Lugar de residencia                                                           \n",
       "Isla Cristina                        9.348852    32.720983              0.0   \n",
       "Gibraleón                           47.106854   157.022847              0.0   \n",
       "Niebla                             121.477162   388.726919              1.0   \n",
       "Rociana del Condado                264.516942   831.338960              2.0   \n",
       "Ayamonte                            18.953753    56.861259              2.0   \n",
       "Alosno                             101.703534   279.684719              2.0   \n",
       "Punta Umbría                        39.075220    91.175513              0.0   \n",
       "Paterna del Campo                  115.707261   260.341336              0.0   \n",
       "Palma del Condado (La)              46.292010   101.842422              1.0   \n",
       "Aroche                              65.487885   130.975769              0.0   \n",
       "Bollullos Par del Condado          201.570863   403.141725              2.0   \n",
       "Almonte                            363.161546   710.001224             22.0   \n",
       "Condado-Campiña                    197.143973   373.805455             64.0   \n",
       "San Bartolomé de la Torre          558.362138  1010.369583              3.0   \n",
       "Lepe                                43.041607    75.322812              2.0   \n",
       "Huelva                             111.853772   192.333924            147.0   \n",
       "Palos de la Frontera               195.878045   332.141032              3.0   \n",
       "Villalba del Alcor                 178.253119   297.088532              3.0   \n",
       "Moguer                             192.070243   315.543970             10.0   \n",
       "Aracena                            145.366445   230.163537              3.0   \n",
       "Huelva-Costa                        77.016591   117.769765             70.0   \n",
       "Valverde del Camino                 47.058824    70.588235              2.0   \n",
       "Huelva (capital)                    82.732538   120.970265             33.0   \n",
       "Sierra de Huelva-Andévalo Central   43.032452    62.322862             10.0   \n",
       "Cartaya                            278.842802   388.388189             26.0   \n",
       "San Juan del Puerto                201.891404   276.272447              8.0   \n",
       "Bonares                            280.528053   379.537954              4.0   \n",
       "Villarrasa                         135.685210   180.913614              2.0   \n",
       "Lucena del Puerto                  122.661760   153.327200              3.0   \n",
       "Aljaraque                           74.508708    83.822297              3.0   \n",
       "Trigueros                          152.632918   165.352328              0.0   \n",
       "Higuera de la Sierra               154.918668   154.918668              0.0   \n",
       "Fuenteheridos                      282.087447   282.087447              0.0   \n",
       "Escacena del Campo                  43.725404    43.725404              0.0   \n",
       "Cortegana                           43.459365    43.459365              0.0   \n",
       "San Silvestre de Guzmán            162.866450   162.866450              0.0   \n",
       "Campillo (El)                       49.407115    49.407115              0.0   \n",
       "Calañas                             36.127168    36.127168              0.0   \n",
       "Beas                                23.036167    23.036167              0.0   \n",
       "Villanueva de los Castillejos       70.796460    70.796460              0.0   \n",
       "Paymogo                             86.058520    86.058520              0.0   \n",
       "Zalamea la Real                     32.743942    32.743942              0.0   \n",
       "\n",
       "Medida                                 7/14  \n",
       "Lugar de residencia                          \n",
       "Isla Cristina                      0.285714  \n",
       "Gibraleón                          0.300000  \n",
       "Niebla                             0.312500  \n",
       "Rociana del Condado                0.318182  \n",
       "Ayamonte                           0.333333  \n",
       "Alosno                             0.363636  \n",
       "Punta Umbría                       0.428571  \n",
       "Paterna del Campo                  0.444444  \n",
       "Palma del Condado (La)             0.454545  \n",
       "Aroche                             0.500000  \n",
       "Bollullos Par del Condado          0.500000  \n",
       "Almonte                            0.511494  \n",
       "Condado-Campiña                    0.527397  \n",
       "San Bartolomé de la Torre          0.552632  \n",
       "Lepe                               0.571429  \n",
       "Huelva                             0.581560  \n",
       "Palos de la Frontera               0.589744  \n",
       "Villalba del Alcor                 0.600000  \n",
       "Moguer                             0.608696  \n",
       "Aracena                            0.631579  \n",
       "Huelva-Costa                       0.653959  \n",
       "Valverde del Camino                0.666667  \n",
       "Huelva (capital)                   0.683908  \n",
       "Sierra de Huelva-Andévalo Central  0.690476  \n",
       "Cartaya                            0.717949  \n",
       "San Juan del Puerto                0.730769  \n",
       "Bonares                            0.739130  \n",
       "Villarrasa                         0.750000  \n",
       "Lucena del Puerto                  0.800000  \n",
       "Aljaraque                          0.888889  \n",
       "Trigueros                          0.923077  \n",
       "Higuera de la Sierra               1.000000  \n",
       "Fuenteheridos                      1.000000  \n",
       "Escacena del Campo                 1.000000  \n",
       "Cortegana                          1.000000  \n",
       "San Silvestre de Guzmán            1.000000  \n",
       "Campillo (El)                      1.000000  \n",
       "Calañas                            1.000000  \n",
       "Beas                               1.000000  \n",
       "Villanueva de los Castillejos      1.000000  \n",
       "Paymogo                            1.000000  \n",
       "Zalamea la Real                    1.000000  "
      ],
      "text/html": "<div>\n<style scoped>\n    .dataframe tbody tr th:only-of-type {\n        vertical-align: middle;\n    }\n\n    .dataframe tbody tr th {\n        vertical-align: top;\n    }\n\n    .dataframe thead th {\n        text-align: right;\n    }\n</style>\n<table border=\"1\" class=\"dataframe\">\n  <thead>\n    <tr style=\"text-align: right;\">\n      <th>Medida</th>\n      <th>Confirmados PDIA</th>\n      <th>Confirmados PDIA 7 días</th>\n      <th>Confirmados PDIA 14 días</th>\n      <th>Población</th>\n      <th>tasa7</th>\n      <th>tasa14</th>\n      <th>Diferencia PDIA</th>\n      <th>7/14</th>\n    </tr>\n    <tr>\n      <th>Lugar de residencia</th>\n      <th></th>\n      <th></th>\n      <th></th>\n      <th></th>\n      <th></th>\n      <th></th>\n      <th></th>\n      <th></th>\n    </tr>\n  </thead>\n  <tbody>\n    <tr>\n      <th>Isla Cristina</th>\n      <td>2013.0</td>\n      <td>2.0</td>\n      <td>7.0</td>\n      <td>21393.0</td>\n      <td>9.348852</td>\n      <td>32.720983</td>\n      <td>0.0</td>\n      <td>0.285714</td>\n    </tr>\n    <tr>\n      <th>Gibraleón</th>\n      <td>552.0</td>\n      <td>6.0</td>\n      <td>20.0</td>\n      <td>12737.0</td>\n      <td>47.106854</td>\n      <td>157.022847</td>\n      <td>0.0</td>\n      <td>0.300000</td>\n    </tr>\n    <tr>\n      <th>Niebla</th>\n      <td>178.0</td>\n      <td>5.0</td>\n      <td>16.0</td>\n      <td>4116.0</td>\n      <td>121.477162</td>\n      <td>388.726919</td>\n      <td>1.0</td>\n      <td>0.312500</td>\n    </tr>\n    <tr>\n      <th>Rociana del Condado</th>\n      <td>391.0</td>\n      <td>21.0</td>\n      <td>66.0</td>\n      <td>7939.0</td>\n      <td>264.516942</td>\n      <td>831.338960</td>\n      <td>2.0</td>\n      <td>0.318182</td>\n    </tr>\n    <tr>\n      <th>Ayamonte</th>\n      <td>1250.0</td>\n      <td>4.0</td>\n      <td>12.0</td>\n      <td>21104.0</td>\n      <td>18.953753</td>\n      <td>56.861259</td>\n      <td>2.0</td>\n      <td>0.333333</td>\n    </tr>\n    <tr>\n      <th>Alosno</th>\n      <td>154.0</td>\n      <td>4.0</td>\n      <td>11.0</td>\n      <td>3933.0</td>\n      <td>101.703534</td>\n      <td>279.684719</td>\n      <td>2.0</td>\n      <td>0.363636</td>\n    </tr>\n    <tr>\n      <th>Punta Umbría</th>\n      <td>672.0</td>\n      <td>6.0</td>\n      <td>14.0</td>\n      <td>15355.0</td>\n      <td>39.075220</td>\n      <td>91.175513</td>\n      <td>0.0</td>\n      <td>0.428571</td>\n    </tr>\n    <tr>\n      <th>Paterna del Campo</th>\n      <td>123.0</td>\n      <td>4.0</td>\n      <td>9.0</td>\n      <td>3457.0</td>\n      <td>115.707261</td>\n      <td>260.341336</td>\n      <td>0.0</td>\n      <td>0.444444</td>\n    </tr>\n    <tr>\n      <th>Palma del Condado (La)</th>\n      <td>999.0</td>\n      <td>5.0</td>\n      <td>11.0</td>\n      <td>10801.0</td>\n      <td>46.292010</td>\n      <td>101.842422</td>\n      <td>1.0</td>\n      <td>0.454545</td>\n    </tr>\n    <tr>\n      <th>Aroche</th>\n      <td>84.0</td>\n      <td>2.0</td>\n      <td>4.0</td>\n      <td>3054.0</td>\n      <td>65.487885</td>\n      <td>130.975769</td>\n      <td>0.0</td>\n      <td>0.500000</td>\n    </tr>\n    <tr>\n      <th>Bollullos Par del Condado</th>\n      <td>695.0</td>\n      <td>29.0</td>\n      <td>58.0</td>\n      <td>14387.0</td>\n      <td>201.570863</td>\n      <td>403.141725</td>\n      <td>2.0</td>\n      <td>0.500000</td>\n    </tr>\n    <tr>\n      <th>Almonte</th>\n      <td>1106.0</td>\n      <td>89.0</td>\n      <td>174.0</td>\n      <td>24507.0</td>\n      <td>363.161546</td>\n      <td>710.001224</td>\n      <td>22.0</td>\n      <td>0.511494</td>\n    </tr>\n    <tr>\n      <th>Condado-Campiña</th>\n      <td>7726.0</td>\n      <td>308.0</td>\n      <td>584.0</td>\n      <td>156231.0</td>\n      <td>197.143973</td>\n      <td>373.805455</td>\n      <td>64.0</td>\n      <td>0.527397</td>\n    </tr>\n    <tr>\n      <th>San Bartolomé de la Torre</th>\n      <td>252.0</td>\n      <td>21.0</td>\n      <td>38.0</td>\n      <td>3761.0</td>\n      <td>558.362138</td>\n      <td>1010.369583</td>\n      <td>3.0</td>\n      <td>0.552632</td>\n    </tr>\n    <tr>\n      <th>Lepe</th>\n      <td>2031.0</td>\n      <td>12.0</td>\n      <td>21.0</td>\n      <td>27880.0</td>\n      <td>43.041607</td>\n      <td>75.322812</td>\n      <td>2.0</td>\n      <td>0.571429</td>\n    </tr>\n    <tr>\n      <th>Huelva</th>\n      <td>26132.0</td>\n      <td>574.0</td>\n      <td>987.0</td>\n      <td>513170.0</td>\n      <td>111.853772</td>\n      <td>192.333924</td>\n      <td>147.0</td>\n      <td>0.581560</td>\n    </tr>\n    <tr>\n      <th>Palos de la Frontera</th>\n      <td>503.0</td>\n      <td>23.0</td>\n      <td>39.0</td>\n      <td>11742.0</td>\n      <td>195.878045</td>\n      <td>332.141032</td>\n      <td>3.0</td>\n      <td>0.589744</td>\n    </tr>\n    <tr>\n      <th>Villalba del Alcor</th>\n      <td>468.0</td>\n      <td>6.0</td>\n      <td>10.0</td>\n      <td>3366.0</td>\n      <td>178.253119</td>\n      <td>297.088532</td>\n      <td>3.0</td>\n      <td>0.600000</td>\n    </tr>\n    <tr>\n      <th>Moguer</th>\n      <td>929.0</td>\n      <td>42.0</td>\n      <td>69.0</td>\n      <td>21867.0</td>\n      <td>192.070243</td>\n      <td>315.543970</td>\n      <td>10.0</td>\n      <td>0.608696</td>\n    </tr>\n    <tr>\n      <th>Aracena</th>\n      <td>469.0</td>\n      <td>12.0</td>\n      <td>19.0</td>\n      <td>8255.0</td>\n      <td>145.366445</td>\n      <td>230.163537</td>\n      <td>3.0</td>\n      <td>0.631579</td>\n    </tr>\n    <tr>\n      <th>Huelva-Costa</th>\n      <td>15624.0</td>\n      <td>223.0</td>\n      <td>341.0</td>\n      <td>289548.0</td>\n      <td>77.016591</td>\n      <td>117.769765</td>\n      <td>70.0</td>\n      <td>0.653959</td>\n    </tr>\n    <tr>\n      <th>Valverde del Camino</th>\n      <td>434.0</td>\n      <td>6.0</td>\n      <td>9.0</td>\n      <td>12750.0</td>\n      <td>47.058824</td>\n      <td>70.588235</td>\n      <td>2.0</td>\n      <td>0.666667</td>\n    </tr>\n    <tr>\n      <th>Huelva (capital)</th>\n      <td>6827.0</td>\n      <td>119.0</td>\n      <td>174.0</td>\n      <td>143837.0</td>\n      <td>82.732538</td>\n      <td>120.970265</td>\n      <td>33.0</td>\n      <td>0.683908</td>\n    </tr>\n    <tr>\n      <th>Sierra de Huelva-Andévalo Central</th>\n      <td>2353.0</td>\n      <td>29.0</td>\n      <td>42.0</td>\n      <td>67391.0</td>\n      <td>43.032452</td>\n      <td>62.322862</td>\n      <td>10.0</td>\n      <td>0.690476</td>\n    </tr>\n    <tr>\n      <th>Cartaya</th>\n      <td>1063.0</td>\n      <td>56.0</td>\n      <td>78.0</td>\n      <td>20083.0</td>\n      <td>278.842802</td>\n      <td>388.388189</td>\n      <td>26.0</td>\n      <td>0.717949</td>\n    </tr>\n    <tr>\n      <th>San Juan del Puerto</th>\n      <td>393.0</td>\n      <td>19.0</td>\n      <td>26.0</td>\n      <td>9411.0</td>\n      <td>201.891404</td>\n      <td>276.272447</td>\n      <td>8.0</td>\n      <td>0.730769</td>\n    </tr>\n    <tr>\n      <th>Bonares</th>\n      <td>203.0</td>\n      <td>17.0</td>\n      <td>23.0</td>\n      <td>6060.0</td>\n      <td>280.528053</td>\n      <td>379.537954</td>\n      <td>4.0</td>\n      <td>0.739130</td>\n    </tr>\n    <tr>\n      <th>Villarrasa</th>\n      <td>136.0</td>\n      <td>3.0</td>\n      <td>4.0</td>\n      <td>2211.0</td>\n      <td>135.685210</td>\n      <td>180.913614</td>\n      <td>2.0</td>\n      <td>0.750000</td>\n    </tr>\n    <tr>\n      <th>Lucena del Puerto</th>\n      <td>167.0</td>\n      <td>4.0</td>\n      <td>5.0</td>\n      <td>3261.0</td>\n      <td>122.661760</td>\n      <td>153.327200</td>\n      <td>3.0</td>\n      <td>0.800000</td>\n    </tr>\n    <tr>\n      <th>Aljaraque</th>\n      <td>947.0</td>\n      <td>16.0</td>\n      <td>18.0</td>\n      <td>21474.0</td>\n      <td>74.508708</td>\n      <td>83.822297</td>\n      <td>3.0</td>\n      <td>0.888889</td>\n    </tr>\n    <tr>\n      <th>Trigueros</th>\n      <td>241.0</td>\n      <td>12.0</td>\n      <td>13.0</td>\n      <td>7862.0</td>\n      <td>152.632918</td>\n      <td>165.352328</td>\n      <td>0.0</td>\n      <td>0.923077</td>\n    </tr>\n    <tr>\n      <th>Higuera de la Sierra</th>\n      <td>31.0</td>\n      <td>2.0</td>\n      <td>2.0</td>\n      <td>1291.0</td>\n      <td>154.918668</td>\n      <td>154.918668</td>\n      <td>0.0</td>\n      <td>1.000000</td>\n    </tr>\n    <tr>\n      <th>Fuenteheridos</th>\n      <td>5.0</td>\n      <td>2.0</td>\n      <td>2.0</td>\n      <td>709.0</td>\n      <td>282.087447</td>\n      <td>282.087447</td>\n      <td>0.0</td>\n      <td>1.000000</td>\n    </tr>\n    <tr>\n      <th>Escacena del Campo</th>\n      <td>142.0</td>\n      <td>1.0</td>\n      <td>1.0</td>\n      <td>2287.0</td>\n      <td>43.725404</td>\n      <td>43.725404</td>\n      <td>0.0</td>\n      <td>1.000000</td>\n    </tr>\n    <tr>\n      <th>Cortegana</th>\n      <td>191.0</td>\n      <td>2.0</td>\n      <td>2.0</td>\n      <td>4602.0</td>\n      <td>43.459365</td>\n      <td>43.459365</td>\n      <td>0.0</td>\n      <td>1.000000</td>\n    </tr>\n    <tr>\n      <th>San Silvestre de Guzmán</th>\n      <td>14.0</td>\n      <td>1.0</td>\n      <td>1.0</td>\n      <td>614.0</td>\n      <td>162.866450</td>\n      <td>162.866450</td>\n      <td>0.0</td>\n      <td>1.000000</td>\n    </tr>\n    <tr>\n      <th>Campillo (El)</th>\n      <td>62.0</td>\n      <td>1.0</td>\n      <td>1.0</td>\n      <td>2024.0</td>\n      <td>49.407115</td>\n      <td>49.407115</td>\n      <td>0.0</td>\n      <td>1.000000</td>\n    </tr>\n    <tr>\n      <th>Calañas</th>\n      <td>172.0</td>\n      <td>1.0</td>\n      <td>1.0</td>\n      <td>2768.0</td>\n      <td>36.127168</td>\n      <td>36.127168</td>\n      <td>0.0</td>\n      <td>1.000000</td>\n    </tr>\n    <tr>\n      <th>Beas</th>\n      <td>164.0</td>\n      <td>1.0</td>\n      <td>1.0</td>\n      <td>4341.0</td>\n      <td>23.036167</td>\n      <td>23.036167</td>\n      <td>0.0</td>\n      <td>1.000000</td>\n    </tr>\n    <tr>\n      <th>Villanueva de los Castillejos</th>\n      <td>155.0</td>\n      <td>2.0</td>\n      <td>2.0</td>\n      <td>2825.0</td>\n      <td>70.796460</td>\n      <td>70.796460</td>\n      <td>0.0</td>\n      <td>1.000000</td>\n    </tr>\n    <tr>\n      <th>Paymogo</th>\n      <td>74.0</td>\n      <td>1.0</td>\n      <td>1.0</td>\n      <td>1162.0</td>\n      <td>86.058520</td>\n      <td>86.058520</td>\n      <td>0.0</td>\n      <td>1.000000</td>\n    </tr>\n    <tr>\n      <th>Zalamea la Real</th>\n      <td>86.0</td>\n      <td>1.0</td>\n      <td>1.0</td>\n      <td>3054.0</td>\n      <td>32.743942</td>\n      <td>32.743942</td>\n      <td>0.0</td>\n      <td>1.000000</td>\n    </tr>\n  </tbody>\n</table>\n</div>"
     },
     "metadata": {},
     "execution_count": 18
    }
   ],
   "source": [
    "# Peso de la tasa de la última semana en relación con la tasa a 14 días \n",
    "# Mejor cuanto menor. Valor 1 significa que no había casos antes de 7 días.\n",
    "tabla['7/14'] = tabla['tasa7'] / tabla['tasa14']\n",
    "tabla.fillna(0).sort_values('7/14', ascending=True)"
   ]
  },
  {
   "cell_type": "code",
   "execution_count": null,
   "metadata": {},
   "outputs": [],
   "source": []
  }
 ]
}