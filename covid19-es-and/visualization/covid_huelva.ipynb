{
 "metadata": {
  "language_info": {
   "codemirror_mode": {
    "name": "ipython",
    "version": 3
   },
   "file_extension": ".py",
   "mimetype": "text/x-python",
   "name": "python",
   "nbconvert_exporter": "python",
   "pygments_lexer": "ipython3",
   "version": "3.8.6-final"
  },
  "orig_nbformat": 2,
  "kernelspec": {
   "name": "python38564bit75945252d6ba481bad4868286020c89e",
   "display_name": "Python 3.8.5 64-bit",
   "language": "python"
  }
 },
 "nbformat": 4,
 "nbformat_minor": 2,
 "cells": [
  {
   "cell_type": "code",
   "execution_count": 1,
   "metadata": {},
   "outputs": [],
   "source": [
    "import pandas as pd\n",
    "pd.set_option('display.max_rows', None) # Print all rows"
   ]
  },
  {
   "cell_type": "code",
   "execution_count": 2,
   "metadata": {},
   "outputs": [],
   "source": [
    "# FIX SSL: CERTIFICATE_VERIFY_FAILED with Python3\n",
    "# https://stackoverflow.com/a/49174340\n",
    "import ssl\n",
    "\n",
    "ssl._create_default_https_context = ssl._create_unverified_context"
   ]
  },
  {
   "cell_type": "code",
   "execution_count": 3,
   "metadata": {},
   "outputs": [],
   "source": [
    "url = 'https://www.juntadeandalucia.es/institutodeestadisticaycartografia/badea/stpivot/stpivot/Print?cube=013d884c-cfc5-4c21-9e78-e26225682afd&type=3&foto=si&ejecutaDesde=&codConsulta=38668&consTipoVisua=JP'\n",
    "fields = ['Lugar de residencia', 'Medida', 'Valor']\n",
    "df = pd.read_csv(url, delimiter=';', usecols=fields, decimal=',')"
   ]
  },
  {
   "cell_type": "code",
   "execution_count": 4,
   "metadata": {},
   "outputs": [
    {
     "output_type": "execute_result",
     "data": {
      "text/plain": [
       "  Lugar de residencia                    Medida               Valor\n",
       "0              Huelva                 Población              513170\n",
       "1              Huelva          Confirmados PDIA               24592\n",
       "2              Huelva  Confirmados PDIA 14 días                 327\n",
       "3              Huelva         Tasa PDIA 14 días  63,721573747491085\n",
       "4              Huelva   Confirmados PDIA 7 días                 119\n",
       "5              Huelva        Total Confirmados                24812\n",
       "6              Huelva                   Curados               16497\n",
       "7              Huelva                Fallecidos                 305"
      ],
      "text/html": "<div>\n<style scoped>\n    .dataframe tbody tr th:only-of-type {\n        vertical-align: middle;\n    }\n\n    .dataframe tbody tr th {\n        vertical-align: top;\n    }\n\n    .dataframe thead th {\n        text-align: right;\n    }\n</style>\n<table border=\"1\" class=\"dataframe\">\n  <thead>\n    <tr style=\"text-align: right;\">\n      <th></th>\n      <th>Lugar de residencia</th>\n      <th>Medida</th>\n      <th>Valor</th>\n    </tr>\n  </thead>\n  <tbody>\n    <tr>\n      <th>0</th>\n      <td>Huelva</td>\n      <td>Población</td>\n      <td>513170</td>\n    </tr>\n    <tr>\n      <th>1</th>\n      <td>Huelva</td>\n      <td>Confirmados PDIA</td>\n      <td>24592</td>\n    </tr>\n    <tr>\n      <th>2</th>\n      <td>Huelva</td>\n      <td>Confirmados PDIA 14 días</td>\n      <td>327</td>\n    </tr>\n    <tr>\n      <th>3</th>\n      <td>Huelva</td>\n      <td>Tasa PDIA 14 días</td>\n      <td>63,721573747491085</td>\n    </tr>\n    <tr>\n      <th>4</th>\n      <td>Huelva</td>\n      <td>Confirmados PDIA 7 días</td>\n      <td>119</td>\n    </tr>\n    <tr>\n      <th>5</th>\n      <td>Huelva</td>\n      <td>Total Confirmados</td>\n      <td>24812</td>\n    </tr>\n    <tr>\n      <th>6</th>\n      <td>Huelva</td>\n      <td>Curados</td>\n      <td>16497</td>\n    </tr>\n    <tr>\n      <th>7</th>\n      <td>Huelva</td>\n      <td>Fallecidos</td>\n      <td>305</td>\n    </tr>\n  </tbody>\n</table>\n</div>"
     },
     "metadata": {},
     "execution_count": 4
    }
   ],
   "source": [
    "df[df['Lugar de residencia'] == 'Huelva']"
   ]
  },
  {
   "cell_type": "code",
   "execution_count": 5,
   "metadata": {},
   "outputs": [],
   "source": [
    "df['Valor'] = pd.to_numeric(df['Valor'],errors='coerce')"
   ]
  },
  {
   "cell_type": "code",
   "execution_count": 6,
   "metadata": {},
   "outputs": [],
   "source": [
    "dfAnterior = pd.read_csv('covid_huelva.csv', index_col='Lugar de residencia')"
   ]
  },
  {
   "cell_type": "code",
   "execution_count": 7,
   "metadata": {
    "tags": []
   },
   "outputs": [
    {
     "output_type": "stream",
     "name": "stdout",
     "text": [
      "Confirmados PCR en la provincia de Huelva:  24592.0\n",
      "<ipython-input-7-31b732756b19>:2: UserWarning: Boolean Series key will be reindexed to match DataFrame index.\n",
      "  p = df[df['Lugar de residencia'] == 'Huelva'][df['Medida'] == 'Confirmados PDIA']['Valor'].values[0]\n"
     ]
    }
   ],
   "source": [
    "# Confirmados PCR provincia Huelva\n",
    "p = df[df['Lugar de residencia'] == 'Huelva'][df['Medida'] == 'Confirmados PDIA']['Valor'].values[0]\n",
    "print('Confirmados PCR en la provincia de Huelva: ', p)"
   ]
  },
  {
   "cell_type": "code",
   "execution_count": 8,
   "metadata": {
    "tags": []
   },
   "outputs": [
    {
     "output_type": "stream",
     "name": "stdout",
     "text": [
      "Confirmados PCR en Huelva capital:  6554.0\n",
      "<ipython-input-8-e81bfb40e710>:2: UserWarning: Boolean Series key will be reindexed to match DataFrame index.\n",
      "  c = df[df['Lugar de residencia'] == 'Huelva (capital)'][df['Medida'] == 'Confirmados PDIA']['Valor'].values[0]\n"
     ]
    }
   ],
   "source": [
    "# Confirmados PCR Huelva capitalpd\n",
    "c = df[df['Lugar de residencia'] == 'Huelva (capital)'][df['Medida'] == 'Confirmados PDIA']['Valor'].values[0]\n",
    "print('Confirmados PCR en Huelva capital: ', c)"
   ]
  },
  {
   "cell_type": "code",
   "execution_count": 9,
   "metadata": {
    "tags": []
   },
   "outputs": [
    {
     "output_type": "stream",
     "name": "stderr",
     "text": [
      "<ipython-input-9-f09dd2050cc1>:1: UserWarning: Boolean Series key will be reindexed to match DataFrame index.\n  c7 = df[df['Lugar de residencia'] == 'Huelva (capital)'][df['Medida'] == 'Confirmados PDIA 7 días']['Valor'].values[0]\n<ipython-input-9-f09dd2050cc1>:2: UserWarning: Boolean Series key will be reindexed to match DataFrame index.\n  c14 = df[df['Lugar de residencia'] == 'Huelva (capital)'][df['Medida'] == 'Confirmados PDIA 14 días']['Valor'].values[0]\n<ipython-input-9-f09dd2050cc1>:3: UserWarning: Boolean Series key will be reindexed to match DataFrame index.\n  p = df[df['Lugar de residencia'] == 'Huelva (capital)'][df['Medida'] == 'Población']['Valor'].values[0]\n"
     ]
    }
   ],
   "source": [
    "c7 = df[df['Lugar de residencia'] == 'Huelva (capital)'][df['Medida'] == 'Confirmados PDIA 7 días']['Valor'].values[0]\n",
    "c14 = df[df['Lugar de residencia'] == 'Huelva (capital)'][df['Medida'] == 'Confirmados PDIA 14 días']['Valor'].values[0]\n",
    "p = df[df['Lugar de residencia'] == 'Huelva (capital)'][df['Medida'] == 'Población']['Valor'].values[0]"
   ]
  },
  {
   "cell_type": "code",
   "execution_count": 10,
   "metadata": {
    "tags": []
   },
   "outputs": [
    {
     "output_type": "stream",
     "name": "stdout",
     "text": [
      "Huelva (capital)\n\nUn positivo PCR cada 4795 personas en los últimos 7 días \n\nUn positivo PCR cada 1868 personas en los últimos 14 días\n"
     ]
    }
   ],
   "source": [
    "print('Huelva (capital)\\n')\n",
    "#print('Confirmados PCR 7 días x 1,000 habitantes: ', f\"{c7/(p/1000):.5f}\")\n",
    "print('Un positivo PCR cada', f\"{p/c7:.0f}\", 'personas en los últimos 7 días', '\\n')\n",
    "#print('Confirmados PCR 14 días x 1,000 habitantes: ', f\"{c14/(p/1000):.5f}\")\n",
    "print('Un positivo PCR cada', f\"{p/c14:.0f}\", 'personas en los últimos 14 días')"
   ]
  },
  {
   "cell_type": "code",
   "execution_count": 11,
   "metadata": {},
   "outputs": [],
   "source": [
    "filtro = ((df['Medida'] == 'Confirmados PDIA')| (df['Medida'] == 'Confirmados PDIA 7 días') | (df['Medida'] == 'Población' ) | (df['Medida'] == 'Confirmados PDIA 14 días')) & (df['Valor'] > 0)\n",
    "tabla = pd.pivot_table(df.loc[filtro], values='Valor', index='Lugar de residencia', columns='Medida').dropna()"
   ]
  },
  {
   "cell_type": "code",
   "execution_count": 12,
   "metadata": {},
   "outputs": [],
   "source": [
    "# Reorder columns\n",
    "tabla = tabla[['Confirmados PDIA', 'Confirmados PDIA 7 días', 'Confirmados PDIA 14 días', 'Población']]"
   ]
  },
  {
   "cell_type": "code",
   "execution_count": 13,
   "metadata": {},
   "outputs": [],
   "source": [
    "tabla['tasa7'] = tabla['Confirmados PDIA 7 días']/tabla['Población']*100000\n",
    "tabla['tasa14'] = tabla['Confirmados PDIA 14 días']/tabla['Población']*100000"
   ]
  },
  {
   "cell_type": "code",
   "execution_count": 14,
   "metadata": {},
   "outputs": [],
   "source": [
    "tabla['Diferencia PDIA'] = tabla['Confirmados PDIA'] - dfAnterior['Confirmados PDIA']"
   ]
  },
  {
   "cell_type": "code",
   "execution_count": 15,
   "metadata": {},
   "outputs": [
    {
     "output_type": "execute_result",
     "data": {
      "text/plain": [
       "Medida                     Confirmados PDIA  Confirmados PDIA 7 días  \\\n",
       "Lugar de residencia                                                    \n",
       "Condado-Campiña                      6880.0                     46.0   \n",
       "Huelva                              24592.0                    119.0   \n",
       "Huelva-Costa                        15001.0                     71.0   \n",
       "Huelva (capital)                     6554.0                     30.0   \n",
       "Bollullos Par del Condado             610.0                      2.0   \n",
       "Moguer                                829.0                      9.0   \n",
       "Almonte                               864.0                     16.0   \n",
       "Ayamonte                             1194.0                      8.0   \n",
       "Isla Cristina                        1978.0                      3.0   \n",
       "Lucena del Puerto                     153.0                      6.0   \n",
       "Palma del Condado (La)                977.0                      7.0   \n",
       "\n",
       "Medida                     Confirmados PDIA 14 días  Población       tasa7  \\\n",
       "Lugar de residencia                                                          \n",
       "Condado-Campiña                               118.0   156231.0   29.443580   \n",
       "Huelva                                        327.0   513170.0   23.189197   \n",
       "Huelva-Costa                                  198.0   289548.0   24.520978   \n",
       "Huelva (capital)                               77.0   143837.0   20.856942   \n",
       "Bollullos Par del Condado                      14.0    14387.0   13.901439   \n",
       "Moguer                                         23.0    21867.0   41.157909   \n",
       "Almonte                                        32.0    24507.0   65.287469   \n",
       "Ayamonte                                       13.0    21104.0   37.907506   \n",
       "Isla Cristina                                   9.0    21393.0   14.023279   \n",
       "Lucena del Puerto                               7.0     3261.0  183.992640   \n",
       "Palma del Condado (La)                         15.0    10801.0   64.808814   \n",
       "\n",
       "Medida                         tasa14  Diferencia PDIA  \n",
       "Lugar de residencia                                     \n",
       "Condado-Campiña             75.529184              8.0  \n",
       "Huelva                      63.721574              6.0  \n",
       "Huelva-Costa                68.382444              6.0  \n",
       "Huelva (capital)            53.532818              4.0  \n",
       "Bollullos Par del Condado   97.310072              2.0  \n",
       "Moguer                     105.181323              2.0  \n",
       "Almonte                    130.574938              1.0  \n",
       "Ayamonte                    61.599697              1.0  \n",
       "Isla Cristina               42.069836              1.0  \n",
       "Lucena del Puerto          214.658080              1.0  \n",
       "Palma del Condado (La)     138.876030              1.0  "
      ],
      "text/html": "<div>\n<style scoped>\n    .dataframe tbody tr th:only-of-type {\n        vertical-align: middle;\n    }\n\n    .dataframe tbody tr th {\n        vertical-align: top;\n    }\n\n    .dataframe thead th {\n        text-align: right;\n    }\n</style>\n<table border=\"1\" class=\"dataframe\">\n  <thead>\n    <tr style=\"text-align: right;\">\n      <th>Medida</th>\n      <th>Confirmados PDIA</th>\n      <th>Confirmados PDIA 7 días</th>\n      <th>Confirmados PDIA 14 días</th>\n      <th>Población</th>\n      <th>tasa7</th>\n      <th>tasa14</th>\n      <th>Diferencia PDIA</th>\n    </tr>\n    <tr>\n      <th>Lugar de residencia</th>\n      <th></th>\n      <th></th>\n      <th></th>\n      <th></th>\n      <th></th>\n      <th></th>\n      <th></th>\n    </tr>\n  </thead>\n  <tbody>\n    <tr>\n      <th>Condado-Campiña</th>\n      <td>6880.0</td>\n      <td>46.0</td>\n      <td>118.0</td>\n      <td>156231.0</td>\n      <td>29.443580</td>\n      <td>75.529184</td>\n      <td>8.0</td>\n    </tr>\n    <tr>\n      <th>Huelva</th>\n      <td>24592.0</td>\n      <td>119.0</td>\n      <td>327.0</td>\n      <td>513170.0</td>\n      <td>23.189197</td>\n      <td>63.721574</td>\n      <td>6.0</td>\n    </tr>\n    <tr>\n      <th>Huelva-Costa</th>\n      <td>15001.0</td>\n      <td>71.0</td>\n      <td>198.0</td>\n      <td>289548.0</td>\n      <td>24.520978</td>\n      <td>68.382444</td>\n      <td>6.0</td>\n    </tr>\n    <tr>\n      <th>Huelva (capital)</th>\n      <td>6554.0</td>\n      <td>30.0</td>\n      <td>77.0</td>\n      <td>143837.0</td>\n      <td>20.856942</td>\n      <td>53.532818</td>\n      <td>4.0</td>\n    </tr>\n    <tr>\n      <th>Bollullos Par del Condado</th>\n      <td>610.0</td>\n      <td>2.0</td>\n      <td>14.0</td>\n      <td>14387.0</td>\n      <td>13.901439</td>\n      <td>97.310072</td>\n      <td>2.0</td>\n    </tr>\n    <tr>\n      <th>Moguer</th>\n      <td>829.0</td>\n      <td>9.0</td>\n      <td>23.0</td>\n      <td>21867.0</td>\n      <td>41.157909</td>\n      <td>105.181323</td>\n      <td>2.0</td>\n    </tr>\n    <tr>\n      <th>Almonte</th>\n      <td>864.0</td>\n      <td>16.0</td>\n      <td>32.0</td>\n      <td>24507.0</td>\n      <td>65.287469</td>\n      <td>130.574938</td>\n      <td>1.0</td>\n    </tr>\n    <tr>\n      <th>Ayamonte</th>\n      <td>1194.0</td>\n      <td>8.0</td>\n      <td>13.0</td>\n      <td>21104.0</td>\n      <td>37.907506</td>\n      <td>61.599697</td>\n      <td>1.0</td>\n    </tr>\n    <tr>\n      <th>Isla Cristina</th>\n      <td>1978.0</td>\n      <td>3.0</td>\n      <td>9.0</td>\n      <td>21393.0</td>\n      <td>14.023279</td>\n      <td>42.069836</td>\n      <td>1.0</td>\n    </tr>\n    <tr>\n      <th>Lucena del Puerto</th>\n      <td>153.0</td>\n      <td>6.0</td>\n      <td>7.0</td>\n      <td>3261.0</td>\n      <td>183.992640</td>\n      <td>214.658080</td>\n      <td>1.0</td>\n    </tr>\n    <tr>\n      <th>Palma del Condado (La)</th>\n      <td>977.0</td>\n      <td>7.0</td>\n      <td>15.0</td>\n      <td>10801.0</td>\n      <td>64.808814</td>\n      <td>138.876030</td>\n      <td>1.0</td>\n    </tr>\n  </tbody>\n</table>\n</div>"
     },
     "metadata": {},
     "execution_count": 15
    }
   ],
   "source": [
    "# Nuevos casos desde la última captura\n",
    "tabla[tabla['Diferencia PDIA'] != 0].sort_values('Diferencia PDIA', ascending=False)"
   ]
  },
  {
   "cell_type": "code",
   "execution_count": 16,
   "metadata": {},
   "outputs": [],
   "source": [
    "if tabla[tabla['Diferencia PDIA'] != 0]['Diferencia PDIA'].sum() != 0:\n",
    "  # Save to csv\n",
    "  tabla.to_csv('covid_huelva.csv', encoding='utf-8', header=True, index=True)  "
   ]
  },
  {
   "cell_type": "code",
   "execution_count": 17,
   "metadata": {},
   "outputs": [
    {
     "output_type": "execute_result",
     "data": {
      "text/plain": [
       "Medida                             Confirmados PDIA  Confirmados PDIA 7 días  \\\n",
       "Lugar de residencia                                                            \n",
       "Villablanca                                   176.0                      2.0   \n",
       "Puebla de Guzmán                               87.0                      5.0   \n",
       "Lucena del Puerto                             153.0                      6.0   \n",
       "Cartaya                                       946.0                     11.0   \n",
       "Palma del Condado (La)                        977.0                      7.0   \n",
       "Almonte                                       864.0                     16.0   \n",
       "Moguer                                        829.0                      9.0   \n",
       "Lepe                                         1994.0                      8.0   \n",
       "Bollullos Par del Condado                     610.0                      2.0   \n",
       "Condado-Campiña                              6880.0                     46.0   \n",
       "Huelva-Costa                                15001.0                     71.0   \n",
       "Huelva                                      24592.0                    119.0   \n",
       "Rociana del Condado                           310.0                      1.0   \n",
       "Ayamonte                                     1194.0                      8.0   \n",
       "Huelva (capital)                             6554.0                     30.0   \n",
       "San Bartolomé de la Torre                     193.0                      2.0   \n",
       "Punta Umbría                                  657.0                      1.0   \n",
       "Aljaraque                                     924.0                      3.0   \n",
       "Palos de la Frontera                          449.0                      1.0   \n",
       "Isla Cristina                                1978.0                      3.0   \n",
       "Paterna del Campo                             111.0                      1.0   \n",
       "Trigueros                                     228.0                      1.0   \n",
       "Aracena                                       450.0                      1.0   \n",
       "Sierra de Huelva-Andévalo Central            2298.0                      1.0   \n",
       "\n",
       "Medida                             Confirmados PDIA 14 días  Población  \\\n",
       "Lugar de residencia                                                      \n",
       "Villablanca                                             8.0     2885.0   \n",
       "Puebla de Guzmán                                        7.0     3092.0   \n",
       "Lucena del Puerto                                       7.0     3261.0   \n",
       "Cartaya                                                31.0    20083.0   \n",
       "Palma del Condado (La)                                 15.0    10801.0   \n",
       "Almonte                                                32.0    24507.0   \n",
       "Moguer                                                 23.0    21867.0   \n",
       "Lepe                                                   29.0    27880.0   \n",
       "Bollullos Par del Condado                              14.0    14387.0   \n",
       "Condado-Campiña                                       118.0   156231.0   \n",
       "Huelva-Costa                                          198.0   289548.0   \n",
       "Huelva                                                327.0   513170.0   \n",
       "Rociana del Condado                                     5.0     7939.0   \n",
       "Ayamonte                                               13.0    21104.0   \n",
       "Huelva (capital)                                       77.0   143837.0   \n",
       "San Bartolomé de la Torre                               2.0     3761.0   \n",
       "Punta Umbría                                            8.0    15355.0   \n",
       "Aljaraque                                              11.0    21474.0   \n",
       "Palos de la Frontera                                    6.0    11742.0   \n",
       "Isla Cristina                                           9.0    21393.0   \n",
       "Paterna del Campo                                       1.0     3457.0   \n",
       "Trigueros                                               1.0     7862.0   \n",
       "Aracena                                                 1.0     8255.0   \n",
       "Sierra de Huelva-Andévalo Central                       5.0    67391.0   \n",
       "\n",
       "Medida                                  tasa7      tasa14  Diferencia PDIA  \n",
       "Lugar de residencia                                                         \n",
       "Villablanca                         69.324090  277.296360              0.0  \n",
       "Puebla de Guzmán                   161.707633  226.390686              0.0  \n",
       "Lucena del Puerto                  183.992640  214.658080              1.0  \n",
       "Cartaya                             54.772693  154.359408              0.0  \n",
       "Palma del Condado (La)              64.808814  138.876030              1.0  \n",
       "Almonte                             65.287469  130.574938              1.0  \n",
       "Moguer                              41.157909  105.181323              2.0  \n",
       "Lepe                                28.694405  104.017217              0.0  \n",
       "Bollullos Par del Condado           13.901439   97.310072              2.0  \n",
       "Condado-Campiña                     29.443580   75.529184              8.0  \n",
       "Huelva-Costa                        24.520978   68.382444              6.0  \n",
       "Huelva                              23.189197   63.721574              6.0  \n",
       "Rociana del Condado                 12.596045   62.980224              0.0  \n",
       "Ayamonte                            37.907506   61.599697              1.0  \n",
       "Huelva (capital)                    20.856942   53.532818              4.0  \n",
       "San Bartolomé de la Torre           53.177346   53.177346              0.0  \n",
       "Punta Umbría                         6.512537   52.100293              0.0  \n",
       "Aljaraque                           13.970383   51.224737              0.0  \n",
       "Palos de la Frontera                 8.516437   51.098620              0.0  \n",
       "Isla Cristina                       14.023279   42.069836              1.0  \n",
       "Paterna del Campo                   28.926815   28.926815              0.0  \n",
       "Trigueros                           12.719410   12.719410              0.0  \n",
       "Aracena                             12.113870   12.113870              0.0  \n",
       "Sierra de Huelva-Andévalo Central    1.483878    7.419388              0.0  "
      ],
      "text/html": "<div>\n<style scoped>\n    .dataframe tbody tr th:only-of-type {\n        vertical-align: middle;\n    }\n\n    .dataframe tbody tr th {\n        vertical-align: top;\n    }\n\n    .dataframe thead th {\n        text-align: right;\n    }\n</style>\n<table border=\"1\" class=\"dataframe\">\n  <thead>\n    <tr style=\"text-align: right;\">\n      <th>Medida</th>\n      <th>Confirmados PDIA</th>\n      <th>Confirmados PDIA 7 días</th>\n      <th>Confirmados PDIA 14 días</th>\n      <th>Población</th>\n      <th>tasa7</th>\n      <th>tasa14</th>\n      <th>Diferencia PDIA</th>\n    </tr>\n    <tr>\n      <th>Lugar de residencia</th>\n      <th></th>\n      <th></th>\n      <th></th>\n      <th></th>\n      <th></th>\n      <th></th>\n      <th></th>\n    </tr>\n  </thead>\n  <tbody>\n    <tr>\n      <th>Villablanca</th>\n      <td>176.0</td>\n      <td>2.0</td>\n      <td>8.0</td>\n      <td>2885.0</td>\n      <td>69.324090</td>\n      <td>277.296360</td>\n      <td>0.0</td>\n    </tr>\n    <tr>\n      <th>Puebla de Guzmán</th>\n      <td>87.0</td>\n      <td>5.0</td>\n      <td>7.0</td>\n      <td>3092.0</td>\n      <td>161.707633</td>\n      <td>226.390686</td>\n      <td>0.0</td>\n    </tr>\n    <tr>\n      <th>Lucena del Puerto</th>\n      <td>153.0</td>\n      <td>6.0</td>\n      <td>7.0</td>\n      <td>3261.0</td>\n      <td>183.992640</td>\n      <td>214.658080</td>\n      <td>1.0</td>\n    </tr>\n    <tr>\n      <th>Cartaya</th>\n      <td>946.0</td>\n      <td>11.0</td>\n      <td>31.0</td>\n      <td>20083.0</td>\n      <td>54.772693</td>\n      <td>154.359408</td>\n      <td>0.0</td>\n    </tr>\n    <tr>\n      <th>Palma del Condado (La)</th>\n      <td>977.0</td>\n      <td>7.0</td>\n      <td>15.0</td>\n      <td>10801.0</td>\n      <td>64.808814</td>\n      <td>138.876030</td>\n      <td>1.0</td>\n    </tr>\n    <tr>\n      <th>Almonte</th>\n      <td>864.0</td>\n      <td>16.0</td>\n      <td>32.0</td>\n      <td>24507.0</td>\n      <td>65.287469</td>\n      <td>130.574938</td>\n      <td>1.0</td>\n    </tr>\n    <tr>\n      <th>Moguer</th>\n      <td>829.0</td>\n      <td>9.0</td>\n      <td>23.0</td>\n      <td>21867.0</td>\n      <td>41.157909</td>\n      <td>105.181323</td>\n      <td>2.0</td>\n    </tr>\n    <tr>\n      <th>Lepe</th>\n      <td>1994.0</td>\n      <td>8.0</td>\n      <td>29.0</td>\n      <td>27880.0</td>\n      <td>28.694405</td>\n      <td>104.017217</td>\n      <td>0.0</td>\n    </tr>\n    <tr>\n      <th>Bollullos Par del Condado</th>\n      <td>610.0</td>\n      <td>2.0</td>\n      <td>14.0</td>\n      <td>14387.0</td>\n      <td>13.901439</td>\n      <td>97.310072</td>\n      <td>2.0</td>\n    </tr>\n    <tr>\n      <th>Condado-Campiña</th>\n      <td>6880.0</td>\n      <td>46.0</td>\n      <td>118.0</td>\n      <td>156231.0</td>\n      <td>29.443580</td>\n      <td>75.529184</td>\n      <td>8.0</td>\n    </tr>\n    <tr>\n      <th>Huelva-Costa</th>\n      <td>15001.0</td>\n      <td>71.0</td>\n      <td>198.0</td>\n      <td>289548.0</td>\n      <td>24.520978</td>\n      <td>68.382444</td>\n      <td>6.0</td>\n    </tr>\n    <tr>\n      <th>Huelva</th>\n      <td>24592.0</td>\n      <td>119.0</td>\n      <td>327.0</td>\n      <td>513170.0</td>\n      <td>23.189197</td>\n      <td>63.721574</td>\n      <td>6.0</td>\n    </tr>\n    <tr>\n      <th>Rociana del Condado</th>\n      <td>310.0</td>\n      <td>1.0</td>\n      <td>5.0</td>\n      <td>7939.0</td>\n      <td>12.596045</td>\n      <td>62.980224</td>\n      <td>0.0</td>\n    </tr>\n    <tr>\n      <th>Ayamonte</th>\n      <td>1194.0</td>\n      <td>8.0</td>\n      <td>13.0</td>\n      <td>21104.0</td>\n      <td>37.907506</td>\n      <td>61.599697</td>\n      <td>1.0</td>\n    </tr>\n    <tr>\n      <th>Huelva (capital)</th>\n      <td>6554.0</td>\n      <td>30.0</td>\n      <td>77.0</td>\n      <td>143837.0</td>\n      <td>20.856942</td>\n      <td>53.532818</td>\n      <td>4.0</td>\n    </tr>\n    <tr>\n      <th>San Bartolomé de la Torre</th>\n      <td>193.0</td>\n      <td>2.0</td>\n      <td>2.0</td>\n      <td>3761.0</td>\n      <td>53.177346</td>\n      <td>53.177346</td>\n      <td>0.0</td>\n    </tr>\n    <tr>\n      <th>Punta Umbría</th>\n      <td>657.0</td>\n      <td>1.0</td>\n      <td>8.0</td>\n      <td>15355.0</td>\n      <td>6.512537</td>\n      <td>52.100293</td>\n      <td>0.0</td>\n    </tr>\n    <tr>\n      <th>Aljaraque</th>\n      <td>924.0</td>\n      <td>3.0</td>\n      <td>11.0</td>\n      <td>21474.0</td>\n      <td>13.970383</td>\n      <td>51.224737</td>\n      <td>0.0</td>\n    </tr>\n    <tr>\n      <th>Palos de la Frontera</th>\n      <td>449.0</td>\n      <td>1.0</td>\n      <td>6.0</td>\n      <td>11742.0</td>\n      <td>8.516437</td>\n      <td>51.098620</td>\n      <td>0.0</td>\n    </tr>\n    <tr>\n      <th>Isla Cristina</th>\n      <td>1978.0</td>\n      <td>3.0</td>\n      <td>9.0</td>\n      <td>21393.0</td>\n      <td>14.023279</td>\n      <td>42.069836</td>\n      <td>1.0</td>\n    </tr>\n    <tr>\n      <th>Paterna del Campo</th>\n      <td>111.0</td>\n      <td>1.0</td>\n      <td>1.0</td>\n      <td>3457.0</td>\n      <td>28.926815</td>\n      <td>28.926815</td>\n      <td>0.0</td>\n    </tr>\n    <tr>\n      <th>Trigueros</th>\n      <td>228.0</td>\n      <td>1.0</td>\n      <td>1.0</td>\n      <td>7862.0</td>\n      <td>12.719410</td>\n      <td>12.719410</td>\n      <td>0.0</td>\n    </tr>\n    <tr>\n      <th>Aracena</th>\n      <td>450.0</td>\n      <td>1.0</td>\n      <td>1.0</td>\n      <td>8255.0</td>\n      <td>12.113870</td>\n      <td>12.113870</td>\n      <td>0.0</td>\n    </tr>\n    <tr>\n      <th>Sierra de Huelva-Andévalo Central</th>\n      <td>2298.0</td>\n      <td>1.0</td>\n      <td>5.0</td>\n      <td>67391.0</td>\n      <td>1.483878</td>\n      <td>7.419388</td>\n      <td>0.0</td>\n    </tr>\n  </tbody>\n</table>\n</div>"
     },
     "metadata": {},
     "execution_count": 17
    }
   ],
   "source": [
    "tabla.sort_values('tasa14', ascending=False)"
   ]
  },
  {
   "cell_type": "code",
   "execution_count": 18,
   "metadata": {},
   "outputs": [
    {
     "output_type": "execute_result",
     "data": {
      "text/plain": [
       "Medida                             Confirmados PDIA  Confirmados PDIA 7 días  \\\n",
       "Lugar de residencia                                                            \n",
       "Punta Umbría                                  657.0                      1.0   \n",
       "Bollullos Par del Condado                     610.0                      2.0   \n",
       "Palos de la Frontera                          449.0                      1.0   \n",
       "Sierra de Huelva-Andévalo Central            2298.0                      1.0   \n",
       "Rociana del Condado                           310.0                      1.0   \n",
       "Villablanca                                   176.0                      2.0   \n",
       "Aljaraque                                     924.0                      3.0   \n",
       "Lepe                                         1994.0                      8.0   \n",
       "Isla Cristina                                1978.0                      3.0   \n",
       "Cartaya                                       946.0                     11.0   \n",
       "Huelva-Costa                                15001.0                     71.0   \n",
       "Huelva                                      24592.0                    119.0   \n",
       "Huelva (capital)                             6554.0                     30.0   \n",
       "Condado-Campiña                              6880.0                     46.0   \n",
       "Moguer                                        829.0                      9.0   \n",
       "Palma del Condado (La)                        977.0                      7.0   \n",
       "Almonte                                       864.0                     16.0   \n",
       "Ayamonte                                     1194.0                      8.0   \n",
       "Puebla de Guzmán                               87.0                      5.0   \n",
       "Lucena del Puerto                             153.0                      6.0   \n",
       "Trigueros                                     228.0                      1.0   \n",
       "Paterna del Campo                             111.0                      1.0   \n",
       "Aracena                                       450.0                      1.0   \n",
       "San Bartolomé de la Torre                     193.0                      2.0   \n",
       "\n",
       "Medida                             Confirmados PDIA 14 días  Población  \\\n",
       "Lugar de residencia                                                      \n",
       "Punta Umbría                                            8.0    15355.0   \n",
       "Bollullos Par del Condado                              14.0    14387.0   \n",
       "Palos de la Frontera                                    6.0    11742.0   \n",
       "Sierra de Huelva-Andévalo Central                       5.0    67391.0   \n",
       "Rociana del Condado                                     5.0     7939.0   \n",
       "Villablanca                                             8.0     2885.0   \n",
       "Aljaraque                                              11.0    21474.0   \n",
       "Lepe                                                   29.0    27880.0   \n",
       "Isla Cristina                                           9.0    21393.0   \n",
       "Cartaya                                                31.0    20083.0   \n",
       "Huelva-Costa                                          198.0   289548.0   \n",
       "Huelva                                                327.0   513170.0   \n",
       "Huelva (capital)                                       77.0   143837.0   \n",
       "Condado-Campiña                                       118.0   156231.0   \n",
       "Moguer                                                 23.0    21867.0   \n",
       "Palma del Condado (La)                                 15.0    10801.0   \n",
       "Almonte                                                32.0    24507.0   \n",
       "Ayamonte                                               13.0    21104.0   \n",
       "Puebla de Guzmán                                        7.0     3092.0   \n",
       "Lucena del Puerto                                       7.0     3261.0   \n",
       "Trigueros                                               1.0     7862.0   \n",
       "Paterna del Campo                                       1.0     3457.0   \n",
       "Aracena                                                 1.0     8255.0   \n",
       "San Bartolomé de la Torre                               2.0     3761.0   \n",
       "\n",
       "Medida                                  tasa7      tasa14  Diferencia PDIA  \\\n",
       "Lugar de residencia                                                          \n",
       "Punta Umbría                         6.512537   52.100293              0.0   \n",
       "Bollullos Par del Condado           13.901439   97.310072              2.0   \n",
       "Palos de la Frontera                 8.516437   51.098620              0.0   \n",
       "Sierra de Huelva-Andévalo Central    1.483878    7.419388              0.0   \n",
       "Rociana del Condado                 12.596045   62.980224              0.0   \n",
       "Villablanca                         69.324090  277.296360              0.0   \n",
       "Aljaraque                           13.970383   51.224737              0.0   \n",
       "Lepe                                28.694405  104.017217              0.0   \n",
       "Isla Cristina                       14.023279   42.069836              1.0   \n",
       "Cartaya                             54.772693  154.359408              0.0   \n",
       "Huelva-Costa                        24.520978   68.382444              6.0   \n",
       "Huelva                              23.189197   63.721574              6.0   \n",
       "Huelva (capital)                    20.856942   53.532818              4.0   \n",
       "Condado-Campiña                     29.443580   75.529184              8.0   \n",
       "Moguer                              41.157909  105.181323              2.0   \n",
       "Palma del Condado (La)              64.808814  138.876030              1.0   \n",
       "Almonte                             65.287469  130.574938              1.0   \n",
       "Ayamonte                            37.907506   61.599697              1.0   \n",
       "Puebla de Guzmán                   161.707633  226.390686              0.0   \n",
       "Lucena del Puerto                  183.992640  214.658080              1.0   \n",
       "Trigueros                           12.719410   12.719410              0.0   \n",
       "Paterna del Campo                   28.926815   28.926815              0.0   \n",
       "Aracena                             12.113870   12.113870              0.0   \n",
       "San Bartolomé de la Torre           53.177346   53.177346              0.0   \n",
       "\n",
       "Medida                                 7/14  \n",
       "Lugar de residencia                          \n",
       "Punta Umbría                       0.125000  \n",
       "Bollullos Par del Condado          0.142857  \n",
       "Palos de la Frontera               0.166667  \n",
       "Sierra de Huelva-Andévalo Central  0.200000  \n",
       "Rociana del Condado                0.200000  \n",
       "Villablanca                        0.250000  \n",
       "Aljaraque                          0.272727  \n",
       "Lepe                               0.275862  \n",
       "Isla Cristina                      0.333333  \n",
       "Cartaya                            0.354839  \n",
       "Huelva-Costa                       0.358586  \n",
       "Huelva                             0.363914  \n",
       "Huelva (capital)                   0.389610  \n",
       "Condado-Campiña                    0.389831  \n",
       "Moguer                             0.391304  \n",
       "Palma del Condado (La)             0.466667  \n",
       "Almonte                            0.500000  \n",
       "Ayamonte                           0.615385  \n",
       "Puebla de Guzmán                   0.714286  \n",
       "Lucena del Puerto                  0.857143  \n",
       "Trigueros                          1.000000  \n",
       "Paterna del Campo                  1.000000  \n",
       "Aracena                            1.000000  \n",
       "San Bartolomé de la Torre          1.000000  "
      ],
      "text/html": "<div>\n<style scoped>\n    .dataframe tbody tr th:only-of-type {\n        vertical-align: middle;\n    }\n\n    .dataframe tbody tr th {\n        vertical-align: top;\n    }\n\n    .dataframe thead th {\n        text-align: right;\n    }\n</style>\n<table border=\"1\" class=\"dataframe\">\n  <thead>\n    <tr style=\"text-align: right;\">\n      <th>Medida</th>\n      <th>Confirmados PDIA</th>\n      <th>Confirmados PDIA 7 días</th>\n      <th>Confirmados PDIA 14 días</th>\n      <th>Población</th>\n      <th>tasa7</th>\n      <th>tasa14</th>\n      <th>Diferencia PDIA</th>\n      <th>7/14</th>\n    </tr>\n    <tr>\n      <th>Lugar de residencia</th>\n      <th></th>\n      <th></th>\n      <th></th>\n      <th></th>\n      <th></th>\n      <th></th>\n      <th></th>\n      <th></th>\n    </tr>\n  </thead>\n  <tbody>\n    <tr>\n      <th>Punta Umbría</th>\n      <td>657.0</td>\n      <td>1.0</td>\n      <td>8.0</td>\n      <td>15355.0</td>\n      <td>6.512537</td>\n      <td>52.100293</td>\n      <td>0.0</td>\n      <td>0.125000</td>\n    </tr>\n    <tr>\n      <th>Bollullos Par del Condado</th>\n      <td>610.0</td>\n      <td>2.0</td>\n      <td>14.0</td>\n      <td>14387.0</td>\n      <td>13.901439</td>\n      <td>97.310072</td>\n      <td>2.0</td>\n      <td>0.142857</td>\n    </tr>\n    <tr>\n      <th>Palos de la Frontera</th>\n      <td>449.0</td>\n      <td>1.0</td>\n      <td>6.0</td>\n      <td>11742.0</td>\n      <td>8.516437</td>\n      <td>51.098620</td>\n      <td>0.0</td>\n      <td>0.166667</td>\n    </tr>\n    <tr>\n      <th>Sierra de Huelva-Andévalo Central</th>\n      <td>2298.0</td>\n      <td>1.0</td>\n      <td>5.0</td>\n      <td>67391.0</td>\n      <td>1.483878</td>\n      <td>7.419388</td>\n      <td>0.0</td>\n      <td>0.200000</td>\n    </tr>\n    <tr>\n      <th>Rociana del Condado</th>\n      <td>310.0</td>\n      <td>1.0</td>\n      <td>5.0</td>\n      <td>7939.0</td>\n      <td>12.596045</td>\n      <td>62.980224</td>\n      <td>0.0</td>\n      <td>0.200000</td>\n    </tr>\n    <tr>\n      <th>Villablanca</th>\n      <td>176.0</td>\n      <td>2.0</td>\n      <td>8.0</td>\n      <td>2885.0</td>\n      <td>69.324090</td>\n      <td>277.296360</td>\n      <td>0.0</td>\n      <td>0.250000</td>\n    </tr>\n    <tr>\n      <th>Aljaraque</th>\n      <td>924.0</td>\n      <td>3.0</td>\n      <td>11.0</td>\n      <td>21474.0</td>\n      <td>13.970383</td>\n      <td>51.224737</td>\n      <td>0.0</td>\n      <td>0.272727</td>\n    </tr>\n    <tr>\n      <th>Lepe</th>\n      <td>1994.0</td>\n      <td>8.0</td>\n      <td>29.0</td>\n      <td>27880.0</td>\n      <td>28.694405</td>\n      <td>104.017217</td>\n      <td>0.0</td>\n      <td>0.275862</td>\n    </tr>\n    <tr>\n      <th>Isla Cristina</th>\n      <td>1978.0</td>\n      <td>3.0</td>\n      <td>9.0</td>\n      <td>21393.0</td>\n      <td>14.023279</td>\n      <td>42.069836</td>\n      <td>1.0</td>\n      <td>0.333333</td>\n    </tr>\n    <tr>\n      <th>Cartaya</th>\n      <td>946.0</td>\n      <td>11.0</td>\n      <td>31.0</td>\n      <td>20083.0</td>\n      <td>54.772693</td>\n      <td>154.359408</td>\n      <td>0.0</td>\n      <td>0.354839</td>\n    </tr>\n    <tr>\n      <th>Huelva-Costa</th>\n      <td>15001.0</td>\n      <td>71.0</td>\n      <td>198.0</td>\n      <td>289548.0</td>\n      <td>24.520978</td>\n      <td>68.382444</td>\n      <td>6.0</td>\n      <td>0.358586</td>\n    </tr>\n    <tr>\n      <th>Huelva</th>\n      <td>24592.0</td>\n      <td>119.0</td>\n      <td>327.0</td>\n      <td>513170.0</td>\n      <td>23.189197</td>\n      <td>63.721574</td>\n      <td>6.0</td>\n      <td>0.363914</td>\n    </tr>\n    <tr>\n      <th>Huelva (capital)</th>\n      <td>6554.0</td>\n      <td>30.0</td>\n      <td>77.0</td>\n      <td>143837.0</td>\n      <td>20.856942</td>\n      <td>53.532818</td>\n      <td>4.0</td>\n      <td>0.389610</td>\n    </tr>\n    <tr>\n      <th>Condado-Campiña</th>\n      <td>6880.0</td>\n      <td>46.0</td>\n      <td>118.0</td>\n      <td>156231.0</td>\n      <td>29.443580</td>\n      <td>75.529184</td>\n      <td>8.0</td>\n      <td>0.389831</td>\n    </tr>\n    <tr>\n      <th>Moguer</th>\n      <td>829.0</td>\n      <td>9.0</td>\n      <td>23.0</td>\n      <td>21867.0</td>\n      <td>41.157909</td>\n      <td>105.181323</td>\n      <td>2.0</td>\n      <td>0.391304</td>\n    </tr>\n    <tr>\n      <th>Palma del Condado (La)</th>\n      <td>977.0</td>\n      <td>7.0</td>\n      <td>15.0</td>\n      <td>10801.0</td>\n      <td>64.808814</td>\n      <td>138.876030</td>\n      <td>1.0</td>\n      <td>0.466667</td>\n    </tr>\n    <tr>\n      <th>Almonte</th>\n      <td>864.0</td>\n      <td>16.0</td>\n      <td>32.0</td>\n      <td>24507.0</td>\n      <td>65.287469</td>\n      <td>130.574938</td>\n      <td>1.0</td>\n      <td>0.500000</td>\n    </tr>\n    <tr>\n      <th>Ayamonte</th>\n      <td>1194.0</td>\n      <td>8.0</td>\n      <td>13.0</td>\n      <td>21104.0</td>\n      <td>37.907506</td>\n      <td>61.599697</td>\n      <td>1.0</td>\n      <td>0.615385</td>\n    </tr>\n    <tr>\n      <th>Puebla de Guzmán</th>\n      <td>87.0</td>\n      <td>5.0</td>\n      <td>7.0</td>\n      <td>3092.0</td>\n      <td>161.707633</td>\n      <td>226.390686</td>\n      <td>0.0</td>\n      <td>0.714286</td>\n    </tr>\n    <tr>\n      <th>Lucena del Puerto</th>\n      <td>153.0</td>\n      <td>6.0</td>\n      <td>7.0</td>\n      <td>3261.0</td>\n      <td>183.992640</td>\n      <td>214.658080</td>\n      <td>1.0</td>\n      <td>0.857143</td>\n    </tr>\n    <tr>\n      <th>Trigueros</th>\n      <td>228.0</td>\n      <td>1.0</td>\n      <td>1.0</td>\n      <td>7862.0</td>\n      <td>12.719410</td>\n      <td>12.719410</td>\n      <td>0.0</td>\n      <td>1.000000</td>\n    </tr>\n    <tr>\n      <th>Paterna del Campo</th>\n      <td>111.0</td>\n      <td>1.0</td>\n      <td>1.0</td>\n      <td>3457.0</td>\n      <td>28.926815</td>\n      <td>28.926815</td>\n      <td>0.0</td>\n      <td>1.000000</td>\n    </tr>\n    <tr>\n      <th>Aracena</th>\n      <td>450.0</td>\n      <td>1.0</td>\n      <td>1.0</td>\n      <td>8255.0</td>\n      <td>12.113870</td>\n      <td>12.113870</td>\n      <td>0.0</td>\n      <td>1.000000</td>\n    </tr>\n    <tr>\n      <th>San Bartolomé de la Torre</th>\n      <td>193.0</td>\n      <td>2.0</td>\n      <td>2.0</td>\n      <td>3761.0</td>\n      <td>53.177346</td>\n      <td>53.177346</td>\n      <td>0.0</td>\n      <td>1.000000</td>\n    </tr>\n  </tbody>\n</table>\n</div>"
     },
     "metadata": {},
     "execution_count": 18
    }
   ],
   "source": [
    "# Peso de la tasa de la última semana en relación con la tasa a 14 días \n",
    "# Mejor cuanto menor. Valor 1 significa que no había casos antes de 7 días.\n",
    "tabla['7/14'] = tabla['tasa7'] / tabla['tasa14']\n",
    "tabla.fillna(0).sort_values('7/14', ascending=True)"
   ]
  },
  {
   "cell_type": "code",
   "execution_count": null,
   "metadata": {},
   "outputs": [],
   "source": []
  }
 ]
}