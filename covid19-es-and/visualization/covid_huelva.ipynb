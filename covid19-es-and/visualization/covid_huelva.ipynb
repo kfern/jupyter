{
 "metadata": {
  "language_info": {
   "codemirror_mode": {
    "name": "ipython",
    "version": 3
   },
   "file_extension": ".py",
   "mimetype": "text/x-python",
   "name": "python",
   "nbconvert_exporter": "python",
   "pygments_lexer": "ipython3",
   "version": "3.6.9-final"
  },
  "orig_nbformat": 2,
  "kernelspec": {
   "name": "Python 3.6.9 64-bit",
   "display_name": "Python 3.6.9 64-bit",
   "metadata": {
    "interpreter": {
     "hash": "31f2aee4e71d21fbe5cf8b01ff0e069b9275f58929596ceb00d14d90e3e16cd6"
    }
   }
  }
 },
 "nbformat": 4,
 "nbformat_minor": 2,
 "cells": [
  {
   "cell_type": "code",
   "execution_count": 1,
   "metadata": {},
   "outputs": [],
   "source": [
    "import pandas as pd"
   ]
  },
  {
   "cell_type": "code",
   "execution_count": 2,
   "metadata": {},
   "outputs": [],
   "source": [
    "url = 'https://www.juntadeandalucia.es/institutodeestadisticaycartografia/badea/stpivot/stpivot/Print?cube=013d884c-cfc5-4c21-9e78-e26225682afd&type=3&foto=si&ejecutaDesde=&codConsulta=38668&consTipoVisua=JP'\n",
    "fields = ['Lugar de residencia', 'Medida', 'Valor']\n",
    "df = pd.read_csv(url, delimiter=';', usecols=fields, decimal=',')"
   ]
  },
  {
   "cell_type": "code",
   "execution_count": 3,
   "metadata": {},
   "outputs": [],
   "source": [
    "df['Valor'] = pd.to_numeric(df['Valor'],errors='coerce')"
   ]
  },
  {
   "cell_type": "code",
   "execution_count": 4,
   "metadata": {},
   "outputs": [],
   "source": [
    "dfAnterior = pd.read_csv('covid_huelva.csv', index_col='Lugar de residencia')"
   ]
  },
  {
   "cell_type": "code",
   "execution_count": 5,
   "metadata": {
    "tags": []
   },
   "outputs": [
    {
     "output_type": "stream",
     "name": "stdout",
     "text": "Confirmados PCR en la provincia de Huelva:  1442.0\n"
    }
   ],
   "source": [
    "# Confirmados PCR provincia Huelva\n",
    "p = df[df['Lugar de residencia'] == 'Huelva'][df['Medida'] == 'Confirmados PCR']['Valor'].values[0]\n",
    "print('Confirmados PCR en la provincia de Huelva: ', p)"
   ]
  },
  {
   "cell_type": "code",
   "execution_count": 6,
   "metadata": {
    "tags": []
   },
   "outputs": [
    {
     "output_type": "stream",
     "name": "stdout",
     "text": "Confirmados PCR en Huelva capital:  355.0\n"
    }
   ],
   "source": [
    "# Confirmados PCR Huelva capital\n",
    "c = df[df['Lugar de residencia'] == 'Huelva (capital)'][df['Medida'] == 'Confirmados PCR']['Valor'].values[0]\n",
    "print('Confirmados PCR en Huelva capital: ', c)"
   ]
  },
  {
   "cell_type": "code",
   "execution_count": 7,
   "metadata": {
    "tags": []
   },
   "outputs": [],
   "source": [
    "c7 = df[df['Lugar de residencia'] == 'Huelva (capital)'][df['Medida'] == 'Confirmados PCR 7 días']['Valor'].values[0]\n",
    "c14 = df[df['Lugar de residencia'] == 'Huelva (capital)'][df['Medida'] == 'Confirmados PCR 14 días']['Valor'].values[0]\n",
    "p = df[df['Lugar de residencia'] == 'Huelva (capital)'][df['Medida'] == 'Población']['Valor'].values[0]"
   ]
  },
  {
   "cell_type": "code",
   "execution_count": 8,
   "metadata": {
    "tags": []
   },
   "outputs": [
    {
     "output_type": "stream",
     "name": "stdout",
     "text": "Huelva (capital)\n\nUn positivo PCR cada 4105 personas en los últimos 7 días \n\nUn positivo PCR cada 1710 personas en los últimos 14 días\n"
    }
   ],
   "source": [
    "print('Huelva (capital)\\n')\n",
    "#print('Confirmados PCR 7 días x 1,000 habitantes: ', f\"{c7/(p/1000):.5f}\")\n",
    "print('Un positivo PCR cada', f\"{p/c7:.0f}\", 'personas en los últimos 7 días', '\\n')\n",
    "#print('Confirmados PCR 14 días x 1,000 habitantes: ', f\"{c14/(p/1000):.5f}\")\n",
    "print('Un positivo PCR cada', f\"{p/c14:.0f}\", 'personas en los últimos 14 días')"
   ]
  },
  {
   "cell_type": "code",
   "execution_count": 9,
   "metadata": {},
   "outputs": [],
   "source": [
    "filtro = ((df['Medida'] == 'Confirmados PCR')| (df['Medida'] == 'Confirmados PCR 7 días') | (df['Medida'] == 'Población' ) | (df['Medida'] == 'Confirmados PCR 14 días')) & (df['Valor'] > 0)\n",
    "tabla = pd.pivot_table(df.loc[filtro], values='Valor', index='Lugar de residencia', columns='Medida').dropna()"
   ]
  },
  {
   "cell_type": "code",
   "execution_count": 10,
   "metadata": {},
   "outputs": [],
   "source": [
    "# Reorder columns\n",
    "tabla = tabla[['Confirmados PCR', 'Confirmados PCR 7 días', 'Confirmados PCR 14 días', 'Población']]"
   ]
  },
  {
   "cell_type": "code",
   "execution_count": 11,
   "metadata": {},
   "outputs": [],
   "source": [
    "tabla['tasa7'] = tabla['Confirmados PCR 7 días']/tabla['Población']*100000\n",
    "tabla['tasa14'] = tabla['Confirmados PCR 14 días']/tabla['Población']*100000"
   ]
  },
  {
   "cell_type": "code",
   "execution_count": 12,
   "metadata": {},
   "outputs": [],
   "source": [
    "tabla['Diferencia PCR'] = tabla['Confirmados PCR'] - dfAnterior['Confirmados PCR']"
   ]
  },
  {
   "cell_type": "code",
   "execution_count": 13,
   "metadata": {},
   "outputs": [
    {
     "output_type": "execute_result",
     "data": {
      "text/plain": "Medida                             Confirmados PCR  Confirmados PCR 7 días  \\\nLugar de residencia                                                          \nHuelva                                      1442.0                   234.0   \nHuelva-Costa                                 746.0                    94.0   \nCondado-Campiña                              465.0                   104.0   \nPalma del Condado (La)                        64.0                    28.0   \nLepe                                          99.0                    24.0   \nGibraleón                                     21.0                     5.0   \nHuelva (capital)                             355.0                    35.0   \nVillanueva de los Castillejos                  6.0                     4.0   \nAyamonte                                      50.0                     5.0   \nIsla Cristina                                 66.0                     4.0   \nPaterna del Campo                             11.0                     4.0   \nSierra de Huelva-Andévalo Central            207.0                    34.0   \nPunta Umbría                                  35.0                     6.0   \nAljaraque                                     71.0                     5.0   \nMoguer                                        41.0                    10.0   \nCerro de Andévalo (El)                         4.0                     3.0   \nBollullos Par del Condado                     84.0                    33.0   \nVillarrasa                                     5.0                     1.0   \nNiebla                                         3.0                     1.0   \n\nMedida                             Confirmados PCR 14 días  Población  \\\nLugar de residencia                                                     \nHuelva                                               408.0   510743.0   \nHuelva-Costa                                         195.0   288115.0   \nCondado-Campiña                                      156.0   155057.0   \nPalma del Condado (La)                                32.0    10761.0   \nLepe                                                  32.0    27431.0   \nGibraleón                                              9.0    12607.0   \nHuelva (capital)                                      84.0   143663.0   \nVillanueva de los Castillejos                          4.0     2820.0   \nAyamonte                                              20.0    20946.0   \nIsla Cristina                                         13.0    21264.0   \nPaterna del Campo                                      4.0     3509.0   \nSierra de Huelva-Andévalo Central                     52.0    67571.0   \nPunta Umbría                                          12.0    15242.0   \nAljaraque                                             12.0    21260.0   \nMoguer                                                15.0    22088.0   \nCerro de Andévalo (El)                                 3.0     2364.0   \nBollullos Par del Condado                             48.0    14272.0   \nVillarrasa                                             2.0     2176.0   \nNiebla                                                 1.0     4117.0   \n\nMedida                                  tasa7      tasa14  Diferencia PCR  \nLugar de residencia                                                        \nHuelva                              45.815606   79.883621            41.0  \nHuelva-Costa                        32.625861   67.681308            21.0  \nCondado-Campiña                     67.072109  100.608163            19.0  \nPalma del Condado (La)             260.198866  297.370133            10.0  \nLepe                                87.492253  116.656338             7.0  \nGibraleón                           39.660506   71.388911             4.0  \nHuelva (capital)                    24.362571   58.470170             4.0  \nVillanueva de los Castillejos      141.843972  141.843972             3.0  \nAyamonte                            23.870906   95.483625             3.0  \nIsla Cristina                       18.811136   61.136193             2.0  \nPaterna del Campo                  113.992590  113.992590             1.0  \nSierra de Huelva-Andévalo Central   50.317444   76.956091             1.0  \nPunta Umbría                        39.364913   78.729825             1.0  \nAljaraque                           23.518344   56.444026             1.0  \nMoguer                              45.273452   67.910177             1.0  \nCerro de Andévalo (El)             126.903553  126.903553             1.0  \nBollullos Par del Condado          231.221973  336.322870             1.0  \nVillarrasa                          45.955882   91.911765             1.0  \nNiebla                              24.289531   24.289531             NaN  ",
      "text/html": "<div>\n<style scoped>\n    .dataframe tbody tr th:only-of-type {\n        vertical-align: middle;\n    }\n\n    .dataframe tbody tr th {\n        vertical-align: top;\n    }\n\n    .dataframe thead th {\n        text-align: right;\n    }\n</style>\n<table border=\"1\" class=\"dataframe\">\n  <thead>\n    <tr style=\"text-align: right;\">\n      <th>Medida</th>\n      <th>Confirmados PCR</th>\n      <th>Confirmados PCR 7 días</th>\n      <th>Confirmados PCR 14 días</th>\n      <th>Población</th>\n      <th>tasa7</th>\n      <th>tasa14</th>\n      <th>Diferencia PCR</th>\n    </tr>\n    <tr>\n      <th>Lugar de residencia</th>\n      <th></th>\n      <th></th>\n      <th></th>\n      <th></th>\n      <th></th>\n      <th></th>\n      <th></th>\n    </tr>\n  </thead>\n  <tbody>\n    <tr>\n      <th>Huelva</th>\n      <td>1442.0</td>\n      <td>234.0</td>\n      <td>408.0</td>\n      <td>510743.0</td>\n      <td>45.815606</td>\n      <td>79.883621</td>\n      <td>41.0</td>\n    </tr>\n    <tr>\n      <th>Huelva-Costa</th>\n      <td>746.0</td>\n      <td>94.0</td>\n      <td>195.0</td>\n      <td>288115.0</td>\n      <td>32.625861</td>\n      <td>67.681308</td>\n      <td>21.0</td>\n    </tr>\n    <tr>\n      <th>Condado-Campiña</th>\n      <td>465.0</td>\n      <td>104.0</td>\n      <td>156.0</td>\n      <td>155057.0</td>\n      <td>67.072109</td>\n      <td>100.608163</td>\n      <td>19.0</td>\n    </tr>\n    <tr>\n      <th>Palma del Condado (La)</th>\n      <td>64.0</td>\n      <td>28.0</td>\n      <td>32.0</td>\n      <td>10761.0</td>\n      <td>260.198866</td>\n      <td>297.370133</td>\n      <td>10.0</td>\n    </tr>\n    <tr>\n      <th>Lepe</th>\n      <td>99.0</td>\n      <td>24.0</td>\n      <td>32.0</td>\n      <td>27431.0</td>\n      <td>87.492253</td>\n      <td>116.656338</td>\n      <td>7.0</td>\n    </tr>\n    <tr>\n      <th>Gibraleón</th>\n      <td>21.0</td>\n      <td>5.0</td>\n      <td>9.0</td>\n      <td>12607.0</td>\n      <td>39.660506</td>\n      <td>71.388911</td>\n      <td>4.0</td>\n    </tr>\n    <tr>\n      <th>Huelva (capital)</th>\n      <td>355.0</td>\n      <td>35.0</td>\n      <td>84.0</td>\n      <td>143663.0</td>\n      <td>24.362571</td>\n      <td>58.470170</td>\n      <td>4.0</td>\n    </tr>\n    <tr>\n      <th>Villanueva de los Castillejos</th>\n      <td>6.0</td>\n      <td>4.0</td>\n      <td>4.0</td>\n      <td>2820.0</td>\n      <td>141.843972</td>\n      <td>141.843972</td>\n      <td>3.0</td>\n    </tr>\n    <tr>\n      <th>Ayamonte</th>\n      <td>50.0</td>\n      <td>5.0</td>\n      <td>20.0</td>\n      <td>20946.0</td>\n      <td>23.870906</td>\n      <td>95.483625</td>\n      <td>3.0</td>\n    </tr>\n    <tr>\n      <th>Isla Cristina</th>\n      <td>66.0</td>\n      <td>4.0</td>\n      <td>13.0</td>\n      <td>21264.0</td>\n      <td>18.811136</td>\n      <td>61.136193</td>\n      <td>2.0</td>\n    </tr>\n    <tr>\n      <th>Paterna del Campo</th>\n      <td>11.0</td>\n      <td>4.0</td>\n      <td>4.0</td>\n      <td>3509.0</td>\n      <td>113.992590</td>\n      <td>113.992590</td>\n      <td>1.0</td>\n    </tr>\n    <tr>\n      <th>Sierra de Huelva-Andévalo Central</th>\n      <td>207.0</td>\n      <td>34.0</td>\n      <td>52.0</td>\n      <td>67571.0</td>\n      <td>50.317444</td>\n      <td>76.956091</td>\n      <td>1.0</td>\n    </tr>\n    <tr>\n      <th>Punta Umbría</th>\n      <td>35.0</td>\n      <td>6.0</td>\n      <td>12.0</td>\n      <td>15242.0</td>\n      <td>39.364913</td>\n      <td>78.729825</td>\n      <td>1.0</td>\n    </tr>\n    <tr>\n      <th>Aljaraque</th>\n      <td>71.0</td>\n      <td>5.0</td>\n      <td>12.0</td>\n      <td>21260.0</td>\n      <td>23.518344</td>\n      <td>56.444026</td>\n      <td>1.0</td>\n    </tr>\n    <tr>\n      <th>Moguer</th>\n      <td>41.0</td>\n      <td>10.0</td>\n      <td>15.0</td>\n      <td>22088.0</td>\n      <td>45.273452</td>\n      <td>67.910177</td>\n      <td>1.0</td>\n    </tr>\n    <tr>\n      <th>Cerro de Andévalo (El)</th>\n      <td>4.0</td>\n      <td>3.0</td>\n      <td>3.0</td>\n      <td>2364.0</td>\n      <td>126.903553</td>\n      <td>126.903553</td>\n      <td>1.0</td>\n    </tr>\n    <tr>\n      <th>Bollullos Par del Condado</th>\n      <td>84.0</td>\n      <td>33.0</td>\n      <td>48.0</td>\n      <td>14272.0</td>\n      <td>231.221973</td>\n      <td>336.322870</td>\n      <td>1.0</td>\n    </tr>\n    <tr>\n      <th>Villarrasa</th>\n      <td>5.0</td>\n      <td>1.0</td>\n      <td>2.0</td>\n      <td>2176.0</td>\n      <td>45.955882</td>\n      <td>91.911765</td>\n      <td>1.0</td>\n    </tr>\n    <tr>\n      <th>Niebla</th>\n      <td>3.0</td>\n      <td>1.0</td>\n      <td>1.0</td>\n      <td>4117.0</td>\n      <td>24.289531</td>\n      <td>24.289531</td>\n      <td>NaN</td>\n    </tr>\n  </tbody>\n</table>\n</div>"
     },
     "metadata": {},
     "execution_count": 13
    }
   ],
   "source": [
    "# Nuevos casos desde la última captura\n",
    "tabla[tabla['Diferencia PCR'] != 0].sort_values('Diferencia PCR', ascending=False)"
   ]
  },
  {
   "cell_type": "code",
   "execution_count": 14,
   "metadata": {},
   "outputs": [],
   "source": [
    "if tabla[tabla['Diferencia PCR'] != 0]['Diferencia PCR'].sum() > 0:\n",
    "  # Save to csv\n",
    "  tabla.to_csv('covid_huelva.csv', encoding='utf-8', header=True, index=True)  "
   ]
  },
  {
   "cell_type": "code",
   "execution_count": 15,
   "metadata": {},
   "outputs": [
    {
     "output_type": "execute_result",
     "data": {
      "text/plain": "Medida                             Confirmados PCR  Confirmados PCR 7 días  \\\nLugar de residencia                                                          \nCampillo (El)                                 26.0                    24.0   \nManzanilla                                    13.0                     9.0   \nAlmendro (El)                                  4.0                     3.0   \nBollullos Par del Condado                     84.0                    33.0   \nPalma del Condado (La)                        64.0                    28.0   \nGranado (El)                                   2.0                     1.0   \nJabugo                                         5.0                     1.0   \nAroche                                         9.0                     1.0   \nVillanueva de los Castillejos                  6.0                     4.0   \nCerro de Andévalo (El)                         4.0                     3.0   \nLepe                                          99.0                    24.0   \nPaterna del Campo                             11.0                     4.0   \nVillablanca                                    5.0                     3.0   \nCondado-Campiña                              465.0                   104.0   \nAyamonte                                      50.0                     5.0   \nVillarrasa                                     5.0                     1.0   \nTrigueros                                     36.0                     3.0   \nHuelva                                      1442.0                   234.0   \nPunta Umbría                                  35.0                     6.0   \nSierra de Huelva-Andévalo Central            207.0                    34.0   \nAlosno                                         6.0                     2.0   \nGibraleón                                     21.0                     5.0   \nMoguer                                        41.0                    10.0   \nHuelva-Costa                                 746.0                    94.0   \nZalamea la Real                               21.0                     1.0   \nIsla Cristina                                 66.0                     4.0   \nLucena del Puerto                              7.0                     2.0   \nHuelva (capital)                             355.0                    35.0   \nCumbres Mayores                                2.0                     1.0   \nAljaraque                                     71.0                     5.0   \nPalos de la Frontera                          27.0                     1.0   \nMinas de Riotinto                             17.0                     1.0   \nAlmonte                                       53.0                     4.0   \nBonares                                        5.0                     1.0   \nCartaya                                       25.0                     2.0   \nSan Bartolomé de la Torre                      3.0                     1.0   \nRociana del Condado                            7.0                     1.0   \nNiebla                                         3.0                     1.0   \nCortegana                                     10.0                     1.0   \nValverde del Camino                           27.0                     1.0   \n\nMedida                             Confirmados PCR 14 días  Población  \\\nLugar de residencia                                                     \nCampillo (El)                                         24.0     2023.0   \nManzanilla                                             9.0     2135.0   \nAlmendro (El)                                          3.0      826.0   \nBollullos Par del Condado                             48.0    14272.0   \nPalma del Condado (La)                                32.0    10761.0   \nGranado (El)                                           1.0      516.0   \nJabugo                                                 4.0     2250.0   \nAroche                                                 5.0     3073.0   \nVillanueva de los Castillejos                          4.0     2820.0   \nCerro de Andévalo (El)                                 3.0     2364.0   \nLepe                                                  32.0    27431.0   \nPaterna del Campo                                      4.0     3509.0   \nVillablanca                                            3.0     2848.0   \nCondado-Campiña                                      156.0   155057.0   \nAyamonte                                              20.0    20946.0   \nVillarrasa                                             2.0     2176.0   \nTrigueros                                              7.0     7713.0   \nHuelva                                               408.0   510743.0   \nPunta Umbría                                          12.0    15242.0   \nSierra de Huelva-Andévalo Central                     52.0    67571.0   \nAlosno                                                 3.0     3923.0   \nGibraleón                                              9.0    12607.0   \nMoguer                                                15.0    22088.0   \nHuelva-Costa                                         195.0   288115.0   \nZalamea la Real                                        2.0     3068.0   \nIsla Cristina                                         13.0    21264.0   \nLucena del Puerto                                      2.0     3371.0   \nHuelva (capital)                                      84.0   143663.0   \nCumbres Mayores                                        1.0     1755.0   \nAljaraque                                             12.0    21260.0   \nPalos de la Frontera                                   6.0    11289.0   \nMinas de Riotinto                                      2.0     3848.0   \nAlmonte                                                9.0    24191.0   \nBonares                                                2.0     6058.0   \nCartaya                                                6.0    19974.0   \nSan Bartolomé de la Torre                              1.0     3736.0   \nRociana del Condado                                    2.0     7855.0   \nNiebla                                                 1.0     4117.0   \nCortegana                                              1.0     4666.0   \nValverde del Camino                                    1.0    12820.0   \n\nMedida                                   tasa7       tasa14  Diferencia PCR  \nLugar de residencia                                                          \nCampillo (El)                      1186.356896  1186.356896             0.0  \nManzanilla                          421.545667   421.545667             0.0  \nAlmendro (El)                       363.196126   363.196126             0.0  \nBollullos Par del Condado           231.221973   336.322870             1.0  \nPalma del Condado (La)              260.198866   297.370133            10.0  \nGranado (El)                        193.798450   193.798450             0.0  \nJabugo                               44.444444   177.777778             0.0  \nAroche                               32.541490   162.707452             0.0  \nVillanueva de los Castillejos       141.843972   141.843972             3.0  \nCerro de Andévalo (El)              126.903553   126.903553             1.0  \nLepe                                 87.492253   116.656338             7.0  \nPaterna del Campo                   113.992590   113.992590             1.0  \nVillablanca                         105.337079   105.337079             0.0  \nCondado-Campiña                      67.072109   100.608163            19.0  \nAyamonte                             23.870906    95.483625             3.0  \nVillarrasa                           45.955882    91.911765             1.0  \nTrigueros                            38.895371    90.755867             0.0  \nHuelva                               45.815606    79.883621            41.0  \nPunta Umbría                         39.364913    78.729825             1.0  \nSierra de Huelva-Andévalo Central    50.317444    76.956091             1.0  \nAlosno                               50.981392    76.472088             0.0  \nGibraleón                            39.660506    71.388911             4.0  \nMoguer                               45.273452    67.910177             1.0  \nHuelva-Costa                         32.625861    67.681308            21.0  \nZalamea la Real                      32.594524    65.189048             0.0  \nIsla Cristina                        18.811136    61.136193             2.0  \nLucena del Puerto                    59.329576    59.329576             0.0  \nHuelva (capital)                     24.362571    58.470170             4.0  \nCumbres Mayores                      56.980057    56.980057             0.0  \nAljaraque                            23.518344    56.444026             1.0  \nPalos de la Frontera                  8.858181    53.149083             0.0  \nMinas de Riotinto                    25.987526    51.975052             0.0  \nAlmonte                              16.535075    37.203919             0.0  \nBonares                              16.507098    33.014196             0.0  \nCartaya                              10.013017    30.039051             0.0  \nSan Bartolomé de la Torre            26.766595    26.766595             0.0  \nRociana del Condado                  12.730745    25.461489             0.0  \nNiebla                               24.289531    24.289531             NaN  \nCortegana                            21.431633    21.431633             0.0  \nValverde del Camino                   7.800312     7.800312             0.0  ",
      "text/html": "<div>\n<style scoped>\n    .dataframe tbody tr th:only-of-type {\n        vertical-align: middle;\n    }\n\n    .dataframe tbody tr th {\n        vertical-align: top;\n    }\n\n    .dataframe thead th {\n        text-align: right;\n    }\n</style>\n<table border=\"1\" class=\"dataframe\">\n  <thead>\n    <tr style=\"text-align: right;\">\n      <th>Medida</th>\n      <th>Confirmados PCR</th>\n      <th>Confirmados PCR 7 días</th>\n      <th>Confirmados PCR 14 días</th>\n      <th>Población</th>\n      <th>tasa7</th>\n      <th>tasa14</th>\n      <th>Diferencia PCR</th>\n    </tr>\n    <tr>\n      <th>Lugar de residencia</th>\n      <th></th>\n      <th></th>\n      <th></th>\n      <th></th>\n      <th></th>\n      <th></th>\n      <th></th>\n    </tr>\n  </thead>\n  <tbody>\n    <tr>\n      <th>Campillo (El)</th>\n      <td>26.0</td>\n      <td>24.0</td>\n      <td>24.0</td>\n      <td>2023.0</td>\n      <td>1186.356896</td>\n      <td>1186.356896</td>\n      <td>0.0</td>\n    </tr>\n    <tr>\n      <th>Manzanilla</th>\n      <td>13.0</td>\n      <td>9.0</td>\n      <td>9.0</td>\n      <td>2135.0</td>\n      <td>421.545667</td>\n      <td>421.545667</td>\n      <td>0.0</td>\n    </tr>\n    <tr>\n      <th>Almendro (El)</th>\n      <td>4.0</td>\n      <td>3.0</td>\n      <td>3.0</td>\n      <td>826.0</td>\n      <td>363.196126</td>\n      <td>363.196126</td>\n      <td>0.0</td>\n    </tr>\n    <tr>\n      <th>Bollullos Par del Condado</th>\n      <td>84.0</td>\n      <td>33.0</td>\n      <td>48.0</td>\n      <td>14272.0</td>\n      <td>231.221973</td>\n      <td>336.322870</td>\n      <td>1.0</td>\n    </tr>\n    <tr>\n      <th>Palma del Condado (La)</th>\n      <td>64.0</td>\n      <td>28.0</td>\n      <td>32.0</td>\n      <td>10761.0</td>\n      <td>260.198866</td>\n      <td>297.370133</td>\n      <td>10.0</td>\n    </tr>\n    <tr>\n      <th>Granado (El)</th>\n      <td>2.0</td>\n      <td>1.0</td>\n      <td>1.0</td>\n      <td>516.0</td>\n      <td>193.798450</td>\n      <td>193.798450</td>\n      <td>0.0</td>\n    </tr>\n    <tr>\n      <th>Jabugo</th>\n      <td>5.0</td>\n      <td>1.0</td>\n      <td>4.0</td>\n      <td>2250.0</td>\n      <td>44.444444</td>\n      <td>177.777778</td>\n      <td>0.0</td>\n    </tr>\n    <tr>\n      <th>Aroche</th>\n      <td>9.0</td>\n      <td>1.0</td>\n      <td>5.0</td>\n      <td>3073.0</td>\n      <td>32.541490</td>\n      <td>162.707452</td>\n      <td>0.0</td>\n    </tr>\n    <tr>\n      <th>Villanueva de los Castillejos</th>\n      <td>6.0</td>\n      <td>4.0</td>\n      <td>4.0</td>\n      <td>2820.0</td>\n      <td>141.843972</td>\n      <td>141.843972</td>\n      <td>3.0</td>\n    </tr>\n    <tr>\n      <th>Cerro de Andévalo (El)</th>\n      <td>4.0</td>\n      <td>3.0</td>\n      <td>3.0</td>\n      <td>2364.0</td>\n      <td>126.903553</td>\n      <td>126.903553</td>\n      <td>1.0</td>\n    </tr>\n    <tr>\n      <th>Lepe</th>\n      <td>99.0</td>\n      <td>24.0</td>\n      <td>32.0</td>\n      <td>27431.0</td>\n      <td>87.492253</td>\n      <td>116.656338</td>\n      <td>7.0</td>\n    </tr>\n    <tr>\n      <th>Paterna del Campo</th>\n      <td>11.0</td>\n      <td>4.0</td>\n      <td>4.0</td>\n      <td>3509.0</td>\n      <td>113.992590</td>\n      <td>113.992590</td>\n      <td>1.0</td>\n    </tr>\n    <tr>\n      <th>Villablanca</th>\n      <td>5.0</td>\n      <td>3.0</td>\n      <td>3.0</td>\n      <td>2848.0</td>\n      <td>105.337079</td>\n      <td>105.337079</td>\n      <td>0.0</td>\n    </tr>\n    <tr>\n      <th>Condado-Campiña</th>\n      <td>465.0</td>\n      <td>104.0</td>\n      <td>156.0</td>\n      <td>155057.0</td>\n      <td>67.072109</td>\n      <td>100.608163</td>\n      <td>19.0</td>\n    </tr>\n    <tr>\n      <th>Ayamonte</th>\n      <td>50.0</td>\n      <td>5.0</td>\n      <td>20.0</td>\n      <td>20946.0</td>\n      <td>23.870906</td>\n      <td>95.483625</td>\n      <td>3.0</td>\n    </tr>\n    <tr>\n      <th>Villarrasa</th>\n      <td>5.0</td>\n      <td>1.0</td>\n      <td>2.0</td>\n      <td>2176.0</td>\n      <td>45.955882</td>\n      <td>91.911765</td>\n      <td>1.0</td>\n    </tr>\n    <tr>\n      <th>Trigueros</th>\n      <td>36.0</td>\n      <td>3.0</td>\n      <td>7.0</td>\n      <td>7713.0</td>\n      <td>38.895371</td>\n      <td>90.755867</td>\n      <td>0.0</td>\n    </tr>\n    <tr>\n      <th>Huelva</th>\n      <td>1442.0</td>\n      <td>234.0</td>\n      <td>408.0</td>\n      <td>510743.0</td>\n      <td>45.815606</td>\n      <td>79.883621</td>\n      <td>41.0</td>\n    </tr>\n    <tr>\n      <th>Punta Umbría</th>\n      <td>35.0</td>\n      <td>6.0</td>\n      <td>12.0</td>\n      <td>15242.0</td>\n      <td>39.364913</td>\n      <td>78.729825</td>\n      <td>1.0</td>\n    </tr>\n    <tr>\n      <th>Sierra de Huelva-Andévalo Central</th>\n      <td>207.0</td>\n      <td>34.0</td>\n      <td>52.0</td>\n      <td>67571.0</td>\n      <td>50.317444</td>\n      <td>76.956091</td>\n      <td>1.0</td>\n    </tr>\n    <tr>\n      <th>Alosno</th>\n      <td>6.0</td>\n      <td>2.0</td>\n      <td>3.0</td>\n      <td>3923.0</td>\n      <td>50.981392</td>\n      <td>76.472088</td>\n      <td>0.0</td>\n    </tr>\n    <tr>\n      <th>Gibraleón</th>\n      <td>21.0</td>\n      <td>5.0</td>\n      <td>9.0</td>\n      <td>12607.0</td>\n      <td>39.660506</td>\n      <td>71.388911</td>\n      <td>4.0</td>\n    </tr>\n    <tr>\n      <th>Moguer</th>\n      <td>41.0</td>\n      <td>10.0</td>\n      <td>15.0</td>\n      <td>22088.0</td>\n      <td>45.273452</td>\n      <td>67.910177</td>\n      <td>1.0</td>\n    </tr>\n    <tr>\n      <th>Huelva-Costa</th>\n      <td>746.0</td>\n      <td>94.0</td>\n      <td>195.0</td>\n      <td>288115.0</td>\n      <td>32.625861</td>\n      <td>67.681308</td>\n      <td>21.0</td>\n    </tr>\n    <tr>\n      <th>Zalamea la Real</th>\n      <td>21.0</td>\n      <td>1.0</td>\n      <td>2.0</td>\n      <td>3068.0</td>\n      <td>32.594524</td>\n      <td>65.189048</td>\n      <td>0.0</td>\n    </tr>\n    <tr>\n      <th>Isla Cristina</th>\n      <td>66.0</td>\n      <td>4.0</td>\n      <td>13.0</td>\n      <td>21264.0</td>\n      <td>18.811136</td>\n      <td>61.136193</td>\n      <td>2.0</td>\n    </tr>\n    <tr>\n      <th>Lucena del Puerto</th>\n      <td>7.0</td>\n      <td>2.0</td>\n      <td>2.0</td>\n      <td>3371.0</td>\n      <td>59.329576</td>\n      <td>59.329576</td>\n      <td>0.0</td>\n    </tr>\n    <tr>\n      <th>Huelva (capital)</th>\n      <td>355.0</td>\n      <td>35.0</td>\n      <td>84.0</td>\n      <td>143663.0</td>\n      <td>24.362571</td>\n      <td>58.470170</td>\n      <td>4.0</td>\n    </tr>\n    <tr>\n      <th>Cumbres Mayores</th>\n      <td>2.0</td>\n      <td>1.0</td>\n      <td>1.0</td>\n      <td>1755.0</td>\n      <td>56.980057</td>\n      <td>56.980057</td>\n      <td>0.0</td>\n    </tr>\n    <tr>\n      <th>Aljaraque</th>\n      <td>71.0</td>\n      <td>5.0</td>\n      <td>12.0</td>\n      <td>21260.0</td>\n      <td>23.518344</td>\n      <td>56.444026</td>\n      <td>1.0</td>\n    </tr>\n    <tr>\n      <th>Palos de la Frontera</th>\n      <td>27.0</td>\n      <td>1.0</td>\n      <td>6.0</td>\n      <td>11289.0</td>\n      <td>8.858181</td>\n      <td>53.149083</td>\n      <td>0.0</td>\n    </tr>\n    <tr>\n      <th>Minas de Riotinto</th>\n      <td>17.0</td>\n      <td>1.0</td>\n      <td>2.0</td>\n      <td>3848.0</td>\n      <td>25.987526</td>\n      <td>51.975052</td>\n      <td>0.0</td>\n    </tr>\n    <tr>\n      <th>Almonte</th>\n      <td>53.0</td>\n      <td>4.0</td>\n      <td>9.0</td>\n      <td>24191.0</td>\n      <td>16.535075</td>\n      <td>37.203919</td>\n      <td>0.0</td>\n    </tr>\n    <tr>\n      <th>Bonares</th>\n      <td>5.0</td>\n      <td>1.0</td>\n      <td>2.0</td>\n      <td>6058.0</td>\n      <td>16.507098</td>\n      <td>33.014196</td>\n      <td>0.0</td>\n    </tr>\n    <tr>\n      <th>Cartaya</th>\n      <td>25.0</td>\n      <td>2.0</td>\n      <td>6.0</td>\n      <td>19974.0</td>\n      <td>10.013017</td>\n      <td>30.039051</td>\n      <td>0.0</td>\n    </tr>\n    <tr>\n      <th>San Bartolomé de la Torre</th>\n      <td>3.0</td>\n      <td>1.0</td>\n      <td>1.0</td>\n      <td>3736.0</td>\n      <td>26.766595</td>\n      <td>26.766595</td>\n      <td>0.0</td>\n    </tr>\n    <tr>\n      <th>Rociana del Condado</th>\n      <td>7.0</td>\n      <td>1.0</td>\n      <td>2.0</td>\n      <td>7855.0</td>\n      <td>12.730745</td>\n      <td>25.461489</td>\n      <td>0.0</td>\n    </tr>\n    <tr>\n      <th>Niebla</th>\n      <td>3.0</td>\n      <td>1.0</td>\n      <td>1.0</td>\n      <td>4117.0</td>\n      <td>24.289531</td>\n      <td>24.289531</td>\n      <td>NaN</td>\n    </tr>\n    <tr>\n      <th>Cortegana</th>\n      <td>10.0</td>\n      <td>1.0</td>\n      <td>1.0</td>\n      <td>4666.0</td>\n      <td>21.431633</td>\n      <td>21.431633</td>\n      <td>0.0</td>\n    </tr>\n    <tr>\n      <th>Valverde del Camino</th>\n      <td>27.0</td>\n      <td>1.0</td>\n      <td>1.0</td>\n      <td>12820.0</td>\n      <td>7.800312</td>\n      <td>7.800312</td>\n      <td>0.0</td>\n    </tr>\n  </tbody>\n</table>\n</div>"
     },
     "metadata": {},
     "execution_count": 15
    }
   ],
   "source": [
    "tabla.sort_values('tasa14', ascending=False)"
   ]
  },
  {
   "cell_type": "code",
   "execution_count": null,
   "metadata": {},
   "outputs": [],
   "source": []
  }
 ]
}