{
 "metadata": {
  "language_info": {
   "codemirror_mode": {
    "name": "ipython",
    "version": 3
   },
   "file_extension": ".py",
   "mimetype": "text/x-python",
   "name": "python",
   "nbconvert_exporter": "python",
   "pygments_lexer": "ipython3",
   "version": "3.6.9-final"
  },
  "orig_nbformat": 2,
  "kernelspec": {
   "name": "Python 3.6.9 64-bit",
   "display_name": "Python 3.6.9 64-bit",
   "metadata": {
    "interpreter": {
     "hash": "31f2aee4e71d21fbe5cf8b01ff0e069b9275f58929596ceb00d14d90e3e16cd6"
    }
   }
  }
 },
 "nbformat": 4,
 "nbformat_minor": 2,
 "cells": [
  {
   "cell_type": "code",
   "execution_count": 1,
   "metadata": {},
   "outputs": [],
   "source": [
    "import pandas as pd"
   ]
  },
  {
   "cell_type": "code",
   "execution_count": 2,
   "metadata": {},
   "outputs": [],
   "source": [
    "# FIX SSL: CERTIFICATE_VERIFY_FAILED with Python3\n",
    "# https://stackoverflow.com/a/49174340\n",
    "import ssl\n",
    "\n",
    "ssl._create_default_https_context = ssl._create_unverified_context"
   ]
  },
  {
   "cell_type": "code",
   "execution_count": 3,
   "metadata": {},
   "outputs": [],
   "source": [
    "url = 'https://www.juntadeandalucia.es/institutodeestadisticaycartografia/badea/stpivot/stpivot/Print?cube=013d884c-cfc5-4c21-9e78-e26225682afd&type=3&foto=si&ejecutaDesde=&codConsulta=38668&consTipoVisua=JP'\n",
    "fields = ['Lugar de residencia', 'Medida', 'Valor']\n",
    "df = pd.read_csv(url, delimiter=';', usecols=fields, decimal=',')"
   ]
  },
  {
   "cell_type": "code",
   "execution_count": 4,
   "metadata": {},
   "outputs": [
    {
     "output_type": "execute_result",
     "data": {
      "text/plain": [
       "                     Lugar de residencia                    Medida  \\\n",
       "0                                 Huelva                 Población   \n",
       "1                                 Huelva          Confirmados PDIA   \n",
       "2                                 Huelva  Confirmados PDIA 14 días   \n",
       "3                                 Huelva         Tasa PDIA 14 días   \n",
       "4                                 Huelva   Confirmados PDIA 7 días   \n",
       "..                                   ...                       ...   \n",
       "627  Municipio de Huelva sin especificar         Tasa PDIA 14 días   \n",
       "628  Municipio de Huelva sin especificar   Confirmados PDIA 7 días   \n",
       "629  Municipio de Huelva sin especificar        Total Confirmados    \n",
       "630  Municipio de Huelva sin especificar                   Curados   \n",
       "631  Municipio de Huelva sin especificar                Fallecidos   \n",
       "\n",
       "                  Valor  \n",
       "0                510743  \n",
       "1                  1966  \n",
       "2                   567  \n",
       "3    111,01473735322853  \n",
       "4                   303  \n",
       "..                  ...  \n",
       "627                   -  \n",
       "628                   9  \n",
       "629                  33  \n",
       "630                   4  \n",
       "631                   1  \n",
       "\n",
       "[632 rows x 3 columns]"
      ],
      "text/html": "<div>\n<style scoped>\n    .dataframe tbody tr th:only-of-type {\n        vertical-align: middle;\n    }\n\n    .dataframe tbody tr th {\n        vertical-align: top;\n    }\n\n    .dataframe thead th {\n        text-align: right;\n    }\n</style>\n<table border=\"1\" class=\"dataframe\">\n  <thead>\n    <tr style=\"text-align: right;\">\n      <th></th>\n      <th>Lugar de residencia</th>\n      <th>Medida</th>\n      <th>Valor</th>\n    </tr>\n  </thead>\n  <tbody>\n    <tr>\n      <th>0</th>\n      <td>Huelva</td>\n      <td>Población</td>\n      <td>510743</td>\n    </tr>\n    <tr>\n      <th>1</th>\n      <td>Huelva</td>\n      <td>Confirmados PDIA</td>\n      <td>1966</td>\n    </tr>\n    <tr>\n      <th>2</th>\n      <td>Huelva</td>\n      <td>Confirmados PDIA 14 días</td>\n      <td>567</td>\n    </tr>\n    <tr>\n      <th>3</th>\n      <td>Huelva</td>\n      <td>Tasa PDIA 14 días</td>\n      <td>111,01473735322853</td>\n    </tr>\n    <tr>\n      <th>4</th>\n      <td>Huelva</td>\n      <td>Confirmados PDIA 7 días</td>\n      <td>303</td>\n    </tr>\n    <tr>\n      <th>...</th>\n      <td>...</td>\n      <td>...</td>\n      <td>...</td>\n    </tr>\n    <tr>\n      <th>627</th>\n      <td>Municipio de Huelva sin especificar</td>\n      <td>Tasa PDIA 14 días</td>\n      <td>-</td>\n    </tr>\n    <tr>\n      <th>628</th>\n      <td>Municipio de Huelva sin especificar</td>\n      <td>Confirmados PDIA 7 días</td>\n      <td>9</td>\n    </tr>\n    <tr>\n      <th>629</th>\n      <td>Municipio de Huelva sin especificar</td>\n      <td>Total Confirmados</td>\n      <td>33</td>\n    </tr>\n    <tr>\n      <th>630</th>\n      <td>Municipio de Huelva sin especificar</td>\n      <td>Curados</td>\n      <td>4</td>\n    </tr>\n    <tr>\n      <th>631</th>\n      <td>Municipio de Huelva sin especificar</td>\n      <td>Fallecidos</td>\n      <td>1</td>\n    </tr>\n  </tbody>\n</table>\n<p>632 rows × 3 columns</p>\n</div>"
     },
     "metadata": {},
     "execution_count": 4
    }
   ],
   "source": [
    "df"
   ]
  },
  {
   "cell_type": "code",
   "execution_count": 5,
   "metadata": {},
   "outputs": [],
   "source": [
    "df['Valor'] = pd.to_numeric(df['Valor'],errors='coerce')"
   ]
  },
  {
   "cell_type": "code",
   "execution_count": 6,
   "metadata": {},
   "outputs": [],
   "source": [
    "dfAnterior = pd.read_csv('covid_huelva.csv', index_col='Lugar de residencia')"
   ]
  },
  {
   "cell_type": "code",
   "execution_count": 7,
   "metadata": {
    "tags": []
   },
   "outputs": [
    {
     "output_type": "stream",
     "name": "stdout",
     "text": [
      "Confirmados PCR en la provincia de Huelva:  1966.0\n",
      "/home/fernan/.local/lib/python3.6/site-packages/ipykernel_launcher.py:2: UserWarning: Boolean Series key will be reindexed to match DataFrame index.\n",
      "  \n"
     ]
    }
   ],
   "source": [
    "# Confirmados PCR provincia Huelva\n",
    "p = df[df['Lugar de residencia'] == 'Huelva'][df['Medida'] == 'Confirmados PDIA']['Valor'].values[0]\n",
    "print('Confirmados PCR en la provincia de Huelva: ', p)"
   ]
  },
  {
   "cell_type": "code",
   "execution_count": 8,
   "metadata": {
    "tags": []
   },
   "outputs": [
    {
     "output_type": "stream",
     "name": "stdout",
     "text": [
      "Confirmados PCR en Huelva capital:  514.0\n",
      "/home/fernan/.local/lib/python3.6/site-packages/ipykernel_launcher.py:2: UserWarning: Boolean Series key will be reindexed to match DataFrame index.\n",
      "  \n"
     ]
    }
   ],
   "source": [
    "# Confirmados PCR Huelva capitalpd\n",
    "c = df[df['Lugar de residencia'] == 'Huelva (capital)'][df['Medida'] == 'Confirmados PDIA']['Valor'].values[0]\n",
    "print('Confirmados PCR en Huelva capital: ', c)"
   ]
  },
  {
   "cell_type": "code",
   "execution_count": 9,
   "metadata": {
    "tags": []
   },
   "outputs": [
    {
     "output_type": "stream",
     "name": "stderr",
     "text": [
      "/home/fernan/.local/lib/python3.6/site-packages/ipykernel_launcher.py:1: UserWarning: Boolean Series key will be reindexed to match DataFrame index.\n  \"\"\"Entry point for launching an IPython kernel.\n/home/fernan/.local/lib/python3.6/site-packages/ipykernel_launcher.py:2: UserWarning: Boolean Series key will be reindexed to match DataFrame index.\n  \n/home/fernan/.local/lib/python3.6/site-packages/ipykernel_launcher.py:3: UserWarning: Boolean Series key will be reindexed to match DataFrame index.\n  This is separate from the ipykernel package so we can avoid doing imports until\n"
     ]
    }
   ],
   "source": [
    "c7 = df[df['Lugar de residencia'] == 'Huelva (capital)'][df['Medida'] == 'Confirmados PDIA 7 días']['Valor'].values[0]\n",
    "c14 = df[df['Lugar de residencia'] == 'Huelva (capital)'][df['Medida'] == 'Confirmados PDIA 14 días']['Valor'].values[0]\n",
    "p = df[df['Lugar de residencia'] == 'Huelva (capital)'][df['Medida'] == 'Población']['Valor'].values[0]"
   ]
  },
  {
   "cell_type": "code",
   "execution_count": 10,
   "metadata": {
    "tags": []
   },
   "outputs": [
    {
     "output_type": "stream",
     "name": "stdout",
     "text": [
      "Huelva (capital)\n\nUn positivo PCR cada 1260 personas en los últimos 7 días \n\nUn positivo PCR cada 876 personas en los últimos 14 días\n"
     ]
    }
   ],
   "source": [
    "print('Huelva (capital)\\n')\n",
    "#print('Confirmados PCR 7 días x 1,000 habitantes: ', f\"{c7/(p/1000):.5f}\")\n",
    "print('Un positivo PCR cada', f\"{p/c7:.0f}\", 'personas en los últimos 7 días', '\\n')\n",
    "#print('Confirmados PCR 14 días x 1,000 habitantes: ', f\"{c14/(p/1000):.5f}\")\n",
    "print('Un positivo PCR cada', f\"{p/c14:.0f}\", 'personas en los últimos 14 días')"
   ]
  },
  {
   "cell_type": "code",
   "execution_count": 11,
   "metadata": {},
   "outputs": [],
   "source": [
    "filtro = ((df['Medida'] == 'Confirmados PDIA')| (df['Medida'] == 'Confirmados PDIA 7 días') | (df['Medida'] == 'Población' ) | (df['Medida'] == 'Confirmados PDIA 14 días')) & (df['Valor'] > 0)\n",
    "tabla = pd.pivot_table(df.loc[filtro], values='Valor', index='Lugar de residencia', columns='Medida').dropna()"
   ]
  },
  {
   "cell_type": "code",
   "execution_count": 12,
   "metadata": {},
   "outputs": [],
   "source": [
    "# Reorder columns\n",
    "tabla = tabla[['Confirmados PDIA', 'Confirmados PDIA 7 días', 'Confirmados PDIA 14 días', 'Población']]"
   ]
  },
  {
   "cell_type": "code",
   "execution_count": 13,
   "metadata": {},
   "outputs": [],
   "source": [
    "tabla['tasa7'] = tabla['Confirmados PDIA 7 días']/tabla['Población']*100000\n",
    "tabla['tasa14'] = tabla['Confirmados PDIA 14 días']/tabla['Población']*100000"
   ]
  },
  {
   "cell_type": "code",
   "execution_count": 14,
   "metadata": {},
   "outputs": [],
   "source": [
    "tabla['Diferencia PDIA'] = tabla['Confirmados PDIA'] - dfAnterior['Confirmados PDIA']"
   ]
  },
  {
   "cell_type": "code",
   "execution_count": 15,
   "metadata": {},
   "outputs": [
    {
     "output_type": "execute_result",
     "data": {
      "text/plain": [
       "Medida                             Confirmados PDIA  Confirmados PDIA 7 días  \\\n",
       "Lugar de residencia                                                            \n",
       "Huelva                                       1966.0                    303.0   \n",
       "Huelva-Costa                                 1005.0                    174.0   \n",
       "Huelva (capital)                              514.0                    114.0   \n",
       "Condado-Campiña                               677.0                     92.0   \n",
       "Sierra de Huelva-Andévalo Central             251.0                     28.0   \n",
       "Palma del Condado (La)                         97.0                     15.0   \n",
       "Villarrasa                                     25.0                     14.0   \n",
       "Bollullos Par del Condado                     112.0                      7.0   \n",
       "Cartaya                                        33.0                      7.0   \n",
       "Aljaraque                                      82.0                      9.0   \n",
       "Lepe                                          141.0                     19.0   \n",
       "Almonte                                        65.0                      9.0   \n",
       "Isla Cristina                                  77.0                      9.0   \n",
       "Gibraleón                                      37.0                      7.0   \n",
       "Aracena                                        58.0                      5.0   \n",
       "Moguer                                         54.0                      5.0   \n",
       "San Juan del Puerto                            74.0                     21.0   \n",
       "Nerva                                          26.0                      2.0   \n",
       "Escacena del Campo                             18.0                      3.0   \n",
       "Zalamea la Real                                27.0                      4.0   \n",
       "Palos de la Frontera                           30.0                      1.0   \n",
       "Rociana del Condado                            11.0                      1.0   \n",
       "Valverde del Camino                            30.0                      1.0   \n",
       "Almonaster la Real                              2.0                      1.0   \n",
       "Encinasola                                      1.0                      1.0   \n",
       "Granado (El)                                    6.0                      4.0   \n",
       "Manzanilla                                     20.0                      1.0   \n",
       "Paterna del Campo                              13.0                      1.0   \n",
       "Trigueros                                      38.0                      1.0   \n",
       "\n",
       "Medida                             Confirmados PDIA 14 días  Población  \\\n",
       "Lugar de residencia                                                      \n",
       "Huelva                                                567.0   510743.0   \n",
       "Huelva-Costa                                          280.0   288115.0   \n",
       "Huelva (capital)                                      164.0   143663.0   \n",
       "Condado-Campiña                                       232.0   155057.0   \n",
       "Sierra de Huelva-Andévalo Central                      45.0    67571.0   \n",
       "Palma del Condado (La)                                 43.0    10761.0   \n",
       "Villarrasa                                             21.0     2176.0   \n",
       "Bollullos Par del Condado                              32.0    14272.0   \n",
       "Cartaya                                                 8.0    19974.0   \n",
       "Aljaraque                                              11.0    21260.0   \n",
       "Lepe                                                   49.0    27431.0   \n",
       "Almonte                                                12.0    24191.0   \n",
       "Isla Cristina                                          13.0    21264.0   \n",
       "Gibraleón                                              20.0    12607.0   \n",
       "Aracena                                                11.0     8107.0   \n",
       "Moguer                                                 11.0    22088.0   \n",
       "San Juan del Puerto                                    53.0     9300.0   \n",
       "Nerva                                                   3.0     5235.0   \n",
       "Escacena del Campo                                      3.0     2284.0   \n",
       "Zalamea la Real                                         6.0     3068.0   \n",
       "Palos de la Frontera                                    3.0    11289.0   \n",
       "Rociana del Condado                                     4.0     7855.0   \n",
       "Valverde del Camino                                     3.0    12820.0   \n",
       "Almonaster la Real                                      1.0     1819.0   \n",
       "Encinasola                                              1.0     1305.0   \n",
       "Granado (El)                                            4.0      516.0   \n",
       "Manzanilla                                              8.0     2135.0   \n",
       "Paterna del Campo                                       3.0     3509.0   \n",
       "Trigueros                                               3.0     7713.0   \n",
       "\n",
       "Medida                                  tasa7      tasa14  Diferencia PDIA  \n",
       "Lugar de residencia                                                         \n",
       "Huelva                              59.325336  111.014737            148.0  \n",
       "Huelva-Costa                        60.392552   97.183416             86.0  \n",
       "Huelva (capital)                    79.352373  114.156046             61.0  \n",
       "Condado-Campiña                     59.333019  149.622397             45.0  \n",
       "Sierra de Huelva-Andévalo Central   41.437895   66.596617             11.0  \n",
       "Palma del Condado (La)             139.392250  399.591116             10.0  \n",
       "Villarrasa                         643.382353  965.073529              8.0  \n",
       "Bollullos Par del Condado           49.047085  224.215247              6.0  \n",
       "Cartaya                             35.045559   40.052068              6.0  \n",
       "Aljaraque                           42.333020   51.740357              5.0  \n",
       "Lepe                                69.264701  178.630017              5.0  \n",
       "Almonte                             37.203919   49.605225              5.0  \n",
       "Isla Cristina                       42.325056   61.136193              4.0  \n",
       "Gibraleón                           55.524708  158.642024              4.0  \n",
       "Aracena                             61.675096  135.685210              4.0  \n",
       "Moguer                              22.636726   49.800797              3.0  \n",
       "San Juan del Puerto                225.806452  569.892473              3.0  \n",
       "Nerva                               38.204394   57.306590              2.0  \n",
       "Escacena del Campo                 131.348511  131.348511              2.0  \n",
       "Zalamea la Real                    130.378096  195.567145              2.0  \n",
       "Palos de la Frontera                 8.858181   26.574542              1.0  \n",
       "Rociana del Condado                 12.730745   50.922979              1.0  \n",
       "Valverde del Camino                  7.800312   23.400936              1.0  \n",
       "Almonaster la Real                  54.975261   54.975261              NaN  \n",
       "Encinasola                          76.628352   76.628352              NaN  \n",
       "Granado (El)                       775.193798  775.193798              NaN  \n",
       "Manzanilla                          46.838407  374.707260              NaN  \n",
       "Paterna del Campo                   28.498148   85.494443              NaN  \n",
       "Trigueros                           12.965124   38.895371              NaN  "
      ],
      "text/html": "<div>\n<style scoped>\n    .dataframe tbody tr th:only-of-type {\n        vertical-align: middle;\n    }\n\n    .dataframe tbody tr th {\n        vertical-align: top;\n    }\n\n    .dataframe thead th {\n        text-align: right;\n    }\n</style>\n<table border=\"1\" class=\"dataframe\">\n  <thead>\n    <tr style=\"text-align: right;\">\n      <th>Medida</th>\n      <th>Confirmados PDIA</th>\n      <th>Confirmados PDIA 7 días</th>\n      <th>Confirmados PDIA 14 días</th>\n      <th>Población</th>\n      <th>tasa7</th>\n      <th>tasa14</th>\n      <th>Diferencia PDIA</th>\n    </tr>\n    <tr>\n      <th>Lugar de residencia</th>\n      <th></th>\n      <th></th>\n      <th></th>\n      <th></th>\n      <th></th>\n      <th></th>\n      <th></th>\n    </tr>\n  </thead>\n  <tbody>\n    <tr>\n      <th>Huelva</th>\n      <td>1966.0</td>\n      <td>303.0</td>\n      <td>567.0</td>\n      <td>510743.0</td>\n      <td>59.325336</td>\n      <td>111.014737</td>\n      <td>148.0</td>\n    </tr>\n    <tr>\n      <th>Huelva-Costa</th>\n      <td>1005.0</td>\n      <td>174.0</td>\n      <td>280.0</td>\n      <td>288115.0</td>\n      <td>60.392552</td>\n      <td>97.183416</td>\n      <td>86.0</td>\n    </tr>\n    <tr>\n      <th>Huelva (capital)</th>\n      <td>514.0</td>\n      <td>114.0</td>\n      <td>164.0</td>\n      <td>143663.0</td>\n      <td>79.352373</td>\n      <td>114.156046</td>\n      <td>61.0</td>\n    </tr>\n    <tr>\n      <th>Condado-Campiña</th>\n      <td>677.0</td>\n      <td>92.0</td>\n      <td>232.0</td>\n      <td>155057.0</td>\n      <td>59.333019</td>\n      <td>149.622397</td>\n      <td>45.0</td>\n    </tr>\n    <tr>\n      <th>Sierra de Huelva-Andévalo Central</th>\n      <td>251.0</td>\n      <td>28.0</td>\n      <td>45.0</td>\n      <td>67571.0</td>\n      <td>41.437895</td>\n      <td>66.596617</td>\n      <td>11.0</td>\n    </tr>\n    <tr>\n      <th>Palma del Condado (La)</th>\n      <td>97.0</td>\n      <td>15.0</td>\n      <td>43.0</td>\n      <td>10761.0</td>\n      <td>139.392250</td>\n      <td>399.591116</td>\n      <td>10.0</td>\n    </tr>\n    <tr>\n      <th>Villarrasa</th>\n      <td>25.0</td>\n      <td>14.0</td>\n      <td>21.0</td>\n      <td>2176.0</td>\n      <td>643.382353</td>\n      <td>965.073529</td>\n      <td>8.0</td>\n    </tr>\n    <tr>\n      <th>Bollullos Par del Condado</th>\n      <td>112.0</td>\n      <td>7.0</td>\n      <td>32.0</td>\n      <td>14272.0</td>\n      <td>49.047085</td>\n      <td>224.215247</td>\n      <td>6.0</td>\n    </tr>\n    <tr>\n      <th>Cartaya</th>\n      <td>33.0</td>\n      <td>7.0</td>\n      <td>8.0</td>\n      <td>19974.0</td>\n      <td>35.045559</td>\n      <td>40.052068</td>\n      <td>6.0</td>\n    </tr>\n    <tr>\n      <th>Aljaraque</th>\n      <td>82.0</td>\n      <td>9.0</td>\n      <td>11.0</td>\n      <td>21260.0</td>\n      <td>42.333020</td>\n      <td>51.740357</td>\n      <td>5.0</td>\n    </tr>\n    <tr>\n      <th>Lepe</th>\n      <td>141.0</td>\n      <td>19.0</td>\n      <td>49.0</td>\n      <td>27431.0</td>\n      <td>69.264701</td>\n      <td>178.630017</td>\n      <td>5.0</td>\n    </tr>\n    <tr>\n      <th>Almonte</th>\n      <td>65.0</td>\n      <td>9.0</td>\n      <td>12.0</td>\n      <td>24191.0</td>\n      <td>37.203919</td>\n      <td>49.605225</td>\n      <td>5.0</td>\n    </tr>\n    <tr>\n      <th>Isla Cristina</th>\n      <td>77.0</td>\n      <td>9.0</td>\n      <td>13.0</td>\n      <td>21264.0</td>\n      <td>42.325056</td>\n      <td>61.136193</td>\n      <td>4.0</td>\n    </tr>\n    <tr>\n      <th>Gibraleón</th>\n      <td>37.0</td>\n      <td>7.0</td>\n      <td>20.0</td>\n      <td>12607.0</td>\n      <td>55.524708</td>\n      <td>158.642024</td>\n      <td>4.0</td>\n    </tr>\n    <tr>\n      <th>Aracena</th>\n      <td>58.0</td>\n      <td>5.0</td>\n      <td>11.0</td>\n      <td>8107.0</td>\n      <td>61.675096</td>\n      <td>135.685210</td>\n      <td>4.0</td>\n    </tr>\n    <tr>\n      <th>Moguer</th>\n      <td>54.0</td>\n      <td>5.0</td>\n      <td>11.0</td>\n      <td>22088.0</td>\n      <td>22.636726</td>\n      <td>49.800797</td>\n      <td>3.0</td>\n    </tr>\n    <tr>\n      <th>San Juan del Puerto</th>\n      <td>74.0</td>\n      <td>21.0</td>\n      <td>53.0</td>\n      <td>9300.0</td>\n      <td>225.806452</td>\n      <td>569.892473</td>\n      <td>3.0</td>\n    </tr>\n    <tr>\n      <th>Nerva</th>\n      <td>26.0</td>\n      <td>2.0</td>\n      <td>3.0</td>\n      <td>5235.0</td>\n      <td>38.204394</td>\n      <td>57.306590</td>\n      <td>2.0</td>\n    </tr>\n    <tr>\n      <th>Escacena del Campo</th>\n      <td>18.0</td>\n      <td>3.0</td>\n      <td>3.0</td>\n      <td>2284.0</td>\n      <td>131.348511</td>\n      <td>131.348511</td>\n      <td>2.0</td>\n    </tr>\n    <tr>\n      <th>Zalamea la Real</th>\n      <td>27.0</td>\n      <td>4.0</td>\n      <td>6.0</td>\n      <td>3068.0</td>\n      <td>130.378096</td>\n      <td>195.567145</td>\n      <td>2.0</td>\n    </tr>\n    <tr>\n      <th>Palos de la Frontera</th>\n      <td>30.0</td>\n      <td>1.0</td>\n      <td>3.0</td>\n      <td>11289.0</td>\n      <td>8.858181</td>\n      <td>26.574542</td>\n      <td>1.0</td>\n    </tr>\n    <tr>\n      <th>Rociana del Condado</th>\n      <td>11.0</td>\n      <td>1.0</td>\n      <td>4.0</td>\n      <td>7855.0</td>\n      <td>12.730745</td>\n      <td>50.922979</td>\n      <td>1.0</td>\n    </tr>\n    <tr>\n      <th>Valverde del Camino</th>\n      <td>30.0</td>\n      <td>1.0</td>\n      <td>3.0</td>\n      <td>12820.0</td>\n      <td>7.800312</td>\n      <td>23.400936</td>\n      <td>1.0</td>\n    </tr>\n    <tr>\n      <th>Almonaster la Real</th>\n      <td>2.0</td>\n      <td>1.0</td>\n      <td>1.0</td>\n      <td>1819.0</td>\n      <td>54.975261</td>\n      <td>54.975261</td>\n      <td>NaN</td>\n    </tr>\n    <tr>\n      <th>Encinasola</th>\n      <td>1.0</td>\n      <td>1.0</td>\n      <td>1.0</td>\n      <td>1305.0</td>\n      <td>76.628352</td>\n      <td>76.628352</td>\n      <td>NaN</td>\n    </tr>\n    <tr>\n      <th>Granado (El)</th>\n      <td>6.0</td>\n      <td>4.0</td>\n      <td>4.0</td>\n      <td>516.0</td>\n      <td>775.193798</td>\n      <td>775.193798</td>\n      <td>NaN</td>\n    </tr>\n    <tr>\n      <th>Manzanilla</th>\n      <td>20.0</td>\n      <td>1.0</td>\n      <td>8.0</td>\n      <td>2135.0</td>\n      <td>46.838407</td>\n      <td>374.707260</td>\n      <td>NaN</td>\n    </tr>\n    <tr>\n      <th>Paterna del Campo</th>\n      <td>13.0</td>\n      <td>1.0</td>\n      <td>3.0</td>\n      <td>3509.0</td>\n      <td>28.498148</td>\n      <td>85.494443</td>\n      <td>NaN</td>\n    </tr>\n    <tr>\n      <th>Trigueros</th>\n      <td>38.0</td>\n      <td>1.0</td>\n      <td>3.0</td>\n      <td>7713.0</td>\n      <td>12.965124</td>\n      <td>38.895371</td>\n      <td>NaN</td>\n    </tr>\n  </tbody>\n</table>\n</div>"
     },
     "metadata": {},
     "execution_count": 15
    }
   ],
   "source": [
    "# Nuevos casos desde la última captura\n",
    "tabla[tabla['Diferencia PDIA'] != 0].sort_values('Diferencia PDIA', ascending=False)"
   ]
  },
  {
   "cell_type": "code",
   "execution_count": 16,
   "metadata": {},
   "outputs": [],
   "source": [
    "if tabla[tabla['Diferencia PDIA'] != 0]['Diferencia PDIA'].sum() > 0:\n",
    "  # Save to csv\n",
    "  tabla.to_csv('covid_huelva.csv', encoding='utf-8', header=True, index=True)  "
   ]
  },
  {
   "cell_type": "code",
   "execution_count": 17,
   "metadata": {},
   "outputs": [
    {
     "output_type": "execute_result",
     "data": {
      "text/plain": [
       "Medida                             Confirmados PDIA  Confirmados PDIA 7 días  \\\n",
       "Lugar de residencia                                                            \n",
       "Villarrasa                                     25.0                     14.0   \n",
       "Granado (El)                                    6.0                      4.0   \n",
       "San Juan del Puerto                            74.0                     21.0   \n",
       "Villanueva de los Castillejos                  18.0                      8.0   \n",
       "Jabugo                                         14.0                      8.0   \n",
       "Palma del Condado (La)                         97.0                     15.0   \n",
       "Manzanilla                                     20.0                      1.0   \n",
       "Bollullos Par del Condado                     112.0                      7.0   \n",
       "Villablanca                                    10.0                      1.0   \n",
       "Lucena del Puerto                              14.0                      2.0   \n",
       "Zalamea la Real                                27.0                      4.0   \n",
       "Lepe                                          141.0                     19.0   \n",
       "Gibraleón                                      37.0                      7.0   \n",
       "Condado-Campiña                               677.0                     92.0   \n",
       "Cabezas Rubias                                 10.0                      1.0   \n",
       "Aracena                                        58.0                      5.0   \n",
       "Escacena del Campo                             18.0                      3.0   \n",
       "Niebla                                          7.0                      2.0   \n",
       "Huelva (capital)                              514.0                    114.0   \n",
       "Huelva                                       1966.0                    303.0   \n",
       "Huelva-Costa                                 1005.0                    174.0   \n",
       "Paterna del Campo                              13.0                      1.0   \n",
       "Higuera de la Sierra                            3.0                      1.0   \n",
       "Encinasola                                      1.0                      1.0   \n",
       "Sierra de Huelva-Andévalo Central             251.0                     28.0   \n",
       "Cortegana                                      13.0                      3.0   \n",
       "Isla Cristina                                  77.0                      9.0   \n",
       "Nerva                                          26.0                      2.0   \n",
       "Almonaster la Real                              2.0                      1.0   \n",
       "Minas de Riotinto                              19.0                      1.0   \n",
       "Aljaraque                                      82.0                      9.0   \n",
       "Rociana del Condado                            11.0                      1.0   \n",
       "Moguer                                         54.0                      5.0   \n",
       "Almonte                                        65.0                      9.0   \n",
       "Campillo (El)                                  27.0                      1.0   \n",
       "Cartaya                                        33.0                      7.0   \n",
       "Trigueros                                      38.0                      1.0   \n",
       "San Bartolomé de la Torre                       4.0                      1.0   \n",
       "Palos de la Frontera                           30.0                      1.0   \n",
       "Punta Umbría                                   38.0                      2.0   \n",
       "Beas                                            8.0                      1.0   \n",
       "Valverde del Camino                            30.0                      1.0   \n",
       "\n",
       "Medida                             Confirmados PDIA 14 días  Población  \\\n",
       "Lugar de residencia                                                      \n",
       "Villarrasa                                             21.0     2176.0   \n",
       "Granado (El)                                            4.0      516.0   \n",
       "San Juan del Puerto                                    53.0     9300.0   \n",
       "Villanueva de los Castillejos                          15.0     2820.0   \n",
       "Jabugo                                                  9.0     2250.0   \n",
       "Palma del Condado (La)                                 43.0    10761.0   \n",
       "Manzanilla                                              8.0     2135.0   \n",
       "Bollullos Par del Condado                              32.0    14272.0   \n",
       "Villablanca                                             6.0     2848.0   \n",
       "Lucena del Puerto                                       7.0     3371.0   \n",
       "Zalamea la Real                                         6.0     3068.0   \n",
       "Lepe                                                   49.0    27431.0   \n",
       "Gibraleón                                              20.0    12607.0   \n",
       "Condado-Campiña                                       232.0   155057.0   \n",
       "Cabezas Rubias                                          1.0      730.0   \n",
       "Aracena                                                11.0     8107.0   \n",
       "Escacena del Campo                                      3.0     2284.0   \n",
       "Niebla                                                  5.0     4117.0   \n",
       "Huelva (capital)                                      164.0   143663.0   \n",
       "Huelva                                                567.0   510743.0   \n",
       "Huelva-Costa                                          280.0   288115.0   \n",
       "Paterna del Campo                                       3.0     3509.0   \n",
       "Higuera de la Sierra                                    1.0     1287.0   \n",
       "Encinasola                                              1.0     1305.0   \n",
       "Sierra de Huelva-Andévalo Central                      45.0    67571.0   \n",
       "Cortegana                                               3.0     4666.0   \n",
       "Isla Cristina                                          13.0    21264.0   \n",
       "Nerva                                                   3.0     5235.0   \n",
       "Almonaster la Real                                      1.0     1819.0   \n",
       "Minas de Riotinto                                       2.0     3848.0   \n",
       "Aljaraque                                              11.0    21260.0   \n",
       "Rociana del Condado                                     4.0     7855.0   \n",
       "Moguer                                                 11.0    22088.0   \n",
       "Almonte                                                12.0    24191.0   \n",
       "Campillo (El)                                           1.0     2023.0   \n",
       "Cartaya                                                 8.0    19974.0   \n",
       "Trigueros                                               3.0     7713.0   \n",
       "San Bartolomé de la Torre                               1.0     3736.0   \n",
       "Palos de la Frontera                                    3.0    11289.0   \n",
       "Punta Umbría                                            4.0    15242.0   \n",
       "Beas                                                    1.0     4257.0   \n",
       "Valverde del Camino                                     3.0    12820.0   \n",
       "\n",
       "Medida                                  tasa7      tasa14  Diferencia PDIA  \n",
       "Lugar de residencia                                                         \n",
       "Villarrasa                         643.382353  965.073529              8.0  \n",
       "Granado (El)                       775.193798  775.193798              NaN  \n",
       "San Juan del Puerto                225.806452  569.892473              3.0  \n",
       "Villanueva de los Castillejos      283.687943  531.914894              0.0  \n",
       "Jabugo                             355.555556  400.000000              0.0  \n",
       "Palma del Condado (La)             139.392250  399.591116             10.0  \n",
       "Manzanilla                          46.838407  374.707260              NaN  \n",
       "Bollullos Par del Condado           49.047085  224.215247              6.0  \n",
       "Villablanca                         35.112360  210.674157              0.0  \n",
       "Lucena del Puerto                   59.329576  207.653515              0.0  \n",
       "Zalamea la Real                    130.378096  195.567145              2.0  \n",
       "Lepe                                69.264701  178.630017              5.0  \n",
       "Gibraleón                           55.524708  158.642024              4.0  \n",
       "Condado-Campiña                     59.333019  149.622397             45.0  \n",
       "Cabezas Rubias                     136.986301  136.986301              0.0  \n",
       "Aracena                             61.675096  135.685210              4.0  \n",
       "Escacena del Campo                 131.348511  131.348511              2.0  \n",
       "Niebla                              48.579062  121.447656              0.0  \n",
       "Huelva (capital)                    79.352373  114.156046             61.0  \n",
       "Huelva                              59.325336  111.014737            148.0  \n",
       "Huelva-Costa                        60.392552   97.183416             86.0  \n",
       "Paterna del Campo                   28.498148   85.494443              NaN  \n",
       "Higuera de la Sierra                77.700078   77.700078              0.0  \n",
       "Encinasola                          76.628352   76.628352              NaN  \n",
       "Sierra de Huelva-Andévalo Central   41.437895   66.596617             11.0  \n",
       "Cortegana                           64.294899   64.294899              0.0  \n",
       "Isla Cristina                       42.325056   61.136193              4.0  \n",
       "Nerva                               38.204394   57.306590              2.0  \n",
       "Almonaster la Real                  54.975261   54.975261              NaN  \n",
       "Minas de Riotinto                   25.987526   51.975052              0.0  \n",
       "Aljaraque                           42.333020   51.740357              5.0  \n",
       "Rociana del Condado                 12.730745   50.922979              1.0  \n",
       "Moguer                              22.636726   49.800797              3.0  \n",
       "Almonte                             37.203919   49.605225              5.0  \n",
       "Campillo (El)                       49.431537   49.431537              0.0  \n",
       "Cartaya                             35.045559   40.052068              6.0  \n",
       "Trigueros                           12.965124   38.895371              NaN  \n",
       "San Bartolomé de la Torre           26.766595   26.766595              0.0  \n",
       "Palos de la Frontera                 8.858181   26.574542              1.0  \n",
       "Punta Umbría                        13.121638   26.243275              0.0  \n",
       "Beas                                23.490721   23.490721              0.0  \n",
       "Valverde del Camino                  7.800312   23.400936              1.0  "
      ],
      "text/html": "<div>\n<style scoped>\n    .dataframe tbody tr th:only-of-type {\n        vertical-align: middle;\n    }\n\n    .dataframe tbody tr th {\n        vertical-align: top;\n    }\n\n    .dataframe thead th {\n        text-align: right;\n    }\n</style>\n<table border=\"1\" class=\"dataframe\">\n  <thead>\n    <tr style=\"text-align: right;\">\n      <th>Medida</th>\n      <th>Confirmados PDIA</th>\n      <th>Confirmados PDIA 7 días</th>\n      <th>Confirmados PDIA 14 días</th>\n      <th>Población</th>\n      <th>tasa7</th>\n      <th>tasa14</th>\n      <th>Diferencia PDIA</th>\n    </tr>\n    <tr>\n      <th>Lugar de residencia</th>\n      <th></th>\n      <th></th>\n      <th></th>\n      <th></th>\n      <th></th>\n      <th></th>\n      <th></th>\n    </tr>\n  </thead>\n  <tbody>\n    <tr>\n      <th>Villarrasa</th>\n      <td>25.0</td>\n      <td>14.0</td>\n      <td>21.0</td>\n      <td>2176.0</td>\n      <td>643.382353</td>\n      <td>965.073529</td>\n      <td>8.0</td>\n    </tr>\n    <tr>\n      <th>Granado (El)</th>\n      <td>6.0</td>\n      <td>4.0</td>\n      <td>4.0</td>\n      <td>516.0</td>\n      <td>775.193798</td>\n      <td>775.193798</td>\n      <td>NaN</td>\n    </tr>\n    <tr>\n      <th>San Juan del Puerto</th>\n      <td>74.0</td>\n      <td>21.0</td>\n      <td>53.0</td>\n      <td>9300.0</td>\n      <td>225.806452</td>\n      <td>569.892473</td>\n      <td>3.0</td>\n    </tr>\n    <tr>\n      <th>Villanueva de los Castillejos</th>\n      <td>18.0</td>\n      <td>8.0</td>\n      <td>15.0</td>\n      <td>2820.0</td>\n      <td>283.687943</td>\n      <td>531.914894</td>\n      <td>0.0</td>\n    </tr>\n    <tr>\n      <th>Jabugo</th>\n      <td>14.0</td>\n      <td>8.0</td>\n      <td>9.0</td>\n      <td>2250.0</td>\n      <td>355.555556</td>\n      <td>400.000000</td>\n      <td>0.0</td>\n    </tr>\n    <tr>\n      <th>Palma del Condado (La)</th>\n      <td>97.0</td>\n      <td>15.0</td>\n      <td>43.0</td>\n      <td>10761.0</td>\n      <td>139.392250</td>\n      <td>399.591116</td>\n      <td>10.0</td>\n    </tr>\n    <tr>\n      <th>Manzanilla</th>\n      <td>20.0</td>\n      <td>1.0</td>\n      <td>8.0</td>\n      <td>2135.0</td>\n      <td>46.838407</td>\n      <td>374.707260</td>\n      <td>NaN</td>\n    </tr>\n    <tr>\n      <th>Bollullos Par del Condado</th>\n      <td>112.0</td>\n      <td>7.0</td>\n      <td>32.0</td>\n      <td>14272.0</td>\n      <td>49.047085</td>\n      <td>224.215247</td>\n      <td>6.0</td>\n    </tr>\n    <tr>\n      <th>Villablanca</th>\n      <td>10.0</td>\n      <td>1.0</td>\n      <td>6.0</td>\n      <td>2848.0</td>\n      <td>35.112360</td>\n      <td>210.674157</td>\n      <td>0.0</td>\n    </tr>\n    <tr>\n      <th>Lucena del Puerto</th>\n      <td>14.0</td>\n      <td>2.0</td>\n      <td>7.0</td>\n      <td>3371.0</td>\n      <td>59.329576</td>\n      <td>207.653515</td>\n      <td>0.0</td>\n    </tr>\n    <tr>\n      <th>Zalamea la Real</th>\n      <td>27.0</td>\n      <td>4.0</td>\n      <td>6.0</td>\n      <td>3068.0</td>\n      <td>130.378096</td>\n      <td>195.567145</td>\n      <td>2.0</td>\n    </tr>\n    <tr>\n      <th>Lepe</th>\n      <td>141.0</td>\n      <td>19.0</td>\n      <td>49.0</td>\n      <td>27431.0</td>\n      <td>69.264701</td>\n      <td>178.630017</td>\n      <td>5.0</td>\n    </tr>\n    <tr>\n      <th>Gibraleón</th>\n      <td>37.0</td>\n      <td>7.0</td>\n      <td>20.0</td>\n      <td>12607.0</td>\n      <td>55.524708</td>\n      <td>158.642024</td>\n      <td>4.0</td>\n    </tr>\n    <tr>\n      <th>Condado-Campiña</th>\n      <td>677.0</td>\n      <td>92.0</td>\n      <td>232.0</td>\n      <td>155057.0</td>\n      <td>59.333019</td>\n      <td>149.622397</td>\n      <td>45.0</td>\n    </tr>\n    <tr>\n      <th>Cabezas Rubias</th>\n      <td>10.0</td>\n      <td>1.0</td>\n      <td>1.0</td>\n      <td>730.0</td>\n      <td>136.986301</td>\n      <td>136.986301</td>\n      <td>0.0</td>\n    </tr>\n    <tr>\n      <th>Aracena</th>\n      <td>58.0</td>\n      <td>5.0</td>\n      <td>11.0</td>\n      <td>8107.0</td>\n      <td>61.675096</td>\n      <td>135.685210</td>\n      <td>4.0</td>\n    </tr>\n    <tr>\n      <th>Escacena del Campo</th>\n      <td>18.0</td>\n      <td>3.0</td>\n      <td>3.0</td>\n      <td>2284.0</td>\n      <td>131.348511</td>\n      <td>131.348511</td>\n      <td>2.0</td>\n    </tr>\n    <tr>\n      <th>Niebla</th>\n      <td>7.0</td>\n      <td>2.0</td>\n      <td>5.0</td>\n      <td>4117.0</td>\n      <td>48.579062</td>\n      <td>121.447656</td>\n      <td>0.0</td>\n    </tr>\n    <tr>\n      <th>Huelva (capital)</th>\n      <td>514.0</td>\n      <td>114.0</td>\n      <td>164.0</td>\n      <td>143663.0</td>\n      <td>79.352373</td>\n      <td>114.156046</td>\n      <td>61.0</td>\n    </tr>\n    <tr>\n      <th>Huelva</th>\n      <td>1966.0</td>\n      <td>303.0</td>\n      <td>567.0</td>\n      <td>510743.0</td>\n      <td>59.325336</td>\n      <td>111.014737</td>\n      <td>148.0</td>\n    </tr>\n    <tr>\n      <th>Huelva-Costa</th>\n      <td>1005.0</td>\n      <td>174.0</td>\n      <td>280.0</td>\n      <td>288115.0</td>\n      <td>60.392552</td>\n      <td>97.183416</td>\n      <td>86.0</td>\n    </tr>\n    <tr>\n      <th>Paterna del Campo</th>\n      <td>13.0</td>\n      <td>1.0</td>\n      <td>3.0</td>\n      <td>3509.0</td>\n      <td>28.498148</td>\n      <td>85.494443</td>\n      <td>NaN</td>\n    </tr>\n    <tr>\n      <th>Higuera de la Sierra</th>\n      <td>3.0</td>\n      <td>1.0</td>\n      <td>1.0</td>\n      <td>1287.0</td>\n      <td>77.700078</td>\n      <td>77.700078</td>\n      <td>0.0</td>\n    </tr>\n    <tr>\n      <th>Encinasola</th>\n      <td>1.0</td>\n      <td>1.0</td>\n      <td>1.0</td>\n      <td>1305.0</td>\n      <td>76.628352</td>\n      <td>76.628352</td>\n      <td>NaN</td>\n    </tr>\n    <tr>\n      <th>Sierra de Huelva-Andévalo Central</th>\n      <td>251.0</td>\n      <td>28.0</td>\n      <td>45.0</td>\n      <td>67571.0</td>\n      <td>41.437895</td>\n      <td>66.596617</td>\n      <td>11.0</td>\n    </tr>\n    <tr>\n      <th>Cortegana</th>\n      <td>13.0</td>\n      <td>3.0</td>\n      <td>3.0</td>\n      <td>4666.0</td>\n      <td>64.294899</td>\n      <td>64.294899</td>\n      <td>0.0</td>\n    </tr>\n    <tr>\n      <th>Isla Cristina</th>\n      <td>77.0</td>\n      <td>9.0</td>\n      <td>13.0</td>\n      <td>21264.0</td>\n      <td>42.325056</td>\n      <td>61.136193</td>\n      <td>4.0</td>\n    </tr>\n    <tr>\n      <th>Nerva</th>\n      <td>26.0</td>\n      <td>2.0</td>\n      <td>3.0</td>\n      <td>5235.0</td>\n      <td>38.204394</td>\n      <td>57.306590</td>\n      <td>2.0</td>\n    </tr>\n    <tr>\n      <th>Almonaster la Real</th>\n      <td>2.0</td>\n      <td>1.0</td>\n      <td>1.0</td>\n      <td>1819.0</td>\n      <td>54.975261</td>\n      <td>54.975261</td>\n      <td>NaN</td>\n    </tr>\n    <tr>\n      <th>Minas de Riotinto</th>\n      <td>19.0</td>\n      <td>1.0</td>\n      <td>2.0</td>\n      <td>3848.0</td>\n      <td>25.987526</td>\n      <td>51.975052</td>\n      <td>0.0</td>\n    </tr>\n    <tr>\n      <th>Aljaraque</th>\n      <td>82.0</td>\n      <td>9.0</td>\n      <td>11.0</td>\n      <td>21260.0</td>\n      <td>42.333020</td>\n      <td>51.740357</td>\n      <td>5.0</td>\n    </tr>\n    <tr>\n      <th>Rociana del Condado</th>\n      <td>11.0</td>\n      <td>1.0</td>\n      <td>4.0</td>\n      <td>7855.0</td>\n      <td>12.730745</td>\n      <td>50.922979</td>\n      <td>1.0</td>\n    </tr>\n    <tr>\n      <th>Moguer</th>\n      <td>54.0</td>\n      <td>5.0</td>\n      <td>11.0</td>\n      <td>22088.0</td>\n      <td>22.636726</td>\n      <td>49.800797</td>\n      <td>3.0</td>\n    </tr>\n    <tr>\n      <th>Almonte</th>\n      <td>65.0</td>\n      <td>9.0</td>\n      <td>12.0</td>\n      <td>24191.0</td>\n      <td>37.203919</td>\n      <td>49.605225</td>\n      <td>5.0</td>\n    </tr>\n    <tr>\n      <th>Campillo (El)</th>\n      <td>27.0</td>\n      <td>1.0</td>\n      <td>1.0</td>\n      <td>2023.0</td>\n      <td>49.431537</td>\n      <td>49.431537</td>\n      <td>0.0</td>\n    </tr>\n    <tr>\n      <th>Cartaya</th>\n      <td>33.0</td>\n      <td>7.0</td>\n      <td>8.0</td>\n      <td>19974.0</td>\n      <td>35.045559</td>\n      <td>40.052068</td>\n      <td>6.0</td>\n    </tr>\n    <tr>\n      <th>Trigueros</th>\n      <td>38.0</td>\n      <td>1.0</td>\n      <td>3.0</td>\n      <td>7713.0</td>\n      <td>12.965124</td>\n      <td>38.895371</td>\n      <td>NaN</td>\n    </tr>\n    <tr>\n      <th>San Bartolomé de la Torre</th>\n      <td>4.0</td>\n      <td>1.0</td>\n      <td>1.0</td>\n      <td>3736.0</td>\n      <td>26.766595</td>\n      <td>26.766595</td>\n      <td>0.0</td>\n    </tr>\n    <tr>\n      <th>Palos de la Frontera</th>\n      <td>30.0</td>\n      <td>1.0</td>\n      <td>3.0</td>\n      <td>11289.0</td>\n      <td>8.858181</td>\n      <td>26.574542</td>\n      <td>1.0</td>\n    </tr>\n    <tr>\n      <th>Punta Umbría</th>\n      <td>38.0</td>\n      <td>2.0</td>\n      <td>4.0</td>\n      <td>15242.0</td>\n      <td>13.121638</td>\n      <td>26.243275</td>\n      <td>0.0</td>\n    </tr>\n    <tr>\n      <th>Beas</th>\n      <td>8.0</td>\n      <td>1.0</td>\n      <td>1.0</td>\n      <td>4257.0</td>\n      <td>23.490721</td>\n      <td>23.490721</td>\n      <td>0.0</td>\n    </tr>\n    <tr>\n      <th>Valverde del Camino</th>\n      <td>30.0</td>\n      <td>1.0</td>\n      <td>3.0</td>\n      <td>12820.0</td>\n      <td>7.800312</td>\n      <td>23.400936</td>\n      <td>1.0</td>\n    </tr>\n  </tbody>\n</table>\n</div>"
     },
     "metadata": {},
     "execution_count": 17
    }
   ],
   "source": [
    "tabla.sort_values('tasa14', ascending=False)"
   ]
  },
  {
   "cell_type": "code",
   "execution_count": null,
   "metadata": {},
   "outputs": [],
   "source": []
  }
 ]
}