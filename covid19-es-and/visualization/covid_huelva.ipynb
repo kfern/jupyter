{
 "metadata": {
  "language_info": {
   "codemirror_mode": {
    "name": "ipython",
    "version": 3
   },
   "file_extension": ".py",
   "mimetype": "text/x-python",
   "name": "python",
   "nbconvert_exporter": "python",
   "pygments_lexer": "ipython3",
   "version": "3.8.6"
  },
  "orig_nbformat": 2,
  "kernelspec": {
   "name": "python3",
   "display_name": "Python 3.8.6 64-bit"
  },
  "interpreter": {
   "hash": "31f2aee4e71d21fbe5cf8b01ff0e069b9275f58929596ceb00d14d90e3e16cd6"
  }
 },
 "nbformat": 4,
 "nbformat_minor": 2,
 "cells": [
  {
   "cell_type": "code",
   "execution_count": 1,
   "metadata": {},
   "outputs": [],
   "source": [
    "import pandas as pd\n",
    "pd.set_option('display.max_rows', None) # Print all rows"
   ]
  },
  {
   "cell_type": "code",
   "execution_count": 2,
   "metadata": {},
   "outputs": [],
   "source": [
    "# FIX SSL: CERTIFICATE_VERIFY_FAILED with Python3\n",
    "# https://stackoverflow.com/a/49174340\n",
    "import ssl\n",
    "\n",
    "ssl._create_default_https_context = ssl._create_unverified_context"
   ]
  },
  {
   "cell_type": "code",
   "execution_count": 3,
   "metadata": {},
   "outputs": [],
   "source": [
    "url = 'https://www.juntadeandalucia.es/institutodeestadisticaycartografia/badea/stpivot/stpivot/Print?cube=013d884c-cfc5-4c21-9e78-e26225682afd&type=3&foto=si&ejecutaDesde=&codConsulta=38668&consTipoVisua=JP'\n",
    "fields = ['Lugar de residencia', 'Medida', 'Valor']\n",
    "df = pd.read_csv(url, delimiter=';', usecols=fields, decimal=',')"
   ]
  },
  {
   "cell_type": "code",
   "execution_count": 4,
   "metadata": {},
   "outputs": [
    {
     "output_type": "execute_result",
     "data": {
      "text/plain": [
       "  Lugar de residencia                    Medida               Valor\n",
       "0              Huelva                 Población              513170\n",
       "1              Huelva          Confirmados PDIA               32206\n",
       "2              Huelva  Confirmados PDIA 14 días                1479\n",
       "3              Huelva         Tasa PDIA 14 días  288,20858584874406\n",
       "4              Huelva   Confirmados PDIA 7 días                 630\n",
       "5              Huelva        Total Confirmados                32386\n",
       "6              Huelva                   Curados               30014\n",
       "7              Huelva                Fallecidos                 386"
      ],
      "text/html": "<div>\n<style scoped>\n    .dataframe tbody tr th:only-of-type {\n        vertical-align: middle;\n    }\n\n    .dataframe tbody tr th {\n        vertical-align: top;\n    }\n\n    .dataframe thead th {\n        text-align: right;\n    }\n</style>\n<table border=\"1\" class=\"dataframe\">\n  <thead>\n    <tr style=\"text-align: right;\">\n      <th></th>\n      <th>Lugar de residencia</th>\n      <th>Medida</th>\n      <th>Valor</th>\n    </tr>\n  </thead>\n  <tbody>\n    <tr>\n      <th>0</th>\n      <td>Huelva</td>\n      <td>Población</td>\n      <td>513170</td>\n    </tr>\n    <tr>\n      <th>1</th>\n      <td>Huelva</td>\n      <td>Confirmados PDIA</td>\n      <td>32206</td>\n    </tr>\n    <tr>\n      <th>2</th>\n      <td>Huelva</td>\n      <td>Confirmados PDIA 14 días</td>\n      <td>1479</td>\n    </tr>\n    <tr>\n      <th>3</th>\n      <td>Huelva</td>\n      <td>Tasa PDIA 14 días</td>\n      <td>288,20858584874406</td>\n    </tr>\n    <tr>\n      <th>4</th>\n      <td>Huelva</td>\n      <td>Confirmados PDIA 7 días</td>\n      <td>630</td>\n    </tr>\n    <tr>\n      <th>5</th>\n      <td>Huelva</td>\n      <td>Total Confirmados</td>\n      <td>32386</td>\n    </tr>\n    <tr>\n      <th>6</th>\n      <td>Huelva</td>\n      <td>Curados</td>\n      <td>30014</td>\n    </tr>\n    <tr>\n      <th>7</th>\n      <td>Huelva</td>\n      <td>Fallecidos</td>\n      <td>386</td>\n    </tr>\n  </tbody>\n</table>\n</div>"
     },
     "metadata": {},
     "execution_count": 4
    }
   ],
   "source": [
    "df[df['Lugar de residencia'] == 'Huelva']"
   ]
  },
  {
   "cell_type": "code",
   "execution_count": 5,
   "metadata": {},
   "outputs": [],
   "source": [
    "df['Valor'] = pd.to_numeric(df['Valor'],errors='coerce')"
   ]
  },
  {
   "cell_type": "code",
   "execution_count": 6,
   "metadata": {},
   "outputs": [],
   "source": [
    "dfAnterior = pd.read_csv('covid_huelva.csv', index_col='Lugar de residencia')"
   ]
  },
  {
   "cell_type": "code",
   "execution_count": 7,
   "metadata": {
    "tags": []
   },
   "outputs": [
    {
     "output_type": "stream",
     "name": "stdout",
     "text": [
      "Confirmados PCR en la provincia de Huelva:  32206.0\n",
      "<ipython-input-7-31b732756b19>:2: UserWarning: Boolean Series key will be reindexed to match DataFrame index.\n",
      "  p = df[df['Lugar de residencia'] == 'Huelva'][df['Medida'] == 'Confirmados PDIA']['Valor'].values[0]\n"
     ]
    }
   ],
   "source": [
    "# Confirmados PCR provincia Huelva\n",
    "p = df[df['Lugar de residencia'] == 'Huelva'][df['Medida'] == 'Confirmados PDIA']['Valor'].values[0]\n",
    "print('Confirmados PCR en la provincia de Huelva: ', p)"
   ]
  },
  {
   "cell_type": "code",
   "execution_count": 8,
   "metadata": {
    "tags": []
   },
   "outputs": [
    {
     "output_type": "stream",
     "name": "stdout",
     "text": [
      "Confirmados PCR en Huelva capital:  8699.0\n",
      "<ipython-input-8-e81bfb40e710>:2: UserWarning: Boolean Series key will be reindexed to match DataFrame index.\n",
      "  c = df[df['Lugar de residencia'] == 'Huelva (capital)'][df['Medida'] == 'Confirmados PDIA']['Valor'].values[0]\n"
     ]
    }
   ],
   "source": [
    "# Confirmados PCR Huelva capitalpd\n",
    "c = df[df['Lugar de residencia'] == 'Huelva (capital)'][df['Medida'] == 'Confirmados PDIA']['Valor'].values[0]\n",
    "print('Confirmados PCR en Huelva capital: ', c)"
   ]
  },
  {
   "cell_type": "code",
   "execution_count": 9,
   "metadata": {
    "tags": []
   },
   "outputs": [
    {
     "output_type": "stream",
     "name": "stderr",
     "text": [
      "<ipython-input-9-f09dd2050cc1>:1: UserWarning: Boolean Series key will be reindexed to match DataFrame index.\n  c7 = df[df['Lugar de residencia'] == 'Huelva (capital)'][df['Medida'] == 'Confirmados PDIA 7 días']['Valor'].values[0]\n<ipython-input-9-f09dd2050cc1>:2: UserWarning: Boolean Series key will be reindexed to match DataFrame index.\n  c14 = df[df['Lugar de residencia'] == 'Huelva (capital)'][df['Medida'] == 'Confirmados PDIA 14 días']['Valor'].values[0]\n<ipython-input-9-f09dd2050cc1>:3: UserWarning: Boolean Series key will be reindexed to match DataFrame index.\n  p = df[df['Lugar de residencia'] == 'Huelva (capital)'][df['Medida'] == 'Población']['Valor'].values[0]\n"
     ]
    }
   ],
   "source": [
    "c7 = df[df['Lugar de residencia'] == 'Huelva (capital)'][df['Medida'] == 'Confirmados PDIA 7 días']['Valor'].values[0]\n",
    "c14 = df[df['Lugar de residencia'] == 'Huelva (capital)'][df['Medida'] == 'Confirmados PDIA 14 días']['Valor'].values[0]\n",
    "p = df[df['Lugar de residencia'] == 'Huelva (capital)'][df['Medida'] == 'Población']['Valor'].values[0]"
   ]
  },
  {
   "cell_type": "code",
   "execution_count": 10,
   "metadata": {
    "tags": []
   },
   "outputs": [
    {
     "output_type": "stream",
     "name": "stdout",
     "text": [
      "Huelva (capital)\n\nUn positivo PCR cada 516 personas en los últimos 7 días \n\nUn positivo PCR cada 240 personas en los últimos 14 días\n"
     ]
    }
   ],
   "source": [
    "print('Huelva (capital)\\n')\n",
    "#print('Confirmados PCR 7 días x 1,000 habitantes: ', f\"{c7/(p/1000):.5f}\")\n",
    "print('Un positivo PCR cada', f\"{p/c7:.0f}\", 'personas en los últimos 7 días', '\\n')\n",
    "#print('Confirmados PCR 14 días x 1,000 habitantes: ', f\"{c14/(p/1000):.5f}\")\n",
    "print('Un positivo PCR cada', f\"{p/c14:.0f}\", 'personas en los últimos 14 días')"
   ]
  },
  {
   "cell_type": "code",
   "execution_count": 11,
   "metadata": {},
   "outputs": [],
   "source": [
    "filtro = ((df['Medida'] == 'Confirmados PDIA')| (df['Medida'] == 'Confirmados PDIA 7 días') | (df['Medida'] == 'Población' ) | (df['Medida'] == 'Confirmados PDIA 14 días')) & (df['Valor'] > 0)\n",
    "tabla = pd.pivot_table(df.loc[filtro], values='Valor', index='Lugar de residencia', columns='Medida').dropna()"
   ]
  },
  {
   "cell_type": "code",
   "execution_count": 12,
   "metadata": {},
   "outputs": [],
   "source": [
    "# Reorder columns\n",
    "tabla = tabla[['Confirmados PDIA', 'Confirmados PDIA 7 días', 'Confirmados PDIA 14 días', 'Población']]"
   ]
  },
  {
   "cell_type": "code",
   "execution_count": 13,
   "metadata": {},
   "outputs": [],
   "source": [
    "tabla['tasa7'] = tabla['Confirmados PDIA 7 días']/tabla['Población']*100000\n",
    "tabla['tasa14'] = tabla['Confirmados PDIA 14 días']/tabla['Población']*100000"
   ]
  },
  {
   "cell_type": "code",
   "execution_count": 14,
   "metadata": {},
   "outputs": [],
   "source": [
    "tabla['Diferencia PDIA'] = tabla['Confirmados PDIA'] - dfAnterior['Confirmados PDIA']"
   ]
  },
  {
   "cell_type": "code",
   "execution_count": 15,
   "metadata": {},
   "outputs": [
    {
     "output_type": "execute_result",
     "data": {
      "text/plain": [
       "Medida                             Confirmados PDIA  Confirmados PDIA 7 días  \\\n",
       "Lugar de residencia                                                            \n",
       "Huelva                                      32206.0                    630.0   \n",
       "Huelva-Costa                                18552.0                    382.0   \n",
       "Huelva (capital)                             8699.0                    279.0   \n",
       "Condado-Campiña                             10455.0                    191.0   \n",
       "Sierra de Huelva-Andévalo Central            2849.0                     55.0   \n",
       "Moguer                                       1336.0                     41.0   \n",
       "Aljaraque                                    1145.0                     33.0   \n",
       "Valverde del Camino                           620.0                     31.0   \n",
       "Almonte                                      1859.0                     19.0   \n",
       "Isla Cristina                                2158.0                      8.0   \n",
       "Cortelazor                                     12.0                      4.0   \n",
       "San Juan del Puerto                           534.0                     22.0   \n",
       "Gibraleón                                     638.0                      6.0   \n",
       "Trigueros                                     322.0                     15.0   \n",
       "Palos de la Frontera                          690.0                     19.0   \n",
       "Puebla de Guzmán                              125.0                      6.0   \n",
       "Cartaya                                      1357.0                     10.0   \n",
       "Alosno                                        172.0                      4.0   \n",
       "Niebla                                        241.0                      3.0   \n",
       "San Bartolomé de la Torre                     302.0                      3.0   \n",
       "Aracena                                       534.0                      6.0   \n",
       "Ayamonte                                     1323.0                      3.0   \n",
       "Bonares                                       286.0                     13.0   \n",
       "Villarrasa                                    180.0                      7.0   \n",
       "Almendro (El)                                  37.0                      1.0   \n",
       "Calañas                                       192.0                      1.0   \n",
       "Jabugo                                         65.0                      1.0   \n",
       "\n",
       "Medida                             Confirmados PDIA 14 días  Población  \\\n",
       "Lugar de residencia                                                      \n",
       "Huelva                                               1479.0   513170.0   \n",
       "Huelva-Costa                                          826.0   289548.0   \n",
       "Huelva (capital)                                      599.0   143837.0   \n",
       "Condado-Campiña                                       501.0   156231.0   \n",
       "Sierra de Huelva-Andévalo Central                     147.0    67391.0   \n",
       "Moguer                                                 80.0    21867.0   \n",
       "Aljaraque                                              83.0    21474.0   \n",
       "Valverde del Camino                                    77.0    12750.0   \n",
       "Almonte                                                99.0    24507.0   \n",
       "Isla Cristina                                          18.0    21393.0   \n",
       "Cortelazor                                              4.0      299.0   \n",
       "San Juan del Puerto                                    46.0     9411.0   \n",
       "Gibraleón                                              23.0    12737.0   \n",
       "Trigueros                                              27.0     7862.0   \n",
       "Palos de la Frontera                                   56.0    11742.0   \n",
       "Puebla de Guzmán                                       12.0     3092.0   \n",
       "Cartaya                                                36.0    20083.0   \n",
       "Alosno                                                  6.0     3933.0   \n",
       "Niebla                                                 21.0     4116.0   \n",
       "San Bartolomé de la Torre                               9.0     3761.0   \n",
       "Aracena                                                15.0     8255.0   \n",
       "Ayamonte                                                9.0    21104.0   \n",
       "Bonares                                                20.0     6060.0   \n",
       "Villarrasa                                             14.0     2211.0   \n",
       "Almendro (El)                                           1.0      840.0   \n",
       "Calañas                                                 3.0     2768.0   \n",
       "Jabugo                                                  2.0     2260.0   \n",
       "\n",
       "Medida                                   tasa7       tasa14  Diferencia PDIA  \n",
       "Lugar de residencia                                                           \n",
       "Huelva                              122.766335   288.208586            100.0  \n",
       "Huelva-Costa                        131.929766   285.272217             65.0  \n",
       "Huelva (capital)                    193.969563   416.443613             50.0  \n",
       "Condado-Campiña                     122.254866   320.678995             25.0  \n",
       "Sierra de Huelva-Andévalo Central    81.613272   218.130017             10.0  \n",
       "Moguer                              187.497142   365.848082             10.0  \n",
       "Aljaraque                           153.674211   386.513924              6.0  \n",
       "Valverde del Camino                 243.137255   603.921569              4.0  \n",
       "Almonte                              77.528869   403.966214              3.0  \n",
       "Isla Cristina                        37.395410    84.139672              3.0  \n",
       "Cortelazor                         1337.792642  1337.792642              3.0  \n",
       "San Juan del Puerto                 233.768994   488.789714              2.0  \n",
       "Gibraleón                            47.106854   180.576274              2.0  \n",
       "Trigueros                           190.791147   343.424065              2.0  \n",
       "Palos de la Frontera                161.812298   476.920456              2.0  \n",
       "Puebla de Guzmán                    194.049159   388.098318              2.0  \n",
       "Cartaya                              49.793358   179.256087              1.0  \n",
       "Alosno                              101.703534   152.555301              1.0  \n",
       "Niebla                               72.886297   510.204082              1.0  \n",
       "San Bartolomé de la Torre            79.766020   239.298059              1.0  \n",
       "Aracena                              72.683222   181.708056              1.0  \n",
       "Ayamonte                             14.215315    42.645944              1.0  \n",
       "Bonares                             214.521452   330.033003              1.0  \n",
       "Villarrasa                          316.598824   633.197648              1.0  \n",
       "Almendro (El)                       119.047619   119.047619              NaN  \n",
       "Calañas                              36.127168   108.381503              NaN  \n",
       "Jabugo                               44.247788    88.495575              NaN  "
      ],
      "text/html": "<div>\n<style scoped>\n    .dataframe tbody tr th:only-of-type {\n        vertical-align: middle;\n    }\n\n    .dataframe tbody tr th {\n        vertical-align: top;\n    }\n\n    .dataframe thead th {\n        text-align: right;\n    }\n</style>\n<table border=\"1\" class=\"dataframe\">\n  <thead>\n    <tr style=\"text-align: right;\">\n      <th>Medida</th>\n      <th>Confirmados PDIA</th>\n      <th>Confirmados PDIA 7 días</th>\n      <th>Confirmados PDIA 14 días</th>\n      <th>Población</th>\n      <th>tasa7</th>\n      <th>tasa14</th>\n      <th>Diferencia PDIA</th>\n    </tr>\n    <tr>\n      <th>Lugar de residencia</th>\n      <th></th>\n      <th></th>\n      <th></th>\n      <th></th>\n      <th></th>\n      <th></th>\n      <th></th>\n    </tr>\n  </thead>\n  <tbody>\n    <tr>\n      <th>Huelva</th>\n      <td>32206.0</td>\n      <td>630.0</td>\n      <td>1479.0</td>\n      <td>513170.0</td>\n      <td>122.766335</td>\n      <td>288.208586</td>\n      <td>100.0</td>\n    </tr>\n    <tr>\n      <th>Huelva-Costa</th>\n      <td>18552.0</td>\n      <td>382.0</td>\n      <td>826.0</td>\n      <td>289548.0</td>\n      <td>131.929766</td>\n      <td>285.272217</td>\n      <td>65.0</td>\n    </tr>\n    <tr>\n      <th>Huelva (capital)</th>\n      <td>8699.0</td>\n      <td>279.0</td>\n      <td>599.0</td>\n      <td>143837.0</td>\n      <td>193.969563</td>\n      <td>416.443613</td>\n      <td>50.0</td>\n    </tr>\n    <tr>\n      <th>Condado-Campiña</th>\n      <td>10455.0</td>\n      <td>191.0</td>\n      <td>501.0</td>\n      <td>156231.0</td>\n      <td>122.254866</td>\n      <td>320.678995</td>\n      <td>25.0</td>\n    </tr>\n    <tr>\n      <th>Sierra de Huelva-Andévalo Central</th>\n      <td>2849.0</td>\n      <td>55.0</td>\n      <td>147.0</td>\n      <td>67391.0</td>\n      <td>81.613272</td>\n      <td>218.130017</td>\n      <td>10.0</td>\n    </tr>\n    <tr>\n      <th>Moguer</th>\n      <td>1336.0</td>\n      <td>41.0</td>\n      <td>80.0</td>\n      <td>21867.0</td>\n      <td>187.497142</td>\n      <td>365.848082</td>\n      <td>10.0</td>\n    </tr>\n    <tr>\n      <th>Aljaraque</th>\n      <td>1145.0</td>\n      <td>33.0</td>\n      <td>83.0</td>\n      <td>21474.0</td>\n      <td>153.674211</td>\n      <td>386.513924</td>\n      <td>6.0</td>\n    </tr>\n    <tr>\n      <th>Valverde del Camino</th>\n      <td>620.0</td>\n      <td>31.0</td>\n      <td>77.0</td>\n      <td>12750.0</td>\n      <td>243.137255</td>\n      <td>603.921569</td>\n      <td>4.0</td>\n    </tr>\n    <tr>\n      <th>Almonte</th>\n      <td>1859.0</td>\n      <td>19.0</td>\n      <td>99.0</td>\n      <td>24507.0</td>\n      <td>77.528869</td>\n      <td>403.966214</td>\n      <td>3.0</td>\n    </tr>\n    <tr>\n      <th>Isla Cristina</th>\n      <td>2158.0</td>\n      <td>8.0</td>\n      <td>18.0</td>\n      <td>21393.0</td>\n      <td>37.395410</td>\n      <td>84.139672</td>\n      <td>3.0</td>\n    </tr>\n    <tr>\n      <th>Cortelazor</th>\n      <td>12.0</td>\n      <td>4.0</td>\n      <td>4.0</td>\n      <td>299.0</td>\n      <td>1337.792642</td>\n      <td>1337.792642</td>\n      <td>3.0</td>\n    </tr>\n    <tr>\n      <th>San Juan del Puerto</th>\n      <td>534.0</td>\n      <td>22.0</td>\n      <td>46.0</td>\n      <td>9411.0</td>\n      <td>233.768994</td>\n      <td>488.789714</td>\n      <td>2.0</td>\n    </tr>\n    <tr>\n      <th>Gibraleón</th>\n      <td>638.0</td>\n      <td>6.0</td>\n      <td>23.0</td>\n      <td>12737.0</td>\n      <td>47.106854</td>\n      <td>180.576274</td>\n      <td>2.0</td>\n    </tr>\n    <tr>\n      <th>Trigueros</th>\n      <td>322.0</td>\n      <td>15.0</td>\n      <td>27.0</td>\n      <td>7862.0</td>\n      <td>190.791147</td>\n      <td>343.424065</td>\n      <td>2.0</td>\n    </tr>\n    <tr>\n      <th>Palos de la Frontera</th>\n      <td>690.0</td>\n      <td>19.0</td>\n      <td>56.0</td>\n      <td>11742.0</td>\n      <td>161.812298</td>\n      <td>476.920456</td>\n      <td>2.0</td>\n    </tr>\n    <tr>\n      <th>Puebla de Guzmán</th>\n      <td>125.0</td>\n      <td>6.0</td>\n      <td>12.0</td>\n      <td>3092.0</td>\n      <td>194.049159</td>\n      <td>388.098318</td>\n      <td>2.0</td>\n    </tr>\n    <tr>\n      <th>Cartaya</th>\n      <td>1357.0</td>\n      <td>10.0</td>\n      <td>36.0</td>\n      <td>20083.0</td>\n      <td>49.793358</td>\n      <td>179.256087</td>\n      <td>1.0</td>\n    </tr>\n    <tr>\n      <th>Alosno</th>\n      <td>172.0</td>\n      <td>4.0</td>\n      <td>6.0</td>\n      <td>3933.0</td>\n      <td>101.703534</td>\n      <td>152.555301</td>\n      <td>1.0</td>\n    </tr>\n    <tr>\n      <th>Niebla</th>\n      <td>241.0</td>\n      <td>3.0</td>\n      <td>21.0</td>\n      <td>4116.0</td>\n      <td>72.886297</td>\n      <td>510.204082</td>\n      <td>1.0</td>\n    </tr>\n    <tr>\n      <th>San Bartolomé de la Torre</th>\n      <td>302.0</td>\n      <td>3.0</td>\n      <td>9.0</td>\n      <td>3761.0</td>\n      <td>79.766020</td>\n      <td>239.298059</td>\n      <td>1.0</td>\n    </tr>\n    <tr>\n      <th>Aracena</th>\n      <td>534.0</td>\n      <td>6.0</td>\n      <td>15.0</td>\n      <td>8255.0</td>\n      <td>72.683222</td>\n      <td>181.708056</td>\n      <td>1.0</td>\n    </tr>\n    <tr>\n      <th>Ayamonte</th>\n      <td>1323.0</td>\n      <td>3.0</td>\n      <td>9.0</td>\n      <td>21104.0</td>\n      <td>14.215315</td>\n      <td>42.645944</td>\n      <td>1.0</td>\n    </tr>\n    <tr>\n      <th>Bonares</th>\n      <td>286.0</td>\n      <td>13.0</td>\n      <td>20.0</td>\n      <td>6060.0</td>\n      <td>214.521452</td>\n      <td>330.033003</td>\n      <td>1.0</td>\n    </tr>\n    <tr>\n      <th>Villarrasa</th>\n      <td>180.0</td>\n      <td>7.0</td>\n      <td>14.0</td>\n      <td>2211.0</td>\n      <td>316.598824</td>\n      <td>633.197648</td>\n      <td>1.0</td>\n    </tr>\n    <tr>\n      <th>Almendro (El)</th>\n      <td>37.0</td>\n      <td>1.0</td>\n      <td>1.0</td>\n      <td>840.0</td>\n      <td>119.047619</td>\n      <td>119.047619</td>\n      <td>NaN</td>\n    </tr>\n    <tr>\n      <th>Calañas</th>\n      <td>192.0</td>\n      <td>1.0</td>\n      <td>3.0</td>\n      <td>2768.0</td>\n      <td>36.127168</td>\n      <td>108.381503</td>\n      <td>NaN</td>\n    </tr>\n    <tr>\n      <th>Jabugo</th>\n      <td>65.0</td>\n      <td>1.0</td>\n      <td>2.0</td>\n      <td>2260.0</td>\n      <td>44.247788</td>\n      <td>88.495575</td>\n      <td>NaN</td>\n    </tr>\n  </tbody>\n</table>\n</div>"
     },
     "metadata": {},
     "execution_count": 15
    }
   ],
   "source": [
    "# Nuevos casos desde la última captura\n",
    "tabla[tabla['Diferencia PDIA'] != 0].sort_values('Diferencia PDIA', ascending=False)"
   ]
  },
  {
   "cell_type": "code",
   "execution_count": 16,
   "metadata": {},
   "outputs": [],
   "source": [
    "if tabla[tabla['Diferencia PDIA'] != 0]['Diferencia PDIA'].sum() != 0:\n",
    "  # Save to csv\n",
    "  tabla.to_csv('covid_huelva.csv', encoding='utf-8', header=True, index=True)  "
   ]
  },
  {
   "cell_type": "code",
   "execution_count": 17,
   "metadata": {},
   "outputs": [
    {
     "output_type": "execute_result",
     "data": {
      "text/plain": [
       "Medida                             Confirmados PDIA  Confirmados PDIA 7 días  \\\n",
       "Lugar de residencia                                                            \n",
       "Cortelazor                                     12.0                      4.0   \n",
       "Villarrasa                                    180.0                      7.0   \n",
       "Valverde del Camino                           620.0                     31.0   \n",
       "Niebla                                        241.0                      3.0   \n",
       "San Juan del Puerto                           534.0                     22.0   \n",
       "Palos de la Frontera                          690.0                     19.0   \n",
       "Huelva (capital)                             8699.0                    279.0   \n",
       "Almonte                                      1859.0                     19.0   \n",
       "Puebla de Guzmán                              125.0                      6.0   \n",
       "Aljaraque                                    1145.0                     33.0   \n",
       "Moguer                                       1336.0                     41.0   \n",
       "Trigueros                                     322.0                     15.0   \n",
       "Bonares                                       286.0                     13.0   \n",
       "Condado-Campiña                             10455.0                    191.0   \n",
       "Bollullos Par del Condado                    1005.0                     23.0   \n",
       "Lucena del Puerto                             259.0                      5.0   \n",
       "Huelva                                      32206.0                    630.0   \n",
       "Huelva-Costa                                18552.0                    382.0   \n",
       "Cortegana                                     214.0                      6.0   \n",
       "Palma del Condado (La)                       1166.0                      8.0   \n",
       "San Bartolomé de la Torre                     302.0                      3.0   \n",
       "Punta Umbría                                  835.0                     22.0   \n",
       "Sierra de Huelva-Andévalo Central            2849.0                     55.0   \n",
       "Manzanilla                                    102.0                      3.0   \n",
       "Aracena                                       534.0                      6.0   \n",
       "Gibraleón                                     638.0                      6.0   \n",
       "Cartaya                                      1357.0                     10.0   \n",
       "Villanueva de los Castillejos                 164.0                      2.0   \n",
       "Rociana del Condado                           558.0                      1.0   \n",
       "Cumbres Mayores                                53.0                      2.0   \n",
       "Higuera de la Sierra                           34.0                      1.0   \n",
       "Alosno                                        172.0                      4.0   \n",
       "Zalamea la Real                                94.0                      1.0   \n",
       "Almendro (El)                                  37.0                      1.0   \n",
       "Calañas                                       192.0                      1.0   \n",
       "Jabugo                                         65.0                      1.0   \n",
       "Isla Cristina                                2158.0                      8.0   \n",
       "Lepe                                         2144.0                     14.0   \n",
       "Galaroza                                       42.0                      1.0   \n",
       "Beas                                          213.0                      2.0   \n",
       "Rosal de la Frontera                           30.0                      1.0   \n",
       "Paterna del Campo                             129.0                      1.0   \n",
       "Ayamonte                                     1323.0                      3.0   \n",
       "\n",
       "Medida                             Confirmados PDIA 14 días  Población  \\\n",
       "Lugar de residencia                                                      \n",
       "Cortelazor                                              4.0      299.0   \n",
       "Villarrasa                                             14.0     2211.0   \n",
       "Valverde del Camino                                    77.0    12750.0   \n",
       "Niebla                                                 21.0     4116.0   \n",
       "San Juan del Puerto                                    46.0     9411.0   \n",
       "Palos de la Frontera                                   56.0    11742.0   \n",
       "Huelva (capital)                                      599.0   143837.0   \n",
       "Almonte                                                99.0    24507.0   \n",
       "Puebla de Guzmán                                       12.0     3092.0   \n",
       "Aljaraque                                              83.0    21474.0   \n",
       "Moguer                                                 80.0    21867.0   \n",
       "Trigueros                                              27.0     7862.0   \n",
       "Bonares                                                20.0     6060.0   \n",
       "Condado-Campiña                                       501.0   156231.0   \n",
       "Bollullos Par del Condado                              45.0    14387.0   \n",
       "Lucena del Puerto                                      10.0     3261.0   \n",
       "Huelva                                               1479.0   513170.0   \n",
       "Huelva-Costa                                          826.0   289548.0   \n",
       "Cortegana                                              13.0     4602.0   \n",
       "Palma del Condado (La)                                 28.0    10801.0   \n",
       "San Bartolomé de la Torre                               9.0     3761.0   \n",
       "Punta Umbría                                           35.0    15355.0   \n",
       "Sierra de Huelva-Andévalo Central                     147.0    67391.0   \n",
       "Manzanilla                                              4.0     2118.0   \n",
       "Aracena                                                15.0     8255.0   \n",
       "Gibraleón                                              23.0    12737.0   \n",
       "Cartaya                                                36.0    20083.0   \n",
       "Villanueva de los Castillejos                           5.0     2825.0   \n",
       "Rociana del Condado                                    14.0     7939.0   \n",
       "Cumbres Mayores                                         3.0     1749.0   \n",
       "Higuera de la Sierra                                    2.0     1291.0   \n",
       "Alosno                                                  6.0     3933.0   \n",
       "Zalamea la Real                                         4.0     3054.0   \n",
       "Almendro (El)                                           1.0      840.0   \n",
       "Calañas                                                 3.0     2768.0   \n",
       "Jabugo                                                  2.0     2260.0   \n",
       "Isla Cristina                                          18.0    21393.0   \n",
       "Lepe                                                   22.0    27880.0   \n",
       "Galaroza                                                1.0     1382.0   \n",
       "Beas                                                    3.0     4341.0   \n",
       "Rosal de la Frontera                                    1.0     1697.0   \n",
       "Paterna del Campo                                       2.0     3457.0   \n",
       "Ayamonte                                                9.0    21104.0   \n",
       "\n",
       "Medida                                   tasa7       tasa14  Diferencia PDIA  \n",
       "Lugar de residencia                                                           \n",
       "Cortelazor                         1337.792642  1337.792642              3.0  \n",
       "Villarrasa                          316.598824   633.197648              1.0  \n",
       "Valverde del Camino                 243.137255   603.921569              4.0  \n",
       "Niebla                               72.886297   510.204082              1.0  \n",
       "San Juan del Puerto                 233.768994   488.789714              2.0  \n",
       "Palos de la Frontera                161.812298   476.920456              2.0  \n",
       "Huelva (capital)                    193.969563   416.443613             50.0  \n",
       "Almonte                              77.528869   403.966214              3.0  \n",
       "Puebla de Guzmán                    194.049159   388.098318              2.0  \n",
       "Aljaraque                           153.674211   386.513924              6.0  \n",
       "Moguer                              187.497142   365.848082             10.0  \n",
       "Trigueros                           190.791147   343.424065              2.0  \n",
       "Bonares                             214.521452   330.033003              1.0  \n",
       "Condado-Campiña                     122.254866   320.678995             25.0  \n",
       "Bollullos Par del Condado           159.866546   312.782373              0.0  \n",
       "Lucena del Puerto                   153.327200   306.654400              0.0  \n",
       "Huelva                              122.766335   288.208586            100.0  \n",
       "Huelva-Costa                        131.929766   285.272217             65.0  \n",
       "Cortegana                           130.378096   282.485876              0.0  \n",
       "Palma del Condado (La)               74.067216   259.235256              0.0  \n",
       "San Bartolomé de la Torre            79.766020   239.298059              1.0  \n",
       "Punta Umbría                        143.275806   227.938782              0.0  \n",
       "Sierra de Huelva-Andévalo Central    81.613272   218.130017             10.0  \n",
       "Manzanilla                          141.643059   188.857413              0.0  \n",
       "Aracena                              72.683222   181.708056              1.0  \n",
       "Gibraleón                            47.106854   180.576274              2.0  \n",
       "Cartaya                              49.793358   179.256087              1.0  \n",
       "Villanueva de los Castillejos        70.796460   176.991150              0.0  \n",
       "Rociana del Condado                  12.596045   176.344628              0.0  \n",
       "Cumbres Mayores                     114.351058   171.526587              0.0  \n",
       "Higuera de la Sierra                 77.459334   154.918668              0.0  \n",
       "Alosno                              101.703534   152.555301              1.0  \n",
       "Zalamea la Real                      32.743942   130.975769              0.0  \n",
       "Almendro (El)                       119.047619   119.047619              NaN  \n",
       "Calañas                              36.127168   108.381503              NaN  \n",
       "Jabugo                               44.247788    88.495575              NaN  \n",
       "Isla Cristina                        37.395410    84.139672              3.0  \n",
       "Lepe                                 50.215208    78.909613              0.0  \n",
       "Galaroza                             72.358900    72.358900              0.0  \n",
       "Beas                                 46.072334    69.108500              0.0  \n",
       "Rosal de la Frontera                 58.927519    58.927519              0.0  \n",
       "Paterna del Campo                    28.926815    57.853630              0.0  \n",
       "Ayamonte                             14.215315    42.645944              1.0  "
      ],
      "text/html": "<div>\n<style scoped>\n    .dataframe tbody tr th:only-of-type {\n        vertical-align: middle;\n    }\n\n    .dataframe tbody tr th {\n        vertical-align: top;\n    }\n\n    .dataframe thead th {\n        text-align: right;\n    }\n</style>\n<table border=\"1\" class=\"dataframe\">\n  <thead>\n    <tr style=\"text-align: right;\">\n      <th>Medida</th>\n      <th>Confirmados PDIA</th>\n      <th>Confirmados PDIA 7 días</th>\n      <th>Confirmados PDIA 14 días</th>\n      <th>Población</th>\n      <th>tasa7</th>\n      <th>tasa14</th>\n      <th>Diferencia PDIA</th>\n    </tr>\n    <tr>\n      <th>Lugar de residencia</th>\n      <th></th>\n      <th></th>\n      <th></th>\n      <th></th>\n      <th></th>\n      <th></th>\n      <th></th>\n    </tr>\n  </thead>\n  <tbody>\n    <tr>\n      <th>Cortelazor</th>\n      <td>12.0</td>\n      <td>4.0</td>\n      <td>4.0</td>\n      <td>299.0</td>\n      <td>1337.792642</td>\n      <td>1337.792642</td>\n      <td>3.0</td>\n    </tr>\n    <tr>\n      <th>Villarrasa</th>\n      <td>180.0</td>\n      <td>7.0</td>\n      <td>14.0</td>\n      <td>2211.0</td>\n      <td>316.598824</td>\n      <td>633.197648</td>\n      <td>1.0</td>\n    </tr>\n    <tr>\n      <th>Valverde del Camino</th>\n      <td>620.0</td>\n      <td>31.0</td>\n      <td>77.0</td>\n      <td>12750.0</td>\n      <td>243.137255</td>\n      <td>603.921569</td>\n      <td>4.0</td>\n    </tr>\n    <tr>\n      <th>Niebla</th>\n      <td>241.0</td>\n      <td>3.0</td>\n      <td>21.0</td>\n      <td>4116.0</td>\n      <td>72.886297</td>\n      <td>510.204082</td>\n      <td>1.0</td>\n    </tr>\n    <tr>\n      <th>San Juan del Puerto</th>\n      <td>534.0</td>\n      <td>22.0</td>\n      <td>46.0</td>\n      <td>9411.0</td>\n      <td>233.768994</td>\n      <td>488.789714</td>\n      <td>2.0</td>\n    </tr>\n    <tr>\n      <th>Palos de la Frontera</th>\n      <td>690.0</td>\n      <td>19.0</td>\n      <td>56.0</td>\n      <td>11742.0</td>\n      <td>161.812298</td>\n      <td>476.920456</td>\n      <td>2.0</td>\n    </tr>\n    <tr>\n      <th>Huelva (capital)</th>\n      <td>8699.0</td>\n      <td>279.0</td>\n      <td>599.0</td>\n      <td>143837.0</td>\n      <td>193.969563</td>\n      <td>416.443613</td>\n      <td>50.0</td>\n    </tr>\n    <tr>\n      <th>Almonte</th>\n      <td>1859.0</td>\n      <td>19.0</td>\n      <td>99.0</td>\n      <td>24507.0</td>\n      <td>77.528869</td>\n      <td>403.966214</td>\n      <td>3.0</td>\n    </tr>\n    <tr>\n      <th>Puebla de Guzmán</th>\n      <td>125.0</td>\n      <td>6.0</td>\n      <td>12.0</td>\n      <td>3092.0</td>\n      <td>194.049159</td>\n      <td>388.098318</td>\n      <td>2.0</td>\n    </tr>\n    <tr>\n      <th>Aljaraque</th>\n      <td>1145.0</td>\n      <td>33.0</td>\n      <td>83.0</td>\n      <td>21474.0</td>\n      <td>153.674211</td>\n      <td>386.513924</td>\n      <td>6.0</td>\n    </tr>\n    <tr>\n      <th>Moguer</th>\n      <td>1336.0</td>\n      <td>41.0</td>\n      <td>80.0</td>\n      <td>21867.0</td>\n      <td>187.497142</td>\n      <td>365.848082</td>\n      <td>10.0</td>\n    </tr>\n    <tr>\n      <th>Trigueros</th>\n      <td>322.0</td>\n      <td>15.0</td>\n      <td>27.0</td>\n      <td>7862.0</td>\n      <td>190.791147</td>\n      <td>343.424065</td>\n      <td>2.0</td>\n    </tr>\n    <tr>\n      <th>Bonares</th>\n      <td>286.0</td>\n      <td>13.0</td>\n      <td>20.0</td>\n      <td>6060.0</td>\n      <td>214.521452</td>\n      <td>330.033003</td>\n      <td>1.0</td>\n    </tr>\n    <tr>\n      <th>Condado-Campiña</th>\n      <td>10455.0</td>\n      <td>191.0</td>\n      <td>501.0</td>\n      <td>156231.0</td>\n      <td>122.254866</td>\n      <td>320.678995</td>\n      <td>25.0</td>\n    </tr>\n    <tr>\n      <th>Bollullos Par del Condado</th>\n      <td>1005.0</td>\n      <td>23.0</td>\n      <td>45.0</td>\n      <td>14387.0</td>\n      <td>159.866546</td>\n      <td>312.782373</td>\n      <td>0.0</td>\n    </tr>\n    <tr>\n      <th>Lucena del Puerto</th>\n      <td>259.0</td>\n      <td>5.0</td>\n      <td>10.0</td>\n      <td>3261.0</td>\n      <td>153.327200</td>\n      <td>306.654400</td>\n      <td>0.0</td>\n    </tr>\n    <tr>\n      <th>Huelva</th>\n      <td>32206.0</td>\n      <td>630.0</td>\n      <td>1479.0</td>\n      <td>513170.0</td>\n      <td>122.766335</td>\n      <td>288.208586</td>\n      <td>100.0</td>\n    </tr>\n    <tr>\n      <th>Huelva-Costa</th>\n      <td>18552.0</td>\n      <td>382.0</td>\n      <td>826.0</td>\n      <td>289548.0</td>\n      <td>131.929766</td>\n      <td>285.272217</td>\n      <td>65.0</td>\n    </tr>\n    <tr>\n      <th>Cortegana</th>\n      <td>214.0</td>\n      <td>6.0</td>\n      <td>13.0</td>\n      <td>4602.0</td>\n      <td>130.378096</td>\n      <td>282.485876</td>\n      <td>0.0</td>\n    </tr>\n    <tr>\n      <th>Palma del Condado (La)</th>\n      <td>1166.0</td>\n      <td>8.0</td>\n      <td>28.0</td>\n      <td>10801.0</td>\n      <td>74.067216</td>\n      <td>259.235256</td>\n      <td>0.0</td>\n    </tr>\n    <tr>\n      <th>San Bartolomé de la Torre</th>\n      <td>302.0</td>\n      <td>3.0</td>\n      <td>9.0</td>\n      <td>3761.0</td>\n      <td>79.766020</td>\n      <td>239.298059</td>\n      <td>1.0</td>\n    </tr>\n    <tr>\n      <th>Punta Umbría</th>\n      <td>835.0</td>\n      <td>22.0</td>\n      <td>35.0</td>\n      <td>15355.0</td>\n      <td>143.275806</td>\n      <td>227.938782</td>\n      <td>0.0</td>\n    </tr>\n    <tr>\n      <th>Sierra de Huelva-Andévalo Central</th>\n      <td>2849.0</td>\n      <td>55.0</td>\n      <td>147.0</td>\n      <td>67391.0</td>\n      <td>81.613272</td>\n      <td>218.130017</td>\n      <td>10.0</td>\n    </tr>\n    <tr>\n      <th>Manzanilla</th>\n      <td>102.0</td>\n      <td>3.0</td>\n      <td>4.0</td>\n      <td>2118.0</td>\n      <td>141.643059</td>\n      <td>188.857413</td>\n      <td>0.0</td>\n    </tr>\n    <tr>\n      <th>Aracena</th>\n      <td>534.0</td>\n      <td>6.0</td>\n      <td>15.0</td>\n      <td>8255.0</td>\n      <td>72.683222</td>\n      <td>181.708056</td>\n      <td>1.0</td>\n    </tr>\n    <tr>\n      <th>Gibraleón</th>\n      <td>638.0</td>\n      <td>6.0</td>\n      <td>23.0</td>\n      <td>12737.0</td>\n      <td>47.106854</td>\n      <td>180.576274</td>\n      <td>2.0</td>\n    </tr>\n    <tr>\n      <th>Cartaya</th>\n      <td>1357.0</td>\n      <td>10.0</td>\n      <td>36.0</td>\n      <td>20083.0</td>\n      <td>49.793358</td>\n      <td>179.256087</td>\n      <td>1.0</td>\n    </tr>\n    <tr>\n      <th>Villanueva de los Castillejos</th>\n      <td>164.0</td>\n      <td>2.0</td>\n      <td>5.0</td>\n      <td>2825.0</td>\n      <td>70.796460</td>\n      <td>176.991150</td>\n      <td>0.0</td>\n    </tr>\n    <tr>\n      <th>Rociana del Condado</th>\n      <td>558.0</td>\n      <td>1.0</td>\n      <td>14.0</td>\n      <td>7939.0</td>\n      <td>12.596045</td>\n      <td>176.344628</td>\n      <td>0.0</td>\n    </tr>\n    <tr>\n      <th>Cumbres Mayores</th>\n      <td>53.0</td>\n      <td>2.0</td>\n      <td>3.0</td>\n      <td>1749.0</td>\n      <td>114.351058</td>\n      <td>171.526587</td>\n      <td>0.0</td>\n    </tr>\n    <tr>\n      <th>Higuera de la Sierra</th>\n      <td>34.0</td>\n      <td>1.0</td>\n      <td>2.0</td>\n      <td>1291.0</td>\n      <td>77.459334</td>\n      <td>154.918668</td>\n      <td>0.0</td>\n    </tr>\n    <tr>\n      <th>Alosno</th>\n      <td>172.0</td>\n      <td>4.0</td>\n      <td>6.0</td>\n      <td>3933.0</td>\n      <td>101.703534</td>\n      <td>152.555301</td>\n      <td>1.0</td>\n    </tr>\n    <tr>\n      <th>Zalamea la Real</th>\n      <td>94.0</td>\n      <td>1.0</td>\n      <td>4.0</td>\n      <td>3054.0</td>\n      <td>32.743942</td>\n      <td>130.975769</td>\n      <td>0.0</td>\n    </tr>\n    <tr>\n      <th>Almendro (El)</th>\n      <td>37.0</td>\n      <td>1.0</td>\n      <td>1.0</td>\n      <td>840.0</td>\n      <td>119.047619</td>\n      <td>119.047619</td>\n      <td>NaN</td>\n    </tr>\n    <tr>\n      <th>Calañas</th>\n      <td>192.0</td>\n      <td>1.0</td>\n      <td>3.0</td>\n      <td>2768.0</td>\n      <td>36.127168</td>\n      <td>108.381503</td>\n      <td>NaN</td>\n    </tr>\n    <tr>\n      <th>Jabugo</th>\n      <td>65.0</td>\n      <td>1.0</td>\n      <td>2.0</td>\n      <td>2260.0</td>\n      <td>44.247788</td>\n      <td>88.495575</td>\n      <td>NaN</td>\n    </tr>\n    <tr>\n      <th>Isla Cristina</th>\n      <td>2158.0</td>\n      <td>8.0</td>\n      <td>18.0</td>\n      <td>21393.0</td>\n      <td>37.395410</td>\n      <td>84.139672</td>\n      <td>3.0</td>\n    </tr>\n    <tr>\n      <th>Lepe</th>\n      <td>2144.0</td>\n      <td>14.0</td>\n      <td>22.0</td>\n      <td>27880.0</td>\n      <td>50.215208</td>\n      <td>78.909613</td>\n      <td>0.0</td>\n    </tr>\n    <tr>\n      <th>Galaroza</th>\n      <td>42.0</td>\n      <td>1.0</td>\n      <td>1.0</td>\n      <td>1382.0</td>\n      <td>72.358900</td>\n      <td>72.358900</td>\n      <td>0.0</td>\n    </tr>\n    <tr>\n      <th>Beas</th>\n      <td>213.0</td>\n      <td>2.0</td>\n      <td>3.0</td>\n      <td>4341.0</td>\n      <td>46.072334</td>\n      <td>69.108500</td>\n      <td>0.0</td>\n    </tr>\n    <tr>\n      <th>Rosal de la Frontera</th>\n      <td>30.0</td>\n      <td>1.0</td>\n      <td>1.0</td>\n      <td>1697.0</td>\n      <td>58.927519</td>\n      <td>58.927519</td>\n      <td>0.0</td>\n    </tr>\n    <tr>\n      <th>Paterna del Campo</th>\n      <td>129.0</td>\n      <td>1.0</td>\n      <td>2.0</td>\n      <td>3457.0</td>\n      <td>28.926815</td>\n      <td>57.853630</td>\n      <td>0.0</td>\n    </tr>\n    <tr>\n      <th>Ayamonte</th>\n      <td>1323.0</td>\n      <td>3.0</td>\n      <td>9.0</td>\n      <td>21104.0</td>\n      <td>14.215315</td>\n      <td>42.645944</td>\n      <td>1.0</td>\n    </tr>\n  </tbody>\n</table>\n</div>"
     },
     "metadata": {},
     "execution_count": 17
    }
   ],
   "source": [
    "tabla.sort_values('tasa14', ascending=False)"
   ]
  },
  {
   "cell_type": "code",
   "execution_count": 18,
   "metadata": {},
   "outputs": [
    {
     "output_type": "execute_result",
     "data": {
      "text/plain": [
       "Medida                             Confirmados PDIA  Confirmados PDIA 7 días  \\\n",
       "Lugar de residencia                                                            \n",
       "Rociana del Condado                           558.0                      1.0   \n",
       "Niebla                                        241.0                      3.0   \n",
       "Almonte                                      1859.0                     19.0   \n",
       "Zalamea la Real                                94.0                      1.0   \n",
       "Gibraleón                                     638.0                      6.0   \n",
       "Cartaya                                      1357.0                     10.0   \n",
       "Palma del Condado (La)                       1166.0                      8.0   \n",
       "San Bartolomé de la Torre                     302.0                      3.0   \n",
       "Ayamonte                                     1323.0                      3.0   \n",
       "Calañas                                       192.0                      1.0   \n",
       "Palos de la Frontera                          690.0                     19.0   \n",
       "Sierra de Huelva-Andévalo Central            2849.0                     55.0   \n",
       "Condado-Campiña                             10455.0                    191.0   \n",
       "Aljaraque                                    1145.0                     33.0   \n",
       "Villanueva de los Castillejos                 164.0                      2.0   \n",
       "Aracena                                       534.0                      6.0   \n",
       "Valverde del Camino                           620.0                     31.0   \n",
       "Huelva                                      32206.0                    630.0   \n",
       "Isla Cristina                                2158.0                      8.0   \n",
       "Cortegana                                     214.0                      6.0   \n",
       "Huelva-Costa                                18552.0                    382.0   \n",
       "Huelva (capital)                             8699.0                    279.0   \n",
       "San Juan del Puerto                           534.0                     22.0   \n",
       "Higuera de la Sierra                           34.0                      1.0   \n",
       "Villarrasa                                    180.0                      7.0   \n",
       "Jabugo                                         65.0                      1.0   \n",
       "Lucena del Puerto                             259.0                      5.0   \n",
       "Puebla de Guzmán                              125.0                      6.0   \n",
       "Paterna del Campo                             129.0                      1.0   \n",
       "Bollullos Par del Condado                    1005.0                     23.0   \n",
       "Moguer                                       1336.0                     41.0   \n",
       "Trigueros                                     322.0                     15.0   \n",
       "Punta Umbría                                  835.0                     22.0   \n",
       "Lepe                                         2144.0                     14.0   \n",
       "Bonares                                       286.0                     13.0   \n",
       "Alosno                                        172.0                      4.0   \n",
       "Beas                                          213.0                      2.0   \n",
       "Cumbres Mayores                                53.0                      2.0   \n",
       "Manzanilla                                    102.0                      3.0   \n",
       "Cortelazor                                     12.0                      4.0   \n",
       "Rosal de la Frontera                           30.0                      1.0   \n",
       "Almendro (El)                                  37.0                      1.0   \n",
       "Galaroza                                       42.0                      1.0   \n",
       "\n",
       "Medida                             Confirmados PDIA 14 días  Población  \\\n",
       "Lugar de residencia                                                      \n",
       "Rociana del Condado                                    14.0     7939.0   \n",
       "Niebla                                                 21.0     4116.0   \n",
       "Almonte                                                99.0    24507.0   \n",
       "Zalamea la Real                                         4.0     3054.0   \n",
       "Gibraleón                                              23.0    12737.0   \n",
       "Cartaya                                                36.0    20083.0   \n",
       "Palma del Condado (La)                                 28.0    10801.0   \n",
       "San Bartolomé de la Torre                               9.0     3761.0   \n",
       "Ayamonte                                                9.0    21104.0   \n",
       "Calañas                                                 3.0     2768.0   \n",
       "Palos de la Frontera                                   56.0    11742.0   \n",
       "Sierra de Huelva-Andévalo Central                     147.0    67391.0   \n",
       "Condado-Campiña                                       501.0   156231.0   \n",
       "Aljaraque                                              83.0    21474.0   \n",
       "Villanueva de los Castillejos                           5.0     2825.0   \n",
       "Aracena                                                15.0     8255.0   \n",
       "Valverde del Camino                                    77.0    12750.0   \n",
       "Huelva                                               1479.0   513170.0   \n",
       "Isla Cristina                                          18.0    21393.0   \n",
       "Cortegana                                              13.0     4602.0   \n",
       "Huelva-Costa                                          826.0   289548.0   \n",
       "Huelva (capital)                                      599.0   143837.0   \n",
       "San Juan del Puerto                                    46.0     9411.0   \n",
       "Higuera de la Sierra                                    2.0     1291.0   \n",
       "Villarrasa                                             14.0     2211.0   \n",
       "Jabugo                                                  2.0     2260.0   \n",
       "Lucena del Puerto                                      10.0     3261.0   \n",
       "Puebla de Guzmán                                       12.0     3092.0   \n",
       "Paterna del Campo                                       2.0     3457.0   \n",
       "Bollullos Par del Condado                              45.0    14387.0   \n",
       "Moguer                                                 80.0    21867.0   \n",
       "Trigueros                                              27.0     7862.0   \n",
       "Punta Umbría                                           35.0    15355.0   \n",
       "Lepe                                                   22.0    27880.0   \n",
       "Bonares                                                20.0     6060.0   \n",
       "Alosno                                                  6.0     3933.0   \n",
       "Beas                                                    3.0     4341.0   \n",
       "Cumbres Mayores                                         3.0     1749.0   \n",
       "Manzanilla                                              4.0     2118.0   \n",
       "Cortelazor                                              4.0      299.0   \n",
       "Rosal de la Frontera                                    1.0     1697.0   \n",
       "Almendro (El)                                           1.0      840.0   \n",
       "Galaroza                                                1.0     1382.0   \n",
       "\n",
       "Medida                                   tasa7       tasa14  Diferencia PDIA  \\\n",
       "Lugar de residencia                                                            \n",
       "Rociana del Condado                  12.596045   176.344628              0.0   \n",
       "Niebla                               72.886297   510.204082              1.0   \n",
       "Almonte                              77.528869   403.966214              3.0   \n",
       "Zalamea la Real                      32.743942   130.975769              0.0   \n",
       "Gibraleón                            47.106854   180.576274              2.0   \n",
       "Cartaya                              49.793358   179.256087              1.0   \n",
       "Palma del Condado (La)               74.067216   259.235256              0.0   \n",
       "San Bartolomé de la Torre            79.766020   239.298059              1.0   \n",
       "Ayamonte                             14.215315    42.645944              1.0   \n",
       "Calañas                              36.127168   108.381503              0.0   \n",
       "Palos de la Frontera                161.812298   476.920456              2.0   \n",
       "Sierra de Huelva-Andévalo Central    81.613272   218.130017             10.0   \n",
       "Condado-Campiña                     122.254866   320.678995             25.0   \n",
       "Aljaraque                           153.674211   386.513924              6.0   \n",
       "Villanueva de los Castillejos        70.796460   176.991150              0.0   \n",
       "Aracena                              72.683222   181.708056              1.0   \n",
       "Valverde del Camino                 243.137255   603.921569              4.0   \n",
       "Huelva                              122.766335   288.208586            100.0   \n",
       "Isla Cristina                        37.395410    84.139672              3.0   \n",
       "Cortegana                           130.378096   282.485876              0.0   \n",
       "Huelva-Costa                        131.929766   285.272217             65.0   \n",
       "Huelva (capital)                    193.969563   416.443613             50.0   \n",
       "San Juan del Puerto                 233.768994   488.789714              2.0   \n",
       "Higuera de la Sierra                 77.459334   154.918668              0.0   \n",
       "Villarrasa                          316.598824   633.197648              1.0   \n",
       "Jabugo                               44.247788    88.495575              0.0   \n",
       "Lucena del Puerto                   153.327200   306.654400              0.0   \n",
       "Puebla de Guzmán                    194.049159   388.098318              2.0   \n",
       "Paterna del Campo                    28.926815    57.853630              0.0   \n",
       "Bollullos Par del Condado           159.866546   312.782373              0.0   \n",
       "Moguer                              187.497142   365.848082             10.0   \n",
       "Trigueros                           190.791147   343.424065              2.0   \n",
       "Punta Umbría                        143.275806   227.938782              0.0   \n",
       "Lepe                                 50.215208    78.909613              0.0   \n",
       "Bonares                             214.521452   330.033003              1.0   \n",
       "Alosno                              101.703534   152.555301              1.0   \n",
       "Beas                                 46.072334    69.108500              0.0   \n",
       "Cumbres Mayores                     114.351058   171.526587              0.0   \n",
       "Manzanilla                          141.643059   188.857413              0.0   \n",
       "Cortelazor                         1337.792642  1337.792642              3.0   \n",
       "Rosal de la Frontera                 58.927519    58.927519              0.0   \n",
       "Almendro (El)                       119.047619   119.047619              0.0   \n",
       "Galaroza                             72.358900    72.358900              0.0   \n",
       "\n",
       "Medida                                 7/14  \n",
       "Lugar de residencia                          \n",
       "Rociana del Condado                0.071429  \n",
       "Niebla                             0.142857  \n",
       "Almonte                            0.191919  \n",
       "Zalamea la Real                    0.250000  \n",
       "Gibraleón                          0.260870  \n",
       "Cartaya                            0.277778  \n",
       "Palma del Condado (La)             0.285714  \n",
       "San Bartolomé de la Torre          0.333333  \n",
       "Ayamonte                           0.333333  \n",
       "Calañas                            0.333333  \n",
       "Palos de la Frontera               0.339286  \n",
       "Sierra de Huelva-Andévalo Central  0.374150  \n",
       "Condado-Campiña                    0.381238  \n",
       "Aljaraque                          0.397590  \n",
       "Villanueva de los Castillejos      0.400000  \n",
       "Aracena                            0.400000  \n",
       "Valverde del Camino                0.402597  \n",
       "Huelva                             0.425963  \n",
       "Isla Cristina                      0.444444  \n",
       "Cortegana                          0.461538  \n",
       "Huelva-Costa                       0.462470  \n",
       "Huelva (capital)                   0.465776  \n",
       "San Juan del Puerto                0.478261  \n",
       "Higuera de la Sierra               0.500000  \n",
       "Villarrasa                         0.500000  \n",
       "Jabugo                             0.500000  \n",
       "Lucena del Puerto                  0.500000  \n",
       "Puebla de Guzmán                   0.500000  \n",
       "Paterna del Campo                  0.500000  \n",
       "Bollullos Par del Condado          0.511111  \n",
       "Moguer                             0.512500  \n",
       "Trigueros                          0.555556  \n",
       "Punta Umbría                       0.628571  \n",
       "Lepe                               0.636364  \n",
       "Bonares                            0.650000  \n",
       "Alosno                             0.666667  \n",
       "Beas                               0.666667  \n",
       "Cumbres Mayores                    0.666667  \n",
       "Manzanilla                         0.750000  \n",
       "Cortelazor                         1.000000  \n",
       "Rosal de la Frontera               1.000000  \n",
       "Almendro (El)                      1.000000  \n",
       "Galaroza                           1.000000  "
      ],
      "text/html": "<div>\n<style scoped>\n    .dataframe tbody tr th:only-of-type {\n        vertical-align: middle;\n    }\n\n    .dataframe tbody tr th {\n        vertical-align: top;\n    }\n\n    .dataframe thead th {\n        text-align: right;\n    }\n</style>\n<table border=\"1\" class=\"dataframe\">\n  <thead>\n    <tr style=\"text-align: right;\">\n      <th>Medida</th>\n      <th>Confirmados PDIA</th>\n      <th>Confirmados PDIA 7 días</th>\n      <th>Confirmados PDIA 14 días</th>\n      <th>Población</th>\n      <th>tasa7</th>\n      <th>tasa14</th>\n      <th>Diferencia PDIA</th>\n      <th>7/14</th>\n    </tr>\n    <tr>\n      <th>Lugar de residencia</th>\n      <th></th>\n      <th></th>\n      <th></th>\n      <th></th>\n      <th></th>\n      <th></th>\n      <th></th>\n      <th></th>\n    </tr>\n  </thead>\n  <tbody>\n    <tr>\n      <th>Rociana del Condado</th>\n      <td>558.0</td>\n      <td>1.0</td>\n      <td>14.0</td>\n      <td>7939.0</td>\n      <td>12.596045</td>\n      <td>176.344628</td>\n      <td>0.0</td>\n      <td>0.071429</td>\n    </tr>\n    <tr>\n      <th>Niebla</th>\n      <td>241.0</td>\n      <td>3.0</td>\n      <td>21.0</td>\n      <td>4116.0</td>\n      <td>72.886297</td>\n      <td>510.204082</td>\n      <td>1.0</td>\n      <td>0.142857</td>\n    </tr>\n    <tr>\n      <th>Almonte</th>\n      <td>1859.0</td>\n      <td>19.0</td>\n      <td>99.0</td>\n      <td>24507.0</td>\n      <td>77.528869</td>\n      <td>403.966214</td>\n      <td>3.0</td>\n      <td>0.191919</td>\n    </tr>\n    <tr>\n      <th>Zalamea la Real</th>\n      <td>94.0</td>\n      <td>1.0</td>\n      <td>4.0</td>\n      <td>3054.0</td>\n      <td>32.743942</td>\n      <td>130.975769</td>\n      <td>0.0</td>\n      <td>0.250000</td>\n    </tr>\n    <tr>\n      <th>Gibraleón</th>\n      <td>638.0</td>\n      <td>6.0</td>\n      <td>23.0</td>\n      <td>12737.0</td>\n      <td>47.106854</td>\n      <td>180.576274</td>\n      <td>2.0</td>\n      <td>0.260870</td>\n    </tr>\n    <tr>\n      <th>Cartaya</th>\n      <td>1357.0</td>\n      <td>10.0</td>\n      <td>36.0</td>\n      <td>20083.0</td>\n      <td>49.793358</td>\n      <td>179.256087</td>\n      <td>1.0</td>\n      <td>0.277778</td>\n    </tr>\n    <tr>\n      <th>Palma del Condado (La)</th>\n      <td>1166.0</td>\n      <td>8.0</td>\n      <td>28.0</td>\n      <td>10801.0</td>\n      <td>74.067216</td>\n      <td>259.235256</td>\n      <td>0.0</td>\n      <td>0.285714</td>\n    </tr>\n    <tr>\n      <th>San Bartolomé de la Torre</th>\n      <td>302.0</td>\n      <td>3.0</td>\n      <td>9.0</td>\n      <td>3761.0</td>\n      <td>79.766020</td>\n      <td>239.298059</td>\n      <td>1.0</td>\n      <td>0.333333</td>\n    </tr>\n    <tr>\n      <th>Ayamonte</th>\n      <td>1323.0</td>\n      <td>3.0</td>\n      <td>9.0</td>\n      <td>21104.0</td>\n      <td>14.215315</td>\n      <td>42.645944</td>\n      <td>1.0</td>\n      <td>0.333333</td>\n    </tr>\n    <tr>\n      <th>Calañas</th>\n      <td>192.0</td>\n      <td>1.0</td>\n      <td>3.0</td>\n      <td>2768.0</td>\n      <td>36.127168</td>\n      <td>108.381503</td>\n      <td>0.0</td>\n      <td>0.333333</td>\n    </tr>\n    <tr>\n      <th>Palos de la Frontera</th>\n      <td>690.0</td>\n      <td>19.0</td>\n      <td>56.0</td>\n      <td>11742.0</td>\n      <td>161.812298</td>\n      <td>476.920456</td>\n      <td>2.0</td>\n      <td>0.339286</td>\n    </tr>\n    <tr>\n      <th>Sierra de Huelva-Andévalo Central</th>\n      <td>2849.0</td>\n      <td>55.0</td>\n      <td>147.0</td>\n      <td>67391.0</td>\n      <td>81.613272</td>\n      <td>218.130017</td>\n      <td>10.0</td>\n      <td>0.374150</td>\n    </tr>\n    <tr>\n      <th>Condado-Campiña</th>\n      <td>10455.0</td>\n      <td>191.0</td>\n      <td>501.0</td>\n      <td>156231.0</td>\n      <td>122.254866</td>\n      <td>320.678995</td>\n      <td>25.0</td>\n      <td>0.381238</td>\n    </tr>\n    <tr>\n      <th>Aljaraque</th>\n      <td>1145.0</td>\n      <td>33.0</td>\n      <td>83.0</td>\n      <td>21474.0</td>\n      <td>153.674211</td>\n      <td>386.513924</td>\n      <td>6.0</td>\n      <td>0.397590</td>\n    </tr>\n    <tr>\n      <th>Villanueva de los Castillejos</th>\n      <td>164.0</td>\n      <td>2.0</td>\n      <td>5.0</td>\n      <td>2825.0</td>\n      <td>70.796460</td>\n      <td>176.991150</td>\n      <td>0.0</td>\n      <td>0.400000</td>\n    </tr>\n    <tr>\n      <th>Aracena</th>\n      <td>534.0</td>\n      <td>6.0</td>\n      <td>15.0</td>\n      <td>8255.0</td>\n      <td>72.683222</td>\n      <td>181.708056</td>\n      <td>1.0</td>\n      <td>0.400000</td>\n    </tr>\n    <tr>\n      <th>Valverde del Camino</th>\n      <td>620.0</td>\n      <td>31.0</td>\n      <td>77.0</td>\n      <td>12750.0</td>\n      <td>243.137255</td>\n      <td>603.921569</td>\n      <td>4.0</td>\n      <td>0.402597</td>\n    </tr>\n    <tr>\n      <th>Huelva</th>\n      <td>32206.0</td>\n      <td>630.0</td>\n      <td>1479.0</td>\n      <td>513170.0</td>\n      <td>122.766335</td>\n      <td>288.208586</td>\n      <td>100.0</td>\n      <td>0.425963</td>\n    </tr>\n    <tr>\n      <th>Isla Cristina</th>\n      <td>2158.0</td>\n      <td>8.0</td>\n      <td>18.0</td>\n      <td>21393.0</td>\n      <td>37.395410</td>\n      <td>84.139672</td>\n      <td>3.0</td>\n      <td>0.444444</td>\n    </tr>\n    <tr>\n      <th>Cortegana</th>\n      <td>214.0</td>\n      <td>6.0</td>\n      <td>13.0</td>\n      <td>4602.0</td>\n      <td>130.378096</td>\n      <td>282.485876</td>\n      <td>0.0</td>\n      <td>0.461538</td>\n    </tr>\n    <tr>\n      <th>Huelva-Costa</th>\n      <td>18552.0</td>\n      <td>382.0</td>\n      <td>826.0</td>\n      <td>289548.0</td>\n      <td>131.929766</td>\n      <td>285.272217</td>\n      <td>65.0</td>\n      <td>0.462470</td>\n    </tr>\n    <tr>\n      <th>Huelva (capital)</th>\n      <td>8699.0</td>\n      <td>279.0</td>\n      <td>599.0</td>\n      <td>143837.0</td>\n      <td>193.969563</td>\n      <td>416.443613</td>\n      <td>50.0</td>\n      <td>0.465776</td>\n    </tr>\n    <tr>\n      <th>San Juan del Puerto</th>\n      <td>534.0</td>\n      <td>22.0</td>\n      <td>46.0</td>\n      <td>9411.0</td>\n      <td>233.768994</td>\n      <td>488.789714</td>\n      <td>2.0</td>\n      <td>0.478261</td>\n    </tr>\n    <tr>\n      <th>Higuera de la Sierra</th>\n      <td>34.0</td>\n      <td>1.0</td>\n      <td>2.0</td>\n      <td>1291.0</td>\n      <td>77.459334</td>\n      <td>154.918668</td>\n      <td>0.0</td>\n      <td>0.500000</td>\n    </tr>\n    <tr>\n      <th>Villarrasa</th>\n      <td>180.0</td>\n      <td>7.0</td>\n      <td>14.0</td>\n      <td>2211.0</td>\n      <td>316.598824</td>\n      <td>633.197648</td>\n      <td>1.0</td>\n      <td>0.500000</td>\n    </tr>\n    <tr>\n      <th>Jabugo</th>\n      <td>65.0</td>\n      <td>1.0</td>\n      <td>2.0</td>\n      <td>2260.0</td>\n      <td>44.247788</td>\n      <td>88.495575</td>\n      <td>0.0</td>\n      <td>0.500000</td>\n    </tr>\n    <tr>\n      <th>Lucena del Puerto</th>\n      <td>259.0</td>\n      <td>5.0</td>\n      <td>10.0</td>\n      <td>3261.0</td>\n      <td>153.327200</td>\n      <td>306.654400</td>\n      <td>0.0</td>\n      <td>0.500000</td>\n    </tr>\n    <tr>\n      <th>Puebla de Guzmán</th>\n      <td>125.0</td>\n      <td>6.0</td>\n      <td>12.0</td>\n      <td>3092.0</td>\n      <td>194.049159</td>\n      <td>388.098318</td>\n      <td>2.0</td>\n      <td>0.500000</td>\n    </tr>\n    <tr>\n      <th>Paterna del Campo</th>\n      <td>129.0</td>\n      <td>1.0</td>\n      <td>2.0</td>\n      <td>3457.0</td>\n      <td>28.926815</td>\n      <td>57.853630</td>\n      <td>0.0</td>\n      <td>0.500000</td>\n    </tr>\n    <tr>\n      <th>Bollullos Par del Condado</th>\n      <td>1005.0</td>\n      <td>23.0</td>\n      <td>45.0</td>\n      <td>14387.0</td>\n      <td>159.866546</td>\n      <td>312.782373</td>\n      <td>0.0</td>\n      <td>0.511111</td>\n    </tr>\n    <tr>\n      <th>Moguer</th>\n      <td>1336.0</td>\n      <td>41.0</td>\n      <td>80.0</td>\n      <td>21867.0</td>\n      <td>187.497142</td>\n      <td>365.848082</td>\n      <td>10.0</td>\n      <td>0.512500</td>\n    </tr>\n    <tr>\n      <th>Trigueros</th>\n      <td>322.0</td>\n      <td>15.0</td>\n      <td>27.0</td>\n      <td>7862.0</td>\n      <td>190.791147</td>\n      <td>343.424065</td>\n      <td>2.0</td>\n      <td>0.555556</td>\n    </tr>\n    <tr>\n      <th>Punta Umbría</th>\n      <td>835.0</td>\n      <td>22.0</td>\n      <td>35.0</td>\n      <td>15355.0</td>\n      <td>143.275806</td>\n      <td>227.938782</td>\n      <td>0.0</td>\n      <td>0.628571</td>\n    </tr>\n    <tr>\n      <th>Lepe</th>\n      <td>2144.0</td>\n      <td>14.0</td>\n      <td>22.0</td>\n      <td>27880.0</td>\n      <td>50.215208</td>\n      <td>78.909613</td>\n      <td>0.0</td>\n      <td>0.636364</td>\n    </tr>\n    <tr>\n      <th>Bonares</th>\n      <td>286.0</td>\n      <td>13.0</td>\n      <td>20.0</td>\n      <td>6060.0</td>\n      <td>214.521452</td>\n      <td>330.033003</td>\n      <td>1.0</td>\n      <td>0.650000</td>\n    </tr>\n    <tr>\n      <th>Alosno</th>\n      <td>172.0</td>\n      <td>4.0</td>\n      <td>6.0</td>\n      <td>3933.0</td>\n      <td>101.703534</td>\n      <td>152.555301</td>\n      <td>1.0</td>\n      <td>0.666667</td>\n    </tr>\n    <tr>\n      <th>Beas</th>\n      <td>213.0</td>\n      <td>2.0</td>\n      <td>3.0</td>\n      <td>4341.0</td>\n      <td>46.072334</td>\n      <td>69.108500</td>\n      <td>0.0</td>\n      <td>0.666667</td>\n    </tr>\n    <tr>\n      <th>Cumbres Mayores</th>\n      <td>53.0</td>\n      <td>2.0</td>\n      <td>3.0</td>\n      <td>1749.0</td>\n      <td>114.351058</td>\n      <td>171.526587</td>\n      <td>0.0</td>\n      <td>0.666667</td>\n    </tr>\n    <tr>\n      <th>Manzanilla</th>\n      <td>102.0</td>\n      <td>3.0</td>\n      <td>4.0</td>\n      <td>2118.0</td>\n      <td>141.643059</td>\n      <td>188.857413</td>\n      <td>0.0</td>\n      <td>0.750000</td>\n    </tr>\n    <tr>\n      <th>Cortelazor</th>\n      <td>12.0</td>\n      <td>4.0</td>\n      <td>4.0</td>\n      <td>299.0</td>\n      <td>1337.792642</td>\n      <td>1337.792642</td>\n      <td>3.0</td>\n      <td>1.000000</td>\n    </tr>\n    <tr>\n      <th>Rosal de la Frontera</th>\n      <td>30.0</td>\n      <td>1.0</td>\n      <td>1.0</td>\n      <td>1697.0</td>\n      <td>58.927519</td>\n      <td>58.927519</td>\n      <td>0.0</td>\n      <td>1.000000</td>\n    </tr>\n    <tr>\n      <th>Almendro (El)</th>\n      <td>37.0</td>\n      <td>1.0</td>\n      <td>1.0</td>\n      <td>840.0</td>\n      <td>119.047619</td>\n      <td>119.047619</td>\n      <td>0.0</td>\n      <td>1.000000</td>\n    </tr>\n    <tr>\n      <th>Galaroza</th>\n      <td>42.0</td>\n      <td>1.0</td>\n      <td>1.0</td>\n      <td>1382.0</td>\n      <td>72.358900</td>\n      <td>72.358900</td>\n      <td>0.0</td>\n      <td>1.000000</td>\n    </tr>\n  </tbody>\n</table>\n</div>"
     },
     "metadata": {},
     "execution_count": 18
    }
   ],
   "source": [
    "# Peso de la tasa de la última semana en relación con la tasa a 14 días \n",
    "# Mejor cuanto menor. Valor 1 significa que no había casos antes de 7 días.\n",
    "tabla['7/14'] = tabla['tasa7'] / tabla['tasa14']\n",
    "tabla.fillna(0).sort_values('7/14', ascending=True)"
   ]
  },
  {
   "cell_type": "code",
   "execution_count": null,
   "metadata": {},
   "outputs": [],
   "source": []
  }
 ]
}