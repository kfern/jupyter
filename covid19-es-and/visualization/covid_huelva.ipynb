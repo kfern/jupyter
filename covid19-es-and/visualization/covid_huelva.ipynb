{
 "metadata": {
  "language_info": {
   "codemirror_mode": {
    "name": "ipython",
    "version": 3
   },
   "file_extension": ".py",
   "mimetype": "text/x-python",
   "name": "python",
   "nbconvert_exporter": "python",
   "pygments_lexer": "ipython3",
   "version": "3.8.6-final"
  },
  "orig_nbformat": 2,
  "kernelspec": {
   "name": "python38564bit75945252d6ba481bad4868286020c89e",
   "display_name": "Python 3.8.5 64-bit",
   "language": "python"
  }
 },
 "nbformat": 4,
 "nbformat_minor": 2,
 "cells": [
  {
   "cell_type": "code",
   "execution_count": 1,
   "metadata": {},
   "outputs": [],
   "source": [
    "import pandas as pd"
   ]
  },
  {
   "cell_type": "code",
   "execution_count": 2,
   "metadata": {},
   "outputs": [],
   "source": [
    "# FIX SSL: CERTIFICATE_VERIFY_FAILED with Python3\n",
    "# https://stackoverflow.com/a/49174340\n",
    "import ssl\n",
    "\n",
    "ssl._create_default_https_context = ssl._create_unverified_context"
   ]
  },
  {
   "cell_type": "code",
   "execution_count": 3,
   "metadata": {},
   "outputs": [],
   "source": [
    "url = 'https://www.juntadeandalucia.es/institutodeestadisticaycartografia/badea/stpivot/stpivot/Print?cube=013d884c-cfc5-4c21-9e78-e26225682afd&type=3&foto=si&ejecutaDesde=&codConsulta=38668&consTipoVisua=JP'\n",
    "fields = ['Lugar de residencia', 'Medida', 'Valor']\n",
    "df = pd.read_csv(url, delimiter=';', usecols=fields, decimal=',')"
   ]
  },
  {
   "cell_type": "code",
   "execution_count": 4,
   "metadata": {},
   "outputs": [
    {
     "output_type": "execute_result",
     "data": {
      "text/plain": [
       "                     Lugar de residencia                    Medida  \\\n",
       "0                                 Huelva                 Población   \n",
       "1                                 Huelva          Confirmados PDIA   \n",
       "2                                 Huelva  Confirmados PDIA 14 días   \n",
       "3                                 Huelva         Tasa PDIA 14 días   \n",
       "4                                 Huelva   Confirmados PDIA 7 días   \n",
       "..                                   ...                       ...   \n",
       "627  Municipio de Huelva sin especificar         Tasa PDIA 14 días   \n",
       "628  Municipio de Huelva sin especificar   Confirmados PDIA 7 días   \n",
       "629  Municipio de Huelva sin especificar        Total Confirmados    \n",
       "630  Municipio de Huelva sin especificar                   Curados   \n",
       "631  Municipio de Huelva sin especificar                Fallecidos   \n",
       "\n",
       "                  Valor  \n",
       "0                510743  \n",
       "1                 11790  \n",
       "2                   723  \n",
       "3    141,55847461443426  \n",
       "4                   458  \n",
       "..                  ...  \n",
       "627                   -  \n",
       "628                  20  \n",
       "629                 155  \n",
       "630                 115  \n",
       "631                   2  \n",
       "\n",
       "[632 rows x 3 columns]"
      ],
      "text/html": "<div>\n<style scoped>\n    .dataframe tbody tr th:only-of-type {\n        vertical-align: middle;\n    }\n\n    .dataframe tbody tr th {\n        vertical-align: top;\n    }\n\n    .dataframe thead th {\n        text-align: right;\n    }\n</style>\n<table border=\"1\" class=\"dataframe\">\n  <thead>\n    <tr style=\"text-align: right;\">\n      <th></th>\n      <th>Lugar de residencia</th>\n      <th>Medida</th>\n      <th>Valor</th>\n    </tr>\n  </thead>\n  <tbody>\n    <tr>\n      <th>0</th>\n      <td>Huelva</td>\n      <td>Población</td>\n      <td>510743</td>\n    </tr>\n    <tr>\n      <th>1</th>\n      <td>Huelva</td>\n      <td>Confirmados PDIA</td>\n      <td>11790</td>\n    </tr>\n    <tr>\n      <th>2</th>\n      <td>Huelva</td>\n      <td>Confirmados PDIA 14 días</td>\n      <td>723</td>\n    </tr>\n    <tr>\n      <th>3</th>\n      <td>Huelva</td>\n      <td>Tasa PDIA 14 días</td>\n      <td>141,55847461443426</td>\n    </tr>\n    <tr>\n      <th>4</th>\n      <td>Huelva</td>\n      <td>Confirmados PDIA 7 días</td>\n      <td>458</td>\n    </tr>\n    <tr>\n      <th>...</th>\n      <td>...</td>\n      <td>...</td>\n      <td>...</td>\n    </tr>\n    <tr>\n      <th>627</th>\n      <td>Municipio de Huelva sin especificar</td>\n      <td>Tasa PDIA 14 días</td>\n      <td>-</td>\n    </tr>\n    <tr>\n      <th>628</th>\n      <td>Municipio de Huelva sin especificar</td>\n      <td>Confirmados PDIA 7 días</td>\n      <td>20</td>\n    </tr>\n    <tr>\n      <th>629</th>\n      <td>Municipio de Huelva sin especificar</td>\n      <td>Total Confirmados</td>\n      <td>155</td>\n    </tr>\n    <tr>\n      <th>630</th>\n      <td>Municipio de Huelva sin especificar</td>\n      <td>Curados</td>\n      <td>115</td>\n    </tr>\n    <tr>\n      <th>631</th>\n      <td>Municipio de Huelva sin especificar</td>\n      <td>Fallecidos</td>\n      <td>2</td>\n    </tr>\n  </tbody>\n</table>\n<p>632 rows × 3 columns</p>\n</div>"
     },
     "metadata": {},
     "execution_count": 4
    }
   ],
   "source": [
    "df"
   ]
  },
  {
   "cell_type": "code",
   "execution_count": 5,
   "metadata": {},
   "outputs": [],
   "source": [
    "df['Valor'] = pd.to_numeric(df['Valor'],errors='coerce')"
   ]
  },
  {
   "cell_type": "code",
   "execution_count": 6,
   "metadata": {},
   "outputs": [],
   "source": [
    "dfAnterior = pd.read_csv('covid_huelva.csv', index_col='Lugar de residencia')"
   ]
  },
  {
   "cell_type": "code",
   "execution_count": 7,
   "metadata": {
    "tags": []
   },
   "outputs": [
    {
     "output_type": "stream",
     "name": "stdout",
     "text": [
      "Confirmados PCR en la provincia de Huelva:  11790.0\n"
     ]
    }
   ],
   "source": [
    "# Confirmados PCR provincia Huelva\n",
    "p = df[df['Lugar de residencia'] == 'Huelva'][df['Medida'] == 'Confirmados PDIA']['Valor'].values[0]\n",
    "print('Confirmados PCR en la provincia de Huelva: ', p)"
   ]
  },
  {
   "cell_type": "code",
   "execution_count": 8,
   "metadata": {
    "tags": []
   },
   "outputs": [
    {
     "output_type": "stream",
     "name": "stdout",
     "text": [
      "Confirmados PCR en Huelva capital:  3356.0\n"
     ]
    }
   ],
   "source": [
    "# Confirmados PCR Huelva capitalpd\n",
    "c = df[df['Lugar de residencia'] == 'Huelva (capital)'][df['Medida'] == 'Confirmados PDIA']['Valor'].values[0]\n",
    "print('Confirmados PCR en Huelva capital: ', c)"
   ]
  },
  {
   "cell_type": "code",
   "execution_count": 9,
   "metadata": {
    "tags": []
   },
   "outputs": [],
   "source": [
    "c7 = df[df['Lugar de residencia'] == 'Huelva (capital)'][df['Medida'] == 'Confirmados PDIA 7 días']['Valor'].values[0]\n",
    "c14 = df[df['Lugar de residencia'] == 'Huelva (capital)'][df['Medida'] == 'Confirmados PDIA 14 días']['Valor'].values[0]\n",
    "p = df[df['Lugar de residencia'] == 'Huelva (capital)'][df['Medida'] == 'Población']['Valor'].values[0]"
   ]
  },
  {
   "cell_type": "code",
   "execution_count": 10,
   "metadata": {
    "tags": []
   },
   "outputs": [
    {
     "output_type": "stream",
     "name": "stdout",
     "text": [
      "Huelva (capital)\n\nUn positivo PCR cada 1072 personas en los últimos 7 días \n\nUn positivo PCR cada 633 personas en los últimos 14 días\n"
     ]
    }
   ],
   "source": [
    "print('Huelva (capital)\\n')\n",
    "#print('Confirmados PCR 7 días x 1,000 habitantes: ', f\"{c7/(p/1000):.5f}\")\n",
    "print('Un positivo PCR cada', f\"{p/c7:.0f}\", 'personas en los últimos 7 días', '\\n')\n",
    "#print('Confirmados PCR 14 días x 1,000 habitantes: ', f\"{c14/(p/1000):.5f}\")\n",
    "print('Un positivo PCR cada', f\"{p/c14:.0f}\", 'personas en los últimos 14 días')"
   ]
  },
  {
   "cell_type": "code",
   "execution_count": 11,
   "metadata": {},
   "outputs": [],
   "source": [
    "filtro = ((df['Medida'] == 'Confirmados PDIA')| (df['Medida'] == 'Confirmados PDIA 7 días') | (df['Medida'] == 'Población' ) | (df['Medida'] == 'Confirmados PDIA 14 días')) & (df['Valor'] > 0)\n",
    "tabla = pd.pivot_table(df.loc[filtro], values='Valor', index='Lugar de residencia', columns='Medida').dropna()"
   ]
  },
  {
   "cell_type": "code",
   "execution_count": 12,
   "metadata": {},
   "outputs": [],
   "source": [
    "# Reorder columns\n",
    "tabla = tabla[['Confirmados PDIA', 'Confirmados PDIA 7 días', 'Confirmados PDIA 14 días', 'Población']]"
   ]
  },
  {
   "cell_type": "code",
   "execution_count": 13,
   "metadata": {},
   "outputs": [],
   "source": [
    "tabla['tasa7'] = tabla['Confirmados PDIA 7 días']/tabla['Población']*100000\n",
    "tabla['tasa14'] = tabla['Confirmados PDIA 14 días']/tabla['Población']*100000"
   ]
  },
  {
   "cell_type": "code",
   "execution_count": 14,
   "metadata": {},
   "outputs": [],
   "source": [
    "tabla['Diferencia PDIA'] = tabla['Confirmados PDIA'] - dfAnterior['Confirmados PDIA']"
   ]
  },
  {
   "cell_type": "code",
   "execution_count": 15,
   "metadata": {},
   "outputs": [
    {
     "output_type": "execute_result",
     "data": {
      "text/plain": [
       "Medida                             Confirmados PDIA  Confirmados PDIA 7 días  \\\n",
       "Lugar de residencia                                                            \n",
       "Huelva                                      11790.0                    458.0   \n",
       "Huelva-Costa                                 6726.0                    303.0   \n",
       "Huelva (capital)                             3356.0                    134.0   \n",
       "Condado-Campiña                              3575.0                    101.0   \n",
       "Isla Cristina                                 547.0                     80.0   \n",
       "Moguer                                        422.0                     32.0   \n",
       "Cartaya                                       449.0                     19.0   \n",
       "Palma del Condado (La)                        581.0                     26.0   \n",
       "Lepe                                         1003.0                     21.0   \n",
       "Sierra de Huelva-Andévalo Central            1335.0                     34.0   \n",
       "Aljaraque                                     454.0                     10.0   \n",
       "Ayamonte                                      361.0                     18.0   \n",
       "Cerro de Andévalo (El)                         57.0                     12.0   \n",
       "Bollullos Par del Condado                     258.0                      5.0   \n",
       "San Juan del Puerto                           160.0                      6.0   \n",
       "Almendro (El)                                  21.0                      5.0   \n",
       "Bonares                                        72.0                      5.0   \n",
       "Punta Umbría                                  246.0                      9.0   \n",
       "Alosno                                         48.0                      4.0   \n",
       "Palos de la Frontera                          271.0                     10.0   \n",
       "Escacena del Campo                            101.0                      3.0   \n",
       "Aracena                                       293.0                      6.0   \n",
       "Almonte                                       453.0                      3.0   \n",
       "Valverde del Camino                           276.0                      3.0   \n",
       "Nerva                                          89.0                      1.0   \n",
       "Rociana del Condado                           123.0                      2.0   \n",
       "Almonaster la Real                             35.0                      2.0   \n",
       "Calañas                                        44.0                      1.0   \n",
       "Cortegana                                     124.0                      1.0   \n",
       "Niebla                                        118.0                      1.0   \n",
       "San Bartolomé de la Torre                      46.0                      1.0   \n",
       "Villalba del Alcor                            105.0                      1.0   \n",
       "Villanueva de los Castillejos                  65.0                      1.0   \n",
       "\n",
       "Medida                             Confirmados PDIA 14 días  Población  \\\n",
       "Lugar de residencia                                                      \n",
       "Huelva                                                723.0   510743.0   \n",
       "Huelva-Costa                                          478.0   288115.0   \n",
       "Huelva (capital)                                      227.0   143663.0   \n",
       "Condado-Campiña                                       166.0   155057.0   \n",
       "Isla Cristina                                         101.0    21264.0   \n",
       "Moguer                                                 43.0    22088.0   \n",
       "Cartaya                                                36.0    19974.0   \n",
       "Palma del Condado (La)                                 42.0    10761.0   \n",
       "Lepe                                                   39.0    27431.0   \n",
       "Sierra de Huelva-Andévalo Central                      49.0    67571.0   \n",
       "Aljaraque                                              15.0    21260.0   \n",
       "Ayamonte                                               26.0    20946.0   \n",
       "Cerro de Andévalo (El)                                 19.0     2364.0   \n",
       "Bollullos Par del Condado                               8.0    14272.0   \n",
       "San Juan del Puerto                                     7.0     9300.0   \n",
       "Almendro (El)                                           5.0      826.0   \n",
       "Bonares                                                 8.0     6058.0   \n",
       "Punta Umbría                                           11.0    15242.0   \n",
       "Alosno                                                  4.0     3923.0   \n",
       "Palos de la Frontera                                   20.0    11289.0   \n",
       "Escacena del Campo                                      4.0     2284.0   \n",
       "Aracena                                                 6.0     8107.0   \n",
       "Almonte                                                 9.0    24191.0   \n",
       "Valverde del Camino                                     3.0    12820.0   \n",
       "Nerva                                                   2.0     5235.0   \n",
       "Rociana del Condado                                     3.0     7855.0   \n",
       "Almonaster la Real                                      2.0     1819.0   \n",
       "Calañas                                                 1.0     2791.0   \n",
       "Cortegana                                               1.0     4666.0   \n",
       "Niebla                                                  1.0     4117.0   \n",
       "San Bartolomé de la Torre                               1.0     3736.0   \n",
       "Villalba del Alcor                                      2.0     3338.0   \n",
       "Villanueva de los Castillejos                           1.0     2820.0   \n",
       "\n",
       "Medida                                  tasa7      tasa14  Diferencia PDIA  \n",
       "Lugar de residencia                                                         \n",
       "Huelva                              89.673280  141.558475            272.0  \n",
       "Huelva-Costa                       105.166340  165.905975            190.0  \n",
       "Huelva (capital)                    93.273842  158.008673             76.0  \n",
       "Condado-Campiña                     65.137337  107.057405             57.0  \n",
       "Isla Cristina                      376.222724  474.981189             55.0  \n",
       "Moguer                             144.875045  194.675842             17.0  \n",
       "Cartaya                             95.123661  180.234305             16.0  \n",
       "Palma del Condado (La)             241.613233  390.298299             15.0  \n",
       "Lepe                                76.555722  142.174912             15.0  \n",
       "Sierra de Huelva-Andévalo Central   50.317444   72.516316             14.0  \n",
       "Aljaraque                           47.036689   70.555033              8.0  \n",
       "Ayamonte                            85.935262  124.128712              8.0  \n",
       "Cerro de Andévalo (El)             507.614213  803.722504              5.0  \n",
       "Bollullos Par del Condado           35.033632   56.053812              5.0  \n",
       "San Juan del Puerto                 64.516129   75.268817              5.0  \n",
       "Almendro (El)                      605.326877  605.326877              4.0  \n",
       "Bonares                             82.535490  132.056784              4.0  \n",
       "Punta Umbría                        59.047369   72.169007              4.0  \n",
       "Alosno                             101.962784  101.962784              3.0  \n",
       "Palos de la Frontera                88.581805  177.163611              3.0  \n",
       "Escacena del Campo                 131.348511  175.131349              2.0  \n",
       "Aracena                             74.010115   74.010115              2.0  \n",
       "Almonte                             12.401306   37.203919              2.0  \n",
       "Valverde del Camino                 23.400936   23.400936              2.0  \n",
       "Nerva                               19.102197   38.204394              1.0  \n",
       "Rociana del Condado                 25.461489   38.192234              1.0  \n",
       "Almonaster la Real                 109.950522  109.950522              NaN  \n",
       "Calañas                             35.829452   35.829452              NaN  \n",
       "Cortegana                           21.431633   21.431633              NaN  \n",
       "Niebla                              24.289531   24.289531              NaN  \n",
       "San Bartolomé de la Torre           26.766595   26.766595              NaN  \n",
       "Villalba del Alcor                  29.958059   59.916117              NaN  \n",
       "Villanueva de los Castillejos       35.460993   35.460993              NaN  "
      ],
      "text/html": "<div>\n<style scoped>\n    .dataframe tbody tr th:only-of-type {\n        vertical-align: middle;\n    }\n\n    .dataframe tbody tr th {\n        vertical-align: top;\n    }\n\n    .dataframe thead th {\n        text-align: right;\n    }\n</style>\n<table border=\"1\" class=\"dataframe\">\n  <thead>\n    <tr style=\"text-align: right;\">\n      <th>Medida</th>\n      <th>Confirmados PDIA</th>\n      <th>Confirmados PDIA 7 días</th>\n      <th>Confirmados PDIA 14 días</th>\n      <th>Población</th>\n      <th>tasa7</th>\n      <th>tasa14</th>\n      <th>Diferencia PDIA</th>\n    </tr>\n    <tr>\n      <th>Lugar de residencia</th>\n      <th></th>\n      <th></th>\n      <th></th>\n      <th></th>\n      <th></th>\n      <th></th>\n      <th></th>\n    </tr>\n  </thead>\n  <tbody>\n    <tr>\n      <th>Huelva</th>\n      <td>11790.0</td>\n      <td>458.0</td>\n      <td>723.0</td>\n      <td>510743.0</td>\n      <td>89.673280</td>\n      <td>141.558475</td>\n      <td>272.0</td>\n    </tr>\n    <tr>\n      <th>Huelva-Costa</th>\n      <td>6726.0</td>\n      <td>303.0</td>\n      <td>478.0</td>\n      <td>288115.0</td>\n      <td>105.166340</td>\n      <td>165.905975</td>\n      <td>190.0</td>\n    </tr>\n    <tr>\n      <th>Huelva (capital)</th>\n      <td>3356.0</td>\n      <td>134.0</td>\n      <td>227.0</td>\n      <td>143663.0</td>\n      <td>93.273842</td>\n      <td>158.008673</td>\n      <td>76.0</td>\n    </tr>\n    <tr>\n      <th>Condado-Campiña</th>\n      <td>3575.0</td>\n      <td>101.0</td>\n      <td>166.0</td>\n      <td>155057.0</td>\n      <td>65.137337</td>\n      <td>107.057405</td>\n      <td>57.0</td>\n    </tr>\n    <tr>\n      <th>Isla Cristina</th>\n      <td>547.0</td>\n      <td>80.0</td>\n      <td>101.0</td>\n      <td>21264.0</td>\n      <td>376.222724</td>\n      <td>474.981189</td>\n      <td>55.0</td>\n    </tr>\n    <tr>\n      <th>Moguer</th>\n      <td>422.0</td>\n      <td>32.0</td>\n      <td>43.0</td>\n      <td>22088.0</td>\n      <td>144.875045</td>\n      <td>194.675842</td>\n      <td>17.0</td>\n    </tr>\n    <tr>\n      <th>Cartaya</th>\n      <td>449.0</td>\n      <td>19.0</td>\n      <td>36.0</td>\n      <td>19974.0</td>\n      <td>95.123661</td>\n      <td>180.234305</td>\n      <td>16.0</td>\n    </tr>\n    <tr>\n      <th>Palma del Condado (La)</th>\n      <td>581.0</td>\n      <td>26.0</td>\n      <td>42.0</td>\n      <td>10761.0</td>\n      <td>241.613233</td>\n      <td>390.298299</td>\n      <td>15.0</td>\n    </tr>\n    <tr>\n      <th>Lepe</th>\n      <td>1003.0</td>\n      <td>21.0</td>\n      <td>39.0</td>\n      <td>27431.0</td>\n      <td>76.555722</td>\n      <td>142.174912</td>\n      <td>15.0</td>\n    </tr>\n    <tr>\n      <th>Sierra de Huelva-Andévalo Central</th>\n      <td>1335.0</td>\n      <td>34.0</td>\n      <td>49.0</td>\n      <td>67571.0</td>\n      <td>50.317444</td>\n      <td>72.516316</td>\n      <td>14.0</td>\n    </tr>\n    <tr>\n      <th>Aljaraque</th>\n      <td>454.0</td>\n      <td>10.0</td>\n      <td>15.0</td>\n      <td>21260.0</td>\n      <td>47.036689</td>\n      <td>70.555033</td>\n      <td>8.0</td>\n    </tr>\n    <tr>\n      <th>Ayamonte</th>\n      <td>361.0</td>\n      <td>18.0</td>\n      <td>26.0</td>\n      <td>20946.0</td>\n      <td>85.935262</td>\n      <td>124.128712</td>\n      <td>8.0</td>\n    </tr>\n    <tr>\n      <th>Cerro de Andévalo (El)</th>\n      <td>57.0</td>\n      <td>12.0</td>\n      <td>19.0</td>\n      <td>2364.0</td>\n      <td>507.614213</td>\n      <td>803.722504</td>\n      <td>5.0</td>\n    </tr>\n    <tr>\n      <th>Bollullos Par del Condado</th>\n      <td>258.0</td>\n      <td>5.0</td>\n      <td>8.0</td>\n      <td>14272.0</td>\n      <td>35.033632</td>\n      <td>56.053812</td>\n      <td>5.0</td>\n    </tr>\n    <tr>\n      <th>San Juan del Puerto</th>\n      <td>160.0</td>\n      <td>6.0</td>\n      <td>7.0</td>\n      <td>9300.0</td>\n      <td>64.516129</td>\n      <td>75.268817</td>\n      <td>5.0</td>\n    </tr>\n    <tr>\n      <th>Almendro (El)</th>\n      <td>21.0</td>\n      <td>5.0</td>\n      <td>5.0</td>\n      <td>826.0</td>\n      <td>605.326877</td>\n      <td>605.326877</td>\n      <td>4.0</td>\n    </tr>\n    <tr>\n      <th>Bonares</th>\n      <td>72.0</td>\n      <td>5.0</td>\n      <td>8.0</td>\n      <td>6058.0</td>\n      <td>82.535490</td>\n      <td>132.056784</td>\n      <td>4.0</td>\n    </tr>\n    <tr>\n      <th>Punta Umbría</th>\n      <td>246.0</td>\n      <td>9.0</td>\n      <td>11.0</td>\n      <td>15242.0</td>\n      <td>59.047369</td>\n      <td>72.169007</td>\n      <td>4.0</td>\n    </tr>\n    <tr>\n      <th>Alosno</th>\n      <td>48.0</td>\n      <td>4.0</td>\n      <td>4.0</td>\n      <td>3923.0</td>\n      <td>101.962784</td>\n      <td>101.962784</td>\n      <td>3.0</td>\n    </tr>\n    <tr>\n      <th>Palos de la Frontera</th>\n      <td>271.0</td>\n      <td>10.0</td>\n      <td>20.0</td>\n      <td>11289.0</td>\n      <td>88.581805</td>\n      <td>177.163611</td>\n      <td>3.0</td>\n    </tr>\n    <tr>\n      <th>Escacena del Campo</th>\n      <td>101.0</td>\n      <td>3.0</td>\n      <td>4.0</td>\n      <td>2284.0</td>\n      <td>131.348511</td>\n      <td>175.131349</td>\n      <td>2.0</td>\n    </tr>\n    <tr>\n      <th>Aracena</th>\n      <td>293.0</td>\n      <td>6.0</td>\n      <td>6.0</td>\n      <td>8107.0</td>\n      <td>74.010115</td>\n      <td>74.010115</td>\n      <td>2.0</td>\n    </tr>\n    <tr>\n      <th>Almonte</th>\n      <td>453.0</td>\n      <td>3.0</td>\n      <td>9.0</td>\n      <td>24191.0</td>\n      <td>12.401306</td>\n      <td>37.203919</td>\n      <td>2.0</td>\n    </tr>\n    <tr>\n      <th>Valverde del Camino</th>\n      <td>276.0</td>\n      <td>3.0</td>\n      <td>3.0</td>\n      <td>12820.0</td>\n      <td>23.400936</td>\n      <td>23.400936</td>\n      <td>2.0</td>\n    </tr>\n    <tr>\n      <th>Nerva</th>\n      <td>89.0</td>\n      <td>1.0</td>\n      <td>2.0</td>\n      <td>5235.0</td>\n      <td>19.102197</td>\n      <td>38.204394</td>\n      <td>1.0</td>\n    </tr>\n    <tr>\n      <th>Rociana del Condado</th>\n      <td>123.0</td>\n      <td>2.0</td>\n      <td>3.0</td>\n      <td>7855.0</td>\n      <td>25.461489</td>\n      <td>38.192234</td>\n      <td>1.0</td>\n    </tr>\n    <tr>\n      <th>Almonaster la Real</th>\n      <td>35.0</td>\n      <td>2.0</td>\n      <td>2.0</td>\n      <td>1819.0</td>\n      <td>109.950522</td>\n      <td>109.950522</td>\n      <td>NaN</td>\n    </tr>\n    <tr>\n      <th>Calañas</th>\n      <td>44.0</td>\n      <td>1.0</td>\n      <td>1.0</td>\n      <td>2791.0</td>\n      <td>35.829452</td>\n      <td>35.829452</td>\n      <td>NaN</td>\n    </tr>\n    <tr>\n      <th>Cortegana</th>\n      <td>124.0</td>\n      <td>1.0</td>\n      <td>1.0</td>\n      <td>4666.0</td>\n      <td>21.431633</td>\n      <td>21.431633</td>\n      <td>NaN</td>\n    </tr>\n    <tr>\n      <th>Niebla</th>\n      <td>118.0</td>\n      <td>1.0</td>\n      <td>1.0</td>\n      <td>4117.0</td>\n      <td>24.289531</td>\n      <td>24.289531</td>\n      <td>NaN</td>\n    </tr>\n    <tr>\n      <th>San Bartolomé de la Torre</th>\n      <td>46.0</td>\n      <td>1.0</td>\n      <td>1.0</td>\n      <td>3736.0</td>\n      <td>26.766595</td>\n      <td>26.766595</td>\n      <td>NaN</td>\n    </tr>\n    <tr>\n      <th>Villalba del Alcor</th>\n      <td>105.0</td>\n      <td>1.0</td>\n      <td>2.0</td>\n      <td>3338.0</td>\n      <td>29.958059</td>\n      <td>59.916117</td>\n      <td>NaN</td>\n    </tr>\n    <tr>\n      <th>Villanueva de los Castillejos</th>\n      <td>65.0</td>\n      <td>1.0</td>\n      <td>1.0</td>\n      <td>2820.0</td>\n      <td>35.460993</td>\n      <td>35.460993</td>\n      <td>NaN</td>\n    </tr>\n  </tbody>\n</table>\n</div>"
     },
     "metadata": {},
     "execution_count": 15
    }
   ],
   "source": [
    "# Nuevos casos desde la última captura\n",
    "tabla[tabla['Diferencia PDIA'] != 0].sort_values('Diferencia PDIA', ascending=False)"
   ]
  },
  {
   "cell_type": "code",
   "execution_count": 16,
   "metadata": {},
   "outputs": [],
   "source": [
    "if tabla[tabla['Diferencia PDIA'] != 0]['Diferencia PDIA'].sum() > 0:\n",
    "  # Save to csv\n",
    "  tabla.to_csv('covid_huelva.csv', encoding='utf-8', header=True, index=True)  "
   ]
  },
  {
   "cell_type": "code",
   "execution_count": 17,
   "metadata": {},
   "outputs": [
    {
     "output_type": "execute_result",
     "data": {
      "text/plain": [
       "Medida                             Confirmados PDIA  Confirmados PDIA 7 días  \\\n",
       "Lugar de residencia                                                            \n",
       "Cerro de Andévalo (El)                         57.0                     12.0   \n",
       "Almendro (El)                                  21.0                      5.0   \n",
       "Cumbres Mayores                                19.0                      7.0   \n",
       "Isla Cristina                                 547.0                     80.0   \n",
       "Villablanca                                    69.0                      2.0   \n",
       "Palma del Condado (La)                        581.0                     26.0   \n",
       "Lucena del Puerto                             111.0                      5.0   \n",
       "Moguer                                        422.0                     32.0   \n",
       "Cartaya                                       449.0                     19.0   \n",
       "Palos de la Frontera                          271.0                     10.0   \n",
       "Escacena del Campo                            101.0                      3.0   \n",
       "Huelva-Costa                                 6726.0                    303.0   \n",
       "Huelva (capital)                             3356.0                    134.0   \n",
       "Lepe                                         1003.0                     21.0   \n",
       "Huelva                                      11790.0                    458.0   \n",
       "Bonares                                        72.0                      5.0   \n",
       "Ayamonte                                      361.0                     18.0   \n",
       "Almonaster la Real                             35.0                      2.0   \n",
       "Condado-Campiña                              3575.0                    101.0   \n",
       "Alosno                                         48.0                      4.0   \n",
       "Encinasola                                     10.0                      1.0   \n",
       "San Juan del Puerto                           160.0                      6.0   \n",
       "Aracena                                       293.0                      6.0   \n",
       "Sierra de Huelva-Andévalo Central            1335.0                     34.0   \n",
       "Punta Umbría                                  246.0                      9.0   \n",
       "Aljaraque                                     454.0                     10.0   \n",
       "Villalba del Alcor                            105.0                      1.0   \n",
       "Bollullos Par del Condado                     258.0                      5.0   \n",
       "Nerva                                          89.0                      1.0   \n",
       "Rociana del Condado                           123.0                      2.0   \n",
       "Almonte                                       453.0                      3.0   \n",
       "Calañas                                        44.0                      1.0   \n",
       "Villanueva de los Castillejos                  65.0                      1.0   \n",
       "Paterna del Campo                              69.0                      1.0   \n",
       "San Bartolomé de la Torre                      46.0                      1.0   \n",
       "Niebla                                        118.0                      1.0   \n",
       "Valverde del Camino                           276.0                      3.0   \n",
       "Cortegana                                     124.0                      1.0   \n",
       "\n",
       "Medida                             Confirmados PDIA 14 días  Población  \\\n",
       "Lugar de residencia                                                      \n",
       "Cerro de Andévalo (El)                                 19.0     2364.0   \n",
       "Almendro (El)                                           5.0      826.0   \n",
       "Cumbres Mayores                                        10.0     1755.0   \n",
       "Isla Cristina                                         101.0    21264.0   \n",
       "Villablanca                                            13.0     2848.0   \n",
       "Palma del Condado (La)                                 42.0    10761.0   \n",
       "Lucena del Puerto                                       7.0     3371.0   \n",
       "Moguer                                                 43.0    22088.0   \n",
       "Cartaya                                                36.0    19974.0   \n",
       "Palos de la Frontera                                   20.0    11289.0   \n",
       "Escacena del Campo                                      4.0     2284.0   \n",
       "Huelva-Costa                                          478.0   288115.0   \n",
       "Huelva (capital)                                      227.0   143663.0   \n",
       "Lepe                                                   39.0    27431.0   \n",
       "Huelva                                                723.0   510743.0   \n",
       "Bonares                                                 8.0     6058.0   \n",
       "Ayamonte                                               26.0    20946.0   \n",
       "Almonaster la Real                                      2.0     1819.0   \n",
       "Condado-Campiña                                       166.0   155057.0   \n",
       "Alosno                                                  4.0     3923.0   \n",
       "Encinasola                                              1.0     1305.0   \n",
       "San Juan del Puerto                                     7.0     9300.0   \n",
       "Aracena                                                 6.0     8107.0   \n",
       "Sierra de Huelva-Andévalo Central                      49.0    67571.0   \n",
       "Punta Umbría                                           11.0    15242.0   \n",
       "Aljaraque                                              15.0    21260.0   \n",
       "Villalba del Alcor                                      2.0     3338.0   \n",
       "Bollullos Par del Condado                               8.0    14272.0   \n",
       "Nerva                                                   2.0     5235.0   \n",
       "Rociana del Condado                                     3.0     7855.0   \n",
       "Almonte                                                 9.0    24191.0   \n",
       "Calañas                                                 1.0     2791.0   \n",
       "Villanueva de los Castillejos                           1.0     2820.0   \n",
       "Paterna del Campo                                       1.0     3509.0   \n",
       "San Bartolomé de la Torre                               1.0     3736.0   \n",
       "Niebla                                                  1.0     4117.0   \n",
       "Valverde del Camino                                     3.0    12820.0   \n",
       "Cortegana                                               1.0     4666.0   \n",
       "\n",
       "Medida                                  tasa7      tasa14  Diferencia PDIA  \n",
       "Lugar de residencia                                                         \n",
       "Cerro de Andévalo (El)             507.614213  803.722504              5.0  \n",
       "Almendro (El)                      605.326877  605.326877              4.0  \n",
       "Cumbres Mayores                    398.860399  569.800570              0.0  \n",
       "Isla Cristina                      376.222724  474.981189             55.0  \n",
       "Villablanca                         70.224719  456.460674              0.0  \n",
       "Palma del Condado (La)             241.613233  390.298299             15.0  \n",
       "Lucena del Puerto                  148.323939  207.653515              0.0  \n",
       "Moguer                             144.875045  194.675842             17.0  \n",
       "Cartaya                             95.123661  180.234305             16.0  \n",
       "Palos de la Frontera                88.581805  177.163611              3.0  \n",
       "Escacena del Campo                 131.348511  175.131349              2.0  \n",
       "Huelva-Costa                       105.166340  165.905975            190.0  \n",
       "Huelva (capital)                    93.273842  158.008673             76.0  \n",
       "Lepe                                76.555722  142.174912             15.0  \n",
       "Huelva                              89.673280  141.558475            272.0  \n",
       "Bonares                             82.535490  132.056784              4.0  \n",
       "Ayamonte                            85.935262  124.128712              8.0  \n",
       "Almonaster la Real                 109.950522  109.950522              NaN  \n",
       "Condado-Campiña                     65.137337  107.057405             57.0  \n",
       "Alosno                             101.962784  101.962784              3.0  \n",
       "Encinasola                          76.628352   76.628352              0.0  \n",
       "San Juan del Puerto                 64.516129   75.268817              5.0  \n",
       "Aracena                             74.010115   74.010115              2.0  \n",
       "Sierra de Huelva-Andévalo Central   50.317444   72.516316             14.0  \n",
       "Punta Umbría                        59.047369   72.169007              4.0  \n",
       "Aljaraque                           47.036689   70.555033              8.0  \n",
       "Villalba del Alcor                  29.958059   59.916117              NaN  \n",
       "Bollullos Par del Condado           35.033632   56.053812              5.0  \n",
       "Nerva                               19.102197   38.204394              1.0  \n",
       "Rociana del Condado                 25.461489   38.192234              1.0  \n",
       "Almonte                             12.401306   37.203919              2.0  \n",
       "Calañas                             35.829452   35.829452              NaN  \n",
       "Villanueva de los Castillejos       35.460993   35.460993              NaN  \n",
       "Paterna del Campo                   28.498148   28.498148              0.0  \n",
       "San Bartolomé de la Torre           26.766595   26.766595              NaN  \n",
       "Niebla                              24.289531   24.289531              NaN  \n",
       "Valverde del Camino                 23.400936   23.400936              2.0  \n",
       "Cortegana                           21.431633   21.431633              NaN  "
      ],
      "text/html": "<div>\n<style scoped>\n    .dataframe tbody tr th:only-of-type {\n        vertical-align: middle;\n    }\n\n    .dataframe tbody tr th {\n        vertical-align: top;\n    }\n\n    .dataframe thead th {\n        text-align: right;\n    }\n</style>\n<table border=\"1\" class=\"dataframe\">\n  <thead>\n    <tr style=\"text-align: right;\">\n      <th>Medida</th>\n      <th>Confirmados PDIA</th>\n      <th>Confirmados PDIA 7 días</th>\n      <th>Confirmados PDIA 14 días</th>\n      <th>Población</th>\n      <th>tasa7</th>\n      <th>tasa14</th>\n      <th>Diferencia PDIA</th>\n    </tr>\n    <tr>\n      <th>Lugar de residencia</th>\n      <th></th>\n      <th></th>\n      <th></th>\n      <th></th>\n      <th></th>\n      <th></th>\n      <th></th>\n    </tr>\n  </thead>\n  <tbody>\n    <tr>\n      <th>Cerro de Andévalo (El)</th>\n      <td>57.0</td>\n      <td>12.0</td>\n      <td>19.0</td>\n      <td>2364.0</td>\n      <td>507.614213</td>\n      <td>803.722504</td>\n      <td>5.0</td>\n    </tr>\n    <tr>\n      <th>Almendro (El)</th>\n      <td>21.0</td>\n      <td>5.0</td>\n      <td>5.0</td>\n      <td>826.0</td>\n      <td>605.326877</td>\n      <td>605.326877</td>\n      <td>4.0</td>\n    </tr>\n    <tr>\n      <th>Cumbres Mayores</th>\n      <td>19.0</td>\n      <td>7.0</td>\n      <td>10.0</td>\n      <td>1755.0</td>\n      <td>398.860399</td>\n      <td>569.800570</td>\n      <td>0.0</td>\n    </tr>\n    <tr>\n      <th>Isla Cristina</th>\n      <td>547.0</td>\n      <td>80.0</td>\n      <td>101.0</td>\n      <td>21264.0</td>\n      <td>376.222724</td>\n      <td>474.981189</td>\n      <td>55.0</td>\n    </tr>\n    <tr>\n      <th>Villablanca</th>\n      <td>69.0</td>\n      <td>2.0</td>\n      <td>13.0</td>\n      <td>2848.0</td>\n      <td>70.224719</td>\n      <td>456.460674</td>\n      <td>0.0</td>\n    </tr>\n    <tr>\n      <th>Palma del Condado (La)</th>\n      <td>581.0</td>\n      <td>26.0</td>\n      <td>42.0</td>\n      <td>10761.0</td>\n      <td>241.613233</td>\n      <td>390.298299</td>\n      <td>15.0</td>\n    </tr>\n    <tr>\n      <th>Lucena del Puerto</th>\n      <td>111.0</td>\n      <td>5.0</td>\n      <td>7.0</td>\n      <td>3371.0</td>\n      <td>148.323939</td>\n      <td>207.653515</td>\n      <td>0.0</td>\n    </tr>\n    <tr>\n      <th>Moguer</th>\n      <td>422.0</td>\n      <td>32.0</td>\n      <td>43.0</td>\n      <td>22088.0</td>\n      <td>144.875045</td>\n      <td>194.675842</td>\n      <td>17.0</td>\n    </tr>\n    <tr>\n      <th>Cartaya</th>\n      <td>449.0</td>\n      <td>19.0</td>\n      <td>36.0</td>\n      <td>19974.0</td>\n      <td>95.123661</td>\n      <td>180.234305</td>\n      <td>16.0</td>\n    </tr>\n    <tr>\n      <th>Palos de la Frontera</th>\n      <td>271.0</td>\n      <td>10.0</td>\n      <td>20.0</td>\n      <td>11289.0</td>\n      <td>88.581805</td>\n      <td>177.163611</td>\n      <td>3.0</td>\n    </tr>\n    <tr>\n      <th>Escacena del Campo</th>\n      <td>101.0</td>\n      <td>3.0</td>\n      <td>4.0</td>\n      <td>2284.0</td>\n      <td>131.348511</td>\n      <td>175.131349</td>\n      <td>2.0</td>\n    </tr>\n    <tr>\n      <th>Huelva-Costa</th>\n      <td>6726.0</td>\n      <td>303.0</td>\n      <td>478.0</td>\n      <td>288115.0</td>\n      <td>105.166340</td>\n      <td>165.905975</td>\n      <td>190.0</td>\n    </tr>\n    <tr>\n      <th>Huelva (capital)</th>\n      <td>3356.0</td>\n      <td>134.0</td>\n      <td>227.0</td>\n      <td>143663.0</td>\n      <td>93.273842</td>\n      <td>158.008673</td>\n      <td>76.0</td>\n    </tr>\n    <tr>\n      <th>Lepe</th>\n      <td>1003.0</td>\n      <td>21.0</td>\n      <td>39.0</td>\n      <td>27431.0</td>\n      <td>76.555722</td>\n      <td>142.174912</td>\n      <td>15.0</td>\n    </tr>\n    <tr>\n      <th>Huelva</th>\n      <td>11790.0</td>\n      <td>458.0</td>\n      <td>723.0</td>\n      <td>510743.0</td>\n      <td>89.673280</td>\n      <td>141.558475</td>\n      <td>272.0</td>\n    </tr>\n    <tr>\n      <th>Bonares</th>\n      <td>72.0</td>\n      <td>5.0</td>\n      <td>8.0</td>\n      <td>6058.0</td>\n      <td>82.535490</td>\n      <td>132.056784</td>\n      <td>4.0</td>\n    </tr>\n    <tr>\n      <th>Ayamonte</th>\n      <td>361.0</td>\n      <td>18.0</td>\n      <td>26.0</td>\n      <td>20946.0</td>\n      <td>85.935262</td>\n      <td>124.128712</td>\n      <td>8.0</td>\n    </tr>\n    <tr>\n      <th>Almonaster la Real</th>\n      <td>35.0</td>\n      <td>2.0</td>\n      <td>2.0</td>\n      <td>1819.0</td>\n      <td>109.950522</td>\n      <td>109.950522</td>\n      <td>NaN</td>\n    </tr>\n    <tr>\n      <th>Condado-Campiña</th>\n      <td>3575.0</td>\n      <td>101.0</td>\n      <td>166.0</td>\n      <td>155057.0</td>\n      <td>65.137337</td>\n      <td>107.057405</td>\n      <td>57.0</td>\n    </tr>\n    <tr>\n      <th>Alosno</th>\n      <td>48.0</td>\n      <td>4.0</td>\n      <td>4.0</td>\n      <td>3923.0</td>\n      <td>101.962784</td>\n      <td>101.962784</td>\n      <td>3.0</td>\n    </tr>\n    <tr>\n      <th>Encinasola</th>\n      <td>10.0</td>\n      <td>1.0</td>\n      <td>1.0</td>\n      <td>1305.0</td>\n      <td>76.628352</td>\n      <td>76.628352</td>\n      <td>0.0</td>\n    </tr>\n    <tr>\n      <th>San Juan del Puerto</th>\n      <td>160.0</td>\n      <td>6.0</td>\n      <td>7.0</td>\n      <td>9300.0</td>\n      <td>64.516129</td>\n      <td>75.268817</td>\n      <td>5.0</td>\n    </tr>\n    <tr>\n      <th>Aracena</th>\n      <td>293.0</td>\n      <td>6.0</td>\n      <td>6.0</td>\n      <td>8107.0</td>\n      <td>74.010115</td>\n      <td>74.010115</td>\n      <td>2.0</td>\n    </tr>\n    <tr>\n      <th>Sierra de Huelva-Andévalo Central</th>\n      <td>1335.0</td>\n      <td>34.0</td>\n      <td>49.0</td>\n      <td>67571.0</td>\n      <td>50.317444</td>\n      <td>72.516316</td>\n      <td>14.0</td>\n    </tr>\n    <tr>\n      <th>Punta Umbría</th>\n      <td>246.0</td>\n      <td>9.0</td>\n      <td>11.0</td>\n      <td>15242.0</td>\n      <td>59.047369</td>\n      <td>72.169007</td>\n      <td>4.0</td>\n    </tr>\n    <tr>\n      <th>Aljaraque</th>\n      <td>454.0</td>\n      <td>10.0</td>\n      <td>15.0</td>\n      <td>21260.0</td>\n      <td>47.036689</td>\n      <td>70.555033</td>\n      <td>8.0</td>\n    </tr>\n    <tr>\n      <th>Villalba del Alcor</th>\n      <td>105.0</td>\n      <td>1.0</td>\n      <td>2.0</td>\n      <td>3338.0</td>\n      <td>29.958059</td>\n      <td>59.916117</td>\n      <td>NaN</td>\n    </tr>\n    <tr>\n      <th>Bollullos Par del Condado</th>\n      <td>258.0</td>\n      <td>5.0</td>\n      <td>8.0</td>\n      <td>14272.0</td>\n      <td>35.033632</td>\n      <td>56.053812</td>\n      <td>5.0</td>\n    </tr>\n    <tr>\n      <th>Nerva</th>\n      <td>89.0</td>\n      <td>1.0</td>\n      <td>2.0</td>\n      <td>5235.0</td>\n      <td>19.102197</td>\n      <td>38.204394</td>\n      <td>1.0</td>\n    </tr>\n    <tr>\n      <th>Rociana del Condado</th>\n      <td>123.0</td>\n      <td>2.0</td>\n      <td>3.0</td>\n      <td>7855.0</td>\n      <td>25.461489</td>\n      <td>38.192234</td>\n      <td>1.0</td>\n    </tr>\n    <tr>\n      <th>Almonte</th>\n      <td>453.0</td>\n      <td>3.0</td>\n      <td>9.0</td>\n      <td>24191.0</td>\n      <td>12.401306</td>\n      <td>37.203919</td>\n      <td>2.0</td>\n    </tr>\n    <tr>\n      <th>Calañas</th>\n      <td>44.0</td>\n      <td>1.0</td>\n      <td>1.0</td>\n      <td>2791.0</td>\n      <td>35.829452</td>\n      <td>35.829452</td>\n      <td>NaN</td>\n    </tr>\n    <tr>\n      <th>Villanueva de los Castillejos</th>\n      <td>65.0</td>\n      <td>1.0</td>\n      <td>1.0</td>\n      <td>2820.0</td>\n      <td>35.460993</td>\n      <td>35.460993</td>\n      <td>NaN</td>\n    </tr>\n    <tr>\n      <th>Paterna del Campo</th>\n      <td>69.0</td>\n      <td>1.0</td>\n      <td>1.0</td>\n      <td>3509.0</td>\n      <td>28.498148</td>\n      <td>28.498148</td>\n      <td>0.0</td>\n    </tr>\n    <tr>\n      <th>San Bartolomé de la Torre</th>\n      <td>46.0</td>\n      <td>1.0</td>\n      <td>1.0</td>\n      <td>3736.0</td>\n      <td>26.766595</td>\n      <td>26.766595</td>\n      <td>NaN</td>\n    </tr>\n    <tr>\n      <th>Niebla</th>\n      <td>118.0</td>\n      <td>1.0</td>\n      <td>1.0</td>\n      <td>4117.0</td>\n      <td>24.289531</td>\n      <td>24.289531</td>\n      <td>NaN</td>\n    </tr>\n    <tr>\n      <th>Valverde del Camino</th>\n      <td>276.0</td>\n      <td>3.0</td>\n      <td>3.0</td>\n      <td>12820.0</td>\n      <td>23.400936</td>\n      <td>23.400936</td>\n      <td>2.0</td>\n    </tr>\n    <tr>\n      <th>Cortegana</th>\n      <td>124.0</td>\n      <td>1.0</td>\n      <td>1.0</td>\n      <td>4666.0</td>\n      <td>21.431633</td>\n      <td>21.431633</td>\n      <td>NaN</td>\n    </tr>\n  </tbody>\n</table>\n</div>"
     },
     "metadata": {},
     "execution_count": 17
    }
   ],
   "source": [
    "tabla.sort_values('tasa14', ascending=False)"
   ]
  },
  {
   "cell_type": "code",
   "execution_count": 18,
   "metadata": {},
   "outputs": [
    {
     "output_type": "execute_result",
     "data": {
      "text/plain": [
       "Medida                             Confirmados PDIA  Confirmados PDIA 7 días  \\\n",
       "Lugar de residencia                                                            \n",
       "Villablanca                                    69.0                      2.0   \n",
       "Almonte                                       453.0                      3.0   \n",
       "Palos de la Frontera                          271.0                     10.0   \n",
       "Nerva                                          89.0                      1.0   \n",
       "Villalba del Alcor                            105.0                      1.0   \n",
       "Cartaya                                       449.0                     19.0   \n",
       "Lepe                                         1003.0                     21.0   \n",
       "Huelva (capital)                             3356.0                    134.0   \n",
       "Condado-Campiña                              3575.0                    101.0   \n",
       "Palma del Condado (La)                        581.0                     26.0   \n",
       "Bollullos Par del Condado                     258.0                      5.0   \n",
       "Bonares                                        72.0                      5.0   \n",
       "Cerro de Andévalo (El)                         57.0                     12.0   \n",
       "Huelva                                      11790.0                    458.0   \n",
       "Huelva-Costa                                 6726.0                    303.0   \n",
       "Rociana del Condado                           123.0                      2.0   \n",
       "Aljaraque                                     454.0                     10.0   \n",
       "Ayamonte                                      361.0                     18.0   \n",
       "Sierra de Huelva-Andévalo Central            1335.0                     34.0   \n",
       "Cumbres Mayores                                19.0                      7.0   \n",
       "Lucena del Puerto                             111.0                      5.0   \n",
       "Moguer                                        422.0                     32.0   \n",
       "Escacena del Campo                            101.0                      3.0   \n",
       "Isla Cristina                                 547.0                     80.0   \n",
       "Punta Umbría                                  246.0                      9.0   \n",
       "San Juan del Puerto                           160.0                      6.0   \n",
       "Encinasola                                     10.0                      1.0   \n",
       "Almendro (El)                                  21.0                      5.0   \n",
       "Valverde del Camino                           276.0                      3.0   \n",
       "San Bartolomé de la Torre                      46.0                      1.0   \n",
       "Alosno                                         48.0                      4.0   \n",
       "Paterna del Campo                              69.0                      1.0   \n",
       "Aracena                                       293.0                      6.0   \n",
       "Niebla                                        118.0                      1.0   \n",
       "Calañas                                        44.0                      1.0   \n",
       "Cortegana                                     124.0                      1.0   \n",
       "Almonaster la Real                             35.0                      2.0   \n",
       "Villanueva de los Castillejos                  65.0                      1.0   \n",
       "\n",
       "Medida                             Confirmados PDIA 14 días  Población  \\\n",
       "Lugar de residencia                                                      \n",
       "Villablanca                                            13.0     2848.0   \n",
       "Almonte                                                 9.0    24191.0   \n",
       "Palos de la Frontera                                   20.0    11289.0   \n",
       "Nerva                                                   2.0     5235.0   \n",
       "Villalba del Alcor                                      2.0     3338.0   \n",
       "Cartaya                                                36.0    19974.0   \n",
       "Lepe                                                   39.0    27431.0   \n",
       "Huelva (capital)                                      227.0   143663.0   \n",
       "Condado-Campiña                                       166.0   155057.0   \n",
       "Palma del Condado (La)                                 42.0    10761.0   \n",
       "Bollullos Par del Condado                               8.0    14272.0   \n",
       "Bonares                                                 8.0     6058.0   \n",
       "Cerro de Andévalo (El)                                 19.0     2364.0   \n",
       "Huelva                                                723.0   510743.0   \n",
       "Huelva-Costa                                          478.0   288115.0   \n",
       "Rociana del Condado                                     3.0     7855.0   \n",
       "Aljaraque                                              15.0    21260.0   \n",
       "Ayamonte                                               26.0    20946.0   \n",
       "Sierra de Huelva-Andévalo Central                      49.0    67571.0   \n",
       "Cumbres Mayores                                        10.0     1755.0   \n",
       "Lucena del Puerto                                       7.0     3371.0   \n",
       "Moguer                                                 43.0    22088.0   \n",
       "Escacena del Campo                                      4.0     2284.0   \n",
       "Isla Cristina                                         101.0    21264.0   \n",
       "Punta Umbría                                           11.0    15242.0   \n",
       "San Juan del Puerto                                     7.0     9300.0   \n",
       "Encinasola                                              1.0     1305.0   \n",
       "Almendro (El)                                           5.0      826.0   \n",
       "Valverde del Camino                                     3.0    12820.0   \n",
       "San Bartolomé de la Torre                               1.0     3736.0   \n",
       "Alosno                                                  4.0     3923.0   \n",
       "Paterna del Campo                                       1.0     3509.0   \n",
       "Aracena                                                 6.0     8107.0   \n",
       "Niebla                                                  1.0     4117.0   \n",
       "Calañas                                                 1.0     2791.0   \n",
       "Cortegana                                               1.0     4666.0   \n",
       "Almonaster la Real                                      2.0     1819.0   \n",
       "Villanueva de los Castillejos                           1.0     2820.0   \n",
       "\n",
       "Medida                                  tasa7      tasa14  Diferencia PDIA  \\\n",
       "Lugar de residencia                                                          \n",
       "Villablanca                         70.224719  456.460674              0.0   \n",
       "Almonte                             12.401306   37.203919              2.0   \n",
       "Palos de la Frontera                88.581805  177.163611              3.0   \n",
       "Nerva                               19.102197   38.204394              1.0   \n",
       "Villalba del Alcor                  29.958059   59.916117              0.0   \n",
       "Cartaya                             95.123661  180.234305             16.0   \n",
       "Lepe                                76.555722  142.174912             15.0   \n",
       "Huelva (capital)                    93.273842  158.008673             76.0   \n",
       "Condado-Campiña                     65.137337  107.057405             57.0   \n",
       "Palma del Condado (La)             241.613233  390.298299             15.0   \n",
       "Bollullos Par del Condado           35.033632   56.053812              5.0   \n",
       "Bonares                             82.535490  132.056784              4.0   \n",
       "Cerro de Andévalo (El)             507.614213  803.722504              5.0   \n",
       "Huelva                              89.673280  141.558475            272.0   \n",
       "Huelva-Costa                       105.166340  165.905975            190.0   \n",
       "Rociana del Condado                 25.461489   38.192234              1.0   \n",
       "Aljaraque                           47.036689   70.555033              8.0   \n",
       "Ayamonte                            85.935262  124.128712              8.0   \n",
       "Sierra de Huelva-Andévalo Central   50.317444   72.516316             14.0   \n",
       "Cumbres Mayores                    398.860399  569.800570              0.0   \n",
       "Lucena del Puerto                  148.323939  207.653515              0.0   \n",
       "Moguer                             144.875045  194.675842             17.0   \n",
       "Escacena del Campo                 131.348511  175.131349              2.0   \n",
       "Isla Cristina                      376.222724  474.981189             55.0   \n",
       "Punta Umbría                        59.047369   72.169007              4.0   \n",
       "San Juan del Puerto                 64.516129   75.268817              5.0   \n",
       "Encinasola                          76.628352   76.628352              0.0   \n",
       "Almendro (El)                      605.326877  605.326877              4.0   \n",
       "Valverde del Camino                 23.400936   23.400936              2.0   \n",
       "San Bartolomé de la Torre           26.766595   26.766595              0.0   \n",
       "Alosno                             101.962784  101.962784              3.0   \n",
       "Paterna del Campo                   28.498148   28.498148              0.0   \n",
       "Aracena                             74.010115   74.010115              2.0   \n",
       "Niebla                              24.289531   24.289531              0.0   \n",
       "Calañas                             35.829452   35.829452              0.0   \n",
       "Cortegana                           21.431633   21.431633              0.0   \n",
       "Almonaster la Real                 109.950522  109.950522              0.0   \n",
       "Villanueva de los Castillejos       35.460993   35.460993              0.0   \n",
       "\n",
       "Medida                                 7/14  \n",
       "Lugar de residencia                          \n",
       "Villablanca                        0.153846  \n",
       "Almonte                            0.333333  \n",
       "Palos de la Frontera               0.500000  \n",
       "Nerva                              0.500000  \n",
       "Villalba del Alcor                 0.500000  \n",
       "Cartaya                            0.527778  \n",
       "Lepe                               0.538462  \n",
       "Huelva (capital)                   0.590308  \n",
       "Condado-Campiña                    0.608434  \n",
       "Palma del Condado (La)             0.619048  \n",
       "Bollullos Par del Condado          0.625000  \n",
       "Bonares                            0.625000  \n",
       "Cerro de Andévalo (El)             0.631579  \n",
       "Huelva                             0.633472  \n",
       "Huelva-Costa                       0.633891  \n",
       "Rociana del Condado                0.666667  \n",
       "Aljaraque                          0.666667  \n",
       "Ayamonte                           0.692308  \n",
       "Sierra de Huelva-Andévalo Central  0.693878  \n",
       "Cumbres Mayores                    0.700000  \n",
       "Lucena del Puerto                  0.714286  \n",
       "Moguer                             0.744186  \n",
       "Escacena del Campo                 0.750000  \n",
       "Isla Cristina                      0.792079  \n",
       "Punta Umbría                       0.818182  \n",
       "San Juan del Puerto                0.857143  \n",
       "Encinasola                         1.000000  \n",
       "Almendro (El)                      1.000000  \n",
       "Valverde del Camino                1.000000  \n",
       "San Bartolomé de la Torre          1.000000  \n",
       "Alosno                             1.000000  \n",
       "Paterna del Campo                  1.000000  \n",
       "Aracena                            1.000000  \n",
       "Niebla                             1.000000  \n",
       "Calañas                            1.000000  \n",
       "Cortegana                          1.000000  \n",
       "Almonaster la Real                 1.000000  \n",
       "Villanueva de los Castillejos      1.000000  "
      ],
      "text/html": "<div>\n<style scoped>\n    .dataframe tbody tr th:only-of-type {\n        vertical-align: middle;\n    }\n\n    .dataframe tbody tr th {\n        vertical-align: top;\n    }\n\n    .dataframe thead th {\n        text-align: right;\n    }\n</style>\n<table border=\"1\" class=\"dataframe\">\n  <thead>\n    <tr style=\"text-align: right;\">\n      <th>Medida</th>\n      <th>Confirmados PDIA</th>\n      <th>Confirmados PDIA 7 días</th>\n      <th>Confirmados PDIA 14 días</th>\n      <th>Población</th>\n      <th>tasa7</th>\n      <th>tasa14</th>\n      <th>Diferencia PDIA</th>\n      <th>7/14</th>\n    </tr>\n    <tr>\n      <th>Lugar de residencia</th>\n      <th></th>\n      <th></th>\n      <th></th>\n      <th></th>\n      <th></th>\n      <th></th>\n      <th></th>\n      <th></th>\n    </tr>\n  </thead>\n  <tbody>\n    <tr>\n      <th>Villablanca</th>\n      <td>69.0</td>\n      <td>2.0</td>\n      <td>13.0</td>\n      <td>2848.0</td>\n      <td>70.224719</td>\n      <td>456.460674</td>\n      <td>0.0</td>\n      <td>0.153846</td>\n    </tr>\n    <tr>\n      <th>Almonte</th>\n      <td>453.0</td>\n      <td>3.0</td>\n      <td>9.0</td>\n      <td>24191.0</td>\n      <td>12.401306</td>\n      <td>37.203919</td>\n      <td>2.0</td>\n      <td>0.333333</td>\n    </tr>\n    <tr>\n      <th>Palos de la Frontera</th>\n      <td>271.0</td>\n      <td>10.0</td>\n      <td>20.0</td>\n      <td>11289.0</td>\n      <td>88.581805</td>\n      <td>177.163611</td>\n      <td>3.0</td>\n      <td>0.500000</td>\n    </tr>\n    <tr>\n      <th>Nerva</th>\n      <td>89.0</td>\n      <td>1.0</td>\n      <td>2.0</td>\n      <td>5235.0</td>\n      <td>19.102197</td>\n      <td>38.204394</td>\n      <td>1.0</td>\n      <td>0.500000</td>\n    </tr>\n    <tr>\n      <th>Villalba del Alcor</th>\n      <td>105.0</td>\n      <td>1.0</td>\n      <td>2.0</td>\n      <td>3338.0</td>\n      <td>29.958059</td>\n      <td>59.916117</td>\n      <td>0.0</td>\n      <td>0.500000</td>\n    </tr>\n    <tr>\n      <th>Cartaya</th>\n      <td>449.0</td>\n      <td>19.0</td>\n      <td>36.0</td>\n      <td>19974.0</td>\n      <td>95.123661</td>\n      <td>180.234305</td>\n      <td>16.0</td>\n      <td>0.527778</td>\n    </tr>\n    <tr>\n      <th>Lepe</th>\n      <td>1003.0</td>\n      <td>21.0</td>\n      <td>39.0</td>\n      <td>27431.0</td>\n      <td>76.555722</td>\n      <td>142.174912</td>\n      <td>15.0</td>\n      <td>0.538462</td>\n    </tr>\n    <tr>\n      <th>Huelva (capital)</th>\n      <td>3356.0</td>\n      <td>134.0</td>\n      <td>227.0</td>\n      <td>143663.0</td>\n      <td>93.273842</td>\n      <td>158.008673</td>\n      <td>76.0</td>\n      <td>0.590308</td>\n    </tr>\n    <tr>\n      <th>Condado-Campiña</th>\n      <td>3575.0</td>\n      <td>101.0</td>\n      <td>166.0</td>\n      <td>155057.0</td>\n      <td>65.137337</td>\n      <td>107.057405</td>\n      <td>57.0</td>\n      <td>0.608434</td>\n    </tr>\n    <tr>\n      <th>Palma del Condado (La)</th>\n      <td>581.0</td>\n      <td>26.0</td>\n      <td>42.0</td>\n      <td>10761.0</td>\n      <td>241.613233</td>\n      <td>390.298299</td>\n      <td>15.0</td>\n      <td>0.619048</td>\n    </tr>\n    <tr>\n      <th>Bollullos Par del Condado</th>\n      <td>258.0</td>\n      <td>5.0</td>\n      <td>8.0</td>\n      <td>14272.0</td>\n      <td>35.033632</td>\n      <td>56.053812</td>\n      <td>5.0</td>\n      <td>0.625000</td>\n    </tr>\n    <tr>\n      <th>Bonares</th>\n      <td>72.0</td>\n      <td>5.0</td>\n      <td>8.0</td>\n      <td>6058.0</td>\n      <td>82.535490</td>\n      <td>132.056784</td>\n      <td>4.0</td>\n      <td>0.625000</td>\n    </tr>\n    <tr>\n      <th>Cerro de Andévalo (El)</th>\n      <td>57.0</td>\n      <td>12.0</td>\n      <td>19.0</td>\n      <td>2364.0</td>\n      <td>507.614213</td>\n      <td>803.722504</td>\n      <td>5.0</td>\n      <td>0.631579</td>\n    </tr>\n    <tr>\n      <th>Huelva</th>\n      <td>11790.0</td>\n      <td>458.0</td>\n      <td>723.0</td>\n      <td>510743.0</td>\n      <td>89.673280</td>\n      <td>141.558475</td>\n      <td>272.0</td>\n      <td>0.633472</td>\n    </tr>\n    <tr>\n      <th>Huelva-Costa</th>\n      <td>6726.0</td>\n      <td>303.0</td>\n      <td>478.0</td>\n      <td>288115.0</td>\n      <td>105.166340</td>\n      <td>165.905975</td>\n      <td>190.0</td>\n      <td>0.633891</td>\n    </tr>\n    <tr>\n      <th>Rociana del Condado</th>\n      <td>123.0</td>\n      <td>2.0</td>\n      <td>3.0</td>\n      <td>7855.0</td>\n      <td>25.461489</td>\n      <td>38.192234</td>\n      <td>1.0</td>\n      <td>0.666667</td>\n    </tr>\n    <tr>\n      <th>Aljaraque</th>\n      <td>454.0</td>\n      <td>10.0</td>\n      <td>15.0</td>\n      <td>21260.0</td>\n      <td>47.036689</td>\n      <td>70.555033</td>\n      <td>8.0</td>\n      <td>0.666667</td>\n    </tr>\n    <tr>\n      <th>Ayamonte</th>\n      <td>361.0</td>\n      <td>18.0</td>\n      <td>26.0</td>\n      <td>20946.0</td>\n      <td>85.935262</td>\n      <td>124.128712</td>\n      <td>8.0</td>\n      <td>0.692308</td>\n    </tr>\n    <tr>\n      <th>Sierra de Huelva-Andévalo Central</th>\n      <td>1335.0</td>\n      <td>34.0</td>\n      <td>49.0</td>\n      <td>67571.0</td>\n      <td>50.317444</td>\n      <td>72.516316</td>\n      <td>14.0</td>\n      <td>0.693878</td>\n    </tr>\n    <tr>\n      <th>Cumbres Mayores</th>\n      <td>19.0</td>\n      <td>7.0</td>\n      <td>10.0</td>\n      <td>1755.0</td>\n      <td>398.860399</td>\n      <td>569.800570</td>\n      <td>0.0</td>\n      <td>0.700000</td>\n    </tr>\n    <tr>\n      <th>Lucena del Puerto</th>\n      <td>111.0</td>\n      <td>5.0</td>\n      <td>7.0</td>\n      <td>3371.0</td>\n      <td>148.323939</td>\n      <td>207.653515</td>\n      <td>0.0</td>\n      <td>0.714286</td>\n    </tr>\n    <tr>\n      <th>Moguer</th>\n      <td>422.0</td>\n      <td>32.0</td>\n      <td>43.0</td>\n      <td>22088.0</td>\n      <td>144.875045</td>\n      <td>194.675842</td>\n      <td>17.0</td>\n      <td>0.744186</td>\n    </tr>\n    <tr>\n      <th>Escacena del Campo</th>\n      <td>101.0</td>\n      <td>3.0</td>\n      <td>4.0</td>\n      <td>2284.0</td>\n      <td>131.348511</td>\n      <td>175.131349</td>\n      <td>2.0</td>\n      <td>0.750000</td>\n    </tr>\n    <tr>\n      <th>Isla Cristina</th>\n      <td>547.0</td>\n      <td>80.0</td>\n      <td>101.0</td>\n      <td>21264.0</td>\n      <td>376.222724</td>\n      <td>474.981189</td>\n      <td>55.0</td>\n      <td>0.792079</td>\n    </tr>\n    <tr>\n      <th>Punta Umbría</th>\n      <td>246.0</td>\n      <td>9.0</td>\n      <td>11.0</td>\n      <td>15242.0</td>\n      <td>59.047369</td>\n      <td>72.169007</td>\n      <td>4.0</td>\n      <td>0.818182</td>\n    </tr>\n    <tr>\n      <th>San Juan del Puerto</th>\n      <td>160.0</td>\n      <td>6.0</td>\n      <td>7.0</td>\n      <td>9300.0</td>\n      <td>64.516129</td>\n      <td>75.268817</td>\n      <td>5.0</td>\n      <td>0.857143</td>\n    </tr>\n    <tr>\n      <th>Encinasola</th>\n      <td>10.0</td>\n      <td>1.0</td>\n      <td>1.0</td>\n      <td>1305.0</td>\n      <td>76.628352</td>\n      <td>76.628352</td>\n      <td>0.0</td>\n      <td>1.000000</td>\n    </tr>\n    <tr>\n      <th>Almendro (El)</th>\n      <td>21.0</td>\n      <td>5.0</td>\n      <td>5.0</td>\n      <td>826.0</td>\n      <td>605.326877</td>\n      <td>605.326877</td>\n      <td>4.0</td>\n      <td>1.000000</td>\n    </tr>\n    <tr>\n      <th>Valverde del Camino</th>\n      <td>276.0</td>\n      <td>3.0</td>\n      <td>3.0</td>\n      <td>12820.0</td>\n      <td>23.400936</td>\n      <td>23.400936</td>\n      <td>2.0</td>\n      <td>1.000000</td>\n    </tr>\n    <tr>\n      <th>San Bartolomé de la Torre</th>\n      <td>46.0</td>\n      <td>1.0</td>\n      <td>1.0</td>\n      <td>3736.0</td>\n      <td>26.766595</td>\n      <td>26.766595</td>\n      <td>0.0</td>\n      <td>1.000000</td>\n    </tr>\n    <tr>\n      <th>Alosno</th>\n      <td>48.0</td>\n      <td>4.0</td>\n      <td>4.0</td>\n      <td>3923.0</td>\n      <td>101.962784</td>\n      <td>101.962784</td>\n      <td>3.0</td>\n      <td>1.000000</td>\n    </tr>\n    <tr>\n      <th>Paterna del Campo</th>\n      <td>69.0</td>\n      <td>1.0</td>\n      <td>1.0</td>\n      <td>3509.0</td>\n      <td>28.498148</td>\n      <td>28.498148</td>\n      <td>0.0</td>\n      <td>1.000000</td>\n    </tr>\n    <tr>\n      <th>Aracena</th>\n      <td>293.0</td>\n      <td>6.0</td>\n      <td>6.0</td>\n      <td>8107.0</td>\n      <td>74.010115</td>\n      <td>74.010115</td>\n      <td>2.0</td>\n      <td>1.000000</td>\n    </tr>\n    <tr>\n      <th>Niebla</th>\n      <td>118.0</td>\n      <td>1.0</td>\n      <td>1.0</td>\n      <td>4117.0</td>\n      <td>24.289531</td>\n      <td>24.289531</td>\n      <td>0.0</td>\n      <td>1.000000</td>\n    </tr>\n    <tr>\n      <th>Calañas</th>\n      <td>44.0</td>\n      <td>1.0</td>\n      <td>1.0</td>\n      <td>2791.0</td>\n      <td>35.829452</td>\n      <td>35.829452</td>\n      <td>0.0</td>\n      <td>1.000000</td>\n    </tr>\n    <tr>\n      <th>Cortegana</th>\n      <td>124.0</td>\n      <td>1.0</td>\n      <td>1.0</td>\n      <td>4666.0</td>\n      <td>21.431633</td>\n      <td>21.431633</td>\n      <td>0.0</td>\n      <td>1.000000</td>\n    </tr>\n    <tr>\n      <th>Almonaster la Real</th>\n      <td>35.0</td>\n      <td>2.0</td>\n      <td>2.0</td>\n      <td>1819.0</td>\n      <td>109.950522</td>\n      <td>109.950522</td>\n      <td>0.0</td>\n      <td>1.000000</td>\n    </tr>\n    <tr>\n      <th>Villanueva de los Castillejos</th>\n      <td>65.0</td>\n      <td>1.0</td>\n      <td>1.0</td>\n      <td>2820.0</td>\n      <td>35.460993</td>\n      <td>35.460993</td>\n      <td>0.0</td>\n      <td>1.000000</td>\n    </tr>\n  </tbody>\n</table>\n</div>"
     },
     "metadata": {},
     "execution_count": 18
    }
   ],
   "source": [
    "# Peso de la tasa de la última semana en relación con la tasa a 14 días \n",
    "# Mejor cuanto menor. Valor 1 significa que no había casos antes de 7 días.\n",
    "tabla['7/14'] = tabla['tasa7'] / tabla['tasa14']\n",
    "tabla.fillna(0).sort_values('7/14', ascending=True)"
   ]
  },
  {
   "cell_type": "code",
   "execution_count": null,
   "metadata": {},
   "outputs": [],
   "source": []
  }
 ]
}