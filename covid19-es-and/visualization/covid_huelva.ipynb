{
 "metadata": {
  "language_info": {
   "codemirror_mode": {
    "name": "ipython",
    "version": 3
   },
   "file_extension": ".py",
   "mimetype": "text/x-python",
   "name": "python",
   "nbconvert_exporter": "python",
   "pygments_lexer": "ipython3",
   "version": "3.8.6-final"
  },
  "orig_nbformat": 2,
  "kernelspec": {
   "name": "python38564bit75945252d6ba481bad4868286020c89e",
   "display_name": "Python 3.8.5 64-bit",
   "language": "python"
  }
 },
 "nbformat": 4,
 "nbformat_minor": 2,
 "cells": [
  {
   "cell_type": "code",
   "execution_count": 1,
   "metadata": {},
   "outputs": [],
   "source": [
    "import pandas as pd\n",
    "pd.set_option('display.max_rows', None) # Print all rows"
   ]
  },
  {
   "cell_type": "code",
   "execution_count": 2,
   "metadata": {},
   "outputs": [],
   "source": [
    "# FIX SSL: CERTIFICATE_VERIFY_FAILED with Python3\n",
    "# https://stackoverflow.com/a/49174340\n",
    "import ssl\n",
    "\n",
    "ssl._create_default_https_context = ssl._create_unverified_context"
   ]
  },
  {
   "cell_type": "code",
   "execution_count": 3,
   "metadata": {},
   "outputs": [],
   "source": [
    "url = 'https://www.juntadeandalucia.es/institutodeestadisticaycartografia/badea/stpivot/stpivot/Print?cube=013d884c-cfc5-4c21-9e78-e26225682afd&type=3&foto=si&ejecutaDesde=&codConsulta=38668&consTipoVisua=JP'\n",
    "fields = ['Lugar de residencia', 'Medida', 'Valor']\n",
    "df = pd.read_csv(url, delimiter=';', usecols=fields, decimal=',')"
   ]
  },
  {
   "cell_type": "code",
   "execution_count": 4,
   "metadata": {},
   "outputs": [
    {
     "output_type": "execute_result",
     "data": {
      "text/plain": [
       "  Lugar de residencia                    Medida             Valor\n",
       "0              Huelva                 Población            513170\n",
       "1              Huelva          Confirmados PDIA             24017\n",
       "2              Huelva  Confirmados PDIA 14 días              2129\n",
       "3              Huelva         Tasa PDIA 14 días  414,872264551708\n",
       "4              Huelva   Confirmados PDIA 7 días               609\n",
       "5              Huelva        Total Confirmados              24248\n",
       "6              Huelva                   Curados             13422\n",
       "7              Huelva                Fallecidos               255"
      ],
      "text/html": "<div>\n<style scoped>\n    .dataframe tbody tr th:only-of-type {\n        vertical-align: middle;\n    }\n\n    .dataframe tbody tr th {\n        vertical-align: top;\n    }\n\n    .dataframe thead th {\n        text-align: right;\n    }\n</style>\n<table border=\"1\" class=\"dataframe\">\n  <thead>\n    <tr style=\"text-align: right;\">\n      <th></th>\n      <th>Lugar de residencia</th>\n      <th>Medida</th>\n      <th>Valor</th>\n    </tr>\n  </thead>\n  <tbody>\n    <tr>\n      <th>0</th>\n      <td>Huelva</td>\n      <td>Población</td>\n      <td>513170</td>\n    </tr>\n    <tr>\n      <th>1</th>\n      <td>Huelva</td>\n      <td>Confirmados PDIA</td>\n      <td>24017</td>\n    </tr>\n    <tr>\n      <th>2</th>\n      <td>Huelva</td>\n      <td>Confirmados PDIA 14 días</td>\n      <td>2129</td>\n    </tr>\n    <tr>\n      <th>3</th>\n      <td>Huelva</td>\n      <td>Tasa PDIA 14 días</td>\n      <td>414,872264551708</td>\n    </tr>\n    <tr>\n      <th>4</th>\n      <td>Huelva</td>\n      <td>Confirmados PDIA 7 días</td>\n      <td>609</td>\n    </tr>\n    <tr>\n      <th>5</th>\n      <td>Huelva</td>\n      <td>Total Confirmados</td>\n      <td>24248</td>\n    </tr>\n    <tr>\n      <th>6</th>\n      <td>Huelva</td>\n      <td>Curados</td>\n      <td>13422</td>\n    </tr>\n    <tr>\n      <th>7</th>\n      <td>Huelva</td>\n      <td>Fallecidos</td>\n      <td>255</td>\n    </tr>\n  </tbody>\n</table>\n</div>"
     },
     "metadata": {},
     "execution_count": 4
    }
   ],
   "source": [
    "df[df['Lugar de residencia'] == 'Huelva']"
   ]
  },
  {
   "cell_type": "code",
   "execution_count": 5,
   "metadata": {},
   "outputs": [],
   "source": [
    "df['Valor'] = pd.to_numeric(df['Valor'],errors='coerce')"
   ]
  },
  {
   "cell_type": "code",
   "execution_count": 6,
   "metadata": {},
   "outputs": [],
   "source": [
    "dfAnterior = pd.read_csv('covid_huelva.csv', index_col='Lugar de residencia')"
   ]
  },
  {
   "cell_type": "code",
   "execution_count": 7,
   "metadata": {
    "tags": []
   },
   "outputs": [
    {
     "output_type": "stream",
     "name": "stdout",
     "text": [
      "Confirmados PCR en la provincia de Huelva:  24017.0\n"
     ]
    }
   ],
   "source": [
    "# Confirmados PCR provincia Huelva\n",
    "p = df[df['Lugar de residencia'] == 'Huelva'][df['Medida'] == 'Confirmados PDIA']['Valor'].values[0]\n",
    "print('Confirmados PCR en la provincia de Huelva: ', p)"
   ]
  },
  {
   "cell_type": "code",
   "execution_count": 8,
   "metadata": {
    "tags": []
   },
   "outputs": [
    {
     "output_type": "stream",
     "name": "stdout",
     "text": [
      "Confirmados PCR en Huelva capital:  6397.0\n"
     ]
    }
   ],
   "source": [
    "# Confirmados PCR Huelva capitalpd\n",
    "c = df[df['Lugar de residencia'] == 'Huelva (capital)'][df['Medida'] == 'Confirmados PDIA']['Valor'].values[0]\n",
    "print('Confirmados PCR en Huelva capital: ', c)"
   ]
  },
  {
   "cell_type": "code",
   "execution_count": 9,
   "metadata": {
    "tags": []
   },
   "outputs": [],
   "source": [
    "c7 = df[df['Lugar de residencia'] == 'Huelva (capital)'][df['Medida'] == 'Confirmados PDIA 7 días']['Valor'].values[0]\n",
    "c14 = df[df['Lugar de residencia'] == 'Huelva (capital)'][df['Medida'] == 'Confirmados PDIA 14 días']['Valor'].values[0]\n",
    "p = df[df['Lugar de residencia'] == 'Huelva (capital)'][df['Medida'] == 'Población']['Valor'].values[0]"
   ]
  },
  {
   "cell_type": "code",
   "execution_count": 10,
   "metadata": {
    "tags": []
   },
   "outputs": [
    {
     "output_type": "stream",
     "name": "stdout",
     "text": [
      "Huelva (capital)\n\nUn positivo PCR cada 745 personas en los últimos 7 días \n\nUn positivo PCR cada 263 personas en los últimos 14 días\n"
     ]
    }
   ],
   "source": [
    "print('Huelva (capital)\\n')\n",
    "#print('Confirmados PCR 7 días x 1,000 habitantes: ', f\"{c7/(p/1000):.5f}\")\n",
    "print('Un positivo PCR cada', f\"{p/c7:.0f}\", 'personas en los últimos 7 días', '\\n')\n",
    "#print('Confirmados PCR 14 días x 1,000 habitantes: ', f\"{c14/(p/1000):.5f}\")\n",
    "print('Un positivo PCR cada', f\"{p/c14:.0f}\", 'personas en los últimos 14 días')"
   ]
  },
  {
   "cell_type": "code",
   "execution_count": 11,
   "metadata": {},
   "outputs": [],
   "source": [
    "filtro = ((df['Medida'] == 'Confirmados PDIA')| (df['Medida'] == 'Confirmados PDIA 7 días') | (df['Medida'] == 'Población' ) | (df['Medida'] == 'Confirmados PDIA 14 días')) & (df['Valor'] > 0)\n",
    "tabla = pd.pivot_table(df.loc[filtro], values='Valor', index='Lugar de residencia', columns='Medida').dropna()"
   ]
  },
  {
   "cell_type": "code",
   "execution_count": 12,
   "metadata": {},
   "outputs": [],
   "source": [
    "# Reorder columns\n",
    "tabla = tabla[['Confirmados PDIA', 'Confirmados PDIA 7 días', 'Confirmados PDIA 14 días', 'Población']]"
   ]
  },
  {
   "cell_type": "code",
   "execution_count": 13,
   "metadata": {},
   "outputs": [],
   "source": [
    "tabla['tasa7'] = tabla['Confirmados PDIA 7 días']/tabla['Población']*100000\n",
    "tabla['tasa14'] = tabla['Confirmados PDIA 14 días']/tabla['Población']*100000"
   ]
  },
  {
   "cell_type": "code",
   "execution_count": 14,
   "metadata": {},
   "outputs": [],
   "source": [
    "tabla['Diferencia PDIA'] = tabla['Confirmados PDIA'] - dfAnterior['Confirmados PDIA']"
   ]
  },
  {
   "cell_type": "code",
   "execution_count": 15,
   "metadata": {},
   "outputs": [
    {
     "output_type": "execute_result",
     "data": {
      "text/plain": [
       "Medida                             Confirmados PDIA  Confirmados PDIA 7 días  \\\n",
       "Lugar de residencia                                                            \n",
       "Huelva                                      24017.0                    609.0   \n",
       "Huelva-Costa                                14625.0                    400.0   \n",
       "Condado-Campiña                              6641.0                    161.0   \n",
       "Huelva (capital)                             6397.0                    193.0   \n",
       "Isla Cristina                                1964.0                     48.0   \n",
       "Rociana del Condado                           298.0                     11.0   \n",
       "Cartaya                                       877.0                     23.0   \n",
       "Punta Umbría                                  638.0                     22.0   \n",
       "Sierra de Huelva-Andévalo Central            2323.0                     36.0   \n",
       "San Juan del Puerto                           353.0                      4.0   \n",
       "Valverde del Camino                           423.0                     12.0   \n",
       "Gibraleón                                     506.0                     11.0   \n",
       "Bollullos Par del Condado                     570.0                     21.0   \n",
       "Lepe                                         1944.0                     59.0   \n",
       "Beas                                          159.0                      4.0   \n",
       "Palma del Condado (La)                        960.0                      7.0   \n",
       "Palos de la Frontera                          437.0                     16.0   \n",
       "Trigueros                                     221.0                      1.0   \n",
       "Almonaster la Real                             55.0                      1.0   \n",
       "Alájar                                         16.0                      1.0   \n",
       "\n",
       "Medida                             Confirmados PDIA 14 días  Población  \\\n",
       "Lugar de residencia                                                      \n",
       "Huelva                                               2129.0   513170.0   \n",
       "Huelva-Costa                                         1311.0   289548.0   \n",
       "Condado-Campiña                                       633.0   156231.0   \n",
       "Huelva (capital)                                      547.0   143837.0   \n",
       "Isla Cristina                                         164.0    21393.0   \n",
       "Rociana del Condado                                    41.0     7939.0   \n",
       "Cartaya                                                78.0    20083.0   \n",
       "Punta Umbría                                           54.0    15355.0   \n",
       "Sierra de Huelva-Andévalo Central                     110.0    67391.0   \n",
       "San Juan del Puerto                                    32.0     9411.0   \n",
       "Valverde del Camino                                    32.0    12750.0   \n",
       "Gibraleón                                              41.0    12737.0   \n",
       "Bollullos Par del Condado                              86.0    14387.0   \n",
       "Lepe                                                  181.0    27880.0   \n",
       "Beas                                                   24.0     4341.0   \n",
       "Palma del Condado (La)                                 61.0    10801.0   \n",
       "Palos de la Frontera                                   50.0    11742.0   \n",
       "Trigueros                                              20.0     7862.0   \n",
       "Almonaster la Real                                      6.0     1788.0   \n",
       "Alájar                                                  7.0      759.0   \n",
       "\n",
       "Medida                                  tasa7      tasa14  Diferencia PDIA  \n",
       "Lugar de residencia                                                         \n",
       "Huelva                             118.674124  414.872265             26.0  \n",
       "Huelva-Costa                       138.146352  452.774669             17.0  \n",
       "Condado-Campiña                    103.052531  405.169269              8.0  \n",
       "Huelva (capital)                   134.179662  380.291580              6.0  \n",
       "Isla Cristina                      224.372458  766.605899              5.0  \n",
       "Rociana del Condado                138.556493  516.437839              5.0  \n",
       "Cartaya                            114.524722  388.388189              3.0  \n",
       "Punta Umbría                       143.275806  351.676978              2.0  \n",
       "Sierra de Huelva-Andévalo Central   53.419596  163.226544              2.0  \n",
       "San Juan del Puerto                 42.503453  340.027627              2.0  \n",
       "Valverde del Camino                 94.117647  250.980392              2.0  \n",
       "Gibraleón                           86.362566  321.896836              2.0  \n",
       "Bollullos Par del Condado          145.965107  597.761868              2.0  \n",
       "Lepe                               211.621234  649.210904              1.0  \n",
       "Beas                                92.144667  552.868003              1.0  \n",
       "Palma del Condado (La)              64.808814  564.762522             -1.0  \n",
       "Palos de la Frontera               136.262988  425.821836             -1.0  \n",
       "Trigueros                           12.719410  254.388196             -1.0  \n",
       "Almonaster la Real                  55.928412  335.570470             -1.0  \n",
       "Alájar                             131.752306  922.266140              NaN  "
      ],
      "text/html": "<div>\n<style scoped>\n    .dataframe tbody tr th:only-of-type {\n        vertical-align: middle;\n    }\n\n    .dataframe tbody tr th {\n        vertical-align: top;\n    }\n\n    .dataframe thead th {\n        text-align: right;\n    }\n</style>\n<table border=\"1\" class=\"dataframe\">\n  <thead>\n    <tr style=\"text-align: right;\">\n      <th>Medida</th>\n      <th>Confirmados PDIA</th>\n      <th>Confirmados PDIA 7 días</th>\n      <th>Confirmados PDIA 14 días</th>\n      <th>Población</th>\n      <th>tasa7</th>\n      <th>tasa14</th>\n      <th>Diferencia PDIA</th>\n    </tr>\n    <tr>\n      <th>Lugar de residencia</th>\n      <th></th>\n      <th></th>\n      <th></th>\n      <th></th>\n      <th></th>\n      <th></th>\n      <th></th>\n    </tr>\n  </thead>\n  <tbody>\n    <tr>\n      <th>Huelva</th>\n      <td>24017.0</td>\n      <td>609.0</td>\n      <td>2129.0</td>\n      <td>513170.0</td>\n      <td>118.674124</td>\n      <td>414.872265</td>\n      <td>26.0</td>\n    </tr>\n    <tr>\n      <th>Huelva-Costa</th>\n      <td>14625.0</td>\n      <td>400.0</td>\n      <td>1311.0</td>\n      <td>289548.0</td>\n      <td>138.146352</td>\n      <td>452.774669</td>\n      <td>17.0</td>\n    </tr>\n    <tr>\n      <th>Condado-Campiña</th>\n      <td>6641.0</td>\n      <td>161.0</td>\n      <td>633.0</td>\n      <td>156231.0</td>\n      <td>103.052531</td>\n      <td>405.169269</td>\n      <td>8.0</td>\n    </tr>\n    <tr>\n      <th>Huelva (capital)</th>\n      <td>6397.0</td>\n      <td>193.0</td>\n      <td>547.0</td>\n      <td>143837.0</td>\n      <td>134.179662</td>\n      <td>380.291580</td>\n      <td>6.0</td>\n    </tr>\n    <tr>\n      <th>Isla Cristina</th>\n      <td>1964.0</td>\n      <td>48.0</td>\n      <td>164.0</td>\n      <td>21393.0</td>\n      <td>224.372458</td>\n      <td>766.605899</td>\n      <td>5.0</td>\n    </tr>\n    <tr>\n      <th>Rociana del Condado</th>\n      <td>298.0</td>\n      <td>11.0</td>\n      <td>41.0</td>\n      <td>7939.0</td>\n      <td>138.556493</td>\n      <td>516.437839</td>\n      <td>5.0</td>\n    </tr>\n    <tr>\n      <th>Cartaya</th>\n      <td>877.0</td>\n      <td>23.0</td>\n      <td>78.0</td>\n      <td>20083.0</td>\n      <td>114.524722</td>\n      <td>388.388189</td>\n      <td>3.0</td>\n    </tr>\n    <tr>\n      <th>Punta Umbría</th>\n      <td>638.0</td>\n      <td>22.0</td>\n      <td>54.0</td>\n      <td>15355.0</td>\n      <td>143.275806</td>\n      <td>351.676978</td>\n      <td>2.0</td>\n    </tr>\n    <tr>\n      <th>Sierra de Huelva-Andévalo Central</th>\n      <td>2323.0</td>\n      <td>36.0</td>\n      <td>110.0</td>\n      <td>67391.0</td>\n      <td>53.419596</td>\n      <td>163.226544</td>\n      <td>2.0</td>\n    </tr>\n    <tr>\n      <th>San Juan del Puerto</th>\n      <td>353.0</td>\n      <td>4.0</td>\n      <td>32.0</td>\n      <td>9411.0</td>\n      <td>42.503453</td>\n      <td>340.027627</td>\n      <td>2.0</td>\n    </tr>\n    <tr>\n      <th>Valverde del Camino</th>\n      <td>423.0</td>\n      <td>12.0</td>\n      <td>32.0</td>\n      <td>12750.0</td>\n      <td>94.117647</td>\n      <td>250.980392</td>\n      <td>2.0</td>\n    </tr>\n    <tr>\n      <th>Gibraleón</th>\n      <td>506.0</td>\n      <td>11.0</td>\n      <td>41.0</td>\n      <td>12737.0</td>\n      <td>86.362566</td>\n      <td>321.896836</td>\n      <td>2.0</td>\n    </tr>\n    <tr>\n      <th>Bollullos Par del Condado</th>\n      <td>570.0</td>\n      <td>21.0</td>\n      <td>86.0</td>\n      <td>14387.0</td>\n      <td>145.965107</td>\n      <td>597.761868</td>\n      <td>2.0</td>\n    </tr>\n    <tr>\n      <th>Lepe</th>\n      <td>1944.0</td>\n      <td>59.0</td>\n      <td>181.0</td>\n      <td>27880.0</td>\n      <td>211.621234</td>\n      <td>649.210904</td>\n      <td>1.0</td>\n    </tr>\n    <tr>\n      <th>Beas</th>\n      <td>159.0</td>\n      <td>4.0</td>\n      <td>24.0</td>\n      <td>4341.0</td>\n      <td>92.144667</td>\n      <td>552.868003</td>\n      <td>1.0</td>\n    </tr>\n    <tr>\n      <th>Palma del Condado (La)</th>\n      <td>960.0</td>\n      <td>7.0</td>\n      <td>61.0</td>\n      <td>10801.0</td>\n      <td>64.808814</td>\n      <td>564.762522</td>\n      <td>-1.0</td>\n    </tr>\n    <tr>\n      <th>Palos de la Frontera</th>\n      <td>437.0</td>\n      <td>16.0</td>\n      <td>50.0</td>\n      <td>11742.0</td>\n      <td>136.262988</td>\n      <td>425.821836</td>\n      <td>-1.0</td>\n    </tr>\n    <tr>\n      <th>Trigueros</th>\n      <td>221.0</td>\n      <td>1.0</td>\n      <td>20.0</td>\n      <td>7862.0</td>\n      <td>12.719410</td>\n      <td>254.388196</td>\n      <td>-1.0</td>\n    </tr>\n    <tr>\n      <th>Almonaster la Real</th>\n      <td>55.0</td>\n      <td>1.0</td>\n      <td>6.0</td>\n      <td>1788.0</td>\n      <td>55.928412</td>\n      <td>335.570470</td>\n      <td>-1.0</td>\n    </tr>\n    <tr>\n      <th>Alájar</th>\n      <td>16.0</td>\n      <td>1.0</td>\n      <td>7.0</td>\n      <td>759.0</td>\n      <td>131.752306</td>\n      <td>922.266140</td>\n      <td>NaN</td>\n    </tr>\n  </tbody>\n</table>\n</div>"
     },
     "metadata": {},
     "execution_count": 15
    }
   ],
   "source": [
    "# Nuevos casos desde la última captura\n",
    "tabla[tabla['Diferencia PDIA'] != 0].sort_values('Diferencia PDIA', ascending=False)"
   ]
  },
  {
   "cell_type": "code",
   "execution_count": 16,
   "metadata": {},
   "outputs": [],
   "source": [
    "if tabla[tabla['Diferencia PDIA'] != 0]['Diferencia PDIA'].sum() > 0:\n",
    "  # Save to csv\n",
    "  tabla.to_csv('covid_huelva.csv', encoding='utf-8', header=True, index=True)  "
   ]
  },
  {
   "cell_type": "code",
   "execution_count": 17,
   "metadata": {},
   "outputs": [
    {
     "output_type": "execute_result",
     "data": {
      "text/plain": [
       "Medida                             Confirmados PDIA  Confirmados PDIA 7 días  \\\n",
       "Lugar de residencia                                                            \n",
       "Villablanca                                   163.0                      7.0   \n",
       "Alájar                                         16.0                      1.0   \n",
       "Villalba del Alcor                            437.0                      1.0   \n",
       "Isla Cristina                                1964.0                     48.0   \n",
       "Lepe                                         1944.0                     59.0   \n",
       "Ayamonte                                     1169.0                     26.0   \n",
       "Villanueva de los Castillejos                 143.0                      5.0   \n",
       "Bollullos Par del Condado                     570.0                     21.0   \n",
       "Palma del Condado (La)                        960.0                      7.0   \n",
       "Beas                                          159.0                      4.0   \n",
       "Cumbres de San Bartolomé                        5.0                      2.0   \n",
       "Rociana del Condado                           298.0                     11.0   \n",
       "Huelva-Costa                                14625.0                    400.0   \n",
       "Palos de la Frontera                          437.0                     16.0   \n",
       "Almonte                                       789.0                     42.0   \n",
       "Huelva                                      24017.0                    609.0   \n",
       "Condado-Campiña                              6641.0                    161.0   \n",
       "Cartaya                                       877.0                     23.0   \n",
       "Puebla de Guzmán                               81.0                      2.0   \n",
       "Huelva (capital)                             6397.0                    193.0   \n",
       "Moguer                                        791.0                     31.0   \n",
       "Punta Umbría                                  638.0                     22.0   \n",
       "Bonares                                       178.0                      5.0   \n",
       "San Bartolomé de la Torre                     189.0                      1.0   \n",
       "San Juan del Puerto                           353.0                      4.0   \n",
       "Almonaster la Real                             55.0                      1.0   \n",
       "Gibraleón                                     506.0                     11.0   \n",
       "Aljaraque                                     913.0                     13.0   \n",
       "Trigueros                                     221.0                      1.0   \n",
       "Valverde del Camino                           423.0                     12.0   \n",
       "Zalamea la Real                                85.0                      4.0   \n",
       "Niebla                                        158.0                      1.0   \n",
       "Escacena del Campo                            129.0                      2.0   \n",
       "Manzanilla                                     83.0                      1.0   \n",
       "Aracena                                       455.0                      4.0   \n",
       "Nerva                                         151.0                      6.0   \n",
       "Cerro de Andévalo (El)                        134.0                      3.0   \n",
       "Sierra de Huelva-Andévalo Central            2323.0                     36.0   \n",
       "Villarrasa                                    129.0                      2.0   \n",
       "Alosno                                        119.0                      2.0   \n",
       "Minas de Riotinto                             101.0                      2.0   \n",
       "Cortegana                                     200.0                      1.0   \n",
       "\n",
       "Medida                             Confirmados PDIA 14 días  Población  \\\n",
       "Lugar de residencia                                                      \n",
       "Villablanca                                            41.0     2885.0   \n",
       "Alájar                                                  7.0      759.0   \n",
       "Villalba del Alcor                                     26.0     3366.0   \n",
       "Isla Cristina                                         164.0    21393.0   \n",
       "Lepe                                                  181.0    27880.0   \n",
       "Ayamonte                                              130.0    21104.0   \n",
       "Villanueva de los Castillejos                          17.0     2825.0   \n",
       "Bollullos Par del Condado                              86.0    14387.0   \n",
       "Palma del Condado (La)                                 61.0    10801.0   \n",
       "Beas                                                   24.0     4341.0   \n",
       "Cumbres de San Bartolomé                                2.0      376.0   \n",
       "Rociana del Condado                                    41.0     7939.0   \n",
       "Huelva-Costa                                         1311.0   289548.0   \n",
       "Palos de la Frontera                                   50.0    11742.0   \n",
       "Almonte                                               103.0    24507.0   \n",
       "Huelva                                               2129.0   513170.0   \n",
       "Condado-Campiña                                       633.0   156231.0   \n",
       "Cartaya                                                78.0    20083.0   \n",
       "Puebla de Guzmán                                       12.0     3092.0   \n",
       "Huelva (capital)                                      547.0   143837.0   \n",
       "Moguer                                                 79.0    21867.0   \n",
       "Punta Umbría                                           54.0    15355.0   \n",
       "Bonares                                                21.0     6060.0   \n",
       "San Bartolomé de la Torre                              13.0     3761.0   \n",
       "San Juan del Puerto                                    32.0     9411.0   \n",
       "Almonaster la Real                                      6.0     1788.0   \n",
       "Gibraleón                                              41.0    12737.0   \n",
       "Aljaraque                                              65.0    21474.0   \n",
       "Trigueros                                              20.0     7862.0   \n",
       "Valverde del Camino                                    32.0    12750.0   \n",
       "Zalamea la Real                                         7.0     3054.0   \n",
       "Niebla                                                  9.0     4116.0   \n",
       "Escacena del Campo                                      5.0     2287.0   \n",
       "Manzanilla                                              4.0     2118.0   \n",
       "Aracena                                                15.0     8255.0   \n",
       "Nerva                                                   9.0     5169.0   \n",
       "Cerro de Andévalo (El)                                  4.0     2327.0   \n",
       "Sierra de Huelva-Andévalo Central                     110.0    67391.0   \n",
       "Villarrasa                                              3.0     2211.0   \n",
       "Alosno                                                  5.0     3933.0   \n",
       "Minas de Riotinto                                       4.0     3812.0   \n",
       "Cortegana                                               4.0     4602.0   \n",
       "\n",
       "Medida                                  tasa7       tasa14  Diferencia PDIA  \n",
       "Lugar de residencia                                                          \n",
       "Villablanca                        242.634315  1421.143847              0.0  \n",
       "Alájar                             131.752306   922.266140              NaN  \n",
       "Villalba del Alcor                  29.708853   772.430184              0.0  \n",
       "Isla Cristina                      224.372458   766.605899              5.0  \n",
       "Lepe                               211.621234   649.210904              1.0  \n",
       "Ayamonte                           123.199393   615.996967              0.0  \n",
       "Villanueva de los Castillejos      176.991150   601.769912              0.0  \n",
       "Bollullos Par del Condado          145.965107   597.761868              2.0  \n",
       "Palma del Condado (La)              64.808814   564.762522             -1.0  \n",
       "Beas                                92.144667   552.868003              1.0  \n",
       "Cumbres de San Bartolomé           531.914894   531.914894              0.0  \n",
       "Rociana del Condado                138.556493   516.437839              5.0  \n",
       "Huelva-Costa                       138.146352   452.774669             17.0  \n",
       "Palos de la Frontera               136.262988   425.821836             -1.0  \n",
       "Almonte                            171.379606   420.288081              0.0  \n",
       "Huelva                             118.674124   414.872265             26.0  \n",
       "Condado-Campiña                    103.052531   405.169269              8.0  \n",
       "Cartaya                            114.524722   388.388189              3.0  \n",
       "Puebla de Guzmán                    64.683053   388.098318              0.0  \n",
       "Huelva (capital)                   134.179662   380.291580              6.0  \n",
       "Moguer                             141.766132   361.274981              0.0  \n",
       "Punta Umbría                       143.275806   351.676978              2.0  \n",
       "Bonares                             82.508251   346.534653              0.0  \n",
       "San Bartolomé de la Torre           26.588673   345.652752              0.0  \n",
       "San Juan del Puerto                 42.503453   340.027627              2.0  \n",
       "Almonaster la Real                  55.928412   335.570470             -1.0  \n",
       "Gibraleón                           86.362566   321.896836              2.0  \n",
       "Aljaraque                           60.538325   302.691627              0.0  \n",
       "Trigueros                           12.719410   254.388196             -1.0  \n",
       "Valverde del Camino                 94.117647   250.980392              2.0  \n",
       "Zalamea la Real                    130.975769   229.207597              0.0  \n",
       "Niebla                              24.295432   218.658892              0.0  \n",
       "Escacena del Campo                  87.450809   218.627022              0.0  \n",
       "Manzanilla                          47.214353   188.857413              0.0  \n",
       "Aracena                             48.455482   181.708056              0.0  \n",
       "Nerva                              116.076611   174.114916              0.0  \n",
       "Cerro de Andévalo (El)             128.921358   171.895144              0.0  \n",
       "Sierra de Huelva-Andévalo Central   53.419596   163.226544              2.0  \n",
       "Villarrasa                          90.456807   135.685210              0.0  \n",
       "Alosno                              50.851767   127.129418              0.0  \n",
       "Minas de Riotinto                   52.465897   104.931794              0.0  \n",
       "Cortegana                           21.729683    86.918731              0.0  "
      ],
      "text/html": "<div>\n<style scoped>\n    .dataframe tbody tr th:only-of-type {\n        vertical-align: middle;\n    }\n\n    .dataframe tbody tr th {\n        vertical-align: top;\n    }\n\n    .dataframe thead th {\n        text-align: right;\n    }\n</style>\n<table border=\"1\" class=\"dataframe\">\n  <thead>\n    <tr style=\"text-align: right;\">\n      <th>Medida</th>\n      <th>Confirmados PDIA</th>\n      <th>Confirmados PDIA 7 días</th>\n      <th>Confirmados PDIA 14 días</th>\n      <th>Población</th>\n      <th>tasa7</th>\n      <th>tasa14</th>\n      <th>Diferencia PDIA</th>\n    </tr>\n    <tr>\n      <th>Lugar de residencia</th>\n      <th></th>\n      <th></th>\n      <th></th>\n      <th></th>\n      <th></th>\n      <th></th>\n      <th></th>\n    </tr>\n  </thead>\n  <tbody>\n    <tr>\n      <th>Villablanca</th>\n      <td>163.0</td>\n      <td>7.0</td>\n      <td>41.0</td>\n      <td>2885.0</td>\n      <td>242.634315</td>\n      <td>1421.143847</td>\n      <td>0.0</td>\n    </tr>\n    <tr>\n      <th>Alájar</th>\n      <td>16.0</td>\n      <td>1.0</td>\n      <td>7.0</td>\n      <td>759.0</td>\n      <td>131.752306</td>\n      <td>922.266140</td>\n      <td>NaN</td>\n    </tr>\n    <tr>\n      <th>Villalba del Alcor</th>\n      <td>437.0</td>\n      <td>1.0</td>\n      <td>26.0</td>\n      <td>3366.0</td>\n      <td>29.708853</td>\n      <td>772.430184</td>\n      <td>0.0</td>\n    </tr>\n    <tr>\n      <th>Isla Cristina</th>\n      <td>1964.0</td>\n      <td>48.0</td>\n      <td>164.0</td>\n      <td>21393.0</td>\n      <td>224.372458</td>\n      <td>766.605899</td>\n      <td>5.0</td>\n    </tr>\n    <tr>\n      <th>Lepe</th>\n      <td>1944.0</td>\n      <td>59.0</td>\n      <td>181.0</td>\n      <td>27880.0</td>\n      <td>211.621234</td>\n      <td>649.210904</td>\n      <td>1.0</td>\n    </tr>\n    <tr>\n      <th>Ayamonte</th>\n      <td>1169.0</td>\n      <td>26.0</td>\n      <td>130.0</td>\n      <td>21104.0</td>\n      <td>123.199393</td>\n      <td>615.996967</td>\n      <td>0.0</td>\n    </tr>\n    <tr>\n      <th>Villanueva de los Castillejos</th>\n      <td>143.0</td>\n      <td>5.0</td>\n      <td>17.0</td>\n      <td>2825.0</td>\n      <td>176.991150</td>\n      <td>601.769912</td>\n      <td>0.0</td>\n    </tr>\n    <tr>\n      <th>Bollullos Par del Condado</th>\n      <td>570.0</td>\n      <td>21.0</td>\n      <td>86.0</td>\n      <td>14387.0</td>\n      <td>145.965107</td>\n      <td>597.761868</td>\n      <td>2.0</td>\n    </tr>\n    <tr>\n      <th>Palma del Condado (La)</th>\n      <td>960.0</td>\n      <td>7.0</td>\n      <td>61.0</td>\n      <td>10801.0</td>\n      <td>64.808814</td>\n      <td>564.762522</td>\n      <td>-1.0</td>\n    </tr>\n    <tr>\n      <th>Beas</th>\n      <td>159.0</td>\n      <td>4.0</td>\n      <td>24.0</td>\n      <td>4341.0</td>\n      <td>92.144667</td>\n      <td>552.868003</td>\n      <td>1.0</td>\n    </tr>\n    <tr>\n      <th>Cumbres de San Bartolomé</th>\n      <td>5.0</td>\n      <td>2.0</td>\n      <td>2.0</td>\n      <td>376.0</td>\n      <td>531.914894</td>\n      <td>531.914894</td>\n      <td>0.0</td>\n    </tr>\n    <tr>\n      <th>Rociana del Condado</th>\n      <td>298.0</td>\n      <td>11.0</td>\n      <td>41.0</td>\n      <td>7939.0</td>\n      <td>138.556493</td>\n      <td>516.437839</td>\n      <td>5.0</td>\n    </tr>\n    <tr>\n      <th>Huelva-Costa</th>\n      <td>14625.0</td>\n      <td>400.0</td>\n      <td>1311.0</td>\n      <td>289548.0</td>\n      <td>138.146352</td>\n      <td>452.774669</td>\n      <td>17.0</td>\n    </tr>\n    <tr>\n      <th>Palos de la Frontera</th>\n      <td>437.0</td>\n      <td>16.0</td>\n      <td>50.0</td>\n      <td>11742.0</td>\n      <td>136.262988</td>\n      <td>425.821836</td>\n      <td>-1.0</td>\n    </tr>\n    <tr>\n      <th>Almonte</th>\n      <td>789.0</td>\n      <td>42.0</td>\n      <td>103.0</td>\n      <td>24507.0</td>\n      <td>171.379606</td>\n      <td>420.288081</td>\n      <td>0.0</td>\n    </tr>\n    <tr>\n      <th>Huelva</th>\n      <td>24017.0</td>\n      <td>609.0</td>\n      <td>2129.0</td>\n      <td>513170.0</td>\n      <td>118.674124</td>\n      <td>414.872265</td>\n      <td>26.0</td>\n    </tr>\n    <tr>\n      <th>Condado-Campiña</th>\n      <td>6641.0</td>\n      <td>161.0</td>\n      <td>633.0</td>\n      <td>156231.0</td>\n      <td>103.052531</td>\n      <td>405.169269</td>\n      <td>8.0</td>\n    </tr>\n    <tr>\n      <th>Cartaya</th>\n      <td>877.0</td>\n      <td>23.0</td>\n      <td>78.0</td>\n      <td>20083.0</td>\n      <td>114.524722</td>\n      <td>388.388189</td>\n      <td>3.0</td>\n    </tr>\n    <tr>\n      <th>Puebla de Guzmán</th>\n      <td>81.0</td>\n      <td>2.0</td>\n      <td>12.0</td>\n      <td>3092.0</td>\n      <td>64.683053</td>\n      <td>388.098318</td>\n      <td>0.0</td>\n    </tr>\n    <tr>\n      <th>Huelva (capital)</th>\n      <td>6397.0</td>\n      <td>193.0</td>\n      <td>547.0</td>\n      <td>143837.0</td>\n      <td>134.179662</td>\n      <td>380.291580</td>\n      <td>6.0</td>\n    </tr>\n    <tr>\n      <th>Moguer</th>\n      <td>791.0</td>\n      <td>31.0</td>\n      <td>79.0</td>\n      <td>21867.0</td>\n      <td>141.766132</td>\n      <td>361.274981</td>\n      <td>0.0</td>\n    </tr>\n    <tr>\n      <th>Punta Umbría</th>\n      <td>638.0</td>\n      <td>22.0</td>\n      <td>54.0</td>\n      <td>15355.0</td>\n      <td>143.275806</td>\n      <td>351.676978</td>\n      <td>2.0</td>\n    </tr>\n    <tr>\n      <th>Bonares</th>\n      <td>178.0</td>\n      <td>5.0</td>\n      <td>21.0</td>\n      <td>6060.0</td>\n      <td>82.508251</td>\n      <td>346.534653</td>\n      <td>0.0</td>\n    </tr>\n    <tr>\n      <th>San Bartolomé de la Torre</th>\n      <td>189.0</td>\n      <td>1.0</td>\n      <td>13.0</td>\n      <td>3761.0</td>\n      <td>26.588673</td>\n      <td>345.652752</td>\n      <td>0.0</td>\n    </tr>\n    <tr>\n      <th>San Juan del Puerto</th>\n      <td>353.0</td>\n      <td>4.0</td>\n      <td>32.0</td>\n      <td>9411.0</td>\n      <td>42.503453</td>\n      <td>340.027627</td>\n      <td>2.0</td>\n    </tr>\n    <tr>\n      <th>Almonaster la Real</th>\n      <td>55.0</td>\n      <td>1.0</td>\n      <td>6.0</td>\n      <td>1788.0</td>\n      <td>55.928412</td>\n      <td>335.570470</td>\n      <td>-1.0</td>\n    </tr>\n    <tr>\n      <th>Gibraleón</th>\n      <td>506.0</td>\n      <td>11.0</td>\n      <td>41.0</td>\n      <td>12737.0</td>\n      <td>86.362566</td>\n      <td>321.896836</td>\n      <td>2.0</td>\n    </tr>\n    <tr>\n      <th>Aljaraque</th>\n      <td>913.0</td>\n      <td>13.0</td>\n      <td>65.0</td>\n      <td>21474.0</td>\n      <td>60.538325</td>\n      <td>302.691627</td>\n      <td>0.0</td>\n    </tr>\n    <tr>\n      <th>Trigueros</th>\n      <td>221.0</td>\n      <td>1.0</td>\n      <td>20.0</td>\n      <td>7862.0</td>\n      <td>12.719410</td>\n      <td>254.388196</td>\n      <td>-1.0</td>\n    </tr>\n    <tr>\n      <th>Valverde del Camino</th>\n      <td>423.0</td>\n      <td>12.0</td>\n      <td>32.0</td>\n      <td>12750.0</td>\n      <td>94.117647</td>\n      <td>250.980392</td>\n      <td>2.0</td>\n    </tr>\n    <tr>\n      <th>Zalamea la Real</th>\n      <td>85.0</td>\n      <td>4.0</td>\n      <td>7.0</td>\n      <td>3054.0</td>\n      <td>130.975769</td>\n      <td>229.207597</td>\n      <td>0.0</td>\n    </tr>\n    <tr>\n      <th>Niebla</th>\n      <td>158.0</td>\n      <td>1.0</td>\n      <td>9.0</td>\n      <td>4116.0</td>\n      <td>24.295432</td>\n      <td>218.658892</td>\n      <td>0.0</td>\n    </tr>\n    <tr>\n      <th>Escacena del Campo</th>\n      <td>129.0</td>\n      <td>2.0</td>\n      <td>5.0</td>\n      <td>2287.0</td>\n      <td>87.450809</td>\n      <td>218.627022</td>\n      <td>0.0</td>\n    </tr>\n    <tr>\n      <th>Manzanilla</th>\n      <td>83.0</td>\n      <td>1.0</td>\n      <td>4.0</td>\n      <td>2118.0</td>\n      <td>47.214353</td>\n      <td>188.857413</td>\n      <td>0.0</td>\n    </tr>\n    <tr>\n      <th>Aracena</th>\n      <td>455.0</td>\n      <td>4.0</td>\n      <td>15.0</td>\n      <td>8255.0</td>\n      <td>48.455482</td>\n      <td>181.708056</td>\n      <td>0.0</td>\n    </tr>\n    <tr>\n      <th>Nerva</th>\n      <td>151.0</td>\n      <td>6.0</td>\n      <td>9.0</td>\n      <td>5169.0</td>\n      <td>116.076611</td>\n      <td>174.114916</td>\n      <td>0.0</td>\n    </tr>\n    <tr>\n      <th>Cerro de Andévalo (El)</th>\n      <td>134.0</td>\n      <td>3.0</td>\n      <td>4.0</td>\n      <td>2327.0</td>\n      <td>128.921358</td>\n      <td>171.895144</td>\n      <td>0.0</td>\n    </tr>\n    <tr>\n      <th>Sierra de Huelva-Andévalo Central</th>\n      <td>2323.0</td>\n      <td>36.0</td>\n      <td>110.0</td>\n      <td>67391.0</td>\n      <td>53.419596</td>\n      <td>163.226544</td>\n      <td>2.0</td>\n    </tr>\n    <tr>\n      <th>Villarrasa</th>\n      <td>129.0</td>\n      <td>2.0</td>\n      <td>3.0</td>\n      <td>2211.0</td>\n      <td>90.456807</td>\n      <td>135.685210</td>\n      <td>0.0</td>\n    </tr>\n    <tr>\n      <th>Alosno</th>\n      <td>119.0</td>\n      <td>2.0</td>\n      <td>5.0</td>\n      <td>3933.0</td>\n      <td>50.851767</td>\n      <td>127.129418</td>\n      <td>0.0</td>\n    </tr>\n    <tr>\n      <th>Minas de Riotinto</th>\n      <td>101.0</td>\n      <td>2.0</td>\n      <td>4.0</td>\n      <td>3812.0</td>\n      <td>52.465897</td>\n      <td>104.931794</td>\n      <td>0.0</td>\n    </tr>\n    <tr>\n      <th>Cortegana</th>\n      <td>200.0</td>\n      <td>1.0</td>\n      <td>4.0</td>\n      <td>4602.0</td>\n      <td>21.729683</td>\n      <td>86.918731</td>\n      <td>0.0</td>\n    </tr>\n  </tbody>\n</table>\n</div>"
     },
     "metadata": {},
     "execution_count": 17
    }
   ],
   "source": [
    "tabla.sort_values('tasa14', ascending=False)"
   ]
  },
  {
   "cell_type": "code",
   "execution_count": 18,
   "metadata": {},
   "outputs": [
    {
     "output_type": "execute_result",
     "data": {
      "text/plain": [
       "Medida                             Confirmados PDIA  Confirmados PDIA 7 días  \\\n",
       "Lugar de residencia                                                            \n",
       "Villalba del Alcor                            437.0                      1.0   \n",
       "Trigueros                                     221.0                      1.0   \n",
       "San Bartolomé de la Torre                     189.0                      1.0   \n",
       "Niebla                                        158.0                      1.0   \n",
       "Palma del Condado (La)                        960.0                      7.0   \n",
       "San Juan del Puerto                           353.0                      4.0   \n",
       "Alájar                                         16.0                      1.0   \n",
       "Almonaster la Real                             55.0                      1.0   \n",
       "Beas                                          159.0                      4.0   \n",
       "Puebla de Guzmán                               81.0                      2.0   \n",
       "Villablanca                                   163.0                      7.0   \n",
       "Aljaraque                                     913.0                     13.0   \n",
       "Ayamonte                                     1169.0                     26.0   \n",
       "Bonares                                       178.0                      5.0   \n",
       "Bollullos Par del Condado                     570.0                     21.0   \n",
       "Cortegana                                     200.0                      1.0   \n",
       "Manzanilla                                     83.0                      1.0   \n",
       "Condado-Campiña                              6641.0                    161.0   \n",
       "Aracena                                       455.0                      4.0   \n",
       "Gibraleón                                     506.0                     11.0   \n",
       "Rociana del Condado                           298.0                     11.0   \n",
       "Huelva                                      24017.0                    609.0   \n",
       "Isla Cristina                                1964.0                     48.0   \n",
       "Villanueva de los Castillejos                 143.0                      5.0   \n",
       "Cartaya                                       877.0                     23.0   \n",
       "Huelva-Costa                                14625.0                    400.0   \n",
       "Palos de la Frontera                          437.0                     16.0   \n",
       "Lepe                                         1944.0                     59.0   \n",
       "Sierra de Huelva-Andévalo Central            2323.0                     36.0   \n",
       "Huelva (capital)                             6397.0                    193.0   \n",
       "Valverde del Camino                           423.0                     12.0   \n",
       "Moguer                                        791.0                     31.0   \n",
       "Alosno                                        119.0                      2.0   \n",
       "Escacena del Campo                            129.0                      2.0   \n",
       "Punta Umbría                                  638.0                     22.0   \n",
       "Almonte                                       789.0                     42.0   \n",
       "Minas de Riotinto                             101.0                      2.0   \n",
       "Zalamea la Real                                85.0                      4.0   \n",
       "Villarrasa                                    129.0                      2.0   \n",
       "Nerva                                         151.0                      6.0   \n",
       "Cerro de Andévalo (El)                        134.0                      3.0   \n",
       "Cumbres de San Bartolomé                        5.0                      2.0   \n",
       "\n",
       "Medida                             Confirmados PDIA 14 días  Población  \\\n",
       "Lugar de residencia                                                      \n",
       "Villalba del Alcor                                     26.0     3366.0   \n",
       "Trigueros                                              20.0     7862.0   \n",
       "San Bartolomé de la Torre                              13.0     3761.0   \n",
       "Niebla                                                  9.0     4116.0   \n",
       "Palma del Condado (La)                                 61.0    10801.0   \n",
       "San Juan del Puerto                                    32.0     9411.0   \n",
       "Alájar                                                  7.0      759.0   \n",
       "Almonaster la Real                                      6.0     1788.0   \n",
       "Beas                                                   24.0     4341.0   \n",
       "Puebla de Guzmán                                       12.0     3092.0   \n",
       "Villablanca                                            41.0     2885.0   \n",
       "Aljaraque                                              65.0    21474.0   \n",
       "Ayamonte                                              130.0    21104.0   \n",
       "Bonares                                                21.0     6060.0   \n",
       "Bollullos Par del Condado                              86.0    14387.0   \n",
       "Cortegana                                               4.0     4602.0   \n",
       "Manzanilla                                              4.0     2118.0   \n",
       "Condado-Campiña                                       633.0   156231.0   \n",
       "Aracena                                                15.0     8255.0   \n",
       "Gibraleón                                              41.0    12737.0   \n",
       "Rociana del Condado                                    41.0     7939.0   \n",
       "Huelva                                               2129.0   513170.0   \n",
       "Isla Cristina                                         164.0    21393.0   \n",
       "Villanueva de los Castillejos                          17.0     2825.0   \n",
       "Cartaya                                                78.0    20083.0   \n",
       "Huelva-Costa                                         1311.0   289548.0   \n",
       "Palos de la Frontera                                   50.0    11742.0   \n",
       "Lepe                                                  181.0    27880.0   \n",
       "Sierra de Huelva-Andévalo Central                     110.0    67391.0   \n",
       "Huelva (capital)                                      547.0   143837.0   \n",
       "Valverde del Camino                                    32.0    12750.0   \n",
       "Moguer                                                 79.0    21867.0   \n",
       "Alosno                                                  5.0     3933.0   \n",
       "Escacena del Campo                                      5.0     2287.0   \n",
       "Punta Umbría                                           54.0    15355.0   \n",
       "Almonte                                               103.0    24507.0   \n",
       "Minas de Riotinto                                       4.0     3812.0   \n",
       "Zalamea la Real                                         7.0     3054.0   \n",
       "Villarrasa                                              3.0     2211.0   \n",
       "Nerva                                                   9.0     5169.0   \n",
       "Cerro de Andévalo (El)                                  4.0     2327.0   \n",
       "Cumbres de San Bartolomé                                2.0      376.0   \n",
       "\n",
       "Medida                                  tasa7       tasa14  Diferencia PDIA  \\\n",
       "Lugar de residencia                                                           \n",
       "Villalba del Alcor                  29.708853   772.430184              0.0   \n",
       "Trigueros                           12.719410   254.388196             -1.0   \n",
       "San Bartolomé de la Torre           26.588673   345.652752              0.0   \n",
       "Niebla                              24.295432   218.658892              0.0   \n",
       "Palma del Condado (La)              64.808814   564.762522             -1.0   \n",
       "San Juan del Puerto                 42.503453   340.027627              2.0   \n",
       "Alájar                             131.752306   922.266140              0.0   \n",
       "Almonaster la Real                  55.928412   335.570470             -1.0   \n",
       "Beas                                92.144667   552.868003              1.0   \n",
       "Puebla de Guzmán                    64.683053   388.098318              0.0   \n",
       "Villablanca                        242.634315  1421.143847              0.0   \n",
       "Aljaraque                           60.538325   302.691627              0.0   \n",
       "Ayamonte                           123.199393   615.996967              0.0   \n",
       "Bonares                             82.508251   346.534653              0.0   \n",
       "Bollullos Par del Condado          145.965107   597.761868              2.0   \n",
       "Cortegana                           21.729683    86.918731              0.0   \n",
       "Manzanilla                          47.214353   188.857413              0.0   \n",
       "Condado-Campiña                    103.052531   405.169269              8.0   \n",
       "Aracena                             48.455482   181.708056              0.0   \n",
       "Gibraleón                           86.362566   321.896836              2.0   \n",
       "Rociana del Condado                138.556493   516.437839              5.0   \n",
       "Huelva                             118.674124   414.872265             26.0   \n",
       "Isla Cristina                      224.372458   766.605899              5.0   \n",
       "Villanueva de los Castillejos      176.991150   601.769912              0.0   \n",
       "Cartaya                            114.524722   388.388189              3.0   \n",
       "Huelva-Costa                       138.146352   452.774669             17.0   \n",
       "Palos de la Frontera               136.262988   425.821836             -1.0   \n",
       "Lepe                               211.621234   649.210904              1.0   \n",
       "Sierra de Huelva-Andévalo Central   53.419596   163.226544              2.0   \n",
       "Huelva (capital)                   134.179662   380.291580              6.0   \n",
       "Valverde del Camino                 94.117647   250.980392              2.0   \n",
       "Moguer                             141.766132   361.274981              0.0   \n",
       "Alosno                              50.851767   127.129418              0.0   \n",
       "Escacena del Campo                  87.450809   218.627022              0.0   \n",
       "Punta Umbría                       143.275806   351.676978              2.0   \n",
       "Almonte                            171.379606   420.288081              0.0   \n",
       "Minas de Riotinto                   52.465897   104.931794              0.0   \n",
       "Zalamea la Real                    130.975769   229.207597              0.0   \n",
       "Villarrasa                          90.456807   135.685210              0.0   \n",
       "Nerva                              116.076611   174.114916              0.0   \n",
       "Cerro de Andévalo (El)             128.921358   171.895144              0.0   \n",
       "Cumbres de San Bartolomé           531.914894   531.914894              0.0   \n",
       "\n",
       "Medida                                 7/14  \n",
       "Lugar de residencia                          \n",
       "Villalba del Alcor                 0.038462  \n",
       "Trigueros                          0.050000  \n",
       "San Bartolomé de la Torre          0.076923  \n",
       "Niebla                             0.111111  \n",
       "Palma del Condado (La)             0.114754  \n",
       "San Juan del Puerto                0.125000  \n",
       "Alájar                             0.142857  \n",
       "Almonaster la Real                 0.166667  \n",
       "Beas                               0.166667  \n",
       "Puebla de Guzmán                   0.166667  \n",
       "Villablanca                        0.170732  \n",
       "Aljaraque                          0.200000  \n",
       "Ayamonte                           0.200000  \n",
       "Bonares                            0.238095  \n",
       "Bollullos Par del Condado          0.244186  \n",
       "Cortegana                          0.250000  \n",
       "Manzanilla                         0.250000  \n",
       "Condado-Campiña                    0.254344  \n",
       "Aracena                            0.266667  \n",
       "Gibraleón                          0.268293  \n",
       "Rociana del Condado                0.268293  \n",
       "Huelva                             0.286050  \n",
       "Isla Cristina                      0.292683  \n",
       "Villanueva de los Castillejos      0.294118  \n",
       "Cartaya                            0.294872  \n",
       "Huelva-Costa                       0.305111  \n",
       "Palos de la Frontera               0.320000  \n",
       "Lepe                               0.325967  \n",
       "Sierra de Huelva-Andévalo Central  0.327273  \n",
       "Huelva (capital)                   0.352834  \n",
       "Valverde del Camino                0.375000  \n",
       "Moguer                             0.392405  \n",
       "Alosno                             0.400000  \n",
       "Escacena del Campo                 0.400000  \n",
       "Punta Umbría                       0.407407  \n",
       "Almonte                            0.407767  \n",
       "Minas de Riotinto                  0.500000  \n",
       "Zalamea la Real                    0.571429  \n",
       "Villarrasa                         0.666667  \n",
       "Nerva                              0.666667  \n",
       "Cerro de Andévalo (El)             0.750000  \n",
       "Cumbres de San Bartolomé           1.000000  "
      ],
      "text/html": "<div>\n<style scoped>\n    .dataframe tbody tr th:only-of-type {\n        vertical-align: middle;\n    }\n\n    .dataframe tbody tr th {\n        vertical-align: top;\n    }\n\n    .dataframe thead th {\n        text-align: right;\n    }\n</style>\n<table border=\"1\" class=\"dataframe\">\n  <thead>\n    <tr style=\"text-align: right;\">\n      <th>Medida</th>\n      <th>Confirmados PDIA</th>\n      <th>Confirmados PDIA 7 días</th>\n      <th>Confirmados PDIA 14 días</th>\n      <th>Población</th>\n      <th>tasa7</th>\n      <th>tasa14</th>\n      <th>Diferencia PDIA</th>\n      <th>7/14</th>\n    </tr>\n    <tr>\n      <th>Lugar de residencia</th>\n      <th></th>\n      <th></th>\n      <th></th>\n      <th></th>\n      <th></th>\n      <th></th>\n      <th></th>\n      <th></th>\n    </tr>\n  </thead>\n  <tbody>\n    <tr>\n      <th>Villalba del Alcor</th>\n      <td>437.0</td>\n      <td>1.0</td>\n      <td>26.0</td>\n      <td>3366.0</td>\n      <td>29.708853</td>\n      <td>772.430184</td>\n      <td>0.0</td>\n      <td>0.038462</td>\n    </tr>\n    <tr>\n      <th>Trigueros</th>\n      <td>221.0</td>\n      <td>1.0</td>\n      <td>20.0</td>\n      <td>7862.0</td>\n      <td>12.719410</td>\n      <td>254.388196</td>\n      <td>-1.0</td>\n      <td>0.050000</td>\n    </tr>\n    <tr>\n      <th>San Bartolomé de la Torre</th>\n      <td>189.0</td>\n      <td>1.0</td>\n      <td>13.0</td>\n      <td>3761.0</td>\n      <td>26.588673</td>\n      <td>345.652752</td>\n      <td>0.0</td>\n      <td>0.076923</td>\n    </tr>\n    <tr>\n      <th>Niebla</th>\n      <td>158.0</td>\n      <td>1.0</td>\n      <td>9.0</td>\n      <td>4116.0</td>\n      <td>24.295432</td>\n      <td>218.658892</td>\n      <td>0.0</td>\n      <td>0.111111</td>\n    </tr>\n    <tr>\n      <th>Palma del Condado (La)</th>\n      <td>960.0</td>\n      <td>7.0</td>\n      <td>61.0</td>\n      <td>10801.0</td>\n      <td>64.808814</td>\n      <td>564.762522</td>\n      <td>-1.0</td>\n      <td>0.114754</td>\n    </tr>\n    <tr>\n      <th>San Juan del Puerto</th>\n      <td>353.0</td>\n      <td>4.0</td>\n      <td>32.0</td>\n      <td>9411.0</td>\n      <td>42.503453</td>\n      <td>340.027627</td>\n      <td>2.0</td>\n      <td>0.125000</td>\n    </tr>\n    <tr>\n      <th>Alájar</th>\n      <td>16.0</td>\n      <td>1.0</td>\n      <td>7.0</td>\n      <td>759.0</td>\n      <td>131.752306</td>\n      <td>922.266140</td>\n      <td>0.0</td>\n      <td>0.142857</td>\n    </tr>\n    <tr>\n      <th>Almonaster la Real</th>\n      <td>55.0</td>\n      <td>1.0</td>\n      <td>6.0</td>\n      <td>1788.0</td>\n      <td>55.928412</td>\n      <td>335.570470</td>\n      <td>-1.0</td>\n      <td>0.166667</td>\n    </tr>\n    <tr>\n      <th>Beas</th>\n      <td>159.0</td>\n      <td>4.0</td>\n      <td>24.0</td>\n      <td>4341.0</td>\n      <td>92.144667</td>\n      <td>552.868003</td>\n      <td>1.0</td>\n      <td>0.166667</td>\n    </tr>\n    <tr>\n      <th>Puebla de Guzmán</th>\n      <td>81.0</td>\n      <td>2.0</td>\n      <td>12.0</td>\n      <td>3092.0</td>\n      <td>64.683053</td>\n      <td>388.098318</td>\n      <td>0.0</td>\n      <td>0.166667</td>\n    </tr>\n    <tr>\n      <th>Villablanca</th>\n      <td>163.0</td>\n      <td>7.0</td>\n      <td>41.0</td>\n      <td>2885.0</td>\n      <td>242.634315</td>\n      <td>1421.143847</td>\n      <td>0.0</td>\n      <td>0.170732</td>\n    </tr>\n    <tr>\n      <th>Aljaraque</th>\n      <td>913.0</td>\n      <td>13.0</td>\n      <td>65.0</td>\n      <td>21474.0</td>\n      <td>60.538325</td>\n      <td>302.691627</td>\n      <td>0.0</td>\n      <td>0.200000</td>\n    </tr>\n    <tr>\n      <th>Ayamonte</th>\n      <td>1169.0</td>\n      <td>26.0</td>\n      <td>130.0</td>\n      <td>21104.0</td>\n      <td>123.199393</td>\n      <td>615.996967</td>\n      <td>0.0</td>\n      <td>0.200000</td>\n    </tr>\n    <tr>\n      <th>Bonares</th>\n      <td>178.0</td>\n      <td>5.0</td>\n      <td>21.0</td>\n      <td>6060.0</td>\n      <td>82.508251</td>\n      <td>346.534653</td>\n      <td>0.0</td>\n      <td>0.238095</td>\n    </tr>\n    <tr>\n      <th>Bollullos Par del Condado</th>\n      <td>570.0</td>\n      <td>21.0</td>\n      <td>86.0</td>\n      <td>14387.0</td>\n      <td>145.965107</td>\n      <td>597.761868</td>\n      <td>2.0</td>\n      <td>0.244186</td>\n    </tr>\n    <tr>\n      <th>Cortegana</th>\n      <td>200.0</td>\n      <td>1.0</td>\n      <td>4.0</td>\n      <td>4602.0</td>\n      <td>21.729683</td>\n      <td>86.918731</td>\n      <td>0.0</td>\n      <td>0.250000</td>\n    </tr>\n    <tr>\n      <th>Manzanilla</th>\n      <td>83.0</td>\n      <td>1.0</td>\n      <td>4.0</td>\n      <td>2118.0</td>\n      <td>47.214353</td>\n      <td>188.857413</td>\n      <td>0.0</td>\n      <td>0.250000</td>\n    </tr>\n    <tr>\n      <th>Condado-Campiña</th>\n      <td>6641.0</td>\n      <td>161.0</td>\n      <td>633.0</td>\n      <td>156231.0</td>\n      <td>103.052531</td>\n      <td>405.169269</td>\n      <td>8.0</td>\n      <td>0.254344</td>\n    </tr>\n    <tr>\n      <th>Aracena</th>\n      <td>455.0</td>\n      <td>4.0</td>\n      <td>15.0</td>\n      <td>8255.0</td>\n      <td>48.455482</td>\n      <td>181.708056</td>\n      <td>0.0</td>\n      <td>0.266667</td>\n    </tr>\n    <tr>\n      <th>Gibraleón</th>\n      <td>506.0</td>\n      <td>11.0</td>\n      <td>41.0</td>\n      <td>12737.0</td>\n      <td>86.362566</td>\n      <td>321.896836</td>\n      <td>2.0</td>\n      <td>0.268293</td>\n    </tr>\n    <tr>\n      <th>Rociana del Condado</th>\n      <td>298.0</td>\n      <td>11.0</td>\n      <td>41.0</td>\n      <td>7939.0</td>\n      <td>138.556493</td>\n      <td>516.437839</td>\n      <td>5.0</td>\n      <td>0.268293</td>\n    </tr>\n    <tr>\n      <th>Huelva</th>\n      <td>24017.0</td>\n      <td>609.0</td>\n      <td>2129.0</td>\n      <td>513170.0</td>\n      <td>118.674124</td>\n      <td>414.872265</td>\n      <td>26.0</td>\n      <td>0.286050</td>\n    </tr>\n    <tr>\n      <th>Isla Cristina</th>\n      <td>1964.0</td>\n      <td>48.0</td>\n      <td>164.0</td>\n      <td>21393.0</td>\n      <td>224.372458</td>\n      <td>766.605899</td>\n      <td>5.0</td>\n      <td>0.292683</td>\n    </tr>\n    <tr>\n      <th>Villanueva de los Castillejos</th>\n      <td>143.0</td>\n      <td>5.0</td>\n      <td>17.0</td>\n      <td>2825.0</td>\n      <td>176.991150</td>\n      <td>601.769912</td>\n      <td>0.0</td>\n      <td>0.294118</td>\n    </tr>\n    <tr>\n      <th>Cartaya</th>\n      <td>877.0</td>\n      <td>23.0</td>\n      <td>78.0</td>\n      <td>20083.0</td>\n      <td>114.524722</td>\n      <td>388.388189</td>\n      <td>3.0</td>\n      <td>0.294872</td>\n    </tr>\n    <tr>\n      <th>Huelva-Costa</th>\n      <td>14625.0</td>\n      <td>400.0</td>\n      <td>1311.0</td>\n      <td>289548.0</td>\n      <td>138.146352</td>\n      <td>452.774669</td>\n      <td>17.0</td>\n      <td>0.305111</td>\n    </tr>\n    <tr>\n      <th>Palos de la Frontera</th>\n      <td>437.0</td>\n      <td>16.0</td>\n      <td>50.0</td>\n      <td>11742.0</td>\n      <td>136.262988</td>\n      <td>425.821836</td>\n      <td>-1.0</td>\n      <td>0.320000</td>\n    </tr>\n    <tr>\n      <th>Lepe</th>\n      <td>1944.0</td>\n      <td>59.0</td>\n      <td>181.0</td>\n      <td>27880.0</td>\n      <td>211.621234</td>\n      <td>649.210904</td>\n      <td>1.0</td>\n      <td>0.325967</td>\n    </tr>\n    <tr>\n      <th>Sierra de Huelva-Andévalo Central</th>\n      <td>2323.0</td>\n      <td>36.0</td>\n      <td>110.0</td>\n      <td>67391.0</td>\n      <td>53.419596</td>\n      <td>163.226544</td>\n      <td>2.0</td>\n      <td>0.327273</td>\n    </tr>\n    <tr>\n      <th>Huelva (capital)</th>\n      <td>6397.0</td>\n      <td>193.0</td>\n      <td>547.0</td>\n      <td>143837.0</td>\n      <td>134.179662</td>\n      <td>380.291580</td>\n      <td>6.0</td>\n      <td>0.352834</td>\n    </tr>\n    <tr>\n      <th>Valverde del Camino</th>\n      <td>423.0</td>\n      <td>12.0</td>\n      <td>32.0</td>\n      <td>12750.0</td>\n      <td>94.117647</td>\n      <td>250.980392</td>\n      <td>2.0</td>\n      <td>0.375000</td>\n    </tr>\n    <tr>\n      <th>Moguer</th>\n      <td>791.0</td>\n      <td>31.0</td>\n      <td>79.0</td>\n      <td>21867.0</td>\n      <td>141.766132</td>\n      <td>361.274981</td>\n      <td>0.0</td>\n      <td>0.392405</td>\n    </tr>\n    <tr>\n      <th>Alosno</th>\n      <td>119.0</td>\n      <td>2.0</td>\n      <td>5.0</td>\n      <td>3933.0</td>\n      <td>50.851767</td>\n      <td>127.129418</td>\n      <td>0.0</td>\n      <td>0.400000</td>\n    </tr>\n    <tr>\n      <th>Escacena del Campo</th>\n      <td>129.0</td>\n      <td>2.0</td>\n      <td>5.0</td>\n      <td>2287.0</td>\n      <td>87.450809</td>\n      <td>218.627022</td>\n      <td>0.0</td>\n      <td>0.400000</td>\n    </tr>\n    <tr>\n      <th>Punta Umbría</th>\n      <td>638.0</td>\n      <td>22.0</td>\n      <td>54.0</td>\n      <td>15355.0</td>\n      <td>143.275806</td>\n      <td>351.676978</td>\n      <td>2.0</td>\n      <td>0.407407</td>\n    </tr>\n    <tr>\n      <th>Almonte</th>\n      <td>789.0</td>\n      <td>42.0</td>\n      <td>103.0</td>\n      <td>24507.0</td>\n      <td>171.379606</td>\n      <td>420.288081</td>\n      <td>0.0</td>\n      <td>0.407767</td>\n    </tr>\n    <tr>\n      <th>Minas de Riotinto</th>\n      <td>101.0</td>\n      <td>2.0</td>\n      <td>4.0</td>\n      <td>3812.0</td>\n      <td>52.465897</td>\n      <td>104.931794</td>\n      <td>0.0</td>\n      <td>0.500000</td>\n    </tr>\n    <tr>\n      <th>Zalamea la Real</th>\n      <td>85.0</td>\n      <td>4.0</td>\n      <td>7.0</td>\n      <td>3054.0</td>\n      <td>130.975769</td>\n      <td>229.207597</td>\n      <td>0.0</td>\n      <td>0.571429</td>\n    </tr>\n    <tr>\n      <th>Villarrasa</th>\n      <td>129.0</td>\n      <td>2.0</td>\n      <td>3.0</td>\n      <td>2211.0</td>\n      <td>90.456807</td>\n      <td>135.685210</td>\n      <td>0.0</td>\n      <td>0.666667</td>\n    </tr>\n    <tr>\n      <th>Nerva</th>\n      <td>151.0</td>\n      <td>6.0</td>\n      <td>9.0</td>\n      <td>5169.0</td>\n      <td>116.076611</td>\n      <td>174.114916</td>\n      <td>0.0</td>\n      <td>0.666667</td>\n    </tr>\n    <tr>\n      <th>Cerro de Andévalo (El)</th>\n      <td>134.0</td>\n      <td>3.0</td>\n      <td>4.0</td>\n      <td>2327.0</td>\n      <td>128.921358</td>\n      <td>171.895144</td>\n      <td>0.0</td>\n      <td>0.750000</td>\n    </tr>\n    <tr>\n      <th>Cumbres de San Bartolomé</th>\n      <td>5.0</td>\n      <td>2.0</td>\n      <td>2.0</td>\n      <td>376.0</td>\n      <td>531.914894</td>\n      <td>531.914894</td>\n      <td>0.0</td>\n      <td>1.000000</td>\n    </tr>\n  </tbody>\n</table>\n</div>"
     },
     "metadata": {},
     "execution_count": 18
    }
   ],
   "source": [
    "# Peso de la tasa de la última semana en relación con la tasa a 14 días \n",
    "# Mejor cuanto menor. Valor 1 significa que no había casos antes de 7 días.\n",
    "tabla['7/14'] = tabla['tasa7'] / tabla['tasa14']\n",
    "tabla.fillna(0).sort_values('7/14', ascending=True)"
   ]
  },
  {
   "cell_type": "code",
   "execution_count": null,
   "metadata": {},
   "outputs": [],
   "source": []
  }
 ]
}