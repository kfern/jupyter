{
 "metadata": {
  "language_info": {
   "codemirror_mode": {
    "name": "ipython",
    "version": 3
   },
   "file_extension": ".py",
   "mimetype": "text/x-python",
   "name": "python",
   "nbconvert_exporter": "python",
   "pygments_lexer": "ipython3",
   "version": "3.8.6-final"
  },
  "orig_nbformat": 2,
  "kernelspec": {
   "name": "python3",
   "display_name": "Python 3",
   "language": "python"
  }
 },
 "nbformat": 4,
 "nbformat_minor": 2,
 "cells": [
  {
   "cell_type": "code",
   "execution_count": 1,
   "metadata": {},
   "outputs": [],
   "source": [
    "import pandas as pd\n",
    "pd.set_option('display.max_rows', None) # Print all rows"
   ]
  },
  {
   "cell_type": "code",
   "execution_count": 2,
   "metadata": {},
   "outputs": [],
   "source": [
    "# FIX SSL: CERTIFICATE_VERIFY_FAILED with Python3\n",
    "# https://stackoverflow.com/a/49174340\n",
    "import ssl\n",
    "\n",
    "ssl._create_default_https_context = ssl._create_unverified_context"
   ]
  },
  {
   "cell_type": "code",
   "execution_count": 3,
   "metadata": {},
   "outputs": [],
   "source": [
    "url = 'https://www.juntadeandalucia.es/institutodeestadisticaycartografia/badea/stpivot/stpivot/Print?cube=013d884c-cfc5-4c21-9e78-e26225682afd&type=3&foto=si&ejecutaDesde=&codConsulta=38668&consTipoVisua=JP'\n",
    "fields = ['Lugar de residencia', 'Medida', 'Valor']\n",
    "df = pd.read_csv(url, delimiter=';', usecols=fields, decimal=',')"
   ]
  },
  {
   "cell_type": "code",
   "execution_count": 4,
   "metadata": {},
   "outputs": [
    {
     "output_type": "execute_result",
     "data": {
      "text/plain": [
       "  Lugar de residencia                    Medida              Valor\n",
       "0              Huelva                 Población             513170\n",
       "1              Huelva          Confirmados PDIA              26502\n",
       "2              Huelva  Confirmados PDIA 14 días               1239\n",
       "3              Huelva         Tasa PDIA 14 días  241,4404583276497\n",
       "4              Huelva   Confirmados PDIA 7 días                813\n",
       "5              Huelva        Total Confirmados               26689\n",
       "6              Huelva                   Curados              21894\n",
       "7              Huelva                Fallecidos                355"
      ],
      "text/html": "<div>\n<style scoped>\n    .dataframe tbody tr th:only-of-type {\n        vertical-align: middle;\n    }\n\n    .dataframe tbody tr th {\n        vertical-align: top;\n    }\n\n    .dataframe thead th {\n        text-align: right;\n    }\n</style>\n<table border=\"1\" class=\"dataframe\">\n  <thead>\n    <tr style=\"text-align: right;\">\n      <th></th>\n      <th>Lugar de residencia</th>\n      <th>Medida</th>\n      <th>Valor</th>\n    </tr>\n  </thead>\n  <tbody>\n    <tr>\n      <th>0</th>\n      <td>Huelva</td>\n      <td>Población</td>\n      <td>513170</td>\n    </tr>\n    <tr>\n      <th>1</th>\n      <td>Huelva</td>\n      <td>Confirmados PDIA</td>\n      <td>26502</td>\n    </tr>\n    <tr>\n      <th>2</th>\n      <td>Huelva</td>\n      <td>Confirmados PDIA 14 días</td>\n      <td>1239</td>\n    </tr>\n    <tr>\n      <th>3</th>\n      <td>Huelva</td>\n      <td>Tasa PDIA 14 días</td>\n      <td>241,4404583276497</td>\n    </tr>\n    <tr>\n      <th>4</th>\n      <td>Huelva</td>\n      <td>Confirmados PDIA 7 días</td>\n      <td>813</td>\n    </tr>\n    <tr>\n      <th>5</th>\n      <td>Huelva</td>\n      <td>Total Confirmados</td>\n      <td>26689</td>\n    </tr>\n    <tr>\n      <th>6</th>\n      <td>Huelva</td>\n      <td>Curados</td>\n      <td>21894</td>\n    </tr>\n    <tr>\n      <th>7</th>\n      <td>Huelva</td>\n      <td>Fallecidos</td>\n      <td>355</td>\n    </tr>\n  </tbody>\n</table>\n</div>"
     },
     "metadata": {},
     "execution_count": 4
    }
   ],
   "source": [
    "df[df['Lugar de residencia'] == 'Huelva']"
   ]
  },
  {
   "cell_type": "code",
   "execution_count": 5,
   "metadata": {},
   "outputs": [],
   "source": [
    "df['Valor'] = pd.to_numeric(df['Valor'],errors='coerce')"
   ]
  },
  {
   "cell_type": "code",
   "execution_count": 6,
   "metadata": {},
   "outputs": [],
   "source": [
    "dfAnterior = pd.read_csv('covid_huelva.csv', index_col='Lugar de residencia')"
   ]
  },
  {
   "cell_type": "code",
   "execution_count": 7,
   "metadata": {
    "tags": []
   },
   "outputs": [
    {
     "output_type": "stream",
     "name": "stdout",
     "text": [
      "Confirmados PCR en la provincia de Huelva:  26502.0\n",
      "<ipython-input-7-31b732756b19>:2: UserWarning: Boolean Series key will be reindexed to match DataFrame index.\n",
      "  p = df[df['Lugar de residencia'] == 'Huelva'][df['Medida'] == 'Confirmados PDIA']['Valor'].values[0]\n"
     ]
    }
   ],
   "source": [
    "# Confirmados PCR provincia Huelva\n",
    "p = df[df['Lugar de residencia'] == 'Huelva'][df['Medida'] == 'Confirmados PDIA']['Valor'].values[0]\n",
    "print('Confirmados PCR en la provincia de Huelva: ', p)"
   ]
  },
  {
   "cell_type": "code",
   "execution_count": 8,
   "metadata": {
    "tags": []
   },
   "outputs": [
    {
     "output_type": "stream",
     "name": "stdout",
     "text": [
      "Confirmados PCR en Huelva capital:  6920.0\n",
      "<ipython-input-8-e81bfb40e710>:2: UserWarning: Boolean Series key will be reindexed to match DataFrame index.\n",
      "  c = df[df['Lugar de residencia'] == 'Huelva (capital)'][df['Medida'] == 'Confirmados PDIA']['Valor'].values[0]\n"
     ]
    }
   ],
   "source": [
    "# Confirmados PCR Huelva capitalpd\n",
    "c = df[df['Lugar de residencia'] == 'Huelva (capital)'][df['Medida'] == 'Confirmados PDIA']['Valor'].values[0]\n",
    "print('Confirmados PCR en Huelva capital: ', c)"
   ]
  },
  {
   "cell_type": "code",
   "execution_count": 9,
   "metadata": {
    "tags": []
   },
   "outputs": [
    {
     "output_type": "stream",
     "name": "stderr",
     "text": [
      "<ipython-input-9-f09dd2050cc1>:1: UserWarning: Boolean Series key will be reindexed to match DataFrame index.\n  c7 = df[df['Lugar de residencia'] == 'Huelva (capital)'][df['Medida'] == 'Confirmados PDIA 7 días']['Valor'].values[0]\n<ipython-input-9-f09dd2050cc1>:2: UserWarning: Boolean Series key will be reindexed to match DataFrame index.\n  c14 = df[df['Lugar de residencia'] == 'Huelva (capital)'][df['Medida'] == 'Confirmados PDIA 14 días']['Valor'].values[0]\n<ipython-input-9-f09dd2050cc1>:3: UserWarning: Boolean Series key will be reindexed to match DataFrame index.\n  p = df[df['Lugar de residencia'] == 'Huelva (capital)'][df['Medida'] == 'Población']['Valor'].values[0]\n"
     ]
    }
   ],
   "source": [
    "c7 = df[df['Lugar de residencia'] == 'Huelva (capital)'][df['Medida'] == 'Confirmados PDIA 7 días']['Valor'].values[0]\n",
    "c14 = df[df['Lugar de residencia'] == 'Huelva (capital)'][df['Medida'] == 'Confirmados PDIA 14 días']['Valor'].values[0]\n",
    "p = df[df['Lugar de residencia'] == 'Huelva (capital)'][df['Medida'] == 'Población']['Valor'].values[0]"
   ]
  },
  {
   "cell_type": "code",
   "execution_count": 10,
   "metadata": {
    "tags": []
   },
   "outputs": [
    {
     "output_type": "stream",
     "name": "stdout",
     "text": [
      "Huelva (capital)\n\nUn positivo PCR cada 773 personas en los últimos 7 días \n\nUn positivo PCR cada 575 personas en los últimos 14 días\n"
     ]
    }
   ],
   "source": [
    "print('Huelva (capital)\\n')\n",
    "#print('Confirmados PCR 7 días x 1,000 habitantes: ', f\"{c7/(p/1000):.5f}\")\n",
    "print('Un positivo PCR cada', f\"{p/c7:.0f}\", 'personas en los últimos 7 días', '\\n')\n",
    "#print('Confirmados PCR 14 días x 1,000 habitantes: ', f\"{c14/(p/1000):.5f}\")\n",
    "print('Un positivo PCR cada', f\"{p/c14:.0f}\", 'personas en los últimos 14 días')"
   ]
  },
  {
   "cell_type": "code",
   "execution_count": 11,
   "metadata": {},
   "outputs": [],
   "source": [
    "filtro = ((df['Medida'] == 'Confirmados PDIA')| (df['Medida'] == 'Confirmados PDIA 7 días') | (df['Medida'] == 'Población' ) | (df['Medida'] == 'Confirmados PDIA 14 días')) & (df['Valor'] > 0)\n",
    "tabla = pd.pivot_table(df.loc[filtro], values='Valor', index='Lugar de residencia', columns='Medida').dropna()"
   ]
  },
  {
   "cell_type": "code",
   "execution_count": 12,
   "metadata": {},
   "outputs": [],
   "source": [
    "# Reorder columns\n",
    "tabla = tabla[['Confirmados PDIA', 'Confirmados PDIA 7 días', 'Confirmados PDIA 14 días', 'Población']]"
   ]
  },
  {
   "cell_type": "code",
   "execution_count": 13,
   "metadata": {},
   "outputs": [],
   "source": [
    "tabla['tasa7'] = tabla['Confirmados PDIA 7 días']/tabla['Población']*100000\n",
    "tabla['tasa14'] = tabla['Confirmados PDIA 14 días']/tabla['Población']*100000"
   ]
  },
  {
   "cell_type": "code",
   "execution_count": 14,
   "metadata": {},
   "outputs": [],
   "source": [
    "tabla['Diferencia PDIA'] = tabla['Confirmados PDIA'] - dfAnterior['Confirmados PDIA']"
   ]
  },
  {
   "cell_type": "code",
   "execution_count": 15,
   "metadata": {},
   "outputs": [
    {
     "output_type": "execute_result",
     "data": {
      "text/plain": [
       "Medida                             Confirmados PDIA  Confirmados PDIA 7 días  \\\n",
       "Lugar de residencia                                                            \n",
       "Huelva                                      26502.0                    813.0   \n",
       "Condado-Campiña                              7922.0                    413.0   \n",
       "Huelva-Costa                                15789.0                    340.0   \n",
       "Huelva (capital)                             6920.0                    186.0   \n",
       "Almonte                                      1164.0                    123.0   \n",
       "Cartaya                                      1105.0                     89.0   \n",
       "Rociana del Condado                           417.0                     36.0   \n",
       "Moguer                                        955.0                     63.0   \n",
       "Sierra de Huelva-Andévalo Central            2371.0                     41.0   \n",
       "Bonares                                       218.0                     24.0   \n",
       "San Bartolomé de la Torre                     266.0                     29.0   \n",
       "Aljaraque                                     959.0                     25.0   \n",
       "Bollullos Par del Condado                     706.0                     20.0   \n",
       "Aracena                                       478.0                     21.0   \n",
       "Palos de la Frontera                          512.0                     24.0   \n",
       "Palma del Condado (La)                       1007.0                     11.0   \n",
       "San Juan del Puerto                           401.0                     26.0   \n",
       "Punta Umbría                                  678.0                     11.0   \n",
       "Lucena del Puerto                             173.0                     10.0   \n",
       "Lepe                                         2035.0                     10.0   \n",
       "Niebla                                        182.0                      6.0   \n",
       "Gibraleón                                     555.0                      9.0   \n",
       "Trigueros                                     244.0                     13.0   \n",
       "Valverde del Camino                           436.0                      7.0   \n",
       "Alosno                                        156.0                      6.0   \n",
       "Villarrasa                                    138.0                      5.0   \n",
       "Beas                                          166.0                      3.0   \n",
       "Aroche                                         85.0                      2.0   \n",
       "Cortegana                                     192.0                      3.0   \n",
       "Ayamonte                                     1251.0                      4.0   \n",
       "Isla Cristina                                2014.0                      3.0   \n",
       "Calañas                                       173.0                      1.0   \n",
       "Villalba del Alcor                            469.0                      7.0   \n",
       "Campillo (El)                                  63.0                      2.0   \n",
       "Almonaster la Real                             54.0                      1.0   \n",
       "Nerva                                         153.0                      1.0   \n",
       "Sanlúcar de Guadiana                            6.0                      3.0   \n",
       "\n",
       "Medida                             Confirmados PDIA 14 días  Población  \\\n",
       "Lugar de residencia                                                      \n",
       "Huelva                                               1239.0   513170.0   \n",
       "Condado-Campiña                                       696.0   156231.0   \n",
       "Huelva-Costa                                          461.0   289548.0   \n",
       "Huelva (capital)                                      250.0   143837.0   \n",
       "Almonte                                               204.0    24507.0   \n",
       "Cartaya                                               112.0    20083.0   \n",
       "Rociana del Condado                                    71.0     7939.0   \n",
       "Moguer                                                 86.0    21867.0   \n",
       "Sierra de Huelva-Andévalo Central                      57.0    67391.0   \n",
       "Bonares                                                37.0     6060.0   \n",
       "San Bartolomé de la Torre                              49.0     3761.0   \n",
       "Aljaraque                                              30.0    21474.0   \n",
       "Bollullos Par del Condado                              58.0    14387.0   \n",
       "Aracena                                                27.0     8255.0   \n",
       "Palos de la Frontera                                   46.0    11742.0   \n",
       "Palma del Condado (La)                                 18.0    10801.0   \n",
       "San Juan del Puerto                                    32.0     9411.0   \n",
       "Punta Umbría                                           16.0    15355.0   \n",
       "Lucena del Puerto                                      11.0     3261.0   \n",
       "Lepe                                                   21.0    27880.0   \n",
       "Niebla                                                 18.0     4116.0   \n",
       "Gibraleón                                              21.0    12737.0   \n",
       "Trigueros                                              16.0     7862.0   \n",
       "Valverde del Camino                                    10.0    12750.0   \n",
       "Alosno                                                  9.0     3933.0   \n",
       "Villarrasa                                              6.0     2211.0   \n",
       "Beas                                                    3.0     4341.0   \n",
       "Aroche                                                  5.0     3054.0   \n",
       "Cortegana                                               3.0     4602.0   \n",
       "Ayamonte                                               10.0    21104.0   \n",
       "Isla Cristina                                           5.0    21393.0   \n",
       "Calañas                                                 2.0     2768.0   \n",
       "Villalba del Alcor                                     10.0     3366.0   \n",
       "Campillo (El)                                           2.0     2024.0   \n",
       "Almonaster la Real                                      1.0     1788.0   \n",
       "Nerva                                                   1.0     5169.0   \n",
       "Sanlúcar de Guadiana                                    3.0      403.0   \n",
       "\n",
       "Medida                                  tasa7       tasa14  Diferencia PDIA  \n",
       "Lugar de residencia                                                          \n",
       "Huelva                             158.427032   241.440458            370.0  \n",
       "Condado-Campiña                    264.352145   445.494172            196.0  \n",
       "Huelva-Costa                       117.424399   159.213671            165.0  \n",
       "Huelva (capital)                   129.313042   173.807852             93.0  \n",
       "Almonte                            501.897417   832.415228             58.0  \n",
       "Cartaya                            443.160882   557.685605             42.0  \n",
       "Rociana del Condado                453.457614   894.319184             26.0  \n",
       "Moguer                             288.105364   393.286688             26.0  \n",
       "Sierra de Huelva-Andévalo Central   60.838984    84.581027             18.0  \n",
       "Bonares                            396.039604   610.561056             15.0  \n",
       "San Bartolomé de la Torre          771.071524  1302.844988             14.0  \n",
       "Aljaraque                          116.419857   139.703828             12.0  \n",
       "Bollullos Par del Condado          139.014388   403.141725             11.0  \n",
       "Aracena                            254.391278   327.074500              9.0  \n",
       "Palos de la Frontera               204.394481   391.756089              9.0  \n",
       "Palma del Condado (La)             101.842422   166.651236              8.0  \n",
       "San Juan del Puerto                276.272447   340.027627              8.0  \n",
       "Punta Umbría                        71.637903   104.200586              6.0  \n",
       "Lucena del Puerto                  306.654400   337.319841              6.0  \n",
       "Lepe                                35.868006    75.322812              4.0  \n",
       "Niebla                             145.772595   437.317784              4.0  \n",
       "Gibraleón                           70.660281   164.873989              3.0  \n",
       "Trigueros                          165.352328   203.510557              3.0  \n",
       "Valverde del Camino                 54.901961    78.431373              2.0  \n",
       "Alosno                             152.555301   228.832952              2.0  \n",
       "Villarrasa                         226.142017   271.370421              2.0  \n",
       "Beas                                69.108500    69.108500              2.0  \n",
       "Aroche                              65.487885   163.719712              1.0  \n",
       "Cortegana                           65.189048    65.189048              1.0  \n",
       "Ayamonte                            18.953753    47.384382              1.0  \n",
       "Isla Cristina                       14.023279    23.372131              1.0  \n",
       "Calañas                             36.127168    72.254335              1.0  \n",
       "Villalba del Alcor                 207.961973   297.088532              1.0  \n",
       "Campillo (El)                       98.814229    98.814229              1.0  \n",
       "Almonaster la Real                  55.928412    55.928412              NaN  \n",
       "Nerva                               19.346102    19.346102              NaN  \n",
       "Sanlúcar de Guadiana               744.416873   744.416873              NaN  "
      ],
      "text/html": "<div>\n<style scoped>\n    .dataframe tbody tr th:only-of-type {\n        vertical-align: middle;\n    }\n\n    .dataframe tbody tr th {\n        vertical-align: top;\n    }\n\n    .dataframe thead th {\n        text-align: right;\n    }\n</style>\n<table border=\"1\" class=\"dataframe\">\n  <thead>\n    <tr style=\"text-align: right;\">\n      <th>Medida</th>\n      <th>Confirmados PDIA</th>\n      <th>Confirmados PDIA 7 días</th>\n      <th>Confirmados PDIA 14 días</th>\n      <th>Población</th>\n      <th>tasa7</th>\n      <th>tasa14</th>\n      <th>Diferencia PDIA</th>\n    </tr>\n    <tr>\n      <th>Lugar de residencia</th>\n      <th></th>\n      <th></th>\n      <th></th>\n      <th></th>\n      <th></th>\n      <th></th>\n      <th></th>\n    </tr>\n  </thead>\n  <tbody>\n    <tr>\n      <th>Huelva</th>\n      <td>26502.0</td>\n      <td>813.0</td>\n      <td>1239.0</td>\n      <td>513170.0</td>\n      <td>158.427032</td>\n      <td>241.440458</td>\n      <td>370.0</td>\n    </tr>\n    <tr>\n      <th>Condado-Campiña</th>\n      <td>7922.0</td>\n      <td>413.0</td>\n      <td>696.0</td>\n      <td>156231.0</td>\n      <td>264.352145</td>\n      <td>445.494172</td>\n      <td>196.0</td>\n    </tr>\n    <tr>\n      <th>Huelva-Costa</th>\n      <td>15789.0</td>\n      <td>340.0</td>\n      <td>461.0</td>\n      <td>289548.0</td>\n      <td>117.424399</td>\n      <td>159.213671</td>\n      <td>165.0</td>\n    </tr>\n    <tr>\n      <th>Huelva (capital)</th>\n      <td>6920.0</td>\n      <td>186.0</td>\n      <td>250.0</td>\n      <td>143837.0</td>\n      <td>129.313042</td>\n      <td>173.807852</td>\n      <td>93.0</td>\n    </tr>\n    <tr>\n      <th>Almonte</th>\n      <td>1164.0</td>\n      <td>123.0</td>\n      <td>204.0</td>\n      <td>24507.0</td>\n      <td>501.897417</td>\n      <td>832.415228</td>\n      <td>58.0</td>\n    </tr>\n    <tr>\n      <th>Cartaya</th>\n      <td>1105.0</td>\n      <td>89.0</td>\n      <td>112.0</td>\n      <td>20083.0</td>\n      <td>443.160882</td>\n      <td>557.685605</td>\n      <td>42.0</td>\n    </tr>\n    <tr>\n      <th>Rociana del Condado</th>\n      <td>417.0</td>\n      <td>36.0</td>\n      <td>71.0</td>\n      <td>7939.0</td>\n      <td>453.457614</td>\n      <td>894.319184</td>\n      <td>26.0</td>\n    </tr>\n    <tr>\n      <th>Moguer</th>\n      <td>955.0</td>\n      <td>63.0</td>\n      <td>86.0</td>\n      <td>21867.0</td>\n      <td>288.105364</td>\n      <td>393.286688</td>\n      <td>26.0</td>\n    </tr>\n    <tr>\n      <th>Sierra de Huelva-Andévalo Central</th>\n      <td>2371.0</td>\n      <td>41.0</td>\n      <td>57.0</td>\n      <td>67391.0</td>\n      <td>60.838984</td>\n      <td>84.581027</td>\n      <td>18.0</td>\n    </tr>\n    <tr>\n      <th>Bonares</th>\n      <td>218.0</td>\n      <td>24.0</td>\n      <td>37.0</td>\n      <td>6060.0</td>\n      <td>396.039604</td>\n      <td>610.561056</td>\n      <td>15.0</td>\n    </tr>\n    <tr>\n      <th>San Bartolomé de la Torre</th>\n      <td>266.0</td>\n      <td>29.0</td>\n      <td>49.0</td>\n      <td>3761.0</td>\n      <td>771.071524</td>\n      <td>1302.844988</td>\n      <td>14.0</td>\n    </tr>\n    <tr>\n      <th>Aljaraque</th>\n      <td>959.0</td>\n      <td>25.0</td>\n      <td>30.0</td>\n      <td>21474.0</td>\n      <td>116.419857</td>\n      <td>139.703828</td>\n      <td>12.0</td>\n    </tr>\n    <tr>\n      <th>Bollullos Par del Condado</th>\n      <td>706.0</td>\n      <td>20.0</td>\n      <td>58.0</td>\n      <td>14387.0</td>\n      <td>139.014388</td>\n      <td>403.141725</td>\n      <td>11.0</td>\n    </tr>\n    <tr>\n      <th>Aracena</th>\n      <td>478.0</td>\n      <td>21.0</td>\n      <td>27.0</td>\n      <td>8255.0</td>\n      <td>254.391278</td>\n      <td>327.074500</td>\n      <td>9.0</td>\n    </tr>\n    <tr>\n      <th>Palos de la Frontera</th>\n      <td>512.0</td>\n      <td>24.0</td>\n      <td>46.0</td>\n      <td>11742.0</td>\n      <td>204.394481</td>\n      <td>391.756089</td>\n      <td>9.0</td>\n    </tr>\n    <tr>\n      <th>Palma del Condado (La)</th>\n      <td>1007.0</td>\n      <td>11.0</td>\n      <td>18.0</td>\n      <td>10801.0</td>\n      <td>101.842422</td>\n      <td>166.651236</td>\n      <td>8.0</td>\n    </tr>\n    <tr>\n      <th>San Juan del Puerto</th>\n      <td>401.0</td>\n      <td>26.0</td>\n      <td>32.0</td>\n      <td>9411.0</td>\n      <td>276.272447</td>\n      <td>340.027627</td>\n      <td>8.0</td>\n    </tr>\n    <tr>\n      <th>Punta Umbría</th>\n      <td>678.0</td>\n      <td>11.0</td>\n      <td>16.0</td>\n      <td>15355.0</td>\n      <td>71.637903</td>\n      <td>104.200586</td>\n      <td>6.0</td>\n    </tr>\n    <tr>\n      <th>Lucena del Puerto</th>\n      <td>173.0</td>\n      <td>10.0</td>\n      <td>11.0</td>\n      <td>3261.0</td>\n      <td>306.654400</td>\n      <td>337.319841</td>\n      <td>6.0</td>\n    </tr>\n    <tr>\n      <th>Lepe</th>\n      <td>2035.0</td>\n      <td>10.0</td>\n      <td>21.0</td>\n      <td>27880.0</td>\n      <td>35.868006</td>\n      <td>75.322812</td>\n      <td>4.0</td>\n    </tr>\n    <tr>\n      <th>Niebla</th>\n      <td>182.0</td>\n      <td>6.0</td>\n      <td>18.0</td>\n      <td>4116.0</td>\n      <td>145.772595</td>\n      <td>437.317784</td>\n      <td>4.0</td>\n    </tr>\n    <tr>\n      <th>Gibraleón</th>\n      <td>555.0</td>\n      <td>9.0</td>\n      <td>21.0</td>\n      <td>12737.0</td>\n      <td>70.660281</td>\n      <td>164.873989</td>\n      <td>3.0</td>\n    </tr>\n    <tr>\n      <th>Trigueros</th>\n      <td>244.0</td>\n      <td>13.0</td>\n      <td>16.0</td>\n      <td>7862.0</td>\n      <td>165.352328</td>\n      <td>203.510557</td>\n      <td>3.0</td>\n    </tr>\n    <tr>\n      <th>Valverde del Camino</th>\n      <td>436.0</td>\n      <td>7.0</td>\n      <td>10.0</td>\n      <td>12750.0</td>\n      <td>54.901961</td>\n      <td>78.431373</td>\n      <td>2.0</td>\n    </tr>\n    <tr>\n      <th>Alosno</th>\n      <td>156.0</td>\n      <td>6.0</td>\n      <td>9.0</td>\n      <td>3933.0</td>\n      <td>152.555301</td>\n      <td>228.832952</td>\n      <td>2.0</td>\n    </tr>\n    <tr>\n      <th>Villarrasa</th>\n      <td>138.0</td>\n      <td>5.0</td>\n      <td>6.0</td>\n      <td>2211.0</td>\n      <td>226.142017</td>\n      <td>271.370421</td>\n      <td>2.0</td>\n    </tr>\n    <tr>\n      <th>Beas</th>\n      <td>166.0</td>\n      <td>3.0</td>\n      <td>3.0</td>\n      <td>4341.0</td>\n      <td>69.108500</td>\n      <td>69.108500</td>\n      <td>2.0</td>\n    </tr>\n    <tr>\n      <th>Aroche</th>\n      <td>85.0</td>\n      <td>2.0</td>\n      <td>5.0</td>\n      <td>3054.0</td>\n      <td>65.487885</td>\n      <td>163.719712</td>\n      <td>1.0</td>\n    </tr>\n    <tr>\n      <th>Cortegana</th>\n      <td>192.0</td>\n      <td>3.0</td>\n      <td>3.0</td>\n      <td>4602.0</td>\n      <td>65.189048</td>\n      <td>65.189048</td>\n      <td>1.0</td>\n    </tr>\n    <tr>\n      <th>Ayamonte</th>\n      <td>1251.0</td>\n      <td>4.0</td>\n      <td>10.0</td>\n      <td>21104.0</td>\n      <td>18.953753</td>\n      <td>47.384382</td>\n      <td>1.0</td>\n    </tr>\n    <tr>\n      <th>Isla Cristina</th>\n      <td>2014.0</td>\n      <td>3.0</td>\n      <td>5.0</td>\n      <td>21393.0</td>\n      <td>14.023279</td>\n      <td>23.372131</td>\n      <td>1.0</td>\n    </tr>\n    <tr>\n      <th>Calañas</th>\n      <td>173.0</td>\n      <td>1.0</td>\n      <td>2.0</td>\n      <td>2768.0</td>\n      <td>36.127168</td>\n      <td>72.254335</td>\n      <td>1.0</td>\n    </tr>\n    <tr>\n      <th>Villalba del Alcor</th>\n      <td>469.0</td>\n      <td>7.0</td>\n      <td>10.0</td>\n      <td>3366.0</td>\n      <td>207.961973</td>\n      <td>297.088532</td>\n      <td>1.0</td>\n    </tr>\n    <tr>\n      <th>Campillo (El)</th>\n      <td>63.0</td>\n      <td>2.0</td>\n      <td>2.0</td>\n      <td>2024.0</td>\n      <td>98.814229</td>\n      <td>98.814229</td>\n      <td>1.0</td>\n    </tr>\n    <tr>\n      <th>Almonaster la Real</th>\n      <td>54.0</td>\n      <td>1.0</td>\n      <td>1.0</td>\n      <td>1788.0</td>\n      <td>55.928412</td>\n      <td>55.928412</td>\n      <td>NaN</td>\n    </tr>\n    <tr>\n      <th>Nerva</th>\n      <td>153.0</td>\n      <td>1.0</td>\n      <td>1.0</td>\n      <td>5169.0</td>\n      <td>19.346102</td>\n      <td>19.346102</td>\n      <td>NaN</td>\n    </tr>\n    <tr>\n      <th>Sanlúcar de Guadiana</th>\n      <td>6.0</td>\n      <td>3.0</td>\n      <td>3.0</td>\n      <td>403.0</td>\n      <td>744.416873</td>\n      <td>744.416873</td>\n      <td>NaN</td>\n    </tr>\n  </tbody>\n</table>\n</div>"
     },
     "metadata": {},
     "execution_count": 15
    }
   ],
   "source": [
    "# Nuevos casos desde la última captura\n",
    "tabla[tabla['Diferencia PDIA'] != 0].sort_values('Diferencia PDIA', ascending=False)"
   ]
  },
  {
   "cell_type": "code",
   "execution_count": 16,
   "metadata": {},
   "outputs": [],
   "source": [
    "if tabla[tabla['Diferencia PDIA'] != 0]['Diferencia PDIA'].sum() != 0:\n",
    "  # Save to csv\n",
    "  tabla.to_csv('covid_huelva.csv', encoding='utf-8', header=True, index=True)  "
   ]
  },
  {
   "cell_type": "code",
   "execution_count": 17,
   "metadata": {},
   "outputs": [
    {
     "output_type": "execute_result",
     "data": {
      "text/plain": [
       "Medida                             Confirmados PDIA  Confirmados PDIA 7 días  \\\n",
       "Lugar de residencia                                                            \n",
       "San Bartolomé de la Torre                     266.0                     29.0   \n",
       "Rociana del Condado                           417.0                     36.0   \n",
       "Almonte                                      1164.0                    123.0   \n",
       "Sanlúcar de Guadiana                            6.0                      3.0   \n",
       "Bonares                                       218.0                     24.0   \n",
       "Cartaya                                      1105.0                     89.0   \n",
       "Condado-Campiña                              7922.0                    413.0   \n",
       "Niebla                                        182.0                      6.0   \n",
       "Bollullos Par del Condado                     706.0                     20.0   \n",
       "Moguer                                        955.0                     63.0   \n",
       "Palos de la Frontera                          512.0                     24.0   \n",
       "San Juan del Puerto                           401.0                     26.0   \n",
       "Lucena del Puerto                             173.0                     10.0   \n",
       "Aracena                                       478.0                     21.0   \n",
       "Villalba del Alcor                            469.0                      7.0   \n",
       "Fuenteheridos                                   5.0                      2.0   \n",
       "Villarrasa                                    138.0                      5.0   \n",
       "Huelva                                      26502.0                    813.0   \n",
       "Paterna del Campo                             123.0                      3.0   \n",
       "Alosno                                        156.0                      6.0   \n",
       "Trigueros                                     244.0                     13.0   \n",
       "Huelva (capital)                             6920.0                    186.0   \n",
       "Palma del Condado (La)                       1007.0                     11.0   \n",
       "Gibraleón                                     555.0                      9.0   \n",
       "Aroche                                         85.0                      2.0   \n",
       "San Silvestre de Guzmán                        14.0                      1.0   \n",
       "Huelva-Costa                                15789.0                    340.0   \n",
       "Higuera de la Sierra                           31.0                      1.0   \n",
       "Aljaraque                                     959.0                     25.0   \n",
       "Punta Umbría                                  678.0                     11.0   \n",
       "Campillo (El)                                  63.0                      2.0   \n",
       "Sierra de Huelva-Andévalo Central            2371.0                     41.0   \n",
       "Valverde del Camino                           436.0                      7.0   \n",
       "Lepe                                         2035.0                     10.0   \n",
       "Calañas                                       173.0                      1.0   \n",
       "Villanueva de los Castillejos                 155.0                      2.0   \n",
       "Beas                                          166.0                      3.0   \n",
       "Cortegana                                     192.0                      3.0   \n",
       "Almonaster la Real                             54.0                      1.0   \n",
       "Ayamonte                                     1251.0                      4.0   \n",
       "Escacena del Campo                            142.0                      1.0   \n",
       "Isla Cristina                                2014.0                      3.0   \n",
       "Nerva                                         153.0                      1.0   \n",
       "\n",
       "Medida                             Confirmados PDIA 14 días  Población  \\\n",
       "Lugar de residencia                                                      \n",
       "San Bartolomé de la Torre                              49.0     3761.0   \n",
       "Rociana del Condado                                    71.0     7939.0   \n",
       "Almonte                                               204.0    24507.0   \n",
       "Sanlúcar de Guadiana                                    3.0      403.0   \n",
       "Bonares                                                37.0     6060.0   \n",
       "Cartaya                                               112.0    20083.0   \n",
       "Condado-Campiña                                       696.0   156231.0   \n",
       "Niebla                                                 18.0     4116.0   \n",
       "Bollullos Par del Condado                              58.0    14387.0   \n",
       "Moguer                                                 86.0    21867.0   \n",
       "Palos de la Frontera                                   46.0    11742.0   \n",
       "San Juan del Puerto                                    32.0     9411.0   \n",
       "Lucena del Puerto                                      11.0     3261.0   \n",
       "Aracena                                                27.0     8255.0   \n",
       "Villalba del Alcor                                     10.0     3366.0   \n",
       "Fuenteheridos                                           2.0      709.0   \n",
       "Villarrasa                                              6.0     2211.0   \n",
       "Huelva                                               1239.0   513170.0   \n",
       "Paterna del Campo                                       8.0     3457.0   \n",
       "Alosno                                                  9.0     3933.0   \n",
       "Trigueros                                              16.0     7862.0   \n",
       "Huelva (capital)                                      250.0   143837.0   \n",
       "Palma del Condado (La)                                 18.0    10801.0   \n",
       "Gibraleón                                              21.0    12737.0   \n",
       "Aroche                                                  5.0     3054.0   \n",
       "San Silvestre de Guzmán                                 1.0      614.0   \n",
       "Huelva-Costa                                          461.0   289548.0   \n",
       "Higuera de la Sierra                                    2.0     1291.0   \n",
       "Aljaraque                                              30.0    21474.0   \n",
       "Punta Umbría                                           16.0    15355.0   \n",
       "Campillo (El)                                           2.0     2024.0   \n",
       "Sierra de Huelva-Andévalo Central                      57.0    67391.0   \n",
       "Valverde del Camino                                    10.0    12750.0   \n",
       "Lepe                                                   21.0    27880.0   \n",
       "Calañas                                                 2.0     2768.0   \n",
       "Villanueva de los Castillejos                           2.0     2825.0   \n",
       "Beas                                                    3.0     4341.0   \n",
       "Cortegana                                               3.0     4602.0   \n",
       "Almonaster la Real                                      1.0     1788.0   \n",
       "Ayamonte                                               10.0    21104.0   \n",
       "Escacena del Campo                                      1.0     2287.0   \n",
       "Isla Cristina                                           5.0    21393.0   \n",
       "Nerva                                                   1.0     5169.0   \n",
       "\n",
       "Medida                                  tasa7       tasa14  Diferencia PDIA  \n",
       "Lugar de residencia                                                          \n",
       "San Bartolomé de la Torre          771.071524  1302.844988             14.0  \n",
       "Rociana del Condado                453.457614   894.319184             26.0  \n",
       "Almonte                            501.897417   832.415228             58.0  \n",
       "Sanlúcar de Guadiana               744.416873   744.416873              NaN  \n",
       "Bonares                            396.039604   610.561056             15.0  \n",
       "Cartaya                            443.160882   557.685605             42.0  \n",
       "Condado-Campiña                    264.352145   445.494172            196.0  \n",
       "Niebla                             145.772595   437.317784              4.0  \n",
       "Bollullos Par del Condado          139.014388   403.141725             11.0  \n",
       "Moguer                             288.105364   393.286688             26.0  \n",
       "Palos de la Frontera               204.394481   391.756089              9.0  \n",
       "San Juan del Puerto                276.272447   340.027627              8.0  \n",
       "Lucena del Puerto                  306.654400   337.319841              6.0  \n",
       "Aracena                            254.391278   327.074500              9.0  \n",
       "Villalba del Alcor                 207.961973   297.088532              1.0  \n",
       "Fuenteheridos                      282.087447   282.087447              0.0  \n",
       "Villarrasa                         226.142017   271.370421              2.0  \n",
       "Huelva                             158.427032   241.440458            370.0  \n",
       "Paterna del Campo                   86.780445   231.414521              0.0  \n",
       "Alosno                             152.555301   228.832952              2.0  \n",
       "Trigueros                          165.352328   203.510557              3.0  \n",
       "Huelva (capital)                   129.313042   173.807852             93.0  \n",
       "Palma del Condado (La)             101.842422   166.651236              8.0  \n",
       "Gibraleón                           70.660281   164.873989              3.0  \n",
       "Aroche                              65.487885   163.719712              1.0  \n",
       "San Silvestre de Guzmán            162.866450   162.866450              0.0  \n",
       "Huelva-Costa                       117.424399   159.213671            165.0  \n",
       "Higuera de la Sierra                77.459334   154.918668              0.0  \n",
       "Aljaraque                          116.419857   139.703828             12.0  \n",
       "Punta Umbría                        71.637903   104.200586              6.0  \n",
       "Campillo (El)                       98.814229    98.814229              1.0  \n",
       "Sierra de Huelva-Andévalo Central   60.838984    84.581027             18.0  \n",
       "Valverde del Camino                 54.901961    78.431373              2.0  \n",
       "Lepe                                35.868006    75.322812              4.0  \n",
       "Calañas                             36.127168    72.254335              1.0  \n",
       "Villanueva de los Castillejos       70.796460    70.796460              0.0  \n",
       "Beas                                69.108500    69.108500              2.0  \n",
       "Cortegana                           65.189048    65.189048              1.0  \n",
       "Almonaster la Real                  55.928412    55.928412              NaN  \n",
       "Ayamonte                            18.953753    47.384382              1.0  \n",
       "Escacena del Campo                  43.725404    43.725404              0.0  \n",
       "Isla Cristina                       14.023279    23.372131              1.0  \n",
       "Nerva                               19.346102    19.346102              NaN  "
      ],
      "text/html": "<div>\n<style scoped>\n    .dataframe tbody tr th:only-of-type {\n        vertical-align: middle;\n    }\n\n    .dataframe tbody tr th {\n        vertical-align: top;\n    }\n\n    .dataframe thead th {\n        text-align: right;\n    }\n</style>\n<table border=\"1\" class=\"dataframe\">\n  <thead>\n    <tr style=\"text-align: right;\">\n      <th>Medida</th>\n      <th>Confirmados PDIA</th>\n      <th>Confirmados PDIA 7 días</th>\n      <th>Confirmados PDIA 14 días</th>\n      <th>Población</th>\n      <th>tasa7</th>\n      <th>tasa14</th>\n      <th>Diferencia PDIA</th>\n    </tr>\n    <tr>\n      <th>Lugar de residencia</th>\n      <th></th>\n      <th></th>\n      <th></th>\n      <th></th>\n      <th></th>\n      <th></th>\n      <th></th>\n    </tr>\n  </thead>\n  <tbody>\n    <tr>\n      <th>San Bartolomé de la Torre</th>\n      <td>266.0</td>\n      <td>29.0</td>\n      <td>49.0</td>\n      <td>3761.0</td>\n      <td>771.071524</td>\n      <td>1302.844988</td>\n      <td>14.0</td>\n    </tr>\n    <tr>\n      <th>Rociana del Condado</th>\n      <td>417.0</td>\n      <td>36.0</td>\n      <td>71.0</td>\n      <td>7939.0</td>\n      <td>453.457614</td>\n      <td>894.319184</td>\n      <td>26.0</td>\n    </tr>\n    <tr>\n      <th>Almonte</th>\n      <td>1164.0</td>\n      <td>123.0</td>\n      <td>204.0</td>\n      <td>24507.0</td>\n      <td>501.897417</td>\n      <td>832.415228</td>\n      <td>58.0</td>\n    </tr>\n    <tr>\n      <th>Sanlúcar de Guadiana</th>\n      <td>6.0</td>\n      <td>3.0</td>\n      <td>3.0</td>\n      <td>403.0</td>\n      <td>744.416873</td>\n      <td>744.416873</td>\n      <td>NaN</td>\n    </tr>\n    <tr>\n      <th>Bonares</th>\n      <td>218.0</td>\n      <td>24.0</td>\n      <td>37.0</td>\n      <td>6060.0</td>\n      <td>396.039604</td>\n      <td>610.561056</td>\n      <td>15.0</td>\n    </tr>\n    <tr>\n      <th>Cartaya</th>\n      <td>1105.0</td>\n      <td>89.0</td>\n      <td>112.0</td>\n      <td>20083.0</td>\n      <td>443.160882</td>\n      <td>557.685605</td>\n      <td>42.0</td>\n    </tr>\n    <tr>\n      <th>Condado-Campiña</th>\n      <td>7922.0</td>\n      <td>413.0</td>\n      <td>696.0</td>\n      <td>156231.0</td>\n      <td>264.352145</td>\n      <td>445.494172</td>\n      <td>196.0</td>\n    </tr>\n    <tr>\n      <th>Niebla</th>\n      <td>182.0</td>\n      <td>6.0</td>\n      <td>18.0</td>\n      <td>4116.0</td>\n      <td>145.772595</td>\n      <td>437.317784</td>\n      <td>4.0</td>\n    </tr>\n    <tr>\n      <th>Bollullos Par del Condado</th>\n      <td>706.0</td>\n      <td>20.0</td>\n      <td>58.0</td>\n      <td>14387.0</td>\n      <td>139.014388</td>\n      <td>403.141725</td>\n      <td>11.0</td>\n    </tr>\n    <tr>\n      <th>Moguer</th>\n      <td>955.0</td>\n      <td>63.0</td>\n      <td>86.0</td>\n      <td>21867.0</td>\n      <td>288.105364</td>\n      <td>393.286688</td>\n      <td>26.0</td>\n    </tr>\n    <tr>\n      <th>Palos de la Frontera</th>\n      <td>512.0</td>\n      <td>24.0</td>\n      <td>46.0</td>\n      <td>11742.0</td>\n      <td>204.394481</td>\n      <td>391.756089</td>\n      <td>9.0</td>\n    </tr>\n    <tr>\n      <th>San Juan del Puerto</th>\n      <td>401.0</td>\n      <td>26.0</td>\n      <td>32.0</td>\n      <td>9411.0</td>\n      <td>276.272447</td>\n      <td>340.027627</td>\n      <td>8.0</td>\n    </tr>\n    <tr>\n      <th>Lucena del Puerto</th>\n      <td>173.0</td>\n      <td>10.0</td>\n      <td>11.0</td>\n      <td>3261.0</td>\n      <td>306.654400</td>\n      <td>337.319841</td>\n      <td>6.0</td>\n    </tr>\n    <tr>\n      <th>Aracena</th>\n      <td>478.0</td>\n      <td>21.0</td>\n      <td>27.0</td>\n      <td>8255.0</td>\n      <td>254.391278</td>\n      <td>327.074500</td>\n      <td>9.0</td>\n    </tr>\n    <tr>\n      <th>Villalba del Alcor</th>\n      <td>469.0</td>\n      <td>7.0</td>\n      <td>10.0</td>\n      <td>3366.0</td>\n      <td>207.961973</td>\n      <td>297.088532</td>\n      <td>1.0</td>\n    </tr>\n    <tr>\n      <th>Fuenteheridos</th>\n      <td>5.0</td>\n      <td>2.0</td>\n      <td>2.0</td>\n      <td>709.0</td>\n      <td>282.087447</td>\n      <td>282.087447</td>\n      <td>0.0</td>\n    </tr>\n    <tr>\n      <th>Villarrasa</th>\n      <td>138.0</td>\n      <td>5.0</td>\n      <td>6.0</td>\n      <td>2211.0</td>\n      <td>226.142017</td>\n      <td>271.370421</td>\n      <td>2.0</td>\n    </tr>\n    <tr>\n      <th>Huelva</th>\n      <td>26502.0</td>\n      <td>813.0</td>\n      <td>1239.0</td>\n      <td>513170.0</td>\n      <td>158.427032</td>\n      <td>241.440458</td>\n      <td>370.0</td>\n    </tr>\n    <tr>\n      <th>Paterna del Campo</th>\n      <td>123.0</td>\n      <td>3.0</td>\n      <td>8.0</td>\n      <td>3457.0</td>\n      <td>86.780445</td>\n      <td>231.414521</td>\n      <td>0.0</td>\n    </tr>\n    <tr>\n      <th>Alosno</th>\n      <td>156.0</td>\n      <td>6.0</td>\n      <td>9.0</td>\n      <td>3933.0</td>\n      <td>152.555301</td>\n      <td>228.832952</td>\n      <td>2.0</td>\n    </tr>\n    <tr>\n      <th>Trigueros</th>\n      <td>244.0</td>\n      <td>13.0</td>\n      <td>16.0</td>\n      <td>7862.0</td>\n      <td>165.352328</td>\n      <td>203.510557</td>\n      <td>3.0</td>\n    </tr>\n    <tr>\n      <th>Huelva (capital)</th>\n      <td>6920.0</td>\n      <td>186.0</td>\n      <td>250.0</td>\n      <td>143837.0</td>\n      <td>129.313042</td>\n      <td>173.807852</td>\n      <td>93.0</td>\n    </tr>\n    <tr>\n      <th>Palma del Condado (La)</th>\n      <td>1007.0</td>\n      <td>11.0</td>\n      <td>18.0</td>\n      <td>10801.0</td>\n      <td>101.842422</td>\n      <td>166.651236</td>\n      <td>8.0</td>\n    </tr>\n    <tr>\n      <th>Gibraleón</th>\n      <td>555.0</td>\n      <td>9.0</td>\n      <td>21.0</td>\n      <td>12737.0</td>\n      <td>70.660281</td>\n      <td>164.873989</td>\n      <td>3.0</td>\n    </tr>\n    <tr>\n      <th>Aroche</th>\n      <td>85.0</td>\n      <td>2.0</td>\n      <td>5.0</td>\n      <td>3054.0</td>\n      <td>65.487885</td>\n      <td>163.719712</td>\n      <td>1.0</td>\n    </tr>\n    <tr>\n      <th>San Silvestre de Guzmán</th>\n      <td>14.0</td>\n      <td>1.0</td>\n      <td>1.0</td>\n      <td>614.0</td>\n      <td>162.866450</td>\n      <td>162.866450</td>\n      <td>0.0</td>\n    </tr>\n    <tr>\n      <th>Huelva-Costa</th>\n      <td>15789.0</td>\n      <td>340.0</td>\n      <td>461.0</td>\n      <td>289548.0</td>\n      <td>117.424399</td>\n      <td>159.213671</td>\n      <td>165.0</td>\n    </tr>\n    <tr>\n      <th>Higuera de la Sierra</th>\n      <td>31.0</td>\n      <td>1.0</td>\n      <td>2.0</td>\n      <td>1291.0</td>\n      <td>77.459334</td>\n      <td>154.918668</td>\n      <td>0.0</td>\n    </tr>\n    <tr>\n      <th>Aljaraque</th>\n      <td>959.0</td>\n      <td>25.0</td>\n      <td>30.0</td>\n      <td>21474.0</td>\n      <td>116.419857</td>\n      <td>139.703828</td>\n      <td>12.0</td>\n    </tr>\n    <tr>\n      <th>Punta Umbría</th>\n      <td>678.0</td>\n      <td>11.0</td>\n      <td>16.0</td>\n      <td>15355.0</td>\n      <td>71.637903</td>\n      <td>104.200586</td>\n      <td>6.0</td>\n    </tr>\n    <tr>\n      <th>Campillo (El)</th>\n      <td>63.0</td>\n      <td>2.0</td>\n      <td>2.0</td>\n      <td>2024.0</td>\n      <td>98.814229</td>\n      <td>98.814229</td>\n      <td>1.0</td>\n    </tr>\n    <tr>\n      <th>Sierra de Huelva-Andévalo Central</th>\n      <td>2371.0</td>\n      <td>41.0</td>\n      <td>57.0</td>\n      <td>67391.0</td>\n      <td>60.838984</td>\n      <td>84.581027</td>\n      <td>18.0</td>\n    </tr>\n    <tr>\n      <th>Valverde del Camino</th>\n      <td>436.0</td>\n      <td>7.0</td>\n      <td>10.0</td>\n      <td>12750.0</td>\n      <td>54.901961</td>\n      <td>78.431373</td>\n      <td>2.0</td>\n    </tr>\n    <tr>\n      <th>Lepe</th>\n      <td>2035.0</td>\n      <td>10.0</td>\n      <td>21.0</td>\n      <td>27880.0</td>\n      <td>35.868006</td>\n      <td>75.322812</td>\n      <td>4.0</td>\n    </tr>\n    <tr>\n      <th>Calañas</th>\n      <td>173.0</td>\n      <td>1.0</td>\n      <td>2.0</td>\n      <td>2768.0</td>\n      <td>36.127168</td>\n      <td>72.254335</td>\n      <td>1.0</td>\n    </tr>\n    <tr>\n      <th>Villanueva de los Castillejos</th>\n      <td>155.0</td>\n      <td>2.0</td>\n      <td>2.0</td>\n      <td>2825.0</td>\n      <td>70.796460</td>\n      <td>70.796460</td>\n      <td>0.0</td>\n    </tr>\n    <tr>\n      <th>Beas</th>\n      <td>166.0</td>\n      <td>3.0</td>\n      <td>3.0</td>\n      <td>4341.0</td>\n      <td>69.108500</td>\n      <td>69.108500</td>\n      <td>2.0</td>\n    </tr>\n    <tr>\n      <th>Cortegana</th>\n      <td>192.0</td>\n      <td>3.0</td>\n      <td>3.0</td>\n      <td>4602.0</td>\n      <td>65.189048</td>\n      <td>65.189048</td>\n      <td>1.0</td>\n    </tr>\n    <tr>\n      <th>Almonaster la Real</th>\n      <td>54.0</td>\n      <td>1.0</td>\n      <td>1.0</td>\n      <td>1788.0</td>\n      <td>55.928412</td>\n      <td>55.928412</td>\n      <td>NaN</td>\n    </tr>\n    <tr>\n      <th>Ayamonte</th>\n      <td>1251.0</td>\n      <td>4.0</td>\n      <td>10.0</td>\n      <td>21104.0</td>\n      <td>18.953753</td>\n      <td>47.384382</td>\n      <td>1.0</td>\n    </tr>\n    <tr>\n      <th>Escacena del Campo</th>\n      <td>142.0</td>\n      <td>1.0</td>\n      <td>1.0</td>\n      <td>2287.0</td>\n      <td>43.725404</td>\n      <td>43.725404</td>\n      <td>0.0</td>\n    </tr>\n    <tr>\n      <th>Isla Cristina</th>\n      <td>2014.0</td>\n      <td>3.0</td>\n      <td>5.0</td>\n      <td>21393.0</td>\n      <td>14.023279</td>\n      <td>23.372131</td>\n      <td>1.0</td>\n    </tr>\n    <tr>\n      <th>Nerva</th>\n      <td>153.0</td>\n      <td>1.0</td>\n      <td>1.0</td>\n      <td>5169.0</td>\n      <td>19.346102</td>\n      <td>19.346102</td>\n      <td>NaN</td>\n    </tr>\n  </tbody>\n</table>\n</div>"
     },
     "metadata": {},
     "execution_count": 17
    }
   ],
   "source": [
    "tabla.sort_values('tasa14', ascending=False)"
   ]
  },
  {
   "cell_type": "code",
   "execution_count": 18,
   "metadata": {},
   "outputs": [
    {
     "output_type": "execute_result",
     "data": {
      "text/plain": [
       "Medida                             Confirmados PDIA  Confirmados PDIA 7 días  \\\n",
       "Lugar de residencia                                                            \n",
       "Niebla                                        182.0                      6.0   \n",
       "Bollullos Par del Condado                     706.0                     20.0   \n",
       "Paterna del Campo                             123.0                      3.0   \n",
       "Ayamonte                                     1251.0                      4.0   \n",
       "Aroche                                         85.0                      2.0   \n",
       "Gibraleón                                     555.0                      9.0   \n",
       "Lepe                                         2035.0                     10.0   \n",
       "Calañas                                       173.0                      1.0   \n",
       "Higuera de la Sierra                           31.0                      1.0   \n",
       "Rociana del Condado                           417.0                     36.0   \n",
       "Palos de la Frontera                          512.0                     24.0   \n",
       "San Bartolomé de la Torre                     266.0                     29.0   \n",
       "Condado-Campiña                              7922.0                    413.0   \n",
       "Isla Cristina                                2014.0                      3.0   \n",
       "Almonte                                      1164.0                    123.0   \n",
       "Palma del Condado (La)                       1007.0                     11.0   \n",
       "Bonares                                       218.0                     24.0   \n",
       "Huelva                                      26502.0                    813.0   \n",
       "Alosno                                        156.0                      6.0   \n",
       "Punta Umbría                                  678.0                     11.0   \n",
       "Valverde del Camino                           436.0                      7.0   \n",
       "Villalba del Alcor                            469.0                      7.0   \n",
       "Sierra de Huelva-Andévalo Central            2371.0                     41.0   \n",
       "Moguer                                        955.0                     63.0   \n",
       "Huelva-Costa                                15789.0                    340.0   \n",
       "Huelva (capital)                             6920.0                    186.0   \n",
       "Aracena                                       478.0                     21.0   \n",
       "Cartaya                                      1105.0                     89.0   \n",
       "Trigueros                                     244.0                     13.0   \n",
       "San Juan del Puerto                           401.0                     26.0   \n",
       "Aljaraque                                     959.0                     25.0   \n",
       "Villarrasa                                    138.0                      5.0   \n",
       "Lucena del Puerto                             173.0                     10.0   \n",
       "Villanueva de los Castillejos                 155.0                      2.0   \n",
       "Fuenteheridos                                   5.0                      2.0   \n",
       "Escacena del Campo                            142.0                      1.0   \n",
       "San Silvestre de Guzmán                        14.0                      1.0   \n",
       "Sanlúcar de Guadiana                            6.0                      3.0   \n",
       "Cortegana                                     192.0                      3.0   \n",
       "Campillo (El)                                  63.0                      2.0   \n",
       "Beas                                          166.0                      3.0   \n",
       "Almonaster la Real                             54.0                      1.0   \n",
       "Nerva                                         153.0                      1.0   \n",
       "\n",
       "Medida                             Confirmados PDIA 14 días  Población  \\\n",
       "Lugar de residencia                                                      \n",
       "Niebla                                                 18.0     4116.0   \n",
       "Bollullos Par del Condado                              58.0    14387.0   \n",
       "Paterna del Campo                                       8.0     3457.0   \n",
       "Ayamonte                                               10.0    21104.0   \n",
       "Aroche                                                  5.0     3054.0   \n",
       "Gibraleón                                              21.0    12737.0   \n",
       "Lepe                                                   21.0    27880.0   \n",
       "Calañas                                                 2.0     2768.0   \n",
       "Higuera de la Sierra                                    2.0     1291.0   \n",
       "Rociana del Condado                                    71.0     7939.0   \n",
       "Palos de la Frontera                                   46.0    11742.0   \n",
       "San Bartolomé de la Torre                              49.0     3761.0   \n",
       "Condado-Campiña                                       696.0   156231.0   \n",
       "Isla Cristina                                           5.0    21393.0   \n",
       "Almonte                                               204.0    24507.0   \n",
       "Palma del Condado (La)                                 18.0    10801.0   \n",
       "Bonares                                                37.0     6060.0   \n",
       "Huelva                                               1239.0   513170.0   \n",
       "Alosno                                                  9.0     3933.0   \n",
       "Punta Umbría                                           16.0    15355.0   \n",
       "Valverde del Camino                                    10.0    12750.0   \n",
       "Villalba del Alcor                                     10.0     3366.0   \n",
       "Sierra de Huelva-Andévalo Central                      57.0    67391.0   \n",
       "Moguer                                                 86.0    21867.0   \n",
       "Huelva-Costa                                          461.0   289548.0   \n",
       "Huelva (capital)                                      250.0   143837.0   \n",
       "Aracena                                                27.0     8255.0   \n",
       "Cartaya                                               112.0    20083.0   \n",
       "Trigueros                                              16.0     7862.0   \n",
       "San Juan del Puerto                                    32.0     9411.0   \n",
       "Aljaraque                                              30.0    21474.0   \n",
       "Villarrasa                                              6.0     2211.0   \n",
       "Lucena del Puerto                                      11.0     3261.0   \n",
       "Villanueva de los Castillejos                           2.0     2825.0   \n",
       "Fuenteheridos                                           2.0      709.0   \n",
       "Escacena del Campo                                      1.0     2287.0   \n",
       "San Silvestre de Guzmán                                 1.0      614.0   \n",
       "Sanlúcar de Guadiana                                    3.0      403.0   \n",
       "Cortegana                                               3.0     4602.0   \n",
       "Campillo (El)                                           2.0     2024.0   \n",
       "Beas                                                    3.0     4341.0   \n",
       "Almonaster la Real                                      1.0     1788.0   \n",
       "Nerva                                                   1.0     5169.0   \n",
       "\n",
       "Medida                                  tasa7       tasa14  Diferencia PDIA  \\\n",
       "Lugar de residencia                                                           \n",
       "Niebla                             145.772595   437.317784              4.0   \n",
       "Bollullos Par del Condado          139.014388   403.141725             11.0   \n",
       "Paterna del Campo                   86.780445   231.414521              0.0   \n",
       "Ayamonte                            18.953753    47.384382              1.0   \n",
       "Aroche                              65.487885   163.719712              1.0   \n",
       "Gibraleón                           70.660281   164.873989              3.0   \n",
       "Lepe                                35.868006    75.322812              4.0   \n",
       "Calañas                             36.127168    72.254335              1.0   \n",
       "Higuera de la Sierra                77.459334   154.918668              0.0   \n",
       "Rociana del Condado                453.457614   894.319184             26.0   \n",
       "Palos de la Frontera               204.394481   391.756089              9.0   \n",
       "San Bartolomé de la Torre          771.071524  1302.844988             14.0   \n",
       "Condado-Campiña                    264.352145   445.494172            196.0   \n",
       "Isla Cristina                       14.023279    23.372131              1.0   \n",
       "Almonte                            501.897417   832.415228             58.0   \n",
       "Palma del Condado (La)             101.842422   166.651236              8.0   \n",
       "Bonares                            396.039604   610.561056             15.0   \n",
       "Huelva                             158.427032   241.440458            370.0   \n",
       "Alosno                             152.555301   228.832952              2.0   \n",
       "Punta Umbría                        71.637903   104.200586              6.0   \n",
       "Valverde del Camino                 54.901961    78.431373              2.0   \n",
       "Villalba del Alcor                 207.961973   297.088532              1.0   \n",
       "Sierra de Huelva-Andévalo Central   60.838984    84.581027             18.0   \n",
       "Moguer                             288.105364   393.286688             26.0   \n",
       "Huelva-Costa                       117.424399   159.213671            165.0   \n",
       "Huelva (capital)                   129.313042   173.807852             93.0   \n",
       "Aracena                            254.391278   327.074500              9.0   \n",
       "Cartaya                            443.160882   557.685605             42.0   \n",
       "Trigueros                          165.352328   203.510557              3.0   \n",
       "San Juan del Puerto                276.272447   340.027627              8.0   \n",
       "Aljaraque                          116.419857   139.703828             12.0   \n",
       "Villarrasa                         226.142017   271.370421              2.0   \n",
       "Lucena del Puerto                  306.654400   337.319841              6.0   \n",
       "Villanueva de los Castillejos       70.796460    70.796460              0.0   \n",
       "Fuenteheridos                      282.087447   282.087447              0.0   \n",
       "Escacena del Campo                  43.725404    43.725404              0.0   \n",
       "San Silvestre de Guzmán            162.866450   162.866450              0.0   \n",
       "Sanlúcar de Guadiana               744.416873   744.416873              0.0   \n",
       "Cortegana                           65.189048    65.189048              1.0   \n",
       "Campillo (El)                       98.814229    98.814229              1.0   \n",
       "Beas                                69.108500    69.108500              2.0   \n",
       "Almonaster la Real                  55.928412    55.928412              0.0   \n",
       "Nerva                               19.346102    19.346102              0.0   \n",
       "\n",
       "Medida                                 7/14  \n",
       "Lugar de residencia                          \n",
       "Niebla                             0.333333  \n",
       "Bollullos Par del Condado          0.344828  \n",
       "Paterna del Campo                  0.375000  \n",
       "Ayamonte                           0.400000  \n",
       "Aroche                             0.400000  \n",
       "Gibraleón                          0.428571  \n",
       "Lepe                               0.476190  \n",
       "Calañas                            0.500000  \n",
       "Higuera de la Sierra               0.500000  \n",
       "Rociana del Condado                0.507042  \n",
       "Palos de la Frontera               0.521739  \n",
       "San Bartolomé de la Torre          0.591837  \n",
       "Condado-Campiña                    0.593391  \n",
       "Isla Cristina                      0.600000  \n",
       "Almonte                            0.602941  \n",
       "Palma del Condado (La)             0.611111  \n",
       "Bonares                            0.648649  \n",
       "Huelva                             0.656174  \n",
       "Alosno                             0.666667  \n",
       "Punta Umbría                       0.687500  \n",
       "Valverde del Camino                0.700000  \n",
       "Villalba del Alcor                 0.700000  \n",
       "Sierra de Huelva-Andévalo Central  0.719298  \n",
       "Moguer                             0.732558  \n",
       "Huelva-Costa                       0.737527  \n",
       "Huelva (capital)                   0.744000  \n",
       "Aracena                            0.777778  \n",
       "Cartaya                            0.794643  \n",
       "Trigueros                          0.812500  \n",
       "San Juan del Puerto                0.812500  \n",
       "Aljaraque                          0.833333  \n",
       "Villarrasa                         0.833333  \n",
       "Lucena del Puerto                  0.909091  \n",
       "Villanueva de los Castillejos      1.000000  \n",
       "Fuenteheridos                      1.000000  \n",
       "Escacena del Campo                 1.000000  \n",
       "San Silvestre de Guzmán            1.000000  \n",
       "Sanlúcar de Guadiana               1.000000  \n",
       "Cortegana                          1.000000  \n",
       "Campillo (El)                      1.000000  \n",
       "Beas                               1.000000  \n",
       "Almonaster la Real                 1.000000  \n",
       "Nerva                              1.000000  "
      ],
      "text/html": "<div>\n<style scoped>\n    .dataframe tbody tr th:only-of-type {\n        vertical-align: middle;\n    }\n\n    .dataframe tbody tr th {\n        vertical-align: top;\n    }\n\n    .dataframe thead th {\n        text-align: right;\n    }\n</style>\n<table border=\"1\" class=\"dataframe\">\n  <thead>\n    <tr style=\"text-align: right;\">\n      <th>Medida</th>\n      <th>Confirmados PDIA</th>\n      <th>Confirmados PDIA 7 días</th>\n      <th>Confirmados PDIA 14 días</th>\n      <th>Población</th>\n      <th>tasa7</th>\n      <th>tasa14</th>\n      <th>Diferencia PDIA</th>\n      <th>7/14</th>\n    </tr>\n    <tr>\n      <th>Lugar de residencia</th>\n      <th></th>\n      <th></th>\n      <th></th>\n      <th></th>\n      <th></th>\n      <th></th>\n      <th></th>\n      <th></th>\n    </tr>\n  </thead>\n  <tbody>\n    <tr>\n      <th>Niebla</th>\n      <td>182.0</td>\n      <td>6.0</td>\n      <td>18.0</td>\n      <td>4116.0</td>\n      <td>145.772595</td>\n      <td>437.317784</td>\n      <td>4.0</td>\n      <td>0.333333</td>\n    </tr>\n    <tr>\n      <th>Bollullos Par del Condado</th>\n      <td>706.0</td>\n      <td>20.0</td>\n      <td>58.0</td>\n      <td>14387.0</td>\n      <td>139.014388</td>\n      <td>403.141725</td>\n      <td>11.0</td>\n      <td>0.344828</td>\n    </tr>\n    <tr>\n      <th>Paterna del Campo</th>\n      <td>123.0</td>\n      <td>3.0</td>\n      <td>8.0</td>\n      <td>3457.0</td>\n      <td>86.780445</td>\n      <td>231.414521</td>\n      <td>0.0</td>\n      <td>0.375000</td>\n    </tr>\n    <tr>\n      <th>Ayamonte</th>\n      <td>1251.0</td>\n      <td>4.0</td>\n      <td>10.0</td>\n      <td>21104.0</td>\n      <td>18.953753</td>\n      <td>47.384382</td>\n      <td>1.0</td>\n      <td>0.400000</td>\n    </tr>\n    <tr>\n      <th>Aroche</th>\n      <td>85.0</td>\n      <td>2.0</td>\n      <td>5.0</td>\n      <td>3054.0</td>\n      <td>65.487885</td>\n      <td>163.719712</td>\n      <td>1.0</td>\n      <td>0.400000</td>\n    </tr>\n    <tr>\n      <th>Gibraleón</th>\n      <td>555.0</td>\n      <td>9.0</td>\n      <td>21.0</td>\n      <td>12737.0</td>\n      <td>70.660281</td>\n      <td>164.873989</td>\n      <td>3.0</td>\n      <td>0.428571</td>\n    </tr>\n    <tr>\n      <th>Lepe</th>\n      <td>2035.0</td>\n      <td>10.0</td>\n      <td>21.0</td>\n      <td>27880.0</td>\n      <td>35.868006</td>\n      <td>75.322812</td>\n      <td>4.0</td>\n      <td>0.476190</td>\n    </tr>\n    <tr>\n      <th>Calañas</th>\n      <td>173.0</td>\n      <td>1.0</td>\n      <td>2.0</td>\n      <td>2768.0</td>\n      <td>36.127168</td>\n      <td>72.254335</td>\n      <td>1.0</td>\n      <td>0.500000</td>\n    </tr>\n    <tr>\n      <th>Higuera de la Sierra</th>\n      <td>31.0</td>\n      <td>1.0</td>\n      <td>2.0</td>\n      <td>1291.0</td>\n      <td>77.459334</td>\n      <td>154.918668</td>\n      <td>0.0</td>\n      <td>0.500000</td>\n    </tr>\n    <tr>\n      <th>Rociana del Condado</th>\n      <td>417.0</td>\n      <td>36.0</td>\n      <td>71.0</td>\n      <td>7939.0</td>\n      <td>453.457614</td>\n      <td>894.319184</td>\n      <td>26.0</td>\n      <td>0.507042</td>\n    </tr>\n    <tr>\n      <th>Palos de la Frontera</th>\n      <td>512.0</td>\n      <td>24.0</td>\n      <td>46.0</td>\n      <td>11742.0</td>\n      <td>204.394481</td>\n      <td>391.756089</td>\n      <td>9.0</td>\n      <td>0.521739</td>\n    </tr>\n    <tr>\n      <th>San Bartolomé de la Torre</th>\n      <td>266.0</td>\n      <td>29.0</td>\n      <td>49.0</td>\n      <td>3761.0</td>\n      <td>771.071524</td>\n      <td>1302.844988</td>\n      <td>14.0</td>\n      <td>0.591837</td>\n    </tr>\n    <tr>\n      <th>Condado-Campiña</th>\n      <td>7922.0</td>\n      <td>413.0</td>\n      <td>696.0</td>\n      <td>156231.0</td>\n      <td>264.352145</td>\n      <td>445.494172</td>\n      <td>196.0</td>\n      <td>0.593391</td>\n    </tr>\n    <tr>\n      <th>Isla Cristina</th>\n      <td>2014.0</td>\n      <td>3.0</td>\n      <td>5.0</td>\n      <td>21393.0</td>\n      <td>14.023279</td>\n      <td>23.372131</td>\n      <td>1.0</td>\n      <td>0.600000</td>\n    </tr>\n    <tr>\n      <th>Almonte</th>\n      <td>1164.0</td>\n      <td>123.0</td>\n      <td>204.0</td>\n      <td>24507.0</td>\n      <td>501.897417</td>\n      <td>832.415228</td>\n      <td>58.0</td>\n      <td>0.602941</td>\n    </tr>\n    <tr>\n      <th>Palma del Condado (La)</th>\n      <td>1007.0</td>\n      <td>11.0</td>\n      <td>18.0</td>\n      <td>10801.0</td>\n      <td>101.842422</td>\n      <td>166.651236</td>\n      <td>8.0</td>\n      <td>0.611111</td>\n    </tr>\n    <tr>\n      <th>Bonares</th>\n      <td>218.0</td>\n      <td>24.0</td>\n      <td>37.0</td>\n      <td>6060.0</td>\n      <td>396.039604</td>\n      <td>610.561056</td>\n      <td>15.0</td>\n      <td>0.648649</td>\n    </tr>\n    <tr>\n      <th>Huelva</th>\n      <td>26502.0</td>\n      <td>813.0</td>\n      <td>1239.0</td>\n      <td>513170.0</td>\n      <td>158.427032</td>\n      <td>241.440458</td>\n      <td>370.0</td>\n      <td>0.656174</td>\n    </tr>\n    <tr>\n      <th>Alosno</th>\n      <td>156.0</td>\n      <td>6.0</td>\n      <td>9.0</td>\n      <td>3933.0</td>\n      <td>152.555301</td>\n      <td>228.832952</td>\n      <td>2.0</td>\n      <td>0.666667</td>\n    </tr>\n    <tr>\n      <th>Punta Umbría</th>\n      <td>678.0</td>\n      <td>11.0</td>\n      <td>16.0</td>\n      <td>15355.0</td>\n      <td>71.637903</td>\n      <td>104.200586</td>\n      <td>6.0</td>\n      <td>0.687500</td>\n    </tr>\n    <tr>\n      <th>Valverde del Camino</th>\n      <td>436.0</td>\n      <td>7.0</td>\n      <td>10.0</td>\n      <td>12750.0</td>\n      <td>54.901961</td>\n      <td>78.431373</td>\n      <td>2.0</td>\n      <td>0.700000</td>\n    </tr>\n    <tr>\n      <th>Villalba del Alcor</th>\n      <td>469.0</td>\n      <td>7.0</td>\n      <td>10.0</td>\n      <td>3366.0</td>\n      <td>207.961973</td>\n      <td>297.088532</td>\n      <td>1.0</td>\n      <td>0.700000</td>\n    </tr>\n    <tr>\n      <th>Sierra de Huelva-Andévalo Central</th>\n      <td>2371.0</td>\n      <td>41.0</td>\n      <td>57.0</td>\n      <td>67391.0</td>\n      <td>60.838984</td>\n      <td>84.581027</td>\n      <td>18.0</td>\n      <td>0.719298</td>\n    </tr>\n    <tr>\n      <th>Moguer</th>\n      <td>955.0</td>\n      <td>63.0</td>\n      <td>86.0</td>\n      <td>21867.0</td>\n      <td>288.105364</td>\n      <td>393.286688</td>\n      <td>26.0</td>\n      <td>0.732558</td>\n    </tr>\n    <tr>\n      <th>Huelva-Costa</th>\n      <td>15789.0</td>\n      <td>340.0</td>\n      <td>461.0</td>\n      <td>289548.0</td>\n      <td>117.424399</td>\n      <td>159.213671</td>\n      <td>165.0</td>\n      <td>0.737527</td>\n    </tr>\n    <tr>\n      <th>Huelva (capital)</th>\n      <td>6920.0</td>\n      <td>186.0</td>\n      <td>250.0</td>\n      <td>143837.0</td>\n      <td>129.313042</td>\n      <td>173.807852</td>\n      <td>93.0</td>\n      <td>0.744000</td>\n    </tr>\n    <tr>\n      <th>Aracena</th>\n      <td>478.0</td>\n      <td>21.0</td>\n      <td>27.0</td>\n      <td>8255.0</td>\n      <td>254.391278</td>\n      <td>327.074500</td>\n      <td>9.0</td>\n      <td>0.777778</td>\n    </tr>\n    <tr>\n      <th>Cartaya</th>\n      <td>1105.0</td>\n      <td>89.0</td>\n      <td>112.0</td>\n      <td>20083.0</td>\n      <td>443.160882</td>\n      <td>557.685605</td>\n      <td>42.0</td>\n      <td>0.794643</td>\n    </tr>\n    <tr>\n      <th>Trigueros</th>\n      <td>244.0</td>\n      <td>13.0</td>\n      <td>16.0</td>\n      <td>7862.0</td>\n      <td>165.352328</td>\n      <td>203.510557</td>\n      <td>3.0</td>\n      <td>0.812500</td>\n    </tr>\n    <tr>\n      <th>San Juan del Puerto</th>\n      <td>401.0</td>\n      <td>26.0</td>\n      <td>32.0</td>\n      <td>9411.0</td>\n      <td>276.272447</td>\n      <td>340.027627</td>\n      <td>8.0</td>\n      <td>0.812500</td>\n    </tr>\n    <tr>\n      <th>Aljaraque</th>\n      <td>959.0</td>\n      <td>25.0</td>\n      <td>30.0</td>\n      <td>21474.0</td>\n      <td>116.419857</td>\n      <td>139.703828</td>\n      <td>12.0</td>\n      <td>0.833333</td>\n    </tr>\n    <tr>\n      <th>Villarrasa</th>\n      <td>138.0</td>\n      <td>5.0</td>\n      <td>6.0</td>\n      <td>2211.0</td>\n      <td>226.142017</td>\n      <td>271.370421</td>\n      <td>2.0</td>\n      <td>0.833333</td>\n    </tr>\n    <tr>\n      <th>Lucena del Puerto</th>\n      <td>173.0</td>\n      <td>10.0</td>\n      <td>11.0</td>\n      <td>3261.0</td>\n      <td>306.654400</td>\n      <td>337.319841</td>\n      <td>6.0</td>\n      <td>0.909091</td>\n    </tr>\n    <tr>\n      <th>Villanueva de los Castillejos</th>\n      <td>155.0</td>\n      <td>2.0</td>\n      <td>2.0</td>\n      <td>2825.0</td>\n      <td>70.796460</td>\n      <td>70.796460</td>\n      <td>0.0</td>\n      <td>1.000000</td>\n    </tr>\n    <tr>\n      <th>Fuenteheridos</th>\n      <td>5.0</td>\n      <td>2.0</td>\n      <td>2.0</td>\n      <td>709.0</td>\n      <td>282.087447</td>\n      <td>282.087447</td>\n      <td>0.0</td>\n      <td>1.000000</td>\n    </tr>\n    <tr>\n      <th>Escacena del Campo</th>\n      <td>142.0</td>\n      <td>1.0</td>\n      <td>1.0</td>\n      <td>2287.0</td>\n      <td>43.725404</td>\n      <td>43.725404</td>\n      <td>0.0</td>\n      <td>1.000000</td>\n    </tr>\n    <tr>\n      <th>San Silvestre de Guzmán</th>\n      <td>14.0</td>\n      <td>1.0</td>\n      <td>1.0</td>\n      <td>614.0</td>\n      <td>162.866450</td>\n      <td>162.866450</td>\n      <td>0.0</td>\n      <td>1.000000</td>\n    </tr>\n    <tr>\n      <th>Sanlúcar de Guadiana</th>\n      <td>6.0</td>\n      <td>3.0</td>\n      <td>3.0</td>\n      <td>403.0</td>\n      <td>744.416873</td>\n      <td>744.416873</td>\n      <td>0.0</td>\n      <td>1.000000</td>\n    </tr>\n    <tr>\n      <th>Cortegana</th>\n      <td>192.0</td>\n      <td>3.0</td>\n      <td>3.0</td>\n      <td>4602.0</td>\n      <td>65.189048</td>\n      <td>65.189048</td>\n      <td>1.0</td>\n      <td>1.000000</td>\n    </tr>\n    <tr>\n      <th>Campillo (El)</th>\n      <td>63.0</td>\n      <td>2.0</td>\n      <td>2.0</td>\n      <td>2024.0</td>\n      <td>98.814229</td>\n      <td>98.814229</td>\n      <td>1.0</td>\n      <td>1.000000</td>\n    </tr>\n    <tr>\n      <th>Beas</th>\n      <td>166.0</td>\n      <td>3.0</td>\n      <td>3.0</td>\n      <td>4341.0</td>\n      <td>69.108500</td>\n      <td>69.108500</td>\n      <td>2.0</td>\n      <td>1.000000</td>\n    </tr>\n    <tr>\n      <th>Almonaster la Real</th>\n      <td>54.0</td>\n      <td>1.0</td>\n      <td>1.0</td>\n      <td>1788.0</td>\n      <td>55.928412</td>\n      <td>55.928412</td>\n      <td>0.0</td>\n      <td>1.000000</td>\n    </tr>\n    <tr>\n      <th>Nerva</th>\n      <td>153.0</td>\n      <td>1.0</td>\n      <td>1.0</td>\n      <td>5169.0</td>\n      <td>19.346102</td>\n      <td>19.346102</td>\n      <td>0.0</td>\n      <td>1.000000</td>\n    </tr>\n  </tbody>\n</table>\n</div>"
     },
     "metadata": {},
     "execution_count": 18
    }
   ],
   "source": [
    "# Peso de la tasa de la última semana en relación con la tasa a 14 días \n",
    "# Mejor cuanto menor. Valor 1 significa que no había casos antes de 7 días.\n",
    "tabla['7/14'] = tabla['tasa7'] / tabla['tasa14']\n",
    "tabla.fillna(0).sort_values('7/14', ascending=True)"
   ]
  },
  {
   "cell_type": "code",
   "execution_count": null,
   "metadata": {},
   "outputs": [],
   "source": []
  }
 ]
}