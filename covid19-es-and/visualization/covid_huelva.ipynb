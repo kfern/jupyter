{
 "metadata": {
  "language_info": {
   "codemirror_mode": {
    "name": "ipython",
    "version": 3
   },
   "file_extension": ".py",
   "mimetype": "text/x-python",
   "name": "python",
   "nbconvert_exporter": "python",
   "pygments_lexer": "ipython3",
   "version": "3.8.6-final"
  },
  "orig_nbformat": 2,
  "kernelspec": {
   "name": "python38564bit75945252d6ba481bad4868286020c89e",
   "display_name": "Python 3.8.5 64-bit",
   "language": "python"
  }
 },
 "nbformat": 4,
 "nbformat_minor": 2,
 "cells": [
  {
   "cell_type": "code",
   "execution_count": 1,
   "metadata": {},
   "outputs": [],
   "source": [
    "import pandas as pd\n",
    "pd.set_option('display.max_rows', None) # Print all rows"
   ]
  },
  {
   "cell_type": "code",
   "execution_count": 2,
   "metadata": {},
   "outputs": [],
   "source": [
    "# FIX SSL: CERTIFICATE_VERIFY_FAILED with Python3\n",
    "# https://stackoverflow.com/a/49174340\n",
    "import ssl\n",
    "\n",
    "ssl._create_default_https_context = ssl._create_unverified_context"
   ]
  },
  {
   "cell_type": "code",
   "execution_count": 3,
   "metadata": {},
   "outputs": [],
   "source": [
    "url = 'https://www.juntadeandalucia.es/institutodeestadisticaycartografia/badea/stpivot/stpivot/Print?cube=013d884c-cfc5-4c21-9e78-e26225682afd&type=3&foto=si&ejecutaDesde=&codConsulta=38668&consTipoVisua=JP'\n",
    "fields = ['Lugar de residencia', 'Medida', 'Valor']\n",
    "df = pd.read_csv(url, delimiter=';', usecols=fields, decimal=',')"
   ]
  },
  {
   "cell_type": "code",
   "execution_count": 4,
   "metadata": {},
   "outputs": [
    {
     "output_type": "execute_result",
     "data": {
      "text/plain": [
       "  Lugar de residencia                    Medida              Valor\n",
       "0              Huelva                 Población             513170\n",
       "1              Huelva          Confirmados PDIA              24714\n",
       "2              Huelva  Confirmados PDIA 14 días                245\n",
       "3              Huelva         Tasa PDIA 14 días  47,74246351111717\n",
       "4              Huelva   Confirmados PDIA 7 días                124\n",
       "5              Huelva        Total Confirmados               24934\n",
       "6              Huelva                   Curados              17328\n",
       "7              Huelva                Fallecidos                315"
      ],
      "text/html": "<div>\n<style scoped>\n    .dataframe tbody tr th:only-of-type {\n        vertical-align: middle;\n    }\n\n    .dataframe tbody tr th {\n        vertical-align: top;\n    }\n\n    .dataframe thead th {\n        text-align: right;\n    }\n</style>\n<table border=\"1\" class=\"dataframe\">\n  <thead>\n    <tr style=\"text-align: right;\">\n      <th></th>\n      <th>Lugar de residencia</th>\n      <th>Medida</th>\n      <th>Valor</th>\n    </tr>\n  </thead>\n  <tbody>\n    <tr>\n      <th>0</th>\n      <td>Huelva</td>\n      <td>Población</td>\n      <td>513170</td>\n    </tr>\n    <tr>\n      <th>1</th>\n      <td>Huelva</td>\n      <td>Confirmados PDIA</td>\n      <td>24714</td>\n    </tr>\n    <tr>\n      <th>2</th>\n      <td>Huelva</td>\n      <td>Confirmados PDIA 14 días</td>\n      <td>245</td>\n    </tr>\n    <tr>\n      <th>3</th>\n      <td>Huelva</td>\n      <td>Tasa PDIA 14 días</td>\n      <td>47,74246351111717</td>\n    </tr>\n    <tr>\n      <th>4</th>\n      <td>Huelva</td>\n      <td>Confirmados PDIA 7 días</td>\n      <td>124</td>\n    </tr>\n    <tr>\n      <th>5</th>\n      <td>Huelva</td>\n      <td>Total Confirmados</td>\n      <td>24934</td>\n    </tr>\n    <tr>\n      <th>6</th>\n      <td>Huelva</td>\n      <td>Curados</td>\n      <td>17328</td>\n    </tr>\n    <tr>\n      <th>7</th>\n      <td>Huelva</td>\n      <td>Fallecidos</td>\n      <td>315</td>\n    </tr>\n  </tbody>\n</table>\n</div>"
     },
     "metadata": {},
     "execution_count": 4
    }
   ],
   "source": [
    "df[df['Lugar de residencia'] == 'Huelva']"
   ]
  },
  {
   "cell_type": "code",
   "execution_count": 5,
   "metadata": {},
   "outputs": [],
   "source": [
    "df['Valor'] = pd.to_numeric(df['Valor'],errors='coerce')"
   ]
  },
  {
   "cell_type": "code",
   "execution_count": 6,
   "metadata": {},
   "outputs": [],
   "source": [
    "dfAnterior = pd.read_csv('covid_huelva.csv', index_col='Lugar de residencia')"
   ]
  },
  {
   "cell_type": "code",
   "execution_count": 7,
   "metadata": {
    "tags": []
   },
   "outputs": [
    {
     "output_type": "stream",
     "name": "stdout",
     "text": [
      "Confirmados PCR en la provincia de Huelva:  24714.0\n",
      "<ipython-input-7-31b732756b19>:2: UserWarning: Boolean Series key will be reindexed to match DataFrame index.\n",
      "  p = df[df['Lugar de residencia'] == 'Huelva'][df['Medida'] == 'Confirmados PDIA']['Valor'].values[0]\n"
     ]
    }
   ],
   "source": [
    "# Confirmados PCR provincia Huelva\n",
    "p = df[df['Lugar de residencia'] == 'Huelva'][df['Medida'] == 'Confirmados PDIA']['Valor'].values[0]\n",
    "print('Confirmados PCR en la provincia de Huelva: ', p)"
   ]
  },
  {
   "cell_type": "code",
   "execution_count": 8,
   "metadata": {
    "tags": []
   },
   "outputs": [
    {
     "output_type": "stream",
     "name": "stdout",
     "text": [
      "Confirmados PCR en Huelva capital:  6568.0\n",
      "<ipython-input-8-e81bfb40e710>:2: UserWarning: Boolean Series key will be reindexed to match DataFrame index.\n",
      "  c = df[df['Lugar de residencia'] == 'Huelva (capital)'][df['Medida'] == 'Confirmados PDIA']['Valor'].values[0]\n"
     ]
    }
   ],
   "source": [
    "# Confirmados PCR Huelva capitalpd\n",
    "c = df[df['Lugar de residencia'] == 'Huelva (capital)'][df['Medida'] == 'Confirmados PDIA']['Valor'].values[0]\n",
    "print('Confirmados PCR en Huelva capital: ', c)"
   ]
  },
  {
   "cell_type": "code",
   "execution_count": 9,
   "metadata": {
    "tags": []
   },
   "outputs": [
    {
     "output_type": "stream",
     "name": "stderr",
     "text": [
      "<ipython-input-9-f09dd2050cc1>:1: UserWarning: Boolean Series key will be reindexed to match DataFrame index.\n  c7 = df[df['Lugar de residencia'] == 'Huelva (capital)'][df['Medida'] == 'Confirmados PDIA 7 días']['Valor'].values[0]\n<ipython-input-9-f09dd2050cc1>:2: UserWarning: Boolean Series key will be reindexed to match DataFrame index.\n  c14 = df[df['Lugar de residencia'] == 'Huelva (capital)'][df['Medida'] == 'Confirmados PDIA 14 días']['Valor'].values[0]\n<ipython-input-9-f09dd2050cc1>:3: UserWarning: Boolean Series key will be reindexed to match DataFrame index.\n  p = df[df['Lugar de residencia'] == 'Huelva (capital)'][df['Medida'] == 'Población']['Valor'].values[0]\n"
     ]
    }
   ],
   "source": [
    "c7 = df[df['Lugar de residencia'] == 'Huelva (capital)'][df['Medida'] == 'Confirmados PDIA 7 días']['Valor'].values[0]\n",
    "c14 = df[df['Lugar de residencia'] == 'Huelva (capital)'][df['Medida'] == 'Confirmados PDIA 14 días']['Valor'].values[0]\n",
    "p = df[df['Lugar de residencia'] == 'Huelva (capital)'][df['Medida'] == 'Población']['Valor'].values[0]"
   ]
  },
  {
   "cell_type": "code",
   "execution_count": 10,
   "metadata": {
    "tags": []
   },
   "outputs": [
    {
     "output_type": "stream",
     "name": "stdout",
     "text": [
      "Huelva (capital)\n\nUn positivo PCR cada 8990 personas en los últimos 7 días \n\nUn positivo PCR cada 3196 personas en los últimos 14 días\n"
     ]
    }
   ],
   "source": [
    "print('Huelva (capital)\\n')\n",
    "#print('Confirmados PCR 7 días x 1,000 habitantes: ', f\"{c7/(p/1000):.5f}\")\n",
    "print('Un positivo PCR cada', f\"{p/c7:.0f}\", 'personas en los últimos 7 días', '\\n')\n",
    "#print('Confirmados PCR 14 días x 1,000 habitantes: ', f\"{c14/(p/1000):.5f}\")\n",
    "print('Un positivo PCR cada', f\"{p/c14:.0f}\", 'personas en los últimos 14 días')"
   ]
  },
  {
   "cell_type": "code",
   "execution_count": 11,
   "metadata": {},
   "outputs": [],
   "source": [
    "filtro = ((df['Medida'] == 'Confirmados PDIA')| (df['Medida'] == 'Confirmados PDIA 7 días') | (df['Medida'] == 'Población' ) | (df['Medida'] == 'Confirmados PDIA 14 días')) & (df['Valor'] > 0)\n",
    "tabla = pd.pivot_table(df.loc[filtro], values='Valor', index='Lugar de residencia', columns='Medida').dropna()"
   ]
  },
  {
   "cell_type": "code",
   "execution_count": 12,
   "metadata": {},
   "outputs": [],
   "source": [
    "# Reorder columns\n",
    "tabla = tabla[['Confirmados PDIA', 'Confirmados PDIA 7 días', 'Confirmados PDIA 14 días', 'Población']]"
   ]
  },
  {
   "cell_type": "code",
   "execution_count": 13,
   "metadata": {},
   "outputs": [],
   "source": [
    "tabla['tasa7'] = tabla['Confirmados PDIA 7 días']/tabla['Población']*100000\n",
    "tabla['tasa14'] = tabla['Confirmados PDIA 14 días']/tabla['Población']*100000"
   ]
  },
  {
   "cell_type": "code",
   "execution_count": 14,
   "metadata": {},
   "outputs": [],
   "source": [
    "tabla['Diferencia PDIA'] = tabla['Confirmados PDIA'] - dfAnterior['Confirmados PDIA']"
   ]
  },
  {
   "cell_type": "code",
   "execution_count": 15,
   "metadata": {},
   "outputs": [
    {
     "output_type": "execute_result",
     "data": {
      "text/plain": [
       "Medida                     Confirmados PDIA  Confirmados PDIA 7 días  \\\n",
       "Lugar de residencia                                                    \n",
       "Huelva                              24714.0                    124.0   \n",
       "Condado-Campiña                      6931.0                     51.0   \n",
       "Huelva-Costa                        15072.0                     72.0   \n",
       "Ayamonte                             1217.0                     23.0   \n",
       "Almonte                               875.0                     11.0   \n",
       "Huelva (capital)                     6568.0                     16.0   \n",
       "Moguer                                834.0                      5.0   \n",
       "San Juan del Puerto                   363.0                      5.0   \n",
       "Bollullos Par del Condado             617.0                      7.0   \n",
       "Cartaya                               957.0                      9.0   \n",
       "Lepe                                 1996.0                      2.0   \n",
       "Lucena del Puerto                     159.0                      6.0   \n",
       "Puebla de Guzmán                       97.0                     10.0   \n",
       "Isla Cristina                        1984.0                      7.0   \n",
       "Palma del Condado (La)                978.0                      2.0   \n",
       "San Bartolomé de la Torre             200.0                      7.0   \n",
       "Beas                                  160.0                      1.0   \n",
       "Gibraleón                             511.0                      2.0   \n",
       "San Silvestre de Guzmán                12.0                      1.0   \n",
       "Villalba del Alcor                    446.0                      1.0   \n",
       "\n",
       "Medida                     Confirmados PDIA 14 días  Población       tasa7  \\\n",
       "Lugar de residencia                                                          \n",
       "Huelva                                        245.0   513170.0   24.163533   \n",
       "Condado-Campiña                                97.0   156231.0   32.643970   \n",
       "Huelva-Costa                                  144.0   289548.0   24.866343   \n",
       "Ayamonte                                       31.0    21104.0  108.984079   \n",
       "Almonte                                        27.0    24507.0   44.885135   \n",
       "Huelva (capital)                               45.0   143837.0   11.123703   \n",
       "Moguer                                         14.0    21867.0   22.865505   \n",
       "San Juan del Puerto                             5.0     9411.0   53.129317   \n",
       "Bollullos Par del Condado                       8.0    14387.0   48.655036   \n",
       "Cartaya                                        20.0    20083.0   44.814022   \n",
       "Lepe                                           10.0    27880.0    7.173601   \n",
       "Lucena del Puerto                              12.0     3261.0  183.992640   \n",
       "Puebla de Guzmán                               16.0     3092.0  323.415265   \n",
       "Isla Cristina                                  10.0    21393.0   32.720983   \n",
       "Palma del Condado (La)                          9.0    10801.0   18.516804   \n",
       "San Bartolomé de la Torre                       9.0     3761.0  186.120713   \n",
       "Beas                                            1.0     4341.0   23.036167   \n",
       "Gibraleón                                       2.0    12737.0   15.702285   \n",
       "San Silvestre de Guzmán                         1.0      614.0  162.866450   \n",
       "Villalba del Alcor                              1.0     3366.0   29.708853   \n",
       "\n",
       "Medida                         tasa14  Diferencia PDIA  \n",
       "Lugar de residencia                                     \n",
       "Huelva                      47.742464             51.0  \n",
       "Condado-Campiña             62.087550             25.0  \n",
       "Huelva-Costa                49.732687             25.0  \n",
       "Ayamonte                   146.891585             12.0  \n",
       "Almonte                    110.172604              7.0  \n",
       "Huelva (capital)            31.285413              5.0  \n",
       "Moguer                      64.023414              4.0  \n",
       "San Juan del Puerto         53.129317              4.0  \n",
       "Bollullos Par del Condado   55.605755              2.0  \n",
       "Cartaya                     99.586715              2.0  \n",
       "Lepe                        35.868006              2.0  \n",
       "Lucena del Puerto          367.985281              2.0  \n",
       "Puebla de Guzmán           517.464424              2.0  \n",
       "Isla Cristina               46.744262              1.0  \n",
       "Palma del Condado (La)      83.325618              1.0  \n",
       "San Bartolomé de la Torre  239.298059              1.0  \n",
       "Beas                        23.036167              NaN  \n",
       "Gibraleón                   15.702285              NaN  \n",
       "San Silvestre de Guzmán    162.866450              NaN  \n",
       "Villalba del Alcor          29.708853              NaN  "
      ],
      "text/html": "<div>\n<style scoped>\n    .dataframe tbody tr th:only-of-type {\n        vertical-align: middle;\n    }\n\n    .dataframe tbody tr th {\n        vertical-align: top;\n    }\n\n    .dataframe thead th {\n        text-align: right;\n    }\n</style>\n<table border=\"1\" class=\"dataframe\">\n  <thead>\n    <tr style=\"text-align: right;\">\n      <th>Medida</th>\n      <th>Confirmados PDIA</th>\n      <th>Confirmados PDIA 7 días</th>\n      <th>Confirmados PDIA 14 días</th>\n      <th>Población</th>\n      <th>tasa7</th>\n      <th>tasa14</th>\n      <th>Diferencia PDIA</th>\n    </tr>\n    <tr>\n      <th>Lugar de residencia</th>\n      <th></th>\n      <th></th>\n      <th></th>\n      <th></th>\n      <th></th>\n      <th></th>\n      <th></th>\n    </tr>\n  </thead>\n  <tbody>\n    <tr>\n      <th>Huelva</th>\n      <td>24714.0</td>\n      <td>124.0</td>\n      <td>245.0</td>\n      <td>513170.0</td>\n      <td>24.163533</td>\n      <td>47.742464</td>\n      <td>51.0</td>\n    </tr>\n    <tr>\n      <th>Condado-Campiña</th>\n      <td>6931.0</td>\n      <td>51.0</td>\n      <td>97.0</td>\n      <td>156231.0</td>\n      <td>32.643970</td>\n      <td>62.087550</td>\n      <td>25.0</td>\n    </tr>\n    <tr>\n      <th>Huelva-Costa</th>\n      <td>15072.0</td>\n      <td>72.0</td>\n      <td>144.0</td>\n      <td>289548.0</td>\n      <td>24.866343</td>\n      <td>49.732687</td>\n      <td>25.0</td>\n    </tr>\n    <tr>\n      <th>Ayamonte</th>\n      <td>1217.0</td>\n      <td>23.0</td>\n      <td>31.0</td>\n      <td>21104.0</td>\n      <td>108.984079</td>\n      <td>146.891585</td>\n      <td>12.0</td>\n    </tr>\n    <tr>\n      <th>Almonte</th>\n      <td>875.0</td>\n      <td>11.0</td>\n      <td>27.0</td>\n      <td>24507.0</td>\n      <td>44.885135</td>\n      <td>110.172604</td>\n      <td>7.0</td>\n    </tr>\n    <tr>\n      <th>Huelva (capital)</th>\n      <td>6568.0</td>\n      <td>16.0</td>\n      <td>45.0</td>\n      <td>143837.0</td>\n      <td>11.123703</td>\n      <td>31.285413</td>\n      <td>5.0</td>\n    </tr>\n    <tr>\n      <th>Moguer</th>\n      <td>834.0</td>\n      <td>5.0</td>\n      <td>14.0</td>\n      <td>21867.0</td>\n      <td>22.865505</td>\n      <td>64.023414</td>\n      <td>4.0</td>\n    </tr>\n    <tr>\n      <th>San Juan del Puerto</th>\n      <td>363.0</td>\n      <td>5.0</td>\n      <td>5.0</td>\n      <td>9411.0</td>\n      <td>53.129317</td>\n      <td>53.129317</td>\n      <td>4.0</td>\n    </tr>\n    <tr>\n      <th>Bollullos Par del Condado</th>\n      <td>617.0</td>\n      <td>7.0</td>\n      <td>8.0</td>\n      <td>14387.0</td>\n      <td>48.655036</td>\n      <td>55.605755</td>\n      <td>2.0</td>\n    </tr>\n    <tr>\n      <th>Cartaya</th>\n      <td>957.0</td>\n      <td>9.0</td>\n      <td>20.0</td>\n      <td>20083.0</td>\n      <td>44.814022</td>\n      <td>99.586715</td>\n      <td>2.0</td>\n    </tr>\n    <tr>\n      <th>Lepe</th>\n      <td>1996.0</td>\n      <td>2.0</td>\n      <td>10.0</td>\n      <td>27880.0</td>\n      <td>7.173601</td>\n      <td>35.868006</td>\n      <td>2.0</td>\n    </tr>\n    <tr>\n      <th>Lucena del Puerto</th>\n      <td>159.0</td>\n      <td>6.0</td>\n      <td>12.0</td>\n      <td>3261.0</td>\n      <td>183.992640</td>\n      <td>367.985281</td>\n      <td>2.0</td>\n    </tr>\n    <tr>\n      <th>Puebla de Guzmán</th>\n      <td>97.0</td>\n      <td>10.0</td>\n      <td>16.0</td>\n      <td>3092.0</td>\n      <td>323.415265</td>\n      <td>517.464424</td>\n      <td>2.0</td>\n    </tr>\n    <tr>\n      <th>Isla Cristina</th>\n      <td>1984.0</td>\n      <td>7.0</td>\n      <td>10.0</td>\n      <td>21393.0</td>\n      <td>32.720983</td>\n      <td>46.744262</td>\n      <td>1.0</td>\n    </tr>\n    <tr>\n      <th>Palma del Condado (La)</th>\n      <td>978.0</td>\n      <td>2.0</td>\n      <td>9.0</td>\n      <td>10801.0</td>\n      <td>18.516804</td>\n      <td>83.325618</td>\n      <td>1.0</td>\n    </tr>\n    <tr>\n      <th>San Bartolomé de la Torre</th>\n      <td>200.0</td>\n      <td>7.0</td>\n      <td>9.0</td>\n      <td>3761.0</td>\n      <td>186.120713</td>\n      <td>239.298059</td>\n      <td>1.0</td>\n    </tr>\n    <tr>\n      <th>Beas</th>\n      <td>160.0</td>\n      <td>1.0</td>\n      <td>1.0</td>\n      <td>4341.0</td>\n      <td>23.036167</td>\n      <td>23.036167</td>\n      <td>NaN</td>\n    </tr>\n    <tr>\n      <th>Gibraleón</th>\n      <td>511.0</td>\n      <td>2.0</td>\n      <td>2.0</td>\n      <td>12737.0</td>\n      <td>15.702285</td>\n      <td>15.702285</td>\n      <td>NaN</td>\n    </tr>\n    <tr>\n      <th>San Silvestre de Guzmán</th>\n      <td>12.0</td>\n      <td>1.0</td>\n      <td>1.0</td>\n      <td>614.0</td>\n      <td>162.866450</td>\n      <td>162.866450</td>\n      <td>NaN</td>\n    </tr>\n    <tr>\n      <th>Villalba del Alcor</th>\n      <td>446.0</td>\n      <td>1.0</td>\n      <td>1.0</td>\n      <td>3366.0</td>\n      <td>29.708853</td>\n      <td>29.708853</td>\n      <td>NaN</td>\n    </tr>\n  </tbody>\n</table>\n</div>"
     },
     "metadata": {},
     "execution_count": 15
    }
   ],
   "source": [
    "# Nuevos casos desde la última captura\n",
    "tabla[tabla['Diferencia PDIA'] != 0].sort_values('Diferencia PDIA', ascending=False)"
   ]
  },
  {
   "cell_type": "code",
   "execution_count": 16,
   "metadata": {},
   "outputs": [],
   "source": [
    "if tabla[tabla['Diferencia PDIA'] != 0]['Diferencia PDIA'].sum() != 0:\n",
    "  # Save to csv\n",
    "  tabla.to_csv('covid_huelva.csv', encoding='utf-8', header=True, index=True)  "
   ]
  },
  {
   "cell_type": "code",
   "execution_count": 17,
   "metadata": {},
   "outputs": [
    {
     "output_type": "execute_result",
     "data": {
      "text/plain": [
       "Medida                         Confirmados PDIA  Confirmados PDIA 7 días  \\\n",
       "Lugar de residencia                                                        \n",
       "Puebla de Guzmán                           97.0                     10.0   \n",
       "Lucena del Puerto                         159.0                      6.0   \n",
       "San Bartolomé de la Torre                 200.0                      7.0   \n",
       "San Silvestre de Guzmán                    12.0                      1.0   \n",
       "Ayamonte                                 1217.0                     23.0   \n",
       "Almonte                                   875.0                     11.0   \n",
       "Cartaya                                   957.0                      9.0   \n",
       "Palma del Condado (La)                    978.0                      2.0   \n",
       "Moguer                                    834.0                      5.0   \n",
       "Condado-Campiña                          6931.0                     51.0   \n",
       "Bollullos Par del Condado                 617.0                      7.0   \n",
       "San Juan del Puerto                       363.0                      5.0   \n",
       "Alosno                                    122.0                      2.0   \n",
       "Huelva-Costa                            15072.0                     72.0   \n",
       "Huelva                                  24714.0                    124.0   \n",
       "Isla Cristina                            1984.0                      7.0   \n",
       "Rociana del Condado                       312.0                      2.0   \n",
       "Lepe                                     1996.0                      2.0   \n",
       "Villanueva de los Castillejos             153.0                      1.0   \n",
       "Palos de la Frontera                      451.0                      2.0   \n",
       "Huelva (capital)                         6568.0                     16.0   \n",
       "Villalba del Alcor                        446.0                      1.0   \n",
       "Beas                                      160.0                      1.0   \n",
       "Aljaraque                                 925.0                      1.0   \n",
       "Gibraleón                                 511.0                      2.0   \n",
       "\n",
       "Medida                         Confirmados PDIA 14 días  Población  \\\n",
       "Lugar de residencia                                                  \n",
       "Puebla de Guzmán                                   16.0     3092.0   \n",
       "Lucena del Puerto                                  12.0     3261.0   \n",
       "San Bartolomé de la Torre                           9.0     3761.0   \n",
       "San Silvestre de Guzmán                             1.0      614.0   \n",
       "Ayamonte                                           31.0    21104.0   \n",
       "Almonte                                            27.0    24507.0   \n",
       "Cartaya                                            20.0    20083.0   \n",
       "Palma del Condado (La)                              9.0    10801.0   \n",
       "Moguer                                             14.0    21867.0   \n",
       "Condado-Campiña                                    97.0   156231.0   \n",
       "Bollullos Par del Condado                           8.0    14387.0   \n",
       "San Juan del Puerto                                 5.0     9411.0   \n",
       "Alosno                                              2.0     3933.0   \n",
       "Huelva-Costa                                      144.0   289548.0   \n",
       "Huelva                                            245.0   513170.0   \n",
       "Isla Cristina                                      10.0    21393.0   \n",
       "Rociana del Condado                                 3.0     7939.0   \n",
       "Lepe                                               10.0    27880.0   \n",
       "Villanueva de los Castillejos                       1.0     2825.0   \n",
       "Palos de la Frontera                                4.0    11742.0   \n",
       "Huelva (capital)                                   45.0   143837.0   \n",
       "Villalba del Alcor                                  1.0     3366.0   \n",
       "Beas                                                1.0     4341.0   \n",
       "Aljaraque                                           4.0    21474.0   \n",
       "Gibraleón                                           2.0    12737.0   \n",
       "\n",
       "Medida                              tasa7      tasa14  Diferencia PDIA  \n",
       "Lugar de residencia                                                     \n",
       "Puebla de Guzmán               323.415265  517.464424              2.0  \n",
       "Lucena del Puerto              183.992640  367.985281              2.0  \n",
       "San Bartolomé de la Torre      186.120713  239.298059              1.0  \n",
       "San Silvestre de Guzmán        162.866450  162.866450              NaN  \n",
       "Ayamonte                       108.984079  146.891585             12.0  \n",
       "Almonte                         44.885135  110.172604              7.0  \n",
       "Cartaya                         44.814022   99.586715              2.0  \n",
       "Palma del Condado (La)          18.516804   83.325618              1.0  \n",
       "Moguer                          22.865505   64.023414              4.0  \n",
       "Condado-Campiña                 32.643970   62.087550             25.0  \n",
       "Bollullos Par del Condado       48.655036   55.605755              2.0  \n",
       "San Juan del Puerto             53.129317   53.129317              4.0  \n",
       "Alosno                          50.851767   50.851767              0.0  \n",
       "Huelva-Costa                    24.866343   49.732687             25.0  \n",
       "Huelva                          24.163533   47.742464             51.0  \n",
       "Isla Cristina                   32.720983   46.744262              1.0  \n",
       "Rociana del Condado             25.192090   37.788135              0.0  \n",
       "Lepe                             7.173601   35.868006              2.0  \n",
       "Villanueva de los Castillejos   35.398230   35.398230              0.0  \n",
       "Palos de la Frontera            17.032873   34.065747              0.0  \n",
       "Huelva (capital)                11.123703   31.285413              5.0  \n",
       "Villalba del Alcor              29.708853   29.708853              NaN  \n",
       "Beas                            23.036167   23.036167              NaN  \n",
       "Aljaraque                        4.656794   18.627177              0.0  \n",
       "Gibraleón                       15.702285   15.702285              NaN  "
      ],
      "text/html": "<div>\n<style scoped>\n    .dataframe tbody tr th:only-of-type {\n        vertical-align: middle;\n    }\n\n    .dataframe tbody tr th {\n        vertical-align: top;\n    }\n\n    .dataframe thead th {\n        text-align: right;\n    }\n</style>\n<table border=\"1\" class=\"dataframe\">\n  <thead>\n    <tr style=\"text-align: right;\">\n      <th>Medida</th>\n      <th>Confirmados PDIA</th>\n      <th>Confirmados PDIA 7 días</th>\n      <th>Confirmados PDIA 14 días</th>\n      <th>Población</th>\n      <th>tasa7</th>\n      <th>tasa14</th>\n      <th>Diferencia PDIA</th>\n    </tr>\n    <tr>\n      <th>Lugar de residencia</th>\n      <th></th>\n      <th></th>\n      <th></th>\n      <th></th>\n      <th></th>\n      <th></th>\n      <th></th>\n    </tr>\n  </thead>\n  <tbody>\n    <tr>\n      <th>Puebla de Guzmán</th>\n      <td>97.0</td>\n      <td>10.0</td>\n      <td>16.0</td>\n      <td>3092.0</td>\n      <td>323.415265</td>\n      <td>517.464424</td>\n      <td>2.0</td>\n    </tr>\n    <tr>\n      <th>Lucena del Puerto</th>\n      <td>159.0</td>\n      <td>6.0</td>\n      <td>12.0</td>\n      <td>3261.0</td>\n      <td>183.992640</td>\n      <td>367.985281</td>\n      <td>2.0</td>\n    </tr>\n    <tr>\n      <th>San Bartolomé de la Torre</th>\n      <td>200.0</td>\n      <td>7.0</td>\n      <td>9.0</td>\n      <td>3761.0</td>\n      <td>186.120713</td>\n      <td>239.298059</td>\n      <td>1.0</td>\n    </tr>\n    <tr>\n      <th>San Silvestre de Guzmán</th>\n      <td>12.0</td>\n      <td>1.0</td>\n      <td>1.0</td>\n      <td>614.0</td>\n      <td>162.866450</td>\n      <td>162.866450</td>\n      <td>NaN</td>\n    </tr>\n    <tr>\n      <th>Ayamonte</th>\n      <td>1217.0</td>\n      <td>23.0</td>\n      <td>31.0</td>\n      <td>21104.0</td>\n      <td>108.984079</td>\n      <td>146.891585</td>\n      <td>12.0</td>\n    </tr>\n    <tr>\n      <th>Almonte</th>\n      <td>875.0</td>\n      <td>11.0</td>\n      <td>27.0</td>\n      <td>24507.0</td>\n      <td>44.885135</td>\n      <td>110.172604</td>\n      <td>7.0</td>\n    </tr>\n    <tr>\n      <th>Cartaya</th>\n      <td>957.0</td>\n      <td>9.0</td>\n      <td>20.0</td>\n      <td>20083.0</td>\n      <td>44.814022</td>\n      <td>99.586715</td>\n      <td>2.0</td>\n    </tr>\n    <tr>\n      <th>Palma del Condado (La)</th>\n      <td>978.0</td>\n      <td>2.0</td>\n      <td>9.0</td>\n      <td>10801.0</td>\n      <td>18.516804</td>\n      <td>83.325618</td>\n      <td>1.0</td>\n    </tr>\n    <tr>\n      <th>Moguer</th>\n      <td>834.0</td>\n      <td>5.0</td>\n      <td>14.0</td>\n      <td>21867.0</td>\n      <td>22.865505</td>\n      <td>64.023414</td>\n      <td>4.0</td>\n    </tr>\n    <tr>\n      <th>Condado-Campiña</th>\n      <td>6931.0</td>\n      <td>51.0</td>\n      <td>97.0</td>\n      <td>156231.0</td>\n      <td>32.643970</td>\n      <td>62.087550</td>\n      <td>25.0</td>\n    </tr>\n    <tr>\n      <th>Bollullos Par del Condado</th>\n      <td>617.0</td>\n      <td>7.0</td>\n      <td>8.0</td>\n      <td>14387.0</td>\n      <td>48.655036</td>\n      <td>55.605755</td>\n      <td>2.0</td>\n    </tr>\n    <tr>\n      <th>San Juan del Puerto</th>\n      <td>363.0</td>\n      <td>5.0</td>\n      <td>5.0</td>\n      <td>9411.0</td>\n      <td>53.129317</td>\n      <td>53.129317</td>\n      <td>4.0</td>\n    </tr>\n    <tr>\n      <th>Alosno</th>\n      <td>122.0</td>\n      <td>2.0</td>\n      <td>2.0</td>\n      <td>3933.0</td>\n      <td>50.851767</td>\n      <td>50.851767</td>\n      <td>0.0</td>\n    </tr>\n    <tr>\n      <th>Huelva-Costa</th>\n      <td>15072.0</td>\n      <td>72.0</td>\n      <td>144.0</td>\n      <td>289548.0</td>\n      <td>24.866343</td>\n      <td>49.732687</td>\n      <td>25.0</td>\n    </tr>\n    <tr>\n      <th>Huelva</th>\n      <td>24714.0</td>\n      <td>124.0</td>\n      <td>245.0</td>\n      <td>513170.0</td>\n      <td>24.163533</td>\n      <td>47.742464</td>\n      <td>51.0</td>\n    </tr>\n    <tr>\n      <th>Isla Cristina</th>\n      <td>1984.0</td>\n      <td>7.0</td>\n      <td>10.0</td>\n      <td>21393.0</td>\n      <td>32.720983</td>\n      <td>46.744262</td>\n      <td>1.0</td>\n    </tr>\n    <tr>\n      <th>Rociana del Condado</th>\n      <td>312.0</td>\n      <td>2.0</td>\n      <td>3.0</td>\n      <td>7939.0</td>\n      <td>25.192090</td>\n      <td>37.788135</td>\n      <td>0.0</td>\n    </tr>\n    <tr>\n      <th>Lepe</th>\n      <td>1996.0</td>\n      <td>2.0</td>\n      <td>10.0</td>\n      <td>27880.0</td>\n      <td>7.173601</td>\n      <td>35.868006</td>\n      <td>2.0</td>\n    </tr>\n    <tr>\n      <th>Villanueva de los Castillejos</th>\n      <td>153.0</td>\n      <td>1.0</td>\n      <td>1.0</td>\n      <td>2825.0</td>\n      <td>35.398230</td>\n      <td>35.398230</td>\n      <td>0.0</td>\n    </tr>\n    <tr>\n      <th>Palos de la Frontera</th>\n      <td>451.0</td>\n      <td>2.0</td>\n      <td>4.0</td>\n      <td>11742.0</td>\n      <td>17.032873</td>\n      <td>34.065747</td>\n      <td>0.0</td>\n    </tr>\n    <tr>\n      <th>Huelva (capital)</th>\n      <td>6568.0</td>\n      <td>16.0</td>\n      <td>45.0</td>\n      <td>143837.0</td>\n      <td>11.123703</td>\n      <td>31.285413</td>\n      <td>5.0</td>\n    </tr>\n    <tr>\n      <th>Villalba del Alcor</th>\n      <td>446.0</td>\n      <td>1.0</td>\n      <td>1.0</td>\n      <td>3366.0</td>\n      <td>29.708853</td>\n      <td>29.708853</td>\n      <td>NaN</td>\n    </tr>\n    <tr>\n      <th>Beas</th>\n      <td>160.0</td>\n      <td>1.0</td>\n      <td>1.0</td>\n      <td>4341.0</td>\n      <td>23.036167</td>\n      <td>23.036167</td>\n      <td>NaN</td>\n    </tr>\n    <tr>\n      <th>Aljaraque</th>\n      <td>925.0</td>\n      <td>1.0</td>\n      <td>4.0</td>\n      <td>21474.0</td>\n      <td>4.656794</td>\n      <td>18.627177</td>\n      <td>0.0</td>\n    </tr>\n    <tr>\n      <th>Gibraleón</th>\n      <td>511.0</td>\n      <td>2.0</td>\n      <td>2.0</td>\n      <td>12737.0</td>\n      <td>15.702285</td>\n      <td>15.702285</td>\n      <td>NaN</td>\n    </tr>\n  </tbody>\n</table>\n</div>"
     },
     "metadata": {},
     "execution_count": 17
    }
   ],
   "source": [
    "tabla.sort_values('tasa14', ascending=False)"
   ]
  },
  {
   "cell_type": "code",
   "execution_count": 18,
   "metadata": {},
   "outputs": [
    {
     "output_type": "execute_result",
     "data": {
      "text/plain": [
       "Medida                         Confirmados PDIA  Confirmados PDIA 7 días  \\\n",
       "Lugar de residencia                                                        \n",
       "Lepe                                     1996.0                      2.0   \n",
       "Palma del Condado (La)                    978.0                      2.0   \n",
       "Aljaraque                                 925.0                      1.0   \n",
       "Huelva (capital)                         6568.0                     16.0   \n",
       "Moguer                                    834.0                      5.0   \n",
       "Almonte                                   875.0                     11.0   \n",
       "Cartaya                                   957.0                      9.0   \n",
       "Palos de la Frontera                      451.0                      2.0   \n",
       "Huelva-Costa                            15072.0                     72.0   \n",
       "Lucena del Puerto                         159.0                      6.0   \n",
       "Huelva                                  24714.0                    124.0   \n",
       "Condado-Campiña                          6931.0                     51.0   \n",
       "Puebla de Guzmán                           97.0                     10.0   \n",
       "Rociana del Condado                       312.0                      2.0   \n",
       "Isla Cristina                            1984.0                      7.0   \n",
       "Ayamonte                                 1217.0                     23.0   \n",
       "San Bartolomé de la Torre                 200.0                      7.0   \n",
       "Bollullos Par del Condado                 617.0                      7.0   \n",
       "Gibraleón                                 511.0                      2.0   \n",
       "Beas                                      160.0                      1.0   \n",
       "Alosno                                    122.0                      2.0   \n",
       "San Juan del Puerto                       363.0                      5.0   \n",
       "San Silvestre de Guzmán                    12.0                      1.0   \n",
       "Villalba del Alcor                        446.0                      1.0   \n",
       "Villanueva de los Castillejos             153.0                      1.0   \n",
       "\n",
       "Medida                         Confirmados PDIA 14 días  Población  \\\n",
       "Lugar de residencia                                                  \n",
       "Lepe                                               10.0    27880.0   \n",
       "Palma del Condado (La)                              9.0    10801.0   \n",
       "Aljaraque                                           4.0    21474.0   \n",
       "Huelva (capital)                                   45.0   143837.0   \n",
       "Moguer                                             14.0    21867.0   \n",
       "Almonte                                            27.0    24507.0   \n",
       "Cartaya                                            20.0    20083.0   \n",
       "Palos de la Frontera                                4.0    11742.0   \n",
       "Huelva-Costa                                      144.0   289548.0   \n",
       "Lucena del Puerto                                  12.0     3261.0   \n",
       "Huelva                                            245.0   513170.0   \n",
       "Condado-Campiña                                    97.0   156231.0   \n",
       "Puebla de Guzmán                                   16.0     3092.0   \n",
       "Rociana del Condado                                 3.0     7939.0   \n",
       "Isla Cristina                                      10.0    21393.0   \n",
       "Ayamonte                                           31.0    21104.0   \n",
       "San Bartolomé de la Torre                           9.0     3761.0   \n",
       "Bollullos Par del Condado                           8.0    14387.0   \n",
       "Gibraleón                                           2.0    12737.0   \n",
       "Beas                                                1.0     4341.0   \n",
       "Alosno                                              2.0     3933.0   \n",
       "San Juan del Puerto                                 5.0     9411.0   \n",
       "San Silvestre de Guzmán                             1.0      614.0   \n",
       "Villalba del Alcor                                  1.0     3366.0   \n",
       "Villanueva de los Castillejos                       1.0     2825.0   \n",
       "\n",
       "Medida                              tasa7      tasa14  Diferencia PDIA  \\\n",
       "Lugar de residencia                                                      \n",
       "Lepe                             7.173601   35.868006              2.0   \n",
       "Palma del Condado (La)          18.516804   83.325618              1.0   \n",
       "Aljaraque                        4.656794   18.627177              0.0   \n",
       "Huelva (capital)                11.123703   31.285413              5.0   \n",
       "Moguer                          22.865505   64.023414              4.0   \n",
       "Almonte                         44.885135  110.172604              7.0   \n",
       "Cartaya                         44.814022   99.586715              2.0   \n",
       "Palos de la Frontera            17.032873   34.065747              0.0   \n",
       "Huelva-Costa                    24.866343   49.732687             25.0   \n",
       "Lucena del Puerto              183.992640  367.985281              2.0   \n",
       "Huelva                          24.163533   47.742464             51.0   \n",
       "Condado-Campiña                 32.643970   62.087550             25.0   \n",
       "Puebla de Guzmán               323.415265  517.464424              2.0   \n",
       "Rociana del Condado             25.192090   37.788135              0.0   \n",
       "Isla Cristina                   32.720983   46.744262              1.0   \n",
       "Ayamonte                       108.984079  146.891585             12.0   \n",
       "San Bartolomé de la Torre      186.120713  239.298059              1.0   \n",
       "Bollullos Par del Condado       48.655036   55.605755              2.0   \n",
       "Gibraleón                       15.702285   15.702285              0.0   \n",
       "Beas                            23.036167   23.036167              0.0   \n",
       "Alosno                          50.851767   50.851767              0.0   \n",
       "San Juan del Puerto             53.129317   53.129317              4.0   \n",
       "San Silvestre de Guzmán        162.866450  162.866450              0.0   \n",
       "Villalba del Alcor              29.708853   29.708853              0.0   \n",
       "Villanueva de los Castillejos   35.398230   35.398230              0.0   \n",
       "\n",
       "Medida                             7/14  \n",
       "Lugar de residencia                      \n",
       "Lepe                           0.200000  \n",
       "Palma del Condado (La)         0.222222  \n",
       "Aljaraque                      0.250000  \n",
       "Huelva (capital)               0.355556  \n",
       "Moguer                         0.357143  \n",
       "Almonte                        0.407407  \n",
       "Cartaya                        0.450000  \n",
       "Palos de la Frontera           0.500000  \n",
       "Huelva-Costa                   0.500000  \n",
       "Lucena del Puerto              0.500000  \n",
       "Huelva                         0.506122  \n",
       "Condado-Campiña                0.525773  \n",
       "Puebla de Guzmán               0.625000  \n",
       "Rociana del Condado            0.666667  \n",
       "Isla Cristina                  0.700000  \n",
       "Ayamonte                       0.741935  \n",
       "San Bartolomé de la Torre      0.777778  \n",
       "Bollullos Par del Condado      0.875000  \n",
       "Gibraleón                      1.000000  \n",
       "Beas                           1.000000  \n",
       "Alosno                         1.000000  \n",
       "San Juan del Puerto            1.000000  \n",
       "San Silvestre de Guzmán        1.000000  \n",
       "Villalba del Alcor             1.000000  \n",
       "Villanueva de los Castillejos  1.000000  "
      ],
      "text/html": "<div>\n<style scoped>\n    .dataframe tbody tr th:only-of-type {\n        vertical-align: middle;\n    }\n\n    .dataframe tbody tr th {\n        vertical-align: top;\n    }\n\n    .dataframe thead th {\n        text-align: right;\n    }\n</style>\n<table border=\"1\" class=\"dataframe\">\n  <thead>\n    <tr style=\"text-align: right;\">\n      <th>Medida</th>\n      <th>Confirmados PDIA</th>\n      <th>Confirmados PDIA 7 días</th>\n      <th>Confirmados PDIA 14 días</th>\n      <th>Población</th>\n      <th>tasa7</th>\n      <th>tasa14</th>\n      <th>Diferencia PDIA</th>\n      <th>7/14</th>\n    </tr>\n    <tr>\n      <th>Lugar de residencia</th>\n      <th></th>\n      <th></th>\n      <th></th>\n      <th></th>\n      <th></th>\n      <th></th>\n      <th></th>\n      <th></th>\n    </tr>\n  </thead>\n  <tbody>\n    <tr>\n      <th>Lepe</th>\n      <td>1996.0</td>\n      <td>2.0</td>\n      <td>10.0</td>\n      <td>27880.0</td>\n      <td>7.173601</td>\n      <td>35.868006</td>\n      <td>2.0</td>\n      <td>0.200000</td>\n    </tr>\n    <tr>\n      <th>Palma del Condado (La)</th>\n      <td>978.0</td>\n      <td>2.0</td>\n      <td>9.0</td>\n      <td>10801.0</td>\n      <td>18.516804</td>\n      <td>83.325618</td>\n      <td>1.0</td>\n      <td>0.222222</td>\n    </tr>\n    <tr>\n      <th>Aljaraque</th>\n      <td>925.0</td>\n      <td>1.0</td>\n      <td>4.0</td>\n      <td>21474.0</td>\n      <td>4.656794</td>\n      <td>18.627177</td>\n      <td>0.0</td>\n      <td>0.250000</td>\n    </tr>\n    <tr>\n      <th>Huelva (capital)</th>\n      <td>6568.0</td>\n      <td>16.0</td>\n      <td>45.0</td>\n      <td>143837.0</td>\n      <td>11.123703</td>\n      <td>31.285413</td>\n      <td>5.0</td>\n      <td>0.355556</td>\n    </tr>\n    <tr>\n      <th>Moguer</th>\n      <td>834.0</td>\n      <td>5.0</td>\n      <td>14.0</td>\n      <td>21867.0</td>\n      <td>22.865505</td>\n      <td>64.023414</td>\n      <td>4.0</td>\n      <td>0.357143</td>\n    </tr>\n    <tr>\n      <th>Almonte</th>\n      <td>875.0</td>\n      <td>11.0</td>\n      <td>27.0</td>\n      <td>24507.0</td>\n      <td>44.885135</td>\n      <td>110.172604</td>\n      <td>7.0</td>\n      <td>0.407407</td>\n    </tr>\n    <tr>\n      <th>Cartaya</th>\n      <td>957.0</td>\n      <td>9.0</td>\n      <td>20.0</td>\n      <td>20083.0</td>\n      <td>44.814022</td>\n      <td>99.586715</td>\n      <td>2.0</td>\n      <td>0.450000</td>\n    </tr>\n    <tr>\n      <th>Palos de la Frontera</th>\n      <td>451.0</td>\n      <td>2.0</td>\n      <td>4.0</td>\n      <td>11742.0</td>\n      <td>17.032873</td>\n      <td>34.065747</td>\n      <td>0.0</td>\n      <td>0.500000</td>\n    </tr>\n    <tr>\n      <th>Huelva-Costa</th>\n      <td>15072.0</td>\n      <td>72.0</td>\n      <td>144.0</td>\n      <td>289548.0</td>\n      <td>24.866343</td>\n      <td>49.732687</td>\n      <td>25.0</td>\n      <td>0.500000</td>\n    </tr>\n    <tr>\n      <th>Lucena del Puerto</th>\n      <td>159.0</td>\n      <td>6.0</td>\n      <td>12.0</td>\n      <td>3261.0</td>\n      <td>183.992640</td>\n      <td>367.985281</td>\n      <td>2.0</td>\n      <td>0.500000</td>\n    </tr>\n    <tr>\n      <th>Huelva</th>\n      <td>24714.0</td>\n      <td>124.0</td>\n      <td>245.0</td>\n      <td>513170.0</td>\n      <td>24.163533</td>\n      <td>47.742464</td>\n      <td>51.0</td>\n      <td>0.506122</td>\n    </tr>\n    <tr>\n      <th>Condado-Campiña</th>\n      <td>6931.0</td>\n      <td>51.0</td>\n      <td>97.0</td>\n      <td>156231.0</td>\n      <td>32.643970</td>\n      <td>62.087550</td>\n      <td>25.0</td>\n      <td>0.525773</td>\n    </tr>\n    <tr>\n      <th>Puebla de Guzmán</th>\n      <td>97.0</td>\n      <td>10.0</td>\n      <td>16.0</td>\n      <td>3092.0</td>\n      <td>323.415265</td>\n      <td>517.464424</td>\n      <td>2.0</td>\n      <td>0.625000</td>\n    </tr>\n    <tr>\n      <th>Rociana del Condado</th>\n      <td>312.0</td>\n      <td>2.0</td>\n      <td>3.0</td>\n      <td>7939.0</td>\n      <td>25.192090</td>\n      <td>37.788135</td>\n      <td>0.0</td>\n      <td>0.666667</td>\n    </tr>\n    <tr>\n      <th>Isla Cristina</th>\n      <td>1984.0</td>\n      <td>7.0</td>\n      <td>10.0</td>\n      <td>21393.0</td>\n      <td>32.720983</td>\n      <td>46.744262</td>\n      <td>1.0</td>\n      <td>0.700000</td>\n    </tr>\n    <tr>\n      <th>Ayamonte</th>\n      <td>1217.0</td>\n      <td>23.0</td>\n      <td>31.0</td>\n      <td>21104.0</td>\n      <td>108.984079</td>\n      <td>146.891585</td>\n      <td>12.0</td>\n      <td>0.741935</td>\n    </tr>\n    <tr>\n      <th>San Bartolomé de la Torre</th>\n      <td>200.0</td>\n      <td>7.0</td>\n      <td>9.0</td>\n      <td>3761.0</td>\n      <td>186.120713</td>\n      <td>239.298059</td>\n      <td>1.0</td>\n      <td>0.777778</td>\n    </tr>\n    <tr>\n      <th>Bollullos Par del Condado</th>\n      <td>617.0</td>\n      <td>7.0</td>\n      <td>8.0</td>\n      <td>14387.0</td>\n      <td>48.655036</td>\n      <td>55.605755</td>\n      <td>2.0</td>\n      <td>0.875000</td>\n    </tr>\n    <tr>\n      <th>Gibraleón</th>\n      <td>511.0</td>\n      <td>2.0</td>\n      <td>2.0</td>\n      <td>12737.0</td>\n      <td>15.702285</td>\n      <td>15.702285</td>\n      <td>0.0</td>\n      <td>1.000000</td>\n    </tr>\n    <tr>\n      <th>Beas</th>\n      <td>160.0</td>\n      <td>1.0</td>\n      <td>1.0</td>\n      <td>4341.0</td>\n      <td>23.036167</td>\n      <td>23.036167</td>\n      <td>0.0</td>\n      <td>1.000000</td>\n    </tr>\n    <tr>\n      <th>Alosno</th>\n      <td>122.0</td>\n      <td>2.0</td>\n      <td>2.0</td>\n      <td>3933.0</td>\n      <td>50.851767</td>\n      <td>50.851767</td>\n      <td>0.0</td>\n      <td>1.000000</td>\n    </tr>\n    <tr>\n      <th>San Juan del Puerto</th>\n      <td>363.0</td>\n      <td>5.0</td>\n      <td>5.0</td>\n      <td>9411.0</td>\n      <td>53.129317</td>\n      <td>53.129317</td>\n      <td>4.0</td>\n      <td>1.000000</td>\n    </tr>\n    <tr>\n      <th>San Silvestre de Guzmán</th>\n      <td>12.0</td>\n      <td>1.0</td>\n      <td>1.0</td>\n      <td>614.0</td>\n      <td>162.866450</td>\n      <td>162.866450</td>\n      <td>0.0</td>\n      <td>1.000000</td>\n    </tr>\n    <tr>\n      <th>Villalba del Alcor</th>\n      <td>446.0</td>\n      <td>1.0</td>\n      <td>1.0</td>\n      <td>3366.0</td>\n      <td>29.708853</td>\n      <td>29.708853</td>\n      <td>0.0</td>\n      <td>1.000000</td>\n    </tr>\n    <tr>\n      <th>Villanueva de los Castillejos</th>\n      <td>153.0</td>\n      <td>1.0</td>\n      <td>1.0</td>\n      <td>2825.0</td>\n      <td>35.398230</td>\n      <td>35.398230</td>\n      <td>0.0</td>\n      <td>1.000000</td>\n    </tr>\n  </tbody>\n</table>\n</div>"
     },
     "metadata": {},
     "execution_count": 18
    }
   ],
   "source": [
    "# Peso de la tasa de la última semana en relación con la tasa a 14 días \n",
    "# Mejor cuanto menor. Valor 1 significa que no había casos antes de 7 días.\n",
    "tabla['7/14'] = tabla['tasa7'] / tabla['tasa14']\n",
    "tabla.fillna(0).sort_values('7/14', ascending=True)"
   ]
  },
  {
   "cell_type": "code",
   "execution_count": null,
   "metadata": {},
   "outputs": [],
   "source": []
  }
 ]
}