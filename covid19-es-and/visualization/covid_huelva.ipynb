{
 "metadata": {
  "language_info": {
   "codemirror_mode": {
    "name": "ipython",
    "version": 3
   },
   "file_extension": ".py",
   "mimetype": "text/x-python",
   "name": "python",
   "nbconvert_exporter": "python",
   "pygments_lexer": "ipython3",
   "version": "3.8.6-final"
  },
  "orig_nbformat": 2,
  "kernelspec": {
   "name": "python38564bit75945252d6ba481bad4868286020c89e",
   "display_name": "Python 3.8.5 64-bit",
   "language": "python"
  }
 },
 "nbformat": 4,
 "nbformat_minor": 2,
 "cells": [
  {
   "cell_type": "code",
   "execution_count": 1,
   "metadata": {},
   "outputs": [],
   "source": [
    "import pandas as pd\n",
    "pd.set_option('display.max_rows', None) # Print all rows"
   ]
  },
  {
   "cell_type": "code",
   "execution_count": 2,
   "metadata": {},
   "outputs": [],
   "source": [
    "# FIX SSL: CERTIFICATE_VERIFY_FAILED with Python3\n",
    "# https://stackoverflow.com/a/49174340\n",
    "import ssl\n",
    "\n",
    "ssl._create_default_https_context = ssl._create_unverified_context"
   ]
  },
  {
   "cell_type": "code",
   "execution_count": 3,
   "metadata": {},
   "outputs": [],
   "source": [
    "url = 'https://www.juntadeandalucia.es/institutodeestadisticaycartografia/badea/stpivot/stpivot/Print?cube=013d884c-cfc5-4c21-9e78-e26225682afd&type=3&foto=si&ejecutaDesde=&codConsulta=38668&consTipoVisua=JP'\n",
    "fields = ['Lugar de residencia', 'Medida', 'Valor']\n",
    "df = pd.read_csv(url, delimiter=';', usecols=fields, decimal=',')"
   ]
  },
  {
   "cell_type": "code",
   "execution_count": 4,
   "metadata": {},
   "outputs": [
    {
     "output_type": "execute_result",
     "data": {
      "text/plain": [
       "  Lugar de residencia                    Medida              Valor\n",
       "0              Huelva                 Población             513170\n",
       "1              Huelva          Confirmados PDIA              24617\n",
       "2              Huelva  Confirmados PDIA 14 días                293\n",
       "3              Huelva         Tasa PDIA 14 días  57,09608901533605\n",
       "4              Huelva   Confirmados PDIA 7 días                132\n",
       "5              Huelva        Total Confirmados               24837\n",
       "6              Huelva                   Curados              16619\n",
       "7              Huelva                Fallecidos                305"
      ],
      "text/html": "<div>\n<style scoped>\n    .dataframe tbody tr th:only-of-type {\n        vertical-align: middle;\n    }\n\n    .dataframe tbody tr th {\n        vertical-align: top;\n    }\n\n    .dataframe thead th {\n        text-align: right;\n    }\n</style>\n<table border=\"1\" class=\"dataframe\">\n  <thead>\n    <tr style=\"text-align: right;\">\n      <th></th>\n      <th>Lugar de residencia</th>\n      <th>Medida</th>\n      <th>Valor</th>\n    </tr>\n  </thead>\n  <tbody>\n    <tr>\n      <th>0</th>\n      <td>Huelva</td>\n      <td>Población</td>\n      <td>513170</td>\n    </tr>\n    <tr>\n      <th>1</th>\n      <td>Huelva</td>\n      <td>Confirmados PDIA</td>\n      <td>24617</td>\n    </tr>\n    <tr>\n      <th>2</th>\n      <td>Huelva</td>\n      <td>Confirmados PDIA 14 días</td>\n      <td>293</td>\n    </tr>\n    <tr>\n      <th>3</th>\n      <td>Huelva</td>\n      <td>Tasa PDIA 14 días</td>\n      <td>57,09608901533605</td>\n    </tr>\n    <tr>\n      <th>4</th>\n      <td>Huelva</td>\n      <td>Confirmados PDIA 7 días</td>\n      <td>132</td>\n    </tr>\n    <tr>\n      <th>5</th>\n      <td>Huelva</td>\n      <td>Total Confirmados</td>\n      <td>24837</td>\n    </tr>\n    <tr>\n      <th>6</th>\n      <td>Huelva</td>\n      <td>Curados</td>\n      <td>16619</td>\n    </tr>\n    <tr>\n      <th>7</th>\n      <td>Huelva</td>\n      <td>Fallecidos</td>\n      <td>305</td>\n    </tr>\n  </tbody>\n</table>\n</div>"
     },
     "metadata": {},
     "execution_count": 4
    }
   ],
   "source": [
    "df[df['Lugar de residencia'] == 'Huelva']"
   ]
  },
  {
   "cell_type": "code",
   "execution_count": 5,
   "metadata": {},
   "outputs": [],
   "source": [
    "df['Valor'] = pd.to_numeric(df['Valor'],errors='coerce')"
   ]
  },
  {
   "cell_type": "code",
   "execution_count": 6,
   "metadata": {},
   "outputs": [],
   "source": [
    "dfAnterior = pd.read_csv('covid_huelva.csv', index_col='Lugar de residencia')"
   ]
  },
  {
   "cell_type": "code",
   "execution_count": 7,
   "metadata": {
    "tags": []
   },
   "outputs": [
    {
     "output_type": "stream",
     "name": "stdout",
     "text": [
      "Confirmados PCR en la provincia de Huelva:  24617.0\n",
      "<ipython-input-7-31b732756b19>:2: UserWarning: Boolean Series key will be reindexed to match DataFrame index.\n",
      "  p = df[df['Lugar de residencia'] == 'Huelva'][df['Medida'] == 'Confirmados PDIA']['Valor'].values[0]\n"
     ]
    }
   ],
   "source": [
    "# Confirmados PCR provincia Huelva\n",
    "p = df[df['Lugar de residencia'] == 'Huelva'][df['Medida'] == 'Confirmados PDIA']['Valor'].values[0]\n",
    "print('Confirmados PCR en la provincia de Huelva: ', p)"
   ]
  },
  {
   "cell_type": "code",
   "execution_count": 8,
   "metadata": {
    "tags": []
   },
   "outputs": [
    {
     "output_type": "stream",
     "name": "stdout",
     "text": [
      "Confirmados PCR en Huelva capital:  6558.0\n",
      "<ipython-input-8-e81bfb40e710>:2: UserWarning: Boolean Series key will be reindexed to match DataFrame index.\n",
      "  c = df[df['Lugar de residencia'] == 'Huelva (capital)'][df['Medida'] == 'Confirmados PDIA']['Valor'].values[0]\n"
     ]
    }
   ],
   "source": [
    "# Confirmados PCR Huelva capitalpd\n",
    "c = df[df['Lugar de residencia'] == 'Huelva (capital)'][df['Medida'] == 'Confirmados PDIA']['Valor'].values[0]\n",
    "print('Confirmados PCR en Huelva capital: ', c)"
   ]
  },
  {
   "cell_type": "code",
   "execution_count": 9,
   "metadata": {
    "tags": []
   },
   "outputs": [
    {
     "output_type": "stream",
     "name": "stderr",
     "text": [
      "<ipython-input-9-f09dd2050cc1>:1: UserWarning: Boolean Series key will be reindexed to match DataFrame index.\n  c7 = df[df['Lugar de residencia'] == 'Huelva (capital)'][df['Medida'] == 'Confirmados PDIA 7 días']['Valor'].values[0]\n<ipython-input-9-f09dd2050cc1>:2: UserWarning: Boolean Series key will be reindexed to match DataFrame index.\n  c14 = df[df['Lugar de residencia'] == 'Huelva (capital)'][df['Medida'] == 'Confirmados PDIA 14 días']['Valor'].values[0]\n<ipython-input-9-f09dd2050cc1>:3: UserWarning: Boolean Series key will be reindexed to match DataFrame index.\n  p = df[df['Lugar de residencia'] == 'Huelva (capital)'][df['Medida'] == 'Población']['Valor'].values[0]\n"
     ]
    }
   ],
   "source": [
    "c7 = df[df['Lugar de residencia'] == 'Huelva (capital)'][df['Medida'] == 'Confirmados PDIA 7 días']['Valor'].values[0]\n",
    "c14 = df[df['Lugar de residencia'] == 'Huelva (capital)'][df['Medida'] == 'Confirmados PDIA 14 días']['Valor'].values[0]\n",
    "p = df[df['Lugar de residencia'] == 'Huelva (capital)'][df['Medida'] == 'Población']['Valor'].values[0]"
   ]
  },
  {
   "cell_type": "code",
   "execution_count": 10,
   "metadata": {
    "tags": []
   },
   "outputs": [
    {
     "output_type": "stream",
     "name": "stdout",
     "text": [
      "Huelva (capital)\n\nUn positivo PCR cada 4795 personas en los últimos 7 días \n\nUn positivo PCR cada 1998 personas en los últimos 14 días\n"
     ]
    }
   ],
   "source": [
    "print('Huelva (capital)\\n')\n",
    "#print('Confirmados PCR 7 días x 1,000 habitantes: ', f\"{c7/(p/1000):.5f}\")\n",
    "print('Un positivo PCR cada', f\"{p/c7:.0f}\", 'personas en los últimos 7 días', '\\n')\n",
    "#print('Confirmados PCR 14 días x 1,000 habitantes: ', f\"{c14/(p/1000):.5f}\")\n",
    "print('Un positivo PCR cada', f\"{p/c14:.0f}\", 'personas en los últimos 14 días')"
   ]
  },
  {
   "cell_type": "code",
   "execution_count": 11,
   "metadata": {},
   "outputs": [],
   "source": [
    "filtro = ((df['Medida'] == 'Confirmados PDIA')| (df['Medida'] == 'Confirmados PDIA 7 días') | (df['Medida'] == 'Población' ) | (df['Medida'] == 'Confirmados PDIA 14 días')) & (df['Valor'] > 0)\n",
    "tabla = pd.pivot_table(df.loc[filtro], values='Valor', index='Lugar de residencia', columns='Medida').dropna()"
   ]
  },
  {
   "cell_type": "code",
   "execution_count": 12,
   "metadata": {},
   "outputs": [],
   "source": [
    "# Reorder columns\n",
    "tabla = tabla[['Confirmados PDIA', 'Confirmados PDIA 7 días', 'Confirmados PDIA 14 días', 'Población']]"
   ]
  },
  {
   "cell_type": "code",
   "execution_count": 13,
   "metadata": {},
   "outputs": [],
   "source": [
    "tabla['tasa7'] = tabla['Confirmados PDIA 7 días']/tabla['Población']*100000\n",
    "tabla['tasa14'] = tabla['Confirmados PDIA 14 días']/tabla['Población']*100000"
   ]
  },
  {
   "cell_type": "code",
   "execution_count": 14,
   "metadata": {},
   "outputs": [],
   "source": [
    "tabla['Diferencia PDIA'] = tabla['Confirmados PDIA'] - dfAnterior['Confirmados PDIA']"
   ]
  },
  {
   "cell_type": "code",
   "execution_count": 15,
   "metadata": {},
   "outputs": [
    {
     "output_type": "execute_result",
     "data": {
      "text/plain": [
       "Medida                     Confirmados PDIA  Confirmados PDIA 7 días  \\\n",
       "Lugar de residencia                                                    \n",
       "Huelva                              24617.0                    132.0   \n",
       "Huelva-Costa                        15018.0                     82.0   \n",
       "Condado-Campiña                      6888.0                     48.0   \n",
       "Puebla de Guzmán                       92.0                     10.0   \n",
       "Huelva (capital)                     6558.0                     30.0   \n",
       "Almonte                               867.0                     17.0   \n",
       "Cartaya                               949.0                     13.0   \n",
       "Ayamonte                             1196.0                     10.0   \n",
       "San Bartolomé de la Torre             195.0                      3.0   \n",
       "Aljaraque                             925.0                      4.0   \n",
       "Bollullos Par del Condado             611.0                      3.0   \n",
       "Isla Cristina                        1979.0                      4.0   \n",
       "Lucena del Puerto                     154.0                      7.0   \n",
       "Palos de la Frontera                  450.0                      1.0   \n",
       "Alosno                                121.0                      1.0   \n",
       "\n",
       "Medida                     Confirmados PDIA 14 días  Población       tasa7  \\\n",
       "Lugar de residencia                                                          \n",
       "Huelva                                        293.0   513170.0   25.722470   \n",
       "Huelva-Costa                                  179.0   289548.0   28.320002   \n",
       "Condado-Campiña                               105.0   156231.0   30.723736   \n",
       "Puebla de Guzmán                               12.0     3092.0  323.415265   \n",
       "Huelva (capital)                               72.0   143837.0   20.856942   \n",
       "Almonte                                        31.0    24507.0   69.367936   \n",
       "Cartaya                                        29.0    20083.0   64.731365   \n",
       "Ayamonte                                       11.0    21104.0   47.384382   \n",
       "San Bartolomé de la Torre                       4.0     3761.0   79.766020   \n",
       "Aljaraque                                      10.0    21474.0   18.627177   \n",
       "Bollullos Par del Condado                      12.0    14387.0   20.852158   \n",
       "Isla Cristina                                   8.0    21393.0   18.697705   \n",
       "Lucena del Puerto                               8.0     3261.0  214.658080   \n",
       "Palos de la Frontera                            4.0    11742.0    8.516437   \n",
       "Alosno                                          2.0     3933.0   25.425884   \n",
       "\n",
       "Medida                         tasa14  Diferencia PDIA  \n",
       "Lugar de residencia                                     \n",
       "Huelva                      57.096089             25.0  \n",
       "Huelva-Costa                61.820493             17.0  \n",
       "Condado-Campiña             67.208173              8.0  \n",
       "Puebla de Guzmán           388.098318              5.0  \n",
       "Huelva (capital)            50.056661              4.0  \n",
       "Almonte                    126.494471              3.0  \n",
       "Cartaya                    144.400737              3.0  \n",
       "Ayamonte                    52.122820              2.0  \n",
       "San Bartolomé de la Torre  106.354693              2.0  \n",
       "Aljaraque                   46.567943              1.0  \n",
       "Bollullos Par del Condado   83.408633              1.0  \n",
       "Isla Cristina               37.395410              1.0  \n",
       "Lucena del Puerto          245.323520              1.0  \n",
       "Palos de la Frontera        34.065747              1.0  \n",
       "Alosno                      50.851767              NaN  "
      ],
      "text/html": "<div>\n<style scoped>\n    .dataframe tbody tr th:only-of-type {\n        vertical-align: middle;\n    }\n\n    .dataframe tbody tr th {\n        vertical-align: top;\n    }\n\n    .dataframe thead th {\n        text-align: right;\n    }\n</style>\n<table border=\"1\" class=\"dataframe\">\n  <thead>\n    <tr style=\"text-align: right;\">\n      <th>Medida</th>\n      <th>Confirmados PDIA</th>\n      <th>Confirmados PDIA 7 días</th>\n      <th>Confirmados PDIA 14 días</th>\n      <th>Población</th>\n      <th>tasa7</th>\n      <th>tasa14</th>\n      <th>Diferencia PDIA</th>\n    </tr>\n    <tr>\n      <th>Lugar de residencia</th>\n      <th></th>\n      <th></th>\n      <th></th>\n      <th></th>\n      <th></th>\n      <th></th>\n      <th></th>\n    </tr>\n  </thead>\n  <tbody>\n    <tr>\n      <th>Huelva</th>\n      <td>24617.0</td>\n      <td>132.0</td>\n      <td>293.0</td>\n      <td>513170.0</td>\n      <td>25.722470</td>\n      <td>57.096089</td>\n      <td>25.0</td>\n    </tr>\n    <tr>\n      <th>Huelva-Costa</th>\n      <td>15018.0</td>\n      <td>82.0</td>\n      <td>179.0</td>\n      <td>289548.0</td>\n      <td>28.320002</td>\n      <td>61.820493</td>\n      <td>17.0</td>\n    </tr>\n    <tr>\n      <th>Condado-Campiña</th>\n      <td>6888.0</td>\n      <td>48.0</td>\n      <td>105.0</td>\n      <td>156231.0</td>\n      <td>30.723736</td>\n      <td>67.208173</td>\n      <td>8.0</td>\n    </tr>\n    <tr>\n      <th>Puebla de Guzmán</th>\n      <td>92.0</td>\n      <td>10.0</td>\n      <td>12.0</td>\n      <td>3092.0</td>\n      <td>323.415265</td>\n      <td>388.098318</td>\n      <td>5.0</td>\n    </tr>\n    <tr>\n      <th>Huelva (capital)</th>\n      <td>6558.0</td>\n      <td>30.0</td>\n      <td>72.0</td>\n      <td>143837.0</td>\n      <td>20.856942</td>\n      <td>50.056661</td>\n      <td>4.0</td>\n    </tr>\n    <tr>\n      <th>Almonte</th>\n      <td>867.0</td>\n      <td>17.0</td>\n      <td>31.0</td>\n      <td>24507.0</td>\n      <td>69.367936</td>\n      <td>126.494471</td>\n      <td>3.0</td>\n    </tr>\n    <tr>\n      <th>Cartaya</th>\n      <td>949.0</td>\n      <td>13.0</td>\n      <td>29.0</td>\n      <td>20083.0</td>\n      <td>64.731365</td>\n      <td>144.400737</td>\n      <td>3.0</td>\n    </tr>\n    <tr>\n      <th>Ayamonte</th>\n      <td>1196.0</td>\n      <td>10.0</td>\n      <td>11.0</td>\n      <td>21104.0</td>\n      <td>47.384382</td>\n      <td>52.122820</td>\n      <td>2.0</td>\n    </tr>\n    <tr>\n      <th>San Bartolomé de la Torre</th>\n      <td>195.0</td>\n      <td>3.0</td>\n      <td>4.0</td>\n      <td>3761.0</td>\n      <td>79.766020</td>\n      <td>106.354693</td>\n      <td>2.0</td>\n    </tr>\n    <tr>\n      <th>Aljaraque</th>\n      <td>925.0</td>\n      <td>4.0</td>\n      <td>10.0</td>\n      <td>21474.0</td>\n      <td>18.627177</td>\n      <td>46.567943</td>\n      <td>1.0</td>\n    </tr>\n    <tr>\n      <th>Bollullos Par del Condado</th>\n      <td>611.0</td>\n      <td>3.0</td>\n      <td>12.0</td>\n      <td>14387.0</td>\n      <td>20.852158</td>\n      <td>83.408633</td>\n      <td>1.0</td>\n    </tr>\n    <tr>\n      <th>Isla Cristina</th>\n      <td>1979.0</td>\n      <td>4.0</td>\n      <td>8.0</td>\n      <td>21393.0</td>\n      <td>18.697705</td>\n      <td>37.395410</td>\n      <td>1.0</td>\n    </tr>\n    <tr>\n      <th>Lucena del Puerto</th>\n      <td>154.0</td>\n      <td>7.0</td>\n      <td>8.0</td>\n      <td>3261.0</td>\n      <td>214.658080</td>\n      <td>245.323520</td>\n      <td>1.0</td>\n    </tr>\n    <tr>\n      <th>Palos de la Frontera</th>\n      <td>450.0</td>\n      <td>1.0</td>\n      <td>4.0</td>\n      <td>11742.0</td>\n      <td>8.516437</td>\n      <td>34.065747</td>\n      <td>1.0</td>\n    </tr>\n    <tr>\n      <th>Alosno</th>\n      <td>121.0</td>\n      <td>1.0</td>\n      <td>2.0</td>\n      <td>3933.0</td>\n      <td>25.425884</td>\n      <td>50.851767</td>\n      <td>NaN</td>\n    </tr>\n  </tbody>\n</table>\n</div>"
     },
     "metadata": {},
     "execution_count": 15
    }
   ],
   "source": [
    "# Nuevos casos desde la última captura\n",
    "tabla[tabla['Diferencia PDIA'] != 0].sort_values('Diferencia PDIA', ascending=False)"
   ]
  },
  {
   "cell_type": "code",
   "execution_count": 16,
   "metadata": {},
   "outputs": [],
   "source": [
    "if tabla[tabla['Diferencia PDIA'] != 0]['Diferencia PDIA'].sum() != 0:\n",
    "  # Save to csv\n",
    "  tabla.to_csv('covid_huelva.csv', encoding='utf-8', header=True, index=True)  "
   ]
  },
  {
   "cell_type": "code",
   "execution_count": 17,
   "metadata": {},
   "outputs": [
    {
     "output_type": "execute_result",
     "data": {
      "text/plain": [
       "Medida                             Confirmados PDIA  Confirmados PDIA 7 días  \\\n",
       "Lugar de residencia                                                            \n",
       "Puebla de Guzmán                               92.0                     10.0   \n",
       "Lucena del Puerto                             154.0                      7.0   \n",
       "Cartaya                                       949.0                     13.0   \n",
       "Villablanca                                   176.0                      2.0   \n",
       "Palma del Condado (La)                        977.0                      6.0   \n",
       "Almonte                                       867.0                     17.0   \n",
       "San Bartolomé de la Torre                     195.0                      3.0   \n",
       "Moguer                                        829.0                      9.0   \n",
       "Lepe                                         1994.0                      7.0   \n",
       "Bollullos Par del Condado                     611.0                      3.0   \n",
       "Condado-Campiña                              6888.0                     48.0   \n",
       "Huelva-Costa                                15018.0                     82.0   \n",
       "Huelva                                      24617.0                    132.0   \n",
       "Ayamonte                                     1196.0                     10.0   \n",
       "Alosno                                        121.0                      1.0   \n",
       "Huelva (capital)                             6558.0                     30.0   \n",
       "Aljaraque                                     925.0                      4.0   \n",
       "Rociana del Condado                           310.0                      1.0   \n",
       "Isla Cristina                                1979.0                      4.0   \n",
       "Palos de la Frontera                          450.0                      1.0   \n",
       "Paterna del Campo                             111.0                      1.0   \n",
       "Punta Umbría                                  657.0                      1.0   \n",
       "Aracena                                       450.0                      1.0   \n",
       "Sierra de Huelva-Andévalo Central            2298.0                      1.0   \n",
       "\n",
       "Medida                             Confirmados PDIA 14 días  Población  \\\n",
       "Lugar de residencia                                                      \n",
       "Puebla de Guzmán                                       12.0     3092.0   \n",
       "Lucena del Puerto                                       8.0     3261.0   \n",
       "Cartaya                                                29.0    20083.0   \n",
       "Villablanca                                             4.0     2885.0   \n",
       "Palma del Condado (La)                                 14.0    10801.0   \n",
       "Almonte                                                31.0    24507.0   \n",
       "San Bartolomé de la Torre                               4.0     3761.0   \n",
       "Moguer                                                 19.0    21867.0   \n",
       "Lepe                                                   24.0    27880.0   \n",
       "Bollullos Par del Condado                              12.0    14387.0   \n",
       "Condado-Campiña                                       105.0   156231.0   \n",
       "Huelva-Costa                                          179.0   289548.0   \n",
       "Huelva                                                293.0   513170.0   \n",
       "Ayamonte                                               11.0    21104.0   \n",
       "Alosno                                                  2.0     3933.0   \n",
       "Huelva (capital)                                       72.0   143837.0   \n",
       "Aljaraque                                              10.0    21474.0   \n",
       "Rociana del Condado                                     3.0     7939.0   \n",
       "Isla Cristina                                           8.0    21393.0   \n",
       "Palos de la Frontera                                    4.0    11742.0   \n",
       "Paterna del Campo                                       1.0     3457.0   \n",
       "Punta Umbría                                            4.0    15355.0   \n",
       "Aracena                                                 1.0     8255.0   \n",
       "Sierra de Huelva-Andévalo Central                       5.0    67391.0   \n",
       "\n",
       "Medida                                  tasa7      tasa14  Diferencia PDIA  \n",
       "Lugar de residencia                                                         \n",
       "Puebla de Guzmán                   323.415265  388.098318              5.0  \n",
       "Lucena del Puerto                  214.658080  245.323520              1.0  \n",
       "Cartaya                             64.731365  144.400737              3.0  \n",
       "Villablanca                         69.324090  138.648180              0.0  \n",
       "Palma del Condado (La)              55.550412  129.617628              0.0  \n",
       "Almonte                             69.367936  126.494471              3.0  \n",
       "San Bartolomé de la Torre           79.766020  106.354693              2.0  \n",
       "Moguer                              41.157909   86.888919              0.0  \n",
       "Lepe                                25.107604   86.083214              0.0  \n",
       "Bollullos Par del Condado           20.852158   83.408633              1.0  \n",
       "Condado-Campiña                     30.723736   67.208173              8.0  \n",
       "Huelva-Costa                        28.320002   61.820493             17.0  \n",
       "Huelva                              25.722470   57.096089             25.0  \n",
       "Ayamonte                            47.384382   52.122820              2.0  \n",
       "Alosno                              25.425884   50.851767              NaN  \n",
       "Huelva (capital)                    20.856942   50.056661              4.0  \n",
       "Aljaraque                           18.627177   46.567943              1.0  \n",
       "Rociana del Condado                 12.596045   37.788135              0.0  \n",
       "Isla Cristina                       18.697705   37.395410              1.0  \n",
       "Palos de la Frontera                 8.516437   34.065747              1.0  \n",
       "Paterna del Campo                   28.926815   28.926815              0.0  \n",
       "Punta Umbría                         6.512537   26.050147              0.0  \n",
       "Aracena                             12.113870   12.113870              0.0  \n",
       "Sierra de Huelva-Andévalo Central    1.483878    7.419388              0.0  "
      ],
      "text/html": "<div>\n<style scoped>\n    .dataframe tbody tr th:only-of-type {\n        vertical-align: middle;\n    }\n\n    .dataframe tbody tr th {\n        vertical-align: top;\n    }\n\n    .dataframe thead th {\n        text-align: right;\n    }\n</style>\n<table border=\"1\" class=\"dataframe\">\n  <thead>\n    <tr style=\"text-align: right;\">\n      <th>Medida</th>\n      <th>Confirmados PDIA</th>\n      <th>Confirmados PDIA 7 días</th>\n      <th>Confirmados PDIA 14 días</th>\n      <th>Población</th>\n      <th>tasa7</th>\n      <th>tasa14</th>\n      <th>Diferencia PDIA</th>\n    </tr>\n    <tr>\n      <th>Lugar de residencia</th>\n      <th></th>\n      <th></th>\n      <th></th>\n      <th></th>\n      <th></th>\n      <th></th>\n      <th></th>\n    </tr>\n  </thead>\n  <tbody>\n    <tr>\n      <th>Puebla de Guzmán</th>\n      <td>92.0</td>\n      <td>10.0</td>\n      <td>12.0</td>\n      <td>3092.0</td>\n      <td>323.415265</td>\n      <td>388.098318</td>\n      <td>5.0</td>\n    </tr>\n    <tr>\n      <th>Lucena del Puerto</th>\n      <td>154.0</td>\n      <td>7.0</td>\n      <td>8.0</td>\n      <td>3261.0</td>\n      <td>214.658080</td>\n      <td>245.323520</td>\n      <td>1.0</td>\n    </tr>\n    <tr>\n      <th>Cartaya</th>\n      <td>949.0</td>\n      <td>13.0</td>\n      <td>29.0</td>\n      <td>20083.0</td>\n      <td>64.731365</td>\n      <td>144.400737</td>\n      <td>3.0</td>\n    </tr>\n    <tr>\n      <th>Villablanca</th>\n      <td>176.0</td>\n      <td>2.0</td>\n      <td>4.0</td>\n      <td>2885.0</td>\n      <td>69.324090</td>\n      <td>138.648180</td>\n      <td>0.0</td>\n    </tr>\n    <tr>\n      <th>Palma del Condado (La)</th>\n      <td>977.0</td>\n      <td>6.0</td>\n      <td>14.0</td>\n      <td>10801.0</td>\n      <td>55.550412</td>\n      <td>129.617628</td>\n      <td>0.0</td>\n    </tr>\n    <tr>\n      <th>Almonte</th>\n      <td>867.0</td>\n      <td>17.0</td>\n      <td>31.0</td>\n      <td>24507.0</td>\n      <td>69.367936</td>\n      <td>126.494471</td>\n      <td>3.0</td>\n    </tr>\n    <tr>\n      <th>San Bartolomé de la Torre</th>\n      <td>195.0</td>\n      <td>3.0</td>\n      <td>4.0</td>\n      <td>3761.0</td>\n      <td>79.766020</td>\n      <td>106.354693</td>\n      <td>2.0</td>\n    </tr>\n    <tr>\n      <th>Moguer</th>\n      <td>829.0</td>\n      <td>9.0</td>\n      <td>19.0</td>\n      <td>21867.0</td>\n      <td>41.157909</td>\n      <td>86.888919</td>\n      <td>0.0</td>\n    </tr>\n    <tr>\n      <th>Lepe</th>\n      <td>1994.0</td>\n      <td>7.0</td>\n      <td>24.0</td>\n      <td>27880.0</td>\n      <td>25.107604</td>\n      <td>86.083214</td>\n      <td>0.0</td>\n    </tr>\n    <tr>\n      <th>Bollullos Par del Condado</th>\n      <td>611.0</td>\n      <td>3.0</td>\n      <td>12.0</td>\n      <td>14387.0</td>\n      <td>20.852158</td>\n      <td>83.408633</td>\n      <td>1.0</td>\n    </tr>\n    <tr>\n      <th>Condado-Campiña</th>\n      <td>6888.0</td>\n      <td>48.0</td>\n      <td>105.0</td>\n      <td>156231.0</td>\n      <td>30.723736</td>\n      <td>67.208173</td>\n      <td>8.0</td>\n    </tr>\n    <tr>\n      <th>Huelva-Costa</th>\n      <td>15018.0</td>\n      <td>82.0</td>\n      <td>179.0</td>\n      <td>289548.0</td>\n      <td>28.320002</td>\n      <td>61.820493</td>\n      <td>17.0</td>\n    </tr>\n    <tr>\n      <th>Huelva</th>\n      <td>24617.0</td>\n      <td>132.0</td>\n      <td>293.0</td>\n      <td>513170.0</td>\n      <td>25.722470</td>\n      <td>57.096089</td>\n      <td>25.0</td>\n    </tr>\n    <tr>\n      <th>Ayamonte</th>\n      <td>1196.0</td>\n      <td>10.0</td>\n      <td>11.0</td>\n      <td>21104.0</td>\n      <td>47.384382</td>\n      <td>52.122820</td>\n      <td>2.0</td>\n    </tr>\n    <tr>\n      <th>Alosno</th>\n      <td>121.0</td>\n      <td>1.0</td>\n      <td>2.0</td>\n      <td>3933.0</td>\n      <td>25.425884</td>\n      <td>50.851767</td>\n      <td>NaN</td>\n    </tr>\n    <tr>\n      <th>Huelva (capital)</th>\n      <td>6558.0</td>\n      <td>30.0</td>\n      <td>72.0</td>\n      <td>143837.0</td>\n      <td>20.856942</td>\n      <td>50.056661</td>\n      <td>4.0</td>\n    </tr>\n    <tr>\n      <th>Aljaraque</th>\n      <td>925.0</td>\n      <td>4.0</td>\n      <td>10.0</td>\n      <td>21474.0</td>\n      <td>18.627177</td>\n      <td>46.567943</td>\n      <td>1.0</td>\n    </tr>\n    <tr>\n      <th>Rociana del Condado</th>\n      <td>310.0</td>\n      <td>1.0</td>\n      <td>3.0</td>\n      <td>7939.0</td>\n      <td>12.596045</td>\n      <td>37.788135</td>\n      <td>0.0</td>\n    </tr>\n    <tr>\n      <th>Isla Cristina</th>\n      <td>1979.0</td>\n      <td>4.0</td>\n      <td>8.0</td>\n      <td>21393.0</td>\n      <td>18.697705</td>\n      <td>37.395410</td>\n      <td>1.0</td>\n    </tr>\n    <tr>\n      <th>Palos de la Frontera</th>\n      <td>450.0</td>\n      <td>1.0</td>\n      <td>4.0</td>\n      <td>11742.0</td>\n      <td>8.516437</td>\n      <td>34.065747</td>\n      <td>1.0</td>\n    </tr>\n    <tr>\n      <th>Paterna del Campo</th>\n      <td>111.0</td>\n      <td>1.0</td>\n      <td>1.0</td>\n      <td>3457.0</td>\n      <td>28.926815</td>\n      <td>28.926815</td>\n      <td>0.0</td>\n    </tr>\n    <tr>\n      <th>Punta Umbría</th>\n      <td>657.0</td>\n      <td>1.0</td>\n      <td>4.0</td>\n      <td>15355.0</td>\n      <td>6.512537</td>\n      <td>26.050147</td>\n      <td>0.0</td>\n    </tr>\n    <tr>\n      <th>Aracena</th>\n      <td>450.0</td>\n      <td>1.0</td>\n      <td>1.0</td>\n      <td>8255.0</td>\n      <td>12.113870</td>\n      <td>12.113870</td>\n      <td>0.0</td>\n    </tr>\n    <tr>\n      <th>Sierra de Huelva-Andévalo Central</th>\n      <td>2298.0</td>\n      <td>1.0</td>\n      <td>5.0</td>\n      <td>67391.0</td>\n      <td>1.483878</td>\n      <td>7.419388</td>\n      <td>0.0</td>\n    </tr>\n  </tbody>\n</table>\n</div>"
     },
     "metadata": {},
     "execution_count": 17
    }
   ],
   "source": [
    "tabla.sort_values('tasa14', ascending=False)"
   ]
  },
  {
   "cell_type": "code",
   "execution_count": 18,
   "metadata": {},
   "outputs": [
    {
     "output_type": "execute_result",
     "data": {
      "text/plain": [
       "Medida                             Confirmados PDIA  Confirmados PDIA 7 días  \\\n",
       "Lugar de residencia                                                            \n",
       "Sierra de Huelva-Andévalo Central            2298.0                      1.0   \n",
       "Punta Umbría                                  657.0                      1.0   \n",
       "Palos de la Frontera                          450.0                      1.0   \n",
       "Bollullos Par del Condado                     611.0                      3.0   \n",
       "Lepe                                         1994.0                      7.0   \n",
       "Rociana del Condado                           310.0                      1.0   \n",
       "Aljaraque                                     925.0                      4.0   \n",
       "Huelva (capital)                             6558.0                     30.0   \n",
       "Palma del Condado (La)                        977.0                      6.0   \n",
       "Cartaya                                       949.0                     13.0   \n",
       "Huelva                                      24617.0                    132.0   \n",
       "Condado-Campiña                              6888.0                     48.0   \n",
       "Huelva-Costa                                15018.0                     82.0   \n",
       "Moguer                                        829.0                      9.0   \n",
       "Isla Cristina                                1979.0                      4.0   \n",
       "Alosno                                        121.0                      1.0   \n",
       "Villablanca                                   176.0                      2.0   \n",
       "Almonte                                       867.0                     17.0   \n",
       "San Bartolomé de la Torre                     195.0                      3.0   \n",
       "Puebla de Guzmán                               92.0                     10.0   \n",
       "Lucena del Puerto                             154.0                      7.0   \n",
       "Ayamonte                                     1196.0                     10.0   \n",
       "Aracena                                       450.0                      1.0   \n",
       "Paterna del Campo                             111.0                      1.0   \n",
       "\n",
       "Medida                             Confirmados PDIA 14 días  Población  \\\n",
       "Lugar de residencia                                                      \n",
       "Sierra de Huelva-Andévalo Central                       5.0    67391.0   \n",
       "Punta Umbría                                            4.0    15355.0   \n",
       "Palos de la Frontera                                    4.0    11742.0   \n",
       "Bollullos Par del Condado                              12.0    14387.0   \n",
       "Lepe                                                   24.0    27880.0   \n",
       "Rociana del Condado                                     3.0     7939.0   \n",
       "Aljaraque                                              10.0    21474.0   \n",
       "Huelva (capital)                                       72.0   143837.0   \n",
       "Palma del Condado (La)                                 14.0    10801.0   \n",
       "Cartaya                                                29.0    20083.0   \n",
       "Huelva                                                293.0   513170.0   \n",
       "Condado-Campiña                                       105.0   156231.0   \n",
       "Huelva-Costa                                          179.0   289548.0   \n",
       "Moguer                                                 19.0    21867.0   \n",
       "Isla Cristina                                           8.0    21393.0   \n",
       "Alosno                                                  2.0     3933.0   \n",
       "Villablanca                                             4.0     2885.0   \n",
       "Almonte                                                31.0    24507.0   \n",
       "San Bartolomé de la Torre                               4.0     3761.0   \n",
       "Puebla de Guzmán                                       12.0     3092.0   \n",
       "Lucena del Puerto                                       8.0     3261.0   \n",
       "Ayamonte                                               11.0    21104.0   \n",
       "Aracena                                                 1.0     8255.0   \n",
       "Paterna del Campo                                       1.0     3457.0   \n",
       "\n",
       "Medida                                  tasa7      tasa14  Diferencia PDIA  \\\n",
       "Lugar de residencia                                                          \n",
       "Sierra de Huelva-Andévalo Central    1.483878    7.419388              0.0   \n",
       "Punta Umbría                         6.512537   26.050147              0.0   \n",
       "Palos de la Frontera                 8.516437   34.065747              1.0   \n",
       "Bollullos Par del Condado           20.852158   83.408633              1.0   \n",
       "Lepe                                25.107604   86.083214              0.0   \n",
       "Rociana del Condado                 12.596045   37.788135              0.0   \n",
       "Aljaraque                           18.627177   46.567943              1.0   \n",
       "Huelva (capital)                    20.856942   50.056661              4.0   \n",
       "Palma del Condado (La)              55.550412  129.617628              0.0   \n",
       "Cartaya                             64.731365  144.400737              3.0   \n",
       "Huelva                              25.722470   57.096089             25.0   \n",
       "Condado-Campiña                     30.723736   67.208173              8.0   \n",
       "Huelva-Costa                        28.320002   61.820493             17.0   \n",
       "Moguer                              41.157909   86.888919              0.0   \n",
       "Isla Cristina                       18.697705   37.395410              1.0   \n",
       "Alosno                              25.425884   50.851767              0.0   \n",
       "Villablanca                         69.324090  138.648180              0.0   \n",
       "Almonte                             69.367936  126.494471              3.0   \n",
       "San Bartolomé de la Torre           79.766020  106.354693              2.0   \n",
       "Puebla de Guzmán                   323.415265  388.098318              5.0   \n",
       "Lucena del Puerto                  214.658080  245.323520              1.0   \n",
       "Ayamonte                            47.384382   52.122820              2.0   \n",
       "Aracena                             12.113870   12.113870              0.0   \n",
       "Paterna del Campo                   28.926815   28.926815              0.0   \n",
       "\n",
       "Medida                                 7/14  \n",
       "Lugar de residencia                          \n",
       "Sierra de Huelva-Andévalo Central  0.200000  \n",
       "Punta Umbría                       0.250000  \n",
       "Palos de la Frontera               0.250000  \n",
       "Bollullos Par del Condado          0.250000  \n",
       "Lepe                               0.291667  \n",
       "Rociana del Condado                0.333333  \n",
       "Aljaraque                          0.400000  \n",
       "Huelva (capital)                   0.416667  \n",
       "Palma del Condado (La)             0.428571  \n",
       "Cartaya                            0.448276  \n",
       "Huelva                             0.450512  \n",
       "Condado-Campiña                    0.457143  \n",
       "Huelva-Costa                       0.458101  \n",
       "Moguer                             0.473684  \n",
       "Isla Cristina                      0.500000  \n",
       "Alosno                             0.500000  \n",
       "Villablanca                        0.500000  \n",
       "Almonte                            0.548387  \n",
       "San Bartolomé de la Torre          0.750000  \n",
       "Puebla de Guzmán                   0.833333  \n",
       "Lucena del Puerto                  0.875000  \n",
       "Ayamonte                           0.909091  \n",
       "Aracena                            1.000000  \n",
       "Paterna del Campo                  1.000000  "
      ],
      "text/html": "<div>\n<style scoped>\n    .dataframe tbody tr th:only-of-type {\n        vertical-align: middle;\n    }\n\n    .dataframe tbody tr th {\n        vertical-align: top;\n    }\n\n    .dataframe thead th {\n        text-align: right;\n    }\n</style>\n<table border=\"1\" class=\"dataframe\">\n  <thead>\n    <tr style=\"text-align: right;\">\n      <th>Medida</th>\n      <th>Confirmados PDIA</th>\n      <th>Confirmados PDIA 7 días</th>\n      <th>Confirmados PDIA 14 días</th>\n      <th>Población</th>\n      <th>tasa7</th>\n      <th>tasa14</th>\n      <th>Diferencia PDIA</th>\n      <th>7/14</th>\n    </tr>\n    <tr>\n      <th>Lugar de residencia</th>\n      <th></th>\n      <th></th>\n      <th></th>\n      <th></th>\n      <th></th>\n      <th></th>\n      <th></th>\n      <th></th>\n    </tr>\n  </thead>\n  <tbody>\n    <tr>\n      <th>Sierra de Huelva-Andévalo Central</th>\n      <td>2298.0</td>\n      <td>1.0</td>\n      <td>5.0</td>\n      <td>67391.0</td>\n      <td>1.483878</td>\n      <td>7.419388</td>\n      <td>0.0</td>\n      <td>0.200000</td>\n    </tr>\n    <tr>\n      <th>Punta Umbría</th>\n      <td>657.0</td>\n      <td>1.0</td>\n      <td>4.0</td>\n      <td>15355.0</td>\n      <td>6.512537</td>\n      <td>26.050147</td>\n      <td>0.0</td>\n      <td>0.250000</td>\n    </tr>\n    <tr>\n      <th>Palos de la Frontera</th>\n      <td>450.0</td>\n      <td>1.0</td>\n      <td>4.0</td>\n      <td>11742.0</td>\n      <td>8.516437</td>\n      <td>34.065747</td>\n      <td>1.0</td>\n      <td>0.250000</td>\n    </tr>\n    <tr>\n      <th>Bollullos Par del Condado</th>\n      <td>611.0</td>\n      <td>3.0</td>\n      <td>12.0</td>\n      <td>14387.0</td>\n      <td>20.852158</td>\n      <td>83.408633</td>\n      <td>1.0</td>\n      <td>0.250000</td>\n    </tr>\n    <tr>\n      <th>Lepe</th>\n      <td>1994.0</td>\n      <td>7.0</td>\n      <td>24.0</td>\n      <td>27880.0</td>\n      <td>25.107604</td>\n      <td>86.083214</td>\n      <td>0.0</td>\n      <td>0.291667</td>\n    </tr>\n    <tr>\n      <th>Rociana del Condado</th>\n      <td>310.0</td>\n      <td>1.0</td>\n      <td>3.0</td>\n      <td>7939.0</td>\n      <td>12.596045</td>\n      <td>37.788135</td>\n      <td>0.0</td>\n      <td>0.333333</td>\n    </tr>\n    <tr>\n      <th>Aljaraque</th>\n      <td>925.0</td>\n      <td>4.0</td>\n      <td>10.0</td>\n      <td>21474.0</td>\n      <td>18.627177</td>\n      <td>46.567943</td>\n      <td>1.0</td>\n      <td>0.400000</td>\n    </tr>\n    <tr>\n      <th>Huelva (capital)</th>\n      <td>6558.0</td>\n      <td>30.0</td>\n      <td>72.0</td>\n      <td>143837.0</td>\n      <td>20.856942</td>\n      <td>50.056661</td>\n      <td>4.0</td>\n      <td>0.416667</td>\n    </tr>\n    <tr>\n      <th>Palma del Condado (La)</th>\n      <td>977.0</td>\n      <td>6.0</td>\n      <td>14.0</td>\n      <td>10801.0</td>\n      <td>55.550412</td>\n      <td>129.617628</td>\n      <td>0.0</td>\n      <td>0.428571</td>\n    </tr>\n    <tr>\n      <th>Cartaya</th>\n      <td>949.0</td>\n      <td>13.0</td>\n      <td>29.0</td>\n      <td>20083.0</td>\n      <td>64.731365</td>\n      <td>144.400737</td>\n      <td>3.0</td>\n      <td>0.448276</td>\n    </tr>\n    <tr>\n      <th>Huelva</th>\n      <td>24617.0</td>\n      <td>132.0</td>\n      <td>293.0</td>\n      <td>513170.0</td>\n      <td>25.722470</td>\n      <td>57.096089</td>\n      <td>25.0</td>\n      <td>0.450512</td>\n    </tr>\n    <tr>\n      <th>Condado-Campiña</th>\n      <td>6888.0</td>\n      <td>48.0</td>\n      <td>105.0</td>\n      <td>156231.0</td>\n      <td>30.723736</td>\n      <td>67.208173</td>\n      <td>8.0</td>\n      <td>0.457143</td>\n    </tr>\n    <tr>\n      <th>Huelva-Costa</th>\n      <td>15018.0</td>\n      <td>82.0</td>\n      <td>179.0</td>\n      <td>289548.0</td>\n      <td>28.320002</td>\n      <td>61.820493</td>\n      <td>17.0</td>\n      <td>0.458101</td>\n    </tr>\n    <tr>\n      <th>Moguer</th>\n      <td>829.0</td>\n      <td>9.0</td>\n      <td>19.0</td>\n      <td>21867.0</td>\n      <td>41.157909</td>\n      <td>86.888919</td>\n      <td>0.0</td>\n      <td>0.473684</td>\n    </tr>\n    <tr>\n      <th>Isla Cristina</th>\n      <td>1979.0</td>\n      <td>4.0</td>\n      <td>8.0</td>\n      <td>21393.0</td>\n      <td>18.697705</td>\n      <td>37.395410</td>\n      <td>1.0</td>\n      <td>0.500000</td>\n    </tr>\n    <tr>\n      <th>Alosno</th>\n      <td>121.0</td>\n      <td>1.0</td>\n      <td>2.0</td>\n      <td>3933.0</td>\n      <td>25.425884</td>\n      <td>50.851767</td>\n      <td>0.0</td>\n      <td>0.500000</td>\n    </tr>\n    <tr>\n      <th>Villablanca</th>\n      <td>176.0</td>\n      <td>2.0</td>\n      <td>4.0</td>\n      <td>2885.0</td>\n      <td>69.324090</td>\n      <td>138.648180</td>\n      <td>0.0</td>\n      <td>0.500000</td>\n    </tr>\n    <tr>\n      <th>Almonte</th>\n      <td>867.0</td>\n      <td>17.0</td>\n      <td>31.0</td>\n      <td>24507.0</td>\n      <td>69.367936</td>\n      <td>126.494471</td>\n      <td>3.0</td>\n      <td>0.548387</td>\n    </tr>\n    <tr>\n      <th>San Bartolomé de la Torre</th>\n      <td>195.0</td>\n      <td>3.0</td>\n      <td>4.0</td>\n      <td>3761.0</td>\n      <td>79.766020</td>\n      <td>106.354693</td>\n      <td>2.0</td>\n      <td>0.750000</td>\n    </tr>\n    <tr>\n      <th>Puebla de Guzmán</th>\n      <td>92.0</td>\n      <td>10.0</td>\n      <td>12.0</td>\n      <td>3092.0</td>\n      <td>323.415265</td>\n      <td>388.098318</td>\n      <td>5.0</td>\n      <td>0.833333</td>\n    </tr>\n    <tr>\n      <th>Lucena del Puerto</th>\n      <td>154.0</td>\n      <td>7.0</td>\n      <td>8.0</td>\n      <td>3261.0</td>\n      <td>214.658080</td>\n      <td>245.323520</td>\n      <td>1.0</td>\n      <td>0.875000</td>\n    </tr>\n    <tr>\n      <th>Ayamonte</th>\n      <td>1196.0</td>\n      <td>10.0</td>\n      <td>11.0</td>\n      <td>21104.0</td>\n      <td>47.384382</td>\n      <td>52.122820</td>\n      <td>2.0</td>\n      <td>0.909091</td>\n    </tr>\n    <tr>\n      <th>Aracena</th>\n      <td>450.0</td>\n      <td>1.0</td>\n      <td>1.0</td>\n      <td>8255.0</td>\n      <td>12.113870</td>\n      <td>12.113870</td>\n      <td>0.0</td>\n      <td>1.000000</td>\n    </tr>\n    <tr>\n      <th>Paterna del Campo</th>\n      <td>111.0</td>\n      <td>1.0</td>\n      <td>1.0</td>\n      <td>3457.0</td>\n      <td>28.926815</td>\n      <td>28.926815</td>\n      <td>0.0</td>\n      <td>1.000000</td>\n    </tr>\n  </tbody>\n</table>\n</div>"
     },
     "metadata": {},
     "execution_count": 18
    }
   ],
   "source": [
    "# Peso de la tasa de la última semana en relación con la tasa a 14 días \n",
    "# Mejor cuanto menor. Valor 1 significa que no había casos antes de 7 días.\n",
    "tabla['7/14'] = tabla['tasa7'] / tabla['tasa14']\n",
    "tabla.fillna(0).sort_values('7/14', ascending=True)"
   ]
  },
  {
   "cell_type": "code",
   "execution_count": null,
   "metadata": {},
   "outputs": [],
   "source": []
  }
 ]
}