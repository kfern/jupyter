{
 "metadata": {
  "language_info": {
   "codemirror_mode": {
    "name": "ipython",
    "version": 3
   },
   "file_extension": ".py",
   "mimetype": "text/x-python",
   "name": "python",
   "nbconvert_exporter": "python",
   "pygments_lexer": "ipython3",
   "version": "3.8.6"
  },
  "orig_nbformat": 2,
  "kernelspec": {
   "name": "python3",
   "display_name": "Python 3.8.6 64-bit"
  },
  "interpreter": {
   "hash": "31f2aee4e71d21fbe5cf8b01ff0e069b9275f58929596ceb00d14d90e3e16cd6"
  }
 },
 "nbformat": 4,
 "nbformat_minor": 2,
 "cells": [
  {
   "cell_type": "code",
   "execution_count": 1,
   "metadata": {},
   "outputs": [],
   "source": [
    "import pandas as pd\n",
    "pd.set_option('display.max_rows', None) # Print all rows"
   ]
  },
  {
   "cell_type": "code",
   "execution_count": 2,
   "metadata": {},
   "outputs": [],
   "source": [
    "# FIX SSL: CERTIFICATE_VERIFY_FAILED with Python3\n",
    "# https://stackoverflow.com/a/49174340\n",
    "import ssl\n",
    "\n",
    "ssl._create_default_https_context = ssl._create_unverified_context"
   ]
  },
  {
   "cell_type": "code",
   "execution_count": 3,
   "metadata": {},
   "outputs": [],
   "source": [
    "url = 'https://www.juntadeandalucia.es/institutodeestadisticaycartografia/badea/stpivot/stpivot/Print?cube=013d884c-cfc5-4c21-9e78-e26225682afd&type=3&foto=si&ejecutaDesde=&codConsulta=38668&consTipoVisua=JP'\n",
    "fields = ['Lugar de residencia', 'Medida', 'Valor']\n",
    "df = pd.read_csv(url, delimiter=';', usecols=fields, decimal=',')"
   ]
  },
  {
   "cell_type": "code",
   "execution_count": 4,
   "metadata": {},
   "outputs": [
    {
     "output_type": "execute_result",
     "data": {
      "text/plain": [
       "  Lugar de residencia                    Medida               Valor\n",
       "0              Huelva                 Población              513170\n",
       "1              Huelva          Confirmados PDIA               33206\n",
       "2              Huelva  Confirmados PDIA 14 días                1024\n",
       "3              Huelva         Tasa PDIA 14 días  199,54401075666934\n",
       "4              Huelva   Confirmados PDIA 7 días                 426\n",
       "5              Huelva        Total Confirmados                33389\n",
       "6              Huelva                   Curados               31407\n",
       "7              Huelva                Fallecidos                 389"
      ],
      "text/html": "<div>\n<style scoped>\n    .dataframe tbody tr th:only-of-type {\n        vertical-align: middle;\n    }\n\n    .dataframe tbody tr th {\n        vertical-align: top;\n    }\n\n    .dataframe thead th {\n        text-align: right;\n    }\n</style>\n<table border=\"1\" class=\"dataframe\">\n  <thead>\n    <tr style=\"text-align: right;\">\n      <th></th>\n      <th>Lugar de residencia</th>\n      <th>Medida</th>\n      <th>Valor</th>\n    </tr>\n  </thead>\n  <tbody>\n    <tr>\n      <th>0</th>\n      <td>Huelva</td>\n      <td>Población</td>\n      <td>513170</td>\n    </tr>\n    <tr>\n      <th>1</th>\n      <td>Huelva</td>\n      <td>Confirmados PDIA</td>\n      <td>33206</td>\n    </tr>\n    <tr>\n      <th>2</th>\n      <td>Huelva</td>\n      <td>Confirmados PDIA 14 días</td>\n      <td>1024</td>\n    </tr>\n    <tr>\n      <th>3</th>\n      <td>Huelva</td>\n      <td>Tasa PDIA 14 días</td>\n      <td>199,54401075666934</td>\n    </tr>\n    <tr>\n      <th>4</th>\n      <td>Huelva</td>\n      <td>Confirmados PDIA 7 días</td>\n      <td>426</td>\n    </tr>\n    <tr>\n      <th>5</th>\n      <td>Huelva</td>\n      <td>Total Confirmados</td>\n      <td>33389</td>\n    </tr>\n    <tr>\n      <th>6</th>\n      <td>Huelva</td>\n      <td>Curados</td>\n      <td>31407</td>\n    </tr>\n    <tr>\n      <th>7</th>\n      <td>Huelva</td>\n      <td>Fallecidos</td>\n      <td>389</td>\n    </tr>\n  </tbody>\n</table>\n</div>"
     },
     "metadata": {},
     "execution_count": 4
    }
   ],
   "source": [
    "df[df['Lugar de residencia'] == 'Huelva']"
   ]
  },
  {
   "cell_type": "code",
   "execution_count": 5,
   "metadata": {},
   "outputs": [],
   "source": [
    "df['Valor'] = pd.to_numeric(df['Valor'],errors='coerce')"
   ]
  },
  {
   "cell_type": "code",
   "execution_count": 6,
   "metadata": {},
   "outputs": [],
   "source": [
    "dfAnterior = pd.read_csv('covid_huelva.csv', index_col='Lugar de residencia')"
   ]
  },
  {
   "cell_type": "code",
   "execution_count": 7,
   "metadata": {
    "tags": []
   },
   "outputs": [
    {
     "output_type": "stream",
     "name": "stdout",
     "text": [
      "Confirmados PCR en la provincia de Huelva:  33206.0\n",
      "<ipython-input-7-31b732756b19>:2: UserWarning: Boolean Series key will be reindexed to match DataFrame index.\n",
      "  p = df[df['Lugar de residencia'] == 'Huelva'][df['Medida'] == 'Confirmados PDIA']['Valor'].values[0]\n"
     ]
    }
   ],
   "source": [
    "# Confirmados PCR provincia Huelva\n",
    "p = df[df['Lugar de residencia'] == 'Huelva'][df['Medida'] == 'Confirmados PDIA']['Valor'].values[0]\n",
    "print('Confirmados PCR en la provincia de Huelva: ', p)"
   ]
  },
  {
   "cell_type": "code",
   "execution_count": 8,
   "metadata": {
    "tags": []
   },
   "outputs": [
    {
     "output_type": "stream",
     "name": "stdout",
     "text": [
      "Confirmados PCR en Huelva capital:  9091.0\n",
      "<ipython-input-8-e81bfb40e710>:2: UserWarning: Boolean Series key will be reindexed to match DataFrame index.\n",
      "  c = df[df['Lugar de residencia'] == 'Huelva (capital)'][df['Medida'] == 'Confirmados PDIA']['Valor'].values[0]\n"
     ]
    }
   ],
   "source": [
    "# Confirmados PCR Huelva capitalpd\n",
    "c = df[df['Lugar de residencia'] == 'Huelva (capital)'][df['Medida'] == 'Confirmados PDIA']['Valor'].values[0]\n",
    "print('Confirmados PCR en Huelva capital: ', c)"
   ]
  },
  {
   "cell_type": "code",
   "execution_count": 9,
   "metadata": {
    "tags": []
   },
   "outputs": [
    {
     "output_type": "stream",
     "name": "stderr",
     "text": [
      "<ipython-input-9-f09dd2050cc1>:1: UserWarning: Boolean Series key will be reindexed to match DataFrame index.\n  c7 = df[df['Lugar de residencia'] == 'Huelva (capital)'][df['Medida'] == 'Confirmados PDIA 7 días']['Valor'].values[0]\n<ipython-input-9-f09dd2050cc1>:2: UserWarning: Boolean Series key will be reindexed to match DataFrame index.\n  c14 = df[df['Lugar de residencia'] == 'Huelva (capital)'][df['Medida'] == 'Confirmados PDIA 14 días']['Valor'].values[0]\n<ipython-input-9-f09dd2050cc1>:3: UserWarning: Boolean Series key will be reindexed to match DataFrame index.\n  p = df[df['Lugar de residencia'] == 'Huelva (capital)'][df['Medida'] == 'Población']['Valor'].values[0]\n"
     ]
    }
   ],
   "source": [
    "c7 = df[df['Lugar de residencia'] == 'Huelva (capital)'][df['Medida'] == 'Confirmados PDIA 7 días']['Valor'].values[0]\n",
    "c14 = df[df['Lugar de residencia'] == 'Huelva (capital)'][df['Medida'] == 'Confirmados PDIA 14 días']['Valor'].values[0]\n",
    "p = df[df['Lugar de residencia'] == 'Huelva (capital)'][df['Medida'] == 'Población']['Valor'].values[0]"
   ]
  },
  {
   "cell_type": "code",
   "execution_count": 10,
   "metadata": {
    "tags": []
   },
   "outputs": [
    {
     "output_type": "stream",
     "name": "stdout",
     "text": [
      "Huelva (capital)\n\nUn positivo PCR cada 965 personas en los últimos 7 días \n\nUn positivo PCR cada 358 personas en los últimos 14 días\n"
     ]
    }
   ],
   "source": [
    "print('Huelva (capital)\\n')\n",
    "#print('Confirmados PCR 7 días x 1,000 habitantes: ', f\"{c7/(p/1000):.5f}\")\n",
    "print('Un positivo PCR cada', f\"{p/c7:.0f}\", 'personas en los últimos 7 días', '\\n')\n",
    "#print('Confirmados PCR 14 días x 1,000 habitantes: ', f\"{c14/(p/1000):.5f}\")\n",
    "print('Un positivo PCR cada', f\"{p/c14:.0f}\", 'personas en los últimos 14 días')"
   ]
  },
  {
   "cell_type": "code",
   "execution_count": 11,
   "metadata": {},
   "outputs": [],
   "source": [
    "filtro = ((df['Medida'] == 'Confirmados PDIA')| (df['Medida'] == 'Confirmados PDIA 7 días') | (df['Medida'] == 'Población' ) | (df['Medida'] == 'Confirmados PDIA 14 días')) & (df['Valor'] > 0)\n",
    "tabla = pd.pivot_table(df.loc[filtro], values='Valor', index='Lugar de residencia', columns='Medida').dropna()"
   ]
  },
  {
   "cell_type": "code",
   "execution_count": 12,
   "metadata": {},
   "outputs": [],
   "source": [
    "# Reorder columns\n",
    "tabla = tabla[['Confirmados PDIA', 'Confirmados PDIA 7 días', 'Confirmados PDIA 14 días', 'Población']]"
   ]
  },
  {
   "cell_type": "code",
   "execution_count": 13,
   "metadata": {},
   "outputs": [],
   "source": [
    "tabla['tasa7'] = tabla['Confirmados PDIA 7 días']/tabla['Población']*100000\n",
    "tabla['tasa14'] = tabla['Confirmados PDIA 14 días']/tabla['Población']*100000"
   ]
  },
  {
   "cell_type": "code",
   "execution_count": 14,
   "metadata": {},
   "outputs": [],
   "source": [
    "tabla['Diferencia PDIA'] = tabla['Confirmados PDIA'] - dfAnterior['Confirmados PDIA']"
   ]
  },
  {
   "cell_type": "code",
   "execution_count": 15,
   "metadata": {},
   "outputs": [
    {
     "output_type": "execute_result",
     "data": {
      "text/plain": [
       "Medida                             Confirmados PDIA  Confirmados PDIA 7 días  \\\n",
       "Lugar de residencia                                                            \n",
       "Huelva                                      33206.0                    426.0   \n",
       "Huelva-Costa                                19113.0                    225.0   \n",
       "Condado-Campiña                             10810.0                    173.0   \n",
       "Huelva (capital)                             9091.0                    149.0   \n",
       "Cartaya                                      1394.0                     22.0   \n",
       "Almonte                                      1915.0                     23.0   \n",
       "Moguer                                       1396.0                     33.0   \n",
       "San Juan del Puerto                           584.0                     24.0   \n",
       "Sierra de Huelva-Andévalo Central            2930.0                     27.0   \n",
       "Palos de la Frontera                          725.0                     20.0   \n",
       "Palma del Condado (La)                       1195.0                     17.0   \n",
       "Valverde del Camino                           663.0                     13.0   \n",
       "Bonares                                       298.0                      7.0   \n",
       "Ayamonte                                     1338.0                      6.0   \n",
       "Lepe                                         2170.0                     11.0   \n",
       "Punta Umbría                                  852.0                     11.0   \n",
       "Trigueros                                     333.0                      4.0   \n",
       "Manzanilla                                    107.0                      4.0   \n",
       "Aracena                                       541.0                      2.0   \n",
       "Aljaraque                                    1163.0                      6.0   \n",
       "Bollullos Par del Condado                    1032.0                      6.0   \n",
       "Villalba del Alcor                            482.0                      1.0   \n",
       "\n",
       "Medida                             Confirmados PDIA 14 días  Población  \\\n",
       "Lugar de residencia                                                      \n",
       "Huelva                                               1024.0   513170.0   \n",
       "Huelva-Costa                                          574.0   289548.0   \n",
       "Condado-Campiña                                       364.0   156231.0   \n",
       "Huelva (capital)                                      402.0   143837.0   \n",
       "Cartaya                                                37.0    20083.0   \n",
       "Almonte                                                56.0    24507.0   \n",
       "Moguer                                                 63.0    21867.0   \n",
       "San Juan del Puerto                                    51.0     9411.0   \n",
       "Sierra de Huelva-Andévalo Central                      83.0    67391.0   \n",
       "Palos de la Frontera                                   36.0    11742.0   \n",
       "Palma del Condado (La)                                 29.0    10801.0   \n",
       "Valverde del Camino                                    44.0    12750.0   \n",
       "Bonares                                                13.0     6060.0   \n",
       "Ayamonte                                               15.0    21104.0   \n",
       "Lepe                                                   24.0    27880.0   \n",
       "Punta Umbría                                           17.0    15355.0   \n",
       "Trigueros                                              12.0     7862.0   \n",
       "Manzanilla                                              5.0     2118.0   \n",
       "Aracena                                                 7.0     8255.0   \n",
       "Aljaraque                                              22.0    21474.0   \n",
       "Bollullos Par del Condado                              26.0    14387.0   \n",
       "Villalba del Alcor                                      1.0     3366.0   \n",
       "\n",
       "Medida                                  tasa7      tasa14  Diferencia PDIA  \n",
       "Lugar de residencia                                                         \n",
       "Huelva                              83.013426  199.544011             73.0  \n",
       "Huelva-Costa                        77.707323  198.240015             37.0  \n",
       "Condado-Campiña                    110.733465  232.988331             32.0  \n",
       "Huelva (capital)                   103.589480  279.483026             19.0  \n",
       "Cartaya                            109.545387  184.235423             10.0  \n",
       "Almonte                             93.850737  228.506141              8.0  \n",
       "Moguer                             150.912334  288.105364              5.0  \n",
       "San Juan del Puerto                255.020720  541.919031              5.0  \n",
       "Sierra de Huelva-Andévalo Central   40.064697  123.161847              4.0  \n",
       "Palos de la Frontera               170.328734  306.591722              4.0  \n",
       "Palma del Condado (La)             157.392834  268.493658              4.0  \n",
       "Valverde del Camino                101.960784  345.098039              3.0  \n",
       "Bonares                            115.511551  214.521452              3.0  \n",
       "Ayamonte                            28.430629   71.076573              3.0  \n",
       "Lepe                                39.454806   86.083214              2.0  \n",
       "Punta Umbría                        71.637903  110.713123              2.0  \n",
       "Trigueros                           50.877639  152.632918              2.0  \n",
       "Manzanilla                         188.857413  236.071766              1.0  \n",
       "Aracena                             24.227741   84.797093              1.0  \n",
       "Aljaraque                           27.940766  102.449474              1.0  \n",
       "Bollullos Par del Condado           41.704316  180.718704             -1.0  \n",
       "Villalba del Alcor                  29.708853   29.708853              NaN  "
      ],
      "text/html": "<div>\n<style scoped>\n    .dataframe tbody tr th:only-of-type {\n        vertical-align: middle;\n    }\n\n    .dataframe tbody tr th {\n        vertical-align: top;\n    }\n\n    .dataframe thead th {\n        text-align: right;\n    }\n</style>\n<table border=\"1\" class=\"dataframe\">\n  <thead>\n    <tr style=\"text-align: right;\">\n      <th>Medida</th>\n      <th>Confirmados PDIA</th>\n      <th>Confirmados PDIA 7 días</th>\n      <th>Confirmados PDIA 14 días</th>\n      <th>Población</th>\n      <th>tasa7</th>\n      <th>tasa14</th>\n      <th>Diferencia PDIA</th>\n    </tr>\n    <tr>\n      <th>Lugar de residencia</th>\n      <th></th>\n      <th></th>\n      <th></th>\n      <th></th>\n      <th></th>\n      <th></th>\n      <th></th>\n    </tr>\n  </thead>\n  <tbody>\n    <tr>\n      <th>Huelva</th>\n      <td>33206.0</td>\n      <td>426.0</td>\n      <td>1024.0</td>\n      <td>513170.0</td>\n      <td>83.013426</td>\n      <td>199.544011</td>\n      <td>73.0</td>\n    </tr>\n    <tr>\n      <th>Huelva-Costa</th>\n      <td>19113.0</td>\n      <td>225.0</td>\n      <td>574.0</td>\n      <td>289548.0</td>\n      <td>77.707323</td>\n      <td>198.240015</td>\n      <td>37.0</td>\n    </tr>\n    <tr>\n      <th>Condado-Campiña</th>\n      <td>10810.0</td>\n      <td>173.0</td>\n      <td>364.0</td>\n      <td>156231.0</td>\n      <td>110.733465</td>\n      <td>232.988331</td>\n      <td>32.0</td>\n    </tr>\n    <tr>\n      <th>Huelva (capital)</th>\n      <td>9091.0</td>\n      <td>149.0</td>\n      <td>402.0</td>\n      <td>143837.0</td>\n      <td>103.589480</td>\n      <td>279.483026</td>\n      <td>19.0</td>\n    </tr>\n    <tr>\n      <th>Cartaya</th>\n      <td>1394.0</td>\n      <td>22.0</td>\n      <td>37.0</td>\n      <td>20083.0</td>\n      <td>109.545387</td>\n      <td>184.235423</td>\n      <td>10.0</td>\n    </tr>\n    <tr>\n      <th>Almonte</th>\n      <td>1915.0</td>\n      <td>23.0</td>\n      <td>56.0</td>\n      <td>24507.0</td>\n      <td>93.850737</td>\n      <td>228.506141</td>\n      <td>8.0</td>\n    </tr>\n    <tr>\n      <th>Moguer</th>\n      <td>1396.0</td>\n      <td>33.0</td>\n      <td>63.0</td>\n      <td>21867.0</td>\n      <td>150.912334</td>\n      <td>288.105364</td>\n      <td>5.0</td>\n    </tr>\n    <tr>\n      <th>San Juan del Puerto</th>\n      <td>584.0</td>\n      <td>24.0</td>\n      <td>51.0</td>\n      <td>9411.0</td>\n      <td>255.020720</td>\n      <td>541.919031</td>\n      <td>5.0</td>\n    </tr>\n    <tr>\n      <th>Sierra de Huelva-Andévalo Central</th>\n      <td>2930.0</td>\n      <td>27.0</td>\n      <td>83.0</td>\n      <td>67391.0</td>\n      <td>40.064697</td>\n      <td>123.161847</td>\n      <td>4.0</td>\n    </tr>\n    <tr>\n      <th>Palos de la Frontera</th>\n      <td>725.0</td>\n      <td>20.0</td>\n      <td>36.0</td>\n      <td>11742.0</td>\n      <td>170.328734</td>\n      <td>306.591722</td>\n      <td>4.0</td>\n    </tr>\n    <tr>\n      <th>Palma del Condado (La)</th>\n      <td>1195.0</td>\n      <td>17.0</td>\n      <td>29.0</td>\n      <td>10801.0</td>\n      <td>157.392834</td>\n      <td>268.493658</td>\n      <td>4.0</td>\n    </tr>\n    <tr>\n      <th>Valverde del Camino</th>\n      <td>663.0</td>\n      <td>13.0</td>\n      <td>44.0</td>\n      <td>12750.0</td>\n      <td>101.960784</td>\n      <td>345.098039</td>\n      <td>3.0</td>\n    </tr>\n    <tr>\n      <th>Bonares</th>\n      <td>298.0</td>\n      <td>7.0</td>\n      <td>13.0</td>\n      <td>6060.0</td>\n      <td>115.511551</td>\n      <td>214.521452</td>\n      <td>3.0</td>\n    </tr>\n    <tr>\n      <th>Ayamonte</th>\n      <td>1338.0</td>\n      <td>6.0</td>\n      <td>15.0</td>\n      <td>21104.0</td>\n      <td>28.430629</td>\n      <td>71.076573</td>\n      <td>3.0</td>\n    </tr>\n    <tr>\n      <th>Lepe</th>\n      <td>2170.0</td>\n      <td>11.0</td>\n      <td>24.0</td>\n      <td>27880.0</td>\n      <td>39.454806</td>\n      <td>86.083214</td>\n      <td>2.0</td>\n    </tr>\n    <tr>\n      <th>Punta Umbría</th>\n      <td>852.0</td>\n      <td>11.0</td>\n      <td>17.0</td>\n      <td>15355.0</td>\n      <td>71.637903</td>\n      <td>110.713123</td>\n      <td>2.0</td>\n    </tr>\n    <tr>\n      <th>Trigueros</th>\n      <td>333.0</td>\n      <td>4.0</td>\n      <td>12.0</td>\n      <td>7862.0</td>\n      <td>50.877639</td>\n      <td>152.632918</td>\n      <td>2.0</td>\n    </tr>\n    <tr>\n      <th>Manzanilla</th>\n      <td>107.0</td>\n      <td>4.0</td>\n      <td>5.0</td>\n      <td>2118.0</td>\n      <td>188.857413</td>\n      <td>236.071766</td>\n      <td>1.0</td>\n    </tr>\n    <tr>\n      <th>Aracena</th>\n      <td>541.0</td>\n      <td>2.0</td>\n      <td>7.0</td>\n      <td>8255.0</td>\n      <td>24.227741</td>\n      <td>84.797093</td>\n      <td>1.0</td>\n    </tr>\n    <tr>\n      <th>Aljaraque</th>\n      <td>1163.0</td>\n      <td>6.0</td>\n      <td>22.0</td>\n      <td>21474.0</td>\n      <td>27.940766</td>\n      <td>102.449474</td>\n      <td>1.0</td>\n    </tr>\n    <tr>\n      <th>Bollullos Par del Condado</th>\n      <td>1032.0</td>\n      <td>6.0</td>\n      <td>26.0</td>\n      <td>14387.0</td>\n      <td>41.704316</td>\n      <td>180.718704</td>\n      <td>-1.0</td>\n    </tr>\n    <tr>\n      <th>Villalba del Alcor</th>\n      <td>482.0</td>\n      <td>1.0</td>\n      <td>1.0</td>\n      <td>3366.0</td>\n      <td>29.708853</td>\n      <td>29.708853</td>\n      <td>NaN</td>\n    </tr>\n  </tbody>\n</table>\n</div>"
     },
     "metadata": {},
     "execution_count": 15
    }
   ],
   "source": [
    "# Nuevos casos desde la última captura\n",
    "tabla[tabla['Diferencia PDIA'] != 0].sort_values('Diferencia PDIA', ascending=False)"
   ]
  },
  {
   "cell_type": "code",
   "execution_count": 16,
   "metadata": {},
   "outputs": [],
   "source": [
    "if tabla[tabla['Diferencia PDIA'] != 0]['Diferencia PDIA'].sum() != 0:\n",
    "  # Save to csv\n",
    "  tabla.to_csv('covid_huelva.csv', encoding='utf-8', header=True, index=True)  "
   ]
  },
  {
   "cell_type": "code",
   "execution_count": 17,
   "metadata": {},
   "outputs": [
    {
     "output_type": "execute_result",
     "data": {
      "text/plain": [
       "Medida                             Confirmados PDIA  Confirmados PDIA 7 días  \\\n",
       "Lugar de residencia                                                            \n",
       "San Juan del Puerto                           584.0                     24.0   \n",
       "Puebla de Guzmán                              141.0                      4.0   \n",
       "Beas                                          232.0                     11.0   \n",
       "Cerro de Andévalo (El)                        154.0                      6.0   \n",
       "Almendro (El)                                  39.0                      1.0   \n",
       "Valverde del Camino                           663.0                     13.0   \n",
       "Calañas                                       201.0                      1.0   \n",
       "Palos de la Frontera                          725.0                     20.0   \n",
       "Moguer                                       1396.0                     33.0   \n",
       "Huelva (capital)                             9091.0                    149.0   \n",
       "Palma del Condado (La)                       1195.0                     17.0   \n",
       "Lucena del Puerto                             267.0                      2.0   \n",
       "Manzanilla                                    107.0                      4.0   \n",
       "Condado-Campiña                             10810.0                    173.0   \n",
       "Almonte                                      1915.0                     23.0   \n",
       "Almonaster la Real                             70.0                      2.0   \n",
       "Niebla                                        249.0                      2.0   \n",
       "Bonares                                       298.0                      7.0   \n",
       "Huelva                                      33206.0                    426.0   \n",
       "Huelva-Costa                                19113.0                    225.0   \n",
       "Cartaya                                      1394.0                     22.0   \n",
       "Bollullos Par del Condado                    1032.0                      6.0   \n",
       "Rociana del Condado                           572.0                      8.0   \n",
       "San Bartolomé de la Torre                     307.0                      2.0   \n",
       "Trigueros                                     333.0                      4.0   \n",
       "Villablanca                                   191.0                      2.0   \n",
       "Sierra de Huelva-Andévalo Central            2930.0                     27.0   \n",
       "Gibraleón                                     653.0                      9.0   \n",
       "Isla Cristina                                2182.0                     11.0   \n",
       "Punta Umbría                                  852.0                     11.0   \n",
       "Aljaraque                                    1163.0                      6.0   \n",
       "Lepe                                         2170.0                     11.0   \n",
       "Paymogo                                        76.0                      1.0   \n",
       "Aracena                                       541.0                      2.0   \n",
       "Ayamonte                                     1338.0                      6.0   \n",
       "Cumbres Mayores                                54.0                      1.0   \n",
       "Nerva                                         180.0                      1.0   \n",
       "Villanueva de los Castillejos                 165.0                      1.0   \n",
       "Villalba del Alcor                            482.0                      1.0   \n",
       "Cortegana                                     215.0                      1.0   \n",
       "\n",
       "Medida                             Confirmados PDIA 14 días  Población  \\\n",
       "Lugar de residencia                                                      \n",
       "San Juan del Puerto                                    51.0     9411.0   \n",
       "Puebla de Guzmán                                       15.0     3092.0   \n",
       "Beas                                                   19.0     4341.0   \n",
       "Cerro de Andévalo (El)                                  9.0     2327.0   \n",
       "Almendro (El)                                           3.0      840.0   \n",
       "Valverde del Camino                                    44.0    12750.0   \n",
       "Calañas                                                 9.0     2768.0   \n",
       "Palos de la Frontera                                   36.0    11742.0   \n",
       "Moguer                                                 63.0    21867.0   \n",
       "Huelva (capital)                                      402.0   143837.0   \n",
       "Palma del Condado (La)                                 29.0    10801.0   \n",
       "Lucena del Puerto                                       8.0     3261.0   \n",
       "Manzanilla                                              5.0     2118.0   \n",
       "Condado-Campiña                                       364.0   156231.0   \n",
       "Almonte                                                56.0    24507.0   \n",
       "Almonaster la Real                                      4.0     1788.0   \n",
       "Niebla                                                  9.0     4116.0   \n",
       "Bonares                                                13.0     6060.0   \n",
       "Huelva                                               1024.0   513170.0   \n",
       "Huelva-Costa                                          574.0   289548.0   \n",
       "Cartaya                                                37.0    20083.0   \n",
       "Bollullos Par del Condado                              26.0    14387.0   \n",
       "Rociana del Condado                                    14.0     7939.0   \n",
       "San Bartolomé de la Torre                               6.0     3761.0   \n",
       "Trigueros                                              12.0     7862.0   \n",
       "Villablanca                                             4.0     2885.0   \n",
       "Sierra de Huelva-Andévalo Central                      83.0    67391.0   \n",
       "Gibraleón                                              15.0    12737.0   \n",
       "Isla Cristina                                          24.0    21393.0   \n",
       "Punta Umbría                                           17.0    15355.0   \n",
       "Aljaraque                                              22.0    21474.0   \n",
       "Lepe                                                   24.0    27880.0   \n",
       "Paymogo                                                 1.0     1162.0   \n",
       "Aracena                                                 7.0     8255.0   \n",
       "Ayamonte                                               15.0    21104.0   \n",
       "Cumbres Mayores                                         1.0     1749.0   \n",
       "Nerva                                                   2.0     5169.0   \n",
       "Villanueva de los Castillejos                           1.0     2825.0   \n",
       "Villalba del Alcor                                      1.0     3366.0   \n",
       "Cortegana                                               1.0     4602.0   \n",
       "\n",
       "Medida                                  tasa7      tasa14  Diferencia PDIA  \n",
       "Lugar de residencia                                                         \n",
       "San Juan del Puerto                255.020720  541.919031              5.0  \n",
       "Puebla de Guzmán                   129.366106  485.122898              0.0  \n",
       "Beas                               253.397835  437.687169              0.0  \n",
       "Cerro de Andévalo (El)             257.842716  386.764074              0.0  \n",
       "Almendro (El)                      119.047619  357.142857              0.0  \n",
       "Valverde del Camino                101.960784  345.098039              3.0  \n",
       "Calañas                             36.127168  325.144509              0.0  \n",
       "Palos de la Frontera               170.328734  306.591722              4.0  \n",
       "Moguer                             150.912334  288.105364              5.0  \n",
       "Huelva (capital)                   103.589480  279.483026             19.0  \n",
       "Palma del Condado (La)             157.392834  268.493658              4.0  \n",
       "Lucena del Puerto                   61.330880  245.323520              0.0  \n",
       "Manzanilla                         188.857413  236.071766              1.0  \n",
       "Condado-Campiña                    110.733465  232.988331             32.0  \n",
       "Almonte                             93.850737  228.506141              8.0  \n",
       "Almonaster la Real                 111.856823  223.713647              0.0  \n",
       "Niebla                              48.590865  218.658892              0.0  \n",
       "Bonares                            115.511551  214.521452              3.0  \n",
       "Huelva                              83.013426  199.544011             73.0  \n",
       "Huelva-Costa                        77.707323  198.240015             37.0  \n",
       "Cartaya                            109.545387  184.235423             10.0  \n",
       "Bollullos Par del Condado           41.704316  180.718704             -1.0  \n",
       "Rociana del Condado                100.768359  176.344628              0.0  \n",
       "San Bartolomé de la Torre           53.177346  159.532039              0.0  \n",
       "Trigueros                           50.877639  152.632918              2.0  \n",
       "Villablanca                         69.324090  138.648180              0.0  \n",
       "Sierra de Huelva-Andévalo Central   40.064697  123.161847              4.0  \n",
       "Gibraleón                           70.660281  117.767135              0.0  \n",
       "Isla Cristina                       51.418688  112.186229              0.0  \n",
       "Punta Umbría                        71.637903  110.713123              2.0  \n",
       "Aljaraque                           27.940766  102.449474              1.0  \n",
       "Lepe                                39.454806   86.083214              2.0  \n",
       "Paymogo                             86.058520   86.058520              0.0  \n",
       "Aracena                             24.227741   84.797093              1.0  \n",
       "Ayamonte                            28.430629   71.076573              3.0  \n",
       "Cumbres Mayores                     57.175529   57.175529              0.0  \n",
       "Nerva                               19.346102   38.692204              0.0  \n",
       "Villanueva de los Castillejos       35.398230   35.398230              0.0  \n",
       "Villalba del Alcor                  29.708853   29.708853              NaN  \n",
       "Cortegana                           21.729683   21.729683              0.0  "
      ],
      "text/html": "<div>\n<style scoped>\n    .dataframe tbody tr th:only-of-type {\n        vertical-align: middle;\n    }\n\n    .dataframe tbody tr th {\n        vertical-align: top;\n    }\n\n    .dataframe thead th {\n        text-align: right;\n    }\n</style>\n<table border=\"1\" class=\"dataframe\">\n  <thead>\n    <tr style=\"text-align: right;\">\n      <th>Medida</th>\n      <th>Confirmados PDIA</th>\n      <th>Confirmados PDIA 7 días</th>\n      <th>Confirmados PDIA 14 días</th>\n      <th>Población</th>\n      <th>tasa7</th>\n      <th>tasa14</th>\n      <th>Diferencia PDIA</th>\n    </tr>\n    <tr>\n      <th>Lugar de residencia</th>\n      <th></th>\n      <th></th>\n      <th></th>\n      <th></th>\n      <th></th>\n      <th></th>\n      <th></th>\n    </tr>\n  </thead>\n  <tbody>\n    <tr>\n      <th>San Juan del Puerto</th>\n      <td>584.0</td>\n      <td>24.0</td>\n      <td>51.0</td>\n      <td>9411.0</td>\n      <td>255.020720</td>\n      <td>541.919031</td>\n      <td>5.0</td>\n    </tr>\n    <tr>\n      <th>Puebla de Guzmán</th>\n      <td>141.0</td>\n      <td>4.0</td>\n      <td>15.0</td>\n      <td>3092.0</td>\n      <td>129.366106</td>\n      <td>485.122898</td>\n      <td>0.0</td>\n    </tr>\n    <tr>\n      <th>Beas</th>\n      <td>232.0</td>\n      <td>11.0</td>\n      <td>19.0</td>\n      <td>4341.0</td>\n      <td>253.397835</td>\n      <td>437.687169</td>\n      <td>0.0</td>\n    </tr>\n    <tr>\n      <th>Cerro de Andévalo (El)</th>\n      <td>154.0</td>\n      <td>6.0</td>\n      <td>9.0</td>\n      <td>2327.0</td>\n      <td>257.842716</td>\n      <td>386.764074</td>\n      <td>0.0</td>\n    </tr>\n    <tr>\n      <th>Almendro (El)</th>\n      <td>39.0</td>\n      <td>1.0</td>\n      <td>3.0</td>\n      <td>840.0</td>\n      <td>119.047619</td>\n      <td>357.142857</td>\n      <td>0.0</td>\n    </tr>\n    <tr>\n      <th>Valverde del Camino</th>\n      <td>663.0</td>\n      <td>13.0</td>\n      <td>44.0</td>\n      <td>12750.0</td>\n      <td>101.960784</td>\n      <td>345.098039</td>\n      <td>3.0</td>\n    </tr>\n    <tr>\n      <th>Calañas</th>\n      <td>201.0</td>\n      <td>1.0</td>\n      <td>9.0</td>\n      <td>2768.0</td>\n      <td>36.127168</td>\n      <td>325.144509</td>\n      <td>0.0</td>\n    </tr>\n    <tr>\n      <th>Palos de la Frontera</th>\n      <td>725.0</td>\n      <td>20.0</td>\n      <td>36.0</td>\n      <td>11742.0</td>\n      <td>170.328734</td>\n      <td>306.591722</td>\n      <td>4.0</td>\n    </tr>\n    <tr>\n      <th>Moguer</th>\n      <td>1396.0</td>\n      <td>33.0</td>\n      <td>63.0</td>\n      <td>21867.0</td>\n      <td>150.912334</td>\n      <td>288.105364</td>\n      <td>5.0</td>\n    </tr>\n    <tr>\n      <th>Huelva (capital)</th>\n      <td>9091.0</td>\n      <td>149.0</td>\n      <td>402.0</td>\n      <td>143837.0</td>\n      <td>103.589480</td>\n      <td>279.483026</td>\n      <td>19.0</td>\n    </tr>\n    <tr>\n      <th>Palma del Condado (La)</th>\n      <td>1195.0</td>\n      <td>17.0</td>\n      <td>29.0</td>\n      <td>10801.0</td>\n      <td>157.392834</td>\n      <td>268.493658</td>\n      <td>4.0</td>\n    </tr>\n    <tr>\n      <th>Lucena del Puerto</th>\n      <td>267.0</td>\n      <td>2.0</td>\n      <td>8.0</td>\n      <td>3261.0</td>\n      <td>61.330880</td>\n      <td>245.323520</td>\n      <td>0.0</td>\n    </tr>\n    <tr>\n      <th>Manzanilla</th>\n      <td>107.0</td>\n      <td>4.0</td>\n      <td>5.0</td>\n      <td>2118.0</td>\n      <td>188.857413</td>\n      <td>236.071766</td>\n      <td>1.0</td>\n    </tr>\n    <tr>\n      <th>Condado-Campiña</th>\n      <td>10810.0</td>\n      <td>173.0</td>\n      <td>364.0</td>\n      <td>156231.0</td>\n      <td>110.733465</td>\n      <td>232.988331</td>\n      <td>32.0</td>\n    </tr>\n    <tr>\n      <th>Almonte</th>\n      <td>1915.0</td>\n      <td>23.0</td>\n      <td>56.0</td>\n      <td>24507.0</td>\n      <td>93.850737</td>\n      <td>228.506141</td>\n      <td>8.0</td>\n    </tr>\n    <tr>\n      <th>Almonaster la Real</th>\n      <td>70.0</td>\n      <td>2.0</td>\n      <td>4.0</td>\n      <td>1788.0</td>\n      <td>111.856823</td>\n      <td>223.713647</td>\n      <td>0.0</td>\n    </tr>\n    <tr>\n      <th>Niebla</th>\n      <td>249.0</td>\n      <td>2.0</td>\n      <td>9.0</td>\n      <td>4116.0</td>\n      <td>48.590865</td>\n      <td>218.658892</td>\n      <td>0.0</td>\n    </tr>\n    <tr>\n      <th>Bonares</th>\n      <td>298.0</td>\n      <td>7.0</td>\n      <td>13.0</td>\n      <td>6060.0</td>\n      <td>115.511551</td>\n      <td>214.521452</td>\n      <td>3.0</td>\n    </tr>\n    <tr>\n      <th>Huelva</th>\n      <td>33206.0</td>\n      <td>426.0</td>\n      <td>1024.0</td>\n      <td>513170.0</td>\n      <td>83.013426</td>\n      <td>199.544011</td>\n      <td>73.0</td>\n    </tr>\n    <tr>\n      <th>Huelva-Costa</th>\n      <td>19113.0</td>\n      <td>225.0</td>\n      <td>574.0</td>\n      <td>289548.0</td>\n      <td>77.707323</td>\n      <td>198.240015</td>\n      <td>37.0</td>\n    </tr>\n    <tr>\n      <th>Cartaya</th>\n      <td>1394.0</td>\n      <td>22.0</td>\n      <td>37.0</td>\n      <td>20083.0</td>\n      <td>109.545387</td>\n      <td>184.235423</td>\n      <td>10.0</td>\n    </tr>\n    <tr>\n      <th>Bollullos Par del Condado</th>\n      <td>1032.0</td>\n      <td>6.0</td>\n      <td>26.0</td>\n      <td>14387.0</td>\n      <td>41.704316</td>\n      <td>180.718704</td>\n      <td>-1.0</td>\n    </tr>\n    <tr>\n      <th>Rociana del Condado</th>\n      <td>572.0</td>\n      <td>8.0</td>\n      <td>14.0</td>\n      <td>7939.0</td>\n      <td>100.768359</td>\n      <td>176.344628</td>\n      <td>0.0</td>\n    </tr>\n    <tr>\n      <th>San Bartolomé de la Torre</th>\n      <td>307.0</td>\n      <td>2.0</td>\n      <td>6.0</td>\n      <td>3761.0</td>\n      <td>53.177346</td>\n      <td>159.532039</td>\n      <td>0.0</td>\n    </tr>\n    <tr>\n      <th>Trigueros</th>\n      <td>333.0</td>\n      <td>4.0</td>\n      <td>12.0</td>\n      <td>7862.0</td>\n      <td>50.877639</td>\n      <td>152.632918</td>\n      <td>2.0</td>\n    </tr>\n    <tr>\n      <th>Villablanca</th>\n      <td>191.0</td>\n      <td>2.0</td>\n      <td>4.0</td>\n      <td>2885.0</td>\n      <td>69.324090</td>\n      <td>138.648180</td>\n      <td>0.0</td>\n    </tr>\n    <tr>\n      <th>Sierra de Huelva-Andévalo Central</th>\n      <td>2930.0</td>\n      <td>27.0</td>\n      <td>83.0</td>\n      <td>67391.0</td>\n      <td>40.064697</td>\n      <td>123.161847</td>\n      <td>4.0</td>\n    </tr>\n    <tr>\n      <th>Gibraleón</th>\n      <td>653.0</td>\n      <td>9.0</td>\n      <td>15.0</td>\n      <td>12737.0</td>\n      <td>70.660281</td>\n      <td>117.767135</td>\n      <td>0.0</td>\n    </tr>\n    <tr>\n      <th>Isla Cristina</th>\n      <td>2182.0</td>\n      <td>11.0</td>\n      <td>24.0</td>\n      <td>21393.0</td>\n      <td>51.418688</td>\n      <td>112.186229</td>\n      <td>0.0</td>\n    </tr>\n    <tr>\n      <th>Punta Umbría</th>\n      <td>852.0</td>\n      <td>11.0</td>\n      <td>17.0</td>\n      <td>15355.0</td>\n      <td>71.637903</td>\n      <td>110.713123</td>\n      <td>2.0</td>\n    </tr>\n    <tr>\n      <th>Aljaraque</th>\n      <td>1163.0</td>\n      <td>6.0</td>\n      <td>22.0</td>\n      <td>21474.0</td>\n      <td>27.940766</td>\n      <td>102.449474</td>\n      <td>1.0</td>\n    </tr>\n    <tr>\n      <th>Lepe</th>\n      <td>2170.0</td>\n      <td>11.0</td>\n      <td>24.0</td>\n      <td>27880.0</td>\n      <td>39.454806</td>\n      <td>86.083214</td>\n      <td>2.0</td>\n    </tr>\n    <tr>\n      <th>Paymogo</th>\n      <td>76.0</td>\n      <td>1.0</td>\n      <td>1.0</td>\n      <td>1162.0</td>\n      <td>86.058520</td>\n      <td>86.058520</td>\n      <td>0.0</td>\n    </tr>\n    <tr>\n      <th>Aracena</th>\n      <td>541.0</td>\n      <td>2.0</td>\n      <td>7.0</td>\n      <td>8255.0</td>\n      <td>24.227741</td>\n      <td>84.797093</td>\n      <td>1.0</td>\n    </tr>\n    <tr>\n      <th>Ayamonte</th>\n      <td>1338.0</td>\n      <td>6.0</td>\n      <td>15.0</td>\n      <td>21104.0</td>\n      <td>28.430629</td>\n      <td>71.076573</td>\n      <td>3.0</td>\n    </tr>\n    <tr>\n      <th>Cumbres Mayores</th>\n      <td>54.0</td>\n      <td>1.0</td>\n      <td>1.0</td>\n      <td>1749.0</td>\n      <td>57.175529</td>\n      <td>57.175529</td>\n      <td>0.0</td>\n    </tr>\n    <tr>\n      <th>Nerva</th>\n      <td>180.0</td>\n      <td>1.0</td>\n      <td>2.0</td>\n      <td>5169.0</td>\n      <td>19.346102</td>\n      <td>38.692204</td>\n      <td>0.0</td>\n    </tr>\n    <tr>\n      <th>Villanueva de los Castillejos</th>\n      <td>165.0</td>\n      <td>1.0</td>\n      <td>1.0</td>\n      <td>2825.0</td>\n      <td>35.398230</td>\n      <td>35.398230</td>\n      <td>0.0</td>\n    </tr>\n    <tr>\n      <th>Villalba del Alcor</th>\n      <td>482.0</td>\n      <td>1.0</td>\n      <td>1.0</td>\n      <td>3366.0</td>\n      <td>29.708853</td>\n      <td>29.708853</td>\n      <td>NaN</td>\n    </tr>\n    <tr>\n      <th>Cortegana</th>\n      <td>215.0</td>\n      <td>1.0</td>\n      <td>1.0</td>\n      <td>4602.0</td>\n      <td>21.729683</td>\n      <td>21.729683</td>\n      <td>0.0</td>\n    </tr>\n  </tbody>\n</table>\n</div>"
     },
     "metadata": {},
     "execution_count": 17
    }
   ],
   "source": [
    "tabla.sort_values('tasa14', ascending=False)"
   ]
  },
  {
   "cell_type": "code",
   "execution_count": 18,
   "metadata": {},
   "outputs": [
    {
     "output_type": "execute_result",
     "data": {
      "text/plain": [
       "Medida                             Confirmados PDIA  Confirmados PDIA 7 días  \\\n",
       "Lugar de residencia                                                            \n",
       "Calañas                                       201.0                      1.0   \n",
       "Niebla                                        249.0                      2.0   \n",
       "Bollullos Par del Condado                    1032.0                      6.0   \n",
       "Lucena del Puerto                             267.0                      2.0   \n",
       "Puebla de Guzmán                              141.0                      4.0   \n",
       "Aljaraque                                    1163.0                      6.0   \n",
       "Aracena                                       541.0                      2.0   \n",
       "Valverde del Camino                           663.0                     13.0   \n",
       "Sierra de Huelva-Andévalo Central            2930.0                     27.0   \n",
       "Trigueros                                     333.0                      4.0   \n",
       "San Bartolomé de la Torre                     307.0                      2.0   \n",
       "Almendro (El)                                  39.0                      1.0   \n",
       "Huelva (capital)                             9091.0                    149.0   \n",
       "Huelva-Costa                                19113.0                    225.0   \n",
       "Ayamonte                                     1338.0                      6.0   \n",
       "Almonte                                      1915.0                     23.0   \n",
       "Huelva                                      33206.0                    426.0   \n",
       "Lepe                                         2170.0                     11.0   \n",
       "Isla Cristina                                2182.0                     11.0   \n",
       "San Juan del Puerto                           584.0                     24.0   \n",
       "Condado-Campiña                             10810.0                    173.0   \n",
       "Villablanca                                   191.0                      2.0   \n",
       "Almonaster la Real                             70.0                      2.0   \n",
       "Nerva                                         180.0                      1.0   \n",
       "Moguer                                       1396.0                     33.0   \n",
       "Bonares                                       298.0                      7.0   \n",
       "Palos de la Frontera                          725.0                     20.0   \n",
       "Rociana del Condado                           572.0                      8.0   \n",
       "Beas                                          232.0                     11.0   \n",
       "Palma del Condado (La)                       1195.0                     17.0   \n",
       "Cartaya                                      1394.0                     22.0   \n",
       "Gibraleón                                     653.0                      9.0   \n",
       "Punta Umbría                                  852.0                     11.0   \n",
       "Cerro de Andévalo (El)                        154.0                      6.0   \n",
       "Manzanilla                                    107.0                      4.0   \n",
       "Villalba del Alcor                            482.0                      1.0   \n",
       "Cortegana                                     215.0                      1.0   \n",
       "Cumbres Mayores                                54.0                      1.0   \n",
       "Paymogo                                        76.0                      1.0   \n",
       "Villanueva de los Castillejos                 165.0                      1.0   \n",
       "\n",
       "Medida                             Confirmados PDIA 14 días  Población  \\\n",
       "Lugar de residencia                                                      \n",
       "Calañas                                                 9.0     2768.0   \n",
       "Niebla                                                  9.0     4116.0   \n",
       "Bollullos Par del Condado                              26.0    14387.0   \n",
       "Lucena del Puerto                                       8.0     3261.0   \n",
       "Puebla de Guzmán                                       15.0     3092.0   \n",
       "Aljaraque                                              22.0    21474.0   \n",
       "Aracena                                                 7.0     8255.0   \n",
       "Valverde del Camino                                    44.0    12750.0   \n",
       "Sierra de Huelva-Andévalo Central                      83.0    67391.0   \n",
       "Trigueros                                              12.0     7862.0   \n",
       "San Bartolomé de la Torre                               6.0     3761.0   \n",
       "Almendro (El)                                           3.0      840.0   \n",
       "Huelva (capital)                                      402.0   143837.0   \n",
       "Huelva-Costa                                          574.0   289548.0   \n",
       "Ayamonte                                               15.0    21104.0   \n",
       "Almonte                                                56.0    24507.0   \n",
       "Huelva                                               1024.0   513170.0   \n",
       "Lepe                                                   24.0    27880.0   \n",
       "Isla Cristina                                          24.0    21393.0   \n",
       "San Juan del Puerto                                    51.0     9411.0   \n",
       "Condado-Campiña                                       364.0   156231.0   \n",
       "Villablanca                                             4.0     2885.0   \n",
       "Almonaster la Real                                      4.0     1788.0   \n",
       "Nerva                                                   2.0     5169.0   \n",
       "Moguer                                                 63.0    21867.0   \n",
       "Bonares                                                13.0     6060.0   \n",
       "Palos de la Frontera                                   36.0    11742.0   \n",
       "Rociana del Condado                                    14.0     7939.0   \n",
       "Beas                                                   19.0     4341.0   \n",
       "Palma del Condado (La)                                 29.0    10801.0   \n",
       "Cartaya                                                37.0    20083.0   \n",
       "Gibraleón                                              15.0    12737.0   \n",
       "Punta Umbría                                           17.0    15355.0   \n",
       "Cerro de Andévalo (El)                                  9.0     2327.0   \n",
       "Manzanilla                                              5.0     2118.0   \n",
       "Villalba del Alcor                                      1.0     3366.0   \n",
       "Cortegana                                               1.0     4602.0   \n",
       "Cumbres Mayores                                         1.0     1749.0   \n",
       "Paymogo                                                 1.0     1162.0   \n",
       "Villanueva de los Castillejos                           1.0     2825.0   \n",
       "\n",
       "Medida                                  tasa7      tasa14  Diferencia PDIA  \\\n",
       "Lugar de residencia                                                          \n",
       "Calañas                             36.127168  325.144509              0.0   \n",
       "Niebla                              48.590865  218.658892              0.0   \n",
       "Bollullos Par del Condado           41.704316  180.718704             -1.0   \n",
       "Lucena del Puerto                   61.330880  245.323520              0.0   \n",
       "Puebla de Guzmán                   129.366106  485.122898              0.0   \n",
       "Aljaraque                           27.940766  102.449474              1.0   \n",
       "Aracena                             24.227741   84.797093              1.0   \n",
       "Valverde del Camino                101.960784  345.098039              3.0   \n",
       "Sierra de Huelva-Andévalo Central   40.064697  123.161847              4.0   \n",
       "Trigueros                           50.877639  152.632918              2.0   \n",
       "San Bartolomé de la Torre           53.177346  159.532039              0.0   \n",
       "Almendro (El)                      119.047619  357.142857              0.0   \n",
       "Huelva (capital)                   103.589480  279.483026             19.0   \n",
       "Huelva-Costa                        77.707323  198.240015             37.0   \n",
       "Ayamonte                            28.430629   71.076573              3.0   \n",
       "Almonte                             93.850737  228.506141              8.0   \n",
       "Huelva                              83.013426  199.544011             73.0   \n",
       "Lepe                                39.454806   86.083214              2.0   \n",
       "Isla Cristina                       51.418688  112.186229              0.0   \n",
       "San Juan del Puerto                255.020720  541.919031              5.0   \n",
       "Condado-Campiña                    110.733465  232.988331             32.0   \n",
       "Villablanca                         69.324090  138.648180              0.0   \n",
       "Almonaster la Real                 111.856823  223.713647              0.0   \n",
       "Nerva                               19.346102   38.692204              0.0   \n",
       "Moguer                             150.912334  288.105364              5.0   \n",
       "Bonares                            115.511551  214.521452              3.0   \n",
       "Palos de la Frontera               170.328734  306.591722              4.0   \n",
       "Rociana del Condado                100.768359  176.344628              0.0   \n",
       "Beas                               253.397835  437.687169              0.0   \n",
       "Palma del Condado (La)             157.392834  268.493658              4.0   \n",
       "Cartaya                            109.545387  184.235423             10.0   \n",
       "Gibraleón                           70.660281  117.767135              0.0   \n",
       "Punta Umbría                        71.637903  110.713123              2.0   \n",
       "Cerro de Andévalo (El)             257.842716  386.764074              0.0   \n",
       "Manzanilla                         188.857413  236.071766              1.0   \n",
       "Villalba del Alcor                  29.708853   29.708853              0.0   \n",
       "Cortegana                           21.729683   21.729683              0.0   \n",
       "Cumbres Mayores                     57.175529   57.175529              0.0   \n",
       "Paymogo                             86.058520   86.058520              0.0   \n",
       "Villanueva de los Castillejos       35.398230   35.398230              0.0   \n",
       "\n",
       "Medida                                 7/14  \n",
       "Lugar de residencia                          \n",
       "Calañas                            0.111111  \n",
       "Niebla                             0.222222  \n",
       "Bollullos Par del Condado          0.230769  \n",
       "Lucena del Puerto                  0.250000  \n",
       "Puebla de Guzmán                   0.266667  \n",
       "Aljaraque                          0.272727  \n",
       "Aracena                            0.285714  \n",
       "Valverde del Camino                0.295455  \n",
       "Sierra de Huelva-Andévalo Central  0.325301  \n",
       "Trigueros                          0.333333  \n",
       "San Bartolomé de la Torre          0.333333  \n",
       "Almendro (El)                      0.333333  \n",
       "Huelva (capital)                   0.370647  \n",
       "Huelva-Costa                       0.391986  \n",
       "Ayamonte                           0.400000  \n",
       "Almonte                            0.410714  \n",
       "Huelva                             0.416016  \n",
       "Lepe                               0.458333  \n",
       "Isla Cristina                      0.458333  \n",
       "San Juan del Puerto                0.470588  \n",
       "Condado-Campiña                    0.475275  \n",
       "Villablanca                        0.500000  \n",
       "Almonaster la Real                 0.500000  \n",
       "Nerva                              0.500000  \n",
       "Moguer                             0.523810  \n",
       "Bonares                            0.538462  \n",
       "Palos de la Frontera               0.555556  \n",
       "Rociana del Condado                0.571429  \n",
       "Beas                               0.578947  \n",
       "Palma del Condado (La)             0.586207  \n",
       "Cartaya                            0.594595  \n",
       "Gibraleón                          0.600000  \n",
       "Punta Umbría                       0.647059  \n",
       "Cerro de Andévalo (El)             0.666667  \n",
       "Manzanilla                         0.800000  \n",
       "Villalba del Alcor                 1.000000  \n",
       "Cortegana                          1.000000  \n",
       "Cumbres Mayores                    1.000000  \n",
       "Paymogo                            1.000000  \n",
       "Villanueva de los Castillejos      1.000000  "
      ],
      "text/html": "<div>\n<style scoped>\n    .dataframe tbody tr th:only-of-type {\n        vertical-align: middle;\n    }\n\n    .dataframe tbody tr th {\n        vertical-align: top;\n    }\n\n    .dataframe thead th {\n        text-align: right;\n    }\n</style>\n<table border=\"1\" class=\"dataframe\">\n  <thead>\n    <tr style=\"text-align: right;\">\n      <th>Medida</th>\n      <th>Confirmados PDIA</th>\n      <th>Confirmados PDIA 7 días</th>\n      <th>Confirmados PDIA 14 días</th>\n      <th>Población</th>\n      <th>tasa7</th>\n      <th>tasa14</th>\n      <th>Diferencia PDIA</th>\n      <th>7/14</th>\n    </tr>\n    <tr>\n      <th>Lugar de residencia</th>\n      <th></th>\n      <th></th>\n      <th></th>\n      <th></th>\n      <th></th>\n      <th></th>\n      <th></th>\n      <th></th>\n    </tr>\n  </thead>\n  <tbody>\n    <tr>\n      <th>Calañas</th>\n      <td>201.0</td>\n      <td>1.0</td>\n      <td>9.0</td>\n      <td>2768.0</td>\n      <td>36.127168</td>\n      <td>325.144509</td>\n      <td>0.0</td>\n      <td>0.111111</td>\n    </tr>\n    <tr>\n      <th>Niebla</th>\n      <td>249.0</td>\n      <td>2.0</td>\n      <td>9.0</td>\n      <td>4116.0</td>\n      <td>48.590865</td>\n      <td>218.658892</td>\n      <td>0.0</td>\n      <td>0.222222</td>\n    </tr>\n    <tr>\n      <th>Bollullos Par del Condado</th>\n      <td>1032.0</td>\n      <td>6.0</td>\n      <td>26.0</td>\n      <td>14387.0</td>\n      <td>41.704316</td>\n      <td>180.718704</td>\n      <td>-1.0</td>\n      <td>0.230769</td>\n    </tr>\n    <tr>\n      <th>Lucena del Puerto</th>\n      <td>267.0</td>\n      <td>2.0</td>\n      <td>8.0</td>\n      <td>3261.0</td>\n      <td>61.330880</td>\n      <td>245.323520</td>\n      <td>0.0</td>\n      <td>0.250000</td>\n    </tr>\n    <tr>\n      <th>Puebla de Guzmán</th>\n      <td>141.0</td>\n      <td>4.0</td>\n      <td>15.0</td>\n      <td>3092.0</td>\n      <td>129.366106</td>\n      <td>485.122898</td>\n      <td>0.0</td>\n      <td>0.266667</td>\n    </tr>\n    <tr>\n      <th>Aljaraque</th>\n      <td>1163.0</td>\n      <td>6.0</td>\n      <td>22.0</td>\n      <td>21474.0</td>\n      <td>27.940766</td>\n      <td>102.449474</td>\n      <td>1.0</td>\n      <td>0.272727</td>\n    </tr>\n    <tr>\n      <th>Aracena</th>\n      <td>541.0</td>\n      <td>2.0</td>\n      <td>7.0</td>\n      <td>8255.0</td>\n      <td>24.227741</td>\n      <td>84.797093</td>\n      <td>1.0</td>\n      <td>0.285714</td>\n    </tr>\n    <tr>\n      <th>Valverde del Camino</th>\n      <td>663.0</td>\n      <td>13.0</td>\n      <td>44.0</td>\n      <td>12750.0</td>\n      <td>101.960784</td>\n      <td>345.098039</td>\n      <td>3.0</td>\n      <td>0.295455</td>\n    </tr>\n    <tr>\n      <th>Sierra de Huelva-Andévalo Central</th>\n      <td>2930.0</td>\n      <td>27.0</td>\n      <td>83.0</td>\n      <td>67391.0</td>\n      <td>40.064697</td>\n      <td>123.161847</td>\n      <td>4.0</td>\n      <td>0.325301</td>\n    </tr>\n    <tr>\n      <th>Trigueros</th>\n      <td>333.0</td>\n      <td>4.0</td>\n      <td>12.0</td>\n      <td>7862.0</td>\n      <td>50.877639</td>\n      <td>152.632918</td>\n      <td>2.0</td>\n      <td>0.333333</td>\n    </tr>\n    <tr>\n      <th>San Bartolomé de la Torre</th>\n      <td>307.0</td>\n      <td>2.0</td>\n      <td>6.0</td>\n      <td>3761.0</td>\n      <td>53.177346</td>\n      <td>159.532039</td>\n      <td>0.0</td>\n      <td>0.333333</td>\n    </tr>\n    <tr>\n      <th>Almendro (El)</th>\n      <td>39.0</td>\n      <td>1.0</td>\n      <td>3.0</td>\n      <td>840.0</td>\n      <td>119.047619</td>\n      <td>357.142857</td>\n      <td>0.0</td>\n      <td>0.333333</td>\n    </tr>\n    <tr>\n      <th>Huelva (capital)</th>\n      <td>9091.0</td>\n      <td>149.0</td>\n      <td>402.0</td>\n      <td>143837.0</td>\n      <td>103.589480</td>\n      <td>279.483026</td>\n      <td>19.0</td>\n      <td>0.370647</td>\n    </tr>\n    <tr>\n      <th>Huelva-Costa</th>\n      <td>19113.0</td>\n      <td>225.0</td>\n      <td>574.0</td>\n      <td>289548.0</td>\n      <td>77.707323</td>\n      <td>198.240015</td>\n      <td>37.0</td>\n      <td>0.391986</td>\n    </tr>\n    <tr>\n      <th>Ayamonte</th>\n      <td>1338.0</td>\n      <td>6.0</td>\n      <td>15.0</td>\n      <td>21104.0</td>\n      <td>28.430629</td>\n      <td>71.076573</td>\n      <td>3.0</td>\n      <td>0.400000</td>\n    </tr>\n    <tr>\n      <th>Almonte</th>\n      <td>1915.0</td>\n      <td>23.0</td>\n      <td>56.0</td>\n      <td>24507.0</td>\n      <td>93.850737</td>\n      <td>228.506141</td>\n      <td>8.0</td>\n      <td>0.410714</td>\n    </tr>\n    <tr>\n      <th>Huelva</th>\n      <td>33206.0</td>\n      <td>426.0</td>\n      <td>1024.0</td>\n      <td>513170.0</td>\n      <td>83.013426</td>\n      <td>199.544011</td>\n      <td>73.0</td>\n      <td>0.416016</td>\n    </tr>\n    <tr>\n      <th>Lepe</th>\n      <td>2170.0</td>\n      <td>11.0</td>\n      <td>24.0</td>\n      <td>27880.0</td>\n      <td>39.454806</td>\n      <td>86.083214</td>\n      <td>2.0</td>\n      <td>0.458333</td>\n    </tr>\n    <tr>\n      <th>Isla Cristina</th>\n      <td>2182.0</td>\n      <td>11.0</td>\n      <td>24.0</td>\n      <td>21393.0</td>\n      <td>51.418688</td>\n      <td>112.186229</td>\n      <td>0.0</td>\n      <td>0.458333</td>\n    </tr>\n    <tr>\n      <th>San Juan del Puerto</th>\n      <td>584.0</td>\n      <td>24.0</td>\n      <td>51.0</td>\n      <td>9411.0</td>\n      <td>255.020720</td>\n      <td>541.919031</td>\n      <td>5.0</td>\n      <td>0.470588</td>\n    </tr>\n    <tr>\n      <th>Condado-Campiña</th>\n      <td>10810.0</td>\n      <td>173.0</td>\n      <td>364.0</td>\n      <td>156231.0</td>\n      <td>110.733465</td>\n      <td>232.988331</td>\n      <td>32.0</td>\n      <td>0.475275</td>\n    </tr>\n    <tr>\n      <th>Villablanca</th>\n      <td>191.0</td>\n      <td>2.0</td>\n      <td>4.0</td>\n      <td>2885.0</td>\n      <td>69.324090</td>\n      <td>138.648180</td>\n      <td>0.0</td>\n      <td>0.500000</td>\n    </tr>\n    <tr>\n      <th>Almonaster la Real</th>\n      <td>70.0</td>\n      <td>2.0</td>\n      <td>4.0</td>\n      <td>1788.0</td>\n      <td>111.856823</td>\n      <td>223.713647</td>\n      <td>0.0</td>\n      <td>0.500000</td>\n    </tr>\n    <tr>\n      <th>Nerva</th>\n      <td>180.0</td>\n      <td>1.0</td>\n      <td>2.0</td>\n      <td>5169.0</td>\n      <td>19.346102</td>\n      <td>38.692204</td>\n      <td>0.0</td>\n      <td>0.500000</td>\n    </tr>\n    <tr>\n      <th>Moguer</th>\n      <td>1396.0</td>\n      <td>33.0</td>\n      <td>63.0</td>\n      <td>21867.0</td>\n      <td>150.912334</td>\n      <td>288.105364</td>\n      <td>5.0</td>\n      <td>0.523810</td>\n    </tr>\n    <tr>\n      <th>Bonares</th>\n      <td>298.0</td>\n      <td>7.0</td>\n      <td>13.0</td>\n      <td>6060.0</td>\n      <td>115.511551</td>\n      <td>214.521452</td>\n      <td>3.0</td>\n      <td>0.538462</td>\n    </tr>\n    <tr>\n      <th>Palos de la Frontera</th>\n      <td>725.0</td>\n      <td>20.0</td>\n      <td>36.0</td>\n      <td>11742.0</td>\n      <td>170.328734</td>\n      <td>306.591722</td>\n      <td>4.0</td>\n      <td>0.555556</td>\n    </tr>\n    <tr>\n      <th>Rociana del Condado</th>\n      <td>572.0</td>\n      <td>8.0</td>\n      <td>14.0</td>\n      <td>7939.0</td>\n      <td>100.768359</td>\n      <td>176.344628</td>\n      <td>0.0</td>\n      <td>0.571429</td>\n    </tr>\n    <tr>\n      <th>Beas</th>\n      <td>232.0</td>\n      <td>11.0</td>\n      <td>19.0</td>\n      <td>4341.0</td>\n      <td>253.397835</td>\n      <td>437.687169</td>\n      <td>0.0</td>\n      <td>0.578947</td>\n    </tr>\n    <tr>\n      <th>Palma del Condado (La)</th>\n      <td>1195.0</td>\n      <td>17.0</td>\n      <td>29.0</td>\n      <td>10801.0</td>\n      <td>157.392834</td>\n      <td>268.493658</td>\n      <td>4.0</td>\n      <td>0.586207</td>\n    </tr>\n    <tr>\n      <th>Cartaya</th>\n      <td>1394.0</td>\n      <td>22.0</td>\n      <td>37.0</td>\n      <td>20083.0</td>\n      <td>109.545387</td>\n      <td>184.235423</td>\n      <td>10.0</td>\n      <td>0.594595</td>\n    </tr>\n    <tr>\n      <th>Gibraleón</th>\n      <td>653.0</td>\n      <td>9.0</td>\n      <td>15.0</td>\n      <td>12737.0</td>\n      <td>70.660281</td>\n      <td>117.767135</td>\n      <td>0.0</td>\n      <td>0.600000</td>\n    </tr>\n    <tr>\n      <th>Punta Umbría</th>\n      <td>852.0</td>\n      <td>11.0</td>\n      <td>17.0</td>\n      <td>15355.0</td>\n      <td>71.637903</td>\n      <td>110.713123</td>\n      <td>2.0</td>\n      <td>0.647059</td>\n    </tr>\n    <tr>\n      <th>Cerro de Andévalo (El)</th>\n      <td>154.0</td>\n      <td>6.0</td>\n      <td>9.0</td>\n      <td>2327.0</td>\n      <td>257.842716</td>\n      <td>386.764074</td>\n      <td>0.0</td>\n      <td>0.666667</td>\n    </tr>\n    <tr>\n      <th>Manzanilla</th>\n      <td>107.0</td>\n      <td>4.0</td>\n      <td>5.0</td>\n      <td>2118.0</td>\n      <td>188.857413</td>\n      <td>236.071766</td>\n      <td>1.0</td>\n      <td>0.800000</td>\n    </tr>\n    <tr>\n      <th>Villalba del Alcor</th>\n      <td>482.0</td>\n      <td>1.0</td>\n      <td>1.0</td>\n      <td>3366.0</td>\n      <td>29.708853</td>\n      <td>29.708853</td>\n      <td>0.0</td>\n      <td>1.000000</td>\n    </tr>\n    <tr>\n      <th>Cortegana</th>\n      <td>215.0</td>\n      <td>1.0</td>\n      <td>1.0</td>\n      <td>4602.0</td>\n      <td>21.729683</td>\n      <td>21.729683</td>\n      <td>0.0</td>\n      <td>1.000000</td>\n    </tr>\n    <tr>\n      <th>Cumbres Mayores</th>\n      <td>54.0</td>\n      <td>1.0</td>\n      <td>1.0</td>\n      <td>1749.0</td>\n      <td>57.175529</td>\n      <td>57.175529</td>\n      <td>0.0</td>\n      <td>1.000000</td>\n    </tr>\n    <tr>\n      <th>Paymogo</th>\n      <td>76.0</td>\n      <td>1.0</td>\n      <td>1.0</td>\n      <td>1162.0</td>\n      <td>86.058520</td>\n      <td>86.058520</td>\n      <td>0.0</td>\n      <td>1.000000</td>\n    </tr>\n    <tr>\n      <th>Villanueva de los Castillejos</th>\n      <td>165.0</td>\n      <td>1.0</td>\n      <td>1.0</td>\n      <td>2825.0</td>\n      <td>35.398230</td>\n      <td>35.398230</td>\n      <td>0.0</td>\n      <td>1.000000</td>\n    </tr>\n  </tbody>\n</table>\n</div>"
     },
     "metadata": {},
     "execution_count": 18
    }
   ],
   "source": [
    "# Peso de la tasa de la última semana en relación con la tasa a 14 días \n",
    "# Mejor cuanto menor. Valor 1 significa que no había casos antes de 7 días.\n",
    "tabla['7/14'] = tabla['tasa7'] / tabla['tasa14']\n",
    "tabla.fillna(0).sort_values('7/14', ascending=True)"
   ]
  },
  {
   "cell_type": "code",
   "execution_count": null,
   "metadata": {},
   "outputs": [],
   "source": []
  }
 ]
}