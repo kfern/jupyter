{
 "metadata": {
  "language_info": {
   "codemirror_mode": {
    "name": "ipython",
    "version": 3
   },
   "file_extension": ".py",
   "mimetype": "text/x-python",
   "name": "python",
   "nbconvert_exporter": "python",
   "pygments_lexer": "ipython3",
   "version": "3.8.6"
  },
  "orig_nbformat": 2,
  "kernelspec": {
   "name": "python3",
   "display_name": "Python 3",
   "language": "python"
  }
 },
 "nbformat": 4,
 "nbformat_minor": 2,
 "cells": [
  {
   "cell_type": "code",
   "execution_count": 1,
   "metadata": {},
   "outputs": [],
   "source": [
    "import pandas as pd\n",
    "pd.set_option('display.max_rows', None) # Print all rows"
   ]
  },
  {
   "cell_type": "code",
   "execution_count": 2,
   "metadata": {},
   "outputs": [],
   "source": [
    "# FIX SSL: CERTIFICATE_VERIFY_FAILED with Python3\n",
    "# https://stackoverflow.com/a/49174340\n",
    "import ssl\n",
    "\n",
    "ssl._create_default_https_context = ssl._create_unverified_context"
   ]
  },
  {
   "cell_type": "code",
   "execution_count": 3,
   "metadata": {},
   "outputs": [],
   "source": [
    "url = 'https://www.juntadeandalucia.es/institutodeestadisticaycartografia/badea/stpivot/stpivot/Print?cube=013d884c-cfc5-4c21-9e78-e26225682afd&type=3&foto=si&ejecutaDesde=&codConsulta=38668&consTipoVisua=JP'\n",
    "fields = ['Lugar de residencia', 'Medida', 'Valor']\n",
    "df = pd.read_csv(url, delimiter=';', usecols=fields, decimal=',')"
   ]
  },
  {
   "cell_type": "code",
   "execution_count": 4,
   "metadata": {},
   "outputs": [
    {
     "output_type": "execute_result",
     "data": {
      "text/plain": [
       "  Lugar de residencia                    Medida               Valor\n",
       "0              Huelva                 Población              513170\n",
       "1              Huelva          Confirmados PDIA               29501\n",
       "2              Huelva  Confirmados PDIA 14 días                1125\n",
       "3              Huelva         Tasa PDIA 14 días  219,22559775512988\n",
       "4              Huelva   Confirmados PDIA 7 días                 615\n",
       "5              Huelva        Total Confirmados                29677\n",
       "6              Huelva                   Curados               26297\n",
       "7              Huelva                Fallecidos                 370"
      ],
      "text/html": "<div>\n<style scoped>\n    .dataframe tbody tr th:only-of-type {\n        vertical-align: middle;\n    }\n\n    .dataframe tbody tr th {\n        vertical-align: top;\n    }\n\n    .dataframe thead th {\n        text-align: right;\n    }\n</style>\n<table border=\"1\" class=\"dataframe\">\n  <thead>\n    <tr style=\"text-align: right;\">\n      <th></th>\n      <th>Lugar de residencia</th>\n      <th>Medida</th>\n      <th>Valor</th>\n    </tr>\n  </thead>\n  <tbody>\n    <tr>\n      <th>0</th>\n      <td>Huelva</td>\n      <td>Población</td>\n      <td>513170</td>\n    </tr>\n    <tr>\n      <th>1</th>\n      <td>Huelva</td>\n      <td>Confirmados PDIA</td>\n      <td>29501</td>\n    </tr>\n    <tr>\n      <th>2</th>\n      <td>Huelva</td>\n      <td>Confirmados PDIA 14 días</td>\n      <td>1125</td>\n    </tr>\n    <tr>\n      <th>3</th>\n      <td>Huelva</td>\n      <td>Tasa PDIA 14 días</td>\n      <td>219,22559775512988</td>\n    </tr>\n    <tr>\n      <th>4</th>\n      <td>Huelva</td>\n      <td>Confirmados PDIA 7 días</td>\n      <td>615</td>\n    </tr>\n    <tr>\n      <th>5</th>\n      <td>Huelva</td>\n      <td>Total Confirmados</td>\n      <td>29677</td>\n    </tr>\n    <tr>\n      <th>6</th>\n      <td>Huelva</td>\n      <td>Curados</td>\n      <td>26297</td>\n    </tr>\n    <tr>\n      <th>7</th>\n      <td>Huelva</td>\n      <td>Fallecidos</td>\n      <td>370</td>\n    </tr>\n  </tbody>\n</table>\n</div>"
     },
     "metadata": {},
     "execution_count": 4
    }
   ],
   "source": [
    "df[df['Lugar de residencia'] == 'Huelva']"
   ]
  },
  {
   "cell_type": "code",
   "execution_count": 5,
   "metadata": {},
   "outputs": [],
   "source": [
    "df['Valor'] = pd.to_numeric(df['Valor'],errors='coerce')"
   ]
  },
  {
   "cell_type": "code",
   "execution_count": 6,
   "metadata": {},
   "outputs": [],
   "source": [
    "dfAnterior = pd.read_csv('covid_huelva.csv', index_col='Lugar de residencia')"
   ]
  },
  {
   "cell_type": "code",
   "execution_count": 7,
   "metadata": {
    "tags": []
   },
   "outputs": [
    {
     "output_type": "stream",
     "name": "stdout",
     "text": [
      "Confirmados PCR en la provincia de Huelva:  29501.0\n",
      "<ipython-input-7-31b732756b19>:2: UserWarning: Boolean Series key will be reindexed to match DataFrame index.\n",
      "  p = df[df['Lugar de residencia'] == 'Huelva'][df['Medida'] == 'Confirmados PDIA']['Valor'].values[0]\n"
     ]
    }
   ],
   "source": [
    "# Confirmados PCR provincia Huelva\n",
    "p = df[df['Lugar de residencia'] == 'Huelva'][df['Medida'] == 'Confirmados PDIA']['Valor'].values[0]\n",
    "print('Confirmados PCR en la provincia de Huelva: ', p)"
   ]
  },
  {
   "cell_type": "code",
   "execution_count": 8,
   "metadata": {
    "tags": []
   },
   "outputs": [
    {
     "output_type": "stream",
     "name": "stdout",
     "text": [
      "Confirmados PCR en Huelva capital:  7708.0\n",
      "<ipython-input-8-e81bfb40e710>:2: UserWarning: Boolean Series key will be reindexed to match DataFrame index.\n",
      "  c = df[df['Lugar de residencia'] == 'Huelva (capital)'][df['Medida'] == 'Confirmados PDIA']['Valor'].values[0]\n"
     ]
    }
   ],
   "source": [
    "# Confirmados PCR Huelva capitalpd\n",
    "c = df[df['Lugar de residencia'] == 'Huelva (capital)'][df['Medida'] == 'Confirmados PDIA']['Valor'].values[0]\n",
    "print('Confirmados PCR en Huelva capital: ', c)"
   ]
  },
  {
   "cell_type": "code",
   "execution_count": 9,
   "metadata": {
    "tags": []
   },
   "outputs": [
    {
     "output_type": "stream",
     "name": "stderr",
     "text": [
      "<ipython-input-9-f09dd2050cc1>:1: UserWarning: Boolean Series key will be reindexed to match DataFrame index.\n  c7 = df[df['Lugar de residencia'] == 'Huelva (capital)'][df['Medida'] == 'Confirmados PDIA 7 días']['Valor'].values[0]\n<ipython-input-9-f09dd2050cc1>:2: UserWarning: Boolean Series key will be reindexed to match DataFrame index.\n  c14 = df[df['Lugar de residencia'] == 'Huelva (capital)'][df['Medida'] == 'Confirmados PDIA 14 días']['Valor'].values[0]\n<ipython-input-9-f09dd2050cc1>:3: UserWarning: Boolean Series key will be reindexed to match DataFrame index.\n  p = df[df['Lugar de residencia'] == 'Huelva (capital)'][df['Medida'] == 'Población']['Valor'].values[0]\n"
     ]
    }
   ],
   "source": [
    "c7 = df[df['Lugar de residencia'] == 'Huelva (capital)'][df['Medida'] == 'Confirmados PDIA 7 días']['Valor'].values[0]\n",
    "c14 = df[df['Lugar de residencia'] == 'Huelva (capital)'][df['Medida'] == 'Confirmados PDIA 14 días']['Valor'].values[0]\n",
    "p = df[df['Lugar de residencia'] == 'Huelva (capital)'][df['Medida'] == 'Población']['Valor'].values[0]"
   ]
  },
  {
   "cell_type": "code",
   "execution_count": 10,
   "metadata": {
    "tags": []
   },
   "outputs": [
    {
     "output_type": "stream",
     "name": "stdout",
     "text": [
      "Huelva (capital)\n\nUn positivo PCR cada 749 personas en los últimos 7 días \n\nUn positivo PCR cada 418 personas en los últimos 14 días\n"
     ]
    }
   ],
   "source": [
    "print('Huelva (capital)\\n')\n",
    "#print('Confirmados PCR 7 días x 1,000 habitantes: ', f\"{c7/(p/1000):.5f}\")\n",
    "print('Un positivo PCR cada', f\"{p/c7:.0f}\", 'personas en los últimos 7 días', '\\n')\n",
    "#print('Confirmados PCR 14 días x 1,000 habitantes: ', f\"{c14/(p/1000):.5f}\")\n",
    "print('Un positivo PCR cada', f\"{p/c14:.0f}\", 'personas en los últimos 14 días')"
   ]
  },
  {
   "cell_type": "code",
   "execution_count": 11,
   "metadata": {},
   "outputs": [],
   "source": [
    "filtro = ((df['Medida'] == 'Confirmados PDIA')| (df['Medida'] == 'Confirmados PDIA 7 días') | (df['Medida'] == 'Población' ) | (df['Medida'] == 'Confirmados PDIA 14 días')) & (df['Valor'] > 0)\n",
    "tabla = pd.pivot_table(df.loc[filtro], values='Valor', index='Lugar de residencia', columns='Medida').dropna()"
   ]
  },
  {
   "cell_type": "code",
   "execution_count": 12,
   "metadata": {},
   "outputs": [],
   "source": [
    "# Reorder columns\n",
    "tabla = tabla[['Confirmados PDIA', 'Confirmados PDIA 7 días', 'Confirmados PDIA 14 días', 'Población']]"
   ]
  },
  {
   "cell_type": "code",
   "execution_count": 13,
   "metadata": {},
   "outputs": [],
   "source": [
    "tabla['tasa7'] = tabla['Confirmados PDIA 7 días']/tabla['Población']*100000\n",
    "tabla['tasa14'] = tabla['Confirmados PDIA 14 días']/tabla['Población']*100000"
   ]
  },
  {
   "cell_type": "code",
   "execution_count": 14,
   "metadata": {},
   "outputs": [],
   "source": [
    "tabla['Diferencia PDIA'] = tabla['Confirmados PDIA'] - dfAnterior['Confirmados PDIA']"
   ]
  },
  {
   "cell_type": "code",
   "execution_count": 15,
   "metadata": {},
   "outputs": [
    {
     "output_type": "execute_result",
     "data": {
      "text/plain": [
       "Medida                             Confirmados PDIA  Confirmados PDIA 7 días  \\\n",
       "Lugar de residencia                                                            \n",
       "Huelva                                      29501.0                    615.0   \n",
       "Condado-Campiña                              9422.0                    268.0   \n",
       "Huelva-Costa                                17123.0                    302.0   \n",
       "Huelva (capital)                             7708.0                    192.0   \n",
       "Sierra de Huelva-Andévalo Central            2615.0                     45.0   \n",
       "Almonte                                      1653.0                     81.0   \n",
       "Moguer                                       1153.0                     37.0   \n",
       "Punta Umbría                                  754.0                     37.0   \n",
       "Bollullos Par del Condado                     893.0                     43.0   \n",
       "Palma del Condado (La)                       1062.0                     19.0   \n",
       "Valverde del Camino                           498.0                     17.0   \n",
       "San Juan del Puerto                           468.0                     15.0   \n",
       "Nerva                                         169.0                      9.0   \n",
       "Isla Cristina                                2104.0                     28.0   \n",
       "Trigueros                                     278.0                     10.0   \n",
       "Lepe                                         2099.0                     15.0   \n",
       "Niebla                                        205.0                      9.0   \n",
       "Aljaraque                                    1020.0                     12.0   \n",
       "Rociana del Condado                           533.0                     12.0   \n",
       "Escacena del Campo                            153.0                      6.0   \n",
       "Palos de la Frontera                          603.0                      6.0   \n",
       "Villalba del Alcor                            477.0                      6.0   \n",
       "Manzanilla                                     89.0                      4.0   \n",
       "Minas de Riotinto                             117.0                      3.0   \n",
       "Lucena del Puerto                             236.0                      3.0   \n",
       "Gibraleón                                     600.0                      9.0   \n",
       "Galaroza                                       39.0                      9.0   \n",
       "Cartaya                                      1292.0                     10.0   \n",
       "Beas                                          203.0                      2.0   \n",
       "Villarrasa                                    149.0                      2.0   \n",
       "Alosno                                        163.0                      1.0   \n",
       "Calañas                                       177.0                      3.0   \n",
       "Cerro de Andévalo (El)                        137.0                      1.0   \n",
       "Zalamea la Real                                87.0                      1.0   \n",
       "\n",
       "Medida                             Confirmados PDIA 14 días  Población  \\\n",
       "Lugar de residencia                                                      \n",
       "Huelva                                               1125.0   513170.0   \n",
       "Condado-Campiña                                       507.0   156231.0   \n",
       "Huelva-Costa                                          538.0   289548.0   \n",
       "Huelva (capital)                                      344.0   143837.0   \n",
       "Sierra de Huelva-Andévalo Central                      77.0    67391.0   \n",
       "Almonte                                               159.0    24507.0   \n",
       "Moguer                                                 63.0    21867.0   \n",
       "Punta Umbría                                           44.0    15355.0   \n",
       "Bollullos Par del Condado                              91.0    14387.0   \n",
       "Palma del Condado (La)                                 31.0    10801.0   \n",
       "Valverde del Camino                                    26.0    12750.0   \n",
       "San Juan del Puerto                                    23.0     9411.0   \n",
       "Nerva                                                  16.0     5169.0   \n",
       "Isla Cristina                                          46.0    21393.0   \n",
       "Trigueros                                              11.0     7862.0   \n",
       "Lepe                                                   21.0    27880.0   \n",
       "Niebla                                                 12.0     4116.0   \n",
       "Aljaraque                                              27.0    21474.0   \n",
       "Rociana del Condado                                    26.0     7939.0   \n",
       "Escacena del Campo                                      9.0     2287.0   \n",
       "Palos de la Frontera                                   26.0    11742.0   \n",
       "Villalba del Alcor                                      6.0     3366.0   \n",
       "Manzanilla                                              5.0     2118.0   \n",
       "Minas de Riotinto                                       4.0     3812.0   \n",
       "Lucena del Puerto                                       9.0     3261.0   \n",
       "Gibraleón                                              18.0    12737.0   \n",
       "Galaroza                                               12.0     1382.0   \n",
       "Cartaya                                                31.0    20083.0   \n",
       "Beas                                                    7.0     4341.0   \n",
       "Villarrasa                                              2.0     2211.0   \n",
       "Alosno                                                  1.0     3933.0   \n",
       "Calañas                                                 3.0     2768.0   \n",
       "Cerro de Andévalo (El)                                  1.0     2327.0   \n",
       "Zalamea la Real                                         1.0     3054.0   \n",
       "\n",
       "Medida                                  tasa7      tasa14  Diferencia PDIA  \n",
       "Lugar de residencia                                                         \n",
       "Huelva                             119.843327  219.225598            251.0  \n",
       "Condado-Campiña                    171.540859  324.519462            118.0  \n",
       "Huelva-Costa                       104.300496  185.806844            108.0  \n",
       "Huelva (capital)                   133.484430  239.159604             73.0  \n",
       "Sierra de Huelva-Andévalo Central   66.774495  114.258581             26.0  \n",
       "Almonte                            330.517811  648.794222             24.0  \n",
       "Moguer                             169.204738  288.105364             22.0  \n",
       "Punta Umbría                       240.963855  286.551612             18.0  \n",
       "Bollullos Par del Condado          298.880934  632.515465             17.0  \n",
       "Palma del Condado (La)             175.909638  287.010462             13.0  \n",
       "Valverde del Camino                133.333333  203.921569             10.0  \n",
       "San Juan del Puerto                159.387950  244.394857              9.0  \n",
       "Nerva                              174.114916  309.537628              7.0  \n",
       "Isla Cristina                      130.883934  215.023606              6.0  \n",
       "Trigueros                          127.194098  139.913508              5.0  \n",
       "Lepe                                53.802009   75.322812              5.0  \n",
       "Niebla                             218.658892  291.545190              4.0  \n",
       "Aljaraque                           55.881531  125.733445              4.0  \n",
       "Rociana del Condado                151.152538  327.497166              4.0  \n",
       "Escacena del Campo                 262.352427  393.528640              4.0  \n",
       "Palos de la Frontera                51.098620  221.427355              4.0  \n",
       "Villalba del Alcor                 178.253119  178.253119              3.0  \n",
       "Manzanilla                         188.857413  236.071766              3.0  \n",
       "Minas de Riotinto                   78.698846  104.931794              2.0  \n",
       "Lucena del Puerto                   91.996320  275.988960              2.0  \n",
       "Gibraleón                           70.660281  141.320562              2.0  \n",
       "Galaroza                           651.230101  868.306802              2.0  \n",
       "Cartaya                             49.793358  154.359408              1.0  \n",
       "Beas                                46.072334  161.253167              1.0  \n",
       "Villarrasa                          90.456807   90.456807              1.0  \n",
       "Alosno                              25.425884   25.425884              NaN  \n",
       "Calañas                            108.381503  108.381503              NaN  \n",
       "Cerro de Andévalo (El)              42.973786   42.973786              NaN  \n",
       "Zalamea la Real                     32.743942   32.743942              NaN  "
      ],
      "text/html": "<div>\n<style scoped>\n    .dataframe tbody tr th:only-of-type {\n        vertical-align: middle;\n    }\n\n    .dataframe tbody tr th {\n        vertical-align: top;\n    }\n\n    .dataframe thead th {\n        text-align: right;\n    }\n</style>\n<table border=\"1\" class=\"dataframe\">\n  <thead>\n    <tr style=\"text-align: right;\">\n      <th>Medida</th>\n      <th>Confirmados PDIA</th>\n      <th>Confirmados PDIA 7 días</th>\n      <th>Confirmados PDIA 14 días</th>\n      <th>Población</th>\n      <th>tasa7</th>\n      <th>tasa14</th>\n      <th>Diferencia PDIA</th>\n    </tr>\n    <tr>\n      <th>Lugar de residencia</th>\n      <th></th>\n      <th></th>\n      <th></th>\n      <th></th>\n      <th></th>\n      <th></th>\n      <th></th>\n    </tr>\n  </thead>\n  <tbody>\n    <tr>\n      <th>Huelva</th>\n      <td>29501.0</td>\n      <td>615.0</td>\n      <td>1125.0</td>\n      <td>513170.0</td>\n      <td>119.843327</td>\n      <td>219.225598</td>\n      <td>251.0</td>\n    </tr>\n    <tr>\n      <th>Condado-Campiña</th>\n      <td>9422.0</td>\n      <td>268.0</td>\n      <td>507.0</td>\n      <td>156231.0</td>\n      <td>171.540859</td>\n      <td>324.519462</td>\n      <td>118.0</td>\n    </tr>\n    <tr>\n      <th>Huelva-Costa</th>\n      <td>17123.0</td>\n      <td>302.0</td>\n      <td>538.0</td>\n      <td>289548.0</td>\n      <td>104.300496</td>\n      <td>185.806844</td>\n      <td>108.0</td>\n    </tr>\n    <tr>\n      <th>Huelva (capital)</th>\n      <td>7708.0</td>\n      <td>192.0</td>\n      <td>344.0</td>\n      <td>143837.0</td>\n      <td>133.484430</td>\n      <td>239.159604</td>\n      <td>73.0</td>\n    </tr>\n    <tr>\n      <th>Sierra de Huelva-Andévalo Central</th>\n      <td>2615.0</td>\n      <td>45.0</td>\n      <td>77.0</td>\n      <td>67391.0</td>\n      <td>66.774495</td>\n      <td>114.258581</td>\n      <td>26.0</td>\n    </tr>\n    <tr>\n      <th>Almonte</th>\n      <td>1653.0</td>\n      <td>81.0</td>\n      <td>159.0</td>\n      <td>24507.0</td>\n      <td>330.517811</td>\n      <td>648.794222</td>\n      <td>24.0</td>\n    </tr>\n    <tr>\n      <th>Moguer</th>\n      <td>1153.0</td>\n      <td>37.0</td>\n      <td>63.0</td>\n      <td>21867.0</td>\n      <td>169.204738</td>\n      <td>288.105364</td>\n      <td>22.0</td>\n    </tr>\n    <tr>\n      <th>Punta Umbría</th>\n      <td>754.0</td>\n      <td>37.0</td>\n      <td>44.0</td>\n      <td>15355.0</td>\n      <td>240.963855</td>\n      <td>286.551612</td>\n      <td>18.0</td>\n    </tr>\n    <tr>\n      <th>Bollullos Par del Condado</th>\n      <td>893.0</td>\n      <td>43.0</td>\n      <td>91.0</td>\n      <td>14387.0</td>\n      <td>298.880934</td>\n      <td>632.515465</td>\n      <td>17.0</td>\n    </tr>\n    <tr>\n      <th>Palma del Condado (La)</th>\n      <td>1062.0</td>\n      <td>19.0</td>\n      <td>31.0</td>\n      <td>10801.0</td>\n      <td>175.909638</td>\n      <td>287.010462</td>\n      <td>13.0</td>\n    </tr>\n    <tr>\n      <th>Valverde del Camino</th>\n      <td>498.0</td>\n      <td>17.0</td>\n      <td>26.0</td>\n      <td>12750.0</td>\n      <td>133.333333</td>\n      <td>203.921569</td>\n      <td>10.0</td>\n    </tr>\n    <tr>\n      <th>San Juan del Puerto</th>\n      <td>468.0</td>\n      <td>15.0</td>\n      <td>23.0</td>\n      <td>9411.0</td>\n      <td>159.387950</td>\n      <td>244.394857</td>\n      <td>9.0</td>\n    </tr>\n    <tr>\n      <th>Nerva</th>\n      <td>169.0</td>\n      <td>9.0</td>\n      <td>16.0</td>\n      <td>5169.0</td>\n      <td>174.114916</td>\n      <td>309.537628</td>\n      <td>7.0</td>\n    </tr>\n    <tr>\n      <th>Isla Cristina</th>\n      <td>2104.0</td>\n      <td>28.0</td>\n      <td>46.0</td>\n      <td>21393.0</td>\n      <td>130.883934</td>\n      <td>215.023606</td>\n      <td>6.0</td>\n    </tr>\n    <tr>\n      <th>Trigueros</th>\n      <td>278.0</td>\n      <td>10.0</td>\n      <td>11.0</td>\n      <td>7862.0</td>\n      <td>127.194098</td>\n      <td>139.913508</td>\n      <td>5.0</td>\n    </tr>\n    <tr>\n      <th>Lepe</th>\n      <td>2099.0</td>\n      <td>15.0</td>\n      <td>21.0</td>\n      <td>27880.0</td>\n      <td>53.802009</td>\n      <td>75.322812</td>\n      <td>5.0</td>\n    </tr>\n    <tr>\n      <th>Niebla</th>\n      <td>205.0</td>\n      <td>9.0</td>\n      <td>12.0</td>\n      <td>4116.0</td>\n      <td>218.658892</td>\n      <td>291.545190</td>\n      <td>4.0</td>\n    </tr>\n    <tr>\n      <th>Aljaraque</th>\n      <td>1020.0</td>\n      <td>12.0</td>\n      <td>27.0</td>\n      <td>21474.0</td>\n      <td>55.881531</td>\n      <td>125.733445</td>\n      <td>4.0</td>\n    </tr>\n    <tr>\n      <th>Rociana del Condado</th>\n      <td>533.0</td>\n      <td>12.0</td>\n      <td>26.0</td>\n      <td>7939.0</td>\n      <td>151.152538</td>\n      <td>327.497166</td>\n      <td>4.0</td>\n    </tr>\n    <tr>\n      <th>Escacena del Campo</th>\n      <td>153.0</td>\n      <td>6.0</td>\n      <td>9.0</td>\n      <td>2287.0</td>\n      <td>262.352427</td>\n      <td>393.528640</td>\n      <td>4.0</td>\n    </tr>\n    <tr>\n      <th>Palos de la Frontera</th>\n      <td>603.0</td>\n      <td>6.0</td>\n      <td>26.0</td>\n      <td>11742.0</td>\n      <td>51.098620</td>\n      <td>221.427355</td>\n      <td>4.0</td>\n    </tr>\n    <tr>\n      <th>Villalba del Alcor</th>\n      <td>477.0</td>\n      <td>6.0</td>\n      <td>6.0</td>\n      <td>3366.0</td>\n      <td>178.253119</td>\n      <td>178.253119</td>\n      <td>3.0</td>\n    </tr>\n    <tr>\n      <th>Manzanilla</th>\n      <td>89.0</td>\n      <td>4.0</td>\n      <td>5.0</td>\n      <td>2118.0</td>\n      <td>188.857413</td>\n      <td>236.071766</td>\n      <td>3.0</td>\n    </tr>\n    <tr>\n      <th>Minas de Riotinto</th>\n      <td>117.0</td>\n      <td>3.0</td>\n      <td>4.0</td>\n      <td>3812.0</td>\n      <td>78.698846</td>\n      <td>104.931794</td>\n      <td>2.0</td>\n    </tr>\n    <tr>\n      <th>Lucena del Puerto</th>\n      <td>236.0</td>\n      <td>3.0</td>\n      <td>9.0</td>\n      <td>3261.0</td>\n      <td>91.996320</td>\n      <td>275.988960</td>\n      <td>2.0</td>\n    </tr>\n    <tr>\n      <th>Gibraleón</th>\n      <td>600.0</td>\n      <td>9.0</td>\n      <td>18.0</td>\n      <td>12737.0</td>\n      <td>70.660281</td>\n      <td>141.320562</td>\n      <td>2.0</td>\n    </tr>\n    <tr>\n      <th>Galaroza</th>\n      <td>39.0</td>\n      <td>9.0</td>\n      <td>12.0</td>\n      <td>1382.0</td>\n      <td>651.230101</td>\n      <td>868.306802</td>\n      <td>2.0</td>\n    </tr>\n    <tr>\n      <th>Cartaya</th>\n      <td>1292.0</td>\n      <td>10.0</td>\n      <td>31.0</td>\n      <td>20083.0</td>\n      <td>49.793358</td>\n      <td>154.359408</td>\n      <td>1.0</td>\n    </tr>\n    <tr>\n      <th>Beas</th>\n      <td>203.0</td>\n      <td>2.0</td>\n      <td>7.0</td>\n      <td>4341.0</td>\n      <td>46.072334</td>\n      <td>161.253167</td>\n      <td>1.0</td>\n    </tr>\n    <tr>\n      <th>Villarrasa</th>\n      <td>149.0</td>\n      <td>2.0</td>\n      <td>2.0</td>\n      <td>2211.0</td>\n      <td>90.456807</td>\n      <td>90.456807</td>\n      <td>1.0</td>\n    </tr>\n    <tr>\n      <th>Alosno</th>\n      <td>163.0</td>\n      <td>1.0</td>\n      <td>1.0</td>\n      <td>3933.0</td>\n      <td>25.425884</td>\n      <td>25.425884</td>\n      <td>NaN</td>\n    </tr>\n    <tr>\n      <th>Calañas</th>\n      <td>177.0</td>\n      <td>3.0</td>\n      <td>3.0</td>\n      <td>2768.0</td>\n      <td>108.381503</td>\n      <td>108.381503</td>\n      <td>NaN</td>\n    </tr>\n    <tr>\n      <th>Cerro de Andévalo (El)</th>\n      <td>137.0</td>\n      <td>1.0</td>\n      <td>1.0</td>\n      <td>2327.0</td>\n      <td>42.973786</td>\n      <td>42.973786</td>\n      <td>NaN</td>\n    </tr>\n    <tr>\n      <th>Zalamea la Real</th>\n      <td>87.0</td>\n      <td>1.0</td>\n      <td>1.0</td>\n      <td>3054.0</td>\n      <td>32.743942</td>\n      <td>32.743942</td>\n      <td>NaN</td>\n    </tr>\n  </tbody>\n</table>\n</div>"
     },
     "metadata": {},
     "execution_count": 15
    }
   ],
   "source": [
    "# Nuevos casos desde la última captura\n",
    "tabla[tabla['Diferencia PDIA'] != 0].sort_values('Diferencia PDIA', ascending=False)"
   ]
  },
  {
   "cell_type": "code",
   "execution_count": 16,
   "metadata": {},
   "outputs": [],
   "source": [
    "if tabla[tabla['Diferencia PDIA'] != 0]['Diferencia PDIA'].sum() != 0:\n",
    "  # Save to csv\n",
    "  tabla.to_csv('covid_huelva.csv', encoding='utf-8', header=True, index=True)  "
   ]
  },
  {
   "cell_type": "code",
   "execution_count": 17,
   "metadata": {},
   "outputs": [
    {
     "output_type": "execute_result",
     "data": {
      "text/plain": [
       "Medida                             Confirmados PDIA  Confirmados PDIA 7 días  \\\n",
       "Lugar de residencia                                                            \n",
       "Galaroza                                       39.0                      9.0   \n",
       "Almonte                                      1653.0                     81.0   \n",
       "Bollullos Par del Condado                     893.0                     43.0   \n",
       "Escacena del Campo                            153.0                      6.0   \n",
       "Cortelazor                                      8.0                      1.0   \n",
       "Rociana del Condado                           533.0                     12.0   \n",
       "Condado-Campiña                              9422.0                    268.0   \n",
       "Nerva                                         169.0                      9.0   \n",
       "Niebla                                        205.0                      9.0   \n",
       "Moguer                                       1153.0                     37.0   \n",
       "Palma del Condado (La)                       1062.0                     19.0   \n",
       "Punta Umbría                                  754.0                     37.0   \n",
       "Lucena del Puerto                             236.0                      3.0   \n",
       "San Juan del Puerto                           468.0                     15.0   \n",
       "Huelva (capital)                             7708.0                    192.0   \n",
       "Manzanilla                                     89.0                      4.0   \n",
       "Palos de la Frontera                          603.0                      6.0   \n",
       "Huelva                                      29501.0                    615.0   \n",
       "Isla Cristina                                2104.0                     28.0   \n",
       "Valverde del Camino                           498.0                     17.0   \n",
       "Huelva-Costa                                17123.0                    302.0   \n",
       "Villalba del Alcor                            477.0                      6.0   \n",
       "Beas                                          203.0                      2.0   \n",
       "Cartaya                                      1292.0                     10.0   \n",
       "Gibraleón                                     600.0                      9.0   \n",
       "Trigueros                                     278.0                     10.0   \n",
       "Villablanca                                   184.0                      2.0   \n",
       "Aljaraque                                    1020.0                     12.0   \n",
       "Bonares                                       259.0                      2.0   \n",
       "Sierra de Huelva-Andévalo Central            2615.0                     45.0   \n",
       "Calañas                                       177.0                      3.0   \n",
       "Minas de Riotinto                             117.0                      3.0   \n",
       "Villarrasa                                    149.0                      2.0   \n",
       "Ayamonte                                     1296.0                      5.0   \n",
       "Lepe                                         2099.0                     15.0   \n",
       "Cumbres Mayores                                50.0                      1.0   \n",
       "Cerro de Andévalo (El)                        137.0                      1.0   \n",
       "Zalamea la Real                                87.0                      1.0   \n",
       "Paterna del Campo                             125.0                      1.0   \n",
       "San Bartolomé de la Torre                     283.0                      1.0   \n",
       "Alosno                                        163.0                      1.0   \n",
       "\n",
       "Medida                             Confirmados PDIA 14 días  Población  \\\n",
       "Lugar de residencia                                                      \n",
       "Galaroza                                               12.0     1382.0   \n",
       "Almonte                                               159.0    24507.0   \n",
       "Bollullos Par del Condado                              91.0    14387.0   \n",
       "Escacena del Campo                                      9.0     2287.0   \n",
       "Cortelazor                                              1.0      299.0   \n",
       "Rociana del Condado                                    26.0     7939.0   \n",
       "Condado-Campiña                                       507.0   156231.0   \n",
       "Nerva                                                  16.0     5169.0   \n",
       "Niebla                                                 12.0     4116.0   \n",
       "Moguer                                                 63.0    21867.0   \n",
       "Palma del Condado (La)                                 31.0    10801.0   \n",
       "Punta Umbría                                           44.0    15355.0   \n",
       "Lucena del Puerto                                       9.0     3261.0   \n",
       "San Juan del Puerto                                    23.0     9411.0   \n",
       "Huelva (capital)                                      344.0   143837.0   \n",
       "Manzanilla                                              5.0     2118.0   \n",
       "Palos de la Frontera                                   26.0    11742.0   \n",
       "Huelva                                               1125.0   513170.0   \n",
       "Isla Cristina                                          46.0    21393.0   \n",
       "Valverde del Camino                                    26.0    12750.0   \n",
       "Huelva-Costa                                          538.0   289548.0   \n",
       "Villalba del Alcor                                      6.0     3366.0   \n",
       "Beas                                                    7.0     4341.0   \n",
       "Cartaya                                                31.0    20083.0   \n",
       "Gibraleón                                              18.0    12737.0   \n",
       "Trigueros                                              11.0     7862.0   \n",
       "Villablanca                                             4.0     2885.0   \n",
       "Aljaraque                                              27.0    21474.0   \n",
       "Bonares                                                 7.0     6060.0   \n",
       "Sierra de Huelva-Andévalo Central                      77.0    67391.0   \n",
       "Calañas                                                 3.0     2768.0   \n",
       "Minas de Riotinto                                       4.0     3812.0   \n",
       "Villarrasa                                              2.0     2211.0   \n",
       "Ayamonte                                               19.0    21104.0   \n",
       "Lepe                                                   21.0    27880.0   \n",
       "Cumbres Mayores                                         1.0     1749.0   \n",
       "Cerro de Andévalo (El)                                  1.0     2327.0   \n",
       "Zalamea la Real                                         1.0     3054.0   \n",
       "Paterna del Campo                                       1.0     3457.0   \n",
       "San Bartolomé de la Torre                               1.0     3761.0   \n",
       "Alosno                                                  1.0     3933.0   \n",
       "\n",
       "Medida                                  tasa7      tasa14  Diferencia PDIA  \n",
       "Lugar de residencia                                                         \n",
       "Galaroza                           651.230101  868.306802              2.0  \n",
       "Almonte                            330.517811  648.794222             24.0  \n",
       "Bollullos Par del Condado          298.880934  632.515465             17.0  \n",
       "Escacena del Campo                 262.352427  393.528640              4.0  \n",
       "Cortelazor                         334.448161  334.448161              0.0  \n",
       "Rociana del Condado                151.152538  327.497166              4.0  \n",
       "Condado-Campiña                    171.540859  324.519462            118.0  \n",
       "Nerva                              174.114916  309.537628              7.0  \n",
       "Niebla                             218.658892  291.545190              4.0  \n",
       "Moguer                             169.204738  288.105364             22.0  \n",
       "Palma del Condado (La)             175.909638  287.010462             13.0  \n",
       "Punta Umbría                       240.963855  286.551612             18.0  \n",
       "Lucena del Puerto                   91.996320  275.988960              2.0  \n",
       "San Juan del Puerto                159.387950  244.394857              9.0  \n",
       "Huelva (capital)                   133.484430  239.159604             73.0  \n",
       "Manzanilla                         188.857413  236.071766              3.0  \n",
       "Palos de la Frontera                51.098620  221.427355              4.0  \n",
       "Huelva                             119.843327  219.225598            251.0  \n",
       "Isla Cristina                      130.883934  215.023606              6.0  \n",
       "Valverde del Camino                133.333333  203.921569             10.0  \n",
       "Huelva-Costa                       104.300496  185.806844            108.0  \n",
       "Villalba del Alcor                 178.253119  178.253119              3.0  \n",
       "Beas                                46.072334  161.253167              1.0  \n",
       "Cartaya                             49.793358  154.359408              1.0  \n",
       "Gibraleón                           70.660281  141.320562              2.0  \n",
       "Trigueros                          127.194098  139.913508              5.0  \n",
       "Villablanca                         69.324090  138.648180              0.0  \n",
       "Aljaraque                           55.881531  125.733445              4.0  \n",
       "Bonares                             33.003300  115.511551              0.0  \n",
       "Sierra de Huelva-Andévalo Central   66.774495  114.258581             26.0  \n",
       "Calañas                            108.381503  108.381503              NaN  \n",
       "Minas de Riotinto                   78.698846  104.931794              2.0  \n",
       "Villarrasa                          90.456807   90.456807              1.0  \n",
       "Ayamonte                            23.692191   90.030326              0.0  \n",
       "Lepe                                53.802009   75.322812              5.0  \n",
       "Cumbres Mayores                     57.175529   57.175529              0.0  \n",
       "Cerro de Andévalo (El)              42.973786   42.973786              NaN  \n",
       "Zalamea la Real                     32.743942   32.743942              NaN  \n",
       "Paterna del Campo                   28.926815   28.926815              0.0  \n",
       "San Bartolomé de la Torre           26.588673   26.588673              0.0  \n",
       "Alosno                              25.425884   25.425884              NaN  "
      ],
      "text/html": "<div>\n<style scoped>\n    .dataframe tbody tr th:only-of-type {\n        vertical-align: middle;\n    }\n\n    .dataframe tbody tr th {\n        vertical-align: top;\n    }\n\n    .dataframe thead th {\n        text-align: right;\n    }\n</style>\n<table border=\"1\" class=\"dataframe\">\n  <thead>\n    <tr style=\"text-align: right;\">\n      <th>Medida</th>\n      <th>Confirmados PDIA</th>\n      <th>Confirmados PDIA 7 días</th>\n      <th>Confirmados PDIA 14 días</th>\n      <th>Población</th>\n      <th>tasa7</th>\n      <th>tasa14</th>\n      <th>Diferencia PDIA</th>\n    </tr>\n    <tr>\n      <th>Lugar de residencia</th>\n      <th></th>\n      <th></th>\n      <th></th>\n      <th></th>\n      <th></th>\n      <th></th>\n      <th></th>\n    </tr>\n  </thead>\n  <tbody>\n    <tr>\n      <th>Galaroza</th>\n      <td>39.0</td>\n      <td>9.0</td>\n      <td>12.0</td>\n      <td>1382.0</td>\n      <td>651.230101</td>\n      <td>868.306802</td>\n      <td>2.0</td>\n    </tr>\n    <tr>\n      <th>Almonte</th>\n      <td>1653.0</td>\n      <td>81.0</td>\n      <td>159.0</td>\n      <td>24507.0</td>\n      <td>330.517811</td>\n      <td>648.794222</td>\n      <td>24.0</td>\n    </tr>\n    <tr>\n      <th>Bollullos Par del Condado</th>\n      <td>893.0</td>\n      <td>43.0</td>\n      <td>91.0</td>\n      <td>14387.0</td>\n      <td>298.880934</td>\n      <td>632.515465</td>\n      <td>17.0</td>\n    </tr>\n    <tr>\n      <th>Escacena del Campo</th>\n      <td>153.0</td>\n      <td>6.0</td>\n      <td>9.0</td>\n      <td>2287.0</td>\n      <td>262.352427</td>\n      <td>393.528640</td>\n      <td>4.0</td>\n    </tr>\n    <tr>\n      <th>Cortelazor</th>\n      <td>8.0</td>\n      <td>1.0</td>\n      <td>1.0</td>\n      <td>299.0</td>\n      <td>334.448161</td>\n      <td>334.448161</td>\n      <td>0.0</td>\n    </tr>\n    <tr>\n      <th>Rociana del Condado</th>\n      <td>533.0</td>\n      <td>12.0</td>\n      <td>26.0</td>\n      <td>7939.0</td>\n      <td>151.152538</td>\n      <td>327.497166</td>\n      <td>4.0</td>\n    </tr>\n    <tr>\n      <th>Condado-Campiña</th>\n      <td>9422.0</td>\n      <td>268.0</td>\n      <td>507.0</td>\n      <td>156231.0</td>\n      <td>171.540859</td>\n      <td>324.519462</td>\n      <td>118.0</td>\n    </tr>\n    <tr>\n      <th>Nerva</th>\n      <td>169.0</td>\n      <td>9.0</td>\n      <td>16.0</td>\n      <td>5169.0</td>\n      <td>174.114916</td>\n      <td>309.537628</td>\n      <td>7.0</td>\n    </tr>\n    <tr>\n      <th>Niebla</th>\n      <td>205.0</td>\n      <td>9.0</td>\n      <td>12.0</td>\n      <td>4116.0</td>\n      <td>218.658892</td>\n      <td>291.545190</td>\n      <td>4.0</td>\n    </tr>\n    <tr>\n      <th>Moguer</th>\n      <td>1153.0</td>\n      <td>37.0</td>\n      <td>63.0</td>\n      <td>21867.0</td>\n      <td>169.204738</td>\n      <td>288.105364</td>\n      <td>22.0</td>\n    </tr>\n    <tr>\n      <th>Palma del Condado (La)</th>\n      <td>1062.0</td>\n      <td>19.0</td>\n      <td>31.0</td>\n      <td>10801.0</td>\n      <td>175.909638</td>\n      <td>287.010462</td>\n      <td>13.0</td>\n    </tr>\n    <tr>\n      <th>Punta Umbría</th>\n      <td>754.0</td>\n      <td>37.0</td>\n      <td>44.0</td>\n      <td>15355.0</td>\n      <td>240.963855</td>\n      <td>286.551612</td>\n      <td>18.0</td>\n    </tr>\n    <tr>\n      <th>Lucena del Puerto</th>\n      <td>236.0</td>\n      <td>3.0</td>\n      <td>9.0</td>\n      <td>3261.0</td>\n      <td>91.996320</td>\n      <td>275.988960</td>\n      <td>2.0</td>\n    </tr>\n    <tr>\n      <th>San Juan del Puerto</th>\n      <td>468.0</td>\n      <td>15.0</td>\n      <td>23.0</td>\n      <td>9411.0</td>\n      <td>159.387950</td>\n      <td>244.394857</td>\n      <td>9.0</td>\n    </tr>\n    <tr>\n      <th>Huelva (capital)</th>\n      <td>7708.0</td>\n      <td>192.0</td>\n      <td>344.0</td>\n      <td>143837.0</td>\n      <td>133.484430</td>\n      <td>239.159604</td>\n      <td>73.0</td>\n    </tr>\n    <tr>\n      <th>Manzanilla</th>\n      <td>89.0</td>\n      <td>4.0</td>\n      <td>5.0</td>\n      <td>2118.0</td>\n      <td>188.857413</td>\n      <td>236.071766</td>\n      <td>3.0</td>\n    </tr>\n    <tr>\n      <th>Palos de la Frontera</th>\n      <td>603.0</td>\n      <td>6.0</td>\n      <td>26.0</td>\n      <td>11742.0</td>\n      <td>51.098620</td>\n      <td>221.427355</td>\n      <td>4.0</td>\n    </tr>\n    <tr>\n      <th>Huelva</th>\n      <td>29501.0</td>\n      <td>615.0</td>\n      <td>1125.0</td>\n      <td>513170.0</td>\n      <td>119.843327</td>\n      <td>219.225598</td>\n      <td>251.0</td>\n    </tr>\n    <tr>\n      <th>Isla Cristina</th>\n      <td>2104.0</td>\n      <td>28.0</td>\n      <td>46.0</td>\n      <td>21393.0</td>\n      <td>130.883934</td>\n      <td>215.023606</td>\n      <td>6.0</td>\n    </tr>\n    <tr>\n      <th>Valverde del Camino</th>\n      <td>498.0</td>\n      <td>17.0</td>\n      <td>26.0</td>\n      <td>12750.0</td>\n      <td>133.333333</td>\n      <td>203.921569</td>\n      <td>10.0</td>\n    </tr>\n    <tr>\n      <th>Huelva-Costa</th>\n      <td>17123.0</td>\n      <td>302.0</td>\n      <td>538.0</td>\n      <td>289548.0</td>\n      <td>104.300496</td>\n      <td>185.806844</td>\n      <td>108.0</td>\n    </tr>\n    <tr>\n      <th>Villalba del Alcor</th>\n      <td>477.0</td>\n      <td>6.0</td>\n      <td>6.0</td>\n      <td>3366.0</td>\n      <td>178.253119</td>\n      <td>178.253119</td>\n      <td>3.0</td>\n    </tr>\n    <tr>\n      <th>Beas</th>\n      <td>203.0</td>\n      <td>2.0</td>\n      <td>7.0</td>\n      <td>4341.0</td>\n      <td>46.072334</td>\n      <td>161.253167</td>\n      <td>1.0</td>\n    </tr>\n    <tr>\n      <th>Cartaya</th>\n      <td>1292.0</td>\n      <td>10.0</td>\n      <td>31.0</td>\n      <td>20083.0</td>\n      <td>49.793358</td>\n      <td>154.359408</td>\n      <td>1.0</td>\n    </tr>\n    <tr>\n      <th>Gibraleón</th>\n      <td>600.0</td>\n      <td>9.0</td>\n      <td>18.0</td>\n      <td>12737.0</td>\n      <td>70.660281</td>\n      <td>141.320562</td>\n      <td>2.0</td>\n    </tr>\n    <tr>\n      <th>Trigueros</th>\n      <td>278.0</td>\n      <td>10.0</td>\n      <td>11.0</td>\n      <td>7862.0</td>\n      <td>127.194098</td>\n      <td>139.913508</td>\n      <td>5.0</td>\n    </tr>\n    <tr>\n      <th>Villablanca</th>\n      <td>184.0</td>\n      <td>2.0</td>\n      <td>4.0</td>\n      <td>2885.0</td>\n      <td>69.324090</td>\n      <td>138.648180</td>\n      <td>0.0</td>\n    </tr>\n    <tr>\n      <th>Aljaraque</th>\n      <td>1020.0</td>\n      <td>12.0</td>\n      <td>27.0</td>\n      <td>21474.0</td>\n      <td>55.881531</td>\n      <td>125.733445</td>\n      <td>4.0</td>\n    </tr>\n    <tr>\n      <th>Bonares</th>\n      <td>259.0</td>\n      <td>2.0</td>\n      <td>7.0</td>\n      <td>6060.0</td>\n      <td>33.003300</td>\n      <td>115.511551</td>\n      <td>0.0</td>\n    </tr>\n    <tr>\n      <th>Sierra de Huelva-Andévalo Central</th>\n      <td>2615.0</td>\n      <td>45.0</td>\n      <td>77.0</td>\n      <td>67391.0</td>\n      <td>66.774495</td>\n      <td>114.258581</td>\n      <td>26.0</td>\n    </tr>\n    <tr>\n      <th>Calañas</th>\n      <td>177.0</td>\n      <td>3.0</td>\n      <td>3.0</td>\n      <td>2768.0</td>\n      <td>108.381503</td>\n      <td>108.381503</td>\n      <td>NaN</td>\n    </tr>\n    <tr>\n      <th>Minas de Riotinto</th>\n      <td>117.0</td>\n      <td>3.0</td>\n      <td>4.0</td>\n      <td>3812.0</td>\n      <td>78.698846</td>\n      <td>104.931794</td>\n      <td>2.0</td>\n    </tr>\n    <tr>\n      <th>Villarrasa</th>\n      <td>149.0</td>\n      <td>2.0</td>\n      <td>2.0</td>\n      <td>2211.0</td>\n      <td>90.456807</td>\n      <td>90.456807</td>\n      <td>1.0</td>\n    </tr>\n    <tr>\n      <th>Ayamonte</th>\n      <td>1296.0</td>\n      <td>5.0</td>\n      <td>19.0</td>\n      <td>21104.0</td>\n      <td>23.692191</td>\n      <td>90.030326</td>\n      <td>0.0</td>\n    </tr>\n    <tr>\n      <th>Lepe</th>\n      <td>2099.0</td>\n      <td>15.0</td>\n      <td>21.0</td>\n      <td>27880.0</td>\n      <td>53.802009</td>\n      <td>75.322812</td>\n      <td>5.0</td>\n    </tr>\n    <tr>\n      <th>Cumbres Mayores</th>\n      <td>50.0</td>\n      <td>1.0</td>\n      <td>1.0</td>\n      <td>1749.0</td>\n      <td>57.175529</td>\n      <td>57.175529</td>\n      <td>0.0</td>\n    </tr>\n    <tr>\n      <th>Cerro de Andévalo (El)</th>\n      <td>137.0</td>\n      <td>1.0</td>\n      <td>1.0</td>\n      <td>2327.0</td>\n      <td>42.973786</td>\n      <td>42.973786</td>\n      <td>NaN</td>\n    </tr>\n    <tr>\n      <th>Zalamea la Real</th>\n      <td>87.0</td>\n      <td>1.0</td>\n      <td>1.0</td>\n      <td>3054.0</td>\n      <td>32.743942</td>\n      <td>32.743942</td>\n      <td>NaN</td>\n    </tr>\n    <tr>\n      <th>Paterna del Campo</th>\n      <td>125.0</td>\n      <td>1.0</td>\n      <td>1.0</td>\n      <td>3457.0</td>\n      <td>28.926815</td>\n      <td>28.926815</td>\n      <td>0.0</td>\n    </tr>\n    <tr>\n      <th>San Bartolomé de la Torre</th>\n      <td>283.0</td>\n      <td>1.0</td>\n      <td>1.0</td>\n      <td>3761.0</td>\n      <td>26.588673</td>\n      <td>26.588673</td>\n      <td>0.0</td>\n    </tr>\n    <tr>\n      <th>Alosno</th>\n      <td>163.0</td>\n      <td>1.0</td>\n      <td>1.0</td>\n      <td>3933.0</td>\n      <td>25.425884</td>\n      <td>25.425884</td>\n      <td>NaN</td>\n    </tr>\n  </tbody>\n</table>\n</div>"
     },
     "metadata": {},
     "execution_count": 17
    }
   ],
   "source": [
    "tabla.sort_values('tasa14', ascending=False)"
   ]
  },
  {
   "cell_type": "code",
   "execution_count": 18,
   "metadata": {},
   "outputs": [
    {
     "output_type": "execute_result",
     "data": {
      "text/plain": [
       "Medida                             Confirmados PDIA  Confirmados PDIA 7 días  \\\n",
       "Lugar de residencia                                                            \n",
       "Palos de la Frontera                          603.0                      6.0   \n",
       "Ayamonte                                     1296.0                      5.0   \n",
       "Beas                                          203.0                      2.0   \n",
       "Bonares                                       259.0                      2.0   \n",
       "Cartaya                                      1292.0                     10.0   \n",
       "Lucena del Puerto                             236.0                      3.0   \n",
       "Aljaraque                                    1020.0                     12.0   \n",
       "Rociana del Condado                           533.0                     12.0   \n",
       "Bollullos Par del Condado                     893.0                     43.0   \n",
       "Villablanca                                   184.0                      2.0   \n",
       "Gibraleón                                     600.0                      9.0   \n",
       "Almonte                                      1653.0                     81.0   \n",
       "Condado-Campiña                              9422.0                    268.0   \n",
       "Huelva                                      29501.0                    615.0   \n",
       "Huelva (capital)                             7708.0                    192.0   \n",
       "Huelva-Costa                                17123.0                    302.0   \n",
       "Nerva                                         169.0                      9.0   \n",
       "Sierra de Huelva-Andévalo Central            2615.0                     45.0   \n",
       "Moguer                                       1153.0                     37.0   \n",
       "Isla Cristina                                2104.0                     28.0   \n",
       "Palma del Condado (La)                       1062.0                     19.0   \n",
       "San Juan del Puerto                           468.0                     15.0   \n",
       "Valverde del Camino                           498.0                     17.0   \n",
       "Escacena del Campo                            153.0                      6.0   \n",
       "Lepe                                         2099.0                     15.0   \n",
       "Galaroza                                       39.0                      9.0   \n",
       "Niebla                                        205.0                      9.0   \n",
       "Minas de Riotinto                             117.0                      3.0   \n",
       "Manzanilla                                     89.0                      4.0   \n",
       "Punta Umbría                                  754.0                     37.0   \n",
       "Trigueros                                     278.0                     10.0   \n",
       "Villarrasa                                    149.0                      2.0   \n",
       "Paterna del Campo                             125.0                      1.0   \n",
       "Cumbres Mayores                                50.0                      1.0   \n",
       "San Bartolomé de la Torre                     283.0                      1.0   \n",
       "Cortelazor                                      8.0                      1.0   \n",
       "Cerro de Andévalo (El)                        137.0                      1.0   \n",
       "Calañas                                       177.0                      3.0   \n",
       "Alosno                                        163.0                      1.0   \n",
       "Villalba del Alcor                            477.0                      6.0   \n",
       "Zalamea la Real                                87.0                      1.0   \n",
       "\n",
       "Medida                             Confirmados PDIA 14 días  Población  \\\n",
       "Lugar de residencia                                                      \n",
       "Palos de la Frontera                                   26.0    11742.0   \n",
       "Ayamonte                                               19.0    21104.0   \n",
       "Beas                                                    7.0     4341.0   \n",
       "Bonares                                                 7.0     6060.0   \n",
       "Cartaya                                                31.0    20083.0   \n",
       "Lucena del Puerto                                       9.0     3261.0   \n",
       "Aljaraque                                              27.0    21474.0   \n",
       "Rociana del Condado                                    26.0     7939.0   \n",
       "Bollullos Par del Condado                              91.0    14387.0   \n",
       "Villablanca                                             4.0     2885.0   \n",
       "Gibraleón                                              18.0    12737.0   \n",
       "Almonte                                               159.0    24507.0   \n",
       "Condado-Campiña                                       507.0   156231.0   \n",
       "Huelva                                               1125.0   513170.0   \n",
       "Huelva (capital)                                      344.0   143837.0   \n",
       "Huelva-Costa                                          538.0   289548.0   \n",
       "Nerva                                                  16.0     5169.0   \n",
       "Sierra de Huelva-Andévalo Central                      77.0    67391.0   \n",
       "Moguer                                                 63.0    21867.0   \n",
       "Isla Cristina                                          46.0    21393.0   \n",
       "Palma del Condado (La)                                 31.0    10801.0   \n",
       "San Juan del Puerto                                    23.0     9411.0   \n",
       "Valverde del Camino                                    26.0    12750.0   \n",
       "Escacena del Campo                                      9.0     2287.0   \n",
       "Lepe                                                   21.0    27880.0   \n",
       "Galaroza                                               12.0     1382.0   \n",
       "Niebla                                                 12.0     4116.0   \n",
       "Minas de Riotinto                                       4.0     3812.0   \n",
       "Manzanilla                                              5.0     2118.0   \n",
       "Punta Umbría                                           44.0    15355.0   \n",
       "Trigueros                                              11.0     7862.0   \n",
       "Villarrasa                                              2.0     2211.0   \n",
       "Paterna del Campo                                       1.0     3457.0   \n",
       "Cumbres Mayores                                         1.0     1749.0   \n",
       "San Bartolomé de la Torre                               1.0     3761.0   \n",
       "Cortelazor                                              1.0      299.0   \n",
       "Cerro de Andévalo (El)                                  1.0     2327.0   \n",
       "Calañas                                                 3.0     2768.0   \n",
       "Alosno                                                  1.0     3933.0   \n",
       "Villalba del Alcor                                      6.0     3366.0   \n",
       "Zalamea la Real                                         1.0     3054.0   \n",
       "\n",
       "Medida                                  tasa7      tasa14  Diferencia PDIA  \\\n",
       "Lugar de residencia                                                          \n",
       "Palos de la Frontera                51.098620  221.427355              4.0   \n",
       "Ayamonte                            23.692191   90.030326              0.0   \n",
       "Beas                                46.072334  161.253167              1.0   \n",
       "Bonares                             33.003300  115.511551              0.0   \n",
       "Cartaya                             49.793358  154.359408              1.0   \n",
       "Lucena del Puerto                   91.996320  275.988960              2.0   \n",
       "Aljaraque                           55.881531  125.733445              4.0   \n",
       "Rociana del Condado                151.152538  327.497166              4.0   \n",
       "Bollullos Par del Condado          298.880934  632.515465             17.0   \n",
       "Villablanca                         69.324090  138.648180              0.0   \n",
       "Gibraleón                           70.660281  141.320562              2.0   \n",
       "Almonte                            330.517811  648.794222             24.0   \n",
       "Condado-Campiña                    171.540859  324.519462            118.0   \n",
       "Huelva                             119.843327  219.225598            251.0   \n",
       "Huelva (capital)                   133.484430  239.159604             73.0   \n",
       "Huelva-Costa                       104.300496  185.806844            108.0   \n",
       "Nerva                              174.114916  309.537628              7.0   \n",
       "Sierra de Huelva-Andévalo Central   66.774495  114.258581             26.0   \n",
       "Moguer                             169.204738  288.105364             22.0   \n",
       "Isla Cristina                      130.883934  215.023606              6.0   \n",
       "Palma del Condado (La)             175.909638  287.010462             13.0   \n",
       "San Juan del Puerto                159.387950  244.394857              9.0   \n",
       "Valverde del Camino                133.333333  203.921569             10.0   \n",
       "Escacena del Campo                 262.352427  393.528640              4.0   \n",
       "Lepe                                53.802009   75.322812              5.0   \n",
       "Galaroza                           651.230101  868.306802              2.0   \n",
       "Niebla                             218.658892  291.545190              4.0   \n",
       "Minas de Riotinto                   78.698846  104.931794              2.0   \n",
       "Manzanilla                         188.857413  236.071766              3.0   \n",
       "Punta Umbría                       240.963855  286.551612             18.0   \n",
       "Trigueros                          127.194098  139.913508              5.0   \n",
       "Villarrasa                          90.456807   90.456807              1.0   \n",
       "Paterna del Campo                   28.926815   28.926815              0.0   \n",
       "Cumbres Mayores                     57.175529   57.175529              0.0   \n",
       "San Bartolomé de la Torre           26.588673   26.588673              0.0   \n",
       "Cortelazor                         334.448161  334.448161              0.0   \n",
       "Cerro de Andévalo (El)              42.973786   42.973786              0.0   \n",
       "Calañas                            108.381503  108.381503              0.0   \n",
       "Alosno                              25.425884   25.425884              0.0   \n",
       "Villalba del Alcor                 178.253119  178.253119              3.0   \n",
       "Zalamea la Real                     32.743942   32.743942              0.0   \n",
       "\n",
       "Medida                                 7/14  \n",
       "Lugar de residencia                          \n",
       "Palos de la Frontera               0.230769  \n",
       "Ayamonte                           0.263158  \n",
       "Beas                               0.285714  \n",
       "Bonares                            0.285714  \n",
       "Cartaya                            0.322581  \n",
       "Lucena del Puerto                  0.333333  \n",
       "Aljaraque                          0.444444  \n",
       "Rociana del Condado                0.461538  \n",
       "Bollullos Par del Condado          0.472527  \n",
       "Villablanca                        0.500000  \n",
       "Gibraleón                          0.500000  \n",
       "Almonte                            0.509434  \n",
       "Condado-Campiña                    0.528600  \n",
       "Huelva                             0.546667  \n",
       "Huelva (capital)                   0.558140  \n",
       "Huelva-Costa                       0.561338  \n",
       "Nerva                              0.562500  \n",
       "Sierra de Huelva-Andévalo Central  0.584416  \n",
       "Moguer                             0.587302  \n",
       "Isla Cristina                      0.608696  \n",
       "Palma del Condado (La)             0.612903  \n",
       "San Juan del Puerto                0.652174  \n",
       "Valverde del Camino                0.653846  \n",
       "Escacena del Campo                 0.666667  \n",
       "Lepe                               0.714286  \n",
       "Galaroza                           0.750000  \n",
       "Niebla                             0.750000  \n",
       "Minas de Riotinto                  0.750000  \n",
       "Manzanilla                         0.800000  \n",
       "Punta Umbría                       0.840909  \n",
       "Trigueros                          0.909091  \n",
       "Villarrasa                         1.000000  \n",
       "Paterna del Campo                  1.000000  \n",
       "Cumbres Mayores                    1.000000  \n",
       "San Bartolomé de la Torre          1.000000  \n",
       "Cortelazor                         1.000000  \n",
       "Cerro de Andévalo (El)             1.000000  \n",
       "Calañas                            1.000000  \n",
       "Alosno                             1.000000  \n",
       "Villalba del Alcor                 1.000000  \n",
       "Zalamea la Real                    1.000000  "
      ],
      "text/html": "<div>\n<style scoped>\n    .dataframe tbody tr th:only-of-type {\n        vertical-align: middle;\n    }\n\n    .dataframe tbody tr th {\n        vertical-align: top;\n    }\n\n    .dataframe thead th {\n        text-align: right;\n    }\n</style>\n<table border=\"1\" class=\"dataframe\">\n  <thead>\n    <tr style=\"text-align: right;\">\n      <th>Medida</th>\n      <th>Confirmados PDIA</th>\n      <th>Confirmados PDIA 7 días</th>\n      <th>Confirmados PDIA 14 días</th>\n      <th>Población</th>\n      <th>tasa7</th>\n      <th>tasa14</th>\n      <th>Diferencia PDIA</th>\n      <th>7/14</th>\n    </tr>\n    <tr>\n      <th>Lugar de residencia</th>\n      <th></th>\n      <th></th>\n      <th></th>\n      <th></th>\n      <th></th>\n      <th></th>\n      <th></th>\n      <th></th>\n    </tr>\n  </thead>\n  <tbody>\n    <tr>\n      <th>Palos de la Frontera</th>\n      <td>603.0</td>\n      <td>6.0</td>\n      <td>26.0</td>\n      <td>11742.0</td>\n      <td>51.098620</td>\n      <td>221.427355</td>\n      <td>4.0</td>\n      <td>0.230769</td>\n    </tr>\n    <tr>\n      <th>Ayamonte</th>\n      <td>1296.0</td>\n      <td>5.0</td>\n      <td>19.0</td>\n      <td>21104.0</td>\n      <td>23.692191</td>\n      <td>90.030326</td>\n      <td>0.0</td>\n      <td>0.263158</td>\n    </tr>\n    <tr>\n      <th>Beas</th>\n      <td>203.0</td>\n      <td>2.0</td>\n      <td>7.0</td>\n      <td>4341.0</td>\n      <td>46.072334</td>\n      <td>161.253167</td>\n      <td>1.0</td>\n      <td>0.285714</td>\n    </tr>\n    <tr>\n      <th>Bonares</th>\n      <td>259.0</td>\n      <td>2.0</td>\n      <td>7.0</td>\n      <td>6060.0</td>\n      <td>33.003300</td>\n      <td>115.511551</td>\n      <td>0.0</td>\n      <td>0.285714</td>\n    </tr>\n    <tr>\n      <th>Cartaya</th>\n      <td>1292.0</td>\n      <td>10.0</td>\n      <td>31.0</td>\n      <td>20083.0</td>\n      <td>49.793358</td>\n      <td>154.359408</td>\n      <td>1.0</td>\n      <td>0.322581</td>\n    </tr>\n    <tr>\n      <th>Lucena del Puerto</th>\n      <td>236.0</td>\n      <td>3.0</td>\n      <td>9.0</td>\n      <td>3261.0</td>\n      <td>91.996320</td>\n      <td>275.988960</td>\n      <td>2.0</td>\n      <td>0.333333</td>\n    </tr>\n    <tr>\n      <th>Aljaraque</th>\n      <td>1020.0</td>\n      <td>12.0</td>\n      <td>27.0</td>\n      <td>21474.0</td>\n      <td>55.881531</td>\n      <td>125.733445</td>\n      <td>4.0</td>\n      <td>0.444444</td>\n    </tr>\n    <tr>\n      <th>Rociana del Condado</th>\n      <td>533.0</td>\n      <td>12.0</td>\n      <td>26.0</td>\n      <td>7939.0</td>\n      <td>151.152538</td>\n      <td>327.497166</td>\n      <td>4.0</td>\n      <td>0.461538</td>\n    </tr>\n    <tr>\n      <th>Bollullos Par del Condado</th>\n      <td>893.0</td>\n      <td>43.0</td>\n      <td>91.0</td>\n      <td>14387.0</td>\n      <td>298.880934</td>\n      <td>632.515465</td>\n      <td>17.0</td>\n      <td>0.472527</td>\n    </tr>\n    <tr>\n      <th>Villablanca</th>\n      <td>184.0</td>\n      <td>2.0</td>\n      <td>4.0</td>\n      <td>2885.0</td>\n      <td>69.324090</td>\n      <td>138.648180</td>\n      <td>0.0</td>\n      <td>0.500000</td>\n    </tr>\n    <tr>\n      <th>Gibraleón</th>\n      <td>600.0</td>\n      <td>9.0</td>\n      <td>18.0</td>\n      <td>12737.0</td>\n      <td>70.660281</td>\n      <td>141.320562</td>\n      <td>2.0</td>\n      <td>0.500000</td>\n    </tr>\n    <tr>\n      <th>Almonte</th>\n      <td>1653.0</td>\n      <td>81.0</td>\n      <td>159.0</td>\n      <td>24507.0</td>\n      <td>330.517811</td>\n      <td>648.794222</td>\n      <td>24.0</td>\n      <td>0.509434</td>\n    </tr>\n    <tr>\n      <th>Condado-Campiña</th>\n      <td>9422.0</td>\n      <td>268.0</td>\n      <td>507.0</td>\n      <td>156231.0</td>\n      <td>171.540859</td>\n      <td>324.519462</td>\n      <td>118.0</td>\n      <td>0.528600</td>\n    </tr>\n    <tr>\n      <th>Huelva</th>\n      <td>29501.0</td>\n      <td>615.0</td>\n      <td>1125.0</td>\n      <td>513170.0</td>\n      <td>119.843327</td>\n      <td>219.225598</td>\n      <td>251.0</td>\n      <td>0.546667</td>\n    </tr>\n    <tr>\n      <th>Huelva (capital)</th>\n      <td>7708.0</td>\n      <td>192.0</td>\n      <td>344.0</td>\n      <td>143837.0</td>\n      <td>133.484430</td>\n      <td>239.159604</td>\n      <td>73.0</td>\n      <td>0.558140</td>\n    </tr>\n    <tr>\n      <th>Huelva-Costa</th>\n      <td>17123.0</td>\n      <td>302.0</td>\n      <td>538.0</td>\n      <td>289548.0</td>\n      <td>104.300496</td>\n      <td>185.806844</td>\n      <td>108.0</td>\n      <td>0.561338</td>\n    </tr>\n    <tr>\n      <th>Nerva</th>\n      <td>169.0</td>\n      <td>9.0</td>\n      <td>16.0</td>\n      <td>5169.0</td>\n      <td>174.114916</td>\n      <td>309.537628</td>\n      <td>7.0</td>\n      <td>0.562500</td>\n    </tr>\n    <tr>\n      <th>Sierra de Huelva-Andévalo Central</th>\n      <td>2615.0</td>\n      <td>45.0</td>\n      <td>77.0</td>\n      <td>67391.0</td>\n      <td>66.774495</td>\n      <td>114.258581</td>\n      <td>26.0</td>\n      <td>0.584416</td>\n    </tr>\n    <tr>\n      <th>Moguer</th>\n      <td>1153.0</td>\n      <td>37.0</td>\n      <td>63.0</td>\n      <td>21867.0</td>\n      <td>169.204738</td>\n      <td>288.105364</td>\n      <td>22.0</td>\n      <td>0.587302</td>\n    </tr>\n    <tr>\n      <th>Isla Cristina</th>\n      <td>2104.0</td>\n      <td>28.0</td>\n      <td>46.0</td>\n      <td>21393.0</td>\n      <td>130.883934</td>\n      <td>215.023606</td>\n      <td>6.0</td>\n      <td>0.608696</td>\n    </tr>\n    <tr>\n      <th>Palma del Condado (La)</th>\n      <td>1062.0</td>\n      <td>19.0</td>\n      <td>31.0</td>\n      <td>10801.0</td>\n      <td>175.909638</td>\n      <td>287.010462</td>\n      <td>13.0</td>\n      <td>0.612903</td>\n    </tr>\n    <tr>\n      <th>San Juan del Puerto</th>\n      <td>468.0</td>\n      <td>15.0</td>\n      <td>23.0</td>\n      <td>9411.0</td>\n      <td>159.387950</td>\n      <td>244.394857</td>\n      <td>9.0</td>\n      <td>0.652174</td>\n    </tr>\n    <tr>\n      <th>Valverde del Camino</th>\n      <td>498.0</td>\n      <td>17.0</td>\n      <td>26.0</td>\n      <td>12750.0</td>\n      <td>133.333333</td>\n      <td>203.921569</td>\n      <td>10.0</td>\n      <td>0.653846</td>\n    </tr>\n    <tr>\n      <th>Escacena del Campo</th>\n      <td>153.0</td>\n      <td>6.0</td>\n      <td>9.0</td>\n      <td>2287.0</td>\n      <td>262.352427</td>\n      <td>393.528640</td>\n      <td>4.0</td>\n      <td>0.666667</td>\n    </tr>\n    <tr>\n      <th>Lepe</th>\n      <td>2099.0</td>\n      <td>15.0</td>\n      <td>21.0</td>\n      <td>27880.0</td>\n      <td>53.802009</td>\n      <td>75.322812</td>\n      <td>5.0</td>\n      <td>0.714286</td>\n    </tr>\n    <tr>\n      <th>Galaroza</th>\n      <td>39.0</td>\n      <td>9.0</td>\n      <td>12.0</td>\n      <td>1382.0</td>\n      <td>651.230101</td>\n      <td>868.306802</td>\n      <td>2.0</td>\n      <td>0.750000</td>\n    </tr>\n    <tr>\n      <th>Niebla</th>\n      <td>205.0</td>\n      <td>9.0</td>\n      <td>12.0</td>\n      <td>4116.0</td>\n      <td>218.658892</td>\n      <td>291.545190</td>\n      <td>4.0</td>\n      <td>0.750000</td>\n    </tr>\n    <tr>\n      <th>Minas de Riotinto</th>\n      <td>117.0</td>\n      <td>3.0</td>\n      <td>4.0</td>\n      <td>3812.0</td>\n      <td>78.698846</td>\n      <td>104.931794</td>\n      <td>2.0</td>\n      <td>0.750000</td>\n    </tr>\n    <tr>\n      <th>Manzanilla</th>\n      <td>89.0</td>\n      <td>4.0</td>\n      <td>5.0</td>\n      <td>2118.0</td>\n      <td>188.857413</td>\n      <td>236.071766</td>\n      <td>3.0</td>\n      <td>0.800000</td>\n    </tr>\n    <tr>\n      <th>Punta Umbría</th>\n      <td>754.0</td>\n      <td>37.0</td>\n      <td>44.0</td>\n      <td>15355.0</td>\n      <td>240.963855</td>\n      <td>286.551612</td>\n      <td>18.0</td>\n      <td>0.840909</td>\n    </tr>\n    <tr>\n      <th>Trigueros</th>\n      <td>278.0</td>\n      <td>10.0</td>\n      <td>11.0</td>\n      <td>7862.0</td>\n      <td>127.194098</td>\n      <td>139.913508</td>\n      <td>5.0</td>\n      <td>0.909091</td>\n    </tr>\n    <tr>\n      <th>Villarrasa</th>\n      <td>149.0</td>\n      <td>2.0</td>\n      <td>2.0</td>\n      <td>2211.0</td>\n      <td>90.456807</td>\n      <td>90.456807</td>\n      <td>1.0</td>\n      <td>1.000000</td>\n    </tr>\n    <tr>\n      <th>Paterna del Campo</th>\n      <td>125.0</td>\n      <td>1.0</td>\n      <td>1.0</td>\n      <td>3457.0</td>\n      <td>28.926815</td>\n      <td>28.926815</td>\n      <td>0.0</td>\n      <td>1.000000</td>\n    </tr>\n    <tr>\n      <th>Cumbres Mayores</th>\n      <td>50.0</td>\n      <td>1.0</td>\n      <td>1.0</td>\n      <td>1749.0</td>\n      <td>57.175529</td>\n      <td>57.175529</td>\n      <td>0.0</td>\n      <td>1.000000</td>\n    </tr>\n    <tr>\n      <th>San Bartolomé de la Torre</th>\n      <td>283.0</td>\n      <td>1.0</td>\n      <td>1.0</td>\n      <td>3761.0</td>\n      <td>26.588673</td>\n      <td>26.588673</td>\n      <td>0.0</td>\n      <td>1.000000</td>\n    </tr>\n    <tr>\n      <th>Cortelazor</th>\n      <td>8.0</td>\n      <td>1.0</td>\n      <td>1.0</td>\n      <td>299.0</td>\n      <td>334.448161</td>\n      <td>334.448161</td>\n      <td>0.0</td>\n      <td>1.000000</td>\n    </tr>\n    <tr>\n      <th>Cerro de Andévalo (El)</th>\n      <td>137.0</td>\n      <td>1.0</td>\n      <td>1.0</td>\n      <td>2327.0</td>\n      <td>42.973786</td>\n      <td>42.973786</td>\n      <td>0.0</td>\n      <td>1.000000</td>\n    </tr>\n    <tr>\n      <th>Calañas</th>\n      <td>177.0</td>\n      <td>3.0</td>\n      <td>3.0</td>\n      <td>2768.0</td>\n      <td>108.381503</td>\n      <td>108.381503</td>\n      <td>0.0</td>\n      <td>1.000000</td>\n    </tr>\n    <tr>\n      <th>Alosno</th>\n      <td>163.0</td>\n      <td>1.0</td>\n      <td>1.0</td>\n      <td>3933.0</td>\n      <td>25.425884</td>\n      <td>25.425884</td>\n      <td>0.0</td>\n      <td>1.000000</td>\n    </tr>\n    <tr>\n      <th>Villalba del Alcor</th>\n      <td>477.0</td>\n      <td>6.0</td>\n      <td>6.0</td>\n      <td>3366.0</td>\n      <td>178.253119</td>\n      <td>178.253119</td>\n      <td>3.0</td>\n      <td>1.000000</td>\n    </tr>\n    <tr>\n      <th>Zalamea la Real</th>\n      <td>87.0</td>\n      <td>1.0</td>\n      <td>1.0</td>\n      <td>3054.0</td>\n      <td>32.743942</td>\n      <td>32.743942</td>\n      <td>0.0</td>\n      <td>1.000000</td>\n    </tr>\n  </tbody>\n</table>\n</div>"
     },
     "metadata": {},
     "execution_count": 18
    }
   ],
   "source": [
    "# Peso de la tasa de la última semana en relación con la tasa a 14 días \n",
    "# Mejor cuanto menor. Valor 1 significa que no había casos antes de 7 días.\n",
    "tabla['7/14'] = tabla['tasa7'] / tabla['tasa14']\n",
    "tabla.fillna(0).sort_values('7/14', ascending=True)"
   ]
  },
  {
   "cell_type": "code",
   "execution_count": null,
   "metadata": {},
   "outputs": [],
   "source": []
  }
 ]
}