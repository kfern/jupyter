{
 "metadata": {
  "language_info": {
   "codemirror_mode": {
    "name": "ipython",
    "version": 3
   },
   "file_extension": ".py",
   "mimetype": "text/x-python",
   "name": "python",
   "nbconvert_exporter": "python",
   "pygments_lexer": "ipython3",
   "version": "3.8.6"
  },
  "orig_nbformat": 2,
  "kernelspec": {
   "name": "python3",
   "display_name": "Python 3",
   "language": "python"
  }
 },
 "nbformat": 4,
 "nbformat_minor": 2,
 "cells": [
  {
   "cell_type": "code",
   "execution_count": 1,
   "metadata": {},
   "outputs": [],
   "source": [
    "import pandas as pd\n",
    "pd.set_option('display.max_rows', None) # Print all rows"
   ]
  },
  {
   "cell_type": "code",
   "execution_count": 2,
   "metadata": {},
   "outputs": [],
   "source": [
    "# FIX SSL: CERTIFICATE_VERIFY_FAILED with Python3\n",
    "# https://stackoverflow.com/a/49174340\n",
    "import ssl\n",
    "\n",
    "ssl._create_default_https_context = ssl._create_unverified_context"
   ]
  },
  {
   "cell_type": "code",
   "execution_count": 3,
   "metadata": {},
   "outputs": [],
   "source": [
    "url = 'https://www.juntadeandalucia.es/institutodeestadisticaycartografia/badea/stpivot/stpivot/Print?cube=013d884c-cfc5-4c21-9e78-e26225682afd&type=3&foto=si&ejecutaDesde=&codConsulta=38668&consTipoVisua=JP'\n",
    "fields = ['Lugar de residencia', 'Medida', 'Valor']\n",
    "df = pd.read_csv(url, delimiter=';', usecols=fields, decimal=',')"
   ]
  },
  {
   "cell_type": "code",
   "execution_count": 4,
   "metadata": {},
   "outputs": [
    {
     "output_type": "execute_result",
     "data": {
      "text/plain": [
       "  Lugar de residencia                    Medida              Valor\n",
       "0              Huelva                 Población             513170\n",
       "1              Huelva          Confirmados PDIA              29546\n",
       "2              Huelva  Confirmados PDIA 14 días               1095\n",
       "3              Huelva         Tasa PDIA 14 días  213,3795818149931\n",
       "4              Huelva   Confirmados PDIA 7 días                573\n",
       "5              Huelva        Total Confirmados               29722\n",
       "6              Huelva                   Curados              26500\n",
       "7              Huelva                Fallecidos                371"
      ],
      "text/html": "<div>\n<style scoped>\n    .dataframe tbody tr th:only-of-type {\n        vertical-align: middle;\n    }\n\n    .dataframe tbody tr th {\n        vertical-align: top;\n    }\n\n    .dataframe thead th {\n        text-align: right;\n    }\n</style>\n<table border=\"1\" class=\"dataframe\">\n  <thead>\n    <tr style=\"text-align: right;\">\n      <th></th>\n      <th>Lugar de residencia</th>\n      <th>Medida</th>\n      <th>Valor</th>\n    </tr>\n  </thead>\n  <tbody>\n    <tr>\n      <th>0</th>\n      <td>Huelva</td>\n      <td>Población</td>\n      <td>513170</td>\n    </tr>\n    <tr>\n      <th>1</th>\n      <td>Huelva</td>\n      <td>Confirmados PDIA</td>\n      <td>29546</td>\n    </tr>\n    <tr>\n      <th>2</th>\n      <td>Huelva</td>\n      <td>Confirmados PDIA 14 días</td>\n      <td>1095</td>\n    </tr>\n    <tr>\n      <th>3</th>\n      <td>Huelva</td>\n      <td>Tasa PDIA 14 días</td>\n      <td>213,3795818149931</td>\n    </tr>\n    <tr>\n      <th>4</th>\n      <td>Huelva</td>\n      <td>Confirmados PDIA 7 días</td>\n      <td>573</td>\n    </tr>\n    <tr>\n      <th>5</th>\n      <td>Huelva</td>\n      <td>Total Confirmados</td>\n      <td>29722</td>\n    </tr>\n    <tr>\n      <th>6</th>\n      <td>Huelva</td>\n      <td>Curados</td>\n      <td>26500</td>\n    </tr>\n    <tr>\n      <th>7</th>\n      <td>Huelva</td>\n      <td>Fallecidos</td>\n      <td>371</td>\n    </tr>\n  </tbody>\n</table>\n</div>"
     },
     "metadata": {},
     "execution_count": 4
    }
   ],
   "source": [
    "df[df['Lugar de residencia'] == 'Huelva']"
   ]
  },
  {
   "cell_type": "code",
   "execution_count": 5,
   "metadata": {},
   "outputs": [],
   "source": [
    "df['Valor'] = pd.to_numeric(df['Valor'],errors='coerce')"
   ]
  },
  {
   "cell_type": "code",
   "execution_count": 6,
   "metadata": {},
   "outputs": [],
   "source": [
    "dfAnterior = pd.read_csv('covid_huelva.csv', index_col='Lugar de residencia')"
   ]
  },
  {
   "cell_type": "code",
   "execution_count": 7,
   "metadata": {
    "tags": []
   },
   "outputs": [
    {
     "output_type": "stream",
     "name": "stdout",
     "text": [
      "Confirmados PCR en la provincia de Huelva:  29546.0\n",
      "<ipython-input-7-31b732756b19>:2: UserWarning: Boolean Series key will be reindexed to match DataFrame index.\n",
      "  p = df[df['Lugar de residencia'] == 'Huelva'][df['Medida'] == 'Confirmados PDIA']['Valor'].values[0]\n"
     ]
    }
   ],
   "source": [
    "# Confirmados PCR provincia Huelva\n",
    "p = df[df['Lugar de residencia'] == 'Huelva'][df['Medida'] == 'Confirmados PDIA']['Valor'].values[0]\n",
    "print('Confirmados PCR en la provincia de Huelva: ', p)"
   ]
  },
  {
   "cell_type": "code",
   "execution_count": 8,
   "metadata": {
    "tags": []
   },
   "outputs": [
    {
     "output_type": "stream",
     "name": "stdout",
     "text": [
      "Confirmados PCR en Huelva capital:  7722.0\n",
      "<ipython-input-8-e81bfb40e710>:2: UserWarning: Boolean Series key will be reindexed to match DataFrame index.\n",
      "  c = df[df['Lugar de residencia'] == 'Huelva (capital)'][df['Medida'] == 'Confirmados PDIA']['Valor'].values[0]\n"
     ]
    }
   ],
   "source": [
    "# Confirmados PCR Huelva capitalpd\n",
    "c = df[df['Lugar de residencia'] == 'Huelva (capital)'][df['Medida'] == 'Confirmados PDIA']['Valor'].values[0]\n",
    "print('Confirmados PCR en Huelva capital: ', c)"
   ]
  },
  {
   "cell_type": "code",
   "execution_count": 9,
   "metadata": {
    "tags": []
   },
   "outputs": [
    {
     "output_type": "stream",
     "name": "stderr",
     "text": [
      "<ipython-input-9-f09dd2050cc1>:1: UserWarning: Boolean Series key will be reindexed to match DataFrame index.\n  c7 = df[df['Lugar de residencia'] == 'Huelva (capital)'][df['Medida'] == 'Confirmados PDIA 7 días']['Valor'].values[0]\n<ipython-input-9-f09dd2050cc1>:2: UserWarning: Boolean Series key will be reindexed to match DataFrame index.\n  c14 = df[df['Lugar de residencia'] == 'Huelva (capital)'][df['Medida'] == 'Confirmados PDIA 14 días']['Valor'].values[0]\n<ipython-input-9-f09dd2050cc1>:3: UserWarning: Boolean Series key will be reindexed to match DataFrame index.\n  p = df[df['Lugar de residencia'] == 'Huelva (capital)'][df['Medida'] == 'Población']['Valor'].values[0]\n"
     ]
    }
   ],
   "source": [
    "c7 = df[df['Lugar de residencia'] == 'Huelva (capital)'][df['Medida'] == 'Confirmados PDIA 7 días']['Valor'].values[0]\n",
    "c14 = df[df['Lugar de residencia'] == 'Huelva (capital)'][df['Medida'] == 'Confirmados PDIA 14 días']['Valor'].values[0]\n",
    "p = df[df['Lugar de residencia'] == 'Huelva (capital)'][df['Medida'] == 'Población']['Valor'].values[0]"
   ]
  },
  {
   "cell_type": "code",
   "execution_count": 10,
   "metadata": {
    "tags": []
   },
   "outputs": [
    {
     "output_type": "stream",
     "name": "stdout",
     "text": [
      "Huelva (capital)\n\nUn positivo PCR cada 846 personas en los últimos 7 días \n\nUn positivo PCR cada 426 personas en los últimos 14 días\n"
     ]
    }
   ],
   "source": [
    "print('Huelva (capital)\\n')\n",
    "#print('Confirmados PCR 7 días x 1,000 habitantes: ', f\"{c7/(p/1000):.5f}\")\n",
    "print('Un positivo PCR cada', f\"{p/c7:.0f}\", 'personas en los últimos 7 días', '\\n')\n",
    "#print('Confirmados PCR 14 días x 1,000 habitantes: ', f\"{c14/(p/1000):.5f}\")\n",
    "print('Un positivo PCR cada', f\"{p/c14:.0f}\", 'personas en los últimos 14 días')"
   ]
  },
  {
   "cell_type": "code",
   "execution_count": 11,
   "metadata": {},
   "outputs": [],
   "source": [
    "filtro = ((df['Medida'] == 'Confirmados PDIA')| (df['Medida'] == 'Confirmados PDIA 7 días') | (df['Medida'] == 'Población' ) | (df['Medida'] == 'Confirmados PDIA 14 días')) & (df['Valor'] > 0)\n",
    "tabla = pd.pivot_table(df.loc[filtro], values='Valor', index='Lugar de residencia', columns='Medida').dropna()"
   ]
  },
  {
   "cell_type": "code",
   "execution_count": 12,
   "metadata": {},
   "outputs": [],
   "source": [
    "# Reorder columns\n",
    "tabla = tabla[['Confirmados PDIA', 'Confirmados PDIA 7 días', 'Confirmados PDIA 14 días', 'Población']]"
   ]
  },
  {
   "cell_type": "code",
   "execution_count": 13,
   "metadata": {},
   "outputs": [],
   "source": [
    "tabla['tasa7'] = tabla['Confirmados PDIA 7 días']/tabla['Población']*100000\n",
    "tabla['tasa14'] = tabla['Confirmados PDIA 14 días']/tabla['Población']*100000"
   ]
  },
  {
   "cell_type": "code",
   "execution_count": 14,
   "metadata": {},
   "outputs": [],
   "source": [
    "tabla['Diferencia PDIA'] = tabla['Confirmados PDIA'] - dfAnterior['Confirmados PDIA']"
   ]
  },
  {
   "cell_type": "code",
   "execution_count": 15,
   "metadata": {},
   "outputs": [
    {
     "output_type": "execute_result",
     "data": {
      "text/plain": [
       "Medida                             Confirmados PDIA  Confirmados PDIA 7 días  \\\n",
       "Lugar de residencia                                                            \n",
       "Huelva                                      29546.0                    573.0   \n",
       "Condado-Campiña                              9444.0                    254.0   \n",
       "Huelva-Costa                                17142.0                    275.0   \n",
       "Huelva (capital)                             7722.0                    170.0   \n",
       "Sierra de Huelva-Andévalo Central            2619.0                     44.0   \n",
       "Lucena del Puerto                             240.0                      7.0   \n",
       "Palma del Condado (La)                       1066.0                     21.0   \n",
       "Valverde del Camino                           501.0                     20.0   \n",
       "Bollullos Par del Condado                     896.0                     40.0   \n",
       "Isla Cristina                                2106.0                     27.0   \n",
       "Palos de la Frontera                          605.0                      8.0   \n",
       "Almonte                                      1655.0                     71.0   \n",
       "Moguer                                       1155.0                     38.0   \n",
       "Trigueros                                     279.0                      7.0   \n",
       "Rociana del Condado                           534.0                      9.0   \n",
       "Aljaraque                                    1021.0                     12.0   \n",
       "Lepe                                         2100.0                     15.0   \n",
       "Escacena del Campo                            154.0                      7.0   \n",
       "Bonares                                       260.0                      3.0   \n",
       "Ayamonte                                     1297.0                      5.0   \n",
       "Villarrasa                                    150.0                      3.0   \n",
       "Aracena                                       514.0                      1.0   \n",
       "\n",
       "Medida                             Confirmados PDIA 14 días  Población  \\\n",
       "Lugar de residencia                                                      \n",
       "Huelva                                               1095.0   513170.0   \n",
       "Condado-Campiña                                       491.0   156231.0   \n",
       "Huelva-Costa                                          524.0   289548.0   \n",
       "Huelva (capital)                                      338.0   143837.0   \n",
       "Sierra de Huelva-Andévalo Central                      77.0    67391.0   \n",
       "Lucena del Puerto                                       9.0     3261.0   \n",
       "Palma del Condado (La)                                 30.0    10801.0   \n",
       "Valverde del Camino                                    28.0    12750.0   \n",
       "Bollullos Par del Condado                              88.0    14387.0   \n",
       "Isla Cristina                                          46.0    21393.0   \n",
       "Palos de la Frontera                                   27.0    11742.0   \n",
       "Almonte                                               158.0    24507.0   \n",
       "Moguer                                                 58.0    21867.0   \n",
       "Trigueros                                              12.0     7862.0   \n",
       "Rociana del Condado                                    24.0     7939.0   \n",
       "Aljaraque                                              25.0    21474.0   \n",
       "Lepe                                                   22.0    27880.0   \n",
       "Escacena del Campo                                     10.0     2287.0   \n",
       "Bonares                                                 7.0     6060.0   \n",
       "Ayamonte                                               16.0    21104.0   \n",
       "Villarrasa                                              3.0     2211.0   \n",
       "Aracena                                                 5.0     8255.0   \n",
       "\n",
       "Medida                                  tasa7      tasa14  Diferencia PDIA  \n",
       "Lugar de residencia                                                         \n",
       "Huelva                             111.658904  213.379582             45.0  \n",
       "Condado-Campiña                    162.579770  314.278216             22.0  \n",
       "Huelva-Costa                        94.975617  180.971721             19.0  \n",
       "Huelva (capital)                   118.189339  234.988216             14.0  \n",
       "Sierra de Huelva-Andévalo Central   65.290617  114.258581              4.0  \n",
       "Lucena del Puerto                  214.658080  275.988960              4.0  \n",
       "Palma del Condado (La)             194.426442  277.752060              4.0  \n",
       "Valverde del Camino                156.862745  219.607843              3.0  \n",
       "Bollullos Par del Condado          278.028776  611.663307              3.0  \n",
       "Isla Cristina                      126.209508  215.023606              2.0  \n",
       "Palos de la Frontera                68.131494  229.943792              2.0  \n",
       "Almonte                            289.713143  644.713755              2.0  \n",
       "Moguer                             173.777839  265.239859              2.0  \n",
       "Trigueros                           89.035869  152.632918              1.0  \n",
       "Rociana del Condado                113.364404  302.305076              1.0  \n",
       "Aljaraque                           55.881531  116.419857              1.0  \n",
       "Lepe                                53.802009   78.909613              1.0  \n",
       "Escacena del Campo                 306.077831  437.254045              1.0  \n",
       "Bonares                             49.504950  115.511551              1.0  \n",
       "Ayamonte                            23.692191   75.815011              1.0  \n",
       "Villarrasa                         135.685210  135.685210              1.0  \n",
       "Aracena                             12.113870   60.569352              NaN  "
      ],
      "text/html": "<div>\n<style scoped>\n    .dataframe tbody tr th:only-of-type {\n        vertical-align: middle;\n    }\n\n    .dataframe tbody tr th {\n        vertical-align: top;\n    }\n\n    .dataframe thead th {\n        text-align: right;\n    }\n</style>\n<table border=\"1\" class=\"dataframe\">\n  <thead>\n    <tr style=\"text-align: right;\">\n      <th>Medida</th>\n      <th>Confirmados PDIA</th>\n      <th>Confirmados PDIA 7 días</th>\n      <th>Confirmados PDIA 14 días</th>\n      <th>Población</th>\n      <th>tasa7</th>\n      <th>tasa14</th>\n      <th>Diferencia PDIA</th>\n    </tr>\n    <tr>\n      <th>Lugar de residencia</th>\n      <th></th>\n      <th></th>\n      <th></th>\n      <th></th>\n      <th></th>\n      <th></th>\n      <th></th>\n    </tr>\n  </thead>\n  <tbody>\n    <tr>\n      <th>Huelva</th>\n      <td>29546.0</td>\n      <td>573.0</td>\n      <td>1095.0</td>\n      <td>513170.0</td>\n      <td>111.658904</td>\n      <td>213.379582</td>\n      <td>45.0</td>\n    </tr>\n    <tr>\n      <th>Condado-Campiña</th>\n      <td>9444.0</td>\n      <td>254.0</td>\n      <td>491.0</td>\n      <td>156231.0</td>\n      <td>162.579770</td>\n      <td>314.278216</td>\n      <td>22.0</td>\n    </tr>\n    <tr>\n      <th>Huelva-Costa</th>\n      <td>17142.0</td>\n      <td>275.0</td>\n      <td>524.0</td>\n      <td>289548.0</td>\n      <td>94.975617</td>\n      <td>180.971721</td>\n      <td>19.0</td>\n    </tr>\n    <tr>\n      <th>Huelva (capital)</th>\n      <td>7722.0</td>\n      <td>170.0</td>\n      <td>338.0</td>\n      <td>143837.0</td>\n      <td>118.189339</td>\n      <td>234.988216</td>\n      <td>14.0</td>\n    </tr>\n    <tr>\n      <th>Sierra de Huelva-Andévalo Central</th>\n      <td>2619.0</td>\n      <td>44.0</td>\n      <td>77.0</td>\n      <td>67391.0</td>\n      <td>65.290617</td>\n      <td>114.258581</td>\n      <td>4.0</td>\n    </tr>\n    <tr>\n      <th>Lucena del Puerto</th>\n      <td>240.0</td>\n      <td>7.0</td>\n      <td>9.0</td>\n      <td>3261.0</td>\n      <td>214.658080</td>\n      <td>275.988960</td>\n      <td>4.0</td>\n    </tr>\n    <tr>\n      <th>Palma del Condado (La)</th>\n      <td>1066.0</td>\n      <td>21.0</td>\n      <td>30.0</td>\n      <td>10801.0</td>\n      <td>194.426442</td>\n      <td>277.752060</td>\n      <td>4.0</td>\n    </tr>\n    <tr>\n      <th>Valverde del Camino</th>\n      <td>501.0</td>\n      <td>20.0</td>\n      <td>28.0</td>\n      <td>12750.0</td>\n      <td>156.862745</td>\n      <td>219.607843</td>\n      <td>3.0</td>\n    </tr>\n    <tr>\n      <th>Bollullos Par del Condado</th>\n      <td>896.0</td>\n      <td>40.0</td>\n      <td>88.0</td>\n      <td>14387.0</td>\n      <td>278.028776</td>\n      <td>611.663307</td>\n      <td>3.0</td>\n    </tr>\n    <tr>\n      <th>Isla Cristina</th>\n      <td>2106.0</td>\n      <td>27.0</td>\n      <td>46.0</td>\n      <td>21393.0</td>\n      <td>126.209508</td>\n      <td>215.023606</td>\n      <td>2.0</td>\n    </tr>\n    <tr>\n      <th>Palos de la Frontera</th>\n      <td>605.0</td>\n      <td>8.0</td>\n      <td>27.0</td>\n      <td>11742.0</td>\n      <td>68.131494</td>\n      <td>229.943792</td>\n      <td>2.0</td>\n    </tr>\n    <tr>\n      <th>Almonte</th>\n      <td>1655.0</td>\n      <td>71.0</td>\n      <td>158.0</td>\n      <td>24507.0</td>\n      <td>289.713143</td>\n      <td>644.713755</td>\n      <td>2.0</td>\n    </tr>\n    <tr>\n      <th>Moguer</th>\n      <td>1155.0</td>\n      <td>38.0</td>\n      <td>58.0</td>\n      <td>21867.0</td>\n      <td>173.777839</td>\n      <td>265.239859</td>\n      <td>2.0</td>\n    </tr>\n    <tr>\n      <th>Trigueros</th>\n      <td>279.0</td>\n      <td>7.0</td>\n      <td>12.0</td>\n      <td>7862.0</td>\n      <td>89.035869</td>\n      <td>152.632918</td>\n      <td>1.0</td>\n    </tr>\n    <tr>\n      <th>Rociana del Condado</th>\n      <td>534.0</td>\n      <td>9.0</td>\n      <td>24.0</td>\n      <td>7939.0</td>\n      <td>113.364404</td>\n      <td>302.305076</td>\n      <td>1.0</td>\n    </tr>\n    <tr>\n      <th>Aljaraque</th>\n      <td>1021.0</td>\n      <td>12.0</td>\n      <td>25.0</td>\n      <td>21474.0</td>\n      <td>55.881531</td>\n      <td>116.419857</td>\n      <td>1.0</td>\n    </tr>\n    <tr>\n      <th>Lepe</th>\n      <td>2100.0</td>\n      <td>15.0</td>\n      <td>22.0</td>\n      <td>27880.0</td>\n      <td>53.802009</td>\n      <td>78.909613</td>\n      <td>1.0</td>\n    </tr>\n    <tr>\n      <th>Escacena del Campo</th>\n      <td>154.0</td>\n      <td>7.0</td>\n      <td>10.0</td>\n      <td>2287.0</td>\n      <td>306.077831</td>\n      <td>437.254045</td>\n      <td>1.0</td>\n    </tr>\n    <tr>\n      <th>Bonares</th>\n      <td>260.0</td>\n      <td>3.0</td>\n      <td>7.0</td>\n      <td>6060.0</td>\n      <td>49.504950</td>\n      <td>115.511551</td>\n      <td>1.0</td>\n    </tr>\n    <tr>\n      <th>Ayamonte</th>\n      <td>1297.0</td>\n      <td>5.0</td>\n      <td>16.0</td>\n      <td>21104.0</td>\n      <td>23.692191</td>\n      <td>75.815011</td>\n      <td>1.0</td>\n    </tr>\n    <tr>\n      <th>Villarrasa</th>\n      <td>150.0</td>\n      <td>3.0</td>\n      <td>3.0</td>\n      <td>2211.0</td>\n      <td>135.685210</td>\n      <td>135.685210</td>\n      <td>1.0</td>\n    </tr>\n    <tr>\n      <th>Aracena</th>\n      <td>514.0</td>\n      <td>1.0</td>\n      <td>5.0</td>\n      <td>8255.0</td>\n      <td>12.113870</td>\n      <td>60.569352</td>\n      <td>NaN</td>\n    </tr>\n  </tbody>\n</table>\n</div>"
     },
     "metadata": {},
     "execution_count": 15
    }
   ],
   "source": [
    "# Nuevos casos desde la última captura\n",
    "tabla[tabla['Diferencia PDIA'] != 0].sort_values('Diferencia PDIA', ascending=False)"
   ]
  },
  {
   "cell_type": "code",
   "execution_count": 16,
   "metadata": {},
   "outputs": [],
   "source": [
    "if tabla[tabla['Diferencia PDIA'] != 0]['Diferencia PDIA'].sum() != 0:\n",
    "  # Save to csv\n",
    "  tabla.to_csv('covid_huelva.csv', encoding='utf-8', header=True, index=True)  "
   ]
  },
  {
   "cell_type": "code",
   "execution_count": 17,
   "metadata": {},
   "outputs": [
    {
     "output_type": "execute_result",
     "data": {
      "text/plain": [
       "Medida                             Confirmados PDIA  Confirmados PDIA 7 días  \\\n",
       "Lugar de residencia                                                            \n",
       "Galaroza                                       39.0                      7.0   \n",
       "Almonte                                      1655.0                     71.0   \n",
       "Bollullos Par del Condado                     896.0                     40.0   \n",
       "Escacena del Campo                            154.0                      7.0   \n",
       "Condado-Campiña                              9444.0                    254.0   \n",
       "Nerva                                         169.0                      7.0   \n",
       "Rociana del Condado                           534.0                      9.0   \n",
       "Niebla                                        205.0                      9.0   \n",
       "Punta Umbría                                  754.0                     36.0   \n",
       "Palma del Condado (La)                       1066.0                     21.0   \n",
       "Lucena del Puerto                             240.0                      7.0   \n",
       "Moguer                                       1155.0                     38.0   \n",
       "Manzanilla                                     89.0                      3.0   \n",
       "Huelva (capital)                             7722.0                    170.0   \n",
       "Palos de la Frontera                          605.0                      8.0   \n",
       "San Juan del Puerto                           468.0                     14.0   \n",
       "Valverde del Camino                           501.0                     20.0   \n",
       "Isla Cristina                                2106.0                     27.0   \n",
       "Huelva                                      29546.0                    573.0   \n",
       "Huelva-Costa                                17142.0                    275.0   \n",
       "Villalba del Alcor                            477.0                      6.0   \n",
       "Trigueros                                     279.0                      7.0   \n",
       "Villablanca                                   184.0                      2.0   \n",
       "Villarrasa                                    150.0                      3.0   \n",
       "Cartaya                                      1292.0                      7.0   \n",
       "Aljaraque                                    1021.0                     12.0   \n",
       "Bonares                                       260.0                      3.0   \n",
       "Beas                                          203.0                      1.0   \n",
       "Sierra de Huelva-Andévalo Central            2619.0                     44.0   \n",
       "Gibraleón                                     600.0                      7.0   \n",
       "Calañas                                       177.0                      3.0   \n",
       "Minas de Riotinto                             117.0                      3.0   \n",
       "Lepe                                         2100.0                     15.0   \n",
       "Ayamonte                                     1297.0                      5.0   \n",
       "Aracena                                       514.0                      1.0   \n",
       "Cumbres Mayores                                50.0                      1.0   \n",
       "Cerro de Andévalo (El)                        137.0                      1.0   \n",
       "Zalamea la Real                                87.0                      1.0   \n",
       "Alosno                                        163.0                      1.0   \n",
       "\n",
       "Medida                             Confirmados PDIA 14 días  Población  \\\n",
       "Lugar de residencia                                                      \n",
       "Galaroza                                               12.0     1382.0   \n",
       "Almonte                                               158.0    24507.0   \n",
       "Bollullos Par del Condado                              88.0    14387.0   \n",
       "Escacena del Campo                                     10.0     2287.0   \n",
       "Condado-Campiña                                       491.0   156231.0   \n",
       "Nerva                                                  16.0     5169.0   \n",
       "Rociana del Condado                                    24.0     7939.0   \n",
       "Niebla                                                 12.0     4116.0   \n",
       "Punta Umbría                                           44.0    15355.0   \n",
       "Palma del Condado (La)                                 30.0    10801.0   \n",
       "Lucena del Puerto                                       9.0     3261.0   \n",
       "Moguer                                                 58.0    21867.0   \n",
       "Manzanilla                                              5.0     2118.0   \n",
       "Huelva (capital)                                      338.0   143837.0   \n",
       "Palos de la Frontera                                   27.0    11742.0   \n",
       "San Juan del Puerto                                    21.0     9411.0   \n",
       "Valverde del Camino                                    28.0    12750.0   \n",
       "Isla Cristina                                          46.0    21393.0   \n",
       "Huelva                                               1095.0   513170.0   \n",
       "Huelva-Costa                                          524.0   289548.0   \n",
       "Villalba del Alcor                                      6.0     3366.0   \n",
       "Trigueros                                              12.0     7862.0   \n",
       "Villablanca                                             4.0     2885.0   \n",
       "Villarrasa                                              3.0     2211.0   \n",
       "Cartaya                                                27.0    20083.0   \n",
       "Aljaraque                                              25.0    21474.0   \n",
       "Bonares                                                 7.0     6060.0   \n",
       "Beas                                                    5.0     4341.0   \n",
       "Sierra de Huelva-Andévalo Central                      77.0    67391.0   \n",
       "Gibraleón                                              14.0    12737.0   \n",
       "Calañas                                                 3.0     2768.0   \n",
       "Minas de Riotinto                                       4.0     3812.0   \n",
       "Lepe                                                   22.0    27880.0   \n",
       "Ayamonte                                               16.0    21104.0   \n",
       "Aracena                                                 5.0     8255.0   \n",
       "Cumbres Mayores                                         1.0     1749.0   \n",
       "Cerro de Andévalo (El)                                  1.0     2327.0   \n",
       "Zalamea la Real                                         1.0     3054.0   \n",
       "Alosno                                                  1.0     3933.0   \n",
       "\n",
       "Medida                                  tasa7      tasa14  Diferencia PDIA  \n",
       "Lugar de residencia                                                         \n",
       "Galaroza                           506.512301  868.306802              0.0  \n",
       "Almonte                            289.713143  644.713755              2.0  \n",
       "Bollullos Par del Condado          278.028776  611.663307              3.0  \n",
       "Escacena del Campo                 306.077831  437.254045              1.0  \n",
       "Condado-Campiña                    162.579770  314.278216             22.0  \n",
       "Nerva                              135.422712  309.537628              0.0  \n",
       "Rociana del Condado                113.364404  302.305076              1.0  \n",
       "Niebla                             218.658892  291.545190              0.0  \n",
       "Punta Umbría                       234.451319  286.551612              0.0  \n",
       "Palma del Condado (La)             194.426442  277.752060              4.0  \n",
       "Lucena del Puerto                  214.658080  275.988960              4.0  \n",
       "Moguer                             173.777839  265.239859              2.0  \n",
       "Manzanilla                         141.643059  236.071766              0.0  \n",
       "Huelva (capital)                   118.189339  234.988216             14.0  \n",
       "Palos de la Frontera                68.131494  229.943792              2.0  \n",
       "San Juan del Puerto                148.762087  223.143130              0.0  \n",
       "Valverde del Camino                156.862745  219.607843              3.0  \n",
       "Isla Cristina                      126.209508  215.023606              2.0  \n",
       "Huelva                             111.658904  213.379582             45.0  \n",
       "Huelva-Costa                        94.975617  180.971721             19.0  \n",
       "Villalba del Alcor                 178.253119  178.253119              0.0  \n",
       "Trigueros                           89.035869  152.632918              1.0  \n",
       "Villablanca                         69.324090  138.648180              0.0  \n",
       "Villarrasa                         135.685210  135.685210              1.0  \n",
       "Cartaya                             34.855350  134.442065              0.0  \n",
       "Aljaraque                           55.881531  116.419857              1.0  \n",
       "Bonares                             49.504950  115.511551              1.0  \n",
       "Beas                                23.036167  115.180834              0.0  \n",
       "Sierra de Huelva-Andévalo Central   65.290617  114.258581              4.0  \n",
       "Gibraleón                           54.957996  109.915993              0.0  \n",
       "Calañas                            108.381503  108.381503              0.0  \n",
       "Minas de Riotinto                   78.698846  104.931794              0.0  \n",
       "Lepe                                53.802009   78.909613              1.0  \n",
       "Ayamonte                            23.692191   75.815011              1.0  \n",
       "Aracena                             12.113870   60.569352              NaN  \n",
       "Cumbres Mayores                     57.175529   57.175529              0.0  \n",
       "Cerro de Andévalo (El)              42.973786   42.973786              0.0  \n",
       "Zalamea la Real                     32.743942   32.743942              0.0  \n",
       "Alosno                              25.425884   25.425884              0.0  "
      ],
      "text/html": "<div>\n<style scoped>\n    .dataframe tbody tr th:only-of-type {\n        vertical-align: middle;\n    }\n\n    .dataframe tbody tr th {\n        vertical-align: top;\n    }\n\n    .dataframe thead th {\n        text-align: right;\n    }\n</style>\n<table border=\"1\" class=\"dataframe\">\n  <thead>\n    <tr style=\"text-align: right;\">\n      <th>Medida</th>\n      <th>Confirmados PDIA</th>\n      <th>Confirmados PDIA 7 días</th>\n      <th>Confirmados PDIA 14 días</th>\n      <th>Población</th>\n      <th>tasa7</th>\n      <th>tasa14</th>\n      <th>Diferencia PDIA</th>\n    </tr>\n    <tr>\n      <th>Lugar de residencia</th>\n      <th></th>\n      <th></th>\n      <th></th>\n      <th></th>\n      <th></th>\n      <th></th>\n      <th></th>\n    </tr>\n  </thead>\n  <tbody>\n    <tr>\n      <th>Galaroza</th>\n      <td>39.0</td>\n      <td>7.0</td>\n      <td>12.0</td>\n      <td>1382.0</td>\n      <td>506.512301</td>\n      <td>868.306802</td>\n      <td>0.0</td>\n    </tr>\n    <tr>\n      <th>Almonte</th>\n      <td>1655.0</td>\n      <td>71.0</td>\n      <td>158.0</td>\n      <td>24507.0</td>\n      <td>289.713143</td>\n      <td>644.713755</td>\n      <td>2.0</td>\n    </tr>\n    <tr>\n      <th>Bollullos Par del Condado</th>\n      <td>896.0</td>\n      <td>40.0</td>\n      <td>88.0</td>\n      <td>14387.0</td>\n      <td>278.028776</td>\n      <td>611.663307</td>\n      <td>3.0</td>\n    </tr>\n    <tr>\n      <th>Escacena del Campo</th>\n      <td>154.0</td>\n      <td>7.0</td>\n      <td>10.0</td>\n      <td>2287.0</td>\n      <td>306.077831</td>\n      <td>437.254045</td>\n      <td>1.0</td>\n    </tr>\n    <tr>\n      <th>Condado-Campiña</th>\n      <td>9444.0</td>\n      <td>254.0</td>\n      <td>491.0</td>\n      <td>156231.0</td>\n      <td>162.579770</td>\n      <td>314.278216</td>\n      <td>22.0</td>\n    </tr>\n    <tr>\n      <th>Nerva</th>\n      <td>169.0</td>\n      <td>7.0</td>\n      <td>16.0</td>\n      <td>5169.0</td>\n      <td>135.422712</td>\n      <td>309.537628</td>\n      <td>0.0</td>\n    </tr>\n    <tr>\n      <th>Rociana del Condado</th>\n      <td>534.0</td>\n      <td>9.0</td>\n      <td>24.0</td>\n      <td>7939.0</td>\n      <td>113.364404</td>\n      <td>302.305076</td>\n      <td>1.0</td>\n    </tr>\n    <tr>\n      <th>Niebla</th>\n      <td>205.0</td>\n      <td>9.0</td>\n      <td>12.0</td>\n      <td>4116.0</td>\n      <td>218.658892</td>\n      <td>291.545190</td>\n      <td>0.0</td>\n    </tr>\n    <tr>\n      <th>Punta Umbría</th>\n      <td>754.0</td>\n      <td>36.0</td>\n      <td>44.0</td>\n      <td>15355.0</td>\n      <td>234.451319</td>\n      <td>286.551612</td>\n      <td>0.0</td>\n    </tr>\n    <tr>\n      <th>Palma del Condado (La)</th>\n      <td>1066.0</td>\n      <td>21.0</td>\n      <td>30.0</td>\n      <td>10801.0</td>\n      <td>194.426442</td>\n      <td>277.752060</td>\n      <td>4.0</td>\n    </tr>\n    <tr>\n      <th>Lucena del Puerto</th>\n      <td>240.0</td>\n      <td>7.0</td>\n      <td>9.0</td>\n      <td>3261.0</td>\n      <td>214.658080</td>\n      <td>275.988960</td>\n      <td>4.0</td>\n    </tr>\n    <tr>\n      <th>Moguer</th>\n      <td>1155.0</td>\n      <td>38.0</td>\n      <td>58.0</td>\n      <td>21867.0</td>\n      <td>173.777839</td>\n      <td>265.239859</td>\n      <td>2.0</td>\n    </tr>\n    <tr>\n      <th>Manzanilla</th>\n      <td>89.0</td>\n      <td>3.0</td>\n      <td>5.0</td>\n      <td>2118.0</td>\n      <td>141.643059</td>\n      <td>236.071766</td>\n      <td>0.0</td>\n    </tr>\n    <tr>\n      <th>Huelva (capital)</th>\n      <td>7722.0</td>\n      <td>170.0</td>\n      <td>338.0</td>\n      <td>143837.0</td>\n      <td>118.189339</td>\n      <td>234.988216</td>\n      <td>14.0</td>\n    </tr>\n    <tr>\n      <th>Palos de la Frontera</th>\n      <td>605.0</td>\n      <td>8.0</td>\n      <td>27.0</td>\n      <td>11742.0</td>\n      <td>68.131494</td>\n      <td>229.943792</td>\n      <td>2.0</td>\n    </tr>\n    <tr>\n      <th>San Juan del Puerto</th>\n      <td>468.0</td>\n      <td>14.0</td>\n      <td>21.0</td>\n      <td>9411.0</td>\n      <td>148.762087</td>\n      <td>223.143130</td>\n      <td>0.0</td>\n    </tr>\n    <tr>\n      <th>Valverde del Camino</th>\n      <td>501.0</td>\n      <td>20.0</td>\n      <td>28.0</td>\n      <td>12750.0</td>\n      <td>156.862745</td>\n      <td>219.607843</td>\n      <td>3.0</td>\n    </tr>\n    <tr>\n      <th>Isla Cristina</th>\n      <td>2106.0</td>\n      <td>27.0</td>\n      <td>46.0</td>\n      <td>21393.0</td>\n      <td>126.209508</td>\n      <td>215.023606</td>\n      <td>2.0</td>\n    </tr>\n    <tr>\n      <th>Huelva</th>\n      <td>29546.0</td>\n      <td>573.0</td>\n      <td>1095.0</td>\n      <td>513170.0</td>\n      <td>111.658904</td>\n      <td>213.379582</td>\n      <td>45.0</td>\n    </tr>\n    <tr>\n      <th>Huelva-Costa</th>\n      <td>17142.0</td>\n      <td>275.0</td>\n      <td>524.0</td>\n      <td>289548.0</td>\n      <td>94.975617</td>\n      <td>180.971721</td>\n      <td>19.0</td>\n    </tr>\n    <tr>\n      <th>Villalba del Alcor</th>\n      <td>477.0</td>\n      <td>6.0</td>\n      <td>6.0</td>\n      <td>3366.0</td>\n      <td>178.253119</td>\n      <td>178.253119</td>\n      <td>0.0</td>\n    </tr>\n    <tr>\n      <th>Trigueros</th>\n      <td>279.0</td>\n      <td>7.0</td>\n      <td>12.0</td>\n      <td>7862.0</td>\n      <td>89.035869</td>\n      <td>152.632918</td>\n      <td>1.0</td>\n    </tr>\n    <tr>\n      <th>Villablanca</th>\n      <td>184.0</td>\n      <td>2.0</td>\n      <td>4.0</td>\n      <td>2885.0</td>\n      <td>69.324090</td>\n      <td>138.648180</td>\n      <td>0.0</td>\n    </tr>\n    <tr>\n      <th>Villarrasa</th>\n      <td>150.0</td>\n      <td>3.0</td>\n      <td>3.0</td>\n      <td>2211.0</td>\n      <td>135.685210</td>\n      <td>135.685210</td>\n      <td>1.0</td>\n    </tr>\n    <tr>\n      <th>Cartaya</th>\n      <td>1292.0</td>\n      <td>7.0</td>\n      <td>27.0</td>\n      <td>20083.0</td>\n      <td>34.855350</td>\n      <td>134.442065</td>\n      <td>0.0</td>\n    </tr>\n    <tr>\n      <th>Aljaraque</th>\n      <td>1021.0</td>\n      <td>12.0</td>\n      <td>25.0</td>\n      <td>21474.0</td>\n      <td>55.881531</td>\n      <td>116.419857</td>\n      <td>1.0</td>\n    </tr>\n    <tr>\n      <th>Bonares</th>\n      <td>260.0</td>\n      <td>3.0</td>\n      <td>7.0</td>\n      <td>6060.0</td>\n      <td>49.504950</td>\n      <td>115.511551</td>\n      <td>1.0</td>\n    </tr>\n    <tr>\n      <th>Beas</th>\n      <td>203.0</td>\n      <td>1.0</td>\n      <td>5.0</td>\n      <td>4341.0</td>\n      <td>23.036167</td>\n      <td>115.180834</td>\n      <td>0.0</td>\n    </tr>\n    <tr>\n      <th>Sierra de Huelva-Andévalo Central</th>\n      <td>2619.0</td>\n      <td>44.0</td>\n      <td>77.0</td>\n      <td>67391.0</td>\n      <td>65.290617</td>\n      <td>114.258581</td>\n      <td>4.0</td>\n    </tr>\n    <tr>\n      <th>Gibraleón</th>\n      <td>600.0</td>\n      <td>7.0</td>\n      <td>14.0</td>\n      <td>12737.0</td>\n      <td>54.957996</td>\n      <td>109.915993</td>\n      <td>0.0</td>\n    </tr>\n    <tr>\n      <th>Calañas</th>\n      <td>177.0</td>\n      <td>3.0</td>\n      <td>3.0</td>\n      <td>2768.0</td>\n      <td>108.381503</td>\n      <td>108.381503</td>\n      <td>0.0</td>\n    </tr>\n    <tr>\n      <th>Minas de Riotinto</th>\n      <td>117.0</td>\n      <td>3.0</td>\n      <td>4.0</td>\n      <td>3812.0</td>\n      <td>78.698846</td>\n      <td>104.931794</td>\n      <td>0.0</td>\n    </tr>\n    <tr>\n      <th>Lepe</th>\n      <td>2100.0</td>\n      <td>15.0</td>\n      <td>22.0</td>\n      <td>27880.0</td>\n      <td>53.802009</td>\n      <td>78.909613</td>\n      <td>1.0</td>\n    </tr>\n    <tr>\n      <th>Ayamonte</th>\n      <td>1297.0</td>\n      <td>5.0</td>\n      <td>16.0</td>\n      <td>21104.0</td>\n      <td>23.692191</td>\n      <td>75.815011</td>\n      <td>1.0</td>\n    </tr>\n    <tr>\n      <th>Aracena</th>\n      <td>514.0</td>\n      <td>1.0</td>\n      <td>5.0</td>\n      <td>8255.0</td>\n      <td>12.113870</td>\n      <td>60.569352</td>\n      <td>NaN</td>\n    </tr>\n    <tr>\n      <th>Cumbres Mayores</th>\n      <td>50.0</td>\n      <td>1.0</td>\n      <td>1.0</td>\n      <td>1749.0</td>\n      <td>57.175529</td>\n      <td>57.175529</td>\n      <td>0.0</td>\n    </tr>\n    <tr>\n      <th>Cerro de Andévalo (El)</th>\n      <td>137.0</td>\n      <td>1.0</td>\n      <td>1.0</td>\n      <td>2327.0</td>\n      <td>42.973786</td>\n      <td>42.973786</td>\n      <td>0.0</td>\n    </tr>\n    <tr>\n      <th>Zalamea la Real</th>\n      <td>87.0</td>\n      <td>1.0</td>\n      <td>1.0</td>\n      <td>3054.0</td>\n      <td>32.743942</td>\n      <td>32.743942</td>\n      <td>0.0</td>\n    </tr>\n    <tr>\n      <th>Alosno</th>\n      <td>163.0</td>\n      <td>1.0</td>\n      <td>1.0</td>\n      <td>3933.0</td>\n      <td>25.425884</td>\n      <td>25.425884</td>\n      <td>0.0</td>\n    </tr>\n  </tbody>\n</table>\n</div>"
     },
     "metadata": {},
     "execution_count": 17
    }
   ],
   "source": [
    "tabla.sort_values('tasa14', ascending=False)"
   ]
  },
  {
   "cell_type": "code",
   "execution_count": 18,
   "metadata": {},
   "outputs": [
    {
     "output_type": "execute_result",
     "data": {
      "text/plain": [
       "Medida                             Confirmados PDIA  Confirmados PDIA 7 días  \\\n",
       "Lugar de residencia                                                            \n",
       "Beas                                          203.0                      1.0   \n",
       "Aracena                                       514.0                      1.0   \n",
       "Cartaya                                      1292.0                      7.0   \n",
       "Palos de la Frontera                          605.0                      8.0   \n",
       "Ayamonte                                     1297.0                      5.0   \n",
       "Rociana del Condado                           534.0                      9.0   \n",
       "Bonares                                       260.0                      3.0   \n",
       "Nerva                                         169.0                      7.0   \n",
       "Almonte                                      1655.0                     71.0   \n",
       "Bollullos Par del Condado                     896.0                     40.0   \n",
       "Aljaraque                                    1021.0                     12.0   \n",
       "Villablanca                                   184.0                      2.0   \n",
       "Gibraleón                                     600.0                      7.0   \n",
       "Huelva (capital)                             7722.0                    170.0   \n",
       "Condado-Campiña                              9444.0                    254.0   \n",
       "Huelva                                      29546.0                    573.0   \n",
       "Huelva-Costa                                17142.0                    275.0   \n",
       "Sierra de Huelva-Andévalo Central            2619.0                     44.0   \n",
       "Galaroza                                       39.0                      7.0   \n",
       "Trigueros                                     279.0                      7.0   \n",
       "Isla Cristina                                2106.0                     27.0   \n",
       "Manzanilla                                     89.0                      3.0   \n",
       "Moguer                                       1155.0                     38.0   \n",
       "San Juan del Puerto                           468.0                     14.0   \n",
       "Lepe                                         2100.0                     15.0   \n",
       "Palma del Condado (La)                       1066.0                     21.0   \n",
       "Escacena del Campo                            154.0                      7.0   \n",
       "Valverde del Camino                           501.0                     20.0   \n",
       "Minas de Riotinto                             117.0                      3.0   \n",
       "Niebla                                        205.0                      9.0   \n",
       "Lucena del Puerto                             240.0                      7.0   \n",
       "Punta Umbría                                  754.0                     36.0   \n",
       "Cerro de Andévalo (El)                        137.0                      1.0   \n",
       "Calañas                                       177.0                      3.0   \n",
       "Villarrasa                                    150.0                      3.0   \n",
       "Alosno                                        163.0                      1.0   \n",
       "Villalba del Alcor                            477.0                      6.0   \n",
       "Cumbres Mayores                                50.0                      1.0   \n",
       "Zalamea la Real                                87.0                      1.0   \n",
       "\n",
       "Medida                             Confirmados PDIA 14 días  Población  \\\n",
       "Lugar de residencia                                                      \n",
       "Beas                                                    5.0     4341.0   \n",
       "Aracena                                                 5.0     8255.0   \n",
       "Cartaya                                                27.0    20083.0   \n",
       "Palos de la Frontera                                   27.0    11742.0   \n",
       "Ayamonte                                               16.0    21104.0   \n",
       "Rociana del Condado                                    24.0     7939.0   \n",
       "Bonares                                                 7.0     6060.0   \n",
       "Nerva                                                  16.0     5169.0   \n",
       "Almonte                                               158.0    24507.0   \n",
       "Bollullos Par del Condado                              88.0    14387.0   \n",
       "Aljaraque                                              25.0    21474.0   \n",
       "Villablanca                                             4.0     2885.0   \n",
       "Gibraleón                                              14.0    12737.0   \n",
       "Huelva (capital)                                      338.0   143837.0   \n",
       "Condado-Campiña                                       491.0   156231.0   \n",
       "Huelva                                               1095.0   513170.0   \n",
       "Huelva-Costa                                          524.0   289548.0   \n",
       "Sierra de Huelva-Andévalo Central                      77.0    67391.0   \n",
       "Galaroza                                               12.0     1382.0   \n",
       "Trigueros                                              12.0     7862.0   \n",
       "Isla Cristina                                          46.0    21393.0   \n",
       "Manzanilla                                              5.0     2118.0   \n",
       "Moguer                                                 58.0    21867.0   \n",
       "San Juan del Puerto                                    21.0     9411.0   \n",
       "Lepe                                                   22.0    27880.0   \n",
       "Palma del Condado (La)                                 30.0    10801.0   \n",
       "Escacena del Campo                                     10.0     2287.0   \n",
       "Valverde del Camino                                    28.0    12750.0   \n",
       "Minas de Riotinto                                       4.0     3812.0   \n",
       "Niebla                                                 12.0     4116.0   \n",
       "Lucena del Puerto                                       9.0     3261.0   \n",
       "Punta Umbría                                           44.0    15355.0   \n",
       "Cerro de Andévalo (El)                                  1.0     2327.0   \n",
       "Calañas                                                 3.0     2768.0   \n",
       "Villarrasa                                              3.0     2211.0   \n",
       "Alosno                                                  1.0     3933.0   \n",
       "Villalba del Alcor                                      6.0     3366.0   \n",
       "Cumbres Mayores                                         1.0     1749.0   \n",
       "Zalamea la Real                                         1.0     3054.0   \n",
       "\n",
       "Medida                                  tasa7      tasa14  Diferencia PDIA  \\\n",
       "Lugar de residencia                                                          \n",
       "Beas                                23.036167  115.180834              0.0   \n",
       "Aracena                             12.113870   60.569352              0.0   \n",
       "Cartaya                             34.855350  134.442065              0.0   \n",
       "Palos de la Frontera                68.131494  229.943792              2.0   \n",
       "Ayamonte                            23.692191   75.815011              1.0   \n",
       "Rociana del Condado                113.364404  302.305076              1.0   \n",
       "Bonares                             49.504950  115.511551              1.0   \n",
       "Nerva                              135.422712  309.537628              0.0   \n",
       "Almonte                            289.713143  644.713755              2.0   \n",
       "Bollullos Par del Condado          278.028776  611.663307              3.0   \n",
       "Aljaraque                           55.881531  116.419857              1.0   \n",
       "Villablanca                         69.324090  138.648180              0.0   \n",
       "Gibraleón                           54.957996  109.915993              0.0   \n",
       "Huelva (capital)                   118.189339  234.988216             14.0   \n",
       "Condado-Campiña                    162.579770  314.278216             22.0   \n",
       "Huelva                             111.658904  213.379582             45.0   \n",
       "Huelva-Costa                        94.975617  180.971721             19.0   \n",
       "Sierra de Huelva-Andévalo Central   65.290617  114.258581              4.0   \n",
       "Galaroza                           506.512301  868.306802              0.0   \n",
       "Trigueros                           89.035869  152.632918              1.0   \n",
       "Isla Cristina                      126.209508  215.023606              2.0   \n",
       "Manzanilla                         141.643059  236.071766              0.0   \n",
       "Moguer                             173.777839  265.239859              2.0   \n",
       "San Juan del Puerto                148.762087  223.143130              0.0   \n",
       "Lepe                                53.802009   78.909613              1.0   \n",
       "Palma del Condado (La)             194.426442  277.752060              4.0   \n",
       "Escacena del Campo                 306.077831  437.254045              1.0   \n",
       "Valverde del Camino                156.862745  219.607843              3.0   \n",
       "Minas de Riotinto                   78.698846  104.931794              0.0   \n",
       "Niebla                             218.658892  291.545190              0.0   \n",
       "Lucena del Puerto                  214.658080  275.988960              4.0   \n",
       "Punta Umbría                       234.451319  286.551612              0.0   \n",
       "Cerro de Andévalo (El)              42.973786   42.973786              0.0   \n",
       "Calañas                            108.381503  108.381503              0.0   \n",
       "Villarrasa                         135.685210  135.685210              1.0   \n",
       "Alosno                              25.425884   25.425884              0.0   \n",
       "Villalba del Alcor                 178.253119  178.253119              0.0   \n",
       "Cumbres Mayores                     57.175529   57.175529              0.0   \n",
       "Zalamea la Real                     32.743942   32.743942              0.0   \n",
       "\n",
       "Medida                                 7/14  \n",
       "Lugar de residencia                          \n",
       "Beas                               0.200000  \n",
       "Aracena                            0.200000  \n",
       "Cartaya                            0.259259  \n",
       "Palos de la Frontera               0.296296  \n",
       "Ayamonte                           0.312500  \n",
       "Rociana del Condado                0.375000  \n",
       "Bonares                            0.428571  \n",
       "Nerva                              0.437500  \n",
       "Almonte                            0.449367  \n",
       "Bollullos Par del Condado          0.454545  \n",
       "Aljaraque                          0.480000  \n",
       "Villablanca                        0.500000  \n",
       "Gibraleón                          0.500000  \n",
       "Huelva (capital)                   0.502959  \n",
       "Condado-Campiña                    0.517312  \n",
       "Huelva                             0.523288  \n",
       "Huelva-Costa                       0.524809  \n",
       "Sierra de Huelva-Andévalo Central  0.571429  \n",
       "Galaroza                           0.583333  \n",
       "Trigueros                          0.583333  \n",
       "Isla Cristina                      0.586957  \n",
       "Manzanilla                         0.600000  \n",
       "Moguer                             0.655172  \n",
       "San Juan del Puerto                0.666667  \n",
       "Lepe                               0.681818  \n",
       "Palma del Condado (La)             0.700000  \n",
       "Escacena del Campo                 0.700000  \n",
       "Valverde del Camino                0.714286  \n",
       "Minas de Riotinto                  0.750000  \n",
       "Niebla                             0.750000  \n",
       "Lucena del Puerto                  0.777778  \n",
       "Punta Umbría                       0.818182  \n",
       "Cerro de Andévalo (El)             1.000000  \n",
       "Calañas                            1.000000  \n",
       "Villarrasa                         1.000000  \n",
       "Alosno                             1.000000  \n",
       "Villalba del Alcor                 1.000000  \n",
       "Cumbres Mayores                    1.000000  \n",
       "Zalamea la Real                    1.000000  "
      ],
      "text/html": "<div>\n<style scoped>\n    .dataframe tbody tr th:only-of-type {\n        vertical-align: middle;\n    }\n\n    .dataframe tbody tr th {\n        vertical-align: top;\n    }\n\n    .dataframe thead th {\n        text-align: right;\n    }\n</style>\n<table border=\"1\" class=\"dataframe\">\n  <thead>\n    <tr style=\"text-align: right;\">\n      <th>Medida</th>\n      <th>Confirmados PDIA</th>\n      <th>Confirmados PDIA 7 días</th>\n      <th>Confirmados PDIA 14 días</th>\n      <th>Población</th>\n      <th>tasa7</th>\n      <th>tasa14</th>\n      <th>Diferencia PDIA</th>\n      <th>7/14</th>\n    </tr>\n    <tr>\n      <th>Lugar de residencia</th>\n      <th></th>\n      <th></th>\n      <th></th>\n      <th></th>\n      <th></th>\n      <th></th>\n      <th></th>\n      <th></th>\n    </tr>\n  </thead>\n  <tbody>\n    <tr>\n      <th>Beas</th>\n      <td>203.0</td>\n      <td>1.0</td>\n      <td>5.0</td>\n      <td>4341.0</td>\n      <td>23.036167</td>\n      <td>115.180834</td>\n      <td>0.0</td>\n      <td>0.200000</td>\n    </tr>\n    <tr>\n      <th>Aracena</th>\n      <td>514.0</td>\n      <td>1.0</td>\n      <td>5.0</td>\n      <td>8255.0</td>\n      <td>12.113870</td>\n      <td>60.569352</td>\n      <td>0.0</td>\n      <td>0.200000</td>\n    </tr>\n    <tr>\n      <th>Cartaya</th>\n      <td>1292.0</td>\n      <td>7.0</td>\n      <td>27.0</td>\n      <td>20083.0</td>\n      <td>34.855350</td>\n      <td>134.442065</td>\n      <td>0.0</td>\n      <td>0.259259</td>\n    </tr>\n    <tr>\n      <th>Palos de la Frontera</th>\n      <td>605.0</td>\n      <td>8.0</td>\n      <td>27.0</td>\n      <td>11742.0</td>\n      <td>68.131494</td>\n      <td>229.943792</td>\n      <td>2.0</td>\n      <td>0.296296</td>\n    </tr>\n    <tr>\n      <th>Ayamonte</th>\n      <td>1297.0</td>\n      <td>5.0</td>\n      <td>16.0</td>\n      <td>21104.0</td>\n      <td>23.692191</td>\n      <td>75.815011</td>\n      <td>1.0</td>\n      <td>0.312500</td>\n    </tr>\n    <tr>\n      <th>Rociana del Condado</th>\n      <td>534.0</td>\n      <td>9.0</td>\n      <td>24.0</td>\n      <td>7939.0</td>\n      <td>113.364404</td>\n      <td>302.305076</td>\n      <td>1.0</td>\n      <td>0.375000</td>\n    </tr>\n    <tr>\n      <th>Bonares</th>\n      <td>260.0</td>\n      <td>3.0</td>\n      <td>7.0</td>\n      <td>6060.0</td>\n      <td>49.504950</td>\n      <td>115.511551</td>\n      <td>1.0</td>\n      <td>0.428571</td>\n    </tr>\n    <tr>\n      <th>Nerva</th>\n      <td>169.0</td>\n      <td>7.0</td>\n      <td>16.0</td>\n      <td>5169.0</td>\n      <td>135.422712</td>\n      <td>309.537628</td>\n      <td>0.0</td>\n      <td>0.437500</td>\n    </tr>\n    <tr>\n      <th>Almonte</th>\n      <td>1655.0</td>\n      <td>71.0</td>\n      <td>158.0</td>\n      <td>24507.0</td>\n      <td>289.713143</td>\n      <td>644.713755</td>\n      <td>2.0</td>\n      <td>0.449367</td>\n    </tr>\n    <tr>\n      <th>Bollullos Par del Condado</th>\n      <td>896.0</td>\n      <td>40.0</td>\n      <td>88.0</td>\n      <td>14387.0</td>\n      <td>278.028776</td>\n      <td>611.663307</td>\n      <td>3.0</td>\n      <td>0.454545</td>\n    </tr>\n    <tr>\n      <th>Aljaraque</th>\n      <td>1021.0</td>\n      <td>12.0</td>\n      <td>25.0</td>\n      <td>21474.0</td>\n      <td>55.881531</td>\n      <td>116.419857</td>\n      <td>1.0</td>\n      <td>0.480000</td>\n    </tr>\n    <tr>\n      <th>Villablanca</th>\n      <td>184.0</td>\n      <td>2.0</td>\n      <td>4.0</td>\n      <td>2885.0</td>\n      <td>69.324090</td>\n      <td>138.648180</td>\n      <td>0.0</td>\n      <td>0.500000</td>\n    </tr>\n    <tr>\n      <th>Gibraleón</th>\n      <td>600.0</td>\n      <td>7.0</td>\n      <td>14.0</td>\n      <td>12737.0</td>\n      <td>54.957996</td>\n      <td>109.915993</td>\n      <td>0.0</td>\n      <td>0.500000</td>\n    </tr>\n    <tr>\n      <th>Huelva (capital)</th>\n      <td>7722.0</td>\n      <td>170.0</td>\n      <td>338.0</td>\n      <td>143837.0</td>\n      <td>118.189339</td>\n      <td>234.988216</td>\n      <td>14.0</td>\n      <td>0.502959</td>\n    </tr>\n    <tr>\n      <th>Condado-Campiña</th>\n      <td>9444.0</td>\n      <td>254.0</td>\n      <td>491.0</td>\n      <td>156231.0</td>\n      <td>162.579770</td>\n      <td>314.278216</td>\n      <td>22.0</td>\n      <td>0.517312</td>\n    </tr>\n    <tr>\n      <th>Huelva</th>\n      <td>29546.0</td>\n      <td>573.0</td>\n      <td>1095.0</td>\n      <td>513170.0</td>\n      <td>111.658904</td>\n      <td>213.379582</td>\n      <td>45.0</td>\n      <td>0.523288</td>\n    </tr>\n    <tr>\n      <th>Huelva-Costa</th>\n      <td>17142.0</td>\n      <td>275.0</td>\n      <td>524.0</td>\n      <td>289548.0</td>\n      <td>94.975617</td>\n      <td>180.971721</td>\n      <td>19.0</td>\n      <td>0.524809</td>\n    </tr>\n    <tr>\n      <th>Sierra de Huelva-Andévalo Central</th>\n      <td>2619.0</td>\n      <td>44.0</td>\n      <td>77.0</td>\n      <td>67391.0</td>\n      <td>65.290617</td>\n      <td>114.258581</td>\n      <td>4.0</td>\n      <td>0.571429</td>\n    </tr>\n    <tr>\n      <th>Galaroza</th>\n      <td>39.0</td>\n      <td>7.0</td>\n      <td>12.0</td>\n      <td>1382.0</td>\n      <td>506.512301</td>\n      <td>868.306802</td>\n      <td>0.0</td>\n      <td>0.583333</td>\n    </tr>\n    <tr>\n      <th>Trigueros</th>\n      <td>279.0</td>\n      <td>7.0</td>\n      <td>12.0</td>\n      <td>7862.0</td>\n      <td>89.035869</td>\n      <td>152.632918</td>\n      <td>1.0</td>\n      <td>0.583333</td>\n    </tr>\n    <tr>\n      <th>Isla Cristina</th>\n      <td>2106.0</td>\n      <td>27.0</td>\n      <td>46.0</td>\n      <td>21393.0</td>\n      <td>126.209508</td>\n      <td>215.023606</td>\n      <td>2.0</td>\n      <td>0.586957</td>\n    </tr>\n    <tr>\n      <th>Manzanilla</th>\n      <td>89.0</td>\n      <td>3.0</td>\n      <td>5.0</td>\n      <td>2118.0</td>\n      <td>141.643059</td>\n      <td>236.071766</td>\n      <td>0.0</td>\n      <td>0.600000</td>\n    </tr>\n    <tr>\n      <th>Moguer</th>\n      <td>1155.0</td>\n      <td>38.0</td>\n      <td>58.0</td>\n      <td>21867.0</td>\n      <td>173.777839</td>\n      <td>265.239859</td>\n      <td>2.0</td>\n      <td>0.655172</td>\n    </tr>\n    <tr>\n      <th>San Juan del Puerto</th>\n      <td>468.0</td>\n      <td>14.0</td>\n      <td>21.0</td>\n      <td>9411.0</td>\n      <td>148.762087</td>\n      <td>223.143130</td>\n      <td>0.0</td>\n      <td>0.666667</td>\n    </tr>\n    <tr>\n      <th>Lepe</th>\n      <td>2100.0</td>\n      <td>15.0</td>\n      <td>22.0</td>\n      <td>27880.0</td>\n      <td>53.802009</td>\n      <td>78.909613</td>\n      <td>1.0</td>\n      <td>0.681818</td>\n    </tr>\n    <tr>\n      <th>Palma del Condado (La)</th>\n      <td>1066.0</td>\n      <td>21.0</td>\n      <td>30.0</td>\n      <td>10801.0</td>\n      <td>194.426442</td>\n      <td>277.752060</td>\n      <td>4.0</td>\n      <td>0.700000</td>\n    </tr>\n    <tr>\n      <th>Escacena del Campo</th>\n      <td>154.0</td>\n      <td>7.0</td>\n      <td>10.0</td>\n      <td>2287.0</td>\n      <td>306.077831</td>\n      <td>437.254045</td>\n      <td>1.0</td>\n      <td>0.700000</td>\n    </tr>\n    <tr>\n      <th>Valverde del Camino</th>\n      <td>501.0</td>\n      <td>20.0</td>\n      <td>28.0</td>\n      <td>12750.0</td>\n      <td>156.862745</td>\n      <td>219.607843</td>\n      <td>3.0</td>\n      <td>0.714286</td>\n    </tr>\n    <tr>\n      <th>Minas de Riotinto</th>\n      <td>117.0</td>\n      <td>3.0</td>\n      <td>4.0</td>\n      <td>3812.0</td>\n      <td>78.698846</td>\n      <td>104.931794</td>\n      <td>0.0</td>\n      <td>0.750000</td>\n    </tr>\n    <tr>\n      <th>Niebla</th>\n      <td>205.0</td>\n      <td>9.0</td>\n      <td>12.0</td>\n      <td>4116.0</td>\n      <td>218.658892</td>\n      <td>291.545190</td>\n      <td>0.0</td>\n      <td>0.750000</td>\n    </tr>\n    <tr>\n      <th>Lucena del Puerto</th>\n      <td>240.0</td>\n      <td>7.0</td>\n      <td>9.0</td>\n      <td>3261.0</td>\n      <td>214.658080</td>\n      <td>275.988960</td>\n      <td>4.0</td>\n      <td>0.777778</td>\n    </tr>\n    <tr>\n      <th>Punta Umbría</th>\n      <td>754.0</td>\n      <td>36.0</td>\n      <td>44.0</td>\n      <td>15355.0</td>\n      <td>234.451319</td>\n      <td>286.551612</td>\n      <td>0.0</td>\n      <td>0.818182</td>\n    </tr>\n    <tr>\n      <th>Cerro de Andévalo (El)</th>\n      <td>137.0</td>\n      <td>1.0</td>\n      <td>1.0</td>\n      <td>2327.0</td>\n      <td>42.973786</td>\n      <td>42.973786</td>\n      <td>0.0</td>\n      <td>1.000000</td>\n    </tr>\n    <tr>\n      <th>Calañas</th>\n      <td>177.0</td>\n      <td>3.0</td>\n      <td>3.0</td>\n      <td>2768.0</td>\n      <td>108.381503</td>\n      <td>108.381503</td>\n      <td>0.0</td>\n      <td>1.000000</td>\n    </tr>\n    <tr>\n      <th>Villarrasa</th>\n      <td>150.0</td>\n      <td>3.0</td>\n      <td>3.0</td>\n      <td>2211.0</td>\n      <td>135.685210</td>\n      <td>135.685210</td>\n      <td>1.0</td>\n      <td>1.000000</td>\n    </tr>\n    <tr>\n      <th>Alosno</th>\n      <td>163.0</td>\n      <td>1.0</td>\n      <td>1.0</td>\n      <td>3933.0</td>\n      <td>25.425884</td>\n      <td>25.425884</td>\n      <td>0.0</td>\n      <td>1.000000</td>\n    </tr>\n    <tr>\n      <th>Villalba del Alcor</th>\n      <td>477.0</td>\n      <td>6.0</td>\n      <td>6.0</td>\n      <td>3366.0</td>\n      <td>178.253119</td>\n      <td>178.253119</td>\n      <td>0.0</td>\n      <td>1.000000</td>\n    </tr>\n    <tr>\n      <th>Cumbres Mayores</th>\n      <td>50.0</td>\n      <td>1.0</td>\n      <td>1.0</td>\n      <td>1749.0</td>\n      <td>57.175529</td>\n      <td>57.175529</td>\n      <td>0.0</td>\n      <td>1.000000</td>\n    </tr>\n    <tr>\n      <th>Zalamea la Real</th>\n      <td>87.0</td>\n      <td>1.0</td>\n      <td>1.0</td>\n      <td>3054.0</td>\n      <td>32.743942</td>\n      <td>32.743942</td>\n      <td>0.0</td>\n      <td>1.000000</td>\n    </tr>\n  </tbody>\n</table>\n</div>"
     },
     "metadata": {},
     "execution_count": 18
    }
   ],
   "source": [
    "# Peso de la tasa de la última semana en relación con la tasa a 14 días \n",
    "# Mejor cuanto menor. Valor 1 significa que no había casos antes de 7 días.\n",
    "tabla['7/14'] = tabla['tasa7'] / tabla['tasa14']\n",
    "tabla.fillna(0).sort_values('7/14', ascending=True)"
   ]
  },
  {
   "cell_type": "code",
   "execution_count": null,
   "metadata": {},
   "outputs": [],
   "source": []
  }
 ]
}