{
 "metadata": {
  "language_info": {
   "codemirror_mode": {
    "name": "ipython",
    "version": 3
   },
   "file_extension": ".py",
   "mimetype": "text/x-python",
   "name": "python",
   "nbconvert_exporter": "python",
   "pygments_lexer": "ipython3",
   "version": "3.8.6-final"
  },
  "orig_nbformat": 2,
  "kernelspec": {
   "name": "python3",
   "display_name": "Python 3",
   "language": "python"
  }
 },
 "nbformat": 4,
 "nbformat_minor": 2,
 "cells": [
  {
   "cell_type": "code",
   "execution_count": 1,
   "metadata": {},
   "outputs": [],
   "source": [
    "import pandas as pd\n",
    "pd.set_option('display.max_rows', None) # Print all rows"
   ]
  },
  {
   "cell_type": "code",
   "execution_count": 2,
   "metadata": {},
   "outputs": [],
   "source": [
    "# FIX SSL: CERTIFICATE_VERIFY_FAILED with Python3\n",
    "# https://stackoverflow.com/a/49174340\n",
    "import ssl\n",
    "\n",
    "ssl._create_default_https_context = ssl._create_unverified_context"
   ]
  },
  {
   "cell_type": "code",
   "execution_count": 3,
   "metadata": {},
   "outputs": [],
   "source": [
    "url = 'https://www.juntadeandalucia.es/institutodeestadisticaycartografia/badea/stpivot/stpivot/Print?cube=013d884c-cfc5-4c21-9e78-e26225682afd&type=3&foto=si&ejecutaDesde=&codConsulta=38668&consTipoVisua=JP'\n",
    "fields = ['Lugar de residencia', 'Medida', 'Valor']\n",
    "df = pd.read_csv(url, delimiter=';', usecols=fields, decimal=',')"
   ]
  },
  {
   "cell_type": "code",
   "execution_count": 4,
   "metadata": {},
   "outputs": [
    {
     "output_type": "execute_result",
     "data": {
      "text/plain": [
       "  Lugar de residencia                    Medida               Valor\n",
       "0              Huelva                 Población              513170\n",
       "1              Huelva          Confirmados PDIA               26877\n",
       "2              Huelva  Confirmados PDIA 14 días                1292\n",
       "3              Huelva         Tasa PDIA 14 días  251,76841982189137\n",
       "4              Huelva   Confirmados PDIA 7 días                 631\n",
       "5              Huelva        Total Confirmados                27051\n",
       "6              Huelva                   Curados               22418\n",
       "7              Huelva                Fallecidos                 357"
      ],
      "text/html": "<div>\n<style scoped>\n    .dataframe tbody tr th:only-of-type {\n        vertical-align: middle;\n    }\n\n    .dataframe tbody tr th {\n        vertical-align: top;\n    }\n\n    .dataframe thead th {\n        text-align: right;\n    }\n</style>\n<table border=\"1\" class=\"dataframe\">\n  <thead>\n    <tr style=\"text-align: right;\">\n      <th></th>\n      <th>Lugar de residencia</th>\n      <th>Medida</th>\n      <th>Valor</th>\n    </tr>\n  </thead>\n  <tbody>\n    <tr>\n      <th>0</th>\n      <td>Huelva</td>\n      <td>Población</td>\n      <td>513170</td>\n    </tr>\n    <tr>\n      <th>1</th>\n      <td>Huelva</td>\n      <td>Confirmados PDIA</td>\n      <td>26877</td>\n    </tr>\n    <tr>\n      <th>2</th>\n      <td>Huelva</td>\n      <td>Confirmados PDIA 14 días</td>\n      <td>1292</td>\n    </tr>\n    <tr>\n      <th>3</th>\n      <td>Huelva</td>\n      <td>Tasa PDIA 14 días</td>\n      <td>251,76841982189137</td>\n    </tr>\n    <tr>\n      <th>4</th>\n      <td>Huelva</td>\n      <td>Confirmados PDIA 7 días</td>\n      <td>631</td>\n    </tr>\n    <tr>\n      <th>5</th>\n      <td>Huelva</td>\n      <td>Total Confirmados</td>\n      <td>27051</td>\n    </tr>\n    <tr>\n      <th>6</th>\n      <td>Huelva</td>\n      <td>Curados</td>\n      <td>22418</td>\n    </tr>\n    <tr>\n      <th>7</th>\n      <td>Huelva</td>\n      <td>Fallecidos</td>\n      <td>357</td>\n    </tr>\n  </tbody>\n</table>\n</div>"
     },
     "metadata": {},
     "execution_count": 4
    }
   ],
   "source": [
    "df[df['Lugar de residencia'] == 'Huelva']"
   ]
  },
  {
   "cell_type": "code",
   "execution_count": 5,
   "metadata": {},
   "outputs": [],
   "source": [
    "df['Valor'] = pd.to_numeric(df['Valor'],errors='coerce')"
   ]
  },
  {
   "cell_type": "code",
   "execution_count": 6,
   "metadata": {},
   "outputs": [],
   "source": [
    "dfAnterior = pd.read_csv('covid_huelva.csv', index_col='Lugar de residencia')"
   ]
  },
  {
   "cell_type": "code",
   "execution_count": 7,
   "metadata": {
    "tags": []
   },
   "outputs": [
    {
     "output_type": "stream",
     "name": "stdout",
     "text": [
      "Confirmados PCR en la provincia de Huelva:  26877.0\n",
      "<ipython-input-7-31b732756b19>:2: UserWarning: Boolean Series key will be reindexed to match DataFrame index.\n",
      "  p = df[df['Lugar de residencia'] == 'Huelva'][df['Medida'] == 'Confirmados PDIA']['Valor'].values[0]\n"
     ]
    }
   ],
   "source": [
    "# Confirmados PCR provincia Huelva\n",
    "p = df[df['Lugar de residencia'] == 'Huelva'][df['Medida'] == 'Confirmados PDIA']['Valor'].values[0]\n",
    "print('Confirmados PCR en la provincia de Huelva: ', p)"
   ]
  },
  {
   "cell_type": "code",
   "execution_count": 8,
   "metadata": {
    "tags": []
   },
   "outputs": [
    {
     "output_type": "stream",
     "name": "stdout",
     "text": [
      "Confirmados PCR en Huelva capital:  6991.0\n",
      "<ipython-input-8-e81bfb40e710>:2: UserWarning: Boolean Series key will be reindexed to match DataFrame index.\n",
      "  c = df[df['Lugar de residencia'] == 'Huelva (capital)'][df['Medida'] == 'Confirmados PDIA']['Valor'].values[0]\n"
     ]
    }
   ],
   "source": [
    "# Confirmados PCR Huelva capitalpd\n",
    "c = df[df['Lugar de residencia'] == 'Huelva (capital)'][df['Medida'] == 'Confirmados PDIA']['Valor'].values[0]\n",
    "print('Confirmados PCR en Huelva capital: ', c)"
   ]
  },
  {
   "cell_type": "code",
   "execution_count": 9,
   "metadata": {
    "tags": []
   },
   "outputs": [
    {
     "output_type": "stream",
     "name": "stderr",
     "text": [
      "<ipython-input-9-f09dd2050cc1>:1: UserWarning: Boolean Series key will be reindexed to match DataFrame index.\n  c7 = df[df['Lugar de residencia'] == 'Huelva (capital)'][df['Medida'] == 'Confirmados PDIA 7 días']['Valor'].values[0]\n<ipython-input-9-f09dd2050cc1>:2: UserWarning: Boolean Series key will be reindexed to match DataFrame index.\n  c14 = df[df['Lugar de residencia'] == 'Huelva (capital)'][df['Medida'] == 'Confirmados PDIA 14 días']['Valor'].values[0]\n<ipython-input-9-f09dd2050cc1>:3: UserWarning: Boolean Series key will be reindexed to match DataFrame index.\n  p = df[df['Lugar de residencia'] == 'Huelva (capital)'][df['Medida'] == 'Población']['Valor'].values[0]\n"
     ]
    }
   ],
   "source": [
    "c7 = df[df['Lugar de residencia'] == 'Huelva (capital)'][df['Medida'] == 'Confirmados PDIA 7 días']['Valor'].values[0]\n",
    "c14 = df[df['Lugar de residencia'] == 'Huelva (capital)'][df['Medida'] == 'Confirmados PDIA 14 días']['Valor'].values[0]\n",
    "p = df[df['Lugar de residencia'] == 'Huelva (capital)'][df['Medida'] == 'Población']['Valor'].values[0]"
   ]
  },
  {
   "cell_type": "code",
   "execution_count": 10,
   "metadata": {
    "tags": []
   },
   "outputs": [
    {
     "output_type": "stream",
     "name": "stdout",
     "text": [
      "Huelva (capital)\n\nUn positivo PCR cada 1229 personas en los últimos 7 días \n\nUn positivo PCR cada 529 personas en los últimos 14 días\n"
     ]
    }
   ],
   "source": [
    "print('Huelva (capital)\\n')\n",
    "#print('Confirmados PCR 7 días x 1,000 habitantes: ', f\"{c7/(p/1000):.5f}\")\n",
    "print('Un positivo PCR cada', f\"{p/c7:.0f}\", 'personas en los últimos 7 días', '\\n')\n",
    "#print('Confirmados PCR 14 días x 1,000 habitantes: ', f\"{c14/(p/1000):.5f}\")\n",
    "print('Un positivo PCR cada', f\"{p/c14:.0f}\", 'personas en los últimos 14 días')"
   ]
  },
  {
   "cell_type": "code",
   "execution_count": 11,
   "metadata": {},
   "outputs": [],
   "source": [
    "filtro = ((df['Medida'] == 'Confirmados PDIA')| (df['Medida'] == 'Confirmados PDIA 7 días') | (df['Medida'] == 'Población' ) | (df['Medida'] == 'Confirmados PDIA 14 días')) & (df['Valor'] > 0)\n",
    "tabla = pd.pivot_table(df.loc[filtro], values='Valor', index='Lugar de residencia', columns='Medida').dropna()"
   ]
  },
  {
   "cell_type": "code",
   "execution_count": 12,
   "metadata": {},
   "outputs": [],
   "source": [
    "# Reorder columns\n",
    "tabla = tabla[['Confirmados PDIA', 'Confirmados PDIA 7 días', 'Confirmados PDIA 14 días', 'Población']]"
   ]
  },
  {
   "cell_type": "code",
   "execution_count": 13,
   "metadata": {},
   "outputs": [],
   "source": [
    "tabla['tasa7'] = tabla['Confirmados PDIA 7 días']/tabla['Población']*100000\n",
    "tabla['tasa14'] = tabla['Confirmados PDIA 14 días']/tabla['Población']*100000"
   ]
  },
  {
   "cell_type": "code",
   "execution_count": 14,
   "metadata": {},
   "outputs": [],
   "source": [
    "tabla['Diferencia PDIA'] = tabla['Confirmados PDIA'] - dfAnterior['Confirmados PDIA']"
   ]
  },
  {
   "cell_type": "code",
   "execution_count": 15,
   "metadata": {},
   "outputs": [
    {
     "output_type": "execute_result",
     "data": {
      "text/plain": [
       "Medida                             Confirmados PDIA  Confirmados PDIA 7 días  \\\n",
       "Lugar de residencia                                                            \n",
       "Huelva                                      26877.0                    631.0   \n",
       "Condado-Campiña                              8118.0                    338.0   \n",
       "Huelva-Costa                                15937.0                    239.0   \n",
       "Huelva (capital)                             6991.0                    117.0   \n",
       "Almonte                                      1233.0                    109.0   \n",
       "Cartaya                                      1147.0                     74.0   \n",
       "Palos de la Frontera                          541.0                     32.0   \n",
       "Moguer                                        980.0                     41.0   \n",
       "Bollullos Par del Condado                     723.0                     20.0   \n",
       "Lepe                                         2043.0                      8.0   \n",
       "Sierra de Huelva-Andévalo Central            2397.0                     40.0   \n",
       "San Bartolomé de la Torre                     274.0                     19.0   \n",
       "Punta Umbría                                  683.0                      9.0   \n",
       "Valverde del Camino                           445.0                     10.0   \n",
       "Trigueros                                     248.0                      7.0   \n",
       "Rociana del Condado                           435.0                     43.0   \n",
       "Aljaraque                                     969.0                     20.0   \n",
       "Lucena del Puerto                             183.0                     14.0   \n",
       "Ayamonte                                     1254.0                      1.0   \n",
       "Palma del Condado (La)                       1011.0                     10.0   \n",
       "Almonaster la Real                             56.0                      3.0   \n",
       "Bonares                                       219.0                     15.0   \n",
       "San Juan del Puerto                           407.0                     13.0   \n",
       "Beas                                          166.0                      2.0   \n",
       "Aroche                                         86.0                      2.0   \n",
       "Villanueva de los Castillejos                 157.0                      1.0   \n",
       "Higuera de la Sierra                           32.0                      1.0   \n",
       "\n",
       "Medida                             Confirmados PDIA 14 días  Población  \\\n",
       "Lugar de residencia                                                      \n",
       "Huelva                                               1292.0   513170.0   \n",
       "Condado-Campiña                                       684.0   156231.0   \n",
       "Huelva-Costa                                          511.0   289548.0   \n",
       "Huelva (capital)                                      272.0   143837.0   \n",
       "Almonte                                               214.0    24507.0   \n",
       "Cartaya                                               137.0    20083.0   \n",
       "Palos de la Frontera                                   59.0    11742.0   \n",
       "Moguer                                                 89.0    21867.0   \n",
       "Bollullos Par del Condado                              51.0    14387.0   \n",
       "Lepe                                                   21.0    27880.0   \n",
       "Sierra de Huelva-Andévalo Central                      71.0    67391.0   \n",
       "San Bartolomé de la Torre                              43.0     3761.0   \n",
       "Punta Umbría                                           16.0    15355.0   \n",
       "Valverde del Camino                                    16.0    12750.0   \n",
       "Trigueros                                              19.0     7862.0   \n",
       "Rociana del Condado                                    65.0     7939.0   \n",
       "Aljaraque                                              38.0    21474.0   \n",
       "Lucena del Puerto                                      20.0     3261.0   \n",
       "Ayamonte                                                5.0    21104.0   \n",
       "Palma del Condado (La)                                 16.0    10801.0   \n",
       "Almonaster la Real                                      3.0     1788.0   \n",
       "Bonares                                                32.0     6060.0   \n",
       "San Juan del Puerto                                    33.0     9411.0   \n",
       "Beas                                                    3.0     4341.0   \n",
       "Aroche                                                  4.0     3054.0   \n",
       "Villanueva de los Castillejos                           3.0     2825.0   \n",
       "Higuera de la Sierra                                    3.0     1291.0   \n",
       "\n",
       "Medida                                  tasa7       tasa14  Diferencia PDIA  \n",
       "Lugar de residencia                                                          \n",
       "Huelva                             122.961202   251.768420            159.0  \n",
       "Condado-Campiña                    216.346308   437.813238             80.0  \n",
       "Huelva-Costa                        82.542445   176.481965             69.0  \n",
       "Huelva (capital)                    81.342075   189.102943             31.0  \n",
       "Almonte                            444.770882   873.219896             27.0  \n",
       "Cartaya                            368.470846   682.168999             19.0  \n",
       "Palos de la Frontera               272.525975   502.469767             14.0  \n",
       "Moguer                             187.497142   407.005991             11.0  \n",
       "Bollullos Par del Condado          139.014388   354.486689             10.0  \n",
       "Lepe                                28.694405    75.322812              7.0  \n",
       "Sierra de Huelva-Andévalo Central   59.355107   105.355315              6.0  \n",
       "San Bartolomé de la Torre          505.184791  1143.312949              6.0  \n",
       "Punta Umbría                        58.612830   104.200586              4.0  \n",
       "Valverde del Camino                 78.431373   125.490196              3.0  \n",
       "Trigueros                           89.035869   241.668787              3.0  \n",
       "Rociana del Condado                541.629928   818.742915              3.0  \n",
       "Aljaraque                           93.135885   176.958182              3.0  \n",
       "Lucena del Puerto                  429.316161   613.308801              2.0  \n",
       "Ayamonte                             4.738438    23.692191              2.0  \n",
       "Palma del Condado (La)              92.584020   148.134432              1.0  \n",
       "Almonaster la Real                 167.785235   167.785235              1.0  \n",
       "Bonares                            247.524752   528.052805              1.0  \n",
       "San Juan del Puerto                138.136224   350.653491              1.0  \n",
       "Beas                                46.072334    69.108500              1.0  \n",
       "Aroche                              65.487885   130.975769              1.0  \n",
       "Villanueva de los Castillejos       35.398230   106.194690              1.0  \n",
       "Higuera de la Sierra                77.459334   232.378002              NaN  "
      ],
      "text/html": "<div>\n<style scoped>\n    .dataframe tbody tr th:only-of-type {\n        vertical-align: middle;\n    }\n\n    .dataframe tbody tr th {\n        vertical-align: top;\n    }\n\n    .dataframe thead th {\n        text-align: right;\n    }\n</style>\n<table border=\"1\" class=\"dataframe\">\n  <thead>\n    <tr style=\"text-align: right;\">\n      <th>Medida</th>\n      <th>Confirmados PDIA</th>\n      <th>Confirmados PDIA 7 días</th>\n      <th>Confirmados PDIA 14 días</th>\n      <th>Población</th>\n      <th>tasa7</th>\n      <th>tasa14</th>\n      <th>Diferencia PDIA</th>\n    </tr>\n    <tr>\n      <th>Lugar de residencia</th>\n      <th></th>\n      <th></th>\n      <th></th>\n      <th></th>\n      <th></th>\n      <th></th>\n      <th></th>\n    </tr>\n  </thead>\n  <tbody>\n    <tr>\n      <th>Huelva</th>\n      <td>26877.0</td>\n      <td>631.0</td>\n      <td>1292.0</td>\n      <td>513170.0</td>\n      <td>122.961202</td>\n      <td>251.768420</td>\n      <td>159.0</td>\n    </tr>\n    <tr>\n      <th>Condado-Campiña</th>\n      <td>8118.0</td>\n      <td>338.0</td>\n      <td>684.0</td>\n      <td>156231.0</td>\n      <td>216.346308</td>\n      <td>437.813238</td>\n      <td>80.0</td>\n    </tr>\n    <tr>\n      <th>Huelva-Costa</th>\n      <td>15937.0</td>\n      <td>239.0</td>\n      <td>511.0</td>\n      <td>289548.0</td>\n      <td>82.542445</td>\n      <td>176.481965</td>\n      <td>69.0</td>\n    </tr>\n    <tr>\n      <th>Huelva (capital)</th>\n      <td>6991.0</td>\n      <td>117.0</td>\n      <td>272.0</td>\n      <td>143837.0</td>\n      <td>81.342075</td>\n      <td>189.102943</td>\n      <td>31.0</td>\n    </tr>\n    <tr>\n      <th>Almonte</th>\n      <td>1233.0</td>\n      <td>109.0</td>\n      <td>214.0</td>\n      <td>24507.0</td>\n      <td>444.770882</td>\n      <td>873.219896</td>\n      <td>27.0</td>\n    </tr>\n    <tr>\n      <th>Cartaya</th>\n      <td>1147.0</td>\n      <td>74.0</td>\n      <td>137.0</td>\n      <td>20083.0</td>\n      <td>368.470846</td>\n      <td>682.168999</td>\n      <td>19.0</td>\n    </tr>\n    <tr>\n      <th>Palos de la Frontera</th>\n      <td>541.0</td>\n      <td>32.0</td>\n      <td>59.0</td>\n      <td>11742.0</td>\n      <td>272.525975</td>\n      <td>502.469767</td>\n      <td>14.0</td>\n    </tr>\n    <tr>\n      <th>Moguer</th>\n      <td>980.0</td>\n      <td>41.0</td>\n      <td>89.0</td>\n      <td>21867.0</td>\n      <td>187.497142</td>\n      <td>407.005991</td>\n      <td>11.0</td>\n    </tr>\n    <tr>\n      <th>Bollullos Par del Condado</th>\n      <td>723.0</td>\n      <td>20.0</td>\n      <td>51.0</td>\n      <td>14387.0</td>\n      <td>139.014388</td>\n      <td>354.486689</td>\n      <td>10.0</td>\n    </tr>\n    <tr>\n      <th>Lepe</th>\n      <td>2043.0</td>\n      <td>8.0</td>\n      <td>21.0</td>\n      <td>27880.0</td>\n      <td>28.694405</td>\n      <td>75.322812</td>\n      <td>7.0</td>\n    </tr>\n    <tr>\n      <th>Sierra de Huelva-Andévalo Central</th>\n      <td>2397.0</td>\n      <td>40.0</td>\n      <td>71.0</td>\n      <td>67391.0</td>\n      <td>59.355107</td>\n      <td>105.355315</td>\n      <td>6.0</td>\n    </tr>\n    <tr>\n      <th>San Bartolomé de la Torre</th>\n      <td>274.0</td>\n      <td>19.0</td>\n      <td>43.0</td>\n      <td>3761.0</td>\n      <td>505.184791</td>\n      <td>1143.312949</td>\n      <td>6.0</td>\n    </tr>\n    <tr>\n      <th>Punta Umbría</th>\n      <td>683.0</td>\n      <td>9.0</td>\n      <td>16.0</td>\n      <td>15355.0</td>\n      <td>58.612830</td>\n      <td>104.200586</td>\n      <td>4.0</td>\n    </tr>\n    <tr>\n      <th>Valverde del Camino</th>\n      <td>445.0</td>\n      <td>10.0</td>\n      <td>16.0</td>\n      <td>12750.0</td>\n      <td>78.431373</td>\n      <td>125.490196</td>\n      <td>3.0</td>\n    </tr>\n    <tr>\n      <th>Trigueros</th>\n      <td>248.0</td>\n      <td>7.0</td>\n      <td>19.0</td>\n      <td>7862.0</td>\n      <td>89.035869</td>\n      <td>241.668787</td>\n      <td>3.0</td>\n    </tr>\n    <tr>\n      <th>Rociana del Condado</th>\n      <td>435.0</td>\n      <td>43.0</td>\n      <td>65.0</td>\n      <td>7939.0</td>\n      <td>541.629928</td>\n      <td>818.742915</td>\n      <td>3.0</td>\n    </tr>\n    <tr>\n      <th>Aljaraque</th>\n      <td>969.0</td>\n      <td>20.0</td>\n      <td>38.0</td>\n      <td>21474.0</td>\n      <td>93.135885</td>\n      <td>176.958182</td>\n      <td>3.0</td>\n    </tr>\n    <tr>\n      <th>Lucena del Puerto</th>\n      <td>183.0</td>\n      <td>14.0</td>\n      <td>20.0</td>\n      <td>3261.0</td>\n      <td>429.316161</td>\n      <td>613.308801</td>\n      <td>2.0</td>\n    </tr>\n    <tr>\n      <th>Ayamonte</th>\n      <td>1254.0</td>\n      <td>1.0</td>\n      <td>5.0</td>\n      <td>21104.0</td>\n      <td>4.738438</td>\n      <td>23.692191</td>\n      <td>2.0</td>\n    </tr>\n    <tr>\n      <th>Palma del Condado (La)</th>\n      <td>1011.0</td>\n      <td>10.0</td>\n      <td>16.0</td>\n      <td>10801.0</td>\n      <td>92.584020</td>\n      <td>148.134432</td>\n      <td>1.0</td>\n    </tr>\n    <tr>\n      <th>Almonaster la Real</th>\n      <td>56.0</td>\n      <td>3.0</td>\n      <td>3.0</td>\n      <td>1788.0</td>\n      <td>167.785235</td>\n      <td>167.785235</td>\n      <td>1.0</td>\n    </tr>\n    <tr>\n      <th>Bonares</th>\n      <td>219.0</td>\n      <td>15.0</td>\n      <td>32.0</td>\n      <td>6060.0</td>\n      <td>247.524752</td>\n      <td>528.052805</td>\n      <td>1.0</td>\n    </tr>\n    <tr>\n      <th>San Juan del Puerto</th>\n      <td>407.0</td>\n      <td>13.0</td>\n      <td>33.0</td>\n      <td>9411.0</td>\n      <td>138.136224</td>\n      <td>350.653491</td>\n      <td>1.0</td>\n    </tr>\n    <tr>\n      <th>Beas</th>\n      <td>166.0</td>\n      <td>2.0</td>\n      <td>3.0</td>\n      <td>4341.0</td>\n      <td>46.072334</td>\n      <td>69.108500</td>\n      <td>1.0</td>\n    </tr>\n    <tr>\n      <th>Aroche</th>\n      <td>86.0</td>\n      <td>2.0</td>\n      <td>4.0</td>\n      <td>3054.0</td>\n      <td>65.487885</td>\n      <td>130.975769</td>\n      <td>1.0</td>\n    </tr>\n    <tr>\n      <th>Villanueva de los Castillejos</th>\n      <td>157.0</td>\n      <td>1.0</td>\n      <td>3.0</td>\n      <td>2825.0</td>\n      <td>35.398230</td>\n      <td>106.194690</td>\n      <td>1.0</td>\n    </tr>\n    <tr>\n      <th>Higuera de la Sierra</th>\n      <td>32.0</td>\n      <td>1.0</td>\n      <td>3.0</td>\n      <td>1291.0</td>\n      <td>77.459334</td>\n      <td>232.378002</td>\n      <td>NaN</td>\n    </tr>\n  </tbody>\n</table>\n</div>"
     },
     "metadata": {},
     "execution_count": 15
    }
   ],
   "source": [
    "# Nuevos casos desde la última captura\n",
    "tabla[tabla['Diferencia PDIA'] != 0].sort_values('Diferencia PDIA', ascending=False)"
   ]
  },
  {
   "cell_type": "code",
   "execution_count": 16,
   "metadata": {},
   "outputs": [],
   "source": [
    "if tabla[tabla['Diferencia PDIA'] != 0]['Diferencia PDIA'].sum() != 0:\n",
    "  # Save to csv\n",
    "  tabla.to_csv('covid_huelva.csv', encoding='utf-8', header=True, index=True)  "
   ]
  },
  {
   "cell_type": "code",
   "execution_count": 17,
   "metadata": {},
   "outputs": [
    {
     "output_type": "execute_result",
     "data": {
      "text/plain": [
       "Medida                             Confirmados PDIA  Confirmados PDIA 7 días  \\\n",
       "Lugar de residencia                                                            \n",
       "San Bartolomé de la Torre                     274.0                     19.0   \n",
       "Almonte                                      1233.0                    109.0   \n",
       "Rociana del Condado                           435.0                     43.0   \n",
       "Sanlúcar de Guadiana                            6.0                      3.0   \n",
       "Cartaya                                      1147.0                     74.0   \n",
       "Lucena del Puerto                             183.0                     14.0   \n",
       "Bonares                                       219.0                     15.0   \n",
       "Palos de la Frontera                          541.0                     32.0   \n",
       "Condado-Campiña                              8118.0                    338.0   \n",
       "Moguer                                        980.0                     41.0   \n",
       "Aracena                                       489.0                     19.0   \n",
       "Bollullos Par del Condado                     723.0                     20.0   \n",
       "San Juan del Puerto                           407.0                     13.0   \n",
       "Villarrasa                                    139.0                      3.0   \n",
       "Alosno                                        160.0                      5.0   \n",
       "Huelva                                      26877.0                    631.0   \n",
       "Niebla                                        183.0                      5.0   \n",
       "Trigueros                                     248.0                      7.0   \n",
       "Villalba del Alcor                            470.0                      2.0   \n",
       "Higuera de la Sierra                           32.0                      1.0   \n",
       "Huelva (capital)                             6991.0                    117.0   \n",
       "Aljaraque                                     969.0                     20.0   \n",
       "Huelva-Costa                                15937.0                    239.0   \n",
       "Almonaster la Real                             56.0                      3.0   \n",
       "Palma del Condado (La)                       1011.0                     10.0   \n",
       "Aroche                                         86.0                      2.0   \n",
       "Valverde del Camino                           445.0                     10.0   \n",
       "Villanueva de los Castillejos                 157.0                      1.0   \n",
       "Sierra de Huelva-Andévalo Central            2397.0                     40.0   \n",
       "Punta Umbría                                  683.0                      9.0   \n",
       "Campillo (El)                                  63.0                      1.0   \n",
       "Gibraleón                                     556.0                      3.0   \n",
       "Lepe                                         2043.0                      8.0   \n",
       "Calañas                                       173.0                      1.0   \n",
       "Beas                                          166.0                      2.0   \n",
       "Cortegana                                     192.0                      1.0   \n",
       "Minas de Riotinto                             102.0                      2.0   \n",
       "Puebla de Guzmán                              111.0                      1.0   \n",
       "Ayamonte                                     1254.0                      1.0   \n",
       "\n",
       "Medida                             Confirmados PDIA 14 días  Población  \\\n",
       "Lugar de residencia                                                      \n",
       "San Bartolomé de la Torre                              43.0     3761.0   \n",
       "Almonte                                               214.0    24507.0   \n",
       "Rociana del Condado                                    65.0     7939.0   \n",
       "Sanlúcar de Guadiana                                    3.0      403.0   \n",
       "Cartaya                                               137.0    20083.0   \n",
       "Lucena del Puerto                                      20.0     3261.0   \n",
       "Bonares                                                32.0     6060.0   \n",
       "Palos de la Frontera                                   59.0    11742.0   \n",
       "Condado-Campiña                                       684.0   156231.0   \n",
       "Moguer                                                 89.0    21867.0   \n",
       "Aracena                                                32.0     8255.0   \n",
       "Bollullos Par del Condado                              51.0    14387.0   \n",
       "San Juan del Puerto                                    33.0     9411.0   \n",
       "Villarrasa                                              6.0     2211.0   \n",
       "Alosno                                                 10.0     3933.0   \n",
       "Huelva                                               1292.0   513170.0   \n",
       "Niebla                                                 10.0     4116.0   \n",
       "Trigueros                                              19.0     7862.0   \n",
       "Villalba del Alcor                                      8.0     3366.0   \n",
       "Higuera de la Sierra                                    3.0     1291.0   \n",
       "Huelva (capital)                                      272.0   143837.0   \n",
       "Aljaraque                                              38.0    21474.0   \n",
       "Huelva-Costa                                          511.0   289548.0   \n",
       "Almonaster la Real                                      3.0     1788.0   \n",
       "Palma del Condado (La)                                 16.0    10801.0   \n",
       "Aroche                                                  4.0     3054.0   \n",
       "Valverde del Camino                                    16.0    12750.0   \n",
       "Villanueva de los Castillejos                           3.0     2825.0   \n",
       "Sierra de Huelva-Andévalo Central                      71.0    67391.0   \n",
       "Punta Umbría                                           16.0    15355.0   \n",
       "Campillo (El)                                           2.0     2024.0   \n",
       "Gibraleón                                              10.0    12737.0   \n",
       "Lepe                                                   21.0    27880.0   \n",
       "Calañas                                                 2.0     2768.0   \n",
       "Beas                                                    3.0     4341.0   \n",
       "Cortegana                                               3.0     4602.0   \n",
       "Minas de Riotinto                                       2.0     3812.0   \n",
       "Puebla de Guzmán                                        1.0     3092.0   \n",
       "Ayamonte                                                5.0    21104.0   \n",
       "\n",
       "Medida                                  tasa7       tasa14  Diferencia PDIA  \n",
       "Lugar de residencia                                                          \n",
       "San Bartolomé de la Torre          505.184791  1143.312949              6.0  \n",
       "Almonte                            444.770882   873.219896             27.0  \n",
       "Rociana del Condado                541.629928   818.742915              3.0  \n",
       "Sanlúcar de Guadiana               744.416873   744.416873              0.0  \n",
       "Cartaya                            368.470846   682.168999             19.0  \n",
       "Lucena del Puerto                  429.316161   613.308801              2.0  \n",
       "Bonares                            247.524752   528.052805              1.0  \n",
       "Palos de la Frontera               272.525975   502.469767             14.0  \n",
       "Condado-Campiña                    216.346308   437.813238             80.0  \n",
       "Moguer                             187.497142   407.005991             11.0  \n",
       "Aracena                            230.163537   387.643852              0.0  \n",
       "Bollullos Par del Condado          139.014388   354.486689             10.0  \n",
       "San Juan del Puerto                138.136224   350.653491              1.0  \n",
       "Villarrasa                         135.685210   271.370421              0.0  \n",
       "Alosno                             127.129418   254.258835              0.0  \n",
       "Huelva                             122.961202   251.768420            159.0  \n",
       "Niebla                             121.477162   242.954325              0.0  \n",
       "Trigueros                           89.035869   241.668787              3.0  \n",
       "Villalba del Alcor                  59.417706   237.670826              0.0  \n",
       "Higuera de la Sierra                77.459334   232.378002              NaN  \n",
       "Huelva (capital)                    81.342075   189.102943             31.0  \n",
       "Aljaraque                           93.135885   176.958182              3.0  \n",
       "Huelva-Costa                        82.542445   176.481965             69.0  \n",
       "Almonaster la Real                 167.785235   167.785235              1.0  \n",
       "Palma del Condado (La)              92.584020   148.134432              1.0  \n",
       "Aroche                              65.487885   130.975769              1.0  \n",
       "Valverde del Camino                 78.431373   125.490196              3.0  \n",
       "Villanueva de los Castillejos       35.398230   106.194690              1.0  \n",
       "Sierra de Huelva-Andévalo Central   59.355107   105.355315              6.0  \n",
       "Punta Umbría                        58.612830   104.200586              4.0  \n",
       "Campillo (El)                       49.407115    98.814229              0.0  \n",
       "Gibraleón                           23.553427    78.511423              0.0  \n",
       "Lepe                                28.694405    75.322812              7.0  \n",
       "Calañas                             36.127168    72.254335              0.0  \n",
       "Beas                                46.072334    69.108500              1.0  \n",
       "Cortegana                           21.729683    65.189048              0.0  \n",
       "Minas de Riotinto                   52.465897    52.465897              0.0  \n",
       "Puebla de Guzmán                    32.341527    32.341527              0.0  \n",
       "Ayamonte                             4.738438    23.692191              2.0  "
      ],
      "text/html": "<div>\n<style scoped>\n    .dataframe tbody tr th:only-of-type {\n        vertical-align: middle;\n    }\n\n    .dataframe tbody tr th {\n        vertical-align: top;\n    }\n\n    .dataframe thead th {\n        text-align: right;\n    }\n</style>\n<table border=\"1\" class=\"dataframe\">\n  <thead>\n    <tr style=\"text-align: right;\">\n      <th>Medida</th>\n      <th>Confirmados PDIA</th>\n      <th>Confirmados PDIA 7 días</th>\n      <th>Confirmados PDIA 14 días</th>\n      <th>Población</th>\n      <th>tasa7</th>\n      <th>tasa14</th>\n      <th>Diferencia PDIA</th>\n    </tr>\n    <tr>\n      <th>Lugar de residencia</th>\n      <th></th>\n      <th></th>\n      <th></th>\n      <th></th>\n      <th></th>\n      <th></th>\n      <th></th>\n    </tr>\n  </thead>\n  <tbody>\n    <tr>\n      <th>San Bartolomé de la Torre</th>\n      <td>274.0</td>\n      <td>19.0</td>\n      <td>43.0</td>\n      <td>3761.0</td>\n      <td>505.184791</td>\n      <td>1143.312949</td>\n      <td>6.0</td>\n    </tr>\n    <tr>\n      <th>Almonte</th>\n      <td>1233.0</td>\n      <td>109.0</td>\n      <td>214.0</td>\n      <td>24507.0</td>\n      <td>444.770882</td>\n      <td>873.219896</td>\n      <td>27.0</td>\n    </tr>\n    <tr>\n      <th>Rociana del Condado</th>\n      <td>435.0</td>\n      <td>43.0</td>\n      <td>65.0</td>\n      <td>7939.0</td>\n      <td>541.629928</td>\n      <td>818.742915</td>\n      <td>3.0</td>\n    </tr>\n    <tr>\n      <th>Sanlúcar de Guadiana</th>\n      <td>6.0</td>\n      <td>3.0</td>\n      <td>3.0</td>\n      <td>403.0</td>\n      <td>744.416873</td>\n      <td>744.416873</td>\n      <td>0.0</td>\n    </tr>\n    <tr>\n      <th>Cartaya</th>\n      <td>1147.0</td>\n      <td>74.0</td>\n      <td>137.0</td>\n      <td>20083.0</td>\n      <td>368.470846</td>\n      <td>682.168999</td>\n      <td>19.0</td>\n    </tr>\n    <tr>\n      <th>Lucena del Puerto</th>\n      <td>183.0</td>\n      <td>14.0</td>\n      <td>20.0</td>\n      <td>3261.0</td>\n      <td>429.316161</td>\n      <td>613.308801</td>\n      <td>2.0</td>\n    </tr>\n    <tr>\n      <th>Bonares</th>\n      <td>219.0</td>\n      <td>15.0</td>\n      <td>32.0</td>\n      <td>6060.0</td>\n      <td>247.524752</td>\n      <td>528.052805</td>\n      <td>1.0</td>\n    </tr>\n    <tr>\n      <th>Palos de la Frontera</th>\n      <td>541.0</td>\n      <td>32.0</td>\n      <td>59.0</td>\n      <td>11742.0</td>\n      <td>272.525975</td>\n      <td>502.469767</td>\n      <td>14.0</td>\n    </tr>\n    <tr>\n      <th>Condado-Campiña</th>\n      <td>8118.0</td>\n      <td>338.0</td>\n      <td>684.0</td>\n      <td>156231.0</td>\n      <td>216.346308</td>\n      <td>437.813238</td>\n      <td>80.0</td>\n    </tr>\n    <tr>\n      <th>Moguer</th>\n      <td>980.0</td>\n      <td>41.0</td>\n      <td>89.0</td>\n      <td>21867.0</td>\n      <td>187.497142</td>\n      <td>407.005991</td>\n      <td>11.0</td>\n    </tr>\n    <tr>\n      <th>Aracena</th>\n      <td>489.0</td>\n      <td>19.0</td>\n      <td>32.0</td>\n      <td>8255.0</td>\n      <td>230.163537</td>\n      <td>387.643852</td>\n      <td>0.0</td>\n    </tr>\n    <tr>\n      <th>Bollullos Par del Condado</th>\n      <td>723.0</td>\n      <td>20.0</td>\n      <td>51.0</td>\n      <td>14387.0</td>\n      <td>139.014388</td>\n      <td>354.486689</td>\n      <td>10.0</td>\n    </tr>\n    <tr>\n      <th>San Juan del Puerto</th>\n      <td>407.0</td>\n      <td>13.0</td>\n      <td>33.0</td>\n      <td>9411.0</td>\n      <td>138.136224</td>\n      <td>350.653491</td>\n      <td>1.0</td>\n    </tr>\n    <tr>\n      <th>Villarrasa</th>\n      <td>139.0</td>\n      <td>3.0</td>\n      <td>6.0</td>\n      <td>2211.0</td>\n      <td>135.685210</td>\n      <td>271.370421</td>\n      <td>0.0</td>\n    </tr>\n    <tr>\n      <th>Alosno</th>\n      <td>160.0</td>\n      <td>5.0</td>\n      <td>10.0</td>\n      <td>3933.0</td>\n      <td>127.129418</td>\n      <td>254.258835</td>\n      <td>0.0</td>\n    </tr>\n    <tr>\n      <th>Huelva</th>\n      <td>26877.0</td>\n      <td>631.0</td>\n      <td>1292.0</td>\n      <td>513170.0</td>\n      <td>122.961202</td>\n      <td>251.768420</td>\n      <td>159.0</td>\n    </tr>\n    <tr>\n      <th>Niebla</th>\n      <td>183.0</td>\n      <td>5.0</td>\n      <td>10.0</td>\n      <td>4116.0</td>\n      <td>121.477162</td>\n      <td>242.954325</td>\n      <td>0.0</td>\n    </tr>\n    <tr>\n      <th>Trigueros</th>\n      <td>248.0</td>\n      <td>7.0</td>\n      <td>19.0</td>\n      <td>7862.0</td>\n      <td>89.035869</td>\n      <td>241.668787</td>\n      <td>3.0</td>\n    </tr>\n    <tr>\n      <th>Villalba del Alcor</th>\n      <td>470.0</td>\n      <td>2.0</td>\n      <td>8.0</td>\n      <td>3366.0</td>\n      <td>59.417706</td>\n      <td>237.670826</td>\n      <td>0.0</td>\n    </tr>\n    <tr>\n      <th>Higuera de la Sierra</th>\n      <td>32.0</td>\n      <td>1.0</td>\n      <td>3.0</td>\n      <td>1291.0</td>\n      <td>77.459334</td>\n      <td>232.378002</td>\n      <td>NaN</td>\n    </tr>\n    <tr>\n      <th>Huelva (capital)</th>\n      <td>6991.0</td>\n      <td>117.0</td>\n      <td>272.0</td>\n      <td>143837.0</td>\n      <td>81.342075</td>\n      <td>189.102943</td>\n      <td>31.0</td>\n    </tr>\n    <tr>\n      <th>Aljaraque</th>\n      <td>969.0</td>\n      <td>20.0</td>\n      <td>38.0</td>\n      <td>21474.0</td>\n      <td>93.135885</td>\n      <td>176.958182</td>\n      <td>3.0</td>\n    </tr>\n    <tr>\n      <th>Huelva-Costa</th>\n      <td>15937.0</td>\n      <td>239.0</td>\n      <td>511.0</td>\n      <td>289548.0</td>\n      <td>82.542445</td>\n      <td>176.481965</td>\n      <td>69.0</td>\n    </tr>\n    <tr>\n      <th>Almonaster la Real</th>\n      <td>56.0</td>\n      <td>3.0</td>\n      <td>3.0</td>\n      <td>1788.0</td>\n      <td>167.785235</td>\n      <td>167.785235</td>\n      <td>1.0</td>\n    </tr>\n    <tr>\n      <th>Palma del Condado (La)</th>\n      <td>1011.0</td>\n      <td>10.0</td>\n      <td>16.0</td>\n      <td>10801.0</td>\n      <td>92.584020</td>\n      <td>148.134432</td>\n      <td>1.0</td>\n    </tr>\n    <tr>\n      <th>Aroche</th>\n      <td>86.0</td>\n      <td>2.0</td>\n      <td>4.0</td>\n      <td>3054.0</td>\n      <td>65.487885</td>\n      <td>130.975769</td>\n      <td>1.0</td>\n    </tr>\n    <tr>\n      <th>Valverde del Camino</th>\n      <td>445.0</td>\n      <td>10.0</td>\n      <td>16.0</td>\n      <td>12750.0</td>\n      <td>78.431373</td>\n      <td>125.490196</td>\n      <td>3.0</td>\n    </tr>\n    <tr>\n      <th>Villanueva de los Castillejos</th>\n      <td>157.0</td>\n      <td>1.0</td>\n      <td>3.0</td>\n      <td>2825.0</td>\n      <td>35.398230</td>\n      <td>106.194690</td>\n      <td>1.0</td>\n    </tr>\n    <tr>\n      <th>Sierra de Huelva-Andévalo Central</th>\n      <td>2397.0</td>\n      <td>40.0</td>\n      <td>71.0</td>\n      <td>67391.0</td>\n      <td>59.355107</td>\n      <td>105.355315</td>\n      <td>6.0</td>\n    </tr>\n    <tr>\n      <th>Punta Umbría</th>\n      <td>683.0</td>\n      <td>9.0</td>\n      <td>16.0</td>\n      <td>15355.0</td>\n      <td>58.612830</td>\n      <td>104.200586</td>\n      <td>4.0</td>\n    </tr>\n    <tr>\n      <th>Campillo (El)</th>\n      <td>63.0</td>\n      <td>1.0</td>\n      <td>2.0</td>\n      <td>2024.0</td>\n      <td>49.407115</td>\n      <td>98.814229</td>\n      <td>0.0</td>\n    </tr>\n    <tr>\n      <th>Gibraleón</th>\n      <td>556.0</td>\n      <td>3.0</td>\n      <td>10.0</td>\n      <td>12737.0</td>\n      <td>23.553427</td>\n      <td>78.511423</td>\n      <td>0.0</td>\n    </tr>\n    <tr>\n      <th>Lepe</th>\n      <td>2043.0</td>\n      <td>8.0</td>\n      <td>21.0</td>\n      <td>27880.0</td>\n      <td>28.694405</td>\n      <td>75.322812</td>\n      <td>7.0</td>\n    </tr>\n    <tr>\n      <th>Calañas</th>\n      <td>173.0</td>\n      <td>1.0</td>\n      <td>2.0</td>\n      <td>2768.0</td>\n      <td>36.127168</td>\n      <td>72.254335</td>\n      <td>0.0</td>\n    </tr>\n    <tr>\n      <th>Beas</th>\n      <td>166.0</td>\n      <td>2.0</td>\n      <td>3.0</td>\n      <td>4341.0</td>\n      <td>46.072334</td>\n      <td>69.108500</td>\n      <td>1.0</td>\n    </tr>\n    <tr>\n      <th>Cortegana</th>\n      <td>192.0</td>\n      <td>1.0</td>\n      <td>3.0</td>\n      <td>4602.0</td>\n      <td>21.729683</td>\n      <td>65.189048</td>\n      <td>0.0</td>\n    </tr>\n    <tr>\n      <th>Minas de Riotinto</th>\n      <td>102.0</td>\n      <td>2.0</td>\n      <td>2.0</td>\n      <td>3812.0</td>\n      <td>52.465897</td>\n      <td>52.465897</td>\n      <td>0.0</td>\n    </tr>\n    <tr>\n      <th>Puebla de Guzmán</th>\n      <td>111.0</td>\n      <td>1.0</td>\n      <td>1.0</td>\n      <td>3092.0</td>\n      <td>32.341527</td>\n      <td>32.341527</td>\n      <td>0.0</td>\n    </tr>\n    <tr>\n      <th>Ayamonte</th>\n      <td>1254.0</td>\n      <td>1.0</td>\n      <td>5.0</td>\n      <td>21104.0</td>\n      <td>4.738438</td>\n      <td>23.692191</td>\n      <td>2.0</td>\n    </tr>\n  </tbody>\n</table>\n</div>"
     },
     "metadata": {},
     "execution_count": 17
    }
   ],
   "source": [
    "tabla.sort_values('tasa14', ascending=False)"
   ]
  },
  {
   "cell_type": "code",
   "execution_count": 18,
   "metadata": {},
   "outputs": [
    {
     "output_type": "execute_result",
     "data": {
      "text/plain": [
       "Medida                             Confirmados PDIA  Confirmados PDIA 7 días  \\\n",
       "Lugar de residencia                                                            \n",
       "Ayamonte                                     1254.0                      1.0   \n",
       "Villalba del Alcor                            470.0                      2.0   \n",
       "Gibraleón                                     556.0                      3.0   \n",
       "Villanueva de los Castillejos                 157.0                      1.0   \n",
       "Higuera de la Sierra                           32.0                      1.0   \n",
       "Cortegana                                     192.0                      1.0   \n",
       "Trigueros                                     248.0                      7.0   \n",
       "Lepe                                         2043.0                      8.0   \n",
       "Bollullos Par del Condado                     723.0                     20.0   \n",
       "San Juan del Puerto                           407.0                     13.0   \n",
       "Huelva (capital)                             6991.0                    117.0   \n",
       "San Bartolomé de la Torre                     274.0                     19.0   \n",
       "Moguer                                        980.0                     41.0   \n",
       "Huelva-Costa                                15937.0                    239.0   \n",
       "Bonares                                       219.0                     15.0   \n",
       "Huelva                                      26877.0                    631.0   \n",
       "Condado-Campiña                              8118.0                    338.0   \n",
       "Niebla                                        183.0                      5.0   \n",
       "Villarrasa                                    139.0                      3.0   \n",
       "Campillo (El)                                  63.0                      1.0   \n",
       "Calañas                                       173.0                      1.0   \n",
       "Alosno                                        160.0                      5.0   \n",
       "Aroche                                         86.0                      2.0   \n",
       "Almonte                                      1233.0                    109.0   \n",
       "Aljaraque                                     969.0                     20.0   \n",
       "Cartaya                                      1147.0                     74.0   \n",
       "Palos de la Frontera                          541.0                     32.0   \n",
       "Punta Umbría                                  683.0                      9.0   \n",
       "Sierra de Huelva-Andévalo Central            2397.0                     40.0   \n",
       "Aracena                                       489.0                     19.0   \n",
       "Valverde del Camino                           445.0                     10.0   \n",
       "Palma del Condado (La)                       1011.0                     10.0   \n",
       "Rociana del Condado                           435.0                     43.0   \n",
       "Beas                                          166.0                      2.0   \n",
       "Lucena del Puerto                             183.0                     14.0   \n",
       "Puebla de Guzmán                              111.0                      1.0   \n",
       "Minas de Riotinto                             102.0                      2.0   \n",
       "Sanlúcar de Guadiana                            6.0                      3.0   \n",
       "Almonaster la Real                             56.0                      3.0   \n",
       "\n",
       "Medida                             Confirmados PDIA 14 días  Población  \\\n",
       "Lugar de residencia                                                      \n",
       "Ayamonte                                                5.0    21104.0   \n",
       "Villalba del Alcor                                      8.0     3366.0   \n",
       "Gibraleón                                              10.0    12737.0   \n",
       "Villanueva de los Castillejos                           3.0     2825.0   \n",
       "Higuera de la Sierra                                    3.0     1291.0   \n",
       "Cortegana                                               3.0     4602.0   \n",
       "Trigueros                                              19.0     7862.0   \n",
       "Lepe                                                   21.0    27880.0   \n",
       "Bollullos Par del Condado                              51.0    14387.0   \n",
       "San Juan del Puerto                                    33.0     9411.0   \n",
       "Huelva (capital)                                      272.0   143837.0   \n",
       "San Bartolomé de la Torre                              43.0     3761.0   \n",
       "Moguer                                                 89.0    21867.0   \n",
       "Huelva-Costa                                          511.0   289548.0   \n",
       "Bonares                                                32.0     6060.0   \n",
       "Huelva                                               1292.0   513170.0   \n",
       "Condado-Campiña                                       684.0   156231.0   \n",
       "Niebla                                                 10.0     4116.0   \n",
       "Villarrasa                                              6.0     2211.0   \n",
       "Campillo (El)                                           2.0     2024.0   \n",
       "Calañas                                                 2.0     2768.0   \n",
       "Alosno                                                 10.0     3933.0   \n",
       "Aroche                                                  4.0     3054.0   \n",
       "Almonte                                               214.0    24507.0   \n",
       "Aljaraque                                              38.0    21474.0   \n",
       "Cartaya                                               137.0    20083.0   \n",
       "Palos de la Frontera                                   59.0    11742.0   \n",
       "Punta Umbría                                           16.0    15355.0   \n",
       "Sierra de Huelva-Andévalo Central                      71.0    67391.0   \n",
       "Aracena                                                32.0     8255.0   \n",
       "Valverde del Camino                                    16.0    12750.0   \n",
       "Palma del Condado (La)                                 16.0    10801.0   \n",
       "Rociana del Condado                                    65.0     7939.0   \n",
       "Beas                                                    3.0     4341.0   \n",
       "Lucena del Puerto                                      20.0     3261.0   \n",
       "Puebla de Guzmán                                        1.0     3092.0   \n",
       "Minas de Riotinto                                       2.0     3812.0   \n",
       "Sanlúcar de Guadiana                                    3.0      403.0   \n",
       "Almonaster la Real                                      3.0     1788.0   \n",
       "\n",
       "Medida                                  tasa7       tasa14  Diferencia PDIA  \\\n",
       "Lugar de residencia                                                           \n",
       "Ayamonte                             4.738438    23.692191              2.0   \n",
       "Villalba del Alcor                  59.417706   237.670826              0.0   \n",
       "Gibraleón                           23.553427    78.511423              0.0   \n",
       "Villanueva de los Castillejos       35.398230   106.194690              1.0   \n",
       "Higuera de la Sierra                77.459334   232.378002              0.0   \n",
       "Cortegana                           21.729683    65.189048              0.0   \n",
       "Trigueros                           89.035869   241.668787              3.0   \n",
       "Lepe                                28.694405    75.322812              7.0   \n",
       "Bollullos Par del Condado          139.014388   354.486689             10.0   \n",
       "San Juan del Puerto                138.136224   350.653491              1.0   \n",
       "Huelva (capital)                    81.342075   189.102943             31.0   \n",
       "San Bartolomé de la Torre          505.184791  1143.312949              6.0   \n",
       "Moguer                             187.497142   407.005991             11.0   \n",
       "Huelva-Costa                        82.542445   176.481965             69.0   \n",
       "Bonares                            247.524752   528.052805              1.0   \n",
       "Huelva                             122.961202   251.768420            159.0   \n",
       "Condado-Campiña                    216.346308   437.813238             80.0   \n",
       "Niebla                             121.477162   242.954325              0.0   \n",
       "Villarrasa                         135.685210   271.370421              0.0   \n",
       "Campillo (El)                       49.407115    98.814229              0.0   \n",
       "Calañas                             36.127168    72.254335              0.0   \n",
       "Alosno                             127.129418   254.258835              0.0   \n",
       "Aroche                              65.487885   130.975769              1.0   \n",
       "Almonte                            444.770882   873.219896             27.0   \n",
       "Aljaraque                           93.135885   176.958182              3.0   \n",
       "Cartaya                            368.470846   682.168999             19.0   \n",
       "Palos de la Frontera               272.525975   502.469767             14.0   \n",
       "Punta Umbría                        58.612830   104.200586              4.0   \n",
       "Sierra de Huelva-Andévalo Central   59.355107   105.355315              6.0   \n",
       "Aracena                            230.163537   387.643852              0.0   \n",
       "Valverde del Camino                 78.431373   125.490196              3.0   \n",
       "Palma del Condado (La)              92.584020   148.134432              1.0   \n",
       "Rociana del Condado                541.629928   818.742915              3.0   \n",
       "Beas                                46.072334    69.108500              1.0   \n",
       "Lucena del Puerto                  429.316161   613.308801              2.0   \n",
       "Puebla de Guzmán                    32.341527    32.341527              0.0   \n",
       "Minas de Riotinto                   52.465897    52.465897              0.0   \n",
       "Sanlúcar de Guadiana               744.416873   744.416873              0.0   \n",
       "Almonaster la Real                 167.785235   167.785235              1.0   \n",
       "\n",
       "Medida                                 7/14  \n",
       "Lugar de residencia                          \n",
       "Ayamonte                           0.200000  \n",
       "Villalba del Alcor                 0.250000  \n",
       "Gibraleón                          0.300000  \n",
       "Villanueva de los Castillejos      0.333333  \n",
       "Higuera de la Sierra               0.333333  \n",
       "Cortegana                          0.333333  \n",
       "Trigueros                          0.368421  \n",
       "Lepe                               0.380952  \n",
       "Bollullos Par del Condado          0.392157  \n",
       "San Juan del Puerto                0.393939  \n",
       "Huelva (capital)                   0.430147  \n",
       "San Bartolomé de la Torre          0.441860  \n",
       "Moguer                             0.460674  \n",
       "Huelva-Costa                       0.467710  \n",
       "Bonares                            0.468750  \n",
       "Huelva                             0.488390  \n",
       "Condado-Campiña                    0.494152  \n",
       "Niebla                             0.500000  \n",
       "Villarrasa                         0.500000  \n",
       "Campillo (El)                      0.500000  \n",
       "Calañas                            0.500000  \n",
       "Alosno                             0.500000  \n",
       "Aroche                             0.500000  \n",
       "Almonte                            0.509346  \n",
       "Aljaraque                          0.526316  \n",
       "Cartaya                            0.540146  \n",
       "Palos de la Frontera               0.542373  \n",
       "Punta Umbría                       0.562500  \n",
       "Sierra de Huelva-Andévalo Central  0.563380  \n",
       "Aracena                            0.593750  \n",
       "Valverde del Camino                0.625000  \n",
       "Palma del Condado (La)             0.625000  \n",
       "Rociana del Condado                0.661538  \n",
       "Beas                               0.666667  \n",
       "Lucena del Puerto                  0.700000  \n",
       "Puebla de Guzmán                   1.000000  \n",
       "Minas de Riotinto                  1.000000  \n",
       "Sanlúcar de Guadiana               1.000000  \n",
       "Almonaster la Real                 1.000000  "
      ],
      "text/html": "<div>\n<style scoped>\n    .dataframe tbody tr th:only-of-type {\n        vertical-align: middle;\n    }\n\n    .dataframe tbody tr th {\n        vertical-align: top;\n    }\n\n    .dataframe thead th {\n        text-align: right;\n    }\n</style>\n<table border=\"1\" class=\"dataframe\">\n  <thead>\n    <tr style=\"text-align: right;\">\n      <th>Medida</th>\n      <th>Confirmados PDIA</th>\n      <th>Confirmados PDIA 7 días</th>\n      <th>Confirmados PDIA 14 días</th>\n      <th>Población</th>\n      <th>tasa7</th>\n      <th>tasa14</th>\n      <th>Diferencia PDIA</th>\n      <th>7/14</th>\n    </tr>\n    <tr>\n      <th>Lugar de residencia</th>\n      <th></th>\n      <th></th>\n      <th></th>\n      <th></th>\n      <th></th>\n      <th></th>\n      <th></th>\n      <th></th>\n    </tr>\n  </thead>\n  <tbody>\n    <tr>\n      <th>Ayamonte</th>\n      <td>1254.0</td>\n      <td>1.0</td>\n      <td>5.0</td>\n      <td>21104.0</td>\n      <td>4.738438</td>\n      <td>23.692191</td>\n      <td>2.0</td>\n      <td>0.200000</td>\n    </tr>\n    <tr>\n      <th>Villalba del Alcor</th>\n      <td>470.0</td>\n      <td>2.0</td>\n      <td>8.0</td>\n      <td>3366.0</td>\n      <td>59.417706</td>\n      <td>237.670826</td>\n      <td>0.0</td>\n      <td>0.250000</td>\n    </tr>\n    <tr>\n      <th>Gibraleón</th>\n      <td>556.0</td>\n      <td>3.0</td>\n      <td>10.0</td>\n      <td>12737.0</td>\n      <td>23.553427</td>\n      <td>78.511423</td>\n      <td>0.0</td>\n      <td>0.300000</td>\n    </tr>\n    <tr>\n      <th>Villanueva de los Castillejos</th>\n      <td>157.0</td>\n      <td>1.0</td>\n      <td>3.0</td>\n      <td>2825.0</td>\n      <td>35.398230</td>\n      <td>106.194690</td>\n      <td>1.0</td>\n      <td>0.333333</td>\n    </tr>\n    <tr>\n      <th>Higuera de la Sierra</th>\n      <td>32.0</td>\n      <td>1.0</td>\n      <td>3.0</td>\n      <td>1291.0</td>\n      <td>77.459334</td>\n      <td>232.378002</td>\n      <td>0.0</td>\n      <td>0.333333</td>\n    </tr>\n    <tr>\n      <th>Cortegana</th>\n      <td>192.0</td>\n      <td>1.0</td>\n      <td>3.0</td>\n      <td>4602.0</td>\n      <td>21.729683</td>\n      <td>65.189048</td>\n      <td>0.0</td>\n      <td>0.333333</td>\n    </tr>\n    <tr>\n      <th>Trigueros</th>\n      <td>248.0</td>\n      <td>7.0</td>\n      <td>19.0</td>\n      <td>7862.0</td>\n      <td>89.035869</td>\n      <td>241.668787</td>\n      <td>3.0</td>\n      <td>0.368421</td>\n    </tr>\n    <tr>\n      <th>Lepe</th>\n      <td>2043.0</td>\n      <td>8.0</td>\n      <td>21.0</td>\n      <td>27880.0</td>\n      <td>28.694405</td>\n      <td>75.322812</td>\n      <td>7.0</td>\n      <td>0.380952</td>\n    </tr>\n    <tr>\n      <th>Bollullos Par del Condado</th>\n      <td>723.0</td>\n      <td>20.0</td>\n      <td>51.0</td>\n      <td>14387.0</td>\n      <td>139.014388</td>\n      <td>354.486689</td>\n      <td>10.0</td>\n      <td>0.392157</td>\n    </tr>\n    <tr>\n      <th>San Juan del Puerto</th>\n      <td>407.0</td>\n      <td>13.0</td>\n      <td>33.0</td>\n      <td>9411.0</td>\n      <td>138.136224</td>\n      <td>350.653491</td>\n      <td>1.0</td>\n      <td>0.393939</td>\n    </tr>\n    <tr>\n      <th>Huelva (capital)</th>\n      <td>6991.0</td>\n      <td>117.0</td>\n      <td>272.0</td>\n      <td>143837.0</td>\n      <td>81.342075</td>\n      <td>189.102943</td>\n      <td>31.0</td>\n      <td>0.430147</td>\n    </tr>\n    <tr>\n      <th>San Bartolomé de la Torre</th>\n      <td>274.0</td>\n      <td>19.0</td>\n      <td>43.0</td>\n      <td>3761.0</td>\n      <td>505.184791</td>\n      <td>1143.312949</td>\n      <td>6.0</td>\n      <td>0.441860</td>\n    </tr>\n    <tr>\n      <th>Moguer</th>\n      <td>980.0</td>\n      <td>41.0</td>\n      <td>89.0</td>\n      <td>21867.0</td>\n      <td>187.497142</td>\n      <td>407.005991</td>\n      <td>11.0</td>\n      <td>0.460674</td>\n    </tr>\n    <tr>\n      <th>Huelva-Costa</th>\n      <td>15937.0</td>\n      <td>239.0</td>\n      <td>511.0</td>\n      <td>289548.0</td>\n      <td>82.542445</td>\n      <td>176.481965</td>\n      <td>69.0</td>\n      <td>0.467710</td>\n    </tr>\n    <tr>\n      <th>Bonares</th>\n      <td>219.0</td>\n      <td>15.0</td>\n      <td>32.0</td>\n      <td>6060.0</td>\n      <td>247.524752</td>\n      <td>528.052805</td>\n      <td>1.0</td>\n      <td>0.468750</td>\n    </tr>\n    <tr>\n      <th>Huelva</th>\n      <td>26877.0</td>\n      <td>631.0</td>\n      <td>1292.0</td>\n      <td>513170.0</td>\n      <td>122.961202</td>\n      <td>251.768420</td>\n      <td>159.0</td>\n      <td>0.488390</td>\n    </tr>\n    <tr>\n      <th>Condado-Campiña</th>\n      <td>8118.0</td>\n      <td>338.0</td>\n      <td>684.0</td>\n      <td>156231.0</td>\n      <td>216.346308</td>\n      <td>437.813238</td>\n      <td>80.0</td>\n      <td>0.494152</td>\n    </tr>\n    <tr>\n      <th>Niebla</th>\n      <td>183.0</td>\n      <td>5.0</td>\n      <td>10.0</td>\n      <td>4116.0</td>\n      <td>121.477162</td>\n      <td>242.954325</td>\n      <td>0.0</td>\n      <td>0.500000</td>\n    </tr>\n    <tr>\n      <th>Villarrasa</th>\n      <td>139.0</td>\n      <td>3.0</td>\n      <td>6.0</td>\n      <td>2211.0</td>\n      <td>135.685210</td>\n      <td>271.370421</td>\n      <td>0.0</td>\n      <td>0.500000</td>\n    </tr>\n    <tr>\n      <th>Campillo (El)</th>\n      <td>63.0</td>\n      <td>1.0</td>\n      <td>2.0</td>\n      <td>2024.0</td>\n      <td>49.407115</td>\n      <td>98.814229</td>\n      <td>0.0</td>\n      <td>0.500000</td>\n    </tr>\n    <tr>\n      <th>Calañas</th>\n      <td>173.0</td>\n      <td>1.0</td>\n      <td>2.0</td>\n      <td>2768.0</td>\n      <td>36.127168</td>\n      <td>72.254335</td>\n      <td>0.0</td>\n      <td>0.500000</td>\n    </tr>\n    <tr>\n      <th>Alosno</th>\n      <td>160.0</td>\n      <td>5.0</td>\n      <td>10.0</td>\n      <td>3933.0</td>\n      <td>127.129418</td>\n      <td>254.258835</td>\n      <td>0.0</td>\n      <td>0.500000</td>\n    </tr>\n    <tr>\n      <th>Aroche</th>\n      <td>86.0</td>\n      <td>2.0</td>\n      <td>4.0</td>\n      <td>3054.0</td>\n      <td>65.487885</td>\n      <td>130.975769</td>\n      <td>1.0</td>\n      <td>0.500000</td>\n    </tr>\n    <tr>\n      <th>Almonte</th>\n      <td>1233.0</td>\n      <td>109.0</td>\n      <td>214.0</td>\n      <td>24507.0</td>\n      <td>444.770882</td>\n      <td>873.219896</td>\n      <td>27.0</td>\n      <td>0.509346</td>\n    </tr>\n    <tr>\n      <th>Aljaraque</th>\n      <td>969.0</td>\n      <td>20.0</td>\n      <td>38.0</td>\n      <td>21474.0</td>\n      <td>93.135885</td>\n      <td>176.958182</td>\n      <td>3.0</td>\n      <td>0.526316</td>\n    </tr>\n    <tr>\n      <th>Cartaya</th>\n      <td>1147.0</td>\n      <td>74.0</td>\n      <td>137.0</td>\n      <td>20083.0</td>\n      <td>368.470846</td>\n      <td>682.168999</td>\n      <td>19.0</td>\n      <td>0.540146</td>\n    </tr>\n    <tr>\n      <th>Palos de la Frontera</th>\n      <td>541.0</td>\n      <td>32.0</td>\n      <td>59.0</td>\n      <td>11742.0</td>\n      <td>272.525975</td>\n      <td>502.469767</td>\n      <td>14.0</td>\n      <td>0.542373</td>\n    </tr>\n    <tr>\n      <th>Punta Umbría</th>\n      <td>683.0</td>\n      <td>9.0</td>\n      <td>16.0</td>\n      <td>15355.0</td>\n      <td>58.612830</td>\n      <td>104.200586</td>\n      <td>4.0</td>\n      <td>0.562500</td>\n    </tr>\n    <tr>\n      <th>Sierra de Huelva-Andévalo Central</th>\n      <td>2397.0</td>\n      <td>40.0</td>\n      <td>71.0</td>\n      <td>67391.0</td>\n      <td>59.355107</td>\n      <td>105.355315</td>\n      <td>6.0</td>\n      <td>0.563380</td>\n    </tr>\n    <tr>\n      <th>Aracena</th>\n      <td>489.0</td>\n      <td>19.0</td>\n      <td>32.0</td>\n      <td>8255.0</td>\n      <td>230.163537</td>\n      <td>387.643852</td>\n      <td>0.0</td>\n      <td>0.593750</td>\n    </tr>\n    <tr>\n      <th>Valverde del Camino</th>\n      <td>445.0</td>\n      <td>10.0</td>\n      <td>16.0</td>\n      <td>12750.0</td>\n      <td>78.431373</td>\n      <td>125.490196</td>\n      <td>3.0</td>\n      <td>0.625000</td>\n    </tr>\n    <tr>\n      <th>Palma del Condado (La)</th>\n      <td>1011.0</td>\n      <td>10.0</td>\n      <td>16.0</td>\n      <td>10801.0</td>\n      <td>92.584020</td>\n      <td>148.134432</td>\n      <td>1.0</td>\n      <td>0.625000</td>\n    </tr>\n    <tr>\n      <th>Rociana del Condado</th>\n      <td>435.0</td>\n      <td>43.0</td>\n      <td>65.0</td>\n      <td>7939.0</td>\n      <td>541.629928</td>\n      <td>818.742915</td>\n      <td>3.0</td>\n      <td>0.661538</td>\n    </tr>\n    <tr>\n      <th>Beas</th>\n      <td>166.0</td>\n      <td>2.0</td>\n      <td>3.0</td>\n      <td>4341.0</td>\n      <td>46.072334</td>\n      <td>69.108500</td>\n      <td>1.0</td>\n      <td>0.666667</td>\n    </tr>\n    <tr>\n      <th>Lucena del Puerto</th>\n      <td>183.0</td>\n      <td>14.0</td>\n      <td>20.0</td>\n      <td>3261.0</td>\n      <td>429.316161</td>\n      <td>613.308801</td>\n      <td>2.0</td>\n      <td>0.700000</td>\n    </tr>\n    <tr>\n      <th>Puebla de Guzmán</th>\n      <td>111.0</td>\n      <td>1.0</td>\n      <td>1.0</td>\n      <td>3092.0</td>\n      <td>32.341527</td>\n      <td>32.341527</td>\n      <td>0.0</td>\n      <td>1.000000</td>\n    </tr>\n    <tr>\n      <th>Minas de Riotinto</th>\n      <td>102.0</td>\n      <td>2.0</td>\n      <td>2.0</td>\n      <td>3812.0</td>\n      <td>52.465897</td>\n      <td>52.465897</td>\n      <td>0.0</td>\n      <td>1.000000</td>\n    </tr>\n    <tr>\n      <th>Sanlúcar de Guadiana</th>\n      <td>6.0</td>\n      <td>3.0</td>\n      <td>3.0</td>\n      <td>403.0</td>\n      <td>744.416873</td>\n      <td>744.416873</td>\n      <td>0.0</td>\n      <td>1.000000</td>\n    </tr>\n    <tr>\n      <th>Almonaster la Real</th>\n      <td>56.0</td>\n      <td>3.0</td>\n      <td>3.0</td>\n      <td>1788.0</td>\n      <td>167.785235</td>\n      <td>167.785235</td>\n      <td>1.0</td>\n      <td>1.000000</td>\n    </tr>\n  </tbody>\n</table>\n</div>"
     },
     "metadata": {},
     "execution_count": 18
    }
   ],
   "source": [
    "# Peso de la tasa de la última semana en relación con la tasa a 14 días \n",
    "# Mejor cuanto menor. Valor 1 significa que no había casos antes de 7 días.\n",
    "tabla['7/14'] = tabla['tasa7'] / tabla['tasa14']\n",
    "tabla.fillna(0).sort_values('7/14', ascending=True)"
   ]
  },
  {
   "cell_type": "code",
   "execution_count": null,
   "metadata": {},
   "outputs": [],
   "source": []
  }
 ]
}