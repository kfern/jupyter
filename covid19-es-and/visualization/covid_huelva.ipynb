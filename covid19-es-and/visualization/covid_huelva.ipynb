{
 "metadata": {
  "language_info": {
   "codemirror_mode": {
    "name": "ipython",
    "version": 3
   },
   "file_extension": ".py",
   "mimetype": "text/x-python",
   "name": "python",
   "nbconvert_exporter": "python",
   "pygments_lexer": "ipython3",
   "version": "3.8.6-final"
  },
  "orig_nbformat": 2,
  "kernelspec": {
   "name": "python38564bit75945252d6ba481bad4868286020c89e",
   "display_name": "Python 3.8.5 64-bit",
   "language": "python"
  }
 },
 "nbformat": 4,
 "nbformat_minor": 2,
 "cells": [
  {
   "cell_type": "code",
   "execution_count": 1,
   "metadata": {},
   "outputs": [],
   "source": [
    "import pandas as pd\n",
    "pd.set_option('display.max_rows', None) # Print all rows"
   ]
  },
  {
   "cell_type": "code",
   "execution_count": 2,
   "metadata": {},
   "outputs": [],
   "source": [
    "# FIX SSL: CERTIFICATE_VERIFY_FAILED with Python3\n",
    "# https://stackoverflow.com/a/49174340\n",
    "import ssl\n",
    "\n",
    "ssl._create_default_https_context = ssl._create_unverified_context"
   ]
  },
  {
   "cell_type": "code",
   "execution_count": 3,
   "metadata": {},
   "outputs": [],
   "source": [
    "url = 'https://www.juntadeandalucia.es/institutodeestadisticaycartografia/badea/stpivot/stpivot/Print?cube=013d884c-cfc5-4c21-9e78-e26225682afd&type=3&foto=si&ejecutaDesde=&codConsulta=38668&consTipoVisua=JP'\n",
    "fields = ['Lugar de residencia', 'Medida', 'Valor']\n",
    "df = pd.read_csv(url, delimiter=';', usecols=fields, decimal=',')"
   ]
  },
  {
   "cell_type": "code",
   "execution_count": 4,
   "metadata": {},
   "outputs": [
    {
     "output_type": "execute_result",
     "data": {
      "text/plain": [
       "  Lugar de residencia                    Medida              Valor\n",
       "0              Huelva                 Población             513170\n",
       "1              Huelva          Confirmados PDIA              24482\n",
       "2              Huelva  Confirmados PDIA 14 días                546\n",
       "3              Huelva         Tasa PDIA 14 días  106,3974901104897\n",
       "4              Huelva   Confirmados PDIA 7 días                204\n",
       "5              Huelva        Total Confirmados               24709\n",
       "6              Huelva                   Curados              15868\n",
       "7              Huelva                Fallecidos                284"
      ],
      "text/html": "<div>\n<style scoped>\n    .dataframe tbody tr th:only-of-type {\n        vertical-align: middle;\n    }\n\n    .dataframe tbody tr th {\n        vertical-align: top;\n    }\n\n    .dataframe thead th {\n        text-align: right;\n    }\n</style>\n<table border=\"1\" class=\"dataframe\">\n  <thead>\n    <tr style=\"text-align: right;\">\n      <th></th>\n      <th>Lugar de residencia</th>\n      <th>Medida</th>\n      <th>Valor</th>\n    </tr>\n  </thead>\n  <tbody>\n    <tr>\n      <th>0</th>\n      <td>Huelva</td>\n      <td>Población</td>\n      <td>513170</td>\n    </tr>\n    <tr>\n      <th>1</th>\n      <td>Huelva</td>\n      <td>Confirmados PDIA</td>\n      <td>24482</td>\n    </tr>\n    <tr>\n      <th>2</th>\n      <td>Huelva</td>\n      <td>Confirmados PDIA 14 días</td>\n      <td>546</td>\n    </tr>\n    <tr>\n      <th>3</th>\n      <td>Huelva</td>\n      <td>Tasa PDIA 14 días</td>\n      <td>106,3974901104897</td>\n    </tr>\n    <tr>\n      <th>4</th>\n      <td>Huelva</td>\n      <td>Confirmados PDIA 7 días</td>\n      <td>204</td>\n    </tr>\n    <tr>\n      <th>5</th>\n      <td>Huelva</td>\n      <td>Total Confirmados</td>\n      <td>24709</td>\n    </tr>\n    <tr>\n      <th>6</th>\n      <td>Huelva</td>\n      <td>Curados</td>\n      <td>15868</td>\n    </tr>\n    <tr>\n      <th>7</th>\n      <td>Huelva</td>\n      <td>Fallecidos</td>\n      <td>284</td>\n    </tr>\n  </tbody>\n</table>\n</div>"
     },
     "metadata": {},
     "execution_count": 4
    }
   ],
   "source": [
    "df[df['Lugar de residencia'] == 'Huelva']"
   ]
  },
  {
   "cell_type": "code",
   "execution_count": 5,
   "metadata": {},
   "outputs": [],
   "source": [
    "df['Valor'] = pd.to_numeric(df['Valor'],errors='coerce')"
   ]
  },
  {
   "cell_type": "code",
   "execution_count": 6,
   "metadata": {},
   "outputs": [],
   "source": [
    "dfAnterior = pd.read_csv('covid_huelva.csv', index_col='Lugar de residencia')"
   ]
  },
  {
   "cell_type": "code",
   "execution_count": 7,
   "metadata": {
    "tags": []
   },
   "outputs": [
    {
     "output_type": "stream",
     "name": "stdout",
     "text": [
      "Confirmados PCR en la provincia de Huelva:  24482.0\n"
     ]
    }
   ],
   "source": [
    "# Confirmados PCR provincia Huelva\n",
    "p = df[df['Lugar de residencia'] == 'Huelva'][df['Medida'] == 'Confirmados PDIA']['Valor'].values[0]\n",
    "print('Confirmados PCR en la provincia de Huelva: ', p)"
   ]
  },
  {
   "cell_type": "code",
   "execution_count": 8,
   "metadata": {
    "tags": []
   },
   "outputs": [
    {
     "output_type": "stream",
     "name": "stdout",
     "text": [
      "Confirmados PCR en Huelva capital:  6534.0\n"
     ]
    }
   ],
   "source": [
    "# Confirmados PCR Huelva capitalpd\n",
    "c = df[df['Lugar de residencia'] == 'Huelva (capital)'][df['Medida'] == 'Confirmados PDIA']['Valor'].values[0]\n",
    "print('Confirmados PCR en Huelva capital: ', c)"
   ]
  },
  {
   "cell_type": "code",
   "execution_count": 9,
   "metadata": {
    "tags": []
   },
   "outputs": [],
   "source": [
    "c7 = df[df['Lugar de residencia'] == 'Huelva (capital)'][df['Medida'] == 'Confirmados PDIA 7 días']['Valor'].values[0]\n",
    "c14 = df[df['Lugar de residencia'] == 'Huelva (capital)'][df['Medida'] == 'Confirmados PDIA 14 días']['Valor'].values[0]\n",
    "p = df[df['Lugar de residencia'] == 'Huelva (capital)'][df['Medida'] == 'Población']['Valor'].values[0]"
   ]
  },
  {
   "cell_type": "code",
   "execution_count": 10,
   "metadata": {
    "tags": []
   },
   "outputs": [
    {
     "output_type": "stream",
     "name": "stdout",
     "text": [
      "Huelva (capital)\n\nUn positivo PCR cada 3060 personas en los últimos 7 días \n\nUn positivo PCR cada 946 personas en los últimos 14 días\n"
     ]
    }
   ],
   "source": [
    "print('Huelva (capital)\\n')\n",
    "#print('Confirmados PCR 7 días x 1,000 habitantes: ', f\"{c7/(p/1000):.5f}\")\n",
    "print('Un positivo PCR cada', f\"{p/c7:.0f}\", 'personas en los últimos 7 días', '\\n')\n",
    "#print('Confirmados PCR 14 días x 1,000 habitantes: ', f\"{c14/(p/1000):.5f}\")\n",
    "print('Un positivo PCR cada', f\"{p/c14:.0f}\", 'personas en los últimos 14 días')"
   ]
  },
  {
   "cell_type": "code",
   "execution_count": 11,
   "metadata": {},
   "outputs": [],
   "source": [
    "filtro = ((df['Medida'] == 'Confirmados PDIA')| (df['Medida'] == 'Confirmados PDIA 7 días') | (df['Medida'] == 'Población' ) | (df['Medida'] == 'Confirmados PDIA 14 días')) & (df['Valor'] > 0)\n",
    "tabla = pd.pivot_table(df.loc[filtro], values='Valor', index='Lugar de residencia', columns='Medida').dropna()"
   ]
  },
  {
   "cell_type": "code",
   "execution_count": 12,
   "metadata": {},
   "outputs": [],
   "source": [
    "# Reorder columns\n",
    "tabla = tabla[['Confirmados PDIA', 'Confirmados PDIA 7 días', 'Confirmados PDIA 14 días', 'Población']]"
   ]
  },
  {
   "cell_type": "code",
   "execution_count": 13,
   "metadata": {},
   "outputs": [],
   "source": [
    "tabla['tasa7'] = tabla['Confirmados PDIA 7 días']/tabla['Población']*100000\n",
    "tabla['tasa14'] = tabla['Confirmados PDIA 14 días']/tabla['Población']*100000"
   ]
  },
  {
   "cell_type": "code",
   "execution_count": 14,
   "metadata": {},
   "outputs": [],
   "source": [
    "tabla['Diferencia PDIA'] = tabla['Confirmados PDIA'] - dfAnterior['Confirmados PDIA']"
   ]
  },
  {
   "cell_type": "code",
   "execution_count": 15,
   "metadata": {},
   "outputs": [
    {
     "output_type": "execute_result",
     "data": {
      "text/plain": [
       "Medida                             Confirmados PDIA  Confirmados PDIA 7 días  \\\n",
       "Lugar de residencia                                                            \n",
       "Huelva                                      24482.0                    204.0   \n",
       "Huelva-Costa                                14937.0                    124.0   \n",
       "Condado-Campiña                              6822.0                     71.0   \n",
       "Huelva (capital)                             6534.0                     47.0   \n",
       "Cartaya                                       934.0                     20.0   \n",
       "Almonte                                       847.0                     16.0   \n",
       "Palma del Condado (La)                        969.0                      8.0   \n",
       "Aljaraque                                     922.0                      8.0   \n",
       "Moguer                                        820.0                     15.0   \n",
       "Lepe                                         1986.0                     20.0   \n",
       "Isla Cristina                                1978.0                      5.0   \n",
       "Bollullos Par del Condado                     605.0                     11.0   \n",
       "Punta Umbría                                  655.0                      6.0   \n",
       "Rosal de la Frontera                           25.0                      3.0   \n",
       "Villablanca                                   174.0                      6.0   \n",
       "Gibraleón                                     509.0                      1.0   \n",
       "Ayamonte                                     1184.0                      5.0   \n",
       "Alosno                                        120.0                      1.0   \n",
       "Palos de la Frontera                          445.0                      5.0   \n",
       "Rociana del Condado                           309.0                      4.0   \n",
       "San Juan del Puerto                           358.0                      3.0   \n",
       "Villalba del Alcor                            443.0                      5.0   \n",
       "Villanueva de los Castillejos                 150.0                      3.0   \n",
       "Escacena del Campo                            137.0                      1.0   \n",
       "Valverde del Camino                           414.0                      1.0   \n",
       "Sierra de Huelva-Andévalo Central            2298.0                      4.0   \n",
       "Cabezas Rubias                                 29.0                      1.0   \n",
       "Lucena del Puerto                             145.0                      1.0   \n",
       "Puebla de Guzmán                               82.0                      2.0   \n",
       "\n",
       "Medida                             Confirmados PDIA 14 días  Población  \\\n",
       "Lugar de residencia                                                      \n",
       "Huelva                                                546.0   513170.0   \n",
       "Huelva-Costa                                          342.0   289548.0   \n",
       "Condado-Campiña                                       183.0   156231.0   \n",
       "Huelva (capital)                                      152.0   143837.0   \n",
       "Cartaya                                                52.0    20083.0   \n",
       "Almonte                                                49.0    24507.0   \n",
       "Palma del Condado (La)                                 11.0    10801.0   \n",
       "Aljaraque                                              14.0    21474.0   \n",
       "Moguer                                                 32.0    21867.0   \n",
       "Lepe                                                   43.0    27880.0   \n",
       "Isla Cristina                                          21.0    21393.0   \n",
       "Bollullos Par del Condado                              29.0    14387.0   \n",
       "Punta Umbría                                           18.0    15355.0   \n",
       "Rosal de la Frontera                                    3.0     1697.0   \n",
       "Villablanca                                            10.0     2885.0   \n",
       "Gibraleón                                               7.0    12737.0   \n",
       "Ayamonte                                               18.0    21104.0   \n",
       "Alosno                                                  2.0     3933.0   \n",
       "Palos de la Frontera                                   11.0    11742.0   \n",
       "Rociana del Condado                                    11.0     7939.0   \n",
       "San Juan del Puerto                                     4.0     9411.0   \n",
       "Villalba del Alcor                                      6.0     3366.0   \n",
       "Villanueva de los Castillejos                           9.0     2825.0   \n",
       "Escacena del Campo                                      5.0     2287.0   \n",
       "Valverde del Camino                                     2.0    12750.0   \n",
       "Sierra de Huelva-Andévalo Central                      11.0    67391.0   \n",
       "Cabezas Rubias                                          1.0      706.0   \n",
       "Lucena del Puerto                                       1.0     3261.0   \n",
       "Puebla de Guzmán                                        2.0     3092.0   \n",
       "\n",
       "Medida                                  tasa7      tasa14  Diferencia PDIA  \n",
       "Lugar de residencia                                                         \n",
       "Huelva                              39.752908  106.397490             68.0  \n",
       "Huelva-Costa                        42.825369  118.115131             49.0  \n",
       "Condado-Campiña                     45.445526  117.134244             26.0  \n",
       "Huelva (capital)                    32.675876  105.675174             16.0  \n",
       "Cartaya                             99.586715  258.925459             11.0  \n",
       "Almonte                             65.287469  199.942873              9.0  \n",
       "Palma del Condado (La)              74.067216  101.842422              5.0  \n",
       "Aljaraque                           37.254354   65.195120              4.0  \n",
       "Moguer                              68.596515  146.339233              4.0  \n",
       "Lepe                                71.736011  154.232425              4.0  \n",
       "Isla Cristina                       23.372131   98.162950              3.0  \n",
       "Bollullos Par del Condado           76.457913  201.570863              3.0  \n",
       "Punta Umbría                        39.075220  117.225659              3.0  \n",
       "Rosal de la Frontera               176.782557  176.782557              2.0  \n",
       "Villablanca                        207.972270  346.620451              2.0  \n",
       "Gibraleón                            7.851142   54.957996              1.0  \n",
       "Ayamonte                            23.692191   85.291888              1.0  \n",
       "Alosno                              25.425884   50.851767              1.0  \n",
       "Palos de la Frontera                42.582184   93.680804              1.0  \n",
       "Rociana del Condado                 50.384179  138.556493              1.0  \n",
       "San Juan del Puerto                 31.877590   42.503453              1.0  \n",
       "Villalba del Alcor                 148.544266  178.253119              1.0  \n",
       "Villanueva de los Castillejos      106.194690  318.584071              1.0  \n",
       "Escacena del Campo                  43.725404  218.627022             -1.0  \n",
       "Valverde del Camino                  7.843137   15.686275             -1.0  \n",
       "Sierra de Huelva-Andévalo Central    5.935511   16.322654             -4.0  \n",
       "Cabezas Rubias                     141.643059  141.643059              NaN  \n",
       "Lucena del Puerto                   30.665440   30.665440              NaN  \n",
       "Puebla de Guzmán                    64.683053   64.683053              NaN  "
      ],
      "text/html": "<div>\n<style scoped>\n    .dataframe tbody tr th:only-of-type {\n        vertical-align: middle;\n    }\n\n    .dataframe tbody tr th {\n        vertical-align: top;\n    }\n\n    .dataframe thead th {\n        text-align: right;\n    }\n</style>\n<table border=\"1\" class=\"dataframe\">\n  <thead>\n    <tr style=\"text-align: right;\">\n      <th>Medida</th>\n      <th>Confirmados PDIA</th>\n      <th>Confirmados PDIA 7 días</th>\n      <th>Confirmados PDIA 14 días</th>\n      <th>Población</th>\n      <th>tasa7</th>\n      <th>tasa14</th>\n      <th>Diferencia PDIA</th>\n    </tr>\n    <tr>\n      <th>Lugar de residencia</th>\n      <th></th>\n      <th></th>\n      <th></th>\n      <th></th>\n      <th></th>\n      <th></th>\n      <th></th>\n    </tr>\n  </thead>\n  <tbody>\n    <tr>\n      <th>Huelva</th>\n      <td>24482.0</td>\n      <td>204.0</td>\n      <td>546.0</td>\n      <td>513170.0</td>\n      <td>39.752908</td>\n      <td>106.397490</td>\n      <td>68.0</td>\n    </tr>\n    <tr>\n      <th>Huelva-Costa</th>\n      <td>14937.0</td>\n      <td>124.0</td>\n      <td>342.0</td>\n      <td>289548.0</td>\n      <td>42.825369</td>\n      <td>118.115131</td>\n      <td>49.0</td>\n    </tr>\n    <tr>\n      <th>Condado-Campiña</th>\n      <td>6822.0</td>\n      <td>71.0</td>\n      <td>183.0</td>\n      <td>156231.0</td>\n      <td>45.445526</td>\n      <td>117.134244</td>\n      <td>26.0</td>\n    </tr>\n    <tr>\n      <th>Huelva (capital)</th>\n      <td>6534.0</td>\n      <td>47.0</td>\n      <td>152.0</td>\n      <td>143837.0</td>\n      <td>32.675876</td>\n      <td>105.675174</td>\n      <td>16.0</td>\n    </tr>\n    <tr>\n      <th>Cartaya</th>\n      <td>934.0</td>\n      <td>20.0</td>\n      <td>52.0</td>\n      <td>20083.0</td>\n      <td>99.586715</td>\n      <td>258.925459</td>\n      <td>11.0</td>\n    </tr>\n    <tr>\n      <th>Almonte</th>\n      <td>847.0</td>\n      <td>16.0</td>\n      <td>49.0</td>\n      <td>24507.0</td>\n      <td>65.287469</td>\n      <td>199.942873</td>\n      <td>9.0</td>\n    </tr>\n    <tr>\n      <th>Palma del Condado (La)</th>\n      <td>969.0</td>\n      <td>8.0</td>\n      <td>11.0</td>\n      <td>10801.0</td>\n      <td>74.067216</td>\n      <td>101.842422</td>\n      <td>5.0</td>\n    </tr>\n    <tr>\n      <th>Aljaraque</th>\n      <td>922.0</td>\n      <td>8.0</td>\n      <td>14.0</td>\n      <td>21474.0</td>\n      <td>37.254354</td>\n      <td>65.195120</td>\n      <td>4.0</td>\n    </tr>\n    <tr>\n      <th>Moguer</th>\n      <td>820.0</td>\n      <td>15.0</td>\n      <td>32.0</td>\n      <td>21867.0</td>\n      <td>68.596515</td>\n      <td>146.339233</td>\n      <td>4.0</td>\n    </tr>\n    <tr>\n      <th>Lepe</th>\n      <td>1986.0</td>\n      <td>20.0</td>\n      <td>43.0</td>\n      <td>27880.0</td>\n      <td>71.736011</td>\n      <td>154.232425</td>\n      <td>4.0</td>\n    </tr>\n    <tr>\n      <th>Isla Cristina</th>\n      <td>1978.0</td>\n      <td>5.0</td>\n      <td>21.0</td>\n      <td>21393.0</td>\n      <td>23.372131</td>\n      <td>98.162950</td>\n      <td>3.0</td>\n    </tr>\n    <tr>\n      <th>Bollullos Par del Condado</th>\n      <td>605.0</td>\n      <td>11.0</td>\n      <td>29.0</td>\n      <td>14387.0</td>\n      <td>76.457913</td>\n      <td>201.570863</td>\n      <td>3.0</td>\n    </tr>\n    <tr>\n      <th>Punta Umbría</th>\n      <td>655.0</td>\n      <td>6.0</td>\n      <td>18.0</td>\n      <td>15355.0</td>\n      <td>39.075220</td>\n      <td>117.225659</td>\n      <td>3.0</td>\n    </tr>\n    <tr>\n      <th>Rosal de la Frontera</th>\n      <td>25.0</td>\n      <td>3.0</td>\n      <td>3.0</td>\n      <td>1697.0</td>\n      <td>176.782557</td>\n      <td>176.782557</td>\n      <td>2.0</td>\n    </tr>\n    <tr>\n      <th>Villablanca</th>\n      <td>174.0</td>\n      <td>6.0</td>\n      <td>10.0</td>\n      <td>2885.0</td>\n      <td>207.972270</td>\n      <td>346.620451</td>\n      <td>2.0</td>\n    </tr>\n    <tr>\n      <th>Gibraleón</th>\n      <td>509.0</td>\n      <td>1.0</td>\n      <td>7.0</td>\n      <td>12737.0</td>\n      <td>7.851142</td>\n      <td>54.957996</td>\n      <td>1.0</td>\n    </tr>\n    <tr>\n      <th>Ayamonte</th>\n      <td>1184.0</td>\n      <td>5.0</td>\n      <td>18.0</td>\n      <td>21104.0</td>\n      <td>23.692191</td>\n      <td>85.291888</td>\n      <td>1.0</td>\n    </tr>\n    <tr>\n      <th>Alosno</th>\n      <td>120.0</td>\n      <td>1.0</td>\n      <td>2.0</td>\n      <td>3933.0</td>\n      <td>25.425884</td>\n      <td>50.851767</td>\n      <td>1.0</td>\n    </tr>\n    <tr>\n      <th>Palos de la Frontera</th>\n      <td>445.0</td>\n      <td>5.0</td>\n      <td>11.0</td>\n      <td>11742.0</td>\n      <td>42.582184</td>\n      <td>93.680804</td>\n      <td>1.0</td>\n    </tr>\n    <tr>\n      <th>Rociana del Condado</th>\n      <td>309.0</td>\n      <td>4.0</td>\n      <td>11.0</td>\n      <td>7939.0</td>\n      <td>50.384179</td>\n      <td>138.556493</td>\n      <td>1.0</td>\n    </tr>\n    <tr>\n      <th>San Juan del Puerto</th>\n      <td>358.0</td>\n      <td>3.0</td>\n      <td>4.0</td>\n      <td>9411.0</td>\n      <td>31.877590</td>\n      <td>42.503453</td>\n      <td>1.0</td>\n    </tr>\n    <tr>\n      <th>Villalba del Alcor</th>\n      <td>443.0</td>\n      <td>5.0</td>\n      <td>6.0</td>\n      <td>3366.0</td>\n      <td>148.544266</td>\n      <td>178.253119</td>\n      <td>1.0</td>\n    </tr>\n    <tr>\n      <th>Villanueva de los Castillejos</th>\n      <td>150.0</td>\n      <td>3.0</td>\n      <td>9.0</td>\n      <td>2825.0</td>\n      <td>106.194690</td>\n      <td>318.584071</td>\n      <td>1.0</td>\n    </tr>\n    <tr>\n      <th>Escacena del Campo</th>\n      <td>137.0</td>\n      <td>1.0</td>\n      <td>5.0</td>\n      <td>2287.0</td>\n      <td>43.725404</td>\n      <td>218.627022</td>\n      <td>-1.0</td>\n    </tr>\n    <tr>\n      <th>Valverde del Camino</th>\n      <td>414.0</td>\n      <td>1.0</td>\n      <td>2.0</td>\n      <td>12750.0</td>\n      <td>7.843137</td>\n      <td>15.686275</td>\n      <td>-1.0</td>\n    </tr>\n    <tr>\n      <th>Sierra de Huelva-Andévalo Central</th>\n      <td>2298.0</td>\n      <td>4.0</td>\n      <td>11.0</td>\n      <td>67391.0</td>\n      <td>5.935511</td>\n      <td>16.322654</td>\n      <td>-4.0</td>\n    </tr>\n    <tr>\n      <th>Cabezas Rubias</th>\n      <td>29.0</td>\n      <td>1.0</td>\n      <td>1.0</td>\n      <td>706.0</td>\n      <td>141.643059</td>\n      <td>141.643059</td>\n      <td>NaN</td>\n    </tr>\n    <tr>\n      <th>Lucena del Puerto</th>\n      <td>145.0</td>\n      <td>1.0</td>\n      <td>1.0</td>\n      <td>3261.0</td>\n      <td>30.665440</td>\n      <td>30.665440</td>\n      <td>NaN</td>\n    </tr>\n    <tr>\n      <th>Puebla de Guzmán</th>\n      <td>82.0</td>\n      <td>2.0</td>\n      <td>2.0</td>\n      <td>3092.0</td>\n      <td>64.683053</td>\n      <td>64.683053</td>\n      <td>NaN</td>\n    </tr>\n  </tbody>\n</table>\n</div>"
     },
     "metadata": {},
     "execution_count": 15
    }
   ],
   "source": [
    "# Nuevos casos desde la última captura\n",
    "tabla[tabla['Diferencia PDIA'] != 0].sort_values('Diferencia PDIA', ascending=False)"
   ]
  },
  {
   "cell_type": "code",
   "execution_count": 16,
   "metadata": {},
   "outputs": [],
   "source": [
    "if tabla[tabla['Diferencia PDIA'] != 0]['Diferencia PDIA'].sum() != 0:\n",
    "  # Save to csv\n",
    "  tabla.to_csv('covid_huelva.csv', encoding='utf-8', header=True, index=True)  "
   ]
  },
  {
   "cell_type": "code",
   "execution_count": 17,
   "metadata": {},
   "outputs": [
    {
     "output_type": "execute_result",
     "data": {
      "text/plain": [
       "Medida                             Confirmados PDIA  Confirmados PDIA 7 días  \\\n",
       "Lugar de residencia                                                            \n",
       "Villablanca                                   174.0                      6.0   \n",
       "Villanueva de los Castillejos                 150.0                      3.0   \n",
       "Cartaya                                       934.0                     20.0   \n",
       "Escacena del Campo                            137.0                      1.0   \n",
       "Bollullos Par del Condado                     605.0                     11.0   \n",
       "Almonte                                       847.0                     16.0   \n",
       "Villalba del Alcor                            443.0                      5.0   \n",
       "Rosal de la Frontera                           25.0                      3.0   \n",
       "Lepe                                         1986.0                     20.0   \n",
       "Moguer                                        820.0                     15.0   \n",
       "Cabezas Rubias                                 29.0                      1.0   \n",
       "Rociana del Condado                           309.0                      4.0   \n",
       "Huelva-Costa                                14937.0                    124.0   \n",
       "Punta Umbría                                  655.0                      6.0   \n",
       "Condado-Campiña                              6822.0                     71.0   \n",
       "Huelva                                      24482.0                    204.0   \n",
       "Huelva (capital)                             6534.0                     47.0   \n",
       "Palma del Condado (La)                        969.0                      8.0   \n",
       "Isla Cristina                                1978.0                      5.0   \n",
       "Palos de la Frontera                          445.0                      5.0   \n",
       "Ayamonte                                     1184.0                      5.0   \n",
       "Aljaraque                                     922.0                      8.0   \n",
       "Puebla de Guzmán                               82.0                      2.0   \n",
       "Gibraleón                                     509.0                      1.0   \n",
       "Alosno                                        120.0                      1.0   \n",
       "Bonares                                       178.0                      1.0   \n",
       "San Juan del Puerto                           358.0                      3.0   \n",
       "Lucena del Puerto                             145.0                      1.0   \n",
       "Sierra de Huelva-Andévalo Central            2298.0                      4.0   \n",
       "Valverde del Camino                           414.0                      1.0   \n",
       "\n",
       "Medida                             Confirmados PDIA 14 días  Población  \\\n",
       "Lugar de residencia                                                      \n",
       "Villablanca                                            10.0     2885.0   \n",
       "Villanueva de los Castillejos                           9.0     2825.0   \n",
       "Cartaya                                                52.0    20083.0   \n",
       "Escacena del Campo                                      5.0     2287.0   \n",
       "Bollullos Par del Condado                              29.0    14387.0   \n",
       "Almonte                                                49.0    24507.0   \n",
       "Villalba del Alcor                                      6.0     3366.0   \n",
       "Rosal de la Frontera                                    3.0     1697.0   \n",
       "Lepe                                                   43.0    27880.0   \n",
       "Moguer                                                 32.0    21867.0   \n",
       "Cabezas Rubias                                          1.0      706.0   \n",
       "Rociana del Condado                                    11.0     7939.0   \n",
       "Huelva-Costa                                          342.0   289548.0   \n",
       "Punta Umbría                                           18.0    15355.0   \n",
       "Condado-Campiña                                       183.0   156231.0   \n",
       "Huelva                                                546.0   513170.0   \n",
       "Huelva (capital)                                      152.0   143837.0   \n",
       "Palma del Condado (La)                                 11.0    10801.0   \n",
       "Isla Cristina                                          21.0    21393.0   \n",
       "Palos de la Frontera                                   11.0    11742.0   \n",
       "Ayamonte                                               18.0    21104.0   \n",
       "Aljaraque                                              14.0    21474.0   \n",
       "Puebla de Guzmán                                        2.0     3092.0   \n",
       "Gibraleón                                               7.0    12737.0   \n",
       "Alosno                                                  2.0     3933.0   \n",
       "Bonares                                                 3.0     6060.0   \n",
       "San Juan del Puerto                                     4.0     9411.0   \n",
       "Lucena del Puerto                                       1.0     3261.0   \n",
       "Sierra de Huelva-Andévalo Central                      11.0    67391.0   \n",
       "Valverde del Camino                                     2.0    12750.0   \n",
       "\n",
       "Medida                                  tasa7      tasa14  Diferencia PDIA  \n",
       "Lugar de residencia                                                         \n",
       "Villablanca                        207.972270  346.620451              2.0  \n",
       "Villanueva de los Castillejos      106.194690  318.584071              1.0  \n",
       "Cartaya                             99.586715  258.925459             11.0  \n",
       "Escacena del Campo                  43.725404  218.627022             -1.0  \n",
       "Bollullos Par del Condado           76.457913  201.570863              3.0  \n",
       "Almonte                             65.287469  199.942873              9.0  \n",
       "Villalba del Alcor                 148.544266  178.253119              1.0  \n",
       "Rosal de la Frontera               176.782557  176.782557              2.0  \n",
       "Lepe                                71.736011  154.232425              4.0  \n",
       "Moguer                              68.596515  146.339233              4.0  \n",
       "Cabezas Rubias                     141.643059  141.643059              NaN  \n",
       "Rociana del Condado                 50.384179  138.556493              1.0  \n",
       "Huelva-Costa                        42.825369  118.115131             49.0  \n",
       "Punta Umbría                        39.075220  117.225659              3.0  \n",
       "Condado-Campiña                     45.445526  117.134244             26.0  \n",
       "Huelva                              39.752908  106.397490             68.0  \n",
       "Huelva (capital)                    32.675876  105.675174             16.0  \n",
       "Palma del Condado (La)              74.067216  101.842422              5.0  \n",
       "Isla Cristina                       23.372131   98.162950              3.0  \n",
       "Palos de la Frontera                42.582184   93.680804              1.0  \n",
       "Ayamonte                            23.692191   85.291888              1.0  \n",
       "Aljaraque                           37.254354   65.195120              4.0  \n",
       "Puebla de Guzmán                    64.683053   64.683053              NaN  \n",
       "Gibraleón                            7.851142   54.957996              1.0  \n",
       "Alosno                              25.425884   50.851767              1.0  \n",
       "Bonares                             16.501650   49.504950              0.0  \n",
       "San Juan del Puerto                 31.877590   42.503453              1.0  \n",
       "Lucena del Puerto                   30.665440   30.665440              NaN  \n",
       "Sierra de Huelva-Andévalo Central    5.935511   16.322654             -4.0  \n",
       "Valverde del Camino                  7.843137   15.686275             -1.0  "
      ],
      "text/html": "<div>\n<style scoped>\n    .dataframe tbody tr th:only-of-type {\n        vertical-align: middle;\n    }\n\n    .dataframe tbody tr th {\n        vertical-align: top;\n    }\n\n    .dataframe thead th {\n        text-align: right;\n    }\n</style>\n<table border=\"1\" class=\"dataframe\">\n  <thead>\n    <tr style=\"text-align: right;\">\n      <th>Medida</th>\n      <th>Confirmados PDIA</th>\n      <th>Confirmados PDIA 7 días</th>\n      <th>Confirmados PDIA 14 días</th>\n      <th>Población</th>\n      <th>tasa7</th>\n      <th>tasa14</th>\n      <th>Diferencia PDIA</th>\n    </tr>\n    <tr>\n      <th>Lugar de residencia</th>\n      <th></th>\n      <th></th>\n      <th></th>\n      <th></th>\n      <th></th>\n      <th></th>\n      <th></th>\n    </tr>\n  </thead>\n  <tbody>\n    <tr>\n      <th>Villablanca</th>\n      <td>174.0</td>\n      <td>6.0</td>\n      <td>10.0</td>\n      <td>2885.0</td>\n      <td>207.972270</td>\n      <td>346.620451</td>\n      <td>2.0</td>\n    </tr>\n    <tr>\n      <th>Villanueva de los Castillejos</th>\n      <td>150.0</td>\n      <td>3.0</td>\n      <td>9.0</td>\n      <td>2825.0</td>\n      <td>106.194690</td>\n      <td>318.584071</td>\n      <td>1.0</td>\n    </tr>\n    <tr>\n      <th>Cartaya</th>\n      <td>934.0</td>\n      <td>20.0</td>\n      <td>52.0</td>\n      <td>20083.0</td>\n      <td>99.586715</td>\n      <td>258.925459</td>\n      <td>11.0</td>\n    </tr>\n    <tr>\n      <th>Escacena del Campo</th>\n      <td>137.0</td>\n      <td>1.0</td>\n      <td>5.0</td>\n      <td>2287.0</td>\n      <td>43.725404</td>\n      <td>218.627022</td>\n      <td>-1.0</td>\n    </tr>\n    <tr>\n      <th>Bollullos Par del Condado</th>\n      <td>605.0</td>\n      <td>11.0</td>\n      <td>29.0</td>\n      <td>14387.0</td>\n      <td>76.457913</td>\n      <td>201.570863</td>\n      <td>3.0</td>\n    </tr>\n    <tr>\n      <th>Almonte</th>\n      <td>847.0</td>\n      <td>16.0</td>\n      <td>49.0</td>\n      <td>24507.0</td>\n      <td>65.287469</td>\n      <td>199.942873</td>\n      <td>9.0</td>\n    </tr>\n    <tr>\n      <th>Villalba del Alcor</th>\n      <td>443.0</td>\n      <td>5.0</td>\n      <td>6.0</td>\n      <td>3366.0</td>\n      <td>148.544266</td>\n      <td>178.253119</td>\n      <td>1.0</td>\n    </tr>\n    <tr>\n      <th>Rosal de la Frontera</th>\n      <td>25.0</td>\n      <td>3.0</td>\n      <td>3.0</td>\n      <td>1697.0</td>\n      <td>176.782557</td>\n      <td>176.782557</td>\n      <td>2.0</td>\n    </tr>\n    <tr>\n      <th>Lepe</th>\n      <td>1986.0</td>\n      <td>20.0</td>\n      <td>43.0</td>\n      <td>27880.0</td>\n      <td>71.736011</td>\n      <td>154.232425</td>\n      <td>4.0</td>\n    </tr>\n    <tr>\n      <th>Moguer</th>\n      <td>820.0</td>\n      <td>15.0</td>\n      <td>32.0</td>\n      <td>21867.0</td>\n      <td>68.596515</td>\n      <td>146.339233</td>\n      <td>4.0</td>\n    </tr>\n    <tr>\n      <th>Cabezas Rubias</th>\n      <td>29.0</td>\n      <td>1.0</td>\n      <td>1.0</td>\n      <td>706.0</td>\n      <td>141.643059</td>\n      <td>141.643059</td>\n      <td>NaN</td>\n    </tr>\n    <tr>\n      <th>Rociana del Condado</th>\n      <td>309.0</td>\n      <td>4.0</td>\n      <td>11.0</td>\n      <td>7939.0</td>\n      <td>50.384179</td>\n      <td>138.556493</td>\n      <td>1.0</td>\n    </tr>\n    <tr>\n      <th>Huelva-Costa</th>\n      <td>14937.0</td>\n      <td>124.0</td>\n      <td>342.0</td>\n      <td>289548.0</td>\n      <td>42.825369</td>\n      <td>118.115131</td>\n      <td>49.0</td>\n    </tr>\n    <tr>\n      <th>Punta Umbría</th>\n      <td>655.0</td>\n      <td>6.0</td>\n      <td>18.0</td>\n      <td>15355.0</td>\n      <td>39.075220</td>\n      <td>117.225659</td>\n      <td>3.0</td>\n    </tr>\n    <tr>\n      <th>Condado-Campiña</th>\n      <td>6822.0</td>\n      <td>71.0</td>\n      <td>183.0</td>\n      <td>156231.0</td>\n      <td>45.445526</td>\n      <td>117.134244</td>\n      <td>26.0</td>\n    </tr>\n    <tr>\n      <th>Huelva</th>\n      <td>24482.0</td>\n      <td>204.0</td>\n      <td>546.0</td>\n      <td>513170.0</td>\n      <td>39.752908</td>\n      <td>106.397490</td>\n      <td>68.0</td>\n    </tr>\n    <tr>\n      <th>Huelva (capital)</th>\n      <td>6534.0</td>\n      <td>47.0</td>\n      <td>152.0</td>\n      <td>143837.0</td>\n      <td>32.675876</td>\n      <td>105.675174</td>\n      <td>16.0</td>\n    </tr>\n    <tr>\n      <th>Palma del Condado (La)</th>\n      <td>969.0</td>\n      <td>8.0</td>\n      <td>11.0</td>\n      <td>10801.0</td>\n      <td>74.067216</td>\n      <td>101.842422</td>\n      <td>5.0</td>\n    </tr>\n    <tr>\n      <th>Isla Cristina</th>\n      <td>1978.0</td>\n      <td>5.0</td>\n      <td>21.0</td>\n      <td>21393.0</td>\n      <td>23.372131</td>\n      <td>98.162950</td>\n      <td>3.0</td>\n    </tr>\n    <tr>\n      <th>Palos de la Frontera</th>\n      <td>445.0</td>\n      <td>5.0</td>\n      <td>11.0</td>\n      <td>11742.0</td>\n      <td>42.582184</td>\n      <td>93.680804</td>\n      <td>1.0</td>\n    </tr>\n    <tr>\n      <th>Ayamonte</th>\n      <td>1184.0</td>\n      <td>5.0</td>\n      <td>18.0</td>\n      <td>21104.0</td>\n      <td>23.692191</td>\n      <td>85.291888</td>\n      <td>1.0</td>\n    </tr>\n    <tr>\n      <th>Aljaraque</th>\n      <td>922.0</td>\n      <td>8.0</td>\n      <td>14.0</td>\n      <td>21474.0</td>\n      <td>37.254354</td>\n      <td>65.195120</td>\n      <td>4.0</td>\n    </tr>\n    <tr>\n      <th>Puebla de Guzmán</th>\n      <td>82.0</td>\n      <td>2.0</td>\n      <td>2.0</td>\n      <td>3092.0</td>\n      <td>64.683053</td>\n      <td>64.683053</td>\n      <td>NaN</td>\n    </tr>\n    <tr>\n      <th>Gibraleón</th>\n      <td>509.0</td>\n      <td>1.0</td>\n      <td>7.0</td>\n      <td>12737.0</td>\n      <td>7.851142</td>\n      <td>54.957996</td>\n      <td>1.0</td>\n    </tr>\n    <tr>\n      <th>Alosno</th>\n      <td>120.0</td>\n      <td>1.0</td>\n      <td>2.0</td>\n      <td>3933.0</td>\n      <td>25.425884</td>\n      <td>50.851767</td>\n      <td>1.0</td>\n    </tr>\n    <tr>\n      <th>Bonares</th>\n      <td>178.0</td>\n      <td>1.0</td>\n      <td>3.0</td>\n      <td>6060.0</td>\n      <td>16.501650</td>\n      <td>49.504950</td>\n      <td>0.0</td>\n    </tr>\n    <tr>\n      <th>San Juan del Puerto</th>\n      <td>358.0</td>\n      <td>3.0</td>\n      <td>4.0</td>\n      <td>9411.0</td>\n      <td>31.877590</td>\n      <td>42.503453</td>\n      <td>1.0</td>\n    </tr>\n    <tr>\n      <th>Lucena del Puerto</th>\n      <td>145.0</td>\n      <td>1.0</td>\n      <td>1.0</td>\n      <td>3261.0</td>\n      <td>30.665440</td>\n      <td>30.665440</td>\n      <td>NaN</td>\n    </tr>\n    <tr>\n      <th>Sierra de Huelva-Andévalo Central</th>\n      <td>2298.0</td>\n      <td>4.0</td>\n      <td>11.0</td>\n      <td>67391.0</td>\n      <td>5.935511</td>\n      <td>16.322654</td>\n      <td>-4.0</td>\n    </tr>\n    <tr>\n      <th>Valverde del Camino</th>\n      <td>414.0</td>\n      <td>1.0</td>\n      <td>2.0</td>\n      <td>12750.0</td>\n      <td>7.843137</td>\n      <td>15.686275</td>\n      <td>-1.0</td>\n    </tr>\n  </tbody>\n</table>\n</div>"
     },
     "metadata": {},
     "execution_count": 17
    }
   ],
   "source": [
    "tabla.sort_values('tasa14', ascending=False)"
   ]
  },
  {
   "cell_type": "code",
   "execution_count": 18,
   "metadata": {},
   "outputs": [
    {
     "output_type": "execute_result",
     "data": {
      "text/plain": [
       "Medida                             Confirmados PDIA  Confirmados PDIA 7 días  \\\n",
       "Lugar de residencia                                                            \n",
       "Gibraleón                                     509.0                      1.0   \n",
       "Escacena del Campo                            137.0                      1.0   \n",
       "Isla Cristina                                1978.0                      5.0   \n",
       "Ayamonte                                     1184.0                      5.0   \n",
       "Huelva (capital)                             6534.0                     47.0   \n",
       "Almonte                                       847.0                     16.0   \n",
       "Villanueva de los Castillejos                 150.0                      3.0   \n",
       "Bonares                                       178.0                      1.0   \n",
       "Punta Umbría                                  655.0                      6.0   \n",
       "Huelva-Costa                                14937.0                    124.0   \n",
       "Sierra de Huelva-Andévalo Central            2298.0                      4.0   \n",
       "Rociana del Condado                           309.0                      4.0   \n",
       "Huelva                                      24482.0                    204.0   \n",
       "Bollullos Par del Condado                     605.0                     11.0   \n",
       "Cartaya                                       934.0                     20.0   \n",
       "Condado-Campiña                              6822.0                     71.0   \n",
       "Palos de la Frontera                          445.0                      5.0   \n",
       "Lepe                                         1986.0                     20.0   \n",
       "Moguer                                        820.0                     15.0   \n",
       "Alosno                                        120.0                      1.0   \n",
       "Valverde del Camino                           414.0                      1.0   \n",
       "Aljaraque                                     922.0                      8.0   \n",
       "Villablanca                                   174.0                      6.0   \n",
       "Palma del Condado (La)                        969.0                      8.0   \n",
       "San Juan del Puerto                           358.0                      3.0   \n",
       "Villalba del Alcor                            443.0                      5.0   \n",
       "Cabezas Rubias                                 29.0                      1.0   \n",
       "Rosal de la Frontera                           25.0                      3.0   \n",
       "Lucena del Puerto                             145.0                      1.0   \n",
       "Puebla de Guzmán                               82.0                      2.0   \n",
       "\n",
       "Medida                             Confirmados PDIA 14 días  Población  \\\n",
       "Lugar de residencia                                                      \n",
       "Gibraleón                                               7.0    12737.0   \n",
       "Escacena del Campo                                      5.0     2287.0   \n",
       "Isla Cristina                                          21.0    21393.0   \n",
       "Ayamonte                                               18.0    21104.0   \n",
       "Huelva (capital)                                      152.0   143837.0   \n",
       "Almonte                                                49.0    24507.0   \n",
       "Villanueva de los Castillejos                           9.0     2825.0   \n",
       "Bonares                                                 3.0     6060.0   \n",
       "Punta Umbría                                           18.0    15355.0   \n",
       "Huelva-Costa                                          342.0   289548.0   \n",
       "Sierra de Huelva-Andévalo Central                      11.0    67391.0   \n",
       "Rociana del Condado                                    11.0     7939.0   \n",
       "Huelva                                                546.0   513170.0   \n",
       "Bollullos Par del Condado                              29.0    14387.0   \n",
       "Cartaya                                                52.0    20083.0   \n",
       "Condado-Campiña                                       183.0   156231.0   \n",
       "Palos de la Frontera                                   11.0    11742.0   \n",
       "Lepe                                                   43.0    27880.0   \n",
       "Moguer                                                 32.0    21867.0   \n",
       "Alosno                                                  2.0     3933.0   \n",
       "Valverde del Camino                                     2.0    12750.0   \n",
       "Aljaraque                                              14.0    21474.0   \n",
       "Villablanca                                            10.0     2885.0   \n",
       "Palma del Condado (La)                                 11.0    10801.0   \n",
       "San Juan del Puerto                                     4.0     9411.0   \n",
       "Villalba del Alcor                                      6.0     3366.0   \n",
       "Cabezas Rubias                                          1.0      706.0   \n",
       "Rosal de la Frontera                                    3.0     1697.0   \n",
       "Lucena del Puerto                                       1.0     3261.0   \n",
       "Puebla de Guzmán                                        2.0     3092.0   \n",
       "\n",
       "Medida                                  tasa7      tasa14  Diferencia PDIA  \\\n",
       "Lugar de residencia                                                          \n",
       "Gibraleón                            7.851142   54.957996              1.0   \n",
       "Escacena del Campo                  43.725404  218.627022             -1.0   \n",
       "Isla Cristina                       23.372131   98.162950              3.0   \n",
       "Ayamonte                            23.692191   85.291888              1.0   \n",
       "Huelva (capital)                    32.675876  105.675174             16.0   \n",
       "Almonte                             65.287469  199.942873              9.0   \n",
       "Villanueva de los Castillejos      106.194690  318.584071              1.0   \n",
       "Bonares                             16.501650   49.504950              0.0   \n",
       "Punta Umbría                        39.075220  117.225659              3.0   \n",
       "Huelva-Costa                        42.825369  118.115131             49.0   \n",
       "Sierra de Huelva-Andévalo Central    5.935511   16.322654             -4.0   \n",
       "Rociana del Condado                 50.384179  138.556493              1.0   \n",
       "Huelva                              39.752908  106.397490             68.0   \n",
       "Bollullos Par del Condado           76.457913  201.570863              3.0   \n",
       "Cartaya                             99.586715  258.925459             11.0   \n",
       "Condado-Campiña                     45.445526  117.134244             26.0   \n",
       "Palos de la Frontera                42.582184   93.680804              1.0   \n",
       "Lepe                                71.736011  154.232425              4.0   \n",
       "Moguer                              68.596515  146.339233              4.0   \n",
       "Alosno                              25.425884   50.851767              1.0   \n",
       "Valverde del Camino                  7.843137   15.686275             -1.0   \n",
       "Aljaraque                           37.254354   65.195120              4.0   \n",
       "Villablanca                        207.972270  346.620451              2.0   \n",
       "Palma del Condado (La)              74.067216  101.842422              5.0   \n",
       "San Juan del Puerto                 31.877590   42.503453              1.0   \n",
       "Villalba del Alcor                 148.544266  178.253119              1.0   \n",
       "Cabezas Rubias                     141.643059  141.643059              0.0   \n",
       "Rosal de la Frontera               176.782557  176.782557              2.0   \n",
       "Lucena del Puerto                   30.665440   30.665440              0.0   \n",
       "Puebla de Guzmán                    64.683053   64.683053              0.0   \n",
       "\n",
       "Medida                                 7/14  \n",
       "Lugar de residencia                          \n",
       "Gibraleón                          0.142857  \n",
       "Escacena del Campo                 0.200000  \n",
       "Isla Cristina                      0.238095  \n",
       "Ayamonte                           0.277778  \n",
       "Huelva (capital)                   0.309211  \n",
       "Almonte                            0.326531  \n",
       "Villanueva de los Castillejos      0.333333  \n",
       "Bonares                            0.333333  \n",
       "Punta Umbría                       0.333333  \n",
       "Huelva-Costa                       0.362573  \n",
       "Sierra de Huelva-Andévalo Central  0.363636  \n",
       "Rociana del Condado                0.363636  \n",
       "Huelva                             0.373626  \n",
       "Bollullos Par del Condado          0.379310  \n",
       "Cartaya                            0.384615  \n",
       "Condado-Campiña                    0.387978  \n",
       "Palos de la Frontera               0.454545  \n",
       "Lepe                               0.465116  \n",
       "Moguer                             0.468750  \n",
       "Alosno                             0.500000  \n",
       "Valverde del Camino                0.500000  \n",
       "Aljaraque                          0.571429  \n",
       "Villablanca                        0.600000  \n",
       "Palma del Condado (La)             0.727273  \n",
       "San Juan del Puerto                0.750000  \n",
       "Villalba del Alcor                 0.833333  \n",
       "Cabezas Rubias                     1.000000  \n",
       "Rosal de la Frontera               1.000000  \n",
       "Lucena del Puerto                  1.000000  \n",
       "Puebla de Guzmán                   1.000000  "
      ],
      "text/html": "<div>\n<style scoped>\n    .dataframe tbody tr th:only-of-type {\n        vertical-align: middle;\n    }\n\n    .dataframe tbody tr th {\n        vertical-align: top;\n    }\n\n    .dataframe thead th {\n        text-align: right;\n    }\n</style>\n<table border=\"1\" class=\"dataframe\">\n  <thead>\n    <tr style=\"text-align: right;\">\n      <th>Medida</th>\n      <th>Confirmados PDIA</th>\n      <th>Confirmados PDIA 7 días</th>\n      <th>Confirmados PDIA 14 días</th>\n      <th>Población</th>\n      <th>tasa7</th>\n      <th>tasa14</th>\n      <th>Diferencia PDIA</th>\n      <th>7/14</th>\n    </tr>\n    <tr>\n      <th>Lugar de residencia</th>\n      <th></th>\n      <th></th>\n      <th></th>\n      <th></th>\n      <th></th>\n      <th></th>\n      <th></th>\n      <th></th>\n    </tr>\n  </thead>\n  <tbody>\n    <tr>\n      <th>Gibraleón</th>\n      <td>509.0</td>\n      <td>1.0</td>\n      <td>7.0</td>\n      <td>12737.0</td>\n      <td>7.851142</td>\n      <td>54.957996</td>\n      <td>1.0</td>\n      <td>0.142857</td>\n    </tr>\n    <tr>\n      <th>Escacena del Campo</th>\n      <td>137.0</td>\n      <td>1.0</td>\n      <td>5.0</td>\n      <td>2287.0</td>\n      <td>43.725404</td>\n      <td>218.627022</td>\n      <td>-1.0</td>\n      <td>0.200000</td>\n    </tr>\n    <tr>\n      <th>Isla Cristina</th>\n      <td>1978.0</td>\n      <td>5.0</td>\n      <td>21.0</td>\n      <td>21393.0</td>\n      <td>23.372131</td>\n      <td>98.162950</td>\n      <td>3.0</td>\n      <td>0.238095</td>\n    </tr>\n    <tr>\n      <th>Ayamonte</th>\n      <td>1184.0</td>\n      <td>5.0</td>\n      <td>18.0</td>\n      <td>21104.0</td>\n      <td>23.692191</td>\n      <td>85.291888</td>\n      <td>1.0</td>\n      <td>0.277778</td>\n    </tr>\n    <tr>\n      <th>Huelva (capital)</th>\n      <td>6534.0</td>\n      <td>47.0</td>\n      <td>152.0</td>\n      <td>143837.0</td>\n      <td>32.675876</td>\n      <td>105.675174</td>\n      <td>16.0</td>\n      <td>0.309211</td>\n    </tr>\n    <tr>\n      <th>Almonte</th>\n      <td>847.0</td>\n      <td>16.0</td>\n      <td>49.0</td>\n      <td>24507.0</td>\n      <td>65.287469</td>\n      <td>199.942873</td>\n      <td>9.0</td>\n      <td>0.326531</td>\n    </tr>\n    <tr>\n      <th>Villanueva de los Castillejos</th>\n      <td>150.0</td>\n      <td>3.0</td>\n      <td>9.0</td>\n      <td>2825.0</td>\n      <td>106.194690</td>\n      <td>318.584071</td>\n      <td>1.0</td>\n      <td>0.333333</td>\n    </tr>\n    <tr>\n      <th>Bonares</th>\n      <td>178.0</td>\n      <td>1.0</td>\n      <td>3.0</td>\n      <td>6060.0</td>\n      <td>16.501650</td>\n      <td>49.504950</td>\n      <td>0.0</td>\n      <td>0.333333</td>\n    </tr>\n    <tr>\n      <th>Punta Umbría</th>\n      <td>655.0</td>\n      <td>6.0</td>\n      <td>18.0</td>\n      <td>15355.0</td>\n      <td>39.075220</td>\n      <td>117.225659</td>\n      <td>3.0</td>\n      <td>0.333333</td>\n    </tr>\n    <tr>\n      <th>Huelva-Costa</th>\n      <td>14937.0</td>\n      <td>124.0</td>\n      <td>342.0</td>\n      <td>289548.0</td>\n      <td>42.825369</td>\n      <td>118.115131</td>\n      <td>49.0</td>\n      <td>0.362573</td>\n    </tr>\n    <tr>\n      <th>Sierra de Huelva-Andévalo Central</th>\n      <td>2298.0</td>\n      <td>4.0</td>\n      <td>11.0</td>\n      <td>67391.0</td>\n      <td>5.935511</td>\n      <td>16.322654</td>\n      <td>-4.0</td>\n      <td>0.363636</td>\n    </tr>\n    <tr>\n      <th>Rociana del Condado</th>\n      <td>309.0</td>\n      <td>4.0</td>\n      <td>11.0</td>\n      <td>7939.0</td>\n      <td>50.384179</td>\n      <td>138.556493</td>\n      <td>1.0</td>\n      <td>0.363636</td>\n    </tr>\n    <tr>\n      <th>Huelva</th>\n      <td>24482.0</td>\n      <td>204.0</td>\n      <td>546.0</td>\n      <td>513170.0</td>\n      <td>39.752908</td>\n      <td>106.397490</td>\n      <td>68.0</td>\n      <td>0.373626</td>\n    </tr>\n    <tr>\n      <th>Bollullos Par del Condado</th>\n      <td>605.0</td>\n      <td>11.0</td>\n      <td>29.0</td>\n      <td>14387.0</td>\n      <td>76.457913</td>\n      <td>201.570863</td>\n      <td>3.0</td>\n      <td>0.379310</td>\n    </tr>\n    <tr>\n      <th>Cartaya</th>\n      <td>934.0</td>\n      <td>20.0</td>\n      <td>52.0</td>\n      <td>20083.0</td>\n      <td>99.586715</td>\n      <td>258.925459</td>\n      <td>11.0</td>\n      <td>0.384615</td>\n    </tr>\n    <tr>\n      <th>Condado-Campiña</th>\n      <td>6822.0</td>\n      <td>71.0</td>\n      <td>183.0</td>\n      <td>156231.0</td>\n      <td>45.445526</td>\n      <td>117.134244</td>\n      <td>26.0</td>\n      <td>0.387978</td>\n    </tr>\n    <tr>\n      <th>Palos de la Frontera</th>\n      <td>445.0</td>\n      <td>5.0</td>\n      <td>11.0</td>\n      <td>11742.0</td>\n      <td>42.582184</td>\n      <td>93.680804</td>\n      <td>1.0</td>\n      <td>0.454545</td>\n    </tr>\n    <tr>\n      <th>Lepe</th>\n      <td>1986.0</td>\n      <td>20.0</td>\n      <td>43.0</td>\n      <td>27880.0</td>\n      <td>71.736011</td>\n      <td>154.232425</td>\n      <td>4.0</td>\n      <td>0.465116</td>\n    </tr>\n    <tr>\n      <th>Moguer</th>\n      <td>820.0</td>\n      <td>15.0</td>\n      <td>32.0</td>\n      <td>21867.0</td>\n      <td>68.596515</td>\n      <td>146.339233</td>\n      <td>4.0</td>\n      <td>0.468750</td>\n    </tr>\n    <tr>\n      <th>Alosno</th>\n      <td>120.0</td>\n      <td>1.0</td>\n      <td>2.0</td>\n      <td>3933.0</td>\n      <td>25.425884</td>\n      <td>50.851767</td>\n      <td>1.0</td>\n      <td>0.500000</td>\n    </tr>\n    <tr>\n      <th>Valverde del Camino</th>\n      <td>414.0</td>\n      <td>1.0</td>\n      <td>2.0</td>\n      <td>12750.0</td>\n      <td>7.843137</td>\n      <td>15.686275</td>\n      <td>-1.0</td>\n      <td>0.500000</td>\n    </tr>\n    <tr>\n      <th>Aljaraque</th>\n      <td>922.0</td>\n      <td>8.0</td>\n      <td>14.0</td>\n      <td>21474.0</td>\n      <td>37.254354</td>\n      <td>65.195120</td>\n      <td>4.0</td>\n      <td>0.571429</td>\n    </tr>\n    <tr>\n      <th>Villablanca</th>\n      <td>174.0</td>\n      <td>6.0</td>\n      <td>10.0</td>\n      <td>2885.0</td>\n      <td>207.972270</td>\n      <td>346.620451</td>\n      <td>2.0</td>\n      <td>0.600000</td>\n    </tr>\n    <tr>\n      <th>Palma del Condado (La)</th>\n      <td>969.0</td>\n      <td>8.0</td>\n      <td>11.0</td>\n      <td>10801.0</td>\n      <td>74.067216</td>\n      <td>101.842422</td>\n      <td>5.0</td>\n      <td>0.727273</td>\n    </tr>\n    <tr>\n      <th>San Juan del Puerto</th>\n      <td>358.0</td>\n      <td>3.0</td>\n      <td>4.0</td>\n      <td>9411.0</td>\n      <td>31.877590</td>\n      <td>42.503453</td>\n      <td>1.0</td>\n      <td>0.750000</td>\n    </tr>\n    <tr>\n      <th>Villalba del Alcor</th>\n      <td>443.0</td>\n      <td>5.0</td>\n      <td>6.0</td>\n      <td>3366.0</td>\n      <td>148.544266</td>\n      <td>178.253119</td>\n      <td>1.0</td>\n      <td>0.833333</td>\n    </tr>\n    <tr>\n      <th>Cabezas Rubias</th>\n      <td>29.0</td>\n      <td>1.0</td>\n      <td>1.0</td>\n      <td>706.0</td>\n      <td>141.643059</td>\n      <td>141.643059</td>\n      <td>0.0</td>\n      <td>1.000000</td>\n    </tr>\n    <tr>\n      <th>Rosal de la Frontera</th>\n      <td>25.0</td>\n      <td>3.0</td>\n      <td>3.0</td>\n      <td>1697.0</td>\n      <td>176.782557</td>\n      <td>176.782557</td>\n      <td>2.0</td>\n      <td>1.000000</td>\n    </tr>\n    <tr>\n      <th>Lucena del Puerto</th>\n      <td>145.0</td>\n      <td>1.0</td>\n      <td>1.0</td>\n      <td>3261.0</td>\n      <td>30.665440</td>\n      <td>30.665440</td>\n      <td>0.0</td>\n      <td>1.000000</td>\n    </tr>\n    <tr>\n      <th>Puebla de Guzmán</th>\n      <td>82.0</td>\n      <td>2.0</td>\n      <td>2.0</td>\n      <td>3092.0</td>\n      <td>64.683053</td>\n      <td>64.683053</td>\n      <td>0.0</td>\n      <td>1.000000</td>\n    </tr>\n  </tbody>\n</table>\n</div>"
     },
     "metadata": {},
     "execution_count": 18
    }
   ],
   "source": [
    "# Peso de la tasa de la última semana en relación con la tasa a 14 días \n",
    "# Mejor cuanto menor. Valor 1 significa que no había casos antes de 7 días.\n",
    "tabla['7/14'] = tabla['tasa7'] / tabla['tasa14']\n",
    "tabla.fillna(0).sort_values('7/14', ascending=True)"
   ]
  },
  {
   "cell_type": "code",
   "execution_count": null,
   "metadata": {},
   "outputs": [],
   "source": []
  }
 ]
}