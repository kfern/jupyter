{
 "metadata": {
  "language_info": {
   "codemirror_mode": {
    "name": "ipython",
    "version": 3
   },
   "file_extension": ".py",
   "mimetype": "text/x-python",
   "name": "python",
   "nbconvert_exporter": "python",
   "pygments_lexer": "ipython3",
   "version": "3.8.6"
  },
  "orig_nbformat": 2,
  "kernelspec": {
   "name": "python3",
   "display_name": "Python 3",
   "language": "python"
  }
 },
 "nbformat": 4,
 "nbformat_minor": 2,
 "cells": [
  {
   "cell_type": "code",
   "execution_count": 1,
   "metadata": {},
   "outputs": [],
   "source": [
    "import pandas as pd\n",
    "pd.set_option('display.max_rows', None) # Print all rows"
   ]
  },
  {
   "cell_type": "code",
   "execution_count": 2,
   "metadata": {},
   "outputs": [],
   "source": [
    "# FIX SSL: CERTIFICATE_VERIFY_FAILED with Python3\n",
    "# https://stackoverflow.com/a/49174340\n",
    "import ssl\n",
    "\n",
    "ssl._create_default_https_context = ssl._create_unverified_context"
   ]
  },
  {
   "cell_type": "code",
   "execution_count": 3,
   "metadata": {},
   "outputs": [],
   "source": [
    "url = 'https://www.juntadeandalucia.es/institutodeestadisticaycartografia/badea/stpivot/stpivot/Print?cube=013d884c-cfc5-4c21-9e78-e26225682afd&type=3&foto=si&ejecutaDesde=&codConsulta=38668&consTipoVisua=JP'\n",
    "fields = ['Lugar de residencia', 'Medida', 'Valor']\n",
    "df = pd.read_csv(url, delimiter=';', usecols=fields, decimal=',')"
   ]
  },
  {
   "cell_type": "code",
   "execution_count": 4,
   "metadata": {},
   "outputs": [
    {
     "output_type": "execute_result",
     "data": {
      "text/plain": [
       "  Lugar de residencia                    Medida               Valor\n",
       "0              Huelva                 Población              513170\n",
       "1              Huelva          Confirmados PDIA               28679\n",
       "2              Huelva  Confirmados PDIA 14 días                1085\n",
       "3              Huelva         Tasa PDIA 14 días  211,43090983494747\n",
       "4              Huelva   Confirmados PDIA 7 días                 440\n",
       "5              Huelva        Total Confirmados                28854\n",
       "6              Huelva                   Curados               24680\n",
       "7              Huelva                Fallecidos                 365"
      ],
      "text/html": "<div>\n<style scoped>\n    .dataframe tbody tr th:only-of-type {\n        vertical-align: middle;\n    }\n\n    .dataframe tbody tr th {\n        vertical-align: top;\n    }\n\n    .dataframe thead th {\n        text-align: right;\n    }\n</style>\n<table border=\"1\" class=\"dataframe\">\n  <thead>\n    <tr style=\"text-align: right;\">\n      <th></th>\n      <th>Lugar de residencia</th>\n      <th>Medida</th>\n      <th>Valor</th>\n    </tr>\n  </thead>\n  <tbody>\n    <tr>\n      <th>0</th>\n      <td>Huelva</td>\n      <td>Población</td>\n      <td>513170</td>\n    </tr>\n    <tr>\n      <th>1</th>\n      <td>Huelva</td>\n      <td>Confirmados PDIA</td>\n      <td>28679</td>\n    </tr>\n    <tr>\n      <th>2</th>\n      <td>Huelva</td>\n      <td>Confirmados PDIA 14 días</td>\n      <td>1085</td>\n    </tr>\n    <tr>\n      <th>3</th>\n      <td>Huelva</td>\n      <td>Tasa PDIA 14 días</td>\n      <td>211,43090983494747</td>\n    </tr>\n    <tr>\n      <th>4</th>\n      <td>Huelva</td>\n      <td>Confirmados PDIA 7 días</td>\n      <td>440</td>\n    </tr>\n    <tr>\n      <th>5</th>\n      <td>Huelva</td>\n      <td>Total Confirmados</td>\n      <td>28854</td>\n    </tr>\n    <tr>\n      <th>6</th>\n      <td>Huelva</td>\n      <td>Curados</td>\n      <td>24680</td>\n    </tr>\n    <tr>\n      <th>7</th>\n      <td>Huelva</td>\n      <td>Fallecidos</td>\n      <td>365</td>\n    </tr>\n  </tbody>\n</table>\n</div>"
     },
     "metadata": {},
     "execution_count": 4
    }
   ],
   "source": [
    "df[df['Lugar de residencia'] == 'Huelva']"
   ]
  },
  {
   "cell_type": "code",
   "execution_count": 5,
   "metadata": {},
   "outputs": [],
   "source": [
    "df['Valor'] = pd.to_numeric(df['Valor'],errors='coerce')"
   ]
  },
  {
   "cell_type": "code",
   "execution_count": 6,
   "metadata": {},
   "outputs": [],
   "source": [
    "dfAnterior = pd.read_csv('covid_huelva.csv', index_col='Lugar de residencia')"
   ]
  },
  {
   "cell_type": "code",
   "execution_count": 7,
   "metadata": {
    "tags": []
   },
   "outputs": [
    {
     "output_type": "stream",
     "name": "stdout",
     "text": [
      "Confirmados PCR en la provincia de Huelva:  28679.0\n",
      "<ipython-input-7-31b732756b19>:2: UserWarning: Boolean Series key will be reindexed to match DataFrame index.\n",
      "  p = df[df['Lugar de residencia'] == 'Huelva'][df['Medida'] == 'Confirmados PDIA']['Valor'].values[0]\n"
     ]
    }
   ],
   "source": [
    "# Confirmados PCR provincia Huelva\n",
    "p = df[df['Lugar de residencia'] == 'Huelva'][df['Medida'] == 'Confirmados PDIA']['Valor'].values[0]\n",
    "print('Confirmados PCR en la provincia de Huelva: ', p)"
   ]
  },
  {
   "cell_type": "code",
   "execution_count": 8,
   "metadata": {
    "tags": []
   },
   "outputs": [
    {
     "output_type": "stream",
     "name": "stdout",
     "text": [
      "Confirmados PCR en Huelva capital:  7440.0\n",
      "<ipython-input-8-e81bfb40e710>:2: UserWarning: Boolean Series key will be reindexed to match DataFrame index.\n",
      "  c = df[df['Lugar de residencia'] == 'Huelva (capital)'][df['Medida'] == 'Confirmados PDIA']['Valor'].values[0]\n"
     ]
    }
   ],
   "source": [
    "# Confirmados PCR Huelva capitalpd\n",
    "c = df[df['Lugar de residencia'] == 'Huelva (capital)'][df['Medida'] == 'Confirmados PDIA']['Valor'].values[0]\n",
    "print('Confirmados PCR en Huelva capital: ', c)"
   ]
  },
  {
   "cell_type": "code",
   "execution_count": 9,
   "metadata": {
    "tags": []
   },
   "outputs": [
    {
     "output_type": "stream",
     "name": "stderr",
     "text": [
      "<ipython-input-9-f09dd2050cc1>:1: UserWarning: Boolean Series key will be reindexed to match DataFrame index.\n  c7 = df[df['Lugar de residencia'] == 'Huelva (capital)'][df['Medida'] == 'Confirmados PDIA 7 días']['Valor'].values[0]\n<ipython-input-9-f09dd2050cc1>:2: UserWarning: Boolean Series key will be reindexed to match DataFrame index.\n  c14 = df[df['Lugar de residencia'] == 'Huelva (capital)'][df['Medida'] == 'Confirmados PDIA 14 días']['Valor'].values[0]\n<ipython-input-9-f09dd2050cc1>:3: UserWarning: Boolean Series key will be reindexed to match DataFrame index.\n  p = df[df['Lugar de residencia'] == 'Huelva (capital)'][df['Medida'] == 'Población']['Valor'].values[0]\n"
     ]
    }
   ],
   "source": [
    "c7 = df[df['Lugar de residencia'] == 'Huelva (capital)'][df['Medida'] == 'Confirmados PDIA 7 días']['Valor'].values[0]\n",
    "c14 = df[df['Lugar de residencia'] == 'Huelva (capital)'][df['Medida'] == 'Confirmados PDIA 14 días']['Valor'].values[0]\n",
    "p = df[df['Lugar de residencia'] == 'Huelva (capital)'][df['Medida'] == 'Población']['Valor'].values[0]"
   ]
  },
  {
   "cell_type": "code",
   "execution_count": 10,
   "metadata": {
    "tags": []
   },
   "outputs": [
    {
     "output_type": "stream",
     "name": "stdout",
     "text": [
      "Huelva (capital)\n\nUn positivo PCR cada 1273 personas en los últimos 7 días \n\nUn positivo PCR cada 607 personas en los últimos 14 días\n"
     ]
    }
   ],
   "source": [
    "print('Huelva (capital)\\n')\n",
    "#print('Confirmados PCR 7 días x 1,000 habitantes: ', f\"{c7/(p/1000):.5f}\")\n",
    "print('Un positivo PCR cada', f\"{p/c7:.0f}\", 'personas en los últimos 7 días', '\\n')\n",
    "#print('Confirmados PCR 14 días x 1,000 habitantes: ', f\"{c14/(p/1000):.5f}\")\n",
    "print('Un positivo PCR cada', f\"{p/c14:.0f}\", 'personas en los últimos 14 días')"
   ]
  },
  {
   "cell_type": "code",
   "execution_count": 11,
   "metadata": {},
   "outputs": [],
   "source": [
    "filtro = ((df['Medida'] == 'Confirmados PDIA')| (df['Medida'] == 'Confirmados PDIA 7 días') | (df['Medida'] == 'Población' ) | (df['Medida'] == 'Confirmados PDIA 14 días')) & (df['Valor'] > 0)\n",
    "tabla = pd.pivot_table(df.loc[filtro], values='Valor', index='Lugar de residencia', columns='Medida').dropna()"
   ]
  },
  {
   "cell_type": "code",
   "execution_count": 12,
   "metadata": {},
   "outputs": [],
   "source": [
    "# Reorder columns\n",
    "tabla = tabla[['Confirmados PDIA', 'Confirmados PDIA 7 días', 'Confirmados PDIA 14 días', 'Población']]"
   ]
  },
  {
   "cell_type": "code",
   "execution_count": 13,
   "metadata": {},
   "outputs": [],
   "source": [
    "tabla['tasa7'] = tabla['Confirmados PDIA 7 días']/tabla['Población']*100000\n",
    "tabla['tasa14'] = tabla['Confirmados PDIA 14 días']/tabla['Población']*100000"
   ]
  },
  {
   "cell_type": "code",
   "execution_count": 14,
   "metadata": {},
   "outputs": [],
   "source": [
    "tabla['Diferencia PDIA'] = tabla['Confirmados PDIA'] - dfAnterior['Confirmados PDIA']"
   ]
  },
  {
   "cell_type": "code",
   "execution_count": 15,
   "metadata": {},
   "outputs": [
    {
     "output_type": "execute_result",
     "data": {
      "text/plain": [
       "Medida                             Confirmados PDIA  Confirmados PDIA 7 días  \\\n",
       "Lugar de residencia                                                            \n",
       "Huelva                                      28679.0                    440.0   \n",
       "Huelva-Costa                                16704.0                    182.0   \n",
       "Condado-Campiña                              9054.0                    227.0   \n",
       "Huelva (capital)                             7440.0                    113.0   \n",
       "Almonte                                      1540.0                     69.0   \n",
       "Bollullos Par del Condado                     831.0                     44.0   \n",
       "Palos de la Frontera                          586.0                     11.0   \n",
       "Aljaraque                                    1005.0                     13.0   \n",
       "Isla Cristina                                2063.0                     10.0   \n",
       "Ayamonte                                     1287.0                     16.0   \n",
       "Sierra de Huelva-Andévalo Central            2550.0                     24.0   \n",
       "Cartaya                                      1271.0                     16.0   \n",
       "Moguer                                       1107.0                     28.0   \n",
       "Beas                                          198.0                      5.0   \n",
       "Lepe                                         2083.0                      6.0   \n",
       "Lucena del Puerto                             233.0                     15.0   \n",
       "Palma del Condado (La)                       1037.0                      7.0   \n",
       "Punta Umbría                                  713.0                      7.0   \n",
       "Cumbres de San Bartolomé                       11.0                      1.0   \n",
       "Galaroza                                       28.0                      1.0   \n",
       "Santa Ana la Real                              10.0                      1.0   \n",
       "\n",
       "Medida                             Confirmados PDIA 14 días  Población  \\\n",
       "Lugar de residencia                                                      \n",
       "Huelva                                               1085.0   513170.0   \n",
       "Huelva-Costa                                          404.0   289548.0   \n",
       "Condado-Campiña                                       569.0   156231.0   \n",
       "Huelva (capital)                                      237.0   143837.0   \n",
       "Almonte                                               172.0    24507.0   \n",
       "Bollullos Par del Condado                              80.0    14387.0   \n",
       "Palos de la Frontera                                   26.0    11742.0   \n",
       "Aljaraque                                              22.0    21474.0   \n",
       "Isla Cristina                                          30.0    21393.0   \n",
       "Ayamonte                                               24.0    21104.0   \n",
       "Sierra de Huelva-Andévalo Central                      99.0    67391.0   \n",
       "Cartaya                                                46.0    20083.0   \n",
       "Moguer                                                 78.0    21867.0   \n",
       "Beas                                                   24.0     4341.0   \n",
       "Lepe                                                   19.0    27880.0   \n",
       "Lucena del Puerto                                      42.0     3261.0   \n",
       "Palma del Condado (La)                                 14.0    10801.0   \n",
       "Punta Umbría                                           23.0    15355.0   \n",
       "Cumbres de San Bartolomé                                6.0      376.0   \n",
       "Galaroza                                                9.0     1382.0   \n",
       "Santa Ana la Real                                       4.0      475.0   \n",
       "\n",
       "Medida                                  tasa7       tasa14  Diferencia PDIA  \n",
       "Lugar de residencia                                                          \n",
       "Huelva                              85.741567   211.430910             77.0  \n",
       "Huelva-Costa                        62.856590   139.527816             40.0  \n",
       "Condado-Campiña                    145.297668   364.204287             38.0  \n",
       "Huelva (capital)                    78.561149   164.769844             26.0  \n",
       "Almonte                            281.552210   701.840291             19.0  \n",
       "Bollullos Par del Condado          305.831654   556.057552             10.0  \n",
       "Palos de la Frontera                93.680804   221.427355              4.0  \n",
       "Aljaraque                           60.538325   102.449474              4.0  \n",
       "Isla Cristina                       46.744262   140.232786              3.0  \n",
       "Ayamonte                            75.815011   113.722517              3.0  \n",
       "Sierra de Huelva-Andévalo Central   35.613064   146.903889              3.0  \n",
       "Cartaya                             79.669372   229.049445              2.0  \n",
       "Moguer                             128.046829   356.701880              2.0  \n",
       "Beas                               115.180834   552.868003              1.0  \n",
       "Lepe                                21.520803    68.149211              1.0  \n",
       "Lucena del Puerto                  459.981601  1287.948482              1.0  \n",
       "Palma del Condado (La)              64.808814   129.617628              1.0  \n",
       "Punta Umbría                        45.587756   149.788343              1.0  \n",
       "Cumbres de San Bartolomé           265.957447  1595.744681              NaN  \n",
       "Galaroza                            72.358900   651.230101              NaN  \n",
       "Santa Ana la Real                  210.526316   842.105263              NaN  "
      ],
      "text/html": "<div>\n<style scoped>\n    .dataframe tbody tr th:only-of-type {\n        vertical-align: middle;\n    }\n\n    .dataframe tbody tr th {\n        vertical-align: top;\n    }\n\n    .dataframe thead th {\n        text-align: right;\n    }\n</style>\n<table border=\"1\" class=\"dataframe\">\n  <thead>\n    <tr style=\"text-align: right;\">\n      <th>Medida</th>\n      <th>Confirmados PDIA</th>\n      <th>Confirmados PDIA 7 días</th>\n      <th>Confirmados PDIA 14 días</th>\n      <th>Población</th>\n      <th>tasa7</th>\n      <th>tasa14</th>\n      <th>Diferencia PDIA</th>\n    </tr>\n    <tr>\n      <th>Lugar de residencia</th>\n      <th></th>\n      <th></th>\n      <th></th>\n      <th></th>\n      <th></th>\n      <th></th>\n      <th></th>\n    </tr>\n  </thead>\n  <tbody>\n    <tr>\n      <th>Huelva</th>\n      <td>28679.0</td>\n      <td>440.0</td>\n      <td>1085.0</td>\n      <td>513170.0</td>\n      <td>85.741567</td>\n      <td>211.430910</td>\n      <td>77.0</td>\n    </tr>\n    <tr>\n      <th>Huelva-Costa</th>\n      <td>16704.0</td>\n      <td>182.0</td>\n      <td>404.0</td>\n      <td>289548.0</td>\n      <td>62.856590</td>\n      <td>139.527816</td>\n      <td>40.0</td>\n    </tr>\n    <tr>\n      <th>Condado-Campiña</th>\n      <td>9054.0</td>\n      <td>227.0</td>\n      <td>569.0</td>\n      <td>156231.0</td>\n      <td>145.297668</td>\n      <td>364.204287</td>\n      <td>38.0</td>\n    </tr>\n    <tr>\n      <th>Huelva (capital)</th>\n      <td>7440.0</td>\n      <td>113.0</td>\n      <td>237.0</td>\n      <td>143837.0</td>\n      <td>78.561149</td>\n      <td>164.769844</td>\n      <td>26.0</td>\n    </tr>\n    <tr>\n      <th>Almonte</th>\n      <td>1540.0</td>\n      <td>69.0</td>\n      <td>172.0</td>\n      <td>24507.0</td>\n      <td>281.552210</td>\n      <td>701.840291</td>\n      <td>19.0</td>\n    </tr>\n    <tr>\n      <th>Bollullos Par del Condado</th>\n      <td>831.0</td>\n      <td>44.0</td>\n      <td>80.0</td>\n      <td>14387.0</td>\n      <td>305.831654</td>\n      <td>556.057552</td>\n      <td>10.0</td>\n    </tr>\n    <tr>\n      <th>Palos de la Frontera</th>\n      <td>586.0</td>\n      <td>11.0</td>\n      <td>26.0</td>\n      <td>11742.0</td>\n      <td>93.680804</td>\n      <td>221.427355</td>\n      <td>4.0</td>\n    </tr>\n    <tr>\n      <th>Aljaraque</th>\n      <td>1005.0</td>\n      <td>13.0</td>\n      <td>22.0</td>\n      <td>21474.0</td>\n      <td>60.538325</td>\n      <td>102.449474</td>\n      <td>4.0</td>\n    </tr>\n    <tr>\n      <th>Isla Cristina</th>\n      <td>2063.0</td>\n      <td>10.0</td>\n      <td>30.0</td>\n      <td>21393.0</td>\n      <td>46.744262</td>\n      <td>140.232786</td>\n      <td>3.0</td>\n    </tr>\n    <tr>\n      <th>Ayamonte</th>\n      <td>1287.0</td>\n      <td>16.0</td>\n      <td>24.0</td>\n      <td>21104.0</td>\n      <td>75.815011</td>\n      <td>113.722517</td>\n      <td>3.0</td>\n    </tr>\n    <tr>\n      <th>Sierra de Huelva-Andévalo Central</th>\n      <td>2550.0</td>\n      <td>24.0</td>\n      <td>99.0</td>\n      <td>67391.0</td>\n      <td>35.613064</td>\n      <td>146.903889</td>\n      <td>3.0</td>\n    </tr>\n    <tr>\n      <th>Cartaya</th>\n      <td>1271.0</td>\n      <td>16.0</td>\n      <td>46.0</td>\n      <td>20083.0</td>\n      <td>79.669372</td>\n      <td>229.049445</td>\n      <td>2.0</td>\n    </tr>\n    <tr>\n      <th>Moguer</th>\n      <td>1107.0</td>\n      <td>28.0</td>\n      <td>78.0</td>\n      <td>21867.0</td>\n      <td>128.046829</td>\n      <td>356.701880</td>\n      <td>2.0</td>\n    </tr>\n    <tr>\n      <th>Beas</th>\n      <td>198.0</td>\n      <td>5.0</td>\n      <td>24.0</td>\n      <td>4341.0</td>\n      <td>115.180834</td>\n      <td>552.868003</td>\n      <td>1.0</td>\n    </tr>\n    <tr>\n      <th>Lepe</th>\n      <td>2083.0</td>\n      <td>6.0</td>\n      <td>19.0</td>\n      <td>27880.0</td>\n      <td>21.520803</td>\n      <td>68.149211</td>\n      <td>1.0</td>\n    </tr>\n    <tr>\n      <th>Lucena del Puerto</th>\n      <td>233.0</td>\n      <td>15.0</td>\n      <td>42.0</td>\n      <td>3261.0</td>\n      <td>459.981601</td>\n      <td>1287.948482</td>\n      <td>1.0</td>\n    </tr>\n    <tr>\n      <th>Palma del Condado (La)</th>\n      <td>1037.0</td>\n      <td>7.0</td>\n      <td>14.0</td>\n      <td>10801.0</td>\n      <td>64.808814</td>\n      <td>129.617628</td>\n      <td>1.0</td>\n    </tr>\n    <tr>\n      <th>Punta Umbría</th>\n      <td>713.0</td>\n      <td>7.0</td>\n      <td>23.0</td>\n      <td>15355.0</td>\n      <td>45.587756</td>\n      <td>149.788343</td>\n      <td>1.0</td>\n    </tr>\n    <tr>\n      <th>Cumbres de San Bartolomé</th>\n      <td>11.0</td>\n      <td>1.0</td>\n      <td>6.0</td>\n      <td>376.0</td>\n      <td>265.957447</td>\n      <td>1595.744681</td>\n      <td>NaN</td>\n    </tr>\n    <tr>\n      <th>Galaroza</th>\n      <td>28.0</td>\n      <td>1.0</td>\n      <td>9.0</td>\n      <td>1382.0</td>\n      <td>72.358900</td>\n      <td>651.230101</td>\n      <td>NaN</td>\n    </tr>\n    <tr>\n      <th>Santa Ana la Real</th>\n      <td>10.0</td>\n      <td>1.0</td>\n      <td>4.0</td>\n      <td>475.0</td>\n      <td>210.526316</td>\n      <td>842.105263</td>\n      <td>NaN</td>\n    </tr>\n  </tbody>\n</table>\n</div>"
     },
     "metadata": {},
     "execution_count": 15
    }
   ],
   "source": [
    "# Nuevos casos desde la última captura\n",
    "tabla[tabla['Diferencia PDIA'] != 0].sort_values('Diferencia PDIA', ascending=False)"
   ]
  },
  {
   "cell_type": "code",
   "execution_count": 16,
   "metadata": {},
   "outputs": [],
   "source": [
    "if tabla[tabla['Diferencia PDIA'] != 0]['Diferencia PDIA'].sum() != 0:\n",
    "  # Save to csv\n",
    "  tabla.to_csv('covid_huelva.csv', encoding='utf-8', header=True, index=True)  "
   ]
  },
  {
   "cell_type": "code",
   "execution_count": 17,
   "metadata": {},
   "outputs": [
    {
     "output_type": "execute_result",
     "data": {
      "text/plain": [
       "Medida                             Confirmados PDIA  Confirmados PDIA 7 días  \\\n",
       "Lugar de residencia                                                            \n",
       "Cumbres de San Bartolomé                       11.0                      1.0   \n",
       "Lucena del Puerto                             233.0                     15.0   \n",
       "Cortelazor                                      7.0                      2.0   \n",
       "Cumbres Mayores                                49.0                      1.0   \n",
       "Santa Ana la Real                              10.0                      1.0   \n",
       "Almonte                                      1540.0                     69.0   \n",
       "Galaroza                                       28.0                      1.0   \n",
       "Bollullos Par del Condado                     831.0                     44.0   \n",
       "Beas                                          198.0                      5.0   \n",
       "Cañaveral de León                               5.0                      2.0   \n",
       "Rociana del Condado                           515.0                     14.0   \n",
       "Bonares                                       255.0                      9.0   \n",
       "Condado-Campiña                              9054.0                    227.0   \n",
       "Moguer                                       1107.0                     28.0   \n",
       "San Juan del Puerto                           450.0                      9.0   \n",
       "Cartaya                                      1271.0                     16.0   \n",
       "Almonaster la Real                             66.0                      2.0   \n",
       "Palos de la Frontera                          586.0                     11.0   \n",
       "Huelva                                      28679.0                    440.0   \n",
       "Trigueros                                     267.0                      5.0   \n",
       "Rosal de la Frontera                           28.0                      2.0   \n",
       "Huelva (capital)                             7440.0                    113.0   \n",
       "Valverde del Camino                           475.0                      4.0   \n",
       "Cortegana                                     199.0                      1.0   \n",
       "Punta Umbría                                  713.0                      7.0   \n",
       "Sierra de Huelva-Andévalo Central            2550.0                     24.0   \n",
       "Niebla                                        195.0                      3.0   \n",
       "Aracena                                       511.0                      4.0   \n",
       "Isla Cristina                                2063.0                     10.0   \n",
       "Huelva-Costa                                16704.0                    182.0   \n",
       "Gibraleón                                     587.0                      6.0   \n",
       "Minas de Riotinto                             112.0                      1.0   \n",
       "Palma del Condado (La)                       1037.0                      7.0   \n",
       "Ayamonte                                     1287.0                     16.0   \n",
       "Aljaraque                                    1005.0                     13.0   \n",
       "Aroche                                         90.0                      1.0   \n",
       "Lepe                                         2083.0                      6.0   \n",
       "Manzanilla                                     85.0                      1.0   \n",
       "Escacena del Campo                            144.0                      1.0   \n",
       "Alosno                                        162.0                      1.0   \n",
       "Nerva                                         154.0                      1.0   \n",
       "\n",
       "Medida                             Confirmados PDIA 14 días  Población  \\\n",
       "Lugar de residencia                                                      \n",
       "Cumbres de San Bartolomé                                6.0      376.0   \n",
       "Lucena del Puerto                                      42.0     3261.0   \n",
       "Cortelazor                                              3.0      299.0   \n",
       "Cumbres Mayores                                        17.0     1749.0   \n",
       "Santa Ana la Real                                       4.0      475.0   \n",
       "Almonte                                               172.0    24507.0   \n",
       "Galaroza                                                9.0     1382.0   \n",
       "Bollullos Par del Condado                              80.0    14387.0   \n",
       "Beas                                                   24.0     4341.0   \n",
       "Cañaveral de León                                       2.0      396.0   \n",
       "Rociana del Condado                                    39.0     7939.0   \n",
       "Bonares                                                26.0     6060.0   \n",
       "Condado-Campiña                                       569.0   156231.0   \n",
       "Moguer                                                 78.0    21867.0   \n",
       "San Juan del Puerto                                    28.0     9411.0   \n",
       "Cartaya                                                46.0    20083.0   \n",
       "Almonaster la Real                                      4.0     1788.0   \n",
       "Palos de la Frontera                                   26.0    11742.0   \n",
       "Huelva                                               1085.0   513170.0   \n",
       "Trigueros                                              14.0     7862.0   \n",
       "Rosal de la Frontera                                    3.0     1697.0   \n",
       "Huelva (capital)                                      237.0   143837.0   \n",
       "Valverde del Camino                                    20.0    12750.0   \n",
       "Cortegana                                               7.0     4602.0   \n",
       "Punta Umbría                                           23.0    15355.0   \n",
       "Sierra de Huelva-Andévalo Central                      99.0    67391.0   \n",
       "Niebla                                                  6.0     4116.0   \n",
       "Aracena                                                12.0     8255.0   \n",
       "Isla Cristina                                          30.0    21393.0   \n",
       "Huelva-Costa                                          404.0   289548.0   \n",
       "Gibraleón                                              17.0    12737.0   \n",
       "Minas de Riotinto                                       5.0     3812.0   \n",
       "Palma del Condado (La)                                 14.0    10801.0   \n",
       "Ayamonte                                               24.0    21104.0   \n",
       "Aljaraque                                              22.0    21474.0   \n",
       "Aroche                                                  3.0     3054.0   \n",
       "Lepe                                                   19.0    27880.0   \n",
       "Manzanilla                                              1.0     2118.0   \n",
       "Escacena del Campo                                      1.0     2287.0   \n",
       "Alosno                                                  1.0     3933.0   \n",
       "Nerva                                                   1.0     5169.0   \n",
       "\n",
       "Medida                                  tasa7       tasa14  Diferencia PDIA  \n",
       "Lugar de residencia                                                          \n",
       "Cumbres de San Bartolomé           265.957447  1595.744681              NaN  \n",
       "Lucena del Puerto                  459.981601  1287.948482              1.0  \n",
       "Cortelazor                         668.896321  1003.344482              0.0  \n",
       "Cumbres Mayores                     57.175529   971.983991              0.0  \n",
       "Santa Ana la Real                  210.526316   842.105263              NaN  \n",
       "Almonte                            281.552210   701.840291             19.0  \n",
       "Galaroza                            72.358900   651.230101              NaN  \n",
       "Bollullos Par del Condado          305.831654   556.057552             10.0  \n",
       "Beas                               115.180834   552.868003              1.0  \n",
       "Cañaveral de León                  505.050505   505.050505              0.0  \n",
       "Rociana del Condado                176.344628   491.245749              0.0  \n",
       "Bonares                            148.514851   429.042904              0.0  \n",
       "Condado-Campiña                    145.297668   364.204287             38.0  \n",
       "Moguer                             128.046829   356.701880              2.0  \n",
       "San Juan del Puerto                 95.632770   297.524174              0.0  \n",
       "Cartaya                             79.669372   229.049445              2.0  \n",
       "Almonaster la Real                 111.856823   223.713647              0.0  \n",
       "Palos de la Frontera                93.680804   221.427355              4.0  \n",
       "Huelva                              85.741567   211.430910             77.0  \n",
       "Trigueros                           63.597049   178.071737              0.0  \n",
       "Rosal de la Frontera               117.855038   176.782557              0.0  \n",
       "Huelva (capital)                    78.561149   164.769844             26.0  \n",
       "Valverde del Camino                 31.372549   156.862745              0.0  \n",
       "Cortegana                           21.729683   152.107779              0.0  \n",
       "Punta Umbría                        45.587756   149.788343              1.0  \n",
       "Sierra de Huelva-Andévalo Central   35.613064   146.903889              3.0  \n",
       "Niebla                              72.886297   145.772595              0.0  \n",
       "Aracena                             48.455482   145.366445              0.0  \n",
       "Isla Cristina                       46.744262   140.232786              3.0  \n",
       "Huelva-Costa                        62.856590   139.527816             40.0  \n",
       "Gibraleón                           47.106854   133.469420              0.0  \n",
       "Minas de Riotinto                   26.232949   131.164743              0.0  \n",
       "Palma del Condado (La)              64.808814   129.617628              1.0  \n",
       "Ayamonte                            75.815011   113.722517              3.0  \n",
       "Aljaraque                           60.538325   102.449474              4.0  \n",
       "Aroche                              32.743942    98.231827              0.0  \n",
       "Lepe                                21.520803    68.149211              1.0  \n",
       "Manzanilla                          47.214353    47.214353              0.0  \n",
       "Escacena del Campo                  43.725404    43.725404              0.0  \n",
       "Alosno                              25.425884    25.425884              0.0  \n",
       "Nerva                               19.346102    19.346102              0.0  "
      ],
      "text/html": "<div>\n<style scoped>\n    .dataframe tbody tr th:only-of-type {\n        vertical-align: middle;\n    }\n\n    .dataframe tbody tr th {\n        vertical-align: top;\n    }\n\n    .dataframe thead th {\n        text-align: right;\n    }\n</style>\n<table border=\"1\" class=\"dataframe\">\n  <thead>\n    <tr style=\"text-align: right;\">\n      <th>Medida</th>\n      <th>Confirmados PDIA</th>\n      <th>Confirmados PDIA 7 días</th>\n      <th>Confirmados PDIA 14 días</th>\n      <th>Población</th>\n      <th>tasa7</th>\n      <th>tasa14</th>\n      <th>Diferencia PDIA</th>\n    </tr>\n    <tr>\n      <th>Lugar de residencia</th>\n      <th></th>\n      <th></th>\n      <th></th>\n      <th></th>\n      <th></th>\n      <th></th>\n      <th></th>\n    </tr>\n  </thead>\n  <tbody>\n    <tr>\n      <th>Cumbres de San Bartolomé</th>\n      <td>11.0</td>\n      <td>1.0</td>\n      <td>6.0</td>\n      <td>376.0</td>\n      <td>265.957447</td>\n      <td>1595.744681</td>\n      <td>NaN</td>\n    </tr>\n    <tr>\n      <th>Lucena del Puerto</th>\n      <td>233.0</td>\n      <td>15.0</td>\n      <td>42.0</td>\n      <td>3261.0</td>\n      <td>459.981601</td>\n      <td>1287.948482</td>\n      <td>1.0</td>\n    </tr>\n    <tr>\n      <th>Cortelazor</th>\n      <td>7.0</td>\n      <td>2.0</td>\n      <td>3.0</td>\n      <td>299.0</td>\n      <td>668.896321</td>\n      <td>1003.344482</td>\n      <td>0.0</td>\n    </tr>\n    <tr>\n      <th>Cumbres Mayores</th>\n      <td>49.0</td>\n      <td>1.0</td>\n      <td>17.0</td>\n      <td>1749.0</td>\n      <td>57.175529</td>\n      <td>971.983991</td>\n      <td>0.0</td>\n    </tr>\n    <tr>\n      <th>Santa Ana la Real</th>\n      <td>10.0</td>\n      <td>1.0</td>\n      <td>4.0</td>\n      <td>475.0</td>\n      <td>210.526316</td>\n      <td>842.105263</td>\n      <td>NaN</td>\n    </tr>\n    <tr>\n      <th>Almonte</th>\n      <td>1540.0</td>\n      <td>69.0</td>\n      <td>172.0</td>\n      <td>24507.0</td>\n      <td>281.552210</td>\n      <td>701.840291</td>\n      <td>19.0</td>\n    </tr>\n    <tr>\n      <th>Galaroza</th>\n      <td>28.0</td>\n      <td>1.0</td>\n      <td>9.0</td>\n      <td>1382.0</td>\n      <td>72.358900</td>\n      <td>651.230101</td>\n      <td>NaN</td>\n    </tr>\n    <tr>\n      <th>Bollullos Par del Condado</th>\n      <td>831.0</td>\n      <td>44.0</td>\n      <td>80.0</td>\n      <td>14387.0</td>\n      <td>305.831654</td>\n      <td>556.057552</td>\n      <td>10.0</td>\n    </tr>\n    <tr>\n      <th>Beas</th>\n      <td>198.0</td>\n      <td>5.0</td>\n      <td>24.0</td>\n      <td>4341.0</td>\n      <td>115.180834</td>\n      <td>552.868003</td>\n      <td>1.0</td>\n    </tr>\n    <tr>\n      <th>Cañaveral de León</th>\n      <td>5.0</td>\n      <td>2.0</td>\n      <td>2.0</td>\n      <td>396.0</td>\n      <td>505.050505</td>\n      <td>505.050505</td>\n      <td>0.0</td>\n    </tr>\n    <tr>\n      <th>Rociana del Condado</th>\n      <td>515.0</td>\n      <td>14.0</td>\n      <td>39.0</td>\n      <td>7939.0</td>\n      <td>176.344628</td>\n      <td>491.245749</td>\n      <td>0.0</td>\n    </tr>\n    <tr>\n      <th>Bonares</th>\n      <td>255.0</td>\n      <td>9.0</td>\n      <td>26.0</td>\n      <td>6060.0</td>\n      <td>148.514851</td>\n      <td>429.042904</td>\n      <td>0.0</td>\n    </tr>\n    <tr>\n      <th>Condado-Campiña</th>\n      <td>9054.0</td>\n      <td>227.0</td>\n      <td>569.0</td>\n      <td>156231.0</td>\n      <td>145.297668</td>\n      <td>364.204287</td>\n      <td>38.0</td>\n    </tr>\n    <tr>\n      <th>Moguer</th>\n      <td>1107.0</td>\n      <td>28.0</td>\n      <td>78.0</td>\n      <td>21867.0</td>\n      <td>128.046829</td>\n      <td>356.701880</td>\n      <td>2.0</td>\n    </tr>\n    <tr>\n      <th>San Juan del Puerto</th>\n      <td>450.0</td>\n      <td>9.0</td>\n      <td>28.0</td>\n      <td>9411.0</td>\n      <td>95.632770</td>\n      <td>297.524174</td>\n      <td>0.0</td>\n    </tr>\n    <tr>\n      <th>Cartaya</th>\n      <td>1271.0</td>\n      <td>16.0</td>\n      <td>46.0</td>\n      <td>20083.0</td>\n      <td>79.669372</td>\n      <td>229.049445</td>\n      <td>2.0</td>\n    </tr>\n    <tr>\n      <th>Almonaster la Real</th>\n      <td>66.0</td>\n      <td>2.0</td>\n      <td>4.0</td>\n      <td>1788.0</td>\n      <td>111.856823</td>\n      <td>223.713647</td>\n      <td>0.0</td>\n    </tr>\n    <tr>\n      <th>Palos de la Frontera</th>\n      <td>586.0</td>\n      <td>11.0</td>\n      <td>26.0</td>\n      <td>11742.0</td>\n      <td>93.680804</td>\n      <td>221.427355</td>\n      <td>4.0</td>\n    </tr>\n    <tr>\n      <th>Huelva</th>\n      <td>28679.0</td>\n      <td>440.0</td>\n      <td>1085.0</td>\n      <td>513170.0</td>\n      <td>85.741567</td>\n      <td>211.430910</td>\n      <td>77.0</td>\n    </tr>\n    <tr>\n      <th>Trigueros</th>\n      <td>267.0</td>\n      <td>5.0</td>\n      <td>14.0</td>\n      <td>7862.0</td>\n      <td>63.597049</td>\n      <td>178.071737</td>\n      <td>0.0</td>\n    </tr>\n    <tr>\n      <th>Rosal de la Frontera</th>\n      <td>28.0</td>\n      <td>2.0</td>\n      <td>3.0</td>\n      <td>1697.0</td>\n      <td>117.855038</td>\n      <td>176.782557</td>\n      <td>0.0</td>\n    </tr>\n    <tr>\n      <th>Huelva (capital)</th>\n      <td>7440.0</td>\n      <td>113.0</td>\n      <td>237.0</td>\n      <td>143837.0</td>\n      <td>78.561149</td>\n      <td>164.769844</td>\n      <td>26.0</td>\n    </tr>\n    <tr>\n      <th>Valverde del Camino</th>\n      <td>475.0</td>\n      <td>4.0</td>\n      <td>20.0</td>\n      <td>12750.0</td>\n      <td>31.372549</td>\n      <td>156.862745</td>\n      <td>0.0</td>\n    </tr>\n    <tr>\n      <th>Cortegana</th>\n      <td>199.0</td>\n      <td>1.0</td>\n      <td>7.0</td>\n      <td>4602.0</td>\n      <td>21.729683</td>\n      <td>152.107779</td>\n      <td>0.0</td>\n    </tr>\n    <tr>\n      <th>Punta Umbría</th>\n      <td>713.0</td>\n      <td>7.0</td>\n      <td>23.0</td>\n      <td>15355.0</td>\n      <td>45.587756</td>\n      <td>149.788343</td>\n      <td>1.0</td>\n    </tr>\n    <tr>\n      <th>Sierra de Huelva-Andévalo Central</th>\n      <td>2550.0</td>\n      <td>24.0</td>\n      <td>99.0</td>\n      <td>67391.0</td>\n      <td>35.613064</td>\n      <td>146.903889</td>\n      <td>3.0</td>\n    </tr>\n    <tr>\n      <th>Niebla</th>\n      <td>195.0</td>\n      <td>3.0</td>\n      <td>6.0</td>\n      <td>4116.0</td>\n      <td>72.886297</td>\n      <td>145.772595</td>\n      <td>0.0</td>\n    </tr>\n    <tr>\n      <th>Aracena</th>\n      <td>511.0</td>\n      <td>4.0</td>\n      <td>12.0</td>\n      <td>8255.0</td>\n      <td>48.455482</td>\n      <td>145.366445</td>\n      <td>0.0</td>\n    </tr>\n    <tr>\n      <th>Isla Cristina</th>\n      <td>2063.0</td>\n      <td>10.0</td>\n      <td>30.0</td>\n      <td>21393.0</td>\n      <td>46.744262</td>\n      <td>140.232786</td>\n      <td>3.0</td>\n    </tr>\n    <tr>\n      <th>Huelva-Costa</th>\n      <td>16704.0</td>\n      <td>182.0</td>\n      <td>404.0</td>\n      <td>289548.0</td>\n      <td>62.856590</td>\n      <td>139.527816</td>\n      <td>40.0</td>\n    </tr>\n    <tr>\n      <th>Gibraleón</th>\n      <td>587.0</td>\n      <td>6.0</td>\n      <td>17.0</td>\n      <td>12737.0</td>\n      <td>47.106854</td>\n      <td>133.469420</td>\n      <td>0.0</td>\n    </tr>\n    <tr>\n      <th>Minas de Riotinto</th>\n      <td>112.0</td>\n      <td>1.0</td>\n      <td>5.0</td>\n      <td>3812.0</td>\n      <td>26.232949</td>\n      <td>131.164743</td>\n      <td>0.0</td>\n    </tr>\n    <tr>\n      <th>Palma del Condado (La)</th>\n      <td>1037.0</td>\n      <td>7.0</td>\n      <td>14.0</td>\n      <td>10801.0</td>\n      <td>64.808814</td>\n      <td>129.617628</td>\n      <td>1.0</td>\n    </tr>\n    <tr>\n      <th>Ayamonte</th>\n      <td>1287.0</td>\n      <td>16.0</td>\n      <td>24.0</td>\n      <td>21104.0</td>\n      <td>75.815011</td>\n      <td>113.722517</td>\n      <td>3.0</td>\n    </tr>\n    <tr>\n      <th>Aljaraque</th>\n      <td>1005.0</td>\n      <td>13.0</td>\n      <td>22.0</td>\n      <td>21474.0</td>\n      <td>60.538325</td>\n      <td>102.449474</td>\n      <td>4.0</td>\n    </tr>\n    <tr>\n      <th>Aroche</th>\n      <td>90.0</td>\n      <td>1.0</td>\n      <td>3.0</td>\n      <td>3054.0</td>\n      <td>32.743942</td>\n      <td>98.231827</td>\n      <td>0.0</td>\n    </tr>\n    <tr>\n      <th>Lepe</th>\n      <td>2083.0</td>\n      <td>6.0</td>\n      <td>19.0</td>\n      <td>27880.0</td>\n      <td>21.520803</td>\n      <td>68.149211</td>\n      <td>1.0</td>\n    </tr>\n    <tr>\n      <th>Manzanilla</th>\n      <td>85.0</td>\n      <td>1.0</td>\n      <td>1.0</td>\n      <td>2118.0</td>\n      <td>47.214353</td>\n      <td>47.214353</td>\n      <td>0.0</td>\n    </tr>\n    <tr>\n      <th>Escacena del Campo</th>\n      <td>144.0</td>\n      <td>1.0</td>\n      <td>1.0</td>\n      <td>2287.0</td>\n      <td>43.725404</td>\n      <td>43.725404</td>\n      <td>0.0</td>\n    </tr>\n    <tr>\n      <th>Alosno</th>\n      <td>162.0</td>\n      <td>1.0</td>\n      <td>1.0</td>\n      <td>3933.0</td>\n      <td>25.425884</td>\n      <td>25.425884</td>\n      <td>0.0</td>\n    </tr>\n    <tr>\n      <th>Nerva</th>\n      <td>154.0</td>\n      <td>1.0</td>\n      <td>1.0</td>\n      <td>5169.0</td>\n      <td>19.346102</td>\n      <td>19.346102</td>\n      <td>0.0</td>\n    </tr>\n  </tbody>\n</table>\n</div>"
     },
     "metadata": {},
     "execution_count": 17
    }
   ],
   "source": [
    "tabla.sort_values('tasa14', ascending=False)"
   ]
  },
  {
   "cell_type": "code",
   "execution_count": 18,
   "metadata": {},
   "outputs": [
    {
     "output_type": "execute_result",
     "data": {
      "text/plain": [
       "Medida                             Confirmados PDIA  Confirmados PDIA 7 días  \\\n",
       "Lugar de residencia                                                            \n",
       "Cumbres Mayores                                49.0                      1.0   \n",
       "Galaroza                                       28.0                      1.0   \n",
       "Cortegana                                     199.0                      1.0   \n",
       "Cumbres de San Bartolomé                       11.0                      1.0   \n",
       "Valverde del Camino                           475.0                      4.0   \n",
       "Minas de Riotinto                             112.0                      1.0   \n",
       "Beas                                          198.0                      5.0   \n",
       "Sierra de Huelva-Andévalo Central            2550.0                     24.0   \n",
       "Santa Ana la Real                              10.0                      1.0   \n",
       "Punta Umbría                                  713.0                      7.0   \n",
       "Lepe                                         2083.0                      6.0   \n",
       "San Juan del Puerto                           450.0                      9.0   \n",
       "Aracena                                       511.0                      4.0   \n",
       "Aroche                                         90.0                      1.0   \n",
       "Isla Cristina                                2063.0                     10.0   \n",
       "Bonares                                       255.0                      9.0   \n",
       "Cartaya                                      1271.0                     16.0   \n",
       "Gibraleón                                     587.0                      6.0   \n",
       "Lucena del Puerto                             233.0                     15.0   \n",
       "Trigueros                                     267.0                      5.0   \n",
       "Moguer                                       1107.0                     28.0   \n",
       "Rociana del Condado                           515.0                     14.0   \n",
       "Condado-Campiña                              9054.0                    227.0   \n",
       "Almonte                                      1540.0                     69.0   \n",
       "Huelva                                      28679.0                    440.0   \n",
       "Palos de la Frontera                          586.0                     11.0   \n",
       "Huelva-Costa                                16704.0                    182.0   \n",
       "Huelva (capital)                             7440.0                    113.0   \n",
       "Niebla                                        195.0                      3.0   \n",
       "Palma del Condado (La)                       1037.0                      7.0   \n",
       "Almonaster la Real                             66.0                      2.0   \n",
       "Bollullos Par del Condado                     831.0                     44.0   \n",
       "Aljaraque                                    1005.0                     13.0   \n",
       "Cortelazor                                      7.0                      2.0   \n",
       "Ayamonte                                     1287.0                     16.0   \n",
       "Rosal de la Frontera                           28.0                      2.0   \n",
       "Manzanilla                                     85.0                      1.0   \n",
       "Escacena del Campo                            144.0                      1.0   \n",
       "Nerva                                         154.0                      1.0   \n",
       "Cañaveral de León                               5.0                      2.0   \n",
       "Alosno                                        162.0                      1.0   \n",
       "\n",
       "Medida                             Confirmados PDIA 14 días  Población  \\\n",
       "Lugar de residencia                                                      \n",
       "Cumbres Mayores                                        17.0     1749.0   \n",
       "Galaroza                                                9.0     1382.0   \n",
       "Cortegana                                               7.0     4602.0   \n",
       "Cumbres de San Bartolomé                                6.0      376.0   \n",
       "Valverde del Camino                                    20.0    12750.0   \n",
       "Minas de Riotinto                                       5.0     3812.0   \n",
       "Beas                                                   24.0     4341.0   \n",
       "Sierra de Huelva-Andévalo Central                      99.0    67391.0   \n",
       "Santa Ana la Real                                       4.0      475.0   \n",
       "Punta Umbría                                           23.0    15355.0   \n",
       "Lepe                                                   19.0    27880.0   \n",
       "San Juan del Puerto                                    28.0     9411.0   \n",
       "Aracena                                                12.0     8255.0   \n",
       "Aroche                                                  3.0     3054.0   \n",
       "Isla Cristina                                          30.0    21393.0   \n",
       "Bonares                                                26.0     6060.0   \n",
       "Cartaya                                                46.0    20083.0   \n",
       "Gibraleón                                              17.0    12737.0   \n",
       "Lucena del Puerto                                      42.0     3261.0   \n",
       "Trigueros                                              14.0     7862.0   \n",
       "Moguer                                                 78.0    21867.0   \n",
       "Rociana del Condado                                    39.0     7939.0   \n",
       "Condado-Campiña                                       569.0   156231.0   \n",
       "Almonte                                               172.0    24507.0   \n",
       "Huelva                                               1085.0   513170.0   \n",
       "Palos de la Frontera                                   26.0    11742.0   \n",
       "Huelva-Costa                                          404.0   289548.0   \n",
       "Huelva (capital)                                      237.0   143837.0   \n",
       "Niebla                                                  6.0     4116.0   \n",
       "Palma del Condado (La)                                 14.0    10801.0   \n",
       "Almonaster la Real                                      4.0     1788.0   \n",
       "Bollullos Par del Condado                              80.0    14387.0   \n",
       "Aljaraque                                              22.0    21474.0   \n",
       "Cortelazor                                              3.0      299.0   \n",
       "Ayamonte                                               24.0    21104.0   \n",
       "Rosal de la Frontera                                    3.0     1697.0   \n",
       "Manzanilla                                              1.0     2118.0   \n",
       "Escacena del Campo                                      1.0     2287.0   \n",
       "Nerva                                                   1.0     5169.0   \n",
       "Cañaveral de León                                       2.0      396.0   \n",
       "Alosno                                                  1.0     3933.0   \n",
       "\n",
       "Medida                                  tasa7       tasa14  Diferencia PDIA  \\\n",
       "Lugar de residencia                                                           \n",
       "Cumbres Mayores                     57.175529   971.983991              0.0   \n",
       "Galaroza                            72.358900   651.230101              0.0   \n",
       "Cortegana                           21.729683   152.107779              0.0   \n",
       "Cumbres de San Bartolomé           265.957447  1595.744681              0.0   \n",
       "Valverde del Camino                 31.372549   156.862745              0.0   \n",
       "Minas de Riotinto                   26.232949   131.164743              0.0   \n",
       "Beas                               115.180834   552.868003              1.0   \n",
       "Sierra de Huelva-Andévalo Central   35.613064   146.903889              3.0   \n",
       "Santa Ana la Real                  210.526316   842.105263              0.0   \n",
       "Punta Umbría                        45.587756   149.788343              1.0   \n",
       "Lepe                                21.520803    68.149211              1.0   \n",
       "San Juan del Puerto                 95.632770   297.524174              0.0   \n",
       "Aracena                             48.455482   145.366445              0.0   \n",
       "Aroche                              32.743942    98.231827              0.0   \n",
       "Isla Cristina                       46.744262   140.232786              3.0   \n",
       "Bonares                            148.514851   429.042904              0.0   \n",
       "Cartaya                             79.669372   229.049445              2.0   \n",
       "Gibraleón                           47.106854   133.469420              0.0   \n",
       "Lucena del Puerto                  459.981601  1287.948482              1.0   \n",
       "Trigueros                           63.597049   178.071737              0.0   \n",
       "Moguer                             128.046829   356.701880              2.0   \n",
       "Rociana del Condado                176.344628   491.245749              0.0   \n",
       "Condado-Campiña                    145.297668   364.204287             38.0   \n",
       "Almonte                            281.552210   701.840291             19.0   \n",
       "Huelva                              85.741567   211.430910             77.0   \n",
       "Palos de la Frontera                93.680804   221.427355              4.0   \n",
       "Huelva-Costa                        62.856590   139.527816             40.0   \n",
       "Huelva (capital)                    78.561149   164.769844             26.0   \n",
       "Niebla                              72.886297   145.772595              0.0   \n",
       "Palma del Condado (La)              64.808814   129.617628              1.0   \n",
       "Almonaster la Real                 111.856823   223.713647              0.0   \n",
       "Bollullos Par del Condado          305.831654   556.057552             10.0   \n",
       "Aljaraque                           60.538325   102.449474              4.0   \n",
       "Cortelazor                         668.896321  1003.344482              0.0   \n",
       "Ayamonte                            75.815011   113.722517              3.0   \n",
       "Rosal de la Frontera               117.855038   176.782557              0.0   \n",
       "Manzanilla                          47.214353    47.214353              0.0   \n",
       "Escacena del Campo                  43.725404    43.725404              0.0   \n",
       "Nerva                               19.346102    19.346102              0.0   \n",
       "Cañaveral de León                  505.050505   505.050505              0.0   \n",
       "Alosno                              25.425884    25.425884              0.0   \n",
       "\n",
       "Medida                                 7/14  \n",
       "Lugar de residencia                          \n",
       "Cumbres Mayores                    0.058824  \n",
       "Galaroza                           0.111111  \n",
       "Cortegana                          0.142857  \n",
       "Cumbres de San Bartolomé           0.166667  \n",
       "Valverde del Camino                0.200000  \n",
       "Minas de Riotinto                  0.200000  \n",
       "Beas                               0.208333  \n",
       "Sierra de Huelva-Andévalo Central  0.242424  \n",
       "Santa Ana la Real                  0.250000  \n",
       "Punta Umbría                       0.304348  \n",
       "Lepe                               0.315789  \n",
       "San Juan del Puerto                0.321429  \n",
       "Aracena                            0.333333  \n",
       "Aroche                             0.333333  \n",
       "Isla Cristina                      0.333333  \n",
       "Bonares                            0.346154  \n",
       "Cartaya                            0.347826  \n",
       "Gibraleón                          0.352941  \n",
       "Lucena del Puerto                  0.357143  \n",
       "Trigueros                          0.357143  \n",
       "Moguer                             0.358974  \n",
       "Rociana del Condado                0.358974  \n",
       "Condado-Campiña                    0.398946  \n",
       "Almonte                            0.401163  \n",
       "Huelva                             0.405530  \n",
       "Palos de la Frontera               0.423077  \n",
       "Huelva-Costa                       0.450495  \n",
       "Huelva (capital)                   0.476793  \n",
       "Niebla                             0.500000  \n",
       "Palma del Condado (La)             0.500000  \n",
       "Almonaster la Real                 0.500000  \n",
       "Bollullos Par del Condado          0.550000  \n",
       "Aljaraque                          0.590909  \n",
       "Cortelazor                         0.666667  \n",
       "Ayamonte                           0.666667  \n",
       "Rosal de la Frontera               0.666667  \n",
       "Manzanilla                         1.000000  \n",
       "Escacena del Campo                 1.000000  \n",
       "Nerva                              1.000000  \n",
       "Cañaveral de León                  1.000000  \n",
       "Alosno                             1.000000  "
      ],
      "text/html": "<div>\n<style scoped>\n    .dataframe tbody tr th:only-of-type {\n        vertical-align: middle;\n    }\n\n    .dataframe tbody tr th {\n        vertical-align: top;\n    }\n\n    .dataframe thead th {\n        text-align: right;\n    }\n</style>\n<table border=\"1\" class=\"dataframe\">\n  <thead>\n    <tr style=\"text-align: right;\">\n      <th>Medida</th>\n      <th>Confirmados PDIA</th>\n      <th>Confirmados PDIA 7 días</th>\n      <th>Confirmados PDIA 14 días</th>\n      <th>Población</th>\n      <th>tasa7</th>\n      <th>tasa14</th>\n      <th>Diferencia PDIA</th>\n      <th>7/14</th>\n    </tr>\n    <tr>\n      <th>Lugar de residencia</th>\n      <th></th>\n      <th></th>\n      <th></th>\n      <th></th>\n      <th></th>\n      <th></th>\n      <th></th>\n      <th></th>\n    </tr>\n  </thead>\n  <tbody>\n    <tr>\n      <th>Cumbres Mayores</th>\n      <td>49.0</td>\n      <td>1.0</td>\n      <td>17.0</td>\n      <td>1749.0</td>\n      <td>57.175529</td>\n      <td>971.983991</td>\n      <td>0.0</td>\n      <td>0.058824</td>\n    </tr>\n    <tr>\n      <th>Galaroza</th>\n      <td>28.0</td>\n      <td>1.0</td>\n      <td>9.0</td>\n      <td>1382.0</td>\n      <td>72.358900</td>\n      <td>651.230101</td>\n      <td>0.0</td>\n      <td>0.111111</td>\n    </tr>\n    <tr>\n      <th>Cortegana</th>\n      <td>199.0</td>\n      <td>1.0</td>\n      <td>7.0</td>\n      <td>4602.0</td>\n      <td>21.729683</td>\n      <td>152.107779</td>\n      <td>0.0</td>\n      <td>0.142857</td>\n    </tr>\n    <tr>\n      <th>Cumbres de San Bartolomé</th>\n      <td>11.0</td>\n      <td>1.0</td>\n      <td>6.0</td>\n      <td>376.0</td>\n      <td>265.957447</td>\n      <td>1595.744681</td>\n      <td>0.0</td>\n      <td>0.166667</td>\n    </tr>\n    <tr>\n      <th>Valverde del Camino</th>\n      <td>475.0</td>\n      <td>4.0</td>\n      <td>20.0</td>\n      <td>12750.0</td>\n      <td>31.372549</td>\n      <td>156.862745</td>\n      <td>0.0</td>\n      <td>0.200000</td>\n    </tr>\n    <tr>\n      <th>Minas de Riotinto</th>\n      <td>112.0</td>\n      <td>1.0</td>\n      <td>5.0</td>\n      <td>3812.0</td>\n      <td>26.232949</td>\n      <td>131.164743</td>\n      <td>0.0</td>\n      <td>0.200000</td>\n    </tr>\n    <tr>\n      <th>Beas</th>\n      <td>198.0</td>\n      <td>5.0</td>\n      <td>24.0</td>\n      <td>4341.0</td>\n      <td>115.180834</td>\n      <td>552.868003</td>\n      <td>1.0</td>\n      <td>0.208333</td>\n    </tr>\n    <tr>\n      <th>Sierra de Huelva-Andévalo Central</th>\n      <td>2550.0</td>\n      <td>24.0</td>\n      <td>99.0</td>\n      <td>67391.0</td>\n      <td>35.613064</td>\n      <td>146.903889</td>\n      <td>3.0</td>\n      <td>0.242424</td>\n    </tr>\n    <tr>\n      <th>Santa Ana la Real</th>\n      <td>10.0</td>\n      <td>1.0</td>\n      <td>4.0</td>\n      <td>475.0</td>\n      <td>210.526316</td>\n      <td>842.105263</td>\n      <td>0.0</td>\n      <td>0.250000</td>\n    </tr>\n    <tr>\n      <th>Punta Umbría</th>\n      <td>713.0</td>\n      <td>7.0</td>\n      <td>23.0</td>\n      <td>15355.0</td>\n      <td>45.587756</td>\n      <td>149.788343</td>\n      <td>1.0</td>\n      <td>0.304348</td>\n    </tr>\n    <tr>\n      <th>Lepe</th>\n      <td>2083.0</td>\n      <td>6.0</td>\n      <td>19.0</td>\n      <td>27880.0</td>\n      <td>21.520803</td>\n      <td>68.149211</td>\n      <td>1.0</td>\n      <td>0.315789</td>\n    </tr>\n    <tr>\n      <th>San Juan del Puerto</th>\n      <td>450.0</td>\n      <td>9.0</td>\n      <td>28.0</td>\n      <td>9411.0</td>\n      <td>95.632770</td>\n      <td>297.524174</td>\n      <td>0.0</td>\n      <td>0.321429</td>\n    </tr>\n    <tr>\n      <th>Aracena</th>\n      <td>511.0</td>\n      <td>4.0</td>\n      <td>12.0</td>\n      <td>8255.0</td>\n      <td>48.455482</td>\n      <td>145.366445</td>\n      <td>0.0</td>\n      <td>0.333333</td>\n    </tr>\n    <tr>\n      <th>Aroche</th>\n      <td>90.0</td>\n      <td>1.0</td>\n      <td>3.0</td>\n      <td>3054.0</td>\n      <td>32.743942</td>\n      <td>98.231827</td>\n      <td>0.0</td>\n      <td>0.333333</td>\n    </tr>\n    <tr>\n      <th>Isla Cristina</th>\n      <td>2063.0</td>\n      <td>10.0</td>\n      <td>30.0</td>\n      <td>21393.0</td>\n      <td>46.744262</td>\n      <td>140.232786</td>\n      <td>3.0</td>\n      <td>0.333333</td>\n    </tr>\n    <tr>\n      <th>Bonares</th>\n      <td>255.0</td>\n      <td>9.0</td>\n      <td>26.0</td>\n      <td>6060.0</td>\n      <td>148.514851</td>\n      <td>429.042904</td>\n      <td>0.0</td>\n      <td>0.346154</td>\n    </tr>\n    <tr>\n      <th>Cartaya</th>\n      <td>1271.0</td>\n      <td>16.0</td>\n      <td>46.0</td>\n      <td>20083.0</td>\n      <td>79.669372</td>\n      <td>229.049445</td>\n      <td>2.0</td>\n      <td>0.347826</td>\n    </tr>\n    <tr>\n      <th>Gibraleón</th>\n      <td>587.0</td>\n      <td>6.0</td>\n      <td>17.0</td>\n      <td>12737.0</td>\n      <td>47.106854</td>\n      <td>133.469420</td>\n      <td>0.0</td>\n      <td>0.352941</td>\n    </tr>\n    <tr>\n      <th>Lucena del Puerto</th>\n      <td>233.0</td>\n      <td>15.0</td>\n      <td>42.0</td>\n      <td>3261.0</td>\n      <td>459.981601</td>\n      <td>1287.948482</td>\n      <td>1.0</td>\n      <td>0.357143</td>\n    </tr>\n    <tr>\n      <th>Trigueros</th>\n      <td>267.0</td>\n      <td>5.0</td>\n      <td>14.0</td>\n      <td>7862.0</td>\n      <td>63.597049</td>\n      <td>178.071737</td>\n      <td>0.0</td>\n      <td>0.357143</td>\n    </tr>\n    <tr>\n      <th>Moguer</th>\n      <td>1107.0</td>\n      <td>28.0</td>\n      <td>78.0</td>\n      <td>21867.0</td>\n      <td>128.046829</td>\n      <td>356.701880</td>\n      <td>2.0</td>\n      <td>0.358974</td>\n    </tr>\n    <tr>\n      <th>Rociana del Condado</th>\n      <td>515.0</td>\n      <td>14.0</td>\n      <td>39.0</td>\n      <td>7939.0</td>\n      <td>176.344628</td>\n      <td>491.245749</td>\n      <td>0.0</td>\n      <td>0.358974</td>\n    </tr>\n    <tr>\n      <th>Condado-Campiña</th>\n      <td>9054.0</td>\n      <td>227.0</td>\n      <td>569.0</td>\n      <td>156231.0</td>\n      <td>145.297668</td>\n      <td>364.204287</td>\n      <td>38.0</td>\n      <td>0.398946</td>\n    </tr>\n    <tr>\n      <th>Almonte</th>\n      <td>1540.0</td>\n      <td>69.0</td>\n      <td>172.0</td>\n      <td>24507.0</td>\n      <td>281.552210</td>\n      <td>701.840291</td>\n      <td>19.0</td>\n      <td>0.401163</td>\n    </tr>\n    <tr>\n      <th>Huelva</th>\n      <td>28679.0</td>\n      <td>440.0</td>\n      <td>1085.0</td>\n      <td>513170.0</td>\n      <td>85.741567</td>\n      <td>211.430910</td>\n      <td>77.0</td>\n      <td>0.405530</td>\n    </tr>\n    <tr>\n      <th>Palos de la Frontera</th>\n      <td>586.0</td>\n      <td>11.0</td>\n      <td>26.0</td>\n      <td>11742.0</td>\n      <td>93.680804</td>\n      <td>221.427355</td>\n      <td>4.0</td>\n      <td>0.423077</td>\n    </tr>\n    <tr>\n      <th>Huelva-Costa</th>\n      <td>16704.0</td>\n      <td>182.0</td>\n      <td>404.0</td>\n      <td>289548.0</td>\n      <td>62.856590</td>\n      <td>139.527816</td>\n      <td>40.0</td>\n      <td>0.450495</td>\n    </tr>\n    <tr>\n      <th>Huelva (capital)</th>\n      <td>7440.0</td>\n      <td>113.0</td>\n      <td>237.0</td>\n      <td>143837.0</td>\n      <td>78.561149</td>\n      <td>164.769844</td>\n      <td>26.0</td>\n      <td>0.476793</td>\n    </tr>\n    <tr>\n      <th>Niebla</th>\n      <td>195.0</td>\n      <td>3.0</td>\n      <td>6.0</td>\n      <td>4116.0</td>\n      <td>72.886297</td>\n      <td>145.772595</td>\n      <td>0.0</td>\n      <td>0.500000</td>\n    </tr>\n    <tr>\n      <th>Palma del Condado (La)</th>\n      <td>1037.0</td>\n      <td>7.0</td>\n      <td>14.0</td>\n      <td>10801.0</td>\n      <td>64.808814</td>\n      <td>129.617628</td>\n      <td>1.0</td>\n      <td>0.500000</td>\n    </tr>\n    <tr>\n      <th>Almonaster la Real</th>\n      <td>66.0</td>\n      <td>2.0</td>\n      <td>4.0</td>\n      <td>1788.0</td>\n      <td>111.856823</td>\n      <td>223.713647</td>\n      <td>0.0</td>\n      <td>0.500000</td>\n    </tr>\n    <tr>\n      <th>Bollullos Par del Condado</th>\n      <td>831.0</td>\n      <td>44.0</td>\n      <td>80.0</td>\n      <td>14387.0</td>\n      <td>305.831654</td>\n      <td>556.057552</td>\n      <td>10.0</td>\n      <td>0.550000</td>\n    </tr>\n    <tr>\n      <th>Aljaraque</th>\n      <td>1005.0</td>\n      <td>13.0</td>\n      <td>22.0</td>\n      <td>21474.0</td>\n      <td>60.538325</td>\n      <td>102.449474</td>\n      <td>4.0</td>\n      <td>0.590909</td>\n    </tr>\n    <tr>\n      <th>Cortelazor</th>\n      <td>7.0</td>\n      <td>2.0</td>\n      <td>3.0</td>\n      <td>299.0</td>\n      <td>668.896321</td>\n      <td>1003.344482</td>\n      <td>0.0</td>\n      <td>0.666667</td>\n    </tr>\n    <tr>\n      <th>Ayamonte</th>\n      <td>1287.0</td>\n      <td>16.0</td>\n      <td>24.0</td>\n      <td>21104.0</td>\n      <td>75.815011</td>\n      <td>113.722517</td>\n      <td>3.0</td>\n      <td>0.666667</td>\n    </tr>\n    <tr>\n      <th>Rosal de la Frontera</th>\n      <td>28.0</td>\n      <td>2.0</td>\n      <td>3.0</td>\n      <td>1697.0</td>\n      <td>117.855038</td>\n      <td>176.782557</td>\n      <td>0.0</td>\n      <td>0.666667</td>\n    </tr>\n    <tr>\n      <th>Manzanilla</th>\n      <td>85.0</td>\n      <td>1.0</td>\n      <td>1.0</td>\n      <td>2118.0</td>\n      <td>47.214353</td>\n      <td>47.214353</td>\n      <td>0.0</td>\n      <td>1.000000</td>\n    </tr>\n    <tr>\n      <th>Escacena del Campo</th>\n      <td>144.0</td>\n      <td>1.0</td>\n      <td>1.0</td>\n      <td>2287.0</td>\n      <td>43.725404</td>\n      <td>43.725404</td>\n      <td>0.0</td>\n      <td>1.000000</td>\n    </tr>\n    <tr>\n      <th>Nerva</th>\n      <td>154.0</td>\n      <td>1.0</td>\n      <td>1.0</td>\n      <td>5169.0</td>\n      <td>19.346102</td>\n      <td>19.346102</td>\n      <td>0.0</td>\n      <td>1.000000</td>\n    </tr>\n    <tr>\n      <th>Cañaveral de León</th>\n      <td>5.0</td>\n      <td>2.0</td>\n      <td>2.0</td>\n      <td>396.0</td>\n      <td>505.050505</td>\n      <td>505.050505</td>\n      <td>0.0</td>\n      <td>1.000000</td>\n    </tr>\n    <tr>\n      <th>Alosno</th>\n      <td>162.0</td>\n      <td>1.0</td>\n      <td>1.0</td>\n      <td>3933.0</td>\n      <td>25.425884</td>\n      <td>25.425884</td>\n      <td>0.0</td>\n      <td>1.000000</td>\n    </tr>\n  </tbody>\n</table>\n</div>"
     },
     "metadata": {},
     "execution_count": 18
    }
   ],
   "source": [
    "# Peso de la tasa de la última semana en relación con la tasa a 14 días \n",
    "# Mejor cuanto menor. Valor 1 significa que no había casos antes de 7 días.\n",
    "tabla['7/14'] = tabla['tasa7'] / tabla['tasa14']\n",
    "tabla.fillna(0).sort_values('7/14', ascending=True)"
   ]
  },
  {
   "cell_type": "code",
   "execution_count": null,
   "metadata": {},
   "outputs": [],
   "source": []
  }
 ]
}