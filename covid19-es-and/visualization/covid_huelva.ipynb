{
 "metadata": {
  "language_info": {
   "codemirror_mode": {
    "name": "ipython",
    "version": 3
   },
   "file_extension": ".py",
   "mimetype": "text/x-python",
   "name": "python",
   "nbconvert_exporter": "python",
   "pygments_lexer": "ipython3",
   "version": "3.6.9-final"
  },
  "orig_nbformat": 2,
  "kernelspec": {
   "name": "Python 3.6.9 64-bit",
   "display_name": "Python 3.6.9 64-bit",
   "metadata": {
    "interpreter": {
     "hash": "31f2aee4e71d21fbe5cf8b01ff0e069b9275f58929596ceb00d14d90e3e16cd6"
    }
   }
  }
 },
 "nbformat": 4,
 "nbformat_minor": 2,
 "cells": [
  {
   "cell_type": "code",
   "execution_count": 1,
   "metadata": {},
   "outputs": [],
   "source": [
    "import pandas as pd"
   ]
  },
  {
   "cell_type": "code",
   "execution_count": 2,
   "metadata": {},
   "outputs": [],
   "source": [
    "# FIX SSL: CERTIFICATE_VERIFY_FAILED with Python3\n",
    "# https://stackoverflow.com/a/49174340\n",
    "import ssl\n",
    "\n",
    "ssl._create_default_https_context = ssl._create_unverified_context"
   ]
  },
  {
   "cell_type": "code",
   "execution_count": 3,
   "metadata": {},
   "outputs": [],
   "source": [
    "url = 'https://www.juntadeandalucia.es/institutodeestadisticaycartografia/badea/stpivot/stpivot/Print?cube=013d884c-cfc5-4c21-9e78-e26225682afd&type=3&foto=si&ejecutaDesde=&codConsulta=38668&consTipoVisua=JP'\n",
    "fields = ['Lugar de residencia', 'Medida', 'Valor']\n",
    "df = pd.read_csv(url, delimiter=';', usecols=fields, decimal=',')"
   ]
  },
  {
   "cell_type": "code",
   "execution_count": 4,
   "metadata": {},
   "outputs": [
    {
     "output_type": "execute_result",
     "data": {
      "text/plain": [
       "                     Lugar de residencia                    Medida  \\\n",
       "0                                 Huelva                 Población   \n",
       "1                                 Huelva          Confirmados PDIA   \n",
       "2                                 Huelva  Confirmados PDIA 14 días   \n",
       "3                                 Huelva         Tasa PDIA 14 días   \n",
       "4                                 Huelva   Confirmados PDIA 7 días   \n",
       "..                                   ...                       ...   \n",
       "627  Municipio de Huelva sin especificar         Tasa PDIA 14 días   \n",
       "628  Municipio de Huelva sin especificar   Confirmados PDIA 7 días   \n",
       "629  Municipio de Huelva sin especificar        Total Confirmados    \n",
       "630  Municipio de Huelva sin especificar                   Curados   \n",
       "631  Municipio de Huelva sin especificar                Fallecidos   \n",
       "\n",
       "                 Valor  \n",
       "0               510743  \n",
       "1                 9614  \n",
       "2                 1910  \n",
       "3    373,9649882621984  \n",
       "4                  749  \n",
       "..                 ...  \n",
       "627                  -  \n",
       "628                 16  \n",
       "629                124  \n",
       "630                 84  \n",
       "631                  1  \n",
       "\n",
       "[632 rows x 3 columns]"
      ],
      "text/html": "<div>\n<style scoped>\n    .dataframe tbody tr th:only-of-type {\n        vertical-align: middle;\n    }\n\n    .dataframe tbody tr th {\n        vertical-align: top;\n    }\n\n    .dataframe thead th {\n        text-align: right;\n    }\n</style>\n<table border=\"1\" class=\"dataframe\">\n  <thead>\n    <tr style=\"text-align: right;\">\n      <th></th>\n      <th>Lugar de residencia</th>\n      <th>Medida</th>\n      <th>Valor</th>\n    </tr>\n  </thead>\n  <tbody>\n    <tr>\n      <th>0</th>\n      <td>Huelva</td>\n      <td>Población</td>\n      <td>510743</td>\n    </tr>\n    <tr>\n      <th>1</th>\n      <td>Huelva</td>\n      <td>Confirmados PDIA</td>\n      <td>9614</td>\n    </tr>\n    <tr>\n      <th>2</th>\n      <td>Huelva</td>\n      <td>Confirmados PDIA 14 días</td>\n      <td>1910</td>\n    </tr>\n    <tr>\n      <th>3</th>\n      <td>Huelva</td>\n      <td>Tasa PDIA 14 días</td>\n      <td>373,9649882621984</td>\n    </tr>\n    <tr>\n      <th>4</th>\n      <td>Huelva</td>\n      <td>Confirmados PDIA 7 días</td>\n      <td>749</td>\n    </tr>\n    <tr>\n      <th>...</th>\n      <td>...</td>\n      <td>...</td>\n      <td>...</td>\n    </tr>\n    <tr>\n      <th>627</th>\n      <td>Municipio de Huelva sin especificar</td>\n      <td>Tasa PDIA 14 días</td>\n      <td>-</td>\n    </tr>\n    <tr>\n      <th>628</th>\n      <td>Municipio de Huelva sin especificar</td>\n      <td>Confirmados PDIA 7 días</td>\n      <td>16</td>\n    </tr>\n    <tr>\n      <th>629</th>\n      <td>Municipio de Huelva sin especificar</td>\n      <td>Total Confirmados</td>\n      <td>124</td>\n    </tr>\n    <tr>\n      <th>630</th>\n      <td>Municipio de Huelva sin especificar</td>\n      <td>Curados</td>\n      <td>84</td>\n    </tr>\n    <tr>\n      <th>631</th>\n      <td>Municipio de Huelva sin especificar</td>\n      <td>Fallecidos</td>\n      <td>1</td>\n    </tr>\n  </tbody>\n</table>\n<p>632 rows × 3 columns</p>\n</div>"
     },
     "metadata": {},
     "execution_count": 4
    }
   ],
   "source": [
    "df"
   ]
  },
  {
   "cell_type": "code",
   "execution_count": 5,
   "metadata": {},
   "outputs": [],
   "source": [
    "df['Valor'] = pd.to_numeric(df['Valor'],errors='coerce')"
   ]
  },
  {
   "cell_type": "code",
   "execution_count": 6,
   "metadata": {},
   "outputs": [],
   "source": [
    "dfAnterior = pd.read_csv('covid_huelva.csv', index_col='Lugar de residencia')"
   ]
  },
  {
   "cell_type": "code",
   "execution_count": 7,
   "metadata": {
    "tags": []
   },
   "outputs": [
    {
     "output_type": "stream",
     "name": "stdout",
     "text": [
      "Confirmados PCR en la provincia de Huelva:  9614.0\n"
     ]
    }
   ],
   "source": [
    "# Confirmados PCR provincia Huelva\n",
    "p = df[df['Lugar de residencia'] == 'Huelva'][df['Medida'] == 'Confirmados PDIA']['Valor'].values[0]\n",
    "print('Confirmados PCR en la provincia de Huelva: ', p)"
   ]
  },
  {
   "cell_type": "code",
   "execution_count": 8,
   "metadata": {
    "tags": []
   },
   "outputs": [
    {
     "output_type": "stream",
     "name": "stdout",
     "text": [
      "Confirmados PCR en Huelva capital:  2710.0\n"
     ]
    }
   ],
   "source": [
    "# Confirmados PCR Huelva capitalpd\n",
    "c = df[df['Lugar de residencia'] == 'Huelva (capital)'][df['Medida'] == 'Confirmados PDIA']['Valor'].values[0]\n",
    "print('Confirmados PCR en Huelva capital: ', c)"
   ]
  },
  {
   "cell_type": "code",
   "execution_count": 9,
   "metadata": {
    "tags": []
   },
   "outputs": [],
   "source": [
    "c7 = df[df['Lugar de residencia'] == 'Huelva (capital)'][df['Medida'] == 'Confirmados PDIA 7 días']['Valor'].values[0]\n",
    "c14 = df[df['Lugar de residencia'] == 'Huelva (capital)'][df['Medida'] == 'Confirmados PDIA 14 días']['Valor'].values[0]\n",
    "p = df[df['Lugar de residencia'] == 'Huelva (capital)'][df['Medida'] == 'Población']['Valor'].values[0]"
   ]
  },
  {
   "cell_type": "code",
   "execution_count": 10,
   "metadata": {
    "tags": []
   },
   "outputs": [
    {
     "output_type": "stream",
     "name": "stdout",
     "text": [
      "Huelva (capital)\n\nUn positivo PCR cada 633 personas en los últimos 7 días \n\nUn positivo PCR cada 238 personas en los últimos 14 días\n"
     ]
    }
   ],
   "source": [
    "print('Huelva (capital)\\n')\n",
    "#print('Confirmados PCR 7 días x 1,000 habitantes: ', f\"{c7/(p/1000):.5f}\")\n",
    "print('Un positivo PCR cada', f\"{p/c7:.0f}\", 'personas en los últimos 7 días', '\\n')\n",
    "#print('Confirmados PCR 14 días x 1,000 habitantes: ', f\"{c14/(p/1000):.5f}\")\n",
    "print('Un positivo PCR cada', f\"{p/c14:.0f}\", 'personas en los últimos 14 días')"
   ]
  },
  {
   "cell_type": "code",
   "execution_count": 11,
   "metadata": {},
   "outputs": [],
   "source": [
    "filtro = ((df['Medida'] == 'Confirmados PDIA')| (df['Medida'] == 'Confirmados PDIA 7 días') | (df['Medida'] == 'Población' ) | (df['Medida'] == 'Confirmados PDIA 14 días')) & (df['Valor'] > 0)\n",
    "tabla = pd.pivot_table(df.loc[filtro], values='Valor', index='Lugar de residencia', columns='Medida').dropna()"
   ]
  },
  {
   "cell_type": "code",
   "execution_count": 12,
   "metadata": {},
   "outputs": [],
   "source": [
    "# Reorder columns\n",
    "tabla = tabla[['Confirmados PDIA', 'Confirmados PDIA 7 días', 'Confirmados PDIA 14 días', 'Población']]"
   ]
  },
  {
   "cell_type": "code",
   "execution_count": 13,
   "metadata": {},
   "outputs": [],
   "source": [
    "tabla['tasa7'] = tabla['Confirmados PDIA 7 días']/tabla['Población']*100000\n",
    "tabla['tasa14'] = tabla['Confirmados PDIA 14 días']/tabla['Población']*100000"
   ]
  },
  {
   "cell_type": "code",
   "execution_count": 14,
   "metadata": {},
   "outputs": [],
   "source": [
    "tabla['Diferencia PDIA'] = tabla['Confirmados PDIA'] - dfAnterior['Confirmados PDIA']"
   ]
  },
  {
   "cell_type": "code",
   "execution_count": 15,
   "metadata": {},
   "outputs": [
    {
     "output_type": "execute_result",
     "data": {
      "text/plain": [
       "Medida                             Confirmados PDIA  Confirmados PDIA 7 días  \\\n",
       "Lugar de residencia                                                            \n",
       "Huelva                                       9614.0                    749.0   \n",
       "Huelva-Costa                                 5304.0                    508.0   \n",
       "Huelva (capital)                             2710.0                    227.0   \n",
       "Condado-Campiña                              2961.0                    195.0   \n",
       "Isla Cristina                                 296.0                     44.0   \n",
       "Lepe                                          845.0                     82.0   \n",
       "Palos de la Frontera                          199.0                     32.0   \n",
       "Cartaya                                       306.0                     34.0   \n",
       "Ayamonte                                      309.0                     60.0   \n",
       "Moguer                                        291.0                     41.0   \n",
       "Palma del Condado (La)                        434.0                     35.0   \n",
       "Sierra de Huelva-Andévalo Central            1226.0                     30.0   \n",
       "Aljaraque                                     359.0                     35.0   \n",
       "Lucena del Puerto                              70.0                     15.0   \n",
       "Niebla                                        112.0                     18.0   \n",
       "Gibraleón                                     340.0                      6.0   \n",
       "Valverde del Camino                           262.0                      5.0   \n",
       "San Bartolomé de la Torre                      30.0                      5.0   \n",
       "Rociana del Condado                           106.0                     12.0   \n",
       "Punta Umbría                                  212.0                     12.0   \n",
       "Almonte                                       427.0                      4.0   \n",
       "Villanueva de los Castillejos                  54.0                      9.0   \n",
       "Aracena                                       282.0                      4.0   \n",
       "Villalba del Alcor                             93.0                      7.0   \n",
       "Bonares                                        40.0                      2.0   \n",
       "Bollullos Par del Condado                     229.0                      5.0   \n",
       "Corteconcepción                                18.0                      1.0   \n",
       "Nerva                                          85.0                      7.0   \n",
       "Rosal de la Frontera                           20.0                      2.0   \n",
       "Cerro de Andévalo (El)                         36.0                      3.0   \n",
       "San Juan del Puerto                           135.0                      4.0   \n",
       "Zarza-Perrunal (La)                            13.0                      1.0   \n",
       "\n",
       "Medida                             Confirmados PDIA 14 días  Población  \\\n",
       "Lugar de residencia                                                      \n",
       "Huelva                                               1910.0   510743.0   \n",
       "Huelva-Costa                                         1234.0   288115.0   \n",
       "Huelva (capital)                                      604.0   143663.0   \n",
       "Condado-Campiña                                       540.0   155057.0   \n",
       "Isla Cristina                                          78.0    21264.0   \n",
       "Lepe                                                  211.0    27431.0   \n",
       "Palos de la Frontera                                   59.0    11289.0   \n",
       "Cartaya                                                75.0    19974.0   \n",
       "Ayamonte                                              119.0    20946.0   \n",
       "Moguer                                                 91.0    22088.0   \n",
       "Palma del Condado (La)                                 80.0    10761.0   \n",
       "Sierra de Huelva-Andévalo Central                     115.0    67571.0   \n",
       "Aljaraque                                              71.0    21260.0   \n",
       "Lucena del Puerto                                      30.0     3371.0   \n",
       "Niebla                                                 33.0     4117.0   \n",
       "Gibraleón                                              21.0    12607.0   \n",
       "Valverde del Camino                                    18.0    12820.0   \n",
       "San Bartolomé de la Torre                              18.0     3736.0   \n",
       "Rociana del Condado                                    43.0     7855.0   \n",
       "Punta Umbría                                           37.0    15242.0   \n",
       "Almonte                                                65.0    24191.0   \n",
       "Villanueva de los Castillejos                          12.0     2820.0   \n",
       "Aracena                                                11.0     8107.0   \n",
       "Villalba del Alcor                                     12.0     3338.0   \n",
       "Bonares                                                13.0     6058.0   \n",
       "Bollullos Par del Condado                              25.0    14272.0   \n",
       "Corteconcepción                                        12.0      548.0   \n",
       "Nerva                                                  13.0     5235.0   \n",
       "Rosal de la Frontera                                    5.0     1697.0   \n",
       "Cerro de Andévalo (El)                                  6.0     2364.0   \n",
       "San Juan del Puerto                                     9.0     9300.0   \n",
       "Zarza-Perrunal (La)                                     1.0     1267.0   \n",
       "\n",
       "Medida                                  tasa7       tasa14  Diferencia PDIA  \n",
       "Lugar de residencia                                                          \n",
       "Huelva                             146.649097   373.964988            264.0  \n",
       "Huelva-Costa                       176.318484   428.301199            183.0  \n",
       "Huelva (capital)                   158.008673   420.428364             91.0  \n",
       "Condado-Campiña                    125.760204   348.259027             69.0  \n",
       "Isla Cristina                      206.922498   366.817156             25.0  \n",
       "Lepe                               298.931865   769.202727             23.0  \n",
       "Palos de la Frontera               283.461777   522.632651             17.0  \n",
       "Cartaya                            170.221288   375.488135             16.0  \n",
       "Ayamonte                           286.450874   568.127566             14.0  \n",
       "Moguer                             185.621152   411.988410             13.0  \n",
       "Palma del Condado (La)             325.248583   743.425332             12.0  \n",
       "Sierra de Huelva-Andévalo Central   44.397745   170.191354             10.0  \n",
       "Aljaraque                          164.628410   333.960489              8.0  \n",
       "Lucena del Puerto                  444.971818   889.943637              6.0  \n",
       "Niebla                             437.211562   801.554530              4.0  \n",
       "Gibraleón                           47.592607   166.574125              3.0  \n",
       "Valverde del Camino                 39.001560   140.405616              3.0  \n",
       "San Bartolomé de la Torre          133.832976   481.798715              3.0  \n",
       "Rociana del Condado                152.768937   547.422024              3.0  \n",
       "Punta Umbría                        78.729825   242.750295              3.0  \n",
       "Almonte                             16.535075   268.694969              3.0  \n",
       "Villanueva de los Castillejos      319.148936   425.531915              3.0  \n",
       "Aracena                             49.340076   135.685210              2.0  \n",
       "Villalba del Alcor                 209.706411   359.496705              2.0  \n",
       "Bonares                             33.014196   214.592275              1.0  \n",
       "Bollullos Par del Condado           35.033632   175.168161              1.0  \n",
       "Corteconcepción                    182.481752  2189.781022              1.0  \n",
       "Nerva                              133.715377   248.328558              1.0  \n",
       "Rosal de la Frontera               117.855038   294.637596              1.0  \n",
       "Cerro de Andévalo (El)             126.903553   253.807107              1.0  \n",
       "San Juan del Puerto                 43.010753    96.774194              1.0  \n",
       "Zarza-Perrunal (La)                 78.926598    78.926598              NaN  "
      ],
      "text/html": "<div>\n<style scoped>\n    .dataframe tbody tr th:only-of-type {\n        vertical-align: middle;\n    }\n\n    .dataframe tbody tr th {\n        vertical-align: top;\n    }\n\n    .dataframe thead th {\n        text-align: right;\n    }\n</style>\n<table border=\"1\" class=\"dataframe\">\n  <thead>\n    <tr style=\"text-align: right;\">\n      <th>Medida</th>\n      <th>Confirmados PDIA</th>\n      <th>Confirmados PDIA 7 días</th>\n      <th>Confirmados PDIA 14 días</th>\n      <th>Población</th>\n      <th>tasa7</th>\n      <th>tasa14</th>\n      <th>Diferencia PDIA</th>\n    </tr>\n    <tr>\n      <th>Lugar de residencia</th>\n      <th></th>\n      <th></th>\n      <th></th>\n      <th></th>\n      <th></th>\n      <th></th>\n      <th></th>\n    </tr>\n  </thead>\n  <tbody>\n    <tr>\n      <th>Huelva</th>\n      <td>9614.0</td>\n      <td>749.0</td>\n      <td>1910.0</td>\n      <td>510743.0</td>\n      <td>146.649097</td>\n      <td>373.964988</td>\n      <td>264.0</td>\n    </tr>\n    <tr>\n      <th>Huelva-Costa</th>\n      <td>5304.0</td>\n      <td>508.0</td>\n      <td>1234.0</td>\n      <td>288115.0</td>\n      <td>176.318484</td>\n      <td>428.301199</td>\n      <td>183.0</td>\n    </tr>\n    <tr>\n      <th>Huelva (capital)</th>\n      <td>2710.0</td>\n      <td>227.0</td>\n      <td>604.0</td>\n      <td>143663.0</td>\n      <td>158.008673</td>\n      <td>420.428364</td>\n      <td>91.0</td>\n    </tr>\n    <tr>\n      <th>Condado-Campiña</th>\n      <td>2961.0</td>\n      <td>195.0</td>\n      <td>540.0</td>\n      <td>155057.0</td>\n      <td>125.760204</td>\n      <td>348.259027</td>\n      <td>69.0</td>\n    </tr>\n    <tr>\n      <th>Isla Cristina</th>\n      <td>296.0</td>\n      <td>44.0</td>\n      <td>78.0</td>\n      <td>21264.0</td>\n      <td>206.922498</td>\n      <td>366.817156</td>\n      <td>25.0</td>\n    </tr>\n    <tr>\n      <th>Lepe</th>\n      <td>845.0</td>\n      <td>82.0</td>\n      <td>211.0</td>\n      <td>27431.0</td>\n      <td>298.931865</td>\n      <td>769.202727</td>\n      <td>23.0</td>\n    </tr>\n    <tr>\n      <th>Palos de la Frontera</th>\n      <td>199.0</td>\n      <td>32.0</td>\n      <td>59.0</td>\n      <td>11289.0</td>\n      <td>283.461777</td>\n      <td>522.632651</td>\n      <td>17.0</td>\n    </tr>\n    <tr>\n      <th>Cartaya</th>\n      <td>306.0</td>\n      <td>34.0</td>\n      <td>75.0</td>\n      <td>19974.0</td>\n      <td>170.221288</td>\n      <td>375.488135</td>\n      <td>16.0</td>\n    </tr>\n    <tr>\n      <th>Ayamonte</th>\n      <td>309.0</td>\n      <td>60.0</td>\n      <td>119.0</td>\n      <td>20946.0</td>\n      <td>286.450874</td>\n      <td>568.127566</td>\n      <td>14.0</td>\n    </tr>\n    <tr>\n      <th>Moguer</th>\n      <td>291.0</td>\n      <td>41.0</td>\n      <td>91.0</td>\n      <td>22088.0</td>\n      <td>185.621152</td>\n      <td>411.988410</td>\n      <td>13.0</td>\n    </tr>\n    <tr>\n      <th>Palma del Condado (La)</th>\n      <td>434.0</td>\n      <td>35.0</td>\n      <td>80.0</td>\n      <td>10761.0</td>\n      <td>325.248583</td>\n      <td>743.425332</td>\n      <td>12.0</td>\n    </tr>\n    <tr>\n      <th>Sierra de Huelva-Andévalo Central</th>\n      <td>1226.0</td>\n      <td>30.0</td>\n      <td>115.0</td>\n      <td>67571.0</td>\n      <td>44.397745</td>\n      <td>170.191354</td>\n      <td>10.0</td>\n    </tr>\n    <tr>\n      <th>Aljaraque</th>\n      <td>359.0</td>\n      <td>35.0</td>\n      <td>71.0</td>\n      <td>21260.0</td>\n      <td>164.628410</td>\n      <td>333.960489</td>\n      <td>8.0</td>\n    </tr>\n    <tr>\n      <th>Lucena del Puerto</th>\n      <td>70.0</td>\n      <td>15.0</td>\n      <td>30.0</td>\n      <td>3371.0</td>\n      <td>444.971818</td>\n      <td>889.943637</td>\n      <td>6.0</td>\n    </tr>\n    <tr>\n      <th>Niebla</th>\n      <td>112.0</td>\n      <td>18.0</td>\n      <td>33.0</td>\n      <td>4117.0</td>\n      <td>437.211562</td>\n      <td>801.554530</td>\n      <td>4.0</td>\n    </tr>\n    <tr>\n      <th>Gibraleón</th>\n      <td>340.0</td>\n      <td>6.0</td>\n      <td>21.0</td>\n      <td>12607.0</td>\n      <td>47.592607</td>\n      <td>166.574125</td>\n      <td>3.0</td>\n    </tr>\n    <tr>\n      <th>Valverde del Camino</th>\n      <td>262.0</td>\n      <td>5.0</td>\n      <td>18.0</td>\n      <td>12820.0</td>\n      <td>39.001560</td>\n      <td>140.405616</td>\n      <td>3.0</td>\n    </tr>\n    <tr>\n      <th>San Bartolomé de la Torre</th>\n      <td>30.0</td>\n      <td>5.0</td>\n      <td>18.0</td>\n      <td>3736.0</td>\n      <td>133.832976</td>\n      <td>481.798715</td>\n      <td>3.0</td>\n    </tr>\n    <tr>\n      <th>Rociana del Condado</th>\n      <td>106.0</td>\n      <td>12.0</td>\n      <td>43.0</td>\n      <td>7855.0</td>\n      <td>152.768937</td>\n      <td>547.422024</td>\n      <td>3.0</td>\n    </tr>\n    <tr>\n      <th>Punta Umbría</th>\n      <td>212.0</td>\n      <td>12.0</td>\n      <td>37.0</td>\n      <td>15242.0</td>\n      <td>78.729825</td>\n      <td>242.750295</td>\n      <td>3.0</td>\n    </tr>\n    <tr>\n      <th>Almonte</th>\n      <td>427.0</td>\n      <td>4.0</td>\n      <td>65.0</td>\n      <td>24191.0</td>\n      <td>16.535075</td>\n      <td>268.694969</td>\n      <td>3.0</td>\n    </tr>\n    <tr>\n      <th>Villanueva de los Castillejos</th>\n      <td>54.0</td>\n      <td>9.0</td>\n      <td>12.0</td>\n      <td>2820.0</td>\n      <td>319.148936</td>\n      <td>425.531915</td>\n      <td>3.0</td>\n    </tr>\n    <tr>\n      <th>Aracena</th>\n      <td>282.0</td>\n      <td>4.0</td>\n      <td>11.0</td>\n      <td>8107.0</td>\n      <td>49.340076</td>\n      <td>135.685210</td>\n      <td>2.0</td>\n    </tr>\n    <tr>\n      <th>Villalba del Alcor</th>\n      <td>93.0</td>\n      <td>7.0</td>\n      <td>12.0</td>\n      <td>3338.0</td>\n      <td>209.706411</td>\n      <td>359.496705</td>\n      <td>2.0</td>\n    </tr>\n    <tr>\n      <th>Bonares</th>\n      <td>40.0</td>\n      <td>2.0</td>\n      <td>13.0</td>\n      <td>6058.0</td>\n      <td>33.014196</td>\n      <td>214.592275</td>\n      <td>1.0</td>\n    </tr>\n    <tr>\n      <th>Bollullos Par del Condado</th>\n      <td>229.0</td>\n      <td>5.0</td>\n      <td>25.0</td>\n      <td>14272.0</td>\n      <td>35.033632</td>\n      <td>175.168161</td>\n      <td>1.0</td>\n    </tr>\n    <tr>\n      <th>Corteconcepción</th>\n      <td>18.0</td>\n      <td>1.0</td>\n      <td>12.0</td>\n      <td>548.0</td>\n      <td>182.481752</td>\n      <td>2189.781022</td>\n      <td>1.0</td>\n    </tr>\n    <tr>\n      <th>Nerva</th>\n      <td>85.0</td>\n      <td>7.0</td>\n      <td>13.0</td>\n      <td>5235.0</td>\n      <td>133.715377</td>\n      <td>248.328558</td>\n      <td>1.0</td>\n    </tr>\n    <tr>\n      <th>Rosal de la Frontera</th>\n      <td>20.0</td>\n      <td>2.0</td>\n      <td>5.0</td>\n      <td>1697.0</td>\n      <td>117.855038</td>\n      <td>294.637596</td>\n      <td>1.0</td>\n    </tr>\n    <tr>\n      <th>Cerro de Andévalo (El)</th>\n      <td>36.0</td>\n      <td>3.0</td>\n      <td>6.0</td>\n      <td>2364.0</td>\n      <td>126.903553</td>\n      <td>253.807107</td>\n      <td>1.0</td>\n    </tr>\n    <tr>\n      <th>San Juan del Puerto</th>\n      <td>135.0</td>\n      <td>4.0</td>\n      <td>9.0</td>\n      <td>9300.0</td>\n      <td>43.010753</td>\n      <td>96.774194</td>\n      <td>1.0</td>\n    </tr>\n    <tr>\n      <th>Zarza-Perrunal (La)</th>\n      <td>13.0</td>\n      <td>1.0</td>\n      <td>1.0</td>\n      <td>1267.0</td>\n      <td>78.926598</td>\n      <td>78.926598</td>\n      <td>NaN</td>\n    </tr>\n  </tbody>\n</table>\n</div>"
     },
     "metadata": {},
     "execution_count": 15
    }
   ],
   "source": [
    "# Nuevos casos desde la última captura\n",
    "tabla[tabla['Diferencia PDIA'] != 0].sort_values('Diferencia PDIA', ascending=False)"
   ]
  },
  {
   "cell_type": "code",
   "execution_count": 16,
   "metadata": {},
   "outputs": [],
   "source": [
    "if tabla[tabla['Diferencia PDIA'] != 0]['Diferencia PDIA'].sum() > 0:\n",
    "  # Save to csv\n",
    "  tabla.to_csv('covid_huelva.csv', encoding='utf-8', header=True, index=True)  "
   ]
  },
  {
   "cell_type": "code",
   "execution_count": 17,
   "metadata": {},
   "outputs": [
    {
     "output_type": "execute_result",
     "data": {
      "text/plain": [
       "Medida                             Confirmados PDIA  Confirmados PDIA 7 días  \\\n",
       "Lugar de residencia                                                            \n",
       "Corteconcepción                                18.0                      1.0   \n",
       "Lucena del Puerto                              70.0                     15.0   \n",
       "Niebla                                        112.0                     18.0   \n",
       "Lepe                                          845.0                     82.0   \n",
       "Palma del Condado (La)                        434.0                     35.0   \n",
       "Ayamonte                                      309.0                     60.0   \n",
       "Rociana del Condado                           106.0                     12.0   \n",
       "Palos de la Frontera                          199.0                     32.0   \n",
       "Paymogo                                        12.0                      2.0   \n",
       "San Bartolomé de la Torre                      30.0                      5.0   \n",
       "Huelva-Costa                                 5304.0                    508.0   \n",
       "Villanueva de los Castillejos                  54.0                      9.0   \n",
       "Aroche                                         49.0                      6.0   \n",
       "Huelva (capital)                             2710.0                    227.0   \n",
       "Moguer                                        291.0                     41.0   \n",
       "Beas                                           51.0                      2.0   \n",
       "Minas de Riotinto                              62.0                      1.0   \n",
       "Cartaya                                       306.0                     34.0   \n",
       "Huelva                                       9614.0                    749.0   \n",
       "Isla Cristina                                 296.0                     44.0   \n",
       "Villalba del Alcor                             93.0                      7.0   \n",
       "Condado-Campiña                              2961.0                    195.0   \n",
       "Aljaraque                                     359.0                     35.0   \n",
       "Rosal de la Frontera                           20.0                      2.0   \n",
       "Almonte                                       427.0                      4.0   \n",
       "Cerro de Andévalo (El)                         36.0                      3.0   \n",
       "Nerva                                          85.0                      7.0   \n",
       "Sanlúcar de Guadiana                            3.0                      1.0   \n",
       "Punta Umbría                                  212.0                     12.0   \n",
       "Villarrasa                                     90.0                      2.0   \n",
       "Bonares                                        40.0                      2.0   \n",
       "Puebla de Guzmán                               21.0                      1.0   \n",
       "Trigueros                                     127.0                      3.0   \n",
       "Bollullos Par del Condado                     229.0                      5.0   \n",
       "Sierra de Huelva-Andévalo Central            1226.0                     30.0   \n",
       "Gibraleón                                     340.0                      6.0   \n",
       "Alosno                                         41.0                      1.0   \n",
       "Valverde del Camino                           262.0                      5.0   \n",
       "Aracena                                       282.0                      4.0   \n",
       "San Juan del Puerto                           135.0                      4.0   \n",
       "Paterna del Campo                              52.0                      2.0   \n",
       "Zarza-Perrunal (La)                            13.0                      1.0   \n",
       "\n",
       "Medida                             Confirmados PDIA 14 días  Población  \\\n",
       "Lugar de residencia                                                      \n",
       "Corteconcepción                                        12.0      548.0   \n",
       "Lucena del Puerto                                      30.0     3371.0   \n",
       "Niebla                                                 33.0     4117.0   \n",
       "Lepe                                                  211.0    27431.0   \n",
       "Palma del Condado (La)                                 80.0    10761.0   \n",
       "Ayamonte                                              119.0    20946.0   \n",
       "Rociana del Condado                                    43.0     7855.0   \n",
       "Palos de la Frontera                                   59.0    11289.0   \n",
       "Paymogo                                                 6.0     1159.0   \n",
       "San Bartolomé de la Torre                              18.0     3736.0   \n",
       "Huelva-Costa                                         1234.0   288115.0   \n",
       "Villanueva de los Castillejos                          12.0     2820.0   \n",
       "Aroche                                                 13.0     3073.0   \n",
       "Huelva (capital)                                      604.0   143663.0   \n",
       "Moguer                                                 91.0    22088.0   \n",
       "Beas                                                   17.0     4257.0   \n",
       "Minas de Riotinto                                      15.0     3848.0   \n",
       "Cartaya                                                75.0    19974.0   \n",
       "Huelva                                               1910.0   510743.0   \n",
       "Isla Cristina                                          78.0    21264.0   \n",
       "Villalba del Alcor                                     12.0     3338.0   \n",
       "Condado-Campiña                                       540.0   155057.0   \n",
       "Aljaraque                                              71.0    21260.0   \n",
       "Rosal de la Frontera                                    5.0     1697.0   \n",
       "Almonte                                                65.0    24191.0   \n",
       "Cerro de Andévalo (El)                                  6.0     2364.0   \n",
       "Nerva                                                  13.0     5235.0   \n",
       "Sanlúcar de Guadiana                                    1.0      409.0   \n",
       "Punta Umbría                                           37.0    15242.0   \n",
       "Villarrasa                                              5.0     2176.0   \n",
       "Bonares                                                13.0     6058.0   \n",
       "Puebla de Guzmán                                        6.0     3073.0   \n",
       "Trigueros                                              14.0     7713.0   \n",
       "Bollullos Par del Condado                              25.0    14272.0   \n",
       "Sierra de Huelva-Andévalo Central                     115.0    67571.0   \n",
       "Gibraleón                                              21.0    12607.0   \n",
       "Alosno                                                  6.0     3923.0   \n",
       "Valverde del Camino                                    18.0    12820.0   \n",
       "Aracena                                                11.0     8107.0   \n",
       "San Juan del Puerto                                     9.0     9300.0   \n",
       "Paterna del Campo                                       3.0     3509.0   \n",
       "Zarza-Perrunal (La)                                     1.0     1267.0   \n",
       "\n",
       "Medida                                  tasa7       tasa14  Diferencia PDIA  \n",
       "Lugar de residencia                                                          \n",
       "Corteconcepción                    182.481752  2189.781022              1.0  \n",
       "Lucena del Puerto                  444.971818   889.943637              6.0  \n",
       "Niebla                             437.211562   801.554530              4.0  \n",
       "Lepe                               298.931865   769.202727             23.0  \n",
       "Palma del Condado (La)             325.248583   743.425332             12.0  \n",
       "Ayamonte                           286.450874   568.127566             14.0  \n",
       "Rociana del Condado                152.768937   547.422024              3.0  \n",
       "Palos de la Frontera               283.461777   522.632651             17.0  \n",
       "Paymogo                            172.562554   517.687662              0.0  \n",
       "San Bartolomé de la Torre          133.832976   481.798715              3.0  \n",
       "Huelva-Costa                       176.318484   428.301199            183.0  \n",
       "Villanueva de los Castillejos      319.148936   425.531915              3.0  \n",
       "Aroche                             195.248942   423.039375              0.0  \n",
       "Huelva (capital)                   158.008673   420.428364             91.0  \n",
       "Moguer                             185.621152   411.988410             13.0  \n",
       "Beas                                46.981442   399.342260              0.0  \n",
       "Minas de Riotinto                   25.987526   389.812890              0.0  \n",
       "Cartaya                            170.221288   375.488135             16.0  \n",
       "Huelva                             146.649097   373.964988            264.0  \n",
       "Isla Cristina                      206.922498   366.817156             25.0  \n",
       "Villalba del Alcor                 209.706411   359.496705              2.0  \n",
       "Condado-Campiña                    125.760204   348.259027             69.0  \n",
       "Aljaraque                          164.628410   333.960489              8.0  \n",
       "Rosal de la Frontera               117.855038   294.637596              1.0  \n",
       "Almonte                             16.535075   268.694969              3.0  \n",
       "Cerro de Andévalo (El)             126.903553   253.807107              1.0  \n",
       "Nerva                              133.715377   248.328558              1.0  \n",
       "Sanlúcar de Guadiana               244.498778   244.498778              0.0  \n",
       "Punta Umbría                        78.729825   242.750295              3.0  \n",
       "Villarrasa                          91.911765   229.779412              0.0  \n",
       "Bonares                             33.014196   214.592275              1.0  \n",
       "Puebla de Guzmán                    32.541490   195.248942              0.0  \n",
       "Trigueros                           38.895371   181.511733              0.0  \n",
       "Bollullos Par del Condado           35.033632   175.168161              1.0  \n",
       "Sierra de Huelva-Andévalo Central   44.397745   170.191354             10.0  \n",
       "Gibraleón                           47.592607   166.574125              3.0  \n",
       "Alosno                              25.490696   152.944175              0.0  \n",
       "Valverde del Camino                 39.001560   140.405616              3.0  \n",
       "Aracena                             49.340076   135.685210              2.0  \n",
       "San Juan del Puerto                 43.010753    96.774194              1.0  \n",
       "Paterna del Campo                   56.996295    85.494443              0.0  \n",
       "Zarza-Perrunal (La)                 78.926598    78.926598              NaN  "
      ],
      "text/html": "<div>\n<style scoped>\n    .dataframe tbody tr th:only-of-type {\n        vertical-align: middle;\n    }\n\n    .dataframe tbody tr th {\n        vertical-align: top;\n    }\n\n    .dataframe thead th {\n        text-align: right;\n    }\n</style>\n<table border=\"1\" class=\"dataframe\">\n  <thead>\n    <tr style=\"text-align: right;\">\n      <th>Medida</th>\n      <th>Confirmados PDIA</th>\n      <th>Confirmados PDIA 7 días</th>\n      <th>Confirmados PDIA 14 días</th>\n      <th>Población</th>\n      <th>tasa7</th>\n      <th>tasa14</th>\n      <th>Diferencia PDIA</th>\n    </tr>\n    <tr>\n      <th>Lugar de residencia</th>\n      <th></th>\n      <th></th>\n      <th></th>\n      <th></th>\n      <th></th>\n      <th></th>\n      <th></th>\n    </tr>\n  </thead>\n  <tbody>\n    <tr>\n      <th>Corteconcepción</th>\n      <td>18.0</td>\n      <td>1.0</td>\n      <td>12.0</td>\n      <td>548.0</td>\n      <td>182.481752</td>\n      <td>2189.781022</td>\n      <td>1.0</td>\n    </tr>\n    <tr>\n      <th>Lucena del Puerto</th>\n      <td>70.0</td>\n      <td>15.0</td>\n      <td>30.0</td>\n      <td>3371.0</td>\n      <td>444.971818</td>\n      <td>889.943637</td>\n      <td>6.0</td>\n    </tr>\n    <tr>\n      <th>Niebla</th>\n      <td>112.0</td>\n      <td>18.0</td>\n      <td>33.0</td>\n      <td>4117.0</td>\n      <td>437.211562</td>\n      <td>801.554530</td>\n      <td>4.0</td>\n    </tr>\n    <tr>\n      <th>Lepe</th>\n      <td>845.0</td>\n      <td>82.0</td>\n      <td>211.0</td>\n      <td>27431.0</td>\n      <td>298.931865</td>\n      <td>769.202727</td>\n      <td>23.0</td>\n    </tr>\n    <tr>\n      <th>Palma del Condado (La)</th>\n      <td>434.0</td>\n      <td>35.0</td>\n      <td>80.0</td>\n      <td>10761.0</td>\n      <td>325.248583</td>\n      <td>743.425332</td>\n      <td>12.0</td>\n    </tr>\n    <tr>\n      <th>Ayamonte</th>\n      <td>309.0</td>\n      <td>60.0</td>\n      <td>119.0</td>\n      <td>20946.0</td>\n      <td>286.450874</td>\n      <td>568.127566</td>\n      <td>14.0</td>\n    </tr>\n    <tr>\n      <th>Rociana del Condado</th>\n      <td>106.0</td>\n      <td>12.0</td>\n      <td>43.0</td>\n      <td>7855.0</td>\n      <td>152.768937</td>\n      <td>547.422024</td>\n      <td>3.0</td>\n    </tr>\n    <tr>\n      <th>Palos de la Frontera</th>\n      <td>199.0</td>\n      <td>32.0</td>\n      <td>59.0</td>\n      <td>11289.0</td>\n      <td>283.461777</td>\n      <td>522.632651</td>\n      <td>17.0</td>\n    </tr>\n    <tr>\n      <th>Paymogo</th>\n      <td>12.0</td>\n      <td>2.0</td>\n      <td>6.0</td>\n      <td>1159.0</td>\n      <td>172.562554</td>\n      <td>517.687662</td>\n      <td>0.0</td>\n    </tr>\n    <tr>\n      <th>San Bartolomé de la Torre</th>\n      <td>30.0</td>\n      <td>5.0</td>\n      <td>18.0</td>\n      <td>3736.0</td>\n      <td>133.832976</td>\n      <td>481.798715</td>\n      <td>3.0</td>\n    </tr>\n    <tr>\n      <th>Huelva-Costa</th>\n      <td>5304.0</td>\n      <td>508.0</td>\n      <td>1234.0</td>\n      <td>288115.0</td>\n      <td>176.318484</td>\n      <td>428.301199</td>\n      <td>183.0</td>\n    </tr>\n    <tr>\n      <th>Villanueva de los Castillejos</th>\n      <td>54.0</td>\n      <td>9.0</td>\n      <td>12.0</td>\n      <td>2820.0</td>\n      <td>319.148936</td>\n      <td>425.531915</td>\n      <td>3.0</td>\n    </tr>\n    <tr>\n      <th>Aroche</th>\n      <td>49.0</td>\n      <td>6.0</td>\n      <td>13.0</td>\n      <td>3073.0</td>\n      <td>195.248942</td>\n      <td>423.039375</td>\n      <td>0.0</td>\n    </tr>\n    <tr>\n      <th>Huelva (capital)</th>\n      <td>2710.0</td>\n      <td>227.0</td>\n      <td>604.0</td>\n      <td>143663.0</td>\n      <td>158.008673</td>\n      <td>420.428364</td>\n      <td>91.0</td>\n    </tr>\n    <tr>\n      <th>Moguer</th>\n      <td>291.0</td>\n      <td>41.0</td>\n      <td>91.0</td>\n      <td>22088.0</td>\n      <td>185.621152</td>\n      <td>411.988410</td>\n      <td>13.0</td>\n    </tr>\n    <tr>\n      <th>Beas</th>\n      <td>51.0</td>\n      <td>2.0</td>\n      <td>17.0</td>\n      <td>4257.0</td>\n      <td>46.981442</td>\n      <td>399.342260</td>\n      <td>0.0</td>\n    </tr>\n    <tr>\n      <th>Minas de Riotinto</th>\n      <td>62.0</td>\n      <td>1.0</td>\n      <td>15.0</td>\n      <td>3848.0</td>\n      <td>25.987526</td>\n      <td>389.812890</td>\n      <td>0.0</td>\n    </tr>\n    <tr>\n      <th>Cartaya</th>\n      <td>306.0</td>\n      <td>34.0</td>\n      <td>75.0</td>\n      <td>19974.0</td>\n      <td>170.221288</td>\n      <td>375.488135</td>\n      <td>16.0</td>\n    </tr>\n    <tr>\n      <th>Huelva</th>\n      <td>9614.0</td>\n      <td>749.0</td>\n      <td>1910.0</td>\n      <td>510743.0</td>\n      <td>146.649097</td>\n      <td>373.964988</td>\n      <td>264.0</td>\n    </tr>\n    <tr>\n      <th>Isla Cristina</th>\n      <td>296.0</td>\n      <td>44.0</td>\n      <td>78.0</td>\n      <td>21264.0</td>\n      <td>206.922498</td>\n      <td>366.817156</td>\n      <td>25.0</td>\n    </tr>\n    <tr>\n      <th>Villalba del Alcor</th>\n      <td>93.0</td>\n      <td>7.0</td>\n      <td>12.0</td>\n      <td>3338.0</td>\n      <td>209.706411</td>\n      <td>359.496705</td>\n      <td>2.0</td>\n    </tr>\n    <tr>\n      <th>Condado-Campiña</th>\n      <td>2961.0</td>\n      <td>195.0</td>\n      <td>540.0</td>\n      <td>155057.0</td>\n      <td>125.760204</td>\n      <td>348.259027</td>\n      <td>69.0</td>\n    </tr>\n    <tr>\n      <th>Aljaraque</th>\n      <td>359.0</td>\n      <td>35.0</td>\n      <td>71.0</td>\n      <td>21260.0</td>\n      <td>164.628410</td>\n      <td>333.960489</td>\n      <td>8.0</td>\n    </tr>\n    <tr>\n      <th>Rosal de la Frontera</th>\n      <td>20.0</td>\n      <td>2.0</td>\n      <td>5.0</td>\n      <td>1697.0</td>\n      <td>117.855038</td>\n      <td>294.637596</td>\n      <td>1.0</td>\n    </tr>\n    <tr>\n      <th>Almonte</th>\n      <td>427.0</td>\n      <td>4.0</td>\n      <td>65.0</td>\n      <td>24191.0</td>\n      <td>16.535075</td>\n      <td>268.694969</td>\n      <td>3.0</td>\n    </tr>\n    <tr>\n      <th>Cerro de Andévalo (El)</th>\n      <td>36.0</td>\n      <td>3.0</td>\n      <td>6.0</td>\n      <td>2364.0</td>\n      <td>126.903553</td>\n      <td>253.807107</td>\n      <td>1.0</td>\n    </tr>\n    <tr>\n      <th>Nerva</th>\n      <td>85.0</td>\n      <td>7.0</td>\n      <td>13.0</td>\n      <td>5235.0</td>\n      <td>133.715377</td>\n      <td>248.328558</td>\n      <td>1.0</td>\n    </tr>\n    <tr>\n      <th>Sanlúcar de Guadiana</th>\n      <td>3.0</td>\n      <td>1.0</td>\n      <td>1.0</td>\n      <td>409.0</td>\n      <td>244.498778</td>\n      <td>244.498778</td>\n      <td>0.0</td>\n    </tr>\n    <tr>\n      <th>Punta Umbría</th>\n      <td>212.0</td>\n      <td>12.0</td>\n      <td>37.0</td>\n      <td>15242.0</td>\n      <td>78.729825</td>\n      <td>242.750295</td>\n      <td>3.0</td>\n    </tr>\n    <tr>\n      <th>Villarrasa</th>\n      <td>90.0</td>\n      <td>2.0</td>\n      <td>5.0</td>\n      <td>2176.0</td>\n      <td>91.911765</td>\n      <td>229.779412</td>\n      <td>0.0</td>\n    </tr>\n    <tr>\n      <th>Bonares</th>\n      <td>40.0</td>\n      <td>2.0</td>\n      <td>13.0</td>\n      <td>6058.0</td>\n      <td>33.014196</td>\n      <td>214.592275</td>\n      <td>1.0</td>\n    </tr>\n    <tr>\n      <th>Puebla de Guzmán</th>\n      <td>21.0</td>\n      <td>1.0</td>\n      <td>6.0</td>\n      <td>3073.0</td>\n      <td>32.541490</td>\n      <td>195.248942</td>\n      <td>0.0</td>\n    </tr>\n    <tr>\n      <th>Trigueros</th>\n      <td>127.0</td>\n      <td>3.0</td>\n      <td>14.0</td>\n      <td>7713.0</td>\n      <td>38.895371</td>\n      <td>181.511733</td>\n      <td>0.0</td>\n    </tr>\n    <tr>\n      <th>Bollullos Par del Condado</th>\n      <td>229.0</td>\n      <td>5.0</td>\n      <td>25.0</td>\n      <td>14272.0</td>\n      <td>35.033632</td>\n      <td>175.168161</td>\n      <td>1.0</td>\n    </tr>\n    <tr>\n      <th>Sierra de Huelva-Andévalo Central</th>\n      <td>1226.0</td>\n      <td>30.0</td>\n      <td>115.0</td>\n      <td>67571.0</td>\n      <td>44.397745</td>\n      <td>170.191354</td>\n      <td>10.0</td>\n    </tr>\n    <tr>\n      <th>Gibraleón</th>\n      <td>340.0</td>\n      <td>6.0</td>\n      <td>21.0</td>\n      <td>12607.0</td>\n      <td>47.592607</td>\n      <td>166.574125</td>\n      <td>3.0</td>\n    </tr>\n    <tr>\n      <th>Alosno</th>\n      <td>41.0</td>\n      <td>1.0</td>\n      <td>6.0</td>\n      <td>3923.0</td>\n      <td>25.490696</td>\n      <td>152.944175</td>\n      <td>0.0</td>\n    </tr>\n    <tr>\n      <th>Valverde del Camino</th>\n      <td>262.0</td>\n      <td>5.0</td>\n      <td>18.0</td>\n      <td>12820.0</td>\n      <td>39.001560</td>\n      <td>140.405616</td>\n      <td>3.0</td>\n    </tr>\n    <tr>\n      <th>Aracena</th>\n      <td>282.0</td>\n      <td>4.0</td>\n      <td>11.0</td>\n      <td>8107.0</td>\n      <td>49.340076</td>\n      <td>135.685210</td>\n      <td>2.0</td>\n    </tr>\n    <tr>\n      <th>San Juan del Puerto</th>\n      <td>135.0</td>\n      <td>4.0</td>\n      <td>9.0</td>\n      <td>9300.0</td>\n      <td>43.010753</td>\n      <td>96.774194</td>\n      <td>1.0</td>\n    </tr>\n    <tr>\n      <th>Paterna del Campo</th>\n      <td>52.0</td>\n      <td>2.0</td>\n      <td>3.0</td>\n      <td>3509.0</td>\n      <td>56.996295</td>\n      <td>85.494443</td>\n      <td>0.0</td>\n    </tr>\n    <tr>\n      <th>Zarza-Perrunal (La)</th>\n      <td>13.0</td>\n      <td>1.0</td>\n      <td>1.0</td>\n      <td>1267.0</td>\n      <td>78.926598</td>\n      <td>78.926598</td>\n      <td>NaN</td>\n    </tr>\n  </tbody>\n</table>\n</div>"
     },
     "metadata": {},
     "execution_count": 17
    }
   ],
   "source": [
    "tabla.sort_values('tasa14', ascending=False)"
   ]
  },
  {
   "cell_type": "code",
   "execution_count": 18,
   "metadata": {},
   "outputs": [
    {
     "output_type": "execute_result",
     "data": {
      "text/plain": [
       "Medida                             Confirmados PDIA  Confirmados PDIA 7 días  \\\n",
       "Lugar de residencia                                                            \n",
       "Almonte                                       427.0                      4.0   \n",
       "Minas de Riotinto                              62.0                      1.0   \n",
       "Corteconcepción                                18.0                      1.0   \n",
       "Beas                                           51.0                      2.0   \n",
       "Bonares                                        40.0                      2.0   \n",
       "Puebla de Guzmán                               21.0                      1.0   \n",
       "Alosno                                         41.0                      1.0   \n",
       "Bollullos Par del Condado                     229.0                      5.0   \n",
       "Trigueros                                     127.0                      3.0   \n",
       "Sierra de Huelva-Andévalo Central            1226.0                     30.0   \n",
       "San Bartolomé de la Torre                      30.0                      5.0   \n",
       "Valverde del Camino                           262.0                      5.0   \n",
       "Rociana del Condado                           106.0                     12.0   \n",
       "Gibraleón                                     340.0                      6.0   \n",
       "Punta Umbría                                  212.0                     12.0   \n",
       "Paymogo                                        12.0                      2.0   \n",
       "Condado-Campiña                              2961.0                    195.0   \n",
       "Aracena                                       282.0                      4.0   \n",
       "Huelva (capital)                             2710.0                    227.0   \n",
       "Lepe                                          845.0                     82.0   \n",
       "Huelva                                       9614.0                    749.0   \n",
       "Villarrasa                                     90.0                      2.0   \n",
       "Rosal de la Frontera                           20.0                      2.0   \n",
       "Huelva-Costa                                 5304.0                    508.0   \n",
       "Palma del Condado (La)                        434.0                     35.0   \n",
       "San Juan del Puerto                           135.0                      4.0   \n",
       "Moguer                                        291.0                     41.0   \n",
       "Cartaya                                       306.0                     34.0   \n",
       "Aroche                                         49.0                      6.0   \n",
       "Aljaraque                                     359.0                     35.0   \n",
       "Lucena del Puerto                              70.0                     15.0   \n",
       "Cerro de Andévalo (El)                         36.0                      3.0   \n",
       "Ayamonte                                      309.0                     60.0   \n",
       "Nerva                                          85.0                      7.0   \n",
       "Palos de la Frontera                          199.0                     32.0   \n",
       "Niebla                                        112.0                     18.0   \n",
       "Isla Cristina                                 296.0                     44.0   \n",
       "Villalba del Alcor                             93.0                      7.0   \n",
       "Paterna del Campo                              52.0                      2.0   \n",
       "Villanueva de los Castillejos                  54.0                      9.0   \n",
       "Sanlúcar de Guadiana                            3.0                      1.0   \n",
       "Zarza-Perrunal (La)                            13.0                      1.0   \n",
       "\n",
       "Medida                             Confirmados PDIA 14 días  Población  \\\n",
       "Lugar de residencia                                                      \n",
       "Almonte                                                65.0    24191.0   \n",
       "Minas de Riotinto                                      15.0     3848.0   \n",
       "Corteconcepción                                        12.0      548.0   \n",
       "Beas                                                   17.0     4257.0   \n",
       "Bonares                                                13.0     6058.0   \n",
       "Puebla de Guzmán                                        6.0     3073.0   \n",
       "Alosno                                                  6.0     3923.0   \n",
       "Bollullos Par del Condado                              25.0    14272.0   \n",
       "Trigueros                                              14.0     7713.0   \n",
       "Sierra de Huelva-Andévalo Central                     115.0    67571.0   \n",
       "San Bartolomé de la Torre                              18.0     3736.0   \n",
       "Valverde del Camino                                    18.0    12820.0   \n",
       "Rociana del Condado                                    43.0     7855.0   \n",
       "Gibraleón                                              21.0    12607.0   \n",
       "Punta Umbría                                           37.0    15242.0   \n",
       "Paymogo                                                 6.0     1159.0   \n",
       "Condado-Campiña                                       540.0   155057.0   \n",
       "Aracena                                                11.0     8107.0   \n",
       "Huelva (capital)                                      604.0   143663.0   \n",
       "Lepe                                                  211.0    27431.0   \n",
       "Huelva                                               1910.0   510743.0   \n",
       "Villarrasa                                              5.0     2176.0   \n",
       "Rosal de la Frontera                                    5.0     1697.0   \n",
       "Huelva-Costa                                         1234.0   288115.0   \n",
       "Palma del Condado (La)                                 80.0    10761.0   \n",
       "San Juan del Puerto                                     9.0     9300.0   \n",
       "Moguer                                                 91.0    22088.0   \n",
       "Cartaya                                                75.0    19974.0   \n",
       "Aroche                                                 13.0     3073.0   \n",
       "Aljaraque                                              71.0    21260.0   \n",
       "Lucena del Puerto                                      30.0     3371.0   \n",
       "Cerro de Andévalo (El)                                  6.0     2364.0   \n",
       "Ayamonte                                              119.0    20946.0   \n",
       "Nerva                                                  13.0     5235.0   \n",
       "Palos de la Frontera                                   59.0    11289.0   \n",
       "Niebla                                                 33.0     4117.0   \n",
       "Isla Cristina                                          78.0    21264.0   \n",
       "Villalba del Alcor                                     12.0     3338.0   \n",
       "Paterna del Campo                                       3.0     3509.0   \n",
       "Villanueva de los Castillejos                          12.0     2820.0   \n",
       "Sanlúcar de Guadiana                                    1.0      409.0   \n",
       "Zarza-Perrunal (La)                                     1.0     1267.0   \n",
       "\n",
       "Medida                                  tasa7       tasa14  Diferencia PDIA  \\\n",
       "Lugar de residencia                                                           \n",
       "Almonte                             16.535075   268.694969              3.0   \n",
       "Minas de Riotinto                   25.987526   389.812890              0.0   \n",
       "Corteconcepción                    182.481752  2189.781022              1.0   \n",
       "Beas                                46.981442   399.342260              0.0   \n",
       "Bonares                             33.014196   214.592275              1.0   \n",
       "Puebla de Guzmán                    32.541490   195.248942              0.0   \n",
       "Alosno                              25.490696   152.944175              0.0   \n",
       "Bollullos Par del Condado           35.033632   175.168161              1.0   \n",
       "Trigueros                           38.895371   181.511733              0.0   \n",
       "Sierra de Huelva-Andévalo Central   44.397745   170.191354             10.0   \n",
       "San Bartolomé de la Torre          133.832976   481.798715              3.0   \n",
       "Valverde del Camino                 39.001560   140.405616              3.0   \n",
       "Rociana del Condado                152.768937   547.422024              3.0   \n",
       "Gibraleón                           47.592607   166.574125              3.0   \n",
       "Punta Umbría                        78.729825   242.750295              3.0   \n",
       "Paymogo                            172.562554   517.687662              0.0   \n",
       "Condado-Campiña                    125.760204   348.259027             69.0   \n",
       "Aracena                             49.340076   135.685210              2.0   \n",
       "Huelva (capital)                   158.008673   420.428364             91.0   \n",
       "Lepe                               298.931865   769.202727             23.0   \n",
       "Huelva                             146.649097   373.964988            264.0   \n",
       "Villarrasa                          91.911765   229.779412              0.0   \n",
       "Rosal de la Frontera               117.855038   294.637596              1.0   \n",
       "Huelva-Costa                       176.318484   428.301199            183.0   \n",
       "Palma del Condado (La)             325.248583   743.425332             12.0   \n",
       "San Juan del Puerto                 43.010753    96.774194              1.0   \n",
       "Moguer                             185.621152   411.988410             13.0   \n",
       "Cartaya                            170.221288   375.488135             16.0   \n",
       "Aroche                             195.248942   423.039375              0.0   \n",
       "Aljaraque                          164.628410   333.960489              8.0   \n",
       "Lucena del Puerto                  444.971818   889.943637              6.0   \n",
       "Cerro de Andévalo (El)             126.903553   253.807107              1.0   \n",
       "Ayamonte                           286.450874   568.127566             14.0   \n",
       "Nerva                              133.715377   248.328558              1.0   \n",
       "Palos de la Frontera               283.461777   522.632651             17.0   \n",
       "Niebla                             437.211562   801.554530              4.0   \n",
       "Isla Cristina                      206.922498   366.817156             25.0   \n",
       "Villalba del Alcor                 209.706411   359.496705              2.0   \n",
       "Paterna del Campo                   56.996295    85.494443              0.0   \n",
       "Villanueva de los Castillejos      319.148936   425.531915              3.0   \n",
       "Sanlúcar de Guadiana               244.498778   244.498778              0.0   \n",
       "Zarza-Perrunal (La)                 78.926598    78.926598              0.0   \n",
       "\n",
       "Medida                                 7/14  \n",
       "Lugar de residencia                          \n",
       "Almonte                            0.061538  \n",
       "Minas de Riotinto                  0.066667  \n",
       "Corteconcepción                    0.083333  \n",
       "Beas                               0.117647  \n",
       "Bonares                            0.153846  \n",
       "Puebla de Guzmán                   0.166667  \n",
       "Alosno                             0.166667  \n",
       "Bollullos Par del Condado          0.200000  \n",
       "Trigueros                          0.214286  \n",
       "Sierra de Huelva-Andévalo Central  0.260870  \n",
       "San Bartolomé de la Torre          0.277778  \n",
       "Valverde del Camino                0.277778  \n",
       "Rociana del Condado                0.279070  \n",
       "Gibraleón                          0.285714  \n",
       "Punta Umbría                       0.324324  \n",
       "Paymogo                            0.333333  \n",
       "Condado-Campiña                    0.361111  \n",
       "Aracena                            0.363636  \n",
       "Huelva (capital)                   0.375828  \n",
       "Lepe                               0.388626  \n",
       "Huelva                             0.392147  \n",
       "Villarrasa                         0.400000  \n",
       "Rosal de la Frontera               0.400000  \n",
       "Huelva-Costa                       0.411669  \n",
       "Palma del Condado (La)             0.437500  \n",
       "San Juan del Puerto                0.444444  \n",
       "Moguer                             0.450549  \n",
       "Cartaya                            0.453333  \n",
       "Aroche                             0.461538  \n",
       "Aljaraque                          0.492958  \n",
       "Lucena del Puerto                  0.500000  \n",
       "Cerro de Andévalo (El)             0.500000  \n",
       "Ayamonte                           0.504202  \n",
       "Nerva                              0.538462  \n",
       "Palos de la Frontera               0.542373  \n",
       "Niebla                             0.545455  \n",
       "Isla Cristina                      0.564103  \n",
       "Villalba del Alcor                 0.583333  \n",
       "Paterna del Campo                  0.666667  \n",
       "Villanueva de los Castillejos      0.750000  \n",
       "Sanlúcar de Guadiana               1.000000  \n",
       "Zarza-Perrunal (La)                1.000000  "
      ],
      "text/html": "<div>\n<style scoped>\n    .dataframe tbody tr th:only-of-type {\n        vertical-align: middle;\n    }\n\n    .dataframe tbody tr th {\n        vertical-align: top;\n    }\n\n    .dataframe thead th {\n        text-align: right;\n    }\n</style>\n<table border=\"1\" class=\"dataframe\">\n  <thead>\n    <tr style=\"text-align: right;\">\n      <th>Medida</th>\n      <th>Confirmados PDIA</th>\n      <th>Confirmados PDIA 7 días</th>\n      <th>Confirmados PDIA 14 días</th>\n      <th>Población</th>\n      <th>tasa7</th>\n      <th>tasa14</th>\n      <th>Diferencia PDIA</th>\n      <th>7/14</th>\n    </tr>\n    <tr>\n      <th>Lugar de residencia</th>\n      <th></th>\n      <th></th>\n      <th></th>\n      <th></th>\n      <th></th>\n      <th></th>\n      <th></th>\n      <th></th>\n    </tr>\n  </thead>\n  <tbody>\n    <tr>\n      <th>Almonte</th>\n      <td>427.0</td>\n      <td>4.0</td>\n      <td>65.0</td>\n      <td>24191.0</td>\n      <td>16.535075</td>\n      <td>268.694969</td>\n      <td>3.0</td>\n      <td>0.061538</td>\n    </tr>\n    <tr>\n      <th>Minas de Riotinto</th>\n      <td>62.0</td>\n      <td>1.0</td>\n      <td>15.0</td>\n      <td>3848.0</td>\n      <td>25.987526</td>\n      <td>389.812890</td>\n      <td>0.0</td>\n      <td>0.066667</td>\n    </tr>\n    <tr>\n      <th>Corteconcepción</th>\n      <td>18.0</td>\n      <td>1.0</td>\n      <td>12.0</td>\n      <td>548.0</td>\n      <td>182.481752</td>\n      <td>2189.781022</td>\n      <td>1.0</td>\n      <td>0.083333</td>\n    </tr>\n    <tr>\n      <th>Beas</th>\n      <td>51.0</td>\n      <td>2.0</td>\n      <td>17.0</td>\n      <td>4257.0</td>\n      <td>46.981442</td>\n      <td>399.342260</td>\n      <td>0.0</td>\n      <td>0.117647</td>\n    </tr>\n    <tr>\n      <th>Bonares</th>\n      <td>40.0</td>\n      <td>2.0</td>\n      <td>13.0</td>\n      <td>6058.0</td>\n      <td>33.014196</td>\n      <td>214.592275</td>\n      <td>1.0</td>\n      <td>0.153846</td>\n    </tr>\n    <tr>\n      <th>Puebla de Guzmán</th>\n      <td>21.0</td>\n      <td>1.0</td>\n      <td>6.0</td>\n      <td>3073.0</td>\n      <td>32.541490</td>\n      <td>195.248942</td>\n      <td>0.0</td>\n      <td>0.166667</td>\n    </tr>\n    <tr>\n      <th>Alosno</th>\n      <td>41.0</td>\n      <td>1.0</td>\n      <td>6.0</td>\n      <td>3923.0</td>\n      <td>25.490696</td>\n      <td>152.944175</td>\n      <td>0.0</td>\n      <td>0.166667</td>\n    </tr>\n    <tr>\n      <th>Bollullos Par del Condado</th>\n      <td>229.0</td>\n      <td>5.0</td>\n      <td>25.0</td>\n      <td>14272.0</td>\n      <td>35.033632</td>\n      <td>175.168161</td>\n      <td>1.0</td>\n      <td>0.200000</td>\n    </tr>\n    <tr>\n      <th>Trigueros</th>\n      <td>127.0</td>\n      <td>3.0</td>\n      <td>14.0</td>\n      <td>7713.0</td>\n      <td>38.895371</td>\n      <td>181.511733</td>\n      <td>0.0</td>\n      <td>0.214286</td>\n    </tr>\n    <tr>\n      <th>Sierra de Huelva-Andévalo Central</th>\n      <td>1226.0</td>\n      <td>30.0</td>\n      <td>115.0</td>\n      <td>67571.0</td>\n      <td>44.397745</td>\n      <td>170.191354</td>\n      <td>10.0</td>\n      <td>0.260870</td>\n    </tr>\n    <tr>\n      <th>San Bartolomé de la Torre</th>\n      <td>30.0</td>\n      <td>5.0</td>\n      <td>18.0</td>\n      <td>3736.0</td>\n      <td>133.832976</td>\n      <td>481.798715</td>\n      <td>3.0</td>\n      <td>0.277778</td>\n    </tr>\n    <tr>\n      <th>Valverde del Camino</th>\n      <td>262.0</td>\n      <td>5.0</td>\n      <td>18.0</td>\n      <td>12820.0</td>\n      <td>39.001560</td>\n      <td>140.405616</td>\n      <td>3.0</td>\n      <td>0.277778</td>\n    </tr>\n    <tr>\n      <th>Rociana del Condado</th>\n      <td>106.0</td>\n      <td>12.0</td>\n      <td>43.0</td>\n      <td>7855.0</td>\n      <td>152.768937</td>\n      <td>547.422024</td>\n      <td>3.0</td>\n      <td>0.279070</td>\n    </tr>\n    <tr>\n      <th>Gibraleón</th>\n      <td>340.0</td>\n      <td>6.0</td>\n      <td>21.0</td>\n      <td>12607.0</td>\n      <td>47.592607</td>\n      <td>166.574125</td>\n      <td>3.0</td>\n      <td>0.285714</td>\n    </tr>\n    <tr>\n      <th>Punta Umbría</th>\n      <td>212.0</td>\n      <td>12.0</td>\n      <td>37.0</td>\n      <td>15242.0</td>\n      <td>78.729825</td>\n      <td>242.750295</td>\n      <td>3.0</td>\n      <td>0.324324</td>\n    </tr>\n    <tr>\n      <th>Paymogo</th>\n      <td>12.0</td>\n      <td>2.0</td>\n      <td>6.0</td>\n      <td>1159.0</td>\n      <td>172.562554</td>\n      <td>517.687662</td>\n      <td>0.0</td>\n      <td>0.333333</td>\n    </tr>\n    <tr>\n      <th>Condado-Campiña</th>\n      <td>2961.0</td>\n      <td>195.0</td>\n      <td>540.0</td>\n      <td>155057.0</td>\n      <td>125.760204</td>\n      <td>348.259027</td>\n      <td>69.0</td>\n      <td>0.361111</td>\n    </tr>\n    <tr>\n      <th>Aracena</th>\n      <td>282.0</td>\n      <td>4.0</td>\n      <td>11.0</td>\n      <td>8107.0</td>\n      <td>49.340076</td>\n      <td>135.685210</td>\n      <td>2.0</td>\n      <td>0.363636</td>\n    </tr>\n    <tr>\n      <th>Huelva (capital)</th>\n      <td>2710.0</td>\n      <td>227.0</td>\n      <td>604.0</td>\n      <td>143663.0</td>\n      <td>158.008673</td>\n      <td>420.428364</td>\n      <td>91.0</td>\n      <td>0.375828</td>\n    </tr>\n    <tr>\n      <th>Lepe</th>\n      <td>845.0</td>\n      <td>82.0</td>\n      <td>211.0</td>\n      <td>27431.0</td>\n      <td>298.931865</td>\n      <td>769.202727</td>\n      <td>23.0</td>\n      <td>0.388626</td>\n    </tr>\n    <tr>\n      <th>Huelva</th>\n      <td>9614.0</td>\n      <td>749.0</td>\n      <td>1910.0</td>\n      <td>510743.0</td>\n      <td>146.649097</td>\n      <td>373.964988</td>\n      <td>264.0</td>\n      <td>0.392147</td>\n    </tr>\n    <tr>\n      <th>Villarrasa</th>\n      <td>90.0</td>\n      <td>2.0</td>\n      <td>5.0</td>\n      <td>2176.0</td>\n      <td>91.911765</td>\n      <td>229.779412</td>\n      <td>0.0</td>\n      <td>0.400000</td>\n    </tr>\n    <tr>\n      <th>Rosal de la Frontera</th>\n      <td>20.0</td>\n      <td>2.0</td>\n      <td>5.0</td>\n      <td>1697.0</td>\n      <td>117.855038</td>\n      <td>294.637596</td>\n      <td>1.0</td>\n      <td>0.400000</td>\n    </tr>\n    <tr>\n      <th>Huelva-Costa</th>\n      <td>5304.0</td>\n      <td>508.0</td>\n      <td>1234.0</td>\n      <td>288115.0</td>\n      <td>176.318484</td>\n      <td>428.301199</td>\n      <td>183.0</td>\n      <td>0.411669</td>\n    </tr>\n    <tr>\n      <th>Palma del Condado (La)</th>\n      <td>434.0</td>\n      <td>35.0</td>\n      <td>80.0</td>\n      <td>10761.0</td>\n      <td>325.248583</td>\n      <td>743.425332</td>\n      <td>12.0</td>\n      <td>0.437500</td>\n    </tr>\n    <tr>\n      <th>San Juan del Puerto</th>\n      <td>135.0</td>\n      <td>4.0</td>\n      <td>9.0</td>\n      <td>9300.0</td>\n      <td>43.010753</td>\n      <td>96.774194</td>\n      <td>1.0</td>\n      <td>0.444444</td>\n    </tr>\n    <tr>\n      <th>Moguer</th>\n      <td>291.0</td>\n      <td>41.0</td>\n      <td>91.0</td>\n      <td>22088.0</td>\n      <td>185.621152</td>\n      <td>411.988410</td>\n      <td>13.0</td>\n      <td>0.450549</td>\n    </tr>\n    <tr>\n      <th>Cartaya</th>\n      <td>306.0</td>\n      <td>34.0</td>\n      <td>75.0</td>\n      <td>19974.0</td>\n      <td>170.221288</td>\n      <td>375.488135</td>\n      <td>16.0</td>\n      <td>0.453333</td>\n    </tr>\n    <tr>\n      <th>Aroche</th>\n      <td>49.0</td>\n      <td>6.0</td>\n      <td>13.0</td>\n      <td>3073.0</td>\n      <td>195.248942</td>\n      <td>423.039375</td>\n      <td>0.0</td>\n      <td>0.461538</td>\n    </tr>\n    <tr>\n      <th>Aljaraque</th>\n      <td>359.0</td>\n      <td>35.0</td>\n      <td>71.0</td>\n      <td>21260.0</td>\n      <td>164.628410</td>\n      <td>333.960489</td>\n      <td>8.0</td>\n      <td>0.492958</td>\n    </tr>\n    <tr>\n      <th>Lucena del Puerto</th>\n      <td>70.0</td>\n      <td>15.0</td>\n      <td>30.0</td>\n      <td>3371.0</td>\n      <td>444.971818</td>\n      <td>889.943637</td>\n      <td>6.0</td>\n      <td>0.500000</td>\n    </tr>\n    <tr>\n      <th>Cerro de Andévalo (El)</th>\n      <td>36.0</td>\n      <td>3.0</td>\n      <td>6.0</td>\n      <td>2364.0</td>\n      <td>126.903553</td>\n      <td>253.807107</td>\n      <td>1.0</td>\n      <td>0.500000</td>\n    </tr>\n    <tr>\n      <th>Ayamonte</th>\n      <td>309.0</td>\n      <td>60.0</td>\n      <td>119.0</td>\n      <td>20946.0</td>\n      <td>286.450874</td>\n      <td>568.127566</td>\n      <td>14.0</td>\n      <td>0.504202</td>\n    </tr>\n    <tr>\n      <th>Nerva</th>\n      <td>85.0</td>\n      <td>7.0</td>\n      <td>13.0</td>\n      <td>5235.0</td>\n      <td>133.715377</td>\n      <td>248.328558</td>\n      <td>1.0</td>\n      <td>0.538462</td>\n    </tr>\n    <tr>\n      <th>Palos de la Frontera</th>\n      <td>199.0</td>\n      <td>32.0</td>\n      <td>59.0</td>\n      <td>11289.0</td>\n      <td>283.461777</td>\n      <td>522.632651</td>\n      <td>17.0</td>\n      <td>0.542373</td>\n    </tr>\n    <tr>\n      <th>Niebla</th>\n      <td>112.0</td>\n      <td>18.0</td>\n      <td>33.0</td>\n      <td>4117.0</td>\n      <td>437.211562</td>\n      <td>801.554530</td>\n      <td>4.0</td>\n      <td>0.545455</td>\n    </tr>\n    <tr>\n      <th>Isla Cristina</th>\n      <td>296.0</td>\n      <td>44.0</td>\n      <td>78.0</td>\n      <td>21264.0</td>\n      <td>206.922498</td>\n      <td>366.817156</td>\n      <td>25.0</td>\n      <td>0.564103</td>\n    </tr>\n    <tr>\n      <th>Villalba del Alcor</th>\n      <td>93.0</td>\n      <td>7.0</td>\n      <td>12.0</td>\n      <td>3338.0</td>\n      <td>209.706411</td>\n      <td>359.496705</td>\n      <td>2.0</td>\n      <td>0.583333</td>\n    </tr>\n    <tr>\n      <th>Paterna del Campo</th>\n      <td>52.0</td>\n      <td>2.0</td>\n      <td>3.0</td>\n      <td>3509.0</td>\n      <td>56.996295</td>\n      <td>85.494443</td>\n      <td>0.0</td>\n      <td>0.666667</td>\n    </tr>\n    <tr>\n      <th>Villanueva de los Castillejos</th>\n      <td>54.0</td>\n      <td>9.0</td>\n      <td>12.0</td>\n      <td>2820.0</td>\n      <td>319.148936</td>\n      <td>425.531915</td>\n      <td>3.0</td>\n      <td>0.750000</td>\n    </tr>\n    <tr>\n      <th>Sanlúcar de Guadiana</th>\n      <td>3.0</td>\n      <td>1.0</td>\n      <td>1.0</td>\n      <td>409.0</td>\n      <td>244.498778</td>\n      <td>244.498778</td>\n      <td>0.0</td>\n      <td>1.000000</td>\n    </tr>\n    <tr>\n      <th>Zarza-Perrunal (La)</th>\n      <td>13.0</td>\n      <td>1.0</td>\n      <td>1.0</td>\n      <td>1267.0</td>\n      <td>78.926598</td>\n      <td>78.926598</td>\n      <td>0.0</td>\n      <td>1.000000</td>\n    </tr>\n  </tbody>\n</table>\n</div>"
     },
     "metadata": {},
     "execution_count": 18
    }
   ],
   "source": [
    "# Peso de la tasa de la última semana en relación con la tasa a 14 días \n",
    "# Mejor cuanto menor. Valor 1 significa que no había casos antes de 7 días.\n",
    "tabla['7/14'] = tabla['tasa7'] / tabla['tasa14']\n",
    "tabla.fillna(0).sort_values('7/14', ascending=True)"
   ]
  },
  {
   "cell_type": "code",
   "execution_count": null,
   "metadata": {},
   "outputs": [],
   "source": []
  }
 ]
}