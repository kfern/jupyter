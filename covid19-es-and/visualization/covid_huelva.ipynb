{
 "metadata": {
  "language_info": {
   "codemirror_mode": {
    "name": "ipython",
    "version": 3
   },
   "file_extension": ".py",
   "mimetype": "text/x-python",
   "name": "python",
   "nbconvert_exporter": "python",
   "pygments_lexer": "ipython3",
   "version": "3.6.9-final"
  },
  "orig_nbformat": 2,
  "kernelspec": {
   "name": "Python 3.6.9 64-bit",
   "display_name": "Python 3.6.9 64-bit",
   "metadata": {
    "interpreter": {
     "hash": "31f2aee4e71d21fbe5cf8b01ff0e069b9275f58929596ceb00d14d90e3e16cd6"
    }
   }
  }
 },
 "nbformat": 4,
 "nbformat_minor": 2,
 "cells": [
  {
   "cell_type": "code",
   "execution_count": 1,
   "metadata": {},
   "outputs": [],
   "source": [
    "import pandas as pd"
   ]
  },
  {
   "cell_type": "code",
   "execution_count": 2,
   "metadata": {},
   "outputs": [],
   "source": [
    "# FIX SSL: CERTIFICATE_VERIFY_FAILED with Python3\n",
    "# https://stackoverflow.com/a/49174340\n",
    "import ssl\n",
    "\n",
    "ssl._create_default_https_context = ssl._create_unverified_context"
   ]
  },
  {
   "cell_type": "code",
   "execution_count": 3,
   "metadata": {},
   "outputs": [],
   "source": [
    "url = 'https://www.juntadeandalucia.es/institutodeestadisticaycartografia/badea/stpivot/stpivot/Print?cube=013d884c-cfc5-4c21-9e78-e26225682afd&type=3&foto=si&ejecutaDesde=&codConsulta=38668&consTipoVisua=JP'\n",
    "fields = ['Lugar de residencia', 'Medida', 'Valor']\n",
    "df = pd.read_csv(url, delimiter=';', usecols=fields, decimal=',')"
   ]
  },
  {
   "cell_type": "code",
   "execution_count": 4,
   "metadata": {},
   "outputs": [
    {
     "output_type": "execute_result",
     "data": {
      "text/plain": [
       "                     Lugar de residencia                    Medida  \\\n",
       "0                                 Huelva                 Población   \n",
       "1                                 Huelva          Confirmados PDIA   \n",
       "2                                 Huelva  Confirmados PDIA 14 días   \n",
       "3                                 Huelva         Tasa PDIA 14 días   \n",
       "4                                 Huelva   Confirmados PDIA 7 días   \n",
       "..                                   ...                       ...   \n",
       "627  Municipio de Huelva sin especificar         Tasa PDIA 14 días   \n",
       "628  Municipio de Huelva sin especificar   Confirmados PDIA 7 días   \n",
       "629  Municipio de Huelva sin especificar        Total Confirmados    \n",
       "630  Municipio de Huelva sin especificar                   Curados   \n",
       "631  Municipio de Huelva sin especificar                Fallecidos   \n",
       "\n",
       "                  Valor  \n",
       "0                510743  \n",
       "1                  2398  \n",
       "2                   733  \n",
       "3    143,51640649015258  \n",
       "4                   382  \n",
       "..                  ...  \n",
       "627                   -  \n",
       "628                   8  \n",
       "629                  41  \n",
       "630                  10  \n",
       "631                   1  \n",
       "\n",
       "[632 rows x 3 columns]"
      ],
      "text/html": "<div>\n<style scoped>\n    .dataframe tbody tr th:only-of-type {\n        vertical-align: middle;\n    }\n\n    .dataframe tbody tr th {\n        vertical-align: top;\n    }\n\n    .dataframe thead th {\n        text-align: right;\n    }\n</style>\n<table border=\"1\" class=\"dataframe\">\n  <thead>\n    <tr style=\"text-align: right;\">\n      <th></th>\n      <th>Lugar de residencia</th>\n      <th>Medida</th>\n      <th>Valor</th>\n    </tr>\n  </thead>\n  <tbody>\n    <tr>\n      <th>0</th>\n      <td>Huelva</td>\n      <td>Población</td>\n      <td>510743</td>\n    </tr>\n    <tr>\n      <th>1</th>\n      <td>Huelva</td>\n      <td>Confirmados PDIA</td>\n      <td>2398</td>\n    </tr>\n    <tr>\n      <th>2</th>\n      <td>Huelva</td>\n      <td>Confirmados PDIA 14 días</td>\n      <td>733</td>\n    </tr>\n    <tr>\n      <th>3</th>\n      <td>Huelva</td>\n      <td>Tasa PDIA 14 días</td>\n      <td>143,51640649015258</td>\n    </tr>\n    <tr>\n      <th>4</th>\n      <td>Huelva</td>\n      <td>Confirmados PDIA 7 días</td>\n      <td>382</td>\n    </tr>\n    <tr>\n      <th>...</th>\n      <td>...</td>\n      <td>...</td>\n      <td>...</td>\n    </tr>\n    <tr>\n      <th>627</th>\n      <td>Municipio de Huelva sin especificar</td>\n      <td>Tasa PDIA 14 días</td>\n      <td>-</td>\n    </tr>\n    <tr>\n      <th>628</th>\n      <td>Municipio de Huelva sin especificar</td>\n      <td>Confirmados PDIA 7 días</td>\n      <td>8</td>\n    </tr>\n    <tr>\n      <th>629</th>\n      <td>Municipio de Huelva sin especificar</td>\n      <td>Total Confirmados</td>\n      <td>41</td>\n    </tr>\n    <tr>\n      <th>630</th>\n      <td>Municipio de Huelva sin especificar</td>\n      <td>Curados</td>\n      <td>10</td>\n    </tr>\n    <tr>\n      <th>631</th>\n      <td>Municipio de Huelva sin especificar</td>\n      <td>Fallecidos</td>\n      <td>1</td>\n    </tr>\n  </tbody>\n</table>\n<p>632 rows × 3 columns</p>\n</div>"
     },
     "metadata": {},
     "execution_count": 4
    }
   ],
   "source": [
    "df"
   ]
  },
  {
   "cell_type": "code",
   "execution_count": 5,
   "metadata": {},
   "outputs": [],
   "source": [
    "df['Valor'] = pd.to_numeric(df['Valor'],errors='coerce')"
   ]
  },
  {
   "cell_type": "code",
   "execution_count": 6,
   "metadata": {},
   "outputs": [],
   "source": [
    "dfAnterior = pd.read_csv('covid_huelva.csv', index_col='Lugar de residencia')"
   ]
  },
  {
   "cell_type": "code",
   "execution_count": 7,
   "metadata": {
    "tags": []
   },
   "outputs": [
    {
     "output_type": "stream",
     "name": "stdout",
     "text": [
      "Confirmados PCR en la provincia de Huelva:  2398.0\n"
     ]
    }
   ],
   "source": [
    "# Confirmados PCR provincia Huelva\n",
    "p = df[df['Lugar de residencia'] == 'Huelva'][df['Medida'] == 'Confirmados PDIA']['Valor'].values[0]\n",
    "print('Confirmados PCR en la provincia de Huelva: ', p)"
   ]
  },
  {
   "cell_type": "code",
   "execution_count": 8,
   "metadata": {
    "tags": []
   },
   "outputs": [
    {
     "output_type": "stream",
     "name": "stdout",
     "text": [
      "Confirmados PCR en Huelva capital:  628.0\n"
     ]
    }
   ],
   "source": [
    "# Confirmados PCR Huelva capitalpd\n",
    "c = df[df['Lugar de residencia'] == 'Huelva (capital)'][df['Medida'] == 'Confirmados PDIA']['Valor'].values[0]\n",
    "print('Confirmados PCR en Huelva capital: ', c)"
   ]
  },
  {
   "cell_type": "code",
   "execution_count": 9,
   "metadata": {
    "tags": []
   },
   "outputs": [],
   "source": [
    "c7 = df[df['Lugar de residencia'] == 'Huelva (capital)'][df['Medida'] == 'Confirmados PDIA 7 días']['Valor'].values[0]\n",
    "c14 = df[df['Lugar de residencia'] == 'Huelva (capital)'][df['Medida'] == 'Confirmados PDIA 14 días']['Valor'].values[0]\n",
    "p = df[df['Lugar de residencia'] == 'Huelva (capital)'][df['Medida'] == 'Población']['Valor'].values[0]"
   ]
  },
  {
   "cell_type": "code",
   "execution_count": 10,
   "metadata": {
    "tags": []
   },
   "outputs": [
    {
     "output_type": "stream",
     "name": "stdout",
     "text": [
      "Huelva (capital)\n\nUn positivo PCR cada 1528 personas en los últimos 7 días \n\nUn positivo PCR cada 639 personas en los últimos 14 días\n"
     ]
    }
   ],
   "source": [
    "print('Huelva (capital)\\n')\n",
    "#print('Confirmados PCR 7 días x 1,000 habitantes: ', f\"{c7/(p/1000):.5f}\")\n",
    "print('Un positivo PCR cada', f\"{p/c7:.0f}\", 'personas en los últimos 7 días', '\\n')\n",
    "#print('Confirmados PCR 14 días x 1,000 habitantes: ', f\"{c14/(p/1000):.5f}\")\n",
    "print('Un positivo PCR cada', f\"{p/c14:.0f}\", 'personas en los últimos 14 días')"
   ]
  },
  {
   "cell_type": "code",
   "execution_count": 11,
   "metadata": {},
   "outputs": [],
   "source": [
    "filtro = ((df['Medida'] == 'Confirmados PDIA')| (df['Medida'] == 'Confirmados PDIA 7 días') | (df['Medida'] == 'Población' ) | (df['Medida'] == 'Confirmados PDIA 14 días')) & (df['Valor'] > 0)\n",
    "tabla = pd.pivot_table(df.loc[filtro], values='Valor', index='Lugar de residencia', columns='Medida').dropna()"
   ]
  },
  {
   "cell_type": "code",
   "execution_count": 12,
   "metadata": {},
   "outputs": [],
   "source": [
    "# Reorder columns\n",
    "tabla = tabla[['Confirmados PDIA', 'Confirmados PDIA 7 días', 'Confirmados PDIA 14 días', 'Población']]"
   ]
  },
  {
   "cell_type": "code",
   "execution_count": 13,
   "metadata": {},
   "outputs": [],
   "source": [
    "tabla['tasa7'] = tabla['Confirmados PDIA 7 días']/tabla['Población']*100000\n",
    "tabla['tasa14'] = tabla['Confirmados PDIA 14 días']/tabla['Población']*100000"
   ]
  },
  {
   "cell_type": "code",
   "execution_count": 14,
   "metadata": {},
   "outputs": [],
   "source": [
    "tabla['Diferencia PDIA'] = tabla['Confirmados PDIA'] - dfAnterior['Confirmados PDIA']"
   ]
  },
  {
   "cell_type": "code",
   "execution_count": 15,
   "metadata": {},
   "outputs": [
    {
     "output_type": "execute_result",
     "data": {
      "text/plain": [
       "Medida                             Confirmados PDIA  Confirmados PDIA 7 días  \\\n",
       "Lugar de residencia                                                            \n",
       "Huelva                                       2398.0                    382.0   \n",
       "Huelva-Costa                                 1247.0                    205.0   \n",
       "Condado-Campiña                               791.0                    106.0   \n",
       "Huelva (capital)                              628.0                     94.0   \n",
       "Sierra de Huelva-Andévalo Central             319.0                     63.0   \n",
       "Lepe                                          186.0                     41.0   \n",
       "Cortegana                                      39.0                     26.0   \n",
       "Almonte                                        90.0                     24.0   \n",
       "Aljaraque                                      98.0                     14.0   \n",
       "Granado (El)                                   26.0                     14.0   \n",
       "Palma del Condado (La)                        114.0                     17.0   \n",
       "Niebla                                         14.0                      7.0   \n",
       "Isla Cristina                                  90.0                     12.0   \n",
       "Bollullos Par del Condado                     122.0                      9.0   \n",
       "Gibraleón                                      51.0                     12.0   \n",
       "Villanueva de los Castillejos                  25.0                      7.0   \n",
       "Cartaya                                        46.0                     11.0   \n",
       "Ayamonte                                       62.0                     10.0   \n",
       "Cerro de Andévalo (El)                         18.0                     13.0   \n",
       "Almonaster la Real                              6.0                      4.0   \n",
       "Moguer                                         62.0                      7.0   \n",
       "Nerva                                          29.0                      3.0   \n",
       "San Juan del Puerto                            77.0                      3.0   \n",
       "Rociana del Condado                            14.0                      3.0   \n",
       "Trigueros                                      41.0                      3.0   \n",
       "Aracena                                        64.0                      6.0   \n",
       "San Bartolomé de la Torre                       6.0                      2.0   \n",
       "Higuera de la Sierra                            5.0                      1.0   \n",
       "Punta Umbría                                   40.0                      1.0   \n",
       "Paterna del Campo                              19.0                      4.0   \n",
       "Minas de Riotinto                              21.0                      1.0   \n",
       "Marines (Los)                                   2.0                      2.0   \n",
       "Escacena del Campo                             20.0                      2.0   \n",
       "Villarrasa                                     30.0                      3.0   \n",
       "Aroche                                         11.0                      1.0   \n",
       "Bonares                                        10.0                      3.0   \n",
       "Campillo (El)                                  28.0                      1.0   \n",
       "Jabugo                                         15.0                      1.0   \n",
       "Lucena del Puerto                              16.0                      2.0   \n",
       "Palos de la Frontera                           33.0                      3.0   \n",
       "Puerto Moral                                    1.0                      1.0   \n",
       "Sanlúcar de Guadiana                            1.0                      1.0   \n",
       "Valdelarco                                      3.0                      1.0   \n",
       "Villalba del Alcor                             44.0                      2.0   \n",
       "\n",
       "Medida                             Confirmados PDIA 14 días  Población  \\\n",
       "Lugar de residencia                                                      \n",
       "Huelva                                                733.0   510743.0   \n",
       "Huelva-Costa                                          413.0   288115.0   \n",
       "Condado-Campiña                                       207.0   155057.0   \n",
       "Huelva (capital)                                      225.0   143663.0   \n",
       "Sierra de Huelva-Andévalo Central                      96.0    67571.0   \n",
       "Lepe                                                   64.0    27431.0   \n",
       "Cortegana                                              29.0     4666.0   \n",
       "Almonte                                                34.0    24191.0   \n",
       "Aljaraque                                              25.0    21260.0   \n",
       "Granado (El)                                           24.0      516.0   \n",
       "Palma del Condado (La)                                 32.0    10761.0   \n",
       "Niebla                                                  9.0     4117.0   \n",
       "Isla Cristina                                          22.0    21264.0   \n",
       "Bollullos Par del Condado                              17.0    14272.0   \n",
       "Gibraleón                                              21.0    12607.0   \n",
       "Villanueva de los Castillejos                          15.0     2820.0   \n",
       "Cartaya                                                20.0    19974.0   \n",
       "Ayamonte                                               10.0    20946.0   \n",
       "Cerro de Andévalo (El)                                 13.0     2364.0   \n",
       "Almonaster la Real                                      5.0     1819.0   \n",
       "Moguer                                                 13.0    22088.0   \n",
       "Nerva                                                   5.0     5235.0   \n",
       "San Juan del Puerto                                    24.0     9300.0   \n",
       "Rociana del Condado                                     4.0     7855.0   \n",
       "Trigueros                                               4.0     7713.0   \n",
       "Aracena                                                11.0     8107.0   \n",
       "San Bartolomé de la Torre                               3.0     3736.0   \n",
       "Higuera de la Sierra                                    3.0     1287.0   \n",
       "Punta Umbría                                            4.0    15242.0   \n",
       "Paterna del Campo                                       7.0     3509.0   \n",
       "Minas de Riotinto                                       3.0     3848.0   \n",
       "Marines (Los)                                           2.0      396.0   \n",
       "Escacena del Campo                                      5.0     2284.0   \n",
       "Villarrasa                                             19.0     2176.0   \n",
       "Aroche                                                  1.0     3073.0   \n",
       "Bonares                                                 3.0     6058.0   \n",
       "Campillo (El)                                           2.0     2023.0   \n",
       "Jabugo                                                  9.0     2250.0   \n",
       "Lucena del Puerto                                       4.0     3371.0   \n",
       "Palos de la Frontera                                    4.0    11289.0   \n",
       "Puerto Moral                                            1.0      282.0   \n",
       "Sanlúcar de Guadiana                                    1.0      409.0   \n",
       "Valdelarco                                              1.0      239.0   \n",
       "Villalba del Alcor                                      2.0     3338.0   \n",
       "\n",
       "Medida                                   tasa7       tasa14  Diferencia PDIA  \n",
       "Lugar de residencia                                                           \n",
       "Huelva                               74.792998   143.516406            213.0  \n",
       "Huelva-Costa                         71.152144   143.345539            105.0  \n",
       "Condado-Campiña                      68.361957   133.499294             62.0  \n",
       "Huelva (capital)                     65.430904   156.616526             45.0  \n",
       "Sierra de Huelva-Andévalo Central    93.235264   142.072783             37.0  \n",
       "Lepe                                149.465933   233.312675             17.0  \n",
       "Cortegana                           557.222460   621.517360             17.0  \n",
       "Almonte                              99.210450   140.548138             14.0  \n",
       "Aljaraque                            65.851364   117.591722             11.0  \n",
       "Granado (El)                       2713.178295  4651.162791              9.0  \n",
       "Palma del Condado (La)              157.977883   297.370133              6.0  \n",
       "Niebla                              170.026718   218.605781              6.0  \n",
       "Isla Cristina                        56.433409   103.461249              6.0  \n",
       "Bollullos Par del Condado            63.060538   119.114350              6.0  \n",
       "Gibraleón                            95.185215   166.574125              6.0  \n",
       "Villanueva de los Castillejos       248.226950   531.914894              5.0  \n",
       "Cartaya                              55.071593   100.130169              5.0  \n",
       "Ayamonte                             47.741812    47.741812              5.0  \n",
       "Cerro de Andévalo (El)              549.915398   549.915398              4.0  \n",
       "Almonaster la Real                  219.901045   274.876306              4.0  \n",
       "Moguer                               31.691416    58.855487              4.0  \n",
       "Nerva                                57.306590    95.510984              3.0  \n",
       "San Juan del Puerto                  32.258065   258.064516              3.0  \n",
       "Rociana del Condado                  38.192234    50.922979              2.0  \n",
       "Trigueros                            38.895371    51.860495              2.0  \n",
       "Aracena                              74.010115   135.685210              1.0  \n",
       "San Bartolomé de la Torre            53.533191    80.299786              1.0  \n",
       "Higuera de la Sierra                 77.700078   233.100233              1.0  \n",
       "Punta Umbría                          6.560819    26.243275              1.0  \n",
       "Paterna del Campo                   113.992590   199.487033              1.0  \n",
       "Minas de Riotinto                    25.987526    77.962578              1.0  \n",
       "Marines (Los)                       505.050505   505.050505              1.0  \n",
       "Escacena del Campo                   87.565674   218.914186              1.0  \n",
       "Villarrasa                          137.867647   873.161765              1.0  \n",
       "Aroche                               32.541490    32.541490              NaN  \n",
       "Bonares                              49.521294    49.521294              NaN  \n",
       "Campillo (El)                        49.431537    98.863075              NaN  \n",
       "Jabugo                               44.444444   400.000000              NaN  \n",
       "Lucena del Puerto                    59.329576   118.659152              NaN  \n",
       "Palos de la Frontera                 26.574542    35.432722              NaN  \n",
       "Puerto Moral                        354.609929   354.609929              NaN  \n",
       "Sanlúcar de Guadiana                244.498778   244.498778              NaN  \n",
       "Valdelarco                          418.410042   418.410042              NaN  \n",
       "Villalba del Alcor                   59.916117    59.916117              NaN  "
      ],
      "text/html": "<div>\n<style scoped>\n    .dataframe tbody tr th:only-of-type {\n        vertical-align: middle;\n    }\n\n    .dataframe tbody tr th {\n        vertical-align: top;\n    }\n\n    .dataframe thead th {\n        text-align: right;\n    }\n</style>\n<table border=\"1\" class=\"dataframe\">\n  <thead>\n    <tr style=\"text-align: right;\">\n      <th>Medida</th>\n      <th>Confirmados PDIA</th>\n      <th>Confirmados PDIA 7 días</th>\n      <th>Confirmados PDIA 14 días</th>\n      <th>Población</th>\n      <th>tasa7</th>\n      <th>tasa14</th>\n      <th>Diferencia PDIA</th>\n    </tr>\n    <tr>\n      <th>Lugar de residencia</th>\n      <th></th>\n      <th></th>\n      <th></th>\n      <th></th>\n      <th></th>\n      <th></th>\n      <th></th>\n    </tr>\n  </thead>\n  <tbody>\n    <tr>\n      <th>Huelva</th>\n      <td>2398.0</td>\n      <td>382.0</td>\n      <td>733.0</td>\n      <td>510743.0</td>\n      <td>74.792998</td>\n      <td>143.516406</td>\n      <td>213.0</td>\n    </tr>\n    <tr>\n      <th>Huelva-Costa</th>\n      <td>1247.0</td>\n      <td>205.0</td>\n      <td>413.0</td>\n      <td>288115.0</td>\n      <td>71.152144</td>\n      <td>143.345539</td>\n      <td>105.0</td>\n    </tr>\n    <tr>\n      <th>Condado-Campiña</th>\n      <td>791.0</td>\n      <td>106.0</td>\n      <td>207.0</td>\n      <td>155057.0</td>\n      <td>68.361957</td>\n      <td>133.499294</td>\n      <td>62.0</td>\n    </tr>\n    <tr>\n      <th>Huelva (capital)</th>\n      <td>628.0</td>\n      <td>94.0</td>\n      <td>225.0</td>\n      <td>143663.0</td>\n      <td>65.430904</td>\n      <td>156.616526</td>\n      <td>45.0</td>\n    </tr>\n    <tr>\n      <th>Sierra de Huelva-Andévalo Central</th>\n      <td>319.0</td>\n      <td>63.0</td>\n      <td>96.0</td>\n      <td>67571.0</td>\n      <td>93.235264</td>\n      <td>142.072783</td>\n      <td>37.0</td>\n    </tr>\n    <tr>\n      <th>Lepe</th>\n      <td>186.0</td>\n      <td>41.0</td>\n      <td>64.0</td>\n      <td>27431.0</td>\n      <td>149.465933</td>\n      <td>233.312675</td>\n      <td>17.0</td>\n    </tr>\n    <tr>\n      <th>Cortegana</th>\n      <td>39.0</td>\n      <td>26.0</td>\n      <td>29.0</td>\n      <td>4666.0</td>\n      <td>557.222460</td>\n      <td>621.517360</td>\n      <td>17.0</td>\n    </tr>\n    <tr>\n      <th>Almonte</th>\n      <td>90.0</td>\n      <td>24.0</td>\n      <td>34.0</td>\n      <td>24191.0</td>\n      <td>99.210450</td>\n      <td>140.548138</td>\n      <td>14.0</td>\n    </tr>\n    <tr>\n      <th>Aljaraque</th>\n      <td>98.0</td>\n      <td>14.0</td>\n      <td>25.0</td>\n      <td>21260.0</td>\n      <td>65.851364</td>\n      <td>117.591722</td>\n      <td>11.0</td>\n    </tr>\n    <tr>\n      <th>Granado (El)</th>\n      <td>26.0</td>\n      <td>14.0</td>\n      <td>24.0</td>\n      <td>516.0</td>\n      <td>2713.178295</td>\n      <td>4651.162791</td>\n      <td>9.0</td>\n    </tr>\n    <tr>\n      <th>Palma del Condado (La)</th>\n      <td>114.0</td>\n      <td>17.0</td>\n      <td>32.0</td>\n      <td>10761.0</td>\n      <td>157.977883</td>\n      <td>297.370133</td>\n      <td>6.0</td>\n    </tr>\n    <tr>\n      <th>Niebla</th>\n      <td>14.0</td>\n      <td>7.0</td>\n      <td>9.0</td>\n      <td>4117.0</td>\n      <td>170.026718</td>\n      <td>218.605781</td>\n      <td>6.0</td>\n    </tr>\n    <tr>\n      <th>Isla Cristina</th>\n      <td>90.0</td>\n      <td>12.0</td>\n      <td>22.0</td>\n      <td>21264.0</td>\n      <td>56.433409</td>\n      <td>103.461249</td>\n      <td>6.0</td>\n    </tr>\n    <tr>\n      <th>Bollullos Par del Condado</th>\n      <td>122.0</td>\n      <td>9.0</td>\n      <td>17.0</td>\n      <td>14272.0</td>\n      <td>63.060538</td>\n      <td>119.114350</td>\n      <td>6.0</td>\n    </tr>\n    <tr>\n      <th>Gibraleón</th>\n      <td>51.0</td>\n      <td>12.0</td>\n      <td>21.0</td>\n      <td>12607.0</td>\n      <td>95.185215</td>\n      <td>166.574125</td>\n      <td>6.0</td>\n    </tr>\n    <tr>\n      <th>Villanueva de los Castillejos</th>\n      <td>25.0</td>\n      <td>7.0</td>\n      <td>15.0</td>\n      <td>2820.0</td>\n      <td>248.226950</td>\n      <td>531.914894</td>\n      <td>5.0</td>\n    </tr>\n    <tr>\n      <th>Cartaya</th>\n      <td>46.0</td>\n      <td>11.0</td>\n      <td>20.0</td>\n      <td>19974.0</td>\n      <td>55.071593</td>\n      <td>100.130169</td>\n      <td>5.0</td>\n    </tr>\n    <tr>\n      <th>Ayamonte</th>\n      <td>62.0</td>\n      <td>10.0</td>\n      <td>10.0</td>\n      <td>20946.0</td>\n      <td>47.741812</td>\n      <td>47.741812</td>\n      <td>5.0</td>\n    </tr>\n    <tr>\n      <th>Cerro de Andévalo (El)</th>\n      <td>18.0</td>\n      <td>13.0</td>\n      <td>13.0</td>\n      <td>2364.0</td>\n      <td>549.915398</td>\n      <td>549.915398</td>\n      <td>4.0</td>\n    </tr>\n    <tr>\n      <th>Almonaster la Real</th>\n      <td>6.0</td>\n      <td>4.0</td>\n      <td>5.0</td>\n      <td>1819.0</td>\n      <td>219.901045</td>\n      <td>274.876306</td>\n      <td>4.0</td>\n    </tr>\n    <tr>\n      <th>Moguer</th>\n      <td>62.0</td>\n      <td>7.0</td>\n      <td>13.0</td>\n      <td>22088.0</td>\n      <td>31.691416</td>\n      <td>58.855487</td>\n      <td>4.0</td>\n    </tr>\n    <tr>\n      <th>Nerva</th>\n      <td>29.0</td>\n      <td>3.0</td>\n      <td>5.0</td>\n      <td>5235.0</td>\n      <td>57.306590</td>\n      <td>95.510984</td>\n      <td>3.0</td>\n    </tr>\n    <tr>\n      <th>San Juan del Puerto</th>\n      <td>77.0</td>\n      <td>3.0</td>\n      <td>24.0</td>\n      <td>9300.0</td>\n      <td>32.258065</td>\n      <td>258.064516</td>\n      <td>3.0</td>\n    </tr>\n    <tr>\n      <th>Rociana del Condado</th>\n      <td>14.0</td>\n      <td>3.0</td>\n      <td>4.0</td>\n      <td>7855.0</td>\n      <td>38.192234</td>\n      <td>50.922979</td>\n      <td>2.0</td>\n    </tr>\n    <tr>\n      <th>Trigueros</th>\n      <td>41.0</td>\n      <td>3.0</td>\n      <td>4.0</td>\n      <td>7713.0</td>\n      <td>38.895371</td>\n      <td>51.860495</td>\n      <td>2.0</td>\n    </tr>\n    <tr>\n      <th>Aracena</th>\n      <td>64.0</td>\n      <td>6.0</td>\n      <td>11.0</td>\n      <td>8107.0</td>\n      <td>74.010115</td>\n      <td>135.685210</td>\n      <td>1.0</td>\n    </tr>\n    <tr>\n      <th>San Bartolomé de la Torre</th>\n      <td>6.0</td>\n      <td>2.0</td>\n      <td>3.0</td>\n      <td>3736.0</td>\n      <td>53.533191</td>\n      <td>80.299786</td>\n      <td>1.0</td>\n    </tr>\n    <tr>\n      <th>Higuera de la Sierra</th>\n      <td>5.0</td>\n      <td>1.0</td>\n      <td>3.0</td>\n      <td>1287.0</td>\n      <td>77.700078</td>\n      <td>233.100233</td>\n      <td>1.0</td>\n    </tr>\n    <tr>\n      <th>Punta Umbría</th>\n      <td>40.0</td>\n      <td>1.0</td>\n      <td>4.0</td>\n      <td>15242.0</td>\n      <td>6.560819</td>\n      <td>26.243275</td>\n      <td>1.0</td>\n    </tr>\n    <tr>\n      <th>Paterna del Campo</th>\n      <td>19.0</td>\n      <td>4.0</td>\n      <td>7.0</td>\n      <td>3509.0</td>\n      <td>113.992590</td>\n      <td>199.487033</td>\n      <td>1.0</td>\n    </tr>\n    <tr>\n      <th>Minas de Riotinto</th>\n      <td>21.0</td>\n      <td>1.0</td>\n      <td>3.0</td>\n      <td>3848.0</td>\n      <td>25.987526</td>\n      <td>77.962578</td>\n      <td>1.0</td>\n    </tr>\n    <tr>\n      <th>Marines (Los)</th>\n      <td>2.0</td>\n      <td>2.0</td>\n      <td>2.0</td>\n      <td>396.0</td>\n      <td>505.050505</td>\n      <td>505.050505</td>\n      <td>1.0</td>\n    </tr>\n    <tr>\n      <th>Escacena del Campo</th>\n      <td>20.0</td>\n      <td>2.0</td>\n      <td>5.0</td>\n      <td>2284.0</td>\n      <td>87.565674</td>\n      <td>218.914186</td>\n      <td>1.0</td>\n    </tr>\n    <tr>\n      <th>Villarrasa</th>\n      <td>30.0</td>\n      <td>3.0</td>\n      <td>19.0</td>\n      <td>2176.0</td>\n      <td>137.867647</td>\n      <td>873.161765</td>\n      <td>1.0</td>\n    </tr>\n    <tr>\n      <th>Aroche</th>\n      <td>11.0</td>\n      <td>1.0</td>\n      <td>1.0</td>\n      <td>3073.0</td>\n      <td>32.541490</td>\n      <td>32.541490</td>\n      <td>NaN</td>\n    </tr>\n    <tr>\n      <th>Bonares</th>\n      <td>10.0</td>\n      <td>3.0</td>\n      <td>3.0</td>\n      <td>6058.0</td>\n      <td>49.521294</td>\n      <td>49.521294</td>\n      <td>NaN</td>\n    </tr>\n    <tr>\n      <th>Campillo (El)</th>\n      <td>28.0</td>\n      <td>1.0</td>\n      <td>2.0</td>\n      <td>2023.0</td>\n      <td>49.431537</td>\n      <td>98.863075</td>\n      <td>NaN</td>\n    </tr>\n    <tr>\n      <th>Jabugo</th>\n      <td>15.0</td>\n      <td>1.0</td>\n      <td>9.0</td>\n      <td>2250.0</td>\n      <td>44.444444</td>\n      <td>400.000000</td>\n      <td>NaN</td>\n    </tr>\n    <tr>\n      <th>Lucena del Puerto</th>\n      <td>16.0</td>\n      <td>2.0</td>\n      <td>4.0</td>\n      <td>3371.0</td>\n      <td>59.329576</td>\n      <td>118.659152</td>\n      <td>NaN</td>\n    </tr>\n    <tr>\n      <th>Palos de la Frontera</th>\n      <td>33.0</td>\n      <td>3.0</td>\n      <td>4.0</td>\n      <td>11289.0</td>\n      <td>26.574542</td>\n      <td>35.432722</td>\n      <td>NaN</td>\n    </tr>\n    <tr>\n      <th>Puerto Moral</th>\n      <td>1.0</td>\n      <td>1.0</td>\n      <td>1.0</td>\n      <td>282.0</td>\n      <td>354.609929</td>\n      <td>354.609929</td>\n      <td>NaN</td>\n    </tr>\n    <tr>\n      <th>Sanlúcar de Guadiana</th>\n      <td>1.0</td>\n      <td>1.0</td>\n      <td>1.0</td>\n      <td>409.0</td>\n      <td>244.498778</td>\n      <td>244.498778</td>\n      <td>NaN</td>\n    </tr>\n    <tr>\n      <th>Valdelarco</th>\n      <td>3.0</td>\n      <td>1.0</td>\n      <td>1.0</td>\n      <td>239.0</td>\n      <td>418.410042</td>\n      <td>418.410042</td>\n      <td>NaN</td>\n    </tr>\n    <tr>\n      <th>Villalba del Alcor</th>\n      <td>44.0</td>\n      <td>2.0</td>\n      <td>2.0</td>\n      <td>3338.0</td>\n      <td>59.916117</td>\n      <td>59.916117</td>\n      <td>NaN</td>\n    </tr>\n  </tbody>\n</table>\n</div>"
     },
     "metadata": {},
     "execution_count": 15
    }
   ],
   "source": [
    "# Nuevos casos desde la última captura\n",
    "tabla[tabla['Diferencia PDIA'] != 0].sort_values('Diferencia PDIA', ascending=False)"
   ]
  },
  {
   "cell_type": "code",
   "execution_count": 16,
   "metadata": {},
   "outputs": [],
   "source": [
    "if tabla[tabla['Diferencia PDIA'] != 0]['Diferencia PDIA'].sum() > 0:\n",
    "  # Save to csv\n",
    "  tabla.to_csv('covid_huelva.csv', encoding='utf-8', header=True, index=True)  "
   ]
  },
  {
   "cell_type": "code",
   "execution_count": 17,
   "metadata": {},
   "outputs": [
    {
     "output_type": "execute_result",
     "data": {
      "text/plain": [
       "Medida                             Confirmados PDIA  Confirmados PDIA 7 días  \\\n",
       "Lugar de residencia                                                            \n",
       "Granado (El)                                   26.0                     14.0   \n",
       "Villarrasa                                     30.0                      3.0   \n",
       "Cortegana                                      39.0                     26.0   \n",
       "Cerro de Andévalo (El)                         18.0                     13.0   \n",
       "Villanueva de los Castillejos                  25.0                      7.0   \n",
       "Marines (Los)                                   2.0                      2.0   \n",
       "Valdelarco                                      3.0                      1.0   \n",
       "Jabugo                                         15.0                      1.0   \n",
       "Puerto Moral                                    1.0                      1.0   \n",
       "Palma del Condado (La)                        114.0                     17.0   \n",
       "Almonaster la Real                              6.0                      4.0   \n",
       "San Juan del Puerto                            77.0                      3.0   \n",
       "Sanlúcar de Guadiana                            1.0                      1.0   \n",
       "Lepe                                          186.0                     41.0   \n",
       "Higuera de la Sierra                            5.0                      1.0   \n",
       "Escacena del Campo                             20.0                      2.0   \n",
       "Niebla                                         14.0                      7.0   \n",
       "Paterna del Campo                              19.0                      4.0   \n",
       "Gibraleón                                      51.0                     12.0   \n",
       "Huelva (capital)                              628.0                     94.0   \n",
       "Huelva                                       2398.0                    382.0   \n",
       "Huelva-Costa                                 1247.0                    205.0   \n",
       "Sierra de Huelva-Andévalo Central             319.0                     63.0   \n",
       "Almonte                                        90.0                     24.0   \n",
       "Aracena                                        64.0                      6.0   \n",
       "Condado-Campiña                               791.0                    106.0   \n",
       "Bollullos Par del Condado                     122.0                      9.0   \n",
       "Lucena del Puerto                              16.0                      2.0   \n",
       "Aljaraque                                      98.0                     14.0   \n",
       "Isla Cristina                                  90.0                     12.0   \n",
       "Cartaya                                        46.0                     11.0   \n",
       "Campillo (El)                                  28.0                      1.0   \n",
       "Nerva                                          29.0                      3.0   \n",
       "San Bartolomé de la Torre                       6.0                      2.0   \n",
       "Minas de Riotinto                              21.0                      1.0   \n",
       "Villalba del Alcor                             44.0                      2.0   \n",
       "Moguer                                         62.0                      7.0   \n",
       "Trigueros                                      41.0                      3.0   \n",
       "Rociana del Condado                            14.0                      3.0   \n",
       "Bonares                                        10.0                      3.0   \n",
       "Ayamonte                                       62.0                     10.0   \n",
       "Palos de la Frontera                           33.0                      3.0   \n",
       "Aroche                                         11.0                      1.0   \n",
       "Valverde del Camino                            33.0                      2.0   \n",
       "Punta Umbría                                   40.0                      1.0   \n",
       "\n",
       "Medida                             Confirmados PDIA 14 días  Población  \\\n",
       "Lugar de residencia                                                      \n",
       "Granado (El)                                           24.0      516.0   \n",
       "Villarrasa                                             19.0     2176.0   \n",
       "Cortegana                                              29.0     4666.0   \n",
       "Cerro de Andévalo (El)                                 13.0     2364.0   \n",
       "Villanueva de los Castillejos                          15.0     2820.0   \n",
       "Marines (Los)                                           2.0      396.0   \n",
       "Valdelarco                                              1.0      239.0   \n",
       "Jabugo                                                  9.0     2250.0   \n",
       "Puerto Moral                                            1.0      282.0   \n",
       "Palma del Condado (La)                                 32.0    10761.0   \n",
       "Almonaster la Real                                      5.0     1819.0   \n",
       "San Juan del Puerto                                    24.0     9300.0   \n",
       "Sanlúcar de Guadiana                                    1.0      409.0   \n",
       "Lepe                                                   64.0    27431.0   \n",
       "Higuera de la Sierra                                    3.0     1287.0   \n",
       "Escacena del Campo                                      5.0     2284.0   \n",
       "Niebla                                                  9.0     4117.0   \n",
       "Paterna del Campo                                       7.0     3509.0   \n",
       "Gibraleón                                              21.0    12607.0   \n",
       "Huelva (capital)                                      225.0   143663.0   \n",
       "Huelva                                                733.0   510743.0   \n",
       "Huelva-Costa                                          413.0   288115.0   \n",
       "Sierra de Huelva-Andévalo Central                      96.0    67571.0   \n",
       "Almonte                                                34.0    24191.0   \n",
       "Aracena                                                11.0     8107.0   \n",
       "Condado-Campiña                                       207.0   155057.0   \n",
       "Bollullos Par del Condado                              17.0    14272.0   \n",
       "Lucena del Puerto                                       4.0     3371.0   \n",
       "Aljaraque                                              25.0    21260.0   \n",
       "Isla Cristina                                          22.0    21264.0   \n",
       "Cartaya                                                20.0    19974.0   \n",
       "Campillo (El)                                           2.0     2023.0   \n",
       "Nerva                                                   5.0     5235.0   \n",
       "San Bartolomé de la Torre                               3.0     3736.0   \n",
       "Minas de Riotinto                                       3.0     3848.0   \n",
       "Villalba del Alcor                                      2.0     3338.0   \n",
       "Moguer                                                 13.0    22088.0   \n",
       "Trigueros                                               4.0     7713.0   \n",
       "Rociana del Condado                                     4.0     7855.0   \n",
       "Bonares                                                 3.0     6058.0   \n",
       "Ayamonte                                               10.0    20946.0   \n",
       "Palos de la Frontera                                    4.0    11289.0   \n",
       "Aroche                                                  1.0     3073.0   \n",
       "Valverde del Camino                                     4.0    12820.0   \n",
       "Punta Umbría                                            4.0    15242.0   \n",
       "\n",
       "Medida                                   tasa7       tasa14  Diferencia PDIA  \n",
       "Lugar de residencia                                                           \n",
       "Granado (El)                       2713.178295  4651.162791              9.0  \n",
       "Villarrasa                          137.867647   873.161765              1.0  \n",
       "Cortegana                           557.222460   621.517360             17.0  \n",
       "Cerro de Andévalo (El)              549.915398   549.915398              4.0  \n",
       "Villanueva de los Castillejos       248.226950   531.914894              5.0  \n",
       "Marines (Los)                       505.050505   505.050505              1.0  \n",
       "Valdelarco                          418.410042   418.410042              NaN  \n",
       "Jabugo                               44.444444   400.000000              NaN  \n",
       "Puerto Moral                        354.609929   354.609929              NaN  \n",
       "Palma del Condado (La)              157.977883   297.370133              6.0  \n",
       "Almonaster la Real                  219.901045   274.876306              4.0  \n",
       "San Juan del Puerto                  32.258065   258.064516              3.0  \n",
       "Sanlúcar de Guadiana                244.498778   244.498778              NaN  \n",
       "Lepe                                149.465933   233.312675             17.0  \n",
       "Higuera de la Sierra                 77.700078   233.100233              1.0  \n",
       "Escacena del Campo                   87.565674   218.914186              1.0  \n",
       "Niebla                              170.026718   218.605781              6.0  \n",
       "Paterna del Campo                   113.992590   199.487033              1.0  \n",
       "Gibraleón                            95.185215   166.574125              6.0  \n",
       "Huelva (capital)                     65.430904   156.616526             45.0  \n",
       "Huelva                               74.792998   143.516406            213.0  \n",
       "Huelva-Costa                         71.152144   143.345539            105.0  \n",
       "Sierra de Huelva-Andévalo Central    93.235264   142.072783             37.0  \n",
       "Almonte                              99.210450   140.548138             14.0  \n",
       "Aracena                              74.010115   135.685210              1.0  \n",
       "Condado-Campiña                      68.361957   133.499294             62.0  \n",
       "Bollullos Par del Condado            63.060538   119.114350              6.0  \n",
       "Lucena del Puerto                    59.329576   118.659152              NaN  \n",
       "Aljaraque                            65.851364   117.591722             11.0  \n",
       "Isla Cristina                        56.433409   103.461249              6.0  \n",
       "Cartaya                              55.071593   100.130169              5.0  \n",
       "Campillo (El)                        49.431537    98.863075              NaN  \n",
       "Nerva                                57.306590    95.510984              3.0  \n",
       "San Bartolomé de la Torre            53.533191    80.299786              1.0  \n",
       "Minas de Riotinto                    25.987526    77.962578              1.0  \n",
       "Villalba del Alcor                   59.916117    59.916117              NaN  \n",
       "Moguer                               31.691416    58.855487              4.0  \n",
       "Trigueros                            38.895371    51.860495              2.0  \n",
       "Rociana del Condado                  38.192234    50.922979              2.0  \n",
       "Bonares                              49.521294    49.521294              NaN  \n",
       "Ayamonte                             47.741812    47.741812              5.0  \n",
       "Palos de la Frontera                 26.574542    35.432722              NaN  \n",
       "Aroche                               32.541490    32.541490              NaN  \n",
       "Valverde del Camino                  15.600624    31.201248              0.0  \n",
       "Punta Umbría                          6.560819    26.243275              1.0  "
      ],
      "text/html": "<div>\n<style scoped>\n    .dataframe tbody tr th:only-of-type {\n        vertical-align: middle;\n    }\n\n    .dataframe tbody tr th {\n        vertical-align: top;\n    }\n\n    .dataframe thead th {\n        text-align: right;\n    }\n</style>\n<table border=\"1\" class=\"dataframe\">\n  <thead>\n    <tr style=\"text-align: right;\">\n      <th>Medida</th>\n      <th>Confirmados PDIA</th>\n      <th>Confirmados PDIA 7 días</th>\n      <th>Confirmados PDIA 14 días</th>\n      <th>Población</th>\n      <th>tasa7</th>\n      <th>tasa14</th>\n      <th>Diferencia PDIA</th>\n    </tr>\n    <tr>\n      <th>Lugar de residencia</th>\n      <th></th>\n      <th></th>\n      <th></th>\n      <th></th>\n      <th></th>\n      <th></th>\n      <th></th>\n    </tr>\n  </thead>\n  <tbody>\n    <tr>\n      <th>Granado (El)</th>\n      <td>26.0</td>\n      <td>14.0</td>\n      <td>24.0</td>\n      <td>516.0</td>\n      <td>2713.178295</td>\n      <td>4651.162791</td>\n      <td>9.0</td>\n    </tr>\n    <tr>\n      <th>Villarrasa</th>\n      <td>30.0</td>\n      <td>3.0</td>\n      <td>19.0</td>\n      <td>2176.0</td>\n      <td>137.867647</td>\n      <td>873.161765</td>\n      <td>1.0</td>\n    </tr>\n    <tr>\n      <th>Cortegana</th>\n      <td>39.0</td>\n      <td>26.0</td>\n      <td>29.0</td>\n      <td>4666.0</td>\n      <td>557.222460</td>\n      <td>621.517360</td>\n      <td>17.0</td>\n    </tr>\n    <tr>\n      <th>Cerro de Andévalo (El)</th>\n      <td>18.0</td>\n      <td>13.0</td>\n      <td>13.0</td>\n      <td>2364.0</td>\n      <td>549.915398</td>\n      <td>549.915398</td>\n      <td>4.0</td>\n    </tr>\n    <tr>\n      <th>Villanueva de los Castillejos</th>\n      <td>25.0</td>\n      <td>7.0</td>\n      <td>15.0</td>\n      <td>2820.0</td>\n      <td>248.226950</td>\n      <td>531.914894</td>\n      <td>5.0</td>\n    </tr>\n    <tr>\n      <th>Marines (Los)</th>\n      <td>2.0</td>\n      <td>2.0</td>\n      <td>2.0</td>\n      <td>396.0</td>\n      <td>505.050505</td>\n      <td>505.050505</td>\n      <td>1.0</td>\n    </tr>\n    <tr>\n      <th>Valdelarco</th>\n      <td>3.0</td>\n      <td>1.0</td>\n      <td>1.0</td>\n      <td>239.0</td>\n      <td>418.410042</td>\n      <td>418.410042</td>\n      <td>NaN</td>\n    </tr>\n    <tr>\n      <th>Jabugo</th>\n      <td>15.0</td>\n      <td>1.0</td>\n      <td>9.0</td>\n      <td>2250.0</td>\n      <td>44.444444</td>\n      <td>400.000000</td>\n      <td>NaN</td>\n    </tr>\n    <tr>\n      <th>Puerto Moral</th>\n      <td>1.0</td>\n      <td>1.0</td>\n      <td>1.0</td>\n      <td>282.0</td>\n      <td>354.609929</td>\n      <td>354.609929</td>\n      <td>NaN</td>\n    </tr>\n    <tr>\n      <th>Palma del Condado (La)</th>\n      <td>114.0</td>\n      <td>17.0</td>\n      <td>32.0</td>\n      <td>10761.0</td>\n      <td>157.977883</td>\n      <td>297.370133</td>\n      <td>6.0</td>\n    </tr>\n    <tr>\n      <th>Almonaster la Real</th>\n      <td>6.0</td>\n      <td>4.0</td>\n      <td>5.0</td>\n      <td>1819.0</td>\n      <td>219.901045</td>\n      <td>274.876306</td>\n      <td>4.0</td>\n    </tr>\n    <tr>\n      <th>San Juan del Puerto</th>\n      <td>77.0</td>\n      <td>3.0</td>\n      <td>24.0</td>\n      <td>9300.0</td>\n      <td>32.258065</td>\n      <td>258.064516</td>\n      <td>3.0</td>\n    </tr>\n    <tr>\n      <th>Sanlúcar de Guadiana</th>\n      <td>1.0</td>\n      <td>1.0</td>\n      <td>1.0</td>\n      <td>409.0</td>\n      <td>244.498778</td>\n      <td>244.498778</td>\n      <td>NaN</td>\n    </tr>\n    <tr>\n      <th>Lepe</th>\n      <td>186.0</td>\n      <td>41.0</td>\n      <td>64.0</td>\n      <td>27431.0</td>\n      <td>149.465933</td>\n      <td>233.312675</td>\n      <td>17.0</td>\n    </tr>\n    <tr>\n      <th>Higuera de la Sierra</th>\n      <td>5.0</td>\n      <td>1.0</td>\n      <td>3.0</td>\n      <td>1287.0</td>\n      <td>77.700078</td>\n      <td>233.100233</td>\n      <td>1.0</td>\n    </tr>\n    <tr>\n      <th>Escacena del Campo</th>\n      <td>20.0</td>\n      <td>2.0</td>\n      <td>5.0</td>\n      <td>2284.0</td>\n      <td>87.565674</td>\n      <td>218.914186</td>\n      <td>1.0</td>\n    </tr>\n    <tr>\n      <th>Niebla</th>\n      <td>14.0</td>\n      <td>7.0</td>\n      <td>9.0</td>\n      <td>4117.0</td>\n      <td>170.026718</td>\n      <td>218.605781</td>\n      <td>6.0</td>\n    </tr>\n    <tr>\n      <th>Paterna del Campo</th>\n      <td>19.0</td>\n      <td>4.0</td>\n      <td>7.0</td>\n      <td>3509.0</td>\n      <td>113.992590</td>\n      <td>199.487033</td>\n      <td>1.0</td>\n    </tr>\n    <tr>\n      <th>Gibraleón</th>\n      <td>51.0</td>\n      <td>12.0</td>\n      <td>21.0</td>\n      <td>12607.0</td>\n      <td>95.185215</td>\n      <td>166.574125</td>\n      <td>6.0</td>\n    </tr>\n    <tr>\n      <th>Huelva (capital)</th>\n      <td>628.0</td>\n      <td>94.0</td>\n      <td>225.0</td>\n      <td>143663.0</td>\n      <td>65.430904</td>\n      <td>156.616526</td>\n      <td>45.0</td>\n    </tr>\n    <tr>\n      <th>Huelva</th>\n      <td>2398.0</td>\n      <td>382.0</td>\n      <td>733.0</td>\n      <td>510743.0</td>\n      <td>74.792998</td>\n      <td>143.516406</td>\n      <td>213.0</td>\n    </tr>\n    <tr>\n      <th>Huelva-Costa</th>\n      <td>1247.0</td>\n      <td>205.0</td>\n      <td>413.0</td>\n      <td>288115.0</td>\n      <td>71.152144</td>\n      <td>143.345539</td>\n      <td>105.0</td>\n    </tr>\n    <tr>\n      <th>Sierra de Huelva-Andévalo Central</th>\n      <td>319.0</td>\n      <td>63.0</td>\n      <td>96.0</td>\n      <td>67571.0</td>\n      <td>93.235264</td>\n      <td>142.072783</td>\n      <td>37.0</td>\n    </tr>\n    <tr>\n      <th>Almonte</th>\n      <td>90.0</td>\n      <td>24.0</td>\n      <td>34.0</td>\n      <td>24191.0</td>\n      <td>99.210450</td>\n      <td>140.548138</td>\n      <td>14.0</td>\n    </tr>\n    <tr>\n      <th>Aracena</th>\n      <td>64.0</td>\n      <td>6.0</td>\n      <td>11.0</td>\n      <td>8107.0</td>\n      <td>74.010115</td>\n      <td>135.685210</td>\n      <td>1.0</td>\n    </tr>\n    <tr>\n      <th>Condado-Campiña</th>\n      <td>791.0</td>\n      <td>106.0</td>\n      <td>207.0</td>\n      <td>155057.0</td>\n      <td>68.361957</td>\n      <td>133.499294</td>\n      <td>62.0</td>\n    </tr>\n    <tr>\n      <th>Bollullos Par del Condado</th>\n      <td>122.0</td>\n      <td>9.0</td>\n      <td>17.0</td>\n      <td>14272.0</td>\n      <td>63.060538</td>\n      <td>119.114350</td>\n      <td>6.0</td>\n    </tr>\n    <tr>\n      <th>Lucena del Puerto</th>\n      <td>16.0</td>\n      <td>2.0</td>\n      <td>4.0</td>\n      <td>3371.0</td>\n      <td>59.329576</td>\n      <td>118.659152</td>\n      <td>NaN</td>\n    </tr>\n    <tr>\n      <th>Aljaraque</th>\n      <td>98.0</td>\n      <td>14.0</td>\n      <td>25.0</td>\n      <td>21260.0</td>\n      <td>65.851364</td>\n      <td>117.591722</td>\n      <td>11.0</td>\n    </tr>\n    <tr>\n      <th>Isla Cristina</th>\n      <td>90.0</td>\n      <td>12.0</td>\n      <td>22.0</td>\n      <td>21264.0</td>\n      <td>56.433409</td>\n      <td>103.461249</td>\n      <td>6.0</td>\n    </tr>\n    <tr>\n      <th>Cartaya</th>\n      <td>46.0</td>\n      <td>11.0</td>\n      <td>20.0</td>\n      <td>19974.0</td>\n      <td>55.071593</td>\n      <td>100.130169</td>\n      <td>5.0</td>\n    </tr>\n    <tr>\n      <th>Campillo (El)</th>\n      <td>28.0</td>\n      <td>1.0</td>\n      <td>2.0</td>\n      <td>2023.0</td>\n      <td>49.431537</td>\n      <td>98.863075</td>\n      <td>NaN</td>\n    </tr>\n    <tr>\n      <th>Nerva</th>\n      <td>29.0</td>\n      <td>3.0</td>\n      <td>5.0</td>\n      <td>5235.0</td>\n      <td>57.306590</td>\n      <td>95.510984</td>\n      <td>3.0</td>\n    </tr>\n    <tr>\n      <th>San Bartolomé de la Torre</th>\n      <td>6.0</td>\n      <td>2.0</td>\n      <td>3.0</td>\n      <td>3736.0</td>\n      <td>53.533191</td>\n      <td>80.299786</td>\n      <td>1.0</td>\n    </tr>\n    <tr>\n      <th>Minas de Riotinto</th>\n      <td>21.0</td>\n      <td>1.0</td>\n      <td>3.0</td>\n      <td>3848.0</td>\n      <td>25.987526</td>\n      <td>77.962578</td>\n      <td>1.0</td>\n    </tr>\n    <tr>\n      <th>Villalba del Alcor</th>\n      <td>44.0</td>\n      <td>2.0</td>\n      <td>2.0</td>\n      <td>3338.0</td>\n      <td>59.916117</td>\n      <td>59.916117</td>\n      <td>NaN</td>\n    </tr>\n    <tr>\n      <th>Moguer</th>\n      <td>62.0</td>\n      <td>7.0</td>\n      <td>13.0</td>\n      <td>22088.0</td>\n      <td>31.691416</td>\n      <td>58.855487</td>\n      <td>4.0</td>\n    </tr>\n    <tr>\n      <th>Trigueros</th>\n      <td>41.0</td>\n      <td>3.0</td>\n      <td>4.0</td>\n      <td>7713.0</td>\n      <td>38.895371</td>\n      <td>51.860495</td>\n      <td>2.0</td>\n    </tr>\n    <tr>\n      <th>Rociana del Condado</th>\n      <td>14.0</td>\n      <td>3.0</td>\n      <td>4.0</td>\n      <td>7855.0</td>\n      <td>38.192234</td>\n      <td>50.922979</td>\n      <td>2.0</td>\n    </tr>\n    <tr>\n      <th>Bonares</th>\n      <td>10.0</td>\n      <td>3.0</td>\n      <td>3.0</td>\n      <td>6058.0</td>\n      <td>49.521294</td>\n      <td>49.521294</td>\n      <td>NaN</td>\n    </tr>\n    <tr>\n      <th>Ayamonte</th>\n      <td>62.0</td>\n      <td>10.0</td>\n      <td>10.0</td>\n      <td>20946.0</td>\n      <td>47.741812</td>\n      <td>47.741812</td>\n      <td>5.0</td>\n    </tr>\n    <tr>\n      <th>Palos de la Frontera</th>\n      <td>33.0</td>\n      <td>3.0</td>\n      <td>4.0</td>\n      <td>11289.0</td>\n      <td>26.574542</td>\n      <td>35.432722</td>\n      <td>NaN</td>\n    </tr>\n    <tr>\n      <th>Aroche</th>\n      <td>11.0</td>\n      <td>1.0</td>\n      <td>1.0</td>\n      <td>3073.0</td>\n      <td>32.541490</td>\n      <td>32.541490</td>\n      <td>NaN</td>\n    </tr>\n    <tr>\n      <th>Valverde del Camino</th>\n      <td>33.0</td>\n      <td>2.0</td>\n      <td>4.0</td>\n      <td>12820.0</td>\n      <td>15.600624</td>\n      <td>31.201248</td>\n      <td>0.0</td>\n    </tr>\n    <tr>\n      <th>Punta Umbría</th>\n      <td>40.0</td>\n      <td>1.0</td>\n      <td>4.0</td>\n      <td>15242.0</td>\n      <td>6.560819</td>\n      <td>26.243275</td>\n      <td>1.0</td>\n    </tr>\n  </tbody>\n</table>\n</div>"
     },
     "metadata": {},
     "execution_count": 17
    }
   ],
   "source": [
    "tabla.sort_values('tasa14', ascending=False)"
   ]
  },
  {
   "cell_type": "code",
   "execution_count": null,
   "metadata": {},
   "outputs": [],
   "source": []
  }
 ]
}