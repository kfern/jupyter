{
 "metadata": {
  "language_info": {
   "codemirror_mode": {
    "name": "ipython",
    "version": 3
   },
   "file_extension": ".py",
   "mimetype": "text/x-python",
   "name": "python",
   "nbconvert_exporter": "python",
   "pygments_lexer": "ipython3",
   "version": "3.8.6"
  },
  "orig_nbformat": 2,
  "kernelspec": {
   "name": "python3",
   "display_name": "Python 3.8.6 64-bit"
  },
  "interpreter": {
   "hash": "31f2aee4e71d21fbe5cf8b01ff0e069b9275f58929596ceb00d14d90e3e16cd6"
  }
 },
 "nbformat": 4,
 "nbformat_minor": 2,
 "cells": [
  {
   "cell_type": "code",
   "execution_count": 1,
   "metadata": {},
   "outputs": [],
   "source": [
    "import pandas as pd\n",
    "pd.set_option('display.max_rows', None) # Print all rows"
   ]
  },
  {
   "cell_type": "code",
   "execution_count": 2,
   "metadata": {},
   "outputs": [],
   "source": [
    "# FIX SSL: CERTIFICATE_VERIFY_FAILED with Python3\n",
    "# https://stackoverflow.com/a/49174340\n",
    "import ssl\n",
    "\n",
    "ssl._create_default_https_context = ssl._create_unverified_context"
   ]
  },
  {
   "cell_type": "code",
   "execution_count": 3,
   "metadata": {},
   "outputs": [],
   "source": [
    "url = 'https://www.juntadeandalucia.es/institutodeestadisticaycartografia/badea/stpivot/stpivot/Print?cube=013d884c-cfc5-4c21-9e78-e26225682afd&type=3&foto=si&ejecutaDesde=&codConsulta=38668&consTipoVisua=JP'\n",
    "fields = ['Lugar de residencia', 'Medida', 'Valor']\n",
    "df = pd.read_csv(url, delimiter=';', usecols=fields, decimal=',')"
   ]
  },
  {
   "cell_type": "code",
   "execution_count": 4,
   "metadata": {},
   "outputs": [
    {
     "output_type": "execute_result",
     "data": {
      "text/plain": [
       "  Lugar de residencia                    Medida               Valor\n",
       "0              Huelva                 Población              513170\n",
       "1              Huelva          Confirmados PDIA               32528\n",
       "2              Huelva  Confirmados PDIA 14 días                1395\n",
       "3              Huelva         Tasa PDIA 14 días  271,83974121636106\n",
       "4              Huelva   Confirmados PDIA 7 días                 587\n",
       "5              Huelva        Total Confirmados                32709\n",
       "6              Huelva                   Curados               30362\n",
       "7              Huelva                Fallecidos                 388"
      ],
      "text/html": "<div>\n<style scoped>\n    .dataframe tbody tr th:only-of-type {\n        vertical-align: middle;\n    }\n\n    .dataframe tbody tr th {\n        vertical-align: top;\n    }\n\n    .dataframe thead th {\n        text-align: right;\n    }\n</style>\n<table border=\"1\" class=\"dataframe\">\n  <thead>\n    <tr style=\"text-align: right;\">\n      <th></th>\n      <th>Lugar de residencia</th>\n      <th>Medida</th>\n      <th>Valor</th>\n    </tr>\n  </thead>\n  <tbody>\n    <tr>\n      <th>0</th>\n      <td>Huelva</td>\n      <td>Población</td>\n      <td>513170</td>\n    </tr>\n    <tr>\n      <th>1</th>\n      <td>Huelva</td>\n      <td>Confirmados PDIA</td>\n      <td>32528</td>\n    </tr>\n    <tr>\n      <th>2</th>\n      <td>Huelva</td>\n      <td>Confirmados PDIA 14 días</td>\n      <td>1395</td>\n    </tr>\n    <tr>\n      <th>3</th>\n      <td>Huelva</td>\n      <td>Tasa PDIA 14 días</td>\n      <td>271,83974121636106</td>\n    </tr>\n    <tr>\n      <th>4</th>\n      <td>Huelva</td>\n      <td>Confirmados PDIA 7 días</td>\n      <td>587</td>\n    </tr>\n    <tr>\n      <th>5</th>\n      <td>Huelva</td>\n      <td>Total Confirmados</td>\n      <td>32709</td>\n    </tr>\n    <tr>\n      <th>6</th>\n      <td>Huelva</td>\n      <td>Curados</td>\n      <td>30362</td>\n    </tr>\n    <tr>\n      <th>7</th>\n      <td>Huelva</td>\n      <td>Fallecidos</td>\n      <td>388</td>\n    </tr>\n  </tbody>\n</table>\n</div>"
     },
     "metadata": {},
     "execution_count": 4
    }
   ],
   "source": [
    "df[df['Lugar de residencia'] == 'Huelva']"
   ]
  },
  {
   "cell_type": "code",
   "execution_count": 5,
   "metadata": {},
   "outputs": [],
   "source": [
    "df['Valor'] = pd.to_numeric(df['Valor'],errors='coerce')"
   ]
  },
  {
   "cell_type": "code",
   "execution_count": 6,
   "metadata": {},
   "outputs": [],
   "source": [
    "dfAnterior = pd.read_csv('covid_huelva.csv', index_col='Lugar de residencia')"
   ]
  },
  {
   "cell_type": "code",
   "execution_count": 7,
   "metadata": {
    "tags": []
   },
   "outputs": [
    {
     "output_type": "stream",
     "name": "stdout",
     "text": [
      "Confirmados PCR en la provincia de Huelva:  32528.0\n",
      "<ipython-input-7-31b732756b19>:2: UserWarning: Boolean Series key will be reindexed to match DataFrame index.\n",
      "  p = df[df['Lugar de residencia'] == 'Huelva'][df['Medida'] == 'Confirmados PDIA']['Valor'].values[0]\n"
     ]
    }
   ],
   "source": [
    "# Confirmados PCR provincia Huelva\n",
    "p = df[df['Lugar de residencia'] == 'Huelva'][df['Medida'] == 'Confirmados PDIA']['Valor'].values[0]\n",
    "print('Confirmados PCR en la provincia de Huelva: ', p)"
   ]
  },
  {
   "cell_type": "code",
   "execution_count": 8,
   "metadata": {
    "tags": []
   },
   "outputs": [
    {
     "output_type": "stream",
     "name": "stdout",
     "text": [
      "Confirmados PCR en Huelva capital:  8848.0\n",
      "<ipython-input-8-e81bfb40e710>:2: UserWarning: Boolean Series key will be reindexed to match DataFrame index.\n",
      "  c = df[df['Lugar de residencia'] == 'Huelva (capital)'][df['Medida'] == 'Confirmados PDIA']['Valor'].values[0]\n"
     ]
    }
   ],
   "source": [
    "# Confirmados PCR Huelva capitalpd\n",
    "c = df[df['Lugar de residencia'] == 'Huelva (capital)'][df['Medida'] == 'Confirmados PDIA']['Valor'].values[0]\n",
    "print('Confirmados PCR en Huelva capital: ', c)"
   ]
  },
  {
   "cell_type": "code",
   "execution_count": 9,
   "metadata": {
    "tags": []
   },
   "outputs": [
    {
     "output_type": "stream",
     "name": "stderr",
     "text": [
      "<ipython-input-9-f09dd2050cc1>:1: UserWarning: Boolean Series key will be reindexed to match DataFrame index.\n  c7 = df[df['Lugar de residencia'] == 'Huelva (capital)'][df['Medida'] == 'Confirmados PDIA 7 días']['Valor'].values[0]\n<ipython-input-9-f09dd2050cc1>:2: UserWarning: Boolean Series key will be reindexed to match DataFrame index.\n  c14 = df[df['Lugar de residencia'] == 'Huelva (capital)'][df['Medida'] == 'Confirmados PDIA 14 días']['Valor'].values[0]\n<ipython-input-9-f09dd2050cc1>:3: UserWarning: Boolean Series key will be reindexed to match DataFrame index.\n  p = df[df['Lugar de residencia'] == 'Huelva (capital)'][df['Medida'] == 'Población']['Valor'].values[0]\n"
     ]
    }
   ],
   "source": [
    "c7 = df[df['Lugar de residencia'] == 'Huelva (capital)'][df['Medida'] == 'Confirmados PDIA 7 días']['Valor'].values[0]\n",
    "c14 = df[df['Lugar de residencia'] == 'Huelva (capital)'][df['Medida'] == 'Confirmados PDIA 14 días']['Valor'].values[0]\n",
    "p = df[df['Lugar de residencia'] == 'Huelva (capital)'][df['Medida'] == 'Población']['Valor'].values[0]"
   ]
  },
  {
   "cell_type": "code",
   "execution_count": 10,
   "metadata": {
    "tags": []
   },
   "outputs": [
    {
     "output_type": "stream",
     "name": "stdout",
     "text": [
      "Huelva (capital)\n\nUn positivo PCR cada 551 personas en los últimos 7 días \n\nUn positivo PCR cada 235 personas en los últimos 14 días\n"
     ]
    }
   ],
   "source": [
    "print('Huelva (capital)\\n')\n",
    "#print('Confirmados PCR 7 días x 1,000 habitantes: ', f\"{c7/(p/1000):.5f}\")\n",
    "print('Un positivo PCR cada', f\"{p/c7:.0f}\", 'personas en los últimos 7 días', '\\n')\n",
    "#print('Confirmados PCR 14 días x 1,000 habitantes: ', f\"{c14/(p/1000):.5f}\")\n",
    "print('Un positivo PCR cada', f\"{p/c14:.0f}\", 'personas en los últimos 14 días')"
   ]
  },
  {
   "cell_type": "code",
   "execution_count": 11,
   "metadata": {},
   "outputs": [],
   "source": [
    "filtro = ((df['Medida'] == 'Confirmados PDIA')| (df['Medida'] == 'Confirmados PDIA 7 días') | (df['Medida'] == 'Población' ) | (df['Medida'] == 'Confirmados PDIA 14 días')) & (df['Valor'] > 0)\n",
    "tabla = pd.pivot_table(df.loc[filtro], values='Valor', index='Lugar de residencia', columns='Medida').dropna()"
   ]
  },
  {
   "cell_type": "code",
   "execution_count": 12,
   "metadata": {},
   "outputs": [],
   "source": [
    "# Reorder columns\n",
    "tabla = tabla[['Confirmados PDIA', 'Confirmados PDIA 7 días', 'Confirmados PDIA 14 días', 'Población']]"
   ]
  },
  {
   "cell_type": "code",
   "execution_count": 13,
   "metadata": {},
   "outputs": [],
   "source": [
    "tabla['tasa7'] = tabla['Confirmados PDIA 7 días']/tabla['Población']*100000\n",
    "tabla['tasa14'] = tabla['Confirmados PDIA 14 días']/tabla['Población']*100000"
   ]
  },
  {
   "cell_type": "code",
   "execution_count": 14,
   "metadata": {},
   "outputs": [],
   "source": [
    "tabla['Diferencia PDIA'] = tabla['Confirmados PDIA'] - dfAnterior['Confirmados PDIA']"
   ]
  },
  {
   "cell_type": "code",
   "execution_count": 15,
   "metadata": {},
   "outputs": [
    {
     "output_type": "execute_result",
     "data": {
      "text/plain": [
       "Medida                             Confirmados PDIA  Confirmados PDIA 7 días  \\\n",
       "Lugar de residencia                                                            \n",
       "Huelva                                      32528.0                    587.0   \n",
       "Huelva-Costa                                18757.0                    369.0   \n",
       "Huelva (capital)                             8848.0                    261.0   \n",
       "Condado-Campiña                             10546.0                    169.0   \n",
       "Sierra de Huelva-Andévalo Central            2874.0                     48.0   \n",
       "Moguer                                       1352.0                     39.0   \n",
       "Palos de la Frontera                          699.0                     16.0   \n",
       "Aljaraque                                    1153.0                     27.0   \n",
       "Cartaya                                      1365.0                     13.0   \n",
       "San Juan del Puerto                           552.0                     28.0   \n",
       "Almonte                                      1866.0                     19.0   \n",
       "Valverde del Camino                           629.0                     22.0   \n",
       "Almendro (El)                                  39.0                      3.0   \n",
       "Calañas                                       196.0                      5.0   \n",
       "Lucena del Puerto                             261.0                      5.0   \n",
       "Ayamonte                                     1329.0                      7.0   \n",
       "Aracena                                       538.0                      7.0   \n",
       "Rociana del Condado                           560.0                      2.0   \n",
       "Trigueros                                     325.0                      7.0   \n",
       "Cerro de Andévalo (El)                        148.0                      2.0   \n",
       "\n",
       "Medida                             Confirmados PDIA 14 días  Población  \\\n",
       "Lugar de residencia                                                      \n",
       "Huelva                                               1395.0   513170.0   \n",
       "Huelva-Costa                                          832.0   289548.0   \n",
       "Huelva (capital)                                      612.0   143837.0   \n",
       "Condado-Campiña                                       430.0   156231.0   \n",
       "Sierra de Huelva-Andévalo Central                     128.0    67391.0   \n",
       "Moguer                                                 74.0    21867.0   \n",
       "Palos de la Frontera                                   56.0    11742.0   \n",
       "Aljaraque                                              66.0    21474.0   \n",
       "Cartaya                                                31.0    20083.0   \n",
       "San Juan del Puerto                                    54.0     9411.0   \n",
       "Almonte                                                59.0    24507.0   \n",
       "Valverde del Camino                                    66.0    12750.0   \n",
       "Almendro (El)                                           3.0      840.0   \n",
       "Calañas                                                 6.0     2768.0   \n",
       "Lucena del Puerto                                       9.0     3261.0   \n",
       "Ayamonte                                               11.0    21104.0   \n",
       "Aracena                                                13.0     8255.0   \n",
       "Rociana del Condado                                     6.0     7939.0   \n",
       "Trigueros                                              23.0     7862.0   \n",
       "Cerro de Andévalo (El)                                  2.0     2327.0   \n",
       "\n",
       "Medida                                  tasa7      tasa14  Diferencia PDIA  \n",
       "Lugar de residencia                                                         \n",
       "Huelva                             114.387045  271.839741             46.0  \n",
       "Huelva-Costa                       127.440010  287.344413             26.0  \n",
       "Huelva (capital)                   181.455397  425.481622             19.0  \n",
       "Condado-Campiña                    108.173154  275.233468             14.0  \n",
       "Sierra de Huelva-Andévalo Central   71.226128  189.936342              6.0  \n",
       "Moguer                             178.350940  338.409475              4.0  \n",
       "Palos de la Frontera               136.262988  476.920456              3.0  \n",
       "Aljaraque                          125.733445  307.348421              3.0  \n",
       "Cartaya                             64.731365  154.359408              2.0  \n",
       "San Juan del Puerto                297.524174  573.796621              2.0  \n",
       "Almonte                             77.528869  240.747542              2.0  \n",
       "Valverde del Camino                172.549020  517.647059              2.0  \n",
       "Almendro (El)                      357.142857  357.142857              1.0  \n",
       "Calañas                            180.635838  216.763006              1.0  \n",
       "Lucena del Puerto                  153.327200  275.988960              1.0  \n",
       "Ayamonte                            33.169067   52.122820              1.0  \n",
       "Aracena                             84.797093  157.480315              1.0  \n",
       "Rociana del Condado                 25.192090   75.576269              1.0  \n",
       "Trigueros                           89.035869  292.546426              1.0  \n",
       "Cerro de Andévalo (El)              85.947572   85.947572              NaN  "
      ],
      "text/html": "<div>\n<style scoped>\n    .dataframe tbody tr th:only-of-type {\n        vertical-align: middle;\n    }\n\n    .dataframe tbody tr th {\n        vertical-align: top;\n    }\n\n    .dataframe thead th {\n        text-align: right;\n    }\n</style>\n<table border=\"1\" class=\"dataframe\">\n  <thead>\n    <tr style=\"text-align: right;\">\n      <th>Medida</th>\n      <th>Confirmados PDIA</th>\n      <th>Confirmados PDIA 7 días</th>\n      <th>Confirmados PDIA 14 días</th>\n      <th>Población</th>\n      <th>tasa7</th>\n      <th>tasa14</th>\n      <th>Diferencia PDIA</th>\n    </tr>\n    <tr>\n      <th>Lugar de residencia</th>\n      <th></th>\n      <th></th>\n      <th></th>\n      <th></th>\n      <th></th>\n      <th></th>\n      <th></th>\n    </tr>\n  </thead>\n  <tbody>\n    <tr>\n      <th>Huelva</th>\n      <td>32528.0</td>\n      <td>587.0</td>\n      <td>1395.0</td>\n      <td>513170.0</td>\n      <td>114.387045</td>\n      <td>271.839741</td>\n      <td>46.0</td>\n    </tr>\n    <tr>\n      <th>Huelva-Costa</th>\n      <td>18757.0</td>\n      <td>369.0</td>\n      <td>832.0</td>\n      <td>289548.0</td>\n      <td>127.440010</td>\n      <td>287.344413</td>\n      <td>26.0</td>\n    </tr>\n    <tr>\n      <th>Huelva (capital)</th>\n      <td>8848.0</td>\n      <td>261.0</td>\n      <td>612.0</td>\n      <td>143837.0</td>\n      <td>181.455397</td>\n      <td>425.481622</td>\n      <td>19.0</td>\n    </tr>\n    <tr>\n      <th>Condado-Campiña</th>\n      <td>10546.0</td>\n      <td>169.0</td>\n      <td>430.0</td>\n      <td>156231.0</td>\n      <td>108.173154</td>\n      <td>275.233468</td>\n      <td>14.0</td>\n    </tr>\n    <tr>\n      <th>Sierra de Huelva-Andévalo Central</th>\n      <td>2874.0</td>\n      <td>48.0</td>\n      <td>128.0</td>\n      <td>67391.0</td>\n      <td>71.226128</td>\n      <td>189.936342</td>\n      <td>6.0</td>\n    </tr>\n    <tr>\n      <th>Moguer</th>\n      <td>1352.0</td>\n      <td>39.0</td>\n      <td>74.0</td>\n      <td>21867.0</td>\n      <td>178.350940</td>\n      <td>338.409475</td>\n      <td>4.0</td>\n    </tr>\n    <tr>\n      <th>Palos de la Frontera</th>\n      <td>699.0</td>\n      <td>16.0</td>\n      <td>56.0</td>\n      <td>11742.0</td>\n      <td>136.262988</td>\n      <td>476.920456</td>\n      <td>3.0</td>\n    </tr>\n    <tr>\n      <th>Aljaraque</th>\n      <td>1153.0</td>\n      <td>27.0</td>\n      <td>66.0</td>\n      <td>21474.0</td>\n      <td>125.733445</td>\n      <td>307.348421</td>\n      <td>3.0</td>\n    </tr>\n    <tr>\n      <th>Cartaya</th>\n      <td>1365.0</td>\n      <td>13.0</td>\n      <td>31.0</td>\n      <td>20083.0</td>\n      <td>64.731365</td>\n      <td>154.359408</td>\n      <td>2.0</td>\n    </tr>\n    <tr>\n      <th>San Juan del Puerto</th>\n      <td>552.0</td>\n      <td>28.0</td>\n      <td>54.0</td>\n      <td>9411.0</td>\n      <td>297.524174</td>\n      <td>573.796621</td>\n      <td>2.0</td>\n    </tr>\n    <tr>\n      <th>Almonte</th>\n      <td>1866.0</td>\n      <td>19.0</td>\n      <td>59.0</td>\n      <td>24507.0</td>\n      <td>77.528869</td>\n      <td>240.747542</td>\n      <td>2.0</td>\n    </tr>\n    <tr>\n      <th>Valverde del Camino</th>\n      <td>629.0</td>\n      <td>22.0</td>\n      <td>66.0</td>\n      <td>12750.0</td>\n      <td>172.549020</td>\n      <td>517.647059</td>\n      <td>2.0</td>\n    </tr>\n    <tr>\n      <th>Almendro (El)</th>\n      <td>39.0</td>\n      <td>3.0</td>\n      <td>3.0</td>\n      <td>840.0</td>\n      <td>357.142857</td>\n      <td>357.142857</td>\n      <td>1.0</td>\n    </tr>\n    <tr>\n      <th>Calañas</th>\n      <td>196.0</td>\n      <td>5.0</td>\n      <td>6.0</td>\n      <td>2768.0</td>\n      <td>180.635838</td>\n      <td>216.763006</td>\n      <td>1.0</td>\n    </tr>\n    <tr>\n      <th>Lucena del Puerto</th>\n      <td>261.0</td>\n      <td>5.0</td>\n      <td>9.0</td>\n      <td>3261.0</td>\n      <td>153.327200</td>\n      <td>275.988960</td>\n      <td>1.0</td>\n    </tr>\n    <tr>\n      <th>Ayamonte</th>\n      <td>1329.0</td>\n      <td>7.0</td>\n      <td>11.0</td>\n      <td>21104.0</td>\n      <td>33.169067</td>\n      <td>52.122820</td>\n      <td>1.0</td>\n    </tr>\n    <tr>\n      <th>Aracena</th>\n      <td>538.0</td>\n      <td>7.0</td>\n      <td>13.0</td>\n      <td>8255.0</td>\n      <td>84.797093</td>\n      <td>157.480315</td>\n      <td>1.0</td>\n    </tr>\n    <tr>\n      <th>Rociana del Condado</th>\n      <td>560.0</td>\n      <td>2.0</td>\n      <td>6.0</td>\n      <td>7939.0</td>\n      <td>25.192090</td>\n      <td>75.576269</td>\n      <td>1.0</td>\n    </tr>\n    <tr>\n      <th>Trigueros</th>\n      <td>325.0</td>\n      <td>7.0</td>\n      <td>23.0</td>\n      <td>7862.0</td>\n      <td>89.035869</td>\n      <td>292.546426</td>\n      <td>1.0</td>\n    </tr>\n    <tr>\n      <th>Cerro de Andévalo (El)</th>\n      <td>148.0</td>\n      <td>2.0</td>\n      <td>2.0</td>\n      <td>2327.0</td>\n      <td>85.947572</td>\n      <td>85.947572</td>\n      <td>NaN</td>\n    </tr>\n  </tbody>\n</table>\n</div>"
     },
     "metadata": {},
     "execution_count": 15
    }
   ],
   "source": [
    "# Nuevos casos desde la última captura\n",
    "tabla[tabla['Diferencia PDIA'] != 0].sort_values('Diferencia PDIA', ascending=False)"
   ]
  },
  {
   "cell_type": "code",
   "execution_count": 16,
   "metadata": {},
   "outputs": [],
   "source": [
    "if tabla[tabla['Diferencia PDIA'] != 0]['Diferencia PDIA'].sum() != 0:\n",
    "  # Save to csv\n",
    "  tabla.to_csv('covid_huelva.csv', encoding='utf-8', header=True, index=True)  "
   ]
  },
  {
   "cell_type": "code",
   "execution_count": 17,
   "metadata": {},
   "outputs": [
    {
     "output_type": "execute_result",
     "data": {
      "text/plain": [
       "Medida                             Confirmados PDIA  Confirmados PDIA 7 días  \\\n",
       "Lugar de residencia                                                            \n",
       "Cortelazor                                     13.0                      5.0   \n",
       "Puebla de Guzmán                              132.0                     11.0   \n",
       "San Juan del Puerto                           552.0                     28.0   \n",
       "Villarrasa                                    180.0                      2.0   \n",
       "Valverde del Camino                           629.0                     22.0   \n",
       "Palos de la Frontera                          699.0                     16.0   \n",
       "Huelva (capital)                             8848.0                    261.0   \n",
       "Almendro (El)                                  39.0                      3.0   \n",
       "Moguer                                       1352.0                     39.0   \n",
       "Alosno                                        179.0                     11.0   \n",
       "Niebla                                        247.0                      8.0   \n",
       "Aljaraque                                    1153.0                     27.0   \n",
       "Trigueros                                     325.0                      7.0   \n",
       "Bollullos Par del Condado                    1015.0                     13.0   \n",
       "Huelva-Costa                                18757.0                    369.0   \n",
       "Bonares                                       288.0                      5.0   \n",
       "Lucena del Puerto                             261.0                      5.0   \n",
       "Condado-Campiña                             10546.0                    169.0   \n",
       "Huelva                                      32528.0                    587.0   \n",
       "Palma del Condado (La)                       1174.0                     10.0   \n",
       "Almonte                                      1866.0                     19.0   \n",
       "Manzanilla                                    103.0                      1.0   \n",
       "Punta Umbría                                  840.0                      9.0   \n",
       "Calañas                                       196.0                      5.0   \n",
       "San Bartolomé de la Torre                     304.0                      4.0   \n",
       "Sierra de Huelva-Andévalo Central            2874.0                     48.0   \n",
       "Minas de Riotinto                             128.0                      1.0   \n",
       "Aracena                                       538.0                      7.0   \n",
       "Cartaya                                      1365.0                     13.0   \n",
       "Gibraleón                                     641.0                      6.0   \n",
       "Villanueva de los Castillejos                 164.0                      1.0   \n",
       "Alájar                                         18.0                      1.0   \n",
       "Rosal de la Frontera                           31.0                      2.0   \n",
       "Beas                                          215.0                      3.0   \n",
       "Cerro de Andévalo (El)                        148.0                      2.0   \n",
       "Lepe                                         2149.0                     13.0   \n",
       "Rociana del Condado                           560.0                      2.0   \n",
       "Isla Cristina                                2164.0                     11.0   \n",
       "Villablanca                                   189.0                      2.0   \n",
       "Almonaster la Real                             67.0                      1.0   \n",
       "Ayamonte                                     1329.0                      7.0   \n",
       "Jabugo                                         65.0                      1.0   \n",
       "Nerva                                         179.0                      1.0   \n",
       "Paterna del Campo                             129.0                      1.0   \n",
       "\n",
       "Medida                             Confirmados PDIA 14 días  Población  \\\n",
       "Lugar de residencia                                                      \n",
       "Cortelazor                                              5.0      299.0   \n",
       "Puebla de Guzmán                                       18.0     3092.0   \n",
       "San Juan del Puerto                                    54.0     9411.0   \n",
       "Villarrasa                                             12.0     2211.0   \n",
       "Valverde del Camino                                    66.0    12750.0   \n",
       "Palos de la Frontera                                   56.0    11742.0   \n",
       "Huelva (capital)                                      612.0   143837.0   \n",
       "Almendro (El)                                           3.0      840.0   \n",
       "Moguer                                                 74.0    21867.0   \n",
       "Alosno                                                 13.0     3933.0   \n",
       "Niebla                                                 13.0     4116.0   \n",
       "Aljaraque                                              66.0    21474.0   \n",
       "Trigueros                                              23.0     7862.0   \n",
       "Bollullos Par del Condado                              42.0    14387.0   \n",
       "Huelva-Costa                                          832.0   289548.0   \n",
       "Bonares                                                17.0     6060.0   \n",
       "Lucena del Puerto                                       9.0     3261.0   \n",
       "Condado-Campiña                                       430.0   156231.0   \n",
       "Huelva                                               1395.0   513170.0   \n",
       "Palma del Condado (La)                                 27.0    10801.0   \n",
       "Almonte                                                59.0    24507.0   \n",
       "Manzanilla                                              5.0     2118.0   \n",
       "Punta Umbría                                           34.0    15355.0   \n",
       "Calañas                                                 6.0     2768.0   \n",
       "San Bartolomé de la Torre                               8.0     3761.0   \n",
       "Sierra de Huelva-Andévalo Central                     128.0    67391.0   \n",
       "Minas de Riotinto                                       7.0     3812.0   \n",
       "Aracena                                                13.0     8255.0   \n",
       "Cartaya                                                31.0    20083.0   \n",
       "Gibraleón                                              19.0    12737.0   \n",
       "Villanueva de los Castillejos                           4.0     2825.0   \n",
       "Alájar                                                  1.0      759.0   \n",
       "Rosal de la Frontera                                    2.0     1697.0   \n",
       "Beas                                                    5.0     4341.0   \n",
       "Cerro de Andévalo (El)                                  2.0     2327.0   \n",
       "Lepe                                                   22.0    27880.0   \n",
       "Rociana del Condado                                     6.0     7939.0   \n",
       "Isla Cristina                                          16.0    21393.0   \n",
       "Villablanca                                             2.0     2885.0   \n",
       "Almonaster la Real                                      1.0     1788.0   \n",
       "Ayamonte                                               11.0    21104.0   \n",
       "Jabugo                                                  1.0     2260.0   \n",
       "Nerva                                                   2.0     5169.0   \n",
       "Paterna del Campo                                       1.0     3457.0   \n",
       "\n",
       "Medida                                   tasa7       tasa14  Diferencia PDIA  \n",
       "Lugar de residencia                                                           \n",
       "Cortelazor                         1672.240803  1672.240803              0.0  \n",
       "Puebla de Guzmán                    355.756792   582.147477              0.0  \n",
       "San Juan del Puerto                 297.524174   573.796621              2.0  \n",
       "Villarrasa                           90.456807   542.740841              0.0  \n",
       "Valverde del Camino                 172.549020   517.647059              2.0  \n",
       "Palos de la Frontera                136.262988   476.920456              3.0  \n",
       "Huelva (capital)                    181.455397   425.481622             19.0  \n",
       "Almendro (El)                       357.142857   357.142857              1.0  \n",
       "Moguer                              178.350940   338.409475              4.0  \n",
       "Alosno                              279.684719   330.536486              0.0  \n",
       "Niebla                              194.363460   315.840622              0.0  \n",
       "Aljaraque                           125.733445   307.348421              3.0  \n",
       "Trigueros                            89.035869   292.546426              1.0  \n",
       "Bollullos Par del Condado            90.359352   291.930215              0.0  \n",
       "Huelva-Costa                        127.440010   287.344413             26.0  \n",
       "Bonares                              82.508251   280.528053              0.0  \n",
       "Lucena del Puerto                   153.327200   275.988960              1.0  \n",
       "Condado-Campiña                     108.173154   275.233468             14.0  \n",
       "Huelva                              114.387045   271.839741             46.0  \n",
       "Palma del Condado (La)               92.584020   249.976854              0.0  \n",
       "Almonte                              77.528869   240.747542              2.0  \n",
       "Manzanilla                           47.214353   236.071766              0.0  \n",
       "Punta Umbría                         58.612830   221.426246              0.0  \n",
       "Calañas                             180.635838   216.763006              1.0  \n",
       "San Bartolomé de la Torre           106.354693   212.709386              0.0  \n",
       "Sierra de Huelva-Andévalo Central    71.226128   189.936342              6.0  \n",
       "Minas de Riotinto                    26.232949   183.630640              0.0  \n",
       "Aracena                              84.797093   157.480315              1.0  \n",
       "Cartaya                              64.731365   154.359408              2.0  \n",
       "Gibraleón                            47.106854   149.171704              0.0  \n",
       "Villanueva de los Castillejos        35.398230   141.592920              0.0  \n",
       "Alájar                              131.752306   131.752306              0.0  \n",
       "Rosal de la Frontera                117.855038   117.855038              0.0  \n",
       "Beas                                 69.108500   115.180834              0.0  \n",
       "Cerro de Andévalo (El)               85.947572    85.947572              NaN  \n",
       "Lepe                                 46.628407    78.909613              0.0  \n",
       "Rociana del Condado                  25.192090    75.576269              1.0  \n",
       "Isla Cristina                        51.418688    74.790819              0.0  \n",
       "Villablanca                          69.324090    69.324090              0.0  \n",
       "Almonaster la Real                   55.928412    55.928412              0.0  \n",
       "Ayamonte                             33.169067    52.122820              1.0  \n",
       "Jabugo                               44.247788    44.247788              0.0  \n",
       "Nerva                                19.346102    38.692204              0.0  \n",
       "Paterna del Campo                    28.926815    28.926815              0.0  "
      ],
      "text/html": "<div>\n<style scoped>\n    .dataframe tbody tr th:only-of-type {\n        vertical-align: middle;\n    }\n\n    .dataframe tbody tr th {\n        vertical-align: top;\n    }\n\n    .dataframe thead th {\n        text-align: right;\n    }\n</style>\n<table border=\"1\" class=\"dataframe\">\n  <thead>\n    <tr style=\"text-align: right;\">\n      <th>Medida</th>\n      <th>Confirmados PDIA</th>\n      <th>Confirmados PDIA 7 días</th>\n      <th>Confirmados PDIA 14 días</th>\n      <th>Población</th>\n      <th>tasa7</th>\n      <th>tasa14</th>\n      <th>Diferencia PDIA</th>\n    </tr>\n    <tr>\n      <th>Lugar de residencia</th>\n      <th></th>\n      <th></th>\n      <th></th>\n      <th></th>\n      <th></th>\n      <th></th>\n      <th></th>\n    </tr>\n  </thead>\n  <tbody>\n    <tr>\n      <th>Cortelazor</th>\n      <td>13.0</td>\n      <td>5.0</td>\n      <td>5.0</td>\n      <td>299.0</td>\n      <td>1672.240803</td>\n      <td>1672.240803</td>\n      <td>0.0</td>\n    </tr>\n    <tr>\n      <th>Puebla de Guzmán</th>\n      <td>132.0</td>\n      <td>11.0</td>\n      <td>18.0</td>\n      <td>3092.0</td>\n      <td>355.756792</td>\n      <td>582.147477</td>\n      <td>0.0</td>\n    </tr>\n    <tr>\n      <th>San Juan del Puerto</th>\n      <td>552.0</td>\n      <td>28.0</td>\n      <td>54.0</td>\n      <td>9411.0</td>\n      <td>297.524174</td>\n      <td>573.796621</td>\n      <td>2.0</td>\n    </tr>\n    <tr>\n      <th>Villarrasa</th>\n      <td>180.0</td>\n      <td>2.0</td>\n      <td>12.0</td>\n      <td>2211.0</td>\n      <td>90.456807</td>\n      <td>542.740841</td>\n      <td>0.0</td>\n    </tr>\n    <tr>\n      <th>Valverde del Camino</th>\n      <td>629.0</td>\n      <td>22.0</td>\n      <td>66.0</td>\n      <td>12750.0</td>\n      <td>172.549020</td>\n      <td>517.647059</td>\n      <td>2.0</td>\n    </tr>\n    <tr>\n      <th>Palos de la Frontera</th>\n      <td>699.0</td>\n      <td>16.0</td>\n      <td>56.0</td>\n      <td>11742.0</td>\n      <td>136.262988</td>\n      <td>476.920456</td>\n      <td>3.0</td>\n    </tr>\n    <tr>\n      <th>Huelva (capital)</th>\n      <td>8848.0</td>\n      <td>261.0</td>\n      <td>612.0</td>\n      <td>143837.0</td>\n      <td>181.455397</td>\n      <td>425.481622</td>\n      <td>19.0</td>\n    </tr>\n    <tr>\n      <th>Almendro (El)</th>\n      <td>39.0</td>\n      <td>3.0</td>\n      <td>3.0</td>\n      <td>840.0</td>\n      <td>357.142857</td>\n      <td>357.142857</td>\n      <td>1.0</td>\n    </tr>\n    <tr>\n      <th>Moguer</th>\n      <td>1352.0</td>\n      <td>39.0</td>\n      <td>74.0</td>\n      <td>21867.0</td>\n      <td>178.350940</td>\n      <td>338.409475</td>\n      <td>4.0</td>\n    </tr>\n    <tr>\n      <th>Alosno</th>\n      <td>179.0</td>\n      <td>11.0</td>\n      <td>13.0</td>\n      <td>3933.0</td>\n      <td>279.684719</td>\n      <td>330.536486</td>\n      <td>0.0</td>\n    </tr>\n    <tr>\n      <th>Niebla</th>\n      <td>247.0</td>\n      <td>8.0</td>\n      <td>13.0</td>\n      <td>4116.0</td>\n      <td>194.363460</td>\n      <td>315.840622</td>\n      <td>0.0</td>\n    </tr>\n    <tr>\n      <th>Aljaraque</th>\n      <td>1153.0</td>\n      <td>27.0</td>\n      <td>66.0</td>\n      <td>21474.0</td>\n      <td>125.733445</td>\n      <td>307.348421</td>\n      <td>3.0</td>\n    </tr>\n    <tr>\n      <th>Trigueros</th>\n      <td>325.0</td>\n      <td>7.0</td>\n      <td>23.0</td>\n      <td>7862.0</td>\n      <td>89.035869</td>\n      <td>292.546426</td>\n      <td>1.0</td>\n    </tr>\n    <tr>\n      <th>Bollullos Par del Condado</th>\n      <td>1015.0</td>\n      <td>13.0</td>\n      <td>42.0</td>\n      <td>14387.0</td>\n      <td>90.359352</td>\n      <td>291.930215</td>\n      <td>0.0</td>\n    </tr>\n    <tr>\n      <th>Huelva-Costa</th>\n      <td>18757.0</td>\n      <td>369.0</td>\n      <td>832.0</td>\n      <td>289548.0</td>\n      <td>127.440010</td>\n      <td>287.344413</td>\n      <td>26.0</td>\n    </tr>\n    <tr>\n      <th>Bonares</th>\n      <td>288.0</td>\n      <td>5.0</td>\n      <td>17.0</td>\n      <td>6060.0</td>\n      <td>82.508251</td>\n      <td>280.528053</td>\n      <td>0.0</td>\n    </tr>\n    <tr>\n      <th>Lucena del Puerto</th>\n      <td>261.0</td>\n      <td>5.0</td>\n      <td>9.0</td>\n      <td>3261.0</td>\n      <td>153.327200</td>\n      <td>275.988960</td>\n      <td>1.0</td>\n    </tr>\n    <tr>\n      <th>Condado-Campiña</th>\n      <td>10546.0</td>\n      <td>169.0</td>\n      <td>430.0</td>\n      <td>156231.0</td>\n      <td>108.173154</td>\n      <td>275.233468</td>\n      <td>14.0</td>\n    </tr>\n    <tr>\n      <th>Huelva</th>\n      <td>32528.0</td>\n      <td>587.0</td>\n      <td>1395.0</td>\n      <td>513170.0</td>\n      <td>114.387045</td>\n      <td>271.839741</td>\n      <td>46.0</td>\n    </tr>\n    <tr>\n      <th>Palma del Condado (La)</th>\n      <td>1174.0</td>\n      <td>10.0</td>\n      <td>27.0</td>\n      <td>10801.0</td>\n      <td>92.584020</td>\n      <td>249.976854</td>\n      <td>0.0</td>\n    </tr>\n    <tr>\n      <th>Almonte</th>\n      <td>1866.0</td>\n      <td>19.0</td>\n      <td>59.0</td>\n      <td>24507.0</td>\n      <td>77.528869</td>\n      <td>240.747542</td>\n      <td>2.0</td>\n    </tr>\n    <tr>\n      <th>Manzanilla</th>\n      <td>103.0</td>\n      <td>1.0</td>\n      <td>5.0</td>\n      <td>2118.0</td>\n      <td>47.214353</td>\n      <td>236.071766</td>\n      <td>0.0</td>\n    </tr>\n    <tr>\n      <th>Punta Umbría</th>\n      <td>840.0</td>\n      <td>9.0</td>\n      <td>34.0</td>\n      <td>15355.0</td>\n      <td>58.612830</td>\n      <td>221.426246</td>\n      <td>0.0</td>\n    </tr>\n    <tr>\n      <th>Calañas</th>\n      <td>196.0</td>\n      <td>5.0</td>\n      <td>6.0</td>\n      <td>2768.0</td>\n      <td>180.635838</td>\n      <td>216.763006</td>\n      <td>1.0</td>\n    </tr>\n    <tr>\n      <th>San Bartolomé de la Torre</th>\n      <td>304.0</td>\n      <td>4.0</td>\n      <td>8.0</td>\n      <td>3761.0</td>\n      <td>106.354693</td>\n      <td>212.709386</td>\n      <td>0.0</td>\n    </tr>\n    <tr>\n      <th>Sierra de Huelva-Andévalo Central</th>\n      <td>2874.0</td>\n      <td>48.0</td>\n      <td>128.0</td>\n      <td>67391.0</td>\n      <td>71.226128</td>\n      <td>189.936342</td>\n      <td>6.0</td>\n    </tr>\n    <tr>\n      <th>Minas de Riotinto</th>\n      <td>128.0</td>\n      <td>1.0</td>\n      <td>7.0</td>\n      <td>3812.0</td>\n      <td>26.232949</td>\n      <td>183.630640</td>\n      <td>0.0</td>\n    </tr>\n    <tr>\n      <th>Aracena</th>\n      <td>538.0</td>\n      <td>7.0</td>\n      <td>13.0</td>\n      <td>8255.0</td>\n      <td>84.797093</td>\n      <td>157.480315</td>\n      <td>1.0</td>\n    </tr>\n    <tr>\n      <th>Cartaya</th>\n      <td>1365.0</td>\n      <td>13.0</td>\n      <td>31.0</td>\n      <td>20083.0</td>\n      <td>64.731365</td>\n      <td>154.359408</td>\n      <td>2.0</td>\n    </tr>\n    <tr>\n      <th>Gibraleón</th>\n      <td>641.0</td>\n      <td>6.0</td>\n      <td>19.0</td>\n      <td>12737.0</td>\n      <td>47.106854</td>\n      <td>149.171704</td>\n      <td>0.0</td>\n    </tr>\n    <tr>\n      <th>Villanueva de los Castillejos</th>\n      <td>164.0</td>\n      <td>1.0</td>\n      <td>4.0</td>\n      <td>2825.0</td>\n      <td>35.398230</td>\n      <td>141.592920</td>\n      <td>0.0</td>\n    </tr>\n    <tr>\n      <th>Alájar</th>\n      <td>18.0</td>\n      <td>1.0</td>\n      <td>1.0</td>\n      <td>759.0</td>\n      <td>131.752306</td>\n      <td>131.752306</td>\n      <td>0.0</td>\n    </tr>\n    <tr>\n      <th>Rosal de la Frontera</th>\n      <td>31.0</td>\n      <td>2.0</td>\n      <td>2.0</td>\n      <td>1697.0</td>\n      <td>117.855038</td>\n      <td>117.855038</td>\n      <td>0.0</td>\n    </tr>\n    <tr>\n      <th>Beas</th>\n      <td>215.0</td>\n      <td>3.0</td>\n      <td>5.0</td>\n      <td>4341.0</td>\n      <td>69.108500</td>\n      <td>115.180834</td>\n      <td>0.0</td>\n    </tr>\n    <tr>\n      <th>Cerro de Andévalo (El)</th>\n      <td>148.0</td>\n      <td>2.0</td>\n      <td>2.0</td>\n      <td>2327.0</td>\n      <td>85.947572</td>\n      <td>85.947572</td>\n      <td>NaN</td>\n    </tr>\n    <tr>\n      <th>Lepe</th>\n      <td>2149.0</td>\n      <td>13.0</td>\n      <td>22.0</td>\n      <td>27880.0</td>\n      <td>46.628407</td>\n      <td>78.909613</td>\n      <td>0.0</td>\n    </tr>\n    <tr>\n      <th>Rociana del Condado</th>\n      <td>560.0</td>\n      <td>2.0</td>\n      <td>6.0</td>\n      <td>7939.0</td>\n      <td>25.192090</td>\n      <td>75.576269</td>\n      <td>1.0</td>\n    </tr>\n    <tr>\n      <th>Isla Cristina</th>\n      <td>2164.0</td>\n      <td>11.0</td>\n      <td>16.0</td>\n      <td>21393.0</td>\n      <td>51.418688</td>\n      <td>74.790819</td>\n      <td>0.0</td>\n    </tr>\n    <tr>\n      <th>Villablanca</th>\n      <td>189.0</td>\n      <td>2.0</td>\n      <td>2.0</td>\n      <td>2885.0</td>\n      <td>69.324090</td>\n      <td>69.324090</td>\n      <td>0.0</td>\n    </tr>\n    <tr>\n      <th>Almonaster la Real</th>\n      <td>67.0</td>\n      <td>1.0</td>\n      <td>1.0</td>\n      <td>1788.0</td>\n      <td>55.928412</td>\n      <td>55.928412</td>\n      <td>0.0</td>\n    </tr>\n    <tr>\n      <th>Ayamonte</th>\n      <td>1329.0</td>\n      <td>7.0</td>\n      <td>11.0</td>\n      <td>21104.0</td>\n      <td>33.169067</td>\n      <td>52.122820</td>\n      <td>1.0</td>\n    </tr>\n    <tr>\n      <th>Jabugo</th>\n      <td>65.0</td>\n      <td>1.0</td>\n      <td>1.0</td>\n      <td>2260.0</td>\n      <td>44.247788</td>\n      <td>44.247788</td>\n      <td>0.0</td>\n    </tr>\n    <tr>\n      <th>Nerva</th>\n      <td>179.0</td>\n      <td>1.0</td>\n      <td>2.0</td>\n      <td>5169.0</td>\n      <td>19.346102</td>\n      <td>38.692204</td>\n      <td>0.0</td>\n    </tr>\n    <tr>\n      <th>Paterna del Campo</th>\n      <td>129.0</td>\n      <td>1.0</td>\n      <td>1.0</td>\n      <td>3457.0</td>\n      <td>28.926815</td>\n      <td>28.926815</td>\n      <td>0.0</td>\n    </tr>\n  </tbody>\n</table>\n</div>"
     },
     "metadata": {},
     "execution_count": 17
    }
   ],
   "source": [
    "tabla.sort_values('tasa14', ascending=False)"
   ]
  },
  {
   "cell_type": "code",
   "execution_count": 18,
   "metadata": {},
   "outputs": [
    {
     "output_type": "execute_result",
     "data": {
      "text/plain": [
       "Medida                             Confirmados PDIA  Confirmados PDIA 7 días  \\\n",
       "Lugar de residencia                                                            \n",
       "Minas de Riotinto                             128.0                      1.0   \n",
       "Villarrasa                                    180.0                      2.0   \n",
       "Manzanilla                                    103.0                      1.0   \n",
       "Villanueva de los Castillejos                 164.0                      1.0   \n",
       "Punta Umbría                                  840.0                      9.0   \n",
       "Palos de la Frontera                          699.0                     16.0   \n",
       "Bonares                                       288.0                      5.0   \n",
       "Trigueros                                     325.0                      7.0   \n",
       "Bollullos Par del Condado                    1015.0                     13.0   \n",
       "Gibraleón                                     641.0                      6.0   \n",
       "Almonte                                      1866.0                     19.0   \n",
       "Valverde del Camino                           629.0                     22.0   \n",
       "Rociana del Condado                           560.0                      2.0   \n",
       "Palma del Condado (La)                       1174.0                     10.0   \n",
       "Sierra de Huelva-Andévalo Central            2874.0                     48.0   \n",
       "Condado-Campiña                             10546.0                    169.0   \n",
       "Aljaraque                                    1153.0                     27.0   \n",
       "Cartaya                                      1365.0                     13.0   \n",
       "Huelva                                      32528.0                    587.0   \n",
       "Huelva (capital)                             8848.0                    261.0   \n",
       "Huelva-Costa                                18757.0                    369.0   \n",
       "San Bartolomé de la Torre                     304.0                      4.0   \n",
       "Nerva                                         179.0                      1.0   \n",
       "San Juan del Puerto                           552.0                     28.0   \n",
       "Moguer                                       1352.0                     39.0   \n",
       "Aracena                                       538.0                      7.0   \n",
       "Lucena del Puerto                             261.0                      5.0   \n",
       "Lepe                                         2149.0                     13.0   \n",
       "Beas                                          215.0                      3.0   \n",
       "Puebla de Guzmán                              132.0                     11.0   \n",
       "Niebla                                        247.0                      8.0   \n",
       "Ayamonte                                     1329.0                      7.0   \n",
       "Isla Cristina                                2164.0                     11.0   \n",
       "Calañas                                       196.0                      5.0   \n",
       "Alosno                                        179.0                     11.0   \n",
       "Cortelazor                                     13.0                      5.0   \n",
       "Alájar                                         18.0                      1.0   \n",
       "Rosal de la Frontera                           31.0                      2.0   \n",
       "Cerro de Andévalo (El)                        148.0                      2.0   \n",
       "Almonaster la Real                             67.0                      1.0   \n",
       "Almendro (El)                                  39.0                      3.0   \n",
       "Villablanca                                   189.0                      2.0   \n",
       "Paterna del Campo                             129.0                      1.0   \n",
       "Jabugo                                         65.0                      1.0   \n",
       "\n",
       "Medida                             Confirmados PDIA 14 días  Población  \\\n",
       "Lugar de residencia                                                      \n",
       "Minas de Riotinto                                       7.0     3812.0   \n",
       "Villarrasa                                             12.0     2211.0   \n",
       "Manzanilla                                              5.0     2118.0   \n",
       "Villanueva de los Castillejos                           4.0     2825.0   \n",
       "Punta Umbría                                           34.0    15355.0   \n",
       "Palos de la Frontera                                   56.0    11742.0   \n",
       "Bonares                                                17.0     6060.0   \n",
       "Trigueros                                              23.0     7862.0   \n",
       "Bollullos Par del Condado                              42.0    14387.0   \n",
       "Gibraleón                                              19.0    12737.0   \n",
       "Almonte                                                59.0    24507.0   \n",
       "Valverde del Camino                                    66.0    12750.0   \n",
       "Rociana del Condado                                     6.0     7939.0   \n",
       "Palma del Condado (La)                                 27.0    10801.0   \n",
       "Sierra de Huelva-Andévalo Central                     128.0    67391.0   \n",
       "Condado-Campiña                                       430.0   156231.0   \n",
       "Aljaraque                                              66.0    21474.0   \n",
       "Cartaya                                                31.0    20083.0   \n",
       "Huelva                                               1395.0   513170.0   \n",
       "Huelva (capital)                                      612.0   143837.0   \n",
       "Huelva-Costa                                          832.0   289548.0   \n",
       "San Bartolomé de la Torre                               8.0     3761.0   \n",
       "Nerva                                                   2.0     5169.0   \n",
       "San Juan del Puerto                                    54.0     9411.0   \n",
       "Moguer                                                 74.0    21867.0   \n",
       "Aracena                                                13.0     8255.0   \n",
       "Lucena del Puerto                                       9.0     3261.0   \n",
       "Lepe                                                   22.0    27880.0   \n",
       "Beas                                                    5.0     4341.0   \n",
       "Puebla de Guzmán                                       18.0     3092.0   \n",
       "Niebla                                                 13.0     4116.0   \n",
       "Ayamonte                                               11.0    21104.0   \n",
       "Isla Cristina                                          16.0    21393.0   \n",
       "Calañas                                                 6.0     2768.0   \n",
       "Alosno                                                 13.0     3933.0   \n",
       "Cortelazor                                              5.0      299.0   \n",
       "Alájar                                                  1.0      759.0   \n",
       "Rosal de la Frontera                                    2.0     1697.0   \n",
       "Cerro de Andévalo (El)                                  2.0     2327.0   \n",
       "Almonaster la Real                                      1.0     1788.0   \n",
       "Almendro (El)                                           3.0      840.0   \n",
       "Villablanca                                             2.0     2885.0   \n",
       "Paterna del Campo                                       1.0     3457.0   \n",
       "Jabugo                                                  1.0     2260.0   \n",
       "\n",
       "Medida                                   tasa7       tasa14  Diferencia PDIA  \\\n",
       "Lugar de residencia                                                            \n",
       "Minas de Riotinto                    26.232949   183.630640              0.0   \n",
       "Villarrasa                           90.456807   542.740841              0.0   \n",
       "Manzanilla                           47.214353   236.071766              0.0   \n",
       "Villanueva de los Castillejos        35.398230   141.592920              0.0   \n",
       "Punta Umbría                         58.612830   221.426246              0.0   \n",
       "Palos de la Frontera                136.262988   476.920456              3.0   \n",
       "Bonares                              82.508251   280.528053              0.0   \n",
       "Trigueros                            89.035869   292.546426              1.0   \n",
       "Bollullos Par del Condado            90.359352   291.930215              0.0   \n",
       "Gibraleón                            47.106854   149.171704              0.0   \n",
       "Almonte                              77.528869   240.747542              2.0   \n",
       "Valverde del Camino                 172.549020   517.647059              2.0   \n",
       "Rociana del Condado                  25.192090    75.576269              1.0   \n",
       "Palma del Condado (La)               92.584020   249.976854              0.0   \n",
       "Sierra de Huelva-Andévalo Central    71.226128   189.936342              6.0   \n",
       "Condado-Campiña                     108.173154   275.233468             14.0   \n",
       "Aljaraque                           125.733445   307.348421              3.0   \n",
       "Cartaya                              64.731365   154.359408              2.0   \n",
       "Huelva                              114.387045   271.839741             46.0   \n",
       "Huelva (capital)                    181.455397   425.481622             19.0   \n",
       "Huelva-Costa                        127.440010   287.344413             26.0   \n",
       "San Bartolomé de la Torre           106.354693   212.709386              0.0   \n",
       "Nerva                                19.346102    38.692204              0.0   \n",
       "San Juan del Puerto                 297.524174   573.796621              2.0   \n",
       "Moguer                              178.350940   338.409475              4.0   \n",
       "Aracena                              84.797093   157.480315              1.0   \n",
       "Lucena del Puerto                   153.327200   275.988960              1.0   \n",
       "Lepe                                 46.628407    78.909613              0.0   \n",
       "Beas                                 69.108500   115.180834              0.0   \n",
       "Puebla de Guzmán                    355.756792   582.147477              0.0   \n",
       "Niebla                              194.363460   315.840622              0.0   \n",
       "Ayamonte                             33.169067    52.122820              1.0   \n",
       "Isla Cristina                        51.418688    74.790819              0.0   \n",
       "Calañas                             180.635838   216.763006              1.0   \n",
       "Alosno                              279.684719   330.536486              0.0   \n",
       "Cortelazor                         1672.240803  1672.240803              0.0   \n",
       "Alájar                              131.752306   131.752306              0.0   \n",
       "Rosal de la Frontera                117.855038   117.855038              0.0   \n",
       "Cerro de Andévalo (El)               85.947572    85.947572              0.0   \n",
       "Almonaster la Real                   55.928412    55.928412              0.0   \n",
       "Almendro (El)                       357.142857   357.142857              1.0   \n",
       "Villablanca                          69.324090    69.324090              0.0   \n",
       "Paterna del Campo                    28.926815    28.926815              0.0   \n",
       "Jabugo                               44.247788    44.247788              0.0   \n",
       "\n",
       "Medida                                 7/14  \n",
       "Lugar de residencia                          \n",
       "Minas de Riotinto                  0.142857  \n",
       "Villarrasa                         0.166667  \n",
       "Manzanilla                         0.200000  \n",
       "Villanueva de los Castillejos      0.250000  \n",
       "Punta Umbría                       0.264706  \n",
       "Palos de la Frontera               0.285714  \n",
       "Bonares                            0.294118  \n",
       "Trigueros                          0.304348  \n",
       "Bollullos Par del Condado          0.309524  \n",
       "Gibraleón                          0.315789  \n",
       "Almonte                            0.322034  \n",
       "Valverde del Camino                0.333333  \n",
       "Rociana del Condado                0.333333  \n",
       "Palma del Condado (La)             0.370370  \n",
       "Sierra de Huelva-Andévalo Central  0.375000  \n",
       "Condado-Campiña                    0.393023  \n",
       "Aljaraque                          0.409091  \n",
       "Cartaya                            0.419355  \n",
       "Huelva                             0.420789  \n",
       "Huelva (capital)                   0.426471  \n",
       "Huelva-Costa                       0.443510  \n",
       "San Bartolomé de la Torre          0.500000  \n",
       "Nerva                              0.500000  \n",
       "San Juan del Puerto                0.518519  \n",
       "Moguer                             0.527027  \n",
       "Aracena                            0.538462  \n",
       "Lucena del Puerto                  0.555556  \n",
       "Lepe                               0.590909  \n",
       "Beas                               0.600000  \n",
       "Puebla de Guzmán                   0.611111  \n",
       "Niebla                             0.615385  \n",
       "Ayamonte                           0.636364  \n",
       "Isla Cristina                      0.687500  \n",
       "Calañas                            0.833333  \n",
       "Alosno                             0.846154  \n",
       "Cortelazor                         1.000000  \n",
       "Alájar                             1.000000  \n",
       "Rosal de la Frontera               1.000000  \n",
       "Cerro de Andévalo (El)             1.000000  \n",
       "Almonaster la Real                 1.000000  \n",
       "Almendro (El)                      1.000000  \n",
       "Villablanca                        1.000000  \n",
       "Paterna del Campo                  1.000000  \n",
       "Jabugo                             1.000000  "
      ],
      "text/html": "<div>\n<style scoped>\n    .dataframe tbody tr th:only-of-type {\n        vertical-align: middle;\n    }\n\n    .dataframe tbody tr th {\n        vertical-align: top;\n    }\n\n    .dataframe thead th {\n        text-align: right;\n    }\n</style>\n<table border=\"1\" class=\"dataframe\">\n  <thead>\n    <tr style=\"text-align: right;\">\n      <th>Medida</th>\n      <th>Confirmados PDIA</th>\n      <th>Confirmados PDIA 7 días</th>\n      <th>Confirmados PDIA 14 días</th>\n      <th>Población</th>\n      <th>tasa7</th>\n      <th>tasa14</th>\n      <th>Diferencia PDIA</th>\n      <th>7/14</th>\n    </tr>\n    <tr>\n      <th>Lugar de residencia</th>\n      <th></th>\n      <th></th>\n      <th></th>\n      <th></th>\n      <th></th>\n      <th></th>\n      <th></th>\n      <th></th>\n    </tr>\n  </thead>\n  <tbody>\n    <tr>\n      <th>Minas de Riotinto</th>\n      <td>128.0</td>\n      <td>1.0</td>\n      <td>7.0</td>\n      <td>3812.0</td>\n      <td>26.232949</td>\n      <td>183.630640</td>\n      <td>0.0</td>\n      <td>0.142857</td>\n    </tr>\n    <tr>\n      <th>Villarrasa</th>\n      <td>180.0</td>\n      <td>2.0</td>\n      <td>12.0</td>\n      <td>2211.0</td>\n      <td>90.456807</td>\n      <td>542.740841</td>\n      <td>0.0</td>\n      <td>0.166667</td>\n    </tr>\n    <tr>\n      <th>Manzanilla</th>\n      <td>103.0</td>\n      <td>1.0</td>\n      <td>5.0</td>\n      <td>2118.0</td>\n      <td>47.214353</td>\n      <td>236.071766</td>\n      <td>0.0</td>\n      <td>0.200000</td>\n    </tr>\n    <tr>\n      <th>Villanueva de los Castillejos</th>\n      <td>164.0</td>\n      <td>1.0</td>\n      <td>4.0</td>\n      <td>2825.0</td>\n      <td>35.398230</td>\n      <td>141.592920</td>\n      <td>0.0</td>\n      <td>0.250000</td>\n    </tr>\n    <tr>\n      <th>Punta Umbría</th>\n      <td>840.0</td>\n      <td>9.0</td>\n      <td>34.0</td>\n      <td>15355.0</td>\n      <td>58.612830</td>\n      <td>221.426246</td>\n      <td>0.0</td>\n      <td>0.264706</td>\n    </tr>\n    <tr>\n      <th>Palos de la Frontera</th>\n      <td>699.0</td>\n      <td>16.0</td>\n      <td>56.0</td>\n      <td>11742.0</td>\n      <td>136.262988</td>\n      <td>476.920456</td>\n      <td>3.0</td>\n      <td>0.285714</td>\n    </tr>\n    <tr>\n      <th>Bonares</th>\n      <td>288.0</td>\n      <td>5.0</td>\n      <td>17.0</td>\n      <td>6060.0</td>\n      <td>82.508251</td>\n      <td>280.528053</td>\n      <td>0.0</td>\n      <td>0.294118</td>\n    </tr>\n    <tr>\n      <th>Trigueros</th>\n      <td>325.0</td>\n      <td>7.0</td>\n      <td>23.0</td>\n      <td>7862.0</td>\n      <td>89.035869</td>\n      <td>292.546426</td>\n      <td>1.0</td>\n      <td>0.304348</td>\n    </tr>\n    <tr>\n      <th>Bollullos Par del Condado</th>\n      <td>1015.0</td>\n      <td>13.0</td>\n      <td>42.0</td>\n      <td>14387.0</td>\n      <td>90.359352</td>\n      <td>291.930215</td>\n      <td>0.0</td>\n      <td>0.309524</td>\n    </tr>\n    <tr>\n      <th>Gibraleón</th>\n      <td>641.0</td>\n      <td>6.0</td>\n      <td>19.0</td>\n      <td>12737.0</td>\n      <td>47.106854</td>\n      <td>149.171704</td>\n      <td>0.0</td>\n      <td>0.315789</td>\n    </tr>\n    <tr>\n      <th>Almonte</th>\n      <td>1866.0</td>\n      <td>19.0</td>\n      <td>59.0</td>\n      <td>24507.0</td>\n      <td>77.528869</td>\n      <td>240.747542</td>\n      <td>2.0</td>\n      <td>0.322034</td>\n    </tr>\n    <tr>\n      <th>Valverde del Camino</th>\n      <td>629.0</td>\n      <td>22.0</td>\n      <td>66.0</td>\n      <td>12750.0</td>\n      <td>172.549020</td>\n      <td>517.647059</td>\n      <td>2.0</td>\n      <td>0.333333</td>\n    </tr>\n    <tr>\n      <th>Rociana del Condado</th>\n      <td>560.0</td>\n      <td>2.0</td>\n      <td>6.0</td>\n      <td>7939.0</td>\n      <td>25.192090</td>\n      <td>75.576269</td>\n      <td>1.0</td>\n      <td>0.333333</td>\n    </tr>\n    <tr>\n      <th>Palma del Condado (La)</th>\n      <td>1174.0</td>\n      <td>10.0</td>\n      <td>27.0</td>\n      <td>10801.0</td>\n      <td>92.584020</td>\n      <td>249.976854</td>\n      <td>0.0</td>\n      <td>0.370370</td>\n    </tr>\n    <tr>\n      <th>Sierra de Huelva-Andévalo Central</th>\n      <td>2874.0</td>\n      <td>48.0</td>\n      <td>128.0</td>\n      <td>67391.0</td>\n      <td>71.226128</td>\n      <td>189.936342</td>\n      <td>6.0</td>\n      <td>0.375000</td>\n    </tr>\n    <tr>\n      <th>Condado-Campiña</th>\n      <td>10546.0</td>\n      <td>169.0</td>\n      <td>430.0</td>\n      <td>156231.0</td>\n      <td>108.173154</td>\n      <td>275.233468</td>\n      <td>14.0</td>\n      <td>0.393023</td>\n    </tr>\n    <tr>\n      <th>Aljaraque</th>\n      <td>1153.0</td>\n      <td>27.0</td>\n      <td>66.0</td>\n      <td>21474.0</td>\n      <td>125.733445</td>\n      <td>307.348421</td>\n      <td>3.0</td>\n      <td>0.409091</td>\n    </tr>\n    <tr>\n      <th>Cartaya</th>\n      <td>1365.0</td>\n      <td>13.0</td>\n      <td>31.0</td>\n      <td>20083.0</td>\n      <td>64.731365</td>\n      <td>154.359408</td>\n      <td>2.0</td>\n      <td>0.419355</td>\n    </tr>\n    <tr>\n      <th>Huelva</th>\n      <td>32528.0</td>\n      <td>587.0</td>\n      <td>1395.0</td>\n      <td>513170.0</td>\n      <td>114.387045</td>\n      <td>271.839741</td>\n      <td>46.0</td>\n      <td>0.420789</td>\n    </tr>\n    <tr>\n      <th>Huelva (capital)</th>\n      <td>8848.0</td>\n      <td>261.0</td>\n      <td>612.0</td>\n      <td>143837.0</td>\n      <td>181.455397</td>\n      <td>425.481622</td>\n      <td>19.0</td>\n      <td>0.426471</td>\n    </tr>\n    <tr>\n      <th>Huelva-Costa</th>\n      <td>18757.0</td>\n      <td>369.0</td>\n      <td>832.0</td>\n      <td>289548.0</td>\n      <td>127.440010</td>\n      <td>287.344413</td>\n      <td>26.0</td>\n      <td>0.443510</td>\n    </tr>\n    <tr>\n      <th>San Bartolomé de la Torre</th>\n      <td>304.0</td>\n      <td>4.0</td>\n      <td>8.0</td>\n      <td>3761.0</td>\n      <td>106.354693</td>\n      <td>212.709386</td>\n      <td>0.0</td>\n      <td>0.500000</td>\n    </tr>\n    <tr>\n      <th>Nerva</th>\n      <td>179.0</td>\n      <td>1.0</td>\n      <td>2.0</td>\n      <td>5169.0</td>\n      <td>19.346102</td>\n      <td>38.692204</td>\n      <td>0.0</td>\n      <td>0.500000</td>\n    </tr>\n    <tr>\n      <th>San Juan del Puerto</th>\n      <td>552.0</td>\n      <td>28.0</td>\n      <td>54.0</td>\n      <td>9411.0</td>\n      <td>297.524174</td>\n      <td>573.796621</td>\n      <td>2.0</td>\n      <td>0.518519</td>\n    </tr>\n    <tr>\n      <th>Moguer</th>\n      <td>1352.0</td>\n      <td>39.0</td>\n      <td>74.0</td>\n      <td>21867.0</td>\n      <td>178.350940</td>\n      <td>338.409475</td>\n      <td>4.0</td>\n      <td>0.527027</td>\n    </tr>\n    <tr>\n      <th>Aracena</th>\n      <td>538.0</td>\n      <td>7.0</td>\n      <td>13.0</td>\n      <td>8255.0</td>\n      <td>84.797093</td>\n      <td>157.480315</td>\n      <td>1.0</td>\n      <td>0.538462</td>\n    </tr>\n    <tr>\n      <th>Lucena del Puerto</th>\n      <td>261.0</td>\n      <td>5.0</td>\n      <td>9.0</td>\n      <td>3261.0</td>\n      <td>153.327200</td>\n      <td>275.988960</td>\n      <td>1.0</td>\n      <td>0.555556</td>\n    </tr>\n    <tr>\n      <th>Lepe</th>\n      <td>2149.0</td>\n      <td>13.0</td>\n      <td>22.0</td>\n      <td>27880.0</td>\n      <td>46.628407</td>\n      <td>78.909613</td>\n      <td>0.0</td>\n      <td>0.590909</td>\n    </tr>\n    <tr>\n      <th>Beas</th>\n      <td>215.0</td>\n      <td>3.0</td>\n      <td>5.0</td>\n      <td>4341.0</td>\n      <td>69.108500</td>\n      <td>115.180834</td>\n      <td>0.0</td>\n      <td>0.600000</td>\n    </tr>\n    <tr>\n      <th>Puebla de Guzmán</th>\n      <td>132.0</td>\n      <td>11.0</td>\n      <td>18.0</td>\n      <td>3092.0</td>\n      <td>355.756792</td>\n      <td>582.147477</td>\n      <td>0.0</td>\n      <td>0.611111</td>\n    </tr>\n    <tr>\n      <th>Niebla</th>\n      <td>247.0</td>\n      <td>8.0</td>\n      <td>13.0</td>\n      <td>4116.0</td>\n      <td>194.363460</td>\n      <td>315.840622</td>\n      <td>0.0</td>\n      <td>0.615385</td>\n    </tr>\n    <tr>\n      <th>Ayamonte</th>\n      <td>1329.0</td>\n      <td>7.0</td>\n      <td>11.0</td>\n      <td>21104.0</td>\n      <td>33.169067</td>\n      <td>52.122820</td>\n      <td>1.0</td>\n      <td>0.636364</td>\n    </tr>\n    <tr>\n      <th>Isla Cristina</th>\n      <td>2164.0</td>\n      <td>11.0</td>\n      <td>16.0</td>\n      <td>21393.0</td>\n      <td>51.418688</td>\n      <td>74.790819</td>\n      <td>0.0</td>\n      <td>0.687500</td>\n    </tr>\n    <tr>\n      <th>Calañas</th>\n      <td>196.0</td>\n      <td>5.0</td>\n      <td>6.0</td>\n      <td>2768.0</td>\n      <td>180.635838</td>\n      <td>216.763006</td>\n      <td>1.0</td>\n      <td>0.833333</td>\n    </tr>\n    <tr>\n      <th>Alosno</th>\n      <td>179.0</td>\n      <td>11.0</td>\n      <td>13.0</td>\n      <td>3933.0</td>\n      <td>279.684719</td>\n      <td>330.536486</td>\n      <td>0.0</td>\n      <td>0.846154</td>\n    </tr>\n    <tr>\n      <th>Cortelazor</th>\n      <td>13.0</td>\n      <td>5.0</td>\n      <td>5.0</td>\n      <td>299.0</td>\n      <td>1672.240803</td>\n      <td>1672.240803</td>\n      <td>0.0</td>\n      <td>1.000000</td>\n    </tr>\n    <tr>\n      <th>Alájar</th>\n      <td>18.0</td>\n      <td>1.0</td>\n      <td>1.0</td>\n      <td>759.0</td>\n      <td>131.752306</td>\n      <td>131.752306</td>\n      <td>0.0</td>\n      <td>1.000000</td>\n    </tr>\n    <tr>\n      <th>Rosal de la Frontera</th>\n      <td>31.0</td>\n      <td>2.0</td>\n      <td>2.0</td>\n      <td>1697.0</td>\n      <td>117.855038</td>\n      <td>117.855038</td>\n      <td>0.0</td>\n      <td>1.000000</td>\n    </tr>\n    <tr>\n      <th>Cerro de Andévalo (El)</th>\n      <td>148.0</td>\n      <td>2.0</td>\n      <td>2.0</td>\n      <td>2327.0</td>\n      <td>85.947572</td>\n      <td>85.947572</td>\n      <td>0.0</td>\n      <td>1.000000</td>\n    </tr>\n    <tr>\n      <th>Almonaster la Real</th>\n      <td>67.0</td>\n      <td>1.0</td>\n      <td>1.0</td>\n      <td>1788.0</td>\n      <td>55.928412</td>\n      <td>55.928412</td>\n      <td>0.0</td>\n      <td>1.000000</td>\n    </tr>\n    <tr>\n      <th>Almendro (El)</th>\n      <td>39.0</td>\n      <td>3.0</td>\n      <td>3.0</td>\n      <td>840.0</td>\n      <td>357.142857</td>\n      <td>357.142857</td>\n      <td>1.0</td>\n      <td>1.000000</td>\n    </tr>\n    <tr>\n      <th>Villablanca</th>\n      <td>189.0</td>\n      <td>2.0</td>\n      <td>2.0</td>\n      <td>2885.0</td>\n      <td>69.324090</td>\n      <td>69.324090</td>\n      <td>0.0</td>\n      <td>1.000000</td>\n    </tr>\n    <tr>\n      <th>Paterna del Campo</th>\n      <td>129.0</td>\n      <td>1.0</td>\n      <td>1.0</td>\n      <td>3457.0</td>\n      <td>28.926815</td>\n      <td>28.926815</td>\n      <td>0.0</td>\n      <td>1.000000</td>\n    </tr>\n    <tr>\n      <th>Jabugo</th>\n      <td>65.0</td>\n      <td>1.0</td>\n      <td>1.0</td>\n      <td>2260.0</td>\n      <td>44.247788</td>\n      <td>44.247788</td>\n      <td>0.0</td>\n      <td>1.000000</td>\n    </tr>\n  </tbody>\n</table>\n</div>"
     },
     "metadata": {},
     "execution_count": 18
    }
   ],
   "source": [
    "# Peso de la tasa de la última semana en relación con la tasa a 14 días \n",
    "# Mejor cuanto menor. Valor 1 significa que no había casos antes de 7 días.\n",
    "tabla['7/14'] = tabla['tasa7'] / tabla['tasa14']\n",
    "tabla.fillna(0).sort_values('7/14', ascending=True)"
   ]
  },
  {
   "cell_type": "code",
   "execution_count": null,
   "metadata": {},
   "outputs": [],
   "source": []
  }
 ]
}