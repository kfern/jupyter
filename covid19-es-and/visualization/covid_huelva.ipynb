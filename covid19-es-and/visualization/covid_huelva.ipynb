{
 "metadata": {
  "language_info": {
   "codemirror_mode": {
    "name": "ipython",
    "version": 3
   },
   "file_extension": ".py",
   "mimetype": "text/x-python",
   "name": "python",
   "nbconvert_exporter": "python",
   "pygments_lexer": "ipython3",
   "version": "3.8.6-final"
  },
  "orig_nbformat": 2,
  "kernelspec": {
   "name": "python3",
   "display_name": "Python 3",
   "language": "python"
  }
 },
 "nbformat": 4,
 "nbformat_minor": 2,
 "cells": [
  {
   "cell_type": "code",
   "execution_count": 1,
   "metadata": {},
   "outputs": [],
   "source": [
    "import pandas as pd\n",
    "pd.set_option('display.max_rows', None) # Print all rows"
   ]
  },
  {
   "cell_type": "code",
   "execution_count": 2,
   "metadata": {},
   "outputs": [],
   "source": [
    "# FIX SSL: CERTIFICATE_VERIFY_FAILED with Python3\n",
    "# https://stackoverflow.com/a/49174340\n",
    "import ssl\n",
    "\n",
    "ssl._create_default_https_context = ssl._create_unverified_context"
   ]
  },
  {
   "cell_type": "code",
   "execution_count": 3,
   "metadata": {},
   "outputs": [],
   "source": [
    "url = 'https://www.juntadeandalucia.es/institutodeestadisticaycartografia/badea/stpivot/stpivot/Print?cube=013d884c-cfc5-4c21-9e78-e26225682afd&type=3&foto=si&ejecutaDesde=&codConsulta=38668&consTipoVisua=JP'\n",
    "fields = ['Lugar de residencia', 'Medida', 'Valor']\n",
    "df = pd.read_csv(url, delimiter=';', usecols=fields, decimal=',')"
   ]
  },
  {
   "cell_type": "code",
   "execution_count": 4,
   "metadata": {},
   "outputs": [
    {
     "output_type": "execute_result",
     "data": {
      "text/plain": [
       "  Lugar de residencia                    Medida               Valor\n",
       "0              Huelva                 Población              513170\n",
       "1              Huelva          Confirmados PDIA               27327\n",
       "2              Huelva  Confirmados PDIA 14 días                1368\n",
       "3              Huelva         Tasa PDIA 14 días  266,57832687023796\n",
       "4              Huelva   Confirmados PDIA 7 días                 637\n",
       "5              Huelva        Total Confirmados                27501\n",
       "6              Huelva                   Curados               22877\n",
       "7              Huelva                Fallecidos                 359"
      ],
      "text/html": "<div>\n<style scoped>\n    .dataframe tbody tr th:only-of-type {\n        vertical-align: middle;\n    }\n\n    .dataframe tbody tr th {\n        vertical-align: top;\n    }\n\n    .dataframe thead th {\n        text-align: right;\n    }\n</style>\n<table border=\"1\" class=\"dataframe\">\n  <thead>\n    <tr style=\"text-align: right;\">\n      <th></th>\n      <th>Lugar de residencia</th>\n      <th>Medida</th>\n      <th>Valor</th>\n    </tr>\n  </thead>\n  <tbody>\n    <tr>\n      <th>0</th>\n      <td>Huelva</td>\n      <td>Población</td>\n      <td>513170</td>\n    </tr>\n    <tr>\n      <th>1</th>\n      <td>Huelva</td>\n      <td>Confirmados PDIA</td>\n      <td>27327</td>\n    </tr>\n    <tr>\n      <th>2</th>\n      <td>Huelva</td>\n      <td>Confirmados PDIA 14 días</td>\n      <td>1368</td>\n    </tr>\n    <tr>\n      <th>3</th>\n      <td>Huelva</td>\n      <td>Tasa PDIA 14 días</td>\n      <td>266,57832687023796</td>\n    </tr>\n    <tr>\n      <th>4</th>\n      <td>Huelva</td>\n      <td>Confirmados PDIA 7 días</td>\n      <td>637</td>\n    </tr>\n    <tr>\n      <th>5</th>\n      <td>Huelva</td>\n      <td>Total Confirmados</td>\n      <td>27501</td>\n    </tr>\n    <tr>\n      <th>6</th>\n      <td>Huelva</td>\n      <td>Curados</td>\n      <td>22877</td>\n    </tr>\n    <tr>\n      <th>7</th>\n      <td>Huelva</td>\n      <td>Fallecidos</td>\n      <td>359</td>\n    </tr>\n  </tbody>\n</table>\n</div>"
     },
     "metadata": {},
     "execution_count": 4
    }
   ],
   "source": [
    "df[df['Lugar de residencia'] == 'Huelva']"
   ]
  },
  {
   "cell_type": "code",
   "execution_count": 5,
   "metadata": {},
   "outputs": [],
   "source": [
    "df['Valor'] = pd.to_numeric(df['Valor'],errors='coerce')"
   ]
  },
  {
   "cell_type": "code",
   "execution_count": 6,
   "metadata": {},
   "outputs": [],
   "source": [
    "dfAnterior = pd.read_csv('covid_huelva.csv', index_col='Lugar de residencia')"
   ]
  },
  {
   "cell_type": "code",
   "execution_count": 7,
   "metadata": {
    "tags": []
   },
   "outputs": [
    {
     "output_type": "stream",
     "name": "stdout",
     "text": [
      "Confirmados PCR en la provincia de Huelva:  27327.0\n",
      "<ipython-input-7-31b732756b19>:2: UserWarning: Boolean Series key will be reindexed to match DataFrame index.\n",
      "  p = df[df['Lugar de residencia'] == 'Huelva'][df['Medida'] == 'Confirmados PDIA']['Valor'].values[0]\n"
     ]
    }
   ],
   "source": [
    "# Confirmados PCR provincia Huelva\n",
    "p = df[df['Lugar de residencia'] == 'Huelva'][df['Medida'] == 'Confirmados PDIA']['Valor'].values[0]\n",
    "print('Confirmados PCR en la provincia de Huelva: ', p)"
   ]
  },
  {
   "cell_type": "code",
   "execution_count": 8,
   "metadata": {
    "tags": []
   },
   "outputs": [
    {
     "output_type": "stream",
     "name": "stdout",
     "text": [
      "Confirmados PCR en Huelva capital:  7109.0\n",
      "<ipython-input-8-e81bfb40e710>:2: UserWarning: Boolean Series key will be reindexed to match DataFrame index.\n",
      "  c = df[df['Lugar de residencia'] == 'Huelva (capital)'][df['Medida'] == 'Confirmados PDIA']['Valor'].values[0]\n"
     ]
    }
   ],
   "source": [
    "# Confirmados PCR Huelva capitalpd\n",
    "c = df[df['Lugar de residencia'] == 'Huelva (capital)'][df['Medida'] == 'Confirmados PDIA']['Valor'].values[0]\n",
    "print('Confirmados PCR en Huelva capital: ', c)"
   ]
  },
  {
   "cell_type": "code",
   "execution_count": 9,
   "metadata": {
    "tags": []
   },
   "outputs": [
    {
     "output_type": "stream",
     "name": "stderr",
     "text": [
      "<ipython-input-9-f09dd2050cc1>:1: UserWarning: Boolean Series key will be reindexed to match DataFrame index.\n  c7 = df[df['Lugar de residencia'] == 'Huelva (capital)'][df['Medida'] == 'Confirmados PDIA 7 días']['Valor'].values[0]\n<ipython-input-9-f09dd2050cc1>:2: UserWarning: Boolean Series key will be reindexed to match DataFrame index.\n  c14 = df[df['Lugar de residencia'] == 'Huelva (capital)'][df['Medida'] == 'Confirmados PDIA 14 días']['Valor'].values[0]\n<ipython-input-9-f09dd2050cc1>:3: UserWarning: Boolean Series key will be reindexed to match DataFrame index.\n  p = df[df['Lugar de residencia'] == 'Huelva (capital)'][df['Medida'] == 'Población']['Valor'].values[0]\n"
     ]
    }
   ],
   "source": [
    "c7 = df[df['Lugar de residencia'] == 'Huelva (capital)'][df['Medida'] == 'Confirmados PDIA 7 días']['Valor'].values[0]\n",
    "c14 = df[df['Lugar de residencia'] == 'Huelva (capital)'][df['Medida'] == 'Confirmados PDIA 14 días']['Valor'].values[0]\n",
    "p = df[df['Lugar de residencia'] == 'Huelva (capital)'][df['Medida'] == 'Población']['Valor'].values[0]"
   ]
  },
  {
   "cell_type": "code",
   "execution_count": 10,
   "metadata": {
    "tags": []
   },
   "outputs": [
    {
     "output_type": "stream",
     "name": "stdout",
     "text": [
      "Huelva (capital)\n\nUn positivo PCR cada 992 personas en los últimos 7 días \n\nUn positivo PCR cada 458 personas en los últimos 14 días\n"
     ]
    }
   ],
   "source": [
    "print('Huelva (capital)\\n')\n",
    "#print('Confirmados PCR 7 días x 1,000 habitantes: ', f\"{c7/(p/1000):.5f}\")\n",
    "print('Un positivo PCR cada', f\"{p/c7:.0f}\", 'personas en los últimos 7 días', '\\n')\n",
    "#print('Confirmados PCR 14 días x 1,000 habitantes: ', f\"{c14/(p/1000):.5f}\")\n",
    "print('Un positivo PCR cada', f\"{p/c14:.0f}\", 'personas en los últimos 14 días')"
   ]
  },
  {
   "cell_type": "code",
   "execution_count": 11,
   "metadata": {},
   "outputs": [],
   "source": [
    "filtro = ((df['Medida'] == 'Confirmados PDIA')| (df['Medida'] == 'Confirmados PDIA 7 días') | (df['Medida'] == 'Población' ) | (df['Medida'] == 'Confirmados PDIA 14 días')) & (df['Valor'] > 0)\n",
    "tabla = pd.pivot_table(df.loc[filtro], values='Valor', index='Lugar de residencia', columns='Medida').dropna()"
   ]
  },
  {
   "cell_type": "code",
   "execution_count": 12,
   "metadata": {},
   "outputs": [],
   "source": [
    "# Reorder columns\n",
    "tabla = tabla[['Confirmados PDIA', 'Confirmados PDIA 7 días', 'Confirmados PDIA 14 días', 'Población']]"
   ]
  },
  {
   "cell_type": "code",
   "execution_count": 13,
   "metadata": {},
   "outputs": [],
   "source": [
    "tabla['tasa7'] = tabla['Confirmados PDIA 7 días']/tabla['Población']*100000\n",
    "tabla['tasa14'] = tabla['Confirmados PDIA 14 días']/tabla['Población']*100000"
   ]
  },
  {
   "cell_type": "code",
   "execution_count": 14,
   "metadata": {},
   "outputs": [],
   "source": [
    "tabla['Diferencia PDIA'] = tabla['Confirmados PDIA'] - dfAnterior['Confirmados PDIA']"
   ]
  },
  {
   "cell_type": "code",
   "execution_count": 15,
   "metadata": {},
   "outputs": [
    {
     "output_type": "execute_result",
     "data": {
      "text/plain": [
       "Medida                             Confirmados PDIA  Confirmados PDIA 7 días  \\\n",
       "Lugar de residencia                                                            \n",
       "Huelva                                      27327.0                    637.0   \n",
       "Condado-Campiña                              8330.0                    317.0   \n",
       "Huelva-Costa                                16146.0                    265.0   \n",
       "Huelva (capital)                             7109.0                    145.0   \n",
       "Sierra de Huelva-Andévalo Central            2436.0                     47.0   \n",
       "Moguer                                       1011.0                     43.0   \n",
       "Almonte                                      1314.0                    127.0   \n",
       "Rociana del Condado                           467.0                     36.0   \n",
       "Cartaya                                      1203.0                     78.0   \n",
       "Palos de la Frontera                          556.0                     30.0   \n",
       "Almonaster la Real                             62.0                      7.0   \n",
       "Aracena                                       498.0                     11.0   \n",
       "Beas                                          174.0                      9.0   \n",
       "Valverde del Camino                           452.0                      9.0   \n",
       "Palma del Condado (La)                       1014.0                      6.0   \n",
       "San Juan del Puerto                           411.0                      5.0   \n",
       "San Bartolomé de la Torre                     277.0                      9.0   \n",
       "Punta Umbría                                  685.0                      5.0   \n",
       "Aljaraque                                     975.0                     11.0   \n",
       "Lucena del Puerto                             187.0                      6.0   \n",
       "Isla Cristina                                2020.0                      4.0   \n",
       "Gibraleón                                     559.0                      3.0   \n",
       "Lepe                                         2055.0                     13.0   \n",
       "Almendro (El)                                  36.0                      2.0   \n",
       "Bonares                                       225.0                      6.0   \n",
       "Bollullos Par del Condado                     732.0                     22.0   \n",
       "Villarrasa                                    142.0                      3.0   \n",
       "Cumbres Mayores                                26.0                      1.0   \n",
       "Escacena del Campo                            143.0                      1.0   \n",
       "Galaroza                                       17.0                      1.0   \n",
       "Granado (El)                                   37.0                      1.0   \n",
       "\n",
       "Medida                             Confirmados PDIA 14 días  Población  \\\n",
       "Lugar de residencia                                                      \n",
       "Huelva                                               1368.0   513170.0   \n",
       "Condado-Campiña                                       671.0   156231.0   \n",
       "Huelva-Costa                                          582.0   289548.0   \n",
       "Huelva (capital)                                      314.0   143837.0   \n",
       "Sierra de Huelva-Andévalo Central                      91.0    67391.0   \n",
       "Moguer                                                102.0    21867.0   \n",
       "Almonte                                               232.0    24507.0   \n",
       "Rociana del Condado                                    79.0     7939.0   \n",
       "Cartaya                                               168.0    20083.0   \n",
       "Palos de la Frontera                                   57.0    11742.0   \n",
       "Almonaster la Real                                      9.0     1788.0   \n",
       "Aracena                                                32.0     8255.0   \n",
       "Beas                                                   10.0     4341.0   \n",
       "Valverde del Camino                                    20.0    12750.0   \n",
       "Palma del Condado (La)                                 15.0    10801.0   \n",
       "San Juan del Puerto                                    25.0     9411.0   \n",
       "San Bartolomé de la Torre                              28.0     3761.0   \n",
       "Punta Umbría                                           12.0    15355.0   \n",
       "Aljaraque                                              34.0    21474.0   \n",
       "Lucena del Puerto                                      23.0     3261.0   \n",
       "Isla Cristina                                           5.0    21393.0   \n",
       "Gibraleón                                               7.0    12737.0   \n",
       "Lepe                                                   22.0    27880.0   \n",
       "Almendro (El)                                           2.0      840.0   \n",
       "Bonares                                                25.0     6060.0   \n",
       "Bollullos Par del Condado                              32.0    14387.0   \n",
       "Villarrasa                                              8.0     2211.0   \n",
       "Cumbres Mayores                                         1.0     1749.0   \n",
       "Escacena del Campo                                      1.0     2287.0   \n",
       "Galaroza                                                1.0     1382.0   \n",
       "Granado (El)                                            1.0      532.0   \n",
       "\n",
       "Medida                                  tasa7      tasa14  Diferencia PDIA  \n",
       "Lugar de residencia                                                         \n",
       "Huelva                             124.130405  266.578327            120.0  \n",
       "Condado-Campiña                    202.904673  429.492226             54.0  \n",
       "Huelva-Costa                        91.521958  201.002943             51.0  \n",
       "Huelva (capital)                   100.808554  218.302662             35.0  \n",
       "Sierra de Huelva-Andévalo Central   69.742250  135.032868             13.0  \n",
       "Moguer                             196.643344  466.456304             11.0  \n",
       "Almonte                            518.219284  946.668299             10.0  \n",
       "Rociana del Condado                453.457614  995.087543             10.0  \n",
       "Cartaya                            388.388189  836.528407              7.0  \n",
       "Palos de la Frontera               255.493102  485.436893              6.0  \n",
       "Almonaster la Real                 391.498881  503.355705              5.0  \n",
       "Aracena                            133.252574  387.643852              4.0  \n",
       "Beas                               207.325501  230.361668              3.0  \n",
       "Valverde del Camino                 70.588235  156.862745              2.0  \n",
       "Palma del Condado (La)              55.550412  138.876030              2.0  \n",
       "San Juan del Puerto                 53.129317  265.646584              2.0  \n",
       "San Bartolomé de la Torre          239.298059  744.482850              2.0  \n",
       "Punta Umbría                        32.562683   78.150440              2.0  \n",
       "Aljaraque                           51.224737  158.331005              2.0  \n",
       "Lucena del Puerto                  183.992640  705.305121              2.0  \n",
       "Isla Cristina                       18.697705   23.372131              2.0  \n",
       "Gibraleón                           23.553427   54.957996              2.0  \n",
       "Lepe                                46.628407   78.909613              1.0  \n",
       "Almendro (El)                      238.095238  238.095238              1.0  \n",
       "Bonares                             99.009901  412.541254              1.0  \n",
       "Bollullos Par del Condado          152.915827  222.423021              1.0  \n",
       "Villarrasa                         135.685210  361.827227              1.0  \n",
       "Cumbres Mayores                     57.175529   57.175529              NaN  \n",
       "Escacena del Campo                  43.725404   43.725404              NaN  \n",
       "Galaroza                            72.358900   72.358900              NaN  \n",
       "Granado (El)                       187.969925  187.969925              NaN  "
      ],
      "text/html": "<div>\n<style scoped>\n    .dataframe tbody tr th:only-of-type {\n        vertical-align: middle;\n    }\n\n    .dataframe tbody tr th {\n        vertical-align: top;\n    }\n\n    .dataframe thead th {\n        text-align: right;\n    }\n</style>\n<table border=\"1\" class=\"dataframe\">\n  <thead>\n    <tr style=\"text-align: right;\">\n      <th>Medida</th>\n      <th>Confirmados PDIA</th>\n      <th>Confirmados PDIA 7 días</th>\n      <th>Confirmados PDIA 14 días</th>\n      <th>Población</th>\n      <th>tasa7</th>\n      <th>tasa14</th>\n      <th>Diferencia PDIA</th>\n    </tr>\n    <tr>\n      <th>Lugar de residencia</th>\n      <th></th>\n      <th></th>\n      <th></th>\n      <th></th>\n      <th></th>\n      <th></th>\n      <th></th>\n    </tr>\n  </thead>\n  <tbody>\n    <tr>\n      <th>Huelva</th>\n      <td>27327.0</td>\n      <td>637.0</td>\n      <td>1368.0</td>\n      <td>513170.0</td>\n      <td>124.130405</td>\n      <td>266.578327</td>\n      <td>120.0</td>\n    </tr>\n    <tr>\n      <th>Condado-Campiña</th>\n      <td>8330.0</td>\n      <td>317.0</td>\n      <td>671.0</td>\n      <td>156231.0</td>\n      <td>202.904673</td>\n      <td>429.492226</td>\n      <td>54.0</td>\n    </tr>\n    <tr>\n      <th>Huelva-Costa</th>\n      <td>16146.0</td>\n      <td>265.0</td>\n      <td>582.0</td>\n      <td>289548.0</td>\n      <td>91.521958</td>\n      <td>201.002943</td>\n      <td>51.0</td>\n    </tr>\n    <tr>\n      <th>Huelva (capital)</th>\n      <td>7109.0</td>\n      <td>145.0</td>\n      <td>314.0</td>\n      <td>143837.0</td>\n      <td>100.808554</td>\n      <td>218.302662</td>\n      <td>35.0</td>\n    </tr>\n    <tr>\n      <th>Sierra de Huelva-Andévalo Central</th>\n      <td>2436.0</td>\n      <td>47.0</td>\n      <td>91.0</td>\n      <td>67391.0</td>\n      <td>69.742250</td>\n      <td>135.032868</td>\n      <td>13.0</td>\n    </tr>\n    <tr>\n      <th>Moguer</th>\n      <td>1011.0</td>\n      <td>43.0</td>\n      <td>102.0</td>\n      <td>21867.0</td>\n      <td>196.643344</td>\n      <td>466.456304</td>\n      <td>11.0</td>\n    </tr>\n    <tr>\n      <th>Almonte</th>\n      <td>1314.0</td>\n      <td>127.0</td>\n      <td>232.0</td>\n      <td>24507.0</td>\n      <td>518.219284</td>\n      <td>946.668299</td>\n      <td>10.0</td>\n    </tr>\n    <tr>\n      <th>Rociana del Condado</th>\n      <td>467.0</td>\n      <td>36.0</td>\n      <td>79.0</td>\n      <td>7939.0</td>\n      <td>453.457614</td>\n      <td>995.087543</td>\n      <td>10.0</td>\n    </tr>\n    <tr>\n      <th>Cartaya</th>\n      <td>1203.0</td>\n      <td>78.0</td>\n      <td>168.0</td>\n      <td>20083.0</td>\n      <td>388.388189</td>\n      <td>836.528407</td>\n      <td>7.0</td>\n    </tr>\n    <tr>\n      <th>Palos de la Frontera</th>\n      <td>556.0</td>\n      <td>30.0</td>\n      <td>57.0</td>\n      <td>11742.0</td>\n      <td>255.493102</td>\n      <td>485.436893</td>\n      <td>6.0</td>\n    </tr>\n    <tr>\n      <th>Almonaster la Real</th>\n      <td>62.0</td>\n      <td>7.0</td>\n      <td>9.0</td>\n      <td>1788.0</td>\n      <td>391.498881</td>\n      <td>503.355705</td>\n      <td>5.0</td>\n    </tr>\n    <tr>\n      <th>Aracena</th>\n      <td>498.0</td>\n      <td>11.0</td>\n      <td>32.0</td>\n      <td>8255.0</td>\n      <td>133.252574</td>\n      <td>387.643852</td>\n      <td>4.0</td>\n    </tr>\n    <tr>\n      <th>Beas</th>\n      <td>174.0</td>\n      <td>9.0</td>\n      <td>10.0</td>\n      <td>4341.0</td>\n      <td>207.325501</td>\n      <td>230.361668</td>\n      <td>3.0</td>\n    </tr>\n    <tr>\n      <th>Valverde del Camino</th>\n      <td>452.0</td>\n      <td>9.0</td>\n      <td>20.0</td>\n      <td>12750.0</td>\n      <td>70.588235</td>\n      <td>156.862745</td>\n      <td>2.0</td>\n    </tr>\n    <tr>\n      <th>Palma del Condado (La)</th>\n      <td>1014.0</td>\n      <td>6.0</td>\n      <td>15.0</td>\n      <td>10801.0</td>\n      <td>55.550412</td>\n      <td>138.876030</td>\n      <td>2.0</td>\n    </tr>\n    <tr>\n      <th>San Juan del Puerto</th>\n      <td>411.0</td>\n      <td>5.0</td>\n      <td>25.0</td>\n      <td>9411.0</td>\n      <td>53.129317</td>\n      <td>265.646584</td>\n      <td>2.0</td>\n    </tr>\n    <tr>\n      <th>San Bartolomé de la Torre</th>\n      <td>277.0</td>\n      <td>9.0</td>\n      <td>28.0</td>\n      <td>3761.0</td>\n      <td>239.298059</td>\n      <td>744.482850</td>\n      <td>2.0</td>\n    </tr>\n    <tr>\n      <th>Punta Umbría</th>\n      <td>685.0</td>\n      <td>5.0</td>\n      <td>12.0</td>\n      <td>15355.0</td>\n      <td>32.562683</td>\n      <td>78.150440</td>\n      <td>2.0</td>\n    </tr>\n    <tr>\n      <th>Aljaraque</th>\n      <td>975.0</td>\n      <td>11.0</td>\n      <td>34.0</td>\n      <td>21474.0</td>\n      <td>51.224737</td>\n      <td>158.331005</td>\n      <td>2.0</td>\n    </tr>\n    <tr>\n      <th>Lucena del Puerto</th>\n      <td>187.0</td>\n      <td>6.0</td>\n      <td>23.0</td>\n      <td>3261.0</td>\n      <td>183.992640</td>\n      <td>705.305121</td>\n      <td>2.0</td>\n    </tr>\n    <tr>\n      <th>Isla Cristina</th>\n      <td>2020.0</td>\n      <td>4.0</td>\n      <td>5.0</td>\n      <td>21393.0</td>\n      <td>18.697705</td>\n      <td>23.372131</td>\n      <td>2.0</td>\n    </tr>\n    <tr>\n      <th>Gibraleón</th>\n      <td>559.0</td>\n      <td>3.0</td>\n      <td>7.0</td>\n      <td>12737.0</td>\n      <td>23.553427</td>\n      <td>54.957996</td>\n      <td>2.0</td>\n    </tr>\n    <tr>\n      <th>Lepe</th>\n      <td>2055.0</td>\n      <td>13.0</td>\n      <td>22.0</td>\n      <td>27880.0</td>\n      <td>46.628407</td>\n      <td>78.909613</td>\n      <td>1.0</td>\n    </tr>\n    <tr>\n      <th>Almendro (El)</th>\n      <td>36.0</td>\n      <td>2.0</td>\n      <td>2.0</td>\n      <td>840.0</td>\n      <td>238.095238</td>\n      <td>238.095238</td>\n      <td>1.0</td>\n    </tr>\n    <tr>\n      <th>Bonares</th>\n      <td>225.0</td>\n      <td>6.0</td>\n      <td>25.0</td>\n      <td>6060.0</td>\n      <td>99.009901</td>\n      <td>412.541254</td>\n      <td>1.0</td>\n    </tr>\n    <tr>\n      <th>Bollullos Par del Condado</th>\n      <td>732.0</td>\n      <td>22.0</td>\n      <td>32.0</td>\n      <td>14387.0</td>\n      <td>152.915827</td>\n      <td>222.423021</td>\n      <td>1.0</td>\n    </tr>\n    <tr>\n      <th>Villarrasa</th>\n      <td>142.0</td>\n      <td>3.0</td>\n      <td>8.0</td>\n      <td>2211.0</td>\n      <td>135.685210</td>\n      <td>361.827227</td>\n      <td>1.0</td>\n    </tr>\n    <tr>\n      <th>Cumbres Mayores</th>\n      <td>26.0</td>\n      <td>1.0</td>\n      <td>1.0</td>\n      <td>1749.0</td>\n      <td>57.175529</td>\n      <td>57.175529</td>\n      <td>NaN</td>\n    </tr>\n    <tr>\n      <th>Escacena del Campo</th>\n      <td>143.0</td>\n      <td>1.0</td>\n      <td>1.0</td>\n      <td>2287.0</td>\n      <td>43.725404</td>\n      <td>43.725404</td>\n      <td>NaN</td>\n    </tr>\n    <tr>\n      <th>Galaroza</th>\n      <td>17.0</td>\n      <td>1.0</td>\n      <td>1.0</td>\n      <td>1382.0</td>\n      <td>72.358900</td>\n      <td>72.358900</td>\n      <td>NaN</td>\n    </tr>\n    <tr>\n      <th>Granado (El)</th>\n      <td>37.0</td>\n      <td>1.0</td>\n      <td>1.0</td>\n      <td>532.0</td>\n      <td>187.969925</td>\n      <td>187.969925</td>\n      <td>NaN</td>\n    </tr>\n  </tbody>\n</table>\n</div>"
     },
     "metadata": {},
     "execution_count": 15
    }
   ],
   "source": [
    "# Nuevos casos desde la última captura\n",
    "tabla[tabla['Diferencia PDIA'] != 0].sort_values('Diferencia PDIA', ascending=False)"
   ]
  },
  {
   "cell_type": "code",
   "execution_count": 16,
   "metadata": {},
   "outputs": [],
   "source": [
    "if tabla[tabla['Diferencia PDIA'] != 0]['Diferencia PDIA'].sum() != 0:\n",
    "  # Save to csv\n",
    "  tabla.to_csv('covid_huelva.csv', encoding='utf-8', header=True, index=True)  "
   ]
  },
  {
   "cell_type": "code",
   "execution_count": 17,
   "metadata": {},
   "outputs": [
    {
     "output_type": "execute_result",
     "data": {
      "text/plain": [
       "Medida                             Confirmados PDIA  Confirmados PDIA 7 días  \\\n",
       "Lugar de residencia                                                            \n",
       "Rociana del Condado                           467.0                     36.0   \n",
       "Almonte                                      1314.0                    127.0   \n",
       "Cartaya                                      1203.0                     78.0   \n",
       "San Bartolomé de la Torre                     277.0                      9.0   \n",
       "Lucena del Puerto                             187.0                      6.0   \n",
       "Almonaster la Real                             62.0                      7.0   \n",
       "Palos de la Frontera                          556.0                     30.0   \n",
       "Moguer                                       1011.0                     43.0   \n",
       "Condado-Campiña                              8330.0                    317.0   \n",
       "Bonares                                       225.0                      6.0   \n",
       "Campillo (El)                                  70.0                      7.0   \n",
       "Aracena                                       498.0                     11.0   \n",
       "Villarrasa                                    142.0                      3.0   \n",
       "Huelva                                      27327.0                    637.0   \n",
       "San Juan del Puerto                           411.0                      5.0   \n",
       "Alosno                                        161.0                      1.0   \n",
       "Niebla                                        187.0                      4.0   \n",
       "Almendro (El)                                  36.0                      2.0   \n",
       "Beas                                          174.0                      9.0   \n",
       "Bollullos Par del Condado                     732.0                     22.0   \n",
       "Huelva (capital)                             7109.0                    145.0   \n",
       "Santa Ana la Real                               6.0                      1.0   \n",
       "Huelva-Costa                                16146.0                    265.0   \n",
       "Granado (El)                                   37.0                      1.0   \n",
       "Aljaraque                                     975.0                     11.0   \n",
       "Minas de Riotinto                             106.0                      6.0   \n",
       "Valverde del Camino                           452.0                      9.0   \n",
       "Trigueros                                     253.0                      7.0   \n",
       "Palma del Condado (La)                       1014.0                      6.0   \n",
       "Sierra de Huelva-Andévalo Central            2436.0                     47.0   \n",
       "Aroche                                         87.0                      2.0   \n",
       "Lepe                                         2055.0                     13.0   \n",
       "Punta Umbría                                  685.0                      5.0   \n",
       "Higuera de la Sierra                           32.0                      1.0   \n",
       "Galaroza                                       17.0                      1.0   \n",
       "Calañas                                       174.0                      1.0   \n",
       "Cumbres Mayores                                26.0                      1.0   \n",
       "Gibraleón                                     559.0                      3.0   \n",
       "Escacena del Campo                            143.0                      1.0   \n",
       "Ayamonte                                     1261.0                      5.0   \n",
       "Isla Cristina                                2020.0                      4.0   \n",
       "\n",
       "Medida                             Confirmados PDIA 14 días  Población  \\\n",
       "Lugar de residencia                                                      \n",
       "Rociana del Condado                                    79.0     7939.0   \n",
       "Almonte                                               232.0    24507.0   \n",
       "Cartaya                                               168.0    20083.0   \n",
       "San Bartolomé de la Torre                              28.0     3761.0   \n",
       "Lucena del Puerto                                      23.0     3261.0   \n",
       "Almonaster la Real                                      9.0     1788.0   \n",
       "Palos de la Frontera                                   57.0    11742.0   \n",
       "Moguer                                                102.0    21867.0   \n",
       "Condado-Campiña                                       671.0   156231.0   \n",
       "Bonares                                                25.0     6060.0   \n",
       "Campillo (El)                                           8.0     2024.0   \n",
       "Aracena                                                32.0     8255.0   \n",
       "Villarrasa                                              8.0     2211.0   \n",
       "Huelva                                               1368.0   513170.0   \n",
       "San Juan del Puerto                                    25.0     9411.0   \n",
       "Alosno                                                 10.0     3933.0   \n",
       "Niebla                                                 10.0     4116.0   \n",
       "Almendro (El)                                           2.0      840.0   \n",
       "Beas                                                   10.0     4341.0   \n",
       "Bollullos Par del Condado                              32.0    14387.0   \n",
       "Huelva (capital)                                      314.0   143837.0   \n",
       "Santa Ana la Real                                       1.0      475.0   \n",
       "Huelva-Costa                                          582.0   289548.0   \n",
       "Granado (El)                                            1.0      532.0   \n",
       "Aljaraque                                              34.0    21474.0   \n",
       "Minas de Riotinto                                       6.0     3812.0   \n",
       "Valverde del Camino                                    20.0    12750.0   \n",
       "Trigueros                                              11.0     7862.0   \n",
       "Palma del Condado (La)                                 15.0    10801.0   \n",
       "Sierra de Huelva-Andévalo Central                      91.0    67391.0   \n",
       "Aroche                                                  4.0     3054.0   \n",
       "Lepe                                                   22.0    27880.0   \n",
       "Punta Umbría                                           12.0    15355.0   \n",
       "Higuera de la Sierra                                    1.0     1291.0   \n",
       "Galaroza                                                1.0     1382.0   \n",
       "Calañas                                                 2.0     2768.0   \n",
       "Cumbres Mayores                                         1.0     1749.0   \n",
       "Gibraleón                                               7.0    12737.0   \n",
       "Escacena del Campo                                      1.0     2287.0   \n",
       "Ayamonte                                                7.0    21104.0   \n",
       "Isla Cristina                                           5.0    21393.0   \n",
       "\n",
       "Medida                                  tasa7      tasa14  Diferencia PDIA  \n",
       "Lugar de residencia                                                         \n",
       "Rociana del Condado                453.457614  995.087543             10.0  \n",
       "Almonte                            518.219284  946.668299             10.0  \n",
       "Cartaya                            388.388189  836.528407              7.0  \n",
       "San Bartolomé de la Torre          239.298059  744.482850              2.0  \n",
       "Lucena del Puerto                  183.992640  705.305121              2.0  \n",
       "Almonaster la Real                 391.498881  503.355705              5.0  \n",
       "Palos de la Frontera               255.493102  485.436893              6.0  \n",
       "Moguer                             196.643344  466.456304             11.0  \n",
       "Condado-Campiña                    202.904673  429.492226             54.0  \n",
       "Bonares                             99.009901  412.541254              1.0  \n",
       "Campillo (El)                      345.849802  395.256917              0.0  \n",
       "Aracena                            133.252574  387.643852              4.0  \n",
       "Villarrasa                         135.685210  361.827227              1.0  \n",
       "Huelva                             124.130405  266.578327            120.0  \n",
       "San Juan del Puerto                 53.129317  265.646584              2.0  \n",
       "Alosno                              25.425884  254.258835              0.0  \n",
       "Niebla                              97.181730  242.954325              0.0  \n",
       "Almendro (El)                      238.095238  238.095238              1.0  \n",
       "Beas                               207.325501  230.361668              3.0  \n",
       "Bollullos Par del Condado          152.915827  222.423021              1.0  \n",
       "Huelva (capital)                   100.808554  218.302662             35.0  \n",
       "Santa Ana la Real                  210.526316  210.526316              0.0  \n",
       "Huelva-Costa                        91.521958  201.002943             51.0  \n",
       "Granado (El)                       187.969925  187.969925              NaN  \n",
       "Aljaraque                           51.224737  158.331005              2.0  \n",
       "Minas de Riotinto                  157.397692  157.397692              0.0  \n",
       "Valverde del Camino                 70.588235  156.862745              2.0  \n",
       "Trigueros                           89.035869  139.913508              0.0  \n",
       "Palma del Condado (La)              55.550412  138.876030              2.0  \n",
       "Sierra de Huelva-Andévalo Central   69.742250  135.032868             13.0  \n",
       "Aroche                              65.487885  130.975769              0.0  \n",
       "Lepe                                46.628407   78.909613              1.0  \n",
       "Punta Umbría                        32.562683   78.150440              2.0  \n",
       "Higuera de la Sierra                77.459334   77.459334              0.0  \n",
       "Galaroza                            72.358900   72.358900              NaN  \n",
       "Calañas                             36.127168   72.254335              0.0  \n",
       "Cumbres Mayores                     57.175529   57.175529              NaN  \n",
       "Gibraleón                           23.553427   54.957996              2.0  \n",
       "Escacena del Campo                  43.725404   43.725404              NaN  \n",
       "Ayamonte                            23.692191   33.169067              0.0  \n",
       "Isla Cristina                       18.697705   23.372131              2.0  "
      ],
      "text/html": "<div>\n<style scoped>\n    .dataframe tbody tr th:only-of-type {\n        vertical-align: middle;\n    }\n\n    .dataframe tbody tr th {\n        vertical-align: top;\n    }\n\n    .dataframe thead th {\n        text-align: right;\n    }\n</style>\n<table border=\"1\" class=\"dataframe\">\n  <thead>\n    <tr style=\"text-align: right;\">\n      <th>Medida</th>\n      <th>Confirmados PDIA</th>\n      <th>Confirmados PDIA 7 días</th>\n      <th>Confirmados PDIA 14 días</th>\n      <th>Población</th>\n      <th>tasa7</th>\n      <th>tasa14</th>\n      <th>Diferencia PDIA</th>\n    </tr>\n    <tr>\n      <th>Lugar de residencia</th>\n      <th></th>\n      <th></th>\n      <th></th>\n      <th></th>\n      <th></th>\n      <th></th>\n      <th></th>\n    </tr>\n  </thead>\n  <tbody>\n    <tr>\n      <th>Rociana del Condado</th>\n      <td>467.0</td>\n      <td>36.0</td>\n      <td>79.0</td>\n      <td>7939.0</td>\n      <td>453.457614</td>\n      <td>995.087543</td>\n      <td>10.0</td>\n    </tr>\n    <tr>\n      <th>Almonte</th>\n      <td>1314.0</td>\n      <td>127.0</td>\n      <td>232.0</td>\n      <td>24507.0</td>\n      <td>518.219284</td>\n      <td>946.668299</td>\n      <td>10.0</td>\n    </tr>\n    <tr>\n      <th>Cartaya</th>\n      <td>1203.0</td>\n      <td>78.0</td>\n      <td>168.0</td>\n      <td>20083.0</td>\n      <td>388.388189</td>\n      <td>836.528407</td>\n      <td>7.0</td>\n    </tr>\n    <tr>\n      <th>San Bartolomé de la Torre</th>\n      <td>277.0</td>\n      <td>9.0</td>\n      <td>28.0</td>\n      <td>3761.0</td>\n      <td>239.298059</td>\n      <td>744.482850</td>\n      <td>2.0</td>\n    </tr>\n    <tr>\n      <th>Lucena del Puerto</th>\n      <td>187.0</td>\n      <td>6.0</td>\n      <td>23.0</td>\n      <td>3261.0</td>\n      <td>183.992640</td>\n      <td>705.305121</td>\n      <td>2.0</td>\n    </tr>\n    <tr>\n      <th>Almonaster la Real</th>\n      <td>62.0</td>\n      <td>7.0</td>\n      <td>9.0</td>\n      <td>1788.0</td>\n      <td>391.498881</td>\n      <td>503.355705</td>\n      <td>5.0</td>\n    </tr>\n    <tr>\n      <th>Palos de la Frontera</th>\n      <td>556.0</td>\n      <td>30.0</td>\n      <td>57.0</td>\n      <td>11742.0</td>\n      <td>255.493102</td>\n      <td>485.436893</td>\n      <td>6.0</td>\n    </tr>\n    <tr>\n      <th>Moguer</th>\n      <td>1011.0</td>\n      <td>43.0</td>\n      <td>102.0</td>\n      <td>21867.0</td>\n      <td>196.643344</td>\n      <td>466.456304</td>\n      <td>11.0</td>\n    </tr>\n    <tr>\n      <th>Condado-Campiña</th>\n      <td>8330.0</td>\n      <td>317.0</td>\n      <td>671.0</td>\n      <td>156231.0</td>\n      <td>202.904673</td>\n      <td>429.492226</td>\n      <td>54.0</td>\n    </tr>\n    <tr>\n      <th>Bonares</th>\n      <td>225.0</td>\n      <td>6.0</td>\n      <td>25.0</td>\n      <td>6060.0</td>\n      <td>99.009901</td>\n      <td>412.541254</td>\n      <td>1.0</td>\n    </tr>\n    <tr>\n      <th>Campillo (El)</th>\n      <td>70.0</td>\n      <td>7.0</td>\n      <td>8.0</td>\n      <td>2024.0</td>\n      <td>345.849802</td>\n      <td>395.256917</td>\n      <td>0.0</td>\n    </tr>\n    <tr>\n      <th>Aracena</th>\n      <td>498.0</td>\n      <td>11.0</td>\n      <td>32.0</td>\n      <td>8255.0</td>\n      <td>133.252574</td>\n      <td>387.643852</td>\n      <td>4.0</td>\n    </tr>\n    <tr>\n      <th>Villarrasa</th>\n      <td>142.0</td>\n      <td>3.0</td>\n      <td>8.0</td>\n      <td>2211.0</td>\n      <td>135.685210</td>\n      <td>361.827227</td>\n      <td>1.0</td>\n    </tr>\n    <tr>\n      <th>Huelva</th>\n      <td>27327.0</td>\n      <td>637.0</td>\n      <td>1368.0</td>\n      <td>513170.0</td>\n      <td>124.130405</td>\n      <td>266.578327</td>\n      <td>120.0</td>\n    </tr>\n    <tr>\n      <th>San Juan del Puerto</th>\n      <td>411.0</td>\n      <td>5.0</td>\n      <td>25.0</td>\n      <td>9411.0</td>\n      <td>53.129317</td>\n      <td>265.646584</td>\n      <td>2.0</td>\n    </tr>\n    <tr>\n      <th>Alosno</th>\n      <td>161.0</td>\n      <td>1.0</td>\n      <td>10.0</td>\n      <td>3933.0</td>\n      <td>25.425884</td>\n      <td>254.258835</td>\n      <td>0.0</td>\n    </tr>\n    <tr>\n      <th>Niebla</th>\n      <td>187.0</td>\n      <td>4.0</td>\n      <td>10.0</td>\n      <td>4116.0</td>\n      <td>97.181730</td>\n      <td>242.954325</td>\n      <td>0.0</td>\n    </tr>\n    <tr>\n      <th>Almendro (El)</th>\n      <td>36.0</td>\n      <td>2.0</td>\n      <td>2.0</td>\n      <td>840.0</td>\n      <td>238.095238</td>\n      <td>238.095238</td>\n      <td>1.0</td>\n    </tr>\n    <tr>\n      <th>Beas</th>\n      <td>174.0</td>\n      <td>9.0</td>\n      <td>10.0</td>\n      <td>4341.0</td>\n      <td>207.325501</td>\n      <td>230.361668</td>\n      <td>3.0</td>\n    </tr>\n    <tr>\n      <th>Bollullos Par del Condado</th>\n      <td>732.0</td>\n      <td>22.0</td>\n      <td>32.0</td>\n      <td>14387.0</td>\n      <td>152.915827</td>\n      <td>222.423021</td>\n      <td>1.0</td>\n    </tr>\n    <tr>\n      <th>Huelva (capital)</th>\n      <td>7109.0</td>\n      <td>145.0</td>\n      <td>314.0</td>\n      <td>143837.0</td>\n      <td>100.808554</td>\n      <td>218.302662</td>\n      <td>35.0</td>\n    </tr>\n    <tr>\n      <th>Santa Ana la Real</th>\n      <td>6.0</td>\n      <td>1.0</td>\n      <td>1.0</td>\n      <td>475.0</td>\n      <td>210.526316</td>\n      <td>210.526316</td>\n      <td>0.0</td>\n    </tr>\n    <tr>\n      <th>Huelva-Costa</th>\n      <td>16146.0</td>\n      <td>265.0</td>\n      <td>582.0</td>\n      <td>289548.0</td>\n      <td>91.521958</td>\n      <td>201.002943</td>\n      <td>51.0</td>\n    </tr>\n    <tr>\n      <th>Granado (El)</th>\n      <td>37.0</td>\n      <td>1.0</td>\n      <td>1.0</td>\n      <td>532.0</td>\n      <td>187.969925</td>\n      <td>187.969925</td>\n      <td>NaN</td>\n    </tr>\n    <tr>\n      <th>Aljaraque</th>\n      <td>975.0</td>\n      <td>11.0</td>\n      <td>34.0</td>\n      <td>21474.0</td>\n      <td>51.224737</td>\n      <td>158.331005</td>\n      <td>2.0</td>\n    </tr>\n    <tr>\n      <th>Minas de Riotinto</th>\n      <td>106.0</td>\n      <td>6.0</td>\n      <td>6.0</td>\n      <td>3812.0</td>\n      <td>157.397692</td>\n      <td>157.397692</td>\n      <td>0.0</td>\n    </tr>\n    <tr>\n      <th>Valverde del Camino</th>\n      <td>452.0</td>\n      <td>9.0</td>\n      <td>20.0</td>\n      <td>12750.0</td>\n      <td>70.588235</td>\n      <td>156.862745</td>\n      <td>2.0</td>\n    </tr>\n    <tr>\n      <th>Trigueros</th>\n      <td>253.0</td>\n      <td>7.0</td>\n      <td>11.0</td>\n      <td>7862.0</td>\n      <td>89.035869</td>\n      <td>139.913508</td>\n      <td>0.0</td>\n    </tr>\n    <tr>\n      <th>Palma del Condado (La)</th>\n      <td>1014.0</td>\n      <td>6.0</td>\n      <td>15.0</td>\n      <td>10801.0</td>\n      <td>55.550412</td>\n      <td>138.876030</td>\n      <td>2.0</td>\n    </tr>\n    <tr>\n      <th>Sierra de Huelva-Andévalo Central</th>\n      <td>2436.0</td>\n      <td>47.0</td>\n      <td>91.0</td>\n      <td>67391.0</td>\n      <td>69.742250</td>\n      <td>135.032868</td>\n      <td>13.0</td>\n    </tr>\n    <tr>\n      <th>Aroche</th>\n      <td>87.0</td>\n      <td>2.0</td>\n      <td>4.0</td>\n      <td>3054.0</td>\n      <td>65.487885</td>\n      <td>130.975769</td>\n      <td>0.0</td>\n    </tr>\n    <tr>\n      <th>Lepe</th>\n      <td>2055.0</td>\n      <td>13.0</td>\n      <td>22.0</td>\n      <td>27880.0</td>\n      <td>46.628407</td>\n      <td>78.909613</td>\n      <td>1.0</td>\n    </tr>\n    <tr>\n      <th>Punta Umbría</th>\n      <td>685.0</td>\n      <td>5.0</td>\n      <td>12.0</td>\n      <td>15355.0</td>\n      <td>32.562683</td>\n      <td>78.150440</td>\n      <td>2.0</td>\n    </tr>\n    <tr>\n      <th>Higuera de la Sierra</th>\n      <td>32.0</td>\n      <td>1.0</td>\n      <td>1.0</td>\n      <td>1291.0</td>\n      <td>77.459334</td>\n      <td>77.459334</td>\n      <td>0.0</td>\n    </tr>\n    <tr>\n      <th>Galaroza</th>\n      <td>17.0</td>\n      <td>1.0</td>\n      <td>1.0</td>\n      <td>1382.0</td>\n      <td>72.358900</td>\n      <td>72.358900</td>\n      <td>NaN</td>\n    </tr>\n    <tr>\n      <th>Calañas</th>\n      <td>174.0</td>\n      <td>1.0</td>\n      <td>2.0</td>\n      <td>2768.0</td>\n      <td>36.127168</td>\n      <td>72.254335</td>\n      <td>0.0</td>\n    </tr>\n    <tr>\n      <th>Cumbres Mayores</th>\n      <td>26.0</td>\n      <td>1.0</td>\n      <td>1.0</td>\n      <td>1749.0</td>\n      <td>57.175529</td>\n      <td>57.175529</td>\n      <td>NaN</td>\n    </tr>\n    <tr>\n      <th>Gibraleón</th>\n      <td>559.0</td>\n      <td>3.0</td>\n      <td>7.0</td>\n      <td>12737.0</td>\n      <td>23.553427</td>\n      <td>54.957996</td>\n      <td>2.0</td>\n    </tr>\n    <tr>\n      <th>Escacena del Campo</th>\n      <td>143.0</td>\n      <td>1.0</td>\n      <td>1.0</td>\n      <td>2287.0</td>\n      <td>43.725404</td>\n      <td>43.725404</td>\n      <td>NaN</td>\n    </tr>\n    <tr>\n      <th>Ayamonte</th>\n      <td>1261.0</td>\n      <td>5.0</td>\n      <td>7.0</td>\n      <td>21104.0</td>\n      <td>23.692191</td>\n      <td>33.169067</td>\n      <td>0.0</td>\n    </tr>\n    <tr>\n      <th>Isla Cristina</th>\n      <td>2020.0</td>\n      <td>4.0</td>\n      <td>5.0</td>\n      <td>21393.0</td>\n      <td>18.697705</td>\n      <td>23.372131</td>\n      <td>2.0</td>\n    </tr>\n  </tbody>\n</table>\n</div>"
     },
     "metadata": {},
     "execution_count": 17
    }
   ],
   "source": [
    "tabla.sort_values('tasa14', ascending=False)"
   ]
  },
  {
   "cell_type": "code",
   "execution_count": 18,
   "metadata": {},
   "outputs": [
    {
     "output_type": "execute_result",
     "data": {
      "text/plain": [
       "Medida                             Confirmados PDIA  Confirmados PDIA 7 días  \\\n",
       "Lugar de residencia                                                            \n",
       "Alosno                                        161.0                      1.0   \n",
       "San Juan del Puerto                           411.0                      5.0   \n",
       "Bonares                                       225.0                      6.0   \n",
       "Lucena del Puerto                             187.0                      6.0   \n",
       "San Bartolomé de la Torre                     277.0                      9.0   \n",
       "Aljaraque                                     975.0                     11.0   \n",
       "Aracena                                       498.0                     11.0   \n",
       "Villarrasa                                    142.0                      3.0   \n",
       "Niebla                                        187.0                      4.0   \n",
       "Palma del Condado (La)                       1014.0                      6.0   \n",
       "Punta Umbría                                  685.0                      5.0   \n",
       "Moguer                                       1011.0                     43.0   \n",
       "Gibraleón                                     559.0                      3.0   \n",
       "Valverde del Camino                           452.0                      9.0   \n",
       "Huelva-Costa                                16146.0                    265.0   \n",
       "Rociana del Condado                           467.0                     36.0   \n",
       "Huelva (capital)                             7109.0                    145.0   \n",
       "Cartaya                                      1203.0                     78.0   \n",
       "Huelva                                      27327.0                    637.0   \n",
       "Condado-Campiña                              8330.0                    317.0   \n",
       "Aroche                                         87.0                      2.0   \n",
       "Calañas                                       174.0                      1.0   \n",
       "Sierra de Huelva-Andévalo Central            2436.0                     47.0   \n",
       "Palos de la Frontera                          556.0                     30.0   \n",
       "Almonte                                      1314.0                    127.0   \n",
       "Lepe                                         2055.0                     13.0   \n",
       "Trigueros                                     253.0                      7.0   \n",
       "Bollullos Par del Condado                     732.0                     22.0   \n",
       "Ayamonte                                     1261.0                      5.0   \n",
       "Almonaster la Real                             62.0                      7.0   \n",
       "Isla Cristina                                2020.0                      4.0   \n",
       "Campillo (El)                                  70.0                      7.0   \n",
       "Beas                                          174.0                      9.0   \n",
       "Granado (El)                                   37.0                      1.0   \n",
       "Galaroza                                       17.0                      1.0   \n",
       "Almendro (El)                                  36.0                      2.0   \n",
       "Santa Ana la Real                               6.0                      1.0   \n",
       "Escacena del Campo                            143.0                      1.0   \n",
       "Cumbres Mayores                                26.0                      1.0   \n",
       "Minas de Riotinto                             106.0                      6.0   \n",
       "Higuera de la Sierra                           32.0                      1.0   \n",
       "\n",
       "Medida                             Confirmados PDIA 14 días  Población  \\\n",
       "Lugar de residencia                                                      \n",
       "Alosno                                                 10.0     3933.0   \n",
       "San Juan del Puerto                                    25.0     9411.0   \n",
       "Bonares                                                25.0     6060.0   \n",
       "Lucena del Puerto                                      23.0     3261.0   \n",
       "San Bartolomé de la Torre                              28.0     3761.0   \n",
       "Aljaraque                                              34.0    21474.0   \n",
       "Aracena                                                32.0     8255.0   \n",
       "Villarrasa                                              8.0     2211.0   \n",
       "Niebla                                                 10.0     4116.0   \n",
       "Palma del Condado (La)                                 15.0    10801.0   \n",
       "Punta Umbría                                           12.0    15355.0   \n",
       "Moguer                                                102.0    21867.0   \n",
       "Gibraleón                                               7.0    12737.0   \n",
       "Valverde del Camino                                    20.0    12750.0   \n",
       "Huelva-Costa                                          582.0   289548.0   \n",
       "Rociana del Condado                                    79.0     7939.0   \n",
       "Huelva (capital)                                      314.0   143837.0   \n",
       "Cartaya                                               168.0    20083.0   \n",
       "Huelva                                               1368.0   513170.0   \n",
       "Condado-Campiña                                       671.0   156231.0   \n",
       "Aroche                                                  4.0     3054.0   \n",
       "Calañas                                                 2.0     2768.0   \n",
       "Sierra de Huelva-Andévalo Central                      91.0    67391.0   \n",
       "Palos de la Frontera                                   57.0    11742.0   \n",
       "Almonte                                               232.0    24507.0   \n",
       "Lepe                                                   22.0    27880.0   \n",
       "Trigueros                                              11.0     7862.0   \n",
       "Bollullos Par del Condado                              32.0    14387.0   \n",
       "Ayamonte                                                7.0    21104.0   \n",
       "Almonaster la Real                                      9.0     1788.0   \n",
       "Isla Cristina                                           5.0    21393.0   \n",
       "Campillo (El)                                           8.0     2024.0   \n",
       "Beas                                                   10.0     4341.0   \n",
       "Granado (El)                                            1.0      532.0   \n",
       "Galaroza                                                1.0     1382.0   \n",
       "Almendro (El)                                           2.0      840.0   \n",
       "Santa Ana la Real                                       1.0      475.0   \n",
       "Escacena del Campo                                      1.0     2287.0   \n",
       "Cumbres Mayores                                         1.0     1749.0   \n",
       "Minas de Riotinto                                       6.0     3812.0   \n",
       "Higuera de la Sierra                                    1.0     1291.0   \n",
       "\n",
       "Medida                                  tasa7      tasa14  Diferencia PDIA  \\\n",
       "Lugar de residencia                                                          \n",
       "Alosno                              25.425884  254.258835              0.0   \n",
       "San Juan del Puerto                 53.129317  265.646584              2.0   \n",
       "Bonares                             99.009901  412.541254              1.0   \n",
       "Lucena del Puerto                  183.992640  705.305121              2.0   \n",
       "San Bartolomé de la Torre          239.298059  744.482850              2.0   \n",
       "Aljaraque                           51.224737  158.331005              2.0   \n",
       "Aracena                            133.252574  387.643852              4.0   \n",
       "Villarrasa                         135.685210  361.827227              1.0   \n",
       "Niebla                              97.181730  242.954325              0.0   \n",
       "Palma del Condado (La)              55.550412  138.876030              2.0   \n",
       "Punta Umbría                        32.562683   78.150440              2.0   \n",
       "Moguer                             196.643344  466.456304             11.0   \n",
       "Gibraleón                           23.553427   54.957996              2.0   \n",
       "Valverde del Camino                 70.588235  156.862745              2.0   \n",
       "Huelva-Costa                        91.521958  201.002943             51.0   \n",
       "Rociana del Condado                453.457614  995.087543             10.0   \n",
       "Huelva (capital)                   100.808554  218.302662             35.0   \n",
       "Cartaya                            388.388189  836.528407              7.0   \n",
       "Huelva                             124.130405  266.578327            120.0   \n",
       "Condado-Campiña                    202.904673  429.492226             54.0   \n",
       "Aroche                              65.487885  130.975769              0.0   \n",
       "Calañas                             36.127168   72.254335              0.0   \n",
       "Sierra de Huelva-Andévalo Central   69.742250  135.032868             13.0   \n",
       "Palos de la Frontera               255.493102  485.436893              6.0   \n",
       "Almonte                            518.219284  946.668299             10.0   \n",
       "Lepe                                46.628407   78.909613              1.0   \n",
       "Trigueros                           89.035869  139.913508              0.0   \n",
       "Bollullos Par del Condado          152.915827  222.423021              1.0   \n",
       "Ayamonte                            23.692191   33.169067              0.0   \n",
       "Almonaster la Real                 391.498881  503.355705              5.0   \n",
       "Isla Cristina                       18.697705   23.372131              2.0   \n",
       "Campillo (El)                      345.849802  395.256917              0.0   \n",
       "Beas                               207.325501  230.361668              3.0   \n",
       "Granado (El)                       187.969925  187.969925              0.0   \n",
       "Galaroza                            72.358900   72.358900              0.0   \n",
       "Almendro (El)                      238.095238  238.095238              1.0   \n",
       "Santa Ana la Real                  210.526316  210.526316              0.0   \n",
       "Escacena del Campo                  43.725404   43.725404              0.0   \n",
       "Cumbres Mayores                     57.175529   57.175529              0.0   \n",
       "Minas de Riotinto                  157.397692  157.397692              0.0   \n",
       "Higuera de la Sierra                77.459334   77.459334              0.0   \n",
       "\n",
       "Medida                                 7/14  \n",
       "Lugar de residencia                          \n",
       "Alosno                             0.100000  \n",
       "San Juan del Puerto                0.200000  \n",
       "Bonares                            0.240000  \n",
       "Lucena del Puerto                  0.260870  \n",
       "San Bartolomé de la Torre          0.321429  \n",
       "Aljaraque                          0.323529  \n",
       "Aracena                            0.343750  \n",
       "Villarrasa                         0.375000  \n",
       "Niebla                             0.400000  \n",
       "Palma del Condado (La)             0.400000  \n",
       "Punta Umbría                       0.416667  \n",
       "Moguer                             0.421569  \n",
       "Gibraleón                          0.428571  \n",
       "Valverde del Camino                0.450000  \n",
       "Huelva-Costa                       0.455326  \n",
       "Rociana del Condado                0.455696  \n",
       "Huelva (capital)                   0.461783  \n",
       "Cartaya                            0.464286  \n",
       "Huelva                             0.465643  \n",
       "Condado-Campiña                    0.472429  \n",
       "Aroche                             0.500000  \n",
       "Calañas                            0.500000  \n",
       "Sierra de Huelva-Andévalo Central  0.516484  \n",
       "Palos de la Frontera               0.526316  \n",
       "Almonte                            0.547414  \n",
       "Lepe                               0.590909  \n",
       "Trigueros                          0.636364  \n",
       "Bollullos Par del Condado          0.687500  \n",
       "Ayamonte                           0.714286  \n",
       "Almonaster la Real                 0.777778  \n",
       "Isla Cristina                      0.800000  \n",
       "Campillo (El)                      0.875000  \n",
       "Beas                               0.900000  \n",
       "Granado (El)                       1.000000  \n",
       "Galaroza                           1.000000  \n",
       "Almendro (El)                      1.000000  \n",
       "Santa Ana la Real                  1.000000  \n",
       "Escacena del Campo                 1.000000  \n",
       "Cumbres Mayores                    1.000000  \n",
       "Minas de Riotinto                  1.000000  \n",
       "Higuera de la Sierra               1.000000  "
      ],
      "text/html": "<div>\n<style scoped>\n    .dataframe tbody tr th:only-of-type {\n        vertical-align: middle;\n    }\n\n    .dataframe tbody tr th {\n        vertical-align: top;\n    }\n\n    .dataframe thead th {\n        text-align: right;\n    }\n</style>\n<table border=\"1\" class=\"dataframe\">\n  <thead>\n    <tr style=\"text-align: right;\">\n      <th>Medida</th>\n      <th>Confirmados PDIA</th>\n      <th>Confirmados PDIA 7 días</th>\n      <th>Confirmados PDIA 14 días</th>\n      <th>Población</th>\n      <th>tasa7</th>\n      <th>tasa14</th>\n      <th>Diferencia PDIA</th>\n      <th>7/14</th>\n    </tr>\n    <tr>\n      <th>Lugar de residencia</th>\n      <th></th>\n      <th></th>\n      <th></th>\n      <th></th>\n      <th></th>\n      <th></th>\n      <th></th>\n      <th></th>\n    </tr>\n  </thead>\n  <tbody>\n    <tr>\n      <th>Alosno</th>\n      <td>161.0</td>\n      <td>1.0</td>\n      <td>10.0</td>\n      <td>3933.0</td>\n      <td>25.425884</td>\n      <td>254.258835</td>\n      <td>0.0</td>\n      <td>0.100000</td>\n    </tr>\n    <tr>\n      <th>San Juan del Puerto</th>\n      <td>411.0</td>\n      <td>5.0</td>\n      <td>25.0</td>\n      <td>9411.0</td>\n      <td>53.129317</td>\n      <td>265.646584</td>\n      <td>2.0</td>\n      <td>0.200000</td>\n    </tr>\n    <tr>\n      <th>Bonares</th>\n      <td>225.0</td>\n      <td>6.0</td>\n      <td>25.0</td>\n      <td>6060.0</td>\n      <td>99.009901</td>\n      <td>412.541254</td>\n      <td>1.0</td>\n      <td>0.240000</td>\n    </tr>\n    <tr>\n      <th>Lucena del Puerto</th>\n      <td>187.0</td>\n      <td>6.0</td>\n      <td>23.0</td>\n      <td>3261.0</td>\n      <td>183.992640</td>\n      <td>705.305121</td>\n      <td>2.0</td>\n      <td>0.260870</td>\n    </tr>\n    <tr>\n      <th>San Bartolomé de la Torre</th>\n      <td>277.0</td>\n      <td>9.0</td>\n      <td>28.0</td>\n      <td>3761.0</td>\n      <td>239.298059</td>\n      <td>744.482850</td>\n      <td>2.0</td>\n      <td>0.321429</td>\n    </tr>\n    <tr>\n      <th>Aljaraque</th>\n      <td>975.0</td>\n      <td>11.0</td>\n      <td>34.0</td>\n      <td>21474.0</td>\n      <td>51.224737</td>\n      <td>158.331005</td>\n      <td>2.0</td>\n      <td>0.323529</td>\n    </tr>\n    <tr>\n      <th>Aracena</th>\n      <td>498.0</td>\n      <td>11.0</td>\n      <td>32.0</td>\n      <td>8255.0</td>\n      <td>133.252574</td>\n      <td>387.643852</td>\n      <td>4.0</td>\n      <td>0.343750</td>\n    </tr>\n    <tr>\n      <th>Villarrasa</th>\n      <td>142.0</td>\n      <td>3.0</td>\n      <td>8.0</td>\n      <td>2211.0</td>\n      <td>135.685210</td>\n      <td>361.827227</td>\n      <td>1.0</td>\n      <td>0.375000</td>\n    </tr>\n    <tr>\n      <th>Niebla</th>\n      <td>187.0</td>\n      <td>4.0</td>\n      <td>10.0</td>\n      <td>4116.0</td>\n      <td>97.181730</td>\n      <td>242.954325</td>\n      <td>0.0</td>\n      <td>0.400000</td>\n    </tr>\n    <tr>\n      <th>Palma del Condado (La)</th>\n      <td>1014.0</td>\n      <td>6.0</td>\n      <td>15.0</td>\n      <td>10801.0</td>\n      <td>55.550412</td>\n      <td>138.876030</td>\n      <td>2.0</td>\n      <td>0.400000</td>\n    </tr>\n    <tr>\n      <th>Punta Umbría</th>\n      <td>685.0</td>\n      <td>5.0</td>\n      <td>12.0</td>\n      <td>15355.0</td>\n      <td>32.562683</td>\n      <td>78.150440</td>\n      <td>2.0</td>\n      <td>0.416667</td>\n    </tr>\n    <tr>\n      <th>Moguer</th>\n      <td>1011.0</td>\n      <td>43.0</td>\n      <td>102.0</td>\n      <td>21867.0</td>\n      <td>196.643344</td>\n      <td>466.456304</td>\n      <td>11.0</td>\n      <td>0.421569</td>\n    </tr>\n    <tr>\n      <th>Gibraleón</th>\n      <td>559.0</td>\n      <td>3.0</td>\n      <td>7.0</td>\n      <td>12737.0</td>\n      <td>23.553427</td>\n      <td>54.957996</td>\n      <td>2.0</td>\n      <td>0.428571</td>\n    </tr>\n    <tr>\n      <th>Valverde del Camino</th>\n      <td>452.0</td>\n      <td>9.0</td>\n      <td>20.0</td>\n      <td>12750.0</td>\n      <td>70.588235</td>\n      <td>156.862745</td>\n      <td>2.0</td>\n      <td>0.450000</td>\n    </tr>\n    <tr>\n      <th>Huelva-Costa</th>\n      <td>16146.0</td>\n      <td>265.0</td>\n      <td>582.0</td>\n      <td>289548.0</td>\n      <td>91.521958</td>\n      <td>201.002943</td>\n      <td>51.0</td>\n      <td>0.455326</td>\n    </tr>\n    <tr>\n      <th>Rociana del Condado</th>\n      <td>467.0</td>\n      <td>36.0</td>\n      <td>79.0</td>\n      <td>7939.0</td>\n      <td>453.457614</td>\n      <td>995.087543</td>\n      <td>10.0</td>\n      <td>0.455696</td>\n    </tr>\n    <tr>\n      <th>Huelva (capital)</th>\n      <td>7109.0</td>\n      <td>145.0</td>\n      <td>314.0</td>\n      <td>143837.0</td>\n      <td>100.808554</td>\n      <td>218.302662</td>\n      <td>35.0</td>\n      <td>0.461783</td>\n    </tr>\n    <tr>\n      <th>Cartaya</th>\n      <td>1203.0</td>\n      <td>78.0</td>\n      <td>168.0</td>\n      <td>20083.0</td>\n      <td>388.388189</td>\n      <td>836.528407</td>\n      <td>7.0</td>\n      <td>0.464286</td>\n    </tr>\n    <tr>\n      <th>Huelva</th>\n      <td>27327.0</td>\n      <td>637.0</td>\n      <td>1368.0</td>\n      <td>513170.0</td>\n      <td>124.130405</td>\n      <td>266.578327</td>\n      <td>120.0</td>\n      <td>0.465643</td>\n    </tr>\n    <tr>\n      <th>Condado-Campiña</th>\n      <td>8330.0</td>\n      <td>317.0</td>\n      <td>671.0</td>\n      <td>156231.0</td>\n      <td>202.904673</td>\n      <td>429.492226</td>\n      <td>54.0</td>\n      <td>0.472429</td>\n    </tr>\n    <tr>\n      <th>Aroche</th>\n      <td>87.0</td>\n      <td>2.0</td>\n      <td>4.0</td>\n      <td>3054.0</td>\n      <td>65.487885</td>\n      <td>130.975769</td>\n      <td>0.0</td>\n      <td>0.500000</td>\n    </tr>\n    <tr>\n      <th>Calañas</th>\n      <td>174.0</td>\n      <td>1.0</td>\n      <td>2.0</td>\n      <td>2768.0</td>\n      <td>36.127168</td>\n      <td>72.254335</td>\n      <td>0.0</td>\n      <td>0.500000</td>\n    </tr>\n    <tr>\n      <th>Sierra de Huelva-Andévalo Central</th>\n      <td>2436.0</td>\n      <td>47.0</td>\n      <td>91.0</td>\n      <td>67391.0</td>\n      <td>69.742250</td>\n      <td>135.032868</td>\n      <td>13.0</td>\n      <td>0.516484</td>\n    </tr>\n    <tr>\n      <th>Palos de la Frontera</th>\n      <td>556.0</td>\n      <td>30.0</td>\n      <td>57.0</td>\n      <td>11742.0</td>\n      <td>255.493102</td>\n      <td>485.436893</td>\n      <td>6.0</td>\n      <td>0.526316</td>\n    </tr>\n    <tr>\n      <th>Almonte</th>\n      <td>1314.0</td>\n      <td>127.0</td>\n      <td>232.0</td>\n      <td>24507.0</td>\n      <td>518.219284</td>\n      <td>946.668299</td>\n      <td>10.0</td>\n      <td>0.547414</td>\n    </tr>\n    <tr>\n      <th>Lepe</th>\n      <td>2055.0</td>\n      <td>13.0</td>\n      <td>22.0</td>\n      <td>27880.0</td>\n      <td>46.628407</td>\n      <td>78.909613</td>\n      <td>1.0</td>\n      <td>0.590909</td>\n    </tr>\n    <tr>\n      <th>Trigueros</th>\n      <td>253.0</td>\n      <td>7.0</td>\n      <td>11.0</td>\n      <td>7862.0</td>\n      <td>89.035869</td>\n      <td>139.913508</td>\n      <td>0.0</td>\n      <td>0.636364</td>\n    </tr>\n    <tr>\n      <th>Bollullos Par del Condado</th>\n      <td>732.0</td>\n      <td>22.0</td>\n      <td>32.0</td>\n      <td>14387.0</td>\n      <td>152.915827</td>\n      <td>222.423021</td>\n      <td>1.0</td>\n      <td>0.687500</td>\n    </tr>\n    <tr>\n      <th>Ayamonte</th>\n      <td>1261.0</td>\n      <td>5.0</td>\n      <td>7.0</td>\n      <td>21104.0</td>\n      <td>23.692191</td>\n      <td>33.169067</td>\n      <td>0.0</td>\n      <td>0.714286</td>\n    </tr>\n    <tr>\n      <th>Almonaster la Real</th>\n      <td>62.0</td>\n      <td>7.0</td>\n      <td>9.0</td>\n      <td>1788.0</td>\n      <td>391.498881</td>\n      <td>503.355705</td>\n      <td>5.0</td>\n      <td>0.777778</td>\n    </tr>\n    <tr>\n      <th>Isla Cristina</th>\n      <td>2020.0</td>\n      <td>4.0</td>\n      <td>5.0</td>\n      <td>21393.0</td>\n      <td>18.697705</td>\n      <td>23.372131</td>\n      <td>2.0</td>\n      <td>0.800000</td>\n    </tr>\n    <tr>\n      <th>Campillo (El)</th>\n      <td>70.0</td>\n      <td>7.0</td>\n      <td>8.0</td>\n      <td>2024.0</td>\n      <td>345.849802</td>\n      <td>395.256917</td>\n      <td>0.0</td>\n      <td>0.875000</td>\n    </tr>\n    <tr>\n      <th>Beas</th>\n      <td>174.0</td>\n      <td>9.0</td>\n      <td>10.0</td>\n      <td>4341.0</td>\n      <td>207.325501</td>\n      <td>230.361668</td>\n      <td>3.0</td>\n      <td>0.900000</td>\n    </tr>\n    <tr>\n      <th>Granado (El)</th>\n      <td>37.0</td>\n      <td>1.0</td>\n      <td>1.0</td>\n      <td>532.0</td>\n      <td>187.969925</td>\n      <td>187.969925</td>\n      <td>0.0</td>\n      <td>1.000000</td>\n    </tr>\n    <tr>\n      <th>Galaroza</th>\n      <td>17.0</td>\n      <td>1.0</td>\n      <td>1.0</td>\n      <td>1382.0</td>\n      <td>72.358900</td>\n      <td>72.358900</td>\n      <td>0.0</td>\n      <td>1.000000</td>\n    </tr>\n    <tr>\n      <th>Almendro (El)</th>\n      <td>36.0</td>\n      <td>2.0</td>\n      <td>2.0</td>\n      <td>840.0</td>\n      <td>238.095238</td>\n      <td>238.095238</td>\n      <td>1.0</td>\n      <td>1.000000</td>\n    </tr>\n    <tr>\n      <th>Santa Ana la Real</th>\n      <td>6.0</td>\n      <td>1.0</td>\n      <td>1.0</td>\n      <td>475.0</td>\n      <td>210.526316</td>\n      <td>210.526316</td>\n      <td>0.0</td>\n      <td>1.000000</td>\n    </tr>\n    <tr>\n      <th>Escacena del Campo</th>\n      <td>143.0</td>\n      <td>1.0</td>\n      <td>1.0</td>\n      <td>2287.0</td>\n      <td>43.725404</td>\n      <td>43.725404</td>\n      <td>0.0</td>\n      <td>1.000000</td>\n    </tr>\n    <tr>\n      <th>Cumbres Mayores</th>\n      <td>26.0</td>\n      <td>1.0</td>\n      <td>1.0</td>\n      <td>1749.0</td>\n      <td>57.175529</td>\n      <td>57.175529</td>\n      <td>0.0</td>\n      <td>1.000000</td>\n    </tr>\n    <tr>\n      <th>Minas de Riotinto</th>\n      <td>106.0</td>\n      <td>6.0</td>\n      <td>6.0</td>\n      <td>3812.0</td>\n      <td>157.397692</td>\n      <td>157.397692</td>\n      <td>0.0</td>\n      <td>1.000000</td>\n    </tr>\n    <tr>\n      <th>Higuera de la Sierra</th>\n      <td>32.0</td>\n      <td>1.0</td>\n      <td>1.0</td>\n      <td>1291.0</td>\n      <td>77.459334</td>\n      <td>77.459334</td>\n      <td>0.0</td>\n      <td>1.000000</td>\n    </tr>\n  </tbody>\n</table>\n</div>"
     },
     "metadata": {},
     "execution_count": 18
    }
   ],
   "source": [
    "# Peso de la tasa de la última semana en relación con la tasa a 14 días \n",
    "# Mejor cuanto menor. Valor 1 significa que no había casos antes de 7 días.\n",
    "tabla['7/14'] = tabla['tasa7'] / tabla['tasa14']\n",
    "tabla.fillna(0).sort_values('7/14', ascending=True)"
   ]
  },
  {
   "cell_type": "code",
   "execution_count": null,
   "metadata": {},
   "outputs": [],
   "source": []
  }
 ]
}