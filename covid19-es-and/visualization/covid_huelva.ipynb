{
 "metadata": {
  "language_info": {
   "codemirror_mode": {
    "name": "ipython",
    "version": 3
   },
   "file_extension": ".py",
   "mimetype": "text/x-python",
   "name": "python",
   "nbconvert_exporter": "python",
   "pygments_lexer": "ipython3",
   "version": "3.8.6-final"
  },
  "orig_nbformat": 2,
  "kernelspec": {
   "name": "python38564bit75945252d6ba481bad4868286020c89e",
   "display_name": "Python 3.8.5 64-bit",
   "language": "python"
  }
 },
 "nbformat": 4,
 "nbformat_minor": 2,
 "cells": [
  {
   "cell_type": "code",
   "execution_count": 1,
   "metadata": {},
   "outputs": [],
   "source": [
    "import pandas as pd\n",
    "pd.set_option('display.max_rows', None) # Print all rows"
   ]
  },
  {
   "cell_type": "code",
   "execution_count": 2,
   "metadata": {},
   "outputs": [],
   "source": [
    "# FIX SSL: CERTIFICATE_VERIFY_FAILED with Python3\n",
    "# https://stackoverflow.com/a/49174340\n",
    "import ssl\n",
    "\n",
    "ssl._create_default_https_context = ssl._create_unverified_context"
   ]
  },
  {
   "cell_type": "code",
   "execution_count": 3,
   "metadata": {},
   "outputs": [],
   "source": [
    "url = 'https://www.juntadeandalucia.es/institutodeestadisticaycartografia/badea/stpivot/stpivot/Print?cube=013d884c-cfc5-4c21-9e78-e26225682afd&type=3&foto=si&ejecutaDesde=&codConsulta=38668&consTipoVisua=JP'\n",
    "fields = ['Lugar de residencia', 'Medida', 'Valor']\n",
    "df = pd.read_csv(url, delimiter=';', usecols=fields, decimal=',')"
   ]
  },
  {
   "cell_type": "code",
   "execution_count": 4,
   "metadata": {},
   "outputs": [
    {
     "output_type": "execute_result",
     "data": {
      "text/plain": [
       "  Lugar de residencia                    Medida              Valor\n",
       "0              Huelva                 Población             513170\n",
       "1              Huelva          Confirmados PDIA              24771\n",
       "2              Huelva  Confirmados PDIA 14 días                276\n",
       "3              Huelva         Tasa PDIA 14 días  53,78334664925853\n",
       "4              Huelva   Confirmados PDIA 7 días                134\n",
       "5              Huelva        Total Confirmados               24980\n",
       "6              Huelva                   Curados              17656\n",
       "7              Huelva                Fallecidos                334"
      ],
      "text/html": "<div>\n<style scoped>\n    .dataframe tbody tr th:only-of-type {\n        vertical-align: middle;\n    }\n\n    .dataframe tbody tr th {\n        vertical-align: top;\n    }\n\n    .dataframe thead th {\n        text-align: right;\n    }\n</style>\n<table border=\"1\" class=\"dataframe\">\n  <thead>\n    <tr style=\"text-align: right;\">\n      <th></th>\n      <th>Lugar de residencia</th>\n      <th>Medida</th>\n      <th>Valor</th>\n    </tr>\n  </thead>\n  <tbody>\n    <tr>\n      <th>0</th>\n      <td>Huelva</td>\n      <td>Población</td>\n      <td>513170</td>\n    </tr>\n    <tr>\n      <th>1</th>\n      <td>Huelva</td>\n      <td>Confirmados PDIA</td>\n      <td>24771</td>\n    </tr>\n    <tr>\n      <th>2</th>\n      <td>Huelva</td>\n      <td>Confirmados PDIA 14 días</td>\n      <td>276</td>\n    </tr>\n    <tr>\n      <th>3</th>\n      <td>Huelva</td>\n      <td>Tasa PDIA 14 días</td>\n      <td>53,78334664925853</td>\n    </tr>\n    <tr>\n      <th>4</th>\n      <td>Huelva</td>\n      <td>Confirmados PDIA 7 días</td>\n      <td>134</td>\n    </tr>\n    <tr>\n      <th>5</th>\n      <td>Huelva</td>\n      <td>Total Confirmados</td>\n      <td>24980</td>\n    </tr>\n    <tr>\n      <th>6</th>\n      <td>Huelva</td>\n      <td>Curados</td>\n      <td>17656</td>\n    </tr>\n    <tr>\n      <th>7</th>\n      <td>Huelva</td>\n      <td>Fallecidos</td>\n      <td>334</td>\n    </tr>\n  </tbody>\n</table>\n</div>"
     },
     "metadata": {},
     "execution_count": 4
    }
   ],
   "source": [
    "df[df['Lugar de residencia'] == 'Huelva']"
   ]
  },
  {
   "cell_type": "code",
   "execution_count": 5,
   "metadata": {},
   "outputs": [],
   "source": [
    "df['Valor'] = pd.to_numeric(df['Valor'],errors='coerce')"
   ]
  },
  {
   "cell_type": "code",
   "execution_count": 6,
   "metadata": {},
   "outputs": [],
   "source": [
    "dfAnterior = pd.read_csv('covid_huelva.csv', index_col='Lugar de residencia')"
   ]
  },
  {
   "cell_type": "code",
   "execution_count": 7,
   "metadata": {
    "tags": []
   },
   "outputs": [
    {
     "output_type": "stream",
     "name": "stdout",
     "text": [
      "Confirmados PCR en la provincia de Huelva:  24771.0\n",
      "<ipython-input-7-31b732756b19>:2: UserWarning: Boolean Series key will be reindexed to match DataFrame index.\n",
      "  p = df[df['Lugar de residencia'] == 'Huelva'][df['Medida'] == 'Confirmados PDIA']['Valor'].values[0]\n"
     ]
    }
   ],
   "source": [
    "# Confirmados PCR provincia Huelva\n",
    "p = df[df['Lugar de residencia'] == 'Huelva'][df['Medida'] == 'Confirmados PDIA']['Valor'].values[0]\n",
    "print('Confirmados PCR en la provincia de Huelva: ', p)"
   ]
  },
  {
   "cell_type": "code",
   "execution_count": 8,
   "metadata": {
    "tags": []
   },
   "outputs": [
    {
     "output_type": "stream",
     "name": "stdout",
     "text": [
      "Confirmados PCR en Huelva capital:  6586.0\n",
      "<ipython-input-8-e81bfb40e710>:2: UserWarning: Boolean Series key will be reindexed to match DataFrame index.\n",
      "  c = df[df['Lugar de residencia'] == 'Huelva (capital)'][df['Medida'] == 'Confirmados PDIA']['Valor'].values[0]\n"
     ]
    }
   ],
   "source": [
    "# Confirmados PCR Huelva capitalpd\n",
    "c = df[df['Lugar de residencia'] == 'Huelva (capital)'][df['Medida'] == 'Confirmados PDIA']['Valor'].values[0]\n",
    "print('Confirmados PCR en Huelva capital: ', c)"
   ]
  },
  {
   "cell_type": "code",
   "execution_count": 9,
   "metadata": {
    "tags": []
   },
   "outputs": [
    {
     "output_type": "stream",
     "name": "stderr",
     "text": [
      "<ipython-input-9-f09dd2050cc1>:1: UserWarning: Boolean Series key will be reindexed to match DataFrame index.\n  c7 = df[df['Lugar de residencia'] == 'Huelva (capital)'][df['Medida'] == 'Confirmados PDIA 7 días']['Valor'].values[0]\n<ipython-input-9-f09dd2050cc1>:2: UserWarning: Boolean Series key will be reindexed to match DataFrame index.\n  c14 = df[df['Lugar de residencia'] == 'Huelva (capital)'][df['Medida'] == 'Confirmados PDIA 14 días']['Valor'].values[0]\n<ipython-input-9-f09dd2050cc1>:3: UserWarning: Boolean Series key will be reindexed to match DataFrame index.\n  p = df[df['Lugar de residencia'] == 'Huelva (capital)'][df['Medida'] == 'Población']['Valor'].values[0]\n"
     ]
    }
   ],
   "source": [
    "c7 = df[df['Lugar de residencia'] == 'Huelva (capital)'][df['Medida'] == 'Confirmados PDIA 7 días']['Valor'].values[0]\n",
    "c14 = df[df['Lugar de residencia'] == 'Huelva (capital)'][df['Medida'] == 'Confirmados PDIA 14 días']['Valor'].values[0]\n",
    "p = df[df['Lugar de residencia'] == 'Huelva (capital)'][df['Medida'] == 'Población']['Valor'].values[0]"
   ]
  },
  {
   "cell_type": "code",
   "execution_count": 10,
   "metadata": {
    "tags": []
   },
   "outputs": [
    {
     "output_type": "stream",
     "name": "stdout",
     "text": [
      "Huelva (capital)\n\nUn positivo PCR cada 6849 personas en los últimos 7 días \n\nUn positivo PCR cada 2714 personas en los últimos 14 días\n"
     ]
    }
   ],
   "source": [
    "print('Huelva (capital)\\n')\n",
    "#print('Confirmados PCR 7 días x 1,000 habitantes: ', f\"{c7/(p/1000):.5f}\")\n",
    "print('Un positivo PCR cada', f\"{p/c7:.0f}\", 'personas en los últimos 7 días', '\\n')\n",
    "#print('Confirmados PCR 14 días x 1,000 habitantes: ', f\"{c14/(p/1000):.5f}\")\n",
    "print('Un positivo PCR cada', f\"{p/c14:.0f}\", 'personas en los últimos 14 días')"
   ]
  },
  {
   "cell_type": "code",
   "execution_count": 11,
   "metadata": {},
   "outputs": [],
   "source": [
    "filtro = ((df['Medida'] == 'Confirmados PDIA')| (df['Medida'] == 'Confirmados PDIA 7 días') | (df['Medida'] == 'Población' ) | (df['Medida'] == 'Confirmados PDIA 14 días')) & (df['Valor'] > 0)\n",
    "tabla = pd.pivot_table(df.loc[filtro], values='Valor', index='Lugar de residencia', columns='Medida').dropna()"
   ]
  },
  {
   "cell_type": "code",
   "execution_count": 12,
   "metadata": {},
   "outputs": [],
   "source": [
    "# Reorder columns\n",
    "tabla = tabla[['Confirmados PDIA', 'Confirmados PDIA 7 días', 'Confirmados PDIA 14 días', 'Población']]"
   ]
  },
  {
   "cell_type": "code",
   "execution_count": 13,
   "metadata": {},
   "outputs": [],
   "source": [
    "tabla['tasa7'] = tabla['Confirmados PDIA 7 días']/tabla['Población']*100000\n",
    "tabla['tasa14'] = tabla['Confirmados PDIA 14 días']/tabla['Población']*100000"
   ]
  },
  {
   "cell_type": "code",
   "execution_count": 14,
   "metadata": {},
   "outputs": [],
   "source": [
    "tabla['Diferencia PDIA'] = tabla['Confirmados PDIA'] - dfAnterior['Confirmados PDIA']"
   ]
  },
  {
   "cell_type": "code",
   "execution_count": 15,
   "metadata": {},
   "outputs": [
    {
     "output_type": "execute_result",
     "data": {
      "text/plain": [
       "Medida                     Confirmados PDIA  Confirmados PDIA 7 días  \\\n",
       "Lugar de residencia                                                    \n",
       "Huelva                              24771.0                    134.0   \n",
       "Huelva-Costa                        15108.0                     80.0   \n",
       "Condado-Campiña                      6952.0                     53.0   \n",
       "Huelva (capital)                     6586.0                     21.0   \n",
       "Isla Cristina                        1989.0                     11.0   \n",
       "Lepe                                 1999.0                      6.0   \n",
       "Puebla de Guzmán                      102.0                      9.0   \n",
       "San Bartolomé de la Torre             203.0                      8.0   \n",
       "Almonte                               878.0                     10.0   \n",
       "Bollullos Par del Condado             620.0                      6.0   \n",
       "Lucena del Puerto                     160.0                      3.0   \n",
       "Moguer                                835.0                      6.0   \n",
       "Palma del Condado (La)                981.0                      3.0   \n",
       "Ayamonte                             1219.0                     21.0   \n",
       "Rociana del Condado                   313.0                      3.0   \n",
       "San Silvestre de Guzmán                13.0                      2.0   \n",
       "Villalba del Alcor                    447.0                      2.0   \n",
       "Escacena del Campo                    140.0                      1.0   \n",
       "Villablanca                           177.0                      1.0   \n",
       "\n",
       "Medida                     Confirmados PDIA 14 días  Población       tasa7  \\\n",
       "Lugar de residencia                                                          \n",
       "Huelva                                        276.0   513170.0   26.112205   \n",
       "Huelva-Costa                                  166.0   289548.0   27.629270   \n",
       "Condado-Campiña                               107.0   156231.0   33.924125   \n",
       "Huelva (capital)                               53.0   143837.0   14.599860   \n",
       "Isla Cristina                                  14.0    21393.0   51.418688   \n",
       "Lepe                                           13.0    27880.0   21.520803   \n",
       "Puebla de Guzmán                               20.0     3092.0  291.073739   \n",
       "San Bartolomé de la Torre                      11.0     3761.0  212.709386   \n",
       "Almonte                                        28.0    24507.0   40.804668   \n",
       "Bollullos Par del Condado                      10.0    14387.0   41.704316   \n",
       "Lucena del Puerto                              13.0     3261.0   91.996320   \n",
       "Moguer                                         15.0    21867.0   27.438606   \n",
       "Palma del Condado (La)                         10.0    10801.0   27.775206   \n",
       "Ayamonte                                       32.0    21104.0   99.507202   \n",
       "Rociana del Condado                             4.0     7939.0   37.788135   \n",
       "San Silvestre de Guzmán                         2.0      614.0  325.732899   \n",
       "Villalba del Alcor                              2.0     3366.0   59.417706   \n",
       "Escacena del Campo                              1.0     2287.0   43.725404   \n",
       "Villablanca                                     3.0     2885.0   34.662045   \n",
       "\n",
       "Medida                         tasa14  Diferencia PDIA  \n",
       "Lugar de residencia                                     \n",
       "Huelva                      53.783347             37.0  \n",
       "Huelva-Costa                57.330736             23.0  \n",
       "Condado-Campiña             68.488328             14.0  \n",
       "Huelva (capital)            36.847265              7.0  \n",
       "Isla Cristina               65.441967              5.0  \n",
       "Lepe                        46.628407              4.0  \n",
       "Puebla de Guzmán           646.830530              4.0  \n",
       "San Bartolomé de la Torre  292.475405              3.0  \n",
       "Almonte                    114.253071              3.0  \n",
       "Bollullos Par del Condado   69.507194              2.0  \n",
       "Lucena del Puerto          398.650721              1.0  \n",
       "Moguer                      68.596515              1.0  \n",
       "Palma del Condado (La)      92.584020              1.0  \n",
       "Ayamonte                   151.630023              1.0  \n",
       "Rociana del Condado         50.384179              1.0  \n",
       "San Silvestre de Guzmán    325.732899              1.0  \n",
       "Villalba del Alcor          59.417706              1.0  \n",
       "Escacena del Campo          43.725404              NaN  \n",
       "Villablanca                103.986135              NaN  "
      ],
      "text/html": "<div>\n<style scoped>\n    .dataframe tbody tr th:only-of-type {\n        vertical-align: middle;\n    }\n\n    .dataframe tbody tr th {\n        vertical-align: top;\n    }\n\n    .dataframe thead th {\n        text-align: right;\n    }\n</style>\n<table border=\"1\" class=\"dataframe\">\n  <thead>\n    <tr style=\"text-align: right;\">\n      <th>Medida</th>\n      <th>Confirmados PDIA</th>\n      <th>Confirmados PDIA 7 días</th>\n      <th>Confirmados PDIA 14 días</th>\n      <th>Población</th>\n      <th>tasa7</th>\n      <th>tasa14</th>\n      <th>Diferencia PDIA</th>\n    </tr>\n    <tr>\n      <th>Lugar de residencia</th>\n      <th></th>\n      <th></th>\n      <th></th>\n      <th></th>\n      <th></th>\n      <th></th>\n      <th></th>\n    </tr>\n  </thead>\n  <tbody>\n    <tr>\n      <th>Huelva</th>\n      <td>24771.0</td>\n      <td>134.0</td>\n      <td>276.0</td>\n      <td>513170.0</td>\n      <td>26.112205</td>\n      <td>53.783347</td>\n      <td>37.0</td>\n    </tr>\n    <tr>\n      <th>Huelva-Costa</th>\n      <td>15108.0</td>\n      <td>80.0</td>\n      <td>166.0</td>\n      <td>289548.0</td>\n      <td>27.629270</td>\n      <td>57.330736</td>\n      <td>23.0</td>\n    </tr>\n    <tr>\n      <th>Condado-Campiña</th>\n      <td>6952.0</td>\n      <td>53.0</td>\n      <td>107.0</td>\n      <td>156231.0</td>\n      <td>33.924125</td>\n      <td>68.488328</td>\n      <td>14.0</td>\n    </tr>\n    <tr>\n      <th>Huelva (capital)</th>\n      <td>6586.0</td>\n      <td>21.0</td>\n      <td>53.0</td>\n      <td>143837.0</td>\n      <td>14.599860</td>\n      <td>36.847265</td>\n      <td>7.0</td>\n    </tr>\n    <tr>\n      <th>Isla Cristina</th>\n      <td>1989.0</td>\n      <td>11.0</td>\n      <td>14.0</td>\n      <td>21393.0</td>\n      <td>51.418688</td>\n      <td>65.441967</td>\n      <td>5.0</td>\n    </tr>\n    <tr>\n      <th>Lepe</th>\n      <td>1999.0</td>\n      <td>6.0</td>\n      <td>13.0</td>\n      <td>27880.0</td>\n      <td>21.520803</td>\n      <td>46.628407</td>\n      <td>4.0</td>\n    </tr>\n    <tr>\n      <th>Puebla de Guzmán</th>\n      <td>102.0</td>\n      <td>9.0</td>\n      <td>20.0</td>\n      <td>3092.0</td>\n      <td>291.073739</td>\n      <td>646.830530</td>\n      <td>4.0</td>\n    </tr>\n    <tr>\n      <th>San Bartolomé de la Torre</th>\n      <td>203.0</td>\n      <td>8.0</td>\n      <td>11.0</td>\n      <td>3761.0</td>\n      <td>212.709386</td>\n      <td>292.475405</td>\n      <td>3.0</td>\n    </tr>\n    <tr>\n      <th>Almonte</th>\n      <td>878.0</td>\n      <td>10.0</td>\n      <td>28.0</td>\n      <td>24507.0</td>\n      <td>40.804668</td>\n      <td>114.253071</td>\n      <td>3.0</td>\n    </tr>\n    <tr>\n      <th>Bollullos Par del Condado</th>\n      <td>620.0</td>\n      <td>6.0</td>\n      <td>10.0</td>\n      <td>14387.0</td>\n      <td>41.704316</td>\n      <td>69.507194</td>\n      <td>2.0</td>\n    </tr>\n    <tr>\n      <th>Lucena del Puerto</th>\n      <td>160.0</td>\n      <td>3.0</td>\n      <td>13.0</td>\n      <td>3261.0</td>\n      <td>91.996320</td>\n      <td>398.650721</td>\n      <td>1.0</td>\n    </tr>\n    <tr>\n      <th>Moguer</th>\n      <td>835.0</td>\n      <td>6.0</td>\n      <td>15.0</td>\n      <td>21867.0</td>\n      <td>27.438606</td>\n      <td>68.596515</td>\n      <td>1.0</td>\n    </tr>\n    <tr>\n      <th>Palma del Condado (La)</th>\n      <td>981.0</td>\n      <td>3.0</td>\n      <td>10.0</td>\n      <td>10801.0</td>\n      <td>27.775206</td>\n      <td>92.584020</td>\n      <td>1.0</td>\n    </tr>\n    <tr>\n      <th>Ayamonte</th>\n      <td>1219.0</td>\n      <td>21.0</td>\n      <td>32.0</td>\n      <td>21104.0</td>\n      <td>99.507202</td>\n      <td>151.630023</td>\n      <td>1.0</td>\n    </tr>\n    <tr>\n      <th>Rociana del Condado</th>\n      <td>313.0</td>\n      <td>3.0</td>\n      <td>4.0</td>\n      <td>7939.0</td>\n      <td>37.788135</td>\n      <td>50.384179</td>\n      <td>1.0</td>\n    </tr>\n    <tr>\n      <th>San Silvestre de Guzmán</th>\n      <td>13.0</td>\n      <td>2.0</td>\n      <td>2.0</td>\n      <td>614.0</td>\n      <td>325.732899</td>\n      <td>325.732899</td>\n      <td>1.0</td>\n    </tr>\n    <tr>\n      <th>Villalba del Alcor</th>\n      <td>447.0</td>\n      <td>2.0</td>\n      <td>2.0</td>\n      <td>3366.0</td>\n      <td>59.417706</td>\n      <td>59.417706</td>\n      <td>1.0</td>\n    </tr>\n    <tr>\n      <th>Escacena del Campo</th>\n      <td>140.0</td>\n      <td>1.0</td>\n      <td>1.0</td>\n      <td>2287.0</td>\n      <td>43.725404</td>\n      <td>43.725404</td>\n      <td>NaN</td>\n    </tr>\n    <tr>\n      <th>Villablanca</th>\n      <td>177.0</td>\n      <td>1.0</td>\n      <td>3.0</td>\n      <td>2885.0</td>\n      <td>34.662045</td>\n      <td>103.986135</td>\n      <td>NaN</td>\n    </tr>\n  </tbody>\n</table>\n</div>"
     },
     "metadata": {},
     "execution_count": 15
    }
   ],
   "source": [
    "# Nuevos casos desde la última captura\n",
    "tabla[tabla['Diferencia PDIA'] != 0].sort_values('Diferencia PDIA', ascending=False)"
   ]
  },
  {
   "cell_type": "code",
   "execution_count": 16,
   "metadata": {},
   "outputs": [],
   "source": [
    "if tabla[tabla['Diferencia PDIA'] != 0]['Diferencia PDIA'].sum() != 0:\n",
    "  # Save to csv\n",
    "  tabla.to_csv('covid_huelva.csv', encoding='utf-8', header=True, index=True)  "
   ]
  },
  {
   "cell_type": "code",
   "execution_count": 17,
   "metadata": {},
   "outputs": [
    {
     "output_type": "execute_result",
     "data": {
      "text/plain": [
       "Medida                         Confirmados PDIA  Confirmados PDIA 7 días  \\\n",
       "Lugar de residencia                                                        \n",
       "Puebla de Guzmán                          102.0                      9.0   \n",
       "Lucena del Puerto                         160.0                      3.0   \n",
       "San Silvestre de Guzmán                    13.0                      2.0   \n",
       "San Bartolomé de la Torre                 203.0                      8.0   \n",
       "Ayamonte                                 1219.0                     21.0   \n",
       "Almonte                                   878.0                     10.0   \n",
       "Villablanca                               177.0                      1.0   \n",
       "Cartaya                                   957.0                      6.0   \n",
       "Palma del Condado (La)                    981.0                      3.0   \n",
       "San Juan del Puerto                       365.0                      7.0   \n",
       "Bollullos Par del Condado                 620.0                      6.0   \n",
       "Moguer                                    835.0                      6.0   \n",
       "Condado-Campiña                          6952.0                     53.0   \n",
       "Isla Cristina                            1989.0                     11.0   \n",
       "Villalba del Alcor                        447.0                      2.0   \n",
       "Huelva-Costa                            15108.0                     80.0   \n",
       "Huelva                                  24771.0                    134.0   \n",
       "Alosno                                    122.0                      1.0   \n",
       "Rociana del Condado                       313.0                      3.0   \n",
       "Lepe                                     1999.0                      6.0   \n",
       "Escacena del Campo                        140.0                      1.0   \n",
       "Huelva (capital)                         6586.0                     21.0   \n",
       "Villanueva de los Castillejos             153.0                      1.0   \n",
       "Beas                                      161.0                      1.0   \n",
       "Palos de la Frontera                      451.0                      1.0   \n",
       "Gibraleón                                 511.0                      2.0   \n",
       "Punta Umbría                              658.0                      1.0   \n",
       "\n",
       "Medida                         Confirmados PDIA 14 días  Población  \\\n",
       "Lugar de residencia                                                  \n",
       "Puebla de Guzmán                                   20.0     3092.0   \n",
       "Lucena del Puerto                                  13.0     3261.0   \n",
       "San Silvestre de Guzmán                             2.0      614.0   \n",
       "San Bartolomé de la Torre                          11.0     3761.0   \n",
       "Ayamonte                                           32.0    21104.0   \n",
       "Almonte                                            28.0    24507.0   \n",
       "Villablanca                                         3.0     2885.0   \n",
       "Cartaya                                            20.0    20083.0   \n",
       "Palma del Condado (La)                             10.0    10801.0   \n",
       "San Juan del Puerto                                 7.0     9411.0   \n",
       "Bollullos Par del Condado                          10.0    14387.0   \n",
       "Moguer                                             15.0    21867.0   \n",
       "Condado-Campiña                                   107.0   156231.0   \n",
       "Isla Cristina                                      14.0    21393.0   \n",
       "Villalba del Alcor                                  2.0     3366.0   \n",
       "Huelva-Costa                                      166.0   289548.0   \n",
       "Huelva                                            276.0   513170.0   \n",
       "Alosno                                              2.0     3933.0   \n",
       "Rociana del Condado                                 4.0     7939.0   \n",
       "Lepe                                               13.0    27880.0   \n",
       "Escacena del Campo                                  1.0     2287.0   \n",
       "Huelva (capital)                                   53.0   143837.0   \n",
       "Villanueva de los Castillejos                       1.0     2825.0   \n",
       "Beas                                                1.0     4341.0   \n",
       "Palos de la Frontera                                2.0    11742.0   \n",
       "Gibraleón                                           2.0    12737.0   \n",
       "Punta Umbría                                        2.0    15355.0   \n",
       "\n",
       "Medida                              tasa7      tasa14  Diferencia PDIA  \n",
       "Lugar de residencia                                                     \n",
       "Puebla de Guzmán               291.073739  646.830530              4.0  \n",
       "Lucena del Puerto               91.996320  398.650721              1.0  \n",
       "San Silvestre de Guzmán        325.732899  325.732899              1.0  \n",
       "San Bartolomé de la Torre      212.709386  292.475405              3.0  \n",
       "Ayamonte                        99.507202  151.630023              1.0  \n",
       "Almonte                         40.804668  114.253071              3.0  \n",
       "Villablanca                     34.662045  103.986135              NaN  \n",
       "Cartaya                         29.876015   99.586715              0.0  \n",
       "Palma del Condado (La)          27.775206   92.584020              1.0  \n",
       "San Juan del Puerto             74.381043   74.381043              0.0  \n",
       "Bollullos Par del Condado       41.704316   69.507194              2.0  \n",
       "Moguer                          27.438606   68.596515              1.0  \n",
       "Condado-Campiña                 33.924125   68.488328             14.0  \n",
       "Isla Cristina                   51.418688   65.441967              5.0  \n",
       "Villalba del Alcor              59.417706   59.417706              1.0  \n",
       "Huelva-Costa                    27.629270   57.330736             23.0  \n",
       "Huelva                          26.112205   53.783347             37.0  \n",
       "Alosno                          25.425884   50.851767              0.0  \n",
       "Rociana del Condado             37.788135   50.384179              1.0  \n",
       "Lepe                            21.520803   46.628407              4.0  \n",
       "Escacena del Campo              43.725404   43.725404              NaN  \n",
       "Huelva (capital)                14.599860   36.847265              7.0  \n",
       "Villanueva de los Castillejos   35.398230   35.398230              0.0  \n",
       "Beas                            23.036167   23.036167              0.0  \n",
       "Palos de la Frontera             8.516437   17.032873              0.0  \n",
       "Gibraleón                       15.702285   15.702285              0.0  \n",
       "Punta Umbría                     6.512537   13.025073              0.0  "
      ],
      "text/html": "<div>\n<style scoped>\n    .dataframe tbody tr th:only-of-type {\n        vertical-align: middle;\n    }\n\n    .dataframe tbody tr th {\n        vertical-align: top;\n    }\n\n    .dataframe thead th {\n        text-align: right;\n    }\n</style>\n<table border=\"1\" class=\"dataframe\">\n  <thead>\n    <tr style=\"text-align: right;\">\n      <th>Medida</th>\n      <th>Confirmados PDIA</th>\n      <th>Confirmados PDIA 7 días</th>\n      <th>Confirmados PDIA 14 días</th>\n      <th>Población</th>\n      <th>tasa7</th>\n      <th>tasa14</th>\n      <th>Diferencia PDIA</th>\n    </tr>\n    <tr>\n      <th>Lugar de residencia</th>\n      <th></th>\n      <th></th>\n      <th></th>\n      <th></th>\n      <th></th>\n      <th></th>\n      <th></th>\n    </tr>\n  </thead>\n  <tbody>\n    <tr>\n      <th>Puebla de Guzmán</th>\n      <td>102.0</td>\n      <td>9.0</td>\n      <td>20.0</td>\n      <td>3092.0</td>\n      <td>291.073739</td>\n      <td>646.830530</td>\n      <td>4.0</td>\n    </tr>\n    <tr>\n      <th>Lucena del Puerto</th>\n      <td>160.0</td>\n      <td>3.0</td>\n      <td>13.0</td>\n      <td>3261.0</td>\n      <td>91.996320</td>\n      <td>398.650721</td>\n      <td>1.0</td>\n    </tr>\n    <tr>\n      <th>San Silvestre de Guzmán</th>\n      <td>13.0</td>\n      <td>2.0</td>\n      <td>2.0</td>\n      <td>614.0</td>\n      <td>325.732899</td>\n      <td>325.732899</td>\n      <td>1.0</td>\n    </tr>\n    <tr>\n      <th>San Bartolomé de la Torre</th>\n      <td>203.0</td>\n      <td>8.0</td>\n      <td>11.0</td>\n      <td>3761.0</td>\n      <td>212.709386</td>\n      <td>292.475405</td>\n      <td>3.0</td>\n    </tr>\n    <tr>\n      <th>Ayamonte</th>\n      <td>1219.0</td>\n      <td>21.0</td>\n      <td>32.0</td>\n      <td>21104.0</td>\n      <td>99.507202</td>\n      <td>151.630023</td>\n      <td>1.0</td>\n    </tr>\n    <tr>\n      <th>Almonte</th>\n      <td>878.0</td>\n      <td>10.0</td>\n      <td>28.0</td>\n      <td>24507.0</td>\n      <td>40.804668</td>\n      <td>114.253071</td>\n      <td>3.0</td>\n    </tr>\n    <tr>\n      <th>Villablanca</th>\n      <td>177.0</td>\n      <td>1.0</td>\n      <td>3.0</td>\n      <td>2885.0</td>\n      <td>34.662045</td>\n      <td>103.986135</td>\n      <td>NaN</td>\n    </tr>\n    <tr>\n      <th>Cartaya</th>\n      <td>957.0</td>\n      <td>6.0</td>\n      <td>20.0</td>\n      <td>20083.0</td>\n      <td>29.876015</td>\n      <td>99.586715</td>\n      <td>0.0</td>\n    </tr>\n    <tr>\n      <th>Palma del Condado (La)</th>\n      <td>981.0</td>\n      <td>3.0</td>\n      <td>10.0</td>\n      <td>10801.0</td>\n      <td>27.775206</td>\n      <td>92.584020</td>\n      <td>1.0</td>\n    </tr>\n    <tr>\n      <th>San Juan del Puerto</th>\n      <td>365.0</td>\n      <td>7.0</td>\n      <td>7.0</td>\n      <td>9411.0</td>\n      <td>74.381043</td>\n      <td>74.381043</td>\n      <td>0.0</td>\n    </tr>\n    <tr>\n      <th>Bollullos Par del Condado</th>\n      <td>620.0</td>\n      <td>6.0</td>\n      <td>10.0</td>\n      <td>14387.0</td>\n      <td>41.704316</td>\n      <td>69.507194</td>\n      <td>2.0</td>\n    </tr>\n    <tr>\n      <th>Moguer</th>\n      <td>835.0</td>\n      <td>6.0</td>\n      <td>15.0</td>\n      <td>21867.0</td>\n      <td>27.438606</td>\n      <td>68.596515</td>\n      <td>1.0</td>\n    </tr>\n    <tr>\n      <th>Condado-Campiña</th>\n      <td>6952.0</td>\n      <td>53.0</td>\n      <td>107.0</td>\n      <td>156231.0</td>\n      <td>33.924125</td>\n      <td>68.488328</td>\n      <td>14.0</td>\n    </tr>\n    <tr>\n      <th>Isla Cristina</th>\n      <td>1989.0</td>\n      <td>11.0</td>\n      <td>14.0</td>\n      <td>21393.0</td>\n      <td>51.418688</td>\n      <td>65.441967</td>\n      <td>5.0</td>\n    </tr>\n    <tr>\n      <th>Villalba del Alcor</th>\n      <td>447.0</td>\n      <td>2.0</td>\n      <td>2.0</td>\n      <td>3366.0</td>\n      <td>59.417706</td>\n      <td>59.417706</td>\n      <td>1.0</td>\n    </tr>\n    <tr>\n      <th>Huelva-Costa</th>\n      <td>15108.0</td>\n      <td>80.0</td>\n      <td>166.0</td>\n      <td>289548.0</td>\n      <td>27.629270</td>\n      <td>57.330736</td>\n      <td>23.0</td>\n    </tr>\n    <tr>\n      <th>Huelva</th>\n      <td>24771.0</td>\n      <td>134.0</td>\n      <td>276.0</td>\n      <td>513170.0</td>\n      <td>26.112205</td>\n      <td>53.783347</td>\n      <td>37.0</td>\n    </tr>\n    <tr>\n      <th>Alosno</th>\n      <td>122.0</td>\n      <td>1.0</td>\n      <td>2.0</td>\n      <td>3933.0</td>\n      <td>25.425884</td>\n      <td>50.851767</td>\n      <td>0.0</td>\n    </tr>\n    <tr>\n      <th>Rociana del Condado</th>\n      <td>313.0</td>\n      <td>3.0</td>\n      <td>4.0</td>\n      <td>7939.0</td>\n      <td>37.788135</td>\n      <td>50.384179</td>\n      <td>1.0</td>\n    </tr>\n    <tr>\n      <th>Lepe</th>\n      <td>1999.0</td>\n      <td>6.0</td>\n      <td>13.0</td>\n      <td>27880.0</td>\n      <td>21.520803</td>\n      <td>46.628407</td>\n      <td>4.0</td>\n    </tr>\n    <tr>\n      <th>Escacena del Campo</th>\n      <td>140.0</td>\n      <td>1.0</td>\n      <td>1.0</td>\n      <td>2287.0</td>\n      <td>43.725404</td>\n      <td>43.725404</td>\n      <td>NaN</td>\n    </tr>\n    <tr>\n      <th>Huelva (capital)</th>\n      <td>6586.0</td>\n      <td>21.0</td>\n      <td>53.0</td>\n      <td>143837.0</td>\n      <td>14.599860</td>\n      <td>36.847265</td>\n      <td>7.0</td>\n    </tr>\n    <tr>\n      <th>Villanueva de los Castillejos</th>\n      <td>153.0</td>\n      <td>1.0</td>\n      <td>1.0</td>\n      <td>2825.0</td>\n      <td>35.398230</td>\n      <td>35.398230</td>\n      <td>0.0</td>\n    </tr>\n    <tr>\n      <th>Beas</th>\n      <td>161.0</td>\n      <td>1.0</td>\n      <td>1.0</td>\n      <td>4341.0</td>\n      <td>23.036167</td>\n      <td>23.036167</td>\n      <td>0.0</td>\n    </tr>\n    <tr>\n      <th>Palos de la Frontera</th>\n      <td>451.0</td>\n      <td>1.0</td>\n      <td>2.0</td>\n      <td>11742.0</td>\n      <td>8.516437</td>\n      <td>17.032873</td>\n      <td>0.0</td>\n    </tr>\n    <tr>\n      <th>Gibraleón</th>\n      <td>511.0</td>\n      <td>2.0</td>\n      <td>2.0</td>\n      <td>12737.0</td>\n      <td>15.702285</td>\n      <td>15.702285</td>\n      <td>0.0</td>\n    </tr>\n    <tr>\n      <th>Punta Umbría</th>\n      <td>658.0</td>\n      <td>1.0</td>\n      <td>2.0</td>\n      <td>15355.0</td>\n      <td>6.512537</td>\n      <td>13.025073</td>\n      <td>0.0</td>\n    </tr>\n  </tbody>\n</table>\n</div>"
     },
     "metadata": {},
     "execution_count": 17
    }
   ],
   "source": [
    "tabla.sort_values('tasa14', ascending=False)"
   ]
  },
  {
   "cell_type": "code",
   "execution_count": 18,
   "metadata": {},
   "outputs": [
    {
     "output_type": "execute_result",
     "data": {
      "text/plain": [
       "Medida                         Confirmados PDIA  Confirmados PDIA 7 días  \\\n",
       "Lugar de residencia                                                        \n",
       "Lucena del Puerto                         160.0                      3.0   \n",
       "Palma del Condado (La)                    981.0                      3.0   \n",
       "Cartaya                                   957.0                      6.0   \n",
       "Villablanca                               177.0                      1.0   \n",
       "Almonte                                   878.0                     10.0   \n",
       "Huelva (capital)                         6586.0                     21.0   \n",
       "Moguer                                    835.0                      6.0   \n",
       "Puebla de Guzmán                          102.0                      9.0   \n",
       "Lepe                                     1999.0                      6.0   \n",
       "Huelva-Costa                            15108.0                     80.0   \n",
       "Huelva                                  24771.0                    134.0   \n",
       "Condado-Campiña                          6952.0                     53.0   \n",
       "Alosno                                    122.0                      1.0   \n",
       "Punta Umbría                              658.0                      1.0   \n",
       "Palos de la Frontera                      451.0                      1.0   \n",
       "Bollullos Par del Condado                 620.0                      6.0   \n",
       "Ayamonte                                 1219.0                     21.0   \n",
       "San Bartolomé de la Torre                 203.0                      8.0   \n",
       "Rociana del Condado                       313.0                      3.0   \n",
       "Isla Cristina                            1989.0                     11.0   \n",
       "Beas                                      161.0                      1.0   \n",
       "Gibraleón                                 511.0                      2.0   \n",
       "San Juan del Puerto                       365.0                      7.0   \n",
       "San Silvestre de Guzmán                    13.0                      2.0   \n",
       "Escacena del Campo                        140.0                      1.0   \n",
       "Villalba del Alcor                        447.0                      2.0   \n",
       "Villanueva de los Castillejos             153.0                      1.0   \n",
       "\n",
       "Medida                         Confirmados PDIA 14 días  Población  \\\n",
       "Lugar de residencia                                                  \n",
       "Lucena del Puerto                                  13.0     3261.0   \n",
       "Palma del Condado (La)                             10.0    10801.0   \n",
       "Cartaya                                            20.0    20083.0   \n",
       "Villablanca                                         3.0     2885.0   \n",
       "Almonte                                            28.0    24507.0   \n",
       "Huelva (capital)                                   53.0   143837.0   \n",
       "Moguer                                             15.0    21867.0   \n",
       "Puebla de Guzmán                                   20.0     3092.0   \n",
       "Lepe                                               13.0    27880.0   \n",
       "Huelva-Costa                                      166.0   289548.0   \n",
       "Huelva                                            276.0   513170.0   \n",
       "Condado-Campiña                                   107.0   156231.0   \n",
       "Alosno                                              2.0     3933.0   \n",
       "Punta Umbría                                        2.0    15355.0   \n",
       "Palos de la Frontera                                2.0    11742.0   \n",
       "Bollullos Par del Condado                          10.0    14387.0   \n",
       "Ayamonte                                           32.0    21104.0   \n",
       "San Bartolomé de la Torre                          11.0     3761.0   \n",
       "Rociana del Condado                                 4.0     7939.0   \n",
       "Isla Cristina                                      14.0    21393.0   \n",
       "Beas                                                1.0     4341.0   \n",
       "Gibraleón                                           2.0    12737.0   \n",
       "San Juan del Puerto                                 7.0     9411.0   \n",
       "San Silvestre de Guzmán                             2.0      614.0   \n",
       "Escacena del Campo                                  1.0     2287.0   \n",
       "Villalba del Alcor                                  2.0     3366.0   \n",
       "Villanueva de los Castillejos                       1.0     2825.0   \n",
       "\n",
       "Medida                              tasa7      tasa14  Diferencia PDIA  \\\n",
       "Lugar de residencia                                                      \n",
       "Lucena del Puerto               91.996320  398.650721              1.0   \n",
       "Palma del Condado (La)          27.775206   92.584020              1.0   \n",
       "Cartaya                         29.876015   99.586715              0.0   \n",
       "Villablanca                     34.662045  103.986135              0.0   \n",
       "Almonte                         40.804668  114.253071              3.0   \n",
       "Huelva (capital)                14.599860   36.847265              7.0   \n",
       "Moguer                          27.438606   68.596515              1.0   \n",
       "Puebla de Guzmán               291.073739  646.830530              4.0   \n",
       "Lepe                            21.520803   46.628407              4.0   \n",
       "Huelva-Costa                    27.629270   57.330736             23.0   \n",
       "Huelva                          26.112205   53.783347             37.0   \n",
       "Condado-Campiña                 33.924125   68.488328             14.0   \n",
       "Alosno                          25.425884   50.851767              0.0   \n",
       "Punta Umbría                     6.512537   13.025073              0.0   \n",
       "Palos de la Frontera             8.516437   17.032873              0.0   \n",
       "Bollullos Par del Condado       41.704316   69.507194              2.0   \n",
       "Ayamonte                        99.507202  151.630023              1.0   \n",
       "San Bartolomé de la Torre      212.709386  292.475405              3.0   \n",
       "Rociana del Condado             37.788135   50.384179              1.0   \n",
       "Isla Cristina                   51.418688   65.441967              5.0   \n",
       "Beas                            23.036167   23.036167              0.0   \n",
       "Gibraleón                       15.702285   15.702285              0.0   \n",
       "San Juan del Puerto             74.381043   74.381043              0.0   \n",
       "San Silvestre de Guzmán        325.732899  325.732899              1.0   \n",
       "Escacena del Campo              43.725404   43.725404              0.0   \n",
       "Villalba del Alcor              59.417706   59.417706              1.0   \n",
       "Villanueva de los Castillejos   35.398230   35.398230              0.0   \n",
       "\n",
       "Medida                             7/14  \n",
       "Lugar de residencia                      \n",
       "Lucena del Puerto              0.230769  \n",
       "Palma del Condado (La)         0.300000  \n",
       "Cartaya                        0.300000  \n",
       "Villablanca                    0.333333  \n",
       "Almonte                        0.357143  \n",
       "Huelva (capital)               0.396226  \n",
       "Moguer                         0.400000  \n",
       "Puebla de Guzmán               0.450000  \n",
       "Lepe                           0.461538  \n",
       "Huelva-Costa                   0.481928  \n",
       "Huelva                         0.485507  \n",
       "Condado-Campiña                0.495327  \n",
       "Alosno                         0.500000  \n",
       "Punta Umbría                   0.500000  \n",
       "Palos de la Frontera           0.500000  \n",
       "Bollullos Par del Condado      0.600000  \n",
       "Ayamonte                       0.656250  \n",
       "San Bartolomé de la Torre      0.727273  \n",
       "Rociana del Condado            0.750000  \n",
       "Isla Cristina                  0.785714  \n",
       "Beas                           1.000000  \n",
       "Gibraleón                      1.000000  \n",
       "San Juan del Puerto            1.000000  \n",
       "San Silvestre de Guzmán        1.000000  \n",
       "Escacena del Campo             1.000000  \n",
       "Villalba del Alcor             1.000000  \n",
       "Villanueva de los Castillejos  1.000000  "
      ],
      "text/html": "<div>\n<style scoped>\n    .dataframe tbody tr th:only-of-type {\n        vertical-align: middle;\n    }\n\n    .dataframe tbody tr th {\n        vertical-align: top;\n    }\n\n    .dataframe thead th {\n        text-align: right;\n    }\n</style>\n<table border=\"1\" class=\"dataframe\">\n  <thead>\n    <tr style=\"text-align: right;\">\n      <th>Medida</th>\n      <th>Confirmados PDIA</th>\n      <th>Confirmados PDIA 7 días</th>\n      <th>Confirmados PDIA 14 días</th>\n      <th>Población</th>\n      <th>tasa7</th>\n      <th>tasa14</th>\n      <th>Diferencia PDIA</th>\n      <th>7/14</th>\n    </tr>\n    <tr>\n      <th>Lugar de residencia</th>\n      <th></th>\n      <th></th>\n      <th></th>\n      <th></th>\n      <th></th>\n      <th></th>\n      <th></th>\n      <th></th>\n    </tr>\n  </thead>\n  <tbody>\n    <tr>\n      <th>Lucena del Puerto</th>\n      <td>160.0</td>\n      <td>3.0</td>\n      <td>13.0</td>\n      <td>3261.0</td>\n      <td>91.996320</td>\n      <td>398.650721</td>\n      <td>1.0</td>\n      <td>0.230769</td>\n    </tr>\n    <tr>\n      <th>Palma del Condado (La)</th>\n      <td>981.0</td>\n      <td>3.0</td>\n      <td>10.0</td>\n      <td>10801.0</td>\n      <td>27.775206</td>\n      <td>92.584020</td>\n      <td>1.0</td>\n      <td>0.300000</td>\n    </tr>\n    <tr>\n      <th>Cartaya</th>\n      <td>957.0</td>\n      <td>6.0</td>\n      <td>20.0</td>\n      <td>20083.0</td>\n      <td>29.876015</td>\n      <td>99.586715</td>\n      <td>0.0</td>\n      <td>0.300000</td>\n    </tr>\n    <tr>\n      <th>Villablanca</th>\n      <td>177.0</td>\n      <td>1.0</td>\n      <td>3.0</td>\n      <td>2885.0</td>\n      <td>34.662045</td>\n      <td>103.986135</td>\n      <td>0.0</td>\n      <td>0.333333</td>\n    </tr>\n    <tr>\n      <th>Almonte</th>\n      <td>878.0</td>\n      <td>10.0</td>\n      <td>28.0</td>\n      <td>24507.0</td>\n      <td>40.804668</td>\n      <td>114.253071</td>\n      <td>3.0</td>\n      <td>0.357143</td>\n    </tr>\n    <tr>\n      <th>Huelva (capital)</th>\n      <td>6586.0</td>\n      <td>21.0</td>\n      <td>53.0</td>\n      <td>143837.0</td>\n      <td>14.599860</td>\n      <td>36.847265</td>\n      <td>7.0</td>\n      <td>0.396226</td>\n    </tr>\n    <tr>\n      <th>Moguer</th>\n      <td>835.0</td>\n      <td>6.0</td>\n      <td>15.0</td>\n      <td>21867.0</td>\n      <td>27.438606</td>\n      <td>68.596515</td>\n      <td>1.0</td>\n      <td>0.400000</td>\n    </tr>\n    <tr>\n      <th>Puebla de Guzmán</th>\n      <td>102.0</td>\n      <td>9.0</td>\n      <td>20.0</td>\n      <td>3092.0</td>\n      <td>291.073739</td>\n      <td>646.830530</td>\n      <td>4.0</td>\n      <td>0.450000</td>\n    </tr>\n    <tr>\n      <th>Lepe</th>\n      <td>1999.0</td>\n      <td>6.0</td>\n      <td>13.0</td>\n      <td>27880.0</td>\n      <td>21.520803</td>\n      <td>46.628407</td>\n      <td>4.0</td>\n      <td>0.461538</td>\n    </tr>\n    <tr>\n      <th>Huelva-Costa</th>\n      <td>15108.0</td>\n      <td>80.0</td>\n      <td>166.0</td>\n      <td>289548.0</td>\n      <td>27.629270</td>\n      <td>57.330736</td>\n      <td>23.0</td>\n      <td>0.481928</td>\n    </tr>\n    <tr>\n      <th>Huelva</th>\n      <td>24771.0</td>\n      <td>134.0</td>\n      <td>276.0</td>\n      <td>513170.0</td>\n      <td>26.112205</td>\n      <td>53.783347</td>\n      <td>37.0</td>\n      <td>0.485507</td>\n    </tr>\n    <tr>\n      <th>Condado-Campiña</th>\n      <td>6952.0</td>\n      <td>53.0</td>\n      <td>107.0</td>\n      <td>156231.0</td>\n      <td>33.924125</td>\n      <td>68.488328</td>\n      <td>14.0</td>\n      <td>0.495327</td>\n    </tr>\n    <tr>\n      <th>Alosno</th>\n      <td>122.0</td>\n      <td>1.0</td>\n      <td>2.0</td>\n      <td>3933.0</td>\n      <td>25.425884</td>\n      <td>50.851767</td>\n      <td>0.0</td>\n      <td>0.500000</td>\n    </tr>\n    <tr>\n      <th>Punta Umbría</th>\n      <td>658.0</td>\n      <td>1.0</td>\n      <td>2.0</td>\n      <td>15355.0</td>\n      <td>6.512537</td>\n      <td>13.025073</td>\n      <td>0.0</td>\n      <td>0.500000</td>\n    </tr>\n    <tr>\n      <th>Palos de la Frontera</th>\n      <td>451.0</td>\n      <td>1.0</td>\n      <td>2.0</td>\n      <td>11742.0</td>\n      <td>8.516437</td>\n      <td>17.032873</td>\n      <td>0.0</td>\n      <td>0.500000</td>\n    </tr>\n    <tr>\n      <th>Bollullos Par del Condado</th>\n      <td>620.0</td>\n      <td>6.0</td>\n      <td>10.0</td>\n      <td>14387.0</td>\n      <td>41.704316</td>\n      <td>69.507194</td>\n      <td>2.0</td>\n      <td>0.600000</td>\n    </tr>\n    <tr>\n      <th>Ayamonte</th>\n      <td>1219.0</td>\n      <td>21.0</td>\n      <td>32.0</td>\n      <td>21104.0</td>\n      <td>99.507202</td>\n      <td>151.630023</td>\n      <td>1.0</td>\n      <td>0.656250</td>\n    </tr>\n    <tr>\n      <th>San Bartolomé de la Torre</th>\n      <td>203.0</td>\n      <td>8.0</td>\n      <td>11.0</td>\n      <td>3761.0</td>\n      <td>212.709386</td>\n      <td>292.475405</td>\n      <td>3.0</td>\n      <td>0.727273</td>\n    </tr>\n    <tr>\n      <th>Rociana del Condado</th>\n      <td>313.0</td>\n      <td>3.0</td>\n      <td>4.0</td>\n      <td>7939.0</td>\n      <td>37.788135</td>\n      <td>50.384179</td>\n      <td>1.0</td>\n      <td>0.750000</td>\n    </tr>\n    <tr>\n      <th>Isla Cristina</th>\n      <td>1989.0</td>\n      <td>11.0</td>\n      <td>14.0</td>\n      <td>21393.0</td>\n      <td>51.418688</td>\n      <td>65.441967</td>\n      <td>5.0</td>\n      <td>0.785714</td>\n    </tr>\n    <tr>\n      <th>Beas</th>\n      <td>161.0</td>\n      <td>1.0</td>\n      <td>1.0</td>\n      <td>4341.0</td>\n      <td>23.036167</td>\n      <td>23.036167</td>\n      <td>0.0</td>\n      <td>1.000000</td>\n    </tr>\n    <tr>\n      <th>Gibraleón</th>\n      <td>511.0</td>\n      <td>2.0</td>\n      <td>2.0</td>\n      <td>12737.0</td>\n      <td>15.702285</td>\n      <td>15.702285</td>\n      <td>0.0</td>\n      <td>1.000000</td>\n    </tr>\n    <tr>\n      <th>San Juan del Puerto</th>\n      <td>365.0</td>\n      <td>7.0</td>\n      <td>7.0</td>\n      <td>9411.0</td>\n      <td>74.381043</td>\n      <td>74.381043</td>\n      <td>0.0</td>\n      <td>1.000000</td>\n    </tr>\n    <tr>\n      <th>San Silvestre de Guzmán</th>\n      <td>13.0</td>\n      <td>2.0</td>\n      <td>2.0</td>\n      <td>614.0</td>\n      <td>325.732899</td>\n      <td>325.732899</td>\n      <td>1.0</td>\n      <td>1.000000</td>\n    </tr>\n    <tr>\n      <th>Escacena del Campo</th>\n      <td>140.0</td>\n      <td>1.0</td>\n      <td>1.0</td>\n      <td>2287.0</td>\n      <td>43.725404</td>\n      <td>43.725404</td>\n      <td>0.0</td>\n      <td>1.000000</td>\n    </tr>\n    <tr>\n      <th>Villalba del Alcor</th>\n      <td>447.0</td>\n      <td>2.0</td>\n      <td>2.0</td>\n      <td>3366.0</td>\n      <td>59.417706</td>\n      <td>59.417706</td>\n      <td>1.0</td>\n      <td>1.000000</td>\n    </tr>\n    <tr>\n      <th>Villanueva de los Castillejos</th>\n      <td>153.0</td>\n      <td>1.0</td>\n      <td>1.0</td>\n      <td>2825.0</td>\n      <td>35.398230</td>\n      <td>35.398230</td>\n      <td>0.0</td>\n      <td>1.000000</td>\n    </tr>\n  </tbody>\n</table>\n</div>"
     },
     "metadata": {},
     "execution_count": 18
    }
   ],
   "source": [
    "# Peso de la tasa de la última semana en relación con la tasa a 14 días \n",
    "# Mejor cuanto menor. Valor 1 significa que no había casos antes de 7 días.\n",
    "tabla['7/14'] = tabla['tasa7'] / tabla['tasa14']\n",
    "tabla.fillna(0).sort_values('7/14', ascending=True)"
   ]
  },
  {
   "cell_type": "code",
   "execution_count": null,
   "metadata": {},
   "outputs": [],
   "source": []
  }
 ]
}