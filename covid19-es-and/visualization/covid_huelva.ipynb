{
 "metadata": {
  "language_info": {
   "codemirror_mode": {
    "name": "ipython",
    "version": 3
   },
   "file_extension": ".py",
   "mimetype": "text/x-python",
   "name": "python",
   "nbconvert_exporter": "python",
   "pygments_lexer": "ipython3",
   "version": "3.6.9-final"
  },
  "orig_nbformat": 2,
  "kernelspec": {
   "name": "python_defaultSpec_1600236891546",
   "display_name": "Python 3.6.9 64-bit"
  }
 },
 "nbformat": 4,
 "nbformat_minor": 2,
 "cells": [
  {
   "cell_type": "code",
   "execution_count": 1,
   "metadata": {},
   "outputs": [],
   "source": [
    "import pandas as pd"
   ]
  },
  {
   "cell_type": "code",
   "execution_count": 2,
   "metadata": {},
   "outputs": [],
   "source": [
    "url = 'https://www.juntadeandalucia.es/institutodeestadisticaycartografia/badea/stpivot/stpivot/Print?cube=013d884c-cfc5-4c21-9e78-e26225682afd&type=3&foto=si&ejecutaDesde=&codConsulta=38668&consTipoVisua=JP'\n",
    "fields = ['Lugar de residencia', 'Medida', 'Valor']\n",
    "df = pd.read_csv(url, delimiter=';', usecols=fields, decimal=',')"
   ]
  },
  {
   "cell_type": "code",
   "execution_count": 3,
   "metadata": {},
   "outputs": [],
   "source": [
    "df['Valor'] = pd.to_numeric(df['Valor'],errors='coerce')"
   ]
  },
  {
   "cell_type": "code",
   "execution_count": 4,
   "metadata": {},
   "outputs": [],
   "source": [
    "dfAnterior = pd.read_csv('covid_huelva.csv', index_col='Lugar de residencia')"
   ]
  },
  {
   "cell_type": "code",
   "execution_count": 5,
   "metadata": {
    "tags": []
   },
   "outputs": [
    {
     "output_type": "stream",
     "name": "stdout",
     "text": "Confirmados PCR en la provincia de Huelva:  979.0\n"
    }
   ],
   "source": [
    "# Confirmados PCR provincia Huelva\n",
    "p = df[df['Lugar de residencia'] == 'Huelva'][df['Medida'] == 'Confirmados PCR']['Valor'].values[0]\n",
    "print('Confirmados PCR en la provincia de Huelva: ', p)"
   ]
  },
  {
   "cell_type": "code",
   "execution_count": 6,
   "metadata": {
    "tags": []
   },
   "outputs": [
    {
     "output_type": "stream",
     "name": "stdout",
     "text": "Confirmados PCR en Huelva capital:  249.0\n"
    }
   ],
   "source": [
    "# Confirmados PCR Huelva capital\n",
    "c = df[df['Lugar de residencia'] == 'Huelva (capital)'][df['Medida'] == 'Confirmados PCR']['Valor'].values[0]\n",
    "print('Confirmados PCR en Huelva capital: ', c)"
   ]
  },
  {
   "cell_type": "code",
   "execution_count": 7,
   "metadata": {
    "tags": []
   },
   "outputs": [],
   "source": [
    "c7 = df[df['Lugar de residencia'] == 'Huelva (capital)'][df['Medida'] == 'Confirmados PCR 7 días']['Valor'].values[0]\n",
    "c14 = df[df['Lugar de residencia'] == 'Huelva (capital)'][df['Medida'] == 'Confirmados PCR 14 días']['Valor'].values[0]\n",
    "p = df[df['Lugar de residencia'] == 'Huelva (capital)'][df['Medida'] == 'Población']['Valor'].values[0]"
   ]
  },
  {
   "cell_type": "code",
   "execution_count": 8,
   "metadata": {
    "tags": []
   },
   "outputs": [
    {
     "output_type": "stream",
     "name": "stdout",
     "text": "Huelva (capital)\n\nUn positivo PCR cada 5526 personas en los últimos 7 días \n\nUn positivo PCR cada 3123 personas en los últimos 14 días\n"
    }
   ],
   "source": [
    "print('Huelva (capital)\\n')\n",
    "#print('Confirmados PCR 7 días x 1,000 habitantes: ', f\"{c7/(p/1000):.5f}\")\n",
    "print('Un positivo PCR cada', f\"{p/c7:.0f}\", 'personas en los últimos 7 días', '\\n')\n",
    "#print('Confirmados PCR 14 días x 1,000 habitantes: ', f\"{c14/(p/1000):.5f}\")\n",
    "print('Un positivo PCR cada', f\"{p/c14:.0f}\", 'personas en los últimos 14 días')"
   ]
  },
  {
   "cell_type": "code",
   "execution_count": 9,
   "metadata": {},
   "outputs": [],
   "source": [
    "filtro = ((df['Medida'] == 'Confirmados PCR')| (df['Medida'] == 'Confirmados PCR 7 días') | (df['Medida'] == 'Población' ) | (df['Medida'] == 'Confirmados PCR 14 días')) & (df['Valor'] > 0)\n",
    "tabla = pd.pivot_table(df.loc[filtro], values='Valor', index='Lugar de residencia', columns='Medida').dropna()"
   ]
  },
  {
   "cell_type": "code",
   "execution_count": 10,
   "metadata": {},
   "outputs": [],
   "source": [
    "# Reorder columns\n",
    "tabla = tabla[['Confirmados PCR', 'Confirmados PCR 7 días', 'Confirmados PCR 14 días', 'Población']]"
   ]
  },
  {
   "cell_type": "code",
   "execution_count": 11,
   "metadata": {},
   "outputs": [],
   "source": [
    "tabla['tasa7'] = tabla['Confirmados PCR 7 días']/tabla['Población']*100000\n",
    "tabla['tasa14'] = tabla['Confirmados PCR 14 días']/tabla['Población']*100000"
   ]
  },
  {
   "cell_type": "code",
   "execution_count": 12,
   "metadata": {},
   "outputs": [],
   "source": [
    "tabla['Diferencia PCR'] = tabla['Confirmados PCR'] - dfAnterior['Confirmados PCR']"
   ]
  },
  {
   "cell_type": "code",
   "execution_count": 13,
   "metadata": {},
   "outputs": [
    {
     "output_type": "execute_result",
     "data": {
      "text/plain": "Medida                             Confirmados PCR  Confirmados PCR 7 días  \\\nLugar de residencia                                                          \nHuelva                                       979.0                   161.0   \nHuelva-Costa                                 516.0                    88.0   \nHuelva (capital)                             249.0                    26.0   \nIsla Cristina                                 52.0                    18.0   \nAljaraque                                     54.0                     8.0   \nCondado-Campiña                              297.0                    57.0   \nSierra de Huelva-Andévalo Central            149.0                    10.0   \nValverde del Camino                           26.0                     3.0   \nVillalba del Alcor                            36.0                     9.0   \n\nMedida                             Confirmados PCR 14 días  Población  \\\nLugar de residencia                                                     \nHuelva                                               276.0   510743.0   \nHuelva-Costa                                         143.0   288115.0   \nHuelva (capital)                                      46.0   143663.0   \nIsla Cristina                                         34.0    21264.0   \nAljaraque                                             11.0    21260.0   \nCondado-Campiña                                      105.0   155057.0   \nSierra de Huelva-Andévalo Central                     19.0    67571.0   \nValverde del Camino                                    5.0    12820.0   \nVillalba del Alcor                                    26.0     3338.0   \n\nMedida                                  tasa7      tasa14  Diferencia PCR  \nLugar de residencia                                                        \nHuelva                              31.522703   54.038920            18.0  \nHuelva-Costa                        30.543359   49.632959            13.0  \nHuelva (capital)                    18.097910   32.019379             7.0  \nIsla Cristina                       84.650113  159.894658             4.0  \nAljaraque                           37.629351   51.740357             2.0  \nCondado-Campiña                     36.760675   67.717033             2.0  \nSierra de Huelva-Andévalo Central   14.799248   28.118572             2.0  \nValverde del Camino                 23.400936   39.001560             1.0  \nVillalba del Alcor                 269.622528  778.909527             1.0  ",
      "text/html": "<div>\n<style scoped>\n    .dataframe tbody tr th:only-of-type {\n        vertical-align: middle;\n    }\n\n    .dataframe tbody tr th {\n        vertical-align: top;\n    }\n\n    .dataframe thead th {\n        text-align: right;\n    }\n</style>\n<table border=\"1\" class=\"dataframe\">\n  <thead>\n    <tr style=\"text-align: right;\">\n      <th>Medida</th>\n      <th>Confirmados PCR</th>\n      <th>Confirmados PCR 7 días</th>\n      <th>Confirmados PCR 14 días</th>\n      <th>Población</th>\n      <th>tasa7</th>\n      <th>tasa14</th>\n      <th>Diferencia PCR</th>\n    </tr>\n    <tr>\n      <th>Lugar de residencia</th>\n      <th></th>\n      <th></th>\n      <th></th>\n      <th></th>\n      <th></th>\n      <th></th>\n      <th></th>\n    </tr>\n  </thead>\n  <tbody>\n    <tr>\n      <th>Huelva</th>\n      <td>979.0</td>\n      <td>161.0</td>\n      <td>276.0</td>\n      <td>510743.0</td>\n      <td>31.522703</td>\n      <td>54.038920</td>\n      <td>18.0</td>\n    </tr>\n    <tr>\n      <th>Huelva-Costa</th>\n      <td>516.0</td>\n      <td>88.0</td>\n      <td>143.0</td>\n      <td>288115.0</td>\n      <td>30.543359</td>\n      <td>49.632959</td>\n      <td>13.0</td>\n    </tr>\n    <tr>\n      <th>Huelva (capital)</th>\n      <td>249.0</td>\n      <td>26.0</td>\n      <td>46.0</td>\n      <td>143663.0</td>\n      <td>18.097910</td>\n      <td>32.019379</td>\n      <td>7.0</td>\n    </tr>\n    <tr>\n      <th>Isla Cristina</th>\n      <td>52.0</td>\n      <td>18.0</td>\n      <td>34.0</td>\n      <td>21264.0</td>\n      <td>84.650113</td>\n      <td>159.894658</td>\n      <td>4.0</td>\n    </tr>\n    <tr>\n      <th>Aljaraque</th>\n      <td>54.0</td>\n      <td>8.0</td>\n      <td>11.0</td>\n      <td>21260.0</td>\n      <td>37.629351</td>\n      <td>51.740357</td>\n      <td>2.0</td>\n    </tr>\n    <tr>\n      <th>Condado-Campiña</th>\n      <td>297.0</td>\n      <td>57.0</td>\n      <td>105.0</td>\n      <td>155057.0</td>\n      <td>36.760675</td>\n      <td>67.717033</td>\n      <td>2.0</td>\n    </tr>\n    <tr>\n      <th>Sierra de Huelva-Andévalo Central</th>\n      <td>149.0</td>\n      <td>10.0</td>\n      <td>19.0</td>\n      <td>67571.0</td>\n      <td>14.799248</td>\n      <td>28.118572</td>\n      <td>2.0</td>\n    </tr>\n    <tr>\n      <th>Valverde del Camino</th>\n      <td>26.0</td>\n      <td>3.0</td>\n      <td>5.0</td>\n      <td>12820.0</td>\n      <td>23.400936</td>\n      <td>39.001560</td>\n      <td>1.0</td>\n    </tr>\n    <tr>\n      <th>Villalba del Alcor</th>\n      <td>36.0</td>\n      <td>9.0</td>\n      <td>26.0</td>\n      <td>3338.0</td>\n      <td>269.622528</td>\n      <td>778.909527</td>\n      <td>1.0</td>\n    </tr>\n  </tbody>\n</table>\n</div>"
     },
     "metadata": {},
     "execution_count": 13
    }
   ],
   "source": [
    "# Nuevos casos desde la última captura\n",
    "tabla[tabla['Diferencia PCR'] > 0].sort_values('Diferencia PCR', ascending=False)"
   ]
  },
  {
   "cell_type": "code",
   "execution_count": 14,
   "metadata": {},
   "outputs": [],
   "source": [
    "if tabla[tabla['Diferencia PCR'] > 0]['Diferencia PCR'].sum() > 0:\n",
    "  # Save to csv\n",
    "  tabla.to_csv('covid_huelva.csv', encoding='utf-8', header=True, index=True)  "
   ]
  },
  {
   "cell_type": "code",
   "execution_count": 15,
   "metadata": {},
   "outputs": [],
   "source": [
    "# Save to csv\n",
    "# tabla.to_csv('covid_huelva.csv', encoding='utf-8', header=True, index=True)"
   ]
  },
  {
   "cell_type": "code",
   "execution_count": 16,
   "metadata": {},
   "outputs": [
    {
     "output_type": "execute_result",
     "data": {
      "text/plain": "Medida                             Confirmados PCR  Confirmados PCR 7 días  \\\nLugar de residencia                                                          \nCabezas Rubias                                 8.0                     6.0   \nVillalba del Alcor                            36.0                     9.0   \nEscacena del Campo                            15.0                     6.0   \nZalamea la Real                               19.0                     5.0   \nBollullos Par del Condado                     35.0                    17.0   \nIsla Cristina                                 52.0                    18.0   \nPalma del Condado (La)                        31.0                     6.0   \nPalos de la Frontera                          18.0                    10.0   \nCondado-Campiña                              297.0                    57.0   \nAyamonte                                      26.0                    11.0   \nPunta Umbría                                  23.0                     3.0   \nLepe                                          65.0                    10.0   \nHuelva                                       979.0                   161.0   \nTrigueros                                     29.0                     1.0   \nAljaraque                                     54.0                     8.0   \nHuelva-Costa                                 516.0                    88.0   \nVillarrasa                                     2.0                     1.0   \nAlmonte                                       44.0                     3.0   \nCerro de Andévalo (El)                         1.0                     1.0   \nValverde del Camino                           26.0                     3.0   \nVillablanca                                    2.0                     1.0   \nAroche                                         3.0                     1.0   \nHuelva (capital)                             249.0                    26.0   \nSierra de Huelva-Andévalo Central            149.0                    10.0   \nCartaya                                       19.0                     5.0   \nMoguer                                        26.0                     2.0   \nBonares                                        2.0                     1.0   \nSan Juan del Puerto                           18.0                     1.0   \n\nMedida                             Confirmados PCR 14 días  Población  \\\nLugar de residencia                                                     \nCabezas Rubias                                         7.0      730.0   \nVillalba del Alcor                                    26.0     3338.0   \nEscacena del Campo                                    11.0     2284.0   \nZalamea la Real                                        6.0     3068.0   \nBollullos Par del Condado                             23.0    14272.0   \nIsla Cristina                                         34.0    21264.0   \nPalma del Condado (La)                                10.0    10761.0   \nPalos de la Frontera                                  10.0    11289.0   \nCondado-Campiña                                      105.0   155057.0   \nAyamonte                                              14.0    20946.0   \nPunta Umbría                                           9.0    15242.0   \nLepe                                                  16.0    27431.0   \nHuelva                                               276.0   510743.0   \nTrigueros                                              4.0     7713.0   \nAljaraque                                             11.0    21260.0   \nHuelva-Costa                                         143.0   288115.0   \nVillarrasa                                             1.0     2176.0   \nAlmonte                                               11.0    24191.0   \nCerro de Andévalo (El)                                 1.0     2364.0   \nValverde del Camino                                    5.0    12820.0   \nVillablanca                                            1.0     2848.0   \nAroche                                                 1.0     3073.0   \nHuelva (capital)                                      46.0   143663.0   \nSierra de Huelva-Andévalo Central                     19.0    67571.0   \nCartaya                                                5.0    19974.0   \nMoguer                                                 5.0    22088.0   \nBonares                                                1.0     6058.0   \nSan Juan del Puerto                                    1.0     9300.0   \n\nMedida                                  tasa7      tasa14  Diferencia PCR  \nLugar de residencia                                                        \nCabezas Rubias                     821.917808  958.904110             0.0  \nVillalba del Alcor                 269.622528  778.909527             1.0  \nEscacena del Campo                 262.697023  481.611208             0.0  \nZalamea la Real                    162.972621  195.567145             0.0  \nBollullos Par del Condado          119.114350  161.154709             0.0  \nIsla Cristina                       84.650113  159.894658             4.0  \nPalma del Condado (La)              55.756900   92.928167             0.0  \nPalos de la Frontera                88.581805   88.581805             0.0  \nCondado-Campiña                     36.760675   67.717033             2.0  \nAyamonte                            52.515994   66.838537             0.0  \nPunta Umbría                        19.682456   59.047369             0.0  \nLepe                                36.455106   58.328169             0.0  \nHuelva                              31.522703   54.038920            18.0  \nTrigueros                           12.965124   51.860495             0.0  \nAljaraque                           37.629351   51.740357             2.0  \nHuelva-Costa                        30.543359   49.632959            13.0  \nVillarrasa                          45.955882   45.955882             0.0  \nAlmonte                             12.401306   45.471456             0.0  \nCerro de Andévalo (El)              42.301184   42.301184             0.0  \nValverde del Camino                 23.400936   39.001560             1.0  \nVillablanca                         35.112360   35.112360             0.0  \nAroche                              32.541490   32.541490             NaN  \nHuelva (capital)                    18.097910   32.019379             7.0  \nSierra de Huelva-Andévalo Central   14.799248   28.118572             2.0  \nCartaya                             25.032542   25.032542             0.0  \nMoguer                               9.054690   22.636726             0.0  \nBonares                             16.507098   16.507098             NaN  \nSan Juan del Puerto                 10.752688   10.752688             0.0  ",
      "text/html": "<div>\n<style scoped>\n    .dataframe tbody tr th:only-of-type {\n        vertical-align: middle;\n    }\n\n    .dataframe tbody tr th {\n        vertical-align: top;\n    }\n\n    .dataframe thead th {\n        text-align: right;\n    }\n</style>\n<table border=\"1\" class=\"dataframe\">\n  <thead>\n    <tr style=\"text-align: right;\">\n      <th>Medida</th>\n      <th>Confirmados PCR</th>\n      <th>Confirmados PCR 7 días</th>\n      <th>Confirmados PCR 14 días</th>\n      <th>Población</th>\n      <th>tasa7</th>\n      <th>tasa14</th>\n      <th>Diferencia PCR</th>\n    </tr>\n    <tr>\n      <th>Lugar de residencia</th>\n      <th></th>\n      <th></th>\n      <th></th>\n      <th></th>\n      <th></th>\n      <th></th>\n      <th></th>\n    </tr>\n  </thead>\n  <tbody>\n    <tr>\n      <th>Cabezas Rubias</th>\n      <td>8.0</td>\n      <td>6.0</td>\n      <td>7.0</td>\n      <td>730.0</td>\n      <td>821.917808</td>\n      <td>958.904110</td>\n      <td>0.0</td>\n    </tr>\n    <tr>\n      <th>Villalba del Alcor</th>\n      <td>36.0</td>\n      <td>9.0</td>\n      <td>26.0</td>\n      <td>3338.0</td>\n      <td>269.622528</td>\n      <td>778.909527</td>\n      <td>1.0</td>\n    </tr>\n    <tr>\n      <th>Escacena del Campo</th>\n      <td>15.0</td>\n      <td>6.0</td>\n      <td>11.0</td>\n      <td>2284.0</td>\n      <td>262.697023</td>\n      <td>481.611208</td>\n      <td>0.0</td>\n    </tr>\n    <tr>\n      <th>Zalamea la Real</th>\n      <td>19.0</td>\n      <td>5.0</td>\n      <td>6.0</td>\n      <td>3068.0</td>\n      <td>162.972621</td>\n      <td>195.567145</td>\n      <td>0.0</td>\n    </tr>\n    <tr>\n      <th>Bollullos Par del Condado</th>\n      <td>35.0</td>\n      <td>17.0</td>\n      <td>23.0</td>\n      <td>14272.0</td>\n      <td>119.114350</td>\n      <td>161.154709</td>\n      <td>0.0</td>\n    </tr>\n    <tr>\n      <th>Isla Cristina</th>\n      <td>52.0</td>\n      <td>18.0</td>\n      <td>34.0</td>\n      <td>21264.0</td>\n      <td>84.650113</td>\n      <td>159.894658</td>\n      <td>4.0</td>\n    </tr>\n    <tr>\n      <th>Palma del Condado (La)</th>\n      <td>31.0</td>\n      <td>6.0</td>\n      <td>10.0</td>\n      <td>10761.0</td>\n      <td>55.756900</td>\n      <td>92.928167</td>\n      <td>0.0</td>\n    </tr>\n    <tr>\n      <th>Palos de la Frontera</th>\n      <td>18.0</td>\n      <td>10.0</td>\n      <td>10.0</td>\n      <td>11289.0</td>\n      <td>88.581805</td>\n      <td>88.581805</td>\n      <td>0.0</td>\n    </tr>\n    <tr>\n      <th>Condado-Campiña</th>\n      <td>297.0</td>\n      <td>57.0</td>\n      <td>105.0</td>\n      <td>155057.0</td>\n      <td>36.760675</td>\n      <td>67.717033</td>\n      <td>2.0</td>\n    </tr>\n    <tr>\n      <th>Ayamonte</th>\n      <td>26.0</td>\n      <td>11.0</td>\n      <td>14.0</td>\n      <td>20946.0</td>\n      <td>52.515994</td>\n      <td>66.838537</td>\n      <td>0.0</td>\n    </tr>\n    <tr>\n      <th>Punta Umbría</th>\n      <td>23.0</td>\n      <td>3.0</td>\n      <td>9.0</td>\n      <td>15242.0</td>\n      <td>19.682456</td>\n      <td>59.047369</td>\n      <td>0.0</td>\n    </tr>\n    <tr>\n      <th>Lepe</th>\n      <td>65.0</td>\n      <td>10.0</td>\n      <td>16.0</td>\n      <td>27431.0</td>\n      <td>36.455106</td>\n      <td>58.328169</td>\n      <td>0.0</td>\n    </tr>\n    <tr>\n      <th>Huelva</th>\n      <td>979.0</td>\n      <td>161.0</td>\n      <td>276.0</td>\n      <td>510743.0</td>\n      <td>31.522703</td>\n      <td>54.038920</td>\n      <td>18.0</td>\n    </tr>\n    <tr>\n      <th>Trigueros</th>\n      <td>29.0</td>\n      <td>1.0</td>\n      <td>4.0</td>\n      <td>7713.0</td>\n      <td>12.965124</td>\n      <td>51.860495</td>\n      <td>0.0</td>\n    </tr>\n    <tr>\n      <th>Aljaraque</th>\n      <td>54.0</td>\n      <td>8.0</td>\n      <td>11.0</td>\n      <td>21260.0</td>\n      <td>37.629351</td>\n      <td>51.740357</td>\n      <td>2.0</td>\n    </tr>\n    <tr>\n      <th>Huelva-Costa</th>\n      <td>516.0</td>\n      <td>88.0</td>\n      <td>143.0</td>\n      <td>288115.0</td>\n      <td>30.543359</td>\n      <td>49.632959</td>\n      <td>13.0</td>\n    </tr>\n    <tr>\n      <th>Villarrasa</th>\n      <td>2.0</td>\n      <td>1.0</td>\n      <td>1.0</td>\n      <td>2176.0</td>\n      <td>45.955882</td>\n      <td>45.955882</td>\n      <td>0.0</td>\n    </tr>\n    <tr>\n      <th>Almonte</th>\n      <td>44.0</td>\n      <td>3.0</td>\n      <td>11.0</td>\n      <td>24191.0</td>\n      <td>12.401306</td>\n      <td>45.471456</td>\n      <td>0.0</td>\n    </tr>\n    <tr>\n      <th>Cerro de Andévalo (El)</th>\n      <td>1.0</td>\n      <td>1.0</td>\n      <td>1.0</td>\n      <td>2364.0</td>\n      <td>42.301184</td>\n      <td>42.301184</td>\n      <td>0.0</td>\n    </tr>\n    <tr>\n      <th>Valverde del Camino</th>\n      <td>26.0</td>\n      <td>3.0</td>\n      <td>5.0</td>\n      <td>12820.0</td>\n      <td>23.400936</td>\n      <td>39.001560</td>\n      <td>1.0</td>\n    </tr>\n    <tr>\n      <th>Villablanca</th>\n      <td>2.0</td>\n      <td>1.0</td>\n      <td>1.0</td>\n      <td>2848.0</td>\n      <td>35.112360</td>\n      <td>35.112360</td>\n      <td>0.0</td>\n    </tr>\n    <tr>\n      <th>Aroche</th>\n      <td>3.0</td>\n      <td>1.0</td>\n      <td>1.0</td>\n      <td>3073.0</td>\n      <td>32.541490</td>\n      <td>32.541490</td>\n      <td>NaN</td>\n    </tr>\n    <tr>\n      <th>Huelva (capital)</th>\n      <td>249.0</td>\n      <td>26.0</td>\n      <td>46.0</td>\n      <td>143663.0</td>\n      <td>18.097910</td>\n      <td>32.019379</td>\n      <td>7.0</td>\n    </tr>\n    <tr>\n      <th>Sierra de Huelva-Andévalo Central</th>\n      <td>149.0</td>\n      <td>10.0</td>\n      <td>19.0</td>\n      <td>67571.0</td>\n      <td>14.799248</td>\n      <td>28.118572</td>\n      <td>2.0</td>\n    </tr>\n    <tr>\n      <th>Cartaya</th>\n      <td>19.0</td>\n      <td>5.0</td>\n      <td>5.0</td>\n      <td>19974.0</td>\n      <td>25.032542</td>\n      <td>25.032542</td>\n      <td>0.0</td>\n    </tr>\n    <tr>\n      <th>Moguer</th>\n      <td>26.0</td>\n      <td>2.0</td>\n      <td>5.0</td>\n      <td>22088.0</td>\n      <td>9.054690</td>\n      <td>22.636726</td>\n      <td>0.0</td>\n    </tr>\n    <tr>\n      <th>Bonares</th>\n      <td>2.0</td>\n      <td>1.0</td>\n      <td>1.0</td>\n      <td>6058.0</td>\n      <td>16.507098</td>\n      <td>16.507098</td>\n      <td>NaN</td>\n    </tr>\n    <tr>\n      <th>San Juan del Puerto</th>\n      <td>18.0</td>\n      <td>1.0</td>\n      <td>1.0</td>\n      <td>9300.0</td>\n      <td>10.752688</td>\n      <td>10.752688</td>\n      <td>0.0</td>\n    </tr>\n  </tbody>\n</table>\n</div>"
     },
     "metadata": {},
     "execution_count": 16
    }
   ],
   "source": [
    "tabla.sort_values('tasa14', ascending=False)"
   ]
  },
  {
   "cell_type": "code",
   "execution_count": null,
   "metadata": {},
   "outputs": [],
   "source": []
  }
 ]
}