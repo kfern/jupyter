{
 "metadata": {
  "language_info": {
   "codemirror_mode": {
    "name": "ipython",
    "version": 3
   },
   "file_extension": ".py",
   "mimetype": "text/x-python",
   "name": "python",
   "nbconvert_exporter": "python",
   "pygments_lexer": "ipython3",
   "version": "3.9.5"
  },
  "orig_nbformat": 2,
  "kernelspec": {
   "name": "python3",
   "display_name": "Python 3.9.5 64-bit"
  },
  "interpreter": {
   "hash": "31f2aee4e71d21fbe5cf8b01ff0e069b9275f58929596ceb00d14d90e3e16cd6"
  }
 },
 "nbformat": 4,
 "nbformat_minor": 2,
 "cells": [
  {
   "cell_type": "code",
   "execution_count": 1,
   "metadata": {},
   "outputs": [],
   "source": [
    "import pandas as pd\n",
    "pd.set_option('display.max_rows', None) # Print all rows"
   ]
  },
  {
   "cell_type": "code",
   "execution_count": 2,
   "metadata": {},
   "outputs": [],
   "source": [
    "# FIX SSL: CERTIFICATE_VERIFY_FAILED with Python3\n",
    "# https://stackoverflow.com/a/49174340\n",
    "import ssl\n",
    "\n",
    "ssl._create_default_https_context = ssl._create_unverified_context"
   ]
  },
  {
   "cell_type": "code",
   "execution_count": 3,
   "metadata": {},
   "outputs": [],
   "source": [
    "url = 'https://www.juntadeandalucia.es/institutodeestadisticaycartografia/badea/stpivot/stpivot/Print?cube=013d884c-cfc5-4c21-9e78-e26225682afd&type=3&foto=si&ejecutaDesde=&codConsulta=38668&consTipoVisua=JP'\n",
    "fields = ['Lugar de residencia', 'Medida', 'Valor']\n",
    "df = pd.read_csv(url, delimiter=';', usecols=fields, decimal=',')"
   ]
  },
  {
   "cell_type": "code",
   "execution_count": 4,
   "metadata": {},
   "outputs": [
    {
     "output_type": "execute_result",
     "data": {
      "text/plain": [
       "  Lugar de residencia                    Medida               Valor\n",
       "0              Huelva                 Población              513170\n",
       "1              Huelva          Confirmados PDIA               34676\n",
       "2              Huelva  Confirmados PDIA 14 días                1150\n",
       "3              Huelva         Tasa PDIA 14 días  224,09727770524387\n",
       "4              Huelva   Confirmados PDIA 7 días                 655\n",
       "5              Huelva        Total Confirmados                34865\n",
       "6              Huelva                   Curados               32548\n",
       "7              Huelva                Fallecidos                 395"
      ],
      "text/html": "<div>\n<style scoped>\n    .dataframe tbody tr th:only-of-type {\n        vertical-align: middle;\n    }\n\n    .dataframe tbody tr th {\n        vertical-align: top;\n    }\n\n    .dataframe thead th {\n        text-align: right;\n    }\n</style>\n<table border=\"1\" class=\"dataframe\">\n  <thead>\n    <tr style=\"text-align: right;\">\n      <th></th>\n      <th>Lugar de residencia</th>\n      <th>Medida</th>\n      <th>Valor</th>\n    </tr>\n  </thead>\n  <tbody>\n    <tr>\n      <th>0</th>\n      <td>Huelva</td>\n      <td>Población</td>\n      <td>513170</td>\n    </tr>\n    <tr>\n      <th>1</th>\n      <td>Huelva</td>\n      <td>Confirmados PDIA</td>\n      <td>34676</td>\n    </tr>\n    <tr>\n      <th>2</th>\n      <td>Huelva</td>\n      <td>Confirmados PDIA 14 días</td>\n      <td>1150</td>\n    </tr>\n    <tr>\n      <th>3</th>\n      <td>Huelva</td>\n      <td>Tasa PDIA 14 días</td>\n      <td>224,09727770524387</td>\n    </tr>\n    <tr>\n      <th>4</th>\n      <td>Huelva</td>\n      <td>Confirmados PDIA 7 días</td>\n      <td>655</td>\n    </tr>\n    <tr>\n      <th>5</th>\n      <td>Huelva</td>\n      <td>Total Confirmados</td>\n      <td>34865</td>\n    </tr>\n    <tr>\n      <th>6</th>\n      <td>Huelva</td>\n      <td>Curados</td>\n      <td>32548</td>\n    </tr>\n    <tr>\n      <th>7</th>\n      <td>Huelva</td>\n      <td>Fallecidos</td>\n      <td>395</td>\n    </tr>\n  </tbody>\n</table>\n</div>"
     },
     "metadata": {},
     "execution_count": 4
    }
   ],
   "source": [
    "df[df['Lugar de residencia'] == 'Huelva']"
   ]
  },
  {
   "cell_type": "code",
   "execution_count": 5,
   "metadata": {},
   "outputs": [],
   "source": [
    "df['Valor'] = pd.to_numeric(df['Valor'],errors='coerce')"
   ]
  },
  {
   "cell_type": "code",
   "execution_count": 6,
   "metadata": {},
   "outputs": [],
   "source": [
    "dfAnterior = pd.read_csv('covid_huelva.csv', index_col='Lugar de residencia')"
   ]
  },
  {
   "cell_type": "code",
   "execution_count": 7,
   "metadata": {
    "tags": []
   },
   "outputs": [
    {
     "output_type": "stream",
     "name": "stdout",
     "text": [
      "Confirmados PCR en la provincia de Huelva:  34676.0\n",
      "/tmp/ipykernel_78105/1396922249.py:2: UserWarning: Boolean Series key will be reindexed to match DataFrame index.\n",
      "  p = df[df['Lugar de residencia'] == 'Huelva'][df['Medida'] == 'Confirmados PDIA']['Valor'].values[0]\n"
     ]
    }
   ],
   "source": [
    "# Confirmados PCR provincia Huelva\n",
    "p = df[df['Lugar de residencia'] == 'Huelva'][df['Medida'] == 'Confirmados PDIA']['Valor'].values[0]\n",
    "print('Confirmados PCR en la provincia de Huelva: ', p)"
   ]
  },
  {
   "cell_type": "code",
   "execution_count": 8,
   "metadata": {
    "tags": []
   },
   "outputs": [
    {
     "output_type": "stream",
     "name": "stdout",
     "text": [
      "Confirmados PCR en Huelva capital:  9508.0\n",
      "/tmp/ipykernel_78105/2509482988.py:2: UserWarning: Boolean Series key will be reindexed to match DataFrame index.\n",
      "  c = df[df['Lugar de residencia'] == 'Huelva (capital)'][df['Medida'] == 'Confirmados PDIA']['Valor'].values[0]\n"
     ]
    }
   ],
   "source": [
    "# Confirmados PCR Huelva capitalpd\n",
    "c = df[df['Lugar de residencia'] == 'Huelva (capital)'][df['Medida'] == 'Confirmados PDIA']['Valor'].values[0]\n",
    "print('Confirmados PCR en Huelva capital: ', c)"
   ]
  },
  {
   "cell_type": "code",
   "execution_count": 9,
   "metadata": {
    "tags": []
   },
   "outputs": [
    {
     "output_type": "stream",
     "name": "stderr",
     "text": [
      "/tmp/ipykernel_78105/2690025379.py:1: UserWarning: Boolean Series key will be reindexed to match DataFrame index.\n  c7 = df[df['Lugar de residencia'] == 'Huelva (capital)'][df['Medida'] == 'Confirmados PDIA 7 días']['Valor'].values[0]\n/tmp/ipykernel_78105/2690025379.py:2: UserWarning: Boolean Series key will be reindexed to match DataFrame index.\n  c14 = df[df['Lugar de residencia'] == 'Huelva (capital)'][df['Medida'] == 'Confirmados PDIA 14 días']['Valor'].values[0]\n/tmp/ipykernel_78105/2690025379.py:3: UserWarning: Boolean Series key will be reindexed to match DataFrame index.\n  p = df[df['Lugar de residencia'] == 'Huelva (capital)'][df['Medida'] == 'Población']['Valor'].values[0]\n"
     ]
    }
   ],
   "source": [
    "c7 = df[df['Lugar de residencia'] == 'Huelva (capital)'][df['Medida'] == 'Confirmados PDIA 7 días']['Valor'].values[0]\n",
    "c14 = df[df['Lugar de residencia'] == 'Huelva (capital)'][df['Medida'] == 'Confirmados PDIA 14 días']['Valor'].values[0]\n",
    "p = df[df['Lugar de residencia'] == 'Huelva (capital)'][df['Medida'] == 'Población']['Valor'].values[0]"
   ]
  },
  {
   "cell_type": "code",
   "execution_count": 10,
   "metadata": {
    "tags": []
   },
   "outputs": [
    {
     "output_type": "stream",
     "name": "stdout",
     "text": [
      "Huelva (capital)\n\nUn positivo PCR cada 682 personas en los últimos 7 días \n\nUn positivo PCR cada 433 personas en los últimos 14 días\n"
     ]
    }
   ],
   "source": [
    "print('Huelva (capital)\\n')\n",
    "#print('Confirmados PCR 7 días x 1,000 habitantes: ', f\"{c7/(p/1000):.5f}\")\n",
    "print('Un positivo PCR cada', f\"{p/c7:.0f}\", 'personas en los últimos 7 días', '\\n')\n",
    "#print('Confirmados PCR 14 días x 1,000 habitantes: ', f\"{c14/(p/1000):.5f}\")\n",
    "print('Un positivo PCR cada', f\"{p/c14:.0f}\", 'personas en los últimos 14 días')"
   ]
  },
  {
   "cell_type": "code",
   "execution_count": 11,
   "metadata": {},
   "outputs": [],
   "source": [
    "filtro = ((df['Medida'] == 'Confirmados PDIA')| (df['Medida'] == 'Confirmados PDIA 7 días') | (df['Medida'] == 'Población' ) | (df['Medida'] == 'Confirmados PDIA 14 días')) & (df['Valor'] > 0)\n",
    "tabla = pd.pivot_table(df.loc[filtro], values='Valor', index='Lugar de residencia', columns='Medida').dropna()"
   ]
  },
  {
   "cell_type": "code",
   "execution_count": 12,
   "metadata": {},
   "outputs": [],
   "source": [
    "# Reorder columns\n",
    "tabla = tabla[['Confirmados PDIA', 'Confirmados PDIA 7 días', 'Confirmados PDIA 14 días', 'Población']]"
   ]
  },
  {
   "cell_type": "code",
   "execution_count": 13,
   "metadata": {},
   "outputs": [],
   "source": [
    "tabla['tasa7'] = tabla['Confirmados PDIA 7 días']/tabla['Población']*100000\n",
    "tabla['tasa14'] = tabla['Confirmados PDIA 14 días']/tabla['Población']*100000"
   ]
  },
  {
   "cell_type": "code",
   "execution_count": 14,
   "metadata": {},
   "outputs": [],
   "source": [
    "tabla['Diferencia PDIA'] = tabla['Confirmados PDIA'] - dfAnterior['Confirmados PDIA']"
   ]
  },
  {
   "cell_type": "code",
   "execution_count": 15,
   "metadata": {},
   "outputs": [
    {
     "output_type": "execute_result",
     "data": {
      "text/plain": [
       "Medida                             Confirmados PDIA  Confirmados PDIA 7 días  \\\n",
       "Lugar de residencia                                                            \n",
       "Huelva                                      34676.0                    655.0   \n",
       "Huelva-Costa                                20120.0                    459.0   \n",
       "Huelva (capital)                             9508.0                    211.0   \n",
       "Condado-Campiña                             11184.0                    156.0   \n",
       "Palos de la Frontera                          761.0                     21.0   \n",
       "Lepe                                         2283.0                     63.0   \n",
       "Isla Cristina                                2366.0                     85.0   \n",
       "Sierra de Huelva-Andévalo Central            3001.0                     27.0   \n",
       "Moguer                                       1464.0                     27.0   \n",
       "Almonte                                      1956.0                     11.0   \n",
       "Valverde del Camino                           681.0                      3.0   \n",
       "San Bartolomé de la Torre                     313.0                      3.0   \n",
       "Punta Umbría                                  877.0                      8.0   \n",
       "Puebla de Guzmán                              147.0                      2.0   \n",
       "Villanueva de los Castillejos                 167.0                      2.0   \n",
       "Niebla                                        297.0                     31.0   \n",
       "Cartaya                                      1442.0                     15.0   \n",
       "Bonares                                       319.0                      5.0   \n",
       "Bollullos Par del Condado                    1060.0                      7.0   \n",
       "Ayamonte                                     1432.0                     35.0   \n",
       "Aracena                                       554.0                      9.0   \n",
       "Aljaraque                                    1225.0                     28.0   \n",
       "Cerro de Andévalo (El)                        162.0                      2.0   \n",
       "Cortegana                                     218.0                      1.0   \n",
       "Granado (El)                                   39.0                      1.0   \n",
       "Manzanilla                                    111.0                      1.0   \n",
       "\n",
       "Medida                             Confirmados PDIA 14 días  Población  \\\n",
       "Lugar de residencia                                                      \n",
       "Huelva                                               1150.0   513170.0   \n",
       "Huelva-Costa                                          793.0   289548.0   \n",
       "Huelva (capital)                                      332.0   143837.0   \n",
       "Condado-Campiña                                       290.0   156231.0   \n",
       "Palos de la Frontera                                   28.0    11742.0   \n",
       "Lepe                                                   97.0    27880.0   \n",
       "Isla Cristina                                         162.0    21393.0   \n",
       "Sierra de Huelva-Andévalo Central                      49.0    67391.0   \n",
       "Moguer                                                 46.0    21867.0   \n",
       "Almonte                                                36.0    24507.0   \n",
       "Valverde del Camino                                    11.0    12750.0   \n",
       "San Bartolomé de la Torre                               5.0     3761.0   \n",
       "Punta Umbría                                           17.0    15355.0   \n",
       "Puebla de Guzmán                                        5.0     3092.0   \n",
       "Villanueva de los Castillejos                           2.0     2825.0   \n",
       "Niebla                                                 48.0     4116.0   \n",
       "Cartaya                                                29.0    20083.0   \n",
       "Bonares                                                13.0     6060.0   \n",
       "Bollullos Par del Condado                              18.0    14387.0   \n",
       "Ayamonte                                               65.0    21104.0   \n",
       "Aracena                                                12.0     8255.0   \n",
       "Aljaraque                                              44.0    21474.0   \n",
       "Cerro de Andévalo (El)                                  5.0     2327.0   \n",
       "Cortegana                                               2.0     4602.0   \n",
       "Granado (El)                                            1.0      532.0   \n",
       "Manzanilla                                              2.0     2118.0   \n",
       "\n",
       "Medida                                  tasa7       tasa14  Diferencia PDIA  \n",
       "Lugar de residencia                                                          \n",
       "Huelva                             127.638015   224.097278            102.0  \n",
       "Huelva-Costa                       158.522939   273.875143             77.0  \n",
       "Huelva (capital)                   146.693827   230.816827             61.0  \n",
       "Condado-Campiña                     99.852142   185.622572             21.0  \n",
       "Palos de la Frontera               178.845171   238.460228             11.0  \n",
       "Lepe                               225.968436   347.919656              6.0  \n",
       "Isla Cristina                      397.326228   757.257047              5.0  \n",
       "Sierra de Huelva-Andévalo Central   40.064697    72.710006              5.0  \n",
       "Moguer                             123.473728   210.362647              3.0  \n",
       "Almonte                             44.885135   146.896805              2.0  \n",
       "Valverde del Camino                 23.529412    86.274510              1.0  \n",
       "San Bartolomé de la Torre           79.766020   132.943366              1.0  \n",
       "Punta Umbría                        52.100293   110.713123              1.0  \n",
       "Puebla de Guzmán                    64.683053   161.707633              1.0  \n",
       "Villanueva de los Castillejos       70.796460    70.796460              1.0  \n",
       "Niebla                             753.158406  1166.180758              1.0  \n",
       "Cartaya                             74.690036   144.400737              1.0  \n",
       "Bonares                             82.508251   214.521452              1.0  \n",
       "Bollullos Par del Condado           48.655036   125.112949              1.0  \n",
       "Ayamonte                           165.845337   307.998484              1.0  \n",
       "Aracena                            109.024833   145.366445              1.0  \n",
       "Aljaraque                          130.390239   204.898948             -1.0  \n",
       "Cerro de Andévalo (El)              85.947572   214.868930              NaN  \n",
       "Cortegana                           21.729683    43.459365              NaN  \n",
       "Granado (El)                       187.969925   187.969925              NaN  \n",
       "Manzanilla                          47.214353    94.428706              NaN  "
      ],
      "text/html": "<div>\n<style scoped>\n    .dataframe tbody tr th:only-of-type {\n        vertical-align: middle;\n    }\n\n    .dataframe tbody tr th {\n        vertical-align: top;\n    }\n\n    .dataframe thead th {\n        text-align: right;\n    }\n</style>\n<table border=\"1\" class=\"dataframe\">\n  <thead>\n    <tr style=\"text-align: right;\">\n      <th>Medida</th>\n      <th>Confirmados PDIA</th>\n      <th>Confirmados PDIA 7 días</th>\n      <th>Confirmados PDIA 14 días</th>\n      <th>Población</th>\n      <th>tasa7</th>\n      <th>tasa14</th>\n      <th>Diferencia PDIA</th>\n    </tr>\n    <tr>\n      <th>Lugar de residencia</th>\n      <th></th>\n      <th></th>\n      <th></th>\n      <th></th>\n      <th></th>\n      <th></th>\n      <th></th>\n    </tr>\n  </thead>\n  <tbody>\n    <tr>\n      <th>Huelva</th>\n      <td>34676.0</td>\n      <td>655.0</td>\n      <td>1150.0</td>\n      <td>513170.0</td>\n      <td>127.638015</td>\n      <td>224.097278</td>\n      <td>102.0</td>\n    </tr>\n    <tr>\n      <th>Huelva-Costa</th>\n      <td>20120.0</td>\n      <td>459.0</td>\n      <td>793.0</td>\n      <td>289548.0</td>\n      <td>158.522939</td>\n      <td>273.875143</td>\n      <td>77.0</td>\n    </tr>\n    <tr>\n      <th>Huelva (capital)</th>\n      <td>9508.0</td>\n      <td>211.0</td>\n      <td>332.0</td>\n      <td>143837.0</td>\n      <td>146.693827</td>\n      <td>230.816827</td>\n      <td>61.0</td>\n    </tr>\n    <tr>\n      <th>Condado-Campiña</th>\n      <td>11184.0</td>\n      <td>156.0</td>\n      <td>290.0</td>\n      <td>156231.0</td>\n      <td>99.852142</td>\n      <td>185.622572</td>\n      <td>21.0</td>\n    </tr>\n    <tr>\n      <th>Palos de la Frontera</th>\n      <td>761.0</td>\n      <td>21.0</td>\n      <td>28.0</td>\n      <td>11742.0</td>\n      <td>178.845171</td>\n      <td>238.460228</td>\n      <td>11.0</td>\n    </tr>\n    <tr>\n      <th>Lepe</th>\n      <td>2283.0</td>\n      <td>63.0</td>\n      <td>97.0</td>\n      <td>27880.0</td>\n      <td>225.968436</td>\n      <td>347.919656</td>\n      <td>6.0</td>\n    </tr>\n    <tr>\n      <th>Isla Cristina</th>\n      <td>2366.0</td>\n      <td>85.0</td>\n      <td>162.0</td>\n      <td>21393.0</td>\n      <td>397.326228</td>\n      <td>757.257047</td>\n      <td>5.0</td>\n    </tr>\n    <tr>\n      <th>Sierra de Huelva-Andévalo Central</th>\n      <td>3001.0</td>\n      <td>27.0</td>\n      <td>49.0</td>\n      <td>67391.0</td>\n      <td>40.064697</td>\n      <td>72.710006</td>\n      <td>5.0</td>\n    </tr>\n    <tr>\n      <th>Moguer</th>\n      <td>1464.0</td>\n      <td>27.0</td>\n      <td>46.0</td>\n      <td>21867.0</td>\n      <td>123.473728</td>\n      <td>210.362647</td>\n      <td>3.0</td>\n    </tr>\n    <tr>\n      <th>Almonte</th>\n      <td>1956.0</td>\n      <td>11.0</td>\n      <td>36.0</td>\n      <td>24507.0</td>\n      <td>44.885135</td>\n      <td>146.896805</td>\n      <td>2.0</td>\n    </tr>\n    <tr>\n      <th>Valverde del Camino</th>\n      <td>681.0</td>\n      <td>3.0</td>\n      <td>11.0</td>\n      <td>12750.0</td>\n      <td>23.529412</td>\n      <td>86.274510</td>\n      <td>1.0</td>\n    </tr>\n    <tr>\n      <th>San Bartolomé de la Torre</th>\n      <td>313.0</td>\n      <td>3.0</td>\n      <td>5.0</td>\n      <td>3761.0</td>\n      <td>79.766020</td>\n      <td>132.943366</td>\n      <td>1.0</td>\n    </tr>\n    <tr>\n      <th>Punta Umbría</th>\n      <td>877.0</td>\n      <td>8.0</td>\n      <td>17.0</td>\n      <td>15355.0</td>\n      <td>52.100293</td>\n      <td>110.713123</td>\n      <td>1.0</td>\n    </tr>\n    <tr>\n      <th>Puebla de Guzmán</th>\n      <td>147.0</td>\n      <td>2.0</td>\n      <td>5.0</td>\n      <td>3092.0</td>\n      <td>64.683053</td>\n      <td>161.707633</td>\n      <td>1.0</td>\n    </tr>\n    <tr>\n      <th>Villanueva de los Castillejos</th>\n      <td>167.0</td>\n      <td>2.0</td>\n      <td>2.0</td>\n      <td>2825.0</td>\n      <td>70.796460</td>\n      <td>70.796460</td>\n      <td>1.0</td>\n    </tr>\n    <tr>\n      <th>Niebla</th>\n      <td>297.0</td>\n      <td>31.0</td>\n      <td>48.0</td>\n      <td>4116.0</td>\n      <td>753.158406</td>\n      <td>1166.180758</td>\n      <td>1.0</td>\n    </tr>\n    <tr>\n      <th>Cartaya</th>\n      <td>1442.0</td>\n      <td>15.0</td>\n      <td>29.0</td>\n      <td>20083.0</td>\n      <td>74.690036</td>\n      <td>144.400737</td>\n      <td>1.0</td>\n    </tr>\n    <tr>\n      <th>Bonares</th>\n      <td>319.0</td>\n      <td>5.0</td>\n      <td>13.0</td>\n      <td>6060.0</td>\n      <td>82.508251</td>\n      <td>214.521452</td>\n      <td>1.0</td>\n    </tr>\n    <tr>\n      <th>Bollullos Par del Condado</th>\n      <td>1060.0</td>\n      <td>7.0</td>\n      <td>18.0</td>\n      <td>14387.0</td>\n      <td>48.655036</td>\n      <td>125.112949</td>\n      <td>1.0</td>\n    </tr>\n    <tr>\n      <th>Ayamonte</th>\n      <td>1432.0</td>\n      <td>35.0</td>\n      <td>65.0</td>\n      <td>21104.0</td>\n      <td>165.845337</td>\n      <td>307.998484</td>\n      <td>1.0</td>\n    </tr>\n    <tr>\n      <th>Aracena</th>\n      <td>554.0</td>\n      <td>9.0</td>\n      <td>12.0</td>\n      <td>8255.0</td>\n      <td>109.024833</td>\n      <td>145.366445</td>\n      <td>1.0</td>\n    </tr>\n    <tr>\n      <th>Aljaraque</th>\n      <td>1225.0</td>\n      <td>28.0</td>\n      <td>44.0</td>\n      <td>21474.0</td>\n      <td>130.390239</td>\n      <td>204.898948</td>\n      <td>-1.0</td>\n    </tr>\n    <tr>\n      <th>Cerro de Andévalo (El)</th>\n      <td>162.0</td>\n      <td>2.0</td>\n      <td>5.0</td>\n      <td>2327.0</td>\n      <td>85.947572</td>\n      <td>214.868930</td>\n      <td>NaN</td>\n    </tr>\n    <tr>\n      <th>Cortegana</th>\n      <td>218.0</td>\n      <td>1.0</td>\n      <td>2.0</td>\n      <td>4602.0</td>\n      <td>21.729683</td>\n      <td>43.459365</td>\n      <td>NaN</td>\n    </tr>\n    <tr>\n      <th>Granado (El)</th>\n      <td>39.0</td>\n      <td>1.0</td>\n      <td>1.0</td>\n      <td>532.0</td>\n      <td>187.969925</td>\n      <td>187.969925</td>\n      <td>NaN</td>\n    </tr>\n    <tr>\n      <th>Manzanilla</th>\n      <td>111.0</td>\n      <td>1.0</td>\n      <td>2.0</td>\n      <td>2118.0</td>\n      <td>47.214353</td>\n      <td>94.428706</td>\n      <td>NaN</td>\n    </tr>\n  </tbody>\n</table>\n</div>"
     },
     "metadata": {},
     "execution_count": 15
    }
   ],
   "source": [
    "# Nuevos casos desde la última captura\n",
    "tabla[tabla['Diferencia PDIA'] != 0].sort_values('Diferencia PDIA', ascending=False)"
   ]
  },
  {
   "cell_type": "code",
   "execution_count": 16,
   "metadata": {},
   "outputs": [],
   "source": [
    "if tabla[tabla['Diferencia PDIA'] != 0]['Diferencia PDIA'].sum() != 0:\n",
    "  # Save to csv\n",
    "  tabla.to_csv('covid_huelva.csv', encoding='utf-8', header=True, index=True)  "
   ]
  },
  {
   "cell_type": "code",
   "execution_count": 17,
   "metadata": {},
   "outputs": [
    {
     "output_type": "execute_result",
     "data": {
      "text/plain": [
       "Medida                             Confirmados PDIA  Confirmados PDIA 7 días  \\\n",
       "Lugar de residencia                                                            \n",
       "Santa Bárbara de Casa                          35.0                      4.0   \n",
       "Niebla                                        297.0                     31.0   \n",
       "Isla Cristina                                2366.0                     85.0   \n",
       "Zarza-Perrunal (La)                            33.0                      3.0   \n",
       "Alosno                                        207.0                      5.0   \n",
       "Puerto Moral                                    5.0                      1.0   \n",
       "Lepe                                         2283.0                     63.0   \n",
       "Lucena del Puerto                             279.0                      4.0   \n",
       "Ayamonte                                     1432.0                     35.0   \n",
       "Huelva-Costa                                20120.0                    459.0   \n",
       "Palos de la Frontera                          761.0                     21.0   \n",
       "Huelva (capital)                             9508.0                    211.0   \n",
       "Gibraleón                                     688.0                     13.0   \n",
       "Huelva                                      34676.0                    655.0   \n",
       "Cerro de Andévalo (El)                        162.0                      2.0   \n",
       "Bonares                                       319.0                      5.0   \n",
       "Moguer                                       1464.0                     27.0   \n",
       "Aljaraque                                    1225.0                     28.0   \n",
       "Granado (El)                                   39.0                      1.0   \n",
       "Condado-Campiña                             11184.0                    156.0   \n",
       "Palma del Condado (La)                       1219.0                     16.0   \n",
       "Rosal de la Frontera                           36.0                      1.0   \n",
       "San Juan del Puerto                           609.0                     11.0   \n",
       "Puebla de Guzmán                              147.0                      2.0   \n",
       "Almonte                                      1956.0                     11.0   \n",
       "Aracena                                       554.0                      9.0   \n",
       "Cartaya                                      1442.0                     15.0   \n",
       "San Bartolomé de la Torre                     313.0                      3.0   \n",
       "Bollullos Par del Condado                    1060.0                      7.0   \n",
       "Trigueros                                     344.0                      5.0   \n",
       "Punta Umbría                                  877.0                      8.0   \n",
       "Manzanilla                                    111.0                      1.0   \n",
       "Valverde del Camino                           681.0                      3.0   \n",
       "Sierra de Huelva-Andévalo Central            3001.0                     27.0   \n",
       "Villanueva de los Castillejos                 167.0                      2.0   \n",
       "Beas                                          235.0                      1.0   \n",
       "Cumbres Mayores                                55.0                      1.0   \n",
       "Minas de Riotinto                             131.0                      1.0   \n",
       "Campillo (El)                                  75.0                      1.0   \n",
       "Jabugo                                         68.0                      1.0   \n",
       "Cortegana                                     218.0                      1.0   \n",
       "Nerva                                         183.0                      1.0   \n",
       "Calañas                                       202.0                      1.0   \n",
       "Zalamea la Real                                95.0                      1.0   \n",
       "\n",
       "Medida                             Confirmados PDIA 14 días  Población  \\\n",
       "Lugar de residencia                                                      \n",
       "Santa Bárbara de Casa                                  19.0     1043.0   \n",
       "Niebla                                                 48.0     4116.0   \n",
       "Isla Cristina                                         162.0    21393.0   \n",
       "Zarza-Perrunal (La)                                     6.0     1253.0   \n",
       "Alosno                                                 18.0     3933.0   \n",
       "Puerto Moral                                            1.0      278.0   \n",
       "Lepe                                                   97.0    27880.0   \n",
       "Lucena del Puerto                                      11.0     3261.0   \n",
       "Ayamonte                                               65.0    21104.0   \n",
       "Huelva-Costa                                          793.0   289548.0   \n",
       "Palos de la Frontera                                   28.0    11742.0   \n",
       "Huelva (capital)                                      332.0   143837.0   \n",
       "Gibraleón                                              29.0    12737.0   \n",
       "Huelva                                               1150.0   513170.0   \n",
       "Cerro de Andévalo (El)                                  5.0     2327.0   \n",
       "Bonares                                                13.0     6060.0   \n",
       "Moguer                                                 46.0    21867.0   \n",
       "Aljaraque                                              44.0    21474.0   \n",
       "Granado (El)                                            1.0      532.0   \n",
       "Condado-Campiña                                       290.0   156231.0   \n",
       "Palma del Condado (La)                                 20.0    10801.0   \n",
       "Rosal de la Frontera                                    3.0     1697.0   \n",
       "San Juan del Puerto                                    16.0     9411.0   \n",
       "Puebla de Guzmán                                        5.0     3092.0   \n",
       "Almonte                                                36.0    24507.0   \n",
       "Aracena                                                12.0     8255.0   \n",
       "Cartaya                                                29.0    20083.0   \n",
       "San Bartolomé de la Torre                               5.0     3761.0   \n",
       "Bollullos Par del Condado                              18.0    14387.0   \n",
       "Trigueros                                               9.0     7862.0   \n",
       "Punta Umbría                                           17.0    15355.0   \n",
       "Manzanilla                                              2.0     2118.0   \n",
       "Valverde del Camino                                    11.0    12750.0   \n",
       "Sierra de Huelva-Andévalo Central                      49.0    67391.0   \n",
       "Villanueva de los Castillejos                           2.0     2825.0   \n",
       "Beas                                                    3.0     4341.0   \n",
       "Cumbres Mayores                                         1.0     1749.0   \n",
       "Minas de Riotinto                                       2.0     3812.0   \n",
       "Campillo (El)                                           1.0     2024.0   \n",
       "Jabugo                                                  1.0     2260.0   \n",
       "Cortegana                                               2.0     4602.0   \n",
       "Nerva                                                   2.0     5169.0   \n",
       "Calañas                                                 1.0     2768.0   \n",
       "Zalamea la Real                                         1.0     3054.0   \n",
       "\n",
       "Medida                                  tasa7       tasa14  Diferencia PDIA  \n",
       "Lugar de residencia                                                          \n",
       "Santa Bárbara de Casa              383.509108  1821.668265              0.0  \n",
       "Niebla                             753.158406  1166.180758              1.0  \n",
       "Isla Cristina                      397.326228   757.257047              5.0  \n",
       "Zarza-Perrunal (La)                239.425379   478.850758              0.0  \n",
       "Alosno                             127.129418   457.665904              0.0  \n",
       "Puerto Moral                       359.712230   359.712230              0.0  \n",
       "Lepe                               225.968436   347.919656              6.0  \n",
       "Lucena del Puerto                  122.661760   337.319841              0.0  \n",
       "Ayamonte                           165.845337   307.998484              1.0  \n",
       "Huelva-Costa                       158.522939   273.875143             77.0  \n",
       "Palos de la Frontera               178.845171   238.460228             11.0  \n",
       "Huelva (capital)                   146.693827   230.816827             61.0  \n",
       "Gibraleón                          102.064850   227.683128              0.0  \n",
       "Huelva                             127.638015   224.097278            102.0  \n",
       "Cerro de Andévalo (El)              85.947572   214.868930              NaN  \n",
       "Bonares                             82.508251   214.521452              1.0  \n",
       "Moguer                             123.473728   210.362647              3.0  \n",
       "Aljaraque                          130.390239   204.898948             -1.0  \n",
       "Granado (El)                       187.969925   187.969925              NaN  \n",
       "Condado-Campiña                     99.852142   185.622572             21.0  \n",
       "Palma del Condado (La)             148.134432   185.168040              0.0  \n",
       "Rosal de la Frontera                58.927519   176.782557              0.0  \n",
       "San Juan del Puerto                116.884497   170.013814              0.0  \n",
       "Puebla de Guzmán                    64.683053   161.707633              1.0  \n",
       "Almonte                             44.885135   146.896805              2.0  \n",
       "Aracena                            109.024833   145.366445              1.0  \n",
       "Cartaya                             74.690036   144.400737              1.0  \n",
       "San Bartolomé de la Torre           79.766020   132.943366              1.0  \n",
       "Bollullos Par del Condado           48.655036   125.112949              1.0  \n",
       "Trigueros                           63.597049   114.474688              0.0  \n",
       "Punta Umbría                        52.100293   110.713123              1.0  \n",
       "Manzanilla                          47.214353    94.428706              NaN  \n",
       "Valverde del Camino                 23.529412    86.274510              1.0  \n",
       "Sierra de Huelva-Andévalo Central   40.064697    72.710006              5.0  \n",
       "Villanueva de los Castillejos       70.796460    70.796460              1.0  \n",
       "Beas                                23.036167    69.108500              0.0  \n",
       "Cumbres Mayores                     57.175529    57.175529              0.0  \n",
       "Minas de Riotinto                   26.232949    52.465897              0.0  \n",
       "Campillo (El)                       49.407115    49.407115              0.0  \n",
       "Jabugo                              44.247788    44.247788              0.0  \n",
       "Cortegana                           21.729683    43.459365              NaN  \n",
       "Nerva                               19.346102    38.692204              0.0  \n",
       "Calañas                             36.127168    36.127168              0.0  \n",
       "Zalamea la Real                     32.743942    32.743942              0.0  "
      ],
      "text/html": "<div>\n<style scoped>\n    .dataframe tbody tr th:only-of-type {\n        vertical-align: middle;\n    }\n\n    .dataframe tbody tr th {\n        vertical-align: top;\n    }\n\n    .dataframe thead th {\n        text-align: right;\n    }\n</style>\n<table border=\"1\" class=\"dataframe\">\n  <thead>\n    <tr style=\"text-align: right;\">\n      <th>Medida</th>\n      <th>Confirmados PDIA</th>\n      <th>Confirmados PDIA 7 días</th>\n      <th>Confirmados PDIA 14 días</th>\n      <th>Población</th>\n      <th>tasa7</th>\n      <th>tasa14</th>\n      <th>Diferencia PDIA</th>\n    </tr>\n    <tr>\n      <th>Lugar de residencia</th>\n      <th></th>\n      <th></th>\n      <th></th>\n      <th></th>\n      <th></th>\n      <th></th>\n      <th></th>\n    </tr>\n  </thead>\n  <tbody>\n    <tr>\n      <th>Santa Bárbara de Casa</th>\n      <td>35.0</td>\n      <td>4.0</td>\n      <td>19.0</td>\n      <td>1043.0</td>\n      <td>383.509108</td>\n      <td>1821.668265</td>\n      <td>0.0</td>\n    </tr>\n    <tr>\n      <th>Niebla</th>\n      <td>297.0</td>\n      <td>31.0</td>\n      <td>48.0</td>\n      <td>4116.0</td>\n      <td>753.158406</td>\n      <td>1166.180758</td>\n      <td>1.0</td>\n    </tr>\n    <tr>\n      <th>Isla Cristina</th>\n      <td>2366.0</td>\n      <td>85.0</td>\n      <td>162.0</td>\n      <td>21393.0</td>\n      <td>397.326228</td>\n      <td>757.257047</td>\n      <td>5.0</td>\n    </tr>\n    <tr>\n      <th>Zarza-Perrunal (La)</th>\n      <td>33.0</td>\n      <td>3.0</td>\n      <td>6.0</td>\n      <td>1253.0</td>\n      <td>239.425379</td>\n      <td>478.850758</td>\n      <td>0.0</td>\n    </tr>\n    <tr>\n      <th>Alosno</th>\n      <td>207.0</td>\n      <td>5.0</td>\n      <td>18.0</td>\n      <td>3933.0</td>\n      <td>127.129418</td>\n      <td>457.665904</td>\n      <td>0.0</td>\n    </tr>\n    <tr>\n      <th>Puerto Moral</th>\n      <td>5.0</td>\n      <td>1.0</td>\n      <td>1.0</td>\n      <td>278.0</td>\n      <td>359.712230</td>\n      <td>359.712230</td>\n      <td>0.0</td>\n    </tr>\n    <tr>\n      <th>Lepe</th>\n      <td>2283.0</td>\n      <td>63.0</td>\n      <td>97.0</td>\n      <td>27880.0</td>\n      <td>225.968436</td>\n      <td>347.919656</td>\n      <td>6.0</td>\n    </tr>\n    <tr>\n      <th>Lucena del Puerto</th>\n      <td>279.0</td>\n      <td>4.0</td>\n      <td>11.0</td>\n      <td>3261.0</td>\n      <td>122.661760</td>\n      <td>337.319841</td>\n      <td>0.0</td>\n    </tr>\n    <tr>\n      <th>Ayamonte</th>\n      <td>1432.0</td>\n      <td>35.0</td>\n      <td>65.0</td>\n      <td>21104.0</td>\n      <td>165.845337</td>\n      <td>307.998484</td>\n      <td>1.0</td>\n    </tr>\n    <tr>\n      <th>Huelva-Costa</th>\n      <td>20120.0</td>\n      <td>459.0</td>\n      <td>793.0</td>\n      <td>289548.0</td>\n      <td>158.522939</td>\n      <td>273.875143</td>\n      <td>77.0</td>\n    </tr>\n    <tr>\n      <th>Palos de la Frontera</th>\n      <td>761.0</td>\n      <td>21.0</td>\n      <td>28.0</td>\n      <td>11742.0</td>\n      <td>178.845171</td>\n      <td>238.460228</td>\n      <td>11.0</td>\n    </tr>\n    <tr>\n      <th>Huelva (capital)</th>\n      <td>9508.0</td>\n      <td>211.0</td>\n      <td>332.0</td>\n      <td>143837.0</td>\n      <td>146.693827</td>\n      <td>230.816827</td>\n      <td>61.0</td>\n    </tr>\n    <tr>\n      <th>Gibraleón</th>\n      <td>688.0</td>\n      <td>13.0</td>\n      <td>29.0</td>\n      <td>12737.0</td>\n      <td>102.064850</td>\n      <td>227.683128</td>\n      <td>0.0</td>\n    </tr>\n    <tr>\n      <th>Huelva</th>\n      <td>34676.0</td>\n      <td>655.0</td>\n      <td>1150.0</td>\n      <td>513170.0</td>\n      <td>127.638015</td>\n      <td>224.097278</td>\n      <td>102.0</td>\n    </tr>\n    <tr>\n      <th>Cerro de Andévalo (El)</th>\n      <td>162.0</td>\n      <td>2.0</td>\n      <td>5.0</td>\n      <td>2327.0</td>\n      <td>85.947572</td>\n      <td>214.868930</td>\n      <td>NaN</td>\n    </tr>\n    <tr>\n      <th>Bonares</th>\n      <td>319.0</td>\n      <td>5.0</td>\n      <td>13.0</td>\n      <td>6060.0</td>\n      <td>82.508251</td>\n      <td>214.521452</td>\n      <td>1.0</td>\n    </tr>\n    <tr>\n      <th>Moguer</th>\n      <td>1464.0</td>\n      <td>27.0</td>\n      <td>46.0</td>\n      <td>21867.0</td>\n      <td>123.473728</td>\n      <td>210.362647</td>\n      <td>3.0</td>\n    </tr>\n    <tr>\n      <th>Aljaraque</th>\n      <td>1225.0</td>\n      <td>28.0</td>\n      <td>44.0</td>\n      <td>21474.0</td>\n      <td>130.390239</td>\n      <td>204.898948</td>\n      <td>-1.0</td>\n    </tr>\n    <tr>\n      <th>Granado (El)</th>\n      <td>39.0</td>\n      <td>1.0</td>\n      <td>1.0</td>\n      <td>532.0</td>\n      <td>187.969925</td>\n      <td>187.969925</td>\n      <td>NaN</td>\n    </tr>\n    <tr>\n      <th>Condado-Campiña</th>\n      <td>11184.0</td>\n      <td>156.0</td>\n      <td>290.0</td>\n      <td>156231.0</td>\n      <td>99.852142</td>\n      <td>185.622572</td>\n      <td>21.0</td>\n    </tr>\n    <tr>\n      <th>Palma del Condado (La)</th>\n      <td>1219.0</td>\n      <td>16.0</td>\n      <td>20.0</td>\n      <td>10801.0</td>\n      <td>148.134432</td>\n      <td>185.168040</td>\n      <td>0.0</td>\n    </tr>\n    <tr>\n      <th>Rosal de la Frontera</th>\n      <td>36.0</td>\n      <td>1.0</td>\n      <td>3.0</td>\n      <td>1697.0</td>\n      <td>58.927519</td>\n      <td>176.782557</td>\n      <td>0.0</td>\n    </tr>\n    <tr>\n      <th>San Juan del Puerto</th>\n      <td>609.0</td>\n      <td>11.0</td>\n      <td>16.0</td>\n      <td>9411.0</td>\n      <td>116.884497</td>\n      <td>170.013814</td>\n      <td>0.0</td>\n    </tr>\n    <tr>\n      <th>Puebla de Guzmán</th>\n      <td>147.0</td>\n      <td>2.0</td>\n      <td>5.0</td>\n      <td>3092.0</td>\n      <td>64.683053</td>\n      <td>161.707633</td>\n      <td>1.0</td>\n    </tr>\n    <tr>\n      <th>Almonte</th>\n      <td>1956.0</td>\n      <td>11.0</td>\n      <td>36.0</td>\n      <td>24507.0</td>\n      <td>44.885135</td>\n      <td>146.896805</td>\n      <td>2.0</td>\n    </tr>\n    <tr>\n      <th>Aracena</th>\n      <td>554.0</td>\n      <td>9.0</td>\n      <td>12.0</td>\n      <td>8255.0</td>\n      <td>109.024833</td>\n      <td>145.366445</td>\n      <td>1.0</td>\n    </tr>\n    <tr>\n      <th>Cartaya</th>\n      <td>1442.0</td>\n      <td>15.0</td>\n      <td>29.0</td>\n      <td>20083.0</td>\n      <td>74.690036</td>\n      <td>144.400737</td>\n      <td>1.0</td>\n    </tr>\n    <tr>\n      <th>San Bartolomé de la Torre</th>\n      <td>313.0</td>\n      <td>3.0</td>\n      <td>5.0</td>\n      <td>3761.0</td>\n      <td>79.766020</td>\n      <td>132.943366</td>\n      <td>1.0</td>\n    </tr>\n    <tr>\n      <th>Bollullos Par del Condado</th>\n      <td>1060.0</td>\n      <td>7.0</td>\n      <td>18.0</td>\n      <td>14387.0</td>\n      <td>48.655036</td>\n      <td>125.112949</td>\n      <td>1.0</td>\n    </tr>\n    <tr>\n      <th>Trigueros</th>\n      <td>344.0</td>\n      <td>5.0</td>\n      <td>9.0</td>\n      <td>7862.0</td>\n      <td>63.597049</td>\n      <td>114.474688</td>\n      <td>0.0</td>\n    </tr>\n    <tr>\n      <th>Punta Umbría</th>\n      <td>877.0</td>\n      <td>8.0</td>\n      <td>17.0</td>\n      <td>15355.0</td>\n      <td>52.100293</td>\n      <td>110.713123</td>\n      <td>1.0</td>\n    </tr>\n    <tr>\n      <th>Manzanilla</th>\n      <td>111.0</td>\n      <td>1.0</td>\n      <td>2.0</td>\n      <td>2118.0</td>\n      <td>47.214353</td>\n      <td>94.428706</td>\n      <td>NaN</td>\n    </tr>\n    <tr>\n      <th>Valverde del Camino</th>\n      <td>681.0</td>\n      <td>3.0</td>\n      <td>11.0</td>\n      <td>12750.0</td>\n      <td>23.529412</td>\n      <td>86.274510</td>\n      <td>1.0</td>\n    </tr>\n    <tr>\n      <th>Sierra de Huelva-Andévalo Central</th>\n      <td>3001.0</td>\n      <td>27.0</td>\n      <td>49.0</td>\n      <td>67391.0</td>\n      <td>40.064697</td>\n      <td>72.710006</td>\n      <td>5.0</td>\n    </tr>\n    <tr>\n      <th>Villanueva de los Castillejos</th>\n      <td>167.0</td>\n      <td>2.0</td>\n      <td>2.0</td>\n      <td>2825.0</td>\n      <td>70.796460</td>\n      <td>70.796460</td>\n      <td>1.0</td>\n    </tr>\n    <tr>\n      <th>Beas</th>\n      <td>235.0</td>\n      <td>1.0</td>\n      <td>3.0</td>\n      <td>4341.0</td>\n      <td>23.036167</td>\n      <td>69.108500</td>\n      <td>0.0</td>\n    </tr>\n    <tr>\n      <th>Cumbres Mayores</th>\n      <td>55.0</td>\n      <td>1.0</td>\n      <td>1.0</td>\n      <td>1749.0</td>\n      <td>57.175529</td>\n      <td>57.175529</td>\n      <td>0.0</td>\n    </tr>\n    <tr>\n      <th>Minas de Riotinto</th>\n      <td>131.0</td>\n      <td>1.0</td>\n      <td>2.0</td>\n      <td>3812.0</td>\n      <td>26.232949</td>\n      <td>52.465897</td>\n      <td>0.0</td>\n    </tr>\n    <tr>\n      <th>Campillo (El)</th>\n      <td>75.0</td>\n      <td>1.0</td>\n      <td>1.0</td>\n      <td>2024.0</td>\n      <td>49.407115</td>\n      <td>49.407115</td>\n      <td>0.0</td>\n    </tr>\n    <tr>\n      <th>Jabugo</th>\n      <td>68.0</td>\n      <td>1.0</td>\n      <td>1.0</td>\n      <td>2260.0</td>\n      <td>44.247788</td>\n      <td>44.247788</td>\n      <td>0.0</td>\n    </tr>\n    <tr>\n      <th>Cortegana</th>\n      <td>218.0</td>\n      <td>1.0</td>\n      <td>2.0</td>\n      <td>4602.0</td>\n      <td>21.729683</td>\n      <td>43.459365</td>\n      <td>NaN</td>\n    </tr>\n    <tr>\n      <th>Nerva</th>\n      <td>183.0</td>\n      <td>1.0</td>\n      <td>2.0</td>\n      <td>5169.0</td>\n      <td>19.346102</td>\n      <td>38.692204</td>\n      <td>0.0</td>\n    </tr>\n    <tr>\n      <th>Calañas</th>\n      <td>202.0</td>\n      <td>1.0</td>\n      <td>1.0</td>\n      <td>2768.0</td>\n      <td>36.127168</td>\n      <td>36.127168</td>\n      <td>0.0</td>\n    </tr>\n    <tr>\n      <th>Zalamea la Real</th>\n      <td>95.0</td>\n      <td>1.0</td>\n      <td>1.0</td>\n      <td>3054.0</td>\n      <td>32.743942</td>\n      <td>32.743942</td>\n      <td>0.0</td>\n    </tr>\n  </tbody>\n</table>\n</div>"
     },
     "metadata": {},
     "execution_count": 17
    }
   ],
   "source": [
    "tabla.sort_values('tasa14', ascending=False)"
   ]
  },
  {
   "cell_type": "code",
   "execution_count": 18,
   "metadata": {},
   "outputs": [
    {
     "output_type": "execute_result",
     "data": {
      "text/plain": [
       "Medida                             Confirmados PDIA  Confirmados PDIA 7 días  \\\n",
       "Lugar de residencia                                                            \n",
       "Santa Bárbara de Casa                          35.0                      4.0   \n",
       "Valverde del Camino                           681.0                      3.0   \n",
       "Alosno                                        207.0                      5.0   \n",
       "Almonte                                      1956.0                     11.0   \n",
       "Beas                                          235.0                      1.0   \n",
       "Rosal de la Frontera                           36.0                      1.0   \n",
       "Lucena del Puerto                             279.0                      4.0   \n",
       "Bonares                                       319.0                      5.0   \n",
       "Bollullos Par del Condado                    1060.0                      7.0   \n",
       "Cerro de Andévalo (El)                        162.0                      2.0   \n",
       "Puebla de Guzmán                              147.0                      2.0   \n",
       "Gibraleón                                     688.0                     13.0   \n",
       "Punta Umbría                                  877.0                      8.0   \n",
       "Zarza-Perrunal (La)                            33.0                      3.0   \n",
       "Cortegana                                     218.0                      1.0   \n",
       "Nerva                                         183.0                      1.0   \n",
       "Minas de Riotinto                             131.0                      1.0   \n",
       "Manzanilla                                    111.0                      1.0   \n",
       "Cartaya                                      1442.0                     15.0   \n",
       "Isla Cristina                                2366.0                     85.0   \n",
       "Condado-Campiña                             11184.0                    156.0   \n",
       "Ayamonte                                     1432.0                     35.0   \n",
       "Sierra de Huelva-Andévalo Central            3001.0                     27.0   \n",
       "Trigueros                                     344.0                      5.0   \n",
       "Huelva                                      34676.0                    655.0   \n",
       "Huelva-Costa                                20120.0                    459.0   \n",
       "Moguer                                       1464.0                     27.0   \n",
       "San Bartolomé de la Torre                     313.0                      3.0   \n",
       "Huelva (capital)                             9508.0                    211.0   \n",
       "Aljaraque                                    1225.0                     28.0   \n",
       "Niebla                                        297.0                     31.0   \n",
       "Lepe                                         2283.0                     63.0   \n",
       "San Juan del Puerto                           609.0                     11.0   \n",
       "Palos de la Frontera                          761.0                     21.0   \n",
       "Aracena                                       554.0                      9.0   \n",
       "Palma del Condado (La)                       1219.0                     16.0   \n",
       "Puerto Moral                                    5.0                      1.0   \n",
       "Zalamea la Real                                95.0                      1.0   \n",
       "Granado (El)                                   39.0                      1.0   \n",
       "Cumbres Mayores                                55.0                      1.0   \n",
       "Campillo (El)                                  75.0                      1.0   \n",
       "Calañas                                       202.0                      1.0   \n",
       "Villanueva de los Castillejos                 167.0                      2.0   \n",
       "Jabugo                                         68.0                      1.0   \n",
       "\n",
       "Medida                             Confirmados PDIA 14 días  Población  \\\n",
       "Lugar de residencia                                                      \n",
       "Santa Bárbara de Casa                                  19.0     1043.0   \n",
       "Valverde del Camino                                    11.0    12750.0   \n",
       "Alosno                                                 18.0     3933.0   \n",
       "Almonte                                                36.0    24507.0   \n",
       "Beas                                                    3.0     4341.0   \n",
       "Rosal de la Frontera                                    3.0     1697.0   \n",
       "Lucena del Puerto                                      11.0     3261.0   \n",
       "Bonares                                                13.0     6060.0   \n",
       "Bollullos Par del Condado                              18.0    14387.0   \n",
       "Cerro de Andévalo (El)                                  5.0     2327.0   \n",
       "Puebla de Guzmán                                        5.0     3092.0   \n",
       "Gibraleón                                              29.0    12737.0   \n",
       "Punta Umbría                                           17.0    15355.0   \n",
       "Zarza-Perrunal (La)                                     6.0     1253.0   \n",
       "Cortegana                                               2.0     4602.0   \n",
       "Nerva                                                   2.0     5169.0   \n",
       "Minas de Riotinto                                       2.0     3812.0   \n",
       "Manzanilla                                              2.0     2118.0   \n",
       "Cartaya                                                29.0    20083.0   \n",
       "Isla Cristina                                         162.0    21393.0   \n",
       "Condado-Campiña                                       290.0   156231.0   \n",
       "Ayamonte                                               65.0    21104.0   \n",
       "Sierra de Huelva-Andévalo Central                      49.0    67391.0   \n",
       "Trigueros                                               9.0     7862.0   \n",
       "Huelva                                               1150.0   513170.0   \n",
       "Huelva-Costa                                          793.0   289548.0   \n",
       "Moguer                                                 46.0    21867.0   \n",
       "San Bartolomé de la Torre                               5.0     3761.0   \n",
       "Huelva (capital)                                      332.0   143837.0   \n",
       "Aljaraque                                              44.0    21474.0   \n",
       "Niebla                                                 48.0     4116.0   \n",
       "Lepe                                                   97.0    27880.0   \n",
       "San Juan del Puerto                                    16.0     9411.0   \n",
       "Palos de la Frontera                                   28.0    11742.0   \n",
       "Aracena                                                12.0     8255.0   \n",
       "Palma del Condado (La)                                 20.0    10801.0   \n",
       "Puerto Moral                                            1.0      278.0   \n",
       "Zalamea la Real                                         1.0     3054.0   \n",
       "Granado (El)                                            1.0      532.0   \n",
       "Cumbres Mayores                                         1.0     1749.0   \n",
       "Campillo (El)                                           1.0     2024.0   \n",
       "Calañas                                                 1.0     2768.0   \n",
       "Villanueva de los Castillejos                           2.0     2825.0   \n",
       "Jabugo                                                  1.0     2260.0   \n",
       "\n",
       "Medida                                  tasa7       tasa14  Diferencia PDIA  \\\n",
       "Lugar de residencia                                                           \n",
       "Santa Bárbara de Casa              383.509108  1821.668265              0.0   \n",
       "Valverde del Camino                 23.529412    86.274510              1.0   \n",
       "Alosno                             127.129418   457.665904              0.0   \n",
       "Almonte                             44.885135   146.896805              2.0   \n",
       "Beas                                23.036167    69.108500              0.0   \n",
       "Rosal de la Frontera                58.927519   176.782557              0.0   \n",
       "Lucena del Puerto                  122.661760   337.319841              0.0   \n",
       "Bonares                             82.508251   214.521452              1.0   \n",
       "Bollullos Par del Condado           48.655036   125.112949              1.0   \n",
       "Cerro de Andévalo (El)              85.947572   214.868930              0.0   \n",
       "Puebla de Guzmán                    64.683053   161.707633              1.0   \n",
       "Gibraleón                          102.064850   227.683128              0.0   \n",
       "Punta Umbría                        52.100293   110.713123              1.0   \n",
       "Zarza-Perrunal (La)                239.425379   478.850758              0.0   \n",
       "Cortegana                           21.729683    43.459365              0.0   \n",
       "Nerva                               19.346102    38.692204              0.0   \n",
       "Minas de Riotinto                   26.232949    52.465897              0.0   \n",
       "Manzanilla                          47.214353    94.428706              0.0   \n",
       "Cartaya                             74.690036   144.400737              1.0   \n",
       "Isla Cristina                      397.326228   757.257047              5.0   \n",
       "Condado-Campiña                     99.852142   185.622572             21.0   \n",
       "Ayamonte                           165.845337   307.998484              1.0   \n",
       "Sierra de Huelva-Andévalo Central   40.064697    72.710006              5.0   \n",
       "Trigueros                           63.597049   114.474688              0.0   \n",
       "Huelva                             127.638015   224.097278            102.0   \n",
       "Huelva-Costa                       158.522939   273.875143             77.0   \n",
       "Moguer                             123.473728   210.362647              3.0   \n",
       "San Bartolomé de la Torre           79.766020   132.943366              1.0   \n",
       "Huelva (capital)                   146.693827   230.816827             61.0   \n",
       "Aljaraque                          130.390239   204.898948             -1.0   \n",
       "Niebla                             753.158406  1166.180758              1.0   \n",
       "Lepe                               225.968436   347.919656              6.0   \n",
       "San Juan del Puerto                116.884497   170.013814              0.0   \n",
       "Palos de la Frontera               178.845171   238.460228             11.0   \n",
       "Aracena                            109.024833   145.366445              1.0   \n",
       "Palma del Condado (La)             148.134432   185.168040              0.0   \n",
       "Puerto Moral                       359.712230   359.712230              0.0   \n",
       "Zalamea la Real                     32.743942    32.743942              0.0   \n",
       "Granado (El)                       187.969925   187.969925              0.0   \n",
       "Cumbres Mayores                     57.175529    57.175529              0.0   \n",
       "Campillo (El)                       49.407115    49.407115              0.0   \n",
       "Calañas                             36.127168    36.127168              0.0   \n",
       "Villanueva de los Castillejos       70.796460    70.796460              1.0   \n",
       "Jabugo                              44.247788    44.247788              0.0   \n",
       "\n",
       "Medida                                 7/14  \n",
       "Lugar de residencia                          \n",
       "Santa Bárbara de Casa              0.210526  \n",
       "Valverde del Camino                0.272727  \n",
       "Alosno                             0.277778  \n",
       "Almonte                            0.305556  \n",
       "Beas                               0.333333  \n",
       "Rosal de la Frontera               0.333333  \n",
       "Lucena del Puerto                  0.363636  \n",
       "Bonares                            0.384615  \n",
       "Bollullos Par del Condado          0.388889  \n",
       "Cerro de Andévalo (El)             0.400000  \n",
       "Puebla de Guzmán                   0.400000  \n",
       "Gibraleón                          0.448276  \n",
       "Punta Umbría                       0.470588  \n",
       "Zarza-Perrunal (La)                0.500000  \n",
       "Cortegana                          0.500000  \n",
       "Nerva                              0.500000  \n",
       "Minas de Riotinto                  0.500000  \n",
       "Manzanilla                         0.500000  \n",
       "Cartaya                            0.517241  \n",
       "Isla Cristina                      0.524691  \n",
       "Condado-Campiña                    0.537931  \n",
       "Ayamonte                           0.538462  \n",
       "Sierra de Huelva-Andévalo Central  0.551020  \n",
       "Trigueros                          0.555556  \n",
       "Huelva                             0.569565  \n",
       "Huelva-Costa                       0.578815  \n",
       "Moguer                             0.586957  \n",
       "San Bartolomé de la Torre          0.600000  \n",
       "Huelva (capital)                   0.635542  \n",
       "Aljaraque                          0.636364  \n",
       "Niebla                             0.645833  \n",
       "Lepe                               0.649485  \n",
       "San Juan del Puerto                0.687500  \n",
       "Palos de la Frontera               0.750000  \n",
       "Aracena                            0.750000  \n",
       "Palma del Condado (La)             0.800000  \n",
       "Puerto Moral                       1.000000  \n",
       "Zalamea la Real                    1.000000  \n",
       "Granado (El)                       1.000000  \n",
       "Cumbres Mayores                    1.000000  \n",
       "Campillo (El)                      1.000000  \n",
       "Calañas                            1.000000  \n",
       "Villanueva de los Castillejos      1.000000  \n",
       "Jabugo                             1.000000  "
      ],
      "text/html": "<div>\n<style scoped>\n    .dataframe tbody tr th:only-of-type {\n        vertical-align: middle;\n    }\n\n    .dataframe tbody tr th {\n        vertical-align: top;\n    }\n\n    .dataframe thead th {\n        text-align: right;\n    }\n</style>\n<table border=\"1\" class=\"dataframe\">\n  <thead>\n    <tr style=\"text-align: right;\">\n      <th>Medida</th>\n      <th>Confirmados PDIA</th>\n      <th>Confirmados PDIA 7 días</th>\n      <th>Confirmados PDIA 14 días</th>\n      <th>Población</th>\n      <th>tasa7</th>\n      <th>tasa14</th>\n      <th>Diferencia PDIA</th>\n      <th>7/14</th>\n    </tr>\n    <tr>\n      <th>Lugar de residencia</th>\n      <th></th>\n      <th></th>\n      <th></th>\n      <th></th>\n      <th></th>\n      <th></th>\n      <th></th>\n      <th></th>\n    </tr>\n  </thead>\n  <tbody>\n    <tr>\n      <th>Santa Bárbara de Casa</th>\n      <td>35.0</td>\n      <td>4.0</td>\n      <td>19.0</td>\n      <td>1043.0</td>\n      <td>383.509108</td>\n      <td>1821.668265</td>\n      <td>0.0</td>\n      <td>0.210526</td>\n    </tr>\n    <tr>\n      <th>Valverde del Camino</th>\n      <td>681.0</td>\n      <td>3.0</td>\n      <td>11.0</td>\n      <td>12750.0</td>\n      <td>23.529412</td>\n      <td>86.274510</td>\n      <td>1.0</td>\n      <td>0.272727</td>\n    </tr>\n    <tr>\n      <th>Alosno</th>\n      <td>207.0</td>\n      <td>5.0</td>\n      <td>18.0</td>\n      <td>3933.0</td>\n      <td>127.129418</td>\n      <td>457.665904</td>\n      <td>0.0</td>\n      <td>0.277778</td>\n    </tr>\n    <tr>\n      <th>Almonte</th>\n      <td>1956.0</td>\n      <td>11.0</td>\n      <td>36.0</td>\n      <td>24507.0</td>\n      <td>44.885135</td>\n      <td>146.896805</td>\n      <td>2.0</td>\n      <td>0.305556</td>\n    </tr>\n    <tr>\n      <th>Beas</th>\n      <td>235.0</td>\n      <td>1.0</td>\n      <td>3.0</td>\n      <td>4341.0</td>\n      <td>23.036167</td>\n      <td>69.108500</td>\n      <td>0.0</td>\n      <td>0.333333</td>\n    </tr>\n    <tr>\n      <th>Rosal de la Frontera</th>\n      <td>36.0</td>\n      <td>1.0</td>\n      <td>3.0</td>\n      <td>1697.0</td>\n      <td>58.927519</td>\n      <td>176.782557</td>\n      <td>0.0</td>\n      <td>0.333333</td>\n    </tr>\n    <tr>\n      <th>Lucena del Puerto</th>\n      <td>279.0</td>\n      <td>4.0</td>\n      <td>11.0</td>\n      <td>3261.0</td>\n      <td>122.661760</td>\n      <td>337.319841</td>\n      <td>0.0</td>\n      <td>0.363636</td>\n    </tr>\n    <tr>\n      <th>Bonares</th>\n      <td>319.0</td>\n      <td>5.0</td>\n      <td>13.0</td>\n      <td>6060.0</td>\n      <td>82.508251</td>\n      <td>214.521452</td>\n      <td>1.0</td>\n      <td>0.384615</td>\n    </tr>\n    <tr>\n      <th>Bollullos Par del Condado</th>\n      <td>1060.0</td>\n      <td>7.0</td>\n      <td>18.0</td>\n      <td>14387.0</td>\n      <td>48.655036</td>\n      <td>125.112949</td>\n      <td>1.0</td>\n      <td>0.388889</td>\n    </tr>\n    <tr>\n      <th>Cerro de Andévalo (El)</th>\n      <td>162.0</td>\n      <td>2.0</td>\n      <td>5.0</td>\n      <td>2327.0</td>\n      <td>85.947572</td>\n      <td>214.868930</td>\n      <td>0.0</td>\n      <td>0.400000</td>\n    </tr>\n    <tr>\n      <th>Puebla de Guzmán</th>\n      <td>147.0</td>\n      <td>2.0</td>\n      <td>5.0</td>\n      <td>3092.0</td>\n      <td>64.683053</td>\n      <td>161.707633</td>\n      <td>1.0</td>\n      <td>0.400000</td>\n    </tr>\n    <tr>\n      <th>Gibraleón</th>\n      <td>688.0</td>\n      <td>13.0</td>\n      <td>29.0</td>\n      <td>12737.0</td>\n      <td>102.064850</td>\n      <td>227.683128</td>\n      <td>0.0</td>\n      <td>0.448276</td>\n    </tr>\n    <tr>\n      <th>Punta Umbría</th>\n      <td>877.0</td>\n      <td>8.0</td>\n      <td>17.0</td>\n      <td>15355.0</td>\n      <td>52.100293</td>\n      <td>110.713123</td>\n      <td>1.0</td>\n      <td>0.470588</td>\n    </tr>\n    <tr>\n      <th>Zarza-Perrunal (La)</th>\n      <td>33.0</td>\n      <td>3.0</td>\n      <td>6.0</td>\n      <td>1253.0</td>\n      <td>239.425379</td>\n      <td>478.850758</td>\n      <td>0.0</td>\n      <td>0.500000</td>\n    </tr>\n    <tr>\n      <th>Cortegana</th>\n      <td>218.0</td>\n      <td>1.0</td>\n      <td>2.0</td>\n      <td>4602.0</td>\n      <td>21.729683</td>\n      <td>43.459365</td>\n      <td>0.0</td>\n      <td>0.500000</td>\n    </tr>\n    <tr>\n      <th>Nerva</th>\n      <td>183.0</td>\n      <td>1.0</td>\n      <td>2.0</td>\n      <td>5169.0</td>\n      <td>19.346102</td>\n      <td>38.692204</td>\n      <td>0.0</td>\n      <td>0.500000</td>\n    </tr>\n    <tr>\n      <th>Minas de Riotinto</th>\n      <td>131.0</td>\n      <td>1.0</td>\n      <td>2.0</td>\n      <td>3812.0</td>\n      <td>26.232949</td>\n      <td>52.465897</td>\n      <td>0.0</td>\n      <td>0.500000</td>\n    </tr>\n    <tr>\n      <th>Manzanilla</th>\n      <td>111.0</td>\n      <td>1.0</td>\n      <td>2.0</td>\n      <td>2118.0</td>\n      <td>47.214353</td>\n      <td>94.428706</td>\n      <td>0.0</td>\n      <td>0.500000</td>\n    </tr>\n    <tr>\n      <th>Cartaya</th>\n      <td>1442.0</td>\n      <td>15.0</td>\n      <td>29.0</td>\n      <td>20083.0</td>\n      <td>74.690036</td>\n      <td>144.400737</td>\n      <td>1.0</td>\n      <td>0.517241</td>\n    </tr>\n    <tr>\n      <th>Isla Cristina</th>\n      <td>2366.0</td>\n      <td>85.0</td>\n      <td>162.0</td>\n      <td>21393.0</td>\n      <td>397.326228</td>\n      <td>757.257047</td>\n      <td>5.0</td>\n      <td>0.524691</td>\n    </tr>\n    <tr>\n      <th>Condado-Campiña</th>\n      <td>11184.0</td>\n      <td>156.0</td>\n      <td>290.0</td>\n      <td>156231.0</td>\n      <td>99.852142</td>\n      <td>185.622572</td>\n      <td>21.0</td>\n      <td>0.537931</td>\n    </tr>\n    <tr>\n      <th>Ayamonte</th>\n      <td>1432.0</td>\n      <td>35.0</td>\n      <td>65.0</td>\n      <td>21104.0</td>\n      <td>165.845337</td>\n      <td>307.998484</td>\n      <td>1.0</td>\n      <td>0.538462</td>\n    </tr>\n    <tr>\n      <th>Sierra de Huelva-Andévalo Central</th>\n      <td>3001.0</td>\n      <td>27.0</td>\n      <td>49.0</td>\n      <td>67391.0</td>\n      <td>40.064697</td>\n      <td>72.710006</td>\n      <td>5.0</td>\n      <td>0.551020</td>\n    </tr>\n    <tr>\n      <th>Trigueros</th>\n      <td>344.0</td>\n      <td>5.0</td>\n      <td>9.0</td>\n      <td>7862.0</td>\n      <td>63.597049</td>\n      <td>114.474688</td>\n      <td>0.0</td>\n      <td>0.555556</td>\n    </tr>\n    <tr>\n      <th>Huelva</th>\n      <td>34676.0</td>\n      <td>655.0</td>\n      <td>1150.0</td>\n      <td>513170.0</td>\n      <td>127.638015</td>\n      <td>224.097278</td>\n      <td>102.0</td>\n      <td>0.569565</td>\n    </tr>\n    <tr>\n      <th>Huelva-Costa</th>\n      <td>20120.0</td>\n      <td>459.0</td>\n      <td>793.0</td>\n      <td>289548.0</td>\n      <td>158.522939</td>\n      <td>273.875143</td>\n      <td>77.0</td>\n      <td>0.578815</td>\n    </tr>\n    <tr>\n      <th>Moguer</th>\n      <td>1464.0</td>\n      <td>27.0</td>\n      <td>46.0</td>\n      <td>21867.0</td>\n      <td>123.473728</td>\n      <td>210.362647</td>\n      <td>3.0</td>\n      <td>0.586957</td>\n    </tr>\n    <tr>\n      <th>San Bartolomé de la Torre</th>\n      <td>313.0</td>\n      <td>3.0</td>\n      <td>5.0</td>\n      <td>3761.0</td>\n      <td>79.766020</td>\n      <td>132.943366</td>\n      <td>1.0</td>\n      <td>0.600000</td>\n    </tr>\n    <tr>\n      <th>Huelva (capital)</th>\n      <td>9508.0</td>\n      <td>211.0</td>\n      <td>332.0</td>\n      <td>143837.0</td>\n      <td>146.693827</td>\n      <td>230.816827</td>\n      <td>61.0</td>\n      <td>0.635542</td>\n    </tr>\n    <tr>\n      <th>Aljaraque</th>\n      <td>1225.0</td>\n      <td>28.0</td>\n      <td>44.0</td>\n      <td>21474.0</td>\n      <td>130.390239</td>\n      <td>204.898948</td>\n      <td>-1.0</td>\n      <td>0.636364</td>\n    </tr>\n    <tr>\n      <th>Niebla</th>\n      <td>297.0</td>\n      <td>31.0</td>\n      <td>48.0</td>\n      <td>4116.0</td>\n      <td>753.158406</td>\n      <td>1166.180758</td>\n      <td>1.0</td>\n      <td>0.645833</td>\n    </tr>\n    <tr>\n      <th>Lepe</th>\n      <td>2283.0</td>\n      <td>63.0</td>\n      <td>97.0</td>\n      <td>27880.0</td>\n      <td>225.968436</td>\n      <td>347.919656</td>\n      <td>6.0</td>\n      <td>0.649485</td>\n    </tr>\n    <tr>\n      <th>San Juan del Puerto</th>\n      <td>609.0</td>\n      <td>11.0</td>\n      <td>16.0</td>\n      <td>9411.0</td>\n      <td>116.884497</td>\n      <td>170.013814</td>\n      <td>0.0</td>\n      <td>0.687500</td>\n    </tr>\n    <tr>\n      <th>Palos de la Frontera</th>\n      <td>761.0</td>\n      <td>21.0</td>\n      <td>28.0</td>\n      <td>11742.0</td>\n      <td>178.845171</td>\n      <td>238.460228</td>\n      <td>11.0</td>\n      <td>0.750000</td>\n    </tr>\n    <tr>\n      <th>Aracena</th>\n      <td>554.0</td>\n      <td>9.0</td>\n      <td>12.0</td>\n      <td>8255.0</td>\n      <td>109.024833</td>\n      <td>145.366445</td>\n      <td>1.0</td>\n      <td>0.750000</td>\n    </tr>\n    <tr>\n      <th>Palma del Condado (La)</th>\n      <td>1219.0</td>\n      <td>16.0</td>\n      <td>20.0</td>\n      <td>10801.0</td>\n      <td>148.134432</td>\n      <td>185.168040</td>\n      <td>0.0</td>\n      <td>0.800000</td>\n    </tr>\n    <tr>\n      <th>Puerto Moral</th>\n      <td>5.0</td>\n      <td>1.0</td>\n      <td>1.0</td>\n      <td>278.0</td>\n      <td>359.712230</td>\n      <td>359.712230</td>\n      <td>0.0</td>\n      <td>1.000000</td>\n    </tr>\n    <tr>\n      <th>Zalamea la Real</th>\n      <td>95.0</td>\n      <td>1.0</td>\n      <td>1.0</td>\n      <td>3054.0</td>\n      <td>32.743942</td>\n      <td>32.743942</td>\n      <td>0.0</td>\n      <td>1.000000</td>\n    </tr>\n    <tr>\n      <th>Granado (El)</th>\n      <td>39.0</td>\n      <td>1.0</td>\n      <td>1.0</td>\n      <td>532.0</td>\n      <td>187.969925</td>\n      <td>187.969925</td>\n      <td>0.0</td>\n      <td>1.000000</td>\n    </tr>\n    <tr>\n      <th>Cumbres Mayores</th>\n      <td>55.0</td>\n      <td>1.0</td>\n      <td>1.0</td>\n      <td>1749.0</td>\n      <td>57.175529</td>\n      <td>57.175529</td>\n      <td>0.0</td>\n      <td>1.000000</td>\n    </tr>\n    <tr>\n      <th>Campillo (El)</th>\n      <td>75.0</td>\n      <td>1.0</td>\n      <td>1.0</td>\n      <td>2024.0</td>\n      <td>49.407115</td>\n      <td>49.407115</td>\n      <td>0.0</td>\n      <td>1.000000</td>\n    </tr>\n    <tr>\n      <th>Calañas</th>\n      <td>202.0</td>\n      <td>1.0</td>\n      <td>1.0</td>\n      <td>2768.0</td>\n      <td>36.127168</td>\n      <td>36.127168</td>\n      <td>0.0</td>\n      <td>1.000000</td>\n    </tr>\n    <tr>\n      <th>Villanueva de los Castillejos</th>\n      <td>167.0</td>\n      <td>2.0</td>\n      <td>2.0</td>\n      <td>2825.0</td>\n      <td>70.796460</td>\n      <td>70.796460</td>\n      <td>1.0</td>\n      <td>1.000000</td>\n    </tr>\n    <tr>\n      <th>Jabugo</th>\n      <td>68.0</td>\n      <td>1.0</td>\n      <td>1.0</td>\n      <td>2260.0</td>\n      <td>44.247788</td>\n      <td>44.247788</td>\n      <td>0.0</td>\n      <td>1.000000</td>\n    </tr>\n  </tbody>\n</table>\n</div>"
     },
     "metadata": {},
     "execution_count": 18
    }
   ],
   "source": [
    "# Peso de la tasa de la última semana en relación con la tasa a 14 días \n",
    "# Mejor cuanto menor. Valor 1 significa que no había casos antes de 7 días.\n",
    "tabla['7/14'] = tabla['tasa7'] / tabla['tasa14']\n",
    "tabla.fillna(0).sort_values('7/14', ascending=True)"
   ]
  },
  {
   "cell_type": "code",
   "execution_count": null,
   "metadata": {},
   "outputs": [],
   "source": []
  }
 ]
}