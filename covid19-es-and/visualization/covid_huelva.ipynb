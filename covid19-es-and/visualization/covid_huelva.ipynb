{
 "metadata": {
  "language_info": {
   "codemirror_mode": {
    "name": "ipython",
    "version": 3
   },
   "file_extension": ".py",
   "mimetype": "text/x-python",
   "name": "python",
   "nbconvert_exporter": "python",
   "pygments_lexer": "ipython3",
   "version": "3.8.6-final"
  },
  "orig_nbformat": 2,
  "kernelspec": {
   "name": "python38564bit75945252d6ba481bad4868286020c89e",
   "display_name": "Python 3.8.5 64-bit",
   "language": "python"
  }
 },
 "nbformat": 4,
 "nbformat_minor": 2,
 "cells": [
  {
   "cell_type": "code",
   "execution_count": 1,
   "metadata": {},
   "outputs": [],
   "source": [
    "import pandas as pd\n",
    "pd.set_option('display.max_rows', None) # Print all rows"
   ]
  },
  {
   "cell_type": "code",
   "execution_count": 2,
   "metadata": {},
   "outputs": [],
   "source": [
    "# FIX SSL: CERTIFICATE_VERIFY_FAILED with Python3\n",
    "# https://stackoverflow.com/a/49174340\n",
    "import ssl\n",
    "\n",
    "ssl._create_default_https_context = ssl._create_unverified_context"
   ]
  },
  {
   "cell_type": "code",
   "execution_count": 3,
   "metadata": {},
   "outputs": [],
   "source": [
    "url = 'https://www.juntadeandalucia.es/institutodeestadisticaycartografia/badea/stpivot/stpivot/Print?cube=013d884c-cfc5-4c21-9e78-e26225682afd&type=3&foto=si&ejecutaDesde=&codConsulta=38668&consTipoVisua=JP'\n",
    "fields = ['Lugar de residencia', 'Medida', 'Valor']\n",
    "df = pd.read_csv(url, delimiter=';', usecols=fields, decimal=',')"
   ]
  },
  {
   "cell_type": "code",
   "execution_count": 4,
   "metadata": {},
   "outputs": [
    {
     "output_type": "execute_result",
     "data": {
      "text/plain": [
       "  Lugar de residencia                    Medida               Valor\n",
       "0              Huelva                 Población              513170\n",
       "1              Huelva          Confirmados PDIA               24326\n",
       "2              Huelva  Confirmados PDIA 14 días                 894\n",
       "3              Huelva         Tasa PDIA 14 días  174,21127501607654\n",
       "4              Huelva   Confirmados PDIA 7 días                 279\n",
       "5              Huelva        Total Confirmados                24554\n",
       "6              Huelva                   Curados               14436\n",
       "7              Huelva                Fallecidos                 278"
      ],
      "text/html": "<div>\n<style scoped>\n    .dataframe tbody tr th:only-of-type {\n        vertical-align: middle;\n    }\n\n    .dataframe tbody tr th {\n        vertical-align: top;\n    }\n\n    .dataframe thead th {\n        text-align: right;\n    }\n</style>\n<table border=\"1\" class=\"dataframe\">\n  <thead>\n    <tr style=\"text-align: right;\">\n      <th></th>\n      <th>Lugar de residencia</th>\n      <th>Medida</th>\n      <th>Valor</th>\n    </tr>\n  </thead>\n  <tbody>\n    <tr>\n      <th>0</th>\n      <td>Huelva</td>\n      <td>Población</td>\n      <td>513170</td>\n    </tr>\n    <tr>\n      <th>1</th>\n      <td>Huelva</td>\n      <td>Confirmados PDIA</td>\n      <td>24326</td>\n    </tr>\n    <tr>\n      <th>2</th>\n      <td>Huelva</td>\n      <td>Confirmados PDIA 14 días</td>\n      <td>894</td>\n    </tr>\n    <tr>\n      <th>3</th>\n      <td>Huelva</td>\n      <td>Tasa PDIA 14 días</td>\n      <td>174,21127501607654</td>\n    </tr>\n    <tr>\n      <th>4</th>\n      <td>Huelva</td>\n      <td>Confirmados PDIA 7 días</td>\n      <td>279</td>\n    </tr>\n    <tr>\n      <th>5</th>\n      <td>Huelva</td>\n      <td>Total Confirmados</td>\n      <td>24554</td>\n    </tr>\n    <tr>\n      <th>6</th>\n      <td>Huelva</td>\n      <td>Curados</td>\n      <td>14436</td>\n    </tr>\n    <tr>\n      <th>7</th>\n      <td>Huelva</td>\n      <td>Fallecidos</td>\n      <td>278</td>\n    </tr>\n  </tbody>\n</table>\n</div>"
     },
     "metadata": {},
     "execution_count": 4
    }
   ],
   "source": [
    "df[df['Lugar de residencia'] == 'Huelva']"
   ]
  },
  {
   "cell_type": "code",
   "execution_count": 5,
   "metadata": {},
   "outputs": [],
   "source": [
    "df['Valor'] = pd.to_numeric(df['Valor'],errors='coerce')"
   ]
  },
  {
   "cell_type": "code",
   "execution_count": 6,
   "metadata": {},
   "outputs": [],
   "source": [
    "dfAnterior = pd.read_csv('covid_huelva.csv', index_col='Lugar de residencia')"
   ]
  },
  {
   "cell_type": "code",
   "execution_count": 7,
   "metadata": {
    "tags": []
   },
   "outputs": [
    {
     "output_type": "stream",
     "name": "stdout",
     "text": [
      "Confirmados PCR en la provincia de Huelva:  24326.0\n"
     ]
    }
   ],
   "source": [
    "# Confirmados PCR provincia Huelva\n",
    "p = df[df['Lugar de residencia'] == 'Huelva'][df['Medida'] == 'Confirmados PDIA']['Valor'].values[0]\n",
    "print('Confirmados PCR en la provincia de Huelva: ', p)"
   ]
  },
  {
   "cell_type": "code",
   "execution_count": 8,
   "metadata": {
    "tags": []
   },
   "outputs": [
    {
     "output_type": "stream",
     "name": "stdout",
     "text": [
      "Confirmados PCR en Huelva capital:  6498.0\n"
     ]
    }
   ],
   "source": [
    "# Confirmados PCR Huelva capitalpd\n",
    "c = df[df['Lugar de residencia'] == 'Huelva (capital)'][df['Medida'] == 'Confirmados PDIA']['Valor'].values[0]\n",
    "print('Confirmados PCR en Huelva capital: ', c)"
   ]
  },
  {
   "cell_type": "code",
   "execution_count": 9,
   "metadata": {
    "tags": []
   },
   "outputs": [],
   "source": [
    "c7 = df[df['Lugar de residencia'] == 'Huelva (capital)'][df['Medida'] == 'Confirmados PDIA 7 días']['Valor'].values[0]\n",
    "c14 = df[df['Lugar de residencia'] == 'Huelva (capital)'][df['Medida'] == 'Confirmados PDIA 14 días']['Valor'].values[0]\n",
    "p = df[df['Lugar de residencia'] == 'Huelva (capital)'][df['Medida'] == 'Población']['Valor'].values[0]"
   ]
  },
  {
   "cell_type": "code",
   "execution_count": 10,
   "metadata": {
    "tags": []
   },
   "outputs": [
    {
     "output_type": "stream",
     "name": "stdout",
     "text": [
      "Huelva (capital)\n\nUn positivo PCR cada 1893 personas en los últimos 7 días \n\nUn positivo PCR cada 498 personas en los últimos 14 días\n"
     ]
    }
   ],
   "source": [
    "print('Huelva (capital)\\n')\n",
    "#print('Confirmados PCR 7 días x 1,000 habitantes: ', f\"{c7/(p/1000):.5f}\")\n",
    "print('Un positivo PCR cada', f\"{p/c7:.0f}\", 'personas en los últimos 7 días', '\\n')\n",
    "#print('Confirmados PCR 14 días x 1,000 habitantes: ', f\"{c14/(p/1000):.5f}\")\n",
    "print('Un positivo PCR cada', f\"{p/c14:.0f}\", 'personas en los últimos 14 días')"
   ]
  },
  {
   "cell_type": "code",
   "execution_count": 11,
   "metadata": {},
   "outputs": [],
   "source": [
    "filtro = ((df['Medida'] == 'Confirmados PDIA')| (df['Medida'] == 'Confirmados PDIA 7 días') | (df['Medida'] == 'Población' ) | (df['Medida'] == 'Confirmados PDIA 14 días')) & (df['Valor'] > 0)\n",
    "tabla = pd.pivot_table(df.loc[filtro], values='Valor', index='Lugar de residencia', columns='Medida').dropna()"
   ]
  },
  {
   "cell_type": "code",
   "execution_count": 12,
   "metadata": {},
   "outputs": [],
   "source": [
    "# Reorder columns\n",
    "tabla = tabla[['Confirmados PDIA', 'Confirmados PDIA 7 días', 'Confirmados PDIA 14 días', 'Población']]"
   ]
  },
  {
   "cell_type": "code",
   "execution_count": 13,
   "metadata": {},
   "outputs": [],
   "source": [
    "tabla['tasa7'] = tabla['Confirmados PDIA 7 días']/tabla['Población']*100000\n",
    "tabla['tasa14'] = tabla['Confirmados PDIA 14 días']/tabla['Población']*100000"
   ]
  },
  {
   "cell_type": "code",
   "execution_count": 14,
   "metadata": {},
   "outputs": [],
   "source": [
    "tabla['Diferencia PDIA'] = tabla['Confirmados PDIA'] - dfAnterior['Confirmados PDIA']"
   ]
  },
  {
   "cell_type": "code",
   "execution_count": 15,
   "metadata": {},
   "outputs": [
    {
     "output_type": "execute_result",
     "data": {
      "text/plain": [
       "Medida                             Confirmados PDIA  Confirmados PDIA 7 días  \\\n",
       "Lugar de residencia                                                            \n",
       "Huelva                                      24326.0                    279.0   \n",
       "Huelva-Costa                                14835.0                    162.0   \n",
       "Condado-Campiña                              6762.0                    105.0   \n",
       "Huelva (capital)                             6498.0                     76.0   \n",
       "Almonte                                       835.0                     28.0   \n",
       "Moguer                                        809.0                     18.0   \n",
       "Ayamonte                                     1183.0                     13.0   \n",
       "Bollullos Par del Condado                     594.0                     18.0   \n",
       "Lepe                                         1967.0                     22.0   \n",
       "Punta Umbría                                  650.0                     10.0   \n",
       "Trigueros                                     227.0                      8.0   \n",
       "Escacena del Campo                            138.0                      5.0   \n",
       "Cartaya                                       917.0                     22.0   \n",
       "Isla Cristina                                1973.0                      5.0   \n",
       "Rociana del Condado                           305.0                      7.0   \n",
       "Villablanca                                   169.0                      6.0   \n",
       "Villanueva de los Castillejos                 147.0                      3.0   \n",
       "Nerva                                         152.0                      2.0   \n",
       "Palma del Condado (La)                        961.0                      3.0   \n",
       "Palos de la Frontera                          440.0                      6.0   \n",
       "Sierra de Huelva-Andévalo Central            2300.0                      6.0   \n",
       "Villalba del Alcor                            439.0                      1.0   \n",
       "\n",
       "Medida                             Confirmados PDIA 14 días  Población  \\\n",
       "Lugar de residencia                                                      \n",
       "Huelva                                                894.0   513170.0   \n",
       "Huelva-Costa                                          582.0   289548.0   \n",
       "Condado-Campiña                                       257.0   156231.0   \n",
       "Huelva (capital)                                      289.0   143837.0   \n",
       "Almonte                                                71.0    24507.0   \n",
       "Moguer                                                 41.0    21867.0   \n",
       "Ayamonte                                               38.0    21104.0   \n",
       "Bollullos Par del Condado                              41.0    14387.0   \n",
       "Lepe                                                   84.0    27880.0   \n",
       "Punta Umbría                                           23.0    15355.0   \n",
       "Trigueros                                               8.0     7862.0   \n",
       "Escacena del Campo                                      9.0     2287.0   \n",
       "Cartaya                                                59.0    20083.0   \n",
       "Isla Cristina                                          48.0    21393.0   \n",
       "Rociana del Condado                                    19.0     7939.0   \n",
       "Villablanca                                            11.0     2885.0   \n",
       "Villanueva de los Castillejos                          10.0     2825.0   \n",
       "Nerva                                                   7.0     5169.0   \n",
       "Palma del Condado (La)                                 10.0    10801.0   \n",
       "Palos de la Frontera                                   19.0    11742.0   \n",
       "Sierra de Huelva-Andévalo Central                      34.0    67391.0   \n",
       "Villalba del Alcor                                      3.0     3366.0   \n",
       "\n",
       "Medida                                  tasa7      tasa14  Diferencia PDIA  \n",
       "Lugar de residencia                                                         \n",
       "Huelva                              54.367948  174.211275             65.0  \n",
       "Huelva-Costa                        55.949273  201.002943             36.0  \n",
       "Condado-Campiña                     67.208173  164.500003             27.0  \n",
       "Huelva (capital)                    52.837587  200.921877             17.0  \n",
       "Almonte                            114.253071  289.713143              9.0  \n",
       "Moguer                              82.315818  187.497142              6.0  \n",
       "Ayamonte                            61.599697  180.060652              5.0  \n",
       "Bollullos Par del Condado          125.112949  284.979495              3.0  \n",
       "Lepe                                78.909613  301.291248              3.0  \n",
       "Punta Umbría                        65.125366  149.788343              3.0  \n",
       "Trigueros                          101.755279  101.755279              3.0  \n",
       "Escacena del Campo                 218.627022  393.528640              2.0  \n",
       "Cartaya                            109.545387  293.780810              2.0  \n",
       "Isla Cristina                       23.372131  224.372458              2.0  \n",
       "Rociana del Condado                 88.172314  239.324852              2.0  \n",
       "Villablanca                        207.972270  381.282496              2.0  \n",
       "Villanueva de los Castillejos      106.194690  353.982301              2.0  \n",
       "Nerva                               38.692204  135.422712              1.0  \n",
       "Palma del Condado (La)              27.775206   92.584020              1.0  \n",
       "Palos de la Frontera                51.098620  161.812298              1.0  \n",
       "Sierra de Huelva-Andévalo Central    8.903266   50.451841              1.0  \n",
       "Villalba del Alcor                  29.708853   89.126560              1.0  "
      ],
      "text/html": "<div>\n<style scoped>\n    .dataframe tbody tr th:only-of-type {\n        vertical-align: middle;\n    }\n\n    .dataframe tbody tr th {\n        vertical-align: top;\n    }\n\n    .dataframe thead th {\n        text-align: right;\n    }\n</style>\n<table border=\"1\" class=\"dataframe\">\n  <thead>\n    <tr style=\"text-align: right;\">\n      <th>Medida</th>\n      <th>Confirmados PDIA</th>\n      <th>Confirmados PDIA 7 días</th>\n      <th>Confirmados PDIA 14 días</th>\n      <th>Población</th>\n      <th>tasa7</th>\n      <th>tasa14</th>\n      <th>Diferencia PDIA</th>\n    </tr>\n    <tr>\n      <th>Lugar de residencia</th>\n      <th></th>\n      <th></th>\n      <th></th>\n      <th></th>\n      <th></th>\n      <th></th>\n      <th></th>\n    </tr>\n  </thead>\n  <tbody>\n    <tr>\n      <th>Huelva</th>\n      <td>24326.0</td>\n      <td>279.0</td>\n      <td>894.0</td>\n      <td>513170.0</td>\n      <td>54.367948</td>\n      <td>174.211275</td>\n      <td>65.0</td>\n    </tr>\n    <tr>\n      <th>Huelva-Costa</th>\n      <td>14835.0</td>\n      <td>162.0</td>\n      <td>582.0</td>\n      <td>289548.0</td>\n      <td>55.949273</td>\n      <td>201.002943</td>\n      <td>36.0</td>\n    </tr>\n    <tr>\n      <th>Condado-Campiña</th>\n      <td>6762.0</td>\n      <td>105.0</td>\n      <td>257.0</td>\n      <td>156231.0</td>\n      <td>67.208173</td>\n      <td>164.500003</td>\n      <td>27.0</td>\n    </tr>\n    <tr>\n      <th>Huelva (capital)</th>\n      <td>6498.0</td>\n      <td>76.0</td>\n      <td>289.0</td>\n      <td>143837.0</td>\n      <td>52.837587</td>\n      <td>200.921877</td>\n      <td>17.0</td>\n    </tr>\n    <tr>\n      <th>Almonte</th>\n      <td>835.0</td>\n      <td>28.0</td>\n      <td>71.0</td>\n      <td>24507.0</td>\n      <td>114.253071</td>\n      <td>289.713143</td>\n      <td>9.0</td>\n    </tr>\n    <tr>\n      <th>Moguer</th>\n      <td>809.0</td>\n      <td>18.0</td>\n      <td>41.0</td>\n      <td>21867.0</td>\n      <td>82.315818</td>\n      <td>187.497142</td>\n      <td>6.0</td>\n    </tr>\n    <tr>\n      <th>Ayamonte</th>\n      <td>1183.0</td>\n      <td>13.0</td>\n      <td>38.0</td>\n      <td>21104.0</td>\n      <td>61.599697</td>\n      <td>180.060652</td>\n      <td>5.0</td>\n    </tr>\n    <tr>\n      <th>Bollullos Par del Condado</th>\n      <td>594.0</td>\n      <td>18.0</td>\n      <td>41.0</td>\n      <td>14387.0</td>\n      <td>125.112949</td>\n      <td>284.979495</td>\n      <td>3.0</td>\n    </tr>\n    <tr>\n      <th>Lepe</th>\n      <td>1967.0</td>\n      <td>22.0</td>\n      <td>84.0</td>\n      <td>27880.0</td>\n      <td>78.909613</td>\n      <td>301.291248</td>\n      <td>3.0</td>\n    </tr>\n    <tr>\n      <th>Punta Umbría</th>\n      <td>650.0</td>\n      <td>10.0</td>\n      <td>23.0</td>\n      <td>15355.0</td>\n      <td>65.125366</td>\n      <td>149.788343</td>\n      <td>3.0</td>\n    </tr>\n    <tr>\n      <th>Trigueros</th>\n      <td>227.0</td>\n      <td>8.0</td>\n      <td>8.0</td>\n      <td>7862.0</td>\n      <td>101.755279</td>\n      <td>101.755279</td>\n      <td>3.0</td>\n    </tr>\n    <tr>\n      <th>Escacena del Campo</th>\n      <td>138.0</td>\n      <td>5.0</td>\n      <td>9.0</td>\n      <td>2287.0</td>\n      <td>218.627022</td>\n      <td>393.528640</td>\n      <td>2.0</td>\n    </tr>\n    <tr>\n      <th>Cartaya</th>\n      <td>917.0</td>\n      <td>22.0</td>\n      <td>59.0</td>\n      <td>20083.0</td>\n      <td>109.545387</td>\n      <td>293.780810</td>\n      <td>2.0</td>\n    </tr>\n    <tr>\n      <th>Isla Cristina</th>\n      <td>1973.0</td>\n      <td>5.0</td>\n      <td>48.0</td>\n      <td>21393.0</td>\n      <td>23.372131</td>\n      <td>224.372458</td>\n      <td>2.0</td>\n    </tr>\n    <tr>\n      <th>Rociana del Condado</th>\n      <td>305.0</td>\n      <td>7.0</td>\n      <td>19.0</td>\n      <td>7939.0</td>\n      <td>88.172314</td>\n      <td>239.324852</td>\n      <td>2.0</td>\n    </tr>\n    <tr>\n      <th>Villablanca</th>\n      <td>169.0</td>\n      <td>6.0</td>\n      <td>11.0</td>\n      <td>2885.0</td>\n      <td>207.972270</td>\n      <td>381.282496</td>\n      <td>2.0</td>\n    </tr>\n    <tr>\n      <th>Villanueva de los Castillejos</th>\n      <td>147.0</td>\n      <td>3.0</td>\n      <td>10.0</td>\n      <td>2825.0</td>\n      <td>106.194690</td>\n      <td>353.982301</td>\n      <td>2.0</td>\n    </tr>\n    <tr>\n      <th>Nerva</th>\n      <td>152.0</td>\n      <td>2.0</td>\n      <td>7.0</td>\n      <td>5169.0</td>\n      <td>38.692204</td>\n      <td>135.422712</td>\n      <td>1.0</td>\n    </tr>\n    <tr>\n      <th>Palma del Condado (La)</th>\n      <td>961.0</td>\n      <td>3.0</td>\n      <td>10.0</td>\n      <td>10801.0</td>\n      <td>27.775206</td>\n      <td>92.584020</td>\n      <td>1.0</td>\n    </tr>\n    <tr>\n      <th>Palos de la Frontera</th>\n      <td>440.0</td>\n      <td>6.0</td>\n      <td>19.0</td>\n      <td>11742.0</td>\n      <td>51.098620</td>\n      <td>161.812298</td>\n      <td>1.0</td>\n    </tr>\n    <tr>\n      <th>Sierra de Huelva-Andévalo Central</th>\n      <td>2300.0</td>\n      <td>6.0</td>\n      <td>34.0</td>\n      <td>67391.0</td>\n      <td>8.903266</td>\n      <td>50.451841</td>\n      <td>1.0</td>\n    </tr>\n    <tr>\n      <th>Villalba del Alcor</th>\n      <td>439.0</td>\n      <td>1.0</td>\n      <td>3.0</td>\n      <td>3366.0</td>\n      <td>29.708853</td>\n      <td>89.126560</td>\n      <td>1.0</td>\n    </tr>\n  </tbody>\n</table>\n</div>"
     },
     "metadata": {},
     "execution_count": 15
    }
   ],
   "source": [
    "# Nuevos casos desde la última captura\n",
    "tabla[tabla['Diferencia PDIA'] != 0].sort_values('Diferencia PDIA', ascending=False)"
   ]
  },
  {
   "cell_type": "code",
   "execution_count": 16,
   "metadata": {},
   "outputs": [],
   "source": [
    "if tabla[tabla['Diferencia PDIA'] != 0]['Diferencia PDIA'].sum() != 0:\n",
    "  # Save to csv\n",
    "  tabla.to_csv('covid_huelva.csv', encoding='utf-8', header=True, index=True)  "
   ]
  },
  {
   "cell_type": "code",
   "execution_count": 17,
   "metadata": {},
   "outputs": [
    {
     "output_type": "execute_result",
     "data": {
      "text/plain": [
       "Medida                             Confirmados PDIA  Confirmados PDIA 7 días  \\\n",
       "Lugar de residencia                                                            \n",
       "Escacena del Campo                            138.0                      5.0   \n",
       "Villablanca                                   169.0                      6.0   \n",
       "Villanueva de los Castillejos                 147.0                      3.0   \n",
       "Lepe                                         1967.0                     22.0   \n",
       "Cartaya                                       917.0                     22.0   \n",
       "Almonte                                       835.0                     28.0   \n",
       "Bollullos Par del Condado                     594.0                     18.0   \n",
       "Rociana del Condado                           305.0                      7.0   \n",
       "Isla Cristina                                1973.0                      5.0   \n",
       "Huelva-Costa                                14835.0                    162.0   \n",
       "Huelva (capital)                             6498.0                     76.0   \n",
       "Moguer                                        809.0                     18.0   \n",
       "Ayamonte                                     1183.0                     13.0   \n",
       "Huelva                                      24326.0                    279.0   \n",
       "Condado-Campiña                              6762.0                    105.0   \n",
       "Palos de la Frontera                          440.0                      6.0   \n",
       "Punta Umbría                                  650.0                     10.0   \n",
       "Nerva                                         152.0                      2.0   \n",
       "Gibraleón                                     508.0                      4.0   \n",
       "San Bartolomé de la Torre                     191.0                      2.0   \n",
       "Trigueros                                     227.0                      8.0   \n",
       "Palma del Condado (La)                        961.0                      3.0   \n",
       "Beas                                          159.0                      2.0   \n",
       "Villalba del Alcor                            439.0                      1.0   \n",
       "Aljaraque                                     915.0                      4.0   \n",
       "Valverde del Camino                           414.0                      1.0   \n",
       "Calañas                                       171.0                      1.0   \n",
       "Aracena                                       453.0                      1.0   \n",
       "Sierra de Huelva-Andévalo Central            2300.0                      6.0   \n",
       "Bonares                                       177.0                      1.0   \n",
       "Cerro de Andévalo (El)                        135.0                      1.0   \n",
       "San Juan del Puerto                           355.0                      1.0   \n",
       "Paterna del Campo                             110.0                      1.0   \n",
       "Alosno                                        119.0                      1.0   \n",
       "\n",
       "Medida                             Confirmados PDIA 14 días  Población  \\\n",
       "Lugar de residencia                                                      \n",
       "Escacena del Campo                                      9.0     2287.0   \n",
       "Villablanca                                            11.0     2885.0   \n",
       "Villanueva de los Castillejos                          10.0     2825.0   \n",
       "Lepe                                                   84.0    27880.0   \n",
       "Cartaya                                                59.0    20083.0   \n",
       "Almonte                                                71.0    24507.0   \n",
       "Bollullos Par del Condado                              41.0    14387.0   \n",
       "Rociana del Condado                                    19.0     7939.0   \n",
       "Isla Cristina                                          48.0    21393.0   \n",
       "Huelva-Costa                                          582.0   289548.0   \n",
       "Huelva (capital)                                      289.0   143837.0   \n",
       "Moguer                                                 41.0    21867.0   \n",
       "Ayamonte                                               38.0    21104.0   \n",
       "Huelva                                                894.0   513170.0   \n",
       "Condado-Campiña                                       257.0   156231.0   \n",
       "Palos de la Frontera                                   19.0    11742.0   \n",
       "Punta Umbría                                           23.0    15355.0   \n",
       "Nerva                                                   7.0     5169.0   \n",
       "Gibraleón                                              16.0    12737.0   \n",
       "San Bartolomé de la Torre                               4.0     3761.0   \n",
       "Trigueros                                               8.0     7862.0   \n",
       "Palma del Condado (La)                                 10.0    10801.0   \n",
       "Beas                                                    4.0     4341.0   \n",
       "Villalba del Alcor                                      3.0     3366.0   \n",
       "Aljaraque                                              17.0    21474.0   \n",
       "Valverde del Camino                                    10.0    12750.0   \n",
       "Calañas                                                 2.0     2768.0   \n",
       "Aracena                                                 5.0     8255.0   \n",
       "Sierra de Huelva-Andévalo Central                      34.0    67391.0   \n",
       "Bonares                                                 3.0     6060.0   \n",
       "Cerro de Andévalo (El)                                  1.0     2327.0   \n",
       "San Juan del Puerto                                     4.0     9411.0   \n",
       "Paterna del Campo                                       1.0     3457.0   \n",
       "Alosno                                                  1.0     3933.0   \n",
       "\n",
       "Medida                                  tasa7      tasa14  Diferencia PDIA  \n",
       "Lugar de residencia                                                         \n",
       "Escacena del Campo                 218.627022  393.528640              2.0  \n",
       "Villablanca                        207.972270  381.282496              2.0  \n",
       "Villanueva de los Castillejos      106.194690  353.982301              2.0  \n",
       "Lepe                                78.909613  301.291248              3.0  \n",
       "Cartaya                            109.545387  293.780810              2.0  \n",
       "Almonte                            114.253071  289.713143              9.0  \n",
       "Bollullos Par del Condado          125.112949  284.979495              3.0  \n",
       "Rociana del Condado                 88.172314  239.324852              2.0  \n",
       "Isla Cristina                       23.372131  224.372458              2.0  \n",
       "Huelva-Costa                        55.949273  201.002943             36.0  \n",
       "Huelva (capital)                    52.837587  200.921877             17.0  \n",
       "Moguer                              82.315818  187.497142              6.0  \n",
       "Ayamonte                            61.599697  180.060652              5.0  \n",
       "Huelva                              54.367948  174.211275             65.0  \n",
       "Condado-Campiña                     67.208173  164.500003             27.0  \n",
       "Palos de la Frontera                51.098620  161.812298              1.0  \n",
       "Punta Umbría                        65.125366  149.788343              3.0  \n",
       "Nerva                               38.692204  135.422712              1.0  \n",
       "Gibraleón                           31.404569  125.618277              0.0  \n",
       "San Bartolomé de la Torre           53.177346  106.354693              0.0  \n",
       "Trigueros                          101.755279  101.755279              3.0  \n",
       "Palma del Condado (La)              27.775206   92.584020              1.0  \n",
       "Beas                                46.072334   92.144667              0.0  \n",
       "Villalba del Alcor                  29.708853   89.126560              1.0  \n",
       "Aljaraque                           18.627177   79.165502              0.0  \n",
       "Valverde del Camino                  7.843137   78.431373              0.0  \n",
       "Calañas                             36.127168   72.254335              0.0  \n",
       "Aracena                             12.113870   60.569352              0.0  \n",
       "Sierra de Huelva-Andévalo Central    8.903266   50.451841              1.0  \n",
       "Bonares                             16.501650   49.504950              0.0  \n",
       "Cerro de Andévalo (El)              42.973786   42.973786              0.0  \n",
       "San Juan del Puerto                 10.625863   42.503453              0.0  \n",
       "Paterna del Campo                   28.926815   28.926815              0.0  \n",
       "Alosno                              25.425884   25.425884              0.0  "
      ],
      "text/html": "<div>\n<style scoped>\n    .dataframe tbody tr th:only-of-type {\n        vertical-align: middle;\n    }\n\n    .dataframe tbody tr th {\n        vertical-align: top;\n    }\n\n    .dataframe thead th {\n        text-align: right;\n    }\n</style>\n<table border=\"1\" class=\"dataframe\">\n  <thead>\n    <tr style=\"text-align: right;\">\n      <th>Medida</th>\n      <th>Confirmados PDIA</th>\n      <th>Confirmados PDIA 7 días</th>\n      <th>Confirmados PDIA 14 días</th>\n      <th>Población</th>\n      <th>tasa7</th>\n      <th>tasa14</th>\n      <th>Diferencia PDIA</th>\n    </tr>\n    <tr>\n      <th>Lugar de residencia</th>\n      <th></th>\n      <th></th>\n      <th></th>\n      <th></th>\n      <th></th>\n      <th></th>\n      <th></th>\n    </tr>\n  </thead>\n  <tbody>\n    <tr>\n      <th>Escacena del Campo</th>\n      <td>138.0</td>\n      <td>5.0</td>\n      <td>9.0</td>\n      <td>2287.0</td>\n      <td>218.627022</td>\n      <td>393.528640</td>\n      <td>2.0</td>\n    </tr>\n    <tr>\n      <th>Villablanca</th>\n      <td>169.0</td>\n      <td>6.0</td>\n      <td>11.0</td>\n      <td>2885.0</td>\n      <td>207.972270</td>\n      <td>381.282496</td>\n      <td>2.0</td>\n    </tr>\n    <tr>\n      <th>Villanueva de los Castillejos</th>\n      <td>147.0</td>\n      <td>3.0</td>\n      <td>10.0</td>\n      <td>2825.0</td>\n      <td>106.194690</td>\n      <td>353.982301</td>\n      <td>2.0</td>\n    </tr>\n    <tr>\n      <th>Lepe</th>\n      <td>1967.0</td>\n      <td>22.0</td>\n      <td>84.0</td>\n      <td>27880.0</td>\n      <td>78.909613</td>\n      <td>301.291248</td>\n      <td>3.0</td>\n    </tr>\n    <tr>\n      <th>Cartaya</th>\n      <td>917.0</td>\n      <td>22.0</td>\n      <td>59.0</td>\n      <td>20083.0</td>\n      <td>109.545387</td>\n      <td>293.780810</td>\n      <td>2.0</td>\n    </tr>\n    <tr>\n      <th>Almonte</th>\n      <td>835.0</td>\n      <td>28.0</td>\n      <td>71.0</td>\n      <td>24507.0</td>\n      <td>114.253071</td>\n      <td>289.713143</td>\n      <td>9.0</td>\n    </tr>\n    <tr>\n      <th>Bollullos Par del Condado</th>\n      <td>594.0</td>\n      <td>18.0</td>\n      <td>41.0</td>\n      <td>14387.0</td>\n      <td>125.112949</td>\n      <td>284.979495</td>\n      <td>3.0</td>\n    </tr>\n    <tr>\n      <th>Rociana del Condado</th>\n      <td>305.0</td>\n      <td>7.0</td>\n      <td>19.0</td>\n      <td>7939.0</td>\n      <td>88.172314</td>\n      <td>239.324852</td>\n      <td>2.0</td>\n    </tr>\n    <tr>\n      <th>Isla Cristina</th>\n      <td>1973.0</td>\n      <td>5.0</td>\n      <td>48.0</td>\n      <td>21393.0</td>\n      <td>23.372131</td>\n      <td>224.372458</td>\n      <td>2.0</td>\n    </tr>\n    <tr>\n      <th>Huelva-Costa</th>\n      <td>14835.0</td>\n      <td>162.0</td>\n      <td>582.0</td>\n      <td>289548.0</td>\n      <td>55.949273</td>\n      <td>201.002943</td>\n      <td>36.0</td>\n    </tr>\n    <tr>\n      <th>Huelva (capital)</th>\n      <td>6498.0</td>\n      <td>76.0</td>\n      <td>289.0</td>\n      <td>143837.0</td>\n      <td>52.837587</td>\n      <td>200.921877</td>\n      <td>17.0</td>\n    </tr>\n    <tr>\n      <th>Moguer</th>\n      <td>809.0</td>\n      <td>18.0</td>\n      <td>41.0</td>\n      <td>21867.0</td>\n      <td>82.315818</td>\n      <td>187.497142</td>\n      <td>6.0</td>\n    </tr>\n    <tr>\n      <th>Ayamonte</th>\n      <td>1183.0</td>\n      <td>13.0</td>\n      <td>38.0</td>\n      <td>21104.0</td>\n      <td>61.599697</td>\n      <td>180.060652</td>\n      <td>5.0</td>\n    </tr>\n    <tr>\n      <th>Huelva</th>\n      <td>24326.0</td>\n      <td>279.0</td>\n      <td>894.0</td>\n      <td>513170.0</td>\n      <td>54.367948</td>\n      <td>174.211275</td>\n      <td>65.0</td>\n    </tr>\n    <tr>\n      <th>Condado-Campiña</th>\n      <td>6762.0</td>\n      <td>105.0</td>\n      <td>257.0</td>\n      <td>156231.0</td>\n      <td>67.208173</td>\n      <td>164.500003</td>\n      <td>27.0</td>\n    </tr>\n    <tr>\n      <th>Palos de la Frontera</th>\n      <td>440.0</td>\n      <td>6.0</td>\n      <td>19.0</td>\n      <td>11742.0</td>\n      <td>51.098620</td>\n      <td>161.812298</td>\n      <td>1.0</td>\n    </tr>\n    <tr>\n      <th>Punta Umbría</th>\n      <td>650.0</td>\n      <td>10.0</td>\n      <td>23.0</td>\n      <td>15355.0</td>\n      <td>65.125366</td>\n      <td>149.788343</td>\n      <td>3.0</td>\n    </tr>\n    <tr>\n      <th>Nerva</th>\n      <td>152.0</td>\n      <td>2.0</td>\n      <td>7.0</td>\n      <td>5169.0</td>\n      <td>38.692204</td>\n      <td>135.422712</td>\n      <td>1.0</td>\n    </tr>\n    <tr>\n      <th>Gibraleón</th>\n      <td>508.0</td>\n      <td>4.0</td>\n      <td>16.0</td>\n      <td>12737.0</td>\n      <td>31.404569</td>\n      <td>125.618277</td>\n      <td>0.0</td>\n    </tr>\n    <tr>\n      <th>San Bartolomé de la Torre</th>\n      <td>191.0</td>\n      <td>2.0</td>\n      <td>4.0</td>\n      <td>3761.0</td>\n      <td>53.177346</td>\n      <td>106.354693</td>\n      <td>0.0</td>\n    </tr>\n    <tr>\n      <th>Trigueros</th>\n      <td>227.0</td>\n      <td>8.0</td>\n      <td>8.0</td>\n      <td>7862.0</td>\n      <td>101.755279</td>\n      <td>101.755279</td>\n      <td>3.0</td>\n    </tr>\n    <tr>\n      <th>Palma del Condado (La)</th>\n      <td>961.0</td>\n      <td>3.0</td>\n      <td>10.0</td>\n      <td>10801.0</td>\n      <td>27.775206</td>\n      <td>92.584020</td>\n      <td>1.0</td>\n    </tr>\n    <tr>\n      <th>Beas</th>\n      <td>159.0</td>\n      <td>2.0</td>\n      <td>4.0</td>\n      <td>4341.0</td>\n      <td>46.072334</td>\n      <td>92.144667</td>\n      <td>0.0</td>\n    </tr>\n    <tr>\n      <th>Villalba del Alcor</th>\n      <td>439.0</td>\n      <td>1.0</td>\n      <td>3.0</td>\n      <td>3366.0</td>\n      <td>29.708853</td>\n      <td>89.126560</td>\n      <td>1.0</td>\n    </tr>\n    <tr>\n      <th>Aljaraque</th>\n      <td>915.0</td>\n      <td>4.0</td>\n      <td>17.0</td>\n      <td>21474.0</td>\n      <td>18.627177</td>\n      <td>79.165502</td>\n      <td>0.0</td>\n    </tr>\n    <tr>\n      <th>Valverde del Camino</th>\n      <td>414.0</td>\n      <td>1.0</td>\n      <td>10.0</td>\n      <td>12750.0</td>\n      <td>7.843137</td>\n      <td>78.431373</td>\n      <td>0.0</td>\n    </tr>\n    <tr>\n      <th>Calañas</th>\n      <td>171.0</td>\n      <td>1.0</td>\n      <td>2.0</td>\n      <td>2768.0</td>\n      <td>36.127168</td>\n      <td>72.254335</td>\n      <td>0.0</td>\n    </tr>\n    <tr>\n      <th>Aracena</th>\n      <td>453.0</td>\n      <td>1.0</td>\n      <td>5.0</td>\n      <td>8255.0</td>\n      <td>12.113870</td>\n      <td>60.569352</td>\n      <td>0.0</td>\n    </tr>\n    <tr>\n      <th>Sierra de Huelva-Andévalo Central</th>\n      <td>2300.0</td>\n      <td>6.0</td>\n      <td>34.0</td>\n      <td>67391.0</td>\n      <td>8.903266</td>\n      <td>50.451841</td>\n      <td>1.0</td>\n    </tr>\n    <tr>\n      <th>Bonares</th>\n      <td>177.0</td>\n      <td>1.0</td>\n      <td>3.0</td>\n      <td>6060.0</td>\n      <td>16.501650</td>\n      <td>49.504950</td>\n      <td>0.0</td>\n    </tr>\n    <tr>\n      <th>Cerro de Andévalo (El)</th>\n      <td>135.0</td>\n      <td>1.0</td>\n      <td>1.0</td>\n      <td>2327.0</td>\n      <td>42.973786</td>\n      <td>42.973786</td>\n      <td>0.0</td>\n    </tr>\n    <tr>\n      <th>San Juan del Puerto</th>\n      <td>355.0</td>\n      <td>1.0</td>\n      <td>4.0</td>\n      <td>9411.0</td>\n      <td>10.625863</td>\n      <td>42.503453</td>\n      <td>0.0</td>\n    </tr>\n    <tr>\n      <th>Paterna del Campo</th>\n      <td>110.0</td>\n      <td>1.0</td>\n      <td>1.0</td>\n      <td>3457.0</td>\n      <td>28.926815</td>\n      <td>28.926815</td>\n      <td>0.0</td>\n    </tr>\n    <tr>\n      <th>Alosno</th>\n      <td>119.0</td>\n      <td>1.0</td>\n      <td>1.0</td>\n      <td>3933.0</td>\n      <td>25.425884</td>\n      <td>25.425884</td>\n      <td>0.0</td>\n    </tr>\n  </tbody>\n</table>\n</div>"
     },
     "metadata": {},
     "execution_count": 17
    }
   ],
   "source": [
    "tabla.sort_values('tasa14', ascending=False)"
   ]
  },
  {
   "cell_type": "code",
   "execution_count": 18,
   "metadata": {},
   "outputs": [
    {
     "output_type": "execute_result",
     "data": {
      "text/plain": [
       "Medida                             Confirmados PDIA  Confirmados PDIA 7 días  \\\n",
       "Lugar de residencia                                                            \n",
       "Valverde del Camino                           414.0                      1.0   \n",
       "Isla Cristina                                1973.0                      5.0   \n",
       "Sierra de Huelva-Andévalo Central            2300.0                      6.0   \n",
       "Aracena                                       453.0                      1.0   \n",
       "Aljaraque                                     915.0                      4.0   \n",
       "San Juan del Puerto                           355.0                      1.0   \n",
       "Gibraleón                                     508.0                      4.0   \n",
       "Lepe                                         1967.0                     22.0   \n",
       "Huelva (capital)                             6498.0                     76.0   \n",
       "Huelva-Costa                                14835.0                    162.0   \n",
       "Nerva                                         152.0                      2.0   \n",
       "Palma del Condado (La)                        961.0                      3.0   \n",
       "Villanueva de los Castillejos                 147.0                      3.0   \n",
       "Huelva                                      24326.0                    279.0   \n",
       "Palos de la Frontera                          440.0                      6.0   \n",
       "Bonares                                       177.0                      1.0   \n",
       "Villalba del Alcor                            439.0                      1.0   \n",
       "Ayamonte                                     1183.0                     13.0   \n",
       "Rociana del Condado                           305.0                      7.0   \n",
       "Cartaya                                       917.0                     22.0   \n",
       "Almonte                                       835.0                     28.0   \n",
       "Condado-Campiña                              6762.0                    105.0   \n",
       "Punta Umbría                                  650.0                     10.0   \n",
       "Moguer                                        809.0                     18.0   \n",
       "Bollullos Par del Condado                     594.0                     18.0   \n",
       "Beas                                          159.0                      2.0   \n",
       "San Bartolomé de la Torre                     191.0                      2.0   \n",
       "Calañas                                       171.0                      1.0   \n",
       "Villablanca                                   169.0                      6.0   \n",
       "Escacena del Campo                            138.0                      5.0   \n",
       "Paterna del Campo                             110.0                      1.0   \n",
       "Alosno                                        119.0                      1.0   \n",
       "Trigueros                                     227.0                      8.0   \n",
       "Cerro de Andévalo (El)                        135.0                      1.0   \n",
       "\n",
       "Medida                             Confirmados PDIA 14 días  Población  \\\n",
       "Lugar de residencia                                                      \n",
       "Valverde del Camino                                    10.0    12750.0   \n",
       "Isla Cristina                                          48.0    21393.0   \n",
       "Sierra de Huelva-Andévalo Central                      34.0    67391.0   \n",
       "Aracena                                                 5.0     8255.0   \n",
       "Aljaraque                                              17.0    21474.0   \n",
       "San Juan del Puerto                                     4.0     9411.0   \n",
       "Gibraleón                                              16.0    12737.0   \n",
       "Lepe                                                   84.0    27880.0   \n",
       "Huelva (capital)                                      289.0   143837.0   \n",
       "Huelva-Costa                                          582.0   289548.0   \n",
       "Nerva                                                   7.0     5169.0   \n",
       "Palma del Condado (La)                                 10.0    10801.0   \n",
       "Villanueva de los Castillejos                          10.0     2825.0   \n",
       "Huelva                                                894.0   513170.0   \n",
       "Palos de la Frontera                                   19.0    11742.0   \n",
       "Bonares                                                 3.0     6060.0   \n",
       "Villalba del Alcor                                      3.0     3366.0   \n",
       "Ayamonte                                               38.0    21104.0   \n",
       "Rociana del Condado                                    19.0     7939.0   \n",
       "Cartaya                                                59.0    20083.0   \n",
       "Almonte                                                71.0    24507.0   \n",
       "Condado-Campiña                                       257.0   156231.0   \n",
       "Punta Umbría                                           23.0    15355.0   \n",
       "Moguer                                                 41.0    21867.0   \n",
       "Bollullos Par del Condado                              41.0    14387.0   \n",
       "Beas                                                    4.0     4341.0   \n",
       "San Bartolomé de la Torre                               4.0     3761.0   \n",
       "Calañas                                                 2.0     2768.0   \n",
       "Villablanca                                            11.0     2885.0   \n",
       "Escacena del Campo                                      9.0     2287.0   \n",
       "Paterna del Campo                                       1.0     3457.0   \n",
       "Alosno                                                  1.0     3933.0   \n",
       "Trigueros                                               8.0     7862.0   \n",
       "Cerro de Andévalo (El)                                  1.0     2327.0   \n",
       "\n",
       "Medida                                  tasa7      tasa14  Diferencia PDIA  \\\n",
       "Lugar de residencia                                                          \n",
       "Valverde del Camino                  7.843137   78.431373              0.0   \n",
       "Isla Cristina                       23.372131  224.372458              2.0   \n",
       "Sierra de Huelva-Andévalo Central    8.903266   50.451841              1.0   \n",
       "Aracena                             12.113870   60.569352              0.0   \n",
       "Aljaraque                           18.627177   79.165502              0.0   \n",
       "San Juan del Puerto                 10.625863   42.503453              0.0   \n",
       "Gibraleón                           31.404569  125.618277              0.0   \n",
       "Lepe                                78.909613  301.291248              3.0   \n",
       "Huelva (capital)                    52.837587  200.921877             17.0   \n",
       "Huelva-Costa                        55.949273  201.002943             36.0   \n",
       "Nerva                               38.692204  135.422712              1.0   \n",
       "Palma del Condado (La)              27.775206   92.584020              1.0   \n",
       "Villanueva de los Castillejos      106.194690  353.982301              2.0   \n",
       "Huelva                              54.367948  174.211275             65.0   \n",
       "Palos de la Frontera                51.098620  161.812298              1.0   \n",
       "Bonares                             16.501650   49.504950              0.0   \n",
       "Villalba del Alcor                  29.708853   89.126560              1.0   \n",
       "Ayamonte                            61.599697  180.060652              5.0   \n",
       "Rociana del Condado                 88.172314  239.324852              2.0   \n",
       "Cartaya                            109.545387  293.780810              2.0   \n",
       "Almonte                            114.253071  289.713143              9.0   \n",
       "Condado-Campiña                     67.208173  164.500003             27.0   \n",
       "Punta Umbría                        65.125366  149.788343              3.0   \n",
       "Moguer                              82.315818  187.497142              6.0   \n",
       "Bollullos Par del Condado          125.112949  284.979495              3.0   \n",
       "Beas                                46.072334   92.144667              0.0   \n",
       "San Bartolomé de la Torre           53.177346  106.354693              0.0   \n",
       "Calañas                             36.127168   72.254335              0.0   \n",
       "Villablanca                        207.972270  381.282496              2.0   \n",
       "Escacena del Campo                 218.627022  393.528640              2.0   \n",
       "Paterna del Campo                   28.926815   28.926815              0.0   \n",
       "Alosno                              25.425884   25.425884              0.0   \n",
       "Trigueros                          101.755279  101.755279              3.0   \n",
       "Cerro de Andévalo (El)              42.973786   42.973786              0.0   \n",
       "\n",
       "Medida                                 7/14  \n",
       "Lugar de residencia                          \n",
       "Valverde del Camino                0.100000  \n",
       "Isla Cristina                      0.104167  \n",
       "Sierra de Huelva-Andévalo Central  0.176471  \n",
       "Aracena                            0.200000  \n",
       "Aljaraque                          0.235294  \n",
       "San Juan del Puerto                0.250000  \n",
       "Gibraleón                          0.250000  \n",
       "Lepe                               0.261905  \n",
       "Huelva (capital)                   0.262976  \n",
       "Huelva-Costa                       0.278351  \n",
       "Nerva                              0.285714  \n",
       "Palma del Condado (La)             0.300000  \n",
       "Villanueva de los Castillejos      0.300000  \n",
       "Huelva                             0.312081  \n",
       "Palos de la Frontera               0.315789  \n",
       "Bonares                            0.333333  \n",
       "Villalba del Alcor                 0.333333  \n",
       "Ayamonte                           0.342105  \n",
       "Rociana del Condado                0.368421  \n",
       "Cartaya                            0.372881  \n",
       "Almonte                            0.394366  \n",
       "Condado-Campiña                    0.408560  \n",
       "Punta Umbría                       0.434783  \n",
       "Moguer                             0.439024  \n",
       "Bollullos Par del Condado          0.439024  \n",
       "Beas                               0.500000  \n",
       "San Bartolomé de la Torre          0.500000  \n",
       "Calañas                            0.500000  \n",
       "Villablanca                        0.545455  \n",
       "Escacena del Campo                 0.555556  \n",
       "Paterna del Campo                  1.000000  \n",
       "Alosno                             1.000000  \n",
       "Trigueros                          1.000000  \n",
       "Cerro de Andévalo (El)             1.000000  "
      ],
      "text/html": "<div>\n<style scoped>\n    .dataframe tbody tr th:only-of-type {\n        vertical-align: middle;\n    }\n\n    .dataframe tbody tr th {\n        vertical-align: top;\n    }\n\n    .dataframe thead th {\n        text-align: right;\n    }\n</style>\n<table border=\"1\" class=\"dataframe\">\n  <thead>\n    <tr style=\"text-align: right;\">\n      <th>Medida</th>\n      <th>Confirmados PDIA</th>\n      <th>Confirmados PDIA 7 días</th>\n      <th>Confirmados PDIA 14 días</th>\n      <th>Población</th>\n      <th>tasa7</th>\n      <th>tasa14</th>\n      <th>Diferencia PDIA</th>\n      <th>7/14</th>\n    </tr>\n    <tr>\n      <th>Lugar de residencia</th>\n      <th></th>\n      <th></th>\n      <th></th>\n      <th></th>\n      <th></th>\n      <th></th>\n      <th></th>\n      <th></th>\n    </tr>\n  </thead>\n  <tbody>\n    <tr>\n      <th>Valverde del Camino</th>\n      <td>414.0</td>\n      <td>1.0</td>\n      <td>10.0</td>\n      <td>12750.0</td>\n      <td>7.843137</td>\n      <td>78.431373</td>\n      <td>0.0</td>\n      <td>0.100000</td>\n    </tr>\n    <tr>\n      <th>Isla Cristina</th>\n      <td>1973.0</td>\n      <td>5.0</td>\n      <td>48.0</td>\n      <td>21393.0</td>\n      <td>23.372131</td>\n      <td>224.372458</td>\n      <td>2.0</td>\n      <td>0.104167</td>\n    </tr>\n    <tr>\n      <th>Sierra de Huelva-Andévalo Central</th>\n      <td>2300.0</td>\n      <td>6.0</td>\n      <td>34.0</td>\n      <td>67391.0</td>\n      <td>8.903266</td>\n      <td>50.451841</td>\n      <td>1.0</td>\n      <td>0.176471</td>\n    </tr>\n    <tr>\n      <th>Aracena</th>\n      <td>453.0</td>\n      <td>1.0</td>\n      <td>5.0</td>\n      <td>8255.0</td>\n      <td>12.113870</td>\n      <td>60.569352</td>\n      <td>0.0</td>\n      <td>0.200000</td>\n    </tr>\n    <tr>\n      <th>Aljaraque</th>\n      <td>915.0</td>\n      <td>4.0</td>\n      <td>17.0</td>\n      <td>21474.0</td>\n      <td>18.627177</td>\n      <td>79.165502</td>\n      <td>0.0</td>\n      <td>0.235294</td>\n    </tr>\n    <tr>\n      <th>San Juan del Puerto</th>\n      <td>355.0</td>\n      <td>1.0</td>\n      <td>4.0</td>\n      <td>9411.0</td>\n      <td>10.625863</td>\n      <td>42.503453</td>\n      <td>0.0</td>\n      <td>0.250000</td>\n    </tr>\n    <tr>\n      <th>Gibraleón</th>\n      <td>508.0</td>\n      <td>4.0</td>\n      <td>16.0</td>\n      <td>12737.0</td>\n      <td>31.404569</td>\n      <td>125.618277</td>\n      <td>0.0</td>\n      <td>0.250000</td>\n    </tr>\n    <tr>\n      <th>Lepe</th>\n      <td>1967.0</td>\n      <td>22.0</td>\n      <td>84.0</td>\n      <td>27880.0</td>\n      <td>78.909613</td>\n      <td>301.291248</td>\n      <td>3.0</td>\n      <td>0.261905</td>\n    </tr>\n    <tr>\n      <th>Huelva (capital)</th>\n      <td>6498.0</td>\n      <td>76.0</td>\n      <td>289.0</td>\n      <td>143837.0</td>\n      <td>52.837587</td>\n      <td>200.921877</td>\n      <td>17.0</td>\n      <td>0.262976</td>\n    </tr>\n    <tr>\n      <th>Huelva-Costa</th>\n      <td>14835.0</td>\n      <td>162.0</td>\n      <td>582.0</td>\n      <td>289548.0</td>\n      <td>55.949273</td>\n      <td>201.002943</td>\n      <td>36.0</td>\n      <td>0.278351</td>\n    </tr>\n    <tr>\n      <th>Nerva</th>\n      <td>152.0</td>\n      <td>2.0</td>\n      <td>7.0</td>\n      <td>5169.0</td>\n      <td>38.692204</td>\n      <td>135.422712</td>\n      <td>1.0</td>\n      <td>0.285714</td>\n    </tr>\n    <tr>\n      <th>Palma del Condado (La)</th>\n      <td>961.0</td>\n      <td>3.0</td>\n      <td>10.0</td>\n      <td>10801.0</td>\n      <td>27.775206</td>\n      <td>92.584020</td>\n      <td>1.0</td>\n      <td>0.300000</td>\n    </tr>\n    <tr>\n      <th>Villanueva de los Castillejos</th>\n      <td>147.0</td>\n      <td>3.0</td>\n      <td>10.0</td>\n      <td>2825.0</td>\n      <td>106.194690</td>\n      <td>353.982301</td>\n      <td>2.0</td>\n      <td>0.300000</td>\n    </tr>\n    <tr>\n      <th>Huelva</th>\n      <td>24326.0</td>\n      <td>279.0</td>\n      <td>894.0</td>\n      <td>513170.0</td>\n      <td>54.367948</td>\n      <td>174.211275</td>\n      <td>65.0</td>\n      <td>0.312081</td>\n    </tr>\n    <tr>\n      <th>Palos de la Frontera</th>\n      <td>440.0</td>\n      <td>6.0</td>\n      <td>19.0</td>\n      <td>11742.0</td>\n      <td>51.098620</td>\n      <td>161.812298</td>\n      <td>1.0</td>\n      <td>0.315789</td>\n    </tr>\n    <tr>\n      <th>Bonares</th>\n      <td>177.0</td>\n      <td>1.0</td>\n      <td>3.0</td>\n      <td>6060.0</td>\n      <td>16.501650</td>\n      <td>49.504950</td>\n      <td>0.0</td>\n      <td>0.333333</td>\n    </tr>\n    <tr>\n      <th>Villalba del Alcor</th>\n      <td>439.0</td>\n      <td>1.0</td>\n      <td>3.0</td>\n      <td>3366.0</td>\n      <td>29.708853</td>\n      <td>89.126560</td>\n      <td>1.0</td>\n      <td>0.333333</td>\n    </tr>\n    <tr>\n      <th>Ayamonte</th>\n      <td>1183.0</td>\n      <td>13.0</td>\n      <td>38.0</td>\n      <td>21104.0</td>\n      <td>61.599697</td>\n      <td>180.060652</td>\n      <td>5.0</td>\n      <td>0.342105</td>\n    </tr>\n    <tr>\n      <th>Rociana del Condado</th>\n      <td>305.0</td>\n      <td>7.0</td>\n      <td>19.0</td>\n      <td>7939.0</td>\n      <td>88.172314</td>\n      <td>239.324852</td>\n      <td>2.0</td>\n      <td>0.368421</td>\n    </tr>\n    <tr>\n      <th>Cartaya</th>\n      <td>917.0</td>\n      <td>22.0</td>\n      <td>59.0</td>\n      <td>20083.0</td>\n      <td>109.545387</td>\n      <td>293.780810</td>\n      <td>2.0</td>\n      <td>0.372881</td>\n    </tr>\n    <tr>\n      <th>Almonte</th>\n      <td>835.0</td>\n      <td>28.0</td>\n      <td>71.0</td>\n      <td>24507.0</td>\n      <td>114.253071</td>\n      <td>289.713143</td>\n      <td>9.0</td>\n      <td>0.394366</td>\n    </tr>\n    <tr>\n      <th>Condado-Campiña</th>\n      <td>6762.0</td>\n      <td>105.0</td>\n      <td>257.0</td>\n      <td>156231.0</td>\n      <td>67.208173</td>\n      <td>164.500003</td>\n      <td>27.0</td>\n      <td>0.408560</td>\n    </tr>\n    <tr>\n      <th>Punta Umbría</th>\n      <td>650.0</td>\n      <td>10.0</td>\n      <td>23.0</td>\n      <td>15355.0</td>\n      <td>65.125366</td>\n      <td>149.788343</td>\n      <td>3.0</td>\n      <td>0.434783</td>\n    </tr>\n    <tr>\n      <th>Moguer</th>\n      <td>809.0</td>\n      <td>18.0</td>\n      <td>41.0</td>\n      <td>21867.0</td>\n      <td>82.315818</td>\n      <td>187.497142</td>\n      <td>6.0</td>\n      <td>0.439024</td>\n    </tr>\n    <tr>\n      <th>Bollullos Par del Condado</th>\n      <td>594.0</td>\n      <td>18.0</td>\n      <td>41.0</td>\n      <td>14387.0</td>\n      <td>125.112949</td>\n      <td>284.979495</td>\n      <td>3.0</td>\n      <td>0.439024</td>\n    </tr>\n    <tr>\n      <th>Beas</th>\n      <td>159.0</td>\n      <td>2.0</td>\n      <td>4.0</td>\n      <td>4341.0</td>\n      <td>46.072334</td>\n      <td>92.144667</td>\n      <td>0.0</td>\n      <td>0.500000</td>\n    </tr>\n    <tr>\n      <th>San Bartolomé de la Torre</th>\n      <td>191.0</td>\n      <td>2.0</td>\n      <td>4.0</td>\n      <td>3761.0</td>\n      <td>53.177346</td>\n      <td>106.354693</td>\n      <td>0.0</td>\n      <td>0.500000</td>\n    </tr>\n    <tr>\n      <th>Calañas</th>\n      <td>171.0</td>\n      <td>1.0</td>\n      <td>2.0</td>\n      <td>2768.0</td>\n      <td>36.127168</td>\n      <td>72.254335</td>\n      <td>0.0</td>\n      <td>0.500000</td>\n    </tr>\n    <tr>\n      <th>Villablanca</th>\n      <td>169.0</td>\n      <td>6.0</td>\n      <td>11.0</td>\n      <td>2885.0</td>\n      <td>207.972270</td>\n      <td>381.282496</td>\n      <td>2.0</td>\n      <td>0.545455</td>\n    </tr>\n    <tr>\n      <th>Escacena del Campo</th>\n      <td>138.0</td>\n      <td>5.0</td>\n      <td>9.0</td>\n      <td>2287.0</td>\n      <td>218.627022</td>\n      <td>393.528640</td>\n      <td>2.0</td>\n      <td>0.555556</td>\n    </tr>\n    <tr>\n      <th>Paterna del Campo</th>\n      <td>110.0</td>\n      <td>1.0</td>\n      <td>1.0</td>\n      <td>3457.0</td>\n      <td>28.926815</td>\n      <td>28.926815</td>\n      <td>0.0</td>\n      <td>1.000000</td>\n    </tr>\n    <tr>\n      <th>Alosno</th>\n      <td>119.0</td>\n      <td>1.0</td>\n      <td>1.0</td>\n      <td>3933.0</td>\n      <td>25.425884</td>\n      <td>25.425884</td>\n      <td>0.0</td>\n      <td>1.000000</td>\n    </tr>\n    <tr>\n      <th>Trigueros</th>\n      <td>227.0</td>\n      <td>8.0</td>\n      <td>8.0</td>\n      <td>7862.0</td>\n      <td>101.755279</td>\n      <td>101.755279</td>\n      <td>3.0</td>\n      <td>1.000000</td>\n    </tr>\n    <tr>\n      <th>Cerro de Andévalo (El)</th>\n      <td>135.0</td>\n      <td>1.0</td>\n      <td>1.0</td>\n      <td>2327.0</td>\n      <td>42.973786</td>\n      <td>42.973786</td>\n      <td>0.0</td>\n      <td>1.000000</td>\n    </tr>\n  </tbody>\n</table>\n</div>"
     },
     "metadata": {},
     "execution_count": 18
    }
   ],
   "source": [
    "# Peso de la tasa de la última semana en relación con la tasa a 14 días \n",
    "# Mejor cuanto menor. Valor 1 significa que no había casos antes de 7 días.\n",
    "tabla['7/14'] = tabla['tasa7'] / tabla['tasa14']\n",
    "tabla.fillna(0).sort_values('7/14', ascending=True)"
   ]
  },
  {
   "cell_type": "code",
   "execution_count": null,
   "metadata": {},
   "outputs": [],
   "source": []
  }
 ]
}