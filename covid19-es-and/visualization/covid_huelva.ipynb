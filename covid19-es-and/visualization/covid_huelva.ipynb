{
 "metadata": {
  "language_info": {
   "codemirror_mode": {
    "name": "ipython",
    "version": 3
   },
   "file_extension": ".py",
   "mimetype": "text/x-python",
   "name": "python",
   "nbconvert_exporter": "python",
   "pygments_lexer": "ipython3",
   "version": "3.8.6-final"
  },
  "orig_nbformat": 2,
  "kernelspec": {
   "name": "python38564bit75945252d6ba481bad4868286020c89e",
   "display_name": "Python 3.8.5 64-bit",
   "language": "python"
  }
 },
 "nbformat": 4,
 "nbformat_minor": 2,
 "cells": [
  {
   "cell_type": "code",
   "execution_count": 1,
   "metadata": {},
   "outputs": [],
   "source": [
    "import pandas as pd"
   ]
  },
  {
   "cell_type": "code",
   "execution_count": 2,
   "metadata": {},
   "outputs": [],
   "source": [
    "# FIX SSL: CERTIFICATE_VERIFY_FAILED with Python3\n",
    "# https://stackoverflow.com/a/49174340\n",
    "import ssl\n",
    "\n",
    "ssl._create_default_https_context = ssl._create_unverified_context"
   ]
  },
  {
   "cell_type": "code",
   "execution_count": 3,
   "metadata": {},
   "outputs": [],
   "source": [
    "url = 'https://www.juntadeandalucia.es/institutodeestadisticaycartografia/badea/stpivot/stpivot/Print?cube=013d884c-cfc5-4c21-9e78-e26225682afd&type=3&foto=si&ejecutaDesde=&codConsulta=38668&consTipoVisua=JP'\n",
    "fields = ['Lugar de residencia', 'Medida', 'Valor']\n",
    "df = pd.read_csv(url, delimiter=';', usecols=fields, decimal=',')"
   ]
  },
  {
   "cell_type": "code",
   "execution_count": 4,
   "metadata": {},
   "outputs": [
    {
     "output_type": "execute_result",
     "data": {
      "text/plain": [
       "                     Lugar de residencia                    Medida  \\\n",
       "0                                 Huelva                 Población   \n",
       "1                                 Huelva          Confirmados PDIA   \n",
       "2                                 Huelva  Confirmados PDIA 14 días   \n",
       "3                                 Huelva         Tasa PDIA 14 días   \n",
       "4                                 Huelva   Confirmados PDIA 7 días   \n",
       "..                                   ...                       ...   \n",
       "627  Municipio de Huelva sin especificar         Tasa PDIA 14 días   \n",
       "628  Municipio de Huelva sin especificar   Confirmados PDIA 7 días   \n",
       "629  Municipio de Huelva sin especificar        Total Confirmados    \n",
       "630  Municipio de Huelva sin especificar                   Curados   \n",
       "631  Municipio de Huelva sin especificar                Fallecidos   \n",
       "\n",
       "                  Valor  \n",
       "0                510743  \n",
       "1                 11518  \n",
       "2                   616  \n",
       "3    120,60860354424828  \n",
       "4                   284  \n",
       "..                  ...  \n",
       "627                   -  \n",
       "628                  14  \n",
       "629                 144  \n",
       "630                 115  \n",
       "631                   2  \n",
       "\n",
       "[632 rows x 3 columns]"
      ],
      "text/html": "<div>\n<style scoped>\n    .dataframe tbody tr th:only-of-type {\n        vertical-align: middle;\n    }\n\n    .dataframe tbody tr th {\n        vertical-align: top;\n    }\n\n    .dataframe thead th {\n        text-align: right;\n    }\n</style>\n<table border=\"1\" class=\"dataframe\">\n  <thead>\n    <tr style=\"text-align: right;\">\n      <th></th>\n      <th>Lugar de residencia</th>\n      <th>Medida</th>\n      <th>Valor</th>\n    </tr>\n  </thead>\n  <tbody>\n    <tr>\n      <th>0</th>\n      <td>Huelva</td>\n      <td>Población</td>\n      <td>510743</td>\n    </tr>\n    <tr>\n      <th>1</th>\n      <td>Huelva</td>\n      <td>Confirmados PDIA</td>\n      <td>11518</td>\n    </tr>\n    <tr>\n      <th>2</th>\n      <td>Huelva</td>\n      <td>Confirmados PDIA 14 días</td>\n      <td>616</td>\n    </tr>\n    <tr>\n      <th>3</th>\n      <td>Huelva</td>\n      <td>Tasa PDIA 14 días</td>\n      <td>120,60860354424828</td>\n    </tr>\n    <tr>\n      <th>4</th>\n      <td>Huelva</td>\n      <td>Confirmados PDIA 7 días</td>\n      <td>284</td>\n    </tr>\n    <tr>\n      <th>...</th>\n      <td>...</td>\n      <td>...</td>\n      <td>...</td>\n    </tr>\n    <tr>\n      <th>627</th>\n      <td>Municipio de Huelva sin especificar</td>\n      <td>Tasa PDIA 14 días</td>\n      <td>-</td>\n    </tr>\n    <tr>\n      <th>628</th>\n      <td>Municipio de Huelva sin especificar</td>\n      <td>Confirmados PDIA 7 días</td>\n      <td>14</td>\n    </tr>\n    <tr>\n      <th>629</th>\n      <td>Municipio de Huelva sin especificar</td>\n      <td>Total Confirmados</td>\n      <td>144</td>\n    </tr>\n    <tr>\n      <th>630</th>\n      <td>Municipio de Huelva sin especificar</td>\n      <td>Curados</td>\n      <td>115</td>\n    </tr>\n    <tr>\n      <th>631</th>\n      <td>Municipio de Huelva sin especificar</td>\n      <td>Fallecidos</td>\n      <td>2</td>\n    </tr>\n  </tbody>\n</table>\n<p>632 rows × 3 columns</p>\n</div>"
     },
     "metadata": {},
     "execution_count": 4
    }
   ],
   "source": [
    "df"
   ]
  },
  {
   "cell_type": "code",
   "execution_count": 5,
   "metadata": {},
   "outputs": [],
   "source": [
    "df['Valor'] = pd.to_numeric(df['Valor'],errors='coerce')"
   ]
  },
  {
   "cell_type": "code",
   "execution_count": 6,
   "metadata": {},
   "outputs": [],
   "source": [
    "dfAnterior = pd.read_csv('covid_huelva.csv', index_col='Lugar de residencia')"
   ]
  },
  {
   "cell_type": "code",
   "execution_count": 7,
   "metadata": {
    "tags": []
   },
   "outputs": [
    {
     "output_type": "stream",
     "name": "stdout",
     "text": [
      "Confirmados PCR en la provincia de Huelva:  11518.0\n"
     ]
    }
   ],
   "source": [
    "# Confirmados PCR provincia Huelva\n",
    "p = df[df['Lugar de residencia'] == 'Huelva'][df['Medida'] == 'Confirmados PDIA']['Valor'].values[0]\n",
    "print('Confirmados PCR en la provincia de Huelva: ', p)"
   ]
  },
  {
   "cell_type": "code",
   "execution_count": 8,
   "metadata": {
    "tags": []
   },
   "outputs": [
    {
     "output_type": "stream",
     "name": "stdout",
     "text": [
      "Confirmados PCR en Huelva capital:  3280.0\n"
     ]
    }
   ],
   "source": [
    "# Confirmados PCR Huelva capitalpd\n",
    "c = df[df['Lugar de residencia'] == 'Huelva (capital)'][df['Medida'] == 'Confirmados PDIA']['Valor'].values[0]\n",
    "print('Confirmados PCR en Huelva capital: ', c)"
   ]
  },
  {
   "cell_type": "code",
   "execution_count": 9,
   "metadata": {
    "tags": []
   },
   "outputs": [],
   "source": [
    "c7 = df[df['Lugar de residencia'] == 'Huelva (capital)'][df['Medida'] == 'Confirmados PDIA 7 días']['Valor'].values[0]\n",
    "c14 = df[df['Lugar de residencia'] == 'Huelva (capital)'][df['Medida'] == 'Confirmados PDIA 14 días']['Valor'].values[0]\n",
    "p = df[df['Lugar de residencia'] == 'Huelva (capital)'][df['Medida'] == 'Población']['Valor'].values[0]"
   ]
  },
  {
   "cell_type": "code",
   "execution_count": 10,
   "metadata": {
    "tags": []
   },
   "outputs": [
    {
     "output_type": "stream",
     "name": "stdout",
     "text": [
      "Huelva (capital)\n\nUn positivo PCR cada 1408 personas en los últimos 7 días \n\nUn positivo PCR cada 726 personas en los últimos 14 días\n"
     ]
    }
   ],
   "source": [
    "print('Huelva (capital)\\n')\n",
    "#print('Confirmados PCR 7 días x 1,000 habitantes: ', f\"{c7/(p/1000):.5f}\")\n",
    "print('Un positivo PCR cada', f\"{p/c7:.0f}\", 'personas en los últimos 7 días', '\\n')\n",
    "#print('Confirmados PCR 14 días x 1,000 habitantes: ', f\"{c14/(p/1000):.5f}\")\n",
    "print('Un positivo PCR cada', f\"{p/c14:.0f}\", 'personas en los últimos 14 días')"
   ]
  },
  {
   "cell_type": "code",
   "execution_count": 11,
   "metadata": {},
   "outputs": [],
   "source": [
    "filtro = ((df['Medida'] == 'Confirmados PDIA')| (df['Medida'] == 'Confirmados PDIA 7 días') | (df['Medida'] == 'Población' ) | (df['Medida'] == 'Confirmados PDIA 14 días')) & (df['Valor'] > 0)\n",
    "tabla = pd.pivot_table(df.loc[filtro], values='Valor', index='Lugar de residencia', columns='Medida').dropna()"
   ]
  },
  {
   "cell_type": "code",
   "execution_count": 12,
   "metadata": {},
   "outputs": [],
   "source": [
    "# Reorder columns\n",
    "tabla = tabla[['Confirmados PDIA', 'Confirmados PDIA 7 días', 'Confirmados PDIA 14 días', 'Población']]"
   ]
  },
  {
   "cell_type": "code",
   "execution_count": 13,
   "metadata": {},
   "outputs": [],
   "source": [
    "tabla['tasa7'] = tabla['Confirmados PDIA 7 días']/tabla['Población']*100000\n",
    "tabla['tasa14'] = tabla['Confirmados PDIA 14 días']/tabla['Población']*100000"
   ]
  },
  {
   "cell_type": "code",
   "execution_count": 14,
   "metadata": {},
   "outputs": [],
   "source": [
    "tabla['Diferencia PDIA'] = tabla['Confirmados PDIA'] - dfAnterior['Confirmados PDIA']"
   ]
  },
  {
   "cell_type": "code",
   "execution_count": 15,
   "metadata": {},
   "outputs": [
    {
     "output_type": "execute_result",
     "data": {
      "text/plain": [
       "Medida                             Confirmados PDIA  Confirmados PDIA 7 días  \\\n",
       "Lugar de residencia                                                            \n",
       "Huelva                                      11518.0                    284.0   \n",
       "Huelva-Costa                                 6536.0                    184.0   \n",
       "Huelva (capital)                             3280.0                    102.0   \n",
       "Isla Cristina                                 492.0                     32.0   \n",
       "Condado-Campiña                              3518.0                     58.0   \n",
       "Sierra de Huelva-Andévalo Central            1321.0                     28.0   \n",
       "Palma del Condado (La)                        566.0                     12.0   \n",
       "Cerro de Andévalo (El)                         52.0                     11.0   \n",
       "Lepe                                          988.0                     12.0   \n",
       "Ayamonte                                      353.0                     14.0   \n",
       "Cumbres Mayores                                19.0                      9.0   \n",
       "Punta Umbría                                  242.0                      6.0   \n",
       "Palos de la Frontera                          268.0                      9.0   \n",
       "Aljaraque                                     446.0                      3.0   \n",
       "Lucena del Puerto                             111.0                      5.0   \n",
       "Almonte                                       451.0                      2.0   \n",
       "Escacena del Campo                             99.0                      2.0   \n",
       "Aracena                                       291.0                      4.0   \n",
       "Villablanca                                    69.0                      7.0   \n",
       "Almendro (El)                                  17.0                      1.0   \n",
       "Alosno                                         45.0                      1.0   \n",
       "San Juan del Puerto                           155.0                      1.0   \n",
       "\n",
       "Medida                             Confirmados PDIA 14 días  Población  \\\n",
       "Lugar de residencia                                                      \n",
       "Huelva                                                616.0   510743.0   \n",
       "Huelva-Costa                                          387.0   288115.0   \n",
       "Huelva (capital)                                      198.0   143663.0   \n",
       "Isla Cristina                                          62.0    21264.0   \n",
       "Condado-Campiña                                       171.0   155057.0   \n",
       "Sierra de Huelva-Andévalo Central                      38.0    67571.0   \n",
       "Palma del Condado (La)                                 39.0    10761.0   \n",
       "Cerro de Andévalo (El)                                 15.0     2364.0   \n",
       "Lepe                                                   34.0    27431.0   \n",
       "Ayamonte                                               19.0    20946.0   \n",
       "Cumbres Mayores                                        10.0     1755.0   \n",
       "Punta Umbría                                            8.0    15242.0   \n",
       "Palos de la Frontera                                   28.0    11289.0   \n",
       "Aljaraque                                              13.0    21260.0   \n",
       "Lucena del Puerto                                      12.0     3371.0   \n",
       "Almonte                                                12.0    24191.0   \n",
       "Escacena del Campo                                      2.0     2284.0   \n",
       "Aracena                                                 5.0     8107.0   \n",
       "Villablanca                                            14.0     2848.0   \n",
       "Almendro (El)                                           1.0      826.0   \n",
       "Alosno                                                  1.0     3923.0   \n",
       "San Juan del Puerto                                     3.0     9300.0   \n",
       "\n",
       "Medida                                  tasa7      tasa14  Diferencia PDIA  \n",
       "Lugar de residencia                                                         \n",
       "Huelva                              55.605265  120.608604             80.0  \n",
       "Huelva-Costa                        63.863388  134.321365             53.0  \n",
       "Huelva (capital)                    70.999492  137.822543             28.0  \n",
       "Isla Cristina                      150.489090  291.572611             14.0  \n",
       "Condado-Campiña                     37.405599  110.282025             10.0  \n",
       "Sierra de Huelva-Andévalo Central   41.437895   56.237143              8.0  \n",
       "Palma del Condado (La)             111.513800  362.419849              5.0  \n",
       "Cerro de Andévalo (El)             465.313029  634.517766              4.0  \n",
       "Lepe                                43.746127  123.947359              4.0  \n",
       "Ayamonte                            66.838537   90.709443              2.0  \n",
       "Cumbres Mayores                    512.820513  569.800570              2.0  \n",
       "Punta Umbría                        39.364913   52.486550              1.0  \n",
       "Palos de la Frontera                79.723625  248.029055              1.0  \n",
       "Aljaraque                           14.111007   61.147695              1.0  \n",
       "Lucena del Puerto                  148.323939  355.977455              1.0  \n",
       "Almonte                              8.267538   49.605225              1.0  \n",
       "Escacena del Campo                  87.565674   87.565674              1.0  \n",
       "Aracena                             49.340076   61.675096              1.0  \n",
       "Villablanca                        245.786517  491.573034              1.0  \n",
       "Almendro (El)                      121.065375  121.065375              NaN  \n",
       "Alosno                              25.490696   25.490696              NaN  \n",
       "San Juan del Puerto                 10.752688   32.258065              NaN  "
      ],
      "text/html": "<div>\n<style scoped>\n    .dataframe tbody tr th:only-of-type {\n        vertical-align: middle;\n    }\n\n    .dataframe tbody tr th {\n        vertical-align: top;\n    }\n\n    .dataframe thead th {\n        text-align: right;\n    }\n</style>\n<table border=\"1\" class=\"dataframe\">\n  <thead>\n    <tr style=\"text-align: right;\">\n      <th>Medida</th>\n      <th>Confirmados PDIA</th>\n      <th>Confirmados PDIA 7 días</th>\n      <th>Confirmados PDIA 14 días</th>\n      <th>Población</th>\n      <th>tasa7</th>\n      <th>tasa14</th>\n      <th>Diferencia PDIA</th>\n    </tr>\n    <tr>\n      <th>Lugar de residencia</th>\n      <th></th>\n      <th></th>\n      <th></th>\n      <th></th>\n      <th></th>\n      <th></th>\n      <th></th>\n    </tr>\n  </thead>\n  <tbody>\n    <tr>\n      <th>Huelva</th>\n      <td>11518.0</td>\n      <td>284.0</td>\n      <td>616.0</td>\n      <td>510743.0</td>\n      <td>55.605265</td>\n      <td>120.608604</td>\n      <td>80.0</td>\n    </tr>\n    <tr>\n      <th>Huelva-Costa</th>\n      <td>6536.0</td>\n      <td>184.0</td>\n      <td>387.0</td>\n      <td>288115.0</td>\n      <td>63.863388</td>\n      <td>134.321365</td>\n      <td>53.0</td>\n    </tr>\n    <tr>\n      <th>Huelva (capital)</th>\n      <td>3280.0</td>\n      <td>102.0</td>\n      <td>198.0</td>\n      <td>143663.0</td>\n      <td>70.999492</td>\n      <td>137.822543</td>\n      <td>28.0</td>\n    </tr>\n    <tr>\n      <th>Isla Cristina</th>\n      <td>492.0</td>\n      <td>32.0</td>\n      <td>62.0</td>\n      <td>21264.0</td>\n      <td>150.489090</td>\n      <td>291.572611</td>\n      <td>14.0</td>\n    </tr>\n    <tr>\n      <th>Condado-Campiña</th>\n      <td>3518.0</td>\n      <td>58.0</td>\n      <td>171.0</td>\n      <td>155057.0</td>\n      <td>37.405599</td>\n      <td>110.282025</td>\n      <td>10.0</td>\n    </tr>\n    <tr>\n      <th>Sierra de Huelva-Andévalo Central</th>\n      <td>1321.0</td>\n      <td>28.0</td>\n      <td>38.0</td>\n      <td>67571.0</td>\n      <td>41.437895</td>\n      <td>56.237143</td>\n      <td>8.0</td>\n    </tr>\n    <tr>\n      <th>Palma del Condado (La)</th>\n      <td>566.0</td>\n      <td>12.0</td>\n      <td>39.0</td>\n      <td>10761.0</td>\n      <td>111.513800</td>\n      <td>362.419849</td>\n      <td>5.0</td>\n    </tr>\n    <tr>\n      <th>Cerro de Andévalo (El)</th>\n      <td>52.0</td>\n      <td>11.0</td>\n      <td>15.0</td>\n      <td>2364.0</td>\n      <td>465.313029</td>\n      <td>634.517766</td>\n      <td>4.0</td>\n    </tr>\n    <tr>\n      <th>Lepe</th>\n      <td>988.0</td>\n      <td>12.0</td>\n      <td>34.0</td>\n      <td>27431.0</td>\n      <td>43.746127</td>\n      <td>123.947359</td>\n      <td>4.0</td>\n    </tr>\n    <tr>\n      <th>Ayamonte</th>\n      <td>353.0</td>\n      <td>14.0</td>\n      <td>19.0</td>\n      <td>20946.0</td>\n      <td>66.838537</td>\n      <td>90.709443</td>\n      <td>2.0</td>\n    </tr>\n    <tr>\n      <th>Cumbres Mayores</th>\n      <td>19.0</td>\n      <td>9.0</td>\n      <td>10.0</td>\n      <td>1755.0</td>\n      <td>512.820513</td>\n      <td>569.800570</td>\n      <td>2.0</td>\n    </tr>\n    <tr>\n      <th>Punta Umbría</th>\n      <td>242.0</td>\n      <td>6.0</td>\n      <td>8.0</td>\n      <td>15242.0</td>\n      <td>39.364913</td>\n      <td>52.486550</td>\n      <td>1.0</td>\n    </tr>\n    <tr>\n      <th>Palos de la Frontera</th>\n      <td>268.0</td>\n      <td>9.0</td>\n      <td>28.0</td>\n      <td>11289.0</td>\n      <td>79.723625</td>\n      <td>248.029055</td>\n      <td>1.0</td>\n    </tr>\n    <tr>\n      <th>Aljaraque</th>\n      <td>446.0</td>\n      <td>3.0</td>\n      <td>13.0</td>\n      <td>21260.0</td>\n      <td>14.111007</td>\n      <td>61.147695</td>\n      <td>1.0</td>\n    </tr>\n    <tr>\n      <th>Lucena del Puerto</th>\n      <td>111.0</td>\n      <td>5.0</td>\n      <td>12.0</td>\n      <td>3371.0</td>\n      <td>148.323939</td>\n      <td>355.977455</td>\n      <td>1.0</td>\n    </tr>\n    <tr>\n      <th>Almonte</th>\n      <td>451.0</td>\n      <td>2.0</td>\n      <td>12.0</td>\n      <td>24191.0</td>\n      <td>8.267538</td>\n      <td>49.605225</td>\n      <td>1.0</td>\n    </tr>\n    <tr>\n      <th>Escacena del Campo</th>\n      <td>99.0</td>\n      <td>2.0</td>\n      <td>2.0</td>\n      <td>2284.0</td>\n      <td>87.565674</td>\n      <td>87.565674</td>\n      <td>1.0</td>\n    </tr>\n    <tr>\n      <th>Aracena</th>\n      <td>291.0</td>\n      <td>4.0</td>\n      <td>5.0</td>\n      <td>8107.0</td>\n      <td>49.340076</td>\n      <td>61.675096</td>\n      <td>1.0</td>\n    </tr>\n    <tr>\n      <th>Villablanca</th>\n      <td>69.0</td>\n      <td>7.0</td>\n      <td>14.0</td>\n      <td>2848.0</td>\n      <td>245.786517</td>\n      <td>491.573034</td>\n      <td>1.0</td>\n    </tr>\n    <tr>\n      <th>Almendro (El)</th>\n      <td>17.0</td>\n      <td>1.0</td>\n      <td>1.0</td>\n      <td>826.0</td>\n      <td>121.065375</td>\n      <td>121.065375</td>\n      <td>NaN</td>\n    </tr>\n    <tr>\n      <th>Alosno</th>\n      <td>45.0</td>\n      <td>1.0</td>\n      <td>1.0</td>\n      <td>3923.0</td>\n      <td>25.490696</td>\n      <td>25.490696</td>\n      <td>NaN</td>\n    </tr>\n    <tr>\n      <th>San Juan del Puerto</th>\n      <td>155.0</td>\n      <td>1.0</td>\n      <td>3.0</td>\n      <td>9300.0</td>\n      <td>10.752688</td>\n      <td>32.258065</td>\n      <td>NaN</td>\n    </tr>\n  </tbody>\n</table>\n</div>"
     },
     "metadata": {},
     "execution_count": 15
    }
   ],
   "source": [
    "# Nuevos casos desde la última captura\n",
    "tabla[tabla['Diferencia PDIA'] != 0].sort_values('Diferencia PDIA', ascending=False)"
   ]
  },
  {
   "cell_type": "code",
   "execution_count": 16,
   "metadata": {},
   "outputs": [],
   "source": [
    "if tabla[tabla['Diferencia PDIA'] != 0]['Diferencia PDIA'].sum() > 0:\n",
    "  # Save to csv\n",
    "  tabla.to_csv('covid_huelva.csv', encoding='utf-8', header=True, index=True)  "
   ]
  },
  {
   "cell_type": "code",
   "execution_count": 17,
   "metadata": {},
   "outputs": [
    {
     "output_type": "execute_result",
     "data": {
      "text/plain": [
       "Medida                             Confirmados PDIA  Confirmados PDIA 7 días  \\\n",
       "Lugar de residencia                                                            \n",
       "Cerro de Andévalo (El)                         52.0                     11.0   \n",
       "Cumbres Mayores                                19.0                      9.0   \n",
       "Villablanca                                    69.0                      7.0   \n",
       "Palma del Condado (La)                        566.0                     12.0   \n",
       "Lucena del Puerto                             111.0                      5.0   \n",
       "Manzanilla                                     52.0                      6.0   \n",
       "Isla Cristina                                 492.0                     32.0   \n",
       "Palos de la Frontera                          268.0                      9.0   \n",
       "Bonares                                        68.0                      1.0   \n",
       "Cartaya                                       433.0                      6.0   \n",
       "Moguer                                        405.0                     16.0   \n",
       "Huelva (capital)                             3280.0                    102.0   \n",
       "Huelva-Costa                                 6536.0                    184.0   \n",
       "Lepe                                          988.0                     12.0   \n",
       "Almendro (El)                                  17.0                      1.0   \n",
       "Huelva                                      11518.0                    284.0   \n",
       "Condado-Campiña                              3518.0                     58.0   \n",
       "Ayamonte                                      353.0                     14.0   \n",
       "Escacena del Campo                             99.0                      2.0   \n",
       "Encinasola                                     10.0                      1.0   \n",
       "Rociana del Condado                           122.0                      1.0   \n",
       "Aracena                                       291.0                      4.0   \n",
       "Aljaraque                                     446.0                      3.0   \n",
       "Sierra de Huelva-Andévalo Central            1321.0                     28.0   \n",
       "Punta Umbría                                  242.0                      6.0   \n",
       "Almonte                                       451.0                      2.0   \n",
       "Campillo (El)                                  55.0                      1.0   \n",
       "San Juan del Puerto                           155.0                      1.0   \n",
       "Paterna del Campo                              69.0                      1.0   \n",
       "Bollullos Par del Condado                     253.0                      1.0   \n",
       "Alosno                                         45.0                      1.0   \n",
       "Nerva                                          88.0                      1.0   \n",
       "Gibraleón                                     351.0                      1.0   \n",
       "Valverde del Camino                           274.0                      1.0   \n",
       "\n",
       "Medida                             Confirmados PDIA 14 días  Población  \\\n",
       "Lugar de residencia                                                      \n",
       "Cerro de Andévalo (El)                                 15.0     2364.0   \n",
       "Cumbres Mayores                                        10.0     1755.0   \n",
       "Villablanca                                            14.0     2848.0   \n",
       "Palma del Condado (La)                                 39.0    10761.0   \n",
       "Lucena del Puerto                                      12.0     3371.0   \n",
       "Manzanilla                                              7.0     2135.0   \n",
       "Isla Cristina                                          62.0    21264.0   \n",
       "Palos de la Frontera                                   28.0    11289.0   \n",
       "Bonares                                                12.0     6058.0   \n",
       "Cartaya                                                34.0    19974.0   \n",
       "Moguer                                                 35.0    22088.0   \n",
       "Huelva (capital)                                      198.0   143663.0   \n",
       "Huelva-Costa                                          387.0   288115.0   \n",
       "Lepe                                                   34.0    27431.0   \n",
       "Almendro (El)                                           1.0      826.0   \n",
       "Huelva                                                616.0   510743.0   \n",
       "Condado-Campiña                                       171.0   155057.0   \n",
       "Ayamonte                                               19.0    20946.0   \n",
       "Escacena del Campo                                      2.0     2284.0   \n",
       "Encinasola                                              1.0     1305.0   \n",
       "Rociana del Condado                                     5.0     7855.0   \n",
       "Aracena                                                 5.0     8107.0   \n",
       "Aljaraque                                              13.0    21260.0   \n",
       "Sierra de Huelva-Andévalo Central                      38.0    67571.0   \n",
       "Punta Umbría                                            8.0    15242.0   \n",
       "Almonte                                                12.0    24191.0   \n",
       "Campillo (El)                                           1.0     2023.0   \n",
       "San Juan del Puerto                                     3.0     9300.0   \n",
       "Paterna del Campo                                       1.0     3509.0   \n",
       "Bollullos Par del Condado                               4.0    14272.0   \n",
       "Alosno                                                  1.0     3923.0   \n",
       "Nerva                                                   1.0     5235.0   \n",
       "Gibraleón                                               2.0    12607.0   \n",
       "Valverde del Camino                                     1.0    12820.0   \n",
       "\n",
       "Medida                                  tasa7      tasa14  Diferencia PDIA  \n",
       "Lugar de residencia                                                         \n",
       "Cerro de Andévalo (El)             465.313029  634.517766              4.0  \n",
       "Cumbres Mayores                    512.820513  569.800570              2.0  \n",
       "Villablanca                        245.786517  491.573034              1.0  \n",
       "Palma del Condado (La)             111.513800  362.419849              5.0  \n",
       "Lucena del Puerto                  148.323939  355.977455              1.0  \n",
       "Manzanilla                         281.030445  327.868852              0.0  \n",
       "Isla Cristina                      150.489090  291.572611             14.0  \n",
       "Palos de la Frontera                79.723625  248.029055              1.0  \n",
       "Bonares                             16.507098  198.085177              0.0  \n",
       "Cartaya                             30.039051  170.221288              0.0  \n",
       "Moguer                              72.437523  158.457081              0.0  \n",
       "Huelva (capital)                    70.999492  137.822543             28.0  \n",
       "Huelva-Costa                        63.863388  134.321365             53.0  \n",
       "Lepe                                43.746127  123.947359              4.0  \n",
       "Almendro (El)                      121.065375  121.065375              NaN  \n",
       "Huelva                              55.605265  120.608604             80.0  \n",
       "Condado-Campiña                     37.405599  110.282025             10.0  \n",
       "Ayamonte                            66.838537   90.709443              2.0  \n",
       "Escacena del Campo                  87.565674   87.565674              1.0  \n",
       "Encinasola                          76.628352   76.628352              0.0  \n",
       "Rociana del Condado                 12.730745   63.653724              0.0  \n",
       "Aracena                             49.340076   61.675096              1.0  \n",
       "Aljaraque                           14.111007   61.147695              1.0  \n",
       "Sierra de Huelva-Andévalo Central   41.437895   56.237143              8.0  \n",
       "Punta Umbría                        39.364913   52.486550              1.0  \n",
       "Almonte                              8.267538   49.605225              1.0  \n",
       "Campillo (El)                       49.431537   49.431537              0.0  \n",
       "San Juan del Puerto                 10.752688   32.258065              NaN  \n",
       "Paterna del Campo                   28.498148   28.498148              0.0  \n",
       "Bollullos Par del Condado            7.006726   28.026906              0.0  \n",
       "Alosno                              25.490696   25.490696              NaN  \n",
       "Nerva                               19.102197   19.102197              0.0  \n",
       "Gibraleón                            7.932101   15.864202              0.0  \n",
       "Valverde del Camino                  7.800312    7.800312              0.0  "
      ],
      "text/html": "<div>\n<style scoped>\n    .dataframe tbody tr th:only-of-type {\n        vertical-align: middle;\n    }\n\n    .dataframe tbody tr th {\n        vertical-align: top;\n    }\n\n    .dataframe thead th {\n        text-align: right;\n    }\n</style>\n<table border=\"1\" class=\"dataframe\">\n  <thead>\n    <tr style=\"text-align: right;\">\n      <th>Medida</th>\n      <th>Confirmados PDIA</th>\n      <th>Confirmados PDIA 7 días</th>\n      <th>Confirmados PDIA 14 días</th>\n      <th>Población</th>\n      <th>tasa7</th>\n      <th>tasa14</th>\n      <th>Diferencia PDIA</th>\n    </tr>\n    <tr>\n      <th>Lugar de residencia</th>\n      <th></th>\n      <th></th>\n      <th></th>\n      <th></th>\n      <th></th>\n      <th></th>\n      <th></th>\n    </tr>\n  </thead>\n  <tbody>\n    <tr>\n      <th>Cerro de Andévalo (El)</th>\n      <td>52.0</td>\n      <td>11.0</td>\n      <td>15.0</td>\n      <td>2364.0</td>\n      <td>465.313029</td>\n      <td>634.517766</td>\n      <td>4.0</td>\n    </tr>\n    <tr>\n      <th>Cumbres Mayores</th>\n      <td>19.0</td>\n      <td>9.0</td>\n      <td>10.0</td>\n      <td>1755.0</td>\n      <td>512.820513</td>\n      <td>569.800570</td>\n      <td>2.0</td>\n    </tr>\n    <tr>\n      <th>Villablanca</th>\n      <td>69.0</td>\n      <td>7.0</td>\n      <td>14.0</td>\n      <td>2848.0</td>\n      <td>245.786517</td>\n      <td>491.573034</td>\n      <td>1.0</td>\n    </tr>\n    <tr>\n      <th>Palma del Condado (La)</th>\n      <td>566.0</td>\n      <td>12.0</td>\n      <td>39.0</td>\n      <td>10761.0</td>\n      <td>111.513800</td>\n      <td>362.419849</td>\n      <td>5.0</td>\n    </tr>\n    <tr>\n      <th>Lucena del Puerto</th>\n      <td>111.0</td>\n      <td>5.0</td>\n      <td>12.0</td>\n      <td>3371.0</td>\n      <td>148.323939</td>\n      <td>355.977455</td>\n      <td>1.0</td>\n    </tr>\n    <tr>\n      <th>Manzanilla</th>\n      <td>52.0</td>\n      <td>6.0</td>\n      <td>7.0</td>\n      <td>2135.0</td>\n      <td>281.030445</td>\n      <td>327.868852</td>\n      <td>0.0</td>\n    </tr>\n    <tr>\n      <th>Isla Cristina</th>\n      <td>492.0</td>\n      <td>32.0</td>\n      <td>62.0</td>\n      <td>21264.0</td>\n      <td>150.489090</td>\n      <td>291.572611</td>\n      <td>14.0</td>\n    </tr>\n    <tr>\n      <th>Palos de la Frontera</th>\n      <td>268.0</td>\n      <td>9.0</td>\n      <td>28.0</td>\n      <td>11289.0</td>\n      <td>79.723625</td>\n      <td>248.029055</td>\n      <td>1.0</td>\n    </tr>\n    <tr>\n      <th>Bonares</th>\n      <td>68.0</td>\n      <td>1.0</td>\n      <td>12.0</td>\n      <td>6058.0</td>\n      <td>16.507098</td>\n      <td>198.085177</td>\n      <td>0.0</td>\n    </tr>\n    <tr>\n      <th>Cartaya</th>\n      <td>433.0</td>\n      <td>6.0</td>\n      <td>34.0</td>\n      <td>19974.0</td>\n      <td>30.039051</td>\n      <td>170.221288</td>\n      <td>0.0</td>\n    </tr>\n    <tr>\n      <th>Moguer</th>\n      <td>405.0</td>\n      <td>16.0</td>\n      <td>35.0</td>\n      <td>22088.0</td>\n      <td>72.437523</td>\n      <td>158.457081</td>\n      <td>0.0</td>\n    </tr>\n    <tr>\n      <th>Huelva (capital)</th>\n      <td>3280.0</td>\n      <td>102.0</td>\n      <td>198.0</td>\n      <td>143663.0</td>\n      <td>70.999492</td>\n      <td>137.822543</td>\n      <td>28.0</td>\n    </tr>\n    <tr>\n      <th>Huelva-Costa</th>\n      <td>6536.0</td>\n      <td>184.0</td>\n      <td>387.0</td>\n      <td>288115.0</td>\n      <td>63.863388</td>\n      <td>134.321365</td>\n      <td>53.0</td>\n    </tr>\n    <tr>\n      <th>Lepe</th>\n      <td>988.0</td>\n      <td>12.0</td>\n      <td>34.0</td>\n      <td>27431.0</td>\n      <td>43.746127</td>\n      <td>123.947359</td>\n      <td>4.0</td>\n    </tr>\n    <tr>\n      <th>Almendro (El)</th>\n      <td>17.0</td>\n      <td>1.0</td>\n      <td>1.0</td>\n      <td>826.0</td>\n      <td>121.065375</td>\n      <td>121.065375</td>\n      <td>NaN</td>\n    </tr>\n    <tr>\n      <th>Huelva</th>\n      <td>11518.0</td>\n      <td>284.0</td>\n      <td>616.0</td>\n      <td>510743.0</td>\n      <td>55.605265</td>\n      <td>120.608604</td>\n      <td>80.0</td>\n    </tr>\n    <tr>\n      <th>Condado-Campiña</th>\n      <td>3518.0</td>\n      <td>58.0</td>\n      <td>171.0</td>\n      <td>155057.0</td>\n      <td>37.405599</td>\n      <td>110.282025</td>\n      <td>10.0</td>\n    </tr>\n    <tr>\n      <th>Ayamonte</th>\n      <td>353.0</td>\n      <td>14.0</td>\n      <td>19.0</td>\n      <td>20946.0</td>\n      <td>66.838537</td>\n      <td>90.709443</td>\n      <td>2.0</td>\n    </tr>\n    <tr>\n      <th>Escacena del Campo</th>\n      <td>99.0</td>\n      <td>2.0</td>\n      <td>2.0</td>\n      <td>2284.0</td>\n      <td>87.565674</td>\n      <td>87.565674</td>\n      <td>1.0</td>\n    </tr>\n    <tr>\n      <th>Encinasola</th>\n      <td>10.0</td>\n      <td>1.0</td>\n      <td>1.0</td>\n      <td>1305.0</td>\n      <td>76.628352</td>\n      <td>76.628352</td>\n      <td>0.0</td>\n    </tr>\n    <tr>\n      <th>Rociana del Condado</th>\n      <td>122.0</td>\n      <td>1.0</td>\n      <td>5.0</td>\n      <td>7855.0</td>\n      <td>12.730745</td>\n      <td>63.653724</td>\n      <td>0.0</td>\n    </tr>\n    <tr>\n      <th>Aracena</th>\n      <td>291.0</td>\n      <td>4.0</td>\n      <td>5.0</td>\n      <td>8107.0</td>\n      <td>49.340076</td>\n      <td>61.675096</td>\n      <td>1.0</td>\n    </tr>\n    <tr>\n      <th>Aljaraque</th>\n      <td>446.0</td>\n      <td>3.0</td>\n      <td>13.0</td>\n      <td>21260.0</td>\n      <td>14.111007</td>\n      <td>61.147695</td>\n      <td>1.0</td>\n    </tr>\n    <tr>\n      <th>Sierra de Huelva-Andévalo Central</th>\n      <td>1321.0</td>\n      <td>28.0</td>\n      <td>38.0</td>\n      <td>67571.0</td>\n      <td>41.437895</td>\n      <td>56.237143</td>\n      <td>8.0</td>\n    </tr>\n    <tr>\n      <th>Punta Umbría</th>\n      <td>242.0</td>\n      <td>6.0</td>\n      <td>8.0</td>\n      <td>15242.0</td>\n      <td>39.364913</td>\n      <td>52.486550</td>\n      <td>1.0</td>\n    </tr>\n    <tr>\n      <th>Almonte</th>\n      <td>451.0</td>\n      <td>2.0</td>\n      <td>12.0</td>\n      <td>24191.0</td>\n      <td>8.267538</td>\n      <td>49.605225</td>\n      <td>1.0</td>\n    </tr>\n    <tr>\n      <th>Campillo (El)</th>\n      <td>55.0</td>\n      <td>1.0</td>\n      <td>1.0</td>\n      <td>2023.0</td>\n      <td>49.431537</td>\n      <td>49.431537</td>\n      <td>0.0</td>\n    </tr>\n    <tr>\n      <th>San Juan del Puerto</th>\n      <td>155.0</td>\n      <td>1.0</td>\n      <td>3.0</td>\n      <td>9300.0</td>\n      <td>10.752688</td>\n      <td>32.258065</td>\n      <td>NaN</td>\n    </tr>\n    <tr>\n      <th>Paterna del Campo</th>\n      <td>69.0</td>\n      <td>1.0</td>\n      <td>1.0</td>\n      <td>3509.0</td>\n      <td>28.498148</td>\n      <td>28.498148</td>\n      <td>0.0</td>\n    </tr>\n    <tr>\n      <th>Bollullos Par del Condado</th>\n      <td>253.0</td>\n      <td>1.0</td>\n      <td>4.0</td>\n      <td>14272.0</td>\n      <td>7.006726</td>\n      <td>28.026906</td>\n      <td>0.0</td>\n    </tr>\n    <tr>\n      <th>Alosno</th>\n      <td>45.0</td>\n      <td>1.0</td>\n      <td>1.0</td>\n      <td>3923.0</td>\n      <td>25.490696</td>\n      <td>25.490696</td>\n      <td>NaN</td>\n    </tr>\n    <tr>\n      <th>Nerva</th>\n      <td>88.0</td>\n      <td>1.0</td>\n      <td>1.0</td>\n      <td>5235.0</td>\n      <td>19.102197</td>\n      <td>19.102197</td>\n      <td>0.0</td>\n    </tr>\n    <tr>\n      <th>Gibraleón</th>\n      <td>351.0</td>\n      <td>1.0</td>\n      <td>2.0</td>\n      <td>12607.0</td>\n      <td>7.932101</td>\n      <td>15.864202</td>\n      <td>0.0</td>\n    </tr>\n    <tr>\n      <th>Valverde del Camino</th>\n      <td>274.0</td>\n      <td>1.0</td>\n      <td>1.0</td>\n      <td>12820.0</td>\n      <td>7.800312</td>\n      <td>7.800312</td>\n      <td>0.0</td>\n    </tr>\n  </tbody>\n</table>\n</div>"
     },
     "metadata": {},
     "execution_count": 17
    }
   ],
   "source": [
    "tabla.sort_values('tasa14', ascending=False)"
   ]
  },
  {
   "cell_type": "code",
   "execution_count": 18,
   "metadata": {},
   "outputs": [
    {
     "output_type": "execute_result",
     "data": {
      "text/plain": [
       "Medida                             Confirmados PDIA  Confirmados PDIA 7 días  \\\n",
       "Lugar de residencia                                                            \n",
       "Bonares                                        68.0                      1.0   \n",
       "Almonte                                       451.0                      2.0   \n",
       "Cartaya                                       433.0                      6.0   \n",
       "Rociana del Condado                           122.0                      1.0   \n",
       "Aljaraque                                     446.0                      3.0   \n",
       "Bollullos Par del Condado                     253.0                      1.0   \n",
       "Palma del Condado (La)                        566.0                     12.0   \n",
       "Palos de la Frontera                          268.0                      9.0   \n",
       "San Juan del Puerto                           155.0                      1.0   \n",
       "Condado-Campiña                              3518.0                     58.0   \n",
       "Lepe                                          988.0                     12.0   \n",
       "Lucena del Puerto                             111.0                      5.0   \n",
       "Moguer                                        405.0                     16.0   \n",
       "Huelva                                      11518.0                    284.0   \n",
       "Huelva-Costa                                 6536.0                    184.0   \n",
       "Villablanca                                    69.0                      7.0   \n",
       "Gibraleón                                     351.0                      1.0   \n",
       "Huelva (capital)                             3280.0                    102.0   \n",
       "Isla Cristina                                 492.0                     32.0   \n",
       "Cerro de Andévalo (El)                         52.0                     11.0   \n",
       "Sierra de Huelva-Andévalo Central            1321.0                     28.0   \n",
       "Ayamonte                                      353.0                     14.0   \n",
       "Punta Umbría                                  242.0                      6.0   \n",
       "Aracena                                       291.0                      4.0   \n",
       "Manzanilla                                     52.0                      6.0   \n",
       "Cumbres Mayores                                19.0                      9.0   \n",
       "Almendro (El)                                  17.0                      1.0   \n",
       "Alosno                                         45.0                      1.0   \n",
       "Escacena del Campo                             99.0                      2.0   \n",
       "Nerva                                          88.0                      1.0   \n",
       "Encinasola                                     10.0                      1.0   \n",
       "Valverde del Camino                           274.0                      1.0   \n",
       "Paterna del Campo                              69.0                      1.0   \n",
       "Campillo (El)                                  55.0                      1.0   \n",
       "\n",
       "Medida                             Confirmados PDIA 14 días  Población  \\\n",
       "Lugar de residencia                                                      \n",
       "Bonares                                                12.0     6058.0   \n",
       "Almonte                                                12.0    24191.0   \n",
       "Cartaya                                                34.0    19974.0   \n",
       "Rociana del Condado                                     5.0     7855.0   \n",
       "Aljaraque                                              13.0    21260.0   \n",
       "Bollullos Par del Condado                               4.0    14272.0   \n",
       "Palma del Condado (La)                                 39.0    10761.0   \n",
       "Palos de la Frontera                                   28.0    11289.0   \n",
       "San Juan del Puerto                                     3.0     9300.0   \n",
       "Condado-Campiña                                       171.0   155057.0   \n",
       "Lepe                                                   34.0    27431.0   \n",
       "Lucena del Puerto                                      12.0     3371.0   \n",
       "Moguer                                                 35.0    22088.0   \n",
       "Huelva                                                616.0   510743.0   \n",
       "Huelva-Costa                                          387.0   288115.0   \n",
       "Villablanca                                            14.0     2848.0   \n",
       "Gibraleón                                               2.0    12607.0   \n",
       "Huelva (capital)                                      198.0   143663.0   \n",
       "Isla Cristina                                          62.0    21264.0   \n",
       "Cerro de Andévalo (El)                                 15.0     2364.0   \n",
       "Sierra de Huelva-Andévalo Central                      38.0    67571.0   \n",
       "Ayamonte                                               19.0    20946.0   \n",
       "Punta Umbría                                            8.0    15242.0   \n",
       "Aracena                                                 5.0     8107.0   \n",
       "Manzanilla                                              7.0     2135.0   \n",
       "Cumbres Mayores                                        10.0     1755.0   \n",
       "Almendro (El)                                           1.0      826.0   \n",
       "Alosno                                                  1.0     3923.0   \n",
       "Escacena del Campo                                      2.0     2284.0   \n",
       "Nerva                                                   1.0     5235.0   \n",
       "Encinasola                                              1.0     1305.0   \n",
       "Valverde del Camino                                     1.0    12820.0   \n",
       "Paterna del Campo                                       1.0     3509.0   \n",
       "Campillo (El)                                           1.0     2023.0   \n",
       "\n",
       "Medida                                  tasa7      tasa14  Diferencia PDIA  \\\n",
       "Lugar de residencia                                                          \n",
       "Bonares                             16.507098  198.085177              0.0   \n",
       "Almonte                              8.267538   49.605225              1.0   \n",
       "Cartaya                             30.039051  170.221288              0.0   \n",
       "Rociana del Condado                 12.730745   63.653724              0.0   \n",
       "Aljaraque                           14.111007   61.147695              1.0   \n",
       "Bollullos Par del Condado            7.006726   28.026906              0.0   \n",
       "Palma del Condado (La)             111.513800  362.419849              5.0   \n",
       "Palos de la Frontera                79.723625  248.029055              1.0   \n",
       "San Juan del Puerto                 10.752688   32.258065              0.0   \n",
       "Condado-Campiña                     37.405599  110.282025             10.0   \n",
       "Lepe                                43.746127  123.947359              4.0   \n",
       "Lucena del Puerto                  148.323939  355.977455              1.0   \n",
       "Moguer                              72.437523  158.457081              0.0   \n",
       "Huelva                              55.605265  120.608604             80.0   \n",
       "Huelva-Costa                        63.863388  134.321365             53.0   \n",
       "Villablanca                        245.786517  491.573034              1.0   \n",
       "Gibraleón                            7.932101   15.864202              0.0   \n",
       "Huelva (capital)                    70.999492  137.822543             28.0   \n",
       "Isla Cristina                      150.489090  291.572611             14.0   \n",
       "Cerro de Andévalo (El)             465.313029  634.517766              4.0   \n",
       "Sierra de Huelva-Andévalo Central   41.437895   56.237143              8.0   \n",
       "Ayamonte                            66.838537   90.709443              2.0   \n",
       "Punta Umbría                        39.364913   52.486550              1.0   \n",
       "Aracena                             49.340076   61.675096              1.0   \n",
       "Manzanilla                         281.030445  327.868852              0.0   \n",
       "Cumbres Mayores                    512.820513  569.800570              2.0   \n",
       "Almendro (El)                      121.065375  121.065375              0.0   \n",
       "Alosno                              25.490696   25.490696              0.0   \n",
       "Escacena del Campo                  87.565674   87.565674              1.0   \n",
       "Nerva                               19.102197   19.102197              0.0   \n",
       "Encinasola                          76.628352   76.628352              0.0   \n",
       "Valverde del Camino                  7.800312    7.800312              0.0   \n",
       "Paterna del Campo                   28.498148   28.498148              0.0   \n",
       "Campillo (El)                       49.431537   49.431537              0.0   \n",
       "\n",
       "Medida                                 7/14  \n",
       "Lugar de residencia                          \n",
       "Bonares                            0.083333  \n",
       "Almonte                            0.166667  \n",
       "Cartaya                            0.176471  \n",
       "Rociana del Condado                0.200000  \n",
       "Aljaraque                          0.230769  \n",
       "Bollullos Par del Condado          0.250000  \n",
       "Palma del Condado (La)             0.307692  \n",
       "Palos de la Frontera               0.321429  \n",
       "San Juan del Puerto                0.333333  \n",
       "Condado-Campiña                    0.339181  \n",
       "Lepe                               0.352941  \n",
       "Lucena del Puerto                  0.416667  \n",
       "Moguer                             0.457143  \n",
       "Huelva                             0.461039  \n",
       "Huelva-Costa                       0.475452  \n",
       "Villablanca                        0.500000  \n",
       "Gibraleón                          0.500000  \n",
       "Huelva (capital)                   0.515152  \n",
       "Isla Cristina                      0.516129  \n",
       "Cerro de Andévalo (El)             0.733333  \n",
       "Sierra de Huelva-Andévalo Central  0.736842  \n",
       "Ayamonte                           0.736842  \n",
       "Punta Umbría                       0.750000  \n",
       "Aracena                            0.800000  \n",
       "Manzanilla                         0.857143  \n",
       "Cumbres Mayores                    0.900000  \n",
       "Almendro (El)                      1.000000  \n",
       "Alosno                             1.000000  \n",
       "Escacena del Campo                 1.000000  \n",
       "Nerva                              1.000000  \n",
       "Encinasola                         1.000000  \n",
       "Valverde del Camino                1.000000  \n",
       "Paterna del Campo                  1.000000  \n",
       "Campillo (El)                      1.000000  "
      ],
      "text/html": "<div>\n<style scoped>\n    .dataframe tbody tr th:only-of-type {\n        vertical-align: middle;\n    }\n\n    .dataframe tbody tr th {\n        vertical-align: top;\n    }\n\n    .dataframe thead th {\n        text-align: right;\n    }\n</style>\n<table border=\"1\" class=\"dataframe\">\n  <thead>\n    <tr style=\"text-align: right;\">\n      <th>Medida</th>\n      <th>Confirmados PDIA</th>\n      <th>Confirmados PDIA 7 días</th>\n      <th>Confirmados PDIA 14 días</th>\n      <th>Población</th>\n      <th>tasa7</th>\n      <th>tasa14</th>\n      <th>Diferencia PDIA</th>\n      <th>7/14</th>\n    </tr>\n    <tr>\n      <th>Lugar de residencia</th>\n      <th></th>\n      <th></th>\n      <th></th>\n      <th></th>\n      <th></th>\n      <th></th>\n      <th></th>\n      <th></th>\n    </tr>\n  </thead>\n  <tbody>\n    <tr>\n      <th>Bonares</th>\n      <td>68.0</td>\n      <td>1.0</td>\n      <td>12.0</td>\n      <td>6058.0</td>\n      <td>16.507098</td>\n      <td>198.085177</td>\n      <td>0.0</td>\n      <td>0.083333</td>\n    </tr>\n    <tr>\n      <th>Almonte</th>\n      <td>451.0</td>\n      <td>2.0</td>\n      <td>12.0</td>\n      <td>24191.0</td>\n      <td>8.267538</td>\n      <td>49.605225</td>\n      <td>1.0</td>\n      <td>0.166667</td>\n    </tr>\n    <tr>\n      <th>Cartaya</th>\n      <td>433.0</td>\n      <td>6.0</td>\n      <td>34.0</td>\n      <td>19974.0</td>\n      <td>30.039051</td>\n      <td>170.221288</td>\n      <td>0.0</td>\n      <td>0.176471</td>\n    </tr>\n    <tr>\n      <th>Rociana del Condado</th>\n      <td>122.0</td>\n      <td>1.0</td>\n      <td>5.0</td>\n      <td>7855.0</td>\n      <td>12.730745</td>\n      <td>63.653724</td>\n      <td>0.0</td>\n      <td>0.200000</td>\n    </tr>\n    <tr>\n      <th>Aljaraque</th>\n      <td>446.0</td>\n      <td>3.0</td>\n      <td>13.0</td>\n      <td>21260.0</td>\n      <td>14.111007</td>\n      <td>61.147695</td>\n      <td>1.0</td>\n      <td>0.230769</td>\n    </tr>\n    <tr>\n      <th>Bollullos Par del Condado</th>\n      <td>253.0</td>\n      <td>1.0</td>\n      <td>4.0</td>\n      <td>14272.0</td>\n      <td>7.006726</td>\n      <td>28.026906</td>\n      <td>0.0</td>\n      <td>0.250000</td>\n    </tr>\n    <tr>\n      <th>Palma del Condado (La)</th>\n      <td>566.0</td>\n      <td>12.0</td>\n      <td>39.0</td>\n      <td>10761.0</td>\n      <td>111.513800</td>\n      <td>362.419849</td>\n      <td>5.0</td>\n      <td>0.307692</td>\n    </tr>\n    <tr>\n      <th>Palos de la Frontera</th>\n      <td>268.0</td>\n      <td>9.0</td>\n      <td>28.0</td>\n      <td>11289.0</td>\n      <td>79.723625</td>\n      <td>248.029055</td>\n      <td>1.0</td>\n      <td>0.321429</td>\n    </tr>\n    <tr>\n      <th>San Juan del Puerto</th>\n      <td>155.0</td>\n      <td>1.0</td>\n      <td>3.0</td>\n      <td>9300.0</td>\n      <td>10.752688</td>\n      <td>32.258065</td>\n      <td>0.0</td>\n      <td>0.333333</td>\n    </tr>\n    <tr>\n      <th>Condado-Campiña</th>\n      <td>3518.0</td>\n      <td>58.0</td>\n      <td>171.0</td>\n      <td>155057.0</td>\n      <td>37.405599</td>\n      <td>110.282025</td>\n      <td>10.0</td>\n      <td>0.339181</td>\n    </tr>\n    <tr>\n      <th>Lepe</th>\n      <td>988.0</td>\n      <td>12.0</td>\n      <td>34.0</td>\n      <td>27431.0</td>\n      <td>43.746127</td>\n      <td>123.947359</td>\n      <td>4.0</td>\n      <td>0.352941</td>\n    </tr>\n    <tr>\n      <th>Lucena del Puerto</th>\n      <td>111.0</td>\n      <td>5.0</td>\n      <td>12.0</td>\n      <td>3371.0</td>\n      <td>148.323939</td>\n      <td>355.977455</td>\n      <td>1.0</td>\n      <td>0.416667</td>\n    </tr>\n    <tr>\n      <th>Moguer</th>\n      <td>405.0</td>\n      <td>16.0</td>\n      <td>35.0</td>\n      <td>22088.0</td>\n      <td>72.437523</td>\n      <td>158.457081</td>\n      <td>0.0</td>\n      <td>0.457143</td>\n    </tr>\n    <tr>\n      <th>Huelva</th>\n      <td>11518.0</td>\n      <td>284.0</td>\n      <td>616.0</td>\n      <td>510743.0</td>\n      <td>55.605265</td>\n      <td>120.608604</td>\n      <td>80.0</td>\n      <td>0.461039</td>\n    </tr>\n    <tr>\n      <th>Huelva-Costa</th>\n      <td>6536.0</td>\n      <td>184.0</td>\n      <td>387.0</td>\n      <td>288115.0</td>\n      <td>63.863388</td>\n      <td>134.321365</td>\n      <td>53.0</td>\n      <td>0.475452</td>\n    </tr>\n    <tr>\n      <th>Villablanca</th>\n      <td>69.0</td>\n      <td>7.0</td>\n      <td>14.0</td>\n      <td>2848.0</td>\n      <td>245.786517</td>\n      <td>491.573034</td>\n      <td>1.0</td>\n      <td>0.500000</td>\n    </tr>\n    <tr>\n      <th>Gibraleón</th>\n      <td>351.0</td>\n      <td>1.0</td>\n      <td>2.0</td>\n      <td>12607.0</td>\n      <td>7.932101</td>\n      <td>15.864202</td>\n      <td>0.0</td>\n      <td>0.500000</td>\n    </tr>\n    <tr>\n      <th>Huelva (capital)</th>\n      <td>3280.0</td>\n      <td>102.0</td>\n      <td>198.0</td>\n      <td>143663.0</td>\n      <td>70.999492</td>\n      <td>137.822543</td>\n      <td>28.0</td>\n      <td>0.515152</td>\n    </tr>\n    <tr>\n      <th>Isla Cristina</th>\n      <td>492.0</td>\n      <td>32.0</td>\n      <td>62.0</td>\n      <td>21264.0</td>\n      <td>150.489090</td>\n      <td>291.572611</td>\n      <td>14.0</td>\n      <td>0.516129</td>\n    </tr>\n    <tr>\n      <th>Cerro de Andévalo (El)</th>\n      <td>52.0</td>\n      <td>11.0</td>\n      <td>15.0</td>\n      <td>2364.0</td>\n      <td>465.313029</td>\n      <td>634.517766</td>\n      <td>4.0</td>\n      <td>0.733333</td>\n    </tr>\n    <tr>\n      <th>Sierra de Huelva-Andévalo Central</th>\n      <td>1321.0</td>\n      <td>28.0</td>\n      <td>38.0</td>\n      <td>67571.0</td>\n      <td>41.437895</td>\n      <td>56.237143</td>\n      <td>8.0</td>\n      <td>0.736842</td>\n    </tr>\n    <tr>\n      <th>Ayamonte</th>\n      <td>353.0</td>\n      <td>14.0</td>\n      <td>19.0</td>\n      <td>20946.0</td>\n      <td>66.838537</td>\n      <td>90.709443</td>\n      <td>2.0</td>\n      <td>0.736842</td>\n    </tr>\n    <tr>\n      <th>Punta Umbría</th>\n      <td>242.0</td>\n      <td>6.0</td>\n      <td>8.0</td>\n      <td>15242.0</td>\n      <td>39.364913</td>\n      <td>52.486550</td>\n      <td>1.0</td>\n      <td>0.750000</td>\n    </tr>\n    <tr>\n      <th>Aracena</th>\n      <td>291.0</td>\n      <td>4.0</td>\n      <td>5.0</td>\n      <td>8107.0</td>\n      <td>49.340076</td>\n      <td>61.675096</td>\n      <td>1.0</td>\n      <td>0.800000</td>\n    </tr>\n    <tr>\n      <th>Manzanilla</th>\n      <td>52.0</td>\n      <td>6.0</td>\n      <td>7.0</td>\n      <td>2135.0</td>\n      <td>281.030445</td>\n      <td>327.868852</td>\n      <td>0.0</td>\n      <td>0.857143</td>\n    </tr>\n    <tr>\n      <th>Cumbres Mayores</th>\n      <td>19.0</td>\n      <td>9.0</td>\n      <td>10.0</td>\n      <td>1755.0</td>\n      <td>512.820513</td>\n      <td>569.800570</td>\n      <td>2.0</td>\n      <td>0.900000</td>\n    </tr>\n    <tr>\n      <th>Almendro (El)</th>\n      <td>17.0</td>\n      <td>1.0</td>\n      <td>1.0</td>\n      <td>826.0</td>\n      <td>121.065375</td>\n      <td>121.065375</td>\n      <td>0.0</td>\n      <td>1.000000</td>\n    </tr>\n    <tr>\n      <th>Alosno</th>\n      <td>45.0</td>\n      <td>1.0</td>\n      <td>1.0</td>\n      <td>3923.0</td>\n      <td>25.490696</td>\n      <td>25.490696</td>\n      <td>0.0</td>\n      <td>1.000000</td>\n    </tr>\n    <tr>\n      <th>Escacena del Campo</th>\n      <td>99.0</td>\n      <td>2.0</td>\n      <td>2.0</td>\n      <td>2284.0</td>\n      <td>87.565674</td>\n      <td>87.565674</td>\n      <td>1.0</td>\n      <td>1.000000</td>\n    </tr>\n    <tr>\n      <th>Nerva</th>\n      <td>88.0</td>\n      <td>1.0</td>\n      <td>1.0</td>\n      <td>5235.0</td>\n      <td>19.102197</td>\n      <td>19.102197</td>\n      <td>0.0</td>\n      <td>1.000000</td>\n    </tr>\n    <tr>\n      <th>Encinasola</th>\n      <td>10.0</td>\n      <td>1.0</td>\n      <td>1.0</td>\n      <td>1305.0</td>\n      <td>76.628352</td>\n      <td>76.628352</td>\n      <td>0.0</td>\n      <td>1.000000</td>\n    </tr>\n    <tr>\n      <th>Valverde del Camino</th>\n      <td>274.0</td>\n      <td>1.0</td>\n      <td>1.0</td>\n      <td>12820.0</td>\n      <td>7.800312</td>\n      <td>7.800312</td>\n      <td>0.0</td>\n      <td>1.000000</td>\n    </tr>\n    <tr>\n      <th>Paterna del Campo</th>\n      <td>69.0</td>\n      <td>1.0</td>\n      <td>1.0</td>\n      <td>3509.0</td>\n      <td>28.498148</td>\n      <td>28.498148</td>\n      <td>0.0</td>\n      <td>1.000000</td>\n    </tr>\n    <tr>\n      <th>Campillo (El)</th>\n      <td>55.0</td>\n      <td>1.0</td>\n      <td>1.0</td>\n      <td>2023.0</td>\n      <td>49.431537</td>\n      <td>49.431537</td>\n      <td>0.0</td>\n      <td>1.000000</td>\n    </tr>\n  </tbody>\n</table>\n</div>"
     },
     "metadata": {},
     "execution_count": 18
    }
   ],
   "source": [
    "# Peso de la tasa de la última semana en relación con la tasa a 14 días \n",
    "# Mejor cuanto menor. Valor 1 significa que no había casos antes de 7 días.\n",
    "tabla['7/14'] = tabla['tasa7'] / tabla['tasa14']\n",
    "tabla.fillna(0).sort_values('7/14', ascending=True)"
   ]
  },
  {
   "cell_type": "code",
   "execution_count": null,
   "metadata": {},
   "outputs": [],
   "source": []
  }
 ]
}