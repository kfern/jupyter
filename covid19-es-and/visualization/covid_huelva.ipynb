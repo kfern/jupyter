{
 "metadata": {
  "language_info": {
   "codemirror_mode": {
    "name": "ipython",
    "version": 3
   },
   "file_extension": ".py",
   "mimetype": "text/x-python",
   "name": "python",
   "nbconvert_exporter": "python",
   "pygments_lexer": "ipython3",
   "version": "3.6.9-final"
  },
  "orig_nbformat": 2,
  "kernelspec": {
   "name": "python_defaultSpec_1599891373368",
   "display_name": "Python 3.6.9 64-bit"
  }
 },
 "nbformat": 4,
 "nbformat_minor": 2,
 "cells": [
  {
   "cell_type": "code",
   "execution_count": 1,
   "metadata": {},
   "outputs": [],
   "source": [
    "import pandas as pd"
   ]
  },
  {
   "cell_type": "code",
   "execution_count": 2,
   "metadata": {},
   "outputs": [],
   "source": [
    "url = 'https://www.juntadeandalucia.es/institutodeestadisticaycartografia/badea/stpivot/stpivot/Print?cube=013d884c-cfc5-4c21-9e78-e26225682afd&type=3&foto=si&ejecutaDesde=&codConsulta=38668&consTipoVisua=JP'\n",
    "fields = ['Lugar de residencia', 'Medida', 'Valor']\n",
    "df = pd.read_csv(url, delimiter=';', usecols=fields)"
   ]
  },
  {
   "cell_type": "code",
   "execution_count": 3,
   "metadata": {},
   "outputs": [],
   "source": [
    "dfAnterior = pd.read_csv('covid_huelva.csv', index_col='Lugar de residencia')"
   ]
  },
  {
   "cell_type": "code",
   "execution_count": 4,
   "metadata": {
    "tags": []
   },
   "outputs": [
    {
     "output_type": "stream",
     "name": "stdout",
     "text": "Confirmados PCR en la provincia de Huelva:  877.0\n"
    }
   ],
   "source": [
    "# Confirmados PCR provincia Huelva\n",
    "p = df[df['Lugar de residencia'] == 'Huelva'][df['Medida'] == 'Confirmados PCR']['Valor'].values[0]\n",
    "print('Confirmados PCR en la provincia de Huelva: ', p)"
   ]
  },
  {
   "cell_type": "code",
   "execution_count": 5,
   "metadata": {
    "tags": []
   },
   "outputs": [
    {
     "output_type": "stream",
     "name": "stdout",
     "text": "Confirmados PCR en Huelva capital:  227.0\n"
    }
   ],
   "source": [
    "# Confirmados PCR Huelva capital\n",
    "c = df[df['Lugar de residencia'] == 'Huelva (capital)'][df['Medida'] == 'Confirmados PCR']['Valor'].values[0]\n",
    "print('Confirmados PCR en Huelva capital: ', c)"
   ]
  },
  {
   "cell_type": "code",
   "execution_count": 6,
   "metadata": {
    "tags": []
   },
   "outputs": [],
   "source": [
    "c7 = df[df['Lugar de residencia'] == 'Huelva (capital)'][df['Medida'] == 'Confirmados PCR 7 días']['Valor'].values[0]\n",
    "c14 = df[df['Lugar de residencia'] == 'Huelva (capital)'][df['Medida'] == 'Confirmados PCR 14 días']['Valor'].values[0]\n",
    "p = df[df['Lugar de residencia'] == 'Huelva (capital)'][df['Medida'] == 'Población']['Valor'].values[0]"
   ]
  },
  {
   "cell_type": "code",
   "execution_count": 7,
   "metadata": {
    "tags": []
   },
   "outputs": [
    {
     "output_type": "stream",
     "name": "stdout",
     "text": "Huelva (capital)\n\nUn positivo PCR cada 7981 personas en los últimos 7 días \n\nUn positivo PCR cada 4954 personas en los últimos 14 días\n"
    }
   ],
   "source": [
    "print('Huelva (capital)\\n')\n",
    "#print('Confirmados PCR 7 días x 1,000 habitantes: ', f\"{c7/(p/1000):.5f}\")\n",
    "print('Un positivo PCR cada', f\"{p/c7:.0f}\", 'personas en los últimos 7 días', '\\n')\n",
    "#print('Confirmados PCR 14 días x 1,000 habitantes: ', f\"{c14/(p/1000):.5f}\")\n",
    "print('Un positivo PCR cada', f\"{p/c14:.0f}\", 'personas en los últimos 14 días')"
   ]
  },
  {
   "cell_type": "code",
   "execution_count": 8,
   "metadata": {},
   "outputs": [],
   "source": [
    "filtro = ((df['Medida'] == 'Confirmados PCR')| (df['Medida'] == 'Confirmados PCR 7 días') | (df['Medida'] == 'Población' ) | (df['Medida'] == 'Confirmados PCR 14 días')) & (df['Valor'] > 0)\n",
    "tabla = pd.pivot_table(df.loc[filtro], values='Valor', index='Lugar de residencia', columns='Medida').dropna()"
   ]
  },
  {
   "cell_type": "code",
   "execution_count": 9,
   "metadata": {},
   "outputs": [],
   "source": [
    "# Reorder columns\n",
    "tabla = tabla[['Confirmados PCR', 'Confirmados PCR 7 días', 'Confirmados PCR 14 días', 'Población']]"
   ]
  },
  {
   "cell_type": "code",
   "execution_count": 10,
   "metadata": {},
   "outputs": [],
   "source": [
    "tabla['tasa7'] = tabla['Confirmados PCR 7 días']/tabla['Población']*100000\n",
    "tabla['tasa14'] = tabla['Confirmados PCR 14 días']/tabla['Población']*100000"
   ]
  },
  {
   "cell_type": "code",
   "execution_count": 11,
   "metadata": {},
   "outputs": [],
   "source": [
    "tabla['Diferencia PCR'] = tabla['Confirmados PCR'] - dfAnterior['Confirmados PCR']"
   ]
  },
  {
   "cell_type": "code",
   "execution_count": 12,
   "metadata": {},
   "outputs": [
    {
     "output_type": "execute_result",
     "data": {
      "text/plain": "Medida                     Confirmados PCR  Confirmados PCR 7 días  \\\nLugar de residencia                                                  \nHuelva                               877.0                   138.0   \nHuelva-Costa                         449.0                    60.0   \nCondado-Campiña                      275.0                    66.0   \nBollullos Par del Condado             29.0                    15.0   \nIsla Cristina                         39.0                    18.0   \nHuelva (capital)                     227.0                    18.0   \nAljaraque                             48.0                     5.0   \nPalma del Condado (La)                31.0                    10.0   \nPalos de la Frontera                  11.0                     3.0   \nAyamonte                              17.0                     5.0   \nLepe                                  61.0                     8.0   \nMoguer                                26.0                     3.0   \nVillalba del Alcor                    32.0                    18.0   \n\nMedida                     Confirmados PCR 14 días  Población       tasa7  \\\nLugar de residencia                                                         \nHuelva                                       228.0   510743.0   27.019460   \nHuelva-Costa                                  95.0   288115.0   20.825018   \nCondado-Campiña                              104.0   155057.0   42.564992   \nBollullos Par del Condado                     18.0    14272.0  105.100897   \nIsla Cristina                                 23.0    21264.0   84.650113   \nHuelva (capital)                              29.0   143663.0   12.529322   \nAljaraque                                      8.0    21260.0   23.518344   \nPalma del Condado (La)                        11.0    10761.0   92.928167   \nPalos de la Frontera                           3.0    11289.0   26.574542   \nAyamonte                                       7.0    20946.0   23.870906   \nLepe                                          17.0    27431.0   29.164084   \nMoguer                                         7.0    22088.0   13.582035   \nVillalba del Alcor                            30.0     3338.0  539.245057   \n\nMedida                         tasa14  Diferencia PCR  \nLugar de residencia                                    \nHuelva                      44.640847            26.0  \nHuelva-Costa                32.972945            14.0  \nCondado-Campiña             67.072109            12.0  \nBollullos Par del Condado  126.121076             5.0  \nIsla Cristina              108.164033             5.0  \nHuelva (capital)            20.186130             4.0  \nAljaraque                   37.629351             2.0  \nPalma del Condado (La)     102.220983             2.0  \nPalos de la Frontera        26.574542             2.0  \nAyamonte                    33.419269             1.0  \nLepe                        61.973679             1.0  \nMoguer                      31.691416             1.0  \nVillalba del Alcor         898.741762             1.0  ",
      "text/html": "<div>\n<style scoped>\n    .dataframe tbody tr th:only-of-type {\n        vertical-align: middle;\n    }\n\n    .dataframe tbody tr th {\n        vertical-align: top;\n    }\n\n    .dataframe thead th {\n        text-align: right;\n    }\n</style>\n<table border=\"1\" class=\"dataframe\">\n  <thead>\n    <tr style=\"text-align: right;\">\n      <th>Medida</th>\n      <th>Confirmados PCR</th>\n      <th>Confirmados PCR 7 días</th>\n      <th>Confirmados PCR 14 días</th>\n      <th>Población</th>\n      <th>tasa7</th>\n      <th>tasa14</th>\n      <th>Diferencia PCR</th>\n    </tr>\n    <tr>\n      <th>Lugar de residencia</th>\n      <th></th>\n      <th></th>\n      <th></th>\n      <th></th>\n      <th></th>\n      <th></th>\n      <th></th>\n    </tr>\n  </thead>\n  <tbody>\n    <tr>\n      <th>Huelva</th>\n      <td>877.0</td>\n      <td>138.0</td>\n      <td>228.0</td>\n      <td>510743.0</td>\n      <td>27.019460</td>\n      <td>44.640847</td>\n      <td>26.0</td>\n    </tr>\n    <tr>\n      <th>Huelva-Costa</th>\n      <td>449.0</td>\n      <td>60.0</td>\n      <td>95.0</td>\n      <td>288115.0</td>\n      <td>20.825018</td>\n      <td>32.972945</td>\n      <td>14.0</td>\n    </tr>\n    <tr>\n      <th>Condado-Campiña</th>\n      <td>275.0</td>\n      <td>66.0</td>\n      <td>104.0</td>\n      <td>155057.0</td>\n      <td>42.564992</td>\n      <td>67.072109</td>\n      <td>12.0</td>\n    </tr>\n    <tr>\n      <th>Bollullos Par del Condado</th>\n      <td>29.0</td>\n      <td>15.0</td>\n      <td>18.0</td>\n      <td>14272.0</td>\n      <td>105.100897</td>\n      <td>126.121076</td>\n      <td>5.0</td>\n    </tr>\n    <tr>\n      <th>Isla Cristina</th>\n      <td>39.0</td>\n      <td>18.0</td>\n      <td>23.0</td>\n      <td>21264.0</td>\n      <td>84.650113</td>\n      <td>108.164033</td>\n      <td>5.0</td>\n    </tr>\n    <tr>\n      <th>Huelva (capital)</th>\n      <td>227.0</td>\n      <td>18.0</td>\n      <td>29.0</td>\n      <td>143663.0</td>\n      <td>12.529322</td>\n      <td>20.186130</td>\n      <td>4.0</td>\n    </tr>\n    <tr>\n      <th>Aljaraque</th>\n      <td>48.0</td>\n      <td>5.0</td>\n      <td>8.0</td>\n      <td>21260.0</td>\n      <td>23.518344</td>\n      <td>37.629351</td>\n      <td>2.0</td>\n    </tr>\n    <tr>\n      <th>Palma del Condado (La)</th>\n      <td>31.0</td>\n      <td>10.0</td>\n      <td>11.0</td>\n      <td>10761.0</td>\n      <td>92.928167</td>\n      <td>102.220983</td>\n      <td>2.0</td>\n    </tr>\n    <tr>\n      <th>Palos de la Frontera</th>\n      <td>11.0</td>\n      <td>3.0</td>\n      <td>3.0</td>\n      <td>11289.0</td>\n      <td>26.574542</td>\n      <td>26.574542</td>\n      <td>2.0</td>\n    </tr>\n    <tr>\n      <th>Ayamonte</th>\n      <td>17.0</td>\n      <td>5.0</td>\n      <td>7.0</td>\n      <td>20946.0</td>\n      <td>23.870906</td>\n      <td>33.419269</td>\n      <td>1.0</td>\n    </tr>\n    <tr>\n      <th>Lepe</th>\n      <td>61.0</td>\n      <td>8.0</td>\n      <td>17.0</td>\n      <td>27431.0</td>\n      <td>29.164084</td>\n      <td>61.973679</td>\n      <td>1.0</td>\n    </tr>\n    <tr>\n      <th>Moguer</th>\n      <td>26.0</td>\n      <td>3.0</td>\n      <td>7.0</td>\n      <td>22088.0</td>\n      <td>13.582035</td>\n      <td>31.691416</td>\n      <td>1.0</td>\n    </tr>\n    <tr>\n      <th>Villalba del Alcor</th>\n      <td>32.0</td>\n      <td>18.0</td>\n      <td>30.0</td>\n      <td>3338.0</td>\n      <td>539.245057</td>\n      <td>898.741762</td>\n      <td>1.0</td>\n    </tr>\n  </tbody>\n</table>\n</div>"
     },
     "metadata": {},
     "execution_count": 12
    }
   ],
   "source": [
    "# Nuevos casos desde la última captura\n",
    "tabla[tabla['Diferencia PCR'] > 0].sort_values('Diferencia PCR', ascending=False)"
   ]
  },
  {
   "cell_type": "code",
   "execution_count": 13,
   "metadata": {},
   "outputs": [],
   "source": [
    "# Save to csv\n",
    "tabla.to_csv('covid_huelva.csv', encoding='utf-8', header=True, index=True)"
   ]
  },
  {
   "cell_type": "code",
   "execution_count": 14,
   "metadata": {},
   "outputs": [
    {
     "output_type": "execute_result",
     "data": {
      "text/plain": "Medida                             Confirmados PCR  Confirmados PCR 7 días  \\\nLugar de residencia                                                          \nVillalba del Alcor                            32.0                    18.0   \nEscacena del Campo                            14.0                     9.0   \nCabezas Rubias                                 2.0                     1.0   \nMinas de Riotinto                             14.0                     1.0   \nBollullos Par del Condado                     29.0                    15.0   \nIsla Cristina                                 39.0                    18.0   \nPalma del Condado (La)                        31.0                    10.0   \nCortegana                                      8.0                     4.0   \nCondado-Campiña                              275.0                    66.0   \nTrigueros                                     29.0                     3.0   \nLepe                                          61.0                     8.0   \nVillarrasa                                     2.0                     1.0   \nPunta Umbría                                  21.0                     4.0   \nHuelva                                       877.0                   138.0   \nAljaraque                                     48.0                     5.0   \nAyamonte                                      17.0                     5.0   \nAlmonte                                       41.0                     1.0   \nHuelva-Costa                                 449.0                    60.0   \nZalamea la Real                               14.0                     1.0   \nMoguer                                        26.0                     3.0   \nSierra de Huelva-Andévalo Central            139.0                     6.0   \nPalos de la Frontera                          11.0                     3.0   \nSan Juan del Puerto                           18.0                     1.0   \nHuelva (capital)                             227.0                    18.0   \nGibraleón                                     12.0                     1.0   \nRociana del Condado                            4.0                     1.0   \nCartaya                                       15.0                     1.0   \n\nMedida                             Confirmados PCR 14 días  Población  \\\nLugar de residencia                                                     \nVillalba del Alcor                                    30.0     3338.0   \nEscacena del Campo                                    13.0     2284.0   \nCabezas Rubias                                         2.0      730.0   \nMinas de Riotinto                                      9.0     3848.0   \nBollullos Par del Condado                             18.0    14272.0   \nIsla Cristina                                         23.0    21264.0   \nPalma del Condado (La)                                11.0    10761.0   \nCortegana                                              4.0     4666.0   \nCondado-Campiña                                      104.0   155057.0   \nTrigueros                                              5.0     7713.0   \nLepe                                                  17.0    27431.0   \nVillarrasa                                             1.0     2176.0   \nPunta Umbría                                           7.0    15242.0   \nHuelva                                               228.0   510743.0   \nAljaraque                                              8.0    21260.0   \nAyamonte                                               7.0    20946.0   \nAlmonte                                                8.0    24191.0   \nHuelva-Costa                                          95.0   288115.0   \nZalamea la Real                                        1.0     3068.0   \nMoguer                                                 7.0    22088.0   \nSierra de Huelva-Andévalo Central                     19.0    67571.0   \nPalos de la Frontera                                   3.0    11289.0   \nSan Juan del Puerto                                    2.0     9300.0   \nHuelva (capital)                                      29.0   143663.0   \nGibraleón                                              2.0    12607.0   \nRociana del Condado                                    1.0     7855.0   \nCartaya                                                2.0    19974.0   \n\nMedida                                  tasa7      tasa14  Diferencia PCR  \nLugar de residencia                                                        \nVillalba del Alcor                 539.245057  898.741762             1.0  \nEscacena del Campo                 394.045534  569.176883             0.0  \nCabezas Rubias                     136.986301  273.972603             0.0  \nMinas de Riotinto                   25.987526  233.887734             0.0  \nBollullos Par del Condado          105.100897  126.121076             5.0  \nIsla Cristina                       84.650113  108.164033             5.0  \nPalma del Condado (La)              92.928167  102.220983             2.0  \nCortegana                           85.726532   85.726532             0.0  \nCondado-Campiña                     42.564992   67.072109            12.0  \nTrigueros                           38.895371   64.825619             0.0  \nLepe                                29.164084   61.973679             1.0  \nVillarrasa                          45.955882   45.955882             0.0  \nPunta Umbría                        26.243275   45.925732             0.0  \nHuelva                              27.019460   44.640847            26.0  \nAljaraque                           23.518344   37.629351             2.0  \nAyamonte                            23.870906   33.419269             1.0  \nAlmonte                              4.133769   33.070150             0.0  \nHuelva-Costa                        20.825018   32.972945            14.0  \nZalamea la Real                     32.594524   32.594524             0.0  \nMoguer                              13.582035   31.691416             1.0  \nSierra de Huelva-Andévalo Central    8.879549   28.118572             0.0  \nPalos de la Frontera                26.574542   26.574542             2.0  \nSan Juan del Puerto                 10.752688   21.505376             NaN  \nHuelva (capital)                    12.529322   20.186130             4.0  \nGibraleón                            7.932101   15.864202             0.0  \nRociana del Condado                 12.730745   12.730745             0.0  \nCartaya                              5.006508   10.013017             NaN  ",
      "text/html": "<div>\n<style scoped>\n    .dataframe tbody tr th:only-of-type {\n        vertical-align: middle;\n    }\n\n    .dataframe tbody tr th {\n        vertical-align: top;\n    }\n\n    .dataframe thead th {\n        text-align: right;\n    }\n</style>\n<table border=\"1\" class=\"dataframe\">\n  <thead>\n    <tr style=\"text-align: right;\">\n      <th>Medida</th>\n      <th>Confirmados PCR</th>\n      <th>Confirmados PCR 7 días</th>\n      <th>Confirmados PCR 14 días</th>\n      <th>Población</th>\n      <th>tasa7</th>\n      <th>tasa14</th>\n      <th>Diferencia PCR</th>\n    </tr>\n    <tr>\n      <th>Lugar de residencia</th>\n      <th></th>\n      <th></th>\n      <th></th>\n      <th></th>\n      <th></th>\n      <th></th>\n      <th></th>\n    </tr>\n  </thead>\n  <tbody>\n    <tr>\n      <th>Villalba del Alcor</th>\n      <td>32.0</td>\n      <td>18.0</td>\n      <td>30.0</td>\n      <td>3338.0</td>\n      <td>539.245057</td>\n      <td>898.741762</td>\n      <td>1.0</td>\n    </tr>\n    <tr>\n      <th>Escacena del Campo</th>\n      <td>14.0</td>\n      <td>9.0</td>\n      <td>13.0</td>\n      <td>2284.0</td>\n      <td>394.045534</td>\n      <td>569.176883</td>\n      <td>0.0</td>\n    </tr>\n    <tr>\n      <th>Cabezas Rubias</th>\n      <td>2.0</td>\n      <td>1.0</td>\n      <td>2.0</td>\n      <td>730.0</td>\n      <td>136.986301</td>\n      <td>273.972603</td>\n      <td>0.0</td>\n    </tr>\n    <tr>\n      <th>Minas de Riotinto</th>\n      <td>14.0</td>\n      <td>1.0</td>\n      <td>9.0</td>\n      <td>3848.0</td>\n      <td>25.987526</td>\n      <td>233.887734</td>\n      <td>0.0</td>\n    </tr>\n    <tr>\n      <th>Bollullos Par del Condado</th>\n      <td>29.0</td>\n      <td>15.0</td>\n      <td>18.0</td>\n      <td>14272.0</td>\n      <td>105.100897</td>\n      <td>126.121076</td>\n      <td>5.0</td>\n    </tr>\n    <tr>\n      <th>Isla Cristina</th>\n      <td>39.0</td>\n      <td>18.0</td>\n      <td>23.0</td>\n      <td>21264.0</td>\n      <td>84.650113</td>\n      <td>108.164033</td>\n      <td>5.0</td>\n    </tr>\n    <tr>\n      <th>Palma del Condado (La)</th>\n      <td>31.0</td>\n      <td>10.0</td>\n      <td>11.0</td>\n      <td>10761.0</td>\n      <td>92.928167</td>\n      <td>102.220983</td>\n      <td>2.0</td>\n    </tr>\n    <tr>\n      <th>Cortegana</th>\n      <td>8.0</td>\n      <td>4.0</td>\n      <td>4.0</td>\n      <td>4666.0</td>\n      <td>85.726532</td>\n      <td>85.726532</td>\n      <td>0.0</td>\n    </tr>\n    <tr>\n      <th>Condado-Campiña</th>\n      <td>275.0</td>\n      <td>66.0</td>\n      <td>104.0</td>\n      <td>155057.0</td>\n      <td>42.564992</td>\n      <td>67.072109</td>\n      <td>12.0</td>\n    </tr>\n    <tr>\n      <th>Trigueros</th>\n      <td>29.0</td>\n      <td>3.0</td>\n      <td>5.0</td>\n      <td>7713.0</td>\n      <td>38.895371</td>\n      <td>64.825619</td>\n      <td>0.0</td>\n    </tr>\n    <tr>\n      <th>Lepe</th>\n      <td>61.0</td>\n      <td>8.0</td>\n      <td>17.0</td>\n      <td>27431.0</td>\n      <td>29.164084</td>\n      <td>61.973679</td>\n      <td>1.0</td>\n    </tr>\n    <tr>\n      <th>Villarrasa</th>\n      <td>2.0</td>\n      <td>1.0</td>\n      <td>1.0</td>\n      <td>2176.0</td>\n      <td>45.955882</td>\n      <td>45.955882</td>\n      <td>0.0</td>\n    </tr>\n    <tr>\n      <th>Punta Umbría</th>\n      <td>21.0</td>\n      <td>4.0</td>\n      <td>7.0</td>\n      <td>15242.0</td>\n      <td>26.243275</td>\n      <td>45.925732</td>\n      <td>0.0</td>\n    </tr>\n    <tr>\n      <th>Huelva</th>\n      <td>877.0</td>\n      <td>138.0</td>\n      <td>228.0</td>\n      <td>510743.0</td>\n      <td>27.019460</td>\n      <td>44.640847</td>\n      <td>26.0</td>\n    </tr>\n    <tr>\n      <th>Aljaraque</th>\n      <td>48.0</td>\n      <td>5.0</td>\n      <td>8.0</td>\n      <td>21260.0</td>\n      <td>23.518344</td>\n      <td>37.629351</td>\n      <td>2.0</td>\n    </tr>\n    <tr>\n      <th>Ayamonte</th>\n      <td>17.0</td>\n      <td>5.0</td>\n      <td>7.0</td>\n      <td>20946.0</td>\n      <td>23.870906</td>\n      <td>33.419269</td>\n      <td>1.0</td>\n    </tr>\n    <tr>\n      <th>Almonte</th>\n      <td>41.0</td>\n      <td>1.0</td>\n      <td>8.0</td>\n      <td>24191.0</td>\n      <td>4.133769</td>\n      <td>33.070150</td>\n      <td>0.0</td>\n    </tr>\n    <tr>\n      <th>Huelva-Costa</th>\n      <td>449.0</td>\n      <td>60.0</td>\n      <td>95.0</td>\n      <td>288115.0</td>\n      <td>20.825018</td>\n      <td>32.972945</td>\n      <td>14.0</td>\n    </tr>\n    <tr>\n      <th>Zalamea la Real</th>\n      <td>14.0</td>\n      <td>1.0</td>\n      <td>1.0</td>\n      <td>3068.0</td>\n      <td>32.594524</td>\n      <td>32.594524</td>\n      <td>0.0</td>\n    </tr>\n    <tr>\n      <th>Moguer</th>\n      <td>26.0</td>\n      <td>3.0</td>\n      <td>7.0</td>\n      <td>22088.0</td>\n      <td>13.582035</td>\n      <td>31.691416</td>\n      <td>1.0</td>\n    </tr>\n    <tr>\n      <th>Sierra de Huelva-Andévalo Central</th>\n      <td>139.0</td>\n      <td>6.0</td>\n      <td>19.0</td>\n      <td>67571.0</td>\n      <td>8.879549</td>\n      <td>28.118572</td>\n      <td>0.0</td>\n    </tr>\n    <tr>\n      <th>Palos de la Frontera</th>\n      <td>11.0</td>\n      <td>3.0</td>\n      <td>3.0</td>\n      <td>11289.0</td>\n      <td>26.574542</td>\n      <td>26.574542</td>\n      <td>2.0</td>\n    </tr>\n    <tr>\n      <th>San Juan del Puerto</th>\n      <td>18.0</td>\n      <td>1.0</td>\n      <td>2.0</td>\n      <td>9300.0</td>\n      <td>10.752688</td>\n      <td>21.505376</td>\n      <td>NaN</td>\n    </tr>\n    <tr>\n      <th>Huelva (capital)</th>\n      <td>227.0</td>\n      <td>18.0</td>\n      <td>29.0</td>\n      <td>143663.0</td>\n      <td>12.529322</td>\n      <td>20.186130</td>\n      <td>4.0</td>\n    </tr>\n    <tr>\n      <th>Gibraleón</th>\n      <td>12.0</td>\n      <td>1.0</td>\n      <td>2.0</td>\n      <td>12607.0</td>\n      <td>7.932101</td>\n      <td>15.864202</td>\n      <td>0.0</td>\n    </tr>\n    <tr>\n      <th>Rociana del Condado</th>\n      <td>4.0</td>\n      <td>1.0</td>\n      <td>1.0</td>\n      <td>7855.0</td>\n      <td>12.730745</td>\n      <td>12.730745</td>\n      <td>0.0</td>\n    </tr>\n    <tr>\n      <th>Cartaya</th>\n      <td>15.0</td>\n      <td>1.0</td>\n      <td>2.0</td>\n      <td>19974.0</td>\n      <td>5.006508</td>\n      <td>10.013017</td>\n      <td>NaN</td>\n    </tr>\n  </tbody>\n</table>\n</div>"
     },
     "metadata": {},
     "execution_count": 14
    }
   ],
   "source": [
    "tabla.sort_values('tasa14', ascending=False)"
   ]
  }
 ]
}