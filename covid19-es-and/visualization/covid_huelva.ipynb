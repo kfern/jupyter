{
 "metadata": {
  "language_info": {
   "codemirror_mode": {
    "name": "ipython",
    "version": 3
   },
   "file_extension": ".py",
   "mimetype": "text/x-python",
   "name": "python",
   "nbconvert_exporter": "python",
   "pygments_lexer": "ipython3",
   "version": "3.6.9-final"
  },
  "orig_nbformat": 2,
  "kernelspec": {
   "name": "python_defaultSpec_1600880917062",
   "display_name": "Python 3.6.9 64-bit"
  }
 },
 "nbformat": 4,
 "nbformat_minor": 2,
 "cells": [
  {
   "cell_type": "code",
   "execution_count": 1,
   "metadata": {},
   "outputs": [],
   "source": [
    "import pandas as pd"
   ]
  },
  {
   "cell_type": "code",
   "execution_count": 2,
   "metadata": {},
   "outputs": [],
   "source": [
    "url = 'https://www.juntadeandalucia.es/institutodeestadisticaycartografia/badea/stpivot/stpivot/Print?cube=013d884c-cfc5-4c21-9e78-e26225682afd&type=3&foto=si&ejecutaDesde=&codConsulta=38668&consTipoVisua=JP'\n",
    "fields = ['Lugar de residencia', 'Medida', 'Valor']\n",
    "df = pd.read_csv(url, delimiter=';', usecols=fields, decimal=',')"
   ]
  },
  {
   "cell_type": "code",
   "execution_count": 3,
   "metadata": {},
   "outputs": [],
   "source": [
    "df['Valor'] = pd.to_numeric(df['Valor'],errors='coerce')"
   ]
  },
  {
   "cell_type": "code",
   "execution_count": 4,
   "metadata": {},
   "outputs": [],
   "source": [
    "dfAnterior = pd.read_csv('covid_huelva.csv', index_col='Lugar de residencia')"
   ]
  },
  {
   "cell_type": "code",
   "execution_count": 5,
   "metadata": {
    "tags": []
   },
   "outputs": [
    {
     "output_type": "stream",
     "name": "stdout",
     "text": "Confirmados PCR en la provincia de Huelva:  1188.0\n"
    }
   ],
   "source": [
    "# Confirmados PCR provincia Huelva\n",
    "p = df[df['Lugar de residencia'] == 'Huelva'][df['Medida'] == 'Confirmados PCR']['Valor'].values[0]\n",
    "print('Confirmados PCR en la provincia de Huelva: ', p)"
   ]
  },
  {
   "cell_type": "code",
   "execution_count": 6,
   "metadata": {
    "tags": []
   },
   "outputs": [
    {
     "output_type": "stream",
     "name": "stdout",
     "text": "Confirmados PCR en Huelva capital:  319.0\n"
    }
   ],
   "source": [
    "# Confirmados PCR Huelva capital\n",
    "c = df[df['Lugar de residencia'] == 'Huelva (capital)'][df['Medida'] == 'Confirmados PCR']['Valor'].values[0]\n",
    "print('Confirmados PCR en Huelva capital: ', c)"
   ]
  },
  {
   "cell_type": "code",
   "execution_count": 7,
   "metadata": {
    "tags": []
   },
   "outputs": [],
   "source": [
    "c7 = df[df['Lugar de residencia'] == 'Huelva (capital)'][df['Medida'] == 'Confirmados PCR 7 días']['Valor'].values[0]\n",
    "c14 = df[df['Lugar de residencia'] == 'Huelva (capital)'][df['Medida'] == 'Confirmados PCR 14 días']['Valor'].values[0]\n",
    "p = df[df['Lugar de residencia'] == 'Huelva (capital)'][df['Medida'] == 'Población']['Valor'].values[0]"
   ]
  },
  {
   "cell_type": "code",
   "execution_count": 8,
   "metadata": {
    "tags": []
   },
   "outputs": [
    {
     "output_type": "stream",
     "name": "stdout",
     "text": "Huelva (capital)\n\nUn positivo PCR cada 2993 personas en los últimos 7 días \n\nUn positivo PCR cada 1528 personas en los últimos 14 días\n"
    }
   ],
   "source": [
    "print('Huelva (capital)\\n')\n",
    "#print('Confirmados PCR 7 días x 1,000 habitantes: ', f\"{c7/(p/1000):.5f}\")\n",
    "print('Un positivo PCR cada', f\"{p/c7:.0f}\", 'personas en los últimos 7 días', '\\n')\n",
    "#print('Confirmados PCR 14 días x 1,000 habitantes: ', f\"{c14/(p/1000):.5f}\")\n",
    "print('Un positivo PCR cada', f\"{p/c14:.0f}\", 'personas en los últimos 14 días')"
   ]
  },
  {
   "cell_type": "code",
   "execution_count": 9,
   "metadata": {},
   "outputs": [],
   "source": [
    "filtro = ((df['Medida'] == 'Confirmados PCR')| (df['Medida'] == 'Confirmados PCR 7 días') | (df['Medida'] == 'Población' ) | (df['Medida'] == 'Confirmados PCR 14 días')) & (df['Valor'] > 0)\n",
    "tabla = pd.pivot_table(df.loc[filtro], values='Valor', index='Lugar de residencia', columns='Medida').dropna()"
   ]
  },
  {
   "cell_type": "code",
   "execution_count": 10,
   "metadata": {},
   "outputs": [],
   "source": [
    "# Reorder columns\n",
    "tabla = tabla[['Confirmados PCR', 'Confirmados PCR 7 días', 'Confirmados PCR 14 días', 'Población']]"
   ]
  },
  {
   "cell_type": "code",
   "execution_count": 11,
   "metadata": {},
   "outputs": [],
   "source": [
    "tabla['tasa7'] = tabla['Confirmados PCR 7 días']/tabla['Población']*100000\n",
    "tabla['tasa14'] = tabla['Confirmados PCR 14 días']/tabla['Población']*100000"
   ]
  },
  {
   "cell_type": "code",
   "execution_count": 12,
   "metadata": {},
   "outputs": [],
   "source": [
    "tabla['Diferencia PCR'] = tabla['Confirmados PCR'] - dfAnterior['Confirmados PCR']"
   ]
  },
  {
   "cell_type": "code",
   "execution_count": 13,
   "metadata": {},
   "outputs": [
    {
     "output_type": "execute_result",
     "data": {
      "text/plain": "Medida                             Confirmados PCR  Confirmados PCR 7 días  \\\nLugar de residencia                                                          \nHuelva                                      1188.0                   155.0   \nHuelva-Costa                                 640.0                    89.0   \nHuelva (capital)                             319.0                    48.0   \nCondado-Campiña                              359.0                    50.0   \nBollullos Par del Condado                     51.0                    15.0   \nIsla Cristina                                 61.0                     8.0   \nAyamonte                                      40.0                    10.0   \nSan Juan del Puerto                           21.0                     3.0   \nAlmonte                                       49.0                     5.0   \nAracena                                       47.0                     1.0   \nMoguer                                        30.0                     4.0   \nRociana del Condado                            6.0                     1.0   \nSierra de Huelva-Andévalo Central            168.0                    14.0   \n\nMedida                             Confirmados PCR 14 días  Población  \\\nLugar de residencia                                                     \nHuelva                                               339.0   510743.0   \nHuelva-Costa                                         204.0   288115.0   \nHuelva (capital)                                      94.0   143663.0   \nCondado-Campiña                                       99.0   155057.0   \nBollullos Par del Condado                             28.0    14272.0   \nIsla Cristina                                         27.0    21264.0   \nAyamonte                                              24.0    20946.0   \nSan Juan del Puerto                                    4.0     9300.0   \nAlmonte                                                8.0    24191.0   \nAracena                                                2.0     8107.0   \nMoguer                                                 5.0    22088.0   \nRociana del Condado                                    2.0     7855.0   \nSierra de Huelva-Andévalo Central                     29.0    67571.0   \n\nMedida                                  tasa7      tasa14  Diferencia PCR  \nLugar de residencia                                                        \nHuelva                              30.347944   66.373891            35.0  \nHuelva-Costa                        30.890443   70.805060            23.0  \nHuelva (capital)                    33.411526   65.430904            13.0  \nCondado-Campiña                     32.246206   63.847488            10.0  \nBollullos Par del Condado          105.100897  196.188341             5.0  \nIsla Cristina                       37.622272  126.975169             3.0  \nAyamonte                            47.741812  114.580349             2.0  \nSan Juan del Puerto                 32.258065   43.010753             2.0  \nAlmonte                             20.668844   33.070150             1.0  \nAracena                             12.335019   24.670038             1.0  \nMoguer                              18.109381   22.636726             1.0  \nRociana del Condado                 12.730745   25.461489             1.0  \nSierra de Huelva-Andévalo Central   20.718947   42.917820             1.0  ",
      "text/html": "<div>\n<style scoped>\n    .dataframe tbody tr th:only-of-type {\n        vertical-align: middle;\n    }\n\n    .dataframe tbody tr th {\n        vertical-align: top;\n    }\n\n    .dataframe thead th {\n        text-align: right;\n    }\n</style>\n<table border=\"1\" class=\"dataframe\">\n  <thead>\n    <tr style=\"text-align: right;\">\n      <th>Medida</th>\n      <th>Confirmados PCR</th>\n      <th>Confirmados PCR 7 días</th>\n      <th>Confirmados PCR 14 días</th>\n      <th>Población</th>\n      <th>tasa7</th>\n      <th>tasa14</th>\n      <th>Diferencia PCR</th>\n    </tr>\n    <tr>\n      <th>Lugar de residencia</th>\n      <th></th>\n      <th></th>\n      <th></th>\n      <th></th>\n      <th></th>\n      <th></th>\n      <th></th>\n    </tr>\n  </thead>\n  <tbody>\n    <tr>\n      <th>Huelva</th>\n      <td>1188.0</td>\n      <td>155.0</td>\n      <td>339.0</td>\n      <td>510743.0</td>\n      <td>30.347944</td>\n      <td>66.373891</td>\n      <td>35.0</td>\n    </tr>\n    <tr>\n      <th>Huelva-Costa</th>\n      <td>640.0</td>\n      <td>89.0</td>\n      <td>204.0</td>\n      <td>288115.0</td>\n      <td>30.890443</td>\n      <td>70.805060</td>\n      <td>23.0</td>\n    </tr>\n    <tr>\n      <th>Huelva (capital)</th>\n      <td>319.0</td>\n      <td>48.0</td>\n      <td>94.0</td>\n      <td>143663.0</td>\n      <td>33.411526</td>\n      <td>65.430904</td>\n      <td>13.0</td>\n    </tr>\n    <tr>\n      <th>Condado-Campiña</th>\n      <td>359.0</td>\n      <td>50.0</td>\n      <td>99.0</td>\n      <td>155057.0</td>\n      <td>32.246206</td>\n      <td>63.847488</td>\n      <td>10.0</td>\n    </tr>\n    <tr>\n      <th>Bollullos Par del Condado</th>\n      <td>51.0</td>\n      <td>15.0</td>\n      <td>28.0</td>\n      <td>14272.0</td>\n      <td>105.100897</td>\n      <td>196.188341</td>\n      <td>5.0</td>\n    </tr>\n    <tr>\n      <th>Isla Cristina</th>\n      <td>61.0</td>\n      <td>8.0</td>\n      <td>27.0</td>\n      <td>21264.0</td>\n      <td>37.622272</td>\n      <td>126.975169</td>\n      <td>3.0</td>\n    </tr>\n    <tr>\n      <th>Ayamonte</th>\n      <td>40.0</td>\n      <td>10.0</td>\n      <td>24.0</td>\n      <td>20946.0</td>\n      <td>47.741812</td>\n      <td>114.580349</td>\n      <td>2.0</td>\n    </tr>\n    <tr>\n      <th>San Juan del Puerto</th>\n      <td>21.0</td>\n      <td>3.0</td>\n      <td>4.0</td>\n      <td>9300.0</td>\n      <td>32.258065</td>\n      <td>43.010753</td>\n      <td>2.0</td>\n    </tr>\n    <tr>\n      <th>Almonte</th>\n      <td>49.0</td>\n      <td>5.0</td>\n      <td>8.0</td>\n      <td>24191.0</td>\n      <td>20.668844</td>\n      <td>33.070150</td>\n      <td>1.0</td>\n    </tr>\n    <tr>\n      <th>Aracena</th>\n      <td>47.0</td>\n      <td>1.0</td>\n      <td>2.0</td>\n      <td>8107.0</td>\n      <td>12.335019</td>\n      <td>24.670038</td>\n      <td>1.0</td>\n    </tr>\n    <tr>\n      <th>Moguer</th>\n      <td>30.0</td>\n      <td>4.0</td>\n      <td>5.0</td>\n      <td>22088.0</td>\n      <td>18.109381</td>\n      <td>22.636726</td>\n      <td>1.0</td>\n    </tr>\n    <tr>\n      <th>Rociana del Condado</th>\n      <td>6.0</td>\n      <td>1.0</td>\n      <td>2.0</td>\n      <td>7855.0</td>\n      <td>12.730745</td>\n      <td>25.461489</td>\n      <td>1.0</td>\n    </tr>\n    <tr>\n      <th>Sierra de Huelva-Andévalo Central</th>\n      <td>168.0</td>\n      <td>14.0</td>\n      <td>29.0</td>\n      <td>67571.0</td>\n      <td>20.718947</td>\n      <td>42.917820</td>\n      <td>1.0</td>\n    </tr>\n  </tbody>\n</table>\n</div>"
     },
     "metadata": {},
     "execution_count": 13
    }
   ],
   "source": [
    "# Nuevos casos desde la última captura\n",
    "tabla[tabla['Diferencia PCR'] > 0].sort_values('Diferencia PCR', ascending=False)"
   ]
  },
  {
   "cell_type": "code",
   "execution_count": 14,
   "metadata": {},
   "outputs": [],
   "source": [
    "if tabla[tabla['Diferencia PCR'] > 0]['Diferencia PCR'].sum() > 0:\n",
    "  # Save to csv\n",
    "  tabla.to_csv('covid_huelva.csv', encoding='utf-8', header=True, index=True)  "
   ]
  },
  {
   "cell_type": "code",
   "execution_count": 15,
   "metadata": {},
   "outputs": [
    {
     "output_type": "execute_result",
     "data": {
      "text/plain": "Medida                             Confirmados PCR  Confirmados PCR 7 días  \\\nLugar de residencia                                                          \nCabezas Rubias                                 9.0                     1.0   \nVillalba del Alcor                            42.0                     2.0   \nBollullos Par del Condado                     51.0                    15.0   \nZalamea la Real                               20.0                     1.0   \nAroche                                         8.0                     4.0   \nPalos de la Frontera                          26.0                     5.0   \nIsla Cristina                                 61.0                     8.0   \nNerva                                         20.0                     5.0   \nAyamonte                                      40.0                    10.0   \nAljaraque                                     66.0                     7.0   \nJabugo                                         2.0                     2.0   \nHuelva-Costa                                 640.0                    89.0   \nHuelva                                      1188.0                   155.0   \nHuelva (capital)                             319.0                    48.0   \nCondado-Campiña                              359.0                    50.0   \nPalma del Condado (La)                        36.0                     4.0   \nLepe                                          74.0                     7.0   \nMinas de Riotinto                             16.0                     1.0   \nTrigueros                                     33.0                     4.0   \nBonares                                        4.0                     1.0   \nBeas                                           7.0                     2.0   \nSan Juan del Puerto                           21.0                     3.0   \nSierra de Huelva-Andévalo Central            168.0                    14.0   \nPunta Umbría                                  27.0                     4.0   \nCartaya                                       21.0                     2.0   \nAlmonte                                       49.0                     5.0   \nPuebla de Guzmán                               5.0                     1.0   \nGibraleón                                     16.0                     4.0   \nAlosno                                         4.0                     1.0   \nRociana del Condado                            6.0                     1.0   \nAracena                                       47.0                     1.0   \nMoguer                                        30.0                     4.0   \n\nMedida                             Confirmados PCR 14 días  Población  \\\nLugar de residencia                                                     \nCabezas Rubias                                         7.0      730.0   \nVillalba del Alcor                                    12.0     3338.0   \nBollullos Par del Condado                             28.0    14272.0   \nZalamea la Real                                        6.0     3068.0   \nAroche                                                 6.0     3073.0   \nPalos de la Frontera                                  17.0    11289.0   \nIsla Cristina                                         27.0    21264.0   \nNerva                                                  6.0     5235.0   \nAyamonte                                              24.0    20946.0   \nAljaraque                                             20.0    21260.0   \nJabugo                                                 2.0     2250.0   \nHuelva-Costa                                         204.0   288115.0   \nHuelva                                               339.0   510743.0   \nHuelva (capital)                                      94.0   143663.0   \nCondado-Campiña                                       99.0   155057.0   \nPalma del Condado (La)                                 6.0    10761.0   \nLepe                                                  15.0    27431.0   \nMinas de Riotinto                                      2.0     3848.0   \nTrigueros                                              4.0     7713.0   \nBonares                                                3.0     6058.0   \nBeas                                                   2.0     4257.0   \nSan Juan del Puerto                                    4.0     9300.0   \nSierra de Huelva-Andévalo Central                     29.0    67571.0   \nPunta Umbría                                           6.0    15242.0   \nCartaya                                                7.0    19974.0   \nAlmonte                                                8.0    24191.0   \nPuebla de Guzmán                                       1.0     3073.0   \nGibraleón                                              4.0    12607.0   \nAlosno                                                 1.0     3923.0   \nRociana del Condado                                    2.0     7855.0   \nAracena                                                2.0     8107.0   \nMoguer                                                 5.0    22088.0   \n\nMedida                                  tasa7      tasa14  Diferencia PCR  \nLugar de residencia                                                        \nCabezas Rubias                     136.986301  958.904110             0.0  \nVillalba del Alcor                  59.916117  359.496705             0.0  \nBollullos Par del Condado          105.100897  196.188341             5.0  \nZalamea la Real                     32.594524  195.567145             0.0  \nAroche                             130.165962  195.248942             0.0  \nPalos de la Frontera                44.290903  150.589069             0.0  \nIsla Cristina                       37.622272  126.975169             3.0  \nNerva                               95.510984  114.613181             0.0  \nAyamonte                            47.741812  114.580349             2.0  \nAljaraque                           32.925682   94.073377             0.0  \nJabugo                              88.888889   88.888889             0.0  \nHuelva-Costa                        30.890443   70.805060            23.0  \nHuelva                              30.347944   66.373891            35.0  \nHuelva (capital)                    33.411526   65.430904            13.0  \nCondado-Campiña                     32.246206   63.847488            10.0  \nPalma del Condado (La)              37.171267   55.756900             0.0  \nLepe                                25.518574   54.682658             0.0  \nMinas de Riotinto                   25.987526   51.975052             0.0  \nTrigueros                           51.860495   51.860495             0.0  \nBonares                             16.507098   49.521294             0.0  \nBeas                                46.981442   46.981442             0.0  \nSan Juan del Puerto                 32.258065   43.010753             2.0  \nSierra de Huelva-Andévalo Central   20.718947   42.917820             1.0  \nPunta Umbría                        26.243275   39.364913             NaN  \nCartaya                             10.013017   35.045559             0.0  \nAlmonte                             20.668844   33.070150             1.0  \nPuebla de Guzmán                    32.541490   32.541490             0.0  \nGibraleón                           31.728405   31.728405             0.0  \nAlosno                              25.490696   25.490696             NaN  \nRociana del Condado                 12.730745   25.461489             1.0  \nAracena                             12.335019   24.670038             1.0  \nMoguer                              18.109381   22.636726             1.0  ",
      "text/html": "<div>\n<style scoped>\n    .dataframe tbody tr th:only-of-type {\n        vertical-align: middle;\n    }\n\n    .dataframe tbody tr th {\n        vertical-align: top;\n    }\n\n    .dataframe thead th {\n        text-align: right;\n    }\n</style>\n<table border=\"1\" class=\"dataframe\">\n  <thead>\n    <tr style=\"text-align: right;\">\n      <th>Medida</th>\n      <th>Confirmados PCR</th>\n      <th>Confirmados PCR 7 días</th>\n      <th>Confirmados PCR 14 días</th>\n      <th>Población</th>\n      <th>tasa7</th>\n      <th>tasa14</th>\n      <th>Diferencia PCR</th>\n    </tr>\n    <tr>\n      <th>Lugar de residencia</th>\n      <th></th>\n      <th></th>\n      <th></th>\n      <th></th>\n      <th></th>\n      <th></th>\n      <th></th>\n    </tr>\n  </thead>\n  <tbody>\n    <tr>\n      <th>Cabezas Rubias</th>\n      <td>9.0</td>\n      <td>1.0</td>\n      <td>7.0</td>\n      <td>730.0</td>\n      <td>136.986301</td>\n      <td>958.904110</td>\n      <td>0.0</td>\n    </tr>\n    <tr>\n      <th>Villalba del Alcor</th>\n      <td>42.0</td>\n      <td>2.0</td>\n      <td>12.0</td>\n      <td>3338.0</td>\n      <td>59.916117</td>\n      <td>359.496705</td>\n      <td>0.0</td>\n    </tr>\n    <tr>\n      <th>Bollullos Par del Condado</th>\n      <td>51.0</td>\n      <td>15.0</td>\n      <td>28.0</td>\n      <td>14272.0</td>\n      <td>105.100897</td>\n      <td>196.188341</td>\n      <td>5.0</td>\n    </tr>\n    <tr>\n      <th>Zalamea la Real</th>\n      <td>20.0</td>\n      <td>1.0</td>\n      <td>6.0</td>\n      <td>3068.0</td>\n      <td>32.594524</td>\n      <td>195.567145</td>\n      <td>0.0</td>\n    </tr>\n    <tr>\n      <th>Aroche</th>\n      <td>8.0</td>\n      <td>4.0</td>\n      <td>6.0</td>\n      <td>3073.0</td>\n      <td>130.165962</td>\n      <td>195.248942</td>\n      <td>0.0</td>\n    </tr>\n    <tr>\n      <th>Palos de la Frontera</th>\n      <td>26.0</td>\n      <td>5.0</td>\n      <td>17.0</td>\n      <td>11289.0</td>\n      <td>44.290903</td>\n      <td>150.589069</td>\n      <td>0.0</td>\n    </tr>\n    <tr>\n      <th>Isla Cristina</th>\n      <td>61.0</td>\n      <td>8.0</td>\n      <td>27.0</td>\n      <td>21264.0</td>\n      <td>37.622272</td>\n      <td>126.975169</td>\n      <td>3.0</td>\n    </tr>\n    <tr>\n      <th>Nerva</th>\n      <td>20.0</td>\n      <td>5.0</td>\n      <td>6.0</td>\n      <td>5235.0</td>\n      <td>95.510984</td>\n      <td>114.613181</td>\n      <td>0.0</td>\n    </tr>\n    <tr>\n      <th>Ayamonte</th>\n      <td>40.0</td>\n      <td>10.0</td>\n      <td>24.0</td>\n      <td>20946.0</td>\n      <td>47.741812</td>\n      <td>114.580349</td>\n      <td>2.0</td>\n    </tr>\n    <tr>\n      <th>Aljaraque</th>\n      <td>66.0</td>\n      <td>7.0</td>\n      <td>20.0</td>\n      <td>21260.0</td>\n      <td>32.925682</td>\n      <td>94.073377</td>\n      <td>0.0</td>\n    </tr>\n    <tr>\n      <th>Jabugo</th>\n      <td>2.0</td>\n      <td>2.0</td>\n      <td>2.0</td>\n      <td>2250.0</td>\n      <td>88.888889</td>\n      <td>88.888889</td>\n      <td>0.0</td>\n    </tr>\n    <tr>\n      <th>Huelva-Costa</th>\n      <td>640.0</td>\n      <td>89.0</td>\n      <td>204.0</td>\n      <td>288115.0</td>\n      <td>30.890443</td>\n      <td>70.805060</td>\n      <td>23.0</td>\n    </tr>\n    <tr>\n      <th>Huelva</th>\n      <td>1188.0</td>\n      <td>155.0</td>\n      <td>339.0</td>\n      <td>510743.0</td>\n      <td>30.347944</td>\n      <td>66.373891</td>\n      <td>35.0</td>\n    </tr>\n    <tr>\n      <th>Huelva (capital)</th>\n      <td>319.0</td>\n      <td>48.0</td>\n      <td>94.0</td>\n      <td>143663.0</td>\n      <td>33.411526</td>\n      <td>65.430904</td>\n      <td>13.0</td>\n    </tr>\n    <tr>\n      <th>Condado-Campiña</th>\n      <td>359.0</td>\n      <td>50.0</td>\n      <td>99.0</td>\n      <td>155057.0</td>\n      <td>32.246206</td>\n      <td>63.847488</td>\n      <td>10.0</td>\n    </tr>\n    <tr>\n      <th>Palma del Condado (La)</th>\n      <td>36.0</td>\n      <td>4.0</td>\n      <td>6.0</td>\n      <td>10761.0</td>\n      <td>37.171267</td>\n      <td>55.756900</td>\n      <td>0.0</td>\n    </tr>\n    <tr>\n      <th>Lepe</th>\n      <td>74.0</td>\n      <td>7.0</td>\n      <td>15.0</td>\n      <td>27431.0</td>\n      <td>25.518574</td>\n      <td>54.682658</td>\n      <td>0.0</td>\n    </tr>\n    <tr>\n      <th>Minas de Riotinto</th>\n      <td>16.0</td>\n      <td>1.0</td>\n      <td>2.0</td>\n      <td>3848.0</td>\n      <td>25.987526</td>\n      <td>51.975052</td>\n      <td>0.0</td>\n    </tr>\n    <tr>\n      <th>Trigueros</th>\n      <td>33.0</td>\n      <td>4.0</td>\n      <td>4.0</td>\n      <td>7713.0</td>\n      <td>51.860495</td>\n      <td>51.860495</td>\n      <td>0.0</td>\n    </tr>\n    <tr>\n      <th>Bonares</th>\n      <td>4.0</td>\n      <td>1.0</td>\n      <td>3.0</td>\n      <td>6058.0</td>\n      <td>16.507098</td>\n      <td>49.521294</td>\n      <td>0.0</td>\n    </tr>\n    <tr>\n      <th>Beas</th>\n      <td>7.0</td>\n      <td>2.0</td>\n      <td>2.0</td>\n      <td>4257.0</td>\n      <td>46.981442</td>\n      <td>46.981442</td>\n      <td>0.0</td>\n    </tr>\n    <tr>\n      <th>San Juan del Puerto</th>\n      <td>21.0</td>\n      <td>3.0</td>\n      <td>4.0</td>\n      <td>9300.0</td>\n      <td>32.258065</td>\n      <td>43.010753</td>\n      <td>2.0</td>\n    </tr>\n    <tr>\n      <th>Sierra de Huelva-Andévalo Central</th>\n      <td>168.0</td>\n      <td>14.0</td>\n      <td>29.0</td>\n      <td>67571.0</td>\n      <td>20.718947</td>\n      <td>42.917820</td>\n      <td>1.0</td>\n    </tr>\n    <tr>\n      <th>Punta Umbría</th>\n      <td>27.0</td>\n      <td>4.0</td>\n      <td>6.0</td>\n      <td>15242.0</td>\n      <td>26.243275</td>\n      <td>39.364913</td>\n      <td>NaN</td>\n    </tr>\n    <tr>\n      <th>Cartaya</th>\n      <td>21.0</td>\n      <td>2.0</td>\n      <td>7.0</td>\n      <td>19974.0</td>\n      <td>10.013017</td>\n      <td>35.045559</td>\n      <td>0.0</td>\n    </tr>\n    <tr>\n      <th>Almonte</th>\n      <td>49.0</td>\n      <td>5.0</td>\n      <td>8.0</td>\n      <td>24191.0</td>\n      <td>20.668844</td>\n      <td>33.070150</td>\n      <td>1.0</td>\n    </tr>\n    <tr>\n      <th>Puebla de Guzmán</th>\n      <td>5.0</td>\n      <td>1.0</td>\n      <td>1.0</td>\n      <td>3073.0</td>\n      <td>32.541490</td>\n      <td>32.541490</td>\n      <td>0.0</td>\n    </tr>\n    <tr>\n      <th>Gibraleón</th>\n      <td>16.0</td>\n      <td>4.0</td>\n      <td>4.0</td>\n      <td>12607.0</td>\n      <td>31.728405</td>\n      <td>31.728405</td>\n      <td>0.0</td>\n    </tr>\n    <tr>\n      <th>Alosno</th>\n      <td>4.0</td>\n      <td>1.0</td>\n      <td>1.0</td>\n      <td>3923.0</td>\n      <td>25.490696</td>\n      <td>25.490696</td>\n      <td>NaN</td>\n    </tr>\n    <tr>\n      <th>Rociana del Condado</th>\n      <td>6.0</td>\n      <td>1.0</td>\n      <td>2.0</td>\n      <td>7855.0</td>\n      <td>12.730745</td>\n      <td>25.461489</td>\n      <td>1.0</td>\n    </tr>\n    <tr>\n      <th>Aracena</th>\n      <td>47.0</td>\n      <td>1.0</td>\n      <td>2.0</td>\n      <td>8107.0</td>\n      <td>12.335019</td>\n      <td>24.670038</td>\n      <td>1.0</td>\n    </tr>\n    <tr>\n      <th>Moguer</th>\n      <td>30.0</td>\n      <td>4.0</td>\n      <td>5.0</td>\n      <td>22088.0</td>\n      <td>18.109381</td>\n      <td>22.636726</td>\n      <td>1.0</td>\n    </tr>\n  </tbody>\n</table>\n</div>"
     },
     "metadata": {},
     "execution_count": 15
    }
   ],
   "source": [
    "tabla.sort_values('tasa14', ascending=False)"
   ]
  },
  {
   "cell_type": "code",
   "execution_count": null,
   "metadata": {},
   "outputs": [],
   "source": []
  }
 ]
}