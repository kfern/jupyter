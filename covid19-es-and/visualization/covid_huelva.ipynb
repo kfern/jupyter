{
 "metadata": {
  "language_info": {
   "codemirror_mode": {
    "name": "ipython",
    "version": 3
   },
   "file_extension": ".py",
   "mimetype": "text/x-python",
   "name": "python",
   "nbconvert_exporter": "python",
   "pygments_lexer": "ipython3",
   "version": "3.8.6"
  },
  "orig_nbformat": 2,
  "kernelspec": {
   "name": "python3",
   "display_name": "Python 3.8.6 64-bit"
  },
  "interpreter": {
   "hash": "31f2aee4e71d21fbe5cf8b01ff0e069b9275f58929596ceb00d14d90e3e16cd6"
  }
 },
 "nbformat": 4,
 "nbformat_minor": 2,
 "cells": [
  {
   "cell_type": "code",
   "execution_count": 1,
   "metadata": {},
   "outputs": [],
   "source": [
    "import pandas as pd\n",
    "pd.set_option('display.max_rows', None) # Print all rows"
   ]
  },
  {
   "cell_type": "code",
   "execution_count": 2,
   "metadata": {},
   "outputs": [],
   "source": [
    "# FIX SSL: CERTIFICATE_VERIFY_FAILED with Python3\n",
    "# https://stackoverflow.com/a/49174340\n",
    "import ssl\n",
    "\n",
    "ssl._create_default_https_context = ssl._create_unverified_context"
   ]
  },
  {
   "cell_type": "code",
   "execution_count": 3,
   "metadata": {},
   "outputs": [],
   "source": [
    "url = 'https://www.juntadeandalucia.es/institutodeestadisticaycartografia/badea/stpivot/stpivot/Print?cube=013d884c-cfc5-4c21-9e78-e26225682afd&type=3&foto=si&ejecutaDesde=&codConsulta=38668&consTipoVisua=JP'\n",
    "fields = ['Lugar de residencia', 'Medida', 'Valor']\n",
    "df = pd.read_csv(url, delimiter=';', usecols=fields, decimal=',')"
   ]
  },
  {
   "cell_type": "code",
   "execution_count": 4,
   "metadata": {},
   "outputs": [
    {
     "output_type": "execute_result",
     "data": {
      "text/plain": [
       "  Lugar de residencia                    Medida              Valor\n",
       "0              Huelva                 Población             513170\n",
       "1              Huelva          Confirmados PDIA              32813\n",
       "2              Huelva  Confirmados PDIA 14 días               1237\n",
       "3              Huelva         Tasa PDIA 14 días  241,0507239316406\n",
       "4              Huelva   Confirmados PDIA 7 días                515\n",
       "5              Huelva        Total Confirmados               32995\n",
       "6              Huelva                   Curados              30689\n",
       "7              Huelva                Fallecidos                388"
      ],
      "text/html": "<div>\n<style scoped>\n    .dataframe tbody tr th:only-of-type {\n        vertical-align: middle;\n    }\n\n    .dataframe tbody tr th {\n        vertical-align: top;\n    }\n\n    .dataframe thead th {\n        text-align: right;\n    }\n</style>\n<table border=\"1\" class=\"dataframe\">\n  <thead>\n    <tr style=\"text-align: right;\">\n      <th></th>\n      <th>Lugar de residencia</th>\n      <th>Medida</th>\n      <th>Valor</th>\n    </tr>\n  </thead>\n  <tbody>\n    <tr>\n      <th>0</th>\n      <td>Huelva</td>\n      <td>Población</td>\n      <td>513170</td>\n    </tr>\n    <tr>\n      <th>1</th>\n      <td>Huelva</td>\n      <td>Confirmados PDIA</td>\n      <td>32813</td>\n    </tr>\n    <tr>\n      <th>2</th>\n      <td>Huelva</td>\n      <td>Confirmados PDIA 14 días</td>\n      <td>1237</td>\n    </tr>\n    <tr>\n      <th>3</th>\n      <td>Huelva</td>\n      <td>Tasa PDIA 14 días</td>\n      <td>241,0507239316406</td>\n    </tr>\n    <tr>\n      <th>4</th>\n      <td>Huelva</td>\n      <td>Confirmados PDIA 7 días</td>\n      <td>515</td>\n    </tr>\n    <tr>\n      <th>5</th>\n      <td>Huelva</td>\n      <td>Total Confirmados</td>\n      <td>32995</td>\n    </tr>\n    <tr>\n      <th>6</th>\n      <td>Huelva</td>\n      <td>Curados</td>\n      <td>30689</td>\n    </tr>\n    <tr>\n      <th>7</th>\n      <td>Huelva</td>\n      <td>Fallecidos</td>\n      <td>388</td>\n    </tr>\n  </tbody>\n</table>\n</div>"
     },
     "metadata": {},
     "execution_count": 4
    }
   ],
   "source": [
    "df[df['Lugar de residencia'] == 'Huelva']"
   ]
  },
  {
   "cell_type": "code",
   "execution_count": 5,
   "metadata": {},
   "outputs": [],
   "source": [
    "df['Valor'] = pd.to_numeric(df['Valor'],errors='coerce')"
   ]
  },
  {
   "cell_type": "code",
   "execution_count": 6,
   "metadata": {},
   "outputs": [],
   "source": [
    "dfAnterior = pd.read_csv('covid_huelva.csv', index_col='Lugar de residencia')"
   ]
  },
  {
   "cell_type": "code",
   "execution_count": 7,
   "metadata": {
    "tags": []
   },
   "outputs": [
    {
     "output_type": "stream",
     "name": "stdout",
     "text": [
      "Confirmados PCR en la provincia de Huelva:  32813.0\n",
      "<ipython-input-7-31b732756b19>:2: UserWarning: Boolean Series key will be reindexed to match DataFrame index.\n",
      "  p = df[df['Lugar de residencia'] == 'Huelva'][df['Medida'] == 'Confirmados PDIA']['Valor'].values[0]\n"
     ]
    }
   ],
   "source": [
    "# Confirmados PCR provincia Huelva\n",
    "p = df[df['Lugar de residencia'] == 'Huelva'][df['Medida'] == 'Confirmados PDIA']['Valor'].values[0]\n",
    "print('Confirmados PCR en la provincia de Huelva: ', p)"
   ]
  },
  {
   "cell_type": "code",
   "execution_count": 8,
   "metadata": {
    "tags": []
   },
   "outputs": [
    {
     "output_type": "stream",
     "name": "stdout",
     "text": [
      "Confirmados PCR en Huelva capital:  8948.0\n",
      "<ipython-input-8-e81bfb40e710>:2: UserWarning: Boolean Series key will be reindexed to match DataFrame index.\n",
      "  c = df[df['Lugar de residencia'] == 'Huelva (capital)'][df['Medida'] == 'Confirmados PDIA']['Valor'].values[0]\n"
     ]
    }
   ],
   "source": [
    "# Confirmados PCR Huelva capitalpd\n",
    "c = df[df['Lugar de residencia'] == 'Huelva (capital)'][df['Medida'] == 'Confirmados PDIA']['Valor'].values[0]\n",
    "print('Confirmados PCR en Huelva capital: ', c)"
   ]
  },
  {
   "cell_type": "code",
   "execution_count": 9,
   "metadata": {
    "tags": []
   },
   "outputs": [
    {
     "output_type": "stream",
     "name": "stderr",
     "text": [
      "<ipython-input-9-f09dd2050cc1>:1: UserWarning: Boolean Series key will be reindexed to match DataFrame index.\n  c7 = df[df['Lugar de residencia'] == 'Huelva (capital)'][df['Medida'] == 'Confirmados PDIA 7 días']['Valor'].values[0]\n<ipython-input-9-f09dd2050cc1>:2: UserWarning: Boolean Series key will be reindexed to match DataFrame index.\n  c14 = df[df['Lugar de residencia'] == 'Huelva (capital)'][df['Medida'] == 'Confirmados PDIA 14 días']['Valor'].values[0]\n<ipython-input-9-f09dd2050cc1>:3: UserWarning: Boolean Series key will be reindexed to match DataFrame index.\n  p = df[df['Lugar de residencia'] == 'Huelva (capital)'][df['Medida'] == 'Población']['Valor'].values[0]\n"
     ]
    }
   ],
   "source": [
    "c7 = df[df['Lugar de residencia'] == 'Huelva (capital)'][df['Medida'] == 'Confirmados PDIA 7 días']['Valor'].values[0]\n",
    "c14 = df[df['Lugar de residencia'] == 'Huelva (capital)'][df['Medida'] == 'Confirmados PDIA 14 días']['Valor'].values[0]\n",
    "p = df[df['Lugar de residencia'] == 'Huelva (capital)'][df['Medida'] == 'Población']['Valor'].values[0]"
   ]
  },
  {
   "cell_type": "code",
   "execution_count": 10,
   "metadata": {
    "tags": []
   },
   "outputs": [
    {
     "output_type": "stream",
     "name": "stdout",
     "text": [
      "Huelva (capital)\n\nUn positivo PCR cada 741 personas en los últimos 7 días \n\nUn positivo PCR cada 272 personas en los últimos 14 días\n"
     ]
    }
   ],
   "source": [
    "print('Huelva (capital)\\n')\n",
    "#print('Confirmados PCR 7 días x 1,000 habitantes: ', f\"{c7/(p/1000):.5f}\")\n",
    "print('Un positivo PCR cada', f\"{p/c7:.0f}\", 'personas en los últimos 7 días', '\\n')\n",
    "#print('Confirmados PCR 14 días x 1,000 habitantes: ', f\"{c14/(p/1000):.5f}\")\n",
    "print('Un positivo PCR cada', f\"{p/c14:.0f}\", 'personas en los últimos 14 días')"
   ]
  },
  {
   "cell_type": "code",
   "execution_count": 11,
   "metadata": {},
   "outputs": [],
   "source": [
    "filtro = ((df['Medida'] == 'Confirmados PDIA')| (df['Medida'] == 'Confirmados PDIA 7 días') | (df['Medida'] == 'Población' ) | (df['Medida'] == 'Confirmados PDIA 14 días')) & (df['Valor'] > 0)\n",
    "tabla = pd.pivot_table(df.loc[filtro], values='Valor', index='Lugar de residencia', columns='Medida').dropna()"
   ]
  },
  {
   "cell_type": "code",
   "execution_count": 12,
   "metadata": {},
   "outputs": [],
   "source": [
    "# Reorder columns\n",
    "tabla = tabla[['Confirmados PDIA', 'Confirmados PDIA 7 días', 'Confirmados PDIA 14 días', 'Población']]"
   ]
  },
  {
   "cell_type": "code",
   "execution_count": 13,
   "metadata": {},
   "outputs": [],
   "source": [
    "tabla['tasa7'] = tabla['Confirmados PDIA 7 días']/tabla['Población']*100000\n",
    "tabla['tasa14'] = tabla['Confirmados PDIA 14 días']/tabla['Población']*100000"
   ]
  },
  {
   "cell_type": "code",
   "execution_count": 14,
   "metadata": {},
   "outputs": [],
   "source": [
    "tabla['Diferencia PDIA'] = tabla['Confirmados PDIA'] - dfAnterior['Confirmados PDIA']"
   ]
  },
  {
   "cell_type": "code",
   "execution_count": 15,
   "metadata": {},
   "outputs": [
    {
     "output_type": "execute_result",
     "data": {
      "text/plain": [
       "Medida                             Confirmados PDIA  Confirmados PDIA 7 días  \\\n",
       "Lugar de residencia                                                            \n",
       "Huelva                                      32813.0                    515.0   \n",
       "Huelva-Costa                                18902.0                    281.0   \n",
       "Condado-Campiña                             10654.0                    178.0   \n",
       "Huelva (capital)                             8948.0                    194.0   \n",
       "Almonte                                      1897.0                     36.0   \n",
       "Sierra de Huelva-Andévalo Central            2905.0                     54.0   \n",
       "Valverde del Camino                           651.0                     30.0   \n",
       "Rociana del Condado                           569.0                     11.0   \n",
       "Moguer                                       1366.0                     28.0   \n",
       "Lepe                                         2162.0                     16.0   \n",
       "Beas                                          222.0                      9.0   \n",
       "Palos de la Frontera                          706.0                     16.0   \n",
       "Puebla de Guzmán                              139.0                     10.0   \n",
       "Cartaya                                      1372.0                     14.0   \n",
       "Gibraleón                                     645.0                      4.0   \n",
       "Bollullos Par del Condado                    1025.0                     16.0   \n",
       "Villablanca                                   191.0                      4.0   \n",
       "Isla Cristina                                2172.0                     13.0   \n",
       "Ayamonte                                     1331.0                      6.0   \n",
       "Lucena del Puerto                             265.0                      6.0   \n",
       "Minas de Riotinto                             129.0                      2.0   \n",
       "Cerro de Andévalo (El)                        148.0                      3.0   \n",
       "San Bartolomé de la Torre                     306.0                      4.0   \n",
       "San Juan del Puerto                           560.0                     22.0   \n",
       "Santa Bárbara de Casa                          16.0                      1.0   \n",
       "Zarza-Perrunal (La)                            26.0                      1.0   \n",
       "\n",
       "Medida                             Confirmados PDIA 14 días  Población  \\\n",
       "Lugar de residencia                                                      \n",
       "Huelva                                               1237.0   513170.0   \n",
       "Huelva-Costa                                          732.0   289548.0   \n",
       "Condado-Campiña                                       389.0   156231.0   \n",
       "Huelva (capital)                                      528.0   143837.0   \n",
       "Almonte                                                57.0    24507.0   \n",
       "Sierra de Huelva-Andévalo Central                     112.0    67391.0   \n",
       "Valverde del Camino                                    62.0    12750.0   \n",
       "Rociana del Condado                                    12.0     7939.0   \n",
       "Moguer                                                 70.0    21867.0   \n",
       "Lepe                                                   32.0    27880.0   \n",
       "Beas                                                   11.0     4341.0   \n",
       "Palos de la Frontera                                   35.0    11742.0   \n",
       "Puebla de Guzmán                                       19.0     3092.0   \n",
       "Cartaya                                                26.0    20083.0   \n",
       "Gibraleón                                              13.0    12737.0   \n",
       "Bollullos Par del Condado                              43.0    14387.0   \n",
       "Villablanca                                             4.0     2885.0   \n",
       "Isla Cristina                                          22.0    21393.0   \n",
       "Ayamonte                                               11.0    21104.0   \n",
       "Lucena del Puerto                                      11.0     3261.0   \n",
       "Minas de Riotinto                                       2.0     3812.0   \n",
       "Cerro de Andévalo (El)                                  3.0     2327.0   \n",
       "San Bartolomé de la Torre                               7.0     3761.0   \n",
       "San Juan del Puerto                                    48.0     9411.0   \n",
       "Santa Bárbara de Casa                                   1.0     1043.0   \n",
       "Zarza-Perrunal (La)                                     1.0     1253.0   \n",
       "\n",
       "Medida                                  tasa7      tasa14  Diferencia PDIA  \n",
       "Lugar de residencia                                                         \n",
       "Huelva                             100.356607  241.050724             81.0  \n",
       "Huelva-Costa                        97.047812  252.807825             37.0  \n",
       "Condado-Campiña                    113.933854  248.990277             34.0  \n",
       "Huelva (capital)                   134.874893  367.082183             21.0  \n",
       "Almonte                            146.896805  232.586608              9.0  \n",
       "Sierra de Huelva-Andévalo Central   80.129394  166.194299              9.0  \n",
       "Valverde del Camino                235.294118  486.274510              6.0  \n",
       "Rociana del Condado                138.556493  151.152538              6.0  \n",
       "Moguer                             128.046829  320.117071              5.0  \n",
       "Lepe                                57.388809  114.777618              5.0  \n",
       "Beas                               207.325501  253.397835              4.0  \n",
       "Palos de la Frontera               136.262988  298.075285              3.0  \n",
       "Puebla de Guzmán                   323.415265  614.489004              3.0  \n",
       "Cartaya                             69.710701  129.462730              3.0  \n",
       "Gibraleón                           31.404569  102.064850              2.0  \n",
       "Bollullos Par del Condado          111.211510  298.880934              2.0  \n",
       "Villablanca                        138.648180  138.648180              2.0  \n",
       "Isla Cristina                       60.767541  102.837377              1.0  \n",
       "Ayamonte                            28.430629   52.122820              1.0  \n",
       "Lucena del Puerto                  183.992640  337.319841              1.0  \n",
       "Minas de Riotinto                   52.465897   52.465897              1.0  \n",
       "Cerro de Andévalo (El)             128.921358  128.921358              1.0  \n",
       "San Bartolomé de la Torre          106.354693  186.120713              1.0  \n",
       "San Juan del Puerto                233.768994  510.041441              1.0  \n",
       "Santa Bárbara de Casa               95.877277   95.877277              NaN  \n",
       "Zarza-Perrunal (La)                 79.808460   79.808460              NaN  "
      ],
      "text/html": "<div>\n<style scoped>\n    .dataframe tbody tr th:only-of-type {\n        vertical-align: middle;\n    }\n\n    .dataframe tbody tr th {\n        vertical-align: top;\n    }\n\n    .dataframe thead th {\n        text-align: right;\n    }\n</style>\n<table border=\"1\" class=\"dataframe\">\n  <thead>\n    <tr style=\"text-align: right;\">\n      <th>Medida</th>\n      <th>Confirmados PDIA</th>\n      <th>Confirmados PDIA 7 días</th>\n      <th>Confirmados PDIA 14 días</th>\n      <th>Población</th>\n      <th>tasa7</th>\n      <th>tasa14</th>\n      <th>Diferencia PDIA</th>\n    </tr>\n    <tr>\n      <th>Lugar de residencia</th>\n      <th></th>\n      <th></th>\n      <th></th>\n      <th></th>\n      <th></th>\n      <th></th>\n      <th></th>\n    </tr>\n  </thead>\n  <tbody>\n    <tr>\n      <th>Huelva</th>\n      <td>32813.0</td>\n      <td>515.0</td>\n      <td>1237.0</td>\n      <td>513170.0</td>\n      <td>100.356607</td>\n      <td>241.050724</td>\n      <td>81.0</td>\n    </tr>\n    <tr>\n      <th>Huelva-Costa</th>\n      <td>18902.0</td>\n      <td>281.0</td>\n      <td>732.0</td>\n      <td>289548.0</td>\n      <td>97.047812</td>\n      <td>252.807825</td>\n      <td>37.0</td>\n    </tr>\n    <tr>\n      <th>Condado-Campiña</th>\n      <td>10654.0</td>\n      <td>178.0</td>\n      <td>389.0</td>\n      <td>156231.0</td>\n      <td>113.933854</td>\n      <td>248.990277</td>\n      <td>34.0</td>\n    </tr>\n    <tr>\n      <th>Huelva (capital)</th>\n      <td>8948.0</td>\n      <td>194.0</td>\n      <td>528.0</td>\n      <td>143837.0</td>\n      <td>134.874893</td>\n      <td>367.082183</td>\n      <td>21.0</td>\n    </tr>\n    <tr>\n      <th>Almonte</th>\n      <td>1897.0</td>\n      <td>36.0</td>\n      <td>57.0</td>\n      <td>24507.0</td>\n      <td>146.896805</td>\n      <td>232.586608</td>\n      <td>9.0</td>\n    </tr>\n    <tr>\n      <th>Sierra de Huelva-Andévalo Central</th>\n      <td>2905.0</td>\n      <td>54.0</td>\n      <td>112.0</td>\n      <td>67391.0</td>\n      <td>80.129394</td>\n      <td>166.194299</td>\n      <td>9.0</td>\n    </tr>\n    <tr>\n      <th>Valverde del Camino</th>\n      <td>651.0</td>\n      <td>30.0</td>\n      <td>62.0</td>\n      <td>12750.0</td>\n      <td>235.294118</td>\n      <td>486.274510</td>\n      <td>6.0</td>\n    </tr>\n    <tr>\n      <th>Rociana del Condado</th>\n      <td>569.0</td>\n      <td>11.0</td>\n      <td>12.0</td>\n      <td>7939.0</td>\n      <td>138.556493</td>\n      <td>151.152538</td>\n      <td>6.0</td>\n    </tr>\n    <tr>\n      <th>Moguer</th>\n      <td>1366.0</td>\n      <td>28.0</td>\n      <td>70.0</td>\n      <td>21867.0</td>\n      <td>128.046829</td>\n      <td>320.117071</td>\n      <td>5.0</td>\n    </tr>\n    <tr>\n      <th>Lepe</th>\n      <td>2162.0</td>\n      <td>16.0</td>\n      <td>32.0</td>\n      <td>27880.0</td>\n      <td>57.388809</td>\n      <td>114.777618</td>\n      <td>5.0</td>\n    </tr>\n    <tr>\n      <th>Beas</th>\n      <td>222.0</td>\n      <td>9.0</td>\n      <td>11.0</td>\n      <td>4341.0</td>\n      <td>207.325501</td>\n      <td>253.397835</td>\n      <td>4.0</td>\n    </tr>\n    <tr>\n      <th>Palos de la Frontera</th>\n      <td>706.0</td>\n      <td>16.0</td>\n      <td>35.0</td>\n      <td>11742.0</td>\n      <td>136.262988</td>\n      <td>298.075285</td>\n      <td>3.0</td>\n    </tr>\n    <tr>\n      <th>Puebla de Guzmán</th>\n      <td>139.0</td>\n      <td>10.0</td>\n      <td>19.0</td>\n      <td>3092.0</td>\n      <td>323.415265</td>\n      <td>614.489004</td>\n      <td>3.0</td>\n    </tr>\n    <tr>\n      <th>Cartaya</th>\n      <td>1372.0</td>\n      <td>14.0</td>\n      <td>26.0</td>\n      <td>20083.0</td>\n      <td>69.710701</td>\n      <td>129.462730</td>\n      <td>3.0</td>\n    </tr>\n    <tr>\n      <th>Gibraleón</th>\n      <td>645.0</td>\n      <td>4.0</td>\n      <td>13.0</td>\n      <td>12737.0</td>\n      <td>31.404569</td>\n      <td>102.064850</td>\n      <td>2.0</td>\n    </tr>\n    <tr>\n      <th>Bollullos Par del Condado</th>\n      <td>1025.0</td>\n      <td>16.0</td>\n      <td>43.0</td>\n      <td>14387.0</td>\n      <td>111.211510</td>\n      <td>298.880934</td>\n      <td>2.0</td>\n    </tr>\n    <tr>\n      <th>Villablanca</th>\n      <td>191.0</td>\n      <td>4.0</td>\n      <td>4.0</td>\n      <td>2885.0</td>\n      <td>138.648180</td>\n      <td>138.648180</td>\n      <td>2.0</td>\n    </tr>\n    <tr>\n      <th>Isla Cristina</th>\n      <td>2172.0</td>\n      <td>13.0</td>\n      <td>22.0</td>\n      <td>21393.0</td>\n      <td>60.767541</td>\n      <td>102.837377</td>\n      <td>1.0</td>\n    </tr>\n    <tr>\n      <th>Ayamonte</th>\n      <td>1331.0</td>\n      <td>6.0</td>\n      <td>11.0</td>\n      <td>21104.0</td>\n      <td>28.430629</td>\n      <td>52.122820</td>\n      <td>1.0</td>\n    </tr>\n    <tr>\n      <th>Lucena del Puerto</th>\n      <td>265.0</td>\n      <td>6.0</td>\n      <td>11.0</td>\n      <td>3261.0</td>\n      <td>183.992640</td>\n      <td>337.319841</td>\n      <td>1.0</td>\n    </tr>\n    <tr>\n      <th>Minas de Riotinto</th>\n      <td>129.0</td>\n      <td>2.0</td>\n      <td>2.0</td>\n      <td>3812.0</td>\n      <td>52.465897</td>\n      <td>52.465897</td>\n      <td>1.0</td>\n    </tr>\n    <tr>\n      <th>Cerro de Andévalo (El)</th>\n      <td>148.0</td>\n      <td>3.0</td>\n      <td>3.0</td>\n      <td>2327.0</td>\n      <td>128.921358</td>\n      <td>128.921358</td>\n      <td>1.0</td>\n    </tr>\n    <tr>\n      <th>San Bartolomé de la Torre</th>\n      <td>306.0</td>\n      <td>4.0</td>\n      <td>7.0</td>\n      <td>3761.0</td>\n      <td>106.354693</td>\n      <td>186.120713</td>\n      <td>1.0</td>\n    </tr>\n    <tr>\n      <th>San Juan del Puerto</th>\n      <td>560.0</td>\n      <td>22.0</td>\n      <td>48.0</td>\n      <td>9411.0</td>\n      <td>233.768994</td>\n      <td>510.041441</td>\n      <td>1.0</td>\n    </tr>\n    <tr>\n      <th>Santa Bárbara de Casa</th>\n      <td>16.0</td>\n      <td>1.0</td>\n      <td>1.0</td>\n      <td>1043.0</td>\n      <td>95.877277</td>\n      <td>95.877277</td>\n      <td>NaN</td>\n    </tr>\n    <tr>\n      <th>Zarza-Perrunal (La)</th>\n      <td>26.0</td>\n      <td>1.0</td>\n      <td>1.0</td>\n      <td>1253.0</td>\n      <td>79.808460</td>\n      <td>79.808460</td>\n      <td>NaN</td>\n    </tr>\n  </tbody>\n</table>\n</div>"
     },
     "metadata": {},
     "execution_count": 15
    }
   ],
   "source": [
    "# Nuevos casos desde la última captura\n",
    "tabla[tabla['Diferencia PDIA'] != 0].sort_values('Diferencia PDIA', ascending=False)"
   ]
  },
  {
   "cell_type": "code",
   "execution_count": 16,
   "metadata": {},
   "outputs": [],
   "source": [
    "if tabla[tabla['Diferencia PDIA'] != 0]['Diferencia PDIA'].sum() != 0:\n",
    "  # Save to csv\n",
    "  tabla.to_csv('covid_huelva.csv', encoding='utf-8', header=True, index=True)  "
   ]
  },
  {
   "cell_type": "code",
   "execution_count": 17,
   "metadata": {},
   "outputs": [
    {
     "output_type": "execute_result",
     "data": {
      "text/plain": [
       "Medida                             Confirmados PDIA  Confirmados PDIA 7 días  \\\n",
       "Lugar de residencia                                                            \n",
       "Cortelazor                                     13.0                      1.0   \n",
       "Puebla de Guzmán                              139.0                     10.0   \n",
       "San Juan del Puerto                           560.0                     22.0   \n",
       "Valverde del Camino                           651.0                     30.0   \n",
       "Huelva (capital)                             8948.0                    194.0   \n",
       "Almendro (El)                                  39.0                      2.0   \n",
       "Lucena del Puerto                             265.0                      6.0   \n",
       "Calañas                                       200.0                      8.0   \n",
       "Moguer                                       1366.0                     28.0   \n",
       "Bollullos Par del Condado                    1025.0                     16.0   \n",
       "Palos de la Frontera                          706.0                     16.0   \n",
       "Bonares                                       291.0                      5.0   \n",
       "Trigueros                                     329.0                      6.0   \n",
       "Alosno                                        179.0                      7.0   \n",
       "Beas                                          222.0                      9.0   \n",
       "Huelva-Costa                                18902.0                    281.0   \n",
       "Condado-Campiña                             10654.0                    178.0   \n",
       "Huelva                                      32813.0                    515.0   \n",
       "Almonte                                      1897.0                     36.0   \n",
       "Niebla                                        247.0                      5.0   \n",
       "Aljaraque                                    1157.0                     10.0   \n",
       "Palma del Condado (La)                       1179.0                     10.0   \n",
       "San Bartolomé de la Torre                     306.0                      4.0   \n",
       "Punta Umbría                                  841.0                      4.0   \n",
       "Sierra de Huelva-Andévalo Central            2905.0                     54.0   \n",
       "Rociana del Condado                           569.0                     11.0   \n",
       "Villablanca                                   191.0                      4.0   \n",
       "Aracena                                       539.0                      5.0   \n",
       "Cartaya                                      1372.0                     14.0   \n",
       "Cerro de Andévalo (El)                        148.0                      3.0   \n",
       "Lepe                                         2162.0                     16.0   \n",
       "Almonaster la Real                             68.0                      2.0   \n",
       "Isla Cristina                                2172.0                     13.0   \n",
       "Gibraleón                                     645.0                      4.0   \n",
       "Santa Bárbara de Casa                          16.0                      1.0   \n",
       "Zarza-Perrunal (La)                            26.0                      1.0   \n",
       "Minas de Riotinto                             129.0                      2.0   \n",
       "Ayamonte                                     1331.0                      6.0   \n",
       "Campillo (El)                                  74.0                      1.0   \n",
       "Nerva                                         179.0                      1.0   \n",
       "\n",
       "Medida                             Confirmados PDIA 14 días  Población  \\\n",
       "Lugar de residencia                                                      \n",
       "Cortelazor                                              5.0      299.0   \n",
       "Puebla de Guzmán                                       19.0     3092.0   \n",
       "San Juan del Puerto                                    48.0     9411.0   \n",
       "Valverde del Camino                                    62.0    12750.0   \n",
       "Huelva (capital)                                      528.0   143837.0   \n",
       "Almendro (El)                                           3.0      840.0   \n",
       "Lucena del Puerto                                      11.0     3261.0   \n",
       "Calañas                                                 9.0     2768.0   \n",
       "Moguer                                                 70.0    21867.0   \n",
       "Bollullos Par del Condado                              43.0    14387.0   \n",
       "Palos de la Frontera                                   35.0    11742.0   \n",
       "Bonares                                                18.0     6060.0   \n",
       "Trigueros                                              22.0     7862.0   \n",
       "Alosno                                                 11.0     3933.0   \n",
       "Beas                                                   11.0     4341.0   \n",
       "Huelva-Costa                                          732.0   289548.0   \n",
       "Condado-Campiña                                       389.0   156231.0   \n",
       "Huelva                                               1237.0   513170.0   \n",
       "Almonte                                                57.0    24507.0   \n",
       "Niebla                                                  9.0     4116.0   \n",
       "Aljaraque                                              45.0    21474.0   \n",
       "Palma del Condado (La)                                 21.0    10801.0   \n",
       "San Bartolomé de la Torre                               7.0     3761.0   \n",
       "Punta Umbría                                           28.0    15355.0   \n",
       "Sierra de Huelva-Andévalo Central                     112.0    67391.0   \n",
       "Rociana del Condado                                    12.0     7939.0   \n",
       "Villablanca                                             4.0     2885.0   \n",
       "Aracena                                                11.0     8255.0   \n",
       "Cartaya                                                26.0    20083.0   \n",
       "Cerro de Andévalo (El)                                  3.0     2327.0   \n",
       "Lepe                                                   32.0    27880.0   \n",
       "Almonaster la Real                                      2.0     1788.0   \n",
       "Isla Cristina                                          22.0    21393.0   \n",
       "Gibraleón                                              13.0    12737.0   \n",
       "Santa Bárbara de Casa                                   1.0     1043.0   \n",
       "Zarza-Perrunal (La)                                     1.0     1253.0   \n",
       "Minas de Riotinto                                       2.0     3812.0   \n",
       "Ayamonte                                               11.0    21104.0   \n",
       "Campillo (El)                                           1.0     2024.0   \n",
       "Nerva                                                   1.0     5169.0   \n",
       "\n",
       "Medida                                  tasa7       tasa14  Diferencia PDIA  \n",
       "Lugar de residencia                                                          \n",
       "Cortelazor                         334.448161  1672.240803              0.0  \n",
       "Puebla de Guzmán                   323.415265   614.489004              3.0  \n",
       "San Juan del Puerto                233.768994   510.041441              1.0  \n",
       "Valverde del Camino                235.294118   486.274510              6.0  \n",
       "Huelva (capital)                   134.874893   367.082183             21.0  \n",
       "Almendro (El)                      238.095238   357.142857              0.0  \n",
       "Lucena del Puerto                  183.992640   337.319841              1.0  \n",
       "Calañas                            289.017341   325.144509              0.0  \n",
       "Moguer                             128.046829   320.117071              5.0  \n",
       "Bollullos Par del Condado          111.211510   298.880934              2.0  \n",
       "Palos de la Frontera               136.262988   298.075285              3.0  \n",
       "Bonares                             82.508251   297.029703              0.0  \n",
       "Trigueros                           76.316459   279.827016              0.0  \n",
       "Alosno                             177.981185   279.684719              0.0  \n",
       "Beas                               207.325501   253.397835              4.0  \n",
       "Huelva-Costa                        97.047812   252.807825             37.0  \n",
       "Condado-Campiña                    113.933854   248.990277             34.0  \n",
       "Huelva                             100.356607   241.050724             81.0  \n",
       "Almonte                            146.896805   232.586608              9.0  \n",
       "Niebla                             121.477162   218.658892              0.0  \n",
       "Aljaraque                           46.567943   209.555742              0.0  \n",
       "Palma del Condado (La)              92.584020   194.426442              0.0  \n",
       "San Bartolomé de la Torre          106.354693   186.120713              1.0  \n",
       "Punta Umbría                        26.050147   182.351026              0.0  \n",
       "Sierra de Huelva-Andévalo Central   80.129394   166.194299              9.0  \n",
       "Rociana del Condado                138.556493   151.152538              6.0  \n",
       "Villablanca                        138.648180   138.648180              2.0  \n",
       "Aracena                             60.569352   133.252574              0.0  \n",
       "Cartaya                             69.710701   129.462730              3.0  \n",
       "Cerro de Andévalo (El)             128.921358   128.921358              1.0  \n",
       "Lepe                                57.388809   114.777618              5.0  \n",
       "Almonaster la Real                 111.856823   111.856823              0.0  \n",
       "Isla Cristina                       60.767541   102.837377              1.0  \n",
       "Gibraleón                           31.404569   102.064850              2.0  \n",
       "Santa Bárbara de Casa               95.877277    95.877277              NaN  \n",
       "Zarza-Perrunal (La)                 79.808460    79.808460              NaN  \n",
       "Minas de Riotinto                   52.465897    52.465897              1.0  \n",
       "Ayamonte                            28.430629    52.122820              1.0  \n",
       "Campillo (El)                       49.407115    49.407115              0.0  \n",
       "Nerva                               19.346102    19.346102              0.0  "
      ],
      "text/html": "<div>\n<style scoped>\n    .dataframe tbody tr th:only-of-type {\n        vertical-align: middle;\n    }\n\n    .dataframe tbody tr th {\n        vertical-align: top;\n    }\n\n    .dataframe thead th {\n        text-align: right;\n    }\n</style>\n<table border=\"1\" class=\"dataframe\">\n  <thead>\n    <tr style=\"text-align: right;\">\n      <th>Medida</th>\n      <th>Confirmados PDIA</th>\n      <th>Confirmados PDIA 7 días</th>\n      <th>Confirmados PDIA 14 días</th>\n      <th>Población</th>\n      <th>tasa7</th>\n      <th>tasa14</th>\n      <th>Diferencia PDIA</th>\n    </tr>\n    <tr>\n      <th>Lugar de residencia</th>\n      <th></th>\n      <th></th>\n      <th></th>\n      <th></th>\n      <th></th>\n      <th></th>\n      <th></th>\n    </tr>\n  </thead>\n  <tbody>\n    <tr>\n      <th>Cortelazor</th>\n      <td>13.0</td>\n      <td>1.0</td>\n      <td>5.0</td>\n      <td>299.0</td>\n      <td>334.448161</td>\n      <td>1672.240803</td>\n      <td>0.0</td>\n    </tr>\n    <tr>\n      <th>Puebla de Guzmán</th>\n      <td>139.0</td>\n      <td>10.0</td>\n      <td>19.0</td>\n      <td>3092.0</td>\n      <td>323.415265</td>\n      <td>614.489004</td>\n      <td>3.0</td>\n    </tr>\n    <tr>\n      <th>San Juan del Puerto</th>\n      <td>560.0</td>\n      <td>22.0</td>\n      <td>48.0</td>\n      <td>9411.0</td>\n      <td>233.768994</td>\n      <td>510.041441</td>\n      <td>1.0</td>\n    </tr>\n    <tr>\n      <th>Valverde del Camino</th>\n      <td>651.0</td>\n      <td>30.0</td>\n      <td>62.0</td>\n      <td>12750.0</td>\n      <td>235.294118</td>\n      <td>486.274510</td>\n      <td>6.0</td>\n    </tr>\n    <tr>\n      <th>Huelva (capital)</th>\n      <td>8948.0</td>\n      <td>194.0</td>\n      <td>528.0</td>\n      <td>143837.0</td>\n      <td>134.874893</td>\n      <td>367.082183</td>\n      <td>21.0</td>\n    </tr>\n    <tr>\n      <th>Almendro (El)</th>\n      <td>39.0</td>\n      <td>2.0</td>\n      <td>3.0</td>\n      <td>840.0</td>\n      <td>238.095238</td>\n      <td>357.142857</td>\n      <td>0.0</td>\n    </tr>\n    <tr>\n      <th>Lucena del Puerto</th>\n      <td>265.0</td>\n      <td>6.0</td>\n      <td>11.0</td>\n      <td>3261.0</td>\n      <td>183.992640</td>\n      <td>337.319841</td>\n      <td>1.0</td>\n    </tr>\n    <tr>\n      <th>Calañas</th>\n      <td>200.0</td>\n      <td>8.0</td>\n      <td>9.0</td>\n      <td>2768.0</td>\n      <td>289.017341</td>\n      <td>325.144509</td>\n      <td>0.0</td>\n    </tr>\n    <tr>\n      <th>Moguer</th>\n      <td>1366.0</td>\n      <td>28.0</td>\n      <td>70.0</td>\n      <td>21867.0</td>\n      <td>128.046829</td>\n      <td>320.117071</td>\n      <td>5.0</td>\n    </tr>\n    <tr>\n      <th>Bollullos Par del Condado</th>\n      <td>1025.0</td>\n      <td>16.0</td>\n      <td>43.0</td>\n      <td>14387.0</td>\n      <td>111.211510</td>\n      <td>298.880934</td>\n      <td>2.0</td>\n    </tr>\n    <tr>\n      <th>Palos de la Frontera</th>\n      <td>706.0</td>\n      <td>16.0</td>\n      <td>35.0</td>\n      <td>11742.0</td>\n      <td>136.262988</td>\n      <td>298.075285</td>\n      <td>3.0</td>\n    </tr>\n    <tr>\n      <th>Bonares</th>\n      <td>291.0</td>\n      <td>5.0</td>\n      <td>18.0</td>\n      <td>6060.0</td>\n      <td>82.508251</td>\n      <td>297.029703</td>\n      <td>0.0</td>\n    </tr>\n    <tr>\n      <th>Trigueros</th>\n      <td>329.0</td>\n      <td>6.0</td>\n      <td>22.0</td>\n      <td>7862.0</td>\n      <td>76.316459</td>\n      <td>279.827016</td>\n      <td>0.0</td>\n    </tr>\n    <tr>\n      <th>Alosno</th>\n      <td>179.0</td>\n      <td>7.0</td>\n      <td>11.0</td>\n      <td>3933.0</td>\n      <td>177.981185</td>\n      <td>279.684719</td>\n      <td>0.0</td>\n    </tr>\n    <tr>\n      <th>Beas</th>\n      <td>222.0</td>\n      <td>9.0</td>\n      <td>11.0</td>\n      <td>4341.0</td>\n      <td>207.325501</td>\n      <td>253.397835</td>\n      <td>4.0</td>\n    </tr>\n    <tr>\n      <th>Huelva-Costa</th>\n      <td>18902.0</td>\n      <td>281.0</td>\n      <td>732.0</td>\n      <td>289548.0</td>\n      <td>97.047812</td>\n      <td>252.807825</td>\n      <td>37.0</td>\n    </tr>\n    <tr>\n      <th>Condado-Campiña</th>\n      <td>10654.0</td>\n      <td>178.0</td>\n      <td>389.0</td>\n      <td>156231.0</td>\n      <td>113.933854</td>\n      <td>248.990277</td>\n      <td>34.0</td>\n    </tr>\n    <tr>\n      <th>Huelva</th>\n      <td>32813.0</td>\n      <td>515.0</td>\n      <td>1237.0</td>\n      <td>513170.0</td>\n      <td>100.356607</td>\n      <td>241.050724</td>\n      <td>81.0</td>\n    </tr>\n    <tr>\n      <th>Almonte</th>\n      <td>1897.0</td>\n      <td>36.0</td>\n      <td>57.0</td>\n      <td>24507.0</td>\n      <td>146.896805</td>\n      <td>232.586608</td>\n      <td>9.0</td>\n    </tr>\n    <tr>\n      <th>Niebla</th>\n      <td>247.0</td>\n      <td>5.0</td>\n      <td>9.0</td>\n      <td>4116.0</td>\n      <td>121.477162</td>\n      <td>218.658892</td>\n      <td>0.0</td>\n    </tr>\n    <tr>\n      <th>Aljaraque</th>\n      <td>1157.0</td>\n      <td>10.0</td>\n      <td>45.0</td>\n      <td>21474.0</td>\n      <td>46.567943</td>\n      <td>209.555742</td>\n      <td>0.0</td>\n    </tr>\n    <tr>\n      <th>Palma del Condado (La)</th>\n      <td>1179.0</td>\n      <td>10.0</td>\n      <td>21.0</td>\n      <td>10801.0</td>\n      <td>92.584020</td>\n      <td>194.426442</td>\n      <td>0.0</td>\n    </tr>\n    <tr>\n      <th>San Bartolomé de la Torre</th>\n      <td>306.0</td>\n      <td>4.0</td>\n      <td>7.0</td>\n      <td>3761.0</td>\n      <td>106.354693</td>\n      <td>186.120713</td>\n      <td>1.0</td>\n    </tr>\n    <tr>\n      <th>Punta Umbría</th>\n      <td>841.0</td>\n      <td>4.0</td>\n      <td>28.0</td>\n      <td>15355.0</td>\n      <td>26.050147</td>\n      <td>182.351026</td>\n      <td>0.0</td>\n    </tr>\n    <tr>\n      <th>Sierra de Huelva-Andévalo Central</th>\n      <td>2905.0</td>\n      <td>54.0</td>\n      <td>112.0</td>\n      <td>67391.0</td>\n      <td>80.129394</td>\n      <td>166.194299</td>\n      <td>9.0</td>\n    </tr>\n    <tr>\n      <th>Rociana del Condado</th>\n      <td>569.0</td>\n      <td>11.0</td>\n      <td>12.0</td>\n      <td>7939.0</td>\n      <td>138.556493</td>\n      <td>151.152538</td>\n      <td>6.0</td>\n    </tr>\n    <tr>\n      <th>Villablanca</th>\n      <td>191.0</td>\n      <td>4.0</td>\n      <td>4.0</td>\n      <td>2885.0</td>\n      <td>138.648180</td>\n      <td>138.648180</td>\n      <td>2.0</td>\n    </tr>\n    <tr>\n      <th>Aracena</th>\n      <td>539.0</td>\n      <td>5.0</td>\n      <td>11.0</td>\n      <td>8255.0</td>\n      <td>60.569352</td>\n      <td>133.252574</td>\n      <td>0.0</td>\n    </tr>\n    <tr>\n      <th>Cartaya</th>\n      <td>1372.0</td>\n      <td>14.0</td>\n      <td>26.0</td>\n      <td>20083.0</td>\n      <td>69.710701</td>\n      <td>129.462730</td>\n      <td>3.0</td>\n    </tr>\n    <tr>\n      <th>Cerro de Andévalo (El)</th>\n      <td>148.0</td>\n      <td>3.0</td>\n      <td>3.0</td>\n      <td>2327.0</td>\n      <td>128.921358</td>\n      <td>128.921358</td>\n      <td>1.0</td>\n    </tr>\n    <tr>\n      <th>Lepe</th>\n      <td>2162.0</td>\n      <td>16.0</td>\n      <td>32.0</td>\n      <td>27880.0</td>\n      <td>57.388809</td>\n      <td>114.777618</td>\n      <td>5.0</td>\n    </tr>\n    <tr>\n      <th>Almonaster la Real</th>\n      <td>68.0</td>\n      <td>2.0</td>\n      <td>2.0</td>\n      <td>1788.0</td>\n      <td>111.856823</td>\n      <td>111.856823</td>\n      <td>0.0</td>\n    </tr>\n    <tr>\n      <th>Isla Cristina</th>\n      <td>2172.0</td>\n      <td>13.0</td>\n      <td>22.0</td>\n      <td>21393.0</td>\n      <td>60.767541</td>\n      <td>102.837377</td>\n      <td>1.0</td>\n    </tr>\n    <tr>\n      <th>Gibraleón</th>\n      <td>645.0</td>\n      <td>4.0</td>\n      <td>13.0</td>\n      <td>12737.0</td>\n      <td>31.404569</td>\n      <td>102.064850</td>\n      <td>2.0</td>\n    </tr>\n    <tr>\n      <th>Santa Bárbara de Casa</th>\n      <td>16.0</td>\n      <td>1.0</td>\n      <td>1.0</td>\n      <td>1043.0</td>\n      <td>95.877277</td>\n      <td>95.877277</td>\n      <td>NaN</td>\n    </tr>\n    <tr>\n      <th>Zarza-Perrunal (La)</th>\n      <td>26.0</td>\n      <td>1.0</td>\n      <td>1.0</td>\n      <td>1253.0</td>\n      <td>79.808460</td>\n      <td>79.808460</td>\n      <td>NaN</td>\n    </tr>\n    <tr>\n      <th>Minas de Riotinto</th>\n      <td>129.0</td>\n      <td>2.0</td>\n      <td>2.0</td>\n      <td>3812.0</td>\n      <td>52.465897</td>\n      <td>52.465897</td>\n      <td>1.0</td>\n    </tr>\n    <tr>\n      <th>Ayamonte</th>\n      <td>1331.0</td>\n      <td>6.0</td>\n      <td>11.0</td>\n      <td>21104.0</td>\n      <td>28.430629</td>\n      <td>52.122820</td>\n      <td>1.0</td>\n    </tr>\n    <tr>\n      <th>Campillo (El)</th>\n      <td>74.0</td>\n      <td>1.0</td>\n      <td>1.0</td>\n      <td>2024.0</td>\n      <td>49.407115</td>\n      <td>49.407115</td>\n      <td>0.0</td>\n    </tr>\n    <tr>\n      <th>Nerva</th>\n      <td>179.0</td>\n      <td>1.0</td>\n      <td>1.0</td>\n      <td>5169.0</td>\n      <td>19.346102</td>\n      <td>19.346102</td>\n      <td>0.0</td>\n    </tr>\n  </tbody>\n</table>\n</div>"
     },
     "metadata": {},
     "execution_count": 17
    }
   ],
   "source": [
    "tabla.sort_values('tasa14', ascending=False)"
   ]
  },
  {
   "cell_type": "code",
   "execution_count": 18,
   "metadata": {},
   "outputs": [
    {
     "output_type": "execute_result",
     "data": {
      "text/plain": [
       "Medida                             Confirmados PDIA  Confirmados PDIA 7 días  \\\n",
       "Lugar de residencia                                                            \n",
       "Punta Umbría                                  841.0                      4.0   \n",
       "Cortelazor                                     13.0                      1.0   \n",
       "Aljaraque                                    1157.0                     10.0   \n",
       "Trigueros                                     329.0                      6.0   \n",
       "Bonares                                       291.0                      5.0   \n",
       "Gibraleón                                     645.0                      4.0   \n",
       "Huelva (capital)                             8948.0                    194.0   \n",
       "Bollullos Par del Condado                    1025.0                     16.0   \n",
       "Huelva-Costa                                18902.0                    281.0   \n",
       "Moguer                                       1366.0                     28.0   \n",
       "Huelva                                      32813.0                    515.0   \n",
       "Aracena                                       539.0                      5.0   \n",
       "Palos de la Frontera                          706.0                     16.0   \n",
       "Condado-Campiña                             10654.0                    178.0   \n",
       "San Juan del Puerto                           560.0                     22.0   \n",
       "Palma del Condado (La)                       1179.0                     10.0   \n",
       "Sierra de Huelva-Andévalo Central            2905.0                     54.0   \n",
       "Valverde del Camino                           651.0                     30.0   \n",
       "Lepe                                         2162.0                     16.0   \n",
       "Puebla de Guzmán                              139.0                     10.0   \n",
       "Cartaya                                      1372.0                     14.0   \n",
       "Ayamonte                                     1331.0                      6.0   \n",
       "Lucena del Puerto                             265.0                      6.0   \n",
       "Niebla                                        247.0                      5.0   \n",
       "San Bartolomé de la Torre                     306.0                      4.0   \n",
       "Isla Cristina                                2172.0                     13.0   \n",
       "Almonte                                      1897.0                     36.0   \n",
       "Alosno                                        179.0                      7.0   \n",
       "Almendro (El)                                  39.0                      2.0   \n",
       "Beas                                          222.0                      9.0   \n",
       "Calañas                                       200.0                      8.0   \n",
       "Rociana del Condado                           569.0                     11.0   \n",
       "Campillo (El)                                  74.0                      1.0   \n",
       "Santa Bárbara de Casa                          16.0                      1.0   \n",
       "Almonaster la Real                             68.0                      2.0   \n",
       "Villablanca                                   191.0                      4.0   \n",
       "Nerva                                         179.0                      1.0   \n",
       "Minas de Riotinto                             129.0                      2.0   \n",
       "Cerro de Andévalo (El)                        148.0                      3.0   \n",
       "Zarza-Perrunal (La)                            26.0                      1.0   \n",
       "\n",
       "Medida                             Confirmados PDIA 14 días  Población  \\\n",
       "Lugar de residencia                                                      \n",
       "Punta Umbría                                           28.0    15355.0   \n",
       "Cortelazor                                              5.0      299.0   \n",
       "Aljaraque                                              45.0    21474.0   \n",
       "Trigueros                                              22.0     7862.0   \n",
       "Bonares                                                18.0     6060.0   \n",
       "Gibraleón                                              13.0    12737.0   \n",
       "Huelva (capital)                                      528.0   143837.0   \n",
       "Bollullos Par del Condado                              43.0    14387.0   \n",
       "Huelva-Costa                                          732.0   289548.0   \n",
       "Moguer                                                 70.0    21867.0   \n",
       "Huelva                                               1237.0   513170.0   \n",
       "Aracena                                                11.0     8255.0   \n",
       "Palos de la Frontera                                   35.0    11742.0   \n",
       "Condado-Campiña                                       389.0   156231.0   \n",
       "San Juan del Puerto                                    48.0     9411.0   \n",
       "Palma del Condado (La)                                 21.0    10801.0   \n",
       "Sierra de Huelva-Andévalo Central                     112.0    67391.0   \n",
       "Valverde del Camino                                    62.0    12750.0   \n",
       "Lepe                                                   32.0    27880.0   \n",
       "Puebla de Guzmán                                       19.0     3092.0   \n",
       "Cartaya                                                26.0    20083.0   \n",
       "Ayamonte                                               11.0    21104.0   \n",
       "Lucena del Puerto                                      11.0     3261.0   \n",
       "Niebla                                                  9.0     4116.0   \n",
       "San Bartolomé de la Torre                               7.0     3761.0   \n",
       "Isla Cristina                                          22.0    21393.0   \n",
       "Almonte                                                57.0    24507.0   \n",
       "Alosno                                                 11.0     3933.0   \n",
       "Almendro (El)                                           3.0      840.0   \n",
       "Beas                                                   11.0     4341.0   \n",
       "Calañas                                                 9.0     2768.0   \n",
       "Rociana del Condado                                    12.0     7939.0   \n",
       "Campillo (El)                                           1.0     2024.0   \n",
       "Santa Bárbara de Casa                                   1.0     1043.0   \n",
       "Almonaster la Real                                      2.0     1788.0   \n",
       "Villablanca                                             4.0     2885.0   \n",
       "Nerva                                                   1.0     5169.0   \n",
       "Minas de Riotinto                                       2.0     3812.0   \n",
       "Cerro de Andévalo (El)                                  3.0     2327.0   \n",
       "Zarza-Perrunal (La)                                     1.0     1253.0   \n",
       "\n",
       "Medida                                  tasa7       tasa14  Diferencia PDIA  \\\n",
       "Lugar de residencia                                                           \n",
       "Punta Umbría                        26.050147   182.351026              0.0   \n",
       "Cortelazor                         334.448161  1672.240803              0.0   \n",
       "Aljaraque                           46.567943   209.555742              0.0   \n",
       "Trigueros                           76.316459   279.827016              0.0   \n",
       "Bonares                             82.508251   297.029703              0.0   \n",
       "Gibraleón                           31.404569   102.064850              2.0   \n",
       "Huelva (capital)                   134.874893   367.082183             21.0   \n",
       "Bollullos Par del Condado          111.211510   298.880934              2.0   \n",
       "Huelva-Costa                        97.047812   252.807825             37.0   \n",
       "Moguer                             128.046829   320.117071              5.0   \n",
       "Huelva                             100.356607   241.050724             81.0   \n",
       "Aracena                             60.569352   133.252574              0.0   \n",
       "Palos de la Frontera               136.262988   298.075285              3.0   \n",
       "Condado-Campiña                    113.933854   248.990277             34.0   \n",
       "San Juan del Puerto                233.768994   510.041441              1.0   \n",
       "Palma del Condado (La)              92.584020   194.426442              0.0   \n",
       "Sierra de Huelva-Andévalo Central   80.129394   166.194299              9.0   \n",
       "Valverde del Camino                235.294118   486.274510              6.0   \n",
       "Lepe                                57.388809   114.777618              5.0   \n",
       "Puebla de Guzmán                   323.415265   614.489004              3.0   \n",
       "Cartaya                             69.710701   129.462730              3.0   \n",
       "Ayamonte                            28.430629    52.122820              1.0   \n",
       "Lucena del Puerto                  183.992640   337.319841              1.0   \n",
       "Niebla                             121.477162   218.658892              0.0   \n",
       "San Bartolomé de la Torre          106.354693   186.120713              1.0   \n",
       "Isla Cristina                       60.767541   102.837377              1.0   \n",
       "Almonte                            146.896805   232.586608              9.0   \n",
       "Alosno                             177.981185   279.684719              0.0   \n",
       "Almendro (El)                      238.095238   357.142857              0.0   \n",
       "Beas                               207.325501   253.397835              4.0   \n",
       "Calañas                            289.017341   325.144509              0.0   \n",
       "Rociana del Condado                138.556493   151.152538              6.0   \n",
       "Campillo (El)                       49.407115    49.407115              0.0   \n",
       "Santa Bárbara de Casa               95.877277    95.877277              0.0   \n",
       "Almonaster la Real                 111.856823   111.856823              0.0   \n",
       "Villablanca                        138.648180   138.648180              2.0   \n",
       "Nerva                               19.346102    19.346102              0.0   \n",
       "Minas de Riotinto                   52.465897    52.465897              1.0   \n",
       "Cerro de Andévalo (El)             128.921358   128.921358              1.0   \n",
       "Zarza-Perrunal (La)                 79.808460    79.808460              0.0   \n",
       "\n",
       "Medida                                 7/14  \n",
       "Lugar de residencia                          \n",
       "Punta Umbría                       0.142857  \n",
       "Cortelazor                         0.200000  \n",
       "Aljaraque                          0.222222  \n",
       "Trigueros                          0.272727  \n",
       "Bonares                            0.277778  \n",
       "Gibraleón                          0.307692  \n",
       "Huelva (capital)                   0.367424  \n",
       "Bollullos Par del Condado          0.372093  \n",
       "Huelva-Costa                       0.383880  \n",
       "Moguer                             0.400000  \n",
       "Huelva                             0.416330  \n",
       "Aracena                            0.454545  \n",
       "Palos de la Frontera               0.457143  \n",
       "Condado-Campiña                    0.457584  \n",
       "San Juan del Puerto                0.458333  \n",
       "Palma del Condado (La)             0.476190  \n",
       "Sierra de Huelva-Andévalo Central  0.482143  \n",
       "Valverde del Camino                0.483871  \n",
       "Lepe                               0.500000  \n",
       "Puebla de Guzmán                   0.526316  \n",
       "Cartaya                            0.538462  \n",
       "Ayamonte                           0.545455  \n",
       "Lucena del Puerto                  0.545455  \n",
       "Niebla                             0.555556  \n",
       "San Bartolomé de la Torre          0.571429  \n",
       "Isla Cristina                      0.590909  \n",
       "Almonte                            0.631579  \n",
       "Alosno                             0.636364  \n",
       "Almendro (El)                      0.666667  \n",
       "Beas                               0.818182  \n",
       "Calañas                            0.888889  \n",
       "Rociana del Condado                0.916667  \n",
       "Campillo (El)                      1.000000  \n",
       "Santa Bárbara de Casa              1.000000  \n",
       "Almonaster la Real                 1.000000  \n",
       "Villablanca                        1.000000  \n",
       "Nerva                              1.000000  \n",
       "Minas de Riotinto                  1.000000  \n",
       "Cerro de Andévalo (El)             1.000000  \n",
       "Zarza-Perrunal (La)                1.000000  "
      ],
      "text/html": "<div>\n<style scoped>\n    .dataframe tbody tr th:only-of-type {\n        vertical-align: middle;\n    }\n\n    .dataframe tbody tr th {\n        vertical-align: top;\n    }\n\n    .dataframe thead th {\n        text-align: right;\n    }\n</style>\n<table border=\"1\" class=\"dataframe\">\n  <thead>\n    <tr style=\"text-align: right;\">\n      <th>Medida</th>\n      <th>Confirmados PDIA</th>\n      <th>Confirmados PDIA 7 días</th>\n      <th>Confirmados PDIA 14 días</th>\n      <th>Población</th>\n      <th>tasa7</th>\n      <th>tasa14</th>\n      <th>Diferencia PDIA</th>\n      <th>7/14</th>\n    </tr>\n    <tr>\n      <th>Lugar de residencia</th>\n      <th></th>\n      <th></th>\n      <th></th>\n      <th></th>\n      <th></th>\n      <th></th>\n      <th></th>\n      <th></th>\n    </tr>\n  </thead>\n  <tbody>\n    <tr>\n      <th>Punta Umbría</th>\n      <td>841.0</td>\n      <td>4.0</td>\n      <td>28.0</td>\n      <td>15355.0</td>\n      <td>26.050147</td>\n      <td>182.351026</td>\n      <td>0.0</td>\n      <td>0.142857</td>\n    </tr>\n    <tr>\n      <th>Cortelazor</th>\n      <td>13.0</td>\n      <td>1.0</td>\n      <td>5.0</td>\n      <td>299.0</td>\n      <td>334.448161</td>\n      <td>1672.240803</td>\n      <td>0.0</td>\n      <td>0.200000</td>\n    </tr>\n    <tr>\n      <th>Aljaraque</th>\n      <td>1157.0</td>\n      <td>10.0</td>\n      <td>45.0</td>\n      <td>21474.0</td>\n      <td>46.567943</td>\n      <td>209.555742</td>\n      <td>0.0</td>\n      <td>0.222222</td>\n    </tr>\n    <tr>\n      <th>Trigueros</th>\n      <td>329.0</td>\n      <td>6.0</td>\n      <td>22.0</td>\n      <td>7862.0</td>\n      <td>76.316459</td>\n      <td>279.827016</td>\n      <td>0.0</td>\n      <td>0.272727</td>\n    </tr>\n    <tr>\n      <th>Bonares</th>\n      <td>291.0</td>\n      <td>5.0</td>\n      <td>18.0</td>\n      <td>6060.0</td>\n      <td>82.508251</td>\n      <td>297.029703</td>\n      <td>0.0</td>\n      <td>0.277778</td>\n    </tr>\n    <tr>\n      <th>Gibraleón</th>\n      <td>645.0</td>\n      <td>4.0</td>\n      <td>13.0</td>\n      <td>12737.0</td>\n      <td>31.404569</td>\n      <td>102.064850</td>\n      <td>2.0</td>\n      <td>0.307692</td>\n    </tr>\n    <tr>\n      <th>Huelva (capital)</th>\n      <td>8948.0</td>\n      <td>194.0</td>\n      <td>528.0</td>\n      <td>143837.0</td>\n      <td>134.874893</td>\n      <td>367.082183</td>\n      <td>21.0</td>\n      <td>0.367424</td>\n    </tr>\n    <tr>\n      <th>Bollullos Par del Condado</th>\n      <td>1025.0</td>\n      <td>16.0</td>\n      <td>43.0</td>\n      <td>14387.0</td>\n      <td>111.211510</td>\n      <td>298.880934</td>\n      <td>2.0</td>\n      <td>0.372093</td>\n    </tr>\n    <tr>\n      <th>Huelva-Costa</th>\n      <td>18902.0</td>\n      <td>281.0</td>\n      <td>732.0</td>\n      <td>289548.0</td>\n      <td>97.047812</td>\n      <td>252.807825</td>\n      <td>37.0</td>\n      <td>0.383880</td>\n    </tr>\n    <tr>\n      <th>Moguer</th>\n      <td>1366.0</td>\n      <td>28.0</td>\n      <td>70.0</td>\n      <td>21867.0</td>\n      <td>128.046829</td>\n      <td>320.117071</td>\n      <td>5.0</td>\n      <td>0.400000</td>\n    </tr>\n    <tr>\n      <th>Huelva</th>\n      <td>32813.0</td>\n      <td>515.0</td>\n      <td>1237.0</td>\n      <td>513170.0</td>\n      <td>100.356607</td>\n      <td>241.050724</td>\n      <td>81.0</td>\n      <td>0.416330</td>\n    </tr>\n    <tr>\n      <th>Aracena</th>\n      <td>539.0</td>\n      <td>5.0</td>\n      <td>11.0</td>\n      <td>8255.0</td>\n      <td>60.569352</td>\n      <td>133.252574</td>\n      <td>0.0</td>\n      <td>0.454545</td>\n    </tr>\n    <tr>\n      <th>Palos de la Frontera</th>\n      <td>706.0</td>\n      <td>16.0</td>\n      <td>35.0</td>\n      <td>11742.0</td>\n      <td>136.262988</td>\n      <td>298.075285</td>\n      <td>3.0</td>\n      <td>0.457143</td>\n    </tr>\n    <tr>\n      <th>Condado-Campiña</th>\n      <td>10654.0</td>\n      <td>178.0</td>\n      <td>389.0</td>\n      <td>156231.0</td>\n      <td>113.933854</td>\n      <td>248.990277</td>\n      <td>34.0</td>\n      <td>0.457584</td>\n    </tr>\n    <tr>\n      <th>San Juan del Puerto</th>\n      <td>560.0</td>\n      <td>22.0</td>\n      <td>48.0</td>\n      <td>9411.0</td>\n      <td>233.768994</td>\n      <td>510.041441</td>\n      <td>1.0</td>\n      <td>0.458333</td>\n    </tr>\n    <tr>\n      <th>Palma del Condado (La)</th>\n      <td>1179.0</td>\n      <td>10.0</td>\n      <td>21.0</td>\n      <td>10801.0</td>\n      <td>92.584020</td>\n      <td>194.426442</td>\n      <td>0.0</td>\n      <td>0.476190</td>\n    </tr>\n    <tr>\n      <th>Sierra de Huelva-Andévalo Central</th>\n      <td>2905.0</td>\n      <td>54.0</td>\n      <td>112.0</td>\n      <td>67391.0</td>\n      <td>80.129394</td>\n      <td>166.194299</td>\n      <td>9.0</td>\n      <td>0.482143</td>\n    </tr>\n    <tr>\n      <th>Valverde del Camino</th>\n      <td>651.0</td>\n      <td>30.0</td>\n      <td>62.0</td>\n      <td>12750.0</td>\n      <td>235.294118</td>\n      <td>486.274510</td>\n      <td>6.0</td>\n      <td>0.483871</td>\n    </tr>\n    <tr>\n      <th>Lepe</th>\n      <td>2162.0</td>\n      <td>16.0</td>\n      <td>32.0</td>\n      <td>27880.0</td>\n      <td>57.388809</td>\n      <td>114.777618</td>\n      <td>5.0</td>\n      <td>0.500000</td>\n    </tr>\n    <tr>\n      <th>Puebla de Guzmán</th>\n      <td>139.0</td>\n      <td>10.0</td>\n      <td>19.0</td>\n      <td>3092.0</td>\n      <td>323.415265</td>\n      <td>614.489004</td>\n      <td>3.0</td>\n      <td>0.526316</td>\n    </tr>\n    <tr>\n      <th>Cartaya</th>\n      <td>1372.0</td>\n      <td>14.0</td>\n      <td>26.0</td>\n      <td>20083.0</td>\n      <td>69.710701</td>\n      <td>129.462730</td>\n      <td>3.0</td>\n      <td>0.538462</td>\n    </tr>\n    <tr>\n      <th>Ayamonte</th>\n      <td>1331.0</td>\n      <td>6.0</td>\n      <td>11.0</td>\n      <td>21104.0</td>\n      <td>28.430629</td>\n      <td>52.122820</td>\n      <td>1.0</td>\n      <td>0.545455</td>\n    </tr>\n    <tr>\n      <th>Lucena del Puerto</th>\n      <td>265.0</td>\n      <td>6.0</td>\n      <td>11.0</td>\n      <td>3261.0</td>\n      <td>183.992640</td>\n      <td>337.319841</td>\n      <td>1.0</td>\n      <td>0.545455</td>\n    </tr>\n    <tr>\n      <th>Niebla</th>\n      <td>247.0</td>\n      <td>5.0</td>\n      <td>9.0</td>\n      <td>4116.0</td>\n      <td>121.477162</td>\n      <td>218.658892</td>\n      <td>0.0</td>\n      <td>0.555556</td>\n    </tr>\n    <tr>\n      <th>San Bartolomé de la Torre</th>\n      <td>306.0</td>\n      <td>4.0</td>\n      <td>7.0</td>\n      <td>3761.0</td>\n      <td>106.354693</td>\n      <td>186.120713</td>\n      <td>1.0</td>\n      <td>0.571429</td>\n    </tr>\n    <tr>\n      <th>Isla Cristina</th>\n      <td>2172.0</td>\n      <td>13.0</td>\n      <td>22.0</td>\n      <td>21393.0</td>\n      <td>60.767541</td>\n      <td>102.837377</td>\n      <td>1.0</td>\n      <td>0.590909</td>\n    </tr>\n    <tr>\n      <th>Almonte</th>\n      <td>1897.0</td>\n      <td>36.0</td>\n      <td>57.0</td>\n      <td>24507.0</td>\n      <td>146.896805</td>\n      <td>232.586608</td>\n      <td>9.0</td>\n      <td>0.631579</td>\n    </tr>\n    <tr>\n      <th>Alosno</th>\n      <td>179.0</td>\n      <td>7.0</td>\n      <td>11.0</td>\n      <td>3933.0</td>\n      <td>177.981185</td>\n      <td>279.684719</td>\n      <td>0.0</td>\n      <td>0.636364</td>\n    </tr>\n    <tr>\n      <th>Almendro (El)</th>\n      <td>39.0</td>\n      <td>2.0</td>\n      <td>3.0</td>\n      <td>840.0</td>\n      <td>238.095238</td>\n      <td>357.142857</td>\n      <td>0.0</td>\n      <td>0.666667</td>\n    </tr>\n    <tr>\n      <th>Beas</th>\n      <td>222.0</td>\n      <td>9.0</td>\n      <td>11.0</td>\n      <td>4341.0</td>\n      <td>207.325501</td>\n      <td>253.397835</td>\n      <td>4.0</td>\n      <td>0.818182</td>\n    </tr>\n    <tr>\n      <th>Calañas</th>\n      <td>200.0</td>\n      <td>8.0</td>\n      <td>9.0</td>\n      <td>2768.0</td>\n      <td>289.017341</td>\n      <td>325.144509</td>\n      <td>0.0</td>\n      <td>0.888889</td>\n    </tr>\n    <tr>\n      <th>Rociana del Condado</th>\n      <td>569.0</td>\n      <td>11.0</td>\n      <td>12.0</td>\n      <td>7939.0</td>\n      <td>138.556493</td>\n      <td>151.152538</td>\n      <td>6.0</td>\n      <td>0.916667</td>\n    </tr>\n    <tr>\n      <th>Campillo (El)</th>\n      <td>74.0</td>\n      <td>1.0</td>\n      <td>1.0</td>\n      <td>2024.0</td>\n      <td>49.407115</td>\n      <td>49.407115</td>\n      <td>0.0</td>\n      <td>1.000000</td>\n    </tr>\n    <tr>\n      <th>Santa Bárbara de Casa</th>\n      <td>16.0</td>\n      <td>1.0</td>\n      <td>1.0</td>\n      <td>1043.0</td>\n      <td>95.877277</td>\n      <td>95.877277</td>\n      <td>0.0</td>\n      <td>1.000000</td>\n    </tr>\n    <tr>\n      <th>Almonaster la Real</th>\n      <td>68.0</td>\n      <td>2.0</td>\n      <td>2.0</td>\n      <td>1788.0</td>\n      <td>111.856823</td>\n      <td>111.856823</td>\n      <td>0.0</td>\n      <td>1.000000</td>\n    </tr>\n    <tr>\n      <th>Villablanca</th>\n      <td>191.0</td>\n      <td>4.0</td>\n      <td>4.0</td>\n      <td>2885.0</td>\n      <td>138.648180</td>\n      <td>138.648180</td>\n      <td>2.0</td>\n      <td>1.000000</td>\n    </tr>\n    <tr>\n      <th>Nerva</th>\n      <td>179.0</td>\n      <td>1.0</td>\n      <td>1.0</td>\n      <td>5169.0</td>\n      <td>19.346102</td>\n      <td>19.346102</td>\n      <td>0.0</td>\n      <td>1.000000</td>\n    </tr>\n    <tr>\n      <th>Minas de Riotinto</th>\n      <td>129.0</td>\n      <td>2.0</td>\n      <td>2.0</td>\n      <td>3812.0</td>\n      <td>52.465897</td>\n      <td>52.465897</td>\n      <td>1.0</td>\n      <td>1.000000</td>\n    </tr>\n    <tr>\n      <th>Cerro de Andévalo (El)</th>\n      <td>148.0</td>\n      <td>3.0</td>\n      <td>3.0</td>\n      <td>2327.0</td>\n      <td>128.921358</td>\n      <td>128.921358</td>\n      <td>1.0</td>\n      <td>1.000000</td>\n    </tr>\n    <tr>\n      <th>Zarza-Perrunal (La)</th>\n      <td>26.0</td>\n      <td>1.0</td>\n      <td>1.0</td>\n      <td>1253.0</td>\n      <td>79.808460</td>\n      <td>79.808460</td>\n      <td>0.0</td>\n      <td>1.000000</td>\n    </tr>\n  </tbody>\n</table>\n</div>"
     },
     "metadata": {},
     "execution_count": 18
    }
   ],
   "source": [
    "# Peso de la tasa de la última semana en relación con la tasa a 14 días \n",
    "# Mejor cuanto menor. Valor 1 significa que no había casos antes de 7 días.\n",
    "tabla['7/14'] = tabla['tasa7'] / tabla['tasa14']\n",
    "tabla.fillna(0).sort_values('7/14', ascending=True)"
   ]
  },
  {
   "cell_type": "code",
   "execution_count": null,
   "metadata": {},
   "outputs": [],
   "source": []
  }
 ]
}