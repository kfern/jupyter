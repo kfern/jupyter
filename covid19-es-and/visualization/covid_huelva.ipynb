{
 "metadata": {
  "language_info": {
   "codemirror_mode": {
    "name": "ipython",
    "version": 3
   },
   "file_extension": ".py",
   "mimetype": "text/x-python",
   "name": "python",
   "nbconvert_exporter": "python",
   "pygments_lexer": "ipython3",
   "version": "3.8.6-final"
  },
  "orig_nbformat": 2,
  "kernelspec": {
   "name": "python38564bit75945252d6ba481bad4868286020c89e",
   "display_name": "Python 3.8.5 64-bit",
   "language": "python"
  }
 },
 "nbformat": 4,
 "nbformat_minor": 2,
 "cells": [
  {
   "cell_type": "code",
   "execution_count": 1,
   "metadata": {},
   "outputs": [],
   "source": [
    "import pandas as pd\n",
    "pd.set_option('display.max_rows', None) # Print all rows"
   ]
  },
  {
   "cell_type": "code",
   "execution_count": 2,
   "metadata": {},
   "outputs": [],
   "source": [
    "# FIX SSL: CERTIFICATE_VERIFY_FAILED with Python3\n",
    "# https://stackoverflow.com/a/49174340\n",
    "import ssl\n",
    "\n",
    "ssl._create_default_https_context = ssl._create_unverified_context"
   ]
  },
  {
   "cell_type": "code",
   "execution_count": 3,
   "metadata": {},
   "outputs": [],
   "source": [
    "url = 'https://www.juntadeandalucia.es/institutodeestadisticaycartografia/badea/stpivot/stpivot/Print?cube=013d884c-cfc5-4c21-9e78-e26225682afd&type=3&foto=si&ejecutaDesde=&codConsulta=38668&consTipoVisua=JP'\n",
    "fields = ['Lugar de residencia', 'Medida', 'Valor']\n",
    "df = pd.read_csv(url, delimiter=';', usecols=fields, decimal=',')"
   ]
  },
  {
   "cell_type": "code",
   "execution_count": 4,
   "metadata": {},
   "outputs": [
    {
     "output_type": "execute_result",
     "data": {
      "text/plain": [
       "  Lugar de residencia                    Medida               Valor\n",
       "0              Huelva                 Población              513170\n",
       "1              Huelva          Confirmados PDIA               24830\n",
       "2              Huelva  Confirmados PDIA 14 días                 269\n",
       "3              Huelva         Tasa PDIA 14 días  52,419276263226614\n",
       "4              Huelva   Confirmados PDIA 7 días                 141\n",
       "5              Huelva        Total Confirmados                25035\n",
       "6              Huelva                   Curados               18115\n",
       "7              Huelva                Fallecidos                 343"
      ],
      "text/html": "<div>\n<style scoped>\n    .dataframe tbody tr th:only-of-type {\n        vertical-align: middle;\n    }\n\n    .dataframe tbody tr th {\n        vertical-align: top;\n    }\n\n    .dataframe thead th {\n        text-align: right;\n    }\n</style>\n<table border=\"1\" class=\"dataframe\">\n  <thead>\n    <tr style=\"text-align: right;\">\n      <th></th>\n      <th>Lugar de residencia</th>\n      <th>Medida</th>\n      <th>Valor</th>\n    </tr>\n  </thead>\n  <tbody>\n    <tr>\n      <th>0</th>\n      <td>Huelva</td>\n      <td>Población</td>\n      <td>513170</td>\n    </tr>\n    <tr>\n      <th>1</th>\n      <td>Huelva</td>\n      <td>Confirmados PDIA</td>\n      <td>24830</td>\n    </tr>\n    <tr>\n      <th>2</th>\n      <td>Huelva</td>\n      <td>Confirmados PDIA 14 días</td>\n      <td>269</td>\n    </tr>\n    <tr>\n      <th>3</th>\n      <td>Huelva</td>\n      <td>Tasa PDIA 14 días</td>\n      <td>52,419276263226614</td>\n    </tr>\n    <tr>\n      <th>4</th>\n      <td>Huelva</td>\n      <td>Confirmados PDIA 7 días</td>\n      <td>141</td>\n    </tr>\n    <tr>\n      <th>5</th>\n      <td>Huelva</td>\n      <td>Total Confirmados</td>\n      <td>25035</td>\n    </tr>\n    <tr>\n      <th>6</th>\n      <td>Huelva</td>\n      <td>Curados</td>\n      <td>18115</td>\n    </tr>\n    <tr>\n      <th>7</th>\n      <td>Huelva</td>\n      <td>Fallecidos</td>\n      <td>343</td>\n    </tr>\n  </tbody>\n</table>\n</div>"
     },
     "metadata": {},
     "execution_count": 4
    }
   ],
   "source": [
    "df[df['Lugar de residencia'] == 'Huelva']"
   ]
  },
  {
   "cell_type": "code",
   "execution_count": 5,
   "metadata": {},
   "outputs": [],
   "source": [
    "df['Valor'] = pd.to_numeric(df['Valor'],errors='coerce')"
   ]
  },
  {
   "cell_type": "code",
   "execution_count": 6,
   "metadata": {},
   "outputs": [],
   "source": [
    "dfAnterior = pd.read_csv('covid_huelva.csv', index_col='Lugar de residencia')"
   ]
  },
  {
   "cell_type": "code",
   "execution_count": 7,
   "metadata": {
    "tags": []
   },
   "outputs": [
    {
     "output_type": "stream",
     "name": "stdout",
     "text": [
      "Confirmados PCR en la provincia de Huelva:  24830.0\n",
      "<ipython-input-7-31b732756b19>:2: UserWarning: Boolean Series key will be reindexed to match DataFrame index.\n",
      "  p = df[df['Lugar de residencia'] == 'Huelva'][df['Medida'] == 'Confirmados PDIA']['Valor'].values[0]\n"
     ]
    }
   ],
   "source": [
    "# Confirmados PCR provincia Huelva\n",
    "p = df[df['Lugar de residencia'] == 'Huelva'][df['Medida'] == 'Confirmados PDIA']['Valor'].values[0]\n",
    "print('Confirmados PCR en la provincia de Huelva: ', p)"
   ]
  },
  {
   "cell_type": "code",
   "execution_count": 8,
   "metadata": {
    "tags": []
   },
   "outputs": [
    {
     "output_type": "stream",
     "name": "stdout",
     "text": [
      "Confirmados PCR en Huelva capital:  6596.0\n",
      "<ipython-input-8-e81bfb40e710>:2: UserWarning: Boolean Series key will be reindexed to match DataFrame index.\n",
      "  c = df[df['Lugar de residencia'] == 'Huelva (capital)'][df['Medida'] == 'Confirmados PDIA']['Valor'].values[0]\n"
     ]
    }
   ],
   "source": [
    "# Confirmados PCR Huelva capitalpd\n",
    "c = df[df['Lugar de residencia'] == 'Huelva (capital)'][df['Medida'] == 'Confirmados PDIA']['Valor'].values[0]\n",
    "print('Confirmados PCR en Huelva capital: ', c)"
   ]
  },
  {
   "cell_type": "code",
   "execution_count": 9,
   "metadata": {
    "tags": []
   },
   "outputs": [
    {
     "output_type": "stream",
     "name": "stderr",
     "text": [
      "<ipython-input-9-f09dd2050cc1>:1: UserWarning: Boolean Series key will be reindexed to match DataFrame index.\n  c7 = df[df['Lugar de residencia'] == 'Huelva (capital)'][df['Medida'] == 'Confirmados PDIA 7 días']['Valor'].values[0]\n<ipython-input-9-f09dd2050cc1>:2: UserWarning: Boolean Series key will be reindexed to match DataFrame index.\n  c14 = df[df['Lugar de residencia'] == 'Huelva (capital)'][df['Medida'] == 'Confirmados PDIA 14 días']['Valor'].values[0]\n<ipython-input-9-f09dd2050cc1>:3: UserWarning: Boolean Series key will be reindexed to match DataFrame index.\n  p = df[df['Lugar de residencia'] == 'Huelva (capital)'][df['Medida'] == 'Población']['Valor'].values[0]\n"
     ]
    }
   ],
   "source": [
    "c7 = df[df['Lugar de residencia'] == 'Huelva (capital)'][df['Medida'] == 'Confirmados PDIA 7 días']['Valor'].values[0]\n",
    "c14 = df[df['Lugar de residencia'] == 'Huelva (capital)'][df['Medida'] == 'Confirmados PDIA 14 días']['Valor'].values[0]\n",
    "p = df[df['Lugar de residencia'] == 'Huelva (capital)'][df['Medida'] == 'Población']['Valor'].values[0]"
   ]
  },
  {
   "cell_type": "code",
   "execution_count": 10,
   "metadata": {
    "tags": []
   },
   "outputs": [
    {
     "output_type": "stream",
     "name": "stdout",
     "text": [
      "Huelva (capital)\n\nUn positivo PCR cada 5753 personas en los últimos 7 días \n\nUn positivo PCR cada 3060 personas en los últimos 14 días\n"
     ]
    }
   ],
   "source": [
    "print('Huelva (capital)\\n')\n",
    "#print('Confirmados PCR 7 días x 1,000 habitantes: ', f\"{c7/(p/1000):.5f}\")\n",
    "print('Un positivo PCR cada', f\"{p/c7:.0f}\", 'personas en los últimos 7 días', '\\n')\n",
    "#print('Confirmados PCR 14 días x 1,000 habitantes: ', f\"{c14/(p/1000):.5f}\")\n",
    "print('Un positivo PCR cada', f\"{p/c14:.0f}\", 'personas en los últimos 14 días')"
   ]
  },
  {
   "cell_type": "code",
   "execution_count": 11,
   "metadata": {},
   "outputs": [],
   "source": [
    "filtro = ((df['Medida'] == 'Confirmados PDIA')| (df['Medida'] == 'Confirmados PDIA 7 días') | (df['Medida'] == 'Población' ) | (df['Medida'] == 'Confirmados PDIA 14 días')) & (df['Valor'] > 0)\n",
    "tabla = pd.pivot_table(df.loc[filtro], values='Valor', index='Lugar de residencia', columns='Medida').dropna()"
   ]
  },
  {
   "cell_type": "code",
   "execution_count": 12,
   "metadata": {},
   "outputs": [],
   "source": [
    "# Reorder columns\n",
    "tabla = tabla[['Confirmados PDIA', 'Confirmados PDIA 7 días', 'Confirmados PDIA 14 días', 'Población']]"
   ]
  },
  {
   "cell_type": "code",
   "execution_count": 13,
   "metadata": {},
   "outputs": [],
   "source": [
    "tabla['tasa7'] = tabla['Confirmados PDIA 7 días']/tabla['Población']*100000\n",
    "tabla['tasa14'] = tabla['Confirmados PDIA 14 días']/tabla['Población']*100000"
   ]
  },
  {
   "cell_type": "code",
   "execution_count": 14,
   "metadata": {},
   "outputs": [],
   "source": [
    "tabla['Diferencia PDIA'] = tabla['Confirmados PDIA'] - dfAnterior['Confirmados PDIA']"
   ]
  },
  {
   "cell_type": "code",
   "execution_count": 15,
   "metadata": {},
   "outputs": [
    {
     "output_type": "execute_result",
     "data": {
      "text/plain": [
       "Medida                             Confirmados PDIA  Confirmados PDIA 7 días  \\\n",
       "Lugar de residencia                                                            \n",
       "Huelva                                      24830.0                    141.0   \n",
       "Condado-Campiña                              6980.0                     63.0   \n",
       "Huelva-Costa                                15136.0                     74.0   \n",
       "Huelva (capital)                             6596.0                     25.0   \n",
       "Ayamonte                                     1227.0                     16.0   \n",
       "Gibraleón                                     515.0                      4.0   \n",
       "Villalba del Alcor                            451.0                      6.0   \n",
       "Cartaya                                       963.0                      7.0   \n",
       "Almonte                                       880.0                      8.0   \n",
       "Palma del Condado (La)                        985.0                      7.0   \n",
       "Palos de la Frontera                          455.0                      4.0   \n",
       "San Bartolomé de la Torre                     206.0                      7.0   \n",
       "Lepe                                         2001.0                      8.0   \n",
       "Sierra de Huelva-Andévalo Central            2302.0                      3.0   \n",
       "Valverde del Camino                           418.0                      2.0   \n",
       "Villarrasa                                    130.0                      1.0   \n",
       "\n",
       "Medida                             Confirmados PDIA 14 días  Población  \\\n",
       "Lugar de residencia                                                      \n",
       "Huelva                                                269.0   513170.0   \n",
       "Condado-Campiña                                       108.0   156231.0   \n",
       "Huelva-Costa                                          155.0   289548.0   \n",
       "Huelva (capital)                                       47.0   143837.0   \n",
       "Ayamonte                                               36.0    21104.0   \n",
       "Gibraleón                                               4.0    12737.0   \n",
       "Villalba del Alcor                                      6.0     3366.0   \n",
       "Cartaya                                                20.0    20083.0   \n",
       "Almonte                                                22.0    24507.0   \n",
       "Palma del Condado (La)                                 11.0    10801.0   \n",
       "Palos de la Frontera                                    6.0    11742.0   \n",
       "San Bartolomé de la Torre                              13.0     3761.0   \n",
       "Lepe                                                   13.0    27880.0   \n",
       "Sierra de Huelva-Andévalo Central                       4.0    67391.0   \n",
       "Valverde del Camino                                     2.0    12750.0   \n",
       "Villarrasa                                              1.0     2211.0   \n",
       "\n",
       "Medida                                  tasa7      tasa14  Diferencia PDIA  \n",
       "Lugar de residencia                                                         \n",
       "Huelva                              27.476275   52.419276             34.0  \n",
       "Condado-Campiña                     40.324904   69.128406             17.0  \n",
       "Huelva-Costa                        25.557075   53.531711             16.0  \n",
       "Huelva (capital)                    17.380785   32.675876              8.0  \n",
       "Ayamonte                            75.815011  170.583776              4.0  \n",
       "Gibraleón                           31.404569   31.404569              4.0  \n",
       "Villalba del Alcor                 178.253119  178.253119              4.0  \n",
       "Cartaya                             34.855350   99.586715              3.0  \n",
       "Almonte                             32.643734   89.770270              2.0  \n",
       "Palma del Condado (La)              64.808814  101.842422              2.0  \n",
       "Palos de la Frontera                34.065747   51.098620              2.0  \n",
       "San Bartolomé de la Torre          186.120713  345.652752              2.0  \n",
       "Lepe                                28.694405   46.628407              1.0  \n",
       "Sierra de Huelva-Andévalo Central    4.451633    5.935511              1.0  \n",
       "Valverde del Camino                 15.686275   15.686275              1.0  \n",
       "Villarrasa                          45.228403   45.228403              NaN  "
      ],
      "text/html": "<div>\n<style scoped>\n    .dataframe tbody tr th:only-of-type {\n        vertical-align: middle;\n    }\n\n    .dataframe tbody tr th {\n        vertical-align: top;\n    }\n\n    .dataframe thead th {\n        text-align: right;\n    }\n</style>\n<table border=\"1\" class=\"dataframe\">\n  <thead>\n    <tr style=\"text-align: right;\">\n      <th>Medida</th>\n      <th>Confirmados PDIA</th>\n      <th>Confirmados PDIA 7 días</th>\n      <th>Confirmados PDIA 14 días</th>\n      <th>Población</th>\n      <th>tasa7</th>\n      <th>tasa14</th>\n      <th>Diferencia PDIA</th>\n    </tr>\n    <tr>\n      <th>Lugar de residencia</th>\n      <th></th>\n      <th></th>\n      <th></th>\n      <th></th>\n      <th></th>\n      <th></th>\n      <th></th>\n    </tr>\n  </thead>\n  <tbody>\n    <tr>\n      <th>Huelva</th>\n      <td>24830.0</td>\n      <td>141.0</td>\n      <td>269.0</td>\n      <td>513170.0</td>\n      <td>27.476275</td>\n      <td>52.419276</td>\n      <td>34.0</td>\n    </tr>\n    <tr>\n      <th>Condado-Campiña</th>\n      <td>6980.0</td>\n      <td>63.0</td>\n      <td>108.0</td>\n      <td>156231.0</td>\n      <td>40.324904</td>\n      <td>69.128406</td>\n      <td>17.0</td>\n    </tr>\n    <tr>\n      <th>Huelva-Costa</th>\n      <td>15136.0</td>\n      <td>74.0</td>\n      <td>155.0</td>\n      <td>289548.0</td>\n      <td>25.557075</td>\n      <td>53.531711</td>\n      <td>16.0</td>\n    </tr>\n    <tr>\n      <th>Huelva (capital)</th>\n      <td>6596.0</td>\n      <td>25.0</td>\n      <td>47.0</td>\n      <td>143837.0</td>\n      <td>17.380785</td>\n      <td>32.675876</td>\n      <td>8.0</td>\n    </tr>\n    <tr>\n      <th>Ayamonte</th>\n      <td>1227.0</td>\n      <td>16.0</td>\n      <td>36.0</td>\n      <td>21104.0</td>\n      <td>75.815011</td>\n      <td>170.583776</td>\n      <td>4.0</td>\n    </tr>\n    <tr>\n      <th>Gibraleón</th>\n      <td>515.0</td>\n      <td>4.0</td>\n      <td>4.0</td>\n      <td>12737.0</td>\n      <td>31.404569</td>\n      <td>31.404569</td>\n      <td>4.0</td>\n    </tr>\n    <tr>\n      <th>Villalba del Alcor</th>\n      <td>451.0</td>\n      <td>6.0</td>\n      <td>6.0</td>\n      <td>3366.0</td>\n      <td>178.253119</td>\n      <td>178.253119</td>\n      <td>4.0</td>\n    </tr>\n    <tr>\n      <th>Cartaya</th>\n      <td>963.0</td>\n      <td>7.0</td>\n      <td>20.0</td>\n      <td>20083.0</td>\n      <td>34.855350</td>\n      <td>99.586715</td>\n      <td>3.0</td>\n    </tr>\n    <tr>\n      <th>Almonte</th>\n      <td>880.0</td>\n      <td>8.0</td>\n      <td>22.0</td>\n      <td>24507.0</td>\n      <td>32.643734</td>\n      <td>89.770270</td>\n      <td>2.0</td>\n    </tr>\n    <tr>\n      <th>Palma del Condado (La)</th>\n      <td>985.0</td>\n      <td>7.0</td>\n      <td>11.0</td>\n      <td>10801.0</td>\n      <td>64.808814</td>\n      <td>101.842422</td>\n      <td>2.0</td>\n    </tr>\n    <tr>\n      <th>Palos de la Frontera</th>\n      <td>455.0</td>\n      <td>4.0</td>\n      <td>6.0</td>\n      <td>11742.0</td>\n      <td>34.065747</td>\n      <td>51.098620</td>\n      <td>2.0</td>\n    </tr>\n    <tr>\n      <th>San Bartolomé de la Torre</th>\n      <td>206.0</td>\n      <td>7.0</td>\n      <td>13.0</td>\n      <td>3761.0</td>\n      <td>186.120713</td>\n      <td>345.652752</td>\n      <td>2.0</td>\n    </tr>\n    <tr>\n      <th>Lepe</th>\n      <td>2001.0</td>\n      <td>8.0</td>\n      <td>13.0</td>\n      <td>27880.0</td>\n      <td>28.694405</td>\n      <td>46.628407</td>\n      <td>1.0</td>\n    </tr>\n    <tr>\n      <th>Sierra de Huelva-Andévalo Central</th>\n      <td>2302.0</td>\n      <td>3.0</td>\n      <td>4.0</td>\n      <td>67391.0</td>\n      <td>4.451633</td>\n      <td>5.935511</td>\n      <td>1.0</td>\n    </tr>\n    <tr>\n      <th>Valverde del Camino</th>\n      <td>418.0</td>\n      <td>2.0</td>\n      <td>2.0</td>\n      <td>12750.0</td>\n      <td>15.686275</td>\n      <td>15.686275</td>\n      <td>1.0</td>\n    </tr>\n    <tr>\n      <th>Villarrasa</th>\n      <td>130.0</td>\n      <td>1.0</td>\n      <td>1.0</td>\n      <td>2211.0</td>\n      <td>45.228403</td>\n      <td>45.228403</td>\n      <td>NaN</td>\n    </tr>\n  </tbody>\n</table>\n</div>"
     },
     "metadata": {},
     "execution_count": 15
    }
   ],
   "source": [
    "# Nuevos casos desde la última captura\n",
    "tabla[tabla['Diferencia PDIA'] != 0].sort_values('Diferencia PDIA', ascending=False)"
   ]
  },
  {
   "cell_type": "code",
   "execution_count": 16,
   "metadata": {},
   "outputs": [],
   "source": [
    "if tabla[tabla['Diferencia PDIA'] != 0]['Diferencia PDIA'].sum() != 0:\n",
    "  # Save to csv\n",
    "  tabla.to_csv('covid_huelva.csv', encoding='utf-8', header=True, index=True)  "
   ]
  },
  {
   "cell_type": "code",
   "execution_count": 17,
   "metadata": {},
   "outputs": [
    {
     "output_type": "execute_result",
     "data": {
      "text/plain": [
       "Medida                             Confirmados PDIA  Confirmados PDIA 7 días  \\\n",
       "Lugar de residencia                                                            \n",
       "Puebla de Guzmán                              102.0                      7.0   \n",
       "San Bartolomé de la Torre                     206.0                      7.0   \n",
       "Lucena del Puerto                             162.0                      5.0   \n",
       "San Silvestre de Guzmán                        13.0                      2.0   \n",
       "Corteconcepción                                24.0                      1.0   \n",
       "Villalba del Alcor                            451.0                      6.0   \n",
       "Ayamonte                                     1227.0                     16.0   \n",
       "Palma del Condado (La)                        985.0                      7.0   \n",
       "Cartaya                                       963.0                      7.0   \n",
       "Almonte                                       880.0                      8.0   \n",
       "Alosno                                        123.0                      1.0   \n",
       "San Juan del Puerto                           365.0                      6.0   \n",
       "Bollullos Par del Condado                     621.0                      4.0   \n",
       "Villablanca                                   177.0                      1.0   \n",
       "Condado-Campiña                              6980.0                     63.0   \n",
       "Isla Cristina                                1990.0                      6.0   \n",
       "Huelva-Costa                                15136.0                     74.0   \n",
       "Huelva                                      24830.0                    141.0   \n",
       "Palos de la Frontera                          455.0                      4.0   \n",
       "Lepe                                         2001.0                      8.0   \n",
       "Beas                                          162.0                      2.0   \n",
       "Moguer                                        837.0                      7.0   \n",
       "Villarrasa                                    130.0                      1.0   \n",
       "Escacena del Campo                            140.0                      1.0   \n",
       "Rociana del Condado                           313.0                      1.0   \n",
       "Huelva (capital)                             6596.0                     25.0   \n",
       "Gibraleón                                     515.0                      4.0   \n",
       "Valverde del Camino                           418.0                      2.0   \n",
       "Punta Umbría                                  658.0                      1.0   \n",
       "Sierra de Huelva-Andévalo Central            2302.0                      3.0   \n",
       "\n",
       "Medida                             Confirmados PDIA 14 días  Población  \\\n",
       "Lugar de residencia                                                      \n",
       "Puebla de Guzmán                                       17.0     3092.0   \n",
       "San Bartolomé de la Torre                              13.0     3761.0   \n",
       "Lucena del Puerto                                      11.0     3261.0   \n",
       "San Silvestre de Guzmán                                 2.0      614.0   \n",
       "Corteconcepción                                         1.0      536.0   \n",
       "Villalba del Alcor                                      6.0     3366.0   \n",
       "Ayamonte                                               36.0    21104.0   \n",
       "Palma del Condado (La)                                 11.0    10801.0   \n",
       "Cartaya                                                20.0    20083.0   \n",
       "Almonte                                                22.0    24507.0   \n",
       "Alosno                                                  3.0     3933.0   \n",
       "San Juan del Puerto                                     7.0     9411.0   \n",
       "Bollullos Par del Condado                              10.0    14387.0   \n",
       "Villablanca                                             2.0     2885.0   \n",
       "Condado-Campiña                                       108.0   156231.0   \n",
       "Isla Cristina                                          12.0    21393.0   \n",
       "Huelva-Costa                                          155.0   289548.0   \n",
       "Huelva                                                269.0   513170.0   \n",
       "Palos de la Frontera                                    6.0    11742.0   \n",
       "Lepe                                                   13.0    27880.0   \n",
       "Beas                                                    2.0     4341.0   \n",
       "Moguer                                                 10.0    21867.0   \n",
       "Villarrasa                                              1.0     2211.0   \n",
       "Escacena del Campo                                      1.0     2287.0   \n",
       "Rociana del Condado                                     3.0     7939.0   \n",
       "Huelva (capital)                                       47.0   143837.0   \n",
       "Gibraleón                                               4.0    12737.0   \n",
       "Valverde del Camino                                     2.0    12750.0   \n",
       "Punta Umbría                                            1.0    15355.0   \n",
       "Sierra de Huelva-Andévalo Central                       4.0    67391.0   \n",
       "\n",
       "Medida                                  tasa7      tasa14  Diferencia PDIA  \n",
       "Lugar de residencia                                                         \n",
       "Puebla de Guzmán                   226.390686  549.805951              0.0  \n",
       "San Bartolomé de la Torre          186.120713  345.652752              2.0  \n",
       "Lucena del Puerto                  153.327200  337.319841              0.0  \n",
       "San Silvestre de Guzmán            325.732899  325.732899              0.0  \n",
       "Corteconcepción                    186.567164  186.567164              0.0  \n",
       "Villalba del Alcor                 178.253119  178.253119              4.0  \n",
       "Ayamonte                            75.815011  170.583776              4.0  \n",
       "Palma del Condado (La)              64.808814  101.842422              2.0  \n",
       "Cartaya                             34.855350   99.586715              3.0  \n",
       "Almonte                             32.643734   89.770270              2.0  \n",
       "Alosno                              25.425884   76.277651              0.0  \n",
       "San Juan del Puerto                 63.755180   74.381043              0.0  \n",
       "Bollullos Par del Condado           27.802878   69.507194              0.0  \n",
       "Villablanca                         34.662045   69.324090              0.0  \n",
       "Condado-Campiña                     40.324904   69.128406             17.0  \n",
       "Isla Cristina                       28.046557   56.093115              0.0  \n",
       "Huelva-Costa                        25.557075   53.531711             16.0  \n",
       "Huelva                              27.476275   52.419276             34.0  \n",
       "Palos de la Frontera                34.065747   51.098620              2.0  \n",
       "Lepe                                28.694405   46.628407              1.0  \n",
       "Beas                                46.072334   46.072334              0.0  \n",
       "Moguer                              32.011707   45.731010              0.0  \n",
       "Villarrasa                          45.228403   45.228403              NaN  \n",
       "Escacena del Campo                  43.725404   43.725404              0.0  \n",
       "Rociana del Condado                 12.596045   37.788135              0.0  \n",
       "Huelva (capital)                    17.380785   32.675876              8.0  \n",
       "Gibraleón                           31.404569   31.404569              4.0  \n",
       "Valverde del Camino                 15.686275   15.686275              1.0  \n",
       "Punta Umbría                         6.512537    6.512537              0.0  \n",
       "Sierra de Huelva-Andévalo Central    4.451633    5.935511              1.0  "
      ],
      "text/html": "<div>\n<style scoped>\n    .dataframe tbody tr th:only-of-type {\n        vertical-align: middle;\n    }\n\n    .dataframe tbody tr th {\n        vertical-align: top;\n    }\n\n    .dataframe thead th {\n        text-align: right;\n    }\n</style>\n<table border=\"1\" class=\"dataframe\">\n  <thead>\n    <tr style=\"text-align: right;\">\n      <th>Medida</th>\n      <th>Confirmados PDIA</th>\n      <th>Confirmados PDIA 7 días</th>\n      <th>Confirmados PDIA 14 días</th>\n      <th>Población</th>\n      <th>tasa7</th>\n      <th>tasa14</th>\n      <th>Diferencia PDIA</th>\n    </tr>\n    <tr>\n      <th>Lugar de residencia</th>\n      <th></th>\n      <th></th>\n      <th></th>\n      <th></th>\n      <th></th>\n      <th></th>\n      <th></th>\n    </tr>\n  </thead>\n  <tbody>\n    <tr>\n      <th>Puebla de Guzmán</th>\n      <td>102.0</td>\n      <td>7.0</td>\n      <td>17.0</td>\n      <td>3092.0</td>\n      <td>226.390686</td>\n      <td>549.805951</td>\n      <td>0.0</td>\n    </tr>\n    <tr>\n      <th>San Bartolomé de la Torre</th>\n      <td>206.0</td>\n      <td>7.0</td>\n      <td>13.0</td>\n      <td>3761.0</td>\n      <td>186.120713</td>\n      <td>345.652752</td>\n      <td>2.0</td>\n    </tr>\n    <tr>\n      <th>Lucena del Puerto</th>\n      <td>162.0</td>\n      <td>5.0</td>\n      <td>11.0</td>\n      <td>3261.0</td>\n      <td>153.327200</td>\n      <td>337.319841</td>\n      <td>0.0</td>\n    </tr>\n    <tr>\n      <th>San Silvestre de Guzmán</th>\n      <td>13.0</td>\n      <td>2.0</td>\n      <td>2.0</td>\n      <td>614.0</td>\n      <td>325.732899</td>\n      <td>325.732899</td>\n      <td>0.0</td>\n    </tr>\n    <tr>\n      <th>Corteconcepción</th>\n      <td>24.0</td>\n      <td>1.0</td>\n      <td>1.0</td>\n      <td>536.0</td>\n      <td>186.567164</td>\n      <td>186.567164</td>\n      <td>0.0</td>\n    </tr>\n    <tr>\n      <th>Villalba del Alcor</th>\n      <td>451.0</td>\n      <td>6.0</td>\n      <td>6.0</td>\n      <td>3366.0</td>\n      <td>178.253119</td>\n      <td>178.253119</td>\n      <td>4.0</td>\n    </tr>\n    <tr>\n      <th>Ayamonte</th>\n      <td>1227.0</td>\n      <td>16.0</td>\n      <td>36.0</td>\n      <td>21104.0</td>\n      <td>75.815011</td>\n      <td>170.583776</td>\n      <td>4.0</td>\n    </tr>\n    <tr>\n      <th>Palma del Condado (La)</th>\n      <td>985.0</td>\n      <td>7.0</td>\n      <td>11.0</td>\n      <td>10801.0</td>\n      <td>64.808814</td>\n      <td>101.842422</td>\n      <td>2.0</td>\n    </tr>\n    <tr>\n      <th>Cartaya</th>\n      <td>963.0</td>\n      <td>7.0</td>\n      <td>20.0</td>\n      <td>20083.0</td>\n      <td>34.855350</td>\n      <td>99.586715</td>\n      <td>3.0</td>\n    </tr>\n    <tr>\n      <th>Almonte</th>\n      <td>880.0</td>\n      <td>8.0</td>\n      <td>22.0</td>\n      <td>24507.0</td>\n      <td>32.643734</td>\n      <td>89.770270</td>\n      <td>2.0</td>\n    </tr>\n    <tr>\n      <th>Alosno</th>\n      <td>123.0</td>\n      <td>1.0</td>\n      <td>3.0</td>\n      <td>3933.0</td>\n      <td>25.425884</td>\n      <td>76.277651</td>\n      <td>0.0</td>\n    </tr>\n    <tr>\n      <th>San Juan del Puerto</th>\n      <td>365.0</td>\n      <td>6.0</td>\n      <td>7.0</td>\n      <td>9411.0</td>\n      <td>63.755180</td>\n      <td>74.381043</td>\n      <td>0.0</td>\n    </tr>\n    <tr>\n      <th>Bollullos Par del Condado</th>\n      <td>621.0</td>\n      <td>4.0</td>\n      <td>10.0</td>\n      <td>14387.0</td>\n      <td>27.802878</td>\n      <td>69.507194</td>\n      <td>0.0</td>\n    </tr>\n    <tr>\n      <th>Villablanca</th>\n      <td>177.0</td>\n      <td>1.0</td>\n      <td>2.0</td>\n      <td>2885.0</td>\n      <td>34.662045</td>\n      <td>69.324090</td>\n      <td>0.0</td>\n    </tr>\n    <tr>\n      <th>Condado-Campiña</th>\n      <td>6980.0</td>\n      <td>63.0</td>\n      <td>108.0</td>\n      <td>156231.0</td>\n      <td>40.324904</td>\n      <td>69.128406</td>\n      <td>17.0</td>\n    </tr>\n    <tr>\n      <th>Isla Cristina</th>\n      <td>1990.0</td>\n      <td>6.0</td>\n      <td>12.0</td>\n      <td>21393.0</td>\n      <td>28.046557</td>\n      <td>56.093115</td>\n      <td>0.0</td>\n    </tr>\n    <tr>\n      <th>Huelva-Costa</th>\n      <td>15136.0</td>\n      <td>74.0</td>\n      <td>155.0</td>\n      <td>289548.0</td>\n      <td>25.557075</td>\n      <td>53.531711</td>\n      <td>16.0</td>\n    </tr>\n    <tr>\n      <th>Huelva</th>\n      <td>24830.0</td>\n      <td>141.0</td>\n      <td>269.0</td>\n      <td>513170.0</td>\n      <td>27.476275</td>\n      <td>52.419276</td>\n      <td>34.0</td>\n    </tr>\n    <tr>\n      <th>Palos de la Frontera</th>\n      <td>455.0</td>\n      <td>4.0</td>\n      <td>6.0</td>\n      <td>11742.0</td>\n      <td>34.065747</td>\n      <td>51.098620</td>\n      <td>2.0</td>\n    </tr>\n    <tr>\n      <th>Lepe</th>\n      <td>2001.0</td>\n      <td>8.0</td>\n      <td>13.0</td>\n      <td>27880.0</td>\n      <td>28.694405</td>\n      <td>46.628407</td>\n      <td>1.0</td>\n    </tr>\n    <tr>\n      <th>Beas</th>\n      <td>162.0</td>\n      <td>2.0</td>\n      <td>2.0</td>\n      <td>4341.0</td>\n      <td>46.072334</td>\n      <td>46.072334</td>\n      <td>0.0</td>\n    </tr>\n    <tr>\n      <th>Moguer</th>\n      <td>837.0</td>\n      <td>7.0</td>\n      <td>10.0</td>\n      <td>21867.0</td>\n      <td>32.011707</td>\n      <td>45.731010</td>\n      <td>0.0</td>\n    </tr>\n    <tr>\n      <th>Villarrasa</th>\n      <td>130.0</td>\n      <td>1.0</td>\n      <td>1.0</td>\n      <td>2211.0</td>\n      <td>45.228403</td>\n      <td>45.228403</td>\n      <td>NaN</td>\n    </tr>\n    <tr>\n      <th>Escacena del Campo</th>\n      <td>140.0</td>\n      <td>1.0</td>\n      <td>1.0</td>\n      <td>2287.0</td>\n      <td>43.725404</td>\n      <td>43.725404</td>\n      <td>0.0</td>\n    </tr>\n    <tr>\n      <th>Rociana del Condado</th>\n      <td>313.0</td>\n      <td>1.0</td>\n      <td>3.0</td>\n      <td>7939.0</td>\n      <td>12.596045</td>\n      <td>37.788135</td>\n      <td>0.0</td>\n    </tr>\n    <tr>\n      <th>Huelva (capital)</th>\n      <td>6596.0</td>\n      <td>25.0</td>\n      <td>47.0</td>\n      <td>143837.0</td>\n      <td>17.380785</td>\n      <td>32.675876</td>\n      <td>8.0</td>\n    </tr>\n    <tr>\n      <th>Gibraleón</th>\n      <td>515.0</td>\n      <td>4.0</td>\n      <td>4.0</td>\n      <td>12737.0</td>\n      <td>31.404569</td>\n      <td>31.404569</td>\n      <td>4.0</td>\n    </tr>\n    <tr>\n      <th>Valverde del Camino</th>\n      <td>418.0</td>\n      <td>2.0</td>\n      <td>2.0</td>\n      <td>12750.0</td>\n      <td>15.686275</td>\n      <td>15.686275</td>\n      <td>1.0</td>\n    </tr>\n    <tr>\n      <th>Punta Umbría</th>\n      <td>658.0</td>\n      <td>1.0</td>\n      <td>1.0</td>\n      <td>15355.0</td>\n      <td>6.512537</td>\n      <td>6.512537</td>\n      <td>0.0</td>\n    </tr>\n    <tr>\n      <th>Sierra de Huelva-Andévalo Central</th>\n      <td>2302.0</td>\n      <td>3.0</td>\n      <td>4.0</td>\n      <td>67391.0</td>\n      <td>4.451633</td>\n      <td>5.935511</td>\n      <td>1.0</td>\n    </tr>\n  </tbody>\n</table>\n</div>"
     },
     "metadata": {},
     "execution_count": 17
    }
   ],
   "source": [
    "tabla.sort_values('tasa14', ascending=False)"
   ]
  },
  {
   "cell_type": "code",
   "execution_count": 18,
   "metadata": {},
   "outputs": [
    {
     "output_type": "execute_result",
     "data": {
      "text/plain": [
       "Medida                             Confirmados PDIA  Confirmados PDIA 7 días  \\\n",
       "Lugar de residencia                                                            \n",
       "Alosno                                        123.0                      1.0   \n",
       "Rociana del Condado                           313.0                      1.0   \n",
       "Cartaya                                       963.0                      7.0   \n",
       "Almonte                                       880.0                      8.0   \n",
       "Bollullos Par del Condado                     621.0                      4.0   \n",
       "Puebla de Guzmán                              102.0                      7.0   \n",
       "Ayamonte                                     1227.0                     16.0   \n",
       "Lucena del Puerto                             162.0                      5.0   \n",
       "Huelva-Costa                                15136.0                     74.0   \n",
       "Villablanca                                   177.0                      1.0   \n",
       "Isla Cristina                                1990.0                      6.0   \n",
       "Huelva                                      24830.0                    141.0   \n",
       "Huelva (capital)                             6596.0                     25.0   \n",
       "San Bartolomé de la Torre                     206.0                      7.0   \n",
       "Condado-Campiña                              6980.0                     63.0   \n",
       "Lepe                                         2001.0                      8.0   \n",
       "Palma del Condado (La)                        985.0                      7.0   \n",
       "Palos de la Frontera                          455.0                      4.0   \n",
       "Moguer                                        837.0                      7.0   \n",
       "Sierra de Huelva-Andévalo Central            2302.0                      3.0   \n",
       "San Juan del Puerto                           365.0                      6.0   \n",
       "Gibraleón                                     515.0                      4.0   \n",
       "Punta Umbría                                  658.0                      1.0   \n",
       "Escacena del Campo                            140.0                      1.0   \n",
       "Corteconcepción                                24.0                      1.0   \n",
       "San Silvestre de Guzmán                        13.0                      2.0   \n",
       "Valverde del Camino                           418.0                      2.0   \n",
       "Beas                                          162.0                      2.0   \n",
       "Villalba del Alcor                            451.0                      6.0   \n",
       "Villarrasa                                    130.0                      1.0   \n",
       "\n",
       "Medida                             Confirmados PDIA 14 días  Población  \\\n",
       "Lugar de residencia                                                      \n",
       "Alosno                                                  3.0     3933.0   \n",
       "Rociana del Condado                                     3.0     7939.0   \n",
       "Cartaya                                                20.0    20083.0   \n",
       "Almonte                                                22.0    24507.0   \n",
       "Bollullos Par del Condado                              10.0    14387.0   \n",
       "Puebla de Guzmán                                       17.0     3092.0   \n",
       "Ayamonte                                               36.0    21104.0   \n",
       "Lucena del Puerto                                      11.0     3261.0   \n",
       "Huelva-Costa                                          155.0   289548.0   \n",
       "Villablanca                                             2.0     2885.0   \n",
       "Isla Cristina                                          12.0    21393.0   \n",
       "Huelva                                                269.0   513170.0   \n",
       "Huelva (capital)                                       47.0   143837.0   \n",
       "San Bartolomé de la Torre                              13.0     3761.0   \n",
       "Condado-Campiña                                       108.0   156231.0   \n",
       "Lepe                                                   13.0    27880.0   \n",
       "Palma del Condado (La)                                 11.0    10801.0   \n",
       "Palos de la Frontera                                    6.0    11742.0   \n",
       "Moguer                                                 10.0    21867.0   \n",
       "Sierra de Huelva-Andévalo Central                       4.0    67391.0   \n",
       "San Juan del Puerto                                     7.0     9411.0   \n",
       "Gibraleón                                               4.0    12737.0   \n",
       "Punta Umbría                                            1.0    15355.0   \n",
       "Escacena del Campo                                      1.0     2287.0   \n",
       "Corteconcepción                                         1.0      536.0   \n",
       "San Silvestre de Guzmán                                 2.0      614.0   \n",
       "Valverde del Camino                                     2.0    12750.0   \n",
       "Beas                                                    2.0     4341.0   \n",
       "Villalba del Alcor                                      6.0     3366.0   \n",
       "Villarrasa                                              1.0     2211.0   \n",
       "\n",
       "Medida                                  tasa7      tasa14  Diferencia PDIA  \\\n",
       "Lugar de residencia                                                          \n",
       "Alosno                              25.425884   76.277651              0.0   \n",
       "Rociana del Condado                 12.596045   37.788135              0.0   \n",
       "Cartaya                             34.855350   99.586715              3.0   \n",
       "Almonte                             32.643734   89.770270              2.0   \n",
       "Bollullos Par del Condado           27.802878   69.507194              0.0   \n",
       "Puebla de Guzmán                   226.390686  549.805951              0.0   \n",
       "Ayamonte                            75.815011  170.583776              4.0   \n",
       "Lucena del Puerto                  153.327200  337.319841              0.0   \n",
       "Huelva-Costa                        25.557075   53.531711             16.0   \n",
       "Villablanca                         34.662045   69.324090              0.0   \n",
       "Isla Cristina                       28.046557   56.093115              0.0   \n",
       "Huelva                              27.476275   52.419276             34.0   \n",
       "Huelva (capital)                    17.380785   32.675876              8.0   \n",
       "San Bartolomé de la Torre          186.120713  345.652752              2.0   \n",
       "Condado-Campiña                     40.324904   69.128406             17.0   \n",
       "Lepe                                28.694405   46.628407              1.0   \n",
       "Palma del Condado (La)              64.808814  101.842422              2.0   \n",
       "Palos de la Frontera                34.065747   51.098620              2.0   \n",
       "Moguer                              32.011707   45.731010              0.0   \n",
       "Sierra de Huelva-Andévalo Central    4.451633    5.935511              1.0   \n",
       "San Juan del Puerto                 63.755180   74.381043              0.0   \n",
       "Gibraleón                           31.404569   31.404569              4.0   \n",
       "Punta Umbría                         6.512537    6.512537              0.0   \n",
       "Escacena del Campo                  43.725404   43.725404              0.0   \n",
       "Corteconcepción                    186.567164  186.567164              0.0   \n",
       "San Silvestre de Guzmán            325.732899  325.732899              0.0   \n",
       "Valverde del Camino                 15.686275   15.686275              1.0   \n",
       "Beas                                46.072334   46.072334              0.0   \n",
       "Villalba del Alcor                 178.253119  178.253119              4.0   \n",
       "Villarrasa                          45.228403   45.228403              0.0   \n",
       "\n",
       "Medida                                 7/14  \n",
       "Lugar de residencia                          \n",
       "Alosno                             0.333333  \n",
       "Rociana del Condado                0.333333  \n",
       "Cartaya                            0.350000  \n",
       "Almonte                            0.363636  \n",
       "Bollullos Par del Condado          0.400000  \n",
       "Puebla de Guzmán                   0.411765  \n",
       "Ayamonte                           0.444444  \n",
       "Lucena del Puerto                  0.454545  \n",
       "Huelva-Costa                       0.477419  \n",
       "Villablanca                        0.500000  \n",
       "Isla Cristina                      0.500000  \n",
       "Huelva                             0.524164  \n",
       "Huelva (capital)                   0.531915  \n",
       "San Bartolomé de la Torre          0.538462  \n",
       "Condado-Campiña                    0.583333  \n",
       "Lepe                               0.615385  \n",
       "Palma del Condado (La)             0.636364  \n",
       "Palos de la Frontera               0.666667  \n",
       "Moguer                             0.700000  \n",
       "Sierra de Huelva-Andévalo Central  0.750000  \n",
       "San Juan del Puerto                0.857143  \n",
       "Gibraleón                          1.000000  \n",
       "Punta Umbría                       1.000000  \n",
       "Escacena del Campo                 1.000000  \n",
       "Corteconcepción                    1.000000  \n",
       "San Silvestre de Guzmán            1.000000  \n",
       "Valverde del Camino                1.000000  \n",
       "Beas                               1.000000  \n",
       "Villalba del Alcor                 1.000000  \n",
       "Villarrasa                         1.000000  "
      ],
      "text/html": "<div>\n<style scoped>\n    .dataframe tbody tr th:only-of-type {\n        vertical-align: middle;\n    }\n\n    .dataframe tbody tr th {\n        vertical-align: top;\n    }\n\n    .dataframe thead th {\n        text-align: right;\n    }\n</style>\n<table border=\"1\" class=\"dataframe\">\n  <thead>\n    <tr style=\"text-align: right;\">\n      <th>Medida</th>\n      <th>Confirmados PDIA</th>\n      <th>Confirmados PDIA 7 días</th>\n      <th>Confirmados PDIA 14 días</th>\n      <th>Población</th>\n      <th>tasa7</th>\n      <th>tasa14</th>\n      <th>Diferencia PDIA</th>\n      <th>7/14</th>\n    </tr>\n    <tr>\n      <th>Lugar de residencia</th>\n      <th></th>\n      <th></th>\n      <th></th>\n      <th></th>\n      <th></th>\n      <th></th>\n      <th></th>\n      <th></th>\n    </tr>\n  </thead>\n  <tbody>\n    <tr>\n      <th>Alosno</th>\n      <td>123.0</td>\n      <td>1.0</td>\n      <td>3.0</td>\n      <td>3933.0</td>\n      <td>25.425884</td>\n      <td>76.277651</td>\n      <td>0.0</td>\n      <td>0.333333</td>\n    </tr>\n    <tr>\n      <th>Rociana del Condado</th>\n      <td>313.0</td>\n      <td>1.0</td>\n      <td>3.0</td>\n      <td>7939.0</td>\n      <td>12.596045</td>\n      <td>37.788135</td>\n      <td>0.0</td>\n      <td>0.333333</td>\n    </tr>\n    <tr>\n      <th>Cartaya</th>\n      <td>963.0</td>\n      <td>7.0</td>\n      <td>20.0</td>\n      <td>20083.0</td>\n      <td>34.855350</td>\n      <td>99.586715</td>\n      <td>3.0</td>\n      <td>0.350000</td>\n    </tr>\n    <tr>\n      <th>Almonte</th>\n      <td>880.0</td>\n      <td>8.0</td>\n      <td>22.0</td>\n      <td>24507.0</td>\n      <td>32.643734</td>\n      <td>89.770270</td>\n      <td>2.0</td>\n      <td>0.363636</td>\n    </tr>\n    <tr>\n      <th>Bollullos Par del Condado</th>\n      <td>621.0</td>\n      <td>4.0</td>\n      <td>10.0</td>\n      <td>14387.0</td>\n      <td>27.802878</td>\n      <td>69.507194</td>\n      <td>0.0</td>\n      <td>0.400000</td>\n    </tr>\n    <tr>\n      <th>Puebla de Guzmán</th>\n      <td>102.0</td>\n      <td>7.0</td>\n      <td>17.0</td>\n      <td>3092.0</td>\n      <td>226.390686</td>\n      <td>549.805951</td>\n      <td>0.0</td>\n      <td>0.411765</td>\n    </tr>\n    <tr>\n      <th>Ayamonte</th>\n      <td>1227.0</td>\n      <td>16.0</td>\n      <td>36.0</td>\n      <td>21104.0</td>\n      <td>75.815011</td>\n      <td>170.583776</td>\n      <td>4.0</td>\n      <td>0.444444</td>\n    </tr>\n    <tr>\n      <th>Lucena del Puerto</th>\n      <td>162.0</td>\n      <td>5.0</td>\n      <td>11.0</td>\n      <td>3261.0</td>\n      <td>153.327200</td>\n      <td>337.319841</td>\n      <td>0.0</td>\n      <td>0.454545</td>\n    </tr>\n    <tr>\n      <th>Huelva-Costa</th>\n      <td>15136.0</td>\n      <td>74.0</td>\n      <td>155.0</td>\n      <td>289548.0</td>\n      <td>25.557075</td>\n      <td>53.531711</td>\n      <td>16.0</td>\n      <td>0.477419</td>\n    </tr>\n    <tr>\n      <th>Villablanca</th>\n      <td>177.0</td>\n      <td>1.0</td>\n      <td>2.0</td>\n      <td>2885.0</td>\n      <td>34.662045</td>\n      <td>69.324090</td>\n      <td>0.0</td>\n      <td>0.500000</td>\n    </tr>\n    <tr>\n      <th>Isla Cristina</th>\n      <td>1990.0</td>\n      <td>6.0</td>\n      <td>12.0</td>\n      <td>21393.0</td>\n      <td>28.046557</td>\n      <td>56.093115</td>\n      <td>0.0</td>\n      <td>0.500000</td>\n    </tr>\n    <tr>\n      <th>Huelva</th>\n      <td>24830.0</td>\n      <td>141.0</td>\n      <td>269.0</td>\n      <td>513170.0</td>\n      <td>27.476275</td>\n      <td>52.419276</td>\n      <td>34.0</td>\n      <td>0.524164</td>\n    </tr>\n    <tr>\n      <th>Huelva (capital)</th>\n      <td>6596.0</td>\n      <td>25.0</td>\n      <td>47.0</td>\n      <td>143837.0</td>\n      <td>17.380785</td>\n      <td>32.675876</td>\n      <td>8.0</td>\n      <td>0.531915</td>\n    </tr>\n    <tr>\n      <th>San Bartolomé de la Torre</th>\n      <td>206.0</td>\n      <td>7.0</td>\n      <td>13.0</td>\n      <td>3761.0</td>\n      <td>186.120713</td>\n      <td>345.652752</td>\n      <td>2.0</td>\n      <td>0.538462</td>\n    </tr>\n    <tr>\n      <th>Condado-Campiña</th>\n      <td>6980.0</td>\n      <td>63.0</td>\n      <td>108.0</td>\n      <td>156231.0</td>\n      <td>40.324904</td>\n      <td>69.128406</td>\n      <td>17.0</td>\n      <td>0.583333</td>\n    </tr>\n    <tr>\n      <th>Lepe</th>\n      <td>2001.0</td>\n      <td>8.0</td>\n      <td>13.0</td>\n      <td>27880.0</td>\n      <td>28.694405</td>\n      <td>46.628407</td>\n      <td>1.0</td>\n      <td>0.615385</td>\n    </tr>\n    <tr>\n      <th>Palma del Condado (La)</th>\n      <td>985.0</td>\n      <td>7.0</td>\n      <td>11.0</td>\n      <td>10801.0</td>\n      <td>64.808814</td>\n      <td>101.842422</td>\n      <td>2.0</td>\n      <td>0.636364</td>\n    </tr>\n    <tr>\n      <th>Palos de la Frontera</th>\n      <td>455.0</td>\n      <td>4.0</td>\n      <td>6.0</td>\n      <td>11742.0</td>\n      <td>34.065747</td>\n      <td>51.098620</td>\n      <td>2.0</td>\n      <td>0.666667</td>\n    </tr>\n    <tr>\n      <th>Moguer</th>\n      <td>837.0</td>\n      <td>7.0</td>\n      <td>10.0</td>\n      <td>21867.0</td>\n      <td>32.011707</td>\n      <td>45.731010</td>\n      <td>0.0</td>\n      <td>0.700000</td>\n    </tr>\n    <tr>\n      <th>Sierra de Huelva-Andévalo Central</th>\n      <td>2302.0</td>\n      <td>3.0</td>\n      <td>4.0</td>\n      <td>67391.0</td>\n      <td>4.451633</td>\n      <td>5.935511</td>\n      <td>1.0</td>\n      <td>0.750000</td>\n    </tr>\n    <tr>\n      <th>San Juan del Puerto</th>\n      <td>365.0</td>\n      <td>6.0</td>\n      <td>7.0</td>\n      <td>9411.0</td>\n      <td>63.755180</td>\n      <td>74.381043</td>\n      <td>0.0</td>\n      <td>0.857143</td>\n    </tr>\n    <tr>\n      <th>Gibraleón</th>\n      <td>515.0</td>\n      <td>4.0</td>\n      <td>4.0</td>\n      <td>12737.0</td>\n      <td>31.404569</td>\n      <td>31.404569</td>\n      <td>4.0</td>\n      <td>1.000000</td>\n    </tr>\n    <tr>\n      <th>Punta Umbría</th>\n      <td>658.0</td>\n      <td>1.0</td>\n      <td>1.0</td>\n      <td>15355.0</td>\n      <td>6.512537</td>\n      <td>6.512537</td>\n      <td>0.0</td>\n      <td>1.000000</td>\n    </tr>\n    <tr>\n      <th>Escacena del Campo</th>\n      <td>140.0</td>\n      <td>1.0</td>\n      <td>1.0</td>\n      <td>2287.0</td>\n      <td>43.725404</td>\n      <td>43.725404</td>\n      <td>0.0</td>\n      <td>1.000000</td>\n    </tr>\n    <tr>\n      <th>Corteconcepción</th>\n      <td>24.0</td>\n      <td>1.0</td>\n      <td>1.0</td>\n      <td>536.0</td>\n      <td>186.567164</td>\n      <td>186.567164</td>\n      <td>0.0</td>\n      <td>1.000000</td>\n    </tr>\n    <tr>\n      <th>San Silvestre de Guzmán</th>\n      <td>13.0</td>\n      <td>2.0</td>\n      <td>2.0</td>\n      <td>614.0</td>\n      <td>325.732899</td>\n      <td>325.732899</td>\n      <td>0.0</td>\n      <td>1.000000</td>\n    </tr>\n    <tr>\n      <th>Valverde del Camino</th>\n      <td>418.0</td>\n      <td>2.0</td>\n      <td>2.0</td>\n      <td>12750.0</td>\n      <td>15.686275</td>\n      <td>15.686275</td>\n      <td>1.0</td>\n      <td>1.000000</td>\n    </tr>\n    <tr>\n      <th>Beas</th>\n      <td>162.0</td>\n      <td>2.0</td>\n      <td>2.0</td>\n      <td>4341.0</td>\n      <td>46.072334</td>\n      <td>46.072334</td>\n      <td>0.0</td>\n      <td>1.000000</td>\n    </tr>\n    <tr>\n      <th>Villalba del Alcor</th>\n      <td>451.0</td>\n      <td>6.0</td>\n      <td>6.0</td>\n      <td>3366.0</td>\n      <td>178.253119</td>\n      <td>178.253119</td>\n      <td>4.0</td>\n      <td>1.000000</td>\n    </tr>\n    <tr>\n      <th>Villarrasa</th>\n      <td>130.0</td>\n      <td>1.0</td>\n      <td>1.0</td>\n      <td>2211.0</td>\n      <td>45.228403</td>\n      <td>45.228403</td>\n      <td>0.0</td>\n      <td>1.000000</td>\n    </tr>\n  </tbody>\n</table>\n</div>"
     },
     "metadata": {},
     "execution_count": 18
    }
   ],
   "source": [
    "# Peso de la tasa de la última semana en relación con la tasa a 14 días \n",
    "# Mejor cuanto menor. Valor 1 significa que no había casos antes de 7 días.\n",
    "tabla['7/14'] = tabla['tasa7'] / tabla['tasa14']\n",
    "tabla.fillna(0).sort_values('7/14', ascending=True)"
   ]
  },
  {
   "cell_type": "code",
   "execution_count": null,
   "metadata": {},
   "outputs": [],
   "source": []
  }
 ]
}