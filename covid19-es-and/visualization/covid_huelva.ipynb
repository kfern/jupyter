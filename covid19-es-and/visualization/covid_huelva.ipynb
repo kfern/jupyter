{
 "metadata": {
  "language_info": {
   "codemirror_mode": {
    "name": "ipython",
    "version": 3
   },
   "file_extension": ".py",
   "mimetype": "text/x-python",
   "name": "python",
   "nbconvert_exporter": "python",
   "pygments_lexer": "ipython3",
   "version": "3.8.6"
  },
  "orig_nbformat": 2,
  "kernelspec": {
   "name": "python3",
   "display_name": "Python 3",
   "language": "python"
  }
 },
 "nbformat": 4,
 "nbformat_minor": 2,
 "cells": [
  {
   "cell_type": "code",
   "execution_count": 1,
   "metadata": {},
   "outputs": [],
   "source": [
    "import pandas as pd\n",
    "pd.set_option('display.max_rows', None) # Print all rows"
   ]
  },
  {
   "cell_type": "code",
   "execution_count": 2,
   "metadata": {},
   "outputs": [],
   "source": [
    "# FIX SSL: CERTIFICATE_VERIFY_FAILED with Python3\n",
    "# https://stackoverflow.com/a/49174340\n",
    "import ssl\n",
    "\n",
    "ssl._create_default_https_context = ssl._create_unverified_context"
   ]
  },
  {
   "cell_type": "code",
   "execution_count": 3,
   "metadata": {},
   "outputs": [],
   "source": [
    "url = 'https://www.juntadeandalucia.es/institutodeestadisticaycartografia/badea/stpivot/stpivot/Print?cube=013d884c-cfc5-4c21-9e78-e26225682afd&type=3&foto=si&ejecutaDesde=&codConsulta=38668&consTipoVisua=JP'\n",
    "fields = ['Lugar de residencia', 'Medida', 'Valor']\n",
    "df = pd.read_csv(url, delimiter=';', usecols=fields, decimal=',')"
   ]
  },
  {
   "cell_type": "code",
   "execution_count": 4,
   "metadata": {},
   "outputs": [
    {
     "output_type": "execute_result",
     "data": {
      "text/plain": [
       "  Lugar de residencia                    Medida               Valor\n",
       "0              Huelva                 Población              513170\n",
       "1              Huelva          Confirmados PDIA               31852\n",
       "2              Huelva  Confirmados PDIA 14 días                1533\n",
       "3              Huelva         Tasa PDIA 14 días  298,73141454099033\n",
       "4              Huelva   Confirmados PDIA 7 días                 722\n",
       "5              Huelva        Total Confirmados                32032\n",
       "6              Huelva                   Curados               29381\n",
       "7              Huelva                Fallecidos                 384"
      ],
      "text/html": "<div>\n<style scoped>\n    .dataframe tbody tr th:only-of-type {\n        vertical-align: middle;\n    }\n\n    .dataframe tbody tr th {\n        vertical-align: top;\n    }\n\n    .dataframe thead th {\n        text-align: right;\n    }\n</style>\n<table border=\"1\" class=\"dataframe\">\n  <thead>\n    <tr style=\"text-align: right;\">\n      <th></th>\n      <th>Lugar de residencia</th>\n      <th>Medida</th>\n      <th>Valor</th>\n    </tr>\n  </thead>\n  <tbody>\n    <tr>\n      <th>0</th>\n      <td>Huelva</td>\n      <td>Población</td>\n      <td>513170</td>\n    </tr>\n    <tr>\n      <th>1</th>\n      <td>Huelva</td>\n      <td>Confirmados PDIA</td>\n      <td>31852</td>\n    </tr>\n    <tr>\n      <th>2</th>\n      <td>Huelva</td>\n      <td>Confirmados PDIA 14 días</td>\n      <td>1533</td>\n    </tr>\n    <tr>\n      <th>3</th>\n      <td>Huelva</td>\n      <td>Tasa PDIA 14 días</td>\n      <td>298,73141454099033</td>\n    </tr>\n    <tr>\n      <th>4</th>\n      <td>Huelva</td>\n      <td>Confirmados PDIA 7 días</td>\n      <td>722</td>\n    </tr>\n    <tr>\n      <th>5</th>\n      <td>Huelva</td>\n      <td>Total Confirmados</td>\n      <td>32032</td>\n    </tr>\n    <tr>\n      <th>6</th>\n      <td>Huelva</td>\n      <td>Curados</td>\n      <td>29381</td>\n    </tr>\n    <tr>\n      <th>7</th>\n      <td>Huelva</td>\n      <td>Fallecidos</td>\n      <td>384</td>\n    </tr>\n  </tbody>\n</table>\n</div>"
     },
     "metadata": {},
     "execution_count": 4
    }
   ],
   "source": [
    "df[df['Lugar de residencia'] == 'Huelva']"
   ]
  },
  {
   "cell_type": "code",
   "execution_count": 5,
   "metadata": {},
   "outputs": [],
   "source": [
    "df['Valor'] = pd.to_numeric(df['Valor'],errors='coerce')"
   ]
  },
  {
   "cell_type": "code",
   "execution_count": 6,
   "metadata": {},
   "outputs": [],
   "source": [
    "dfAnterior = pd.read_csv('covid_huelva.csv', index_col='Lugar de residencia')"
   ]
  },
  {
   "cell_type": "code",
   "execution_count": 7,
   "metadata": {
    "tags": []
   },
   "outputs": [
    {
     "output_type": "stream",
     "name": "stdout",
     "text": [
      "Confirmados PCR en la provincia de Huelva:  31852.0\n",
      "<ipython-input-7-31b732756b19>:2: UserWarning: Boolean Series key will be reindexed to match DataFrame index.\n",
      "  p = df[df['Lugar de residencia'] == 'Huelva'][df['Medida'] == 'Confirmados PDIA']['Valor'].values[0]\n"
     ]
    }
   ],
   "source": [
    "# Confirmados PCR provincia Huelva\n",
    "p = df[df['Lugar de residencia'] == 'Huelva'][df['Medida'] == 'Confirmados PDIA']['Valor'].values[0]\n",
    "print('Confirmados PCR en la provincia de Huelva: ', p)"
   ]
  },
  {
   "cell_type": "code",
   "execution_count": 8,
   "metadata": {
    "tags": []
   },
   "outputs": [
    {
     "output_type": "stream",
     "name": "stdout",
     "text": [
      "Confirmados PCR en Huelva capital:  8546.0\n",
      "<ipython-input-8-e81bfb40e710>:2: UserWarning: Boolean Series key will be reindexed to match DataFrame index.\n",
      "  c = df[df['Lugar de residencia'] == 'Huelva (capital)'][df['Medida'] == 'Confirmados PDIA']['Valor'].values[0]\n"
     ]
    }
   ],
   "source": [
    "# Confirmados PCR Huelva capitalpd\n",
    "c = df[df['Lugar de residencia'] == 'Huelva (capital)'][df['Medida'] == 'Confirmados PDIA']['Valor'].values[0]\n",
    "print('Confirmados PCR en Huelva capital: ', c)"
   ]
  },
  {
   "cell_type": "code",
   "execution_count": 9,
   "metadata": {
    "tags": []
   },
   "outputs": [
    {
     "output_type": "stream",
     "name": "stderr",
     "text": [
      "<ipython-input-9-f09dd2050cc1>:1: UserWarning: Boolean Series key will be reindexed to match DataFrame index.\n  c7 = df[df['Lugar de residencia'] == 'Huelva (capital)'][df['Medida'] == 'Confirmados PDIA 7 días']['Valor'].values[0]\n<ipython-input-9-f09dd2050cc1>:2: UserWarning: Boolean Series key will be reindexed to match DataFrame index.\n  c14 = df[df['Lugar de residencia'] == 'Huelva (capital)'][df['Medida'] == 'Confirmados PDIA 14 días']['Valor'].values[0]\n<ipython-input-9-f09dd2050cc1>:3: UserWarning: Boolean Series key will be reindexed to match DataFrame index.\n  p = df[df['Lugar de residencia'] == 'Huelva (capital)'][df['Medida'] == 'Población']['Valor'].values[0]\n"
     ]
    }
   ],
   "source": [
    "c7 = df[df['Lugar de residencia'] == 'Huelva (capital)'][df['Medida'] == 'Confirmados PDIA 7 días']['Valor'].values[0]\n",
    "c14 = df[df['Lugar de residencia'] == 'Huelva (capital)'][df['Medida'] == 'Confirmados PDIA 14 días']['Valor'].values[0]\n",
    "p = df[df['Lugar de residencia'] == 'Huelva (capital)'][df['Medida'] == 'Población']['Valor'].values[0]"
   ]
  },
  {
   "cell_type": "code",
   "execution_count": 10,
   "metadata": {
    "tags": []
   },
   "outputs": [
    {
     "output_type": "stream",
     "name": "stdout",
     "text": [
      "Huelva (capital)\n\nUn positivo PCR cada 464 personas en los últimos 7 días \n\nUn positivo PCR cada 237 personas en los últimos 14 días\n"
     ]
    }
   ],
   "source": [
    "print('Huelva (capital)\\n')\n",
    "#print('Confirmados PCR 7 días x 1,000 habitantes: ', f\"{c7/(p/1000):.5f}\")\n",
    "print('Un positivo PCR cada', f\"{p/c7:.0f}\", 'personas en los últimos 7 días', '\\n')\n",
    "#print('Confirmados PCR 14 días x 1,000 habitantes: ', f\"{c14/(p/1000):.5f}\")\n",
    "print('Un positivo PCR cada', f\"{p/c14:.0f}\", 'personas en los últimos 14 días')"
   ]
  },
  {
   "cell_type": "code",
   "execution_count": 11,
   "metadata": {},
   "outputs": [],
   "source": [
    "filtro = ((df['Medida'] == 'Confirmados PDIA')| (df['Medida'] == 'Confirmados PDIA 7 días') | (df['Medida'] == 'Población' ) | (df['Medida'] == 'Confirmados PDIA 14 días')) & (df['Valor'] > 0)\n",
    "tabla = pd.pivot_table(df.loc[filtro], values='Valor', index='Lugar de residencia', columns='Medida').dropna()"
   ]
  },
  {
   "cell_type": "code",
   "execution_count": 12,
   "metadata": {},
   "outputs": [],
   "source": [
    "# Reorder columns\n",
    "tabla = tabla[['Confirmados PDIA', 'Confirmados PDIA 7 días', 'Confirmados PDIA 14 días', 'Población']]"
   ]
  },
  {
   "cell_type": "code",
   "execution_count": 13,
   "metadata": {},
   "outputs": [],
   "source": [
    "tabla['tasa7'] = tabla['Confirmados PDIA 7 días']/tabla['Población']*100000\n",
    "tabla['tasa14'] = tabla['Confirmados PDIA 14 días']/tabla['Población']*100000"
   ]
  },
  {
   "cell_type": "code",
   "execution_count": 14,
   "metadata": {},
   "outputs": [],
   "source": [
    "tabla['Diferencia PDIA'] = tabla['Confirmados PDIA'] - dfAnterior['Confirmados PDIA']"
   ]
  },
  {
   "cell_type": "code",
   "execution_count": 15,
   "metadata": {},
   "outputs": [
    {
     "output_type": "execute_result",
     "data": {
      "text/plain": [
       "Medida                             Confirmados PDIA  Confirmados PDIA 7 días  \\\n",
       "Lugar de residencia                                                            \n",
       "Huelva                                      31852.0                    722.0   \n",
       "Huelva-Costa                                18333.0                    408.0   \n",
       "Huelva (capital)                             8546.0                    310.0   \n",
       "Condado-Campiña                             10352.0                    238.0   \n",
       "Bollullos Par del Condado                     999.0                     26.0   \n",
       "Sierra de Huelva-Andévalo Central            2817.0                     72.0   \n",
       "Moguer                                       1309.0                     32.0   \n",
       "Bonares                                       279.0                      8.0   \n",
       "San Juan del Puerto                           524.0                     26.0   \n",
       "Aljaraque                                    1123.0                     36.0   \n",
       "Palos de la Frontera                          681.0                     38.0   \n",
       "Punta Umbría                                  827.0                     21.0   \n",
       "Ayamonte                                     1322.0                      4.0   \n",
       "Aracena                                       530.0                      5.0   \n",
       "Valverde del Camino                           599.0                     37.0   \n",
       "Gibraleón                                     633.0                     11.0   \n",
       "Cumbres Mayores                                53.0                      2.0   \n",
       "Almonte                                      1843.0                     36.0   \n",
       "Cartaya                                      1351.0                     17.0   \n",
       "Lepe                                         2135.0                      8.0   \n",
       "Lucena del Puerto                             255.0                      3.0   \n",
       "Manzanilla                                    102.0                      4.0   \n",
       "Beas                                          212.0                      2.0   \n",
       "Palma del Condado (La)                       1161.0                     15.0   \n",
       "Rociana del Condado                           558.0                      4.0   \n",
       "Galaroza                                       42.0                      1.0   \n",
       "\n",
       "Medida                             Confirmados PDIA 14 días  Población  \\\n",
       "Lugar de residencia                                                      \n",
       "Huelva                                               1533.0   513170.0   \n",
       "Huelva-Costa                                          836.0   289548.0   \n",
       "Huelva (capital)                                      607.0   143837.0   \n",
       "Condado-Campiña                                       550.0   156231.0   \n",
       "Bollullos Par del Condado                              51.0    14387.0   \n",
       "Sierra de Huelva-Andévalo Central                     141.0    67391.0   \n",
       "Moguer                                                 89.0    21867.0   \n",
       "Bonares                                                15.0     6060.0   \n",
       "San Juan del Puerto                                    47.0     9411.0   \n",
       "Aljaraque                                              76.0    21474.0   \n",
       "Palos de la Frontera                                   60.0    11742.0   \n",
       "Punta Umbría                                           40.0    15355.0   \n",
       "Ayamonte                                               13.0    21104.0   \n",
       "Aracena                                                13.0     8255.0   \n",
       "Valverde del Camino                                    67.0    12750.0   \n",
       "Gibraleón                                              26.0    12737.0   \n",
       "Cumbres Mayores                                         3.0     1749.0   \n",
       "Almonte                                               104.0    24507.0   \n",
       "Cartaya                                                35.0    20083.0   \n",
       "Lepe                                                   26.0    27880.0   \n",
       "Lucena del Puerto                                       9.0     3261.0   \n",
       "Manzanilla                                              7.0     2118.0   \n",
       "Beas                                                    5.0     4341.0   \n",
       "Palma del Condado (La)                                 45.0    10801.0   \n",
       "Rociana del Condado                                    16.0     7939.0   \n",
       "Galaroza                                                1.0     1382.0   \n",
       "\n",
       "Medida                                  tasa7      tasa14  Diferencia PDIA  \n",
       "Lugar de residencia                                                         \n",
       "Huelva                             140.694117  298.731415            101.0  \n",
       "Huelva-Costa                       140.909279  288.725876             64.0  \n",
       "Huelva (capital)                   215.521736  422.005465             55.0  \n",
       "Condado-Campiña                    152.338524  352.042808             30.0  \n",
       "Bollullos Par del Condado          180.718704  354.486689              7.0  \n",
       "Sierra de Huelva-Andévalo Central  106.839192  209.226751              6.0  \n",
       "Moguer                             146.339233  407.005991              5.0  \n",
       "Bonares                            132.013201  247.524752              5.0  \n",
       "San Juan del Puerto                276.272447  499.415578              4.0  \n",
       "Aljaraque                          167.644593  353.916364              3.0  \n",
       "Palos de la Frontera               323.624595  510.986203              2.0  \n",
       "Punta Umbría                       136.763269  260.501465              2.0  \n",
       "Ayamonte                            18.953753   61.599697              2.0  \n",
       "Aracena                             60.569352  157.480315              2.0  \n",
       "Valverde del Camino                290.196078  525.490196              2.0  \n",
       "Gibraleón                           86.362566  204.129701              1.0  \n",
       "Cumbres Mayores                    114.351058  171.526587              1.0  \n",
       "Almonte                            146.896805  424.368548              1.0  \n",
       "Cartaya                             84.648708  174.276751              1.0  \n",
       "Lepe                                28.694405   93.256815              1.0  \n",
       "Lucena del Puerto                   91.996320  275.988960              1.0  \n",
       "Manzanilla                         188.857413  330.500472              1.0  \n",
       "Beas                                46.072334  115.180834              1.0  \n",
       "Palma del Condado (La)             138.876030  416.628090              1.0  \n",
       "Rociana del Condado                 50.384179  201.536717              1.0  \n",
       "Galaroza                            72.358900   72.358900              NaN  "
      ],
      "text/html": "<div>\n<style scoped>\n    .dataframe tbody tr th:only-of-type {\n        vertical-align: middle;\n    }\n\n    .dataframe tbody tr th {\n        vertical-align: top;\n    }\n\n    .dataframe thead th {\n        text-align: right;\n    }\n</style>\n<table border=\"1\" class=\"dataframe\">\n  <thead>\n    <tr style=\"text-align: right;\">\n      <th>Medida</th>\n      <th>Confirmados PDIA</th>\n      <th>Confirmados PDIA 7 días</th>\n      <th>Confirmados PDIA 14 días</th>\n      <th>Población</th>\n      <th>tasa7</th>\n      <th>tasa14</th>\n      <th>Diferencia PDIA</th>\n    </tr>\n    <tr>\n      <th>Lugar de residencia</th>\n      <th></th>\n      <th></th>\n      <th></th>\n      <th></th>\n      <th></th>\n      <th></th>\n      <th></th>\n    </tr>\n  </thead>\n  <tbody>\n    <tr>\n      <th>Huelva</th>\n      <td>31852.0</td>\n      <td>722.0</td>\n      <td>1533.0</td>\n      <td>513170.0</td>\n      <td>140.694117</td>\n      <td>298.731415</td>\n      <td>101.0</td>\n    </tr>\n    <tr>\n      <th>Huelva-Costa</th>\n      <td>18333.0</td>\n      <td>408.0</td>\n      <td>836.0</td>\n      <td>289548.0</td>\n      <td>140.909279</td>\n      <td>288.725876</td>\n      <td>64.0</td>\n    </tr>\n    <tr>\n      <th>Huelva (capital)</th>\n      <td>8546.0</td>\n      <td>310.0</td>\n      <td>607.0</td>\n      <td>143837.0</td>\n      <td>215.521736</td>\n      <td>422.005465</td>\n      <td>55.0</td>\n    </tr>\n    <tr>\n      <th>Condado-Campiña</th>\n      <td>10352.0</td>\n      <td>238.0</td>\n      <td>550.0</td>\n      <td>156231.0</td>\n      <td>152.338524</td>\n      <td>352.042808</td>\n      <td>30.0</td>\n    </tr>\n    <tr>\n      <th>Bollullos Par del Condado</th>\n      <td>999.0</td>\n      <td>26.0</td>\n      <td>51.0</td>\n      <td>14387.0</td>\n      <td>180.718704</td>\n      <td>354.486689</td>\n      <td>7.0</td>\n    </tr>\n    <tr>\n      <th>Sierra de Huelva-Andévalo Central</th>\n      <td>2817.0</td>\n      <td>72.0</td>\n      <td>141.0</td>\n      <td>67391.0</td>\n      <td>106.839192</td>\n      <td>209.226751</td>\n      <td>6.0</td>\n    </tr>\n    <tr>\n      <th>Moguer</th>\n      <td>1309.0</td>\n      <td>32.0</td>\n      <td>89.0</td>\n      <td>21867.0</td>\n      <td>146.339233</td>\n      <td>407.005991</td>\n      <td>5.0</td>\n    </tr>\n    <tr>\n      <th>Bonares</th>\n      <td>279.0</td>\n      <td>8.0</td>\n      <td>15.0</td>\n      <td>6060.0</td>\n      <td>132.013201</td>\n      <td>247.524752</td>\n      <td>5.0</td>\n    </tr>\n    <tr>\n      <th>San Juan del Puerto</th>\n      <td>524.0</td>\n      <td>26.0</td>\n      <td>47.0</td>\n      <td>9411.0</td>\n      <td>276.272447</td>\n      <td>499.415578</td>\n      <td>4.0</td>\n    </tr>\n    <tr>\n      <th>Aljaraque</th>\n      <td>1123.0</td>\n      <td>36.0</td>\n      <td>76.0</td>\n      <td>21474.0</td>\n      <td>167.644593</td>\n      <td>353.916364</td>\n      <td>3.0</td>\n    </tr>\n    <tr>\n      <th>Palos de la Frontera</th>\n      <td>681.0</td>\n      <td>38.0</td>\n      <td>60.0</td>\n      <td>11742.0</td>\n      <td>323.624595</td>\n      <td>510.986203</td>\n      <td>2.0</td>\n    </tr>\n    <tr>\n      <th>Punta Umbría</th>\n      <td>827.0</td>\n      <td>21.0</td>\n      <td>40.0</td>\n      <td>15355.0</td>\n      <td>136.763269</td>\n      <td>260.501465</td>\n      <td>2.0</td>\n    </tr>\n    <tr>\n      <th>Ayamonte</th>\n      <td>1322.0</td>\n      <td>4.0</td>\n      <td>13.0</td>\n      <td>21104.0</td>\n      <td>18.953753</td>\n      <td>61.599697</td>\n      <td>2.0</td>\n    </tr>\n    <tr>\n      <th>Aracena</th>\n      <td>530.0</td>\n      <td>5.0</td>\n      <td>13.0</td>\n      <td>8255.0</td>\n      <td>60.569352</td>\n      <td>157.480315</td>\n      <td>2.0</td>\n    </tr>\n    <tr>\n      <th>Valverde del Camino</th>\n      <td>599.0</td>\n      <td>37.0</td>\n      <td>67.0</td>\n      <td>12750.0</td>\n      <td>290.196078</td>\n      <td>525.490196</td>\n      <td>2.0</td>\n    </tr>\n    <tr>\n      <th>Gibraleón</th>\n      <td>633.0</td>\n      <td>11.0</td>\n      <td>26.0</td>\n      <td>12737.0</td>\n      <td>86.362566</td>\n      <td>204.129701</td>\n      <td>1.0</td>\n    </tr>\n    <tr>\n      <th>Cumbres Mayores</th>\n      <td>53.0</td>\n      <td>2.0</td>\n      <td>3.0</td>\n      <td>1749.0</td>\n      <td>114.351058</td>\n      <td>171.526587</td>\n      <td>1.0</td>\n    </tr>\n    <tr>\n      <th>Almonte</th>\n      <td>1843.0</td>\n      <td>36.0</td>\n      <td>104.0</td>\n      <td>24507.0</td>\n      <td>146.896805</td>\n      <td>424.368548</td>\n      <td>1.0</td>\n    </tr>\n    <tr>\n      <th>Cartaya</th>\n      <td>1351.0</td>\n      <td>17.0</td>\n      <td>35.0</td>\n      <td>20083.0</td>\n      <td>84.648708</td>\n      <td>174.276751</td>\n      <td>1.0</td>\n    </tr>\n    <tr>\n      <th>Lepe</th>\n      <td>2135.0</td>\n      <td>8.0</td>\n      <td>26.0</td>\n      <td>27880.0</td>\n      <td>28.694405</td>\n      <td>93.256815</td>\n      <td>1.0</td>\n    </tr>\n    <tr>\n      <th>Lucena del Puerto</th>\n      <td>255.0</td>\n      <td>3.0</td>\n      <td>9.0</td>\n      <td>3261.0</td>\n      <td>91.996320</td>\n      <td>275.988960</td>\n      <td>1.0</td>\n    </tr>\n    <tr>\n      <th>Manzanilla</th>\n      <td>102.0</td>\n      <td>4.0</td>\n      <td>7.0</td>\n      <td>2118.0</td>\n      <td>188.857413</td>\n      <td>330.500472</td>\n      <td>1.0</td>\n    </tr>\n    <tr>\n      <th>Beas</th>\n      <td>212.0</td>\n      <td>2.0</td>\n      <td>5.0</td>\n      <td>4341.0</td>\n      <td>46.072334</td>\n      <td>115.180834</td>\n      <td>1.0</td>\n    </tr>\n    <tr>\n      <th>Palma del Condado (La)</th>\n      <td>1161.0</td>\n      <td>15.0</td>\n      <td>45.0</td>\n      <td>10801.0</td>\n      <td>138.876030</td>\n      <td>416.628090</td>\n      <td>1.0</td>\n    </tr>\n    <tr>\n      <th>Rociana del Condado</th>\n      <td>558.0</td>\n      <td>4.0</td>\n      <td>16.0</td>\n      <td>7939.0</td>\n      <td>50.384179</td>\n      <td>201.536717</td>\n      <td>1.0</td>\n    </tr>\n    <tr>\n      <th>Galaroza</th>\n      <td>42.0</td>\n      <td>1.0</td>\n      <td>1.0</td>\n      <td>1382.0</td>\n      <td>72.358900</td>\n      <td>72.358900</td>\n      <td>NaN</td>\n    </tr>\n  </tbody>\n</table>\n</div>"
     },
     "metadata": {},
     "execution_count": 15
    }
   ],
   "source": [
    "# Nuevos casos desde la última captura\n",
    "tabla[tabla['Diferencia PDIA'] != 0].sort_values('Diferencia PDIA', ascending=False)"
   ]
  },
  {
   "cell_type": "code",
   "execution_count": 16,
   "metadata": {},
   "outputs": [],
   "source": [
    "if tabla[tabla['Diferencia PDIA'] != 0]['Diferencia PDIA'].sum() != 0:\n",
    "  # Save to csv\n",
    "  tabla.to_csv('covid_huelva.csv', encoding='utf-8', header=True, index=True)  "
   ]
  },
  {
   "cell_type": "code",
   "execution_count": 17,
   "metadata": {},
   "outputs": [
    {
     "output_type": "execute_result",
     "data": {
      "text/plain": [
       "Medida                             Confirmados PDIA  Confirmados PDIA 7 días  \\\n",
       "Lugar de residencia                                                            \n",
       "Villarrasa                                    177.0                      9.0   \n",
       "Niebla                                        239.0                      5.0   \n",
       "Valverde del Camino                           599.0                     37.0   \n",
       "Palos de la Frontera                          681.0                     38.0   \n",
       "San Juan del Puerto                           524.0                     26.0   \n",
       "Almonte                                      1843.0                     36.0   \n",
       "Huelva (capital)                             8546.0                    310.0   \n",
       "Palma del Condado (La)                       1161.0                     15.0   \n",
       "Moguer                                       1309.0                     32.0   \n",
       "Bollullos Par del Condado                     999.0                     26.0   \n",
       "Aljaraque                                    1123.0                     36.0   \n",
       "Condado-Campiña                             10352.0                    238.0   \n",
       "Manzanilla                                    102.0                      4.0   \n",
       "Trigueros                                     317.0                     15.0   \n",
       "Cortegana                                     214.0                     12.0   \n",
       "Huelva                                      31852.0                    722.0   \n",
       "Huelva-Costa                                18333.0                    408.0   \n",
       "Lucena del Puerto                             255.0                      3.0   \n",
       "Minas de Riotinto                             127.0                      6.0   \n",
       "Punta Umbría                                  827.0                     21.0   \n",
       "Puebla de Guzmán                              120.0                      6.0   \n",
       "Bonares                                       279.0                      8.0   \n",
       "San Bartolomé de la Torre                     300.0                      4.0   \n",
       "Calañas                                       191.0                      1.0   \n",
       "Sierra de Huelva-Andévalo Central            2817.0                     72.0   \n",
       "Gibraleón                                     633.0                     11.0   \n",
       "Rociana del Condado                           558.0                      4.0   \n",
       "Zalamea la Real                                94.0                      3.0   \n",
       "Villanueva de los Castillejos                 162.0                      2.0   \n",
       "Cartaya                                      1351.0                     17.0   \n",
       "Cumbres Mayores                                53.0                      2.0   \n",
       "Aracena                                       530.0                      5.0   \n",
       "Higuera de la Sierra                           34.0                      1.0   \n",
       "Campofrío                                      10.0                      1.0   \n",
       "Beas                                          212.0                      2.0   \n",
       "Isla Cristina                                2150.0                      2.0   \n",
       "Nerva                                         178.0                      1.0   \n",
       "Lepe                                         2135.0                      8.0   \n",
       "Galaroza                                       42.0                      1.0   \n",
       "Ayamonte                                     1322.0                      4.0   \n",
       "Alosno                                        168.0                      2.0   \n",
       "Campillo (El)                                  73.0                      1.0   \n",
       "Aroche                                         91.0                      1.0   \n",
       "\n",
       "Medida                             Confirmados PDIA 14 días  Población  \\\n",
       "Lugar de residencia                                                      \n",
       "Villarrasa                                             14.0     2211.0   \n",
       "Niebla                                                 25.0     4116.0   \n",
       "Valverde del Camino                                    67.0    12750.0   \n",
       "Palos de la Frontera                                   60.0    11742.0   \n",
       "San Juan del Puerto                                    47.0     9411.0   \n",
       "Almonte                                               104.0    24507.0   \n",
       "Huelva (capital)                                      607.0   143837.0   \n",
       "Palma del Condado (La)                                 45.0    10801.0   \n",
       "Moguer                                                 89.0    21867.0   \n",
       "Bollullos Par del Condado                              51.0    14387.0   \n",
       "Aljaraque                                              76.0    21474.0   \n",
       "Condado-Campiña                                       550.0   156231.0   \n",
       "Manzanilla                                              7.0     2118.0   \n",
       "Trigueros                                              25.0     7862.0   \n",
       "Cortegana                                              14.0     4602.0   \n",
       "Huelva                                               1533.0   513170.0   \n",
       "Huelva-Costa                                          836.0   289548.0   \n",
       "Lucena del Puerto                                       9.0     3261.0   \n",
       "Minas de Riotinto                                      10.0     3812.0   \n",
       "Punta Umbría                                           40.0    15355.0   \n",
       "Puebla de Guzmán                                        8.0     3092.0   \n",
       "Bonares                                                15.0     6060.0   \n",
       "San Bartolomé de la Torre                               9.0     3761.0   \n",
       "Calañas                                                 6.0     2768.0   \n",
       "Sierra de Huelva-Andévalo Central                     141.0    67391.0   \n",
       "Gibraleón                                              26.0    12737.0   \n",
       "Rociana del Condado                                    16.0     7939.0   \n",
       "Zalamea la Real                                         6.0     3054.0   \n",
       "Villanueva de los Castillejos                           5.0     2825.0   \n",
       "Cartaya                                                35.0    20083.0   \n",
       "Cumbres Mayores                                         3.0     1749.0   \n",
       "Aracena                                                13.0     8255.0   \n",
       "Higuera de la Sierra                                    2.0     1291.0   \n",
       "Campofrío                                               1.0      713.0   \n",
       "Beas                                                    5.0     4341.0   \n",
       "Isla Cristina                                          21.0    21393.0   \n",
       "Nerva                                                   5.0     5169.0   \n",
       "Lepe                                                   26.0    27880.0   \n",
       "Galaroza                                                1.0     1382.0   \n",
       "Ayamonte                                               13.0    21104.0   \n",
       "Alosno                                                  2.0     3933.0   \n",
       "Campillo (El)                                           1.0     2024.0   \n",
       "Aroche                                                  1.0     3054.0   \n",
       "\n",
       "Medida                                  tasa7      tasa14  Diferencia PDIA  \n",
       "Lugar de residencia                                                         \n",
       "Villarrasa                         407.055631  633.197648              0.0  \n",
       "Niebla                             121.477162  607.385811              0.0  \n",
       "Valverde del Camino                290.196078  525.490196              2.0  \n",
       "Palos de la Frontera               323.624595  510.986203              2.0  \n",
       "San Juan del Puerto                276.272447  499.415578              4.0  \n",
       "Almonte                            146.896805  424.368548              1.0  \n",
       "Huelva (capital)                   215.521736  422.005465             55.0  \n",
       "Palma del Condado (La)             138.876030  416.628090              1.0  \n",
       "Moguer                             146.339233  407.005991              5.0  \n",
       "Bollullos Par del Condado          180.718704  354.486689              7.0  \n",
       "Aljaraque                          167.644593  353.916364              3.0  \n",
       "Condado-Campiña                    152.338524  352.042808             30.0  \n",
       "Manzanilla                         188.857413  330.500472              1.0  \n",
       "Trigueros                          190.791147  317.985245              0.0  \n",
       "Cortegana                          260.756193  304.215558              0.0  \n",
       "Huelva                             140.694117  298.731415            101.0  \n",
       "Huelva-Costa                       140.909279  288.725876             64.0  \n",
       "Lucena del Puerto                   91.996320  275.988960              1.0  \n",
       "Minas de Riotinto                  157.397692  262.329486              0.0  \n",
       "Punta Umbría                       136.763269  260.501465              2.0  \n",
       "Puebla de Guzmán                   194.049159  258.732212              0.0  \n",
       "Bonares                            132.013201  247.524752              5.0  \n",
       "San Bartolomé de la Torre          106.354693  239.298059              0.0  \n",
       "Calañas                             36.127168  216.763006              0.0  \n",
       "Sierra de Huelva-Andévalo Central  106.839192  209.226751              6.0  \n",
       "Gibraleón                           86.362566  204.129701              1.0  \n",
       "Rociana del Condado                 50.384179  201.536717              1.0  \n",
       "Zalamea la Real                     98.231827  196.463654              0.0  \n",
       "Villanueva de los Castillejos       70.796460  176.991150              0.0  \n",
       "Cartaya                             84.648708  174.276751              1.0  \n",
       "Cumbres Mayores                    114.351058  171.526587              1.0  \n",
       "Aracena                             60.569352  157.480315              2.0  \n",
       "Higuera de la Sierra                77.459334  154.918668              0.0  \n",
       "Campofrío                          140.252454  140.252454              0.0  \n",
       "Beas                                46.072334  115.180834              1.0  \n",
       "Isla Cristina                        9.348852   98.162950              0.0  \n",
       "Nerva                               19.346102   96.730509              0.0  \n",
       "Lepe                                28.694405   93.256815              1.0  \n",
       "Galaroza                            72.358900   72.358900              NaN  \n",
       "Ayamonte                            18.953753   61.599697              2.0  \n",
       "Alosno                              50.851767   50.851767              0.0  \n",
       "Campillo (El)                       49.407115   49.407115              0.0  \n",
       "Aroche                              32.743942   32.743942              0.0  "
      ],
      "text/html": "<div>\n<style scoped>\n    .dataframe tbody tr th:only-of-type {\n        vertical-align: middle;\n    }\n\n    .dataframe tbody tr th {\n        vertical-align: top;\n    }\n\n    .dataframe thead th {\n        text-align: right;\n    }\n</style>\n<table border=\"1\" class=\"dataframe\">\n  <thead>\n    <tr style=\"text-align: right;\">\n      <th>Medida</th>\n      <th>Confirmados PDIA</th>\n      <th>Confirmados PDIA 7 días</th>\n      <th>Confirmados PDIA 14 días</th>\n      <th>Población</th>\n      <th>tasa7</th>\n      <th>tasa14</th>\n      <th>Diferencia PDIA</th>\n    </tr>\n    <tr>\n      <th>Lugar de residencia</th>\n      <th></th>\n      <th></th>\n      <th></th>\n      <th></th>\n      <th></th>\n      <th></th>\n      <th></th>\n    </tr>\n  </thead>\n  <tbody>\n    <tr>\n      <th>Villarrasa</th>\n      <td>177.0</td>\n      <td>9.0</td>\n      <td>14.0</td>\n      <td>2211.0</td>\n      <td>407.055631</td>\n      <td>633.197648</td>\n      <td>0.0</td>\n    </tr>\n    <tr>\n      <th>Niebla</th>\n      <td>239.0</td>\n      <td>5.0</td>\n      <td>25.0</td>\n      <td>4116.0</td>\n      <td>121.477162</td>\n      <td>607.385811</td>\n      <td>0.0</td>\n    </tr>\n    <tr>\n      <th>Valverde del Camino</th>\n      <td>599.0</td>\n      <td>37.0</td>\n      <td>67.0</td>\n      <td>12750.0</td>\n      <td>290.196078</td>\n      <td>525.490196</td>\n      <td>2.0</td>\n    </tr>\n    <tr>\n      <th>Palos de la Frontera</th>\n      <td>681.0</td>\n      <td>38.0</td>\n      <td>60.0</td>\n      <td>11742.0</td>\n      <td>323.624595</td>\n      <td>510.986203</td>\n      <td>2.0</td>\n    </tr>\n    <tr>\n      <th>San Juan del Puerto</th>\n      <td>524.0</td>\n      <td>26.0</td>\n      <td>47.0</td>\n      <td>9411.0</td>\n      <td>276.272447</td>\n      <td>499.415578</td>\n      <td>4.0</td>\n    </tr>\n    <tr>\n      <th>Almonte</th>\n      <td>1843.0</td>\n      <td>36.0</td>\n      <td>104.0</td>\n      <td>24507.0</td>\n      <td>146.896805</td>\n      <td>424.368548</td>\n      <td>1.0</td>\n    </tr>\n    <tr>\n      <th>Huelva (capital)</th>\n      <td>8546.0</td>\n      <td>310.0</td>\n      <td>607.0</td>\n      <td>143837.0</td>\n      <td>215.521736</td>\n      <td>422.005465</td>\n      <td>55.0</td>\n    </tr>\n    <tr>\n      <th>Palma del Condado (La)</th>\n      <td>1161.0</td>\n      <td>15.0</td>\n      <td>45.0</td>\n      <td>10801.0</td>\n      <td>138.876030</td>\n      <td>416.628090</td>\n      <td>1.0</td>\n    </tr>\n    <tr>\n      <th>Moguer</th>\n      <td>1309.0</td>\n      <td>32.0</td>\n      <td>89.0</td>\n      <td>21867.0</td>\n      <td>146.339233</td>\n      <td>407.005991</td>\n      <td>5.0</td>\n    </tr>\n    <tr>\n      <th>Bollullos Par del Condado</th>\n      <td>999.0</td>\n      <td>26.0</td>\n      <td>51.0</td>\n      <td>14387.0</td>\n      <td>180.718704</td>\n      <td>354.486689</td>\n      <td>7.0</td>\n    </tr>\n    <tr>\n      <th>Aljaraque</th>\n      <td>1123.0</td>\n      <td>36.0</td>\n      <td>76.0</td>\n      <td>21474.0</td>\n      <td>167.644593</td>\n      <td>353.916364</td>\n      <td>3.0</td>\n    </tr>\n    <tr>\n      <th>Condado-Campiña</th>\n      <td>10352.0</td>\n      <td>238.0</td>\n      <td>550.0</td>\n      <td>156231.0</td>\n      <td>152.338524</td>\n      <td>352.042808</td>\n      <td>30.0</td>\n    </tr>\n    <tr>\n      <th>Manzanilla</th>\n      <td>102.0</td>\n      <td>4.0</td>\n      <td>7.0</td>\n      <td>2118.0</td>\n      <td>188.857413</td>\n      <td>330.500472</td>\n      <td>1.0</td>\n    </tr>\n    <tr>\n      <th>Trigueros</th>\n      <td>317.0</td>\n      <td>15.0</td>\n      <td>25.0</td>\n      <td>7862.0</td>\n      <td>190.791147</td>\n      <td>317.985245</td>\n      <td>0.0</td>\n    </tr>\n    <tr>\n      <th>Cortegana</th>\n      <td>214.0</td>\n      <td>12.0</td>\n      <td>14.0</td>\n      <td>4602.0</td>\n      <td>260.756193</td>\n      <td>304.215558</td>\n      <td>0.0</td>\n    </tr>\n    <tr>\n      <th>Huelva</th>\n      <td>31852.0</td>\n      <td>722.0</td>\n      <td>1533.0</td>\n      <td>513170.0</td>\n      <td>140.694117</td>\n      <td>298.731415</td>\n      <td>101.0</td>\n    </tr>\n    <tr>\n      <th>Huelva-Costa</th>\n      <td>18333.0</td>\n      <td>408.0</td>\n      <td>836.0</td>\n      <td>289548.0</td>\n      <td>140.909279</td>\n      <td>288.725876</td>\n      <td>64.0</td>\n    </tr>\n    <tr>\n      <th>Lucena del Puerto</th>\n      <td>255.0</td>\n      <td>3.0</td>\n      <td>9.0</td>\n      <td>3261.0</td>\n      <td>91.996320</td>\n      <td>275.988960</td>\n      <td>1.0</td>\n    </tr>\n    <tr>\n      <th>Minas de Riotinto</th>\n      <td>127.0</td>\n      <td>6.0</td>\n      <td>10.0</td>\n      <td>3812.0</td>\n      <td>157.397692</td>\n      <td>262.329486</td>\n      <td>0.0</td>\n    </tr>\n    <tr>\n      <th>Punta Umbría</th>\n      <td>827.0</td>\n      <td>21.0</td>\n      <td>40.0</td>\n      <td>15355.0</td>\n      <td>136.763269</td>\n      <td>260.501465</td>\n      <td>2.0</td>\n    </tr>\n    <tr>\n      <th>Puebla de Guzmán</th>\n      <td>120.0</td>\n      <td>6.0</td>\n      <td>8.0</td>\n      <td>3092.0</td>\n      <td>194.049159</td>\n      <td>258.732212</td>\n      <td>0.0</td>\n    </tr>\n    <tr>\n      <th>Bonares</th>\n      <td>279.0</td>\n      <td>8.0</td>\n      <td>15.0</td>\n      <td>6060.0</td>\n      <td>132.013201</td>\n      <td>247.524752</td>\n      <td>5.0</td>\n    </tr>\n    <tr>\n      <th>San Bartolomé de la Torre</th>\n      <td>300.0</td>\n      <td>4.0</td>\n      <td>9.0</td>\n      <td>3761.0</td>\n      <td>106.354693</td>\n      <td>239.298059</td>\n      <td>0.0</td>\n    </tr>\n    <tr>\n      <th>Calañas</th>\n      <td>191.0</td>\n      <td>1.0</td>\n      <td>6.0</td>\n      <td>2768.0</td>\n      <td>36.127168</td>\n      <td>216.763006</td>\n      <td>0.0</td>\n    </tr>\n    <tr>\n      <th>Sierra de Huelva-Andévalo Central</th>\n      <td>2817.0</td>\n      <td>72.0</td>\n      <td>141.0</td>\n      <td>67391.0</td>\n      <td>106.839192</td>\n      <td>209.226751</td>\n      <td>6.0</td>\n    </tr>\n    <tr>\n      <th>Gibraleón</th>\n      <td>633.0</td>\n      <td>11.0</td>\n      <td>26.0</td>\n      <td>12737.0</td>\n      <td>86.362566</td>\n      <td>204.129701</td>\n      <td>1.0</td>\n    </tr>\n    <tr>\n      <th>Rociana del Condado</th>\n      <td>558.0</td>\n      <td>4.0</td>\n      <td>16.0</td>\n      <td>7939.0</td>\n      <td>50.384179</td>\n      <td>201.536717</td>\n      <td>1.0</td>\n    </tr>\n    <tr>\n      <th>Zalamea la Real</th>\n      <td>94.0</td>\n      <td>3.0</td>\n      <td>6.0</td>\n      <td>3054.0</td>\n      <td>98.231827</td>\n      <td>196.463654</td>\n      <td>0.0</td>\n    </tr>\n    <tr>\n      <th>Villanueva de los Castillejos</th>\n      <td>162.0</td>\n      <td>2.0</td>\n      <td>5.0</td>\n      <td>2825.0</td>\n      <td>70.796460</td>\n      <td>176.991150</td>\n      <td>0.0</td>\n    </tr>\n    <tr>\n      <th>Cartaya</th>\n      <td>1351.0</td>\n      <td>17.0</td>\n      <td>35.0</td>\n      <td>20083.0</td>\n      <td>84.648708</td>\n      <td>174.276751</td>\n      <td>1.0</td>\n    </tr>\n    <tr>\n      <th>Cumbres Mayores</th>\n      <td>53.0</td>\n      <td>2.0</td>\n      <td>3.0</td>\n      <td>1749.0</td>\n      <td>114.351058</td>\n      <td>171.526587</td>\n      <td>1.0</td>\n    </tr>\n    <tr>\n      <th>Aracena</th>\n      <td>530.0</td>\n      <td>5.0</td>\n      <td>13.0</td>\n      <td>8255.0</td>\n      <td>60.569352</td>\n      <td>157.480315</td>\n      <td>2.0</td>\n    </tr>\n    <tr>\n      <th>Higuera de la Sierra</th>\n      <td>34.0</td>\n      <td>1.0</td>\n      <td>2.0</td>\n      <td>1291.0</td>\n      <td>77.459334</td>\n      <td>154.918668</td>\n      <td>0.0</td>\n    </tr>\n    <tr>\n      <th>Campofrío</th>\n      <td>10.0</td>\n      <td>1.0</td>\n      <td>1.0</td>\n      <td>713.0</td>\n      <td>140.252454</td>\n      <td>140.252454</td>\n      <td>0.0</td>\n    </tr>\n    <tr>\n      <th>Beas</th>\n      <td>212.0</td>\n      <td>2.0</td>\n      <td>5.0</td>\n      <td>4341.0</td>\n      <td>46.072334</td>\n      <td>115.180834</td>\n      <td>1.0</td>\n    </tr>\n    <tr>\n      <th>Isla Cristina</th>\n      <td>2150.0</td>\n      <td>2.0</td>\n      <td>21.0</td>\n      <td>21393.0</td>\n      <td>9.348852</td>\n      <td>98.162950</td>\n      <td>0.0</td>\n    </tr>\n    <tr>\n      <th>Nerva</th>\n      <td>178.0</td>\n      <td>1.0</td>\n      <td>5.0</td>\n      <td>5169.0</td>\n      <td>19.346102</td>\n      <td>96.730509</td>\n      <td>0.0</td>\n    </tr>\n    <tr>\n      <th>Lepe</th>\n      <td>2135.0</td>\n      <td>8.0</td>\n      <td>26.0</td>\n      <td>27880.0</td>\n      <td>28.694405</td>\n      <td>93.256815</td>\n      <td>1.0</td>\n    </tr>\n    <tr>\n      <th>Galaroza</th>\n      <td>42.0</td>\n      <td>1.0</td>\n      <td>1.0</td>\n      <td>1382.0</td>\n      <td>72.358900</td>\n      <td>72.358900</td>\n      <td>NaN</td>\n    </tr>\n    <tr>\n      <th>Ayamonte</th>\n      <td>1322.0</td>\n      <td>4.0</td>\n      <td>13.0</td>\n      <td>21104.0</td>\n      <td>18.953753</td>\n      <td>61.599697</td>\n      <td>2.0</td>\n    </tr>\n    <tr>\n      <th>Alosno</th>\n      <td>168.0</td>\n      <td>2.0</td>\n      <td>2.0</td>\n      <td>3933.0</td>\n      <td>50.851767</td>\n      <td>50.851767</td>\n      <td>0.0</td>\n    </tr>\n    <tr>\n      <th>Campillo (El)</th>\n      <td>73.0</td>\n      <td>1.0</td>\n      <td>1.0</td>\n      <td>2024.0</td>\n      <td>49.407115</td>\n      <td>49.407115</td>\n      <td>0.0</td>\n    </tr>\n    <tr>\n      <th>Aroche</th>\n      <td>91.0</td>\n      <td>1.0</td>\n      <td>1.0</td>\n      <td>3054.0</td>\n      <td>32.743942</td>\n      <td>32.743942</td>\n      <td>0.0</td>\n    </tr>\n  </tbody>\n</table>\n</div>"
     },
     "metadata": {},
     "execution_count": 17
    }
   ],
   "source": [
    "tabla.sort_values('tasa14', ascending=False)"
   ]
  },
  {
   "cell_type": "code",
   "execution_count": 18,
   "metadata": {},
   "outputs": [
    {
     "output_type": "execute_result",
     "data": {
      "text/plain": [
       "Medida                             Confirmados PDIA  Confirmados PDIA 7 días  \\\n",
       "Lugar de residencia                                                            \n",
       "Isla Cristina                                2150.0                      2.0   \n",
       "Calañas                                       191.0                      1.0   \n",
       "Nerva                                         178.0                      1.0   \n",
       "Niebla                                        239.0                      5.0   \n",
       "Rociana del Condado                           558.0                      4.0   \n",
       "Lepe                                         2135.0                      8.0   \n",
       "Ayamonte                                     1322.0                      4.0   \n",
       "Lucena del Puerto                             255.0                      3.0   \n",
       "Palma del Condado (La)                       1161.0                     15.0   \n",
       "Almonte                                      1843.0                     36.0   \n",
       "Moguer                                       1309.0                     32.0   \n",
       "Aracena                                       530.0                      5.0   \n",
       "Beas                                          212.0                      2.0   \n",
       "Villanueva de los Castillejos                 162.0                      2.0   \n",
       "Gibraleón                                     633.0                     11.0   \n",
       "Condado-Campiña                             10352.0                    238.0   \n",
       "San Bartolomé de la Torre                     300.0                      4.0   \n",
       "Huelva                                      31852.0                    722.0   \n",
       "Aljaraque                                    1123.0                     36.0   \n",
       "Cartaya                                      1351.0                     17.0   \n",
       "Huelva-Costa                                18333.0                    408.0   \n",
       "Zalamea la Real                                94.0                      3.0   \n",
       "Higuera de la Sierra                           34.0                      1.0   \n",
       "Bollullos Par del Condado                     999.0                     26.0   \n",
       "Sierra de Huelva-Andévalo Central            2817.0                     72.0   \n",
       "Huelva (capital)                             8546.0                    310.0   \n",
       "Punta Umbría                                  827.0                     21.0   \n",
       "Bonares                                       279.0                      8.0   \n",
       "Valverde del Camino                           599.0                     37.0   \n",
       "San Juan del Puerto                           524.0                     26.0   \n",
       "Manzanilla                                    102.0                      4.0   \n",
       "Trigueros                                     317.0                     15.0   \n",
       "Minas de Riotinto                             127.0                      6.0   \n",
       "Palos de la Frontera                          681.0                     38.0   \n",
       "Villarrasa                                    177.0                      9.0   \n",
       "Cumbres Mayores                                53.0                      2.0   \n",
       "Puebla de Guzmán                              120.0                      6.0   \n",
       "Cortegana                                     214.0                     12.0   \n",
       "Campillo (El)                                  73.0                      1.0   \n",
       "Aroche                                         91.0                      1.0   \n",
       "Campofrío                                      10.0                      1.0   \n",
       "Galaroza                                       42.0                      1.0   \n",
       "Alosno                                        168.0                      2.0   \n",
       "\n",
       "Medida                             Confirmados PDIA 14 días  Población  \\\n",
       "Lugar de residencia                                                      \n",
       "Isla Cristina                                          21.0    21393.0   \n",
       "Calañas                                                 6.0     2768.0   \n",
       "Nerva                                                   5.0     5169.0   \n",
       "Niebla                                                 25.0     4116.0   \n",
       "Rociana del Condado                                    16.0     7939.0   \n",
       "Lepe                                                   26.0    27880.0   \n",
       "Ayamonte                                               13.0    21104.0   \n",
       "Lucena del Puerto                                       9.0     3261.0   \n",
       "Palma del Condado (La)                                 45.0    10801.0   \n",
       "Almonte                                               104.0    24507.0   \n",
       "Moguer                                                 89.0    21867.0   \n",
       "Aracena                                                13.0     8255.0   \n",
       "Beas                                                    5.0     4341.0   \n",
       "Villanueva de los Castillejos                           5.0     2825.0   \n",
       "Gibraleón                                              26.0    12737.0   \n",
       "Condado-Campiña                                       550.0   156231.0   \n",
       "San Bartolomé de la Torre                               9.0     3761.0   \n",
       "Huelva                                               1533.0   513170.0   \n",
       "Aljaraque                                              76.0    21474.0   \n",
       "Cartaya                                                35.0    20083.0   \n",
       "Huelva-Costa                                          836.0   289548.0   \n",
       "Zalamea la Real                                         6.0     3054.0   \n",
       "Higuera de la Sierra                                    2.0     1291.0   \n",
       "Bollullos Par del Condado                              51.0    14387.0   \n",
       "Sierra de Huelva-Andévalo Central                     141.0    67391.0   \n",
       "Huelva (capital)                                      607.0   143837.0   \n",
       "Punta Umbría                                           40.0    15355.0   \n",
       "Bonares                                                15.0     6060.0   \n",
       "Valverde del Camino                                    67.0    12750.0   \n",
       "San Juan del Puerto                                    47.0     9411.0   \n",
       "Manzanilla                                              7.0     2118.0   \n",
       "Trigueros                                              25.0     7862.0   \n",
       "Minas de Riotinto                                      10.0     3812.0   \n",
       "Palos de la Frontera                                   60.0    11742.0   \n",
       "Villarrasa                                             14.0     2211.0   \n",
       "Cumbres Mayores                                         3.0     1749.0   \n",
       "Puebla de Guzmán                                        8.0     3092.0   \n",
       "Cortegana                                              14.0     4602.0   \n",
       "Campillo (El)                                           1.0     2024.0   \n",
       "Aroche                                                  1.0     3054.0   \n",
       "Campofrío                                               1.0      713.0   \n",
       "Galaroza                                                1.0     1382.0   \n",
       "Alosno                                                  2.0     3933.0   \n",
       "\n",
       "Medida                                  tasa7      tasa14  Diferencia PDIA  \\\n",
       "Lugar de residencia                                                          \n",
       "Isla Cristina                        9.348852   98.162950              0.0   \n",
       "Calañas                             36.127168  216.763006              0.0   \n",
       "Nerva                               19.346102   96.730509              0.0   \n",
       "Niebla                             121.477162  607.385811              0.0   \n",
       "Rociana del Condado                 50.384179  201.536717              1.0   \n",
       "Lepe                                28.694405   93.256815              1.0   \n",
       "Ayamonte                            18.953753   61.599697              2.0   \n",
       "Lucena del Puerto                   91.996320  275.988960              1.0   \n",
       "Palma del Condado (La)             138.876030  416.628090              1.0   \n",
       "Almonte                            146.896805  424.368548              1.0   \n",
       "Moguer                             146.339233  407.005991              5.0   \n",
       "Aracena                             60.569352  157.480315              2.0   \n",
       "Beas                                46.072334  115.180834              1.0   \n",
       "Villanueva de los Castillejos       70.796460  176.991150              0.0   \n",
       "Gibraleón                           86.362566  204.129701              1.0   \n",
       "Condado-Campiña                    152.338524  352.042808             30.0   \n",
       "San Bartolomé de la Torre          106.354693  239.298059              0.0   \n",
       "Huelva                             140.694117  298.731415            101.0   \n",
       "Aljaraque                          167.644593  353.916364              3.0   \n",
       "Cartaya                             84.648708  174.276751              1.0   \n",
       "Huelva-Costa                       140.909279  288.725876             64.0   \n",
       "Zalamea la Real                     98.231827  196.463654              0.0   \n",
       "Higuera de la Sierra                77.459334  154.918668              0.0   \n",
       "Bollullos Par del Condado          180.718704  354.486689              7.0   \n",
       "Sierra de Huelva-Andévalo Central  106.839192  209.226751              6.0   \n",
       "Huelva (capital)                   215.521736  422.005465             55.0   \n",
       "Punta Umbría                       136.763269  260.501465              2.0   \n",
       "Bonares                            132.013201  247.524752              5.0   \n",
       "Valverde del Camino                290.196078  525.490196              2.0   \n",
       "San Juan del Puerto                276.272447  499.415578              4.0   \n",
       "Manzanilla                         188.857413  330.500472              1.0   \n",
       "Trigueros                          190.791147  317.985245              0.0   \n",
       "Minas de Riotinto                  157.397692  262.329486              0.0   \n",
       "Palos de la Frontera               323.624595  510.986203              2.0   \n",
       "Villarrasa                         407.055631  633.197648              0.0   \n",
       "Cumbres Mayores                    114.351058  171.526587              1.0   \n",
       "Puebla de Guzmán                   194.049159  258.732212              0.0   \n",
       "Cortegana                          260.756193  304.215558              0.0   \n",
       "Campillo (El)                       49.407115   49.407115              0.0   \n",
       "Aroche                              32.743942   32.743942              0.0   \n",
       "Campofrío                          140.252454  140.252454              0.0   \n",
       "Galaroza                            72.358900   72.358900              0.0   \n",
       "Alosno                              50.851767   50.851767              0.0   \n",
       "\n",
       "Medida                                 7/14  \n",
       "Lugar de residencia                          \n",
       "Isla Cristina                      0.095238  \n",
       "Calañas                            0.166667  \n",
       "Nerva                              0.200000  \n",
       "Niebla                             0.200000  \n",
       "Rociana del Condado                0.250000  \n",
       "Lepe                               0.307692  \n",
       "Ayamonte                           0.307692  \n",
       "Lucena del Puerto                  0.333333  \n",
       "Palma del Condado (La)             0.333333  \n",
       "Almonte                            0.346154  \n",
       "Moguer                             0.359551  \n",
       "Aracena                            0.384615  \n",
       "Beas                               0.400000  \n",
       "Villanueva de los Castillejos      0.400000  \n",
       "Gibraleón                          0.423077  \n",
       "Condado-Campiña                    0.432727  \n",
       "San Bartolomé de la Torre          0.444444  \n",
       "Huelva                             0.470972  \n",
       "Aljaraque                          0.473684  \n",
       "Cartaya                            0.485714  \n",
       "Huelva-Costa                       0.488038  \n",
       "Zalamea la Real                    0.500000  \n",
       "Higuera de la Sierra               0.500000  \n",
       "Bollullos Par del Condado          0.509804  \n",
       "Sierra de Huelva-Andévalo Central  0.510638  \n",
       "Huelva (capital)                   0.510708  \n",
       "Punta Umbría                       0.525000  \n",
       "Bonares                            0.533333  \n",
       "Valverde del Camino                0.552239  \n",
       "San Juan del Puerto                0.553191  \n",
       "Manzanilla                         0.571429  \n",
       "Trigueros                          0.600000  \n",
       "Minas de Riotinto                  0.600000  \n",
       "Palos de la Frontera               0.633333  \n",
       "Villarrasa                         0.642857  \n",
       "Cumbres Mayores                    0.666667  \n",
       "Puebla de Guzmán                   0.750000  \n",
       "Cortegana                          0.857143  \n",
       "Campillo (El)                      1.000000  \n",
       "Aroche                             1.000000  \n",
       "Campofrío                          1.000000  \n",
       "Galaroza                           1.000000  \n",
       "Alosno                             1.000000  "
      ],
      "text/html": "<div>\n<style scoped>\n    .dataframe tbody tr th:only-of-type {\n        vertical-align: middle;\n    }\n\n    .dataframe tbody tr th {\n        vertical-align: top;\n    }\n\n    .dataframe thead th {\n        text-align: right;\n    }\n</style>\n<table border=\"1\" class=\"dataframe\">\n  <thead>\n    <tr style=\"text-align: right;\">\n      <th>Medida</th>\n      <th>Confirmados PDIA</th>\n      <th>Confirmados PDIA 7 días</th>\n      <th>Confirmados PDIA 14 días</th>\n      <th>Población</th>\n      <th>tasa7</th>\n      <th>tasa14</th>\n      <th>Diferencia PDIA</th>\n      <th>7/14</th>\n    </tr>\n    <tr>\n      <th>Lugar de residencia</th>\n      <th></th>\n      <th></th>\n      <th></th>\n      <th></th>\n      <th></th>\n      <th></th>\n      <th></th>\n      <th></th>\n    </tr>\n  </thead>\n  <tbody>\n    <tr>\n      <th>Isla Cristina</th>\n      <td>2150.0</td>\n      <td>2.0</td>\n      <td>21.0</td>\n      <td>21393.0</td>\n      <td>9.348852</td>\n      <td>98.162950</td>\n      <td>0.0</td>\n      <td>0.095238</td>\n    </tr>\n    <tr>\n      <th>Calañas</th>\n      <td>191.0</td>\n      <td>1.0</td>\n      <td>6.0</td>\n      <td>2768.0</td>\n      <td>36.127168</td>\n      <td>216.763006</td>\n      <td>0.0</td>\n      <td>0.166667</td>\n    </tr>\n    <tr>\n      <th>Nerva</th>\n      <td>178.0</td>\n      <td>1.0</td>\n      <td>5.0</td>\n      <td>5169.0</td>\n      <td>19.346102</td>\n      <td>96.730509</td>\n      <td>0.0</td>\n      <td>0.200000</td>\n    </tr>\n    <tr>\n      <th>Niebla</th>\n      <td>239.0</td>\n      <td>5.0</td>\n      <td>25.0</td>\n      <td>4116.0</td>\n      <td>121.477162</td>\n      <td>607.385811</td>\n      <td>0.0</td>\n      <td>0.200000</td>\n    </tr>\n    <tr>\n      <th>Rociana del Condado</th>\n      <td>558.0</td>\n      <td>4.0</td>\n      <td>16.0</td>\n      <td>7939.0</td>\n      <td>50.384179</td>\n      <td>201.536717</td>\n      <td>1.0</td>\n      <td>0.250000</td>\n    </tr>\n    <tr>\n      <th>Lepe</th>\n      <td>2135.0</td>\n      <td>8.0</td>\n      <td>26.0</td>\n      <td>27880.0</td>\n      <td>28.694405</td>\n      <td>93.256815</td>\n      <td>1.0</td>\n      <td>0.307692</td>\n    </tr>\n    <tr>\n      <th>Ayamonte</th>\n      <td>1322.0</td>\n      <td>4.0</td>\n      <td>13.0</td>\n      <td>21104.0</td>\n      <td>18.953753</td>\n      <td>61.599697</td>\n      <td>2.0</td>\n      <td>0.307692</td>\n    </tr>\n    <tr>\n      <th>Lucena del Puerto</th>\n      <td>255.0</td>\n      <td>3.0</td>\n      <td>9.0</td>\n      <td>3261.0</td>\n      <td>91.996320</td>\n      <td>275.988960</td>\n      <td>1.0</td>\n      <td>0.333333</td>\n    </tr>\n    <tr>\n      <th>Palma del Condado (La)</th>\n      <td>1161.0</td>\n      <td>15.0</td>\n      <td>45.0</td>\n      <td>10801.0</td>\n      <td>138.876030</td>\n      <td>416.628090</td>\n      <td>1.0</td>\n      <td>0.333333</td>\n    </tr>\n    <tr>\n      <th>Almonte</th>\n      <td>1843.0</td>\n      <td>36.0</td>\n      <td>104.0</td>\n      <td>24507.0</td>\n      <td>146.896805</td>\n      <td>424.368548</td>\n      <td>1.0</td>\n      <td>0.346154</td>\n    </tr>\n    <tr>\n      <th>Moguer</th>\n      <td>1309.0</td>\n      <td>32.0</td>\n      <td>89.0</td>\n      <td>21867.0</td>\n      <td>146.339233</td>\n      <td>407.005991</td>\n      <td>5.0</td>\n      <td>0.359551</td>\n    </tr>\n    <tr>\n      <th>Aracena</th>\n      <td>530.0</td>\n      <td>5.0</td>\n      <td>13.0</td>\n      <td>8255.0</td>\n      <td>60.569352</td>\n      <td>157.480315</td>\n      <td>2.0</td>\n      <td>0.384615</td>\n    </tr>\n    <tr>\n      <th>Beas</th>\n      <td>212.0</td>\n      <td>2.0</td>\n      <td>5.0</td>\n      <td>4341.0</td>\n      <td>46.072334</td>\n      <td>115.180834</td>\n      <td>1.0</td>\n      <td>0.400000</td>\n    </tr>\n    <tr>\n      <th>Villanueva de los Castillejos</th>\n      <td>162.0</td>\n      <td>2.0</td>\n      <td>5.0</td>\n      <td>2825.0</td>\n      <td>70.796460</td>\n      <td>176.991150</td>\n      <td>0.0</td>\n      <td>0.400000</td>\n    </tr>\n    <tr>\n      <th>Gibraleón</th>\n      <td>633.0</td>\n      <td>11.0</td>\n      <td>26.0</td>\n      <td>12737.0</td>\n      <td>86.362566</td>\n      <td>204.129701</td>\n      <td>1.0</td>\n      <td>0.423077</td>\n    </tr>\n    <tr>\n      <th>Condado-Campiña</th>\n      <td>10352.0</td>\n      <td>238.0</td>\n      <td>550.0</td>\n      <td>156231.0</td>\n      <td>152.338524</td>\n      <td>352.042808</td>\n      <td>30.0</td>\n      <td>0.432727</td>\n    </tr>\n    <tr>\n      <th>San Bartolomé de la Torre</th>\n      <td>300.0</td>\n      <td>4.0</td>\n      <td>9.0</td>\n      <td>3761.0</td>\n      <td>106.354693</td>\n      <td>239.298059</td>\n      <td>0.0</td>\n      <td>0.444444</td>\n    </tr>\n    <tr>\n      <th>Huelva</th>\n      <td>31852.0</td>\n      <td>722.0</td>\n      <td>1533.0</td>\n      <td>513170.0</td>\n      <td>140.694117</td>\n      <td>298.731415</td>\n      <td>101.0</td>\n      <td>0.470972</td>\n    </tr>\n    <tr>\n      <th>Aljaraque</th>\n      <td>1123.0</td>\n      <td>36.0</td>\n      <td>76.0</td>\n      <td>21474.0</td>\n      <td>167.644593</td>\n      <td>353.916364</td>\n      <td>3.0</td>\n      <td>0.473684</td>\n    </tr>\n    <tr>\n      <th>Cartaya</th>\n      <td>1351.0</td>\n      <td>17.0</td>\n      <td>35.0</td>\n      <td>20083.0</td>\n      <td>84.648708</td>\n      <td>174.276751</td>\n      <td>1.0</td>\n      <td>0.485714</td>\n    </tr>\n    <tr>\n      <th>Huelva-Costa</th>\n      <td>18333.0</td>\n      <td>408.0</td>\n      <td>836.0</td>\n      <td>289548.0</td>\n      <td>140.909279</td>\n      <td>288.725876</td>\n      <td>64.0</td>\n      <td>0.488038</td>\n    </tr>\n    <tr>\n      <th>Zalamea la Real</th>\n      <td>94.0</td>\n      <td>3.0</td>\n      <td>6.0</td>\n      <td>3054.0</td>\n      <td>98.231827</td>\n      <td>196.463654</td>\n      <td>0.0</td>\n      <td>0.500000</td>\n    </tr>\n    <tr>\n      <th>Higuera de la Sierra</th>\n      <td>34.0</td>\n      <td>1.0</td>\n      <td>2.0</td>\n      <td>1291.0</td>\n      <td>77.459334</td>\n      <td>154.918668</td>\n      <td>0.0</td>\n      <td>0.500000</td>\n    </tr>\n    <tr>\n      <th>Bollullos Par del Condado</th>\n      <td>999.0</td>\n      <td>26.0</td>\n      <td>51.0</td>\n      <td>14387.0</td>\n      <td>180.718704</td>\n      <td>354.486689</td>\n      <td>7.0</td>\n      <td>0.509804</td>\n    </tr>\n    <tr>\n      <th>Sierra de Huelva-Andévalo Central</th>\n      <td>2817.0</td>\n      <td>72.0</td>\n      <td>141.0</td>\n      <td>67391.0</td>\n      <td>106.839192</td>\n      <td>209.226751</td>\n      <td>6.0</td>\n      <td>0.510638</td>\n    </tr>\n    <tr>\n      <th>Huelva (capital)</th>\n      <td>8546.0</td>\n      <td>310.0</td>\n      <td>607.0</td>\n      <td>143837.0</td>\n      <td>215.521736</td>\n      <td>422.005465</td>\n      <td>55.0</td>\n      <td>0.510708</td>\n    </tr>\n    <tr>\n      <th>Punta Umbría</th>\n      <td>827.0</td>\n      <td>21.0</td>\n      <td>40.0</td>\n      <td>15355.0</td>\n      <td>136.763269</td>\n      <td>260.501465</td>\n      <td>2.0</td>\n      <td>0.525000</td>\n    </tr>\n    <tr>\n      <th>Bonares</th>\n      <td>279.0</td>\n      <td>8.0</td>\n      <td>15.0</td>\n      <td>6060.0</td>\n      <td>132.013201</td>\n      <td>247.524752</td>\n      <td>5.0</td>\n      <td>0.533333</td>\n    </tr>\n    <tr>\n      <th>Valverde del Camino</th>\n      <td>599.0</td>\n      <td>37.0</td>\n      <td>67.0</td>\n      <td>12750.0</td>\n      <td>290.196078</td>\n      <td>525.490196</td>\n      <td>2.0</td>\n      <td>0.552239</td>\n    </tr>\n    <tr>\n      <th>San Juan del Puerto</th>\n      <td>524.0</td>\n      <td>26.0</td>\n      <td>47.0</td>\n      <td>9411.0</td>\n      <td>276.272447</td>\n      <td>499.415578</td>\n      <td>4.0</td>\n      <td>0.553191</td>\n    </tr>\n    <tr>\n      <th>Manzanilla</th>\n      <td>102.0</td>\n      <td>4.0</td>\n      <td>7.0</td>\n      <td>2118.0</td>\n      <td>188.857413</td>\n      <td>330.500472</td>\n      <td>1.0</td>\n      <td>0.571429</td>\n    </tr>\n    <tr>\n      <th>Trigueros</th>\n      <td>317.0</td>\n      <td>15.0</td>\n      <td>25.0</td>\n      <td>7862.0</td>\n      <td>190.791147</td>\n      <td>317.985245</td>\n      <td>0.0</td>\n      <td>0.600000</td>\n    </tr>\n    <tr>\n      <th>Minas de Riotinto</th>\n      <td>127.0</td>\n      <td>6.0</td>\n      <td>10.0</td>\n      <td>3812.0</td>\n      <td>157.397692</td>\n      <td>262.329486</td>\n      <td>0.0</td>\n      <td>0.600000</td>\n    </tr>\n    <tr>\n      <th>Palos de la Frontera</th>\n      <td>681.0</td>\n      <td>38.0</td>\n      <td>60.0</td>\n      <td>11742.0</td>\n      <td>323.624595</td>\n      <td>510.986203</td>\n      <td>2.0</td>\n      <td>0.633333</td>\n    </tr>\n    <tr>\n      <th>Villarrasa</th>\n      <td>177.0</td>\n      <td>9.0</td>\n      <td>14.0</td>\n      <td>2211.0</td>\n      <td>407.055631</td>\n      <td>633.197648</td>\n      <td>0.0</td>\n      <td>0.642857</td>\n    </tr>\n    <tr>\n      <th>Cumbres Mayores</th>\n      <td>53.0</td>\n      <td>2.0</td>\n      <td>3.0</td>\n      <td>1749.0</td>\n      <td>114.351058</td>\n      <td>171.526587</td>\n      <td>1.0</td>\n      <td>0.666667</td>\n    </tr>\n    <tr>\n      <th>Puebla de Guzmán</th>\n      <td>120.0</td>\n      <td>6.0</td>\n      <td>8.0</td>\n      <td>3092.0</td>\n      <td>194.049159</td>\n      <td>258.732212</td>\n      <td>0.0</td>\n      <td>0.750000</td>\n    </tr>\n    <tr>\n      <th>Cortegana</th>\n      <td>214.0</td>\n      <td>12.0</td>\n      <td>14.0</td>\n      <td>4602.0</td>\n      <td>260.756193</td>\n      <td>304.215558</td>\n      <td>0.0</td>\n      <td>0.857143</td>\n    </tr>\n    <tr>\n      <th>Campillo (El)</th>\n      <td>73.0</td>\n      <td>1.0</td>\n      <td>1.0</td>\n      <td>2024.0</td>\n      <td>49.407115</td>\n      <td>49.407115</td>\n      <td>0.0</td>\n      <td>1.000000</td>\n    </tr>\n    <tr>\n      <th>Aroche</th>\n      <td>91.0</td>\n      <td>1.0</td>\n      <td>1.0</td>\n      <td>3054.0</td>\n      <td>32.743942</td>\n      <td>32.743942</td>\n      <td>0.0</td>\n      <td>1.000000</td>\n    </tr>\n    <tr>\n      <th>Campofrío</th>\n      <td>10.0</td>\n      <td>1.0</td>\n      <td>1.0</td>\n      <td>713.0</td>\n      <td>140.252454</td>\n      <td>140.252454</td>\n      <td>0.0</td>\n      <td>1.000000</td>\n    </tr>\n    <tr>\n      <th>Galaroza</th>\n      <td>42.0</td>\n      <td>1.0</td>\n      <td>1.0</td>\n      <td>1382.0</td>\n      <td>72.358900</td>\n      <td>72.358900</td>\n      <td>0.0</td>\n      <td>1.000000</td>\n    </tr>\n    <tr>\n      <th>Alosno</th>\n      <td>168.0</td>\n      <td>2.0</td>\n      <td>2.0</td>\n      <td>3933.0</td>\n      <td>50.851767</td>\n      <td>50.851767</td>\n      <td>0.0</td>\n      <td>1.000000</td>\n    </tr>\n  </tbody>\n</table>\n</div>"
     },
     "metadata": {},
     "execution_count": 18
    }
   ],
   "source": [
    "# Peso de la tasa de la última semana en relación con la tasa a 14 días \n",
    "# Mejor cuanto menor. Valor 1 significa que no había casos antes de 7 días.\n",
    "tabla['7/14'] = tabla['tasa7'] / tabla['tasa14']\n",
    "tabla.fillna(0).sort_values('7/14', ascending=True)"
   ]
  },
  {
   "cell_type": "code",
   "execution_count": null,
   "metadata": {},
   "outputs": [],
   "source": []
  }
 ]
}