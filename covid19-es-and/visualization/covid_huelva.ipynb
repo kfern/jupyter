{
 "metadata": {
  "language_info": {
   "codemirror_mode": {
    "name": "ipython",
    "version": 3
   },
   "file_extension": ".py",
   "mimetype": "text/x-python",
   "name": "python",
   "nbconvert_exporter": "python",
   "pygments_lexer": "ipython3",
   "version": "3.8.6"
  },
  "orig_nbformat": 2,
  "kernelspec": {
   "name": "python3",
   "display_name": "Python 3.8.6 64-bit"
  },
  "interpreter": {
   "hash": "31f2aee4e71d21fbe5cf8b01ff0e069b9275f58929596ceb00d14d90e3e16cd6"
  }
 },
 "nbformat": 4,
 "nbformat_minor": 2,
 "cells": [
  {
   "cell_type": "code",
   "execution_count": 1,
   "metadata": {},
   "outputs": [],
   "source": [
    "import pandas as pd\n",
    "pd.set_option('display.max_rows', None) # Print all rows"
   ]
  },
  {
   "cell_type": "code",
   "execution_count": 2,
   "metadata": {},
   "outputs": [],
   "source": [
    "# FIX SSL: CERTIFICATE_VERIFY_FAILED with Python3\n",
    "# https://stackoverflow.com/a/49174340\n",
    "import ssl\n",
    "\n",
    "ssl._create_default_https_context = ssl._create_unverified_context"
   ]
  },
  {
   "cell_type": "code",
   "execution_count": 3,
   "metadata": {},
   "outputs": [],
   "source": [
    "url = 'https://www.juntadeandalucia.es/institutodeestadisticaycartografia/badea/stpivot/stpivot/Print?cube=013d884c-cfc5-4c21-9e78-e26225682afd&type=3&foto=si&ejecutaDesde=&codConsulta=38668&consTipoVisua=JP'\n",
    "fields = ['Lugar de residencia', 'Medida', 'Valor']\n",
    "df = pd.read_csv(url, delimiter=';', usecols=fields, decimal=',')"
   ]
  },
  {
   "cell_type": "code",
   "execution_count": 4,
   "metadata": {},
   "outputs": [
    {
     "output_type": "execute_result",
     "data": {
      "text/plain": [
       "  Lugar de residencia                    Medida               Valor\n",
       "0              Huelva                 Población              513170\n",
       "1              Huelva          Confirmados PDIA               33468\n",
       "2              Huelva  Confirmados PDIA 14 días                 883\n",
       "3              Huelva         Tasa PDIA 14 días  172,06773583802638\n",
       "4              Huelva   Confirmados PDIA 7 días                 378\n",
       "5              Huelva        Total Confirmados                33653\n",
       "6              Huelva                   Curados               31836\n",
       "7              Huelva                Fallecidos                 390"
      ],
      "text/html": "<div>\n<style scoped>\n    .dataframe tbody tr th:only-of-type {\n        vertical-align: middle;\n    }\n\n    .dataframe tbody tr th {\n        vertical-align: top;\n    }\n\n    .dataframe thead th {\n        text-align: right;\n    }\n</style>\n<table border=\"1\" class=\"dataframe\">\n  <thead>\n    <tr style=\"text-align: right;\">\n      <th></th>\n      <th>Lugar de residencia</th>\n      <th>Medida</th>\n      <th>Valor</th>\n    </tr>\n  </thead>\n  <tbody>\n    <tr>\n      <th>0</th>\n      <td>Huelva</td>\n      <td>Población</td>\n      <td>513170</td>\n    </tr>\n    <tr>\n      <th>1</th>\n      <td>Huelva</td>\n      <td>Confirmados PDIA</td>\n      <td>33468</td>\n    </tr>\n    <tr>\n      <th>2</th>\n      <td>Huelva</td>\n      <td>Confirmados PDIA 14 días</td>\n      <td>883</td>\n    </tr>\n    <tr>\n      <th>3</th>\n      <td>Huelva</td>\n      <td>Tasa PDIA 14 días</td>\n      <td>172,06773583802638</td>\n    </tr>\n    <tr>\n      <th>4</th>\n      <td>Huelva</td>\n      <td>Confirmados PDIA 7 días</td>\n      <td>378</td>\n    </tr>\n    <tr>\n      <th>5</th>\n      <td>Huelva</td>\n      <td>Total Confirmados</td>\n      <td>33653</td>\n    </tr>\n    <tr>\n      <th>6</th>\n      <td>Huelva</td>\n      <td>Curados</td>\n      <td>31836</td>\n    </tr>\n    <tr>\n      <th>7</th>\n      <td>Huelva</td>\n      <td>Fallecidos</td>\n      <td>390</td>\n    </tr>\n  </tbody>\n</table>\n</div>"
     },
     "metadata": {},
     "execution_count": 4
    }
   ],
   "source": [
    "df[df['Lugar de residencia'] == 'Huelva']"
   ]
  },
  {
   "cell_type": "code",
   "execution_count": 5,
   "metadata": {},
   "outputs": [],
   "source": [
    "df['Valor'] = pd.to_numeric(df['Valor'],errors='coerce')"
   ]
  },
  {
   "cell_type": "code",
   "execution_count": 6,
   "metadata": {},
   "outputs": [],
   "source": [
    "dfAnterior = pd.read_csv('covid_huelva.csv', index_col='Lugar de residencia')"
   ]
  },
  {
   "cell_type": "code",
   "execution_count": 7,
   "metadata": {
    "tags": []
   },
   "outputs": [
    {
     "output_type": "stream",
     "name": "stdout",
     "text": [
      "Confirmados PCR en la provincia de Huelva:  33468.0\n",
      "<ipython-input-7-31b732756b19>:2: UserWarning: Boolean Series key will be reindexed to match DataFrame index.\n",
      "  p = df[df['Lugar de residencia'] == 'Huelva'][df['Medida'] == 'Confirmados PDIA']['Valor'].values[0]\n"
     ]
    }
   ],
   "source": [
    "# Confirmados PCR provincia Huelva\n",
    "p = df[df['Lugar de residencia'] == 'Huelva'][df['Medida'] == 'Confirmados PDIA']['Valor'].values[0]\n",
    "print('Confirmados PCR en la provincia de Huelva: ', p)"
   ]
  },
  {
   "cell_type": "code",
   "execution_count": 8,
   "metadata": {
    "tags": []
   },
   "outputs": [
    {
     "output_type": "stream",
     "name": "stdout",
     "text": [
      "Confirmados PCR en Huelva capital:  9166.0\n",
      "<ipython-input-8-e81bfb40e710>:2: UserWarning: Boolean Series key will be reindexed to match DataFrame index.\n",
      "  c = df[df['Lugar de residencia'] == 'Huelva (capital)'][df['Medida'] == 'Confirmados PDIA']['Valor'].values[0]\n"
     ]
    }
   ],
   "source": [
    "# Confirmados PCR Huelva capitalpd\n",
    "c = df[df['Lugar de residencia'] == 'Huelva (capital)'][df['Medida'] == 'Confirmados PDIA']['Valor'].values[0]\n",
    "print('Confirmados PCR en Huelva capital: ', c)"
   ]
  },
  {
   "cell_type": "code",
   "execution_count": 9,
   "metadata": {
    "tags": []
   },
   "outputs": [
    {
     "output_type": "stream",
     "name": "stderr",
     "text": [
      "<ipython-input-9-f09dd2050cc1>:1: UserWarning: Boolean Series key will be reindexed to match DataFrame index.\n  c7 = df[df['Lugar de residencia'] == 'Huelva (capital)'][df['Medida'] == 'Confirmados PDIA 7 días']['Valor'].values[0]\n<ipython-input-9-f09dd2050cc1>:2: UserWarning: Boolean Series key will be reindexed to match DataFrame index.\n  c14 = df[df['Lugar de residencia'] == 'Huelva (capital)'][df['Medida'] == 'Confirmados PDIA 14 días']['Valor'].values[0]\n<ipython-input-9-f09dd2050cc1>:3: UserWarning: Boolean Series key will be reindexed to match DataFrame index.\n  p = df[df['Lugar de residencia'] == 'Huelva (capital)'][df['Medida'] == 'Población']['Valor'].values[0]\n"
     ]
    }
   ],
   "source": [
    "c7 = df[df['Lugar de residencia'] == 'Huelva (capital)'][df['Medida'] == 'Confirmados PDIA 7 días']['Valor'].values[0]\n",
    "c14 = df[df['Lugar de residencia'] == 'Huelva (capital)'][df['Medida'] == 'Confirmados PDIA 14 días']['Valor'].values[0]\n",
    "p = df[df['Lugar de residencia'] == 'Huelva (capital)'][df['Medida'] == 'Población']['Valor'].values[0]"
   ]
  },
  {
   "cell_type": "code",
   "execution_count": 10,
   "metadata": {
    "tags": []
   },
   "outputs": [
    {
     "output_type": "stream",
     "name": "stdout",
     "text": [
      "Huelva (capital)\n\nUn positivo PCR cada 1320 personas en los últimos 7 días \n\nUn positivo PCR cada 486 personas en los últimos 14 días\n"
     ]
    }
   ],
   "source": [
    "print('Huelva (capital)\\n')\n",
    "#print('Confirmados PCR 7 días x 1,000 habitantes: ', f\"{c7/(p/1000):.5f}\")\n",
    "print('Un positivo PCR cada', f\"{p/c7:.0f}\", 'personas en los últimos 7 días', '\\n')\n",
    "#print('Confirmados PCR 14 días x 1,000 habitantes: ', f\"{c14/(p/1000):.5f}\")\n",
    "print('Un positivo PCR cada', f\"{p/c14:.0f}\", 'personas en los últimos 14 días')"
   ]
  },
  {
   "cell_type": "code",
   "execution_count": 11,
   "metadata": {},
   "outputs": [],
   "source": [
    "filtro = ((df['Medida'] == 'Confirmados PDIA')| (df['Medida'] == 'Confirmados PDIA 7 días') | (df['Medida'] == 'Población' ) | (df['Medida'] == 'Confirmados PDIA 14 días')) & (df['Valor'] > 0)\n",
    "tabla = pd.pivot_table(df.loc[filtro], values='Valor', index='Lugar de residencia', columns='Medida').dropna()"
   ]
  },
  {
   "cell_type": "code",
   "execution_count": 12,
   "metadata": {},
   "outputs": [],
   "source": [
    "# Reorder columns\n",
    "tabla = tabla[['Confirmados PDIA', 'Confirmados PDIA 7 días', 'Confirmados PDIA 14 días', 'Población']]"
   ]
  },
  {
   "cell_type": "code",
   "execution_count": 13,
   "metadata": {},
   "outputs": [],
   "source": [
    "tabla['tasa7'] = tabla['Confirmados PDIA 7 días']/tabla['Población']*100000\n",
    "tabla['tasa14'] = tabla['Confirmados PDIA 14 días']/tabla['Población']*100000"
   ]
  },
  {
   "cell_type": "code",
   "execution_count": 14,
   "metadata": {},
   "outputs": [],
   "source": [
    "tabla['Diferencia PDIA'] = tabla['Confirmados PDIA'] - dfAnterior['Confirmados PDIA']"
   ]
  },
  {
   "cell_type": "code",
   "execution_count": 15,
   "metadata": {},
   "outputs": [
    {
     "output_type": "execute_result",
     "data": {
      "text/plain": [
       "Medida                             Confirmados PDIA  Confirmados PDIA 7 días  \\\n",
       "Lugar de residencia                                                            \n",
       "Huelva                                      33468.0                    378.0   \n",
       "Huelva-Costa                                19293.0                    236.0   \n",
       "Huelva (capital)                             9166.0                    109.0   \n",
       "Ayamonte                                     1362.0                     28.0   \n",
       "Sierra de Huelva-Andévalo Central            2946.0                     23.0   \n",
       "Aljaraque                                    1181.0                     19.0   \n",
       "Condado-Campiña                             10875.0                    118.0   \n",
       "Aroche                                         94.0                      3.0   \n",
       "Cartaya                                      1412.0                     27.0   \n",
       "Isla Cristina                                2196.0                     14.0   \n",
       "Palma del Condado (La)                       1198.0                      9.0   \n",
       "Valverde del Camino                           666.0                      7.0   \n",
       "Moguer                                       1414.0                     28.0   \n",
       "Lucena del Puerto                             268.0                      1.0   \n",
       "Puebla de Guzmán                              142.0                      1.0   \n",
       "Rosal de la Frontera                           33.0                      2.0   \n",
       "San Bartolomé de la Torre                     308.0                      1.0   \n",
       "\n",
       "Medida                             Confirmados PDIA 14 días  Población  \\\n",
       "Lugar de residencia                                                      \n",
       "Huelva                                                883.0   513170.0   \n",
       "Huelva-Costa                                          508.0   289548.0   \n",
       "Huelva (capital)                                      296.0   143837.0   \n",
       "Ayamonte                                               30.0    21104.0   \n",
       "Sierra de Huelva-Andévalo Central                      64.0    67391.0   \n",
       "Aljaraque                                              27.0    21474.0   \n",
       "Condado-Campiña                                       308.0   156231.0   \n",
       "Aroche                                                  3.0     3054.0   \n",
       "Cartaya                                                48.0    20083.0   \n",
       "Isla Cristina                                          30.0    21393.0   \n",
       "Palma del Condado (La)                                 23.0    10801.0   \n",
       "Valverde del Camino                                    32.0    12750.0   \n",
       "Moguer                                                 59.0    21867.0   \n",
       "Lucena del Puerto                                       7.0     3261.0   \n",
       "Puebla de Guzmán                                        9.0     3092.0   \n",
       "Rosal de la Frontera                                    2.0     1697.0   \n",
       "San Bartolomé de la Torre                               4.0     3761.0   \n",
       "\n",
       "Medida                                  tasa7      tasa14  Diferencia PDIA  \n",
       "Lugar de residencia                                                         \n",
       "Huelva                              73.659801  172.067736             33.0  \n",
       "Huelva-Costa                        81.506348  175.445867             27.0  \n",
       "Huelva (capital)                    75.780223  205.788497             18.0  \n",
       "Ayamonte                           132.676270  142.153146              4.0  \n",
       "Sierra de Huelva-Andévalo Central   34.129186   94.968171              4.0  \n",
       "Aljaraque                           88.479091  125.733445              2.0  \n",
       "Condado-Campiña                     75.529184  197.143973              2.0  \n",
       "Aroche                              98.231827   98.231827              1.0  \n",
       "Cartaya                            134.442065  239.008116              1.0  \n",
       "Isla Cristina                       65.441967  140.232786              1.0  \n",
       "Palma del Condado (La)              83.325618  212.943246              1.0  \n",
       "Valverde del Camino                 54.901961  250.980392              1.0  \n",
       "Moguer                             128.046829  269.812960             -1.0  \n",
       "Lucena del Puerto                   30.665440  214.658080              NaN  \n",
       "Puebla de Guzmán                    32.341527  291.073739              NaN  \n",
       "Rosal de la Frontera               117.855038  117.855038              NaN  \n",
       "San Bartolomé de la Torre           26.588673  106.354693              NaN  "
      ],
      "text/html": "<div>\n<style scoped>\n    .dataframe tbody tr th:only-of-type {\n        vertical-align: middle;\n    }\n\n    .dataframe tbody tr th {\n        vertical-align: top;\n    }\n\n    .dataframe thead th {\n        text-align: right;\n    }\n</style>\n<table border=\"1\" class=\"dataframe\">\n  <thead>\n    <tr style=\"text-align: right;\">\n      <th>Medida</th>\n      <th>Confirmados PDIA</th>\n      <th>Confirmados PDIA 7 días</th>\n      <th>Confirmados PDIA 14 días</th>\n      <th>Población</th>\n      <th>tasa7</th>\n      <th>tasa14</th>\n      <th>Diferencia PDIA</th>\n    </tr>\n    <tr>\n      <th>Lugar de residencia</th>\n      <th></th>\n      <th></th>\n      <th></th>\n      <th></th>\n      <th></th>\n      <th></th>\n      <th></th>\n    </tr>\n  </thead>\n  <tbody>\n    <tr>\n      <th>Huelva</th>\n      <td>33468.0</td>\n      <td>378.0</td>\n      <td>883.0</td>\n      <td>513170.0</td>\n      <td>73.659801</td>\n      <td>172.067736</td>\n      <td>33.0</td>\n    </tr>\n    <tr>\n      <th>Huelva-Costa</th>\n      <td>19293.0</td>\n      <td>236.0</td>\n      <td>508.0</td>\n      <td>289548.0</td>\n      <td>81.506348</td>\n      <td>175.445867</td>\n      <td>27.0</td>\n    </tr>\n    <tr>\n      <th>Huelva (capital)</th>\n      <td>9166.0</td>\n      <td>109.0</td>\n      <td>296.0</td>\n      <td>143837.0</td>\n      <td>75.780223</td>\n      <td>205.788497</td>\n      <td>18.0</td>\n    </tr>\n    <tr>\n      <th>Ayamonte</th>\n      <td>1362.0</td>\n      <td>28.0</td>\n      <td>30.0</td>\n      <td>21104.0</td>\n      <td>132.676270</td>\n      <td>142.153146</td>\n      <td>4.0</td>\n    </tr>\n    <tr>\n      <th>Sierra de Huelva-Andévalo Central</th>\n      <td>2946.0</td>\n      <td>23.0</td>\n      <td>64.0</td>\n      <td>67391.0</td>\n      <td>34.129186</td>\n      <td>94.968171</td>\n      <td>4.0</td>\n    </tr>\n    <tr>\n      <th>Aljaraque</th>\n      <td>1181.0</td>\n      <td>19.0</td>\n      <td>27.0</td>\n      <td>21474.0</td>\n      <td>88.479091</td>\n      <td>125.733445</td>\n      <td>2.0</td>\n    </tr>\n    <tr>\n      <th>Condado-Campiña</th>\n      <td>10875.0</td>\n      <td>118.0</td>\n      <td>308.0</td>\n      <td>156231.0</td>\n      <td>75.529184</td>\n      <td>197.143973</td>\n      <td>2.0</td>\n    </tr>\n    <tr>\n      <th>Aroche</th>\n      <td>94.0</td>\n      <td>3.0</td>\n      <td>3.0</td>\n      <td>3054.0</td>\n      <td>98.231827</td>\n      <td>98.231827</td>\n      <td>1.0</td>\n    </tr>\n    <tr>\n      <th>Cartaya</th>\n      <td>1412.0</td>\n      <td>27.0</td>\n      <td>48.0</td>\n      <td>20083.0</td>\n      <td>134.442065</td>\n      <td>239.008116</td>\n      <td>1.0</td>\n    </tr>\n    <tr>\n      <th>Isla Cristina</th>\n      <td>2196.0</td>\n      <td>14.0</td>\n      <td>30.0</td>\n      <td>21393.0</td>\n      <td>65.441967</td>\n      <td>140.232786</td>\n      <td>1.0</td>\n    </tr>\n    <tr>\n      <th>Palma del Condado (La)</th>\n      <td>1198.0</td>\n      <td>9.0</td>\n      <td>23.0</td>\n      <td>10801.0</td>\n      <td>83.325618</td>\n      <td>212.943246</td>\n      <td>1.0</td>\n    </tr>\n    <tr>\n      <th>Valverde del Camino</th>\n      <td>666.0</td>\n      <td>7.0</td>\n      <td>32.0</td>\n      <td>12750.0</td>\n      <td>54.901961</td>\n      <td>250.980392</td>\n      <td>1.0</td>\n    </tr>\n    <tr>\n      <th>Moguer</th>\n      <td>1414.0</td>\n      <td>28.0</td>\n      <td>59.0</td>\n      <td>21867.0</td>\n      <td>128.046829</td>\n      <td>269.812960</td>\n      <td>-1.0</td>\n    </tr>\n    <tr>\n      <th>Lucena del Puerto</th>\n      <td>268.0</td>\n      <td>1.0</td>\n      <td>7.0</td>\n      <td>3261.0</td>\n      <td>30.665440</td>\n      <td>214.658080</td>\n      <td>NaN</td>\n    </tr>\n    <tr>\n      <th>Puebla de Guzmán</th>\n      <td>142.0</td>\n      <td>1.0</td>\n      <td>9.0</td>\n      <td>3092.0</td>\n      <td>32.341527</td>\n      <td>291.073739</td>\n      <td>NaN</td>\n    </tr>\n    <tr>\n      <th>Rosal de la Frontera</th>\n      <td>33.0</td>\n      <td>2.0</td>\n      <td>2.0</td>\n      <td>1697.0</td>\n      <td>117.855038</td>\n      <td>117.855038</td>\n      <td>NaN</td>\n    </tr>\n    <tr>\n      <th>San Bartolomé de la Torre</th>\n      <td>308.0</td>\n      <td>1.0</td>\n      <td>4.0</td>\n      <td>3761.0</td>\n      <td>26.588673</td>\n      <td>106.354693</td>\n      <td>NaN</td>\n    </tr>\n  </tbody>\n</table>\n</div>"
     },
     "metadata": {},
     "execution_count": 15
    }
   ],
   "source": [
    "# Nuevos casos desde la última captura\n",
    "tabla[tabla['Diferencia PDIA'] != 0].sort_values('Diferencia PDIA', ascending=False)"
   ]
  },
  {
   "cell_type": "code",
   "execution_count": 16,
   "metadata": {},
   "outputs": [],
   "source": [
    "if tabla[tabla['Diferencia PDIA'] != 0]['Diferencia PDIA'].sum() != 0:\n",
    "  # Save to csv\n",
    "  tabla.to_csv('covid_huelva.csv', encoding='utf-8', header=True, index=True)  "
   ]
  },
  {
   "cell_type": "code",
   "execution_count": 17,
   "metadata": {},
   "outputs": [
    {
     "output_type": "execute_result",
     "data": {
      "text/plain": [
       "Medida                             Confirmados PDIA  Confirmados PDIA 7 días  \\\n",
       "Lugar de residencia                                                            \n",
       "San Juan del Puerto                           593.0                     17.0   \n",
       "Cerro de Andévalo (El)                        156.0                      2.0   \n",
       "Puebla de Guzmán                              142.0                      1.0   \n",
       "Manzanilla                                    109.0                      4.0   \n",
       "Palos de la Frontera                          731.0                     17.0   \n",
       "Moguer                                       1414.0                     28.0   \n",
       "Paymogo                                        78.0                      3.0   \n",
       "Valverde del Camino                           666.0                      7.0   \n",
       "Bonares                                       304.0                     10.0   \n",
       "Cartaya                                      1412.0                     27.0   \n",
       "Alosno                                        188.0                      9.0   \n",
       "Lucena del Puerto                             268.0                      1.0   \n",
       "Palma del Condado (La)                       1198.0                      9.0   \n",
       "Santa Ana la Real                              11.0                      1.0   \n",
       "Huelva (capital)                             9166.0                    109.0   \n",
       "Rociana del Condado                           578.0                      6.0   \n",
       "Condado-Campiña                             10875.0                    118.0   \n",
       "Almonte                                      1919.0                     13.0   \n",
       "Huelva-Costa                                19293.0                    236.0   \n",
       "Huelva                                      33468.0                    378.0   \n",
       "Zarza-Perrunal (La)                            27.0                      1.0   \n",
       "Ayamonte                                     1362.0                     28.0   \n",
       "Isla Cristina                                2196.0                     14.0   \n",
       "Bollullos Par del Condado                    1038.0                      6.0   \n",
       "Aljaraque                                    1181.0                     19.0   \n",
       "Rosal de la Frontera                           33.0                      2.0   \n",
       "Punta Umbría                                  858.0                     10.0   \n",
       "Lepe                                         2182.0                     15.0   \n",
       "Trigueros                                     334.0                      1.0   \n",
       "Almonaster la Real                             70.0                      1.0   \n",
       "Gibraleón                                     655.0                      4.0   \n",
       "San Bartolomé de la Torre                     308.0                      1.0   \n",
       "Villablanca                                   192.0                      1.0   \n",
       "Aroche                                         94.0                      3.0   \n",
       "Sierra de Huelva-Andévalo Central            2946.0                     23.0   \n",
       "Jabugo                                         67.0                      2.0   \n",
       "Campillo (El)                                  74.0                      1.0   \n",
       "Cortegana                                     216.0                      1.0   \n",
       "Aracena                                       541.0                      2.0   \n",
       "Villalba del Alcor                            482.0                      1.0   \n",
       "\n",
       "Medida                             Confirmados PDIA 14 días  Población  \\\n",
       "Lugar de residencia                                                      \n",
       "San Juan del Puerto                                    39.0     9411.0   \n",
       "Cerro de Andévalo (El)                                  9.0     2327.0   \n",
       "Puebla de Guzmán                                        9.0     3092.0   \n",
       "Manzanilla                                              6.0     2118.0   \n",
       "Palos de la Frontera                                   32.0    11742.0   \n",
       "Moguer                                                 59.0    21867.0   \n",
       "Paymogo                                                 3.0     1162.0   \n",
       "Valverde del Camino                                    32.0    12750.0   \n",
       "Bonares                                                15.0     6060.0   \n",
       "Cartaya                                                48.0    20083.0   \n",
       "Alosno                                                  9.0     3933.0   \n",
       "Lucena del Puerto                                       7.0     3261.0   \n",
       "Palma del Condado (La)                                 23.0    10801.0   \n",
       "Santa Ana la Real                                       1.0      475.0   \n",
       "Huelva (capital)                                      296.0   143837.0   \n",
       "Rociana del Condado                                    16.0     7939.0   \n",
       "Condado-Campiña                                       308.0   156231.0   \n",
       "Almonte                                                47.0    24507.0   \n",
       "Huelva-Costa                                          508.0   289548.0   \n",
       "Huelva                                                883.0   513170.0   \n",
       "Zarza-Perrunal (La)                                     2.0     1253.0   \n",
       "Ayamonte                                               30.0    21104.0   \n",
       "Isla Cristina                                          30.0    21393.0   \n",
       "Bollullos Par del Condado                              19.0    14387.0   \n",
       "Aljaraque                                              27.0    21474.0   \n",
       "Rosal de la Frontera                                    2.0     1697.0   \n",
       "Punta Umbría                                           18.0    15355.0   \n",
       "Lepe                                                   32.0    27880.0   \n",
       "Trigueros                                               9.0     7862.0   \n",
       "Almonaster la Real                                      2.0     1788.0   \n",
       "Gibraleón                                              14.0    12737.0   \n",
       "San Bartolomé de la Torre                               4.0     3761.0   \n",
       "Villablanca                                             3.0     2885.0   \n",
       "Aroche                                                  3.0     3054.0   \n",
       "Sierra de Huelva-Andévalo Central                      64.0    67391.0   \n",
       "Jabugo                                                  2.0     2260.0   \n",
       "Campillo (El)                                           1.0     2024.0   \n",
       "Cortegana                                               2.0     4602.0   \n",
       "Aracena                                                 3.0     8255.0   \n",
       "Villalba del Alcor                                      1.0     3366.0   \n",
       "\n",
       "Medida                                  tasa7      tasa14  Diferencia PDIA  \n",
       "Lugar de residencia                                                         \n",
       "San Juan del Puerto                180.639677  414.408671              0.0  \n",
       "Cerro de Andévalo (El)              85.947572  386.764074              0.0  \n",
       "Puebla de Guzmán                    32.341527  291.073739              NaN  \n",
       "Manzanilla                         188.857413  283.286119              0.0  \n",
       "Palos de la Frontera               144.779424  272.525975              0.0  \n",
       "Moguer                             128.046829  269.812960             -1.0  \n",
       "Paymogo                            258.175559  258.175559              0.0  \n",
       "Valverde del Camino                 54.901961  250.980392              1.0  \n",
       "Bonares                            165.016502  247.524752              0.0  \n",
       "Cartaya                            134.442065  239.008116              1.0  \n",
       "Alosno                             228.832952  228.832952              0.0  \n",
       "Lucena del Puerto                   30.665440  214.658080              NaN  \n",
       "Palma del Condado (La)              83.325618  212.943246              1.0  \n",
       "Santa Ana la Real                  210.526316  210.526316              0.0  \n",
       "Huelva (capital)                    75.780223  205.788497             18.0  \n",
       "Rociana del Condado                 75.576269  201.536717              0.0  \n",
       "Condado-Campiña                     75.529184  197.143973              2.0  \n",
       "Almonte                             53.046068  191.781940              0.0  \n",
       "Huelva-Costa                        81.506348  175.445867             27.0  \n",
       "Huelva                              73.659801  172.067736             33.0  \n",
       "Zarza-Perrunal (La)                 79.808460  159.616919              0.0  \n",
       "Ayamonte                           132.676270  142.153146              4.0  \n",
       "Isla Cristina                       65.441967  140.232786              1.0  \n",
       "Bollullos Par del Condado           41.704316  132.063669              0.0  \n",
       "Aljaraque                           88.479091  125.733445              2.0  \n",
       "Rosal de la Frontera               117.855038  117.855038              NaN  \n",
       "Punta Umbría                        65.125366  117.225659              0.0  \n",
       "Lepe                                53.802009  114.777618              0.0  \n",
       "Trigueros                           12.719410  114.474688              0.0  \n",
       "Almonaster la Real                  55.928412  111.856823              0.0  \n",
       "Gibraleón                           31.404569  109.915993              0.0  \n",
       "San Bartolomé de la Torre           26.588673  106.354693              NaN  \n",
       "Villablanca                         34.662045  103.986135              0.0  \n",
       "Aroche                              98.231827   98.231827              1.0  \n",
       "Sierra de Huelva-Andévalo Central   34.129186   94.968171              4.0  \n",
       "Jabugo                              88.495575   88.495575              0.0  \n",
       "Campillo (El)                       49.407115   49.407115              0.0  \n",
       "Cortegana                           21.729683   43.459365              0.0  \n",
       "Aracena                             24.227741   36.341611              0.0  \n",
       "Villalba del Alcor                  29.708853   29.708853              0.0  "
      ],
      "text/html": "<div>\n<style scoped>\n    .dataframe tbody tr th:only-of-type {\n        vertical-align: middle;\n    }\n\n    .dataframe tbody tr th {\n        vertical-align: top;\n    }\n\n    .dataframe thead th {\n        text-align: right;\n    }\n</style>\n<table border=\"1\" class=\"dataframe\">\n  <thead>\n    <tr style=\"text-align: right;\">\n      <th>Medida</th>\n      <th>Confirmados PDIA</th>\n      <th>Confirmados PDIA 7 días</th>\n      <th>Confirmados PDIA 14 días</th>\n      <th>Población</th>\n      <th>tasa7</th>\n      <th>tasa14</th>\n      <th>Diferencia PDIA</th>\n    </tr>\n    <tr>\n      <th>Lugar de residencia</th>\n      <th></th>\n      <th></th>\n      <th></th>\n      <th></th>\n      <th></th>\n      <th></th>\n      <th></th>\n    </tr>\n  </thead>\n  <tbody>\n    <tr>\n      <th>San Juan del Puerto</th>\n      <td>593.0</td>\n      <td>17.0</td>\n      <td>39.0</td>\n      <td>9411.0</td>\n      <td>180.639677</td>\n      <td>414.408671</td>\n      <td>0.0</td>\n    </tr>\n    <tr>\n      <th>Cerro de Andévalo (El)</th>\n      <td>156.0</td>\n      <td>2.0</td>\n      <td>9.0</td>\n      <td>2327.0</td>\n      <td>85.947572</td>\n      <td>386.764074</td>\n      <td>0.0</td>\n    </tr>\n    <tr>\n      <th>Puebla de Guzmán</th>\n      <td>142.0</td>\n      <td>1.0</td>\n      <td>9.0</td>\n      <td>3092.0</td>\n      <td>32.341527</td>\n      <td>291.073739</td>\n      <td>NaN</td>\n    </tr>\n    <tr>\n      <th>Manzanilla</th>\n      <td>109.0</td>\n      <td>4.0</td>\n      <td>6.0</td>\n      <td>2118.0</td>\n      <td>188.857413</td>\n      <td>283.286119</td>\n      <td>0.0</td>\n    </tr>\n    <tr>\n      <th>Palos de la Frontera</th>\n      <td>731.0</td>\n      <td>17.0</td>\n      <td>32.0</td>\n      <td>11742.0</td>\n      <td>144.779424</td>\n      <td>272.525975</td>\n      <td>0.0</td>\n    </tr>\n    <tr>\n      <th>Moguer</th>\n      <td>1414.0</td>\n      <td>28.0</td>\n      <td>59.0</td>\n      <td>21867.0</td>\n      <td>128.046829</td>\n      <td>269.812960</td>\n      <td>-1.0</td>\n    </tr>\n    <tr>\n      <th>Paymogo</th>\n      <td>78.0</td>\n      <td>3.0</td>\n      <td>3.0</td>\n      <td>1162.0</td>\n      <td>258.175559</td>\n      <td>258.175559</td>\n      <td>0.0</td>\n    </tr>\n    <tr>\n      <th>Valverde del Camino</th>\n      <td>666.0</td>\n      <td>7.0</td>\n      <td>32.0</td>\n      <td>12750.0</td>\n      <td>54.901961</td>\n      <td>250.980392</td>\n      <td>1.0</td>\n    </tr>\n    <tr>\n      <th>Bonares</th>\n      <td>304.0</td>\n      <td>10.0</td>\n      <td>15.0</td>\n      <td>6060.0</td>\n      <td>165.016502</td>\n      <td>247.524752</td>\n      <td>0.0</td>\n    </tr>\n    <tr>\n      <th>Cartaya</th>\n      <td>1412.0</td>\n      <td>27.0</td>\n      <td>48.0</td>\n      <td>20083.0</td>\n      <td>134.442065</td>\n      <td>239.008116</td>\n      <td>1.0</td>\n    </tr>\n    <tr>\n      <th>Alosno</th>\n      <td>188.0</td>\n      <td>9.0</td>\n      <td>9.0</td>\n      <td>3933.0</td>\n      <td>228.832952</td>\n      <td>228.832952</td>\n      <td>0.0</td>\n    </tr>\n    <tr>\n      <th>Lucena del Puerto</th>\n      <td>268.0</td>\n      <td>1.0</td>\n      <td>7.0</td>\n      <td>3261.0</td>\n      <td>30.665440</td>\n      <td>214.658080</td>\n      <td>NaN</td>\n    </tr>\n    <tr>\n      <th>Palma del Condado (La)</th>\n      <td>1198.0</td>\n      <td>9.0</td>\n      <td>23.0</td>\n      <td>10801.0</td>\n      <td>83.325618</td>\n      <td>212.943246</td>\n      <td>1.0</td>\n    </tr>\n    <tr>\n      <th>Santa Ana la Real</th>\n      <td>11.0</td>\n      <td>1.0</td>\n      <td>1.0</td>\n      <td>475.0</td>\n      <td>210.526316</td>\n      <td>210.526316</td>\n      <td>0.0</td>\n    </tr>\n    <tr>\n      <th>Huelva (capital)</th>\n      <td>9166.0</td>\n      <td>109.0</td>\n      <td>296.0</td>\n      <td>143837.0</td>\n      <td>75.780223</td>\n      <td>205.788497</td>\n      <td>18.0</td>\n    </tr>\n    <tr>\n      <th>Rociana del Condado</th>\n      <td>578.0</td>\n      <td>6.0</td>\n      <td>16.0</td>\n      <td>7939.0</td>\n      <td>75.576269</td>\n      <td>201.536717</td>\n      <td>0.0</td>\n    </tr>\n    <tr>\n      <th>Condado-Campiña</th>\n      <td>10875.0</td>\n      <td>118.0</td>\n      <td>308.0</td>\n      <td>156231.0</td>\n      <td>75.529184</td>\n      <td>197.143973</td>\n      <td>2.0</td>\n    </tr>\n    <tr>\n      <th>Almonte</th>\n      <td>1919.0</td>\n      <td>13.0</td>\n      <td>47.0</td>\n      <td>24507.0</td>\n      <td>53.046068</td>\n      <td>191.781940</td>\n      <td>0.0</td>\n    </tr>\n    <tr>\n      <th>Huelva-Costa</th>\n      <td>19293.0</td>\n      <td>236.0</td>\n      <td>508.0</td>\n      <td>289548.0</td>\n      <td>81.506348</td>\n      <td>175.445867</td>\n      <td>27.0</td>\n    </tr>\n    <tr>\n      <th>Huelva</th>\n      <td>33468.0</td>\n      <td>378.0</td>\n      <td>883.0</td>\n      <td>513170.0</td>\n      <td>73.659801</td>\n      <td>172.067736</td>\n      <td>33.0</td>\n    </tr>\n    <tr>\n      <th>Zarza-Perrunal (La)</th>\n      <td>27.0</td>\n      <td>1.0</td>\n      <td>2.0</td>\n      <td>1253.0</td>\n      <td>79.808460</td>\n      <td>159.616919</td>\n      <td>0.0</td>\n    </tr>\n    <tr>\n      <th>Ayamonte</th>\n      <td>1362.0</td>\n      <td>28.0</td>\n      <td>30.0</td>\n      <td>21104.0</td>\n      <td>132.676270</td>\n      <td>142.153146</td>\n      <td>4.0</td>\n    </tr>\n    <tr>\n      <th>Isla Cristina</th>\n      <td>2196.0</td>\n      <td>14.0</td>\n      <td>30.0</td>\n      <td>21393.0</td>\n      <td>65.441967</td>\n      <td>140.232786</td>\n      <td>1.0</td>\n    </tr>\n    <tr>\n      <th>Bollullos Par del Condado</th>\n      <td>1038.0</td>\n      <td>6.0</td>\n      <td>19.0</td>\n      <td>14387.0</td>\n      <td>41.704316</td>\n      <td>132.063669</td>\n      <td>0.0</td>\n    </tr>\n    <tr>\n      <th>Aljaraque</th>\n      <td>1181.0</td>\n      <td>19.0</td>\n      <td>27.0</td>\n      <td>21474.0</td>\n      <td>88.479091</td>\n      <td>125.733445</td>\n      <td>2.0</td>\n    </tr>\n    <tr>\n      <th>Rosal de la Frontera</th>\n      <td>33.0</td>\n      <td>2.0</td>\n      <td>2.0</td>\n      <td>1697.0</td>\n      <td>117.855038</td>\n      <td>117.855038</td>\n      <td>NaN</td>\n    </tr>\n    <tr>\n      <th>Punta Umbría</th>\n      <td>858.0</td>\n      <td>10.0</td>\n      <td>18.0</td>\n      <td>15355.0</td>\n      <td>65.125366</td>\n      <td>117.225659</td>\n      <td>0.0</td>\n    </tr>\n    <tr>\n      <th>Lepe</th>\n      <td>2182.0</td>\n      <td>15.0</td>\n      <td>32.0</td>\n      <td>27880.0</td>\n      <td>53.802009</td>\n      <td>114.777618</td>\n      <td>0.0</td>\n    </tr>\n    <tr>\n      <th>Trigueros</th>\n      <td>334.0</td>\n      <td>1.0</td>\n      <td>9.0</td>\n      <td>7862.0</td>\n      <td>12.719410</td>\n      <td>114.474688</td>\n      <td>0.0</td>\n    </tr>\n    <tr>\n      <th>Almonaster la Real</th>\n      <td>70.0</td>\n      <td>1.0</td>\n      <td>2.0</td>\n      <td>1788.0</td>\n      <td>55.928412</td>\n      <td>111.856823</td>\n      <td>0.0</td>\n    </tr>\n    <tr>\n      <th>Gibraleón</th>\n      <td>655.0</td>\n      <td>4.0</td>\n      <td>14.0</td>\n      <td>12737.0</td>\n      <td>31.404569</td>\n      <td>109.915993</td>\n      <td>0.0</td>\n    </tr>\n    <tr>\n      <th>San Bartolomé de la Torre</th>\n      <td>308.0</td>\n      <td>1.0</td>\n      <td>4.0</td>\n      <td>3761.0</td>\n      <td>26.588673</td>\n      <td>106.354693</td>\n      <td>NaN</td>\n    </tr>\n    <tr>\n      <th>Villablanca</th>\n      <td>192.0</td>\n      <td>1.0</td>\n      <td>3.0</td>\n      <td>2885.0</td>\n      <td>34.662045</td>\n      <td>103.986135</td>\n      <td>0.0</td>\n    </tr>\n    <tr>\n      <th>Aroche</th>\n      <td>94.0</td>\n      <td>3.0</td>\n      <td>3.0</td>\n      <td>3054.0</td>\n      <td>98.231827</td>\n      <td>98.231827</td>\n      <td>1.0</td>\n    </tr>\n    <tr>\n      <th>Sierra de Huelva-Andévalo Central</th>\n      <td>2946.0</td>\n      <td>23.0</td>\n      <td>64.0</td>\n      <td>67391.0</td>\n      <td>34.129186</td>\n      <td>94.968171</td>\n      <td>4.0</td>\n    </tr>\n    <tr>\n      <th>Jabugo</th>\n      <td>67.0</td>\n      <td>2.0</td>\n      <td>2.0</td>\n      <td>2260.0</td>\n      <td>88.495575</td>\n      <td>88.495575</td>\n      <td>0.0</td>\n    </tr>\n    <tr>\n      <th>Campillo (El)</th>\n      <td>74.0</td>\n      <td>1.0</td>\n      <td>1.0</td>\n      <td>2024.0</td>\n      <td>49.407115</td>\n      <td>49.407115</td>\n      <td>0.0</td>\n    </tr>\n    <tr>\n      <th>Cortegana</th>\n      <td>216.0</td>\n      <td>1.0</td>\n      <td>2.0</td>\n      <td>4602.0</td>\n      <td>21.729683</td>\n      <td>43.459365</td>\n      <td>0.0</td>\n    </tr>\n    <tr>\n      <th>Aracena</th>\n      <td>541.0</td>\n      <td>2.0</td>\n      <td>3.0</td>\n      <td>8255.0</td>\n      <td>24.227741</td>\n      <td>36.341611</td>\n      <td>0.0</td>\n    </tr>\n    <tr>\n      <th>Villalba del Alcor</th>\n      <td>482.0</td>\n      <td>1.0</td>\n      <td>1.0</td>\n      <td>3366.0</td>\n      <td>29.708853</td>\n      <td>29.708853</td>\n      <td>0.0</td>\n    </tr>\n  </tbody>\n</table>\n</div>"
     },
     "metadata": {},
     "execution_count": 17
    }
   ],
   "source": [
    "tabla.sort_values('tasa14', ascending=False)"
   ]
  },
  {
   "cell_type": "code",
   "execution_count": 18,
   "metadata": {},
   "outputs": [
    {
     "output_type": "execute_result",
     "data": {
      "text/plain": [
       "Medida                             Confirmados PDIA  Confirmados PDIA 7 días  \\\n",
       "Lugar de residencia                                                            \n",
       "Trigueros                                     334.0                      1.0   \n",
       "Puebla de Guzmán                              142.0                      1.0   \n",
       "Lucena del Puerto                             268.0                      1.0   \n",
       "Valverde del Camino                           666.0                      7.0   \n",
       "Cerro de Andévalo (El)                        156.0                      2.0   \n",
       "San Bartolomé de la Torre                     308.0                      1.0   \n",
       "Almonte                                      1919.0                     13.0   \n",
       "Gibraleón                                     655.0                      4.0   \n",
       "Bollullos Par del Condado                    1038.0                      6.0   \n",
       "Villablanca                                   192.0                      1.0   \n",
       "Sierra de Huelva-Andévalo Central            2946.0                     23.0   \n",
       "Huelva (capital)                             9166.0                    109.0   \n",
       "Rociana del Condado                           578.0                      6.0   \n",
       "Condado-Campiña                             10875.0                    118.0   \n",
       "Palma del Condado (La)                       1198.0                      9.0   \n",
       "Huelva                                      33468.0                    378.0   \n",
       "San Juan del Puerto                           593.0                     17.0   \n",
       "Huelva-Costa                                19293.0                    236.0   \n",
       "Isla Cristina                                2196.0                     14.0   \n",
       "Lepe                                         2182.0                     15.0   \n",
       "Moguer                                       1414.0                     28.0   \n",
       "Cortegana                                     216.0                      1.0   \n",
       "Almonaster la Real                             70.0                      1.0   \n",
       "Zarza-Perrunal (La)                            27.0                      1.0   \n",
       "Palos de la Frontera                          731.0                     17.0   \n",
       "Punta Umbría                                  858.0                     10.0   \n",
       "Cartaya                                      1412.0                     27.0   \n",
       "Aracena                                       541.0                      2.0   \n",
       "Manzanilla                                    109.0                      4.0   \n",
       "Bonares                                       304.0                     10.0   \n",
       "Aljaraque                                    1181.0                     19.0   \n",
       "Ayamonte                                     1362.0                     28.0   \n",
       "Paymogo                                        78.0                      3.0   \n",
       "Villalba del Alcor                            482.0                      1.0   \n",
       "Santa Ana la Real                              11.0                      1.0   \n",
       "Campillo (El)                                  74.0                      1.0   \n",
       "Aroche                                         94.0                      3.0   \n",
       "Alosno                                        188.0                      9.0   \n",
       "Rosal de la Frontera                           33.0                      2.0   \n",
       "Jabugo                                         67.0                      2.0   \n",
       "\n",
       "Medida                             Confirmados PDIA 14 días  Población  \\\n",
       "Lugar de residencia                                                      \n",
       "Trigueros                                               9.0     7862.0   \n",
       "Puebla de Guzmán                                        9.0     3092.0   \n",
       "Lucena del Puerto                                       7.0     3261.0   \n",
       "Valverde del Camino                                    32.0    12750.0   \n",
       "Cerro de Andévalo (El)                                  9.0     2327.0   \n",
       "San Bartolomé de la Torre                               4.0     3761.0   \n",
       "Almonte                                                47.0    24507.0   \n",
       "Gibraleón                                              14.0    12737.0   \n",
       "Bollullos Par del Condado                              19.0    14387.0   \n",
       "Villablanca                                             3.0     2885.0   \n",
       "Sierra de Huelva-Andévalo Central                      64.0    67391.0   \n",
       "Huelva (capital)                                      296.0   143837.0   \n",
       "Rociana del Condado                                    16.0     7939.0   \n",
       "Condado-Campiña                                       308.0   156231.0   \n",
       "Palma del Condado (La)                                 23.0    10801.0   \n",
       "Huelva                                                883.0   513170.0   \n",
       "San Juan del Puerto                                    39.0     9411.0   \n",
       "Huelva-Costa                                          508.0   289548.0   \n",
       "Isla Cristina                                          30.0    21393.0   \n",
       "Lepe                                                   32.0    27880.0   \n",
       "Moguer                                                 59.0    21867.0   \n",
       "Cortegana                                               2.0     4602.0   \n",
       "Almonaster la Real                                      2.0     1788.0   \n",
       "Zarza-Perrunal (La)                                     2.0     1253.0   \n",
       "Palos de la Frontera                                   32.0    11742.0   \n",
       "Punta Umbría                                           18.0    15355.0   \n",
       "Cartaya                                                48.0    20083.0   \n",
       "Aracena                                                 3.0     8255.0   \n",
       "Manzanilla                                              6.0     2118.0   \n",
       "Bonares                                                15.0     6060.0   \n",
       "Aljaraque                                              27.0    21474.0   \n",
       "Ayamonte                                               30.0    21104.0   \n",
       "Paymogo                                                 3.0     1162.0   \n",
       "Villalba del Alcor                                      1.0     3366.0   \n",
       "Santa Ana la Real                                       1.0      475.0   \n",
       "Campillo (El)                                           1.0     2024.0   \n",
       "Aroche                                                  3.0     3054.0   \n",
       "Alosno                                                  9.0     3933.0   \n",
       "Rosal de la Frontera                                    2.0     1697.0   \n",
       "Jabugo                                                  2.0     2260.0   \n",
       "\n",
       "Medida                                  tasa7      tasa14  Diferencia PDIA  \\\n",
       "Lugar de residencia                                                          \n",
       "Trigueros                           12.719410  114.474688              0.0   \n",
       "Puebla de Guzmán                    32.341527  291.073739              0.0   \n",
       "Lucena del Puerto                   30.665440  214.658080              0.0   \n",
       "Valverde del Camino                 54.901961  250.980392              1.0   \n",
       "Cerro de Andévalo (El)              85.947572  386.764074              0.0   \n",
       "San Bartolomé de la Torre           26.588673  106.354693              0.0   \n",
       "Almonte                             53.046068  191.781940              0.0   \n",
       "Gibraleón                           31.404569  109.915993              0.0   \n",
       "Bollullos Par del Condado           41.704316  132.063669              0.0   \n",
       "Villablanca                         34.662045  103.986135              0.0   \n",
       "Sierra de Huelva-Andévalo Central   34.129186   94.968171              4.0   \n",
       "Huelva (capital)                    75.780223  205.788497             18.0   \n",
       "Rociana del Condado                 75.576269  201.536717              0.0   \n",
       "Condado-Campiña                     75.529184  197.143973              2.0   \n",
       "Palma del Condado (La)              83.325618  212.943246              1.0   \n",
       "Huelva                              73.659801  172.067736             33.0   \n",
       "San Juan del Puerto                180.639677  414.408671              0.0   \n",
       "Huelva-Costa                        81.506348  175.445867             27.0   \n",
       "Isla Cristina                       65.441967  140.232786              1.0   \n",
       "Lepe                                53.802009  114.777618              0.0   \n",
       "Moguer                             128.046829  269.812960             -1.0   \n",
       "Cortegana                           21.729683   43.459365              0.0   \n",
       "Almonaster la Real                  55.928412  111.856823              0.0   \n",
       "Zarza-Perrunal (La)                 79.808460  159.616919              0.0   \n",
       "Palos de la Frontera               144.779424  272.525975              0.0   \n",
       "Punta Umbría                        65.125366  117.225659              0.0   \n",
       "Cartaya                            134.442065  239.008116              1.0   \n",
       "Aracena                             24.227741   36.341611              0.0   \n",
       "Manzanilla                         188.857413  283.286119              0.0   \n",
       "Bonares                            165.016502  247.524752              0.0   \n",
       "Aljaraque                           88.479091  125.733445              2.0   \n",
       "Ayamonte                           132.676270  142.153146              4.0   \n",
       "Paymogo                            258.175559  258.175559              0.0   \n",
       "Villalba del Alcor                  29.708853   29.708853              0.0   \n",
       "Santa Ana la Real                  210.526316  210.526316              0.0   \n",
       "Campillo (El)                       49.407115   49.407115              0.0   \n",
       "Aroche                              98.231827   98.231827              1.0   \n",
       "Alosno                             228.832952  228.832952              0.0   \n",
       "Rosal de la Frontera               117.855038  117.855038              0.0   \n",
       "Jabugo                              88.495575   88.495575              0.0   \n",
       "\n",
       "Medida                                 7/14  \n",
       "Lugar de residencia                          \n",
       "Trigueros                          0.111111  \n",
       "Puebla de Guzmán                   0.111111  \n",
       "Lucena del Puerto                  0.142857  \n",
       "Valverde del Camino                0.218750  \n",
       "Cerro de Andévalo (El)             0.222222  \n",
       "San Bartolomé de la Torre          0.250000  \n",
       "Almonte                            0.276596  \n",
       "Gibraleón                          0.285714  \n",
       "Bollullos Par del Condado          0.315789  \n",
       "Villablanca                        0.333333  \n",
       "Sierra de Huelva-Andévalo Central  0.359375  \n",
       "Huelva (capital)                   0.368243  \n",
       "Rociana del Condado                0.375000  \n",
       "Condado-Campiña                    0.383117  \n",
       "Palma del Condado (La)             0.391304  \n",
       "Huelva                             0.428086  \n",
       "San Juan del Puerto                0.435897  \n",
       "Huelva-Costa                       0.464567  \n",
       "Isla Cristina                      0.466667  \n",
       "Lepe                               0.468750  \n",
       "Moguer                             0.474576  \n",
       "Cortegana                          0.500000  \n",
       "Almonaster la Real                 0.500000  \n",
       "Zarza-Perrunal (La)                0.500000  \n",
       "Palos de la Frontera               0.531250  \n",
       "Punta Umbría                       0.555556  \n",
       "Cartaya                            0.562500  \n",
       "Aracena                            0.666667  \n",
       "Manzanilla                         0.666667  \n",
       "Bonares                            0.666667  \n",
       "Aljaraque                          0.703704  \n",
       "Ayamonte                           0.933333  \n",
       "Paymogo                            1.000000  \n",
       "Villalba del Alcor                 1.000000  \n",
       "Santa Ana la Real                  1.000000  \n",
       "Campillo (El)                      1.000000  \n",
       "Aroche                             1.000000  \n",
       "Alosno                             1.000000  \n",
       "Rosal de la Frontera               1.000000  \n",
       "Jabugo                             1.000000  "
      ],
      "text/html": "<div>\n<style scoped>\n    .dataframe tbody tr th:only-of-type {\n        vertical-align: middle;\n    }\n\n    .dataframe tbody tr th {\n        vertical-align: top;\n    }\n\n    .dataframe thead th {\n        text-align: right;\n    }\n</style>\n<table border=\"1\" class=\"dataframe\">\n  <thead>\n    <tr style=\"text-align: right;\">\n      <th>Medida</th>\n      <th>Confirmados PDIA</th>\n      <th>Confirmados PDIA 7 días</th>\n      <th>Confirmados PDIA 14 días</th>\n      <th>Población</th>\n      <th>tasa7</th>\n      <th>tasa14</th>\n      <th>Diferencia PDIA</th>\n      <th>7/14</th>\n    </tr>\n    <tr>\n      <th>Lugar de residencia</th>\n      <th></th>\n      <th></th>\n      <th></th>\n      <th></th>\n      <th></th>\n      <th></th>\n      <th></th>\n      <th></th>\n    </tr>\n  </thead>\n  <tbody>\n    <tr>\n      <th>Trigueros</th>\n      <td>334.0</td>\n      <td>1.0</td>\n      <td>9.0</td>\n      <td>7862.0</td>\n      <td>12.719410</td>\n      <td>114.474688</td>\n      <td>0.0</td>\n      <td>0.111111</td>\n    </tr>\n    <tr>\n      <th>Puebla de Guzmán</th>\n      <td>142.0</td>\n      <td>1.0</td>\n      <td>9.0</td>\n      <td>3092.0</td>\n      <td>32.341527</td>\n      <td>291.073739</td>\n      <td>0.0</td>\n      <td>0.111111</td>\n    </tr>\n    <tr>\n      <th>Lucena del Puerto</th>\n      <td>268.0</td>\n      <td>1.0</td>\n      <td>7.0</td>\n      <td>3261.0</td>\n      <td>30.665440</td>\n      <td>214.658080</td>\n      <td>0.0</td>\n      <td>0.142857</td>\n    </tr>\n    <tr>\n      <th>Valverde del Camino</th>\n      <td>666.0</td>\n      <td>7.0</td>\n      <td>32.0</td>\n      <td>12750.0</td>\n      <td>54.901961</td>\n      <td>250.980392</td>\n      <td>1.0</td>\n      <td>0.218750</td>\n    </tr>\n    <tr>\n      <th>Cerro de Andévalo (El)</th>\n      <td>156.0</td>\n      <td>2.0</td>\n      <td>9.0</td>\n      <td>2327.0</td>\n      <td>85.947572</td>\n      <td>386.764074</td>\n      <td>0.0</td>\n      <td>0.222222</td>\n    </tr>\n    <tr>\n      <th>San Bartolomé de la Torre</th>\n      <td>308.0</td>\n      <td>1.0</td>\n      <td>4.0</td>\n      <td>3761.0</td>\n      <td>26.588673</td>\n      <td>106.354693</td>\n      <td>0.0</td>\n      <td>0.250000</td>\n    </tr>\n    <tr>\n      <th>Almonte</th>\n      <td>1919.0</td>\n      <td>13.0</td>\n      <td>47.0</td>\n      <td>24507.0</td>\n      <td>53.046068</td>\n      <td>191.781940</td>\n      <td>0.0</td>\n      <td>0.276596</td>\n    </tr>\n    <tr>\n      <th>Gibraleón</th>\n      <td>655.0</td>\n      <td>4.0</td>\n      <td>14.0</td>\n      <td>12737.0</td>\n      <td>31.404569</td>\n      <td>109.915993</td>\n      <td>0.0</td>\n      <td>0.285714</td>\n    </tr>\n    <tr>\n      <th>Bollullos Par del Condado</th>\n      <td>1038.0</td>\n      <td>6.0</td>\n      <td>19.0</td>\n      <td>14387.0</td>\n      <td>41.704316</td>\n      <td>132.063669</td>\n      <td>0.0</td>\n      <td>0.315789</td>\n    </tr>\n    <tr>\n      <th>Villablanca</th>\n      <td>192.0</td>\n      <td>1.0</td>\n      <td>3.0</td>\n      <td>2885.0</td>\n      <td>34.662045</td>\n      <td>103.986135</td>\n      <td>0.0</td>\n      <td>0.333333</td>\n    </tr>\n    <tr>\n      <th>Sierra de Huelva-Andévalo Central</th>\n      <td>2946.0</td>\n      <td>23.0</td>\n      <td>64.0</td>\n      <td>67391.0</td>\n      <td>34.129186</td>\n      <td>94.968171</td>\n      <td>4.0</td>\n      <td>0.359375</td>\n    </tr>\n    <tr>\n      <th>Huelva (capital)</th>\n      <td>9166.0</td>\n      <td>109.0</td>\n      <td>296.0</td>\n      <td>143837.0</td>\n      <td>75.780223</td>\n      <td>205.788497</td>\n      <td>18.0</td>\n      <td>0.368243</td>\n    </tr>\n    <tr>\n      <th>Rociana del Condado</th>\n      <td>578.0</td>\n      <td>6.0</td>\n      <td>16.0</td>\n      <td>7939.0</td>\n      <td>75.576269</td>\n      <td>201.536717</td>\n      <td>0.0</td>\n      <td>0.375000</td>\n    </tr>\n    <tr>\n      <th>Condado-Campiña</th>\n      <td>10875.0</td>\n      <td>118.0</td>\n      <td>308.0</td>\n      <td>156231.0</td>\n      <td>75.529184</td>\n      <td>197.143973</td>\n      <td>2.0</td>\n      <td>0.383117</td>\n    </tr>\n    <tr>\n      <th>Palma del Condado (La)</th>\n      <td>1198.0</td>\n      <td>9.0</td>\n      <td>23.0</td>\n      <td>10801.0</td>\n      <td>83.325618</td>\n      <td>212.943246</td>\n      <td>1.0</td>\n      <td>0.391304</td>\n    </tr>\n    <tr>\n      <th>Huelva</th>\n      <td>33468.0</td>\n      <td>378.0</td>\n      <td>883.0</td>\n      <td>513170.0</td>\n      <td>73.659801</td>\n      <td>172.067736</td>\n      <td>33.0</td>\n      <td>0.428086</td>\n    </tr>\n    <tr>\n      <th>San Juan del Puerto</th>\n      <td>593.0</td>\n      <td>17.0</td>\n      <td>39.0</td>\n      <td>9411.0</td>\n      <td>180.639677</td>\n      <td>414.408671</td>\n      <td>0.0</td>\n      <td>0.435897</td>\n    </tr>\n    <tr>\n      <th>Huelva-Costa</th>\n      <td>19293.0</td>\n      <td>236.0</td>\n      <td>508.0</td>\n      <td>289548.0</td>\n      <td>81.506348</td>\n      <td>175.445867</td>\n      <td>27.0</td>\n      <td>0.464567</td>\n    </tr>\n    <tr>\n      <th>Isla Cristina</th>\n      <td>2196.0</td>\n      <td>14.0</td>\n      <td>30.0</td>\n      <td>21393.0</td>\n      <td>65.441967</td>\n      <td>140.232786</td>\n      <td>1.0</td>\n      <td>0.466667</td>\n    </tr>\n    <tr>\n      <th>Lepe</th>\n      <td>2182.0</td>\n      <td>15.0</td>\n      <td>32.0</td>\n      <td>27880.0</td>\n      <td>53.802009</td>\n      <td>114.777618</td>\n      <td>0.0</td>\n      <td>0.468750</td>\n    </tr>\n    <tr>\n      <th>Moguer</th>\n      <td>1414.0</td>\n      <td>28.0</td>\n      <td>59.0</td>\n      <td>21867.0</td>\n      <td>128.046829</td>\n      <td>269.812960</td>\n      <td>-1.0</td>\n      <td>0.474576</td>\n    </tr>\n    <tr>\n      <th>Cortegana</th>\n      <td>216.0</td>\n      <td>1.0</td>\n      <td>2.0</td>\n      <td>4602.0</td>\n      <td>21.729683</td>\n      <td>43.459365</td>\n      <td>0.0</td>\n      <td>0.500000</td>\n    </tr>\n    <tr>\n      <th>Almonaster la Real</th>\n      <td>70.0</td>\n      <td>1.0</td>\n      <td>2.0</td>\n      <td>1788.0</td>\n      <td>55.928412</td>\n      <td>111.856823</td>\n      <td>0.0</td>\n      <td>0.500000</td>\n    </tr>\n    <tr>\n      <th>Zarza-Perrunal (La)</th>\n      <td>27.0</td>\n      <td>1.0</td>\n      <td>2.0</td>\n      <td>1253.0</td>\n      <td>79.808460</td>\n      <td>159.616919</td>\n      <td>0.0</td>\n      <td>0.500000</td>\n    </tr>\n    <tr>\n      <th>Palos de la Frontera</th>\n      <td>731.0</td>\n      <td>17.0</td>\n      <td>32.0</td>\n      <td>11742.0</td>\n      <td>144.779424</td>\n      <td>272.525975</td>\n      <td>0.0</td>\n      <td>0.531250</td>\n    </tr>\n    <tr>\n      <th>Punta Umbría</th>\n      <td>858.0</td>\n      <td>10.0</td>\n      <td>18.0</td>\n      <td>15355.0</td>\n      <td>65.125366</td>\n      <td>117.225659</td>\n      <td>0.0</td>\n      <td>0.555556</td>\n    </tr>\n    <tr>\n      <th>Cartaya</th>\n      <td>1412.0</td>\n      <td>27.0</td>\n      <td>48.0</td>\n      <td>20083.0</td>\n      <td>134.442065</td>\n      <td>239.008116</td>\n      <td>1.0</td>\n      <td>0.562500</td>\n    </tr>\n    <tr>\n      <th>Aracena</th>\n      <td>541.0</td>\n      <td>2.0</td>\n      <td>3.0</td>\n      <td>8255.0</td>\n      <td>24.227741</td>\n      <td>36.341611</td>\n      <td>0.0</td>\n      <td>0.666667</td>\n    </tr>\n    <tr>\n      <th>Manzanilla</th>\n      <td>109.0</td>\n      <td>4.0</td>\n      <td>6.0</td>\n      <td>2118.0</td>\n      <td>188.857413</td>\n      <td>283.286119</td>\n      <td>0.0</td>\n      <td>0.666667</td>\n    </tr>\n    <tr>\n      <th>Bonares</th>\n      <td>304.0</td>\n      <td>10.0</td>\n      <td>15.0</td>\n      <td>6060.0</td>\n      <td>165.016502</td>\n      <td>247.524752</td>\n      <td>0.0</td>\n      <td>0.666667</td>\n    </tr>\n    <tr>\n      <th>Aljaraque</th>\n      <td>1181.0</td>\n      <td>19.0</td>\n      <td>27.0</td>\n      <td>21474.0</td>\n      <td>88.479091</td>\n      <td>125.733445</td>\n      <td>2.0</td>\n      <td>0.703704</td>\n    </tr>\n    <tr>\n      <th>Ayamonte</th>\n      <td>1362.0</td>\n      <td>28.0</td>\n      <td>30.0</td>\n      <td>21104.0</td>\n      <td>132.676270</td>\n      <td>142.153146</td>\n      <td>4.0</td>\n      <td>0.933333</td>\n    </tr>\n    <tr>\n      <th>Paymogo</th>\n      <td>78.0</td>\n      <td>3.0</td>\n      <td>3.0</td>\n      <td>1162.0</td>\n      <td>258.175559</td>\n      <td>258.175559</td>\n      <td>0.0</td>\n      <td>1.000000</td>\n    </tr>\n    <tr>\n      <th>Villalba del Alcor</th>\n      <td>482.0</td>\n      <td>1.0</td>\n      <td>1.0</td>\n      <td>3366.0</td>\n      <td>29.708853</td>\n      <td>29.708853</td>\n      <td>0.0</td>\n      <td>1.000000</td>\n    </tr>\n    <tr>\n      <th>Santa Ana la Real</th>\n      <td>11.0</td>\n      <td>1.0</td>\n      <td>1.0</td>\n      <td>475.0</td>\n      <td>210.526316</td>\n      <td>210.526316</td>\n      <td>0.0</td>\n      <td>1.000000</td>\n    </tr>\n    <tr>\n      <th>Campillo (El)</th>\n      <td>74.0</td>\n      <td>1.0</td>\n      <td>1.0</td>\n      <td>2024.0</td>\n      <td>49.407115</td>\n      <td>49.407115</td>\n      <td>0.0</td>\n      <td>1.000000</td>\n    </tr>\n    <tr>\n      <th>Aroche</th>\n      <td>94.0</td>\n      <td>3.0</td>\n      <td>3.0</td>\n      <td>3054.0</td>\n      <td>98.231827</td>\n      <td>98.231827</td>\n      <td>1.0</td>\n      <td>1.000000</td>\n    </tr>\n    <tr>\n      <th>Alosno</th>\n      <td>188.0</td>\n      <td>9.0</td>\n      <td>9.0</td>\n      <td>3933.0</td>\n      <td>228.832952</td>\n      <td>228.832952</td>\n      <td>0.0</td>\n      <td>1.000000</td>\n    </tr>\n    <tr>\n      <th>Rosal de la Frontera</th>\n      <td>33.0</td>\n      <td>2.0</td>\n      <td>2.0</td>\n      <td>1697.0</td>\n      <td>117.855038</td>\n      <td>117.855038</td>\n      <td>0.0</td>\n      <td>1.000000</td>\n    </tr>\n    <tr>\n      <th>Jabugo</th>\n      <td>67.0</td>\n      <td>2.0</td>\n      <td>2.0</td>\n      <td>2260.0</td>\n      <td>88.495575</td>\n      <td>88.495575</td>\n      <td>0.0</td>\n      <td>1.000000</td>\n    </tr>\n  </tbody>\n</table>\n</div>"
     },
     "metadata": {},
     "execution_count": 18
    }
   ],
   "source": [
    "# Peso de la tasa de la última semana en relación con la tasa a 14 días \n",
    "# Mejor cuanto menor. Valor 1 significa que no había casos antes de 7 días.\n",
    "tabla['7/14'] = tabla['tasa7'] / tabla['tasa14']\n",
    "tabla.fillna(0).sort_values('7/14', ascending=True)"
   ]
  },
  {
   "cell_type": "code",
   "execution_count": null,
   "metadata": {},
   "outputs": [],
   "source": []
  }
 ]
}