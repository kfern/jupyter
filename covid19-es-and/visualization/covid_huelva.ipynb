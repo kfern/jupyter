{
 "metadata": {
  "language_info": {
   "codemirror_mode": {
    "name": "ipython",
    "version": 3
   },
   "file_extension": ".py",
   "mimetype": "text/x-python",
   "name": "python",
   "nbconvert_exporter": "python",
   "pygments_lexer": "ipython3",
   "version": "3.8.6"
  },
  "orig_nbformat": 2,
  "kernelspec": {
   "name": "python3",
   "display_name": "Python 3.8.6 64-bit"
  },
  "interpreter": {
   "hash": "31f2aee4e71d21fbe5cf8b01ff0e069b9275f58929596ceb00d14d90e3e16cd6"
  }
 },
 "nbformat": 4,
 "nbformat_minor": 2,
 "cells": [
  {
   "cell_type": "code",
   "execution_count": 1,
   "metadata": {},
   "outputs": [],
   "source": [
    "import pandas as pd\n",
    "pd.set_option('display.max_rows', None) # Print all rows"
   ]
  },
  {
   "cell_type": "code",
   "execution_count": 2,
   "metadata": {},
   "outputs": [],
   "source": [
    "# FIX SSL: CERTIFICATE_VERIFY_FAILED with Python3\n",
    "# https://stackoverflow.com/a/49174340\n",
    "import ssl\n",
    "\n",
    "ssl._create_default_https_context = ssl._create_unverified_context"
   ]
  },
  {
   "cell_type": "code",
   "execution_count": 3,
   "metadata": {},
   "outputs": [],
   "source": [
    "url = 'https://www.juntadeandalucia.es/institutodeestadisticaycartografia/badea/stpivot/stpivot/Print?cube=013d884c-cfc5-4c21-9e78-e26225682afd&type=3&foto=si&ejecutaDesde=&codConsulta=38668&consTipoVisua=JP'\n",
    "fields = ['Lugar de residencia', 'Medida', 'Valor']\n",
    "df = pd.read_csv(url, delimiter=';', usecols=fields, decimal=',')"
   ]
  },
  {
   "cell_type": "code",
   "execution_count": 4,
   "metadata": {},
   "outputs": [
    {
     "output_type": "execute_result",
     "data": {
      "text/plain": [
       "  Lugar de residencia                    Medida               Valor\n",
       "0              Huelva                 Población              513170\n",
       "1              Huelva          Confirmados PDIA               32630\n",
       "2              Huelva  Confirmados PDIA 14 días                1349\n",
       "3              Huelva         Tasa PDIA 14 días  262,87585010815127\n",
       "4              Huelva   Confirmados PDIA 7 días                 581\n",
       "5              Huelva        Total Confirmados                32812\n",
       "6              Huelva                   Curados               30409\n",
       "7              Huelva                Fallecidos                 388"
      ],
      "text/html": "<div>\n<style scoped>\n    .dataframe tbody tr th:only-of-type {\n        vertical-align: middle;\n    }\n\n    .dataframe tbody tr th {\n        vertical-align: top;\n    }\n\n    .dataframe thead th {\n        text-align: right;\n    }\n</style>\n<table border=\"1\" class=\"dataframe\">\n  <thead>\n    <tr style=\"text-align: right;\">\n      <th></th>\n      <th>Lugar de residencia</th>\n      <th>Medida</th>\n      <th>Valor</th>\n    </tr>\n  </thead>\n  <tbody>\n    <tr>\n      <th>0</th>\n      <td>Huelva</td>\n      <td>Población</td>\n      <td>513170</td>\n    </tr>\n    <tr>\n      <th>1</th>\n      <td>Huelva</td>\n      <td>Confirmados PDIA</td>\n      <td>32630</td>\n    </tr>\n    <tr>\n      <th>2</th>\n      <td>Huelva</td>\n      <td>Confirmados PDIA 14 días</td>\n      <td>1349</td>\n    </tr>\n    <tr>\n      <th>3</th>\n      <td>Huelva</td>\n      <td>Tasa PDIA 14 días</td>\n      <td>262,87585010815127</td>\n    </tr>\n    <tr>\n      <th>4</th>\n      <td>Huelva</td>\n      <td>Confirmados PDIA 7 días</td>\n      <td>581</td>\n    </tr>\n    <tr>\n      <th>5</th>\n      <td>Huelva</td>\n      <td>Total Confirmados</td>\n      <td>32812</td>\n    </tr>\n    <tr>\n      <th>6</th>\n      <td>Huelva</td>\n      <td>Curados</td>\n      <td>30409</td>\n    </tr>\n    <tr>\n      <th>7</th>\n      <td>Huelva</td>\n      <td>Fallecidos</td>\n      <td>388</td>\n    </tr>\n  </tbody>\n</table>\n</div>"
     },
     "metadata": {},
     "execution_count": 4
    }
   ],
   "source": [
    "df[df['Lugar de residencia'] == 'Huelva']"
   ]
  },
  {
   "cell_type": "code",
   "execution_count": 5,
   "metadata": {},
   "outputs": [],
   "source": [
    "df['Valor'] = pd.to_numeric(df['Valor'],errors='coerce')"
   ]
  },
  {
   "cell_type": "code",
   "execution_count": 6,
   "metadata": {},
   "outputs": [],
   "source": [
    "dfAnterior = pd.read_csv('covid_huelva.csv', index_col='Lugar de residencia')"
   ]
  },
  {
   "cell_type": "code",
   "execution_count": 7,
   "metadata": {
    "tags": []
   },
   "outputs": [
    {
     "output_type": "stream",
     "name": "stdout",
     "text": [
      "Confirmados PCR en la provincia de Huelva:  32630.0\n",
      "<ipython-input-7-31b732756b19>:2: UserWarning: Boolean Series key will be reindexed to match DataFrame index.\n",
      "  p = df[df['Lugar de residencia'] == 'Huelva'][df['Medida'] == 'Confirmados PDIA']['Valor'].values[0]\n"
     ]
    }
   ],
   "source": [
    "# Confirmados PCR provincia Huelva\n",
    "p = df[df['Lugar de residencia'] == 'Huelva'][df['Medida'] == 'Confirmados PDIA']['Valor'].values[0]\n",
    "print('Confirmados PCR en la provincia de Huelva: ', p)"
   ]
  },
  {
   "cell_type": "code",
   "execution_count": 8,
   "metadata": {
    "tags": []
   },
   "outputs": [
    {
     "output_type": "stream",
     "name": "stdout",
     "text": [
      "Confirmados PCR en Huelva capital:  8883.0\n",
      "<ipython-input-8-e81bfb40e710>:2: UserWarning: Boolean Series key will be reindexed to match DataFrame index.\n",
      "  c = df[df['Lugar de residencia'] == 'Huelva (capital)'][df['Medida'] == 'Confirmados PDIA']['Valor'].values[0]\n"
     ]
    }
   ],
   "source": [
    "# Confirmados PCR Huelva capitalpd\n",
    "c = df[df['Lugar de residencia'] == 'Huelva (capital)'][df['Medida'] == 'Confirmados PDIA']['Valor'].values[0]\n",
    "print('Confirmados PCR en Huelva capital: ', c)"
   ]
  },
  {
   "cell_type": "code",
   "execution_count": 9,
   "metadata": {
    "tags": []
   },
   "outputs": [
    {
     "output_type": "stream",
     "name": "stderr",
     "text": [
      "<ipython-input-9-f09dd2050cc1>:1: UserWarning: Boolean Series key will be reindexed to match DataFrame index.\n  c7 = df[df['Lugar de residencia'] == 'Huelva (capital)'][df['Medida'] == 'Confirmados PDIA 7 días']['Valor'].values[0]\n<ipython-input-9-f09dd2050cc1>:2: UserWarning: Boolean Series key will be reindexed to match DataFrame index.\n  c14 = df[df['Lugar de residencia'] == 'Huelva (capital)'][df['Medida'] == 'Confirmados PDIA 14 días']['Valor'].values[0]\n<ipython-input-9-f09dd2050cc1>:3: UserWarning: Boolean Series key will be reindexed to match DataFrame index.\n  p = df[df['Lugar de residencia'] == 'Huelva (capital)'][df['Medida'] == 'Población']['Valor'].values[0]\n"
     ]
    }
   ],
   "source": [
    "c7 = df[df['Lugar de residencia'] == 'Huelva (capital)'][df['Medida'] == 'Confirmados PDIA 7 días']['Valor'].values[0]\n",
    "c14 = df[df['Lugar de residencia'] == 'Huelva (capital)'][df['Medida'] == 'Confirmados PDIA 14 días']['Valor'].values[0]\n",
    "p = df[df['Lugar de residencia'] == 'Huelva (capital)'][df['Medida'] == 'Población']['Valor'].values[0]"
   ]
  },
  {
   "cell_type": "code",
   "execution_count": 10,
   "metadata": {
    "tags": []
   },
   "outputs": [
    {
     "output_type": "stream",
     "name": "stdout",
     "text": [
      "Huelva (capital)\n\nUn positivo PCR cada 571 personas en los últimos 7 días \n\nUn positivo PCR cada 247 personas en los últimos 14 días\n"
     ]
    }
   ],
   "source": [
    "print('Huelva (capital)\\n')\n",
    "#print('Confirmados PCR 7 días x 1,000 habitantes: ', f\"{c7/(p/1000):.5f}\")\n",
    "print('Un positivo PCR cada', f\"{p/c7:.0f}\", 'personas en los últimos 7 días', '\\n')\n",
    "#print('Confirmados PCR 14 días x 1,000 habitantes: ', f\"{c14/(p/1000):.5f}\")\n",
    "print('Un positivo PCR cada', f\"{p/c14:.0f}\", 'personas en los últimos 14 días')"
   ]
  },
  {
   "cell_type": "code",
   "execution_count": 11,
   "metadata": {},
   "outputs": [],
   "source": [
    "filtro = ((df['Medida'] == 'Confirmados PDIA')| (df['Medida'] == 'Confirmados PDIA 7 días') | (df['Medida'] == 'Población' ) | (df['Medida'] == 'Confirmados PDIA 14 días')) & (df['Valor'] > 0)\n",
    "tabla = pd.pivot_table(df.loc[filtro], values='Valor', index='Lugar de residencia', columns='Medida').dropna()"
   ]
  },
  {
   "cell_type": "code",
   "execution_count": 12,
   "metadata": {},
   "outputs": [],
   "source": [
    "# Reorder columns\n",
    "tabla = tabla[['Confirmados PDIA', 'Confirmados PDIA 7 días', 'Confirmados PDIA 14 días', 'Población']]"
   ]
  },
  {
   "cell_type": "code",
   "execution_count": 13,
   "metadata": {},
   "outputs": [],
   "source": [
    "tabla['tasa7'] = tabla['Confirmados PDIA 7 días']/tabla['Población']*100000\n",
    "tabla['tasa14'] = tabla['Confirmados PDIA 14 días']/tabla['Población']*100000"
   ]
  },
  {
   "cell_type": "code",
   "execution_count": 14,
   "metadata": {},
   "outputs": [],
   "source": [
    "tabla['Diferencia PDIA'] = tabla['Confirmados PDIA'] - dfAnterior['Confirmados PDIA']"
   ]
  },
  {
   "cell_type": "code",
   "execution_count": 15,
   "metadata": {},
   "outputs": [
    {
     "output_type": "execute_result",
     "data": {
      "text/plain": [
       "Medida                             Confirmados PDIA  Confirmados PDIA 7 días  \\\n",
       "Lugar de residencia                                                            \n",
       "Huelva                                      32630.0                    581.0   \n",
       "Huelva-Costa                                18804.0                    355.0   \n",
       "Condado-Campiña                             10590.0                    173.0   \n",
       "Huelva (capital)                             8883.0                    252.0   \n",
       "Almonte                                      1878.0                     24.0   \n",
       "Sierra de Huelva-Andévalo Central            2885.0                     52.0   \n",
       "Bollullos Par del Condado                    1022.0                     17.0   \n",
       "Isla Cristina                                2170.0                     17.0   \n",
       "Valverde del Camino                           635.0                     24.0   \n",
       "Moguer                                       1357.0                     38.0   \n",
       "San Juan del Puerto                           557.0                     25.0   \n",
       "Palma del Condado (La)                       1177.0                     12.0   \n",
       "Bonares                                       291.0                      6.0   \n",
       "Calañas                                       199.0                      8.0   \n",
       "Trigueros                                     327.0                      7.0   \n",
       "Puebla de Guzmán                              134.0                     11.0   \n",
       "Aljaraque                                    1155.0                     25.0   \n",
       "Lucena del Puerto                             263.0                      5.0   \n",
       "Lepe                                         2151.0                      8.0   \n",
       "Beas                                          217.0                      4.0   \n",
       "Palos de la Frontera                          700.0                     13.0   \n",
       "Rociana del Condado                           561.0                      3.0   \n",
       "San Bartolomé de la Torre                     305.0                      5.0   \n",
       "Almonaster la Real                             68.0                      2.0   \n",
       "Ayamonte                                     1330.0                      8.0   \n",
       "Cartaya                                      1364.0                     10.0   \n",
       "Campillo (El)                                  74.0                      1.0   \n",
       "\n",
       "Medida                             Confirmados PDIA 14 días  Población  \\\n",
       "Lugar de residencia                                                      \n",
       "Huelva                                               1349.0   513170.0   \n",
       "Huelva-Costa                                          799.0   289548.0   \n",
       "Condado-Campiña                                       426.0   156231.0   \n",
       "Huelva (capital)                                      583.0   143837.0   \n",
       "Almonte                                                62.0    24507.0   \n",
       "Sierra de Huelva-Andévalo Central                     120.0    67391.0   \n",
       "Bollullos Par del Condado                              46.0    14387.0   \n",
       "Isla Cristina                                          22.0    21393.0   \n",
       "Valverde del Camino                                    60.0    12750.0   \n",
       "Moguer                                                 73.0    21867.0   \n",
       "San Juan del Puerto                                    57.0     9411.0   \n",
       "Palma del Condado (La)                                 28.0    10801.0   \n",
       "Bonares                                                20.0     6060.0   \n",
       "Calañas                                                 8.0     2768.0   \n",
       "Trigueros                                              22.0     7862.0   \n",
       "Puebla de Guzmán                                       18.0     3092.0   \n",
       "Aljaraque                                              64.0    21474.0   \n",
       "Lucena del Puerto                                      10.0     3261.0   \n",
       "Lepe                                                   24.0    27880.0   \n",
       "Beas                                                    7.0     4341.0   \n",
       "Palos de la Frontera                                   50.0    11742.0   \n",
       "Rociana del Condado                                     7.0     7939.0   \n",
       "San Bartolomé de la Torre                               7.0     3761.0   \n",
       "Almonaster la Real                                      2.0     1788.0   \n",
       "Ayamonte                                               12.0    21104.0   \n",
       "Cartaya                                                24.0    20083.0   \n",
       "Campillo (El)                                           2.0     2024.0   \n",
       "\n",
       "Medida                                  tasa7      tasa14  Diferencia PDIA  \n",
       "Lugar de residencia                                                         \n",
       "Huelva                             113.217842  262.875850            102.0  \n",
       "Huelva-Costa                       122.604888  275.947339             47.0  \n",
       "Condado-Campiña                    110.733465  272.673157             44.0  \n",
       "Huelva (capital)                   175.198315  405.319911             35.0  \n",
       "Almonte                             97.931203  252.988942             12.0  \n",
       "Sierra de Huelva-Andévalo Central   77.161639  178.065320             11.0  \n",
       "Bollullos Par del Condado          118.162230  319.733092              7.0  \n",
       "Isla Cristina                       79.465246  102.837377              6.0  \n",
       "Valverde del Camino                188.235294  470.588235              6.0  \n",
       "Moguer                             173.777839  333.836374              5.0  \n",
       "San Juan del Puerto                265.646584  605.674211              5.0  \n",
       "Palma del Condado (La)             111.100824  259.235256              3.0  \n",
       "Bonares                             99.009901  330.033003              3.0  \n",
       "Calañas                            289.017341  289.017341              3.0  \n",
       "Trigueros                           89.035869  279.827016              2.0  \n",
       "Puebla de Guzmán                   355.756792  582.147477              2.0  \n",
       "Aljaraque                          116.419857  298.034833              2.0  \n",
       "Lucena del Puerto                  153.327200  306.654400              2.0  \n",
       "Lepe                                28.694405   86.083214              2.0  \n",
       "Beas                                92.144667  161.253167              2.0  \n",
       "Palos de la Frontera               110.713677  425.821836              1.0  \n",
       "Rociana del Condado                 37.788135   88.172314              1.0  \n",
       "San Bartolomé de la Torre          132.943366  186.120713              1.0  \n",
       "Almonaster la Real                 111.856823  111.856823              1.0  \n",
       "Ayamonte                            37.907506   56.861259              1.0  \n",
       "Cartaya                             49.793358  119.504058             -1.0  \n",
       "Campillo (El)                       49.407115   98.814229              NaN  "
      ],
      "text/html": "<div>\n<style scoped>\n    .dataframe tbody tr th:only-of-type {\n        vertical-align: middle;\n    }\n\n    .dataframe tbody tr th {\n        vertical-align: top;\n    }\n\n    .dataframe thead th {\n        text-align: right;\n    }\n</style>\n<table border=\"1\" class=\"dataframe\">\n  <thead>\n    <tr style=\"text-align: right;\">\n      <th>Medida</th>\n      <th>Confirmados PDIA</th>\n      <th>Confirmados PDIA 7 días</th>\n      <th>Confirmados PDIA 14 días</th>\n      <th>Población</th>\n      <th>tasa7</th>\n      <th>tasa14</th>\n      <th>Diferencia PDIA</th>\n    </tr>\n    <tr>\n      <th>Lugar de residencia</th>\n      <th></th>\n      <th></th>\n      <th></th>\n      <th></th>\n      <th></th>\n      <th></th>\n      <th></th>\n    </tr>\n  </thead>\n  <tbody>\n    <tr>\n      <th>Huelva</th>\n      <td>32630.0</td>\n      <td>581.0</td>\n      <td>1349.0</td>\n      <td>513170.0</td>\n      <td>113.217842</td>\n      <td>262.875850</td>\n      <td>102.0</td>\n    </tr>\n    <tr>\n      <th>Huelva-Costa</th>\n      <td>18804.0</td>\n      <td>355.0</td>\n      <td>799.0</td>\n      <td>289548.0</td>\n      <td>122.604888</td>\n      <td>275.947339</td>\n      <td>47.0</td>\n    </tr>\n    <tr>\n      <th>Condado-Campiña</th>\n      <td>10590.0</td>\n      <td>173.0</td>\n      <td>426.0</td>\n      <td>156231.0</td>\n      <td>110.733465</td>\n      <td>272.673157</td>\n      <td>44.0</td>\n    </tr>\n    <tr>\n      <th>Huelva (capital)</th>\n      <td>8883.0</td>\n      <td>252.0</td>\n      <td>583.0</td>\n      <td>143837.0</td>\n      <td>175.198315</td>\n      <td>405.319911</td>\n      <td>35.0</td>\n    </tr>\n    <tr>\n      <th>Almonte</th>\n      <td>1878.0</td>\n      <td>24.0</td>\n      <td>62.0</td>\n      <td>24507.0</td>\n      <td>97.931203</td>\n      <td>252.988942</td>\n      <td>12.0</td>\n    </tr>\n    <tr>\n      <th>Sierra de Huelva-Andévalo Central</th>\n      <td>2885.0</td>\n      <td>52.0</td>\n      <td>120.0</td>\n      <td>67391.0</td>\n      <td>77.161639</td>\n      <td>178.065320</td>\n      <td>11.0</td>\n    </tr>\n    <tr>\n      <th>Bollullos Par del Condado</th>\n      <td>1022.0</td>\n      <td>17.0</td>\n      <td>46.0</td>\n      <td>14387.0</td>\n      <td>118.162230</td>\n      <td>319.733092</td>\n      <td>7.0</td>\n    </tr>\n    <tr>\n      <th>Isla Cristina</th>\n      <td>2170.0</td>\n      <td>17.0</td>\n      <td>22.0</td>\n      <td>21393.0</td>\n      <td>79.465246</td>\n      <td>102.837377</td>\n      <td>6.0</td>\n    </tr>\n    <tr>\n      <th>Valverde del Camino</th>\n      <td>635.0</td>\n      <td>24.0</td>\n      <td>60.0</td>\n      <td>12750.0</td>\n      <td>188.235294</td>\n      <td>470.588235</td>\n      <td>6.0</td>\n    </tr>\n    <tr>\n      <th>Moguer</th>\n      <td>1357.0</td>\n      <td>38.0</td>\n      <td>73.0</td>\n      <td>21867.0</td>\n      <td>173.777839</td>\n      <td>333.836374</td>\n      <td>5.0</td>\n    </tr>\n    <tr>\n      <th>San Juan del Puerto</th>\n      <td>557.0</td>\n      <td>25.0</td>\n      <td>57.0</td>\n      <td>9411.0</td>\n      <td>265.646584</td>\n      <td>605.674211</td>\n      <td>5.0</td>\n    </tr>\n    <tr>\n      <th>Palma del Condado (La)</th>\n      <td>1177.0</td>\n      <td>12.0</td>\n      <td>28.0</td>\n      <td>10801.0</td>\n      <td>111.100824</td>\n      <td>259.235256</td>\n      <td>3.0</td>\n    </tr>\n    <tr>\n      <th>Bonares</th>\n      <td>291.0</td>\n      <td>6.0</td>\n      <td>20.0</td>\n      <td>6060.0</td>\n      <td>99.009901</td>\n      <td>330.033003</td>\n      <td>3.0</td>\n    </tr>\n    <tr>\n      <th>Calañas</th>\n      <td>199.0</td>\n      <td>8.0</td>\n      <td>8.0</td>\n      <td>2768.0</td>\n      <td>289.017341</td>\n      <td>289.017341</td>\n      <td>3.0</td>\n    </tr>\n    <tr>\n      <th>Trigueros</th>\n      <td>327.0</td>\n      <td>7.0</td>\n      <td>22.0</td>\n      <td>7862.0</td>\n      <td>89.035869</td>\n      <td>279.827016</td>\n      <td>2.0</td>\n    </tr>\n    <tr>\n      <th>Puebla de Guzmán</th>\n      <td>134.0</td>\n      <td>11.0</td>\n      <td>18.0</td>\n      <td>3092.0</td>\n      <td>355.756792</td>\n      <td>582.147477</td>\n      <td>2.0</td>\n    </tr>\n    <tr>\n      <th>Aljaraque</th>\n      <td>1155.0</td>\n      <td>25.0</td>\n      <td>64.0</td>\n      <td>21474.0</td>\n      <td>116.419857</td>\n      <td>298.034833</td>\n      <td>2.0</td>\n    </tr>\n    <tr>\n      <th>Lucena del Puerto</th>\n      <td>263.0</td>\n      <td>5.0</td>\n      <td>10.0</td>\n      <td>3261.0</td>\n      <td>153.327200</td>\n      <td>306.654400</td>\n      <td>2.0</td>\n    </tr>\n    <tr>\n      <th>Lepe</th>\n      <td>2151.0</td>\n      <td>8.0</td>\n      <td>24.0</td>\n      <td>27880.0</td>\n      <td>28.694405</td>\n      <td>86.083214</td>\n      <td>2.0</td>\n    </tr>\n    <tr>\n      <th>Beas</th>\n      <td>217.0</td>\n      <td>4.0</td>\n      <td>7.0</td>\n      <td>4341.0</td>\n      <td>92.144667</td>\n      <td>161.253167</td>\n      <td>2.0</td>\n    </tr>\n    <tr>\n      <th>Palos de la Frontera</th>\n      <td>700.0</td>\n      <td>13.0</td>\n      <td>50.0</td>\n      <td>11742.0</td>\n      <td>110.713677</td>\n      <td>425.821836</td>\n      <td>1.0</td>\n    </tr>\n    <tr>\n      <th>Rociana del Condado</th>\n      <td>561.0</td>\n      <td>3.0</td>\n      <td>7.0</td>\n      <td>7939.0</td>\n      <td>37.788135</td>\n      <td>88.172314</td>\n      <td>1.0</td>\n    </tr>\n    <tr>\n      <th>San Bartolomé de la Torre</th>\n      <td>305.0</td>\n      <td>5.0</td>\n      <td>7.0</td>\n      <td>3761.0</td>\n      <td>132.943366</td>\n      <td>186.120713</td>\n      <td>1.0</td>\n    </tr>\n    <tr>\n      <th>Almonaster la Real</th>\n      <td>68.0</td>\n      <td>2.0</td>\n      <td>2.0</td>\n      <td>1788.0</td>\n      <td>111.856823</td>\n      <td>111.856823</td>\n      <td>1.0</td>\n    </tr>\n    <tr>\n      <th>Ayamonte</th>\n      <td>1330.0</td>\n      <td>8.0</td>\n      <td>12.0</td>\n      <td>21104.0</td>\n      <td>37.907506</td>\n      <td>56.861259</td>\n      <td>1.0</td>\n    </tr>\n    <tr>\n      <th>Cartaya</th>\n      <td>1364.0</td>\n      <td>10.0</td>\n      <td>24.0</td>\n      <td>20083.0</td>\n      <td>49.793358</td>\n      <td>119.504058</td>\n      <td>-1.0</td>\n    </tr>\n    <tr>\n      <th>Campillo (El)</th>\n      <td>74.0</td>\n      <td>1.0</td>\n      <td>2.0</td>\n      <td>2024.0</td>\n      <td>49.407115</td>\n      <td>98.814229</td>\n      <td>NaN</td>\n    </tr>\n  </tbody>\n</table>\n</div>"
     },
     "metadata": {},
     "execution_count": 15
    }
   ],
   "source": [
    "# Nuevos casos desde la última captura\n",
    "tabla[tabla['Diferencia PDIA'] != 0].sort_values('Diferencia PDIA', ascending=False)"
   ]
  },
  {
   "cell_type": "code",
   "execution_count": 16,
   "metadata": {},
   "outputs": [],
   "source": [
    "if tabla[tabla['Diferencia PDIA'] != 0]['Diferencia PDIA'].sum() != 0:\n",
    "  # Save to csv\n",
    "  tabla.to_csv('covid_huelva.csv', encoding='utf-8', header=True, index=True)  "
   ]
  },
  {
   "cell_type": "code",
   "execution_count": 17,
   "metadata": {},
   "outputs": [
    {
     "output_type": "execute_result",
     "data": {
      "text/plain": [
       "Medida                             Confirmados PDIA  Confirmados PDIA 7 días  \\\n",
       "Lugar de residencia                                                            \n",
       "Cortelazor                                     13.0                      4.0   \n",
       "San Juan del Puerto                           557.0                     25.0   \n",
       "Puebla de Guzmán                              134.0                     11.0   \n",
       "Valverde del Camino                           635.0                     24.0   \n",
       "Palos de la Frontera                          700.0                     13.0   \n",
       "Huelva (capital)                             8883.0                    252.0   \n",
       "Villarrasa                                    180.0                      1.0   \n",
       "Almendro (El)                                  39.0                      3.0   \n",
       "Moguer                                       1357.0                     38.0   \n",
       "Alosno                                        179.0                     11.0   \n",
       "Bonares                                       291.0                      6.0   \n",
       "Bollullos Par del Condado                    1022.0                     17.0   \n",
       "Niebla                                        247.0                      7.0   \n",
       "Lucena del Puerto                             263.0                      5.0   \n",
       "Aljaraque                                    1155.0                     25.0   \n",
       "Calañas                                       199.0                      8.0   \n",
       "Trigueros                                     327.0                      7.0   \n",
       "Huelva-Costa                                18804.0                    355.0   \n",
       "Condado-Campiña                             10590.0                    173.0   \n",
       "Huelva                                      32630.0                    581.0   \n",
       "Palma del Condado (La)                       1177.0                     12.0   \n",
       "Almonte                                      1878.0                     24.0   \n",
       "Manzanilla                                    103.0                      1.0   \n",
       "Punta Umbría                                  840.0                      8.0   \n",
       "San Bartolomé de la Torre                     305.0                      5.0   \n",
       "Minas de Riotinto                             128.0                      1.0   \n",
       "Sierra de Huelva-Andévalo Central            2885.0                     52.0   \n",
       "Beas                                          217.0                      4.0   \n",
       "Aracena                                       538.0                      6.0   \n",
       "Alájar                                         18.0                      1.0   \n",
       "Cartaya                                      1364.0                     10.0   \n",
       "Rosal de la Frontera                           31.0                      1.0   \n",
       "Almonaster la Real                             68.0                      2.0   \n",
       "Isla Cristina                                2170.0                     17.0   \n",
       "Campillo (El)                                  74.0                      1.0   \n",
       "Rociana del Condado                           561.0                      3.0   \n",
       "Lepe                                         2151.0                      8.0   \n",
       "Cerro de Andévalo (El)                        148.0                      2.0   \n",
       "Gibraleón                                     641.0                      5.0   \n",
       "Villablanca                                   189.0                      2.0   \n",
       "Ayamonte                                     1330.0                      8.0   \n",
       "Jabugo                                         65.0                      1.0   \n",
       "Nerva                                         179.0                      1.0   \n",
       "\n",
       "Medida                             Confirmados PDIA 14 días  Población  \\\n",
       "Lugar de residencia                                                      \n",
       "Cortelazor                                              5.0      299.0   \n",
       "San Juan del Puerto                                    57.0     9411.0   \n",
       "Puebla de Guzmán                                       18.0     3092.0   \n",
       "Valverde del Camino                                    60.0    12750.0   \n",
       "Palos de la Frontera                                   50.0    11742.0   \n",
       "Huelva (capital)                                      583.0   143837.0   \n",
       "Villarrasa                                              8.0     2211.0   \n",
       "Almendro (El)                                           3.0      840.0   \n",
       "Moguer                                                 73.0    21867.0   \n",
       "Alosno                                                 13.0     3933.0   \n",
       "Bonares                                                20.0     6060.0   \n",
       "Bollullos Par del Condado                              46.0    14387.0   \n",
       "Niebla                                                 13.0     4116.0   \n",
       "Lucena del Puerto                                      10.0     3261.0   \n",
       "Aljaraque                                              64.0    21474.0   \n",
       "Calañas                                                 8.0     2768.0   \n",
       "Trigueros                                              22.0     7862.0   \n",
       "Huelva-Costa                                          799.0   289548.0   \n",
       "Condado-Campiña                                       426.0   156231.0   \n",
       "Huelva                                               1349.0   513170.0   \n",
       "Palma del Condado (La)                                 28.0    10801.0   \n",
       "Almonte                                                62.0    24507.0   \n",
       "Manzanilla                                              5.0     2118.0   \n",
       "Punta Umbría                                           32.0    15355.0   \n",
       "San Bartolomé de la Torre                               7.0     3761.0   \n",
       "Minas de Riotinto                                       7.0     3812.0   \n",
       "Sierra de Huelva-Andévalo Central                     120.0    67391.0   \n",
       "Beas                                                    7.0     4341.0   \n",
       "Aracena                                                11.0     8255.0   \n",
       "Alájar                                                  1.0      759.0   \n",
       "Cartaya                                                24.0    20083.0   \n",
       "Rosal de la Frontera                                    2.0     1697.0   \n",
       "Almonaster la Real                                      2.0     1788.0   \n",
       "Isla Cristina                                          22.0    21393.0   \n",
       "Campillo (El)                                           2.0     2024.0   \n",
       "Rociana del Condado                                     7.0     7939.0   \n",
       "Lepe                                                   24.0    27880.0   \n",
       "Cerro de Andévalo (El)                                  2.0     2327.0   \n",
       "Gibraleón                                              10.0    12737.0   \n",
       "Villablanca                                             2.0     2885.0   \n",
       "Ayamonte                                               12.0    21104.0   \n",
       "Jabugo                                                  1.0     2260.0   \n",
       "Nerva                                                   2.0     5169.0   \n",
       "\n",
       "Medida                                   tasa7       tasa14  Diferencia PDIA  \n",
       "Lugar de residencia                                                           \n",
       "Cortelazor                         1337.792642  1672.240803              0.0  \n",
       "San Juan del Puerto                 265.646584   605.674211              5.0  \n",
       "Puebla de Guzmán                    355.756792   582.147477              2.0  \n",
       "Valverde del Camino                 188.235294   470.588235              6.0  \n",
       "Palos de la Frontera                110.713677   425.821836              1.0  \n",
       "Huelva (capital)                    175.198315   405.319911             35.0  \n",
       "Villarrasa                           45.228403   361.827227              0.0  \n",
       "Almendro (El)                       357.142857   357.142857              0.0  \n",
       "Moguer                              173.777839   333.836374              5.0  \n",
       "Alosno                              279.684719   330.536486              0.0  \n",
       "Bonares                              99.009901   330.033003              3.0  \n",
       "Bollullos Par del Condado           118.162230   319.733092              7.0  \n",
       "Niebla                              170.068027   315.840622              0.0  \n",
       "Lucena del Puerto                   153.327200   306.654400              2.0  \n",
       "Aljaraque                           116.419857   298.034833              2.0  \n",
       "Calañas                             289.017341   289.017341              3.0  \n",
       "Trigueros                            89.035869   279.827016              2.0  \n",
       "Huelva-Costa                        122.604888   275.947339             47.0  \n",
       "Condado-Campiña                     110.733465   272.673157             44.0  \n",
       "Huelva                              113.217842   262.875850            102.0  \n",
       "Palma del Condado (La)              111.100824   259.235256              3.0  \n",
       "Almonte                              97.931203   252.988942             12.0  \n",
       "Manzanilla                           47.214353   236.071766              0.0  \n",
       "Punta Umbría                         52.100293   208.401172              0.0  \n",
       "San Bartolomé de la Torre           132.943366   186.120713              1.0  \n",
       "Minas de Riotinto                    26.232949   183.630640              0.0  \n",
       "Sierra de Huelva-Andévalo Central    77.161639   178.065320             11.0  \n",
       "Beas                                 92.144667   161.253167              2.0  \n",
       "Aracena                              72.683222   133.252574              0.0  \n",
       "Alájar                              131.752306   131.752306              0.0  \n",
       "Cartaya                              49.793358   119.504058             -1.0  \n",
       "Rosal de la Frontera                 58.927519   117.855038              0.0  \n",
       "Almonaster la Real                  111.856823   111.856823              1.0  \n",
       "Isla Cristina                        79.465246   102.837377              6.0  \n",
       "Campillo (El)                        49.407115    98.814229              NaN  \n",
       "Rociana del Condado                  37.788135    88.172314              1.0  \n",
       "Lepe                                 28.694405    86.083214              2.0  \n",
       "Cerro de Andévalo (El)               85.947572    85.947572              0.0  \n",
       "Gibraleón                            39.255712    78.511423              0.0  \n",
       "Villablanca                          69.324090    69.324090              0.0  \n",
       "Ayamonte                             37.907506    56.861259              1.0  \n",
       "Jabugo                               44.247788    44.247788              0.0  \n",
       "Nerva                                19.346102    38.692204              0.0  "
      ],
      "text/html": "<div>\n<style scoped>\n    .dataframe tbody tr th:only-of-type {\n        vertical-align: middle;\n    }\n\n    .dataframe tbody tr th {\n        vertical-align: top;\n    }\n\n    .dataframe thead th {\n        text-align: right;\n    }\n</style>\n<table border=\"1\" class=\"dataframe\">\n  <thead>\n    <tr style=\"text-align: right;\">\n      <th>Medida</th>\n      <th>Confirmados PDIA</th>\n      <th>Confirmados PDIA 7 días</th>\n      <th>Confirmados PDIA 14 días</th>\n      <th>Población</th>\n      <th>tasa7</th>\n      <th>tasa14</th>\n      <th>Diferencia PDIA</th>\n    </tr>\n    <tr>\n      <th>Lugar de residencia</th>\n      <th></th>\n      <th></th>\n      <th></th>\n      <th></th>\n      <th></th>\n      <th></th>\n      <th></th>\n    </tr>\n  </thead>\n  <tbody>\n    <tr>\n      <th>Cortelazor</th>\n      <td>13.0</td>\n      <td>4.0</td>\n      <td>5.0</td>\n      <td>299.0</td>\n      <td>1337.792642</td>\n      <td>1672.240803</td>\n      <td>0.0</td>\n    </tr>\n    <tr>\n      <th>San Juan del Puerto</th>\n      <td>557.0</td>\n      <td>25.0</td>\n      <td>57.0</td>\n      <td>9411.0</td>\n      <td>265.646584</td>\n      <td>605.674211</td>\n      <td>5.0</td>\n    </tr>\n    <tr>\n      <th>Puebla de Guzmán</th>\n      <td>134.0</td>\n      <td>11.0</td>\n      <td>18.0</td>\n      <td>3092.0</td>\n      <td>355.756792</td>\n      <td>582.147477</td>\n      <td>2.0</td>\n    </tr>\n    <tr>\n      <th>Valverde del Camino</th>\n      <td>635.0</td>\n      <td>24.0</td>\n      <td>60.0</td>\n      <td>12750.0</td>\n      <td>188.235294</td>\n      <td>470.588235</td>\n      <td>6.0</td>\n    </tr>\n    <tr>\n      <th>Palos de la Frontera</th>\n      <td>700.0</td>\n      <td>13.0</td>\n      <td>50.0</td>\n      <td>11742.0</td>\n      <td>110.713677</td>\n      <td>425.821836</td>\n      <td>1.0</td>\n    </tr>\n    <tr>\n      <th>Huelva (capital)</th>\n      <td>8883.0</td>\n      <td>252.0</td>\n      <td>583.0</td>\n      <td>143837.0</td>\n      <td>175.198315</td>\n      <td>405.319911</td>\n      <td>35.0</td>\n    </tr>\n    <tr>\n      <th>Villarrasa</th>\n      <td>180.0</td>\n      <td>1.0</td>\n      <td>8.0</td>\n      <td>2211.0</td>\n      <td>45.228403</td>\n      <td>361.827227</td>\n      <td>0.0</td>\n    </tr>\n    <tr>\n      <th>Almendro (El)</th>\n      <td>39.0</td>\n      <td>3.0</td>\n      <td>3.0</td>\n      <td>840.0</td>\n      <td>357.142857</td>\n      <td>357.142857</td>\n      <td>0.0</td>\n    </tr>\n    <tr>\n      <th>Moguer</th>\n      <td>1357.0</td>\n      <td>38.0</td>\n      <td>73.0</td>\n      <td>21867.0</td>\n      <td>173.777839</td>\n      <td>333.836374</td>\n      <td>5.0</td>\n    </tr>\n    <tr>\n      <th>Alosno</th>\n      <td>179.0</td>\n      <td>11.0</td>\n      <td>13.0</td>\n      <td>3933.0</td>\n      <td>279.684719</td>\n      <td>330.536486</td>\n      <td>0.0</td>\n    </tr>\n    <tr>\n      <th>Bonares</th>\n      <td>291.0</td>\n      <td>6.0</td>\n      <td>20.0</td>\n      <td>6060.0</td>\n      <td>99.009901</td>\n      <td>330.033003</td>\n      <td>3.0</td>\n    </tr>\n    <tr>\n      <th>Bollullos Par del Condado</th>\n      <td>1022.0</td>\n      <td>17.0</td>\n      <td>46.0</td>\n      <td>14387.0</td>\n      <td>118.162230</td>\n      <td>319.733092</td>\n      <td>7.0</td>\n    </tr>\n    <tr>\n      <th>Niebla</th>\n      <td>247.0</td>\n      <td>7.0</td>\n      <td>13.0</td>\n      <td>4116.0</td>\n      <td>170.068027</td>\n      <td>315.840622</td>\n      <td>0.0</td>\n    </tr>\n    <tr>\n      <th>Lucena del Puerto</th>\n      <td>263.0</td>\n      <td>5.0</td>\n      <td>10.0</td>\n      <td>3261.0</td>\n      <td>153.327200</td>\n      <td>306.654400</td>\n      <td>2.0</td>\n    </tr>\n    <tr>\n      <th>Aljaraque</th>\n      <td>1155.0</td>\n      <td>25.0</td>\n      <td>64.0</td>\n      <td>21474.0</td>\n      <td>116.419857</td>\n      <td>298.034833</td>\n      <td>2.0</td>\n    </tr>\n    <tr>\n      <th>Calañas</th>\n      <td>199.0</td>\n      <td>8.0</td>\n      <td>8.0</td>\n      <td>2768.0</td>\n      <td>289.017341</td>\n      <td>289.017341</td>\n      <td>3.0</td>\n    </tr>\n    <tr>\n      <th>Trigueros</th>\n      <td>327.0</td>\n      <td>7.0</td>\n      <td>22.0</td>\n      <td>7862.0</td>\n      <td>89.035869</td>\n      <td>279.827016</td>\n      <td>2.0</td>\n    </tr>\n    <tr>\n      <th>Huelva-Costa</th>\n      <td>18804.0</td>\n      <td>355.0</td>\n      <td>799.0</td>\n      <td>289548.0</td>\n      <td>122.604888</td>\n      <td>275.947339</td>\n      <td>47.0</td>\n    </tr>\n    <tr>\n      <th>Condado-Campiña</th>\n      <td>10590.0</td>\n      <td>173.0</td>\n      <td>426.0</td>\n      <td>156231.0</td>\n      <td>110.733465</td>\n      <td>272.673157</td>\n      <td>44.0</td>\n    </tr>\n    <tr>\n      <th>Huelva</th>\n      <td>32630.0</td>\n      <td>581.0</td>\n      <td>1349.0</td>\n      <td>513170.0</td>\n      <td>113.217842</td>\n      <td>262.875850</td>\n      <td>102.0</td>\n    </tr>\n    <tr>\n      <th>Palma del Condado (La)</th>\n      <td>1177.0</td>\n      <td>12.0</td>\n      <td>28.0</td>\n      <td>10801.0</td>\n      <td>111.100824</td>\n      <td>259.235256</td>\n      <td>3.0</td>\n    </tr>\n    <tr>\n      <th>Almonte</th>\n      <td>1878.0</td>\n      <td>24.0</td>\n      <td>62.0</td>\n      <td>24507.0</td>\n      <td>97.931203</td>\n      <td>252.988942</td>\n      <td>12.0</td>\n    </tr>\n    <tr>\n      <th>Manzanilla</th>\n      <td>103.0</td>\n      <td>1.0</td>\n      <td>5.0</td>\n      <td>2118.0</td>\n      <td>47.214353</td>\n      <td>236.071766</td>\n      <td>0.0</td>\n    </tr>\n    <tr>\n      <th>Punta Umbría</th>\n      <td>840.0</td>\n      <td>8.0</td>\n      <td>32.0</td>\n      <td>15355.0</td>\n      <td>52.100293</td>\n      <td>208.401172</td>\n      <td>0.0</td>\n    </tr>\n    <tr>\n      <th>San Bartolomé de la Torre</th>\n      <td>305.0</td>\n      <td>5.0</td>\n      <td>7.0</td>\n      <td>3761.0</td>\n      <td>132.943366</td>\n      <td>186.120713</td>\n      <td>1.0</td>\n    </tr>\n    <tr>\n      <th>Minas de Riotinto</th>\n      <td>128.0</td>\n      <td>1.0</td>\n      <td>7.0</td>\n      <td>3812.0</td>\n      <td>26.232949</td>\n      <td>183.630640</td>\n      <td>0.0</td>\n    </tr>\n    <tr>\n      <th>Sierra de Huelva-Andévalo Central</th>\n      <td>2885.0</td>\n      <td>52.0</td>\n      <td>120.0</td>\n      <td>67391.0</td>\n      <td>77.161639</td>\n      <td>178.065320</td>\n      <td>11.0</td>\n    </tr>\n    <tr>\n      <th>Beas</th>\n      <td>217.0</td>\n      <td>4.0</td>\n      <td>7.0</td>\n      <td>4341.0</td>\n      <td>92.144667</td>\n      <td>161.253167</td>\n      <td>2.0</td>\n    </tr>\n    <tr>\n      <th>Aracena</th>\n      <td>538.0</td>\n      <td>6.0</td>\n      <td>11.0</td>\n      <td>8255.0</td>\n      <td>72.683222</td>\n      <td>133.252574</td>\n      <td>0.0</td>\n    </tr>\n    <tr>\n      <th>Alájar</th>\n      <td>18.0</td>\n      <td>1.0</td>\n      <td>1.0</td>\n      <td>759.0</td>\n      <td>131.752306</td>\n      <td>131.752306</td>\n      <td>0.0</td>\n    </tr>\n    <tr>\n      <th>Cartaya</th>\n      <td>1364.0</td>\n      <td>10.0</td>\n      <td>24.0</td>\n      <td>20083.0</td>\n      <td>49.793358</td>\n      <td>119.504058</td>\n      <td>-1.0</td>\n    </tr>\n    <tr>\n      <th>Rosal de la Frontera</th>\n      <td>31.0</td>\n      <td>1.0</td>\n      <td>2.0</td>\n      <td>1697.0</td>\n      <td>58.927519</td>\n      <td>117.855038</td>\n      <td>0.0</td>\n    </tr>\n    <tr>\n      <th>Almonaster la Real</th>\n      <td>68.0</td>\n      <td>2.0</td>\n      <td>2.0</td>\n      <td>1788.0</td>\n      <td>111.856823</td>\n      <td>111.856823</td>\n      <td>1.0</td>\n    </tr>\n    <tr>\n      <th>Isla Cristina</th>\n      <td>2170.0</td>\n      <td>17.0</td>\n      <td>22.0</td>\n      <td>21393.0</td>\n      <td>79.465246</td>\n      <td>102.837377</td>\n      <td>6.0</td>\n    </tr>\n    <tr>\n      <th>Campillo (El)</th>\n      <td>74.0</td>\n      <td>1.0</td>\n      <td>2.0</td>\n      <td>2024.0</td>\n      <td>49.407115</td>\n      <td>98.814229</td>\n      <td>NaN</td>\n    </tr>\n    <tr>\n      <th>Rociana del Condado</th>\n      <td>561.0</td>\n      <td>3.0</td>\n      <td>7.0</td>\n      <td>7939.0</td>\n      <td>37.788135</td>\n      <td>88.172314</td>\n      <td>1.0</td>\n    </tr>\n    <tr>\n      <th>Lepe</th>\n      <td>2151.0</td>\n      <td>8.0</td>\n      <td>24.0</td>\n      <td>27880.0</td>\n      <td>28.694405</td>\n      <td>86.083214</td>\n      <td>2.0</td>\n    </tr>\n    <tr>\n      <th>Cerro de Andévalo (El)</th>\n      <td>148.0</td>\n      <td>2.0</td>\n      <td>2.0</td>\n      <td>2327.0</td>\n      <td>85.947572</td>\n      <td>85.947572</td>\n      <td>0.0</td>\n    </tr>\n    <tr>\n      <th>Gibraleón</th>\n      <td>641.0</td>\n      <td>5.0</td>\n      <td>10.0</td>\n      <td>12737.0</td>\n      <td>39.255712</td>\n      <td>78.511423</td>\n      <td>0.0</td>\n    </tr>\n    <tr>\n      <th>Villablanca</th>\n      <td>189.0</td>\n      <td>2.0</td>\n      <td>2.0</td>\n      <td>2885.0</td>\n      <td>69.324090</td>\n      <td>69.324090</td>\n      <td>0.0</td>\n    </tr>\n    <tr>\n      <th>Ayamonte</th>\n      <td>1330.0</td>\n      <td>8.0</td>\n      <td>12.0</td>\n      <td>21104.0</td>\n      <td>37.907506</td>\n      <td>56.861259</td>\n      <td>1.0</td>\n    </tr>\n    <tr>\n      <th>Jabugo</th>\n      <td>65.0</td>\n      <td>1.0</td>\n      <td>1.0</td>\n      <td>2260.0</td>\n      <td>44.247788</td>\n      <td>44.247788</td>\n      <td>0.0</td>\n    </tr>\n    <tr>\n      <th>Nerva</th>\n      <td>179.0</td>\n      <td>1.0</td>\n      <td>2.0</td>\n      <td>5169.0</td>\n      <td>19.346102</td>\n      <td>38.692204</td>\n      <td>0.0</td>\n    </tr>\n  </tbody>\n</table>\n</div>"
     },
     "metadata": {},
     "execution_count": 17
    }
   ],
   "source": [
    "tabla.sort_values('tasa14', ascending=False)"
   ]
  },
  {
   "cell_type": "code",
   "execution_count": 18,
   "metadata": {},
   "outputs": [
    {
     "output_type": "execute_result",
     "data": {
      "text/plain": [
       "Medida                             Confirmados PDIA  Confirmados PDIA 7 días  \\\n",
       "Lugar de residencia                                                            \n",
       "Villarrasa                                    180.0                      1.0   \n",
       "Minas de Riotinto                             128.0                      1.0   \n",
       "Manzanilla                                    103.0                      1.0   \n",
       "Punta Umbría                                  840.0                      8.0   \n",
       "Palos de la Frontera                          700.0                     13.0   \n",
       "Bonares                                       291.0                      6.0   \n",
       "Trigueros                                     327.0                      7.0   \n",
       "Lepe                                         2151.0                      8.0   \n",
       "Bollullos Par del Condado                    1022.0                     17.0   \n",
       "Almonte                                      1878.0                     24.0   \n",
       "Aljaraque                                    1155.0                     25.0   \n",
       "Valverde del Camino                           635.0                     24.0   \n",
       "Condado-Campiña                             10590.0                    173.0   \n",
       "Cartaya                                      1364.0                     10.0   \n",
       "Palma del Condado (La)                       1177.0                     12.0   \n",
       "Rociana del Condado                           561.0                      3.0   \n",
       "Huelva                                      32630.0                    581.0   \n",
       "Huelva (capital)                             8883.0                    252.0   \n",
       "Sierra de Huelva-Andévalo Central            2885.0                     52.0   \n",
       "San Juan del Puerto                           557.0                     25.0   \n",
       "Huelva-Costa                                18804.0                    355.0   \n",
       "Gibraleón                                     641.0                      5.0   \n",
       "Campillo (El)                                  74.0                      1.0   \n",
       "Rosal de la Frontera                           31.0                      1.0   \n",
       "Lucena del Puerto                             263.0                      5.0   \n",
       "Nerva                                         179.0                      1.0   \n",
       "Moguer                                       1357.0                     38.0   \n",
       "Niebla                                        247.0                      7.0   \n",
       "Aracena                                       538.0                      6.0   \n",
       "Beas                                          217.0                      4.0   \n",
       "Puebla de Guzmán                              134.0                     11.0   \n",
       "Ayamonte                                     1330.0                      8.0   \n",
       "San Bartolomé de la Torre                     305.0                      5.0   \n",
       "Isla Cristina                                2170.0                     17.0   \n",
       "Cortelazor                                     13.0                      4.0   \n",
       "Alosno                                        179.0                     11.0   \n",
       "Almendro (El)                                  39.0                      3.0   \n",
       "Calañas                                       199.0                      8.0   \n",
       "Jabugo                                         65.0                      1.0   \n",
       "Villablanca                                   189.0                      2.0   \n",
       "Cerro de Andévalo (El)                        148.0                      2.0   \n",
       "Almonaster la Real                             68.0                      2.0   \n",
       "Alájar                                         18.0                      1.0   \n",
       "\n",
       "Medida                             Confirmados PDIA 14 días  Población  \\\n",
       "Lugar de residencia                                                      \n",
       "Villarrasa                                              8.0     2211.0   \n",
       "Minas de Riotinto                                       7.0     3812.0   \n",
       "Manzanilla                                              5.0     2118.0   \n",
       "Punta Umbría                                           32.0    15355.0   \n",
       "Palos de la Frontera                                   50.0    11742.0   \n",
       "Bonares                                                20.0     6060.0   \n",
       "Trigueros                                              22.0     7862.0   \n",
       "Lepe                                                   24.0    27880.0   \n",
       "Bollullos Par del Condado                              46.0    14387.0   \n",
       "Almonte                                                62.0    24507.0   \n",
       "Aljaraque                                              64.0    21474.0   \n",
       "Valverde del Camino                                    60.0    12750.0   \n",
       "Condado-Campiña                                       426.0   156231.0   \n",
       "Cartaya                                                24.0    20083.0   \n",
       "Palma del Condado (La)                                 28.0    10801.0   \n",
       "Rociana del Condado                                     7.0     7939.0   \n",
       "Huelva                                               1349.0   513170.0   \n",
       "Huelva (capital)                                      583.0   143837.0   \n",
       "Sierra de Huelva-Andévalo Central                     120.0    67391.0   \n",
       "San Juan del Puerto                                    57.0     9411.0   \n",
       "Huelva-Costa                                          799.0   289548.0   \n",
       "Gibraleón                                              10.0    12737.0   \n",
       "Campillo (El)                                           2.0     2024.0   \n",
       "Rosal de la Frontera                                    2.0     1697.0   \n",
       "Lucena del Puerto                                      10.0     3261.0   \n",
       "Nerva                                                   2.0     5169.0   \n",
       "Moguer                                                 73.0    21867.0   \n",
       "Niebla                                                 13.0     4116.0   \n",
       "Aracena                                                11.0     8255.0   \n",
       "Beas                                                    7.0     4341.0   \n",
       "Puebla de Guzmán                                       18.0     3092.0   \n",
       "Ayamonte                                               12.0    21104.0   \n",
       "San Bartolomé de la Torre                               7.0     3761.0   \n",
       "Isla Cristina                                          22.0    21393.0   \n",
       "Cortelazor                                              5.0      299.0   \n",
       "Alosno                                                 13.0     3933.0   \n",
       "Almendro (El)                                           3.0      840.0   \n",
       "Calañas                                                 8.0     2768.0   \n",
       "Jabugo                                                  1.0     2260.0   \n",
       "Villablanca                                             2.0     2885.0   \n",
       "Cerro de Andévalo (El)                                  2.0     2327.0   \n",
       "Almonaster la Real                                      2.0     1788.0   \n",
       "Alájar                                                  1.0      759.0   \n",
       "\n",
       "Medida                                   tasa7       tasa14  Diferencia PDIA  \\\n",
       "Lugar de residencia                                                            \n",
       "Villarrasa                           45.228403   361.827227              0.0   \n",
       "Minas de Riotinto                    26.232949   183.630640              0.0   \n",
       "Manzanilla                           47.214353   236.071766              0.0   \n",
       "Punta Umbría                         52.100293   208.401172              0.0   \n",
       "Palos de la Frontera                110.713677   425.821836              1.0   \n",
       "Bonares                              99.009901   330.033003              3.0   \n",
       "Trigueros                            89.035869   279.827016              2.0   \n",
       "Lepe                                 28.694405    86.083214              2.0   \n",
       "Bollullos Par del Condado           118.162230   319.733092              7.0   \n",
       "Almonte                              97.931203   252.988942             12.0   \n",
       "Aljaraque                           116.419857   298.034833              2.0   \n",
       "Valverde del Camino                 188.235294   470.588235              6.0   \n",
       "Condado-Campiña                     110.733465   272.673157             44.0   \n",
       "Cartaya                              49.793358   119.504058             -1.0   \n",
       "Palma del Condado (La)              111.100824   259.235256              3.0   \n",
       "Rociana del Condado                  37.788135    88.172314              1.0   \n",
       "Huelva                              113.217842   262.875850            102.0   \n",
       "Huelva (capital)                    175.198315   405.319911             35.0   \n",
       "Sierra de Huelva-Andévalo Central    77.161639   178.065320             11.0   \n",
       "San Juan del Puerto                 265.646584   605.674211              5.0   \n",
       "Huelva-Costa                        122.604888   275.947339             47.0   \n",
       "Gibraleón                            39.255712    78.511423              0.0   \n",
       "Campillo (El)                        49.407115    98.814229              0.0   \n",
       "Rosal de la Frontera                 58.927519   117.855038              0.0   \n",
       "Lucena del Puerto                   153.327200   306.654400              2.0   \n",
       "Nerva                                19.346102    38.692204              0.0   \n",
       "Moguer                              173.777839   333.836374              5.0   \n",
       "Niebla                              170.068027   315.840622              0.0   \n",
       "Aracena                              72.683222   133.252574              0.0   \n",
       "Beas                                 92.144667   161.253167              2.0   \n",
       "Puebla de Guzmán                    355.756792   582.147477              2.0   \n",
       "Ayamonte                             37.907506    56.861259              1.0   \n",
       "San Bartolomé de la Torre           132.943366   186.120713              1.0   \n",
       "Isla Cristina                        79.465246   102.837377              6.0   \n",
       "Cortelazor                         1337.792642  1672.240803              0.0   \n",
       "Alosno                              279.684719   330.536486              0.0   \n",
       "Almendro (El)                       357.142857   357.142857              0.0   \n",
       "Calañas                             289.017341   289.017341              3.0   \n",
       "Jabugo                               44.247788    44.247788              0.0   \n",
       "Villablanca                          69.324090    69.324090              0.0   \n",
       "Cerro de Andévalo (El)               85.947572    85.947572              0.0   \n",
       "Almonaster la Real                  111.856823   111.856823              1.0   \n",
       "Alájar                              131.752306   131.752306              0.0   \n",
       "\n",
       "Medida                                 7/14  \n",
       "Lugar de residencia                          \n",
       "Villarrasa                         0.125000  \n",
       "Minas de Riotinto                  0.142857  \n",
       "Manzanilla                         0.200000  \n",
       "Punta Umbría                       0.250000  \n",
       "Palos de la Frontera               0.260000  \n",
       "Bonares                            0.300000  \n",
       "Trigueros                          0.318182  \n",
       "Lepe                               0.333333  \n",
       "Bollullos Par del Condado          0.369565  \n",
       "Almonte                            0.387097  \n",
       "Aljaraque                          0.390625  \n",
       "Valverde del Camino                0.400000  \n",
       "Condado-Campiña                    0.406103  \n",
       "Cartaya                            0.416667  \n",
       "Palma del Condado (La)             0.428571  \n",
       "Rociana del Condado                0.428571  \n",
       "Huelva                             0.430689  \n",
       "Huelva (capital)                   0.432247  \n",
       "Sierra de Huelva-Andévalo Central  0.433333  \n",
       "San Juan del Puerto                0.438596  \n",
       "Huelva-Costa                       0.444305  \n",
       "Gibraleón                          0.500000  \n",
       "Campillo (El)                      0.500000  \n",
       "Rosal de la Frontera               0.500000  \n",
       "Lucena del Puerto                  0.500000  \n",
       "Nerva                              0.500000  \n",
       "Moguer                             0.520548  \n",
       "Niebla                             0.538462  \n",
       "Aracena                            0.545455  \n",
       "Beas                               0.571429  \n",
       "Puebla de Guzmán                   0.611111  \n",
       "Ayamonte                           0.666667  \n",
       "San Bartolomé de la Torre          0.714286  \n",
       "Isla Cristina                      0.772727  \n",
       "Cortelazor                         0.800000  \n",
       "Alosno                             0.846154  \n",
       "Almendro (El)                      1.000000  \n",
       "Calañas                            1.000000  \n",
       "Jabugo                             1.000000  \n",
       "Villablanca                        1.000000  \n",
       "Cerro de Andévalo (El)             1.000000  \n",
       "Almonaster la Real                 1.000000  \n",
       "Alájar                             1.000000  "
      ],
      "text/html": "<div>\n<style scoped>\n    .dataframe tbody tr th:only-of-type {\n        vertical-align: middle;\n    }\n\n    .dataframe tbody tr th {\n        vertical-align: top;\n    }\n\n    .dataframe thead th {\n        text-align: right;\n    }\n</style>\n<table border=\"1\" class=\"dataframe\">\n  <thead>\n    <tr style=\"text-align: right;\">\n      <th>Medida</th>\n      <th>Confirmados PDIA</th>\n      <th>Confirmados PDIA 7 días</th>\n      <th>Confirmados PDIA 14 días</th>\n      <th>Población</th>\n      <th>tasa7</th>\n      <th>tasa14</th>\n      <th>Diferencia PDIA</th>\n      <th>7/14</th>\n    </tr>\n    <tr>\n      <th>Lugar de residencia</th>\n      <th></th>\n      <th></th>\n      <th></th>\n      <th></th>\n      <th></th>\n      <th></th>\n      <th></th>\n      <th></th>\n    </tr>\n  </thead>\n  <tbody>\n    <tr>\n      <th>Villarrasa</th>\n      <td>180.0</td>\n      <td>1.0</td>\n      <td>8.0</td>\n      <td>2211.0</td>\n      <td>45.228403</td>\n      <td>361.827227</td>\n      <td>0.0</td>\n      <td>0.125000</td>\n    </tr>\n    <tr>\n      <th>Minas de Riotinto</th>\n      <td>128.0</td>\n      <td>1.0</td>\n      <td>7.0</td>\n      <td>3812.0</td>\n      <td>26.232949</td>\n      <td>183.630640</td>\n      <td>0.0</td>\n      <td>0.142857</td>\n    </tr>\n    <tr>\n      <th>Manzanilla</th>\n      <td>103.0</td>\n      <td>1.0</td>\n      <td>5.0</td>\n      <td>2118.0</td>\n      <td>47.214353</td>\n      <td>236.071766</td>\n      <td>0.0</td>\n      <td>0.200000</td>\n    </tr>\n    <tr>\n      <th>Punta Umbría</th>\n      <td>840.0</td>\n      <td>8.0</td>\n      <td>32.0</td>\n      <td>15355.0</td>\n      <td>52.100293</td>\n      <td>208.401172</td>\n      <td>0.0</td>\n      <td>0.250000</td>\n    </tr>\n    <tr>\n      <th>Palos de la Frontera</th>\n      <td>700.0</td>\n      <td>13.0</td>\n      <td>50.0</td>\n      <td>11742.0</td>\n      <td>110.713677</td>\n      <td>425.821836</td>\n      <td>1.0</td>\n      <td>0.260000</td>\n    </tr>\n    <tr>\n      <th>Bonares</th>\n      <td>291.0</td>\n      <td>6.0</td>\n      <td>20.0</td>\n      <td>6060.0</td>\n      <td>99.009901</td>\n      <td>330.033003</td>\n      <td>3.0</td>\n      <td>0.300000</td>\n    </tr>\n    <tr>\n      <th>Trigueros</th>\n      <td>327.0</td>\n      <td>7.0</td>\n      <td>22.0</td>\n      <td>7862.0</td>\n      <td>89.035869</td>\n      <td>279.827016</td>\n      <td>2.0</td>\n      <td>0.318182</td>\n    </tr>\n    <tr>\n      <th>Lepe</th>\n      <td>2151.0</td>\n      <td>8.0</td>\n      <td>24.0</td>\n      <td>27880.0</td>\n      <td>28.694405</td>\n      <td>86.083214</td>\n      <td>2.0</td>\n      <td>0.333333</td>\n    </tr>\n    <tr>\n      <th>Bollullos Par del Condado</th>\n      <td>1022.0</td>\n      <td>17.0</td>\n      <td>46.0</td>\n      <td>14387.0</td>\n      <td>118.162230</td>\n      <td>319.733092</td>\n      <td>7.0</td>\n      <td>0.369565</td>\n    </tr>\n    <tr>\n      <th>Almonte</th>\n      <td>1878.0</td>\n      <td>24.0</td>\n      <td>62.0</td>\n      <td>24507.0</td>\n      <td>97.931203</td>\n      <td>252.988942</td>\n      <td>12.0</td>\n      <td>0.387097</td>\n    </tr>\n    <tr>\n      <th>Aljaraque</th>\n      <td>1155.0</td>\n      <td>25.0</td>\n      <td>64.0</td>\n      <td>21474.0</td>\n      <td>116.419857</td>\n      <td>298.034833</td>\n      <td>2.0</td>\n      <td>0.390625</td>\n    </tr>\n    <tr>\n      <th>Valverde del Camino</th>\n      <td>635.0</td>\n      <td>24.0</td>\n      <td>60.0</td>\n      <td>12750.0</td>\n      <td>188.235294</td>\n      <td>470.588235</td>\n      <td>6.0</td>\n      <td>0.400000</td>\n    </tr>\n    <tr>\n      <th>Condado-Campiña</th>\n      <td>10590.0</td>\n      <td>173.0</td>\n      <td>426.0</td>\n      <td>156231.0</td>\n      <td>110.733465</td>\n      <td>272.673157</td>\n      <td>44.0</td>\n      <td>0.406103</td>\n    </tr>\n    <tr>\n      <th>Cartaya</th>\n      <td>1364.0</td>\n      <td>10.0</td>\n      <td>24.0</td>\n      <td>20083.0</td>\n      <td>49.793358</td>\n      <td>119.504058</td>\n      <td>-1.0</td>\n      <td>0.416667</td>\n    </tr>\n    <tr>\n      <th>Palma del Condado (La)</th>\n      <td>1177.0</td>\n      <td>12.0</td>\n      <td>28.0</td>\n      <td>10801.0</td>\n      <td>111.100824</td>\n      <td>259.235256</td>\n      <td>3.0</td>\n      <td>0.428571</td>\n    </tr>\n    <tr>\n      <th>Rociana del Condado</th>\n      <td>561.0</td>\n      <td>3.0</td>\n      <td>7.0</td>\n      <td>7939.0</td>\n      <td>37.788135</td>\n      <td>88.172314</td>\n      <td>1.0</td>\n      <td>0.428571</td>\n    </tr>\n    <tr>\n      <th>Huelva</th>\n      <td>32630.0</td>\n      <td>581.0</td>\n      <td>1349.0</td>\n      <td>513170.0</td>\n      <td>113.217842</td>\n      <td>262.875850</td>\n      <td>102.0</td>\n      <td>0.430689</td>\n    </tr>\n    <tr>\n      <th>Huelva (capital)</th>\n      <td>8883.0</td>\n      <td>252.0</td>\n      <td>583.0</td>\n      <td>143837.0</td>\n      <td>175.198315</td>\n      <td>405.319911</td>\n      <td>35.0</td>\n      <td>0.432247</td>\n    </tr>\n    <tr>\n      <th>Sierra de Huelva-Andévalo Central</th>\n      <td>2885.0</td>\n      <td>52.0</td>\n      <td>120.0</td>\n      <td>67391.0</td>\n      <td>77.161639</td>\n      <td>178.065320</td>\n      <td>11.0</td>\n      <td>0.433333</td>\n    </tr>\n    <tr>\n      <th>San Juan del Puerto</th>\n      <td>557.0</td>\n      <td>25.0</td>\n      <td>57.0</td>\n      <td>9411.0</td>\n      <td>265.646584</td>\n      <td>605.674211</td>\n      <td>5.0</td>\n      <td>0.438596</td>\n    </tr>\n    <tr>\n      <th>Huelva-Costa</th>\n      <td>18804.0</td>\n      <td>355.0</td>\n      <td>799.0</td>\n      <td>289548.0</td>\n      <td>122.604888</td>\n      <td>275.947339</td>\n      <td>47.0</td>\n      <td>0.444305</td>\n    </tr>\n    <tr>\n      <th>Gibraleón</th>\n      <td>641.0</td>\n      <td>5.0</td>\n      <td>10.0</td>\n      <td>12737.0</td>\n      <td>39.255712</td>\n      <td>78.511423</td>\n      <td>0.0</td>\n      <td>0.500000</td>\n    </tr>\n    <tr>\n      <th>Campillo (El)</th>\n      <td>74.0</td>\n      <td>1.0</td>\n      <td>2.0</td>\n      <td>2024.0</td>\n      <td>49.407115</td>\n      <td>98.814229</td>\n      <td>0.0</td>\n      <td>0.500000</td>\n    </tr>\n    <tr>\n      <th>Rosal de la Frontera</th>\n      <td>31.0</td>\n      <td>1.0</td>\n      <td>2.0</td>\n      <td>1697.0</td>\n      <td>58.927519</td>\n      <td>117.855038</td>\n      <td>0.0</td>\n      <td>0.500000</td>\n    </tr>\n    <tr>\n      <th>Lucena del Puerto</th>\n      <td>263.0</td>\n      <td>5.0</td>\n      <td>10.0</td>\n      <td>3261.0</td>\n      <td>153.327200</td>\n      <td>306.654400</td>\n      <td>2.0</td>\n      <td>0.500000</td>\n    </tr>\n    <tr>\n      <th>Nerva</th>\n      <td>179.0</td>\n      <td>1.0</td>\n      <td>2.0</td>\n      <td>5169.0</td>\n      <td>19.346102</td>\n      <td>38.692204</td>\n      <td>0.0</td>\n      <td>0.500000</td>\n    </tr>\n    <tr>\n      <th>Moguer</th>\n      <td>1357.0</td>\n      <td>38.0</td>\n      <td>73.0</td>\n      <td>21867.0</td>\n      <td>173.777839</td>\n      <td>333.836374</td>\n      <td>5.0</td>\n      <td>0.520548</td>\n    </tr>\n    <tr>\n      <th>Niebla</th>\n      <td>247.0</td>\n      <td>7.0</td>\n      <td>13.0</td>\n      <td>4116.0</td>\n      <td>170.068027</td>\n      <td>315.840622</td>\n      <td>0.0</td>\n      <td>0.538462</td>\n    </tr>\n    <tr>\n      <th>Aracena</th>\n      <td>538.0</td>\n      <td>6.0</td>\n      <td>11.0</td>\n      <td>8255.0</td>\n      <td>72.683222</td>\n      <td>133.252574</td>\n      <td>0.0</td>\n      <td>0.545455</td>\n    </tr>\n    <tr>\n      <th>Beas</th>\n      <td>217.0</td>\n      <td>4.0</td>\n      <td>7.0</td>\n      <td>4341.0</td>\n      <td>92.144667</td>\n      <td>161.253167</td>\n      <td>2.0</td>\n      <td>0.571429</td>\n    </tr>\n    <tr>\n      <th>Puebla de Guzmán</th>\n      <td>134.0</td>\n      <td>11.0</td>\n      <td>18.0</td>\n      <td>3092.0</td>\n      <td>355.756792</td>\n      <td>582.147477</td>\n      <td>2.0</td>\n      <td>0.611111</td>\n    </tr>\n    <tr>\n      <th>Ayamonte</th>\n      <td>1330.0</td>\n      <td>8.0</td>\n      <td>12.0</td>\n      <td>21104.0</td>\n      <td>37.907506</td>\n      <td>56.861259</td>\n      <td>1.0</td>\n      <td>0.666667</td>\n    </tr>\n    <tr>\n      <th>San Bartolomé de la Torre</th>\n      <td>305.0</td>\n      <td>5.0</td>\n      <td>7.0</td>\n      <td>3761.0</td>\n      <td>132.943366</td>\n      <td>186.120713</td>\n      <td>1.0</td>\n      <td>0.714286</td>\n    </tr>\n    <tr>\n      <th>Isla Cristina</th>\n      <td>2170.0</td>\n      <td>17.0</td>\n      <td>22.0</td>\n      <td>21393.0</td>\n      <td>79.465246</td>\n      <td>102.837377</td>\n      <td>6.0</td>\n      <td>0.772727</td>\n    </tr>\n    <tr>\n      <th>Cortelazor</th>\n      <td>13.0</td>\n      <td>4.0</td>\n      <td>5.0</td>\n      <td>299.0</td>\n      <td>1337.792642</td>\n      <td>1672.240803</td>\n      <td>0.0</td>\n      <td>0.800000</td>\n    </tr>\n    <tr>\n      <th>Alosno</th>\n      <td>179.0</td>\n      <td>11.0</td>\n      <td>13.0</td>\n      <td>3933.0</td>\n      <td>279.684719</td>\n      <td>330.536486</td>\n      <td>0.0</td>\n      <td>0.846154</td>\n    </tr>\n    <tr>\n      <th>Almendro (El)</th>\n      <td>39.0</td>\n      <td>3.0</td>\n      <td>3.0</td>\n      <td>840.0</td>\n      <td>357.142857</td>\n      <td>357.142857</td>\n      <td>0.0</td>\n      <td>1.000000</td>\n    </tr>\n    <tr>\n      <th>Calañas</th>\n      <td>199.0</td>\n      <td>8.0</td>\n      <td>8.0</td>\n      <td>2768.0</td>\n      <td>289.017341</td>\n      <td>289.017341</td>\n      <td>3.0</td>\n      <td>1.000000</td>\n    </tr>\n    <tr>\n      <th>Jabugo</th>\n      <td>65.0</td>\n      <td>1.0</td>\n      <td>1.0</td>\n      <td>2260.0</td>\n      <td>44.247788</td>\n      <td>44.247788</td>\n      <td>0.0</td>\n      <td>1.000000</td>\n    </tr>\n    <tr>\n      <th>Villablanca</th>\n      <td>189.0</td>\n      <td>2.0</td>\n      <td>2.0</td>\n      <td>2885.0</td>\n      <td>69.324090</td>\n      <td>69.324090</td>\n      <td>0.0</td>\n      <td>1.000000</td>\n    </tr>\n    <tr>\n      <th>Cerro de Andévalo (El)</th>\n      <td>148.0</td>\n      <td>2.0</td>\n      <td>2.0</td>\n      <td>2327.0</td>\n      <td>85.947572</td>\n      <td>85.947572</td>\n      <td>0.0</td>\n      <td>1.000000</td>\n    </tr>\n    <tr>\n      <th>Almonaster la Real</th>\n      <td>68.0</td>\n      <td>2.0</td>\n      <td>2.0</td>\n      <td>1788.0</td>\n      <td>111.856823</td>\n      <td>111.856823</td>\n      <td>1.0</td>\n      <td>1.000000</td>\n    </tr>\n    <tr>\n      <th>Alájar</th>\n      <td>18.0</td>\n      <td>1.0</td>\n      <td>1.0</td>\n      <td>759.0</td>\n      <td>131.752306</td>\n      <td>131.752306</td>\n      <td>0.0</td>\n      <td>1.000000</td>\n    </tr>\n  </tbody>\n</table>\n</div>"
     },
     "metadata": {},
     "execution_count": 18
    }
   ],
   "source": [
    "# Peso de la tasa de la última semana en relación con la tasa a 14 días \n",
    "# Mejor cuanto menor. Valor 1 significa que no había casos antes de 7 días.\n",
    "tabla['7/14'] = tabla['tasa7'] / tabla['tasa14']\n",
    "tabla.fillna(0).sort_values('7/14', ascending=True)"
   ]
  },
  {
   "cell_type": "code",
   "execution_count": null,
   "metadata": {},
   "outputs": [],
   "source": []
  }
 ]
}