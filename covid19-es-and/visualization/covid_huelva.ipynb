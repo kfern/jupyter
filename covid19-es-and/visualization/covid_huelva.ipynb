{
 "metadata": {
  "language_info": {
   "codemirror_mode": {
    "name": "ipython",
    "version": 3
   },
   "file_extension": ".py",
   "mimetype": "text/x-python",
   "name": "python",
   "nbconvert_exporter": "python",
   "pygments_lexer": "ipython3",
   "version": "3.6.9-final"
  },
  "orig_nbformat": 2,
  "kernelspec": {
   "name": "python3",
   "display_name": "Python 3.6.9 64-bit",
   "metadata": {
    "interpreter": {
     "hash": "31f2aee4e71d21fbe5cf8b01ff0e069b9275f58929596ceb00d14d90e3e16cd6"
    }
   }
  }
 },
 "nbformat": 4,
 "nbformat_minor": 2,
 "cells": [
  {
   "cell_type": "code",
   "execution_count": 1,
   "metadata": {},
   "outputs": [],
   "source": [
    "import pandas as pd"
   ]
  },
  {
   "cell_type": "code",
   "execution_count": 2,
   "metadata": {},
   "outputs": [],
   "source": [
    "# FIX SSL: CERTIFICATE_VERIFY_FAILED with Python3\n",
    "# https://stackoverflow.com/a/49174340\n",
    "import ssl\n",
    "\n",
    "ssl._create_default_https_context = ssl._create_unverified_context"
   ]
  },
  {
   "cell_type": "code",
   "execution_count": 3,
   "metadata": {},
   "outputs": [],
   "source": [
    "url = 'https://www.juntadeandalucia.es/institutodeestadisticaycartografia/badea/stpivot/stpivot/Print?cube=013d884c-cfc5-4c21-9e78-e26225682afd&type=3&foto=si&ejecutaDesde=&codConsulta=38668&consTipoVisua=JP'\n",
    "fields = ['Lugar de residencia', 'Medida', 'Valor']\n",
    "df = pd.read_csv(url, delimiter=';', usecols=fields, decimal=',')"
   ]
  },
  {
   "cell_type": "code",
   "execution_count": 4,
   "metadata": {},
   "outputs": [
    {
     "output_type": "execute_result",
     "data": {
      "text/plain": [
       "                     Lugar de residencia                    Medida  \\\n",
       "0                                 Huelva                 Población   \n",
       "1                                 Huelva          Confirmados PDIA   \n",
       "2                                 Huelva  Confirmados PDIA 14 días   \n",
       "3                                 Huelva         Tasa PDIA 14 días   \n",
       "4                                 Huelva   Confirmados PDIA 7 días   \n",
       "..                                   ...                       ...   \n",
       "627  Municipio de Huelva sin especificar         Tasa PDIA 14 días   \n",
       "628  Municipio de Huelva sin especificar   Confirmados PDIA 7 días   \n",
       "629  Municipio de Huelva sin especificar        Total Confirmados    \n",
       "630  Municipio de Huelva sin especificar                   Curados   \n",
       "631  Municipio de Huelva sin especificar                Fallecidos   \n",
       "\n",
       "                  Valor  \n",
       "0                510743  \n",
       "1                 10929  \n",
       "2                   900  \n",
       "3    176,21386881464846  \n",
       "4                   457  \n",
       "..                  ...  \n",
       "627                   -  \n",
       "628                   1  \n",
       "629                 123  \n",
       "630                 102  \n",
       "631                   1  \n",
       "\n",
       "[632 rows x 3 columns]"
      ],
      "text/html": "<div>\n<style scoped>\n    .dataframe tbody tr th:only-of-type {\n        vertical-align: middle;\n    }\n\n    .dataframe tbody tr th {\n        vertical-align: top;\n    }\n\n    .dataframe thead th {\n        text-align: right;\n    }\n</style>\n<table border=\"1\" class=\"dataframe\">\n  <thead>\n    <tr style=\"text-align: right;\">\n      <th></th>\n      <th>Lugar de residencia</th>\n      <th>Medida</th>\n      <th>Valor</th>\n    </tr>\n  </thead>\n  <tbody>\n    <tr>\n      <th>0</th>\n      <td>Huelva</td>\n      <td>Población</td>\n      <td>510743</td>\n    </tr>\n    <tr>\n      <th>1</th>\n      <td>Huelva</td>\n      <td>Confirmados PDIA</td>\n      <td>10929</td>\n    </tr>\n    <tr>\n      <th>2</th>\n      <td>Huelva</td>\n      <td>Confirmados PDIA 14 días</td>\n      <td>900</td>\n    </tr>\n    <tr>\n      <th>3</th>\n      <td>Huelva</td>\n      <td>Tasa PDIA 14 días</td>\n      <td>176,21386881464846</td>\n    </tr>\n    <tr>\n      <th>4</th>\n      <td>Huelva</td>\n      <td>Confirmados PDIA 7 días</td>\n      <td>457</td>\n    </tr>\n    <tr>\n      <th>...</th>\n      <td>...</td>\n      <td>...</td>\n      <td>...</td>\n    </tr>\n    <tr>\n      <th>627</th>\n      <td>Municipio de Huelva sin especificar</td>\n      <td>Tasa PDIA 14 días</td>\n      <td>-</td>\n    </tr>\n    <tr>\n      <th>628</th>\n      <td>Municipio de Huelva sin especificar</td>\n      <td>Confirmados PDIA 7 días</td>\n      <td>1</td>\n    </tr>\n    <tr>\n      <th>629</th>\n      <td>Municipio de Huelva sin especificar</td>\n      <td>Total Confirmados</td>\n      <td>123</td>\n    </tr>\n    <tr>\n      <th>630</th>\n      <td>Municipio de Huelva sin especificar</td>\n      <td>Curados</td>\n      <td>102</td>\n    </tr>\n    <tr>\n      <th>631</th>\n      <td>Municipio de Huelva sin especificar</td>\n      <td>Fallecidos</td>\n      <td>1</td>\n    </tr>\n  </tbody>\n</table>\n<p>632 rows × 3 columns</p>\n</div>"
     },
     "metadata": {},
     "execution_count": 4
    }
   ],
   "source": [
    "df"
   ]
  },
  {
   "cell_type": "code",
   "execution_count": 5,
   "metadata": {},
   "outputs": [],
   "source": [
    "df['Valor'] = pd.to_numeric(df['Valor'],errors='coerce')"
   ]
  },
  {
   "cell_type": "code",
   "execution_count": 6,
   "metadata": {},
   "outputs": [],
   "source": [
    "dfAnterior = pd.read_csv('covid_huelva.csv', index_col='Lugar de residencia')"
   ]
  },
  {
   "cell_type": "code",
   "execution_count": 7,
   "metadata": {
    "tags": []
   },
   "outputs": [
    {
     "output_type": "stream",
     "name": "stdout",
     "text": [
      "Confirmados PCR en la provincia de Huelva:  10929.0\n"
     ]
    }
   ],
   "source": [
    "# Confirmados PCR provincia Huelva\n",
    "p = df[df['Lugar de residencia'] == 'Huelva'][df['Medida'] == 'Confirmados PDIA']['Valor'].values[0]\n",
    "print('Confirmados PCR en la provincia de Huelva: ', p)"
   ]
  },
  {
   "cell_type": "code",
   "execution_count": 8,
   "metadata": {
    "tags": []
   },
   "outputs": [
    {
     "output_type": "stream",
     "name": "stdout",
     "text": [
      "Confirmados PCR en Huelva capital:  3091.0\n"
     ]
    }
   ],
   "source": [
    "# Confirmados PCR Huelva capitalpd\n",
    "c = df[df['Lugar de residencia'] == 'Huelva (capital)'][df['Medida'] == 'Confirmados PDIA']['Valor'].values[0]\n",
    "print('Confirmados PCR en Huelva capital: ', c)"
   ]
  },
  {
   "cell_type": "code",
   "execution_count": 9,
   "metadata": {
    "tags": []
   },
   "outputs": [],
   "source": [
    "c7 = df[df['Lugar de residencia'] == 'Huelva (capital)'][df['Medida'] == 'Confirmados PDIA 7 días']['Valor'].values[0]\n",
    "c14 = df[df['Lugar de residencia'] == 'Huelva (capital)'][df['Medida'] == 'Confirmados PDIA 14 días']['Valor'].values[0]\n",
    "p = df[df['Lugar de residencia'] == 'Huelva (capital)'][df['Medida'] == 'Población']['Valor'].values[0]"
   ]
  },
  {
   "cell_type": "code",
   "execution_count": 10,
   "metadata": {
    "tags": []
   },
   "outputs": [
    {
     "output_type": "stream",
     "name": "stdout",
     "text": [
      "Huelva (capital)\n\nUn positivo PCR cada 1049 personas en los últimos 7 días \n\nUn positivo PCR cada 515 personas en los últimos 14 días\n"
     ]
    }
   ],
   "source": [
    "print('Huelva (capital)\\n')\n",
    "#print('Confirmados PCR 7 días x 1,000 habitantes: ', f\"{c7/(p/1000):.5f}\")\n",
    "print('Un positivo PCR cada', f\"{p/c7:.0f}\", 'personas en los últimos 7 días', '\\n')\n",
    "#print('Confirmados PCR 14 días x 1,000 habitantes: ', f\"{c14/(p/1000):.5f}\")\n",
    "print('Un positivo PCR cada', f\"{p/c14:.0f}\", 'personas en los últimos 14 días')"
   ]
  },
  {
   "cell_type": "code",
   "execution_count": 11,
   "metadata": {},
   "outputs": [],
   "source": [
    "filtro = ((df['Medida'] == 'Confirmados PDIA')| (df['Medida'] == 'Confirmados PDIA 7 días') | (df['Medida'] == 'Población' ) | (df['Medida'] == 'Confirmados PDIA 14 días')) & (df['Valor'] > 0)\n",
    "tabla = pd.pivot_table(df.loc[filtro], values='Valor', index='Lugar de residencia', columns='Medida').dropna()"
   ]
  },
  {
   "cell_type": "code",
   "execution_count": 12,
   "metadata": {},
   "outputs": [],
   "source": [
    "# Reorder columns\n",
    "tabla = tabla[['Confirmados PDIA', 'Confirmados PDIA 7 días', 'Confirmados PDIA 14 días', 'Población']]"
   ]
  },
  {
   "cell_type": "code",
   "execution_count": 13,
   "metadata": {},
   "outputs": [],
   "source": [
    "tabla['tasa7'] = tabla['Confirmados PDIA 7 días']/tabla['Población']*100000\n",
    "tabla['tasa14'] = tabla['Confirmados PDIA 14 días']/tabla['Población']*100000"
   ]
  },
  {
   "cell_type": "code",
   "execution_count": 14,
   "metadata": {},
   "outputs": [],
   "source": [
    "tabla['Diferencia PDIA'] = tabla['Confirmados PDIA'] - dfAnterior['Confirmados PDIA']"
   ]
  },
  {
   "cell_type": "code",
   "execution_count": 15,
   "metadata": {},
   "outputs": [
    {
     "output_type": "execute_result",
     "data": {
      "text/plain": [
       "Medida                             Confirmados PDIA  Confirmados PDIA 7 días  \\\n",
       "Lugar de residencia                                                            \n",
       "Huelva                                      10929.0                    457.0   \n",
       "Huelva-Costa                                 6173.0                    321.0   \n",
       "Isla Cristina                                 436.0                     45.0   \n",
       "Condado-Campiña                              3350.0                    117.0   \n",
       "Huelva (capital)                             3091.0                    137.0   \n",
       "Lepe                                          961.0                     45.0   \n",
       "Cartaya                                       400.0                     42.0   \n",
       "Palma del Condado (La)                        528.0                     23.0   \n",
       "Bonares                                        56.0                     11.0   \n",
       "Aljaraque                                     432.0                     30.0   \n",
       "Escacena del Campo                             97.0                      6.0   \n",
       "Villanueva de los Castillejos                  63.0                      3.0   \n",
       "Aracena                                       287.0                      2.0   \n",
       "Lucena del Puerto                              99.0                     14.0   \n",
       "Moguer                                        370.0                     22.0   \n",
       "Ayamonte                                      334.0                     10.0   \n",
       "Palos de la Frontera                          239.0                     15.0   \n",
       "Punta Umbría                                  234.0                      4.0   \n",
       "Sierra de Huelva-Andévalo Central            1284.0                     18.0   \n",
       "Niebla                                        113.0                      1.0   \n",
       "Puebla de Guzmán                               25.0                      1.0   \n",
       "Rociana del Condado                           118.0                      2.0   \n",
       "\n",
       "Medida                             Confirmados PDIA 14 días  Población  \\\n",
       "Lugar de residencia                                                      \n",
       "Huelva                                                900.0   510743.0   \n",
       "Huelva-Costa                                          615.0   288115.0   \n",
       "Isla Cristina                                          94.0    21264.0   \n",
       "Condado-Campiña                                       253.0   155057.0   \n",
       "Huelva (capital)                                      279.0   143663.0   \n",
       "Lepe                                                   77.0    27431.0   \n",
       "Cartaya                                                71.0    19974.0   \n",
       "Palma del Condado (La)                                 72.0    10761.0   \n",
       "Bonares                                                14.0     6058.0   \n",
       "Aljaraque                                              56.0    21260.0   \n",
       "Escacena del Campo                                      6.0     2284.0   \n",
       "Villanueva de los Castillejos                           5.0     2820.0   \n",
       "Aracena                                                 2.0     8107.0   \n",
       "Lucena del Puerto                                      17.0     3371.0   \n",
       "Moguer                                                 40.0    22088.0   \n",
       "Ayamonte                                               17.0    20946.0   \n",
       "Palos de la Frontera                                   33.0    11289.0   \n",
       "Punta Umbría                                            9.0    15242.0   \n",
       "Sierra de Huelva-Andévalo Central                      31.0    67571.0   \n",
       "Niebla                                                  1.0     4117.0   \n",
       "Puebla de Guzmán                                        2.0     3073.0   \n",
       "Rociana del Condado                                     4.0     7855.0   \n",
       "\n",
       "Medida                                  tasa7      tasa14  Diferencia PDIA  \n",
       "Lugar de residencia                                                         \n",
       "Huelva                              89.477487  176.213869             75.0  \n",
       "Huelva-Costa                       111.413845  213.456432             58.0  \n",
       "Isla Cristina                      211.625282  442.061701             18.0  \n",
       "Condado-Campiña                     75.456123  163.165804             17.0  \n",
       "Huelva (capital)                    95.362063  194.204492             16.0  \n",
       "Lepe                               164.047975  280.704313             10.0  \n",
       "Cartaya                            210.273355  355.462101              6.0  \n",
       "Palma del Condado (La)             213.734783  669.082799              5.0  \n",
       "Bonares                            181.578079  231.099373              4.0  \n",
       "Aljaraque                          141.110066  263.405456              3.0  \n",
       "Escacena del Campo                 262.697023  262.697023              2.0  \n",
       "Villanueva de los Castillejos      106.382979  177.304965              2.0  \n",
       "Aracena                             24.670038   24.670038              1.0  \n",
       "Lucena del Puerto                  415.307031  504.301394              1.0  \n",
       "Moguer                              99.601594  181.093807              1.0  \n",
       "Ayamonte                            47.741812   81.161081              1.0  \n",
       "Palos de la Frontera               132.872708  292.319957              1.0  \n",
       "Punta Umbría                        26.243275   59.047369              1.0  \n",
       "Sierra de Huelva-Andévalo Central   26.638647   45.877669              1.0  \n",
       "Niebla                              24.289531   24.289531              NaN  \n",
       "Puebla de Guzmán                    32.541490   65.082981              NaN  \n",
       "Rociana del Condado                 25.461489   50.922979              NaN  "
      ],
      "text/html": "<div>\n<style scoped>\n    .dataframe tbody tr th:only-of-type {\n        vertical-align: middle;\n    }\n\n    .dataframe tbody tr th {\n        vertical-align: top;\n    }\n\n    .dataframe thead th {\n        text-align: right;\n    }\n</style>\n<table border=\"1\" class=\"dataframe\">\n  <thead>\n    <tr style=\"text-align: right;\">\n      <th>Medida</th>\n      <th>Confirmados PDIA</th>\n      <th>Confirmados PDIA 7 días</th>\n      <th>Confirmados PDIA 14 días</th>\n      <th>Población</th>\n      <th>tasa7</th>\n      <th>tasa14</th>\n      <th>Diferencia PDIA</th>\n    </tr>\n    <tr>\n      <th>Lugar de residencia</th>\n      <th></th>\n      <th></th>\n      <th></th>\n      <th></th>\n      <th></th>\n      <th></th>\n      <th></th>\n    </tr>\n  </thead>\n  <tbody>\n    <tr>\n      <th>Huelva</th>\n      <td>10929.0</td>\n      <td>457.0</td>\n      <td>900.0</td>\n      <td>510743.0</td>\n      <td>89.477487</td>\n      <td>176.213869</td>\n      <td>75.0</td>\n    </tr>\n    <tr>\n      <th>Huelva-Costa</th>\n      <td>6173.0</td>\n      <td>321.0</td>\n      <td>615.0</td>\n      <td>288115.0</td>\n      <td>111.413845</td>\n      <td>213.456432</td>\n      <td>58.0</td>\n    </tr>\n    <tr>\n      <th>Isla Cristina</th>\n      <td>436.0</td>\n      <td>45.0</td>\n      <td>94.0</td>\n      <td>21264.0</td>\n      <td>211.625282</td>\n      <td>442.061701</td>\n      <td>18.0</td>\n    </tr>\n    <tr>\n      <th>Condado-Campiña</th>\n      <td>3350.0</td>\n      <td>117.0</td>\n      <td>253.0</td>\n      <td>155057.0</td>\n      <td>75.456123</td>\n      <td>163.165804</td>\n      <td>17.0</td>\n    </tr>\n    <tr>\n      <th>Huelva (capital)</th>\n      <td>3091.0</td>\n      <td>137.0</td>\n      <td>279.0</td>\n      <td>143663.0</td>\n      <td>95.362063</td>\n      <td>194.204492</td>\n      <td>16.0</td>\n    </tr>\n    <tr>\n      <th>Lepe</th>\n      <td>961.0</td>\n      <td>45.0</td>\n      <td>77.0</td>\n      <td>27431.0</td>\n      <td>164.047975</td>\n      <td>280.704313</td>\n      <td>10.0</td>\n    </tr>\n    <tr>\n      <th>Cartaya</th>\n      <td>400.0</td>\n      <td>42.0</td>\n      <td>71.0</td>\n      <td>19974.0</td>\n      <td>210.273355</td>\n      <td>355.462101</td>\n      <td>6.0</td>\n    </tr>\n    <tr>\n      <th>Palma del Condado (La)</th>\n      <td>528.0</td>\n      <td>23.0</td>\n      <td>72.0</td>\n      <td>10761.0</td>\n      <td>213.734783</td>\n      <td>669.082799</td>\n      <td>5.0</td>\n    </tr>\n    <tr>\n      <th>Bonares</th>\n      <td>56.0</td>\n      <td>11.0</td>\n      <td>14.0</td>\n      <td>6058.0</td>\n      <td>181.578079</td>\n      <td>231.099373</td>\n      <td>4.0</td>\n    </tr>\n    <tr>\n      <th>Aljaraque</th>\n      <td>432.0</td>\n      <td>30.0</td>\n      <td>56.0</td>\n      <td>21260.0</td>\n      <td>141.110066</td>\n      <td>263.405456</td>\n      <td>3.0</td>\n    </tr>\n    <tr>\n      <th>Escacena del Campo</th>\n      <td>97.0</td>\n      <td>6.0</td>\n      <td>6.0</td>\n      <td>2284.0</td>\n      <td>262.697023</td>\n      <td>262.697023</td>\n      <td>2.0</td>\n    </tr>\n    <tr>\n      <th>Villanueva de los Castillejos</th>\n      <td>63.0</td>\n      <td>3.0</td>\n      <td>5.0</td>\n      <td>2820.0</td>\n      <td>106.382979</td>\n      <td>177.304965</td>\n      <td>2.0</td>\n    </tr>\n    <tr>\n      <th>Aracena</th>\n      <td>287.0</td>\n      <td>2.0</td>\n      <td>2.0</td>\n      <td>8107.0</td>\n      <td>24.670038</td>\n      <td>24.670038</td>\n      <td>1.0</td>\n    </tr>\n    <tr>\n      <th>Lucena del Puerto</th>\n      <td>99.0</td>\n      <td>14.0</td>\n      <td>17.0</td>\n      <td>3371.0</td>\n      <td>415.307031</td>\n      <td>504.301394</td>\n      <td>1.0</td>\n    </tr>\n    <tr>\n      <th>Moguer</th>\n      <td>370.0</td>\n      <td>22.0</td>\n      <td>40.0</td>\n      <td>22088.0</td>\n      <td>99.601594</td>\n      <td>181.093807</td>\n      <td>1.0</td>\n    </tr>\n    <tr>\n      <th>Ayamonte</th>\n      <td>334.0</td>\n      <td>10.0</td>\n      <td>17.0</td>\n      <td>20946.0</td>\n      <td>47.741812</td>\n      <td>81.161081</td>\n      <td>1.0</td>\n    </tr>\n    <tr>\n      <th>Palos de la Frontera</th>\n      <td>239.0</td>\n      <td>15.0</td>\n      <td>33.0</td>\n      <td>11289.0</td>\n      <td>132.872708</td>\n      <td>292.319957</td>\n      <td>1.0</td>\n    </tr>\n    <tr>\n      <th>Punta Umbría</th>\n      <td>234.0</td>\n      <td>4.0</td>\n      <td>9.0</td>\n      <td>15242.0</td>\n      <td>26.243275</td>\n      <td>59.047369</td>\n      <td>1.0</td>\n    </tr>\n    <tr>\n      <th>Sierra de Huelva-Andévalo Central</th>\n      <td>1284.0</td>\n      <td>18.0</td>\n      <td>31.0</td>\n      <td>67571.0</td>\n      <td>26.638647</td>\n      <td>45.877669</td>\n      <td>1.0</td>\n    </tr>\n    <tr>\n      <th>Niebla</th>\n      <td>113.0</td>\n      <td>1.0</td>\n      <td>1.0</td>\n      <td>4117.0</td>\n      <td>24.289531</td>\n      <td>24.289531</td>\n      <td>NaN</td>\n    </tr>\n    <tr>\n      <th>Puebla de Guzmán</th>\n      <td>25.0</td>\n      <td>1.0</td>\n      <td>2.0</td>\n      <td>3073.0</td>\n      <td>32.541490</td>\n      <td>65.082981</td>\n      <td>NaN</td>\n    </tr>\n    <tr>\n      <th>Rociana del Condado</th>\n      <td>118.0</td>\n      <td>2.0</td>\n      <td>4.0</td>\n      <td>7855.0</td>\n      <td>25.461489</td>\n      <td>50.922979</td>\n      <td>NaN</td>\n    </tr>\n  </tbody>\n</table>\n</div>"
     },
     "metadata": {},
     "execution_count": 15
    }
   ],
   "source": [
    "# Nuevos casos desde la última captura\n",
    "tabla[tabla['Diferencia PDIA'] != 0].sort_values('Diferencia PDIA', ascending=False)"
   ]
  },
  {
   "cell_type": "code",
   "execution_count": 16,
   "metadata": {},
   "outputs": [],
   "source": [
    "if tabla[tabla['Diferencia PDIA'] != 0]['Diferencia PDIA'].sum() > 0:\n",
    "  # Save to csv\n",
    "  tabla.to_csv('covid_huelva.csv', encoding='utf-8', header=True, index=True)  "
   ]
  },
  {
   "cell_type": "code",
   "execution_count": 17,
   "metadata": {},
   "outputs": [
    {
     "output_type": "execute_result",
     "data": {
      "text/plain": [
       "Medida                             Confirmados PDIA  Confirmados PDIA 7 días  \\\n",
       "Lugar de residencia                                                            \n",
       "Palma del Condado (La)                        528.0                     23.0   \n",
       "Lucena del Puerto                              99.0                     14.0   \n",
       "Jabugo                                         46.0                     10.0   \n",
       "Isla Cristina                                 436.0                     45.0   \n",
       "Cartaya                                       400.0                     42.0   \n",
       "Palos de la Frontera                          239.0                     15.0   \n",
       "Lepe                                          961.0                     45.0   \n",
       "Aljaraque                                     432.0                     30.0   \n",
       "Escacena del Campo                             97.0                      6.0   \n",
       "Paterna del Campo                              68.0                      7.0   \n",
       "Bonares                                        56.0                     11.0   \n",
       "Huelva-Costa                                 6173.0                    321.0   \n",
       "Huelva (capital)                             3091.0                    137.0   \n",
       "Granado (El)                                   37.0                      1.0   \n",
       "Moguer                                        370.0                     22.0   \n",
       "Villanueva de los Castillejos                  63.0                      3.0   \n",
       "Huelva                                      10929.0                    457.0   \n",
       "San Juan del Puerto                           153.0                      6.0   \n",
       "Condado-Campiña                              3350.0                    117.0   \n",
       "Bollullos Par del Condado                     249.0                      3.0   \n",
       "San Bartolomé de la Torre                      45.0                      1.0   \n",
       "Aroche                                         55.0                      1.0   \n",
       "Ayamonte                                      334.0                     10.0   \n",
       "Minas de Riotinto                              67.0                      1.0   \n",
       "Alosno                                         44.0                      2.0   \n",
       "Puebla de Guzmán                               25.0                      1.0   \n",
       "Trigueros                                     132.0                      4.0   \n",
       "Punta Umbría                                  234.0                      4.0   \n",
       "Rociana del Condado                           118.0                      2.0   \n",
       "Sierra de Huelva-Andévalo Central            1284.0                     18.0   \n",
       "Villablanca                                    55.0                      1.0   \n",
       "Zalamea la Real                                47.0                      1.0   \n",
       "Valverde del Camino                           273.0                      2.0   \n",
       "Almonte                                       439.0                      2.0   \n",
       "Aracena                                       287.0                      2.0   \n",
       "Niebla                                        113.0                      1.0   \n",
       "Cortegana                                     122.0                      1.0   \n",
       "\n",
       "Medida                             Confirmados PDIA 14 días  Población  \\\n",
       "Lugar de residencia                                                      \n",
       "Palma del Condado (La)                                 72.0    10761.0   \n",
       "Lucena del Puerto                                      17.0     3371.0   \n",
       "Jabugo                                                 11.0     2250.0   \n",
       "Isla Cristina                                          94.0    21264.0   \n",
       "Cartaya                                                71.0    19974.0   \n",
       "Palos de la Frontera                                   33.0    11289.0   \n",
       "Lepe                                                   77.0    27431.0   \n",
       "Aljaraque                                              56.0    21260.0   \n",
       "Escacena del Campo                                      6.0     2284.0   \n",
       "Paterna del Campo                                       9.0     3509.0   \n",
       "Bonares                                                14.0     6058.0   \n",
       "Huelva-Costa                                          615.0   288115.0   \n",
       "Huelva (capital)                                      279.0   143663.0   \n",
       "Granado (El)                                            1.0      516.0   \n",
       "Moguer                                                 40.0    22088.0   \n",
       "Villanueva de los Castillejos                           5.0     2820.0   \n",
       "Huelva                                                900.0   510743.0   \n",
       "San Juan del Puerto                                    16.0     9300.0   \n",
       "Condado-Campiña                                       253.0   155057.0   \n",
       "Bollullos Par del Condado                              18.0    14272.0   \n",
       "San Bartolomé de la Torre                               4.0     3736.0   \n",
       "Aroche                                                  3.0     3073.0   \n",
       "Ayamonte                                               17.0    20946.0   \n",
       "Minas de Riotinto                                       3.0     3848.0   \n",
       "Alosno                                                  3.0     3923.0   \n",
       "Puebla de Guzmán                                        2.0     3073.0   \n",
       "Trigueros                                               5.0     7713.0   \n",
       "Punta Umbría                                            9.0    15242.0   \n",
       "Rociana del Condado                                     4.0     7855.0   \n",
       "Sierra de Huelva-Andévalo Central                      31.0    67571.0   \n",
       "Villablanca                                             1.0     2848.0   \n",
       "Zalamea la Real                                         1.0     3068.0   \n",
       "Valverde del Camino                                     4.0    12820.0   \n",
       "Almonte                                                 6.0    24191.0   \n",
       "Aracena                                                 2.0     8107.0   \n",
       "Niebla                                                  1.0     4117.0   \n",
       "Cortegana                                               1.0     4666.0   \n",
       "\n",
       "Medida                                  tasa7      tasa14  Diferencia PDIA  \n",
       "Lugar de residencia                                                         \n",
       "Palma del Condado (La)             213.734783  669.082799              5.0  \n",
       "Lucena del Puerto                  415.307031  504.301394              1.0  \n",
       "Jabugo                             444.444444  488.888889              0.0  \n",
       "Isla Cristina                      211.625282  442.061701             18.0  \n",
       "Cartaya                            210.273355  355.462101              6.0  \n",
       "Palos de la Frontera               132.872708  292.319957              1.0  \n",
       "Lepe                               164.047975  280.704313             10.0  \n",
       "Aljaraque                          141.110066  263.405456              3.0  \n",
       "Escacena del Campo                 262.697023  262.697023              2.0  \n",
       "Paterna del Campo                  199.487033  256.483329              0.0  \n",
       "Bonares                            181.578079  231.099373              4.0  \n",
       "Huelva-Costa                       111.413845  213.456432             58.0  \n",
       "Huelva (capital)                    95.362063  194.204492             16.0  \n",
       "Granado (El)                       193.798450  193.798450              0.0  \n",
       "Moguer                              99.601594  181.093807              1.0  \n",
       "Villanueva de los Castillejos      106.382979  177.304965              2.0  \n",
       "Huelva                              89.477487  176.213869             75.0  \n",
       "San Juan del Puerto                 64.516129  172.043011              0.0  \n",
       "Condado-Campiña                     75.456123  163.165804             17.0  \n",
       "Bollullos Par del Condado           21.020179  126.121076              0.0  \n",
       "San Bartolomé de la Torre           26.766595  107.066381              0.0  \n",
       "Aroche                              32.541490   97.624471              0.0  \n",
       "Ayamonte                            47.741812   81.161081              1.0  \n",
       "Minas de Riotinto                   25.987526   77.962578              0.0  \n",
       "Alosno                              50.981392   76.472088              0.0  \n",
       "Puebla de Guzmán                    32.541490   65.082981              NaN  \n",
       "Trigueros                           51.860495   64.825619              0.0  \n",
       "Punta Umbría                        26.243275   59.047369              1.0  \n",
       "Rociana del Condado                 25.461489   50.922979              NaN  \n",
       "Sierra de Huelva-Andévalo Central   26.638647   45.877669              1.0  \n",
       "Villablanca                         35.112360   35.112360              0.0  \n",
       "Zalamea la Real                     32.594524   32.594524              0.0  \n",
       "Valverde del Camino                 15.600624   31.201248              0.0  \n",
       "Almonte                              8.267538   24.802613              0.0  \n",
       "Aracena                             24.670038   24.670038              1.0  \n",
       "Niebla                              24.289531   24.289531              NaN  \n",
       "Cortegana                           21.431633   21.431633              0.0  "
      ],
      "text/html": "<div>\n<style scoped>\n    .dataframe tbody tr th:only-of-type {\n        vertical-align: middle;\n    }\n\n    .dataframe tbody tr th {\n        vertical-align: top;\n    }\n\n    .dataframe thead th {\n        text-align: right;\n    }\n</style>\n<table border=\"1\" class=\"dataframe\">\n  <thead>\n    <tr style=\"text-align: right;\">\n      <th>Medida</th>\n      <th>Confirmados PDIA</th>\n      <th>Confirmados PDIA 7 días</th>\n      <th>Confirmados PDIA 14 días</th>\n      <th>Población</th>\n      <th>tasa7</th>\n      <th>tasa14</th>\n      <th>Diferencia PDIA</th>\n    </tr>\n    <tr>\n      <th>Lugar de residencia</th>\n      <th></th>\n      <th></th>\n      <th></th>\n      <th></th>\n      <th></th>\n      <th></th>\n      <th></th>\n    </tr>\n  </thead>\n  <tbody>\n    <tr>\n      <th>Palma del Condado (La)</th>\n      <td>528.0</td>\n      <td>23.0</td>\n      <td>72.0</td>\n      <td>10761.0</td>\n      <td>213.734783</td>\n      <td>669.082799</td>\n      <td>5.0</td>\n    </tr>\n    <tr>\n      <th>Lucena del Puerto</th>\n      <td>99.0</td>\n      <td>14.0</td>\n      <td>17.0</td>\n      <td>3371.0</td>\n      <td>415.307031</td>\n      <td>504.301394</td>\n      <td>1.0</td>\n    </tr>\n    <tr>\n      <th>Jabugo</th>\n      <td>46.0</td>\n      <td>10.0</td>\n      <td>11.0</td>\n      <td>2250.0</td>\n      <td>444.444444</td>\n      <td>488.888889</td>\n      <td>0.0</td>\n    </tr>\n    <tr>\n      <th>Isla Cristina</th>\n      <td>436.0</td>\n      <td>45.0</td>\n      <td>94.0</td>\n      <td>21264.0</td>\n      <td>211.625282</td>\n      <td>442.061701</td>\n      <td>18.0</td>\n    </tr>\n    <tr>\n      <th>Cartaya</th>\n      <td>400.0</td>\n      <td>42.0</td>\n      <td>71.0</td>\n      <td>19974.0</td>\n      <td>210.273355</td>\n      <td>355.462101</td>\n      <td>6.0</td>\n    </tr>\n    <tr>\n      <th>Palos de la Frontera</th>\n      <td>239.0</td>\n      <td>15.0</td>\n      <td>33.0</td>\n      <td>11289.0</td>\n      <td>132.872708</td>\n      <td>292.319957</td>\n      <td>1.0</td>\n    </tr>\n    <tr>\n      <th>Lepe</th>\n      <td>961.0</td>\n      <td>45.0</td>\n      <td>77.0</td>\n      <td>27431.0</td>\n      <td>164.047975</td>\n      <td>280.704313</td>\n      <td>10.0</td>\n    </tr>\n    <tr>\n      <th>Aljaraque</th>\n      <td>432.0</td>\n      <td>30.0</td>\n      <td>56.0</td>\n      <td>21260.0</td>\n      <td>141.110066</td>\n      <td>263.405456</td>\n      <td>3.0</td>\n    </tr>\n    <tr>\n      <th>Escacena del Campo</th>\n      <td>97.0</td>\n      <td>6.0</td>\n      <td>6.0</td>\n      <td>2284.0</td>\n      <td>262.697023</td>\n      <td>262.697023</td>\n      <td>2.0</td>\n    </tr>\n    <tr>\n      <th>Paterna del Campo</th>\n      <td>68.0</td>\n      <td>7.0</td>\n      <td>9.0</td>\n      <td>3509.0</td>\n      <td>199.487033</td>\n      <td>256.483329</td>\n      <td>0.0</td>\n    </tr>\n    <tr>\n      <th>Bonares</th>\n      <td>56.0</td>\n      <td>11.0</td>\n      <td>14.0</td>\n      <td>6058.0</td>\n      <td>181.578079</td>\n      <td>231.099373</td>\n      <td>4.0</td>\n    </tr>\n    <tr>\n      <th>Huelva-Costa</th>\n      <td>6173.0</td>\n      <td>321.0</td>\n      <td>615.0</td>\n      <td>288115.0</td>\n      <td>111.413845</td>\n      <td>213.456432</td>\n      <td>58.0</td>\n    </tr>\n    <tr>\n      <th>Huelva (capital)</th>\n      <td>3091.0</td>\n      <td>137.0</td>\n      <td>279.0</td>\n      <td>143663.0</td>\n      <td>95.362063</td>\n      <td>194.204492</td>\n      <td>16.0</td>\n    </tr>\n    <tr>\n      <th>Granado (El)</th>\n      <td>37.0</td>\n      <td>1.0</td>\n      <td>1.0</td>\n      <td>516.0</td>\n      <td>193.798450</td>\n      <td>193.798450</td>\n      <td>0.0</td>\n    </tr>\n    <tr>\n      <th>Moguer</th>\n      <td>370.0</td>\n      <td>22.0</td>\n      <td>40.0</td>\n      <td>22088.0</td>\n      <td>99.601594</td>\n      <td>181.093807</td>\n      <td>1.0</td>\n    </tr>\n    <tr>\n      <th>Villanueva de los Castillejos</th>\n      <td>63.0</td>\n      <td>3.0</td>\n      <td>5.0</td>\n      <td>2820.0</td>\n      <td>106.382979</td>\n      <td>177.304965</td>\n      <td>2.0</td>\n    </tr>\n    <tr>\n      <th>Huelva</th>\n      <td>10929.0</td>\n      <td>457.0</td>\n      <td>900.0</td>\n      <td>510743.0</td>\n      <td>89.477487</td>\n      <td>176.213869</td>\n      <td>75.0</td>\n    </tr>\n    <tr>\n      <th>San Juan del Puerto</th>\n      <td>153.0</td>\n      <td>6.0</td>\n      <td>16.0</td>\n      <td>9300.0</td>\n      <td>64.516129</td>\n      <td>172.043011</td>\n      <td>0.0</td>\n    </tr>\n    <tr>\n      <th>Condado-Campiña</th>\n      <td>3350.0</td>\n      <td>117.0</td>\n      <td>253.0</td>\n      <td>155057.0</td>\n      <td>75.456123</td>\n      <td>163.165804</td>\n      <td>17.0</td>\n    </tr>\n    <tr>\n      <th>Bollullos Par del Condado</th>\n      <td>249.0</td>\n      <td>3.0</td>\n      <td>18.0</td>\n      <td>14272.0</td>\n      <td>21.020179</td>\n      <td>126.121076</td>\n      <td>0.0</td>\n    </tr>\n    <tr>\n      <th>San Bartolomé de la Torre</th>\n      <td>45.0</td>\n      <td>1.0</td>\n      <td>4.0</td>\n      <td>3736.0</td>\n      <td>26.766595</td>\n      <td>107.066381</td>\n      <td>0.0</td>\n    </tr>\n    <tr>\n      <th>Aroche</th>\n      <td>55.0</td>\n      <td>1.0</td>\n      <td>3.0</td>\n      <td>3073.0</td>\n      <td>32.541490</td>\n      <td>97.624471</td>\n      <td>0.0</td>\n    </tr>\n    <tr>\n      <th>Ayamonte</th>\n      <td>334.0</td>\n      <td>10.0</td>\n      <td>17.0</td>\n      <td>20946.0</td>\n      <td>47.741812</td>\n      <td>81.161081</td>\n      <td>1.0</td>\n    </tr>\n    <tr>\n      <th>Minas de Riotinto</th>\n      <td>67.0</td>\n      <td>1.0</td>\n      <td>3.0</td>\n      <td>3848.0</td>\n      <td>25.987526</td>\n      <td>77.962578</td>\n      <td>0.0</td>\n    </tr>\n    <tr>\n      <th>Alosno</th>\n      <td>44.0</td>\n      <td>2.0</td>\n      <td>3.0</td>\n      <td>3923.0</td>\n      <td>50.981392</td>\n      <td>76.472088</td>\n      <td>0.0</td>\n    </tr>\n    <tr>\n      <th>Puebla de Guzmán</th>\n      <td>25.0</td>\n      <td>1.0</td>\n      <td>2.0</td>\n      <td>3073.0</td>\n      <td>32.541490</td>\n      <td>65.082981</td>\n      <td>NaN</td>\n    </tr>\n    <tr>\n      <th>Trigueros</th>\n      <td>132.0</td>\n      <td>4.0</td>\n      <td>5.0</td>\n      <td>7713.0</td>\n      <td>51.860495</td>\n      <td>64.825619</td>\n      <td>0.0</td>\n    </tr>\n    <tr>\n      <th>Punta Umbría</th>\n      <td>234.0</td>\n      <td>4.0</td>\n      <td>9.0</td>\n      <td>15242.0</td>\n      <td>26.243275</td>\n      <td>59.047369</td>\n      <td>1.0</td>\n    </tr>\n    <tr>\n      <th>Rociana del Condado</th>\n      <td>118.0</td>\n      <td>2.0</td>\n      <td>4.0</td>\n      <td>7855.0</td>\n      <td>25.461489</td>\n      <td>50.922979</td>\n      <td>NaN</td>\n    </tr>\n    <tr>\n      <th>Sierra de Huelva-Andévalo Central</th>\n      <td>1284.0</td>\n      <td>18.0</td>\n      <td>31.0</td>\n      <td>67571.0</td>\n      <td>26.638647</td>\n      <td>45.877669</td>\n      <td>1.0</td>\n    </tr>\n    <tr>\n      <th>Villablanca</th>\n      <td>55.0</td>\n      <td>1.0</td>\n      <td>1.0</td>\n      <td>2848.0</td>\n      <td>35.112360</td>\n      <td>35.112360</td>\n      <td>0.0</td>\n    </tr>\n    <tr>\n      <th>Zalamea la Real</th>\n      <td>47.0</td>\n      <td>1.0</td>\n      <td>1.0</td>\n      <td>3068.0</td>\n      <td>32.594524</td>\n      <td>32.594524</td>\n      <td>0.0</td>\n    </tr>\n    <tr>\n      <th>Valverde del Camino</th>\n      <td>273.0</td>\n      <td>2.0</td>\n      <td>4.0</td>\n      <td>12820.0</td>\n      <td>15.600624</td>\n      <td>31.201248</td>\n      <td>0.0</td>\n    </tr>\n    <tr>\n      <th>Almonte</th>\n      <td>439.0</td>\n      <td>2.0</td>\n      <td>6.0</td>\n      <td>24191.0</td>\n      <td>8.267538</td>\n      <td>24.802613</td>\n      <td>0.0</td>\n    </tr>\n    <tr>\n      <th>Aracena</th>\n      <td>287.0</td>\n      <td>2.0</td>\n      <td>2.0</td>\n      <td>8107.0</td>\n      <td>24.670038</td>\n      <td>24.670038</td>\n      <td>1.0</td>\n    </tr>\n    <tr>\n      <th>Niebla</th>\n      <td>113.0</td>\n      <td>1.0</td>\n      <td>1.0</td>\n      <td>4117.0</td>\n      <td>24.289531</td>\n      <td>24.289531</td>\n      <td>NaN</td>\n    </tr>\n    <tr>\n      <th>Cortegana</th>\n      <td>122.0</td>\n      <td>1.0</td>\n      <td>1.0</td>\n      <td>4666.0</td>\n      <td>21.431633</td>\n      <td>21.431633</td>\n      <td>0.0</td>\n    </tr>\n  </tbody>\n</table>\n</div>"
     },
     "metadata": {},
     "execution_count": 17
    }
   ],
   "source": [
    "tabla.sort_values('tasa14', ascending=False)"
   ]
  },
  {
   "cell_type": "code",
   "execution_count": 18,
   "metadata": {},
   "outputs": [
    {
     "output_type": "execute_result",
     "data": {
      "text/plain": [
       "Medida                             Confirmados PDIA  Confirmados PDIA 7 días  \\\n",
       "Lugar de residencia                                                            \n",
       "Bollullos Par del Condado                     249.0                      3.0   \n",
       "San Bartolomé de la Torre                      45.0                      1.0   \n",
       "Palma del Condado (La)                        528.0                     23.0   \n",
       "Minas de Riotinto                              67.0                      1.0   \n",
       "Aroche                                         55.0                      1.0   \n",
       "Almonte                                       439.0                      2.0   \n",
       "San Juan del Puerto                           153.0                      6.0   \n",
       "Punta Umbría                                  234.0                      4.0   \n",
       "Palos de la Frontera                          239.0                     15.0   \n",
       "Condado-Campiña                              3350.0                    117.0   \n",
       "Isla Cristina                                 436.0                     45.0   \n",
       "Huelva (capital)                             3091.0                    137.0   \n",
       "Rociana del Condado                           118.0                      2.0   \n",
       "Puebla de Guzmán                               25.0                      1.0   \n",
       "Valverde del Camino                           273.0                      2.0   \n",
       "Huelva                                      10929.0                    457.0   \n",
       "Huelva-Costa                                 6173.0                    321.0   \n",
       "Aljaraque                                     432.0                     30.0   \n",
       "Moguer                                        370.0                     22.0   \n",
       "Sierra de Huelva-Andévalo Central            1284.0                     18.0   \n",
       "Lepe                                          961.0                     45.0   \n",
       "Ayamonte                                      334.0                     10.0   \n",
       "Cartaya                                       400.0                     42.0   \n",
       "Villanueva de los Castillejos                  63.0                      3.0   \n",
       "Alosno                                         44.0                      2.0   \n",
       "Paterna del Campo                              68.0                      7.0   \n",
       "Bonares                                        56.0                     11.0   \n",
       "Trigueros                                     132.0                      4.0   \n",
       "Lucena del Puerto                              99.0                     14.0   \n",
       "Jabugo                                         46.0                     10.0   \n",
       "Niebla                                        113.0                      1.0   \n",
       "Granado (El)                                   37.0                      1.0   \n",
       "Escacena del Campo                             97.0                      6.0   \n",
       "Cortegana                                     122.0                      1.0   \n",
       "Aracena                                       287.0                      2.0   \n",
       "Villablanca                                    55.0                      1.0   \n",
       "Zalamea la Real                                47.0                      1.0   \n",
       "\n",
       "Medida                             Confirmados PDIA 14 días  Población  \\\n",
       "Lugar de residencia                                                      \n",
       "Bollullos Par del Condado                              18.0    14272.0   \n",
       "San Bartolomé de la Torre                               4.0     3736.0   \n",
       "Palma del Condado (La)                                 72.0    10761.0   \n",
       "Minas de Riotinto                                       3.0     3848.0   \n",
       "Aroche                                                  3.0     3073.0   \n",
       "Almonte                                                 6.0    24191.0   \n",
       "San Juan del Puerto                                    16.0     9300.0   \n",
       "Punta Umbría                                            9.0    15242.0   \n",
       "Palos de la Frontera                                   33.0    11289.0   \n",
       "Condado-Campiña                                       253.0   155057.0   \n",
       "Isla Cristina                                          94.0    21264.0   \n",
       "Huelva (capital)                                      279.0   143663.0   \n",
       "Rociana del Condado                                     4.0     7855.0   \n",
       "Puebla de Guzmán                                        2.0     3073.0   \n",
       "Valverde del Camino                                     4.0    12820.0   \n",
       "Huelva                                                900.0   510743.0   \n",
       "Huelva-Costa                                          615.0   288115.0   \n",
       "Aljaraque                                              56.0    21260.0   \n",
       "Moguer                                                 40.0    22088.0   \n",
       "Sierra de Huelva-Andévalo Central                      31.0    67571.0   \n",
       "Lepe                                                   77.0    27431.0   \n",
       "Ayamonte                                               17.0    20946.0   \n",
       "Cartaya                                                71.0    19974.0   \n",
       "Villanueva de los Castillejos                           5.0     2820.0   \n",
       "Alosno                                                  3.0     3923.0   \n",
       "Paterna del Campo                                       9.0     3509.0   \n",
       "Bonares                                                14.0     6058.0   \n",
       "Trigueros                                               5.0     7713.0   \n",
       "Lucena del Puerto                                      17.0     3371.0   \n",
       "Jabugo                                                 11.0     2250.0   \n",
       "Niebla                                                  1.0     4117.0   \n",
       "Granado (El)                                            1.0      516.0   \n",
       "Escacena del Campo                                      6.0     2284.0   \n",
       "Cortegana                                               1.0     4666.0   \n",
       "Aracena                                                 2.0     8107.0   \n",
       "Villablanca                                             1.0     2848.0   \n",
       "Zalamea la Real                                         1.0     3068.0   \n",
       "\n",
       "Medida                                  tasa7      tasa14  Diferencia PDIA  \\\n",
       "Lugar de residencia                                                          \n",
       "Bollullos Par del Condado           21.020179  126.121076              0.0   \n",
       "San Bartolomé de la Torre           26.766595  107.066381              0.0   \n",
       "Palma del Condado (La)             213.734783  669.082799              5.0   \n",
       "Minas de Riotinto                   25.987526   77.962578              0.0   \n",
       "Aroche                              32.541490   97.624471              0.0   \n",
       "Almonte                              8.267538   24.802613              0.0   \n",
       "San Juan del Puerto                 64.516129  172.043011              0.0   \n",
       "Punta Umbría                        26.243275   59.047369              1.0   \n",
       "Palos de la Frontera               132.872708  292.319957              1.0   \n",
       "Condado-Campiña                     75.456123  163.165804             17.0   \n",
       "Isla Cristina                      211.625282  442.061701             18.0   \n",
       "Huelva (capital)                    95.362063  194.204492             16.0   \n",
       "Rociana del Condado                 25.461489   50.922979              0.0   \n",
       "Puebla de Guzmán                    32.541490   65.082981              0.0   \n",
       "Valverde del Camino                 15.600624   31.201248              0.0   \n",
       "Huelva                              89.477487  176.213869             75.0   \n",
       "Huelva-Costa                       111.413845  213.456432             58.0   \n",
       "Aljaraque                          141.110066  263.405456              3.0   \n",
       "Moguer                              99.601594  181.093807              1.0   \n",
       "Sierra de Huelva-Andévalo Central   26.638647   45.877669              1.0   \n",
       "Lepe                               164.047975  280.704313             10.0   \n",
       "Ayamonte                            47.741812   81.161081              1.0   \n",
       "Cartaya                            210.273355  355.462101              6.0   \n",
       "Villanueva de los Castillejos      106.382979  177.304965              2.0   \n",
       "Alosno                              50.981392   76.472088              0.0   \n",
       "Paterna del Campo                  199.487033  256.483329              0.0   \n",
       "Bonares                            181.578079  231.099373              4.0   \n",
       "Trigueros                           51.860495   64.825619              0.0   \n",
       "Lucena del Puerto                  415.307031  504.301394              1.0   \n",
       "Jabugo                             444.444444  488.888889              0.0   \n",
       "Niebla                              24.289531   24.289531              0.0   \n",
       "Granado (El)                       193.798450  193.798450              0.0   \n",
       "Escacena del Campo                 262.697023  262.697023              2.0   \n",
       "Cortegana                           21.431633   21.431633              0.0   \n",
       "Aracena                             24.670038   24.670038              1.0   \n",
       "Villablanca                         35.112360   35.112360              0.0   \n",
       "Zalamea la Real                     32.594524   32.594524              0.0   \n",
       "\n",
       "Medida                                 7/14  \n",
       "Lugar de residencia                          \n",
       "Bollullos Par del Condado          0.166667  \n",
       "San Bartolomé de la Torre          0.250000  \n",
       "Palma del Condado (La)             0.319444  \n",
       "Minas de Riotinto                  0.333333  \n",
       "Aroche                             0.333333  \n",
       "Almonte                            0.333333  \n",
       "San Juan del Puerto                0.375000  \n",
       "Punta Umbría                       0.444444  \n",
       "Palos de la Frontera               0.454545  \n",
       "Condado-Campiña                    0.462451  \n",
       "Isla Cristina                      0.478723  \n",
       "Huelva (capital)                   0.491039  \n",
       "Rociana del Condado                0.500000  \n",
       "Puebla de Guzmán                   0.500000  \n",
       "Valverde del Camino                0.500000  \n",
       "Huelva                             0.507778  \n",
       "Huelva-Costa                       0.521951  \n",
       "Aljaraque                          0.535714  \n",
       "Moguer                             0.550000  \n",
       "Sierra de Huelva-Andévalo Central  0.580645  \n",
       "Lepe                               0.584416  \n",
       "Ayamonte                           0.588235  \n",
       "Cartaya                            0.591549  \n",
       "Villanueva de los Castillejos      0.600000  \n",
       "Alosno                             0.666667  \n",
       "Paterna del Campo                  0.777778  \n",
       "Bonares                            0.785714  \n",
       "Trigueros                          0.800000  \n",
       "Lucena del Puerto                  0.823529  \n",
       "Jabugo                             0.909091  \n",
       "Niebla                             1.000000  \n",
       "Granado (El)                       1.000000  \n",
       "Escacena del Campo                 1.000000  \n",
       "Cortegana                          1.000000  \n",
       "Aracena                            1.000000  \n",
       "Villablanca                        1.000000  \n",
       "Zalamea la Real                    1.000000  "
      ],
      "text/html": "<div>\n<style scoped>\n    .dataframe tbody tr th:only-of-type {\n        vertical-align: middle;\n    }\n\n    .dataframe tbody tr th {\n        vertical-align: top;\n    }\n\n    .dataframe thead th {\n        text-align: right;\n    }\n</style>\n<table border=\"1\" class=\"dataframe\">\n  <thead>\n    <tr style=\"text-align: right;\">\n      <th>Medida</th>\n      <th>Confirmados PDIA</th>\n      <th>Confirmados PDIA 7 días</th>\n      <th>Confirmados PDIA 14 días</th>\n      <th>Población</th>\n      <th>tasa7</th>\n      <th>tasa14</th>\n      <th>Diferencia PDIA</th>\n      <th>7/14</th>\n    </tr>\n    <tr>\n      <th>Lugar de residencia</th>\n      <th></th>\n      <th></th>\n      <th></th>\n      <th></th>\n      <th></th>\n      <th></th>\n      <th></th>\n      <th></th>\n    </tr>\n  </thead>\n  <tbody>\n    <tr>\n      <th>Bollullos Par del Condado</th>\n      <td>249.0</td>\n      <td>3.0</td>\n      <td>18.0</td>\n      <td>14272.0</td>\n      <td>21.020179</td>\n      <td>126.121076</td>\n      <td>0.0</td>\n      <td>0.166667</td>\n    </tr>\n    <tr>\n      <th>San Bartolomé de la Torre</th>\n      <td>45.0</td>\n      <td>1.0</td>\n      <td>4.0</td>\n      <td>3736.0</td>\n      <td>26.766595</td>\n      <td>107.066381</td>\n      <td>0.0</td>\n      <td>0.250000</td>\n    </tr>\n    <tr>\n      <th>Palma del Condado (La)</th>\n      <td>528.0</td>\n      <td>23.0</td>\n      <td>72.0</td>\n      <td>10761.0</td>\n      <td>213.734783</td>\n      <td>669.082799</td>\n      <td>5.0</td>\n      <td>0.319444</td>\n    </tr>\n    <tr>\n      <th>Minas de Riotinto</th>\n      <td>67.0</td>\n      <td>1.0</td>\n      <td>3.0</td>\n      <td>3848.0</td>\n      <td>25.987526</td>\n      <td>77.962578</td>\n      <td>0.0</td>\n      <td>0.333333</td>\n    </tr>\n    <tr>\n      <th>Aroche</th>\n      <td>55.0</td>\n      <td>1.0</td>\n      <td>3.0</td>\n      <td>3073.0</td>\n      <td>32.541490</td>\n      <td>97.624471</td>\n      <td>0.0</td>\n      <td>0.333333</td>\n    </tr>\n    <tr>\n      <th>Almonte</th>\n      <td>439.0</td>\n      <td>2.0</td>\n      <td>6.0</td>\n      <td>24191.0</td>\n      <td>8.267538</td>\n      <td>24.802613</td>\n      <td>0.0</td>\n      <td>0.333333</td>\n    </tr>\n    <tr>\n      <th>San Juan del Puerto</th>\n      <td>153.0</td>\n      <td>6.0</td>\n      <td>16.0</td>\n      <td>9300.0</td>\n      <td>64.516129</td>\n      <td>172.043011</td>\n      <td>0.0</td>\n      <td>0.375000</td>\n    </tr>\n    <tr>\n      <th>Punta Umbría</th>\n      <td>234.0</td>\n      <td>4.0</td>\n      <td>9.0</td>\n      <td>15242.0</td>\n      <td>26.243275</td>\n      <td>59.047369</td>\n      <td>1.0</td>\n      <td>0.444444</td>\n    </tr>\n    <tr>\n      <th>Palos de la Frontera</th>\n      <td>239.0</td>\n      <td>15.0</td>\n      <td>33.0</td>\n      <td>11289.0</td>\n      <td>132.872708</td>\n      <td>292.319957</td>\n      <td>1.0</td>\n      <td>0.454545</td>\n    </tr>\n    <tr>\n      <th>Condado-Campiña</th>\n      <td>3350.0</td>\n      <td>117.0</td>\n      <td>253.0</td>\n      <td>155057.0</td>\n      <td>75.456123</td>\n      <td>163.165804</td>\n      <td>17.0</td>\n      <td>0.462451</td>\n    </tr>\n    <tr>\n      <th>Isla Cristina</th>\n      <td>436.0</td>\n      <td>45.0</td>\n      <td>94.0</td>\n      <td>21264.0</td>\n      <td>211.625282</td>\n      <td>442.061701</td>\n      <td>18.0</td>\n      <td>0.478723</td>\n    </tr>\n    <tr>\n      <th>Huelva (capital)</th>\n      <td>3091.0</td>\n      <td>137.0</td>\n      <td>279.0</td>\n      <td>143663.0</td>\n      <td>95.362063</td>\n      <td>194.204492</td>\n      <td>16.0</td>\n      <td>0.491039</td>\n    </tr>\n    <tr>\n      <th>Rociana del Condado</th>\n      <td>118.0</td>\n      <td>2.0</td>\n      <td>4.0</td>\n      <td>7855.0</td>\n      <td>25.461489</td>\n      <td>50.922979</td>\n      <td>0.0</td>\n      <td>0.500000</td>\n    </tr>\n    <tr>\n      <th>Puebla de Guzmán</th>\n      <td>25.0</td>\n      <td>1.0</td>\n      <td>2.0</td>\n      <td>3073.0</td>\n      <td>32.541490</td>\n      <td>65.082981</td>\n      <td>0.0</td>\n      <td>0.500000</td>\n    </tr>\n    <tr>\n      <th>Valverde del Camino</th>\n      <td>273.0</td>\n      <td>2.0</td>\n      <td>4.0</td>\n      <td>12820.0</td>\n      <td>15.600624</td>\n      <td>31.201248</td>\n      <td>0.0</td>\n      <td>0.500000</td>\n    </tr>\n    <tr>\n      <th>Huelva</th>\n      <td>10929.0</td>\n      <td>457.0</td>\n      <td>900.0</td>\n      <td>510743.0</td>\n      <td>89.477487</td>\n      <td>176.213869</td>\n      <td>75.0</td>\n      <td>0.507778</td>\n    </tr>\n    <tr>\n      <th>Huelva-Costa</th>\n      <td>6173.0</td>\n      <td>321.0</td>\n      <td>615.0</td>\n      <td>288115.0</td>\n      <td>111.413845</td>\n      <td>213.456432</td>\n      <td>58.0</td>\n      <td>0.521951</td>\n    </tr>\n    <tr>\n      <th>Aljaraque</th>\n      <td>432.0</td>\n      <td>30.0</td>\n      <td>56.0</td>\n      <td>21260.0</td>\n      <td>141.110066</td>\n      <td>263.405456</td>\n      <td>3.0</td>\n      <td>0.535714</td>\n    </tr>\n    <tr>\n      <th>Moguer</th>\n      <td>370.0</td>\n      <td>22.0</td>\n      <td>40.0</td>\n      <td>22088.0</td>\n      <td>99.601594</td>\n      <td>181.093807</td>\n      <td>1.0</td>\n      <td>0.550000</td>\n    </tr>\n    <tr>\n      <th>Sierra de Huelva-Andévalo Central</th>\n      <td>1284.0</td>\n      <td>18.0</td>\n      <td>31.0</td>\n      <td>67571.0</td>\n      <td>26.638647</td>\n      <td>45.877669</td>\n      <td>1.0</td>\n      <td>0.580645</td>\n    </tr>\n    <tr>\n      <th>Lepe</th>\n      <td>961.0</td>\n      <td>45.0</td>\n      <td>77.0</td>\n      <td>27431.0</td>\n      <td>164.047975</td>\n      <td>280.704313</td>\n      <td>10.0</td>\n      <td>0.584416</td>\n    </tr>\n    <tr>\n      <th>Ayamonte</th>\n      <td>334.0</td>\n      <td>10.0</td>\n      <td>17.0</td>\n      <td>20946.0</td>\n      <td>47.741812</td>\n      <td>81.161081</td>\n      <td>1.0</td>\n      <td>0.588235</td>\n    </tr>\n    <tr>\n      <th>Cartaya</th>\n      <td>400.0</td>\n      <td>42.0</td>\n      <td>71.0</td>\n      <td>19974.0</td>\n      <td>210.273355</td>\n      <td>355.462101</td>\n      <td>6.0</td>\n      <td>0.591549</td>\n    </tr>\n    <tr>\n      <th>Villanueva de los Castillejos</th>\n      <td>63.0</td>\n      <td>3.0</td>\n      <td>5.0</td>\n      <td>2820.0</td>\n      <td>106.382979</td>\n      <td>177.304965</td>\n      <td>2.0</td>\n      <td>0.600000</td>\n    </tr>\n    <tr>\n      <th>Alosno</th>\n      <td>44.0</td>\n      <td>2.0</td>\n      <td>3.0</td>\n      <td>3923.0</td>\n      <td>50.981392</td>\n      <td>76.472088</td>\n      <td>0.0</td>\n      <td>0.666667</td>\n    </tr>\n    <tr>\n      <th>Paterna del Campo</th>\n      <td>68.0</td>\n      <td>7.0</td>\n      <td>9.0</td>\n      <td>3509.0</td>\n      <td>199.487033</td>\n      <td>256.483329</td>\n      <td>0.0</td>\n      <td>0.777778</td>\n    </tr>\n    <tr>\n      <th>Bonares</th>\n      <td>56.0</td>\n      <td>11.0</td>\n      <td>14.0</td>\n      <td>6058.0</td>\n      <td>181.578079</td>\n      <td>231.099373</td>\n      <td>4.0</td>\n      <td>0.785714</td>\n    </tr>\n    <tr>\n      <th>Trigueros</th>\n      <td>132.0</td>\n      <td>4.0</td>\n      <td>5.0</td>\n      <td>7713.0</td>\n      <td>51.860495</td>\n      <td>64.825619</td>\n      <td>0.0</td>\n      <td>0.800000</td>\n    </tr>\n    <tr>\n      <th>Lucena del Puerto</th>\n      <td>99.0</td>\n      <td>14.0</td>\n      <td>17.0</td>\n      <td>3371.0</td>\n      <td>415.307031</td>\n      <td>504.301394</td>\n      <td>1.0</td>\n      <td>0.823529</td>\n    </tr>\n    <tr>\n      <th>Jabugo</th>\n      <td>46.0</td>\n      <td>10.0</td>\n      <td>11.0</td>\n      <td>2250.0</td>\n      <td>444.444444</td>\n      <td>488.888889</td>\n      <td>0.0</td>\n      <td>0.909091</td>\n    </tr>\n    <tr>\n      <th>Niebla</th>\n      <td>113.0</td>\n      <td>1.0</td>\n      <td>1.0</td>\n      <td>4117.0</td>\n      <td>24.289531</td>\n      <td>24.289531</td>\n      <td>0.0</td>\n      <td>1.000000</td>\n    </tr>\n    <tr>\n      <th>Granado (El)</th>\n      <td>37.0</td>\n      <td>1.0</td>\n      <td>1.0</td>\n      <td>516.0</td>\n      <td>193.798450</td>\n      <td>193.798450</td>\n      <td>0.0</td>\n      <td>1.000000</td>\n    </tr>\n    <tr>\n      <th>Escacena del Campo</th>\n      <td>97.0</td>\n      <td>6.0</td>\n      <td>6.0</td>\n      <td>2284.0</td>\n      <td>262.697023</td>\n      <td>262.697023</td>\n      <td>2.0</td>\n      <td>1.000000</td>\n    </tr>\n    <tr>\n      <th>Cortegana</th>\n      <td>122.0</td>\n      <td>1.0</td>\n      <td>1.0</td>\n      <td>4666.0</td>\n      <td>21.431633</td>\n      <td>21.431633</td>\n      <td>0.0</td>\n      <td>1.000000</td>\n    </tr>\n    <tr>\n      <th>Aracena</th>\n      <td>287.0</td>\n      <td>2.0</td>\n      <td>2.0</td>\n      <td>8107.0</td>\n      <td>24.670038</td>\n      <td>24.670038</td>\n      <td>1.0</td>\n      <td>1.000000</td>\n    </tr>\n    <tr>\n      <th>Villablanca</th>\n      <td>55.0</td>\n      <td>1.0</td>\n      <td>1.0</td>\n      <td>2848.0</td>\n      <td>35.112360</td>\n      <td>35.112360</td>\n      <td>0.0</td>\n      <td>1.000000</td>\n    </tr>\n    <tr>\n      <th>Zalamea la Real</th>\n      <td>47.0</td>\n      <td>1.0</td>\n      <td>1.0</td>\n      <td>3068.0</td>\n      <td>32.594524</td>\n      <td>32.594524</td>\n      <td>0.0</td>\n      <td>1.000000</td>\n    </tr>\n  </tbody>\n</table>\n</div>"
     },
     "metadata": {},
     "execution_count": 18
    }
   ],
   "source": [
    "# Peso de la tasa de la última semana en relación con la tasa a 14 días \n",
    "# Mejor cuanto menor. Valor 1 significa que no había casos antes de 7 días.\n",
    "tabla['7/14'] = tabla['tasa7'] / tabla['tasa14']\n",
    "tabla.fillna(0).sort_values('7/14', ascending=True)"
   ]
  },
  {
   "cell_type": "code",
   "execution_count": null,
   "metadata": {},
   "outputs": [],
   "source": []
  }
 ]
}