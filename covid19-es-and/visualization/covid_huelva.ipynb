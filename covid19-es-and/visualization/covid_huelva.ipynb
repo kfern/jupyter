{
 "metadata": {
  "language_info": {
   "codemirror_mode": {
    "name": "ipython",
    "version": 3
   },
   "file_extension": ".py",
   "mimetype": "text/x-python",
   "name": "python",
   "nbconvert_exporter": "python",
   "pygments_lexer": "ipython3",
   "version": "3.8.6-final"
  },
  "orig_nbformat": 2,
  "kernelspec": {
   "name": "python38564bit75945252d6ba481bad4868286020c89e",
   "display_name": "Python 3.8.5 64-bit",
   "language": "python"
  }
 },
 "nbformat": 4,
 "nbformat_minor": 2,
 "cells": [
  {
   "cell_type": "code",
   "execution_count": 1,
   "metadata": {},
   "outputs": [],
   "source": [
    "import pandas as pd"
   ]
  },
  {
   "cell_type": "code",
   "execution_count": 2,
   "metadata": {},
   "outputs": [],
   "source": [
    "# FIX SSL: CERTIFICATE_VERIFY_FAILED with Python3\n",
    "# https://stackoverflow.com/a/49174340\n",
    "import ssl\n",
    "\n",
    "ssl._create_default_https_context = ssl._create_unverified_context"
   ]
  },
  {
   "cell_type": "code",
   "execution_count": 3,
   "metadata": {},
   "outputs": [],
   "source": [
    "url = 'https://www.juntadeandalucia.es/institutodeestadisticaycartografia/badea/stpivot/stpivot/Print?cube=013d884c-cfc5-4c21-9e78-e26225682afd&type=3&foto=si&ejecutaDesde=&codConsulta=38668&consTipoVisua=JP'\n",
    "fields = ['Lugar de residencia', 'Medida', 'Valor']\n",
    "df = pd.read_csv(url, delimiter=';', usecols=fields, decimal=',')"
   ]
  },
  {
   "cell_type": "code",
   "execution_count": 4,
   "metadata": {},
   "outputs": [
    {
     "output_type": "execute_result",
     "data": {
      "text/plain": [
       "                     Lugar de residencia                    Medida  \\\n",
       "0                                 Huelva                 Población   \n",
       "1                                 Huelva          Confirmados PDIA   \n",
       "2                                 Huelva  Confirmados PDIA 14 días   \n",
       "3                                 Huelva         Tasa PDIA 14 días   \n",
       "4                                 Huelva   Confirmados PDIA 7 días   \n",
       "..                                   ...                       ...   \n",
       "627  Municipio de Huelva sin especificar         Tasa PDIA 14 días   \n",
       "628  Municipio de Huelva sin especificar   Confirmados PDIA 7 días   \n",
       "629  Municipio de Huelva sin especificar        Total Confirmados    \n",
       "630  Municipio de Huelva sin especificar                   Curados   \n",
       "631  Municipio de Huelva sin especificar                Fallecidos   \n",
       "\n",
       "                  Valor  \n",
       "0                510743  \n",
       "1                 11338  \n",
       "2                   613  \n",
       "3    120,02122398153278  \n",
       "4                   244  \n",
       "..                  ...  \n",
       "627                   -  \n",
       "628                   8  \n",
       "629                 134  \n",
       "630                 115  \n",
       "631                   2  \n",
       "\n",
       "[632 rows x 3 columns]"
      ],
      "text/html": "<div>\n<style scoped>\n    .dataframe tbody tr th:only-of-type {\n        vertical-align: middle;\n    }\n\n    .dataframe tbody tr th {\n        vertical-align: top;\n    }\n\n    .dataframe thead th {\n        text-align: right;\n    }\n</style>\n<table border=\"1\" class=\"dataframe\">\n  <thead>\n    <tr style=\"text-align: right;\">\n      <th></th>\n      <th>Lugar de residencia</th>\n      <th>Medida</th>\n      <th>Valor</th>\n    </tr>\n  </thead>\n  <tbody>\n    <tr>\n      <th>0</th>\n      <td>Huelva</td>\n      <td>Población</td>\n      <td>510743</td>\n    </tr>\n    <tr>\n      <th>1</th>\n      <td>Huelva</td>\n      <td>Confirmados PDIA</td>\n      <td>11338</td>\n    </tr>\n    <tr>\n      <th>2</th>\n      <td>Huelva</td>\n      <td>Confirmados PDIA 14 días</td>\n      <td>613</td>\n    </tr>\n    <tr>\n      <th>3</th>\n      <td>Huelva</td>\n      <td>Tasa PDIA 14 días</td>\n      <td>120,02122398153278</td>\n    </tr>\n    <tr>\n      <th>4</th>\n      <td>Huelva</td>\n      <td>Confirmados PDIA 7 días</td>\n      <td>244</td>\n    </tr>\n    <tr>\n      <th>...</th>\n      <td>...</td>\n      <td>...</td>\n      <td>...</td>\n    </tr>\n    <tr>\n      <th>627</th>\n      <td>Municipio de Huelva sin especificar</td>\n      <td>Tasa PDIA 14 días</td>\n      <td>-</td>\n    </tr>\n    <tr>\n      <th>628</th>\n      <td>Municipio de Huelva sin especificar</td>\n      <td>Confirmados PDIA 7 días</td>\n      <td>8</td>\n    </tr>\n    <tr>\n      <th>629</th>\n      <td>Municipio de Huelva sin especificar</td>\n      <td>Total Confirmados</td>\n      <td>134</td>\n    </tr>\n    <tr>\n      <th>630</th>\n      <td>Municipio de Huelva sin especificar</td>\n      <td>Curados</td>\n      <td>115</td>\n    </tr>\n    <tr>\n      <th>631</th>\n      <td>Municipio de Huelva sin especificar</td>\n      <td>Fallecidos</td>\n      <td>2</td>\n    </tr>\n  </tbody>\n</table>\n<p>632 rows × 3 columns</p>\n</div>"
     },
     "metadata": {},
     "execution_count": 4
    }
   ],
   "source": [
    "df"
   ]
  },
  {
   "cell_type": "code",
   "execution_count": 5,
   "metadata": {},
   "outputs": [],
   "source": [
    "df['Valor'] = pd.to_numeric(df['Valor'],errors='coerce')"
   ]
  },
  {
   "cell_type": "code",
   "execution_count": 6,
   "metadata": {},
   "outputs": [],
   "source": [
    "dfAnterior = pd.read_csv('covid_huelva.csv', index_col='Lugar de residencia')"
   ]
  },
  {
   "cell_type": "code",
   "execution_count": 7,
   "metadata": {
    "tags": []
   },
   "outputs": [
    {
     "output_type": "stream",
     "name": "stdout",
     "text": [
      "Confirmados PCR en la provincia de Huelva:  11338.0\n"
     ]
    }
   ],
   "source": [
    "# Confirmados PCR provincia Huelva\n",
    "p = df[df['Lugar de residencia'] == 'Huelva'][df['Medida'] == 'Confirmados PDIA']['Valor'].values[0]\n",
    "print('Confirmados PCR en la provincia de Huelva: ', p)"
   ]
  },
  {
   "cell_type": "code",
   "execution_count": 8,
   "metadata": {
    "tags": []
   },
   "outputs": [
    {
     "output_type": "stream",
     "name": "stdout",
     "text": [
      "Confirmados PCR en Huelva capital:  3225.0\n"
     ]
    }
   ],
   "source": [
    "# Confirmados PCR Huelva capitalpd\n",
    "c = df[df['Lugar de residencia'] == 'Huelva (capital)'][df['Medida'] == 'Confirmados PDIA']['Valor'].values[0]\n",
    "print('Confirmados PCR en Huelva capital: ', c)"
   ]
  },
  {
   "cell_type": "code",
   "execution_count": 9,
   "metadata": {
    "tags": []
   },
   "outputs": [],
   "source": [
    "c7 = df[df['Lugar de residencia'] == 'Huelva (capital)'][df['Medida'] == 'Confirmados PDIA 7 días']['Valor'].values[0]\n",
    "c14 = df[df['Lugar de residencia'] == 'Huelva (capital)'][df['Medida'] == 'Confirmados PDIA 14 días']['Valor'].values[0]\n",
    "p = df[df['Lugar de residencia'] == 'Huelva (capital)'][df['Medida'] == 'Población']['Valor'].values[0]"
   ]
  },
  {
   "cell_type": "code",
   "execution_count": 10,
   "metadata": {
    "tags": []
   },
   "outputs": [
    {
     "output_type": "stream",
     "name": "stdout",
     "text": [
      "Huelva (capital)\n\nUn positivo PCR cada 1651 personas en los últimos 7 días \n\nUn positivo PCR cada 718 personas en los últimos 14 días\n"
     ]
    }
   ],
   "source": [
    "print('Huelva (capital)\\n')\n",
    "#print('Confirmados PCR 7 días x 1,000 habitantes: ', f\"{c7/(p/1000):.5f}\")\n",
    "print('Un positivo PCR cada', f\"{p/c7:.0f}\", 'personas en los últimos 7 días', '\\n')\n",
    "#print('Confirmados PCR 14 días x 1,000 habitantes: ', f\"{c14/(p/1000):.5f}\")\n",
    "print('Un positivo PCR cada', f\"{p/c14:.0f}\", 'personas en los últimos 14 días')"
   ]
  },
  {
   "cell_type": "code",
   "execution_count": 11,
   "metadata": {},
   "outputs": [],
   "source": [
    "filtro = ((df['Medida'] == 'Confirmados PDIA')| (df['Medida'] == 'Confirmados PDIA 7 días') | (df['Medida'] == 'Población' ) | (df['Medida'] == 'Confirmados PDIA 14 días')) & (df['Valor'] > 0)\n",
    "tabla = pd.pivot_table(df.loc[filtro], values='Valor', index='Lugar de residencia', columns='Medida').dropna()"
   ]
  },
  {
   "cell_type": "code",
   "execution_count": 12,
   "metadata": {},
   "outputs": [],
   "source": [
    "# Reorder columns\n",
    "tabla = tabla[['Confirmados PDIA', 'Confirmados PDIA 7 días', 'Confirmados PDIA 14 días', 'Población']]"
   ]
  },
  {
   "cell_type": "code",
   "execution_count": 13,
   "metadata": {},
   "outputs": [],
   "source": [
    "tabla['tasa7'] = tabla['Confirmados PDIA 7 días']/tabla['Población']*100000\n",
    "tabla['tasa14'] = tabla['Confirmados PDIA 14 días']/tabla['Población']*100000"
   ]
  },
  {
   "cell_type": "code",
   "execution_count": 14,
   "metadata": {},
   "outputs": [],
   "source": [
    "tabla['Diferencia PDIA'] = tabla['Confirmados PDIA'] - dfAnterior['Confirmados PDIA']"
   ]
  },
  {
   "cell_type": "code",
   "execution_count": 15,
   "metadata": {},
   "outputs": [
    {
     "output_type": "execute_result",
     "data": {
      "text/plain": [
       "Medida                             Confirmados PDIA  Confirmados PDIA 7 días  \\\n",
       "Lugar de residencia                                                            \n",
       "Huelva                                      11338.0                    244.0   \n",
       "Huelva-Costa                                 6431.0                    164.0   \n",
       "Huelva (capital)                             3225.0                     87.0   \n",
       "Punta Umbría                                  241.0                      6.0   \n",
       "Sierra de Huelva-Andévalo Central            1302.0                     16.0   \n",
       "Cerro de Andévalo (El)                         47.0                      9.0   \n",
       "Condado-Campiña                              3472.0                     56.0   \n",
       "Almonte                                       450.0                      6.0   \n",
       "Isla Cristina                                 469.0                     19.0   \n",
       "Lepe                                          982.0                     17.0   \n",
       "Moguer                                        390.0                     10.0   \n",
       "Villablanca                                    67.0                     10.0   \n",
       "Aracena                                       288.0                      1.0   \n",
       "\n",
       "Medida                             Confirmados PDIA 14 días  Población  \\\n",
       "Lugar de residencia                                                      \n",
       "Huelva                                                613.0   510743.0   \n",
       "Huelva-Costa                                          417.0   288115.0   \n",
       "Huelva (capital)                                      200.0   143663.0   \n",
       "Punta Umbría                                            9.0    15242.0   \n",
       "Sierra de Huelva-Andévalo Central                      19.0    67571.0   \n",
       "Cerro de Andévalo (El)                                 10.0     2364.0   \n",
       "Condado-Campiña                                       167.0   155057.0   \n",
       "Almonte                                                13.0    24191.0   \n",
       "Isla Cristina                                          59.0    21264.0   \n",
       "Lepe                                                   42.0    27431.0   \n",
       "Moguer                                                 24.0    22088.0   \n",
       "Villablanca                                            12.0     2848.0   \n",
       "Aracena                                                 2.0     8107.0   \n",
       "\n",
       "Medida                                  tasa7      tasa14  Diferencia PDIA  \n",
       "Lugar de residencia                                                         \n",
       "Huelva                              47.773538  120.021224             19.0  \n",
       "Huelva-Costa                        56.921715  144.733874             15.0  \n",
       "Huelva (capital)                    60.558390  139.214690              8.0  \n",
       "Punta Umbría                        39.364913   59.047369              4.0  \n",
       "Sierra de Huelva-Andévalo Central   23.678797   28.118572              3.0  \n",
       "Cerro de Andévalo (El)             380.710660  423.011844              2.0  \n",
       "Condado-Campiña                     36.115751  107.702329              2.0  \n",
       "Almonte                             24.802613   53.738994              1.0  \n",
       "Isla Cristina                       89.352897  277.464259              1.0  \n",
       "Lepe                                61.973679  153.111443              1.0  \n",
       "Moguer                              45.273452  108.656284              1.0  \n",
       "Villablanca                        351.123596  421.348315              1.0  \n",
       "Aracena                             12.335019   24.670038              NaN  "
      ],
      "text/html": "<div>\n<style scoped>\n    .dataframe tbody tr th:only-of-type {\n        vertical-align: middle;\n    }\n\n    .dataframe tbody tr th {\n        vertical-align: top;\n    }\n\n    .dataframe thead th {\n        text-align: right;\n    }\n</style>\n<table border=\"1\" class=\"dataframe\">\n  <thead>\n    <tr style=\"text-align: right;\">\n      <th>Medida</th>\n      <th>Confirmados PDIA</th>\n      <th>Confirmados PDIA 7 días</th>\n      <th>Confirmados PDIA 14 días</th>\n      <th>Población</th>\n      <th>tasa7</th>\n      <th>tasa14</th>\n      <th>Diferencia PDIA</th>\n    </tr>\n    <tr>\n      <th>Lugar de residencia</th>\n      <th></th>\n      <th></th>\n      <th></th>\n      <th></th>\n      <th></th>\n      <th></th>\n      <th></th>\n    </tr>\n  </thead>\n  <tbody>\n    <tr>\n      <th>Huelva</th>\n      <td>11338.0</td>\n      <td>244.0</td>\n      <td>613.0</td>\n      <td>510743.0</td>\n      <td>47.773538</td>\n      <td>120.021224</td>\n      <td>19.0</td>\n    </tr>\n    <tr>\n      <th>Huelva-Costa</th>\n      <td>6431.0</td>\n      <td>164.0</td>\n      <td>417.0</td>\n      <td>288115.0</td>\n      <td>56.921715</td>\n      <td>144.733874</td>\n      <td>15.0</td>\n    </tr>\n    <tr>\n      <th>Huelva (capital)</th>\n      <td>3225.0</td>\n      <td>87.0</td>\n      <td>200.0</td>\n      <td>143663.0</td>\n      <td>60.558390</td>\n      <td>139.214690</td>\n      <td>8.0</td>\n    </tr>\n    <tr>\n      <th>Punta Umbría</th>\n      <td>241.0</td>\n      <td>6.0</td>\n      <td>9.0</td>\n      <td>15242.0</td>\n      <td>39.364913</td>\n      <td>59.047369</td>\n      <td>4.0</td>\n    </tr>\n    <tr>\n      <th>Sierra de Huelva-Andévalo Central</th>\n      <td>1302.0</td>\n      <td>16.0</td>\n      <td>19.0</td>\n      <td>67571.0</td>\n      <td>23.678797</td>\n      <td>28.118572</td>\n      <td>3.0</td>\n    </tr>\n    <tr>\n      <th>Cerro de Andévalo (El)</th>\n      <td>47.0</td>\n      <td>9.0</td>\n      <td>10.0</td>\n      <td>2364.0</td>\n      <td>380.710660</td>\n      <td>423.011844</td>\n      <td>2.0</td>\n    </tr>\n    <tr>\n      <th>Condado-Campiña</th>\n      <td>3472.0</td>\n      <td>56.0</td>\n      <td>167.0</td>\n      <td>155057.0</td>\n      <td>36.115751</td>\n      <td>107.702329</td>\n      <td>2.0</td>\n    </tr>\n    <tr>\n      <th>Almonte</th>\n      <td>450.0</td>\n      <td>6.0</td>\n      <td>13.0</td>\n      <td>24191.0</td>\n      <td>24.802613</td>\n      <td>53.738994</td>\n      <td>1.0</td>\n    </tr>\n    <tr>\n      <th>Isla Cristina</th>\n      <td>469.0</td>\n      <td>19.0</td>\n      <td>59.0</td>\n      <td>21264.0</td>\n      <td>89.352897</td>\n      <td>277.464259</td>\n      <td>1.0</td>\n    </tr>\n    <tr>\n      <th>Lepe</th>\n      <td>982.0</td>\n      <td>17.0</td>\n      <td>42.0</td>\n      <td>27431.0</td>\n      <td>61.973679</td>\n      <td>153.111443</td>\n      <td>1.0</td>\n    </tr>\n    <tr>\n      <th>Moguer</th>\n      <td>390.0</td>\n      <td>10.0</td>\n      <td>24.0</td>\n      <td>22088.0</td>\n      <td>45.273452</td>\n      <td>108.656284</td>\n      <td>1.0</td>\n    </tr>\n    <tr>\n      <th>Villablanca</th>\n      <td>67.0</td>\n      <td>10.0</td>\n      <td>12.0</td>\n      <td>2848.0</td>\n      <td>351.123596</td>\n      <td>421.348315</td>\n      <td>1.0</td>\n    </tr>\n    <tr>\n      <th>Aracena</th>\n      <td>288.0</td>\n      <td>1.0</td>\n      <td>2.0</td>\n      <td>8107.0</td>\n      <td>12.335019</td>\n      <td>24.670038</td>\n      <td>NaN</td>\n    </tr>\n  </tbody>\n</table>\n</div>"
     },
     "metadata": {},
     "execution_count": 15
    }
   ],
   "source": [
    "# Nuevos casos desde la última captura\n",
    "tabla[tabla['Diferencia PDIA'] != 0].sort_values('Diferencia PDIA', ascending=False)"
   ]
  },
  {
   "cell_type": "code",
   "execution_count": 16,
   "metadata": {},
   "outputs": [],
   "source": [
    "if tabla[tabla['Diferencia PDIA'] != 0]['Diferencia PDIA'].sum() > 0:\n",
    "  # Save to csv\n",
    "  tabla.to_csv('covid_huelva.csv', encoding='utf-8', header=True, index=True)  "
   ]
  },
  {
   "cell_type": "code",
   "execution_count": 17,
   "metadata": {},
   "outputs": [
    {
     "output_type": "execute_result",
     "data": {
      "text/plain": [
       "Medida                             Confirmados PDIA  Confirmados PDIA 7 días  \\\n",
       "Lugar de residencia                                                            \n",
       "Cerro de Andévalo (El)                         47.0                      9.0   \n",
       "Villablanca                                    67.0                     10.0   \n",
       "Lucena del Puerto                             106.0                      2.0   \n",
       "Manzanilla                                     52.0                      7.0   \n",
       "Palma del Condado (La)                        555.0                     13.0   \n",
       "Bonares                                        67.0                      2.0   \n",
       "Isla Cristina                                 469.0                     19.0   \n",
       "Palos de la Frontera                          261.0                     10.0   \n",
       "Cartaya                                       430.0                     13.0   \n",
       "Lepe                                          982.0                     17.0   \n",
       "Fuenteheridos                                   3.0                      1.0   \n",
       "Huelva-Costa                                 6431.0                    164.0   \n",
       "Huelva (capital)                             3225.0                     87.0   \n",
       "Huelva                                      11338.0                    244.0   \n",
       "Cumbres Mayores                                11.0                      2.0   \n",
       "Aljaraque                                     443.0                      5.0   \n",
       "Moguer                                        390.0                     10.0   \n",
       "Condado-Campiña                              3472.0                     56.0   \n",
       "Ayamonte                                      343.0                      7.0   \n",
       "Rociana del Condado                           121.0                      1.0   \n",
       "Punta Umbría                                  241.0                      6.0   \n",
       "Almonte                                       450.0                      6.0   \n",
       "Campillo (El)                                  55.0                      1.0   \n",
       "Villarrasa                                     91.0                      1.0   \n",
       "Zalamea la Real                                48.0                      1.0   \n",
       "Villalba del Alcor                            104.0                      1.0   \n",
       "Sierra de Huelva-Andévalo Central            1302.0                     16.0   \n",
       "Bollullos Par del Condado                     252.0                      2.0   \n",
       "Aracena                                       288.0                      1.0   \n",
       "Nerva                                          88.0                      1.0   \n",
       "Gibraleón                                     351.0                      1.0   \n",
       "\n",
       "Medida                             Confirmados PDIA 14 días  Población  \\\n",
       "Lugar de residencia                                                      \n",
       "Cerro de Andévalo (El)                                 10.0     2364.0   \n",
       "Villablanca                                            12.0     2848.0   \n",
       "Lucena del Puerto                                      12.0     3371.0   \n",
       "Manzanilla                                              7.0     2135.0   \n",
       "Palma del Condado (La)                                 35.0    10761.0   \n",
       "Bonares                                                19.0     6058.0   \n",
       "Isla Cristina                                          59.0    21264.0   \n",
       "Palos de la Frontera                                   31.0    11289.0   \n",
       "Cartaya                                                50.0    19974.0   \n",
       "Lepe                                                   42.0    27431.0   \n",
       "Fuenteheridos                                           1.0      678.0   \n",
       "Huelva-Costa                                          417.0   288115.0   \n",
       "Huelva (capital)                                      200.0   143663.0   \n",
       "Huelva                                                613.0   510743.0   \n",
       "Cumbres Mayores                                         2.0     1755.0   \n",
       "Aljaraque                                              24.0    21260.0   \n",
       "Moguer                                                 24.0    22088.0   \n",
       "Condado-Campiña                                       167.0   155057.0   \n",
       "Ayamonte                                               17.0    20946.0   \n",
       "Rociana del Condado                                     5.0     7855.0   \n",
       "Punta Umbría                                            9.0    15242.0   \n",
       "Almonte                                                13.0    24191.0   \n",
       "Campillo (El)                                           1.0     2023.0   \n",
       "Villarrasa                                              1.0     2176.0   \n",
       "Zalamea la Real                                         1.0     3068.0   \n",
       "Villalba del Alcor                                      1.0     3338.0   \n",
       "Sierra de Huelva-Andévalo Central                      19.0    67571.0   \n",
       "Bollullos Par del Condado                               4.0    14272.0   \n",
       "Aracena                                                 2.0     8107.0   \n",
       "Nerva                                                   1.0     5235.0   \n",
       "Gibraleón                                               2.0    12607.0   \n",
       "\n",
       "Medida                                  tasa7      tasa14  Diferencia PDIA  \n",
       "Lugar de residencia                                                         \n",
       "Cerro de Andévalo (El)             380.710660  423.011844              2.0  \n",
       "Villablanca                        351.123596  421.348315              1.0  \n",
       "Lucena del Puerto                   59.329576  355.977455              0.0  \n",
       "Manzanilla                         327.868852  327.868852              0.0  \n",
       "Palma del Condado (La)             120.806616  325.248583              0.0  \n",
       "Bonares                             33.014196  313.634863              0.0  \n",
       "Isla Cristina                       89.352897  277.464259              1.0  \n",
       "Palos de la Frontera                88.581805  274.603596              0.0  \n",
       "Cartaya                             65.084610  250.325423              0.0  \n",
       "Lepe                                61.973679  153.111443              1.0  \n",
       "Fuenteheridos                      147.492625  147.492625              0.0  \n",
       "Huelva-Costa                        56.921715  144.733874             15.0  \n",
       "Huelva (capital)                    60.558390  139.214690              8.0  \n",
       "Huelva                              47.773538  120.021224             19.0  \n",
       "Cumbres Mayores                    113.960114  113.960114              0.0  \n",
       "Aljaraque                           23.518344  112.888053              0.0  \n",
       "Moguer                              45.273452  108.656284              1.0  \n",
       "Condado-Campiña                     36.115751  107.702329              2.0  \n",
       "Ayamonte                            33.419269   81.161081              0.0  \n",
       "Rociana del Condado                 12.730745   63.653724              0.0  \n",
       "Punta Umbría                        39.364913   59.047369              4.0  \n",
       "Almonte                             24.802613   53.738994              1.0  \n",
       "Campillo (El)                       49.431537   49.431537              0.0  \n",
       "Villarrasa                          45.955882   45.955882              0.0  \n",
       "Zalamea la Real                     32.594524   32.594524              0.0  \n",
       "Villalba del Alcor                  29.958059   29.958059              0.0  \n",
       "Sierra de Huelva-Andévalo Central   23.678797   28.118572              3.0  \n",
       "Bollullos Par del Condado           14.013453   28.026906              0.0  \n",
       "Aracena                             12.335019   24.670038              NaN  \n",
       "Nerva                               19.102197   19.102197              0.0  \n",
       "Gibraleón                            7.932101   15.864202              0.0  "
      ],
      "text/html": "<div>\n<style scoped>\n    .dataframe tbody tr th:only-of-type {\n        vertical-align: middle;\n    }\n\n    .dataframe tbody tr th {\n        vertical-align: top;\n    }\n\n    .dataframe thead th {\n        text-align: right;\n    }\n</style>\n<table border=\"1\" class=\"dataframe\">\n  <thead>\n    <tr style=\"text-align: right;\">\n      <th>Medida</th>\n      <th>Confirmados PDIA</th>\n      <th>Confirmados PDIA 7 días</th>\n      <th>Confirmados PDIA 14 días</th>\n      <th>Población</th>\n      <th>tasa7</th>\n      <th>tasa14</th>\n      <th>Diferencia PDIA</th>\n    </tr>\n    <tr>\n      <th>Lugar de residencia</th>\n      <th></th>\n      <th></th>\n      <th></th>\n      <th></th>\n      <th></th>\n      <th></th>\n      <th></th>\n    </tr>\n  </thead>\n  <tbody>\n    <tr>\n      <th>Cerro de Andévalo (El)</th>\n      <td>47.0</td>\n      <td>9.0</td>\n      <td>10.0</td>\n      <td>2364.0</td>\n      <td>380.710660</td>\n      <td>423.011844</td>\n      <td>2.0</td>\n    </tr>\n    <tr>\n      <th>Villablanca</th>\n      <td>67.0</td>\n      <td>10.0</td>\n      <td>12.0</td>\n      <td>2848.0</td>\n      <td>351.123596</td>\n      <td>421.348315</td>\n      <td>1.0</td>\n    </tr>\n    <tr>\n      <th>Lucena del Puerto</th>\n      <td>106.0</td>\n      <td>2.0</td>\n      <td>12.0</td>\n      <td>3371.0</td>\n      <td>59.329576</td>\n      <td>355.977455</td>\n      <td>0.0</td>\n    </tr>\n    <tr>\n      <th>Manzanilla</th>\n      <td>52.0</td>\n      <td>7.0</td>\n      <td>7.0</td>\n      <td>2135.0</td>\n      <td>327.868852</td>\n      <td>327.868852</td>\n      <td>0.0</td>\n    </tr>\n    <tr>\n      <th>Palma del Condado (La)</th>\n      <td>555.0</td>\n      <td>13.0</td>\n      <td>35.0</td>\n      <td>10761.0</td>\n      <td>120.806616</td>\n      <td>325.248583</td>\n      <td>0.0</td>\n    </tr>\n    <tr>\n      <th>Bonares</th>\n      <td>67.0</td>\n      <td>2.0</td>\n      <td>19.0</td>\n      <td>6058.0</td>\n      <td>33.014196</td>\n      <td>313.634863</td>\n      <td>0.0</td>\n    </tr>\n    <tr>\n      <th>Isla Cristina</th>\n      <td>469.0</td>\n      <td>19.0</td>\n      <td>59.0</td>\n      <td>21264.0</td>\n      <td>89.352897</td>\n      <td>277.464259</td>\n      <td>1.0</td>\n    </tr>\n    <tr>\n      <th>Palos de la Frontera</th>\n      <td>261.0</td>\n      <td>10.0</td>\n      <td>31.0</td>\n      <td>11289.0</td>\n      <td>88.581805</td>\n      <td>274.603596</td>\n      <td>0.0</td>\n    </tr>\n    <tr>\n      <th>Cartaya</th>\n      <td>430.0</td>\n      <td>13.0</td>\n      <td>50.0</td>\n      <td>19974.0</td>\n      <td>65.084610</td>\n      <td>250.325423</td>\n      <td>0.0</td>\n    </tr>\n    <tr>\n      <th>Lepe</th>\n      <td>982.0</td>\n      <td>17.0</td>\n      <td>42.0</td>\n      <td>27431.0</td>\n      <td>61.973679</td>\n      <td>153.111443</td>\n      <td>1.0</td>\n    </tr>\n    <tr>\n      <th>Fuenteheridos</th>\n      <td>3.0</td>\n      <td>1.0</td>\n      <td>1.0</td>\n      <td>678.0</td>\n      <td>147.492625</td>\n      <td>147.492625</td>\n      <td>0.0</td>\n    </tr>\n    <tr>\n      <th>Huelva-Costa</th>\n      <td>6431.0</td>\n      <td>164.0</td>\n      <td>417.0</td>\n      <td>288115.0</td>\n      <td>56.921715</td>\n      <td>144.733874</td>\n      <td>15.0</td>\n    </tr>\n    <tr>\n      <th>Huelva (capital)</th>\n      <td>3225.0</td>\n      <td>87.0</td>\n      <td>200.0</td>\n      <td>143663.0</td>\n      <td>60.558390</td>\n      <td>139.214690</td>\n      <td>8.0</td>\n    </tr>\n    <tr>\n      <th>Huelva</th>\n      <td>11338.0</td>\n      <td>244.0</td>\n      <td>613.0</td>\n      <td>510743.0</td>\n      <td>47.773538</td>\n      <td>120.021224</td>\n      <td>19.0</td>\n    </tr>\n    <tr>\n      <th>Cumbres Mayores</th>\n      <td>11.0</td>\n      <td>2.0</td>\n      <td>2.0</td>\n      <td>1755.0</td>\n      <td>113.960114</td>\n      <td>113.960114</td>\n      <td>0.0</td>\n    </tr>\n    <tr>\n      <th>Aljaraque</th>\n      <td>443.0</td>\n      <td>5.0</td>\n      <td>24.0</td>\n      <td>21260.0</td>\n      <td>23.518344</td>\n      <td>112.888053</td>\n      <td>0.0</td>\n    </tr>\n    <tr>\n      <th>Moguer</th>\n      <td>390.0</td>\n      <td>10.0</td>\n      <td>24.0</td>\n      <td>22088.0</td>\n      <td>45.273452</td>\n      <td>108.656284</td>\n      <td>1.0</td>\n    </tr>\n    <tr>\n      <th>Condado-Campiña</th>\n      <td>3472.0</td>\n      <td>56.0</td>\n      <td>167.0</td>\n      <td>155057.0</td>\n      <td>36.115751</td>\n      <td>107.702329</td>\n      <td>2.0</td>\n    </tr>\n    <tr>\n      <th>Ayamonte</th>\n      <td>343.0</td>\n      <td>7.0</td>\n      <td>17.0</td>\n      <td>20946.0</td>\n      <td>33.419269</td>\n      <td>81.161081</td>\n      <td>0.0</td>\n    </tr>\n    <tr>\n      <th>Rociana del Condado</th>\n      <td>121.0</td>\n      <td>1.0</td>\n      <td>5.0</td>\n      <td>7855.0</td>\n      <td>12.730745</td>\n      <td>63.653724</td>\n      <td>0.0</td>\n    </tr>\n    <tr>\n      <th>Punta Umbría</th>\n      <td>241.0</td>\n      <td>6.0</td>\n      <td>9.0</td>\n      <td>15242.0</td>\n      <td>39.364913</td>\n      <td>59.047369</td>\n      <td>4.0</td>\n    </tr>\n    <tr>\n      <th>Almonte</th>\n      <td>450.0</td>\n      <td>6.0</td>\n      <td>13.0</td>\n      <td>24191.0</td>\n      <td>24.802613</td>\n      <td>53.738994</td>\n      <td>1.0</td>\n    </tr>\n    <tr>\n      <th>Campillo (El)</th>\n      <td>55.0</td>\n      <td>1.0</td>\n      <td>1.0</td>\n      <td>2023.0</td>\n      <td>49.431537</td>\n      <td>49.431537</td>\n      <td>0.0</td>\n    </tr>\n    <tr>\n      <th>Villarrasa</th>\n      <td>91.0</td>\n      <td>1.0</td>\n      <td>1.0</td>\n      <td>2176.0</td>\n      <td>45.955882</td>\n      <td>45.955882</td>\n      <td>0.0</td>\n    </tr>\n    <tr>\n      <th>Zalamea la Real</th>\n      <td>48.0</td>\n      <td>1.0</td>\n      <td>1.0</td>\n      <td>3068.0</td>\n      <td>32.594524</td>\n      <td>32.594524</td>\n      <td>0.0</td>\n    </tr>\n    <tr>\n      <th>Villalba del Alcor</th>\n      <td>104.0</td>\n      <td>1.0</td>\n      <td>1.0</td>\n      <td>3338.0</td>\n      <td>29.958059</td>\n      <td>29.958059</td>\n      <td>0.0</td>\n    </tr>\n    <tr>\n      <th>Sierra de Huelva-Andévalo Central</th>\n      <td>1302.0</td>\n      <td>16.0</td>\n      <td>19.0</td>\n      <td>67571.0</td>\n      <td>23.678797</td>\n      <td>28.118572</td>\n      <td>3.0</td>\n    </tr>\n    <tr>\n      <th>Bollullos Par del Condado</th>\n      <td>252.0</td>\n      <td>2.0</td>\n      <td>4.0</td>\n      <td>14272.0</td>\n      <td>14.013453</td>\n      <td>28.026906</td>\n      <td>0.0</td>\n    </tr>\n    <tr>\n      <th>Aracena</th>\n      <td>288.0</td>\n      <td>1.0</td>\n      <td>2.0</td>\n      <td>8107.0</td>\n      <td>12.335019</td>\n      <td>24.670038</td>\n      <td>NaN</td>\n    </tr>\n    <tr>\n      <th>Nerva</th>\n      <td>88.0</td>\n      <td>1.0</td>\n      <td>1.0</td>\n      <td>5235.0</td>\n      <td>19.102197</td>\n      <td>19.102197</td>\n      <td>0.0</td>\n    </tr>\n    <tr>\n      <th>Gibraleón</th>\n      <td>351.0</td>\n      <td>1.0</td>\n      <td>2.0</td>\n      <td>12607.0</td>\n      <td>7.932101</td>\n      <td>15.864202</td>\n      <td>0.0</td>\n    </tr>\n  </tbody>\n</table>\n</div>"
     },
     "metadata": {},
     "execution_count": 17
    }
   ],
   "source": [
    "tabla.sort_values('tasa14', ascending=False)"
   ]
  },
  {
   "cell_type": "code",
   "execution_count": 18,
   "metadata": {},
   "outputs": [
    {
     "output_type": "execute_result",
     "data": {
      "text/plain": [
       "Medida                             Confirmados PDIA  Confirmados PDIA 7 días  \\\n",
       "Lugar de residencia                                                            \n",
       "Bonares                                        67.0                      2.0   \n",
       "Lucena del Puerto                             106.0                      2.0   \n",
       "Rociana del Condado                           121.0                      1.0   \n",
       "Aljaraque                                     443.0                      5.0   \n",
       "Cartaya                                       430.0                     13.0   \n",
       "Isla Cristina                                 469.0                     19.0   \n",
       "Palos de la Frontera                          261.0                     10.0   \n",
       "Condado-Campiña                              3472.0                     56.0   \n",
       "Palma del Condado (La)                        555.0                     13.0   \n",
       "Huelva-Costa                                 6431.0                    164.0   \n",
       "Huelva                                      11338.0                    244.0   \n",
       "Lepe                                          982.0                     17.0   \n",
       "Ayamonte                                      343.0                      7.0   \n",
       "Moguer                                        390.0                     10.0   \n",
       "Huelva (capital)                             3225.0                     87.0   \n",
       "Almonte                                       450.0                      6.0   \n",
       "Gibraleón                                     351.0                      1.0   \n",
       "Bollullos Par del Condado                     252.0                      2.0   \n",
       "Aracena                                       288.0                      1.0   \n",
       "Punta Umbría                                  241.0                      6.0   \n",
       "Villablanca                                    67.0                     10.0   \n",
       "Sierra de Huelva-Andévalo Central            1302.0                     16.0   \n",
       "Cerro de Andévalo (El)                         47.0                      9.0   \n",
       "Villalba del Alcor                            104.0                      1.0   \n",
       "Cumbres Mayores                                11.0                      2.0   \n",
       "Manzanilla                                     52.0                      7.0   \n",
       "Campillo (El)                                  55.0                      1.0   \n",
       "Villarrasa                                     91.0                      1.0   \n",
       "Fuenteheridos                                   3.0                      1.0   \n",
       "Nerva                                          88.0                      1.0   \n",
       "Zalamea la Real                                48.0                      1.0   \n",
       "\n",
       "Medida                             Confirmados PDIA 14 días  Población  \\\n",
       "Lugar de residencia                                                      \n",
       "Bonares                                                19.0     6058.0   \n",
       "Lucena del Puerto                                      12.0     3371.0   \n",
       "Rociana del Condado                                     5.0     7855.0   \n",
       "Aljaraque                                              24.0    21260.0   \n",
       "Cartaya                                                50.0    19974.0   \n",
       "Isla Cristina                                          59.0    21264.0   \n",
       "Palos de la Frontera                                   31.0    11289.0   \n",
       "Condado-Campiña                                       167.0   155057.0   \n",
       "Palma del Condado (La)                                 35.0    10761.0   \n",
       "Huelva-Costa                                          417.0   288115.0   \n",
       "Huelva                                                613.0   510743.0   \n",
       "Lepe                                                   42.0    27431.0   \n",
       "Ayamonte                                               17.0    20946.0   \n",
       "Moguer                                                 24.0    22088.0   \n",
       "Huelva (capital)                                      200.0   143663.0   \n",
       "Almonte                                                13.0    24191.0   \n",
       "Gibraleón                                               2.0    12607.0   \n",
       "Bollullos Par del Condado                               4.0    14272.0   \n",
       "Aracena                                                 2.0     8107.0   \n",
       "Punta Umbría                                            9.0    15242.0   \n",
       "Villablanca                                            12.0     2848.0   \n",
       "Sierra de Huelva-Andévalo Central                      19.0    67571.0   \n",
       "Cerro de Andévalo (El)                                 10.0     2364.0   \n",
       "Villalba del Alcor                                      1.0     3338.0   \n",
       "Cumbres Mayores                                         2.0     1755.0   \n",
       "Manzanilla                                              7.0     2135.0   \n",
       "Campillo (El)                                           1.0     2023.0   \n",
       "Villarrasa                                              1.0     2176.0   \n",
       "Fuenteheridos                                           1.0      678.0   \n",
       "Nerva                                                   1.0     5235.0   \n",
       "Zalamea la Real                                         1.0     3068.0   \n",
       "\n",
       "Medida                                  tasa7      tasa14  Diferencia PDIA  \\\n",
       "Lugar de residencia                                                          \n",
       "Bonares                             33.014196  313.634863              0.0   \n",
       "Lucena del Puerto                   59.329576  355.977455              0.0   \n",
       "Rociana del Condado                 12.730745   63.653724              0.0   \n",
       "Aljaraque                           23.518344  112.888053              0.0   \n",
       "Cartaya                             65.084610  250.325423              0.0   \n",
       "Isla Cristina                       89.352897  277.464259              1.0   \n",
       "Palos de la Frontera                88.581805  274.603596              0.0   \n",
       "Condado-Campiña                     36.115751  107.702329              2.0   \n",
       "Palma del Condado (La)             120.806616  325.248583              0.0   \n",
       "Huelva-Costa                        56.921715  144.733874             15.0   \n",
       "Huelva                              47.773538  120.021224             19.0   \n",
       "Lepe                                61.973679  153.111443              1.0   \n",
       "Ayamonte                            33.419269   81.161081              0.0   \n",
       "Moguer                              45.273452  108.656284              1.0   \n",
       "Huelva (capital)                    60.558390  139.214690              8.0   \n",
       "Almonte                             24.802613   53.738994              1.0   \n",
       "Gibraleón                            7.932101   15.864202              0.0   \n",
       "Bollullos Par del Condado           14.013453   28.026906              0.0   \n",
       "Aracena                             12.335019   24.670038              0.0   \n",
       "Punta Umbría                        39.364913   59.047369              4.0   \n",
       "Villablanca                        351.123596  421.348315              1.0   \n",
       "Sierra de Huelva-Andévalo Central   23.678797   28.118572              3.0   \n",
       "Cerro de Andévalo (El)             380.710660  423.011844              2.0   \n",
       "Villalba del Alcor                  29.958059   29.958059              0.0   \n",
       "Cumbres Mayores                    113.960114  113.960114              0.0   \n",
       "Manzanilla                         327.868852  327.868852              0.0   \n",
       "Campillo (El)                       49.431537   49.431537              0.0   \n",
       "Villarrasa                          45.955882   45.955882              0.0   \n",
       "Fuenteheridos                      147.492625  147.492625              0.0   \n",
       "Nerva                               19.102197   19.102197              0.0   \n",
       "Zalamea la Real                     32.594524   32.594524              0.0   \n",
       "\n",
       "Medida                                 7/14  \n",
       "Lugar de residencia                          \n",
       "Bonares                            0.105263  \n",
       "Lucena del Puerto                  0.166667  \n",
       "Rociana del Condado                0.200000  \n",
       "Aljaraque                          0.208333  \n",
       "Cartaya                            0.260000  \n",
       "Isla Cristina                      0.322034  \n",
       "Palos de la Frontera               0.322581  \n",
       "Condado-Campiña                    0.335329  \n",
       "Palma del Condado (La)             0.371429  \n",
       "Huelva-Costa                       0.393285  \n",
       "Huelva                             0.398042  \n",
       "Lepe                               0.404762  \n",
       "Ayamonte                           0.411765  \n",
       "Moguer                             0.416667  \n",
       "Huelva (capital)                   0.435000  \n",
       "Almonte                            0.461538  \n",
       "Gibraleón                          0.500000  \n",
       "Bollullos Par del Condado          0.500000  \n",
       "Aracena                            0.500000  \n",
       "Punta Umbría                       0.666667  \n",
       "Villablanca                        0.833333  \n",
       "Sierra de Huelva-Andévalo Central  0.842105  \n",
       "Cerro de Andévalo (El)             0.900000  \n",
       "Villalba del Alcor                 1.000000  \n",
       "Cumbres Mayores                    1.000000  \n",
       "Manzanilla                         1.000000  \n",
       "Campillo (El)                      1.000000  \n",
       "Villarrasa                         1.000000  \n",
       "Fuenteheridos                      1.000000  \n",
       "Nerva                              1.000000  \n",
       "Zalamea la Real                    1.000000  "
      ],
      "text/html": "<div>\n<style scoped>\n    .dataframe tbody tr th:only-of-type {\n        vertical-align: middle;\n    }\n\n    .dataframe tbody tr th {\n        vertical-align: top;\n    }\n\n    .dataframe thead th {\n        text-align: right;\n    }\n</style>\n<table border=\"1\" class=\"dataframe\">\n  <thead>\n    <tr style=\"text-align: right;\">\n      <th>Medida</th>\n      <th>Confirmados PDIA</th>\n      <th>Confirmados PDIA 7 días</th>\n      <th>Confirmados PDIA 14 días</th>\n      <th>Población</th>\n      <th>tasa7</th>\n      <th>tasa14</th>\n      <th>Diferencia PDIA</th>\n      <th>7/14</th>\n    </tr>\n    <tr>\n      <th>Lugar de residencia</th>\n      <th></th>\n      <th></th>\n      <th></th>\n      <th></th>\n      <th></th>\n      <th></th>\n      <th></th>\n      <th></th>\n    </tr>\n  </thead>\n  <tbody>\n    <tr>\n      <th>Bonares</th>\n      <td>67.0</td>\n      <td>2.0</td>\n      <td>19.0</td>\n      <td>6058.0</td>\n      <td>33.014196</td>\n      <td>313.634863</td>\n      <td>0.0</td>\n      <td>0.105263</td>\n    </tr>\n    <tr>\n      <th>Lucena del Puerto</th>\n      <td>106.0</td>\n      <td>2.0</td>\n      <td>12.0</td>\n      <td>3371.0</td>\n      <td>59.329576</td>\n      <td>355.977455</td>\n      <td>0.0</td>\n      <td>0.166667</td>\n    </tr>\n    <tr>\n      <th>Rociana del Condado</th>\n      <td>121.0</td>\n      <td>1.0</td>\n      <td>5.0</td>\n      <td>7855.0</td>\n      <td>12.730745</td>\n      <td>63.653724</td>\n      <td>0.0</td>\n      <td>0.200000</td>\n    </tr>\n    <tr>\n      <th>Aljaraque</th>\n      <td>443.0</td>\n      <td>5.0</td>\n      <td>24.0</td>\n      <td>21260.0</td>\n      <td>23.518344</td>\n      <td>112.888053</td>\n      <td>0.0</td>\n      <td>0.208333</td>\n    </tr>\n    <tr>\n      <th>Cartaya</th>\n      <td>430.0</td>\n      <td>13.0</td>\n      <td>50.0</td>\n      <td>19974.0</td>\n      <td>65.084610</td>\n      <td>250.325423</td>\n      <td>0.0</td>\n      <td>0.260000</td>\n    </tr>\n    <tr>\n      <th>Isla Cristina</th>\n      <td>469.0</td>\n      <td>19.0</td>\n      <td>59.0</td>\n      <td>21264.0</td>\n      <td>89.352897</td>\n      <td>277.464259</td>\n      <td>1.0</td>\n      <td>0.322034</td>\n    </tr>\n    <tr>\n      <th>Palos de la Frontera</th>\n      <td>261.0</td>\n      <td>10.0</td>\n      <td>31.0</td>\n      <td>11289.0</td>\n      <td>88.581805</td>\n      <td>274.603596</td>\n      <td>0.0</td>\n      <td>0.322581</td>\n    </tr>\n    <tr>\n      <th>Condado-Campiña</th>\n      <td>3472.0</td>\n      <td>56.0</td>\n      <td>167.0</td>\n      <td>155057.0</td>\n      <td>36.115751</td>\n      <td>107.702329</td>\n      <td>2.0</td>\n      <td>0.335329</td>\n    </tr>\n    <tr>\n      <th>Palma del Condado (La)</th>\n      <td>555.0</td>\n      <td>13.0</td>\n      <td>35.0</td>\n      <td>10761.0</td>\n      <td>120.806616</td>\n      <td>325.248583</td>\n      <td>0.0</td>\n      <td>0.371429</td>\n    </tr>\n    <tr>\n      <th>Huelva-Costa</th>\n      <td>6431.0</td>\n      <td>164.0</td>\n      <td>417.0</td>\n      <td>288115.0</td>\n      <td>56.921715</td>\n      <td>144.733874</td>\n      <td>15.0</td>\n      <td>0.393285</td>\n    </tr>\n    <tr>\n      <th>Huelva</th>\n      <td>11338.0</td>\n      <td>244.0</td>\n      <td>613.0</td>\n      <td>510743.0</td>\n      <td>47.773538</td>\n      <td>120.021224</td>\n      <td>19.0</td>\n      <td>0.398042</td>\n    </tr>\n    <tr>\n      <th>Lepe</th>\n      <td>982.0</td>\n      <td>17.0</td>\n      <td>42.0</td>\n      <td>27431.0</td>\n      <td>61.973679</td>\n      <td>153.111443</td>\n      <td>1.0</td>\n      <td>0.404762</td>\n    </tr>\n    <tr>\n      <th>Ayamonte</th>\n      <td>343.0</td>\n      <td>7.0</td>\n      <td>17.0</td>\n      <td>20946.0</td>\n      <td>33.419269</td>\n      <td>81.161081</td>\n      <td>0.0</td>\n      <td>0.411765</td>\n    </tr>\n    <tr>\n      <th>Moguer</th>\n      <td>390.0</td>\n      <td>10.0</td>\n      <td>24.0</td>\n      <td>22088.0</td>\n      <td>45.273452</td>\n      <td>108.656284</td>\n      <td>1.0</td>\n      <td>0.416667</td>\n    </tr>\n    <tr>\n      <th>Huelva (capital)</th>\n      <td>3225.0</td>\n      <td>87.0</td>\n      <td>200.0</td>\n      <td>143663.0</td>\n      <td>60.558390</td>\n      <td>139.214690</td>\n      <td>8.0</td>\n      <td>0.435000</td>\n    </tr>\n    <tr>\n      <th>Almonte</th>\n      <td>450.0</td>\n      <td>6.0</td>\n      <td>13.0</td>\n      <td>24191.0</td>\n      <td>24.802613</td>\n      <td>53.738994</td>\n      <td>1.0</td>\n      <td>0.461538</td>\n    </tr>\n    <tr>\n      <th>Gibraleón</th>\n      <td>351.0</td>\n      <td>1.0</td>\n      <td>2.0</td>\n      <td>12607.0</td>\n      <td>7.932101</td>\n      <td>15.864202</td>\n      <td>0.0</td>\n      <td>0.500000</td>\n    </tr>\n    <tr>\n      <th>Bollullos Par del Condado</th>\n      <td>252.0</td>\n      <td>2.0</td>\n      <td>4.0</td>\n      <td>14272.0</td>\n      <td>14.013453</td>\n      <td>28.026906</td>\n      <td>0.0</td>\n      <td>0.500000</td>\n    </tr>\n    <tr>\n      <th>Aracena</th>\n      <td>288.0</td>\n      <td>1.0</td>\n      <td>2.0</td>\n      <td>8107.0</td>\n      <td>12.335019</td>\n      <td>24.670038</td>\n      <td>0.0</td>\n      <td>0.500000</td>\n    </tr>\n    <tr>\n      <th>Punta Umbría</th>\n      <td>241.0</td>\n      <td>6.0</td>\n      <td>9.0</td>\n      <td>15242.0</td>\n      <td>39.364913</td>\n      <td>59.047369</td>\n      <td>4.0</td>\n      <td>0.666667</td>\n    </tr>\n    <tr>\n      <th>Villablanca</th>\n      <td>67.0</td>\n      <td>10.0</td>\n      <td>12.0</td>\n      <td>2848.0</td>\n      <td>351.123596</td>\n      <td>421.348315</td>\n      <td>1.0</td>\n      <td>0.833333</td>\n    </tr>\n    <tr>\n      <th>Sierra de Huelva-Andévalo Central</th>\n      <td>1302.0</td>\n      <td>16.0</td>\n      <td>19.0</td>\n      <td>67571.0</td>\n      <td>23.678797</td>\n      <td>28.118572</td>\n      <td>3.0</td>\n      <td>0.842105</td>\n    </tr>\n    <tr>\n      <th>Cerro de Andévalo (El)</th>\n      <td>47.0</td>\n      <td>9.0</td>\n      <td>10.0</td>\n      <td>2364.0</td>\n      <td>380.710660</td>\n      <td>423.011844</td>\n      <td>2.0</td>\n      <td>0.900000</td>\n    </tr>\n    <tr>\n      <th>Villalba del Alcor</th>\n      <td>104.0</td>\n      <td>1.0</td>\n      <td>1.0</td>\n      <td>3338.0</td>\n      <td>29.958059</td>\n      <td>29.958059</td>\n      <td>0.0</td>\n      <td>1.000000</td>\n    </tr>\n    <tr>\n      <th>Cumbres Mayores</th>\n      <td>11.0</td>\n      <td>2.0</td>\n      <td>2.0</td>\n      <td>1755.0</td>\n      <td>113.960114</td>\n      <td>113.960114</td>\n      <td>0.0</td>\n      <td>1.000000</td>\n    </tr>\n    <tr>\n      <th>Manzanilla</th>\n      <td>52.0</td>\n      <td>7.0</td>\n      <td>7.0</td>\n      <td>2135.0</td>\n      <td>327.868852</td>\n      <td>327.868852</td>\n      <td>0.0</td>\n      <td>1.000000</td>\n    </tr>\n    <tr>\n      <th>Campillo (El)</th>\n      <td>55.0</td>\n      <td>1.0</td>\n      <td>1.0</td>\n      <td>2023.0</td>\n      <td>49.431537</td>\n      <td>49.431537</td>\n      <td>0.0</td>\n      <td>1.000000</td>\n    </tr>\n    <tr>\n      <th>Villarrasa</th>\n      <td>91.0</td>\n      <td>1.0</td>\n      <td>1.0</td>\n      <td>2176.0</td>\n      <td>45.955882</td>\n      <td>45.955882</td>\n      <td>0.0</td>\n      <td>1.000000</td>\n    </tr>\n    <tr>\n      <th>Fuenteheridos</th>\n      <td>3.0</td>\n      <td>1.0</td>\n      <td>1.0</td>\n      <td>678.0</td>\n      <td>147.492625</td>\n      <td>147.492625</td>\n      <td>0.0</td>\n      <td>1.000000</td>\n    </tr>\n    <tr>\n      <th>Nerva</th>\n      <td>88.0</td>\n      <td>1.0</td>\n      <td>1.0</td>\n      <td>5235.0</td>\n      <td>19.102197</td>\n      <td>19.102197</td>\n      <td>0.0</td>\n      <td>1.000000</td>\n    </tr>\n    <tr>\n      <th>Zalamea la Real</th>\n      <td>48.0</td>\n      <td>1.0</td>\n      <td>1.0</td>\n      <td>3068.0</td>\n      <td>32.594524</td>\n      <td>32.594524</td>\n      <td>0.0</td>\n      <td>1.000000</td>\n    </tr>\n  </tbody>\n</table>\n</div>"
     },
     "metadata": {},
     "execution_count": 18
    }
   ],
   "source": [
    "# Peso de la tasa de la última semana en relación con la tasa a 14 días \n",
    "# Mejor cuanto menor. Valor 1 significa que no había casos antes de 7 días.\n",
    "tabla['7/14'] = tabla['tasa7'] / tabla['tasa14']\n",
    "tabla.fillna(0).sort_values('7/14', ascending=True)"
   ]
  },
  {
   "cell_type": "code",
   "execution_count": null,
   "metadata": {},
   "outputs": [],
   "source": []
  }
 ]
}