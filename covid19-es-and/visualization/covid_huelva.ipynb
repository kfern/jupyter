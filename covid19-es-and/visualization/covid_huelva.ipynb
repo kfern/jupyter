{
 "metadata": {
  "language_info": {
   "codemirror_mode": {
    "name": "ipython",
    "version": 3
   },
   "file_extension": ".py",
   "mimetype": "text/x-python",
   "name": "python",
   "nbconvert_exporter": "python",
   "pygments_lexer": "ipython3",
   "version": "3.8.6"
  },
  "orig_nbformat": 2,
  "kernelspec": {
   "name": "python3",
   "display_name": "Python 3",
   "language": "python"
  }
 },
 "nbformat": 4,
 "nbformat_minor": 2,
 "cells": [
  {
   "cell_type": "code",
   "execution_count": 1,
   "metadata": {},
   "outputs": [],
   "source": [
    "import pandas as pd\n",
    "pd.set_option('display.max_rows', None) # Print all rows"
   ]
  },
  {
   "cell_type": "code",
   "execution_count": 2,
   "metadata": {},
   "outputs": [],
   "source": [
    "# FIX SSL: CERTIFICATE_VERIFY_FAILED with Python3\n",
    "# https://stackoverflow.com/a/49174340\n",
    "import ssl\n",
    "\n",
    "ssl._create_default_https_context = ssl._create_unverified_context"
   ]
  },
  {
   "cell_type": "code",
   "execution_count": 3,
   "metadata": {},
   "outputs": [],
   "source": [
    "url = 'https://www.juntadeandalucia.es/institutodeestadisticaycartografia/badea/stpivot/stpivot/Print?cube=013d884c-cfc5-4c21-9e78-e26225682afd&type=3&foto=si&ejecutaDesde=&codConsulta=38668&consTipoVisua=JP'\n",
    "fields = ['Lugar de residencia', 'Medida', 'Valor']\n",
    "df = pd.read_csv(url, delimiter=';', usecols=fields, decimal=',')"
   ]
  },
  {
   "cell_type": "code",
   "execution_count": 4,
   "metadata": {},
   "outputs": [
    {
     "output_type": "execute_result",
     "data": {
      "text/plain": [
       "  Lugar de residencia                    Medida              Valor\n",
       "0              Huelva                 Población             513170\n",
       "1              Huelva          Confirmados PDIA              28080\n",
       "2              Huelva  Confirmados PDIA 14 días               1257\n",
       "3              Huelva         Tasa PDIA 14 días  244,9480678917318\n",
       "4              Huelva   Confirmados PDIA 7 días                559\n",
       "5              Huelva        Total Confirmados               28253\n",
       "6              Huelva                   Curados              23588\n",
       "7              Huelva                Fallecidos                363"
      ],
      "text/html": "<div>\n<style scoped>\n    .dataframe tbody tr th:only-of-type {\n        vertical-align: middle;\n    }\n\n    .dataframe tbody tr th {\n        vertical-align: top;\n    }\n\n    .dataframe thead th {\n        text-align: right;\n    }\n</style>\n<table border=\"1\" class=\"dataframe\">\n  <thead>\n    <tr style=\"text-align: right;\">\n      <th></th>\n      <th>Lugar de residencia</th>\n      <th>Medida</th>\n      <th>Valor</th>\n    </tr>\n  </thead>\n  <tbody>\n    <tr>\n      <th>0</th>\n      <td>Huelva</td>\n      <td>Población</td>\n      <td>513170</td>\n    </tr>\n    <tr>\n      <th>1</th>\n      <td>Huelva</td>\n      <td>Confirmados PDIA</td>\n      <td>28080</td>\n    </tr>\n    <tr>\n      <th>2</th>\n      <td>Huelva</td>\n      <td>Confirmados PDIA 14 días</td>\n      <td>1257</td>\n    </tr>\n    <tr>\n      <th>3</th>\n      <td>Huelva</td>\n      <td>Tasa PDIA 14 días</td>\n      <td>244,9480678917318</td>\n    </tr>\n    <tr>\n      <th>4</th>\n      <td>Huelva</td>\n      <td>Confirmados PDIA 7 días</td>\n      <td>559</td>\n    </tr>\n    <tr>\n      <th>5</th>\n      <td>Huelva</td>\n      <td>Total Confirmados</td>\n      <td>28253</td>\n    </tr>\n    <tr>\n      <th>6</th>\n      <td>Huelva</td>\n      <td>Curados</td>\n      <td>23588</td>\n    </tr>\n    <tr>\n      <th>7</th>\n      <td>Huelva</td>\n      <td>Fallecidos</td>\n      <td>363</td>\n    </tr>\n  </tbody>\n</table>\n</div>"
     },
     "metadata": {},
     "execution_count": 4
    }
   ],
   "source": [
    "df[df['Lugar de residencia'] == 'Huelva']"
   ]
  },
  {
   "cell_type": "code",
   "execution_count": 5,
   "metadata": {},
   "outputs": [],
   "source": [
    "df['Valor'] = pd.to_numeric(df['Valor'],errors='coerce')"
   ]
  },
  {
   "cell_type": "code",
   "execution_count": 6,
   "metadata": {},
   "outputs": [],
   "source": [
    "dfAnterior = pd.read_csv('covid_huelva.csv', index_col='Lugar de residencia')"
   ]
  },
  {
   "cell_type": "code",
   "execution_count": 7,
   "metadata": {
    "tags": []
   },
   "outputs": [
    {
     "output_type": "stream",
     "name": "stdout",
     "text": [
      "Confirmados PCR en la provincia de Huelva:  28080.0\n",
      "<ipython-input-7-31b732756b19>:2: UserWarning: Boolean Series key will be reindexed to match DataFrame index.\n",
      "  p = df[df['Lugar de residencia'] == 'Huelva'][df['Medida'] == 'Confirmados PDIA']['Valor'].values[0]\n"
     ]
    }
   ],
   "source": [
    "# Confirmados PCR provincia Huelva\n",
    "p = df[df['Lugar de residencia'] == 'Huelva'][df['Medida'] == 'Confirmados PDIA']['Valor'].values[0]\n",
    "print('Confirmados PCR en la provincia de Huelva: ', p)"
   ]
  },
  {
   "cell_type": "code",
   "execution_count": 8,
   "metadata": {
    "tags": []
   },
   "outputs": [
    {
     "output_type": "stream",
     "name": "stdout",
     "text": [
      "Confirmados PCR en Huelva capital:  7281.0\n",
      "<ipython-input-8-e81bfb40e710>:2: UserWarning: Boolean Series key will be reindexed to match DataFrame index.\n",
      "  c = df[df['Lugar de residencia'] == 'Huelva (capital)'][df['Medida'] == 'Confirmados PDIA']['Valor'].values[0]\n"
     ]
    }
   ],
   "source": [
    "# Confirmados PCR Huelva capitalpd\n",
    "c = df[df['Lugar de residencia'] == 'Huelva (capital)'][df['Medida'] == 'Confirmados PDIA']['Valor'].values[0]\n",
    "print('Confirmados PCR en Huelva capital: ', c)"
   ]
  },
  {
   "cell_type": "code",
   "execution_count": 9,
   "metadata": {
    "tags": []
   },
   "outputs": [
    {
     "output_type": "stream",
     "name": "stderr",
     "text": [
      "<ipython-input-9-f09dd2050cc1>:1: UserWarning: Boolean Series key will be reindexed to match DataFrame index.\n  c7 = df[df['Lugar de residencia'] == 'Huelva (capital)'][df['Medida'] == 'Confirmados PDIA 7 días']['Valor'].values[0]\n<ipython-input-9-f09dd2050cc1>:2: UserWarning: Boolean Series key will be reindexed to match DataFrame index.\n  c14 = df[df['Lugar de residencia'] == 'Huelva (capital)'][df['Medida'] == 'Confirmados PDIA 14 días']['Valor'].values[0]\n<ipython-input-9-f09dd2050cc1>:3: UserWarning: Boolean Series key will be reindexed to match DataFrame index.\n  p = df[df['Lugar de residencia'] == 'Huelva (capital)'][df['Medida'] == 'Población']['Valor'].values[0]\n"
     ]
    }
   ],
   "source": [
    "c7 = df[df['Lugar de residencia'] == 'Huelva (capital)'][df['Medida'] == 'Confirmados PDIA 7 días']['Valor'].values[0]\n",
    "c14 = df[df['Lugar de residencia'] == 'Huelva (capital)'][df['Medida'] == 'Confirmados PDIA 14 días']['Valor'].values[0]\n",
    "p = df[df['Lugar de residencia'] == 'Huelva (capital)'][df['Medida'] == 'Población']['Valor'].values[0]"
   ]
  },
  {
   "cell_type": "code",
   "execution_count": 10,
   "metadata": {
    "tags": []
   },
   "outputs": [
    {
     "output_type": "stream",
     "name": "stdout",
     "text": [
      "Huelva (capital)\n\nUn positivo PCR cada 1219 personas en los últimos 7 días \n\nUn positivo PCR cada 505 personas en los últimos 14 días\n"
     ]
    }
   ],
   "source": [
    "print('Huelva (capital)\\n')\n",
    "#print('Confirmados PCR 7 días x 1,000 habitantes: ', f\"{c7/(p/1000):.5f}\")\n",
    "print('Un positivo PCR cada', f\"{p/c7:.0f}\", 'personas en los últimos 7 días', '\\n')\n",
    "#print('Confirmados PCR 14 días x 1,000 habitantes: ', f\"{c14/(p/1000):.5f}\")\n",
    "print('Un positivo PCR cada', f\"{p/c14:.0f}\", 'personas en los últimos 14 días')"
   ]
  },
  {
   "cell_type": "code",
   "execution_count": 11,
   "metadata": {},
   "outputs": [],
   "source": [
    "filtro = ((df['Medida'] == 'Confirmados PDIA')| (df['Medida'] == 'Confirmados PDIA 7 días') | (df['Medida'] == 'Población' ) | (df['Medida'] == 'Confirmados PDIA 14 días')) & (df['Valor'] > 0)\n",
    "tabla = pd.pivot_table(df.loc[filtro], values='Valor', index='Lugar de residencia', columns='Medida').dropna()"
   ]
  },
  {
   "cell_type": "code",
   "execution_count": 12,
   "metadata": {},
   "outputs": [],
   "source": [
    "# Reorder columns\n",
    "tabla = tabla[['Confirmados PDIA', 'Confirmados PDIA 7 días', 'Confirmados PDIA 14 días', 'Población']]"
   ]
  },
  {
   "cell_type": "code",
   "execution_count": 13,
   "metadata": {},
   "outputs": [],
   "source": [
    "tabla['tasa7'] = tabla['Confirmados PDIA 7 días']/tabla['Población']*100000\n",
    "tabla['tasa14'] = tabla['Confirmados PDIA 14 días']/tabla['Población']*100000"
   ]
  },
  {
   "cell_type": "code",
   "execution_count": 14,
   "metadata": {},
   "outputs": [],
   "source": [
    "tabla['Diferencia PDIA'] = tabla['Confirmados PDIA'] - dfAnterior['Confirmados PDIA']"
   ]
  },
  {
   "cell_type": "code",
   "execution_count": 15,
   "metadata": {},
   "outputs": [
    {
     "output_type": "execute_result",
     "data": {
      "text/plain": [
       "Medida                             Confirmados PDIA  Confirmados PDIA 7 días  \\\n",
       "Lugar de residencia                                                            \n",
       "Huelva                                      28080.0                    559.0   \n",
       "Huelva-Costa                                16437.0                    195.0   \n",
       "Condado-Campiña                              8737.0                    292.0   \n",
       "Huelva (capital)                             7281.0                    118.0   \n",
       "Cartaya                                      1251.0                     31.0   \n",
       "Bollullos Par del Condado                     781.0                     35.0   \n",
       "Gibraleón                                     581.0                     17.0   \n",
       "Almonte                                      1445.0                     94.0   \n",
       "Sierra de Huelva-Andévalo Central            2509.0                     65.0   \n",
       "Moguer                                       1062.0                     38.0   \n",
       "San Juan del Puerto                           438.0                     20.0   \n",
       "Lepe                                         2069.0                      8.0   \n",
       "Lucena del Puerto                             207.0                     17.0   \n",
       "Isla Cristina                                2040.0                     11.0   \n",
       "Ayamonte                                     1267.0                      6.0   \n",
       "Galaroza                                       27.0                     10.0   \n",
       "Minas de Riotinto                             111.0                      4.0   \n",
       "Trigueros                                     260.0                      7.0   \n",
       "Punta Umbría                                  698.0                     10.0   \n",
       "Aljaraque                                     991.0                      9.0   \n",
       "San Bartolomé de la Torre                     283.0                      1.0   \n",
       "Palos de la Frontera                          570.0                     10.0   \n",
       "Valverde del Camino                           464.0                     11.0   \n",
       "Bonares                                       241.0                     12.0   \n",
       "San Silvestre de Guzmán                        15.0                      1.0   \n",
       "\n",
       "Medida                             Confirmados PDIA 14 días  Población  \\\n",
       "Lugar de residencia                                                      \n",
       "Huelva                                               1257.0   513170.0   \n",
       "Huelva-Costa                                          482.0   289548.0   \n",
       "Condado-Campiña                                       643.0   156231.0   \n",
       "Huelva (capital)                                      285.0   143837.0   \n",
       "Cartaya                                               108.0    20083.0   \n",
       "Bollullos Par del Condado                              62.0    14387.0   \n",
       "Gibraleón                                              25.0    12737.0   \n",
       "Almonte                                               219.0    24507.0   \n",
       "Sierra de Huelva-Andévalo Central                     114.0    67391.0   \n",
       "Moguer                                                 86.0    21867.0   \n",
       "San Juan del Puerto                                    32.0     9411.0   \n",
       "Lepe                                                   21.0    27880.0   \n",
       "Lucena del Puerto                                      24.0     3261.0   \n",
       "Isla Cristina                                          19.0    21393.0   \n",
       "Ayamonte                                               10.0    21104.0   \n",
       "Galaroza                                               11.0     1382.0   \n",
       "Minas de Riotinto                                      10.0     3812.0   \n",
       "Trigueros                                              11.0     7862.0   \n",
       "Punta Umbría                                           14.0    15355.0   \n",
       "Aljaraque                                              19.0    21474.0   \n",
       "San Bartolomé de la Torre                              11.0     3761.0   \n",
       "Palos de la Frontera                                   36.0    11742.0   \n",
       "Valverde del Camino                                    20.0    12750.0   \n",
       "Bonares                                                22.0     6060.0   \n",
       "San Silvestre de Guzmán                                 1.0      614.0   \n",
       "\n",
       "Medida                                  tasa7      tasa14  Diferencia PDIA  \n",
       "Lugar de residencia                                                         \n",
       "Huelva                             108.930764  244.948068            100.0  \n",
       "Huelva-Costa                        67.346347  166.466354             67.0  \n",
       "Condado-Campiña                    186.902727  411.570047             42.0  \n",
       "Huelva (capital)                    82.037306  198.140951             39.0  \n",
       "Cartaya                            154.359408  537.768262             11.0  \n",
       "Bollullos Par del Condado          243.275179  430.944603              8.0  \n",
       "Gibraleón                          133.469420  196.278559              7.0  \n",
       "Almonte                            383.563880  893.622230              7.0  \n",
       "Sierra de Huelva-Andévalo Central   96.452048  169.162054              6.0  \n",
       "Moguer                             173.777839  393.286688              6.0  \n",
       "San Juan del Puerto                212.517267  340.027627              6.0  \n",
       "Lepe                                28.694405   75.322812              5.0  \n",
       "Lucena del Puerto                  521.312481  735.970561              5.0  \n",
       "Isla Cristina                       51.418688   88.814098              4.0  \n",
       "Ayamonte                            28.430629   47.384382              4.0  \n",
       "Galaroza                           723.589001  795.947902              3.0  \n",
       "Minas de Riotinto                  104.931794  262.329486              2.0  \n",
       "Trigueros                           89.035869  139.913508              2.0  \n",
       "Punta Umbría                        65.125366   91.175513              2.0  \n",
       "Aljaraque                           41.911148   88.479091              1.0  \n",
       "San Bartolomé de la Torre           26.588673  292.475405              1.0  \n",
       "Palos de la Frontera                85.164367  306.591722              1.0  \n",
       "Valverde del Camino                 86.274510  156.862745              1.0  \n",
       "Bonares                            198.019802  363.036304             -1.0  \n",
       "San Silvestre de Guzmán            162.866450  162.866450              NaN  "
      ],
      "text/html": "<div>\n<style scoped>\n    .dataframe tbody tr th:only-of-type {\n        vertical-align: middle;\n    }\n\n    .dataframe tbody tr th {\n        vertical-align: top;\n    }\n\n    .dataframe thead th {\n        text-align: right;\n    }\n</style>\n<table border=\"1\" class=\"dataframe\">\n  <thead>\n    <tr style=\"text-align: right;\">\n      <th>Medida</th>\n      <th>Confirmados PDIA</th>\n      <th>Confirmados PDIA 7 días</th>\n      <th>Confirmados PDIA 14 días</th>\n      <th>Población</th>\n      <th>tasa7</th>\n      <th>tasa14</th>\n      <th>Diferencia PDIA</th>\n    </tr>\n    <tr>\n      <th>Lugar de residencia</th>\n      <th></th>\n      <th></th>\n      <th></th>\n      <th></th>\n      <th></th>\n      <th></th>\n      <th></th>\n    </tr>\n  </thead>\n  <tbody>\n    <tr>\n      <th>Huelva</th>\n      <td>28080.0</td>\n      <td>559.0</td>\n      <td>1257.0</td>\n      <td>513170.0</td>\n      <td>108.930764</td>\n      <td>244.948068</td>\n      <td>100.0</td>\n    </tr>\n    <tr>\n      <th>Huelva-Costa</th>\n      <td>16437.0</td>\n      <td>195.0</td>\n      <td>482.0</td>\n      <td>289548.0</td>\n      <td>67.346347</td>\n      <td>166.466354</td>\n      <td>67.0</td>\n    </tr>\n    <tr>\n      <th>Condado-Campiña</th>\n      <td>8737.0</td>\n      <td>292.0</td>\n      <td>643.0</td>\n      <td>156231.0</td>\n      <td>186.902727</td>\n      <td>411.570047</td>\n      <td>42.0</td>\n    </tr>\n    <tr>\n      <th>Huelva (capital)</th>\n      <td>7281.0</td>\n      <td>118.0</td>\n      <td>285.0</td>\n      <td>143837.0</td>\n      <td>82.037306</td>\n      <td>198.140951</td>\n      <td>39.0</td>\n    </tr>\n    <tr>\n      <th>Cartaya</th>\n      <td>1251.0</td>\n      <td>31.0</td>\n      <td>108.0</td>\n      <td>20083.0</td>\n      <td>154.359408</td>\n      <td>537.768262</td>\n      <td>11.0</td>\n    </tr>\n    <tr>\n      <th>Bollullos Par del Condado</th>\n      <td>781.0</td>\n      <td>35.0</td>\n      <td>62.0</td>\n      <td>14387.0</td>\n      <td>243.275179</td>\n      <td>430.944603</td>\n      <td>8.0</td>\n    </tr>\n    <tr>\n      <th>Gibraleón</th>\n      <td>581.0</td>\n      <td>17.0</td>\n      <td>25.0</td>\n      <td>12737.0</td>\n      <td>133.469420</td>\n      <td>196.278559</td>\n      <td>7.0</td>\n    </tr>\n    <tr>\n      <th>Almonte</th>\n      <td>1445.0</td>\n      <td>94.0</td>\n      <td>219.0</td>\n      <td>24507.0</td>\n      <td>383.563880</td>\n      <td>893.622230</td>\n      <td>7.0</td>\n    </tr>\n    <tr>\n      <th>Sierra de Huelva-Andévalo Central</th>\n      <td>2509.0</td>\n      <td>65.0</td>\n      <td>114.0</td>\n      <td>67391.0</td>\n      <td>96.452048</td>\n      <td>169.162054</td>\n      <td>6.0</td>\n    </tr>\n    <tr>\n      <th>Moguer</th>\n      <td>1062.0</td>\n      <td>38.0</td>\n      <td>86.0</td>\n      <td>21867.0</td>\n      <td>173.777839</td>\n      <td>393.286688</td>\n      <td>6.0</td>\n    </tr>\n    <tr>\n      <th>San Juan del Puerto</th>\n      <td>438.0</td>\n      <td>20.0</td>\n      <td>32.0</td>\n      <td>9411.0</td>\n      <td>212.517267</td>\n      <td>340.027627</td>\n      <td>6.0</td>\n    </tr>\n    <tr>\n      <th>Lepe</th>\n      <td>2069.0</td>\n      <td>8.0</td>\n      <td>21.0</td>\n      <td>27880.0</td>\n      <td>28.694405</td>\n      <td>75.322812</td>\n      <td>5.0</td>\n    </tr>\n    <tr>\n      <th>Lucena del Puerto</th>\n      <td>207.0</td>\n      <td>17.0</td>\n      <td>24.0</td>\n      <td>3261.0</td>\n      <td>521.312481</td>\n      <td>735.970561</td>\n      <td>5.0</td>\n    </tr>\n    <tr>\n      <th>Isla Cristina</th>\n      <td>2040.0</td>\n      <td>11.0</td>\n      <td>19.0</td>\n      <td>21393.0</td>\n      <td>51.418688</td>\n      <td>88.814098</td>\n      <td>4.0</td>\n    </tr>\n    <tr>\n      <th>Ayamonte</th>\n      <td>1267.0</td>\n      <td>6.0</td>\n      <td>10.0</td>\n      <td>21104.0</td>\n      <td>28.430629</td>\n      <td>47.384382</td>\n      <td>4.0</td>\n    </tr>\n    <tr>\n      <th>Galaroza</th>\n      <td>27.0</td>\n      <td>10.0</td>\n      <td>11.0</td>\n      <td>1382.0</td>\n      <td>723.589001</td>\n      <td>795.947902</td>\n      <td>3.0</td>\n    </tr>\n    <tr>\n      <th>Minas de Riotinto</th>\n      <td>111.0</td>\n      <td>4.0</td>\n      <td>10.0</td>\n      <td>3812.0</td>\n      <td>104.931794</td>\n      <td>262.329486</td>\n      <td>2.0</td>\n    </tr>\n    <tr>\n      <th>Trigueros</th>\n      <td>260.0</td>\n      <td>7.0</td>\n      <td>11.0</td>\n      <td>7862.0</td>\n      <td>89.035869</td>\n      <td>139.913508</td>\n      <td>2.0</td>\n    </tr>\n    <tr>\n      <th>Punta Umbría</th>\n      <td>698.0</td>\n      <td>10.0</td>\n      <td>14.0</td>\n      <td>15355.0</td>\n      <td>65.125366</td>\n      <td>91.175513</td>\n      <td>2.0</td>\n    </tr>\n    <tr>\n      <th>Aljaraque</th>\n      <td>991.0</td>\n      <td>9.0</td>\n      <td>19.0</td>\n      <td>21474.0</td>\n      <td>41.911148</td>\n      <td>88.479091</td>\n      <td>1.0</td>\n    </tr>\n    <tr>\n      <th>San Bartolomé de la Torre</th>\n      <td>283.0</td>\n      <td>1.0</td>\n      <td>11.0</td>\n      <td>3761.0</td>\n      <td>26.588673</td>\n      <td>292.475405</td>\n      <td>1.0</td>\n    </tr>\n    <tr>\n      <th>Palos de la Frontera</th>\n      <td>570.0</td>\n      <td>10.0</td>\n      <td>36.0</td>\n      <td>11742.0</td>\n      <td>85.164367</td>\n      <td>306.591722</td>\n      <td>1.0</td>\n    </tr>\n    <tr>\n      <th>Valverde del Camino</th>\n      <td>464.0</td>\n      <td>11.0</td>\n      <td>20.0</td>\n      <td>12750.0</td>\n      <td>86.274510</td>\n      <td>156.862745</td>\n      <td>1.0</td>\n    </tr>\n    <tr>\n      <th>Bonares</th>\n      <td>241.0</td>\n      <td>12.0</td>\n      <td>22.0</td>\n      <td>6060.0</td>\n      <td>198.019802</td>\n      <td>363.036304</td>\n      <td>-1.0</td>\n    </tr>\n    <tr>\n      <th>San Silvestre de Guzmán</th>\n      <td>15.0</td>\n      <td>1.0</td>\n      <td>1.0</td>\n      <td>614.0</td>\n      <td>162.866450</td>\n      <td>162.866450</td>\n      <td>NaN</td>\n    </tr>\n  </tbody>\n</table>\n</div>"
     },
     "metadata": {},
     "execution_count": 15
    }
   ],
   "source": [
    "# Nuevos casos desde la última captura\n",
    "tabla[tabla['Diferencia PDIA'] != 0].sort_values('Diferencia PDIA', ascending=False)"
   ]
  },
  {
   "cell_type": "code",
   "execution_count": 16,
   "metadata": {},
   "outputs": [],
   "source": [
    "if tabla[tabla['Diferencia PDIA'] != 0]['Diferencia PDIA'].sum() != 0:\n",
    "  # Save to csv\n",
    "  tabla.to_csv('covid_huelva.csv', encoding='utf-8', header=True, index=True)  "
   ]
  },
  {
   "cell_type": "code",
   "execution_count": 17,
   "metadata": {},
   "outputs": [
    {
     "output_type": "execute_result",
     "data": {
      "text/plain": [
       "Medida                             Confirmados PDIA  Confirmados PDIA 7 días  \\\n",
       "Lugar de residencia                                                            \n",
       "Cumbres de San Bartolomé                       10.0                      5.0   \n",
       "Cumbres Mayores                                48.0                     18.0   \n",
       "Almonte                                      1445.0                     94.0   \n",
       "Santa Ana la Real                               9.0                      3.0   \n",
       "Galaroza                                       27.0                     10.0   \n",
       "Rociana del Condado                           495.0                     21.0   \n",
       "Lucena del Puerto                             207.0                     17.0   \n",
       "Cartaya                                      1251.0                     31.0   \n",
       "Almonaster la Real                             63.0                      1.0   \n",
       "Beas                                          185.0                     11.0   \n",
       "Bollullos Par del Condado                     781.0                     35.0   \n",
       "Condado-Campiña                              8737.0                    292.0   \n",
       "Moguer                                       1062.0                     38.0   \n",
       "Granado (El)                                   38.0                      1.0   \n",
       "Bonares                                       241.0                     12.0   \n",
       "San Juan del Puerto                           438.0                     20.0   \n",
       "Cortelazor                                      5.0                      1.0   \n",
       "Villarrasa                                    147.0                      1.0   \n",
       "Palos de la Frontera                          570.0                     10.0   \n",
       "San Bartolomé de la Torre                     283.0                      1.0   \n",
       "Minas de Riotinto                             111.0                      4.0   \n",
       "Huelva                                      28080.0                    559.0   \n",
       "Huelva (capital)                             7281.0                    118.0   \n",
       "Gibraleón                                     581.0                     17.0   \n",
       "Niebla                                        192.0                      3.0   \n",
       "Aracena                                       506.0                      7.0   \n",
       "Sierra de Huelva-Andévalo Central            2509.0                     65.0   \n",
       "Palma del Condado (La)                       1028.0                      5.0   \n",
       "Huelva-Costa                                16437.0                    195.0   \n",
       "San Silvestre de Guzmán                        15.0                      1.0   \n",
       "Valverde del Camino                           464.0                     11.0   \n",
       "Trigueros                                     260.0                      7.0   \n",
       "Aroche                                         89.0                      2.0   \n",
       "Punta Umbría                                  698.0                     10.0   \n",
       "Isla Cristina                                2040.0                     11.0   \n",
       "Aljaraque                                     991.0                      9.0   \n",
       "Encinasola                                    117.0                      1.0   \n",
       "Lepe                                         2069.0                      8.0   \n",
       "Ayamonte                                     1267.0                      6.0   \n",
       "Cortegana                                     194.0                      2.0   \n",
       "\n",
       "Medida                             Confirmados PDIA 14 días  Población  \\\n",
       "Lugar de residencia                                                      \n",
       "Cumbres de San Bartolomé                                5.0      376.0   \n",
       "Cumbres Mayores                                        23.0     1749.0   \n",
       "Almonte                                               219.0    24507.0   \n",
       "Santa Ana la Real                                       4.0      475.0   \n",
       "Galaroza                                               11.0     1382.0   \n",
       "Rociana del Condado                                    61.0     7939.0   \n",
       "Lucena del Puerto                                      24.0     3261.0   \n",
       "Cartaya                                               108.0    20083.0   \n",
       "Almonaster la Real                                      8.0     1788.0   \n",
       "Beas                                                   19.0     4341.0   \n",
       "Bollullos Par del Condado                              62.0    14387.0   \n",
       "Condado-Campiña                                       643.0   156231.0   \n",
       "Moguer                                                 86.0    21867.0   \n",
       "Granado (El)                                            2.0      532.0   \n",
       "Bonares                                                22.0     6060.0   \n",
       "San Juan del Puerto                                    32.0     9411.0   \n",
       "Cortelazor                                              1.0      299.0   \n",
       "Villarrasa                                              7.0     2211.0   \n",
       "Palos de la Frontera                                   36.0    11742.0   \n",
       "San Bartolomé de la Torre                              11.0     3761.0   \n",
       "Minas de Riotinto                                      10.0     3812.0   \n",
       "Huelva                                               1257.0   513170.0   \n",
       "Huelva (capital)                                      285.0   143837.0   \n",
       "Gibraleón                                              25.0    12737.0   \n",
       "Niebla                                                  8.0     4116.0   \n",
       "Aracena                                                16.0     8255.0   \n",
       "Sierra de Huelva-Andévalo Central                     114.0    67391.0   \n",
       "Palma del Condado (La)                                 18.0    10801.0   \n",
       "Huelva-Costa                                          482.0   289548.0   \n",
       "San Silvestre de Guzmán                                 1.0      614.0   \n",
       "Valverde del Camino                                    20.0    12750.0   \n",
       "Trigueros                                              11.0     7862.0   \n",
       "Aroche                                                  3.0     3054.0   \n",
       "Punta Umbría                                           14.0    15355.0   \n",
       "Isla Cristina                                          19.0    21393.0   \n",
       "Aljaraque                                              19.0    21474.0   \n",
       "Encinasola                                              1.0     1310.0   \n",
       "Lepe                                                   21.0    27880.0   \n",
       "Ayamonte                                               10.0    21104.0   \n",
       "Cortegana                                               2.0     4602.0   \n",
       "\n",
       "Medida                                   tasa7       tasa14  Diferencia PDIA  \n",
       "Lugar de residencia                                                           \n",
       "Cumbres de San Bartolomé           1329.787234  1329.787234              0.0  \n",
       "Cumbres Mayores                    1029.159520  1315.037164              0.0  \n",
       "Almonte                             383.563880   893.622230              7.0  \n",
       "Santa Ana la Real                   631.578947   842.105263              0.0  \n",
       "Galaroza                            723.589001   795.947902              3.0  \n",
       "Rociana del Condado                 264.516942   768.358735              0.0  \n",
       "Lucena del Puerto                   521.312481   735.970561              5.0  \n",
       "Cartaya                             154.359408   537.768262             11.0  \n",
       "Almonaster la Real                   55.928412   447.427293              0.0  \n",
       "Beas                                253.397835   437.687169              0.0  \n",
       "Bollullos Par del Condado           243.275179   430.944603              8.0  \n",
       "Condado-Campiña                     186.902727   411.570047             42.0  \n",
       "Moguer                              173.777839   393.286688              6.0  \n",
       "Granado (El)                        187.969925   375.939850              0.0  \n",
       "Bonares                             198.019802   363.036304             -1.0  \n",
       "San Juan del Puerto                 212.517267   340.027627              6.0  \n",
       "Cortelazor                          334.448161   334.448161              0.0  \n",
       "Villarrasa                           45.228403   316.598824              0.0  \n",
       "Palos de la Frontera                 85.164367   306.591722              1.0  \n",
       "San Bartolomé de la Torre            26.588673   292.475405              1.0  \n",
       "Minas de Riotinto                   104.931794   262.329486              2.0  \n",
       "Huelva                              108.930764   244.948068            100.0  \n",
       "Huelva (capital)                     82.037306   198.140951             39.0  \n",
       "Gibraleón                           133.469420   196.278559              7.0  \n",
       "Niebla                               72.886297   194.363460              0.0  \n",
       "Aracena                              84.797093   193.821926              0.0  \n",
       "Sierra de Huelva-Andévalo Central    96.452048   169.162054              6.0  \n",
       "Palma del Condado (La)               46.292010   166.651236              0.0  \n",
       "Huelva-Costa                         67.346347   166.466354             67.0  \n",
       "San Silvestre de Guzmán             162.866450   162.866450              NaN  \n",
       "Valverde del Camino                  86.274510   156.862745              1.0  \n",
       "Trigueros                            89.035869   139.913508              2.0  \n",
       "Aroche                               65.487885    98.231827              0.0  \n",
       "Punta Umbría                         65.125366    91.175513              2.0  \n",
       "Isla Cristina                        51.418688    88.814098              4.0  \n",
       "Aljaraque                            41.911148    88.479091              1.0  \n",
       "Encinasola                           76.335878    76.335878              0.0  \n",
       "Lepe                                 28.694405    75.322812              5.0  \n",
       "Ayamonte                             28.430629    47.384382              4.0  \n",
       "Cortegana                            43.459365    43.459365              0.0  "
      ],
      "text/html": "<div>\n<style scoped>\n    .dataframe tbody tr th:only-of-type {\n        vertical-align: middle;\n    }\n\n    .dataframe tbody tr th {\n        vertical-align: top;\n    }\n\n    .dataframe thead th {\n        text-align: right;\n    }\n</style>\n<table border=\"1\" class=\"dataframe\">\n  <thead>\n    <tr style=\"text-align: right;\">\n      <th>Medida</th>\n      <th>Confirmados PDIA</th>\n      <th>Confirmados PDIA 7 días</th>\n      <th>Confirmados PDIA 14 días</th>\n      <th>Población</th>\n      <th>tasa7</th>\n      <th>tasa14</th>\n      <th>Diferencia PDIA</th>\n    </tr>\n    <tr>\n      <th>Lugar de residencia</th>\n      <th></th>\n      <th></th>\n      <th></th>\n      <th></th>\n      <th></th>\n      <th></th>\n      <th></th>\n    </tr>\n  </thead>\n  <tbody>\n    <tr>\n      <th>Cumbres de San Bartolomé</th>\n      <td>10.0</td>\n      <td>5.0</td>\n      <td>5.0</td>\n      <td>376.0</td>\n      <td>1329.787234</td>\n      <td>1329.787234</td>\n      <td>0.0</td>\n    </tr>\n    <tr>\n      <th>Cumbres Mayores</th>\n      <td>48.0</td>\n      <td>18.0</td>\n      <td>23.0</td>\n      <td>1749.0</td>\n      <td>1029.159520</td>\n      <td>1315.037164</td>\n      <td>0.0</td>\n    </tr>\n    <tr>\n      <th>Almonte</th>\n      <td>1445.0</td>\n      <td>94.0</td>\n      <td>219.0</td>\n      <td>24507.0</td>\n      <td>383.563880</td>\n      <td>893.622230</td>\n      <td>7.0</td>\n    </tr>\n    <tr>\n      <th>Santa Ana la Real</th>\n      <td>9.0</td>\n      <td>3.0</td>\n      <td>4.0</td>\n      <td>475.0</td>\n      <td>631.578947</td>\n      <td>842.105263</td>\n      <td>0.0</td>\n    </tr>\n    <tr>\n      <th>Galaroza</th>\n      <td>27.0</td>\n      <td>10.0</td>\n      <td>11.0</td>\n      <td>1382.0</td>\n      <td>723.589001</td>\n      <td>795.947902</td>\n      <td>3.0</td>\n    </tr>\n    <tr>\n      <th>Rociana del Condado</th>\n      <td>495.0</td>\n      <td>21.0</td>\n      <td>61.0</td>\n      <td>7939.0</td>\n      <td>264.516942</td>\n      <td>768.358735</td>\n      <td>0.0</td>\n    </tr>\n    <tr>\n      <th>Lucena del Puerto</th>\n      <td>207.0</td>\n      <td>17.0</td>\n      <td>24.0</td>\n      <td>3261.0</td>\n      <td>521.312481</td>\n      <td>735.970561</td>\n      <td>5.0</td>\n    </tr>\n    <tr>\n      <th>Cartaya</th>\n      <td>1251.0</td>\n      <td>31.0</td>\n      <td>108.0</td>\n      <td>20083.0</td>\n      <td>154.359408</td>\n      <td>537.768262</td>\n      <td>11.0</td>\n    </tr>\n    <tr>\n      <th>Almonaster la Real</th>\n      <td>63.0</td>\n      <td>1.0</td>\n      <td>8.0</td>\n      <td>1788.0</td>\n      <td>55.928412</td>\n      <td>447.427293</td>\n      <td>0.0</td>\n    </tr>\n    <tr>\n      <th>Beas</th>\n      <td>185.0</td>\n      <td>11.0</td>\n      <td>19.0</td>\n      <td>4341.0</td>\n      <td>253.397835</td>\n      <td>437.687169</td>\n      <td>0.0</td>\n    </tr>\n    <tr>\n      <th>Bollullos Par del Condado</th>\n      <td>781.0</td>\n      <td>35.0</td>\n      <td>62.0</td>\n      <td>14387.0</td>\n      <td>243.275179</td>\n      <td>430.944603</td>\n      <td>8.0</td>\n    </tr>\n    <tr>\n      <th>Condado-Campiña</th>\n      <td>8737.0</td>\n      <td>292.0</td>\n      <td>643.0</td>\n      <td>156231.0</td>\n      <td>186.902727</td>\n      <td>411.570047</td>\n      <td>42.0</td>\n    </tr>\n    <tr>\n      <th>Moguer</th>\n      <td>1062.0</td>\n      <td>38.0</td>\n      <td>86.0</td>\n      <td>21867.0</td>\n      <td>173.777839</td>\n      <td>393.286688</td>\n      <td>6.0</td>\n    </tr>\n    <tr>\n      <th>Granado (El)</th>\n      <td>38.0</td>\n      <td>1.0</td>\n      <td>2.0</td>\n      <td>532.0</td>\n      <td>187.969925</td>\n      <td>375.939850</td>\n      <td>0.0</td>\n    </tr>\n    <tr>\n      <th>Bonares</th>\n      <td>241.0</td>\n      <td>12.0</td>\n      <td>22.0</td>\n      <td>6060.0</td>\n      <td>198.019802</td>\n      <td>363.036304</td>\n      <td>-1.0</td>\n    </tr>\n    <tr>\n      <th>San Juan del Puerto</th>\n      <td>438.0</td>\n      <td>20.0</td>\n      <td>32.0</td>\n      <td>9411.0</td>\n      <td>212.517267</td>\n      <td>340.027627</td>\n      <td>6.0</td>\n    </tr>\n    <tr>\n      <th>Cortelazor</th>\n      <td>5.0</td>\n      <td>1.0</td>\n      <td>1.0</td>\n      <td>299.0</td>\n      <td>334.448161</td>\n      <td>334.448161</td>\n      <td>0.0</td>\n    </tr>\n    <tr>\n      <th>Villarrasa</th>\n      <td>147.0</td>\n      <td>1.0</td>\n      <td>7.0</td>\n      <td>2211.0</td>\n      <td>45.228403</td>\n      <td>316.598824</td>\n      <td>0.0</td>\n    </tr>\n    <tr>\n      <th>Palos de la Frontera</th>\n      <td>570.0</td>\n      <td>10.0</td>\n      <td>36.0</td>\n      <td>11742.0</td>\n      <td>85.164367</td>\n      <td>306.591722</td>\n      <td>1.0</td>\n    </tr>\n    <tr>\n      <th>San Bartolomé de la Torre</th>\n      <td>283.0</td>\n      <td>1.0</td>\n      <td>11.0</td>\n      <td>3761.0</td>\n      <td>26.588673</td>\n      <td>292.475405</td>\n      <td>1.0</td>\n    </tr>\n    <tr>\n      <th>Minas de Riotinto</th>\n      <td>111.0</td>\n      <td>4.0</td>\n      <td>10.0</td>\n      <td>3812.0</td>\n      <td>104.931794</td>\n      <td>262.329486</td>\n      <td>2.0</td>\n    </tr>\n    <tr>\n      <th>Huelva</th>\n      <td>28080.0</td>\n      <td>559.0</td>\n      <td>1257.0</td>\n      <td>513170.0</td>\n      <td>108.930764</td>\n      <td>244.948068</td>\n      <td>100.0</td>\n    </tr>\n    <tr>\n      <th>Huelva (capital)</th>\n      <td>7281.0</td>\n      <td>118.0</td>\n      <td>285.0</td>\n      <td>143837.0</td>\n      <td>82.037306</td>\n      <td>198.140951</td>\n      <td>39.0</td>\n    </tr>\n    <tr>\n      <th>Gibraleón</th>\n      <td>581.0</td>\n      <td>17.0</td>\n      <td>25.0</td>\n      <td>12737.0</td>\n      <td>133.469420</td>\n      <td>196.278559</td>\n      <td>7.0</td>\n    </tr>\n    <tr>\n      <th>Niebla</th>\n      <td>192.0</td>\n      <td>3.0</td>\n      <td>8.0</td>\n      <td>4116.0</td>\n      <td>72.886297</td>\n      <td>194.363460</td>\n      <td>0.0</td>\n    </tr>\n    <tr>\n      <th>Aracena</th>\n      <td>506.0</td>\n      <td>7.0</td>\n      <td>16.0</td>\n      <td>8255.0</td>\n      <td>84.797093</td>\n      <td>193.821926</td>\n      <td>0.0</td>\n    </tr>\n    <tr>\n      <th>Sierra de Huelva-Andévalo Central</th>\n      <td>2509.0</td>\n      <td>65.0</td>\n      <td>114.0</td>\n      <td>67391.0</td>\n      <td>96.452048</td>\n      <td>169.162054</td>\n      <td>6.0</td>\n    </tr>\n    <tr>\n      <th>Palma del Condado (La)</th>\n      <td>1028.0</td>\n      <td>5.0</td>\n      <td>18.0</td>\n      <td>10801.0</td>\n      <td>46.292010</td>\n      <td>166.651236</td>\n      <td>0.0</td>\n    </tr>\n    <tr>\n      <th>Huelva-Costa</th>\n      <td>16437.0</td>\n      <td>195.0</td>\n      <td>482.0</td>\n      <td>289548.0</td>\n      <td>67.346347</td>\n      <td>166.466354</td>\n      <td>67.0</td>\n    </tr>\n    <tr>\n      <th>San Silvestre de Guzmán</th>\n      <td>15.0</td>\n      <td>1.0</td>\n      <td>1.0</td>\n      <td>614.0</td>\n      <td>162.866450</td>\n      <td>162.866450</td>\n      <td>NaN</td>\n    </tr>\n    <tr>\n      <th>Valverde del Camino</th>\n      <td>464.0</td>\n      <td>11.0</td>\n      <td>20.0</td>\n      <td>12750.0</td>\n      <td>86.274510</td>\n      <td>156.862745</td>\n      <td>1.0</td>\n    </tr>\n    <tr>\n      <th>Trigueros</th>\n      <td>260.0</td>\n      <td>7.0</td>\n      <td>11.0</td>\n      <td>7862.0</td>\n      <td>89.035869</td>\n      <td>139.913508</td>\n      <td>2.0</td>\n    </tr>\n    <tr>\n      <th>Aroche</th>\n      <td>89.0</td>\n      <td>2.0</td>\n      <td>3.0</td>\n      <td>3054.0</td>\n      <td>65.487885</td>\n      <td>98.231827</td>\n      <td>0.0</td>\n    </tr>\n    <tr>\n      <th>Punta Umbría</th>\n      <td>698.0</td>\n      <td>10.0</td>\n      <td>14.0</td>\n      <td>15355.0</td>\n      <td>65.125366</td>\n      <td>91.175513</td>\n      <td>2.0</td>\n    </tr>\n    <tr>\n      <th>Isla Cristina</th>\n      <td>2040.0</td>\n      <td>11.0</td>\n      <td>19.0</td>\n      <td>21393.0</td>\n      <td>51.418688</td>\n      <td>88.814098</td>\n      <td>4.0</td>\n    </tr>\n    <tr>\n      <th>Aljaraque</th>\n      <td>991.0</td>\n      <td>9.0</td>\n      <td>19.0</td>\n      <td>21474.0</td>\n      <td>41.911148</td>\n      <td>88.479091</td>\n      <td>1.0</td>\n    </tr>\n    <tr>\n      <th>Encinasola</th>\n      <td>117.0</td>\n      <td>1.0</td>\n      <td>1.0</td>\n      <td>1310.0</td>\n      <td>76.335878</td>\n      <td>76.335878</td>\n      <td>0.0</td>\n    </tr>\n    <tr>\n      <th>Lepe</th>\n      <td>2069.0</td>\n      <td>8.0</td>\n      <td>21.0</td>\n      <td>27880.0</td>\n      <td>28.694405</td>\n      <td>75.322812</td>\n      <td>5.0</td>\n    </tr>\n    <tr>\n      <th>Ayamonte</th>\n      <td>1267.0</td>\n      <td>6.0</td>\n      <td>10.0</td>\n      <td>21104.0</td>\n      <td>28.430629</td>\n      <td>47.384382</td>\n      <td>4.0</td>\n    </tr>\n    <tr>\n      <th>Cortegana</th>\n      <td>194.0</td>\n      <td>2.0</td>\n      <td>2.0</td>\n      <td>4602.0</td>\n      <td>43.459365</td>\n      <td>43.459365</td>\n      <td>0.0</td>\n    </tr>\n  </tbody>\n</table>\n</div>"
     },
     "metadata": {},
     "execution_count": 17
    }
   ],
   "source": [
    "tabla.sort_values('tasa14', ascending=False)"
   ]
  },
  {
   "cell_type": "code",
   "execution_count": 18,
   "metadata": {},
   "outputs": [
    {
     "output_type": "execute_result",
     "data": {
      "text/plain": [
       "Medida                             Confirmados PDIA  Confirmados PDIA 7 días  \\\n",
       "Lugar de residencia                                                            \n",
       "San Bartolomé de la Torre                     283.0                      1.0   \n",
       "Almonaster la Real                             63.0                      1.0   \n",
       "Villarrasa                                    147.0                      1.0   \n",
       "Palos de la Frontera                          570.0                     10.0   \n",
       "Palma del Condado (La)                       1028.0                      5.0   \n",
       "Cartaya                                      1251.0                     31.0   \n",
       "Rociana del Condado                           495.0                     21.0   \n",
       "Niebla                                        192.0                      3.0   \n",
       "Lepe                                         2069.0                      8.0   \n",
       "Minas de Riotinto                             111.0                      4.0   \n",
       "Huelva-Costa                                16437.0                    195.0   \n",
       "Huelva (capital)                             7281.0                    118.0   \n",
       "Almonte                                      1445.0                     94.0   \n",
       "Aracena                                       506.0                      7.0   \n",
       "Moguer                                       1062.0                     38.0   \n",
       "Huelva                                      28080.0                    559.0   \n",
       "Condado-Campiña                              8737.0                    292.0   \n",
       "Aljaraque                                     991.0                      9.0   \n",
       "Granado (El)                                   38.0                      1.0   \n",
       "Bonares                                       241.0                     12.0   \n",
       "Valverde del Camino                           464.0                     11.0   \n",
       "Bollullos Par del Condado                     781.0                     35.0   \n",
       "Sierra de Huelva-Andévalo Central            2509.0                     65.0   \n",
       "Beas                                          185.0                     11.0   \n",
       "Isla Cristina                                2040.0                     11.0   \n",
       "Ayamonte                                     1267.0                      6.0   \n",
       "San Juan del Puerto                           438.0                     20.0   \n",
       "Trigueros                                     260.0                      7.0   \n",
       "Aroche                                         89.0                      2.0   \n",
       "Gibraleón                                     581.0                     17.0   \n",
       "Lucena del Puerto                             207.0                     17.0   \n",
       "Punta Umbría                                  698.0                     10.0   \n",
       "Santa Ana la Real                               9.0                      3.0   \n",
       "Cumbres Mayores                                48.0                     18.0   \n",
       "Galaroza                                       27.0                     10.0   \n",
       "Encinasola                                    117.0                      1.0   \n",
       "Cortegana                                     194.0                      2.0   \n",
       "Cortelazor                                      5.0                      1.0   \n",
       "San Silvestre de Guzmán                        15.0                      1.0   \n",
       "Cumbres de San Bartolomé                       10.0                      5.0   \n",
       "\n",
       "Medida                             Confirmados PDIA 14 días  Población  \\\n",
       "Lugar de residencia                                                      \n",
       "San Bartolomé de la Torre                              11.0     3761.0   \n",
       "Almonaster la Real                                      8.0     1788.0   \n",
       "Villarrasa                                              7.0     2211.0   \n",
       "Palos de la Frontera                                   36.0    11742.0   \n",
       "Palma del Condado (La)                                 18.0    10801.0   \n",
       "Cartaya                                               108.0    20083.0   \n",
       "Rociana del Condado                                    61.0     7939.0   \n",
       "Niebla                                                  8.0     4116.0   \n",
       "Lepe                                                   21.0    27880.0   \n",
       "Minas de Riotinto                                      10.0     3812.0   \n",
       "Huelva-Costa                                          482.0   289548.0   \n",
       "Huelva (capital)                                      285.0   143837.0   \n",
       "Almonte                                               219.0    24507.0   \n",
       "Aracena                                                16.0     8255.0   \n",
       "Moguer                                                 86.0    21867.0   \n",
       "Huelva                                               1257.0   513170.0   \n",
       "Condado-Campiña                                       643.0   156231.0   \n",
       "Aljaraque                                              19.0    21474.0   \n",
       "Granado (El)                                            2.0      532.0   \n",
       "Bonares                                                22.0     6060.0   \n",
       "Valverde del Camino                                    20.0    12750.0   \n",
       "Bollullos Par del Condado                              62.0    14387.0   \n",
       "Sierra de Huelva-Andévalo Central                     114.0    67391.0   \n",
       "Beas                                                   19.0     4341.0   \n",
       "Isla Cristina                                          19.0    21393.0   \n",
       "Ayamonte                                               10.0    21104.0   \n",
       "San Juan del Puerto                                    32.0     9411.0   \n",
       "Trigueros                                              11.0     7862.0   \n",
       "Aroche                                                  3.0     3054.0   \n",
       "Gibraleón                                              25.0    12737.0   \n",
       "Lucena del Puerto                                      24.0     3261.0   \n",
       "Punta Umbría                                           14.0    15355.0   \n",
       "Santa Ana la Real                                       4.0      475.0   \n",
       "Cumbres Mayores                                        23.0     1749.0   \n",
       "Galaroza                                               11.0     1382.0   \n",
       "Encinasola                                              1.0     1310.0   \n",
       "Cortegana                                               2.0     4602.0   \n",
       "Cortelazor                                              1.0      299.0   \n",
       "San Silvestre de Guzmán                                 1.0      614.0   \n",
       "Cumbres de San Bartolomé                                5.0      376.0   \n",
       "\n",
       "Medida                                   tasa7       tasa14  Diferencia PDIA  \\\n",
       "Lugar de residencia                                                            \n",
       "San Bartolomé de la Torre            26.588673   292.475405              1.0   \n",
       "Almonaster la Real                   55.928412   447.427293              0.0   \n",
       "Villarrasa                           45.228403   316.598824              0.0   \n",
       "Palos de la Frontera                 85.164367   306.591722              1.0   \n",
       "Palma del Condado (La)               46.292010   166.651236              0.0   \n",
       "Cartaya                             154.359408   537.768262             11.0   \n",
       "Rociana del Condado                 264.516942   768.358735              0.0   \n",
       "Niebla                               72.886297   194.363460              0.0   \n",
       "Lepe                                 28.694405    75.322812              5.0   \n",
       "Minas de Riotinto                   104.931794   262.329486              2.0   \n",
       "Huelva-Costa                         67.346347   166.466354             67.0   \n",
       "Huelva (capital)                     82.037306   198.140951             39.0   \n",
       "Almonte                             383.563880   893.622230              7.0   \n",
       "Aracena                              84.797093   193.821926              0.0   \n",
       "Moguer                              173.777839   393.286688              6.0   \n",
       "Huelva                              108.930764   244.948068            100.0   \n",
       "Condado-Campiña                     186.902727   411.570047             42.0   \n",
       "Aljaraque                            41.911148    88.479091              1.0   \n",
       "Granado (El)                        187.969925   375.939850              0.0   \n",
       "Bonares                             198.019802   363.036304             -1.0   \n",
       "Valverde del Camino                  86.274510   156.862745              1.0   \n",
       "Bollullos Par del Condado           243.275179   430.944603              8.0   \n",
       "Sierra de Huelva-Andévalo Central    96.452048   169.162054              6.0   \n",
       "Beas                                253.397835   437.687169              0.0   \n",
       "Isla Cristina                        51.418688    88.814098              4.0   \n",
       "Ayamonte                             28.430629    47.384382              4.0   \n",
       "San Juan del Puerto                 212.517267   340.027627              6.0   \n",
       "Trigueros                            89.035869   139.913508              2.0   \n",
       "Aroche                               65.487885    98.231827              0.0   \n",
       "Gibraleón                           133.469420   196.278559              7.0   \n",
       "Lucena del Puerto                   521.312481   735.970561              5.0   \n",
       "Punta Umbría                         65.125366    91.175513              2.0   \n",
       "Santa Ana la Real                   631.578947   842.105263              0.0   \n",
       "Cumbres Mayores                    1029.159520  1315.037164              0.0   \n",
       "Galaroza                            723.589001   795.947902              3.0   \n",
       "Encinasola                           76.335878    76.335878              0.0   \n",
       "Cortegana                            43.459365    43.459365              0.0   \n",
       "Cortelazor                          334.448161   334.448161              0.0   \n",
       "San Silvestre de Guzmán             162.866450   162.866450              0.0   \n",
       "Cumbres de San Bartolomé           1329.787234  1329.787234              0.0   \n",
       "\n",
       "Medida                                 7/14  \n",
       "Lugar de residencia                          \n",
       "San Bartolomé de la Torre          0.090909  \n",
       "Almonaster la Real                 0.125000  \n",
       "Villarrasa                         0.142857  \n",
       "Palos de la Frontera               0.277778  \n",
       "Palma del Condado (La)             0.277778  \n",
       "Cartaya                            0.287037  \n",
       "Rociana del Condado                0.344262  \n",
       "Niebla                             0.375000  \n",
       "Lepe                               0.380952  \n",
       "Minas de Riotinto                  0.400000  \n",
       "Huelva-Costa                       0.404564  \n",
       "Huelva (capital)                   0.414035  \n",
       "Almonte                            0.429224  \n",
       "Aracena                            0.437500  \n",
       "Moguer                             0.441860  \n",
       "Huelva                             0.444710  \n",
       "Condado-Campiña                    0.454121  \n",
       "Aljaraque                          0.473684  \n",
       "Granado (El)                       0.500000  \n",
       "Bonares                            0.545455  \n",
       "Valverde del Camino                0.550000  \n",
       "Bollullos Par del Condado          0.564516  \n",
       "Sierra de Huelva-Andévalo Central  0.570175  \n",
       "Beas                               0.578947  \n",
       "Isla Cristina                      0.578947  \n",
       "Ayamonte                           0.600000  \n",
       "San Juan del Puerto                0.625000  \n",
       "Trigueros                          0.636364  \n",
       "Aroche                             0.666667  \n",
       "Gibraleón                          0.680000  \n",
       "Lucena del Puerto                  0.708333  \n",
       "Punta Umbría                       0.714286  \n",
       "Santa Ana la Real                  0.750000  \n",
       "Cumbres Mayores                    0.782609  \n",
       "Galaroza                           0.909091  \n",
       "Encinasola                         1.000000  \n",
       "Cortegana                          1.000000  \n",
       "Cortelazor                         1.000000  \n",
       "San Silvestre de Guzmán            1.000000  \n",
       "Cumbres de San Bartolomé           1.000000  "
      ],
      "text/html": "<div>\n<style scoped>\n    .dataframe tbody tr th:only-of-type {\n        vertical-align: middle;\n    }\n\n    .dataframe tbody tr th {\n        vertical-align: top;\n    }\n\n    .dataframe thead th {\n        text-align: right;\n    }\n</style>\n<table border=\"1\" class=\"dataframe\">\n  <thead>\n    <tr style=\"text-align: right;\">\n      <th>Medida</th>\n      <th>Confirmados PDIA</th>\n      <th>Confirmados PDIA 7 días</th>\n      <th>Confirmados PDIA 14 días</th>\n      <th>Población</th>\n      <th>tasa7</th>\n      <th>tasa14</th>\n      <th>Diferencia PDIA</th>\n      <th>7/14</th>\n    </tr>\n    <tr>\n      <th>Lugar de residencia</th>\n      <th></th>\n      <th></th>\n      <th></th>\n      <th></th>\n      <th></th>\n      <th></th>\n      <th></th>\n      <th></th>\n    </tr>\n  </thead>\n  <tbody>\n    <tr>\n      <th>San Bartolomé de la Torre</th>\n      <td>283.0</td>\n      <td>1.0</td>\n      <td>11.0</td>\n      <td>3761.0</td>\n      <td>26.588673</td>\n      <td>292.475405</td>\n      <td>1.0</td>\n      <td>0.090909</td>\n    </tr>\n    <tr>\n      <th>Almonaster la Real</th>\n      <td>63.0</td>\n      <td>1.0</td>\n      <td>8.0</td>\n      <td>1788.0</td>\n      <td>55.928412</td>\n      <td>447.427293</td>\n      <td>0.0</td>\n      <td>0.125000</td>\n    </tr>\n    <tr>\n      <th>Villarrasa</th>\n      <td>147.0</td>\n      <td>1.0</td>\n      <td>7.0</td>\n      <td>2211.0</td>\n      <td>45.228403</td>\n      <td>316.598824</td>\n      <td>0.0</td>\n      <td>0.142857</td>\n    </tr>\n    <tr>\n      <th>Palos de la Frontera</th>\n      <td>570.0</td>\n      <td>10.0</td>\n      <td>36.0</td>\n      <td>11742.0</td>\n      <td>85.164367</td>\n      <td>306.591722</td>\n      <td>1.0</td>\n      <td>0.277778</td>\n    </tr>\n    <tr>\n      <th>Palma del Condado (La)</th>\n      <td>1028.0</td>\n      <td>5.0</td>\n      <td>18.0</td>\n      <td>10801.0</td>\n      <td>46.292010</td>\n      <td>166.651236</td>\n      <td>0.0</td>\n      <td>0.277778</td>\n    </tr>\n    <tr>\n      <th>Cartaya</th>\n      <td>1251.0</td>\n      <td>31.0</td>\n      <td>108.0</td>\n      <td>20083.0</td>\n      <td>154.359408</td>\n      <td>537.768262</td>\n      <td>11.0</td>\n      <td>0.287037</td>\n    </tr>\n    <tr>\n      <th>Rociana del Condado</th>\n      <td>495.0</td>\n      <td>21.0</td>\n      <td>61.0</td>\n      <td>7939.0</td>\n      <td>264.516942</td>\n      <td>768.358735</td>\n      <td>0.0</td>\n      <td>0.344262</td>\n    </tr>\n    <tr>\n      <th>Niebla</th>\n      <td>192.0</td>\n      <td>3.0</td>\n      <td>8.0</td>\n      <td>4116.0</td>\n      <td>72.886297</td>\n      <td>194.363460</td>\n      <td>0.0</td>\n      <td>0.375000</td>\n    </tr>\n    <tr>\n      <th>Lepe</th>\n      <td>2069.0</td>\n      <td>8.0</td>\n      <td>21.0</td>\n      <td>27880.0</td>\n      <td>28.694405</td>\n      <td>75.322812</td>\n      <td>5.0</td>\n      <td>0.380952</td>\n    </tr>\n    <tr>\n      <th>Minas de Riotinto</th>\n      <td>111.0</td>\n      <td>4.0</td>\n      <td>10.0</td>\n      <td>3812.0</td>\n      <td>104.931794</td>\n      <td>262.329486</td>\n      <td>2.0</td>\n      <td>0.400000</td>\n    </tr>\n    <tr>\n      <th>Huelva-Costa</th>\n      <td>16437.0</td>\n      <td>195.0</td>\n      <td>482.0</td>\n      <td>289548.0</td>\n      <td>67.346347</td>\n      <td>166.466354</td>\n      <td>67.0</td>\n      <td>0.404564</td>\n    </tr>\n    <tr>\n      <th>Huelva (capital)</th>\n      <td>7281.0</td>\n      <td>118.0</td>\n      <td>285.0</td>\n      <td>143837.0</td>\n      <td>82.037306</td>\n      <td>198.140951</td>\n      <td>39.0</td>\n      <td>0.414035</td>\n    </tr>\n    <tr>\n      <th>Almonte</th>\n      <td>1445.0</td>\n      <td>94.0</td>\n      <td>219.0</td>\n      <td>24507.0</td>\n      <td>383.563880</td>\n      <td>893.622230</td>\n      <td>7.0</td>\n      <td>0.429224</td>\n    </tr>\n    <tr>\n      <th>Aracena</th>\n      <td>506.0</td>\n      <td>7.0</td>\n      <td>16.0</td>\n      <td>8255.0</td>\n      <td>84.797093</td>\n      <td>193.821926</td>\n      <td>0.0</td>\n      <td>0.437500</td>\n    </tr>\n    <tr>\n      <th>Moguer</th>\n      <td>1062.0</td>\n      <td>38.0</td>\n      <td>86.0</td>\n      <td>21867.0</td>\n      <td>173.777839</td>\n      <td>393.286688</td>\n      <td>6.0</td>\n      <td>0.441860</td>\n    </tr>\n    <tr>\n      <th>Huelva</th>\n      <td>28080.0</td>\n      <td>559.0</td>\n      <td>1257.0</td>\n      <td>513170.0</td>\n      <td>108.930764</td>\n      <td>244.948068</td>\n      <td>100.0</td>\n      <td>0.444710</td>\n    </tr>\n    <tr>\n      <th>Condado-Campiña</th>\n      <td>8737.0</td>\n      <td>292.0</td>\n      <td>643.0</td>\n      <td>156231.0</td>\n      <td>186.902727</td>\n      <td>411.570047</td>\n      <td>42.0</td>\n      <td>0.454121</td>\n    </tr>\n    <tr>\n      <th>Aljaraque</th>\n      <td>991.0</td>\n      <td>9.0</td>\n      <td>19.0</td>\n      <td>21474.0</td>\n      <td>41.911148</td>\n      <td>88.479091</td>\n      <td>1.0</td>\n      <td>0.473684</td>\n    </tr>\n    <tr>\n      <th>Granado (El)</th>\n      <td>38.0</td>\n      <td>1.0</td>\n      <td>2.0</td>\n      <td>532.0</td>\n      <td>187.969925</td>\n      <td>375.939850</td>\n      <td>0.0</td>\n      <td>0.500000</td>\n    </tr>\n    <tr>\n      <th>Bonares</th>\n      <td>241.0</td>\n      <td>12.0</td>\n      <td>22.0</td>\n      <td>6060.0</td>\n      <td>198.019802</td>\n      <td>363.036304</td>\n      <td>-1.0</td>\n      <td>0.545455</td>\n    </tr>\n    <tr>\n      <th>Valverde del Camino</th>\n      <td>464.0</td>\n      <td>11.0</td>\n      <td>20.0</td>\n      <td>12750.0</td>\n      <td>86.274510</td>\n      <td>156.862745</td>\n      <td>1.0</td>\n      <td>0.550000</td>\n    </tr>\n    <tr>\n      <th>Bollullos Par del Condado</th>\n      <td>781.0</td>\n      <td>35.0</td>\n      <td>62.0</td>\n      <td>14387.0</td>\n      <td>243.275179</td>\n      <td>430.944603</td>\n      <td>8.0</td>\n      <td>0.564516</td>\n    </tr>\n    <tr>\n      <th>Sierra de Huelva-Andévalo Central</th>\n      <td>2509.0</td>\n      <td>65.0</td>\n      <td>114.0</td>\n      <td>67391.0</td>\n      <td>96.452048</td>\n      <td>169.162054</td>\n      <td>6.0</td>\n      <td>0.570175</td>\n    </tr>\n    <tr>\n      <th>Beas</th>\n      <td>185.0</td>\n      <td>11.0</td>\n      <td>19.0</td>\n      <td>4341.0</td>\n      <td>253.397835</td>\n      <td>437.687169</td>\n      <td>0.0</td>\n      <td>0.578947</td>\n    </tr>\n    <tr>\n      <th>Isla Cristina</th>\n      <td>2040.0</td>\n      <td>11.0</td>\n      <td>19.0</td>\n      <td>21393.0</td>\n      <td>51.418688</td>\n      <td>88.814098</td>\n      <td>4.0</td>\n      <td>0.578947</td>\n    </tr>\n    <tr>\n      <th>Ayamonte</th>\n      <td>1267.0</td>\n      <td>6.0</td>\n      <td>10.0</td>\n      <td>21104.0</td>\n      <td>28.430629</td>\n      <td>47.384382</td>\n      <td>4.0</td>\n      <td>0.600000</td>\n    </tr>\n    <tr>\n      <th>San Juan del Puerto</th>\n      <td>438.0</td>\n      <td>20.0</td>\n      <td>32.0</td>\n      <td>9411.0</td>\n      <td>212.517267</td>\n      <td>340.027627</td>\n      <td>6.0</td>\n      <td>0.625000</td>\n    </tr>\n    <tr>\n      <th>Trigueros</th>\n      <td>260.0</td>\n      <td>7.0</td>\n      <td>11.0</td>\n      <td>7862.0</td>\n      <td>89.035869</td>\n      <td>139.913508</td>\n      <td>2.0</td>\n      <td>0.636364</td>\n    </tr>\n    <tr>\n      <th>Aroche</th>\n      <td>89.0</td>\n      <td>2.0</td>\n      <td>3.0</td>\n      <td>3054.0</td>\n      <td>65.487885</td>\n      <td>98.231827</td>\n      <td>0.0</td>\n      <td>0.666667</td>\n    </tr>\n    <tr>\n      <th>Gibraleón</th>\n      <td>581.0</td>\n      <td>17.0</td>\n      <td>25.0</td>\n      <td>12737.0</td>\n      <td>133.469420</td>\n      <td>196.278559</td>\n      <td>7.0</td>\n      <td>0.680000</td>\n    </tr>\n    <tr>\n      <th>Lucena del Puerto</th>\n      <td>207.0</td>\n      <td>17.0</td>\n      <td>24.0</td>\n      <td>3261.0</td>\n      <td>521.312481</td>\n      <td>735.970561</td>\n      <td>5.0</td>\n      <td>0.708333</td>\n    </tr>\n    <tr>\n      <th>Punta Umbría</th>\n      <td>698.0</td>\n      <td>10.0</td>\n      <td>14.0</td>\n      <td>15355.0</td>\n      <td>65.125366</td>\n      <td>91.175513</td>\n      <td>2.0</td>\n      <td>0.714286</td>\n    </tr>\n    <tr>\n      <th>Santa Ana la Real</th>\n      <td>9.0</td>\n      <td>3.0</td>\n      <td>4.0</td>\n      <td>475.0</td>\n      <td>631.578947</td>\n      <td>842.105263</td>\n      <td>0.0</td>\n      <td>0.750000</td>\n    </tr>\n    <tr>\n      <th>Cumbres Mayores</th>\n      <td>48.0</td>\n      <td>18.0</td>\n      <td>23.0</td>\n      <td>1749.0</td>\n      <td>1029.159520</td>\n      <td>1315.037164</td>\n      <td>0.0</td>\n      <td>0.782609</td>\n    </tr>\n    <tr>\n      <th>Galaroza</th>\n      <td>27.0</td>\n      <td>10.0</td>\n      <td>11.0</td>\n      <td>1382.0</td>\n      <td>723.589001</td>\n      <td>795.947902</td>\n      <td>3.0</td>\n      <td>0.909091</td>\n    </tr>\n    <tr>\n      <th>Encinasola</th>\n      <td>117.0</td>\n      <td>1.0</td>\n      <td>1.0</td>\n      <td>1310.0</td>\n      <td>76.335878</td>\n      <td>76.335878</td>\n      <td>0.0</td>\n      <td>1.000000</td>\n    </tr>\n    <tr>\n      <th>Cortegana</th>\n      <td>194.0</td>\n      <td>2.0</td>\n      <td>2.0</td>\n      <td>4602.0</td>\n      <td>43.459365</td>\n      <td>43.459365</td>\n      <td>0.0</td>\n      <td>1.000000</td>\n    </tr>\n    <tr>\n      <th>Cortelazor</th>\n      <td>5.0</td>\n      <td>1.0</td>\n      <td>1.0</td>\n      <td>299.0</td>\n      <td>334.448161</td>\n      <td>334.448161</td>\n      <td>0.0</td>\n      <td>1.000000</td>\n    </tr>\n    <tr>\n      <th>San Silvestre de Guzmán</th>\n      <td>15.0</td>\n      <td>1.0</td>\n      <td>1.0</td>\n      <td>614.0</td>\n      <td>162.866450</td>\n      <td>162.866450</td>\n      <td>0.0</td>\n      <td>1.000000</td>\n    </tr>\n    <tr>\n      <th>Cumbres de San Bartolomé</th>\n      <td>10.0</td>\n      <td>5.0</td>\n      <td>5.0</td>\n      <td>376.0</td>\n      <td>1329.787234</td>\n      <td>1329.787234</td>\n      <td>0.0</td>\n      <td>1.000000</td>\n    </tr>\n  </tbody>\n</table>\n</div>"
     },
     "metadata": {},
     "execution_count": 18
    }
   ],
   "source": [
    "# Peso de la tasa de la última semana en relación con la tasa a 14 días \n",
    "# Mejor cuanto menor. Valor 1 significa que no había casos antes de 7 días.\n",
    "tabla['7/14'] = tabla['tasa7'] / tabla['tasa14']\n",
    "tabla.fillna(0).sort_values('7/14', ascending=True)"
   ]
  },
  {
   "cell_type": "code",
   "execution_count": null,
   "metadata": {},
   "outputs": [],
   "source": []
  }
 ]
}