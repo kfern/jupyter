{
 "metadata": {
  "language_info": {
   "codemirror_mode": {
    "name": "ipython",
    "version": 3
   },
   "file_extension": ".py",
   "mimetype": "text/x-python",
   "name": "python",
   "nbconvert_exporter": "python",
   "pygments_lexer": "ipython3",
   "version": "3.8.6-final"
  },
  "orig_nbformat": 2,
  "kernelspec": {
   "name": "python38564bit75945252d6ba481bad4868286020c89e",
   "display_name": "Python 3.8.5 64-bit",
   "language": "python"
  }
 },
 "nbformat": 4,
 "nbformat_minor": 2,
 "cells": [
  {
   "cell_type": "code",
   "execution_count": 1,
   "metadata": {},
   "outputs": [],
   "source": [
    "import pandas as pd\n",
    "pd.set_option('display.max_rows', None) # Print all rows"
   ]
  },
  {
   "cell_type": "code",
   "execution_count": 2,
   "metadata": {},
   "outputs": [],
   "source": [
    "# FIX SSL: CERTIFICATE_VERIFY_FAILED with Python3\n",
    "# https://stackoverflow.com/a/49174340\n",
    "import ssl\n",
    "\n",
    "ssl._create_default_https_context = ssl._create_unverified_context"
   ]
  },
  {
   "cell_type": "code",
   "execution_count": 3,
   "metadata": {},
   "outputs": [],
   "source": [
    "url = 'https://www.juntadeandalucia.es/institutodeestadisticaycartografia/badea/stpivot/stpivot/Print?cube=013d884c-cfc5-4c21-9e78-e26225682afd&type=3&foto=si&ejecutaDesde=&codConsulta=38668&consTipoVisua=JP'\n",
    "fields = ['Lugar de residencia', 'Medida', 'Valor']\n",
    "df = pd.read_csv(url, delimiter=';', usecols=fields, decimal=',')"
   ]
  },
  {
   "cell_type": "code",
   "execution_count": 4,
   "metadata": {},
   "outputs": [
    {
     "output_type": "execute_result",
     "data": {
      "text/plain": [
       "  Lugar de residencia                    Medida              Valor\n",
       "0              Huelva                 Población             513170\n",
       "1              Huelva          Confirmados PDIA              24487\n",
       "2              Huelva  Confirmados PDIA 14 días                452\n",
       "3              Huelva         Tasa PDIA 14 días  88,07997349806107\n",
       "4              Huelva   Confirmados PDIA 7 días                149\n",
       "5              Huelva        Total Confirmados               24715\n",
       "6              Huelva                   Curados              15950\n",
       "7              Huelva                Fallecidos                290"
      ],
      "text/html": "<div>\n<style scoped>\n    .dataframe tbody tr th:only-of-type {\n        vertical-align: middle;\n    }\n\n    .dataframe tbody tr th {\n        vertical-align: top;\n    }\n\n    .dataframe thead th {\n        text-align: right;\n    }\n</style>\n<table border=\"1\" class=\"dataframe\">\n  <thead>\n    <tr style=\"text-align: right;\">\n      <th></th>\n      <th>Lugar de residencia</th>\n      <th>Medida</th>\n      <th>Valor</th>\n    </tr>\n  </thead>\n  <tbody>\n    <tr>\n      <th>0</th>\n      <td>Huelva</td>\n      <td>Población</td>\n      <td>513170</td>\n    </tr>\n    <tr>\n      <th>1</th>\n      <td>Huelva</td>\n      <td>Confirmados PDIA</td>\n      <td>24487</td>\n    </tr>\n    <tr>\n      <th>2</th>\n      <td>Huelva</td>\n      <td>Confirmados PDIA 14 días</td>\n      <td>452</td>\n    </tr>\n    <tr>\n      <th>3</th>\n      <td>Huelva</td>\n      <td>Tasa PDIA 14 días</td>\n      <td>88,07997349806107</td>\n    </tr>\n    <tr>\n      <th>4</th>\n      <td>Huelva</td>\n      <td>Confirmados PDIA 7 días</td>\n      <td>149</td>\n    </tr>\n    <tr>\n      <th>5</th>\n      <td>Huelva</td>\n      <td>Total Confirmados</td>\n      <td>24715</td>\n    </tr>\n    <tr>\n      <th>6</th>\n      <td>Huelva</td>\n      <td>Curados</td>\n      <td>15950</td>\n    </tr>\n    <tr>\n      <th>7</th>\n      <td>Huelva</td>\n      <td>Fallecidos</td>\n      <td>290</td>\n    </tr>\n  </tbody>\n</table>\n</div>"
     },
     "metadata": {},
     "execution_count": 4
    }
   ],
   "source": [
    "df[df['Lugar de residencia'] == 'Huelva']"
   ]
  },
  {
   "cell_type": "code",
   "execution_count": 5,
   "metadata": {},
   "outputs": [],
   "source": [
    "df['Valor'] = pd.to_numeric(df['Valor'],errors='coerce')"
   ]
  },
  {
   "cell_type": "code",
   "execution_count": 6,
   "metadata": {},
   "outputs": [],
   "source": [
    "dfAnterior = pd.read_csv('covid_huelva.csv', index_col='Lugar de residencia')"
   ]
  },
  {
   "cell_type": "code",
   "execution_count": 7,
   "metadata": {
    "tags": []
   },
   "outputs": [
    {
     "output_type": "stream",
     "name": "stdout",
     "text": [
      "Confirmados PCR en la provincia de Huelva:  24487.0\n"
     ]
    }
   ],
   "source": [
    "# Confirmados PCR provincia Huelva\n",
    "p = df[df['Lugar de residencia'] == 'Huelva'][df['Medida'] == 'Confirmados PDIA']['Valor'].values[0]\n",
    "print('Confirmados PCR en la provincia de Huelva: ', p)"
   ]
  },
  {
   "cell_type": "code",
   "execution_count": 8,
   "metadata": {
    "tags": []
   },
   "outputs": [
    {
     "output_type": "stream",
     "name": "stdout",
     "text": [
      "Confirmados PCR en Huelva capital:  6535.0\n"
     ]
    }
   ],
   "source": [
    "# Confirmados PCR Huelva capitalpd\n",
    "c = df[df['Lugar de residencia'] == 'Huelva (capital)'][df['Medida'] == 'Confirmados PDIA']['Valor'].values[0]\n",
    "print('Confirmados PCR en Huelva capital: ', c)"
   ]
  },
  {
   "cell_type": "code",
   "execution_count": 9,
   "metadata": {
    "tags": []
   },
   "outputs": [],
   "source": [
    "c7 = df[df['Lugar de residencia'] == 'Huelva (capital)'][df['Medida'] == 'Confirmados PDIA 7 días']['Valor'].values[0]\n",
    "c14 = df[df['Lugar de residencia'] == 'Huelva (capital)'][df['Medida'] == 'Confirmados PDIA 14 días']['Valor'].values[0]\n",
    "p = df[df['Lugar de residencia'] == 'Huelva (capital)'][df['Medida'] == 'Población']['Valor'].values[0]"
   ]
  },
  {
   "cell_type": "code",
   "execution_count": 10,
   "metadata": {
    "tags": []
   },
   "outputs": [
    {
     "output_type": "stream",
     "name": "stdout",
     "text": [
      "Huelva (capital)\n\nUn positivo PCR cada 3887 personas en los últimos 7 días \n\nUn positivo PCR cada 1240 personas en los últimos 14 días\n"
     ]
    }
   ],
   "source": [
    "print('Huelva (capital)\\n')\n",
    "#print('Confirmados PCR 7 días x 1,000 habitantes: ', f\"{c7/(p/1000):.5f}\")\n",
    "print('Un positivo PCR cada', f\"{p/c7:.0f}\", 'personas en los últimos 7 días', '\\n')\n",
    "#print('Confirmados PCR 14 días x 1,000 habitantes: ', f\"{c14/(p/1000):.5f}\")\n",
    "print('Un positivo PCR cada', f\"{p/c14:.0f}\", 'personas en los últimos 14 días')"
   ]
  },
  {
   "cell_type": "code",
   "execution_count": 11,
   "metadata": {},
   "outputs": [],
   "source": [
    "filtro = ((df['Medida'] == 'Confirmados PDIA')| (df['Medida'] == 'Confirmados PDIA 7 días') | (df['Medida'] == 'Población' ) | (df['Medida'] == 'Confirmados PDIA 14 días')) & (df['Valor'] > 0)\n",
    "tabla = pd.pivot_table(df.loc[filtro], values='Valor', index='Lugar de residencia', columns='Medida').dropna()"
   ]
  },
  {
   "cell_type": "code",
   "execution_count": 12,
   "metadata": {},
   "outputs": [],
   "source": [
    "# Reorder columns\n",
    "tabla = tabla[['Confirmados PDIA', 'Confirmados PDIA 7 días', 'Confirmados PDIA 14 días', 'Población']]"
   ]
  },
  {
   "cell_type": "code",
   "execution_count": 13,
   "metadata": {},
   "outputs": [],
   "source": [
    "tabla['tasa7'] = tabla['Confirmados PDIA 7 días']/tabla['Población']*100000\n",
    "tabla['tasa14'] = tabla['Confirmados PDIA 14 días']/tabla['Población']*100000"
   ]
  },
  {
   "cell_type": "code",
   "execution_count": 14,
   "metadata": {},
   "outputs": [],
   "source": [
    "tabla['Diferencia PDIA'] = tabla['Confirmados PDIA'] - dfAnterior['Confirmados PDIA']"
   ]
  },
  {
   "cell_type": "code",
   "execution_count": 15,
   "metadata": {},
   "outputs": [
    {
     "output_type": "execute_result",
     "data": {
      "text/plain": [
       "Medida                     Confirmados PDIA  Confirmados PDIA 7 días  \\\n",
       "Lugar de residencia                                                    \n",
       "Huelva                              24487.0                    149.0   \n",
       "Condado-Campiña                      6825.0                     52.0   \n",
       "Huelva-Costa                        14940.0                     91.0   \n",
       "Almonte                               848.0                     13.0   \n",
       "Bollullos Par del Condado             606.0                      9.0   \n",
       "Huelva (capital)                     6535.0                     37.0   \n",
       "Isla Cristina                        1979.0                      5.0   \n",
       "Punta Umbría                          656.0                      3.0   \n",
       "San Juan del Puerto                   359.0                      2.0   \n",
       "\n",
       "Medida                     Confirmados PDIA 14 días  Población      tasa7  \\\n",
       "Lugar de residencia                                                         \n",
       "Huelva                                        452.0   513170.0  29.035213   \n",
       "Condado-Campiña                               167.0   156231.0  33.284047   \n",
       "Huelva-Costa                                  267.0   289548.0  31.428295   \n",
       "Almonte                                        41.0    24507.0  53.046068   \n",
       "Bollullos Par del Condado                      29.0    14387.0  62.556475   \n",
       "Huelva (capital)                              116.0   143837.0  25.723562   \n",
       "Isla Cristina                                  11.0    21393.0  23.372131   \n",
       "Punta Umbría                                   16.0    15355.0  19.537610   \n",
       "San Juan del Puerto                             5.0     9411.0  21.251727   \n",
       "\n",
       "Medida                         tasa14  Diferencia PDIA  \n",
       "Lugar de residencia                                     \n",
       "Huelva                      88.079973              5.0  \n",
       "Condado-Campiña            106.892998              3.0  \n",
       "Huelva-Costa                92.212690              3.0  \n",
       "Almonte                    167.299139              1.0  \n",
       "Bollullos Par del Condado  201.570863              1.0  \n",
       "Huelva (capital)            80.646843              1.0  \n",
       "Isla Cristina               51.418688              1.0  \n",
       "Punta Umbría               104.200586              1.0  \n",
       "San Juan del Puerto         53.129317              1.0  "
      ],
      "text/html": "<div>\n<style scoped>\n    .dataframe tbody tr th:only-of-type {\n        vertical-align: middle;\n    }\n\n    .dataframe tbody tr th {\n        vertical-align: top;\n    }\n\n    .dataframe thead th {\n        text-align: right;\n    }\n</style>\n<table border=\"1\" class=\"dataframe\">\n  <thead>\n    <tr style=\"text-align: right;\">\n      <th>Medida</th>\n      <th>Confirmados PDIA</th>\n      <th>Confirmados PDIA 7 días</th>\n      <th>Confirmados PDIA 14 días</th>\n      <th>Población</th>\n      <th>tasa7</th>\n      <th>tasa14</th>\n      <th>Diferencia PDIA</th>\n    </tr>\n    <tr>\n      <th>Lugar de residencia</th>\n      <th></th>\n      <th></th>\n      <th></th>\n      <th></th>\n      <th></th>\n      <th></th>\n      <th></th>\n    </tr>\n  </thead>\n  <tbody>\n    <tr>\n      <th>Huelva</th>\n      <td>24487.0</td>\n      <td>149.0</td>\n      <td>452.0</td>\n      <td>513170.0</td>\n      <td>29.035213</td>\n      <td>88.079973</td>\n      <td>5.0</td>\n    </tr>\n    <tr>\n      <th>Condado-Campiña</th>\n      <td>6825.0</td>\n      <td>52.0</td>\n      <td>167.0</td>\n      <td>156231.0</td>\n      <td>33.284047</td>\n      <td>106.892998</td>\n      <td>3.0</td>\n    </tr>\n    <tr>\n      <th>Huelva-Costa</th>\n      <td>14940.0</td>\n      <td>91.0</td>\n      <td>267.0</td>\n      <td>289548.0</td>\n      <td>31.428295</td>\n      <td>92.212690</td>\n      <td>3.0</td>\n    </tr>\n    <tr>\n      <th>Almonte</th>\n      <td>848.0</td>\n      <td>13.0</td>\n      <td>41.0</td>\n      <td>24507.0</td>\n      <td>53.046068</td>\n      <td>167.299139</td>\n      <td>1.0</td>\n    </tr>\n    <tr>\n      <th>Bollullos Par del Condado</th>\n      <td>606.0</td>\n      <td>9.0</td>\n      <td>29.0</td>\n      <td>14387.0</td>\n      <td>62.556475</td>\n      <td>201.570863</td>\n      <td>1.0</td>\n    </tr>\n    <tr>\n      <th>Huelva (capital)</th>\n      <td>6535.0</td>\n      <td>37.0</td>\n      <td>116.0</td>\n      <td>143837.0</td>\n      <td>25.723562</td>\n      <td>80.646843</td>\n      <td>1.0</td>\n    </tr>\n    <tr>\n      <th>Isla Cristina</th>\n      <td>1979.0</td>\n      <td>5.0</td>\n      <td>11.0</td>\n      <td>21393.0</td>\n      <td>23.372131</td>\n      <td>51.418688</td>\n      <td>1.0</td>\n    </tr>\n    <tr>\n      <th>Punta Umbría</th>\n      <td>656.0</td>\n      <td>3.0</td>\n      <td>16.0</td>\n      <td>15355.0</td>\n      <td>19.537610</td>\n      <td>104.200586</td>\n      <td>1.0</td>\n    </tr>\n    <tr>\n      <th>San Juan del Puerto</th>\n      <td>359.0</td>\n      <td>2.0</td>\n      <td>5.0</td>\n      <td>9411.0</td>\n      <td>21.251727</td>\n      <td>53.129317</td>\n      <td>1.0</td>\n    </tr>\n  </tbody>\n</table>\n</div>"
     },
     "metadata": {},
     "execution_count": 15
    }
   ],
   "source": [
    "# Nuevos casos desde la última captura\n",
    "tabla[tabla['Diferencia PDIA'] != 0].sort_values('Diferencia PDIA', ascending=False)"
   ]
  },
  {
   "cell_type": "code",
   "execution_count": 16,
   "metadata": {},
   "outputs": [],
   "source": [
    "if tabla[tabla['Diferencia PDIA'] != 0]['Diferencia PDIA'].sum() != 0:\n",
    "  # Save to csv\n",
    "  tabla.to_csv('covid_huelva.csv', encoding='utf-8', header=True, index=True)  "
   ]
  },
  {
   "cell_type": "code",
   "execution_count": 17,
   "metadata": {},
   "outputs": [
    {
     "output_type": "execute_result",
     "data": {
      "text/plain": [
       "Medida                             Confirmados PDIA  Confirmados PDIA 7 días  \\\n",
       "Lugar de residencia                                                            \n",
       "Villablanca                                   174.0                      2.0   \n",
       "Villanueva de los Castillejos                 150.0                      2.0   \n",
       "Bollullos Par del Condado                     606.0                      9.0   \n",
       "Cartaya                                       934.0                     16.0   \n",
       "Rosal de la Frontera                           25.0                      3.0   \n",
       "Almonte                                       848.0                     13.0   \n",
       "Villalba del Alcor                            443.0                      4.0   \n",
       "Lepe                                         1986.0                     15.0   \n",
       "Cabezas Rubias                                 29.0                      1.0   \n",
       "Rociana del Condado                           309.0                      2.0   \n",
       "Moguer                                        820.0                     10.0   \n",
       "Condado-Campiña                              6825.0                     52.0   \n",
       "Punta Umbría                                  656.0                      3.0   \n",
       "Palma del Condado (La)                        969.0                      7.0   \n",
       "Palos de la Frontera                          445.0                      2.0   \n",
       "Huelva-Costa                                14940.0                     91.0   \n",
       "Huelva                                      24487.0                    149.0   \n",
       "Huelva (capital)                             6535.0                     37.0   \n",
       "Ayamonte                                     1184.0                      1.0   \n",
       "Puebla de Guzmán                               82.0                      2.0   \n",
       "San Juan del Puerto                           359.0                      2.0   \n",
       "Isla Cristina                                1979.0                      5.0   \n",
       "Aljaraque                                     922.0                      6.0   \n",
       "Alosno                                        120.0                      1.0   \n",
       "Gibraleón                                     509.0                      1.0   \n",
       "Bonares                                       178.0                      1.0   \n",
       "Lucena del Puerto                             145.0                      1.0   \n",
       "Valverde del Camino                           414.0                      1.0   \n",
       "Sierra de Huelva-Andévalo Central            2298.0                      4.0   \n",
       "\n",
       "Medida                             Confirmados PDIA 14 días  Población  \\\n",
       "Lugar de residencia                                                      \n",
       "Villablanca                                            10.0     2885.0   \n",
       "Villanueva de los Castillejos                           6.0     2825.0   \n",
       "Bollullos Par del Condado                              29.0    14387.0   \n",
       "Cartaya                                                38.0    20083.0   \n",
       "Rosal de la Frontera                                    3.0     1697.0   \n",
       "Almonte                                                41.0    24507.0   \n",
       "Villalba del Alcor                                      5.0     3366.0   \n",
       "Lepe                                                   40.0    27880.0   \n",
       "Cabezas Rubias                                          1.0      706.0   \n",
       "Rociana del Condado                                    11.0     7939.0   \n",
       "Moguer                                                 28.0    21867.0   \n",
       "Condado-Campiña                                       167.0   156231.0   \n",
       "Punta Umbría                                           16.0    15355.0   \n",
       "Palma del Condado (La)                                 11.0    10801.0   \n",
       "Palos de la Frontera                                   11.0    11742.0   \n",
       "Huelva-Costa                                          267.0   289548.0   \n",
       "Huelva                                                452.0   513170.0   \n",
       "Huelva (capital)                                      116.0   143837.0   \n",
       "Ayamonte                                               14.0    21104.0   \n",
       "Puebla de Guzmán                                        2.0     3092.0   \n",
       "San Juan del Puerto                                     5.0     9411.0   \n",
       "Isla Cristina                                          11.0    21393.0   \n",
       "Aljaraque                                              11.0    21474.0   \n",
       "Alosno                                                  2.0     3933.0   \n",
       "Gibraleón                                               5.0    12737.0   \n",
       "Bonares                                                 2.0     6060.0   \n",
       "Lucena del Puerto                                       1.0     3261.0   \n",
       "Valverde del Camino                                     2.0    12750.0   \n",
       "Sierra de Huelva-Andévalo Central                      10.0    67391.0   \n",
       "\n",
       "Medida                                  tasa7      tasa14  Diferencia PDIA  \n",
       "Lugar de residencia                                                         \n",
       "Villablanca                         69.324090  346.620451              0.0  \n",
       "Villanueva de los Castillejos       70.796460  212.389381              0.0  \n",
       "Bollullos Par del Condado           62.556475  201.570863              1.0  \n",
       "Cartaya                             79.669372  189.214759              0.0  \n",
       "Rosal de la Frontera               176.782557  176.782557              0.0  \n",
       "Almonte                             53.046068  167.299139              1.0  \n",
       "Villalba del Alcor                 118.835413  148.544266              0.0  \n",
       "Lepe                                53.802009  143.472023              0.0  \n",
       "Cabezas Rubias                     141.643059  141.643059              0.0  \n",
       "Rociana del Condado                 25.192090  138.556493              0.0  \n",
       "Moguer                              45.731010  128.046829              0.0  \n",
       "Condado-Campiña                     33.284047  106.892998              3.0  \n",
       "Punta Umbría                        19.537610  104.200586              1.0  \n",
       "Palma del Condado (La)              64.808814  101.842422              0.0  \n",
       "Palos de la Frontera                17.032873   93.680804              0.0  \n",
       "Huelva-Costa                        31.428295   92.212690              3.0  \n",
       "Huelva                              29.035213   88.079973              5.0  \n",
       "Huelva (capital)                    25.723562   80.646843              1.0  \n",
       "Ayamonte                             4.738438   66.338135              0.0  \n",
       "Puebla de Guzmán                    64.683053   64.683053              0.0  \n",
       "San Juan del Puerto                 21.251727   53.129317              1.0  \n",
       "Isla Cristina                       23.372131   51.418688              1.0  \n",
       "Aljaraque                           27.940766   51.224737              0.0  \n",
       "Alosno                              25.425884   50.851767              0.0  \n",
       "Gibraleón                            7.851142   39.255712              0.0  \n",
       "Bonares                             16.501650   33.003300              0.0  \n",
       "Lucena del Puerto                   30.665440   30.665440              0.0  \n",
       "Valverde del Camino                  7.843137   15.686275              0.0  \n",
       "Sierra de Huelva-Andévalo Central    5.935511   14.838777              0.0  "
      ],
      "text/html": "<div>\n<style scoped>\n    .dataframe tbody tr th:only-of-type {\n        vertical-align: middle;\n    }\n\n    .dataframe tbody tr th {\n        vertical-align: top;\n    }\n\n    .dataframe thead th {\n        text-align: right;\n    }\n</style>\n<table border=\"1\" class=\"dataframe\">\n  <thead>\n    <tr style=\"text-align: right;\">\n      <th>Medida</th>\n      <th>Confirmados PDIA</th>\n      <th>Confirmados PDIA 7 días</th>\n      <th>Confirmados PDIA 14 días</th>\n      <th>Población</th>\n      <th>tasa7</th>\n      <th>tasa14</th>\n      <th>Diferencia PDIA</th>\n    </tr>\n    <tr>\n      <th>Lugar de residencia</th>\n      <th></th>\n      <th></th>\n      <th></th>\n      <th></th>\n      <th></th>\n      <th></th>\n      <th></th>\n    </tr>\n  </thead>\n  <tbody>\n    <tr>\n      <th>Villablanca</th>\n      <td>174.0</td>\n      <td>2.0</td>\n      <td>10.0</td>\n      <td>2885.0</td>\n      <td>69.324090</td>\n      <td>346.620451</td>\n      <td>0.0</td>\n    </tr>\n    <tr>\n      <th>Villanueva de los Castillejos</th>\n      <td>150.0</td>\n      <td>2.0</td>\n      <td>6.0</td>\n      <td>2825.0</td>\n      <td>70.796460</td>\n      <td>212.389381</td>\n      <td>0.0</td>\n    </tr>\n    <tr>\n      <th>Bollullos Par del Condado</th>\n      <td>606.0</td>\n      <td>9.0</td>\n      <td>29.0</td>\n      <td>14387.0</td>\n      <td>62.556475</td>\n      <td>201.570863</td>\n      <td>1.0</td>\n    </tr>\n    <tr>\n      <th>Cartaya</th>\n      <td>934.0</td>\n      <td>16.0</td>\n      <td>38.0</td>\n      <td>20083.0</td>\n      <td>79.669372</td>\n      <td>189.214759</td>\n      <td>0.0</td>\n    </tr>\n    <tr>\n      <th>Rosal de la Frontera</th>\n      <td>25.0</td>\n      <td>3.0</td>\n      <td>3.0</td>\n      <td>1697.0</td>\n      <td>176.782557</td>\n      <td>176.782557</td>\n      <td>0.0</td>\n    </tr>\n    <tr>\n      <th>Almonte</th>\n      <td>848.0</td>\n      <td>13.0</td>\n      <td>41.0</td>\n      <td>24507.0</td>\n      <td>53.046068</td>\n      <td>167.299139</td>\n      <td>1.0</td>\n    </tr>\n    <tr>\n      <th>Villalba del Alcor</th>\n      <td>443.0</td>\n      <td>4.0</td>\n      <td>5.0</td>\n      <td>3366.0</td>\n      <td>118.835413</td>\n      <td>148.544266</td>\n      <td>0.0</td>\n    </tr>\n    <tr>\n      <th>Lepe</th>\n      <td>1986.0</td>\n      <td>15.0</td>\n      <td>40.0</td>\n      <td>27880.0</td>\n      <td>53.802009</td>\n      <td>143.472023</td>\n      <td>0.0</td>\n    </tr>\n    <tr>\n      <th>Cabezas Rubias</th>\n      <td>29.0</td>\n      <td>1.0</td>\n      <td>1.0</td>\n      <td>706.0</td>\n      <td>141.643059</td>\n      <td>141.643059</td>\n      <td>0.0</td>\n    </tr>\n    <tr>\n      <th>Rociana del Condado</th>\n      <td>309.0</td>\n      <td>2.0</td>\n      <td>11.0</td>\n      <td>7939.0</td>\n      <td>25.192090</td>\n      <td>138.556493</td>\n      <td>0.0</td>\n    </tr>\n    <tr>\n      <th>Moguer</th>\n      <td>820.0</td>\n      <td>10.0</td>\n      <td>28.0</td>\n      <td>21867.0</td>\n      <td>45.731010</td>\n      <td>128.046829</td>\n      <td>0.0</td>\n    </tr>\n    <tr>\n      <th>Condado-Campiña</th>\n      <td>6825.0</td>\n      <td>52.0</td>\n      <td>167.0</td>\n      <td>156231.0</td>\n      <td>33.284047</td>\n      <td>106.892998</td>\n      <td>3.0</td>\n    </tr>\n    <tr>\n      <th>Punta Umbría</th>\n      <td>656.0</td>\n      <td>3.0</td>\n      <td>16.0</td>\n      <td>15355.0</td>\n      <td>19.537610</td>\n      <td>104.200586</td>\n      <td>1.0</td>\n    </tr>\n    <tr>\n      <th>Palma del Condado (La)</th>\n      <td>969.0</td>\n      <td>7.0</td>\n      <td>11.0</td>\n      <td>10801.0</td>\n      <td>64.808814</td>\n      <td>101.842422</td>\n      <td>0.0</td>\n    </tr>\n    <tr>\n      <th>Palos de la Frontera</th>\n      <td>445.0</td>\n      <td>2.0</td>\n      <td>11.0</td>\n      <td>11742.0</td>\n      <td>17.032873</td>\n      <td>93.680804</td>\n      <td>0.0</td>\n    </tr>\n    <tr>\n      <th>Huelva-Costa</th>\n      <td>14940.0</td>\n      <td>91.0</td>\n      <td>267.0</td>\n      <td>289548.0</td>\n      <td>31.428295</td>\n      <td>92.212690</td>\n      <td>3.0</td>\n    </tr>\n    <tr>\n      <th>Huelva</th>\n      <td>24487.0</td>\n      <td>149.0</td>\n      <td>452.0</td>\n      <td>513170.0</td>\n      <td>29.035213</td>\n      <td>88.079973</td>\n      <td>5.0</td>\n    </tr>\n    <tr>\n      <th>Huelva (capital)</th>\n      <td>6535.0</td>\n      <td>37.0</td>\n      <td>116.0</td>\n      <td>143837.0</td>\n      <td>25.723562</td>\n      <td>80.646843</td>\n      <td>1.0</td>\n    </tr>\n    <tr>\n      <th>Ayamonte</th>\n      <td>1184.0</td>\n      <td>1.0</td>\n      <td>14.0</td>\n      <td>21104.0</td>\n      <td>4.738438</td>\n      <td>66.338135</td>\n      <td>0.0</td>\n    </tr>\n    <tr>\n      <th>Puebla de Guzmán</th>\n      <td>82.0</td>\n      <td>2.0</td>\n      <td>2.0</td>\n      <td>3092.0</td>\n      <td>64.683053</td>\n      <td>64.683053</td>\n      <td>0.0</td>\n    </tr>\n    <tr>\n      <th>San Juan del Puerto</th>\n      <td>359.0</td>\n      <td>2.0</td>\n      <td>5.0</td>\n      <td>9411.0</td>\n      <td>21.251727</td>\n      <td>53.129317</td>\n      <td>1.0</td>\n    </tr>\n    <tr>\n      <th>Isla Cristina</th>\n      <td>1979.0</td>\n      <td>5.0</td>\n      <td>11.0</td>\n      <td>21393.0</td>\n      <td>23.372131</td>\n      <td>51.418688</td>\n      <td>1.0</td>\n    </tr>\n    <tr>\n      <th>Aljaraque</th>\n      <td>922.0</td>\n      <td>6.0</td>\n      <td>11.0</td>\n      <td>21474.0</td>\n      <td>27.940766</td>\n      <td>51.224737</td>\n      <td>0.0</td>\n    </tr>\n    <tr>\n      <th>Alosno</th>\n      <td>120.0</td>\n      <td>1.0</td>\n      <td>2.0</td>\n      <td>3933.0</td>\n      <td>25.425884</td>\n      <td>50.851767</td>\n      <td>0.0</td>\n    </tr>\n    <tr>\n      <th>Gibraleón</th>\n      <td>509.0</td>\n      <td>1.0</td>\n      <td>5.0</td>\n      <td>12737.0</td>\n      <td>7.851142</td>\n      <td>39.255712</td>\n      <td>0.0</td>\n    </tr>\n    <tr>\n      <th>Bonares</th>\n      <td>178.0</td>\n      <td>1.0</td>\n      <td>2.0</td>\n      <td>6060.0</td>\n      <td>16.501650</td>\n      <td>33.003300</td>\n      <td>0.0</td>\n    </tr>\n    <tr>\n      <th>Lucena del Puerto</th>\n      <td>145.0</td>\n      <td>1.0</td>\n      <td>1.0</td>\n      <td>3261.0</td>\n      <td>30.665440</td>\n      <td>30.665440</td>\n      <td>0.0</td>\n    </tr>\n    <tr>\n      <th>Valverde del Camino</th>\n      <td>414.0</td>\n      <td>1.0</td>\n      <td>2.0</td>\n      <td>12750.0</td>\n      <td>7.843137</td>\n      <td>15.686275</td>\n      <td>0.0</td>\n    </tr>\n    <tr>\n      <th>Sierra de Huelva-Andévalo Central</th>\n      <td>2298.0</td>\n      <td>4.0</td>\n      <td>10.0</td>\n      <td>67391.0</td>\n      <td>5.935511</td>\n      <td>14.838777</td>\n      <td>0.0</td>\n    </tr>\n  </tbody>\n</table>\n</div>"
     },
     "metadata": {},
     "execution_count": 17
    }
   ],
   "source": [
    "tabla.sort_values('tasa14', ascending=False)"
   ]
  },
  {
   "cell_type": "code",
   "execution_count": 18,
   "metadata": {},
   "outputs": [
    {
     "output_type": "execute_result",
     "data": {
      "text/plain": [
       "Medida                             Confirmados PDIA  Confirmados PDIA 7 días  \\\n",
       "Lugar de residencia                                                            \n",
       "Ayamonte                                     1184.0                      1.0   \n",
       "Palos de la Frontera                          445.0                      2.0   \n",
       "Rociana del Condado                           309.0                      2.0   \n",
       "Punta Umbría                                  656.0                      3.0   \n",
       "Villablanca                                   174.0                      2.0   \n",
       "Gibraleón                                     509.0                      1.0   \n",
       "Bollullos Par del Condado                     606.0                      9.0   \n",
       "Condado-Campiña                              6825.0                     52.0   \n",
       "Almonte                                       848.0                     13.0   \n",
       "Huelva (capital)                             6535.0                     37.0   \n",
       "Huelva                                      24487.0                    149.0   \n",
       "Villanueva de los Castillejos                 150.0                      2.0   \n",
       "Huelva-Costa                                14940.0                     91.0   \n",
       "Moguer                                        820.0                     10.0   \n",
       "Lepe                                         1986.0                     15.0   \n",
       "Sierra de Huelva-Andévalo Central            2298.0                      4.0   \n",
       "San Juan del Puerto                           359.0                      2.0   \n",
       "Cartaya                                       934.0                     16.0   \n",
       "Isla Cristina                                1979.0                      5.0   \n",
       "Bonares                                       178.0                      1.0   \n",
       "Valverde del Camino                           414.0                      1.0   \n",
       "Alosno                                        120.0                      1.0   \n",
       "Aljaraque                                     922.0                      6.0   \n",
       "Palma del Condado (La)                        969.0                      7.0   \n",
       "Villalba del Alcor                            443.0                      4.0   \n",
       "Lucena del Puerto                             145.0                      1.0   \n",
       "Puebla de Guzmán                               82.0                      2.0   \n",
       "Cabezas Rubias                                 29.0                      1.0   \n",
       "Rosal de la Frontera                           25.0                      3.0   \n",
       "\n",
       "Medida                             Confirmados PDIA 14 días  Población  \\\n",
       "Lugar de residencia                                                      \n",
       "Ayamonte                                               14.0    21104.0   \n",
       "Palos de la Frontera                                   11.0    11742.0   \n",
       "Rociana del Condado                                    11.0     7939.0   \n",
       "Punta Umbría                                           16.0    15355.0   \n",
       "Villablanca                                            10.0     2885.0   \n",
       "Gibraleón                                               5.0    12737.0   \n",
       "Bollullos Par del Condado                              29.0    14387.0   \n",
       "Condado-Campiña                                       167.0   156231.0   \n",
       "Almonte                                                41.0    24507.0   \n",
       "Huelva (capital)                                      116.0   143837.0   \n",
       "Huelva                                                452.0   513170.0   \n",
       "Villanueva de los Castillejos                           6.0     2825.0   \n",
       "Huelva-Costa                                          267.0   289548.0   \n",
       "Moguer                                                 28.0    21867.0   \n",
       "Lepe                                                   40.0    27880.0   \n",
       "Sierra de Huelva-Andévalo Central                      10.0    67391.0   \n",
       "San Juan del Puerto                                     5.0     9411.0   \n",
       "Cartaya                                                38.0    20083.0   \n",
       "Isla Cristina                                          11.0    21393.0   \n",
       "Bonares                                                 2.0     6060.0   \n",
       "Valverde del Camino                                     2.0    12750.0   \n",
       "Alosno                                                  2.0     3933.0   \n",
       "Aljaraque                                              11.0    21474.0   \n",
       "Palma del Condado (La)                                 11.0    10801.0   \n",
       "Villalba del Alcor                                      5.0     3366.0   \n",
       "Lucena del Puerto                                       1.0     3261.0   \n",
       "Puebla de Guzmán                                        2.0     3092.0   \n",
       "Cabezas Rubias                                          1.0      706.0   \n",
       "Rosal de la Frontera                                    3.0     1697.0   \n",
       "\n",
       "Medida                                  tasa7      tasa14  Diferencia PDIA  \\\n",
       "Lugar de residencia                                                          \n",
       "Ayamonte                             4.738438   66.338135              0.0   \n",
       "Palos de la Frontera                17.032873   93.680804              0.0   \n",
       "Rociana del Condado                 25.192090  138.556493              0.0   \n",
       "Punta Umbría                        19.537610  104.200586              1.0   \n",
       "Villablanca                         69.324090  346.620451              0.0   \n",
       "Gibraleón                            7.851142   39.255712              0.0   \n",
       "Bollullos Par del Condado           62.556475  201.570863              1.0   \n",
       "Condado-Campiña                     33.284047  106.892998              3.0   \n",
       "Almonte                             53.046068  167.299139              1.0   \n",
       "Huelva (capital)                    25.723562   80.646843              1.0   \n",
       "Huelva                              29.035213   88.079973              5.0   \n",
       "Villanueva de los Castillejos       70.796460  212.389381              0.0   \n",
       "Huelva-Costa                        31.428295   92.212690              3.0   \n",
       "Moguer                              45.731010  128.046829              0.0   \n",
       "Lepe                                53.802009  143.472023              0.0   \n",
       "Sierra de Huelva-Andévalo Central    5.935511   14.838777              0.0   \n",
       "San Juan del Puerto                 21.251727   53.129317              1.0   \n",
       "Cartaya                             79.669372  189.214759              0.0   \n",
       "Isla Cristina                       23.372131   51.418688              1.0   \n",
       "Bonares                             16.501650   33.003300              0.0   \n",
       "Valverde del Camino                  7.843137   15.686275              0.0   \n",
       "Alosno                              25.425884   50.851767              0.0   \n",
       "Aljaraque                           27.940766   51.224737              0.0   \n",
       "Palma del Condado (La)              64.808814  101.842422              0.0   \n",
       "Villalba del Alcor                 118.835413  148.544266              0.0   \n",
       "Lucena del Puerto                   30.665440   30.665440              0.0   \n",
       "Puebla de Guzmán                    64.683053   64.683053              0.0   \n",
       "Cabezas Rubias                     141.643059  141.643059              0.0   \n",
       "Rosal de la Frontera               176.782557  176.782557              0.0   \n",
       "\n",
       "Medida                                 7/14  \n",
       "Lugar de residencia                          \n",
       "Ayamonte                           0.071429  \n",
       "Palos de la Frontera               0.181818  \n",
       "Rociana del Condado                0.181818  \n",
       "Punta Umbría                       0.187500  \n",
       "Villablanca                        0.200000  \n",
       "Gibraleón                          0.200000  \n",
       "Bollullos Par del Condado          0.310345  \n",
       "Condado-Campiña                    0.311377  \n",
       "Almonte                            0.317073  \n",
       "Huelva (capital)                   0.318966  \n",
       "Huelva                             0.329646  \n",
       "Villanueva de los Castillejos      0.333333  \n",
       "Huelva-Costa                       0.340824  \n",
       "Moguer                             0.357143  \n",
       "Lepe                               0.375000  \n",
       "Sierra de Huelva-Andévalo Central  0.400000  \n",
       "San Juan del Puerto                0.400000  \n",
       "Cartaya                            0.421053  \n",
       "Isla Cristina                      0.454545  \n",
       "Bonares                            0.500000  \n",
       "Valverde del Camino                0.500000  \n",
       "Alosno                             0.500000  \n",
       "Aljaraque                          0.545455  \n",
       "Palma del Condado (La)             0.636364  \n",
       "Villalba del Alcor                 0.800000  \n",
       "Lucena del Puerto                  1.000000  \n",
       "Puebla de Guzmán                   1.000000  \n",
       "Cabezas Rubias                     1.000000  \n",
       "Rosal de la Frontera               1.000000  "
      ],
      "text/html": "<div>\n<style scoped>\n    .dataframe tbody tr th:only-of-type {\n        vertical-align: middle;\n    }\n\n    .dataframe tbody tr th {\n        vertical-align: top;\n    }\n\n    .dataframe thead th {\n        text-align: right;\n    }\n</style>\n<table border=\"1\" class=\"dataframe\">\n  <thead>\n    <tr style=\"text-align: right;\">\n      <th>Medida</th>\n      <th>Confirmados PDIA</th>\n      <th>Confirmados PDIA 7 días</th>\n      <th>Confirmados PDIA 14 días</th>\n      <th>Población</th>\n      <th>tasa7</th>\n      <th>tasa14</th>\n      <th>Diferencia PDIA</th>\n      <th>7/14</th>\n    </tr>\n    <tr>\n      <th>Lugar de residencia</th>\n      <th></th>\n      <th></th>\n      <th></th>\n      <th></th>\n      <th></th>\n      <th></th>\n      <th></th>\n      <th></th>\n    </tr>\n  </thead>\n  <tbody>\n    <tr>\n      <th>Ayamonte</th>\n      <td>1184.0</td>\n      <td>1.0</td>\n      <td>14.0</td>\n      <td>21104.0</td>\n      <td>4.738438</td>\n      <td>66.338135</td>\n      <td>0.0</td>\n      <td>0.071429</td>\n    </tr>\n    <tr>\n      <th>Palos de la Frontera</th>\n      <td>445.0</td>\n      <td>2.0</td>\n      <td>11.0</td>\n      <td>11742.0</td>\n      <td>17.032873</td>\n      <td>93.680804</td>\n      <td>0.0</td>\n      <td>0.181818</td>\n    </tr>\n    <tr>\n      <th>Rociana del Condado</th>\n      <td>309.0</td>\n      <td>2.0</td>\n      <td>11.0</td>\n      <td>7939.0</td>\n      <td>25.192090</td>\n      <td>138.556493</td>\n      <td>0.0</td>\n      <td>0.181818</td>\n    </tr>\n    <tr>\n      <th>Punta Umbría</th>\n      <td>656.0</td>\n      <td>3.0</td>\n      <td>16.0</td>\n      <td>15355.0</td>\n      <td>19.537610</td>\n      <td>104.200586</td>\n      <td>1.0</td>\n      <td>0.187500</td>\n    </tr>\n    <tr>\n      <th>Villablanca</th>\n      <td>174.0</td>\n      <td>2.0</td>\n      <td>10.0</td>\n      <td>2885.0</td>\n      <td>69.324090</td>\n      <td>346.620451</td>\n      <td>0.0</td>\n      <td>0.200000</td>\n    </tr>\n    <tr>\n      <th>Gibraleón</th>\n      <td>509.0</td>\n      <td>1.0</td>\n      <td>5.0</td>\n      <td>12737.0</td>\n      <td>7.851142</td>\n      <td>39.255712</td>\n      <td>0.0</td>\n      <td>0.200000</td>\n    </tr>\n    <tr>\n      <th>Bollullos Par del Condado</th>\n      <td>606.0</td>\n      <td>9.0</td>\n      <td>29.0</td>\n      <td>14387.0</td>\n      <td>62.556475</td>\n      <td>201.570863</td>\n      <td>1.0</td>\n      <td>0.310345</td>\n    </tr>\n    <tr>\n      <th>Condado-Campiña</th>\n      <td>6825.0</td>\n      <td>52.0</td>\n      <td>167.0</td>\n      <td>156231.0</td>\n      <td>33.284047</td>\n      <td>106.892998</td>\n      <td>3.0</td>\n      <td>0.311377</td>\n    </tr>\n    <tr>\n      <th>Almonte</th>\n      <td>848.0</td>\n      <td>13.0</td>\n      <td>41.0</td>\n      <td>24507.0</td>\n      <td>53.046068</td>\n      <td>167.299139</td>\n      <td>1.0</td>\n      <td>0.317073</td>\n    </tr>\n    <tr>\n      <th>Huelva (capital)</th>\n      <td>6535.0</td>\n      <td>37.0</td>\n      <td>116.0</td>\n      <td>143837.0</td>\n      <td>25.723562</td>\n      <td>80.646843</td>\n      <td>1.0</td>\n      <td>0.318966</td>\n    </tr>\n    <tr>\n      <th>Huelva</th>\n      <td>24487.0</td>\n      <td>149.0</td>\n      <td>452.0</td>\n      <td>513170.0</td>\n      <td>29.035213</td>\n      <td>88.079973</td>\n      <td>5.0</td>\n      <td>0.329646</td>\n    </tr>\n    <tr>\n      <th>Villanueva de los Castillejos</th>\n      <td>150.0</td>\n      <td>2.0</td>\n      <td>6.0</td>\n      <td>2825.0</td>\n      <td>70.796460</td>\n      <td>212.389381</td>\n      <td>0.0</td>\n      <td>0.333333</td>\n    </tr>\n    <tr>\n      <th>Huelva-Costa</th>\n      <td>14940.0</td>\n      <td>91.0</td>\n      <td>267.0</td>\n      <td>289548.0</td>\n      <td>31.428295</td>\n      <td>92.212690</td>\n      <td>3.0</td>\n      <td>0.340824</td>\n    </tr>\n    <tr>\n      <th>Moguer</th>\n      <td>820.0</td>\n      <td>10.0</td>\n      <td>28.0</td>\n      <td>21867.0</td>\n      <td>45.731010</td>\n      <td>128.046829</td>\n      <td>0.0</td>\n      <td>0.357143</td>\n    </tr>\n    <tr>\n      <th>Lepe</th>\n      <td>1986.0</td>\n      <td>15.0</td>\n      <td>40.0</td>\n      <td>27880.0</td>\n      <td>53.802009</td>\n      <td>143.472023</td>\n      <td>0.0</td>\n      <td>0.375000</td>\n    </tr>\n    <tr>\n      <th>Sierra de Huelva-Andévalo Central</th>\n      <td>2298.0</td>\n      <td>4.0</td>\n      <td>10.0</td>\n      <td>67391.0</td>\n      <td>5.935511</td>\n      <td>14.838777</td>\n      <td>0.0</td>\n      <td>0.400000</td>\n    </tr>\n    <tr>\n      <th>San Juan del Puerto</th>\n      <td>359.0</td>\n      <td>2.0</td>\n      <td>5.0</td>\n      <td>9411.0</td>\n      <td>21.251727</td>\n      <td>53.129317</td>\n      <td>1.0</td>\n      <td>0.400000</td>\n    </tr>\n    <tr>\n      <th>Cartaya</th>\n      <td>934.0</td>\n      <td>16.0</td>\n      <td>38.0</td>\n      <td>20083.0</td>\n      <td>79.669372</td>\n      <td>189.214759</td>\n      <td>0.0</td>\n      <td>0.421053</td>\n    </tr>\n    <tr>\n      <th>Isla Cristina</th>\n      <td>1979.0</td>\n      <td>5.0</td>\n      <td>11.0</td>\n      <td>21393.0</td>\n      <td>23.372131</td>\n      <td>51.418688</td>\n      <td>1.0</td>\n      <td>0.454545</td>\n    </tr>\n    <tr>\n      <th>Bonares</th>\n      <td>178.0</td>\n      <td>1.0</td>\n      <td>2.0</td>\n      <td>6060.0</td>\n      <td>16.501650</td>\n      <td>33.003300</td>\n      <td>0.0</td>\n      <td>0.500000</td>\n    </tr>\n    <tr>\n      <th>Valverde del Camino</th>\n      <td>414.0</td>\n      <td>1.0</td>\n      <td>2.0</td>\n      <td>12750.0</td>\n      <td>7.843137</td>\n      <td>15.686275</td>\n      <td>0.0</td>\n      <td>0.500000</td>\n    </tr>\n    <tr>\n      <th>Alosno</th>\n      <td>120.0</td>\n      <td>1.0</td>\n      <td>2.0</td>\n      <td>3933.0</td>\n      <td>25.425884</td>\n      <td>50.851767</td>\n      <td>0.0</td>\n      <td>0.500000</td>\n    </tr>\n    <tr>\n      <th>Aljaraque</th>\n      <td>922.0</td>\n      <td>6.0</td>\n      <td>11.0</td>\n      <td>21474.0</td>\n      <td>27.940766</td>\n      <td>51.224737</td>\n      <td>0.0</td>\n      <td>0.545455</td>\n    </tr>\n    <tr>\n      <th>Palma del Condado (La)</th>\n      <td>969.0</td>\n      <td>7.0</td>\n      <td>11.0</td>\n      <td>10801.0</td>\n      <td>64.808814</td>\n      <td>101.842422</td>\n      <td>0.0</td>\n      <td>0.636364</td>\n    </tr>\n    <tr>\n      <th>Villalba del Alcor</th>\n      <td>443.0</td>\n      <td>4.0</td>\n      <td>5.0</td>\n      <td>3366.0</td>\n      <td>118.835413</td>\n      <td>148.544266</td>\n      <td>0.0</td>\n      <td>0.800000</td>\n    </tr>\n    <tr>\n      <th>Lucena del Puerto</th>\n      <td>145.0</td>\n      <td>1.0</td>\n      <td>1.0</td>\n      <td>3261.0</td>\n      <td>30.665440</td>\n      <td>30.665440</td>\n      <td>0.0</td>\n      <td>1.000000</td>\n    </tr>\n    <tr>\n      <th>Puebla de Guzmán</th>\n      <td>82.0</td>\n      <td>2.0</td>\n      <td>2.0</td>\n      <td>3092.0</td>\n      <td>64.683053</td>\n      <td>64.683053</td>\n      <td>0.0</td>\n      <td>1.000000</td>\n    </tr>\n    <tr>\n      <th>Cabezas Rubias</th>\n      <td>29.0</td>\n      <td>1.0</td>\n      <td>1.0</td>\n      <td>706.0</td>\n      <td>141.643059</td>\n      <td>141.643059</td>\n      <td>0.0</td>\n      <td>1.000000</td>\n    </tr>\n    <tr>\n      <th>Rosal de la Frontera</th>\n      <td>25.0</td>\n      <td>3.0</td>\n      <td>3.0</td>\n      <td>1697.0</td>\n      <td>176.782557</td>\n      <td>176.782557</td>\n      <td>0.0</td>\n      <td>1.000000</td>\n    </tr>\n  </tbody>\n</table>\n</div>"
     },
     "metadata": {},
     "execution_count": 18
    }
   ],
   "source": [
    "# Peso de la tasa de la última semana en relación con la tasa a 14 días \n",
    "# Mejor cuanto menor. Valor 1 significa que no había casos antes de 7 días.\n",
    "tabla['7/14'] = tabla['tasa7'] / tabla['tasa14']\n",
    "tabla.fillna(0).sort_values('7/14', ascending=True)"
   ]
  },
  {
   "cell_type": "code",
   "execution_count": null,
   "metadata": {},
   "outputs": [],
   "source": []
  }
 ]
}