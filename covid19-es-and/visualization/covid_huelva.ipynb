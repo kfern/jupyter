{
 "metadata": {
  "language_info": {
   "codemirror_mode": {
    "name": "ipython",
    "version": 3
   },
   "file_extension": ".py",
   "mimetype": "text/x-python",
   "name": "python",
   "nbconvert_exporter": "python",
   "pygments_lexer": "ipython3",
   "version": "3.8.6"
  },
  "orig_nbformat": 2,
  "kernelspec": {
   "name": "python3",
   "display_name": "Python 3.8.6 64-bit"
  },
  "interpreter": {
   "hash": "31f2aee4e71d21fbe5cf8b01ff0e069b9275f58929596ceb00d14d90e3e16cd6"
  }
 },
 "nbformat": 4,
 "nbformat_minor": 2,
 "cells": [
  {
   "cell_type": "code",
   "execution_count": 1,
   "metadata": {},
   "outputs": [],
   "source": [
    "import pandas as pd\n",
    "pd.set_option('display.max_rows', None) # Print all rows"
   ]
  },
  {
   "cell_type": "code",
   "execution_count": 2,
   "metadata": {},
   "outputs": [],
   "source": [
    "# FIX SSL: CERTIFICATE_VERIFY_FAILED with Python3\n",
    "# https://stackoverflow.com/a/49174340\n",
    "import ssl\n",
    "\n",
    "ssl._create_default_https_context = ssl._create_unverified_context"
   ]
  },
  {
   "cell_type": "code",
   "execution_count": 3,
   "metadata": {},
   "outputs": [],
   "source": [
    "url = 'https://www.juntadeandalucia.es/institutodeestadisticaycartografia/badea/stpivot/stpivot/Print?cube=013d884c-cfc5-4c21-9e78-e26225682afd&type=3&foto=si&ejecutaDesde=&codConsulta=38668&consTipoVisua=JP'\n",
    "fields = ['Lugar de residencia', 'Medida', 'Valor']\n",
    "df = pd.read_csv(url, delimiter=';', usecols=fields, decimal=',')"
   ]
  },
  {
   "cell_type": "code",
   "execution_count": 4,
   "metadata": {},
   "outputs": [
    {
     "output_type": "execute_result",
     "data": {
      "text/plain": [
       "  Lugar de residencia                    Medida              Valor\n",
       "0              Huelva                 Población             513170\n",
       "1              Huelva          Confirmados PDIA              33282\n",
       "2              Huelva  Confirmados PDIA 14 días                985\n",
       "3              Huelva         Tasa PDIA 14 días  191,9441900344915\n",
       "4              Huelva   Confirmados PDIA 7 días                419\n",
       "5              Huelva        Total Confirmados               33466\n",
       "6              Huelva                   Curados              31530\n",
       "7              Huelva                Fallecidos                389"
      ],
      "text/html": "<div>\n<style scoped>\n    .dataframe tbody tr th:only-of-type {\n        vertical-align: middle;\n    }\n\n    .dataframe tbody tr th {\n        vertical-align: top;\n    }\n\n    .dataframe thead th {\n        text-align: right;\n    }\n</style>\n<table border=\"1\" class=\"dataframe\">\n  <thead>\n    <tr style=\"text-align: right;\">\n      <th></th>\n      <th>Lugar de residencia</th>\n      <th>Medida</th>\n      <th>Valor</th>\n    </tr>\n  </thead>\n  <tbody>\n    <tr>\n      <th>0</th>\n      <td>Huelva</td>\n      <td>Población</td>\n      <td>513170</td>\n    </tr>\n    <tr>\n      <th>1</th>\n      <td>Huelva</td>\n      <td>Confirmados PDIA</td>\n      <td>33282</td>\n    </tr>\n    <tr>\n      <th>2</th>\n      <td>Huelva</td>\n      <td>Confirmados PDIA 14 días</td>\n      <td>985</td>\n    </tr>\n    <tr>\n      <th>3</th>\n      <td>Huelva</td>\n      <td>Tasa PDIA 14 días</td>\n      <td>191,9441900344915</td>\n    </tr>\n    <tr>\n      <th>4</th>\n      <td>Huelva</td>\n      <td>Confirmados PDIA 7 días</td>\n      <td>419</td>\n    </tr>\n    <tr>\n      <th>5</th>\n      <td>Huelva</td>\n      <td>Total Confirmados</td>\n      <td>33466</td>\n    </tr>\n    <tr>\n      <th>6</th>\n      <td>Huelva</td>\n      <td>Curados</td>\n      <td>31530</td>\n    </tr>\n    <tr>\n      <th>7</th>\n      <td>Huelva</td>\n      <td>Fallecidos</td>\n      <td>389</td>\n    </tr>\n  </tbody>\n</table>\n</div>"
     },
     "metadata": {},
     "execution_count": 4
    }
   ],
   "source": [
    "df[df['Lugar de residencia'] == 'Huelva']"
   ]
  },
  {
   "cell_type": "code",
   "execution_count": 5,
   "metadata": {},
   "outputs": [],
   "source": [
    "df['Valor'] = pd.to_numeric(df['Valor'],errors='coerce')"
   ]
  },
  {
   "cell_type": "code",
   "execution_count": 6,
   "metadata": {},
   "outputs": [],
   "source": [
    "dfAnterior = pd.read_csv('covid_huelva.csv', index_col='Lugar de residencia')"
   ]
  },
  {
   "cell_type": "code",
   "execution_count": 7,
   "metadata": {
    "tags": []
   },
   "outputs": [
    {
     "output_type": "stream",
     "name": "stdout",
     "text": [
      "Confirmados PCR en la provincia de Huelva:  33282.0\n",
      "<ipython-input-7-31b732756b19>:2: UserWarning: Boolean Series key will be reindexed to match DataFrame index.\n",
      "  p = df[df['Lugar de residencia'] == 'Huelva'][df['Medida'] == 'Confirmados PDIA']['Valor'].values[0]\n"
     ]
    }
   ],
   "source": [
    "# Confirmados PCR provincia Huelva\n",
    "p = df[df['Lugar de residencia'] == 'Huelva'][df['Medida'] == 'Confirmados PDIA']['Valor'].values[0]\n",
    "print('Confirmados PCR en la provincia de Huelva: ', p)"
   ]
  },
  {
   "cell_type": "code",
   "execution_count": 8,
   "metadata": {
    "tags": []
   },
   "outputs": [
    {
     "output_type": "stream",
     "name": "stdout",
     "text": [
      "Confirmados PCR en Huelva capital:  9102.0\n",
      "<ipython-input-8-e81bfb40e710>:2: UserWarning: Boolean Series key will be reindexed to match DataFrame index.\n",
      "  c = df[df['Lugar de residencia'] == 'Huelva (capital)'][df['Medida'] == 'Confirmados PDIA']['Valor'].values[0]\n"
     ]
    }
   ],
   "source": [
    "# Confirmados PCR Huelva capitalpd\n",
    "c = df[df['Lugar de residencia'] == 'Huelva (capital)'][df['Medida'] == 'Confirmados PDIA']['Valor'].values[0]\n",
    "print('Confirmados PCR en Huelva capital: ', c)"
   ]
  },
  {
   "cell_type": "code",
   "execution_count": 9,
   "metadata": {
    "tags": []
   },
   "outputs": [
    {
     "output_type": "stream",
     "name": "stderr",
     "text": [
      "<ipython-input-9-f09dd2050cc1>:1: UserWarning: Boolean Series key will be reindexed to match DataFrame index.\n  c7 = df[df['Lugar de residencia'] == 'Huelva (capital)'][df['Medida'] == 'Confirmados PDIA 7 días']['Valor'].values[0]\n<ipython-input-9-f09dd2050cc1>:2: UserWarning: Boolean Series key will be reindexed to match DataFrame index.\n  c14 = df[df['Lugar de residencia'] == 'Huelva (capital)'][df['Medida'] == 'Confirmados PDIA 14 días']['Valor'].values[0]\n<ipython-input-9-f09dd2050cc1>:3: UserWarning: Boolean Series key will be reindexed to match DataFrame index.\n  p = df[df['Lugar de residencia'] == 'Huelva (capital)'][df['Medida'] == 'Población']['Valor'].values[0]\n"
     ]
    }
   ],
   "source": [
    "c7 = df[df['Lugar de residencia'] == 'Huelva (capital)'][df['Medida'] == 'Confirmados PDIA 7 días']['Valor'].values[0]\n",
    "c14 = df[df['Lugar de residencia'] == 'Huelva (capital)'][df['Medida'] == 'Confirmados PDIA 14 días']['Valor'].values[0]\n",
    "p = df[df['Lugar de residencia'] == 'Huelva (capital)'][df['Medida'] == 'Población']['Valor'].values[0]"
   ]
  },
  {
   "cell_type": "code",
   "execution_count": 10,
   "metadata": {
    "tags": []
   },
   "outputs": [
    {
     "output_type": "stream",
     "name": "stdout",
     "text": [
      "Huelva (capital)\n\nUn positivo PCR cada 1115 personas en los últimos 7 días \n\nUn positivo PCR cada 413 personas en los últimos 14 días\n"
     ]
    }
   ],
   "source": [
    "print('Huelva (capital)\\n')\n",
    "#print('Confirmados PCR 7 días x 1,000 habitantes: ', f\"{c7/(p/1000):.5f}\")\n",
    "print('Un positivo PCR cada', f\"{p/c7:.0f}\", 'personas en los últimos 7 días', '\\n')\n",
    "#print('Confirmados PCR 14 días x 1,000 habitantes: ', f\"{c14/(p/1000):.5f}\")\n",
    "print('Un positivo PCR cada', f\"{p/c14:.0f}\", 'personas en los últimos 14 días')"
   ]
  },
  {
   "cell_type": "code",
   "execution_count": 11,
   "metadata": {},
   "outputs": [],
   "source": [
    "filtro = ((df['Medida'] == 'Confirmados PDIA')| (df['Medida'] == 'Confirmados PDIA 7 días') | (df['Medida'] == 'Población' ) | (df['Medida'] == 'Confirmados PDIA 14 días')) & (df['Valor'] > 0)\n",
    "tabla = pd.pivot_table(df.loc[filtro], values='Valor', index='Lugar de residencia', columns='Medida').dropna()"
   ]
  },
  {
   "cell_type": "code",
   "execution_count": 12,
   "metadata": {},
   "outputs": [],
   "source": [
    "# Reorder columns\n",
    "tabla = tabla[['Confirmados PDIA', 'Confirmados PDIA 7 días', 'Confirmados PDIA 14 días', 'Población']]"
   ]
  },
  {
   "cell_type": "code",
   "execution_count": 13,
   "metadata": {},
   "outputs": [],
   "source": [
    "tabla['tasa7'] = tabla['Confirmados PDIA 7 días']/tabla['Población']*100000\n",
    "tabla['tasa14'] = tabla['Confirmados PDIA 14 días']/tabla['Población']*100000"
   ]
  },
  {
   "cell_type": "code",
   "execution_count": 14,
   "metadata": {},
   "outputs": [],
   "source": [
    "tabla['Diferencia PDIA'] = tabla['Confirmados PDIA'] - dfAnterior['Confirmados PDIA']"
   ]
  },
  {
   "cell_type": "code",
   "execution_count": 15,
   "metadata": {},
   "outputs": [
    {
     "output_type": "execute_result",
     "data": {
      "text/plain": [
       "Medida                             Confirmados PDIA  Confirmados PDIA 7 días  \\\n",
       "Lugar de residencia                                                            \n",
       "Huelva                                      33282.0                    419.0   \n",
       "Huelva-Costa                                19162.0                    228.0   \n",
       "Condado-Campiña                             10833.0                    163.0   \n",
       "Huelva (capital)                             9102.0                    129.0   \n",
       "Moguer                                       1406.0                     39.0   \n",
       "Cartaya                                      1404.0                     29.0   \n",
       "Aljaraque                                    1171.0                     12.0   \n",
       "Lepe                                         2175.0                     14.0   \n",
       "Isla Cristina                                2187.0                     13.0   \n",
       "Palos de la Frontera                          729.0                     22.0   \n",
       "Sierra de Huelva-Andévalo Central            2934.0                     27.0   \n",
       "Ayamonte                                     1341.0                      9.0   \n",
       "Punta Umbría                                  855.0                     13.0   \n",
       "Rociana del Condado                           575.0                      6.0   \n",
       "San Juan del Puerto                           586.0                     24.0   \n",
       "Bonares                                       299.0                      8.0   \n",
       "Almonte                                      1916.0                     15.0   \n",
       "Bollullos Par del Condado                    1033.0                      7.0   \n",
       "Trigueros                                     334.0                      4.0   \n",
       "Valverde del Camino                           664.0                     11.0   \n",
       "Villablanca                                   192.0                      1.0   \n",
       "Alosno                                        182.0                      3.0   \n",
       "Campillo (El)                                  74.0                      1.0   \n",
       "Jabugo                                         66.0                      1.0   \n",
       "Santa Ana la Real                              11.0                      1.0   \n",
       "\n",
       "Medida                             Confirmados PDIA 14 días  Población  \\\n",
       "Lugar de residencia                                                      \n",
       "Huelva                                                985.0   513170.0   \n",
       "Huelva-Costa                                          542.0   289548.0   \n",
       "Condado-Campiña                                       357.0   156231.0   \n",
       "Huelva (capital)                                      348.0   143837.0   \n",
       "Moguer                                                 68.0    21867.0   \n",
       "Cartaya                                                46.0    20083.0   \n",
       "Aljaraque                                              24.0    21474.0   \n",
       "Lepe                                                   29.0    27880.0   \n",
       "Isla Cristina                                          28.0    21393.0   \n",
       "Palos de la Frontera                                   39.0    11742.0   \n",
       "Sierra de Huelva-Andévalo Central                      83.0    67391.0   \n",
       "Ayamonte                                               16.0    21104.0   \n",
       "Punta Umbría                                           18.0    15355.0   \n",
       "Rociana del Condado                                    17.0     7939.0   \n",
       "San Juan del Puerto                                    48.0     9411.0   \n",
       "Bonares                                                13.0     6060.0   \n",
       "Almonte                                                55.0    24507.0   \n",
       "Bollullos Par del Condado                              24.0    14387.0   \n",
       "Trigueros                                              11.0     7862.0   \n",
       "Valverde del Camino                                    43.0    12750.0   \n",
       "Villablanca                                             5.0     2885.0   \n",
       "Alosno                                                 10.0     3933.0   \n",
       "Campillo (El)                                           1.0     2024.0   \n",
       "Jabugo                                                  1.0     2260.0   \n",
       "Santa Ana la Real                                       1.0      475.0   \n",
       "\n",
       "Medida                                  tasa7      tasa14  Diferencia PDIA  \n",
       "Lugar de residencia                                                         \n",
       "Huelva                              81.649356  191.944190             76.0  \n",
       "Huelva-Costa                        78.743421  187.188307             49.0  \n",
       "Condado-Campiña                    104.332687  228.507787             23.0  \n",
       "Huelva (capital)                    89.684852  241.940530             11.0  \n",
       "Moguer                             178.350940  310.970869             10.0  \n",
       "Cartaya                            144.400737  229.049445             10.0  \n",
       "Aljaraque                           55.881531  111.763062              8.0  \n",
       "Lepe                                50.215208  104.017217              5.0  \n",
       "Isla Cristina                       60.767541  130.883934              5.0  \n",
       "Palos de la Frontera               187.361608  332.141032              4.0  \n",
       "Sierra de Huelva-Andévalo Central   40.064697  123.161847              4.0  \n",
       "Ayamonte                            42.645944   75.815011              3.0  \n",
       "Punta Umbría                        84.662976  117.225659              3.0  \n",
       "Rociana del Condado                 75.576269  214.132762              3.0  \n",
       "San Juan del Puerto                255.020720  510.041441              2.0  \n",
       "Bonares                            132.013201  214.521452              1.0  \n",
       "Almonte                             61.207002  224.425674              1.0  \n",
       "Bollullos Par del Condado           48.655036  166.817266              1.0  \n",
       "Trigueros                           50.877639  139.913508              1.0  \n",
       "Valverde del Camino                 86.274510  337.254902              1.0  \n",
       "Villablanca                         34.662045  173.310225              1.0  \n",
       "Alosno                              76.277651  254.258835              NaN  \n",
       "Campillo (El)                       49.407115   49.407115              NaN  \n",
       "Jabugo                              44.247788   44.247788              NaN  \n",
       "Santa Ana la Real                  210.526316  210.526316              NaN  "
      ],
      "text/html": "<div>\n<style scoped>\n    .dataframe tbody tr th:only-of-type {\n        vertical-align: middle;\n    }\n\n    .dataframe tbody tr th {\n        vertical-align: top;\n    }\n\n    .dataframe thead th {\n        text-align: right;\n    }\n</style>\n<table border=\"1\" class=\"dataframe\">\n  <thead>\n    <tr style=\"text-align: right;\">\n      <th>Medida</th>\n      <th>Confirmados PDIA</th>\n      <th>Confirmados PDIA 7 días</th>\n      <th>Confirmados PDIA 14 días</th>\n      <th>Población</th>\n      <th>tasa7</th>\n      <th>tasa14</th>\n      <th>Diferencia PDIA</th>\n    </tr>\n    <tr>\n      <th>Lugar de residencia</th>\n      <th></th>\n      <th></th>\n      <th></th>\n      <th></th>\n      <th></th>\n      <th></th>\n      <th></th>\n    </tr>\n  </thead>\n  <tbody>\n    <tr>\n      <th>Huelva</th>\n      <td>33282.0</td>\n      <td>419.0</td>\n      <td>985.0</td>\n      <td>513170.0</td>\n      <td>81.649356</td>\n      <td>191.944190</td>\n      <td>76.0</td>\n    </tr>\n    <tr>\n      <th>Huelva-Costa</th>\n      <td>19162.0</td>\n      <td>228.0</td>\n      <td>542.0</td>\n      <td>289548.0</td>\n      <td>78.743421</td>\n      <td>187.188307</td>\n      <td>49.0</td>\n    </tr>\n    <tr>\n      <th>Condado-Campiña</th>\n      <td>10833.0</td>\n      <td>163.0</td>\n      <td>357.0</td>\n      <td>156231.0</td>\n      <td>104.332687</td>\n      <td>228.507787</td>\n      <td>23.0</td>\n    </tr>\n    <tr>\n      <th>Huelva (capital)</th>\n      <td>9102.0</td>\n      <td>129.0</td>\n      <td>348.0</td>\n      <td>143837.0</td>\n      <td>89.684852</td>\n      <td>241.940530</td>\n      <td>11.0</td>\n    </tr>\n    <tr>\n      <th>Moguer</th>\n      <td>1406.0</td>\n      <td>39.0</td>\n      <td>68.0</td>\n      <td>21867.0</td>\n      <td>178.350940</td>\n      <td>310.970869</td>\n      <td>10.0</td>\n    </tr>\n    <tr>\n      <th>Cartaya</th>\n      <td>1404.0</td>\n      <td>29.0</td>\n      <td>46.0</td>\n      <td>20083.0</td>\n      <td>144.400737</td>\n      <td>229.049445</td>\n      <td>10.0</td>\n    </tr>\n    <tr>\n      <th>Aljaraque</th>\n      <td>1171.0</td>\n      <td>12.0</td>\n      <td>24.0</td>\n      <td>21474.0</td>\n      <td>55.881531</td>\n      <td>111.763062</td>\n      <td>8.0</td>\n    </tr>\n    <tr>\n      <th>Lepe</th>\n      <td>2175.0</td>\n      <td>14.0</td>\n      <td>29.0</td>\n      <td>27880.0</td>\n      <td>50.215208</td>\n      <td>104.017217</td>\n      <td>5.0</td>\n    </tr>\n    <tr>\n      <th>Isla Cristina</th>\n      <td>2187.0</td>\n      <td>13.0</td>\n      <td>28.0</td>\n      <td>21393.0</td>\n      <td>60.767541</td>\n      <td>130.883934</td>\n      <td>5.0</td>\n    </tr>\n    <tr>\n      <th>Palos de la Frontera</th>\n      <td>729.0</td>\n      <td>22.0</td>\n      <td>39.0</td>\n      <td>11742.0</td>\n      <td>187.361608</td>\n      <td>332.141032</td>\n      <td>4.0</td>\n    </tr>\n    <tr>\n      <th>Sierra de Huelva-Andévalo Central</th>\n      <td>2934.0</td>\n      <td>27.0</td>\n      <td>83.0</td>\n      <td>67391.0</td>\n      <td>40.064697</td>\n      <td>123.161847</td>\n      <td>4.0</td>\n    </tr>\n    <tr>\n      <th>Ayamonte</th>\n      <td>1341.0</td>\n      <td>9.0</td>\n      <td>16.0</td>\n      <td>21104.0</td>\n      <td>42.645944</td>\n      <td>75.815011</td>\n      <td>3.0</td>\n    </tr>\n    <tr>\n      <th>Punta Umbría</th>\n      <td>855.0</td>\n      <td>13.0</td>\n      <td>18.0</td>\n      <td>15355.0</td>\n      <td>84.662976</td>\n      <td>117.225659</td>\n      <td>3.0</td>\n    </tr>\n    <tr>\n      <th>Rociana del Condado</th>\n      <td>575.0</td>\n      <td>6.0</td>\n      <td>17.0</td>\n      <td>7939.0</td>\n      <td>75.576269</td>\n      <td>214.132762</td>\n      <td>3.0</td>\n    </tr>\n    <tr>\n      <th>San Juan del Puerto</th>\n      <td>586.0</td>\n      <td>24.0</td>\n      <td>48.0</td>\n      <td>9411.0</td>\n      <td>255.020720</td>\n      <td>510.041441</td>\n      <td>2.0</td>\n    </tr>\n    <tr>\n      <th>Bonares</th>\n      <td>299.0</td>\n      <td>8.0</td>\n      <td>13.0</td>\n      <td>6060.0</td>\n      <td>132.013201</td>\n      <td>214.521452</td>\n      <td>1.0</td>\n    </tr>\n    <tr>\n      <th>Almonte</th>\n      <td>1916.0</td>\n      <td>15.0</td>\n      <td>55.0</td>\n      <td>24507.0</td>\n      <td>61.207002</td>\n      <td>224.425674</td>\n      <td>1.0</td>\n    </tr>\n    <tr>\n      <th>Bollullos Par del Condado</th>\n      <td>1033.0</td>\n      <td>7.0</td>\n      <td>24.0</td>\n      <td>14387.0</td>\n      <td>48.655036</td>\n      <td>166.817266</td>\n      <td>1.0</td>\n    </tr>\n    <tr>\n      <th>Trigueros</th>\n      <td>334.0</td>\n      <td>4.0</td>\n      <td>11.0</td>\n      <td>7862.0</td>\n      <td>50.877639</td>\n      <td>139.913508</td>\n      <td>1.0</td>\n    </tr>\n    <tr>\n      <th>Valverde del Camino</th>\n      <td>664.0</td>\n      <td>11.0</td>\n      <td>43.0</td>\n      <td>12750.0</td>\n      <td>86.274510</td>\n      <td>337.254902</td>\n      <td>1.0</td>\n    </tr>\n    <tr>\n      <th>Villablanca</th>\n      <td>192.0</td>\n      <td>1.0</td>\n      <td>5.0</td>\n      <td>2885.0</td>\n      <td>34.662045</td>\n      <td>173.310225</td>\n      <td>1.0</td>\n    </tr>\n    <tr>\n      <th>Alosno</th>\n      <td>182.0</td>\n      <td>3.0</td>\n      <td>10.0</td>\n      <td>3933.0</td>\n      <td>76.277651</td>\n      <td>254.258835</td>\n      <td>NaN</td>\n    </tr>\n    <tr>\n      <th>Campillo (El)</th>\n      <td>74.0</td>\n      <td>1.0</td>\n      <td>1.0</td>\n      <td>2024.0</td>\n      <td>49.407115</td>\n      <td>49.407115</td>\n      <td>NaN</td>\n    </tr>\n    <tr>\n      <th>Jabugo</th>\n      <td>66.0</td>\n      <td>1.0</td>\n      <td>1.0</td>\n      <td>2260.0</td>\n      <td>44.247788</td>\n      <td>44.247788</td>\n      <td>NaN</td>\n    </tr>\n    <tr>\n      <th>Santa Ana la Real</th>\n      <td>11.0</td>\n      <td>1.0</td>\n      <td>1.0</td>\n      <td>475.0</td>\n      <td>210.526316</td>\n      <td>210.526316</td>\n      <td>NaN</td>\n    </tr>\n  </tbody>\n</table>\n</div>"
     },
     "metadata": {},
     "execution_count": 15
    }
   ],
   "source": [
    "# Nuevos casos desde la última captura\n",
    "tabla[tabla['Diferencia PDIA'] != 0].sort_values('Diferencia PDIA', ascending=False)"
   ]
  },
  {
   "cell_type": "code",
   "execution_count": 16,
   "metadata": {},
   "outputs": [],
   "source": [
    "if tabla[tabla['Diferencia PDIA'] != 0]['Diferencia PDIA'].sum() != 0:\n",
    "  # Save to csv\n",
    "  tabla.to_csv('covid_huelva.csv', encoding='utf-8', header=True, index=True)  "
   ]
  },
  {
   "cell_type": "code",
   "execution_count": 17,
   "metadata": {},
   "outputs": [
    {
     "output_type": "execute_result",
     "data": {
      "text/plain": [
       "Medida                             Confirmados PDIA  Confirmados PDIA 7 días  \\\n",
       "Lugar de residencia                                                            \n",
       "San Juan del Puerto                           586.0                     24.0   \n",
       "Beas                                          232.0                      6.0   \n",
       "Puebla de Guzmán                              141.0                      2.0   \n",
       "Cerro de Andévalo (El)                        154.0                      6.0   \n",
       "Almendro (El)                                  39.0                      1.0   \n",
       "Valverde del Camino                           664.0                     11.0   \n",
       "Palos de la Frontera                          729.0                     22.0   \n",
       "Calañas                                       201.0                      1.0   \n",
       "Moguer                                       1406.0                     39.0   \n",
       "Alosno                                        182.0                      3.0   \n",
       "Lucena del Puerto                             267.0                      2.0   \n",
       "Huelva (capital)                             9102.0                    129.0   \n",
       "Palma del Condado (La)                       1195.0                     15.0   \n",
       "Cartaya                                      1404.0                     29.0   \n",
       "Condado-Campiña                             10833.0                    163.0   \n",
       "Almonte                                      1916.0                     15.0   \n",
       "Almonaster la Real                             70.0                      2.0   \n",
       "Bonares                                       299.0                      8.0   \n",
       "Rociana del Condado                           575.0                      6.0   \n",
       "Santa Ana la Real                              11.0                      1.0   \n",
       "Huelva                                      33282.0                    419.0   \n",
       "Manzanilla                                    107.0                      3.0   \n",
       "Huelva-Costa                                19162.0                    228.0   \n",
       "Villablanca                                   192.0                      1.0   \n",
       "Niebla                                        249.0                      2.0   \n",
       "Bollullos Par del Condado                    1033.0                      7.0   \n",
       "Trigueros                                     334.0                      4.0   \n",
       "San Bartolomé de la Torre                     307.0                      1.0   \n",
       "Isla Cristina                                2187.0                     13.0   \n",
       "Sierra de Huelva-Andévalo Central            2934.0                     27.0   \n",
       "Punta Umbría                                  855.0                     13.0   \n",
       "Aljaraque                                    1171.0                     12.0   \n",
       "Lepe                                         2175.0                     14.0   \n",
       "Gibraleón                                     653.0                      8.0   \n",
       "Paymogo                                        76.0                      1.0   \n",
       "Aracena                                       541.0                      2.0   \n",
       "Ayamonte                                     1341.0                      9.0   \n",
       "Campillo (El)                                  74.0                      1.0   \n",
       "Jabugo                                         66.0                      1.0   \n",
       "Nerva                                         180.0                      1.0   \n",
       "Villanueva de los Castillejos                 165.0                      1.0   \n",
       "Villalba del Alcor                            482.0                      1.0   \n",
       "Cortegana                                     215.0                      1.0   \n",
       "\n",
       "Medida                             Confirmados PDIA 14 días  Población  \\\n",
       "Lugar de residencia                                                      \n",
       "San Juan del Puerto                                    48.0     9411.0   \n",
       "Beas                                                   19.0     4341.0   \n",
       "Puebla de Guzmán                                       12.0     3092.0   \n",
       "Cerro de Andévalo (El)                                  9.0     2327.0   \n",
       "Almendro (El)                                           3.0      840.0   \n",
       "Valverde del Camino                                    43.0    12750.0   \n",
       "Palos de la Frontera                                   39.0    11742.0   \n",
       "Calañas                                                 9.0     2768.0   \n",
       "Moguer                                                 68.0    21867.0   \n",
       "Alosno                                                 10.0     3933.0   \n",
       "Lucena del Puerto                                       8.0     3261.0   \n",
       "Huelva (capital)                                      348.0   143837.0   \n",
       "Palma del Condado (La)                                 26.0    10801.0   \n",
       "Cartaya                                                46.0    20083.0   \n",
       "Condado-Campiña                                       357.0   156231.0   \n",
       "Almonte                                                55.0    24507.0   \n",
       "Almonaster la Real                                      4.0     1788.0   \n",
       "Bonares                                                13.0     6060.0   \n",
       "Rociana del Condado                                    17.0     7939.0   \n",
       "Santa Ana la Real                                       1.0      475.0   \n",
       "Huelva                                                985.0   513170.0   \n",
       "Manzanilla                                              4.0     2118.0   \n",
       "Huelva-Costa                                          542.0   289548.0   \n",
       "Villablanca                                             5.0     2885.0   \n",
       "Niebla                                                  7.0     4116.0   \n",
       "Bollullos Par del Condado                              24.0    14387.0   \n",
       "Trigueros                                              11.0     7862.0   \n",
       "San Bartolomé de la Torre                               5.0     3761.0   \n",
       "Isla Cristina                                          28.0    21393.0   \n",
       "Sierra de Huelva-Andévalo Central                      83.0    67391.0   \n",
       "Punta Umbría                                           18.0    15355.0   \n",
       "Aljaraque                                              24.0    21474.0   \n",
       "Lepe                                                   29.0    27880.0   \n",
       "Gibraleón                                              12.0    12737.0   \n",
       "Paymogo                                                 1.0     1162.0   \n",
       "Aracena                                                 7.0     8255.0   \n",
       "Ayamonte                                               16.0    21104.0   \n",
       "Campillo (El)                                           1.0     2024.0   \n",
       "Jabugo                                                  1.0     2260.0   \n",
       "Nerva                                                   2.0     5169.0   \n",
       "Villanueva de los Castillejos                           1.0     2825.0   \n",
       "Villalba del Alcor                                      1.0     3366.0   \n",
       "Cortegana                                               1.0     4602.0   \n",
       "\n",
       "Medida                                  tasa7      tasa14  Diferencia PDIA  \n",
       "Lugar de residencia                                                         \n",
       "San Juan del Puerto                255.020720  510.041441              2.0  \n",
       "Beas                               138.217001  437.687169              0.0  \n",
       "Puebla de Guzmán                    64.683053  388.098318              0.0  \n",
       "Cerro de Andévalo (El)             257.842716  386.764074              0.0  \n",
       "Almendro (El)                      119.047619  357.142857              0.0  \n",
       "Valverde del Camino                 86.274510  337.254902              1.0  \n",
       "Palos de la Frontera               187.361608  332.141032              4.0  \n",
       "Calañas                             36.127168  325.144509              0.0  \n",
       "Moguer                             178.350940  310.970869             10.0  \n",
       "Alosno                              76.277651  254.258835              NaN  \n",
       "Lucena del Puerto                   61.330880  245.323520              0.0  \n",
       "Huelva (capital)                    89.684852  241.940530             11.0  \n",
       "Palma del Condado (La)             138.876030  240.718452              0.0  \n",
       "Cartaya                            144.400737  229.049445             10.0  \n",
       "Condado-Campiña                    104.332687  228.507787             23.0  \n",
       "Almonte                             61.207002  224.425674              1.0  \n",
       "Almonaster la Real                 111.856823  223.713647              0.0  \n",
       "Bonares                            132.013201  214.521452              1.0  \n",
       "Rociana del Condado                 75.576269  214.132762              3.0  \n",
       "Santa Ana la Real                  210.526316  210.526316              NaN  \n",
       "Huelva                              81.649356  191.944190             76.0  \n",
       "Manzanilla                         141.643059  188.857413              0.0  \n",
       "Huelva-Costa                        78.743421  187.188307             49.0  \n",
       "Villablanca                         34.662045  173.310225              1.0  \n",
       "Niebla                              48.590865  170.068027              0.0  \n",
       "Bollullos Par del Condado           48.655036  166.817266              1.0  \n",
       "Trigueros                           50.877639  139.913508              1.0  \n",
       "San Bartolomé de la Torre           26.588673  132.943366              0.0  \n",
       "Isla Cristina                       60.767541  130.883934              5.0  \n",
       "Sierra de Huelva-Andévalo Central   40.064697  123.161847              4.0  \n",
       "Punta Umbría                        84.662976  117.225659              3.0  \n",
       "Aljaraque                           55.881531  111.763062              8.0  \n",
       "Lepe                                50.215208  104.017217              5.0  \n",
       "Gibraleón                           62.809139   94.213708              0.0  \n",
       "Paymogo                             86.058520   86.058520              0.0  \n",
       "Aracena                             24.227741   84.797093              0.0  \n",
       "Ayamonte                            42.645944   75.815011              3.0  \n",
       "Campillo (El)                       49.407115   49.407115              NaN  \n",
       "Jabugo                              44.247788   44.247788              NaN  \n",
       "Nerva                               19.346102   38.692204              0.0  \n",
       "Villanueva de los Castillejos       35.398230   35.398230              0.0  \n",
       "Villalba del Alcor                  29.708853   29.708853              0.0  \n",
       "Cortegana                           21.729683   21.729683              0.0  "
      ],
      "text/html": "<div>\n<style scoped>\n    .dataframe tbody tr th:only-of-type {\n        vertical-align: middle;\n    }\n\n    .dataframe tbody tr th {\n        vertical-align: top;\n    }\n\n    .dataframe thead th {\n        text-align: right;\n    }\n</style>\n<table border=\"1\" class=\"dataframe\">\n  <thead>\n    <tr style=\"text-align: right;\">\n      <th>Medida</th>\n      <th>Confirmados PDIA</th>\n      <th>Confirmados PDIA 7 días</th>\n      <th>Confirmados PDIA 14 días</th>\n      <th>Población</th>\n      <th>tasa7</th>\n      <th>tasa14</th>\n      <th>Diferencia PDIA</th>\n    </tr>\n    <tr>\n      <th>Lugar de residencia</th>\n      <th></th>\n      <th></th>\n      <th></th>\n      <th></th>\n      <th></th>\n      <th></th>\n      <th></th>\n    </tr>\n  </thead>\n  <tbody>\n    <tr>\n      <th>San Juan del Puerto</th>\n      <td>586.0</td>\n      <td>24.0</td>\n      <td>48.0</td>\n      <td>9411.0</td>\n      <td>255.020720</td>\n      <td>510.041441</td>\n      <td>2.0</td>\n    </tr>\n    <tr>\n      <th>Beas</th>\n      <td>232.0</td>\n      <td>6.0</td>\n      <td>19.0</td>\n      <td>4341.0</td>\n      <td>138.217001</td>\n      <td>437.687169</td>\n      <td>0.0</td>\n    </tr>\n    <tr>\n      <th>Puebla de Guzmán</th>\n      <td>141.0</td>\n      <td>2.0</td>\n      <td>12.0</td>\n      <td>3092.0</td>\n      <td>64.683053</td>\n      <td>388.098318</td>\n      <td>0.0</td>\n    </tr>\n    <tr>\n      <th>Cerro de Andévalo (El)</th>\n      <td>154.0</td>\n      <td>6.0</td>\n      <td>9.0</td>\n      <td>2327.0</td>\n      <td>257.842716</td>\n      <td>386.764074</td>\n      <td>0.0</td>\n    </tr>\n    <tr>\n      <th>Almendro (El)</th>\n      <td>39.0</td>\n      <td>1.0</td>\n      <td>3.0</td>\n      <td>840.0</td>\n      <td>119.047619</td>\n      <td>357.142857</td>\n      <td>0.0</td>\n    </tr>\n    <tr>\n      <th>Valverde del Camino</th>\n      <td>664.0</td>\n      <td>11.0</td>\n      <td>43.0</td>\n      <td>12750.0</td>\n      <td>86.274510</td>\n      <td>337.254902</td>\n      <td>1.0</td>\n    </tr>\n    <tr>\n      <th>Palos de la Frontera</th>\n      <td>729.0</td>\n      <td>22.0</td>\n      <td>39.0</td>\n      <td>11742.0</td>\n      <td>187.361608</td>\n      <td>332.141032</td>\n      <td>4.0</td>\n    </tr>\n    <tr>\n      <th>Calañas</th>\n      <td>201.0</td>\n      <td>1.0</td>\n      <td>9.0</td>\n      <td>2768.0</td>\n      <td>36.127168</td>\n      <td>325.144509</td>\n      <td>0.0</td>\n    </tr>\n    <tr>\n      <th>Moguer</th>\n      <td>1406.0</td>\n      <td>39.0</td>\n      <td>68.0</td>\n      <td>21867.0</td>\n      <td>178.350940</td>\n      <td>310.970869</td>\n      <td>10.0</td>\n    </tr>\n    <tr>\n      <th>Alosno</th>\n      <td>182.0</td>\n      <td>3.0</td>\n      <td>10.0</td>\n      <td>3933.0</td>\n      <td>76.277651</td>\n      <td>254.258835</td>\n      <td>NaN</td>\n    </tr>\n    <tr>\n      <th>Lucena del Puerto</th>\n      <td>267.0</td>\n      <td>2.0</td>\n      <td>8.0</td>\n      <td>3261.0</td>\n      <td>61.330880</td>\n      <td>245.323520</td>\n      <td>0.0</td>\n    </tr>\n    <tr>\n      <th>Huelva (capital)</th>\n      <td>9102.0</td>\n      <td>129.0</td>\n      <td>348.0</td>\n      <td>143837.0</td>\n      <td>89.684852</td>\n      <td>241.940530</td>\n      <td>11.0</td>\n    </tr>\n    <tr>\n      <th>Palma del Condado (La)</th>\n      <td>1195.0</td>\n      <td>15.0</td>\n      <td>26.0</td>\n      <td>10801.0</td>\n      <td>138.876030</td>\n      <td>240.718452</td>\n      <td>0.0</td>\n    </tr>\n    <tr>\n      <th>Cartaya</th>\n      <td>1404.0</td>\n      <td>29.0</td>\n      <td>46.0</td>\n      <td>20083.0</td>\n      <td>144.400737</td>\n      <td>229.049445</td>\n      <td>10.0</td>\n    </tr>\n    <tr>\n      <th>Condado-Campiña</th>\n      <td>10833.0</td>\n      <td>163.0</td>\n      <td>357.0</td>\n      <td>156231.0</td>\n      <td>104.332687</td>\n      <td>228.507787</td>\n      <td>23.0</td>\n    </tr>\n    <tr>\n      <th>Almonte</th>\n      <td>1916.0</td>\n      <td>15.0</td>\n      <td>55.0</td>\n      <td>24507.0</td>\n      <td>61.207002</td>\n      <td>224.425674</td>\n      <td>1.0</td>\n    </tr>\n    <tr>\n      <th>Almonaster la Real</th>\n      <td>70.0</td>\n      <td>2.0</td>\n      <td>4.0</td>\n      <td>1788.0</td>\n      <td>111.856823</td>\n      <td>223.713647</td>\n      <td>0.0</td>\n    </tr>\n    <tr>\n      <th>Bonares</th>\n      <td>299.0</td>\n      <td>8.0</td>\n      <td>13.0</td>\n      <td>6060.0</td>\n      <td>132.013201</td>\n      <td>214.521452</td>\n      <td>1.0</td>\n    </tr>\n    <tr>\n      <th>Rociana del Condado</th>\n      <td>575.0</td>\n      <td>6.0</td>\n      <td>17.0</td>\n      <td>7939.0</td>\n      <td>75.576269</td>\n      <td>214.132762</td>\n      <td>3.0</td>\n    </tr>\n    <tr>\n      <th>Santa Ana la Real</th>\n      <td>11.0</td>\n      <td>1.0</td>\n      <td>1.0</td>\n      <td>475.0</td>\n      <td>210.526316</td>\n      <td>210.526316</td>\n      <td>NaN</td>\n    </tr>\n    <tr>\n      <th>Huelva</th>\n      <td>33282.0</td>\n      <td>419.0</td>\n      <td>985.0</td>\n      <td>513170.0</td>\n      <td>81.649356</td>\n      <td>191.944190</td>\n      <td>76.0</td>\n    </tr>\n    <tr>\n      <th>Manzanilla</th>\n      <td>107.0</td>\n      <td>3.0</td>\n      <td>4.0</td>\n      <td>2118.0</td>\n      <td>141.643059</td>\n      <td>188.857413</td>\n      <td>0.0</td>\n    </tr>\n    <tr>\n      <th>Huelva-Costa</th>\n      <td>19162.0</td>\n      <td>228.0</td>\n      <td>542.0</td>\n      <td>289548.0</td>\n      <td>78.743421</td>\n      <td>187.188307</td>\n      <td>49.0</td>\n    </tr>\n    <tr>\n      <th>Villablanca</th>\n      <td>192.0</td>\n      <td>1.0</td>\n      <td>5.0</td>\n      <td>2885.0</td>\n      <td>34.662045</td>\n      <td>173.310225</td>\n      <td>1.0</td>\n    </tr>\n    <tr>\n      <th>Niebla</th>\n      <td>249.0</td>\n      <td>2.0</td>\n      <td>7.0</td>\n      <td>4116.0</td>\n      <td>48.590865</td>\n      <td>170.068027</td>\n      <td>0.0</td>\n    </tr>\n    <tr>\n      <th>Bollullos Par del Condado</th>\n      <td>1033.0</td>\n      <td>7.0</td>\n      <td>24.0</td>\n      <td>14387.0</td>\n      <td>48.655036</td>\n      <td>166.817266</td>\n      <td>1.0</td>\n    </tr>\n    <tr>\n      <th>Trigueros</th>\n      <td>334.0</td>\n      <td>4.0</td>\n      <td>11.0</td>\n      <td>7862.0</td>\n      <td>50.877639</td>\n      <td>139.913508</td>\n      <td>1.0</td>\n    </tr>\n    <tr>\n      <th>San Bartolomé de la Torre</th>\n      <td>307.0</td>\n      <td>1.0</td>\n      <td>5.0</td>\n      <td>3761.0</td>\n      <td>26.588673</td>\n      <td>132.943366</td>\n      <td>0.0</td>\n    </tr>\n    <tr>\n      <th>Isla Cristina</th>\n      <td>2187.0</td>\n      <td>13.0</td>\n      <td>28.0</td>\n      <td>21393.0</td>\n      <td>60.767541</td>\n      <td>130.883934</td>\n      <td>5.0</td>\n    </tr>\n    <tr>\n      <th>Sierra de Huelva-Andévalo Central</th>\n      <td>2934.0</td>\n      <td>27.0</td>\n      <td>83.0</td>\n      <td>67391.0</td>\n      <td>40.064697</td>\n      <td>123.161847</td>\n      <td>4.0</td>\n    </tr>\n    <tr>\n      <th>Punta Umbría</th>\n      <td>855.0</td>\n      <td>13.0</td>\n      <td>18.0</td>\n      <td>15355.0</td>\n      <td>84.662976</td>\n      <td>117.225659</td>\n      <td>3.0</td>\n    </tr>\n    <tr>\n      <th>Aljaraque</th>\n      <td>1171.0</td>\n      <td>12.0</td>\n      <td>24.0</td>\n      <td>21474.0</td>\n      <td>55.881531</td>\n      <td>111.763062</td>\n      <td>8.0</td>\n    </tr>\n    <tr>\n      <th>Lepe</th>\n      <td>2175.0</td>\n      <td>14.0</td>\n      <td>29.0</td>\n      <td>27880.0</td>\n      <td>50.215208</td>\n      <td>104.017217</td>\n      <td>5.0</td>\n    </tr>\n    <tr>\n      <th>Gibraleón</th>\n      <td>653.0</td>\n      <td>8.0</td>\n      <td>12.0</td>\n      <td>12737.0</td>\n      <td>62.809139</td>\n      <td>94.213708</td>\n      <td>0.0</td>\n    </tr>\n    <tr>\n      <th>Paymogo</th>\n      <td>76.0</td>\n      <td>1.0</td>\n      <td>1.0</td>\n      <td>1162.0</td>\n      <td>86.058520</td>\n      <td>86.058520</td>\n      <td>0.0</td>\n    </tr>\n    <tr>\n      <th>Aracena</th>\n      <td>541.0</td>\n      <td>2.0</td>\n      <td>7.0</td>\n      <td>8255.0</td>\n      <td>24.227741</td>\n      <td>84.797093</td>\n      <td>0.0</td>\n    </tr>\n    <tr>\n      <th>Ayamonte</th>\n      <td>1341.0</td>\n      <td>9.0</td>\n      <td>16.0</td>\n      <td>21104.0</td>\n      <td>42.645944</td>\n      <td>75.815011</td>\n      <td>3.0</td>\n    </tr>\n    <tr>\n      <th>Campillo (El)</th>\n      <td>74.0</td>\n      <td>1.0</td>\n      <td>1.0</td>\n      <td>2024.0</td>\n      <td>49.407115</td>\n      <td>49.407115</td>\n      <td>NaN</td>\n    </tr>\n    <tr>\n      <th>Jabugo</th>\n      <td>66.0</td>\n      <td>1.0</td>\n      <td>1.0</td>\n      <td>2260.0</td>\n      <td>44.247788</td>\n      <td>44.247788</td>\n      <td>NaN</td>\n    </tr>\n    <tr>\n      <th>Nerva</th>\n      <td>180.0</td>\n      <td>1.0</td>\n      <td>2.0</td>\n      <td>5169.0</td>\n      <td>19.346102</td>\n      <td>38.692204</td>\n      <td>0.0</td>\n    </tr>\n    <tr>\n      <th>Villanueva de los Castillejos</th>\n      <td>165.0</td>\n      <td>1.0</td>\n      <td>1.0</td>\n      <td>2825.0</td>\n      <td>35.398230</td>\n      <td>35.398230</td>\n      <td>0.0</td>\n    </tr>\n    <tr>\n      <th>Villalba del Alcor</th>\n      <td>482.0</td>\n      <td>1.0</td>\n      <td>1.0</td>\n      <td>3366.0</td>\n      <td>29.708853</td>\n      <td>29.708853</td>\n      <td>0.0</td>\n    </tr>\n    <tr>\n      <th>Cortegana</th>\n      <td>215.0</td>\n      <td>1.0</td>\n      <td>1.0</td>\n      <td>4602.0</td>\n      <td>21.729683</td>\n      <td>21.729683</td>\n      <td>0.0</td>\n    </tr>\n  </tbody>\n</table>\n</div>"
     },
     "metadata": {},
     "execution_count": 17
    }
   ],
   "source": [
    "tabla.sort_values('tasa14', ascending=False)"
   ]
  },
  {
   "cell_type": "code",
   "execution_count": 18,
   "metadata": {},
   "outputs": [
    {
     "output_type": "execute_result",
     "data": {
      "text/plain": [
       "Medida                             Confirmados PDIA  Confirmados PDIA 7 días  \\\n",
       "Lugar de residencia                                                            \n",
       "Calañas                                       201.0                      1.0   \n",
       "Puebla de Guzmán                              141.0                      2.0   \n",
       "Villablanca                                   192.0                      1.0   \n",
       "San Bartolomé de la Torre                     307.0                      1.0   \n",
       "Lucena del Puerto                             267.0                      2.0   \n",
       "Valverde del Camino                           664.0                     11.0   \n",
       "Almonte                                      1916.0                     15.0   \n",
       "Aracena                                       541.0                      2.0   \n",
       "Niebla                                        249.0                      2.0   \n",
       "Bollullos Par del Condado                    1033.0                      7.0   \n",
       "Alosno                                        182.0                      3.0   \n",
       "Beas                                          232.0                      6.0   \n",
       "Sierra de Huelva-Andévalo Central            2934.0                     27.0   \n",
       "Almendro (El)                                  39.0                      1.0   \n",
       "Rociana del Condado                           575.0                      6.0   \n",
       "Trigueros                                     334.0                      4.0   \n",
       "Huelva (capital)                             9102.0                    129.0   \n",
       "Huelva-Costa                                19162.0                    228.0   \n",
       "Huelva                                      33282.0                    419.0   \n",
       "Condado-Campiña                             10833.0                    163.0   \n",
       "Isla Cristina                                2187.0                     13.0   \n",
       "Lepe                                         2175.0                     14.0   \n",
       "Nerva                                         180.0                      1.0   \n",
       "Aljaraque                                    1171.0                     12.0   \n",
       "Almonaster la Real                             70.0                      2.0   \n",
       "San Juan del Puerto                           586.0                     24.0   \n",
       "Ayamonte                                     1341.0                      9.0   \n",
       "Palos de la Frontera                          729.0                     22.0   \n",
       "Moguer                                       1406.0                     39.0   \n",
       "Palma del Condado (La)                       1195.0                     15.0   \n",
       "Bonares                                       299.0                      8.0   \n",
       "Cartaya                                      1404.0                     29.0   \n",
       "Cerro de Andévalo (El)                        154.0                      6.0   \n",
       "Gibraleón                                     653.0                      8.0   \n",
       "Punta Umbría                                  855.0                     13.0   \n",
       "Manzanilla                                    107.0                      3.0   \n",
       "Jabugo                                         66.0                      1.0   \n",
       "Paymogo                                        76.0                      1.0   \n",
       "Villalba del Alcor                            482.0                      1.0   \n",
       "Cortegana                                     215.0                      1.0   \n",
       "Campillo (El)                                  74.0                      1.0   \n",
       "Santa Ana la Real                              11.0                      1.0   \n",
       "Villanueva de los Castillejos                 165.0                      1.0   \n",
       "\n",
       "Medida                             Confirmados PDIA 14 días  Población  \\\n",
       "Lugar de residencia                                                      \n",
       "Calañas                                                 9.0     2768.0   \n",
       "Puebla de Guzmán                                       12.0     3092.0   \n",
       "Villablanca                                             5.0     2885.0   \n",
       "San Bartolomé de la Torre                               5.0     3761.0   \n",
       "Lucena del Puerto                                       8.0     3261.0   \n",
       "Valverde del Camino                                    43.0    12750.0   \n",
       "Almonte                                                55.0    24507.0   \n",
       "Aracena                                                 7.0     8255.0   \n",
       "Niebla                                                  7.0     4116.0   \n",
       "Bollullos Par del Condado                              24.0    14387.0   \n",
       "Alosno                                                 10.0     3933.0   \n",
       "Beas                                                   19.0     4341.0   \n",
       "Sierra de Huelva-Andévalo Central                      83.0    67391.0   \n",
       "Almendro (El)                                           3.0      840.0   \n",
       "Rociana del Condado                                    17.0     7939.0   \n",
       "Trigueros                                              11.0     7862.0   \n",
       "Huelva (capital)                                      348.0   143837.0   \n",
       "Huelva-Costa                                          542.0   289548.0   \n",
       "Huelva                                                985.0   513170.0   \n",
       "Condado-Campiña                                       357.0   156231.0   \n",
       "Isla Cristina                                          28.0    21393.0   \n",
       "Lepe                                                   29.0    27880.0   \n",
       "Nerva                                                   2.0     5169.0   \n",
       "Aljaraque                                              24.0    21474.0   \n",
       "Almonaster la Real                                      4.0     1788.0   \n",
       "San Juan del Puerto                                    48.0     9411.0   \n",
       "Ayamonte                                               16.0    21104.0   \n",
       "Palos de la Frontera                                   39.0    11742.0   \n",
       "Moguer                                                 68.0    21867.0   \n",
       "Palma del Condado (La)                                 26.0    10801.0   \n",
       "Bonares                                                13.0     6060.0   \n",
       "Cartaya                                                46.0    20083.0   \n",
       "Cerro de Andévalo (El)                                  9.0     2327.0   \n",
       "Gibraleón                                              12.0    12737.0   \n",
       "Punta Umbría                                           18.0    15355.0   \n",
       "Manzanilla                                              4.0     2118.0   \n",
       "Jabugo                                                  1.0     2260.0   \n",
       "Paymogo                                                 1.0     1162.0   \n",
       "Villalba del Alcor                                      1.0     3366.0   \n",
       "Cortegana                                               1.0     4602.0   \n",
       "Campillo (El)                                           1.0     2024.0   \n",
       "Santa Ana la Real                                       1.0      475.0   \n",
       "Villanueva de los Castillejos                           1.0     2825.0   \n",
       "\n",
       "Medida                                  tasa7      tasa14  Diferencia PDIA  \\\n",
       "Lugar de residencia                                                          \n",
       "Calañas                             36.127168  325.144509              0.0   \n",
       "Puebla de Guzmán                    64.683053  388.098318              0.0   \n",
       "Villablanca                         34.662045  173.310225              1.0   \n",
       "San Bartolomé de la Torre           26.588673  132.943366              0.0   \n",
       "Lucena del Puerto                   61.330880  245.323520              0.0   \n",
       "Valverde del Camino                 86.274510  337.254902              1.0   \n",
       "Almonte                             61.207002  224.425674              1.0   \n",
       "Aracena                             24.227741   84.797093              0.0   \n",
       "Niebla                              48.590865  170.068027              0.0   \n",
       "Bollullos Par del Condado           48.655036  166.817266              1.0   \n",
       "Alosno                              76.277651  254.258835              0.0   \n",
       "Beas                               138.217001  437.687169              0.0   \n",
       "Sierra de Huelva-Andévalo Central   40.064697  123.161847              4.0   \n",
       "Almendro (El)                      119.047619  357.142857              0.0   \n",
       "Rociana del Condado                 75.576269  214.132762              3.0   \n",
       "Trigueros                           50.877639  139.913508              1.0   \n",
       "Huelva (capital)                    89.684852  241.940530             11.0   \n",
       "Huelva-Costa                        78.743421  187.188307             49.0   \n",
       "Huelva                              81.649356  191.944190             76.0   \n",
       "Condado-Campiña                    104.332687  228.507787             23.0   \n",
       "Isla Cristina                       60.767541  130.883934              5.0   \n",
       "Lepe                                50.215208  104.017217              5.0   \n",
       "Nerva                               19.346102   38.692204              0.0   \n",
       "Aljaraque                           55.881531  111.763062              8.0   \n",
       "Almonaster la Real                 111.856823  223.713647              0.0   \n",
       "San Juan del Puerto                255.020720  510.041441              2.0   \n",
       "Ayamonte                            42.645944   75.815011              3.0   \n",
       "Palos de la Frontera               187.361608  332.141032              4.0   \n",
       "Moguer                             178.350940  310.970869             10.0   \n",
       "Palma del Condado (La)             138.876030  240.718452              0.0   \n",
       "Bonares                            132.013201  214.521452              1.0   \n",
       "Cartaya                            144.400737  229.049445             10.0   \n",
       "Cerro de Andévalo (El)             257.842716  386.764074              0.0   \n",
       "Gibraleón                           62.809139   94.213708              0.0   \n",
       "Punta Umbría                        84.662976  117.225659              3.0   \n",
       "Manzanilla                         141.643059  188.857413              0.0   \n",
       "Jabugo                              44.247788   44.247788              0.0   \n",
       "Paymogo                             86.058520   86.058520              0.0   \n",
       "Villalba del Alcor                  29.708853   29.708853              0.0   \n",
       "Cortegana                           21.729683   21.729683              0.0   \n",
       "Campillo (El)                       49.407115   49.407115              0.0   \n",
       "Santa Ana la Real                  210.526316  210.526316              0.0   \n",
       "Villanueva de los Castillejos       35.398230   35.398230              0.0   \n",
       "\n",
       "Medida                                 7/14  \n",
       "Lugar de residencia                          \n",
       "Calañas                            0.111111  \n",
       "Puebla de Guzmán                   0.166667  \n",
       "Villablanca                        0.200000  \n",
       "San Bartolomé de la Torre          0.200000  \n",
       "Lucena del Puerto                  0.250000  \n",
       "Valverde del Camino                0.255814  \n",
       "Almonte                            0.272727  \n",
       "Aracena                            0.285714  \n",
       "Niebla                             0.285714  \n",
       "Bollullos Par del Condado          0.291667  \n",
       "Alosno                             0.300000  \n",
       "Beas                               0.315789  \n",
       "Sierra de Huelva-Andévalo Central  0.325301  \n",
       "Almendro (El)                      0.333333  \n",
       "Rociana del Condado                0.352941  \n",
       "Trigueros                          0.363636  \n",
       "Huelva (capital)                   0.370690  \n",
       "Huelva-Costa                       0.420664  \n",
       "Huelva                             0.425381  \n",
       "Condado-Campiña                    0.456583  \n",
       "Isla Cristina                      0.464286  \n",
       "Lepe                               0.482759  \n",
       "Nerva                              0.500000  \n",
       "Aljaraque                          0.500000  \n",
       "Almonaster la Real                 0.500000  \n",
       "San Juan del Puerto                0.500000  \n",
       "Ayamonte                           0.562500  \n",
       "Palos de la Frontera               0.564103  \n",
       "Moguer                             0.573529  \n",
       "Palma del Condado (La)             0.576923  \n",
       "Bonares                            0.615385  \n",
       "Cartaya                            0.630435  \n",
       "Cerro de Andévalo (El)             0.666667  \n",
       "Gibraleón                          0.666667  \n",
       "Punta Umbría                       0.722222  \n",
       "Manzanilla                         0.750000  \n",
       "Jabugo                             1.000000  \n",
       "Paymogo                            1.000000  \n",
       "Villalba del Alcor                 1.000000  \n",
       "Cortegana                          1.000000  \n",
       "Campillo (El)                      1.000000  \n",
       "Santa Ana la Real                  1.000000  \n",
       "Villanueva de los Castillejos      1.000000  "
      ],
      "text/html": "<div>\n<style scoped>\n    .dataframe tbody tr th:only-of-type {\n        vertical-align: middle;\n    }\n\n    .dataframe tbody tr th {\n        vertical-align: top;\n    }\n\n    .dataframe thead th {\n        text-align: right;\n    }\n</style>\n<table border=\"1\" class=\"dataframe\">\n  <thead>\n    <tr style=\"text-align: right;\">\n      <th>Medida</th>\n      <th>Confirmados PDIA</th>\n      <th>Confirmados PDIA 7 días</th>\n      <th>Confirmados PDIA 14 días</th>\n      <th>Población</th>\n      <th>tasa7</th>\n      <th>tasa14</th>\n      <th>Diferencia PDIA</th>\n      <th>7/14</th>\n    </tr>\n    <tr>\n      <th>Lugar de residencia</th>\n      <th></th>\n      <th></th>\n      <th></th>\n      <th></th>\n      <th></th>\n      <th></th>\n      <th></th>\n      <th></th>\n    </tr>\n  </thead>\n  <tbody>\n    <tr>\n      <th>Calañas</th>\n      <td>201.0</td>\n      <td>1.0</td>\n      <td>9.0</td>\n      <td>2768.0</td>\n      <td>36.127168</td>\n      <td>325.144509</td>\n      <td>0.0</td>\n      <td>0.111111</td>\n    </tr>\n    <tr>\n      <th>Puebla de Guzmán</th>\n      <td>141.0</td>\n      <td>2.0</td>\n      <td>12.0</td>\n      <td>3092.0</td>\n      <td>64.683053</td>\n      <td>388.098318</td>\n      <td>0.0</td>\n      <td>0.166667</td>\n    </tr>\n    <tr>\n      <th>Villablanca</th>\n      <td>192.0</td>\n      <td>1.0</td>\n      <td>5.0</td>\n      <td>2885.0</td>\n      <td>34.662045</td>\n      <td>173.310225</td>\n      <td>1.0</td>\n      <td>0.200000</td>\n    </tr>\n    <tr>\n      <th>San Bartolomé de la Torre</th>\n      <td>307.0</td>\n      <td>1.0</td>\n      <td>5.0</td>\n      <td>3761.0</td>\n      <td>26.588673</td>\n      <td>132.943366</td>\n      <td>0.0</td>\n      <td>0.200000</td>\n    </tr>\n    <tr>\n      <th>Lucena del Puerto</th>\n      <td>267.0</td>\n      <td>2.0</td>\n      <td>8.0</td>\n      <td>3261.0</td>\n      <td>61.330880</td>\n      <td>245.323520</td>\n      <td>0.0</td>\n      <td>0.250000</td>\n    </tr>\n    <tr>\n      <th>Valverde del Camino</th>\n      <td>664.0</td>\n      <td>11.0</td>\n      <td>43.0</td>\n      <td>12750.0</td>\n      <td>86.274510</td>\n      <td>337.254902</td>\n      <td>1.0</td>\n      <td>0.255814</td>\n    </tr>\n    <tr>\n      <th>Almonte</th>\n      <td>1916.0</td>\n      <td>15.0</td>\n      <td>55.0</td>\n      <td>24507.0</td>\n      <td>61.207002</td>\n      <td>224.425674</td>\n      <td>1.0</td>\n      <td>0.272727</td>\n    </tr>\n    <tr>\n      <th>Aracena</th>\n      <td>541.0</td>\n      <td>2.0</td>\n      <td>7.0</td>\n      <td>8255.0</td>\n      <td>24.227741</td>\n      <td>84.797093</td>\n      <td>0.0</td>\n      <td>0.285714</td>\n    </tr>\n    <tr>\n      <th>Niebla</th>\n      <td>249.0</td>\n      <td>2.0</td>\n      <td>7.0</td>\n      <td>4116.0</td>\n      <td>48.590865</td>\n      <td>170.068027</td>\n      <td>0.0</td>\n      <td>0.285714</td>\n    </tr>\n    <tr>\n      <th>Bollullos Par del Condado</th>\n      <td>1033.0</td>\n      <td>7.0</td>\n      <td>24.0</td>\n      <td>14387.0</td>\n      <td>48.655036</td>\n      <td>166.817266</td>\n      <td>1.0</td>\n      <td>0.291667</td>\n    </tr>\n    <tr>\n      <th>Alosno</th>\n      <td>182.0</td>\n      <td>3.0</td>\n      <td>10.0</td>\n      <td>3933.0</td>\n      <td>76.277651</td>\n      <td>254.258835</td>\n      <td>0.0</td>\n      <td>0.300000</td>\n    </tr>\n    <tr>\n      <th>Beas</th>\n      <td>232.0</td>\n      <td>6.0</td>\n      <td>19.0</td>\n      <td>4341.0</td>\n      <td>138.217001</td>\n      <td>437.687169</td>\n      <td>0.0</td>\n      <td>0.315789</td>\n    </tr>\n    <tr>\n      <th>Sierra de Huelva-Andévalo Central</th>\n      <td>2934.0</td>\n      <td>27.0</td>\n      <td>83.0</td>\n      <td>67391.0</td>\n      <td>40.064697</td>\n      <td>123.161847</td>\n      <td>4.0</td>\n      <td>0.325301</td>\n    </tr>\n    <tr>\n      <th>Almendro (El)</th>\n      <td>39.0</td>\n      <td>1.0</td>\n      <td>3.0</td>\n      <td>840.0</td>\n      <td>119.047619</td>\n      <td>357.142857</td>\n      <td>0.0</td>\n      <td>0.333333</td>\n    </tr>\n    <tr>\n      <th>Rociana del Condado</th>\n      <td>575.0</td>\n      <td>6.0</td>\n      <td>17.0</td>\n      <td>7939.0</td>\n      <td>75.576269</td>\n      <td>214.132762</td>\n      <td>3.0</td>\n      <td>0.352941</td>\n    </tr>\n    <tr>\n      <th>Trigueros</th>\n      <td>334.0</td>\n      <td>4.0</td>\n      <td>11.0</td>\n      <td>7862.0</td>\n      <td>50.877639</td>\n      <td>139.913508</td>\n      <td>1.0</td>\n      <td>0.363636</td>\n    </tr>\n    <tr>\n      <th>Huelva (capital)</th>\n      <td>9102.0</td>\n      <td>129.0</td>\n      <td>348.0</td>\n      <td>143837.0</td>\n      <td>89.684852</td>\n      <td>241.940530</td>\n      <td>11.0</td>\n      <td>0.370690</td>\n    </tr>\n    <tr>\n      <th>Huelva-Costa</th>\n      <td>19162.0</td>\n      <td>228.0</td>\n      <td>542.0</td>\n      <td>289548.0</td>\n      <td>78.743421</td>\n      <td>187.188307</td>\n      <td>49.0</td>\n      <td>0.420664</td>\n    </tr>\n    <tr>\n      <th>Huelva</th>\n      <td>33282.0</td>\n      <td>419.0</td>\n      <td>985.0</td>\n      <td>513170.0</td>\n      <td>81.649356</td>\n      <td>191.944190</td>\n      <td>76.0</td>\n      <td>0.425381</td>\n    </tr>\n    <tr>\n      <th>Condado-Campiña</th>\n      <td>10833.0</td>\n      <td>163.0</td>\n      <td>357.0</td>\n      <td>156231.0</td>\n      <td>104.332687</td>\n      <td>228.507787</td>\n      <td>23.0</td>\n      <td>0.456583</td>\n    </tr>\n    <tr>\n      <th>Isla Cristina</th>\n      <td>2187.0</td>\n      <td>13.0</td>\n      <td>28.0</td>\n      <td>21393.0</td>\n      <td>60.767541</td>\n      <td>130.883934</td>\n      <td>5.0</td>\n      <td>0.464286</td>\n    </tr>\n    <tr>\n      <th>Lepe</th>\n      <td>2175.0</td>\n      <td>14.0</td>\n      <td>29.0</td>\n      <td>27880.0</td>\n      <td>50.215208</td>\n      <td>104.017217</td>\n      <td>5.0</td>\n      <td>0.482759</td>\n    </tr>\n    <tr>\n      <th>Nerva</th>\n      <td>180.0</td>\n      <td>1.0</td>\n      <td>2.0</td>\n      <td>5169.0</td>\n      <td>19.346102</td>\n      <td>38.692204</td>\n      <td>0.0</td>\n      <td>0.500000</td>\n    </tr>\n    <tr>\n      <th>Aljaraque</th>\n      <td>1171.0</td>\n      <td>12.0</td>\n      <td>24.0</td>\n      <td>21474.0</td>\n      <td>55.881531</td>\n      <td>111.763062</td>\n      <td>8.0</td>\n      <td>0.500000</td>\n    </tr>\n    <tr>\n      <th>Almonaster la Real</th>\n      <td>70.0</td>\n      <td>2.0</td>\n      <td>4.0</td>\n      <td>1788.0</td>\n      <td>111.856823</td>\n      <td>223.713647</td>\n      <td>0.0</td>\n      <td>0.500000</td>\n    </tr>\n    <tr>\n      <th>San Juan del Puerto</th>\n      <td>586.0</td>\n      <td>24.0</td>\n      <td>48.0</td>\n      <td>9411.0</td>\n      <td>255.020720</td>\n      <td>510.041441</td>\n      <td>2.0</td>\n      <td>0.500000</td>\n    </tr>\n    <tr>\n      <th>Ayamonte</th>\n      <td>1341.0</td>\n      <td>9.0</td>\n      <td>16.0</td>\n      <td>21104.0</td>\n      <td>42.645944</td>\n      <td>75.815011</td>\n      <td>3.0</td>\n      <td>0.562500</td>\n    </tr>\n    <tr>\n      <th>Palos de la Frontera</th>\n      <td>729.0</td>\n      <td>22.0</td>\n      <td>39.0</td>\n      <td>11742.0</td>\n      <td>187.361608</td>\n      <td>332.141032</td>\n      <td>4.0</td>\n      <td>0.564103</td>\n    </tr>\n    <tr>\n      <th>Moguer</th>\n      <td>1406.0</td>\n      <td>39.0</td>\n      <td>68.0</td>\n      <td>21867.0</td>\n      <td>178.350940</td>\n      <td>310.970869</td>\n      <td>10.0</td>\n      <td>0.573529</td>\n    </tr>\n    <tr>\n      <th>Palma del Condado (La)</th>\n      <td>1195.0</td>\n      <td>15.0</td>\n      <td>26.0</td>\n      <td>10801.0</td>\n      <td>138.876030</td>\n      <td>240.718452</td>\n      <td>0.0</td>\n      <td>0.576923</td>\n    </tr>\n    <tr>\n      <th>Bonares</th>\n      <td>299.0</td>\n      <td>8.0</td>\n      <td>13.0</td>\n      <td>6060.0</td>\n      <td>132.013201</td>\n      <td>214.521452</td>\n      <td>1.0</td>\n      <td>0.615385</td>\n    </tr>\n    <tr>\n      <th>Cartaya</th>\n      <td>1404.0</td>\n      <td>29.0</td>\n      <td>46.0</td>\n      <td>20083.0</td>\n      <td>144.400737</td>\n      <td>229.049445</td>\n      <td>10.0</td>\n      <td>0.630435</td>\n    </tr>\n    <tr>\n      <th>Cerro de Andévalo (El)</th>\n      <td>154.0</td>\n      <td>6.0</td>\n      <td>9.0</td>\n      <td>2327.0</td>\n      <td>257.842716</td>\n      <td>386.764074</td>\n      <td>0.0</td>\n      <td>0.666667</td>\n    </tr>\n    <tr>\n      <th>Gibraleón</th>\n      <td>653.0</td>\n      <td>8.0</td>\n      <td>12.0</td>\n      <td>12737.0</td>\n      <td>62.809139</td>\n      <td>94.213708</td>\n      <td>0.0</td>\n      <td>0.666667</td>\n    </tr>\n    <tr>\n      <th>Punta Umbría</th>\n      <td>855.0</td>\n      <td>13.0</td>\n      <td>18.0</td>\n      <td>15355.0</td>\n      <td>84.662976</td>\n      <td>117.225659</td>\n      <td>3.0</td>\n      <td>0.722222</td>\n    </tr>\n    <tr>\n      <th>Manzanilla</th>\n      <td>107.0</td>\n      <td>3.0</td>\n      <td>4.0</td>\n      <td>2118.0</td>\n      <td>141.643059</td>\n      <td>188.857413</td>\n      <td>0.0</td>\n      <td>0.750000</td>\n    </tr>\n    <tr>\n      <th>Jabugo</th>\n      <td>66.0</td>\n      <td>1.0</td>\n      <td>1.0</td>\n      <td>2260.0</td>\n      <td>44.247788</td>\n      <td>44.247788</td>\n      <td>0.0</td>\n      <td>1.000000</td>\n    </tr>\n    <tr>\n      <th>Paymogo</th>\n      <td>76.0</td>\n      <td>1.0</td>\n      <td>1.0</td>\n      <td>1162.0</td>\n      <td>86.058520</td>\n      <td>86.058520</td>\n      <td>0.0</td>\n      <td>1.000000</td>\n    </tr>\n    <tr>\n      <th>Villalba del Alcor</th>\n      <td>482.0</td>\n      <td>1.0</td>\n      <td>1.0</td>\n      <td>3366.0</td>\n      <td>29.708853</td>\n      <td>29.708853</td>\n      <td>0.0</td>\n      <td>1.000000</td>\n    </tr>\n    <tr>\n      <th>Cortegana</th>\n      <td>215.0</td>\n      <td>1.0</td>\n      <td>1.0</td>\n      <td>4602.0</td>\n      <td>21.729683</td>\n      <td>21.729683</td>\n      <td>0.0</td>\n      <td>1.000000</td>\n    </tr>\n    <tr>\n      <th>Campillo (El)</th>\n      <td>74.0</td>\n      <td>1.0</td>\n      <td>1.0</td>\n      <td>2024.0</td>\n      <td>49.407115</td>\n      <td>49.407115</td>\n      <td>0.0</td>\n      <td>1.000000</td>\n    </tr>\n    <tr>\n      <th>Santa Ana la Real</th>\n      <td>11.0</td>\n      <td>1.0</td>\n      <td>1.0</td>\n      <td>475.0</td>\n      <td>210.526316</td>\n      <td>210.526316</td>\n      <td>0.0</td>\n      <td>1.000000</td>\n    </tr>\n    <tr>\n      <th>Villanueva de los Castillejos</th>\n      <td>165.0</td>\n      <td>1.0</td>\n      <td>1.0</td>\n      <td>2825.0</td>\n      <td>35.398230</td>\n      <td>35.398230</td>\n      <td>0.0</td>\n      <td>1.000000</td>\n    </tr>\n  </tbody>\n</table>\n</div>"
     },
     "metadata": {},
     "execution_count": 18
    }
   ],
   "source": [
    "# Peso de la tasa de la última semana en relación con la tasa a 14 días \n",
    "# Mejor cuanto menor. Valor 1 significa que no había casos antes de 7 días.\n",
    "tabla['7/14'] = tabla['tasa7'] / tabla['tasa14']\n",
    "tabla.fillna(0).sort_values('7/14', ascending=True)"
   ]
  },
  {
   "cell_type": "code",
   "execution_count": null,
   "metadata": {},
   "outputs": [],
   "source": []
  }
 ]
}