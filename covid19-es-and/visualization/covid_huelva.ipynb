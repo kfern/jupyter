{
 "metadata": {
  "language_info": {
   "codemirror_mode": {
    "name": "ipython",
    "version": 3
   },
   "file_extension": ".py",
   "mimetype": "text/x-python",
   "name": "python",
   "nbconvert_exporter": "python",
   "pygments_lexer": "ipython3",
   "version": "3.6.9-final"
  },
  "orig_nbformat": 2,
  "kernelspec": {
   "name": "python3",
   "display_name": "Python 3.6.9 64-bit",
   "metadata": {
    "interpreter": {
     "hash": "31f2aee4e71d21fbe5cf8b01ff0e069b9275f58929596ceb00d14d90e3e16cd6"
    }
   }
  }
 },
 "nbformat": 4,
 "nbformat_minor": 2,
 "cells": [
  {
   "cell_type": "code",
   "execution_count": 1,
   "metadata": {},
   "outputs": [],
   "source": [
    "import pandas as pd"
   ]
  },
  {
   "cell_type": "code",
   "execution_count": 2,
   "metadata": {},
   "outputs": [],
   "source": [
    "# FIX SSL: CERTIFICATE_VERIFY_FAILED with Python3\n",
    "# https://stackoverflow.com/a/49174340\n",
    "import ssl\n",
    "\n",
    "ssl._create_default_https_context = ssl._create_unverified_context"
   ]
  },
  {
   "cell_type": "code",
   "execution_count": 3,
   "metadata": {},
   "outputs": [],
   "source": [
    "url = 'https://www.juntadeandalucia.es/institutodeestadisticaycartografia/badea/stpivot/stpivot/Print?cube=013d884c-cfc5-4c21-9e78-e26225682afd&type=3&foto=si&ejecutaDesde=&codConsulta=38668&consTipoVisua=JP'\n",
    "fields = ['Lugar de residencia', 'Medida', 'Valor']\n",
    "df = pd.read_csv(url, delimiter=';', usecols=fields, decimal=',')"
   ]
  },
  {
   "cell_type": "code",
   "execution_count": 4,
   "metadata": {},
   "outputs": [
    {
     "output_type": "execute_result",
     "data": {
      "text/plain": [
       "                     Lugar de residencia                    Medida  \\\n",
       "0                                 Huelva                 Población   \n",
       "1                                 Huelva          Confirmados PDIA   \n",
       "2                                 Huelva  Confirmados PDIA 14 días   \n",
       "3                                 Huelva         Tasa PDIA 14 días   \n",
       "4                                 Huelva   Confirmados PDIA 7 días   \n",
       "..                                   ...                       ...   \n",
       "627  Municipio de Huelva sin especificar         Tasa PDIA 14 días   \n",
       "628  Municipio de Huelva sin especificar   Confirmados PDIA 7 días   \n",
       "629  Municipio de Huelva sin especificar        Total Confirmados    \n",
       "630  Municipio de Huelva sin especificar                   Curados   \n",
       "631  Municipio de Huelva sin especificar                Fallecidos   \n",
       "\n",
       "                  Valor  \n",
       "0                510743  \n",
       "1                 10662  \n",
       "2                  1028  \n",
       "3    201,27539682384293  \n",
       "4                   432  \n",
       "..                  ...  \n",
       "627                   -  \n",
       "628                   6  \n",
       "629                 128  \n",
       "630                  99  \n",
       "631                   1  \n",
       "\n",
       "[632 rows x 3 columns]"
      ],
      "text/html": "<div>\n<style scoped>\n    .dataframe tbody tr th:only-of-type {\n        vertical-align: middle;\n    }\n\n    .dataframe tbody tr th {\n        vertical-align: top;\n    }\n\n    .dataframe thead th {\n        text-align: right;\n    }\n</style>\n<table border=\"1\" class=\"dataframe\">\n  <thead>\n    <tr style=\"text-align: right;\">\n      <th></th>\n      <th>Lugar de residencia</th>\n      <th>Medida</th>\n      <th>Valor</th>\n    </tr>\n  </thead>\n  <tbody>\n    <tr>\n      <th>0</th>\n      <td>Huelva</td>\n      <td>Población</td>\n      <td>510743</td>\n    </tr>\n    <tr>\n      <th>1</th>\n      <td>Huelva</td>\n      <td>Confirmados PDIA</td>\n      <td>10662</td>\n    </tr>\n    <tr>\n      <th>2</th>\n      <td>Huelva</td>\n      <td>Confirmados PDIA 14 días</td>\n      <td>1028</td>\n    </tr>\n    <tr>\n      <th>3</th>\n      <td>Huelva</td>\n      <td>Tasa PDIA 14 días</td>\n      <td>201,27539682384293</td>\n    </tr>\n    <tr>\n      <th>4</th>\n      <td>Huelva</td>\n      <td>Confirmados PDIA 7 días</td>\n      <td>432</td>\n    </tr>\n    <tr>\n      <th>...</th>\n      <td>...</td>\n      <td>...</td>\n      <td>...</td>\n    </tr>\n    <tr>\n      <th>627</th>\n      <td>Municipio de Huelva sin especificar</td>\n      <td>Tasa PDIA 14 días</td>\n      <td>-</td>\n    </tr>\n    <tr>\n      <th>628</th>\n      <td>Municipio de Huelva sin especificar</td>\n      <td>Confirmados PDIA 7 días</td>\n      <td>6</td>\n    </tr>\n    <tr>\n      <th>629</th>\n      <td>Municipio de Huelva sin especificar</td>\n      <td>Total Confirmados</td>\n      <td>128</td>\n    </tr>\n    <tr>\n      <th>630</th>\n      <td>Municipio de Huelva sin especificar</td>\n      <td>Curados</td>\n      <td>99</td>\n    </tr>\n    <tr>\n      <th>631</th>\n      <td>Municipio de Huelva sin especificar</td>\n      <td>Fallecidos</td>\n      <td>1</td>\n    </tr>\n  </tbody>\n</table>\n<p>632 rows × 3 columns</p>\n</div>"
     },
     "metadata": {},
     "execution_count": 4
    }
   ],
   "source": [
    "df"
   ]
  },
  {
   "cell_type": "code",
   "execution_count": 5,
   "metadata": {},
   "outputs": [],
   "source": [
    "df['Valor'] = pd.to_numeric(df['Valor'],errors='coerce')"
   ]
  },
  {
   "cell_type": "code",
   "execution_count": 6,
   "metadata": {},
   "outputs": [],
   "source": [
    "dfAnterior = pd.read_csv('covid_huelva.csv', index_col='Lugar de residencia')"
   ]
  },
  {
   "cell_type": "code",
   "execution_count": 7,
   "metadata": {
    "tags": []
   },
   "outputs": [
    {
     "output_type": "stream",
     "name": "stdout",
     "text": [
      "Confirmados PCR en la provincia de Huelva:  10662.0\n"
     ]
    }
   ],
   "source": [
    "# Confirmados PCR provincia Huelva\n",
    "p = df[df['Lugar de residencia'] == 'Huelva'][df['Medida'] == 'Confirmados PDIA']['Valor'].values[0]\n",
    "print('Confirmados PCR en la provincia de Huelva: ', p)"
   ]
  },
  {
   "cell_type": "code",
   "execution_count": 8,
   "metadata": {
    "tags": []
   },
   "outputs": [
    {
     "output_type": "stream",
     "name": "stdout",
     "text": [
      "Confirmados PCR en Huelva capital:  3006.0\n"
     ]
    }
   ],
   "source": [
    "# Confirmados PCR Huelva capitalpd\n",
    "c = df[df['Lugar de residencia'] == 'Huelva (capital)'][df['Medida'] == 'Confirmados PDIA']['Valor'].values[0]\n",
    "print('Confirmados PCR en Huelva capital: ', c)"
   ]
  },
  {
   "cell_type": "code",
   "execution_count": 9,
   "metadata": {
    "tags": []
   },
   "outputs": [],
   "source": [
    "c7 = df[df['Lugar de residencia'] == 'Huelva (capital)'][df['Medida'] == 'Confirmados PDIA 7 días']['Valor'].values[0]\n",
    "c14 = df[df['Lugar de residencia'] == 'Huelva (capital)'][df['Medida'] == 'Confirmados PDIA 14 días']['Valor'].values[0]\n",
    "p = df[df['Lugar de residencia'] == 'Huelva (capital)'][df['Medida'] == 'Población']['Valor'].values[0]"
   ]
  },
  {
   "cell_type": "code",
   "execution_count": 10,
   "metadata": {
    "tags": []
   },
   "outputs": [
    {
     "output_type": "stream",
     "name": "stdout",
     "text": [
      "Huelva (capital)\n\nUn positivo PCR cada 1131 personas en los últimos 7 días \n\nUn positivo PCR cada 490 personas en los últimos 14 días\n"
     ]
    }
   ],
   "source": [
    "print('Huelva (capital)\\n')\n",
    "#print('Confirmados PCR 7 días x 1,000 habitantes: ', f\"{c7/(p/1000):.5f}\")\n",
    "print('Un positivo PCR cada', f\"{p/c7:.0f}\", 'personas en los últimos 7 días', '\\n')\n",
    "#print('Confirmados PCR 14 días x 1,000 habitantes: ', f\"{c14/(p/1000):.5f}\")\n",
    "print('Un positivo PCR cada', f\"{p/c14:.0f}\", 'personas en los últimos 14 días')"
   ]
  },
  {
   "cell_type": "code",
   "execution_count": 11,
   "metadata": {},
   "outputs": [],
   "source": [
    "filtro = ((df['Medida'] == 'Confirmados PDIA')| (df['Medida'] == 'Confirmados PDIA 7 días') | (df['Medida'] == 'Población' ) | (df['Medida'] == 'Confirmados PDIA 14 días')) & (df['Valor'] > 0)\n",
    "tabla = pd.pivot_table(df.loc[filtro], values='Valor', index='Lugar de residencia', columns='Medida').dropna()"
   ]
  },
  {
   "cell_type": "code",
   "execution_count": 12,
   "metadata": {},
   "outputs": [],
   "source": [
    "# Reorder columns\n",
    "tabla = tabla[['Confirmados PDIA', 'Confirmados PDIA 7 días', 'Confirmados PDIA 14 días', 'Población']]"
   ]
  },
  {
   "cell_type": "code",
   "execution_count": 13,
   "metadata": {},
   "outputs": [],
   "source": [
    "tabla['tasa7'] = tabla['Confirmados PDIA 7 días']/tabla['Población']*100000\n",
    "tabla['tasa14'] = tabla['Confirmados PDIA 14 días']/tabla['Población']*100000"
   ]
  },
  {
   "cell_type": "code",
   "execution_count": 14,
   "metadata": {},
   "outputs": [],
   "source": [
    "tabla['Diferencia PDIA'] = tabla['Confirmados PDIA'] - dfAnterior['Confirmados PDIA']"
   ]
  },
  {
   "cell_type": "code",
   "execution_count": 15,
   "metadata": {},
   "outputs": [
    {
     "output_type": "execute_result",
     "data": {
      "text/plain": [
       "Medida                             Confirmados PDIA  Confirmados PDIA 7 días  \\\n",
       "Lugar de residencia                                                            \n",
       "Huelva                                      10662.0                    432.0   \n",
       "Huelva-Costa                                 5966.0                    261.0   \n",
       "Condado-Campiña                              3291.0                    149.0   \n",
       "Huelva (capital)                             3006.0                    127.0   \n",
       "Lepe                                          940.0                     39.0   \n",
       "Palma del Condado (La)                        517.0                     42.0   \n",
       "Moguer                                        359.0                     23.0   \n",
       "Cartaya                                       370.0                     22.0   \n",
       "Isla Cristina                                 405.0                     30.0   \n",
       "Sierra de Huelva-Andévalo Central            1278.0                     16.0   \n",
       "Bollullos Par del Condado                     249.0                     16.0   \n",
       "Lucena del Puerto                              93.0                     11.0   \n",
       "Palos de la Frontera                          230.0                     16.0   \n",
       "Aljaraque                                     406.0                     21.0   \n",
       "San Juan del Puerto                           153.0                     15.0   \n",
       "Ayamonte                                      326.0                      9.0   \n",
       "Jabugo                                         41.0                      6.0   \n",
       "Bonares                                        48.0                      6.0   \n",
       "Paterna del Campo                              64.0                      4.0   \n",
       "Trigueros                                     131.0                      4.0   \n",
       "Almonte                                       437.0                      4.0   \n",
       "Punta Umbría                                  231.0                      5.0   \n",
       "Alosno                                         44.0                      3.0   \n",
       "Valverde del Camino                           273.0                      2.0   \n",
       "Minas de Riotinto                              67.0                      1.0   \n",
       "San Bartolomé de la Torre                      45.0                      1.0   \n",
       "Aroche                                         55.0                      3.0   \n",
       "Cortegana                                     122.0                      1.0   \n",
       "Granado (El)                                   37.0                      1.0   \n",
       "Villablanca                                    55.0                      1.0   \n",
       "Zalamea la Real                                48.0                      2.0   \n",
       "\n",
       "Medida                             Confirmados PDIA 14 días  Población  \\\n",
       "Lugar de residencia                                                      \n",
       "Huelva                                               1028.0   510743.0   \n",
       "Huelva-Costa                                          657.0   288115.0   \n",
       "Condado-Campiña                                       317.0   155057.0   \n",
       "Huelva (capital)                                      293.0   143663.0   \n",
       "Lepe                                                   95.0    27431.0   \n",
       "Palma del Condado (La)                                 84.0    10761.0   \n",
       "Moguer                                                 62.0    22088.0   \n",
       "Cartaya                                                63.0    19974.0   \n",
       "Isla Cristina                                         108.0    21264.0   \n",
       "Sierra de Huelva-Andévalo Central                      47.0    67571.0   \n",
       "Bollullos Par del Condado                              19.0    14272.0   \n",
       "Lucena del Puerto                                      19.0     3371.0   \n",
       "Palos de la Frontera                                   30.0    11289.0   \n",
       "Aljaraque                                              47.0    21260.0   \n",
       "San Juan del Puerto                                    18.0     9300.0   \n",
       "Ayamonte                                               19.0    20946.0   \n",
       "Jabugo                                                  7.0     2250.0   \n",
       "Bonares                                                 8.0     6058.0   \n",
       "Paterna del Campo                                      12.0     3509.0   \n",
       "Trigueros                                               6.0     7713.0   \n",
       "Almonte                                                 9.0    24191.0   \n",
       "Punta Umbría                                           18.0    15242.0   \n",
       "Alosno                                                  3.0     3923.0   \n",
       "Valverde del Camino                                    11.0    12820.0   \n",
       "Minas de Riotinto                                       4.0     3848.0   \n",
       "San Bartolomé de la Torre                              14.0     3736.0   \n",
       "Aroche                                                  5.0     3073.0   \n",
       "Cortegana                                               1.0     4666.0   \n",
       "Granado (El)                                            1.0      516.0   \n",
       "Villablanca                                             1.0     2848.0   \n",
       "Zalamea la Real                                         6.0     3068.0   \n",
       "\n",
       "Medida                                  tasa7      tasa14  Diferencia PDIA  \n",
       "Lugar de residencia                                                         \n",
       "Huelva                              84.582657  201.275397            266.0  \n",
       "Huelva-Costa                        90.588827  228.033945            156.0  \n",
       "Condado-Campiña                     96.093695  204.440948             92.0  \n",
       "Huelva (capital)                    88.401328  203.949521             74.0  \n",
       "Lepe                               142.174912  346.323503             28.0  \n",
       "Palma del Condado (La)             390.298299  780.596599             25.0  \n",
       "Moguer                             104.128939  280.695400             20.0  \n",
       "Cartaya                            110.143186  315.410033             18.0  \n",
       "Isla Cristina                      141.083521  507.900677             17.0  \n",
       "Sierra de Huelva-Andévalo Central   23.678797   69.556467             12.0  \n",
       "Bollullos Par del Condado          112.107623  133.127803             11.0  \n",
       "Lucena del Puerto                  326.312667  563.630970             10.0  \n",
       "Palos de la Frontera               141.730888  265.745416              8.0  \n",
       "Aljaraque                           98.777046  221.072437              7.0  \n",
       "San Juan del Puerto                161.290323  193.548387              6.0  \n",
       "Ayamonte                            42.967631   90.709443              6.0  \n",
       "Jabugo                             266.666667  311.111111              5.0  \n",
       "Bonares                             99.042588  132.056784              3.0  \n",
       "Paterna del Campo                  113.992590  341.977771              3.0  \n",
       "Trigueros                           51.860495   77.790743              3.0  \n",
       "Almonte                             16.535075   37.203919              2.0  \n",
       "Punta Umbría                        32.804094  118.094738              2.0  \n",
       "Alosno                              76.472088   76.472088              2.0  \n",
       "Valverde del Camino                 15.600624   85.803432              2.0  \n",
       "Minas de Riotinto                   25.987526  103.950104              1.0  \n",
       "San Bartolomé de la Torre           26.766595  374.732334              1.0  \n",
       "Aroche                              97.624471  162.707452              1.0  \n",
       "Cortegana                           21.431633   21.431633              NaN  \n",
       "Granado (El)                       193.798450  193.798450              NaN  \n",
       "Villablanca                         35.112360   35.112360              NaN  \n",
       "Zalamea la Real                     65.189048  195.567145              NaN  "
      ],
      "text/html": "<div>\n<style scoped>\n    .dataframe tbody tr th:only-of-type {\n        vertical-align: middle;\n    }\n\n    .dataframe tbody tr th {\n        vertical-align: top;\n    }\n\n    .dataframe thead th {\n        text-align: right;\n    }\n</style>\n<table border=\"1\" class=\"dataframe\">\n  <thead>\n    <tr style=\"text-align: right;\">\n      <th>Medida</th>\n      <th>Confirmados PDIA</th>\n      <th>Confirmados PDIA 7 días</th>\n      <th>Confirmados PDIA 14 días</th>\n      <th>Población</th>\n      <th>tasa7</th>\n      <th>tasa14</th>\n      <th>Diferencia PDIA</th>\n    </tr>\n    <tr>\n      <th>Lugar de residencia</th>\n      <th></th>\n      <th></th>\n      <th></th>\n      <th></th>\n      <th></th>\n      <th></th>\n      <th></th>\n    </tr>\n  </thead>\n  <tbody>\n    <tr>\n      <th>Huelva</th>\n      <td>10662.0</td>\n      <td>432.0</td>\n      <td>1028.0</td>\n      <td>510743.0</td>\n      <td>84.582657</td>\n      <td>201.275397</td>\n      <td>266.0</td>\n    </tr>\n    <tr>\n      <th>Huelva-Costa</th>\n      <td>5966.0</td>\n      <td>261.0</td>\n      <td>657.0</td>\n      <td>288115.0</td>\n      <td>90.588827</td>\n      <td>228.033945</td>\n      <td>156.0</td>\n    </tr>\n    <tr>\n      <th>Condado-Campiña</th>\n      <td>3291.0</td>\n      <td>149.0</td>\n      <td>317.0</td>\n      <td>155057.0</td>\n      <td>96.093695</td>\n      <td>204.440948</td>\n      <td>92.0</td>\n    </tr>\n    <tr>\n      <th>Huelva (capital)</th>\n      <td>3006.0</td>\n      <td>127.0</td>\n      <td>293.0</td>\n      <td>143663.0</td>\n      <td>88.401328</td>\n      <td>203.949521</td>\n      <td>74.0</td>\n    </tr>\n    <tr>\n      <th>Lepe</th>\n      <td>940.0</td>\n      <td>39.0</td>\n      <td>95.0</td>\n      <td>27431.0</td>\n      <td>142.174912</td>\n      <td>346.323503</td>\n      <td>28.0</td>\n    </tr>\n    <tr>\n      <th>Palma del Condado (La)</th>\n      <td>517.0</td>\n      <td>42.0</td>\n      <td>84.0</td>\n      <td>10761.0</td>\n      <td>390.298299</td>\n      <td>780.596599</td>\n      <td>25.0</td>\n    </tr>\n    <tr>\n      <th>Moguer</th>\n      <td>359.0</td>\n      <td>23.0</td>\n      <td>62.0</td>\n      <td>22088.0</td>\n      <td>104.128939</td>\n      <td>280.695400</td>\n      <td>20.0</td>\n    </tr>\n    <tr>\n      <th>Cartaya</th>\n      <td>370.0</td>\n      <td>22.0</td>\n      <td>63.0</td>\n      <td>19974.0</td>\n      <td>110.143186</td>\n      <td>315.410033</td>\n      <td>18.0</td>\n    </tr>\n    <tr>\n      <th>Isla Cristina</th>\n      <td>405.0</td>\n      <td>30.0</td>\n      <td>108.0</td>\n      <td>21264.0</td>\n      <td>141.083521</td>\n      <td>507.900677</td>\n      <td>17.0</td>\n    </tr>\n    <tr>\n      <th>Sierra de Huelva-Andévalo Central</th>\n      <td>1278.0</td>\n      <td>16.0</td>\n      <td>47.0</td>\n      <td>67571.0</td>\n      <td>23.678797</td>\n      <td>69.556467</td>\n      <td>12.0</td>\n    </tr>\n    <tr>\n      <th>Bollullos Par del Condado</th>\n      <td>249.0</td>\n      <td>16.0</td>\n      <td>19.0</td>\n      <td>14272.0</td>\n      <td>112.107623</td>\n      <td>133.127803</td>\n      <td>11.0</td>\n    </tr>\n    <tr>\n      <th>Lucena del Puerto</th>\n      <td>93.0</td>\n      <td>11.0</td>\n      <td>19.0</td>\n      <td>3371.0</td>\n      <td>326.312667</td>\n      <td>563.630970</td>\n      <td>10.0</td>\n    </tr>\n    <tr>\n      <th>Palos de la Frontera</th>\n      <td>230.0</td>\n      <td>16.0</td>\n      <td>30.0</td>\n      <td>11289.0</td>\n      <td>141.730888</td>\n      <td>265.745416</td>\n      <td>8.0</td>\n    </tr>\n    <tr>\n      <th>Aljaraque</th>\n      <td>406.0</td>\n      <td>21.0</td>\n      <td>47.0</td>\n      <td>21260.0</td>\n      <td>98.777046</td>\n      <td>221.072437</td>\n      <td>7.0</td>\n    </tr>\n    <tr>\n      <th>San Juan del Puerto</th>\n      <td>153.0</td>\n      <td>15.0</td>\n      <td>18.0</td>\n      <td>9300.0</td>\n      <td>161.290323</td>\n      <td>193.548387</td>\n      <td>6.0</td>\n    </tr>\n    <tr>\n      <th>Ayamonte</th>\n      <td>326.0</td>\n      <td>9.0</td>\n      <td>19.0</td>\n      <td>20946.0</td>\n      <td>42.967631</td>\n      <td>90.709443</td>\n      <td>6.0</td>\n    </tr>\n    <tr>\n      <th>Jabugo</th>\n      <td>41.0</td>\n      <td>6.0</td>\n      <td>7.0</td>\n      <td>2250.0</td>\n      <td>266.666667</td>\n      <td>311.111111</td>\n      <td>5.0</td>\n    </tr>\n    <tr>\n      <th>Bonares</th>\n      <td>48.0</td>\n      <td>6.0</td>\n      <td>8.0</td>\n      <td>6058.0</td>\n      <td>99.042588</td>\n      <td>132.056784</td>\n      <td>3.0</td>\n    </tr>\n    <tr>\n      <th>Paterna del Campo</th>\n      <td>64.0</td>\n      <td>4.0</td>\n      <td>12.0</td>\n      <td>3509.0</td>\n      <td>113.992590</td>\n      <td>341.977771</td>\n      <td>3.0</td>\n    </tr>\n    <tr>\n      <th>Trigueros</th>\n      <td>131.0</td>\n      <td>4.0</td>\n      <td>6.0</td>\n      <td>7713.0</td>\n      <td>51.860495</td>\n      <td>77.790743</td>\n      <td>3.0</td>\n    </tr>\n    <tr>\n      <th>Almonte</th>\n      <td>437.0</td>\n      <td>4.0</td>\n      <td>9.0</td>\n      <td>24191.0</td>\n      <td>16.535075</td>\n      <td>37.203919</td>\n      <td>2.0</td>\n    </tr>\n    <tr>\n      <th>Punta Umbría</th>\n      <td>231.0</td>\n      <td>5.0</td>\n      <td>18.0</td>\n      <td>15242.0</td>\n      <td>32.804094</td>\n      <td>118.094738</td>\n      <td>2.0</td>\n    </tr>\n    <tr>\n      <th>Alosno</th>\n      <td>44.0</td>\n      <td>3.0</td>\n      <td>3.0</td>\n      <td>3923.0</td>\n      <td>76.472088</td>\n      <td>76.472088</td>\n      <td>2.0</td>\n    </tr>\n    <tr>\n      <th>Valverde del Camino</th>\n      <td>273.0</td>\n      <td>2.0</td>\n      <td>11.0</td>\n      <td>12820.0</td>\n      <td>15.600624</td>\n      <td>85.803432</td>\n      <td>2.0</td>\n    </tr>\n    <tr>\n      <th>Minas de Riotinto</th>\n      <td>67.0</td>\n      <td>1.0</td>\n      <td>4.0</td>\n      <td>3848.0</td>\n      <td>25.987526</td>\n      <td>103.950104</td>\n      <td>1.0</td>\n    </tr>\n    <tr>\n      <th>San Bartolomé de la Torre</th>\n      <td>45.0</td>\n      <td>1.0</td>\n      <td>14.0</td>\n      <td>3736.0</td>\n      <td>26.766595</td>\n      <td>374.732334</td>\n      <td>1.0</td>\n    </tr>\n    <tr>\n      <th>Aroche</th>\n      <td>55.0</td>\n      <td>3.0</td>\n      <td>5.0</td>\n      <td>3073.0</td>\n      <td>97.624471</td>\n      <td>162.707452</td>\n      <td>1.0</td>\n    </tr>\n    <tr>\n      <th>Cortegana</th>\n      <td>122.0</td>\n      <td>1.0</td>\n      <td>1.0</td>\n      <td>4666.0</td>\n      <td>21.431633</td>\n      <td>21.431633</td>\n      <td>NaN</td>\n    </tr>\n    <tr>\n      <th>Granado (El)</th>\n      <td>37.0</td>\n      <td>1.0</td>\n      <td>1.0</td>\n      <td>516.0</td>\n      <td>193.798450</td>\n      <td>193.798450</td>\n      <td>NaN</td>\n    </tr>\n    <tr>\n      <th>Villablanca</th>\n      <td>55.0</td>\n      <td>1.0</td>\n      <td>1.0</td>\n      <td>2848.0</td>\n      <td>35.112360</td>\n      <td>35.112360</td>\n      <td>NaN</td>\n    </tr>\n    <tr>\n      <th>Zalamea la Real</th>\n      <td>48.0</td>\n      <td>2.0</td>\n      <td>6.0</td>\n      <td>3068.0</td>\n      <td>65.189048</td>\n      <td>195.567145</td>\n      <td>NaN</td>\n    </tr>\n  </tbody>\n</table>\n</div>"
     },
     "metadata": {},
     "execution_count": 15
    }
   ],
   "source": [
    "# Nuevos casos desde la última captura\n",
    "tabla[tabla['Diferencia PDIA'] != 0].sort_values('Diferencia PDIA', ascending=False)"
   ]
  },
  {
   "cell_type": "code",
   "execution_count": 16,
   "metadata": {},
   "outputs": [],
   "source": [
    "if tabla[tabla['Diferencia PDIA'] != 0]['Diferencia PDIA'].sum() > 0:\n",
    "  # Save to csv\n",
    "  tabla.to_csv('covid_huelva.csv', encoding='utf-8', header=True, index=True)  "
   ]
  },
  {
   "cell_type": "code",
   "execution_count": 17,
   "metadata": {},
   "outputs": [
    {
     "output_type": "execute_result",
     "data": {
      "text/plain": [
       "Medida                             Confirmados PDIA  Confirmados PDIA 7 días  \\\n",
       "Lugar de residencia                                                            \n",
       "Palma del Condado (La)                        517.0                     42.0   \n",
       "Lucena del Puerto                              93.0                     11.0   \n",
       "Isla Cristina                                 405.0                     30.0   \n",
       "San Bartolomé de la Torre                      45.0                      1.0   \n",
       "Lepe                                          940.0                     39.0   \n",
       "Paterna del Campo                              64.0                      4.0   \n",
       "Cortelazor                                      2.0                      1.0   \n",
       "Cartaya                                       370.0                     22.0   \n",
       "Jabugo                                         41.0                      6.0   \n",
       "Villalba del Alcor                            103.0                      1.0   \n",
       "Moguer                                        359.0                     23.0   \n",
       "Palos de la Frontera                          230.0                     16.0   \n",
       "Huelva-Costa                                 5966.0                    261.0   \n",
       "Aljaraque                                     406.0                     21.0   \n",
       "Villanueva de los Castillejos                  60.0                      2.0   \n",
       "Condado-Campiña                              3291.0                    149.0   \n",
       "Huelva (capital)                             3006.0                    127.0   \n",
       "Huelva                                      10662.0                    432.0   \n",
       "Zalamea la Real                                48.0                      2.0   \n",
       "Granado (El)                                   37.0                      1.0   \n",
       "San Juan del Puerto                           153.0                     15.0   \n",
       "Aroche                                         55.0                      3.0   \n",
       "Bollullos Par del Condado                     249.0                     16.0   \n",
       "Bonares                                        48.0                      6.0   \n",
       "Punta Umbría                                  231.0                      5.0   \n",
       "Minas de Riotinto                              67.0                      1.0   \n",
       "Gibraleón                                     351.0                      2.0   \n",
       "Rociana del Condado                           116.0                      2.0   \n",
       "Beas                                           57.0                      1.0   \n",
       "Ayamonte                                      326.0                      9.0   \n",
       "Valverde del Camino                           273.0                      2.0   \n",
       "Trigueros                                     131.0                      4.0   \n",
       "Alosno                                         44.0                      3.0   \n",
       "Sierra de Huelva-Andévalo Central            1278.0                     16.0   \n",
       "Puebla de Guzmán                               24.0                      1.0   \n",
       "Manzanilla                                     45.0                      1.0   \n",
       "Almonte                                       437.0                      4.0   \n",
       "Villablanca                                    55.0                      1.0   \n",
       "Cortegana                                     122.0                      1.0   \n",
       "\n",
       "Medida                             Confirmados PDIA 14 días  Población  \\\n",
       "Lugar de residencia                                                      \n",
       "Palma del Condado (La)                                 84.0    10761.0   \n",
       "Lucena del Puerto                                      19.0     3371.0   \n",
       "Isla Cristina                                         108.0    21264.0   \n",
       "San Bartolomé de la Torre                              14.0     3736.0   \n",
       "Lepe                                                   95.0    27431.0   \n",
       "Paterna del Campo                                      12.0     3509.0   \n",
       "Cortelazor                                              1.0      299.0   \n",
       "Cartaya                                                63.0    19974.0   \n",
       "Jabugo                                                  7.0     2250.0   \n",
       "Villalba del Alcor                                     10.0     3338.0   \n",
       "Moguer                                                 62.0    22088.0   \n",
       "Palos de la Frontera                                   30.0    11289.0   \n",
       "Huelva-Costa                                          657.0   288115.0   \n",
       "Aljaraque                                              47.0    21260.0   \n",
       "Villanueva de los Castillejos                           6.0     2820.0   \n",
       "Condado-Campiña                                       317.0   155057.0   \n",
       "Huelva (capital)                                      293.0   143663.0   \n",
       "Huelva                                               1028.0   510743.0   \n",
       "Zalamea la Real                                         6.0     3068.0   \n",
       "Granado (El)                                            1.0      516.0   \n",
       "San Juan del Puerto                                    18.0     9300.0   \n",
       "Aroche                                                  5.0     3073.0   \n",
       "Bollullos Par del Condado                              19.0    14272.0   \n",
       "Bonares                                                 8.0     6058.0   \n",
       "Punta Umbría                                           18.0    15242.0   \n",
       "Minas de Riotinto                                       4.0     3848.0   \n",
       "Gibraleón                                              13.0    12607.0   \n",
       "Rociana del Condado                                     8.0     7855.0   \n",
       "Beas                                                    4.0     4257.0   \n",
       "Ayamonte                                               19.0    20946.0   \n",
       "Valverde del Camino                                    11.0    12820.0   \n",
       "Trigueros                                               6.0     7713.0   \n",
       "Alosno                                                  3.0     3923.0   \n",
       "Sierra de Huelva-Andévalo Central                      47.0    67571.0   \n",
       "Puebla de Guzmán                                        2.0     3073.0   \n",
       "Manzanilla                                              1.0     2135.0   \n",
       "Almonte                                                 9.0    24191.0   \n",
       "Villablanca                                             1.0     2848.0   \n",
       "Cortegana                                               1.0     4666.0   \n",
       "\n",
       "Medida                                  tasa7      tasa14  Diferencia PDIA  \n",
       "Lugar de residencia                                                         \n",
       "Palma del Condado (La)             390.298299  780.596599             25.0  \n",
       "Lucena del Puerto                  326.312667  563.630970             10.0  \n",
       "Isla Cristina                      141.083521  507.900677             17.0  \n",
       "San Bartolomé de la Torre           26.766595  374.732334              1.0  \n",
       "Lepe                               142.174912  346.323503             28.0  \n",
       "Paterna del Campo                  113.992590  341.977771              3.0  \n",
       "Cortelazor                         334.448161  334.448161              0.0  \n",
       "Cartaya                            110.143186  315.410033             18.0  \n",
       "Jabugo                             266.666667  311.111111              5.0  \n",
       "Villalba del Alcor                  29.958059  299.580587              0.0  \n",
       "Moguer                             104.128939  280.695400             20.0  \n",
       "Palos de la Frontera               141.730888  265.745416              8.0  \n",
       "Huelva-Costa                        90.588827  228.033945            156.0  \n",
       "Aljaraque                           98.777046  221.072437              7.0  \n",
       "Villanueva de los Castillejos       70.921986  212.765957              0.0  \n",
       "Condado-Campiña                     96.093695  204.440948             92.0  \n",
       "Huelva (capital)                    88.401328  203.949521             74.0  \n",
       "Huelva                              84.582657  201.275397            266.0  \n",
       "Zalamea la Real                     65.189048  195.567145              NaN  \n",
       "Granado (El)                       193.798450  193.798450              NaN  \n",
       "San Juan del Puerto                161.290323  193.548387              6.0  \n",
       "Aroche                              97.624471  162.707452              1.0  \n",
       "Bollullos Par del Condado          112.107623  133.127803             11.0  \n",
       "Bonares                             99.042588  132.056784              3.0  \n",
       "Punta Umbría                        32.804094  118.094738              2.0  \n",
       "Minas de Riotinto                   25.987526  103.950104              1.0  \n",
       "Gibraleón                           15.864202  103.117316              0.0  \n",
       "Rociana del Condado                 25.461489  101.845958              0.0  \n",
       "Beas                                23.490721   93.962885              0.0  \n",
       "Ayamonte                            42.967631   90.709443              6.0  \n",
       "Valverde del Camino                 15.600624   85.803432              2.0  \n",
       "Trigueros                           51.860495   77.790743              3.0  \n",
       "Alosno                              76.472088   76.472088              2.0  \n",
       "Sierra de Huelva-Andévalo Central   23.678797   69.556467             12.0  \n",
       "Puebla de Guzmán                    32.541490   65.082981              0.0  \n",
       "Manzanilla                          46.838407   46.838407              0.0  \n",
       "Almonte                             16.535075   37.203919              2.0  \n",
       "Villablanca                         35.112360   35.112360              NaN  \n",
       "Cortegana                           21.431633   21.431633              NaN  "
      ],
      "text/html": "<div>\n<style scoped>\n    .dataframe tbody tr th:only-of-type {\n        vertical-align: middle;\n    }\n\n    .dataframe tbody tr th {\n        vertical-align: top;\n    }\n\n    .dataframe thead th {\n        text-align: right;\n    }\n</style>\n<table border=\"1\" class=\"dataframe\">\n  <thead>\n    <tr style=\"text-align: right;\">\n      <th>Medida</th>\n      <th>Confirmados PDIA</th>\n      <th>Confirmados PDIA 7 días</th>\n      <th>Confirmados PDIA 14 días</th>\n      <th>Población</th>\n      <th>tasa7</th>\n      <th>tasa14</th>\n      <th>Diferencia PDIA</th>\n    </tr>\n    <tr>\n      <th>Lugar de residencia</th>\n      <th></th>\n      <th></th>\n      <th></th>\n      <th></th>\n      <th></th>\n      <th></th>\n      <th></th>\n    </tr>\n  </thead>\n  <tbody>\n    <tr>\n      <th>Palma del Condado (La)</th>\n      <td>517.0</td>\n      <td>42.0</td>\n      <td>84.0</td>\n      <td>10761.0</td>\n      <td>390.298299</td>\n      <td>780.596599</td>\n      <td>25.0</td>\n    </tr>\n    <tr>\n      <th>Lucena del Puerto</th>\n      <td>93.0</td>\n      <td>11.0</td>\n      <td>19.0</td>\n      <td>3371.0</td>\n      <td>326.312667</td>\n      <td>563.630970</td>\n      <td>10.0</td>\n    </tr>\n    <tr>\n      <th>Isla Cristina</th>\n      <td>405.0</td>\n      <td>30.0</td>\n      <td>108.0</td>\n      <td>21264.0</td>\n      <td>141.083521</td>\n      <td>507.900677</td>\n      <td>17.0</td>\n    </tr>\n    <tr>\n      <th>San Bartolomé de la Torre</th>\n      <td>45.0</td>\n      <td>1.0</td>\n      <td>14.0</td>\n      <td>3736.0</td>\n      <td>26.766595</td>\n      <td>374.732334</td>\n      <td>1.0</td>\n    </tr>\n    <tr>\n      <th>Lepe</th>\n      <td>940.0</td>\n      <td>39.0</td>\n      <td>95.0</td>\n      <td>27431.0</td>\n      <td>142.174912</td>\n      <td>346.323503</td>\n      <td>28.0</td>\n    </tr>\n    <tr>\n      <th>Paterna del Campo</th>\n      <td>64.0</td>\n      <td>4.0</td>\n      <td>12.0</td>\n      <td>3509.0</td>\n      <td>113.992590</td>\n      <td>341.977771</td>\n      <td>3.0</td>\n    </tr>\n    <tr>\n      <th>Cortelazor</th>\n      <td>2.0</td>\n      <td>1.0</td>\n      <td>1.0</td>\n      <td>299.0</td>\n      <td>334.448161</td>\n      <td>334.448161</td>\n      <td>0.0</td>\n    </tr>\n    <tr>\n      <th>Cartaya</th>\n      <td>370.0</td>\n      <td>22.0</td>\n      <td>63.0</td>\n      <td>19974.0</td>\n      <td>110.143186</td>\n      <td>315.410033</td>\n      <td>18.0</td>\n    </tr>\n    <tr>\n      <th>Jabugo</th>\n      <td>41.0</td>\n      <td>6.0</td>\n      <td>7.0</td>\n      <td>2250.0</td>\n      <td>266.666667</td>\n      <td>311.111111</td>\n      <td>5.0</td>\n    </tr>\n    <tr>\n      <th>Villalba del Alcor</th>\n      <td>103.0</td>\n      <td>1.0</td>\n      <td>10.0</td>\n      <td>3338.0</td>\n      <td>29.958059</td>\n      <td>299.580587</td>\n      <td>0.0</td>\n    </tr>\n    <tr>\n      <th>Moguer</th>\n      <td>359.0</td>\n      <td>23.0</td>\n      <td>62.0</td>\n      <td>22088.0</td>\n      <td>104.128939</td>\n      <td>280.695400</td>\n      <td>20.0</td>\n    </tr>\n    <tr>\n      <th>Palos de la Frontera</th>\n      <td>230.0</td>\n      <td>16.0</td>\n      <td>30.0</td>\n      <td>11289.0</td>\n      <td>141.730888</td>\n      <td>265.745416</td>\n      <td>8.0</td>\n    </tr>\n    <tr>\n      <th>Huelva-Costa</th>\n      <td>5966.0</td>\n      <td>261.0</td>\n      <td>657.0</td>\n      <td>288115.0</td>\n      <td>90.588827</td>\n      <td>228.033945</td>\n      <td>156.0</td>\n    </tr>\n    <tr>\n      <th>Aljaraque</th>\n      <td>406.0</td>\n      <td>21.0</td>\n      <td>47.0</td>\n      <td>21260.0</td>\n      <td>98.777046</td>\n      <td>221.072437</td>\n      <td>7.0</td>\n    </tr>\n    <tr>\n      <th>Villanueva de los Castillejos</th>\n      <td>60.0</td>\n      <td>2.0</td>\n      <td>6.0</td>\n      <td>2820.0</td>\n      <td>70.921986</td>\n      <td>212.765957</td>\n      <td>0.0</td>\n    </tr>\n    <tr>\n      <th>Condado-Campiña</th>\n      <td>3291.0</td>\n      <td>149.0</td>\n      <td>317.0</td>\n      <td>155057.0</td>\n      <td>96.093695</td>\n      <td>204.440948</td>\n      <td>92.0</td>\n    </tr>\n    <tr>\n      <th>Huelva (capital)</th>\n      <td>3006.0</td>\n      <td>127.0</td>\n      <td>293.0</td>\n      <td>143663.0</td>\n      <td>88.401328</td>\n      <td>203.949521</td>\n      <td>74.0</td>\n    </tr>\n    <tr>\n      <th>Huelva</th>\n      <td>10662.0</td>\n      <td>432.0</td>\n      <td>1028.0</td>\n      <td>510743.0</td>\n      <td>84.582657</td>\n      <td>201.275397</td>\n      <td>266.0</td>\n    </tr>\n    <tr>\n      <th>Zalamea la Real</th>\n      <td>48.0</td>\n      <td>2.0</td>\n      <td>6.0</td>\n      <td>3068.0</td>\n      <td>65.189048</td>\n      <td>195.567145</td>\n      <td>NaN</td>\n    </tr>\n    <tr>\n      <th>Granado (El)</th>\n      <td>37.0</td>\n      <td>1.0</td>\n      <td>1.0</td>\n      <td>516.0</td>\n      <td>193.798450</td>\n      <td>193.798450</td>\n      <td>NaN</td>\n    </tr>\n    <tr>\n      <th>San Juan del Puerto</th>\n      <td>153.0</td>\n      <td>15.0</td>\n      <td>18.0</td>\n      <td>9300.0</td>\n      <td>161.290323</td>\n      <td>193.548387</td>\n      <td>6.0</td>\n    </tr>\n    <tr>\n      <th>Aroche</th>\n      <td>55.0</td>\n      <td>3.0</td>\n      <td>5.0</td>\n      <td>3073.0</td>\n      <td>97.624471</td>\n      <td>162.707452</td>\n      <td>1.0</td>\n    </tr>\n    <tr>\n      <th>Bollullos Par del Condado</th>\n      <td>249.0</td>\n      <td>16.0</td>\n      <td>19.0</td>\n      <td>14272.0</td>\n      <td>112.107623</td>\n      <td>133.127803</td>\n      <td>11.0</td>\n    </tr>\n    <tr>\n      <th>Bonares</th>\n      <td>48.0</td>\n      <td>6.0</td>\n      <td>8.0</td>\n      <td>6058.0</td>\n      <td>99.042588</td>\n      <td>132.056784</td>\n      <td>3.0</td>\n    </tr>\n    <tr>\n      <th>Punta Umbría</th>\n      <td>231.0</td>\n      <td>5.0</td>\n      <td>18.0</td>\n      <td>15242.0</td>\n      <td>32.804094</td>\n      <td>118.094738</td>\n      <td>2.0</td>\n    </tr>\n    <tr>\n      <th>Minas de Riotinto</th>\n      <td>67.0</td>\n      <td>1.0</td>\n      <td>4.0</td>\n      <td>3848.0</td>\n      <td>25.987526</td>\n      <td>103.950104</td>\n      <td>1.0</td>\n    </tr>\n    <tr>\n      <th>Gibraleón</th>\n      <td>351.0</td>\n      <td>2.0</td>\n      <td>13.0</td>\n      <td>12607.0</td>\n      <td>15.864202</td>\n      <td>103.117316</td>\n      <td>0.0</td>\n    </tr>\n    <tr>\n      <th>Rociana del Condado</th>\n      <td>116.0</td>\n      <td>2.0</td>\n      <td>8.0</td>\n      <td>7855.0</td>\n      <td>25.461489</td>\n      <td>101.845958</td>\n      <td>0.0</td>\n    </tr>\n    <tr>\n      <th>Beas</th>\n      <td>57.0</td>\n      <td>1.0</td>\n      <td>4.0</td>\n      <td>4257.0</td>\n      <td>23.490721</td>\n      <td>93.962885</td>\n      <td>0.0</td>\n    </tr>\n    <tr>\n      <th>Ayamonte</th>\n      <td>326.0</td>\n      <td>9.0</td>\n      <td>19.0</td>\n      <td>20946.0</td>\n      <td>42.967631</td>\n      <td>90.709443</td>\n      <td>6.0</td>\n    </tr>\n    <tr>\n      <th>Valverde del Camino</th>\n      <td>273.0</td>\n      <td>2.0</td>\n      <td>11.0</td>\n      <td>12820.0</td>\n      <td>15.600624</td>\n      <td>85.803432</td>\n      <td>2.0</td>\n    </tr>\n    <tr>\n      <th>Trigueros</th>\n      <td>131.0</td>\n      <td>4.0</td>\n      <td>6.0</td>\n      <td>7713.0</td>\n      <td>51.860495</td>\n      <td>77.790743</td>\n      <td>3.0</td>\n    </tr>\n    <tr>\n      <th>Alosno</th>\n      <td>44.0</td>\n      <td>3.0</td>\n      <td>3.0</td>\n      <td>3923.0</td>\n      <td>76.472088</td>\n      <td>76.472088</td>\n      <td>2.0</td>\n    </tr>\n    <tr>\n      <th>Sierra de Huelva-Andévalo Central</th>\n      <td>1278.0</td>\n      <td>16.0</td>\n      <td>47.0</td>\n      <td>67571.0</td>\n      <td>23.678797</td>\n      <td>69.556467</td>\n      <td>12.0</td>\n    </tr>\n    <tr>\n      <th>Puebla de Guzmán</th>\n      <td>24.0</td>\n      <td>1.0</td>\n      <td>2.0</td>\n      <td>3073.0</td>\n      <td>32.541490</td>\n      <td>65.082981</td>\n      <td>0.0</td>\n    </tr>\n    <tr>\n      <th>Manzanilla</th>\n      <td>45.0</td>\n      <td>1.0</td>\n      <td>1.0</td>\n      <td>2135.0</td>\n      <td>46.838407</td>\n      <td>46.838407</td>\n      <td>0.0</td>\n    </tr>\n    <tr>\n      <th>Almonte</th>\n      <td>437.0</td>\n      <td>4.0</td>\n      <td>9.0</td>\n      <td>24191.0</td>\n      <td>16.535075</td>\n      <td>37.203919</td>\n      <td>2.0</td>\n    </tr>\n    <tr>\n      <th>Villablanca</th>\n      <td>55.0</td>\n      <td>1.0</td>\n      <td>1.0</td>\n      <td>2848.0</td>\n      <td>35.112360</td>\n      <td>35.112360</td>\n      <td>NaN</td>\n    </tr>\n    <tr>\n      <th>Cortegana</th>\n      <td>122.0</td>\n      <td>1.0</td>\n      <td>1.0</td>\n      <td>4666.0</td>\n      <td>21.431633</td>\n      <td>21.431633</td>\n      <td>NaN</td>\n    </tr>\n  </tbody>\n</table>\n</div>"
     },
     "metadata": {},
     "execution_count": 17
    }
   ],
   "source": [
    "tabla.sort_values('tasa14', ascending=False)"
   ]
  },
  {
   "cell_type": "code",
   "execution_count": 18,
   "metadata": {},
   "outputs": [
    {
     "output_type": "execute_result",
     "data": {
      "text/plain": [
       "Medida                             Confirmados PDIA  Confirmados PDIA 7 días  \\\n",
       "Lugar de residencia                                                            \n",
       "San Bartolomé de la Torre                      45.0                      1.0   \n",
       "Villalba del Alcor                            103.0                      1.0   \n",
       "Gibraleón                                     351.0                      2.0   \n",
       "Valverde del Camino                           273.0                      2.0   \n",
       "Beas                                           57.0                      1.0   \n",
       "Rociana del Condado                           116.0                      2.0   \n",
       "Minas de Riotinto                              67.0                      1.0   \n",
       "Isla Cristina                                 405.0                     30.0   \n",
       "Punta Umbría                                  231.0                      5.0   \n",
       "Zalamea la Real                                48.0                      2.0   \n",
       "Villanueva de los Castillejos                  60.0                      2.0   \n",
       "Paterna del Campo                              64.0                      4.0   \n",
       "Sierra de Huelva-Andévalo Central            1278.0                     16.0   \n",
       "Cartaya                                       370.0                     22.0   \n",
       "Moguer                                        359.0                     23.0   \n",
       "Huelva-Costa                                 5966.0                    261.0   \n",
       "Lepe                                          940.0                     39.0   \n",
       "Huelva                                      10662.0                    432.0   \n",
       "Huelva (capital)                             3006.0                    127.0   \n",
       "Almonte                                       437.0                      4.0   \n",
       "Aljaraque                                     406.0                     21.0   \n",
       "Condado-Campiña                              3291.0                    149.0   \n",
       "Ayamonte                                      326.0                      9.0   \n",
       "Puebla de Guzmán                               24.0                      1.0   \n",
       "Palma del Condado (La)                        517.0                     42.0   \n",
       "Palos de la Frontera                          230.0                     16.0   \n",
       "Lucena del Puerto                              93.0                     11.0   \n",
       "Aroche                                         55.0                      3.0   \n",
       "Trigueros                                     131.0                      4.0   \n",
       "Bonares                                        48.0                      6.0   \n",
       "San Juan del Puerto                           153.0                     15.0   \n",
       "Bollullos Par del Condado                     249.0                     16.0   \n",
       "Jabugo                                         41.0                      6.0   \n",
       "Cortegana                                     122.0                      1.0   \n",
       "Cortelazor                                      2.0                      1.0   \n",
       "Alosno                                         44.0                      3.0   \n",
       "Villablanca                                    55.0                      1.0   \n",
       "Granado (El)                                   37.0                      1.0   \n",
       "Manzanilla                                     45.0                      1.0   \n",
       "\n",
       "Medida                             Confirmados PDIA 14 días  Población  \\\n",
       "Lugar de residencia                                                      \n",
       "San Bartolomé de la Torre                              14.0     3736.0   \n",
       "Villalba del Alcor                                     10.0     3338.0   \n",
       "Gibraleón                                              13.0    12607.0   \n",
       "Valverde del Camino                                    11.0    12820.0   \n",
       "Beas                                                    4.0     4257.0   \n",
       "Rociana del Condado                                     8.0     7855.0   \n",
       "Minas de Riotinto                                       4.0     3848.0   \n",
       "Isla Cristina                                         108.0    21264.0   \n",
       "Punta Umbría                                           18.0    15242.0   \n",
       "Zalamea la Real                                         6.0     3068.0   \n",
       "Villanueva de los Castillejos                           6.0     2820.0   \n",
       "Paterna del Campo                                      12.0     3509.0   \n",
       "Sierra de Huelva-Andévalo Central                      47.0    67571.0   \n",
       "Cartaya                                                63.0    19974.0   \n",
       "Moguer                                                 62.0    22088.0   \n",
       "Huelva-Costa                                          657.0   288115.0   \n",
       "Lepe                                                   95.0    27431.0   \n",
       "Huelva                                               1028.0   510743.0   \n",
       "Huelva (capital)                                      293.0   143663.0   \n",
       "Almonte                                                 9.0    24191.0   \n",
       "Aljaraque                                              47.0    21260.0   \n",
       "Condado-Campiña                                       317.0   155057.0   \n",
       "Ayamonte                                               19.0    20946.0   \n",
       "Puebla de Guzmán                                        2.0     3073.0   \n",
       "Palma del Condado (La)                                 84.0    10761.0   \n",
       "Palos de la Frontera                                   30.0    11289.0   \n",
       "Lucena del Puerto                                      19.0     3371.0   \n",
       "Aroche                                                  5.0     3073.0   \n",
       "Trigueros                                               6.0     7713.0   \n",
       "Bonares                                                 8.0     6058.0   \n",
       "San Juan del Puerto                                    18.0     9300.0   \n",
       "Bollullos Par del Condado                              19.0    14272.0   \n",
       "Jabugo                                                  7.0     2250.0   \n",
       "Cortegana                                               1.0     4666.0   \n",
       "Cortelazor                                              1.0      299.0   \n",
       "Alosno                                                  3.0     3923.0   \n",
       "Villablanca                                             1.0     2848.0   \n",
       "Granado (El)                                            1.0      516.0   \n",
       "Manzanilla                                              1.0     2135.0   \n",
       "\n",
       "Medida                                  tasa7      tasa14  Diferencia PDIA  \\\n",
       "Lugar de residencia                                                          \n",
       "San Bartolomé de la Torre           26.766595  374.732334              1.0   \n",
       "Villalba del Alcor                  29.958059  299.580587              0.0   \n",
       "Gibraleón                           15.864202  103.117316              0.0   \n",
       "Valverde del Camino                 15.600624   85.803432              2.0   \n",
       "Beas                                23.490721   93.962885              0.0   \n",
       "Rociana del Condado                 25.461489  101.845958              0.0   \n",
       "Minas de Riotinto                   25.987526  103.950104              1.0   \n",
       "Isla Cristina                      141.083521  507.900677             17.0   \n",
       "Punta Umbría                        32.804094  118.094738              2.0   \n",
       "Zalamea la Real                     65.189048  195.567145              0.0   \n",
       "Villanueva de los Castillejos       70.921986  212.765957              0.0   \n",
       "Paterna del Campo                  113.992590  341.977771              3.0   \n",
       "Sierra de Huelva-Andévalo Central   23.678797   69.556467             12.0   \n",
       "Cartaya                            110.143186  315.410033             18.0   \n",
       "Moguer                             104.128939  280.695400             20.0   \n",
       "Huelva-Costa                        90.588827  228.033945            156.0   \n",
       "Lepe                               142.174912  346.323503             28.0   \n",
       "Huelva                              84.582657  201.275397            266.0   \n",
       "Huelva (capital)                    88.401328  203.949521             74.0   \n",
       "Almonte                             16.535075   37.203919              2.0   \n",
       "Aljaraque                           98.777046  221.072437              7.0   \n",
       "Condado-Campiña                     96.093695  204.440948             92.0   \n",
       "Ayamonte                            42.967631   90.709443              6.0   \n",
       "Puebla de Guzmán                    32.541490   65.082981              0.0   \n",
       "Palma del Condado (La)             390.298299  780.596599             25.0   \n",
       "Palos de la Frontera               141.730888  265.745416              8.0   \n",
       "Lucena del Puerto                  326.312667  563.630970             10.0   \n",
       "Aroche                              97.624471  162.707452              1.0   \n",
       "Trigueros                           51.860495   77.790743              3.0   \n",
       "Bonares                             99.042588  132.056784              3.0   \n",
       "San Juan del Puerto                161.290323  193.548387              6.0   \n",
       "Bollullos Par del Condado          112.107623  133.127803             11.0   \n",
       "Jabugo                             266.666667  311.111111              5.0   \n",
       "Cortegana                           21.431633   21.431633              0.0   \n",
       "Cortelazor                         334.448161  334.448161              0.0   \n",
       "Alosno                              76.472088   76.472088              2.0   \n",
       "Villablanca                         35.112360   35.112360              0.0   \n",
       "Granado (El)                       193.798450  193.798450              0.0   \n",
       "Manzanilla                          46.838407   46.838407              0.0   \n",
       "\n",
       "Medida                                 7/14  \n",
       "Lugar de residencia                          \n",
       "San Bartolomé de la Torre          0.071429  \n",
       "Villalba del Alcor                 0.100000  \n",
       "Gibraleón                          0.153846  \n",
       "Valverde del Camino                0.181818  \n",
       "Beas                               0.250000  \n",
       "Rociana del Condado                0.250000  \n",
       "Minas de Riotinto                  0.250000  \n",
       "Isla Cristina                      0.277778  \n",
       "Punta Umbría                       0.277778  \n",
       "Zalamea la Real                    0.333333  \n",
       "Villanueva de los Castillejos      0.333333  \n",
       "Paterna del Campo                  0.333333  \n",
       "Sierra de Huelva-Andévalo Central  0.340426  \n",
       "Cartaya                            0.349206  \n",
       "Moguer                             0.370968  \n",
       "Huelva-Costa                       0.397260  \n",
       "Lepe                               0.410526  \n",
       "Huelva                             0.420233  \n",
       "Huelva (capital)                   0.433447  \n",
       "Almonte                            0.444444  \n",
       "Aljaraque                          0.446809  \n",
       "Condado-Campiña                    0.470032  \n",
       "Ayamonte                           0.473684  \n",
       "Puebla de Guzmán                   0.500000  \n",
       "Palma del Condado (La)             0.500000  \n",
       "Palos de la Frontera               0.533333  \n",
       "Lucena del Puerto                  0.578947  \n",
       "Aroche                             0.600000  \n",
       "Trigueros                          0.666667  \n",
       "Bonares                            0.750000  \n",
       "San Juan del Puerto                0.833333  \n",
       "Bollullos Par del Condado          0.842105  \n",
       "Jabugo                             0.857143  \n",
       "Cortegana                          1.000000  \n",
       "Cortelazor                         1.000000  \n",
       "Alosno                             1.000000  \n",
       "Villablanca                        1.000000  \n",
       "Granado (El)                       1.000000  \n",
       "Manzanilla                         1.000000  "
      ],
      "text/html": "<div>\n<style scoped>\n    .dataframe tbody tr th:only-of-type {\n        vertical-align: middle;\n    }\n\n    .dataframe tbody tr th {\n        vertical-align: top;\n    }\n\n    .dataframe thead th {\n        text-align: right;\n    }\n</style>\n<table border=\"1\" class=\"dataframe\">\n  <thead>\n    <tr style=\"text-align: right;\">\n      <th>Medida</th>\n      <th>Confirmados PDIA</th>\n      <th>Confirmados PDIA 7 días</th>\n      <th>Confirmados PDIA 14 días</th>\n      <th>Población</th>\n      <th>tasa7</th>\n      <th>tasa14</th>\n      <th>Diferencia PDIA</th>\n      <th>7/14</th>\n    </tr>\n    <tr>\n      <th>Lugar de residencia</th>\n      <th></th>\n      <th></th>\n      <th></th>\n      <th></th>\n      <th></th>\n      <th></th>\n      <th></th>\n      <th></th>\n    </tr>\n  </thead>\n  <tbody>\n    <tr>\n      <th>San Bartolomé de la Torre</th>\n      <td>45.0</td>\n      <td>1.0</td>\n      <td>14.0</td>\n      <td>3736.0</td>\n      <td>26.766595</td>\n      <td>374.732334</td>\n      <td>1.0</td>\n      <td>0.071429</td>\n    </tr>\n    <tr>\n      <th>Villalba del Alcor</th>\n      <td>103.0</td>\n      <td>1.0</td>\n      <td>10.0</td>\n      <td>3338.0</td>\n      <td>29.958059</td>\n      <td>299.580587</td>\n      <td>0.0</td>\n      <td>0.100000</td>\n    </tr>\n    <tr>\n      <th>Gibraleón</th>\n      <td>351.0</td>\n      <td>2.0</td>\n      <td>13.0</td>\n      <td>12607.0</td>\n      <td>15.864202</td>\n      <td>103.117316</td>\n      <td>0.0</td>\n      <td>0.153846</td>\n    </tr>\n    <tr>\n      <th>Valverde del Camino</th>\n      <td>273.0</td>\n      <td>2.0</td>\n      <td>11.0</td>\n      <td>12820.0</td>\n      <td>15.600624</td>\n      <td>85.803432</td>\n      <td>2.0</td>\n      <td>0.181818</td>\n    </tr>\n    <tr>\n      <th>Beas</th>\n      <td>57.0</td>\n      <td>1.0</td>\n      <td>4.0</td>\n      <td>4257.0</td>\n      <td>23.490721</td>\n      <td>93.962885</td>\n      <td>0.0</td>\n      <td>0.250000</td>\n    </tr>\n    <tr>\n      <th>Rociana del Condado</th>\n      <td>116.0</td>\n      <td>2.0</td>\n      <td>8.0</td>\n      <td>7855.0</td>\n      <td>25.461489</td>\n      <td>101.845958</td>\n      <td>0.0</td>\n      <td>0.250000</td>\n    </tr>\n    <tr>\n      <th>Minas de Riotinto</th>\n      <td>67.0</td>\n      <td>1.0</td>\n      <td>4.0</td>\n      <td>3848.0</td>\n      <td>25.987526</td>\n      <td>103.950104</td>\n      <td>1.0</td>\n      <td>0.250000</td>\n    </tr>\n    <tr>\n      <th>Isla Cristina</th>\n      <td>405.0</td>\n      <td>30.0</td>\n      <td>108.0</td>\n      <td>21264.0</td>\n      <td>141.083521</td>\n      <td>507.900677</td>\n      <td>17.0</td>\n      <td>0.277778</td>\n    </tr>\n    <tr>\n      <th>Punta Umbría</th>\n      <td>231.0</td>\n      <td>5.0</td>\n      <td>18.0</td>\n      <td>15242.0</td>\n      <td>32.804094</td>\n      <td>118.094738</td>\n      <td>2.0</td>\n      <td>0.277778</td>\n    </tr>\n    <tr>\n      <th>Zalamea la Real</th>\n      <td>48.0</td>\n      <td>2.0</td>\n      <td>6.0</td>\n      <td>3068.0</td>\n      <td>65.189048</td>\n      <td>195.567145</td>\n      <td>0.0</td>\n      <td>0.333333</td>\n    </tr>\n    <tr>\n      <th>Villanueva de los Castillejos</th>\n      <td>60.0</td>\n      <td>2.0</td>\n      <td>6.0</td>\n      <td>2820.0</td>\n      <td>70.921986</td>\n      <td>212.765957</td>\n      <td>0.0</td>\n      <td>0.333333</td>\n    </tr>\n    <tr>\n      <th>Paterna del Campo</th>\n      <td>64.0</td>\n      <td>4.0</td>\n      <td>12.0</td>\n      <td>3509.0</td>\n      <td>113.992590</td>\n      <td>341.977771</td>\n      <td>3.0</td>\n      <td>0.333333</td>\n    </tr>\n    <tr>\n      <th>Sierra de Huelva-Andévalo Central</th>\n      <td>1278.0</td>\n      <td>16.0</td>\n      <td>47.0</td>\n      <td>67571.0</td>\n      <td>23.678797</td>\n      <td>69.556467</td>\n      <td>12.0</td>\n      <td>0.340426</td>\n    </tr>\n    <tr>\n      <th>Cartaya</th>\n      <td>370.0</td>\n      <td>22.0</td>\n      <td>63.0</td>\n      <td>19974.0</td>\n      <td>110.143186</td>\n      <td>315.410033</td>\n      <td>18.0</td>\n      <td>0.349206</td>\n    </tr>\n    <tr>\n      <th>Moguer</th>\n      <td>359.0</td>\n      <td>23.0</td>\n      <td>62.0</td>\n      <td>22088.0</td>\n      <td>104.128939</td>\n      <td>280.695400</td>\n      <td>20.0</td>\n      <td>0.370968</td>\n    </tr>\n    <tr>\n      <th>Huelva-Costa</th>\n      <td>5966.0</td>\n      <td>261.0</td>\n      <td>657.0</td>\n      <td>288115.0</td>\n      <td>90.588827</td>\n      <td>228.033945</td>\n      <td>156.0</td>\n      <td>0.397260</td>\n    </tr>\n    <tr>\n      <th>Lepe</th>\n      <td>940.0</td>\n      <td>39.0</td>\n      <td>95.0</td>\n      <td>27431.0</td>\n      <td>142.174912</td>\n      <td>346.323503</td>\n      <td>28.0</td>\n      <td>0.410526</td>\n    </tr>\n    <tr>\n      <th>Huelva</th>\n      <td>10662.0</td>\n      <td>432.0</td>\n      <td>1028.0</td>\n      <td>510743.0</td>\n      <td>84.582657</td>\n      <td>201.275397</td>\n      <td>266.0</td>\n      <td>0.420233</td>\n    </tr>\n    <tr>\n      <th>Huelva (capital)</th>\n      <td>3006.0</td>\n      <td>127.0</td>\n      <td>293.0</td>\n      <td>143663.0</td>\n      <td>88.401328</td>\n      <td>203.949521</td>\n      <td>74.0</td>\n      <td>0.433447</td>\n    </tr>\n    <tr>\n      <th>Almonte</th>\n      <td>437.0</td>\n      <td>4.0</td>\n      <td>9.0</td>\n      <td>24191.0</td>\n      <td>16.535075</td>\n      <td>37.203919</td>\n      <td>2.0</td>\n      <td>0.444444</td>\n    </tr>\n    <tr>\n      <th>Aljaraque</th>\n      <td>406.0</td>\n      <td>21.0</td>\n      <td>47.0</td>\n      <td>21260.0</td>\n      <td>98.777046</td>\n      <td>221.072437</td>\n      <td>7.0</td>\n      <td>0.446809</td>\n    </tr>\n    <tr>\n      <th>Condado-Campiña</th>\n      <td>3291.0</td>\n      <td>149.0</td>\n      <td>317.0</td>\n      <td>155057.0</td>\n      <td>96.093695</td>\n      <td>204.440948</td>\n      <td>92.0</td>\n      <td>0.470032</td>\n    </tr>\n    <tr>\n      <th>Ayamonte</th>\n      <td>326.0</td>\n      <td>9.0</td>\n      <td>19.0</td>\n      <td>20946.0</td>\n      <td>42.967631</td>\n      <td>90.709443</td>\n      <td>6.0</td>\n      <td>0.473684</td>\n    </tr>\n    <tr>\n      <th>Puebla de Guzmán</th>\n      <td>24.0</td>\n      <td>1.0</td>\n      <td>2.0</td>\n      <td>3073.0</td>\n      <td>32.541490</td>\n      <td>65.082981</td>\n      <td>0.0</td>\n      <td>0.500000</td>\n    </tr>\n    <tr>\n      <th>Palma del Condado (La)</th>\n      <td>517.0</td>\n      <td>42.0</td>\n      <td>84.0</td>\n      <td>10761.0</td>\n      <td>390.298299</td>\n      <td>780.596599</td>\n      <td>25.0</td>\n      <td>0.500000</td>\n    </tr>\n    <tr>\n      <th>Palos de la Frontera</th>\n      <td>230.0</td>\n      <td>16.0</td>\n      <td>30.0</td>\n      <td>11289.0</td>\n      <td>141.730888</td>\n      <td>265.745416</td>\n      <td>8.0</td>\n      <td>0.533333</td>\n    </tr>\n    <tr>\n      <th>Lucena del Puerto</th>\n      <td>93.0</td>\n      <td>11.0</td>\n      <td>19.0</td>\n      <td>3371.0</td>\n      <td>326.312667</td>\n      <td>563.630970</td>\n      <td>10.0</td>\n      <td>0.578947</td>\n    </tr>\n    <tr>\n      <th>Aroche</th>\n      <td>55.0</td>\n      <td>3.0</td>\n      <td>5.0</td>\n      <td>3073.0</td>\n      <td>97.624471</td>\n      <td>162.707452</td>\n      <td>1.0</td>\n      <td>0.600000</td>\n    </tr>\n    <tr>\n      <th>Trigueros</th>\n      <td>131.0</td>\n      <td>4.0</td>\n      <td>6.0</td>\n      <td>7713.0</td>\n      <td>51.860495</td>\n      <td>77.790743</td>\n      <td>3.0</td>\n      <td>0.666667</td>\n    </tr>\n    <tr>\n      <th>Bonares</th>\n      <td>48.0</td>\n      <td>6.0</td>\n      <td>8.0</td>\n      <td>6058.0</td>\n      <td>99.042588</td>\n      <td>132.056784</td>\n      <td>3.0</td>\n      <td>0.750000</td>\n    </tr>\n    <tr>\n      <th>San Juan del Puerto</th>\n      <td>153.0</td>\n      <td>15.0</td>\n      <td>18.0</td>\n      <td>9300.0</td>\n      <td>161.290323</td>\n      <td>193.548387</td>\n      <td>6.0</td>\n      <td>0.833333</td>\n    </tr>\n    <tr>\n      <th>Bollullos Par del Condado</th>\n      <td>249.0</td>\n      <td>16.0</td>\n      <td>19.0</td>\n      <td>14272.0</td>\n      <td>112.107623</td>\n      <td>133.127803</td>\n      <td>11.0</td>\n      <td>0.842105</td>\n    </tr>\n    <tr>\n      <th>Jabugo</th>\n      <td>41.0</td>\n      <td>6.0</td>\n      <td>7.0</td>\n      <td>2250.0</td>\n      <td>266.666667</td>\n      <td>311.111111</td>\n      <td>5.0</td>\n      <td>0.857143</td>\n    </tr>\n    <tr>\n      <th>Cortegana</th>\n      <td>122.0</td>\n      <td>1.0</td>\n      <td>1.0</td>\n      <td>4666.0</td>\n      <td>21.431633</td>\n      <td>21.431633</td>\n      <td>0.0</td>\n      <td>1.000000</td>\n    </tr>\n    <tr>\n      <th>Cortelazor</th>\n      <td>2.0</td>\n      <td>1.0</td>\n      <td>1.0</td>\n      <td>299.0</td>\n      <td>334.448161</td>\n      <td>334.448161</td>\n      <td>0.0</td>\n      <td>1.000000</td>\n    </tr>\n    <tr>\n      <th>Alosno</th>\n      <td>44.0</td>\n      <td>3.0</td>\n      <td>3.0</td>\n      <td>3923.0</td>\n      <td>76.472088</td>\n      <td>76.472088</td>\n      <td>2.0</td>\n      <td>1.000000</td>\n    </tr>\n    <tr>\n      <th>Villablanca</th>\n      <td>55.0</td>\n      <td>1.0</td>\n      <td>1.0</td>\n      <td>2848.0</td>\n      <td>35.112360</td>\n      <td>35.112360</td>\n      <td>0.0</td>\n      <td>1.000000</td>\n    </tr>\n    <tr>\n      <th>Granado (El)</th>\n      <td>37.0</td>\n      <td>1.0</td>\n      <td>1.0</td>\n      <td>516.0</td>\n      <td>193.798450</td>\n      <td>193.798450</td>\n      <td>0.0</td>\n      <td>1.000000</td>\n    </tr>\n    <tr>\n      <th>Manzanilla</th>\n      <td>45.0</td>\n      <td>1.0</td>\n      <td>1.0</td>\n      <td>2135.0</td>\n      <td>46.838407</td>\n      <td>46.838407</td>\n      <td>0.0</td>\n      <td>1.000000</td>\n    </tr>\n  </tbody>\n</table>\n</div>"
     },
     "metadata": {},
     "execution_count": 18
    }
   ],
   "source": [
    "# Peso de la tasa de la última semana en relación con la tasa a 14 días \n",
    "# Mejor cuanto menor. Valor 1 significa que no había casos antes de 7 días.\n",
    "tabla['7/14'] = tabla['tasa7'] / tabla['tasa14']\n",
    "tabla.fillna(0).sort_values('7/14', ascending=True)"
   ]
  },
  {
   "cell_type": "code",
   "execution_count": null,
   "metadata": {},
   "outputs": [],
   "source": []
  }
 ]
}