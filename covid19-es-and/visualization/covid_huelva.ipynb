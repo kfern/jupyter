{
 "metadata": {
  "language_info": {
   "codemirror_mode": {
    "name": "ipython",
    "version": 3
   },
   "file_extension": ".py",
   "mimetype": "text/x-python",
   "name": "python",
   "nbconvert_exporter": "python",
   "pygments_lexer": "ipython3",
   "version": "3.8.6"
  },
  "orig_nbformat": 2,
  "kernelspec": {
   "name": "python3",
   "display_name": "Python 3",
   "language": "python"
  }
 },
 "nbformat": 4,
 "nbformat_minor": 2,
 "cells": [
  {
   "cell_type": "code",
   "execution_count": 1,
   "metadata": {},
   "outputs": [],
   "source": [
    "import pandas as pd\n",
    "pd.set_option('display.max_rows', None) # Print all rows"
   ]
  },
  {
   "cell_type": "code",
   "execution_count": 2,
   "metadata": {},
   "outputs": [],
   "source": [
    "# FIX SSL: CERTIFICATE_VERIFY_FAILED with Python3\n",
    "# https://stackoverflow.com/a/49174340\n",
    "import ssl\n",
    "\n",
    "ssl._create_default_https_context = ssl._create_unverified_context"
   ]
  },
  {
   "cell_type": "code",
   "execution_count": 3,
   "metadata": {},
   "outputs": [],
   "source": [
    "url = 'https://www.juntadeandalucia.es/institutodeestadisticaycartografia/badea/stpivot/stpivot/Print?cube=013d884c-cfc5-4c21-9e78-e26225682afd&type=3&foto=si&ejecutaDesde=&codConsulta=38668&consTipoVisua=JP'\n",
    "fields = ['Lugar de residencia', 'Medida', 'Valor']\n",
    "df = pd.read_csv(url, delimiter=';', usecols=fields, decimal=',')"
   ]
  },
  {
   "cell_type": "code",
   "execution_count": 4,
   "metadata": {},
   "outputs": [
    {
     "output_type": "execute_result",
     "data": {
      "text/plain": [
       "  Lugar de residencia                    Medida              Valor\n",
       "0              Huelva                 Población             513170\n",
       "1              Huelva          Confirmados PDIA              29250\n",
       "2              Huelva  Confirmados PDIA 14 días               1030\n",
       "3              Huelva         Tasa PDIA 14 días  200,7132139446967\n",
       "4              Huelva   Confirmados PDIA 7 días                542\n",
       "5              Huelva        Total Confirmados               29426\n",
       "6              Huelva                   Curados              25910\n",
       "7              Huelva                Fallecidos                370"
      ],
      "text/html": "<div>\n<style scoped>\n    .dataframe tbody tr th:only-of-type {\n        vertical-align: middle;\n    }\n\n    .dataframe tbody tr th {\n        vertical-align: top;\n    }\n\n    .dataframe thead th {\n        text-align: right;\n    }\n</style>\n<table border=\"1\" class=\"dataframe\">\n  <thead>\n    <tr style=\"text-align: right;\">\n      <th></th>\n      <th>Lugar de residencia</th>\n      <th>Medida</th>\n      <th>Valor</th>\n    </tr>\n  </thead>\n  <tbody>\n    <tr>\n      <th>0</th>\n      <td>Huelva</td>\n      <td>Población</td>\n      <td>513170</td>\n    </tr>\n    <tr>\n      <th>1</th>\n      <td>Huelva</td>\n      <td>Confirmados PDIA</td>\n      <td>29250</td>\n    </tr>\n    <tr>\n      <th>2</th>\n      <td>Huelva</td>\n      <td>Confirmados PDIA 14 días</td>\n      <td>1030</td>\n    </tr>\n    <tr>\n      <th>3</th>\n      <td>Huelva</td>\n      <td>Tasa PDIA 14 días</td>\n      <td>200,7132139446967</td>\n    </tr>\n    <tr>\n      <th>4</th>\n      <td>Huelva</td>\n      <td>Confirmados PDIA 7 días</td>\n      <td>542</td>\n    </tr>\n    <tr>\n      <th>5</th>\n      <td>Huelva</td>\n      <td>Total Confirmados</td>\n      <td>29426</td>\n    </tr>\n    <tr>\n      <th>6</th>\n      <td>Huelva</td>\n      <td>Curados</td>\n      <td>25910</td>\n    </tr>\n    <tr>\n      <th>7</th>\n      <td>Huelva</td>\n      <td>Fallecidos</td>\n      <td>370</td>\n    </tr>\n  </tbody>\n</table>\n</div>"
     },
     "metadata": {},
     "execution_count": 4
    }
   ],
   "source": [
    "df[df['Lugar de residencia'] == 'Huelva']"
   ]
  },
  {
   "cell_type": "code",
   "execution_count": 5,
   "metadata": {},
   "outputs": [],
   "source": [
    "df['Valor'] = pd.to_numeric(df['Valor'],errors='coerce')"
   ]
  },
  {
   "cell_type": "code",
   "execution_count": 6,
   "metadata": {},
   "outputs": [],
   "source": [
    "dfAnterior = pd.read_csv('covid_huelva.csv', index_col='Lugar de residencia')"
   ]
  },
  {
   "cell_type": "code",
   "execution_count": 7,
   "metadata": {
    "tags": []
   },
   "outputs": [
    {
     "output_type": "stream",
     "name": "stdout",
     "text": [
      "Confirmados PCR en la provincia de Huelva:  29250.0\n",
      "<ipython-input-7-31b732756b19>:2: UserWarning: Boolean Series key will be reindexed to match DataFrame index.\n",
      "  p = df[df['Lugar de residencia'] == 'Huelva'][df['Medida'] == 'Confirmados PDIA']['Valor'].values[0]\n"
     ]
    }
   ],
   "source": [
    "# Confirmados PCR provincia Huelva\n",
    "p = df[df['Lugar de residencia'] == 'Huelva'][df['Medida'] == 'Confirmados PDIA']['Valor'].values[0]\n",
    "print('Confirmados PCR en la provincia de Huelva: ', p)"
   ]
  },
  {
   "cell_type": "code",
   "execution_count": 8,
   "metadata": {
    "tags": []
   },
   "outputs": [
    {
     "output_type": "stream",
     "name": "stdout",
     "text": [
      "Confirmados PCR en Huelva capital:  7635.0\n",
      "<ipython-input-8-e81bfb40e710>:2: UserWarning: Boolean Series key will be reindexed to match DataFrame index.\n",
      "  c = df[df['Lugar de residencia'] == 'Huelva (capital)'][df['Medida'] == 'Confirmados PDIA']['Valor'].values[0]\n"
     ]
    }
   ],
   "source": [
    "# Confirmados PCR Huelva capitalpd\n",
    "c = df[df['Lugar de residencia'] == 'Huelva (capital)'][df['Medida'] == 'Confirmados PDIA']['Valor'].values[0]\n",
    "print('Confirmados PCR en Huelva capital: ', c)"
   ]
  },
  {
   "cell_type": "code",
   "execution_count": 9,
   "metadata": {
    "tags": []
   },
   "outputs": [
    {
     "output_type": "stream",
     "name": "stderr",
     "text": [
      "<ipython-input-9-f09dd2050cc1>:1: UserWarning: Boolean Series key will be reindexed to match DataFrame index.\n  c7 = df[df['Lugar de residencia'] == 'Huelva (capital)'][df['Medida'] == 'Confirmados PDIA 7 días']['Valor'].values[0]\n<ipython-input-9-f09dd2050cc1>:2: UserWarning: Boolean Series key will be reindexed to match DataFrame index.\n  c14 = df[df['Lugar de residencia'] == 'Huelva (capital)'][df['Medida'] == 'Confirmados PDIA 14 días']['Valor'].values[0]\n<ipython-input-9-f09dd2050cc1>:3: UserWarning: Boolean Series key will be reindexed to match DataFrame index.\n  p = df[df['Lugar de residencia'] == 'Huelva (capital)'][df['Medida'] == 'Población']['Valor'].values[0]\n"
     ]
    }
   ],
   "source": [
    "c7 = df[df['Lugar de residencia'] == 'Huelva (capital)'][df['Medida'] == 'Confirmados PDIA 7 días']['Valor'].values[0]\n",
    "c14 = df[df['Lugar de residencia'] == 'Huelva (capital)'][df['Medida'] == 'Confirmados PDIA 14 días']['Valor'].values[0]\n",
    "p = df[df['Lugar de residencia'] == 'Huelva (capital)'][df['Medida'] == 'Población']['Valor'].values[0]"
   ]
  },
  {
   "cell_type": "code",
   "execution_count": 10,
   "metadata": {
    "tags": []
   },
   "outputs": [
    {
     "output_type": "stream",
     "name": "stdout",
     "text": [
      "Huelva (capital)\n\nUn positivo PCR cada 817 personas en los últimos 7 días \n\nUn positivo PCR cada 470 personas en los últimos 14 días\n"
     ]
    }
   ],
   "source": [
    "print('Huelva (capital)\\n')\n",
    "#print('Confirmados PCR 7 días x 1,000 habitantes: ', f\"{c7/(p/1000):.5f}\")\n",
    "print('Un positivo PCR cada', f\"{p/c7:.0f}\", 'personas en los últimos 7 días', '\\n')\n",
    "#print('Confirmados PCR 14 días x 1,000 habitantes: ', f\"{c14/(p/1000):.5f}\")\n",
    "print('Un positivo PCR cada', f\"{p/c14:.0f}\", 'personas en los últimos 14 días')"
   ]
  },
  {
   "cell_type": "code",
   "execution_count": 11,
   "metadata": {},
   "outputs": [],
   "source": [
    "filtro = ((df['Medida'] == 'Confirmados PDIA')| (df['Medida'] == 'Confirmados PDIA 7 días') | (df['Medida'] == 'Población' ) | (df['Medida'] == 'Confirmados PDIA 14 días')) & (df['Valor'] > 0)\n",
    "tabla = pd.pivot_table(df.loc[filtro], values='Valor', index='Lugar de residencia', columns='Medida').dropna()"
   ]
  },
  {
   "cell_type": "code",
   "execution_count": 12,
   "metadata": {},
   "outputs": [],
   "source": [
    "# Reorder columns\n",
    "tabla = tabla[['Confirmados PDIA', 'Confirmados PDIA 7 días', 'Confirmados PDIA 14 días', 'Población']]"
   ]
  },
  {
   "cell_type": "code",
   "execution_count": 13,
   "metadata": {},
   "outputs": [],
   "source": [
    "tabla['tasa7'] = tabla['Confirmados PDIA 7 días']/tabla['Población']*100000\n",
    "tabla['tasa14'] = tabla['Confirmados PDIA 14 días']/tabla['Población']*100000"
   ]
  },
  {
   "cell_type": "code",
   "execution_count": 14,
   "metadata": {},
   "outputs": [],
   "source": [
    "tabla['Diferencia PDIA'] = tabla['Confirmados PDIA'] - dfAnterior['Confirmados PDIA']"
   ]
  },
  {
   "cell_type": "code",
   "execution_count": 15,
   "metadata": {},
   "outputs": [
    {
     "output_type": "execute_result",
     "data": {
      "text/plain": [
       "Medida                             Confirmados PDIA  Confirmados PDIA 7 días  \\\n",
       "Lugar de residencia                                                            \n",
       "Huelva                                      29250.0                    542.0   \n",
       "Huelva-Costa                                17015.0                    281.0   \n",
       "Condado-Campiña                              9304.0                    228.0   \n",
       "Huelva (capital)                             7635.0                    176.0   \n",
       "Almonte                                      1629.0                     79.0   \n",
       "Moguer                                       1131.0                     23.0   \n",
       "Isla Cristina                                2098.0                     34.0   \n",
       "Bollullos Par del Condado                     876.0                     42.0   \n",
       "Punta Umbría                                  736.0                     22.0   \n",
       "Sierra de Huelva-Andévalo Central            2589.0                     31.0   \n",
       "Lepe                                         2094.0                     11.0   \n",
       "Aljaraque                                    1016.0                     10.0   \n",
       "Gibraleón                                     598.0                     11.0   \n",
       "Galaroza                                       37.0                      7.0   \n",
       "Rociana del Condado                           529.0                     13.0   \n",
       "San Juan del Puerto                           459.0                      9.0   \n",
       "Cartaya                                      1291.0                     16.0   \n",
       "Villalba del Alcor                            474.0                      3.0   \n",
       "Niebla                                        201.0                      5.0   \n",
       "Palma del Condado (La)                       1049.0                     10.0   \n",
       "Escacena del Campo                            149.0                      3.0   \n",
       "Valverde del Camino                           488.0                     12.0   \n",
       "Villablanca                                   184.0                      2.0   \n",
       "Cumbres Mayores                                50.0                      1.0   \n",
       "Lucena del Puerto                             234.0                      1.0   \n",
       "Minas de Riotinto                             115.0                      1.0   \n",
       "\n",
       "Medida                             Confirmados PDIA 14 días  Población  \\\n",
       "Lugar de residencia                                                      \n",
       "Huelva                                               1030.0   513170.0   \n",
       "Huelva-Costa                                          488.0   289548.0   \n",
       "Condado-Campiña                                       473.0   156231.0   \n",
       "Huelva (capital)                                      306.0   143837.0   \n",
       "Almonte                                               156.0    24507.0   \n",
       "Moguer                                                 52.0    21867.0   \n",
       "Isla Cristina                                          45.0    21393.0   \n",
       "Bollullos Par del Condado                              89.0    14387.0   \n",
       "Punta Umbría                                           29.0    15355.0   \n",
       "Sierra de Huelva-Andévalo Central                      60.0    67391.0   \n",
       "Lepe                                                   17.0    27880.0   \n",
       "Aljaraque                                              24.0    21474.0   \n",
       "Gibraleón                                              17.0    12737.0   \n",
       "Galaroza                                               10.0     1382.0   \n",
       "Rociana del Condado                                    28.0     7939.0   \n",
       "San Juan del Puerto                                    18.0     9411.0   \n",
       "Cartaya                                                36.0    20083.0   \n",
       "Villalba del Alcor                                      3.0     3366.0   \n",
       "Niebla                                                  9.0     4116.0   \n",
       "Palma del Condado (La)                                 18.0    10801.0   \n",
       "Escacena del Campo                                      6.0     2287.0   \n",
       "Valverde del Camino                                    17.0    12750.0   \n",
       "Villablanca                                             4.0     2885.0   \n",
       "Cumbres Mayores                                         2.0     1749.0   \n",
       "Lucena del Puerto                                      16.0     3261.0   \n",
       "Minas de Riotinto                                       2.0     3812.0   \n",
       "\n",
       "Medida                                  tasa7      tasa14  Diferencia PDIA  \n",
       "Lugar de residencia                                                         \n",
       "Huelva                             105.618021  200.713214            132.0  \n",
       "Huelva-Costa                        97.047812  168.538550             70.0  \n",
       "Condado-Campiña                    145.937746  302.756815             57.0  \n",
       "Huelva (capital)                   122.360728  212.740811             41.0  \n",
       "Almonte                            322.356878  636.552822             25.0  \n",
       "Moguer                             105.181323  237.801253             10.0  \n",
       "Isla Cristina                      158.930491  210.349180              9.0  \n",
       "Bollullos Par del Condado          291.930215  618.614027              8.0  \n",
       "Punta Umbría                       143.275806  188.863562              8.0  \n",
       "Sierra de Huelva-Andévalo Central   46.000208   89.032660              5.0  \n",
       "Lepe                                39.454806   60.975610              5.0  \n",
       "Aljaraque                           46.567943  111.763062              4.0  \n",
       "Gibraleón                           86.362566  133.469420              4.0  \n",
       "Galaroza                           506.512301  723.589001              2.0  \n",
       "Rociana del Condado                163.748583  352.689256              2.0  \n",
       "San Juan del Puerto                 95.632770  191.265540              2.0  \n",
       "Cartaya                             79.669372  179.256087              2.0  \n",
       "Villalba del Alcor                  89.126560   89.126560              2.0  \n",
       "Niebla                             121.477162  218.658892              1.0  \n",
       "Palma del Condado (La)              92.584020  166.651236              1.0  \n",
       "Escacena del Campo                 131.176213  262.352427              1.0  \n",
       "Valverde del Camino                 94.117647  133.333333              1.0  \n",
       "Villablanca                         69.324090  138.648180              1.0  \n",
       "Cumbres Mayores                     57.175529  114.351058              NaN  \n",
       "Lucena del Puerto                   30.665440  490.647041              NaN  \n",
       "Minas de Riotinto                   26.232949   52.465897              NaN  "
      ],
      "text/html": "<div>\n<style scoped>\n    .dataframe tbody tr th:only-of-type {\n        vertical-align: middle;\n    }\n\n    .dataframe tbody tr th {\n        vertical-align: top;\n    }\n\n    .dataframe thead th {\n        text-align: right;\n    }\n</style>\n<table border=\"1\" class=\"dataframe\">\n  <thead>\n    <tr style=\"text-align: right;\">\n      <th>Medida</th>\n      <th>Confirmados PDIA</th>\n      <th>Confirmados PDIA 7 días</th>\n      <th>Confirmados PDIA 14 días</th>\n      <th>Población</th>\n      <th>tasa7</th>\n      <th>tasa14</th>\n      <th>Diferencia PDIA</th>\n    </tr>\n    <tr>\n      <th>Lugar de residencia</th>\n      <th></th>\n      <th></th>\n      <th></th>\n      <th></th>\n      <th></th>\n      <th></th>\n      <th></th>\n    </tr>\n  </thead>\n  <tbody>\n    <tr>\n      <th>Huelva</th>\n      <td>29250.0</td>\n      <td>542.0</td>\n      <td>1030.0</td>\n      <td>513170.0</td>\n      <td>105.618021</td>\n      <td>200.713214</td>\n      <td>132.0</td>\n    </tr>\n    <tr>\n      <th>Huelva-Costa</th>\n      <td>17015.0</td>\n      <td>281.0</td>\n      <td>488.0</td>\n      <td>289548.0</td>\n      <td>97.047812</td>\n      <td>168.538550</td>\n      <td>70.0</td>\n    </tr>\n    <tr>\n      <th>Condado-Campiña</th>\n      <td>9304.0</td>\n      <td>228.0</td>\n      <td>473.0</td>\n      <td>156231.0</td>\n      <td>145.937746</td>\n      <td>302.756815</td>\n      <td>57.0</td>\n    </tr>\n    <tr>\n      <th>Huelva (capital)</th>\n      <td>7635.0</td>\n      <td>176.0</td>\n      <td>306.0</td>\n      <td>143837.0</td>\n      <td>122.360728</td>\n      <td>212.740811</td>\n      <td>41.0</td>\n    </tr>\n    <tr>\n      <th>Almonte</th>\n      <td>1629.0</td>\n      <td>79.0</td>\n      <td>156.0</td>\n      <td>24507.0</td>\n      <td>322.356878</td>\n      <td>636.552822</td>\n      <td>25.0</td>\n    </tr>\n    <tr>\n      <th>Moguer</th>\n      <td>1131.0</td>\n      <td>23.0</td>\n      <td>52.0</td>\n      <td>21867.0</td>\n      <td>105.181323</td>\n      <td>237.801253</td>\n      <td>10.0</td>\n    </tr>\n    <tr>\n      <th>Isla Cristina</th>\n      <td>2098.0</td>\n      <td>34.0</td>\n      <td>45.0</td>\n      <td>21393.0</td>\n      <td>158.930491</td>\n      <td>210.349180</td>\n      <td>9.0</td>\n    </tr>\n    <tr>\n      <th>Bollullos Par del Condado</th>\n      <td>876.0</td>\n      <td>42.0</td>\n      <td>89.0</td>\n      <td>14387.0</td>\n      <td>291.930215</td>\n      <td>618.614027</td>\n      <td>8.0</td>\n    </tr>\n    <tr>\n      <th>Punta Umbría</th>\n      <td>736.0</td>\n      <td>22.0</td>\n      <td>29.0</td>\n      <td>15355.0</td>\n      <td>143.275806</td>\n      <td>188.863562</td>\n      <td>8.0</td>\n    </tr>\n    <tr>\n      <th>Sierra de Huelva-Andévalo Central</th>\n      <td>2589.0</td>\n      <td>31.0</td>\n      <td>60.0</td>\n      <td>67391.0</td>\n      <td>46.000208</td>\n      <td>89.032660</td>\n      <td>5.0</td>\n    </tr>\n    <tr>\n      <th>Lepe</th>\n      <td>2094.0</td>\n      <td>11.0</td>\n      <td>17.0</td>\n      <td>27880.0</td>\n      <td>39.454806</td>\n      <td>60.975610</td>\n      <td>5.0</td>\n    </tr>\n    <tr>\n      <th>Aljaraque</th>\n      <td>1016.0</td>\n      <td>10.0</td>\n      <td>24.0</td>\n      <td>21474.0</td>\n      <td>46.567943</td>\n      <td>111.763062</td>\n      <td>4.0</td>\n    </tr>\n    <tr>\n      <th>Gibraleón</th>\n      <td>598.0</td>\n      <td>11.0</td>\n      <td>17.0</td>\n      <td>12737.0</td>\n      <td>86.362566</td>\n      <td>133.469420</td>\n      <td>4.0</td>\n    </tr>\n    <tr>\n      <th>Galaroza</th>\n      <td>37.0</td>\n      <td>7.0</td>\n      <td>10.0</td>\n      <td>1382.0</td>\n      <td>506.512301</td>\n      <td>723.589001</td>\n      <td>2.0</td>\n    </tr>\n    <tr>\n      <th>Rociana del Condado</th>\n      <td>529.0</td>\n      <td>13.0</td>\n      <td>28.0</td>\n      <td>7939.0</td>\n      <td>163.748583</td>\n      <td>352.689256</td>\n      <td>2.0</td>\n    </tr>\n    <tr>\n      <th>San Juan del Puerto</th>\n      <td>459.0</td>\n      <td>9.0</td>\n      <td>18.0</td>\n      <td>9411.0</td>\n      <td>95.632770</td>\n      <td>191.265540</td>\n      <td>2.0</td>\n    </tr>\n    <tr>\n      <th>Cartaya</th>\n      <td>1291.0</td>\n      <td>16.0</td>\n      <td>36.0</td>\n      <td>20083.0</td>\n      <td>79.669372</td>\n      <td>179.256087</td>\n      <td>2.0</td>\n    </tr>\n    <tr>\n      <th>Villalba del Alcor</th>\n      <td>474.0</td>\n      <td>3.0</td>\n      <td>3.0</td>\n      <td>3366.0</td>\n      <td>89.126560</td>\n      <td>89.126560</td>\n      <td>2.0</td>\n    </tr>\n    <tr>\n      <th>Niebla</th>\n      <td>201.0</td>\n      <td>5.0</td>\n      <td>9.0</td>\n      <td>4116.0</td>\n      <td>121.477162</td>\n      <td>218.658892</td>\n      <td>1.0</td>\n    </tr>\n    <tr>\n      <th>Palma del Condado (La)</th>\n      <td>1049.0</td>\n      <td>10.0</td>\n      <td>18.0</td>\n      <td>10801.0</td>\n      <td>92.584020</td>\n      <td>166.651236</td>\n      <td>1.0</td>\n    </tr>\n    <tr>\n      <th>Escacena del Campo</th>\n      <td>149.0</td>\n      <td>3.0</td>\n      <td>6.0</td>\n      <td>2287.0</td>\n      <td>131.176213</td>\n      <td>262.352427</td>\n      <td>1.0</td>\n    </tr>\n    <tr>\n      <th>Valverde del Camino</th>\n      <td>488.0</td>\n      <td>12.0</td>\n      <td>17.0</td>\n      <td>12750.0</td>\n      <td>94.117647</td>\n      <td>133.333333</td>\n      <td>1.0</td>\n    </tr>\n    <tr>\n      <th>Villablanca</th>\n      <td>184.0</td>\n      <td>2.0</td>\n      <td>4.0</td>\n      <td>2885.0</td>\n      <td>69.324090</td>\n      <td>138.648180</td>\n      <td>1.0</td>\n    </tr>\n    <tr>\n      <th>Cumbres Mayores</th>\n      <td>50.0</td>\n      <td>1.0</td>\n      <td>2.0</td>\n      <td>1749.0</td>\n      <td>57.175529</td>\n      <td>114.351058</td>\n      <td>NaN</td>\n    </tr>\n    <tr>\n      <th>Lucena del Puerto</th>\n      <td>234.0</td>\n      <td>1.0</td>\n      <td>16.0</td>\n      <td>3261.0</td>\n      <td>30.665440</td>\n      <td>490.647041</td>\n      <td>NaN</td>\n    </tr>\n    <tr>\n      <th>Minas de Riotinto</th>\n      <td>115.0</td>\n      <td>1.0</td>\n      <td>2.0</td>\n      <td>3812.0</td>\n      <td>26.232949</td>\n      <td>52.465897</td>\n      <td>NaN</td>\n    </tr>\n  </tbody>\n</table>\n</div>"
     },
     "metadata": {},
     "execution_count": 15
    }
   ],
   "source": [
    "# Nuevos casos desde la última captura\n",
    "tabla[tabla['Diferencia PDIA'] != 0].sort_values('Diferencia PDIA', ascending=False)"
   ]
  },
  {
   "cell_type": "code",
   "execution_count": 16,
   "metadata": {},
   "outputs": [],
   "source": [
    "if tabla[tabla['Diferencia PDIA'] != 0]['Diferencia PDIA'].sum() != 0:\n",
    "  # Save to csv\n",
    "  tabla.to_csv('covid_huelva.csv', encoding='utf-8', header=True, index=True)  "
   ]
  },
  {
   "cell_type": "code",
   "execution_count": 17,
   "metadata": {},
   "outputs": [
    {
     "output_type": "execute_result",
     "data": {
      "text/plain": [
       "Medida                             Confirmados PDIA  Confirmados PDIA 7 días  \\\n",
       "Lugar de residencia                                                            \n",
       "Cortelazor                                      8.0                      1.0   \n",
       "Galaroza                                       37.0                      7.0   \n",
       "Almonte                                      1629.0                     79.0   \n",
       "Bollullos Par del Condado                     876.0                     42.0   \n",
       "Lucena del Puerto                             234.0                      1.0   \n",
       "Rociana del Condado                           529.0                     13.0   \n",
       "Condado-Campiña                              9304.0                    228.0   \n",
       "Escacena del Campo                            149.0                      3.0   \n",
       "Moguer                                       1131.0                     23.0   \n",
       "Niebla                                        201.0                      5.0   \n",
       "Bonares                                       259.0                      4.0   \n",
       "Huelva (capital)                             7635.0                    176.0   \n",
       "Isla Cristina                                2098.0                     34.0   \n",
       "Palos de la Frontera                          599.0                     12.0   \n",
       "Huelva                                      29250.0                    542.0   \n",
       "San Juan del Puerto                           459.0                      9.0   \n",
       "Punta Umbría                                  736.0                     22.0   \n",
       "Beas                                          202.0                      3.0   \n",
       "Cartaya                                      1291.0                     16.0   \n",
       "Rosal de la Frontera                           29.0                      1.0   \n",
       "Nerva                                         162.0                      8.0   \n",
       "Huelva-Costa                                17015.0                    281.0   \n",
       "Palma del Condado (La)                       1049.0                     10.0   \n",
       "Cabezas Rubias                                 32.0                      1.0   \n",
       "Trigueros                                     273.0                      6.0   \n",
       "Villablanca                                   184.0                      2.0   \n",
       "Gibraleón                                     598.0                     11.0   \n",
       "Valverde del Camino                           488.0                     12.0   \n",
       "Ayamonte                                     1296.0                      9.0   \n",
       "Cumbres Mayores                                50.0                      1.0   \n",
       "Aljaraque                                    1016.0                     10.0   \n",
       "Manzanilla                                     86.0                      1.0   \n",
       "Villalba del Alcor                            474.0                      3.0   \n",
       "Sierra de Huelva-Andévalo Central            2589.0                     31.0   \n",
       "Lepe                                         2094.0                     11.0   \n",
       "Minas de Riotinto                             115.0                      1.0   \n",
       "Villarrasa                                    148.0                      1.0   \n",
       "Paterna del Campo                             125.0                      1.0   \n",
       "San Bartolomé de la Torre                     283.0                      1.0   \n",
       "\n",
       "Medida                             Confirmados PDIA 14 días  Población  \\\n",
       "Lugar de residencia                                                      \n",
       "Cortelazor                                              3.0      299.0   \n",
       "Galaroza                                               10.0     1382.0   \n",
       "Almonte                                               156.0    24507.0   \n",
       "Bollullos Par del Condado                              89.0    14387.0   \n",
       "Lucena del Puerto                                      16.0     3261.0   \n",
       "Rociana del Condado                                    28.0     7939.0   \n",
       "Condado-Campiña                                       473.0   156231.0   \n",
       "Escacena del Campo                                      6.0     2287.0   \n",
       "Moguer                                                 52.0    21867.0   \n",
       "Niebla                                                  9.0     4116.0   \n",
       "Bonares                                                13.0     6060.0   \n",
       "Huelva (capital)                                      306.0   143837.0   \n",
       "Isla Cristina                                          45.0    21393.0   \n",
       "Palos de la Frontera                                   24.0    11742.0   \n",
       "Huelva                                               1030.0   513170.0   \n",
       "San Juan del Puerto                                    18.0     9411.0   \n",
       "Punta Umbría                                           29.0    15355.0   \n",
       "Beas                                                    8.0     4341.0   \n",
       "Cartaya                                                36.0    20083.0   \n",
       "Rosal de la Frontera                                    3.0     1697.0   \n",
       "Nerva                                                   9.0     5169.0   \n",
       "Huelva-Costa                                          488.0   289548.0   \n",
       "Palma del Condado (La)                                 18.0    10801.0   \n",
       "Cabezas Rubias                                          1.0      706.0   \n",
       "Trigueros                                              11.0     7862.0   \n",
       "Villablanca                                             4.0     2885.0   \n",
       "Gibraleón                                              17.0    12737.0   \n",
       "Valverde del Camino                                    17.0    12750.0   \n",
       "Ayamonte                                               25.0    21104.0   \n",
       "Cumbres Mayores                                         2.0     1749.0   \n",
       "Aljaraque                                              24.0    21474.0   \n",
       "Manzanilla                                              2.0     2118.0   \n",
       "Villalba del Alcor                                      3.0     3366.0   \n",
       "Sierra de Huelva-Andévalo Central                      60.0    67391.0   \n",
       "Lepe                                                   17.0    27880.0   \n",
       "Minas de Riotinto                                       2.0     3812.0   \n",
       "Villarrasa                                              1.0     2211.0   \n",
       "Paterna del Campo                                       1.0     3457.0   \n",
       "San Bartolomé de la Torre                               1.0     3761.0   \n",
       "\n",
       "Medida                                  tasa7       tasa14  Diferencia PDIA  \n",
       "Lugar de residencia                                                          \n",
       "Cortelazor                         334.448161  1003.344482              0.0  \n",
       "Galaroza                           506.512301   723.589001              2.0  \n",
       "Almonte                            322.356878   636.552822             25.0  \n",
       "Bollullos Par del Condado          291.930215   618.614027              8.0  \n",
       "Lucena del Puerto                   30.665440   490.647041              NaN  \n",
       "Rociana del Condado                163.748583   352.689256              2.0  \n",
       "Condado-Campiña                    145.937746   302.756815             57.0  \n",
       "Escacena del Campo                 131.176213   262.352427              1.0  \n",
       "Moguer                             105.181323   237.801253             10.0  \n",
       "Niebla                             121.477162   218.658892              1.0  \n",
       "Bonares                             66.006601   214.521452              0.0  \n",
       "Huelva (capital)                   122.360728   212.740811             41.0  \n",
       "Isla Cristina                      158.930491   210.349180              9.0  \n",
       "Palos de la Frontera               102.197241   204.394481              0.0  \n",
       "Huelva                             105.618021   200.713214            132.0  \n",
       "San Juan del Puerto                 95.632770   191.265540              2.0  \n",
       "Punta Umbría                       143.275806   188.863562              8.0  \n",
       "Beas                                69.108500   184.289334              0.0  \n",
       "Cartaya                             79.669372   179.256087              2.0  \n",
       "Rosal de la Frontera                58.927519   176.782557              0.0  \n",
       "Nerva                              154.768814   174.114916              0.0  \n",
       "Huelva-Costa                        97.047812   168.538550             70.0  \n",
       "Palma del Condado (La)              92.584020   166.651236              1.0  \n",
       "Cabezas Rubias                     141.643059   141.643059              0.0  \n",
       "Trigueros                           76.316459   139.913508              0.0  \n",
       "Villablanca                         69.324090   138.648180              1.0  \n",
       "Gibraleón                           86.362566   133.469420              4.0  \n",
       "Valverde del Camino                 94.117647   133.333333              1.0  \n",
       "Ayamonte                            42.645944   118.460955              0.0  \n",
       "Cumbres Mayores                     57.175529   114.351058              NaN  \n",
       "Aljaraque                           46.567943   111.763062              4.0  \n",
       "Manzanilla                          47.214353    94.428706              0.0  \n",
       "Villalba del Alcor                  89.126560    89.126560              2.0  \n",
       "Sierra de Huelva-Andévalo Central   46.000208    89.032660              5.0  \n",
       "Lepe                                39.454806    60.975610              5.0  \n",
       "Minas de Riotinto                   26.232949    52.465897              NaN  \n",
       "Villarrasa                          45.228403    45.228403              0.0  \n",
       "Paterna del Campo                   28.926815    28.926815              0.0  \n",
       "San Bartolomé de la Torre           26.588673    26.588673              0.0  "
      ],
      "text/html": "<div>\n<style scoped>\n    .dataframe tbody tr th:only-of-type {\n        vertical-align: middle;\n    }\n\n    .dataframe tbody tr th {\n        vertical-align: top;\n    }\n\n    .dataframe thead th {\n        text-align: right;\n    }\n</style>\n<table border=\"1\" class=\"dataframe\">\n  <thead>\n    <tr style=\"text-align: right;\">\n      <th>Medida</th>\n      <th>Confirmados PDIA</th>\n      <th>Confirmados PDIA 7 días</th>\n      <th>Confirmados PDIA 14 días</th>\n      <th>Población</th>\n      <th>tasa7</th>\n      <th>tasa14</th>\n      <th>Diferencia PDIA</th>\n    </tr>\n    <tr>\n      <th>Lugar de residencia</th>\n      <th></th>\n      <th></th>\n      <th></th>\n      <th></th>\n      <th></th>\n      <th></th>\n      <th></th>\n    </tr>\n  </thead>\n  <tbody>\n    <tr>\n      <th>Cortelazor</th>\n      <td>8.0</td>\n      <td>1.0</td>\n      <td>3.0</td>\n      <td>299.0</td>\n      <td>334.448161</td>\n      <td>1003.344482</td>\n      <td>0.0</td>\n    </tr>\n    <tr>\n      <th>Galaroza</th>\n      <td>37.0</td>\n      <td>7.0</td>\n      <td>10.0</td>\n      <td>1382.0</td>\n      <td>506.512301</td>\n      <td>723.589001</td>\n      <td>2.0</td>\n    </tr>\n    <tr>\n      <th>Almonte</th>\n      <td>1629.0</td>\n      <td>79.0</td>\n      <td>156.0</td>\n      <td>24507.0</td>\n      <td>322.356878</td>\n      <td>636.552822</td>\n      <td>25.0</td>\n    </tr>\n    <tr>\n      <th>Bollullos Par del Condado</th>\n      <td>876.0</td>\n      <td>42.0</td>\n      <td>89.0</td>\n      <td>14387.0</td>\n      <td>291.930215</td>\n      <td>618.614027</td>\n      <td>8.0</td>\n    </tr>\n    <tr>\n      <th>Lucena del Puerto</th>\n      <td>234.0</td>\n      <td>1.0</td>\n      <td>16.0</td>\n      <td>3261.0</td>\n      <td>30.665440</td>\n      <td>490.647041</td>\n      <td>NaN</td>\n    </tr>\n    <tr>\n      <th>Rociana del Condado</th>\n      <td>529.0</td>\n      <td>13.0</td>\n      <td>28.0</td>\n      <td>7939.0</td>\n      <td>163.748583</td>\n      <td>352.689256</td>\n      <td>2.0</td>\n    </tr>\n    <tr>\n      <th>Condado-Campiña</th>\n      <td>9304.0</td>\n      <td>228.0</td>\n      <td>473.0</td>\n      <td>156231.0</td>\n      <td>145.937746</td>\n      <td>302.756815</td>\n      <td>57.0</td>\n    </tr>\n    <tr>\n      <th>Escacena del Campo</th>\n      <td>149.0</td>\n      <td>3.0</td>\n      <td>6.0</td>\n      <td>2287.0</td>\n      <td>131.176213</td>\n      <td>262.352427</td>\n      <td>1.0</td>\n    </tr>\n    <tr>\n      <th>Moguer</th>\n      <td>1131.0</td>\n      <td>23.0</td>\n      <td>52.0</td>\n      <td>21867.0</td>\n      <td>105.181323</td>\n      <td>237.801253</td>\n      <td>10.0</td>\n    </tr>\n    <tr>\n      <th>Niebla</th>\n      <td>201.0</td>\n      <td>5.0</td>\n      <td>9.0</td>\n      <td>4116.0</td>\n      <td>121.477162</td>\n      <td>218.658892</td>\n      <td>1.0</td>\n    </tr>\n    <tr>\n      <th>Bonares</th>\n      <td>259.0</td>\n      <td>4.0</td>\n      <td>13.0</td>\n      <td>6060.0</td>\n      <td>66.006601</td>\n      <td>214.521452</td>\n      <td>0.0</td>\n    </tr>\n    <tr>\n      <th>Huelva (capital)</th>\n      <td>7635.0</td>\n      <td>176.0</td>\n      <td>306.0</td>\n      <td>143837.0</td>\n      <td>122.360728</td>\n      <td>212.740811</td>\n      <td>41.0</td>\n    </tr>\n    <tr>\n      <th>Isla Cristina</th>\n      <td>2098.0</td>\n      <td>34.0</td>\n      <td>45.0</td>\n      <td>21393.0</td>\n      <td>158.930491</td>\n      <td>210.349180</td>\n      <td>9.0</td>\n    </tr>\n    <tr>\n      <th>Palos de la Frontera</th>\n      <td>599.0</td>\n      <td>12.0</td>\n      <td>24.0</td>\n      <td>11742.0</td>\n      <td>102.197241</td>\n      <td>204.394481</td>\n      <td>0.0</td>\n    </tr>\n    <tr>\n      <th>Huelva</th>\n      <td>29250.0</td>\n      <td>542.0</td>\n      <td>1030.0</td>\n      <td>513170.0</td>\n      <td>105.618021</td>\n      <td>200.713214</td>\n      <td>132.0</td>\n    </tr>\n    <tr>\n      <th>San Juan del Puerto</th>\n      <td>459.0</td>\n      <td>9.0</td>\n      <td>18.0</td>\n      <td>9411.0</td>\n      <td>95.632770</td>\n      <td>191.265540</td>\n      <td>2.0</td>\n    </tr>\n    <tr>\n      <th>Punta Umbría</th>\n      <td>736.0</td>\n      <td>22.0</td>\n      <td>29.0</td>\n      <td>15355.0</td>\n      <td>143.275806</td>\n      <td>188.863562</td>\n      <td>8.0</td>\n    </tr>\n    <tr>\n      <th>Beas</th>\n      <td>202.0</td>\n      <td>3.0</td>\n      <td>8.0</td>\n      <td>4341.0</td>\n      <td>69.108500</td>\n      <td>184.289334</td>\n      <td>0.0</td>\n    </tr>\n    <tr>\n      <th>Cartaya</th>\n      <td>1291.0</td>\n      <td>16.0</td>\n      <td>36.0</td>\n      <td>20083.0</td>\n      <td>79.669372</td>\n      <td>179.256087</td>\n      <td>2.0</td>\n    </tr>\n    <tr>\n      <th>Rosal de la Frontera</th>\n      <td>29.0</td>\n      <td>1.0</td>\n      <td>3.0</td>\n      <td>1697.0</td>\n      <td>58.927519</td>\n      <td>176.782557</td>\n      <td>0.0</td>\n    </tr>\n    <tr>\n      <th>Nerva</th>\n      <td>162.0</td>\n      <td>8.0</td>\n      <td>9.0</td>\n      <td>5169.0</td>\n      <td>154.768814</td>\n      <td>174.114916</td>\n      <td>0.0</td>\n    </tr>\n    <tr>\n      <th>Huelva-Costa</th>\n      <td>17015.0</td>\n      <td>281.0</td>\n      <td>488.0</td>\n      <td>289548.0</td>\n      <td>97.047812</td>\n      <td>168.538550</td>\n      <td>70.0</td>\n    </tr>\n    <tr>\n      <th>Palma del Condado (La)</th>\n      <td>1049.0</td>\n      <td>10.0</td>\n      <td>18.0</td>\n      <td>10801.0</td>\n      <td>92.584020</td>\n      <td>166.651236</td>\n      <td>1.0</td>\n    </tr>\n    <tr>\n      <th>Cabezas Rubias</th>\n      <td>32.0</td>\n      <td>1.0</td>\n      <td>1.0</td>\n      <td>706.0</td>\n      <td>141.643059</td>\n      <td>141.643059</td>\n      <td>0.0</td>\n    </tr>\n    <tr>\n      <th>Trigueros</th>\n      <td>273.0</td>\n      <td>6.0</td>\n      <td>11.0</td>\n      <td>7862.0</td>\n      <td>76.316459</td>\n      <td>139.913508</td>\n      <td>0.0</td>\n    </tr>\n    <tr>\n      <th>Villablanca</th>\n      <td>184.0</td>\n      <td>2.0</td>\n      <td>4.0</td>\n      <td>2885.0</td>\n      <td>69.324090</td>\n      <td>138.648180</td>\n      <td>1.0</td>\n    </tr>\n    <tr>\n      <th>Gibraleón</th>\n      <td>598.0</td>\n      <td>11.0</td>\n      <td>17.0</td>\n      <td>12737.0</td>\n      <td>86.362566</td>\n      <td>133.469420</td>\n      <td>4.0</td>\n    </tr>\n    <tr>\n      <th>Valverde del Camino</th>\n      <td>488.0</td>\n      <td>12.0</td>\n      <td>17.0</td>\n      <td>12750.0</td>\n      <td>94.117647</td>\n      <td>133.333333</td>\n      <td>1.0</td>\n    </tr>\n    <tr>\n      <th>Ayamonte</th>\n      <td>1296.0</td>\n      <td>9.0</td>\n      <td>25.0</td>\n      <td>21104.0</td>\n      <td>42.645944</td>\n      <td>118.460955</td>\n      <td>0.0</td>\n    </tr>\n    <tr>\n      <th>Cumbres Mayores</th>\n      <td>50.0</td>\n      <td>1.0</td>\n      <td>2.0</td>\n      <td>1749.0</td>\n      <td>57.175529</td>\n      <td>114.351058</td>\n      <td>NaN</td>\n    </tr>\n    <tr>\n      <th>Aljaraque</th>\n      <td>1016.0</td>\n      <td>10.0</td>\n      <td>24.0</td>\n      <td>21474.0</td>\n      <td>46.567943</td>\n      <td>111.763062</td>\n      <td>4.0</td>\n    </tr>\n    <tr>\n      <th>Manzanilla</th>\n      <td>86.0</td>\n      <td>1.0</td>\n      <td>2.0</td>\n      <td>2118.0</td>\n      <td>47.214353</td>\n      <td>94.428706</td>\n      <td>0.0</td>\n    </tr>\n    <tr>\n      <th>Villalba del Alcor</th>\n      <td>474.0</td>\n      <td>3.0</td>\n      <td>3.0</td>\n      <td>3366.0</td>\n      <td>89.126560</td>\n      <td>89.126560</td>\n      <td>2.0</td>\n    </tr>\n    <tr>\n      <th>Sierra de Huelva-Andévalo Central</th>\n      <td>2589.0</td>\n      <td>31.0</td>\n      <td>60.0</td>\n      <td>67391.0</td>\n      <td>46.000208</td>\n      <td>89.032660</td>\n      <td>5.0</td>\n    </tr>\n    <tr>\n      <th>Lepe</th>\n      <td>2094.0</td>\n      <td>11.0</td>\n      <td>17.0</td>\n      <td>27880.0</td>\n      <td>39.454806</td>\n      <td>60.975610</td>\n      <td>5.0</td>\n    </tr>\n    <tr>\n      <th>Minas de Riotinto</th>\n      <td>115.0</td>\n      <td>1.0</td>\n      <td>2.0</td>\n      <td>3812.0</td>\n      <td>26.232949</td>\n      <td>52.465897</td>\n      <td>NaN</td>\n    </tr>\n    <tr>\n      <th>Villarrasa</th>\n      <td>148.0</td>\n      <td>1.0</td>\n      <td>1.0</td>\n      <td>2211.0</td>\n      <td>45.228403</td>\n      <td>45.228403</td>\n      <td>0.0</td>\n    </tr>\n    <tr>\n      <th>Paterna del Campo</th>\n      <td>125.0</td>\n      <td>1.0</td>\n      <td>1.0</td>\n      <td>3457.0</td>\n      <td>28.926815</td>\n      <td>28.926815</td>\n      <td>0.0</td>\n    </tr>\n    <tr>\n      <th>San Bartolomé de la Torre</th>\n      <td>283.0</td>\n      <td>1.0</td>\n      <td>1.0</td>\n      <td>3761.0</td>\n      <td>26.588673</td>\n      <td>26.588673</td>\n      <td>0.0</td>\n    </tr>\n  </tbody>\n</table>\n</div>"
     },
     "metadata": {},
     "execution_count": 17
    }
   ],
   "source": [
    "tabla.sort_values('tasa14', ascending=False)"
   ]
  },
  {
   "cell_type": "code",
   "execution_count": 18,
   "metadata": {},
   "outputs": [
    {
     "output_type": "execute_result",
     "data": {
      "text/plain": [
       "Medida                             Confirmados PDIA  Confirmados PDIA 7 días  \\\n",
       "Lugar de residencia                                                            \n",
       "Lucena del Puerto                             234.0                      1.0   \n",
       "Bonares                                       259.0                      4.0   \n",
       "Cortelazor                                      8.0                      1.0   \n",
       "Rosal de la Frontera                           29.0                      1.0   \n",
       "Ayamonte                                     1296.0                      9.0   \n",
       "Beas                                          202.0                      3.0   \n",
       "Aljaraque                                    1016.0                     10.0   \n",
       "Moguer                                       1131.0                     23.0   \n",
       "Cartaya                                      1291.0                     16.0   \n",
       "Rociana del Condado                           529.0                     13.0   \n",
       "Bollullos Par del Condado                     876.0                     42.0   \n",
       "Condado-Campiña                              9304.0                    228.0   \n",
       "Palos de la Frontera                          599.0                     12.0   \n",
       "Minas de Riotinto                             115.0                      1.0   \n",
       "Villablanca                                   184.0                      2.0   \n",
       "Manzanilla                                     86.0                      1.0   \n",
       "San Juan del Puerto                           459.0                      9.0   \n",
       "Cumbres Mayores                                50.0                      1.0   \n",
       "Escacena del Campo                            149.0                      3.0   \n",
       "Almonte                                      1629.0                     79.0   \n",
       "Sierra de Huelva-Andévalo Central            2589.0                     31.0   \n",
       "Huelva                                      29250.0                    542.0   \n",
       "Trigueros                                     273.0                      6.0   \n",
       "Palma del Condado (La)                       1049.0                     10.0   \n",
       "Niebla                                        201.0                      5.0   \n",
       "Huelva (capital)                             7635.0                    176.0   \n",
       "Huelva-Costa                                17015.0                    281.0   \n",
       "Gibraleón                                     598.0                     11.0   \n",
       "Lepe                                         2094.0                     11.0   \n",
       "Galaroza                                       37.0                      7.0   \n",
       "Valverde del Camino                           488.0                     12.0   \n",
       "Isla Cristina                                2098.0                     34.0   \n",
       "Punta Umbría                                  736.0                     22.0   \n",
       "Nerva                                         162.0                      8.0   \n",
       "Paterna del Campo                             125.0                      1.0   \n",
       "Cabezas Rubias                                 32.0                      1.0   \n",
       "Villalba del Alcor                            474.0                      3.0   \n",
       "San Bartolomé de la Torre                     283.0                      1.0   \n",
       "Villarrasa                                    148.0                      1.0   \n",
       "\n",
       "Medida                             Confirmados PDIA 14 días  Población  \\\n",
       "Lugar de residencia                                                      \n",
       "Lucena del Puerto                                      16.0     3261.0   \n",
       "Bonares                                                13.0     6060.0   \n",
       "Cortelazor                                              3.0      299.0   \n",
       "Rosal de la Frontera                                    3.0     1697.0   \n",
       "Ayamonte                                               25.0    21104.0   \n",
       "Beas                                                    8.0     4341.0   \n",
       "Aljaraque                                              24.0    21474.0   \n",
       "Moguer                                                 52.0    21867.0   \n",
       "Cartaya                                                36.0    20083.0   \n",
       "Rociana del Condado                                    28.0     7939.0   \n",
       "Bollullos Par del Condado                              89.0    14387.0   \n",
       "Condado-Campiña                                       473.0   156231.0   \n",
       "Palos de la Frontera                                   24.0    11742.0   \n",
       "Minas de Riotinto                                       2.0     3812.0   \n",
       "Villablanca                                             4.0     2885.0   \n",
       "Manzanilla                                              2.0     2118.0   \n",
       "San Juan del Puerto                                    18.0     9411.0   \n",
       "Cumbres Mayores                                         2.0     1749.0   \n",
       "Escacena del Campo                                      6.0     2287.0   \n",
       "Almonte                                               156.0    24507.0   \n",
       "Sierra de Huelva-Andévalo Central                      60.0    67391.0   \n",
       "Huelva                                               1030.0   513170.0   \n",
       "Trigueros                                              11.0     7862.0   \n",
       "Palma del Condado (La)                                 18.0    10801.0   \n",
       "Niebla                                                  9.0     4116.0   \n",
       "Huelva (capital)                                      306.0   143837.0   \n",
       "Huelva-Costa                                          488.0   289548.0   \n",
       "Gibraleón                                              17.0    12737.0   \n",
       "Lepe                                                   17.0    27880.0   \n",
       "Galaroza                                               10.0     1382.0   \n",
       "Valverde del Camino                                    17.0    12750.0   \n",
       "Isla Cristina                                          45.0    21393.0   \n",
       "Punta Umbría                                           29.0    15355.0   \n",
       "Nerva                                                   9.0     5169.0   \n",
       "Paterna del Campo                                       1.0     3457.0   \n",
       "Cabezas Rubias                                          1.0      706.0   \n",
       "Villalba del Alcor                                      3.0     3366.0   \n",
       "San Bartolomé de la Torre                               1.0     3761.0   \n",
       "Villarrasa                                              1.0     2211.0   \n",
       "\n",
       "Medida                                  tasa7       tasa14  Diferencia PDIA  \\\n",
       "Lugar de residencia                                                           \n",
       "Lucena del Puerto                   30.665440   490.647041              0.0   \n",
       "Bonares                             66.006601   214.521452              0.0   \n",
       "Cortelazor                         334.448161  1003.344482              0.0   \n",
       "Rosal de la Frontera                58.927519   176.782557              0.0   \n",
       "Ayamonte                            42.645944   118.460955              0.0   \n",
       "Beas                                69.108500   184.289334              0.0   \n",
       "Aljaraque                           46.567943   111.763062              4.0   \n",
       "Moguer                             105.181323   237.801253             10.0   \n",
       "Cartaya                             79.669372   179.256087              2.0   \n",
       "Rociana del Condado                163.748583   352.689256              2.0   \n",
       "Bollullos Par del Condado          291.930215   618.614027              8.0   \n",
       "Condado-Campiña                    145.937746   302.756815             57.0   \n",
       "Palos de la Frontera               102.197241   204.394481              0.0   \n",
       "Minas de Riotinto                   26.232949    52.465897              0.0   \n",
       "Villablanca                         69.324090   138.648180              1.0   \n",
       "Manzanilla                          47.214353    94.428706              0.0   \n",
       "San Juan del Puerto                 95.632770   191.265540              2.0   \n",
       "Cumbres Mayores                     57.175529   114.351058              0.0   \n",
       "Escacena del Campo                 131.176213   262.352427              1.0   \n",
       "Almonte                            322.356878   636.552822             25.0   \n",
       "Sierra de Huelva-Andévalo Central   46.000208    89.032660              5.0   \n",
       "Huelva                             105.618021   200.713214            132.0   \n",
       "Trigueros                           76.316459   139.913508              0.0   \n",
       "Palma del Condado (La)              92.584020   166.651236              1.0   \n",
       "Niebla                             121.477162   218.658892              1.0   \n",
       "Huelva (capital)                   122.360728   212.740811             41.0   \n",
       "Huelva-Costa                        97.047812   168.538550             70.0   \n",
       "Gibraleón                           86.362566   133.469420              4.0   \n",
       "Lepe                                39.454806    60.975610              5.0   \n",
       "Galaroza                           506.512301   723.589001              2.0   \n",
       "Valverde del Camino                 94.117647   133.333333              1.0   \n",
       "Isla Cristina                      158.930491   210.349180              9.0   \n",
       "Punta Umbría                       143.275806   188.863562              8.0   \n",
       "Nerva                              154.768814   174.114916              0.0   \n",
       "Paterna del Campo                   28.926815    28.926815              0.0   \n",
       "Cabezas Rubias                     141.643059   141.643059              0.0   \n",
       "Villalba del Alcor                  89.126560    89.126560              2.0   \n",
       "San Bartolomé de la Torre           26.588673    26.588673              0.0   \n",
       "Villarrasa                          45.228403    45.228403              0.0   \n",
       "\n",
       "Medida                                 7/14  \n",
       "Lugar de residencia                          \n",
       "Lucena del Puerto                  0.062500  \n",
       "Bonares                            0.307692  \n",
       "Cortelazor                         0.333333  \n",
       "Rosal de la Frontera               0.333333  \n",
       "Ayamonte                           0.360000  \n",
       "Beas                               0.375000  \n",
       "Aljaraque                          0.416667  \n",
       "Moguer                             0.442308  \n",
       "Cartaya                            0.444444  \n",
       "Rociana del Condado                0.464286  \n",
       "Bollullos Par del Condado          0.471910  \n",
       "Condado-Campiña                    0.482030  \n",
       "Palos de la Frontera               0.500000  \n",
       "Minas de Riotinto                  0.500000  \n",
       "Villablanca                        0.500000  \n",
       "Manzanilla                         0.500000  \n",
       "San Juan del Puerto                0.500000  \n",
       "Cumbres Mayores                    0.500000  \n",
       "Escacena del Campo                 0.500000  \n",
       "Almonte                            0.506410  \n",
       "Sierra de Huelva-Andévalo Central  0.516667  \n",
       "Huelva                             0.526214  \n",
       "Trigueros                          0.545455  \n",
       "Palma del Condado (La)             0.555556  \n",
       "Niebla                             0.555556  \n",
       "Huelva (capital)                   0.575163  \n",
       "Huelva-Costa                       0.575820  \n",
       "Gibraleón                          0.647059  \n",
       "Lepe                               0.647059  \n",
       "Galaroza                           0.700000  \n",
       "Valverde del Camino                0.705882  \n",
       "Isla Cristina                      0.755556  \n",
       "Punta Umbría                       0.758621  \n",
       "Nerva                              0.888889  \n",
       "Paterna del Campo                  1.000000  \n",
       "Cabezas Rubias                     1.000000  \n",
       "Villalba del Alcor                 1.000000  \n",
       "San Bartolomé de la Torre          1.000000  \n",
       "Villarrasa                         1.000000  "
      ],
      "text/html": "<div>\n<style scoped>\n    .dataframe tbody tr th:only-of-type {\n        vertical-align: middle;\n    }\n\n    .dataframe tbody tr th {\n        vertical-align: top;\n    }\n\n    .dataframe thead th {\n        text-align: right;\n    }\n</style>\n<table border=\"1\" class=\"dataframe\">\n  <thead>\n    <tr style=\"text-align: right;\">\n      <th>Medida</th>\n      <th>Confirmados PDIA</th>\n      <th>Confirmados PDIA 7 días</th>\n      <th>Confirmados PDIA 14 días</th>\n      <th>Población</th>\n      <th>tasa7</th>\n      <th>tasa14</th>\n      <th>Diferencia PDIA</th>\n      <th>7/14</th>\n    </tr>\n    <tr>\n      <th>Lugar de residencia</th>\n      <th></th>\n      <th></th>\n      <th></th>\n      <th></th>\n      <th></th>\n      <th></th>\n      <th></th>\n      <th></th>\n    </tr>\n  </thead>\n  <tbody>\n    <tr>\n      <th>Lucena del Puerto</th>\n      <td>234.0</td>\n      <td>1.0</td>\n      <td>16.0</td>\n      <td>3261.0</td>\n      <td>30.665440</td>\n      <td>490.647041</td>\n      <td>0.0</td>\n      <td>0.062500</td>\n    </tr>\n    <tr>\n      <th>Bonares</th>\n      <td>259.0</td>\n      <td>4.0</td>\n      <td>13.0</td>\n      <td>6060.0</td>\n      <td>66.006601</td>\n      <td>214.521452</td>\n      <td>0.0</td>\n      <td>0.307692</td>\n    </tr>\n    <tr>\n      <th>Cortelazor</th>\n      <td>8.0</td>\n      <td>1.0</td>\n      <td>3.0</td>\n      <td>299.0</td>\n      <td>334.448161</td>\n      <td>1003.344482</td>\n      <td>0.0</td>\n      <td>0.333333</td>\n    </tr>\n    <tr>\n      <th>Rosal de la Frontera</th>\n      <td>29.0</td>\n      <td>1.0</td>\n      <td>3.0</td>\n      <td>1697.0</td>\n      <td>58.927519</td>\n      <td>176.782557</td>\n      <td>0.0</td>\n      <td>0.333333</td>\n    </tr>\n    <tr>\n      <th>Ayamonte</th>\n      <td>1296.0</td>\n      <td>9.0</td>\n      <td>25.0</td>\n      <td>21104.0</td>\n      <td>42.645944</td>\n      <td>118.460955</td>\n      <td>0.0</td>\n      <td>0.360000</td>\n    </tr>\n    <tr>\n      <th>Beas</th>\n      <td>202.0</td>\n      <td>3.0</td>\n      <td>8.0</td>\n      <td>4341.0</td>\n      <td>69.108500</td>\n      <td>184.289334</td>\n      <td>0.0</td>\n      <td>0.375000</td>\n    </tr>\n    <tr>\n      <th>Aljaraque</th>\n      <td>1016.0</td>\n      <td>10.0</td>\n      <td>24.0</td>\n      <td>21474.0</td>\n      <td>46.567943</td>\n      <td>111.763062</td>\n      <td>4.0</td>\n      <td>0.416667</td>\n    </tr>\n    <tr>\n      <th>Moguer</th>\n      <td>1131.0</td>\n      <td>23.0</td>\n      <td>52.0</td>\n      <td>21867.0</td>\n      <td>105.181323</td>\n      <td>237.801253</td>\n      <td>10.0</td>\n      <td>0.442308</td>\n    </tr>\n    <tr>\n      <th>Cartaya</th>\n      <td>1291.0</td>\n      <td>16.0</td>\n      <td>36.0</td>\n      <td>20083.0</td>\n      <td>79.669372</td>\n      <td>179.256087</td>\n      <td>2.0</td>\n      <td>0.444444</td>\n    </tr>\n    <tr>\n      <th>Rociana del Condado</th>\n      <td>529.0</td>\n      <td>13.0</td>\n      <td>28.0</td>\n      <td>7939.0</td>\n      <td>163.748583</td>\n      <td>352.689256</td>\n      <td>2.0</td>\n      <td>0.464286</td>\n    </tr>\n    <tr>\n      <th>Bollullos Par del Condado</th>\n      <td>876.0</td>\n      <td>42.0</td>\n      <td>89.0</td>\n      <td>14387.0</td>\n      <td>291.930215</td>\n      <td>618.614027</td>\n      <td>8.0</td>\n      <td>0.471910</td>\n    </tr>\n    <tr>\n      <th>Condado-Campiña</th>\n      <td>9304.0</td>\n      <td>228.0</td>\n      <td>473.0</td>\n      <td>156231.0</td>\n      <td>145.937746</td>\n      <td>302.756815</td>\n      <td>57.0</td>\n      <td>0.482030</td>\n    </tr>\n    <tr>\n      <th>Palos de la Frontera</th>\n      <td>599.0</td>\n      <td>12.0</td>\n      <td>24.0</td>\n      <td>11742.0</td>\n      <td>102.197241</td>\n      <td>204.394481</td>\n      <td>0.0</td>\n      <td>0.500000</td>\n    </tr>\n    <tr>\n      <th>Minas de Riotinto</th>\n      <td>115.0</td>\n      <td>1.0</td>\n      <td>2.0</td>\n      <td>3812.0</td>\n      <td>26.232949</td>\n      <td>52.465897</td>\n      <td>0.0</td>\n      <td>0.500000</td>\n    </tr>\n    <tr>\n      <th>Villablanca</th>\n      <td>184.0</td>\n      <td>2.0</td>\n      <td>4.0</td>\n      <td>2885.0</td>\n      <td>69.324090</td>\n      <td>138.648180</td>\n      <td>1.0</td>\n      <td>0.500000</td>\n    </tr>\n    <tr>\n      <th>Manzanilla</th>\n      <td>86.0</td>\n      <td>1.0</td>\n      <td>2.0</td>\n      <td>2118.0</td>\n      <td>47.214353</td>\n      <td>94.428706</td>\n      <td>0.0</td>\n      <td>0.500000</td>\n    </tr>\n    <tr>\n      <th>San Juan del Puerto</th>\n      <td>459.0</td>\n      <td>9.0</td>\n      <td>18.0</td>\n      <td>9411.0</td>\n      <td>95.632770</td>\n      <td>191.265540</td>\n      <td>2.0</td>\n      <td>0.500000</td>\n    </tr>\n    <tr>\n      <th>Cumbres Mayores</th>\n      <td>50.0</td>\n      <td>1.0</td>\n      <td>2.0</td>\n      <td>1749.0</td>\n      <td>57.175529</td>\n      <td>114.351058</td>\n      <td>0.0</td>\n      <td>0.500000</td>\n    </tr>\n    <tr>\n      <th>Escacena del Campo</th>\n      <td>149.0</td>\n      <td>3.0</td>\n      <td>6.0</td>\n      <td>2287.0</td>\n      <td>131.176213</td>\n      <td>262.352427</td>\n      <td>1.0</td>\n      <td>0.500000</td>\n    </tr>\n    <tr>\n      <th>Almonte</th>\n      <td>1629.0</td>\n      <td>79.0</td>\n      <td>156.0</td>\n      <td>24507.0</td>\n      <td>322.356878</td>\n      <td>636.552822</td>\n      <td>25.0</td>\n      <td>0.506410</td>\n    </tr>\n    <tr>\n      <th>Sierra de Huelva-Andévalo Central</th>\n      <td>2589.0</td>\n      <td>31.0</td>\n      <td>60.0</td>\n      <td>67391.0</td>\n      <td>46.000208</td>\n      <td>89.032660</td>\n      <td>5.0</td>\n      <td>0.516667</td>\n    </tr>\n    <tr>\n      <th>Huelva</th>\n      <td>29250.0</td>\n      <td>542.0</td>\n      <td>1030.0</td>\n      <td>513170.0</td>\n      <td>105.618021</td>\n      <td>200.713214</td>\n      <td>132.0</td>\n      <td>0.526214</td>\n    </tr>\n    <tr>\n      <th>Trigueros</th>\n      <td>273.0</td>\n      <td>6.0</td>\n      <td>11.0</td>\n      <td>7862.0</td>\n      <td>76.316459</td>\n      <td>139.913508</td>\n      <td>0.0</td>\n      <td>0.545455</td>\n    </tr>\n    <tr>\n      <th>Palma del Condado (La)</th>\n      <td>1049.0</td>\n      <td>10.0</td>\n      <td>18.0</td>\n      <td>10801.0</td>\n      <td>92.584020</td>\n      <td>166.651236</td>\n      <td>1.0</td>\n      <td>0.555556</td>\n    </tr>\n    <tr>\n      <th>Niebla</th>\n      <td>201.0</td>\n      <td>5.0</td>\n      <td>9.0</td>\n      <td>4116.0</td>\n      <td>121.477162</td>\n      <td>218.658892</td>\n      <td>1.0</td>\n      <td>0.555556</td>\n    </tr>\n    <tr>\n      <th>Huelva (capital)</th>\n      <td>7635.0</td>\n      <td>176.0</td>\n      <td>306.0</td>\n      <td>143837.0</td>\n      <td>122.360728</td>\n      <td>212.740811</td>\n      <td>41.0</td>\n      <td>0.575163</td>\n    </tr>\n    <tr>\n      <th>Huelva-Costa</th>\n      <td>17015.0</td>\n      <td>281.0</td>\n      <td>488.0</td>\n      <td>289548.0</td>\n      <td>97.047812</td>\n      <td>168.538550</td>\n      <td>70.0</td>\n      <td>0.575820</td>\n    </tr>\n    <tr>\n      <th>Gibraleón</th>\n      <td>598.0</td>\n      <td>11.0</td>\n      <td>17.0</td>\n      <td>12737.0</td>\n      <td>86.362566</td>\n      <td>133.469420</td>\n      <td>4.0</td>\n      <td>0.647059</td>\n    </tr>\n    <tr>\n      <th>Lepe</th>\n      <td>2094.0</td>\n      <td>11.0</td>\n      <td>17.0</td>\n      <td>27880.0</td>\n      <td>39.454806</td>\n      <td>60.975610</td>\n      <td>5.0</td>\n      <td>0.647059</td>\n    </tr>\n    <tr>\n      <th>Galaroza</th>\n      <td>37.0</td>\n      <td>7.0</td>\n      <td>10.0</td>\n      <td>1382.0</td>\n      <td>506.512301</td>\n      <td>723.589001</td>\n      <td>2.0</td>\n      <td>0.700000</td>\n    </tr>\n    <tr>\n      <th>Valverde del Camino</th>\n      <td>488.0</td>\n      <td>12.0</td>\n      <td>17.0</td>\n      <td>12750.0</td>\n      <td>94.117647</td>\n      <td>133.333333</td>\n      <td>1.0</td>\n      <td>0.705882</td>\n    </tr>\n    <tr>\n      <th>Isla Cristina</th>\n      <td>2098.0</td>\n      <td>34.0</td>\n      <td>45.0</td>\n      <td>21393.0</td>\n      <td>158.930491</td>\n      <td>210.349180</td>\n      <td>9.0</td>\n      <td>0.755556</td>\n    </tr>\n    <tr>\n      <th>Punta Umbría</th>\n      <td>736.0</td>\n      <td>22.0</td>\n      <td>29.0</td>\n      <td>15355.0</td>\n      <td>143.275806</td>\n      <td>188.863562</td>\n      <td>8.0</td>\n      <td>0.758621</td>\n    </tr>\n    <tr>\n      <th>Nerva</th>\n      <td>162.0</td>\n      <td>8.0</td>\n      <td>9.0</td>\n      <td>5169.0</td>\n      <td>154.768814</td>\n      <td>174.114916</td>\n      <td>0.0</td>\n      <td>0.888889</td>\n    </tr>\n    <tr>\n      <th>Paterna del Campo</th>\n      <td>125.0</td>\n      <td>1.0</td>\n      <td>1.0</td>\n      <td>3457.0</td>\n      <td>28.926815</td>\n      <td>28.926815</td>\n      <td>0.0</td>\n      <td>1.000000</td>\n    </tr>\n    <tr>\n      <th>Cabezas Rubias</th>\n      <td>32.0</td>\n      <td>1.0</td>\n      <td>1.0</td>\n      <td>706.0</td>\n      <td>141.643059</td>\n      <td>141.643059</td>\n      <td>0.0</td>\n      <td>1.000000</td>\n    </tr>\n    <tr>\n      <th>Villalba del Alcor</th>\n      <td>474.0</td>\n      <td>3.0</td>\n      <td>3.0</td>\n      <td>3366.0</td>\n      <td>89.126560</td>\n      <td>89.126560</td>\n      <td>2.0</td>\n      <td>1.000000</td>\n    </tr>\n    <tr>\n      <th>San Bartolomé de la Torre</th>\n      <td>283.0</td>\n      <td>1.0</td>\n      <td>1.0</td>\n      <td>3761.0</td>\n      <td>26.588673</td>\n      <td>26.588673</td>\n      <td>0.0</td>\n      <td>1.000000</td>\n    </tr>\n    <tr>\n      <th>Villarrasa</th>\n      <td>148.0</td>\n      <td>1.0</td>\n      <td>1.0</td>\n      <td>2211.0</td>\n      <td>45.228403</td>\n      <td>45.228403</td>\n      <td>0.0</td>\n      <td>1.000000</td>\n    </tr>\n  </tbody>\n</table>\n</div>"
     },
     "metadata": {},
     "execution_count": 18
    }
   ],
   "source": [
    "# Peso de la tasa de la última semana en relación con la tasa a 14 días \n",
    "# Mejor cuanto menor. Valor 1 significa que no había casos antes de 7 días.\n",
    "tabla['7/14'] = tabla['tasa7'] / tabla['tasa14']\n",
    "tabla.fillna(0).sort_values('7/14', ascending=True)"
   ]
  },
  {
   "cell_type": "code",
   "execution_count": null,
   "metadata": {},
   "outputs": [],
   "source": []
  }
 ]
}