{
 "metadata": {
  "language_info": {
   "codemirror_mode": {
    "name": "ipython",
    "version": 3
   },
   "file_extension": ".py",
   "mimetype": "text/x-python",
   "name": "python",
   "nbconvert_exporter": "python",
   "pygments_lexer": "ipython3",
   "version": "3.8.6"
  },
  "orig_nbformat": 2,
  "kernelspec": {
   "name": "python3",
   "display_name": "Python 3",
   "language": "python"
  }
 },
 "nbformat": 4,
 "nbformat_minor": 2,
 "cells": [
  {
   "cell_type": "code",
   "execution_count": 1,
   "metadata": {},
   "outputs": [],
   "source": [
    "import pandas as pd\n",
    "pd.set_option('display.max_rows', None) # Print all rows"
   ]
  },
  {
   "cell_type": "code",
   "execution_count": 2,
   "metadata": {},
   "outputs": [],
   "source": [
    "# FIX SSL: CERTIFICATE_VERIFY_FAILED with Python3\n",
    "# https://stackoverflow.com/a/49174340\n",
    "import ssl\n",
    "\n",
    "ssl._create_default_https_context = ssl._create_unverified_context"
   ]
  },
  {
   "cell_type": "code",
   "execution_count": 3,
   "metadata": {},
   "outputs": [],
   "source": [
    "url = 'https://www.juntadeandalucia.es/institutodeestadisticaycartografia/badea/stpivot/stpivot/Print?cube=013d884c-cfc5-4c21-9e78-e26225682afd&type=3&foto=si&ejecutaDesde=&codConsulta=38668&consTipoVisua=JP'\n",
    "fields = ['Lugar de residencia', 'Medida', 'Valor']\n",
    "df = pd.read_csv(url, delimiter=';', usecols=fields, decimal=',')"
   ]
  },
  {
   "cell_type": "code",
   "execution_count": 4,
   "metadata": {},
   "outputs": [
    {
     "output_type": "execute_result",
     "data": {
      "text/plain": [
       "  Lugar de residencia                    Medida               Valor\n",
       "0              Huelva                 Población              513170\n",
       "1              Huelva          Confirmados PDIA               31962\n",
       "2              Huelva  Confirmados PDIA 14 días                1502\n",
       "3              Huelva         Tasa PDIA 14 días  292,69053140284893\n",
       "4              Huelva   Confirmados PDIA 7 días                 682\n",
       "5              Huelva        Total Confirmados                32142\n",
       "6              Huelva                   Curados               29641\n",
       "7              Huelva                Fallecidos                 384"
      ],
      "text/html": "<div>\n<style scoped>\n    .dataframe tbody tr th:only-of-type {\n        vertical-align: middle;\n    }\n\n    .dataframe tbody tr th {\n        vertical-align: top;\n    }\n\n    .dataframe thead th {\n        text-align: right;\n    }\n</style>\n<table border=\"1\" class=\"dataframe\">\n  <thead>\n    <tr style=\"text-align: right;\">\n      <th></th>\n      <th>Lugar de residencia</th>\n      <th>Medida</th>\n      <th>Valor</th>\n    </tr>\n  </thead>\n  <tbody>\n    <tr>\n      <th>0</th>\n      <td>Huelva</td>\n      <td>Población</td>\n      <td>513170</td>\n    </tr>\n    <tr>\n      <th>1</th>\n      <td>Huelva</td>\n      <td>Confirmados PDIA</td>\n      <td>31962</td>\n    </tr>\n    <tr>\n      <th>2</th>\n      <td>Huelva</td>\n      <td>Confirmados PDIA 14 días</td>\n      <td>1502</td>\n    </tr>\n    <tr>\n      <th>3</th>\n      <td>Huelva</td>\n      <td>Tasa PDIA 14 días</td>\n      <td>292,69053140284893</td>\n    </tr>\n    <tr>\n      <th>4</th>\n      <td>Huelva</td>\n      <td>Confirmados PDIA 7 días</td>\n      <td>682</td>\n    </tr>\n    <tr>\n      <th>5</th>\n      <td>Huelva</td>\n      <td>Total Confirmados</td>\n      <td>32142</td>\n    </tr>\n    <tr>\n      <th>6</th>\n      <td>Huelva</td>\n      <td>Curados</td>\n      <td>29641</td>\n    </tr>\n    <tr>\n      <th>7</th>\n      <td>Huelva</td>\n      <td>Fallecidos</td>\n      <td>384</td>\n    </tr>\n  </tbody>\n</table>\n</div>"
     },
     "metadata": {},
     "execution_count": 4
    }
   ],
   "source": [
    "df[df['Lugar de residencia'] == 'Huelva']"
   ]
  },
  {
   "cell_type": "code",
   "execution_count": 5,
   "metadata": {},
   "outputs": [],
   "source": [
    "df['Valor'] = pd.to_numeric(df['Valor'],errors='coerce')"
   ]
  },
  {
   "cell_type": "code",
   "execution_count": 6,
   "metadata": {},
   "outputs": [],
   "source": [
    "dfAnterior = pd.read_csv('covid_huelva.csv', index_col='Lugar de residencia')"
   ]
  },
  {
   "cell_type": "code",
   "execution_count": 7,
   "metadata": {
    "tags": []
   },
   "outputs": [
    {
     "output_type": "stream",
     "name": "stdout",
     "text": [
      "Confirmados PCR en la provincia de Huelva:  31962.0\n",
      "<ipython-input-7-31b732756b19>:2: UserWarning: Boolean Series key will be reindexed to match DataFrame index.\n",
      "  p = df[df['Lugar de residencia'] == 'Huelva'][df['Medida'] == 'Confirmados PDIA']['Valor'].values[0]\n"
     ]
    }
   ],
   "source": [
    "# Confirmados PCR provincia Huelva\n",
    "p = df[df['Lugar de residencia'] == 'Huelva'][df['Medida'] == 'Confirmados PDIA']['Valor'].values[0]\n",
    "print('Confirmados PCR en la provincia de Huelva: ', p)"
   ]
  },
  {
   "cell_type": "code",
   "execution_count": 8,
   "metadata": {
    "tags": []
   },
   "outputs": [
    {
     "output_type": "stream",
     "name": "stdout",
     "text": [
      "Confirmados PCR en Huelva capital:  8592.0\n",
      "<ipython-input-8-e81bfb40e710>:2: UserWarning: Boolean Series key will be reindexed to match DataFrame index.\n",
      "  c = df[df['Lugar de residencia'] == 'Huelva (capital)'][df['Medida'] == 'Confirmados PDIA']['Valor'].values[0]\n"
     ]
    }
   ],
   "source": [
    "# Confirmados PCR Huelva capitalpd\n",
    "c = df[df['Lugar de residencia'] == 'Huelva (capital)'][df['Medida'] == 'Confirmados PDIA']['Valor'].values[0]\n",
    "print('Confirmados PCR en Huelva capital: ', c)"
   ]
  },
  {
   "cell_type": "code",
   "execution_count": 9,
   "metadata": {
    "tags": []
   },
   "outputs": [
    {
     "output_type": "stream",
     "name": "stderr",
     "text": [
      "<ipython-input-9-f09dd2050cc1>:1: UserWarning: Boolean Series key will be reindexed to match DataFrame index.\n  c7 = df[df['Lugar de residencia'] == 'Huelva (capital)'][df['Medida'] == 'Confirmados PDIA 7 días']['Valor'].values[0]\n<ipython-input-9-f09dd2050cc1>:2: UserWarning: Boolean Series key will be reindexed to match DataFrame index.\n  c14 = df[df['Lugar de residencia'] == 'Huelva (capital)'][df['Medida'] == 'Confirmados PDIA 14 días']['Valor'].values[0]\n<ipython-input-9-f09dd2050cc1>:3: UserWarning: Boolean Series key will be reindexed to match DataFrame index.\n  p = df[df['Lugar de residencia'] == 'Huelva (capital)'][df['Medida'] == 'Población']['Valor'].values[0]\n"
     ]
    }
   ],
   "source": [
    "c7 = df[df['Lugar de residencia'] == 'Huelva (capital)'][df['Medida'] == 'Confirmados PDIA 7 días']['Valor'].values[0]\n",
    "c14 = df[df['Lugar de residencia'] == 'Huelva (capital)'][df['Medida'] == 'Confirmados PDIA 14 días']['Valor'].values[0]\n",
    "p = df[df['Lugar de residencia'] == 'Huelva (capital)'][df['Medida'] == 'Población']['Valor'].values[0]"
   ]
  },
  {
   "cell_type": "code",
   "execution_count": 10,
   "metadata": {
    "tags": []
   },
   "outputs": [
    {
     "output_type": "stream",
     "name": "stdout",
     "text": [
      "Huelva (capital)\n\nUn positivo PCR cada 493 personas en los últimos 7 días \n\nUn positivo PCR cada 239 personas en los últimos 14 días\n"
     ]
    }
   ],
   "source": [
    "print('Huelva (capital)\\n')\n",
    "#print('Confirmados PCR 7 días x 1,000 habitantes: ', f\"{c7/(p/1000):.5f}\")\n",
    "print('Un positivo PCR cada', f\"{p/c7:.0f}\", 'personas en los últimos 7 días', '\\n')\n",
    "#print('Confirmados PCR 14 días x 1,000 habitantes: ', f\"{c14/(p/1000):.5f}\")\n",
    "print('Un positivo PCR cada', f\"{p/c14:.0f}\", 'personas en los últimos 14 días')"
   ]
  },
  {
   "cell_type": "code",
   "execution_count": 11,
   "metadata": {},
   "outputs": [],
   "source": [
    "filtro = ((df['Medida'] == 'Confirmados PDIA')| (df['Medida'] == 'Confirmados PDIA 7 días') | (df['Medida'] == 'Población' ) | (df['Medida'] == 'Confirmados PDIA 14 días')) & (df['Valor'] > 0)\n",
    "tabla = pd.pivot_table(df.loc[filtro], values='Valor', index='Lugar de residencia', columns='Medida').dropna()"
   ]
  },
  {
   "cell_type": "code",
   "execution_count": 12,
   "metadata": {},
   "outputs": [],
   "source": [
    "# Reorder columns\n",
    "tabla = tabla[['Confirmados PDIA', 'Confirmados PDIA 7 días', 'Confirmados PDIA 14 días', 'Población']]"
   ]
  },
  {
   "cell_type": "code",
   "execution_count": 13,
   "metadata": {},
   "outputs": [],
   "source": [
    "tabla['tasa7'] = tabla['Confirmados PDIA 7 días']/tabla['Población']*100000\n",
    "tabla['tasa14'] = tabla['Confirmados PDIA 14 días']/tabla['Población']*100000"
   ]
  },
  {
   "cell_type": "code",
   "execution_count": 14,
   "metadata": {},
   "outputs": [],
   "source": [
    "tabla['Diferencia PDIA'] = tabla['Confirmados PDIA'] - dfAnterior['Confirmados PDIA']"
   ]
  },
  {
   "cell_type": "code",
   "execution_count": 15,
   "metadata": {},
   "outputs": [
    {
     "output_type": "execute_result",
     "data": {
      "text/plain": [
       "Medida                             Confirmados PDIA  Confirmados PDIA 7 días  \\\n",
       "Lugar de residencia                                                            \n",
       "Huelva                                      31962.0                    682.0   \n",
       "Huelva-Costa                                18403.0                    397.0   \n",
       "Huelva (capital)                             8592.0                    292.0   \n",
       "Condado-Campiña                             10380.0                    218.0   \n",
       "Sierra de Huelva-Andévalo Central            2829.0                     64.0   \n",
       "Valverde del Camino                           609.0                     34.0   \n",
       "Punta Umbría                                  832.0                     24.0   \n",
       "Lepe                                         2140.0                     13.0   \n",
       "Aljaraque                                    1127.0                     36.0   \n",
       "Palos de la Frontera                          685.0                     35.0   \n",
       "Moguer                                       1313.0                     30.0   \n",
       "Almonte                                      1846.0                     30.0   \n",
       "Palma del Condado (La)                       1164.0                     16.0   \n",
       "Isla Cristina                                2153.0                      5.0   \n",
       "Cartaya                                      1354.0                     13.0   \n",
       "Bollullos Par del Condado                    1002.0                     26.0   \n",
       "Lucena del Puerto                             257.0                      4.0   \n",
       "Bonares                                       281.0                     10.0   \n",
       "Puebla de Guzmán                              122.0                      6.0   \n",
       "Trigueros                                     319.0                     14.0   \n",
       "Villarrasa                                    179.0                      7.0   \n",
       "Gibraleón                                     634.0                      3.0   \n",
       "Beas                                          213.0                      3.0   \n",
       "Ayamonte                                     1323.0                      5.0   \n",
       "Aracena                                       531.0                      4.0   \n",
       "Villanueva de los Castillejos                 163.0                      1.0   \n",
       "Cortelazor                                      9.0                      1.0   \n",
       "Paterna del Campo                             129.0                      1.0   \n",
       "\n",
       "Medida                             Confirmados PDIA 14 días  Población  \\\n",
       "Lugar de residencia                                                      \n",
       "Huelva                                               1502.0   513170.0   \n",
       "Huelva-Costa                                          830.0   289548.0   \n",
       "Huelva (capital)                                      602.0   143837.0   \n",
       "Condado-Campiña                                       526.0   156231.0   \n",
       "Sierra de Huelva-Andévalo Central                     141.0    67391.0   \n",
       "Valverde del Camino                                    72.0    12750.0   \n",
       "Punta Umbría                                           40.0    15355.0   \n",
       "Lepe                                                   27.0    27880.0   \n",
       "Aljaraque                                              74.0    21474.0   \n",
       "Palos de la Frontera                                   62.0    11742.0   \n",
       "Moguer                                                 79.0    21867.0   \n",
       "Almonte                                                97.0    24507.0   \n",
       "Palma del Condado (La)                                 40.0    10801.0   \n",
       "Isla Cristina                                          20.0    21393.0   \n",
       "Cartaya                                                37.0    20083.0   \n",
       "Bollullos Par del Condado                              51.0    14387.0   \n",
       "Lucena del Puerto                                      10.0     3261.0   \n",
       "Bonares                                                17.0     6060.0   \n",
       "Puebla de Guzmán                                        9.0     3092.0   \n",
       "Trigueros                                              27.0     7862.0   \n",
       "Villarrasa                                             14.0     2211.0   \n",
       "Gibraleón                                              24.0    12737.0   \n",
       "Beas                                                    6.0     4341.0   \n",
       "Ayamonte                                               13.0    21104.0   \n",
       "Aracena                                                13.0     8255.0   \n",
       "Villanueva de los Castillejos                           5.0     2825.0   \n",
       "Cortelazor                                              1.0      299.0   \n",
       "Paterna del Campo                                       2.0     3457.0   \n",
       "\n",
       "Medida                                  tasa7      tasa14  Diferencia PDIA  \n",
       "Lugar de residencia                                                         \n",
       "Huelva                             132.899429  292.690531            110.0  \n",
       "Huelva-Costa                       137.110255  286.653681             70.0  \n",
       "Huelva (capital)                   203.007571  418.529307             46.0  \n",
       "Condado-Campiña                    139.536968  336.680940             28.0  \n",
       "Sierra de Huelva-Andévalo Central   94.968171  209.226751             12.0  \n",
       "Valverde del Camino                266.666667  564.705882             10.0  \n",
       "Punta Umbría                       156.300879  260.501465              5.0  \n",
       "Lepe                                46.628407   96.843615              5.0  \n",
       "Aljaraque                          167.644593  344.602775              4.0  \n",
       "Palos de la Frontera               298.075285  528.019077              4.0  \n",
       "Moguer                             137.193031  361.274981              4.0  \n",
       "Almonte                            122.414004  395.805280              3.0  \n",
       "Palma del Condado (La)             148.134432  370.336080              3.0  \n",
       "Isla Cristina                       23.372131   93.488524              3.0  \n",
       "Cartaya                             64.731365  184.235423              3.0  \n",
       "Bollullos Par del Condado          180.718704  354.486689              3.0  \n",
       "Lucena del Puerto                  122.661760  306.654400              2.0  \n",
       "Bonares                            165.016502  280.528053              2.0  \n",
       "Puebla de Guzmán                   194.049159  291.073739              2.0  \n",
       "Trigueros                          178.071737  343.424065              2.0  \n",
       "Villarrasa                         316.598824  633.197648              2.0  \n",
       "Gibraleón                           23.553427  188.427416              1.0  \n",
       "Beas                                69.108500  138.217001              1.0  \n",
       "Ayamonte                            23.692191   61.599697              1.0  \n",
       "Aracena                             48.455482  157.480315              1.0  \n",
       "Villanueva de los Castillejos       35.398230  176.991150              1.0  \n",
       "Cortelazor                         334.448161  334.448161              NaN  \n",
       "Paterna del Campo                   28.926815   57.853630              NaN  "
      ],
      "text/html": "<div>\n<style scoped>\n    .dataframe tbody tr th:only-of-type {\n        vertical-align: middle;\n    }\n\n    .dataframe tbody tr th {\n        vertical-align: top;\n    }\n\n    .dataframe thead th {\n        text-align: right;\n    }\n</style>\n<table border=\"1\" class=\"dataframe\">\n  <thead>\n    <tr style=\"text-align: right;\">\n      <th>Medida</th>\n      <th>Confirmados PDIA</th>\n      <th>Confirmados PDIA 7 días</th>\n      <th>Confirmados PDIA 14 días</th>\n      <th>Población</th>\n      <th>tasa7</th>\n      <th>tasa14</th>\n      <th>Diferencia PDIA</th>\n    </tr>\n    <tr>\n      <th>Lugar de residencia</th>\n      <th></th>\n      <th></th>\n      <th></th>\n      <th></th>\n      <th></th>\n      <th></th>\n      <th></th>\n    </tr>\n  </thead>\n  <tbody>\n    <tr>\n      <th>Huelva</th>\n      <td>31962.0</td>\n      <td>682.0</td>\n      <td>1502.0</td>\n      <td>513170.0</td>\n      <td>132.899429</td>\n      <td>292.690531</td>\n      <td>110.0</td>\n    </tr>\n    <tr>\n      <th>Huelva-Costa</th>\n      <td>18403.0</td>\n      <td>397.0</td>\n      <td>830.0</td>\n      <td>289548.0</td>\n      <td>137.110255</td>\n      <td>286.653681</td>\n      <td>70.0</td>\n    </tr>\n    <tr>\n      <th>Huelva (capital)</th>\n      <td>8592.0</td>\n      <td>292.0</td>\n      <td>602.0</td>\n      <td>143837.0</td>\n      <td>203.007571</td>\n      <td>418.529307</td>\n      <td>46.0</td>\n    </tr>\n    <tr>\n      <th>Condado-Campiña</th>\n      <td>10380.0</td>\n      <td>218.0</td>\n      <td>526.0</td>\n      <td>156231.0</td>\n      <td>139.536968</td>\n      <td>336.680940</td>\n      <td>28.0</td>\n    </tr>\n    <tr>\n      <th>Sierra de Huelva-Andévalo Central</th>\n      <td>2829.0</td>\n      <td>64.0</td>\n      <td>141.0</td>\n      <td>67391.0</td>\n      <td>94.968171</td>\n      <td>209.226751</td>\n      <td>12.0</td>\n    </tr>\n    <tr>\n      <th>Valverde del Camino</th>\n      <td>609.0</td>\n      <td>34.0</td>\n      <td>72.0</td>\n      <td>12750.0</td>\n      <td>266.666667</td>\n      <td>564.705882</td>\n      <td>10.0</td>\n    </tr>\n    <tr>\n      <th>Punta Umbría</th>\n      <td>832.0</td>\n      <td>24.0</td>\n      <td>40.0</td>\n      <td>15355.0</td>\n      <td>156.300879</td>\n      <td>260.501465</td>\n      <td>5.0</td>\n    </tr>\n    <tr>\n      <th>Lepe</th>\n      <td>2140.0</td>\n      <td>13.0</td>\n      <td>27.0</td>\n      <td>27880.0</td>\n      <td>46.628407</td>\n      <td>96.843615</td>\n      <td>5.0</td>\n    </tr>\n    <tr>\n      <th>Aljaraque</th>\n      <td>1127.0</td>\n      <td>36.0</td>\n      <td>74.0</td>\n      <td>21474.0</td>\n      <td>167.644593</td>\n      <td>344.602775</td>\n      <td>4.0</td>\n    </tr>\n    <tr>\n      <th>Palos de la Frontera</th>\n      <td>685.0</td>\n      <td>35.0</td>\n      <td>62.0</td>\n      <td>11742.0</td>\n      <td>298.075285</td>\n      <td>528.019077</td>\n      <td>4.0</td>\n    </tr>\n    <tr>\n      <th>Moguer</th>\n      <td>1313.0</td>\n      <td>30.0</td>\n      <td>79.0</td>\n      <td>21867.0</td>\n      <td>137.193031</td>\n      <td>361.274981</td>\n      <td>4.0</td>\n    </tr>\n    <tr>\n      <th>Almonte</th>\n      <td>1846.0</td>\n      <td>30.0</td>\n      <td>97.0</td>\n      <td>24507.0</td>\n      <td>122.414004</td>\n      <td>395.805280</td>\n      <td>3.0</td>\n    </tr>\n    <tr>\n      <th>Palma del Condado (La)</th>\n      <td>1164.0</td>\n      <td>16.0</td>\n      <td>40.0</td>\n      <td>10801.0</td>\n      <td>148.134432</td>\n      <td>370.336080</td>\n      <td>3.0</td>\n    </tr>\n    <tr>\n      <th>Isla Cristina</th>\n      <td>2153.0</td>\n      <td>5.0</td>\n      <td>20.0</td>\n      <td>21393.0</td>\n      <td>23.372131</td>\n      <td>93.488524</td>\n      <td>3.0</td>\n    </tr>\n    <tr>\n      <th>Cartaya</th>\n      <td>1354.0</td>\n      <td>13.0</td>\n      <td>37.0</td>\n      <td>20083.0</td>\n      <td>64.731365</td>\n      <td>184.235423</td>\n      <td>3.0</td>\n    </tr>\n    <tr>\n      <th>Bollullos Par del Condado</th>\n      <td>1002.0</td>\n      <td>26.0</td>\n      <td>51.0</td>\n      <td>14387.0</td>\n      <td>180.718704</td>\n      <td>354.486689</td>\n      <td>3.0</td>\n    </tr>\n    <tr>\n      <th>Lucena del Puerto</th>\n      <td>257.0</td>\n      <td>4.0</td>\n      <td>10.0</td>\n      <td>3261.0</td>\n      <td>122.661760</td>\n      <td>306.654400</td>\n      <td>2.0</td>\n    </tr>\n    <tr>\n      <th>Bonares</th>\n      <td>281.0</td>\n      <td>10.0</td>\n      <td>17.0</td>\n      <td>6060.0</td>\n      <td>165.016502</td>\n      <td>280.528053</td>\n      <td>2.0</td>\n    </tr>\n    <tr>\n      <th>Puebla de Guzmán</th>\n      <td>122.0</td>\n      <td>6.0</td>\n      <td>9.0</td>\n      <td>3092.0</td>\n      <td>194.049159</td>\n      <td>291.073739</td>\n      <td>2.0</td>\n    </tr>\n    <tr>\n      <th>Trigueros</th>\n      <td>319.0</td>\n      <td>14.0</td>\n      <td>27.0</td>\n      <td>7862.0</td>\n      <td>178.071737</td>\n      <td>343.424065</td>\n      <td>2.0</td>\n    </tr>\n    <tr>\n      <th>Villarrasa</th>\n      <td>179.0</td>\n      <td>7.0</td>\n      <td>14.0</td>\n      <td>2211.0</td>\n      <td>316.598824</td>\n      <td>633.197648</td>\n      <td>2.0</td>\n    </tr>\n    <tr>\n      <th>Gibraleón</th>\n      <td>634.0</td>\n      <td>3.0</td>\n      <td>24.0</td>\n      <td>12737.0</td>\n      <td>23.553427</td>\n      <td>188.427416</td>\n      <td>1.0</td>\n    </tr>\n    <tr>\n      <th>Beas</th>\n      <td>213.0</td>\n      <td>3.0</td>\n      <td>6.0</td>\n      <td>4341.0</td>\n      <td>69.108500</td>\n      <td>138.217001</td>\n      <td>1.0</td>\n    </tr>\n    <tr>\n      <th>Ayamonte</th>\n      <td>1323.0</td>\n      <td>5.0</td>\n      <td>13.0</td>\n      <td>21104.0</td>\n      <td>23.692191</td>\n      <td>61.599697</td>\n      <td>1.0</td>\n    </tr>\n    <tr>\n      <th>Aracena</th>\n      <td>531.0</td>\n      <td>4.0</td>\n      <td>13.0</td>\n      <td>8255.0</td>\n      <td>48.455482</td>\n      <td>157.480315</td>\n      <td>1.0</td>\n    </tr>\n    <tr>\n      <th>Villanueva de los Castillejos</th>\n      <td>163.0</td>\n      <td>1.0</td>\n      <td>5.0</td>\n      <td>2825.0</td>\n      <td>35.398230</td>\n      <td>176.991150</td>\n      <td>1.0</td>\n    </tr>\n    <tr>\n      <th>Cortelazor</th>\n      <td>9.0</td>\n      <td>1.0</td>\n      <td>1.0</td>\n      <td>299.0</td>\n      <td>334.448161</td>\n      <td>334.448161</td>\n      <td>NaN</td>\n    </tr>\n    <tr>\n      <th>Paterna del Campo</th>\n      <td>129.0</td>\n      <td>1.0</td>\n      <td>2.0</td>\n      <td>3457.0</td>\n      <td>28.926815</td>\n      <td>57.853630</td>\n      <td>NaN</td>\n    </tr>\n  </tbody>\n</table>\n</div>"
     },
     "metadata": {},
     "execution_count": 15
    }
   ],
   "source": [
    "# Nuevos casos desde la última captura\n",
    "tabla[tabla['Diferencia PDIA'] != 0].sort_values('Diferencia PDIA', ascending=False)"
   ]
  },
  {
   "cell_type": "code",
   "execution_count": 16,
   "metadata": {},
   "outputs": [],
   "source": [
    "if tabla[tabla['Diferencia PDIA'] != 0]['Diferencia PDIA'].sum() != 0:\n",
    "  # Save to csv\n",
    "  tabla.to_csv('covid_huelva.csv', encoding='utf-8', header=True, index=True)  "
   ]
  },
  {
   "cell_type": "code",
   "execution_count": 17,
   "metadata": {},
   "outputs": [
    {
     "output_type": "execute_result",
     "data": {
      "text/plain": [
       "Medida                             Confirmados PDIA  Confirmados PDIA 7 días  \\\n",
       "Lugar de residencia                                                            \n",
       "Villarrasa                                    179.0                      7.0   \n",
       "Valverde del Camino                           609.0                     34.0   \n",
       "Niebla                                        239.0                      5.0   \n",
       "Palos de la Frontera                          685.0                     35.0   \n",
       "San Juan del Puerto                           524.0                     24.0   \n",
       "Huelva (capital)                             8592.0                    292.0   \n",
       "Almonte                                      1846.0                     30.0   \n",
       "Palma del Condado (La)                       1164.0                     16.0   \n",
       "Moguer                                       1313.0                     30.0   \n",
       "Bollullos Par del Condado                    1002.0                     26.0   \n",
       "Aljaraque                                    1127.0                     36.0   \n",
       "Trigueros                                     319.0                     14.0   \n",
       "Condado-Campiña                             10380.0                    218.0   \n",
       "Cortelazor                                      9.0                      1.0   \n",
       "Manzanilla                                    102.0                      4.0   \n",
       "Lucena del Puerto                             257.0                      4.0   \n",
       "Huelva                                      31962.0                    682.0   \n",
       "Puebla de Guzmán                              122.0                      6.0   \n",
       "Huelva-Costa                                18403.0                    397.0   \n",
       "Cortegana                                     214.0                      9.0   \n",
       "Bonares                                       281.0                     10.0   \n",
       "Minas de Riotinto                             127.0                      6.0   \n",
       "Punta Umbría                                  832.0                     24.0   \n",
       "San Bartolomé de la Torre                     300.0                      2.0   \n",
       "Sierra de Huelva-Andévalo Central            2829.0                     64.0   \n",
       "Gibraleón                                     634.0                      3.0   \n",
       "Cartaya                                      1354.0                     13.0   \n",
       "Villanueva de los Castillejos                 163.0                      1.0   \n",
       "Rociana del Condado                           558.0                      4.0   \n",
       "Cumbres Mayores                                53.0                      2.0   \n",
       "Zalamea la Real                                94.0                      3.0   \n",
       "Aracena                                       531.0                      4.0   \n",
       "Higuera de la Sierra                           34.0                      1.0   \n",
       "Beas                                          213.0                      3.0   \n",
       "Lepe                                         2140.0                     13.0   \n",
       "Isla Cristina                                2153.0                      5.0   \n",
       "Nerva                                         178.0                      1.0   \n",
       "Galaroza                                       42.0                      1.0   \n",
       "Ayamonte                                     1323.0                      5.0   \n",
       "Paterna del Campo                             129.0                      1.0   \n",
       "Alosno                                        168.0                      2.0   \n",
       "Campillo (El)                                  73.0                      1.0   \n",
       "Aroche                                         91.0                      1.0   \n",
       "\n",
       "Medida                             Confirmados PDIA 14 días  Población  \\\n",
       "Lugar de residencia                                                      \n",
       "Villarrasa                                             14.0     2211.0   \n",
       "Valverde del Camino                                    72.0    12750.0   \n",
       "Niebla                                                 22.0     4116.0   \n",
       "Palos de la Frontera                                   62.0    11742.0   \n",
       "San Juan del Puerto                                    45.0     9411.0   \n",
       "Huelva (capital)                                      602.0   143837.0   \n",
       "Almonte                                                97.0    24507.0   \n",
       "Palma del Condado (La)                                 40.0    10801.0   \n",
       "Moguer                                                 79.0    21867.0   \n",
       "Bollullos Par del Condado                              51.0    14387.0   \n",
       "Aljaraque                                              74.0    21474.0   \n",
       "Trigueros                                              27.0     7862.0   \n",
       "Condado-Campiña                                       526.0   156231.0   \n",
       "Cortelazor                                              1.0      299.0   \n",
       "Manzanilla                                              7.0     2118.0   \n",
       "Lucena del Puerto                                      10.0     3261.0   \n",
       "Huelva                                               1502.0   513170.0   \n",
       "Puebla de Guzmán                                        9.0     3092.0   \n",
       "Huelva-Costa                                          830.0   289548.0   \n",
       "Cortegana                                              13.0     4602.0   \n",
       "Bonares                                                17.0     6060.0   \n",
       "Minas de Riotinto                                      10.0     3812.0   \n",
       "Punta Umbría                                           40.0    15355.0   \n",
       "San Bartolomé de la Torre                               9.0     3761.0   \n",
       "Sierra de Huelva-Andévalo Central                     141.0    67391.0   \n",
       "Gibraleón                                              24.0    12737.0   \n",
       "Cartaya                                                37.0    20083.0   \n",
       "Villanueva de los Castillejos                           5.0     2825.0   \n",
       "Rociana del Condado                                    14.0     7939.0   \n",
       "Cumbres Mayores                                         3.0     1749.0   \n",
       "Zalamea la Real                                         5.0     3054.0   \n",
       "Aracena                                                13.0     8255.0   \n",
       "Higuera de la Sierra                                    2.0     1291.0   \n",
       "Beas                                                    6.0     4341.0   \n",
       "Lepe                                                   27.0    27880.0   \n",
       "Isla Cristina                                          20.0    21393.0   \n",
       "Nerva                                                   4.0     5169.0   \n",
       "Galaroza                                                1.0     1382.0   \n",
       "Ayamonte                                               13.0    21104.0   \n",
       "Paterna del Campo                                       2.0     3457.0   \n",
       "Alosno                                                  2.0     3933.0   \n",
       "Campillo (El)                                           1.0     2024.0   \n",
       "Aroche                                                  1.0     3054.0   \n",
       "\n",
       "Medida                                  tasa7      tasa14  Diferencia PDIA  \n",
       "Lugar de residencia                                                         \n",
       "Villarrasa                         316.598824  633.197648              2.0  \n",
       "Valverde del Camino                266.666667  564.705882             10.0  \n",
       "Niebla                             121.477162  534.499514              0.0  \n",
       "Palos de la Frontera               298.075285  528.019077              4.0  \n",
       "San Juan del Puerto                255.020720  478.163851              0.0  \n",
       "Huelva (capital)                   203.007571  418.529307             46.0  \n",
       "Almonte                            122.414004  395.805280              3.0  \n",
       "Palma del Condado (La)             148.134432  370.336080              3.0  \n",
       "Moguer                             137.193031  361.274981              4.0  \n",
       "Bollullos Par del Condado          180.718704  354.486689              3.0  \n",
       "Aljaraque                          167.644593  344.602775              4.0  \n",
       "Trigueros                          178.071737  343.424065              2.0  \n",
       "Condado-Campiña                    139.536968  336.680940             28.0  \n",
       "Cortelazor                         334.448161  334.448161              NaN  \n",
       "Manzanilla                         188.857413  330.500472              0.0  \n",
       "Lucena del Puerto                  122.661760  306.654400              2.0  \n",
       "Huelva                             132.899429  292.690531            110.0  \n",
       "Puebla de Guzmán                   194.049159  291.073739              2.0  \n",
       "Huelva-Costa                       137.110255  286.653681             70.0  \n",
       "Cortegana                          195.567145  282.485876              0.0  \n",
       "Bonares                            165.016502  280.528053              2.0  \n",
       "Minas de Riotinto                  157.397692  262.329486              0.0  \n",
       "Punta Umbría                       156.300879  260.501465              5.0  \n",
       "San Bartolomé de la Torre           53.177346  239.298059              0.0  \n",
       "Sierra de Huelva-Andévalo Central   94.968171  209.226751             12.0  \n",
       "Gibraleón                           23.553427  188.427416              1.0  \n",
       "Cartaya                             64.731365  184.235423              3.0  \n",
       "Villanueva de los Castillejos       35.398230  176.991150              1.0  \n",
       "Rociana del Condado                 50.384179  176.344628              0.0  \n",
       "Cumbres Mayores                    114.351058  171.526587              0.0  \n",
       "Zalamea la Real                     98.231827  163.719712              0.0  \n",
       "Aracena                             48.455482  157.480315              1.0  \n",
       "Higuera de la Sierra                77.459334  154.918668              0.0  \n",
       "Beas                                69.108500  138.217001              1.0  \n",
       "Lepe                                46.628407   96.843615              5.0  \n",
       "Isla Cristina                       23.372131   93.488524              3.0  \n",
       "Nerva                               19.346102   77.384407              0.0  \n",
       "Galaroza                            72.358900   72.358900              0.0  \n",
       "Ayamonte                            23.692191   61.599697              1.0  \n",
       "Paterna del Campo                   28.926815   57.853630              NaN  \n",
       "Alosno                              50.851767   50.851767              0.0  \n",
       "Campillo (El)                       49.407115   49.407115              0.0  \n",
       "Aroche                              32.743942   32.743942              0.0  "
      ],
      "text/html": "<div>\n<style scoped>\n    .dataframe tbody tr th:only-of-type {\n        vertical-align: middle;\n    }\n\n    .dataframe tbody tr th {\n        vertical-align: top;\n    }\n\n    .dataframe thead th {\n        text-align: right;\n    }\n</style>\n<table border=\"1\" class=\"dataframe\">\n  <thead>\n    <tr style=\"text-align: right;\">\n      <th>Medida</th>\n      <th>Confirmados PDIA</th>\n      <th>Confirmados PDIA 7 días</th>\n      <th>Confirmados PDIA 14 días</th>\n      <th>Población</th>\n      <th>tasa7</th>\n      <th>tasa14</th>\n      <th>Diferencia PDIA</th>\n    </tr>\n    <tr>\n      <th>Lugar de residencia</th>\n      <th></th>\n      <th></th>\n      <th></th>\n      <th></th>\n      <th></th>\n      <th></th>\n      <th></th>\n    </tr>\n  </thead>\n  <tbody>\n    <tr>\n      <th>Villarrasa</th>\n      <td>179.0</td>\n      <td>7.0</td>\n      <td>14.0</td>\n      <td>2211.0</td>\n      <td>316.598824</td>\n      <td>633.197648</td>\n      <td>2.0</td>\n    </tr>\n    <tr>\n      <th>Valverde del Camino</th>\n      <td>609.0</td>\n      <td>34.0</td>\n      <td>72.0</td>\n      <td>12750.0</td>\n      <td>266.666667</td>\n      <td>564.705882</td>\n      <td>10.0</td>\n    </tr>\n    <tr>\n      <th>Niebla</th>\n      <td>239.0</td>\n      <td>5.0</td>\n      <td>22.0</td>\n      <td>4116.0</td>\n      <td>121.477162</td>\n      <td>534.499514</td>\n      <td>0.0</td>\n    </tr>\n    <tr>\n      <th>Palos de la Frontera</th>\n      <td>685.0</td>\n      <td>35.0</td>\n      <td>62.0</td>\n      <td>11742.0</td>\n      <td>298.075285</td>\n      <td>528.019077</td>\n      <td>4.0</td>\n    </tr>\n    <tr>\n      <th>San Juan del Puerto</th>\n      <td>524.0</td>\n      <td>24.0</td>\n      <td>45.0</td>\n      <td>9411.0</td>\n      <td>255.020720</td>\n      <td>478.163851</td>\n      <td>0.0</td>\n    </tr>\n    <tr>\n      <th>Huelva (capital)</th>\n      <td>8592.0</td>\n      <td>292.0</td>\n      <td>602.0</td>\n      <td>143837.0</td>\n      <td>203.007571</td>\n      <td>418.529307</td>\n      <td>46.0</td>\n    </tr>\n    <tr>\n      <th>Almonte</th>\n      <td>1846.0</td>\n      <td>30.0</td>\n      <td>97.0</td>\n      <td>24507.0</td>\n      <td>122.414004</td>\n      <td>395.805280</td>\n      <td>3.0</td>\n    </tr>\n    <tr>\n      <th>Palma del Condado (La)</th>\n      <td>1164.0</td>\n      <td>16.0</td>\n      <td>40.0</td>\n      <td>10801.0</td>\n      <td>148.134432</td>\n      <td>370.336080</td>\n      <td>3.0</td>\n    </tr>\n    <tr>\n      <th>Moguer</th>\n      <td>1313.0</td>\n      <td>30.0</td>\n      <td>79.0</td>\n      <td>21867.0</td>\n      <td>137.193031</td>\n      <td>361.274981</td>\n      <td>4.0</td>\n    </tr>\n    <tr>\n      <th>Bollullos Par del Condado</th>\n      <td>1002.0</td>\n      <td>26.0</td>\n      <td>51.0</td>\n      <td>14387.0</td>\n      <td>180.718704</td>\n      <td>354.486689</td>\n      <td>3.0</td>\n    </tr>\n    <tr>\n      <th>Aljaraque</th>\n      <td>1127.0</td>\n      <td>36.0</td>\n      <td>74.0</td>\n      <td>21474.0</td>\n      <td>167.644593</td>\n      <td>344.602775</td>\n      <td>4.0</td>\n    </tr>\n    <tr>\n      <th>Trigueros</th>\n      <td>319.0</td>\n      <td>14.0</td>\n      <td>27.0</td>\n      <td>7862.0</td>\n      <td>178.071737</td>\n      <td>343.424065</td>\n      <td>2.0</td>\n    </tr>\n    <tr>\n      <th>Condado-Campiña</th>\n      <td>10380.0</td>\n      <td>218.0</td>\n      <td>526.0</td>\n      <td>156231.0</td>\n      <td>139.536968</td>\n      <td>336.680940</td>\n      <td>28.0</td>\n    </tr>\n    <tr>\n      <th>Cortelazor</th>\n      <td>9.0</td>\n      <td>1.0</td>\n      <td>1.0</td>\n      <td>299.0</td>\n      <td>334.448161</td>\n      <td>334.448161</td>\n      <td>NaN</td>\n    </tr>\n    <tr>\n      <th>Manzanilla</th>\n      <td>102.0</td>\n      <td>4.0</td>\n      <td>7.0</td>\n      <td>2118.0</td>\n      <td>188.857413</td>\n      <td>330.500472</td>\n      <td>0.0</td>\n    </tr>\n    <tr>\n      <th>Lucena del Puerto</th>\n      <td>257.0</td>\n      <td>4.0</td>\n      <td>10.0</td>\n      <td>3261.0</td>\n      <td>122.661760</td>\n      <td>306.654400</td>\n      <td>2.0</td>\n    </tr>\n    <tr>\n      <th>Huelva</th>\n      <td>31962.0</td>\n      <td>682.0</td>\n      <td>1502.0</td>\n      <td>513170.0</td>\n      <td>132.899429</td>\n      <td>292.690531</td>\n      <td>110.0</td>\n    </tr>\n    <tr>\n      <th>Puebla de Guzmán</th>\n      <td>122.0</td>\n      <td>6.0</td>\n      <td>9.0</td>\n      <td>3092.0</td>\n      <td>194.049159</td>\n      <td>291.073739</td>\n      <td>2.0</td>\n    </tr>\n    <tr>\n      <th>Huelva-Costa</th>\n      <td>18403.0</td>\n      <td>397.0</td>\n      <td>830.0</td>\n      <td>289548.0</td>\n      <td>137.110255</td>\n      <td>286.653681</td>\n      <td>70.0</td>\n    </tr>\n    <tr>\n      <th>Cortegana</th>\n      <td>214.0</td>\n      <td>9.0</td>\n      <td>13.0</td>\n      <td>4602.0</td>\n      <td>195.567145</td>\n      <td>282.485876</td>\n      <td>0.0</td>\n    </tr>\n    <tr>\n      <th>Bonares</th>\n      <td>281.0</td>\n      <td>10.0</td>\n      <td>17.0</td>\n      <td>6060.0</td>\n      <td>165.016502</td>\n      <td>280.528053</td>\n      <td>2.0</td>\n    </tr>\n    <tr>\n      <th>Minas de Riotinto</th>\n      <td>127.0</td>\n      <td>6.0</td>\n      <td>10.0</td>\n      <td>3812.0</td>\n      <td>157.397692</td>\n      <td>262.329486</td>\n      <td>0.0</td>\n    </tr>\n    <tr>\n      <th>Punta Umbría</th>\n      <td>832.0</td>\n      <td>24.0</td>\n      <td>40.0</td>\n      <td>15355.0</td>\n      <td>156.300879</td>\n      <td>260.501465</td>\n      <td>5.0</td>\n    </tr>\n    <tr>\n      <th>San Bartolomé de la Torre</th>\n      <td>300.0</td>\n      <td>2.0</td>\n      <td>9.0</td>\n      <td>3761.0</td>\n      <td>53.177346</td>\n      <td>239.298059</td>\n      <td>0.0</td>\n    </tr>\n    <tr>\n      <th>Sierra de Huelva-Andévalo Central</th>\n      <td>2829.0</td>\n      <td>64.0</td>\n      <td>141.0</td>\n      <td>67391.0</td>\n      <td>94.968171</td>\n      <td>209.226751</td>\n      <td>12.0</td>\n    </tr>\n    <tr>\n      <th>Gibraleón</th>\n      <td>634.0</td>\n      <td>3.0</td>\n      <td>24.0</td>\n      <td>12737.0</td>\n      <td>23.553427</td>\n      <td>188.427416</td>\n      <td>1.0</td>\n    </tr>\n    <tr>\n      <th>Cartaya</th>\n      <td>1354.0</td>\n      <td>13.0</td>\n      <td>37.0</td>\n      <td>20083.0</td>\n      <td>64.731365</td>\n      <td>184.235423</td>\n      <td>3.0</td>\n    </tr>\n    <tr>\n      <th>Villanueva de los Castillejos</th>\n      <td>163.0</td>\n      <td>1.0</td>\n      <td>5.0</td>\n      <td>2825.0</td>\n      <td>35.398230</td>\n      <td>176.991150</td>\n      <td>1.0</td>\n    </tr>\n    <tr>\n      <th>Rociana del Condado</th>\n      <td>558.0</td>\n      <td>4.0</td>\n      <td>14.0</td>\n      <td>7939.0</td>\n      <td>50.384179</td>\n      <td>176.344628</td>\n      <td>0.0</td>\n    </tr>\n    <tr>\n      <th>Cumbres Mayores</th>\n      <td>53.0</td>\n      <td>2.0</td>\n      <td>3.0</td>\n      <td>1749.0</td>\n      <td>114.351058</td>\n      <td>171.526587</td>\n      <td>0.0</td>\n    </tr>\n    <tr>\n      <th>Zalamea la Real</th>\n      <td>94.0</td>\n      <td>3.0</td>\n      <td>5.0</td>\n      <td>3054.0</td>\n      <td>98.231827</td>\n      <td>163.719712</td>\n      <td>0.0</td>\n    </tr>\n    <tr>\n      <th>Aracena</th>\n      <td>531.0</td>\n      <td>4.0</td>\n      <td>13.0</td>\n      <td>8255.0</td>\n      <td>48.455482</td>\n      <td>157.480315</td>\n      <td>1.0</td>\n    </tr>\n    <tr>\n      <th>Higuera de la Sierra</th>\n      <td>34.0</td>\n      <td>1.0</td>\n      <td>2.0</td>\n      <td>1291.0</td>\n      <td>77.459334</td>\n      <td>154.918668</td>\n      <td>0.0</td>\n    </tr>\n    <tr>\n      <th>Beas</th>\n      <td>213.0</td>\n      <td>3.0</td>\n      <td>6.0</td>\n      <td>4341.0</td>\n      <td>69.108500</td>\n      <td>138.217001</td>\n      <td>1.0</td>\n    </tr>\n    <tr>\n      <th>Lepe</th>\n      <td>2140.0</td>\n      <td>13.0</td>\n      <td>27.0</td>\n      <td>27880.0</td>\n      <td>46.628407</td>\n      <td>96.843615</td>\n      <td>5.0</td>\n    </tr>\n    <tr>\n      <th>Isla Cristina</th>\n      <td>2153.0</td>\n      <td>5.0</td>\n      <td>20.0</td>\n      <td>21393.0</td>\n      <td>23.372131</td>\n      <td>93.488524</td>\n      <td>3.0</td>\n    </tr>\n    <tr>\n      <th>Nerva</th>\n      <td>178.0</td>\n      <td>1.0</td>\n      <td>4.0</td>\n      <td>5169.0</td>\n      <td>19.346102</td>\n      <td>77.384407</td>\n      <td>0.0</td>\n    </tr>\n    <tr>\n      <th>Galaroza</th>\n      <td>42.0</td>\n      <td>1.0</td>\n      <td>1.0</td>\n      <td>1382.0</td>\n      <td>72.358900</td>\n      <td>72.358900</td>\n      <td>0.0</td>\n    </tr>\n    <tr>\n      <th>Ayamonte</th>\n      <td>1323.0</td>\n      <td>5.0</td>\n      <td>13.0</td>\n      <td>21104.0</td>\n      <td>23.692191</td>\n      <td>61.599697</td>\n      <td>1.0</td>\n    </tr>\n    <tr>\n      <th>Paterna del Campo</th>\n      <td>129.0</td>\n      <td>1.0</td>\n      <td>2.0</td>\n      <td>3457.0</td>\n      <td>28.926815</td>\n      <td>57.853630</td>\n      <td>NaN</td>\n    </tr>\n    <tr>\n      <th>Alosno</th>\n      <td>168.0</td>\n      <td>2.0</td>\n      <td>2.0</td>\n      <td>3933.0</td>\n      <td>50.851767</td>\n      <td>50.851767</td>\n      <td>0.0</td>\n    </tr>\n    <tr>\n      <th>Campillo (El)</th>\n      <td>73.0</td>\n      <td>1.0</td>\n      <td>1.0</td>\n      <td>2024.0</td>\n      <td>49.407115</td>\n      <td>49.407115</td>\n      <td>0.0</td>\n    </tr>\n    <tr>\n      <th>Aroche</th>\n      <td>91.0</td>\n      <td>1.0</td>\n      <td>1.0</td>\n      <td>3054.0</td>\n      <td>32.743942</td>\n      <td>32.743942</td>\n      <td>0.0</td>\n    </tr>\n  </tbody>\n</table>\n</div>"
     },
     "metadata": {},
     "execution_count": 17
    }
   ],
   "source": [
    "tabla.sort_values('tasa14', ascending=False)"
   ]
  },
  {
   "cell_type": "code",
   "execution_count": 18,
   "metadata": {},
   "outputs": [
    {
     "output_type": "execute_result",
     "data": {
      "text/plain": [
       "Medida                             Confirmados PDIA  Confirmados PDIA 7 días  \\\n",
       "Lugar de residencia                                                            \n",
       "Gibraleón                                     634.0                      3.0   \n",
       "Villanueva de los Castillejos                 163.0                      1.0   \n",
       "San Bartolomé de la Torre                     300.0                      2.0   \n",
       "Niebla                                        239.0                      5.0   \n",
       "Isla Cristina                                2153.0                      5.0   \n",
       "Nerva                                         178.0                      1.0   \n",
       "Rociana del Condado                           558.0                      4.0   \n",
       "Aracena                                       531.0                      4.0   \n",
       "Almonte                                      1846.0                     30.0   \n",
       "Cartaya                                      1354.0                     13.0   \n",
       "Moguer                                       1313.0                     30.0   \n",
       "Ayamonte                                     1323.0                      5.0   \n",
       "Lucena del Puerto                             257.0                      4.0   \n",
       "Palma del Condado (La)                       1164.0                     16.0   \n",
       "Condado-Campiña                             10380.0                    218.0   \n",
       "Sierra de Huelva-Andévalo Central            2829.0                     64.0   \n",
       "Huelva                                      31962.0                    682.0   \n",
       "Valverde del Camino                           609.0                     34.0   \n",
       "Huelva-Costa                                18403.0                    397.0   \n",
       "Lepe                                         2140.0                     13.0   \n",
       "Huelva (capital)                             8592.0                    292.0   \n",
       "Aljaraque                                    1127.0                     36.0   \n",
       "Higuera de la Sierra                           34.0                      1.0   \n",
       "Beas                                          213.0                      3.0   \n",
       "Paterna del Campo                             129.0                      1.0   \n",
       "Villarrasa                                    179.0                      7.0   \n",
       "Bollullos Par del Condado                    1002.0                     26.0   \n",
       "Trigueros                                     319.0                     14.0   \n",
       "San Juan del Puerto                           524.0                     24.0   \n",
       "Palos de la Frontera                          685.0                     35.0   \n",
       "Manzanilla                                    102.0                      4.0   \n",
       "Bonares                                       281.0                     10.0   \n",
       "Punta Umbría                                  832.0                     24.0   \n",
       "Zalamea la Real                                94.0                      3.0   \n",
       "Minas de Riotinto                             127.0                      6.0   \n",
       "Cumbres Mayores                                53.0                      2.0   \n",
       "Puebla de Guzmán                              122.0                      6.0   \n",
       "Cortegana                                     214.0                      9.0   \n",
       "Cortelazor                                      9.0                      1.0   \n",
       "Galaroza                                       42.0                      1.0   \n",
       "Aroche                                         91.0                      1.0   \n",
       "Alosno                                        168.0                      2.0   \n",
       "Campillo (El)                                  73.0                      1.0   \n",
       "\n",
       "Medida                             Confirmados PDIA 14 días  Población  \\\n",
       "Lugar de residencia                                                      \n",
       "Gibraleón                                              24.0    12737.0   \n",
       "Villanueva de los Castillejos                           5.0     2825.0   \n",
       "San Bartolomé de la Torre                               9.0     3761.0   \n",
       "Niebla                                                 22.0     4116.0   \n",
       "Isla Cristina                                          20.0    21393.0   \n",
       "Nerva                                                   4.0     5169.0   \n",
       "Rociana del Condado                                    14.0     7939.0   \n",
       "Aracena                                                13.0     8255.0   \n",
       "Almonte                                                97.0    24507.0   \n",
       "Cartaya                                                37.0    20083.0   \n",
       "Moguer                                                 79.0    21867.0   \n",
       "Ayamonte                                               13.0    21104.0   \n",
       "Lucena del Puerto                                      10.0     3261.0   \n",
       "Palma del Condado (La)                                 40.0    10801.0   \n",
       "Condado-Campiña                                       526.0   156231.0   \n",
       "Sierra de Huelva-Andévalo Central                     141.0    67391.0   \n",
       "Huelva                                               1502.0   513170.0   \n",
       "Valverde del Camino                                    72.0    12750.0   \n",
       "Huelva-Costa                                          830.0   289548.0   \n",
       "Lepe                                                   27.0    27880.0   \n",
       "Huelva (capital)                                      602.0   143837.0   \n",
       "Aljaraque                                              74.0    21474.0   \n",
       "Higuera de la Sierra                                    2.0     1291.0   \n",
       "Beas                                                    6.0     4341.0   \n",
       "Paterna del Campo                                       2.0     3457.0   \n",
       "Villarrasa                                             14.0     2211.0   \n",
       "Bollullos Par del Condado                              51.0    14387.0   \n",
       "Trigueros                                              27.0     7862.0   \n",
       "San Juan del Puerto                                    45.0     9411.0   \n",
       "Palos de la Frontera                                   62.0    11742.0   \n",
       "Manzanilla                                              7.0     2118.0   \n",
       "Bonares                                                17.0     6060.0   \n",
       "Punta Umbría                                           40.0    15355.0   \n",
       "Zalamea la Real                                         5.0     3054.0   \n",
       "Minas de Riotinto                                      10.0     3812.0   \n",
       "Cumbres Mayores                                         3.0     1749.0   \n",
       "Puebla de Guzmán                                        9.0     3092.0   \n",
       "Cortegana                                              13.0     4602.0   \n",
       "Cortelazor                                              1.0      299.0   \n",
       "Galaroza                                                1.0     1382.0   \n",
       "Aroche                                                  1.0     3054.0   \n",
       "Alosno                                                  2.0     3933.0   \n",
       "Campillo (El)                                           1.0     2024.0   \n",
       "\n",
       "Medida                                  tasa7      tasa14  Diferencia PDIA  \\\n",
       "Lugar de residencia                                                          \n",
       "Gibraleón                           23.553427  188.427416              1.0   \n",
       "Villanueva de los Castillejos       35.398230  176.991150              1.0   \n",
       "San Bartolomé de la Torre           53.177346  239.298059              0.0   \n",
       "Niebla                             121.477162  534.499514              0.0   \n",
       "Isla Cristina                       23.372131   93.488524              3.0   \n",
       "Nerva                               19.346102   77.384407              0.0   \n",
       "Rociana del Condado                 50.384179  176.344628              0.0   \n",
       "Aracena                             48.455482  157.480315              1.0   \n",
       "Almonte                            122.414004  395.805280              3.0   \n",
       "Cartaya                             64.731365  184.235423              3.0   \n",
       "Moguer                             137.193031  361.274981              4.0   \n",
       "Ayamonte                            23.692191   61.599697              1.0   \n",
       "Lucena del Puerto                  122.661760  306.654400              2.0   \n",
       "Palma del Condado (La)             148.134432  370.336080              3.0   \n",
       "Condado-Campiña                    139.536968  336.680940             28.0   \n",
       "Sierra de Huelva-Andévalo Central   94.968171  209.226751             12.0   \n",
       "Huelva                             132.899429  292.690531            110.0   \n",
       "Valverde del Camino                266.666667  564.705882             10.0   \n",
       "Huelva-Costa                       137.110255  286.653681             70.0   \n",
       "Lepe                                46.628407   96.843615              5.0   \n",
       "Huelva (capital)                   203.007571  418.529307             46.0   \n",
       "Aljaraque                          167.644593  344.602775              4.0   \n",
       "Higuera de la Sierra                77.459334  154.918668              0.0   \n",
       "Beas                                69.108500  138.217001              1.0   \n",
       "Paterna del Campo                   28.926815   57.853630              0.0   \n",
       "Villarrasa                         316.598824  633.197648              2.0   \n",
       "Bollullos Par del Condado          180.718704  354.486689              3.0   \n",
       "Trigueros                          178.071737  343.424065              2.0   \n",
       "San Juan del Puerto                255.020720  478.163851              0.0   \n",
       "Palos de la Frontera               298.075285  528.019077              4.0   \n",
       "Manzanilla                         188.857413  330.500472              0.0   \n",
       "Bonares                            165.016502  280.528053              2.0   \n",
       "Punta Umbría                       156.300879  260.501465              5.0   \n",
       "Zalamea la Real                     98.231827  163.719712              0.0   \n",
       "Minas de Riotinto                  157.397692  262.329486              0.0   \n",
       "Cumbres Mayores                    114.351058  171.526587              0.0   \n",
       "Puebla de Guzmán                   194.049159  291.073739              2.0   \n",
       "Cortegana                          195.567145  282.485876              0.0   \n",
       "Cortelazor                         334.448161  334.448161              0.0   \n",
       "Galaroza                            72.358900   72.358900              0.0   \n",
       "Aroche                              32.743942   32.743942              0.0   \n",
       "Alosno                              50.851767   50.851767              0.0   \n",
       "Campillo (El)                       49.407115   49.407115              0.0   \n",
       "\n",
       "Medida                                 7/14  \n",
       "Lugar de residencia                          \n",
       "Gibraleón                          0.125000  \n",
       "Villanueva de los Castillejos      0.200000  \n",
       "San Bartolomé de la Torre          0.222222  \n",
       "Niebla                             0.227273  \n",
       "Isla Cristina                      0.250000  \n",
       "Nerva                              0.250000  \n",
       "Rociana del Condado                0.285714  \n",
       "Aracena                            0.307692  \n",
       "Almonte                            0.309278  \n",
       "Cartaya                            0.351351  \n",
       "Moguer                             0.379747  \n",
       "Ayamonte                           0.384615  \n",
       "Lucena del Puerto                  0.400000  \n",
       "Palma del Condado (La)             0.400000  \n",
       "Condado-Campiña                    0.414449  \n",
       "Sierra de Huelva-Andévalo Central  0.453901  \n",
       "Huelva                             0.454061  \n",
       "Valverde del Camino                0.472222  \n",
       "Huelva-Costa                       0.478313  \n",
       "Lepe                               0.481481  \n",
       "Huelva (capital)                   0.485050  \n",
       "Aljaraque                          0.486486  \n",
       "Higuera de la Sierra               0.500000  \n",
       "Beas                               0.500000  \n",
       "Paterna del Campo                  0.500000  \n",
       "Villarrasa                         0.500000  \n",
       "Bollullos Par del Condado          0.509804  \n",
       "Trigueros                          0.518519  \n",
       "San Juan del Puerto                0.533333  \n",
       "Palos de la Frontera               0.564516  \n",
       "Manzanilla                         0.571429  \n",
       "Bonares                            0.588235  \n",
       "Punta Umbría                       0.600000  \n",
       "Zalamea la Real                    0.600000  \n",
       "Minas de Riotinto                  0.600000  \n",
       "Cumbres Mayores                    0.666667  \n",
       "Puebla de Guzmán                   0.666667  \n",
       "Cortegana                          0.692308  \n",
       "Cortelazor                         1.000000  \n",
       "Galaroza                           1.000000  \n",
       "Aroche                             1.000000  \n",
       "Alosno                             1.000000  \n",
       "Campillo (El)                      1.000000  "
      ],
      "text/html": "<div>\n<style scoped>\n    .dataframe tbody tr th:only-of-type {\n        vertical-align: middle;\n    }\n\n    .dataframe tbody tr th {\n        vertical-align: top;\n    }\n\n    .dataframe thead th {\n        text-align: right;\n    }\n</style>\n<table border=\"1\" class=\"dataframe\">\n  <thead>\n    <tr style=\"text-align: right;\">\n      <th>Medida</th>\n      <th>Confirmados PDIA</th>\n      <th>Confirmados PDIA 7 días</th>\n      <th>Confirmados PDIA 14 días</th>\n      <th>Población</th>\n      <th>tasa7</th>\n      <th>tasa14</th>\n      <th>Diferencia PDIA</th>\n      <th>7/14</th>\n    </tr>\n    <tr>\n      <th>Lugar de residencia</th>\n      <th></th>\n      <th></th>\n      <th></th>\n      <th></th>\n      <th></th>\n      <th></th>\n      <th></th>\n      <th></th>\n    </tr>\n  </thead>\n  <tbody>\n    <tr>\n      <th>Gibraleón</th>\n      <td>634.0</td>\n      <td>3.0</td>\n      <td>24.0</td>\n      <td>12737.0</td>\n      <td>23.553427</td>\n      <td>188.427416</td>\n      <td>1.0</td>\n      <td>0.125000</td>\n    </tr>\n    <tr>\n      <th>Villanueva de los Castillejos</th>\n      <td>163.0</td>\n      <td>1.0</td>\n      <td>5.0</td>\n      <td>2825.0</td>\n      <td>35.398230</td>\n      <td>176.991150</td>\n      <td>1.0</td>\n      <td>0.200000</td>\n    </tr>\n    <tr>\n      <th>San Bartolomé de la Torre</th>\n      <td>300.0</td>\n      <td>2.0</td>\n      <td>9.0</td>\n      <td>3761.0</td>\n      <td>53.177346</td>\n      <td>239.298059</td>\n      <td>0.0</td>\n      <td>0.222222</td>\n    </tr>\n    <tr>\n      <th>Niebla</th>\n      <td>239.0</td>\n      <td>5.0</td>\n      <td>22.0</td>\n      <td>4116.0</td>\n      <td>121.477162</td>\n      <td>534.499514</td>\n      <td>0.0</td>\n      <td>0.227273</td>\n    </tr>\n    <tr>\n      <th>Isla Cristina</th>\n      <td>2153.0</td>\n      <td>5.0</td>\n      <td>20.0</td>\n      <td>21393.0</td>\n      <td>23.372131</td>\n      <td>93.488524</td>\n      <td>3.0</td>\n      <td>0.250000</td>\n    </tr>\n    <tr>\n      <th>Nerva</th>\n      <td>178.0</td>\n      <td>1.0</td>\n      <td>4.0</td>\n      <td>5169.0</td>\n      <td>19.346102</td>\n      <td>77.384407</td>\n      <td>0.0</td>\n      <td>0.250000</td>\n    </tr>\n    <tr>\n      <th>Rociana del Condado</th>\n      <td>558.0</td>\n      <td>4.0</td>\n      <td>14.0</td>\n      <td>7939.0</td>\n      <td>50.384179</td>\n      <td>176.344628</td>\n      <td>0.0</td>\n      <td>0.285714</td>\n    </tr>\n    <tr>\n      <th>Aracena</th>\n      <td>531.0</td>\n      <td>4.0</td>\n      <td>13.0</td>\n      <td>8255.0</td>\n      <td>48.455482</td>\n      <td>157.480315</td>\n      <td>1.0</td>\n      <td>0.307692</td>\n    </tr>\n    <tr>\n      <th>Almonte</th>\n      <td>1846.0</td>\n      <td>30.0</td>\n      <td>97.0</td>\n      <td>24507.0</td>\n      <td>122.414004</td>\n      <td>395.805280</td>\n      <td>3.0</td>\n      <td>0.309278</td>\n    </tr>\n    <tr>\n      <th>Cartaya</th>\n      <td>1354.0</td>\n      <td>13.0</td>\n      <td>37.0</td>\n      <td>20083.0</td>\n      <td>64.731365</td>\n      <td>184.235423</td>\n      <td>3.0</td>\n      <td>0.351351</td>\n    </tr>\n    <tr>\n      <th>Moguer</th>\n      <td>1313.0</td>\n      <td>30.0</td>\n      <td>79.0</td>\n      <td>21867.0</td>\n      <td>137.193031</td>\n      <td>361.274981</td>\n      <td>4.0</td>\n      <td>0.379747</td>\n    </tr>\n    <tr>\n      <th>Ayamonte</th>\n      <td>1323.0</td>\n      <td>5.0</td>\n      <td>13.0</td>\n      <td>21104.0</td>\n      <td>23.692191</td>\n      <td>61.599697</td>\n      <td>1.0</td>\n      <td>0.384615</td>\n    </tr>\n    <tr>\n      <th>Lucena del Puerto</th>\n      <td>257.0</td>\n      <td>4.0</td>\n      <td>10.0</td>\n      <td>3261.0</td>\n      <td>122.661760</td>\n      <td>306.654400</td>\n      <td>2.0</td>\n      <td>0.400000</td>\n    </tr>\n    <tr>\n      <th>Palma del Condado (La)</th>\n      <td>1164.0</td>\n      <td>16.0</td>\n      <td>40.0</td>\n      <td>10801.0</td>\n      <td>148.134432</td>\n      <td>370.336080</td>\n      <td>3.0</td>\n      <td>0.400000</td>\n    </tr>\n    <tr>\n      <th>Condado-Campiña</th>\n      <td>10380.0</td>\n      <td>218.0</td>\n      <td>526.0</td>\n      <td>156231.0</td>\n      <td>139.536968</td>\n      <td>336.680940</td>\n      <td>28.0</td>\n      <td>0.414449</td>\n    </tr>\n    <tr>\n      <th>Sierra de Huelva-Andévalo Central</th>\n      <td>2829.0</td>\n      <td>64.0</td>\n      <td>141.0</td>\n      <td>67391.0</td>\n      <td>94.968171</td>\n      <td>209.226751</td>\n      <td>12.0</td>\n      <td>0.453901</td>\n    </tr>\n    <tr>\n      <th>Huelva</th>\n      <td>31962.0</td>\n      <td>682.0</td>\n      <td>1502.0</td>\n      <td>513170.0</td>\n      <td>132.899429</td>\n      <td>292.690531</td>\n      <td>110.0</td>\n      <td>0.454061</td>\n    </tr>\n    <tr>\n      <th>Valverde del Camino</th>\n      <td>609.0</td>\n      <td>34.0</td>\n      <td>72.0</td>\n      <td>12750.0</td>\n      <td>266.666667</td>\n      <td>564.705882</td>\n      <td>10.0</td>\n      <td>0.472222</td>\n    </tr>\n    <tr>\n      <th>Huelva-Costa</th>\n      <td>18403.0</td>\n      <td>397.0</td>\n      <td>830.0</td>\n      <td>289548.0</td>\n      <td>137.110255</td>\n      <td>286.653681</td>\n      <td>70.0</td>\n      <td>0.478313</td>\n    </tr>\n    <tr>\n      <th>Lepe</th>\n      <td>2140.0</td>\n      <td>13.0</td>\n      <td>27.0</td>\n      <td>27880.0</td>\n      <td>46.628407</td>\n      <td>96.843615</td>\n      <td>5.0</td>\n      <td>0.481481</td>\n    </tr>\n    <tr>\n      <th>Huelva (capital)</th>\n      <td>8592.0</td>\n      <td>292.0</td>\n      <td>602.0</td>\n      <td>143837.0</td>\n      <td>203.007571</td>\n      <td>418.529307</td>\n      <td>46.0</td>\n      <td>0.485050</td>\n    </tr>\n    <tr>\n      <th>Aljaraque</th>\n      <td>1127.0</td>\n      <td>36.0</td>\n      <td>74.0</td>\n      <td>21474.0</td>\n      <td>167.644593</td>\n      <td>344.602775</td>\n      <td>4.0</td>\n      <td>0.486486</td>\n    </tr>\n    <tr>\n      <th>Higuera de la Sierra</th>\n      <td>34.0</td>\n      <td>1.0</td>\n      <td>2.0</td>\n      <td>1291.0</td>\n      <td>77.459334</td>\n      <td>154.918668</td>\n      <td>0.0</td>\n      <td>0.500000</td>\n    </tr>\n    <tr>\n      <th>Beas</th>\n      <td>213.0</td>\n      <td>3.0</td>\n      <td>6.0</td>\n      <td>4341.0</td>\n      <td>69.108500</td>\n      <td>138.217001</td>\n      <td>1.0</td>\n      <td>0.500000</td>\n    </tr>\n    <tr>\n      <th>Paterna del Campo</th>\n      <td>129.0</td>\n      <td>1.0</td>\n      <td>2.0</td>\n      <td>3457.0</td>\n      <td>28.926815</td>\n      <td>57.853630</td>\n      <td>0.0</td>\n      <td>0.500000</td>\n    </tr>\n    <tr>\n      <th>Villarrasa</th>\n      <td>179.0</td>\n      <td>7.0</td>\n      <td>14.0</td>\n      <td>2211.0</td>\n      <td>316.598824</td>\n      <td>633.197648</td>\n      <td>2.0</td>\n      <td>0.500000</td>\n    </tr>\n    <tr>\n      <th>Bollullos Par del Condado</th>\n      <td>1002.0</td>\n      <td>26.0</td>\n      <td>51.0</td>\n      <td>14387.0</td>\n      <td>180.718704</td>\n      <td>354.486689</td>\n      <td>3.0</td>\n      <td>0.509804</td>\n    </tr>\n    <tr>\n      <th>Trigueros</th>\n      <td>319.0</td>\n      <td>14.0</td>\n      <td>27.0</td>\n      <td>7862.0</td>\n      <td>178.071737</td>\n      <td>343.424065</td>\n      <td>2.0</td>\n      <td>0.518519</td>\n    </tr>\n    <tr>\n      <th>San Juan del Puerto</th>\n      <td>524.0</td>\n      <td>24.0</td>\n      <td>45.0</td>\n      <td>9411.0</td>\n      <td>255.020720</td>\n      <td>478.163851</td>\n      <td>0.0</td>\n      <td>0.533333</td>\n    </tr>\n    <tr>\n      <th>Palos de la Frontera</th>\n      <td>685.0</td>\n      <td>35.0</td>\n      <td>62.0</td>\n      <td>11742.0</td>\n      <td>298.075285</td>\n      <td>528.019077</td>\n      <td>4.0</td>\n      <td>0.564516</td>\n    </tr>\n    <tr>\n      <th>Manzanilla</th>\n      <td>102.0</td>\n      <td>4.0</td>\n      <td>7.0</td>\n      <td>2118.0</td>\n      <td>188.857413</td>\n      <td>330.500472</td>\n      <td>0.0</td>\n      <td>0.571429</td>\n    </tr>\n    <tr>\n      <th>Bonares</th>\n      <td>281.0</td>\n      <td>10.0</td>\n      <td>17.0</td>\n      <td>6060.0</td>\n      <td>165.016502</td>\n      <td>280.528053</td>\n      <td>2.0</td>\n      <td>0.588235</td>\n    </tr>\n    <tr>\n      <th>Punta Umbría</th>\n      <td>832.0</td>\n      <td>24.0</td>\n      <td>40.0</td>\n      <td>15355.0</td>\n      <td>156.300879</td>\n      <td>260.501465</td>\n      <td>5.0</td>\n      <td>0.600000</td>\n    </tr>\n    <tr>\n      <th>Zalamea la Real</th>\n      <td>94.0</td>\n      <td>3.0</td>\n      <td>5.0</td>\n      <td>3054.0</td>\n      <td>98.231827</td>\n      <td>163.719712</td>\n      <td>0.0</td>\n      <td>0.600000</td>\n    </tr>\n    <tr>\n      <th>Minas de Riotinto</th>\n      <td>127.0</td>\n      <td>6.0</td>\n      <td>10.0</td>\n      <td>3812.0</td>\n      <td>157.397692</td>\n      <td>262.329486</td>\n      <td>0.0</td>\n      <td>0.600000</td>\n    </tr>\n    <tr>\n      <th>Cumbres Mayores</th>\n      <td>53.0</td>\n      <td>2.0</td>\n      <td>3.0</td>\n      <td>1749.0</td>\n      <td>114.351058</td>\n      <td>171.526587</td>\n      <td>0.0</td>\n      <td>0.666667</td>\n    </tr>\n    <tr>\n      <th>Puebla de Guzmán</th>\n      <td>122.0</td>\n      <td>6.0</td>\n      <td>9.0</td>\n      <td>3092.0</td>\n      <td>194.049159</td>\n      <td>291.073739</td>\n      <td>2.0</td>\n      <td>0.666667</td>\n    </tr>\n    <tr>\n      <th>Cortegana</th>\n      <td>214.0</td>\n      <td>9.0</td>\n      <td>13.0</td>\n      <td>4602.0</td>\n      <td>195.567145</td>\n      <td>282.485876</td>\n      <td>0.0</td>\n      <td>0.692308</td>\n    </tr>\n    <tr>\n      <th>Cortelazor</th>\n      <td>9.0</td>\n      <td>1.0</td>\n      <td>1.0</td>\n      <td>299.0</td>\n      <td>334.448161</td>\n      <td>334.448161</td>\n      <td>0.0</td>\n      <td>1.000000</td>\n    </tr>\n    <tr>\n      <th>Galaroza</th>\n      <td>42.0</td>\n      <td>1.0</td>\n      <td>1.0</td>\n      <td>1382.0</td>\n      <td>72.358900</td>\n      <td>72.358900</td>\n      <td>0.0</td>\n      <td>1.000000</td>\n    </tr>\n    <tr>\n      <th>Aroche</th>\n      <td>91.0</td>\n      <td>1.0</td>\n      <td>1.0</td>\n      <td>3054.0</td>\n      <td>32.743942</td>\n      <td>32.743942</td>\n      <td>0.0</td>\n      <td>1.000000</td>\n    </tr>\n    <tr>\n      <th>Alosno</th>\n      <td>168.0</td>\n      <td>2.0</td>\n      <td>2.0</td>\n      <td>3933.0</td>\n      <td>50.851767</td>\n      <td>50.851767</td>\n      <td>0.0</td>\n      <td>1.000000</td>\n    </tr>\n    <tr>\n      <th>Campillo (El)</th>\n      <td>73.0</td>\n      <td>1.0</td>\n      <td>1.0</td>\n      <td>2024.0</td>\n      <td>49.407115</td>\n      <td>49.407115</td>\n      <td>0.0</td>\n      <td>1.000000</td>\n    </tr>\n  </tbody>\n</table>\n</div>"
     },
     "metadata": {},
     "execution_count": 18
    }
   ],
   "source": [
    "# Peso de la tasa de la última semana en relación con la tasa a 14 días \n",
    "# Mejor cuanto menor. Valor 1 significa que no había casos antes de 7 días.\n",
    "tabla['7/14'] = tabla['tasa7'] / tabla['tasa14']\n",
    "tabla.fillna(0).sort_values('7/14', ascending=True)"
   ]
  },
  {
   "cell_type": "code",
   "execution_count": null,
   "metadata": {},
   "outputs": [],
   "source": []
  }
 ]
}