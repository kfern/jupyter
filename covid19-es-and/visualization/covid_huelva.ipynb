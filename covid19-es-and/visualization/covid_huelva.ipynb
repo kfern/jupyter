{
 "metadata": {
  "language_info": {
   "codemirror_mode": {
    "name": "ipython",
    "version": 3
   },
   "file_extension": ".py",
   "mimetype": "text/x-python",
   "name": "python",
   "nbconvert_exporter": "python",
   "pygments_lexer": "ipython3",
   "version": "3.6.9-final"
  },
  "orig_nbformat": 2,
  "kernelspec": {
   "name": "python3",
   "display_name": "Python 3.6.9 64-bit",
   "metadata": {
    "interpreter": {
     "hash": "31f2aee4e71d21fbe5cf8b01ff0e069b9275f58929596ceb00d14d90e3e16cd6"
    }
   }
  }
 },
 "nbformat": 4,
 "nbformat_minor": 2,
 "cells": [
  {
   "cell_type": "code",
   "execution_count": 1,
   "metadata": {},
   "outputs": [],
   "source": [
    "import pandas as pd\n",
    "pd.set_option('display.max_rows', None) # Print all rows"
   ]
  },
  {
   "cell_type": "code",
   "execution_count": 2,
   "metadata": {},
   "outputs": [],
   "source": [
    "# FIX SSL: CERTIFICATE_VERIFY_FAILED with Python3\n",
    "# https://stackoverflow.com/a/49174340\n",
    "import ssl\n",
    "\n",
    "ssl._create_default_https_context = ssl._create_unverified_context"
   ]
  },
  {
   "cell_type": "code",
   "execution_count": 3,
   "metadata": {},
   "outputs": [],
   "source": [
    "url = 'https://www.juntadeandalucia.es/institutodeestadisticaycartografia/badea/stpivot/stpivot/Print?cube=013d884c-cfc5-4c21-9e78-e26225682afd&type=3&foto=si&ejecutaDesde=&codConsulta=38668&consTipoVisua=JP'\n",
    "fields = ['Lugar de residencia', 'Medida', 'Valor']\n",
    "df = pd.read_csv(url, delimiter=';', usecols=fields, decimal=',')"
   ]
  },
  {
   "cell_type": "code",
   "execution_count": 4,
   "metadata": {},
   "outputs": [
    {
     "output_type": "execute_result",
     "data": {
      "text/plain": [
       "  Lugar de residencia                    Medida              Valor\n",
       "0              Huelva                 Población             513170\n",
       "1              Huelva          Confirmados PDIA              25106\n",
       "2              Huelva  Confirmados PDIA 14 días                410\n",
       "3              Huelva         Tasa PDIA 14 días  79,89555118186955\n",
       "4              Huelva   Confirmados PDIA 7 días                245\n",
       "5              Huelva        Total Confirmados               25305\n",
       "6              Huelva                   Curados              19556\n",
       "7              Huelva                Fallecidos                347"
      ],
      "text/html": "<div>\n<style scoped>\n    .dataframe tbody tr th:only-of-type {\n        vertical-align: middle;\n    }\n\n    .dataframe tbody tr th {\n        vertical-align: top;\n    }\n\n    .dataframe thead th {\n        text-align: right;\n    }\n</style>\n<table border=\"1\" class=\"dataframe\">\n  <thead>\n    <tr style=\"text-align: right;\">\n      <th></th>\n      <th>Lugar de residencia</th>\n      <th>Medida</th>\n      <th>Valor</th>\n    </tr>\n  </thead>\n  <tbody>\n    <tr>\n      <th>0</th>\n      <td>Huelva</td>\n      <td>Población</td>\n      <td>513170</td>\n    </tr>\n    <tr>\n      <th>1</th>\n      <td>Huelva</td>\n      <td>Confirmados PDIA</td>\n      <td>25106</td>\n    </tr>\n    <tr>\n      <th>2</th>\n      <td>Huelva</td>\n      <td>Confirmados PDIA 14 días</td>\n      <td>410</td>\n    </tr>\n    <tr>\n      <th>3</th>\n      <td>Huelva</td>\n      <td>Tasa PDIA 14 días</td>\n      <td>79,89555118186955</td>\n    </tr>\n    <tr>\n      <th>4</th>\n      <td>Huelva</td>\n      <td>Confirmados PDIA 7 días</td>\n      <td>245</td>\n    </tr>\n    <tr>\n      <th>5</th>\n      <td>Huelva</td>\n      <td>Total Confirmados</td>\n      <td>25305</td>\n    </tr>\n    <tr>\n      <th>6</th>\n      <td>Huelva</td>\n      <td>Curados</td>\n      <td>19556</td>\n    </tr>\n    <tr>\n      <th>7</th>\n      <td>Huelva</td>\n      <td>Fallecidos</td>\n      <td>347</td>\n    </tr>\n  </tbody>\n</table>\n</div>"
     },
     "metadata": {},
     "execution_count": 4
    }
   ],
   "source": [
    "df[df['Lugar de residencia'] == 'Huelva']"
   ]
  },
  {
   "cell_type": "code",
   "execution_count": 5,
   "metadata": {},
   "outputs": [],
   "source": [
    "df['Valor'] = pd.to_numeric(df['Valor'],errors='coerce')"
   ]
  },
  {
   "cell_type": "code",
   "execution_count": 6,
   "metadata": {},
   "outputs": [],
   "source": [
    "dfAnterior = pd.read_csv('covid_huelva.csv', index_col='Lugar de residencia')"
   ]
  },
  {
   "cell_type": "code",
   "execution_count": 7,
   "metadata": {
    "tags": []
   },
   "outputs": [
    {
     "output_type": "stream",
     "name": "stdout",
     "text": [
      "Confirmados PCR en la provincia de Huelva:  25106.0\n"
     ]
    }
   ],
   "source": [
    "# Confirmados PCR provincia Huelva\n",
    "p = df[df['Lugar de residencia'] == 'Huelva'][df['Medida'] == 'Confirmados PDIA']['Valor'].values[0]\n",
    "print('Confirmados PCR en la provincia de Huelva: ', p)"
   ]
  },
  {
   "cell_type": "code",
   "execution_count": 8,
   "metadata": {
    "tags": []
   },
   "outputs": [
    {
     "output_type": "stream",
     "name": "stdout",
     "text": [
      "Confirmados PCR en Huelva capital:  6640.0\n"
     ]
    }
   ],
   "source": [
    "# Confirmados PCR Huelva capitalpd\n",
    "c = df[df['Lugar de residencia'] == 'Huelva (capital)'][df['Medida'] == 'Confirmados PDIA']['Valor'].values[0]\n",
    "print('Confirmados PCR en Huelva capital: ', c)"
   ]
  },
  {
   "cell_type": "code",
   "execution_count": 9,
   "metadata": {
    "tags": []
   },
   "outputs": [],
   "source": [
    "c7 = df[df['Lugar de residencia'] == 'Huelva (capital)'][df['Medida'] == 'Confirmados PDIA 7 días']['Valor'].values[0]\n",
    "c14 = df[df['Lugar de residencia'] == 'Huelva (capital)'][df['Medida'] == 'Confirmados PDIA 14 días']['Valor'].values[0]\n",
    "p = df[df['Lugar de residencia'] == 'Huelva (capital)'][df['Medida'] == 'Población']['Valor'].values[0]"
   ]
  },
  {
   "cell_type": "code",
   "execution_count": 10,
   "metadata": {
    "tags": []
   },
   "outputs": [
    {
     "output_type": "stream",
     "name": "stdout",
     "text": [
      "Huelva (capital)\n\nUn positivo PCR cada 3688 personas en los últimos 7 días \n\nUn positivo PCR cada 2085 personas en los últimos 14 días\n"
     ]
    }
   ],
   "source": [
    "print('Huelva (capital)\\n')\n",
    "#print('Confirmados PCR 7 días x 1,000 habitantes: ', f\"{c7/(p/1000):.5f}\")\n",
    "print('Un positivo PCR cada', f\"{p/c7:.0f}\", 'personas en los últimos 7 días', '\\n')\n",
    "#print('Confirmados PCR 14 días x 1,000 habitantes: ', f\"{c14/(p/1000):.5f}\")\n",
    "print('Un positivo PCR cada', f\"{p/c14:.0f}\", 'personas en los últimos 14 días')"
   ]
  },
  {
   "cell_type": "code",
   "execution_count": 11,
   "metadata": {},
   "outputs": [],
   "source": [
    "filtro = ((df['Medida'] == 'Confirmados PDIA')| (df['Medida'] == 'Confirmados PDIA 7 días') | (df['Medida'] == 'Población' ) | (df['Medida'] == 'Confirmados PDIA 14 días')) & (df['Valor'] > 0)\n",
    "tabla = pd.pivot_table(df.loc[filtro], values='Valor', index='Lugar de residencia', columns='Medida').dropna()"
   ]
  },
  {
   "cell_type": "code",
   "execution_count": 12,
   "metadata": {},
   "outputs": [],
   "source": [
    "# Reorder columns\n",
    "tabla = tabla[['Confirmados PDIA', 'Confirmados PDIA 7 días', 'Confirmados PDIA 14 días', 'Población']]"
   ]
  },
  {
   "cell_type": "code",
   "execution_count": 13,
   "metadata": {},
   "outputs": [],
   "source": [
    "tabla['tasa7'] = tabla['Confirmados PDIA 7 días']/tabla['Población']*100000\n",
    "tabla['tasa14'] = tabla['Confirmados PDIA 14 días']/tabla['Población']*100000"
   ]
  },
  {
   "cell_type": "code",
   "execution_count": 14,
   "metadata": {},
   "outputs": [],
   "source": [
    "tabla['Diferencia PDIA'] = tabla['Confirmados PDIA'] - dfAnterior['Confirmados PDIA']"
   ]
  },
  {
   "cell_type": "code",
   "execution_count": 15,
   "metadata": {},
   "outputs": [
    {
     "output_type": "execute_result",
     "data": {
      "text/plain": [
       "Medida                             Confirmados PDIA  Confirmados PDIA 7 días  \\\n",
       "Lugar de residencia                                                            \n",
       "Huelva                                      25106.0                    245.0   \n",
       "Huelva-Costa                                15251.0                     97.0   \n",
       "Condado-Campiña                              7128.0                    137.0   \n",
       "Almonte                                       928.0                     46.0   \n",
       "Alosno                                        136.0                     13.0   \n",
       "Huelva (capital)                             6640.0                     39.0   \n",
       "Cartaya                                       981.0                     15.0   \n",
       "Sierra de Huelva-Andévalo Central            2310.0                      7.0   \n",
       "Valverde del Camino                           425.0                      6.0   \n",
       "Bollullos Par del Condado                     636.0                     13.0   \n",
       "Ayamonte                                     1235.0                      4.0   \n",
       "Gibraleón                                     531.0                     15.0   \n",
       "Niebla                                        160.0                      2.0   \n",
       "Palos de la Frontera                          462.0                      5.0   \n",
       "Paterna del Campo                             114.0                      2.0   \n",
       "Rociana del Condado                           324.0                     11.0   \n",
       "Aljaraque                                     929.0                      3.0   \n",
       "Moguer                                        859.0                     22.0   \n",
       "\n",
       "Medida                             Confirmados PDIA 14 días  Población  \\\n",
       "Lugar de residencia                                                      \n",
       "Huelva                                                410.0   513170.0   \n",
       "Huelva-Costa                                          183.0   289548.0   \n",
       "Condado-Campiña                                       210.0   156231.0   \n",
       "Almonte                                                56.0    24507.0   \n",
       "Alosno                                                 14.0     3933.0   \n",
       "Huelva (capital)                                       69.0   143837.0   \n",
       "Cartaya                                                25.0    20083.0   \n",
       "Sierra de Huelva-Andévalo Central                      11.0    67391.0   \n",
       "Valverde del Camino                                     9.0    12750.0   \n",
       "Bollullos Par del Condado                              19.0    14387.0   \n",
       "Ayamonte                                               22.0    21104.0   \n",
       "Gibraleón                                              20.0    12737.0   \n",
       "Niebla                                                  3.0     4116.0   \n",
       "Palos de la Frontera                                   10.0    11742.0   \n",
       "Paterna del Campo                                       2.0     3457.0   \n",
       "Rociana del Condado                                    12.0     7939.0   \n",
       "Aljaraque                                               4.0    21474.0   \n",
       "Moguer                                                 30.0    21867.0   \n",
       "\n",
       "Medida                                  tasa7      tasa14  Diferencia PDIA  \n",
       "Lugar de residencia                                                         \n",
       "Huelva                              47.742464   79.895551             48.0  \n",
       "Huelva-Costa                        33.500490   63.201956             25.0  \n",
       "Condado-Campiña                     87.690663  134.416345             18.0  \n",
       "Almonte                            187.701473  228.506141             12.0  \n",
       "Alosno                             330.536486  355.962370              8.0  \n",
       "Huelva (capital)                    27.114025   47.970967              7.0  \n",
       "Cartaya                             74.690036  124.483394              7.0  \n",
       "Sierra de Huelva-Andévalo Central   10.387144   16.322654              2.0  \n",
       "Valverde del Camino                 47.058824   70.588235              2.0  \n",
       "Bollullos Par del Condado           90.359352  132.063669              2.0  \n",
       "Ayamonte                            18.953753  104.245641              2.0  \n",
       "Gibraleón                          117.767135  157.022847              1.0  \n",
       "Niebla                              48.590865   72.886297              1.0  \n",
       "Palos de la Frontera                42.582184   85.164367              1.0  \n",
       "Paterna del Campo                   57.853630   57.853630              1.0  \n",
       "Rociana del Condado                138.556493  151.152538              1.0  \n",
       "Aljaraque                           13.970383   18.627177              1.0  \n",
       "Moguer                             100.608222  137.193031             -1.0  "
      ],
      "text/html": "<div>\n<style scoped>\n    .dataframe tbody tr th:only-of-type {\n        vertical-align: middle;\n    }\n\n    .dataframe tbody tr th {\n        vertical-align: top;\n    }\n\n    .dataframe thead th {\n        text-align: right;\n    }\n</style>\n<table border=\"1\" class=\"dataframe\">\n  <thead>\n    <tr style=\"text-align: right;\">\n      <th>Medida</th>\n      <th>Confirmados PDIA</th>\n      <th>Confirmados PDIA 7 días</th>\n      <th>Confirmados PDIA 14 días</th>\n      <th>Población</th>\n      <th>tasa7</th>\n      <th>tasa14</th>\n      <th>Diferencia PDIA</th>\n    </tr>\n    <tr>\n      <th>Lugar de residencia</th>\n      <th></th>\n      <th></th>\n      <th></th>\n      <th></th>\n      <th></th>\n      <th></th>\n      <th></th>\n    </tr>\n  </thead>\n  <tbody>\n    <tr>\n      <th>Huelva</th>\n      <td>25106.0</td>\n      <td>245.0</td>\n      <td>410.0</td>\n      <td>513170.0</td>\n      <td>47.742464</td>\n      <td>79.895551</td>\n      <td>48.0</td>\n    </tr>\n    <tr>\n      <th>Huelva-Costa</th>\n      <td>15251.0</td>\n      <td>97.0</td>\n      <td>183.0</td>\n      <td>289548.0</td>\n      <td>33.500490</td>\n      <td>63.201956</td>\n      <td>25.0</td>\n    </tr>\n    <tr>\n      <th>Condado-Campiña</th>\n      <td>7128.0</td>\n      <td>137.0</td>\n      <td>210.0</td>\n      <td>156231.0</td>\n      <td>87.690663</td>\n      <td>134.416345</td>\n      <td>18.0</td>\n    </tr>\n    <tr>\n      <th>Almonte</th>\n      <td>928.0</td>\n      <td>46.0</td>\n      <td>56.0</td>\n      <td>24507.0</td>\n      <td>187.701473</td>\n      <td>228.506141</td>\n      <td>12.0</td>\n    </tr>\n    <tr>\n      <th>Alosno</th>\n      <td>136.0</td>\n      <td>13.0</td>\n      <td>14.0</td>\n      <td>3933.0</td>\n      <td>330.536486</td>\n      <td>355.962370</td>\n      <td>8.0</td>\n    </tr>\n    <tr>\n      <th>Huelva (capital)</th>\n      <td>6640.0</td>\n      <td>39.0</td>\n      <td>69.0</td>\n      <td>143837.0</td>\n      <td>27.114025</td>\n      <td>47.970967</td>\n      <td>7.0</td>\n    </tr>\n    <tr>\n      <th>Cartaya</th>\n      <td>981.0</td>\n      <td>15.0</td>\n      <td>25.0</td>\n      <td>20083.0</td>\n      <td>74.690036</td>\n      <td>124.483394</td>\n      <td>7.0</td>\n    </tr>\n    <tr>\n      <th>Sierra de Huelva-Andévalo Central</th>\n      <td>2310.0</td>\n      <td>7.0</td>\n      <td>11.0</td>\n      <td>67391.0</td>\n      <td>10.387144</td>\n      <td>16.322654</td>\n      <td>2.0</td>\n    </tr>\n    <tr>\n      <th>Valverde del Camino</th>\n      <td>425.0</td>\n      <td>6.0</td>\n      <td>9.0</td>\n      <td>12750.0</td>\n      <td>47.058824</td>\n      <td>70.588235</td>\n      <td>2.0</td>\n    </tr>\n    <tr>\n      <th>Bollullos Par del Condado</th>\n      <td>636.0</td>\n      <td>13.0</td>\n      <td>19.0</td>\n      <td>14387.0</td>\n      <td>90.359352</td>\n      <td>132.063669</td>\n      <td>2.0</td>\n    </tr>\n    <tr>\n      <th>Ayamonte</th>\n      <td>1235.0</td>\n      <td>4.0</td>\n      <td>22.0</td>\n      <td>21104.0</td>\n      <td>18.953753</td>\n      <td>104.245641</td>\n      <td>2.0</td>\n    </tr>\n    <tr>\n      <th>Gibraleón</th>\n      <td>531.0</td>\n      <td>15.0</td>\n      <td>20.0</td>\n      <td>12737.0</td>\n      <td>117.767135</td>\n      <td>157.022847</td>\n      <td>1.0</td>\n    </tr>\n    <tr>\n      <th>Niebla</th>\n      <td>160.0</td>\n      <td>2.0</td>\n      <td>3.0</td>\n      <td>4116.0</td>\n      <td>48.590865</td>\n      <td>72.886297</td>\n      <td>1.0</td>\n    </tr>\n    <tr>\n      <th>Palos de la Frontera</th>\n      <td>462.0</td>\n      <td>5.0</td>\n      <td>10.0</td>\n      <td>11742.0</td>\n      <td>42.582184</td>\n      <td>85.164367</td>\n      <td>1.0</td>\n    </tr>\n    <tr>\n      <th>Paterna del Campo</th>\n      <td>114.0</td>\n      <td>2.0</td>\n      <td>2.0</td>\n      <td>3457.0</td>\n      <td>57.853630</td>\n      <td>57.853630</td>\n      <td>1.0</td>\n    </tr>\n    <tr>\n      <th>Rociana del Condado</th>\n      <td>324.0</td>\n      <td>11.0</td>\n      <td>12.0</td>\n      <td>7939.0</td>\n      <td>138.556493</td>\n      <td>151.152538</td>\n      <td>1.0</td>\n    </tr>\n    <tr>\n      <th>Aljaraque</th>\n      <td>929.0</td>\n      <td>3.0</td>\n      <td>4.0</td>\n      <td>21474.0</td>\n      <td>13.970383</td>\n      <td>18.627177</td>\n      <td>1.0</td>\n    </tr>\n    <tr>\n      <th>Moguer</th>\n      <td>859.0</td>\n      <td>22.0</td>\n      <td>30.0</td>\n      <td>21867.0</td>\n      <td>100.608222</td>\n      <td>137.193031</td>\n      <td>-1.0</td>\n    </tr>\n  </tbody>\n</table>\n</div>"
     },
     "metadata": {},
     "execution_count": 15
    }
   ],
   "source": [
    "# Nuevos casos desde la última captura\n",
    "tabla[tabla['Diferencia PDIA'] != 0].sort_values('Diferencia PDIA', ascending=False)"
   ]
  },
  {
   "cell_type": "code",
   "execution_count": 16,
   "metadata": {},
   "outputs": [],
   "source": [
    "if tabla[tabla['Diferencia PDIA'] != 0]['Diferencia PDIA'].sum() != 0:\n",
    "  # Save to csv\n",
    "  tabla.to_csv('covid_huelva.csv', encoding='utf-8', header=True, index=True)  "
   ]
  },
  {
   "cell_type": "code",
   "execution_count": 17,
   "metadata": {},
   "outputs": [
    {
     "output_type": "execute_result",
     "data": {
      "text/plain": [
       "Medida                             Confirmados PDIA  Confirmados PDIA 7 días  \\\n",
       "Lugar de residencia                                                            \n",
       "Puebla de Guzmán                              108.0                      6.0   \n",
       "Villalba del Alcor                            458.0                      7.0   \n",
       "Alosno                                        136.0                     13.0   \n",
       "San Bartolomé de la Torre                     212.0                      6.0   \n",
       "Almonte                                       928.0                     46.0   \n",
       "Gibraleón                                     531.0                     15.0   \n",
       "Rociana del Condado                           324.0                     11.0   \n",
       "Moguer                                        859.0                     22.0   \n",
       "Condado-Campiña                              7128.0                    137.0   \n",
       "Bollullos Par del Condado                     636.0                     13.0   \n",
       "Cartaya                                       981.0                     15.0   \n",
       "Ayamonte                                     1235.0                      4.0   \n",
       "San Juan del Puerto                           368.0                      3.0   \n",
       "Palma del Condado (La)                        988.0                      2.0   \n",
       "Escacena del Campo                            141.0                      1.0   \n",
       "Palos de la Frontera                          462.0                      5.0   \n",
       "Huelva                                      25106.0                    245.0   \n",
       "Isla Cristina                                2004.0                      9.0   \n",
       "Niebla                                        160.0                      2.0   \n",
       "Valverde del Camino                           425.0                      6.0   \n",
       "Huelva-Costa                                15251.0                     97.0   \n",
       "Paterna del Campo                             114.0                      2.0   \n",
       "Lepe                                         2009.0                      8.0   \n",
       "Huelva (capital)                             6640.0                     39.0   \n",
       "Bonares                                       180.0                      2.0   \n",
       "Zalamea la Real                                85.0                      1.0   \n",
       "Aljaraque                                     929.0                      3.0   \n",
       "Sierra de Huelva-Andévalo Central            2310.0                      7.0   \n",
       "\n",
       "Medida                             Confirmados PDIA 14 días  Población  \\\n",
       "Lugar de residencia                                                      \n",
       "Puebla de Guzmán                                       13.0     3092.0   \n",
       "Villalba del Alcor                                     13.0     3366.0   \n",
       "Alosno                                                 14.0     3933.0   \n",
       "San Bartolomé de la Torre                              13.0     3761.0   \n",
       "Almonte                                                56.0    24507.0   \n",
       "Gibraleón                                              20.0    12737.0   \n",
       "Rociana del Condado                                    12.0     7939.0   \n",
       "Moguer                                                 30.0    21867.0   \n",
       "Condado-Campiña                                       210.0   156231.0   \n",
       "Bollullos Par del Condado                              19.0    14387.0   \n",
       "Cartaya                                                25.0    20083.0   \n",
       "Ayamonte                                               22.0    21104.0   \n",
       "San Juan del Puerto                                     9.0     9411.0   \n",
       "Palma del Condado (La)                                 10.0    10801.0   \n",
       "Escacena del Campo                                      2.0     2287.0   \n",
       "Palos de la Frontera                                   10.0    11742.0   \n",
       "Huelva                                                410.0   513170.0   \n",
       "Isla Cristina                                          16.0    21393.0   \n",
       "Niebla                                                  3.0     4116.0   \n",
       "Valverde del Camino                                     9.0    12750.0   \n",
       "Huelva-Costa                                          183.0   289548.0   \n",
       "Paterna del Campo                                       2.0     3457.0   \n",
       "Lepe                                                   16.0    27880.0   \n",
       "Huelva (capital)                                       69.0   143837.0   \n",
       "Bonares                                                 2.0     6060.0   \n",
       "Zalamea la Real                                         1.0     3054.0   \n",
       "Aljaraque                                               4.0    21474.0   \n",
       "Sierra de Huelva-Andévalo Central                      11.0    67391.0   \n",
       "\n",
       "Medida                                  tasa7      tasa14  Diferencia PDIA  \n",
       "Lugar de residencia                                                         \n",
       "Puebla de Guzmán                   194.049159  420.439845              0.0  \n",
       "Villalba del Alcor                 207.961973  386.215092              0.0  \n",
       "Alosno                             330.536486  355.962370              8.0  \n",
       "San Bartolomé de la Torre          159.532039  345.652752              0.0  \n",
       "Almonte                            187.701473  228.506141             12.0  \n",
       "Gibraleón                          117.767135  157.022847              1.0  \n",
       "Rociana del Condado                138.556493  151.152538              1.0  \n",
       "Moguer                             100.608222  137.193031             -1.0  \n",
       "Condado-Campiña                     87.690663  134.416345             18.0  \n",
       "Bollullos Par del Condado           90.359352  132.063669              2.0  \n",
       "Cartaya                             74.690036  124.483394              7.0  \n",
       "Ayamonte                            18.953753  104.245641              2.0  \n",
       "San Juan del Puerto                 31.877590   95.632770              0.0  \n",
       "Palma del Condado (La)              18.516804   92.584020              0.0  \n",
       "Escacena del Campo                  43.725404   87.450809              0.0  \n",
       "Palos de la Frontera                42.582184   85.164367              1.0  \n",
       "Huelva                              47.742464   79.895551             48.0  \n",
       "Isla Cristina                       42.069836   74.790819              0.0  \n",
       "Niebla                              48.590865   72.886297              1.0  \n",
       "Valverde del Camino                 47.058824   70.588235              2.0  \n",
       "Huelva-Costa                        33.500490   63.201956             25.0  \n",
       "Paterna del Campo                   57.853630   57.853630              1.0  \n",
       "Lepe                                28.694405   57.388809              0.0  \n",
       "Huelva (capital)                    27.114025   47.970967              7.0  \n",
       "Bonares                             33.003300   33.003300              0.0  \n",
       "Zalamea la Real                     32.743942   32.743942              0.0  \n",
       "Aljaraque                           13.970383   18.627177              1.0  \n",
       "Sierra de Huelva-Andévalo Central   10.387144   16.322654              2.0  "
      ],
      "text/html": "<div>\n<style scoped>\n    .dataframe tbody tr th:only-of-type {\n        vertical-align: middle;\n    }\n\n    .dataframe tbody tr th {\n        vertical-align: top;\n    }\n\n    .dataframe thead th {\n        text-align: right;\n    }\n</style>\n<table border=\"1\" class=\"dataframe\">\n  <thead>\n    <tr style=\"text-align: right;\">\n      <th>Medida</th>\n      <th>Confirmados PDIA</th>\n      <th>Confirmados PDIA 7 días</th>\n      <th>Confirmados PDIA 14 días</th>\n      <th>Población</th>\n      <th>tasa7</th>\n      <th>tasa14</th>\n      <th>Diferencia PDIA</th>\n    </tr>\n    <tr>\n      <th>Lugar de residencia</th>\n      <th></th>\n      <th></th>\n      <th></th>\n      <th></th>\n      <th></th>\n      <th></th>\n      <th></th>\n    </tr>\n  </thead>\n  <tbody>\n    <tr>\n      <th>Puebla de Guzmán</th>\n      <td>108.0</td>\n      <td>6.0</td>\n      <td>13.0</td>\n      <td>3092.0</td>\n      <td>194.049159</td>\n      <td>420.439845</td>\n      <td>0.0</td>\n    </tr>\n    <tr>\n      <th>Villalba del Alcor</th>\n      <td>458.0</td>\n      <td>7.0</td>\n      <td>13.0</td>\n      <td>3366.0</td>\n      <td>207.961973</td>\n      <td>386.215092</td>\n      <td>0.0</td>\n    </tr>\n    <tr>\n      <th>Alosno</th>\n      <td>136.0</td>\n      <td>13.0</td>\n      <td>14.0</td>\n      <td>3933.0</td>\n      <td>330.536486</td>\n      <td>355.962370</td>\n      <td>8.0</td>\n    </tr>\n    <tr>\n      <th>San Bartolomé de la Torre</th>\n      <td>212.0</td>\n      <td>6.0</td>\n      <td>13.0</td>\n      <td>3761.0</td>\n      <td>159.532039</td>\n      <td>345.652752</td>\n      <td>0.0</td>\n    </tr>\n    <tr>\n      <th>Almonte</th>\n      <td>928.0</td>\n      <td>46.0</td>\n      <td>56.0</td>\n      <td>24507.0</td>\n      <td>187.701473</td>\n      <td>228.506141</td>\n      <td>12.0</td>\n    </tr>\n    <tr>\n      <th>Gibraleón</th>\n      <td>531.0</td>\n      <td>15.0</td>\n      <td>20.0</td>\n      <td>12737.0</td>\n      <td>117.767135</td>\n      <td>157.022847</td>\n      <td>1.0</td>\n    </tr>\n    <tr>\n      <th>Rociana del Condado</th>\n      <td>324.0</td>\n      <td>11.0</td>\n      <td>12.0</td>\n      <td>7939.0</td>\n      <td>138.556493</td>\n      <td>151.152538</td>\n      <td>1.0</td>\n    </tr>\n    <tr>\n      <th>Moguer</th>\n      <td>859.0</td>\n      <td>22.0</td>\n      <td>30.0</td>\n      <td>21867.0</td>\n      <td>100.608222</td>\n      <td>137.193031</td>\n      <td>-1.0</td>\n    </tr>\n    <tr>\n      <th>Condado-Campiña</th>\n      <td>7128.0</td>\n      <td>137.0</td>\n      <td>210.0</td>\n      <td>156231.0</td>\n      <td>87.690663</td>\n      <td>134.416345</td>\n      <td>18.0</td>\n    </tr>\n    <tr>\n      <th>Bollullos Par del Condado</th>\n      <td>636.0</td>\n      <td>13.0</td>\n      <td>19.0</td>\n      <td>14387.0</td>\n      <td>90.359352</td>\n      <td>132.063669</td>\n      <td>2.0</td>\n    </tr>\n    <tr>\n      <th>Cartaya</th>\n      <td>981.0</td>\n      <td>15.0</td>\n      <td>25.0</td>\n      <td>20083.0</td>\n      <td>74.690036</td>\n      <td>124.483394</td>\n      <td>7.0</td>\n    </tr>\n    <tr>\n      <th>Ayamonte</th>\n      <td>1235.0</td>\n      <td>4.0</td>\n      <td>22.0</td>\n      <td>21104.0</td>\n      <td>18.953753</td>\n      <td>104.245641</td>\n      <td>2.0</td>\n    </tr>\n    <tr>\n      <th>San Juan del Puerto</th>\n      <td>368.0</td>\n      <td>3.0</td>\n      <td>9.0</td>\n      <td>9411.0</td>\n      <td>31.877590</td>\n      <td>95.632770</td>\n      <td>0.0</td>\n    </tr>\n    <tr>\n      <th>Palma del Condado (La)</th>\n      <td>988.0</td>\n      <td>2.0</td>\n      <td>10.0</td>\n      <td>10801.0</td>\n      <td>18.516804</td>\n      <td>92.584020</td>\n      <td>0.0</td>\n    </tr>\n    <tr>\n      <th>Escacena del Campo</th>\n      <td>141.0</td>\n      <td>1.0</td>\n      <td>2.0</td>\n      <td>2287.0</td>\n      <td>43.725404</td>\n      <td>87.450809</td>\n      <td>0.0</td>\n    </tr>\n    <tr>\n      <th>Palos de la Frontera</th>\n      <td>462.0</td>\n      <td>5.0</td>\n      <td>10.0</td>\n      <td>11742.0</td>\n      <td>42.582184</td>\n      <td>85.164367</td>\n      <td>1.0</td>\n    </tr>\n    <tr>\n      <th>Huelva</th>\n      <td>25106.0</td>\n      <td>245.0</td>\n      <td>410.0</td>\n      <td>513170.0</td>\n      <td>47.742464</td>\n      <td>79.895551</td>\n      <td>48.0</td>\n    </tr>\n    <tr>\n      <th>Isla Cristina</th>\n      <td>2004.0</td>\n      <td>9.0</td>\n      <td>16.0</td>\n      <td>21393.0</td>\n      <td>42.069836</td>\n      <td>74.790819</td>\n      <td>0.0</td>\n    </tr>\n    <tr>\n      <th>Niebla</th>\n      <td>160.0</td>\n      <td>2.0</td>\n      <td>3.0</td>\n      <td>4116.0</td>\n      <td>48.590865</td>\n      <td>72.886297</td>\n      <td>1.0</td>\n    </tr>\n    <tr>\n      <th>Valverde del Camino</th>\n      <td>425.0</td>\n      <td>6.0</td>\n      <td>9.0</td>\n      <td>12750.0</td>\n      <td>47.058824</td>\n      <td>70.588235</td>\n      <td>2.0</td>\n    </tr>\n    <tr>\n      <th>Huelva-Costa</th>\n      <td>15251.0</td>\n      <td>97.0</td>\n      <td>183.0</td>\n      <td>289548.0</td>\n      <td>33.500490</td>\n      <td>63.201956</td>\n      <td>25.0</td>\n    </tr>\n    <tr>\n      <th>Paterna del Campo</th>\n      <td>114.0</td>\n      <td>2.0</td>\n      <td>2.0</td>\n      <td>3457.0</td>\n      <td>57.853630</td>\n      <td>57.853630</td>\n      <td>1.0</td>\n    </tr>\n    <tr>\n      <th>Lepe</th>\n      <td>2009.0</td>\n      <td>8.0</td>\n      <td>16.0</td>\n      <td>27880.0</td>\n      <td>28.694405</td>\n      <td>57.388809</td>\n      <td>0.0</td>\n    </tr>\n    <tr>\n      <th>Huelva (capital)</th>\n      <td>6640.0</td>\n      <td>39.0</td>\n      <td>69.0</td>\n      <td>143837.0</td>\n      <td>27.114025</td>\n      <td>47.970967</td>\n      <td>7.0</td>\n    </tr>\n    <tr>\n      <th>Bonares</th>\n      <td>180.0</td>\n      <td>2.0</td>\n      <td>2.0</td>\n      <td>6060.0</td>\n      <td>33.003300</td>\n      <td>33.003300</td>\n      <td>0.0</td>\n    </tr>\n    <tr>\n      <th>Zalamea la Real</th>\n      <td>85.0</td>\n      <td>1.0</td>\n      <td>1.0</td>\n      <td>3054.0</td>\n      <td>32.743942</td>\n      <td>32.743942</td>\n      <td>0.0</td>\n    </tr>\n    <tr>\n      <th>Aljaraque</th>\n      <td>929.0</td>\n      <td>3.0</td>\n      <td>4.0</td>\n      <td>21474.0</td>\n      <td>13.970383</td>\n      <td>18.627177</td>\n      <td>1.0</td>\n    </tr>\n    <tr>\n      <th>Sierra de Huelva-Andévalo Central</th>\n      <td>2310.0</td>\n      <td>7.0</td>\n      <td>11.0</td>\n      <td>67391.0</td>\n      <td>10.387144</td>\n      <td>16.322654</td>\n      <td>2.0</td>\n    </tr>\n  </tbody>\n</table>\n</div>"
     },
     "metadata": {},
     "execution_count": 17
    }
   ],
   "source": [
    "tabla.sort_values('tasa14', ascending=False)"
   ]
  },
  {
   "cell_type": "code",
   "execution_count": 18,
   "metadata": {},
   "outputs": [
    {
     "output_type": "execute_result",
     "data": {
      "text/plain": [
       "Medida                             Confirmados PDIA  Confirmados PDIA 7 días  \\\n",
       "Lugar de residencia                                                            \n",
       "Ayamonte                                     1235.0                      4.0   \n",
       "Palma del Condado (La)                        988.0                      2.0   \n",
       "San Juan del Puerto                           368.0                      3.0   \n",
       "San Bartolomé de la Torre                     212.0                      6.0   \n",
       "Puebla de Guzmán                              108.0                      6.0   \n",
       "Escacena del Campo                            141.0                      1.0   \n",
       "Palos de la Frontera                          462.0                      5.0   \n",
       "Lepe                                         2009.0                      8.0   \n",
       "Huelva-Costa                                15251.0                     97.0   \n",
       "Villalba del Alcor                            458.0                      7.0   \n",
       "Isla Cristina                                2004.0                      9.0   \n",
       "Huelva (capital)                             6640.0                     39.0   \n",
       "Huelva                                      25106.0                    245.0   \n",
       "Cartaya                                       981.0                     15.0   \n",
       "Sierra de Huelva-Andévalo Central            2310.0                      7.0   \n",
       "Condado-Campiña                              7128.0                    137.0   \n",
       "Niebla                                        160.0                      2.0   \n",
       "Valverde del Camino                           425.0                      6.0   \n",
       "Bollullos Par del Condado                     636.0                     13.0   \n",
       "Moguer                                        859.0                     22.0   \n",
       "Aljaraque                                     929.0                      3.0   \n",
       "Gibraleón                                     531.0                     15.0   \n",
       "Almonte                                       928.0                     46.0   \n",
       "Rociana del Condado                           324.0                     11.0   \n",
       "Alosno                                        136.0                     13.0   \n",
       "Bonares                                       180.0                      2.0   \n",
       "Paterna del Campo                             114.0                      2.0   \n",
       "Zalamea la Real                                85.0                      1.0   \n",
       "\n",
       "Medida                             Confirmados PDIA 14 días  Población  \\\n",
       "Lugar de residencia                                                      \n",
       "Ayamonte                                               22.0    21104.0   \n",
       "Palma del Condado (La)                                 10.0    10801.0   \n",
       "San Juan del Puerto                                     9.0     9411.0   \n",
       "San Bartolomé de la Torre                              13.0     3761.0   \n",
       "Puebla de Guzmán                                       13.0     3092.0   \n",
       "Escacena del Campo                                      2.0     2287.0   \n",
       "Palos de la Frontera                                   10.0    11742.0   \n",
       "Lepe                                                   16.0    27880.0   \n",
       "Huelva-Costa                                          183.0   289548.0   \n",
       "Villalba del Alcor                                     13.0     3366.0   \n",
       "Isla Cristina                                          16.0    21393.0   \n",
       "Huelva (capital)                                       69.0   143837.0   \n",
       "Huelva                                                410.0   513170.0   \n",
       "Cartaya                                                25.0    20083.0   \n",
       "Sierra de Huelva-Andévalo Central                      11.0    67391.0   \n",
       "Condado-Campiña                                       210.0   156231.0   \n",
       "Niebla                                                  3.0     4116.0   \n",
       "Valverde del Camino                                     9.0    12750.0   \n",
       "Bollullos Par del Condado                              19.0    14387.0   \n",
       "Moguer                                                 30.0    21867.0   \n",
       "Aljaraque                                               4.0    21474.0   \n",
       "Gibraleón                                              20.0    12737.0   \n",
       "Almonte                                                56.0    24507.0   \n",
       "Rociana del Condado                                    12.0     7939.0   \n",
       "Alosno                                                 14.0     3933.0   \n",
       "Bonares                                                 2.0     6060.0   \n",
       "Paterna del Campo                                       2.0     3457.0   \n",
       "Zalamea la Real                                         1.0     3054.0   \n",
       "\n",
       "Medida                                  tasa7      tasa14  Diferencia PDIA  \\\n",
       "Lugar de residencia                                                          \n",
       "Ayamonte                            18.953753  104.245641              2.0   \n",
       "Palma del Condado (La)              18.516804   92.584020              0.0   \n",
       "San Juan del Puerto                 31.877590   95.632770              0.0   \n",
       "San Bartolomé de la Torre          159.532039  345.652752              0.0   \n",
       "Puebla de Guzmán                   194.049159  420.439845              0.0   \n",
       "Escacena del Campo                  43.725404   87.450809              0.0   \n",
       "Palos de la Frontera                42.582184   85.164367              1.0   \n",
       "Lepe                                28.694405   57.388809              0.0   \n",
       "Huelva-Costa                        33.500490   63.201956             25.0   \n",
       "Villalba del Alcor                 207.961973  386.215092              0.0   \n",
       "Isla Cristina                       42.069836   74.790819              0.0   \n",
       "Huelva (capital)                    27.114025   47.970967              7.0   \n",
       "Huelva                              47.742464   79.895551             48.0   \n",
       "Cartaya                             74.690036  124.483394              7.0   \n",
       "Sierra de Huelva-Andévalo Central   10.387144   16.322654              2.0   \n",
       "Condado-Campiña                     87.690663  134.416345             18.0   \n",
       "Niebla                              48.590865   72.886297              1.0   \n",
       "Valverde del Camino                 47.058824   70.588235              2.0   \n",
       "Bollullos Par del Condado           90.359352  132.063669              2.0   \n",
       "Moguer                             100.608222  137.193031             -1.0   \n",
       "Aljaraque                           13.970383   18.627177              1.0   \n",
       "Gibraleón                          117.767135  157.022847              1.0   \n",
       "Almonte                            187.701473  228.506141             12.0   \n",
       "Rociana del Condado                138.556493  151.152538              1.0   \n",
       "Alosno                             330.536486  355.962370              8.0   \n",
       "Bonares                             33.003300   33.003300              0.0   \n",
       "Paterna del Campo                   57.853630   57.853630              1.0   \n",
       "Zalamea la Real                     32.743942   32.743942              0.0   \n",
       "\n",
       "Medida                                 7/14  \n",
       "Lugar de residencia                          \n",
       "Ayamonte                           0.181818  \n",
       "Palma del Condado (La)             0.200000  \n",
       "San Juan del Puerto                0.333333  \n",
       "San Bartolomé de la Torre          0.461538  \n",
       "Puebla de Guzmán                   0.461538  \n",
       "Escacena del Campo                 0.500000  \n",
       "Palos de la Frontera               0.500000  \n",
       "Lepe                               0.500000  \n",
       "Huelva-Costa                       0.530055  \n",
       "Villalba del Alcor                 0.538462  \n",
       "Isla Cristina                      0.562500  \n",
       "Huelva (capital)                   0.565217  \n",
       "Huelva                             0.597561  \n",
       "Cartaya                            0.600000  \n",
       "Sierra de Huelva-Andévalo Central  0.636364  \n",
       "Condado-Campiña                    0.652381  \n",
       "Niebla                             0.666667  \n",
       "Valverde del Camino                0.666667  \n",
       "Bollullos Par del Condado          0.684211  \n",
       "Moguer                             0.733333  \n",
       "Aljaraque                          0.750000  \n",
       "Gibraleón                          0.750000  \n",
       "Almonte                            0.821429  \n",
       "Rociana del Condado                0.916667  \n",
       "Alosno                             0.928571  \n",
       "Bonares                            1.000000  \n",
       "Paterna del Campo                  1.000000  \n",
       "Zalamea la Real                    1.000000  "
      ],
      "text/html": "<div>\n<style scoped>\n    .dataframe tbody tr th:only-of-type {\n        vertical-align: middle;\n    }\n\n    .dataframe tbody tr th {\n        vertical-align: top;\n    }\n\n    .dataframe thead th {\n        text-align: right;\n    }\n</style>\n<table border=\"1\" class=\"dataframe\">\n  <thead>\n    <tr style=\"text-align: right;\">\n      <th>Medida</th>\n      <th>Confirmados PDIA</th>\n      <th>Confirmados PDIA 7 días</th>\n      <th>Confirmados PDIA 14 días</th>\n      <th>Población</th>\n      <th>tasa7</th>\n      <th>tasa14</th>\n      <th>Diferencia PDIA</th>\n      <th>7/14</th>\n    </tr>\n    <tr>\n      <th>Lugar de residencia</th>\n      <th></th>\n      <th></th>\n      <th></th>\n      <th></th>\n      <th></th>\n      <th></th>\n      <th></th>\n      <th></th>\n    </tr>\n  </thead>\n  <tbody>\n    <tr>\n      <th>Ayamonte</th>\n      <td>1235.0</td>\n      <td>4.0</td>\n      <td>22.0</td>\n      <td>21104.0</td>\n      <td>18.953753</td>\n      <td>104.245641</td>\n      <td>2.0</td>\n      <td>0.181818</td>\n    </tr>\n    <tr>\n      <th>Palma del Condado (La)</th>\n      <td>988.0</td>\n      <td>2.0</td>\n      <td>10.0</td>\n      <td>10801.0</td>\n      <td>18.516804</td>\n      <td>92.584020</td>\n      <td>0.0</td>\n      <td>0.200000</td>\n    </tr>\n    <tr>\n      <th>San Juan del Puerto</th>\n      <td>368.0</td>\n      <td>3.0</td>\n      <td>9.0</td>\n      <td>9411.0</td>\n      <td>31.877590</td>\n      <td>95.632770</td>\n      <td>0.0</td>\n      <td>0.333333</td>\n    </tr>\n    <tr>\n      <th>San Bartolomé de la Torre</th>\n      <td>212.0</td>\n      <td>6.0</td>\n      <td>13.0</td>\n      <td>3761.0</td>\n      <td>159.532039</td>\n      <td>345.652752</td>\n      <td>0.0</td>\n      <td>0.461538</td>\n    </tr>\n    <tr>\n      <th>Puebla de Guzmán</th>\n      <td>108.0</td>\n      <td>6.0</td>\n      <td>13.0</td>\n      <td>3092.0</td>\n      <td>194.049159</td>\n      <td>420.439845</td>\n      <td>0.0</td>\n      <td>0.461538</td>\n    </tr>\n    <tr>\n      <th>Escacena del Campo</th>\n      <td>141.0</td>\n      <td>1.0</td>\n      <td>2.0</td>\n      <td>2287.0</td>\n      <td>43.725404</td>\n      <td>87.450809</td>\n      <td>0.0</td>\n      <td>0.500000</td>\n    </tr>\n    <tr>\n      <th>Palos de la Frontera</th>\n      <td>462.0</td>\n      <td>5.0</td>\n      <td>10.0</td>\n      <td>11742.0</td>\n      <td>42.582184</td>\n      <td>85.164367</td>\n      <td>1.0</td>\n      <td>0.500000</td>\n    </tr>\n    <tr>\n      <th>Lepe</th>\n      <td>2009.0</td>\n      <td>8.0</td>\n      <td>16.0</td>\n      <td>27880.0</td>\n      <td>28.694405</td>\n      <td>57.388809</td>\n      <td>0.0</td>\n      <td>0.500000</td>\n    </tr>\n    <tr>\n      <th>Huelva-Costa</th>\n      <td>15251.0</td>\n      <td>97.0</td>\n      <td>183.0</td>\n      <td>289548.0</td>\n      <td>33.500490</td>\n      <td>63.201956</td>\n      <td>25.0</td>\n      <td>0.530055</td>\n    </tr>\n    <tr>\n      <th>Villalba del Alcor</th>\n      <td>458.0</td>\n      <td>7.0</td>\n      <td>13.0</td>\n      <td>3366.0</td>\n      <td>207.961973</td>\n      <td>386.215092</td>\n      <td>0.0</td>\n      <td>0.538462</td>\n    </tr>\n    <tr>\n      <th>Isla Cristina</th>\n      <td>2004.0</td>\n      <td>9.0</td>\n      <td>16.0</td>\n      <td>21393.0</td>\n      <td>42.069836</td>\n      <td>74.790819</td>\n      <td>0.0</td>\n      <td>0.562500</td>\n    </tr>\n    <tr>\n      <th>Huelva (capital)</th>\n      <td>6640.0</td>\n      <td>39.0</td>\n      <td>69.0</td>\n      <td>143837.0</td>\n      <td>27.114025</td>\n      <td>47.970967</td>\n      <td>7.0</td>\n      <td>0.565217</td>\n    </tr>\n    <tr>\n      <th>Huelva</th>\n      <td>25106.0</td>\n      <td>245.0</td>\n      <td>410.0</td>\n      <td>513170.0</td>\n      <td>47.742464</td>\n      <td>79.895551</td>\n      <td>48.0</td>\n      <td>0.597561</td>\n    </tr>\n    <tr>\n      <th>Cartaya</th>\n      <td>981.0</td>\n      <td>15.0</td>\n      <td>25.0</td>\n      <td>20083.0</td>\n      <td>74.690036</td>\n      <td>124.483394</td>\n      <td>7.0</td>\n      <td>0.600000</td>\n    </tr>\n    <tr>\n      <th>Sierra de Huelva-Andévalo Central</th>\n      <td>2310.0</td>\n      <td>7.0</td>\n      <td>11.0</td>\n      <td>67391.0</td>\n      <td>10.387144</td>\n      <td>16.322654</td>\n      <td>2.0</td>\n      <td>0.636364</td>\n    </tr>\n    <tr>\n      <th>Condado-Campiña</th>\n      <td>7128.0</td>\n      <td>137.0</td>\n      <td>210.0</td>\n      <td>156231.0</td>\n      <td>87.690663</td>\n      <td>134.416345</td>\n      <td>18.0</td>\n      <td>0.652381</td>\n    </tr>\n    <tr>\n      <th>Niebla</th>\n      <td>160.0</td>\n      <td>2.0</td>\n      <td>3.0</td>\n      <td>4116.0</td>\n      <td>48.590865</td>\n      <td>72.886297</td>\n      <td>1.0</td>\n      <td>0.666667</td>\n    </tr>\n    <tr>\n      <th>Valverde del Camino</th>\n      <td>425.0</td>\n      <td>6.0</td>\n      <td>9.0</td>\n      <td>12750.0</td>\n      <td>47.058824</td>\n      <td>70.588235</td>\n      <td>2.0</td>\n      <td>0.666667</td>\n    </tr>\n    <tr>\n      <th>Bollullos Par del Condado</th>\n      <td>636.0</td>\n      <td>13.0</td>\n      <td>19.0</td>\n      <td>14387.0</td>\n      <td>90.359352</td>\n      <td>132.063669</td>\n      <td>2.0</td>\n      <td>0.684211</td>\n    </tr>\n    <tr>\n      <th>Moguer</th>\n      <td>859.0</td>\n      <td>22.0</td>\n      <td>30.0</td>\n      <td>21867.0</td>\n      <td>100.608222</td>\n      <td>137.193031</td>\n      <td>-1.0</td>\n      <td>0.733333</td>\n    </tr>\n    <tr>\n      <th>Aljaraque</th>\n      <td>929.0</td>\n      <td>3.0</td>\n      <td>4.0</td>\n      <td>21474.0</td>\n      <td>13.970383</td>\n      <td>18.627177</td>\n      <td>1.0</td>\n      <td>0.750000</td>\n    </tr>\n    <tr>\n      <th>Gibraleón</th>\n      <td>531.0</td>\n      <td>15.0</td>\n      <td>20.0</td>\n      <td>12737.0</td>\n      <td>117.767135</td>\n      <td>157.022847</td>\n      <td>1.0</td>\n      <td>0.750000</td>\n    </tr>\n    <tr>\n      <th>Almonte</th>\n      <td>928.0</td>\n      <td>46.0</td>\n      <td>56.0</td>\n      <td>24507.0</td>\n      <td>187.701473</td>\n      <td>228.506141</td>\n      <td>12.0</td>\n      <td>0.821429</td>\n    </tr>\n    <tr>\n      <th>Rociana del Condado</th>\n      <td>324.0</td>\n      <td>11.0</td>\n      <td>12.0</td>\n      <td>7939.0</td>\n      <td>138.556493</td>\n      <td>151.152538</td>\n      <td>1.0</td>\n      <td>0.916667</td>\n    </tr>\n    <tr>\n      <th>Alosno</th>\n      <td>136.0</td>\n      <td>13.0</td>\n      <td>14.0</td>\n      <td>3933.0</td>\n      <td>330.536486</td>\n      <td>355.962370</td>\n      <td>8.0</td>\n      <td>0.928571</td>\n    </tr>\n    <tr>\n      <th>Bonares</th>\n      <td>180.0</td>\n      <td>2.0</td>\n      <td>2.0</td>\n      <td>6060.0</td>\n      <td>33.003300</td>\n      <td>33.003300</td>\n      <td>0.0</td>\n      <td>1.000000</td>\n    </tr>\n    <tr>\n      <th>Paterna del Campo</th>\n      <td>114.0</td>\n      <td>2.0</td>\n      <td>2.0</td>\n      <td>3457.0</td>\n      <td>57.853630</td>\n      <td>57.853630</td>\n      <td>1.0</td>\n      <td>1.000000</td>\n    </tr>\n    <tr>\n      <th>Zalamea la Real</th>\n      <td>85.0</td>\n      <td>1.0</td>\n      <td>1.0</td>\n      <td>3054.0</td>\n      <td>32.743942</td>\n      <td>32.743942</td>\n      <td>0.0</td>\n      <td>1.000000</td>\n    </tr>\n  </tbody>\n</table>\n</div>"
     },
     "metadata": {},
     "execution_count": 18
    }
   ],
   "source": [
    "# Peso de la tasa de la última semana en relación con la tasa a 14 días \n",
    "# Mejor cuanto menor. Valor 1 significa que no había casos antes de 7 días.\n",
    "tabla['7/14'] = tabla['tasa7'] / tabla['tasa14']\n",
    "tabla.fillna(0).sort_values('7/14', ascending=True)"
   ]
  },
  {
   "cell_type": "code",
   "execution_count": null,
   "metadata": {},
   "outputs": [],
   "source": []
  }
 ]
}