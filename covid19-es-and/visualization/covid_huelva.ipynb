{
 "metadata": {
  "language_info": {
   "codemirror_mode": {
    "name": "ipython",
    "version": 3
   },
   "file_extension": ".py",
   "mimetype": "text/x-python",
   "name": "python",
   "nbconvert_exporter": "python",
   "pygments_lexer": "ipython3",
   "version": "3.8.6-final"
  },
  "orig_nbformat": 2,
  "kernelspec": {
   "name": "python3",
   "display_name": "Python 3",
   "language": "python"
  }
 },
 "nbformat": 4,
 "nbformat_minor": 2,
 "cells": [
  {
   "cell_type": "code",
   "execution_count": 1,
   "metadata": {},
   "outputs": [],
   "source": [
    "import pandas as pd\n",
    "pd.set_option('display.max_rows', None) # Print all rows"
   ]
  },
  {
   "cell_type": "code",
   "execution_count": 2,
   "metadata": {},
   "outputs": [],
   "source": [
    "# FIX SSL: CERTIFICATE_VERIFY_FAILED with Python3\n",
    "# https://stackoverflow.com/a/49174340\n",
    "import ssl\n",
    "\n",
    "ssl._create_default_https_context = ssl._create_unverified_context"
   ]
  },
  {
   "cell_type": "code",
   "execution_count": 3,
   "metadata": {},
   "outputs": [],
   "source": [
    "url = 'https://www.juntadeandalucia.es/institutodeestadisticaycartografia/badea/stpivot/stpivot/Print?cube=013d884c-cfc5-4c21-9e78-e26225682afd&type=3&foto=si&ejecutaDesde=&codConsulta=38668&consTipoVisua=JP'\n",
    "fields = ['Lugar de residencia', 'Medida', 'Valor']\n",
    "df = pd.read_csv(url, delimiter=';', usecols=fields, decimal=',')"
   ]
  },
  {
   "cell_type": "code",
   "execution_count": 4,
   "metadata": {},
   "outputs": [
    {
     "output_type": "execute_result",
     "data": {
      "text/plain": [
       "  Lugar de residencia                    Medida               Valor\n",
       "0              Huelva                 Población              513170\n",
       "1              Huelva          Confirmados PDIA               25608\n",
       "2              Huelva  Confirmados PDIA 14 días                 658\n",
       "3              Huelva         Tasa PDIA 14 días  128,22261628700042\n",
       "4              Huelva   Confirmados PDIA 7 días                 359\n",
       "5              Huelva        Total Confirmados                25809\n",
       "6              Huelva                   Curados               20844\n",
       "7              Huelva                Fallecidos                 351"
      ],
      "text/html": "<div>\n<style scoped>\n    .dataframe tbody tr th:only-of-type {\n        vertical-align: middle;\n    }\n\n    .dataframe tbody tr th {\n        vertical-align: top;\n    }\n\n    .dataframe thead th {\n        text-align: right;\n    }\n</style>\n<table border=\"1\" class=\"dataframe\">\n  <thead>\n    <tr style=\"text-align: right;\">\n      <th></th>\n      <th>Lugar de residencia</th>\n      <th>Medida</th>\n      <th>Valor</th>\n    </tr>\n  </thead>\n  <tbody>\n    <tr>\n      <th>0</th>\n      <td>Huelva</td>\n      <td>Población</td>\n      <td>513170</td>\n    </tr>\n    <tr>\n      <th>1</th>\n      <td>Huelva</td>\n      <td>Confirmados PDIA</td>\n      <td>25608</td>\n    </tr>\n    <tr>\n      <th>2</th>\n      <td>Huelva</td>\n      <td>Confirmados PDIA 14 días</td>\n      <td>658</td>\n    </tr>\n    <tr>\n      <th>3</th>\n      <td>Huelva</td>\n      <td>Tasa PDIA 14 días</td>\n      <td>128,22261628700042</td>\n    </tr>\n    <tr>\n      <th>4</th>\n      <td>Huelva</td>\n      <td>Confirmados PDIA 7 días</td>\n      <td>359</td>\n    </tr>\n    <tr>\n      <th>5</th>\n      <td>Huelva</td>\n      <td>Total Confirmados</td>\n      <td>25809</td>\n    </tr>\n    <tr>\n      <th>6</th>\n      <td>Huelva</td>\n      <td>Curados</td>\n      <td>20844</td>\n    </tr>\n    <tr>\n      <th>7</th>\n      <td>Huelva</td>\n      <td>Fallecidos</td>\n      <td>351</td>\n    </tr>\n  </tbody>\n</table>\n</div>"
     },
     "metadata": {},
     "execution_count": 4
    }
   ],
   "source": [
    "df[df['Lugar de residencia'] == 'Huelva']"
   ]
  },
  {
   "cell_type": "code",
   "execution_count": 5,
   "metadata": {},
   "outputs": [],
   "source": [
    "df['Valor'] = pd.to_numeric(df['Valor'],errors='coerce')"
   ]
  },
  {
   "cell_type": "code",
   "execution_count": 6,
   "metadata": {},
   "outputs": [],
   "source": [
    "dfAnterior = pd.read_csv('covid_huelva.csv', index_col='Lugar de residencia')"
   ]
  },
  {
   "cell_type": "code",
   "execution_count": 7,
   "metadata": {
    "tags": []
   },
   "outputs": [
    {
     "output_type": "stream",
     "name": "stdout",
     "text": [
      "Confirmados PCR en la provincia de Huelva:  25608.0\n",
      "<ipython-input-7-31b732756b19>:2: UserWarning: Boolean Series key will be reindexed to match DataFrame index.\n",
      "  p = df[df['Lugar de residencia'] == 'Huelva'][df['Medida'] == 'Confirmados PDIA']['Valor'].values[0]\n"
     ]
    }
   ],
   "source": [
    "# Confirmados PCR provincia Huelva\n",
    "p = df[df['Lugar de residencia'] == 'Huelva'][df['Medida'] == 'Confirmados PDIA']['Valor'].values[0]\n",
    "print('Confirmados PCR en la provincia de Huelva: ', p)"
   ]
  },
  {
   "cell_type": "code",
   "execution_count": 8,
   "metadata": {
    "tags": []
   },
   "outputs": [
    {
     "output_type": "stream",
     "name": "stdout",
     "text": [
      "Confirmados PCR en Huelva capital:  6707.0\n",
      "<ipython-input-8-e81bfb40e710>:2: UserWarning: Boolean Series key will be reindexed to match DataFrame index.\n",
      "  c = df[df['Lugar de residencia'] == 'Huelva (capital)'][df['Medida'] == 'Confirmados PDIA']['Valor'].values[0]\n"
     ]
    }
   ],
   "source": [
    "# Confirmados PCR Huelva capitalpd\n",
    "c = df[df['Lugar de residencia'] == 'Huelva (capital)'][df['Medida'] == 'Confirmados PDIA']['Valor'].values[0]\n",
    "print('Confirmados PCR en Huelva capital: ', c)"
   ]
  },
  {
   "cell_type": "code",
   "execution_count": 9,
   "metadata": {
    "tags": []
   },
   "outputs": [
    {
     "output_type": "stream",
     "name": "stderr",
     "text": [
      "<ipython-input-9-f09dd2050cc1>:1: UserWarning: Boolean Series key will be reindexed to match DataFrame index.\n  c7 = df[df['Lugar de residencia'] == 'Huelva (capital)'][df['Medida'] == 'Confirmados PDIA 7 días']['Valor'].values[0]\n<ipython-input-9-f09dd2050cc1>:2: UserWarning: Boolean Series key will be reindexed to match DataFrame index.\n  c14 = df[df['Lugar de residencia'] == 'Huelva (capital)'][df['Medida'] == 'Confirmados PDIA 14 días']['Valor'].values[0]\n<ipython-input-9-f09dd2050cc1>:3: UserWarning: Boolean Series key will be reindexed to match DataFrame index.\n  p = df[df['Lugar de residencia'] == 'Huelva (capital)'][df['Medida'] == 'Población']['Valor'].values[0]\n"
     ]
    }
   ],
   "source": [
    "c7 = df[df['Lugar de residencia'] == 'Huelva (capital)'][df['Medida'] == 'Confirmados PDIA 7 días']['Valor'].values[0]\n",
    "c14 = df[df['Lugar de residencia'] == 'Huelva (capital)'][df['Medida'] == 'Confirmados PDIA 14 días']['Valor'].values[0]\n",
    "p = df[df['Lugar de residencia'] == 'Huelva (capital)'][df['Medida'] == 'Población']['Valor'].values[0]"
   ]
  },
  {
   "cell_type": "code",
   "execution_count": 10,
   "metadata": {
    "tags": []
   },
   "outputs": [
    {
     "output_type": "stream",
     "name": "stdout",
     "text": [
      "Huelva (capital)\n\nUn positivo PCR cada 2820 personas en los últimos 7 días \n\nUn positivo PCR cada 1598 personas en los últimos 14 días\n"
     ]
    }
   ],
   "source": [
    "print('Huelva (capital)\\n')\n",
    "#print('Confirmados PCR 7 días x 1,000 habitantes: ', f\"{c7/(p/1000):.5f}\")\n",
    "print('Un positivo PCR cada', f\"{p/c7:.0f}\", 'personas en los últimos 7 días', '\\n')\n",
    "#print('Confirmados PCR 14 días x 1,000 habitantes: ', f\"{c14/(p/1000):.5f}\")\n",
    "print('Un positivo PCR cada', f\"{p/c14:.0f}\", 'personas en los últimos 14 días')"
   ]
  },
  {
   "cell_type": "code",
   "execution_count": 11,
   "metadata": {},
   "outputs": [],
   "source": [
    "filtro = ((df['Medida'] == 'Confirmados PDIA')| (df['Medida'] == 'Confirmados PDIA 7 días') | (df['Medida'] == 'Población' ) | (df['Medida'] == 'Confirmados PDIA 14 días')) & (df['Valor'] > 0)\n",
    "tabla = pd.pivot_table(df.loc[filtro], values='Valor', index='Lugar de residencia', columns='Medida').dropna()"
   ]
  },
  {
   "cell_type": "code",
   "execution_count": 12,
   "metadata": {},
   "outputs": [],
   "source": [
    "# Reorder columns\n",
    "tabla = tabla[['Confirmados PDIA', 'Confirmados PDIA 7 días', 'Confirmados PDIA 14 días', 'Población']]"
   ]
  },
  {
   "cell_type": "code",
   "execution_count": 13,
   "metadata": {},
   "outputs": [],
   "source": [
    "tabla['tasa7'] = tabla['Confirmados PDIA 7 días']/tabla['Población']*100000\n",
    "tabla['tasa14'] = tabla['Confirmados PDIA 14 días']/tabla['Población']*100000"
   ]
  },
  {
   "cell_type": "code",
   "execution_count": 14,
   "metadata": {},
   "outputs": [],
   "source": [
    "tabla['Diferencia PDIA'] = tabla['Confirmados PDIA'] - dfAnterior['Confirmados PDIA']"
   ]
  },
  {
   "cell_type": "code",
   "execution_count": 15,
   "metadata": {},
   "outputs": [
    {
     "output_type": "execute_result",
     "data": {
      "text/plain": [
       "Medida                             Confirmados PDIA  Confirmados PDIA 7 días  \\\n",
       "Lugar de residencia                                                            \n",
       "Huelva                                      25608.0                    359.0   \n",
       "Condado-Campiña                              7447.0                    232.0   \n",
       "Huelva-Costa                                15407.0                    103.0   \n",
       "Almonte                                      1020.0                     61.0   \n",
       "Huelva (capital)                             6707.0                     51.0   \n",
       "Bollullos Par del Condado                     680.0                     37.0   \n",
       "Rociana del Condado                           374.0                     28.0   \n",
       "Cartaya                                      1012.0                     22.0   \n",
       "Moguer                                        889.0                     22.0   \n",
       "San Bartolomé de la Torre                     234.0                     17.0   \n",
       "Palos de la Frontera                          483.0                     17.0   \n",
       "Sierra de Huelva-Andévalo Central            2326.0                     14.0   \n",
       "Gibraleón                                     546.0                     12.0   \n",
       "Niebla                                        175.0                     12.0   \n",
       "Bonares                                       186.0                      5.0   \n",
       "Lepe                                         2021.0                      9.0   \n",
       "Aljaraque                                     933.0                      4.0   \n",
       "Aracena                                       457.0                      6.0   \n",
       "Isla Cristina                                2011.0                      2.0   \n",
       "Punta Umbría                                  666.0                      4.0   \n",
       "Ayamonte                                     1244.0                      6.0   \n",
       "Paterna del Campo                             120.0                      5.0   \n",
       "Aroche                                         83.0                      3.0   \n",
       "San Juan del Puerto                           372.0                      3.0   \n",
       "Alosno                                        150.0                      3.0   \n",
       "Valverde del Camino                           429.0                      3.0   \n",
       "Villalba del Alcor                            462.0                      3.0   \n",
       "Calañas                                       172.0                      1.0   \n",
       "Galaroza                                       15.0                      1.0   \n",
       "Lucena del Puerto                             162.0                      1.0   \n",
       "Manzanilla                                     84.0                      1.0   \n",
       "Palma del Condado (La)                        994.0                      6.0   \n",
       "Paymogo                                        74.0                      1.0   \n",
       "Trigueros                                     229.0                      1.0   \n",
       "\n",
       "Medida                             Confirmados PDIA 14 días  Población  \\\n",
       "Lugar de residencia                                                      \n",
       "Huelva                                                658.0   513170.0   \n",
       "Condado-Campiña                                       403.0   156231.0   \n",
       "Huelva-Costa                                          215.0   289548.0   \n",
       "Almonte                                               126.0    24507.0   \n",
       "Huelva (capital)                                       90.0   143837.0   \n",
       "Bollullos Par del Condado                              49.0    14387.0   \n",
       "Rociana del Condado                                    56.0     7939.0   \n",
       "Cartaya                                                41.0    20083.0   \n",
       "Moguer                                                 45.0    21867.0   \n",
       "San Bartolomé de la Torre                              24.0     3761.0   \n",
       "Palos de la Frontera                                   21.0    11742.0   \n",
       "Sierra de Huelva-Andévalo Central                      21.0    67391.0   \n",
       "Gibraleón                                              26.0    12737.0   \n",
       "Niebla                                                 17.0     4116.0   \n",
       "Bonares                                                 6.0     6060.0   \n",
       "Lepe                                                   16.0    27880.0   \n",
       "Aljaraque                                               7.0    21474.0   \n",
       "Aracena                                                 7.0     8255.0   \n",
       "Isla Cristina                                          12.0    21393.0   \n",
       "Punta Umbría                                            8.0    15355.0   \n",
       "Ayamonte                                               13.0    21104.0   \n",
       "Paterna del Campo                                       8.0     3457.0   \n",
       "Aroche                                                  3.0     3054.0   \n",
       "San Juan del Puerto                                     7.0     9411.0   \n",
       "Alosno                                                 25.0     3933.0   \n",
       "Valverde del Camino                                     9.0    12750.0   \n",
       "Villalba del Alcor                                      7.0     3366.0   \n",
       "Calañas                                                 1.0     2768.0   \n",
       "Galaroza                                                1.0     1382.0   \n",
       "Lucena del Puerto                                       1.0     3261.0   \n",
       "Manzanilla                                              1.0     2118.0   \n",
       "Palma del Condado (La)                                  6.0    10801.0   \n",
       "Paymogo                                                 1.0     1162.0   \n",
       "Trigueros                                               1.0     7862.0   \n",
       "\n",
       "Medida                                  tasa7      tasa14  Diferencia PDIA  \n",
       "Lugar de residencia                                                         \n",
       "Huelva                              69.957324  128.222616            272.0  \n",
       "Condado-Campiña                    148.498057  257.951367            172.0  \n",
       "Huelva-Costa                        35.572686   74.253664             81.0  \n",
       "Almonte                            248.908475  514.138817             44.0  \n",
       "Huelva (capital)                    35.456802   62.570827             43.0  \n",
       "Bollullos Par del Condado          257.176618  340.585251             28.0  \n",
       "Rociana del Condado                352.689256  705.378511             19.0  \n",
       "Cartaya                            109.545387  204.152766             18.0  \n",
       "Moguer                             100.608222  205.789546             16.0  \n",
       "San Bartolomé de la Torre          452.007445  638.128157             14.0  \n",
       "Palos de la Frontera               144.779424  178.845171             14.0  \n",
       "Sierra de Huelva-Andévalo Central   20.774287   31.161431             10.0  \n",
       "Gibraleón                           94.213708  204.129701             10.0  \n",
       "Niebla                             291.545190  413.022352              8.0  \n",
       "Bonares                             82.508251   99.009901              5.0  \n",
       "Lepe                                32.281205   57.388809              5.0  \n",
       "Aljaraque                           18.627177   32.597560              4.0  \n",
       "Aracena                             72.683222   84.797093              4.0  \n",
       "Isla Cristina                        9.348852   56.093115              3.0  \n",
       "Punta Umbría                        26.050147   52.100293              3.0  \n",
       "Ayamonte                            28.430629   61.599697              2.0  \n",
       "Paterna del Campo                  144.634076  231.414521              2.0  \n",
       "Aroche                              98.231827   98.231827              2.0  \n",
       "San Juan del Puerto                 31.877590   74.381043              2.0  \n",
       "Alosno                              76.277651  635.647089              2.0  \n",
       "Valverde del Camino                 23.529412   70.588235              2.0  \n",
       "Villalba del Alcor                  89.126560  207.961973              2.0  \n",
       "Calañas                             36.127168   36.127168              NaN  \n",
       "Galaroza                            72.358900   72.358900              NaN  \n",
       "Lucena del Puerto                   30.665440   30.665440              NaN  \n",
       "Manzanilla                          47.214353   47.214353              NaN  \n",
       "Palma del Condado (La)              55.550412   55.550412              NaN  \n",
       "Paymogo                             86.058520   86.058520              NaN  \n",
       "Trigueros                           12.719410   12.719410              NaN  "
      ],
      "text/html": "<div>\n<style scoped>\n    .dataframe tbody tr th:only-of-type {\n        vertical-align: middle;\n    }\n\n    .dataframe tbody tr th {\n        vertical-align: top;\n    }\n\n    .dataframe thead th {\n        text-align: right;\n    }\n</style>\n<table border=\"1\" class=\"dataframe\">\n  <thead>\n    <tr style=\"text-align: right;\">\n      <th>Medida</th>\n      <th>Confirmados PDIA</th>\n      <th>Confirmados PDIA 7 días</th>\n      <th>Confirmados PDIA 14 días</th>\n      <th>Población</th>\n      <th>tasa7</th>\n      <th>tasa14</th>\n      <th>Diferencia PDIA</th>\n    </tr>\n    <tr>\n      <th>Lugar de residencia</th>\n      <th></th>\n      <th></th>\n      <th></th>\n      <th></th>\n      <th></th>\n      <th></th>\n      <th></th>\n    </tr>\n  </thead>\n  <tbody>\n    <tr>\n      <th>Huelva</th>\n      <td>25608.0</td>\n      <td>359.0</td>\n      <td>658.0</td>\n      <td>513170.0</td>\n      <td>69.957324</td>\n      <td>128.222616</td>\n      <td>272.0</td>\n    </tr>\n    <tr>\n      <th>Condado-Campiña</th>\n      <td>7447.0</td>\n      <td>232.0</td>\n      <td>403.0</td>\n      <td>156231.0</td>\n      <td>148.498057</td>\n      <td>257.951367</td>\n      <td>172.0</td>\n    </tr>\n    <tr>\n      <th>Huelva-Costa</th>\n      <td>15407.0</td>\n      <td>103.0</td>\n      <td>215.0</td>\n      <td>289548.0</td>\n      <td>35.572686</td>\n      <td>74.253664</td>\n      <td>81.0</td>\n    </tr>\n    <tr>\n      <th>Almonte</th>\n      <td>1020.0</td>\n      <td>61.0</td>\n      <td>126.0</td>\n      <td>24507.0</td>\n      <td>248.908475</td>\n      <td>514.138817</td>\n      <td>44.0</td>\n    </tr>\n    <tr>\n      <th>Huelva (capital)</th>\n      <td>6707.0</td>\n      <td>51.0</td>\n      <td>90.0</td>\n      <td>143837.0</td>\n      <td>35.456802</td>\n      <td>62.570827</td>\n      <td>43.0</td>\n    </tr>\n    <tr>\n      <th>Bollullos Par del Condado</th>\n      <td>680.0</td>\n      <td>37.0</td>\n      <td>49.0</td>\n      <td>14387.0</td>\n      <td>257.176618</td>\n      <td>340.585251</td>\n      <td>28.0</td>\n    </tr>\n    <tr>\n      <th>Rociana del Condado</th>\n      <td>374.0</td>\n      <td>28.0</td>\n      <td>56.0</td>\n      <td>7939.0</td>\n      <td>352.689256</td>\n      <td>705.378511</td>\n      <td>19.0</td>\n    </tr>\n    <tr>\n      <th>Cartaya</th>\n      <td>1012.0</td>\n      <td>22.0</td>\n      <td>41.0</td>\n      <td>20083.0</td>\n      <td>109.545387</td>\n      <td>204.152766</td>\n      <td>18.0</td>\n    </tr>\n    <tr>\n      <th>Moguer</th>\n      <td>889.0</td>\n      <td>22.0</td>\n      <td>45.0</td>\n      <td>21867.0</td>\n      <td>100.608222</td>\n      <td>205.789546</td>\n      <td>16.0</td>\n    </tr>\n    <tr>\n      <th>San Bartolomé de la Torre</th>\n      <td>234.0</td>\n      <td>17.0</td>\n      <td>24.0</td>\n      <td>3761.0</td>\n      <td>452.007445</td>\n      <td>638.128157</td>\n      <td>14.0</td>\n    </tr>\n    <tr>\n      <th>Palos de la Frontera</th>\n      <td>483.0</td>\n      <td>17.0</td>\n      <td>21.0</td>\n      <td>11742.0</td>\n      <td>144.779424</td>\n      <td>178.845171</td>\n      <td>14.0</td>\n    </tr>\n    <tr>\n      <th>Sierra de Huelva-Andévalo Central</th>\n      <td>2326.0</td>\n      <td>14.0</td>\n      <td>21.0</td>\n      <td>67391.0</td>\n      <td>20.774287</td>\n      <td>31.161431</td>\n      <td>10.0</td>\n    </tr>\n    <tr>\n      <th>Gibraleón</th>\n      <td>546.0</td>\n      <td>12.0</td>\n      <td>26.0</td>\n      <td>12737.0</td>\n      <td>94.213708</td>\n      <td>204.129701</td>\n      <td>10.0</td>\n    </tr>\n    <tr>\n      <th>Niebla</th>\n      <td>175.0</td>\n      <td>12.0</td>\n      <td>17.0</td>\n      <td>4116.0</td>\n      <td>291.545190</td>\n      <td>413.022352</td>\n      <td>8.0</td>\n    </tr>\n    <tr>\n      <th>Bonares</th>\n      <td>186.0</td>\n      <td>5.0</td>\n      <td>6.0</td>\n      <td>6060.0</td>\n      <td>82.508251</td>\n      <td>99.009901</td>\n      <td>5.0</td>\n    </tr>\n    <tr>\n      <th>Lepe</th>\n      <td>2021.0</td>\n      <td>9.0</td>\n      <td>16.0</td>\n      <td>27880.0</td>\n      <td>32.281205</td>\n      <td>57.388809</td>\n      <td>5.0</td>\n    </tr>\n    <tr>\n      <th>Aljaraque</th>\n      <td>933.0</td>\n      <td>4.0</td>\n      <td>7.0</td>\n      <td>21474.0</td>\n      <td>18.627177</td>\n      <td>32.597560</td>\n      <td>4.0</td>\n    </tr>\n    <tr>\n      <th>Aracena</th>\n      <td>457.0</td>\n      <td>6.0</td>\n      <td>7.0</td>\n      <td>8255.0</td>\n      <td>72.683222</td>\n      <td>84.797093</td>\n      <td>4.0</td>\n    </tr>\n    <tr>\n      <th>Isla Cristina</th>\n      <td>2011.0</td>\n      <td>2.0</td>\n      <td>12.0</td>\n      <td>21393.0</td>\n      <td>9.348852</td>\n      <td>56.093115</td>\n      <td>3.0</td>\n    </tr>\n    <tr>\n      <th>Punta Umbría</th>\n      <td>666.0</td>\n      <td>4.0</td>\n      <td>8.0</td>\n      <td>15355.0</td>\n      <td>26.050147</td>\n      <td>52.100293</td>\n      <td>3.0</td>\n    </tr>\n    <tr>\n      <th>Ayamonte</th>\n      <td>1244.0</td>\n      <td>6.0</td>\n      <td>13.0</td>\n      <td>21104.0</td>\n      <td>28.430629</td>\n      <td>61.599697</td>\n      <td>2.0</td>\n    </tr>\n    <tr>\n      <th>Paterna del Campo</th>\n      <td>120.0</td>\n      <td>5.0</td>\n      <td>8.0</td>\n      <td>3457.0</td>\n      <td>144.634076</td>\n      <td>231.414521</td>\n      <td>2.0</td>\n    </tr>\n    <tr>\n      <th>Aroche</th>\n      <td>83.0</td>\n      <td>3.0</td>\n      <td>3.0</td>\n      <td>3054.0</td>\n      <td>98.231827</td>\n      <td>98.231827</td>\n      <td>2.0</td>\n    </tr>\n    <tr>\n      <th>San Juan del Puerto</th>\n      <td>372.0</td>\n      <td>3.0</td>\n      <td>7.0</td>\n      <td>9411.0</td>\n      <td>31.877590</td>\n      <td>74.381043</td>\n      <td>2.0</td>\n    </tr>\n    <tr>\n      <th>Alosno</th>\n      <td>150.0</td>\n      <td>3.0</td>\n      <td>25.0</td>\n      <td>3933.0</td>\n      <td>76.277651</td>\n      <td>635.647089</td>\n      <td>2.0</td>\n    </tr>\n    <tr>\n      <th>Valverde del Camino</th>\n      <td>429.0</td>\n      <td>3.0</td>\n      <td>9.0</td>\n      <td>12750.0</td>\n      <td>23.529412</td>\n      <td>70.588235</td>\n      <td>2.0</td>\n    </tr>\n    <tr>\n      <th>Villalba del Alcor</th>\n      <td>462.0</td>\n      <td>3.0</td>\n      <td>7.0</td>\n      <td>3366.0</td>\n      <td>89.126560</td>\n      <td>207.961973</td>\n      <td>2.0</td>\n    </tr>\n    <tr>\n      <th>Calañas</th>\n      <td>172.0</td>\n      <td>1.0</td>\n      <td>1.0</td>\n      <td>2768.0</td>\n      <td>36.127168</td>\n      <td>36.127168</td>\n      <td>NaN</td>\n    </tr>\n    <tr>\n      <th>Galaroza</th>\n      <td>15.0</td>\n      <td>1.0</td>\n      <td>1.0</td>\n      <td>1382.0</td>\n      <td>72.358900</td>\n      <td>72.358900</td>\n      <td>NaN</td>\n    </tr>\n    <tr>\n      <th>Lucena del Puerto</th>\n      <td>162.0</td>\n      <td>1.0</td>\n      <td>1.0</td>\n      <td>3261.0</td>\n      <td>30.665440</td>\n      <td>30.665440</td>\n      <td>NaN</td>\n    </tr>\n    <tr>\n      <th>Manzanilla</th>\n      <td>84.0</td>\n      <td>1.0</td>\n      <td>1.0</td>\n      <td>2118.0</td>\n      <td>47.214353</td>\n      <td>47.214353</td>\n      <td>NaN</td>\n    </tr>\n    <tr>\n      <th>Palma del Condado (La)</th>\n      <td>994.0</td>\n      <td>6.0</td>\n      <td>6.0</td>\n      <td>10801.0</td>\n      <td>55.550412</td>\n      <td>55.550412</td>\n      <td>NaN</td>\n    </tr>\n    <tr>\n      <th>Paymogo</th>\n      <td>74.0</td>\n      <td>1.0</td>\n      <td>1.0</td>\n      <td>1162.0</td>\n      <td>86.058520</td>\n      <td>86.058520</td>\n      <td>NaN</td>\n    </tr>\n    <tr>\n      <th>Trigueros</th>\n      <td>229.0</td>\n      <td>1.0</td>\n      <td>1.0</td>\n      <td>7862.0</td>\n      <td>12.719410</td>\n      <td>12.719410</td>\n      <td>NaN</td>\n    </tr>\n  </tbody>\n</table>\n</div>"
     },
     "metadata": {},
     "execution_count": 15
    }
   ],
   "source": [
    "# Nuevos casos desde la última captura\n",
    "tabla[tabla['Diferencia PDIA'] != 0].sort_values('Diferencia PDIA', ascending=False)"
   ]
  },
  {
   "cell_type": "code",
   "execution_count": 16,
   "metadata": {},
   "outputs": [],
   "source": [
    "if tabla[tabla['Diferencia PDIA'] != 0]['Diferencia PDIA'].sum() != 0:\n",
    "  # Save to csv\n",
    "  tabla.to_csv('covid_huelva.csv', encoding='utf-8', header=True, index=True)  "
   ]
  },
  {
   "cell_type": "code",
   "execution_count": 17,
   "metadata": {},
   "outputs": [
    {
     "output_type": "execute_result",
     "data": {
      "text/plain": [
       "Medida                             Confirmados PDIA  Confirmados PDIA 7 días  \\\n",
       "Lugar de residencia                                                            \n",
       "Rociana del Condado                           374.0                     28.0   \n",
       "San Bartolomé de la Torre                     234.0                     17.0   \n",
       "Alosno                                        150.0                      3.0   \n",
       "Almonte                                      1020.0                     61.0   \n",
       "Niebla                                        175.0                     12.0   \n",
       "Bollullos Par del Condado                     680.0                     37.0   \n",
       "Condado-Campiña                              7447.0                    232.0   \n",
       "Paterna del Campo                             120.0                      5.0   \n",
       "Villalba del Alcor                            462.0                      3.0   \n",
       "Moguer                                        889.0                     22.0   \n",
       "Cartaya                                      1012.0                     22.0   \n",
       "Gibraleón                                     546.0                     12.0   \n",
       "Palos de la Frontera                          483.0                     17.0   \n",
       "Huelva                                      25608.0                    359.0   \n",
       "Bonares                                       186.0                      5.0   \n",
       "Aroche                                         83.0                      3.0   \n",
       "Paymogo                                        74.0                      1.0   \n",
       "Aracena                                       457.0                      6.0   \n",
       "San Juan del Puerto                           372.0                      3.0   \n",
       "Huelva-Costa                                15407.0                    103.0   \n",
       "Galaroza                                       15.0                      1.0   \n",
       "Valverde del Camino                           429.0                      3.0   \n",
       "Puebla de Guzmán                              110.0                      1.0   \n",
       "Huelva (capital)                             6707.0                     51.0   \n",
       "Ayamonte                                     1244.0                      6.0   \n",
       "Lepe                                         2021.0                      9.0   \n",
       "Isla Cristina                                2011.0                      2.0   \n",
       "Palma del Condado (La)                        994.0                      6.0   \n",
       "Punta Umbría                                  666.0                      4.0   \n",
       "Manzanilla                                     84.0                      1.0   \n",
       "Villarrasa                                    133.0                      1.0   \n",
       "Calañas                                       172.0                      1.0   \n",
       "Aljaraque                                     933.0                      4.0   \n",
       "Sierra de Huelva-Andévalo Central            2326.0                     14.0   \n",
       "Lucena del Puerto                             162.0                      1.0   \n",
       "Trigueros                                     229.0                      1.0   \n",
       "\n",
       "Medida                             Confirmados PDIA 14 días  Población  \\\n",
       "Lugar de residencia                                                      \n",
       "Rociana del Condado                                    56.0     7939.0   \n",
       "San Bartolomé de la Torre                              24.0     3761.0   \n",
       "Alosno                                                 25.0     3933.0   \n",
       "Almonte                                               126.0    24507.0   \n",
       "Niebla                                                 17.0     4116.0   \n",
       "Bollullos Par del Condado                              49.0    14387.0   \n",
       "Condado-Campiña                                       403.0   156231.0   \n",
       "Paterna del Campo                                       8.0     3457.0   \n",
       "Villalba del Alcor                                      7.0     3366.0   \n",
       "Moguer                                                 45.0    21867.0   \n",
       "Cartaya                                                41.0    20083.0   \n",
       "Gibraleón                                              26.0    12737.0   \n",
       "Palos de la Frontera                                   21.0    11742.0   \n",
       "Huelva                                                658.0   513170.0   \n",
       "Bonares                                                 6.0     6060.0   \n",
       "Aroche                                                  3.0     3054.0   \n",
       "Paymogo                                                 1.0     1162.0   \n",
       "Aracena                                                 7.0     8255.0   \n",
       "San Juan del Puerto                                     7.0     9411.0   \n",
       "Huelva-Costa                                          215.0   289548.0   \n",
       "Galaroza                                                1.0     1382.0   \n",
       "Valverde del Camino                                     9.0    12750.0   \n",
       "Puebla de Guzmán                                        2.0     3092.0   \n",
       "Huelva (capital)                                       90.0   143837.0   \n",
       "Ayamonte                                               13.0    21104.0   \n",
       "Lepe                                                   16.0    27880.0   \n",
       "Isla Cristina                                          12.0    21393.0   \n",
       "Palma del Condado (La)                                  6.0    10801.0   \n",
       "Punta Umbría                                            8.0    15355.0   \n",
       "Manzanilla                                              1.0     2118.0   \n",
       "Villarrasa                                              1.0     2211.0   \n",
       "Calañas                                                 1.0     2768.0   \n",
       "Aljaraque                                               7.0    21474.0   \n",
       "Sierra de Huelva-Andévalo Central                      21.0    67391.0   \n",
       "Lucena del Puerto                                       1.0     3261.0   \n",
       "Trigueros                                               1.0     7862.0   \n",
       "\n",
       "Medida                                  tasa7      tasa14  Diferencia PDIA  \n",
       "Lugar de residencia                                                         \n",
       "Rociana del Condado                352.689256  705.378511             19.0  \n",
       "San Bartolomé de la Torre          452.007445  638.128157             14.0  \n",
       "Alosno                              76.277651  635.647089              2.0  \n",
       "Almonte                            248.908475  514.138817             44.0  \n",
       "Niebla                             291.545190  413.022352              8.0  \n",
       "Bollullos Par del Condado          257.176618  340.585251             28.0  \n",
       "Condado-Campiña                    148.498057  257.951367            172.0  \n",
       "Paterna del Campo                  144.634076  231.414521              2.0  \n",
       "Villalba del Alcor                  89.126560  207.961973              2.0  \n",
       "Moguer                             100.608222  205.789546             16.0  \n",
       "Cartaya                            109.545387  204.152766             18.0  \n",
       "Gibraleón                           94.213708  204.129701             10.0  \n",
       "Palos de la Frontera               144.779424  178.845171             14.0  \n",
       "Huelva                              69.957324  128.222616            272.0  \n",
       "Bonares                             82.508251   99.009901              5.0  \n",
       "Aroche                              98.231827   98.231827              2.0  \n",
       "Paymogo                             86.058520   86.058520              NaN  \n",
       "Aracena                             72.683222   84.797093              4.0  \n",
       "San Juan del Puerto                 31.877590   74.381043              2.0  \n",
       "Huelva-Costa                        35.572686   74.253664             81.0  \n",
       "Galaroza                            72.358900   72.358900              NaN  \n",
       "Valverde del Camino                 23.529412   70.588235              2.0  \n",
       "Puebla de Guzmán                    32.341527   64.683053              0.0  \n",
       "Huelva (capital)                    35.456802   62.570827             43.0  \n",
       "Ayamonte                            28.430629   61.599697              2.0  \n",
       "Lepe                                32.281205   57.388809              5.0  \n",
       "Isla Cristina                        9.348852   56.093115              3.0  \n",
       "Palma del Condado (La)              55.550412   55.550412              NaN  \n",
       "Punta Umbría                        26.050147   52.100293              3.0  \n",
       "Manzanilla                          47.214353   47.214353              NaN  \n",
       "Villarrasa                          45.228403   45.228403              0.0  \n",
       "Calañas                             36.127168   36.127168              NaN  \n",
       "Aljaraque                           18.627177   32.597560              4.0  \n",
       "Sierra de Huelva-Andévalo Central   20.774287   31.161431             10.0  \n",
       "Lucena del Puerto                   30.665440   30.665440              NaN  \n",
       "Trigueros                           12.719410   12.719410              NaN  "
      ],
      "text/html": "<div>\n<style scoped>\n    .dataframe tbody tr th:only-of-type {\n        vertical-align: middle;\n    }\n\n    .dataframe tbody tr th {\n        vertical-align: top;\n    }\n\n    .dataframe thead th {\n        text-align: right;\n    }\n</style>\n<table border=\"1\" class=\"dataframe\">\n  <thead>\n    <tr style=\"text-align: right;\">\n      <th>Medida</th>\n      <th>Confirmados PDIA</th>\n      <th>Confirmados PDIA 7 días</th>\n      <th>Confirmados PDIA 14 días</th>\n      <th>Población</th>\n      <th>tasa7</th>\n      <th>tasa14</th>\n      <th>Diferencia PDIA</th>\n    </tr>\n    <tr>\n      <th>Lugar de residencia</th>\n      <th></th>\n      <th></th>\n      <th></th>\n      <th></th>\n      <th></th>\n      <th></th>\n      <th></th>\n    </tr>\n  </thead>\n  <tbody>\n    <tr>\n      <th>Rociana del Condado</th>\n      <td>374.0</td>\n      <td>28.0</td>\n      <td>56.0</td>\n      <td>7939.0</td>\n      <td>352.689256</td>\n      <td>705.378511</td>\n      <td>19.0</td>\n    </tr>\n    <tr>\n      <th>San Bartolomé de la Torre</th>\n      <td>234.0</td>\n      <td>17.0</td>\n      <td>24.0</td>\n      <td>3761.0</td>\n      <td>452.007445</td>\n      <td>638.128157</td>\n      <td>14.0</td>\n    </tr>\n    <tr>\n      <th>Alosno</th>\n      <td>150.0</td>\n      <td>3.0</td>\n      <td>25.0</td>\n      <td>3933.0</td>\n      <td>76.277651</td>\n      <td>635.647089</td>\n      <td>2.0</td>\n    </tr>\n    <tr>\n      <th>Almonte</th>\n      <td>1020.0</td>\n      <td>61.0</td>\n      <td>126.0</td>\n      <td>24507.0</td>\n      <td>248.908475</td>\n      <td>514.138817</td>\n      <td>44.0</td>\n    </tr>\n    <tr>\n      <th>Niebla</th>\n      <td>175.0</td>\n      <td>12.0</td>\n      <td>17.0</td>\n      <td>4116.0</td>\n      <td>291.545190</td>\n      <td>413.022352</td>\n      <td>8.0</td>\n    </tr>\n    <tr>\n      <th>Bollullos Par del Condado</th>\n      <td>680.0</td>\n      <td>37.0</td>\n      <td>49.0</td>\n      <td>14387.0</td>\n      <td>257.176618</td>\n      <td>340.585251</td>\n      <td>28.0</td>\n    </tr>\n    <tr>\n      <th>Condado-Campiña</th>\n      <td>7447.0</td>\n      <td>232.0</td>\n      <td>403.0</td>\n      <td>156231.0</td>\n      <td>148.498057</td>\n      <td>257.951367</td>\n      <td>172.0</td>\n    </tr>\n    <tr>\n      <th>Paterna del Campo</th>\n      <td>120.0</td>\n      <td>5.0</td>\n      <td>8.0</td>\n      <td>3457.0</td>\n      <td>144.634076</td>\n      <td>231.414521</td>\n      <td>2.0</td>\n    </tr>\n    <tr>\n      <th>Villalba del Alcor</th>\n      <td>462.0</td>\n      <td>3.0</td>\n      <td>7.0</td>\n      <td>3366.0</td>\n      <td>89.126560</td>\n      <td>207.961973</td>\n      <td>2.0</td>\n    </tr>\n    <tr>\n      <th>Moguer</th>\n      <td>889.0</td>\n      <td>22.0</td>\n      <td>45.0</td>\n      <td>21867.0</td>\n      <td>100.608222</td>\n      <td>205.789546</td>\n      <td>16.0</td>\n    </tr>\n    <tr>\n      <th>Cartaya</th>\n      <td>1012.0</td>\n      <td>22.0</td>\n      <td>41.0</td>\n      <td>20083.0</td>\n      <td>109.545387</td>\n      <td>204.152766</td>\n      <td>18.0</td>\n    </tr>\n    <tr>\n      <th>Gibraleón</th>\n      <td>546.0</td>\n      <td>12.0</td>\n      <td>26.0</td>\n      <td>12737.0</td>\n      <td>94.213708</td>\n      <td>204.129701</td>\n      <td>10.0</td>\n    </tr>\n    <tr>\n      <th>Palos de la Frontera</th>\n      <td>483.0</td>\n      <td>17.0</td>\n      <td>21.0</td>\n      <td>11742.0</td>\n      <td>144.779424</td>\n      <td>178.845171</td>\n      <td>14.0</td>\n    </tr>\n    <tr>\n      <th>Huelva</th>\n      <td>25608.0</td>\n      <td>359.0</td>\n      <td>658.0</td>\n      <td>513170.0</td>\n      <td>69.957324</td>\n      <td>128.222616</td>\n      <td>272.0</td>\n    </tr>\n    <tr>\n      <th>Bonares</th>\n      <td>186.0</td>\n      <td>5.0</td>\n      <td>6.0</td>\n      <td>6060.0</td>\n      <td>82.508251</td>\n      <td>99.009901</td>\n      <td>5.0</td>\n    </tr>\n    <tr>\n      <th>Aroche</th>\n      <td>83.0</td>\n      <td>3.0</td>\n      <td>3.0</td>\n      <td>3054.0</td>\n      <td>98.231827</td>\n      <td>98.231827</td>\n      <td>2.0</td>\n    </tr>\n    <tr>\n      <th>Paymogo</th>\n      <td>74.0</td>\n      <td>1.0</td>\n      <td>1.0</td>\n      <td>1162.0</td>\n      <td>86.058520</td>\n      <td>86.058520</td>\n      <td>NaN</td>\n    </tr>\n    <tr>\n      <th>Aracena</th>\n      <td>457.0</td>\n      <td>6.0</td>\n      <td>7.0</td>\n      <td>8255.0</td>\n      <td>72.683222</td>\n      <td>84.797093</td>\n      <td>4.0</td>\n    </tr>\n    <tr>\n      <th>San Juan del Puerto</th>\n      <td>372.0</td>\n      <td>3.0</td>\n      <td>7.0</td>\n      <td>9411.0</td>\n      <td>31.877590</td>\n      <td>74.381043</td>\n      <td>2.0</td>\n    </tr>\n    <tr>\n      <th>Huelva-Costa</th>\n      <td>15407.0</td>\n      <td>103.0</td>\n      <td>215.0</td>\n      <td>289548.0</td>\n      <td>35.572686</td>\n      <td>74.253664</td>\n      <td>81.0</td>\n    </tr>\n    <tr>\n      <th>Galaroza</th>\n      <td>15.0</td>\n      <td>1.0</td>\n      <td>1.0</td>\n      <td>1382.0</td>\n      <td>72.358900</td>\n      <td>72.358900</td>\n      <td>NaN</td>\n    </tr>\n    <tr>\n      <th>Valverde del Camino</th>\n      <td>429.0</td>\n      <td>3.0</td>\n      <td>9.0</td>\n      <td>12750.0</td>\n      <td>23.529412</td>\n      <td>70.588235</td>\n      <td>2.0</td>\n    </tr>\n    <tr>\n      <th>Puebla de Guzmán</th>\n      <td>110.0</td>\n      <td>1.0</td>\n      <td>2.0</td>\n      <td>3092.0</td>\n      <td>32.341527</td>\n      <td>64.683053</td>\n      <td>0.0</td>\n    </tr>\n    <tr>\n      <th>Huelva (capital)</th>\n      <td>6707.0</td>\n      <td>51.0</td>\n      <td>90.0</td>\n      <td>143837.0</td>\n      <td>35.456802</td>\n      <td>62.570827</td>\n      <td>43.0</td>\n    </tr>\n    <tr>\n      <th>Ayamonte</th>\n      <td>1244.0</td>\n      <td>6.0</td>\n      <td>13.0</td>\n      <td>21104.0</td>\n      <td>28.430629</td>\n      <td>61.599697</td>\n      <td>2.0</td>\n    </tr>\n    <tr>\n      <th>Lepe</th>\n      <td>2021.0</td>\n      <td>9.0</td>\n      <td>16.0</td>\n      <td>27880.0</td>\n      <td>32.281205</td>\n      <td>57.388809</td>\n      <td>5.0</td>\n    </tr>\n    <tr>\n      <th>Isla Cristina</th>\n      <td>2011.0</td>\n      <td>2.0</td>\n      <td>12.0</td>\n      <td>21393.0</td>\n      <td>9.348852</td>\n      <td>56.093115</td>\n      <td>3.0</td>\n    </tr>\n    <tr>\n      <th>Palma del Condado (La)</th>\n      <td>994.0</td>\n      <td>6.0</td>\n      <td>6.0</td>\n      <td>10801.0</td>\n      <td>55.550412</td>\n      <td>55.550412</td>\n      <td>NaN</td>\n    </tr>\n    <tr>\n      <th>Punta Umbría</th>\n      <td>666.0</td>\n      <td>4.0</td>\n      <td>8.0</td>\n      <td>15355.0</td>\n      <td>26.050147</td>\n      <td>52.100293</td>\n      <td>3.0</td>\n    </tr>\n    <tr>\n      <th>Manzanilla</th>\n      <td>84.0</td>\n      <td>1.0</td>\n      <td>1.0</td>\n      <td>2118.0</td>\n      <td>47.214353</td>\n      <td>47.214353</td>\n      <td>NaN</td>\n    </tr>\n    <tr>\n      <th>Villarrasa</th>\n      <td>133.0</td>\n      <td>1.0</td>\n      <td>1.0</td>\n      <td>2211.0</td>\n      <td>45.228403</td>\n      <td>45.228403</td>\n      <td>0.0</td>\n    </tr>\n    <tr>\n      <th>Calañas</th>\n      <td>172.0</td>\n      <td>1.0</td>\n      <td>1.0</td>\n      <td>2768.0</td>\n      <td>36.127168</td>\n      <td>36.127168</td>\n      <td>NaN</td>\n    </tr>\n    <tr>\n      <th>Aljaraque</th>\n      <td>933.0</td>\n      <td>4.0</td>\n      <td>7.0</td>\n      <td>21474.0</td>\n      <td>18.627177</td>\n      <td>32.597560</td>\n      <td>4.0</td>\n    </tr>\n    <tr>\n      <th>Sierra de Huelva-Andévalo Central</th>\n      <td>2326.0</td>\n      <td>14.0</td>\n      <td>21.0</td>\n      <td>67391.0</td>\n      <td>20.774287</td>\n      <td>31.161431</td>\n      <td>10.0</td>\n    </tr>\n    <tr>\n      <th>Lucena del Puerto</th>\n      <td>162.0</td>\n      <td>1.0</td>\n      <td>1.0</td>\n      <td>3261.0</td>\n      <td>30.665440</td>\n      <td>30.665440</td>\n      <td>NaN</td>\n    </tr>\n    <tr>\n      <th>Trigueros</th>\n      <td>229.0</td>\n      <td>1.0</td>\n      <td>1.0</td>\n      <td>7862.0</td>\n      <td>12.719410</td>\n      <td>12.719410</td>\n      <td>NaN</td>\n    </tr>\n  </tbody>\n</table>\n</div>"
     },
     "metadata": {},
     "execution_count": 17
    }
   ],
   "source": [
    "tabla.sort_values('tasa14', ascending=False)"
   ]
  },
  {
   "cell_type": "code",
   "execution_count": 18,
   "metadata": {},
   "outputs": [
    {
     "output_type": "execute_result",
     "data": {
      "text/plain": [
       "Medida                             Confirmados PDIA  Confirmados PDIA 7 días  \\\n",
       "Lugar de residencia                                                            \n",
       "Alosno                                        150.0                      3.0   \n",
       "Isla Cristina                                2011.0                      2.0   \n",
       "Valverde del Camino                           429.0                      3.0   \n",
       "San Juan del Puerto                           372.0                      3.0   \n",
       "Villalba del Alcor                            462.0                      3.0   \n",
       "Gibraleón                                     546.0                     12.0   \n",
       "Ayamonte                                     1244.0                      6.0   \n",
       "Huelva-Costa                                15407.0                    103.0   \n",
       "Almonte                                      1020.0                     61.0   \n",
       "Moguer                                        889.0                     22.0   \n",
       "Puebla de Guzmán                              110.0                      1.0   \n",
       "Punta Umbría                                  666.0                      4.0   \n",
       "Rociana del Condado                           374.0                     28.0   \n",
       "Cartaya                                      1012.0                     22.0   \n",
       "Huelva                                      25608.0                    359.0   \n",
       "Lepe                                         2021.0                      9.0   \n",
       "Huelva (capital)                             6707.0                     51.0   \n",
       "Aljaraque                                     933.0                      4.0   \n",
       "Condado-Campiña                              7447.0                    232.0   \n",
       "Paterna del Campo                             120.0                      5.0   \n",
       "Sierra de Huelva-Andévalo Central            2326.0                     14.0   \n",
       "Niebla                                        175.0                     12.0   \n",
       "San Bartolomé de la Torre                     234.0                     17.0   \n",
       "Bollullos Par del Condado                     680.0                     37.0   \n",
       "Palos de la Frontera                          483.0                     17.0   \n",
       "Bonares                                       186.0                      5.0   \n",
       "Aracena                                       457.0                      6.0   \n",
       "Lucena del Puerto                             162.0                      1.0   \n",
       "Trigueros                                     229.0                      1.0   \n",
       "Aroche                                         83.0                      3.0   \n",
       "Calañas                                       172.0                      1.0   \n",
       "Paymogo                                        74.0                      1.0   \n",
       "Palma del Condado (La)                        994.0                      6.0   \n",
       "Manzanilla                                     84.0                      1.0   \n",
       "Galaroza                                       15.0                      1.0   \n",
       "Villarrasa                                    133.0                      1.0   \n",
       "\n",
       "Medida                             Confirmados PDIA 14 días  Población  \\\n",
       "Lugar de residencia                                                      \n",
       "Alosno                                                 25.0     3933.0   \n",
       "Isla Cristina                                          12.0    21393.0   \n",
       "Valverde del Camino                                     9.0    12750.0   \n",
       "San Juan del Puerto                                     7.0     9411.0   \n",
       "Villalba del Alcor                                      7.0     3366.0   \n",
       "Gibraleón                                              26.0    12737.0   \n",
       "Ayamonte                                               13.0    21104.0   \n",
       "Huelva-Costa                                          215.0   289548.0   \n",
       "Almonte                                               126.0    24507.0   \n",
       "Moguer                                                 45.0    21867.0   \n",
       "Puebla de Guzmán                                        2.0     3092.0   \n",
       "Punta Umbría                                            8.0    15355.0   \n",
       "Rociana del Condado                                    56.0     7939.0   \n",
       "Cartaya                                                41.0    20083.0   \n",
       "Huelva                                                658.0   513170.0   \n",
       "Lepe                                                   16.0    27880.0   \n",
       "Huelva (capital)                                       90.0   143837.0   \n",
       "Aljaraque                                               7.0    21474.0   \n",
       "Condado-Campiña                                       403.0   156231.0   \n",
       "Paterna del Campo                                       8.0     3457.0   \n",
       "Sierra de Huelva-Andévalo Central                      21.0    67391.0   \n",
       "Niebla                                                 17.0     4116.0   \n",
       "San Bartolomé de la Torre                              24.0     3761.0   \n",
       "Bollullos Par del Condado                              49.0    14387.0   \n",
       "Palos de la Frontera                                   21.0    11742.0   \n",
       "Bonares                                                 6.0     6060.0   \n",
       "Aracena                                                 7.0     8255.0   \n",
       "Lucena del Puerto                                       1.0     3261.0   \n",
       "Trigueros                                               1.0     7862.0   \n",
       "Aroche                                                  3.0     3054.0   \n",
       "Calañas                                                 1.0     2768.0   \n",
       "Paymogo                                                 1.0     1162.0   \n",
       "Palma del Condado (La)                                  6.0    10801.0   \n",
       "Manzanilla                                              1.0     2118.0   \n",
       "Galaroza                                                1.0     1382.0   \n",
       "Villarrasa                                              1.0     2211.0   \n",
       "\n",
       "Medida                                  tasa7      tasa14  Diferencia PDIA  \\\n",
       "Lugar de residencia                                                          \n",
       "Alosno                              76.277651  635.647089              2.0   \n",
       "Isla Cristina                        9.348852   56.093115              3.0   \n",
       "Valverde del Camino                 23.529412   70.588235              2.0   \n",
       "San Juan del Puerto                 31.877590   74.381043              2.0   \n",
       "Villalba del Alcor                  89.126560  207.961973              2.0   \n",
       "Gibraleón                           94.213708  204.129701             10.0   \n",
       "Ayamonte                            28.430629   61.599697              2.0   \n",
       "Huelva-Costa                        35.572686   74.253664             81.0   \n",
       "Almonte                            248.908475  514.138817             44.0   \n",
       "Moguer                             100.608222  205.789546             16.0   \n",
       "Puebla de Guzmán                    32.341527   64.683053              0.0   \n",
       "Punta Umbría                        26.050147   52.100293              3.0   \n",
       "Rociana del Condado                352.689256  705.378511             19.0   \n",
       "Cartaya                            109.545387  204.152766             18.0   \n",
       "Huelva                              69.957324  128.222616            272.0   \n",
       "Lepe                                32.281205   57.388809              5.0   \n",
       "Huelva (capital)                    35.456802   62.570827             43.0   \n",
       "Aljaraque                           18.627177   32.597560              4.0   \n",
       "Condado-Campiña                    148.498057  257.951367            172.0   \n",
       "Paterna del Campo                  144.634076  231.414521              2.0   \n",
       "Sierra de Huelva-Andévalo Central   20.774287   31.161431             10.0   \n",
       "Niebla                             291.545190  413.022352              8.0   \n",
       "San Bartolomé de la Torre          452.007445  638.128157             14.0   \n",
       "Bollullos Par del Condado          257.176618  340.585251             28.0   \n",
       "Palos de la Frontera               144.779424  178.845171             14.0   \n",
       "Bonares                             82.508251   99.009901              5.0   \n",
       "Aracena                             72.683222   84.797093              4.0   \n",
       "Lucena del Puerto                   30.665440   30.665440              0.0   \n",
       "Trigueros                           12.719410   12.719410              0.0   \n",
       "Aroche                              98.231827   98.231827              2.0   \n",
       "Calañas                             36.127168   36.127168              0.0   \n",
       "Paymogo                             86.058520   86.058520              0.0   \n",
       "Palma del Condado (La)              55.550412   55.550412              0.0   \n",
       "Manzanilla                          47.214353   47.214353              0.0   \n",
       "Galaroza                            72.358900   72.358900              0.0   \n",
       "Villarrasa                          45.228403   45.228403              0.0   \n",
       "\n",
       "Medida                                 7/14  \n",
       "Lugar de residencia                          \n",
       "Alosno                             0.120000  \n",
       "Isla Cristina                      0.166667  \n",
       "Valverde del Camino                0.333333  \n",
       "San Juan del Puerto                0.428571  \n",
       "Villalba del Alcor                 0.428571  \n",
       "Gibraleón                          0.461538  \n",
       "Ayamonte                           0.461538  \n",
       "Huelva-Costa                       0.479070  \n",
       "Almonte                            0.484127  \n",
       "Moguer                             0.488889  \n",
       "Puebla de Guzmán                   0.500000  \n",
       "Punta Umbría                       0.500000  \n",
       "Rociana del Condado                0.500000  \n",
       "Cartaya                            0.536585  \n",
       "Huelva                             0.545593  \n",
       "Lepe                               0.562500  \n",
       "Huelva (capital)                   0.566667  \n",
       "Aljaraque                          0.571429  \n",
       "Condado-Campiña                    0.575682  \n",
       "Paterna del Campo                  0.625000  \n",
       "Sierra de Huelva-Andévalo Central  0.666667  \n",
       "Niebla                             0.705882  \n",
       "San Bartolomé de la Torre          0.708333  \n",
       "Bollullos Par del Condado          0.755102  \n",
       "Palos de la Frontera               0.809524  \n",
       "Bonares                            0.833333  \n",
       "Aracena                            0.857143  \n",
       "Lucena del Puerto                  1.000000  \n",
       "Trigueros                          1.000000  \n",
       "Aroche                             1.000000  \n",
       "Calañas                            1.000000  \n",
       "Paymogo                            1.000000  \n",
       "Palma del Condado (La)             1.000000  \n",
       "Manzanilla                         1.000000  \n",
       "Galaroza                           1.000000  \n",
       "Villarrasa                         1.000000  "
      ],
      "text/html": "<div>\n<style scoped>\n    .dataframe tbody tr th:only-of-type {\n        vertical-align: middle;\n    }\n\n    .dataframe tbody tr th {\n        vertical-align: top;\n    }\n\n    .dataframe thead th {\n        text-align: right;\n    }\n</style>\n<table border=\"1\" class=\"dataframe\">\n  <thead>\n    <tr style=\"text-align: right;\">\n      <th>Medida</th>\n      <th>Confirmados PDIA</th>\n      <th>Confirmados PDIA 7 días</th>\n      <th>Confirmados PDIA 14 días</th>\n      <th>Población</th>\n      <th>tasa7</th>\n      <th>tasa14</th>\n      <th>Diferencia PDIA</th>\n      <th>7/14</th>\n    </tr>\n    <tr>\n      <th>Lugar de residencia</th>\n      <th></th>\n      <th></th>\n      <th></th>\n      <th></th>\n      <th></th>\n      <th></th>\n      <th></th>\n      <th></th>\n    </tr>\n  </thead>\n  <tbody>\n    <tr>\n      <th>Alosno</th>\n      <td>150.0</td>\n      <td>3.0</td>\n      <td>25.0</td>\n      <td>3933.0</td>\n      <td>76.277651</td>\n      <td>635.647089</td>\n      <td>2.0</td>\n      <td>0.120000</td>\n    </tr>\n    <tr>\n      <th>Isla Cristina</th>\n      <td>2011.0</td>\n      <td>2.0</td>\n      <td>12.0</td>\n      <td>21393.0</td>\n      <td>9.348852</td>\n      <td>56.093115</td>\n      <td>3.0</td>\n      <td>0.166667</td>\n    </tr>\n    <tr>\n      <th>Valverde del Camino</th>\n      <td>429.0</td>\n      <td>3.0</td>\n      <td>9.0</td>\n      <td>12750.0</td>\n      <td>23.529412</td>\n      <td>70.588235</td>\n      <td>2.0</td>\n      <td>0.333333</td>\n    </tr>\n    <tr>\n      <th>San Juan del Puerto</th>\n      <td>372.0</td>\n      <td>3.0</td>\n      <td>7.0</td>\n      <td>9411.0</td>\n      <td>31.877590</td>\n      <td>74.381043</td>\n      <td>2.0</td>\n      <td>0.428571</td>\n    </tr>\n    <tr>\n      <th>Villalba del Alcor</th>\n      <td>462.0</td>\n      <td>3.0</td>\n      <td>7.0</td>\n      <td>3366.0</td>\n      <td>89.126560</td>\n      <td>207.961973</td>\n      <td>2.0</td>\n      <td>0.428571</td>\n    </tr>\n    <tr>\n      <th>Gibraleón</th>\n      <td>546.0</td>\n      <td>12.0</td>\n      <td>26.0</td>\n      <td>12737.0</td>\n      <td>94.213708</td>\n      <td>204.129701</td>\n      <td>10.0</td>\n      <td>0.461538</td>\n    </tr>\n    <tr>\n      <th>Ayamonte</th>\n      <td>1244.0</td>\n      <td>6.0</td>\n      <td>13.0</td>\n      <td>21104.0</td>\n      <td>28.430629</td>\n      <td>61.599697</td>\n      <td>2.0</td>\n      <td>0.461538</td>\n    </tr>\n    <tr>\n      <th>Huelva-Costa</th>\n      <td>15407.0</td>\n      <td>103.0</td>\n      <td>215.0</td>\n      <td>289548.0</td>\n      <td>35.572686</td>\n      <td>74.253664</td>\n      <td>81.0</td>\n      <td>0.479070</td>\n    </tr>\n    <tr>\n      <th>Almonte</th>\n      <td>1020.0</td>\n      <td>61.0</td>\n      <td>126.0</td>\n      <td>24507.0</td>\n      <td>248.908475</td>\n      <td>514.138817</td>\n      <td>44.0</td>\n      <td>0.484127</td>\n    </tr>\n    <tr>\n      <th>Moguer</th>\n      <td>889.0</td>\n      <td>22.0</td>\n      <td>45.0</td>\n      <td>21867.0</td>\n      <td>100.608222</td>\n      <td>205.789546</td>\n      <td>16.0</td>\n      <td>0.488889</td>\n    </tr>\n    <tr>\n      <th>Puebla de Guzmán</th>\n      <td>110.0</td>\n      <td>1.0</td>\n      <td>2.0</td>\n      <td>3092.0</td>\n      <td>32.341527</td>\n      <td>64.683053</td>\n      <td>0.0</td>\n      <td>0.500000</td>\n    </tr>\n    <tr>\n      <th>Punta Umbría</th>\n      <td>666.0</td>\n      <td>4.0</td>\n      <td>8.0</td>\n      <td>15355.0</td>\n      <td>26.050147</td>\n      <td>52.100293</td>\n      <td>3.0</td>\n      <td>0.500000</td>\n    </tr>\n    <tr>\n      <th>Rociana del Condado</th>\n      <td>374.0</td>\n      <td>28.0</td>\n      <td>56.0</td>\n      <td>7939.0</td>\n      <td>352.689256</td>\n      <td>705.378511</td>\n      <td>19.0</td>\n      <td>0.500000</td>\n    </tr>\n    <tr>\n      <th>Cartaya</th>\n      <td>1012.0</td>\n      <td>22.0</td>\n      <td>41.0</td>\n      <td>20083.0</td>\n      <td>109.545387</td>\n      <td>204.152766</td>\n      <td>18.0</td>\n      <td>0.536585</td>\n    </tr>\n    <tr>\n      <th>Huelva</th>\n      <td>25608.0</td>\n      <td>359.0</td>\n      <td>658.0</td>\n      <td>513170.0</td>\n      <td>69.957324</td>\n      <td>128.222616</td>\n      <td>272.0</td>\n      <td>0.545593</td>\n    </tr>\n    <tr>\n      <th>Lepe</th>\n      <td>2021.0</td>\n      <td>9.0</td>\n      <td>16.0</td>\n      <td>27880.0</td>\n      <td>32.281205</td>\n      <td>57.388809</td>\n      <td>5.0</td>\n      <td>0.562500</td>\n    </tr>\n    <tr>\n      <th>Huelva (capital)</th>\n      <td>6707.0</td>\n      <td>51.0</td>\n      <td>90.0</td>\n      <td>143837.0</td>\n      <td>35.456802</td>\n      <td>62.570827</td>\n      <td>43.0</td>\n      <td>0.566667</td>\n    </tr>\n    <tr>\n      <th>Aljaraque</th>\n      <td>933.0</td>\n      <td>4.0</td>\n      <td>7.0</td>\n      <td>21474.0</td>\n      <td>18.627177</td>\n      <td>32.597560</td>\n      <td>4.0</td>\n      <td>0.571429</td>\n    </tr>\n    <tr>\n      <th>Condado-Campiña</th>\n      <td>7447.0</td>\n      <td>232.0</td>\n      <td>403.0</td>\n      <td>156231.0</td>\n      <td>148.498057</td>\n      <td>257.951367</td>\n      <td>172.0</td>\n      <td>0.575682</td>\n    </tr>\n    <tr>\n      <th>Paterna del Campo</th>\n      <td>120.0</td>\n      <td>5.0</td>\n      <td>8.0</td>\n      <td>3457.0</td>\n      <td>144.634076</td>\n      <td>231.414521</td>\n      <td>2.0</td>\n      <td>0.625000</td>\n    </tr>\n    <tr>\n      <th>Sierra de Huelva-Andévalo Central</th>\n      <td>2326.0</td>\n      <td>14.0</td>\n      <td>21.0</td>\n      <td>67391.0</td>\n      <td>20.774287</td>\n      <td>31.161431</td>\n      <td>10.0</td>\n      <td>0.666667</td>\n    </tr>\n    <tr>\n      <th>Niebla</th>\n      <td>175.0</td>\n      <td>12.0</td>\n      <td>17.0</td>\n      <td>4116.0</td>\n      <td>291.545190</td>\n      <td>413.022352</td>\n      <td>8.0</td>\n      <td>0.705882</td>\n    </tr>\n    <tr>\n      <th>San Bartolomé de la Torre</th>\n      <td>234.0</td>\n      <td>17.0</td>\n      <td>24.0</td>\n      <td>3761.0</td>\n      <td>452.007445</td>\n      <td>638.128157</td>\n      <td>14.0</td>\n      <td>0.708333</td>\n    </tr>\n    <tr>\n      <th>Bollullos Par del Condado</th>\n      <td>680.0</td>\n      <td>37.0</td>\n      <td>49.0</td>\n      <td>14387.0</td>\n      <td>257.176618</td>\n      <td>340.585251</td>\n      <td>28.0</td>\n      <td>0.755102</td>\n    </tr>\n    <tr>\n      <th>Palos de la Frontera</th>\n      <td>483.0</td>\n      <td>17.0</td>\n      <td>21.0</td>\n      <td>11742.0</td>\n      <td>144.779424</td>\n      <td>178.845171</td>\n      <td>14.0</td>\n      <td>0.809524</td>\n    </tr>\n    <tr>\n      <th>Bonares</th>\n      <td>186.0</td>\n      <td>5.0</td>\n      <td>6.0</td>\n      <td>6060.0</td>\n      <td>82.508251</td>\n      <td>99.009901</td>\n      <td>5.0</td>\n      <td>0.833333</td>\n    </tr>\n    <tr>\n      <th>Aracena</th>\n      <td>457.0</td>\n      <td>6.0</td>\n      <td>7.0</td>\n      <td>8255.0</td>\n      <td>72.683222</td>\n      <td>84.797093</td>\n      <td>4.0</td>\n      <td>0.857143</td>\n    </tr>\n    <tr>\n      <th>Lucena del Puerto</th>\n      <td>162.0</td>\n      <td>1.0</td>\n      <td>1.0</td>\n      <td>3261.0</td>\n      <td>30.665440</td>\n      <td>30.665440</td>\n      <td>0.0</td>\n      <td>1.000000</td>\n    </tr>\n    <tr>\n      <th>Trigueros</th>\n      <td>229.0</td>\n      <td>1.0</td>\n      <td>1.0</td>\n      <td>7862.0</td>\n      <td>12.719410</td>\n      <td>12.719410</td>\n      <td>0.0</td>\n      <td>1.000000</td>\n    </tr>\n    <tr>\n      <th>Aroche</th>\n      <td>83.0</td>\n      <td>3.0</td>\n      <td>3.0</td>\n      <td>3054.0</td>\n      <td>98.231827</td>\n      <td>98.231827</td>\n      <td>2.0</td>\n      <td>1.000000</td>\n    </tr>\n    <tr>\n      <th>Calañas</th>\n      <td>172.0</td>\n      <td>1.0</td>\n      <td>1.0</td>\n      <td>2768.0</td>\n      <td>36.127168</td>\n      <td>36.127168</td>\n      <td>0.0</td>\n      <td>1.000000</td>\n    </tr>\n    <tr>\n      <th>Paymogo</th>\n      <td>74.0</td>\n      <td>1.0</td>\n      <td>1.0</td>\n      <td>1162.0</td>\n      <td>86.058520</td>\n      <td>86.058520</td>\n      <td>0.0</td>\n      <td>1.000000</td>\n    </tr>\n    <tr>\n      <th>Palma del Condado (La)</th>\n      <td>994.0</td>\n      <td>6.0</td>\n      <td>6.0</td>\n      <td>10801.0</td>\n      <td>55.550412</td>\n      <td>55.550412</td>\n      <td>0.0</td>\n      <td>1.000000</td>\n    </tr>\n    <tr>\n      <th>Manzanilla</th>\n      <td>84.0</td>\n      <td>1.0</td>\n      <td>1.0</td>\n      <td>2118.0</td>\n      <td>47.214353</td>\n      <td>47.214353</td>\n      <td>0.0</td>\n      <td>1.000000</td>\n    </tr>\n    <tr>\n      <th>Galaroza</th>\n      <td>15.0</td>\n      <td>1.0</td>\n      <td>1.0</td>\n      <td>1382.0</td>\n      <td>72.358900</td>\n      <td>72.358900</td>\n      <td>0.0</td>\n      <td>1.000000</td>\n    </tr>\n    <tr>\n      <th>Villarrasa</th>\n      <td>133.0</td>\n      <td>1.0</td>\n      <td>1.0</td>\n      <td>2211.0</td>\n      <td>45.228403</td>\n      <td>45.228403</td>\n      <td>0.0</td>\n      <td>1.000000</td>\n    </tr>\n  </tbody>\n</table>\n</div>"
     },
     "metadata": {},
     "execution_count": 18
    }
   ],
   "source": [
    "# Peso de la tasa de la última semana en relación con la tasa a 14 días \n",
    "# Mejor cuanto menor. Valor 1 significa que no había casos antes de 7 días.\n",
    "tabla['7/14'] = tabla['tasa7'] / tabla['tasa14']\n",
    "tabla.fillna(0).sort_values('7/14', ascending=True)"
   ]
  },
  {
   "cell_type": "code",
   "execution_count": null,
   "metadata": {},
   "outputs": [],
   "source": []
  }
 ]
}