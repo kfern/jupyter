{
 "metadata": {
  "language_info": {
   "codemirror_mode": {
    "name": "ipython",
    "version": 3
   },
   "file_extension": ".py",
   "mimetype": "text/x-python",
   "name": "python",
   "nbconvert_exporter": "python",
   "pygments_lexer": "ipython3",
   "version": "3.6.9-final"
  },
  "orig_nbformat": 2,
  "kernelspec": {
   "name": "python_defaultSpec_1600274919809",
   "display_name": "Python 3.6.9 64-bit"
  }
 },
 "nbformat": 4,
 "nbformat_minor": 2,
 "cells": [
  {
   "cell_type": "code",
   "execution_count": 1,
   "metadata": {},
   "outputs": [],
   "source": [
    "import pandas as pd"
   ]
  },
  {
   "cell_type": "code",
   "execution_count": 2,
   "metadata": {},
   "outputs": [],
   "source": [
    "url = 'https://www.juntadeandalucia.es/institutodeestadisticaycartografia/badea/stpivot/stpivot/Print?cube=013d884c-cfc5-4c21-9e78-e26225682afd&type=3&foto=si&ejecutaDesde=&codConsulta=38668&consTipoVisua=JP'\n",
    "fields = ['Lugar de residencia', 'Medida', 'Valor']\n",
    "df = pd.read_csv(url, delimiter=';', usecols=fields, decimal=',')"
   ]
  },
  {
   "cell_type": "code",
   "execution_count": 3,
   "metadata": {},
   "outputs": [],
   "source": [
    "df['Valor'] = pd.to_numeric(df['Valor'],errors='coerce')"
   ]
  },
  {
   "cell_type": "code",
   "execution_count": 4,
   "metadata": {},
   "outputs": [],
   "source": [
    "dfAnterior = pd.read_csv('covid_huelva.csv', index_col='Lugar de residencia')"
   ]
  },
  {
   "cell_type": "code",
   "execution_count": 5,
   "metadata": {
    "tags": []
   },
   "outputs": [
    {
     "output_type": "stream",
     "name": "stdout",
     "text": "Confirmados PCR en la provincia de Huelva:  1000.0\n"
    }
   ],
   "source": [
    "# Confirmados PCR provincia Huelva\n",
    "p = df[df['Lugar de residencia'] == 'Huelva'][df['Medida'] == 'Confirmados PCR']['Valor'].values[0]\n",
    "print('Confirmados PCR en la provincia de Huelva: ', p)"
   ]
  },
  {
   "cell_type": "code",
   "execution_count": 6,
   "metadata": {
    "tags": []
   },
   "outputs": [
    {
     "output_type": "stream",
     "name": "stdout",
     "text": "Confirmados PCR en Huelva capital:  257.0\n"
    }
   ],
   "source": [
    "# Confirmados PCR Huelva capital\n",
    "c = df[df['Lugar de residencia'] == 'Huelva (capital)'][df['Medida'] == 'Confirmados PCR']['Valor'].values[0]\n",
    "print('Confirmados PCR en Huelva capital: ', c)"
   ]
  },
  {
   "cell_type": "code",
   "execution_count": 7,
   "metadata": {
    "tags": []
   },
   "outputs": [],
   "source": [
    "c7 = df[df['Lugar de residencia'] == 'Huelva (capital)'][df['Medida'] == 'Confirmados PCR 7 días']['Valor'].values[0]\n",
    "c14 = df[df['Lugar de residencia'] == 'Huelva (capital)'][df['Medida'] == 'Confirmados PCR 14 días']['Valor'].values[0]\n",
    "p = df[df['Lugar de residencia'] == 'Huelva (capital)'][df['Medida'] == 'Población']['Valor'].values[0]"
   ]
  },
  {
   "cell_type": "code",
   "execution_count": 8,
   "metadata": {
    "tags": []
   },
   "outputs": [
    {
     "output_type": "stream",
     "name": "stdout",
     "text": "Huelva (capital)\n\nUn positivo PCR cada 4489 personas en los últimos 7 días \n\nUn positivo PCR cada 2817 personas en los últimos 14 días\n"
    }
   ],
   "source": [
    "print('Huelva (capital)\\n')\n",
    "#print('Confirmados PCR 7 días x 1,000 habitantes: ', f\"{c7/(p/1000):.5f}\")\n",
    "print('Un positivo PCR cada', f\"{p/c7:.0f}\", 'personas en los últimos 7 días', '\\n')\n",
    "#print('Confirmados PCR 14 días x 1,000 habitantes: ', f\"{c14/(p/1000):.5f}\")\n",
    "print('Un positivo PCR cada', f\"{p/c14:.0f}\", 'personas en los últimos 14 días')"
   ]
  },
  {
   "cell_type": "code",
   "execution_count": 9,
   "metadata": {},
   "outputs": [],
   "source": [
    "filtro = ((df['Medida'] == 'Confirmados PCR')| (df['Medida'] == 'Confirmados PCR 7 días') | (df['Medida'] == 'Población' ) | (df['Medida'] == 'Confirmados PCR 14 días')) & (df['Valor'] > 0)\n",
    "tabla = pd.pivot_table(df.loc[filtro], values='Valor', index='Lugar de residencia', columns='Medida').dropna()"
   ]
  },
  {
   "cell_type": "code",
   "execution_count": 10,
   "metadata": {},
   "outputs": [],
   "source": [
    "# Reorder columns\n",
    "tabla = tabla[['Confirmados PCR', 'Confirmados PCR 7 días', 'Confirmados PCR 14 días', 'Población']]"
   ]
  },
  {
   "cell_type": "code",
   "execution_count": 11,
   "metadata": {},
   "outputs": [],
   "source": [
    "tabla['tasa7'] = tabla['Confirmados PCR 7 días']/tabla['Población']*100000\n",
    "tabla['tasa14'] = tabla['Confirmados PCR 14 días']/tabla['Población']*100000"
   ]
  },
  {
   "cell_type": "code",
   "execution_count": 12,
   "metadata": {},
   "outputs": [],
   "source": [
    "tabla['Diferencia PCR'] = tabla['Confirmados PCR'] - dfAnterior['Confirmados PCR']"
   ]
  },
  {
   "cell_type": "code",
   "execution_count": 13,
   "metadata": {},
   "outputs": [
    {
     "output_type": "execute_result",
     "data": {
      "text/plain": "Medida                             Confirmados PCR  Confirmados PCR 7 días  \\\nLugar de residencia                                                          \nHuelva                                      1000.0                   151.0   \nHuelva-Costa                                 528.0                    92.0   \nHuelva (capital)                             257.0                    32.0   \nCondado-Campiña                              301.0                    41.0   \nSierra de Huelva-Andévalo Central            153.0                    14.0   \nAljaraque                                     56.0                    10.0   \nLepe                                          67.0                     8.0   \nPalos de la Frontera                          20.0                    11.0   \nAroche                                         4.0                     2.0   \nVillalba del Alcor                            37.0                     7.0   \n\nMedida                             Confirmados PCR 14 días  Población  \\\nLugar de residencia                                                     \nHuelva                                               282.0   510743.0   \nHuelva-Costa                                         148.0   288115.0   \nHuelva (capital)                                      51.0   143663.0   \nCondado-Campiña                                      104.0   155057.0   \nSierra de Huelva-Andévalo Central                     20.0    67571.0   \nAljaraque                                             13.0    21260.0   \nLepe                                                  16.0    27431.0   \nPalos de la Frontera                                  12.0    11289.0   \nAroche                                                 2.0     3073.0   \nVillalba del Alcor                                    24.0     3338.0   \n\nMedida                                  tasa7      tasa14  Diferencia PCR  \nLugar de residencia                                                        \nHuelva                              29.564771   55.213679            21.0  \nHuelva-Costa                        31.931694   51.368377            12.0  \nHuelva (capital)                    22.274350   35.499746             8.0  \nCondado-Campiña                     26.441889   67.072109             4.0  \nSierra de Huelva-Andévalo Central   20.718947   29.598496             4.0  \nAljaraque                           47.036689   61.147695             2.0  \nLepe                                29.164084   58.328169             2.0  \nPalos de la Frontera                97.439986  106.298166             2.0  \nAroche                              65.082981   65.082981             1.0  \nVillalba del Alcor                 209.706411  718.993409             1.0  ",
      "text/html": "<div>\n<style scoped>\n    .dataframe tbody tr th:only-of-type {\n        vertical-align: middle;\n    }\n\n    .dataframe tbody tr th {\n        vertical-align: top;\n    }\n\n    .dataframe thead th {\n        text-align: right;\n    }\n</style>\n<table border=\"1\" class=\"dataframe\">\n  <thead>\n    <tr style=\"text-align: right;\">\n      <th>Medida</th>\n      <th>Confirmados PCR</th>\n      <th>Confirmados PCR 7 días</th>\n      <th>Confirmados PCR 14 días</th>\n      <th>Población</th>\n      <th>tasa7</th>\n      <th>tasa14</th>\n      <th>Diferencia PCR</th>\n    </tr>\n    <tr>\n      <th>Lugar de residencia</th>\n      <th></th>\n      <th></th>\n      <th></th>\n      <th></th>\n      <th></th>\n      <th></th>\n      <th></th>\n    </tr>\n  </thead>\n  <tbody>\n    <tr>\n      <th>Huelva</th>\n      <td>1000.0</td>\n      <td>151.0</td>\n      <td>282.0</td>\n      <td>510743.0</td>\n      <td>29.564771</td>\n      <td>55.213679</td>\n      <td>21.0</td>\n    </tr>\n    <tr>\n      <th>Huelva-Costa</th>\n      <td>528.0</td>\n      <td>92.0</td>\n      <td>148.0</td>\n      <td>288115.0</td>\n      <td>31.931694</td>\n      <td>51.368377</td>\n      <td>12.0</td>\n    </tr>\n    <tr>\n      <th>Huelva (capital)</th>\n      <td>257.0</td>\n      <td>32.0</td>\n      <td>51.0</td>\n      <td>143663.0</td>\n      <td>22.274350</td>\n      <td>35.499746</td>\n      <td>8.0</td>\n    </tr>\n    <tr>\n      <th>Condado-Campiña</th>\n      <td>301.0</td>\n      <td>41.0</td>\n      <td>104.0</td>\n      <td>155057.0</td>\n      <td>26.441889</td>\n      <td>67.072109</td>\n      <td>4.0</td>\n    </tr>\n    <tr>\n      <th>Sierra de Huelva-Andévalo Central</th>\n      <td>153.0</td>\n      <td>14.0</td>\n      <td>20.0</td>\n      <td>67571.0</td>\n      <td>20.718947</td>\n      <td>29.598496</td>\n      <td>4.0</td>\n    </tr>\n    <tr>\n      <th>Aljaraque</th>\n      <td>56.0</td>\n      <td>10.0</td>\n      <td>13.0</td>\n      <td>21260.0</td>\n      <td>47.036689</td>\n      <td>61.147695</td>\n      <td>2.0</td>\n    </tr>\n    <tr>\n      <th>Lepe</th>\n      <td>67.0</td>\n      <td>8.0</td>\n      <td>16.0</td>\n      <td>27431.0</td>\n      <td>29.164084</td>\n      <td>58.328169</td>\n      <td>2.0</td>\n    </tr>\n    <tr>\n      <th>Palos de la Frontera</th>\n      <td>20.0</td>\n      <td>11.0</td>\n      <td>12.0</td>\n      <td>11289.0</td>\n      <td>97.439986</td>\n      <td>106.298166</td>\n      <td>2.0</td>\n    </tr>\n    <tr>\n      <th>Aroche</th>\n      <td>4.0</td>\n      <td>2.0</td>\n      <td>2.0</td>\n      <td>3073.0</td>\n      <td>65.082981</td>\n      <td>65.082981</td>\n      <td>1.0</td>\n    </tr>\n    <tr>\n      <th>Villalba del Alcor</th>\n      <td>37.0</td>\n      <td>7.0</td>\n      <td>24.0</td>\n      <td>3338.0</td>\n      <td>209.706411</td>\n      <td>718.993409</td>\n      <td>1.0</td>\n    </tr>\n  </tbody>\n</table>\n</div>"
     },
     "metadata": {},
     "execution_count": 13
    }
   ],
   "source": [
    "# Nuevos casos desde la última captura\n",
    "tabla[tabla['Diferencia PCR'] > 0].sort_values('Diferencia PCR', ascending=False)"
   ]
  },
  {
   "cell_type": "code",
   "execution_count": 14,
   "metadata": {},
   "outputs": [],
   "source": [
    "if tabla[tabla['Diferencia PCR'] > 0]['Diferencia PCR'].sum() > 0:\n",
    "  # Save to csv\n",
    "  tabla.to_csv('covid_huelva.csv', encoding='utf-8', header=True, index=True)  "
   ]
  },
  {
   "cell_type": "code",
   "execution_count": 15,
   "metadata": {},
   "outputs": [
    {
     "output_type": "execute_result",
     "data": {
      "text/plain": "Medida                             Confirmados PCR  Confirmados PCR 7 días  \\\nLugar de residencia                                                          \nCabezas Rubias                                 7.0                     5.0   \nVillalba del Alcor                            37.0                     7.0   \nEscacena del Campo                            15.0                     3.0   \nZalamea la Real                               19.0                     5.0   \nIsla Cristina                                 52.0                    18.0   \nBollullos Par del Condado                     35.0                    12.0   \nCortegana                                      9.0                     1.0   \nPalos de la Frontera                          20.0                    11.0   \nSanta Bárbara de Casa                          7.0                     1.0   \nPalma del Condado (La)                        31.0                     1.0   \nCondado-Campiña                              301.0                    41.0   \nAyamonte                                      26.0                    10.0   \nAroche                                         4.0                     2.0   \nAljaraque                                     56.0                    10.0   \nLepe                                          67.0                     8.0   \nHuelva                                      1000.0                   151.0   \nMinas de Riotinto                             15.0                     1.0   \nHuelva-Costa                                 528.0                    92.0   \nCerro de Andévalo (El)                         1.0                     1.0   \nPunta Umbría                                  23.0                     2.0   \nAlmonte                                       44.0                     3.0   \nHuelva (capital)                             257.0                    32.0   \nVillablanca                                    2.0                     1.0   \nSierra de Huelva-Andévalo Central            153.0                    14.0   \nRociana del Condado                            5.0                     1.0   \nCartaya                                       19.0                     5.0   \nValverde del Camino                           26.0                     3.0   \nMoguer                                        26.0                     1.0   \nNerva                                         15.0                     1.0   \nBonares                                        2.0                     1.0   \nSan Juan del Puerto                           18.0                     1.0   \n\nMedida                             Confirmados PCR 14 días  Población  \\\nLugar de residencia                                                     \nCabezas Rubias                                         6.0      730.0   \nVillalba del Alcor                                    24.0     3338.0   \nEscacena del Campo                                    11.0     2284.0   \nZalamea la Real                                        6.0     3068.0   \nIsla Cristina                                         35.0    21264.0   \nBollullos Par del Condado                             23.0    14272.0   \nCortegana                                              5.0     4666.0   \nPalos de la Frontera                                  12.0    11289.0   \nSanta Bárbara de Casa                                  1.0     1035.0   \nPalma del Condado (La)                                10.0    10761.0   \nCondado-Campiña                                      104.0   155057.0   \nAyamonte                                              14.0    20946.0   \nAroche                                                 2.0     3073.0   \nAljaraque                                             13.0    21260.0   \nLepe                                                  16.0    27431.0   \nHuelva                                               282.0   510743.0   \nMinas de Riotinto                                      2.0     3848.0   \nHuelva-Costa                                         148.0   288115.0   \nCerro de Andévalo (El)                                 1.0     2364.0   \nPunta Umbría                                           6.0    15242.0   \nAlmonte                                                9.0    24191.0   \nHuelva (capital)                                      51.0   143663.0   \nVillablanca                                            1.0     2848.0   \nSierra de Huelva-Andévalo Central                     20.0    67571.0   \nRociana del Condado                                    2.0     7855.0   \nCartaya                                                5.0    19974.0   \nValverde del Camino                                    3.0    12820.0   \nMoguer                                                 5.0    22088.0   \nNerva                                                  1.0     5235.0   \nBonares                                                1.0     6058.0   \nSan Juan del Puerto                                    1.0     9300.0   \n\nMedida                                  tasa7      tasa14  Diferencia PCR  \nLugar de residencia                                                        \nCabezas Rubias                     684.931507  821.917808            -1.0  \nVillalba del Alcor                 209.706411  718.993409             1.0  \nEscacena del Campo                 131.348511  481.611208             0.0  \nZalamea la Real                    162.972621  195.567145             0.0  \nIsla Cristina                       84.650113  164.597442             0.0  \nBollullos Par del Condado           84.080717  161.154709             0.0  \nCortegana                           21.431633  107.158165             NaN  \nPalos de la Frontera                97.439986  106.298166             2.0  \nSanta Bárbara de Casa               96.618357   96.618357             NaN  \nPalma del Condado (La)               9.292817   92.928167             0.0  \nCondado-Campiña                     26.441889   67.072109             4.0  \nAyamonte                            47.741812   66.838537             0.0  \nAroche                              65.082981   65.082981             1.0  \nAljaraque                           47.036689   61.147695             2.0  \nLepe                                29.164084   58.328169             2.0  \nHuelva                              29.564771   55.213679            21.0  \nMinas de Riotinto                   25.987526   51.975052             NaN  \nHuelva-Costa                        31.931694   51.368377            12.0  \nCerro de Andévalo (El)              42.301184   42.301184             0.0  \nPunta Umbría                        13.121638   39.364913             0.0  \nAlmonte                             12.401306   37.203919             0.0  \nHuelva (capital)                    22.274350   35.499746             8.0  \nVillablanca                         35.112360   35.112360             0.0  \nSierra de Huelva-Andévalo Central   20.718947   29.598496             4.0  \nRociana del Condado                 12.730745   25.461489             NaN  \nCartaya                             25.032542   25.032542             0.0  \nValverde del Camino                 23.400936   23.400936             0.0  \nMoguer                               4.527345   22.636726             0.0  \nNerva                               19.102197   19.102197             NaN  \nBonares                             16.507098   16.507098             0.0  \nSan Juan del Puerto                 10.752688   10.752688             0.0  ",
      "text/html": "<div>\n<style scoped>\n    .dataframe tbody tr th:only-of-type {\n        vertical-align: middle;\n    }\n\n    .dataframe tbody tr th {\n        vertical-align: top;\n    }\n\n    .dataframe thead th {\n        text-align: right;\n    }\n</style>\n<table border=\"1\" class=\"dataframe\">\n  <thead>\n    <tr style=\"text-align: right;\">\n      <th>Medida</th>\n      <th>Confirmados PCR</th>\n      <th>Confirmados PCR 7 días</th>\n      <th>Confirmados PCR 14 días</th>\n      <th>Población</th>\n      <th>tasa7</th>\n      <th>tasa14</th>\n      <th>Diferencia PCR</th>\n    </tr>\n    <tr>\n      <th>Lugar de residencia</th>\n      <th></th>\n      <th></th>\n      <th></th>\n      <th></th>\n      <th></th>\n      <th></th>\n      <th></th>\n    </tr>\n  </thead>\n  <tbody>\n    <tr>\n      <th>Cabezas Rubias</th>\n      <td>7.0</td>\n      <td>5.0</td>\n      <td>6.0</td>\n      <td>730.0</td>\n      <td>684.931507</td>\n      <td>821.917808</td>\n      <td>-1.0</td>\n    </tr>\n    <tr>\n      <th>Villalba del Alcor</th>\n      <td>37.0</td>\n      <td>7.0</td>\n      <td>24.0</td>\n      <td>3338.0</td>\n      <td>209.706411</td>\n      <td>718.993409</td>\n      <td>1.0</td>\n    </tr>\n    <tr>\n      <th>Escacena del Campo</th>\n      <td>15.0</td>\n      <td>3.0</td>\n      <td>11.0</td>\n      <td>2284.0</td>\n      <td>131.348511</td>\n      <td>481.611208</td>\n      <td>0.0</td>\n    </tr>\n    <tr>\n      <th>Zalamea la Real</th>\n      <td>19.0</td>\n      <td>5.0</td>\n      <td>6.0</td>\n      <td>3068.0</td>\n      <td>162.972621</td>\n      <td>195.567145</td>\n      <td>0.0</td>\n    </tr>\n    <tr>\n      <th>Isla Cristina</th>\n      <td>52.0</td>\n      <td>18.0</td>\n      <td>35.0</td>\n      <td>21264.0</td>\n      <td>84.650113</td>\n      <td>164.597442</td>\n      <td>0.0</td>\n    </tr>\n    <tr>\n      <th>Bollullos Par del Condado</th>\n      <td>35.0</td>\n      <td>12.0</td>\n      <td>23.0</td>\n      <td>14272.0</td>\n      <td>84.080717</td>\n      <td>161.154709</td>\n      <td>0.0</td>\n    </tr>\n    <tr>\n      <th>Cortegana</th>\n      <td>9.0</td>\n      <td>1.0</td>\n      <td>5.0</td>\n      <td>4666.0</td>\n      <td>21.431633</td>\n      <td>107.158165</td>\n      <td>NaN</td>\n    </tr>\n    <tr>\n      <th>Palos de la Frontera</th>\n      <td>20.0</td>\n      <td>11.0</td>\n      <td>12.0</td>\n      <td>11289.0</td>\n      <td>97.439986</td>\n      <td>106.298166</td>\n      <td>2.0</td>\n    </tr>\n    <tr>\n      <th>Santa Bárbara de Casa</th>\n      <td>7.0</td>\n      <td>1.0</td>\n      <td>1.0</td>\n      <td>1035.0</td>\n      <td>96.618357</td>\n      <td>96.618357</td>\n      <td>NaN</td>\n    </tr>\n    <tr>\n      <th>Palma del Condado (La)</th>\n      <td>31.0</td>\n      <td>1.0</td>\n      <td>10.0</td>\n      <td>10761.0</td>\n      <td>9.292817</td>\n      <td>92.928167</td>\n      <td>0.0</td>\n    </tr>\n    <tr>\n      <th>Condado-Campiña</th>\n      <td>301.0</td>\n      <td>41.0</td>\n      <td>104.0</td>\n      <td>155057.0</td>\n      <td>26.441889</td>\n      <td>67.072109</td>\n      <td>4.0</td>\n    </tr>\n    <tr>\n      <th>Ayamonte</th>\n      <td>26.0</td>\n      <td>10.0</td>\n      <td>14.0</td>\n      <td>20946.0</td>\n      <td>47.741812</td>\n      <td>66.838537</td>\n      <td>0.0</td>\n    </tr>\n    <tr>\n      <th>Aroche</th>\n      <td>4.0</td>\n      <td>2.0</td>\n      <td>2.0</td>\n      <td>3073.0</td>\n      <td>65.082981</td>\n      <td>65.082981</td>\n      <td>1.0</td>\n    </tr>\n    <tr>\n      <th>Aljaraque</th>\n      <td>56.0</td>\n      <td>10.0</td>\n      <td>13.0</td>\n      <td>21260.0</td>\n      <td>47.036689</td>\n      <td>61.147695</td>\n      <td>2.0</td>\n    </tr>\n    <tr>\n      <th>Lepe</th>\n      <td>67.0</td>\n      <td>8.0</td>\n      <td>16.0</td>\n      <td>27431.0</td>\n      <td>29.164084</td>\n      <td>58.328169</td>\n      <td>2.0</td>\n    </tr>\n    <tr>\n      <th>Huelva</th>\n      <td>1000.0</td>\n      <td>151.0</td>\n      <td>282.0</td>\n      <td>510743.0</td>\n      <td>29.564771</td>\n      <td>55.213679</td>\n      <td>21.0</td>\n    </tr>\n    <tr>\n      <th>Minas de Riotinto</th>\n      <td>15.0</td>\n      <td>1.0</td>\n      <td>2.0</td>\n      <td>3848.0</td>\n      <td>25.987526</td>\n      <td>51.975052</td>\n      <td>NaN</td>\n    </tr>\n    <tr>\n      <th>Huelva-Costa</th>\n      <td>528.0</td>\n      <td>92.0</td>\n      <td>148.0</td>\n      <td>288115.0</td>\n      <td>31.931694</td>\n      <td>51.368377</td>\n      <td>12.0</td>\n    </tr>\n    <tr>\n      <th>Cerro de Andévalo (El)</th>\n      <td>1.0</td>\n      <td>1.0</td>\n      <td>1.0</td>\n      <td>2364.0</td>\n      <td>42.301184</td>\n      <td>42.301184</td>\n      <td>0.0</td>\n    </tr>\n    <tr>\n      <th>Punta Umbría</th>\n      <td>23.0</td>\n      <td>2.0</td>\n      <td>6.0</td>\n      <td>15242.0</td>\n      <td>13.121638</td>\n      <td>39.364913</td>\n      <td>0.0</td>\n    </tr>\n    <tr>\n      <th>Almonte</th>\n      <td>44.0</td>\n      <td>3.0</td>\n      <td>9.0</td>\n      <td>24191.0</td>\n      <td>12.401306</td>\n      <td>37.203919</td>\n      <td>0.0</td>\n    </tr>\n    <tr>\n      <th>Huelva (capital)</th>\n      <td>257.0</td>\n      <td>32.0</td>\n      <td>51.0</td>\n      <td>143663.0</td>\n      <td>22.274350</td>\n      <td>35.499746</td>\n      <td>8.0</td>\n    </tr>\n    <tr>\n      <th>Villablanca</th>\n      <td>2.0</td>\n      <td>1.0</td>\n      <td>1.0</td>\n      <td>2848.0</td>\n      <td>35.112360</td>\n      <td>35.112360</td>\n      <td>0.0</td>\n    </tr>\n    <tr>\n      <th>Sierra de Huelva-Andévalo Central</th>\n      <td>153.0</td>\n      <td>14.0</td>\n      <td>20.0</td>\n      <td>67571.0</td>\n      <td>20.718947</td>\n      <td>29.598496</td>\n      <td>4.0</td>\n    </tr>\n    <tr>\n      <th>Rociana del Condado</th>\n      <td>5.0</td>\n      <td>1.0</td>\n      <td>2.0</td>\n      <td>7855.0</td>\n      <td>12.730745</td>\n      <td>25.461489</td>\n      <td>NaN</td>\n    </tr>\n    <tr>\n      <th>Cartaya</th>\n      <td>19.0</td>\n      <td>5.0</td>\n      <td>5.0</td>\n      <td>19974.0</td>\n      <td>25.032542</td>\n      <td>25.032542</td>\n      <td>0.0</td>\n    </tr>\n    <tr>\n      <th>Valverde del Camino</th>\n      <td>26.0</td>\n      <td>3.0</td>\n      <td>3.0</td>\n      <td>12820.0</td>\n      <td>23.400936</td>\n      <td>23.400936</td>\n      <td>0.0</td>\n    </tr>\n    <tr>\n      <th>Moguer</th>\n      <td>26.0</td>\n      <td>1.0</td>\n      <td>5.0</td>\n      <td>22088.0</td>\n      <td>4.527345</td>\n      <td>22.636726</td>\n      <td>0.0</td>\n    </tr>\n    <tr>\n      <th>Nerva</th>\n      <td>15.0</td>\n      <td>1.0</td>\n      <td>1.0</td>\n      <td>5235.0</td>\n      <td>19.102197</td>\n      <td>19.102197</td>\n      <td>NaN</td>\n    </tr>\n    <tr>\n      <th>Bonares</th>\n      <td>2.0</td>\n      <td>1.0</td>\n      <td>1.0</td>\n      <td>6058.0</td>\n      <td>16.507098</td>\n      <td>16.507098</td>\n      <td>0.0</td>\n    </tr>\n    <tr>\n      <th>San Juan del Puerto</th>\n      <td>18.0</td>\n      <td>1.0</td>\n      <td>1.0</td>\n      <td>9300.0</td>\n      <td>10.752688</td>\n      <td>10.752688</td>\n      <td>0.0</td>\n    </tr>\n  </tbody>\n</table>\n</div>"
     },
     "metadata": {},
     "execution_count": 15
    }
   ],
   "source": [
    "tabla.sort_values('tasa14', ascending=False)"
   ]
  },
  {
   "cell_type": "code",
   "execution_count": null,
   "metadata": {},
   "outputs": [],
   "source": []
  }
 ]
}