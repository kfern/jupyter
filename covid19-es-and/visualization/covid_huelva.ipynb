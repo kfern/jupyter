{
 "metadata": {
  "language_info": {
   "codemirror_mode": {
    "name": "ipython",
    "version": 3
   },
   "file_extension": ".py",
   "mimetype": "text/x-python",
   "name": "python",
   "nbconvert_exporter": "python",
   "pygments_lexer": "ipython3",
   "version": "3.8.6-final"
  },
  "orig_nbformat": 2,
  "kernelspec": {
   "name": "python3",
   "display_name": "Python 3",
   "language": "python"
  }
 },
 "nbformat": 4,
 "nbformat_minor": 2,
 "cells": [
  {
   "cell_type": "code",
   "execution_count": 1,
   "metadata": {},
   "outputs": [],
   "source": [
    "import pandas as pd\n",
    "pd.set_option('display.max_rows', None) # Print all rows"
   ]
  },
  {
   "cell_type": "code",
   "execution_count": 2,
   "metadata": {},
   "outputs": [],
   "source": [
    "# FIX SSL: CERTIFICATE_VERIFY_FAILED with Python3\n",
    "# https://stackoverflow.com/a/49174340\n",
    "import ssl\n",
    "\n",
    "ssl._create_default_https_context = ssl._create_unverified_context"
   ]
  },
  {
   "cell_type": "code",
   "execution_count": 3,
   "metadata": {},
   "outputs": [],
   "source": [
    "url = 'https://www.juntadeandalucia.es/institutodeestadisticaycartografia/badea/stpivot/stpivot/Print?cube=013d884c-cfc5-4c21-9e78-e26225682afd&type=3&foto=si&ejecutaDesde=&codConsulta=38668&consTipoVisua=JP'\n",
    "fields = ['Lugar de residencia', 'Medida', 'Valor']\n",
    "df = pd.read_csv(url, delimiter=';', usecols=fields, decimal=',')"
   ]
  },
  {
   "cell_type": "code",
   "execution_count": 4,
   "metadata": {},
   "outputs": [
    {
     "output_type": "execute_result",
     "data": {
      "text/plain": [
       "  Lugar de residencia                    Medida               Valor\n",
       "0              Huelva                 Población              513170\n",
       "1              Huelva          Confirmados PDIA               25336\n",
       "2              Huelva  Confirmados PDIA 14 días                 545\n",
       "3              Huelva         Tasa PDIA 14 días  106,20262291248514\n",
       "4              Huelva   Confirmados PDIA 7 días                 300\n",
       "5              Huelva        Total Confirmados                25536\n",
       "6              Huelva                   Curados               20291\n",
       "7              Huelva                Fallecidos                 349"
      ],
      "text/html": "<div>\n<style scoped>\n    .dataframe tbody tr th:only-of-type {\n        vertical-align: middle;\n    }\n\n    .dataframe tbody tr th {\n        vertical-align: top;\n    }\n\n    .dataframe thead th {\n        text-align: right;\n    }\n</style>\n<table border=\"1\" class=\"dataframe\">\n  <thead>\n    <tr style=\"text-align: right;\">\n      <th></th>\n      <th>Lugar de residencia</th>\n      <th>Medida</th>\n      <th>Valor</th>\n    </tr>\n  </thead>\n  <tbody>\n    <tr>\n      <th>0</th>\n      <td>Huelva</td>\n      <td>Población</td>\n      <td>513170</td>\n    </tr>\n    <tr>\n      <th>1</th>\n      <td>Huelva</td>\n      <td>Confirmados PDIA</td>\n      <td>25336</td>\n    </tr>\n    <tr>\n      <th>2</th>\n      <td>Huelva</td>\n      <td>Confirmados PDIA 14 días</td>\n      <td>545</td>\n    </tr>\n    <tr>\n      <th>3</th>\n      <td>Huelva</td>\n      <td>Tasa PDIA 14 días</td>\n      <td>106,20262291248514</td>\n    </tr>\n    <tr>\n      <th>4</th>\n      <td>Huelva</td>\n      <td>Confirmados PDIA 7 días</td>\n      <td>300</td>\n    </tr>\n    <tr>\n      <th>5</th>\n      <td>Huelva</td>\n      <td>Total Confirmados</td>\n      <td>25536</td>\n    </tr>\n    <tr>\n      <th>6</th>\n      <td>Huelva</td>\n      <td>Curados</td>\n      <td>20291</td>\n    </tr>\n    <tr>\n      <th>7</th>\n      <td>Huelva</td>\n      <td>Fallecidos</td>\n      <td>349</td>\n    </tr>\n  </tbody>\n</table>\n</div>"
     },
     "metadata": {},
     "execution_count": 4
    }
   ],
   "source": [
    "df[df['Lugar de residencia'] == 'Huelva']"
   ]
  },
  {
   "cell_type": "code",
   "execution_count": 5,
   "metadata": {},
   "outputs": [],
   "source": [
    "df['Valor'] = pd.to_numeric(df['Valor'],errors='coerce')"
   ]
  },
  {
   "cell_type": "code",
   "execution_count": 6,
   "metadata": {},
   "outputs": [],
   "source": [
    "dfAnterior = pd.read_csv('covid_huelva.csv', index_col='Lugar de residencia')"
   ]
  },
  {
   "cell_type": "code",
   "execution_count": 7,
   "metadata": {
    "tags": []
   },
   "outputs": [
    {
     "output_type": "stream",
     "name": "stdout",
     "text": [
      "Confirmados PCR en la provincia de Huelva:  25336.0\n",
      "<ipython-input-7-31b732756b19>:2: UserWarning: Boolean Series key will be reindexed to match DataFrame index.\n",
      "  p = df[df['Lugar de residencia'] == 'Huelva'][df['Medida'] == 'Confirmados PDIA']['Valor'].values[0]\n"
     ]
    }
   ],
   "source": [
    "# Confirmados PCR provincia Huelva\n",
    "p = df[df['Lugar de residencia'] == 'Huelva'][df['Medida'] == 'Confirmados PDIA']['Valor'].values[0]\n",
    "print('Confirmados PCR en la provincia de Huelva: ', p)"
   ]
  },
  {
   "cell_type": "code",
   "execution_count": 8,
   "metadata": {
    "tags": []
   },
   "outputs": [
    {
     "output_type": "stream",
     "name": "stdout",
     "text": [
      "Confirmados PCR en Huelva capital:  6664.0\n",
      "<ipython-input-8-e81bfb40e710>:2: UserWarning: Boolean Series key will be reindexed to match DataFrame index.\n",
      "  c = df[df['Lugar de residencia'] == 'Huelva (capital)'][df['Medida'] == 'Confirmados PDIA']['Valor'].values[0]\n"
     ]
    }
   ],
   "source": [
    "# Confirmados PCR Huelva capitalpd\n",
    "c = df[df['Lugar de residencia'] == 'Huelva (capital)'][df['Medida'] == 'Confirmados PDIA']['Valor'].values[0]\n",
    "print('Confirmados PCR en Huelva capital: ', c)"
   ]
  },
  {
   "cell_type": "code",
   "execution_count": 9,
   "metadata": {
    "tags": []
   },
   "outputs": [
    {
     "output_type": "stream",
     "name": "stderr",
     "text": [
      "<ipython-input-9-f09dd2050cc1>:1: UserWarning: Boolean Series key will be reindexed to match DataFrame index.\n  c7 = df[df['Lugar de residencia'] == 'Huelva (capital)'][df['Medida'] == 'Confirmados PDIA 7 días']['Valor'].values[0]\n<ipython-input-9-f09dd2050cc1>:2: UserWarning: Boolean Series key will be reindexed to match DataFrame index.\n  c14 = df[df['Lugar de residencia'] == 'Huelva (capital)'][df['Medida'] == 'Confirmados PDIA 14 días']['Valor'].values[0]\n<ipython-input-9-f09dd2050cc1>:3: UserWarning: Boolean Series key will be reindexed to match DataFrame index.\n  p = df[df['Lugar de residencia'] == 'Huelva (capital)'][df['Medida'] == 'Población']['Valor'].values[0]\n"
     ]
    }
   ],
   "source": [
    "c7 = df[df['Lugar de residencia'] == 'Huelva (capital)'][df['Medida'] == 'Confirmados PDIA 7 días']['Valor'].values[0]\n",
    "c14 = df[df['Lugar de residencia'] == 'Huelva (capital)'][df['Medida'] == 'Confirmados PDIA 14 días']['Valor'].values[0]\n",
    "p = df[df['Lugar de residencia'] == 'Huelva (capital)'][df['Medida'] == 'Población']['Valor'].values[0]"
   ]
  },
  {
   "cell_type": "code",
   "execution_count": 10,
   "metadata": {
    "tags": []
   },
   "outputs": [
    {
     "output_type": "stream",
     "name": "stdout",
     "text": [
      "Huelva (capital)\n\nUn positivo PCR cada 4495 personas en los últimos 7 días \n\nUn positivo PCR cada 1970 personas en los últimos 14 días\n"
     ]
    }
   ],
   "source": [
    "print('Huelva (capital)\\n')\n",
    "#print('Confirmados PCR 7 días x 1,000 habitantes: ', f\"{c7/(p/1000):.5f}\")\n",
    "print('Un positivo PCR cada', f\"{p/c7:.0f}\", 'personas en los últimos 7 días', '\\n')\n",
    "#print('Confirmados PCR 14 días x 1,000 habitantes: ', f\"{c14/(p/1000):.5f}\")\n",
    "print('Un positivo PCR cada', f\"{p/c14:.0f}\", 'personas en los últimos 14 días')"
   ]
  },
  {
   "cell_type": "code",
   "execution_count": 11,
   "metadata": {},
   "outputs": [],
   "source": [
    "filtro = ((df['Medida'] == 'Confirmados PDIA')| (df['Medida'] == 'Confirmados PDIA 7 días') | (df['Medida'] == 'Población' ) | (df['Medida'] == 'Confirmados PDIA 14 días')) & (df['Valor'] > 0)\n",
    "tabla = pd.pivot_table(df.loc[filtro], values='Valor', index='Lugar de residencia', columns='Medida').dropna()"
   ]
  },
  {
   "cell_type": "code",
   "execution_count": 12,
   "metadata": {},
   "outputs": [],
   "source": [
    "# Reorder columns\n",
    "tabla = tabla[['Confirmados PDIA', 'Confirmados PDIA 7 días', 'Confirmados PDIA 14 días', 'Población']]"
   ]
  },
  {
   "cell_type": "code",
   "execution_count": 13,
   "metadata": {},
   "outputs": [],
   "source": [
    "tabla['tasa7'] = tabla['Confirmados PDIA 7 días']/tabla['Población']*100000\n",
    "tabla['tasa14'] = tabla['Confirmados PDIA 14 días']/tabla['Población']*100000"
   ]
  },
  {
   "cell_type": "code",
   "execution_count": 14,
   "metadata": {},
   "outputs": [],
   "source": [
    "tabla['Diferencia PDIA'] = tabla['Confirmados PDIA'] - dfAnterior['Confirmados PDIA']"
   ]
  },
  {
   "cell_type": "code",
   "execution_count": 15,
   "metadata": {},
   "outputs": [
    {
     "output_type": "execute_result",
     "data": {
      "text/plain": [
       "Medida                             Confirmados PDIA  Confirmados PDIA 7 días  \\\n",
       "Lugar de residencia                                                            \n",
       "Huelva                                      25336.0                    300.0   \n",
       "Condado-Campiña                              7275.0                    183.0   \n",
       "Huelva-Costa                                15326.0                    102.0   \n",
       "Almonte                                       976.0                     67.0   \n",
       "Rociana del Condado                           355.0                     31.0   \n",
       "Moguer                                        873.0                     16.0   \n",
       "Huelva (capital)                             6664.0                     32.0   \n",
       "Bollullos Par del Condado                     652.0                     19.0   \n",
       "Lepe                                         2016.0                      8.0   \n",
       "Ayamonte                                     1242.0                     10.0   \n",
       "Cartaya                                       994.0                     20.0   \n",
       "Palos de la Frontera                          469.0                      8.0   \n",
       "San Bartolomé de la Torre                     220.0                     10.0   \n",
       "Sierra de Huelva-Andévalo Central            2316.0                      8.0   \n",
       "Alosno                                        148.0                     20.0   \n",
       "Paterna del Campo                             118.0                      5.0   \n",
       "Punta Umbría                                  663.0                      5.0   \n",
       "Isla Cristina                                2008.0                      4.0   \n",
       "Niebla                                        167.0                      8.0   \n",
       "Aracena                                       453.0                      3.0   \n",
       "San Juan del Puerto                           370.0                      4.0   \n",
       "Gibraleón                                     536.0                      8.0   \n",
       "Valverde del Camino                           427.0                      4.0   \n",
       "Villalba del Alcor                            460.0                      3.0   \n",
       "Aroche                                         81.0                      1.0   \n",
       "Bonares                                       181.0                      1.0   \n",
       "Villarrasa                                    133.0                      1.0   \n",
       "\n",
       "Medida                             Confirmados PDIA 14 días  Población  \\\n",
       "Lugar de residencia                                                      \n",
       "Huelva                                                545.0   513170.0   \n",
       "Condado-Campiña                                       316.0   156231.0   \n",
       "Huelva-Costa                                          201.0   289548.0   \n",
       "Almonte                                                98.0    24507.0   \n",
       "Rociana del Condado                                    42.0     7939.0   \n",
       "Moguer                                                 39.0    21867.0   \n",
       "Huelva (capital)                                       73.0   143837.0   \n",
       "Bollullos Par del Condado                              31.0    14387.0   \n",
       "Lepe                                                   16.0    27880.0   \n",
       "Ayamonte                                               20.0    21104.0   \n",
       "Cartaya                                                35.0    20083.0   \n",
       "Palos de la Frontera                                   16.0    11742.0   \n",
       "San Bartolomé de la Torre                              17.0     3761.0   \n",
       "Sierra de Huelva-Andévalo Central                      16.0    67391.0   \n",
       "Alosno                                                 26.0     3933.0   \n",
       "Paterna del Campo                                       6.0     3457.0   \n",
       "Punta Umbría                                            5.0    15355.0   \n",
       "Isla Cristina                                          14.0    21393.0   \n",
       "Niebla                                                 10.0     4116.0   \n",
       "Aracena                                                 3.0     8255.0   \n",
       "San Juan del Puerto                                     6.0     9411.0   \n",
       "Gibraleón                                              23.0    12737.0   \n",
       "Valverde del Camino                                    10.0    12750.0   \n",
       "Villalba del Alcor                                     13.0     3366.0   \n",
       "Aroche                                                  1.0     3054.0   \n",
       "Bonares                                                 3.0     6060.0   \n",
       "Villarrasa                                              4.0     2211.0   \n",
       "\n",
       "Medida                                  tasa7      tasa14  Diferencia PDIA  \n",
       "Lugar de residencia                                                         \n",
       "Huelva                              58.460159  106.202623            107.0  \n",
       "Condado-Campiña                    117.134244  202.264595             71.0  \n",
       "Huelva-Costa                        35.227320   69.418542             31.0  \n",
       "Almonte                            273.391276  399.885747             21.0  \n",
       "Rociana del Condado                390.477390  529.033883             14.0  \n",
       "Moguer                              73.169616  178.350940             11.0  \n",
       "Huelva (capital)                    22.247405   50.751893              8.0  \n",
       "Bollullos Par del Condado          132.063669  215.472301              6.0  \n",
       "Lepe                                28.694405   57.388809              5.0  \n",
       "Ayamonte                            47.384382   94.768764              5.0  \n",
       "Cartaya                             99.586715  174.276751              4.0  \n",
       "Palos de la Frontera                68.131494  136.262988              4.0  \n",
       "San Bartolomé de la Torre          265.886732  452.007445              4.0  \n",
       "Sierra de Huelva-Andévalo Central   11.871021   23.742043              4.0  \n",
       "Alosno                             508.517671  661.072972              3.0  \n",
       "Paterna del Campo                  144.634076  173.560891              3.0  \n",
       "Punta Umbría                        32.562683   32.562683              3.0  \n",
       "Isla Cristina                       18.697705   65.441967              2.0  \n",
       "Niebla                             194.363460  242.954325              2.0  \n",
       "Aracena                             36.341611   36.341611              2.0  \n",
       "San Juan del Puerto                 42.503453   63.755180              2.0  \n",
       "Gibraleón                           62.809139  180.576274              1.0  \n",
       "Valverde del Camino                 31.372549   78.431373              1.0  \n",
       "Villalba del Alcor                  89.126560  386.215092              1.0  \n",
       "Aroche                              32.743942   32.743942              NaN  \n",
       "Bonares                             16.501650   49.504950              NaN  \n",
       "Villarrasa                          45.228403  180.913614              NaN  "
      ],
      "text/html": "<div>\n<style scoped>\n    .dataframe tbody tr th:only-of-type {\n        vertical-align: middle;\n    }\n\n    .dataframe tbody tr th {\n        vertical-align: top;\n    }\n\n    .dataframe thead th {\n        text-align: right;\n    }\n</style>\n<table border=\"1\" class=\"dataframe\">\n  <thead>\n    <tr style=\"text-align: right;\">\n      <th>Medida</th>\n      <th>Confirmados PDIA</th>\n      <th>Confirmados PDIA 7 días</th>\n      <th>Confirmados PDIA 14 días</th>\n      <th>Población</th>\n      <th>tasa7</th>\n      <th>tasa14</th>\n      <th>Diferencia PDIA</th>\n    </tr>\n    <tr>\n      <th>Lugar de residencia</th>\n      <th></th>\n      <th></th>\n      <th></th>\n      <th></th>\n      <th></th>\n      <th></th>\n      <th></th>\n    </tr>\n  </thead>\n  <tbody>\n    <tr>\n      <th>Huelva</th>\n      <td>25336.0</td>\n      <td>300.0</td>\n      <td>545.0</td>\n      <td>513170.0</td>\n      <td>58.460159</td>\n      <td>106.202623</td>\n      <td>107.0</td>\n    </tr>\n    <tr>\n      <th>Condado-Campiña</th>\n      <td>7275.0</td>\n      <td>183.0</td>\n      <td>316.0</td>\n      <td>156231.0</td>\n      <td>117.134244</td>\n      <td>202.264595</td>\n      <td>71.0</td>\n    </tr>\n    <tr>\n      <th>Huelva-Costa</th>\n      <td>15326.0</td>\n      <td>102.0</td>\n      <td>201.0</td>\n      <td>289548.0</td>\n      <td>35.227320</td>\n      <td>69.418542</td>\n      <td>31.0</td>\n    </tr>\n    <tr>\n      <th>Almonte</th>\n      <td>976.0</td>\n      <td>67.0</td>\n      <td>98.0</td>\n      <td>24507.0</td>\n      <td>273.391276</td>\n      <td>399.885747</td>\n      <td>21.0</td>\n    </tr>\n    <tr>\n      <th>Rociana del Condado</th>\n      <td>355.0</td>\n      <td>31.0</td>\n      <td>42.0</td>\n      <td>7939.0</td>\n      <td>390.477390</td>\n      <td>529.033883</td>\n      <td>14.0</td>\n    </tr>\n    <tr>\n      <th>Moguer</th>\n      <td>873.0</td>\n      <td>16.0</td>\n      <td>39.0</td>\n      <td>21867.0</td>\n      <td>73.169616</td>\n      <td>178.350940</td>\n      <td>11.0</td>\n    </tr>\n    <tr>\n      <th>Huelva (capital)</th>\n      <td>6664.0</td>\n      <td>32.0</td>\n      <td>73.0</td>\n      <td>143837.0</td>\n      <td>22.247405</td>\n      <td>50.751893</td>\n      <td>8.0</td>\n    </tr>\n    <tr>\n      <th>Bollullos Par del Condado</th>\n      <td>652.0</td>\n      <td>19.0</td>\n      <td>31.0</td>\n      <td>14387.0</td>\n      <td>132.063669</td>\n      <td>215.472301</td>\n      <td>6.0</td>\n    </tr>\n    <tr>\n      <th>Lepe</th>\n      <td>2016.0</td>\n      <td>8.0</td>\n      <td>16.0</td>\n      <td>27880.0</td>\n      <td>28.694405</td>\n      <td>57.388809</td>\n      <td>5.0</td>\n    </tr>\n    <tr>\n      <th>Ayamonte</th>\n      <td>1242.0</td>\n      <td>10.0</td>\n      <td>20.0</td>\n      <td>21104.0</td>\n      <td>47.384382</td>\n      <td>94.768764</td>\n      <td>5.0</td>\n    </tr>\n    <tr>\n      <th>Cartaya</th>\n      <td>994.0</td>\n      <td>20.0</td>\n      <td>35.0</td>\n      <td>20083.0</td>\n      <td>99.586715</td>\n      <td>174.276751</td>\n      <td>4.0</td>\n    </tr>\n    <tr>\n      <th>Palos de la Frontera</th>\n      <td>469.0</td>\n      <td>8.0</td>\n      <td>16.0</td>\n      <td>11742.0</td>\n      <td>68.131494</td>\n      <td>136.262988</td>\n      <td>4.0</td>\n    </tr>\n    <tr>\n      <th>San Bartolomé de la Torre</th>\n      <td>220.0</td>\n      <td>10.0</td>\n      <td>17.0</td>\n      <td>3761.0</td>\n      <td>265.886732</td>\n      <td>452.007445</td>\n      <td>4.0</td>\n    </tr>\n    <tr>\n      <th>Sierra de Huelva-Andévalo Central</th>\n      <td>2316.0</td>\n      <td>8.0</td>\n      <td>16.0</td>\n      <td>67391.0</td>\n      <td>11.871021</td>\n      <td>23.742043</td>\n      <td>4.0</td>\n    </tr>\n    <tr>\n      <th>Alosno</th>\n      <td>148.0</td>\n      <td>20.0</td>\n      <td>26.0</td>\n      <td>3933.0</td>\n      <td>508.517671</td>\n      <td>661.072972</td>\n      <td>3.0</td>\n    </tr>\n    <tr>\n      <th>Paterna del Campo</th>\n      <td>118.0</td>\n      <td>5.0</td>\n      <td>6.0</td>\n      <td>3457.0</td>\n      <td>144.634076</td>\n      <td>173.560891</td>\n      <td>3.0</td>\n    </tr>\n    <tr>\n      <th>Punta Umbría</th>\n      <td>663.0</td>\n      <td>5.0</td>\n      <td>5.0</td>\n      <td>15355.0</td>\n      <td>32.562683</td>\n      <td>32.562683</td>\n      <td>3.0</td>\n    </tr>\n    <tr>\n      <th>Isla Cristina</th>\n      <td>2008.0</td>\n      <td>4.0</td>\n      <td>14.0</td>\n      <td>21393.0</td>\n      <td>18.697705</td>\n      <td>65.441967</td>\n      <td>2.0</td>\n    </tr>\n    <tr>\n      <th>Niebla</th>\n      <td>167.0</td>\n      <td>8.0</td>\n      <td>10.0</td>\n      <td>4116.0</td>\n      <td>194.363460</td>\n      <td>242.954325</td>\n      <td>2.0</td>\n    </tr>\n    <tr>\n      <th>Aracena</th>\n      <td>453.0</td>\n      <td>3.0</td>\n      <td>3.0</td>\n      <td>8255.0</td>\n      <td>36.341611</td>\n      <td>36.341611</td>\n      <td>2.0</td>\n    </tr>\n    <tr>\n      <th>San Juan del Puerto</th>\n      <td>370.0</td>\n      <td>4.0</td>\n      <td>6.0</td>\n      <td>9411.0</td>\n      <td>42.503453</td>\n      <td>63.755180</td>\n      <td>2.0</td>\n    </tr>\n    <tr>\n      <th>Gibraleón</th>\n      <td>536.0</td>\n      <td>8.0</td>\n      <td>23.0</td>\n      <td>12737.0</td>\n      <td>62.809139</td>\n      <td>180.576274</td>\n      <td>1.0</td>\n    </tr>\n    <tr>\n      <th>Valverde del Camino</th>\n      <td>427.0</td>\n      <td>4.0</td>\n      <td>10.0</td>\n      <td>12750.0</td>\n      <td>31.372549</td>\n      <td>78.431373</td>\n      <td>1.0</td>\n    </tr>\n    <tr>\n      <th>Villalba del Alcor</th>\n      <td>460.0</td>\n      <td>3.0</td>\n      <td>13.0</td>\n      <td>3366.0</td>\n      <td>89.126560</td>\n      <td>386.215092</td>\n      <td>1.0</td>\n    </tr>\n    <tr>\n      <th>Aroche</th>\n      <td>81.0</td>\n      <td>1.0</td>\n      <td>1.0</td>\n      <td>3054.0</td>\n      <td>32.743942</td>\n      <td>32.743942</td>\n      <td>NaN</td>\n    </tr>\n    <tr>\n      <th>Bonares</th>\n      <td>181.0</td>\n      <td>1.0</td>\n      <td>3.0</td>\n      <td>6060.0</td>\n      <td>16.501650</td>\n      <td>49.504950</td>\n      <td>NaN</td>\n    </tr>\n    <tr>\n      <th>Villarrasa</th>\n      <td>133.0</td>\n      <td>1.0</td>\n      <td>4.0</td>\n      <td>2211.0</td>\n      <td>45.228403</td>\n      <td>180.913614</td>\n      <td>NaN</td>\n    </tr>\n  </tbody>\n</table>\n</div>"
     },
     "metadata": {},
     "execution_count": 15
    }
   ],
   "source": [
    "# Nuevos casos desde la última captura\n",
    "tabla[tabla['Diferencia PDIA'] != 0].sort_values('Diferencia PDIA', ascending=False)"
   ]
  },
  {
   "cell_type": "code",
   "execution_count": 16,
   "metadata": {},
   "outputs": [],
   "source": [
    "if tabla[tabla['Diferencia PDIA'] != 0]['Diferencia PDIA'].sum() != 0:\n",
    "  # Save to csv\n",
    "  tabla.to_csv('covid_huelva.csv', encoding='utf-8', header=True, index=True)  "
   ]
  },
  {
   "cell_type": "code",
   "execution_count": 17,
   "metadata": {},
   "outputs": [
    {
     "output_type": "execute_result",
     "data": {
      "text/plain": [
       "Medida                             Confirmados PDIA  Confirmados PDIA 7 días  \\\n",
       "Lugar de residencia                                                            \n",
       "Alosno                                        148.0                     20.0   \n",
       "Rociana del Condado                           355.0                     31.0   \n",
       "San Bartolomé de la Torre                     220.0                     10.0   \n",
       "Almonte                                       976.0                     67.0   \n",
       "Villalba del Alcor                            460.0                      3.0   \n",
       "Puebla de Guzmán                              110.0                      2.0   \n",
       "Niebla                                        167.0                      8.0   \n",
       "Bollullos Par del Condado                     652.0                     19.0   \n",
       "Condado-Campiña                              7275.0                    183.0   \n",
       "Villarrasa                                    133.0                      1.0   \n",
       "Gibraleón                                     536.0                      8.0   \n",
       "Moguer                                        873.0                     16.0   \n",
       "Cartaya                                       994.0                     20.0   \n",
       "Paterna del Campo                             118.0                      5.0   \n",
       "Palos de la Frontera                          469.0                      8.0   \n",
       "Huelva                                      25336.0                    300.0   \n",
       "Ayamonte                                     1242.0                     10.0   \n",
       "Valverde del Camino                           427.0                      4.0   \n",
       "Huelva-Costa                                15326.0                    102.0   \n",
       "Isla Cristina                                2008.0                      4.0   \n",
       "San Juan del Puerto                           370.0                      4.0   \n",
       "Lepe                                         2016.0                      8.0   \n",
       "Huelva (capital)                             6664.0                     32.0   \n",
       "Bonares                                       181.0                      1.0   \n",
       "Escacena del Campo                            141.0                      1.0   \n",
       "Aracena                                       453.0                      3.0   \n",
       "Aroche                                         81.0                      1.0   \n",
       "Punta Umbría                                  663.0                      5.0   \n",
       "Sierra de Huelva-Andévalo Central            2316.0                      8.0   \n",
       "Beas                                          164.0                      1.0   \n",
       "Aljaraque                                     929.0                      1.0   \n",
       "\n",
       "Medida                             Confirmados PDIA 14 días  Población  \\\n",
       "Lugar de residencia                                                      \n",
       "Alosno                                                 26.0     3933.0   \n",
       "Rociana del Condado                                    42.0     7939.0   \n",
       "San Bartolomé de la Torre                              17.0     3761.0   \n",
       "Almonte                                                98.0    24507.0   \n",
       "Villalba del Alcor                                     13.0     3366.0   \n",
       "Puebla de Guzmán                                        8.0     3092.0   \n",
       "Niebla                                                 10.0     4116.0   \n",
       "Bollullos Par del Condado                              31.0    14387.0   \n",
       "Condado-Campiña                                       316.0   156231.0   \n",
       "Villarrasa                                              4.0     2211.0   \n",
       "Gibraleón                                              23.0    12737.0   \n",
       "Moguer                                                 39.0    21867.0   \n",
       "Cartaya                                                35.0    20083.0   \n",
       "Paterna del Campo                                       6.0     3457.0   \n",
       "Palos de la Frontera                                   16.0    11742.0   \n",
       "Huelva                                                545.0   513170.0   \n",
       "Ayamonte                                               20.0    21104.0   \n",
       "Valverde del Camino                                    10.0    12750.0   \n",
       "Huelva-Costa                                          201.0   289548.0   \n",
       "Isla Cristina                                          14.0    21393.0   \n",
       "San Juan del Puerto                                     6.0     9411.0   \n",
       "Lepe                                                   16.0    27880.0   \n",
       "Huelva (capital)                                       73.0   143837.0   \n",
       "Bonares                                                 3.0     6060.0   \n",
       "Escacena del Campo                                      1.0     2287.0   \n",
       "Aracena                                                 3.0     8255.0   \n",
       "Aroche                                                  1.0     3054.0   \n",
       "Punta Umbría                                            5.0    15355.0   \n",
       "Sierra de Huelva-Andévalo Central                      16.0    67391.0   \n",
       "Beas                                                    1.0     4341.0   \n",
       "Aljaraque                                               4.0    21474.0   \n",
       "\n",
       "Medida                                  tasa7      tasa14  Diferencia PDIA  \n",
       "Lugar de residencia                                                         \n",
       "Alosno                             508.517671  661.072972              3.0  \n",
       "Rociana del Condado                390.477390  529.033883             14.0  \n",
       "San Bartolomé de la Torre          265.886732  452.007445              4.0  \n",
       "Almonte                            273.391276  399.885747             21.0  \n",
       "Villalba del Alcor                  89.126560  386.215092              1.0  \n",
       "Puebla de Guzmán                    64.683053  258.732212              0.0  \n",
       "Niebla                             194.363460  242.954325              2.0  \n",
       "Bollullos Par del Condado          132.063669  215.472301              6.0  \n",
       "Condado-Campiña                    117.134244  202.264595             71.0  \n",
       "Villarrasa                          45.228403  180.913614              NaN  \n",
       "Gibraleón                           62.809139  180.576274              1.0  \n",
       "Moguer                              73.169616  178.350940             11.0  \n",
       "Cartaya                             99.586715  174.276751              4.0  \n",
       "Paterna del Campo                  144.634076  173.560891              3.0  \n",
       "Palos de la Frontera                68.131494  136.262988              4.0  \n",
       "Huelva                              58.460159  106.202623            107.0  \n",
       "Ayamonte                            47.384382   94.768764              5.0  \n",
       "Valverde del Camino                 31.372549   78.431373              1.0  \n",
       "Huelva-Costa                        35.227320   69.418542             31.0  \n",
       "Isla Cristina                       18.697705   65.441967              2.0  \n",
       "San Juan del Puerto                 42.503453   63.755180              2.0  \n",
       "Lepe                                28.694405   57.388809              5.0  \n",
       "Huelva (capital)                    22.247405   50.751893              8.0  \n",
       "Bonares                             16.501650   49.504950              NaN  \n",
       "Escacena del Campo                  43.725404   43.725404              0.0  \n",
       "Aracena                             36.341611   36.341611              2.0  \n",
       "Aroche                              32.743942   32.743942              NaN  \n",
       "Punta Umbría                        32.562683   32.562683              3.0  \n",
       "Sierra de Huelva-Andévalo Central   11.871021   23.742043              4.0  \n",
       "Beas                                23.036167   23.036167              0.0  \n",
       "Aljaraque                            4.656794   18.627177              0.0  "
      ],
      "text/html": "<div>\n<style scoped>\n    .dataframe tbody tr th:only-of-type {\n        vertical-align: middle;\n    }\n\n    .dataframe tbody tr th {\n        vertical-align: top;\n    }\n\n    .dataframe thead th {\n        text-align: right;\n    }\n</style>\n<table border=\"1\" class=\"dataframe\">\n  <thead>\n    <tr style=\"text-align: right;\">\n      <th>Medida</th>\n      <th>Confirmados PDIA</th>\n      <th>Confirmados PDIA 7 días</th>\n      <th>Confirmados PDIA 14 días</th>\n      <th>Población</th>\n      <th>tasa7</th>\n      <th>tasa14</th>\n      <th>Diferencia PDIA</th>\n    </tr>\n    <tr>\n      <th>Lugar de residencia</th>\n      <th></th>\n      <th></th>\n      <th></th>\n      <th></th>\n      <th></th>\n      <th></th>\n      <th></th>\n    </tr>\n  </thead>\n  <tbody>\n    <tr>\n      <th>Alosno</th>\n      <td>148.0</td>\n      <td>20.0</td>\n      <td>26.0</td>\n      <td>3933.0</td>\n      <td>508.517671</td>\n      <td>661.072972</td>\n      <td>3.0</td>\n    </tr>\n    <tr>\n      <th>Rociana del Condado</th>\n      <td>355.0</td>\n      <td>31.0</td>\n      <td>42.0</td>\n      <td>7939.0</td>\n      <td>390.477390</td>\n      <td>529.033883</td>\n      <td>14.0</td>\n    </tr>\n    <tr>\n      <th>San Bartolomé de la Torre</th>\n      <td>220.0</td>\n      <td>10.0</td>\n      <td>17.0</td>\n      <td>3761.0</td>\n      <td>265.886732</td>\n      <td>452.007445</td>\n      <td>4.0</td>\n    </tr>\n    <tr>\n      <th>Almonte</th>\n      <td>976.0</td>\n      <td>67.0</td>\n      <td>98.0</td>\n      <td>24507.0</td>\n      <td>273.391276</td>\n      <td>399.885747</td>\n      <td>21.0</td>\n    </tr>\n    <tr>\n      <th>Villalba del Alcor</th>\n      <td>460.0</td>\n      <td>3.0</td>\n      <td>13.0</td>\n      <td>3366.0</td>\n      <td>89.126560</td>\n      <td>386.215092</td>\n      <td>1.0</td>\n    </tr>\n    <tr>\n      <th>Puebla de Guzmán</th>\n      <td>110.0</td>\n      <td>2.0</td>\n      <td>8.0</td>\n      <td>3092.0</td>\n      <td>64.683053</td>\n      <td>258.732212</td>\n      <td>0.0</td>\n    </tr>\n    <tr>\n      <th>Niebla</th>\n      <td>167.0</td>\n      <td>8.0</td>\n      <td>10.0</td>\n      <td>4116.0</td>\n      <td>194.363460</td>\n      <td>242.954325</td>\n      <td>2.0</td>\n    </tr>\n    <tr>\n      <th>Bollullos Par del Condado</th>\n      <td>652.0</td>\n      <td>19.0</td>\n      <td>31.0</td>\n      <td>14387.0</td>\n      <td>132.063669</td>\n      <td>215.472301</td>\n      <td>6.0</td>\n    </tr>\n    <tr>\n      <th>Condado-Campiña</th>\n      <td>7275.0</td>\n      <td>183.0</td>\n      <td>316.0</td>\n      <td>156231.0</td>\n      <td>117.134244</td>\n      <td>202.264595</td>\n      <td>71.0</td>\n    </tr>\n    <tr>\n      <th>Villarrasa</th>\n      <td>133.0</td>\n      <td>1.0</td>\n      <td>4.0</td>\n      <td>2211.0</td>\n      <td>45.228403</td>\n      <td>180.913614</td>\n      <td>NaN</td>\n    </tr>\n    <tr>\n      <th>Gibraleón</th>\n      <td>536.0</td>\n      <td>8.0</td>\n      <td>23.0</td>\n      <td>12737.0</td>\n      <td>62.809139</td>\n      <td>180.576274</td>\n      <td>1.0</td>\n    </tr>\n    <tr>\n      <th>Moguer</th>\n      <td>873.0</td>\n      <td>16.0</td>\n      <td>39.0</td>\n      <td>21867.0</td>\n      <td>73.169616</td>\n      <td>178.350940</td>\n      <td>11.0</td>\n    </tr>\n    <tr>\n      <th>Cartaya</th>\n      <td>994.0</td>\n      <td>20.0</td>\n      <td>35.0</td>\n      <td>20083.0</td>\n      <td>99.586715</td>\n      <td>174.276751</td>\n      <td>4.0</td>\n    </tr>\n    <tr>\n      <th>Paterna del Campo</th>\n      <td>118.0</td>\n      <td>5.0</td>\n      <td>6.0</td>\n      <td>3457.0</td>\n      <td>144.634076</td>\n      <td>173.560891</td>\n      <td>3.0</td>\n    </tr>\n    <tr>\n      <th>Palos de la Frontera</th>\n      <td>469.0</td>\n      <td>8.0</td>\n      <td>16.0</td>\n      <td>11742.0</td>\n      <td>68.131494</td>\n      <td>136.262988</td>\n      <td>4.0</td>\n    </tr>\n    <tr>\n      <th>Huelva</th>\n      <td>25336.0</td>\n      <td>300.0</td>\n      <td>545.0</td>\n      <td>513170.0</td>\n      <td>58.460159</td>\n      <td>106.202623</td>\n      <td>107.0</td>\n    </tr>\n    <tr>\n      <th>Ayamonte</th>\n      <td>1242.0</td>\n      <td>10.0</td>\n      <td>20.0</td>\n      <td>21104.0</td>\n      <td>47.384382</td>\n      <td>94.768764</td>\n      <td>5.0</td>\n    </tr>\n    <tr>\n      <th>Valverde del Camino</th>\n      <td>427.0</td>\n      <td>4.0</td>\n      <td>10.0</td>\n      <td>12750.0</td>\n      <td>31.372549</td>\n      <td>78.431373</td>\n      <td>1.0</td>\n    </tr>\n    <tr>\n      <th>Huelva-Costa</th>\n      <td>15326.0</td>\n      <td>102.0</td>\n      <td>201.0</td>\n      <td>289548.0</td>\n      <td>35.227320</td>\n      <td>69.418542</td>\n      <td>31.0</td>\n    </tr>\n    <tr>\n      <th>Isla Cristina</th>\n      <td>2008.0</td>\n      <td>4.0</td>\n      <td>14.0</td>\n      <td>21393.0</td>\n      <td>18.697705</td>\n      <td>65.441967</td>\n      <td>2.0</td>\n    </tr>\n    <tr>\n      <th>San Juan del Puerto</th>\n      <td>370.0</td>\n      <td>4.0</td>\n      <td>6.0</td>\n      <td>9411.0</td>\n      <td>42.503453</td>\n      <td>63.755180</td>\n      <td>2.0</td>\n    </tr>\n    <tr>\n      <th>Lepe</th>\n      <td>2016.0</td>\n      <td>8.0</td>\n      <td>16.0</td>\n      <td>27880.0</td>\n      <td>28.694405</td>\n      <td>57.388809</td>\n      <td>5.0</td>\n    </tr>\n    <tr>\n      <th>Huelva (capital)</th>\n      <td>6664.0</td>\n      <td>32.0</td>\n      <td>73.0</td>\n      <td>143837.0</td>\n      <td>22.247405</td>\n      <td>50.751893</td>\n      <td>8.0</td>\n    </tr>\n    <tr>\n      <th>Bonares</th>\n      <td>181.0</td>\n      <td>1.0</td>\n      <td>3.0</td>\n      <td>6060.0</td>\n      <td>16.501650</td>\n      <td>49.504950</td>\n      <td>NaN</td>\n    </tr>\n    <tr>\n      <th>Escacena del Campo</th>\n      <td>141.0</td>\n      <td>1.0</td>\n      <td>1.0</td>\n      <td>2287.0</td>\n      <td>43.725404</td>\n      <td>43.725404</td>\n      <td>0.0</td>\n    </tr>\n    <tr>\n      <th>Aracena</th>\n      <td>453.0</td>\n      <td>3.0</td>\n      <td>3.0</td>\n      <td>8255.0</td>\n      <td>36.341611</td>\n      <td>36.341611</td>\n      <td>2.0</td>\n    </tr>\n    <tr>\n      <th>Aroche</th>\n      <td>81.0</td>\n      <td>1.0</td>\n      <td>1.0</td>\n      <td>3054.0</td>\n      <td>32.743942</td>\n      <td>32.743942</td>\n      <td>NaN</td>\n    </tr>\n    <tr>\n      <th>Punta Umbría</th>\n      <td>663.0</td>\n      <td>5.0</td>\n      <td>5.0</td>\n      <td>15355.0</td>\n      <td>32.562683</td>\n      <td>32.562683</td>\n      <td>3.0</td>\n    </tr>\n    <tr>\n      <th>Sierra de Huelva-Andévalo Central</th>\n      <td>2316.0</td>\n      <td>8.0</td>\n      <td>16.0</td>\n      <td>67391.0</td>\n      <td>11.871021</td>\n      <td>23.742043</td>\n      <td>4.0</td>\n    </tr>\n    <tr>\n      <th>Beas</th>\n      <td>164.0</td>\n      <td>1.0</td>\n      <td>1.0</td>\n      <td>4341.0</td>\n      <td>23.036167</td>\n      <td>23.036167</td>\n      <td>0.0</td>\n    </tr>\n    <tr>\n      <th>Aljaraque</th>\n      <td>929.0</td>\n      <td>1.0</td>\n      <td>4.0</td>\n      <td>21474.0</td>\n      <td>4.656794</td>\n      <td>18.627177</td>\n      <td>0.0</td>\n    </tr>\n  </tbody>\n</table>\n</div>"
     },
     "metadata": {},
     "execution_count": 17
    }
   ],
   "source": [
    "tabla.sort_values('tasa14', ascending=False)"
   ]
  },
  {
   "cell_type": "code",
   "execution_count": 18,
   "metadata": {},
   "outputs": [
    {
     "output_type": "execute_result",
     "data": {
      "text/plain": [
       "Medida                             Confirmados PDIA  Confirmados PDIA 7 días  \\\n",
       "Lugar de residencia                                                            \n",
       "Villalba del Alcor                            460.0                      3.0   \n",
       "Aljaraque                                     929.0                      1.0   \n",
       "Puebla de Guzmán                              110.0                      2.0   \n",
       "Villarrasa                                    133.0                      1.0   \n",
       "Isla Cristina                                2008.0                      4.0   \n",
       "Bonares                                       181.0                      1.0   \n",
       "Gibraleón                                     536.0                      8.0   \n",
       "Valverde del Camino                           427.0                      4.0   \n",
       "Moguer                                        873.0                     16.0   \n",
       "Huelva (capital)                             6664.0                     32.0   \n",
       "Lepe                                         2016.0                      8.0   \n",
       "Ayamonte                                     1242.0                     10.0   \n",
       "Sierra de Huelva-Andévalo Central            2316.0                      8.0   \n",
       "Palos de la Frontera                          469.0                      8.0   \n",
       "Huelva-Costa                                15326.0                    102.0   \n",
       "Huelva                                      25336.0                    300.0   \n",
       "Cartaya                                       994.0                     20.0   \n",
       "Condado-Campiña                              7275.0                    183.0   \n",
       "San Bartolomé de la Torre                     220.0                     10.0   \n",
       "Bollullos Par del Condado                     652.0                     19.0   \n",
       "San Juan del Puerto                           370.0                      4.0   \n",
       "Almonte                                       976.0                     67.0   \n",
       "Rociana del Condado                           355.0                     31.0   \n",
       "Alosno                                        148.0                     20.0   \n",
       "Niebla                                        167.0                      8.0   \n",
       "Paterna del Campo                             118.0                      5.0   \n",
       "Escacena del Campo                            141.0                      1.0   \n",
       "Aracena                                       453.0                      3.0   \n",
       "Punta Umbría                                  663.0                      5.0   \n",
       "Beas                                          164.0                      1.0   \n",
       "Aroche                                         81.0                      1.0   \n",
       "\n",
       "Medida                             Confirmados PDIA 14 días  Población  \\\n",
       "Lugar de residencia                                                      \n",
       "Villalba del Alcor                                     13.0     3366.0   \n",
       "Aljaraque                                               4.0    21474.0   \n",
       "Puebla de Guzmán                                        8.0     3092.0   \n",
       "Villarrasa                                              4.0     2211.0   \n",
       "Isla Cristina                                          14.0    21393.0   \n",
       "Bonares                                                 3.0     6060.0   \n",
       "Gibraleón                                              23.0    12737.0   \n",
       "Valverde del Camino                                    10.0    12750.0   \n",
       "Moguer                                                 39.0    21867.0   \n",
       "Huelva (capital)                                       73.0   143837.0   \n",
       "Lepe                                                   16.0    27880.0   \n",
       "Ayamonte                                               20.0    21104.0   \n",
       "Sierra de Huelva-Andévalo Central                      16.0    67391.0   \n",
       "Palos de la Frontera                                   16.0    11742.0   \n",
       "Huelva-Costa                                          201.0   289548.0   \n",
       "Huelva                                                545.0   513170.0   \n",
       "Cartaya                                                35.0    20083.0   \n",
       "Condado-Campiña                                       316.0   156231.0   \n",
       "San Bartolomé de la Torre                              17.0     3761.0   \n",
       "Bollullos Par del Condado                              31.0    14387.0   \n",
       "San Juan del Puerto                                     6.0     9411.0   \n",
       "Almonte                                                98.0    24507.0   \n",
       "Rociana del Condado                                    42.0     7939.0   \n",
       "Alosno                                                 26.0     3933.0   \n",
       "Niebla                                                 10.0     4116.0   \n",
       "Paterna del Campo                                       6.0     3457.0   \n",
       "Escacena del Campo                                      1.0     2287.0   \n",
       "Aracena                                                 3.0     8255.0   \n",
       "Punta Umbría                                            5.0    15355.0   \n",
       "Beas                                                    1.0     4341.0   \n",
       "Aroche                                                  1.0     3054.0   \n",
       "\n",
       "Medida                                  tasa7      tasa14  Diferencia PDIA  \\\n",
       "Lugar de residencia                                                          \n",
       "Villalba del Alcor                  89.126560  386.215092              1.0   \n",
       "Aljaraque                            4.656794   18.627177              0.0   \n",
       "Puebla de Guzmán                    64.683053  258.732212              0.0   \n",
       "Villarrasa                          45.228403  180.913614              0.0   \n",
       "Isla Cristina                       18.697705   65.441967              2.0   \n",
       "Bonares                             16.501650   49.504950              0.0   \n",
       "Gibraleón                           62.809139  180.576274              1.0   \n",
       "Valverde del Camino                 31.372549   78.431373              1.0   \n",
       "Moguer                              73.169616  178.350940             11.0   \n",
       "Huelva (capital)                    22.247405   50.751893              8.0   \n",
       "Lepe                                28.694405   57.388809              5.0   \n",
       "Ayamonte                            47.384382   94.768764              5.0   \n",
       "Sierra de Huelva-Andévalo Central   11.871021   23.742043              4.0   \n",
       "Palos de la Frontera                68.131494  136.262988              4.0   \n",
       "Huelva-Costa                        35.227320   69.418542             31.0   \n",
       "Huelva                              58.460159  106.202623            107.0   \n",
       "Cartaya                             99.586715  174.276751              4.0   \n",
       "Condado-Campiña                    117.134244  202.264595             71.0   \n",
       "San Bartolomé de la Torre          265.886732  452.007445              4.0   \n",
       "Bollullos Par del Condado          132.063669  215.472301              6.0   \n",
       "San Juan del Puerto                 42.503453   63.755180              2.0   \n",
       "Almonte                            273.391276  399.885747             21.0   \n",
       "Rociana del Condado                390.477390  529.033883             14.0   \n",
       "Alosno                             508.517671  661.072972              3.0   \n",
       "Niebla                             194.363460  242.954325              2.0   \n",
       "Paterna del Campo                  144.634076  173.560891              3.0   \n",
       "Escacena del Campo                  43.725404   43.725404              0.0   \n",
       "Aracena                             36.341611   36.341611              2.0   \n",
       "Punta Umbría                        32.562683   32.562683              3.0   \n",
       "Beas                                23.036167   23.036167              0.0   \n",
       "Aroche                              32.743942   32.743942              0.0   \n",
       "\n",
       "Medida                                 7/14  \n",
       "Lugar de residencia                          \n",
       "Villalba del Alcor                 0.230769  \n",
       "Aljaraque                          0.250000  \n",
       "Puebla de Guzmán                   0.250000  \n",
       "Villarrasa                         0.250000  \n",
       "Isla Cristina                      0.285714  \n",
       "Bonares                            0.333333  \n",
       "Gibraleón                          0.347826  \n",
       "Valverde del Camino                0.400000  \n",
       "Moguer                             0.410256  \n",
       "Huelva (capital)                   0.438356  \n",
       "Lepe                               0.500000  \n",
       "Ayamonte                           0.500000  \n",
       "Sierra de Huelva-Andévalo Central  0.500000  \n",
       "Palos de la Frontera               0.500000  \n",
       "Huelva-Costa                       0.507463  \n",
       "Huelva                             0.550459  \n",
       "Cartaya                            0.571429  \n",
       "Condado-Campiña                    0.579114  \n",
       "San Bartolomé de la Torre          0.588235  \n",
       "Bollullos Par del Condado          0.612903  \n",
       "San Juan del Puerto                0.666667  \n",
       "Almonte                            0.683673  \n",
       "Rociana del Condado                0.738095  \n",
       "Alosno                             0.769231  \n",
       "Niebla                             0.800000  \n",
       "Paterna del Campo                  0.833333  \n",
       "Escacena del Campo                 1.000000  \n",
       "Aracena                            1.000000  \n",
       "Punta Umbría                       1.000000  \n",
       "Beas                               1.000000  \n",
       "Aroche                             1.000000  "
      ],
      "text/html": "<div>\n<style scoped>\n    .dataframe tbody tr th:only-of-type {\n        vertical-align: middle;\n    }\n\n    .dataframe tbody tr th {\n        vertical-align: top;\n    }\n\n    .dataframe thead th {\n        text-align: right;\n    }\n</style>\n<table border=\"1\" class=\"dataframe\">\n  <thead>\n    <tr style=\"text-align: right;\">\n      <th>Medida</th>\n      <th>Confirmados PDIA</th>\n      <th>Confirmados PDIA 7 días</th>\n      <th>Confirmados PDIA 14 días</th>\n      <th>Población</th>\n      <th>tasa7</th>\n      <th>tasa14</th>\n      <th>Diferencia PDIA</th>\n      <th>7/14</th>\n    </tr>\n    <tr>\n      <th>Lugar de residencia</th>\n      <th></th>\n      <th></th>\n      <th></th>\n      <th></th>\n      <th></th>\n      <th></th>\n      <th></th>\n      <th></th>\n    </tr>\n  </thead>\n  <tbody>\n    <tr>\n      <th>Villalba del Alcor</th>\n      <td>460.0</td>\n      <td>3.0</td>\n      <td>13.0</td>\n      <td>3366.0</td>\n      <td>89.126560</td>\n      <td>386.215092</td>\n      <td>1.0</td>\n      <td>0.230769</td>\n    </tr>\n    <tr>\n      <th>Aljaraque</th>\n      <td>929.0</td>\n      <td>1.0</td>\n      <td>4.0</td>\n      <td>21474.0</td>\n      <td>4.656794</td>\n      <td>18.627177</td>\n      <td>0.0</td>\n      <td>0.250000</td>\n    </tr>\n    <tr>\n      <th>Puebla de Guzmán</th>\n      <td>110.0</td>\n      <td>2.0</td>\n      <td>8.0</td>\n      <td>3092.0</td>\n      <td>64.683053</td>\n      <td>258.732212</td>\n      <td>0.0</td>\n      <td>0.250000</td>\n    </tr>\n    <tr>\n      <th>Villarrasa</th>\n      <td>133.0</td>\n      <td>1.0</td>\n      <td>4.0</td>\n      <td>2211.0</td>\n      <td>45.228403</td>\n      <td>180.913614</td>\n      <td>0.0</td>\n      <td>0.250000</td>\n    </tr>\n    <tr>\n      <th>Isla Cristina</th>\n      <td>2008.0</td>\n      <td>4.0</td>\n      <td>14.0</td>\n      <td>21393.0</td>\n      <td>18.697705</td>\n      <td>65.441967</td>\n      <td>2.0</td>\n      <td>0.285714</td>\n    </tr>\n    <tr>\n      <th>Bonares</th>\n      <td>181.0</td>\n      <td>1.0</td>\n      <td>3.0</td>\n      <td>6060.0</td>\n      <td>16.501650</td>\n      <td>49.504950</td>\n      <td>0.0</td>\n      <td>0.333333</td>\n    </tr>\n    <tr>\n      <th>Gibraleón</th>\n      <td>536.0</td>\n      <td>8.0</td>\n      <td>23.0</td>\n      <td>12737.0</td>\n      <td>62.809139</td>\n      <td>180.576274</td>\n      <td>1.0</td>\n      <td>0.347826</td>\n    </tr>\n    <tr>\n      <th>Valverde del Camino</th>\n      <td>427.0</td>\n      <td>4.0</td>\n      <td>10.0</td>\n      <td>12750.0</td>\n      <td>31.372549</td>\n      <td>78.431373</td>\n      <td>1.0</td>\n      <td>0.400000</td>\n    </tr>\n    <tr>\n      <th>Moguer</th>\n      <td>873.0</td>\n      <td>16.0</td>\n      <td>39.0</td>\n      <td>21867.0</td>\n      <td>73.169616</td>\n      <td>178.350940</td>\n      <td>11.0</td>\n      <td>0.410256</td>\n    </tr>\n    <tr>\n      <th>Huelva (capital)</th>\n      <td>6664.0</td>\n      <td>32.0</td>\n      <td>73.0</td>\n      <td>143837.0</td>\n      <td>22.247405</td>\n      <td>50.751893</td>\n      <td>8.0</td>\n      <td>0.438356</td>\n    </tr>\n    <tr>\n      <th>Lepe</th>\n      <td>2016.0</td>\n      <td>8.0</td>\n      <td>16.0</td>\n      <td>27880.0</td>\n      <td>28.694405</td>\n      <td>57.388809</td>\n      <td>5.0</td>\n      <td>0.500000</td>\n    </tr>\n    <tr>\n      <th>Ayamonte</th>\n      <td>1242.0</td>\n      <td>10.0</td>\n      <td>20.0</td>\n      <td>21104.0</td>\n      <td>47.384382</td>\n      <td>94.768764</td>\n      <td>5.0</td>\n      <td>0.500000</td>\n    </tr>\n    <tr>\n      <th>Sierra de Huelva-Andévalo Central</th>\n      <td>2316.0</td>\n      <td>8.0</td>\n      <td>16.0</td>\n      <td>67391.0</td>\n      <td>11.871021</td>\n      <td>23.742043</td>\n      <td>4.0</td>\n      <td>0.500000</td>\n    </tr>\n    <tr>\n      <th>Palos de la Frontera</th>\n      <td>469.0</td>\n      <td>8.0</td>\n      <td>16.0</td>\n      <td>11742.0</td>\n      <td>68.131494</td>\n      <td>136.262988</td>\n      <td>4.0</td>\n      <td>0.500000</td>\n    </tr>\n    <tr>\n      <th>Huelva-Costa</th>\n      <td>15326.0</td>\n      <td>102.0</td>\n      <td>201.0</td>\n      <td>289548.0</td>\n      <td>35.227320</td>\n      <td>69.418542</td>\n      <td>31.0</td>\n      <td>0.507463</td>\n    </tr>\n    <tr>\n      <th>Huelva</th>\n      <td>25336.0</td>\n      <td>300.0</td>\n      <td>545.0</td>\n      <td>513170.0</td>\n      <td>58.460159</td>\n      <td>106.202623</td>\n      <td>107.0</td>\n      <td>0.550459</td>\n    </tr>\n    <tr>\n      <th>Cartaya</th>\n      <td>994.0</td>\n      <td>20.0</td>\n      <td>35.0</td>\n      <td>20083.0</td>\n      <td>99.586715</td>\n      <td>174.276751</td>\n      <td>4.0</td>\n      <td>0.571429</td>\n    </tr>\n    <tr>\n      <th>Condado-Campiña</th>\n      <td>7275.0</td>\n      <td>183.0</td>\n      <td>316.0</td>\n      <td>156231.0</td>\n      <td>117.134244</td>\n      <td>202.264595</td>\n      <td>71.0</td>\n      <td>0.579114</td>\n    </tr>\n    <tr>\n      <th>San Bartolomé de la Torre</th>\n      <td>220.0</td>\n      <td>10.0</td>\n      <td>17.0</td>\n      <td>3761.0</td>\n      <td>265.886732</td>\n      <td>452.007445</td>\n      <td>4.0</td>\n      <td>0.588235</td>\n    </tr>\n    <tr>\n      <th>Bollullos Par del Condado</th>\n      <td>652.0</td>\n      <td>19.0</td>\n      <td>31.0</td>\n      <td>14387.0</td>\n      <td>132.063669</td>\n      <td>215.472301</td>\n      <td>6.0</td>\n      <td>0.612903</td>\n    </tr>\n    <tr>\n      <th>San Juan del Puerto</th>\n      <td>370.0</td>\n      <td>4.0</td>\n      <td>6.0</td>\n      <td>9411.0</td>\n      <td>42.503453</td>\n      <td>63.755180</td>\n      <td>2.0</td>\n      <td>0.666667</td>\n    </tr>\n    <tr>\n      <th>Almonte</th>\n      <td>976.0</td>\n      <td>67.0</td>\n      <td>98.0</td>\n      <td>24507.0</td>\n      <td>273.391276</td>\n      <td>399.885747</td>\n      <td>21.0</td>\n      <td>0.683673</td>\n    </tr>\n    <tr>\n      <th>Rociana del Condado</th>\n      <td>355.0</td>\n      <td>31.0</td>\n      <td>42.0</td>\n      <td>7939.0</td>\n      <td>390.477390</td>\n      <td>529.033883</td>\n      <td>14.0</td>\n      <td>0.738095</td>\n    </tr>\n    <tr>\n      <th>Alosno</th>\n      <td>148.0</td>\n      <td>20.0</td>\n      <td>26.0</td>\n      <td>3933.0</td>\n      <td>508.517671</td>\n      <td>661.072972</td>\n      <td>3.0</td>\n      <td>0.769231</td>\n    </tr>\n    <tr>\n      <th>Niebla</th>\n      <td>167.0</td>\n      <td>8.0</td>\n      <td>10.0</td>\n      <td>4116.0</td>\n      <td>194.363460</td>\n      <td>242.954325</td>\n      <td>2.0</td>\n      <td>0.800000</td>\n    </tr>\n    <tr>\n      <th>Paterna del Campo</th>\n      <td>118.0</td>\n      <td>5.0</td>\n      <td>6.0</td>\n      <td>3457.0</td>\n      <td>144.634076</td>\n      <td>173.560891</td>\n      <td>3.0</td>\n      <td>0.833333</td>\n    </tr>\n    <tr>\n      <th>Escacena del Campo</th>\n      <td>141.0</td>\n      <td>1.0</td>\n      <td>1.0</td>\n      <td>2287.0</td>\n      <td>43.725404</td>\n      <td>43.725404</td>\n      <td>0.0</td>\n      <td>1.000000</td>\n    </tr>\n    <tr>\n      <th>Aracena</th>\n      <td>453.0</td>\n      <td>3.0</td>\n      <td>3.0</td>\n      <td>8255.0</td>\n      <td>36.341611</td>\n      <td>36.341611</td>\n      <td>2.0</td>\n      <td>1.000000</td>\n    </tr>\n    <tr>\n      <th>Punta Umbría</th>\n      <td>663.0</td>\n      <td>5.0</td>\n      <td>5.0</td>\n      <td>15355.0</td>\n      <td>32.562683</td>\n      <td>32.562683</td>\n      <td>3.0</td>\n      <td>1.000000</td>\n    </tr>\n    <tr>\n      <th>Beas</th>\n      <td>164.0</td>\n      <td>1.0</td>\n      <td>1.0</td>\n      <td>4341.0</td>\n      <td>23.036167</td>\n      <td>23.036167</td>\n      <td>0.0</td>\n      <td>1.000000</td>\n    </tr>\n    <tr>\n      <th>Aroche</th>\n      <td>81.0</td>\n      <td>1.0</td>\n      <td>1.0</td>\n      <td>3054.0</td>\n      <td>32.743942</td>\n      <td>32.743942</td>\n      <td>0.0</td>\n      <td>1.000000</td>\n    </tr>\n  </tbody>\n</table>\n</div>"
     },
     "metadata": {},
     "execution_count": 18
    }
   ],
   "source": [
    "# Peso de la tasa de la última semana en relación con la tasa a 14 días \n",
    "# Mejor cuanto menor. Valor 1 significa que no había casos antes de 7 días.\n",
    "tabla['7/14'] = tabla['tasa7'] / tabla['tasa14']\n",
    "tabla.fillna(0).sort_values('7/14', ascending=True)"
   ]
  },
  {
   "cell_type": "code",
   "execution_count": null,
   "metadata": {},
   "outputs": [],
   "source": []
  }
 ]
}