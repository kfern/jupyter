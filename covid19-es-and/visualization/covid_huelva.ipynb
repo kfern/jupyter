{
 "metadata": {
  "language_info": {
   "codemirror_mode": {
    "name": "ipython",
    "version": 3
   },
   "file_extension": ".py",
   "mimetype": "text/x-python",
   "name": "python",
   "nbconvert_exporter": "python",
   "pygments_lexer": "ipython3",
   "version": "3.8.6"
  },
  "orig_nbformat": 2,
  "kernelspec": {
   "name": "python3",
   "display_name": "Python 3",
   "language": "python"
  }
 },
 "nbformat": 4,
 "nbformat_minor": 2,
 "cells": [
  {
   "cell_type": "code",
   "execution_count": 1,
   "metadata": {},
   "outputs": [],
   "source": [
    "import pandas as pd\n",
    "pd.set_option('display.max_rows', None) # Print all rows"
   ]
  },
  {
   "cell_type": "code",
   "execution_count": 2,
   "metadata": {},
   "outputs": [],
   "source": [
    "# FIX SSL: CERTIFICATE_VERIFY_FAILED with Python3\n",
    "# https://stackoverflow.com/a/49174340\n",
    "import ssl\n",
    "\n",
    "ssl._create_default_https_context = ssl._create_unverified_context"
   ]
  },
  {
   "cell_type": "code",
   "execution_count": 3,
   "metadata": {},
   "outputs": [],
   "source": [
    "url = 'https://www.juntadeandalucia.es/institutodeestadisticaycartografia/badea/stpivot/stpivot/Print?cube=013d884c-cfc5-4c21-9e78-e26225682afd&type=3&foto=si&ejecutaDesde=&codConsulta=38668&consTipoVisua=JP'\n",
    "fields = ['Lugar de residencia', 'Medida', 'Valor']\n",
    "df = pd.read_csv(url, delimiter=';', usecols=fields, decimal=',')"
   ]
  },
  {
   "cell_type": "code",
   "execution_count": 4,
   "metadata": {},
   "outputs": [
    {
     "output_type": "execute_result",
     "data": {
      "text/plain": [
       "  Lugar de residencia                    Medida              Valor\n",
       "0              Huelva                 Población             513170\n",
       "1              Huelva          Confirmados PDIA              30653\n",
       "2              Huelva  Confirmados PDIA 14 días               1333\n",
       "3              Huelva         Tasa PDIA 14 días  259,7579749400783\n",
       "4              Huelva   Confirmados PDIA 7 días                640\n",
       "5              Huelva        Total Confirmados               30833\n",
       "6              Huelva                   Curados              28241\n",
       "7              Huelva                Fallecidos                377"
      ],
      "text/html": "<div>\n<style scoped>\n    .dataframe tbody tr th:only-of-type {\n        vertical-align: middle;\n    }\n\n    .dataframe tbody tr th {\n        vertical-align: top;\n    }\n\n    .dataframe thead th {\n        text-align: right;\n    }\n</style>\n<table border=\"1\" class=\"dataframe\">\n  <thead>\n    <tr style=\"text-align: right;\">\n      <th></th>\n      <th>Lugar de residencia</th>\n      <th>Medida</th>\n      <th>Valor</th>\n    </tr>\n  </thead>\n  <tbody>\n    <tr>\n      <th>0</th>\n      <td>Huelva</td>\n      <td>Población</td>\n      <td>513170</td>\n    </tr>\n    <tr>\n      <th>1</th>\n      <td>Huelva</td>\n      <td>Confirmados PDIA</td>\n      <td>30653</td>\n    </tr>\n    <tr>\n      <th>2</th>\n      <td>Huelva</td>\n      <td>Confirmados PDIA 14 días</td>\n      <td>1333</td>\n    </tr>\n    <tr>\n      <th>3</th>\n      <td>Huelva</td>\n      <td>Tasa PDIA 14 días</td>\n      <td>259,7579749400783</td>\n    </tr>\n    <tr>\n      <th>4</th>\n      <td>Huelva</td>\n      <td>Confirmados PDIA 7 días</td>\n      <td>640</td>\n    </tr>\n    <tr>\n      <th>5</th>\n      <td>Huelva</td>\n      <td>Total Confirmados</td>\n      <td>30833</td>\n    </tr>\n    <tr>\n      <th>6</th>\n      <td>Huelva</td>\n      <td>Curados</td>\n      <td>28241</td>\n    </tr>\n    <tr>\n      <th>7</th>\n      <td>Huelva</td>\n      <td>Fallecidos</td>\n      <td>377</td>\n    </tr>\n  </tbody>\n</table>\n</div>"
     },
     "metadata": {},
     "execution_count": 4
    }
   ],
   "source": [
    "df[df['Lugar de residencia'] == 'Huelva']"
   ]
  },
  {
   "cell_type": "code",
   "execution_count": 5,
   "metadata": {},
   "outputs": [],
   "source": [
    "df['Valor'] = pd.to_numeric(df['Valor'],errors='coerce')"
   ]
  },
  {
   "cell_type": "code",
   "execution_count": 6,
   "metadata": {},
   "outputs": [],
   "source": [
    "dfAnterior = pd.read_csv('covid_huelva.csv', index_col='Lugar de residencia')"
   ]
  },
  {
   "cell_type": "code",
   "execution_count": 7,
   "metadata": {
    "tags": []
   },
   "outputs": [
    {
     "output_type": "stream",
     "name": "stdout",
     "text": [
      "Confirmados PCR en la provincia de Huelva:  30653.0\n",
      "<ipython-input-7-31b732756b19>:2: UserWarning: Boolean Series key will be reindexed to match DataFrame index.\n",
      "  p = df[df['Lugar de residencia'] == 'Huelva'][df['Medida'] == 'Confirmados PDIA']['Valor'].values[0]\n"
     ]
    }
   ],
   "source": [
    "# Confirmados PCR provincia Huelva\n",
    "p = df[df['Lugar de residencia'] == 'Huelva'][df['Medida'] == 'Confirmados PDIA']['Valor'].values[0]\n",
    "print('Confirmados PCR en la provincia de Huelva: ', p)"
   ]
  },
  {
   "cell_type": "code",
   "execution_count": 8,
   "metadata": {
    "tags": []
   },
   "outputs": [
    {
     "output_type": "stream",
     "name": "stdout",
     "text": [
      "Confirmados PCR en Huelva capital:  8058.0\n",
      "<ipython-input-8-e81bfb40e710>:2: UserWarning: Boolean Series key will be reindexed to match DataFrame index.\n",
      "  c = df[df['Lugar de residencia'] == 'Huelva (capital)'][df['Medida'] == 'Confirmados PDIA']['Valor'].values[0]\n"
     ]
    }
   ],
   "source": [
    "# Confirmados PCR Huelva capitalpd\n",
    "c = df[df['Lugar de residencia'] == 'Huelva (capital)'][df['Medida'] == 'Confirmados PDIA']['Valor'].values[0]\n",
    "print('Confirmados PCR en Huelva capital: ', c)"
   ]
  },
  {
   "cell_type": "code",
   "execution_count": 9,
   "metadata": {
    "tags": []
   },
   "outputs": [
    {
     "output_type": "stream",
     "name": "stderr",
     "text": [
      "<ipython-input-9-f09dd2050cc1>:1: UserWarning: Boolean Series key will be reindexed to match DataFrame index.\n  c7 = df[df['Lugar de residencia'] == 'Huelva (capital)'][df['Medida'] == 'Confirmados PDIA 7 días']['Valor'].values[0]\n<ipython-input-9-f09dd2050cc1>:2: UserWarning: Boolean Series key will be reindexed to match DataFrame index.\n  c14 = df[df['Lugar de residencia'] == 'Huelva (capital)'][df['Medida'] == 'Confirmados PDIA 14 días']['Valor'].values[0]\n<ipython-input-9-f09dd2050cc1>:3: UserWarning: Boolean Series key will be reindexed to match DataFrame index.\n  p = df[df['Lugar de residencia'] == 'Huelva (capital)'][df['Medida'] == 'Población']['Valor'].values[0]\n"
     ]
    }
   ],
   "source": [
    "c7 = df[df['Lugar de residencia'] == 'Huelva (capital)'][df['Medida'] == 'Confirmados PDIA 7 días']['Valor'].values[0]\n",
    "c14 = df[df['Lugar de residencia'] == 'Huelva (capital)'][df['Medida'] == 'Confirmados PDIA 14 días']['Valor'].values[0]\n",
    "p = df[df['Lugar de residencia'] == 'Huelva (capital)'][df['Medida'] == 'Población']['Valor'].values[0]"
   ]
  },
  {
   "cell_type": "code",
   "execution_count": 10,
   "metadata": {
    "tags": []
   },
   "outputs": [
    {
     "output_type": "stream",
     "name": "stdout",
     "text": [
      "Huelva (capital)\n\nUn positivo PCR cada 723 personas en los últimos 7 días \n\nUn positivo PCR cada 361 personas en los últimos 14 días\n"
     ]
    }
   ],
   "source": [
    "print('Huelva (capital)\\n')\n",
    "#print('Confirmados PCR 7 días x 1,000 habitantes: ', f\"{c7/(p/1000):.5f}\")\n",
    "print('Un positivo PCR cada', f\"{p/c7:.0f}\", 'personas en los últimos 7 días', '\\n')\n",
    "#print('Confirmados PCR 14 días x 1,000 habitantes: ', f\"{c14/(p/1000):.5f}\")\n",
    "print('Un positivo PCR cada', f\"{p/c14:.0f}\", 'personas en los últimos 14 días')"
   ]
  },
  {
   "cell_type": "code",
   "execution_count": 11,
   "metadata": {},
   "outputs": [],
   "source": [
    "filtro = ((df['Medida'] == 'Confirmados PDIA')| (df['Medida'] == 'Confirmados PDIA 7 días') | (df['Medida'] == 'Población' ) | (df['Medida'] == 'Confirmados PDIA 14 días')) & (df['Valor'] > 0)\n",
    "tabla = pd.pivot_table(df.loc[filtro], values='Valor', index='Lugar de residencia', columns='Medida').dropna()"
   ]
  },
  {
   "cell_type": "code",
   "execution_count": 12,
   "metadata": {},
   "outputs": [],
   "source": [
    "# Reorder columns\n",
    "tabla = tabla[['Confirmados PDIA', 'Confirmados PDIA 7 días', 'Confirmados PDIA 14 días', 'Población']]"
   ]
  },
  {
   "cell_type": "code",
   "execution_count": 13,
   "metadata": {},
   "outputs": [],
   "source": [
    "tabla['tasa7'] = tabla['Confirmados PDIA 7 días']/tabla['Población']*100000\n",
    "tabla['tasa14'] = tabla['Confirmados PDIA 14 días']/tabla['Población']*100000"
   ]
  },
  {
   "cell_type": "code",
   "execution_count": 14,
   "metadata": {},
   "outputs": [],
   "source": [
    "tabla['Diferencia PDIA'] = tabla['Confirmados PDIA'] - dfAnterior['Confirmados PDIA']"
   ]
  },
  {
   "cell_type": "code",
   "execution_count": 15,
   "metadata": {},
   "outputs": [
    {
     "output_type": "execute_result",
     "data": {
      "text/plain": [
       "Medida                             Confirmados PDIA  Confirmados PDIA 7 días  \\\n",
       "Lugar de residencia                                                            \n",
       "Huelva                                      30653.0                    640.0   \n",
       "Huelva-Costa                                17672.0                    312.0   \n",
       "Condado-Campiña                              9936.0                    279.0   \n",
       "Huelva (capital)                             8058.0                    199.0   \n",
       "Moguer                                       1248.0                     49.0   \n",
       "Almonte                                      1759.0                     63.0   \n",
       "San Juan del Puerto                           488.0                     16.0   \n",
       "Palma del Condado (La)                       1138.0                     38.0   \n",
       "Lepe                                         2121.0                     16.0   \n",
       "Bollullos Par del Condado                     959.0                     26.0   \n",
       "Palos de la Frontera                          633.0                     19.0   \n",
       "Isla Cristina                                2139.0                     15.0   \n",
       "Gibraleón                                     615.0                     10.0   \n",
       "Sierra de Huelva-Andévalo Central            2700.0                     46.0   \n",
       "Trigueros                                     294.0                      7.0   \n",
       "Valverde del Camino                           542.0                     20.0   \n",
       "Punta Umbría                                  798.0                     28.0   \n",
       "Aljaraque                                    1057.0                     24.0   \n",
       "Manzanilla                                     98.0                      6.0   \n",
       "Niebla                                        217.0                      6.0   \n",
       "Beas                                          210.0                      6.0   \n",
       "San Bartolomé de la Torre                     293.0                      4.0   \n",
       "Lucena del Puerto                             248.0                      7.0   \n",
       "Ayamonte                                     1314.0                     14.0   \n",
       "Rociana del Condado                           544.0                      7.0   \n",
       "Cartaya                                      1319.0                      8.0   \n",
       "Villarrasa                                    166.0                     10.0   \n",
       "Zalamea la Real                                90.0                      3.0   \n",
       "\n",
       "Medida                             Confirmados PDIA 14 días  Población  \\\n",
       "Lugar de residencia                                                      \n",
       "Huelva                                               1333.0   513170.0   \n",
       "Huelva-Costa                                          614.0   289548.0   \n",
       "Condado-Campiña                                       605.0   156231.0   \n",
       "Huelva (capital)                                      398.0   143837.0   \n",
       "Moguer                                                115.0    21867.0   \n",
       "Almonte                                               125.0    24507.0   \n",
       "San Juan del Puerto                                    27.0     9411.0   \n",
       "Palma del Condado (La)                                 86.0    10801.0   \n",
       "Lepe                                                   24.0    27880.0   \n",
       "Bollullos Par del Condado                              79.0    14387.0   \n",
       "Palos de la Frontera                                   32.0    11742.0   \n",
       "Isla Cristina                                          39.0    21393.0   \n",
       "Gibraleón                                              17.0    12737.0   \n",
       "Sierra de Huelva-Andévalo Central                     110.0    67391.0   \n",
       "Trigueros                                              18.0     7862.0   \n",
       "Valverde del Camino                                    53.0    12750.0   \n",
       "Punta Umbría                                           53.0    15355.0   \n",
       "Aljaraque                                              38.0    21474.0   \n",
       "Manzanilla                                             12.0     2118.0   \n",
       "Niebla                                                 14.0     4116.0   \n",
       "Beas                                                    8.0     4341.0   \n",
       "San Bartolomé de la Torre                              10.0     3761.0   \n",
       "Lucena del Puerto                                      14.0     3261.0   \n",
       "Ayamonte                                               18.0    21104.0   \n",
       "Rociana del Condado                                    13.0     7939.0   \n",
       "Cartaya                                                28.0    20083.0   \n",
       "Villarrasa                                             18.0     2211.0   \n",
       "Zalamea la Real                                         4.0     3054.0   \n",
       "\n",
       "Medida                                  tasa7      tasa14  Diferencia PDIA  \n",
       "Lugar de residencia                                                         \n",
       "Huelva                             124.715007  259.757975            154.0  \n",
       "Huelva-Costa                       107.754155  212.054651             76.0  \n",
       "Condado-Campiña                    178.581716  387.247089             73.0  \n",
       "Huelva (capital)                   138.351050  276.702100             55.0  \n",
       "Moguer                             224.081950  525.906617             12.0  \n",
       "Almonte                            257.069409  510.058351             12.0  \n",
       "San Juan del Puerto                170.013814  286.898310              8.0  \n",
       "Palma del Condado (La)             351.819276  796.222572              8.0  \n",
       "Lepe                                57.388809   86.083214              7.0  \n",
       "Bollullos Par del Condado          180.718704  549.106833              6.0  \n",
       "Palos de la Frontera               161.812298  272.525975              5.0  \n",
       "Isla Cristina                       70.116393  182.302622              5.0  \n",
       "Gibraleón                           78.511423  133.469420              4.0  \n",
       "Sierra de Huelva-Andévalo Central   68.258373  163.226544              4.0  \n",
       "Trigueros                           89.035869  228.949377              3.0  \n",
       "Valverde del Camino                156.862745  415.686275              3.0  \n",
       "Punta Umbría                       182.351026  345.164442              3.0  \n",
       "Aljaraque                          111.763062  176.958182              3.0  \n",
       "Manzanilla                         283.286119  566.572238              3.0  \n",
       "Niebla                             145.772595  340.136054              3.0  \n",
       "Beas                               138.217001  184.289334              3.0  \n",
       "San Bartolomé de la Torre          106.354693  265.886732              2.0  \n",
       "Lucena del Puerto                  214.658080  429.316161              2.0  \n",
       "Ayamonte                            66.338135   85.291888              2.0  \n",
       "Rociana del Condado                 88.172314  163.748583              1.0  \n",
       "Cartaya                             39.834686  139.421401              1.0  \n",
       "Villarrasa                         452.284034  814.111262              1.0  \n",
       "Zalamea la Real                     98.231827  130.975769              1.0  "
      ],
      "text/html": "<div>\n<style scoped>\n    .dataframe tbody tr th:only-of-type {\n        vertical-align: middle;\n    }\n\n    .dataframe tbody tr th {\n        vertical-align: top;\n    }\n\n    .dataframe thead th {\n        text-align: right;\n    }\n</style>\n<table border=\"1\" class=\"dataframe\">\n  <thead>\n    <tr style=\"text-align: right;\">\n      <th>Medida</th>\n      <th>Confirmados PDIA</th>\n      <th>Confirmados PDIA 7 días</th>\n      <th>Confirmados PDIA 14 días</th>\n      <th>Población</th>\n      <th>tasa7</th>\n      <th>tasa14</th>\n      <th>Diferencia PDIA</th>\n    </tr>\n    <tr>\n      <th>Lugar de residencia</th>\n      <th></th>\n      <th></th>\n      <th></th>\n      <th></th>\n      <th></th>\n      <th></th>\n      <th></th>\n    </tr>\n  </thead>\n  <tbody>\n    <tr>\n      <th>Huelva</th>\n      <td>30653.0</td>\n      <td>640.0</td>\n      <td>1333.0</td>\n      <td>513170.0</td>\n      <td>124.715007</td>\n      <td>259.757975</td>\n      <td>154.0</td>\n    </tr>\n    <tr>\n      <th>Huelva-Costa</th>\n      <td>17672.0</td>\n      <td>312.0</td>\n      <td>614.0</td>\n      <td>289548.0</td>\n      <td>107.754155</td>\n      <td>212.054651</td>\n      <td>76.0</td>\n    </tr>\n    <tr>\n      <th>Condado-Campiña</th>\n      <td>9936.0</td>\n      <td>279.0</td>\n      <td>605.0</td>\n      <td>156231.0</td>\n      <td>178.581716</td>\n      <td>387.247089</td>\n      <td>73.0</td>\n    </tr>\n    <tr>\n      <th>Huelva (capital)</th>\n      <td>8058.0</td>\n      <td>199.0</td>\n      <td>398.0</td>\n      <td>143837.0</td>\n      <td>138.351050</td>\n      <td>276.702100</td>\n      <td>55.0</td>\n    </tr>\n    <tr>\n      <th>Moguer</th>\n      <td>1248.0</td>\n      <td>49.0</td>\n      <td>115.0</td>\n      <td>21867.0</td>\n      <td>224.081950</td>\n      <td>525.906617</td>\n      <td>12.0</td>\n    </tr>\n    <tr>\n      <th>Almonte</th>\n      <td>1759.0</td>\n      <td>63.0</td>\n      <td>125.0</td>\n      <td>24507.0</td>\n      <td>257.069409</td>\n      <td>510.058351</td>\n      <td>12.0</td>\n    </tr>\n    <tr>\n      <th>San Juan del Puerto</th>\n      <td>488.0</td>\n      <td>16.0</td>\n      <td>27.0</td>\n      <td>9411.0</td>\n      <td>170.013814</td>\n      <td>286.898310</td>\n      <td>8.0</td>\n    </tr>\n    <tr>\n      <th>Palma del Condado (La)</th>\n      <td>1138.0</td>\n      <td>38.0</td>\n      <td>86.0</td>\n      <td>10801.0</td>\n      <td>351.819276</td>\n      <td>796.222572</td>\n      <td>8.0</td>\n    </tr>\n    <tr>\n      <th>Lepe</th>\n      <td>2121.0</td>\n      <td>16.0</td>\n      <td>24.0</td>\n      <td>27880.0</td>\n      <td>57.388809</td>\n      <td>86.083214</td>\n      <td>7.0</td>\n    </tr>\n    <tr>\n      <th>Bollullos Par del Condado</th>\n      <td>959.0</td>\n      <td>26.0</td>\n      <td>79.0</td>\n      <td>14387.0</td>\n      <td>180.718704</td>\n      <td>549.106833</td>\n      <td>6.0</td>\n    </tr>\n    <tr>\n      <th>Palos de la Frontera</th>\n      <td>633.0</td>\n      <td>19.0</td>\n      <td>32.0</td>\n      <td>11742.0</td>\n      <td>161.812298</td>\n      <td>272.525975</td>\n      <td>5.0</td>\n    </tr>\n    <tr>\n      <th>Isla Cristina</th>\n      <td>2139.0</td>\n      <td>15.0</td>\n      <td>39.0</td>\n      <td>21393.0</td>\n      <td>70.116393</td>\n      <td>182.302622</td>\n      <td>5.0</td>\n    </tr>\n    <tr>\n      <th>Gibraleón</th>\n      <td>615.0</td>\n      <td>10.0</td>\n      <td>17.0</td>\n      <td>12737.0</td>\n      <td>78.511423</td>\n      <td>133.469420</td>\n      <td>4.0</td>\n    </tr>\n    <tr>\n      <th>Sierra de Huelva-Andévalo Central</th>\n      <td>2700.0</td>\n      <td>46.0</td>\n      <td>110.0</td>\n      <td>67391.0</td>\n      <td>68.258373</td>\n      <td>163.226544</td>\n      <td>4.0</td>\n    </tr>\n    <tr>\n      <th>Trigueros</th>\n      <td>294.0</td>\n      <td>7.0</td>\n      <td>18.0</td>\n      <td>7862.0</td>\n      <td>89.035869</td>\n      <td>228.949377</td>\n      <td>3.0</td>\n    </tr>\n    <tr>\n      <th>Valverde del Camino</th>\n      <td>542.0</td>\n      <td>20.0</td>\n      <td>53.0</td>\n      <td>12750.0</td>\n      <td>156.862745</td>\n      <td>415.686275</td>\n      <td>3.0</td>\n    </tr>\n    <tr>\n      <th>Punta Umbría</th>\n      <td>798.0</td>\n      <td>28.0</td>\n      <td>53.0</td>\n      <td>15355.0</td>\n      <td>182.351026</td>\n      <td>345.164442</td>\n      <td>3.0</td>\n    </tr>\n    <tr>\n      <th>Aljaraque</th>\n      <td>1057.0</td>\n      <td>24.0</td>\n      <td>38.0</td>\n      <td>21474.0</td>\n      <td>111.763062</td>\n      <td>176.958182</td>\n      <td>3.0</td>\n    </tr>\n    <tr>\n      <th>Manzanilla</th>\n      <td>98.0</td>\n      <td>6.0</td>\n      <td>12.0</td>\n      <td>2118.0</td>\n      <td>283.286119</td>\n      <td>566.572238</td>\n      <td>3.0</td>\n    </tr>\n    <tr>\n      <th>Niebla</th>\n      <td>217.0</td>\n      <td>6.0</td>\n      <td>14.0</td>\n      <td>4116.0</td>\n      <td>145.772595</td>\n      <td>340.136054</td>\n      <td>3.0</td>\n    </tr>\n    <tr>\n      <th>Beas</th>\n      <td>210.0</td>\n      <td>6.0</td>\n      <td>8.0</td>\n      <td>4341.0</td>\n      <td>138.217001</td>\n      <td>184.289334</td>\n      <td>3.0</td>\n    </tr>\n    <tr>\n      <th>San Bartolomé de la Torre</th>\n      <td>293.0</td>\n      <td>4.0</td>\n      <td>10.0</td>\n      <td>3761.0</td>\n      <td>106.354693</td>\n      <td>265.886732</td>\n      <td>2.0</td>\n    </tr>\n    <tr>\n      <th>Lucena del Puerto</th>\n      <td>248.0</td>\n      <td>7.0</td>\n      <td>14.0</td>\n      <td>3261.0</td>\n      <td>214.658080</td>\n      <td>429.316161</td>\n      <td>2.0</td>\n    </tr>\n    <tr>\n      <th>Ayamonte</th>\n      <td>1314.0</td>\n      <td>14.0</td>\n      <td>18.0</td>\n      <td>21104.0</td>\n      <td>66.338135</td>\n      <td>85.291888</td>\n      <td>2.0</td>\n    </tr>\n    <tr>\n      <th>Rociana del Condado</th>\n      <td>544.0</td>\n      <td>7.0</td>\n      <td>13.0</td>\n      <td>7939.0</td>\n      <td>88.172314</td>\n      <td>163.748583</td>\n      <td>1.0</td>\n    </tr>\n    <tr>\n      <th>Cartaya</th>\n      <td>1319.0</td>\n      <td>8.0</td>\n      <td>28.0</td>\n      <td>20083.0</td>\n      <td>39.834686</td>\n      <td>139.421401</td>\n      <td>1.0</td>\n    </tr>\n    <tr>\n      <th>Villarrasa</th>\n      <td>166.0</td>\n      <td>10.0</td>\n      <td>18.0</td>\n      <td>2211.0</td>\n      <td>452.284034</td>\n      <td>814.111262</td>\n      <td>1.0</td>\n    </tr>\n    <tr>\n      <th>Zalamea la Real</th>\n      <td>90.0</td>\n      <td>3.0</td>\n      <td>4.0</td>\n      <td>3054.0</td>\n      <td>98.231827</td>\n      <td>130.975769</td>\n      <td>1.0</td>\n    </tr>\n  </tbody>\n</table>\n</div>"
     },
     "metadata": {},
     "execution_count": 15
    }
   ],
   "source": [
    "# Nuevos casos desde la última captura\n",
    "tabla[tabla['Diferencia PDIA'] != 0].sort_values('Diferencia PDIA', ascending=False)"
   ]
  },
  {
   "cell_type": "code",
   "execution_count": 16,
   "metadata": {},
   "outputs": [],
   "source": [
    "if tabla[tabla['Diferencia PDIA'] != 0]['Diferencia PDIA'].sum() != 0:\n",
    "  # Save to csv\n",
    "  tabla.to_csv('covid_huelva.csv', encoding='utf-8', header=True, index=True)  "
   ]
  },
  {
   "cell_type": "code",
   "execution_count": 17,
   "metadata": {},
   "outputs": [
    {
     "output_type": "execute_result",
     "data": {
      "text/plain": [
       "Medida                             Confirmados PDIA  Confirmados PDIA 7 días  \\\n",
       "Lugar de residencia                                                            \n",
       "Villarrasa                                    166.0                     10.0   \n",
       "Palma del Condado (La)                       1138.0                     38.0   \n",
       "Cabezas Rubias                                 37.0                      3.0   \n",
       "Manzanilla                                     98.0                      6.0   \n",
       "Bollullos Par del Condado                     959.0                     26.0   \n",
       "Calañas                                       189.0                      8.0   \n",
       "Moguer                                       1248.0                     49.0   \n",
       "Almonte                                      1759.0                     63.0   \n",
       "Lucena del Puerto                             248.0                      7.0   \n",
       "Valverde del Camino                           542.0                     20.0   \n",
       "Condado-Campiña                              9936.0                    279.0   \n",
       "Punta Umbría                                  798.0                     28.0   \n",
       "Niebla                                        217.0                      6.0   \n",
       "Cerro de Andévalo (El)                        143.0                      5.0   \n",
       "San Juan del Puerto                           488.0                     16.0   \n",
       "Campofrío                                       9.0                      2.0   \n",
       "Huelva (capital)                             8058.0                    199.0   \n",
       "Palos de la Frontera                          633.0                     19.0   \n",
       "San Bartolomé de la Torre                     293.0                      4.0   \n",
       "Huelva                                      30653.0                    640.0   \n",
       "Nerva                                         174.0                      4.0   \n",
       "Trigueros                                     294.0                      7.0   \n",
       "Huelva-Costa                                17672.0                    312.0   \n",
       "Villalba del Alcor                            481.0                      1.0   \n",
       "Beas                                          210.0                      6.0   \n",
       "Isla Cristina                                2139.0                     15.0   \n",
       "Aljaraque                                    1057.0                     24.0   \n",
       "Rociana del Condado                           544.0                      7.0   \n",
       "Sierra de Huelva-Andévalo Central            2700.0                     46.0   \n",
       "Zarza-Perrunal (La)                            24.0                      1.0   \n",
       "Cartaya                                      1319.0                      8.0   \n",
       "Gibraleón                                     615.0                     10.0   \n",
       "Zalamea la Real                                90.0                      3.0   \n",
       "Santa Bárbara de Casa                          15.0                      1.0   \n",
       "Lepe                                         2121.0                     16.0   \n",
       "Paymogo                                        75.0                      1.0   \n",
       "Ayamonte                                     1314.0                     14.0   \n",
       "Bonares                                       264.0                      3.0   \n",
       "Puebla de Guzmán                              113.0                      2.0   \n",
       "Aracena                                       518.0                      2.0   \n",
       "Paterna del Campo                             127.0                      1.0   \n",
       "Villanueva de los Castillejos                 158.0                      1.0   \n",
       "Cortegana                                     201.0                      1.0   \n",
       "\n",
       "Medida                             Confirmados PDIA 14 días  Población  \\\n",
       "Lugar de residencia                                                      \n",
       "Villarrasa                                             18.0     2211.0   \n",
       "Palma del Condado (La)                                 86.0    10801.0   \n",
       "Cabezas Rubias                                          5.0      706.0   \n",
       "Manzanilla                                             12.0     2118.0   \n",
       "Bollullos Par del Condado                              79.0    14387.0   \n",
       "Calañas                                                15.0     2768.0   \n",
       "Moguer                                                115.0    21867.0   \n",
       "Almonte                                               125.0    24507.0   \n",
       "Lucena del Puerto                                      14.0     3261.0   \n",
       "Valverde del Camino                                    53.0    12750.0   \n",
       "Condado-Campiña                                       605.0   156231.0   \n",
       "Punta Umbría                                           53.0    15355.0   \n",
       "Niebla                                                 14.0     4116.0   \n",
       "Cerro de Andévalo (El)                                  7.0     2327.0   \n",
       "San Juan del Puerto                                    27.0     9411.0   \n",
       "Campofrío                                               2.0      713.0   \n",
       "Huelva (capital)                                      398.0   143837.0   \n",
       "Palos de la Frontera                                   32.0    11742.0   \n",
       "San Bartolomé de la Torre                              10.0     3761.0   \n",
       "Huelva                                               1333.0   513170.0   \n",
       "Nerva                                                  12.0     5169.0   \n",
       "Trigueros                                              18.0     7862.0   \n",
       "Huelva-Costa                                          614.0   289548.0   \n",
       "Villalba del Alcor                                      7.0     3366.0   \n",
       "Beas                                                    8.0     4341.0   \n",
       "Isla Cristina                                          39.0    21393.0   \n",
       "Aljaraque                                              38.0    21474.0   \n",
       "Rociana del Condado                                    13.0     7939.0   \n",
       "Sierra de Huelva-Andévalo Central                     110.0    67391.0   \n",
       "Zarza-Perrunal (La)                                     2.0     1253.0   \n",
       "Cartaya                                                28.0    20083.0   \n",
       "Gibraleón                                              17.0    12737.0   \n",
       "Zalamea la Real                                         4.0     3054.0   \n",
       "Santa Bárbara de Casa                                   1.0     1043.0   \n",
       "Lepe                                                   24.0    27880.0   \n",
       "Paymogo                                                 1.0     1162.0   \n",
       "Ayamonte                                               18.0    21104.0   \n",
       "Bonares                                                 5.0     6060.0   \n",
       "Puebla de Guzmán                                        2.0     3092.0   \n",
       "Aracena                                                 5.0     8255.0   \n",
       "Paterna del Campo                                       2.0     3457.0   \n",
       "Villanueva de los Castillejos                           1.0     2825.0   \n",
       "Cortegana                                               1.0     4602.0   \n",
       "\n",
       "Medida                                  tasa7      tasa14  Diferencia PDIA  \n",
       "Lugar de residencia                                                         \n",
       "Villarrasa                         452.284034  814.111262              1.0  \n",
       "Palma del Condado (La)             351.819276  796.222572              8.0  \n",
       "Cabezas Rubias                     424.929178  708.215297              0.0  \n",
       "Manzanilla                         283.286119  566.572238              3.0  \n",
       "Bollullos Par del Condado          180.718704  549.106833              6.0  \n",
       "Calañas                            289.017341  541.907514              0.0  \n",
       "Moguer                             224.081950  525.906617             12.0  \n",
       "Almonte                            257.069409  510.058351             12.0  \n",
       "Lucena del Puerto                  214.658080  429.316161              2.0  \n",
       "Valverde del Camino                156.862745  415.686275              3.0  \n",
       "Condado-Campiña                    178.581716  387.247089             73.0  \n",
       "Punta Umbría                       182.351026  345.164442              3.0  \n",
       "Niebla                             145.772595  340.136054              3.0  \n",
       "Cerro de Andévalo (El)             214.868930  300.816502              0.0  \n",
       "San Juan del Puerto                170.013814  286.898310              8.0  \n",
       "Campofrío                          280.504909  280.504909              0.0  \n",
       "Huelva (capital)                   138.351050  276.702100             55.0  \n",
       "Palos de la Frontera               161.812298  272.525975              5.0  \n",
       "San Bartolomé de la Torre          106.354693  265.886732              2.0  \n",
       "Huelva                             124.715007  259.757975            154.0  \n",
       "Nerva                               77.384407  232.153221              0.0  \n",
       "Trigueros                           89.035869  228.949377              3.0  \n",
       "Huelva-Costa                       107.754155  212.054651             76.0  \n",
       "Villalba del Alcor                  29.708853  207.961973              0.0  \n",
       "Beas                               138.217001  184.289334              3.0  \n",
       "Isla Cristina                       70.116393  182.302622              5.0  \n",
       "Aljaraque                          111.763062  176.958182              3.0  \n",
       "Rociana del Condado                 88.172314  163.748583              1.0  \n",
       "Sierra de Huelva-Andévalo Central   68.258373  163.226544              4.0  \n",
       "Zarza-Perrunal (La)                 79.808460  159.616919              0.0  \n",
       "Cartaya                             39.834686  139.421401              1.0  \n",
       "Gibraleón                           78.511423  133.469420              4.0  \n",
       "Zalamea la Real                     98.231827  130.975769              1.0  \n",
       "Santa Bárbara de Casa               95.877277   95.877277              0.0  \n",
       "Lepe                                57.388809   86.083214              7.0  \n",
       "Paymogo                             86.058520   86.058520              0.0  \n",
       "Ayamonte                            66.338135   85.291888              2.0  \n",
       "Bonares                             49.504950   82.508251              0.0  \n",
       "Puebla de Guzmán                    64.683053   64.683053              0.0  \n",
       "Aracena                             24.227741   60.569352              0.0  \n",
       "Paterna del Campo                   28.926815   57.853630              0.0  \n",
       "Villanueva de los Castillejos       35.398230   35.398230              0.0  \n",
       "Cortegana                           21.729683   21.729683              0.0  "
      ],
      "text/html": "<div>\n<style scoped>\n    .dataframe tbody tr th:only-of-type {\n        vertical-align: middle;\n    }\n\n    .dataframe tbody tr th {\n        vertical-align: top;\n    }\n\n    .dataframe thead th {\n        text-align: right;\n    }\n</style>\n<table border=\"1\" class=\"dataframe\">\n  <thead>\n    <tr style=\"text-align: right;\">\n      <th>Medida</th>\n      <th>Confirmados PDIA</th>\n      <th>Confirmados PDIA 7 días</th>\n      <th>Confirmados PDIA 14 días</th>\n      <th>Población</th>\n      <th>tasa7</th>\n      <th>tasa14</th>\n      <th>Diferencia PDIA</th>\n    </tr>\n    <tr>\n      <th>Lugar de residencia</th>\n      <th></th>\n      <th></th>\n      <th></th>\n      <th></th>\n      <th></th>\n      <th></th>\n      <th></th>\n    </tr>\n  </thead>\n  <tbody>\n    <tr>\n      <th>Villarrasa</th>\n      <td>166.0</td>\n      <td>10.0</td>\n      <td>18.0</td>\n      <td>2211.0</td>\n      <td>452.284034</td>\n      <td>814.111262</td>\n      <td>1.0</td>\n    </tr>\n    <tr>\n      <th>Palma del Condado (La)</th>\n      <td>1138.0</td>\n      <td>38.0</td>\n      <td>86.0</td>\n      <td>10801.0</td>\n      <td>351.819276</td>\n      <td>796.222572</td>\n      <td>8.0</td>\n    </tr>\n    <tr>\n      <th>Cabezas Rubias</th>\n      <td>37.0</td>\n      <td>3.0</td>\n      <td>5.0</td>\n      <td>706.0</td>\n      <td>424.929178</td>\n      <td>708.215297</td>\n      <td>0.0</td>\n    </tr>\n    <tr>\n      <th>Manzanilla</th>\n      <td>98.0</td>\n      <td>6.0</td>\n      <td>12.0</td>\n      <td>2118.0</td>\n      <td>283.286119</td>\n      <td>566.572238</td>\n      <td>3.0</td>\n    </tr>\n    <tr>\n      <th>Bollullos Par del Condado</th>\n      <td>959.0</td>\n      <td>26.0</td>\n      <td>79.0</td>\n      <td>14387.0</td>\n      <td>180.718704</td>\n      <td>549.106833</td>\n      <td>6.0</td>\n    </tr>\n    <tr>\n      <th>Calañas</th>\n      <td>189.0</td>\n      <td>8.0</td>\n      <td>15.0</td>\n      <td>2768.0</td>\n      <td>289.017341</td>\n      <td>541.907514</td>\n      <td>0.0</td>\n    </tr>\n    <tr>\n      <th>Moguer</th>\n      <td>1248.0</td>\n      <td>49.0</td>\n      <td>115.0</td>\n      <td>21867.0</td>\n      <td>224.081950</td>\n      <td>525.906617</td>\n      <td>12.0</td>\n    </tr>\n    <tr>\n      <th>Almonte</th>\n      <td>1759.0</td>\n      <td>63.0</td>\n      <td>125.0</td>\n      <td>24507.0</td>\n      <td>257.069409</td>\n      <td>510.058351</td>\n      <td>12.0</td>\n    </tr>\n    <tr>\n      <th>Lucena del Puerto</th>\n      <td>248.0</td>\n      <td>7.0</td>\n      <td>14.0</td>\n      <td>3261.0</td>\n      <td>214.658080</td>\n      <td>429.316161</td>\n      <td>2.0</td>\n    </tr>\n    <tr>\n      <th>Valverde del Camino</th>\n      <td>542.0</td>\n      <td>20.0</td>\n      <td>53.0</td>\n      <td>12750.0</td>\n      <td>156.862745</td>\n      <td>415.686275</td>\n      <td>3.0</td>\n    </tr>\n    <tr>\n      <th>Condado-Campiña</th>\n      <td>9936.0</td>\n      <td>279.0</td>\n      <td>605.0</td>\n      <td>156231.0</td>\n      <td>178.581716</td>\n      <td>387.247089</td>\n      <td>73.0</td>\n    </tr>\n    <tr>\n      <th>Punta Umbría</th>\n      <td>798.0</td>\n      <td>28.0</td>\n      <td>53.0</td>\n      <td>15355.0</td>\n      <td>182.351026</td>\n      <td>345.164442</td>\n      <td>3.0</td>\n    </tr>\n    <tr>\n      <th>Niebla</th>\n      <td>217.0</td>\n      <td>6.0</td>\n      <td>14.0</td>\n      <td>4116.0</td>\n      <td>145.772595</td>\n      <td>340.136054</td>\n      <td>3.0</td>\n    </tr>\n    <tr>\n      <th>Cerro de Andévalo (El)</th>\n      <td>143.0</td>\n      <td>5.0</td>\n      <td>7.0</td>\n      <td>2327.0</td>\n      <td>214.868930</td>\n      <td>300.816502</td>\n      <td>0.0</td>\n    </tr>\n    <tr>\n      <th>San Juan del Puerto</th>\n      <td>488.0</td>\n      <td>16.0</td>\n      <td>27.0</td>\n      <td>9411.0</td>\n      <td>170.013814</td>\n      <td>286.898310</td>\n      <td>8.0</td>\n    </tr>\n    <tr>\n      <th>Campofrío</th>\n      <td>9.0</td>\n      <td>2.0</td>\n      <td>2.0</td>\n      <td>713.0</td>\n      <td>280.504909</td>\n      <td>280.504909</td>\n      <td>0.0</td>\n    </tr>\n    <tr>\n      <th>Huelva (capital)</th>\n      <td>8058.0</td>\n      <td>199.0</td>\n      <td>398.0</td>\n      <td>143837.0</td>\n      <td>138.351050</td>\n      <td>276.702100</td>\n      <td>55.0</td>\n    </tr>\n    <tr>\n      <th>Palos de la Frontera</th>\n      <td>633.0</td>\n      <td>19.0</td>\n      <td>32.0</td>\n      <td>11742.0</td>\n      <td>161.812298</td>\n      <td>272.525975</td>\n      <td>5.0</td>\n    </tr>\n    <tr>\n      <th>San Bartolomé de la Torre</th>\n      <td>293.0</td>\n      <td>4.0</td>\n      <td>10.0</td>\n      <td>3761.0</td>\n      <td>106.354693</td>\n      <td>265.886732</td>\n      <td>2.0</td>\n    </tr>\n    <tr>\n      <th>Huelva</th>\n      <td>30653.0</td>\n      <td>640.0</td>\n      <td>1333.0</td>\n      <td>513170.0</td>\n      <td>124.715007</td>\n      <td>259.757975</td>\n      <td>154.0</td>\n    </tr>\n    <tr>\n      <th>Nerva</th>\n      <td>174.0</td>\n      <td>4.0</td>\n      <td>12.0</td>\n      <td>5169.0</td>\n      <td>77.384407</td>\n      <td>232.153221</td>\n      <td>0.0</td>\n    </tr>\n    <tr>\n      <th>Trigueros</th>\n      <td>294.0</td>\n      <td>7.0</td>\n      <td>18.0</td>\n      <td>7862.0</td>\n      <td>89.035869</td>\n      <td>228.949377</td>\n      <td>3.0</td>\n    </tr>\n    <tr>\n      <th>Huelva-Costa</th>\n      <td>17672.0</td>\n      <td>312.0</td>\n      <td>614.0</td>\n      <td>289548.0</td>\n      <td>107.754155</td>\n      <td>212.054651</td>\n      <td>76.0</td>\n    </tr>\n    <tr>\n      <th>Villalba del Alcor</th>\n      <td>481.0</td>\n      <td>1.0</td>\n      <td>7.0</td>\n      <td>3366.0</td>\n      <td>29.708853</td>\n      <td>207.961973</td>\n      <td>0.0</td>\n    </tr>\n    <tr>\n      <th>Beas</th>\n      <td>210.0</td>\n      <td>6.0</td>\n      <td>8.0</td>\n      <td>4341.0</td>\n      <td>138.217001</td>\n      <td>184.289334</td>\n      <td>3.0</td>\n    </tr>\n    <tr>\n      <th>Isla Cristina</th>\n      <td>2139.0</td>\n      <td>15.0</td>\n      <td>39.0</td>\n      <td>21393.0</td>\n      <td>70.116393</td>\n      <td>182.302622</td>\n      <td>5.0</td>\n    </tr>\n    <tr>\n      <th>Aljaraque</th>\n      <td>1057.0</td>\n      <td>24.0</td>\n      <td>38.0</td>\n      <td>21474.0</td>\n      <td>111.763062</td>\n      <td>176.958182</td>\n      <td>3.0</td>\n    </tr>\n    <tr>\n      <th>Rociana del Condado</th>\n      <td>544.0</td>\n      <td>7.0</td>\n      <td>13.0</td>\n      <td>7939.0</td>\n      <td>88.172314</td>\n      <td>163.748583</td>\n      <td>1.0</td>\n    </tr>\n    <tr>\n      <th>Sierra de Huelva-Andévalo Central</th>\n      <td>2700.0</td>\n      <td>46.0</td>\n      <td>110.0</td>\n      <td>67391.0</td>\n      <td>68.258373</td>\n      <td>163.226544</td>\n      <td>4.0</td>\n    </tr>\n    <tr>\n      <th>Zarza-Perrunal (La)</th>\n      <td>24.0</td>\n      <td>1.0</td>\n      <td>2.0</td>\n      <td>1253.0</td>\n      <td>79.808460</td>\n      <td>159.616919</td>\n      <td>0.0</td>\n    </tr>\n    <tr>\n      <th>Cartaya</th>\n      <td>1319.0</td>\n      <td>8.0</td>\n      <td>28.0</td>\n      <td>20083.0</td>\n      <td>39.834686</td>\n      <td>139.421401</td>\n      <td>1.0</td>\n    </tr>\n    <tr>\n      <th>Gibraleón</th>\n      <td>615.0</td>\n      <td>10.0</td>\n      <td>17.0</td>\n      <td>12737.0</td>\n      <td>78.511423</td>\n      <td>133.469420</td>\n      <td>4.0</td>\n    </tr>\n    <tr>\n      <th>Zalamea la Real</th>\n      <td>90.0</td>\n      <td>3.0</td>\n      <td>4.0</td>\n      <td>3054.0</td>\n      <td>98.231827</td>\n      <td>130.975769</td>\n      <td>1.0</td>\n    </tr>\n    <tr>\n      <th>Santa Bárbara de Casa</th>\n      <td>15.0</td>\n      <td>1.0</td>\n      <td>1.0</td>\n      <td>1043.0</td>\n      <td>95.877277</td>\n      <td>95.877277</td>\n      <td>0.0</td>\n    </tr>\n    <tr>\n      <th>Lepe</th>\n      <td>2121.0</td>\n      <td>16.0</td>\n      <td>24.0</td>\n      <td>27880.0</td>\n      <td>57.388809</td>\n      <td>86.083214</td>\n      <td>7.0</td>\n    </tr>\n    <tr>\n      <th>Paymogo</th>\n      <td>75.0</td>\n      <td>1.0</td>\n      <td>1.0</td>\n      <td>1162.0</td>\n      <td>86.058520</td>\n      <td>86.058520</td>\n      <td>0.0</td>\n    </tr>\n    <tr>\n      <th>Ayamonte</th>\n      <td>1314.0</td>\n      <td>14.0</td>\n      <td>18.0</td>\n      <td>21104.0</td>\n      <td>66.338135</td>\n      <td>85.291888</td>\n      <td>2.0</td>\n    </tr>\n    <tr>\n      <th>Bonares</th>\n      <td>264.0</td>\n      <td>3.0</td>\n      <td>5.0</td>\n      <td>6060.0</td>\n      <td>49.504950</td>\n      <td>82.508251</td>\n      <td>0.0</td>\n    </tr>\n    <tr>\n      <th>Puebla de Guzmán</th>\n      <td>113.0</td>\n      <td>2.0</td>\n      <td>2.0</td>\n      <td>3092.0</td>\n      <td>64.683053</td>\n      <td>64.683053</td>\n      <td>0.0</td>\n    </tr>\n    <tr>\n      <th>Aracena</th>\n      <td>518.0</td>\n      <td>2.0</td>\n      <td>5.0</td>\n      <td>8255.0</td>\n      <td>24.227741</td>\n      <td>60.569352</td>\n      <td>0.0</td>\n    </tr>\n    <tr>\n      <th>Paterna del Campo</th>\n      <td>127.0</td>\n      <td>1.0</td>\n      <td>2.0</td>\n      <td>3457.0</td>\n      <td>28.926815</td>\n      <td>57.853630</td>\n      <td>0.0</td>\n    </tr>\n    <tr>\n      <th>Villanueva de los Castillejos</th>\n      <td>158.0</td>\n      <td>1.0</td>\n      <td>1.0</td>\n      <td>2825.0</td>\n      <td>35.398230</td>\n      <td>35.398230</td>\n      <td>0.0</td>\n    </tr>\n    <tr>\n      <th>Cortegana</th>\n      <td>201.0</td>\n      <td>1.0</td>\n      <td>1.0</td>\n      <td>4602.0</td>\n      <td>21.729683</td>\n      <td>21.729683</td>\n      <td>0.0</td>\n    </tr>\n  </tbody>\n</table>\n</div>"
     },
     "metadata": {},
     "execution_count": 17
    }
   ],
   "source": [
    "tabla.sort_values('tasa14', ascending=False)"
   ]
  },
  {
   "cell_type": "code",
   "execution_count": 18,
   "metadata": {},
   "outputs": [
    {
     "output_type": "execute_result",
     "data": {
      "text/plain": [
       "Medida                             Confirmados PDIA  Confirmados PDIA 7 días  \\\n",
       "Lugar de residencia                                                            \n",
       "Villalba del Alcor                            481.0                      1.0   \n",
       "Cartaya                                      1319.0                      8.0   \n",
       "Bollullos Par del Condado                     959.0                     26.0   \n",
       "Nerva                                         174.0                      4.0   \n",
       "Valverde del Camino                           542.0                     20.0   \n",
       "Isla Cristina                                2139.0                     15.0   \n",
       "Trigueros                                     294.0                      7.0   \n",
       "Aracena                                       518.0                      2.0   \n",
       "San Bartolomé de la Torre                     293.0                      4.0   \n",
       "Sierra de Huelva-Andévalo Central            2700.0                     46.0   \n",
       "Moguer                                       1248.0                     49.0   \n",
       "Niebla                                        217.0                      6.0   \n",
       "Palma del Condado (La)                       1138.0                     38.0   \n",
       "Condado-Campiña                              9936.0                    279.0   \n",
       "Huelva                                      30653.0                    640.0   \n",
       "Manzanilla                                     98.0                      6.0   \n",
       "Lucena del Puerto                             248.0                      7.0   \n",
       "Paterna del Campo                             127.0                      1.0   \n",
       "Zarza-Perrunal (La)                            24.0                      1.0   \n",
       "Huelva (capital)                             8058.0                    199.0   \n",
       "Almonte                                      1759.0                     63.0   \n",
       "Huelva-Costa                                17672.0                    312.0   \n",
       "Punta Umbría                                  798.0                     28.0   \n",
       "Calañas                                       189.0                      8.0   \n",
       "Rociana del Condado                           544.0                      7.0   \n",
       "Villarrasa                                    166.0                     10.0   \n",
       "Gibraleón                                     615.0                     10.0   \n",
       "San Juan del Puerto                           488.0                     16.0   \n",
       "Palos de la Frontera                          633.0                     19.0   \n",
       "Bonares                                       264.0                      3.0   \n",
       "Cabezas Rubias                                 37.0                      3.0   \n",
       "Aljaraque                                    1057.0                     24.0   \n",
       "Lepe                                         2121.0                     16.0   \n",
       "Cerro de Andévalo (El)                        143.0                      5.0   \n",
       "Zalamea la Real                                90.0                      3.0   \n",
       "Beas                                          210.0                      6.0   \n",
       "Ayamonte                                     1314.0                     14.0   \n",
       "Paymogo                                        75.0                      1.0   \n",
       "Campofrío                                       9.0                      2.0   \n",
       "Santa Bárbara de Casa                          15.0                      1.0   \n",
       "Cortegana                                     201.0                      1.0   \n",
       "Villanueva de los Castillejos                 158.0                      1.0   \n",
       "Puebla de Guzmán                              113.0                      2.0   \n",
       "\n",
       "Medida                             Confirmados PDIA 14 días  Población  \\\n",
       "Lugar de residencia                                                      \n",
       "Villalba del Alcor                                      7.0     3366.0   \n",
       "Cartaya                                                28.0    20083.0   \n",
       "Bollullos Par del Condado                              79.0    14387.0   \n",
       "Nerva                                                  12.0     5169.0   \n",
       "Valverde del Camino                                    53.0    12750.0   \n",
       "Isla Cristina                                          39.0    21393.0   \n",
       "Trigueros                                              18.0     7862.0   \n",
       "Aracena                                                 5.0     8255.0   \n",
       "San Bartolomé de la Torre                              10.0     3761.0   \n",
       "Sierra de Huelva-Andévalo Central                     110.0    67391.0   \n",
       "Moguer                                                115.0    21867.0   \n",
       "Niebla                                                 14.0     4116.0   \n",
       "Palma del Condado (La)                                 86.0    10801.0   \n",
       "Condado-Campiña                                       605.0   156231.0   \n",
       "Huelva                                               1333.0   513170.0   \n",
       "Manzanilla                                             12.0     2118.0   \n",
       "Lucena del Puerto                                      14.0     3261.0   \n",
       "Paterna del Campo                                       2.0     3457.0   \n",
       "Zarza-Perrunal (La)                                     2.0     1253.0   \n",
       "Huelva (capital)                                      398.0   143837.0   \n",
       "Almonte                                               125.0    24507.0   \n",
       "Huelva-Costa                                          614.0   289548.0   \n",
       "Punta Umbría                                           53.0    15355.0   \n",
       "Calañas                                                15.0     2768.0   \n",
       "Rociana del Condado                                    13.0     7939.0   \n",
       "Villarrasa                                             18.0     2211.0   \n",
       "Gibraleón                                              17.0    12737.0   \n",
       "San Juan del Puerto                                    27.0     9411.0   \n",
       "Palos de la Frontera                                   32.0    11742.0   \n",
       "Bonares                                                 5.0     6060.0   \n",
       "Cabezas Rubias                                          5.0      706.0   \n",
       "Aljaraque                                              38.0    21474.0   \n",
       "Lepe                                                   24.0    27880.0   \n",
       "Cerro de Andévalo (El)                                  7.0     2327.0   \n",
       "Zalamea la Real                                         4.0     3054.0   \n",
       "Beas                                                    8.0     4341.0   \n",
       "Ayamonte                                               18.0    21104.0   \n",
       "Paymogo                                                 1.0     1162.0   \n",
       "Campofrío                                               2.0      713.0   \n",
       "Santa Bárbara de Casa                                   1.0     1043.0   \n",
       "Cortegana                                               1.0     4602.0   \n",
       "Villanueva de los Castillejos                           1.0     2825.0   \n",
       "Puebla de Guzmán                                        2.0     3092.0   \n",
       "\n",
       "Medida                                  tasa7      tasa14  Diferencia PDIA  \\\n",
       "Lugar de residencia                                                          \n",
       "Villalba del Alcor                  29.708853  207.961973              0.0   \n",
       "Cartaya                             39.834686  139.421401              1.0   \n",
       "Bollullos Par del Condado          180.718704  549.106833              6.0   \n",
       "Nerva                               77.384407  232.153221              0.0   \n",
       "Valverde del Camino                156.862745  415.686275              3.0   \n",
       "Isla Cristina                       70.116393  182.302622              5.0   \n",
       "Trigueros                           89.035869  228.949377              3.0   \n",
       "Aracena                             24.227741   60.569352              0.0   \n",
       "San Bartolomé de la Torre          106.354693  265.886732              2.0   \n",
       "Sierra de Huelva-Andévalo Central   68.258373  163.226544              4.0   \n",
       "Moguer                             224.081950  525.906617             12.0   \n",
       "Niebla                             145.772595  340.136054              3.0   \n",
       "Palma del Condado (La)             351.819276  796.222572              8.0   \n",
       "Condado-Campiña                    178.581716  387.247089             73.0   \n",
       "Huelva                             124.715007  259.757975            154.0   \n",
       "Manzanilla                         283.286119  566.572238              3.0   \n",
       "Lucena del Puerto                  214.658080  429.316161              2.0   \n",
       "Paterna del Campo                   28.926815   57.853630              0.0   \n",
       "Zarza-Perrunal (La)                 79.808460  159.616919              0.0   \n",
       "Huelva (capital)                   138.351050  276.702100             55.0   \n",
       "Almonte                            257.069409  510.058351             12.0   \n",
       "Huelva-Costa                       107.754155  212.054651             76.0   \n",
       "Punta Umbría                       182.351026  345.164442              3.0   \n",
       "Calañas                            289.017341  541.907514              0.0   \n",
       "Rociana del Condado                 88.172314  163.748583              1.0   \n",
       "Villarrasa                         452.284034  814.111262              1.0   \n",
       "Gibraleón                           78.511423  133.469420              4.0   \n",
       "San Juan del Puerto                170.013814  286.898310              8.0   \n",
       "Palos de la Frontera               161.812298  272.525975              5.0   \n",
       "Bonares                             49.504950   82.508251              0.0   \n",
       "Cabezas Rubias                     424.929178  708.215297              0.0   \n",
       "Aljaraque                          111.763062  176.958182              3.0   \n",
       "Lepe                                57.388809   86.083214              7.0   \n",
       "Cerro de Andévalo (El)             214.868930  300.816502              0.0   \n",
       "Zalamea la Real                     98.231827  130.975769              1.0   \n",
       "Beas                               138.217001  184.289334              3.0   \n",
       "Ayamonte                            66.338135   85.291888              2.0   \n",
       "Paymogo                             86.058520   86.058520              0.0   \n",
       "Campofrío                          280.504909  280.504909              0.0   \n",
       "Santa Bárbara de Casa               95.877277   95.877277              0.0   \n",
       "Cortegana                           21.729683   21.729683              0.0   \n",
       "Villanueva de los Castillejos       35.398230   35.398230              0.0   \n",
       "Puebla de Guzmán                    64.683053   64.683053              0.0   \n",
       "\n",
       "Medida                                 7/14  \n",
       "Lugar de residencia                          \n",
       "Villalba del Alcor                 0.142857  \n",
       "Cartaya                            0.285714  \n",
       "Bollullos Par del Condado          0.329114  \n",
       "Nerva                              0.333333  \n",
       "Valverde del Camino                0.377358  \n",
       "Isla Cristina                      0.384615  \n",
       "Trigueros                          0.388889  \n",
       "Aracena                            0.400000  \n",
       "San Bartolomé de la Torre          0.400000  \n",
       "Sierra de Huelva-Andévalo Central  0.418182  \n",
       "Moguer                             0.426087  \n",
       "Niebla                             0.428571  \n",
       "Palma del Condado (La)             0.441860  \n",
       "Condado-Campiña                    0.461157  \n",
       "Huelva                             0.480120  \n",
       "Manzanilla                         0.500000  \n",
       "Lucena del Puerto                  0.500000  \n",
       "Paterna del Campo                  0.500000  \n",
       "Zarza-Perrunal (La)                0.500000  \n",
       "Huelva (capital)                   0.500000  \n",
       "Almonte                            0.504000  \n",
       "Huelva-Costa                       0.508143  \n",
       "Punta Umbría                       0.528302  \n",
       "Calañas                            0.533333  \n",
       "Rociana del Condado                0.538462  \n",
       "Villarrasa                         0.555556  \n",
       "Gibraleón                          0.588235  \n",
       "San Juan del Puerto                0.592593  \n",
       "Palos de la Frontera               0.593750  \n",
       "Bonares                            0.600000  \n",
       "Cabezas Rubias                     0.600000  \n",
       "Aljaraque                          0.631579  \n",
       "Lepe                               0.666667  \n",
       "Cerro de Andévalo (El)             0.714286  \n",
       "Zalamea la Real                    0.750000  \n",
       "Beas                               0.750000  \n",
       "Ayamonte                           0.777778  \n",
       "Paymogo                            1.000000  \n",
       "Campofrío                          1.000000  \n",
       "Santa Bárbara de Casa              1.000000  \n",
       "Cortegana                          1.000000  \n",
       "Villanueva de los Castillejos      1.000000  \n",
       "Puebla de Guzmán                   1.000000  "
      ],
      "text/html": "<div>\n<style scoped>\n    .dataframe tbody tr th:only-of-type {\n        vertical-align: middle;\n    }\n\n    .dataframe tbody tr th {\n        vertical-align: top;\n    }\n\n    .dataframe thead th {\n        text-align: right;\n    }\n</style>\n<table border=\"1\" class=\"dataframe\">\n  <thead>\n    <tr style=\"text-align: right;\">\n      <th>Medida</th>\n      <th>Confirmados PDIA</th>\n      <th>Confirmados PDIA 7 días</th>\n      <th>Confirmados PDIA 14 días</th>\n      <th>Población</th>\n      <th>tasa7</th>\n      <th>tasa14</th>\n      <th>Diferencia PDIA</th>\n      <th>7/14</th>\n    </tr>\n    <tr>\n      <th>Lugar de residencia</th>\n      <th></th>\n      <th></th>\n      <th></th>\n      <th></th>\n      <th></th>\n      <th></th>\n      <th></th>\n      <th></th>\n    </tr>\n  </thead>\n  <tbody>\n    <tr>\n      <th>Villalba del Alcor</th>\n      <td>481.0</td>\n      <td>1.0</td>\n      <td>7.0</td>\n      <td>3366.0</td>\n      <td>29.708853</td>\n      <td>207.961973</td>\n      <td>0.0</td>\n      <td>0.142857</td>\n    </tr>\n    <tr>\n      <th>Cartaya</th>\n      <td>1319.0</td>\n      <td>8.0</td>\n      <td>28.0</td>\n      <td>20083.0</td>\n      <td>39.834686</td>\n      <td>139.421401</td>\n      <td>1.0</td>\n      <td>0.285714</td>\n    </tr>\n    <tr>\n      <th>Bollullos Par del Condado</th>\n      <td>959.0</td>\n      <td>26.0</td>\n      <td>79.0</td>\n      <td>14387.0</td>\n      <td>180.718704</td>\n      <td>549.106833</td>\n      <td>6.0</td>\n      <td>0.329114</td>\n    </tr>\n    <tr>\n      <th>Nerva</th>\n      <td>174.0</td>\n      <td>4.0</td>\n      <td>12.0</td>\n      <td>5169.0</td>\n      <td>77.384407</td>\n      <td>232.153221</td>\n      <td>0.0</td>\n      <td>0.333333</td>\n    </tr>\n    <tr>\n      <th>Valverde del Camino</th>\n      <td>542.0</td>\n      <td>20.0</td>\n      <td>53.0</td>\n      <td>12750.0</td>\n      <td>156.862745</td>\n      <td>415.686275</td>\n      <td>3.0</td>\n      <td>0.377358</td>\n    </tr>\n    <tr>\n      <th>Isla Cristina</th>\n      <td>2139.0</td>\n      <td>15.0</td>\n      <td>39.0</td>\n      <td>21393.0</td>\n      <td>70.116393</td>\n      <td>182.302622</td>\n      <td>5.0</td>\n      <td>0.384615</td>\n    </tr>\n    <tr>\n      <th>Trigueros</th>\n      <td>294.0</td>\n      <td>7.0</td>\n      <td>18.0</td>\n      <td>7862.0</td>\n      <td>89.035869</td>\n      <td>228.949377</td>\n      <td>3.0</td>\n      <td>0.388889</td>\n    </tr>\n    <tr>\n      <th>Aracena</th>\n      <td>518.0</td>\n      <td>2.0</td>\n      <td>5.0</td>\n      <td>8255.0</td>\n      <td>24.227741</td>\n      <td>60.569352</td>\n      <td>0.0</td>\n      <td>0.400000</td>\n    </tr>\n    <tr>\n      <th>San Bartolomé de la Torre</th>\n      <td>293.0</td>\n      <td>4.0</td>\n      <td>10.0</td>\n      <td>3761.0</td>\n      <td>106.354693</td>\n      <td>265.886732</td>\n      <td>2.0</td>\n      <td>0.400000</td>\n    </tr>\n    <tr>\n      <th>Sierra de Huelva-Andévalo Central</th>\n      <td>2700.0</td>\n      <td>46.0</td>\n      <td>110.0</td>\n      <td>67391.0</td>\n      <td>68.258373</td>\n      <td>163.226544</td>\n      <td>4.0</td>\n      <td>0.418182</td>\n    </tr>\n    <tr>\n      <th>Moguer</th>\n      <td>1248.0</td>\n      <td>49.0</td>\n      <td>115.0</td>\n      <td>21867.0</td>\n      <td>224.081950</td>\n      <td>525.906617</td>\n      <td>12.0</td>\n      <td>0.426087</td>\n    </tr>\n    <tr>\n      <th>Niebla</th>\n      <td>217.0</td>\n      <td>6.0</td>\n      <td>14.0</td>\n      <td>4116.0</td>\n      <td>145.772595</td>\n      <td>340.136054</td>\n      <td>3.0</td>\n      <td>0.428571</td>\n    </tr>\n    <tr>\n      <th>Palma del Condado (La)</th>\n      <td>1138.0</td>\n      <td>38.0</td>\n      <td>86.0</td>\n      <td>10801.0</td>\n      <td>351.819276</td>\n      <td>796.222572</td>\n      <td>8.0</td>\n      <td>0.441860</td>\n    </tr>\n    <tr>\n      <th>Condado-Campiña</th>\n      <td>9936.0</td>\n      <td>279.0</td>\n      <td>605.0</td>\n      <td>156231.0</td>\n      <td>178.581716</td>\n      <td>387.247089</td>\n      <td>73.0</td>\n      <td>0.461157</td>\n    </tr>\n    <tr>\n      <th>Huelva</th>\n      <td>30653.0</td>\n      <td>640.0</td>\n      <td>1333.0</td>\n      <td>513170.0</td>\n      <td>124.715007</td>\n      <td>259.757975</td>\n      <td>154.0</td>\n      <td>0.480120</td>\n    </tr>\n    <tr>\n      <th>Manzanilla</th>\n      <td>98.0</td>\n      <td>6.0</td>\n      <td>12.0</td>\n      <td>2118.0</td>\n      <td>283.286119</td>\n      <td>566.572238</td>\n      <td>3.0</td>\n      <td>0.500000</td>\n    </tr>\n    <tr>\n      <th>Lucena del Puerto</th>\n      <td>248.0</td>\n      <td>7.0</td>\n      <td>14.0</td>\n      <td>3261.0</td>\n      <td>214.658080</td>\n      <td>429.316161</td>\n      <td>2.0</td>\n      <td>0.500000</td>\n    </tr>\n    <tr>\n      <th>Paterna del Campo</th>\n      <td>127.0</td>\n      <td>1.0</td>\n      <td>2.0</td>\n      <td>3457.0</td>\n      <td>28.926815</td>\n      <td>57.853630</td>\n      <td>0.0</td>\n      <td>0.500000</td>\n    </tr>\n    <tr>\n      <th>Zarza-Perrunal (La)</th>\n      <td>24.0</td>\n      <td>1.0</td>\n      <td>2.0</td>\n      <td>1253.0</td>\n      <td>79.808460</td>\n      <td>159.616919</td>\n      <td>0.0</td>\n      <td>0.500000</td>\n    </tr>\n    <tr>\n      <th>Huelva (capital)</th>\n      <td>8058.0</td>\n      <td>199.0</td>\n      <td>398.0</td>\n      <td>143837.0</td>\n      <td>138.351050</td>\n      <td>276.702100</td>\n      <td>55.0</td>\n      <td>0.500000</td>\n    </tr>\n    <tr>\n      <th>Almonte</th>\n      <td>1759.0</td>\n      <td>63.0</td>\n      <td>125.0</td>\n      <td>24507.0</td>\n      <td>257.069409</td>\n      <td>510.058351</td>\n      <td>12.0</td>\n      <td>0.504000</td>\n    </tr>\n    <tr>\n      <th>Huelva-Costa</th>\n      <td>17672.0</td>\n      <td>312.0</td>\n      <td>614.0</td>\n      <td>289548.0</td>\n      <td>107.754155</td>\n      <td>212.054651</td>\n      <td>76.0</td>\n      <td>0.508143</td>\n    </tr>\n    <tr>\n      <th>Punta Umbría</th>\n      <td>798.0</td>\n      <td>28.0</td>\n      <td>53.0</td>\n      <td>15355.0</td>\n      <td>182.351026</td>\n      <td>345.164442</td>\n      <td>3.0</td>\n      <td>0.528302</td>\n    </tr>\n    <tr>\n      <th>Calañas</th>\n      <td>189.0</td>\n      <td>8.0</td>\n      <td>15.0</td>\n      <td>2768.0</td>\n      <td>289.017341</td>\n      <td>541.907514</td>\n      <td>0.0</td>\n      <td>0.533333</td>\n    </tr>\n    <tr>\n      <th>Rociana del Condado</th>\n      <td>544.0</td>\n      <td>7.0</td>\n      <td>13.0</td>\n      <td>7939.0</td>\n      <td>88.172314</td>\n      <td>163.748583</td>\n      <td>1.0</td>\n      <td>0.538462</td>\n    </tr>\n    <tr>\n      <th>Villarrasa</th>\n      <td>166.0</td>\n      <td>10.0</td>\n      <td>18.0</td>\n      <td>2211.0</td>\n      <td>452.284034</td>\n      <td>814.111262</td>\n      <td>1.0</td>\n      <td>0.555556</td>\n    </tr>\n    <tr>\n      <th>Gibraleón</th>\n      <td>615.0</td>\n      <td>10.0</td>\n      <td>17.0</td>\n      <td>12737.0</td>\n      <td>78.511423</td>\n      <td>133.469420</td>\n      <td>4.0</td>\n      <td>0.588235</td>\n    </tr>\n    <tr>\n      <th>San Juan del Puerto</th>\n      <td>488.0</td>\n      <td>16.0</td>\n      <td>27.0</td>\n      <td>9411.0</td>\n      <td>170.013814</td>\n      <td>286.898310</td>\n      <td>8.0</td>\n      <td>0.592593</td>\n    </tr>\n    <tr>\n      <th>Palos de la Frontera</th>\n      <td>633.0</td>\n      <td>19.0</td>\n      <td>32.0</td>\n      <td>11742.0</td>\n      <td>161.812298</td>\n      <td>272.525975</td>\n      <td>5.0</td>\n      <td>0.593750</td>\n    </tr>\n    <tr>\n      <th>Bonares</th>\n      <td>264.0</td>\n      <td>3.0</td>\n      <td>5.0</td>\n      <td>6060.0</td>\n      <td>49.504950</td>\n      <td>82.508251</td>\n      <td>0.0</td>\n      <td>0.600000</td>\n    </tr>\n    <tr>\n      <th>Cabezas Rubias</th>\n      <td>37.0</td>\n      <td>3.0</td>\n      <td>5.0</td>\n      <td>706.0</td>\n      <td>424.929178</td>\n      <td>708.215297</td>\n      <td>0.0</td>\n      <td>0.600000</td>\n    </tr>\n    <tr>\n      <th>Aljaraque</th>\n      <td>1057.0</td>\n      <td>24.0</td>\n      <td>38.0</td>\n      <td>21474.0</td>\n      <td>111.763062</td>\n      <td>176.958182</td>\n      <td>3.0</td>\n      <td>0.631579</td>\n    </tr>\n    <tr>\n      <th>Lepe</th>\n      <td>2121.0</td>\n      <td>16.0</td>\n      <td>24.0</td>\n      <td>27880.0</td>\n      <td>57.388809</td>\n      <td>86.083214</td>\n      <td>7.0</td>\n      <td>0.666667</td>\n    </tr>\n    <tr>\n      <th>Cerro de Andévalo (El)</th>\n      <td>143.0</td>\n      <td>5.0</td>\n      <td>7.0</td>\n      <td>2327.0</td>\n      <td>214.868930</td>\n      <td>300.816502</td>\n      <td>0.0</td>\n      <td>0.714286</td>\n    </tr>\n    <tr>\n      <th>Zalamea la Real</th>\n      <td>90.0</td>\n      <td>3.0</td>\n      <td>4.0</td>\n      <td>3054.0</td>\n      <td>98.231827</td>\n      <td>130.975769</td>\n      <td>1.0</td>\n      <td>0.750000</td>\n    </tr>\n    <tr>\n      <th>Beas</th>\n      <td>210.0</td>\n      <td>6.0</td>\n      <td>8.0</td>\n      <td>4341.0</td>\n      <td>138.217001</td>\n      <td>184.289334</td>\n      <td>3.0</td>\n      <td>0.750000</td>\n    </tr>\n    <tr>\n      <th>Ayamonte</th>\n      <td>1314.0</td>\n      <td>14.0</td>\n      <td>18.0</td>\n      <td>21104.0</td>\n      <td>66.338135</td>\n      <td>85.291888</td>\n      <td>2.0</td>\n      <td>0.777778</td>\n    </tr>\n    <tr>\n      <th>Paymogo</th>\n      <td>75.0</td>\n      <td>1.0</td>\n      <td>1.0</td>\n      <td>1162.0</td>\n      <td>86.058520</td>\n      <td>86.058520</td>\n      <td>0.0</td>\n      <td>1.000000</td>\n    </tr>\n    <tr>\n      <th>Campofrío</th>\n      <td>9.0</td>\n      <td>2.0</td>\n      <td>2.0</td>\n      <td>713.0</td>\n      <td>280.504909</td>\n      <td>280.504909</td>\n      <td>0.0</td>\n      <td>1.000000</td>\n    </tr>\n    <tr>\n      <th>Santa Bárbara de Casa</th>\n      <td>15.0</td>\n      <td>1.0</td>\n      <td>1.0</td>\n      <td>1043.0</td>\n      <td>95.877277</td>\n      <td>95.877277</td>\n      <td>0.0</td>\n      <td>1.000000</td>\n    </tr>\n    <tr>\n      <th>Cortegana</th>\n      <td>201.0</td>\n      <td>1.0</td>\n      <td>1.0</td>\n      <td>4602.0</td>\n      <td>21.729683</td>\n      <td>21.729683</td>\n      <td>0.0</td>\n      <td>1.000000</td>\n    </tr>\n    <tr>\n      <th>Villanueva de los Castillejos</th>\n      <td>158.0</td>\n      <td>1.0</td>\n      <td>1.0</td>\n      <td>2825.0</td>\n      <td>35.398230</td>\n      <td>35.398230</td>\n      <td>0.0</td>\n      <td>1.000000</td>\n    </tr>\n    <tr>\n      <th>Puebla de Guzmán</th>\n      <td>113.0</td>\n      <td>2.0</td>\n      <td>2.0</td>\n      <td>3092.0</td>\n      <td>64.683053</td>\n      <td>64.683053</td>\n      <td>0.0</td>\n      <td>1.000000</td>\n    </tr>\n  </tbody>\n</table>\n</div>"
     },
     "metadata": {},
     "execution_count": 18
    }
   ],
   "source": [
    "# Peso de la tasa de la última semana en relación con la tasa a 14 días \n",
    "# Mejor cuanto menor. Valor 1 significa que no había casos antes de 7 días.\n",
    "tabla['7/14'] = tabla['tasa7'] / tabla['tasa14']\n",
    "tabla.fillna(0).sort_values('7/14', ascending=True)"
   ]
  },
  {
   "cell_type": "code",
   "execution_count": null,
   "metadata": {},
   "outputs": [],
   "source": []
  }
 ]
}