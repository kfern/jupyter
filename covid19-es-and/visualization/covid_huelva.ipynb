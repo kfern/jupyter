{
 "metadata": {
  "language_info": {
   "codemirror_mode": {
    "name": "ipython",
    "version": 3
   },
   "file_extension": ".py",
   "mimetype": "text/x-python",
   "name": "python",
   "nbconvert_exporter": "python",
   "pygments_lexer": "ipython3",
   "version": "3.8.6-final"
  },
  "orig_nbformat": 2,
  "kernelspec": {
   "name": "python3",
   "display_name": "Python 3",
   "language": "python"
  }
 },
 "nbformat": 4,
 "nbformat_minor": 2,
 "cells": [
  {
   "cell_type": "code",
   "execution_count": 1,
   "metadata": {},
   "outputs": [],
   "source": [
    "import pandas as pd\n",
    "pd.set_option('display.max_rows', None) # Print all rows"
   ]
  },
  {
   "cell_type": "code",
   "execution_count": 2,
   "metadata": {},
   "outputs": [],
   "source": [
    "# FIX SSL: CERTIFICATE_VERIFY_FAILED with Python3\n",
    "# https://stackoverflow.com/a/49174340\n",
    "import ssl\n",
    "\n",
    "ssl._create_default_https_context = ssl._create_unverified_context"
   ]
  },
  {
   "cell_type": "code",
   "execution_count": 3,
   "metadata": {},
   "outputs": [],
   "source": [
    "url = 'https://www.juntadeandalucia.es/institutodeestadisticaycartografia/badea/stpivot/stpivot/Print?cube=013d884c-cfc5-4c21-9e78-e26225682afd&type=3&foto=si&ejecutaDesde=&codConsulta=38668&consTipoVisua=JP'\n",
    "fields = ['Lugar de residencia', 'Medida', 'Valor']\n",
    "df = pd.read_csv(url, delimiter=';', usecols=fields, decimal=',')"
   ]
  },
  {
   "cell_type": "code",
   "execution_count": 4,
   "metadata": {},
   "outputs": [
    {
     "output_type": "execute_result",
     "data": {
      "text/plain": [
       "  Lugar de residencia                    Medida              Valor\n",
       "0              Huelva                 Población             513170\n",
       "1              Huelva          Confirmados PDIA              25681\n",
       "2              Huelva  Confirmados PDIA 14 días                695\n",
       "3              Huelva         Tasa PDIA 14 días  135,4327026131691\n",
       "4              Huelva   Confirmados PDIA 7 días                367\n",
       "5              Huelva        Total Confirmados               25882\n",
       "6              Huelva                   Curados              21083\n",
       "7              Huelva                Fallecidos                351"
      ],
      "text/html": "<div>\n<style scoped>\n    .dataframe tbody tr th:only-of-type {\n        vertical-align: middle;\n    }\n\n    .dataframe tbody tr th {\n        vertical-align: top;\n    }\n\n    .dataframe thead th {\n        text-align: right;\n    }\n</style>\n<table border=\"1\" class=\"dataframe\">\n  <thead>\n    <tr style=\"text-align: right;\">\n      <th></th>\n      <th>Lugar de residencia</th>\n      <th>Medida</th>\n      <th>Valor</th>\n    </tr>\n  </thead>\n  <tbody>\n    <tr>\n      <th>0</th>\n      <td>Huelva</td>\n      <td>Población</td>\n      <td>513170</td>\n    </tr>\n    <tr>\n      <th>1</th>\n      <td>Huelva</td>\n      <td>Confirmados PDIA</td>\n      <td>25681</td>\n    </tr>\n    <tr>\n      <th>2</th>\n      <td>Huelva</td>\n      <td>Confirmados PDIA 14 días</td>\n      <td>695</td>\n    </tr>\n    <tr>\n      <th>3</th>\n      <td>Huelva</td>\n      <td>Tasa PDIA 14 días</td>\n      <td>135,4327026131691</td>\n    </tr>\n    <tr>\n      <th>4</th>\n      <td>Huelva</td>\n      <td>Confirmados PDIA 7 días</td>\n      <td>367</td>\n    </tr>\n    <tr>\n      <th>5</th>\n      <td>Huelva</td>\n      <td>Total Confirmados</td>\n      <td>25882</td>\n    </tr>\n    <tr>\n      <th>6</th>\n      <td>Huelva</td>\n      <td>Curados</td>\n      <td>21083</td>\n    </tr>\n    <tr>\n      <th>7</th>\n      <td>Huelva</td>\n      <td>Fallecidos</td>\n      <td>351</td>\n    </tr>\n  </tbody>\n</table>\n</div>"
     },
     "metadata": {},
     "execution_count": 4
    }
   ],
   "source": [
    "df[df['Lugar de residencia'] == 'Huelva']"
   ]
  },
  {
   "cell_type": "code",
   "execution_count": 5,
   "metadata": {},
   "outputs": [],
   "source": [
    "df['Valor'] = pd.to_numeric(df['Valor'],errors='coerce')"
   ]
  },
  {
   "cell_type": "code",
   "execution_count": 6,
   "metadata": {},
   "outputs": [],
   "source": [
    "dfAnterior = pd.read_csv('covid_huelva.csv', index_col='Lugar de residencia')"
   ]
  },
  {
   "cell_type": "code",
   "execution_count": 7,
   "metadata": {
    "tags": []
   },
   "outputs": [
    {
     "output_type": "stream",
     "name": "stdout",
     "text": [
      "Confirmados PCR en la provincia de Huelva:  25681.0\n",
      "<ipython-input-7-31b732756b19>:2: UserWarning: Boolean Series key will be reindexed to match DataFrame index.\n",
      "  p = df[df['Lugar de residencia'] == 'Huelva'][df['Medida'] == 'Confirmados PDIA']['Valor'].values[0]\n"
     ]
    }
   ],
   "source": [
    "# Confirmados PCR provincia Huelva\n",
    "p = df[df['Lugar de residencia'] == 'Huelva'][df['Medida'] == 'Confirmados PDIA']['Valor'].values[0]\n",
    "print('Confirmados PCR en la provincia de Huelva: ', p)"
   ]
  },
  {
   "cell_type": "code",
   "execution_count": 8,
   "metadata": {
    "tags": []
   },
   "outputs": [
    {
     "output_type": "stream",
     "name": "stdout",
     "text": [
      "Confirmados PCR en Huelva capital:  6721.0\n",
      "<ipython-input-8-e81bfb40e710>:2: UserWarning: Boolean Series key will be reindexed to match DataFrame index.\n",
      "  c = df[df['Lugar de residencia'] == 'Huelva (capital)'][df['Medida'] == 'Confirmados PDIA']['Valor'].values[0]\n"
     ]
    }
   ],
   "source": [
    "# Confirmados PCR Huelva capitalpd\n",
    "c = df[df['Lugar de residencia'] == 'Huelva (capital)'][df['Medida'] == 'Confirmados PDIA']['Valor'].values[0]\n",
    "print('Confirmados PCR en Huelva capital: ', c)"
   ]
  },
  {
   "cell_type": "code",
   "execution_count": 9,
   "metadata": {
    "tags": []
   },
   "outputs": [
    {
     "output_type": "stream",
     "name": "stderr",
     "text": [
      "<ipython-input-9-f09dd2050cc1>:1: UserWarning: Boolean Series key will be reindexed to match DataFrame index.\n  c7 = df[df['Lugar de residencia'] == 'Huelva (capital)'][df['Medida'] == 'Confirmados PDIA 7 días']['Valor'].values[0]\n<ipython-input-9-f09dd2050cc1>:2: UserWarning: Boolean Series key will be reindexed to match DataFrame index.\n  c14 = df[df['Lugar de residencia'] == 'Huelva (capital)'][df['Medida'] == 'Confirmados PDIA 14 días']['Valor'].values[0]\n<ipython-input-9-f09dd2050cc1>:3: UserWarning: Boolean Series key will be reindexed to match DataFrame index.\n  p = df[df['Lugar de residencia'] == 'Huelva (capital)'][df['Medida'] == 'Población']['Valor'].values[0]\n"
     ]
    }
   ],
   "source": [
    "c7 = df[df['Lugar de residencia'] == 'Huelva (capital)'][df['Medida'] == 'Confirmados PDIA 7 días']['Valor'].values[0]\n",
    "c14 = df[df['Lugar de residencia'] == 'Huelva (capital)'][df['Medida'] == 'Confirmados PDIA 14 días']['Valor'].values[0]\n",
    "p = df[df['Lugar de residencia'] == 'Huelva (capital)'][df['Medida'] == 'Población']['Valor'].values[0]"
   ]
  },
  {
   "cell_type": "code",
   "execution_count": 10,
   "metadata": {
    "tags": []
   },
   "outputs": [
    {
     "output_type": "stream",
     "name": "stdout",
     "text": [
      "Huelva (capital)\n\nUn positivo PCR cada 2480 personas en los últimos 7 días \n\nUn positivo PCR cada 1547 personas en los últimos 14 días\n"
     ]
    }
   ],
   "source": [
    "print('Huelva (capital)\\n')\n",
    "#print('Confirmados PCR 7 días x 1,000 habitantes: ', f\"{c7/(p/1000):.5f}\")\n",
    "print('Un positivo PCR cada', f\"{p/c7:.0f}\", 'personas en los últimos 7 días', '\\n')\n",
    "#print('Confirmados PCR 14 días x 1,000 habitantes: ', f\"{c14/(p/1000):.5f}\")\n",
    "print('Un positivo PCR cada', f\"{p/c14:.0f}\", 'personas en los últimos 14 días')"
   ]
  },
  {
   "cell_type": "code",
   "execution_count": 11,
   "metadata": {},
   "outputs": [],
   "source": [
    "filtro = ((df['Medida'] == 'Confirmados PDIA')| (df['Medida'] == 'Confirmados PDIA 7 días') | (df['Medida'] == 'Población' ) | (df['Medida'] == 'Confirmados PDIA 14 días')) & (df['Valor'] > 0)\n",
    "tabla = pd.pivot_table(df.loc[filtro], values='Valor', index='Lugar de residencia', columns='Medida').dropna()"
   ]
  },
  {
   "cell_type": "code",
   "execution_count": 12,
   "metadata": {},
   "outputs": [],
   "source": [
    "# Reorder columns\n",
    "tabla = tabla[['Confirmados PDIA', 'Confirmados PDIA 7 días', 'Confirmados PDIA 14 días', 'Población']]"
   ]
  },
  {
   "cell_type": "code",
   "execution_count": 13,
   "metadata": {},
   "outputs": [],
   "source": [
    "tabla['tasa7'] = tabla['Confirmados PDIA 7 días']/tabla['Población']*100000\n",
    "tabla['tasa14'] = tabla['Confirmados PDIA 14 días']/tabla['Población']*100000"
   ]
  },
  {
   "cell_type": "code",
   "execution_count": 14,
   "metadata": {},
   "outputs": [],
   "source": [
    "tabla['Diferencia PDIA'] = tabla['Confirmados PDIA'] - dfAnterior['Confirmados PDIA']"
   ]
  },
  {
   "cell_type": "code",
   "execution_count": 15,
   "metadata": {},
   "outputs": [
    {
     "output_type": "execute_result",
     "data": {
      "text/plain": [
       "Medida                             Confirmados PDIA  Confirmados PDIA 7 días  \\\n",
       "Lugar de residencia                                                            \n",
       "Huelva                                      25681.0                    367.0   \n",
       "Condado-Campiña                              7499.0                    238.0   \n",
       "Huelva-Costa                                15430.0                    109.0   \n",
       "Huelva (capital)                             6721.0                     58.0   \n",
       "Bonares                                       196.0                     15.0   \n",
       "Almonte                                      1028.0                     57.0   \n",
       "San Juan del Puerto                           379.0                      9.0   \n",
       "Rociana del Condado                           381.0                     31.0   \n",
       "Moguer                                        894.0                     23.0   \n",
       "Sierra de Huelva-Andévalo Central            2331.0                     15.0   \n",
       "Palos de la Frontera                          487.0                     17.0   \n",
       "Cartaya                                      1015.0                     21.0   \n",
       "San Bartolomé de la Torre                     237.0                     17.0   \n",
       "Bollullos Par del Condado                     683.0                     33.0   \n",
       "Trigueros                                     232.0                      4.0   \n",
       "Aracena                                       460.0                      7.0   \n",
       "Lepe                                         2023.0                     10.0   \n",
       "Aljaraque                                     934.0                      5.0   \n",
       "Isla Cristina                                2012.0                      2.0   \n",
       "Punta Umbría                                  667.0                      4.0   \n",
       "Palma del Condado (La)                        995.0                      6.0   \n",
       "Ayamonte                                     1245.0                      5.0   \n",
       "Valverde del Camino                           430.0                      3.0   \n",
       "Escacena del Campo                            142.0                      1.0   \n",
       "Zalamea la Real                                86.0                      1.0   \n",
       "\n",
       "Medida                             Confirmados PDIA 14 días  Población  \\\n",
       "Lugar de residencia                                                      \n",
       "Huelva                                                695.0   513170.0   \n",
       "Condado-Campiña                                       436.0   156231.0   \n",
       "Huelva-Costa                                          221.0   289548.0   \n",
       "Huelva (capital)                                       93.0   143837.0   \n",
       "Bonares                                                16.0     6060.0   \n",
       "Almonte                                               126.0    24507.0   \n",
       "San Juan del Puerto                                    13.0     9411.0   \n",
       "Rociana del Condado                                    60.0     7939.0   \n",
       "Moguer                                                 45.0    21867.0   \n",
       "Sierra de Huelva-Andévalo Central                      23.0    67391.0   \n",
       "Palos de la Frontera                                   25.0    11742.0   \n",
       "Cartaya                                                42.0    20083.0   \n",
       "San Bartolomé de la Torre                              27.0     3761.0   \n",
       "Bollullos Par del Condado                              52.0    14387.0   \n",
       "Trigueros                                               4.0     7862.0   \n",
       "Aracena                                                10.0     8255.0   \n",
       "Lepe                                                   18.0    27880.0   \n",
       "Aljaraque                                               7.0    21474.0   \n",
       "Isla Cristina                                          12.0    21393.0   \n",
       "Punta Umbría                                            9.0    15355.0   \n",
       "Palma del Condado (La)                                  7.0    10801.0   \n",
       "Ayamonte                                               12.0    21104.0   \n",
       "Valverde del Camino                                     7.0    12750.0   \n",
       "Escacena del Campo                                      2.0     2287.0   \n",
       "Zalamea la Real                                         1.0     3054.0   \n",
       "\n",
       "Medida                                  tasa7      tasa14  Diferencia PDIA  \n",
       "Lugar de residencia                                                         \n",
       "Huelva                              71.516262  135.432703             73.0  \n",
       "Condado-Campiña                    152.338524  279.073935             52.0  \n",
       "Huelva-Costa                        37.644881   76.325860             23.0  \n",
       "Huelva (capital)                    40.323422   64.656521             14.0  \n",
       "Bonares                            247.524752  264.026403             10.0  \n",
       "Almonte                            232.586608  514.138817              8.0  \n",
       "San Juan del Puerto                 95.632770  138.136224              7.0  \n",
       "Rociana del Condado                390.477390  755.762691              7.0  \n",
       "Moguer                             105.181323  205.789546              5.0  \n",
       "Sierra de Huelva-Andévalo Central   22.258165   34.129186              5.0  \n",
       "Palos de la Frontera               144.779424  212.910918              4.0  \n",
       "Cartaya                            104.566051  209.132102              3.0  \n",
       "San Bartolomé de la Torre          452.007445  717.894177              3.0  \n",
       "Bollullos Par del Condado          229.373740  361.437409              3.0  \n",
       "Trigueros                           50.877639   50.877639              3.0  \n",
       "Aracena                             84.797093  121.138704              3.0  \n",
       "Lepe                                35.868006   64.562410              2.0  \n",
       "Aljaraque                           23.283971   32.597560              1.0  \n",
       "Isla Cristina                        9.348852   56.093115              1.0  \n",
       "Punta Umbría                        26.050147   58.612830              1.0  \n",
       "Palma del Condado (La)              55.550412   64.808814              1.0  \n",
       "Ayamonte                            23.692191   56.861259              1.0  \n",
       "Valverde del Camino                 23.529412   54.901961              1.0  \n",
       "Escacena del Campo                  43.725404   87.450809              NaN  \n",
       "Zalamea la Real                     32.743942   32.743942              NaN  "
      ],
      "text/html": "<div>\n<style scoped>\n    .dataframe tbody tr th:only-of-type {\n        vertical-align: middle;\n    }\n\n    .dataframe tbody tr th {\n        vertical-align: top;\n    }\n\n    .dataframe thead th {\n        text-align: right;\n    }\n</style>\n<table border=\"1\" class=\"dataframe\">\n  <thead>\n    <tr style=\"text-align: right;\">\n      <th>Medida</th>\n      <th>Confirmados PDIA</th>\n      <th>Confirmados PDIA 7 días</th>\n      <th>Confirmados PDIA 14 días</th>\n      <th>Población</th>\n      <th>tasa7</th>\n      <th>tasa14</th>\n      <th>Diferencia PDIA</th>\n    </tr>\n    <tr>\n      <th>Lugar de residencia</th>\n      <th></th>\n      <th></th>\n      <th></th>\n      <th></th>\n      <th></th>\n      <th></th>\n      <th></th>\n    </tr>\n  </thead>\n  <tbody>\n    <tr>\n      <th>Huelva</th>\n      <td>25681.0</td>\n      <td>367.0</td>\n      <td>695.0</td>\n      <td>513170.0</td>\n      <td>71.516262</td>\n      <td>135.432703</td>\n      <td>73.0</td>\n    </tr>\n    <tr>\n      <th>Condado-Campiña</th>\n      <td>7499.0</td>\n      <td>238.0</td>\n      <td>436.0</td>\n      <td>156231.0</td>\n      <td>152.338524</td>\n      <td>279.073935</td>\n      <td>52.0</td>\n    </tr>\n    <tr>\n      <th>Huelva-Costa</th>\n      <td>15430.0</td>\n      <td>109.0</td>\n      <td>221.0</td>\n      <td>289548.0</td>\n      <td>37.644881</td>\n      <td>76.325860</td>\n      <td>23.0</td>\n    </tr>\n    <tr>\n      <th>Huelva (capital)</th>\n      <td>6721.0</td>\n      <td>58.0</td>\n      <td>93.0</td>\n      <td>143837.0</td>\n      <td>40.323422</td>\n      <td>64.656521</td>\n      <td>14.0</td>\n    </tr>\n    <tr>\n      <th>Bonares</th>\n      <td>196.0</td>\n      <td>15.0</td>\n      <td>16.0</td>\n      <td>6060.0</td>\n      <td>247.524752</td>\n      <td>264.026403</td>\n      <td>10.0</td>\n    </tr>\n    <tr>\n      <th>Almonte</th>\n      <td>1028.0</td>\n      <td>57.0</td>\n      <td>126.0</td>\n      <td>24507.0</td>\n      <td>232.586608</td>\n      <td>514.138817</td>\n      <td>8.0</td>\n    </tr>\n    <tr>\n      <th>San Juan del Puerto</th>\n      <td>379.0</td>\n      <td>9.0</td>\n      <td>13.0</td>\n      <td>9411.0</td>\n      <td>95.632770</td>\n      <td>138.136224</td>\n      <td>7.0</td>\n    </tr>\n    <tr>\n      <th>Rociana del Condado</th>\n      <td>381.0</td>\n      <td>31.0</td>\n      <td>60.0</td>\n      <td>7939.0</td>\n      <td>390.477390</td>\n      <td>755.762691</td>\n      <td>7.0</td>\n    </tr>\n    <tr>\n      <th>Moguer</th>\n      <td>894.0</td>\n      <td>23.0</td>\n      <td>45.0</td>\n      <td>21867.0</td>\n      <td>105.181323</td>\n      <td>205.789546</td>\n      <td>5.0</td>\n    </tr>\n    <tr>\n      <th>Sierra de Huelva-Andévalo Central</th>\n      <td>2331.0</td>\n      <td>15.0</td>\n      <td>23.0</td>\n      <td>67391.0</td>\n      <td>22.258165</td>\n      <td>34.129186</td>\n      <td>5.0</td>\n    </tr>\n    <tr>\n      <th>Palos de la Frontera</th>\n      <td>487.0</td>\n      <td>17.0</td>\n      <td>25.0</td>\n      <td>11742.0</td>\n      <td>144.779424</td>\n      <td>212.910918</td>\n      <td>4.0</td>\n    </tr>\n    <tr>\n      <th>Cartaya</th>\n      <td>1015.0</td>\n      <td>21.0</td>\n      <td>42.0</td>\n      <td>20083.0</td>\n      <td>104.566051</td>\n      <td>209.132102</td>\n      <td>3.0</td>\n    </tr>\n    <tr>\n      <th>San Bartolomé de la Torre</th>\n      <td>237.0</td>\n      <td>17.0</td>\n      <td>27.0</td>\n      <td>3761.0</td>\n      <td>452.007445</td>\n      <td>717.894177</td>\n      <td>3.0</td>\n    </tr>\n    <tr>\n      <th>Bollullos Par del Condado</th>\n      <td>683.0</td>\n      <td>33.0</td>\n      <td>52.0</td>\n      <td>14387.0</td>\n      <td>229.373740</td>\n      <td>361.437409</td>\n      <td>3.0</td>\n    </tr>\n    <tr>\n      <th>Trigueros</th>\n      <td>232.0</td>\n      <td>4.0</td>\n      <td>4.0</td>\n      <td>7862.0</td>\n      <td>50.877639</td>\n      <td>50.877639</td>\n      <td>3.0</td>\n    </tr>\n    <tr>\n      <th>Aracena</th>\n      <td>460.0</td>\n      <td>7.0</td>\n      <td>10.0</td>\n      <td>8255.0</td>\n      <td>84.797093</td>\n      <td>121.138704</td>\n      <td>3.0</td>\n    </tr>\n    <tr>\n      <th>Lepe</th>\n      <td>2023.0</td>\n      <td>10.0</td>\n      <td>18.0</td>\n      <td>27880.0</td>\n      <td>35.868006</td>\n      <td>64.562410</td>\n      <td>2.0</td>\n    </tr>\n    <tr>\n      <th>Aljaraque</th>\n      <td>934.0</td>\n      <td>5.0</td>\n      <td>7.0</td>\n      <td>21474.0</td>\n      <td>23.283971</td>\n      <td>32.597560</td>\n      <td>1.0</td>\n    </tr>\n    <tr>\n      <th>Isla Cristina</th>\n      <td>2012.0</td>\n      <td>2.0</td>\n      <td>12.0</td>\n      <td>21393.0</td>\n      <td>9.348852</td>\n      <td>56.093115</td>\n      <td>1.0</td>\n    </tr>\n    <tr>\n      <th>Punta Umbría</th>\n      <td>667.0</td>\n      <td>4.0</td>\n      <td>9.0</td>\n      <td>15355.0</td>\n      <td>26.050147</td>\n      <td>58.612830</td>\n      <td>1.0</td>\n    </tr>\n    <tr>\n      <th>Palma del Condado (La)</th>\n      <td>995.0</td>\n      <td>6.0</td>\n      <td>7.0</td>\n      <td>10801.0</td>\n      <td>55.550412</td>\n      <td>64.808814</td>\n      <td>1.0</td>\n    </tr>\n    <tr>\n      <th>Ayamonte</th>\n      <td>1245.0</td>\n      <td>5.0</td>\n      <td>12.0</td>\n      <td>21104.0</td>\n      <td>23.692191</td>\n      <td>56.861259</td>\n      <td>1.0</td>\n    </tr>\n    <tr>\n      <th>Valverde del Camino</th>\n      <td>430.0</td>\n      <td>3.0</td>\n      <td>7.0</td>\n      <td>12750.0</td>\n      <td>23.529412</td>\n      <td>54.901961</td>\n      <td>1.0</td>\n    </tr>\n    <tr>\n      <th>Escacena del Campo</th>\n      <td>142.0</td>\n      <td>1.0</td>\n      <td>2.0</td>\n      <td>2287.0</td>\n      <td>43.725404</td>\n      <td>87.450809</td>\n      <td>NaN</td>\n    </tr>\n    <tr>\n      <th>Zalamea la Real</th>\n      <td>86.0</td>\n      <td>1.0</td>\n      <td>1.0</td>\n      <td>3054.0</td>\n      <td>32.743942</td>\n      <td>32.743942</td>\n      <td>NaN</td>\n    </tr>\n  </tbody>\n</table>\n</div>"
     },
     "metadata": {},
     "execution_count": 15
    }
   ],
   "source": [
    "# Nuevos casos desde la última captura\n",
    "tabla[tabla['Diferencia PDIA'] != 0].sort_values('Diferencia PDIA', ascending=False)"
   ]
  },
  {
   "cell_type": "code",
   "execution_count": 16,
   "metadata": {},
   "outputs": [],
   "source": [
    "if tabla[tabla['Diferencia PDIA'] != 0]['Diferencia PDIA'].sum() != 0:\n",
    "  # Save to csv\n",
    "  tabla.to_csv('covid_huelva.csv', encoding='utf-8', header=True, index=True)  "
   ]
  },
  {
   "cell_type": "code",
   "execution_count": 17,
   "metadata": {},
   "outputs": [
    {
     "output_type": "execute_result",
     "data": {
      "text/plain": [
       "Medida                             Confirmados PDIA  Confirmados PDIA 7 días  \\\n",
       "Lugar de residencia                                                            \n",
       "Rociana del Condado                           381.0                     31.0   \n",
       "San Bartolomé de la Torre                     237.0                     17.0   \n",
       "Alosno                                        150.0                      2.0   \n",
       "Almonte                                      1028.0                     57.0   \n",
       "Niebla                                        175.0                      8.0   \n",
       "Bollullos Par del Condado                     683.0                     33.0   \n",
       "Condado-Campiña                              7499.0                    238.0   \n",
       "Bonares                                       196.0                     15.0   \n",
       "Paterna del Campo                             120.0                      2.0   \n",
       "Palos de la Frontera                          487.0                     17.0   \n",
       "Cartaya                                      1015.0                     21.0   \n",
       "Villalba del Alcor                            462.0                      3.0   \n",
       "Moguer                                        894.0                     23.0   \n",
       "Gibraleón                                     546.0                     10.0   \n",
       "San Juan del Puerto                           379.0                      9.0   \n",
       "Huelva                                      25681.0                    367.0   \n",
       "Aracena                                       460.0                      7.0   \n",
       "Aroche                                         83.0                      2.0   \n",
       "Escacena del Campo                            142.0                      1.0   \n",
       "Paymogo                                        74.0                      1.0   \n",
       "Huelva-Costa                                15430.0                    109.0   \n",
       "Galaroza                                       15.0                      1.0   \n",
       "Palma del Condado (La)                        995.0                      6.0   \n",
       "Puebla de Guzmán                              110.0                      1.0   \n",
       "Huelva (capital)                             6721.0                     58.0   \n",
       "Lepe                                         2023.0                     10.0   \n",
       "Punta Umbría                                  667.0                      4.0   \n",
       "Ayamonte                                     1245.0                      5.0   \n",
       "Isla Cristina                                2012.0                      2.0   \n",
       "Valverde del Camino                           430.0                      3.0   \n",
       "Trigueros                                     232.0                      4.0   \n",
       "Manzanilla                                     84.0                      1.0   \n",
       "Calañas                                       172.0                      1.0   \n",
       "Sierra de Huelva-Andévalo Central            2331.0                     15.0   \n",
       "Zalamea la Real                                86.0                      1.0   \n",
       "Aljaraque                                     934.0                      5.0   \n",
       "Lucena del Puerto                             162.0                      1.0   \n",
       "\n",
       "Medida                             Confirmados PDIA 14 días  Población  \\\n",
       "Lugar de residencia                                                      \n",
       "Rociana del Condado                                    60.0     7939.0   \n",
       "San Bartolomé de la Torre                              27.0     3761.0   \n",
       "Alosno                                                 25.0     3933.0   \n",
       "Almonte                                               126.0    24507.0   \n",
       "Niebla                                                 17.0     4116.0   \n",
       "Bollullos Par del Condado                              52.0    14387.0   \n",
       "Condado-Campiña                                       436.0   156231.0   \n",
       "Bonares                                                16.0     6060.0   \n",
       "Paterna del Campo                                       8.0     3457.0   \n",
       "Palos de la Frontera                                   25.0    11742.0   \n",
       "Cartaya                                                42.0    20083.0   \n",
       "Villalba del Alcor                                      7.0     3366.0   \n",
       "Moguer                                                 45.0    21867.0   \n",
       "Gibraleón                                              24.0    12737.0   \n",
       "San Juan del Puerto                                    13.0     9411.0   \n",
       "Huelva                                                695.0   513170.0   \n",
       "Aracena                                                10.0     8255.0   \n",
       "Aroche                                                  3.0     3054.0   \n",
       "Escacena del Campo                                      2.0     2287.0   \n",
       "Paymogo                                                 1.0     1162.0   \n",
       "Huelva-Costa                                          221.0   289548.0   \n",
       "Galaroza                                                1.0     1382.0   \n",
       "Palma del Condado (La)                                  7.0    10801.0   \n",
       "Puebla de Guzmán                                        2.0     3092.0   \n",
       "Huelva (capital)                                       93.0   143837.0   \n",
       "Lepe                                                   18.0    27880.0   \n",
       "Punta Umbría                                            9.0    15355.0   \n",
       "Ayamonte                                               12.0    21104.0   \n",
       "Isla Cristina                                          12.0    21393.0   \n",
       "Valverde del Camino                                     7.0    12750.0   \n",
       "Trigueros                                               4.0     7862.0   \n",
       "Manzanilla                                              1.0     2118.0   \n",
       "Calañas                                                 1.0     2768.0   \n",
       "Sierra de Huelva-Andévalo Central                      23.0    67391.0   \n",
       "Zalamea la Real                                         1.0     3054.0   \n",
       "Aljaraque                                               7.0    21474.0   \n",
       "Lucena del Puerto                                       1.0     3261.0   \n",
       "\n",
       "Medida                                  tasa7      tasa14  Diferencia PDIA  \n",
       "Lugar de residencia                                                         \n",
       "Rociana del Condado                390.477390  755.762691              7.0  \n",
       "San Bartolomé de la Torre          452.007445  717.894177              3.0  \n",
       "Alosno                              50.851767  635.647089              0.0  \n",
       "Almonte                            232.586608  514.138817              8.0  \n",
       "Niebla                             194.363460  413.022352              0.0  \n",
       "Bollullos Par del Condado          229.373740  361.437409              3.0  \n",
       "Condado-Campiña                    152.338524  279.073935             52.0  \n",
       "Bonares                            247.524752  264.026403             10.0  \n",
       "Paterna del Campo                   57.853630  231.414521              0.0  \n",
       "Palos de la Frontera               144.779424  212.910918              4.0  \n",
       "Cartaya                            104.566051  209.132102              3.0  \n",
       "Villalba del Alcor                  89.126560  207.961973              0.0  \n",
       "Moguer                             105.181323  205.789546              5.0  \n",
       "Gibraleón                           78.511423  188.427416              0.0  \n",
       "San Juan del Puerto                 95.632770  138.136224              7.0  \n",
       "Huelva                              71.516262  135.432703             73.0  \n",
       "Aracena                             84.797093  121.138704              3.0  \n",
       "Aroche                              65.487885   98.231827              0.0  \n",
       "Escacena del Campo                  43.725404   87.450809              NaN  \n",
       "Paymogo                             86.058520   86.058520              0.0  \n",
       "Huelva-Costa                        37.644881   76.325860             23.0  \n",
       "Galaroza                            72.358900   72.358900              0.0  \n",
       "Palma del Condado (La)              55.550412   64.808814              1.0  \n",
       "Puebla de Guzmán                    32.341527   64.683053              0.0  \n",
       "Huelva (capital)                    40.323422   64.656521             14.0  \n",
       "Lepe                                35.868006   64.562410              2.0  \n",
       "Punta Umbría                        26.050147   58.612830              1.0  \n",
       "Ayamonte                            23.692191   56.861259              1.0  \n",
       "Isla Cristina                        9.348852   56.093115              1.0  \n",
       "Valverde del Camino                 23.529412   54.901961              1.0  \n",
       "Trigueros                           50.877639   50.877639              3.0  \n",
       "Manzanilla                          47.214353   47.214353              0.0  \n",
       "Calañas                             36.127168   36.127168              0.0  \n",
       "Sierra de Huelva-Andévalo Central   22.258165   34.129186              5.0  \n",
       "Zalamea la Real                     32.743942   32.743942              NaN  \n",
       "Aljaraque                           23.283971   32.597560              1.0  \n",
       "Lucena del Puerto                   30.665440   30.665440              0.0  "
      ],
      "text/html": "<div>\n<style scoped>\n    .dataframe tbody tr th:only-of-type {\n        vertical-align: middle;\n    }\n\n    .dataframe tbody tr th {\n        vertical-align: top;\n    }\n\n    .dataframe thead th {\n        text-align: right;\n    }\n</style>\n<table border=\"1\" class=\"dataframe\">\n  <thead>\n    <tr style=\"text-align: right;\">\n      <th>Medida</th>\n      <th>Confirmados PDIA</th>\n      <th>Confirmados PDIA 7 días</th>\n      <th>Confirmados PDIA 14 días</th>\n      <th>Población</th>\n      <th>tasa7</th>\n      <th>tasa14</th>\n      <th>Diferencia PDIA</th>\n    </tr>\n    <tr>\n      <th>Lugar de residencia</th>\n      <th></th>\n      <th></th>\n      <th></th>\n      <th></th>\n      <th></th>\n      <th></th>\n      <th></th>\n    </tr>\n  </thead>\n  <tbody>\n    <tr>\n      <th>Rociana del Condado</th>\n      <td>381.0</td>\n      <td>31.0</td>\n      <td>60.0</td>\n      <td>7939.0</td>\n      <td>390.477390</td>\n      <td>755.762691</td>\n      <td>7.0</td>\n    </tr>\n    <tr>\n      <th>San Bartolomé de la Torre</th>\n      <td>237.0</td>\n      <td>17.0</td>\n      <td>27.0</td>\n      <td>3761.0</td>\n      <td>452.007445</td>\n      <td>717.894177</td>\n      <td>3.0</td>\n    </tr>\n    <tr>\n      <th>Alosno</th>\n      <td>150.0</td>\n      <td>2.0</td>\n      <td>25.0</td>\n      <td>3933.0</td>\n      <td>50.851767</td>\n      <td>635.647089</td>\n      <td>0.0</td>\n    </tr>\n    <tr>\n      <th>Almonte</th>\n      <td>1028.0</td>\n      <td>57.0</td>\n      <td>126.0</td>\n      <td>24507.0</td>\n      <td>232.586608</td>\n      <td>514.138817</td>\n      <td>8.0</td>\n    </tr>\n    <tr>\n      <th>Niebla</th>\n      <td>175.0</td>\n      <td>8.0</td>\n      <td>17.0</td>\n      <td>4116.0</td>\n      <td>194.363460</td>\n      <td>413.022352</td>\n      <td>0.0</td>\n    </tr>\n    <tr>\n      <th>Bollullos Par del Condado</th>\n      <td>683.0</td>\n      <td>33.0</td>\n      <td>52.0</td>\n      <td>14387.0</td>\n      <td>229.373740</td>\n      <td>361.437409</td>\n      <td>3.0</td>\n    </tr>\n    <tr>\n      <th>Condado-Campiña</th>\n      <td>7499.0</td>\n      <td>238.0</td>\n      <td>436.0</td>\n      <td>156231.0</td>\n      <td>152.338524</td>\n      <td>279.073935</td>\n      <td>52.0</td>\n    </tr>\n    <tr>\n      <th>Bonares</th>\n      <td>196.0</td>\n      <td>15.0</td>\n      <td>16.0</td>\n      <td>6060.0</td>\n      <td>247.524752</td>\n      <td>264.026403</td>\n      <td>10.0</td>\n    </tr>\n    <tr>\n      <th>Paterna del Campo</th>\n      <td>120.0</td>\n      <td>2.0</td>\n      <td>8.0</td>\n      <td>3457.0</td>\n      <td>57.853630</td>\n      <td>231.414521</td>\n      <td>0.0</td>\n    </tr>\n    <tr>\n      <th>Palos de la Frontera</th>\n      <td>487.0</td>\n      <td>17.0</td>\n      <td>25.0</td>\n      <td>11742.0</td>\n      <td>144.779424</td>\n      <td>212.910918</td>\n      <td>4.0</td>\n    </tr>\n    <tr>\n      <th>Cartaya</th>\n      <td>1015.0</td>\n      <td>21.0</td>\n      <td>42.0</td>\n      <td>20083.0</td>\n      <td>104.566051</td>\n      <td>209.132102</td>\n      <td>3.0</td>\n    </tr>\n    <tr>\n      <th>Villalba del Alcor</th>\n      <td>462.0</td>\n      <td>3.0</td>\n      <td>7.0</td>\n      <td>3366.0</td>\n      <td>89.126560</td>\n      <td>207.961973</td>\n      <td>0.0</td>\n    </tr>\n    <tr>\n      <th>Moguer</th>\n      <td>894.0</td>\n      <td>23.0</td>\n      <td>45.0</td>\n      <td>21867.0</td>\n      <td>105.181323</td>\n      <td>205.789546</td>\n      <td>5.0</td>\n    </tr>\n    <tr>\n      <th>Gibraleón</th>\n      <td>546.0</td>\n      <td>10.0</td>\n      <td>24.0</td>\n      <td>12737.0</td>\n      <td>78.511423</td>\n      <td>188.427416</td>\n      <td>0.0</td>\n    </tr>\n    <tr>\n      <th>San Juan del Puerto</th>\n      <td>379.0</td>\n      <td>9.0</td>\n      <td>13.0</td>\n      <td>9411.0</td>\n      <td>95.632770</td>\n      <td>138.136224</td>\n      <td>7.0</td>\n    </tr>\n    <tr>\n      <th>Huelva</th>\n      <td>25681.0</td>\n      <td>367.0</td>\n      <td>695.0</td>\n      <td>513170.0</td>\n      <td>71.516262</td>\n      <td>135.432703</td>\n      <td>73.0</td>\n    </tr>\n    <tr>\n      <th>Aracena</th>\n      <td>460.0</td>\n      <td>7.0</td>\n      <td>10.0</td>\n      <td>8255.0</td>\n      <td>84.797093</td>\n      <td>121.138704</td>\n      <td>3.0</td>\n    </tr>\n    <tr>\n      <th>Aroche</th>\n      <td>83.0</td>\n      <td>2.0</td>\n      <td>3.0</td>\n      <td>3054.0</td>\n      <td>65.487885</td>\n      <td>98.231827</td>\n      <td>0.0</td>\n    </tr>\n    <tr>\n      <th>Escacena del Campo</th>\n      <td>142.0</td>\n      <td>1.0</td>\n      <td>2.0</td>\n      <td>2287.0</td>\n      <td>43.725404</td>\n      <td>87.450809</td>\n      <td>NaN</td>\n    </tr>\n    <tr>\n      <th>Paymogo</th>\n      <td>74.0</td>\n      <td>1.0</td>\n      <td>1.0</td>\n      <td>1162.0</td>\n      <td>86.058520</td>\n      <td>86.058520</td>\n      <td>0.0</td>\n    </tr>\n    <tr>\n      <th>Huelva-Costa</th>\n      <td>15430.0</td>\n      <td>109.0</td>\n      <td>221.0</td>\n      <td>289548.0</td>\n      <td>37.644881</td>\n      <td>76.325860</td>\n      <td>23.0</td>\n    </tr>\n    <tr>\n      <th>Galaroza</th>\n      <td>15.0</td>\n      <td>1.0</td>\n      <td>1.0</td>\n      <td>1382.0</td>\n      <td>72.358900</td>\n      <td>72.358900</td>\n      <td>0.0</td>\n    </tr>\n    <tr>\n      <th>Palma del Condado (La)</th>\n      <td>995.0</td>\n      <td>6.0</td>\n      <td>7.0</td>\n      <td>10801.0</td>\n      <td>55.550412</td>\n      <td>64.808814</td>\n      <td>1.0</td>\n    </tr>\n    <tr>\n      <th>Puebla de Guzmán</th>\n      <td>110.0</td>\n      <td>1.0</td>\n      <td>2.0</td>\n      <td>3092.0</td>\n      <td>32.341527</td>\n      <td>64.683053</td>\n      <td>0.0</td>\n    </tr>\n    <tr>\n      <th>Huelva (capital)</th>\n      <td>6721.0</td>\n      <td>58.0</td>\n      <td>93.0</td>\n      <td>143837.0</td>\n      <td>40.323422</td>\n      <td>64.656521</td>\n      <td>14.0</td>\n    </tr>\n    <tr>\n      <th>Lepe</th>\n      <td>2023.0</td>\n      <td>10.0</td>\n      <td>18.0</td>\n      <td>27880.0</td>\n      <td>35.868006</td>\n      <td>64.562410</td>\n      <td>2.0</td>\n    </tr>\n    <tr>\n      <th>Punta Umbría</th>\n      <td>667.0</td>\n      <td>4.0</td>\n      <td>9.0</td>\n      <td>15355.0</td>\n      <td>26.050147</td>\n      <td>58.612830</td>\n      <td>1.0</td>\n    </tr>\n    <tr>\n      <th>Ayamonte</th>\n      <td>1245.0</td>\n      <td>5.0</td>\n      <td>12.0</td>\n      <td>21104.0</td>\n      <td>23.692191</td>\n      <td>56.861259</td>\n      <td>1.0</td>\n    </tr>\n    <tr>\n      <th>Isla Cristina</th>\n      <td>2012.0</td>\n      <td>2.0</td>\n      <td>12.0</td>\n      <td>21393.0</td>\n      <td>9.348852</td>\n      <td>56.093115</td>\n      <td>1.0</td>\n    </tr>\n    <tr>\n      <th>Valverde del Camino</th>\n      <td>430.0</td>\n      <td>3.0</td>\n      <td>7.0</td>\n      <td>12750.0</td>\n      <td>23.529412</td>\n      <td>54.901961</td>\n      <td>1.0</td>\n    </tr>\n    <tr>\n      <th>Trigueros</th>\n      <td>232.0</td>\n      <td>4.0</td>\n      <td>4.0</td>\n      <td>7862.0</td>\n      <td>50.877639</td>\n      <td>50.877639</td>\n      <td>3.0</td>\n    </tr>\n    <tr>\n      <th>Manzanilla</th>\n      <td>84.0</td>\n      <td>1.0</td>\n      <td>1.0</td>\n      <td>2118.0</td>\n      <td>47.214353</td>\n      <td>47.214353</td>\n      <td>0.0</td>\n    </tr>\n    <tr>\n      <th>Calañas</th>\n      <td>172.0</td>\n      <td>1.0</td>\n      <td>1.0</td>\n      <td>2768.0</td>\n      <td>36.127168</td>\n      <td>36.127168</td>\n      <td>0.0</td>\n    </tr>\n    <tr>\n      <th>Sierra de Huelva-Andévalo Central</th>\n      <td>2331.0</td>\n      <td>15.0</td>\n      <td>23.0</td>\n      <td>67391.0</td>\n      <td>22.258165</td>\n      <td>34.129186</td>\n      <td>5.0</td>\n    </tr>\n    <tr>\n      <th>Zalamea la Real</th>\n      <td>86.0</td>\n      <td>1.0</td>\n      <td>1.0</td>\n      <td>3054.0</td>\n      <td>32.743942</td>\n      <td>32.743942</td>\n      <td>NaN</td>\n    </tr>\n    <tr>\n      <th>Aljaraque</th>\n      <td>934.0</td>\n      <td>5.0</td>\n      <td>7.0</td>\n      <td>21474.0</td>\n      <td>23.283971</td>\n      <td>32.597560</td>\n      <td>1.0</td>\n    </tr>\n    <tr>\n      <th>Lucena del Puerto</th>\n      <td>162.0</td>\n      <td>1.0</td>\n      <td>1.0</td>\n      <td>3261.0</td>\n      <td>30.665440</td>\n      <td>30.665440</td>\n      <td>0.0</td>\n    </tr>\n  </tbody>\n</table>\n</div>"
     },
     "metadata": {},
     "execution_count": 17
    }
   ],
   "source": [
    "tabla.sort_values('tasa14', ascending=False)"
   ]
  },
  {
   "cell_type": "code",
   "execution_count": 18,
   "metadata": {},
   "outputs": [
    {
     "output_type": "execute_result",
     "data": {
      "text/plain": [
       "Medida                             Confirmados PDIA  Confirmados PDIA 7 días  \\\n",
       "Lugar de residencia                                                            \n",
       "Alosno                                        150.0                      2.0   \n",
       "Isla Cristina                                2012.0                      2.0   \n",
       "Paterna del Campo                             120.0                      2.0   \n",
       "Ayamonte                                     1245.0                      5.0   \n",
       "Gibraleón                                     546.0                     10.0   \n",
       "Villalba del Alcor                            462.0                      3.0   \n",
       "Valverde del Camino                           430.0                      3.0   \n",
       "Punta Umbría                                  667.0                      4.0   \n",
       "Almonte                                      1028.0                     57.0   \n",
       "Niebla                                        175.0                      8.0   \n",
       "Huelva-Costa                                15430.0                    109.0   \n",
       "Puebla de Guzmán                              110.0                      1.0   \n",
       "Cartaya                                      1015.0                     21.0   \n",
       "Escacena del Campo                            142.0                      1.0   \n",
       "Moguer                                        894.0                     23.0   \n",
       "Rociana del Condado                           381.0                     31.0   \n",
       "Huelva                                      25681.0                    367.0   \n",
       "Condado-Campiña                              7499.0                    238.0   \n",
       "Lepe                                         2023.0                     10.0   \n",
       "Huelva (capital)                             6721.0                     58.0   \n",
       "San Bartolomé de la Torre                     237.0                     17.0   \n",
       "Bollullos Par del Condado                     683.0                     33.0   \n",
       "Sierra de Huelva-Andévalo Central            2331.0                     15.0   \n",
       "Aroche                                         83.0                      2.0   \n",
       "Palos de la Frontera                          487.0                     17.0   \n",
       "San Juan del Puerto                           379.0                      9.0   \n",
       "Aracena                                       460.0                      7.0   \n",
       "Aljaraque                                     934.0                      5.0   \n",
       "Palma del Condado (La)                        995.0                      6.0   \n",
       "Bonares                                       196.0                     15.0   \n",
       "Manzanilla                                     84.0                      1.0   \n",
       "Lucena del Puerto                             162.0                      1.0   \n",
       "Galaroza                                       15.0                      1.0   \n",
       "Calañas                                       172.0                      1.0   \n",
       "Trigueros                                     232.0                      4.0   \n",
       "Paymogo                                        74.0                      1.0   \n",
       "Zalamea la Real                                86.0                      1.0   \n",
       "\n",
       "Medida                             Confirmados PDIA 14 días  Población  \\\n",
       "Lugar de residencia                                                      \n",
       "Alosno                                                 25.0     3933.0   \n",
       "Isla Cristina                                          12.0    21393.0   \n",
       "Paterna del Campo                                       8.0     3457.0   \n",
       "Ayamonte                                               12.0    21104.0   \n",
       "Gibraleón                                              24.0    12737.0   \n",
       "Villalba del Alcor                                      7.0     3366.0   \n",
       "Valverde del Camino                                     7.0    12750.0   \n",
       "Punta Umbría                                            9.0    15355.0   \n",
       "Almonte                                               126.0    24507.0   \n",
       "Niebla                                                 17.0     4116.0   \n",
       "Huelva-Costa                                          221.0   289548.0   \n",
       "Puebla de Guzmán                                        2.0     3092.0   \n",
       "Cartaya                                                42.0    20083.0   \n",
       "Escacena del Campo                                      2.0     2287.0   \n",
       "Moguer                                                 45.0    21867.0   \n",
       "Rociana del Condado                                    60.0     7939.0   \n",
       "Huelva                                                695.0   513170.0   \n",
       "Condado-Campiña                                       436.0   156231.0   \n",
       "Lepe                                                   18.0    27880.0   \n",
       "Huelva (capital)                                       93.0   143837.0   \n",
       "San Bartolomé de la Torre                              27.0     3761.0   \n",
       "Bollullos Par del Condado                              52.0    14387.0   \n",
       "Sierra de Huelva-Andévalo Central                      23.0    67391.0   \n",
       "Aroche                                                  3.0     3054.0   \n",
       "Palos de la Frontera                                   25.0    11742.0   \n",
       "San Juan del Puerto                                    13.0     9411.0   \n",
       "Aracena                                                10.0     8255.0   \n",
       "Aljaraque                                               7.0    21474.0   \n",
       "Palma del Condado (La)                                  7.0    10801.0   \n",
       "Bonares                                                16.0     6060.0   \n",
       "Manzanilla                                              1.0     2118.0   \n",
       "Lucena del Puerto                                       1.0     3261.0   \n",
       "Galaroza                                                1.0     1382.0   \n",
       "Calañas                                                 1.0     2768.0   \n",
       "Trigueros                                               4.0     7862.0   \n",
       "Paymogo                                                 1.0     1162.0   \n",
       "Zalamea la Real                                         1.0     3054.0   \n",
       "\n",
       "Medida                                  tasa7      tasa14  Diferencia PDIA  \\\n",
       "Lugar de residencia                                                          \n",
       "Alosno                              50.851767  635.647089              0.0   \n",
       "Isla Cristina                        9.348852   56.093115              1.0   \n",
       "Paterna del Campo                   57.853630  231.414521              0.0   \n",
       "Ayamonte                            23.692191   56.861259              1.0   \n",
       "Gibraleón                           78.511423  188.427416              0.0   \n",
       "Villalba del Alcor                  89.126560  207.961973              0.0   \n",
       "Valverde del Camino                 23.529412   54.901961              1.0   \n",
       "Punta Umbría                        26.050147   58.612830              1.0   \n",
       "Almonte                            232.586608  514.138817              8.0   \n",
       "Niebla                             194.363460  413.022352              0.0   \n",
       "Huelva-Costa                        37.644881   76.325860             23.0   \n",
       "Puebla de Guzmán                    32.341527   64.683053              0.0   \n",
       "Cartaya                            104.566051  209.132102              3.0   \n",
       "Escacena del Campo                  43.725404   87.450809              0.0   \n",
       "Moguer                             105.181323  205.789546              5.0   \n",
       "Rociana del Condado                390.477390  755.762691              7.0   \n",
       "Huelva                              71.516262  135.432703             73.0   \n",
       "Condado-Campiña                    152.338524  279.073935             52.0   \n",
       "Lepe                                35.868006   64.562410              2.0   \n",
       "Huelva (capital)                    40.323422   64.656521             14.0   \n",
       "San Bartolomé de la Torre          452.007445  717.894177              3.0   \n",
       "Bollullos Par del Condado          229.373740  361.437409              3.0   \n",
       "Sierra de Huelva-Andévalo Central   22.258165   34.129186              5.0   \n",
       "Aroche                              65.487885   98.231827              0.0   \n",
       "Palos de la Frontera               144.779424  212.910918              4.0   \n",
       "San Juan del Puerto                 95.632770  138.136224              7.0   \n",
       "Aracena                             84.797093  121.138704              3.0   \n",
       "Aljaraque                           23.283971   32.597560              1.0   \n",
       "Palma del Condado (La)              55.550412   64.808814              1.0   \n",
       "Bonares                            247.524752  264.026403             10.0   \n",
       "Manzanilla                          47.214353   47.214353              0.0   \n",
       "Lucena del Puerto                   30.665440   30.665440              0.0   \n",
       "Galaroza                            72.358900   72.358900              0.0   \n",
       "Calañas                             36.127168   36.127168              0.0   \n",
       "Trigueros                           50.877639   50.877639              3.0   \n",
       "Paymogo                             86.058520   86.058520              0.0   \n",
       "Zalamea la Real                     32.743942   32.743942              0.0   \n",
       "\n",
       "Medida                                 7/14  \n",
       "Lugar de residencia                          \n",
       "Alosno                             0.080000  \n",
       "Isla Cristina                      0.166667  \n",
       "Paterna del Campo                  0.250000  \n",
       "Ayamonte                           0.416667  \n",
       "Gibraleón                          0.416667  \n",
       "Villalba del Alcor                 0.428571  \n",
       "Valverde del Camino                0.428571  \n",
       "Punta Umbría                       0.444444  \n",
       "Almonte                            0.452381  \n",
       "Niebla                             0.470588  \n",
       "Huelva-Costa                       0.493213  \n",
       "Puebla de Guzmán                   0.500000  \n",
       "Cartaya                            0.500000  \n",
       "Escacena del Campo                 0.500000  \n",
       "Moguer                             0.511111  \n",
       "Rociana del Condado                0.516667  \n",
       "Huelva                             0.528058  \n",
       "Condado-Campiña                    0.545872  \n",
       "Lepe                               0.555556  \n",
       "Huelva (capital)                   0.623656  \n",
       "San Bartolomé de la Torre          0.629630  \n",
       "Bollullos Par del Condado          0.634615  \n",
       "Sierra de Huelva-Andévalo Central  0.652174  \n",
       "Aroche                             0.666667  \n",
       "Palos de la Frontera               0.680000  \n",
       "San Juan del Puerto                0.692308  \n",
       "Aracena                            0.700000  \n",
       "Aljaraque                          0.714286  \n",
       "Palma del Condado (La)             0.857143  \n",
       "Bonares                            0.937500  \n",
       "Manzanilla                         1.000000  \n",
       "Lucena del Puerto                  1.000000  \n",
       "Galaroza                           1.000000  \n",
       "Calañas                            1.000000  \n",
       "Trigueros                          1.000000  \n",
       "Paymogo                            1.000000  \n",
       "Zalamea la Real                    1.000000  "
      ],
      "text/html": "<div>\n<style scoped>\n    .dataframe tbody tr th:only-of-type {\n        vertical-align: middle;\n    }\n\n    .dataframe tbody tr th {\n        vertical-align: top;\n    }\n\n    .dataframe thead th {\n        text-align: right;\n    }\n</style>\n<table border=\"1\" class=\"dataframe\">\n  <thead>\n    <tr style=\"text-align: right;\">\n      <th>Medida</th>\n      <th>Confirmados PDIA</th>\n      <th>Confirmados PDIA 7 días</th>\n      <th>Confirmados PDIA 14 días</th>\n      <th>Población</th>\n      <th>tasa7</th>\n      <th>tasa14</th>\n      <th>Diferencia PDIA</th>\n      <th>7/14</th>\n    </tr>\n    <tr>\n      <th>Lugar de residencia</th>\n      <th></th>\n      <th></th>\n      <th></th>\n      <th></th>\n      <th></th>\n      <th></th>\n      <th></th>\n      <th></th>\n    </tr>\n  </thead>\n  <tbody>\n    <tr>\n      <th>Alosno</th>\n      <td>150.0</td>\n      <td>2.0</td>\n      <td>25.0</td>\n      <td>3933.0</td>\n      <td>50.851767</td>\n      <td>635.647089</td>\n      <td>0.0</td>\n      <td>0.080000</td>\n    </tr>\n    <tr>\n      <th>Isla Cristina</th>\n      <td>2012.0</td>\n      <td>2.0</td>\n      <td>12.0</td>\n      <td>21393.0</td>\n      <td>9.348852</td>\n      <td>56.093115</td>\n      <td>1.0</td>\n      <td>0.166667</td>\n    </tr>\n    <tr>\n      <th>Paterna del Campo</th>\n      <td>120.0</td>\n      <td>2.0</td>\n      <td>8.0</td>\n      <td>3457.0</td>\n      <td>57.853630</td>\n      <td>231.414521</td>\n      <td>0.0</td>\n      <td>0.250000</td>\n    </tr>\n    <tr>\n      <th>Ayamonte</th>\n      <td>1245.0</td>\n      <td>5.0</td>\n      <td>12.0</td>\n      <td>21104.0</td>\n      <td>23.692191</td>\n      <td>56.861259</td>\n      <td>1.0</td>\n      <td>0.416667</td>\n    </tr>\n    <tr>\n      <th>Gibraleón</th>\n      <td>546.0</td>\n      <td>10.0</td>\n      <td>24.0</td>\n      <td>12737.0</td>\n      <td>78.511423</td>\n      <td>188.427416</td>\n      <td>0.0</td>\n      <td>0.416667</td>\n    </tr>\n    <tr>\n      <th>Villalba del Alcor</th>\n      <td>462.0</td>\n      <td>3.0</td>\n      <td>7.0</td>\n      <td>3366.0</td>\n      <td>89.126560</td>\n      <td>207.961973</td>\n      <td>0.0</td>\n      <td>0.428571</td>\n    </tr>\n    <tr>\n      <th>Valverde del Camino</th>\n      <td>430.0</td>\n      <td>3.0</td>\n      <td>7.0</td>\n      <td>12750.0</td>\n      <td>23.529412</td>\n      <td>54.901961</td>\n      <td>1.0</td>\n      <td>0.428571</td>\n    </tr>\n    <tr>\n      <th>Punta Umbría</th>\n      <td>667.0</td>\n      <td>4.0</td>\n      <td>9.0</td>\n      <td>15355.0</td>\n      <td>26.050147</td>\n      <td>58.612830</td>\n      <td>1.0</td>\n      <td>0.444444</td>\n    </tr>\n    <tr>\n      <th>Almonte</th>\n      <td>1028.0</td>\n      <td>57.0</td>\n      <td>126.0</td>\n      <td>24507.0</td>\n      <td>232.586608</td>\n      <td>514.138817</td>\n      <td>8.0</td>\n      <td>0.452381</td>\n    </tr>\n    <tr>\n      <th>Niebla</th>\n      <td>175.0</td>\n      <td>8.0</td>\n      <td>17.0</td>\n      <td>4116.0</td>\n      <td>194.363460</td>\n      <td>413.022352</td>\n      <td>0.0</td>\n      <td>0.470588</td>\n    </tr>\n    <tr>\n      <th>Huelva-Costa</th>\n      <td>15430.0</td>\n      <td>109.0</td>\n      <td>221.0</td>\n      <td>289548.0</td>\n      <td>37.644881</td>\n      <td>76.325860</td>\n      <td>23.0</td>\n      <td>0.493213</td>\n    </tr>\n    <tr>\n      <th>Puebla de Guzmán</th>\n      <td>110.0</td>\n      <td>1.0</td>\n      <td>2.0</td>\n      <td>3092.0</td>\n      <td>32.341527</td>\n      <td>64.683053</td>\n      <td>0.0</td>\n      <td>0.500000</td>\n    </tr>\n    <tr>\n      <th>Cartaya</th>\n      <td>1015.0</td>\n      <td>21.0</td>\n      <td>42.0</td>\n      <td>20083.0</td>\n      <td>104.566051</td>\n      <td>209.132102</td>\n      <td>3.0</td>\n      <td>0.500000</td>\n    </tr>\n    <tr>\n      <th>Escacena del Campo</th>\n      <td>142.0</td>\n      <td>1.0</td>\n      <td>2.0</td>\n      <td>2287.0</td>\n      <td>43.725404</td>\n      <td>87.450809</td>\n      <td>0.0</td>\n      <td>0.500000</td>\n    </tr>\n    <tr>\n      <th>Moguer</th>\n      <td>894.0</td>\n      <td>23.0</td>\n      <td>45.0</td>\n      <td>21867.0</td>\n      <td>105.181323</td>\n      <td>205.789546</td>\n      <td>5.0</td>\n      <td>0.511111</td>\n    </tr>\n    <tr>\n      <th>Rociana del Condado</th>\n      <td>381.0</td>\n      <td>31.0</td>\n      <td>60.0</td>\n      <td>7939.0</td>\n      <td>390.477390</td>\n      <td>755.762691</td>\n      <td>7.0</td>\n      <td>0.516667</td>\n    </tr>\n    <tr>\n      <th>Huelva</th>\n      <td>25681.0</td>\n      <td>367.0</td>\n      <td>695.0</td>\n      <td>513170.0</td>\n      <td>71.516262</td>\n      <td>135.432703</td>\n      <td>73.0</td>\n      <td>0.528058</td>\n    </tr>\n    <tr>\n      <th>Condado-Campiña</th>\n      <td>7499.0</td>\n      <td>238.0</td>\n      <td>436.0</td>\n      <td>156231.0</td>\n      <td>152.338524</td>\n      <td>279.073935</td>\n      <td>52.0</td>\n      <td>0.545872</td>\n    </tr>\n    <tr>\n      <th>Lepe</th>\n      <td>2023.0</td>\n      <td>10.0</td>\n      <td>18.0</td>\n      <td>27880.0</td>\n      <td>35.868006</td>\n      <td>64.562410</td>\n      <td>2.0</td>\n      <td>0.555556</td>\n    </tr>\n    <tr>\n      <th>Huelva (capital)</th>\n      <td>6721.0</td>\n      <td>58.0</td>\n      <td>93.0</td>\n      <td>143837.0</td>\n      <td>40.323422</td>\n      <td>64.656521</td>\n      <td>14.0</td>\n      <td>0.623656</td>\n    </tr>\n    <tr>\n      <th>San Bartolomé de la Torre</th>\n      <td>237.0</td>\n      <td>17.0</td>\n      <td>27.0</td>\n      <td>3761.0</td>\n      <td>452.007445</td>\n      <td>717.894177</td>\n      <td>3.0</td>\n      <td>0.629630</td>\n    </tr>\n    <tr>\n      <th>Bollullos Par del Condado</th>\n      <td>683.0</td>\n      <td>33.0</td>\n      <td>52.0</td>\n      <td>14387.0</td>\n      <td>229.373740</td>\n      <td>361.437409</td>\n      <td>3.0</td>\n      <td>0.634615</td>\n    </tr>\n    <tr>\n      <th>Sierra de Huelva-Andévalo Central</th>\n      <td>2331.0</td>\n      <td>15.0</td>\n      <td>23.0</td>\n      <td>67391.0</td>\n      <td>22.258165</td>\n      <td>34.129186</td>\n      <td>5.0</td>\n      <td>0.652174</td>\n    </tr>\n    <tr>\n      <th>Aroche</th>\n      <td>83.0</td>\n      <td>2.0</td>\n      <td>3.0</td>\n      <td>3054.0</td>\n      <td>65.487885</td>\n      <td>98.231827</td>\n      <td>0.0</td>\n      <td>0.666667</td>\n    </tr>\n    <tr>\n      <th>Palos de la Frontera</th>\n      <td>487.0</td>\n      <td>17.0</td>\n      <td>25.0</td>\n      <td>11742.0</td>\n      <td>144.779424</td>\n      <td>212.910918</td>\n      <td>4.0</td>\n      <td>0.680000</td>\n    </tr>\n    <tr>\n      <th>San Juan del Puerto</th>\n      <td>379.0</td>\n      <td>9.0</td>\n      <td>13.0</td>\n      <td>9411.0</td>\n      <td>95.632770</td>\n      <td>138.136224</td>\n      <td>7.0</td>\n      <td>0.692308</td>\n    </tr>\n    <tr>\n      <th>Aracena</th>\n      <td>460.0</td>\n      <td>7.0</td>\n      <td>10.0</td>\n      <td>8255.0</td>\n      <td>84.797093</td>\n      <td>121.138704</td>\n      <td>3.0</td>\n      <td>0.700000</td>\n    </tr>\n    <tr>\n      <th>Aljaraque</th>\n      <td>934.0</td>\n      <td>5.0</td>\n      <td>7.0</td>\n      <td>21474.0</td>\n      <td>23.283971</td>\n      <td>32.597560</td>\n      <td>1.0</td>\n      <td>0.714286</td>\n    </tr>\n    <tr>\n      <th>Palma del Condado (La)</th>\n      <td>995.0</td>\n      <td>6.0</td>\n      <td>7.0</td>\n      <td>10801.0</td>\n      <td>55.550412</td>\n      <td>64.808814</td>\n      <td>1.0</td>\n      <td>0.857143</td>\n    </tr>\n    <tr>\n      <th>Bonares</th>\n      <td>196.0</td>\n      <td>15.0</td>\n      <td>16.0</td>\n      <td>6060.0</td>\n      <td>247.524752</td>\n      <td>264.026403</td>\n      <td>10.0</td>\n      <td>0.937500</td>\n    </tr>\n    <tr>\n      <th>Manzanilla</th>\n      <td>84.0</td>\n      <td>1.0</td>\n      <td>1.0</td>\n      <td>2118.0</td>\n      <td>47.214353</td>\n      <td>47.214353</td>\n      <td>0.0</td>\n      <td>1.000000</td>\n    </tr>\n    <tr>\n      <th>Lucena del Puerto</th>\n      <td>162.0</td>\n      <td>1.0</td>\n      <td>1.0</td>\n      <td>3261.0</td>\n      <td>30.665440</td>\n      <td>30.665440</td>\n      <td>0.0</td>\n      <td>1.000000</td>\n    </tr>\n    <tr>\n      <th>Galaroza</th>\n      <td>15.0</td>\n      <td>1.0</td>\n      <td>1.0</td>\n      <td>1382.0</td>\n      <td>72.358900</td>\n      <td>72.358900</td>\n      <td>0.0</td>\n      <td>1.000000</td>\n    </tr>\n    <tr>\n      <th>Calañas</th>\n      <td>172.0</td>\n      <td>1.0</td>\n      <td>1.0</td>\n      <td>2768.0</td>\n      <td>36.127168</td>\n      <td>36.127168</td>\n      <td>0.0</td>\n      <td>1.000000</td>\n    </tr>\n    <tr>\n      <th>Trigueros</th>\n      <td>232.0</td>\n      <td>4.0</td>\n      <td>4.0</td>\n      <td>7862.0</td>\n      <td>50.877639</td>\n      <td>50.877639</td>\n      <td>3.0</td>\n      <td>1.000000</td>\n    </tr>\n    <tr>\n      <th>Paymogo</th>\n      <td>74.0</td>\n      <td>1.0</td>\n      <td>1.0</td>\n      <td>1162.0</td>\n      <td>86.058520</td>\n      <td>86.058520</td>\n      <td>0.0</td>\n      <td>1.000000</td>\n    </tr>\n    <tr>\n      <th>Zalamea la Real</th>\n      <td>86.0</td>\n      <td>1.0</td>\n      <td>1.0</td>\n      <td>3054.0</td>\n      <td>32.743942</td>\n      <td>32.743942</td>\n      <td>0.0</td>\n      <td>1.000000</td>\n    </tr>\n  </tbody>\n</table>\n</div>"
     },
     "metadata": {},
     "execution_count": 18
    }
   ],
   "source": [
    "# Peso de la tasa de la última semana en relación con la tasa a 14 días \n",
    "# Mejor cuanto menor. Valor 1 significa que no había casos antes de 7 días.\n",
    "tabla['7/14'] = tabla['tasa7'] / tabla['tasa14']\n",
    "tabla.fillna(0).sort_values('7/14', ascending=True)"
   ]
  },
  {
   "cell_type": "code",
   "execution_count": null,
   "metadata": {},
   "outputs": [],
   "source": []
  }
 ]
}