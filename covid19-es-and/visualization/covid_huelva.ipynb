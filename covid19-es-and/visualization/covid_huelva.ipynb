{
 "metadata": {
  "language_info": {
   "codemirror_mode": {
    "name": "ipython",
    "version": 3
   },
   "file_extension": ".py",
   "mimetype": "text/x-python",
   "name": "python",
   "nbconvert_exporter": "python",
   "pygments_lexer": "ipython3",
   "version": "3.8.6-final"
  },
  "orig_nbformat": 2,
  "kernelspec": {
   "name": "python38564bit75945252d6ba481bad4868286020c89e",
   "display_name": "Python 3.8.5 64-bit",
   "language": "python"
  }
 },
 "nbformat": 4,
 "nbformat_minor": 2,
 "cells": [
  {
   "cell_type": "code",
   "execution_count": 1,
   "metadata": {},
   "outputs": [],
   "source": [
    "import pandas as pd\n",
    "pd.set_option('display.max_rows', None) # Print all rows"
   ]
  },
  {
   "cell_type": "code",
   "execution_count": 2,
   "metadata": {},
   "outputs": [],
   "source": [
    "# FIX SSL: CERTIFICATE_VERIFY_FAILED with Python3\n",
    "# https://stackoverflow.com/a/49174340\n",
    "import ssl\n",
    "\n",
    "ssl._create_default_https_context = ssl._create_unverified_context"
   ]
  },
  {
   "cell_type": "code",
   "execution_count": 3,
   "metadata": {},
   "outputs": [],
   "source": [
    "url = 'https://www.juntadeandalucia.es/institutodeestadisticaycartografia/badea/stpivot/stpivot/Print?cube=013d884c-cfc5-4c21-9e78-e26225682afd&type=3&foto=si&ejecutaDesde=&codConsulta=38668&consTipoVisua=JP'\n",
    "fields = ['Lugar de residencia', 'Medida', 'Valor']\n",
    "df = pd.read_csv(url, delimiter=';', usecols=fields, decimal=',')"
   ]
  },
  {
   "cell_type": "code",
   "execution_count": 4,
   "metadata": {},
   "outputs": [
    {
     "output_type": "execute_result",
     "data": {
      "text/plain": [
       "  Lugar de residencia                    Medida               Valor\n",
       "0              Huelva                 Población              513170\n",
       "1              Huelva          Confirmados PDIA               24343\n",
       "2              Huelva  Confirmados PDIA 14 días                1086\n",
       "3              Huelva         Tasa PDIA 14 días  211,62577703295204\n",
       "4              Huelva   Confirmados PDIA 7 días                 380\n",
       "5              Huelva        Total Confirmados                24573\n",
       "6              Huelva                   Curados               14097\n",
       "7              Huelva                Fallecidos                 270"
      ],
      "text/html": "<div>\n<style scoped>\n    .dataframe tbody tr th:only-of-type {\n        vertical-align: middle;\n    }\n\n    .dataframe tbody tr th {\n        vertical-align: top;\n    }\n\n    .dataframe thead th {\n        text-align: right;\n    }\n</style>\n<table border=\"1\" class=\"dataframe\">\n  <thead>\n    <tr style=\"text-align: right;\">\n      <th></th>\n      <th>Lugar de residencia</th>\n      <th>Medida</th>\n      <th>Valor</th>\n    </tr>\n  </thead>\n  <tbody>\n    <tr>\n      <th>0</th>\n      <td>Huelva</td>\n      <td>Población</td>\n      <td>513170</td>\n    </tr>\n    <tr>\n      <th>1</th>\n      <td>Huelva</td>\n      <td>Confirmados PDIA</td>\n      <td>24343</td>\n    </tr>\n    <tr>\n      <th>2</th>\n      <td>Huelva</td>\n      <td>Confirmados PDIA 14 días</td>\n      <td>1086</td>\n    </tr>\n    <tr>\n      <th>3</th>\n      <td>Huelva</td>\n      <td>Tasa PDIA 14 días</td>\n      <td>211,62577703295204</td>\n    </tr>\n    <tr>\n      <th>4</th>\n      <td>Huelva</td>\n      <td>Confirmados PDIA 7 días</td>\n      <td>380</td>\n    </tr>\n    <tr>\n      <th>5</th>\n      <td>Huelva</td>\n      <td>Total Confirmados</td>\n      <td>24573</td>\n    </tr>\n    <tr>\n      <th>6</th>\n      <td>Huelva</td>\n      <td>Curados</td>\n      <td>14097</td>\n    </tr>\n    <tr>\n      <th>7</th>\n      <td>Huelva</td>\n      <td>Fallecidos</td>\n      <td>270</td>\n    </tr>\n  </tbody>\n</table>\n</div>"
     },
     "metadata": {},
     "execution_count": 4
    }
   ],
   "source": [
    "df[df['Lugar de residencia'] == 'Huelva']"
   ]
  },
  {
   "cell_type": "code",
   "execution_count": 5,
   "metadata": {},
   "outputs": [],
   "source": [
    "df['Valor'] = pd.to_numeric(df['Valor'],errors='coerce')"
   ]
  },
  {
   "cell_type": "code",
   "execution_count": 6,
   "metadata": {},
   "outputs": [],
   "source": [
    "dfAnterior = pd.read_csv('covid_huelva.csv', index_col='Lugar de residencia')"
   ]
  },
  {
   "cell_type": "code",
   "execution_count": 7,
   "metadata": {
    "tags": []
   },
   "outputs": [
    {
     "output_type": "stream",
     "name": "stdout",
     "text": [
      "Confirmados PCR en la provincia de Huelva:  24343.0\n"
     ]
    }
   ],
   "source": [
    "# Confirmados PCR provincia Huelva\n",
    "p = df[df['Lugar de residencia'] == 'Huelva'][df['Medida'] == 'Confirmados PDIA']['Valor'].values[0]\n",
    "print('Confirmados PCR en la provincia de Huelva: ', p)"
   ]
  },
  {
   "cell_type": "code",
   "execution_count": 8,
   "metadata": {
    "tags": []
   },
   "outputs": [
    {
     "output_type": "stream",
     "name": "stdout",
     "text": [
      "Confirmados PCR en Huelva capital:  6502.0\n"
     ]
    }
   ],
   "source": [
    "# Confirmados PCR Huelva capitalpd\n",
    "c = df[df['Lugar de residencia'] == 'Huelva (capital)'][df['Medida'] == 'Confirmados PDIA']['Valor'].values[0]\n",
    "print('Confirmados PCR en Huelva capital: ', c)"
   ]
  },
  {
   "cell_type": "code",
   "execution_count": 9,
   "metadata": {
    "tags": []
   },
   "outputs": [],
   "source": [
    "c7 = df[df['Lugar de residencia'] == 'Huelva (capital)'][df['Medida'] == 'Confirmados PDIA 7 días']['Valor'].values[0]\n",
    "c14 = df[df['Lugar de residencia'] == 'Huelva (capital)'][df['Medida'] == 'Confirmados PDIA 14 días']['Valor'].values[0]\n",
    "p = df[df['Lugar de residencia'] == 'Huelva (capital)'][df['Medida'] == 'Población']['Valor'].values[0]"
   ]
  },
  {
   "cell_type": "code",
   "execution_count": 10,
   "metadata": {
    "tags": []
   },
   "outputs": [
    {
     "output_type": "stream",
     "name": "stdout",
     "text": [
      "Huelva (capital)\n\nUn positivo PCR cada 1219 personas en los últimos 7 días \n\nUn positivo PCR cada 416 personas en los últimos 14 días\n"
     ]
    }
   ],
   "source": [
    "print('Huelva (capital)\\n')\n",
    "#print('Confirmados PCR 7 días x 1,000 habitantes: ', f\"{c7/(p/1000):.5f}\")\n",
    "print('Un positivo PCR cada', f\"{p/c7:.0f}\", 'personas en los últimos 7 días', '\\n')\n",
    "#print('Confirmados PCR 14 días x 1,000 habitantes: ', f\"{c14/(p/1000):.5f}\")\n",
    "print('Un positivo PCR cada', f\"{p/c14:.0f}\", 'personas en los últimos 14 días')"
   ]
  },
  {
   "cell_type": "code",
   "execution_count": 11,
   "metadata": {},
   "outputs": [],
   "source": [
    "filtro = ((df['Medida'] == 'Confirmados PDIA')| (df['Medida'] == 'Confirmados PDIA 7 días') | (df['Medida'] == 'Población' ) | (df['Medida'] == 'Confirmados PDIA 14 días')) & (df['Valor'] > 0)\n",
    "tabla = pd.pivot_table(df.loc[filtro], values='Valor', index='Lugar de residencia', columns='Medida').dropna()"
   ]
  },
  {
   "cell_type": "code",
   "execution_count": 12,
   "metadata": {},
   "outputs": [],
   "source": [
    "# Reorder columns\n",
    "tabla = tabla[['Confirmados PDIA', 'Confirmados PDIA 7 días', 'Confirmados PDIA 14 días', 'Población']]"
   ]
  },
  {
   "cell_type": "code",
   "execution_count": 13,
   "metadata": {},
   "outputs": [],
   "source": [
    "tabla['tasa7'] = tabla['Confirmados PDIA 7 días']/tabla['Población']*100000\n",
    "tabla['tasa14'] = tabla['Confirmados PDIA 14 días']/tabla['Población']*100000"
   ]
  },
  {
   "cell_type": "code",
   "execution_count": 14,
   "metadata": {},
   "outputs": [],
   "source": [
    "tabla['Diferencia PDIA'] = tabla['Confirmados PDIA'] - dfAnterior['Confirmados PDIA']"
   ]
  },
  {
   "cell_type": "code",
   "execution_count": 15,
   "metadata": {},
   "outputs": [
    {
     "output_type": "execute_result",
     "data": {
      "text/plain": [
       "Medida                             Confirmados PDIA  Confirmados PDIA 7 días  \\\n",
       "Lugar de residencia                                                            \n",
       "Huelva                                      24343.0                    380.0   \n",
       "Huelva-Costa                                14846.0                    241.0   \n",
       "Condado-Campiña                              6740.0                    123.0   \n",
       "Huelva (capital)                             6502.0                    118.0   \n",
       "Cartaya                                       915.0                     38.0   \n",
       "Bollullos Par del Condado                     591.0                     23.0   \n",
       "Moguer                                        803.0                     15.0   \n",
       "Almonte                                       826.0                     37.0   \n",
       "Ayamonte                                     1180.0                     13.0   \n",
       "Palos de la Frontera                          440.0                      6.0   \n",
       "Punta Umbría                                  650.0                     13.0   \n",
       "Villablanca                                   168.0                      4.0   \n",
       "Lepe                                         1964.0                     25.0   \n",
       "Sierra de Huelva-Andévalo Central            2327.0                      8.0   \n",
       "Rociana del Condado                           303.0                      7.0   \n",
       "Gibraleón                                     510.0                      8.0   \n",
       "Escacena del Campo                            136.0                      6.0   \n",
       "Bonares                                       179.0                      2.0   \n",
       "San Juan del Puerto                           355.0                      2.0   \n",
       "Isla Cristina                                1981.0                     17.0   \n",
       "Aljaraque                                     921.0                      8.0   \n",
       "Nerva                                         152.0                      1.0   \n",
       "Beas                                          159.0                      3.0   \n",
       "Villanueva de los Castillejos                 146.0                      4.0   \n",
       "Palma del Condado (La)                        960.0                      3.0   \n",
       "Valverde del Camino                           423.0                      3.0   \n",
       "Alosno                                        120.0                      1.0   \n",
       "Calañas                                       171.0                      1.0   \n",
       "Paterna del Campo                             110.0                      1.0   \n",
       "\n",
       "Medida                             Confirmados PDIA 14 días  Población  \\\n",
       "Lugar de residencia                                                      \n",
       "Huelva                                               1086.0   513170.0   \n",
       "Huelva-Costa                                          709.0   289548.0   \n",
       "Condado-Campiña                                       306.0   156231.0   \n",
       "Huelva (capital)                                      346.0   143837.0   \n",
       "Cartaya                                                66.0    20083.0   \n",
       "Bollullos Par del Condado                              45.0    14387.0   \n",
       "Moguer                                                 48.0    21867.0   \n",
       "Almonte                                                84.0    24507.0   \n",
       "Ayamonte                                               45.0    21104.0   \n",
       "Palos de la Frontera                                   27.0    11742.0   \n",
       "Punta Umbría                                           38.0    15355.0   \n",
       "Villablanca                                            14.0     2885.0   \n",
       "Lepe                                                   94.0    27880.0   \n",
       "Sierra de Huelva-Andévalo Central                      47.0    67391.0   \n",
       "Rociana del Condado                                    17.0     7939.0   \n",
       "Gibraleón                                              17.0    12737.0   \n",
       "Escacena del Campo                                      8.0     2287.0   \n",
       "Bonares                                                 9.0     6060.0   \n",
       "San Juan del Puerto                                     6.0     9411.0   \n",
       "Isla Cristina                                          66.0    21393.0   \n",
       "Aljaraque                                              22.0    21474.0   \n",
       "Nerva                                                   7.0     5169.0   \n",
       "Beas                                                    7.0     4341.0   \n",
       "Villanueva de los Castillejos                           9.0     2825.0   \n",
       "Palma del Condado (La)                                 16.0    10801.0   \n",
       "Valverde del Camino                                    15.0    12750.0   \n",
       "Alosno                                                  3.0     3933.0   \n",
       "Calañas                                                 2.0     2768.0   \n",
       "Paterna del Campo                                       1.0     3457.0   \n",
       "\n",
       "Medida                                  tasa7      tasa14  Diferencia PDIA  \n",
       "Lugar de residencia                                                         \n",
       "Huelva                              74.049535  211.625777            108.0  \n",
       "Huelva-Costa                        83.233177  244.864409             65.0  \n",
       "Condado-Campiña                     78.729574  195.863817             39.0  \n",
       "Huelva (capital)                    82.037306  240.550067             33.0  \n",
       "Cartaya                            189.214759  328.636160             10.0  \n",
       "Bollullos Par del Condado          159.866546  312.782373              8.0  \n",
       "Moguer                              68.596515  219.508849              8.0  \n",
       "Almonte                            150.977272  342.759212              7.0  \n",
       "Ayamonte                            61.599697  213.229719              6.0  \n",
       "Palos de la Frontera                51.098620  229.943792              5.0  \n",
       "Punta Umbría                        84.662976  247.476392              4.0  \n",
       "Villablanca                        138.648180  485.268631              4.0  \n",
       "Lepe                                89.670014  337.159254              3.0  \n",
       "Sierra de Huelva-Andévalo Central   11.871021   69.742250              3.0  \n",
       "Rociana del Condado                 88.172314  214.132762              2.0  \n",
       "Gibraleón                           62.809139  133.469420              2.0  \n",
       "Escacena del Campo                 262.352427  349.803236              2.0  \n",
       "Bonares                             33.003300  148.514851              2.0  \n",
       "San Juan del Puerto                 21.251727   63.755180              2.0  \n",
       "Isla Cristina                       79.465246  308.512130              2.0  \n",
       "Aljaraque                           37.254354  102.449474              1.0  \n",
       "Nerva                               19.346102  135.422712              1.0  \n",
       "Beas                                69.108500  161.253167              1.0  \n",
       "Villanueva de los Castillejos      141.592920  318.584071              1.0  \n",
       "Palma del Condado (La)              27.775206  148.134432             -1.0  \n",
       "Valverde del Camino                 23.529412  117.647059             -1.0  \n",
       "Alosno                              25.425884   76.277651              NaN  \n",
       "Calañas                             36.127168   72.254335              NaN  \n",
       "Paterna del Campo                   28.926815   28.926815              NaN  "
      ],
      "text/html": "<div>\n<style scoped>\n    .dataframe tbody tr th:only-of-type {\n        vertical-align: middle;\n    }\n\n    .dataframe tbody tr th {\n        vertical-align: top;\n    }\n\n    .dataframe thead th {\n        text-align: right;\n    }\n</style>\n<table border=\"1\" class=\"dataframe\">\n  <thead>\n    <tr style=\"text-align: right;\">\n      <th>Medida</th>\n      <th>Confirmados PDIA</th>\n      <th>Confirmados PDIA 7 días</th>\n      <th>Confirmados PDIA 14 días</th>\n      <th>Población</th>\n      <th>tasa7</th>\n      <th>tasa14</th>\n      <th>Diferencia PDIA</th>\n    </tr>\n    <tr>\n      <th>Lugar de residencia</th>\n      <th></th>\n      <th></th>\n      <th></th>\n      <th></th>\n      <th></th>\n      <th></th>\n      <th></th>\n    </tr>\n  </thead>\n  <tbody>\n    <tr>\n      <th>Huelva</th>\n      <td>24343.0</td>\n      <td>380.0</td>\n      <td>1086.0</td>\n      <td>513170.0</td>\n      <td>74.049535</td>\n      <td>211.625777</td>\n      <td>108.0</td>\n    </tr>\n    <tr>\n      <th>Huelva-Costa</th>\n      <td>14846.0</td>\n      <td>241.0</td>\n      <td>709.0</td>\n      <td>289548.0</td>\n      <td>83.233177</td>\n      <td>244.864409</td>\n      <td>65.0</td>\n    </tr>\n    <tr>\n      <th>Condado-Campiña</th>\n      <td>6740.0</td>\n      <td>123.0</td>\n      <td>306.0</td>\n      <td>156231.0</td>\n      <td>78.729574</td>\n      <td>195.863817</td>\n      <td>39.0</td>\n    </tr>\n    <tr>\n      <th>Huelva (capital)</th>\n      <td>6502.0</td>\n      <td>118.0</td>\n      <td>346.0</td>\n      <td>143837.0</td>\n      <td>82.037306</td>\n      <td>240.550067</td>\n      <td>33.0</td>\n    </tr>\n    <tr>\n      <th>Cartaya</th>\n      <td>915.0</td>\n      <td>38.0</td>\n      <td>66.0</td>\n      <td>20083.0</td>\n      <td>189.214759</td>\n      <td>328.636160</td>\n      <td>10.0</td>\n    </tr>\n    <tr>\n      <th>Bollullos Par del Condado</th>\n      <td>591.0</td>\n      <td>23.0</td>\n      <td>45.0</td>\n      <td>14387.0</td>\n      <td>159.866546</td>\n      <td>312.782373</td>\n      <td>8.0</td>\n    </tr>\n    <tr>\n      <th>Moguer</th>\n      <td>803.0</td>\n      <td>15.0</td>\n      <td>48.0</td>\n      <td>21867.0</td>\n      <td>68.596515</td>\n      <td>219.508849</td>\n      <td>8.0</td>\n    </tr>\n    <tr>\n      <th>Almonte</th>\n      <td>826.0</td>\n      <td>37.0</td>\n      <td>84.0</td>\n      <td>24507.0</td>\n      <td>150.977272</td>\n      <td>342.759212</td>\n      <td>7.0</td>\n    </tr>\n    <tr>\n      <th>Ayamonte</th>\n      <td>1180.0</td>\n      <td>13.0</td>\n      <td>45.0</td>\n      <td>21104.0</td>\n      <td>61.599697</td>\n      <td>213.229719</td>\n      <td>6.0</td>\n    </tr>\n    <tr>\n      <th>Palos de la Frontera</th>\n      <td>440.0</td>\n      <td>6.0</td>\n      <td>27.0</td>\n      <td>11742.0</td>\n      <td>51.098620</td>\n      <td>229.943792</td>\n      <td>5.0</td>\n    </tr>\n    <tr>\n      <th>Punta Umbría</th>\n      <td>650.0</td>\n      <td>13.0</td>\n      <td>38.0</td>\n      <td>15355.0</td>\n      <td>84.662976</td>\n      <td>247.476392</td>\n      <td>4.0</td>\n    </tr>\n    <tr>\n      <th>Villablanca</th>\n      <td>168.0</td>\n      <td>4.0</td>\n      <td>14.0</td>\n      <td>2885.0</td>\n      <td>138.648180</td>\n      <td>485.268631</td>\n      <td>4.0</td>\n    </tr>\n    <tr>\n      <th>Lepe</th>\n      <td>1964.0</td>\n      <td>25.0</td>\n      <td>94.0</td>\n      <td>27880.0</td>\n      <td>89.670014</td>\n      <td>337.159254</td>\n      <td>3.0</td>\n    </tr>\n    <tr>\n      <th>Sierra de Huelva-Andévalo Central</th>\n      <td>2327.0</td>\n      <td>8.0</td>\n      <td>47.0</td>\n      <td>67391.0</td>\n      <td>11.871021</td>\n      <td>69.742250</td>\n      <td>3.0</td>\n    </tr>\n    <tr>\n      <th>Rociana del Condado</th>\n      <td>303.0</td>\n      <td>7.0</td>\n      <td>17.0</td>\n      <td>7939.0</td>\n      <td>88.172314</td>\n      <td>214.132762</td>\n      <td>2.0</td>\n    </tr>\n    <tr>\n      <th>Gibraleón</th>\n      <td>510.0</td>\n      <td>8.0</td>\n      <td>17.0</td>\n      <td>12737.0</td>\n      <td>62.809139</td>\n      <td>133.469420</td>\n      <td>2.0</td>\n    </tr>\n    <tr>\n      <th>Escacena del Campo</th>\n      <td>136.0</td>\n      <td>6.0</td>\n      <td>8.0</td>\n      <td>2287.0</td>\n      <td>262.352427</td>\n      <td>349.803236</td>\n      <td>2.0</td>\n    </tr>\n    <tr>\n      <th>Bonares</th>\n      <td>179.0</td>\n      <td>2.0</td>\n      <td>9.0</td>\n      <td>6060.0</td>\n      <td>33.003300</td>\n      <td>148.514851</td>\n      <td>2.0</td>\n    </tr>\n    <tr>\n      <th>San Juan del Puerto</th>\n      <td>355.0</td>\n      <td>2.0</td>\n      <td>6.0</td>\n      <td>9411.0</td>\n      <td>21.251727</td>\n      <td>63.755180</td>\n      <td>2.0</td>\n    </tr>\n    <tr>\n      <th>Isla Cristina</th>\n      <td>1981.0</td>\n      <td>17.0</td>\n      <td>66.0</td>\n      <td>21393.0</td>\n      <td>79.465246</td>\n      <td>308.512130</td>\n      <td>2.0</td>\n    </tr>\n    <tr>\n      <th>Aljaraque</th>\n      <td>921.0</td>\n      <td>8.0</td>\n      <td>22.0</td>\n      <td>21474.0</td>\n      <td>37.254354</td>\n      <td>102.449474</td>\n      <td>1.0</td>\n    </tr>\n    <tr>\n      <th>Nerva</th>\n      <td>152.0</td>\n      <td>1.0</td>\n      <td>7.0</td>\n      <td>5169.0</td>\n      <td>19.346102</td>\n      <td>135.422712</td>\n      <td>1.0</td>\n    </tr>\n    <tr>\n      <th>Beas</th>\n      <td>159.0</td>\n      <td>3.0</td>\n      <td>7.0</td>\n      <td>4341.0</td>\n      <td>69.108500</td>\n      <td>161.253167</td>\n      <td>1.0</td>\n    </tr>\n    <tr>\n      <th>Villanueva de los Castillejos</th>\n      <td>146.0</td>\n      <td>4.0</td>\n      <td>9.0</td>\n      <td>2825.0</td>\n      <td>141.592920</td>\n      <td>318.584071</td>\n      <td>1.0</td>\n    </tr>\n    <tr>\n      <th>Palma del Condado (La)</th>\n      <td>960.0</td>\n      <td>3.0</td>\n      <td>16.0</td>\n      <td>10801.0</td>\n      <td>27.775206</td>\n      <td>148.134432</td>\n      <td>-1.0</td>\n    </tr>\n    <tr>\n      <th>Valverde del Camino</th>\n      <td>423.0</td>\n      <td>3.0</td>\n      <td>15.0</td>\n      <td>12750.0</td>\n      <td>23.529412</td>\n      <td>117.647059</td>\n      <td>-1.0</td>\n    </tr>\n    <tr>\n      <th>Alosno</th>\n      <td>120.0</td>\n      <td>1.0</td>\n      <td>3.0</td>\n      <td>3933.0</td>\n      <td>25.425884</td>\n      <td>76.277651</td>\n      <td>NaN</td>\n    </tr>\n    <tr>\n      <th>Calañas</th>\n      <td>171.0</td>\n      <td>1.0</td>\n      <td>2.0</td>\n      <td>2768.0</td>\n      <td>36.127168</td>\n      <td>72.254335</td>\n      <td>NaN</td>\n    </tr>\n    <tr>\n      <th>Paterna del Campo</th>\n      <td>110.0</td>\n      <td>1.0</td>\n      <td>1.0</td>\n      <td>3457.0</td>\n      <td>28.926815</td>\n      <td>28.926815</td>\n      <td>NaN</td>\n    </tr>\n  </tbody>\n</table>\n</div>"
     },
     "metadata": {},
     "execution_count": 15
    }
   ],
   "source": [
    "# Nuevos casos desde la última captura\n",
    "tabla[tabla['Diferencia PDIA'] != 0].sort_values('Diferencia PDIA', ascending=False)"
   ]
  },
  {
   "cell_type": "code",
   "execution_count": 16,
   "metadata": {},
   "outputs": [],
   "source": [
    "if tabla[tabla['Diferencia PDIA'] != 0]['Diferencia PDIA'].sum() > 0:\n",
    "  # Save to csv\n",
    "  tabla.to_csv('covid_huelva.csv', encoding='utf-8', header=True, index=True)  "
   ]
  },
  {
   "cell_type": "code",
   "execution_count": 17,
   "metadata": {},
   "outputs": [
    {
     "output_type": "execute_result",
     "data": {
      "text/plain": [
       "Medida                             Confirmados PDIA  Confirmados PDIA 7 días  \\\n",
       "Lugar de residencia                                                            \n",
       "Villablanca                                   168.0                      4.0   \n",
       "Escacena del Campo                            136.0                      6.0   \n",
       "Almonte                                       826.0                     37.0   \n",
       "Lepe                                         1964.0                     25.0   \n",
       "Cartaya                                       915.0                     38.0   \n",
       "Villanueva de los Castillejos                 146.0                      4.0   \n",
       "Bollullos Par del Condado                     591.0                     23.0   \n",
       "Isla Cristina                                1981.0                     17.0   \n",
       "Punta Umbría                                  650.0                     13.0   \n",
       "Huelva-Costa                                14846.0                    241.0   \n",
       "Huelva (capital)                             6502.0                    118.0   \n",
       "Palos de la Frontera                          440.0                      6.0   \n",
       "Moguer                                        803.0                     15.0   \n",
       "Rociana del Condado                           303.0                      7.0   \n",
       "Ayamonte                                     1180.0                     13.0   \n",
       "Huelva                                      24343.0                    380.0   \n",
       "Condado-Campiña                              6740.0                    123.0   \n",
       "Cerro de Andévalo (El)                        135.0                      1.0   \n",
       "Beas                                          159.0                      3.0   \n",
       "Bonares                                       179.0                      2.0   \n",
       "Palma del Condado (La)                        960.0                      3.0   \n",
       "Manzanilla                                     85.0                      2.0   \n",
       "Nerva                                         152.0                      1.0   \n",
       "Gibraleón                                     510.0                      8.0   \n",
       "Alájar                                         16.0                      1.0   \n",
       "Valverde del Camino                           423.0                      3.0   \n",
       "San Bartolomé de la Torre                     192.0                      3.0   \n",
       "Aljaraque                                     921.0                      8.0   \n",
       "Trigueros                                     223.0                      4.0   \n",
       "Alosno                                        120.0                      1.0   \n",
       "Aracena                                       456.0                      1.0   \n",
       "Calañas                                       171.0                      1.0   \n",
       "Sierra de Huelva-Andévalo Central            2327.0                      8.0   \n",
       "San Juan del Puerto                           355.0                      2.0   \n",
       "Villalba del Alcor                            437.0                      1.0   \n",
       "Paterna del Campo                             110.0                      1.0   \n",
       "\n",
       "Medida                             Confirmados PDIA 14 días  Población  \\\n",
       "Lugar de residencia                                                      \n",
       "Villablanca                                            14.0     2885.0   \n",
       "Escacena del Campo                                      8.0     2287.0   \n",
       "Almonte                                                84.0    24507.0   \n",
       "Lepe                                                   94.0    27880.0   \n",
       "Cartaya                                                66.0    20083.0   \n",
       "Villanueva de los Castillejos                           9.0     2825.0   \n",
       "Bollullos Par del Condado                              45.0    14387.0   \n",
       "Isla Cristina                                          66.0    21393.0   \n",
       "Punta Umbría                                           38.0    15355.0   \n",
       "Huelva-Costa                                          709.0   289548.0   \n",
       "Huelva (capital)                                      346.0   143837.0   \n",
       "Palos de la Frontera                                   27.0    11742.0   \n",
       "Moguer                                                 48.0    21867.0   \n",
       "Rociana del Condado                                    17.0     7939.0   \n",
       "Ayamonte                                               45.0    21104.0   \n",
       "Huelva                                               1086.0   513170.0   \n",
       "Condado-Campiña                                       306.0   156231.0   \n",
       "Cerro de Andévalo (El)                                  4.0     2327.0   \n",
       "Beas                                                    7.0     4341.0   \n",
       "Bonares                                                 9.0     6060.0   \n",
       "Palma del Condado (La)                                 16.0    10801.0   \n",
       "Manzanilla                                              3.0     2118.0   \n",
       "Nerva                                                   7.0     5169.0   \n",
       "Gibraleón                                              17.0    12737.0   \n",
       "Alájar                                                  1.0      759.0   \n",
       "Valverde del Camino                                    15.0    12750.0   \n",
       "San Bartolomé de la Torre                               4.0     3761.0   \n",
       "Aljaraque                                              22.0    21474.0   \n",
       "Trigueros                                               8.0     7862.0   \n",
       "Alosno                                                  3.0     3933.0   \n",
       "Aracena                                                 6.0     8255.0   \n",
       "Calañas                                                 2.0     2768.0   \n",
       "Sierra de Huelva-Andévalo Central                      47.0    67391.0   \n",
       "San Juan del Puerto                                     6.0     9411.0   \n",
       "Villalba del Alcor                                      2.0     3366.0   \n",
       "Paterna del Campo                                       1.0     3457.0   \n",
       "\n",
       "Medida                                  tasa7      tasa14  Diferencia PDIA  \n",
       "Lugar de residencia                                                         \n",
       "Villablanca                        138.648180  485.268631              4.0  \n",
       "Escacena del Campo                 262.352427  349.803236              2.0  \n",
       "Almonte                            150.977272  342.759212              7.0  \n",
       "Lepe                                89.670014  337.159254              3.0  \n",
       "Cartaya                            189.214759  328.636160             10.0  \n",
       "Villanueva de los Castillejos      141.592920  318.584071              1.0  \n",
       "Bollullos Par del Condado          159.866546  312.782373              8.0  \n",
       "Isla Cristina                       79.465246  308.512130              2.0  \n",
       "Punta Umbría                        84.662976  247.476392              4.0  \n",
       "Huelva-Costa                        83.233177  244.864409             65.0  \n",
       "Huelva (capital)                    82.037306  240.550067             33.0  \n",
       "Palos de la Frontera                51.098620  229.943792              5.0  \n",
       "Moguer                              68.596515  219.508849              8.0  \n",
       "Rociana del Condado                 88.172314  214.132762              2.0  \n",
       "Ayamonte                            61.599697  213.229719              6.0  \n",
       "Huelva                              74.049535  211.625777            108.0  \n",
       "Condado-Campiña                     78.729574  195.863817             39.0  \n",
       "Cerro de Andévalo (El)              42.973786  171.895144              0.0  \n",
       "Beas                                69.108500  161.253167              1.0  \n",
       "Bonares                             33.003300  148.514851              2.0  \n",
       "Palma del Condado (La)              27.775206  148.134432             -1.0  \n",
       "Manzanilla                          94.428706  141.643059              0.0  \n",
       "Nerva                               19.346102  135.422712              1.0  \n",
       "Gibraleón                           62.809139  133.469420              2.0  \n",
       "Alájar                             131.752306  131.752306              0.0  \n",
       "Valverde del Camino                 23.529412  117.647059             -1.0  \n",
       "San Bartolomé de la Torre           79.766020  106.354693              0.0  \n",
       "Aljaraque                           37.254354  102.449474              1.0  \n",
       "Trigueros                           50.877639  101.755279              0.0  \n",
       "Alosno                              25.425884   76.277651              NaN  \n",
       "Aracena                             12.113870   72.683222              0.0  \n",
       "Calañas                             36.127168   72.254335              NaN  \n",
       "Sierra de Huelva-Andévalo Central   11.871021   69.742250              3.0  \n",
       "San Juan del Puerto                 21.251727   63.755180              2.0  \n",
       "Villalba del Alcor                  29.708853   59.417706              0.0  \n",
       "Paterna del Campo                   28.926815   28.926815              NaN  "
      ],
      "text/html": "<div>\n<style scoped>\n    .dataframe tbody tr th:only-of-type {\n        vertical-align: middle;\n    }\n\n    .dataframe tbody tr th {\n        vertical-align: top;\n    }\n\n    .dataframe thead th {\n        text-align: right;\n    }\n</style>\n<table border=\"1\" class=\"dataframe\">\n  <thead>\n    <tr style=\"text-align: right;\">\n      <th>Medida</th>\n      <th>Confirmados PDIA</th>\n      <th>Confirmados PDIA 7 días</th>\n      <th>Confirmados PDIA 14 días</th>\n      <th>Población</th>\n      <th>tasa7</th>\n      <th>tasa14</th>\n      <th>Diferencia PDIA</th>\n    </tr>\n    <tr>\n      <th>Lugar de residencia</th>\n      <th></th>\n      <th></th>\n      <th></th>\n      <th></th>\n      <th></th>\n      <th></th>\n      <th></th>\n    </tr>\n  </thead>\n  <tbody>\n    <tr>\n      <th>Villablanca</th>\n      <td>168.0</td>\n      <td>4.0</td>\n      <td>14.0</td>\n      <td>2885.0</td>\n      <td>138.648180</td>\n      <td>485.268631</td>\n      <td>4.0</td>\n    </tr>\n    <tr>\n      <th>Escacena del Campo</th>\n      <td>136.0</td>\n      <td>6.0</td>\n      <td>8.0</td>\n      <td>2287.0</td>\n      <td>262.352427</td>\n      <td>349.803236</td>\n      <td>2.0</td>\n    </tr>\n    <tr>\n      <th>Almonte</th>\n      <td>826.0</td>\n      <td>37.0</td>\n      <td>84.0</td>\n      <td>24507.0</td>\n      <td>150.977272</td>\n      <td>342.759212</td>\n      <td>7.0</td>\n    </tr>\n    <tr>\n      <th>Lepe</th>\n      <td>1964.0</td>\n      <td>25.0</td>\n      <td>94.0</td>\n      <td>27880.0</td>\n      <td>89.670014</td>\n      <td>337.159254</td>\n      <td>3.0</td>\n    </tr>\n    <tr>\n      <th>Cartaya</th>\n      <td>915.0</td>\n      <td>38.0</td>\n      <td>66.0</td>\n      <td>20083.0</td>\n      <td>189.214759</td>\n      <td>328.636160</td>\n      <td>10.0</td>\n    </tr>\n    <tr>\n      <th>Villanueva de los Castillejos</th>\n      <td>146.0</td>\n      <td>4.0</td>\n      <td>9.0</td>\n      <td>2825.0</td>\n      <td>141.592920</td>\n      <td>318.584071</td>\n      <td>1.0</td>\n    </tr>\n    <tr>\n      <th>Bollullos Par del Condado</th>\n      <td>591.0</td>\n      <td>23.0</td>\n      <td>45.0</td>\n      <td>14387.0</td>\n      <td>159.866546</td>\n      <td>312.782373</td>\n      <td>8.0</td>\n    </tr>\n    <tr>\n      <th>Isla Cristina</th>\n      <td>1981.0</td>\n      <td>17.0</td>\n      <td>66.0</td>\n      <td>21393.0</td>\n      <td>79.465246</td>\n      <td>308.512130</td>\n      <td>2.0</td>\n    </tr>\n    <tr>\n      <th>Punta Umbría</th>\n      <td>650.0</td>\n      <td>13.0</td>\n      <td>38.0</td>\n      <td>15355.0</td>\n      <td>84.662976</td>\n      <td>247.476392</td>\n      <td>4.0</td>\n    </tr>\n    <tr>\n      <th>Huelva-Costa</th>\n      <td>14846.0</td>\n      <td>241.0</td>\n      <td>709.0</td>\n      <td>289548.0</td>\n      <td>83.233177</td>\n      <td>244.864409</td>\n      <td>65.0</td>\n    </tr>\n    <tr>\n      <th>Huelva (capital)</th>\n      <td>6502.0</td>\n      <td>118.0</td>\n      <td>346.0</td>\n      <td>143837.0</td>\n      <td>82.037306</td>\n      <td>240.550067</td>\n      <td>33.0</td>\n    </tr>\n    <tr>\n      <th>Palos de la Frontera</th>\n      <td>440.0</td>\n      <td>6.0</td>\n      <td>27.0</td>\n      <td>11742.0</td>\n      <td>51.098620</td>\n      <td>229.943792</td>\n      <td>5.0</td>\n    </tr>\n    <tr>\n      <th>Moguer</th>\n      <td>803.0</td>\n      <td>15.0</td>\n      <td>48.0</td>\n      <td>21867.0</td>\n      <td>68.596515</td>\n      <td>219.508849</td>\n      <td>8.0</td>\n    </tr>\n    <tr>\n      <th>Rociana del Condado</th>\n      <td>303.0</td>\n      <td>7.0</td>\n      <td>17.0</td>\n      <td>7939.0</td>\n      <td>88.172314</td>\n      <td>214.132762</td>\n      <td>2.0</td>\n    </tr>\n    <tr>\n      <th>Ayamonte</th>\n      <td>1180.0</td>\n      <td>13.0</td>\n      <td>45.0</td>\n      <td>21104.0</td>\n      <td>61.599697</td>\n      <td>213.229719</td>\n      <td>6.0</td>\n    </tr>\n    <tr>\n      <th>Huelva</th>\n      <td>24343.0</td>\n      <td>380.0</td>\n      <td>1086.0</td>\n      <td>513170.0</td>\n      <td>74.049535</td>\n      <td>211.625777</td>\n      <td>108.0</td>\n    </tr>\n    <tr>\n      <th>Condado-Campiña</th>\n      <td>6740.0</td>\n      <td>123.0</td>\n      <td>306.0</td>\n      <td>156231.0</td>\n      <td>78.729574</td>\n      <td>195.863817</td>\n      <td>39.0</td>\n    </tr>\n    <tr>\n      <th>Cerro de Andévalo (El)</th>\n      <td>135.0</td>\n      <td>1.0</td>\n      <td>4.0</td>\n      <td>2327.0</td>\n      <td>42.973786</td>\n      <td>171.895144</td>\n      <td>0.0</td>\n    </tr>\n    <tr>\n      <th>Beas</th>\n      <td>159.0</td>\n      <td>3.0</td>\n      <td>7.0</td>\n      <td>4341.0</td>\n      <td>69.108500</td>\n      <td>161.253167</td>\n      <td>1.0</td>\n    </tr>\n    <tr>\n      <th>Bonares</th>\n      <td>179.0</td>\n      <td>2.0</td>\n      <td>9.0</td>\n      <td>6060.0</td>\n      <td>33.003300</td>\n      <td>148.514851</td>\n      <td>2.0</td>\n    </tr>\n    <tr>\n      <th>Palma del Condado (La)</th>\n      <td>960.0</td>\n      <td>3.0</td>\n      <td>16.0</td>\n      <td>10801.0</td>\n      <td>27.775206</td>\n      <td>148.134432</td>\n      <td>-1.0</td>\n    </tr>\n    <tr>\n      <th>Manzanilla</th>\n      <td>85.0</td>\n      <td>2.0</td>\n      <td>3.0</td>\n      <td>2118.0</td>\n      <td>94.428706</td>\n      <td>141.643059</td>\n      <td>0.0</td>\n    </tr>\n    <tr>\n      <th>Nerva</th>\n      <td>152.0</td>\n      <td>1.0</td>\n      <td>7.0</td>\n      <td>5169.0</td>\n      <td>19.346102</td>\n      <td>135.422712</td>\n      <td>1.0</td>\n    </tr>\n    <tr>\n      <th>Gibraleón</th>\n      <td>510.0</td>\n      <td>8.0</td>\n      <td>17.0</td>\n      <td>12737.0</td>\n      <td>62.809139</td>\n      <td>133.469420</td>\n      <td>2.0</td>\n    </tr>\n    <tr>\n      <th>Alájar</th>\n      <td>16.0</td>\n      <td>1.0</td>\n      <td>1.0</td>\n      <td>759.0</td>\n      <td>131.752306</td>\n      <td>131.752306</td>\n      <td>0.0</td>\n    </tr>\n    <tr>\n      <th>Valverde del Camino</th>\n      <td>423.0</td>\n      <td>3.0</td>\n      <td>15.0</td>\n      <td>12750.0</td>\n      <td>23.529412</td>\n      <td>117.647059</td>\n      <td>-1.0</td>\n    </tr>\n    <tr>\n      <th>San Bartolomé de la Torre</th>\n      <td>192.0</td>\n      <td>3.0</td>\n      <td>4.0</td>\n      <td>3761.0</td>\n      <td>79.766020</td>\n      <td>106.354693</td>\n      <td>0.0</td>\n    </tr>\n    <tr>\n      <th>Aljaraque</th>\n      <td>921.0</td>\n      <td>8.0</td>\n      <td>22.0</td>\n      <td>21474.0</td>\n      <td>37.254354</td>\n      <td>102.449474</td>\n      <td>1.0</td>\n    </tr>\n    <tr>\n      <th>Trigueros</th>\n      <td>223.0</td>\n      <td>4.0</td>\n      <td>8.0</td>\n      <td>7862.0</td>\n      <td>50.877639</td>\n      <td>101.755279</td>\n      <td>0.0</td>\n    </tr>\n    <tr>\n      <th>Alosno</th>\n      <td>120.0</td>\n      <td>1.0</td>\n      <td>3.0</td>\n      <td>3933.0</td>\n      <td>25.425884</td>\n      <td>76.277651</td>\n      <td>NaN</td>\n    </tr>\n    <tr>\n      <th>Aracena</th>\n      <td>456.0</td>\n      <td>1.0</td>\n      <td>6.0</td>\n      <td>8255.0</td>\n      <td>12.113870</td>\n      <td>72.683222</td>\n      <td>0.0</td>\n    </tr>\n    <tr>\n      <th>Calañas</th>\n      <td>171.0</td>\n      <td>1.0</td>\n      <td>2.0</td>\n      <td>2768.0</td>\n      <td>36.127168</td>\n      <td>72.254335</td>\n      <td>NaN</td>\n    </tr>\n    <tr>\n      <th>Sierra de Huelva-Andévalo Central</th>\n      <td>2327.0</td>\n      <td>8.0</td>\n      <td>47.0</td>\n      <td>67391.0</td>\n      <td>11.871021</td>\n      <td>69.742250</td>\n      <td>3.0</td>\n    </tr>\n    <tr>\n      <th>San Juan del Puerto</th>\n      <td>355.0</td>\n      <td>2.0</td>\n      <td>6.0</td>\n      <td>9411.0</td>\n      <td>21.251727</td>\n      <td>63.755180</td>\n      <td>2.0</td>\n    </tr>\n    <tr>\n      <th>Villalba del Alcor</th>\n      <td>437.0</td>\n      <td>1.0</td>\n      <td>2.0</td>\n      <td>3366.0</td>\n      <td>29.708853</td>\n      <td>59.417706</td>\n      <td>0.0</td>\n    </tr>\n    <tr>\n      <th>Paterna del Campo</th>\n      <td>110.0</td>\n      <td>1.0</td>\n      <td>1.0</td>\n      <td>3457.0</td>\n      <td>28.926815</td>\n      <td>28.926815</td>\n      <td>NaN</td>\n    </tr>\n  </tbody>\n</table>\n</div>"
     },
     "metadata": {},
     "execution_count": 17
    }
   ],
   "source": [
    "tabla.sort_values('tasa14', ascending=False)"
   ]
  },
  {
   "cell_type": "code",
   "execution_count": 18,
   "metadata": {},
   "outputs": [
    {
     "output_type": "execute_result",
     "data": {
      "text/plain": [
       "Medida                             Confirmados PDIA  Confirmados PDIA 7 días  \\\n",
       "Lugar de residencia                                                            \n",
       "Nerva                                         152.0                      1.0   \n",
       "Aracena                                       456.0                      1.0   \n",
       "Sierra de Huelva-Andévalo Central            2327.0                      8.0   \n",
       "Palma del Condado (La)                        960.0                      3.0   \n",
       "Valverde del Camino                           423.0                      3.0   \n",
       "Bonares                                       179.0                      2.0   \n",
       "Palos de la Frontera                          440.0                      6.0   \n",
       "Cerro de Andévalo (El)                        135.0                      1.0   \n",
       "Isla Cristina                                1981.0                     17.0   \n",
       "Lepe                                         1964.0                     25.0   \n",
       "Villablanca                                   168.0                      4.0   \n",
       "Ayamonte                                     1180.0                     13.0   \n",
       "Moguer                                        803.0                     15.0   \n",
       "Alosno                                        120.0                      1.0   \n",
       "San Juan del Puerto                           355.0                      2.0   \n",
       "Huelva-Costa                                14846.0                    241.0   \n",
       "Huelva (capital)                             6502.0                    118.0   \n",
       "Punta Umbría                                  650.0                     13.0   \n",
       "Huelva                                      24343.0                    380.0   \n",
       "Aljaraque                                     921.0                      8.0   \n",
       "Condado-Campiña                              6740.0                    123.0   \n",
       "Rociana del Condado                           303.0                      7.0   \n",
       "Beas                                          159.0                      3.0   \n",
       "Almonte                                       826.0                     37.0   \n",
       "Villanueva de los Castillejos                 146.0                      4.0   \n",
       "Gibraleón                                     510.0                      8.0   \n",
       "Calañas                                       171.0                      1.0   \n",
       "Trigueros                                     223.0                      4.0   \n",
       "Villalba del Alcor                            437.0                      1.0   \n",
       "Bollullos Par del Condado                     591.0                     23.0   \n",
       "Cartaya                                       915.0                     38.0   \n",
       "Manzanilla                                     85.0                      2.0   \n",
       "San Bartolomé de la Torre                     192.0                      3.0   \n",
       "Escacena del Campo                            136.0                      6.0   \n",
       "Paterna del Campo                             110.0                      1.0   \n",
       "Alájar                                         16.0                      1.0   \n",
       "\n",
       "Medida                             Confirmados PDIA 14 días  Población  \\\n",
       "Lugar de residencia                                                      \n",
       "Nerva                                                   7.0     5169.0   \n",
       "Aracena                                                 6.0     8255.0   \n",
       "Sierra de Huelva-Andévalo Central                      47.0    67391.0   \n",
       "Palma del Condado (La)                                 16.0    10801.0   \n",
       "Valverde del Camino                                    15.0    12750.0   \n",
       "Bonares                                                 9.0     6060.0   \n",
       "Palos de la Frontera                                   27.0    11742.0   \n",
       "Cerro de Andévalo (El)                                  4.0     2327.0   \n",
       "Isla Cristina                                          66.0    21393.0   \n",
       "Lepe                                                   94.0    27880.0   \n",
       "Villablanca                                            14.0     2885.0   \n",
       "Ayamonte                                               45.0    21104.0   \n",
       "Moguer                                                 48.0    21867.0   \n",
       "Alosno                                                  3.0     3933.0   \n",
       "San Juan del Puerto                                     6.0     9411.0   \n",
       "Huelva-Costa                                          709.0   289548.0   \n",
       "Huelva (capital)                                      346.0   143837.0   \n",
       "Punta Umbría                                           38.0    15355.0   \n",
       "Huelva                                               1086.0   513170.0   \n",
       "Aljaraque                                              22.0    21474.0   \n",
       "Condado-Campiña                                       306.0   156231.0   \n",
       "Rociana del Condado                                    17.0     7939.0   \n",
       "Beas                                                    7.0     4341.0   \n",
       "Almonte                                                84.0    24507.0   \n",
       "Villanueva de los Castillejos                           9.0     2825.0   \n",
       "Gibraleón                                              17.0    12737.0   \n",
       "Calañas                                                 2.0     2768.0   \n",
       "Trigueros                                               8.0     7862.0   \n",
       "Villalba del Alcor                                      2.0     3366.0   \n",
       "Bollullos Par del Condado                              45.0    14387.0   \n",
       "Cartaya                                                66.0    20083.0   \n",
       "Manzanilla                                              3.0     2118.0   \n",
       "San Bartolomé de la Torre                               4.0     3761.0   \n",
       "Escacena del Campo                                      8.0     2287.0   \n",
       "Paterna del Campo                                       1.0     3457.0   \n",
       "Alájar                                                  1.0      759.0   \n",
       "\n",
       "Medida                                  tasa7      tasa14  Diferencia PDIA  \\\n",
       "Lugar de residencia                                                          \n",
       "Nerva                               19.346102  135.422712              1.0   \n",
       "Aracena                             12.113870   72.683222              0.0   \n",
       "Sierra de Huelva-Andévalo Central   11.871021   69.742250              3.0   \n",
       "Palma del Condado (La)              27.775206  148.134432             -1.0   \n",
       "Valverde del Camino                 23.529412  117.647059             -1.0   \n",
       "Bonares                             33.003300  148.514851              2.0   \n",
       "Palos de la Frontera                51.098620  229.943792              5.0   \n",
       "Cerro de Andévalo (El)              42.973786  171.895144              0.0   \n",
       "Isla Cristina                       79.465246  308.512130              2.0   \n",
       "Lepe                                89.670014  337.159254              3.0   \n",
       "Villablanca                        138.648180  485.268631              4.0   \n",
       "Ayamonte                            61.599697  213.229719              6.0   \n",
       "Moguer                              68.596515  219.508849              8.0   \n",
       "Alosno                              25.425884   76.277651              0.0   \n",
       "San Juan del Puerto                 21.251727   63.755180              2.0   \n",
       "Huelva-Costa                        83.233177  244.864409             65.0   \n",
       "Huelva (capital)                    82.037306  240.550067             33.0   \n",
       "Punta Umbría                        84.662976  247.476392              4.0   \n",
       "Huelva                              74.049535  211.625777            108.0   \n",
       "Aljaraque                           37.254354  102.449474              1.0   \n",
       "Condado-Campiña                     78.729574  195.863817             39.0   \n",
       "Rociana del Condado                 88.172314  214.132762              2.0   \n",
       "Beas                                69.108500  161.253167              1.0   \n",
       "Almonte                            150.977272  342.759212              7.0   \n",
       "Villanueva de los Castillejos      141.592920  318.584071              1.0   \n",
       "Gibraleón                           62.809139  133.469420              2.0   \n",
       "Calañas                             36.127168   72.254335              0.0   \n",
       "Trigueros                           50.877639  101.755279              0.0   \n",
       "Villalba del Alcor                  29.708853   59.417706              0.0   \n",
       "Bollullos Par del Condado          159.866546  312.782373              8.0   \n",
       "Cartaya                            189.214759  328.636160             10.0   \n",
       "Manzanilla                          94.428706  141.643059              0.0   \n",
       "San Bartolomé de la Torre           79.766020  106.354693              0.0   \n",
       "Escacena del Campo                 262.352427  349.803236              2.0   \n",
       "Paterna del Campo                   28.926815   28.926815              0.0   \n",
       "Alájar                             131.752306  131.752306              0.0   \n",
       "\n",
       "Medida                                 7/14  \n",
       "Lugar de residencia                          \n",
       "Nerva                              0.142857  \n",
       "Aracena                            0.166667  \n",
       "Sierra de Huelva-Andévalo Central  0.170213  \n",
       "Palma del Condado (La)             0.187500  \n",
       "Valverde del Camino                0.200000  \n",
       "Bonares                            0.222222  \n",
       "Palos de la Frontera               0.222222  \n",
       "Cerro de Andévalo (El)             0.250000  \n",
       "Isla Cristina                      0.257576  \n",
       "Lepe                               0.265957  \n",
       "Villablanca                        0.285714  \n",
       "Ayamonte                           0.288889  \n",
       "Moguer                             0.312500  \n",
       "Alosno                             0.333333  \n",
       "San Juan del Puerto                0.333333  \n",
       "Huelva-Costa                       0.339915  \n",
       "Huelva (capital)                   0.341040  \n",
       "Punta Umbría                       0.342105  \n",
       "Huelva                             0.349908  \n",
       "Aljaraque                          0.363636  \n",
       "Condado-Campiña                    0.401961  \n",
       "Rociana del Condado                0.411765  \n",
       "Beas                               0.428571  \n",
       "Almonte                            0.440476  \n",
       "Villanueva de los Castillejos      0.444444  \n",
       "Gibraleón                          0.470588  \n",
       "Calañas                            0.500000  \n",
       "Trigueros                          0.500000  \n",
       "Villalba del Alcor                 0.500000  \n",
       "Bollullos Par del Condado          0.511111  \n",
       "Cartaya                            0.575758  \n",
       "Manzanilla                         0.666667  \n",
       "San Bartolomé de la Torre          0.750000  \n",
       "Escacena del Campo                 0.750000  \n",
       "Paterna del Campo                  1.000000  \n",
       "Alájar                             1.000000  "
      ],
      "text/html": "<div>\n<style scoped>\n    .dataframe tbody tr th:only-of-type {\n        vertical-align: middle;\n    }\n\n    .dataframe tbody tr th {\n        vertical-align: top;\n    }\n\n    .dataframe thead th {\n        text-align: right;\n    }\n</style>\n<table border=\"1\" class=\"dataframe\">\n  <thead>\n    <tr style=\"text-align: right;\">\n      <th>Medida</th>\n      <th>Confirmados PDIA</th>\n      <th>Confirmados PDIA 7 días</th>\n      <th>Confirmados PDIA 14 días</th>\n      <th>Población</th>\n      <th>tasa7</th>\n      <th>tasa14</th>\n      <th>Diferencia PDIA</th>\n      <th>7/14</th>\n    </tr>\n    <tr>\n      <th>Lugar de residencia</th>\n      <th></th>\n      <th></th>\n      <th></th>\n      <th></th>\n      <th></th>\n      <th></th>\n      <th></th>\n      <th></th>\n    </tr>\n  </thead>\n  <tbody>\n    <tr>\n      <th>Nerva</th>\n      <td>152.0</td>\n      <td>1.0</td>\n      <td>7.0</td>\n      <td>5169.0</td>\n      <td>19.346102</td>\n      <td>135.422712</td>\n      <td>1.0</td>\n      <td>0.142857</td>\n    </tr>\n    <tr>\n      <th>Aracena</th>\n      <td>456.0</td>\n      <td>1.0</td>\n      <td>6.0</td>\n      <td>8255.0</td>\n      <td>12.113870</td>\n      <td>72.683222</td>\n      <td>0.0</td>\n      <td>0.166667</td>\n    </tr>\n    <tr>\n      <th>Sierra de Huelva-Andévalo Central</th>\n      <td>2327.0</td>\n      <td>8.0</td>\n      <td>47.0</td>\n      <td>67391.0</td>\n      <td>11.871021</td>\n      <td>69.742250</td>\n      <td>3.0</td>\n      <td>0.170213</td>\n    </tr>\n    <tr>\n      <th>Palma del Condado (La)</th>\n      <td>960.0</td>\n      <td>3.0</td>\n      <td>16.0</td>\n      <td>10801.0</td>\n      <td>27.775206</td>\n      <td>148.134432</td>\n      <td>-1.0</td>\n      <td>0.187500</td>\n    </tr>\n    <tr>\n      <th>Valverde del Camino</th>\n      <td>423.0</td>\n      <td>3.0</td>\n      <td>15.0</td>\n      <td>12750.0</td>\n      <td>23.529412</td>\n      <td>117.647059</td>\n      <td>-1.0</td>\n      <td>0.200000</td>\n    </tr>\n    <tr>\n      <th>Bonares</th>\n      <td>179.0</td>\n      <td>2.0</td>\n      <td>9.0</td>\n      <td>6060.0</td>\n      <td>33.003300</td>\n      <td>148.514851</td>\n      <td>2.0</td>\n      <td>0.222222</td>\n    </tr>\n    <tr>\n      <th>Palos de la Frontera</th>\n      <td>440.0</td>\n      <td>6.0</td>\n      <td>27.0</td>\n      <td>11742.0</td>\n      <td>51.098620</td>\n      <td>229.943792</td>\n      <td>5.0</td>\n      <td>0.222222</td>\n    </tr>\n    <tr>\n      <th>Cerro de Andévalo (El)</th>\n      <td>135.0</td>\n      <td>1.0</td>\n      <td>4.0</td>\n      <td>2327.0</td>\n      <td>42.973786</td>\n      <td>171.895144</td>\n      <td>0.0</td>\n      <td>0.250000</td>\n    </tr>\n    <tr>\n      <th>Isla Cristina</th>\n      <td>1981.0</td>\n      <td>17.0</td>\n      <td>66.0</td>\n      <td>21393.0</td>\n      <td>79.465246</td>\n      <td>308.512130</td>\n      <td>2.0</td>\n      <td>0.257576</td>\n    </tr>\n    <tr>\n      <th>Lepe</th>\n      <td>1964.0</td>\n      <td>25.0</td>\n      <td>94.0</td>\n      <td>27880.0</td>\n      <td>89.670014</td>\n      <td>337.159254</td>\n      <td>3.0</td>\n      <td>0.265957</td>\n    </tr>\n    <tr>\n      <th>Villablanca</th>\n      <td>168.0</td>\n      <td>4.0</td>\n      <td>14.0</td>\n      <td>2885.0</td>\n      <td>138.648180</td>\n      <td>485.268631</td>\n      <td>4.0</td>\n      <td>0.285714</td>\n    </tr>\n    <tr>\n      <th>Ayamonte</th>\n      <td>1180.0</td>\n      <td>13.0</td>\n      <td>45.0</td>\n      <td>21104.0</td>\n      <td>61.599697</td>\n      <td>213.229719</td>\n      <td>6.0</td>\n      <td>0.288889</td>\n    </tr>\n    <tr>\n      <th>Moguer</th>\n      <td>803.0</td>\n      <td>15.0</td>\n      <td>48.0</td>\n      <td>21867.0</td>\n      <td>68.596515</td>\n      <td>219.508849</td>\n      <td>8.0</td>\n      <td>0.312500</td>\n    </tr>\n    <tr>\n      <th>Alosno</th>\n      <td>120.0</td>\n      <td>1.0</td>\n      <td>3.0</td>\n      <td>3933.0</td>\n      <td>25.425884</td>\n      <td>76.277651</td>\n      <td>0.0</td>\n      <td>0.333333</td>\n    </tr>\n    <tr>\n      <th>San Juan del Puerto</th>\n      <td>355.0</td>\n      <td>2.0</td>\n      <td>6.0</td>\n      <td>9411.0</td>\n      <td>21.251727</td>\n      <td>63.755180</td>\n      <td>2.0</td>\n      <td>0.333333</td>\n    </tr>\n    <tr>\n      <th>Huelva-Costa</th>\n      <td>14846.0</td>\n      <td>241.0</td>\n      <td>709.0</td>\n      <td>289548.0</td>\n      <td>83.233177</td>\n      <td>244.864409</td>\n      <td>65.0</td>\n      <td>0.339915</td>\n    </tr>\n    <tr>\n      <th>Huelva (capital)</th>\n      <td>6502.0</td>\n      <td>118.0</td>\n      <td>346.0</td>\n      <td>143837.0</td>\n      <td>82.037306</td>\n      <td>240.550067</td>\n      <td>33.0</td>\n      <td>0.341040</td>\n    </tr>\n    <tr>\n      <th>Punta Umbría</th>\n      <td>650.0</td>\n      <td>13.0</td>\n      <td>38.0</td>\n      <td>15355.0</td>\n      <td>84.662976</td>\n      <td>247.476392</td>\n      <td>4.0</td>\n      <td>0.342105</td>\n    </tr>\n    <tr>\n      <th>Huelva</th>\n      <td>24343.0</td>\n      <td>380.0</td>\n      <td>1086.0</td>\n      <td>513170.0</td>\n      <td>74.049535</td>\n      <td>211.625777</td>\n      <td>108.0</td>\n      <td>0.349908</td>\n    </tr>\n    <tr>\n      <th>Aljaraque</th>\n      <td>921.0</td>\n      <td>8.0</td>\n      <td>22.0</td>\n      <td>21474.0</td>\n      <td>37.254354</td>\n      <td>102.449474</td>\n      <td>1.0</td>\n      <td>0.363636</td>\n    </tr>\n    <tr>\n      <th>Condado-Campiña</th>\n      <td>6740.0</td>\n      <td>123.0</td>\n      <td>306.0</td>\n      <td>156231.0</td>\n      <td>78.729574</td>\n      <td>195.863817</td>\n      <td>39.0</td>\n      <td>0.401961</td>\n    </tr>\n    <tr>\n      <th>Rociana del Condado</th>\n      <td>303.0</td>\n      <td>7.0</td>\n      <td>17.0</td>\n      <td>7939.0</td>\n      <td>88.172314</td>\n      <td>214.132762</td>\n      <td>2.0</td>\n      <td>0.411765</td>\n    </tr>\n    <tr>\n      <th>Beas</th>\n      <td>159.0</td>\n      <td>3.0</td>\n      <td>7.0</td>\n      <td>4341.0</td>\n      <td>69.108500</td>\n      <td>161.253167</td>\n      <td>1.0</td>\n      <td>0.428571</td>\n    </tr>\n    <tr>\n      <th>Almonte</th>\n      <td>826.0</td>\n      <td>37.0</td>\n      <td>84.0</td>\n      <td>24507.0</td>\n      <td>150.977272</td>\n      <td>342.759212</td>\n      <td>7.0</td>\n      <td>0.440476</td>\n    </tr>\n    <tr>\n      <th>Villanueva de los Castillejos</th>\n      <td>146.0</td>\n      <td>4.0</td>\n      <td>9.0</td>\n      <td>2825.0</td>\n      <td>141.592920</td>\n      <td>318.584071</td>\n      <td>1.0</td>\n      <td>0.444444</td>\n    </tr>\n    <tr>\n      <th>Gibraleón</th>\n      <td>510.0</td>\n      <td>8.0</td>\n      <td>17.0</td>\n      <td>12737.0</td>\n      <td>62.809139</td>\n      <td>133.469420</td>\n      <td>2.0</td>\n      <td>0.470588</td>\n    </tr>\n    <tr>\n      <th>Calañas</th>\n      <td>171.0</td>\n      <td>1.0</td>\n      <td>2.0</td>\n      <td>2768.0</td>\n      <td>36.127168</td>\n      <td>72.254335</td>\n      <td>0.0</td>\n      <td>0.500000</td>\n    </tr>\n    <tr>\n      <th>Trigueros</th>\n      <td>223.0</td>\n      <td>4.0</td>\n      <td>8.0</td>\n      <td>7862.0</td>\n      <td>50.877639</td>\n      <td>101.755279</td>\n      <td>0.0</td>\n      <td>0.500000</td>\n    </tr>\n    <tr>\n      <th>Villalba del Alcor</th>\n      <td>437.0</td>\n      <td>1.0</td>\n      <td>2.0</td>\n      <td>3366.0</td>\n      <td>29.708853</td>\n      <td>59.417706</td>\n      <td>0.0</td>\n      <td>0.500000</td>\n    </tr>\n    <tr>\n      <th>Bollullos Par del Condado</th>\n      <td>591.0</td>\n      <td>23.0</td>\n      <td>45.0</td>\n      <td>14387.0</td>\n      <td>159.866546</td>\n      <td>312.782373</td>\n      <td>8.0</td>\n      <td>0.511111</td>\n    </tr>\n    <tr>\n      <th>Cartaya</th>\n      <td>915.0</td>\n      <td>38.0</td>\n      <td>66.0</td>\n      <td>20083.0</td>\n      <td>189.214759</td>\n      <td>328.636160</td>\n      <td>10.0</td>\n      <td>0.575758</td>\n    </tr>\n    <tr>\n      <th>Manzanilla</th>\n      <td>85.0</td>\n      <td>2.0</td>\n      <td>3.0</td>\n      <td>2118.0</td>\n      <td>94.428706</td>\n      <td>141.643059</td>\n      <td>0.0</td>\n      <td>0.666667</td>\n    </tr>\n    <tr>\n      <th>San Bartolomé de la Torre</th>\n      <td>192.0</td>\n      <td>3.0</td>\n      <td>4.0</td>\n      <td>3761.0</td>\n      <td>79.766020</td>\n      <td>106.354693</td>\n      <td>0.0</td>\n      <td>0.750000</td>\n    </tr>\n    <tr>\n      <th>Escacena del Campo</th>\n      <td>136.0</td>\n      <td>6.0</td>\n      <td>8.0</td>\n      <td>2287.0</td>\n      <td>262.352427</td>\n      <td>349.803236</td>\n      <td>2.0</td>\n      <td>0.750000</td>\n    </tr>\n    <tr>\n      <th>Paterna del Campo</th>\n      <td>110.0</td>\n      <td>1.0</td>\n      <td>1.0</td>\n      <td>3457.0</td>\n      <td>28.926815</td>\n      <td>28.926815</td>\n      <td>0.0</td>\n      <td>1.000000</td>\n    </tr>\n    <tr>\n      <th>Alájar</th>\n      <td>16.0</td>\n      <td>1.0</td>\n      <td>1.0</td>\n      <td>759.0</td>\n      <td>131.752306</td>\n      <td>131.752306</td>\n      <td>0.0</td>\n      <td>1.000000</td>\n    </tr>\n  </tbody>\n</table>\n</div>"
     },
     "metadata": {},
     "execution_count": 18
    }
   ],
   "source": [
    "# Peso de la tasa de la última semana en relación con la tasa a 14 días \n",
    "# Mejor cuanto menor. Valor 1 significa que no había casos antes de 7 días.\n",
    "tabla['7/14'] = tabla['tasa7'] / tabla['tasa14']\n",
    "tabla.fillna(0).sort_values('7/14', ascending=True)"
   ]
  },
  {
   "cell_type": "code",
   "execution_count": null,
   "metadata": {},
   "outputs": [],
   "source": []
  }
 ]
}