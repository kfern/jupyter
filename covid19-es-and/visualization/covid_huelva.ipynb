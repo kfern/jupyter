{
 "metadata": {
  "language_info": {
   "codemirror_mode": {
    "name": "ipython",
    "version": 3
   },
   "file_extension": ".py",
   "mimetype": "text/x-python",
   "name": "python",
   "nbconvert_exporter": "python",
   "pygments_lexer": "ipython3",
   "version": "3.9.5"
  },
  "orig_nbformat": 2,
  "kernelspec": {
   "name": "python3",
   "display_name": "Python 3.8.6 64-bit"
  },
  "interpreter": {
   "hash": "31f2aee4e71d21fbe5cf8b01ff0e069b9275f58929596ceb00d14d90e3e16cd6"
  }
 },
 "nbformat": 4,
 "nbformat_minor": 2,
 "cells": [
  {
   "cell_type": "code",
   "execution_count": 1,
   "metadata": {},
   "outputs": [],
   "source": [
    "import pandas as pd\n",
    "pd.set_option('display.max_rows', None) # Print all rows"
   ]
  },
  {
   "cell_type": "code",
   "execution_count": 2,
   "metadata": {},
   "outputs": [],
   "source": [
    "# FIX SSL: CERTIFICATE_VERIFY_FAILED with Python3\n",
    "# https://stackoverflow.com/a/49174340\n",
    "import ssl\n",
    "\n",
    "ssl._create_default_https_context = ssl._create_unverified_context"
   ]
  },
  {
   "cell_type": "code",
   "execution_count": 3,
   "metadata": {},
   "outputs": [],
   "source": [
    "url = 'https://www.juntadeandalucia.es/institutodeestadisticaycartografia/badea/stpivot/stpivot/Print?cube=013d884c-cfc5-4c21-9e78-e26225682afd&type=3&foto=si&ejecutaDesde=&codConsulta=38668&consTipoVisua=JP'\n",
    "fields = ['Lugar de residencia', 'Medida', 'Valor']\n",
    "df = pd.read_csv(url, delimiter=';', usecols=fields, decimal=',')"
   ]
  },
  {
   "cell_type": "code",
   "execution_count": 4,
   "metadata": {},
   "outputs": [
    {
     "output_type": "execute_result",
     "data": {
      "text/plain": [
       "  Lugar de residencia                    Medida               Valor\n",
       "0              Huelva                 Población              513170\n",
       "1              Huelva          Confirmados PDIA               33549\n",
       "2              Huelva  Confirmados PDIA 14 días                 864\n",
       "3              Huelva         Tasa PDIA 14 días  168,36525907593975\n",
       "4              Huelva   Confirmados PDIA 7 días                 364\n",
       "5              Huelva        Total Confirmados                33734\n",
       "6              Huelva                   Curados               31837\n",
       "7              Huelva                Fallecidos                 394"
      ],
      "text/html": "<div>\n<style scoped>\n    .dataframe tbody tr th:only-of-type {\n        vertical-align: middle;\n    }\n\n    .dataframe tbody tr th {\n        vertical-align: top;\n    }\n\n    .dataframe thead th {\n        text-align: right;\n    }\n</style>\n<table border=\"1\" class=\"dataframe\">\n  <thead>\n    <tr style=\"text-align: right;\">\n      <th></th>\n      <th>Lugar de residencia</th>\n      <th>Medida</th>\n      <th>Valor</th>\n    </tr>\n  </thead>\n  <tbody>\n    <tr>\n      <th>0</th>\n      <td>Huelva</td>\n      <td>Población</td>\n      <td>513170</td>\n    </tr>\n    <tr>\n      <th>1</th>\n      <td>Huelva</td>\n      <td>Confirmados PDIA</td>\n      <td>33549</td>\n    </tr>\n    <tr>\n      <th>2</th>\n      <td>Huelva</td>\n      <td>Confirmados PDIA 14 días</td>\n      <td>864</td>\n    </tr>\n    <tr>\n      <th>3</th>\n      <td>Huelva</td>\n      <td>Tasa PDIA 14 días</td>\n      <td>168,36525907593975</td>\n    </tr>\n    <tr>\n      <th>4</th>\n      <td>Huelva</td>\n      <td>Confirmados PDIA 7 días</td>\n      <td>364</td>\n    </tr>\n    <tr>\n      <th>5</th>\n      <td>Huelva</td>\n      <td>Total Confirmados</td>\n      <td>33734</td>\n    </tr>\n    <tr>\n      <th>6</th>\n      <td>Huelva</td>\n      <td>Curados</td>\n      <td>31837</td>\n    </tr>\n    <tr>\n      <th>7</th>\n      <td>Huelva</td>\n      <td>Fallecidos</td>\n      <td>394</td>\n    </tr>\n  </tbody>\n</table>\n</div>"
     },
     "metadata": {},
     "execution_count": 4
    }
   ],
   "source": [
    "df[df['Lugar de residencia'] == 'Huelva']"
   ]
  },
  {
   "cell_type": "code",
   "execution_count": 5,
   "metadata": {},
   "outputs": [],
   "source": [
    "df['Valor'] = pd.to_numeric(df['Valor'],errors='coerce')"
   ]
  },
  {
   "cell_type": "code",
   "execution_count": 6,
   "metadata": {},
   "outputs": [],
   "source": [
    "dfAnterior = pd.read_csv('covid_huelva.csv', index_col='Lugar de residencia')"
   ]
  },
  {
   "cell_type": "code",
   "execution_count": 7,
   "metadata": {
    "tags": []
   },
   "outputs": [
    {
     "output_type": "stream",
     "name": "stdout",
     "text": [
      "Confirmados PCR en la provincia de Huelva:  33549.0\n",
      "/tmp/ipykernel_87705/1396922249.py:2: UserWarning: Boolean Series key will be reindexed to match DataFrame index.\n",
      "  p = df[df['Lugar de residencia'] == 'Huelva'][df['Medida'] == 'Confirmados PDIA']['Valor'].values[0]\n"
     ]
    }
   ],
   "source": [
    "# Confirmados PCR provincia Huelva\n",
    "p = df[df['Lugar de residencia'] == 'Huelva'][df['Medida'] == 'Confirmados PDIA']['Valor'].values[0]\n",
    "print('Confirmados PCR en la provincia de Huelva: ', p)"
   ]
  },
  {
   "cell_type": "code",
   "execution_count": 8,
   "metadata": {
    "tags": []
   },
   "outputs": [
    {
     "output_type": "stream",
     "name": "stdout",
     "text": [
      "Confirmados PCR en Huelva capital:  9182.0\n",
      "/tmp/ipykernel_87705/2509482988.py:2: UserWarning: Boolean Series key will be reindexed to match DataFrame index.\n",
      "  c = df[df['Lugar de residencia'] == 'Huelva (capital)'][df['Medida'] == 'Confirmados PDIA']['Valor'].values[0]\n"
     ]
    }
   ],
   "source": [
    "# Confirmados PCR Huelva capitalpd\n",
    "c = df[df['Lugar de residencia'] == 'Huelva (capital)'][df['Medida'] == 'Confirmados PDIA']['Valor'].values[0]\n",
    "print('Confirmados PCR en Huelva capital: ', c)"
   ]
  },
  {
   "cell_type": "code",
   "execution_count": 9,
   "metadata": {
    "tags": []
   },
   "outputs": [
    {
     "output_type": "stream",
     "name": "stderr",
     "text": [
      "/tmp/ipykernel_87705/2690025379.py:1: UserWarning: Boolean Series key will be reindexed to match DataFrame index.\n  c7 = df[df['Lugar de residencia'] == 'Huelva (capital)'][df['Medida'] == 'Confirmados PDIA 7 días']['Valor'].values[0]\n/tmp/ipykernel_87705/2690025379.py:2: UserWarning: Boolean Series key will be reindexed to match DataFrame index.\n  c14 = df[df['Lugar de residencia'] == 'Huelva (capital)'][df['Medida'] == 'Confirmados PDIA 14 días']['Valor'].values[0]\n/tmp/ipykernel_87705/2690025379.py:3: UserWarning: Boolean Series key will be reindexed to match DataFrame index.\n  p = df[df['Lugar de residencia'] == 'Huelva (capital)'][df['Medida'] == 'Población']['Valor'].values[0]\n"
     ]
    }
   ],
   "source": [
    "c7 = df[df['Lugar de residencia'] == 'Huelva (capital)'][df['Medida'] == 'Confirmados PDIA 7 días']['Valor'].values[0]\n",
    "c14 = df[df['Lugar de residencia'] == 'Huelva (capital)'][df['Medida'] == 'Confirmados PDIA 14 días']['Valor'].values[0]\n",
    "p = df[df['Lugar de residencia'] == 'Huelva (capital)'][df['Medida'] == 'Población']['Valor'].values[0]"
   ]
  },
  {
   "cell_type": "code",
   "execution_count": 10,
   "metadata": {
    "tags": []
   },
   "outputs": [
    {
     "output_type": "stream",
     "name": "stdout",
     "text": [
      "Huelva (capital)\n\nUn positivo PCR cada 1483 personas en los últimos 7 días \n\nUn positivo PCR cada 535 personas en los últimos 14 días\n"
     ]
    }
   ],
   "source": [
    "print('Huelva (capital)\\n')\n",
    "#print('Confirmados PCR 7 días x 1,000 habitantes: ', f\"{c7/(p/1000):.5f}\")\n",
    "print('Un positivo PCR cada', f\"{p/c7:.0f}\", 'personas en los últimos 7 días', '\\n')\n",
    "#print('Confirmados PCR 14 días x 1,000 habitantes: ', f\"{c14/(p/1000):.5f}\")\n",
    "print('Un positivo PCR cada', f\"{p/c14:.0f}\", 'personas en los últimos 14 días')"
   ]
  },
  {
   "cell_type": "code",
   "execution_count": 11,
   "metadata": {},
   "outputs": [],
   "source": [
    "filtro = ((df['Medida'] == 'Confirmados PDIA')| (df['Medida'] == 'Confirmados PDIA 7 días') | (df['Medida'] == 'Población' ) | (df['Medida'] == 'Confirmados PDIA 14 días')) & (df['Valor'] > 0)\n",
    "tabla = pd.pivot_table(df.loc[filtro], values='Valor', index='Lugar de residencia', columns='Medida').dropna()"
   ]
  },
  {
   "cell_type": "code",
   "execution_count": 12,
   "metadata": {},
   "outputs": [],
   "source": [
    "# Reorder columns\n",
    "tabla = tabla[['Confirmados PDIA', 'Confirmados PDIA 7 días', 'Confirmados PDIA 14 días', 'Población']]"
   ]
  },
  {
   "cell_type": "code",
   "execution_count": 13,
   "metadata": {},
   "outputs": [],
   "source": [
    "tabla['tasa7'] = tabla['Confirmados PDIA 7 días']/tabla['Población']*100000\n",
    "tabla['tasa14'] = tabla['Confirmados PDIA 14 días']/tabla['Población']*100000"
   ]
  },
  {
   "cell_type": "code",
   "execution_count": 14,
   "metadata": {},
   "outputs": [],
   "source": [
    "tabla['Diferencia PDIA'] = tabla['Confirmados PDIA'] - dfAnterior['Confirmados PDIA']"
   ]
  },
  {
   "cell_type": "code",
   "execution_count": 15,
   "metadata": {},
   "outputs": [
    {
     "output_type": "execute_result",
     "data": {
      "text/plain": [
       "Medida                             Confirmados PDIA  Confirmados PDIA 7 días  \\\n",
       "Lugar de residencia                                                            \n",
       "Huelva                                      33549.0                    364.0   \n",
       "Huelva-Costa                                19340.0                    238.0   \n",
       "Condado-Campiña                             10904.0                    102.0   \n",
       "Huelva (capital)                             9182.0                     97.0   \n",
       "Moguer                                       1424.0                     31.0   \n",
       "Ayamonte                                     1370.0                     31.0   \n",
       "Bollullos Par del Condado                    1045.0                     13.0   \n",
       "Isla Cristina                                2203.0                     20.0   \n",
       "Sierra de Huelva-Andévalo Central            2951.0                     23.0   \n",
       "Lepe                                         2187.0                     17.0   \n",
       "Valverde del Camino                           669.0                      7.0   \n",
       "Bonares                                       307.0                     10.0   \n",
       "Cartaya                                      1415.0                     25.0   \n",
       "Gibraleón                                     658.0                      5.0   \n",
       "Palos de la Frontera                          734.0                     10.0   \n",
       "Aljaraque                                    1183.0                     21.0   \n",
       "Almonte                                      1921.0                      8.0   \n",
       "Villablanca                                   194.0                      3.0   \n",
       "Palma del Condado (La)                       1199.0                      4.0   \n",
       "Paymogo                                        79.0                      3.0   \n",
       "Puebla de Guzmán                              143.0                      2.0   \n",
       "Punta Umbría                                  859.0                      9.0   \n",
       "Aracena                                       542.0                      2.0   \n",
       "Alosno                                        189.0                     10.0   \n",
       "Nerva                                         181.0                      1.0   \n",
       "\n",
       "Medida                             Confirmados PDIA 14 días  Población  \\\n",
       "Lugar de residencia                                                      \n",
       "Huelva                                                864.0   513170.0   \n",
       "Huelva-Costa                                          496.0   289548.0   \n",
       "Condado-Campiña                                       307.0   156231.0   \n",
       "Huelva (capital)                                      269.0   143837.0   \n",
       "Moguer                                                 64.0    21867.0   \n",
       "Ayamonte                                               38.0    21104.0   \n",
       "Bollullos Par del Condado                              22.0    14387.0   \n",
       "Isla Cristina                                          31.0    21393.0   \n",
       "Sierra de Huelva-Andévalo Central                      58.0    67391.0   \n",
       "Lepe                                                   34.0    27880.0   \n",
       "Valverde del Camino                                    26.0    12750.0   \n",
       "Bonares                                                16.0     6060.0   \n",
       "Cartaya                                                49.0    20083.0   \n",
       "Gibraleón                                              17.0    12737.0   \n",
       "Palos de la Frontera                                   34.0    11742.0   \n",
       "Aljaraque                                              28.0    21474.0   \n",
       "Almonte                                                43.0    24507.0   \n",
       "Villablanca                                             5.0     2885.0   \n",
       "Palma del Condado (La)                                 22.0    10801.0   \n",
       "Paymogo                                                 4.0     1162.0   \n",
       "Puebla de Guzmán                                        6.0     3092.0   \n",
       "Punta Umbría                                           19.0    15355.0   \n",
       "Aracena                                                 3.0     8255.0   \n",
       "Alosno                                                 10.0     3933.0   \n",
       "Nerva                                                   2.0     5169.0   \n",
       "\n",
       "Medida                                  tasa7      tasa14  Diferencia PDIA  \n",
       "Lugar de residencia                                                         \n",
       "Huelva                              70.931660  168.365259             81.0  \n",
       "Huelva-Costa                        82.197080  171.301477             47.0  \n",
       "Condado-Campiña                     65.287939  196.503895             29.0  \n",
       "Huelva (capital)                    67.437447  187.017249             16.0  \n",
       "Moguer                             141.766132  292.678465             10.0  \n",
       "Ayamonte                           146.891585  180.060652              8.0  \n",
       "Bollullos Par del Condado           90.359352  152.915827              7.0  \n",
       "Isla Cristina                       93.488524  144.907213              7.0  \n",
       "Sierra de Huelva-Andévalo Central   34.129186   86.064905              5.0  \n",
       "Lepe                                60.975610  121.951220              5.0  \n",
       "Valverde del Camino                 54.901961  203.921569              3.0  \n",
       "Bonares                            165.016502  264.026403              3.0  \n",
       "Cartaya                            124.483394  243.987452              3.0  \n",
       "Gibraleón                           39.255712  133.469420              3.0  \n",
       "Palos de la Frontera                85.164367  289.558849              3.0  \n",
       "Aljaraque                           97.792680  130.390239              2.0  \n",
       "Almonte                             32.643734  175.460073              2.0  \n",
       "Villablanca                        103.986135  173.310225              2.0  \n",
       "Palma del Condado (La)              37.033608  203.684844              1.0  \n",
       "Paymogo                            258.175559  344.234079              1.0  \n",
       "Puebla de Guzmán                    64.683053  194.049159              1.0  \n",
       "Punta Umbría                        58.612830  123.738196              1.0  \n",
       "Aracena                             24.227741   36.341611              1.0  \n",
       "Alosno                             254.258835  254.258835              1.0  \n",
       "Nerva                               19.346102   38.692204              NaN  "
      ],
      "text/html": "<div>\n<style scoped>\n    .dataframe tbody tr th:only-of-type {\n        vertical-align: middle;\n    }\n\n    .dataframe tbody tr th {\n        vertical-align: top;\n    }\n\n    .dataframe thead th {\n        text-align: right;\n    }\n</style>\n<table border=\"1\" class=\"dataframe\">\n  <thead>\n    <tr style=\"text-align: right;\">\n      <th>Medida</th>\n      <th>Confirmados PDIA</th>\n      <th>Confirmados PDIA 7 días</th>\n      <th>Confirmados PDIA 14 días</th>\n      <th>Población</th>\n      <th>tasa7</th>\n      <th>tasa14</th>\n      <th>Diferencia PDIA</th>\n    </tr>\n    <tr>\n      <th>Lugar de residencia</th>\n      <th></th>\n      <th></th>\n      <th></th>\n      <th></th>\n      <th></th>\n      <th></th>\n      <th></th>\n    </tr>\n  </thead>\n  <tbody>\n    <tr>\n      <th>Huelva</th>\n      <td>33549.0</td>\n      <td>364.0</td>\n      <td>864.0</td>\n      <td>513170.0</td>\n      <td>70.931660</td>\n      <td>168.365259</td>\n      <td>81.0</td>\n    </tr>\n    <tr>\n      <th>Huelva-Costa</th>\n      <td>19340.0</td>\n      <td>238.0</td>\n      <td>496.0</td>\n      <td>289548.0</td>\n      <td>82.197080</td>\n      <td>171.301477</td>\n      <td>47.0</td>\n    </tr>\n    <tr>\n      <th>Condado-Campiña</th>\n      <td>10904.0</td>\n      <td>102.0</td>\n      <td>307.0</td>\n      <td>156231.0</td>\n      <td>65.287939</td>\n      <td>196.503895</td>\n      <td>29.0</td>\n    </tr>\n    <tr>\n      <th>Huelva (capital)</th>\n      <td>9182.0</td>\n      <td>97.0</td>\n      <td>269.0</td>\n      <td>143837.0</td>\n      <td>67.437447</td>\n      <td>187.017249</td>\n      <td>16.0</td>\n    </tr>\n    <tr>\n      <th>Moguer</th>\n      <td>1424.0</td>\n      <td>31.0</td>\n      <td>64.0</td>\n      <td>21867.0</td>\n      <td>141.766132</td>\n      <td>292.678465</td>\n      <td>10.0</td>\n    </tr>\n    <tr>\n      <th>Ayamonte</th>\n      <td>1370.0</td>\n      <td>31.0</td>\n      <td>38.0</td>\n      <td>21104.0</td>\n      <td>146.891585</td>\n      <td>180.060652</td>\n      <td>8.0</td>\n    </tr>\n    <tr>\n      <th>Bollullos Par del Condado</th>\n      <td>1045.0</td>\n      <td>13.0</td>\n      <td>22.0</td>\n      <td>14387.0</td>\n      <td>90.359352</td>\n      <td>152.915827</td>\n      <td>7.0</td>\n    </tr>\n    <tr>\n      <th>Isla Cristina</th>\n      <td>2203.0</td>\n      <td>20.0</td>\n      <td>31.0</td>\n      <td>21393.0</td>\n      <td>93.488524</td>\n      <td>144.907213</td>\n      <td>7.0</td>\n    </tr>\n    <tr>\n      <th>Sierra de Huelva-Andévalo Central</th>\n      <td>2951.0</td>\n      <td>23.0</td>\n      <td>58.0</td>\n      <td>67391.0</td>\n      <td>34.129186</td>\n      <td>86.064905</td>\n      <td>5.0</td>\n    </tr>\n    <tr>\n      <th>Lepe</th>\n      <td>2187.0</td>\n      <td>17.0</td>\n      <td>34.0</td>\n      <td>27880.0</td>\n      <td>60.975610</td>\n      <td>121.951220</td>\n      <td>5.0</td>\n    </tr>\n    <tr>\n      <th>Valverde del Camino</th>\n      <td>669.0</td>\n      <td>7.0</td>\n      <td>26.0</td>\n      <td>12750.0</td>\n      <td>54.901961</td>\n      <td>203.921569</td>\n      <td>3.0</td>\n    </tr>\n    <tr>\n      <th>Bonares</th>\n      <td>307.0</td>\n      <td>10.0</td>\n      <td>16.0</td>\n      <td>6060.0</td>\n      <td>165.016502</td>\n      <td>264.026403</td>\n      <td>3.0</td>\n    </tr>\n    <tr>\n      <th>Cartaya</th>\n      <td>1415.0</td>\n      <td>25.0</td>\n      <td>49.0</td>\n      <td>20083.0</td>\n      <td>124.483394</td>\n      <td>243.987452</td>\n      <td>3.0</td>\n    </tr>\n    <tr>\n      <th>Gibraleón</th>\n      <td>658.0</td>\n      <td>5.0</td>\n      <td>17.0</td>\n      <td>12737.0</td>\n      <td>39.255712</td>\n      <td>133.469420</td>\n      <td>3.0</td>\n    </tr>\n    <tr>\n      <th>Palos de la Frontera</th>\n      <td>734.0</td>\n      <td>10.0</td>\n      <td>34.0</td>\n      <td>11742.0</td>\n      <td>85.164367</td>\n      <td>289.558849</td>\n      <td>3.0</td>\n    </tr>\n    <tr>\n      <th>Aljaraque</th>\n      <td>1183.0</td>\n      <td>21.0</td>\n      <td>28.0</td>\n      <td>21474.0</td>\n      <td>97.792680</td>\n      <td>130.390239</td>\n      <td>2.0</td>\n    </tr>\n    <tr>\n      <th>Almonte</th>\n      <td>1921.0</td>\n      <td>8.0</td>\n      <td>43.0</td>\n      <td>24507.0</td>\n      <td>32.643734</td>\n      <td>175.460073</td>\n      <td>2.0</td>\n    </tr>\n    <tr>\n      <th>Villablanca</th>\n      <td>194.0</td>\n      <td>3.0</td>\n      <td>5.0</td>\n      <td>2885.0</td>\n      <td>103.986135</td>\n      <td>173.310225</td>\n      <td>2.0</td>\n    </tr>\n    <tr>\n      <th>Palma del Condado (La)</th>\n      <td>1199.0</td>\n      <td>4.0</td>\n      <td>22.0</td>\n      <td>10801.0</td>\n      <td>37.033608</td>\n      <td>203.684844</td>\n      <td>1.0</td>\n    </tr>\n    <tr>\n      <th>Paymogo</th>\n      <td>79.0</td>\n      <td>3.0</td>\n      <td>4.0</td>\n      <td>1162.0</td>\n      <td>258.175559</td>\n      <td>344.234079</td>\n      <td>1.0</td>\n    </tr>\n    <tr>\n      <th>Puebla de Guzmán</th>\n      <td>143.0</td>\n      <td>2.0</td>\n      <td>6.0</td>\n      <td>3092.0</td>\n      <td>64.683053</td>\n      <td>194.049159</td>\n      <td>1.0</td>\n    </tr>\n    <tr>\n      <th>Punta Umbría</th>\n      <td>859.0</td>\n      <td>9.0</td>\n      <td>19.0</td>\n      <td>15355.0</td>\n      <td>58.612830</td>\n      <td>123.738196</td>\n      <td>1.0</td>\n    </tr>\n    <tr>\n      <th>Aracena</th>\n      <td>542.0</td>\n      <td>2.0</td>\n      <td>3.0</td>\n      <td>8255.0</td>\n      <td>24.227741</td>\n      <td>36.341611</td>\n      <td>1.0</td>\n    </tr>\n    <tr>\n      <th>Alosno</th>\n      <td>189.0</td>\n      <td>10.0</td>\n      <td>10.0</td>\n      <td>3933.0</td>\n      <td>254.258835</td>\n      <td>254.258835</td>\n      <td>1.0</td>\n    </tr>\n    <tr>\n      <th>Nerva</th>\n      <td>181.0</td>\n      <td>1.0</td>\n      <td>2.0</td>\n      <td>5169.0</td>\n      <td>19.346102</td>\n      <td>38.692204</td>\n      <td>NaN</td>\n    </tr>\n  </tbody>\n</table>\n</div>"
     },
     "metadata": {},
     "execution_count": 15
    }
   ],
   "source": [
    "# Nuevos casos desde la última captura\n",
    "tabla[tabla['Diferencia PDIA'] != 0].sort_values('Diferencia PDIA', ascending=False)"
   ]
  },
  {
   "cell_type": "code",
   "execution_count": 16,
   "metadata": {},
   "outputs": [],
   "source": [
    "if tabla[tabla['Diferencia PDIA'] != 0]['Diferencia PDIA'].sum() != 0:\n",
    "  # Save to csv\n",
    "  tabla.to_csv('covid_huelva.csv', encoding='utf-8', header=True, index=True)  "
   ]
  },
  {
   "cell_type": "code",
   "execution_count": 17,
   "metadata": {},
   "outputs": [
    {
     "output_type": "execute_result",
     "data": {
      "text/plain": [
       "Medida                             Confirmados PDIA  Confirmados PDIA 7 días  \\\n",
       "Lugar de residencia                                                            \n",
       "Cerro de Andévalo (El)                        156.0                      2.0   \n",
       "San Juan del Puerto                           593.0                     10.0   \n",
       "Paymogo                                        79.0                      3.0   \n",
       "Moguer                                       1424.0                     31.0   \n",
       "Palos de la Frontera                          734.0                     10.0   \n",
       "Manzanilla                                    109.0                      3.0   \n",
       "Bonares                                       307.0                     10.0   \n",
       "Alosno                                        189.0                     10.0   \n",
       "Cartaya                                      1415.0                     25.0   \n",
       "Santa Ana la Real                              11.0                      1.0   \n",
       "Valverde del Camino                           669.0                      7.0   \n",
       "Palma del Condado (La)                       1199.0                      4.0   \n",
       "Rociana del Condado                           578.0                      5.0   \n",
       "Condado-Campiña                             10904.0                    102.0   \n",
       "Puebla de Guzmán                              143.0                      2.0   \n",
       "Huelva (capital)                             9182.0                     97.0   \n",
       "Ayamonte                                     1370.0                     31.0   \n",
       "Almonte                                      1921.0                      8.0   \n",
       "Villablanca                                   194.0                      3.0   \n",
       "Huelva-Costa                                19340.0                    238.0   \n",
       "Huelva                                      33549.0                    364.0   \n",
       "Zarza-Perrunal (La)                            27.0                      1.0   \n",
       "Lucena del Puerto                             268.0                      1.0   \n",
       "Bollullos Par del Condado                    1045.0                     13.0   \n",
       "Isla Cristina                                2203.0                     20.0   \n",
       "Gibraleón                                     658.0                      5.0   \n",
       "Aljaraque                                    1183.0                     21.0   \n",
       "Punta Umbría                                  859.0                      9.0   \n",
       "Lepe                                         2187.0                     17.0   \n",
       "Rosal de la Frontera                           33.0                      2.0   \n",
       "Aroche                                         94.0                      3.0   \n",
       "Jabugo                                         67.0                      2.0   \n",
       "Sierra de Huelva-Andévalo Central            2951.0                     23.0   \n",
       "San Bartolomé de la Torre                     308.0                      1.0   \n",
       "Trigueros                                     334.0                      1.0   \n",
       "Campillo (El)                                  74.0                      1.0   \n",
       "Cortegana                                     216.0                      1.0   \n",
       "Nerva                                         181.0                      1.0   \n",
       "Aracena                                       542.0                      2.0   \n",
       "\n",
       "Medida                             Confirmados PDIA 14 días  Población  \\\n",
       "Lugar de residencia                                                      \n",
       "Cerro de Andévalo (El)                                  9.0     2327.0   \n",
       "San Juan del Puerto                                    35.0     9411.0   \n",
       "Paymogo                                                 4.0     1162.0   \n",
       "Moguer                                                 64.0    21867.0   \n",
       "Palos de la Frontera                                   34.0    11742.0   \n",
       "Manzanilla                                              6.0     2118.0   \n",
       "Bonares                                                16.0     6060.0   \n",
       "Alosno                                                 10.0     3933.0   \n",
       "Cartaya                                                49.0    20083.0   \n",
       "Santa Ana la Real                                       1.0      475.0   \n",
       "Valverde del Camino                                    26.0    12750.0   \n",
       "Palma del Condado (La)                                 22.0    10801.0   \n",
       "Rociana del Condado                                    16.0     7939.0   \n",
       "Condado-Campiña                                       307.0   156231.0   \n",
       "Puebla de Guzmán                                        6.0     3092.0   \n",
       "Huelva (capital)                                      269.0   143837.0   \n",
       "Ayamonte                                               38.0    21104.0   \n",
       "Almonte                                                43.0    24507.0   \n",
       "Villablanca                                             5.0     2885.0   \n",
       "Huelva-Costa                                          496.0   289548.0   \n",
       "Huelva                                                864.0   513170.0   \n",
       "Zarza-Perrunal (La)                                     2.0     1253.0   \n",
       "Lucena del Puerto                                       5.0     3261.0   \n",
       "Bollullos Par del Condado                              22.0    14387.0   \n",
       "Isla Cristina                                          31.0    21393.0   \n",
       "Gibraleón                                              17.0    12737.0   \n",
       "Aljaraque                                              28.0    21474.0   \n",
       "Punta Umbría                                           19.0    15355.0   \n",
       "Lepe                                                   34.0    27880.0   \n",
       "Rosal de la Frontera                                    2.0     1697.0   \n",
       "Aroche                                                  3.0     3054.0   \n",
       "Jabugo                                                  2.0     2260.0   \n",
       "Sierra de Huelva-Andévalo Central                      58.0    67391.0   \n",
       "San Bartolomé de la Torre                               3.0     3761.0   \n",
       "Trigueros                                               6.0     7862.0   \n",
       "Campillo (El)                                           1.0     2024.0   \n",
       "Cortegana                                               2.0     4602.0   \n",
       "Nerva                                                   2.0     5169.0   \n",
       "Aracena                                                 3.0     8255.0   \n",
       "\n",
       "Medida                                  tasa7      tasa14  Diferencia PDIA  \n",
       "Lugar de residencia                                                         \n",
       "Cerro de Andévalo (El)              85.947572  386.764074              0.0  \n",
       "San Juan del Puerto                106.258634  371.905217              0.0  \n",
       "Paymogo                            258.175559  344.234079              1.0  \n",
       "Moguer                             141.766132  292.678465             10.0  \n",
       "Palos de la Frontera                85.164367  289.558849              3.0  \n",
       "Manzanilla                         141.643059  283.286119              0.0  \n",
       "Bonares                            165.016502  264.026403              3.0  \n",
       "Alosno                             254.258835  254.258835              1.0  \n",
       "Cartaya                            124.483394  243.987452              3.0  \n",
       "Santa Ana la Real                  210.526316  210.526316              0.0  \n",
       "Valverde del Camino                 54.901961  203.921569              3.0  \n",
       "Palma del Condado (La)              37.033608  203.684844              1.0  \n",
       "Rociana del Condado                 62.980224  201.536717              0.0  \n",
       "Condado-Campiña                     65.287939  196.503895             29.0  \n",
       "Puebla de Guzmán                    64.683053  194.049159              1.0  \n",
       "Huelva (capital)                    67.437447  187.017249             16.0  \n",
       "Ayamonte                           146.891585  180.060652              8.0  \n",
       "Almonte                             32.643734  175.460073              2.0  \n",
       "Villablanca                        103.986135  173.310225              2.0  \n",
       "Huelva-Costa                        82.197080  171.301477             47.0  \n",
       "Huelva                              70.931660  168.365259             81.0  \n",
       "Zarza-Perrunal (La)                 79.808460  159.616919              0.0  \n",
       "Lucena del Puerto                   30.665440  153.327200              0.0  \n",
       "Bollullos Par del Condado           90.359352  152.915827              7.0  \n",
       "Isla Cristina                       93.488524  144.907213              7.0  \n",
       "Gibraleón                           39.255712  133.469420              3.0  \n",
       "Aljaraque                           97.792680  130.390239              2.0  \n",
       "Punta Umbría                        58.612830  123.738196              1.0  \n",
       "Lepe                                60.975610  121.951220              5.0  \n",
       "Rosal de la Frontera               117.855038  117.855038              0.0  \n",
       "Aroche                              98.231827   98.231827              0.0  \n",
       "Jabugo                              88.495575   88.495575              0.0  \n",
       "Sierra de Huelva-Andévalo Central   34.129186   86.064905              5.0  \n",
       "San Bartolomé de la Torre           26.588673   79.766020              0.0  \n",
       "Trigueros                           12.719410   76.316459              0.0  \n",
       "Campillo (El)                       49.407115   49.407115              0.0  \n",
       "Cortegana                           21.729683   43.459365              0.0  \n",
       "Nerva                               19.346102   38.692204              NaN  \n",
       "Aracena                             24.227741   36.341611              1.0  "
      ],
      "text/html": "<div>\n<style scoped>\n    .dataframe tbody tr th:only-of-type {\n        vertical-align: middle;\n    }\n\n    .dataframe tbody tr th {\n        vertical-align: top;\n    }\n\n    .dataframe thead th {\n        text-align: right;\n    }\n</style>\n<table border=\"1\" class=\"dataframe\">\n  <thead>\n    <tr style=\"text-align: right;\">\n      <th>Medida</th>\n      <th>Confirmados PDIA</th>\n      <th>Confirmados PDIA 7 días</th>\n      <th>Confirmados PDIA 14 días</th>\n      <th>Población</th>\n      <th>tasa7</th>\n      <th>tasa14</th>\n      <th>Diferencia PDIA</th>\n    </tr>\n    <tr>\n      <th>Lugar de residencia</th>\n      <th></th>\n      <th></th>\n      <th></th>\n      <th></th>\n      <th></th>\n      <th></th>\n      <th></th>\n    </tr>\n  </thead>\n  <tbody>\n    <tr>\n      <th>Cerro de Andévalo (El)</th>\n      <td>156.0</td>\n      <td>2.0</td>\n      <td>9.0</td>\n      <td>2327.0</td>\n      <td>85.947572</td>\n      <td>386.764074</td>\n      <td>0.0</td>\n    </tr>\n    <tr>\n      <th>San Juan del Puerto</th>\n      <td>593.0</td>\n      <td>10.0</td>\n      <td>35.0</td>\n      <td>9411.0</td>\n      <td>106.258634</td>\n      <td>371.905217</td>\n      <td>0.0</td>\n    </tr>\n    <tr>\n      <th>Paymogo</th>\n      <td>79.0</td>\n      <td>3.0</td>\n      <td>4.0</td>\n      <td>1162.0</td>\n      <td>258.175559</td>\n      <td>344.234079</td>\n      <td>1.0</td>\n    </tr>\n    <tr>\n      <th>Moguer</th>\n      <td>1424.0</td>\n      <td>31.0</td>\n      <td>64.0</td>\n      <td>21867.0</td>\n      <td>141.766132</td>\n      <td>292.678465</td>\n      <td>10.0</td>\n    </tr>\n    <tr>\n      <th>Palos de la Frontera</th>\n      <td>734.0</td>\n      <td>10.0</td>\n      <td>34.0</td>\n      <td>11742.0</td>\n      <td>85.164367</td>\n      <td>289.558849</td>\n      <td>3.0</td>\n    </tr>\n    <tr>\n      <th>Manzanilla</th>\n      <td>109.0</td>\n      <td>3.0</td>\n      <td>6.0</td>\n      <td>2118.0</td>\n      <td>141.643059</td>\n      <td>283.286119</td>\n      <td>0.0</td>\n    </tr>\n    <tr>\n      <th>Bonares</th>\n      <td>307.0</td>\n      <td>10.0</td>\n      <td>16.0</td>\n      <td>6060.0</td>\n      <td>165.016502</td>\n      <td>264.026403</td>\n      <td>3.0</td>\n    </tr>\n    <tr>\n      <th>Alosno</th>\n      <td>189.0</td>\n      <td>10.0</td>\n      <td>10.0</td>\n      <td>3933.0</td>\n      <td>254.258835</td>\n      <td>254.258835</td>\n      <td>1.0</td>\n    </tr>\n    <tr>\n      <th>Cartaya</th>\n      <td>1415.0</td>\n      <td>25.0</td>\n      <td>49.0</td>\n      <td>20083.0</td>\n      <td>124.483394</td>\n      <td>243.987452</td>\n      <td>3.0</td>\n    </tr>\n    <tr>\n      <th>Santa Ana la Real</th>\n      <td>11.0</td>\n      <td>1.0</td>\n      <td>1.0</td>\n      <td>475.0</td>\n      <td>210.526316</td>\n      <td>210.526316</td>\n      <td>0.0</td>\n    </tr>\n    <tr>\n      <th>Valverde del Camino</th>\n      <td>669.0</td>\n      <td>7.0</td>\n      <td>26.0</td>\n      <td>12750.0</td>\n      <td>54.901961</td>\n      <td>203.921569</td>\n      <td>3.0</td>\n    </tr>\n    <tr>\n      <th>Palma del Condado (La)</th>\n      <td>1199.0</td>\n      <td>4.0</td>\n      <td>22.0</td>\n      <td>10801.0</td>\n      <td>37.033608</td>\n      <td>203.684844</td>\n      <td>1.0</td>\n    </tr>\n    <tr>\n      <th>Rociana del Condado</th>\n      <td>578.0</td>\n      <td>5.0</td>\n      <td>16.0</td>\n      <td>7939.0</td>\n      <td>62.980224</td>\n      <td>201.536717</td>\n      <td>0.0</td>\n    </tr>\n    <tr>\n      <th>Condado-Campiña</th>\n      <td>10904.0</td>\n      <td>102.0</td>\n      <td>307.0</td>\n      <td>156231.0</td>\n      <td>65.287939</td>\n      <td>196.503895</td>\n      <td>29.0</td>\n    </tr>\n    <tr>\n      <th>Puebla de Guzmán</th>\n      <td>143.0</td>\n      <td>2.0</td>\n      <td>6.0</td>\n      <td>3092.0</td>\n      <td>64.683053</td>\n      <td>194.049159</td>\n      <td>1.0</td>\n    </tr>\n    <tr>\n      <th>Huelva (capital)</th>\n      <td>9182.0</td>\n      <td>97.0</td>\n      <td>269.0</td>\n      <td>143837.0</td>\n      <td>67.437447</td>\n      <td>187.017249</td>\n      <td>16.0</td>\n    </tr>\n    <tr>\n      <th>Ayamonte</th>\n      <td>1370.0</td>\n      <td>31.0</td>\n      <td>38.0</td>\n      <td>21104.0</td>\n      <td>146.891585</td>\n      <td>180.060652</td>\n      <td>8.0</td>\n    </tr>\n    <tr>\n      <th>Almonte</th>\n      <td>1921.0</td>\n      <td>8.0</td>\n      <td>43.0</td>\n      <td>24507.0</td>\n      <td>32.643734</td>\n      <td>175.460073</td>\n      <td>2.0</td>\n    </tr>\n    <tr>\n      <th>Villablanca</th>\n      <td>194.0</td>\n      <td>3.0</td>\n      <td>5.0</td>\n      <td>2885.0</td>\n      <td>103.986135</td>\n      <td>173.310225</td>\n      <td>2.0</td>\n    </tr>\n    <tr>\n      <th>Huelva-Costa</th>\n      <td>19340.0</td>\n      <td>238.0</td>\n      <td>496.0</td>\n      <td>289548.0</td>\n      <td>82.197080</td>\n      <td>171.301477</td>\n      <td>47.0</td>\n    </tr>\n    <tr>\n      <th>Huelva</th>\n      <td>33549.0</td>\n      <td>364.0</td>\n      <td>864.0</td>\n      <td>513170.0</td>\n      <td>70.931660</td>\n      <td>168.365259</td>\n      <td>81.0</td>\n    </tr>\n    <tr>\n      <th>Zarza-Perrunal (La)</th>\n      <td>27.0</td>\n      <td>1.0</td>\n      <td>2.0</td>\n      <td>1253.0</td>\n      <td>79.808460</td>\n      <td>159.616919</td>\n      <td>0.0</td>\n    </tr>\n    <tr>\n      <th>Lucena del Puerto</th>\n      <td>268.0</td>\n      <td>1.0</td>\n      <td>5.0</td>\n      <td>3261.0</td>\n      <td>30.665440</td>\n      <td>153.327200</td>\n      <td>0.0</td>\n    </tr>\n    <tr>\n      <th>Bollullos Par del Condado</th>\n      <td>1045.0</td>\n      <td>13.0</td>\n      <td>22.0</td>\n      <td>14387.0</td>\n      <td>90.359352</td>\n      <td>152.915827</td>\n      <td>7.0</td>\n    </tr>\n    <tr>\n      <th>Isla Cristina</th>\n      <td>2203.0</td>\n      <td>20.0</td>\n      <td>31.0</td>\n      <td>21393.0</td>\n      <td>93.488524</td>\n      <td>144.907213</td>\n      <td>7.0</td>\n    </tr>\n    <tr>\n      <th>Gibraleón</th>\n      <td>658.0</td>\n      <td>5.0</td>\n      <td>17.0</td>\n      <td>12737.0</td>\n      <td>39.255712</td>\n      <td>133.469420</td>\n      <td>3.0</td>\n    </tr>\n    <tr>\n      <th>Aljaraque</th>\n      <td>1183.0</td>\n      <td>21.0</td>\n      <td>28.0</td>\n      <td>21474.0</td>\n      <td>97.792680</td>\n      <td>130.390239</td>\n      <td>2.0</td>\n    </tr>\n    <tr>\n      <th>Punta Umbría</th>\n      <td>859.0</td>\n      <td>9.0</td>\n      <td>19.0</td>\n      <td>15355.0</td>\n      <td>58.612830</td>\n      <td>123.738196</td>\n      <td>1.0</td>\n    </tr>\n    <tr>\n      <th>Lepe</th>\n      <td>2187.0</td>\n      <td>17.0</td>\n      <td>34.0</td>\n      <td>27880.0</td>\n      <td>60.975610</td>\n      <td>121.951220</td>\n      <td>5.0</td>\n    </tr>\n    <tr>\n      <th>Rosal de la Frontera</th>\n      <td>33.0</td>\n      <td>2.0</td>\n      <td>2.0</td>\n      <td>1697.0</td>\n      <td>117.855038</td>\n      <td>117.855038</td>\n      <td>0.0</td>\n    </tr>\n    <tr>\n      <th>Aroche</th>\n      <td>94.0</td>\n      <td>3.0</td>\n      <td>3.0</td>\n      <td>3054.0</td>\n      <td>98.231827</td>\n      <td>98.231827</td>\n      <td>0.0</td>\n    </tr>\n    <tr>\n      <th>Jabugo</th>\n      <td>67.0</td>\n      <td>2.0</td>\n      <td>2.0</td>\n      <td>2260.0</td>\n      <td>88.495575</td>\n      <td>88.495575</td>\n      <td>0.0</td>\n    </tr>\n    <tr>\n      <th>Sierra de Huelva-Andévalo Central</th>\n      <td>2951.0</td>\n      <td>23.0</td>\n      <td>58.0</td>\n      <td>67391.0</td>\n      <td>34.129186</td>\n      <td>86.064905</td>\n      <td>5.0</td>\n    </tr>\n    <tr>\n      <th>San Bartolomé de la Torre</th>\n      <td>308.0</td>\n      <td>1.0</td>\n      <td>3.0</td>\n      <td>3761.0</td>\n      <td>26.588673</td>\n      <td>79.766020</td>\n      <td>0.0</td>\n    </tr>\n    <tr>\n      <th>Trigueros</th>\n      <td>334.0</td>\n      <td>1.0</td>\n      <td>6.0</td>\n      <td>7862.0</td>\n      <td>12.719410</td>\n      <td>76.316459</td>\n      <td>0.0</td>\n    </tr>\n    <tr>\n      <th>Campillo (El)</th>\n      <td>74.0</td>\n      <td>1.0</td>\n      <td>1.0</td>\n      <td>2024.0</td>\n      <td>49.407115</td>\n      <td>49.407115</td>\n      <td>0.0</td>\n    </tr>\n    <tr>\n      <th>Cortegana</th>\n      <td>216.0</td>\n      <td>1.0</td>\n      <td>2.0</td>\n      <td>4602.0</td>\n      <td>21.729683</td>\n      <td>43.459365</td>\n      <td>0.0</td>\n    </tr>\n    <tr>\n      <th>Nerva</th>\n      <td>181.0</td>\n      <td>1.0</td>\n      <td>2.0</td>\n      <td>5169.0</td>\n      <td>19.346102</td>\n      <td>38.692204</td>\n      <td>NaN</td>\n    </tr>\n    <tr>\n      <th>Aracena</th>\n      <td>542.0</td>\n      <td>2.0</td>\n      <td>3.0</td>\n      <td>8255.0</td>\n      <td>24.227741</td>\n      <td>36.341611</td>\n      <td>1.0</td>\n    </tr>\n  </tbody>\n</table>\n</div>"
     },
     "metadata": {},
     "execution_count": 17
    }
   ],
   "source": [
    "tabla.sort_values('tasa14', ascending=False)"
   ]
  },
  {
   "cell_type": "code",
   "execution_count": 18,
   "metadata": {},
   "outputs": [
    {
     "output_type": "execute_result",
     "data": {
      "text/plain": [
       "Medida                             Confirmados PDIA  Confirmados PDIA 7 días  \\\n",
       "Lugar de residencia                                                            \n",
       "Trigueros                                     334.0                      1.0   \n",
       "Palma del Condado (La)                       1199.0                      4.0   \n",
       "Almonte                                      1921.0                      8.0   \n",
       "Lucena del Puerto                             268.0                      1.0   \n",
       "Cerro de Andévalo (El)                        156.0                      2.0   \n",
       "Valverde del Camino                           669.0                      7.0   \n",
       "San Juan del Puerto                           593.0                     10.0   \n",
       "Palos de la Frontera                          734.0                     10.0   \n",
       "Gibraleón                                     658.0                      5.0   \n",
       "Rociana del Condado                           578.0                      5.0   \n",
       "Condado-Campiña                             10904.0                    102.0   \n",
       "San Bartolomé de la Torre                     308.0                      1.0   \n",
       "Puebla de Guzmán                              143.0                      2.0   \n",
       "Huelva (capital)                             9182.0                     97.0   \n",
       "Sierra de Huelva-Andévalo Central            2951.0                     23.0   \n",
       "Huelva                                      33549.0                    364.0   \n",
       "Punta Umbría                                  859.0                      9.0   \n",
       "Huelva-Costa                                19340.0                    238.0   \n",
       "Moguer                                       1424.0                     31.0   \n",
       "Nerva                                         181.0                      1.0   \n",
       "Lepe                                         2187.0                     17.0   \n",
       "Zarza-Perrunal (La)                            27.0                      1.0   \n",
       "Cortegana                                     216.0                      1.0   \n",
       "Manzanilla                                    109.0                      3.0   \n",
       "Cartaya                                      1415.0                     25.0   \n",
       "Bollullos Par del Condado                    1045.0                     13.0   \n",
       "Villablanca                                   194.0                      3.0   \n",
       "Bonares                                       307.0                     10.0   \n",
       "Isla Cristina                                2203.0                     20.0   \n",
       "Aracena                                       542.0                      2.0   \n",
       "Paymogo                                        79.0                      3.0   \n",
       "Aljaraque                                    1183.0                     21.0   \n",
       "Ayamonte                                     1370.0                     31.0   \n",
       "Santa Ana la Real                              11.0                      1.0   \n",
       "Aroche                                         94.0                      3.0   \n",
       "Jabugo                                         67.0                      2.0   \n",
       "Alosno                                        189.0                     10.0   \n",
       "Campillo (El)                                  74.0                      1.0   \n",
       "Rosal de la Frontera                           33.0                      2.0   \n",
       "\n",
       "Medida                             Confirmados PDIA 14 días  Población  \\\n",
       "Lugar de residencia                                                      \n",
       "Trigueros                                               6.0     7862.0   \n",
       "Palma del Condado (La)                                 22.0    10801.0   \n",
       "Almonte                                                43.0    24507.0   \n",
       "Lucena del Puerto                                       5.0     3261.0   \n",
       "Cerro de Andévalo (El)                                  9.0     2327.0   \n",
       "Valverde del Camino                                    26.0    12750.0   \n",
       "San Juan del Puerto                                    35.0     9411.0   \n",
       "Palos de la Frontera                                   34.0    11742.0   \n",
       "Gibraleón                                              17.0    12737.0   \n",
       "Rociana del Condado                                    16.0     7939.0   \n",
       "Condado-Campiña                                       307.0   156231.0   \n",
       "San Bartolomé de la Torre                               3.0     3761.0   \n",
       "Puebla de Guzmán                                        6.0     3092.0   \n",
       "Huelva (capital)                                      269.0   143837.0   \n",
       "Sierra de Huelva-Andévalo Central                      58.0    67391.0   \n",
       "Huelva                                                864.0   513170.0   \n",
       "Punta Umbría                                           19.0    15355.0   \n",
       "Huelva-Costa                                          496.0   289548.0   \n",
       "Moguer                                                 64.0    21867.0   \n",
       "Nerva                                                   2.0     5169.0   \n",
       "Lepe                                                   34.0    27880.0   \n",
       "Zarza-Perrunal (La)                                     2.0     1253.0   \n",
       "Cortegana                                               2.0     4602.0   \n",
       "Manzanilla                                              6.0     2118.0   \n",
       "Cartaya                                                49.0    20083.0   \n",
       "Bollullos Par del Condado                              22.0    14387.0   \n",
       "Villablanca                                             5.0     2885.0   \n",
       "Bonares                                                16.0     6060.0   \n",
       "Isla Cristina                                          31.0    21393.0   \n",
       "Aracena                                                 3.0     8255.0   \n",
       "Paymogo                                                 4.0     1162.0   \n",
       "Aljaraque                                              28.0    21474.0   \n",
       "Ayamonte                                               38.0    21104.0   \n",
       "Santa Ana la Real                                       1.0      475.0   \n",
       "Aroche                                                  3.0     3054.0   \n",
       "Jabugo                                                  2.0     2260.0   \n",
       "Alosno                                                 10.0     3933.0   \n",
       "Campillo (El)                                           1.0     2024.0   \n",
       "Rosal de la Frontera                                    2.0     1697.0   \n",
       "\n",
       "Medida                                  tasa7      tasa14  Diferencia PDIA  \\\n",
       "Lugar de residencia                                                          \n",
       "Trigueros                           12.719410   76.316459              0.0   \n",
       "Palma del Condado (La)              37.033608  203.684844              1.0   \n",
       "Almonte                             32.643734  175.460073              2.0   \n",
       "Lucena del Puerto                   30.665440  153.327200              0.0   \n",
       "Cerro de Andévalo (El)              85.947572  386.764074              0.0   \n",
       "Valverde del Camino                 54.901961  203.921569              3.0   \n",
       "San Juan del Puerto                106.258634  371.905217              0.0   \n",
       "Palos de la Frontera                85.164367  289.558849              3.0   \n",
       "Gibraleón                           39.255712  133.469420              3.0   \n",
       "Rociana del Condado                 62.980224  201.536717              0.0   \n",
       "Condado-Campiña                     65.287939  196.503895             29.0   \n",
       "San Bartolomé de la Torre           26.588673   79.766020              0.0   \n",
       "Puebla de Guzmán                    64.683053  194.049159              1.0   \n",
       "Huelva (capital)                    67.437447  187.017249             16.0   \n",
       "Sierra de Huelva-Andévalo Central   34.129186   86.064905              5.0   \n",
       "Huelva                              70.931660  168.365259             81.0   \n",
       "Punta Umbría                        58.612830  123.738196              1.0   \n",
       "Huelva-Costa                        82.197080  171.301477             47.0   \n",
       "Moguer                             141.766132  292.678465             10.0   \n",
       "Nerva                               19.346102   38.692204              0.0   \n",
       "Lepe                                60.975610  121.951220              5.0   \n",
       "Zarza-Perrunal (La)                 79.808460  159.616919              0.0   \n",
       "Cortegana                           21.729683   43.459365              0.0   \n",
       "Manzanilla                         141.643059  283.286119              0.0   \n",
       "Cartaya                            124.483394  243.987452              3.0   \n",
       "Bollullos Par del Condado           90.359352  152.915827              7.0   \n",
       "Villablanca                        103.986135  173.310225              2.0   \n",
       "Bonares                            165.016502  264.026403              3.0   \n",
       "Isla Cristina                       93.488524  144.907213              7.0   \n",
       "Aracena                             24.227741   36.341611              1.0   \n",
       "Paymogo                            258.175559  344.234079              1.0   \n",
       "Aljaraque                           97.792680  130.390239              2.0   \n",
       "Ayamonte                           146.891585  180.060652              8.0   \n",
       "Santa Ana la Real                  210.526316  210.526316              0.0   \n",
       "Aroche                              98.231827   98.231827              0.0   \n",
       "Jabugo                              88.495575   88.495575              0.0   \n",
       "Alosno                             254.258835  254.258835              1.0   \n",
       "Campillo (El)                       49.407115   49.407115              0.0   \n",
       "Rosal de la Frontera               117.855038  117.855038              0.0   \n",
       "\n",
       "Medida                                 7/14  \n",
       "Lugar de residencia                          \n",
       "Trigueros                          0.166667  \n",
       "Palma del Condado (La)             0.181818  \n",
       "Almonte                            0.186047  \n",
       "Lucena del Puerto                  0.200000  \n",
       "Cerro de Andévalo (El)             0.222222  \n",
       "Valverde del Camino                0.269231  \n",
       "San Juan del Puerto                0.285714  \n",
       "Palos de la Frontera               0.294118  \n",
       "Gibraleón                          0.294118  \n",
       "Rociana del Condado                0.312500  \n",
       "Condado-Campiña                    0.332248  \n",
       "San Bartolomé de la Torre          0.333333  \n",
       "Puebla de Guzmán                   0.333333  \n",
       "Huelva (capital)                   0.360595  \n",
       "Sierra de Huelva-Andévalo Central  0.396552  \n",
       "Huelva                             0.421296  \n",
       "Punta Umbría                       0.473684  \n",
       "Huelva-Costa                       0.479839  \n",
       "Moguer                             0.484375  \n",
       "Nerva                              0.500000  \n",
       "Lepe                               0.500000  \n",
       "Zarza-Perrunal (La)                0.500000  \n",
       "Cortegana                          0.500000  \n",
       "Manzanilla                         0.500000  \n",
       "Cartaya                            0.510204  \n",
       "Bollullos Par del Condado          0.590909  \n",
       "Villablanca                        0.600000  \n",
       "Bonares                            0.625000  \n",
       "Isla Cristina                      0.645161  \n",
       "Aracena                            0.666667  \n",
       "Paymogo                            0.750000  \n",
       "Aljaraque                          0.750000  \n",
       "Ayamonte                           0.815789  \n",
       "Santa Ana la Real                  1.000000  \n",
       "Aroche                             1.000000  \n",
       "Jabugo                             1.000000  \n",
       "Alosno                             1.000000  \n",
       "Campillo (El)                      1.000000  \n",
       "Rosal de la Frontera               1.000000  "
      ],
      "text/html": "<div>\n<style scoped>\n    .dataframe tbody tr th:only-of-type {\n        vertical-align: middle;\n    }\n\n    .dataframe tbody tr th {\n        vertical-align: top;\n    }\n\n    .dataframe thead th {\n        text-align: right;\n    }\n</style>\n<table border=\"1\" class=\"dataframe\">\n  <thead>\n    <tr style=\"text-align: right;\">\n      <th>Medida</th>\n      <th>Confirmados PDIA</th>\n      <th>Confirmados PDIA 7 días</th>\n      <th>Confirmados PDIA 14 días</th>\n      <th>Población</th>\n      <th>tasa7</th>\n      <th>tasa14</th>\n      <th>Diferencia PDIA</th>\n      <th>7/14</th>\n    </tr>\n    <tr>\n      <th>Lugar de residencia</th>\n      <th></th>\n      <th></th>\n      <th></th>\n      <th></th>\n      <th></th>\n      <th></th>\n      <th></th>\n      <th></th>\n    </tr>\n  </thead>\n  <tbody>\n    <tr>\n      <th>Trigueros</th>\n      <td>334.0</td>\n      <td>1.0</td>\n      <td>6.0</td>\n      <td>7862.0</td>\n      <td>12.719410</td>\n      <td>76.316459</td>\n      <td>0.0</td>\n      <td>0.166667</td>\n    </tr>\n    <tr>\n      <th>Palma del Condado (La)</th>\n      <td>1199.0</td>\n      <td>4.0</td>\n      <td>22.0</td>\n      <td>10801.0</td>\n      <td>37.033608</td>\n      <td>203.684844</td>\n      <td>1.0</td>\n      <td>0.181818</td>\n    </tr>\n    <tr>\n      <th>Almonte</th>\n      <td>1921.0</td>\n      <td>8.0</td>\n      <td>43.0</td>\n      <td>24507.0</td>\n      <td>32.643734</td>\n      <td>175.460073</td>\n      <td>2.0</td>\n      <td>0.186047</td>\n    </tr>\n    <tr>\n      <th>Lucena del Puerto</th>\n      <td>268.0</td>\n      <td>1.0</td>\n      <td>5.0</td>\n      <td>3261.0</td>\n      <td>30.665440</td>\n      <td>153.327200</td>\n      <td>0.0</td>\n      <td>0.200000</td>\n    </tr>\n    <tr>\n      <th>Cerro de Andévalo (El)</th>\n      <td>156.0</td>\n      <td>2.0</td>\n      <td>9.0</td>\n      <td>2327.0</td>\n      <td>85.947572</td>\n      <td>386.764074</td>\n      <td>0.0</td>\n      <td>0.222222</td>\n    </tr>\n    <tr>\n      <th>Valverde del Camino</th>\n      <td>669.0</td>\n      <td>7.0</td>\n      <td>26.0</td>\n      <td>12750.0</td>\n      <td>54.901961</td>\n      <td>203.921569</td>\n      <td>3.0</td>\n      <td>0.269231</td>\n    </tr>\n    <tr>\n      <th>San Juan del Puerto</th>\n      <td>593.0</td>\n      <td>10.0</td>\n      <td>35.0</td>\n      <td>9411.0</td>\n      <td>106.258634</td>\n      <td>371.905217</td>\n      <td>0.0</td>\n      <td>0.285714</td>\n    </tr>\n    <tr>\n      <th>Palos de la Frontera</th>\n      <td>734.0</td>\n      <td>10.0</td>\n      <td>34.0</td>\n      <td>11742.0</td>\n      <td>85.164367</td>\n      <td>289.558849</td>\n      <td>3.0</td>\n      <td>0.294118</td>\n    </tr>\n    <tr>\n      <th>Gibraleón</th>\n      <td>658.0</td>\n      <td>5.0</td>\n      <td>17.0</td>\n      <td>12737.0</td>\n      <td>39.255712</td>\n      <td>133.469420</td>\n      <td>3.0</td>\n      <td>0.294118</td>\n    </tr>\n    <tr>\n      <th>Rociana del Condado</th>\n      <td>578.0</td>\n      <td>5.0</td>\n      <td>16.0</td>\n      <td>7939.0</td>\n      <td>62.980224</td>\n      <td>201.536717</td>\n      <td>0.0</td>\n      <td>0.312500</td>\n    </tr>\n    <tr>\n      <th>Condado-Campiña</th>\n      <td>10904.0</td>\n      <td>102.0</td>\n      <td>307.0</td>\n      <td>156231.0</td>\n      <td>65.287939</td>\n      <td>196.503895</td>\n      <td>29.0</td>\n      <td>0.332248</td>\n    </tr>\n    <tr>\n      <th>San Bartolomé de la Torre</th>\n      <td>308.0</td>\n      <td>1.0</td>\n      <td>3.0</td>\n      <td>3761.0</td>\n      <td>26.588673</td>\n      <td>79.766020</td>\n      <td>0.0</td>\n      <td>0.333333</td>\n    </tr>\n    <tr>\n      <th>Puebla de Guzmán</th>\n      <td>143.0</td>\n      <td>2.0</td>\n      <td>6.0</td>\n      <td>3092.0</td>\n      <td>64.683053</td>\n      <td>194.049159</td>\n      <td>1.0</td>\n      <td>0.333333</td>\n    </tr>\n    <tr>\n      <th>Huelva (capital)</th>\n      <td>9182.0</td>\n      <td>97.0</td>\n      <td>269.0</td>\n      <td>143837.0</td>\n      <td>67.437447</td>\n      <td>187.017249</td>\n      <td>16.0</td>\n      <td>0.360595</td>\n    </tr>\n    <tr>\n      <th>Sierra de Huelva-Andévalo Central</th>\n      <td>2951.0</td>\n      <td>23.0</td>\n      <td>58.0</td>\n      <td>67391.0</td>\n      <td>34.129186</td>\n      <td>86.064905</td>\n      <td>5.0</td>\n      <td>0.396552</td>\n    </tr>\n    <tr>\n      <th>Huelva</th>\n      <td>33549.0</td>\n      <td>364.0</td>\n      <td>864.0</td>\n      <td>513170.0</td>\n      <td>70.931660</td>\n      <td>168.365259</td>\n      <td>81.0</td>\n      <td>0.421296</td>\n    </tr>\n    <tr>\n      <th>Punta Umbría</th>\n      <td>859.0</td>\n      <td>9.0</td>\n      <td>19.0</td>\n      <td>15355.0</td>\n      <td>58.612830</td>\n      <td>123.738196</td>\n      <td>1.0</td>\n      <td>0.473684</td>\n    </tr>\n    <tr>\n      <th>Huelva-Costa</th>\n      <td>19340.0</td>\n      <td>238.0</td>\n      <td>496.0</td>\n      <td>289548.0</td>\n      <td>82.197080</td>\n      <td>171.301477</td>\n      <td>47.0</td>\n      <td>0.479839</td>\n    </tr>\n    <tr>\n      <th>Moguer</th>\n      <td>1424.0</td>\n      <td>31.0</td>\n      <td>64.0</td>\n      <td>21867.0</td>\n      <td>141.766132</td>\n      <td>292.678465</td>\n      <td>10.0</td>\n      <td>0.484375</td>\n    </tr>\n    <tr>\n      <th>Nerva</th>\n      <td>181.0</td>\n      <td>1.0</td>\n      <td>2.0</td>\n      <td>5169.0</td>\n      <td>19.346102</td>\n      <td>38.692204</td>\n      <td>0.0</td>\n      <td>0.500000</td>\n    </tr>\n    <tr>\n      <th>Lepe</th>\n      <td>2187.0</td>\n      <td>17.0</td>\n      <td>34.0</td>\n      <td>27880.0</td>\n      <td>60.975610</td>\n      <td>121.951220</td>\n      <td>5.0</td>\n      <td>0.500000</td>\n    </tr>\n    <tr>\n      <th>Zarza-Perrunal (La)</th>\n      <td>27.0</td>\n      <td>1.0</td>\n      <td>2.0</td>\n      <td>1253.0</td>\n      <td>79.808460</td>\n      <td>159.616919</td>\n      <td>0.0</td>\n      <td>0.500000</td>\n    </tr>\n    <tr>\n      <th>Cortegana</th>\n      <td>216.0</td>\n      <td>1.0</td>\n      <td>2.0</td>\n      <td>4602.0</td>\n      <td>21.729683</td>\n      <td>43.459365</td>\n      <td>0.0</td>\n      <td>0.500000</td>\n    </tr>\n    <tr>\n      <th>Manzanilla</th>\n      <td>109.0</td>\n      <td>3.0</td>\n      <td>6.0</td>\n      <td>2118.0</td>\n      <td>141.643059</td>\n      <td>283.286119</td>\n      <td>0.0</td>\n      <td>0.500000</td>\n    </tr>\n    <tr>\n      <th>Cartaya</th>\n      <td>1415.0</td>\n      <td>25.0</td>\n      <td>49.0</td>\n      <td>20083.0</td>\n      <td>124.483394</td>\n      <td>243.987452</td>\n      <td>3.0</td>\n      <td>0.510204</td>\n    </tr>\n    <tr>\n      <th>Bollullos Par del Condado</th>\n      <td>1045.0</td>\n      <td>13.0</td>\n      <td>22.0</td>\n      <td>14387.0</td>\n      <td>90.359352</td>\n      <td>152.915827</td>\n      <td>7.0</td>\n      <td>0.590909</td>\n    </tr>\n    <tr>\n      <th>Villablanca</th>\n      <td>194.0</td>\n      <td>3.0</td>\n      <td>5.0</td>\n      <td>2885.0</td>\n      <td>103.986135</td>\n      <td>173.310225</td>\n      <td>2.0</td>\n      <td>0.600000</td>\n    </tr>\n    <tr>\n      <th>Bonares</th>\n      <td>307.0</td>\n      <td>10.0</td>\n      <td>16.0</td>\n      <td>6060.0</td>\n      <td>165.016502</td>\n      <td>264.026403</td>\n      <td>3.0</td>\n      <td>0.625000</td>\n    </tr>\n    <tr>\n      <th>Isla Cristina</th>\n      <td>2203.0</td>\n      <td>20.0</td>\n      <td>31.0</td>\n      <td>21393.0</td>\n      <td>93.488524</td>\n      <td>144.907213</td>\n      <td>7.0</td>\n      <td>0.645161</td>\n    </tr>\n    <tr>\n      <th>Aracena</th>\n      <td>542.0</td>\n      <td>2.0</td>\n      <td>3.0</td>\n      <td>8255.0</td>\n      <td>24.227741</td>\n      <td>36.341611</td>\n      <td>1.0</td>\n      <td>0.666667</td>\n    </tr>\n    <tr>\n      <th>Paymogo</th>\n      <td>79.0</td>\n      <td>3.0</td>\n      <td>4.0</td>\n      <td>1162.0</td>\n      <td>258.175559</td>\n      <td>344.234079</td>\n      <td>1.0</td>\n      <td>0.750000</td>\n    </tr>\n    <tr>\n      <th>Aljaraque</th>\n      <td>1183.0</td>\n      <td>21.0</td>\n      <td>28.0</td>\n      <td>21474.0</td>\n      <td>97.792680</td>\n      <td>130.390239</td>\n      <td>2.0</td>\n      <td>0.750000</td>\n    </tr>\n    <tr>\n      <th>Ayamonte</th>\n      <td>1370.0</td>\n      <td>31.0</td>\n      <td>38.0</td>\n      <td>21104.0</td>\n      <td>146.891585</td>\n      <td>180.060652</td>\n      <td>8.0</td>\n      <td>0.815789</td>\n    </tr>\n    <tr>\n      <th>Santa Ana la Real</th>\n      <td>11.0</td>\n      <td>1.0</td>\n      <td>1.0</td>\n      <td>475.0</td>\n      <td>210.526316</td>\n      <td>210.526316</td>\n      <td>0.0</td>\n      <td>1.000000</td>\n    </tr>\n    <tr>\n      <th>Aroche</th>\n      <td>94.0</td>\n      <td>3.0</td>\n      <td>3.0</td>\n      <td>3054.0</td>\n      <td>98.231827</td>\n      <td>98.231827</td>\n      <td>0.0</td>\n      <td>1.000000</td>\n    </tr>\n    <tr>\n      <th>Jabugo</th>\n      <td>67.0</td>\n      <td>2.0</td>\n      <td>2.0</td>\n      <td>2260.0</td>\n      <td>88.495575</td>\n      <td>88.495575</td>\n      <td>0.0</td>\n      <td>1.000000</td>\n    </tr>\n    <tr>\n      <th>Alosno</th>\n      <td>189.0</td>\n      <td>10.0</td>\n      <td>10.0</td>\n      <td>3933.0</td>\n      <td>254.258835</td>\n      <td>254.258835</td>\n      <td>1.0</td>\n      <td>1.000000</td>\n    </tr>\n    <tr>\n      <th>Campillo (El)</th>\n      <td>74.0</td>\n      <td>1.0</td>\n      <td>1.0</td>\n      <td>2024.0</td>\n      <td>49.407115</td>\n      <td>49.407115</td>\n      <td>0.0</td>\n      <td>1.000000</td>\n    </tr>\n    <tr>\n      <th>Rosal de la Frontera</th>\n      <td>33.0</td>\n      <td>2.0</td>\n      <td>2.0</td>\n      <td>1697.0</td>\n      <td>117.855038</td>\n      <td>117.855038</td>\n      <td>0.0</td>\n      <td>1.000000</td>\n    </tr>\n  </tbody>\n</table>\n</div>"
     },
     "metadata": {},
     "execution_count": 18
    }
   ],
   "source": [
    "# Peso de la tasa de la última semana en relación con la tasa a 14 días \n",
    "# Mejor cuanto menor. Valor 1 significa que no había casos antes de 7 días.\n",
    "tabla['7/14'] = tabla['tasa7'] / tabla['tasa14']\n",
    "tabla.fillna(0).sort_values('7/14', ascending=True)"
   ]
  },
  {
   "cell_type": "code",
   "execution_count": null,
   "metadata": {},
   "outputs": [],
   "source": []
  }
 ]
}