{
 "metadata": {
  "language_info": {
   "codemirror_mode": {
    "name": "ipython",
    "version": 3
   },
   "file_extension": ".py",
   "mimetype": "text/x-python",
   "name": "python",
   "nbconvert_exporter": "python",
   "pygments_lexer": "ipython3",
   "version": "3.6.9-final"
  },
  "orig_nbformat": 2,
  "kernelspec": {
   "name": "python_defaultSpec_1597690418714",
   "display_name": "Python 3.6.9 64-bit"
  }
 },
 "nbformat": 4,
 "nbformat_minor": 2,
 "cells": [
  {
   "cell_type": "code",
   "execution_count": 1,
   "metadata": {},
   "outputs": [],
   "source": [
    "import pandas as pd"
   ]
  },
  {
   "cell_type": "code",
   "execution_count": 2,
   "metadata": {},
   "outputs": [],
   "source": [
    "url = 'https://www.juntadeandalucia.es/institutodeestadisticaycartografia/badea/stpivot/stpivot/Print?cube=013d884c-cfc5-4c21-9e78-e26225682afd&type=3&foto=si&ejecutaDesde=&codConsulta=38668&consTipoVisua=JP'\n",
    "fields = ['Lugar de residencia', 'Medida', 'Valor']\n",
    "df = pd.read_csv(url, delimiter=';', usecols=fields)"
   ]
  },
  {
   "cell_type": "code",
   "execution_count": 3,
   "metadata": {
    "tags": []
   },
   "outputs": [
    {
     "output_type": "stream",
     "name": "stdout",
     "text": "Confirmados PCR en la provincia de Huelva:  535.0\n"
    }
   ],
   "source": [
    "# Confirmados PCR provincia Huelva\n",
    "p = df[df['Lugar de residencia'] == 'Huelva'][df['Medida'] == 'Confirmados PCR']['Valor'].values[0]\n",
    "print('Confirmados PCR en la provincia de Huelva: ', p)"
   ]
  },
  {
   "cell_type": "code",
   "execution_count": 4,
   "metadata": {
    "tags": []
   },
   "outputs": [
    {
     "output_type": "stream",
     "name": "stdout",
     "text": "Confirmados PCR en Huelva capital:  169.0\n"
    }
   ],
   "source": [
    "# Confirmados PCR Huelva capital\n",
    "c = df[df['Lugar de residencia'] == 'Huelva (capital)'][df['Medida'] == 'Confirmados PCR']['Valor'].values[0]\n",
    "print('Confirmados PCR en Huelva capital: ', c)"
   ]
  },
  {
   "cell_type": "code",
   "execution_count": 5,
   "metadata": {},
   "outputs": [
    {
     "output_type": "execute_result",
     "data": {
      "text/plain": "    Lugar de residencia                   Medida     Valor\n504    Huelva (capital)                Población  143663.0\n505    Huelva (capital)          Confirmados PCR     169.0\n506    Huelva (capital)  Confirmados PCR 14 días      13.0\n507    Huelva (capital)   Confirmados PCR 7 días       7.0\n508    Huelva (capital)       Total Confirmados      219.0\n509    Huelva (capital)                  Curados     186.0\n510    Huelva (capital)               Fallecidos      15.0",
      "text/html": "<div>\n<style scoped>\n    .dataframe tbody tr th:only-of-type {\n        vertical-align: middle;\n    }\n\n    .dataframe tbody tr th {\n        vertical-align: top;\n    }\n\n    .dataframe thead th {\n        text-align: right;\n    }\n</style>\n<table border=\"1\" class=\"dataframe\">\n  <thead>\n    <tr style=\"text-align: right;\">\n      <th></th>\n      <th>Lugar de residencia</th>\n      <th>Medida</th>\n      <th>Valor</th>\n    </tr>\n  </thead>\n  <tbody>\n    <tr>\n      <th>504</th>\n      <td>Huelva (capital)</td>\n      <td>Población</td>\n      <td>143663.0</td>\n    </tr>\n    <tr>\n      <th>505</th>\n      <td>Huelva (capital)</td>\n      <td>Confirmados PCR</td>\n      <td>169.0</td>\n    </tr>\n    <tr>\n      <th>506</th>\n      <td>Huelva (capital)</td>\n      <td>Confirmados PCR 14 días</td>\n      <td>13.0</td>\n    </tr>\n    <tr>\n      <th>507</th>\n      <td>Huelva (capital)</td>\n      <td>Confirmados PCR 7 días</td>\n      <td>7.0</td>\n    </tr>\n    <tr>\n      <th>508</th>\n      <td>Huelva (capital)</td>\n      <td>Total Confirmados</td>\n      <td>219.0</td>\n    </tr>\n    <tr>\n      <th>509</th>\n      <td>Huelva (capital)</td>\n      <td>Curados</td>\n      <td>186.0</td>\n    </tr>\n    <tr>\n      <th>510</th>\n      <td>Huelva (capital)</td>\n      <td>Fallecidos</td>\n      <td>15.0</td>\n    </tr>\n  </tbody>\n</table>\n</div>"
     },
     "metadata": {},
     "execution_count": 5
    }
   ],
   "source": [
    "df[df['Lugar de residencia'] == 'Huelva (capital)']"
   ]
  }
 ]
}