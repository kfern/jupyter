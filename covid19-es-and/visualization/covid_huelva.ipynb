{
 "metadata": {
  "language_info": {
   "codemirror_mode": {
    "name": "ipython",
    "version": 3
   },
   "file_extension": ".py",
   "mimetype": "text/x-python",
   "name": "python",
   "nbconvert_exporter": "python",
   "pygments_lexer": "ipython3",
   "version": "3.6.9-final"
  },
  "orig_nbformat": 2,
  "kernelspec": {
   "name": "Python 3.6.9 64-bit",
   "display_name": "Python 3.6.9 64-bit",
   "metadata": {
    "interpreter": {
     "hash": "31f2aee4e71d21fbe5cf8b01ff0e069b9275f58929596ceb00d14d90e3e16cd6"
    }
   }
  }
 },
 "nbformat": 4,
 "nbformat_minor": 2,
 "cells": [
  {
   "cell_type": "code",
   "execution_count": 1,
   "metadata": {},
   "outputs": [],
   "source": [
    "import pandas as pd"
   ]
  },
  {
   "cell_type": "code",
   "execution_count": 2,
   "metadata": {},
   "outputs": [],
   "source": [
    "# FIX SSL: CERTIFICATE_VERIFY_FAILED with Python3\n",
    "# https://stackoverflow.com/a/49174340\n",
    "import ssl\n",
    "\n",
    "ssl._create_default_https_context = ssl._create_unverified_context"
   ]
  },
  {
   "cell_type": "code",
   "execution_count": 3,
   "metadata": {},
   "outputs": [],
   "source": [
    "url = 'https://www.juntadeandalucia.es/institutodeestadisticaycartografia/badea/stpivot/stpivot/Print?cube=013d884c-cfc5-4c21-9e78-e26225682afd&type=3&foto=si&ejecutaDesde=&codConsulta=38668&consTipoVisua=JP'\n",
    "fields = ['Lugar de residencia', 'Medida', 'Valor']\n",
    "df = pd.read_csv(url, delimiter=';', usecols=fields, decimal=',')"
   ]
  },
  {
   "cell_type": "code",
   "execution_count": 4,
   "metadata": {},
   "outputs": [
    {
     "output_type": "execute_result",
     "data": {
      "text/plain": [
       "                     Lugar de residencia                    Medida  \\\n",
       "0                                 Huelva                 Población   \n",
       "1                                 Huelva          Confirmados PDIA   \n",
       "2                                 Huelva  Confirmados PDIA 14 días   \n",
       "3                                 Huelva         Tasa PDIA 14 días   \n",
       "4                                 Huelva   Confirmados PDIA 7 días   \n",
       "..                                   ...                       ...   \n",
       "627  Municipio de Huelva sin especificar         Tasa PDIA 14 días   \n",
       "628  Municipio de Huelva sin especificar   Confirmados PDIA 7 días   \n",
       "629  Municipio de Huelva sin especificar        Total Confirmados    \n",
       "630  Municipio de Huelva sin especificar                   Curados   \n",
       "631  Municipio de Huelva sin especificar                Fallecidos   \n",
       "\n",
       "                 Valor  \n",
       "0               510743  \n",
       "1                 9653  \n",
       "2                 1831  \n",
       "3    358,4973264440237  \n",
       "4                  711  \n",
       "..                 ...  \n",
       "627                  -  \n",
       "628                 13  \n",
       "629                124  \n",
       "630                 84  \n",
       "631                  1  \n",
       "\n",
       "[632 rows x 3 columns]"
      ],
      "text/html": "<div>\n<style scoped>\n    .dataframe tbody tr th:only-of-type {\n        vertical-align: middle;\n    }\n\n    .dataframe tbody tr th {\n        vertical-align: top;\n    }\n\n    .dataframe thead th {\n        text-align: right;\n    }\n</style>\n<table border=\"1\" class=\"dataframe\">\n  <thead>\n    <tr style=\"text-align: right;\">\n      <th></th>\n      <th>Lugar de residencia</th>\n      <th>Medida</th>\n      <th>Valor</th>\n    </tr>\n  </thead>\n  <tbody>\n    <tr>\n      <th>0</th>\n      <td>Huelva</td>\n      <td>Población</td>\n      <td>510743</td>\n    </tr>\n    <tr>\n      <th>1</th>\n      <td>Huelva</td>\n      <td>Confirmados PDIA</td>\n      <td>9653</td>\n    </tr>\n    <tr>\n      <th>2</th>\n      <td>Huelva</td>\n      <td>Confirmados PDIA 14 días</td>\n      <td>1831</td>\n    </tr>\n    <tr>\n      <th>3</th>\n      <td>Huelva</td>\n      <td>Tasa PDIA 14 días</td>\n      <td>358,4973264440237</td>\n    </tr>\n    <tr>\n      <th>4</th>\n      <td>Huelva</td>\n      <td>Confirmados PDIA 7 días</td>\n      <td>711</td>\n    </tr>\n    <tr>\n      <th>...</th>\n      <td>...</td>\n      <td>...</td>\n      <td>...</td>\n    </tr>\n    <tr>\n      <th>627</th>\n      <td>Municipio de Huelva sin especificar</td>\n      <td>Tasa PDIA 14 días</td>\n      <td>-</td>\n    </tr>\n    <tr>\n      <th>628</th>\n      <td>Municipio de Huelva sin especificar</td>\n      <td>Confirmados PDIA 7 días</td>\n      <td>13</td>\n    </tr>\n    <tr>\n      <th>629</th>\n      <td>Municipio de Huelva sin especificar</td>\n      <td>Total Confirmados</td>\n      <td>124</td>\n    </tr>\n    <tr>\n      <th>630</th>\n      <td>Municipio de Huelva sin especificar</td>\n      <td>Curados</td>\n      <td>84</td>\n    </tr>\n    <tr>\n      <th>631</th>\n      <td>Municipio de Huelva sin especificar</td>\n      <td>Fallecidos</td>\n      <td>1</td>\n    </tr>\n  </tbody>\n</table>\n<p>632 rows × 3 columns</p>\n</div>"
     },
     "metadata": {},
     "execution_count": 4
    }
   ],
   "source": [
    "df"
   ]
  },
  {
   "cell_type": "code",
   "execution_count": 5,
   "metadata": {},
   "outputs": [],
   "source": [
    "df['Valor'] = pd.to_numeric(df['Valor'],errors='coerce')"
   ]
  },
  {
   "cell_type": "code",
   "execution_count": 6,
   "metadata": {},
   "outputs": [],
   "source": [
    "dfAnterior = pd.read_csv('covid_huelva.csv', index_col='Lugar de residencia')"
   ]
  },
  {
   "cell_type": "code",
   "execution_count": 7,
   "metadata": {
    "tags": []
   },
   "outputs": [
    {
     "output_type": "stream",
     "name": "stdout",
     "text": [
      "Confirmados PCR en la provincia de Huelva:  9653.0\n"
     ]
    }
   ],
   "source": [
    "# Confirmados PCR provincia Huelva\n",
    "p = df[df['Lugar de residencia'] == 'Huelva'][df['Medida'] == 'Confirmados PDIA']['Valor'].values[0]\n",
    "print('Confirmados PCR en la provincia de Huelva: ', p)"
   ]
  },
  {
   "cell_type": "code",
   "execution_count": 8,
   "metadata": {
    "tags": []
   },
   "outputs": [
    {
     "output_type": "stream",
     "name": "stdout",
     "text": [
      "Confirmados PCR en Huelva capital:  2718.0\n"
     ]
    }
   ],
   "source": [
    "# Confirmados PCR Huelva capitalpd\n",
    "c = df[df['Lugar de residencia'] == 'Huelva (capital)'][df['Medida'] == 'Confirmados PDIA']['Valor'].values[0]\n",
    "print('Confirmados PCR en Huelva capital: ', c)"
   ]
  },
  {
   "cell_type": "code",
   "execution_count": 9,
   "metadata": {
    "tags": []
   },
   "outputs": [],
   "source": [
    "c7 = df[df['Lugar de residencia'] == 'Huelva (capital)'][df['Medida'] == 'Confirmados PDIA 7 días']['Valor'].values[0]\n",
    "c14 = df[df['Lugar de residencia'] == 'Huelva (capital)'][df['Medida'] == 'Confirmados PDIA 14 días']['Valor'].values[0]\n",
    "p = df[df['Lugar de residencia'] == 'Huelva (capital)'][df['Medida'] == 'Población']['Valor'].values[0]"
   ]
  },
  {
   "cell_type": "code",
   "execution_count": 10,
   "metadata": {
    "tags": []
   },
   "outputs": [
    {
     "output_type": "stream",
     "name": "stdout",
     "text": [
      "Huelva (capital)\n\nUn positivo PCR cada 678 personas en los últimos 7 días \n\nUn positivo PCR cada 254 personas en los últimos 14 días\n"
     ]
    }
   ],
   "source": [
    "print('Huelva (capital)\\n')\n",
    "#print('Confirmados PCR 7 días x 1,000 habitantes: ', f\"{c7/(p/1000):.5f}\")\n",
    "print('Un positivo PCR cada', f\"{p/c7:.0f}\", 'personas en los últimos 7 días', '\\n')\n",
    "#print('Confirmados PCR 14 días x 1,000 habitantes: ', f\"{c14/(p/1000):.5f}\")\n",
    "print('Un positivo PCR cada', f\"{p/c14:.0f}\", 'personas en los últimos 14 días')"
   ]
  },
  {
   "cell_type": "code",
   "execution_count": 11,
   "metadata": {},
   "outputs": [],
   "source": [
    "filtro = ((df['Medida'] == 'Confirmados PDIA')| (df['Medida'] == 'Confirmados PDIA 7 días') | (df['Medida'] == 'Población' ) | (df['Medida'] == 'Confirmados PDIA 14 días')) & (df['Valor'] > 0)\n",
    "tabla = pd.pivot_table(df.loc[filtro], values='Valor', index='Lugar de residencia', columns='Medida').dropna()"
   ]
  },
  {
   "cell_type": "code",
   "execution_count": 12,
   "metadata": {},
   "outputs": [],
   "source": [
    "# Reorder columns\n",
    "tabla = tabla[['Confirmados PDIA', 'Confirmados PDIA 7 días', 'Confirmados PDIA 14 días', 'Población']]"
   ]
  },
  {
   "cell_type": "code",
   "execution_count": 13,
   "metadata": {},
   "outputs": [],
   "source": [
    "tabla['tasa7'] = tabla['Confirmados PDIA 7 días']/tabla['Población']*100000\n",
    "tabla['tasa14'] = tabla['Confirmados PDIA 14 días']/tabla['Población']*100000"
   ]
  },
  {
   "cell_type": "code",
   "execution_count": 14,
   "metadata": {},
   "outputs": [],
   "source": [
    "tabla['Diferencia PDIA'] = tabla['Confirmados PDIA'] - dfAnterior['Confirmados PDIA']"
   ]
  },
  {
   "cell_type": "code",
   "execution_count": 15,
   "metadata": {},
   "outputs": [
    {
     "output_type": "execute_result",
     "data": {
      "text/plain": [
       "Medida                             Confirmados PDIA  Confirmados PDIA 7 días  \\\n",
       "Lugar de residencia                                                            \n",
       "Huelva                                       9653.0                    711.0   \n",
       "Huelva-Costa                                 5319.0                    469.0   \n",
       "Sierra de Huelva-Andévalo Central            1239.0                     36.0   \n",
       "Condado-Campiña                              2972.0                    193.0   \n",
       "Huelva (capital)                             2718.0                    212.0   \n",
       "Moguer                                        297.0                     42.0   \n",
       "Lucena del Puerto                              74.0                     16.0   \n",
       "Valverde del Camino                           266.0                      8.0   \n",
       "Isla Cristina                                 299.0                     44.0   \n",
       "Aroche                                         51.0                      7.0   \n",
       "Cartaya                                       308.0                     34.0   \n",
       "Rociana del Condado                           108.0                     12.0   \n",
       "Beas                                           53.0                      4.0   \n",
       "Aracena                                       284.0                      4.0   \n",
       "Lepe                                          846.0                     75.0   \n",
       "Minas de Riotinto                              63.0                      1.0   \n",
       "Nerva                                          86.0                      8.0   \n",
       "Puebla de Guzmán                               22.0                      2.0   \n",
       "San Bartolomé de la Torre                      31.0                      6.0   \n",
       "Palma del Condado (La)                        433.0                     32.0   \n",
       "Trigueros                                     126.0                      3.0   \n",
       "Gibraleón                                     338.0                      5.0   \n",
       "Santa Ana la Real                               2.0                      1.0   \n",
       "Zalamea la Real                                44.0                      2.0   \n",
       "\n",
       "Medida                             Confirmados PDIA 14 días  Población  \\\n",
       "Lugar de residencia                                                      \n",
       "Huelva                                               1831.0   510743.0   \n",
       "Huelva-Costa                                         1179.0   288115.0   \n",
       "Sierra de Huelva-Andévalo Central                     102.0    67571.0   \n",
       "Condado-Campiña                                       529.0   155057.0   \n",
       "Huelva (capital)                                      566.0   143663.0   \n",
       "Moguer                                                 95.0    22088.0   \n",
       "Lucena del Puerto                                      34.0     3371.0   \n",
       "Valverde del Camino                                    15.0    12820.0   \n",
       "Isla Cristina                                          79.0    21264.0   \n",
       "Aroche                                                 14.0     3073.0   \n",
       "Cartaya                                                73.0    19974.0   \n",
       "Rociana del Condado                                    41.0     7855.0   \n",
       "Beas                                                   17.0     4257.0   \n",
       "Aracena                                                11.0     8107.0   \n",
       "Lepe                                                  204.0    27431.0   \n",
       "Minas de Riotinto                                      12.0     3848.0   \n",
       "Nerva                                                  14.0     5235.0   \n",
       "Puebla de Guzmán                                        7.0     3073.0   \n",
       "San Bartolomé de la Torre                              19.0     3736.0   \n",
       "Palma del Condado (La)                                 79.0    10761.0   \n",
       "Trigueros                                              13.0     7713.0   \n",
       "Gibraleón                                              19.0    12607.0   \n",
       "Santa Ana la Real                                       1.0      476.0   \n",
       "Zalamea la Real                                         4.0     3068.0   \n",
       "\n",
       "Medida                                  tasa7       tasa14  Diferencia PDIA  \n",
       "Lugar de residencia                                                          \n",
       "Huelva                             139.208956   358.497326             39.0  \n",
       "Huelva-Costa                       162.782222   409.211600             15.0  \n",
       "Sierra de Huelva-Andévalo Central   53.277294   150.952332             13.0  \n",
       "Condado-Campiña                    124.470356   341.164862             11.0  \n",
       "Huelva (capital)                   147.567571   393.977573              8.0  \n",
       "Moguer                             190.148497   430.097791              6.0  \n",
       "Lucena del Puerto                  474.636606  1008.602788              4.0  \n",
       "Valverde del Camino                 62.402496   117.004680              4.0  \n",
       "Isla Cristina                      206.922498   371.519940              3.0  \n",
       "Aroche                             227.790433   455.580866              2.0  \n",
       "Cartaya                            170.221288   365.475118              2.0  \n",
       "Rociana del Condado                152.768937   521.960535              2.0  \n",
       "Beas                                93.962885   399.342260              2.0  \n",
       "Aracena                             49.340076   135.685210              2.0  \n",
       "Lepe                               273.413292   743.684153              1.0  \n",
       "Minas de Riotinto                   25.987526   311.850312              1.0  \n",
       "Nerva                              152.817574   267.430755              1.0  \n",
       "Puebla de Guzmán                    65.082981   227.790433              1.0  \n",
       "San Bartolomé de la Torre          160.599572   508.565310              1.0  \n",
       "Palma del Condado (La)             297.370133   734.132516             -1.0  \n",
       "Trigueros                           38.895371   168.546610             -1.0  \n",
       "Gibraleón                           39.660506   150.709923             -2.0  \n",
       "Santa Ana la Real                  210.084034   210.084034              NaN  \n",
       "Zalamea la Real                     65.189048   130.378096              NaN  "
      ],
      "text/html": "<div>\n<style scoped>\n    .dataframe tbody tr th:only-of-type {\n        vertical-align: middle;\n    }\n\n    .dataframe tbody tr th {\n        vertical-align: top;\n    }\n\n    .dataframe thead th {\n        text-align: right;\n    }\n</style>\n<table border=\"1\" class=\"dataframe\">\n  <thead>\n    <tr style=\"text-align: right;\">\n      <th>Medida</th>\n      <th>Confirmados PDIA</th>\n      <th>Confirmados PDIA 7 días</th>\n      <th>Confirmados PDIA 14 días</th>\n      <th>Población</th>\n      <th>tasa7</th>\n      <th>tasa14</th>\n      <th>Diferencia PDIA</th>\n    </tr>\n    <tr>\n      <th>Lugar de residencia</th>\n      <th></th>\n      <th></th>\n      <th></th>\n      <th></th>\n      <th></th>\n      <th></th>\n      <th></th>\n    </tr>\n  </thead>\n  <tbody>\n    <tr>\n      <th>Huelva</th>\n      <td>9653.0</td>\n      <td>711.0</td>\n      <td>1831.0</td>\n      <td>510743.0</td>\n      <td>139.208956</td>\n      <td>358.497326</td>\n      <td>39.0</td>\n    </tr>\n    <tr>\n      <th>Huelva-Costa</th>\n      <td>5319.0</td>\n      <td>469.0</td>\n      <td>1179.0</td>\n      <td>288115.0</td>\n      <td>162.782222</td>\n      <td>409.211600</td>\n      <td>15.0</td>\n    </tr>\n    <tr>\n      <th>Sierra de Huelva-Andévalo Central</th>\n      <td>1239.0</td>\n      <td>36.0</td>\n      <td>102.0</td>\n      <td>67571.0</td>\n      <td>53.277294</td>\n      <td>150.952332</td>\n      <td>13.0</td>\n    </tr>\n    <tr>\n      <th>Condado-Campiña</th>\n      <td>2972.0</td>\n      <td>193.0</td>\n      <td>529.0</td>\n      <td>155057.0</td>\n      <td>124.470356</td>\n      <td>341.164862</td>\n      <td>11.0</td>\n    </tr>\n    <tr>\n      <th>Huelva (capital)</th>\n      <td>2718.0</td>\n      <td>212.0</td>\n      <td>566.0</td>\n      <td>143663.0</td>\n      <td>147.567571</td>\n      <td>393.977573</td>\n      <td>8.0</td>\n    </tr>\n    <tr>\n      <th>Moguer</th>\n      <td>297.0</td>\n      <td>42.0</td>\n      <td>95.0</td>\n      <td>22088.0</td>\n      <td>190.148497</td>\n      <td>430.097791</td>\n      <td>6.0</td>\n    </tr>\n    <tr>\n      <th>Lucena del Puerto</th>\n      <td>74.0</td>\n      <td>16.0</td>\n      <td>34.0</td>\n      <td>3371.0</td>\n      <td>474.636606</td>\n      <td>1008.602788</td>\n      <td>4.0</td>\n    </tr>\n    <tr>\n      <th>Valverde del Camino</th>\n      <td>266.0</td>\n      <td>8.0</td>\n      <td>15.0</td>\n      <td>12820.0</td>\n      <td>62.402496</td>\n      <td>117.004680</td>\n      <td>4.0</td>\n    </tr>\n    <tr>\n      <th>Isla Cristina</th>\n      <td>299.0</td>\n      <td>44.0</td>\n      <td>79.0</td>\n      <td>21264.0</td>\n      <td>206.922498</td>\n      <td>371.519940</td>\n      <td>3.0</td>\n    </tr>\n    <tr>\n      <th>Aroche</th>\n      <td>51.0</td>\n      <td>7.0</td>\n      <td>14.0</td>\n      <td>3073.0</td>\n      <td>227.790433</td>\n      <td>455.580866</td>\n      <td>2.0</td>\n    </tr>\n    <tr>\n      <th>Cartaya</th>\n      <td>308.0</td>\n      <td>34.0</td>\n      <td>73.0</td>\n      <td>19974.0</td>\n      <td>170.221288</td>\n      <td>365.475118</td>\n      <td>2.0</td>\n    </tr>\n    <tr>\n      <th>Rociana del Condado</th>\n      <td>108.0</td>\n      <td>12.0</td>\n      <td>41.0</td>\n      <td>7855.0</td>\n      <td>152.768937</td>\n      <td>521.960535</td>\n      <td>2.0</td>\n    </tr>\n    <tr>\n      <th>Beas</th>\n      <td>53.0</td>\n      <td>4.0</td>\n      <td>17.0</td>\n      <td>4257.0</td>\n      <td>93.962885</td>\n      <td>399.342260</td>\n      <td>2.0</td>\n    </tr>\n    <tr>\n      <th>Aracena</th>\n      <td>284.0</td>\n      <td>4.0</td>\n      <td>11.0</td>\n      <td>8107.0</td>\n      <td>49.340076</td>\n      <td>135.685210</td>\n      <td>2.0</td>\n    </tr>\n    <tr>\n      <th>Lepe</th>\n      <td>846.0</td>\n      <td>75.0</td>\n      <td>204.0</td>\n      <td>27431.0</td>\n      <td>273.413292</td>\n      <td>743.684153</td>\n      <td>1.0</td>\n    </tr>\n    <tr>\n      <th>Minas de Riotinto</th>\n      <td>63.0</td>\n      <td>1.0</td>\n      <td>12.0</td>\n      <td>3848.0</td>\n      <td>25.987526</td>\n      <td>311.850312</td>\n      <td>1.0</td>\n    </tr>\n    <tr>\n      <th>Nerva</th>\n      <td>86.0</td>\n      <td>8.0</td>\n      <td>14.0</td>\n      <td>5235.0</td>\n      <td>152.817574</td>\n      <td>267.430755</td>\n      <td>1.0</td>\n    </tr>\n    <tr>\n      <th>Puebla de Guzmán</th>\n      <td>22.0</td>\n      <td>2.0</td>\n      <td>7.0</td>\n      <td>3073.0</td>\n      <td>65.082981</td>\n      <td>227.790433</td>\n      <td>1.0</td>\n    </tr>\n    <tr>\n      <th>San Bartolomé de la Torre</th>\n      <td>31.0</td>\n      <td>6.0</td>\n      <td>19.0</td>\n      <td>3736.0</td>\n      <td>160.599572</td>\n      <td>508.565310</td>\n      <td>1.0</td>\n    </tr>\n    <tr>\n      <th>Palma del Condado (La)</th>\n      <td>433.0</td>\n      <td>32.0</td>\n      <td>79.0</td>\n      <td>10761.0</td>\n      <td>297.370133</td>\n      <td>734.132516</td>\n      <td>-1.0</td>\n    </tr>\n    <tr>\n      <th>Trigueros</th>\n      <td>126.0</td>\n      <td>3.0</td>\n      <td>13.0</td>\n      <td>7713.0</td>\n      <td>38.895371</td>\n      <td>168.546610</td>\n      <td>-1.0</td>\n    </tr>\n    <tr>\n      <th>Gibraleón</th>\n      <td>338.0</td>\n      <td>5.0</td>\n      <td>19.0</td>\n      <td>12607.0</td>\n      <td>39.660506</td>\n      <td>150.709923</td>\n      <td>-2.0</td>\n    </tr>\n    <tr>\n      <th>Santa Ana la Real</th>\n      <td>2.0</td>\n      <td>1.0</td>\n      <td>1.0</td>\n      <td>476.0</td>\n      <td>210.084034</td>\n      <td>210.084034</td>\n      <td>NaN</td>\n    </tr>\n    <tr>\n      <th>Zalamea la Real</th>\n      <td>44.0</td>\n      <td>2.0</td>\n      <td>4.0</td>\n      <td>3068.0</td>\n      <td>65.189048</td>\n      <td>130.378096</td>\n      <td>NaN</td>\n    </tr>\n  </tbody>\n</table>\n</div>"
     },
     "metadata": {},
     "execution_count": 15
    }
   ],
   "source": [
    "# Nuevos casos desde la última captura\n",
    "tabla[tabla['Diferencia PDIA'] != 0].sort_values('Diferencia PDIA', ascending=False)"
   ]
  },
  {
   "cell_type": "code",
   "execution_count": 16,
   "metadata": {},
   "outputs": [],
   "source": [
    "if tabla[tabla['Diferencia PDIA'] != 0]['Diferencia PDIA'].sum() > 0:\n",
    "  # Save to csv\n",
    "  tabla.to_csv('covid_huelva.csv', encoding='utf-8', header=True, index=True)  "
   ]
  },
  {
   "cell_type": "code",
   "execution_count": 17,
   "metadata": {},
   "outputs": [
    {
     "output_type": "execute_result",
     "data": {
      "text/plain": [
       "Medida                             Confirmados PDIA  Confirmados PDIA 7 días  \\\n",
       "Lugar de residencia                                                            \n",
       "Corteconcepción                                18.0                      1.0   \n",
       "Lucena del Puerto                              74.0                     16.0   \n",
       "Niebla                                        112.0                     18.0   \n",
       "Lepe                                          846.0                     75.0   \n",
       "Palma del Condado (La)                        433.0                     32.0   \n",
       "Ayamonte                                      309.0                     50.0   \n",
       "Rociana del Condado                           108.0                     12.0   \n",
       "Paymogo                                        12.0                      2.0   \n",
       "San Bartolomé de la Torre                      31.0                      6.0   \n",
       "Palos de la Frontera                          199.0                     31.0   \n",
       "Aroche                                         51.0                      7.0   \n",
       "Moguer                                        297.0                     42.0   \n",
       "Huelva-Costa                                 5319.0                    469.0   \n",
       "Beas                                           53.0                      4.0   \n",
       "Huelva (capital)                             2718.0                    212.0   \n",
       "Villanueva de los Castillejos                  54.0                      6.0   \n",
       "Isla Cristina                                 299.0                     44.0   \n",
       "Cartaya                                       308.0                     34.0   \n",
       "Huelva                                       9653.0                    711.0   \n",
       "Condado-Campiña                              2972.0                    193.0   \n",
       "Villalba del Alcor                             93.0                      6.0   \n",
       "Aljaraque                                     359.0                     31.0   \n",
       "Minas de Riotinto                              63.0                      1.0   \n",
       "Nerva                                          86.0                      8.0   \n",
       "Almonte                                       427.0                      4.0   \n",
       "Sanlúcar de Guadiana                            3.0                      1.0   \n",
       "Puebla de Guzmán                               22.0                      2.0   \n",
       "Punta Umbría                                  212.0                     11.0   \n",
       "Cerro de Andévalo (El)                         36.0                      2.0   \n",
       "Santa Ana la Real                               2.0                      1.0   \n",
       "Bonares                                        40.0                      2.0   \n",
       "Villarrasa                                     90.0                      2.0   \n",
       "Rosal de la Frontera                           20.0                      1.0   \n",
       "Trigueros                                     126.0                      3.0   \n",
       "Bollullos Par del Condado                     229.0                      5.0   \n",
       "Alosno                                         41.0                      1.0   \n",
       "Sierra de Huelva-Andévalo Central            1239.0                     36.0   \n",
       "Gibraleón                                     338.0                      5.0   \n",
       "Aracena                                       284.0                      4.0   \n",
       "Zalamea la Real                                44.0                      2.0   \n",
       "Valverde del Camino                           266.0                      8.0   \n",
       "Paterna del Campo                              52.0                      2.0   \n",
       "Zarza-Perrunal (La)                            13.0                      1.0   \n",
       "San Juan del Puerto                           135.0                      3.0   \n",
       "\n",
       "Medida                             Confirmados PDIA 14 días  Población  \\\n",
       "Lugar de residencia                                                      \n",
       "Corteconcepción                                         7.0      548.0   \n",
       "Lucena del Puerto                                      34.0     3371.0   \n",
       "Niebla                                                 32.0     4117.0   \n",
       "Lepe                                                  204.0    27431.0   \n",
       "Palma del Condado (La)                                 79.0    10761.0   \n",
       "Ayamonte                                              115.0    20946.0   \n",
       "Rociana del Condado                                    41.0     7855.0   \n",
       "Paymogo                                                 6.0     1159.0   \n",
       "San Bartolomé de la Torre                              19.0     3736.0   \n",
       "Palos de la Frontera                                   56.0    11289.0   \n",
       "Aroche                                                 14.0     3073.0   \n",
       "Moguer                                                 95.0    22088.0   \n",
       "Huelva-Costa                                         1179.0   288115.0   \n",
       "Beas                                                   17.0     4257.0   \n",
       "Huelva (capital)                                      566.0   143663.0   \n",
       "Villanueva de los Castillejos                          11.0     2820.0   \n",
       "Isla Cristina                                          79.0    21264.0   \n",
       "Cartaya                                                73.0    19974.0   \n",
       "Huelva                                               1831.0   510743.0   \n",
       "Condado-Campiña                                       529.0   155057.0   \n",
       "Villalba del Alcor                                     11.0     3338.0   \n",
       "Aljaraque                                              69.0    21260.0   \n",
       "Minas de Riotinto                                      12.0     3848.0   \n",
       "Nerva                                                  14.0     5235.0   \n",
       "Almonte                                                61.0    24191.0   \n",
       "Sanlúcar de Guadiana                                    1.0      409.0   \n",
       "Puebla de Guzmán                                        7.0     3073.0   \n",
       "Punta Umbría                                           34.0    15242.0   \n",
       "Cerro de Andévalo (El)                                  5.0     2364.0   \n",
       "Santa Ana la Real                                       1.0      476.0   \n",
       "Bonares                                                12.0     6058.0   \n",
       "Villarrasa                                              4.0     2176.0   \n",
       "Rosal de la Frontera                                    3.0     1697.0   \n",
       "Trigueros                                              13.0     7713.0   \n",
       "Bollullos Par del Condado                              24.0    14272.0   \n",
       "Alosno                                                  6.0     3923.0   \n",
       "Sierra de Huelva-Andévalo Central                     102.0    67571.0   \n",
       "Gibraleón                                              19.0    12607.0   \n",
       "Aracena                                                11.0     8107.0   \n",
       "Zalamea la Real                                         4.0     3068.0   \n",
       "Valverde del Camino                                    15.0    12820.0   \n",
       "Paterna del Campo                                       3.0     3509.0   \n",
       "Zarza-Perrunal (La)                                     1.0     1267.0   \n",
       "San Juan del Puerto                                     7.0     9300.0   \n",
       "\n",
       "Medida                                  tasa7       tasa14  Diferencia PDIA  \n",
       "Lugar de residencia                                                          \n",
       "Corteconcepción                    182.481752  1277.372263              0.0  \n",
       "Lucena del Puerto                  474.636606  1008.602788              4.0  \n",
       "Niebla                             437.211562   777.264999              0.0  \n",
       "Lepe                               273.413292   743.684153              1.0  \n",
       "Palma del Condado (La)             297.370133   734.132516             -1.0  \n",
       "Ayamonte                           238.709061   549.030841              0.0  \n",
       "Rociana del Condado                152.768937   521.960535              2.0  \n",
       "Paymogo                            172.562554   517.687662              0.0  \n",
       "San Bartolomé de la Torre          160.599572   508.565310              1.0  \n",
       "Palos de la Frontera               274.603596   496.058110              0.0  \n",
       "Aroche                             227.790433   455.580866              2.0  \n",
       "Moguer                             190.148497   430.097791              6.0  \n",
       "Huelva-Costa                       162.782222   409.211600             15.0  \n",
       "Beas                                93.962885   399.342260              2.0  \n",
       "Huelva (capital)                   147.567571   393.977573              8.0  \n",
       "Villanueva de los Castillejos      212.765957   390.070922              0.0  \n",
       "Isla Cristina                      206.922498   371.519940              3.0  \n",
       "Cartaya                            170.221288   365.475118              2.0  \n",
       "Huelva                             139.208956   358.497326             39.0  \n",
       "Condado-Campiña                    124.470356   341.164862             11.0  \n",
       "Villalba del Alcor                 179.748352   329.538646              0.0  \n",
       "Aljaraque                          145.813735   324.553151              0.0  \n",
       "Minas de Riotinto                   25.987526   311.850312              1.0  \n",
       "Nerva                              152.817574   267.430755              1.0  \n",
       "Almonte                             16.535075   252.159894              0.0  \n",
       "Sanlúcar de Guadiana               244.498778   244.498778              0.0  \n",
       "Puebla de Guzmán                    65.082981   227.790433              1.0  \n",
       "Punta Umbría                        72.169007   223.067839              0.0  \n",
       "Cerro de Andévalo (El)              84.602369   211.505922              0.0  \n",
       "Santa Ana la Real                  210.084034   210.084034              NaN  \n",
       "Bonares                             33.014196   198.085177              0.0  \n",
       "Villarrasa                          91.911765   183.823529              0.0  \n",
       "Rosal de la Frontera                58.927519   176.782557              0.0  \n",
       "Trigueros                           38.895371   168.546610             -1.0  \n",
       "Bollullos Par del Condado           35.033632   168.161435              0.0  \n",
       "Alosno                              25.490696   152.944175              0.0  \n",
       "Sierra de Huelva-Andévalo Central   53.277294   150.952332             13.0  \n",
       "Gibraleón                           39.660506   150.709923             -2.0  \n",
       "Aracena                             49.340076   135.685210              2.0  \n",
       "Zalamea la Real                     65.189048   130.378096              NaN  \n",
       "Valverde del Camino                 62.402496   117.004680              4.0  \n",
       "Paterna del Campo                   56.996295    85.494443              0.0  \n",
       "Zarza-Perrunal (La)                 78.926598    78.926598              0.0  \n",
       "San Juan del Puerto                 32.258065    75.268817              0.0  "
      ],
      "text/html": "<div>\n<style scoped>\n    .dataframe tbody tr th:only-of-type {\n        vertical-align: middle;\n    }\n\n    .dataframe tbody tr th {\n        vertical-align: top;\n    }\n\n    .dataframe thead th {\n        text-align: right;\n    }\n</style>\n<table border=\"1\" class=\"dataframe\">\n  <thead>\n    <tr style=\"text-align: right;\">\n      <th>Medida</th>\n      <th>Confirmados PDIA</th>\n      <th>Confirmados PDIA 7 días</th>\n      <th>Confirmados PDIA 14 días</th>\n      <th>Población</th>\n      <th>tasa7</th>\n      <th>tasa14</th>\n      <th>Diferencia PDIA</th>\n    </tr>\n    <tr>\n      <th>Lugar de residencia</th>\n      <th></th>\n      <th></th>\n      <th></th>\n      <th></th>\n      <th></th>\n      <th></th>\n      <th></th>\n    </tr>\n  </thead>\n  <tbody>\n    <tr>\n      <th>Corteconcepción</th>\n      <td>18.0</td>\n      <td>1.0</td>\n      <td>7.0</td>\n      <td>548.0</td>\n      <td>182.481752</td>\n      <td>1277.372263</td>\n      <td>0.0</td>\n    </tr>\n    <tr>\n      <th>Lucena del Puerto</th>\n      <td>74.0</td>\n      <td>16.0</td>\n      <td>34.0</td>\n      <td>3371.0</td>\n      <td>474.636606</td>\n      <td>1008.602788</td>\n      <td>4.0</td>\n    </tr>\n    <tr>\n      <th>Niebla</th>\n      <td>112.0</td>\n      <td>18.0</td>\n      <td>32.0</td>\n      <td>4117.0</td>\n      <td>437.211562</td>\n      <td>777.264999</td>\n      <td>0.0</td>\n    </tr>\n    <tr>\n      <th>Lepe</th>\n      <td>846.0</td>\n      <td>75.0</td>\n      <td>204.0</td>\n      <td>27431.0</td>\n      <td>273.413292</td>\n      <td>743.684153</td>\n      <td>1.0</td>\n    </tr>\n    <tr>\n      <th>Palma del Condado (La)</th>\n      <td>433.0</td>\n      <td>32.0</td>\n      <td>79.0</td>\n      <td>10761.0</td>\n      <td>297.370133</td>\n      <td>734.132516</td>\n      <td>-1.0</td>\n    </tr>\n    <tr>\n      <th>Ayamonte</th>\n      <td>309.0</td>\n      <td>50.0</td>\n      <td>115.0</td>\n      <td>20946.0</td>\n      <td>238.709061</td>\n      <td>549.030841</td>\n      <td>0.0</td>\n    </tr>\n    <tr>\n      <th>Rociana del Condado</th>\n      <td>108.0</td>\n      <td>12.0</td>\n      <td>41.0</td>\n      <td>7855.0</td>\n      <td>152.768937</td>\n      <td>521.960535</td>\n      <td>2.0</td>\n    </tr>\n    <tr>\n      <th>Paymogo</th>\n      <td>12.0</td>\n      <td>2.0</td>\n      <td>6.0</td>\n      <td>1159.0</td>\n      <td>172.562554</td>\n      <td>517.687662</td>\n      <td>0.0</td>\n    </tr>\n    <tr>\n      <th>San Bartolomé de la Torre</th>\n      <td>31.0</td>\n      <td>6.0</td>\n      <td>19.0</td>\n      <td>3736.0</td>\n      <td>160.599572</td>\n      <td>508.565310</td>\n      <td>1.0</td>\n    </tr>\n    <tr>\n      <th>Palos de la Frontera</th>\n      <td>199.0</td>\n      <td>31.0</td>\n      <td>56.0</td>\n      <td>11289.0</td>\n      <td>274.603596</td>\n      <td>496.058110</td>\n      <td>0.0</td>\n    </tr>\n    <tr>\n      <th>Aroche</th>\n      <td>51.0</td>\n      <td>7.0</td>\n      <td>14.0</td>\n      <td>3073.0</td>\n      <td>227.790433</td>\n      <td>455.580866</td>\n      <td>2.0</td>\n    </tr>\n    <tr>\n      <th>Moguer</th>\n      <td>297.0</td>\n      <td>42.0</td>\n      <td>95.0</td>\n      <td>22088.0</td>\n      <td>190.148497</td>\n      <td>430.097791</td>\n      <td>6.0</td>\n    </tr>\n    <tr>\n      <th>Huelva-Costa</th>\n      <td>5319.0</td>\n      <td>469.0</td>\n      <td>1179.0</td>\n      <td>288115.0</td>\n      <td>162.782222</td>\n      <td>409.211600</td>\n      <td>15.0</td>\n    </tr>\n    <tr>\n      <th>Beas</th>\n      <td>53.0</td>\n      <td>4.0</td>\n      <td>17.0</td>\n      <td>4257.0</td>\n      <td>93.962885</td>\n      <td>399.342260</td>\n      <td>2.0</td>\n    </tr>\n    <tr>\n      <th>Huelva (capital)</th>\n      <td>2718.0</td>\n      <td>212.0</td>\n      <td>566.0</td>\n      <td>143663.0</td>\n      <td>147.567571</td>\n      <td>393.977573</td>\n      <td>8.0</td>\n    </tr>\n    <tr>\n      <th>Villanueva de los Castillejos</th>\n      <td>54.0</td>\n      <td>6.0</td>\n      <td>11.0</td>\n      <td>2820.0</td>\n      <td>212.765957</td>\n      <td>390.070922</td>\n      <td>0.0</td>\n    </tr>\n    <tr>\n      <th>Isla Cristina</th>\n      <td>299.0</td>\n      <td>44.0</td>\n      <td>79.0</td>\n      <td>21264.0</td>\n      <td>206.922498</td>\n      <td>371.519940</td>\n      <td>3.0</td>\n    </tr>\n    <tr>\n      <th>Cartaya</th>\n      <td>308.0</td>\n      <td>34.0</td>\n      <td>73.0</td>\n      <td>19974.0</td>\n      <td>170.221288</td>\n      <td>365.475118</td>\n      <td>2.0</td>\n    </tr>\n    <tr>\n      <th>Huelva</th>\n      <td>9653.0</td>\n      <td>711.0</td>\n      <td>1831.0</td>\n      <td>510743.0</td>\n      <td>139.208956</td>\n      <td>358.497326</td>\n      <td>39.0</td>\n    </tr>\n    <tr>\n      <th>Condado-Campiña</th>\n      <td>2972.0</td>\n      <td>193.0</td>\n      <td>529.0</td>\n      <td>155057.0</td>\n      <td>124.470356</td>\n      <td>341.164862</td>\n      <td>11.0</td>\n    </tr>\n    <tr>\n      <th>Villalba del Alcor</th>\n      <td>93.0</td>\n      <td>6.0</td>\n      <td>11.0</td>\n      <td>3338.0</td>\n      <td>179.748352</td>\n      <td>329.538646</td>\n      <td>0.0</td>\n    </tr>\n    <tr>\n      <th>Aljaraque</th>\n      <td>359.0</td>\n      <td>31.0</td>\n      <td>69.0</td>\n      <td>21260.0</td>\n      <td>145.813735</td>\n      <td>324.553151</td>\n      <td>0.0</td>\n    </tr>\n    <tr>\n      <th>Minas de Riotinto</th>\n      <td>63.0</td>\n      <td>1.0</td>\n      <td>12.0</td>\n      <td>3848.0</td>\n      <td>25.987526</td>\n      <td>311.850312</td>\n      <td>1.0</td>\n    </tr>\n    <tr>\n      <th>Nerva</th>\n      <td>86.0</td>\n      <td>8.0</td>\n      <td>14.0</td>\n      <td>5235.0</td>\n      <td>152.817574</td>\n      <td>267.430755</td>\n      <td>1.0</td>\n    </tr>\n    <tr>\n      <th>Almonte</th>\n      <td>427.0</td>\n      <td>4.0</td>\n      <td>61.0</td>\n      <td>24191.0</td>\n      <td>16.535075</td>\n      <td>252.159894</td>\n      <td>0.0</td>\n    </tr>\n    <tr>\n      <th>Sanlúcar de Guadiana</th>\n      <td>3.0</td>\n      <td>1.0</td>\n      <td>1.0</td>\n      <td>409.0</td>\n      <td>244.498778</td>\n      <td>244.498778</td>\n      <td>0.0</td>\n    </tr>\n    <tr>\n      <th>Puebla de Guzmán</th>\n      <td>22.0</td>\n      <td>2.0</td>\n      <td>7.0</td>\n      <td>3073.0</td>\n      <td>65.082981</td>\n      <td>227.790433</td>\n      <td>1.0</td>\n    </tr>\n    <tr>\n      <th>Punta Umbría</th>\n      <td>212.0</td>\n      <td>11.0</td>\n      <td>34.0</td>\n      <td>15242.0</td>\n      <td>72.169007</td>\n      <td>223.067839</td>\n      <td>0.0</td>\n    </tr>\n    <tr>\n      <th>Cerro de Andévalo (El)</th>\n      <td>36.0</td>\n      <td>2.0</td>\n      <td>5.0</td>\n      <td>2364.0</td>\n      <td>84.602369</td>\n      <td>211.505922</td>\n      <td>0.0</td>\n    </tr>\n    <tr>\n      <th>Santa Ana la Real</th>\n      <td>2.0</td>\n      <td>1.0</td>\n      <td>1.0</td>\n      <td>476.0</td>\n      <td>210.084034</td>\n      <td>210.084034</td>\n      <td>NaN</td>\n    </tr>\n    <tr>\n      <th>Bonares</th>\n      <td>40.0</td>\n      <td>2.0</td>\n      <td>12.0</td>\n      <td>6058.0</td>\n      <td>33.014196</td>\n      <td>198.085177</td>\n      <td>0.0</td>\n    </tr>\n    <tr>\n      <th>Villarrasa</th>\n      <td>90.0</td>\n      <td>2.0</td>\n      <td>4.0</td>\n      <td>2176.0</td>\n      <td>91.911765</td>\n      <td>183.823529</td>\n      <td>0.0</td>\n    </tr>\n    <tr>\n      <th>Rosal de la Frontera</th>\n      <td>20.0</td>\n      <td>1.0</td>\n      <td>3.0</td>\n      <td>1697.0</td>\n      <td>58.927519</td>\n      <td>176.782557</td>\n      <td>0.0</td>\n    </tr>\n    <tr>\n      <th>Trigueros</th>\n      <td>126.0</td>\n      <td>3.0</td>\n      <td>13.0</td>\n      <td>7713.0</td>\n      <td>38.895371</td>\n      <td>168.546610</td>\n      <td>-1.0</td>\n    </tr>\n    <tr>\n      <th>Bollullos Par del Condado</th>\n      <td>229.0</td>\n      <td>5.0</td>\n      <td>24.0</td>\n      <td>14272.0</td>\n      <td>35.033632</td>\n      <td>168.161435</td>\n      <td>0.0</td>\n    </tr>\n    <tr>\n      <th>Alosno</th>\n      <td>41.0</td>\n      <td>1.0</td>\n      <td>6.0</td>\n      <td>3923.0</td>\n      <td>25.490696</td>\n      <td>152.944175</td>\n      <td>0.0</td>\n    </tr>\n    <tr>\n      <th>Sierra de Huelva-Andévalo Central</th>\n      <td>1239.0</td>\n      <td>36.0</td>\n      <td>102.0</td>\n      <td>67571.0</td>\n      <td>53.277294</td>\n      <td>150.952332</td>\n      <td>13.0</td>\n    </tr>\n    <tr>\n      <th>Gibraleón</th>\n      <td>338.0</td>\n      <td>5.0</td>\n      <td>19.0</td>\n      <td>12607.0</td>\n      <td>39.660506</td>\n      <td>150.709923</td>\n      <td>-2.0</td>\n    </tr>\n    <tr>\n      <th>Aracena</th>\n      <td>284.0</td>\n      <td>4.0</td>\n      <td>11.0</td>\n      <td>8107.0</td>\n      <td>49.340076</td>\n      <td>135.685210</td>\n      <td>2.0</td>\n    </tr>\n    <tr>\n      <th>Zalamea la Real</th>\n      <td>44.0</td>\n      <td>2.0</td>\n      <td>4.0</td>\n      <td>3068.0</td>\n      <td>65.189048</td>\n      <td>130.378096</td>\n      <td>NaN</td>\n    </tr>\n    <tr>\n      <th>Valverde del Camino</th>\n      <td>266.0</td>\n      <td>8.0</td>\n      <td>15.0</td>\n      <td>12820.0</td>\n      <td>62.402496</td>\n      <td>117.004680</td>\n      <td>4.0</td>\n    </tr>\n    <tr>\n      <th>Paterna del Campo</th>\n      <td>52.0</td>\n      <td>2.0</td>\n      <td>3.0</td>\n      <td>3509.0</td>\n      <td>56.996295</td>\n      <td>85.494443</td>\n      <td>0.0</td>\n    </tr>\n    <tr>\n      <th>Zarza-Perrunal (La)</th>\n      <td>13.0</td>\n      <td>1.0</td>\n      <td>1.0</td>\n      <td>1267.0</td>\n      <td>78.926598</td>\n      <td>78.926598</td>\n      <td>0.0</td>\n    </tr>\n    <tr>\n      <th>San Juan del Puerto</th>\n      <td>135.0</td>\n      <td>3.0</td>\n      <td>7.0</td>\n      <td>9300.0</td>\n      <td>32.258065</td>\n      <td>75.268817</td>\n      <td>0.0</td>\n    </tr>\n  </tbody>\n</table>\n</div>"
     },
     "metadata": {},
     "execution_count": 17
    }
   ],
   "source": [
    "tabla.sort_values('tasa14', ascending=False)"
   ]
  },
  {
   "cell_type": "code",
   "execution_count": 18,
   "metadata": {},
   "outputs": [
    {
     "output_type": "execute_result",
     "data": {
      "text/plain": [
       "Medida                             Confirmados PDIA  Confirmados PDIA 7 días  \\\n",
       "Lugar de residencia                                                            \n",
       "Almonte                                       427.0                      4.0   \n",
       "Minas de Riotinto                              63.0                      1.0   \n",
       "Corteconcepción                                18.0                      1.0   \n",
       "Alosno                                         41.0                      1.0   \n",
       "Bonares                                        40.0                      2.0   \n",
       "Bollullos Par del Condado                     229.0                      5.0   \n",
       "Trigueros                                     126.0                      3.0   \n",
       "Beas                                           53.0                      4.0   \n",
       "Gibraleón                                     338.0                      5.0   \n",
       "Puebla de Guzmán                               22.0                      2.0   \n",
       "Rociana del Condado                           108.0                     12.0   \n",
       "San Bartolomé de la Torre                      31.0                      6.0   \n",
       "Punta Umbría                                  212.0                     11.0   \n",
       "Rosal de la Frontera                           20.0                      1.0   \n",
       "Paymogo                                        12.0                      2.0   \n",
       "Sierra de Huelva-Andévalo Central            1239.0                     36.0   \n",
       "Aracena                                       284.0                      4.0   \n",
       "Condado-Campiña                              2972.0                    193.0   \n",
       "Lepe                                          846.0                     75.0   \n",
       "Huelva (capital)                             2718.0                    212.0   \n",
       "Huelva                                       9653.0                    711.0   \n",
       "Huelva-Costa                                 5319.0                    469.0   \n",
       "Cerro de Andévalo (El)                         36.0                      2.0   \n",
       "Palma del Condado (La)                        433.0                     32.0   \n",
       "San Juan del Puerto                           135.0                      3.0   \n",
       "Ayamonte                                      309.0                     50.0   \n",
       "Moguer                                        297.0                     42.0   \n",
       "Aljaraque                                     359.0                     31.0   \n",
       "Cartaya                                       308.0                     34.0   \n",
       "Lucena del Puerto                              74.0                     16.0   \n",
       "Zalamea la Real                                44.0                      2.0   \n",
       "Aroche                                         51.0                      7.0   \n",
       "Villarrasa                                     90.0                      2.0   \n",
       "Valverde del Camino                           266.0                      8.0   \n",
       "Villanueva de los Castillejos                  54.0                      6.0   \n",
       "Villalba del Alcor                             93.0                      6.0   \n",
       "Palos de la Frontera                          199.0                     31.0   \n",
       "Isla Cristina                                 299.0                     44.0   \n",
       "Niebla                                        112.0                     18.0   \n",
       "Nerva                                          86.0                      8.0   \n",
       "Paterna del Campo                              52.0                      2.0   \n",
       "Sanlúcar de Guadiana                            3.0                      1.0   \n",
       "Santa Ana la Real                               2.0                      1.0   \n",
       "Zarza-Perrunal (La)                            13.0                      1.0   \n",
       "\n",
       "Medida                             Confirmados PDIA 14 días  Población  \\\n",
       "Lugar de residencia                                                      \n",
       "Almonte                                                61.0    24191.0   \n",
       "Minas de Riotinto                                      12.0     3848.0   \n",
       "Corteconcepción                                         7.0      548.0   \n",
       "Alosno                                                  6.0     3923.0   \n",
       "Bonares                                                12.0     6058.0   \n",
       "Bollullos Par del Condado                              24.0    14272.0   \n",
       "Trigueros                                              13.0     7713.0   \n",
       "Beas                                                   17.0     4257.0   \n",
       "Gibraleón                                              19.0    12607.0   \n",
       "Puebla de Guzmán                                        7.0     3073.0   \n",
       "Rociana del Condado                                    41.0     7855.0   \n",
       "San Bartolomé de la Torre                              19.0     3736.0   \n",
       "Punta Umbría                                           34.0    15242.0   \n",
       "Rosal de la Frontera                                    3.0     1697.0   \n",
       "Paymogo                                                 6.0     1159.0   \n",
       "Sierra de Huelva-Andévalo Central                     102.0    67571.0   \n",
       "Aracena                                                11.0     8107.0   \n",
       "Condado-Campiña                                       529.0   155057.0   \n",
       "Lepe                                                  204.0    27431.0   \n",
       "Huelva (capital)                                      566.0   143663.0   \n",
       "Huelva                                               1831.0   510743.0   \n",
       "Huelva-Costa                                         1179.0   288115.0   \n",
       "Cerro de Andévalo (El)                                  5.0     2364.0   \n",
       "Palma del Condado (La)                                 79.0    10761.0   \n",
       "San Juan del Puerto                                     7.0     9300.0   \n",
       "Ayamonte                                              115.0    20946.0   \n",
       "Moguer                                                 95.0    22088.0   \n",
       "Aljaraque                                              69.0    21260.0   \n",
       "Cartaya                                                73.0    19974.0   \n",
       "Lucena del Puerto                                      34.0     3371.0   \n",
       "Zalamea la Real                                         4.0     3068.0   \n",
       "Aroche                                                 14.0     3073.0   \n",
       "Villarrasa                                              4.0     2176.0   \n",
       "Valverde del Camino                                    15.0    12820.0   \n",
       "Villanueva de los Castillejos                          11.0     2820.0   \n",
       "Villalba del Alcor                                     11.0     3338.0   \n",
       "Palos de la Frontera                                   56.0    11289.0   \n",
       "Isla Cristina                                          79.0    21264.0   \n",
       "Niebla                                                 32.0     4117.0   \n",
       "Nerva                                                  14.0     5235.0   \n",
       "Paterna del Campo                                       3.0     3509.0   \n",
       "Sanlúcar de Guadiana                                    1.0      409.0   \n",
       "Santa Ana la Real                                       1.0      476.0   \n",
       "Zarza-Perrunal (La)                                     1.0     1267.0   \n",
       "\n",
       "Medida                                  tasa7       tasa14  Diferencia PDIA  \\\n",
       "Lugar de residencia                                                           \n",
       "Almonte                             16.535075   252.159894              0.0   \n",
       "Minas de Riotinto                   25.987526   311.850312              1.0   \n",
       "Corteconcepción                    182.481752  1277.372263              0.0   \n",
       "Alosno                              25.490696   152.944175              0.0   \n",
       "Bonares                             33.014196   198.085177              0.0   \n",
       "Bollullos Par del Condado           35.033632   168.161435              0.0   \n",
       "Trigueros                           38.895371   168.546610             -1.0   \n",
       "Beas                                93.962885   399.342260              2.0   \n",
       "Gibraleón                           39.660506   150.709923             -2.0   \n",
       "Puebla de Guzmán                    65.082981   227.790433              1.0   \n",
       "Rociana del Condado                152.768937   521.960535              2.0   \n",
       "San Bartolomé de la Torre          160.599572   508.565310              1.0   \n",
       "Punta Umbría                        72.169007   223.067839              0.0   \n",
       "Rosal de la Frontera                58.927519   176.782557              0.0   \n",
       "Paymogo                            172.562554   517.687662              0.0   \n",
       "Sierra de Huelva-Andévalo Central   53.277294   150.952332             13.0   \n",
       "Aracena                             49.340076   135.685210              2.0   \n",
       "Condado-Campiña                    124.470356   341.164862             11.0   \n",
       "Lepe                               273.413292   743.684153              1.0   \n",
       "Huelva (capital)                   147.567571   393.977573              8.0   \n",
       "Huelva                             139.208956   358.497326             39.0   \n",
       "Huelva-Costa                       162.782222   409.211600             15.0   \n",
       "Cerro de Andévalo (El)              84.602369   211.505922              0.0   \n",
       "Palma del Condado (La)             297.370133   734.132516             -1.0   \n",
       "San Juan del Puerto                 32.258065    75.268817              0.0   \n",
       "Ayamonte                           238.709061   549.030841              0.0   \n",
       "Moguer                             190.148497   430.097791              6.0   \n",
       "Aljaraque                          145.813735   324.553151              0.0   \n",
       "Cartaya                            170.221288   365.475118              2.0   \n",
       "Lucena del Puerto                  474.636606  1008.602788              4.0   \n",
       "Zalamea la Real                     65.189048   130.378096              0.0   \n",
       "Aroche                             227.790433   455.580866              2.0   \n",
       "Villarrasa                          91.911765   183.823529              0.0   \n",
       "Valverde del Camino                 62.402496   117.004680              4.0   \n",
       "Villanueva de los Castillejos      212.765957   390.070922              0.0   \n",
       "Villalba del Alcor                 179.748352   329.538646              0.0   \n",
       "Palos de la Frontera               274.603596   496.058110              0.0   \n",
       "Isla Cristina                      206.922498   371.519940              3.0   \n",
       "Niebla                             437.211562   777.264999              0.0   \n",
       "Nerva                              152.817574   267.430755              1.0   \n",
       "Paterna del Campo                   56.996295    85.494443              0.0   \n",
       "Sanlúcar de Guadiana               244.498778   244.498778              0.0   \n",
       "Santa Ana la Real                  210.084034   210.084034              0.0   \n",
       "Zarza-Perrunal (La)                 78.926598    78.926598              0.0   \n",
       "\n",
       "Medida                                 7/14  \n",
       "Lugar de residencia                          \n",
       "Almonte                            0.065574  \n",
       "Minas de Riotinto                  0.083333  \n",
       "Corteconcepción                    0.142857  \n",
       "Alosno                             0.166667  \n",
       "Bonares                            0.166667  \n",
       "Bollullos Par del Condado          0.208333  \n",
       "Trigueros                          0.230769  \n",
       "Beas                               0.235294  \n",
       "Gibraleón                          0.263158  \n",
       "Puebla de Guzmán                   0.285714  \n",
       "Rociana del Condado                0.292683  \n",
       "San Bartolomé de la Torre          0.315789  \n",
       "Punta Umbría                       0.323529  \n",
       "Rosal de la Frontera               0.333333  \n",
       "Paymogo                            0.333333  \n",
       "Sierra de Huelva-Andévalo Central  0.352941  \n",
       "Aracena                            0.363636  \n",
       "Condado-Campiña                    0.364839  \n",
       "Lepe                               0.367647  \n",
       "Huelva (capital)                   0.374558  \n",
       "Huelva                             0.388312  \n",
       "Huelva-Costa                       0.397795  \n",
       "Cerro de Andévalo (El)             0.400000  \n",
       "Palma del Condado (La)             0.405063  \n",
       "San Juan del Puerto                0.428571  \n",
       "Ayamonte                           0.434783  \n",
       "Moguer                             0.442105  \n",
       "Aljaraque                          0.449275  \n",
       "Cartaya                            0.465753  \n",
       "Lucena del Puerto                  0.470588  \n",
       "Zalamea la Real                    0.500000  \n",
       "Aroche                             0.500000  \n",
       "Villarrasa                         0.500000  \n",
       "Valverde del Camino                0.533333  \n",
       "Villanueva de los Castillejos      0.545455  \n",
       "Villalba del Alcor                 0.545455  \n",
       "Palos de la Frontera               0.553571  \n",
       "Isla Cristina                      0.556962  \n",
       "Niebla                             0.562500  \n",
       "Nerva                              0.571429  \n",
       "Paterna del Campo                  0.666667  \n",
       "Sanlúcar de Guadiana               1.000000  \n",
       "Santa Ana la Real                  1.000000  \n",
       "Zarza-Perrunal (La)                1.000000  "
      ],
      "text/html": "<div>\n<style scoped>\n    .dataframe tbody tr th:only-of-type {\n        vertical-align: middle;\n    }\n\n    .dataframe tbody tr th {\n        vertical-align: top;\n    }\n\n    .dataframe thead th {\n        text-align: right;\n    }\n</style>\n<table border=\"1\" class=\"dataframe\">\n  <thead>\n    <tr style=\"text-align: right;\">\n      <th>Medida</th>\n      <th>Confirmados PDIA</th>\n      <th>Confirmados PDIA 7 días</th>\n      <th>Confirmados PDIA 14 días</th>\n      <th>Población</th>\n      <th>tasa7</th>\n      <th>tasa14</th>\n      <th>Diferencia PDIA</th>\n      <th>7/14</th>\n    </tr>\n    <tr>\n      <th>Lugar de residencia</th>\n      <th></th>\n      <th></th>\n      <th></th>\n      <th></th>\n      <th></th>\n      <th></th>\n      <th></th>\n      <th></th>\n    </tr>\n  </thead>\n  <tbody>\n    <tr>\n      <th>Almonte</th>\n      <td>427.0</td>\n      <td>4.0</td>\n      <td>61.0</td>\n      <td>24191.0</td>\n      <td>16.535075</td>\n      <td>252.159894</td>\n      <td>0.0</td>\n      <td>0.065574</td>\n    </tr>\n    <tr>\n      <th>Minas de Riotinto</th>\n      <td>63.0</td>\n      <td>1.0</td>\n      <td>12.0</td>\n      <td>3848.0</td>\n      <td>25.987526</td>\n      <td>311.850312</td>\n      <td>1.0</td>\n      <td>0.083333</td>\n    </tr>\n    <tr>\n      <th>Corteconcepción</th>\n      <td>18.0</td>\n      <td>1.0</td>\n      <td>7.0</td>\n      <td>548.0</td>\n      <td>182.481752</td>\n      <td>1277.372263</td>\n      <td>0.0</td>\n      <td>0.142857</td>\n    </tr>\n    <tr>\n      <th>Alosno</th>\n      <td>41.0</td>\n      <td>1.0</td>\n      <td>6.0</td>\n      <td>3923.0</td>\n      <td>25.490696</td>\n      <td>152.944175</td>\n      <td>0.0</td>\n      <td>0.166667</td>\n    </tr>\n    <tr>\n      <th>Bonares</th>\n      <td>40.0</td>\n      <td>2.0</td>\n      <td>12.0</td>\n      <td>6058.0</td>\n      <td>33.014196</td>\n      <td>198.085177</td>\n      <td>0.0</td>\n      <td>0.166667</td>\n    </tr>\n    <tr>\n      <th>Bollullos Par del Condado</th>\n      <td>229.0</td>\n      <td>5.0</td>\n      <td>24.0</td>\n      <td>14272.0</td>\n      <td>35.033632</td>\n      <td>168.161435</td>\n      <td>0.0</td>\n      <td>0.208333</td>\n    </tr>\n    <tr>\n      <th>Trigueros</th>\n      <td>126.0</td>\n      <td>3.0</td>\n      <td>13.0</td>\n      <td>7713.0</td>\n      <td>38.895371</td>\n      <td>168.546610</td>\n      <td>-1.0</td>\n      <td>0.230769</td>\n    </tr>\n    <tr>\n      <th>Beas</th>\n      <td>53.0</td>\n      <td>4.0</td>\n      <td>17.0</td>\n      <td>4257.0</td>\n      <td>93.962885</td>\n      <td>399.342260</td>\n      <td>2.0</td>\n      <td>0.235294</td>\n    </tr>\n    <tr>\n      <th>Gibraleón</th>\n      <td>338.0</td>\n      <td>5.0</td>\n      <td>19.0</td>\n      <td>12607.0</td>\n      <td>39.660506</td>\n      <td>150.709923</td>\n      <td>-2.0</td>\n      <td>0.263158</td>\n    </tr>\n    <tr>\n      <th>Puebla de Guzmán</th>\n      <td>22.0</td>\n      <td>2.0</td>\n      <td>7.0</td>\n      <td>3073.0</td>\n      <td>65.082981</td>\n      <td>227.790433</td>\n      <td>1.0</td>\n      <td>0.285714</td>\n    </tr>\n    <tr>\n      <th>Rociana del Condado</th>\n      <td>108.0</td>\n      <td>12.0</td>\n      <td>41.0</td>\n      <td>7855.0</td>\n      <td>152.768937</td>\n      <td>521.960535</td>\n      <td>2.0</td>\n      <td>0.292683</td>\n    </tr>\n    <tr>\n      <th>San Bartolomé de la Torre</th>\n      <td>31.0</td>\n      <td>6.0</td>\n      <td>19.0</td>\n      <td>3736.0</td>\n      <td>160.599572</td>\n      <td>508.565310</td>\n      <td>1.0</td>\n      <td>0.315789</td>\n    </tr>\n    <tr>\n      <th>Punta Umbría</th>\n      <td>212.0</td>\n      <td>11.0</td>\n      <td>34.0</td>\n      <td>15242.0</td>\n      <td>72.169007</td>\n      <td>223.067839</td>\n      <td>0.0</td>\n      <td>0.323529</td>\n    </tr>\n    <tr>\n      <th>Rosal de la Frontera</th>\n      <td>20.0</td>\n      <td>1.0</td>\n      <td>3.0</td>\n      <td>1697.0</td>\n      <td>58.927519</td>\n      <td>176.782557</td>\n      <td>0.0</td>\n      <td>0.333333</td>\n    </tr>\n    <tr>\n      <th>Paymogo</th>\n      <td>12.0</td>\n      <td>2.0</td>\n      <td>6.0</td>\n      <td>1159.0</td>\n      <td>172.562554</td>\n      <td>517.687662</td>\n      <td>0.0</td>\n      <td>0.333333</td>\n    </tr>\n    <tr>\n      <th>Sierra de Huelva-Andévalo Central</th>\n      <td>1239.0</td>\n      <td>36.0</td>\n      <td>102.0</td>\n      <td>67571.0</td>\n      <td>53.277294</td>\n      <td>150.952332</td>\n      <td>13.0</td>\n      <td>0.352941</td>\n    </tr>\n    <tr>\n      <th>Aracena</th>\n      <td>284.0</td>\n      <td>4.0</td>\n      <td>11.0</td>\n      <td>8107.0</td>\n      <td>49.340076</td>\n      <td>135.685210</td>\n      <td>2.0</td>\n      <td>0.363636</td>\n    </tr>\n    <tr>\n      <th>Condado-Campiña</th>\n      <td>2972.0</td>\n      <td>193.0</td>\n      <td>529.0</td>\n      <td>155057.0</td>\n      <td>124.470356</td>\n      <td>341.164862</td>\n      <td>11.0</td>\n      <td>0.364839</td>\n    </tr>\n    <tr>\n      <th>Lepe</th>\n      <td>846.0</td>\n      <td>75.0</td>\n      <td>204.0</td>\n      <td>27431.0</td>\n      <td>273.413292</td>\n      <td>743.684153</td>\n      <td>1.0</td>\n      <td>0.367647</td>\n    </tr>\n    <tr>\n      <th>Huelva (capital)</th>\n      <td>2718.0</td>\n      <td>212.0</td>\n      <td>566.0</td>\n      <td>143663.0</td>\n      <td>147.567571</td>\n      <td>393.977573</td>\n      <td>8.0</td>\n      <td>0.374558</td>\n    </tr>\n    <tr>\n      <th>Huelva</th>\n      <td>9653.0</td>\n      <td>711.0</td>\n      <td>1831.0</td>\n      <td>510743.0</td>\n      <td>139.208956</td>\n      <td>358.497326</td>\n      <td>39.0</td>\n      <td>0.388312</td>\n    </tr>\n    <tr>\n      <th>Huelva-Costa</th>\n      <td>5319.0</td>\n      <td>469.0</td>\n      <td>1179.0</td>\n      <td>288115.0</td>\n      <td>162.782222</td>\n      <td>409.211600</td>\n      <td>15.0</td>\n      <td>0.397795</td>\n    </tr>\n    <tr>\n      <th>Cerro de Andévalo (El)</th>\n      <td>36.0</td>\n      <td>2.0</td>\n      <td>5.0</td>\n      <td>2364.0</td>\n      <td>84.602369</td>\n      <td>211.505922</td>\n      <td>0.0</td>\n      <td>0.400000</td>\n    </tr>\n    <tr>\n      <th>Palma del Condado (La)</th>\n      <td>433.0</td>\n      <td>32.0</td>\n      <td>79.0</td>\n      <td>10761.0</td>\n      <td>297.370133</td>\n      <td>734.132516</td>\n      <td>-1.0</td>\n      <td>0.405063</td>\n    </tr>\n    <tr>\n      <th>San Juan del Puerto</th>\n      <td>135.0</td>\n      <td>3.0</td>\n      <td>7.0</td>\n      <td>9300.0</td>\n      <td>32.258065</td>\n      <td>75.268817</td>\n      <td>0.0</td>\n      <td>0.428571</td>\n    </tr>\n    <tr>\n      <th>Ayamonte</th>\n      <td>309.0</td>\n      <td>50.0</td>\n      <td>115.0</td>\n      <td>20946.0</td>\n      <td>238.709061</td>\n      <td>549.030841</td>\n      <td>0.0</td>\n      <td>0.434783</td>\n    </tr>\n    <tr>\n      <th>Moguer</th>\n      <td>297.0</td>\n      <td>42.0</td>\n      <td>95.0</td>\n      <td>22088.0</td>\n      <td>190.148497</td>\n      <td>430.097791</td>\n      <td>6.0</td>\n      <td>0.442105</td>\n    </tr>\n    <tr>\n      <th>Aljaraque</th>\n      <td>359.0</td>\n      <td>31.0</td>\n      <td>69.0</td>\n      <td>21260.0</td>\n      <td>145.813735</td>\n      <td>324.553151</td>\n      <td>0.0</td>\n      <td>0.449275</td>\n    </tr>\n    <tr>\n      <th>Cartaya</th>\n      <td>308.0</td>\n      <td>34.0</td>\n      <td>73.0</td>\n      <td>19974.0</td>\n      <td>170.221288</td>\n      <td>365.475118</td>\n      <td>2.0</td>\n      <td>0.465753</td>\n    </tr>\n    <tr>\n      <th>Lucena del Puerto</th>\n      <td>74.0</td>\n      <td>16.0</td>\n      <td>34.0</td>\n      <td>3371.0</td>\n      <td>474.636606</td>\n      <td>1008.602788</td>\n      <td>4.0</td>\n      <td>0.470588</td>\n    </tr>\n    <tr>\n      <th>Zalamea la Real</th>\n      <td>44.0</td>\n      <td>2.0</td>\n      <td>4.0</td>\n      <td>3068.0</td>\n      <td>65.189048</td>\n      <td>130.378096</td>\n      <td>0.0</td>\n      <td>0.500000</td>\n    </tr>\n    <tr>\n      <th>Aroche</th>\n      <td>51.0</td>\n      <td>7.0</td>\n      <td>14.0</td>\n      <td>3073.0</td>\n      <td>227.790433</td>\n      <td>455.580866</td>\n      <td>2.0</td>\n      <td>0.500000</td>\n    </tr>\n    <tr>\n      <th>Villarrasa</th>\n      <td>90.0</td>\n      <td>2.0</td>\n      <td>4.0</td>\n      <td>2176.0</td>\n      <td>91.911765</td>\n      <td>183.823529</td>\n      <td>0.0</td>\n      <td>0.500000</td>\n    </tr>\n    <tr>\n      <th>Valverde del Camino</th>\n      <td>266.0</td>\n      <td>8.0</td>\n      <td>15.0</td>\n      <td>12820.0</td>\n      <td>62.402496</td>\n      <td>117.004680</td>\n      <td>4.0</td>\n      <td>0.533333</td>\n    </tr>\n    <tr>\n      <th>Villanueva de los Castillejos</th>\n      <td>54.0</td>\n      <td>6.0</td>\n      <td>11.0</td>\n      <td>2820.0</td>\n      <td>212.765957</td>\n      <td>390.070922</td>\n      <td>0.0</td>\n      <td>0.545455</td>\n    </tr>\n    <tr>\n      <th>Villalba del Alcor</th>\n      <td>93.0</td>\n      <td>6.0</td>\n      <td>11.0</td>\n      <td>3338.0</td>\n      <td>179.748352</td>\n      <td>329.538646</td>\n      <td>0.0</td>\n      <td>0.545455</td>\n    </tr>\n    <tr>\n      <th>Palos de la Frontera</th>\n      <td>199.0</td>\n      <td>31.0</td>\n      <td>56.0</td>\n      <td>11289.0</td>\n      <td>274.603596</td>\n      <td>496.058110</td>\n      <td>0.0</td>\n      <td>0.553571</td>\n    </tr>\n    <tr>\n      <th>Isla Cristina</th>\n      <td>299.0</td>\n      <td>44.0</td>\n      <td>79.0</td>\n      <td>21264.0</td>\n      <td>206.922498</td>\n      <td>371.519940</td>\n      <td>3.0</td>\n      <td>0.556962</td>\n    </tr>\n    <tr>\n      <th>Niebla</th>\n      <td>112.0</td>\n      <td>18.0</td>\n      <td>32.0</td>\n      <td>4117.0</td>\n      <td>437.211562</td>\n      <td>777.264999</td>\n      <td>0.0</td>\n      <td>0.562500</td>\n    </tr>\n    <tr>\n      <th>Nerva</th>\n      <td>86.0</td>\n      <td>8.0</td>\n      <td>14.0</td>\n      <td>5235.0</td>\n      <td>152.817574</td>\n      <td>267.430755</td>\n      <td>1.0</td>\n      <td>0.571429</td>\n    </tr>\n    <tr>\n      <th>Paterna del Campo</th>\n      <td>52.0</td>\n      <td>2.0</td>\n      <td>3.0</td>\n      <td>3509.0</td>\n      <td>56.996295</td>\n      <td>85.494443</td>\n      <td>0.0</td>\n      <td>0.666667</td>\n    </tr>\n    <tr>\n      <th>Sanlúcar de Guadiana</th>\n      <td>3.0</td>\n      <td>1.0</td>\n      <td>1.0</td>\n      <td>409.0</td>\n      <td>244.498778</td>\n      <td>244.498778</td>\n      <td>0.0</td>\n      <td>1.000000</td>\n    </tr>\n    <tr>\n      <th>Santa Ana la Real</th>\n      <td>2.0</td>\n      <td>1.0</td>\n      <td>1.0</td>\n      <td>476.0</td>\n      <td>210.084034</td>\n      <td>210.084034</td>\n      <td>0.0</td>\n      <td>1.000000</td>\n    </tr>\n    <tr>\n      <th>Zarza-Perrunal (La)</th>\n      <td>13.0</td>\n      <td>1.0</td>\n      <td>1.0</td>\n      <td>1267.0</td>\n      <td>78.926598</td>\n      <td>78.926598</td>\n      <td>0.0</td>\n      <td>1.000000</td>\n    </tr>\n  </tbody>\n</table>\n</div>"
     },
     "metadata": {},
     "execution_count": 18
    }
   ],
   "source": [
    "# Peso de la tasa de la última semana en relación con la tasa a 14 días \n",
    "# Mejor cuanto menor. Valor 1 significa que no había casos antes de 7 días.\n",
    "tabla['7/14'] = tabla['tasa7'] / tabla['tasa14']\n",
    "tabla.fillna(0).sort_values('7/14', ascending=True)"
   ]
  },
  {
   "cell_type": "code",
   "execution_count": null,
   "metadata": {},
   "outputs": [],
   "source": []
  }
 ]
}