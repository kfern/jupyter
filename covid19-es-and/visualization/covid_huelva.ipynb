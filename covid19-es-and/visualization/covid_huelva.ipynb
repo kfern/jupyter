{
 "metadata": {
  "language_info": {
   "codemirror_mode": {
    "name": "ipython",
    "version": 3
   },
   "file_extension": ".py",
   "mimetype": "text/x-python",
   "name": "python",
   "nbconvert_exporter": "python",
   "pygments_lexer": "ipython3",
   "version": "3.8.6"
  },
  "orig_nbformat": 2,
  "kernelspec": {
   "name": "python3",
   "display_name": "Python 3.8.6 64-bit"
  },
  "interpreter": {
   "hash": "31f2aee4e71d21fbe5cf8b01ff0e069b9275f58929596ceb00d14d90e3e16cd6"
  }
 },
 "nbformat": 4,
 "nbformat_minor": 2,
 "cells": [
  {
   "cell_type": "code",
   "execution_count": 1,
   "metadata": {},
   "outputs": [],
   "source": [
    "import pandas as pd\n",
    "pd.set_option('display.max_rows', None) # Print all rows"
   ]
  },
  {
   "cell_type": "code",
   "execution_count": 2,
   "metadata": {},
   "outputs": [],
   "source": [
    "# FIX SSL: CERTIFICATE_VERIFY_FAILED with Python3\n",
    "# https://stackoverflow.com/a/49174340\n",
    "import ssl\n",
    "\n",
    "ssl._create_default_https_context = ssl._create_unverified_context"
   ]
  },
  {
   "cell_type": "code",
   "execution_count": 3,
   "metadata": {},
   "outputs": [],
   "source": [
    "url = 'https://www.juntadeandalucia.es/institutodeestadisticaycartografia/badea/stpivot/stpivot/Print?cube=013d884c-cfc5-4c21-9e78-e26225682afd&type=3&foto=si&ejecutaDesde=&codConsulta=38668&consTipoVisua=JP'\n",
    "fields = ['Lugar de residencia', 'Medida', 'Valor']\n",
    "df = pd.read_csv(url, delimiter=';', usecols=fields, decimal=',')"
   ]
  },
  {
   "cell_type": "code",
   "execution_count": 4,
   "metadata": {},
   "outputs": [
    {
     "output_type": "execute_result",
     "data": {
      "text/plain": [
       "  Lugar de residencia                    Medida               Valor\n",
       "0              Huelva                 Población              513170\n",
       "1              Huelva          Confirmados PDIA               33435\n",
       "2              Huelva  Confirmados PDIA 14 días                 918\n",
       "3              Huelva         Tasa PDIA 14 días  178,88808776818598\n",
       "4              Huelva   Confirmados PDIA 7 días                 415\n",
       "5              Huelva        Total Confirmados                33620\n",
       "6              Huelva                   Curados               31666\n",
       "7              Huelva                Fallecidos                 390"
      ],
      "text/html": "<div>\n<style scoped>\n    .dataframe tbody tr th:only-of-type {\n        vertical-align: middle;\n    }\n\n    .dataframe tbody tr th {\n        vertical-align: top;\n    }\n\n    .dataframe thead th {\n        text-align: right;\n    }\n</style>\n<table border=\"1\" class=\"dataframe\">\n  <thead>\n    <tr style=\"text-align: right;\">\n      <th></th>\n      <th>Lugar de residencia</th>\n      <th>Medida</th>\n      <th>Valor</th>\n    </tr>\n  </thead>\n  <tbody>\n    <tr>\n      <th>0</th>\n      <td>Huelva</td>\n      <td>Población</td>\n      <td>513170</td>\n    </tr>\n    <tr>\n      <th>1</th>\n      <td>Huelva</td>\n      <td>Confirmados PDIA</td>\n      <td>33435</td>\n    </tr>\n    <tr>\n      <th>2</th>\n      <td>Huelva</td>\n      <td>Confirmados PDIA 14 días</td>\n      <td>918</td>\n    </tr>\n    <tr>\n      <th>3</th>\n      <td>Huelva</td>\n      <td>Tasa PDIA 14 días</td>\n      <td>178,88808776818598</td>\n    </tr>\n    <tr>\n      <th>4</th>\n      <td>Huelva</td>\n      <td>Confirmados PDIA 7 días</td>\n      <td>415</td>\n    </tr>\n    <tr>\n      <th>5</th>\n      <td>Huelva</td>\n      <td>Total Confirmados</td>\n      <td>33620</td>\n    </tr>\n    <tr>\n      <th>6</th>\n      <td>Huelva</td>\n      <td>Curados</td>\n      <td>31666</td>\n    </tr>\n    <tr>\n      <th>7</th>\n      <td>Huelva</td>\n      <td>Fallecidos</td>\n      <td>390</td>\n    </tr>\n  </tbody>\n</table>\n</div>"
     },
     "metadata": {},
     "execution_count": 4
    }
   ],
   "source": [
    "df[df['Lugar de residencia'] == 'Huelva']"
   ]
  },
  {
   "cell_type": "code",
   "execution_count": 5,
   "metadata": {},
   "outputs": [],
   "source": [
    "df['Valor'] = pd.to_numeric(df['Valor'],errors='coerce')"
   ]
  },
  {
   "cell_type": "code",
   "execution_count": 6,
   "metadata": {},
   "outputs": [],
   "source": [
    "dfAnterior = pd.read_csv('covid_huelva.csv', index_col='Lugar de residencia')"
   ]
  },
  {
   "cell_type": "code",
   "execution_count": 7,
   "metadata": {
    "tags": []
   },
   "outputs": [
    {
     "output_type": "stream",
     "name": "stdout",
     "text": [
      "Confirmados PCR en la provincia de Huelva:  33435.0\n",
      "<ipython-input-7-31b732756b19>:2: UserWarning: Boolean Series key will be reindexed to match DataFrame index.\n",
      "  p = df[df['Lugar de residencia'] == 'Huelva'][df['Medida'] == 'Confirmados PDIA']['Valor'].values[0]\n"
     ]
    }
   ],
   "source": [
    "# Confirmados PCR provincia Huelva\n",
    "p = df[df['Lugar de residencia'] == 'Huelva'][df['Medida'] == 'Confirmados PDIA']['Valor'].values[0]\n",
    "print('Confirmados PCR en la provincia de Huelva: ', p)"
   ]
  },
  {
   "cell_type": "code",
   "execution_count": 8,
   "metadata": {
    "tags": []
   },
   "outputs": [
    {
     "output_type": "stream",
     "name": "stdout",
     "text": [
      "Confirmados PCR en Huelva capital:  9148.0\n",
      "<ipython-input-8-e81bfb40e710>:2: UserWarning: Boolean Series key will be reindexed to match DataFrame index.\n",
      "  c = df[df['Lugar de residencia'] == 'Huelva (capital)'][df['Medida'] == 'Confirmados PDIA']['Valor'].values[0]\n"
     ]
    }
   ],
   "source": [
    "# Confirmados PCR Huelva capitalpd\n",
    "c = df[df['Lugar de residencia'] == 'Huelva (capital)'][df['Medida'] == 'Confirmados PDIA']['Valor'].values[0]\n",
    "print('Confirmados PCR en Huelva capital: ', c)"
   ]
  },
  {
   "cell_type": "code",
   "execution_count": 9,
   "metadata": {
    "tags": []
   },
   "outputs": [
    {
     "output_type": "stream",
     "name": "stderr",
     "text": [
      "<ipython-input-9-f09dd2050cc1>:1: UserWarning: Boolean Series key will be reindexed to match DataFrame index.\n  c7 = df[df['Lugar de residencia'] == 'Huelva (capital)'][df['Medida'] == 'Confirmados PDIA 7 días']['Valor'].values[0]\n<ipython-input-9-f09dd2050cc1>:2: UserWarning: Boolean Series key will be reindexed to match DataFrame index.\n  c14 = df[df['Lugar de residencia'] == 'Huelva (capital)'][df['Medida'] == 'Confirmados PDIA 14 días']['Valor'].values[0]\n<ipython-input-9-f09dd2050cc1>:3: UserWarning: Boolean Series key will be reindexed to match DataFrame index.\n  p = df[df['Lugar de residencia'] == 'Huelva (capital)'][df['Medida'] == 'Población']['Valor'].values[0]\n"
     ]
    }
   ],
   "source": [
    "c7 = df[df['Lugar de residencia'] == 'Huelva (capital)'][df['Medida'] == 'Confirmados PDIA 7 días']['Valor'].values[0]\n",
    "c14 = df[df['Lugar de residencia'] == 'Huelva (capital)'][df['Medida'] == 'Confirmados PDIA 14 días']['Valor'].values[0]\n",
    "p = df[df['Lugar de residencia'] == 'Huelva (capital)'][df['Medida'] == 'Población']['Valor'].values[0]"
   ]
  },
  {
   "cell_type": "code",
   "execution_count": 10,
   "metadata": {
    "tags": []
   },
   "outputs": [
    {
     "output_type": "stream",
     "name": "stdout",
     "text": [
      "Huelva (capital)\n\nUn positivo PCR cada 1262 personas en los últimos 7 días \n\nUn positivo PCR cada 475 personas en los últimos 14 días\n"
     ]
    }
   ],
   "source": [
    "print('Huelva (capital)\\n')\n",
    "#print('Confirmados PCR 7 días x 1,000 habitantes: ', f\"{c7/(p/1000):.5f}\")\n",
    "print('Un positivo PCR cada', f\"{p/c7:.0f}\", 'personas en los últimos 7 días', '\\n')\n",
    "#print('Confirmados PCR 14 días x 1,000 habitantes: ', f\"{c14/(p/1000):.5f}\")\n",
    "print('Un positivo PCR cada', f\"{p/c14:.0f}\", 'personas en los últimos 14 días')"
   ]
  },
  {
   "cell_type": "code",
   "execution_count": 11,
   "metadata": {},
   "outputs": [],
   "source": [
    "filtro = ((df['Medida'] == 'Confirmados PDIA')| (df['Medida'] == 'Confirmados PDIA 7 días') | (df['Medida'] == 'Población' ) | (df['Medida'] == 'Confirmados PDIA 14 días')) & (df['Valor'] > 0)\n",
    "tabla = pd.pivot_table(df.loc[filtro], values='Valor', index='Lugar de residencia', columns='Medida').dropna()"
   ]
  },
  {
   "cell_type": "code",
   "execution_count": 12,
   "metadata": {},
   "outputs": [],
   "source": [
    "# Reorder columns\n",
    "tabla = tabla[['Confirmados PDIA', 'Confirmados PDIA 7 días', 'Confirmados PDIA 14 días', 'Población']]"
   ]
  },
  {
   "cell_type": "code",
   "execution_count": 13,
   "metadata": {},
   "outputs": [],
   "source": [
    "tabla['tasa7'] = tabla['Confirmados PDIA 7 días']/tabla['Población']*100000\n",
    "tabla['tasa14'] = tabla['Confirmados PDIA 14 días']/tabla['Población']*100000"
   ]
  },
  {
   "cell_type": "code",
   "execution_count": 14,
   "metadata": {},
   "outputs": [],
   "source": [
    "tabla['Diferencia PDIA'] = tabla['Confirmados PDIA'] - dfAnterior['Confirmados PDIA']"
   ]
  },
  {
   "cell_type": "code",
   "execution_count": 15,
   "metadata": {},
   "outputs": [
    {
     "output_type": "execute_result",
     "data": {
      "text/plain": [
       "Medida                             Confirmados PDIA  Confirmados PDIA 7 días  \\\n",
       "Lugar de residencia                                                            \n",
       "Huelva                                      33435.0                    415.0   \n",
       "Huelva-Costa                                19266.0                    242.0   \n",
       "Huelva (capital)                             9148.0                    114.0   \n",
       "Condado-Campiña                             10873.0                    147.0   \n",
       "Ayamonte                                     1358.0                     24.0   \n",
       "Moguer                                       1415.0                     34.0   \n",
       "Sierra de Huelva-Andévalo Central            2942.0                     25.0   \n",
       "Isla Cristina                                2195.0                     16.0   \n",
       "Aljaraque                                    1179.0                     18.0   \n",
       "San Juan del Puerto                           593.0                     24.0   \n",
       "Cartaya                                      1411.0                     30.0   \n",
       "Lepe                                         2182.0                     16.0   \n",
       "Alosno                                        188.0                      9.0   \n",
       "Bollullos Par del Condado                    1038.0                      7.0   \n",
       "Bonares                                       304.0                     11.0   \n",
       "Almonte                                      1919.0                     14.0   \n",
       "Punta Umbría                                  858.0                     10.0   \n",
       "Rociana del Condado                           578.0                      7.0   \n",
       "Cerro de Andévalo (El)                        156.0                      5.0   \n",
       "Manzanilla                                    109.0                      5.0   \n",
       "Gibraleón                                     655.0                      6.0   \n",
       "Palma del Condado (La)                       1197.0                      9.0   \n",
       "Palos de la Frontera                          731.0                     24.0   \n",
       "Paymogo                                        78.0                      3.0   \n",
       "Cortegana                                     216.0                      1.0   \n",
       "Jabugo                                         67.0                      2.0   \n",
       "Valverde del Camino                           665.0                      8.0   \n",
       "Aroche                                         93.0                      2.0   \n",
       "Zarza-Perrunal (La)                            27.0                      1.0   \n",
       "\n",
       "Medida                             Confirmados PDIA 14 días  Población  \\\n",
       "Lugar de residencia                                                      \n",
       "Huelva                                                918.0   513170.0   \n",
       "Huelva-Costa                                          513.0   289548.0   \n",
       "Huelva (capital)                                      303.0   143837.0   \n",
       "Condado-Campiña                                       329.0   156231.0   \n",
       "Ayamonte                                               27.0    21104.0   \n",
       "Moguer                                                 64.0    21867.0   \n",
       "Sierra de Huelva-Andévalo Central                      73.0    67391.0   \n",
       "Isla Cristina                                          30.0    21393.0   \n",
       "Aljaraque                                              27.0    21474.0   \n",
       "San Juan del Puerto                                    41.0     9411.0   \n",
       "Cartaya                                                48.0    20083.0   \n",
       "Lepe                                                   32.0    27880.0   \n",
       "Alosno                                                 10.0     3933.0   \n",
       "Bollullos Par del Condado                              22.0    14387.0   \n",
       "Bonares                                                16.0     6060.0   \n",
       "Almonte                                                54.0    24507.0   \n",
       "Punta Umbría                                           18.0    15355.0   \n",
       "Rociana del Condado                                    17.0     7939.0   \n",
       "Cerro de Andévalo (El)                                  9.0     2327.0   \n",
       "Manzanilla                                              6.0     2118.0   \n",
       "Gibraleón                                              14.0    12737.0   \n",
       "Palma del Condado (La)                                 23.0    10801.0   \n",
       "Palos de la Frontera                                   33.0    11742.0   \n",
       "Paymogo                                                 3.0     1162.0   \n",
       "Cortegana                                               2.0     4602.0   \n",
       "Jabugo                                                  2.0     2260.0   \n",
       "Valverde del Camino                                    38.0    12750.0   \n",
       "Aroche                                                  2.0     3054.0   \n",
       "Zarza-Perrunal (La)                                     2.0     1253.0   \n",
       "\n",
       "Medida                                  tasa7      tasa14  Diferencia PDIA  \n",
       "Lugar de residencia                                                         \n",
       "Huelva                              80.869887  178.888088            153.0  \n",
       "Huelva-Costa                        83.578543  177.172697            104.0  \n",
       "Huelva (capital)                    79.256380  210.655117             46.0  \n",
       "Condado-Campiña                     94.091442  210.585607             40.0  \n",
       "Ayamonte                           113.722517  127.937832             17.0  \n",
       "Moguer                             155.485435  292.678465              9.0  \n",
       "Sierra de Huelva-Andévalo Central   37.096942  108.323070              8.0  \n",
       "Isla Cristina                       74.790819  140.232786              8.0  \n",
       "Aljaraque                           83.822297  125.733445              8.0  \n",
       "San Juan del Puerto                255.020720  435.660397              7.0  \n",
       "Cartaya                            149.380073  239.008116              7.0  \n",
       "Lepe                                57.388809  114.777618              7.0  \n",
       "Alosno                             228.832952  254.258835              6.0  \n",
       "Bollullos Par del Condado           48.655036  152.915827              5.0  \n",
       "Bonares                            181.518152  264.026403              5.0  \n",
       "Almonte                             57.126535  220.345207              3.0  \n",
       "Punta Umbría                        65.125366  117.225659              3.0  \n",
       "Rociana del Condado                 88.172314  214.132762              3.0  \n",
       "Cerro de Andévalo (El)             214.868930  386.764074              2.0  \n",
       "Manzanilla                         236.071766  283.286119              2.0  \n",
       "Gibraleón                           47.106854  109.915993              2.0  \n",
       "Palma del Condado (La)              83.325618  212.943246              2.0  \n",
       "Palos de la Frontera               204.394481  281.042412              2.0  \n",
       "Paymogo                            258.175559  258.175559              2.0  \n",
       "Cortegana                           21.729683   43.459365              1.0  \n",
       "Jabugo                              88.495575   88.495575              1.0  \n",
       "Valverde del Camino                 62.745098  298.039216              1.0  \n",
       "Aroche                              65.487885   65.487885              NaN  \n",
       "Zarza-Perrunal (La)                 79.808460  159.616919              NaN  "
      ],
      "text/html": "<div>\n<style scoped>\n    .dataframe tbody tr th:only-of-type {\n        vertical-align: middle;\n    }\n\n    .dataframe tbody tr th {\n        vertical-align: top;\n    }\n\n    .dataframe thead th {\n        text-align: right;\n    }\n</style>\n<table border=\"1\" class=\"dataframe\">\n  <thead>\n    <tr style=\"text-align: right;\">\n      <th>Medida</th>\n      <th>Confirmados PDIA</th>\n      <th>Confirmados PDIA 7 días</th>\n      <th>Confirmados PDIA 14 días</th>\n      <th>Población</th>\n      <th>tasa7</th>\n      <th>tasa14</th>\n      <th>Diferencia PDIA</th>\n    </tr>\n    <tr>\n      <th>Lugar de residencia</th>\n      <th></th>\n      <th></th>\n      <th></th>\n      <th></th>\n      <th></th>\n      <th></th>\n      <th></th>\n    </tr>\n  </thead>\n  <tbody>\n    <tr>\n      <th>Huelva</th>\n      <td>33435.0</td>\n      <td>415.0</td>\n      <td>918.0</td>\n      <td>513170.0</td>\n      <td>80.869887</td>\n      <td>178.888088</td>\n      <td>153.0</td>\n    </tr>\n    <tr>\n      <th>Huelva-Costa</th>\n      <td>19266.0</td>\n      <td>242.0</td>\n      <td>513.0</td>\n      <td>289548.0</td>\n      <td>83.578543</td>\n      <td>177.172697</td>\n      <td>104.0</td>\n    </tr>\n    <tr>\n      <th>Huelva (capital)</th>\n      <td>9148.0</td>\n      <td>114.0</td>\n      <td>303.0</td>\n      <td>143837.0</td>\n      <td>79.256380</td>\n      <td>210.655117</td>\n      <td>46.0</td>\n    </tr>\n    <tr>\n      <th>Condado-Campiña</th>\n      <td>10873.0</td>\n      <td>147.0</td>\n      <td>329.0</td>\n      <td>156231.0</td>\n      <td>94.091442</td>\n      <td>210.585607</td>\n      <td>40.0</td>\n    </tr>\n    <tr>\n      <th>Ayamonte</th>\n      <td>1358.0</td>\n      <td>24.0</td>\n      <td>27.0</td>\n      <td>21104.0</td>\n      <td>113.722517</td>\n      <td>127.937832</td>\n      <td>17.0</td>\n    </tr>\n    <tr>\n      <th>Moguer</th>\n      <td>1415.0</td>\n      <td>34.0</td>\n      <td>64.0</td>\n      <td>21867.0</td>\n      <td>155.485435</td>\n      <td>292.678465</td>\n      <td>9.0</td>\n    </tr>\n    <tr>\n      <th>Sierra de Huelva-Andévalo Central</th>\n      <td>2942.0</td>\n      <td>25.0</td>\n      <td>73.0</td>\n      <td>67391.0</td>\n      <td>37.096942</td>\n      <td>108.323070</td>\n      <td>8.0</td>\n    </tr>\n    <tr>\n      <th>Isla Cristina</th>\n      <td>2195.0</td>\n      <td>16.0</td>\n      <td>30.0</td>\n      <td>21393.0</td>\n      <td>74.790819</td>\n      <td>140.232786</td>\n      <td>8.0</td>\n    </tr>\n    <tr>\n      <th>Aljaraque</th>\n      <td>1179.0</td>\n      <td>18.0</td>\n      <td>27.0</td>\n      <td>21474.0</td>\n      <td>83.822297</td>\n      <td>125.733445</td>\n      <td>8.0</td>\n    </tr>\n    <tr>\n      <th>San Juan del Puerto</th>\n      <td>593.0</td>\n      <td>24.0</td>\n      <td>41.0</td>\n      <td>9411.0</td>\n      <td>255.020720</td>\n      <td>435.660397</td>\n      <td>7.0</td>\n    </tr>\n    <tr>\n      <th>Cartaya</th>\n      <td>1411.0</td>\n      <td>30.0</td>\n      <td>48.0</td>\n      <td>20083.0</td>\n      <td>149.380073</td>\n      <td>239.008116</td>\n      <td>7.0</td>\n    </tr>\n    <tr>\n      <th>Lepe</th>\n      <td>2182.0</td>\n      <td>16.0</td>\n      <td>32.0</td>\n      <td>27880.0</td>\n      <td>57.388809</td>\n      <td>114.777618</td>\n      <td>7.0</td>\n    </tr>\n    <tr>\n      <th>Alosno</th>\n      <td>188.0</td>\n      <td>9.0</td>\n      <td>10.0</td>\n      <td>3933.0</td>\n      <td>228.832952</td>\n      <td>254.258835</td>\n      <td>6.0</td>\n    </tr>\n    <tr>\n      <th>Bollullos Par del Condado</th>\n      <td>1038.0</td>\n      <td>7.0</td>\n      <td>22.0</td>\n      <td>14387.0</td>\n      <td>48.655036</td>\n      <td>152.915827</td>\n      <td>5.0</td>\n    </tr>\n    <tr>\n      <th>Bonares</th>\n      <td>304.0</td>\n      <td>11.0</td>\n      <td>16.0</td>\n      <td>6060.0</td>\n      <td>181.518152</td>\n      <td>264.026403</td>\n      <td>5.0</td>\n    </tr>\n    <tr>\n      <th>Almonte</th>\n      <td>1919.0</td>\n      <td>14.0</td>\n      <td>54.0</td>\n      <td>24507.0</td>\n      <td>57.126535</td>\n      <td>220.345207</td>\n      <td>3.0</td>\n    </tr>\n    <tr>\n      <th>Punta Umbría</th>\n      <td>858.0</td>\n      <td>10.0</td>\n      <td>18.0</td>\n      <td>15355.0</td>\n      <td>65.125366</td>\n      <td>117.225659</td>\n      <td>3.0</td>\n    </tr>\n    <tr>\n      <th>Rociana del Condado</th>\n      <td>578.0</td>\n      <td>7.0</td>\n      <td>17.0</td>\n      <td>7939.0</td>\n      <td>88.172314</td>\n      <td>214.132762</td>\n      <td>3.0</td>\n    </tr>\n    <tr>\n      <th>Cerro de Andévalo (El)</th>\n      <td>156.0</td>\n      <td>5.0</td>\n      <td>9.0</td>\n      <td>2327.0</td>\n      <td>214.868930</td>\n      <td>386.764074</td>\n      <td>2.0</td>\n    </tr>\n    <tr>\n      <th>Manzanilla</th>\n      <td>109.0</td>\n      <td>5.0</td>\n      <td>6.0</td>\n      <td>2118.0</td>\n      <td>236.071766</td>\n      <td>283.286119</td>\n      <td>2.0</td>\n    </tr>\n    <tr>\n      <th>Gibraleón</th>\n      <td>655.0</td>\n      <td>6.0</td>\n      <td>14.0</td>\n      <td>12737.0</td>\n      <td>47.106854</td>\n      <td>109.915993</td>\n      <td>2.0</td>\n    </tr>\n    <tr>\n      <th>Palma del Condado (La)</th>\n      <td>1197.0</td>\n      <td>9.0</td>\n      <td>23.0</td>\n      <td>10801.0</td>\n      <td>83.325618</td>\n      <td>212.943246</td>\n      <td>2.0</td>\n    </tr>\n    <tr>\n      <th>Palos de la Frontera</th>\n      <td>731.0</td>\n      <td>24.0</td>\n      <td>33.0</td>\n      <td>11742.0</td>\n      <td>204.394481</td>\n      <td>281.042412</td>\n      <td>2.0</td>\n    </tr>\n    <tr>\n      <th>Paymogo</th>\n      <td>78.0</td>\n      <td>3.0</td>\n      <td>3.0</td>\n      <td>1162.0</td>\n      <td>258.175559</td>\n      <td>258.175559</td>\n      <td>2.0</td>\n    </tr>\n    <tr>\n      <th>Cortegana</th>\n      <td>216.0</td>\n      <td>1.0</td>\n      <td>2.0</td>\n      <td>4602.0</td>\n      <td>21.729683</td>\n      <td>43.459365</td>\n      <td>1.0</td>\n    </tr>\n    <tr>\n      <th>Jabugo</th>\n      <td>67.0</td>\n      <td>2.0</td>\n      <td>2.0</td>\n      <td>2260.0</td>\n      <td>88.495575</td>\n      <td>88.495575</td>\n      <td>1.0</td>\n    </tr>\n    <tr>\n      <th>Valverde del Camino</th>\n      <td>665.0</td>\n      <td>8.0</td>\n      <td>38.0</td>\n      <td>12750.0</td>\n      <td>62.745098</td>\n      <td>298.039216</td>\n      <td>1.0</td>\n    </tr>\n    <tr>\n      <th>Aroche</th>\n      <td>93.0</td>\n      <td>2.0</td>\n      <td>2.0</td>\n      <td>3054.0</td>\n      <td>65.487885</td>\n      <td>65.487885</td>\n      <td>NaN</td>\n    </tr>\n    <tr>\n      <th>Zarza-Perrunal (La)</th>\n      <td>27.0</td>\n      <td>1.0</td>\n      <td>2.0</td>\n      <td>1253.0</td>\n      <td>79.808460</td>\n      <td>159.616919</td>\n      <td>NaN</td>\n    </tr>\n  </tbody>\n</table>\n</div>"
     },
     "metadata": {},
     "execution_count": 15
    }
   ],
   "source": [
    "# Nuevos casos desde la última captura\n",
    "tabla[tabla['Diferencia PDIA'] != 0].sort_values('Diferencia PDIA', ascending=False)"
   ]
  },
  {
   "cell_type": "code",
   "execution_count": 16,
   "metadata": {},
   "outputs": [],
   "source": [
    "if tabla[tabla['Diferencia PDIA'] != 0]['Diferencia PDIA'].sum() != 0:\n",
    "  # Save to csv\n",
    "  tabla.to_csv('covid_huelva.csv', encoding='utf-8', header=True, index=True)  "
   ]
  },
  {
   "cell_type": "code",
   "execution_count": 17,
   "metadata": {},
   "outputs": [
    {
     "output_type": "execute_result",
     "data": {
      "text/plain": [
       "Medida                             Confirmados PDIA  Confirmados PDIA 7 días  \\\n",
       "Lugar de residencia                                                            \n",
       "San Juan del Puerto                           593.0                     24.0   \n",
       "Cerro de Andévalo (El)                        156.0                      5.0   \n",
       "Valverde del Camino                           665.0                      8.0   \n",
       "Moguer                                       1415.0                     34.0   \n",
       "Manzanilla                                    109.0                      5.0   \n",
       "Palos de la Frontera                          731.0                     24.0   \n",
       "Bonares                                       304.0                     11.0   \n",
       "Paymogo                                        78.0                      3.0   \n",
       "Alosno                                        188.0                      9.0   \n",
       "Cartaya                                      1411.0                     30.0   \n",
       "Almendro (El)                                  39.0                      1.0   \n",
       "Almonte                                      1919.0                     14.0   \n",
       "Rociana del Condado                           578.0                      7.0   \n",
       "Palma del Condado (La)                       1197.0                      9.0   \n",
       "Huelva (capital)                             9148.0                    114.0   \n",
       "Condado-Campiña                             10873.0                    147.0   \n",
       "Santa Ana la Real                              11.0                      1.0   \n",
       "Huelva                                      33435.0                    415.0   \n",
       "Huelva-Costa                                19266.0                    242.0   \n",
       "Almonaster la Real                             70.0                      1.0   \n",
       "Zarza-Perrunal (La)                            27.0                      1.0   \n",
       "Bollullos Par del Condado                    1038.0                      7.0   \n",
       "Isla Cristina                                2195.0                     16.0   \n",
       "Ayamonte                                     1358.0                     24.0   \n",
       "Aljaraque                                    1179.0                     18.0   \n",
       "Punta Umbría                                  858.0                     10.0   \n",
       "Lepe                                         2182.0                     16.0   \n",
       "Trigueros                                     334.0                      3.0   \n",
       "Gibraleón                                     655.0                      6.0   \n",
       "Sierra de Huelva-Andévalo Central            2942.0                     25.0   \n",
       "Villablanca                                   192.0                      1.0   \n",
       "Jabugo                                         67.0                      2.0   \n",
       "Aroche                                         93.0                      2.0   \n",
       "Campillo (El)                                  74.0                      1.0   \n",
       "Niebla                                        249.0                      2.0   \n",
       "Aracena                                       541.0                      2.0   \n",
       "Cortegana                                     216.0                      1.0   \n",
       "Villalba del Alcor                            482.0                      1.0   \n",
       "Nerva                                         180.0                      1.0   \n",
       "\n",
       "Medida                             Confirmados PDIA 14 días  Población  \\\n",
       "Lugar de residencia                                                      \n",
       "San Juan del Puerto                                    41.0     9411.0   \n",
       "Cerro de Andévalo (El)                                  9.0     2327.0   \n",
       "Valverde del Camino                                    38.0    12750.0   \n",
       "Moguer                                                 64.0    21867.0   \n",
       "Manzanilla                                              6.0     2118.0   \n",
       "Palos de la Frontera                                   33.0    11742.0   \n",
       "Bonares                                                16.0     6060.0   \n",
       "Paymogo                                                 3.0     1162.0   \n",
       "Alosno                                                 10.0     3933.0   \n",
       "Cartaya                                                48.0    20083.0   \n",
       "Almendro (El)                                           2.0      840.0   \n",
       "Almonte                                                54.0    24507.0   \n",
       "Rociana del Condado                                    17.0     7939.0   \n",
       "Palma del Condado (La)                                 23.0    10801.0   \n",
       "Huelva (capital)                                      303.0   143837.0   \n",
       "Condado-Campiña                                       329.0   156231.0   \n",
       "Santa Ana la Real                                       1.0      475.0   \n",
       "Huelva                                                918.0   513170.0   \n",
       "Huelva-Costa                                          513.0   289548.0   \n",
       "Almonaster la Real                                      3.0     1788.0   \n",
       "Zarza-Perrunal (La)                                     2.0     1253.0   \n",
       "Bollullos Par del Condado                              22.0    14387.0   \n",
       "Isla Cristina                                          30.0    21393.0   \n",
       "Ayamonte                                               27.0    21104.0   \n",
       "Aljaraque                                              27.0    21474.0   \n",
       "Punta Umbría                                           18.0    15355.0   \n",
       "Lepe                                                   32.0    27880.0   \n",
       "Trigueros                                               9.0     7862.0   \n",
       "Gibraleón                                              14.0    12737.0   \n",
       "Sierra de Huelva-Andévalo Central                      73.0    67391.0   \n",
       "Villablanca                                             3.0     2885.0   \n",
       "Jabugo                                                  2.0     2260.0   \n",
       "Aroche                                                  2.0     3054.0   \n",
       "Campillo (El)                                           1.0     2024.0   \n",
       "Niebla                                                  2.0     4116.0   \n",
       "Aracena                                                 4.0     8255.0   \n",
       "Cortegana                                               2.0     4602.0   \n",
       "Villalba del Alcor                                      1.0     3366.0   \n",
       "Nerva                                                   1.0     5169.0   \n",
       "\n",
       "Medida                                  tasa7      tasa14  Diferencia PDIA  \n",
       "Lugar de residencia                                                         \n",
       "San Juan del Puerto                255.020720  435.660397              7.0  \n",
       "Cerro de Andévalo (El)             214.868930  386.764074              2.0  \n",
       "Valverde del Camino                 62.745098  298.039216              1.0  \n",
       "Moguer                             155.485435  292.678465              9.0  \n",
       "Manzanilla                         236.071766  283.286119              2.0  \n",
       "Palos de la Frontera               204.394481  281.042412              2.0  \n",
       "Bonares                            181.518152  264.026403              5.0  \n",
       "Paymogo                            258.175559  258.175559              2.0  \n",
       "Alosno                             228.832952  254.258835              6.0  \n",
       "Cartaya                            149.380073  239.008116              7.0  \n",
       "Almendro (El)                      119.047619  238.095238              0.0  \n",
       "Almonte                             57.126535  220.345207              3.0  \n",
       "Rociana del Condado                 88.172314  214.132762              3.0  \n",
       "Palma del Condado (La)              83.325618  212.943246              2.0  \n",
       "Huelva (capital)                    79.256380  210.655117             46.0  \n",
       "Condado-Campiña                     94.091442  210.585607             40.0  \n",
       "Santa Ana la Real                  210.526316  210.526316              0.0  \n",
       "Huelva                              80.869887  178.888088            153.0  \n",
       "Huelva-Costa                        83.578543  177.172697            104.0  \n",
       "Almonaster la Real                  55.928412  167.785235              0.0  \n",
       "Zarza-Perrunal (La)                 79.808460  159.616919              NaN  \n",
       "Bollullos Par del Condado           48.655036  152.915827              5.0  \n",
       "Isla Cristina                       74.790819  140.232786              8.0  \n",
       "Ayamonte                           113.722517  127.937832             17.0  \n",
       "Aljaraque                           83.822297  125.733445              8.0  \n",
       "Punta Umbría                        65.125366  117.225659              3.0  \n",
       "Lepe                                57.388809  114.777618              7.0  \n",
       "Trigueros                           38.158229  114.474688              0.0  \n",
       "Gibraleón                           47.106854  109.915993              2.0  \n",
       "Sierra de Huelva-Andévalo Central   37.096942  108.323070              8.0  \n",
       "Villablanca                         34.662045  103.986135              0.0  \n",
       "Jabugo                              88.495575   88.495575              1.0  \n",
       "Aroche                              65.487885   65.487885              NaN  \n",
       "Campillo (El)                       49.407115   49.407115              0.0  \n",
       "Niebla                              48.590865   48.590865              0.0  \n",
       "Aracena                             24.227741   48.455482              0.0  \n",
       "Cortegana                           21.729683   43.459365              1.0  \n",
       "Villalba del Alcor                  29.708853   29.708853              0.0  \n",
       "Nerva                               19.346102   19.346102              0.0  "
      ],
      "text/html": "<div>\n<style scoped>\n    .dataframe tbody tr th:only-of-type {\n        vertical-align: middle;\n    }\n\n    .dataframe tbody tr th {\n        vertical-align: top;\n    }\n\n    .dataframe thead th {\n        text-align: right;\n    }\n</style>\n<table border=\"1\" class=\"dataframe\">\n  <thead>\n    <tr style=\"text-align: right;\">\n      <th>Medida</th>\n      <th>Confirmados PDIA</th>\n      <th>Confirmados PDIA 7 días</th>\n      <th>Confirmados PDIA 14 días</th>\n      <th>Población</th>\n      <th>tasa7</th>\n      <th>tasa14</th>\n      <th>Diferencia PDIA</th>\n    </tr>\n    <tr>\n      <th>Lugar de residencia</th>\n      <th></th>\n      <th></th>\n      <th></th>\n      <th></th>\n      <th></th>\n      <th></th>\n      <th></th>\n    </tr>\n  </thead>\n  <tbody>\n    <tr>\n      <th>San Juan del Puerto</th>\n      <td>593.0</td>\n      <td>24.0</td>\n      <td>41.0</td>\n      <td>9411.0</td>\n      <td>255.020720</td>\n      <td>435.660397</td>\n      <td>7.0</td>\n    </tr>\n    <tr>\n      <th>Cerro de Andévalo (El)</th>\n      <td>156.0</td>\n      <td>5.0</td>\n      <td>9.0</td>\n      <td>2327.0</td>\n      <td>214.868930</td>\n      <td>386.764074</td>\n      <td>2.0</td>\n    </tr>\n    <tr>\n      <th>Valverde del Camino</th>\n      <td>665.0</td>\n      <td>8.0</td>\n      <td>38.0</td>\n      <td>12750.0</td>\n      <td>62.745098</td>\n      <td>298.039216</td>\n      <td>1.0</td>\n    </tr>\n    <tr>\n      <th>Moguer</th>\n      <td>1415.0</td>\n      <td>34.0</td>\n      <td>64.0</td>\n      <td>21867.0</td>\n      <td>155.485435</td>\n      <td>292.678465</td>\n      <td>9.0</td>\n    </tr>\n    <tr>\n      <th>Manzanilla</th>\n      <td>109.0</td>\n      <td>5.0</td>\n      <td>6.0</td>\n      <td>2118.0</td>\n      <td>236.071766</td>\n      <td>283.286119</td>\n      <td>2.0</td>\n    </tr>\n    <tr>\n      <th>Palos de la Frontera</th>\n      <td>731.0</td>\n      <td>24.0</td>\n      <td>33.0</td>\n      <td>11742.0</td>\n      <td>204.394481</td>\n      <td>281.042412</td>\n      <td>2.0</td>\n    </tr>\n    <tr>\n      <th>Bonares</th>\n      <td>304.0</td>\n      <td>11.0</td>\n      <td>16.0</td>\n      <td>6060.0</td>\n      <td>181.518152</td>\n      <td>264.026403</td>\n      <td>5.0</td>\n    </tr>\n    <tr>\n      <th>Paymogo</th>\n      <td>78.0</td>\n      <td>3.0</td>\n      <td>3.0</td>\n      <td>1162.0</td>\n      <td>258.175559</td>\n      <td>258.175559</td>\n      <td>2.0</td>\n    </tr>\n    <tr>\n      <th>Alosno</th>\n      <td>188.0</td>\n      <td>9.0</td>\n      <td>10.0</td>\n      <td>3933.0</td>\n      <td>228.832952</td>\n      <td>254.258835</td>\n      <td>6.0</td>\n    </tr>\n    <tr>\n      <th>Cartaya</th>\n      <td>1411.0</td>\n      <td>30.0</td>\n      <td>48.0</td>\n      <td>20083.0</td>\n      <td>149.380073</td>\n      <td>239.008116</td>\n      <td>7.0</td>\n    </tr>\n    <tr>\n      <th>Almendro (El)</th>\n      <td>39.0</td>\n      <td>1.0</td>\n      <td>2.0</td>\n      <td>840.0</td>\n      <td>119.047619</td>\n      <td>238.095238</td>\n      <td>0.0</td>\n    </tr>\n    <tr>\n      <th>Almonte</th>\n      <td>1919.0</td>\n      <td>14.0</td>\n      <td>54.0</td>\n      <td>24507.0</td>\n      <td>57.126535</td>\n      <td>220.345207</td>\n      <td>3.0</td>\n    </tr>\n    <tr>\n      <th>Rociana del Condado</th>\n      <td>578.0</td>\n      <td>7.0</td>\n      <td>17.0</td>\n      <td>7939.0</td>\n      <td>88.172314</td>\n      <td>214.132762</td>\n      <td>3.0</td>\n    </tr>\n    <tr>\n      <th>Palma del Condado (La)</th>\n      <td>1197.0</td>\n      <td>9.0</td>\n      <td>23.0</td>\n      <td>10801.0</td>\n      <td>83.325618</td>\n      <td>212.943246</td>\n      <td>2.0</td>\n    </tr>\n    <tr>\n      <th>Huelva (capital)</th>\n      <td>9148.0</td>\n      <td>114.0</td>\n      <td>303.0</td>\n      <td>143837.0</td>\n      <td>79.256380</td>\n      <td>210.655117</td>\n      <td>46.0</td>\n    </tr>\n    <tr>\n      <th>Condado-Campiña</th>\n      <td>10873.0</td>\n      <td>147.0</td>\n      <td>329.0</td>\n      <td>156231.0</td>\n      <td>94.091442</td>\n      <td>210.585607</td>\n      <td>40.0</td>\n    </tr>\n    <tr>\n      <th>Santa Ana la Real</th>\n      <td>11.0</td>\n      <td>1.0</td>\n      <td>1.0</td>\n      <td>475.0</td>\n      <td>210.526316</td>\n      <td>210.526316</td>\n      <td>0.0</td>\n    </tr>\n    <tr>\n      <th>Huelva</th>\n      <td>33435.0</td>\n      <td>415.0</td>\n      <td>918.0</td>\n      <td>513170.0</td>\n      <td>80.869887</td>\n      <td>178.888088</td>\n      <td>153.0</td>\n    </tr>\n    <tr>\n      <th>Huelva-Costa</th>\n      <td>19266.0</td>\n      <td>242.0</td>\n      <td>513.0</td>\n      <td>289548.0</td>\n      <td>83.578543</td>\n      <td>177.172697</td>\n      <td>104.0</td>\n    </tr>\n    <tr>\n      <th>Almonaster la Real</th>\n      <td>70.0</td>\n      <td>1.0</td>\n      <td>3.0</td>\n      <td>1788.0</td>\n      <td>55.928412</td>\n      <td>167.785235</td>\n      <td>0.0</td>\n    </tr>\n    <tr>\n      <th>Zarza-Perrunal (La)</th>\n      <td>27.0</td>\n      <td>1.0</td>\n      <td>2.0</td>\n      <td>1253.0</td>\n      <td>79.808460</td>\n      <td>159.616919</td>\n      <td>NaN</td>\n    </tr>\n    <tr>\n      <th>Bollullos Par del Condado</th>\n      <td>1038.0</td>\n      <td>7.0</td>\n      <td>22.0</td>\n      <td>14387.0</td>\n      <td>48.655036</td>\n      <td>152.915827</td>\n      <td>5.0</td>\n    </tr>\n    <tr>\n      <th>Isla Cristina</th>\n      <td>2195.0</td>\n      <td>16.0</td>\n      <td>30.0</td>\n      <td>21393.0</td>\n      <td>74.790819</td>\n      <td>140.232786</td>\n      <td>8.0</td>\n    </tr>\n    <tr>\n      <th>Ayamonte</th>\n      <td>1358.0</td>\n      <td>24.0</td>\n      <td>27.0</td>\n      <td>21104.0</td>\n      <td>113.722517</td>\n      <td>127.937832</td>\n      <td>17.0</td>\n    </tr>\n    <tr>\n      <th>Aljaraque</th>\n      <td>1179.0</td>\n      <td>18.0</td>\n      <td>27.0</td>\n      <td>21474.0</td>\n      <td>83.822297</td>\n      <td>125.733445</td>\n      <td>8.0</td>\n    </tr>\n    <tr>\n      <th>Punta Umbría</th>\n      <td>858.0</td>\n      <td>10.0</td>\n      <td>18.0</td>\n      <td>15355.0</td>\n      <td>65.125366</td>\n      <td>117.225659</td>\n      <td>3.0</td>\n    </tr>\n    <tr>\n      <th>Lepe</th>\n      <td>2182.0</td>\n      <td>16.0</td>\n      <td>32.0</td>\n      <td>27880.0</td>\n      <td>57.388809</td>\n      <td>114.777618</td>\n      <td>7.0</td>\n    </tr>\n    <tr>\n      <th>Trigueros</th>\n      <td>334.0</td>\n      <td>3.0</td>\n      <td>9.0</td>\n      <td>7862.0</td>\n      <td>38.158229</td>\n      <td>114.474688</td>\n      <td>0.0</td>\n    </tr>\n    <tr>\n      <th>Gibraleón</th>\n      <td>655.0</td>\n      <td>6.0</td>\n      <td>14.0</td>\n      <td>12737.0</td>\n      <td>47.106854</td>\n      <td>109.915993</td>\n      <td>2.0</td>\n    </tr>\n    <tr>\n      <th>Sierra de Huelva-Andévalo Central</th>\n      <td>2942.0</td>\n      <td>25.0</td>\n      <td>73.0</td>\n      <td>67391.0</td>\n      <td>37.096942</td>\n      <td>108.323070</td>\n      <td>8.0</td>\n    </tr>\n    <tr>\n      <th>Villablanca</th>\n      <td>192.0</td>\n      <td>1.0</td>\n      <td>3.0</td>\n      <td>2885.0</td>\n      <td>34.662045</td>\n      <td>103.986135</td>\n      <td>0.0</td>\n    </tr>\n    <tr>\n      <th>Jabugo</th>\n      <td>67.0</td>\n      <td>2.0</td>\n      <td>2.0</td>\n      <td>2260.0</td>\n      <td>88.495575</td>\n      <td>88.495575</td>\n      <td>1.0</td>\n    </tr>\n    <tr>\n      <th>Aroche</th>\n      <td>93.0</td>\n      <td>2.0</td>\n      <td>2.0</td>\n      <td>3054.0</td>\n      <td>65.487885</td>\n      <td>65.487885</td>\n      <td>NaN</td>\n    </tr>\n    <tr>\n      <th>Campillo (El)</th>\n      <td>74.0</td>\n      <td>1.0</td>\n      <td>1.0</td>\n      <td>2024.0</td>\n      <td>49.407115</td>\n      <td>49.407115</td>\n      <td>0.0</td>\n    </tr>\n    <tr>\n      <th>Niebla</th>\n      <td>249.0</td>\n      <td>2.0</td>\n      <td>2.0</td>\n      <td>4116.0</td>\n      <td>48.590865</td>\n      <td>48.590865</td>\n      <td>0.0</td>\n    </tr>\n    <tr>\n      <th>Aracena</th>\n      <td>541.0</td>\n      <td>2.0</td>\n      <td>4.0</td>\n      <td>8255.0</td>\n      <td>24.227741</td>\n      <td>48.455482</td>\n      <td>0.0</td>\n    </tr>\n    <tr>\n      <th>Cortegana</th>\n      <td>216.0</td>\n      <td>1.0</td>\n      <td>2.0</td>\n      <td>4602.0</td>\n      <td>21.729683</td>\n      <td>43.459365</td>\n      <td>1.0</td>\n    </tr>\n    <tr>\n      <th>Villalba del Alcor</th>\n      <td>482.0</td>\n      <td>1.0</td>\n      <td>1.0</td>\n      <td>3366.0</td>\n      <td>29.708853</td>\n      <td>29.708853</td>\n      <td>0.0</td>\n    </tr>\n    <tr>\n      <th>Nerva</th>\n      <td>180.0</td>\n      <td>1.0</td>\n      <td>1.0</td>\n      <td>5169.0</td>\n      <td>19.346102</td>\n      <td>19.346102</td>\n      <td>0.0</td>\n    </tr>\n  </tbody>\n</table>\n</div>"
     },
     "metadata": {},
     "execution_count": 17
    }
   ],
   "source": [
    "tabla.sort_values('tasa14', ascending=False)"
   ]
  },
  {
   "cell_type": "code",
   "execution_count": 18,
   "metadata": {},
   "outputs": [
    {
     "output_type": "execute_result",
     "data": {
      "text/plain": [
       "Medida                             Confirmados PDIA  Confirmados PDIA 7 días  \\\n",
       "Lugar de residencia                                                            \n",
       "Valverde del Camino                           665.0                      8.0   \n",
       "Almonte                                      1919.0                     14.0   \n",
       "Bollullos Par del Condado                    1038.0                      7.0   \n",
       "Almonaster la Real                             70.0                      1.0   \n",
       "Villablanca                                   192.0                      1.0   \n",
       "Trigueros                                     334.0                      3.0   \n",
       "Sierra de Huelva-Andévalo Central            2942.0                     25.0   \n",
       "Huelva (capital)                             9148.0                    114.0   \n",
       "Palma del Condado (La)                       1197.0                      9.0   \n",
       "Rociana del Condado                           578.0                      7.0   \n",
       "Gibraleón                                     655.0                      6.0   \n",
       "Condado-Campiña                             10873.0                    147.0   \n",
       "Huelva                                      33435.0                    415.0   \n",
       "Huelva-Costa                                19266.0                    242.0   \n",
       "Zarza-Perrunal (La)                            27.0                      1.0   \n",
       "Aracena                                       541.0                      2.0   \n",
       "Almendro (El)                                  39.0                      1.0   \n",
       "Cortegana                                     216.0                      1.0   \n",
       "Lepe                                         2182.0                     16.0   \n",
       "Moguer                                       1415.0                     34.0   \n",
       "Isla Cristina                                2195.0                     16.0   \n",
       "Cerro de Andévalo (El)                        156.0                      5.0   \n",
       "Punta Umbría                                  858.0                     10.0   \n",
       "San Juan del Puerto                           593.0                     24.0   \n",
       "Cartaya                                      1411.0                     30.0   \n",
       "Aljaraque                                    1179.0                     18.0   \n",
       "Bonares                                       304.0                     11.0   \n",
       "Palos de la Frontera                          731.0                     24.0   \n",
       "Manzanilla                                    109.0                      5.0   \n",
       "Ayamonte                                     1358.0                     24.0   \n",
       "Alosno                                        188.0                      9.0   \n",
       "Nerva                                         180.0                      1.0   \n",
       "Paymogo                                        78.0                      3.0   \n",
       "Jabugo                                         67.0                      2.0   \n",
       "Campillo (El)                                  74.0                      1.0   \n",
       "Santa Ana la Real                              11.0                      1.0   \n",
       "Aroche                                         93.0                      2.0   \n",
       "Niebla                                        249.0                      2.0   \n",
       "Villalba del Alcor                            482.0                      1.0   \n",
       "\n",
       "Medida                             Confirmados PDIA 14 días  Población  \\\n",
       "Lugar de residencia                                                      \n",
       "Valverde del Camino                                    38.0    12750.0   \n",
       "Almonte                                                54.0    24507.0   \n",
       "Bollullos Par del Condado                              22.0    14387.0   \n",
       "Almonaster la Real                                      3.0     1788.0   \n",
       "Villablanca                                             3.0     2885.0   \n",
       "Trigueros                                               9.0     7862.0   \n",
       "Sierra de Huelva-Andévalo Central                      73.0    67391.0   \n",
       "Huelva (capital)                                      303.0   143837.0   \n",
       "Palma del Condado (La)                                 23.0    10801.0   \n",
       "Rociana del Condado                                    17.0     7939.0   \n",
       "Gibraleón                                              14.0    12737.0   \n",
       "Condado-Campiña                                       329.0   156231.0   \n",
       "Huelva                                                918.0   513170.0   \n",
       "Huelva-Costa                                          513.0   289548.0   \n",
       "Zarza-Perrunal (La)                                     2.0     1253.0   \n",
       "Aracena                                                 4.0     8255.0   \n",
       "Almendro (El)                                           2.0      840.0   \n",
       "Cortegana                                               2.0     4602.0   \n",
       "Lepe                                                   32.0    27880.0   \n",
       "Moguer                                                 64.0    21867.0   \n",
       "Isla Cristina                                          30.0    21393.0   \n",
       "Cerro de Andévalo (El)                                  9.0     2327.0   \n",
       "Punta Umbría                                           18.0    15355.0   \n",
       "San Juan del Puerto                                    41.0     9411.0   \n",
       "Cartaya                                                48.0    20083.0   \n",
       "Aljaraque                                              27.0    21474.0   \n",
       "Bonares                                                16.0     6060.0   \n",
       "Palos de la Frontera                                   33.0    11742.0   \n",
       "Manzanilla                                              6.0     2118.0   \n",
       "Ayamonte                                               27.0    21104.0   \n",
       "Alosno                                                 10.0     3933.0   \n",
       "Nerva                                                   1.0     5169.0   \n",
       "Paymogo                                                 3.0     1162.0   \n",
       "Jabugo                                                  2.0     2260.0   \n",
       "Campillo (El)                                           1.0     2024.0   \n",
       "Santa Ana la Real                                       1.0      475.0   \n",
       "Aroche                                                  2.0     3054.0   \n",
       "Niebla                                                  2.0     4116.0   \n",
       "Villalba del Alcor                                      1.0     3366.0   \n",
       "\n",
       "Medida                                  tasa7      tasa14  Diferencia PDIA  \\\n",
       "Lugar de residencia                                                          \n",
       "Valverde del Camino                 62.745098  298.039216              1.0   \n",
       "Almonte                             57.126535  220.345207              3.0   \n",
       "Bollullos Par del Condado           48.655036  152.915827              5.0   \n",
       "Almonaster la Real                  55.928412  167.785235              0.0   \n",
       "Villablanca                         34.662045  103.986135              0.0   \n",
       "Trigueros                           38.158229  114.474688              0.0   \n",
       "Sierra de Huelva-Andévalo Central   37.096942  108.323070              8.0   \n",
       "Huelva (capital)                    79.256380  210.655117             46.0   \n",
       "Palma del Condado (La)              83.325618  212.943246              2.0   \n",
       "Rociana del Condado                 88.172314  214.132762              3.0   \n",
       "Gibraleón                           47.106854  109.915993              2.0   \n",
       "Condado-Campiña                     94.091442  210.585607             40.0   \n",
       "Huelva                              80.869887  178.888088            153.0   \n",
       "Huelva-Costa                        83.578543  177.172697            104.0   \n",
       "Zarza-Perrunal (La)                 79.808460  159.616919              0.0   \n",
       "Aracena                             24.227741   48.455482              0.0   \n",
       "Almendro (El)                      119.047619  238.095238              0.0   \n",
       "Cortegana                           21.729683   43.459365              1.0   \n",
       "Lepe                                57.388809  114.777618              7.0   \n",
       "Moguer                             155.485435  292.678465              9.0   \n",
       "Isla Cristina                       74.790819  140.232786              8.0   \n",
       "Cerro de Andévalo (El)             214.868930  386.764074              2.0   \n",
       "Punta Umbría                        65.125366  117.225659              3.0   \n",
       "San Juan del Puerto                255.020720  435.660397              7.0   \n",
       "Cartaya                            149.380073  239.008116              7.0   \n",
       "Aljaraque                           83.822297  125.733445              8.0   \n",
       "Bonares                            181.518152  264.026403              5.0   \n",
       "Palos de la Frontera               204.394481  281.042412              2.0   \n",
       "Manzanilla                         236.071766  283.286119              2.0   \n",
       "Ayamonte                           113.722517  127.937832             17.0   \n",
       "Alosno                             228.832952  254.258835              6.0   \n",
       "Nerva                               19.346102   19.346102              0.0   \n",
       "Paymogo                            258.175559  258.175559              2.0   \n",
       "Jabugo                              88.495575   88.495575              1.0   \n",
       "Campillo (El)                       49.407115   49.407115              0.0   \n",
       "Santa Ana la Real                  210.526316  210.526316              0.0   \n",
       "Aroche                              65.487885   65.487885              0.0   \n",
       "Niebla                              48.590865   48.590865              0.0   \n",
       "Villalba del Alcor                  29.708853   29.708853              0.0   \n",
       "\n",
       "Medida                                 7/14  \n",
       "Lugar de residencia                          \n",
       "Valverde del Camino                0.210526  \n",
       "Almonte                            0.259259  \n",
       "Bollullos Par del Condado          0.318182  \n",
       "Almonaster la Real                 0.333333  \n",
       "Villablanca                        0.333333  \n",
       "Trigueros                          0.333333  \n",
       "Sierra de Huelva-Andévalo Central  0.342466  \n",
       "Huelva (capital)                   0.376238  \n",
       "Palma del Condado (La)             0.391304  \n",
       "Rociana del Condado                0.411765  \n",
       "Gibraleón                          0.428571  \n",
       "Condado-Campiña                    0.446809  \n",
       "Huelva                             0.452070  \n",
       "Huelva-Costa                       0.471735  \n",
       "Zarza-Perrunal (La)                0.500000  \n",
       "Aracena                            0.500000  \n",
       "Almendro (El)                      0.500000  \n",
       "Cortegana                          0.500000  \n",
       "Lepe                               0.500000  \n",
       "Moguer                             0.531250  \n",
       "Isla Cristina                      0.533333  \n",
       "Cerro de Andévalo (El)             0.555556  \n",
       "Punta Umbría                       0.555556  \n",
       "San Juan del Puerto                0.585366  \n",
       "Cartaya                            0.625000  \n",
       "Aljaraque                          0.666667  \n",
       "Bonares                            0.687500  \n",
       "Palos de la Frontera               0.727273  \n",
       "Manzanilla                         0.833333  \n",
       "Ayamonte                           0.888889  \n",
       "Alosno                             0.900000  \n",
       "Nerva                              1.000000  \n",
       "Paymogo                            1.000000  \n",
       "Jabugo                             1.000000  \n",
       "Campillo (El)                      1.000000  \n",
       "Santa Ana la Real                  1.000000  \n",
       "Aroche                             1.000000  \n",
       "Niebla                             1.000000  \n",
       "Villalba del Alcor                 1.000000  "
      ],
      "text/html": "<div>\n<style scoped>\n    .dataframe tbody tr th:only-of-type {\n        vertical-align: middle;\n    }\n\n    .dataframe tbody tr th {\n        vertical-align: top;\n    }\n\n    .dataframe thead th {\n        text-align: right;\n    }\n</style>\n<table border=\"1\" class=\"dataframe\">\n  <thead>\n    <tr style=\"text-align: right;\">\n      <th>Medida</th>\n      <th>Confirmados PDIA</th>\n      <th>Confirmados PDIA 7 días</th>\n      <th>Confirmados PDIA 14 días</th>\n      <th>Población</th>\n      <th>tasa7</th>\n      <th>tasa14</th>\n      <th>Diferencia PDIA</th>\n      <th>7/14</th>\n    </tr>\n    <tr>\n      <th>Lugar de residencia</th>\n      <th></th>\n      <th></th>\n      <th></th>\n      <th></th>\n      <th></th>\n      <th></th>\n      <th></th>\n      <th></th>\n    </tr>\n  </thead>\n  <tbody>\n    <tr>\n      <th>Valverde del Camino</th>\n      <td>665.0</td>\n      <td>8.0</td>\n      <td>38.0</td>\n      <td>12750.0</td>\n      <td>62.745098</td>\n      <td>298.039216</td>\n      <td>1.0</td>\n      <td>0.210526</td>\n    </tr>\n    <tr>\n      <th>Almonte</th>\n      <td>1919.0</td>\n      <td>14.0</td>\n      <td>54.0</td>\n      <td>24507.0</td>\n      <td>57.126535</td>\n      <td>220.345207</td>\n      <td>3.0</td>\n      <td>0.259259</td>\n    </tr>\n    <tr>\n      <th>Bollullos Par del Condado</th>\n      <td>1038.0</td>\n      <td>7.0</td>\n      <td>22.0</td>\n      <td>14387.0</td>\n      <td>48.655036</td>\n      <td>152.915827</td>\n      <td>5.0</td>\n      <td>0.318182</td>\n    </tr>\n    <tr>\n      <th>Almonaster la Real</th>\n      <td>70.0</td>\n      <td>1.0</td>\n      <td>3.0</td>\n      <td>1788.0</td>\n      <td>55.928412</td>\n      <td>167.785235</td>\n      <td>0.0</td>\n      <td>0.333333</td>\n    </tr>\n    <tr>\n      <th>Villablanca</th>\n      <td>192.0</td>\n      <td>1.0</td>\n      <td>3.0</td>\n      <td>2885.0</td>\n      <td>34.662045</td>\n      <td>103.986135</td>\n      <td>0.0</td>\n      <td>0.333333</td>\n    </tr>\n    <tr>\n      <th>Trigueros</th>\n      <td>334.0</td>\n      <td>3.0</td>\n      <td>9.0</td>\n      <td>7862.0</td>\n      <td>38.158229</td>\n      <td>114.474688</td>\n      <td>0.0</td>\n      <td>0.333333</td>\n    </tr>\n    <tr>\n      <th>Sierra de Huelva-Andévalo Central</th>\n      <td>2942.0</td>\n      <td>25.0</td>\n      <td>73.0</td>\n      <td>67391.0</td>\n      <td>37.096942</td>\n      <td>108.323070</td>\n      <td>8.0</td>\n      <td>0.342466</td>\n    </tr>\n    <tr>\n      <th>Huelva (capital)</th>\n      <td>9148.0</td>\n      <td>114.0</td>\n      <td>303.0</td>\n      <td>143837.0</td>\n      <td>79.256380</td>\n      <td>210.655117</td>\n      <td>46.0</td>\n      <td>0.376238</td>\n    </tr>\n    <tr>\n      <th>Palma del Condado (La)</th>\n      <td>1197.0</td>\n      <td>9.0</td>\n      <td>23.0</td>\n      <td>10801.0</td>\n      <td>83.325618</td>\n      <td>212.943246</td>\n      <td>2.0</td>\n      <td>0.391304</td>\n    </tr>\n    <tr>\n      <th>Rociana del Condado</th>\n      <td>578.0</td>\n      <td>7.0</td>\n      <td>17.0</td>\n      <td>7939.0</td>\n      <td>88.172314</td>\n      <td>214.132762</td>\n      <td>3.0</td>\n      <td>0.411765</td>\n    </tr>\n    <tr>\n      <th>Gibraleón</th>\n      <td>655.0</td>\n      <td>6.0</td>\n      <td>14.0</td>\n      <td>12737.0</td>\n      <td>47.106854</td>\n      <td>109.915993</td>\n      <td>2.0</td>\n      <td>0.428571</td>\n    </tr>\n    <tr>\n      <th>Condado-Campiña</th>\n      <td>10873.0</td>\n      <td>147.0</td>\n      <td>329.0</td>\n      <td>156231.0</td>\n      <td>94.091442</td>\n      <td>210.585607</td>\n      <td>40.0</td>\n      <td>0.446809</td>\n    </tr>\n    <tr>\n      <th>Huelva</th>\n      <td>33435.0</td>\n      <td>415.0</td>\n      <td>918.0</td>\n      <td>513170.0</td>\n      <td>80.869887</td>\n      <td>178.888088</td>\n      <td>153.0</td>\n      <td>0.452070</td>\n    </tr>\n    <tr>\n      <th>Huelva-Costa</th>\n      <td>19266.0</td>\n      <td>242.0</td>\n      <td>513.0</td>\n      <td>289548.0</td>\n      <td>83.578543</td>\n      <td>177.172697</td>\n      <td>104.0</td>\n      <td>0.471735</td>\n    </tr>\n    <tr>\n      <th>Zarza-Perrunal (La)</th>\n      <td>27.0</td>\n      <td>1.0</td>\n      <td>2.0</td>\n      <td>1253.0</td>\n      <td>79.808460</td>\n      <td>159.616919</td>\n      <td>0.0</td>\n      <td>0.500000</td>\n    </tr>\n    <tr>\n      <th>Aracena</th>\n      <td>541.0</td>\n      <td>2.0</td>\n      <td>4.0</td>\n      <td>8255.0</td>\n      <td>24.227741</td>\n      <td>48.455482</td>\n      <td>0.0</td>\n      <td>0.500000</td>\n    </tr>\n    <tr>\n      <th>Almendro (El)</th>\n      <td>39.0</td>\n      <td>1.0</td>\n      <td>2.0</td>\n      <td>840.0</td>\n      <td>119.047619</td>\n      <td>238.095238</td>\n      <td>0.0</td>\n      <td>0.500000</td>\n    </tr>\n    <tr>\n      <th>Cortegana</th>\n      <td>216.0</td>\n      <td>1.0</td>\n      <td>2.0</td>\n      <td>4602.0</td>\n      <td>21.729683</td>\n      <td>43.459365</td>\n      <td>1.0</td>\n      <td>0.500000</td>\n    </tr>\n    <tr>\n      <th>Lepe</th>\n      <td>2182.0</td>\n      <td>16.0</td>\n      <td>32.0</td>\n      <td>27880.0</td>\n      <td>57.388809</td>\n      <td>114.777618</td>\n      <td>7.0</td>\n      <td>0.500000</td>\n    </tr>\n    <tr>\n      <th>Moguer</th>\n      <td>1415.0</td>\n      <td>34.0</td>\n      <td>64.0</td>\n      <td>21867.0</td>\n      <td>155.485435</td>\n      <td>292.678465</td>\n      <td>9.0</td>\n      <td>0.531250</td>\n    </tr>\n    <tr>\n      <th>Isla Cristina</th>\n      <td>2195.0</td>\n      <td>16.0</td>\n      <td>30.0</td>\n      <td>21393.0</td>\n      <td>74.790819</td>\n      <td>140.232786</td>\n      <td>8.0</td>\n      <td>0.533333</td>\n    </tr>\n    <tr>\n      <th>Cerro de Andévalo (El)</th>\n      <td>156.0</td>\n      <td>5.0</td>\n      <td>9.0</td>\n      <td>2327.0</td>\n      <td>214.868930</td>\n      <td>386.764074</td>\n      <td>2.0</td>\n      <td>0.555556</td>\n    </tr>\n    <tr>\n      <th>Punta Umbría</th>\n      <td>858.0</td>\n      <td>10.0</td>\n      <td>18.0</td>\n      <td>15355.0</td>\n      <td>65.125366</td>\n      <td>117.225659</td>\n      <td>3.0</td>\n      <td>0.555556</td>\n    </tr>\n    <tr>\n      <th>San Juan del Puerto</th>\n      <td>593.0</td>\n      <td>24.0</td>\n      <td>41.0</td>\n      <td>9411.0</td>\n      <td>255.020720</td>\n      <td>435.660397</td>\n      <td>7.0</td>\n      <td>0.585366</td>\n    </tr>\n    <tr>\n      <th>Cartaya</th>\n      <td>1411.0</td>\n      <td>30.0</td>\n      <td>48.0</td>\n      <td>20083.0</td>\n      <td>149.380073</td>\n      <td>239.008116</td>\n      <td>7.0</td>\n      <td>0.625000</td>\n    </tr>\n    <tr>\n      <th>Aljaraque</th>\n      <td>1179.0</td>\n      <td>18.0</td>\n      <td>27.0</td>\n      <td>21474.0</td>\n      <td>83.822297</td>\n      <td>125.733445</td>\n      <td>8.0</td>\n      <td>0.666667</td>\n    </tr>\n    <tr>\n      <th>Bonares</th>\n      <td>304.0</td>\n      <td>11.0</td>\n      <td>16.0</td>\n      <td>6060.0</td>\n      <td>181.518152</td>\n      <td>264.026403</td>\n      <td>5.0</td>\n      <td>0.687500</td>\n    </tr>\n    <tr>\n      <th>Palos de la Frontera</th>\n      <td>731.0</td>\n      <td>24.0</td>\n      <td>33.0</td>\n      <td>11742.0</td>\n      <td>204.394481</td>\n      <td>281.042412</td>\n      <td>2.0</td>\n      <td>0.727273</td>\n    </tr>\n    <tr>\n      <th>Manzanilla</th>\n      <td>109.0</td>\n      <td>5.0</td>\n      <td>6.0</td>\n      <td>2118.0</td>\n      <td>236.071766</td>\n      <td>283.286119</td>\n      <td>2.0</td>\n      <td>0.833333</td>\n    </tr>\n    <tr>\n      <th>Ayamonte</th>\n      <td>1358.0</td>\n      <td>24.0</td>\n      <td>27.0</td>\n      <td>21104.0</td>\n      <td>113.722517</td>\n      <td>127.937832</td>\n      <td>17.0</td>\n      <td>0.888889</td>\n    </tr>\n    <tr>\n      <th>Alosno</th>\n      <td>188.0</td>\n      <td>9.0</td>\n      <td>10.0</td>\n      <td>3933.0</td>\n      <td>228.832952</td>\n      <td>254.258835</td>\n      <td>6.0</td>\n      <td>0.900000</td>\n    </tr>\n    <tr>\n      <th>Nerva</th>\n      <td>180.0</td>\n      <td>1.0</td>\n      <td>1.0</td>\n      <td>5169.0</td>\n      <td>19.346102</td>\n      <td>19.346102</td>\n      <td>0.0</td>\n      <td>1.000000</td>\n    </tr>\n    <tr>\n      <th>Paymogo</th>\n      <td>78.0</td>\n      <td>3.0</td>\n      <td>3.0</td>\n      <td>1162.0</td>\n      <td>258.175559</td>\n      <td>258.175559</td>\n      <td>2.0</td>\n      <td>1.000000</td>\n    </tr>\n    <tr>\n      <th>Jabugo</th>\n      <td>67.0</td>\n      <td>2.0</td>\n      <td>2.0</td>\n      <td>2260.0</td>\n      <td>88.495575</td>\n      <td>88.495575</td>\n      <td>1.0</td>\n      <td>1.000000</td>\n    </tr>\n    <tr>\n      <th>Campillo (El)</th>\n      <td>74.0</td>\n      <td>1.0</td>\n      <td>1.0</td>\n      <td>2024.0</td>\n      <td>49.407115</td>\n      <td>49.407115</td>\n      <td>0.0</td>\n      <td>1.000000</td>\n    </tr>\n    <tr>\n      <th>Santa Ana la Real</th>\n      <td>11.0</td>\n      <td>1.0</td>\n      <td>1.0</td>\n      <td>475.0</td>\n      <td>210.526316</td>\n      <td>210.526316</td>\n      <td>0.0</td>\n      <td>1.000000</td>\n    </tr>\n    <tr>\n      <th>Aroche</th>\n      <td>93.0</td>\n      <td>2.0</td>\n      <td>2.0</td>\n      <td>3054.0</td>\n      <td>65.487885</td>\n      <td>65.487885</td>\n      <td>0.0</td>\n      <td>1.000000</td>\n    </tr>\n    <tr>\n      <th>Niebla</th>\n      <td>249.0</td>\n      <td>2.0</td>\n      <td>2.0</td>\n      <td>4116.0</td>\n      <td>48.590865</td>\n      <td>48.590865</td>\n      <td>0.0</td>\n      <td>1.000000</td>\n    </tr>\n    <tr>\n      <th>Villalba del Alcor</th>\n      <td>482.0</td>\n      <td>1.0</td>\n      <td>1.0</td>\n      <td>3366.0</td>\n      <td>29.708853</td>\n      <td>29.708853</td>\n      <td>0.0</td>\n      <td>1.000000</td>\n    </tr>\n  </tbody>\n</table>\n</div>"
     },
     "metadata": {},
     "execution_count": 18
    }
   ],
   "source": [
    "# Peso de la tasa de la última semana en relación con la tasa a 14 días \n",
    "# Mejor cuanto menor. Valor 1 significa que no había casos antes de 7 días.\n",
    "tabla['7/14'] = tabla['tasa7'] / tabla['tasa14']\n",
    "tabla.fillna(0).sort_values('7/14', ascending=True)"
   ]
  },
  {
   "cell_type": "code",
   "execution_count": null,
   "metadata": {},
   "outputs": [],
   "source": []
  }
 ]
}