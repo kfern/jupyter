{
 "metadata": {
  "language_info": {
   "codemirror_mode": {
    "name": "ipython",
    "version": 3
   },
   "file_extension": ".py",
   "mimetype": "text/x-python",
   "name": "python",
   "nbconvert_exporter": "python",
   "pygments_lexer": "ipython3",
   "version": "3.6.9-final"
  },
  "orig_nbformat": 2,
  "kernelspec": {
   "name": "python3",
   "display_name": "Python 3.6.9 64-bit",
   "metadata": {
    "interpreter": {
     "hash": "31f2aee4e71d21fbe5cf8b01ff0e069b9275f58929596ceb00d14d90e3e16cd6"
    }
   }
  }
 },
 "nbformat": 4,
 "nbformat_minor": 2,
 "cells": [
  {
   "cell_type": "code",
   "execution_count": 1,
   "metadata": {},
   "outputs": [],
   "source": [
    "import pandas as pd"
   ]
  },
  {
   "cell_type": "code",
   "execution_count": 2,
   "metadata": {},
   "outputs": [],
   "source": [
    "# FIX SSL: CERTIFICATE_VERIFY_FAILED with Python3\n",
    "# https://stackoverflow.com/a/49174340\n",
    "import ssl\n",
    "\n",
    "ssl._create_default_https_context = ssl._create_unverified_context"
   ]
  },
  {
   "cell_type": "code",
   "execution_count": 3,
   "metadata": {},
   "outputs": [],
   "source": [
    "url = 'https://www.juntadeandalucia.es/institutodeestadisticaycartografia/badea/stpivot/stpivot/Print?cube=013d884c-cfc5-4c21-9e78-e26225682afd&type=3&foto=si&ejecutaDesde=&codConsulta=38668&consTipoVisua=JP'\n",
    "fields = ['Lugar de residencia', 'Medida', 'Valor']\n",
    "df = pd.read_csv(url, delimiter=';', usecols=fields, decimal=',')"
   ]
  },
  {
   "cell_type": "code",
   "execution_count": 4,
   "metadata": {},
   "outputs": [
    {
     "output_type": "execute_result",
     "data": {
      "text/plain": [
       "                     Lugar de residencia                    Medida  \\\n",
       "0                                 Huelva                 Población   \n",
       "1                                 Huelva          Confirmados PDIA   \n",
       "2                                 Huelva  Confirmados PDIA 14 días   \n",
       "3                                 Huelva         Tasa PDIA 14 días   \n",
       "4                                 Huelva   Confirmados PDIA 7 días   \n",
       "..                                   ...                       ...   \n",
       "627  Municipio de Huelva sin especificar         Tasa PDIA 14 días   \n",
       "628  Municipio de Huelva sin especificar   Confirmados PDIA 7 días   \n",
       "629  Municipio de Huelva sin especificar        Total Confirmados    \n",
       "630  Municipio de Huelva sin especificar                   Curados   \n",
       "631  Municipio de Huelva sin especificar                Fallecidos   \n",
       "\n",
       "                  Valor  \n",
       "0                510743  \n",
       "1                 11053  \n",
       "2                   830  \n",
       "3    162,50834568462025  \n",
       "4                   377  \n",
       "..                  ...  \n",
       "627                   -  \n",
       "628                   0  \n",
       "629                 124  \n",
       "630                 102  \n",
       "631                   1  \n",
       "\n",
       "[632 rows x 3 columns]"
      ],
      "text/html": "<div>\n<style scoped>\n    .dataframe tbody tr th:only-of-type {\n        vertical-align: middle;\n    }\n\n    .dataframe tbody tr th {\n        vertical-align: top;\n    }\n\n    .dataframe thead th {\n        text-align: right;\n    }\n</style>\n<table border=\"1\" class=\"dataframe\">\n  <thead>\n    <tr style=\"text-align: right;\">\n      <th></th>\n      <th>Lugar de residencia</th>\n      <th>Medida</th>\n      <th>Valor</th>\n    </tr>\n  </thead>\n  <tbody>\n    <tr>\n      <th>0</th>\n      <td>Huelva</td>\n      <td>Población</td>\n      <td>510743</td>\n    </tr>\n    <tr>\n      <th>1</th>\n      <td>Huelva</td>\n      <td>Confirmados PDIA</td>\n      <td>11053</td>\n    </tr>\n    <tr>\n      <th>2</th>\n      <td>Huelva</td>\n      <td>Confirmados PDIA 14 días</td>\n      <td>830</td>\n    </tr>\n    <tr>\n      <th>3</th>\n      <td>Huelva</td>\n      <td>Tasa PDIA 14 días</td>\n      <td>162,50834568462025</td>\n    </tr>\n    <tr>\n      <th>4</th>\n      <td>Huelva</td>\n      <td>Confirmados PDIA 7 días</td>\n      <td>377</td>\n    </tr>\n    <tr>\n      <th>...</th>\n      <td>...</td>\n      <td>...</td>\n      <td>...</td>\n    </tr>\n    <tr>\n      <th>627</th>\n      <td>Municipio de Huelva sin especificar</td>\n      <td>Tasa PDIA 14 días</td>\n      <td>-</td>\n    </tr>\n    <tr>\n      <th>628</th>\n      <td>Municipio de Huelva sin especificar</td>\n      <td>Confirmados PDIA 7 días</td>\n      <td>0</td>\n    </tr>\n    <tr>\n      <th>629</th>\n      <td>Municipio de Huelva sin especificar</td>\n      <td>Total Confirmados</td>\n      <td>124</td>\n    </tr>\n    <tr>\n      <th>630</th>\n      <td>Municipio de Huelva sin especificar</td>\n      <td>Curados</td>\n      <td>102</td>\n    </tr>\n    <tr>\n      <th>631</th>\n      <td>Municipio de Huelva sin especificar</td>\n      <td>Fallecidos</td>\n      <td>1</td>\n    </tr>\n  </tbody>\n</table>\n<p>632 rows × 3 columns</p>\n</div>"
     },
     "metadata": {},
     "execution_count": 4
    }
   ],
   "source": [
    "df"
   ]
  },
  {
   "cell_type": "code",
   "execution_count": 5,
   "metadata": {},
   "outputs": [],
   "source": [
    "df['Valor'] = pd.to_numeric(df['Valor'],errors='coerce')"
   ]
  },
  {
   "cell_type": "code",
   "execution_count": 6,
   "metadata": {},
   "outputs": [],
   "source": [
    "dfAnterior = pd.read_csv('covid_huelva.csv', index_col='Lugar de residencia')"
   ]
  },
  {
   "cell_type": "code",
   "execution_count": 7,
   "metadata": {
    "tags": []
   },
   "outputs": [
    {
     "output_type": "stream",
     "name": "stdout",
     "text": [
      "Confirmados PCR en la provincia de Huelva:  11053.0\n"
     ]
    }
   ],
   "source": [
    "# Confirmados PCR provincia Huelva\n",
    "p = df[df['Lugar de residencia'] == 'Huelva'][df['Medida'] == 'Confirmados PDIA']['Valor'].values[0]\n",
    "print('Confirmados PCR en la provincia de Huelva: ', p)"
   ]
  },
  {
   "cell_type": "code",
   "execution_count": 8,
   "metadata": {
    "tags": []
   },
   "outputs": [
    {
     "output_type": "stream",
     "name": "stdout",
     "text": [
      "Confirmados PCR en Huelva capital:  3123.0\n"
     ]
    }
   ],
   "source": [
    "# Confirmados PCR Huelva capitalpd\n",
    "c = df[df['Lugar de residencia'] == 'Huelva (capital)'][df['Medida'] == 'Confirmados PDIA']['Valor'].values[0]\n",
    "print('Confirmados PCR en Huelva capital: ', c)"
   ]
  },
  {
   "cell_type": "code",
   "execution_count": 9,
   "metadata": {
    "tags": []
   },
   "outputs": [],
   "source": [
    "c7 = df[df['Lugar de residencia'] == 'Huelva (capital)'][df['Medida'] == 'Confirmados PDIA 7 días']['Valor'].values[0]\n",
    "c14 = df[df['Lugar de residencia'] == 'Huelva (capital)'][df['Medida'] == 'Confirmados PDIA 14 días']['Valor'].values[0]\n",
    "p = df[df['Lugar de residencia'] == 'Huelva (capital)'][df['Medida'] == 'Población']['Valor'].values[0]"
   ]
  },
  {
   "cell_type": "code",
   "execution_count": 10,
   "metadata": {
    "tags": []
   },
   "outputs": [
    {
     "output_type": "stream",
     "name": "stdout",
     "text": [
      "Huelva (capital)\n\nUn positivo PCR cada 1228 personas en los últimos 7 días \n\nUn positivo PCR cada 582 personas en los últimos 14 días\n"
     ]
    }
   ],
   "source": [
    "print('Huelva (capital)\\n')\n",
    "#print('Confirmados PCR 7 días x 1,000 habitantes: ', f\"{c7/(p/1000):.5f}\")\n",
    "print('Un positivo PCR cada', f\"{p/c7:.0f}\", 'personas en los últimos 7 días', '\\n')\n",
    "#print('Confirmados PCR 14 días x 1,000 habitantes: ', f\"{c14/(p/1000):.5f}\")\n",
    "print('Un positivo PCR cada', f\"{p/c14:.0f}\", 'personas en los últimos 14 días')"
   ]
  },
  {
   "cell_type": "code",
   "execution_count": 11,
   "metadata": {},
   "outputs": [],
   "source": [
    "filtro = ((df['Medida'] == 'Confirmados PDIA')| (df['Medida'] == 'Confirmados PDIA 7 días') | (df['Medida'] == 'Población' ) | (df['Medida'] == 'Confirmados PDIA 14 días')) & (df['Valor'] > 0)\n",
    "tabla = pd.pivot_table(df.loc[filtro], values='Valor', index='Lugar de residencia', columns='Medida').dropna()"
   ]
  },
  {
   "cell_type": "code",
   "execution_count": 12,
   "metadata": {},
   "outputs": [],
   "source": [
    "# Reorder columns\n",
    "tabla = tabla[['Confirmados PDIA', 'Confirmados PDIA 7 días', 'Confirmados PDIA 14 días', 'Población']]"
   ]
  },
  {
   "cell_type": "code",
   "execution_count": 13,
   "metadata": {},
   "outputs": [],
   "source": [
    "tabla['tasa7'] = tabla['Confirmados PDIA 7 días']/tabla['Población']*100000\n",
    "tabla['tasa14'] = tabla['Confirmados PDIA 14 días']/tabla['Población']*100000"
   ]
  },
  {
   "cell_type": "code",
   "execution_count": 14,
   "metadata": {},
   "outputs": [],
   "source": [
    "tabla['Diferencia PDIA'] = tabla['Confirmados PDIA'] - dfAnterior['Confirmados PDIA']"
   ]
  },
  {
   "cell_type": "code",
   "execution_count": 15,
   "metadata": {},
   "outputs": [
    {
     "output_type": "execute_result",
     "data": {
      "text/plain": [
       "Medida                             Confirmados PDIA  Confirmados PDIA 7 días  \\\n",
       "Lugar de residencia                                                            \n",
       "Huelva                                      11053.0                    377.0   \n",
       "Huelva-Costa                                 6240.0                    262.0   \n",
       "Condado-Campiña                              3404.0                    105.0   \n",
       "Huelva (capital)                             3123.0                    117.0   \n",
       "Palma del Condado (La)                        539.0                     20.0   \n",
       "Cartaya                                       411.0                     40.0   \n",
       "Palos de la Frontera                          249.0                     20.0   \n",
       "Isla Cristina                                 446.0                     41.0   \n",
       "Bonares                                        64.0                     16.0   \n",
       "Moguer                                        378.0                     15.0   \n",
       "Aljaraque                                     438.0                     21.0   \n",
       "Lucena del Puerto                             104.0                     11.0   \n",
       "Lepe                                          965.0                     25.0   \n",
       "Almonte                                       443.0                      6.0   \n",
       "Niebla                                        116.0                      4.0   \n",
       "Sierra de Huelva-Andévalo Central            1286.0                     10.0   \n",
       "Cortegana                                     123.0                      1.0   \n",
       "Bollullos Par del Condado                     250.0                      1.0   \n",
       "Ayamonte                                      335.0                      9.0   \n",
       "Punta Umbría                                  235.0                      3.0   \n",
       "Rociana del Condado                           119.0                      3.0   \n",
       "San Juan del Puerto                           154.0                      1.0   \n",
       "Trigueros                                     133.0                      2.0   \n",
       "Villablanca                                    56.0                      1.0   \n",
       "Villanueva de los Castillejos                  64.0                      4.0   \n",
       "Cerro de Andévalo (El)                         38.0                      1.0   \n",
       "Gibraleón                                     350.0                      1.0   \n",
       "\n",
       "Medida                             Confirmados PDIA 14 días  Población  \\\n",
       "Lugar de residencia                                                      \n",
       "Huelva                                                830.0   510743.0   \n",
       "Huelva-Costa                                          540.0   288115.0   \n",
       "Condado-Campiña                                       264.0   155057.0   \n",
       "Huelva (capital)                                      247.0   143663.0   \n",
       "Palma del Condado (La)                                 64.0    10761.0   \n",
       "Cartaya                                                63.0    19974.0   \n",
       "Palos de la Frontera                                   36.0    11289.0   \n",
       "Isla Cristina                                          71.0    21264.0   \n",
       "Bonares                                                22.0     6058.0   \n",
       "Moguer                                                 41.0    22088.0   \n",
       "Aljaraque                                              54.0    21260.0   \n",
       "Lucena del Puerto                                      22.0     3371.0   \n",
       "Lepe                                                   64.0    27431.0   \n",
       "Almonte                                                10.0    24191.0   \n",
       "Niebla                                                  4.0     4117.0   \n",
       "Sierra de Huelva-Andévalo Central                      24.0    67571.0   \n",
       "Cortegana                                               2.0     4666.0   \n",
       "Bollullos Par del Condado                              17.0    14272.0   \n",
       "Ayamonte                                               18.0    20946.0   \n",
       "Punta Umbría                                            9.0    15242.0   \n",
       "Rociana del Condado                                     5.0     7855.0   \n",
       "San Juan del Puerto                                    16.0     9300.0   \n",
       "Trigueros                                               6.0     7713.0   \n",
       "Villablanca                                             2.0     2848.0   \n",
       "Villanueva de los Castillejos                           6.0     2820.0   \n",
       "Cerro de Andévalo (El)                                  1.0     2364.0   \n",
       "Gibraleón                                               3.0    12607.0   \n",
       "\n",
       "Medida                                  tasa7      tasa14  Diferencia PDIA  \n",
       "Lugar de residencia                                                         \n",
       "Huelva                              73.814032  162.508346            124.0  \n",
       "Huelva-Costa                        90.935911  187.425160             67.0  \n",
       "Condado-Campiña                     67.717033  170.259969             54.0  \n",
       "Huelva (capital)                    81.440594  171.930142             32.0  \n",
       "Palma del Condado (La)             185.856333  594.740266             11.0  \n",
       "Cartaya                            200.260338  315.410033             11.0  \n",
       "Palos de la Frontera               177.163611  318.894499             10.0  \n",
       "Isla Cristina                      192.814146  333.897667             10.0  \n",
       "Bonares                            264.113569  363.156157              8.0  \n",
       "Moguer                              67.910177  185.621152              8.0  \n",
       "Aljaraque                           98.777046  253.998119              6.0  \n",
       "Lucena del Puerto                  326.312667  652.625334              5.0  \n",
       "Lepe                                91.137764  233.312675              4.0  \n",
       "Almonte                             24.802613   41.337688              4.0  \n",
       "Niebla                              97.158125   97.158125              3.0  \n",
       "Sierra de Huelva-Andévalo Central   14.799248   35.518196              2.0  \n",
       "Cortegana                           21.431633   42.863266              1.0  \n",
       "Bollullos Par del Condado            7.006726  119.114350              1.0  \n",
       "Ayamonte                            42.967631   85.935262              1.0  \n",
       "Punta Umbría                        19.682456   59.047369              1.0  \n",
       "Rociana del Condado                 38.192234   63.653724              1.0  \n",
       "San Juan del Puerto                 10.752688  172.043011              1.0  \n",
       "Trigueros                           25.930248   77.790743              1.0  \n",
       "Villablanca                         35.112360   70.224719              1.0  \n",
       "Villanueva de los Castillejos      141.843972  212.765957              1.0  \n",
       "Cerro de Andévalo (El)              42.301184   42.301184              NaN  \n",
       "Gibraleón                            7.932101   23.796304              NaN  "
      ],
      "text/html": "<div>\n<style scoped>\n    .dataframe tbody tr th:only-of-type {\n        vertical-align: middle;\n    }\n\n    .dataframe tbody tr th {\n        vertical-align: top;\n    }\n\n    .dataframe thead th {\n        text-align: right;\n    }\n</style>\n<table border=\"1\" class=\"dataframe\">\n  <thead>\n    <tr style=\"text-align: right;\">\n      <th>Medida</th>\n      <th>Confirmados PDIA</th>\n      <th>Confirmados PDIA 7 días</th>\n      <th>Confirmados PDIA 14 días</th>\n      <th>Población</th>\n      <th>tasa7</th>\n      <th>tasa14</th>\n      <th>Diferencia PDIA</th>\n    </tr>\n    <tr>\n      <th>Lugar de residencia</th>\n      <th></th>\n      <th></th>\n      <th></th>\n      <th></th>\n      <th></th>\n      <th></th>\n      <th></th>\n    </tr>\n  </thead>\n  <tbody>\n    <tr>\n      <th>Huelva</th>\n      <td>11053.0</td>\n      <td>377.0</td>\n      <td>830.0</td>\n      <td>510743.0</td>\n      <td>73.814032</td>\n      <td>162.508346</td>\n      <td>124.0</td>\n    </tr>\n    <tr>\n      <th>Huelva-Costa</th>\n      <td>6240.0</td>\n      <td>262.0</td>\n      <td>540.0</td>\n      <td>288115.0</td>\n      <td>90.935911</td>\n      <td>187.425160</td>\n      <td>67.0</td>\n    </tr>\n    <tr>\n      <th>Condado-Campiña</th>\n      <td>3404.0</td>\n      <td>105.0</td>\n      <td>264.0</td>\n      <td>155057.0</td>\n      <td>67.717033</td>\n      <td>170.259969</td>\n      <td>54.0</td>\n    </tr>\n    <tr>\n      <th>Huelva (capital)</th>\n      <td>3123.0</td>\n      <td>117.0</td>\n      <td>247.0</td>\n      <td>143663.0</td>\n      <td>81.440594</td>\n      <td>171.930142</td>\n      <td>32.0</td>\n    </tr>\n    <tr>\n      <th>Palma del Condado (La)</th>\n      <td>539.0</td>\n      <td>20.0</td>\n      <td>64.0</td>\n      <td>10761.0</td>\n      <td>185.856333</td>\n      <td>594.740266</td>\n      <td>11.0</td>\n    </tr>\n    <tr>\n      <th>Cartaya</th>\n      <td>411.0</td>\n      <td>40.0</td>\n      <td>63.0</td>\n      <td>19974.0</td>\n      <td>200.260338</td>\n      <td>315.410033</td>\n      <td>11.0</td>\n    </tr>\n    <tr>\n      <th>Palos de la Frontera</th>\n      <td>249.0</td>\n      <td>20.0</td>\n      <td>36.0</td>\n      <td>11289.0</td>\n      <td>177.163611</td>\n      <td>318.894499</td>\n      <td>10.0</td>\n    </tr>\n    <tr>\n      <th>Isla Cristina</th>\n      <td>446.0</td>\n      <td>41.0</td>\n      <td>71.0</td>\n      <td>21264.0</td>\n      <td>192.814146</td>\n      <td>333.897667</td>\n      <td>10.0</td>\n    </tr>\n    <tr>\n      <th>Bonares</th>\n      <td>64.0</td>\n      <td>16.0</td>\n      <td>22.0</td>\n      <td>6058.0</td>\n      <td>264.113569</td>\n      <td>363.156157</td>\n      <td>8.0</td>\n    </tr>\n    <tr>\n      <th>Moguer</th>\n      <td>378.0</td>\n      <td>15.0</td>\n      <td>41.0</td>\n      <td>22088.0</td>\n      <td>67.910177</td>\n      <td>185.621152</td>\n      <td>8.0</td>\n    </tr>\n    <tr>\n      <th>Aljaraque</th>\n      <td>438.0</td>\n      <td>21.0</td>\n      <td>54.0</td>\n      <td>21260.0</td>\n      <td>98.777046</td>\n      <td>253.998119</td>\n      <td>6.0</td>\n    </tr>\n    <tr>\n      <th>Lucena del Puerto</th>\n      <td>104.0</td>\n      <td>11.0</td>\n      <td>22.0</td>\n      <td>3371.0</td>\n      <td>326.312667</td>\n      <td>652.625334</td>\n      <td>5.0</td>\n    </tr>\n    <tr>\n      <th>Lepe</th>\n      <td>965.0</td>\n      <td>25.0</td>\n      <td>64.0</td>\n      <td>27431.0</td>\n      <td>91.137764</td>\n      <td>233.312675</td>\n      <td>4.0</td>\n    </tr>\n    <tr>\n      <th>Almonte</th>\n      <td>443.0</td>\n      <td>6.0</td>\n      <td>10.0</td>\n      <td>24191.0</td>\n      <td>24.802613</td>\n      <td>41.337688</td>\n      <td>4.0</td>\n    </tr>\n    <tr>\n      <th>Niebla</th>\n      <td>116.0</td>\n      <td>4.0</td>\n      <td>4.0</td>\n      <td>4117.0</td>\n      <td>97.158125</td>\n      <td>97.158125</td>\n      <td>3.0</td>\n    </tr>\n    <tr>\n      <th>Sierra de Huelva-Andévalo Central</th>\n      <td>1286.0</td>\n      <td>10.0</td>\n      <td>24.0</td>\n      <td>67571.0</td>\n      <td>14.799248</td>\n      <td>35.518196</td>\n      <td>2.0</td>\n    </tr>\n    <tr>\n      <th>Cortegana</th>\n      <td>123.0</td>\n      <td>1.0</td>\n      <td>2.0</td>\n      <td>4666.0</td>\n      <td>21.431633</td>\n      <td>42.863266</td>\n      <td>1.0</td>\n    </tr>\n    <tr>\n      <th>Bollullos Par del Condado</th>\n      <td>250.0</td>\n      <td>1.0</td>\n      <td>17.0</td>\n      <td>14272.0</td>\n      <td>7.006726</td>\n      <td>119.114350</td>\n      <td>1.0</td>\n    </tr>\n    <tr>\n      <th>Ayamonte</th>\n      <td>335.0</td>\n      <td>9.0</td>\n      <td>18.0</td>\n      <td>20946.0</td>\n      <td>42.967631</td>\n      <td>85.935262</td>\n      <td>1.0</td>\n    </tr>\n    <tr>\n      <th>Punta Umbría</th>\n      <td>235.0</td>\n      <td>3.0</td>\n      <td>9.0</td>\n      <td>15242.0</td>\n      <td>19.682456</td>\n      <td>59.047369</td>\n      <td>1.0</td>\n    </tr>\n    <tr>\n      <th>Rociana del Condado</th>\n      <td>119.0</td>\n      <td>3.0</td>\n      <td>5.0</td>\n      <td>7855.0</td>\n      <td>38.192234</td>\n      <td>63.653724</td>\n      <td>1.0</td>\n    </tr>\n    <tr>\n      <th>San Juan del Puerto</th>\n      <td>154.0</td>\n      <td>1.0</td>\n      <td>16.0</td>\n      <td>9300.0</td>\n      <td>10.752688</td>\n      <td>172.043011</td>\n      <td>1.0</td>\n    </tr>\n    <tr>\n      <th>Trigueros</th>\n      <td>133.0</td>\n      <td>2.0</td>\n      <td>6.0</td>\n      <td>7713.0</td>\n      <td>25.930248</td>\n      <td>77.790743</td>\n      <td>1.0</td>\n    </tr>\n    <tr>\n      <th>Villablanca</th>\n      <td>56.0</td>\n      <td>1.0</td>\n      <td>2.0</td>\n      <td>2848.0</td>\n      <td>35.112360</td>\n      <td>70.224719</td>\n      <td>1.0</td>\n    </tr>\n    <tr>\n      <th>Villanueva de los Castillejos</th>\n      <td>64.0</td>\n      <td>4.0</td>\n      <td>6.0</td>\n      <td>2820.0</td>\n      <td>141.843972</td>\n      <td>212.765957</td>\n      <td>1.0</td>\n    </tr>\n    <tr>\n      <th>Cerro de Andévalo (El)</th>\n      <td>38.0</td>\n      <td>1.0</td>\n      <td>1.0</td>\n      <td>2364.0</td>\n      <td>42.301184</td>\n      <td>42.301184</td>\n      <td>NaN</td>\n    </tr>\n    <tr>\n      <th>Gibraleón</th>\n      <td>350.0</td>\n      <td>1.0</td>\n      <td>3.0</td>\n      <td>12607.0</td>\n      <td>7.932101</td>\n      <td>23.796304</td>\n      <td>NaN</td>\n    </tr>\n  </tbody>\n</table>\n</div>"
     },
     "metadata": {},
     "execution_count": 15
    }
   ],
   "source": [
    "# Nuevos casos desde la última captura\n",
    "tabla[tabla['Diferencia PDIA'] != 0].sort_values('Diferencia PDIA', ascending=False)"
   ]
  },
  {
   "cell_type": "code",
   "execution_count": 16,
   "metadata": {},
   "outputs": [],
   "source": [
    "if tabla[tabla['Diferencia PDIA'] != 0]['Diferencia PDIA'].sum() > 0:\n",
    "  # Save to csv\n",
    "  tabla.to_csv('covid_huelva.csv', encoding='utf-8', header=True, index=True)  "
   ]
  },
  {
   "cell_type": "code",
   "execution_count": 17,
   "metadata": {},
   "outputs": [
    {
     "output_type": "execute_result",
     "data": {
      "text/plain": [
       "Medida                             Confirmados PDIA  Confirmados PDIA 7 días  \\\n",
       "Lugar de residencia                                                            \n",
       "Lucena del Puerto                             104.0                     11.0   \n",
       "Palma del Condado (La)                        539.0                     20.0   \n",
       "Jabugo                                         46.0                      6.0   \n",
       "Bonares                                        64.0                     16.0   \n",
       "Isla Cristina                                 446.0                     41.0   \n",
       "Palos de la Frontera                          249.0                     20.0   \n",
       "Cartaya                                       411.0                     40.0   \n",
       "Escacena del Campo                             97.0                      3.0   \n",
       "Aljaraque                                     438.0                     21.0   \n",
       "Lepe                                          965.0                     25.0   \n",
       "Paterna del Campo                              68.0                      2.0   \n",
       "Villanueva de los Castillejos                  64.0                      4.0   \n",
       "Huelva-Costa                                 6240.0                    262.0   \n",
       "Moguer                                        378.0                     15.0   \n",
       "San Juan del Puerto                           154.0                      1.0   \n",
       "Huelva (capital)                             3123.0                    117.0   \n",
       "Condado-Campiña                              3404.0                    105.0   \n",
       "Huelva                                      11053.0                    377.0   \n",
       "Bollullos Par del Condado                     250.0                      1.0   \n",
       "Niebla                                        116.0                      4.0   \n",
       "Ayamonte                                      335.0                      9.0   \n",
       "Trigueros                                     133.0                      2.0   \n",
       "Villablanca                                    56.0                      1.0   \n",
       "Puebla de Guzmán                               25.0                      1.0   \n",
       "Rociana del Condado                           119.0                      3.0   \n",
       "Punta Umbría                                  235.0                      3.0   \n",
       "Cortegana                                     123.0                      1.0   \n",
       "Cerro de Andévalo (El)                         38.0                      1.0   \n",
       "Almonte                                       443.0                      6.0   \n",
       "Sierra de Huelva-Andévalo Central            1286.0                     10.0   \n",
       "Aracena                                       287.0                      2.0   \n",
       "Gibraleón                                     350.0                      1.0   \n",
       "\n",
       "Medida                             Confirmados PDIA 14 días  Población  \\\n",
       "Lugar de residencia                                                      \n",
       "Lucena del Puerto                                      22.0     3371.0   \n",
       "Palma del Condado (La)                                 64.0    10761.0   \n",
       "Jabugo                                                 11.0     2250.0   \n",
       "Bonares                                                22.0     6058.0   \n",
       "Isla Cristina                                          71.0    21264.0   \n",
       "Palos de la Frontera                                   36.0    11289.0   \n",
       "Cartaya                                                63.0    19974.0   \n",
       "Escacena del Campo                                      6.0     2284.0   \n",
       "Aljaraque                                              54.0    21260.0   \n",
       "Lepe                                                   64.0    27431.0   \n",
       "Paterna del Campo                                       8.0     3509.0   \n",
       "Villanueva de los Castillejos                           6.0     2820.0   \n",
       "Huelva-Costa                                          540.0   288115.0   \n",
       "Moguer                                                 41.0    22088.0   \n",
       "San Juan del Puerto                                    16.0     9300.0   \n",
       "Huelva (capital)                                      247.0   143663.0   \n",
       "Condado-Campiña                                       264.0   155057.0   \n",
       "Huelva                                                830.0   510743.0   \n",
       "Bollullos Par del Condado                              17.0    14272.0   \n",
       "Niebla                                                  4.0     4117.0   \n",
       "Ayamonte                                               18.0    20946.0   \n",
       "Trigueros                                               6.0     7713.0   \n",
       "Villablanca                                             2.0     2848.0   \n",
       "Puebla de Guzmán                                        2.0     3073.0   \n",
       "Rociana del Condado                                     5.0     7855.0   \n",
       "Punta Umbría                                            9.0    15242.0   \n",
       "Cortegana                                               2.0     4666.0   \n",
       "Cerro de Andévalo (El)                                  1.0     2364.0   \n",
       "Almonte                                                10.0    24191.0   \n",
       "Sierra de Huelva-Andévalo Central                      24.0    67571.0   \n",
       "Aracena                                                 2.0     8107.0   \n",
       "Gibraleón                                               3.0    12607.0   \n",
       "\n",
       "Medida                                  tasa7      tasa14  Diferencia PDIA  \n",
       "Lugar de residencia                                                         \n",
       "Lucena del Puerto                  326.312667  652.625334              5.0  \n",
       "Palma del Condado (La)             185.856333  594.740266             11.0  \n",
       "Jabugo                             266.666667  488.888889              0.0  \n",
       "Bonares                            264.113569  363.156157              8.0  \n",
       "Isla Cristina                      192.814146  333.897667             10.0  \n",
       "Palos de la Frontera               177.163611  318.894499             10.0  \n",
       "Cartaya                            200.260338  315.410033             11.0  \n",
       "Escacena del Campo                 131.348511  262.697023              0.0  \n",
       "Aljaraque                           98.777046  253.998119              6.0  \n",
       "Lepe                                91.137764  233.312675              4.0  \n",
       "Paterna del Campo                   56.996295  227.985181              0.0  \n",
       "Villanueva de los Castillejos      141.843972  212.765957              1.0  \n",
       "Huelva-Costa                        90.935911  187.425160             67.0  \n",
       "Moguer                              67.910177  185.621152              8.0  \n",
       "San Juan del Puerto                 10.752688  172.043011              1.0  \n",
       "Huelva (capital)                    81.440594  171.930142             32.0  \n",
       "Condado-Campiña                     67.717033  170.259969             54.0  \n",
       "Huelva                              73.814032  162.508346            124.0  \n",
       "Bollullos Par del Condado            7.006726  119.114350              1.0  \n",
       "Niebla                              97.158125   97.158125              3.0  \n",
       "Ayamonte                            42.967631   85.935262              1.0  \n",
       "Trigueros                           25.930248   77.790743              1.0  \n",
       "Villablanca                         35.112360   70.224719              1.0  \n",
       "Puebla de Guzmán                    32.541490   65.082981              0.0  \n",
       "Rociana del Condado                 38.192234   63.653724              1.0  \n",
       "Punta Umbría                        19.682456   59.047369              1.0  \n",
       "Cortegana                           21.431633   42.863266              1.0  \n",
       "Cerro de Andévalo (El)              42.301184   42.301184              NaN  \n",
       "Almonte                             24.802613   41.337688              4.0  \n",
       "Sierra de Huelva-Andévalo Central   14.799248   35.518196              2.0  \n",
       "Aracena                             24.670038   24.670038              0.0  \n",
       "Gibraleón                            7.932101   23.796304              NaN  "
      ],
      "text/html": "<div>\n<style scoped>\n    .dataframe tbody tr th:only-of-type {\n        vertical-align: middle;\n    }\n\n    .dataframe tbody tr th {\n        vertical-align: top;\n    }\n\n    .dataframe thead th {\n        text-align: right;\n    }\n</style>\n<table border=\"1\" class=\"dataframe\">\n  <thead>\n    <tr style=\"text-align: right;\">\n      <th>Medida</th>\n      <th>Confirmados PDIA</th>\n      <th>Confirmados PDIA 7 días</th>\n      <th>Confirmados PDIA 14 días</th>\n      <th>Población</th>\n      <th>tasa7</th>\n      <th>tasa14</th>\n      <th>Diferencia PDIA</th>\n    </tr>\n    <tr>\n      <th>Lugar de residencia</th>\n      <th></th>\n      <th></th>\n      <th></th>\n      <th></th>\n      <th></th>\n      <th></th>\n      <th></th>\n    </tr>\n  </thead>\n  <tbody>\n    <tr>\n      <th>Lucena del Puerto</th>\n      <td>104.0</td>\n      <td>11.0</td>\n      <td>22.0</td>\n      <td>3371.0</td>\n      <td>326.312667</td>\n      <td>652.625334</td>\n      <td>5.0</td>\n    </tr>\n    <tr>\n      <th>Palma del Condado (La)</th>\n      <td>539.0</td>\n      <td>20.0</td>\n      <td>64.0</td>\n      <td>10761.0</td>\n      <td>185.856333</td>\n      <td>594.740266</td>\n      <td>11.0</td>\n    </tr>\n    <tr>\n      <th>Jabugo</th>\n      <td>46.0</td>\n      <td>6.0</td>\n      <td>11.0</td>\n      <td>2250.0</td>\n      <td>266.666667</td>\n      <td>488.888889</td>\n      <td>0.0</td>\n    </tr>\n    <tr>\n      <th>Bonares</th>\n      <td>64.0</td>\n      <td>16.0</td>\n      <td>22.0</td>\n      <td>6058.0</td>\n      <td>264.113569</td>\n      <td>363.156157</td>\n      <td>8.0</td>\n    </tr>\n    <tr>\n      <th>Isla Cristina</th>\n      <td>446.0</td>\n      <td>41.0</td>\n      <td>71.0</td>\n      <td>21264.0</td>\n      <td>192.814146</td>\n      <td>333.897667</td>\n      <td>10.0</td>\n    </tr>\n    <tr>\n      <th>Palos de la Frontera</th>\n      <td>249.0</td>\n      <td>20.0</td>\n      <td>36.0</td>\n      <td>11289.0</td>\n      <td>177.163611</td>\n      <td>318.894499</td>\n      <td>10.0</td>\n    </tr>\n    <tr>\n      <th>Cartaya</th>\n      <td>411.0</td>\n      <td>40.0</td>\n      <td>63.0</td>\n      <td>19974.0</td>\n      <td>200.260338</td>\n      <td>315.410033</td>\n      <td>11.0</td>\n    </tr>\n    <tr>\n      <th>Escacena del Campo</th>\n      <td>97.0</td>\n      <td>3.0</td>\n      <td>6.0</td>\n      <td>2284.0</td>\n      <td>131.348511</td>\n      <td>262.697023</td>\n      <td>0.0</td>\n    </tr>\n    <tr>\n      <th>Aljaraque</th>\n      <td>438.0</td>\n      <td>21.0</td>\n      <td>54.0</td>\n      <td>21260.0</td>\n      <td>98.777046</td>\n      <td>253.998119</td>\n      <td>6.0</td>\n    </tr>\n    <tr>\n      <th>Lepe</th>\n      <td>965.0</td>\n      <td>25.0</td>\n      <td>64.0</td>\n      <td>27431.0</td>\n      <td>91.137764</td>\n      <td>233.312675</td>\n      <td>4.0</td>\n    </tr>\n    <tr>\n      <th>Paterna del Campo</th>\n      <td>68.0</td>\n      <td>2.0</td>\n      <td>8.0</td>\n      <td>3509.0</td>\n      <td>56.996295</td>\n      <td>227.985181</td>\n      <td>0.0</td>\n    </tr>\n    <tr>\n      <th>Villanueva de los Castillejos</th>\n      <td>64.0</td>\n      <td>4.0</td>\n      <td>6.0</td>\n      <td>2820.0</td>\n      <td>141.843972</td>\n      <td>212.765957</td>\n      <td>1.0</td>\n    </tr>\n    <tr>\n      <th>Huelva-Costa</th>\n      <td>6240.0</td>\n      <td>262.0</td>\n      <td>540.0</td>\n      <td>288115.0</td>\n      <td>90.935911</td>\n      <td>187.425160</td>\n      <td>67.0</td>\n    </tr>\n    <tr>\n      <th>Moguer</th>\n      <td>378.0</td>\n      <td>15.0</td>\n      <td>41.0</td>\n      <td>22088.0</td>\n      <td>67.910177</td>\n      <td>185.621152</td>\n      <td>8.0</td>\n    </tr>\n    <tr>\n      <th>San Juan del Puerto</th>\n      <td>154.0</td>\n      <td>1.0</td>\n      <td>16.0</td>\n      <td>9300.0</td>\n      <td>10.752688</td>\n      <td>172.043011</td>\n      <td>1.0</td>\n    </tr>\n    <tr>\n      <th>Huelva (capital)</th>\n      <td>3123.0</td>\n      <td>117.0</td>\n      <td>247.0</td>\n      <td>143663.0</td>\n      <td>81.440594</td>\n      <td>171.930142</td>\n      <td>32.0</td>\n    </tr>\n    <tr>\n      <th>Condado-Campiña</th>\n      <td>3404.0</td>\n      <td>105.0</td>\n      <td>264.0</td>\n      <td>155057.0</td>\n      <td>67.717033</td>\n      <td>170.259969</td>\n      <td>54.0</td>\n    </tr>\n    <tr>\n      <th>Huelva</th>\n      <td>11053.0</td>\n      <td>377.0</td>\n      <td>830.0</td>\n      <td>510743.0</td>\n      <td>73.814032</td>\n      <td>162.508346</td>\n      <td>124.0</td>\n    </tr>\n    <tr>\n      <th>Bollullos Par del Condado</th>\n      <td>250.0</td>\n      <td>1.0</td>\n      <td>17.0</td>\n      <td>14272.0</td>\n      <td>7.006726</td>\n      <td>119.114350</td>\n      <td>1.0</td>\n    </tr>\n    <tr>\n      <th>Niebla</th>\n      <td>116.0</td>\n      <td>4.0</td>\n      <td>4.0</td>\n      <td>4117.0</td>\n      <td>97.158125</td>\n      <td>97.158125</td>\n      <td>3.0</td>\n    </tr>\n    <tr>\n      <th>Ayamonte</th>\n      <td>335.0</td>\n      <td>9.0</td>\n      <td>18.0</td>\n      <td>20946.0</td>\n      <td>42.967631</td>\n      <td>85.935262</td>\n      <td>1.0</td>\n    </tr>\n    <tr>\n      <th>Trigueros</th>\n      <td>133.0</td>\n      <td>2.0</td>\n      <td>6.0</td>\n      <td>7713.0</td>\n      <td>25.930248</td>\n      <td>77.790743</td>\n      <td>1.0</td>\n    </tr>\n    <tr>\n      <th>Villablanca</th>\n      <td>56.0</td>\n      <td>1.0</td>\n      <td>2.0</td>\n      <td>2848.0</td>\n      <td>35.112360</td>\n      <td>70.224719</td>\n      <td>1.0</td>\n    </tr>\n    <tr>\n      <th>Puebla de Guzmán</th>\n      <td>25.0</td>\n      <td>1.0</td>\n      <td>2.0</td>\n      <td>3073.0</td>\n      <td>32.541490</td>\n      <td>65.082981</td>\n      <td>0.0</td>\n    </tr>\n    <tr>\n      <th>Rociana del Condado</th>\n      <td>119.0</td>\n      <td>3.0</td>\n      <td>5.0</td>\n      <td>7855.0</td>\n      <td>38.192234</td>\n      <td>63.653724</td>\n      <td>1.0</td>\n    </tr>\n    <tr>\n      <th>Punta Umbría</th>\n      <td>235.0</td>\n      <td>3.0</td>\n      <td>9.0</td>\n      <td>15242.0</td>\n      <td>19.682456</td>\n      <td>59.047369</td>\n      <td>1.0</td>\n    </tr>\n    <tr>\n      <th>Cortegana</th>\n      <td>123.0</td>\n      <td>1.0</td>\n      <td>2.0</td>\n      <td>4666.0</td>\n      <td>21.431633</td>\n      <td>42.863266</td>\n      <td>1.0</td>\n    </tr>\n    <tr>\n      <th>Cerro de Andévalo (El)</th>\n      <td>38.0</td>\n      <td>1.0</td>\n      <td>1.0</td>\n      <td>2364.0</td>\n      <td>42.301184</td>\n      <td>42.301184</td>\n      <td>NaN</td>\n    </tr>\n    <tr>\n      <th>Almonte</th>\n      <td>443.0</td>\n      <td>6.0</td>\n      <td>10.0</td>\n      <td>24191.0</td>\n      <td>24.802613</td>\n      <td>41.337688</td>\n      <td>4.0</td>\n    </tr>\n    <tr>\n      <th>Sierra de Huelva-Andévalo Central</th>\n      <td>1286.0</td>\n      <td>10.0</td>\n      <td>24.0</td>\n      <td>67571.0</td>\n      <td>14.799248</td>\n      <td>35.518196</td>\n      <td>2.0</td>\n    </tr>\n    <tr>\n      <th>Aracena</th>\n      <td>287.0</td>\n      <td>2.0</td>\n      <td>2.0</td>\n      <td>8107.0</td>\n      <td>24.670038</td>\n      <td>24.670038</td>\n      <td>0.0</td>\n    </tr>\n    <tr>\n      <th>Gibraleón</th>\n      <td>350.0</td>\n      <td>1.0</td>\n      <td>3.0</td>\n      <td>12607.0</td>\n      <td>7.932101</td>\n      <td>23.796304</td>\n      <td>NaN</td>\n    </tr>\n  </tbody>\n</table>\n</div>"
     },
     "metadata": {},
     "execution_count": 17
    }
   ],
   "source": [
    "tabla.sort_values('tasa14', ascending=False)"
   ]
  },
  {
   "cell_type": "code",
   "execution_count": 18,
   "metadata": {},
   "outputs": [
    {
     "output_type": "execute_result",
     "data": {
      "text/plain": [
       "Medida                             Confirmados PDIA  Confirmados PDIA 7 días  \\\n",
       "Lugar de residencia                                                            \n",
       "Bollullos Par del Condado                     250.0                      1.0   \n",
       "San Juan del Puerto                           154.0                      1.0   \n",
       "Paterna del Campo                              68.0                      2.0   \n",
       "Palma del Condado (La)                        539.0                     20.0   \n",
       "Trigueros                                     133.0                      2.0   \n",
       "Punta Umbría                                  235.0                      3.0   \n",
       "Gibraleón                                     350.0                      1.0   \n",
       "Moguer                                        378.0                     15.0   \n",
       "Aljaraque                                     438.0                     21.0   \n",
       "Lepe                                          965.0                     25.0   \n",
       "Condado-Campiña                              3404.0                    105.0   \n",
       "Sierra de Huelva-Andévalo Central            1286.0                     10.0   \n",
       "Huelva                                      11053.0                    377.0   \n",
       "Huelva (capital)                             3123.0                    117.0   \n",
       "Huelva-Costa                                 6240.0                    262.0   \n",
       "Cortegana                                     123.0                      1.0   \n",
       "Escacena del Campo                             97.0                      3.0   \n",
       "Puebla de Guzmán                               25.0                      1.0   \n",
       "Villablanca                                    56.0                      1.0   \n",
       "Lucena del Puerto                             104.0                     11.0   \n",
       "Ayamonte                                      335.0                      9.0   \n",
       "Jabugo                                         46.0                      6.0   \n",
       "Palos de la Frontera                          249.0                     20.0   \n",
       "Isla Cristina                                 446.0                     41.0   \n",
       "Almonte                                       443.0                      6.0   \n",
       "Rociana del Condado                           119.0                      3.0   \n",
       "Cartaya                                       411.0                     40.0   \n",
       "Villanueva de los Castillejos                  64.0                      4.0   \n",
       "Bonares                                        64.0                     16.0   \n",
       "Cerro de Andévalo (El)                         38.0                      1.0   \n",
       "Aracena                                       287.0                      2.0   \n",
       "Niebla                                        116.0                      4.0   \n",
       "\n",
       "Medida                             Confirmados PDIA 14 días  Población  \\\n",
       "Lugar de residencia                                                      \n",
       "Bollullos Par del Condado                              17.0    14272.0   \n",
       "San Juan del Puerto                                    16.0     9300.0   \n",
       "Paterna del Campo                                       8.0     3509.0   \n",
       "Palma del Condado (La)                                 64.0    10761.0   \n",
       "Trigueros                                               6.0     7713.0   \n",
       "Punta Umbría                                            9.0    15242.0   \n",
       "Gibraleón                                               3.0    12607.0   \n",
       "Moguer                                                 41.0    22088.0   \n",
       "Aljaraque                                              54.0    21260.0   \n",
       "Lepe                                                   64.0    27431.0   \n",
       "Condado-Campiña                                       264.0   155057.0   \n",
       "Sierra de Huelva-Andévalo Central                      24.0    67571.0   \n",
       "Huelva                                                830.0   510743.0   \n",
       "Huelva (capital)                                      247.0   143663.0   \n",
       "Huelva-Costa                                          540.0   288115.0   \n",
       "Cortegana                                               2.0     4666.0   \n",
       "Escacena del Campo                                      6.0     2284.0   \n",
       "Puebla de Guzmán                                        2.0     3073.0   \n",
       "Villablanca                                             2.0     2848.0   \n",
       "Lucena del Puerto                                      22.0     3371.0   \n",
       "Ayamonte                                               18.0    20946.0   \n",
       "Jabugo                                                 11.0     2250.0   \n",
       "Palos de la Frontera                                   36.0    11289.0   \n",
       "Isla Cristina                                          71.0    21264.0   \n",
       "Almonte                                                10.0    24191.0   \n",
       "Rociana del Condado                                     5.0     7855.0   \n",
       "Cartaya                                                63.0    19974.0   \n",
       "Villanueva de los Castillejos                           6.0     2820.0   \n",
       "Bonares                                                22.0     6058.0   \n",
       "Cerro de Andévalo (El)                                  1.0     2364.0   \n",
       "Aracena                                                 2.0     8107.0   \n",
       "Niebla                                                  4.0     4117.0   \n",
       "\n",
       "Medida                                  tasa7      tasa14  Diferencia PDIA  \\\n",
       "Lugar de residencia                                                          \n",
       "Bollullos Par del Condado            7.006726  119.114350              1.0   \n",
       "San Juan del Puerto                 10.752688  172.043011              1.0   \n",
       "Paterna del Campo                   56.996295  227.985181              0.0   \n",
       "Palma del Condado (La)             185.856333  594.740266             11.0   \n",
       "Trigueros                           25.930248   77.790743              1.0   \n",
       "Punta Umbría                        19.682456   59.047369              1.0   \n",
       "Gibraleón                            7.932101   23.796304              0.0   \n",
       "Moguer                              67.910177  185.621152              8.0   \n",
       "Aljaraque                           98.777046  253.998119              6.0   \n",
       "Lepe                                91.137764  233.312675              4.0   \n",
       "Condado-Campiña                     67.717033  170.259969             54.0   \n",
       "Sierra de Huelva-Andévalo Central   14.799248   35.518196              2.0   \n",
       "Huelva                              73.814032  162.508346            124.0   \n",
       "Huelva (capital)                    81.440594  171.930142             32.0   \n",
       "Huelva-Costa                        90.935911  187.425160             67.0   \n",
       "Cortegana                           21.431633   42.863266              1.0   \n",
       "Escacena del Campo                 131.348511  262.697023              0.0   \n",
       "Puebla de Guzmán                    32.541490   65.082981              0.0   \n",
       "Villablanca                         35.112360   70.224719              1.0   \n",
       "Lucena del Puerto                  326.312667  652.625334              5.0   \n",
       "Ayamonte                            42.967631   85.935262              1.0   \n",
       "Jabugo                             266.666667  488.888889              0.0   \n",
       "Palos de la Frontera               177.163611  318.894499             10.0   \n",
       "Isla Cristina                      192.814146  333.897667             10.0   \n",
       "Almonte                             24.802613   41.337688              4.0   \n",
       "Rociana del Condado                 38.192234   63.653724              1.0   \n",
       "Cartaya                            200.260338  315.410033             11.0   \n",
       "Villanueva de los Castillejos      141.843972  212.765957              1.0   \n",
       "Bonares                            264.113569  363.156157              8.0   \n",
       "Cerro de Andévalo (El)              42.301184   42.301184              0.0   \n",
       "Aracena                             24.670038   24.670038              0.0   \n",
       "Niebla                              97.158125   97.158125              3.0   \n",
       "\n",
       "Medida                                 7/14  \n",
       "Lugar de residencia                          \n",
       "Bollullos Par del Condado          0.058824  \n",
       "San Juan del Puerto                0.062500  \n",
       "Paterna del Campo                  0.250000  \n",
       "Palma del Condado (La)             0.312500  \n",
       "Trigueros                          0.333333  \n",
       "Punta Umbría                       0.333333  \n",
       "Gibraleón                          0.333333  \n",
       "Moguer                             0.365854  \n",
       "Aljaraque                          0.388889  \n",
       "Lepe                               0.390625  \n",
       "Condado-Campiña                    0.397727  \n",
       "Sierra de Huelva-Andévalo Central  0.416667  \n",
       "Huelva                             0.454217  \n",
       "Huelva (capital)                   0.473684  \n",
       "Huelva-Costa                       0.485185  \n",
       "Cortegana                          0.500000  \n",
       "Escacena del Campo                 0.500000  \n",
       "Puebla de Guzmán                   0.500000  \n",
       "Villablanca                        0.500000  \n",
       "Lucena del Puerto                  0.500000  \n",
       "Ayamonte                           0.500000  \n",
       "Jabugo                             0.545455  \n",
       "Palos de la Frontera               0.555556  \n",
       "Isla Cristina                      0.577465  \n",
       "Almonte                            0.600000  \n",
       "Rociana del Condado                0.600000  \n",
       "Cartaya                            0.634921  \n",
       "Villanueva de los Castillejos      0.666667  \n",
       "Bonares                            0.727273  \n",
       "Cerro de Andévalo (El)             1.000000  \n",
       "Aracena                            1.000000  \n",
       "Niebla                             1.000000  "
      ],
      "text/html": "<div>\n<style scoped>\n    .dataframe tbody tr th:only-of-type {\n        vertical-align: middle;\n    }\n\n    .dataframe tbody tr th {\n        vertical-align: top;\n    }\n\n    .dataframe thead th {\n        text-align: right;\n    }\n</style>\n<table border=\"1\" class=\"dataframe\">\n  <thead>\n    <tr style=\"text-align: right;\">\n      <th>Medida</th>\n      <th>Confirmados PDIA</th>\n      <th>Confirmados PDIA 7 días</th>\n      <th>Confirmados PDIA 14 días</th>\n      <th>Población</th>\n      <th>tasa7</th>\n      <th>tasa14</th>\n      <th>Diferencia PDIA</th>\n      <th>7/14</th>\n    </tr>\n    <tr>\n      <th>Lugar de residencia</th>\n      <th></th>\n      <th></th>\n      <th></th>\n      <th></th>\n      <th></th>\n      <th></th>\n      <th></th>\n      <th></th>\n    </tr>\n  </thead>\n  <tbody>\n    <tr>\n      <th>Bollullos Par del Condado</th>\n      <td>250.0</td>\n      <td>1.0</td>\n      <td>17.0</td>\n      <td>14272.0</td>\n      <td>7.006726</td>\n      <td>119.114350</td>\n      <td>1.0</td>\n      <td>0.058824</td>\n    </tr>\n    <tr>\n      <th>San Juan del Puerto</th>\n      <td>154.0</td>\n      <td>1.0</td>\n      <td>16.0</td>\n      <td>9300.0</td>\n      <td>10.752688</td>\n      <td>172.043011</td>\n      <td>1.0</td>\n      <td>0.062500</td>\n    </tr>\n    <tr>\n      <th>Paterna del Campo</th>\n      <td>68.0</td>\n      <td>2.0</td>\n      <td>8.0</td>\n      <td>3509.0</td>\n      <td>56.996295</td>\n      <td>227.985181</td>\n      <td>0.0</td>\n      <td>0.250000</td>\n    </tr>\n    <tr>\n      <th>Palma del Condado (La)</th>\n      <td>539.0</td>\n      <td>20.0</td>\n      <td>64.0</td>\n      <td>10761.0</td>\n      <td>185.856333</td>\n      <td>594.740266</td>\n      <td>11.0</td>\n      <td>0.312500</td>\n    </tr>\n    <tr>\n      <th>Trigueros</th>\n      <td>133.0</td>\n      <td>2.0</td>\n      <td>6.0</td>\n      <td>7713.0</td>\n      <td>25.930248</td>\n      <td>77.790743</td>\n      <td>1.0</td>\n      <td>0.333333</td>\n    </tr>\n    <tr>\n      <th>Punta Umbría</th>\n      <td>235.0</td>\n      <td>3.0</td>\n      <td>9.0</td>\n      <td>15242.0</td>\n      <td>19.682456</td>\n      <td>59.047369</td>\n      <td>1.0</td>\n      <td>0.333333</td>\n    </tr>\n    <tr>\n      <th>Gibraleón</th>\n      <td>350.0</td>\n      <td>1.0</td>\n      <td>3.0</td>\n      <td>12607.0</td>\n      <td>7.932101</td>\n      <td>23.796304</td>\n      <td>0.0</td>\n      <td>0.333333</td>\n    </tr>\n    <tr>\n      <th>Moguer</th>\n      <td>378.0</td>\n      <td>15.0</td>\n      <td>41.0</td>\n      <td>22088.0</td>\n      <td>67.910177</td>\n      <td>185.621152</td>\n      <td>8.0</td>\n      <td>0.365854</td>\n    </tr>\n    <tr>\n      <th>Aljaraque</th>\n      <td>438.0</td>\n      <td>21.0</td>\n      <td>54.0</td>\n      <td>21260.0</td>\n      <td>98.777046</td>\n      <td>253.998119</td>\n      <td>6.0</td>\n      <td>0.388889</td>\n    </tr>\n    <tr>\n      <th>Lepe</th>\n      <td>965.0</td>\n      <td>25.0</td>\n      <td>64.0</td>\n      <td>27431.0</td>\n      <td>91.137764</td>\n      <td>233.312675</td>\n      <td>4.0</td>\n      <td>0.390625</td>\n    </tr>\n    <tr>\n      <th>Condado-Campiña</th>\n      <td>3404.0</td>\n      <td>105.0</td>\n      <td>264.0</td>\n      <td>155057.0</td>\n      <td>67.717033</td>\n      <td>170.259969</td>\n      <td>54.0</td>\n      <td>0.397727</td>\n    </tr>\n    <tr>\n      <th>Sierra de Huelva-Andévalo Central</th>\n      <td>1286.0</td>\n      <td>10.0</td>\n      <td>24.0</td>\n      <td>67571.0</td>\n      <td>14.799248</td>\n      <td>35.518196</td>\n      <td>2.0</td>\n      <td>0.416667</td>\n    </tr>\n    <tr>\n      <th>Huelva</th>\n      <td>11053.0</td>\n      <td>377.0</td>\n      <td>830.0</td>\n      <td>510743.0</td>\n      <td>73.814032</td>\n      <td>162.508346</td>\n      <td>124.0</td>\n      <td>0.454217</td>\n    </tr>\n    <tr>\n      <th>Huelva (capital)</th>\n      <td>3123.0</td>\n      <td>117.0</td>\n      <td>247.0</td>\n      <td>143663.0</td>\n      <td>81.440594</td>\n      <td>171.930142</td>\n      <td>32.0</td>\n      <td>0.473684</td>\n    </tr>\n    <tr>\n      <th>Huelva-Costa</th>\n      <td>6240.0</td>\n      <td>262.0</td>\n      <td>540.0</td>\n      <td>288115.0</td>\n      <td>90.935911</td>\n      <td>187.425160</td>\n      <td>67.0</td>\n      <td>0.485185</td>\n    </tr>\n    <tr>\n      <th>Cortegana</th>\n      <td>123.0</td>\n      <td>1.0</td>\n      <td>2.0</td>\n      <td>4666.0</td>\n      <td>21.431633</td>\n      <td>42.863266</td>\n      <td>1.0</td>\n      <td>0.500000</td>\n    </tr>\n    <tr>\n      <th>Escacena del Campo</th>\n      <td>97.0</td>\n      <td>3.0</td>\n      <td>6.0</td>\n      <td>2284.0</td>\n      <td>131.348511</td>\n      <td>262.697023</td>\n      <td>0.0</td>\n      <td>0.500000</td>\n    </tr>\n    <tr>\n      <th>Puebla de Guzmán</th>\n      <td>25.0</td>\n      <td>1.0</td>\n      <td>2.0</td>\n      <td>3073.0</td>\n      <td>32.541490</td>\n      <td>65.082981</td>\n      <td>0.0</td>\n      <td>0.500000</td>\n    </tr>\n    <tr>\n      <th>Villablanca</th>\n      <td>56.0</td>\n      <td>1.0</td>\n      <td>2.0</td>\n      <td>2848.0</td>\n      <td>35.112360</td>\n      <td>70.224719</td>\n      <td>1.0</td>\n      <td>0.500000</td>\n    </tr>\n    <tr>\n      <th>Lucena del Puerto</th>\n      <td>104.0</td>\n      <td>11.0</td>\n      <td>22.0</td>\n      <td>3371.0</td>\n      <td>326.312667</td>\n      <td>652.625334</td>\n      <td>5.0</td>\n      <td>0.500000</td>\n    </tr>\n    <tr>\n      <th>Ayamonte</th>\n      <td>335.0</td>\n      <td>9.0</td>\n      <td>18.0</td>\n      <td>20946.0</td>\n      <td>42.967631</td>\n      <td>85.935262</td>\n      <td>1.0</td>\n      <td>0.500000</td>\n    </tr>\n    <tr>\n      <th>Jabugo</th>\n      <td>46.0</td>\n      <td>6.0</td>\n      <td>11.0</td>\n      <td>2250.0</td>\n      <td>266.666667</td>\n      <td>488.888889</td>\n      <td>0.0</td>\n      <td>0.545455</td>\n    </tr>\n    <tr>\n      <th>Palos de la Frontera</th>\n      <td>249.0</td>\n      <td>20.0</td>\n      <td>36.0</td>\n      <td>11289.0</td>\n      <td>177.163611</td>\n      <td>318.894499</td>\n      <td>10.0</td>\n      <td>0.555556</td>\n    </tr>\n    <tr>\n      <th>Isla Cristina</th>\n      <td>446.0</td>\n      <td>41.0</td>\n      <td>71.0</td>\n      <td>21264.0</td>\n      <td>192.814146</td>\n      <td>333.897667</td>\n      <td>10.0</td>\n      <td>0.577465</td>\n    </tr>\n    <tr>\n      <th>Almonte</th>\n      <td>443.0</td>\n      <td>6.0</td>\n      <td>10.0</td>\n      <td>24191.0</td>\n      <td>24.802613</td>\n      <td>41.337688</td>\n      <td>4.0</td>\n      <td>0.600000</td>\n    </tr>\n    <tr>\n      <th>Rociana del Condado</th>\n      <td>119.0</td>\n      <td>3.0</td>\n      <td>5.0</td>\n      <td>7855.0</td>\n      <td>38.192234</td>\n      <td>63.653724</td>\n      <td>1.0</td>\n      <td>0.600000</td>\n    </tr>\n    <tr>\n      <th>Cartaya</th>\n      <td>411.0</td>\n      <td>40.0</td>\n      <td>63.0</td>\n      <td>19974.0</td>\n      <td>200.260338</td>\n      <td>315.410033</td>\n      <td>11.0</td>\n      <td>0.634921</td>\n    </tr>\n    <tr>\n      <th>Villanueva de los Castillejos</th>\n      <td>64.0</td>\n      <td>4.0</td>\n      <td>6.0</td>\n      <td>2820.0</td>\n      <td>141.843972</td>\n      <td>212.765957</td>\n      <td>1.0</td>\n      <td>0.666667</td>\n    </tr>\n    <tr>\n      <th>Bonares</th>\n      <td>64.0</td>\n      <td>16.0</td>\n      <td>22.0</td>\n      <td>6058.0</td>\n      <td>264.113569</td>\n      <td>363.156157</td>\n      <td>8.0</td>\n      <td>0.727273</td>\n    </tr>\n    <tr>\n      <th>Cerro de Andévalo (El)</th>\n      <td>38.0</td>\n      <td>1.0</td>\n      <td>1.0</td>\n      <td>2364.0</td>\n      <td>42.301184</td>\n      <td>42.301184</td>\n      <td>0.0</td>\n      <td>1.000000</td>\n    </tr>\n    <tr>\n      <th>Aracena</th>\n      <td>287.0</td>\n      <td>2.0</td>\n      <td>2.0</td>\n      <td>8107.0</td>\n      <td>24.670038</td>\n      <td>24.670038</td>\n      <td>0.0</td>\n      <td>1.000000</td>\n    </tr>\n    <tr>\n      <th>Niebla</th>\n      <td>116.0</td>\n      <td>4.0</td>\n      <td>4.0</td>\n      <td>4117.0</td>\n      <td>97.158125</td>\n      <td>97.158125</td>\n      <td>3.0</td>\n      <td>1.000000</td>\n    </tr>\n  </tbody>\n</table>\n</div>"
     },
     "metadata": {},
     "execution_count": 18
    }
   ],
   "source": [
    "# Peso de la tasa de la última semana en relación con la tasa a 14 días \n",
    "# Mejor cuanto menor. Valor 1 significa que no había casos antes de 7 días.\n",
    "tabla['7/14'] = tabla['tasa7'] / tabla['tasa14']\n",
    "tabla.fillna(0).sort_values('7/14', ascending=True)"
   ]
  },
  {
   "cell_type": "code",
   "execution_count": null,
   "metadata": {},
   "outputs": [],
   "source": []
  }
 ]
}