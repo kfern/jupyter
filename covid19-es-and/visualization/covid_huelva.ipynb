{
 "metadata": {
  "language_info": {
   "codemirror_mode": {
    "name": "ipython",
    "version": 3
   },
   "file_extension": ".py",
   "mimetype": "text/x-python",
   "name": "python",
   "nbconvert_exporter": "python",
   "pygments_lexer": "ipython3",
   "version": "3.6.9-final"
  },
  "orig_nbformat": 2,
  "kernelspec": {
   "name": "Python 3.6.9 64-bit",
   "display_name": "Python 3.6.9 64-bit",
   "metadata": {
    "interpreter": {
     "hash": "31f2aee4e71d21fbe5cf8b01ff0e069b9275f58929596ceb00d14d90e3e16cd6"
    }
   }
  }
 },
 "nbformat": 4,
 "nbformat_minor": 2,
 "cells": [
  {
   "cell_type": "code",
   "execution_count": 1,
   "metadata": {},
   "outputs": [],
   "source": [
    "import pandas as pd"
   ]
  },
  {
   "cell_type": "code",
   "execution_count": 2,
   "metadata": {},
   "outputs": [],
   "source": [
    "# FIX SSL: CERTIFICATE_VERIFY_FAILED with Python3\n",
    "# https://stackoverflow.com/a/49174340\n",
    "import ssl\n",
    "\n",
    "ssl._create_default_https_context = ssl._create_unverified_context"
   ]
  },
  {
   "cell_type": "code",
   "execution_count": 3,
   "metadata": {},
   "outputs": [],
   "source": [
    "url = 'https://www.juntadeandalucia.es/institutodeestadisticaycartografia/badea/stpivot/stpivot/Print?cube=013d884c-cfc5-4c21-9e78-e26225682afd&type=3&foto=si&ejecutaDesde=&codConsulta=38668&consTipoVisua=JP'\n",
    "fields = ['Lugar de residencia', 'Medida', 'Valor']\n",
    "df = pd.read_csv(url, delimiter=';', usecols=fields, decimal=',')"
   ]
  },
  {
   "cell_type": "code",
   "execution_count": 4,
   "metadata": {},
   "outputs": [
    {
     "output_type": "execute_result",
     "data": {
      "text/plain": [
       "                     Lugar de residencia                    Medida  \\\n",
       "0                                 Huelva                 Población   \n",
       "1                                 Huelva          Confirmados PDIA   \n",
       "2                                 Huelva  Confirmados PDIA 14 días   \n",
       "3                                 Huelva         Tasa PDIA 14 días   \n",
       "4                                 Huelva   Confirmados PDIA 7 días   \n",
       "..                                   ...                       ...   \n",
       "627  Municipio de Huelva sin especificar         Tasa PDIA 14 días   \n",
       "628  Municipio de Huelva sin especificar   Confirmados PDIA 7 días   \n",
       "629  Municipio de Huelva sin especificar        Total Confirmados    \n",
       "630  Municipio de Huelva sin especificar                   Curados   \n",
       "631  Municipio de Huelva sin especificar                Fallecidos   \n",
       "\n",
       "                 Valor  \n",
       "0               510743  \n",
       "1                 9857  \n",
       "2                 1530  \n",
       "3    299,5635769849024  \n",
       "4                  575  \n",
       "..                 ...  \n",
       "627                  -  \n",
       "628                  2  \n",
       "629                122  \n",
       "630                 84  \n",
       "631                  1  \n",
       "\n",
       "[632 rows x 3 columns]"
      ],
      "text/html": "<div>\n<style scoped>\n    .dataframe tbody tr th:only-of-type {\n        vertical-align: middle;\n    }\n\n    .dataframe tbody tr th {\n        vertical-align: top;\n    }\n\n    .dataframe thead th {\n        text-align: right;\n    }\n</style>\n<table border=\"1\" class=\"dataframe\">\n  <thead>\n    <tr style=\"text-align: right;\">\n      <th></th>\n      <th>Lugar de residencia</th>\n      <th>Medida</th>\n      <th>Valor</th>\n    </tr>\n  </thead>\n  <tbody>\n    <tr>\n      <th>0</th>\n      <td>Huelva</td>\n      <td>Población</td>\n      <td>510743</td>\n    </tr>\n    <tr>\n      <th>1</th>\n      <td>Huelva</td>\n      <td>Confirmados PDIA</td>\n      <td>9857</td>\n    </tr>\n    <tr>\n      <th>2</th>\n      <td>Huelva</td>\n      <td>Confirmados PDIA 14 días</td>\n      <td>1530</td>\n    </tr>\n    <tr>\n      <th>3</th>\n      <td>Huelva</td>\n      <td>Tasa PDIA 14 días</td>\n      <td>299,5635769849024</td>\n    </tr>\n    <tr>\n      <th>4</th>\n      <td>Huelva</td>\n      <td>Confirmados PDIA 7 días</td>\n      <td>575</td>\n    </tr>\n    <tr>\n      <th>...</th>\n      <td>...</td>\n      <td>...</td>\n      <td>...</td>\n    </tr>\n    <tr>\n      <th>627</th>\n      <td>Municipio de Huelva sin especificar</td>\n      <td>Tasa PDIA 14 días</td>\n      <td>-</td>\n    </tr>\n    <tr>\n      <th>628</th>\n      <td>Municipio de Huelva sin especificar</td>\n      <td>Confirmados PDIA 7 días</td>\n      <td>2</td>\n    </tr>\n    <tr>\n      <th>629</th>\n      <td>Municipio de Huelva sin especificar</td>\n      <td>Total Confirmados</td>\n      <td>122</td>\n    </tr>\n    <tr>\n      <th>630</th>\n      <td>Municipio de Huelva sin especificar</td>\n      <td>Curados</td>\n      <td>84</td>\n    </tr>\n    <tr>\n      <th>631</th>\n      <td>Municipio de Huelva sin especificar</td>\n      <td>Fallecidos</td>\n      <td>1</td>\n    </tr>\n  </tbody>\n</table>\n<p>632 rows × 3 columns</p>\n</div>"
     },
     "metadata": {},
     "execution_count": 4
    }
   ],
   "source": [
    "df"
   ]
  },
  {
   "cell_type": "code",
   "execution_count": 5,
   "metadata": {},
   "outputs": [],
   "source": [
    "df['Valor'] = pd.to_numeric(df['Valor'],errors='coerce')"
   ]
  },
  {
   "cell_type": "code",
   "execution_count": 6,
   "metadata": {},
   "outputs": [],
   "source": [
    "dfAnterior = pd.read_csv('covid_huelva.csv', index_col='Lugar de residencia')"
   ]
  },
  {
   "cell_type": "code",
   "execution_count": 7,
   "metadata": {
    "tags": []
   },
   "outputs": [
    {
     "output_type": "stream",
     "name": "stdout",
     "text": [
      "Confirmados PCR en la provincia de Huelva:  9857.0\n"
     ]
    }
   ],
   "source": [
    "# Confirmados PCR provincia Huelva\n",
    "p = df[df['Lugar de residencia'] == 'Huelva'][df['Medida'] == 'Confirmados PDIA']['Valor'].values[0]\n",
    "print('Confirmados PCR en la provincia de Huelva: ', p)"
   ]
  },
  {
   "cell_type": "code",
   "execution_count": 8,
   "metadata": {
    "tags": []
   },
   "outputs": [
    {
     "output_type": "stream",
     "name": "stdout",
     "text": [
      "Confirmados PCR en Huelva capital:  2762.0\n"
     ]
    }
   ],
   "source": [
    "# Confirmados PCR Huelva capitalpd\n",
    "c = df[df['Lugar de residencia'] == 'Huelva (capital)'][df['Medida'] == 'Confirmados PDIA']['Valor'].values[0]\n",
    "print('Confirmados PCR en Huelva capital: ', c)"
   ]
  },
  {
   "cell_type": "code",
   "execution_count": 9,
   "metadata": {
    "tags": []
   },
   "outputs": [],
   "source": [
    "c7 = df[df['Lugar de residencia'] == 'Huelva (capital)'][df['Medida'] == 'Confirmados PDIA 7 días']['Valor'].values[0]\n",
    "c14 = df[df['Lugar de residencia'] == 'Huelva (capital)'][df['Medida'] == 'Confirmados PDIA 14 días']['Valor'].values[0]\n",
    "p = df[df['Lugar de residencia'] == 'Huelva (capital)'][df['Medida'] == 'Población']['Valor'].values[0]"
   ]
  },
  {
   "cell_type": "code",
   "execution_count": 10,
   "metadata": {
    "tags": []
   },
   "outputs": [
    {
     "output_type": "stream",
     "name": "stdout",
     "text": [
      "Huelva (capital)\n\nUn positivo PCR cada 892 personas en los últimos 7 días \n\nUn positivo PCR cada 327 personas en los últimos 14 días\n"
     ]
    }
   ],
   "source": [
    "print('Huelva (capital)\\n')\n",
    "#print('Confirmados PCR 7 días x 1,000 habitantes: ', f\"{c7/(p/1000):.5f}\")\n",
    "print('Un positivo PCR cada', f\"{p/c7:.0f}\", 'personas en los últimos 7 días', '\\n')\n",
    "#print('Confirmados PCR 14 días x 1,000 habitantes: ', f\"{c14/(p/1000):.5f}\")\n",
    "print('Un positivo PCR cada', f\"{p/c14:.0f}\", 'personas en los últimos 14 días')"
   ]
  },
  {
   "cell_type": "code",
   "execution_count": 11,
   "metadata": {},
   "outputs": [],
   "source": [
    "filtro = ((df['Medida'] == 'Confirmados PDIA')| (df['Medida'] == 'Confirmados PDIA 7 días') | (df['Medida'] == 'Población' ) | (df['Medida'] == 'Confirmados PDIA 14 días')) & (df['Valor'] > 0)\n",
    "tabla = pd.pivot_table(df.loc[filtro], values='Valor', index='Lugar de residencia', columns='Medida').dropna()"
   ]
  },
  {
   "cell_type": "code",
   "execution_count": 12,
   "metadata": {},
   "outputs": [],
   "source": [
    "# Reorder columns\n",
    "tabla = tabla[['Confirmados PDIA', 'Confirmados PDIA 7 días', 'Confirmados PDIA 14 días', 'Población']]"
   ]
  },
  {
   "cell_type": "code",
   "execution_count": 13,
   "metadata": {},
   "outputs": [],
   "source": [
    "tabla['tasa7'] = tabla['Confirmados PDIA 7 días']/tabla['Población']*100000\n",
    "tabla['tasa14'] = tabla['Confirmados PDIA 14 días']/tabla['Población']*100000"
   ]
  },
  {
   "cell_type": "code",
   "execution_count": 14,
   "metadata": {},
   "outputs": [],
   "source": [
    "tabla['Diferencia PDIA'] = tabla['Confirmados PDIA'] - dfAnterior['Confirmados PDIA']"
   ]
  },
  {
   "cell_type": "code",
   "execution_count": 15,
   "metadata": {},
   "outputs": [
    {
     "output_type": "execute_result",
     "data": {
      "text/plain": [
       "Medida                             Confirmados PDIA  Confirmados PDIA 7 días  \\\n",
       "Lugar de residencia                                                            \n",
       "Huelva                                       9857.0                    575.0   \n",
       "Huelva-Costa                                 5435.0                    363.0   \n",
       "Condado-Campiña                              3051.0                    180.0   \n",
       "Huelva (capital)                             2762.0                    161.0   \n",
       "Isla Cristina                                 320.0                     46.0   \n",
       "Moguer                                        315.0                     35.0   \n",
       "Lepe                                          862.0                     45.0   \n",
       "Cartaya                                       319.0                     38.0   \n",
       "Lucena del Puerto                              81.0                     20.0   \n",
       "San Bartolomé de la Torre                      40.0                     14.0   \n",
       "Palma del Condado (La)                        447.0                     29.0   \n",
       "Punta Umbría                                  217.0                     10.0   \n",
       "Palos de la Frontera                          205.0                     22.0   \n",
       "Aljaraque                                     370.0                     32.0   \n",
       "Villalba del Alcor                             98.0                      8.0   \n",
       "Almonte                                       433.0                      8.0   \n",
       "Beas                                           55.0                      5.0   \n",
       "Paterna del Campo                              55.0                      3.0   \n",
       "Ayamonte                                      314.0                     24.0   \n",
       "Rociana del Condado                           113.0                     11.0   \n",
       "Bollullos Par del Condado                     231.0                      3.0   \n",
       "Aracena                                       285.0                      5.0   \n",
       "Sierra de Huelva-Andévalo Central            1250.0                     30.0   \n",
       "Trigueros                                     125.0                      1.0   \n",
       "Valverde del Camino                           269.0                     10.0   \n",
       "Granada de Río-Tinto (La)                       1.0                      1.0   \n",
       "\n",
       "Medida                             Confirmados PDIA 14 días  Población  \\\n",
       "Lugar de residencia                                                      \n",
       "Huelva                                               1530.0   510743.0   \n",
       "Huelva-Costa                                          993.0   288115.0   \n",
       "Condado-Campiña                                       426.0   155057.0   \n",
       "Huelva (capital)                                      439.0   143663.0   \n",
       "Isla Cristina                                          89.0    21264.0   \n",
       "Moguer                                                 91.0    22088.0   \n",
       "Lepe                                                  172.0    27431.0   \n",
       "Cartaya                                                73.0    19974.0   \n",
       "Lucena del Puerto                                      35.0     3371.0   \n",
       "San Bartolomé de la Torre                              19.0     3736.0   \n",
       "Palma del Condado (La)                                 67.0    10761.0   \n",
       "Punta Umbría                                           29.0    15242.0   \n",
       "Palos de la Frontera                                   51.0    11289.0   \n",
       "Aljaraque                                              70.0    21260.0   \n",
       "Villalba del Alcor                                     16.0     3338.0   \n",
       "Almonte                                                19.0    24191.0   \n",
       "Beas                                                    8.0     4257.0   \n",
       "Paterna del Campo                                       6.0     3509.0   \n",
       "Ayamonte                                               93.0    20946.0   \n",
       "Rociana del Condado                                    36.0     7855.0   \n",
       "Bollullos Par del Condado                              18.0    14272.0   \n",
       "Aracena                                                 9.0     8107.0   \n",
       "Sierra de Huelva-Andévalo Central                      93.0    67571.0   \n",
       "Trigueros                                               3.0     7713.0   \n",
       "Valverde del Camino                                    17.0    12820.0   \n",
       "Granada de Río-Tinto (La)                               1.0      239.0   \n",
       "\n",
       "Medida                                  tasa7       tasa14  Diferencia PDIA  \n",
       "Lugar de residencia                                                          \n",
       "Huelva                             112.581083   299.563577            104.0  \n",
       "Huelva-Costa                       125.991358   344.654044             67.0  \n",
       "Condado-Campiña                    116.086342   274.737677             40.0  \n",
       "Huelva (capital)                   112.067825   305.576244             24.0  \n",
       "Isla Cristina                      216.328066   418.547780             17.0  \n",
       "Moguer                             158.457081   411.988410             14.0  \n",
       "Lepe                               164.047975   627.027815             10.0  \n",
       "Cartaya                            190.247322   365.475118              8.0  \n",
       "Lucena del Puerto                  593.295758  1038.267576              4.0  \n",
       "San Bartolomé de la Torre          374.732334   508.565310              4.0  \n",
       "Palma del Condado (La)             269.491683   622.618716              4.0  \n",
       "Punta Umbría                        65.608188   190.263745              3.0  \n",
       "Palos de la Frontera               194.879972   451.767207              3.0  \n",
       "Aljaraque                          150.517404   329.256820              3.0  \n",
       "Villalba del Alcor                 239.664470   479.328939              3.0  \n",
       "Almonte                             33.070150    78.541606              2.0  \n",
       "Beas                               117.453606   187.925769              2.0  \n",
       "Paterna del Campo                   85.494443   170.988886              2.0  \n",
       "Ayamonte                           114.580349   443.998854              2.0  \n",
       "Rociana del Condado                140.038192   458.306811              2.0  \n",
       "Bollullos Par del Condado           21.020179   126.121076              1.0  \n",
       "Aracena                             61.675096   111.015172             -1.0  \n",
       "Sierra de Huelva-Andévalo Central   44.397745   137.633008             -1.0  \n",
       "Trigueros                           12.965124    38.895371             -1.0  \n",
       "Valverde del Camino                 78.003120   132.605304             -1.0  \n",
       "Granada de Río-Tinto (La)          418.410042   418.410042              NaN  "
      ],
      "text/html": "<div>\n<style scoped>\n    .dataframe tbody tr th:only-of-type {\n        vertical-align: middle;\n    }\n\n    .dataframe tbody tr th {\n        vertical-align: top;\n    }\n\n    .dataframe thead th {\n        text-align: right;\n    }\n</style>\n<table border=\"1\" class=\"dataframe\">\n  <thead>\n    <tr style=\"text-align: right;\">\n      <th>Medida</th>\n      <th>Confirmados PDIA</th>\n      <th>Confirmados PDIA 7 días</th>\n      <th>Confirmados PDIA 14 días</th>\n      <th>Población</th>\n      <th>tasa7</th>\n      <th>tasa14</th>\n      <th>Diferencia PDIA</th>\n    </tr>\n    <tr>\n      <th>Lugar de residencia</th>\n      <th></th>\n      <th></th>\n      <th></th>\n      <th></th>\n      <th></th>\n      <th></th>\n      <th></th>\n    </tr>\n  </thead>\n  <tbody>\n    <tr>\n      <th>Huelva</th>\n      <td>9857.0</td>\n      <td>575.0</td>\n      <td>1530.0</td>\n      <td>510743.0</td>\n      <td>112.581083</td>\n      <td>299.563577</td>\n      <td>104.0</td>\n    </tr>\n    <tr>\n      <th>Huelva-Costa</th>\n      <td>5435.0</td>\n      <td>363.0</td>\n      <td>993.0</td>\n      <td>288115.0</td>\n      <td>125.991358</td>\n      <td>344.654044</td>\n      <td>67.0</td>\n    </tr>\n    <tr>\n      <th>Condado-Campiña</th>\n      <td>3051.0</td>\n      <td>180.0</td>\n      <td>426.0</td>\n      <td>155057.0</td>\n      <td>116.086342</td>\n      <td>274.737677</td>\n      <td>40.0</td>\n    </tr>\n    <tr>\n      <th>Huelva (capital)</th>\n      <td>2762.0</td>\n      <td>161.0</td>\n      <td>439.0</td>\n      <td>143663.0</td>\n      <td>112.067825</td>\n      <td>305.576244</td>\n      <td>24.0</td>\n    </tr>\n    <tr>\n      <th>Isla Cristina</th>\n      <td>320.0</td>\n      <td>46.0</td>\n      <td>89.0</td>\n      <td>21264.0</td>\n      <td>216.328066</td>\n      <td>418.547780</td>\n      <td>17.0</td>\n    </tr>\n    <tr>\n      <th>Moguer</th>\n      <td>315.0</td>\n      <td>35.0</td>\n      <td>91.0</td>\n      <td>22088.0</td>\n      <td>158.457081</td>\n      <td>411.988410</td>\n      <td>14.0</td>\n    </tr>\n    <tr>\n      <th>Lepe</th>\n      <td>862.0</td>\n      <td>45.0</td>\n      <td>172.0</td>\n      <td>27431.0</td>\n      <td>164.047975</td>\n      <td>627.027815</td>\n      <td>10.0</td>\n    </tr>\n    <tr>\n      <th>Cartaya</th>\n      <td>319.0</td>\n      <td>38.0</td>\n      <td>73.0</td>\n      <td>19974.0</td>\n      <td>190.247322</td>\n      <td>365.475118</td>\n      <td>8.0</td>\n    </tr>\n    <tr>\n      <th>Lucena del Puerto</th>\n      <td>81.0</td>\n      <td>20.0</td>\n      <td>35.0</td>\n      <td>3371.0</td>\n      <td>593.295758</td>\n      <td>1038.267576</td>\n      <td>4.0</td>\n    </tr>\n    <tr>\n      <th>San Bartolomé de la Torre</th>\n      <td>40.0</td>\n      <td>14.0</td>\n      <td>19.0</td>\n      <td>3736.0</td>\n      <td>374.732334</td>\n      <td>508.565310</td>\n      <td>4.0</td>\n    </tr>\n    <tr>\n      <th>Palma del Condado (La)</th>\n      <td>447.0</td>\n      <td>29.0</td>\n      <td>67.0</td>\n      <td>10761.0</td>\n      <td>269.491683</td>\n      <td>622.618716</td>\n      <td>4.0</td>\n    </tr>\n    <tr>\n      <th>Punta Umbría</th>\n      <td>217.0</td>\n      <td>10.0</td>\n      <td>29.0</td>\n      <td>15242.0</td>\n      <td>65.608188</td>\n      <td>190.263745</td>\n      <td>3.0</td>\n    </tr>\n    <tr>\n      <th>Palos de la Frontera</th>\n      <td>205.0</td>\n      <td>22.0</td>\n      <td>51.0</td>\n      <td>11289.0</td>\n      <td>194.879972</td>\n      <td>451.767207</td>\n      <td>3.0</td>\n    </tr>\n    <tr>\n      <th>Aljaraque</th>\n      <td>370.0</td>\n      <td>32.0</td>\n      <td>70.0</td>\n      <td>21260.0</td>\n      <td>150.517404</td>\n      <td>329.256820</td>\n      <td>3.0</td>\n    </tr>\n    <tr>\n      <th>Villalba del Alcor</th>\n      <td>98.0</td>\n      <td>8.0</td>\n      <td>16.0</td>\n      <td>3338.0</td>\n      <td>239.664470</td>\n      <td>479.328939</td>\n      <td>3.0</td>\n    </tr>\n    <tr>\n      <th>Almonte</th>\n      <td>433.0</td>\n      <td>8.0</td>\n      <td>19.0</td>\n      <td>24191.0</td>\n      <td>33.070150</td>\n      <td>78.541606</td>\n      <td>2.0</td>\n    </tr>\n    <tr>\n      <th>Beas</th>\n      <td>55.0</td>\n      <td>5.0</td>\n      <td>8.0</td>\n      <td>4257.0</td>\n      <td>117.453606</td>\n      <td>187.925769</td>\n      <td>2.0</td>\n    </tr>\n    <tr>\n      <th>Paterna del Campo</th>\n      <td>55.0</td>\n      <td>3.0</td>\n      <td>6.0</td>\n      <td>3509.0</td>\n      <td>85.494443</td>\n      <td>170.988886</td>\n      <td>2.0</td>\n    </tr>\n    <tr>\n      <th>Ayamonte</th>\n      <td>314.0</td>\n      <td>24.0</td>\n      <td>93.0</td>\n      <td>20946.0</td>\n      <td>114.580349</td>\n      <td>443.998854</td>\n      <td>2.0</td>\n    </tr>\n    <tr>\n      <th>Rociana del Condado</th>\n      <td>113.0</td>\n      <td>11.0</td>\n      <td>36.0</td>\n      <td>7855.0</td>\n      <td>140.038192</td>\n      <td>458.306811</td>\n      <td>2.0</td>\n    </tr>\n    <tr>\n      <th>Bollullos Par del Condado</th>\n      <td>231.0</td>\n      <td>3.0</td>\n      <td>18.0</td>\n      <td>14272.0</td>\n      <td>21.020179</td>\n      <td>126.121076</td>\n      <td>1.0</td>\n    </tr>\n    <tr>\n      <th>Aracena</th>\n      <td>285.0</td>\n      <td>5.0</td>\n      <td>9.0</td>\n      <td>8107.0</td>\n      <td>61.675096</td>\n      <td>111.015172</td>\n      <td>-1.0</td>\n    </tr>\n    <tr>\n      <th>Sierra de Huelva-Andévalo Central</th>\n      <td>1250.0</td>\n      <td>30.0</td>\n      <td>93.0</td>\n      <td>67571.0</td>\n      <td>44.397745</td>\n      <td>137.633008</td>\n      <td>-1.0</td>\n    </tr>\n    <tr>\n      <th>Trigueros</th>\n      <td>125.0</td>\n      <td>1.0</td>\n      <td>3.0</td>\n      <td>7713.0</td>\n      <td>12.965124</td>\n      <td>38.895371</td>\n      <td>-1.0</td>\n    </tr>\n    <tr>\n      <th>Valverde del Camino</th>\n      <td>269.0</td>\n      <td>10.0</td>\n      <td>17.0</td>\n      <td>12820.0</td>\n      <td>78.003120</td>\n      <td>132.605304</td>\n      <td>-1.0</td>\n    </tr>\n    <tr>\n      <th>Granada de Río-Tinto (La)</th>\n      <td>1.0</td>\n      <td>1.0</td>\n      <td>1.0</td>\n      <td>239.0</td>\n      <td>418.410042</td>\n      <td>418.410042</td>\n      <td>NaN</td>\n    </tr>\n  </tbody>\n</table>\n</div>"
     },
     "metadata": {},
     "execution_count": 15
    }
   ],
   "source": [
    "# Nuevos casos desde la última captura\n",
    "tabla[tabla['Diferencia PDIA'] != 0].sort_values('Diferencia PDIA', ascending=False)"
   ]
  },
  {
   "cell_type": "code",
   "execution_count": 16,
   "metadata": {},
   "outputs": [],
   "source": [
    "if tabla[tabla['Diferencia PDIA'] != 0]['Diferencia PDIA'].sum() > 0:\n",
    "  # Save to csv\n",
    "  tabla.to_csv('covid_huelva.csv', encoding='utf-8', header=True, index=True)  "
   ]
  },
  {
   "cell_type": "code",
   "execution_count": 17,
   "metadata": {},
   "outputs": [
    {
     "output_type": "execute_result",
     "data": {
      "text/plain": [
       "Medida                             Confirmados PDIA  Confirmados PDIA 7 días  \\\n",
       "Lugar de residencia                                                            \n",
       "Lucena del Puerto                              81.0                     20.0   \n",
       "Corteconcepción                                18.0                      1.0   \n",
       "Niebla                                        112.0                     11.0   \n",
       "Lepe                                          862.0                     45.0   \n",
       "Palma del Condado (La)                        447.0                     29.0   \n",
       "San Bartolomé de la Torre                      40.0                     14.0   \n",
       "Villalba del Alcor                             98.0                      8.0   \n",
       "Rociana del Condado                           113.0                     11.0   \n",
       "Palos de la Frontera                          205.0                     22.0   \n",
       "Ayamonte                                      314.0                     24.0   \n",
       "Villanueva de los Castillejos                  56.0                      5.0   \n",
       "Santa Ana la Real                               3.0                      2.0   \n",
       "Isla Cristina                                 320.0                     46.0   \n",
       "Granada de Río-Tinto (La)                       1.0                      1.0   \n",
       "Moguer                                        315.0                     35.0   \n",
       "Aroche                                         51.0                      2.0   \n",
       "Cartaya                                       319.0                     38.0   \n",
       "Huelva-Costa                                 5435.0                    363.0   \n",
       "Aljaraque                                     370.0                     32.0   \n",
       "Minas de Riotinto                              64.0                      1.0   \n",
       "Huelva (capital)                             2762.0                    161.0   \n",
       "Huelva                                       9857.0                    575.0   \n",
       "Condado-Campiña                              3051.0                    180.0   \n",
       "Nerva                                          86.0                      1.0   \n",
       "Cerro de Andévalo (El)                         36.0                      1.0   \n",
       "Punta Umbría                                  217.0                     10.0   \n",
       "Beas                                           55.0                      5.0   \n",
       "Calañas                                        44.0                      1.0   \n",
       "Rosal de la Frontera                           20.0                      1.0   \n",
       "Paterna del Campo                              55.0                      3.0   \n",
       "Bonares                                        41.0                      3.0   \n",
       "Campillo (El)                                  53.0                      1.0   \n",
       "Sierra de Huelva-Andévalo Central            1250.0                     30.0   \n",
       "Valverde del Camino                           269.0                     10.0   \n",
       "Bollullos Par del Condado                     231.0                      3.0   \n",
       "Aracena                                       285.0                      5.0   \n",
       "Gibraleón                                     340.0                      5.0   \n",
       "Zalamea la Real                                44.0                      2.0   \n",
       "Puebla de Guzmán                               23.0                      2.0   \n",
       "Zarza-Perrunal (La)                            13.0                      1.0   \n",
       "Almonte                                       433.0                      8.0   \n",
       "San Juan del Puerto                           135.0                      2.0   \n",
       "Trigueros                                     125.0                      1.0   \n",
       "\n",
       "Medida                             Confirmados PDIA 14 días  Población  \\\n",
       "Lugar de residencia                                                      \n",
       "Lucena del Puerto                                      35.0     3371.0   \n",
       "Corteconcepción                                         4.0      548.0   \n",
       "Niebla                                                 27.0     4117.0   \n",
       "Lepe                                                  172.0    27431.0   \n",
       "Palma del Condado (La)                                 67.0    10761.0   \n",
       "San Bartolomé de la Torre                              19.0     3736.0   \n",
       "Villalba del Alcor                                     16.0     3338.0   \n",
       "Rociana del Condado                                    36.0     7855.0   \n",
       "Palos de la Frontera                                   51.0    11289.0   \n",
       "Ayamonte                                               93.0    20946.0   \n",
       "Villanueva de los Castillejos                          12.0     2820.0   \n",
       "Santa Ana la Real                                       2.0      476.0   \n",
       "Isla Cristina                                          89.0    21264.0   \n",
       "Granada de Río-Tinto (La)                               1.0      239.0   \n",
       "Moguer                                                 91.0    22088.0   \n",
       "Aroche                                                 12.0     3073.0   \n",
       "Cartaya                                                73.0    19974.0   \n",
       "Huelva-Costa                                          993.0   288115.0   \n",
       "Aljaraque                                              70.0    21260.0   \n",
       "Minas de Riotinto                                      12.0     3848.0   \n",
       "Huelva (capital)                                      439.0   143663.0   \n",
       "Huelva                                               1530.0   510743.0   \n",
       "Condado-Campiña                                       426.0   155057.0   \n",
       "Nerva                                                  12.0     5235.0   \n",
       "Cerro de Andévalo (El)                                  5.0     2364.0   \n",
       "Punta Umbría                                           29.0    15242.0   \n",
       "Beas                                                    8.0     4257.0   \n",
       "Calañas                                                 5.0     2791.0   \n",
       "Rosal de la Frontera                                    3.0     1697.0   \n",
       "Paterna del Campo                                       6.0     3509.0   \n",
       "Bonares                                                10.0     6058.0   \n",
       "Campillo (El)                                           3.0     2023.0   \n",
       "Sierra de Huelva-Andévalo Central                      93.0    67571.0   \n",
       "Valverde del Camino                                    17.0    12820.0   \n",
       "Bollullos Par del Condado                              18.0    14272.0   \n",
       "Aracena                                                 9.0     8107.0   \n",
       "Gibraleón                                              13.0    12607.0   \n",
       "Zalamea la Real                                         3.0     3068.0   \n",
       "Puebla de Guzmán                                        3.0     3073.0   \n",
       "Zarza-Perrunal (La)                                     1.0     1267.0   \n",
       "Almonte                                                19.0    24191.0   \n",
       "San Juan del Puerto                                     4.0     9300.0   \n",
       "Trigueros                                               3.0     7713.0   \n",
       "\n",
       "Medida                                  tasa7       tasa14  Diferencia PDIA  \n",
       "Lugar de residencia                                                          \n",
       "Lucena del Puerto                  593.295758  1038.267576              4.0  \n",
       "Corteconcepción                    182.481752   729.927007              0.0  \n",
       "Niebla                             267.184843   655.817343              0.0  \n",
       "Lepe                               164.047975   627.027815             10.0  \n",
       "Palma del Condado (La)             269.491683   622.618716              4.0  \n",
       "San Bartolomé de la Torre          374.732334   508.565310              4.0  \n",
       "Villalba del Alcor                 239.664470   479.328939              3.0  \n",
       "Rociana del Condado                140.038192   458.306811              2.0  \n",
       "Palos de la Frontera               194.879972   451.767207              3.0  \n",
       "Ayamonte                           114.580349   443.998854              2.0  \n",
       "Villanueva de los Castillejos      177.304965   425.531915              0.0  \n",
       "Santa Ana la Real                  420.168067   420.168067              0.0  \n",
       "Isla Cristina                      216.328066   418.547780             17.0  \n",
       "Granada de Río-Tinto (La)          418.410042   418.410042              NaN  \n",
       "Moguer                             158.457081   411.988410             14.0  \n",
       "Aroche                              65.082981   390.497885              0.0  \n",
       "Cartaya                            190.247322   365.475118              8.0  \n",
       "Huelva-Costa                       125.991358   344.654044             67.0  \n",
       "Aljaraque                          150.517404   329.256820              3.0  \n",
       "Minas de Riotinto                   25.987526   311.850312              0.0  \n",
       "Huelva (capital)                   112.067825   305.576244             24.0  \n",
       "Huelva                             112.581083   299.563577            104.0  \n",
       "Condado-Campiña                    116.086342   274.737677             40.0  \n",
       "Nerva                               19.102197   229.226361              0.0  \n",
       "Cerro de Andévalo (El)              42.301184   211.505922              0.0  \n",
       "Punta Umbría                        65.608188   190.263745              3.0  \n",
       "Beas                               117.453606   187.925769              2.0  \n",
       "Calañas                             35.829452   179.147259              0.0  \n",
       "Rosal de la Frontera                58.927519   176.782557              0.0  \n",
       "Paterna del Campo                   85.494443   170.988886              2.0  \n",
       "Bonares                             49.521294   165.070981              0.0  \n",
       "Campillo (El)                       49.431537   148.294612              0.0  \n",
       "Sierra de Huelva-Andévalo Central   44.397745   137.633008             -1.0  \n",
       "Valverde del Camino                 78.003120   132.605304             -1.0  \n",
       "Bollullos Par del Condado           21.020179   126.121076              1.0  \n",
       "Aracena                             61.675096   111.015172             -1.0  \n",
       "Gibraleón                           39.660506   103.117316              0.0  \n",
       "Zalamea la Real                     65.189048    97.783572              0.0  \n",
       "Puebla de Guzmán                    65.082981    97.624471              0.0  \n",
       "Zarza-Perrunal (La)                 78.926598    78.926598              0.0  \n",
       "Almonte                             33.070150    78.541606              2.0  \n",
       "San Juan del Puerto                 21.505376    43.010753              0.0  \n",
       "Trigueros                           12.965124    38.895371             -1.0  "
      ],
      "text/html": "<div>\n<style scoped>\n    .dataframe tbody tr th:only-of-type {\n        vertical-align: middle;\n    }\n\n    .dataframe tbody tr th {\n        vertical-align: top;\n    }\n\n    .dataframe thead th {\n        text-align: right;\n    }\n</style>\n<table border=\"1\" class=\"dataframe\">\n  <thead>\n    <tr style=\"text-align: right;\">\n      <th>Medida</th>\n      <th>Confirmados PDIA</th>\n      <th>Confirmados PDIA 7 días</th>\n      <th>Confirmados PDIA 14 días</th>\n      <th>Población</th>\n      <th>tasa7</th>\n      <th>tasa14</th>\n      <th>Diferencia PDIA</th>\n    </tr>\n    <tr>\n      <th>Lugar de residencia</th>\n      <th></th>\n      <th></th>\n      <th></th>\n      <th></th>\n      <th></th>\n      <th></th>\n      <th></th>\n    </tr>\n  </thead>\n  <tbody>\n    <tr>\n      <th>Lucena del Puerto</th>\n      <td>81.0</td>\n      <td>20.0</td>\n      <td>35.0</td>\n      <td>3371.0</td>\n      <td>593.295758</td>\n      <td>1038.267576</td>\n      <td>4.0</td>\n    </tr>\n    <tr>\n      <th>Corteconcepción</th>\n      <td>18.0</td>\n      <td>1.0</td>\n      <td>4.0</td>\n      <td>548.0</td>\n      <td>182.481752</td>\n      <td>729.927007</td>\n      <td>0.0</td>\n    </tr>\n    <tr>\n      <th>Niebla</th>\n      <td>112.0</td>\n      <td>11.0</td>\n      <td>27.0</td>\n      <td>4117.0</td>\n      <td>267.184843</td>\n      <td>655.817343</td>\n      <td>0.0</td>\n    </tr>\n    <tr>\n      <th>Lepe</th>\n      <td>862.0</td>\n      <td>45.0</td>\n      <td>172.0</td>\n      <td>27431.0</td>\n      <td>164.047975</td>\n      <td>627.027815</td>\n      <td>10.0</td>\n    </tr>\n    <tr>\n      <th>Palma del Condado (La)</th>\n      <td>447.0</td>\n      <td>29.0</td>\n      <td>67.0</td>\n      <td>10761.0</td>\n      <td>269.491683</td>\n      <td>622.618716</td>\n      <td>4.0</td>\n    </tr>\n    <tr>\n      <th>San Bartolomé de la Torre</th>\n      <td>40.0</td>\n      <td>14.0</td>\n      <td>19.0</td>\n      <td>3736.0</td>\n      <td>374.732334</td>\n      <td>508.565310</td>\n      <td>4.0</td>\n    </tr>\n    <tr>\n      <th>Villalba del Alcor</th>\n      <td>98.0</td>\n      <td>8.0</td>\n      <td>16.0</td>\n      <td>3338.0</td>\n      <td>239.664470</td>\n      <td>479.328939</td>\n      <td>3.0</td>\n    </tr>\n    <tr>\n      <th>Rociana del Condado</th>\n      <td>113.0</td>\n      <td>11.0</td>\n      <td>36.0</td>\n      <td>7855.0</td>\n      <td>140.038192</td>\n      <td>458.306811</td>\n      <td>2.0</td>\n    </tr>\n    <tr>\n      <th>Palos de la Frontera</th>\n      <td>205.0</td>\n      <td>22.0</td>\n      <td>51.0</td>\n      <td>11289.0</td>\n      <td>194.879972</td>\n      <td>451.767207</td>\n      <td>3.0</td>\n    </tr>\n    <tr>\n      <th>Ayamonte</th>\n      <td>314.0</td>\n      <td>24.0</td>\n      <td>93.0</td>\n      <td>20946.0</td>\n      <td>114.580349</td>\n      <td>443.998854</td>\n      <td>2.0</td>\n    </tr>\n    <tr>\n      <th>Villanueva de los Castillejos</th>\n      <td>56.0</td>\n      <td>5.0</td>\n      <td>12.0</td>\n      <td>2820.0</td>\n      <td>177.304965</td>\n      <td>425.531915</td>\n      <td>0.0</td>\n    </tr>\n    <tr>\n      <th>Santa Ana la Real</th>\n      <td>3.0</td>\n      <td>2.0</td>\n      <td>2.0</td>\n      <td>476.0</td>\n      <td>420.168067</td>\n      <td>420.168067</td>\n      <td>0.0</td>\n    </tr>\n    <tr>\n      <th>Isla Cristina</th>\n      <td>320.0</td>\n      <td>46.0</td>\n      <td>89.0</td>\n      <td>21264.0</td>\n      <td>216.328066</td>\n      <td>418.547780</td>\n      <td>17.0</td>\n    </tr>\n    <tr>\n      <th>Granada de Río-Tinto (La)</th>\n      <td>1.0</td>\n      <td>1.0</td>\n      <td>1.0</td>\n      <td>239.0</td>\n      <td>418.410042</td>\n      <td>418.410042</td>\n      <td>NaN</td>\n    </tr>\n    <tr>\n      <th>Moguer</th>\n      <td>315.0</td>\n      <td>35.0</td>\n      <td>91.0</td>\n      <td>22088.0</td>\n      <td>158.457081</td>\n      <td>411.988410</td>\n      <td>14.0</td>\n    </tr>\n    <tr>\n      <th>Aroche</th>\n      <td>51.0</td>\n      <td>2.0</td>\n      <td>12.0</td>\n      <td>3073.0</td>\n      <td>65.082981</td>\n      <td>390.497885</td>\n      <td>0.0</td>\n    </tr>\n    <tr>\n      <th>Cartaya</th>\n      <td>319.0</td>\n      <td>38.0</td>\n      <td>73.0</td>\n      <td>19974.0</td>\n      <td>190.247322</td>\n      <td>365.475118</td>\n      <td>8.0</td>\n    </tr>\n    <tr>\n      <th>Huelva-Costa</th>\n      <td>5435.0</td>\n      <td>363.0</td>\n      <td>993.0</td>\n      <td>288115.0</td>\n      <td>125.991358</td>\n      <td>344.654044</td>\n      <td>67.0</td>\n    </tr>\n    <tr>\n      <th>Aljaraque</th>\n      <td>370.0</td>\n      <td>32.0</td>\n      <td>70.0</td>\n      <td>21260.0</td>\n      <td>150.517404</td>\n      <td>329.256820</td>\n      <td>3.0</td>\n    </tr>\n    <tr>\n      <th>Minas de Riotinto</th>\n      <td>64.0</td>\n      <td>1.0</td>\n      <td>12.0</td>\n      <td>3848.0</td>\n      <td>25.987526</td>\n      <td>311.850312</td>\n      <td>0.0</td>\n    </tr>\n    <tr>\n      <th>Huelva (capital)</th>\n      <td>2762.0</td>\n      <td>161.0</td>\n      <td>439.0</td>\n      <td>143663.0</td>\n      <td>112.067825</td>\n      <td>305.576244</td>\n      <td>24.0</td>\n    </tr>\n    <tr>\n      <th>Huelva</th>\n      <td>9857.0</td>\n      <td>575.0</td>\n      <td>1530.0</td>\n      <td>510743.0</td>\n      <td>112.581083</td>\n      <td>299.563577</td>\n      <td>104.0</td>\n    </tr>\n    <tr>\n      <th>Condado-Campiña</th>\n      <td>3051.0</td>\n      <td>180.0</td>\n      <td>426.0</td>\n      <td>155057.0</td>\n      <td>116.086342</td>\n      <td>274.737677</td>\n      <td>40.0</td>\n    </tr>\n    <tr>\n      <th>Nerva</th>\n      <td>86.0</td>\n      <td>1.0</td>\n      <td>12.0</td>\n      <td>5235.0</td>\n      <td>19.102197</td>\n      <td>229.226361</td>\n      <td>0.0</td>\n    </tr>\n    <tr>\n      <th>Cerro de Andévalo (El)</th>\n      <td>36.0</td>\n      <td>1.0</td>\n      <td>5.0</td>\n      <td>2364.0</td>\n      <td>42.301184</td>\n      <td>211.505922</td>\n      <td>0.0</td>\n    </tr>\n    <tr>\n      <th>Punta Umbría</th>\n      <td>217.0</td>\n      <td>10.0</td>\n      <td>29.0</td>\n      <td>15242.0</td>\n      <td>65.608188</td>\n      <td>190.263745</td>\n      <td>3.0</td>\n    </tr>\n    <tr>\n      <th>Beas</th>\n      <td>55.0</td>\n      <td>5.0</td>\n      <td>8.0</td>\n      <td>4257.0</td>\n      <td>117.453606</td>\n      <td>187.925769</td>\n      <td>2.0</td>\n    </tr>\n    <tr>\n      <th>Calañas</th>\n      <td>44.0</td>\n      <td>1.0</td>\n      <td>5.0</td>\n      <td>2791.0</td>\n      <td>35.829452</td>\n      <td>179.147259</td>\n      <td>0.0</td>\n    </tr>\n    <tr>\n      <th>Rosal de la Frontera</th>\n      <td>20.0</td>\n      <td>1.0</td>\n      <td>3.0</td>\n      <td>1697.0</td>\n      <td>58.927519</td>\n      <td>176.782557</td>\n      <td>0.0</td>\n    </tr>\n    <tr>\n      <th>Paterna del Campo</th>\n      <td>55.0</td>\n      <td>3.0</td>\n      <td>6.0</td>\n      <td>3509.0</td>\n      <td>85.494443</td>\n      <td>170.988886</td>\n      <td>2.0</td>\n    </tr>\n    <tr>\n      <th>Bonares</th>\n      <td>41.0</td>\n      <td>3.0</td>\n      <td>10.0</td>\n      <td>6058.0</td>\n      <td>49.521294</td>\n      <td>165.070981</td>\n      <td>0.0</td>\n    </tr>\n    <tr>\n      <th>Campillo (El)</th>\n      <td>53.0</td>\n      <td>1.0</td>\n      <td>3.0</td>\n      <td>2023.0</td>\n      <td>49.431537</td>\n      <td>148.294612</td>\n      <td>0.0</td>\n    </tr>\n    <tr>\n      <th>Sierra de Huelva-Andévalo Central</th>\n      <td>1250.0</td>\n      <td>30.0</td>\n      <td>93.0</td>\n      <td>67571.0</td>\n      <td>44.397745</td>\n      <td>137.633008</td>\n      <td>-1.0</td>\n    </tr>\n    <tr>\n      <th>Valverde del Camino</th>\n      <td>269.0</td>\n      <td>10.0</td>\n      <td>17.0</td>\n      <td>12820.0</td>\n      <td>78.003120</td>\n      <td>132.605304</td>\n      <td>-1.0</td>\n    </tr>\n    <tr>\n      <th>Bollullos Par del Condado</th>\n      <td>231.0</td>\n      <td>3.0</td>\n      <td>18.0</td>\n      <td>14272.0</td>\n      <td>21.020179</td>\n      <td>126.121076</td>\n      <td>1.0</td>\n    </tr>\n    <tr>\n      <th>Aracena</th>\n      <td>285.0</td>\n      <td>5.0</td>\n      <td>9.0</td>\n      <td>8107.0</td>\n      <td>61.675096</td>\n      <td>111.015172</td>\n      <td>-1.0</td>\n    </tr>\n    <tr>\n      <th>Gibraleón</th>\n      <td>340.0</td>\n      <td>5.0</td>\n      <td>13.0</td>\n      <td>12607.0</td>\n      <td>39.660506</td>\n      <td>103.117316</td>\n      <td>0.0</td>\n    </tr>\n    <tr>\n      <th>Zalamea la Real</th>\n      <td>44.0</td>\n      <td>2.0</td>\n      <td>3.0</td>\n      <td>3068.0</td>\n      <td>65.189048</td>\n      <td>97.783572</td>\n      <td>0.0</td>\n    </tr>\n    <tr>\n      <th>Puebla de Guzmán</th>\n      <td>23.0</td>\n      <td>2.0</td>\n      <td>3.0</td>\n      <td>3073.0</td>\n      <td>65.082981</td>\n      <td>97.624471</td>\n      <td>0.0</td>\n    </tr>\n    <tr>\n      <th>Zarza-Perrunal (La)</th>\n      <td>13.0</td>\n      <td>1.0</td>\n      <td>1.0</td>\n      <td>1267.0</td>\n      <td>78.926598</td>\n      <td>78.926598</td>\n      <td>0.0</td>\n    </tr>\n    <tr>\n      <th>Almonte</th>\n      <td>433.0</td>\n      <td>8.0</td>\n      <td>19.0</td>\n      <td>24191.0</td>\n      <td>33.070150</td>\n      <td>78.541606</td>\n      <td>2.0</td>\n    </tr>\n    <tr>\n      <th>San Juan del Puerto</th>\n      <td>135.0</td>\n      <td>2.0</td>\n      <td>4.0</td>\n      <td>9300.0</td>\n      <td>21.505376</td>\n      <td>43.010753</td>\n      <td>0.0</td>\n    </tr>\n    <tr>\n      <th>Trigueros</th>\n      <td>125.0</td>\n      <td>1.0</td>\n      <td>3.0</td>\n      <td>7713.0</td>\n      <td>12.965124</td>\n      <td>38.895371</td>\n      <td>-1.0</td>\n    </tr>\n  </tbody>\n</table>\n</div>"
     },
     "metadata": {},
     "execution_count": 17
    }
   ],
   "source": [
    "tabla.sort_values('tasa14', ascending=False)"
   ]
  },
  {
   "cell_type": "code",
   "execution_count": 18,
   "metadata": {},
   "outputs": [
    {
     "output_type": "execute_result",
     "data": {
      "text/plain": [
       "Medida                             Confirmados PDIA  Confirmados PDIA 7 días  \\\n",
       "Lugar de residencia                                                            \n",
       "Minas de Riotinto                              64.0                      1.0   \n",
       "Nerva                                          86.0                      1.0   \n",
       "Aroche                                         51.0                      2.0   \n",
       "Bollullos Par del Condado                     231.0                      3.0   \n",
       "Cerro de Andévalo (El)                         36.0                      1.0   \n",
       "Calañas                                        44.0                      1.0   \n",
       "Corteconcepción                                18.0                      1.0   \n",
       "Ayamonte                                      314.0                     24.0   \n",
       "Lepe                                          862.0                     45.0   \n",
       "Bonares                                        41.0                      3.0   \n",
       "Rociana del Condado                           113.0                     11.0   \n",
       "Sierra de Huelva-Andévalo Central            1250.0                     30.0   \n",
       "Campillo (El)                                  53.0                      1.0   \n",
       "Trigueros                                     125.0                      1.0   \n",
       "Rosal de la Frontera                           20.0                      1.0   \n",
       "Punta Umbría                                  217.0                     10.0   \n",
       "Huelva-Costa                                 5435.0                    363.0   \n",
       "Huelva (capital)                             2762.0                    161.0   \n",
       "Huelva                                       9857.0                    575.0   \n",
       "Gibraleón                                     340.0                      5.0   \n",
       "Moguer                                        315.0                     35.0   \n",
       "Niebla                                        112.0                     11.0   \n",
       "Villanueva de los Castillejos                  56.0                      5.0   \n",
       "Almonte                                       433.0                      8.0   \n",
       "Condado-Campiña                              3051.0                    180.0   \n",
       "Palos de la Frontera                          205.0                     22.0   \n",
       "Palma del Condado (La)                        447.0                     29.0   \n",
       "Aljaraque                                     370.0                     32.0   \n",
       "Paterna del Campo                              55.0                      3.0   \n",
       "Villalba del Alcor                             98.0                      8.0   \n",
       "San Juan del Puerto                           135.0                      2.0   \n",
       "Isla Cristina                                 320.0                     46.0   \n",
       "Cartaya                                       319.0                     38.0   \n",
       "Aracena                                       285.0                      5.0   \n",
       "Lucena del Puerto                              81.0                     20.0   \n",
       "Valverde del Camino                           269.0                     10.0   \n",
       "Beas                                           55.0                      5.0   \n",
       "Zalamea la Real                                44.0                      2.0   \n",
       "Puebla de Guzmán                               23.0                      2.0   \n",
       "San Bartolomé de la Torre                      40.0                     14.0   \n",
       "Santa Ana la Real                               3.0                      2.0   \n",
       "Granada de Río-Tinto (La)                       1.0                      1.0   \n",
       "Zarza-Perrunal (La)                            13.0                      1.0   \n",
       "\n",
       "Medida                             Confirmados PDIA 14 días  Población  \\\n",
       "Lugar de residencia                                                      \n",
       "Minas de Riotinto                                      12.0     3848.0   \n",
       "Nerva                                                  12.0     5235.0   \n",
       "Aroche                                                 12.0     3073.0   \n",
       "Bollullos Par del Condado                              18.0    14272.0   \n",
       "Cerro de Andévalo (El)                                  5.0     2364.0   \n",
       "Calañas                                                 5.0     2791.0   \n",
       "Corteconcepción                                         4.0      548.0   \n",
       "Ayamonte                                               93.0    20946.0   \n",
       "Lepe                                                  172.0    27431.0   \n",
       "Bonares                                                10.0     6058.0   \n",
       "Rociana del Condado                                    36.0     7855.0   \n",
       "Sierra de Huelva-Andévalo Central                      93.0    67571.0   \n",
       "Campillo (El)                                           3.0     2023.0   \n",
       "Trigueros                                               3.0     7713.0   \n",
       "Rosal de la Frontera                                    3.0     1697.0   \n",
       "Punta Umbría                                           29.0    15242.0   \n",
       "Huelva-Costa                                          993.0   288115.0   \n",
       "Huelva (capital)                                      439.0   143663.0   \n",
       "Huelva                                               1530.0   510743.0   \n",
       "Gibraleón                                              13.0    12607.0   \n",
       "Moguer                                                 91.0    22088.0   \n",
       "Niebla                                                 27.0     4117.0   \n",
       "Villanueva de los Castillejos                          12.0     2820.0   \n",
       "Almonte                                                19.0    24191.0   \n",
       "Condado-Campiña                                       426.0   155057.0   \n",
       "Palos de la Frontera                                   51.0    11289.0   \n",
       "Palma del Condado (La)                                 67.0    10761.0   \n",
       "Aljaraque                                              70.0    21260.0   \n",
       "Paterna del Campo                                       6.0     3509.0   \n",
       "Villalba del Alcor                                     16.0     3338.0   \n",
       "San Juan del Puerto                                     4.0     9300.0   \n",
       "Isla Cristina                                          89.0    21264.0   \n",
       "Cartaya                                                73.0    19974.0   \n",
       "Aracena                                                 9.0     8107.0   \n",
       "Lucena del Puerto                                      35.0     3371.0   \n",
       "Valverde del Camino                                    17.0    12820.0   \n",
       "Beas                                                    8.0     4257.0   \n",
       "Zalamea la Real                                         3.0     3068.0   \n",
       "Puebla de Guzmán                                        3.0     3073.0   \n",
       "San Bartolomé de la Torre                              19.0     3736.0   \n",
       "Santa Ana la Real                                       2.0      476.0   \n",
       "Granada de Río-Tinto (La)                               1.0      239.0   \n",
       "Zarza-Perrunal (La)                                     1.0     1267.0   \n",
       "\n",
       "Medida                                  tasa7       tasa14  Diferencia PDIA  \\\n",
       "Lugar de residencia                                                           \n",
       "Minas de Riotinto                   25.987526   311.850312              0.0   \n",
       "Nerva                               19.102197   229.226361              0.0   \n",
       "Aroche                              65.082981   390.497885              0.0   \n",
       "Bollullos Par del Condado           21.020179   126.121076              1.0   \n",
       "Cerro de Andévalo (El)              42.301184   211.505922              0.0   \n",
       "Calañas                             35.829452   179.147259              0.0   \n",
       "Corteconcepción                    182.481752   729.927007              0.0   \n",
       "Ayamonte                           114.580349   443.998854              2.0   \n",
       "Lepe                               164.047975   627.027815             10.0   \n",
       "Bonares                             49.521294   165.070981              0.0   \n",
       "Rociana del Condado                140.038192   458.306811              2.0   \n",
       "Sierra de Huelva-Andévalo Central   44.397745   137.633008             -1.0   \n",
       "Campillo (El)                       49.431537   148.294612              0.0   \n",
       "Trigueros                           12.965124    38.895371             -1.0   \n",
       "Rosal de la Frontera                58.927519   176.782557              0.0   \n",
       "Punta Umbría                        65.608188   190.263745              3.0   \n",
       "Huelva-Costa                       125.991358   344.654044             67.0   \n",
       "Huelva (capital)                   112.067825   305.576244             24.0   \n",
       "Huelva                             112.581083   299.563577            104.0   \n",
       "Gibraleón                           39.660506   103.117316              0.0   \n",
       "Moguer                             158.457081   411.988410             14.0   \n",
       "Niebla                             267.184843   655.817343              0.0   \n",
       "Villanueva de los Castillejos      177.304965   425.531915              0.0   \n",
       "Almonte                             33.070150    78.541606              2.0   \n",
       "Condado-Campiña                    116.086342   274.737677             40.0   \n",
       "Palos de la Frontera               194.879972   451.767207              3.0   \n",
       "Palma del Condado (La)             269.491683   622.618716              4.0   \n",
       "Aljaraque                          150.517404   329.256820              3.0   \n",
       "Paterna del Campo                   85.494443   170.988886              2.0   \n",
       "Villalba del Alcor                 239.664470   479.328939              3.0   \n",
       "San Juan del Puerto                 21.505376    43.010753              0.0   \n",
       "Isla Cristina                      216.328066   418.547780             17.0   \n",
       "Cartaya                            190.247322   365.475118              8.0   \n",
       "Aracena                             61.675096   111.015172             -1.0   \n",
       "Lucena del Puerto                  593.295758  1038.267576              4.0   \n",
       "Valverde del Camino                 78.003120   132.605304             -1.0   \n",
       "Beas                               117.453606   187.925769              2.0   \n",
       "Zalamea la Real                     65.189048    97.783572              0.0   \n",
       "Puebla de Guzmán                    65.082981    97.624471              0.0   \n",
       "San Bartolomé de la Torre          374.732334   508.565310              4.0   \n",
       "Santa Ana la Real                  420.168067   420.168067              0.0   \n",
       "Granada de Río-Tinto (La)          418.410042   418.410042              0.0   \n",
       "Zarza-Perrunal (La)                 78.926598    78.926598              0.0   \n",
       "\n",
       "Medida                                 7/14  \n",
       "Lugar de residencia                          \n",
       "Minas de Riotinto                  0.083333  \n",
       "Nerva                              0.083333  \n",
       "Aroche                             0.166667  \n",
       "Bollullos Par del Condado          0.166667  \n",
       "Cerro de Andévalo (El)             0.200000  \n",
       "Calañas                            0.200000  \n",
       "Corteconcepción                    0.250000  \n",
       "Ayamonte                           0.258065  \n",
       "Lepe                               0.261628  \n",
       "Bonares                            0.300000  \n",
       "Rociana del Condado                0.305556  \n",
       "Sierra de Huelva-Andévalo Central  0.322581  \n",
       "Campillo (El)                      0.333333  \n",
       "Trigueros                          0.333333  \n",
       "Rosal de la Frontera               0.333333  \n",
       "Punta Umbría                       0.344828  \n",
       "Huelva-Costa                       0.365559  \n",
       "Huelva (capital)                   0.366743  \n",
       "Huelva                             0.375817  \n",
       "Gibraleón                          0.384615  \n",
       "Moguer                             0.384615  \n",
       "Niebla                             0.407407  \n",
       "Villanueva de los Castillejos      0.416667  \n",
       "Almonte                            0.421053  \n",
       "Condado-Campiña                    0.422535  \n",
       "Palos de la Frontera               0.431373  \n",
       "Palma del Condado (La)             0.432836  \n",
       "Aljaraque                          0.457143  \n",
       "Paterna del Campo                  0.500000  \n",
       "Villalba del Alcor                 0.500000  \n",
       "San Juan del Puerto                0.500000  \n",
       "Isla Cristina                      0.516854  \n",
       "Cartaya                            0.520548  \n",
       "Aracena                            0.555556  \n",
       "Lucena del Puerto                  0.571429  \n",
       "Valverde del Camino                0.588235  \n",
       "Beas                               0.625000  \n",
       "Zalamea la Real                    0.666667  \n",
       "Puebla de Guzmán                   0.666667  \n",
       "San Bartolomé de la Torre          0.736842  \n",
       "Santa Ana la Real                  1.000000  \n",
       "Granada de Río-Tinto (La)          1.000000  \n",
       "Zarza-Perrunal (La)                1.000000  "
      ],
      "text/html": "<div>\n<style scoped>\n    .dataframe tbody tr th:only-of-type {\n        vertical-align: middle;\n    }\n\n    .dataframe tbody tr th {\n        vertical-align: top;\n    }\n\n    .dataframe thead th {\n        text-align: right;\n    }\n</style>\n<table border=\"1\" class=\"dataframe\">\n  <thead>\n    <tr style=\"text-align: right;\">\n      <th>Medida</th>\n      <th>Confirmados PDIA</th>\n      <th>Confirmados PDIA 7 días</th>\n      <th>Confirmados PDIA 14 días</th>\n      <th>Población</th>\n      <th>tasa7</th>\n      <th>tasa14</th>\n      <th>Diferencia PDIA</th>\n      <th>7/14</th>\n    </tr>\n    <tr>\n      <th>Lugar de residencia</th>\n      <th></th>\n      <th></th>\n      <th></th>\n      <th></th>\n      <th></th>\n      <th></th>\n      <th></th>\n      <th></th>\n    </tr>\n  </thead>\n  <tbody>\n    <tr>\n      <th>Minas de Riotinto</th>\n      <td>64.0</td>\n      <td>1.0</td>\n      <td>12.0</td>\n      <td>3848.0</td>\n      <td>25.987526</td>\n      <td>311.850312</td>\n      <td>0.0</td>\n      <td>0.083333</td>\n    </tr>\n    <tr>\n      <th>Nerva</th>\n      <td>86.0</td>\n      <td>1.0</td>\n      <td>12.0</td>\n      <td>5235.0</td>\n      <td>19.102197</td>\n      <td>229.226361</td>\n      <td>0.0</td>\n      <td>0.083333</td>\n    </tr>\n    <tr>\n      <th>Aroche</th>\n      <td>51.0</td>\n      <td>2.0</td>\n      <td>12.0</td>\n      <td>3073.0</td>\n      <td>65.082981</td>\n      <td>390.497885</td>\n      <td>0.0</td>\n      <td>0.166667</td>\n    </tr>\n    <tr>\n      <th>Bollullos Par del Condado</th>\n      <td>231.0</td>\n      <td>3.0</td>\n      <td>18.0</td>\n      <td>14272.0</td>\n      <td>21.020179</td>\n      <td>126.121076</td>\n      <td>1.0</td>\n      <td>0.166667</td>\n    </tr>\n    <tr>\n      <th>Cerro de Andévalo (El)</th>\n      <td>36.0</td>\n      <td>1.0</td>\n      <td>5.0</td>\n      <td>2364.0</td>\n      <td>42.301184</td>\n      <td>211.505922</td>\n      <td>0.0</td>\n      <td>0.200000</td>\n    </tr>\n    <tr>\n      <th>Calañas</th>\n      <td>44.0</td>\n      <td>1.0</td>\n      <td>5.0</td>\n      <td>2791.0</td>\n      <td>35.829452</td>\n      <td>179.147259</td>\n      <td>0.0</td>\n      <td>0.200000</td>\n    </tr>\n    <tr>\n      <th>Corteconcepción</th>\n      <td>18.0</td>\n      <td>1.0</td>\n      <td>4.0</td>\n      <td>548.0</td>\n      <td>182.481752</td>\n      <td>729.927007</td>\n      <td>0.0</td>\n      <td>0.250000</td>\n    </tr>\n    <tr>\n      <th>Ayamonte</th>\n      <td>314.0</td>\n      <td>24.0</td>\n      <td>93.0</td>\n      <td>20946.0</td>\n      <td>114.580349</td>\n      <td>443.998854</td>\n      <td>2.0</td>\n      <td>0.258065</td>\n    </tr>\n    <tr>\n      <th>Lepe</th>\n      <td>862.0</td>\n      <td>45.0</td>\n      <td>172.0</td>\n      <td>27431.0</td>\n      <td>164.047975</td>\n      <td>627.027815</td>\n      <td>10.0</td>\n      <td>0.261628</td>\n    </tr>\n    <tr>\n      <th>Bonares</th>\n      <td>41.0</td>\n      <td>3.0</td>\n      <td>10.0</td>\n      <td>6058.0</td>\n      <td>49.521294</td>\n      <td>165.070981</td>\n      <td>0.0</td>\n      <td>0.300000</td>\n    </tr>\n    <tr>\n      <th>Rociana del Condado</th>\n      <td>113.0</td>\n      <td>11.0</td>\n      <td>36.0</td>\n      <td>7855.0</td>\n      <td>140.038192</td>\n      <td>458.306811</td>\n      <td>2.0</td>\n      <td>0.305556</td>\n    </tr>\n    <tr>\n      <th>Sierra de Huelva-Andévalo Central</th>\n      <td>1250.0</td>\n      <td>30.0</td>\n      <td>93.0</td>\n      <td>67571.0</td>\n      <td>44.397745</td>\n      <td>137.633008</td>\n      <td>-1.0</td>\n      <td>0.322581</td>\n    </tr>\n    <tr>\n      <th>Campillo (El)</th>\n      <td>53.0</td>\n      <td>1.0</td>\n      <td>3.0</td>\n      <td>2023.0</td>\n      <td>49.431537</td>\n      <td>148.294612</td>\n      <td>0.0</td>\n      <td>0.333333</td>\n    </tr>\n    <tr>\n      <th>Trigueros</th>\n      <td>125.0</td>\n      <td>1.0</td>\n      <td>3.0</td>\n      <td>7713.0</td>\n      <td>12.965124</td>\n      <td>38.895371</td>\n      <td>-1.0</td>\n      <td>0.333333</td>\n    </tr>\n    <tr>\n      <th>Rosal de la Frontera</th>\n      <td>20.0</td>\n      <td>1.0</td>\n      <td>3.0</td>\n      <td>1697.0</td>\n      <td>58.927519</td>\n      <td>176.782557</td>\n      <td>0.0</td>\n      <td>0.333333</td>\n    </tr>\n    <tr>\n      <th>Punta Umbría</th>\n      <td>217.0</td>\n      <td>10.0</td>\n      <td>29.0</td>\n      <td>15242.0</td>\n      <td>65.608188</td>\n      <td>190.263745</td>\n      <td>3.0</td>\n      <td>0.344828</td>\n    </tr>\n    <tr>\n      <th>Huelva-Costa</th>\n      <td>5435.0</td>\n      <td>363.0</td>\n      <td>993.0</td>\n      <td>288115.0</td>\n      <td>125.991358</td>\n      <td>344.654044</td>\n      <td>67.0</td>\n      <td>0.365559</td>\n    </tr>\n    <tr>\n      <th>Huelva (capital)</th>\n      <td>2762.0</td>\n      <td>161.0</td>\n      <td>439.0</td>\n      <td>143663.0</td>\n      <td>112.067825</td>\n      <td>305.576244</td>\n      <td>24.0</td>\n      <td>0.366743</td>\n    </tr>\n    <tr>\n      <th>Huelva</th>\n      <td>9857.0</td>\n      <td>575.0</td>\n      <td>1530.0</td>\n      <td>510743.0</td>\n      <td>112.581083</td>\n      <td>299.563577</td>\n      <td>104.0</td>\n      <td>0.375817</td>\n    </tr>\n    <tr>\n      <th>Gibraleón</th>\n      <td>340.0</td>\n      <td>5.0</td>\n      <td>13.0</td>\n      <td>12607.0</td>\n      <td>39.660506</td>\n      <td>103.117316</td>\n      <td>0.0</td>\n      <td>0.384615</td>\n    </tr>\n    <tr>\n      <th>Moguer</th>\n      <td>315.0</td>\n      <td>35.0</td>\n      <td>91.0</td>\n      <td>22088.0</td>\n      <td>158.457081</td>\n      <td>411.988410</td>\n      <td>14.0</td>\n      <td>0.384615</td>\n    </tr>\n    <tr>\n      <th>Niebla</th>\n      <td>112.0</td>\n      <td>11.0</td>\n      <td>27.0</td>\n      <td>4117.0</td>\n      <td>267.184843</td>\n      <td>655.817343</td>\n      <td>0.0</td>\n      <td>0.407407</td>\n    </tr>\n    <tr>\n      <th>Villanueva de los Castillejos</th>\n      <td>56.0</td>\n      <td>5.0</td>\n      <td>12.0</td>\n      <td>2820.0</td>\n      <td>177.304965</td>\n      <td>425.531915</td>\n      <td>0.0</td>\n      <td>0.416667</td>\n    </tr>\n    <tr>\n      <th>Almonte</th>\n      <td>433.0</td>\n      <td>8.0</td>\n      <td>19.0</td>\n      <td>24191.0</td>\n      <td>33.070150</td>\n      <td>78.541606</td>\n      <td>2.0</td>\n      <td>0.421053</td>\n    </tr>\n    <tr>\n      <th>Condado-Campiña</th>\n      <td>3051.0</td>\n      <td>180.0</td>\n      <td>426.0</td>\n      <td>155057.0</td>\n      <td>116.086342</td>\n      <td>274.737677</td>\n      <td>40.0</td>\n      <td>0.422535</td>\n    </tr>\n    <tr>\n      <th>Palos de la Frontera</th>\n      <td>205.0</td>\n      <td>22.0</td>\n      <td>51.0</td>\n      <td>11289.0</td>\n      <td>194.879972</td>\n      <td>451.767207</td>\n      <td>3.0</td>\n      <td>0.431373</td>\n    </tr>\n    <tr>\n      <th>Palma del Condado (La)</th>\n      <td>447.0</td>\n      <td>29.0</td>\n      <td>67.0</td>\n      <td>10761.0</td>\n      <td>269.491683</td>\n      <td>622.618716</td>\n      <td>4.0</td>\n      <td>0.432836</td>\n    </tr>\n    <tr>\n      <th>Aljaraque</th>\n      <td>370.0</td>\n      <td>32.0</td>\n      <td>70.0</td>\n      <td>21260.0</td>\n      <td>150.517404</td>\n      <td>329.256820</td>\n      <td>3.0</td>\n      <td>0.457143</td>\n    </tr>\n    <tr>\n      <th>Paterna del Campo</th>\n      <td>55.0</td>\n      <td>3.0</td>\n      <td>6.0</td>\n      <td>3509.0</td>\n      <td>85.494443</td>\n      <td>170.988886</td>\n      <td>2.0</td>\n      <td>0.500000</td>\n    </tr>\n    <tr>\n      <th>Villalba del Alcor</th>\n      <td>98.0</td>\n      <td>8.0</td>\n      <td>16.0</td>\n      <td>3338.0</td>\n      <td>239.664470</td>\n      <td>479.328939</td>\n      <td>3.0</td>\n      <td>0.500000</td>\n    </tr>\n    <tr>\n      <th>San Juan del Puerto</th>\n      <td>135.0</td>\n      <td>2.0</td>\n      <td>4.0</td>\n      <td>9300.0</td>\n      <td>21.505376</td>\n      <td>43.010753</td>\n      <td>0.0</td>\n      <td>0.500000</td>\n    </tr>\n    <tr>\n      <th>Isla Cristina</th>\n      <td>320.0</td>\n      <td>46.0</td>\n      <td>89.0</td>\n      <td>21264.0</td>\n      <td>216.328066</td>\n      <td>418.547780</td>\n      <td>17.0</td>\n      <td>0.516854</td>\n    </tr>\n    <tr>\n      <th>Cartaya</th>\n      <td>319.0</td>\n      <td>38.0</td>\n      <td>73.0</td>\n      <td>19974.0</td>\n      <td>190.247322</td>\n      <td>365.475118</td>\n      <td>8.0</td>\n      <td>0.520548</td>\n    </tr>\n    <tr>\n      <th>Aracena</th>\n      <td>285.0</td>\n      <td>5.0</td>\n      <td>9.0</td>\n      <td>8107.0</td>\n      <td>61.675096</td>\n      <td>111.015172</td>\n      <td>-1.0</td>\n      <td>0.555556</td>\n    </tr>\n    <tr>\n      <th>Lucena del Puerto</th>\n      <td>81.0</td>\n      <td>20.0</td>\n      <td>35.0</td>\n      <td>3371.0</td>\n      <td>593.295758</td>\n      <td>1038.267576</td>\n      <td>4.0</td>\n      <td>0.571429</td>\n    </tr>\n    <tr>\n      <th>Valverde del Camino</th>\n      <td>269.0</td>\n      <td>10.0</td>\n      <td>17.0</td>\n      <td>12820.0</td>\n      <td>78.003120</td>\n      <td>132.605304</td>\n      <td>-1.0</td>\n      <td>0.588235</td>\n    </tr>\n    <tr>\n      <th>Beas</th>\n      <td>55.0</td>\n      <td>5.0</td>\n      <td>8.0</td>\n      <td>4257.0</td>\n      <td>117.453606</td>\n      <td>187.925769</td>\n      <td>2.0</td>\n      <td>0.625000</td>\n    </tr>\n    <tr>\n      <th>Zalamea la Real</th>\n      <td>44.0</td>\n      <td>2.0</td>\n      <td>3.0</td>\n      <td>3068.0</td>\n      <td>65.189048</td>\n      <td>97.783572</td>\n      <td>0.0</td>\n      <td>0.666667</td>\n    </tr>\n    <tr>\n      <th>Puebla de Guzmán</th>\n      <td>23.0</td>\n      <td>2.0</td>\n      <td>3.0</td>\n      <td>3073.0</td>\n      <td>65.082981</td>\n      <td>97.624471</td>\n      <td>0.0</td>\n      <td>0.666667</td>\n    </tr>\n    <tr>\n      <th>San Bartolomé de la Torre</th>\n      <td>40.0</td>\n      <td>14.0</td>\n      <td>19.0</td>\n      <td>3736.0</td>\n      <td>374.732334</td>\n      <td>508.565310</td>\n      <td>4.0</td>\n      <td>0.736842</td>\n    </tr>\n    <tr>\n      <th>Santa Ana la Real</th>\n      <td>3.0</td>\n      <td>2.0</td>\n      <td>2.0</td>\n      <td>476.0</td>\n      <td>420.168067</td>\n      <td>420.168067</td>\n      <td>0.0</td>\n      <td>1.000000</td>\n    </tr>\n    <tr>\n      <th>Granada de Río-Tinto (La)</th>\n      <td>1.0</td>\n      <td>1.0</td>\n      <td>1.0</td>\n      <td>239.0</td>\n      <td>418.410042</td>\n      <td>418.410042</td>\n      <td>0.0</td>\n      <td>1.000000</td>\n    </tr>\n    <tr>\n      <th>Zarza-Perrunal (La)</th>\n      <td>13.0</td>\n      <td>1.0</td>\n      <td>1.0</td>\n      <td>1267.0</td>\n      <td>78.926598</td>\n      <td>78.926598</td>\n      <td>0.0</td>\n      <td>1.000000</td>\n    </tr>\n  </tbody>\n</table>\n</div>"
     },
     "metadata": {},
     "execution_count": 18
    }
   ],
   "source": [
    "# Peso de la tasa de la última semana en relación con la tasa a 14 días \n",
    "# Mejor cuanto menor. Valor 1 significa que no había casos antes de 7 días.\n",
    "tabla['7/14'] = tabla['tasa7'] / tabla['tasa14']\n",
    "tabla.fillna(0).sort_values('7/14', ascending=True)"
   ]
  },
  {
   "cell_type": "code",
   "execution_count": null,
   "metadata": {},
   "outputs": [],
   "source": []
  }
 ]
}