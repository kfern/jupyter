{
 "metadata": {
  "language_info": {
   "codemirror_mode": {
    "name": "ipython",
    "version": 3
   },
   "file_extension": ".py",
   "mimetype": "text/x-python",
   "name": "python",
   "nbconvert_exporter": "python",
   "pygments_lexer": "ipython3",
   "version": "3.8.6-final"
  },
  "orig_nbformat": 2,
  "kernelspec": {
   "name": "python38564bit75945252d6ba481bad4868286020c89e",
   "display_name": "Python 3.8.5 64-bit",
   "language": "python"
  }
 },
 "nbformat": 4,
 "nbformat_minor": 2,
 "cells": [
  {
   "cell_type": "code",
   "execution_count": 1,
   "metadata": {},
   "outputs": [],
   "source": [
    "import pandas as pd\n",
    "pd.set_option('display.max_rows', None) # Print all rows"
   ]
  },
  {
   "cell_type": "code",
   "execution_count": 2,
   "metadata": {},
   "outputs": [],
   "source": [
    "# FIX SSL: CERTIFICATE_VERIFY_FAILED with Python3\n",
    "# https://stackoverflow.com/a/49174340\n",
    "import ssl\n",
    "\n",
    "ssl._create_default_https_context = ssl._create_unverified_context"
   ]
  },
  {
   "cell_type": "code",
   "execution_count": 3,
   "metadata": {},
   "outputs": [],
   "source": [
    "url = 'https://www.juntadeandalucia.es/institutodeestadisticaycartografia/badea/stpivot/stpivot/Print?cube=013d884c-cfc5-4c21-9e78-e26225682afd&type=3&foto=si&ejecutaDesde=&codConsulta=38668&consTipoVisua=JP'\n",
    "fields = ['Lugar de residencia', 'Medida', 'Valor']\n",
    "df = pd.read_csv(url, delimiter=';', usecols=fields, decimal=',')"
   ]
  },
  {
   "cell_type": "code",
   "execution_count": 4,
   "metadata": {},
   "outputs": [
    {
     "output_type": "execute_result",
     "data": {
      "text/plain": [
       "  Lugar de residencia                    Medida              Valor\n",
       "0              Huelva                 Población             513170\n",
       "1              Huelva          Confirmados PDIA              24546\n",
       "2              Huelva  Confirmados PDIA 14 días                383\n",
       "3              Huelva         Tasa PDIA 14 días  74,63413683574643\n",
       "4              Huelva   Confirmados PDIA 7 días                119\n",
       "5              Huelva        Total Confirmados               24768\n",
       "6              Huelva                   Curados              16008\n",
       "7              Huelva                Fallecidos                298"
      ],
      "text/html": "<div>\n<style scoped>\n    .dataframe tbody tr th:only-of-type {\n        vertical-align: middle;\n    }\n\n    .dataframe tbody tr th {\n        vertical-align: top;\n    }\n\n    .dataframe thead th {\n        text-align: right;\n    }\n</style>\n<table border=\"1\" class=\"dataframe\">\n  <thead>\n    <tr style=\"text-align: right;\">\n      <th></th>\n      <th>Lugar de residencia</th>\n      <th>Medida</th>\n      <th>Valor</th>\n    </tr>\n  </thead>\n  <tbody>\n    <tr>\n      <th>0</th>\n      <td>Huelva</td>\n      <td>Población</td>\n      <td>513170</td>\n    </tr>\n    <tr>\n      <th>1</th>\n      <td>Huelva</td>\n      <td>Confirmados PDIA</td>\n      <td>24546</td>\n    </tr>\n    <tr>\n      <th>2</th>\n      <td>Huelva</td>\n      <td>Confirmados PDIA 14 días</td>\n      <td>383</td>\n    </tr>\n    <tr>\n      <th>3</th>\n      <td>Huelva</td>\n      <td>Tasa PDIA 14 días</td>\n      <td>74,63413683574643</td>\n    </tr>\n    <tr>\n      <th>4</th>\n      <td>Huelva</td>\n      <td>Confirmados PDIA 7 días</td>\n      <td>119</td>\n    </tr>\n    <tr>\n      <th>5</th>\n      <td>Huelva</td>\n      <td>Total Confirmados</td>\n      <td>24768</td>\n    </tr>\n    <tr>\n      <th>6</th>\n      <td>Huelva</td>\n      <td>Curados</td>\n      <td>16008</td>\n    </tr>\n    <tr>\n      <th>7</th>\n      <td>Huelva</td>\n      <td>Fallecidos</td>\n      <td>298</td>\n    </tr>\n  </tbody>\n</table>\n</div>"
     },
     "metadata": {},
     "execution_count": 4
    }
   ],
   "source": [
    "df[df['Lugar de residencia'] == 'Huelva']"
   ]
  },
  {
   "cell_type": "code",
   "execution_count": 5,
   "metadata": {},
   "outputs": [],
   "source": [
    "df['Valor'] = pd.to_numeric(df['Valor'],errors='coerce')"
   ]
  },
  {
   "cell_type": "code",
   "execution_count": 6,
   "metadata": {},
   "outputs": [],
   "source": [
    "dfAnterior = pd.read_csv('covid_huelva.csv', index_col='Lugar de residencia')"
   ]
  },
  {
   "cell_type": "code",
   "execution_count": 7,
   "metadata": {
    "tags": []
   },
   "outputs": [
    {
     "output_type": "stream",
     "name": "stdout",
     "text": [
      "Confirmados PCR en la provincia de Huelva:  24546.0\n"
     ]
    }
   ],
   "source": [
    "# Confirmados PCR provincia Huelva\n",
    "p = df[df['Lugar de residencia'] == 'Huelva'][df['Medida'] == 'Confirmados PDIA']['Valor'].values[0]\n",
    "print('Confirmados PCR en la provincia de Huelva: ', p)"
   ]
  },
  {
   "cell_type": "code",
   "execution_count": 8,
   "metadata": {
    "tags": []
   },
   "outputs": [
    {
     "output_type": "stream",
     "name": "stdout",
     "text": [
      "Confirmados PCR en Huelva capital:  6546.0\n"
     ]
    }
   ],
   "source": [
    "# Confirmados PCR Huelva capitalpd\n",
    "c = df[df['Lugar de residencia'] == 'Huelva (capital)'][df['Medida'] == 'Confirmados PDIA']['Valor'].values[0]\n",
    "print('Confirmados PCR en Huelva capital: ', c)"
   ]
  },
  {
   "cell_type": "code",
   "execution_count": 9,
   "metadata": {
    "tags": []
   },
   "outputs": [],
   "source": [
    "c7 = df[df['Lugar de residencia'] == 'Huelva (capital)'][df['Medida'] == 'Confirmados PDIA 7 días']['Valor'].values[0]\n",
    "c14 = df[df['Lugar de residencia'] == 'Huelva (capital)'][df['Medida'] == 'Confirmados PDIA 14 días']['Valor'].values[0]\n",
    "p = df[df['Lugar de residencia'] == 'Huelva (capital)'][df['Medida'] == 'Población']['Valor'].values[0]"
   ]
  },
  {
   "cell_type": "code",
   "execution_count": 10,
   "metadata": {
    "tags": []
   },
   "outputs": [
    {
     "output_type": "stream",
     "name": "stdout",
     "text": [
      "Huelva (capital)\n\nUn positivo PCR cada 5137 personas en los últimos 7 días \n\nUn positivo PCR cada 1653 personas en los últimos 14 días\n"
     ]
    }
   ],
   "source": [
    "print('Huelva (capital)\\n')\n",
    "#print('Confirmados PCR 7 días x 1,000 habitantes: ', f\"{c7/(p/1000):.5f}\")\n",
    "print('Un positivo PCR cada', f\"{p/c7:.0f}\", 'personas en los últimos 7 días', '\\n')\n",
    "#print('Confirmados PCR 14 días x 1,000 habitantes: ', f\"{c14/(p/1000):.5f}\")\n",
    "print('Un positivo PCR cada', f\"{p/c14:.0f}\", 'personas en los últimos 14 días')"
   ]
  },
  {
   "cell_type": "code",
   "execution_count": 11,
   "metadata": {},
   "outputs": [],
   "source": [
    "filtro = ((df['Medida'] == 'Confirmados PDIA')| (df['Medida'] == 'Confirmados PDIA 7 días') | (df['Medida'] == 'Población' ) | (df['Medida'] == 'Confirmados PDIA 14 días')) & (df['Valor'] > 0)\n",
    "tabla = pd.pivot_table(df.loc[filtro], values='Valor', index='Lugar de residencia', columns='Medida').dropna()"
   ]
  },
  {
   "cell_type": "code",
   "execution_count": 12,
   "metadata": {},
   "outputs": [],
   "source": [
    "# Reorder columns\n",
    "tabla = tabla[['Confirmados PDIA', 'Confirmados PDIA 7 días', 'Confirmados PDIA 14 días', 'Población']]"
   ]
  },
  {
   "cell_type": "code",
   "execution_count": 13,
   "metadata": {},
   "outputs": [],
   "source": [
    "tabla['tasa7'] = tabla['Confirmados PDIA 7 días']/tabla['Población']*100000\n",
    "tabla['tasa14'] = tabla['Confirmados PDIA 14 días']/tabla['Población']*100000"
   ]
  },
  {
   "cell_type": "code",
   "execution_count": 14,
   "metadata": {},
   "outputs": [],
   "source": [
    "tabla['Diferencia PDIA'] = tabla['Confirmados PDIA'] - dfAnterior['Confirmados PDIA']"
   ]
  },
  {
   "cell_type": "code",
   "execution_count": 15,
   "metadata": {},
   "outputs": [
    {
     "output_type": "execute_result",
     "data": {
      "text/plain": [
       "Medida                     Confirmados PDIA  Confirmados PDIA 7 días  \\\n",
       "Lugar de residencia                                                    \n",
       "Huelva                              24546.0                    119.0   \n",
       "Condado-Campiña                      6857.0                     47.0   \n",
       "Huelva-Costa                        14971.0                     70.0   \n",
       "Lucena del Puerto                     151.0                      5.0   \n",
       "Moguer                                825.0                      9.0   \n",
       "Palma del Condado (La)                974.0                      8.0   \n",
       "Huelva (capital)                     6546.0                     28.0   \n",
       "Ayamonte                             1189.0                      4.0   \n",
       "Bollullos Par del Condado             608.0                      3.0   \n",
       "Cartaya                               939.0                     14.0   \n",
       "Puebla de Guzmán                       84.0                      4.0   \n",
       "Palos de la Frontera                  449.0                      2.0   \n",
       "Punta Umbría                          658.0                      2.0   \n",
       "Almonte                               854.0                     13.0   \n",
       "Gibraleón                             510.0                      1.0   \n",
       "San Juan del Puerto                   358.0                      2.0   \n",
       "Isla Cristina                        1978.0                      4.0   \n",
       "\n",
       "Medida                     Confirmados PDIA 14 días  Población       tasa7  \\\n",
       "Lugar de residencia                                                          \n",
       "Huelva                                        383.0   513170.0   23.189197   \n",
       "Condado-Campiña                               149.0   156231.0   30.083658   \n",
       "Huelva-Costa                                  218.0   289548.0   24.175612   \n",
       "Lucena del Puerto                               5.0     3261.0  153.327200   \n",
       "Moguer                                         28.0    21867.0   41.157909   \n",
       "Palma del Condado (La)                         14.0    10801.0   74.067216   \n",
       "Huelva (capital)                               87.0   143837.0   19.466479   \n",
       "Ayamonte                                       15.0    21104.0   18.953753   \n",
       "Bollullos Par del Condado                      23.0    14387.0   20.852158   \n",
       "Cartaya                                        33.0    20083.0   69.710701   \n",
       "Puebla de Guzmán                                4.0     3092.0  129.366106   \n",
       "Palos de la Frontera                           12.0    11742.0   17.032873   \n",
       "Punta Umbría                                   11.0    15355.0   13.025073   \n",
       "Almonte                                        32.0    24507.0   53.046068   \n",
       "Gibraleón                                       4.0    12737.0    7.851142   \n",
       "San Juan del Puerto                             4.0     9411.0   21.251727   \n",
       "Isla Cristina                                  10.0    21393.0   18.697705   \n",
       "\n",
       "Medida                         tasa14  Diferencia PDIA  \n",
       "Lugar de residencia                                     \n",
       "Huelva                      74.634137             24.0  \n",
       "Condado-Campiña             95.371597             19.0  \n",
       "Huelva-Costa                75.289762              9.0  \n",
       "Lucena del Puerto          153.327200              6.0  \n",
       "Moguer                     128.046829              4.0  \n",
       "Palma del Condado (La)     129.617628              4.0  \n",
       "Huelva (capital)            60.485132              3.0  \n",
       "Ayamonte                    71.076573              3.0  \n",
       "Bollullos Par del Condado  159.866546              2.0  \n",
       "Cartaya                    164.318080              2.0  \n",
       "Puebla de Guzmán           129.366106              2.0  \n",
       "Palos de la Frontera       102.197241              1.0  \n",
       "Punta Umbría                71.637903              1.0  \n",
       "Almonte                    130.574938              1.0  \n",
       "Gibraleón                   31.404569              1.0  \n",
       "San Juan del Puerto         42.503453             -1.0  \n",
       "Isla Cristina               46.744262             -4.0  "
      ],
      "text/html": "<div>\n<style scoped>\n    .dataframe tbody tr th:only-of-type {\n        vertical-align: middle;\n    }\n\n    .dataframe tbody tr th {\n        vertical-align: top;\n    }\n\n    .dataframe thead th {\n        text-align: right;\n    }\n</style>\n<table border=\"1\" class=\"dataframe\">\n  <thead>\n    <tr style=\"text-align: right;\">\n      <th>Medida</th>\n      <th>Confirmados PDIA</th>\n      <th>Confirmados PDIA 7 días</th>\n      <th>Confirmados PDIA 14 días</th>\n      <th>Población</th>\n      <th>tasa7</th>\n      <th>tasa14</th>\n      <th>Diferencia PDIA</th>\n    </tr>\n    <tr>\n      <th>Lugar de residencia</th>\n      <th></th>\n      <th></th>\n      <th></th>\n      <th></th>\n      <th></th>\n      <th></th>\n      <th></th>\n    </tr>\n  </thead>\n  <tbody>\n    <tr>\n      <th>Huelva</th>\n      <td>24546.0</td>\n      <td>119.0</td>\n      <td>383.0</td>\n      <td>513170.0</td>\n      <td>23.189197</td>\n      <td>74.634137</td>\n      <td>24.0</td>\n    </tr>\n    <tr>\n      <th>Condado-Campiña</th>\n      <td>6857.0</td>\n      <td>47.0</td>\n      <td>149.0</td>\n      <td>156231.0</td>\n      <td>30.083658</td>\n      <td>95.371597</td>\n      <td>19.0</td>\n    </tr>\n    <tr>\n      <th>Huelva-Costa</th>\n      <td>14971.0</td>\n      <td>70.0</td>\n      <td>218.0</td>\n      <td>289548.0</td>\n      <td>24.175612</td>\n      <td>75.289762</td>\n      <td>9.0</td>\n    </tr>\n    <tr>\n      <th>Lucena del Puerto</th>\n      <td>151.0</td>\n      <td>5.0</td>\n      <td>5.0</td>\n      <td>3261.0</td>\n      <td>153.327200</td>\n      <td>153.327200</td>\n      <td>6.0</td>\n    </tr>\n    <tr>\n      <th>Moguer</th>\n      <td>825.0</td>\n      <td>9.0</td>\n      <td>28.0</td>\n      <td>21867.0</td>\n      <td>41.157909</td>\n      <td>128.046829</td>\n      <td>4.0</td>\n    </tr>\n    <tr>\n      <th>Palma del Condado (La)</th>\n      <td>974.0</td>\n      <td>8.0</td>\n      <td>14.0</td>\n      <td>10801.0</td>\n      <td>74.067216</td>\n      <td>129.617628</td>\n      <td>4.0</td>\n    </tr>\n    <tr>\n      <th>Huelva (capital)</th>\n      <td>6546.0</td>\n      <td>28.0</td>\n      <td>87.0</td>\n      <td>143837.0</td>\n      <td>19.466479</td>\n      <td>60.485132</td>\n      <td>3.0</td>\n    </tr>\n    <tr>\n      <th>Ayamonte</th>\n      <td>1189.0</td>\n      <td>4.0</td>\n      <td>15.0</td>\n      <td>21104.0</td>\n      <td>18.953753</td>\n      <td>71.076573</td>\n      <td>3.0</td>\n    </tr>\n    <tr>\n      <th>Bollullos Par del Condado</th>\n      <td>608.0</td>\n      <td>3.0</td>\n      <td>23.0</td>\n      <td>14387.0</td>\n      <td>20.852158</td>\n      <td>159.866546</td>\n      <td>2.0</td>\n    </tr>\n    <tr>\n      <th>Cartaya</th>\n      <td>939.0</td>\n      <td>14.0</td>\n      <td>33.0</td>\n      <td>20083.0</td>\n      <td>69.710701</td>\n      <td>164.318080</td>\n      <td>2.0</td>\n    </tr>\n    <tr>\n      <th>Puebla de Guzmán</th>\n      <td>84.0</td>\n      <td>4.0</td>\n      <td>4.0</td>\n      <td>3092.0</td>\n      <td>129.366106</td>\n      <td>129.366106</td>\n      <td>2.0</td>\n    </tr>\n    <tr>\n      <th>Palos de la Frontera</th>\n      <td>449.0</td>\n      <td>2.0</td>\n      <td>12.0</td>\n      <td>11742.0</td>\n      <td>17.032873</td>\n      <td>102.197241</td>\n      <td>1.0</td>\n    </tr>\n    <tr>\n      <th>Punta Umbría</th>\n      <td>658.0</td>\n      <td>2.0</td>\n      <td>11.0</td>\n      <td>15355.0</td>\n      <td>13.025073</td>\n      <td>71.637903</td>\n      <td>1.0</td>\n    </tr>\n    <tr>\n      <th>Almonte</th>\n      <td>854.0</td>\n      <td>13.0</td>\n      <td>32.0</td>\n      <td>24507.0</td>\n      <td>53.046068</td>\n      <td>130.574938</td>\n      <td>1.0</td>\n    </tr>\n    <tr>\n      <th>Gibraleón</th>\n      <td>510.0</td>\n      <td>1.0</td>\n      <td>4.0</td>\n      <td>12737.0</td>\n      <td>7.851142</td>\n      <td>31.404569</td>\n      <td>1.0</td>\n    </tr>\n    <tr>\n      <th>San Juan del Puerto</th>\n      <td>358.0</td>\n      <td>2.0</td>\n      <td>4.0</td>\n      <td>9411.0</td>\n      <td>21.251727</td>\n      <td>42.503453</td>\n      <td>-1.0</td>\n    </tr>\n    <tr>\n      <th>Isla Cristina</th>\n      <td>1978.0</td>\n      <td>4.0</td>\n      <td>10.0</td>\n      <td>21393.0</td>\n      <td>18.697705</td>\n      <td>46.744262</td>\n      <td>-4.0</td>\n    </tr>\n  </tbody>\n</table>\n</div>"
     },
     "metadata": {},
     "execution_count": 15
    }
   ],
   "source": [
    "# Nuevos casos desde la última captura\n",
    "tabla[tabla['Diferencia PDIA'] != 0].sort_values('Diferencia PDIA', ascending=False)"
   ]
  },
  {
   "cell_type": "code",
   "execution_count": 16,
   "metadata": {},
   "outputs": [],
   "source": [
    "if tabla[tabla['Diferencia PDIA'] != 0]['Diferencia PDIA'].sum() != 0:\n",
    "  # Save to csv\n",
    "  tabla.to_csv('covid_huelva.csv', encoding='utf-8', header=True, index=True)  "
   ]
  },
  {
   "cell_type": "code",
   "execution_count": 17,
   "metadata": {},
   "outputs": [
    {
     "output_type": "execute_result",
     "data": {
      "text/plain": [
       "Medida                             Confirmados PDIA  Confirmados PDIA 7 días  \\\n",
       "Lugar de residencia                                                            \n",
       "Villablanca                                   174.0                      2.0   \n",
       "Rosal de la Frontera                           25.0                      1.0   \n",
       "Cartaya                                       939.0                     14.0   \n",
       "Bollullos Par del Condado                     608.0                      3.0   \n",
       "Lucena del Puerto                             151.0                      5.0   \n",
       "Cabezas Rubias                                 29.0                      1.0   \n",
       "Almonte                                       854.0                     13.0   \n",
       "Palma del Condado (La)                        974.0                      8.0   \n",
       "Puebla de Guzmán                               84.0                      4.0   \n",
       "Moguer                                        825.0                      9.0   \n",
       "Rociana del Condado                           309.0                      1.0   \n",
       "Lepe                                         1989.0                      5.0   \n",
       "Palos de la Frontera                          449.0                      2.0   \n",
       "Condado-Campiña                              6857.0                     47.0   \n",
       "Huelva-Costa                                14971.0                     70.0   \n",
       "Huelva                                      24546.0                    119.0   \n",
       "Punta Umbría                                  658.0                      2.0   \n",
       "Ayamonte                                     1189.0                      4.0   \n",
       "Trigueros                                     228.0                      1.0   \n",
       "Huelva (capital)                             6546.0                     28.0   \n",
       "San Bartolomé de la Torre                     193.0                      2.0   \n",
       "Isla Cristina                                1978.0                      4.0   \n",
       "Aljaraque                                     923.0                      6.0   \n",
       "San Juan del Puerto                           358.0                      2.0   \n",
       "Gibraleón                                     510.0                      1.0   \n",
       "Sierra de Huelva-Andévalo Central            2298.0                      1.0   \n",
       "\n",
       "Medida                             Confirmados PDIA 14 días  Población  \\\n",
       "Lugar de residencia                                                      \n",
       "Villablanca                                             9.0     2885.0   \n",
       "Rosal de la Frontera                                    3.0     1697.0   \n",
       "Cartaya                                                33.0    20083.0   \n",
       "Bollullos Par del Condado                              23.0    14387.0   \n",
       "Lucena del Puerto                                       5.0     3261.0   \n",
       "Cabezas Rubias                                          1.0      706.0   \n",
       "Almonte                                                32.0    24507.0   \n",
       "Palma del Condado (La)                                 14.0    10801.0   \n",
       "Puebla de Guzmán                                        4.0     3092.0   \n",
       "Moguer                                                 28.0    21867.0   \n",
       "Rociana del Condado                                     9.0     7939.0   \n",
       "Lepe                                                   30.0    27880.0   \n",
       "Palos de la Frontera                                   12.0    11742.0   \n",
       "Condado-Campiña                                       149.0   156231.0   \n",
       "Huelva-Costa                                          218.0   289548.0   \n",
       "Huelva                                                383.0   513170.0   \n",
       "Punta Umbría                                           11.0    15355.0   \n",
       "Ayamonte                                               15.0    21104.0   \n",
       "Trigueros                                               5.0     7862.0   \n",
       "Huelva (capital)                                       87.0   143837.0   \n",
       "San Bartolomé de la Torre                               2.0     3761.0   \n",
       "Isla Cristina                                          10.0    21393.0   \n",
       "Aljaraque                                              10.0    21474.0   \n",
       "San Juan del Puerto                                     4.0     9411.0   \n",
       "Gibraleón                                               4.0    12737.0   \n",
       "Sierra de Huelva-Andévalo Central                       8.0    67391.0   \n",
       "\n",
       "Medida                                  tasa7      tasa14  Diferencia PDIA  \n",
       "Lugar de residencia                                                         \n",
       "Villablanca                         69.324090  311.958406              0.0  \n",
       "Rosal de la Frontera                58.927519  176.782557              0.0  \n",
       "Cartaya                             69.710701  164.318080              2.0  \n",
       "Bollullos Par del Condado           20.852158  159.866546              2.0  \n",
       "Lucena del Puerto                  153.327200  153.327200              6.0  \n",
       "Cabezas Rubias                     141.643059  141.643059              0.0  \n",
       "Almonte                             53.046068  130.574938              1.0  \n",
       "Palma del Condado (La)              74.067216  129.617628              4.0  \n",
       "Puebla de Guzmán                   129.366106  129.366106              2.0  \n",
       "Moguer                              41.157909  128.046829              4.0  \n",
       "Rociana del Condado                 12.596045  113.364404              0.0  \n",
       "Lepe                                17.934003  107.604017              0.0  \n",
       "Palos de la Frontera                17.032873  102.197241              1.0  \n",
       "Condado-Campiña                     30.083658   95.371597             19.0  \n",
       "Huelva-Costa                        24.175612   75.289762              9.0  \n",
       "Huelva                              23.189197   74.634137             24.0  \n",
       "Punta Umbría                        13.025073   71.637903              1.0  \n",
       "Ayamonte                            18.953753   71.076573              3.0  \n",
       "Trigueros                           12.719410   63.597049              0.0  \n",
       "Huelva (capital)                    19.466479   60.485132              3.0  \n",
       "San Bartolomé de la Torre           53.177346   53.177346              0.0  \n",
       "Isla Cristina                       18.697705   46.744262             -4.0  \n",
       "Aljaraque                           27.940766   46.567943              0.0  \n",
       "San Juan del Puerto                 21.251727   42.503453             -1.0  \n",
       "Gibraleón                            7.851142   31.404569              1.0  \n",
       "Sierra de Huelva-Andévalo Central    1.483878   11.871021              0.0  "
      ],
      "text/html": "<div>\n<style scoped>\n    .dataframe tbody tr th:only-of-type {\n        vertical-align: middle;\n    }\n\n    .dataframe tbody tr th {\n        vertical-align: top;\n    }\n\n    .dataframe thead th {\n        text-align: right;\n    }\n</style>\n<table border=\"1\" class=\"dataframe\">\n  <thead>\n    <tr style=\"text-align: right;\">\n      <th>Medida</th>\n      <th>Confirmados PDIA</th>\n      <th>Confirmados PDIA 7 días</th>\n      <th>Confirmados PDIA 14 días</th>\n      <th>Población</th>\n      <th>tasa7</th>\n      <th>tasa14</th>\n      <th>Diferencia PDIA</th>\n    </tr>\n    <tr>\n      <th>Lugar de residencia</th>\n      <th></th>\n      <th></th>\n      <th></th>\n      <th></th>\n      <th></th>\n      <th></th>\n      <th></th>\n    </tr>\n  </thead>\n  <tbody>\n    <tr>\n      <th>Villablanca</th>\n      <td>174.0</td>\n      <td>2.0</td>\n      <td>9.0</td>\n      <td>2885.0</td>\n      <td>69.324090</td>\n      <td>311.958406</td>\n      <td>0.0</td>\n    </tr>\n    <tr>\n      <th>Rosal de la Frontera</th>\n      <td>25.0</td>\n      <td>1.0</td>\n      <td>3.0</td>\n      <td>1697.0</td>\n      <td>58.927519</td>\n      <td>176.782557</td>\n      <td>0.0</td>\n    </tr>\n    <tr>\n      <th>Cartaya</th>\n      <td>939.0</td>\n      <td>14.0</td>\n      <td>33.0</td>\n      <td>20083.0</td>\n      <td>69.710701</td>\n      <td>164.318080</td>\n      <td>2.0</td>\n    </tr>\n    <tr>\n      <th>Bollullos Par del Condado</th>\n      <td>608.0</td>\n      <td>3.0</td>\n      <td>23.0</td>\n      <td>14387.0</td>\n      <td>20.852158</td>\n      <td>159.866546</td>\n      <td>2.0</td>\n    </tr>\n    <tr>\n      <th>Lucena del Puerto</th>\n      <td>151.0</td>\n      <td>5.0</td>\n      <td>5.0</td>\n      <td>3261.0</td>\n      <td>153.327200</td>\n      <td>153.327200</td>\n      <td>6.0</td>\n    </tr>\n    <tr>\n      <th>Cabezas Rubias</th>\n      <td>29.0</td>\n      <td>1.0</td>\n      <td>1.0</td>\n      <td>706.0</td>\n      <td>141.643059</td>\n      <td>141.643059</td>\n      <td>0.0</td>\n    </tr>\n    <tr>\n      <th>Almonte</th>\n      <td>854.0</td>\n      <td>13.0</td>\n      <td>32.0</td>\n      <td>24507.0</td>\n      <td>53.046068</td>\n      <td>130.574938</td>\n      <td>1.0</td>\n    </tr>\n    <tr>\n      <th>Palma del Condado (La)</th>\n      <td>974.0</td>\n      <td>8.0</td>\n      <td>14.0</td>\n      <td>10801.0</td>\n      <td>74.067216</td>\n      <td>129.617628</td>\n      <td>4.0</td>\n    </tr>\n    <tr>\n      <th>Puebla de Guzmán</th>\n      <td>84.0</td>\n      <td>4.0</td>\n      <td>4.0</td>\n      <td>3092.0</td>\n      <td>129.366106</td>\n      <td>129.366106</td>\n      <td>2.0</td>\n    </tr>\n    <tr>\n      <th>Moguer</th>\n      <td>825.0</td>\n      <td>9.0</td>\n      <td>28.0</td>\n      <td>21867.0</td>\n      <td>41.157909</td>\n      <td>128.046829</td>\n      <td>4.0</td>\n    </tr>\n    <tr>\n      <th>Rociana del Condado</th>\n      <td>309.0</td>\n      <td>1.0</td>\n      <td>9.0</td>\n      <td>7939.0</td>\n      <td>12.596045</td>\n      <td>113.364404</td>\n      <td>0.0</td>\n    </tr>\n    <tr>\n      <th>Lepe</th>\n      <td>1989.0</td>\n      <td>5.0</td>\n      <td>30.0</td>\n      <td>27880.0</td>\n      <td>17.934003</td>\n      <td>107.604017</td>\n      <td>0.0</td>\n    </tr>\n    <tr>\n      <th>Palos de la Frontera</th>\n      <td>449.0</td>\n      <td>2.0</td>\n      <td>12.0</td>\n      <td>11742.0</td>\n      <td>17.032873</td>\n      <td>102.197241</td>\n      <td>1.0</td>\n    </tr>\n    <tr>\n      <th>Condado-Campiña</th>\n      <td>6857.0</td>\n      <td>47.0</td>\n      <td>149.0</td>\n      <td>156231.0</td>\n      <td>30.083658</td>\n      <td>95.371597</td>\n      <td>19.0</td>\n    </tr>\n    <tr>\n      <th>Huelva-Costa</th>\n      <td>14971.0</td>\n      <td>70.0</td>\n      <td>218.0</td>\n      <td>289548.0</td>\n      <td>24.175612</td>\n      <td>75.289762</td>\n      <td>9.0</td>\n    </tr>\n    <tr>\n      <th>Huelva</th>\n      <td>24546.0</td>\n      <td>119.0</td>\n      <td>383.0</td>\n      <td>513170.0</td>\n      <td>23.189197</td>\n      <td>74.634137</td>\n      <td>24.0</td>\n    </tr>\n    <tr>\n      <th>Punta Umbría</th>\n      <td>658.0</td>\n      <td>2.0</td>\n      <td>11.0</td>\n      <td>15355.0</td>\n      <td>13.025073</td>\n      <td>71.637903</td>\n      <td>1.0</td>\n    </tr>\n    <tr>\n      <th>Ayamonte</th>\n      <td>1189.0</td>\n      <td>4.0</td>\n      <td>15.0</td>\n      <td>21104.0</td>\n      <td>18.953753</td>\n      <td>71.076573</td>\n      <td>3.0</td>\n    </tr>\n    <tr>\n      <th>Trigueros</th>\n      <td>228.0</td>\n      <td>1.0</td>\n      <td>5.0</td>\n      <td>7862.0</td>\n      <td>12.719410</td>\n      <td>63.597049</td>\n      <td>0.0</td>\n    </tr>\n    <tr>\n      <th>Huelva (capital)</th>\n      <td>6546.0</td>\n      <td>28.0</td>\n      <td>87.0</td>\n      <td>143837.0</td>\n      <td>19.466479</td>\n      <td>60.485132</td>\n      <td>3.0</td>\n    </tr>\n    <tr>\n      <th>San Bartolomé de la Torre</th>\n      <td>193.0</td>\n      <td>2.0</td>\n      <td>2.0</td>\n      <td>3761.0</td>\n      <td>53.177346</td>\n      <td>53.177346</td>\n      <td>0.0</td>\n    </tr>\n    <tr>\n      <th>Isla Cristina</th>\n      <td>1978.0</td>\n      <td>4.0</td>\n      <td>10.0</td>\n      <td>21393.0</td>\n      <td>18.697705</td>\n      <td>46.744262</td>\n      <td>-4.0</td>\n    </tr>\n    <tr>\n      <th>Aljaraque</th>\n      <td>923.0</td>\n      <td>6.0</td>\n      <td>10.0</td>\n      <td>21474.0</td>\n      <td>27.940766</td>\n      <td>46.567943</td>\n      <td>0.0</td>\n    </tr>\n    <tr>\n      <th>San Juan del Puerto</th>\n      <td>358.0</td>\n      <td>2.0</td>\n      <td>4.0</td>\n      <td>9411.0</td>\n      <td>21.251727</td>\n      <td>42.503453</td>\n      <td>-1.0</td>\n    </tr>\n    <tr>\n      <th>Gibraleón</th>\n      <td>510.0</td>\n      <td>1.0</td>\n      <td>4.0</td>\n      <td>12737.0</td>\n      <td>7.851142</td>\n      <td>31.404569</td>\n      <td>1.0</td>\n    </tr>\n    <tr>\n      <th>Sierra de Huelva-Andévalo Central</th>\n      <td>2298.0</td>\n      <td>1.0</td>\n      <td>8.0</td>\n      <td>67391.0</td>\n      <td>1.483878</td>\n      <td>11.871021</td>\n      <td>0.0</td>\n    </tr>\n  </tbody>\n</table>\n</div>"
     },
     "metadata": {},
     "execution_count": 17
    }
   ],
   "source": [
    "tabla.sort_values('tasa14', ascending=False)"
   ]
  },
  {
   "cell_type": "code",
   "execution_count": 18,
   "metadata": {},
   "outputs": [
    {
     "output_type": "execute_result",
     "data": {
      "text/plain": [
       "Medida                             Confirmados PDIA  Confirmados PDIA 7 días  \\\n",
       "Lugar de residencia                                                            \n",
       "Rociana del Condado                           309.0                      1.0   \n",
       "Sierra de Huelva-Andévalo Central            2298.0                      1.0   \n",
       "Bollullos Par del Condado                     608.0                      3.0   \n",
       "Palos de la Frontera                          449.0                      2.0   \n",
       "Lepe                                         1989.0                      5.0   \n",
       "Punta Umbría                                  658.0                      2.0   \n",
       "Trigueros                                     228.0                      1.0   \n",
       "Villablanca                                   174.0                      2.0   \n",
       "Gibraleón                                     510.0                      1.0   \n",
       "Ayamonte                                     1189.0                      4.0   \n",
       "Huelva                                      24546.0                    119.0   \n",
       "Condado-Campiña                              6857.0                     47.0   \n",
       "Huelva-Costa                                14971.0                     70.0   \n",
       "Moguer                                        825.0                      9.0   \n",
       "Huelva (capital)                             6546.0                     28.0   \n",
       "Rosal de la Frontera                           25.0                      1.0   \n",
       "Isla Cristina                                1978.0                      4.0   \n",
       "Almonte                                       854.0                     13.0   \n",
       "Cartaya                                       939.0                     14.0   \n",
       "San Juan del Puerto                           358.0                      2.0   \n",
       "Palma del Condado (La)                        974.0                      8.0   \n",
       "Aljaraque                                     923.0                      6.0   \n",
       "Puebla de Guzmán                               84.0                      4.0   \n",
       "San Bartolomé de la Torre                     193.0                      2.0   \n",
       "Lucena del Puerto                             151.0                      5.0   \n",
       "Cabezas Rubias                                 29.0                      1.0   \n",
       "\n",
       "Medida                             Confirmados PDIA 14 días  Población  \\\n",
       "Lugar de residencia                                                      \n",
       "Rociana del Condado                                     9.0     7939.0   \n",
       "Sierra de Huelva-Andévalo Central                       8.0    67391.0   \n",
       "Bollullos Par del Condado                              23.0    14387.0   \n",
       "Palos de la Frontera                                   12.0    11742.0   \n",
       "Lepe                                                   30.0    27880.0   \n",
       "Punta Umbría                                           11.0    15355.0   \n",
       "Trigueros                                               5.0     7862.0   \n",
       "Villablanca                                             9.0     2885.0   \n",
       "Gibraleón                                               4.0    12737.0   \n",
       "Ayamonte                                               15.0    21104.0   \n",
       "Huelva                                                383.0   513170.0   \n",
       "Condado-Campiña                                       149.0   156231.0   \n",
       "Huelva-Costa                                          218.0   289548.0   \n",
       "Moguer                                                 28.0    21867.0   \n",
       "Huelva (capital)                                       87.0   143837.0   \n",
       "Rosal de la Frontera                                    3.0     1697.0   \n",
       "Isla Cristina                                          10.0    21393.0   \n",
       "Almonte                                                32.0    24507.0   \n",
       "Cartaya                                                33.0    20083.0   \n",
       "San Juan del Puerto                                     4.0     9411.0   \n",
       "Palma del Condado (La)                                 14.0    10801.0   \n",
       "Aljaraque                                              10.0    21474.0   \n",
       "Puebla de Guzmán                                        4.0     3092.0   \n",
       "San Bartolomé de la Torre                               2.0     3761.0   \n",
       "Lucena del Puerto                                       5.0     3261.0   \n",
       "Cabezas Rubias                                          1.0      706.0   \n",
       "\n",
       "Medida                                  tasa7      tasa14  Diferencia PDIA  \\\n",
       "Lugar de residencia                                                          \n",
       "Rociana del Condado                 12.596045  113.364404              0.0   \n",
       "Sierra de Huelva-Andévalo Central    1.483878   11.871021              0.0   \n",
       "Bollullos Par del Condado           20.852158  159.866546              2.0   \n",
       "Palos de la Frontera                17.032873  102.197241              1.0   \n",
       "Lepe                                17.934003  107.604017              0.0   \n",
       "Punta Umbría                        13.025073   71.637903              1.0   \n",
       "Trigueros                           12.719410   63.597049              0.0   \n",
       "Villablanca                         69.324090  311.958406              0.0   \n",
       "Gibraleón                            7.851142   31.404569              1.0   \n",
       "Ayamonte                            18.953753   71.076573              3.0   \n",
       "Huelva                              23.189197   74.634137             24.0   \n",
       "Condado-Campiña                     30.083658   95.371597             19.0   \n",
       "Huelva-Costa                        24.175612   75.289762              9.0   \n",
       "Moguer                              41.157909  128.046829              4.0   \n",
       "Huelva (capital)                    19.466479   60.485132              3.0   \n",
       "Rosal de la Frontera                58.927519  176.782557              0.0   \n",
       "Isla Cristina                       18.697705   46.744262             -4.0   \n",
       "Almonte                             53.046068  130.574938              1.0   \n",
       "Cartaya                             69.710701  164.318080              2.0   \n",
       "San Juan del Puerto                 21.251727   42.503453             -1.0   \n",
       "Palma del Condado (La)              74.067216  129.617628              4.0   \n",
       "Aljaraque                           27.940766   46.567943              0.0   \n",
       "Puebla de Guzmán                   129.366106  129.366106              2.0   \n",
       "San Bartolomé de la Torre           53.177346   53.177346              0.0   \n",
       "Lucena del Puerto                  153.327200  153.327200              6.0   \n",
       "Cabezas Rubias                     141.643059  141.643059              0.0   \n",
       "\n",
       "Medida                                 7/14  \n",
       "Lugar de residencia                          \n",
       "Rociana del Condado                0.111111  \n",
       "Sierra de Huelva-Andévalo Central  0.125000  \n",
       "Bollullos Par del Condado          0.130435  \n",
       "Palos de la Frontera               0.166667  \n",
       "Lepe                               0.166667  \n",
       "Punta Umbría                       0.181818  \n",
       "Trigueros                          0.200000  \n",
       "Villablanca                        0.222222  \n",
       "Gibraleón                          0.250000  \n",
       "Ayamonte                           0.266667  \n",
       "Huelva                             0.310705  \n",
       "Condado-Campiña                    0.315436  \n",
       "Huelva-Costa                       0.321101  \n",
       "Moguer                             0.321429  \n",
       "Huelva (capital)                   0.321839  \n",
       "Rosal de la Frontera               0.333333  \n",
       "Isla Cristina                      0.400000  \n",
       "Almonte                            0.406250  \n",
       "Cartaya                            0.424242  \n",
       "San Juan del Puerto                0.500000  \n",
       "Palma del Condado (La)             0.571429  \n",
       "Aljaraque                          0.600000  \n",
       "Puebla de Guzmán                   1.000000  \n",
       "San Bartolomé de la Torre          1.000000  \n",
       "Lucena del Puerto                  1.000000  \n",
       "Cabezas Rubias                     1.000000  "
      ],
      "text/html": "<div>\n<style scoped>\n    .dataframe tbody tr th:only-of-type {\n        vertical-align: middle;\n    }\n\n    .dataframe tbody tr th {\n        vertical-align: top;\n    }\n\n    .dataframe thead th {\n        text-align: right;\n    }\n</style>\n<table border=\"1\" class=\"dataframe\">\n  <thead>\n    <tr style=\"text-align: right;\">\n      <th>Medida</th>\n      <th>Confirmados PDIA</th>\n      <th>Confirmados PDIA 7 días</th>\n      <th>Confirmados PDIA 14 días</th>\n      <th>Población</th>\n      <th>tasa7</th>\n      <th>tasa14</th>\n      <th>Diferencia PDIA</th>\n      <th>7/14</th>\n    </tr>\n    <tr>\n      <th>Lugar de residencia</th>\n      <th></th>\n      <th></th>\n      <th></th>\n      <th></th>\n      <th></th>\n      <th></th>\n      <th></th>\n      <th></th>\n    </tr>\n  </thead>\n  <tbody>\n    <tr>\n      <th>Rociana del Condado</th>\n      <td>309.0</td>\n      <td>1.0</td>\n      <td>9.0</td>\n      <td>7939.0</td>\n      <td>12.596045</td>\n      <td>113.364404</td>\n      <td>0.0</td>\n      <td>0.111111</td>\n    </tr>\n    <tr>\n      <th>Sierra de Huelva-Andévalo Central</th>\n      <td>2298.0</td>\n      <td>1.0</td>\n      <td>8.0</td>\n      <td>67391.0</td>\n      <td>1.483878</td>\n      <td>11.871021</td>\n      <td>0.0</td>\n      <td>0.125000</td>\n    </tr>\n    <tr>\n      <th>Bollullos Par del Condado</th>\n      <td>608.0</td>\n      <td>3.0</td>\n      <td>23.0</td>\n      <td>14387.0</td>\n      <td>20.852158</td>\n      <td>159.866546</td>\n      <td>2.0</td>\n      <td>0.130435</td>\n    </tr>\n    <tr>\n      <th>Palos de la Frontera</th>\n      <td>449.0</td>\n      <td>2.0</td>\n      <td>12.0</td>\n      <td>11742.0</td>\n      <td>17.032873</td>\n      <td>102.197241</td>\n      <td>1.0</td>\n      <td>0.166667</td>\n    </tr>\n    <tr>\n      <th>Lepe</th>\n      <td>1989.0</td>\n      <td>5.0</td>\n      <td>30.0</td>\n      <td>27880.0</td>\n      <td>17.934003</td>\n      <td>107.604017</td>\n      <td>0.0</td>\n      <td>0.166667</td>\n    </tr>\n    <tr>\n      <th>Punta Umbría</th>\n      <td>658.0</td>\n      <td>2.0</td>\n      <td>11.0</td>\n      <td>15355.0</td>\n      <td>13.025073</td>\n      <td>71.637903</td>\n      <td>1.0</td>\n      <td>0.181818</td>\n    </tr>\n    <tr>\n      <th>Trigueros</th>\n      <td>228.0</td>\n      <td>1.0</td>\n      <td>5.0</td>\n      <td>7862.0</td>\n      <td>12.719410</td>\n      <td>63.597049</td>\n      <td>0.0</td>\n      <td>0.200000</td>\n    </tr>\n    <tr>\n      <th>Villablanca</th>\n      <td>174.0</td>\n      <td>2.0</td>\n      <td>9.0</td>\n      <td>2885.0</td>\n      <td>69.324090</td>\n      <td>311.958406</td>\n      <td>0.0</td>\n      <td>0.222222</td>\n    </tr>\n    <tr>\n      <th>Gibraleón</th>\n      <td>510.0</td>\n      <td>1.0</td>\n      <td>4.0</td>\n      <td>12737.0</td>\n      <td>7.851142</td>\n      <td>31.404569</td>\n      <td>1.0</td>\n      <td>0.250000</td>\n    </tr>\n    <tr>\n      <th>Ayamonte</th>\n      <td>1189.0</td>\n      <td>4.0</td>\n      <td>15.0</td>\n      <td>21104.0</td>\n      <td>18.953753</td>\n      <td>71.076573</td>\n      <td>3.0</td>\n      <td>0.266667</td>\n    </tr>\n    <tr>\n      <th>Huelva</th>\n      <td>24546.0</td>\n      <td>119.0</td>\n      <td>383.0</td>\n      <td>513170.0</td>\n      <td>23.189197</td>\n      <td>74.634137</td>\n      <td>24.0</td>\n      <td>0.310705</td>\n    </tr>\n    <tr>\n      <th>Condado-Campiña</th>\n      <td>6857.0</td>\n      <td>47.0</td>\n      <td>149.0</td>\n      <td>156231.0</td>\n      <td>30.083658</td>\n      <td>95.371597</td>\n      <td>19.0</td>\n      <td>0.315436</td>\n    </tr>\n    <tr>\n      <th>Huelva-Costa</th>\n      <td>14971.0</td>\n      <td>70.0</td>\n      <td>218.0</td>\n      <td>289548.0</td>\n      <td>24.175612</td>\n      <td>75.289762</td>\n      <td>9.0</td>\n      <td>0.321101</td>\n    </tr>\n    <tr>\n      <th>Moguer</th>\n      <td>825.0</td>\n      <td>9.0</td>\n      <td>28.0</td>\n      <td>21867.0</td>\n      <td>41.157909</td>\n      <td>128.046829</td>\n      <td>4.0</td>\n      <td>0.321429</td>\n    </tr>\n    <tr>\n      <th>Huelva (capital)</th>\n      <td>6546.0</td>\n      <td>28.0</td>\n      <td>87.0</td>\n      <td>143837.0</td>\n      <td>19.466479</td>\n      <td>60.485132</td>\n      <td>3.0</td>\n      <td>0.321839</td>\n    </tr>\n    <tr>\n      <th>Rosal de la Frontera</th>\n      <td>25.0</td>\n      <td>1.0</td>\n      <td>3.0</td>\n      <td>1697.0</td>\n      <td>58.927519</td>\n      <td>176.782557</td>\n      <td>0.0</td>\n      <td>0.333333</td>\n    </tr>\n    <tr>\n      <th>Isla Cristina</th>\n      <td>1978.0</td>\n      <td>4.0</td>\n      <td>10.0</td>\n      <td>21393.0</td>\n      <td>18.697705</td>\n      <td>46.744262</td>\n      <td>-4.0</td>\n      <td>0.400000</td>\n    </tr>\n    <tr>\n      <th>Almonte</th>\n      <td>854.0</td>\n      <td>13.0</td>\n      <td>32.0</td>\n      <td>24507.0</td>\n      <td>53.046068</td>\n      <td>130.574938</td>\n      <td>1.0</td>\n      <td>0.406250</td>\n    </tr>\n    <tr>\n      <th>Cartaya</th>\n      <td>939.0</td>\n      <td>14.0</td>\n      <td>33.0</td>\n      <td>20083.0</td>\n      <td>69.710701</td>\n      <td>164.318080</td>\n      <td>2.0</td>\n      <td>0.424242</td>\n    </tr>\n    <tr>\n      <th>San Juan del Puerto</th>\n      <td>358.0</td>\n      <td>2.0</td>\n      <td>4.0</td>\n      <td>9411.0</td>\n      <td>21.251727</td>\n      <td>42.503453</td>\n      <td>-1.0</td>\n      <td>0.500000</td>\n    </tr>\n    <tr>\n      <th>Palma del Condado (La)</th>\n      <td>974.0</td>\n      <td>8.0</td>\n      <td>14.0</td>\n      <td>10801.0</td>\n      <td>74.067216</td>\n      <td>129.617628</td>\n      <td>4.0</td>\n      <td>0.571429</td>\n    </tr>\n    <tr>\n      <th>Aljaraque</th>\n      <td>923.0</td>\n      <td>6.0</td>\n      <td>10.0</td>\n      <td>21474.0</td>\n      <td>27.940766</td>\n      <td>46.567943</td>\n      <td>0.0</td>\n      <td>0.600000</td>\n    </tr>\n    <tr>\n      <th>Puebla de Guzmán</th>\n      <td>84.0</td>\n      <td>4.0</td>\n      <td>4.0</td>\n      <td>3092.0</td>\n      <td>129.366106</td>\n      <td>129.366106</td>\n      <td>2.0</td>\n      <td>1.000000</td>\n    </tr>\n    <tr>\n      <th>San Bartolomé de la Torre</th>\n      <td>193.0</td>\n      <td>2.0</td>\n      <td>2.0</td>\n      <td>3761.0</td>\n      <td>53.177346</td>\n      <td>53.177346</td>\n      <td>0.0</td>\n      <td>1.000000</td>\n    </tr>\n    <tr>\n      <th>Lucena del Puerto</th>\n      <td>151.0</td>\n      <td>5.0</td>\n      <td>5.0</td>\n      <td>3261.0</td>\n      <td>153.327200</td>\n      <td>153.327200</td>\n      <td>6.0</td>\n      <td>1.000000</td>\n    </tr>\n    <tr>\n      <th>Cabezas Rubias</th>\n      <td>29.0</td>\n      <td>1.0</td>\n      <td>1.0</td>\n      <td>706.0</td>\n      <td>141.643059</td>\n      <td>141.643059</td>\n      <td>0.0</td>\n      <td>1.000000</td>\n    </tr>\n  </tbody>\n</table>\n</div>"
     },
     "metadata": {},
     "execution_count": 18
    }
   ],
   "source": [
    "# Peso de la tasa de la última semana en relación con la tasa a 14 días \n",
    "# Mejor cuanto menor. Valor 1 significa que no había casos antes de 7 días.\n",
    "tabla['7/14'] = tabla['tasa7'] / tabla['tasa14']\n",
    "tabla.fillna(0).sort_values('7/14', ascending=True)"
   ]
  },
  {
   "cell_type": "code",
   "execution_count": null,
   "metadata": {},
   "outputs": [],
   "source": []
  }
 ]
}