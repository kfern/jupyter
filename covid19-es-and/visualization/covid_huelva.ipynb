{
 "metadata": {
  "language_info": {
   "codemirror_mode": {
    "name": "ipython",
    "version": 3
   },
   "file_extension": ".py",
   "mimetype": "text/x-python",
   "name": "python",
   "nbconvert_exporter": "python",
   "pygments_lexer": "ipython3",
   "version": "3.8.6-final"
  },
  "orig_nbformat": 2,
  "kernelspec": {
   "name": "python38564bit75945252d6ba481bad4868286020c89e",
   "display_name": "Python 3.8.5 64-bit",
   "language": "python"
  }
 },
 "nbformat": 4,
 "nbformat_minor": 2,
 "cells": [
  {
   "cell_type": "code",
   "execution_count": 1,
   "metadata": {},
   "outputs": [],
   "source": [
    "import pandas as pd\n",
    "pd.set_option('display.max_rows', None) # Print all rows"
   ]
  },
  {
   "cell_type": "code",
   "execution_count": 2,
   "metadata": {},
   "outputs": [],
   "source": [
    "# FIX SSL: CERTIFICATE_VERIFY_FAILED with Python3\n",
    "# https://stackoverflow.com/a/49174340\n",
    "import ssl\n",
    "\n",
    "ssl._create_default_https_context = ssl._create_unverified_context"
   ]
  },
  {
   "cell_type": "code",
   "execution_count": 3,
   "metadata": {},
   "outputs": [],
   "source": [
    "url = 'https://www.juntadeandalucia.es/institutodeestadisticaycartografia/badea/stpivot/stpivot/Print?cube=013d884c-cfc5-4c21-9e78-e26225682afd&type=3&foto=si&ejecutaDesde=&codConsulta=38668&consTipoVisua=JP'\n",
    "fields = ['Lugar de residencia', 'Medida', 'Valor']\n",
    "df = pd.read_csv(url, delimiter=';', usecols=fields, decimal=',')"
   ]
  },
  {
   "cell_type": "code",
   "execution_count": 4,
   "metadata": {},
   "outputs": [
    {
     "output_type": "execute_result",
     "data": {
      "text/plain": [
       "  Lugar de residencia                    Medida               Valor\n",
       "0              Huelva                 Población              513170\n",
       "1              Huelva          Confirmados PDIA               24385\n",
       "2              Huelva  Confirmados PDIA 14 días                 814\n",
       "3              Huelva         Tasa PDIA 14 días  158,62189917571175\n",
       "4              Huelva   Confirmados PDIA 7 días                 269\n",
       "5              Huelva        Total Confirmados                24613\n",
       "6              Huelva                   Curados               14508\n",
       "7              Huelva                Fallecidos                 278"
      ],
      "text/html": "<div>\n<style scoped>\n    .dataframe tbody tr th:only-of-type {\n        vertical-align: middle;\n    }\n\n    .dataframe tbody tr th {\n        vertical-align: top;\n    }\n\n    .dataframe thead th {\n        text-align: right;\n    }\n</style>\n<table border=\"1\" class=\"dataframe\">\n  <thead>\n    <tr style=\"text-align: right;\">\n      <th></th>\n      <th>Lugar de residencia</th>\n      <th>Medida</th>\n      <th>Valor</th>\n    </tr>\n  </thead>\n  <tbody>\n    <tr>\n      <th>0</th>\n      <td>Huelva</td>\n      <td>Población</td>\n      <td>513170</td>\n    </tr>\n    <tr>\n      <th>1</th>\n      <td>Huelva</td>\n      <td>Confirmados PDIA</td>\n      <td>24385</td>\n    </tr>\n    <tr>\n      <th>2</th>\n      <td>Huelva</td>\n      <td>Confirmados PDIA 14 días</td>\n      <td>814</td>\n    </tr>\n    <tr>\n      <th>3</th>\n      <td>Huelva</td>\n      <td>Tasa PDIA 14 días</td>\n      <td>158,62189917571175</td>\n    </tr>\n    <tr>\n      <th>4</th>\n      <td>Huelva</td>\n      <td>Confirmados PDIA 7 días</td>\n      <td>269</td>\n    </tr>\n    <tr>\n      <th>5</th>\n      <td>Huelva</td>\n      <td>Total Confirmados</td>\n      <td>24613</td>\n    </tr>\n    <tr>\n      <th>6</th>\n      <td>Huelva</td>\n      <td>Curados</td>\n      <td>14508</td>\n    </tr>\n    <tr>\n      <th>7</th>\n      <td>Huelva</td>\n      <td>Fallecidos</td>\n      <td>278</td>\n    </tr>\n  </tbody>\n</table>\n</div>"
     },
     "metadata": {},
     "execution_count": 4
    }
   ],
   "source": [
    "df[df['Lugar de residencia'] == 'Huelva']"
   ]
  },
  {
   "cell_type": "code",
   "execution_count": 5,
   "metadata": {},
   "outputs": [],
   "source": [
    "df['Valor'] = pd.to_numeric(df['Valor'],errors='coerce')"
   ]
  },
  {
   "cell_type": "code",
   "execution_count": 6,
   "metadata": {},
   "outputs": [],
   "source": [
    "dfAnterior = pd.read_csv('covid_huelva.csv', index_col='Lugar de residencia')"
   ]
  },
  {
   "cell_type": "code",
   "execution_count": 7,
   "metadata": {
    "tags": []
   },
   "outputs": [
    {
     "output_type": "stream",
     "name": "stdout",
     "text": [
      "Confirmados PCR en la provincia de Huelva:  24385.0\n"
     ]
    }
   ],
   "source": [
    "# Confirmados PCR provincia Huelva\n",
    "p = df[df['Lugar de residencia'] == 'Huelva'][df['Medida'] == 'Confirmados PDIA']['Valor'].values[0]\n",
    "print('Confirmados PCR en la provincia de Huelva: ', p)"
   ]
  },
  {
   "cell_type": "code",
   "execution_count": 8,
   "metadata": {
    "tags": []
   },
   "outputs": [
    {
     "output_type": "stream",
     "name": "stdout",
     "text": [
      "Confirmados PCR en Huelva capital:  6510.0\n"
     ]
    }
   ],
   "source": [
    "# Confirmados PCR Huelva capitalpd\n",
    "c = df[df['Lugar de residencia'] == 'Huelva (capital)'][df['Medida'] == 'Confirmados PDIA']['Valor'].values[0]\n",
    "print('Confirmados PCR en Huelva capital: ', c)"
   ]
  },
  {
   "cell_type": "code",
   "execution_count": 9,
   "metadata": {
    "tags": []
   },
   "outputs": [],
   "source": [
    "c7 = df[df['Lugar de residencia'] == 'Huelva (capital)'][df['Medida'] == 'Confirmados PDIA 7 días']['Valor'].values[0]\n",
    "c14 = df[df['Lugar de residencia'] == 'Huelva (capital)'][df['Medida'] == 'Confirmados PDIA 14 días']['Valor'].values[0]\n",
    "p = df[df['Lugar de residencia'] == 'Huelva (capital)'][df['Medida'] == 'Población']['Valor'].values[0]"
   ]
  },
  {
   "cell_type": "code",
   "execution_count": 10,
   "metadata": {
    "tags": []
   },
   "outputs": [
    {
     "output_type": "stream",
     "name": "stdout",
     "text": [
      "Huelva (capital)\n\nUn positivo PCR cada 2055 personas en los últimos 7 días \n\nUn positivo PCR cada 575 personas en los últimos 14 días\n"
     ]
    }
   ],
   "source": [
    "print('Huelva (capital)\\n')\n",
    "#print('Confirmados PCR 7 días x 1,000 habitantes: ', f\"{c7/(p/1000):.5f}\")\n",
    "print('Un positivo PCR cada', f\"{p/c7:.0f}\", 'personas en los últimos 7 días', '\\n')\n",
    "#print('Confirmados PCR 14 días x 1,000 habitantes: ', f\"{c14/(p/1000):.5f}\")\n",
    "print('Un positivo PCR cada', f\"{p/c14:.0f}\", 'personas en los últimos 14 días')"
   ]
  },
  {
   "cell_type": "code",
   "execution_count": 11,
   "metadata": {},
   "outputs": [],
   "source": [
    "filtro = ((df['Medida'] == 'Confirmados PDIA')| (df['Medida'] == 'Confirmados PDIA 7 días') | (df['Medida'] == 'Población' ) | (df['Medida'] == 'Confirmados PDIA 14 días')) & (df['Valor'] > 0)\n",
    "tabla = pd.pivot_table(df.loc[filtro], values='Valor', index='Lugar de residencia', columns='Medida').dropna()"
   ]
  },
  {
   "cell_type": "code",
   "execution_count": 12,
   "metadata": {},
   "outputs": [],
   "source": [
    "# Reorder columns\n",
    "tabla = tabla[['Confirmados PDIA', 'Confirmados PDIA 7 días', 'Confirmados PDIA 14 días', 'Población']]"
   ]
  },
  {
   "cell_type": "code",
   "execution_count": 13,
   "metadata": {},
   "outputs": [],
   "source": [
    "tabla['tasa7'] = tabla['Confirmados PDIA 7 días']/tabla['Población']*100000\n",
    "tabla['tasa14'] = tabla['Confirmados PDIA 14 días']/tabla['Población']*100000"
   ]
  },
  {
   "cell_type": "code",
   "execution_count": 14,
   "metadata": {},
   "outputs": [],
   "source": [
    "tabla['Diferencia PDIA'] = tabla['Confirmados PDIA'] - dfAnterior['Confirmados PDIA']"
   ]
  },
  {
   "cell_type": "code",
   "execution_count": 15,
   "metadata": {},
   "outputs": [
    {
     "output_type": "execute_result",
     "data": {
      "text/plain": [
       "Medida                             Confirmados PDIA  Confirmados PDIA 7 días  \\\n",
       "Lugar de residencia                                                            \n",
       "Huelva                                      24385.0                    269.0   \n",
       "Huelva-Costa                                14873.0                    158.0   \n",
       "Condado-Campiña                              6781.0                     99.0   \n",
       "Huelva (capital)                             6510.0                     70.0   \n",
       "Lepe                                         1978.0                     24.0   \n",
       "Cartaya                                       922.0                     21.0   \n",
       "Moguer                                        814.0                     20.0   \n",
       "Bollullos Par del Condado                     598.0                     16.0   \n",
       "Punta Umbría                                  653.0                     11.0   \n",
       "Rociana del Condado                           308.0                      8.0   \n",
       "Palos de la Frontera                          443.0                      9.0   \n",
       "Villablanca                                   171.0                      8.0   \n",
       "San Juan del Puerto                           357.0                      2.0   \n",
       "Villanueva de los Castillejos                 149.0                      5.0   \n",
       "Isla Cristina                                1975.0                      5.0   \n",
       "Palma del Condado (La)                        962.0                      3.0   \n",
       "Sierra de Huelva-Andévalo Central            2301.0                      6.0   \n",
       "Bonares                                       178.0                      2.0   \n",
       "Aljaraque                                     916.0                      2.0   \n",
       "Rosal de la Frontera                           23.0                      1.0   \n",
       "\n",
       "Medida                             Confirmados PDIA 14 días  Población  \\\n",
       "Lugar de residencia                                                      \n",
       "Huelva                                                814.0   513170.0   \n",
       "Huelva-Costa                                          513.0   289548.0   \n",
       "Condado-Campiña                                       252.0   156231.0   \n",
       "Huelva (capital)                                      250.0   143837.0   \n",
       "Lepe                                                   79.0    27880.0   \n",
       "Cartaya                                                62.0    20083.0   \n",
       "Moguer                                                 39.0    21867.0   \n",
       "Bollullos Par del Condado                              42.0    14387.0   \n",
       "Punta Umbría                                           23.0    15355.0   \n",
       "Rociana del Condado                                    21.0     7939.0   \n",
       "Palos de la Frontera                                   16.0    11742.0   \n",
       "Villablanca                                            10.0     2885.0   \n",
       "San Juan del Puerto                                     6.0     9411.0   \n",
       "Villanueva de los Castillejos                          10.0     2825.0   \n",
       "Isla Cristina                                          35.0    21393.0   \n",
       "Palma del Condado (La)                                 10.0    10801.0   \n",
       "Sierra de Huelva-Andévalo Central                      28.0    67391.0   \n",
       "Bonares                                                 4.0     6060.0   \n",
       "Aljaraque                                              15.0    21474.0   \n",
       "Rosal de la Frontera                                    1.0     1697.0   \n",
       "\n",
       "Medida                                  tasa7      tasa14  Diferencia PDIA  \n",
       "Lugar de residencia                                                         \n",
       "Huelva                              52.419276  158.621899             59.0  \n",
       "Huelva-Costa                        54.567809  177.172697             38.0  \n",
       "Condado-Campiña                     63.367706  161.299614             19.0  \n",
       "Huelva (capital)                    48.666199  173.807852             12.0  \n",
       "Lepe                                86.083214  283.357245             11.0  \n",
       "Cartaya                            104.566051  308.718817              5.0  \n",
       "Moguer                              91.462020  178.350940              5.0  \n",
       "Bollullos Par del Condado          111.211510  291.930215              4.0  \n",
       "Punta Umbría                        71.637903  149.788343              3.0  \n",
       "Rociana del Condado                100.768359  264.516942              3.0  \n",
       "Palos de la Frontera                76.647931  136.262988              3.0  \n",
       "Villablanca                        277.296360  346.620451              2.0  \n",
       "San Juan del Puerto                 21.251727   63.755180              2.0  \n",
       "Villanueva de los Castillejos      176.991150  353.982301              2.0  \n",
       "Isla Cristina                       23.372131  163.604917              2.0  \n",
       "Palma del Condado (La)              27.775206   92.584020              1.0  \n",
       "Sierra de Huelva-Andévalo Central    8.903266   41.548575              1.0  \n",
       "Bonares                             33.003300   66.006601              1.0  \n",
       "Aljaraque                            9.313589   69.851914              1.0  \n",
       "Rosal de la Frontera                58.927519   58.927519              NaN  "
      ],
      "text/html": "<div>\n<style scoped>\n    .dataframe tbody tr th:only-of-type {\n        vertical-align: middle;\n    }\n\n    .dataframe tbody tr th {\n        vertical-align: top;\n    }\n\n    .dataframe thead th {\n        text-align: right;\n    }\n</style>\n<table border=\"1\" class=\"dataframe\">\n  <thead>\n    <tr style=\"text-align: right;\">\n      <th>Medida</th>\n      <th>Confirmados PDIA</th>\n      <th>Confirmados PDIA 7 días</th>\n      <th>Confirmados PDIA 14 días</th>\n      <th>Población</th>\n      <th>tasa7</th>\n      <th>tasa14</th>\n      <th>Diferencia PDIA</th>\n    </tr>\n    <tr>\n      <th>Lugar de residencia</th>\n      <th></th>\n      <th></th>\n      <th></th>\n      <th></th>\n      <th></th>\n      <th></th>\n      <th></th>\n    </tr>\n  </thead>\n  <tbody>\n    <tr>\n      <th>Huelva</th>\n      <td>24385.0</td>\n      <td>269.0</td>\n      <td>814.0</td>\n      <td>513170.0</td>\n      <td>52.419276</td>\n      <td>158.621899</td>\n      <td>59.0</td>\n    </tr>\n    <tr>\n      <th>Huelva-Costa</th>\n      <td>14873.0</td>\n      <td>158.0</td>\n      <td>513.0</td>\n      <td>289548.0</td>\n      <td>54.567809</td>\n      <td>177.172697</td>\n      <td>38.0</td>\n    </tr>\n    <tr>\n      <th>Condado-Campiña</th>\n      <td>6781.0</td>\n      <td>99.0</td>\n      <td>252.0</td>\n      <td>156231.0</td>\n      <td>63.367706</td>\n      <td>161.299614</td>\n      <td>19.0</td>\n    </tr>\n    <tr>\n      <th>Huelva (capital)</th>\n      <td>6510.0</td>\n      <td>70.0</td>\n      <td>250.0</td>\n      <td>143837.0</td>\n      <td>48.666199</td>\n      <td>173.807852</td>\n      <td>12.0</td>\n    </tr>\n    <tr>\n      <th>Lepe</th>\n      <td>1978.0</td>\n      <td>24.0</td>\n      <td>79.0</td>\n      <td>27880.0</td>\n      <td>86.083214</td>\n      <td>283.357245</td>\n      <td>11.0</td>\n    </tr>\n    <tr>\n      <th>Cartaya</th>\n      <td>922.0</td>\n      <td>21.0</td>\n      <td>62.0</td>\n      <td>20083.0</td>\n      <td>104.566051</td>\n      <td>308.718817</td>\n      <td>5.0</td>\n    </tr>\n    <tr>\n      <th>Moguer</th>\n      <td>814.0</td>\n      <td>20.0</td>\n      <td>39.0</td>\n      <td>21867.0</td>\n      <td>91.462020</td>\n      <td>178.350940</td>\n      <td>5.0</td>\n    </tr>\n    <tr>\n      <th>Bollullos Par del Condado</th>\n      <td>598.0</td>\n      <td>16.0</td>\n      <td>42.0</td>\n      <td>14387.0</td>\n      <td>111.211510</td>\n      <td>291.930215</td>\n      <td>4.0</td>\n    </tr>\n    <tr>\n      <th>Punta Umbría</th>\n      <td>653.0</td>\n      <td>11.0</td>\n      <td>23.0</td>\n      <td>15355.0</td>\n      <td>71.637903</td>\n      <td>149.788343</td>\n      <td>3.0</td>\n    </tr>\n    <tr>\n      <th>Rociana del Condado</th>\n      <td>308.0</td>\n      <td>8.0</td>\n      <td>21.0</td>\n      <td>7939.0</td>\n      <td>100.768359</td>\n      <td>264.516942</td>\n      <td>3.0</td>\n    </tr>\n    <tr>\n      <th>Palos de la Frontera</th>\n      <td>443.0</td>\n      <td>9.0</td>\n      <td>16.0</td>\n      <td>11742.0</td>\n      <td>76.647931</td>\n      <td>136.262988</td>\n      <td>3.0</td>\n    </tr>\n    <tr>\n      <th>Villablanca</th>\n      <td>171.0</td>\n      <td>8.0</td>\n      <td>10.0</td>\n      <td>2885.0</td>\n      <td>277.296360</td>\n      <td>346.620451</td>\n      <td>2.0</td>\n    </tr>\n    <tr>\n      <th>San Juan del Puerto</th>\n      <td>357.0</td>\n      <td>2.0</td>\n      <td>6.0</td>\n      <td>9411.0</td>\n      <td>21.251727</td>\n      <td>63.755180</td>\n      <td>2.0</td>\n    </tr>\n    <tr>\n      <th>Villanueva de los Castillejos</th>\n      <td>149.0</td>\n      <td>5.0</td>\n      <td>10.0</td>\n      <td>2825.0</td>\n      <td>176.991150</td>\n      <td>353.982301</td>\n      <td>2.0</td>\n    </tr>\n    <tr>\n      <th>Isla Cristina</th>\n      <td>1975.0</td>\n      <td>5.0</td>\n      <td>35.0</td>\n      <td>21393.0</td>\n      <td>23.372131</td>\n      <td>163.604917</td>\n      <td>2.0</td>\n    </tr>\n    <tr>\n      <th>Palma del Condado (La)</th>\n      <td>962.0</td>\n      <td>3.0</td>\n      <td>10.0</td>\n      <td>10801.0</td>\n      <td>27.775206</td>\n      <td>92.584020</td>\n      <td>1.0</td>\n    </tr>\n    <tr>\n      <th>Sierra de Huelva-Andévalo Central</th>\n      <td>2301.0</td>\n      <td>6.0</td>\n      <td>28.0</td>\n      <td>67391.0</td>\n      <td>8.903266</td>\n      <td>41.548575</td>\n      <td>1.0</td>\n    </tr>\n    <tr>\n      <th>Bonares</th>\n      <td>178.0</td>\n      <td>2.0</td>\n      <td>4.0</td>\n      <td>6060.0</td>\n      <td>33.003300</td>\n      <td>66.006601</td>\n      <td>1.0</td>\n    </tr>\n    <tr>\n      <th>Aljaraque</th>\n      <td>916.0</td>\n      <td>2.0</td>\n      <td>15.0</td>\n      <td>21474.0</td>\n      <td>9.313589</td>\n      <td>69.851914</td>\n      <td>1.0</td>\n    </tr>\n    <tr>\n      <th>Rosal de la Frontera</th>\n      <td>23.0</td>\n      <td>1.0</td>\n      <td>1.0</td>\n      <td>1697.0</td>\n      <td>58.927519</td>\n      <td>58.927519</td>\n      <td>NaN</td>\n    </tr>\n  </tbody>\n</table>\n</div>"
     },
     "metadata": {},
     "execution_count": 15
    }
   ],
   "source": [
    "# Nuevos casos desde la última captura\n",
    "tabla[tabla['Diferencia PDIA'] != 0].sort_values('Diferencia PDIA', ascending=False)"
   ]
  },
  {
   "cell_type": "code",
   "execution_count": 16,
   "metadata": {},
   "outputs": [],
   "source": [
    "if tabla[tabla['Diferencia PDIA'] != 0]['Diferencia PDIA'].sum() != 0:\n",
    "  # Save to csv\n",
    "  tabla.to_csv('covid_huelva.csv', encoding='utf-8', header=True, index=True)  "
   ]
  },
  {
   "cell_type": "code",
   "execution_count": 17,
   "metadata": {},
   "outputs": [
    {
     "output_type": "execute_result",
     "data": {
      "text/plain": [
       "Medida                             Confirmados PDIA  Confirmados PDIA 7 días  \\\n",
       "Lugar de residencia                                                            \n",
       "Escacena del Campo                            138.0                      4.0   \n",
       "Villanueva de los Castillejos                 149.0                      5.0   \n",
       "Villablanca                                   171.0                      8.0   \n",
       "Cartaya                                       922.0                     21.0   \n",
       "Bollullos Par del Condado                     598.0                     16.0   \n",
       "Lepe                                         1978.0                     24.0   \n",
       "Almonte                                       835.0                     21.0   \n",
       "Rociana del Condado                           308.0                      8.0   \n",
       "Moguer                                        814.0                     20.0   \n",
       "Huelva-Costa                                14873.0                    158.0   \n",
       "Huelva (capital)                             6510.0                     70.0   \n",
       "Isla Cristina                                1975.0                      5.0   \n",
       "Condado-Campiña                              6781.0                     99.0   \n",
       "Huelva                                      24385.0                    269.0   \n",
       "Punta Umbría                                  653.0                     11.0   \n",
       "Palos de la Frontera                          443.0                      9.0   \n",
       "Ayamonte                                     1183.0                     11.0   \n",
       "Gibraleón                                     508.0                      4.0   \n",
       "Nerva                                         152.0                      2.0   \n",
       "San Bartolomé de la Torre                     191.0                      1.0   \n",
       "Trigueros                                     227.0                      5.0   \n",
       "Palma del Condado (La)                        962.0                      3.0   \n",
       "Beas                                          159.0                      2.0   \n",
       "Villalba del Alcor                            439.0                      1.0   \n",
       "Calañas                                       171.0                      1.0   \n",
       "Aljaraque                                     916.0                      2.0   \n",
       "Bonares                                       178.0                      2.0   \n",
       "San Juan del Puerto                           357.0                      2.0   \n",
       "Rosal de la Frontera                           23.0                      1.0   \n",
       "Aracena                                       453.0                      1.0   \n",
       "Valverde del Camino                           414.0                      1.0   \n",
       "Sierra de Huelva-Andévalo Central            2301.0                      6.0   \n",
       "Paterna del Campo                             110.0                      1.0   \n",
       "Alosno                                        119.0                      1.0   \n",
       "\n",
       "Medida                             Confirmados PDIA 14 días  Población  \\\n",
       "Lugar de residencia                                                      \n",
       "Escacena del Campo                                      9.0     2287.0   \n",
       "Villanueva de los Castillejos                          10.0     2825.0   \n",
       "Villablanca                                            10.0     2885.0   \n",
       "Cartaya                                                62.0    20083.0   \n",
       "Bollullos Par del Condado                              42.0    14387.0   \n",
       "Lepe                                                   79.0    27880.0   \n",
       "Almonte                                                66.0    24507.0   \n",
       "Rociana del Condado                                    21.0     7939.0   \n",
       "Moguer                                                 39.0    21867.0   \n",
       "Huelva-Costa                                          513.0   289548.0   \n",
       "Huelva (capital)                                      250.0   143837.0   \n",
       "Isla Cristina                                          35.0    21393.0   \n",
       "Condado-Campiña                                       252.0   156231.0   \n",
       "Huelva                                                814.0   513170.0   \n",
       "Punta Umbría                                           23.0    15355.0   \n",
       "Palos de la Frontera                                   16.0    11742.0   \n",
       "Ayamonte                                               27.0    21104.0   \n",
       "Gibraleón                                              15.0    12737.0   \n",
       "Nerva                                                   6.0     5169.0   \n",
       "San Bartolomé de la Torre                               4.0     3761.0   \n",
       "Trigueros                                               8.0     7862.0   \n",
       "Palma del Condado (La)                                 10.0    10801.0   \n",
       "Beas                                                    4.0     4341.0   \n",
       "Villalba del Alcor                                      3.0     3366.0   \n",
       "Calañas                                                 2.0     2768.0   \n",
       "Aljaraque                                              15.0    21474.0   \n",
       "Bonares                                                 4.0     6060.0   \n",
       "San Juan del Puerto                                     6.0     9411.0   \n",
       "Rosal de la Frontera                                    1.0     1697.0   \n",
       "Aracena                                                 4.0     8255.0   \n",
       "Valverde del Camino                                     6.0    12750.0   \n",
       "Sierra de Huelva-Andévalo Central                      28.0    67391.0   \n",
       "Paterna del Campo                                       1.0     3457.0   \n",
       "Alosno                                                  1.0     3933.0   \n",
       "\n",
       "Medida                                  tasa7      tasa14  Diferencia PDIA  \n",
       "Lugar de residencia                                                         \n",
       "Escacena del Campo                 174.901618  393.528640              0.0  \n",
       "Villanueva de los Castillejos      176.991150  353.982301              2.0  \n",
       "Villablanca                        277.296360  346.620451              2.0  \n",
       "Cartaya                            104.566051  308.718817              5.0  \n",
       "Bollullos Par del Condado          111.211510  291.930215              4.0  \n",
       "Lepe                                86.083214  283.357245             11.0  \n",
       "Almonte                             85.689803  269.310809              0.0  \n",
       "Rociana del Condado                100.768359  264.516942              3.0  \n",
       "Moguer                              91.462020  178.350940              5.0  \n",
       "Huelva-Costa                        54.567809  177.172697             38.0  \n",
       "Huelva (capital)                    48.666199  173.807852             12.0  \n",
       "Isla Cristina                       23.372131  163.604917              2.0  \n",
       "Condado-Campiña                     63.367706  161.299614             19.0  \n",
       "Huelva                              52.419276  158.621899             59.0  \n",
       "Punta Umbría                        71.637903  149.788343              3.0  \n",
       "Palos de la Frontera                76.647931  136.262988              3.0  \n",
       "Ayamonte                            52.122820  127.937832              0.0  \n",
       "Gibraleón                           31.404569  117.767135              0.0  \n",
       "Nerva                               38.692204  116.076611              0.0  \n",
       "San Bartolomé de la Torre           26.588673  106.354693              0.0  \n",
       "Trigueros                           63.597049  101.755279              0.0  \n",
       "Palma del Condado (La)              27.775206   92.584020              1.0  \n",
       "Beas                                46.072334   92.144667              0.0  \n",
       "Villalba del Alcor                  29.708853   89.126560              0.0  \n",
       "Calañas                             36.127168   72.254335              0.0  \n",
       "Aljaraque                            9.313589   69.851914              1.0  \n",
       "Bonares                             33.003300   66.006601              1.0  \n",
       "San Juan del Puerto                 21.251727   63.755180              2.0  \n",
       "Rosal de la Frontera                58.927519   58.927519              NaN  \n",
       "Aracena                             12.113870   48.455482              0.0  \n",
       "Valverde del Camino                  7.843137   47.058824              0.0  \n",
       "Sierra de Huelva-Andévalo Central    8.903266   41.548575              1.0  \n",
       "Paterna del Campo                   28.926815   28.926815              0.0  \n",
       "Alosno                              25.425884   25.425884              0.0  "
      ],
      "text/html": "<div>\n<style scoped>\n    .dataframe tbody tr th:only-of-type {\n        vertical-align: middle;\n    }\n\n    .dataframe tbody tr th {\n        vertical-align: top;\n    }\n\n    .dataframe thead th {\n        text-align: right;\n    }\n</style>\n<table border=\"1\" class=\"dataframe\">\n  <thead>\n    <tr style=\"text-align: right;\">\n      <th>Medida</th>\n      <th>Confirmados PDIA</th>\n      <th>Confirmados PDIA 7 días</th>\n      <th>Confirmados PDIA 14 días</th>\n      <th>Población</th>\n      <th>tasa7</th>\n      <th>tasa14</th>\n      <th>Diferencia PDIA</th>\n    </tr>\n    <tr>\n      <th>Lugar de residencia</th>\n      <th></th>\n      <th></th>\n      <th></th>\n      <th></th>\n      <th></th>\n      <th></th>\n      <th></th>\n    </tr>\n  </thead>\n  <tbody>\n    <tr>\n      <th>Escacena del Campo</th>\n      <td>138.0</td>\n      <td>4.0</td>\n      <td>9.0</td>\n      <td>2287.0</td>\n      <td>174.901618</td>\n      <td>393.528640</td>\n      <td>0.0</td>\n    </tr>\n    <tr>\n      <th>Villanueva de los Castillejos</th>\n      <td>149.0</td>\n      <td>5.0</td>\n      <td>10.0</td>\n      <td>2825.0</td>\n      <td>176.991150</td>\n      <td>353.982301</td>\n      <td>2.0</td>\n    </tr>\n    <tr>\n      <th>Villablanca</th>\n      <td>171.0</td>\n      <td>8.0</td>\n      <td>10.0</td>\n      <td>2885.0</td>\n      <td>277.296360</td>\n      <td>346.620451</td>\n      <td>2.0</td>\n    </tr>\n    <tr>\n      <th>Cartaya</th>\n      <td>922.0</td>\n      <td>21.0</td>\n      <td>62.0</td>\n      <td>20083.0</td>\n      <td>104.566051</td>\n      <td>308.718817</td>\n      <td>5.0</td>\n    </tr>\n    <tr>\n      <th>Bollullos Par del Condado</th>\n      <td>598.0</td>\n      <td>16.0</td>\n      <td>42.0</td>\n      <td>14387.0</td>\n      <td>111.211510</td>\n      <td>291.930215</td>\n      <td>4.0</td>\n    </tr>\n    <tr>\n      <th>Lepe</th>\n      <td>1978.0</td>\n      <td>24.0</td>\n      <td>79.0</td>\n      <td>27880.0</td>\n      <td>86.083214</td>\n      <td>283.357245</td>\n      <td>11.0</td>\n    </tr>\n    <tr>\n      <th>Almonte</th>\n      <td>835.0</td>\n      <td>21.0</td>\n      <td>66.0</td>\n      <td>24507.0</td>\n      <td>85.689803</td>\n      <td>269.310809</td>\n      <td>0.0</td>\n    </tr>\n    <tr>\n      <th>Rociana del Condado</th>\n      <td>308.0</td>\n      <td>8.0</td>\n      <td>21.0</td>\n      <td>7939.0</td>\n      <td>100.768359</td>\n      <td>264.516942</td>\n      <td>3.0</td>\n    </tr>\n    <tr>\n      <th>Moguer</th>\n      <td>814.0</td>\n      <td>20.0</td>\n      <td>39.0</td>\n      <td>21867.0</td>\n      <td>91.462020</td>\n      <td>178.350940</td>\n      <td>5.0</td>\n    </tr>\n    <tr>\n      <th>Huelva-Costa</th>\n      <td>14873.0</td>\n      <td>158.0</td>\n      <td>513.0</td>\n      <td>289548.0</td>\n      <td>54.567809</td>\n      <td>177.172697</td>\n      <td>38.0</td>\n    </tr>\n    <tr>\n      <th>Huelva (capital)</th>\n      <td>6510.0</td>\n      <td>70.0</td>\n      <td>250.0</td>\n      <td>143837.0</td>\n      <td>48.666199</td>\n      <td>173.807852</td>\n      <td>12.0</td>\n    </tr>\n    <tr>\n      <th>Isla Cristina</th>\n      <td>1975.0</td>\n      <td>5.0</td>\n      <td>35.0</td>\n      <td>21393.0</td>\n      <td>23.372131</td>\n      <td>163.604917</td>\n      <td>2.0</td>\n    </tr>\n    <tr>\n      <th>Condado-Campiña</th>\n      <td>6781.0</td>\n      <td>99.0</td>\n      <td>252.0</td>\n      <td>156231.0</td>\n      <td>63.367706</td>\n      <td>161.299614</td>\n      <td>19.0</td>\n    </tr>\n    <tr>\n      <th>Huelva</th>\n      <td>24385.0</td>\n      <td>269.0</td>\n      <td>814.0</td>\n      <td>513170.0</td>\n      <td>52.419276</td>\n      <td>158.621899</td>\n      <td>59.0</td>\n    </tr>\n    <tr>\n      <th>Punta Umbría</th>\n      <td>653.0</td>\n      <td>11.0</td>\n      <td>23.0</td>\n      <td>15355.0</td>\n      <td>71.637903</td>\n      <td>149.788343</td>\n      <td>3.0</td>\n    </tr>\n    <tr>\n      <th>Palos de la Frontera</th>\n      <td>443.0</td>\n      <td>9.0</td>\n      <td>16.0</td>\n      <td>11742.0</td>\n      <td>76.647931</td>\n      <td>136.262988</td>\n      <td>3.0</td>\n    </tr>\n    <tr>\n      <th>Ayamonte</th>\n      <td>1183.0</td>\n      <td>11.0</td>\n      <td>27.0</td>\n      <td>21104.0</td>\n      <td>52.122820</td>\n      <td>127.937832</td>\n      <td>0.0</td>\n    </tr>\n    <tr>\n      <th>Gibraleón</th>\n      <td>508.0</td>\n      <td>4.0</td>\n      <td>15.0</td>\n      <td>12737.0</td>\n      <td>31.404569</td>\n      <td>117.767135</td>\n      <td>0.0</td>\n    </tr>\n    <tr>\n      <th>Nerva</th>\n      <td>152.0</td>\n      <td>2.0</td>\n      <td>6.0</td>\n      <td>5169.0</td>\n      <td>38.692204</td>\n      <td>116.076611</td>\n      <td>0.0</td>\n    </tr>\n    <tr>\n      <th>San Bartolomé de la Torre</th>\n      <td>191.0</td>\n      <td>1.0</td>\n      <td>4.0</td>\n      <td>3761.0</td>\n      <td>26.588673</td>\n      <td>106.354693</td>\n      <td>0.0</td>\n    </tr>\n    <tr>\n      <th>Trigueros</th>\n      <td>227.0</td>\n      <td>5.0</td>\n      <td>8.0</td>\n      <td>7862.0</td>\n      <td>63.597049</td>\n      <td>101.755279</td>\n      <td>0.0</td>\n    </tr>\n    <tr>\n      <th>Palma del Condado (La)</th>\n      <td>962.0</td>\n      <td>3.0</td>\n      <td>10.0</td>\n      <td>10801.0</td>\n      <td>27.775206</td>\n      <td>92.584020</td>\n      <td>1.0</td>\n    </tr>\n    <tr>\n      <th>Beas</th>\n      <td>159.0</td>\n      <td>2.0</td>\n      <td>4.0</td>\n      <td>4341.0</td>\n      <td>46.072334</td>\n      <td>92.144667</td>\n      <td>0.0</td>\n    </tr>\n    <tr>\n      <th>Villalba del Alcor</th>\n      <td>439.0</td>\n      <td>1.0</td>\n      <td>3.0</td>\n      <td>3366.0</td>\n      <td>29.708853</td>\n      <td>89.126560</td>\n      <td>0.0</td>\n    </tr>\n    <tr>\n      <th>Calañas</th>\n      <td>171.0</td>\n      <td>1.0</td>\n      <td>2.0</td>\n      <td>2768.0</td>\n      <td>36.127168</td>\n      <td>72.254335</td>\n      <td>0.0</td>\n    </tr>\n    <tr>\n      <th>Aljaraque</th>\n      <td>916.0</td>\n      <td>2.0</td>\n      <td>15.0</td>\n      <td>21474.0</td>\n      <td>9.313589</td>\n      <td>69.851914</td>\n      <td>1.0</td>\n    </tr>\n    <tr>\n      <th>Bonares</th>\n      <td>178.0</td>\n      <td>2.0</td>\n      <td>4.0</td>\n      <td>6060.0</td>\n      <td>33.003300</td>\n      <td>66.006601</td>\n      <td>1.0</td>\n    </tr>\n    <tr>\n      <th>San Juan del Puerto</th>\n      <td>357.0</td>\n      <td>2.0</td>\n      <td>6.0</td>\n      <td>9411.0</td>\n      <td>21.251727</td>\n      <td>63.755180</td>\n      <td>2.0</td>\n    </tr>\n    <tr>\n      <th>Rosal de la Frontera</th>\n      <td>23.0</td>\n      <td>1.0</td>\n      <td>1.0</td>\n      <td>1697.0</td>\n      <td>58.927519</td>\n      <td>58.927519</td>\n      <td>NaN</td>\n    </tr>\n    <tr>\n      <th>Aracena</th>\n      <td>453.0</td>\n      <td>1.0</td>\n      <td>4.0</td>\n      <td>8255.0</td>\n      <td>12.113870</td>\n      <td>48.455482</td>\n      <td>0.0</td>\n    </tr>\n    <tr>\n      <th>Valverde del Camino</th>\n      <td>414.0</td>\n      <td>1.0</td>\n      <td>6.0</td>\n      <td>12750.0</td>\n      <td>7.843137</td>\n      <td>47.058824</td>\n      <td>0.0</td>\n    </tr>\n    <tr>\n      <th>Sierra de Huelva-Andévalo Central</th>\n      <td>2301.0</td>\n      <td>6.0</td>\n      <td>28.0</td>\n      <td>67391.0</td>\n      <td>8.903266</td>\n      <td>41.548575</td>\n      <td>1.0</td>\n    </tr>\n    <tr>\n      <th>Paterna del Campo</th>\n      <td>110.0</td>\n      <td>1.0</td>\n      <td>1.0</td>\n      <td>3457.0</td>\n      <td>28.926815</td>\n      <td>28.926815</td>\n      <td>0.0</td>\n    </tr>\n    <tr>\n      <th>Alosno</th>\n      <td>119.0</td>\n      <td>1.0</td>\n      <td>1.0</td>\n      <td>3933.0</td>\n      <td>25.425884</td>\n      <td>25.425884</td>\n      <td>0.0</td>\n    </tr>\n  </tbody>\n</table>\n</div>"
     },
     "metadata": {},
     "execution_count": 17
    }
   ],
   "source": [
    "tabla.sort_values('tasa14', ascending=False)"
   ]
  },
  {
   "cell_type": "code",
   "execution_count": 18,
   "metadata": {},
   "outputs": [
    {
     "output_type": "execute_result",
     "data": {
      "text/plain": [
       "Medida                             Confirmados PDIA  Confirmados PDIA 7 días  \\\n",
       "Lugar de residencia                                                            \n",
       "Aljaraque                                     916.0                      2.0   \n",
       "Isla Cristina                                1975.0                      5.0   \n",
       "Valverde del Camino                           414.0                      1.0   \n",
       "Sierra de Huelva-Andévalo Central            2301.0                      6.0   \n",
       "Aracena                                       453.0                      1.0   \n",
       "San Bartolomé de la Torre                     191.0                      1.0   \n",
       "Gibraleón                                     508.0                      4.0   \n",
       "Huelva (capital)                             6510.0                     70.0   \n",
       "Palma del Condado (La)                        962.0                      3.0   \n",
       "Lepe                                         1978.0                     24.0   \n",
       "Huelva-Costa                                14873.0                    158.0   \n",
       "Almonte                                       835.0                     21.0   \n",
       "Huelva                                      24385.0                    269.0   \n",
       "Nerva                                         152.0                      2.0   \n",
       "San Juan del Puerto                           357.0                      2.0   \n",
       "Villalba del Alcor                            439.0                      1.0   \n",
       "Cartaya                                       922.0                     21.0   \n",
       "Rociana del Condado                           308.0                      8.0   \n",
       "Bollullos Par del Condado                     598.0                     16.0   \n",
       "Condado-Campiña                              6781.0                     99.0   \n",
       "Ayamonte                                     1183.0                     11.0   \n",
       "Escacena del Campo                            138.0                      4.0   \n",
       "Punta Umbría                                  653.0                     11.0   \n",
       "Villanueva de los Castillejos                 149.0                      5.0   \n",
       "Calañas                                       171.0                      1.0   \n",
       "Bonares                                       178.0                      2.0   \n",
       "Beas                                          159.0                      2.0   \n",
       "Moguer                                        814.0                     20.0   \n",
       "Palos de la Frontera                          443.0                      9.0   \n",
       "Trigueros                                     227.0                      5.0   \n",
       "Villablanca                                   171.0                      8.0   \n",
       "Rosal de la Frontera                           23.0                      1.0   \n",
       "Paterna del Campo                             110.0                      1.0   \n",
       "Alosno                                        119.0                      1.0   \n",
       "\n",
       "Medida                             Confirmados PDIA 14 días  Población  \\\n",
       "Lugar de residencia                                                      \n",
       "Aljaraque                                              15.0    21474.0   \n",
       "Isla Cristina                                          35.0    21393.0   \n",
       "Valverde del Camino                                     6.0    12750.0   \n",
       "Sierra de Huelva-Andévalo Central                      28.0    67391.0   \n",
       "Aracena                                                 4.0     8255.0   \n",
       "San Bartolomé de la Torre                               4.0     3761.0   \n",
       "Gibraleón                                              15.0    12737.0   \n",
       "Huelva (capital)                                      250.0   143837.0   \n",
       "Palma del Condado (La)                                 10.0    10801.0   \n",
       "Lepe                                                   79.0    27880.0   \n",
       "Huelva-Costa                                          513.0   289548.0   \n",
       "Almonte                                                66.0    24507.0   \n",
       "Huelva                                                814.0   513170.0   \n",
       "Nerva                                                   6.0     5169.0   \n",
       "San Juan del Puerto                                     6.0     9411.0   \n",
       "Villalba del Alcor                                      3.0     3366.0   \n",
       "Cartaya                                                62.0    20083.0   \n",
       "Rociana del Condado                                    21.0     7939.0   \n",
       "Bollullos Par del Condado                              42.0    14387.0   \n",
       "Condado-Campiña                                       252.0   156231.0   \n",
       "Ayamonte                                               27.0    21104.0   \n",
       "Escacena del Campo                                      9.0     2287.0   \n",
       "Punta Umbría                                           23.0    15355.0   \n",
       "Villanueva de los Castillejos                          10.0     2825.0   \n",
       "Calañas                                                 2.0     2768.0   \n",
       "Bonares                                                 4.0     6060.0   \n",
       "Beas                                                    4.0     4341.0   \n",
       "Moguer                                                 39.0    21867.0   \n",
       "Palos de la Frontera                                   16.0    11742.0   \n",
       "Trigueros                                               8.0     7862.0   \n",
       "Villablanca                                            10.0     2885.0   \n",
       "Rosal de la Frontera                                    1.0     1697.0   \n",
       "Paterna del Campo                                       1.0     3457.0   \n",
       "Alosno                                                  1.0     3933.0   \n",
       "\n",
       "Medida                                  tasa7      tasa14  Diferencia PDIA  \\\n",
       "Lugar de residencia                                                          \n",
       "Aljaraque                            9.313589   69.851914              1.0   \n",
       "Isla Cristina                       23.372131  163.604917              2.0   \n",
       "Valverde del Camino                  7.843137   47.058824              0.0   \n",
       "Sierra de Huelva-Andévalo Central    8.903266   41.548575              1.0   \n",
       "Aracena                             12.113870   48.455482              0.0   \n",
       "San Bartolomé de la Torre           26.588673  106.354693              0.0   \n",
       "Gibraleón                           31.404569  117.767135              0.0   \n",
       "Huelva (capital)                    48.666199  173.807852             12.0   \n",
       "Palma del Condado (La)              27.775206   92.584020              1.0   \n",
       "Lepe                                86.083214  283.357245             11.0   \n",
       "Huelva-Costa                        54.567809  177.172697             38.0   \n",
       "Almonte                             85.689803  269.310809              0.0   \n",
       "Huelva                              52.419276  158.621899             59.0   \n",
       "Nerva                               38.692204  116.076611              0.0   \n",
       "San Juan del Puerto                 21.251727   63.755180              2.0   \n",
       "Villalba del Alcor                  29.708853   89.126560              0.0   \n",
       "Cartaya                            104.566051  308.718817              5.0   \n",
       "Rociana del Condado                100.768359  264.516942              3.0   \n",
       "Bollullos Par del Condado          111.211510  291.930215              4.0   \n",
       "Condado-Campiña                     63.367706  161.299614             19.0   \n",
       "Ayamonte                            52.122820  127.937832              0.0   \n",
       "Escacena del Campo                 174.901618  393.528640              0.0   \n",
       "Punta Umbría                        71.637903  149.788343              3.0   \n",
       "Villanueva de los Castillejos      176.991150  353.982301              2.0   \n",
       "Calañas                             36.127168   72.254335              0.0   \n",
       "Bonares                             33.003300   66.006601              1.0   \n",
       "Beas                                46.072334   92.144667              0.0   \n",
       "Moguer                              91.462020  178.350940              5.0   \n",
       "Palos de la Frontera                76.647931  136.262988              3.0   \n",
       "Trigueros                           63.597049  101.755279              0.0   \n",
       "Villablanca                        277.296360  346.620451              2.0   \n",
       "Rosal de la Frontera                58.927519   58.927519              0.0   \n",
       "Paterna del Campo                   28.926815   28.926815              0.0   \n",
       "Alosno                              25.425884   25.425884              0.0   \n",
       "\n",
       "Medida                                 7/14  \n",
       "Lugar de residencia                          \n",
       "Aljaraque                          0.133333  \n",
       "Isla Cristina                      0.142857  \n",
       "Valverde del Camino                0.166667  \n",
       "Sierra de Huelva-Andévalo Central  0.214286  \n",
       "Aracena                            0.250000  \n",
       "San Bartolomé de la Torre          0.250000  \n",
       "Gibraleón                          0.266667  \n",
       "Huelva (capital)                   0.280000  \n",
       "Palma del Condado (La)             0.300000  \n",
       "Lepe                               0.303797  \n",
       "Huelva-Costa                       0.307992  \n",
       "Almonte                            0.318182  \n",
       "Huelva                             0.330467  \n",
       "Nerva                              0.333333  \n",
       "San Juan del Puerto                0.333333  \n",
       "Villalba del Alcor                 0.333333  \n",
       "Cartaya                            0.338710  \n",
       "Rociana del Condado                0.380952  \n",
       "Bollullos Par del Condado          0.380952  \n",
       "Condado-Campiña                    0.392857  \n",
       "Ayamonte                           0.407407  \n",
       "Escacena del Campo                 0.444444  \n",
       "Punta Umbría                       0.478261  \n",
       "Villanueva de los Castillejos      0.500000  \n",
       "Calañas                            0.500000  \n",
       "Bonares                            0.500000  \n",
       "Beas                               0.500000  \n",
       "Moguer                             0.512821  \n",
       "Palos de la Frontera               0.562500  \n",
       "Trigueros                          0.625000  \n",
       "Villablanca                        0.800000  \n",
       "Rosal de la Frontera               1.000000  \n",
       "Paterna del Campo                  1.000000  \n",
       "Alosno                             1.000000  "
      ],
      "text/html": "<div>\n<style scoped>\n    .dataframe tbody tr th:only-of-type {\n        vertical-align: middle;\n    }\n\n    .dataframe tbody tr th {\n        vertical-align: top;\n    }\n\n    .dataframe thead th {\n        text-align: right;\n    }\n</style>\n<table border=\"1\" class=\"dataframe\">\n  <thead>\n    <tr style=\"text-align: right;\">\n      <th>Medida</th>\n      <th>Confirmados PDIA</th>\n      <th>Confirmados PDIA 7 días</th>\n      <th>Confirmados PDIA 14 días</th>\n      <th>Población</th>\n      <th>tasa7</th>\n      <th>tasa14</th>\n      <th>Diferencia PDIA</th>\n      <th>7/14</th>\n    </tr>\n    <tr>\n      <th>Lugar de residencia</th>\n      <th></th>\n      <th></th>\n      <th></th>\n      <th></th>\n      <th></th>\n      <th></th>\n      <th></th>\n      <th></th>\n    </tr>\n  </thead>\n  <tbody>\n    <tr>\n      <th>Aljaraque</th>\n      <td>916.0</td>\n      <td>2.0</td>\n      <td>15.0</td>\n      <td>21474.0</td>\n      <td>9.313589</td>\n      <td>69.851914</td>\n      <td>1.0</td>\n      <td>0.133333</td>\n    </tr>\n    <tr>\n      <th>Isla Cristina</th>\n      <td>1975.0</td>\n      <td>5.0</td>\n      <td>35.0</td>\n      <td>21393.0</td>\n      <td>23.372131</td>\n      <td>163.604917</td>\n      <td>2.0</td>\n      <td>0.142857</td>\n    </tr>\n    <tr>\n      <th>Valverde del Camino</th>\n      <td>414.0</td>\n      <td>1.0</td>\n      <td>6.0</td>\n      <td>12750.0</td>\n      <td>7.843137</td>\n      <td>47.058824</td>\n      <td>0.0</td>\n      <td>0.166667</td>\n    </tr>\n    <tr>\n      <th>Sierra de Huelva-Andévalo Central</th>\n      <td>2301.0</td>\n      <td>6.0</td>\n      <td>28.0</td>\n      <td>67391.0</td>\n      <td>8.903266</td>\n      <td>41.548575</td>\n      <td>1.0</td>\n      <td>0.214286</td>\n    </tr>\n    <tr>\n      <th>Aracena</th>\n      <td>453.0</td>\n      <td>1.0</td>\n      <td>4.0</td>\n      <td>8255.0</td>\n      <td>12.113870</td>\n      <td>48.455482</td>\n      <td>0.0</td>\n      <td>0.250000</td>\n    </tr>\n    <tr>\n      <th>San Bartolomé de la Torre</th>\n      <td>191.0</td>\n      <td>1.0</td>\n      <td>4.0</td>\n      <td>3761.0</td>\n      <td>26.588673</td>\n      <td>106.354693</td>\n      <td>0.0</td>\n      <td>0.250000</td>\n    </tr>\n    <tr>\n      <th>Gibraleón</th>\n      <td>508.0</td>\n      <td>4.0</td>\n      <td>15.0</td>\n      <td>12737.0</td>\n      <td>31.404569</td>\n      <td>117.767135</td>\n      <td>0.0</td>\n      <td>0.266667</td>\n    </tr>\n    <tr>\n      <th>Huelva (capital)</th>\n      <td>6510.0</td>\n      <td>70.0</td>\n      <td>250.0</td>\n      <td>143837.0</td>\n      <td>48.666199</td>\n      <td>173.807852</td>\n      <td>12.0</td>\n      <td>0.280000</td>\n    </tr>\n    <tr>\n      <th>Palma del Condado (La)</th>\n      <td>962.0</td>\n      <td>3.0</td>\n      <td>10.0</td>\n      <td>10801.0</td>\n      <td>27.775206</td>\n      <td>92.584020</td>\n      <td>1.0</td>\n      <td>0.300000</td>\n    </tr>\n    <tr>\n      <th>Lepe</th>\n      <td>1978.0</td>\n      <td>24.0</td>\n      <td>79.0</td>\n      <td>27880.0</td>\n      <td>86.083214</td>\n      <td>283.357245</td>\n      <td>11.0</td>\n      <td>0.303797</td>\n    </tr>\n    <tr>\n      <th>Huelva-Costa</th>\n      <td>14873.0</td>\n      <td>158.0</td>\n      <td>513.0</td>\n      <td>289548.0</td>\n      <td>54.567809</td>\n      <td>177.172697</td>\n      <td>38.0</td>\n      <td>0.307992</td>\n    </tr>\n    <tr>\n      <th>Almonte</th>\n      <td>835.0</td>\n      <td>21.0</td>\n      <td>66.0</td>\n      <td>24507.0</td>\n      <td>85.689803</td>\n      <td>269.310809</td>\n      <td>0.0</td>\n      <td>0.318182</td>\n    </tr>\n    <tr>\n      <th>Huelva</th>\n      <td>24385.0</td>\n      <td>269.0</td>\n      <td>814.0</td>\n      <td>513170.0</td>\n      <td>52.419276</td>\n      <td>158.621899</td>\n      <td>59.0</td>\n      <td>0.330467</td>\n    </tr>\n    <tr>\n      <th>Nerva</th>\n      <td>152.0</td>\n      <td>2.0</td>\n      <td>6.0</td>\n      <td>5169.0</td>\n      <td>38.692204</td>\n      <td>116.076611</td>\n      <td>0.0</td>\n      <td>0.333333</td>\n    </tr>\n    <tr>\n      <th>San Juan del Puerto</th>\n      <td>357.0</td>\n      <td>2.0</td>\n      <td>6.0</td>\n      <td>9411.0</td>\n      <td>21.251727</td>\n      <td>63.755180</td>\n      <td>2.0</td>\n      <td>0.333333</td>\n    </tr>\n    <tr>\n      <th>Villalba del Alcor</th>\n      <td>439.0</td>\n      <td>1.0</td>\n      <td>3.0</td>\n      <td>3366.0</td>\n      <td>29.708853</td>\n      <td>89.126560</td>\n      <td>0.0</td>\n      <td>0.333333</td>\n    </tr>\n    <tr>\n      <th>Cartaya</th>\n      <td>922.0</td>\n      <td>21.0</td>\n      <td>62.0</td>\n      <td>20083.0</td>\n      <td>104.566051</td>\n      <td>308.718817</td>\n      <td>5.0</td>\n      <td>0.338710</td>\n    </tr>\n    <tr>\n      <th>Rociana del Condado</th>\n      <td>308.0</td>\n      <td>8.0</td>\n      <td>21.0</td>\n      <td>7939.0</td>\n      <td>100.768359</td>\n      <td>264.516942</td>\n      <td>3.0</td>\n      <td>0.380952</td>\n    </tr>\n    <tr>\n      <th>Bollullos Par del Condado</th>\n      <td>598.0</td>\n      <td>16.0</td>\n      <td>42.0</td>\n      <td>14387.0</td>\n      <td>111.211510</td>\n      <td>291.930215</td>\n      <td>4.0</td>\n      <td>0.380952</td>\n    </tr>\n    <tr>\n      <th>Condado-Campiña</th>\n      <td>6781.0</td>\n      <td>99.0</td>\n      <td>252.0</td>\n      <td>156231.0</td>\n      <td>63.367706</td>\n      <td>161.299614</td>\n      <td>19.0</td>\n      <td>0.392857</td>\n    </tr>\n    <tr>\n      <th>Ayamonte</th>\n      <td>1183.0</td>\n      <td>11.0</td>\n      <td>27.0</td>\n      <td>21104.0</td>\n      <td>52.122820</td>\n      <td>127.937832</td>\n      <td>0.0</td>\n      <td>0.407407</td>\n    </tr>\n    <tr>\n      <th>Escacena del Campo</th>\n      <td>138.0</td>\n      <td>4.0</td>\n      <td>9.0</td>\n      <td>2287.0</td>\n      <td>174.901618</td>\n      <td>393.528640</td>\n      <td>0.0</td>\n      <td>0.444444</td>\n    </tr>\n    <tr>\n      <th>Punta Umbría</th>\n      <td>653.0</td>\n      <td>11.0</td>\n      <td>23.0</td>\n      <td>15355.0</td>\n      <td>71.637903</td>\n      <td>149.788343</td>\n      <td>3.0</td>\n      <td>0.478261</td>\n    </tr>\n    <tr>\n      <th>Villanueva de los Castillejos</th>\n      <td>149.0</td>\n      <td>5.0</td>\n      <td>10.0</td>\n      <td>2825.0</td>\n      <td>176.991150</td>\n      <td>353.982301</td>\n      <td>2.0</td>\n      <td>0.500000</td>\n    </tr>\n    <tr>\n      <th>Calañas</th>\n      <td>171.0</td>\n      <td>1.0</td>\n      <td>2.0</td>\n      <td>2768.0</td>\n      <td>36.127168</td>\n      <td>72.254335</td>\n      <td>0.0</td>\n      <td>0.500000</td>\n    </tr>\n    <tr>\n      <th>Bonares</th>\n      <td>178.0</td>\n      <td>2.0</td>\n      <td>4.0</td>\n      <td>6060.0</td>\n      <td>33.003300</td>\n      <td>66.006601</td>\n      <td>1.0</td>\n      <td>0.500000</td>\n    </tr>\n    <tr>\n      <th>Beas</th>\n      <td>159.0</td>\n      <td>2.0</td>\n      <td>4.0</td>\n      <td>4341.0</td>\n      <td>46.072334</td>\n      <td>92.144667</td>\n      <td>0.0</td>\n      <td>0.500000</td>\n    </tr>\n    <tr>\n      <th>Moguer</th>\n      <td>814.0</td>\n      <td>20.0</td>\n      <td>39.0</td>\n      <td>21867.0</td>\n      <td>91.462020</td>\n      <td>178.350940</td>\n      <td>5.0</td>\n      <td>0.512821</td>\n    </tr>\n    <tr>\n      <th>Palos de la Frontera</th>\n      <td>443.0</td>\n      <td>9.0</td>\n      <td>16.0</td>\n      <td>11742.0</td>\n      <td>76.647931</td>\n      <td>136.262988</td>\n      <td>3.0</td>\n      <td>0.562500</td>\n    </tr>\n    <tr>\n      <th>Trigueros</th>\n      <td>227.0</td>\n      <td>5.0</td>\n      <td>8.0</td>\n      <td>7862.0</td>\n      <td>63.597049</td>\n      <td>101.755279</td>\n      <td>0.0</td>\n      <td>0.625000</td>\n    </tr>\n    <tr>\n      <th>Villablanca</th>\n      <td>171.0</td>\n      <td>8.0</td>\n      <td>10.0</td>\n      <td>2885.0</td>\n      <td>277.296360</td>\n      <td>346.620451</td>\n      <td>2.0</td>\n      <td>0.800000</td>\n    </tr>\n    <tr>\n      <th>Rosal de la Frontera</th>\n      <td>23.0</td>\n      <td>1.0</td>\n      <td>1.0</td>\n      <td>1697.0</td>\n      <td>58.927519</td>\n      <td>58.927519</td>\n      <td>0.0</td>\n      <td>1.000000</td>\n    </tr>\n    <tr>\n      <th>Paterna del Campo</th>\n      <td>110.0</td>\n      <td>1.0</td>\n      <td>1.0</td>\n      <td>3457.0</td>\n      <td>28.926815</td>\n      <td>28.926815</td>\n      <td>0.0</td>\n      <td>1.000000</td>\n    </tr>\n    <tr>\n      <th>Alosno</th>\n      <td>119.0</td>\n      <td>1.0</td>\n      <td>1.0</td>\n      <td>3933.0</td>\n      <td>25.425884</td>\n      <td>25.425884</td>\n      <td>0.0</td>\n      <td>1.000000</td>\n    </tr>\n  </tbody>\n</table>\n</div>"
     },
     "metadata": {},
     "execution_count": 18
    }
   ],
   "source": [
    "# Peso de la tasa de la última semana en relación con la tasa a 14 días \n",
    "# Mejor cuanto menor. Valor 1 significa que no había casos antes de 7 días.\n",
    "tabla['7/14'] = tabla['tasa7'] / tabla['tasa14']\n",
    "tabla.fillna(0).sort_values('7/14', ascending=True)"
   ]
  },
  {
   "cell_type": "code",
   "execution_count": null,
   "metadata": {},
   "outputs": [],
   "source": []
  }
 ]
}