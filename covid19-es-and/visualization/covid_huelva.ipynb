{
 "metadata": {
  "language_info": {
   "codemirror_mode": {
    "name": "ipython",
    "version": 3
   },
   "file_extension": ".py",
   "mimetype": "text/x-python",
   "name": "python",
   "nbconvert_exporter": "python",
   "pygments_lexer": "ipython3",
   "version": "3.8.6"
  },
  "orig_nbformat": 2,
  "kernelspec": {
   "name": "python3",
   "display_name": "Python 3",
   "language": "python"
  }
 },
 "nbformat": 4,
 "nbformat_minor": 2,
 "cells": [
  {
   "cell_type": "code",
   "execution_count": 1,
   "metadata": {},
   "outputs": [],
   "source": [
    "import pandas as pd\n",
    "pd.set_option('display.max_rows', None) # Print all rows"
   ]
  },
  {
   "cell_type": "code",
   "execution_count": 2,
   "metadata": {},
   "outputs": [],
   "source": [
    "# FIX SSL: CERTIFICATE_VERIFY_FAILED with Python3\n",
    "# https://stackoverflow.com/a/49174340\n",
    "import ssl\n",
    "\n",
    "ssl._create_default_https_context = ssl._create_unverified_context"
   ]
  },
  {
   "cell_type": "code",
   "execution_count": 3,
   "metadata": {},
   "outputs": [],
   "source": [
    "url = 'https://www.juntadeandalucia.es/institutodeestadisticaycartografia/badea/stpivot/stpivot/Print?cube=013d884c-cfc5-4c21-9e78-e26225682afd&type=3&foto=si&ejecutaDesde=&codConsulta=38668&consTipoVisua=JP'\n",
    "fields = ['Lugar de residencia', 'Medida', 'Valor']\n",
    "df = pd.read_csv(url, delimiter=';', usecols=fields, decimal=',')"
   ]
  },
  {
   "cell_type": "code",
   "execution_count": 4,
   "metadata": {},
   "outputs": [
    {
     "output_type": "execute_result",
     "data": {
      "text/plain": [
       "  Lugar de residencia                    Medida               Valor\n",
       "0              Huelva                 Población              513170\n",
       "1              Huelva          Confirmados PDIA               28840\n",
       "2              Huelva  Confirmados PDIA 14 días                1039\n",
       "3              Huelva         Tasa PDIA 14 días  202,46701872673773\n",
       "4              Huelva   Confirmados PDIA 7 días                 462\n",
       "5              Huelva        Total Confirmados                29016\n",
       "6              Huelva                   Curados               25224\n",
       "7              Huelva                Fallecidos                 365"
      ],
      "text/html": "<div>\n<style scoped>\n    .dataframe tbody tr th:only-of-type {\n        vertical-align: middle;\n    }\n\n    .dataframe tbody tr th {\n        vertical-align: top;\n    }\n\n    .dataframe thead th {\n        text-align: right;\n    }\n</style>\n<table border=\"1\" class=\"dataframe\">\n  <thead>\n    <tr style=\"text-align: right;\">\n      <th></th>\n      <th>Lugar de residencia</th>\n      <th>Medida</th>\n      <th>Valor</th>\n    </tr>\n  </thead>\n  <tbody>\n    <tr>\n      <th>0</th>\n      <td>Huelva</td>\n      <td>Población</td>\n      <td>513170</td>\n    </tr>\n    <tr>\n      <th>1</th>\n      <td>Huelva</td>\n      <td>Confirmados PDIA</td>\n      <td>28840</td>\n    </tr>\n    <tr>\n      <th>2</th>\n      <td>Huelva</td>\n      <td>Confirmados PDIA 14 días</td>\n      <td>1039</td>\n    </tr>\n    <tr>\n      <th>3</th>\n      <td>Huelva</td>\n      <td>Tasa PDIA 14 días</td>\n      <td>202,46701872673773</td>\n    </tr>\n    <tr>\n      <th>4</th>\n      <td>Huelva</td>\n      <td>Confirmados PDIA 7 días</td>\n      <td>462</td>\n    </tr>\n    <tr>\n      <th>5</th>\n      <td>Huelva</td>\n      <td>Total Confirmados</td>\n      <td>29016</td>\n    </tr>\n    <tr>\n      <th>6</th>\n      <td>Huelva</td>\n      <td>Curados</td>\n      <td>25224</td>\n    </tr>\n    <tr>\n      <th>7</th>\n      <td>Huelva</td>\n      <td>Fallecidos</td>\n      <td>365</td>\n    </tr>\n  </tbody>\n</table>\n</div>"
     },
     "metadata": {},
     "execution_count": 4
    }
   ],
   "source": [
    "df[df['Lugar de residencia'] == 'Huelva']"
   ]
  },
  {
   "cell_type": "code",
   "execution_count": 5,
   "metadata": {},
   "outputs": [],
   "source": [
    "df['Valor'] = pd.to_numeric(df['Valor'],errors='coerce')"
   ]
  },
  {
   "cell_type": "code",
   "execution_count": 6,
   "metadata": {},
   "outputs": [],
   "source": [
    "dfAnterior = pd.read_csv('covid_huelva.csv', index_col='Lugar de residencia')"
   ]
  },
  {
   "cell_type": "code",
   "execution_count": 7,
   "metadata": {
    "tags": []
   },
   "outputs": [
    {
     "output_type": "stream",
     "name": "stdout",
     "text": [
      "Confirmados PCR en la provincia de Huelva:  28840.0\n",
      "<ipython-input-7-31b732756b19>:2: UserWarning: Boolean Series key will be reindexed to match DataFrame index.\n",
      "  p = df[df['Lugar de residencia'] == 'Huelva'][df['Medida'] == 'Confirmados PDIA']['Valor'].values[0]\n"
     ]
    }
   ],
   "source": [
    "# Confirmados PCR provincia Huelva\n",
    "p = df[df['Lugar de residencia'] == 'Huelva'][df['Medida'] == 'Confirmados PDIA']['Valor'].values[0]\n",
    "print('Confirmados PCR en la provincia de Huelva: ', p)"
   ]
  },
  {
   "cell_type": "code",
   "execution_count": 8,
   "metadata": {
    "tags": []
   },
   "outputs": [
    {
     "output_type": "stream",
     "name": "stdout",
     "text": [
      "Confirmados PCR en Huelva capital:  7497.0\n",
      "<ipython-input-8-e81bfb40e710>:2: UserWarning: Boolean Series key will be reindexed to match DataFrame index.\n",
      "  c = df[df['Lugar de residencia'] == 'Huelva (capital)'][df['Medida'] == 'Confirmados PDIA']['Valor'].values[0]\n"
     ]
    }
   ],
   "source": [
    "# Confirmados PCR Huelva capitalpd\n",
    "c = df[df['Lugar de residencia'] == 'Huelva (capital)'][df['Medida'] == 'Confirmados PDIA']['Valor'].values[0]\n",
    "print('Confirmados PCR en Huelva capital: ', c)"
   ]
  },
  {
   "cell_type": "code",
   "execution_count": 9,
   "metadata": {
    "tags": []
   },
   "outputs": [
    {
     "output_type": "stream",
     "name": "stderr",
     "text": [
      "<ipython-input-9-f09dd2050cc1>:1: UserWarning: Boolean Series key will be reindexed to match DataFrame index.\n  c7 = df[df['Lugar de residencia'] == 'Huelva (capital)'][df['Medida'] == 'Confirmados PDIA 7 días']['Valor'].values[0]\n<ipython-input-9-f09dd2050cc1>:2: UserWarning: Boolean Series key will be reindexed to match DataFrame index.\n  c14 = df[df['Lugar de residencia'] == 'Huelva (capital)'][df['Medida'] == 'Confirmados PDIA 14 días']['Valor'].values[0]\n<ipython-input-9-f09dd2050cc1>:3: UserWarning: Boolean Series key will be reindexed to match DataFrame index.\n  p = df[df['Lugar de residencia'] == 'Huelva (capital)'][df['Medida'] == 'Población']['Valor'].values[0]\n"
     ]
    }
   ],
   "source": [
    "c7 = df[df['Lugar de residencia'] == 'Huelva (capital)'][df['Medida'] == 'Confirmados PDIA 7 días']['Valor'].values[0]\n",
    "c14 = df[df['Lugar de residencia'] == 'Huelva (capital)'][df['Medida'] == 'Confirmados PDIA 14 días']['Valor'].values[0]\n",
    "p = df[df['Lugar de residencia'] == 'Huelva (capital)'][df['Medida'] == 'Población']['Valor'].values[0]"
   ]
  },
  {
   "cell_type": "code",
   "execution_count": 10,
   "metadata": {
    "tags": []
   },
   "outputs": [
    {
     "output_type": "stream",
     "name": "stdout",
     "text": [
      "Huelva (capital)\n\nUn positivo PCR cada 1081 personas en los últimos 7 días \n\nUn positivo PCR cada 549 personas en los últimos 14 días\n"
     ]
    }
   ],
   "source": [
    "print('Huelva (capital)\\n')\n",
    "#print('Confirmados PCR 7 días x 1,000 habitantes: ', f\"{c7/(p/1000):.5f}\")\n",
    "print('Un positivo PCR cada', f\"{p/c7:.0f}\", 'personas en los últimos 7 días', '\\n')\n",
    "#print('Confirmados PCR 14 días x 1,000 habitantes: ', f\"{c14/(p/1000):.5f}\")\n",
    "print('Un positivo PCR cada', f\"{p/c14:.0f}\", 'personas en los últimos 14 días')"
   ]
  },
  {
   "cell_type": "code",
   "execution_count": 11,
   "metadata": {},
   "outputs": [],
   "source": [
    "filtro = ((df['Medida'] == 'Confirmados PDIA')| (df['Medida'] == 'Confirmados PDIA 7 días') | (df['Medida'] == 'Población' ) | (df['Medida'] == 'Confirmados PDIA 14 días')) & (df['Valor'] > 0)\n",
    "tabla = pd.pivot_table(df.loc[filtro], values='Valor', index='Lugar de residencia', columns='Medida').dropna()"
   ]
  },
  {
   "cell_type": "code",
   "execution_count": 12,
   "metadata": {},
   "outputs": [],
   "source": [
    "# Reorder columns\n",
    "tabla = tabla[['Confirmados PDIA', 'Confirmados PDIA 7 días', 'Confirmados PDIA 14 días', 'Población']]"
   ]
  },
  {
   "cell_type": "code",
   "execution_count": 13,
   "metadata": {},
   "outputs": [],
   "source": [
    "tabla['tasa7'] = tabla['Confirmados PDIA 7 días']/tabla['Población']*100000\n",
    "tabla['tasa14'] = tabla['Confirmados PDIA 14 días']/tabla['Población']*100000"
   ]
  },
  {
   "cell_type": "code",
   "execution_count": 14,
   "metadata": {},
   "outputs": [],
   "source": [
    "tabla['Diferencia PDIA'] = tabla['Confirmados PDIA'] - dfAnterior['Confirmados PDIA']"
   ]
  },
  {
   "cell_type": "code",
   "execution_count": 15,
   "metadata": {},
   "outputs": [
    {
     "output_type": "execute_result",
     "data": {
      "text/plain": [
       "Medida                             Confirmados PDIA  Confirmados PDIA 7 días  \\\n",
       "Lugar de residencia                                                            \n",
       "Huelva                                      28840.0                    462.0   \n",
       "Huelva-Costa                                16800.0                    215.0   \n",
       "Condado-Campiña                              9130.0                    215.0   \n",
       "Huelva (capital)                             7497.0                    133.0   \n",
       "Almonte                                      1564.0                     70.0   \n",
       "Sierra de Huelva-Andévalo Central            2568.0                     30.0   \n",
       "Bollullos Par del Condado                     848.0                     46.0   \n",
       "Isla Cristina                                2074.0                     16.0   \n",
       "Cartaya                                      1282.0                     21.0   \n",
       "Palos de la Frontera                          596.0                     19.0   \n",
       "Moguer                                       1115.0                     25.0   \n",
       "Valverde del Camino                           481.0                      9.0   \n",
       "Aljaraque                                    1009.0                     16.0   \n",
       "Punta Umbría                                  717.0                      7.0   \n",
       "Ayamonte                                     1291.0                     14.0   \n",
       "Nerva                                         158.0                      5.0   \n",
       "Escacena del Campo                            147.0                      3.0   \n",
       "Rociana del Condado                           518.0                     11.0   \n",
       "Beas                                          201.0                      5.0   \n",
       "Palma del Condado (La)                       1039.0                      8.0   \n",
       "Aracena                                       513.0                      5.0   \n",
       "Gibraleón                                     589.0                      7.0   \n",
       "Galaroza                                       30.0                      3.0   \n",
       "Minas de Riotinto                             114.0                      1.0   \n",
       "Lepe                                         2084.0                      6.0   \n",
       "Bonares                                       256.0                      4.0   \n",
       "Rosal de la Frontera                           29.0                      2.0   \n",
       "San Juan del Puerto                           451.0                      6.0   \n",
       "Cortegana                                     200.0                      1.0   \n",
       "Trigueros                                     268.0                      1.0   \n",
       "Niebla                                        196.0                      3.0   \n",
       "Cabezas Rubias                                 32.0                      1.0   \n",
       "Villablanca                                   181.0                      1.0   \n",
       "\n",
       "Medida                             Confirmados PDIA 14 días  Población  \\\n",
       "Lugar de residencia                                                      \n",
       "Huelva                                               1039.0   513170.0   \n",
       "Huelva-Costa                                          436.0   289548.0   \n",
       "Condado-Campiña                                       514.0   156231.0   \n",
       "Huelva (capital)                                      262.0   143837.0   \n",
       "Almonte                                               146.0    24507.0   \n",
       "Sierra de Huelva-Andévalo Central                      80.0    67391.0   \n",
       "Bollullos Par del Condado                              85.0    14387.0   \n",
       "Isla Cristina                                          37.0    21393.0   \n",
       "Cartaya                                                45.0    20083.0   \n",
       "Palos de la Frontera                                   31.0    11742.0   \n",
       "Moguer                                                 64.0    21867.0   \n",
       "Valverde del Camino                                    21.0    12750.0   \n",
       "Aljaraque                                              21.0    21474.0   \n",
       "Punta Umbría                                           22.0    15355.0   \n",
       "Ayamonte                                               27.0    21104.0   \n",
       "Nerva                                                   5.0     5169.0   \n",
       "Escacena del Campo                                      4.0     2287.0   \n",
       "Rociana del Condado                                    25.0     7939.0   \n",
       "Beas                                                   22.0     4341.0   \n",
       "Palma del Condado (La)                                 12.0    10801.0   \n",
       "Aracena                                                10.0     8255.0   \n",
       "Gibraleón                                              16.0    12737.0   \n",
       "Galaroza                                                6.0     1382.0   \n",
       "Minas de Riotinto                                       5.0     3812.0   \n",
       "Lepe                                                   17.0    27880.0   \n",
       "Bonares                                                20.0     6060.0   \n",
       "Rosal de la Frontera                                    4.0     1697.0   \n",
       "San Juan del Puerto                                    26.0     9411.0   \n",
       "Cortegana                                               7.0     4602.0   \n",
       "Trigueros                                              15.0     7862.0   \n",
       "Niebla                                                  5.0     4116.0   \n",
       "Cabezas Rubias                                          1.0      706.0   \n",
       "Villablanca                                             2.0     2885.0   \n",
       "\n",
       "Medida                                  tasa7      tasa14  Diferencia PDIA  \n",
       "Lugar de residencia                                                         \n",
       "Huelva                              90.028645  202.467019            161.0  \n",
       "Huelva-Costa                        74.253664  150.579524             96.0  \n",
       "Condado-Campiña                    137.616734  329.000006             76.0  \n",
       "Huelva (capital)                    92.465777  182.150629             57.0  \n",
       "Almonte                            285.632676  595.748154             24.0  \n",
       "Sierra de Huelva-Andévalo Central   44.516330  118.710214             18.0  \n",
       "Bollullos Par del Condado          319.733092  590.811149             17.0  \n",
       "Isla Cristina                       74.790819  172.953770             11.0  \n",
       "Cartaya                            104.566051  224.070109             11.0  \n",
       "Palos de la Frontera               161.812298  264.009538             10.0  \n",
       "Moguer                             114.327525  292.678465              8.0  \n",
       "Valverde del Camino                 70.588235  164.705882              6.0  \n",
       "Aljaraque                           74.508708   97.792680              4.0  \n",
       "Punta Umbría                        45.587756  143.275806              4.0  \n",
       "Ayamonte                            66.338135  127.937832              4.0  \n",
       "Nerva                               96.730509   96.730509              4.0  \n",
       "Escacena del Campo                 131.176213  174.901618              3.0  \n",
       "Rociana del Condado                138.556493  314.901121              3.0  \n",
       "Beas                               115.180834  506.795669              3.0  \n",
       "Palma del Condado (La)              74.067216  111.100824              2.0  \n",
       "Aracena                             60.569352  121.138704              2.0  \n",
       "Gibraleón                           54.957996  125.618277              2.0  \n",
       "Galaroza                           217.076700  434.153401              2.0  \n",
       "Minas de Riotinto                   26.232949  131.164743              2.0  \n",
       "Lepe                                21.520803   60.975610              1.0  \n",
       "Bonares                             66.006601  330.033003              1.0  \n",
       "Rosal de la Frontera               117.855038  235.710077              1.0  \n",
       "San Juan del Puerto                 63.755180  276.272447              1.0  \n",
       "Cortegana                           21.729683  152.107779              1.0  \n",
       "Trigueros                           12.719410  190.791147              1.0  \n",
       "Niebla                              72.886297  121.477162              1.0  \n",
       "Cabezas Rubias                     141.643059  141.643059              NaN  \n",
       "Villablanca                         34.662045   69.324090              NaN  "
      ],
      "text/html": "<div>\n<style scoped>\n    .dataframe tbody tr th:only-of-type {\n        vertical-align: middle;\n    }\n\n    .dataframe tbody tr th {\n        vertical-align: top;\n    }\n\n    .dataframe thead th {\n        text-align: right;\n    }\n</style>\n<table border=\"1\" class=\"dataframe\">\n  <thead>\n    <tr style=\"text-align: right;\">\n      <th>Medida</th>\n      <th>Confirmados PDIA</th>\n      <th>Confirmados PDIA 7 días</th>\n      <th>Confirmados PDIA 14 días</th>\n      <th>Población</th>\n      <th>tasa7</th>\n      <th>tasa14</th>\n      <th>Diferencia PDIA</th>\n    </tr>\n    <tr>\n      <th>Lugar de residencia</th>\n      <th></th>\n      <th></th>\n      <th></th>\n      <th></th>\n      <th></th>\n      <th></th>\n      <th></th>\n    </tr>\n  </thead>\n  <tbody>\n    <tr>\n      <th>Huelva</th>\n      <td>28840.0</td>\n      <td>462.0</td>\n      <td>1039.0</td>\n      <td>513170.0</td>\n      <td>90.028645</td>\n      <td>202.467019</td>\n      <td>161.0</td>\n    </tr>\n    <tr>\n      <th>Huelva-Costa</th>\n      <td>16800.0</td>\n      <td>215.0</td>\n      <td>436.0</td>\n      <td>289548.0</td>\n      <td>74.253664</td>\n      <td>150.579524</td>\n      <td>96.0</td>\n    </tr>\n    <tr>\n      <th>Condado-Campiña</th>\n      <td>9130.0</td>\n      <td>215.0</td>\n      <td>514.0</td>\n      <td>156231.0</td>\n      <td>137.616734</td>\n      <td>329.000006</td>\n      <td>76.0</td>\n    </tr>\n    <tr>\n      <th>Huelva (capital)</th>\n      <td>7497.0</td>\n      <td>133.0</td>\n      <td>262.0</td>\n      <td>143837.0</td>\n      <td>92.465777</td>\n      <td>182.150629</td>\n      <td>57.0</td>\n    </tr>\n    <tr>\n      <th>Almonte</th>\n      <td>1564.0</td>\n      <td>70.0</td>\n      <td>146.0</td>\n      <td>24507.0</td>\n      <td>285.632676</td>\n      <td>595.748154</td>\n      <td>24.0</td>\n    </tr>\n    <tr>\n      <th>Sierra de Huelva-Andévalo Central</th>\n      <td>2568.0</td>\n      <td>30.0</td>\n      <td>80.0</td>\n      <td>67391.0</td>\n      <td>44.516330</td>\n      <td>118.710214</td>\n      <td>18.0</td>\n    </tr>\n    <tr>\n      <th>Bollullos Par del Condado</th>\n      <td>848.0</td>\n      <td>46.0</td>\n      <td>85.0</td>\n      <td>14387.0</td>\n      <td>319.733092</td>\n      <td>590.811149</td>\n      <td>17.0</td>\n    </tr>\n    <tr>\n      <th>Isla Cristina</th>\n      <td>2074.0</td>\n      <td>16.0</td>\n      <td>37.0</td>\n      <td>21393.0</td>\n      <td>74.790819</td>\n      <td>172.953770</td>\n      <td>11.0</td>\n    </tr>\n    <tr>\n      <th>Cartaya</th>\n      <td>1282.0</td>\n      <td>21.0</td>\n      <td>45.0</td>\n      <td>20083.0</td>\n      <td>104.566051</td>\n      <td>224.070109</td>\n      <td>11.0</td>\n    </tr>\n    <tr>\n      <th>Palos de la Frontera</th>\n      <td>596.0</td>\n      <td>19.0</td>\n      <td>31.0</td>\n      <td>11742.0</td>\n      <td>161.812298</td>\n      <td>264.009538</td>\n      <td>10.0</td>\n    </tr>\n    <tr>\n      <th>Moguer</th>\n      <td>1115.0</td>\n      <td>25.0</td>\n      <td>64.0</td>\n      <td>21867.0</td>\n      <td>114.327525</td>\n      <td>292.678465</td>\n      <td>8.0</td>\n    </tr>\n    <tr>\n      <th>Valverde del Camino</th>\n      <td>481.0</td>\n      <td>9.0</td>\n      <td>21.0</td>\n      <td>12750.0</td>\n      <td>70.588235</td>\n      <td>164.705882</td>\n      <td>6.0</td>\n    </tr>\n    <tr>\n      <th>Aljaraque</th>\n      <td>1009.0</td>\n      <td>16.0</td>\n      <td>21.0</td>\n      <td>21474.0</td>\n      <td>74.508708</td>\n      <td>97.792680</td>\n      <td>4.0</td>\n    </tr>\n    <tr>\n      <th>Punta Umbría</th>\n      <td>717.0</td>\n      <td>7.0</td>\n      <td>22.0</td>\n      <td>15355.0</td>\n      <td>45.587756</td>\n      <td>143.275806</td>\n      <td>4.0</td>\n    </tr>\n    <tr>\n      <th>Ayamonte</th>\n      <td>1291.0</td>\n      <td>14.0</td>\n      <td>27.0</td>\n      <td>21104.0</td>\n      <td>66.338135</td>\n      <td>127.937832</td>\n      <td>4.0</td>\n    </tr>\n    <tr>\n      <th>Nerva</th>\n      <td>158.0</td>\n      <td>5.0</td>\n      <td>5.0</td>\n      <td>5169.0</td>\n      <td>96.730509</td>\n      <td>96.730509</td>\n      <td>4.0</td>\n    </tr>\n    <tr>\n      <th>Escacena del Campo</th>\n      <td>147.0</td>\n      <td>3.0</td>\n      <td>4.0</td>\n      <td>2287.0</td>\n      <td>131.176213</td>\n      <td>174.901618</td>\n      <td>3.0</td>\n    </tr>\n    <tr>\n      <th>Rociana del Condado</th>\n      <td>518.0</td>\n      <td>11.0</td>\n      <td>25.0</td>\n      <td>7939.0</td>\n      <td>138.556493</td>\n      <td>314.901121</td>\n      <td>3.0</td>\n    </tr>\n    <tr>\n      <th>Beas</th>\n      <td>201.0</td>\n      <td>5.0</td>\n      <td>22.0</td>\n      <td>4341.0</td>\n      <td>115.180834</td>\n      <td>506.795669</td>\n      <td>3.0</td>\n    </tr>\n    <tr>\n      <th>Palma del Condado (La)</th>\n      <td>1039.0</td>\n      <td>8.0</td>\n      <td>12.0</td>\n      <td>10801.0</td>\n      <td>74.067216</td>\n      <td>111.100824</td>\n      <td>2.0</td>\n    </tr>\n    <tr>\n      <th>Aracena</th>\n      <td>513.0</td>\n      <td>5.0</td>\n      <td>10.0</td>\n      <td>8255.0</td>\n      <td>60.569352</td>\n      <td>121.138704</td>\n      <td>2.0</td>\n    </tr>\n    <tr>\n      <th>Gibraleón</th>\n      <td>589.0</td>\n      <td>7.0</td>\n      <td>16.0</td>\n      <td>12737.0</td>\n      <td>54.957996</td>\n      <td>125.618277</td>\n      <td>2.0</td>\n    </tr>\n    <tr>\n      <th>Galaroza</th>\n      <td>30.0</td>\n      <td>3.0</td>\n      <td>6.0</td>\n      <td>1382.0</td>\n      <td>217.076700</td>\n      <td>434.153401</td>\n      <td>2.0</td>\n    </tr>\n    <tr>\n      <th>Minas de Riotinto</th>\n      <td>114.0</td>\n      <td>1.0</td>\n      <td>5.0</td>\n      <td>3812.0</td>\n      <td>26.232949</td>\n      <td>131.164743</td>\n      <td>2.0</td>\n    </tr>\n    <tr>\n      <th>Lepe</th>\n      <td>2084.0</td>\n      <td>6.0</td>\n      <td>17.0</td>\n      <td>27880.0</td>\n      <td>21.520803</td>\n      <td>60.975610</td>\n      <td>1.0</td>\n    </tr>\n    <tr>\n      <th>Bonares</th>\n      <td>256.0</td>\n      <td>4.0</td>\n      <td>20.0</td>\n      <td>6060.0</td>\n      <td>66.006601</td>\n      <td>330.033003</td>\n      <td>1.0</td>\n    </tr>\n    <tr>\n      <th>Rosal de la Frontera</th>\n      <td>29.0</td>\n      <td>2.0</td>\n      <td>4.0</td>\n      <td>1697.0</td>\n      <td>117.855038</td>\n      <td>235.710077</td>\n      <td>1.0</td>\n    </tr>\n    <tr>\n      <th>San Juan del Puerto</th>\n      <td>451.0</td>\n      <td>6.0</td>\n      <td>26.0</td>\n      <td>9411.0</td>\n      <td>63.755180</td>\n      <td>276.272447</td>\n      <td>1.0</td>\n    </tr>\n    <tr>\n      <th>Cortegana</th>\n      <td>200.0</td>\n      <td>1.0</td>\n      <td>7.0</td>\n      <td>4602.0</td>\n      <td>21.729683</td>\n      <td>152.107779</td>\n      <td>1.0</td>\n    </tr>\n    <tr>\n      <th>Trigueros</th>\n      <td>268.0</td>\n      <td>1.0</td>\n      <td>15.0</td>\n      <td>7862.0</td>\n      <td>12.719410</td>\n      <td>190.791147</td>\n      <td>1.0</td>\n    </tr>\n    <tr>\n      <th>Niebla</th>\n      <td>196.0</td>\n      <td>3.0</td>\n      <td>5.0</td>\n      <td>4116.0</td>\n      <td>72.886297</td>\n      <td>121.477162</td>\n      <td>1.0</td>\n    </tr>\n    <tr>\n      <th>Cabezas Rubias</th>\n      <td>32.0</td>\n      <td>1.0</td>\n      <td>1.0</td>\n      <td>706.0</td>\n      <td>141.643059</td>\n      <td>141.643059</td>\n      <td>NaN</td>\n    </tr>\n    <tr>\n      <th>Villablanca</th>\n      <td>181.0</td>\n      <td>1.0</td>\n      <td>2.0</td>\n      <td>2885.0</td>\n      <td>34.662045</td>\n      <td>69.324090</td>\n      <td>NaN</td>\n    </tr>\n  </tbody>\n</table>\n</div>"
     },
     "metadata": {},
     "execution_count": 15
    }
   ],
   "source": [
    "# Nuevos casos desde la última captura\n",
    "tabla[tabla['Diferencia PDIA'] != 0].sort_values('Diferencia PDIA', ascending=False)"
   ]
  },
  {
   "cell_type": "code",
   "execution_count": 16,
   "metadata": {},
   "outputs": [],
   "source": [
    "if tabla[tabla['Diferencia PDIA'] != 0]['Diferencia PDIA'].sum() != 0:\n",
    "  # Save to csv\n",
    "  tabla.to_csv('covid_huelva.csv', encoding='utf-8', header=True, index=True)  "
   ]
  },
  {
   "cell_type": "code",
   "execution_count": 17,
   "metadata": {},
   "outputs": [
    {
     "output_type": "execute_result",
     "data": {
      "text/plain": [
       "Medida                             Confirmados PDIA  Confirmados PDIA 7 días  \\\n",
       "Lugar de residencia                                                            \n",
       "Lucena del Puerto                             233.0                      6.0   \n",
       "Cumbres de San Bartolomé                       11.0                      1.0   \n",
       "Almonte                                      1564.0                     70.0   \n",
       "Bollullos Par del Condado                     848.0                     46.0   \n",
       "Beas                                          201.0                      5.0   \n",
       "Cañaveral de León                               5.0                      1.0   \n",
       "Galaroza                                       30.0                      3.0   \n",
       "Bonares                                       256.0                      4.0   \n",
       "Condado-Campiña                              9130.0                    215.0   \n",
       "Rociana del Condado                           518.0                     11.0   \n",
       "Moguer                                       1115.0                     25.0   \n",
       "San Juan del Puerto                           451.0                      6.0   \n",
       "Palos de la Frontera                          596.0                     19.0   \n",
       "Rosal de la Frontera                           29.0                      2.0   \n",
       "Cartaya                                      1282.0                     21.0   \n",
       "Santa Ana la Real                              10.0                      1.0   \n",
       "Huelva                                      28840.0                    462.0   \n",
       "Trigueros                                     268.0                      1.0   \n",
       "Huelva (capital)                             7497.0                    133.0   \n",
       "Escacena del Campo                            147.0                      3.0   \n",
       "Isla Cristina                                2074.0                     16.0   \n",
       "Almonaster la Real                             66.0                      1.0   \n",
       "Valverde del Camino                           481.0                      9.0   \n",
       "Cortegana                                     200.0                      1.0   \n",
       "Huelva-Costa                                16800.0                    215.0   \n",
       "Punta Umbría                                  717.0                      7.0   \n",
       "Cabezas Rubias                                 32.0                      1.0   \n",
       "Minas de Riotinto                             114.0                      1.0   \n",
       "Ayamonte                                     1291.0                     14.0   \n",
       "Gibraleón                                     589.0                      7.0   \n",
       "Niebla                                        196.0                      3.0   \n",
       "Aracena                                       513.0                      5.0   \n",
       "Sierra de Huelva-Andévalo Central            2568.0                     30.0   \n",
       "Palma del Condado (La)                       1039.0                      8.0   \n",
       "Aljaraque                                    1009.0                     16.0   \n",
       "Nerva                                         158.0                      5.0   \n",
       "Villablanca                                   181.0                      1.0   \n",
       "Lepe                                         2084.0                      6.0   \n",
       "Manzanilla                                     85.0                      1.0   \n",
       "\n",
       "Medida                             Confirmados PDIA 14 días  Población  \\\n",
       "Lugar de residencia                                                      \n",
       "Lucena del Puerto                                      42.0     3261.0   \n",
       "Cumbres de San Bartolomé                                3.0      376.0   \n",
       "Almonte                                               146.0    24507.0   \n",
       "Bollullos Par del Condado                              85.0    14387.0   \n",
       "Beas                                                   22.0     4341.0   \n",
       "Cañaveral de León                                       2.0      396.0   \n",
       "Galaroza                                                6.0     1382.0   \n",
       "Bonares                                                20.0     6060.0   \n",
       "Condado-Campiña                                       514.0   156231.0   \n",
       "Rociana del Condado                                    25.0     7939.0   \n",
       "Moguer                                                 64.0    21867.0   \n",
       "San Juan del Puerto                                    26.0     9411.0   \n",
       "Palos de la Frontera                                   31.0    11742.0   \n",
       "Rosal de la Frontera                                    4.0     1697.0   \n",
       "Cartaya                                                45.0    20083.0   \n",
       "Santa Ana la Real                                       1.0      475.0   \n",
       "Huelva                                               1039.0   513170.0   \n",
       "Trigueros                                              15.0     7862.0   \n",
       "Huelva (capital)                                      262.0   143837.0   \n",
       "Escacena del Campo                                      4.0     2287.0   \n",
       "Isla Cristina                                          37.0    21393.0   \n",
       "Almonaster la Real                                      3.0     1788.0   \n",
       "Valverde del Camino                                    21.0    12750.0   \n",
       "Cortegana                                               7.0     4602.0   \n",
       "Huelva-Costa                                          436.0   289548.0   \n",
       "Punta Umbría                                           22.0    15355.0   \n",
       "Cabezas Rubias                                          1.0      706.0   \n",
       "Minas de Riotinto                                       5.0     3812.0   \n",
       "Ayamonte                                               27.0    21104.0   \n",
       "Gibraleón                                              16.0    12737.0   \n",
       "Niebla                                                  5.0     4116.0   \n",
       "Aracena                                                10.0     8255.0   \n",
       "Sierra de Huelva-Andévalo Central                      80.0    67391.0   \n",
       "Palma del Condado (La)                                 12.0    10801.0   \n",
       "Aljaraque                                              21.0    21474.0   \n",
       "Nerva                                                   5.0     5169.0   \n",
       "Villablanca                                             2.0     2885.0   \n",
       "Lepe                                                   17.0    27880.0   \n",
       "Manzanilla                                              1.0     2118.0   \n",
       "\n",
       "Medida                                  tasa7       tasa14  Diferencia PDIA  \n",
       "Lugar de residencia                                                          \n",
       "Lucena del Puerto                  183.992640  1287.948482              0.0  \n",
       "Cumbres de San Bartolomé           265.957447   797.872340              0.0  \n",
       "Almonte                            285.632676   595.748154             24.0  \n",
       "Bollullos Par del Condado          319.733092   590.811149             17.0  \n",
       "Beas                               115.180834   506.795669              3.0  \n",
       "Cañaveral de León                  252.525253   505.050505              0.0  \n",
       "Galaroza                           217.076700   434.153401              2.0  \n",
       "Bonares                             66.006601   330.033003              1.0  \n",
       "Condado-Campiña                    137.616734   329.000006             76.0  \n",
       "Rociana del Condado                138.556493   314.901121              3.0  \n",
       "Moguer                             114.327525   292.678465              8.0  \n",
       "San Juan del Puerto                 63.755180   276.272447              1.0  \n",
       "Palos de la Frontera               161.812298   264.009538             10.0  \n",
       "Rosal de la Frontera               117.855038   235.710077              1.0  \n",
       "Cartaya                            104.566051   224.070109             11.0  \n",
       "Santa Ana la Real                  210.526316   210.526316              0.0  \n",
       "Huelva                              90.028645   202.467019            161.0  \n",
       "Trigueros                           12.719410   190.791147              1.0  \n",
       "Huelva (capital)                    92.465777   182.150629             57.0  \n",
       "Escacena del Campo                 131.176213   174.901618              3.0  \n",
       "Isla Cristina                       74.790819   172.953770             11.0  \n",
       "Almonaster la Real                  55.928412   167.785235              0.0  \n",
       "Valverde del Camino                 70.588235   164.705882              6.0  \n",
       "Cortegana                           21.729683   152.107779              1.0  \n",
       "Huelva-Costa                        74.253664   150.579524             96.0  \n",
       "Punta Umbría                        45.587756   143.275806              4.0  \n",
       "Cabezas Rubias                     141.643059   141.643059              NaN  \n",
       "Minas de Riotinto                   26.232949   131.164743              2.0  \n",
       "Ayamonte                            66.338135   127.937832              4.0  \n",
       "Gibraleón                           54.957996   125.618277              2.0  \n",
       "Niebla                              72.886297   121.477162              1.0  \n",
       "Aracena                             60.569352   121.138704              2.0  \n",
       "Sierra de Huelva-Andévalo Central   44.516330   118.710214             18.0  \n",
       "Palma del Condado (La)              74.067216   111.100824              2.0  \n",
       "Aljaraque                           74.508708    97.792680              4.0  \n",
       "Nerva                               96.730509    96.730509              4.0  \n",
       "Villablanca                         34.662045    69.324090              NaN  \n",
       "Lepe                                21.520803    60.975610              1.0  \n",
       "Manzanilla                          47.214353    47.214353              0.0  "
      ],
      "text/html": "<div>\n<style scoped>\n    .dataframe tbody tr th:only-of-type {\n        vertical-align: middle;\n    }\n\n    .dataframe tbody tr th {\n        vertical-align: top;\n    }\n\n    .dataframe thead th {\n        text-align: right;\n    }\n</style>\n<table border=\"1\" class=\"dataframe\">\n  <thead>\n    <tr style=\"text-align: right;\">\n      <th>Medida</th>\n      <th>Confirmados PDIA</th>\n      <th>Confirmados PDIA 7 días</th>\n      <th>Confirmados PDIA 14 días</th>\n      <th>Población</th>\n      <th>tasa7</th>\n      <th>tasa14</th>\n      <th>Diferencia PDIA</th>\n    </tr>\n    <tr>\n      <th>Lugar de residencia</th>\n      <th></th>\n      <th></th>\n      <th></th>\n      <th></th>\n      <th></th>\n      <th></th>\n      <th></th>\n    </tr>\n  </thead>\n  <tbody>\n    <tr>\n      <th>Lucena del Puerto</th>\n      <td>233.0</td>\n      <td>6.0</td>\n      <td>42.0</td>\n      <td>3261.0</td>\n      <td>183.992640</td>\n      <td>1287.948482</td>\n      <td>0.0</td>\n    </tr>\n    <tr>\n      <th>Cumbres de San Bartolomé</th>\n      <td>11.0</td>\n      <td>1.0</td>\n      <td>3.0</td>\n      <td>376.0</td>\n      <td>265.957447</td>\n      <td>797.872340</td>\n      <td>0.0</td>\n    </tr>\n    <tr>\n      <th>Almonte</th>\n      <td>1564.0</td>\n      <td>70.0</td>\n      <td>146.0</td>\n      <td>24507.0</td>\n      <td>285.632676</td>\n      <td>595.748154</td>\n      <td>24.0</td>\n    </tr>\n    <tr>\n      <th>Bollullos Par del Condado</th>\n      <td>848.0</td>\n      <td>46.0</td>\n      <td>85.0</td>\n      <td>14387.0</td>\n      <td>319.733092</td>\n      <td>590.811149</td>\n      <td>17.0</td>\n    </tr>\n    <tr>\n      <th>Beas</th>\n      <td>201.0</td>\n      <td>5.0</td>\n      <td>22.0</td>\n      <td>4341.0</td>\n      <td>115.180834</td>\n      <td>506.795669</td>\n      <td>3.0</td>\n    </tr>\n    <tr>\n      <th>Cañaveral de León</th>\n      <td>5.0</td>\n      <td>1.0</td>\n      <td>2.0</td>\n      <td>396.0</td>\n      <td>252.525253</td>\n      <td>505.050505</td>\n      <td>0.0</td>\n    </tr>\n    <tr>\n      <th>Galaroza</th>\n      <td>30.0</td>\n      <td>3.0</td>\n      <td>6.0</td>\n      <td>1382.0</td>\n      <td>217.076700</td>\n      <td>434.153401</td>\n      <td>2.0</td>\n    </tr>\n    <tr>\n      <th>Bonares</th>\n      <td>256.0</td>\n      <td>4.0</td>\n      <td>20.0</td>\n      <td>6060.0</td>\n      <td>66.006601</td>\n      <td>330.033003</td>\n      <td>1.0</td>\n    </tr>\n    <tr>\n      <th>Condado-Campiña</th>\n      <td>9130.0</td>\n      <td>215.0</td>\n      <td>514.0</td>\n      <td>156231.0</td>\n      <td>137.616734</td>\n      <td>329.000006</td>\n      <td>76.0</td>\n    </tr>\n    <tr>\n      <th>Rociana del Condado</th>\n      <td>518.0</td>\n      <td>11.0</td>\n      <td>25.0</td>\n      <td>7939.0</td>\n      <td>138.556493</td>\n      <td>314.901121</td>\n      <td>3.0</td>\n    </tr>\n    <tr>\n      <th>Moguer</th>\n      <td>1115.0</td>\n      <td>25.0</td>\n      <td>64.0</td>\n      <td>21867.0</td>\n      <td>114.327525</td>\n      <td>292.678465</td>\n      <td>8.0</td>\n    </tr>\n    <tr>\n      <th>San Juan del Puerto</th>\n      <td>451.0</td>\n      <td>6.0</td>\n      <td>26.0</td>\n      <td>9411.0</td>\n      <td>63.755180</td>\n      <td>276.272447</td>\n      <td>1.0</td>\n    </tr>\n    <tr>\n      <th>Palos de la Frontera</th>\n      <td>596.0</td>\n      <td>19.0</td>\n      <td>31.0</td>\n      <td>11742.0</td>\n      <td>161.812298</td>\n      <td>264.009538</td>\n      <td>10.0</td>\n    </tr>\n    <tr>\n      <th>Rosal de la Frontera</th>\n      <td>29.0</td>\n      <td>2.0</td>\n      <td>4.0</td>\n      <td>1697.0</td>\n      <td>117.855038</td>\n      <td>235.710077</td>\n      <td>1.0</td>\n    </tr>\n    <tr>\n      <th>Cartaya</th>\n      <td>1282.0</td>\n      <td>21.0</td>\n      <td>45.0</td>\n      <td>20083.0</td>\n      <td>104.566051</td>\n      <td>224.070109</td>\n      <td>11.0</td>\n    </tr>\n    <tr>\n      <th>Santa Ana la Real</th>\n      <td>10.0</td>\n      <td>1.0</td>\n      <td>1.0</td>\n      <td>475.0</td>\n      <td>210.526316</td>\n      <td>210.526316</td>\n      <td>0.0</td>\n    </tr>\n    <tr>\n      <th>Huelva</th>\n      <td>28840.0</td>\n      <td>462.0</td>\n      <td>1039.0</td>\n      <td>513170.0</td>\n      <td>90.028645</td>\n      <td>202.467019</td>\n      <td>161.0</td>\n    </tr>\n    <tr>\n      <th>Trigueros</th>\n      <td>268.0</td>\n      <td>1.0</td>\n      <td>15.0</td>\n      <td>7862.0</td>\n      <td>12.719410</td>\n      <td>190.791147</td>\n      <td>1.0</td>\n    </tr>\n    <tr>\n      <th>Huelva (capital)</th>\n      <td>7497.0</td>\n      <td>133.0</td>\n      <td>262.0</td>\n      <td>143837.0</td>\n      <td>92.465777</td>\n      <td>182.150629</td>\n      <td>57.0</td>\n    </tr>\n    <tr>\n      <th>Escacena del Campo</th>\n      <td>147.0</td>\n      <td>3.0</td>\n      <td>4.0</td>\n      <td>2287.0</td>\n      <td>131.176213</td>\n      <td>174.901618</td>\n      <td>3.0</td>\n    </tr>\n    <tr>\n      <th>Isla Cristina</th>\n      <td>2074.0</td>\n      <td>16.0</td>\n      <td>37.0</td>\n      <td>21393.0</td>\n      <td>74.790819</td>\n      <td>172.953770</td>\n      <td>11.0</td>\n    </tr>\n    <tr>\n      <th>Almonaster la Real</th>\n      <td>66.0</td>\n      <td>1.0</td>\n      <td>3.0</td>\n      <td>1788.0</td>\n      <td>55.928412</td>\n      <td>167.785235</td>\n      <td>0.0</td>\n    </tr>\n    <tr>\n      <th>Valverde del Camino</th>\n      <td>481.0</td>\n      <td>9.0</td>\n      <td>21.0</td>\n      <td>12750.0</td>\n      <td>70.588235</td>\n      <td>164.705882</td>\n      <td>6.0</td>\n    </tr>\n    <tr>\n      <th>Cortegana</th>\n      <td>200.0</td>\n      <td>1.0</td>\n      <td>7.0</td>\n      <td>4602.0</td>\n      <td>21.729683</td>\n      <td>152.107779</td>\n      <td>1.0</td>\n    </tr>\n    <tr>\n      <th>Huelva-Costa</th>\n      <td>16800.0</td>\n      <td>215.0</td>\n      <td>436.0</td>\n      <td>289548.0</td>\n      <td>74.253664</td>\n      <td>150.579524</td>\n      <td>96.0</td>\n    </tr>\n    <tr>\n      <th>Punta Umbría</th>\n      <td>717.0</td>\n      <td>7.0</td>\n      <td>22.0</td>\n      <td>15355.0</td>\n      <td>45.587756</td>\n      <td>143.275806</td>\n      <td>4.0</td>\n    </tr>\n    <tr>\n      <th>Cabezas Rubias</th>\n      <td>32.0</td>\n      <td>1.0</td>\n      <td>1.0</td>\n      <td>706.0</td>\n      <td>141.643059</td>\n      <td>141.643059</td>\n      <td>NaN</td>\n    </tr>\n    <tr>\n      <th>Minas de Riotinto</th>\n      <td>114.0</td>\n      <td>1.0</td>\n      <td>5.0</td>\n      <td>3812.0</td>\n      <td>26.232949</td>\n      <td>131.164743</td>\n      <td>2.0</td>\n    </tr>\n    <tr>\n      <th>Ayamonte</th>\n      <td>1291.0</td>\n      <td>14.0</td>\n      <td>27.0</td>\n      <td>21104.0</td>\n      <td>66.338135</td>\n      <td>127.937832</td>\n      <td>4.0</td>\n    </tr>\n    <tr>\n      <th>Gibraleón</th>\n      <td>589.0</td>\n      <td>7.0</td>\n      <td>16.0</td>\n      <td>12737.0</td>\n      <td>54.957996</td>\n      <td>125.618277</td>\n      <td>2.0</td>\n    </tr>\n    <tr>\n      <th>Niebla</th>\n      <td>196.0</td>\n      <td>3.0</td>\n      <td>5.0</td>\n      <td>4116.0</td>\n      <td>72.886297</td>\n      <td>121.477162</td>\n      <td>1.0</td>\n    </tr>\n    <tr>\n      <th>Aracena</th>\n      <td>513.0</td>\n      <td>5.0</td>\n      <td>10.0</td>\n      <td>8255.0</td>\n      <td>60.569352</td>\n      <td>121.138704</td>\n      <td>2.0</td>\n    </tr>\n    <tr>\n      <th>Sierra de Huelva-Andévalo Central</th>\n      <td>2568.0</td>\n      <td>30.0</td>\n      <td>80.0</td>\n      <td>67391.0</td>\n      <td>44.516330</td>\n      <td>118.710214</td>\n      <td>18.0</td>\n    </tr>\n    <tr>\n      <th>Palma del Condado (La)</th>\n      <td>1039.0</td>\n      <td>8.0</td>\n      <td>12.0</td>\n      <td>10801.0</td>\n      <td>74.067216</td>\n      <td>111.100824</td>\n      <td>2.0</td>\n    </tr>\n    <tr>\n      <th>Aljaraque</th>\n      <td>1009.0</td>\n      <td>16.0</td>\n      <td>21.0</td>\n      <td>21474.0</td>\n      <td>74.508708</td>\n      <td>97.792680</td>\n      <td>4.0</td>\n    </tr>\n    <tr>\n      <th>Nerva</th>\n      <td>158.0</td>\n      <td>5.0</td>\n      <td>5.0</td>\n      <td>5169.0</td>\n      <td>96.730509</td>\n      <td>96.730509</td>\n      <td>4.0</td>\n    </tr>\n    <tr>\n      <th>Villablanca</th>\n      <td>181.0</td>\n      <td>1.0</td>\n      <td>2.0</td>\n      <td>2885.0</td>\n      <td>34.662045</td>\n      <td>69.324090</td>\n      <td>NaN</td>\n    </tr>\n    <tr>\n      <th>Lepe</th>\n      <td>2084.0</td>\n      <td>6.0</td>\n      <td>17.0</td>\n      <td>27880.0</td>\n      <td>21.520803</td>\n      <td>60.975610</td>\n      <td>1.0</td>\n    </tr>\n    <tr>\n      <th>Manzanilla</th>\n      <td>85.0</td>\n      <td>1.0</td>\n      <td>1.0</td>\n      <td>2118.0</td>\n      <td>47.214353</td>\n      <td>47.214353</td>\n      <td>0.0</td>\n    </tr>\n  </tbody>\n</table>\n</div>"
     },
     "metadata": {},
     "execution_count": 17
    }
   ],
   "source": [
    "tabla.sort_values('tasa14', ascending=False)"
   ]
  },
  {
   "cell_type": "code",
   "execution_count": 18,
   "metadata": {},
   "outputs": [
    {
     "output_type": "execute_result",
     "data": {
      "text/plain": [
       "Medida                             Confirmados PDIA  Confirmados PDIA 7 días  \\\n",
       "Lugar de residencia                                                            \n",
       "Trigueros                                     268.0                      1.0   \n",
       "Lucena del Puerto                             233.0                      6.0   \n",
       "Cortegana                                     200.0                      1.0   \n",
       "Bonares                                       256.0                      4.0   \n",
       "Minas de Riotinto                             114.0                      1.0   \n",
       "Beas                                          201.0                      5.0   \n",
       "San Juan del Puerto                           451.0                      6.0   \n",
       "Punta Umbría                                  717.0                      7.0   \n",
       "Almonaster la Real                             66.0                      1.0   \n",
       "Cumbres de San Bartolomé                       11.0                      1.0   \n",
       "Lepe                                         2084.0                      6.0   \n",
       "Sierra de Huelva-Andévalo Central            2568.0                     30.0   \n",
       "Moguer                                       1115.0                     25.0   \n",
       "Condado-Campiña                              9130.0                    215.0   \n",
       "Valverde del Camino                           481.0                      9.0   \n",
       "Isla Cristina                                2074.0                     16.0   \n",
       "Gibraleón                                     589.0                      7.0   \n",
       "Rociana del Condado                           518.0                     11.0   \n",
       "Huelva                                      28840.0                    462.0   \n",
       "Cartaya                                      1282.0                     21.0   \n",
       "Almonte                                      1564.0                     70.0   \n",
       "Huelva-Costa                                16800.0                    215.0   \n",
       "Rosal de la Frontera                           29.0                      2.0   \n",
       "Villablanca                                   181.0                      1.0   \n",
       "Galaroza                                       30.0                      3.0   \n",
       "Cañaveral de León                               5.0                      1.0   \n",
       "Aracena                                       513.0                      5.0   \n",
       "Huelva (capital)                             7497.0                    133.0   \n",
       "Ayamonte                                     1291.0                     14.0   \n",
       "Bollullos Par del Condado                     848.0                     46.0   \n",
       "Niebla                                        196.0                      3.0   \n",
       "Palos de la Frontera                          596.0                     19.0   \n",
       "Palma del Condado (La)                       1039.0                      8.0   \n",
       "Escacena del Campo                            147.0                      3.0   \n",
       "Aljaraque                                    1009.0                     16.0   \n",
       "Nerva                                         158.0                      5.0   \n",
       "Cabezas Rubias                                 32.0                      1.0   \n",
       "Santa Ana la Real                              10.0                      1.0   \n",
       "Manzanilla                                     85.0                      1.0   \n",
       "\n",
       "Medida                             Confirmados PDIA 14 días  Población  \\\n",
       "Lugar de residencia                                                      \n",
       "Trigueros                                              15.0     7862.0   \n",
       "Lucena del Puerto                                      42.0     3261.0   \n",
       "Cortegana                                               7.0     4602.0   \n",
       "Bonares                                                20.0     6060.0   \n",
       "Minas de Riotinto                                       5.0     3812.0   \n",
       "Beas                                                   22.0     4341.0   \n",
       "San Juan del Puerto                                    26.0     9411.0   \n",
       "Punta Umbría                                           22.0    15355.0   \n",
       "Almonaster la Real                                      3.0     1788.0   \n",
       "Cumbres de San Bartolomé                                3.0      376.0   \n",
       "Lepe                                                   17.0    27880.0   \n",
       "Sierra de Huelva-Andévalo Central                      80.0    67391.0   \n",
       "Moguer                                                 64.0    21867.0   \n",
       "Condado-Campiña                                       514.0   156231.0   \n",
       "Valverde del Camino                                    21.0    12750.0   \n",
       "Isla Cristina                                          37.0    21393.0   \n",
       "Gibraleón                                              16.0    12737.0   \n",
       "Rociana del Condado                                    25.0     7939.0   \n",
       "Huelva                                               1039.0   513170.0   \n",
       "Cartaya                                                45.0    20083.0   \n",
       "Almonte                                               146.0    24507.0   \n",
       "Huelva-Costa                                          436.0   289548.0   \n",
       "Rosal de la Frontera                                    4.0     1697.0   \n",
       "Villablanca                                             2.0     2885.0   \n",
       "Galaroza                                                6.0     1382.0   \n",
       "Cañaveral de León                                       2.0      396.0   \n",
       "Aracena                                                10.0     8255.0   \n",
       "Huelva (capital)                                      262.0   143837.0   \n",
       "Ayamonte                                               27.0    21104.0   \n",
       "Bollullos Par del Condado                              85.0    14387.0   \n",
       "Niebla                                                  5.0     4116.0   \n",
       "Palos de la Frontera                                   31.0    11742.0   \n",
       "Palma del Condado (La)                                 12.0    10801.0   \n",
       "Escacena del Campo                                      4.0     2287.0   \n",
       "Aljaraque                                              21.0    21474.0   \n",
       "Nerva                                                   5.0     5169.0   \n",
       "Cabezas Rubias                                          1.0      706.0   \n",
       "Santa Ana la Real                                       1.0      475.0   \n",
       "Manzanilla                                              1.0     2118.0   \n",
       "\n",
       "Medida                                  tasa7       tasa14  Diferencia PDIA  \\\n",
       "Lugar de residencia                                                           \n",
       "Trigueros                           12.719410   190.791147              1.0   \n",
       "Lucena del Puerto                  183.992640  1287.948482              0.0   \n",
       "Cortegana                           21.729683   152.107779              1.0   \n",
       "Bonares                             66.006601   330.033003              1.0   \n",
       "Minas de Riotinto                   26.232949   131.164743              2.0   \n",
       "Beas                               115.180834   506.795669              3.0   \n",
       "San Juan del Puerto                 63.755180   276.272447              1.0   \n",
       "Punta Umbría                        45.587756   143.275806              4.0   \n",
       "Almonaster la Real                  55.928412   167.785235              0.0   \n",
       "Cumbres de San Bartolomé           265.957447   797.872340              0.0   \n",
       "Lepe                                21.520803    60.975610              1.0   \n",
       "Sierra de Huelva-Andévalo Central   44.516330   118.710214             18.0   \n",
       "Moguer                             114.327525   292.678465              8.0   \n",
       "Condado-Campiña                    137.616734   329.000006             76.0   \n",
       "Valverde del Camino                 70.588235   164.705882              6.0   \n",
       "Isla Cristina                       74.790819   172.953770             11.0   \n",
       "Gibraleón                           54.957996   125.618277              2.0   \n",
       "Rociana del Condado                138.556493   314.901121              3.0   \n",
       "Huelva                              90.028645   202.467019            161.0   \n",
       "Cartaya                            104.566051   224.070109             11.0   \n",
       "Almonte                            285.632676   595.748154             24.0   \n",
       "Huelva-Costa                        74.253664   150.579524             96.0   \n",
       "Rosal de la Frontera               117.855038   235.710077              1.0   \n",
       "Villablanca                         34.662045    69.324090              0.0   \n",
       "Galaroza                           217.076700   434.153401              2.0   \n",
       "Cañaveral de León                  252.525253   505.050505              0.0   \n",
       "Aracena                             60.569352   121.138704              2.0   \n",
       "Huelva (capital)                    92.465777   182.150629             57.0   \n",
       "Ayamonte                            66.338135   127.937832              4.0   \n",
       "Bollullos Par del Condado          319.733092   590.811149             17.0   \n",
       "Niebla                              72.886297   121.477162              1.0   \n",
       "Palos de la Frontera               161.812298   264.009538             10.0   \n",
       "Palma del Condado (La)              74.067216   111.100824              2.0   \n",
       "Escacena del Campo                 131.176213   174.901618              3.0   \n",
       "Aljaraque                           74.508708    97.792680              4.0   \n",
       "Nerva                               96.730509    96.730509              4.0   \n",
       "Cabezas Rubias                     141.643059   141.643059              0.0   \n",
       "Santa Ana la Real                  210.526316   210.526316              0.0   \n",
       "Manzanilla                          47.214353    47.214353              0.0   \n",
       "\n",
       "Medida                                 7/14  \n",
       "Lugar de residencia                          \n",
       "Trigueros                          0.066667  \n",
       "Lucena del Puerto                  0.142857  \n",
       "Cortegana                          0.142857  \n",
       "Bonares                            0.200000  \n",
       "Minas de Riotinto                  0.200000  \n",
       "Beas                               0.227273  \n",
       "San Juan del Puerto                0.230769  \n",
       "Punta Umbría                       0.318182  \n",
       "Almonaster la Real                 0.333333  \n",
       "Cumbres de San Bartolomé           0.333333  \n",
       "Lepe                               0.352941  \n",
       "Sierra de Huelva-Andévalo Central  0.375000  \n",
       "Moguer                             0.390625  \n",
       "Condado-Campiña                    0.418288  \n",
       "Valverde del Camino                0.428571  \n",
       "Isla Cristina                      0.432432  \n",
       "Gibraleón                          0.437500  \n",
       "Rociana del Condado                0.440000  \n",
       "Huelva                             0.444658  \n",
       "Cartaya                            0.466667  \n",
       "Almonte                            0.479452  \n",
       "Huelva-Costa                       0.493119  \n",
       "Rosal de la Frontera               0.500000  \n",
       "Villablanca                        0.500000  \n",
       "Galaroza                           0.500000  \n",
       "Cañaveral de León                  0.500000  \n",
       "Aracena                            0.500000  \n",
       "Huelva (capital)                   0.507634  \n",
       "Ayamonte                           0.518519  \n",
       "Bollullos Par del Condado          0.541176  \n",
       "Niebla                             0.600000  \n",
       "Palos de la Frontera               0.612903  \n",
       "Palma del Condado (La)             0.666667  \n",
       "Escacena del Campo                 0.750000  \n",
       "Aljaraque                          0.761905  \n",
       "Nerva                              1.000000  \n",
       "Cabezas Rubias                     1.000000  \n",
       "Santa Ana la Real                  1.000000  \n",
       "Manzanilla                         1.000000  "
      ],
      "text/html": "<div>\n<style scoped>\n    .dataframe tbody tr th:only-of-type {\n        vertical-align: middle;\n    }\n\n    .dataframe tbody tr th {\n        vertical-align: top;\n    }\n\n    .dataframe thead th {\n        text-align: right;\n    }\n</style>\n<table border=\"1\" class=\"dataframe\">\n  <thead>\n    <tr style=\"text-align: right;\">\n      <th>Medida</th>\n      <th>Confirmados PDIA</th>\n      <th>Confirmados PDIA 7 días</th>\n      <th>Confirmados PDIA 14 días</th>\n      <th>Población</th>\n      <th>tasa7</th>\n      <th>tasa14</th>\n      <th>Diferencia PDIA</th>\n      <th>7/14</th>\n    </tr>\n    <tr>\n      <th>Lugar de residencia</th>\n      <th></th>\n      <th></th>\n      <th></th>\n      <th></th>\n      <th></th>\n      <th></th>\n      <th></th>\n      <th></th>\n    </tr>\n  </thead>\n  <tbody>\n    <tr>\n      <th>Trigueros</th>\n      <td>268.0</td>\n      <td>1.0</td>\n      <td>15.0</td>\n      <td>7862.0</td>\n      <td>12.719410</td>\n      <td>190.791147</td>\n      <td>1.0</td>\n      <td>0.066667</td>\n    </tr>\n    <tr>\n      <th>Lucena del Puerto</th>\n      <td>233.0</td>\n      <td>6.0</td>\n      <td>42.0</td>\n      <td>3261.0</td>\n      <td>183.992640</td>\n      <td>1287.948482</td>\n      <td>0.0</td>\n      <td>0.142857</td>\n    </tr>\n    <tr>\n      <th>Cortegana</th>\n      <td>200.0</td>\n      <td>1.0</td>\n      <td>7.0</td>\n      <td>4602.0</td>\n      <td>21.729683</td>\n      <td>152.107779</td>\n      <td>1.0</td>\n      <td>0.142857</td>\n    </tr>\n    <tr>\n      <th>Bonares</th>\n      <td>256.0</td>\n      <td>4.0</td>\n      <td>20.0</td>\n      <td>6060.0</td>\n      <td>66.006601</td>\n      <td>330.033003</td>\n      <td>1.0</td>\n      <td>0.200000</td>\n    </tr>\n    <tr>\n      <th>Minas de Riotinto</th>\n      <td>114.0</td>\n      <td>1.0</td>\n      <td>5.0</td>\n      <td>3812.0</td>\n      <td>26.232949</td>\n      <td>131.164743</td>\n      <td>2.0</td>\n      <td>0.200000</td>\n    </tr>\n    <tr>\n      <th>Beas</th>\n      <td>201.0</td>\n      <td>5.0</td>\n      <td>22.0</td>\n      <td>4341.0</td>\n      <td>115.180834</td>\n      <td>506.795669</td>\n      <td>3.0</td>\n      <td>0.227273</td>\n    </tr>\n    <tr>\n      <th>San Juan del Puerto</th>\n      <td>451.0</td>\n      <td>6.0</td>\n      <td>26.0</td>\n      <td>9411.0</td>\n      <td>63.755180</td>\n      <td>276.272447</td>\n      <td>1.0</td>\n      <td>0.230769</td>\n    </tr>\n    <tr>\n      <th>Punta Umbría</th>\n      <td>717.0</td>\n      <td>7.0</td>\n      <td>22.0</td>\n      <td>15355.0</td>\n      <td>45.587756</td>\n      <td>143.275806</td>\n      <td>4.0</td>\n      <td>0.318182</td>\n    </tr>\n    <tr>\n      <th>Almonaster la Real</th>\n      <td>66.0</td>\n      <td>1.0</td>\n      <td>3.0</td>\n      <td>1788.0</td>\n      <td>55.928412</td>\n      <td>167.785235</td>\n      <td>0.0</td>\n      <td>0.333333</td>\n    </tr>\n    <tr>\n      <th>Cumbres de San Bartolomé</th>\n      <td>11.0</td>\n      <td>1.0</td>\n      <td>3.0</td>\n      <td>376.0</td>\n      <td>265.957447</td>\n      <td>797.872340</td>\n      <td>0.0</td>\n      <td>0.333333</td>\n    </tr>\n    <tr>\n      <th>Lepe</th>\n      <td>2084.0</td>\n      <td>6.0</td>\n      <td>17.0</td>\n      <td>27880.0</td>\n      <td>21.520803</td>\n      <td>60.975610</td>\n      <td>1.0</td>\n      <td>0.352941</td>\n    </tr>\n    <tr>\n      <th>Sierra de Huelva-Andévalo Central</th>\n      <td>2568.0</td>\n      <td>30.0</td>\n      <td>80.0</td>\n      <td>67391.0</td>\n      <td>44.516330</td>\n      <td>118.710214</td>\n      <td>18.0</td>\n      <td>0.375000</td>\n    </tr>\n    <tr>\n      <th>Moguer</th>\n      <td>1115.0</td>\n      <td>25.0</td>\n      <td>64.0</td>\n      <td>21867.0</td>\n      <td>114.327525</td>\n      <td>292.678465</td>\n      <td>8.0</td>\n      <td>0.390625</td>\n    </tr>\n    <tr>\n      <th>Condado-Campiña</th>\n      <td>9130.0</td>\n      <td>215.0</td>\n      <td>514.0</td>\n      <td>156231.0</td>\n      <td>137.616734</td>\n      <td>329.000006</td>\n      <td>76.0</td>\n      <td>0.418288</td>\n    </tr>\n    <tr>\n      <th>Valverde del Camino</th>\n      <td>481.0</td>\n      <td>9.0</td>\n      <td>21.0</td>\n      <td>12750.0</td>\n      <td>70.588235</td>\n      <td>164.705882</td>\n      <td>6.0</td>\n      <td>0.428571</td>\n    </tr>\n    <tr>\n      <th>Isla Cristina</th>\n      <td>2074.0</td>\n      <td>16.0</td>\n      <td>37.0</td>\n      <td>21393.0</td>\n      <td>74.790819</td>\n      <td>172.953770</td>\n      <td>11.0</td>\n      <td>0.432432</td>\n    </tr>\n    <tr>\n      <th>Gibraleón</th>\n      <td>589.0</td>\n      <td>7.0</td>\n      <td>16.0</td>\n      <td>12737.0</td>\n      <td>54.957996</td>\n      <td>125.618277</td>\n      <td>2.0</td>\n      <td>0.437500</td>\n    </tr>\n    <tr>\n      <th>Rociana del Condado</th>\n      <td>518.0</td>\n      <td>11.0</td>\n      <td>25.0</td>\n      <td>7939.0</td>\n      <td>138.556493</td>\n      <td>314.901121</td>\n      <td>3.0</td>\n      <td>0.440000</td>\n    </tr>\n    <tr>\n      <th>Huelva</th>\n      <td>28840.0</td>\n      <td>462.0</td>\n      <td>1039.0</td>\n      <td>513170.0</td>\n      <td>90.028645</td>\n      <td>202.467019</td>\n      <td>161.0</td>\n      <td>0.444658</td>\n    </tr>\n    <tr>\n      <th>Cartaya</th>\n      <td>1282.0</td>\n      <td>21.0</td>\n      <td>45.0</td>\n      <td>20083.0</td>\n      <td>104.566051</td>\n      <td>224.070109</td>\n      <td>11.0</td>\n      <td>0.466667</td>\n    </tr>\n    <tr>\n      <th>Almonte</th>\n      <td>1564.0</td>\n      <td>70.0</td>\n      <td>146.0</td>\n      <td>24507.0</td>\n      <td>285.632676</td>\n      <td>595.748154</td>\n      <td>24.0</td>\n      <td>0.479452</td>\n    </tr>\n    <tr>\n      <th>Huelva-Costa</th>\n      <td>16800.0</td>\n      <td>215.0</td>\n      <td>436.0</td>\n      <td>289548.0</td>\n      <td>74.253664</td>\n      <td>150.579524</td>\n      <td>96.0</td>\n      <td>0.493119</td>\n    </tr>\n    <tr>\n      <th>Rosal de la Frontera</th>\n      <td>29.0</td>\n      <td>2.0</td>\n      <td>4.0</td>\n      <td>1697.0</td>\n      <td>117.855038</td>\n      <td>235.710077</td>\n      <td>1.0</td>\n      <td>0.500000</td>\n    </tr>\n    <tr>\n      <th>Villablanca</th>\n      <td>181.0</td>\n      <td>1.0</td>\n      <td>2.0</td>\n      <td>2885.0</td>\n      <td>34.662045</td>\n      <td>69.324090</td>\n      <td>0.0</td>\n      <td>0.500000</td>\n    </tr>\n    <tr>\n      <th>Galaroza</th>\n      <td>30.0</td>\n      <td>3.0</td>\n      <td>6.0</td>\n      <td>1382.0</td>\n      <td>217.076700</td>\n      <td>434.153401</td>\n      <td>2.0</td>\n      <td>0.500000</td>\n    </tr>\n    <tr>\n      <th>Cañaveral de León</th>\n      <td>5.0</td>\n      <td>1.0</td>\n      <td>2.0</td>\n      <td>396.0</td>\n      <td>252.525253</td>\n      <td>505.050505</td>\n      <td>0.0</td>\n      <td>0.500000</td>\n    </tr>\n    <tr>\n      <th>Aracena</th>\n      <td>513.0</td>\n      <td>5.0</td>\n      <td>10.0</td>\n      <td>8255.0</td>\n      <td>60.569352</td>\n      <td>121.138704</td>\n      <td>2.0</td>\n      <td>0.500000</td>\n    </tr>\n    <tr>\n      <th>Huelva (capital)</th>\n      <td>7497.0</td>\n      <td>133.0</td>\n      <td>262.0</td>\n      <td>143837.0</td>\n      <td>92.465777</td>\n      <td>182.150629</td>\n      <td>57.0</td>\n      <td>0.507634</td>\n    </tr>\n    <tr>\n      <th>Ayamonte</th>\n      <td>1291.0</td>\n      <td>14.0</td>\n      <td>27.0</td>\n      <td>21104.0</td>\n      <td>66.338135</td>\n      <td>127.937832</td>\n      <td>4.0</td>\n      <td>0.518519</td>\n    </tr>\n    <tr>\n      <th>Bollullos Par del Condado</th>\n      <td>848.0</td>\n      <td>46.0</td>\n      <td>85.0</td>\n      <td>14387.0</td>\n      <td>319.733092</td>\n      <td>590.811149</td>\n      <td>17.0</td>\n      <td>0.541176</td>\n    </tr>\n    <tr>\n      <th>Niebla</th>\n      <td>196.0</td>\n      <td>3.0</td>\n      <td>5.0</td>\n      <td>4116.0</td>\n      <td>72.886297</td>\n      <td>121.477162</td>\n      <td>1.0</td>\n      <td>0.600000</td>\n    </tr>\n    <tr>\n      <th>Palos de la Frontera</th>\n      <td>596.0</td>\n      <td>19.0</td>\n      <td>31.0</td>\n      <td>11742.0</td>\n      <td>161.812298</td>\n      <td>264.009538</td>\n      <td>10.0</td>\n      <td>0.612903</td>\n    </tr>\n    <tr>\n      <th>Palma del Condado (La)</th>\n      <td>1039.0</td>\n      <td>8.0</td>\n      <td>12.0</td>\n      <td>10801.0</td>\n      <td>74.067216</td>\n      <td>111.100824</td>\n      <td>2.0</td>\n      <td>0.666667</td>\n    </tr>\n    <tr>\n      <th>Escacena del Campo</th>\n      <td>147.0</td>\n      <td>3.0</td>\n      <td>4.0</td>\n      <td>2287.0</td>\n      <td>131.176213</td>\n      <td>174.901618</td>\n      <td>3.0</td>\n      <td>0.750000</td>\n    </tr>\n    <tr>\n      <th>Aljaraque</th>\n      <td>1009.0</td>\n      <td>16.0</td>\n      <td>21.0</td>\n      <td>21474.0</td>\n      <td>74.508708</td>\n      <td>97.792680</td>\n      <td>4.0</td>\n      <td>0.761905</td>\n    </tr>\n    <tr>\n      <th>Nerva</th>\n      <td>158.0</td>\n      <td>5.0</td>\n      <td>5.0</td>\n      <td>5169.0</td>\n      <td>96.730509</td>\n      <td>96.730509</td>\n      <td>4.0</td>\n      <td>1.000000</td>\n    </tr>\n    <tr>\n      <th>Cabezas Rubias</th>\n      <td>32.0</td>\n      <td>1.0</td>\n      <td>1.0</td>\n      <td>706.0</td>\n      <td>141.643059</td>\n      <td>141.643059</td>\n      <td>0.0</td>\n      <td>1.000000</td>\n    </tr>\n    <tr>\n      <th>Santa Ana la Real</th>\n      <td>10.0</td>\n      <td>1.0</td>\n      <td>1.0</td>\n      <td>475.0</td>\n      <td>210.526316</td>\n      <td>210.526316</td>\n      <td>0.0</td>\n      <td>1.000000</td>\n    </tr>\n    <tr>\n      <th>Manzanilla</th>\n      <td>85.0</td>\n      <td>1.0</td>\n      <td>1.0</td>\n      <td>2118.0</td>\n      <td>47.214353</td>\n      <td>47.214353</td>\n      <td>0.0</td>\n      <td>1.000000</td>\n    </tr>\n  </tbody>\n</table>\n</div>"
     },
     "metadata": {},
     "execution_count": 18
    }
   ],
   "source": [
    "# Peso de la tasa de la última semana en relación con la tasa a 14 días \n",
    "# Mejor cuanto menor. Valor 1 significa que no había casos antes de 7 días.\n",
    "tabla['7/14'] = tabla['tasa7'] / tabla['tasa14']\n",
    "tabla.fillna(0).sort_values('7/14', ascending=True)"
   ]
  },
  {
   "cell_type": "code",
   "execution_count": null,
   "metadata": {},
   "outputs": [],
   "source": []
  }
 ]
}