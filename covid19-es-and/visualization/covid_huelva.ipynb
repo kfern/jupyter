{
 "metadata": {
  "language_info": {
   "codemirror_mode": {
    "name": "ipython",
    "version": 3
   },
   "file_extension": ".py",
   "mimetype": "text/x-python",
   "name": "python",
   "nbconvert_exporter": "python",
   "pygments_lexer": "ipython3",
   "version": "3.8.6-final"
  },
  "orig_nbformat": 2,
  "kernelspec": {
   "name": "python3",
   "display_name": "Python 3",
   "language": "python"
  }
 },
 "nbformat": 4,
 "nbformat_minor": 2,
 "cells": [
  {
   "cell_type": "code",
   "execution_count": 1,
   "metadata": {},
   "outputs": [],
   "source": [
    "import pandas as pd\n",
    "pd.set_option('display.max_rows', None) # Print all rows"
   ]
  },
  {
   "cell_type": "code",
   "execution_count": 2,
   "metadata": {},
   "outputs": [],
   "source": [
    "# FIX SSL: CERTIFICATE_VERIFY_FAILED with Python3\n",
    "# https://stackoverflow.com/a/49174340\n",
    "import ssl\n",
    "\n",
    "ssl._create_default_https_context = ssl._create_unverified_context"
   ]
  },
  {
   "cell_type": "code",
   "execution_count": 3,
   "metadata": {},
   "outputs": [],
   "source": [
    "url = 'https://www.juntadeandalucia.es/institutodeestadisticaycartografia/badea/stpivot/stpivot/Print?cube=013d884c-cfc5-4c21-9e78-e26225682afd&type=3&foto=si&ejecutaDesde=&codConsulta=38668&consTipoVisua=JP'\n",
    "fields = ['Lugar de residencia', 'Medida', 'Valor']\n",
    "df = pd.read_csv(url, delimiter=';', usecols=fields, decimal=',')"
   ]
  },
  {
   "cell_type": "code",
   "execution_count": 4,
   "metadata": {},
   "outputs": [
    {
     "output_type": "execute_result",
     "data": {
      "text/plain": [
       "  Lugar de residencia                    Medida              Valor\n",
       "0              Huelva                 Población             513170\n",
       "1              Huelva          Confirmados PDIA              27453\n",
       "2              Huelva  Confirmados PDIA 14 días               1357\n",
       "3              Huelva         Tasa PDIA 14 días  264,4347876921878\n",
       "4              Huelva   Confirmados PDIA 7 días                624\n",
       "5              Huelva        Total Confirmados               27627\n",
       "6              Huelva                   Curados              22961\n",
       "7              Huelva                Fallecidos                359"
      ],
      "text/html": "<div>\n<style scoped>\n    .dataframe tbody tr th:only-of-type {\n        vertical-align: middle;\n    }\n\n    .dataframe tbody tr th {\n        vertical-align: top;\n    }\n\n    .dataframe thead th {\n        text-align: right;\n    }\n</style>\n<table border=\"1\" class=\"dataframe\">\n  <thead>\n    <tr style=\"text-align: right;\">\n      <th></th>\n      <th>Lugar de residencia</th>\n      <th>Medida</th>\n      <th>Valor</th>\n    </tr>\n  </thead>\n  <tbody>\n    <tr>\n      <th>0</th>\n      <td>Huelva</td>\n      <td>Población</td>\n      <td>513170</td>\n    </tr>\n    <tr>\n      <th>1</th>\n      <td>Huelva</td>\n      <td>Confirmados PDIA</td>\n      <td>27453</td>\n    </tr>\n    <tr>\n      <th>2</th>\n      <td>Huelva</td>\n      <td>Confirmados PDIA 14 días</td>\n      <td>1357</td>\n    </tr>\n    <tr>\n      <th>3</th>\n      <td>Huelva</td>\n      <td>Tasa PDIA 14 días</td>\n      <td>264,4347876921878</td>\n    </tr>\n    <tr>\n      <th>4</th>\n      <td>Huelva</td>\n      <td>Confirmados PDIA 7 días</td>\n      <td>624</td>\n    </tr>\n    <tr>\n      <th>5</th>\n      <td>Huelva</td>\n      <td>Total Confirmados</td>\n      <td>27627</td>\n    </tr>\n    <tr>\n      <th>6</th>\n      <td>Huelva</td>\n      <td>Curados</td>\n      <td>22961</td>\n    </tr>\n    <tr>\n      <th>7</th>\n      <td>Huelva</td>\n      <td>Fallecidos</td>\n      <td>359</td>\n    </tr>\n  </tbody>\n</table>\n</div>"
     },
     "metadata": {},
     "execution_count": 4
    }
   ],
   "source": [
    "df[df['Lugar de residencia'] == 'Huelva']"
   ]
  },
  {
   "cell_type": "code",
   "execution_count": 5,
   "metadata": {},
   "outputs": [],
   "source": [
    "df['Valor'] = pd.to_numeric(df['Valor'],errors='coerce')"
   ]
  },
  {
   "cell_type": "code",
   "execution_count": 6,
   "metadata": {},
   "outputs": [],
   "source": [
    "dfAnterior = pd.read_csv('covid_huelva.csv', index_col='Lugar de residencia')"
   ]
  },
  {
   "cell_type": "code",
   "execution_count": 7,
   "metadata": {
    "tags": []
   },
   "outputs": [
    {
     "output_type": "stream",
     "name": "stdout",
     "text": [
      "Confirmados PCR en la provincia de Huelva:  27453.0\n",
      "<ipython-input-7-31b732756b19>:2: UserWarning: Boolean Series key will be reindexed to match DataFrame index.\n",
      "  p = df[df['Lugar de residencia'] == 'Huelva'][df['Medida'] == 'Confirmados PDIA']['Valor'].values[0]\n"
     ]
    }
   ],
   "source": [
    "# Confirmados PCR provincia Huelva\n",
    "p = df[df['Lugar de residencia'] == 'Huelva'][df['Medida'] == 'Confirmados PDIA']['Valor'].values[0]\n",
    "print('Confirmados PCR en la provincia de Huelva: ', p)"
   ]
  },
  {
   "cell_type": "code",
   "execution_count": 8,
   "metadata": {
    "tags": []
   },
   "outputs": [
    {
     "output_type": "stream",
     "name": "stdout",
     "text": [
      "Confirmados PCR en Huelva capital:  7134.0\n",
      "<ipython-input-8-e81bfb40e710>:2: UserWarning: Boolean Series key will be reindexed to match DataFrame index.\n",
      "  c = df[df['Lugar de residencia'] == 'Huelva (capital)'][df['Medida'] == 'Confirmados PDIA']['Valor'].values[0]\n"
     ]
    }
   ],
   "source": [
    "# Confirmados PCR Huelva capitalpd\n",
    "c = df[df['Lugar de residencia'] == 'Huelva (capital)'][df['Medida'] == 'Confirmados PDIA']['Valor'].values[0]\n",
    "print('Confirmados PCR en Huelva capital: ', c)"
   ]
  },
  {
   "cell_type": "code",
   "execution_count": 9,
   "metadata": {
    "tags": []
   },
   "outputs": [
    {
     "output_type": "stream",
     "name": "stderr",
     "text": [
      "<ipython-input-9-f09dd2050cc1>:1: UserWarning: Boolean Series key will be reindexed to match DataFrame index.\n  c7 = df[df['Lugar de residencia'] == 'Huelva (capital)'][df['Medida'] == 'Confirmados PDIA 7 días']['Valor'].values[0]\n<ipython-input-9-f09dd2050cc1>:2: UserWarning: Boolean Series key will be reindexed to match DataFrame index.\n  c14 = df[df['Lugar de residencia'] == 'Huelva (capital)'][df['Medida'] == 'Confirmados PDIA 14 días']['Valor'].values[0]\n<ipython-input-9-f09dd2050cc1>:3: UserWarning: Boolean Series key will be reindexed to match DataFrame index.\n  p = df[df['Lugar de residencia'] == 'Huelva (capital)'][df['Medida'] == 'Población']['Valor'].values[0]\n"
     ]
    }
   ],
   "source": [
    "c7 = df[df['Lugar de residencia'] == 'Huelva (capital)'][df['Medida'] == 'Confirmados PDIA 7 días']['Valor'].values[0]\n",
    "c14 = df[df['Lugar de residencia'] == 'Huelva (capital)'][df['Medida'] == 'Confirmados PDIA 14 días']['Valor'].values[0]\n",
    "p = df[df['Lugar de residencia'] == 'Huelva (capital)'][df['Medida'] == 'Población']['Valor'].values[0]"
   ]
  },
  {
   "cell_type": "code",
   "execution_count": 10,
   "metadata": {
    "tags": []
   },
   "outputs": [
    {
     "output_type": "stream",
     "name": "stdout",
     "text": [
      "Huelva (capital)\n\nUn positivo PCR cada 992 personas en los últimos 7 días \n\nUn positivo PCR cada 469 personas en los últimos 14 días\n"
     ]
    }
   ],
   "source": [
    "print('Huelva (capital)\\n')\n",
    "#print('Confirmados PCR 7 días x 1,000 habitantes: ', f\"{c7/(p/1000):.5f}\")\n",
    "print('Un positivo PCR cada', f\"{p/c7:.0f}\", 'personas en los últimos 7 días', '\\n')\n",
    "#print('Confirmados PCR 14 días x 1,000 habitantes: ', f\"{c14/(p/1000):.5f}\")\n",
    "print('Un positivo PCR cada', f\"{p/c14:.0f}\", 'personas en los últimos 14 días')"
   ]
  },
  {
   "cell_type": "code",
   "execution_count": 11,
   "metadata": {},
   "outputs": [],
   "source": [
    "filtro = ((df['Medida'] == 'Confirmados PDIA')| (df['Medida'] == 'Confirmados PDIA 7 días') | (df['Medida'] == 'Población' ) | (df['Medida'] == 'Confirmados PDIA 14 días')) & (df['Valor'] > 0)\n",
    "tabla = pd.pivot_table(df.loc[filtro], values='Valor', index='Lugar de residencia', columns='Medida').dropna()"
   ]
  },
  {
   "cell_type": "code",
   "execution_count": 12,
   "metadata": {},
   "outputs": [],
   "source": [
    "# Reorder columns\n",
    "tabla = tabla[['Confirmados PDIA', 'Confirmados PDIA 7 días', 'Confirmados PDIA 14 días', 'Población']]"
   ]
  },
  {
   "cell_type": "code",
   "execution_count": 13,
   "metadata": {},
   "outputs": [],
   "source": [
    "tabla['tasa7'] = tabla['Confirmados PDIA 7 días']/tabla['Población']*100000\n",
    "tabla['tasa14'] = tabla['Confirmados PDIA 14 días']/tabla['Población']*100000"
   ]
  },
  {
   "cell_type": "code",
   "execution_count": 14,
   "metadata": {},
   "outputs": [],
   "source": [
    "tabla['Diferencia PDIA'] = tabla['Confirmados PDIA'] - dfAnterior['Confirmados PDIA']"
   ]
  },
  {
   "cell_type": "code",
   "execution_count": 15,
   "metadata": {},
   "outputs": [
    {
     "output_type": "execute_result",
     "data": {
      "text/plain": [
       "Medida                             Confirmados PDIA  Confirmados PDIA 7 días  \\\n",
       "Lugar de residencia                                                            \n",
       "Huelva                                      27453.0                    624.0   \n",
       "Condado-Campiña                              8406.0                    315.0   \n",
       "Huelva-Costa                                16190.0                    254.0   \n",
       "Huelva (capital)                             7134.0                    145.0   \n",
       "Almonte                                      1339.0                    113.0   \n",
       "Cartaya                                      1216.0                     73.0   \n",
       "Moguer                                       1020.0                     44.0   \n",
       "Bollullos Par del Condado                     740.0                     22.0   \n",
       "San Juan del Puerto                           418.0                     12.0   \n",
       "Sierra de Huelva-Andévalo Central            2442.0                     47.0   \n",
       "Gibraleón                                     564.0                      8.0   \n",
       "Rociana del Condado                           471.0                     37.0   \n",
       "Palos de la Frontera                          560.0                     26.0   \n",
       "San Bartolomé de la Torre                     280.0                      8.0   \n",
       "Villarrasa                                    145.0                      6.0   \n",
       "Niebla                                        189.0                      5.0   \n",
       "Palma del Condado (La)                       1016.0                      7.0   \n",
       "Aljaraque                                     977.0                      9.0   \n",
       "Cumbres Mayores                                28.0                      3.0   \n",
       "Bonares                                       227.0                      8.0   \n",
       "Lepe                                         2057.0                     11.0   \n",
       "Minas de Riotinto                             107.0                      6.0   \n",
       "Lucena del Puerto                             188.0                      5.0   \n",
       "Punta Umbría                                  686.0                      3.0   \n",
       "Isla Cristina                                2021.0                      5.0   \n",
       "Aracena                                       499.0                      9.0   \n",
       "Valverde del Camino                           453.0                      9.0   \n",
       "Fuenteheridos                                   6.0                      1.0   \n",
       "Villalba del Alcor                            471.0                      1.0   \n",
       "\n",
       "Medida                             Confirmados PDIA 14 días  Población  \\\n",
       "Lugar de residencia                                                      \n",
       "Huelva                                               1357.0   513170.0   \n",
       "Condado-Campiña                                       682.0   156231.0   \n",
       "Huelva-Costa                                          562.0   289548.0   \n",
       "Huelva (capital)                                      307.0   143837.0   \n",
       "Almonte                                               236.0    24507.0   \n",
       "Cartaya                                               159.0    20083.0   \n",
       "Moguer                                                 92.0    21867.0   \n",
       "Bollullos Par del Condado                              40.0    14387.0   \n",
       "San Juan del Puerto                                    27.0     9411.0   \n",
       "Sierra de Huelva-Andévalo Central                      90.0    67391.0   \n",
       "Gibraleón                                              12.0    12737.0   \n",
       "Rociana del Condado                                    80.0     7939.0   \n",
       "Palos de la Frontera                                   55.0    11742.0   \n",
       "San Bartolomé de la Torre                              28.0     3761.0   \n",
       "Villarrasa                                             10.0     2211.0   \n",
       "Niebla                                                 11.0     4116.0   \n",
       "Palma del Condado (La)                                 17.0    10801.0   \n",
       "Aljaraque                                              32.0    21474.0   \n",
       "Cumbres Mayores                                         3.0     1749.0   \n",
       "Bonares                                                26.0     6060.0   \n",
       "Lepe                                                   23.0    27880.0   \n",
       "Minas de Riotinto                                       7.0     3812.0   \n",
       "Lucena del Puerto                                      22.0     3261.0   \n",
       "Punta Umbría                                           13.0    15355.0   \n",
       "Isla Cristina                                           5.0    21393.0   \n",
       "Aracena                                                31.0     8255.0   \n",
       "Valverde del Camino                                    20.0    12750.0   \n",
       "Fuenteheridos                                           1.0      709.0   \n",
       "Villalba del Alcor                                      4.0     3366.0   \n",
       "\n",
       "Medida                                  tasa7       tasa14  Diferencia PDIA  \n",
       "Lugar de residencia                                                          \n",
       "Huelva                             121.597132   264.434788            126.0  \n",
       "Condado-Campiña                    201.624518   436.533082             76.0  \n",
       "Huelva-Costa                        87.722934   194.095625             44.0  \n",
       "Huelva (capital)                   100.808554   213.436042             25.0  \n",
       "Almonte                            461.092749   962.990166             25.0  \n",
       "Cartaya                            363.491510   791.714385             13.0  \n",
       "Moguer                             201.216445   420.725294              9.0  \n",
       "Bollullos Par del Condado          152.915827   278.028776              8.0  \n",
       "San Juan del Puerto                127.510360   286.898310              7.0  \n",
       "Sierra de Huelva-Andévalo Central   69.742250   133.548990              6.0  \n",
       "Gibraleón                           62.809139    94.213708              5.0  \n",
       "Rociana del Condado                466.053659  1007.683587              4.0  \n",
       "Palos de la Frontera               221.427355   468.404020              4.0  \n",
       "San Bartolomé de la Torre          212.709386   744.482850              3.0  \n",
       "Villarrasa                         271.370421   452.284034              3.0  \n",
       "Niebla                             121.477162   267.249757              2.0  \n",
       "Palma del Condado (La)              64.808814   157.392834              2.0  \n",
       "Aljaraque                           41.911148   149.017416              2.0  \n",
       "Cumbres Mayores                    171.526587   171.526587              2.0  \n",
       "Bonares                            132.013201   429.042904              2.0  \n",
       "Lepe                                39.454806    82.496413              2.0  \n",
       "Minas de Riotinto                  157.397692   183.630640              1.0  \n",
       "Lucena del Puerto                  153.327200   674.639681              1.0  \n",
       "Punta Umbría                        19.537610    84.662976              1.0  \n",
       "Isla Cristina                       23.372131    23.372131              1.0  \n",
       "Aracena                            109.024833   375.529982              1.0  \n",
       "Valverde del Camino                 70.588235   156.862745              1.0  \n",
       "Fuenteheridos                      141.043724   141.043724              NaN  \n",
       "Villalba del Alcor                  29.708853   118.835413              NaN  "
      ],
      "text/html": "<div>\n<style scoped>\n    .dataframe tbody tr th:only-of-type {\n        vertical-align: middle;\n    }\n\n    .dataframe tbody tr th {\n        vertical-align: top;\n    }\n\n    .dataframe thead th {\n        text-align: right;\n    }\n</style>\n<table border=\"1\" class=\"dataframe\">\n  <thead>\n    <tr style=\"text-align: right;\">\n      <th>Medida</th>\n      <th>Confirmados PDIA</th>\n      <th>Confirmados PDIA 7 días</th>\n      <th>Confirmados PDIA 14 días</th>\n      <th>Población</th>\n      <th>tasa7</th>\n      <th>tasa14</th>\n      <th>Diferencia PDIA</th>\n    </tr>\n    <tr>\n      <th>Lugar de residencia</th>\n      <th></th>\n      <th></th>\n      <th></th>\n      <th></th>\n      <th></th>\n      <th></th>\n      <th></th>\n    </tr>\n  </thead>\n  <tbody>\n    <tr>\n      <th>Huelva</th>\n      <td>27453.0</td>\n      <td>624.0</td>\n      <td>1357.0</td>\n      <td>513170.0</td>\n      <td>121.597132</td>\n      <td>264.434788</td>\n      <td>126.0</td>\n    </tr>\n    <tr>\n      <th>Condado-Campiña</th>\n      <td>8406.0</td>\n      <td>315.0</td>\n      <td>682.0</td>\n      <td>156231.0</td>\n      <td>201.624518</td>\n      <td>436.533082</td>\n      <td>76.0</td>\n    </tr>\n    <tr>\n      <th>Huelva-Costa</th>\n      <td>16190.0</td>\n      <td>254.0</td>\n      <td>562.0</td>\n      <td>289548.0</td>\n      <td>87.722934</td>\n      <td>194.095625</td>\n      <td>44.0</td>\n    </tr>\n    <tr>\n      <th>Huelva (capital)</th>\n      <td>7134.0</td>\n      <td>145.0</td>\n      <td>307.0</td>\n      <td>143837.0</td>\n      <td>100.808554</td>\n      <td>213.436042</td>\n      <td>25.0</td>\n    </tr>\n    <tr>\n      <th>Almonte</th>\n      <td>1339.0</td>\n      <td>113.0</td>\n      <td>236.0</td>\n      <td>24507.0</td>\n      <td>461.092749</td>\n      <td>962.990166</td>\n      <td>25.0</td>\n    </tr>\n    <tr>\n      <th>Cartaya</th>\n      <td>1216.0</td>\n      <td>73.0</td>\n      <td>159.0</td>\n      <td>20083.0</td>\n      <td>363.491510</td>\n      <td>791.714385</td>\n      <td>13.0</td>\n    </tr>\n    <tr>\n      <th>Moguer</th>\n      <td>1020.0</td>\n      <td>44.0</td>\n      <td>92.0</td>\n      <td>21867.0</td>\n      <td>201.216445</td>\n      <td>420.725294</td>\n      <td>9.0</td>\n    </tr>\n    <tr>\n      <th>Bollullos Par del Condado</th>\n      <td>740.0</td>\n      <td>22.0</td>\n      <td>40.0</td>\n      <td>14387.0</td>\n      <td>152.915827</td>\n      <td>278.028776</td>\n      <td>8.0</td>\n    </tr>\n    <tr>\n      <th>San Juan del Puerto</th>\n      <td>418.0</td>\n      <td>12.0</td>\n      <td>27.0</td>\n      <td>9411.0</td>\n      <td>127.510360</td>\n      <td>286.898310</td>\n      <td>7.0</td>\n    </tr>\n    <tr>\n      <th>Sierra de Huelva-Andévalo Central</th>\n      <td>2442.0</td>\n      <td>47.0</td>\n      <td>90.0</td>\n      <td>67391.0</td>\n      <td>69.742250</td>\n      <td>133.548990</td>\n      <td>6.0</td>\n    </tr>\n    <tr>\n      <th>Gibraleón</th>\n      <td>564.0</td>\n      <td>8.0</td>\n      <td>12.0</td>\n      <td>12737.0</td>\n      <td>62.809139</td>\n      <td>94.213708</td>\n      <td>5.0</td>\n    </tr>\n    <tr>\n      <th>Rociana del Condado</th>\n      <td>471.0</td>\n      <td>37.0</td>\n      <td>80.0</td>\n      <td>7939.0</td>\n      <td>466.053659</td>\n      <td>1007.683587</td>\n      <td>4.0</td>\n    </tr>\n    <tr>\n      <th>Palos de la Frontera</th>\n      <td>560.0</td>\n      <td>26.0</td>\n      <td>55.0</td>\n      <td>11742.0</td>\n      <td>221.427355</td>\n      <td>468.404020</td>\n      <td>4.0</td>\n    </tr>\n    <tr>\n      <th>San Bartolomé de la Torre</th>\n      <td>280.0</td>\n      <td>8.0</td>\n      <td>28.0</td>\n      <td>3761.0</td>\n      <td>212.709386</td>\n      <td>744.482850</td>\n      <td>3.0</td>\n    </tr>\n    <tr>\n      <th>Villarrasa</th>\n      <td>145.0</td>\n      <td>6.0</td>\n      <td>10.0</td>\n      <td>2211.0</td>\n      <td>271.370421</td>\n      <td>452.284034</td>\n      <td>3.0</td>\n    </tr>\n    <tr>\n      <th>Niebla</th>\n      <td>189.0</td>\n      <td>5.0</td>\n      <td>11.0</td>\n      <td>4116.0</td>\n      <td>121.477162</td>\n      <td>267.249757</td>\n      <td>2.0</td>\n    </tr>\n    <tr>\n      <th>Palma del Condado (La)</th>\n      <td>1016.0</td>\n      <td>7.0</td>\n      <td>17.0</td>\n      <td>10801.0</td>\n      <td>64.808814</td>\n      <td>157.392834</td>\n      <td>2.0</td>\n    </tr>\n    <tr>\n      <th>Aljaraque</th>\n      <td>977.0</td>\n      <td>9.0</td>\n      <td>32.0</td>\n      <td>21474.0</td>\n      <td>41.911148</td>\n      <td>149.017416</td>\n      <td>2.0</td>\n    </tr>\n    <tr>\n      <th>Cumbres Mayores</th>\n      <td>28.0</td>\n      <td>3.0</td>\n      <td>3.0</td>\n      <td>1749.0</td>\n      <td>171.526587</td>\n      <td>171.526587</td>\n      <td>2.0</td>\n    </tr>\n    <tr>\n      <th>Bonares</th>\n      <td>227.0</td>\n      <td>8.0</td>\n      <td>26.0</td>\n      <td>6060.0</td>\n      <td>132.013201</td>\n      <td>429.042904</td>\n      <td>2.0</td>\n    </tr>\n    <tr>\n      <th>Lepe</th>\n      <td>2057.0</td>\n      <td>11.0</td>\n      <td>23.0</td>\n      <td>27880.0</td>\n      <td>39.454806</td>\n      <td>82.496413</td>\n      <td>2.0</td>\n    </tr>\n    <tr>\n      <th>Minas de Riotinto</th>\n      <td>107.0</td>\n      <td>6.0</td>\n      <td>7.0</td>\n      <td>3812.0</td>\n      <td>157.397692</td>\n      <td>183.630640</td>\n      <td>1.0</td>\n    </tr>\n    <tr>\n      <th>Lucena del Puerto</th>\n      <td>188.0</td>\n      <td>5.0</td>\n      <td>22.0</td>\n      <td>3261.0</td>\n      <td>153.327200</td>\n      <td>674.639681</td>\n      <td>1.0</td>\n    </tr>\n    <tr>\n      <th>Punta Umbría</th>\n      <td>686.0</td>\n      <td>3.0</td>\n      <td>13.0</td>\n      <td>15355.0</td>\n      <td>19.537610</td>\n      <td>84.662976</td>\n      <td>1.0</td>\n    </tr>\n    <tr>\n      <th>Isla Cristina</th>\n      <td>2021.0</td>\n      <td>5.0</td>\n      <td>5.0</td>\n      <td>21393.0</td>\n      <td>23.372131</td>\n      <td>23.372131</td>\n      <td>1.0</td>\n    </tr>\n    <tr>\n      <th>Aracena</th>\n      <td>499.0</td>\n      <td>9.0</td>\n      <td>31.0</td>\n      <td>8255.0</td>\n      <td>109.024833</td>\n      <td>375.529982</td>\n      <td>1.0</td>\n    </tr>\n    <tr>\n      <th>Valverde del Camino</th>\n      <td>453.0</td>\n      <td>9.0</td>\n      <td>20.0</td>\n      <td>12750.0</td>\n      <td>70.588235</td>\n      <td>156.862745</td>\n      <td>1.0</td>\n    </tr>\n    <tr>\n      <th>Fuenteheridos</th>\n      <td>6.0</td>\n      <td>1.0</td>\n      <td>1.0</td>\n      <td>709.0</td>\n      <td>141.043724</td>\n      <td>141.043724</td>\n      <td>NaN</td>\n    </tr>\n    <tr>\n      <th>Villalba del Alcor</th>\n      <td>471.0</td>\n      <td>1.0</td>\n      <td>4.0</td>\n      <td>3366.0</td>\n      <td>29.708853</td>\n      <td>118.835413</td>\n      <td>NaN</td>\n    </tr>\n  </tbody>\n</table>\n</div>"
     },
     "metadata": {},
     "execution_count": 15
    }
   ],
   "source": [
    "# Nuevos casos desde la última captura\n",
    "tabla[tabla['Diferencia PDIA'] != 0].sort_values('Diferencia PDIA', ascending=False)"
   ]
  },
  {
   "cell_type": "code",
   "execution_count": 16,
   "metadata": {},
   "outputs": [],
   "source": [
    "if tabla[tabla['Diferencia PDIA'] != 0]['Diferencia PDIA'].sum() != 0:\n",
    "  # Save to csv\n",
    "  tabla.to_csv('covid_huelva.csv', encoding='utf-8', header=True, index=True)  "
   ]
  },
  {
   "cell_type": "code",
   "execution_count": 17,
   "metadata": {},
   "outputs": [
    {
     "output_type": "execute_result",
     "data": {
      "text/plain": [
       "Medida                             Confirmados PDIA  Confirmados PDIA 7 días  \\\n",
       "Lugar de residencia                                                            \n",
       "Rociana del Condado                           471.0                     37.0   \n",
       "Almonte                                      1339.0                    113.0   \n",
       "Cartaya                                      1216.0                     73.0   \n",
       "San Bartolomé de la Torre                     280.0                      8.0   \n",
       "Lucena del Puerto                             188.0                      5.0   \n",
       "Almonaster la Real                             62.0                      7.0   \n",
       "Palos de la Frontera                          560.0                     26.0   \n",
       "Villarrasa                                    145.0                      6.0   \n",
       "Condado-Campiña                              8406.0                    315.0   \n",
       "Bonares                                       227.0                      8.0   \n",
       "Moguer                                       1020.0                     44.0   \n",
       "Campillo (El)                                  70.0                      7.0   \n",
       "Aracena                                       499.0                      9.0   \n",
       "San Juan del Puerto                           418.0                     12.0   \n",
       "Bollullos Par del Condado                     740.0                     22.0   \n",
       "Niebla                                        189.0                      5.0   \n",
       "Huelva                                      27453.0                    624.0   \n",
       "Almendro (El)                                  36.0                      2.0   \n",
       "Beas                                          174.0                      8.0   \n",
       "Huelva (capital)                             7134.0                    145.0   \n",
       "Santa Ana la Real                               6.0                      1.0   \n",
       "Huelva-Costa                                16190.0                    254.0   \n",
       "Granado (El)                                   37.0                      1.0   \n",
       "Minas de Riotinto                             107.0                      6.0   \n",
       "Alosno                                        161.0                      1.0   \n",
       "Cumbres Mayores                                28.0                      3.0   \n",
       "Palma del Condado (La)                       1016.0                      7.0   \n",
       "Valverde del Camino                           453.0                      9.0   \n",
       "Aljaraque                                     977.0                      9.0   \n",
       "Fuenteheridos                                   6.0                      1.0   \n",
       "Trigueros                                     253.0                      4.0   \n",
       "Sierra de Huelva-Andévalo Central            2442.0                     47.0   \n",
       "Villalba del Alcor                            471.0                      1.0   \n",
       "Aroche                                         87.0                      1.0   \n",
       "Gibraleón                                     564.0                      8.0   \n",
       "Punta Umbría                                  686.0                      3.0   \n",
       "Lepe                                         2057.0                     11.0   \n",
       "Higuera de la Sierra                           32.0                      1.0   \n",
       "Galaroza                                       17.0                      1.0   \n",
       "Calañas                                       174.0                      1.0   \n",
       "Escacena del Campo                            143.0                      1.0   \n",
       "Ayamonte                                     1261.0                      4.0   \n",
       "Isla Cristina                                2021.0                      5.0   \n",
       "\n",
       "Medida                             Confirmados PDIA 14 días  Población  \\\n",
       "Lugar de residencia                                                      \n",
       "Rociana del Condado                                    80.0     7939.0   \n",
       "Almonte                                               236.0    24507.0   \n",
       "Cartaya                                               159.0    20083.0   \n",
       "San Bartolomé de la Torre                              28.0     3761.0   \n",
       "Lucena del Puerto                                      22.0     3261.0   \n",
       "Almonaster la Real                                      9.0     1788.0   \n",
       "Palos de la Frontera                                   55.0    11742.0   \n",
       "Villarrasa                                             10.0     2211.0   \n",
       "Condado-Campiña                                       682.0   156231.0   \n",
       "Bonares                                                26.0     6060.0   \n",
       "Moguer                                                 92.0    21867.0   \n",
       "Campillo (El)                                           8.0     2024.0   \n",
       "Aracena                                                31.0     8255.0   \n",
       "San Juan del Puerto                                    27.0     9411.0   \n",
       "Bollullos Par del Condado                              40.0    14387.0   \n",
       "Niebla                                                 11.0     4116.0   \n",
       "Huelva                                               1357.0   513170.0   \n",
       "Almendro (El)                                           2.0      840.0   \n",
       "Beas                                                   10.0     4341.0   \n",
       "Huelva (capital)                                      307.0   143837.0   \n",
       "Santa Ana la Real                                       1.0      475.0   \n",
       "Huelva-Costa                                          562.0   289548.0   \n",
       "Granado (El)                                            1.0      532.0   \n",
       "Minas de Riotinto                                       7.0     3812.0   \n",
       "Alosno                                                  7.0     3933.0   \n",
       "Cumbres Mayores                                         3.0     1749.0   \n",
       "Palma del Condado (La)                                 17.0    10801.0   \n",
       "Valverde del Camino                                    20.0    12750.0   \n",
       "Aljaraque                                              32.0    21474.0   \n",
       "Fuenteheridos                                           1.0      709.0   \n",
       "Trigueros                                              11.0     7862.0   \n",
       "Sierra de Huelva-Andévalo Central                      90.0    67391.0   \n",
       "Villalba del Alcor                                      4.0     3366.0   \n",
       "Aroche                                                  3.0     3054.0   \n",
       "Gibraleón                                              12.0    12737.0   \n",
       "Punta Umbría                                           13.0    15355.0   \n",
       "Lepe                                                   23.0    27880.0   \n",
       "Higuera de la Sierra                                    1.0     1291.0   \n",
       "Galaroza                                                1.0     1382.0   \n",
       "Calañas                                                 2.0     2768.0   \n",
       "Escacena del Campo                                      1.0     2287.0   \n",
       "Ayamonte                                                7.0    21104.0   \n",
       "Isla Cristina                                           5.0    21393.0   \n",
       "\n",
       "Medida                                  tasa7       tasa14  Diferencia PDIA  \n",
       "Lugar de residencia                                                          \n",
       "Rociana del Condado                466.053659  1007.683587              4.0  \n",
       "Almonte                            461.092749   962.990166             25.0  \n",
       "Cartaya                            363.491510   791.714385             13.0  \n",
       "San Bartolomé de la Torre          212.709386   744.482850              3.0  \n",
       "Lucena del Puerto                  153.327200   674.639681              1.0  \n",
       "Almonaster la Real                 391.498881   503.355705              0.0  \n",
       "Palos de la Frontera               221.427355   468.404020              4.0  \n",
       "Villarrasa                         271.370421   452.284034              3.0  \n",
       "Condado-Campiña                    201.624518   436.533082             76.0  \n",
       "Bonares                            132.013201   429.042904              2.0  \n",
       "Moguer                             201.216445   420.725294              9.0  \n",
       "Campillo (El)                      345.849802   395.256917              0.0  \n",
       "Aracena                            109.024833   375.529982              1.0  \n",
       "San Juan del Puerto                127.510360   286.898310              7.0  \n",
       "Bollullos Par del Condado          152.915827   278.028776              8.0  \n",
       "Niebla                             121.477162   267.249757              2.0  \n",
       "Huelva                             121.597132   264.434788            126.0  \n",
       "Almendro (El)                      238.095238   238.095238              0.0  \n",
       "Beas                               184.289334   230.361668              0.0  \n",
       "Huelva (capital)                   100.808554   213.436042             25.0  \n",
       "Santa Ana la Real                  210.526316   210.526316              0.0  \n",
       "Huelva-Costa                        87.722934   194.095625             44.0  \n",
       "Granado (El)                       187.969925   187.969925              0.0  \n",
       "Minas de Riotinto                  157.397692   183.630640              1.0  \n",
       "Alosno                              25.425884   177.981185              0.0  \n",
       "Cumbres Mayores                    171.526587   171.526587              2.0  \n",
       "Palma del Condado (La)              64.808814   157.392834              2.0  \n",
       "Valverde del Camino                 70.588235   156.862745              1.0  \n",
       "Aljaraque                           41.911148   149.017416              2.0  \n",
       "Fuenteheridos                      141.043724   141.043724              NaN  \n",
       "Trigueros                           50.877639   139.913508              0.0  \n",
       "Sierra de Huelva-Andévalo Central   69.742250   133.548990              6.0  \n",
       "Villalba del Alcor                  29.708853   118.835413              NaN  \n",
       "Aroche                              32.743942    98.231827              0.0  \n",
       "Gibraleón                           62.809139    94.213708              5.0  \n",
       "Punta Umbría                        19.537610    84.662976              1.0  \n",
       "Lepe                                39.454806    82.496413              2.0  \n",
       "Higuera de la Sierra                77.459334    77.459334              0.0  \n",
       "Galaroza                            72.358900    72.358900              0.0  \n",
       "Calañas                             36.127168    72.254335              0.0  \n",
       "Escacena del Campo                  43.725404    43.725404              0.0  \n",
       "Ayamonte                            18.953753    33.169067              0.0  \n",
       "Isla Cristina                       23.372131    23.372131              1.0  "
      ],
      "text/html": "<div>\n<style scoped>\n    .dataframe tbody tr th:only-of-type {\n        vertical-align: middle;\n    }\n\n    .dataframe tbody tr th {\n        vertical-align: top;\n    }\n\n    .dataframe thead th {\n        text-align: right;\n    }\n</style>\n<table border=\"1\" class=\"dataframe\">\n  <thead>\n    <tr style=\"text-align: right;\">\n      <th>Medida</th>\n      <th>Confirmados PDIA</th>\n      <th>Confirmados PDIA 7 días</th>\n      <th>Confirmados PDIA 14 días</th>\n      <th>Población</th>\n      <th>tasa7</th>\n      <th>tasa14</th>\n      <th>Diferencia PDIA</th>\n    </tr>\n    <tr>\n      <th>Lugar de residencia</th>\n      <th></th>\n      <th></th>\n      <th></th>\n      <th></th>\n      <th></th>\n      <th></th>\n      <th></th>\n    </tr>\n  </thead>\n  <tbody>\n    <tr>\n      <th>Rociana del Condado</th>\n      <td>471.0</td>\n      <td>37.0</td>\n      <td>80.0</td>\n      <td>7939.0</td>\n      <td>466.053659</td>\n      <td>1007.683587</td>\n      <td>4.0</td>\n    </tr>\n    <tr>\n      <th>Almonte</th>\n      <td>1339.0</td>\n      <td>113.0</td>\n      <td>236.0</td>\n      <td>24507.0</td>\n      <td>461.092749</td>\n      <td>962.990166</td>\n      <td>25.0</td>\n    </tr>\n    <tr>\n      <th>Cartaya</th>\n      <td>1216.0</td>\n      <td>73.0</td>\n      <td>159.0</td>\n      <td>20083.0</td>\n      <td>363.491510</td>\n      <td>791.714385</td>\n      <td>13.0</td>\n    </tr>\n    <tr>\n      <th>San Bartolomé de la Torre</th>\n      <td>280.0</td>\n      <td>8.0</td>\n      <td>28.0</td>\n      <td>3761.0</td>\n      <td>212.709386</td>\n      <td>744.482850</td>\n      <td>3.0</td>\n    </tr>\n    <tr>\n      <th>Lucena del Puerto</th>\n      <td>188.0</td>\n      <td>5.0</td>\n      <td>22.0</td>\n      <td>3261.0</td>\n      <td>153.327200</td>\n      <td>674.639681</td>\n      <td>1.0</td>\n    </tr>\n    <tr>\n      <th>Almonaster la Real</th>\n      <td>62.0</td>\n      <td>7.0</td>\n      <td>9.0</td>\n      <td>1788.0</td>\n      <td>391.498881</td>\n      <td>503.355705</td>\n      <td>0.0</td>\n    </tr>\n    <tr>\n      <th>Palos de la Frontera</th>\n      <td>560.0</td>\n      <td>26.0</td>\n      <td>55.0</td>\n      <td>11742.0</td>\n      <td>221.427355</td>\n      <td>468.404020</td>\n      <td>4.0</td>\n    </tr>\n    <tr>\n      <th>Villarrasa</th>\n      <td>145.0</td>\n      <td>6.0</td>\n      <td>10.0</td>\n      <td>2211.0</td>\n      <td>271.370421</td>\n      <td>452.284034</td>\n      <td>3.0</td>\n    </tr>\n    <tr>\n      <th>Condado-Campiña</th>\n      <td>8406.0</td>\n      <td>315.0</td>\n      <td>682.0</td>\n      <td>156231.0</td>\n      <td>201.624518</td>\n      <td>436.533082</td>\n      <td>76.0</td>\n    </tr>\n    <tr>\n      <th>Bonares</th>\n      <td>227.0</td>\n      <td>8.0</td>\n      <td>26.0</td>\n      <td>6060.0</td>\n      <td>132.013201</td>\n      <td>429.042904</td>\n      <td>2.0</td>\n    </tr>\n    <tr>\n      <th>Moguer</th>\n      <td>1020.0</td>\n      <td>44.0</td>\n      <td>92.0</td>\n      <td>21867.0</td>\n      <td>201.216445</td>\n      <td>420.725294</td>\n      <td>9.0</td>\n    </tr>\n    <tr>\n      <th>Campillo (El)</th>\n      <td>70.0</td>\n      <td>7.0</td>\n      <td>8.0</td>\n      <td>2024.0</td>\n      <td>345.849802</td>\n      <td>395.256917</td>\n      <td>0.0</td>\n    </tr>\n    <tr>\n      <th>Aracena</th>\n      <td>499.0</td>\n      <td>9.0</td>\n      <td>31.0</td>\n      <td>8255.0</td>\n      <td>109.024833</td>\n      <td>375.529982</td>\n      <td>1.0</td>\n    </tr>\n    <tr>\n      <th>San Juan del Puerto</th>\n      <td>418.0</td>\n      <td>12.0</td>\n      <td>27.0</td>\n      <td>9411.0</td>\n      <td>127.510360</td>\n      <td>286.898310</td>\n      <td>7.0</td>\n    </tr>\n    <tr>\n      <th>Bollullos Par del Condado</th>\n      <td>740.0</td>\n      <td>22.0</td>\n      <td>40.0</td>\n      <td>14387.0</td>\n      <td>152.915827</td>\n      <td>278.028776</td>\n      <td>8.0</td>\n    </tr>\n    <tr>\n      <th>Niebla</th>\n      <td>189.0</td>\n      <td>5.0</td>\n      <td>11.0</td>\n      <td>4116.0</td>\n      <td>121.477162</td>\n      <td>267.249757</td>\n      <td>2.0</td>\n    </tr>\n    <tr>\n      <th>Huelva</th>\n      <td>27453.0</td>\n      <td>624.0</td>\n      <td>1357.0</td>\n      <td>513170.0</td>\n      <td>121.597132</td>\n      <td>264.434788</td>\n      <td>126.0</td>\n    </tr>\n    <tr>\n      <th>Almendro (El)</th>\n      <td>36.0</td>\n      <td>2.0</td>\n      <td>2.0</td>\n      <td>840.0</td>\n      <td>238.095238</td>\n      <td>238.095238</td>\n      <td>0.0</td>\n    </tr>\n    <tr>\n      <th>Beas</th>\n      <td>174.0</td>\n      <td>8.0</td>\n      <td>10.0</td>\n      <td>4341.0</td>\n      <td>184.289334</td>\n      <td>230.361668</td>\n      <td>0.0</td>\n    </tr>\n    <tr>\n      <th>Huelva (capital)</th>\n      <td>7134.0</td>\n      <td>145.0</td>\n      <td>307.0</td>\n      <td>143837.0</td>\n      <td>100.808554</td>\n      <td>213.436042</td>\n      <td>25.0</td>\n    </tr>\n    <tr>\n      <th>Santa Ana la Real</th>\n      <td>6.0</td>\n      <td>1.0</td>\n      <td>1.0</td>\n      <td>475.0</td>\n      <td>210.526316</td>\n      <td>210.526316</td>\n      <td>0.0</td>\n    </tr>\n    <tr>\n      <th>Huelva-Costa</th>\n      <td>16190.0</td>\n      <td>254.0</td>\n      <td>562.0</td>\n      <td>289548.0</td>\n      <td>87.722934</td>\n      <td>194.095625</td>\n      <td>44.0</td>\n    </tr>\n    <tr>\n      <th>Granado (El)</th>\n      <td>37.0</td>\n      <td>1.0</td>\n      <td>1.0</td>\n      <td>532.0</td>\n      <td>187.969925</td>\n      <td>187.969925</td>\n      <td>0.0</td>\n    </tr>\n    <tr>\n      <th>Minas de Riotinto</th>\n      <td>107.0</td>\n      <td>6.0</td>\n      <td>7.0</td>\n      <td>3812.0</td>\n      <td>157.397692</td>\n      <td>183.630640</td>\n      <td>1.0</td>\n    </tr>\n    <tr>\n      <th>Alosno</th>\n      <td>161.0</td>\n      <td>1.0</td>\n      <td>7.0</td>\n      <td>3933.0</td>\n      <td>25.425884</td>\n      <td>177.981185</td>\n      <td>0.0</td>\n    </tr>\n    <tr>\n      <th>Cumbres Mayores</th>\n      <td>28.0</td>\n      <td>3.0</td>\n      <td>3.0</td>\n      <td>1749.0</td>\n      <td>171.526587</td>\n      <td>171.526587</td>\n      <td>2.0</td>\n    </tr>\n    <tr>\n      <th>Palma del Condado (La)</th>\n      <td>1016.0</td>\n      <td>7.0</td>\n      <td>17.0</td>\n      <td>10801.0</td>\n      <td>64.808814</td>\n      <td>157.392834</td>\n      <td>2.0</td>\n    </tr>\n    <tr>\n      <th>Valverde del Camino</th>\n      <td>453.0</td>\n      <td>9.0</td>\n      <td>20.0</td>\n      <td>12750.0</td>\n      <td>70.588235</td>\n      <td>156.862745</td>\n      <td>1.0</td>\n    </tr>\n    <tr>\n      <th>Aljaraque</th>\n      <td>977.0</td>\n      <td>9.0</td>\n      <td>32.0</td>\n      <td>21474.0</td>\n      <td>41.911148</td>\n      <td>149.017416</td>\n      <td>2.0</td>\n    </tr>\n    <tr>\n      <th>Fuenteheridos</th>\n      <td>6.0</td>\n      <td>1.0</td>\n      <td>1.0</td>\n      <td>709.0</td>\n      <td>141.043724</td>\n      <td>141.043724</td>\n      <td>NaN</td>\n    </tr>\n    <tr>\n      <th>Trigueros</th>\n      <td>253.0</td>\n      <td>4.0</td>\n      <td>11.0</td>\n      <td>7862.0</td>\n      <td>50.877639</td>\n      <td>139.913508</td>\n      <td>0.0</td>\n    </tr>\n    <tr>\n      <th>Sierra de Huelva-Andévalo Central</th>\n      <td>2442.0</td>\n      <td>47.0</td>\n      <td>90.0</td>\n      <td>67391.0</td>\n      <td>69.742250</td>\n      <td>133.548990</td>\n      <td>6.0</td>\n    </tr>\n    <tr>\n      <th>Villalba del Alcor</th>\n      <td>471.0</td>\n      <td>1.0</td>\n      <td>4.0</td>\n      <td>3366.0</td>\n      <td>29.708853</td>\n      <td>118.835413</td>\n      <td>NaN</td>\n    </tr>\n    <tr>\n      <th>Aroche</th>\n      <td>87.0</td>\n      <td>1.0</td>\n      <td>3.0</td>\n      <td>3054.0</td>\n      <td>32.743942</td>\n      <td>98.231827</td>\n      <td>0.0</td>\n    </tr>\n    <tr>\n      <th>Gibraleón</th>\n      <td>564.0</td>\n      <td>8.0</td>\n      <td>12.0</td>\n      <td>12737.0</td>\n      <td>62.809139</td>\n      <td>94.213708</td>\n      <td>5.0</td>\n    </tr>\n    <tr>\n      <th>Punta Umbría</th>\n      <td>686.0</td>\n      <td>3.0</td>\n      <td>13.0</td>\n      <td>15355.0</td>\n      <td>19.537610</td>\n      <td>84.662976</td>\n      <td>1.0</td>\n    </tr>\n    <tr>\n      <th>Lepe</th>\n      <td>2057.0</td>\n      <td>11.0</td>\n      <td>23.0</td>\n      <td>27880.0</td>\n      <td>39.454806</td>\n      <td>82.496413</td>\n      <td>2.0</td>\n    </tr>\n    <tr>\n      <th>Higuera de la Sierra</th>\n      <td>32.0</td>\n      <td>1.0</td>\n      <td>1.0</td>\n      <td>1291.0</td>\n      <td>77.459334</td>\n      <td>77.459334</td>\n      <td>0.0</td>\n    </tr>\n    <tr>\n      <th>Galaroza</th>\n      <td>17.0</td>\n      <td>1.0</td>\n      <td>1.0</td>\n      <td>1382.0</td>\n      <td>72.358900</td>\n      <td>72.358900</td>\n      <td>0.0</td>\n    </tr>\n    <tr>\n      <th>Calañas</th>\n      <td>174.0</td>\n      <td>1.0</td>\n      <td>2.0</td>\n      <td>2768.0</td>\n      <td>36.127168</td>\n      <td>72.254335</td>\n      <td>0.0</td>\n    </tr>\n    <tr>\n      <th>Escacena del Campo</th>\n      <td>143.0</td>\n      <td>1.0</td>\n      <td>1.0</td>\n      <td>2287.0</td>\n      <td>43.725404</td>\n      <td>43.725404</td>\n      <td>0.0</td>\n    </tr>\n    <tr>\n      <th>Ayamonte</th>\n      <td>1261.0</td>\n      <td>4.0</td>\n      <td>7.0</td>\n      <td>21104.0</td>\n      <td>18.953753</td>\n      <td>33.169067</td>\n      <td>0.0</td>\n    </tr>\n    <tr>\n      <th>Isla Cristina</th>\n      <td>2021.0</td>\n      <td>5.0</td>\n      <td>5.0</td>\n      <td>21393.0</td>\n      <td>23.372131</td>\n      <td>23.372131</td>\n      <td>1.0</td>\n    </tr>\n  </tbody>\n</table>\n</div>"
     },
     "metadata": {},
     "execution_count": 17
    }
   ],
   "source": [
    "tabla.sort_values('tasa14', ascending=False)"
   ]
  },
  {
   "cell_type": "code",
   "execution_count": 18,
   "metadata": {},
   "outputs": [
    {
     "output_type": "execute_result",
     "data": {
      "text/plain": [
       "Medida                             Confirmados PDIA  Confirmados PDIA 7 días  \\\n",
       "Lugar de residencia                                                            \n",
       "Alosno                                        161.0                      1.0   \n",
       "Lucena del Puerto                             188.0                      5.0   \n",
       "Punta Umbría                                  686.0                      3.0   \n",
       "Villalba del Alcor                            471.0                      1.0   \n",
       "Aljaraque                                     977.0                      9.0   \n",
       "San Bartolomé de la Torre                     280.0                      8.0   \n",
       "Aracena                                       499.0                      9.0   \n",
       "Bonares                                       227.0                      8.0   \n",
       "Aroche                                         87.0                      1.0   \n",
       "Trigueros                                     253.0                      4.0   \n",
       "Palma del Condado (La)                       1016.0                      7.0   \n",
       "San Juan del Puerto                           418.0                     12.0   \n",
       "Valverde del Camino                           453.0                      9.0   \n",
       "Huelva-Costa                                16190.0                    254.0   \n",
       "Niebla                                        189.0                      5.0   \n",
       "Cartaya                                      1216.0                     73.0   \n",
       "Huelva                                      27453.0                    624.0   \n",
       "Condado-Campiña                              8406.0                    315.0   \n",
       "Rociana del Condado                           471.0                     37.0   \n",
       "Huelva (capital)                             7134.0                    145.0   \n",
       "Palos de la Frontera                          560.0                     26.0   \n",
       "Lepe                                         2057.0                     11.0   \n",
       "Moguer                                       1020.0                     44.0   \n",
       "Almonte                                      1339.0                    113.0   \n",
       "Calañas                                       174.0                      1.0   \n",
       "Sierra de Huelva-Andévalo Central            2442.0                     47.0   \n",
       "Bollullos Par del Condado                     740.0                     22.0   \n",
       "Ayamonte                                     1261.0                      4.0   \n",
       "Villarrasa                                    145.0                      6.0   \n",
       "Gibraleón                                     564.0                      8.0   \n",
       "Almonaster la Real                             62.0                      7.0   \n",
       "Beas                                          174.0                      8.0   \n",
       "Minas de Riotinto                             107.0                      6.0   \n",
       "Campillo (El)                                  70.0                      7.0   \n",
       "Isla Cristina                                2021.0                      5.0   \n",
       "Granado (El)                                   37.0                      1.0   \n",
       "Galaroza                                       17.0                      1.0   \n",
       "Fuenteheridos                                   6.0                      1.0   \n",
       "Escacena del Campo                            143.0                      1.0   \n",
       "Cumbres Mayores                                28.0                      3.0   \n",
       "Santa Ana la Real                               6.0                      1.0   \n",
       "Almendro (El)                                  36.0                      2.0   \n",
       "Higuera de la Sierra                           32.0                      1.0   \n",
       "\n",
       "Medida                             Confirmados PDIA 14 días  Población  \\\n",
       "Lugar de residencia                                                      \n",
       "Alosno                                                  7.0     3933.0   \n",
       "Lucena del Puerto                                      22.0     3261.0   \n",
       "Punta Umbría                                           13.0    15355.0   \n",
       "Villalba del Alcor                                      4.0     3366.0   \n",
       "Aljaraque                                              32.0    21474.0   \n",
       "San Bartolomé de la Torre                              28.0     3761.0   \n",
       "Aracena                                                31.0     8255.0   \n",
       "Bonares                                                26.0     6060.0   \n",
       "Aroche                                                  3.0     3054.0   \n",
       "Trigueros                                              11.0     7862.0   \n",
       "Palma del Condado (La)                                 17.0    10801.0   \n",
       "San Juan del Puerto                                    27.0     9411.0   \n",
       "Valverde del Camino                                    20.0    12750.0   \n",
       "Huelva-Costa                                          562.0   289548.0   \n",
       "Niebla                                                 11.0     4116.0   \n",
       "Cartaya                                               159.0    20083.0   \n",
       "Huelva                                               1357.0   513170.0   \n",
       "Condado-Campiña                                       682.0   156231.0   \n",
       "Rociana del Condado                                    80.0     7939.0   \n",
       "Huelva (capital)                                      307.0   143837.0   \n",
       "Palos de la Frontera                                   55.0    11742.0   \n",
       "Lepe                                                   23.0    27880.0   \n",
       "Moguer                                                 92.0    21867.0   \n",
       "Almonte                                               236.0    24507.0   \n",
       "Calañas                                                 2.0     2768.0   \n",
       "Sierra de Huelva-Andévalo Central                      90.0    67391.0   \n",
       "Bollullos Par del Condado                              40.0    14387.0   \n",
       "Ayamonte                                                7.0    21104.0   \n",
       "Villarrasa                                             10.0     2211.0   \n",
       "Gibraleón                                              12.0    12737.0   \n",
       "Almonaster la Real                                      9.0     1788.0   \n",
       "Beas                                                   10.0     4341.0   \n",
       "Minas de Riotinto                                       7.0     3812.0   \n",
       "Campillo (El)                                           8.0     2024.0   \n",
       "Isla Cristina                                           5.0    21393.0   \n",
       "Granado (El)                                            1.0      532.0   \n",
       "Galaroza                                                1.0     1382.0   \n",
       "Fuenteheridos                                           1.0      709.0   \n",
       "Escacena del Campo                                      1.0     2287.0   \n",
       "Cumbres Mayores                                         3.0     1749.0   \n",
       "Santa Ana la Real                                       1.0      475.0   \n",
       "Almendro (El)                                           2.0      840.0   \n",
       "Higuera de la Sierra                                    1.0     1291.0   \n",
       "\n",
       "Medida                                  tasa7       tasa14  Diferencia PDIA  \\\n",
       "Lugar de residencia                                                           \n",
       "Alosno                              25.425884   177.981185              0.0   \n",
       "Lucena del Puerto                  153.327200   674.639681              1.0   \n",
       "Punta Umbría                        19.537610    84.662976              1.0   \n",
       "Villalba del Alcor                  29.708853   118.835413              0.0   \n",
       "Aljaraque                           41.911148   149.017416              2.0   \n",
       "San Bartolomé de la Torre          212.709386   744.482850              3.0   \n",
       "Aracena                            109.024833   375.529982              1.0   \n",
       "Bonares                            132.013201   429.042904              2.0   \n",
       "Aroche                              32.743942    98.231827              0.0   \n",
       "Trigueros                           50.877639   139.913508              0.0   \n",
       "Palma del Condado (La)              64.808814   157.392834              2.0   \n",
       "San Juan del Puerto                127.510360   286.898310              7.0   \n",
       "Valverde del Camino                 70.588235   156.862745              1.0   \n",
       "Huelva-Costa                        87.722934   194.095625             44.0   \n",
       "Niebla                             121.477162   267.249757              2.0   \n",
       "Cartaya                            363.491510   791.714385             13.0   \n",
       "Huelva                             121.597132   264.434788            126.0   \n",
       "Condado-Campiña                    201.624518   436.533082             76.0   \n",
       "Rociana del Condado                466.053659  1007.683587              4.0   \n",
       "Huelva (capital)                   100.808554   213.436042             25.0   \n",
       "Palos de la Frontera               221.427355   468.404020              4.0   \n",
       "Lepe                                39.454806    82.496413              2.0   \n",
       "Moguer                             201.216445   420.725294              9.0   \n",
       "Almonte                            461.092749   962.990166             25.0   \n",
       "Calañas                             36.127168    72.254335              0.0   \n",
       "Sierra de Huelva-Andévalo Central   69.742250   133.548990              6.0   \n",
       "Bollullos Par del Condado          152.915827   278.028776              8.0   \n",
       "Ayamonte                            18.953753    33.169067              0.0   \n",
       "Villarrasa                         271.370421   452.284034              3.0   \n",
       "Gibraleón                           62.809139    94.213708              5.0   \n",
       "Almonaster la Real                 391.498881   503.355705              0.0   \n",
       "Beas                               184.289334   230.361668              0.0   \n",
       "Minas de Riotinto                  157.397692   183.630640              1.0   \n",
       "Campillo (El)                      345.849802   395.256917              0.0   \n",
       "Isla Cristina                       23.372131    23.372131              1.0   \n",
       "Granado (El)                       187.969925   187.969925              0.0   \n",
       "Galaroza                            72.358900    72.358900              0.0   \n",
       "Fuenteheridos                      141.043724   141.043724              0.0   \n",
       "Escacena del Campo                  43.725404    43.725404              0.0   \n",
       "Cumbres Mayores                    171.526587   171.526587              2.0   \n",
       "Santa Ana la Real                  210.526316   210.526316              0.0   \n",
       "Almendro (El)                      238.095238   238.095238              0.0   \n",
       "Higuera de la Sierra                77.459334    77.459334              0.0   \n",
       "\n",
       "Medida                                 7/14  \n",
       "Lugar de residencia                          \n",
       "Alosno                             0.142857  \n",
       "Lucena del Puerto                  0.227273  \n",
       "Punta Umbría                       0.230769  \n",
       "Villalba del Alcor                 0.250000  \n",
       "Aljaraque                          0.281250  \n",
       "San Bartolomé de la Torre          0.285714  \n",
       "Aracena                            0.290323  \n",
       "Bonares                            0.307692  \n",
       "Aroche                             0.333333  \n",
       "Trigueros                          0.363636  \n",
       "Palma del Condado (La)             0.411765  \n",
       "San Juan del Puerto                0.444444  \n",
       "Valverde del Camino                0.450000  \n",
       "Huelva-Costa                       0.451957  \n",
       "Niebla                             0.454545  \n",
       "Cartaya                            0.459119  \n",
       "Huelva                             0.459838  \n",
       "Condado-Campiña                    0.461877  \n",
       "Rociana del Condado                0.462500  \n",
       "Huelva (capital)                   0.472313  \n",
       "Palos de la Frontera               0.472727  \n",
       "Lepe                               0.478261  \n",
       "Moguer                             0.478261  \n",
       "Almonte                            0.478814  \n",
       "Calañas                            0.500000  \n",
       "Sierra de Huelva-Andévalo Central  0.522222  \n",
       "Bollullos Par del Condado          0.550000  \n",
       "Ayamonte                           0.571429  \n",
       "Villarrasa                         0.600000  \n",
       "Gibraleón                          0.666667  \n",
       "Almonaster la Real                 0.777778  \n",
       "Beas                               0.800000  \n",
       "Minas de Riotinto                  0.857143  \n",
       "Campillo (El)                      0.875000  \n",
       "Isla Cristina                      1.000000  \n",
       "Granado (El)                       1.000000  \n",
       "Galaroza                           1.000000  \n",
       "Fuenteheridos                      1.000000  \n",
       "Escacena del Campo                 1.000000  \n",
       "Cumbres Mayores                    1.000000  \n",
       "Santa Ana la Real                  1.000000  \n",
       "Almendro (El)                      1.000000  \n",
       "Higuera de la Sierra               1.000000  "
      ],
      "text/html": "<div>\n<style scoped>\n    .dataframe tbody tr th:only-of-type {\n        vertical-align: middle;\n    }\n\n    .dataframe tbody tr th {\n        vertical-align: top;\n    }\n\n    .dataframe thead th {\n        text-align: right;\n    }\n</style>\n<table border=\"1\" class=\"dataframe\">\n  <thead>\n    <tr style=\"text-align: right;\">\n      <th>Medida</th>\n      <th>Confirmados PDIA</th>\n      <th>Confirmados PDIA 7 días</th>\n      <th>Confirmados PDIA 14 días</th>\n      <th>Población</th>\n      <th>tasa7</th>\n      <th>tasa14</th>\n      <th>Diferencia PDIA</th>\n      <th>7/14</th>\n    </tr>\n    <tr>\n      <th>Lugar de residencia</th>\n      <th></th>\n      <th></th>\n      <th></th>\n      <th></th>\n      <th></th>\n      <th></th>\n      <th></th>\n      <th></th>\n    </tr>\n  </thead>\n  <tbody>\n    <tr>\n      <th>Alosno</th>\n      <td>161.0</td>\n      <td>1.0</td>\n      <td>7.0</td>\n      <td>3933.0</td>\n      <td>25.425884</td>\n      <td>177.981185</td>\n      <td>0.0</td>\n      <td>0.142857</td>\n    </tr>\n    <tr>\n      <th>Lucena del Puerto</th>\n      <td>188.0</td>\n      <td>5.0</td>\n      <td>22.0</td>\n      <td>3261.0</td>\n      <td>153.327200</td>\n      <td>674.639681</td>\n      <td>1.0</td>\n      <td>0.227273</td>\n    </tr>\n    <tr>\n      <th>Punta Umbría</th>\n      <td>686.0</td>\n      <td>3.0</td>\n      <td>13.0</td>\n      <td>15355.0</td>\n      <td>19.537610</td>\n      <td>84.662976</td>\n      <td>1.0</td>\n      <td>0.230769</td>\n    </tr>\n    <tr>\n      <th>Villalba del Alcor</th>\n      <td>471.0</td>\n      <td>1.0</td>\n      <td>4.0</td>\n      <td>3366.0</td>\n      <td>29.708853</td>\n      <td>118.835413</td>\n      <td>0.0</td>\n      <td>0.250000</td>\n    </tr>\n    <tr>\n      <th>Aljaraque</th>\n      <td>977.0</td>\n      <td>9.0</td>\n      <td>32.0</td>\n      <td>21474.0</td>\n      <td>41.911148</td>\n      <td>149.017416</td>\n      <td>2.0</td>\n      <td>0.281250</td>\n    </tr>\n    <tr>\n      <th>San Bartolomé de la Torre</th>\n      <td>280.0</td>\n      <td>8.0</td>\n      <td>28.0</td>\n      <td>3761.0</td>\n      <td>212.709386</td>\n      <td>744.482850</td>\n      <td>3.0</td>\n      <td>0.285714</td>\n    </tr>\n    <tr>\n      <th>Aracena</th>\n      <td>499.0</td>\n      <td>9.0</td>\n      <td>31.0</td>\n      <td>8255.0</td>\n      <td>109.024833</td>\n      <td>375.529982</td>\n      <td>1.0</td>\n      <td>0.290323</td>\n    </tr>\n    <tr>\n      <th>Bonares</th>\n      <td>227.0</td>\n      <td>8.0</td>\n      <td>26.0</td>\n      <td>6060.0</td>\n      <td>132.013201</td>\n      <td>429.042904</td>\n      <td>2.0</td>\n      <td>0.307692</td>\n    </tr>\n    <tr>\n      <th>Aroche</th>\n      <td>87.0</td>\n      <td>1.0</td>\n      <td>3.0</td>\n      <td>3054.0</td>\n      <td>32.743942</td>\n      <td>98.231827</td>\n      <td>0.0</td>\n      <td>0.333333</td>\n    </tr>\n    <tr>\n      <th>Trigueros</th>\n      <td>253.0</td>\n      <td>4.0</td>\n      <td>11.0</td>\n      <td>7862.0</td>\n      <td>50.877639</td>\n      <td>139.913508</td>\n      <td>0.0</td>\n      <td>0.363636</td>\n    </tr>\n    <tr>\n      <th>Palma del Condado (La)</th>\n      <td>1016.0</td>\n      <td>7.0</td>\n      <td>17.0</td>\n      <td>10801.0</td>\n      <td>64.808814</td>\n      <td>157.392834</td>\n      <td>2.0</td>\n      <td>0.411765</td>\n    </tr>\n    <tr>\n      <th>San Juan del Puerto</th>\n      <td>418.0</td>\n      <td>12.0</td>\n      <td>27.0</td>\n      <td>9411.0</td>\n      <td>127.510360</td>\n      <td>286.898310</td>\n      <td>7.0</td>\n      <td>0.444444</td>\n    </tr>\n    <tr>\n      <th>Valverde del Camino</th>\n      <td>453.0</td>\n      <td>9.0</td>\n      <td>20.0</td>\n      <td>12750.0</td>\n      <td>70.588235</td>\n      <td>156.862745</td>\n      <td>1.0</td>\n      <td>0.450000</td>\n    </tr>\n    <tr>\n      <th>Huelva-Costa</th>\n      <td>16190.0</td>\n      <td>254.0</td>\n      <td>562.0</td>\n      <td>289548.0</td>\n      <td>87.722934</td>\n      <td>194.095625</td>\n      <td>44.0</td>\n      <td>0.451957</td>\n    </tr>\n    <tr>\n      <th>Niebla</th>\n      <td>189.0</td>\n      <td>5.0</td>\n      <td>11.0</td>\n      <td>4116.0</td>\n      <td>121.477162</td>\n      <td>267.249757</td>\n      <td>2.0</td>\n      <td>0.454545</td>\n    </tr>\n    <tr>\n      <th>Cartaya</th>\n      <td>1216.0</td>\n      <td>73.0</td>\n      <td>159.0</td>\n      <td>20083.0</td>\n      <td>363.491510</td>\n      <td>791.714385</td>\n      <td>13.0</td>\n      <td>0.459119</td>\n    </tr>\n    <tr>\n      <th>Huelva</th>\n      <td>27453.0</td>\n      <td>624.0</td>\n      <td>1357.0</td>\n      <td>513170.0</td>\n      <td>121.597132</td>\n      <td>264.434788</td>\n      <td>126.0</td>\n      <td>0.459838</td>\n    </tr>\n    <tr>\n      <th>Condado-Campiña</th>\n      <td>8406.0</td>\n      <td>315.0</td>\n      <td>682.0</td>\n      <td>156231.0</td>\n      <td>201.624518</td>\n      <td>436.533082</td>\n      <td>76.0</td>\n      <td>0.461877</td>\n    </tr>\n    <tr>\n      <th>Rociana del Condado</th>\n      <td>471.0</td>\n      <td>37.0</td>\n      <td>80.0</td>\n      <td>7939.0</td>\n      <td>466.053659</td>\n      <td>1007.683587</td>\n      <td>4.0</td>\n      <td>0.462500</td>\n    </tr>\n    <tr>\n      <th>Huelva (capital)</th>\n      <td>7134.0</td>\n      <td>145.0</td>\n      <td>307.0</td>\n      <td>143837.0</td>\n      <td>100.808554</td>\n      <td>213.436042</td>\n      <td>25.0</td>\n      <td>0.472313</td>\n    </tr>\n    <tr>\n      <th>Palos de la Frontera</th>\n      <td>560.0</td>\n      <td>26.0</td>\n      <td>55.0</td>\n      <td>11742.0</td>\n      <td>221.427355</td>\n      <td>468.404020</td>\n      <td>4.0</td>\n      <td>0.472727</td>\n    </tr>\n    <tr>\n      <th>Lepe</th>\n      <td>2057.0</td>\n      <td>11.0</td>\n      <td>23.0</td>\n      <td>27880.0</td>\n      <td>39.454806</td>\n      <td>82.496413</td>\n      <td>2.0</td>\n      <td>0.478261</td>\n    </tr>\n    <tr>\n      <th>Moguer</th>\n      <td>1020.0</td>\n      <td>44.0</td>\n      <td>92.0</td>\n      <td>21867.0</td>\n      <td>201.216445</td>\n      <td>420.725294</td>\n      <td>9.0</td>\n      <td>0.478261</td>\n    </tr>\n    <tr>\n      <th>Almonte</th>\n      <td>1339.0</td>\n      <td>113.0</td>\n      <td>236.0</td>\n      <td>24507.0</td>\n      <td>461.092749</td>\n      <td>962.990166</td>\n      <td>25.0</td>\n      <td>0.478814</td>\n    </tr>\n    <tr>\n      <th>Calañas</th>\n      <td>174.0</td>\n      <td>1.0</td>\n      <td>2.0</td>\n      <td>2768.0</td>\n      <td>36.127168</td>\n      <td>72.254335</td>\n      <td>0.0</td>\n      <td>0.500000</td>\n    </tr>\n    <tr>\n      <th>Sierra de Huelva-Andévalo Central</th>\n      <td>2442.0</td>\n      <td>47.0</td>\n      <td>90.0</td>\n      <td>67391.0</td>\n      <td>69.742250</td>\n      <td>133.548990</td>\n      <td>6.0</td>\n      <td>0.522222</td>\n    </tr>\n    <tr>\n      <th>Bollullos Par del Condado</th>\n      <td>740.0</td>\n      <td>22.0</td>\n      <td>40.0</td>\n      <td>14387.0</td>\n      <td>152.915827</td>\n      <td>278.028776</td>\n      <td>8.0</td>\n      <td>0.550000</td>\n    </tr>\n    <tr>\n      <th>Ayamonte</th>\n      <td>1261.0</td>\n      <td>4.0</td>\n      <td>7.0</td>\n      <td>21104.0</td>\n      <td>18.953753</td>\n      <td>33.169067</td>\n      <td>0.0</td>\n      <td>0.571429</td>\n    </tr>\n    <tr>\n      <th>Villarrasa</th>\n      <td>145.0</td>\n      <td>6.0</td>\n      <td>10.0</td>\n      <td>2211.0</td>\n      <td>271.370421</td>\n      <td>452.284034</td>\n      <td>3.0</td>\n      <td>0.600000</td>\n    </tr>\n    <tr>\n      <th>Gibraleón</th>\n      <td>564.0</td>\n      <td>8.0</td>\n      <td>12.0</td>\n      <td>12737.0</td>\n      <td>62.809139</td>\n      <td>94.213708</td>\n      <td>5.0</td>\n      <td>0.666667</td>\n    </tr>\n    <tr>\n      <th>Almonaster la Real</th>\n      <td>62.0</td>\n      <td>7.0</td>\n      <td>9.0</td>\n      <td>1788.0</td>\n      <td>391.498881</td>\n      <td>503.355705</td>\n      <td>0.0</td>\n      <td>0.777778</td>\n    </tr>\n    <tr>\n      <th>Beas</th>\n      <td>174.0</td>\n      <td>8.0</td>\n      <td>10.0</td>\n      <td>4341.0</td>\n      <td>184.289334</td>\n      <td>230.361668</td>\n      <td>0.0</td>\n      <td>0.800000</td>\n    </tr>\n    <tr>\n      <th>Minas de Riotinto</th>\n      <td>107.0</td>\n      <td>6.0</td>\n      <td>7.0</td>\n      <td>3812.0</td>\n      <td>157.397692</td>\n      <td>183.630640</td>\n      <td>1.0</td>\n      <td>0.857143</td>\n    </tr>\n    <tr>\n      <th>Campillo (El)</th>\n      <td>70.0</td>\n      <td>7.0</td>\n      <td>8.0</td>\n      <td>2024.0</td>\n      <td>345.849802</td>\n      <td>395.256917</td>\n      <td>0.0</td>\n      <td>0.875000</td>\n    </tr>\n    <tr>\n      <th>Isla Cristina</th>\n      <td>2021.0</td>\n      <td>5.0</td>\n      <td>5.0</td>\n      <td>21393.0</td>\n      <td>23.372131</td>\n      <td>23.372131</td>\n      <td>1.0</td>\n      <td>1.000000</td>\n    </tr>\n    <tr>\n      <th>Granado (El)</th>\n      <td>37.0</td>\n      <td>1.0</td>\n      <td>1.0</td>\n      <td>532.0</td>\n      <td>187.969925</td>\n      <td>187.969925</td>\n      <td>0.0</td>\n      <td>1.000000</td>\n    </tr>\n    <tr>\n      <th>Galaroza</th>\n      <td>17.0</td>\n      <td>1.0</td>\n      <td>1.0</td>\n      <td>1382.0</td>\n      <td>72.358900</td>\n      <td>72.358900</td>\n      <td>0.0</td>\n      <td>1.000000</td>\n    </tr>\n    <tr>\n      <th>Fuenteheridos</th>\n      <td>6.0</td>\n      <td>1.0</td>\n      <td>1.0</td>\n      <td>709.0</td>\n      <td>141.043724</td>\n      <td>141.043724</td>\n      <td>0.0</td>\n      <td>1.000000</td>\n    </tr>\n    <tr>\n      <th>Escacena del Campo</th>\n      <td>143.0</td>\n      <td>1.0</td>\n      <td>1.0</td>\n      <td>2287.0</td>\n      <td>43.725404</td>\n      <td>43.725404</td>\n      <td>0.0</td>\n      <td>1.000000</td>\n    </tr>\n    <tr>\n      <th>Cumbres Mayores</th>\n      <td>28.0</td>\n      <td>3.0</td>\n      <td>3.0</td>\n      <td>1749.0</td>\n      <td>171.526587</td>\n      <td>171.526587</td>\n      <td>2.0</td>\n      <td>1.000000</td>\n    </tr>\n    <tr>\n      <th>Santa Ana la Real</th>\n      <td>6.0</td>\n      <td>1.0</td>\n      <td>1.0</td>\n      <td>475.0</td>\n      <td>210.526316</td>\n      <td>210.526316</td>\n      <td>0.0</td>\n      <td>1.000000</td>\n    </tr>\n    <tr>\n      <th>Almendro (El)</th>\n      <td>36.0</td>\n      <td>2.0</td>\n      <td>2.0</td>\n      <td>840.0</td>\n      <td>238.095238</td>\n      <td>238.095238</td>\n      <td>0.0</td>\n      <td>1.000000</td>\n    </tr>\n    <tr>\n      <th>Higuera de la Sierra</th>\n      <td>32.0</td>\n      <td>1.0</td>\n      <td>1.0</td>\n      <td>1291.0</td>\n      <td>77.459334</td>\n      <td>77.459334</td>\n      <td>0.0</td>\n      <td>1.000000</td>\n    </tr>\n  </tbody>\n</table>\n</div>"
     },
     "metadata": {},
     "execution_count": 18
    }
   ],
   "source": [
    "# Peso de la tasa de la última semana en relación con la tasa a 14 días \n",
    "# Mejor cuanto menor. Valor 1 significa que no había casos antes de 7 días.\n",
    "tabla['7/14'] = tabla['tasa7'] / tabla['tasa14']\n",
    "tabla.fillna(0).sort_values('7/14', ascending=True)"
   ]
  },
  {
   "cell_type": "code",
   "execution_count": null,
   "metadata": {},
   "outputs": [],
   "source": []
  }
 ]
}