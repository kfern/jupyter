{
 "metadata": {
  "language_info": {
   "codemirror_mode": {
    "name": "ipython",
    "version": 3
   },
   "file_extension": ".py",
   "mimetype": "text/x-python",
   "name": "python",
   "nbconvert_exporter": "python",
   "pygments_lexer": "ipython3",
   "version": "3.8.6"
  },
  "orig_nbformat": 2,
  "kernelspec": {
   "name": "python3",
   "display_name": "Python 3",
   "language": "python"
  }
 },
 "nbformat": 4,
 "nbformat_minor": 2,
 "cells": [
  {
   "cell_type": "code",
   "execution_count": 1,
   "metadata": {},
   "outputs": [],
   "source": [
    "import pandas as pd\n",
    "pd.set_option('display.max_rows', None) # Print all rows"
   ]
  },
  {
   "cell_type": "code",
   "execution_count": 2,
   "metadata": {},
   "outputs": [],
   "source": [
    "# FIX SSL: CERTIFICATE_VERIFY_FAILED with Python3\n",
    "# https://stackoverflow.com/a/49174340\n",
    "import ssl\n",
    "\n",
    "ssl._create_default_https_context = ssl._create_unverified_context"
   ]
  },
  {
   "cell_type": "code",
   "execution_count": 3,
   "metadata": {},
   "outputs": [],
   "source": [
    "url = 'https://www.juntadeandalucia.es/institutodeestadisticaycartografia/badea/stpivot/stpivot/Print?cube=013d884c-cfc5-4c21-9e78-e26225682afd&type=3&foto=si&ejecutaDesde=&codConsulta=38668&consTipoVisua=JP'\n",
    "fields = ['Lugar de residencia', 'Medida', 'Valor']\n",
    "df = pd.read_csv(url, delimiter=';', usecols=fields, decimal=',')"
   ]
  },
  {
   "cell_type": "code",
   "execution_count": 4,
   "metadata": {},
   "outputs": [
    {
     "output_type": "execute_result",
     "data": {
      "text/plain": [
       "  Lugar de residencia                    Medida              Valor\n",
       "0              Huelva                 Población             513170\n",
       "1              Huelva          Confirmados PDIA              28602\n",
       "2              Huelva  Confirmados PDIA 14 días               1092\n",
       "3              Huelva         Tasa PDIA 14 días  212,7949802209794\n",
       "4              Huelva   Confirmados PDIA 7 días                452\n",
       "5              Huelva        Total Confirmados               28777\n",
       "6              Huelva                   Curados              24457\n",
       "7              Huelva                Fallecidos                364"
      ],
      "text/html": "<div>\n<style scoped>\n    .dataframe tbody tr th:only-of-type {\n        vertical-align: middle;\n    }\n\n    .dataframe tbody tr th {\n        vertical-align: top;\n    }\n\n    .dataframe thead th {\n        text-align: right;\n    }\n</style>\n<table border=\"1\" class=\"dataframe\">\n  <thead>\n    <tr style=\"text-align: right;\">\n      <th></th>\n      <th>Lugar de residencia</th>\n      <th>Medida</th>\n      <th>Valor</th>\n    </tr>\n  </thead>\n  <tbody>\n    <tr>\n      <th>0</th>\n      <td>Huelva</td>\n      <td>Población</td>\n      <td>513170</td>\n    </tr>\n    <tr>\n      <th>1</th>\n      <td>Huelva</td>\n      <td>Confirmados PDIA</td>\n      <td>28602</td>\n    </tr>\n    <tr>\n      <th>2</th>\n      <td>Huelva</td>\n      <td>Confirmados PDIA 14 días</td>\n      <td>1092</td>\n    </tr>\n    <tr>\n      <th>3</th>\n      <td>Huelva</td>\n      <td>Tasa PDIA 14 días</td>\n      <td>212,7949802209794</td>\n    </tr>\n    <tr>\n      <th>4</th>\n      <td>Huelva</td>\n      <td>Confirmados PDIA 7 días</td>\n      <td>452</td>\n    </tr>\n    <tr>\n      <th>5</th>\n      <td>Huelva</td>\n      <td>Total Confirmados</td>\n      <td>28777</td>\n    </tr>\n    <tr>\n      <th>6</th>\n      <td>Huelva</td>\n      <td>Curados</td>\n      <td>24457</td>\n    </tr>\n    <tr>\n      <th>7</th>\n      <td>Huelva</td>\n      <td>Fallecidos</td>\n      <td>364</td>\n    </tr>\n  </tbody>\n</table>\n</div>"
     },
     "metadata": {},
     "execution_count": 4
    }
   ],
   "source": [
    "df[df['Lugar de residencia'] == 'Huelva']"
   ]
  },
  {
   "cell_type": "code",
   "execution_count": 5,
   "metadata": {},
   "outputs": [],
   "source": [
    "df['Valor'] = pd.to_numeric(df['Valor'],errors='coerce')"
   ]
  },
  {
   "cell_type": "code",
   "execution_count": 6,
   "metadata": {},
   "outputs": [],
   "source": [
    "dfAnterior = pd.read_csv('covid_huelva.csv', index_col='Lugar de residencia')"
   ]
  },
  {
   "cell_type": "code",
   "execution_count": 7,
   "metadata": {
    "tags": []
   },
   "outputs": [
    {
     "output_type": "stream",
     "name": "stdout",
     "text": [
      "Confirmados PCR en la provincia de Huelva:  28602.0\n",
      "<ipython-input-7-31b732756b19>:2: UserWarning: Boolean Series key will be reindexed to match DataFrame index.\n",
      "  p = df[df['Lugar de residencia'] == 'Huelva'][df['Medida'] == 'Confirmados PDIA']['Valor'].values[0]\n"
     ]
    }
   ],
   "source": [
    "# Confirmados PCR provincia Huelva\n",
    "p = df[df['Lugar de residencia'] == 'Huelva'][df['Medida'] == 'Confirmados PDIA']['Valor'].values[0]\n",
    "print('Confirmados PCR en la provincia de Huelva: ', p)"
   ]
  },
  {
   "cell_type": "code",
   "execution_count": 8,
   "metadata": {
    "tags": []
   },
   "outputs": [
    {
     "output_type": "stream",
     "name": "stdout",
     "text": [
      "Confirmados PCR en Huelva capital:  7414.0\n",
      "<ipython-input-8-e81bfb40e710>:2: UserWarning: Boolean Series key will be reindexed to match DataFrame index.\n",
      "  c = df[df['Lugar de residencia'] == 'Huelva (capital)'][df['Medida'] == 'Confirmados PDIA']['Valor'].values[0]\n"
     ]
    }
   ],
   "source": [
    "# Confirmados PCR Huelva capitalpd\n",
    "c = df[df['Lugar de residencia'] == 'Huelva (capital)'][df['Medida'] == 'Confirmados PDIA']['Valor'].values[0]\n",
    "print('Confirmados PCR en Huelva capital: ', c)"
   ]
  },
  {
   "cell_type": "code",
   "execution_count": 9,
   "metadata": {
    "tags": []
   },
   "outputs": [
    {
     "output_type": "stream",
     "name": "stderr",
     "text": [
      "<ipython-input-9-f09dd2050cc1>:1: UserWarning: Boolean Series key will be reindexed to match DataFrame index.\n  c7 = df[df['Lugar de residencia'] == 'Huelva (capital)'][df['Medida'] == 'Confirmados PDIA 7 días']['Valor'].values[0]\n<ipython-input-9-f09dd2050cc1>:2: UserWarning: Boolean Series key will be reindexed to match DataFrame index.\n  c14 = df[df['Lugar de residencia'] == 'Huelva (capital)'][df['Medida'] == 'Confirmados PDIA 14 días']['Valor'].values[0]\n<ipython-input-9-f09dd2050cc1>:3: UserWarning: Boolean Series key will be reindexed to match DataFrame index.\n  p = df[df['Lugar de residencia'] == 'Huelva (capital)'][df['Medida'] == 'Población']['Valor'].values[0]\n"
     ]
    }
   ],
   "source": [
    "c7 = df[df['Lugar de residencia'] == 'Huelva (capital)'][df['Medida'] == 'Confirmados PDIA 7 días']['Valor'].values[0]\n",
    "c14 = df[df['Lugar de residencia'] == 'Huelva (capital)'][df['Medida'] == 'Confirmados PDIA 14 días']['Valor'].values[0]\n",
    "p = df[df['Lugar de residencia'] == 'Huelva (capital)'][df['Medida'] == 'Población']['Valor'].values[0]"
   ]
  },
  {
   "cell_type": "code",
   "execution_count": 10,
   "metadata": {
    "tags": []
   },
   "outputs": [
    {
     "output_type": "stream",
     "name": "stdout",
     "text": [
      "Huelva (capital)\n\nUn positivo PCR cada 1273 personas en los últimos 7 días \n\nUn positivo PCR cada 582 personas en los últimos 14 días\n"
     ]
    }
   ],
   "source": [
    "print('Huelva (capital)\\n')\n",
    "#print('Confirmados PCR 7 días x 1,000 habitantes: ', f\"{c7/(p/1000):.5f}\")\n",
    "print('Un positivo PCR cada', f\"{p/c7:.0f}\", 'personas en los últimos 7 días', '\\n')\n",
    "#print('Confirmados PCR 14 días x 1,000 habitantes: ', f\"{c14/(p/1000):.5f}\")\n",
    "print('Un positivo PCR cada', f\"{p/c14:.0f}\", 'personas en los últimos 14 días')"
   ]
  },
  {
   "cell_type": "code",
   "execution_count": 11,
   "metadata": {},
   "outputs": [],
   "source": [
    "filtro = ((df['Medida'] == 'Confirmados PDIA')| (df['Medida'] == 'Confirmados PDIA 7 días') | (df['Medida'] == 'Población' ) | (df['Medida'] == 'Confirmados PDIA 14 días')) & (df['Valor'] > 0)\n",
    "tabla = pd.pivot_table(df.loc[filtro], values='Valor', index='Lugar de residencia', columns='Medida').dropna()"
   ]
  },
  {
   "cell_type": "code",
   "execution_count": 12,
   "metadata": {},
   "outputs": [],
   "source": [
    "# Reorder columns\n",
    "tabla = tabla[['Confirmados PDIA', 'Confirmados PDIA 7 días', 'Confirmados PDIA 14 días', 'Población']]"
   ]
  },
  {
   "cell_type": "code",
   "execution_count": 13,
   "metadata": {},
   "outputs": [],
   "source": [
    "tabla['tasa7'] = tabla['Confirmados PDIA 7 días']/tabla['Población']*100000\n",
    "tabla['tasa14'] = tabla['Confirmados PDIA 14 días']/tabla['Población']*100000"
   ]
  },
  {
   "cell_type": "code",
   "execution_count": 14,
   "metadata": {},
   "outputs": [],
   "source": [
    "tabla['Diferencia PDIA'] = tabla['Confirmados PDIA'] - dfAnterior['Confirmados PDIA']"
   ]
  },
  {
   "cell_type": "code",
   "execution_count": 15,
   "metadata": {},
   "outputs": [
    {
     "output_type": "execute_result",
     "data": {
      "text/plain": [
       "Medida                             Confirmados PDIA  Confirmados PDIA 7 días  \\\n",
       "Lugar de residencia                                                            \n",
       "Huelva                                      28602.0                    452.0   \n",
       "Condado-Campiña                              9016.0                    230.0   \n",
       "Huelva-Costa                                16664.0                    181.0   \n",
       "Huelva (capital)                             7414.0                    113.0   \n",
       "Almonte                                      1521.0                     68.0   \n",
       "Bollullos Par del Condado                     821.0                     38.0   \n",
       "Moguer                                       1105.0                     33.0   \n",
       "Aljaraque                                    1001.0                      9.0   \n",
       "Sierra de Huelva-Andévalo Central            2547.0                     33.0   \n",
       "Cartaya                                      1269.0                     15.0   \n",
       "Lepe                                         2082.0                      7.0   \n",
       "San Juan del Puerto                           450.0                     11.0   \n",
       "Ayamonte                                     1284.0                     14.0   \n",
       "Aracena                                       511.0                      5.0   \n",
       "Rociana del Condado                           515.0                     17.0   \n",
       "Palos de la Frontera                          582.0                      7.0   \n",
       "Niebla                                        195.0                      3.0   \n",
       "Isla Cristina                                2060.0                     12.0   \n",
       "Gibraleón                                     587.0                      6.0   \n",
       "Valverde del Camino                           475.0                      9.0   \n",
       "Minas de Riotinto                             112.0                      1.0   \n",
       "Palma del Condado (La)                       1036.0                      7.0   \n",
       "Lucena del Puerto                             232.0                     17.0   \n",
       "Punta Umbría                                  712.0                     10.0   \n",
       "Almonaster la Real                             66.0                      3.0   \n",
       "Bonares                                       255.0                     12.0   \n",
       "Manzanilla                                     85.0                      1.0   \n",
       "Nerva                                         154.0                      1.0   \n",
       "\n",
       "Medida                             Confirmados PDIA 14 días  Población  \\\n",
       "Lugar de residencia                                                      \n",
       "Huelva                                               1092.0   513170.0   \n",
       "Condado-Campiña                                       568.0   156231.0   \n",
       "Huelva-Costa                                          407.0   289548.0   \n",
       "Huelva (capital)                                      247.0   143837.0   \n",
       "Almonte                                               170.0    24507.0   \n",
       "Bollullos Par del Condado                              75.0    14387.0   \n",
       "Moguer                                                 79.0    21867.0   \n",
       "Aljaraque                                              19.0    21474.0   \n",
       "Sierra de Huelva-Andévalo Central                     101.0    67391.0   \n",
       "Cartaya                                                47.0    20083.0   \n",
       "Lepe                                                   18.0    27880.0   \n",
       "San Juan del Puerto                                    32.0     9411.0   \n",
       "Ayamonte                                               21.0    21104.0   \n",
       "Aracena                                                12.0     8255.0   \n",
       "Rociana del Condado                                    40.0     7939.0   \n",
       "Palos de la Frontera                                   22.0    11742.0   \n",
       "Niebla                                                  6.0     4116.0   \n",
       "Isla Cristina                                          27.0    21393.0   \n",
       "Gibraleón                                              23.0    12737.0   \n",
       "Valverde del Camino                                    21.0    12750.0   \n",
       "Minas de Riotinto                                       5.0     3812.0   \n",
       "Palma del Condado (La)                                 13.0    10801.0   \n",
       "Lucena del Puerto                                      42.0     3261.0   \n",
       "Punta Umbría                                           24.0    15355.0   \n",
       "Almonaster la Real                                      4.0     1788.0   \n",
       "Bonares                                                26.0     6060.0   \n",
       "Manzanilla                                              1.0     2118.0   \n",
       "Nerva                                                   1.0     5169.0   \n",
       "\n",
       "Medida                                  tasa7       tasa14  Diferencia PDIA  \n",
       "Lugar de residencia                                                          \n",
       "Huelva                              88.079973   212.794980            120.0  \n",
       "Condado-Campiña                    147.217902   363.564209             60.0  \n",
       "Huelva-Costa                        62.511224   140.563913             49.0  \n",
       "Huelva (capital)                    78.561149   171.722158             27.0  \n",
       "Almonte                            277.471743   693.679357             23.0  \n",
       "Bollullos Par del Condado          264.127337   521.303955             12.0  \n",
       "Moguer                             150.912334   361.274981              9.0  \n",
       "Aljaraque                           41.911148    88.479091              8.0  \n",
       "Sierra de Huelva-Andévalo Central   48.967963   149.871645              8.0  \n",
       "Cartaya                             74.690036   234.028781              4.0  \n",
       "Lepe                                25.107604    64.562410              4.0  \n",
       "San Juan del Puerto                116.884497   340.027627              3.0  \n",
       "Ayamonte                            66.338135    99.507202              3.0  \n",
       "Aracena                             60.569352   145.366445              3.0  \n",
       "Rociana del Condado                214.132762   503.841794              3.0  \n",
       "Palos de la Frontera                59.615057   187.361608              2.0  \n",
       "Niebla                              72.886297   145.772595              2.0  \n",
       "Isla Cristina                       56.093115   126.209508              2.0  \n",
       "Gibraleón                           47.106854   180.576274              2.0  \n",
       "Valverde del Camino                 70.588235   164.705882              2.0  \n",
       "Minas de Riotinto                   26.232949   131.164743              1.0  \n",
       "Palma del Condado (La)              64.808814   120.359226              1.0  \n",
       "Lucena del Puerto                  521.312481  1287.948482              1.0  \n",
       "Punta Umbría                        65.125366   156.300879              1.0  \n",
       "Almonaster la Real                 167.785235   223.713647              1.0  \n",
       "Bonares                            198.019802   429.042904              1.0  \n",
       "Manzanilla                          47.214353    47.214353              NaN  \n",
       "Nerva                               19.346102    19.346102              NaN  "
      ],
      "text/html": "<div>\n<style scoped>\n    .dataframe tbody tr th:only-of-type {\n        vertical-align: middle;\n    }\n\n    .dataframe tbody tr th {\n        vertical-align: top;\n    }\n\n    .dataframe thead th {\n        text-align: right;\n    }\n</style>\n<table border=\"1\" class=\"dataframe\">\n  <thead>\n    <tr style=\"text-align: right;\">\n      <th>Medida</th>\n      <th>Confirmados PDIA</th>\n      <th>Confirmados PDIA 7 días</th>\n      <th>Confirmados PDIA 14 días</th>\n      <th>Población</th>\n      <th>tasa7</th>\n      <th>tasa14</th>\n      <th>Diferencia PDIA</th>\n    </tr>\n    <tr>\n      <th>Lugar de residencia</th>\n      <th></th>\n      <th></th>\n      <th></th>\n      <th></th>\n      <th></th>\n      <th></th>\n      <th></th>\n    </tr>\n  </thead>\n  <tbody>\n    <tr>\n      <th>Huelva</th>\n      <td>28602.0</td>\n      <td>452.0</td>\n      <td>1092.0</td>\n      <td>513170.0</td>\n      <td>88.079973</td>\n      <td>212.794980</td>\n      <td>120.0</td>\n    </tr>\n    <tr>\n      <th>Condado-Campiña</th>\n      <td>9016.0</td>\n      <td>230.0</td>\n      <td>568.0</td>\n      <td>156231.0</td>\n      <td>147.217902</td>\n      <td>363.564209</td>\n      <td>60.0</td>\n    </tr>\n    <tr>\n      <th>Huelva-Costa</th>\n      <td>16664.0</td>\n      <td>181.0</td>\n      <td>407.0</td>\n      <td>289548.0</td>\n      <td>62.511224</td>\n      <td>140.563913</td>\n      <td>49.0</td>\n    </tr>\n    <tr>\n      <th>Huelva (capital)</th>\n      <td>7414.0</td>\n      <td>113.0</td>\n      <td>247.0</td>\n      <td>143837.0</td>\n      <td>78.561149</td>\n      <td>171.722158</td>\n      <td>27.0</td>\n    </tr>\n    <tr>\n      <th>Almonte</th>\n      <td>1521.0</td>\n      <td>68.0</td>\n      <td>170.0</td>\n      <td>24507.0</td>\n      <td>277.471743</td>\n      <td>693.679357</td>\n      <td>23.0</td>\n    </tr>\n    <tr>\n      <th>Bollullos Par del Condado</th>\n      <td>821.0</td>\n      <td>38.0</td>\n      <td>75.0</td>\n      <td>14387.0</td>\n      <td>264.127337</td>\n      <td>521.303955</td>\n      <td>12.0</td>\n    </tr>\n    <tr>\n      <th>Moguer</th>\n      <td>1105.0</td>\n      <td>33.0</td>\n      <td>79.0</td>\n      <td>21867.0</td>\n      <td>150.912334</td>\n      <td>361.274981</td>\n      <td>9.0</td>\n    </tr>\n    <tr>\n      <th>Aljaraque</th>\n      <td>1001.0</td>\n      <td>9.0</td>\n      <td>19.0</td>\n      <td>21474.0</td>\n      <td>41.911148</td>\n      <td>88.479091</td>\n      <td>8.0</td>\n    </tr>\n    <tr>\n      <th>Sierra de Huelva-Andévalo Central</th>\n      <td>2547.0</td>\n      <td>33.0</td>\n      <td>101.0</td>\n      <td>67391.0</td>\n      <td>48.967963</td>\n      <td>149.871645</td>\n      <td>8.0</td>\n    </tr>\n    <tr>\n      <th>Cartaya</th>\n      <td>1269.0</td>\n      <td>15.0</td>\n      <td>47.0</td>\n      <td>20083.0</td>\n      <td>74.690036</td>\n      <td>234.028781</td>\n      <td>4.0</td>\n    </tr>\n    <tr>\n      <th>Lepe</th>\n      <td>2082.0</td>\n      <td>7.0</td>\n      <td>18.0</td>\n      <td>27880.0</td>\n      <td>25.107604</td>\n      <td>64.562410</td>\n      <td>4.0</td>\n    </tr>\n    <tr>\n      <th>San Juan del Puerto</th>\n      <td>450.0</td>\n      <td>11.0</td>\n      <td>32.0</td>\n      <td>9411.0</td>\n      <td>116.884497</td>\n      <td>340.027627</td>\n      <td>3.0</td>\n    </tr>\n    <tr>\n      <th>Ayamonte</th>\n      <td>1284.0</td>\n      <td>14.0</td>\n      <td>21.0</td>\n      <td>21104.0</td>\n      <td>66.338135</td>\n      <td>99.507202</td>\n      <td>3.0</td>\n    </tr>\n    <tr>\n      <th>Aracena</th>\n      <td>511.0</td>\n      <td>5.0</td>\n      <td>12.0</td>\n      <td>8255.0</td>\n      <td>60.569352</td>\n      <td>145.366445</td>\n      <td>3.0</td>\n    </tr>\n    <tr>\n      <th>Rociana del Condado</th>\n      <td>515.0</td>\n      <td>17.0</td>\n      <td>40.0</td>\n      <td>7939.0</td>\n      <td>214.132762</td>\n      <td>503.841794</td>\n      <td>3.0</td>\n    </tr>\n    <tr>\n      <th>Palos de la Frontera</th>\n      <td>582.0</td>\n      <td>7.0</td>\n      <td>22.0</td>\n      <td>11742.0</td>\n      <td>59.615057</td>\n      <td>187.361608</td>\n      <td>2.0</td>\n    </tr>\n    <tr>\n      <th>Niebla</th>\n      <td>195.0</td>\n      <td>3.0</td>\n      <td>6.0</td>\n      <td>4116.0</td>\n      <td>72.886297</td>\n      <td>145.772595</td>\n      <td>2.0</td>\n    </tr>\n    <tr>\n      <th>Isla Cristina</th>\n      <td>2060.0</td>\n      <td>12.0</td>\n      <td>27.0</td>\n      <td>21393.0</td>\n      <td>56.093115</td>\n      <td>126.209508</td>\n      <td>2.0</td>\n    </tr>\n    <tr>\n      <th>Gibraleón</th>\n      <td>587.0</td>\n      <td>6.0</td>\n      <td>23.0</td>\n      <td>12737.0</td>\n      <td>47.106854</td>\n      <td>180.576274</td>\n      <td>2.0</td>\n    </tr>\n    <tr>\n      <th>Valverde del Camino</th>\n      <td>475.0</td>\n      <td>9.0</td>\n      <td>21.0</td>\n      <td>12750.0</td>\n      <td>70.588235</td>\n      <td>164.705882</td>\n      <td>2.0</td>\n    </tr>\n    <tr>\n      <th>Minas de Riotinto</th>\n      <td>112.0</td>\n      <td>1.0</td>\n      <td>5.0</td>\n      <td>3812.0</td>\n      <td>26.232949</td>\n      <td>131.164743</td>\n      <td>1.0</td>\n    </tr>\n    <tr>\n      <th>Palma del Condado (La)</th>\n      <td>1036.0</td>\n      <td>7.0</td>\n      <td>13.0</td>\n      <td>10801.0</td>\n      <td>64.808814</td>\n      <td>120.359226</td>\n      <td>1.0</td>\n    </tr>\n    <tr>\n      <th>Lucena del Puerto</th>\n      <td>232.0</td>\n      <td>17.0</td>\n      <td>42.0</td>\n      <td>3261.0</td>\n      <td>521.312481</td>\n      <td>1287.948482</td>\n      <td>1.0</td>\n    </tr>\n    <tr>\n      <th>Punta Umbría</th>\n      <td>712.0</td>\n      <td>10.0</td>\n      <td>24.0</td>\n      <td>15355.0</td>\n      <td>65.125366</td>\n      <td>156.300879</td>\n      <td>1.0</td>\n    </tr>\n    <tr>\n      <th>Almonaster la Real</th>\n      <td>66.0</td>\n      <td>3.0</td>\n      <td>4.0</td>\n      <td>1788.0</td>\n      <td>167.785235</td>\n      <td>223.713647</td>\n      <td>1.0</td>\n    </tr>\n    <tr>\n      <th>Bonares</th>\n      <td>255.0</td>\n      <td>12.0</td>\n      <td>26.0</td>\n      <td>6060.0</td>\n      <td>198.019802</td>\n      <td>429.042904</td>\n      <td>1.0</td>\n    </tr>\n    <tr>\n      <th>Manzanilla</th>\n      <td>85.0</td>\n      <td>1.0</td>\n      <td>1.0</td>\n      <td>2118.0</td>\n      <td>47.214353</td>\n      <td>47.214353</td>\n      <td>NaN</td>\n    </tr>\n    <tr>\n      <th>Nerva</th>\n      <td>154.0</td>\n      <td>1.0</td>\n      <td>1.0</td>\n      <td>5169.0</td>\n      <td>19.346102</td>\n      <td>19.346102</td>\n      <td>NaN</td>\n    </tr>\n  </tbody>\n</table>\n</div>"
     },
     "metadata": {},
     "execution_count": 15
    }
   ],
   "source": [
    "# Nuevos casos desde la última captura\n",
    "tabla[tabla['Diferencia PDIA'] != 0].sort_values('Diferencia PDIA', ascending=False)"
   ]
  },
  {
   "cell_type": "code",
   "execution_count": 16,
   "metadata": {},
   "outputs": [],
   "source": [
    "if tabla[tabla['Diferencia PDIA'] != 0]['Diferencia PDIA'].sum() != 0:\n",
    "  # Save to csv\n",
    "  tabla.to_csv('covid_huelva.csv', encoding='utf-8', header=True, index=True)  "
   ]
  },
  {
   "cell_type": "code",
   "execution_count": 17,
   "metadata": {},
   "outputs": [
    {
     "output_type": "execute_result",
     "data": {
      "text/plain": [
       "Medida                             Confirmados PDIA  Confirmados PDIA 7 días  \\\n",
       "Lugar de residencia                                                            \n",
       "Lucena del Puerto                             232.0                     17.0   \n",
       "Cumbres Mayores                                49.0                      1.0   \n",
       "Cortelazor                                      7.0                      2.0   \n",
       "Almonte                                      1521.0                     68.0   \n",
       "Beas                                          197.0                      4.0   \n",
       "Bollullos Par del Condado                     821.0                     38.0   \n",
       "Cañaveral de León                               5.0                      2.0   \n",
       "Rociana del Condado                           515.0                     17.0   \n",
       "Bonares                                       255.0                     12.0   \n",
       "Condado-Campiña                              9016.0                    230.0   \n",
       "Moguer                                       1105.0                     33.0   \n",
       "San Juan del Puerto                           450.0                     11.0   \n",
       "Fuenteheridos                                   8.0                      2.0   \n",
       "Cartaya                                      1269.0                     15.0   \n",
       "Almonaster la Real                             66.0                      3.0   \n",
       "Huelva                                      28602.0                    452.0   \n",
       "Palos de la Frontera                          582.0                      7.0   \n",
       "Gibraleón                                     587.0                      6.0   \n",
       "Trigueros                                     267.0                      5.0   \n",
       "Rosal de la Frontera                           28.0                      2.0   \n",
       "Huelva (capital)                             7414.0                    113.0   \n",
       "Valverde del Camino                           475.0                      9.0   \n",
       "Punta Umbría                                  712.0                     10.0   \n",
       "Cortegana                                     199.0                      4.0   \n",
       "Sierra de Huelva-Andévalo Central            2547.0                     33.0   \n",
       "Niebla                                        195.0                      3.0   \n",
       "Aracena                                       511.0                      5.0   \n",
       "Huelva-Costa                                16664.0                    181.0   \n",
       "Minas de Riotinto                             112.0                      1.0   \n",
       "Isla Cristina                                2060.0                     12.0   \n",
       "Palma del Condado (La)                       1036.0                      7.0   \n",
       "Ayamonte                                     1284.0                     14.0   \n",
       "Aroche                                         90.0                      1.0   \n",
       "Aljaraque                                    1001.0                      9.0   \n",
       "Lepe                                         2082.0                      7.0   \n",
       "Manzanilla                                     85.0                      1.0   \n",
       "Escacena del Campo                            144.0                      1.0   \n",
       "Alosno                                        162.0                      1.0   \n",
       "Nerva                                         154.0                      1.0   \n",
       "\n",
       "Medida                             Confirmados PDIA 14 días  Población  \\\n",
       "Lugar de residencia                                                      \n",
       "Lucena del Puerto                                      42.0     3261.0   \n",
       "Cumbres Mayores                                        19.0     1749.0   \n",
       "Cortelazor                                              3.0      299.0   \n",
       "Almonte                                               170.0    24507.0   \n",
       "Beas                                                   23.0     4341.0   \n",
       "Bollullos Par del Condado                              75.0    14387.0   \n",
       "Cañaveral de León                                       2.0      396.0   \n",
       "Rociana del Condado                                    40.0     7939.0   \n",
       "Bonares                                                26.0     6060.0   \n",
       "Condado-Campiña                                       568.0   156231.0   \n",
       "Moguer                                                 79.0    21867.0   \n",
       "San Juan del Puerto                                    32.0     9411.0   \n",
       "Fuenteheridos                                           2.0      709.0   \n",
       "Cartaya                                                47.0    20083.0   \n",
       "Almonaster la Real                                      4.0     1788.0   \n",
       "Huelva                                               1092.0   513170.0   \n",
       "Palos de la Frontera                                   22.0    11742.0   \n",
       "Gibraleón                                              23.0    12737.0   \n",
       "Trigueros                                              14.0     7862.0   \n",
       "Rosal de la Frontera                                    3.0     1697.0   \n",
       "Huelva (capital)                                      247.0   143837.0   \n",
       "Valverde del Camino                                    21.0    12750.0   \n",
       "Punta Umbría                                           24.0    15355.0   \n",
       "Cortegana                                               7.0     4602.0   \n",
       "Sierra de Huelva-Andévalo Central                     101.0    67391.0   \n",
       "Niebla                                                  6.0     4116.0   \n",
       "Aracena                                                12.0     8255.0   \n",
       "Huelva-Costa                                          407.0   289548.0   \n",
       "Minas de Riotinto                                       5.0     3812.0   \n",
       "Isla Cristina                                          27.0    21393.0   \n",
       "Palma del Condado (La)                                 13.0    10801.0   \n",
       "Ayamonte                                               21.0    21104.0   \n",
       "Aroche                                                  3.0     3054.0   \n",
       "Aljaraque                                              19.0    21474.0   \n",
       "Lepe                                                   18.0    27880.0   \n",
       "Manzanilla                                              1.0     2118.0   \n",
       "Escacena del Campo                                      1.0     2287.0   \n",
       "Alosno                                                  1.0     3933.0   \n",
       "Nerva                                                   1.0     5169.0   \n",
       "\n",
       "Medida                                  tasa7       tasa14  Diferencia PDIA  \n",
       "Lugar de residencia                                                          \n",
       "Lucena del Puerto                  521.312481  1287.948482              1.0  \n",
       "Cumbres Mayores                     57.175529  1086.335049              0.0  \n",
       "Cortelazor                         668.896321  1003.344482              0.0  \n",
       "Almonte                            277.471743   693.679357             23.0  \n",
       "Beas                                92.144667   529.831836              0.0  \n",
       "Bollullos Par del Condado          264.127337   521.303955             12.0  \n",
       "Cañaveral de León                  505.050505   505.050505              0.0  \n",
       "Rociana del Condado                214.132762   503.841794              3.0  \n",
       "Bonares                            198.019802   429.042904              1.0  \n",
       "Condado-Campiña                    147.217902   363.564209             60.0  \n",
       "Moguer                             150.912334   361.274981              9.0  \n",
       "San Juan del Puerto                116.884497   340.027627              3.0  \n",
       "Fuenteheridos                      282.087447   282.087447              0.0  \n",
       "Cartaya                             74.690036   234.028781              4.0  \n",
       "Almonaster la Real                 167.785235   223.713647              1.0  \n",
       "Huelva                              88.079973   212.794980            120.0  \n",
       "Palos de la Frontera                59.615057   187.361608              2.0  \n",
       "Gibraleón                           47.106854   180.576274              2.0  \n",
       "Trigueros                           63.597049   178.071737              0.0  \n",
       "Rosal de la Frontera               117.855038   176.782557              0.0  \n",
       "Huelva (capital)                    78.561149   171.722158             27.0  \n",
       "Valverde del Camino                 70.588235   164.705882              2.0  \n",
       "Punta Umbría                        65.125366   156.300879              1.0  \n",
       "Cortegana                           86.918731   152.107779              0.0  \n",
       "Sierra de Huelva-Andévalo Central   48.967963   149.871645              8.0  \n",
       "Niebla                              72.886297   145.772595              2.0  \n",
       "Aracena                             60.569352   145.366445              3.0  \n",
       "Huelva-Costa                        62.511224   140.563913             49.0  \n",
       "Minas de Riotinto                   26.232949   131.164743              1.0  \n",
       "Isla Cristina                       56.093115   126.209508              2.0  \n",
       "Palma del Condado (La)              64.808814   120.359226              1.0  \n",
       "Ayamonte                            66.338135    99.507202              3.0  \n",
       "Aroche                              32.743942    98.231827              0.0  \n",
       "Aljaraque                           41.911148    88.479091              8.0  \n",
       "Lepe                                25.107604    64.562410              4.0  \n",
       "Manzanilla                          47.214353    47.214353              NaN  \n",
       "Escacena del Campo                  43.725404    43.725404              0.0  \n",
       "Alosno                              25.425884    25.425884              0.0  \n",
       "Nerva                               19.346102    19.346102              NaN  "
      ],
      "text/html": "<div>\n<style scoped>\n    .dataframe tbody tr th:only-of-type {\n        vertical-align: middle;\n    }\n\n    .dataframe tbody tr th {\n        vertical-align: top;\n    }\n\n    .dataframe thead th {\n        text-align: right;\n    }\n</style>\n<table border=\"1\" class=\"dataframe\">\n  <thead>\n    <tr style=\"text-align: right;\">\n      <th>Medida</th>\n      <th>Confirmados PDIA</th>\n      <th>Confirmados PDIA 7 días</th>\n      <th>Confirmados PDIA 14 días</th>\n      <th>Población</th>\n      <th>tasa7</th>\n      <th>tasa14</th>\n      <th>Diferencia PDIA</th>\n    </tr>\n    <tr>\n      <th>Lugar de residencia</th>\n      <th></th>\n      <th></th>\n      <th></th>\n      <th></th>\n      <th></th>\n      <th></th>\n      <th></th>\n    </tr>\n  </thead>\n  <tbody>\n    <tr>\n      <th>Lucena del Puerto</th>\n      <td>232.0</td>\n      <td>17.0</td>\n      <td>42.0</td>\n      <td>3261.0</td>\n      <td>521.312481</td>\n      <td>1287.948482</td>\n      <td>1.0</td>\n    </tr>\n    <tr>\n      <th>Cumbres Mayores</th>\n      <td>49.0</td>\n      <td>1.0</td>\n      <td>19.0</td>\n      <td>1749.0</td>\n      <td>57.175529</td>\n      <td>1086.335049</td>\n      <td>0.0</td>\n    </tr>\n    <tr>\n      <th>Cortelazor</th>\n      <td>7.0</td>\n      <td>2.0</td>\n      <td>3.0</td>\n      <td>299.0</td>\n      <td>668.896321</td>\n      <td>1003.344482</td>\n      <td>0.0</td>\n    </tr>\n    <tr>\n      <th>Almonte</th>\n      <td>1521.0</td>\n      <td>68.0</td>\n      <td>170.0</td>\n      <td>24507.0</td>\n      <td>277.471743</td>\n      <td>693.679357</td>\n      <td>23.0</td>\n    </tr>\n    <tr>\n      <th>Beas</th>\n      <td>197.0</td>\n      <td>4.0</td>\n      <td>23.0</td>\n      <td>4341.0</td>\n      <td>92.144667</td>\n      <td>529.831836</td>\n      <td>0.0</td>\n    </tr>\n    <tr>\n      <th>Bollullos Par del Condado</th>\n      <td>821.0</td>\n      <td>38.0</td>\n      <td>75.0</td>\n      <td>14387.0</td>\n      <td>264.127337</td>\n      <td>521.303955</td>\n      <td>12.0</td>\n    </tr>\n    <tr>\n      <th>Cañaveral de León</th>\n      <td>5.0</td>\n      <td>2.0</td>\n      <td>2.0</td>\n      <td>396.0</td>\n      <td>505.050505</td>\n      <td>505.050505</td>\n      <td>0.0</td>\n    </tr>\n    <tr>\n      <th>Rociana del Condado</th>\n      <td>515.0</td>\n      <td>17.0</td>\n      <td>40.0</td>\n      <td>7939.0</td>\n      <td>214.132762</td>\n      <td>503.841794</td>\n      <td>3.0</td>\n    </tr>\n    <tr>\n      <th>Bonares</th>\n      <td>255.0</td>\n      <td>12.0</td>\n      <td>26.0</td>\n      <td>6060.0</td>\n      <td>198.019802</td>\n      <td>429.042904</td>\n      <td>1.0</td>\n    </tr>\n    <tr>\n      <th>Condado-Campiña</th>\n      <td>9016.0</td>\n      <td>230.0</td>\n      <td>568.0</td>\n      <td>156231.0</td>\n      <td>147.217902</td>\n      <td>363.564209</td>\n      <td>60.0</td>\n    </tr>\n    <tr>\n      <th>Moguer</th>\n      <td>1105.0</td>\n      <td>33.0</td>\n      <td>79.0</td>\n      <td>21867.0</td>\n      <td>150.912334</td>\n      <td>361.274981</td>\n      <td>9.0</td>\n    </tr>\n    <tr>\n      <th>San Juan del Puerto</th>\n      <td>450.0</td>\n      <td>11.0</td>\n      <td>32.0</td>\n      <td>9411.0</td>\n      <td>116.884497</td>\n      <td>340.027627</td>\n      <td>3.0</td>\n    </tr>\n    <tr>\n      <th>Fuenteheridos</th>\n      <td>8.0</td>\n      <td>2.0</td>\n      <td>2.0</td>\n      <td>709.0</td>\n      <td>282.087447</td>\n      <td>282.087447</td>\n      <td>0.0</td>\n    </tr>\n    <tr>\n      <th>Cartaya</th>\n      <td>1269.0</td>\n      <td>15.0</td>\n      <td>47.0</td>\n      <td>20083.0</td>\n      <td>74.690036</td>\n      <td>234.028781</td>\n      <td>4.0</td>\n    </tr>\n    <tr>\n      <th>Almonaster la Real</th>\n      <td>66.0</td>\n      <td>3.0</td>\n      <td>4.0</td>\n      <td>1788.0</td>\n      <td>167.785235</td>\n      <td>223.713647</td>\n      <td>1.0</td>\n    </tr>\n    <tr>\n      <th>Huelva</th>\n      <td>28602.0</td>\n      <td>452.0</td>\n      <td>1092.0</td>\n      <td>513170.0</td>\n      <td>88.079973</td>\n      <td>212.794980</td>\n      <td>120.0</td>\n    </tr>\n    <tr>\n      <th>Palos de la Frontera</th>\n      <td>582.0</td>\n      <td>7.0</td>\n      <td>22.0</td>\n      <td>11742.0</td>\n      <td>59.615057</td>\n      <td>187.361608</td>\n      <td>2.0</td>\n    </tr>\n    <tr>\n      <th>Gibraleón</th>\n      <td>587.0</td>\n      <td>6.0</td>\n      <td>23.0</td>\n      <td>12737.0</td>\n      <td>47.106854</td>\n      <td>180.576274</td>\n      <td>2.0</td>\n    </tr>\n    <tr>\n      <th>Trigueros</th>\n      <td>267.0</td>\n      <td>5.0</td>\n      <td>14.0</td>\n      <td>7862.0</td>\n      <td>63.597049</td>\n      <td>178.071737</td>\n      <td>0.0</td>\n    </tr>\n    <tr>\n      <th>Rosal de la Frontera</th>\n      <td>28.0</td>\n      <td>2.0</td>\n      <td>3.0</td>\n      <td>1697.0</td>\n      <td>117.855038</td>\n      <td>176.782557</td>\n      <td>0.0</td>\n    </tr>\n    <tr>\n      <th>Huelva (capital)</th>\n      <td>7414.0</td>\n      <td>113.0</td>\n      <td>247.0</td>\n      <td>143837.0</td>\n      <td>78.561149</td>\n      <td>171.722158</td>\n      <td>27.0</td>\n    </tr>\n    <tr>\n      <th>Valverde del Camino</th>\n      <td>475.0</td>\n      <td>9.0</td>\n      <td>21.0</td>\n      <td>12750.0</td>\n      <td>70.588235</td>\n      <td>164.705882</td>\n      <td>2.0</td>\n    </tr>\n    <tr>\n      <th>Punta Umbría</th>\n      <td>712.0</td>\n      <td>10.0</td>\n      <td>24.0</td>\n      <td>15355.0</td>\n      <td>65.125366</td>\n      <td>156.300879</td>\n      <td>1.0</td>\n    </tr>\n    <tr>\n      <th>Cortegana</th>\n      <td>199.0</td>\n      <td>4.0</td>\n      <td>7.0</td>\n      <td>4602.0</td>\n      <td>86.918731</td>\n      <td>152.107779</td>\n      <td>0.0</td>\n    </tr>\n    <tr>\n      <th>Sierra de Huelva-Andévalo Central</th>\n      <td>2547.0</td>\n      <td>33.0</td>\n      <td>101.0</td>\n      <td>67391.0</td>\n      <td>48.967963</td>\n      <td>149.871645</td>\n      <td>8.0</td>\n    </tr>\n    <tr>\n      <th>Niebla</th>\n      <td>195.0</td>\n      <td>3.0</td>\n      <td>6.0</td>\n      <td>4116.0</td>\n      <td>72.886297</td>\n      <td>145.772595</td>\n      <td>2.0</td>\n    </tr>\n    <tr>\n      <th>Aracena</th>\n      <td>511.0</td>\n      <td>5.0</td>\n      <td>12.0</td>\n      <td>8255.0</td>\n      <td>60.569352</td>\n      <td>145.366445</td>\n      <td>3.0</td>\n    </tr>\n    <tr>\n      <th>Huelva-Costa</th>\n      <td>16664.0</td>\n      <td>181.0</td>\n      <td>407.0</td>\n      <td>289548.0</td>\n      <td>62.511224</td>\n      <td>140.563913</td>\n      <td>49.0</td>\n    </tr>\n    <tr>\n      <th>Minas de Riotinto</th>\n      <td>112.0</td>\n      <td>1.0</td>\n      <td>5.0</td>\n      <td>3812.0</td>\n      <td>26.232949</td>\n      <td>131.164743</td>\n      <td>1.0</td>\n    </tr>\n    <tr>\n      <th>Isla Cristina</th>\n      <td>2060.0</td>\n      <td>12.0</td>\n      <td>27.0</td>\n      <td>21393.0</td>\n      <td>56.093115</td>\n      <td>126.209508</td>\n      <td>2.0</td>\n    </tr>\n    <tr>\n      <th>Palma del Condado (La)</th>\n      <td>1036.0</td>\n      <td>7.0</td>\n      <td>13.0</td>\n      <td>10801.0</td>\n      <td>64.808814</td>\n      <td>120.359226</td>\n      <td>1.0</td>\n    </tr>\n    <tr>\n      <th>Ayamonte</th>\n      <td>1284.0</td>\n      <td>14.0</td>\n      <td>21.0</td>\n      <td>21104.0</td>\n      <td>66.338135</td>\n      <td>99.507202</td>\n      <td>3.0</td>\n    </tr>\n    <tr>\n      <th>Aroche</th>\n      <td>90.0</td>\n      <td>1.0</td>\n      <td>3.0</td>\n      <td>3054.0</td>\n      <td>32.743942</td>\n      <td>98.231827</td>\n      <td>0.0</td>\n    </tr>\n    <tr>\n      <th>Aljaraque</th>\n      <td>1001.0</td>\n      <td>9.0</td>\n      <td>19.0</td>\n      <td>21474.0</td>\n      <td>41.911148</td>\n      <td>88.479091</td>\n      <td>8.0</td>\n    </tr>\n    <tr>\n      <th>Lepe</th>\n      <td>2082.0</td>\n      <td>7.0</td>\n      <td>18.0</td>\n      <td>27880.0</td>\n      <td>25.107604</td>\n      <td>64.562410</td>\n      <td>4.0</td>\n    </tr>\n    <tr>\n      <th>Manzanilla</th>\n      <td>85.0</td>\n      <td>1.0</td>\n      <td>1.0</td>\n      <td>2118.0</td>\n      <td>47.214353</td>\n      <td>47.214353</td>\n      <td>NaN</td>\n    </tr>\n    <tr>\n      <th>Escacena del Campo</th>\n      <td>144.0</td>\n      <td>1.0</td>\n      <td>1.0</td>\n      <td>2287.0</td>\n      <td>43.725404</td>\n      <td>43.725404</td>\n      <td>0.0</td>\n    </tr>\n    <tr>\n      <th>Alosno</th>\n      <td>162.0</td>\n      <td>1.0</td>\n      <td>1.0</td>\n      <td>3933.0</td>\n      <td>25.425884</td>\n      <td>25.425884</td>\n      <td>0.0</td>\n    </tr>\n    <tr>\n      <th>Nerva</th>\n      <td>154.0</td>\n      <td>1.0</td>\n      <td>1.0</td>\n      <td>5169.0</td>\n      <td>19.346102</td>\n      <td>19.346102</td>\n      <td>NaN</td>\n    </tr>\n  </tbody>\n</table>\n</div>"
     },
     "metadata": {},
     "execution_count": 17
    }
   ],
   "source": [
    "tabla.sort_values('tasa14', ascending=False)"
   ]
  },
  {
   "cell_type": "code",
   "execution_count": 18,
   "metadata": {},
   "outputs": [
    {
     "output_type": "execute_result",
     "data": {
      "text/plain": [
       "Medida                             Confirmados PDIA  Confirmados PDIA 7 días  \\\n",
       "Lugar de residencia                                                            \n",
       "Cumbres Mayores                                49.0                      1.0   \n",
       "Beas                                          197.0                      4.0   \n",
       "Minas de Riotinto                             112.0                      1.0   \n",
       "Gibraleón                                     587.0                      6.0   \n",
       "Palos de la Frontera                          582.0                      7.0   \n",
       "Cartaya                                      1269.0                     15.0   \n",
       "Sierra de Huelva-Andévalo Central            2547.0                     33.0   \n",
       "Aroche                                         90.0                      1.0   \n",
       "San Juan del Puerto                           450.0                     11.0   \n",
       "Trigueros                                     267.0                      5.0   \n",
       "Lepe                                         2082.0                      7.0   \n",
       "Almonte                                      1521.0                     68.0   \n",
       "Lucena del Puerto                             232.0                     17.0   \n",
       "Condado-Campiña                              9016.0                    230.0   \n",
       "Huelva                                      28602.0                    452.0   \n",
       "Aracena                                       511.0                      5.0   \n",
       "Punta Umbría                                  712.0                     10.0   \n",
       "Moguer                                       1105.0                     33.0   \n",
       "Rociana del Condado                           515.0                     17.0   \n",
       "Valverde del Camino                           475.0                      9.0   \n",
       "Isla Cristina                                2060.0                     12.0   \n",
       "Huelva-Costa                                16664.0                    181.0   \n",
       "Huelva (capital)                             7414.0                    113.0   \n",
       "Bonares                                       255.0                     12.0   \n",
       "Aljaraque                                    1001.0                      9.0   \n",
       "Niebla                                        195.0                      3.0   \n",
       "Bollullos Par del Condado                     821.0                     38.0   \n",
       "Palma del Condado (La)                       1036.0                      7.0   \n",
       "Cortegana                                     199.0                      4.0   \n",
       "Ayamonte                                     1284.0                     14.0   \n",
       "Cortelazor                                      7.0                      2.0   \n",
       "Rosal de la Frontera                           28.0                      2.0   \n",
       "Almonaster la Real                             66.0                      3.0   \n",
       "Manzanilla                                     85.0                      1.0   \n",
       "Cañaveral de León                               5.0                      2.0   \n",
       "Nerva                                         154.0                      1.0   \n",
       "Fuenteheridos                                   8.0                      2.0   \n",
       "Escacena del Campo                            144.0                      1.0   \n",
       "Alosno                                        162.0                      1.0   \n",
       "\n",
       "Medida                             Confirmados PDIA 14 días  Población  \\\n",
       "Lugar de residencia                                                      \n",
       "Cumbres Mayores                                        19.0     1749.0   \n",
       "Beas                                                   23.0     4341.0   \n",
       "Minas de Riotinto                                       5.0     3812.0   \n",
       "Gibraleón                                              23.0    12737.0   \n",
       "Palos de la Frontera                                   22.0    11742.0   \n",
       "Cartaya                                                47.0    20083.0   \n",
       "Sierra de Huelva-Andévalo Central                     101.0    67391.0   \n",
       "Aroche                                                  3.0     3054.0   \n",
       "San Juan del Puerto                                    32.0     9411.0   \n",
       "Trigueros                                              14.0     7862.0   \n",
       "Lepe                                                   18.0    27880.0   \n",
       "Almonte                                               170.0    24507.0   \n",
       "Lucena del Puerto                                      42.0     3261.0   \n",
       "Condado-Campiña                                       568.0   156231.0   \n",
       "Huelva                                               1092.0   513170.0   \n",
       "Aracena                                                12.0     8255.0   \n",
       "Punta Umbría                                           24.0    15355.0   \n",
       "Moguer                                                 79.0    21867.0   \n",
       "Rociana del Condado                                    40.0     7939.0   \n",
       "Valverde del Camino                                    21.0    12750.0   \n",
       "Isla Cristina                                          27.0    21393.0   \n",
       "Huelva-Costa                                          407.0   289548.0   \n",
       "Huelva (capital)                                      247.0   143837.0   \n",
       "Bonares                                                26.0     6060.0   \n",
       "Aljaraque                                              19.0    21474.0   \n",
       "Niebla                                                  6.0     4116.0   \n",
       "Bollullos Par del Condado                              75.0    14387.0   \n",
       "Palma del Condado (La)                                 13.0    10801.0   \n",
       "Cortegana                                               7.0     4602.0   \n",
       "Ayamonte                                               21.0    21104.0   \n",
       "Cortelazor                                              3.0      299.0   \n",
       "Rosal de la Frontera                                    3.0     1697.0   \n",
       "Almonaster la Real                                      4.0     1788.0   \n",
       "Manzanilla                                              1.0     2118.0   \n",
       "Cañaveral de León                                       2.0      396.0   \n",
       "Nerva                                                   1.0     5169.0   \n",
       "Fuenteheridos                                           2.0      709.0   \n",
       "Escacena del Campo                                      1.0     2287.0   \n",
       "Alosno                                                  1.0     3933.0   \n",
       "\n",
       "Medida                                  tasa7       tasa14  Diferencia PDIA  \\\n",
       "Lugar de residencia                                                           \n",
       "Cumbres Mayores                     57.175529  1086.335049              0.0   \n",
       "Beas                                92.144667   529.831836              0.0   \n",
       "Minas de Riotinto                   26.232949   131.164743              1.0   \n",
       "Gibraleón                           47.106854   180.576274              2.0   \n",
       "Palos de la Frontera                59.615057   187.361608              2.0   \n",
       "Cartaya                             74.690036   234.028781              4.0   \n",
       "Sierra de Huelva-Andévalo Central   48.967963   149.871645              8.0   \n",
       "Aroche                              32.743942    98.231827              0.0   \n",
       "San Juan del Puerto                116.884497   340.027627              3.0   \n",
       "Trigueros                           63.597049   178.071737              0.0   \n",
       "Lepe                                25.107604    64.562410              4.0   \n",
       "Almonte                            277.471743   693.679357             23.0   \n",
       "Lucena del Puerto                  521.312481  1287.948482              1.0   \n",
       "Condado-Campiña                    147.217902   363.564209             60.0   \n",
       "Huelva                              88.079973   212.794980            120.0   \n",
       "Aracena                             60.569352   145.366445              3.0   \n",
       "Punta Umbría                        65.125366   156.300879              1.0   \n",
       "Moguer                             150.912334   361.274981              9.0   \n",
       "Rociana del Condado                214.132762   503.841794              3.0   \n",
       "Valverde del Camino                 70.588235   164.705882              2.0   \n",
       "Isla Cristina                       56.093115   126.209508              2.0   \n",
       "Huelva-Costa                        62.511224   140.563913             49.0   \n",
       "Huelva (capital)                    78.561149   171.722158             27.0   \n",
       "Bonares                            198.019802   429.042904              1.0   \n",
       "Aljaraque                           41.911148    88.479091              8.0   \n",
       "Niebla                              72.886297   145.772595              2.0   \n",
       "Bollullos Par del Condado          264.127337   521.303955             12.0   \n",
       "Palma del Condado (La)              64.808814   120.359226              1.0   \n",
       "Cortegana                           86.918731   152.107779              0.0   \n",
       "Ayamonte                            66.338135    99.507202              3.0   \n",
       "Cortelazor                         668.896321  1003.344482              0.0   \n",
       "Rosal de la Frontera               117.855038   176.782557              0.0   \n",
       "Almonaster la Real                 167.785235   223.713647              1.0   \n",
       "Manzanilla                          47.214353    47.214353              0.0   \n",
       "Cañaveral de León                  505.050505   505.050505              0.0   \n",
       "Nerva                               19.346102    19.346102              0.0   \n",
       "Fuenteheridos                      282.087447   282.087447              0.0   \n",
       "Escacena del Campo                  43.725404    43.725404              0.0   \n",
       "Alosno                              25.425884    25.425884              0.0   \n",
       "\n",
       "Medida                                 7/14  \n",
       "Lugar de residencia                          \n",
       "Cumbres Mayores                    0.052632  \n",
       "Beas                               0.173913  \n",
       "Minas de Riotinto                  0.200000  \n",
       "Gibraleón                          0.260870  \n",
       "Palos de la Frontera               0.318182  \n",
       "Cartaya                            0.319149  \n",
       "Sierra de Huelva-Andévalo Central  0.326733  \n",
       "Aroche                             0.333333  \n",
       "San Juan del Puerto                0.343750  \n",
       "Trigueros                          0.357143  \n",
       "Lepe                               0.388889  \n",
       "Almonte                            0.400000  \n",
       "Lucena del Puerto                  0.404762  \n",
       "Condado-Campiña                    0.404930  \n",
       "Huelva                             0.413919  \n",
       "Aracena                            0.416667  \n",
       "Punta Umbría                       0.416667  \n",
       "Moguer                             0.417722  \n",
       "Rociana del Condado                0.425000  \n",
       "Valverde del Camino                0.428571  \n",
       "Isla Cristina                      0.444444  \n",
       "Huelva-Costa                       0.444717  \n",
       "Huelva (capital)                   0.457490  \n",
       "Bonares                            0.461538  \n",
       "Aljaraque                          0.473684  \n",
       "Niebla                             0.500000  \n",
       "Bollullos Par del Condado          0.506667  \n",
       "Palma del Condado (La)             0.538462  \n",
       "Cortegana                          0.571429  \n",
       "Ayamonte                           0.666667  \n",
       "Cortelazor                         0.666667  \n",
       "Rosal de la Frontera               0.666667  \n",
       "Almonaster la Real                 0.750000  \n",
       "Manzanilla                         1.000000  \n",
       "Cañaveral de León                  1.000000  \n",
       "Nerva                              1.000000  \n",
       "Fuenteheridos                      1.000000  \n",
       "Escacena del Campo                 1.000000  \n",
       "Alosno                             1.000000  "
      ],
      "text/html": "<div>\n<style scoped>\n    .dataframe tbody tr th:only-of-type {\n        vertical-align: middle;\n    }\n\n    .dataframe tbody tr th {\n        vertical-align: top;\n    }\n\n    .dataframe thead th {\n        text-align: right;\n    }\n</style>\n<table border=\"1\" class=\"dataframe\">\n  <thead>\n    <tr style=\"text-align: right;\">\n      <th>Medida</th>\n      <th>Confirmados PDIA</th>\n      <th>Confirmados PDIA 7 días</th>\n      <th>Confirmados PDIA 14 días</th>\n      <th>Población</th>\n      <th>tasa7</th>\n      <th>tasa14</th>\n      <th>Diferencia PDIA</th>\n      <th>7/14</th>\n    </tr>\n    <tr>\n      <th>Lugar de residencia</th>\n      <th></th>\n      <th></th>\n      <th></th>\n      <th></th>\n      <th></th>\n      <th></th>\n      <th></th>\n      <th></th>\n    </tr>\n  </thead>\n  <tbody>\n    <tr>\n      <th>Cumbres Mayores</th>\n      <td>49.0</td>\n      <td>1.0</td>\n      <td>19.0</td>\n      <td>1749.0</td>\n      <td>57.175529</td>\n      <td>1086.335049</td>\n      <td>0.0</td>\n      <td>0.052632</td>\n    </tr>\n    <tr>\n      <th>Beas</th>\n      <td>197.0</td>\n      <td>4.0</td>\n      <td>23.0</td>\n      <td>4341.0</td>\n      <td>92.144667</td>\n      <td>529.831836</td>\n      <td>0.0</td>\n      <td>0.173913</td>\n    </tr>\n    <tr>\n      <th>Minas de Riotinto</th>\n      <td>112.0</td>\n      <td>1.0</td>\n      <td>5.0</td>\n      <td>3812.0</td>\n      <td>26.232949</td>\n      <td>131.164743</td>\n      <td>1.0</td>\n      <td>0.200000</td>\n    </tr>\n    <tr>\n      <th>Gibraleón</th>\n      <td>587.0</td>\n      <td>6.0</td>\n      <td>23.0</td>\n      <td>12737.0</td>\n      <td>47.106854</td>\n      <td>180.576274</td>\n      <td>2.0</td>\n      <td>0.260870</td>\n    </tr>\n    <tr>\n      <th>Palos de la Frontera</th>\n      <td>582.0</td>\n      <td>7.0</td>\n      <td>22.0</td>\n      <td>11742.0</td>\n      <td>59.615057</td>\n      <td>187.361608</td>\n      <td>2.0</td>\n      <td>0.318182</td>\n    </tr>\n    <tr>\n      <th>Cartaya</th>\n      <td>1269.0</td>\n      <td>15.0</td>\n      <td>47.0</td>\n      <td>20083.0</td>\n      <td>74.690036</td>\n      <td>234.028781</td>\n      <td>4.0</td>\n      <td>0.319149</td>\n    </tr>\n    <tr>\n      <th>Sierra de Huelva-Andévalo Central</th>\n      <td>2547.0</td>\n      <td>33.0</td>\n      <td>101.0</td>\n      <td>67391.0</td>\n      <td>48.967963</td>\n      <td>149.871645</td>\n      <td>8.0</td>\n      <td>0.326733</td>\n    </tr>\n    <tr>\n      <th>Aroche</th>\n      <td>90.0</td>\n      <td>1.0</td>\n      <td>3.0</td>\n      <td>3054.0</td>\n      <td>32.743942</td>\n      <td>98.231827</td>\n      <td>0.0</td>\n      <td>0.333333</td>\n    </tr>\n    <tr>\n      <th>San Juan del Puerto</th>\n      <td>450.0</td>\n      <td>11.0</td>\n      <td>32.0</td>\n      <td>9411.0</td>\n      <td>116.884497</td>\n      <td>340.027627</td>\n      <td>3.0</td>\n      <td>0.343750</td>\n    </tr>\n    <tr>\n      <th>Trigueros</th>\n      <td>267.0</td>\n      <td>5.0</td>\n      <td>14.0</td>\n      <td>7862.0</td>\n      <td>63.597049</td>\n      <td>178.071737</td>\n      <td>0.0</td>\n      <td>0.357143</td>\n    </tr>\n    <tr>\n      <th>Lepe</th>\n      <td>2082.0</td>\n      <td>7.0</td>\n      <td>18.0</td>\n      <td>27880.0</td>\n      <td>25.107604</td>\n      <td>64.562410</td>\n      <td>4.0</td>\n      <td>0.388889</td>\n    </tr>\n    <tr>\n      <th>Almonte</th>\n      <td>1521.0</td>\n      <td>68.0</td>\n      <td>170.0</td>\n      <td>24507.0</td>\n      <td>277.471743</td>\n      <td>693.679357</td>\n      <td>23.0</td>\n      <td>0.400000</td>\n    </tr>\n    <tr>\n      <th>Lucena del Puerto</th>\n      <td>232.0</td>\n      <td>17.0</td>\n      <td>42.0</td>\n      <td>3261.0</td>\n      <td>521.312481</td>\n      <td>1287.948482</td>\n      <td>1.0</td>\n      <td>0.404762</td>\n    </tr>\n    <tr>\n      <th>Condado-Campiña</th>\n      <td>9016.0</td>\n      <td>230.0</td>\n      <td>568.0</td>\n      <td>156231.0</td>\n      <td>147.217902</td>\n      <td>363.564209</td>\n      <td>60.0</td>\n      <td>0.404930</td>\n    </tr>\n    <tr>\n      <th>Huelva</th>\n      <td>28602.0</td>\n      <td>452.0</td>\n      <td>1092.0</td>\n      <td>513170.0</td>\n      <td>88.079973</td>\n      <td>212.794980</td>\n      <td>120.0</td>\n      <td>0.413919</td>\n    </tr>\n    <tr>\n      <th>Aracena</th>\n      <td>511.0</td>\n      <td>5.0</td>\n      <td>12.0</td>\n      <td>8255.0</td>\n      <td>60.569352</td>\n      <td>145.366445</td>\n      <td>3.0</td>\n      <td>0.416667</td>\n    </tr>\n    <tr>\n      <th>Punta Umbría</th>\n      <td>712.0</td>\n      <td>10.0</td>\n      <td>24.0</td>\n      <td>15355.0</td>\n      <td>65.125366</td>\n      <td>156.300879</td>\n      <td>1.0</td>\n      <td>0.416667</td>\n    </tr>\n    <tr>\n      <th>Moguer</th>\n      <td>1105.0</td>\n      <td>33.0</td>\n      <td>79.0</td>\n      <td>21867.0</td>\n      <td>150.912334</td>\n      <td>361.274981</td>\n      <td>9.0</td>\n      <td>0.417722</td>\n    </tr>\n    <tr>\n      <th>Rociana del Condado</th>\n      <td>515.0</td>\n      <td>17.0</td>\n      <td>40.0</td>\n      <td>7939.0</td>\n      <td>214.132762</td>\n      <td>503.841794</td>\n      <td>3.0</td>\n      <td>0.425000</td>\n    </tr>\n    <tr>\n      <th>Valverde del Camino</th>\n      <td>475.0</td>\n      <td>9.0</td>\n      <td>21.0</td>\n      <td>12750.0</td>\n      <td>70.588235</td>\n      <td>164.705882</td>\n      <td>2.0</td>\n      <td>0.428571</td>\n    </tr>\n    <tr>\n      <th>Isla Cristina</th>\n      <td>2060.0</td>\n      <td>12.0</td>\n      <td>27.0</td>\n      <td>21393.0</td>\n      <td>56.093115</td>\n      <td>126.209508</td>\n      <td>2.0</td>\n      <td>0.444444</td>\n    </tr>\n    <tr>\n      <th>Huelva-Costa</th>\n      <td>16664.0</td>\n      <td>181.0</td>\n      <td>407.0</td>\n      <td>289548.0</td>\n      <td>62.511224</td>\n      <td>140.563913</td>\n      <td>49.0</td>\n      <td>0.444717</td>\n    </tr>\n    <tr>\n      <th>Huelva (capital)</th>\n      <td>7414.0</td>\n      <td>113.0</td>\n      <td>247.0</td>\n      <td>143837.0</td>\n      <td>78.561149</td>\n      <td>171.722158</td>\n      <td>27.0</td>\n      <td>0.457490</td>\n    </tr>\n    <tr>\n      <th>Bonares</th>\n      <td>255.0</td>\n      <td>12.0</td>\n      <td>26.0</td>\n      <td>6060.0</td>\n      <td>198.019802</td>\n      <td>429.042904</td>\n      <td>1.0</td>\n      <td>0.461538</td>\n    </tr>\n    <tr>\n      <th>Aljaraque</th>\n      <td>1001.0</td>\n      <td>9.0</td>\n      <td>19.0</td>\n      <td>21474.0</td>\n      <td>41.911148</td>\n      <td>88.479091</td>\n      <td>8.0</td>\n      <td>0.473684</td>\n    </tr>\n    <tr>\n      <th>Niebla</th>\n      <td>195.0</td>\n      <td>3.0</td>\n      <td>6.0</td>\n      <td>4116.0</td>\n      <td>72.886297</td>\n      <td>145.772595</td>\n      <td>2.0</td>\n      <td>0.500000</td>\n    </tr>\n    <tr>\n      <th>Bollullos Par del Condado</th>\n      <td>821.0</td>\n      <td>38.0</td>\n      <td>75.0</td>\n      <td>14387.0</td>\n      <td>264.127337</td>\n      <td>521.303955</td>\n      <td>12.0</td>\n      <td>0.506667</td>\n    </tr>\n    <tr>\n      <th>Palma del Condado (La)</th>\n      <td>1036.0</td>\n      <td>7.0</td>\n      <td>13.0</td>\n      <td>10801.0</td>\n      <td>64.808814</td>\n      <td>120.359226</td>\n      <td>1.0</td>\n      <td>0.538462</td>\n    </tr>\n    <tr>\n      <th>Cortegana</th>\n      <td>199.0</td>\n      <td>4.0</td>\n      <td>7.0</td>\n      <td>4602.0</td>\n      <td>86.918731</td>\n      <td>152.107779</td>\n      <td>0.0</td>\n      <td>0.571429</td>\n    </tr>\n    <tr>\n      <th>Ayamonte</th>\n      <td>1284.0</td>\n      <td>14.0</td>\n      <td>21.0</td>\n      <td>21104.0</td>\n      <td>66.338135</td>\n      <td>99.507202</td>\n      <td>3.0</td>\n      <td>0.666667</td>\n    </tr>\n    <tr>\n      <th>Cortelazor</th>\n      <td>7.0</td>\n      <td>2.0</td>\n      <td>3.0</td>\n      <td>299.0</td>\n      <td>668.896321</td>\n      <td>1003.344482</td>\n      <td>0.0</td>\n      <td>0.666667</td>\n    </tr>\n    <tr>\n      <th>Rosal de la Frontera</th>\n      <td>28.0</td>\n      <td>2.0</td>\n      <td>3.0</td>\n      <td>1697.0</td>\n      <td>117.855038</td>\n      <td>176.782557</td>\n      <td>0.0</td>\n      <td>0.666667</td>\n    </tr>\n    <tr>\n      <th>Almonaster la Real</th>\n      <td>66.0</td>\n      <td>3.0</td>\n      <td>4.0</td>\n      <td>1788.0</td>\n      <td>167.785235</td>\n      <td>223.713647</td>\n      <td>1.0</td>\n      <td>0.750000</td>\n    </tr>\n    <tr>\n      <th>Manzanilla</th>\n      <td>85.0</td>\n      <td>1.0</td>\n      <td>1.0</td>\n      <td>2118.0</td>\n      <td>47.214353</td>\n      <td>47.214353</td>\n      <td>0.0</td>\n      <td>1.000000</td>\n    </tr>\n    <tr>\n      <th>Cañaveral de León</th>\n      <td>5.0</td>\n      <td>2.0</td>\n      <td>2.0</td>\n      <td>396.0</td>\n      <td>505.050505</td>\n      <td>505.050505</td>\n      <td>0.0</td>\n      <td>1.000000</td>\n    </tr>\n    <tr>\n      <th>Nerva</th>\n      <td>154.0</td>\n      <td>1.0</td>\n      <td>1.0</td>\n      <td>5169.0</td>\n      <td>19.346102</td>\n      <td>19.346102</td>\n      <td>0.0</td>\n      <td>1.000000</td>\n    </tr>\n    <tr>\n      <th>Fuenteheridos</th>\n      <td>8.0</td>\n      <td>2.0</td>\n      <td>2.0</td>\n      <td>709.0</td>\n      <td>282.087447</td>\n      <td>282.087447</td>\n      <td>0.0</td>\n      <td>1.000000</td>\n    </tr>\n    <tr>\n      <th>Escacena del Campo</th>\n      <td>144.0</td>\n      <td>1.0</td>\n      <td>1.0</td>\n      <td>2287.0</td>\n      <td>43.725404</td>\n      <td>43.725404</td>\n      <td>0.0</td>\n      <td>1.000000</td>\n    </tr>\n    <tr>\n      <th>Alosno</th>\n      <td>162.0</td>\n      <td>1.0</td>\n      <td>1.0</td>\n      <td>3933.0</td>\n      <td>25.425884</td>\n      <td>25.425884</td>\n      <td>0.0</td>\n      <td>1.000000</td>\n    </tr>\n  </tbody>\n</table>\n</div>"
     },
     "metadata": {},
     "execution_count": 18
    }
   ],
   "source": [
    "# Peso de la tasa de la última semana en relación con la tasa a 14 días \n",
    "# Mejor cuanto menor. Valor 1 significa que no había casos antes de 7 días.\n",
    "tabla['7/14'] = tabla['tasa7'] / tabla['tasa14']\n",
    "tabla.fillna(0).sort_values('7/14', ascending=True)"
   ]
  },
  {
   "cell_type": "code",
   "execution_count": null,
   "metadata": {},
   "outputs": [],
   "source": []
  }
 ]
}