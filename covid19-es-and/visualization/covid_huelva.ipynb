{
 "metadata": {
  "language_info": {
   "codemirror_mode": {
    "name": "ipython",
    "version": 3
   },
   "file_extension": ".py",
   "mimetype": "text/x-python",
   "name": "python",
   "nbconvert_exporter": "python",
   "pygments_lexer": "ipython3",
   "version": "3.6.9-final"
  },
  "orig_nbformat": 2,
  "kernelspec": {
   "name": "Python 3.6.9 64-bit",
   "display_name": "Python 3.6.9 64-bit",
   "metadata": {
    "interpreter": {
     "hash": "31f2aee4e71d21fbe5cf8b01ff0e069b9275f58929596ceb00d14d90e3e16cd6"
    }
   }
  }
 },
 "nbformat": 4,
 "nbformat_minor": 2,
 "cells": [
  {
   "cell_type": "code",
   "execution_count": 1,
   "metadata": {},
   "outputs": [],
   "source": [
    "import pandas as pd"
   ]
  },
  {
   "cell_type": "code",
   "execution_count": 2,
   "metadata": {},
   "outputs": [],
   "source": [
    "# FIX SSL: CERTIFICATE_VERIFY_FAILED with Python3\n",
    "# https://stackoverflow.com/a/49174340\n",
    "import ssl\n",
    "\n",
    "ssl._create_default_https_context = ssl._create_unverified_context"
   ]
  },
  {
   "cell_type": "code",
   "execution_count": 3,
   "metadata": {},
   "outputs": [],
   "source": [
    "url = 'https://www.juntadeandalucia.es/institutodeestadisticaycartografia/badea/stpivot/stpivot/Print?cube=013d884c-cfc5-4c21-9e78-e26225682afd&type=3&foto=si&ejecutaDesde=&codConsulta=38668&consTipoVisua=JP'\n",
    "fields = ['Lugar de residencia', 'Medida', 'Valor']\n",
    "df = pd.read_csv(url, delimiter=';', usecols=fields, decimal=',')"
   ]
  },
  {
   "cell_type": "code",
   "execution_count": 4,
   "metadata": {},
   "outputs": [
    {
     "output_type": "execute_result",
     "data": {
      "text/plain": [
       "                     Lugar de residencia                    Medida  \\\n",
       "0                                 Huelva                 Población   \n",
       "1                                 Huelva          Confirmados PDIA   \n",
       "2                                 Huelva  Confirmados PDIA 14 días   \n",
       "3                                 Huelva         Tasa PDIA 14 días   \n",
       "4                                 Huelva   Confirmados PDIA 7 días   \n",
       "..                                   ...                       ...   \n",
       "627  Municipio de Huelva sin especificar         Tasa PDIA 14 días   \n",
       "628  Municipio de Huelva sin especificar   Confirmados PDIA 7 días   \n",
       "629  Municipio de Huelva sin especificar        Total Confirmados    \n",
       "630  Municipio de Huelva sin especificar                   Curados   \n",
       "631  Municipio de Huelva sin especificar                Fallecidos   \n",
       "\n",
       "                  Valor  \n",
       "0                510743  \n",
       "1                  1818  \n",
       "2                   537  \n",
       "3    105,14094172607358  \n",
       "4                   248  \n",
       "..                  ...  \n",
       "627                   -  \n",
       "628                   4  \n",
       "629                  27  \n",
       "630                   2  \n",
       "631                   1  \n",
       "\n",
       "[632 rows x 3 columns]"
      ],
      "text/html": "<div>\n<style scoped>\n    .dataframe tbody tr th:only-of-type {\n        vertical-align: middle;\n    }\n\n    .dataframe tbody tr th {\n        vertical-align: top;\n    }\n\n    .dataframe thead th {\n        text-align: right;\n    }\n</style>\n<table border=\"1\" class=\"dataframe\">\n  <thead>\n    <tr style=\"text-align: right;\">\n      <th></th>\n      <th>Lugar de residencia</th>\n      <th>Medida</th>\n      <th>Valor</th>\n    </tr>\n  </thead>\n  <tbody>\n    <tr>\n      <th>0</th>\n      <td>Huelva</td>\n      <td>Población</td>\n      <td>510743</td>\n    </tr>\n    <tr>\n      <th>1</th>\n      <td>Huelva</td>\n      <td>Confirmados PDIA</td>\n      <td>1818</td>\n    </tr>\n    <tr>\n      <th>2</th>\n      <td>Huelva</td>\n      <td>Confirmados PDIA 14 días</td>\n      <td>537</td>\n    </tr>\n    <tr>\n      <th>3</th>\n      <td>Huelva</td>\n      <td>Tasa PDIA 14 días</td>\n      <td>105,14094172607358</td>\n    </tr>\n    <tr>\n      <th>4</th>\n      <td>Huelva</td>\n      <td>Confirmados PDIA 7 días</td>\n      <td>248</td>\n    </tr>\n    <tr>\n      <th>...</th>\n      <td>...</td>\n      <td>...</td>\n      <td>...</td>\n    </tr>\n    <tr>\n      <th>627</th>\n      <td>Municipio de Huelva sin especificar</td>\n      <td>Tasa PDIA 14 días</td>\n      <td>-</td>\n    </tr>\n    <tr>\n      <th>628</th>\n      <td>Municipio de Huelva sin especificar</td>\n      <td>Confirmados PDIA 7 días</td>\n      <td>4</td>\n    </tr>\n    <tr>\n      <th>629</th>\n      <td>Municipio de Huelva sin especificar</td>\n      <td>Total Confirmados</td>\n      <td>27</td>\n    </tr>\n    <tr>\n      <th>630</th>\n      <td>Municipio de Huelva sin especificar</td>\n      <td>Curados</td>\n      <td>2</td>\n    </tr>\n    <tr>\n      <th>631</th>\n      <td>Municipio de Huelva sin especificar</td>\n      <td>Fallecidos</td>\n      <td>1</td>\n    </tr>\n  </tbody>\n</table>\n<p>632 rows × 3 columns</p>\n</div>"
     },
     "metadata": {},
     "execution_count": 4
    }
   ],
   "source": [
    "df"
   ]
  },
  {
   "cell_type": "code",
   "execution_count": 5,
   "metadata": {},
   "outputs": [],
   "source": [
    "df['Valor'] = pd.to_numeric(df['Valor'],errors='coerce')"
   ]
  },
  {
   "cell_type": "code",
   "execution_count": 6,
   "metadata": {},
   "outputs": [],
   "source": [
    "dfAnterior = pd.read_csv('covid_huelva.csv', index_col='Lugar de residencia')"
   ]
  },
  {
   "cell_type": "code",
   "execution_count": 7,
   "metadata": {
    "tags": []
   },
   "outputs": [
    {
     "output_type": "stream",
     "name": "stdout",
     "text": [
      "Confirmados PCR en la provincia de Huelva:  1818.0\n"
     ]
    }
   ],
   "source": [
    "# Confirmados PCR provincia Huelva\n",
    "p = df[df['Lugar de residencia'] == 'Huelva'][df['Medida'] == 'Confirmados PDIA']['Valor'].values[0]\n",
    "print('Confirmados PCR en la provincia de Huelva: ', p)"
   ]
  },
  {
   "cell_type": "code",
   "execution_count": 8,
   "metadata": {
    "tags": []
   },
   "outputs": [
    {
     "output_type": "stream",
     "name": "stdout",
     "text": [
      "Confirmados PCR en Huelva capital:  453.0\n"
     ]
    }
   ],
   "source": [
    "# Confirmados PCR Huelva capitalpd\n",
    "c = df[df['Lugar de residencia'] == 'Huelva (capital)'][df['Medida'] == 'Confirmados PDIA']['Valor'].values[0]\n",
    "print('Confirmados PCR en Huelva capital: ', c)"
   ]
  },
  {
   "cell_type": "code",
   "execution_count": 9,
   "metadata": {
    "tags": []
   },
   "outputs": [],
   "source": [
    "c7 = df[df['Lugar de residencia'] == 'Huelva (capital)'][df['Medida'] == 'Confirmados PDIA 7 días']['Valor'].values[0]\n",
    "c14 = df[df['Lugar de residencia'] == 'Huelva (capital)'][df['Medida'] == 'Confirmados PDIA 14 días']['Valor'].values[0]\n",
    "p = df[df['Lugar de residencia'] == 'Huelva (capital)'][df['Medida'] == 'Población']['Valor'].values[0]"
   ]
  },
  {
   "cell_type": "code",
   "execution_count": 10,
   "metadata": {
    "tags": []
   },
   "outputs": [
    {
     "output_type": "stream",
     "name": "stdout",
     "text": [
      "Huelva (capital)\n\nUn positivo PCR cada 1916 personas en los últimos 7 días \n\nUn positivo PCR cada 1228 personas en los últimos 14 días\n"
     ]
    }
   ],
   "source": [
    "print('Huelva (capital)\\n')\n",
    "#print('Confirmados PCR 7 días x 1,000 habitantes: ', f\"{c7/(p/1000):.5f}\")\n",
    "print('Un positivo PCR cada', f\"{p/c7:.0f}\", 'personas en los últimos 7 días', '\\n')\n",
    "#print('Confirmados PCR 14 días x 1,000 habitantes: ', f\"{c14/(p/1000):.5f}\")\n",
    "print('Un positivo PCR cada', f\"{p/c14:.0f}\", 'personas en los últimos 14 días')"
   ]
  },
  {
   "cell_type": "code",
   "execution_count": 11,
   "metadata": {},
   "outputs": [],
   "source": [
    "filtro = ((df['Medida'] == 'Confirmados PDIA')| (df['Medida'] == 'Confirmados PDIA 7 días') | (df['Medida'] == 'Población' ) | (df['Medida'] == 'Confirmados PDIA 14 días')) & (df['Valor'] > 0)\n",
    "tabla = pd.pivot_table(df.loc[filtro], values='Valor', index='Lugar de residencia', columns='Medida').dropna()"
   ]
  },
  {
   "cell_type": "code",
   "execution_count": 12,
   "metadata": {},
   "outputs": [],
   "source": [
    "# Reorder columns\n",
    "tabla = tabla[['Confirmados PDIA', 'Confirmados PDIA 7 días', 'Confirmados PDIA 14 días', 'Población']]"
   ]
  },
  {
   "cell_type": "code",
   "execution_count": 13,
   "metadata": {},
   "outputs": [],
   "source": [
    "tabla['tasa7'] = tabla['Confirmados PDIA 7 días']/tabla['Población']*100000\n",
    "tabla['tasa14'] = tabla['Confirmados PDIA 14 días']/tabla['Población']*100000"
   ]
  },
  {
   "cell_type": "code",
   "execution_count": 14,
   "metadata": {},
   "outputs": [],
   "source": [
    "tabla['Diferencia PDIA'] = tabla['Confirmados PDIA'] - dfAnterior['Confirmados PDIA']"
   ]
  },
  {
   "cell_type": "code",
   "execution_count": 15,
   "metadata": {},
   "outputs": [
    {
     "output_type": "execute_result",
     "data": {
      "text/plain": [
       "Medida                             Confirmados PDIA  Confirmados PDIA 7 días  \\\n",
       "Lugar de residencia                                                            \n",
       "Huelva                                       1818.0                    248.0   \n",
       "Huelva-Costa                                  919.0                    124.0   \n",
       "Huelva (capital)                              453.0                     75.0   \n",
       "Condado-Campiña                               632.0                     93.0   \n",
       "Sierra de Huelva-Andévalo Central             240.0                     27.0   \n",
       "San Juan del Puerto                            71.0                     34.0   \n",
       "Lepe                                          136.0                     20.0   \n",
       "Villarrasa                                     17.0                      7.0   \n",
       "Isla Cristina                                  73.0                      5.0   \n",
       "Jabugo                                         14.0                      9.0   \n",
       "Villablanca                                    10.0                      4.0   \n",
       "Villanueva de los Castillejos                  18.0                     11.0   \n",
       "Aljaraque                                      77.0                      5.0   \n",
       "Niebla                                          7.0                      2.0   \n",
       "Punta Umbría                                   38.0                      2.0   \n",
       "Moguer                                         51.0                      6.0   \n",
       "Minas de Riotinto                              19.0                      1.0   \n",
       "Aracena                                        54.0                      5.0   \n",
       "Gibraleón                                      33.0                      5.0   \n",
       "Cortegana                                      13.0                      3.0   \n",
       "Zalamea la Real                                25.0                      4.0   \n",
       "\n",
       "Medida                             Confirmados PDIA 14 días  Población  \\\n",
       "Lugar de residencia                                                      \n",
       "Huelva                                                537.0   510743.0   \n",
       "Huelva-Costa                                          229.0   288115.0   \n",
       "Huelva (capital)                                      117.0   143663.0   \n",
       "Condado-Campiña                                       238.0   155057.0   \n",
       "Sierra de Huelva-Andévalo Central                      65.0    67571.0   \n",
       "San Juan del Puerto                                    50.0     9300.0   \n",
       "Lepe                                                   51.0    27431.0   \n",
       "Villarrasa                                             13.0     2176.0   \n",
       "Isla Cristina                                          11.0    21264.0   \n",
       "Jabugo                                                 10.0     2250.0   \n",
       "Villablanca                                             8.0     2848.0   \n",
       "Villanueva de los Castillejos                          16.0     2820.0   \n",
       "Aljaraque                                               7.0    21260.0   \n",
       "Niebla                                                  5.0     4117.0   \n",
       "Punta Umbría                                            9.0    15242.0   \n",
       "Moguer                                                 14.0    22088.0   \n",
       "Minas de Riotinto                                       2.0     3848.0   \n",
       "Aracena                                                 7.0     8107.0   \n",
       "Gibraleón                                              17.0    12607.0   \n",
       "Cortegana                                               4.0     4666.0   \n",
       "Zalamea la Real                                         5.0     3068.0   \n",
       "\n",
       "Medida                                  tasa7      tasa14  Diferencia PDIA  \n",
       "Lugar de residencia                                                         \n",
       "Huelva                              48.556711  105.140942             49.0  \n",
       "Huelva-Costa                        43.038370   79.482151             36.0  \n",
       "Huelva (capital)                    52.205509   81.440594             21.0  \n",
       "Condado-Campiña                     59.977944  153.491942             11.0  \n",
       "Sierra de Huelva-Andévalo Central   39.957970   96.195113              7.0  \n",
       "San Juan del Puerto                365.591398  537.634409              5.0  \n",
       "Lepe                                72.910211  185.921038              4.0  \n",
       "Villarrasa                         321.691176  597.426471              3.0  \n",
       "Isla Cristina                       23.513920   51.730625              3.0  \n",
       "Jabugo                             400.000000  444.444444              3.0  \n",
       "Villablanca                        140.449438  280.898876              3.0  \n",
       "Villanueva de los Castillejos      390.070922  567.375887              2.0  \n",
       "Aljaraque                           23.518344   32.925682              2.0  \n",
       "Niebla                              48.579062  121.447656              1.0  \n",
       "Punta Umbría                        13.121638   59.047369              1.0  \n",
       "Moguer                              27.164071   63.382832              1.0  \n",
       "Minas de Riotinto                   25.987526   51.975052              1.0  \n",
       "Aracena                             61.675096   86.345134              1.0  \n",
       "Gibraleón                           39.660506  134.845721              1.0  \n",
       "Cortegana                           64.294899   85.726532              1.0  \n",
       "Zalamea la Real                    130.378096  162.972621              1.0  "
      ],
      "text/html": "<div>\n<style scoped>\n    .dataframe tbody tr th:only-of-type {\n        vertical-align: middle;\n    }\n\n    .dataframe tbody tr th {\n        vertical-align: top;\n    }\n\n    .dataframe thead th {\n        text-align: right;\n    }\n</style>\n<table border=\"1\" class=\"dataframe\">\n  <thead>\n    <tr style=\"text-align: right;\">\n      <th>Medida</th>\n      <th>Confirmados PDIA</th>\n      <th>Confirmados PDIA 7 días</th>\n      <th>Confirmados PDIA 14 días</th>\n      <th>Población</th>\n      <th>tasa7</th>\n      <th>tasa14</th>\n      <th>Diferencia PDIA</th>\n    </tr>\n    <tr>\n      <th>Lugar de residencia</th>\n      <th></th>\n      <th></th>\n      <th></th>\n      <th></th>\n      <th></th>\n      <th></th>\n      <th></th>\n    </tr>\n  </thead>\n  <tbody>\n    <tr>\n      <th>Huelva</th>\n      <td>1818.0</td>\n      <td>248.0</td>\n      <td>537.0</td>\n      <td>510743.0</td>\n      <td>48.556711</td>\n      <td>105.140942</td>\n      <td>49.0</td>\n    </tr>\n    <tr>\n      <th>Huelva-Costa</th>\n      <td>919.0</td>\n      <td>124.0</td>\n      <td>229.0</td>\n      <td>288115.0</td>\n      <td>43.038370</td>\n      <td>79.482151</td>\n      <td>36.0</td>\n    </tr>\n    <tr>\n      <th>Huelva (capital)</th>\n      <td>453.0</td>\n      <td>75.0</td>\n      <td>117.0</td>\n      <td>143663.0</td>\n      <td>52.205509</td>\n      <td>81.440594</td>\n      <td>21.0</td>\n    </tr>\n    <tr>\n      <th>Condado-Campiña</th>\n      <td>632.0</td>\n      <td>93.0</td>\n      <td>238.0</td>\n      <td>155057.0</td>\n      <td>59.977944</td>\n      <td>153.491942</td>\n      <td>11.0</td>\n    </tr>\n    <tr>\n      <th>Sierra de Huelva-Andévalo Central</th>\n      <td>240.0</td>\n      <td>27.0</td>\n      <td>65.0</td>\n      <td>67571.0</td>\n      <td>39.957970</td>\n      <td>96.195113</td>\n      <td>7.0</td>\n    </tr>\n    <tr>\n      <th>San Juan del Puerto</th>\n      <td>71.0</td>\n      <td>34.0</td>\n      <td>50.0</td>\n      <td>9300.0</td>\n      <td>365.591398</td>\n      <td>537.634409</td>\n      <td>5.0</td>\n    </tr>\n    <tr>\n      <th>Lepe</th>\n      <td>136.0</td>\n      <td>20.0</td>\n      <td>51.0</td>\n      <td>27431.0</td>\n      <td>72.910211</td>\n      <td>185.921038</td>\n      <td>4.0</td>\n    </tr>\n    <tr>\n      <th>Villarrasa</th>\n      <td>17.0</td>\n      <td>7.0</td>\n      <td>13.0</td>\n      <td>2176.0</td>\n      <td>321.691176</td>\n      <td>597.426471</td>\n      <td>3.0</td>\n    </tr>\n    <tr>\n      <th>Isla Cristina</th>\n      <td>73.0</td>\n      <td>5.0</td>\n      <td>11.0</td>\n      <td>21264.0</td>\n      <td>23.513920</td>\n      <td>51.730625</td>\n      <td>3.0</td>\n    </tr>\n    <tr>\n      <th>Jabugo</th>\n      <td>14.0</td>\n      <td>9.0</td>\n      <td>10.0</td>\n      <td>2250.0</td>\n      <td>400.000000</td>\n      <td>444.444444</td>\n      <td>3.0</td>\n    </tr>\n    <tr>\n      <th>Villablanca</th>\n      <td>10.0</td>\n      <td>4.0</td>\n      <td>8.0</td>\n      <td>2848.0</td>\n      <td>140.449438</td>\n      <td>280.898876</td>\n      <td>3.0</td>\n    </tr>\n    <tr>\n      <th>Villanueva de los Castillejos</th>\n      <td>18.0</td>\n      <td>11.0</td>\n      <td>16.0</td>\n      <td>2820.0</td>\n      <td>390.070922</td>\n      <td>567.375887</td>\n      <td>2.0</td>\n    </tr>\n    <tr>\n      <th>Aljaraque</th>\n      <td>77.0</td>\n      <td>5.0</td>\n      <td>7.0</td>\n      <td>21260.0</td>\n      <td>23.518344</td>\n      <td>32.925682</td>\n      <td>2.0</td>\n    </tr>\n    <tr>\n      <th>Niebla</th>\n      <td>7.0</td>\n      <td>2.0</td>\n      <td>5.0</td>\n      <td>4117.0</td>\n      <td>48.579062</td>\n      <td>121.447656</td>\n      <td>1.0</td>\n    </tr>\n    <tr>\n      <th>Punta Umbría</th>\n      <td>38.0</td>\n      <td>2.0</td>\n      <td>9.0</td>\n      <td>15242.0</td>\n      <td>13.121638</td>\n      <td>59.047369</td>\n      <td>1.0</td>\n    </tr>\n    <tr>\n      <th>Moguer</th>\n      <td>51.0</td>\n      <td>6.0</td>\n      <td>14.0</td>\n      <td>22088.0</td>\n      <td>27.164071</td>\n      <td>63.382832</td>\n      <td>1.0</td>\n    </tr>\n    <tr>\n      <th>Minas de Riotinto</th>\n      <td>19.0</td>\n      <td>1.0</td>\n      <td>2.0</td>\n      <td>3848.0</td>\n      <td>25.987526</td>\n      <td>51.975052</td>\n      <td>1.0</td>\n    </tr>\n    <tr>\n      <th>Aracena</th>\n      <td>54.0</td>\n      <td>5.0</td>\n      <td>7.0</td>\n      <td>8107.0</td>\n      <td>61.675096</td>\n      <td>86.345134</td>\n      <td>1.0</td>\n    </tr>\n    <tr>\n      <th>Gibraleón</th>\n      <td>33.0</td>\n      <td>5.0</td>\n      <td>17.0</td>\n      <td>12607.0</td>\n      <td>39.660506</td>\n      <td>134.845721</td>\n      <td>1.0</td>\n    </tr>\n    <tr>\n      <th>Cortegana</th>\n      <td>13.0</td>\n      <td>3.0</td>\n      <td>4.0</td>\n      <td>4666.0</td>\n      <td>64.294899</td>\n      <td>85.726532</td>\n      <td>1.0</td>\n    </tr>\n    <tr>\n      <th>Zalamea la Real</th>\n      <td>25.0</td>\n      <td>4.0</td>\n      <td>5.0</td>\n      <td>3068.0</td>\n      <td>130.378096</td>\n      <td>162.972621</td>\n      <td>1.0</td>\n    </tr>\n  </tbody>\n</table>\n</div>"
     },
     "metadata": {},
     "execution_count": 15
    }
   ],
   "source": [
    "# Nuevos casos desde la última captura\n",
    "tabla[tabla['Diferencia PDIA'] != 0].sort_values('Diferencia PDIA', ascending=False)"
   ]
  },
  {
   "cell_type": "code",
   "execution_count": 16,
   "metadata": {},
   "outputs": [],
   "source": [
    "if tabla[tabla['Diferencia PDIA'] != 0]['Diferencia PDIA'].sum() > 0:\n",
    "  # Save to csv\n",
    "  tabla.to_csv('covid_huelva.csv', encoding='utf-8', header=True, index=True)  "
   ]
  },
  {
   "cell_type": "code",
   "execution_count": 17,
   "metadata": {},
   "outputs": [
    {
     "output_type": "execute_result",
     "data": {
      "text/plain": [
       "Medida                             Confirmados PDIA  Confirmados PDIA 7 días  \\\n",
       "Lugar de residencia                                                            \n",
       "Campillo (El)                                  27.0                      1.0   \n",
       "Villarrasa                                     17.0                      7.0   \n",
       "Villanueva de los Castillejos                  18.0                     11.0   \n",
       "San Juan del Puerto                            71.0                     34.0   \n",
       "Jabugo                                         14.0                      9.0   \n",
       "Palma del Condado (La)                         87.0                     12.0   \n",
       "Bollullos Par del Condado                     106.0                     12.0   \n",
       "Villablanca                                    10.0                      4.0   \n",
       "Lucena del Puerto                              14.0                      3.0   \n",
       "Lepe                                          136.0                     20.0   \n",
       "Zalamea la Real                                25.0                      4.0   \n",
       "Condado-Campiña                               632.0                     93.0   \n",
       "Cabezas Rubias                                 10.0                      1.0   \n",
       "Gibraleón                                      33.0                      5.0   \n",
       "Niebla                                          7.0                      2.0   \n",
       "Huelva                                       1818.0                    248.0   \n",
       "Sierra de Huelva-Andévalo Central             240.0                     27.0   \n",
       "Aracena                                        54.0                      5.0   \n",
       "Cortegana                                      13.0                      3.0   \n",
       "Huelva (capital)                              453.0                     75.0   \n",
       "Huelva-Costa                                  919.0                    124.0   \n",
       "Higuera de la Sierra                            3.0                      1.0   \n",
       "Moguer                                         51.0                      6.0   \n",
       "Punta Umbría                                   38.0                      2.0   \n",
       "San Bartolomé de la Torre                       4.0                      1.0   \n",
       "Minas de Riotinto                              19.0                      1.0   \n",
       "Isla Cristina                                  73.0                      5.0   \n",
       "Rociana del Condado                            10.0                      1.0   \n",
       "Bonares                                         8.0                      2.0   \n",
       "Escacena del Campo                             16.0                      1.0   \n",
       "Aljaraque                                      77.0                      5.0   \n",
       "Aroche                                         10.0                      1.0   \n",
       "Almonte                                        60.0                      5.0   \n",
       "Palos de la Frontera                           29.0                      1.0   \n",
       "Beas                                            8.0                      1.0   \n",
       "Valverde del Camino                            29.0                      1.0   \n",
       "Nerva                                          24.0                      1.0   \n",
       "Cartaya                                        27.0                      1.0   \n",
       "\n",
       "Medida                             Confirmados PDIA 14 días  Población  \\\n",
       "Lugar de residencia                                                      \n",
       "Campillo (El)                                          25.0     2023.0   \n",
       "Villarrasa                                             13.0     2176.0   \n",
       "Villanueva de los Castillejos                          16.0     2820.0   \n",
       "San Juan del Puerto                                    50.0     9300.0   \n",
       "Jabugo                                                 10.0     2250.0   \n",
       "Palma del Condado (La)                                 47.0    10761.0   \n",
       "Bollullos Par del Condado                              41.0    14272.0   \n",
       "Villablanca                                             8.0     2848.0   \n",
       "Lucena del Puerto                                       9.0     3371.0   \n",
       "Lepe                                                   51.0    27431.0   \n",
       "Zalamea la Real                                         5.0     3068.0   \n",
       "Condado-Campiña                                       238.0   155057.0   \n",
       "Cabezas Rubias                                          1.0      730.0   \n",
       "Gibraleón                                              17.0    12607.0   \n",
       "Niebla                                                  5.0     4117.0   \n",
       "Huelva                                                537.0   510743.0   \n",
       "Sierra de Huelva-Andévalo Central                      65.0    67571.0   \n",
       "Aracena                                                 7.0     8107.0   \n",
       "Cortegana                                               4.0     4666.0   \n",
       "Huelva (capital)                                      117.0   143663.0   \n",
       "Huelva-Costa                                          229.0   288115.0   \n",
       "Higuera de la Sierra                                    1.0     1287.0   \n",
       "Moguer                                                 14.0    22088.0   \n",
       "Punta Umbría                                            9.0    15242.0   \n",
       "San Bartolomé de la Torre                               2.0     3736.0   \n",
       "Minas de Riotinto                                       2.0     3848.0   \n",
       "Isla Cristina                                          11.0    21264.0   \n",
       "Rociana del Condado                                     4.0     7855.0   \n",
       "Bonares                                                 3.0     6058.0   \n",
       "Escacena del Campo                                      1.0     2284.0   \n",
       "Aljaraque                                               7.0    21260.0   \n",
       "Aroche                                                  1.0     3073.0   \n",
       "Almonte                                                 7.0    24191.0   \n",
       "Palos de la Frontera                                    3.0    11289.0   \n",
       "Beas                                                    1.0     4257.0   \n",
       "Valverde del Camino                                     3.0    12820.0   \n",
       "Nerva                                                   1.0     5235.0   \n",
       "Cartaya                                                 3.0    19974.0   \n",
       "\n",
       "Medida                                  tasa7       tasa14  Diferencia PDIA  \n",
       "Lugar de residencia                                                          \n",
       "Campillo (El)                       49.431537  1235.788433              0.0  \n",
       "Villarrasa                         321.691176   597.426471              3.0  \n",
       "Villanueva de los Castillejos      390.070922   567.375887              2.0  \n",
       "San Juan del Puerto                365.591398   537.634409              5.0  \n",
       "Jabugo                             400.000000   444.444444              3.0  \n",
       "Palma del Condado (La)             111.513800   436.762383              0.0  \n",
       "Bollullos Par del Condado           84.080717   287.275785              0.0  \n",
       "Villablanca                        140.449438   280.898876              3.0  \n",
       "Lucena del Puerto                   88.994364   266.983091              0.0  \n",
       "Lepe                                72.910211   185.921038              4.0  \n",
       "Zalamea la Real                    130.378096   162.972621              1.0  \n",
       "Condado-Campiña                     59.977944   153.491942             11.0  \n",
       "Cabezas Rubias                     136.986301   136.986301              0.0  \n",
       "Gibraleón                           39.660506   134.845721              1.0  \n",
       "Niebla                              48.579062   121.447656              1.0  \n",
       "Huelva                              48.556711   105.140942             49.0  \n",
       "Sierra de Huelva-Andévalo Central   39.957970    96.195113              7.0  \n",
       "Aracena                             61.675096    86.345134              1.0  \n",
       "Cortegana                           64.294899    85.726532              1.0  \n",
       "Huelva (capital)                    52.205509    81.440594             21.0  \n",
       "Huelva-Costa                        43.038370    79.482151             36.0  \n",
       "Higuera de la Sierra                77.700078    77.700078              0.0  \n",
       "Moguer                              27.164071    63.382832              1.0  \n",
       "Punta Umbría                        13.121638    59.047369              1.0  \n",
       "San Bartolomé de la Torre           26.766595    53.533191              0.0  \n",
       "Minas de Riotinto                   25.987526    51.975052              1.0  \n",
       "Isla Cristina                       23.513920    51.730625              3.0  \n",
       "Rociana del Condado                 12.730745    50.922979              0.0  \n",
       "Bonares                             33.014196    49.521294              0.0  \n",
       "Escacena del Campo                  43.782837    43.782837              0.0  \n",
       "Aljaraque                           23.518344    32.925682              2.0  \n",
       "Aroche                              32.541490    32.541490              0.0  \n",
       "Almonte                             20.668844    28.936381              0.0  \n",
       "Palos de la Frontera                 8.858181    26.574542              0.0  \n",
       "Beas                                23.490721    23.490721              0.0  \n",
       "Valverde del Camino                  7.800312    23.400936              0.0  \n",
       "Nerva                               19.102197    19.102197              0.0  \n",
       "Cartaya                              5.006508    15.019525              0.0  "
      ],
      "text/html": "<div>\n<style scoped>\n    .dataframe tbody tr th:only-of-type {\n        vertical-align: middle;\n    }\n\n    .dataframe tbody tr th {\n        vertical-align: top;\n    }\n\n    .dataframe thead th {\n        text-align: right;\n    }\n</style>\n<table border=\"1\" class=\"dataframe\">\n  <thead>\n    <tr style=\"text-align: right;\">\n      <th>Medida</th>\n      <th>Confirmados PDIA</th>\n      <th>Confirmados PDIA 7 días</th>\n      <th>Confirmados PDIA 14 días</th>\n      <th>Población</th>\n      <th>tasa7</th>\n      <th>tasa14</th>\n      <th>Diferencia PDIA</th>\n    </tr>\n    <tr>\n      <th>Lugar de residencia</th>\n      <th></th>\n      <th></th>\n      <th></th>\n      <th></th>\n      <th></th>\n      <th></th>\n      <th></th>\n    </tr>\n  </thead>\n  <tbody>\n    <tr>\n      <th>Campillo (El)</th>\n      <td>27.0</td>\n      <td>1.0</td>\n      <td>25.0</td>\n      <td>2023.0</td>\n      <td>49.431537</td>\n      <td>1235.788433</td>\n      <td>0.0</td>\n    </tr>\n    <tr>\n      <th>Villarrasa</th>\n      <td>17.0</td>\n      <td>7.0</td>\n      <td>13.0</td>\n      <td>2176.0</td>\n      <td>321.691176</td>\n      <td>597.426471</td>\n      <td>3.0</td>\n    </tr>\n    <tr>\n      <th>Villanueva de los Castillejos</th>\n      <td>18.0</td>\n      <td>11.0</td>\n      <td>16.0</td>\n      <td>2820.0</td>\n      <td>390.070922</td>\n      <td>567.375887</td>\n      <td>2.0</td>\n    </tr>\n    <tr>\n      <th>San Juan del Puerto</th>\n      <td>71.0</td>\n      <td>34.0</td>\n      <td>50.0</td>\n      <td>9300.0</td>\n      <td>365.591398</td>\n      <td>537.634409</td>\n      <td>5.0</td>\n    </tr>\n    <tr>\n      <th>Jabugo</th>\n      <td>14.0</td>\n      <td>9.0</td>\n      <td>10.0</td>\n      <td>2250.0</td>\n      <td>400.000000</td>\n      <td>444.444444</td>\n      <td>3.0</td>\n    </tr>\n    <tr>\n      <th>Palma del Condado (La)</th>\n      <td>87.0</td>\n      <td>12.0</td>\n      <td>47.0</td>\n      <td>10761.0</td>\n      <td>111.513800</td>\n      <td>436.762383</td>\n      <td>0.0</td>\n    </tr>\n    <tr>\n      <th>Bollullos Par del Condado</th>\n      <td>106.0</td>\n      <td>12.0</td>\n      <td>41.0</td>\n      <td>14272.0</td>\n      <td>84.080717</td>\n      <td>287.275785</td>\n      <td>0.0</td>\n    </tr>\n    <tr>\n      <th>Villablanca</th>\n      <td>10.0</td>\n      <td>4.0</td>\n      <td>8.0</td>\n      <td>2848.0</td>\n      <td>140.449438</td>\n      <td>280.898876</td>\n      <td>3.0</td>\n    </tr>\n    <tr>\n      <th>Lucena del Puerto</th>\n      <td>14.0</td>\n      <td>3.0</td>\n      <td>9.0</td>\n      <td>3371.0</td>\n      <td>88.994364</td>\n      <td>266.983091</td>\n      <td>0.0</td>\n    </tr>\n    <tr>\n      <th>Lepe</th>\n      <td>136.0</td>\n      <td>20.0</td>\n      <td>51.0</td>\n      <td>27431.0</td>\n      <td>72.910211</td>\n      <td>185.921038</td>\n      <td>4.0</td>\n    </tr>\n    <tr>\n      <th>Zalamea la Real</th>\n      <td>25.0</td>\n      <td>4.0</td>\n      <td>5.0</td>\n      <td>3068.0</td>\n      <td>130.378096</td>\n      <td>162.972621</td>\n      <td>1.0</td>\n    </tr>\n    <tr>\n      <th>Condado-Campiña</th>\n      <td>632.0</td>\n      <td>93.0</td>\n      <td>238.0</td>\n      <td>155057.0</td>\n      <td>59.977944</td>\n      <td>153.491942</td>\n      <td>11.0</td>\n    </tr>\n    <tr>\n      <th>Cabezas Rubias</th>\n      <td>10.0</td>\n      <td>1.0</td>\n      <td>1.0</td>\n      <td>730.0</td>\n      <td>136.986301</td>\n      <td>136.986301</td>\n      <td>0.0</td>\n    </tr>\n    <tr>\n      <th>Gibraleón</th>\n      <td>33.0</td>\n      <td>5.0</td>\n      <td>17.0</td>\n      <td>12607.0</td>\n      <td>39.660506</td>\n      <td>134.845721</td>\n      <td>1.0</td>\n    </tr>\n    <tr>\n      <th>Niebla</th>\n      <td>7.0</td>\n      <td>2.0</td>\n      <td>5.0</td>\n      <td>4117.0</td>\n      <td>48.579062</td>\n      <td>121.447656</td>\n      <td>1.0</td>\n    </tr>\n    <tr>\n      <th>Huelva</th>\n      <td>1818.0</td>\n      <td>248.0</td>\n      <td>537.0</td>\n      <td>510743.0</td>\n      <td>48.556711</td>\n      <td>105.140942</td>\n      <td>49.0</td>\n    </tr>\n    <tr>\n      <th>Sierra de Huelva-Andévalo Central</th>\n      <td>240.0</td>\n      <td>27.0</td>\n      <td>65.0</td>\n      <td>67571.0</td>\n      <td>39.957970</td>\n      <td>96.195113</td>\n      <td>7.0</td>\n    </tr>\n    <tr>\n      <th>Aracena</th>\n      <td>54.0</td>\n      <td>5.0</td>\n      <td>7.0</td>\n      <td>8107.0</td>\n      <td>61.675096</td>\n      <td>86.345134</td>\n      <td>1.0</td>\n    </tr>\n    <tr>\n      <th>Cortegana</th>\n      <td>13.0</td>\n      <td>3.0</td>\n      <td>4.0</td>\n      <td>4666.0</td>\n      <td>64.294899</td>\n      <td>85.726532</td>\n      <td>1.0</td>\n    </tr>\n    <tr>\n      <th>Huelva (capital)</th>\n      <td>453.0</td>\n      <td>75.0</td>\n      <td>117.0</td>\n      <td>143663.0</td>\n      <td>52.205509</td>\n      <td>81.440594</td>\n      <td>21.0</td>\n    </tr>\n    <tr>\n      <th>Huelva-Costa</th>\n      <td>919.0</td>\n      <td>124.0</td>\n      <td>229.0</td>\n      <td>288115.0</td>\n      <td>43.038370</td>\n      <td>79.482151</td>\n      <td>36.0</td>\n    </tr>\n    <tr>\n      <th>Higuera de la Sierra</th>\n      <td>3.0</td>\n      <td>1.0</td>\n      <td>1.0</td>\n      <td>1287.0</td>\n      <td>77.700078</td>\n      <td>77.700078</td>\n      <td>0.0</td>\n    </tr>\n    <tr>\n      <th>Moguer</th>\n      <td>51.0</td>\n      <td>6.0</td>\n      <td>14.0</td>\n      <td>22088.0</td>\n      <td>27.164071</td>\n      <td>63.382832</td>\n      <td>1.0</td>\n    </tr>\n    <tr>\n      <th>Punta Umbría</th>\n      <td>38.0</td>\n      <td>2.0</td>\n      <td>9.0</td>\n      <td>15242.0</td>\n      <td>13.121638</td>\n      <td>59.047369</td>\n      <td>1.0</td>\n    </tr>\n    <tr>\n      <th>San Bartolomé de la Torre</th>\n      <td>4.0</td>\n      <td>1.0</td>\n      <td>2.0</td>\n      <td>3736.0</td>\n      <td>26.766595</td>\n      <td>53.533191</td>\n      <td>0.0</td>\n    </tr>\n    <tr>\n      <th>Minas de Riotinto</th>\n      <td>19.0</td>\n      <td>1.0</td>\n      <td>2.0</td>\n      <td>3848.0</td>\n      <td>25.987526</td>\n      <td>51.975052</td>\n      <td>1.0</td>\n    </tr>\n    <tr>\n      <th>Isla Cristina</th>\n      <td>73.0</td>\n      <td>5.0</td>\n      <td>11.0</td>\n      <td>21264.0</td>\n      <td>23.513920</td>\n      <td>51.730625</td>\n      <td>3.0</td>\n    </tr>\n    <tr>\n      <th>Rociana del Condado</th>\n      <td>10.0</td>\n      <td>1.0</td>\n      <td>4.0</td>\n      <td>7855.0</td>\n      <td>12.730745</td>\n      <td>50.922979</td>\n      <td>0.0</td>\n    </tr>\n    <tr>\n      <th>Bonares</th>\n      <td>8.0</td>\n      <td>2.0</td>\n      <td>3.0</td>\n      <td>6058.0</td>\n      <td>33.014196</td>\n      <td>49.521294</td>\n      <td>0.0</td>\n    </tr>\n    <tr>\n      <th>Escacena del Campo</th>\n      <td>16.0</td>\n      <td>1.0</td>\n      <td>1.0</td>\n      <td>2284.0</td>\n      <td>43.782837</td>\n      <td>43.782837</td>\n      <td>0.0</td>\n    </tr>\n    <tr>\n      <th>Aljaraque</th>\n      <td>77.0</td>\n      <td>5.0</td>\n      <td>7.0</td>\n      <td>21260.0</td>\n      <td>23.518344</td>\n      <td>32.925682</td>\n      <td>2.0</td>\n    </tr>\n    <tr>\n      <th>Aroche</th>\n      <td>10.0</td>\n      <td>1.0</td>\n      <td>1.0</td>\n      <td>3073.0</td>\n      <td>32.541490</td>\n      <td>32.541490</td>\n      <td>0.0</td>\n    </tr>\n    <tr>\n      <th>Almonte</th>\n      <td>60.0</td>\n      <td>5.0</td>\n      <td>7.0</td>\n      <td>24191.0</td>\n      <td>20.668844</td>\n      <td>28.936381</td>\n      <td>0.0</td>\n    </tr>\n    <tr>\n      <th>Palos de la Frontera</th>\n      <td>29.0</td>\n      <td>1.0</td>\n      <td>3.0</td>\n      <td>11289.0</td>\n      <td>8.858181</td>\n      <td>26.574542</td>\n      <td>0.0</td>\n    </tr>\n    <tr>\n      <th>Beas</th>\n      <td>8.0</td>\n      <td>1.0</td>\n      <td>1.0</td>\n      <td>4257.0</td>\n      <td>23.490721</td>\n      <td>23.490721</td>\n      <td>0.0</td>\n    </tr>\n    <tr>\n      <th>Valverde del Camino</th>\n      <td>29.0</td>\n      <td>1.0</td>\n      <td>3.0</td>\n      <td>12820.0</td>\n      <td>7.800312</td>\n      <td>23.400936</td>\n      <td>0.0</td>\n    </tr>\n    <tr>\n      <th>Nerva</th>\n      <td>24.0</td>\n      <td>1.0</td>\n      <td>1.0</td>\n      <td>5235.0</td>\n      <td>19.102197</td>\n      <td>19.102197</td>\n      <td>0.0</td>\n    </tr>\n    <tr>\n      <th>Cartaya</th>\n      <td>27.0</td>\n      <td>1.0</td>\n      <td>3.0</td>\n      <td>19974.0</td>\n      <td>5.006508</td>\n      <td>15.019525</td>\n      <td>0.0</td>\n    </tr>\n  </tbody>\n</table>\n</div>"
     },
     "metadata": {},
     "execution_count": 17
    }
   ],
   "source": [
    "tabla.sort_values('tasa14', ascending=False)"
   ]
  },
  {
   "cell_type": "code",
   "execution_count": null,
   "metadata": {},
   "outputs": [],
   "source": []
  }
 ]
}