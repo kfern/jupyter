{
 "metadata": {
  "language_info": {
   "codemirror_mode": {
    "name": "ipython",
    "version": 3
   },
   "file_extension": ".py",
   "mimetype": "text/x-python",
   "name": "python",
   "nbconvert_exporter": "python",
   "pygments_lexer": "ipython3",
   "version": "3.8.6"
  },
  "orig_nbformat": 2,
  "kernelspec": {
   "name": "python3",
   "display_name": "Python 3",
   "language": "python"
  }
 },
 "nbformat": 4,
 "nbformat_minor": 2,
 "cells": [
  {
   "cell_type": "code",
   "execution_count": 1,
   "metadata": {},
   "outputs": [],
   "source": [
    "import pandas as pd\n",
    "pd.set_option('display.max_rows', None) # Print all rows"
   ]
  },
  {
   "cell_type": "code",
   "execution_count": 2,
   "metadata": {},
   "outputs": [],
   "source": [
    "# FIX SSL: CERTIFICATE_VERIFY_FAILED with Python3\n",
    "# https://stackoverflow.com/a/49174340\n",
    "import ssl\n",
    "\n",
    "ssl._create_default_https_context = ssl._create_unverified_context"
   ]
  },
  {
   "cell_type": "code",
   "execution_count": 3,
   "metadata": {},
   "outputs": [],
   "source": [
    "url = 'https://www.juntadeandalucia.es/institutodeestadisticaycartografia/badea/stpivot/stpivot/Print?cube=013d884c-cfc5-4c21-9e78-e26225682afd&type=3&foto=si&ejecutaDesde=&codConsulta=38668&consTipoVisua=JP'\n",
    "fields = ['Lugar de residencia', 'Medida', 'Valor']\n",
    "df = pd.read_csv(url, delimiter=';', usecols=fields, decimal=',')"
   ]
  },
  {
   "cell_type": "code",
   "execution_count": 4,
   "metadata": {},
   "outputs": [
    {
     "output_type": "execute_result",
     "data": {
      "text/plain": [
       "  Lugar de residencia                    Medida               Valor\n",
       "0              Huelva                 Población              513170\n",
       "1              Huelva          Confirmados PDIA               27800\n",
       "2              Huelva  Confirmados PDIA 14 días                1262\n",
       "3              Huelva         Tasa PDIA 14 días  245,92240388175458\n",
       "4              Huelva   Confirmados PDIA 7 días                 582\n",
       "5              Huelva        Total Confirmados                27973\n",
       "6              Huelva                   Curados               23387\n",
       "7              Huelva                Fallecidos                 360"
      ],
      "text/html": "<div>\n<style scoped>\n    .dataframe tbody tr th:only-of-type {\n        vertical-align: middle;\n    }\n\n    .dataframe tbody tr th {\n        vertical-align: top;\n    }\n\n    .dataframe thead th {\n        text-align: right;\n    }\n</style>\n<table border=\"1\" class=\"dataframe\">\n  <thead>\n    <tr style=\"text-align: right;\">\n      <th></th>\n      <th>Lugar de residencia</th>\n      <th>Medida</th>\n      <th>Valor</th>\n    </tr>\n  </thead>\n  <tbody>\n    <tr>\n      <th>0</th>\n      <td>Huelva</td>\n      <td>Población</td>\n      <td>513170</td>\n    </tr>\n    <tr>\n      <th>1</th>\n      <td>Huelva</td>\n      <td>Confirmados PDIA</td>\n      <td>27800</td>\n    </tr>\n    <tr>\n      <th>2</th>\n      <td>Huelva</td>\n      <td>Confirmados PDIA 14 días</td>\n      <td>1262</td>\n    </tr>\n    <tr>\n      <th>3</th>\n      <td>Huelva</td>\n      <td>Tasa PDIA 14 días</td>\n      <td>245,92240388175458</td>\n    </tr>\n    <tr>\n      <th>4</th>\n      <td>Huelva</td>\n      <td>Confirmados PDIA 7 días</td>\n      <td>582</td>\n    </tr>\n    <tr>\n      <th>5</th>\n      <td>Huelva</td>\n      <td>Total Confirmados</td>\n      <td>27973</td>\n    </tr>\n    <tr>\n      <th>6</th>\n      <td>Huelva</td>\n      <td>Curados</td>\n      <td>23387</td>\n    </tr>\n    <tr>\n      <th>7</th>\n      <td>Huelva</td>\n      <td>Fallecidos</td>\n      <td>360</td>\n    </tr>\n  </tbody>\n</table>\n</div>"
     },
     "metadata": {},
     "execution_count": 4
    }
   ],
   "source": [
    "df[df['Lugar de residencia'] == 'Huelva']"
   ]
  },
  {
   "cell_type": "code",
   "execution_count": 5,
   "metadata": {},
   "outputs": [],
   "source": [
    "df['Valor'] = pd.to_numeric(df['Valor'],errors='coerce')"
   ]
  },
  {
   "cell_type": "code",
   "execution_count": 6,
   "metadata": {},
   "outputs": [],
   "source": [
    "dfAnterior = pd.read_csv('covid_huelva.csv', index_col='Lugar de residencia')"
   ]
  },
  {
   "cell_type": "code",
   "execution_count": 7,
   "metadata": {
    "tags": []
   },
   "outputs": [
    {
     "output_type": "stream",
     "name": "stdout",
     "text": [
      "Confirmados PCR en la provincia de Huelva:  27800.0\n",
      "<ipython-input-7-31b732756b19>:2: UserWarning: Boolean Series key will be reindexed to match DataFrame index.\n",
      "  p = df[df['Lugar de residencia'] == 'Huelva'][df['Medida'] == 'Confirmados PDIA']['Valor'].values[0]\n"
     ]
    }
   ],
   "source": [
    "# Confirmados PCR provincia Huelva\n",
    "p = df[df['Lugar de residencia'] == 'Huelva'][df['Medida'] == 'Confirmados PDIA']['Valor'].values[0]\n",
    "print('Confirmados PCR en la provincia de Huelva: ', p)"
   ]
  },
  {
   "cell_type": "code",
   "execution_count": 8,
   "metadata": {
    "tags": []
   },
   "outputs": [
    {
     "output_type": "stream",
     "name": "stdout",
     "text": [
      "Confirmados PCR en Huelva capital:  7215.0\n",
      "<ipython-input-8-e81bfb40e710>:2: UserWarning: Boolean Series key will be reindexed to match DataFrame index.\n",
      "  c = df[df['Lugar de residencia'] == 'Huelva (capital)'][df['Medida'] == 'Confirmados PDIA']['Valor'].values[0]\n"
     ]
    }
   ],
   "source": [
    "# Confirmados PCR Huelva capitalpd\n",
    "c = df[df['Lugar de residencia'] == 'Huelva (capital)'][df['Medida'] == 'Confirmados PDIA']['Valor'].values[0]\n",
    "print('Confirmados PCR en Huelva capital: ', c)"
   ]
  },
  {
   "cell_type": "code",
   "execution_count": 9,
   "metadata": {
    "tags": []
   },
   "outputs": [
    {
     "output_type": "stream",
     "name": "stderr",
     "text": [
      "<ipython-input-9-f09dd2050cc1>:1: UserWarning: Boolean Series key will be reindexed to match DataFrame index.\n  c7 = df[df['Lugar de residencia'] == 'Huelva (capital)'][df['Medida'] == 'Confirmados PDIA 7 días']['Valor'].values[0]\n<ipython-input-9-f09dd2050cc1>:2: UserWarning: Boolean Series key will be reindexed to match DataFrame index.\n  c14 = df[df['Lugar de residencia'] == 'Huelva (capital)'][df['Medida'] == 'Confirmados PDIA 14 días']['Valor'].values[0]\n<ipython-input-9-f09dd2050cc1>:3: UserWarning: Boolean Series key will be reindexed to match DataFrame index.\n  p = df[df['Lugar de residencia'] == 'Huelva (capital)'][df['Medida'] == 'Población']['Valor'].values[0]\n"
     ]
    }
   ],
   "source": [
    "c7 = df[df['Lugar de residencia'] == 'Huelva (capital)'][df['Medida'] == 'Confirmados PDIA 7 días']['Valor'].values[0]\n",
    "c14 = df[df['Lugar de residencia'] == 'Huelva (capital)'][df['Medida'] == 'Confirmados PDIA 14 días']['Valor'].values[0]\n",
    "p = df[df['Lugar de residencia'] == 'Huelva (capital)'][df['Medida'] == 'Población']['Valor'].values[0]"
   ]
  },
  {
   "cell_type": "code",
   "execution_count": 10,
   "metadata": {
    "tags": []
   },
   "outputs": [
    {
     "output_type": "stream",
     "name": "stdout",
     "text": [
      "Huelva (capital)\n\nUn positivo PCR cada 1013 personas en los últimos 7 días \n\nUn positivo PCR cada 508 personas en los últimos 14 días\n"
     ]
    }
   ],
   "source": [
    "print('Huelva (capital)\\n')\n",
    "#print('Confirmados PCR 7 días x 1,000 habitantes: ', f\"{c7/(p/1000):.5f}\")\n",
    "print('Un positivo PCR cada', f\"{p/c7:.0f}\", 'personas en los últimos 7 días', '\\n')\n",
    "#print('Confirmados PCR 14 días x 1,000 habitantes: ', f\"{c14/(p/1000):.5f}\")\n",
    "print('Un positivo PCR cada', f\"{p/c14:.0f}\", 'personas en los últimos 14 días')"
   ]
  },
  {
   "cell_type": "code",
   "execution_count": 11,
   "metadata": {},
   "outputs": [],
   "source": [
    "filtro = ((df['Medida'] == 'Confirmados PDIA')| (df['Medida'] == 'Confirmados PDIA 7 días') | (df['Medida'] == 'Población' ) | (df['Medida'] == 'Confirmados PDIA 14 días')) & (df['Valor'] > 0)\n",
    "tabla = pd.pivot_table(df.loc[filtro], values='Valor', index='Lugar de residencia', columns='Medida').dropna()"
   ]
  },
  {
   "cell_type": "code",
   "execution_count": 12,
   "metadata": {},
   "outputs": [],
   "source": [
    "# Reorder columns\n",
    "tabla = tabla[['Confirmados PDIA', 'Confirmados PDIA 7 días', 'Confirmados PDIA 14 días', 'Población']]"
   ]
  },
  {
   "cell_type": "code",
   "execution_count": 13,
   "metadata": {},
   "outputs": [],
   "source": [
    "tabla['tasa7'] = tabla['Confirmados PDIA 7 días']/tabla['Población']*100000\n",
    "tabla['tasa14'] = tabla['Confirmados PDIA 14 días']/tabla['Población']*100000"
   ]
  },
  {
   "cell_type": "code",
   "execution_count": 14,
   "metadata": {},
   "outputs": [],
   "source": [
    "tabla['Diferencia PDIA'] = tabla['Confirmados PDIA'] - dfAnterior['Confirmados PDIA']"
   ]
  },
  {
   "cell_type": "code",
   "execution_count": 15,
   "metadata": {},
   "outputs": [
    {
     "output_type": "execute_result",
     "data": {
      "text/plain": [
       "Medida                             Confirmados PDIA  Confirmados PDIA 7 días  \\\n",
       "Lugar de residencia                                                            \n",
       "Huelva                                      27800.0                    582.0   \n",
       "Condado-Campiña                              8587.0                    300.0   \n",
       "Huelva-Costa                                16318.0                    219.0   \n",
       "Almonte                                      1415.0                    107.0   \n",
       "Huelva (capital)                             7215.0                    142.0   \n",
       "Sierra de Huelva-Andévalo Central            2479.0                     57.0   \n",
       "Moguer                                       1046.0                     46.0   \n",
       "Rociana del Condado                           489.0                     32.0   \n",
       "Bollullos Par del Condado                     760.0                     28.0   \n",
       "Cartaya                                      1234.0                     38.0   \n",
       "Cumbres Mayores                                43.0                     18.0   \n",
       "Gibraleón                                     572.0                     15.0   \n",
       "Punta Umbría                                  693.0                      9.0   \n",
       "Galaroza                                       24.0                      8.0   \n",
       "Aljaraque                                     986.0                     10.0   \n",
       "Isla Cristina                                2028.0                     10.0   \n",
       "Bonares                                       233.0                      9.0   \n",
       "Valverde del Camino                           457.0                      8.0   \n",
       "Palma del Condado (La)                       1025.0                     12.0   \n",
       "Palos de la Frontera                          563.0                     12.0   \n",
       "Santa Ana la Real                               9.0                      4.0   \n",
       "Aracena                                       502.0                      7.0   \n",
       "Lepe                                         2061.0                      6.0   \n",
       "Niebla                                        191.0                      4.0   \n",
       "Almonaster la Real                             63.0                      6.0   \n",
       "Granado (El)                                   38.0                      2.0   \n",
       "Beas                                          175.0                      3.0   \n",
       "Ayamonte                                     1262.0                      1.0   \n",
       "Villarrasa                                    147.0                      4.0   \n",
       "Cortegana                                     193.0                      1.0   \n",
       "Cumbres de San Bartolomé                        8.0                      3.0   \n",
       "\n",
       "Medida                             Confirmados PDIA 14 días  Población  \\\n",
       "Lugar de residencia                                                      \n",
       "Huelva                                               1262.0   513170.0   \n",
       "Condado-Campiña                                       638.0   156231.0   \n",
       "Huelva-Costa                                          501.0   289548.0   \n",
       "Almonte                                               246.0    24507.0   \n",
       "Huelva (capital)                                      283.0   143837.0   \n",
       "Sierra de Huelva-Andévalo Central                     106.0    67391.0   \n",
       "Moguer                                                 89.0    21867.0   \n",
       "Rociana del Condado                                    69.0     7939.0   \n",
       "Bollullos Par del Condado                              53.0    14387.0   \n",
       "Cartaya                                               126.0    20083.0   \n",
       "Cumbres Mayores                                        18.0     1749.0   \n",
       "Gibraleón                                              17.0    12737.0   \n",
       "Punta Umbría                                           13.0    15355.0   \n",
       "Galaroza                                                8.0     1382.0   \n",
       "Aljaraque                                              26.0    21474.0   \n",
       "Isla Cristina                                          12.0    21393.0   \n",
       "Bonares                                                14.0     6060.0   \n",
       "Valverde del Camino                                    20.0    12750.0   \n",
       "Palma del Condado (La)                                 18.0    10801.0   \n",
       "Palos de la Frontera                                   44.0    11742.0   \n",
       "Santa Ana la Real                                       4.0      475.0   \n",
       "Aracena                                                24.0     8255.0   \n",
       "Lepe                                                   23.0    27880.0   \n",
       "Niebla                                                  9.0     4116.0   \n",
       "Almonaster la Real                                      9.0     1788.0   \n",
       "Granado (El)                                            2.0      532.0   \n",
       "Beas                                                   10.0     4341.0   \n",
       "Ayamonte                                                7.0    21104.0   \n",
       "Villarrasa                                              7.0     2211.0   \n",
       "Cortegana                                               1.0     4602.0   \n",
       "Cumbres de San Bartolomé                                3.0      376.0   \n",
       "\n",
       "Medida                                   tasa7       tasa14  Diferencia PDIA  \n",
       "Lugar de residencia                                                           \n",
       "Huelva                              113.412709   245.922404            217.0  \n",
       "Condado-Campiña                     192.023350   408.369658            119.0  \n",
       "Huelva-Costa                         75.635128   173.028306             67.0  \n",
       "Almonte                             436.609948  1003.794834             50.0  \n",
       "Huelva (capital)                     98.722860   196.750488             35.0  \n",
       "Sierra de Huelva-Andévalo Central    84.581027   157.291033             31.0  \n",
       "Moguer                              210.362647   407.005991             20.0  \n",
       "Rociana del Condado                 403.073435   869.127094             14.0  \n",
       "Bollullos Par del Condado           194.620143   368.388128             14.0  \n",
       "Cartaya                             189.214759   627.396305             13.0  \n",
       "Cumbres Mayores                    1029.159520  1029.159520             10.0  \n",
       "Gibraleón                           117.767135   133.469420              7.0  \n",
       "Punta Umbría                         58.612830    84.662976              6.0  \n",
       "Galaroza                            578.871201   578.871201              6.0  \n",
       "Aljaraque                            46.567943   121.076651              5.0  \n",
       "Isla Cristina                        46.744262    56.093115              4.0  \n",
       "Bonares                             148.514851   231.023102              4.0  \n",
       "Valverde del Camino                  62.745098   156.862745              4.0  \n",
       "Palma del Condado (La)              111.100824   166.651236              3.0  \n",
       "Palos de la Frontera                102.197241   374.723216              3.0  \n",
       "Santa Ana la Real                   842.105263   842.105263              3.0  \n",
       "Aracena                              84.797093   290.732889              3.0  \n",
       "Lepe                                 21.520803    82.496413              2.0  \n",
       "Niebla                               97.181730   218.658892              2.0  \n",
       "Almonaster la Real                  335.570470   503.355705              1.0  \n",
       "Granado (El)                        375.939850   375.939850              1.0  \n",
       "Beas                                 69.108500   230.361668              1.0  \n",
       "Ayamonte                              4.738438    33.169067              1.0  \n",
       "Villarrasa                          180.913614   316.598824              1.0  \n",
       "Cortegana                            21.729683    21.729683              NaN  \n",
       "Cumbres de San Bartolomé            797.872340   797.872340              NaN  "
      ],
      "text/html": "<div>\n<style scoped>\n    .dataframe tbody tr th:only-of-type {\n        vertical-align: middle;\n    }\n\n    .dataframe tbody tr th {\n        vertical-align: top;\n    }\n\n    .dataframe thead th {\n        text-align: right;\n    }\n</style>\n<table border=\"1\" class=\"dataframe\">\n  <thead>\n    <tr style=\"text-align: right;\">\n      <th>Medida</th>\n      <th>Confirmados PDIA</th>\n      <th>Confirmados PDIA 7 días</th>\n      <th>Confirmados PDIA 14 días</th>\n      <th>Población</th>\n      <th>tasa7</th>\n      <th>tasa14</th>\n      <th>Diferencia PDIA</th>\n    </tr>\n    <tr>\n      <th>Lugar de residencia</th>\n      <th></th>\n      <th></th>\n      <th></th>\n      <th></th>\n      <th></th>\n      <th></th>\n      <th></th>\n    </tr>\n  </thead>\n  <tbody>\n    <tr>\n      <th>Huelva</th>\n      <td>27800.0</td>\n      <td>582.0</td>\n      <td>1262.0</td>\n      <td>513170.0</td>\n      <td>113.412709</td>\n      <td>245.922404</td>\n      <td>217.0</td>\n    </tr>\n    <tr>\n      <th>Condado-Campiña</th>\n      <td>8587.0</td>\n      <td>300.0</td>\n      <td>638.0</td>\n      <td>156231.0</td>\n      <td>192.023350</td>\n      <td>408.369658</td>\n      <td>119.0</td>\n    </tr>\n    <tr>\n      <th>Huelva-Costa</th>\n      <td>16318.0</td>\n      <td>219.0</td>\n      <td>501.0</td>\n      <td>289548.0</td>\n      <td>75.635128</td>\n      <td>173.028306</td>\n      <td>67.0</td>\n    </tr>\n    <tr>\n      <th>Almonte</th>\n      <td>1415.0</td>\n      <td>107.0</td>\n      <td>246.0</td>\n      <td>24507.0</td>\n      <td>436.609948</td>\n      <td>1003.794834</td>\n      <td>50.0</td>\n    </tr>\n    <tr>\n      <th>Huelva (capital)</th>\n      <td>7215.0</td>\n      <td>142.0</td>\n      <td>283.0</td>\n      <td>143837.0</td>\n      <td>98.722860</td>\n      <td>196.750488</td>\n      <td>35.0</td>\n    </tr>\n    <tr>\n      <th>Sierra de Huelva-Andévalo Central</th>\n      <td>2479.0</td>\n      <td>57.0</td>\n      <td>106.0</td>\n      <td>67391.0</td>\n      <td>84.581027</td>\n      <td>157.291033</td>\n      <td>31.0</td>\n    </tr>\n    <tr>\n      <th>Moguer</th>\n      <td>1046.0</td>\n      <td>46.0</td>\n      <td>89.0</td>\n      <td>21867.0</td>\n      <td>210.362647</td>\n      <td>407.005991</td>\n      <td>20.0</td>\n    </tr>\n    <tr>\n      <th>Rociana del Condado</th>\n      <td>489.0</td>\n      <td>32.0</td>\n      <td>69.0</td>\n      <td>7939.0</td>\n      <td>403.073435</td>\n      <td>869.127094</td>\n      <td>14.0</td>\n    </tr>\n    <tr>\n      <th>Bollullos Par del Condado</th>\n      <td>760.0</td>\n      <td>28.0</td>\n      <td>53.0</td>\n      <td>14387.0</td>\n      <td>194.620143</td>\n      <td>368.388128</td>\n      <td>14.0</td>\n    </tr>\n    <tr>\n      <th>Cartaya</th>\n      <td>1234.0</td>\n      <td>38.0</td>\n      <td>126.0</td>\n      <td>20083.0</td>\n      <td>189.214759</td>\n      <td>627.396305</td>\n      <td>13.0</td>\n    </tr>\n    <tr>\n      <th>Cumbres Mayores</th>\n      <td>43.0</td>\n      <td>18.0</td>\n      <td>18.0</td>\n      <td>1749.0</td>\n      <td>1029.159520</td>\n      <td>1029.159520</td>\n      <td>10.0</td>\n    </tr>\n    <tr>\n      <th>Gibraleón</th>\n      <td>572.0</td>\n      <td>15.0</td>\n      <td>17.0</td>\n      <td>12737.0</td>\n      <td>117.767135</td>\n      <td>133.469420</td>\n      <td>7.0</td>\n    </tr>\n    <tr>\n      <th>Punta Umbría</th>\n      <td>693.0</td>\n      <td>9.0</td>\n      <td>13.0</td>\n      <td>15355.0</td>\n      <td>58.612830</td>\n      <td>84.662976</td>\n      <td>6.0</td>\n    </tr>\n    <tr>\n      <th>Galaroza</th>\n      <td>24.0</td>\n      <td>8.0</td>\n      <td>8.0</td>\n      <td>1382.0</td>\n      <td>578.871201</td>\n      <td>578.871201</td>\n      <td>6.0</td>\n    </tr>\n    <tr>\n      <th>Aljaraque</th>\n      <td>986.0</td>\n      <td>10.0</td>\n      <td>26.0</td>\n      <td>21474.0</td>\n      <td>46.567943</td>\n      <td>121.076651</td>\n      <td>5.0</td>\n    </tr>\n    <tr>\n      <th>Isla Cristina</th>\n      <td>2028.0</td>\n      <td>10.0</td>\n      <td>12.0</td>\n      <td>21393.0</td>\n      <td>46.744262</td>\n      <td>56.093115</td>\n      <td>4.0</td>\n    </tr>\n    <tr>\n      <th>Bonares</th>\n      <td>233.0</td>\n      <td>9.0</td>\n      <td>14.0</td>\n      <td>6060.0</td>\n      <td>148.514851</td>\n      <td>231.023102</td>\n      <td>4.0</td>\n    </tr>\n    <tr>\n      <th>Valverde del Camino</th>\n      <td>457.0</td>\n      <td>8.0</td>\n      <td>20.0</td>\n      <td>12750.0</td>\n      <td>62.745098</td>\n      <td>156.862745</td>\n      <td>4.0</td>\n    </tr>\n    <tr>\n      <th>Palma del Condado (La)</th>\n      <td>1025.0</td>\n      <td>12.0</td>\n      <td>18.0</td>\n      <td>10801.0</td>\n      <td>111.100824</td>\n      <td>166.651236</td>\n      <td>3.0</td>\n    </tr>\n    <tr>\n      <th>Palos de la Frontera</th>\n      <td>563.0</td>\n      <td>12.0</td>\n      <td>44.0</td>\n      <td>11742.0</td>\n      <td>102.197241</td>\n      <td>374.723216</td>\n      <td>3.0</td>\n    </tr>\n    <tr>\n      <th>Santa Ana la Real</th>\n      <td>9.0</td>\n      <td>4.0</td>\n      <td>4.0</td>\n      <td>475.0</td>\n      <td>842.105263</td>\n      <td>842.105263</td>\n      <td>3.0</td>\n    </tr>\n    <tr>\n      <th>Aracena</th>\n      <td>502.0</td>\n      <td>7.0</td>\n      <td>24.0</td>\n      <td>8255.0</td>\n      <td>84.797093</td>\n      <td>290.732889</td>\n      <td>3.0</td>\n    </tr>\n    <tr>\n      <th>Lepe</th>\n      <td>2061.0</td>\n      <td>6.0</td>\n      <td>23.0</td>\n      <td>27880.0</td>\n      <td>21.520803</td>\n      <td>82.496413</td>\n      <td>2.0</td>\n    </tr>\n    <tr>\n      <th>Niebla</th>\n      <td>191.0</td>\n      <td>4.0</td>\n      <td>9.0</td>\n      <td>4116.0</td>\n      <td>97.181730</td>\n      <td>218.658892</td>\n      <td>2.0</td>\n    </tr>\n    <tr>\n      <th>Almonaster la Real</th>\n      <td>63.0</td>\n      <td>6.0</td>\n      <td>9.0</td>\n      <td>1788.0</td>\n      <td>335.570470</td>\n      <td>503.355705</td>\n      <td>1.0</td>\n    </tr>\n    <tr>\n      <th>Granado (El)</th>\n      <td>38.0</td>\n      <td>2.0</td>\n      <td>2.0</td>\n      <td>532.0</td>\n      <td>375.939850</td>\n      <td>375.939850</td>\n      <td>1.0</td>\n    </tr>\n    <tr>\n      <th>Beas</th>\n      <td>175.0</td>\n      <td>3.0</td>\n      <td>10.0</td>\n      <td>4341.0</td>\n      <td>69.108500</td>\n      <td>230.361668</td>\n      <td>1.0</td>\n    </tr>\n    <tr>\n      <th>Ayamonte</th>\n      <td>1262.0</td>\n      <td>1.0</td>\n      <td>7.0</td>\n      <td>21104.0</td>\n      <td>4.738438</td>\n      <td>33.169067</td>\n      <td>1.0</td>\n    </tr>\n    <tr>\n      <th>Villarrasa</th>\n      <td>147.0</td>\n      <td>4.0</td>\n      <td>7.0</td>\n      <td>2211.0</td>\n      <td>180.913614</td>\n      <td>316.598824</td>\n      <td>1.0</td>\n    </tr>\n    <tr>\n      <th>Cortegana</th>\n      <td>193.0</td>\n      <td>1.0</td>\n      <td>1.0</td>\n      <td>4602.0</td>\n      <td>21.729683</td>\n      <td>21.729683</td>\n      <td>NaN</td>\n    </tr>\n    <tr>\n      <th>Cumbres de San Bartolomé</th>\n      <td>8.0</td>\n      <td>3.0</td>\n      <td>3.0</td>\n      <td>376.0</td>\n      <td>797.872340</td>\n      <td>797.872340</td>\n      <td>NaN</td>\n    </tr>\n  </tbody>\n</table>\n</div>"
     },
     "metadata": {},
     "execution_count": 15
    }
   ],
   "source": [
    "# Nuevos casos desde la última captura\n",
    "tabla[tabla['Diferencia PDIA'] != 0].sort_values('Diferencia PDIA', ascending=False)"
   ]
  },
  {
   "cell_type": "code",
   "execution_count": 16,
   "metadata": {},
   "outputs": [],
   "source": [
    "if tabla[tabla['Diferencia PDIA'] != 0]['Diferencia PDIA'].sum() != 0:\n",
    "  # Save to csv\n",
    "  tabla.to_csv('covid_huelva.csv', encoding='utf-8', header=True, index=True)  "
   ]
  },
  {
   "cell_type": "code",
   "execution_count": 17,
   "metadata": {},
   "outputs": [
    {
     "output_type": "execute_result",
     "data": {
      "text/plain": [
       "Medida                             Confirmados PDIA  Confirmados PDIA 7 días  \\\n",
       "Lugar de residencia                                                            \n",
       "Cumbres Mayores                                43.0                     18.0   \n",
       "Almonte                                      1415.0                    107.0   \n",
       "Rociana del Condado                           489.0                     32.0   \n",
       "Santa Ana la Real                               9.0                      4.0   \n",
       "Cumbres de San Bartolomé                        8.0                      3.0   \n",
       "Cartaya                                      1234.0                     38.0   \n",
       "Galaroza                                       24.0                      8.0   \n",
       "Almonaster la Real                             63.0                      6.0   \n",
       "Lucena del Puerto                             191.0                      4.0   \n",
       "San Bartolomé de la Torre                     282.0                      7.0   \n",
       "Condado-Campiña                              8587.0                    300.0   \n",
       "Moguer                                       1046.0                     46.0   \n",
       "Granado (El)                                   38.0                      2.0   \n",
       "Palos de la Frontera                          563.0                     12.0   \n",
       "Bollullos Par del Condado                     760.0                     28.0   \n",
       "Villarrasa                                    147.0                      4.0   \n",
       "Aracena                                       502.0                      7.0   \n",
       "Huelva                                      27800.0                    582.0   \n",
       "Almendro (El)                                  36.0                      1.0   \n",
       "Bonares                                       233.0                      9.0   \n",
       "Beas                                          175.0                      3.0   \n",
       "Niebla                                        191.0                      4.0   \n",
       "San Juan del Puerto                           423.0                     15.0   \n",
       "Huelva (capital)                             7215.0                    142.0   \n",
       "Minas de Riotinto                             107.0                      1.0   \n",
       "Huelva-Costa                                16318.0                    219.0   \n",
       "Palma del Condado (La)                       1025.0                     12.0   \n",
       "Sierra de Huelva-Andévalo Central            2479.0                     57.0   \n",
       "Valverde del Camino                           457.0                      8.0   \n",
       "Fuenteheridos                                   6.0                      1.0   \n",
       "Gibraleón                                     572.0                     15.0   \n",
       "Aljaraque                                     986.0                     10.0   \n",
       "Punta Umbría                                  693.0                      9.0   \n",
       "Lepe                                         2061.0                      6.0   \n",
       "Villalba del Alcor                            471.0                      1.0   \n",
       "Isla Cristina                                2028.0                     10.0   \n",
       "Escacena del Campo                            143.0                      1.0   \n",
       "Ayamonte                                     1262.0                      1.0   \n",
       "Cortegana                                     193.0                      1.0   \n",
       "\n",
       "Medida                             Confirmados PDIA 14 días  Población  \\\n",
       "Lugar de residencia                                                      \n",
       "Cumbres Mayores                                        18.0     1749.0   \n",
       "Almonte                                               246.0    24507.0   \n",
       "Rociana del Condado                                    69.0     7939.0   \n",
       "Santa Ana la Real                                       4.0      475.0   \n",
       "Cumbres de San Bartolomé                                3.0      376.0   \n",
       "Cartaya                                               126.0    20083.0   \n",
       "Galaroza                                                8.0     1382.0   \n",
       "Almonaster la Real                                      9.0     1788.0   \n",
       "Lucena del Puerto                                      15.0     3261.0   \n",
       "San Bartolomé de la Torre                              16.0     3761.0   \n",
       "Condado-Campiña                                       638.0   156231.0   \n",
       "Moguer                                                 89.0    21867.0   \n",
       "Granado (El)                                            2.0      532.0   \n",
       "Palos de la Frontera                                   44.0    11742.0   \n",
       "Bollullos Par del Condado                              53.0    14387.0   \n",
       "Villarrasa                                              7.0     2211.0   \n",
       "Aracena                                                24.0     8255.0   \n",
       "Huelva                                               1262.0   513170.0   \n",
       "Almendro (El)                                           2.0      840.0   \n",
       "Bonares                                                14.0     6060.0   \n",
       "Beas                                                   10.0     4341.0   \n",
       "Niebla                                                  9.0     4116.0   \n",
       "San Juan del Puerto                                    20.0     9411.0   \n",
       "Huelva (capital)                                      283.0   143837.0   \n",
       "Minas de Riotinto                                       7.0     3812.0   \n",
       "Huelva-Costa                                          501.0   289548.0   \n",
       "Palma del Condado (La)                                 18.0    10801.0   \n",
       "Sierra de Huelva-Andévalo Central                     106.0    67391.0   \n",
       "Valverde del Camino                                    20.0    12750.0   \n",
       "Fuenteheridos                                           1.0      709.0   \n",
       "Gibraleón                                              17.0    12737.0   \n",
       "Aljaraque                                              26.0    21474.0   \n",
       "Punta Umbría                                           13.0    15355.0   \n",
       "Lepe                                                   23.0    27880.0   \n",
       "Villalba del Alcor                                      2.0     3366.0   \n",
       "Isla Cristina                                          12.0    21393.0   \n",
       "Escacena del Campo                                      1.0     2287.0   \n",
       "Ayamonte                                                7.0    21104.0   \n",
       "Cortegana                                               1.0     4602.0   \n",
       "\n",
       "Medida                                   tasa7       tasa14  Diferencia PDIA  \n",
       "Lugar de residencia                                                           \n",
       "Cumbres Mayores                    1029.159520  1029.159520             10.0  \n",
       "Almonte                             436.609948  1003.794834             50.0  \n",
       "Rociana del Condado                 403.073435   869.127094             14.0  \n",
       "Santa Ana la Real                   842.105263   842.105263              3.0  \n",
       "Cumbres de San Bartolomé            797.872340   797.872340              NaN  \n",
       "Cartaya                             189.214759   627.396305             13.0  \n",
       "Galaroza                            578.871201   578.871201              6.0  \n",
       "Almonaster la Real                  335.570470   503.355705              1.0  \n",
       "Lucena del Puerto                   122.661760   459.981601              0.0  \n",
       "San Bartolomé de la Torre           186.120713   425.418772              0.0  \n",
       "Condado-Campiña                     192.023350   408.369658            119.0  \n",
       "Moguer                              210.362647   407.005991             20.0  \n",
       "Granado (El)                        375.939850   375.939850              1.0  \n",
       "Palos de la Frontera                102.197241   374.723216              3.0  \n",
       "Bollullos Par del Condado           194.620143   368.388128             14.0  \n",
       "Villarrasa                          180.913614   316.598824              1.0  \n",
       "Aracena                              84.797093   290.732889              3.0  \n",
       "Huelva                              113.412709   245.922404            217.0  \n",
       "Almendro (El)                       119.047619   238.095238              0.0  \n",
       "Bonares                             148.514851   231.023102              4.0  \n",
       "Beas                                 69.108500   230.361668              1.0  \n",
       "Niebla                               97.181730   218.658892              2.0  \n",
       "San Juan del Puerto                 159.387950   212.517267              0.0  \n",
       "Huelva (capital)                     98.722860   196.750488             35.0  \n",
       "Minas de Riotinto                    26.232949   183.630640              0.0  \n",
       "Huelva-Costa                         75.635128   173.028306             67.0  \n",
       "Palma del Condado (La)              111.100824   166.651236              3.0  \n",
       "Sierra de Huelva-Andévalo Central    84.581027   157.291033             31.0  \n",
       "Valverde del Camino                  62.745098   156.862745              4.0  \n",
       "Fuenteheridos                       141.043724   141.043724              0.0  \n",
       "Gibraleón                           117.767135   133.469420              7.0  \n",
       "Aljaraque                            46.567943   121.076651              5.0  \n",
       "Punta Umbría                         58.612830    84.662976              6.0  \n",
       "Lepe                                 21.520803    82.496413              2.0  \n",
       "Villalba del Alcor                   29.708853    59.417706              0.0  \n",
       "Isla Cristina                        46.744262    56.093115              4.0  \n",
       "Escacena del Campo                   43.725404    43.725404              0.0  \n",
       "Ayamonte                              4.738438    33.169067              1.0  \n",
       "Cortegana                            21.729683    21.729683              NaN  "
      ],
      "text/html": "<div>\n<style scoped>\n    .dataframe tbody tr th:only-of-type {\n        vertical-align: middle;\n    }\n\n    .dataframe tbody tr th {\n        vertical-align: top;\n    }\n\n    .dataframe thead th {\n        text-align: right;\n    }\n</style>\n<table border=\"1\" class=\"dataframe\">\n  <thead>\n    <tr style=\"text-align: right;\">\n      <th>Medida</th>\n      <th>Confirmados PDIA</th>\n      <th>Confirmados PDIA 7 días</th>\n      <th>Confirmados PDIA 14 días</th>\n      <th>Población</th>\n      <th>tasa7</th>\n      <th>tasa14</th>\n      <th>Diferencia PDIA</th>\n    </tr>\n    <tr>\n      <th>Lugar de residencia</th>\n      <th></th>\n      <th></th>\n      <th></th>\n      <th></th>\n      <th></th>\n      <th></th>\n      <th></th>\n    </tr>\n  </thead>\n  <tbody>\n    <tr>\n      <th>Cumbres Mayores</th>\n      <td>43.0</td>\n      <td>18.0</td>\n      <td>18.0</td>\n      <td>1749.0</td>\n      <td>1029.159520</td>\n      <td>1029.159520</td>\n      <td>10.0</td>\n    </tr>\n    <tr>\n      <th>Almonte</th>\n      <td>1415.0</td>\n      <td>107.0</td>\n      <td>246.0</td>\n      <td>24507.0</td>\n      <td>436.609948</td>\n      <td>1003.794834</td>\n      <td>50.0</td>\n    </tr>\n    <tr>\n      <th>Rociana del Condado</th>\n      <td>489.0</td>\n      <td>32.0</td>\n      <td>69.0</td>\n      <td>7939.0</td>\n      <td>403.073435</td>\n      <td>869.127094</td>\n      <td>14.0</td>\n    </tr>\n    <tr>\n      <th>Santa Ana la Real</th>\n      <td>9.0</td>\n      <td>4.0</td>\n      <td>4.0</td>\n      <td>475.0</td>\n      <td>842.105263</td>\n      <td>842.105263</td>\n      <td>3.0</td>\n    </tr>\n    <tr>\n      <th>Cumbres de San Bartolomé</th>\n      <td>8.0</td>\n      <td>3.0</td>\n      <td>3.0</td>\n      <td>376.0</td>\n      <td>797.872340</td>\n      <td>797.872340</td>\n      <td>NaN</td>\n    </tr>\n    <tr>\n      <th>Cartaya</th>\n      <td>1234.0</td>\n      <td>38.0</td>\n      <td>126.0</td>\n      <td>20083.0</td>\n      <td>189.214759</td>\n      <td>627.396305</td>\n      <td>13.0</td>\n    </tr>\n    <tr>\n      <th>Galaroza</th>\n      <td>24.0</td>\n      <td>8.0</td>\n      <td>8.0</td>\n      <td>1382.0</td>\n      <td>578.871201</td>\n      <td>578.871201</td>\n      <td>6.0</td>\n    </tr>\n    <tr>\n      <th>Almonaster la Real</th>\n      <td>63.0</td>\n      <td>6.0</td>\n      <td>9.0</td>\n      <td>1788.0</td>\n      <td>335.570470</td>\n      <td>503.355705</td>\n      <td>1.0</td>\n    </tr>\n    <tr>\n      <th>Lucena del Puerto</th>\n      <td>191.0</td>\n      <td>4.0</td>\n      <td>15.0</td>\n      <td>3261.0</td>\n      <td>122.661760</td>\n      <td>459.981601</td>\n      <td>0.0</td>\n    </tr>\n    <tr>\n      <th>San Bartolomé de la Torre</th>\n      <td>282.0</td>\n      <td>7.0</td>\n      <td>16.0</td>\n      <td>3761.0</td>\n      <td>186.120713</td>\n      <td>425.418772</td>\n      <td>0.0</td>\n    </tr>\n    <tr>\n      <th>Condado-Campiña</th>\n      <td>8587.0</td>\n      <td>300.0</td>\n      <td>638.0</td>\n      <td>156231.0</td>\n      <td>192.023350</td>\n      <td>408.369658</td>\n      <td>119.0</td>\n    </tr>\n    <tr>\n      <th>Moguer</th>\n      <td>1046.0</td>\n      <td>46.0</td>\n      <td>89.0</td>\n      <td>21867.0</td>\n      <td>210.362647</td>\n      <td>407.005991</td>\n      <td>20.0</td>\n    </tr>\n    <tr>\n      <th>Granado (El)</th>\n      <td>38.0</td>\n      <td>2.0</td>\n      <td>2.0</td>\n      <td>532.0</td>\n      <td>375.939850</td>\n      <td>375.939850</td>\n      <td>1.0</td>\n    </tr>\n    <tr>\n      <th>Palos de la Frontera</th>\n      <td>563.0</td>\n      <td>12.0</td>\n      <td>44.0</td>\n      <td>11742.0</td>\n      <td>102.197241</td>\n      <td>374.723216</td>\n      <td>3.0</td>\n    </tr>\n    <tr>\n      <th>Bollullos Par del Condado</th>\n      <td>760.0</td>\n      <td>28.0</td>\n      <td>53.0</td>\n      <td>14387.0</td>\n      <td>194.620143</td>\n      <td>368.388128</td>\n      <td>14.0</td>\n    </tr>\n    <tr>\n      <th>Villarrasa</th>\n      <td>147.0</td>\n      <td>4.0</td>\n      <td>7.0</td>\n      <td>2211.0</td>\n      <td>180.913614</td>\n      <td>316.598824</td>\n      <td>1.0</td>\n    </tr>\n    <tr>\n      <th>Aracena</th>\n      <td>502.0</td>\n      <td>7.0</td>\n      <td>24.0</td>\n      <td>8255.0</td>\n      <td>84.797093</td>\n      <td>290.732889</td>\n      <td>3.0</td>\n    </tr>\n    <tr>\n      <th>Huelva</th>\n      <td>27800.0</td>\n      <td>582.0</td>\n      <td>1262.0</td>\n      <td>513170.0</td>\n      <td>113.412709</td>\n      <td>245.922404</td>\n      <td>217.0</td>\n    </tr>\n    <tr>\n      <th>Almendro (El)</th>\n      <td>36.0</td>\n      <td>1.0</td>\n      <td>2.0</td>\n      <td>840.0</td>\n      <td>119.047619</td>\n      <td>238.095238</td>\n      <td>0.0</td>\n    </tr>\n    <tr>\n      <th>Bonares</th>\n      <td>233.0</td>\n      <td>9.0</td>\n      <td>14.0</td>\n      <td>6060.0</td>\n      <td>148.514851</td>\n      <td>231.023102</td>\n      <td>4.0</td>\n    </tr>\n    <tr>\n      <th>Beas</th>\n      <td>175.0</td>\n      <td>3.0</td>\n      <td>10.0</td>\n      <td>4341.0</td>\n      <td>69.108500</td>\n      <td>230.361668</td>\n      <td>1.0</td>\n    </tr>\n    <tr>\n      <th>Niebla</th>\n      <td>191.0</td>\n      <td>4.0</td>\n      <td>9.0</td>\n      <td>4116.0</td>\n      <td>97.181730</td>\n      <td>218.658892</td>\n      <td>2.0</td>\n    </tr>\n    <tr>\n      <th>San Juan del Puerto</th>\n      <td>423.0</td>\n      <td>15.0</td>\n      <td>20.0</td>\n      <td>9411.0</td>\n      <td>159.387950</td>\n      <td>212.517267</td>\n      <td>0.0</td>\n    </tr>\n    <tr>\n      <th>Huelva (capital)</th>\n      <td>7215.0</td>\n      <td>142.0</td>\n      <td>283.0</td>\n      <td>143837.0</td>\n      <td>98.722860</td>\n      <td>196.750488</td>\n      <td>35.0</td>\n    </tr>\n    <tr>\n      <th>Minas de Riotinto</th>\n      <td>107.0</td>\n      <td>1.0</td>\n      <td>7.0</td>\n      <td>3812.0</td>\n      <td>26.232949</td>\n      <td>183.630640</td>\n      <td>0.0</td>\n    </tr>\n    <tr>\n      <th>Huelva-Costa</th>\n      <td>16318.0</td>\n      <td>219.0</td>\n      <td>501.0</td>\n      <td>289548.0</td>\n      <td>75.635128</td>\n      <td>173.028306</td>\n      <td>67.0</td>\n    </tr>\n    <tr>\n      <th>Palma del Condado (La)</th>\n      <td>1025.0</td>\n      <td>12.0</td>\n      <td>18.0</td>\n      <td>10801.0</td>\n      <td>111.100824</td>\n      <td>166.651236</td>\n      <td>3.0</td>\n    </tr>\n    <tr>\n      <th>Sierra de Huelva-Andévalo Central</th>\n      <td>2479.0</td>\n      <td>57.0</td>\n      <td>106.0</td>\n      <td>67391.0</td>\n      <td>84.581027</td>\n      <td>157.291033</td>\n      <td>31.0</td>\n    </tr>\n    <tr>\n      <th>Valverde del Camino</th>\n      <td>457.0</td>\n      <td>8.0</td>\n      <td>20.0</td>\n      <td>12750.0</td>\n      <td>62.745098</td>\n      <td>156.862745</td>\n      <td>4.0</td>\n    </tr>\n    <tr>\n      <th>Fuenteheridos</th>\n      <td>6.0</td>\n      <td>1.0</td>\n      <td>1.0</td>\n      <td>709.0</td>\n      <td>141.043724</td>\n      <td>141.043724</td>\n      <td>0.0</td>\n    </tr>\n    <tr>\n      <th>Gibraleón</th>\n      <td>572.0</td>\n      <td>15.0</td>\n      <td>17.0</td>\n      <td>12737.0</td>\n      <td>117.767135</td>\n      <td>133.469420</td>\n      <td>7.0</td>\n    </tr>\n    <tr>\n      <th>Aljaraque</th>\n      <td>986.0</td>\n      <td>10.0</td>\n      <td>26.0</td>\n      <td>21474.0</td>\n      <td>46.567943</td>\n      <td>121.076651</td>\n      <td>5.0</td>\n    </tr>\n    <tr>\n      <th>Punta Umbría</th>\n      <td>693.0</td>\n      <td>9.0</td>\n      <td>13.0</td>\n      <td>15355.0</td>\n      <td>58.612830</td>\n      <td>84.662976</td>\n      <td>6.0</td>\n    </tr>\n    <tr>\n      <th>Lepe</th>\n      <td>2061.0</td>\n      <td>6.0</td>\n      <td>23.0</td>\n      <td>27880.0</td>\n      <td>21.520803</td>\n      <td>82.496413</td>\n      <td>2.0</td>\n    </tr>\n    <tr>\n      <th>Villalba del Alcor</th>\n      <td>471.0</td>\n      <td>1.0</td>\n      <td>2.0</td>\n      <td>3366.0</td>\n      <td>29.708853</td>\n      <td>59.417706</td>\n      <td>0.0</td>\n    </tr>\n    <tr>\n      <th>Isla Cristina</th>\n      <td>2028.0</td>\n      <td>10.0</td>\n      <td>12.0</td>\n      <td>21393.0</td>\n      <td>46.744262</td>\n      <td>56.093115</td>\n      <td>4.0</td>\n    </tr>\n    <tr>\n      <th>Escacena del Campo</th>\n      <td>143.0</td>\n      <td>1.0</td>\n      <td>1.0</td>\n      <td>2287.0</td>\n      <td>43.725404</td>\n      <td>43.725404</td>\n      <td>0.0</td>\n    </tr>\n    <tr>\n      <th>Ayamonte</th>\n      <td>1262.0</td>\n      <td>1.0</td>\n      <td>7.0</td>\n      <td>21104.0</td>\n      <td>4.738438</td>\n      <td>33.169067</td>\n      <td>1.0</td>\n    </tr>\n    <tr>\n      <th>Cortegana</th>\n      <td>193.0</td>\n      <td>1.0</td>\n      <td>1.0</td>\n      <td>4602.0</td>\n      <td>21.729683</td>\n      <td>21.729683</td>\n      <td>NaN</td>\n    </tr>\n  </tbody>\n</table>\n</div>"
     },
     "metadata": {},
     "execution_count": 17
    }
   ],
   "source": [
    "tabla.sort_values('tasa14', ascending=False)"
   ]
  },
  {
   "cell_type": "code",
   "execution_count": 18,
   "metadata": {},
   "outputs": [
    {
     "output_type": "execute_result",
     "data": {
      "text/plain": [
       "Medida                             Confirmados PDIA  Confirmados PDIA 7 días  \\\n",
       "Lugar de residencia                                                            \n",
       "Ayamonte                                     1262.0                      1.0   \n",
       "Minas de Riotinto                             107.0                      1.0   \n",
       "Lepe                                         2061.0                      6.0   \n",
       "Lucena del Puerto                             191.0                      4.0   \n",
       "Palos de la Frontera                          563.0                     12.0   \n",
       "Aracena                                       502.0                      7.0   \n",
       "Beas                                          175.0                      3.0   \n",
       "Cartaya                                      1234.0                     38.0   \n",
       "Aljaraque                                     986.0                     10.0   \n",
       "Valverde del Camino                           457.0                      8.0   \n",
       "Almonte                                      1415.0                    107.0   \n",
       "Huelva-Costa                                16318.0                    219.0   \n",
       "San Bartolomé de la Torre                     282.0                      7.0   \n",
       "Niebla                                        191.0                      4.0   \n",
       "Huelva                                      27800.0                    582.0   \n",
       "Rociana del Condado                           489.0                     32.0   \n",
       "Condado-Campiña                              8587.0                    300.0   \n",
       "Almendro (El)                                  36.0                      1.0   \n",
       "Villalba del Alcor                            471.0                      1.0   \n",
       "Huelva (capital)                             7215.0                    142.0   \n",
       "Moguer                                       1046.0                     46.0   \n",
       "Bollullos Par del Condado                     760.0                     28.0   \n",
       "Sierra de Huelva-Andévalo Central            2479.0                     57.0   \n",
       "Villarrasa                                    147.0                      4.0   \n",
       "Bonares                                       233.0                      9.0   \n",
       "Palma del Condado (La)                       1025.0                     12.0   \n",
       "Almonaster la Real                             63.0                      6.0   \n",
       "Punta Umbría                                  693.0                      9.0   \n",
       "San Juan del Puerto                           423.0                     15.0   \n",
       "Isla Cristina                                2028.0                     10.0   \n",
       "Gibraleón                                     572.0                     15.0   \n",
       "Cortegana                                     193.0                      1.0   \n",
       "Escacena del Campo                            143.0                      1.0   \n",
       "Cumbres de San Bartolomé                        8.0                      3.0   \n",
       "Granado (El)                                   38.0                      2.0   \n",
       "Santa Ana la Real                               9.0                      4.0   \n",
       "Galaroza                                       24.0                      8.0   \n",
       "Cumbres Mayores                                43.0                     18.0   \n",
       "Fuenteheridos                                   6.0                      1.0   \n",
       "\n",
       "Medida                             Confirmados PDIA 14 días  Población  \\\n",
       "Lugar de residencia                                                      \n",
       "Ayamonte                                                7.0    21104.0   \n",
       "Minas de Riotinto                                       7.0     3812.0   \n",
       "Lepe                                                   23.0    27880.0   \n",
       "Lucena del Puerto                                      15.0     3261.0   \n",
       "Palos de la Frontera                                   44.0    11742.0   \n",
       "Aracena                                                24.0     8255.0   \n",
       "Beas                                                   10.0     4341.0   \n",
       "Cartaya                                               126.0    20083.0   \n",
       "Aljaraque                                              26.0    21474.0   \n",
       "Valverde del Camino                                    20.0    12750.0   \n",
       "Almonte                                               246.0    24507.0   \n",
       "Huelva-Costa                                          501.0   289548.0   \n",
       "San Bartolomé de la Torre                              16.0     3761.0   \n",
       "Niebla                                                  9.0     4116.0   \n",
       "Huelva                                               1262.0   513170.0   \n",
       "Rociana del Condado                                    69.0     7939.0   \n",
       "Condado-Campiña                                       638.0   156231.0   \n",
       "Almendro (El)                                           2.0      840.0   \n",
       "Villalba del Alcor                                      2.0     3366.0   \n",
       "Huelva (capital)                                      283.0   143837.0   \n",
       "Moguer                                                 89.0    21867.0   \n",
       "Bollullos Par del Condado                              53.0    14387.0   \n",
       "Sierra de Huelva-Andévalo Central                     106.0    67391.0   \n",
       "Villarrasa                                              7.0     2211.0   \n",
       "Bonares                                                14.0     6060.0   \n",
       "Palma del Condado (La)                                 18.0    10801.0   \n",
       "Almonaster la Real                                      9.0     1788.0   \n",
       "Punta Umbría                                           13.0    15355.0   \n",
       "San Juan del Puerto                                    20.0     9411.0   \n",
       "Isla Cristina                                          12.0    21393.0   \n",
       "Gibraleón                                              17.0    12737.0   \n",
       "Cortegana                                               1.0     4602.0   \n",
       "Escacena del Campo                                      1.0     2287.0   \n",
       "Cumbres de San Bartolomé                                3.0      376.0   \n",
       "Granado (El)                                            2.0      532.0   \n",
       "Santa Ana la Real                                       4.0      475.0   \n",
       "Galaroza                                                8.0     1382.0   \n",
       "Cumbres Mayores                                        18.0     1749.0   \n",
       "Fuenteheridos                                           1.0      709.0   \n",
       "\n",
       "Medida                                   tasa7       tasa14  Diferencia PDIA  \\\n",
       "Lugar de residencia                                                            \n",
       "Ayamonte                              4.738438    33.169067              1.0   \n",
       "Minas de Riotinto                    26.232949   183.630640              0.0   \n",
       "Lepe                                 21.520803    82.496413              2.0   \n",
       "Lucena del Puerto                   122.661760   459.981601              0.0   \n",
       "Palos de la Frontera                102.197241   374.723216              3.0   \n",
       "Aracena                              84.797093   290.732889              3.0   \n",
       "Beas                                 69.108500   230.361668              1.0   \n",
       "Cartaya                             189.214759   627.396305             13.0   \n",
       "Aljaraque                            46.567943   121.076651              5.0   \n",
       "Valverde del Camino                  62.745098   156.862745              4.0   \n",
       "Almonte                             436.609948  1003.794834             50.0   \n",
       "Huelva-Costa                         75.635128   173.028306             67.0   \n",
       "San Bartolomé de la Torre           186.120713   425.418772              0.0   \n",
       "Niebla                               97.181730   218.658892              2.0   \n",
       "Huelva                              113.412709   245.922404            217.0   \n",
       "Rociana del Condado                 403.073435   869.127094             14.0   \n",
       "Condado-Campiña                     192.023350   408.369658            119.0   \n",
       "Almendro (El)                       119.047619   238.095238              0.0   \n",
       "Villalba del Alcor                   29.708853    59.417706              0.0   \n",
       "Huelva (capital)                     98.722860   196.750488             35.0   \n",
       "Moguer                              210.362647   407.005991             20.0   \n",
       "Bollullos Par del Condado           194.620143   368.388128             14.0   \n",
       "Sierra de Huelva-Andévalo Central    84.581027   157.291033             31.0   \n",
       "Villarrasa                          180.913614   316.598824              1.0   \n",
       "Bonares                             148.514851   231.023102              4.0   \n",
       "Palma del Condado (La)              111.100824   166.651236              3.0   \n",
       "Almonaster la Real                  335.570470   503.355705              1.0   \n",
       "Punta Umbría                         58.612830    84.662976              6.0   \n",
       "San Juan del Puerto                 159.387950   212.517267              0.0   \n",
       "Isla Cristina                        46.744262    56.093115              4.0   \n",
       "Gibraleón                           117.767135   133.469420              7.0   \n",
       "Cortegana                            21.729683    21.729683              0.0   \n",
       "Escacena del Campo                   43.725404    43.725404              0.0   \n",
       "Cumbres de San Bartolomé            797.872340   797.872340              0.0   \n",
       "Granado (El)                        375.939850   375.939850              1.0   \n",
       "Santa Ana la Real                   842.105263   842.105263              3.0   \n",
       "Galaroza                            578.871201   578.871201              6.0   \n",
       "Cumbres Mayores                    1029.159520  1029.159520             10.0   \n",
       "Fuenteheridos                       141.043724   141.043724              0.0   \n",
       "\n",
       "Medida                                 7/14  \n",
       "Lugar de residencia                          \n",
       "Ayamonte                           0.142857  \n",
       "Minas de Riotinto                  0.142857  \n",
       "Lepe                               0.260870  \n",
       "Lucena del Puerto                  0.266667  \n",
       "Palos de la Frontera               0.272727  \n",
       "Aracena                            0.291667  \n",
       "Beas                               0.300000  \n",
       "Cartaya                            0.301587  \n",
       "Aljaraque                          0.384615  \n",
       "Valverde del Camino                0.400000  \n",
       "Almonte                            0.434959  \n",
       "Huelva-Costa                       0.437126  \n",
       "San Bartolomé de la Torre          0.437500  \n",
       "Niebla                             0.444444  \n",
       "Huelva                             0.461173  \n",
       "Rociana del Condado                0.463768  \n",
       "Condado-Campiña                    0.470219  \n",
       "Almendro (El)                      0.500000  \n",
       "Villalba del Alcor                 0.500000  \n",
       "Huelva (capital)                   0.501767  \n",
       "Moguer                             0.516854  \n",
       "Bollullos Par del Condado          0.528302  \n",
       "Sierra de Huelva-Andévalo Central  0.537736  \n",
       "Villarrasa                         0.571429  \n",
       "Bonares                            0.642857  \n",
       "Palma del Condado (La)             0.666667  \n",
       "Almonaster la Real                 0.666667  \n",
       "Punta Umbría                       0.692308  \n",
       "San Juan del Puerto                0.750000  \n",
       "Isla Cristina                      0.833333  \n",
       "Gibraleón                          0.882353  \n",
       "Cortegana                          1.000000  \n",
       "Escacena del Campo                 1.000000  \n",
       "Cumbres de San Bartolomé           1.000000  \n",
       "Granado (El)                       1.000000  \n",
       "Santa Ana la Real                  1.000000  \n",
       "Galaroza                           1.000000  \n",
       "Cumbres Mayores                    1.000000  \n",
       "Fuenteheridos                      1.000000  "
      ],
      "text/html": "<div>\n<style scoped>\n    .dataframe tbody tr th:only-of-type {\n        vertical-align: middle;\n    }\n\n    .dataframe tbody tr th {\n        vertical-align: top;\n    }\n\n    .dataframe thead th {\n        text-align: right;\n    }\n</style>\n<table border=\"1\" class=\"dataframe\">\n  <thead>\n    <tr style=\"text-align: right;\">\n      <th>Medida</th>\n      <th>Confirmados PDIA</th>\n      <th>Confirmados PDIA 7 días</th>\n      <th>Confirmados PDIA 14 días</th>\n      <th>Población</th>\n      <th>tasa7</th>\n      <th>tasa14</th>\n      <th>Diferencia PDIA</th>\n      <th>7/14</th>\n    </tr>\n    <tr>\n      <th>Lugar de residencia</th>\n      <th></th>\n      <th></th>\n      <th></th>\n      <th></th>\n      <th></th>\n      <th></th>\n      <th></th>\n      <th></th>\n    </tr>\n  </thead>\n  <tbody>\n    <tr>\n      <th>Ayamonte</th>\n      <td>1262.0</td>\n      <td>1.0</td>\n      <td>7.0</td>\n      <td>21104.0</td>\n      <td>4.738438</td>\n      <td>33.169067</td>\n      <td>1.0</td>\n      <td>0.142857</td>\n    </tr>\n    <tr>\n      <th>Minas de Riotinto</th>\n      <td>107.0</td>\n      <td>1.0</td>\n      <td>7.0</td>\n      <td>3812.0</td>\n      <td>26.232949</td>\n      <td>183.630640</td>\n      <td>0.0</td>\n      <td>0.142857</td>\n    </tr>\n    <tr>\n      <th>Lepe</th>\n      <td>2061.0</td>\n      <td>6.0</td>\n      <td>23.0</td>\n      <td>27880.0</td>\n      <td>21.520803</td>\n      <td>82.496413</td>\n      <td>2.0</td>\n      <td>0.260870</td>\n    </tr>\n    <tr>\n      <th>Lucena del Puerto</th>\n      <td>191.0</td>\n      <td>4.0</td>\n      <td>15.0</td>\n      <td>3261.0</td>\n      <td>122.661760</td>\n      <td>459.981601</td>\n      <td>0.0</td>\n      <td>0.266667</td>\n    </tr>\n    <tr>\n      <th>Palos de la Frontera</th>\n      <td>563.0</td>\n      <td>12.0</td>\n      <td>44.0</td>\n      <td>11742.0</td>\n      <td>102.197241</td>\n      <td>374.723216</td>\n      <td>3.0</td>\n      <td>0.272727</td>\n    </tr>\n    <tr>\n      <th>Aracena</th>\n      <td>502.0</td>\n      <td>7.0</td>\n      <td>24.0</td>\n      <td>8255.0</td>\n      <td>84.797093</td>\n      <td>290.732889</td>\n      <td>3.0</td>\n      <td>0.291667</td>\n    </tr>\n    <tr>\n      <th>Beas</th>\n      <td>175.0</td>\n      <td>3.0</td>\n      <td>10.0</td>\n      <td>4341.0</td>\n      <td>69.108500</td>\n      <td>230.361668</td>\n      <td>1.0</td>\n      <td>0.300000</td>\n    </tr>\n    <tr>\n      <th>Cartaya</th>\n      <td>1234.0</td>\n      <td>38.0</td>\n      <td>126.0</td>\n      <td>20083.0</td>\n      <td>189.214759</td>\n      <td>627.396305</td>\n      <td>13.0</td>\n      <td>0.301587</td>\n    </tr>\n    <tr>\n      <th>Aljaraque</th>\n      <td>986.0</td>\n      <td>10.0</td>\n      <td>26.0</td>\n      <td>21474.0</td>\n      <td>46.567943</td>\n      <td>121.076651</td>\n      <td>5.0</td>\n      <td>0.384615</td>\n    </tr>\n    <tr>\n      <th>Valverde del Camino</th>\n      <td>457.0</td>\n      <td>8.0</td>\n      <td>20.0</td>\n      <td>12750.0</td>\n      <td>62.745098</td>\n      <td>156.862745</td>\n      <td>4.0</td>\n      <td>0.400000</td>\n    </tr>\n    <tr>\n      <th>Almonte</th>\n      <td>1415.0</td>\n      <td>107.0</td>\n      <td>246.0</td>\n      <td>24507.0</td>\n      <td>436.609948</td>\n      <td>1003.794834</td>\n      <td>50.0</td>\n      <td>0.434959</td>\n    </tr>\n    <tr>\n      <th>Huelva-Costa</th>\n      <td>16318.0</td>\n      <td>219.0</td>\n      <td>501.0</td>\n      <td>289548.0</td>\n      <td>75.635128</td>\n      <td>173.028306</td>\n      <td>67.0</td>\n      <td>0.437126</td>\n    </tr>\n    <tr>\n      <th>San Bartolomé de la Torre</th>\n      <td>282.0</td>\n      <td>7.0</td>\n      <td>16.0</td>\n      <td>3761.0</td>\n      <td>186.120713</td>\n      <td>425.418772</td>\n      <td>0.0</td>\n      <td>0.437500</td>\n    </tr>\n    <tr>\n      <th>Niebla</th>\n      <td>191.0</td>\n      <td>4.0</td>\n      <td>9.0</td>\n      <td>4116.0</td>\n      <td>97.181730</td>\n      <td>218.658892</td>\n      <td>2.0</td>\n      <td>0.444444</td>\n    </tr>\n    <tr>\n      <th>Huelva</th>\n      <td>27800.0</td>\n      <td>582.0</td>\n      <td>1262.0</td>\n      <td>513170.0</td>\n      <td>113.412709</td>\n      <td>245.922404</td>\n      <td>217.0</td>\n      <td>0.461173</td>\n    </tr>\n    <tr>\n      <th>Rociana del Condado</th>\n      <td>489.0</td>\n      <td>32.0</td>\n      <td>69.0</td>\n      <td>7939.0</td>\n      <td>403.073435</td>\n      <td>869.127094</td>\n      <td>14.0</td>\n      <td>0.463768</td>\n    </tr>\n    <tr>\n      <th>Condado-Campiña</th>\n      <td>8587.0</td>\n      <td>300.0</td>\n      <td>638.0</td>\n      <td>156231.0</td>\n      <td>192.023350</td>\n      <td>408.369658</td>\n      <td>119.0</td>\n      <td>0.470219</td>\n    </tr>\n    <tr>\n      <th>Almendro (El)</th>\n      <td>36.0</td>\n      <td>1.0</td>\n      <td>2.0</td>\n      <td>840.0</td>\n      <td>119.047619</td>\n      <td>238.095238</td>\n      <td>0.0</td>\n      <td>0.500000</td>\n    </tr>\n    <tr>\n      <th>Villalba del Alcor</th>\n      <td>471.0</td>\n      <td>1.0</td>\n      <td>2.0</td>\n      <td>3366.0</td>\n      <td>29.708853</td>\n      <td>59.417706</td>\n      <td>0.0</td>\n      <td>0.500000</td>\n    </tr>\n    <tr>\n      <th>Huelva (capital)</th>\n      <td>7215.0</td>\n      <td>142.0</td>\n      <td>283.0</td>\n      <td>143837.0</td>\n      <td>98.722860</td>\n      <td>196.750488</td>\n      <td>35.0</td>\n      <td>0.501767</td>\n    </tr>\n    <tr>\n      <th>Moguer</th>\n      <td>1046.0</td>\n      <td>46.0</td>\n      <td>89.0</td>\n      <td>21867.0</td>\n      <td>210.362647</td>\n      <td>407.005991</td>\n      <td>20.0</td>\n      <td>0.516854</td>\n    </tr>\n    <tr>\n      <th>Bollullos Par del Condado</th>\n      <td>760.0</td>\n      <td>28.0</td>\n      <td>53.0</td>\n      <td>14387.0</td>\n      <td>194.620143</td>\n      <td>368.388128</td>\n      <td>14.0</td>\n      <td>0.528302</td>\n    </tr>\n    <tr>\n      <th>Sierra de Huelva-Andévalo Central</th>\n      <td>2479.0</td>\n      <td>57.0</td>\n      <td>106.0</td>\n      <td>67391.0</td>\n      <td>84.581027</td>\n      <td>157.291033</td>\n      <td>31.0</td>\n      <td>0.537736</td>\n    </tr>\n    <tr>\n      <th>Villarrasa</th>\n      <td>147.0</td>\n      <td>4.0</td>\n      <td>7.0</td>\n      <td>2211.0</td>\n      <td>180.913614</td>\n      <td>316.598824</td>\n      <td>1.0</td>\n      <td>0.571429</td>\n    </tr>\n    <tr>\n      <th>Bonares</th>\n      <td>233.0</td>\n      <td>9.0</td>\n      <td>14.0</td>\n      <td>6060.0</td>\n      <td>148.514851</td>\n      <td>231.023102</td>\n      <td>4.0</td>\n      <td>0.642857</td>\n    </tr>\n    <tr>\n      <th>Palma del Condado (La)</th>\n      <td>1025.0</td>\n      <td>12.0</td>\n      <td>18.0</td>\n      <td>10801.0</td>\n      <td>111.100824</td>\n      <td>166.651236</td>\n      <td>3.0</td>\n      <td>0.666667</td>\n    </tr>\n    <tr>\n      <th>Almonaster la Real</th>\n      <td>63.0</td>\n      <td>6.0</td>\n      <td>9.0</td>\n      <td>1788.0</td>\n      <td>335.570470</td>\n      <td>503.355705</td>\n      <td>1.0</td>\n      <td>0.666667</td>\n    </tr>\n    <tr>\n      <th>Punta Umbría</th>\n      <td>693.0</td>\n      <td>9.0</td>\n      <td>13.0</td>\n      <td>15355.0</td>\n      <td>58.612830</td>\n      <td>84.662976</td>\n      <td>6.0</td>\n      <td>0.692308</td>\n    </tr>\n    <tr>\n      <th>San Juan del Puerto</th>\n      <td>423.0</td>\n      <td>15.0</td>\n      <td>20.0</td>\n      <td>9411.0</td>\n      <td>159.387950</td>\n      <td>212.517267</td>\n      <td>0.0</td>\n      <td>0.750000</td>\n    </tr>\n    <tr>\n      <th>Isla Cristina</th>\n      <td>2028.0</td>\n      <td>10.0</td>\n      <td>12.0</td>\n      <td>21393.0</td>\n      <td>46.744262</td>\n      <td>56.093115</td>\n      <td>4.0</td>\n      <td>0.833333</td>\n    </tr>\n    <tr>\n      <th>Gibraleón</th>\n      <td>572.0</td>\n      <td>15.0</td>\n      <td>17.0</td>\n      <td>12737.0</td>\n      <td>117.767135</td>\n      <td>133.469420</td>\n      <td>7.0</td>\n      <td>0.882353</td>\n    </tr>\n    <tr>\n      <th>Cortegana</th>\n      <td>193.0</td>\n      <td>1.0</td>\n      <td>1.0</td>\n      <td>4602.0</td>\n      <td>21.729683</td>\n      <td>21.729683</td>\n      <td>0.0</td>\n      <td>1.000000</td>\n    </tr>\n    <tr>\n      <th>Escacena del Campo</th>\n      <td>143.0</td>\n      <td>1.0</td>\n      <td>1.0</td>\n      <td>2287.0</td>\n      <td>43.725404</td>\n      <td>43.725404</td>\n      <td>0.0</td>\n      <td>1.000000</td>\n    </tr>\n    <tr>\n      <th>Cumbres de San Bartolomé</th>\n      <td>8.0</td>\n      <td>3.0</td>\n      <td>3.0</td>\n      <td>376.0</td>\n      <td>797.872340</td>\n      <td>797.872340</td>\n      <td>0.0</td>\n      <td>1.000000</td>\n    </tr>\n    <tr>\n      <th>Granado (El)</th>\n      <td>38.0</td>\n      <td>2.0</td>\n      <td>2.0</td>\n      <td>532.0</td>\n      <td>375.939850</td>\n      <td>375.939850</td>\n      <td>1.0</td>\n      <td>1.000000</td>\n    </tr>\n    <tr>\n      <th>Santa Ana la Real</th>\n      <td>9.0</td>\n      <td>4.0</td>\n      <td>4.0</td>\n      <td>475.0</td>\n      <td>842.105263</td>\n      <td>842.105263</td>\n      <td>3.0</td>\n      <td>1.000000</td>\n    </tr>\n    <tr>\n      <th>Galaroza</th>\n      <td>24.0</td>\n      <td>8.0</td>\n      <td>8.0</td>\n      <td>1382.0</td>\n      <td>578.871201</td>\n      <td>578.871201</td>\n      <td>6.0</td>\n      <td>1.000000</td>\n    </tr>\n    <tr>\n      <th>Cumbres Mayores</th>\n      <td>43.0</td>\n      <td>18.0</td>\n      <td>18.0</td>\n      <td>1749.0</td>\n      <td>1029.159520</td>\n      <td>1029.159520</td>\n      <td>10.0</td>\n      <td>1.000000</td>\n    </tr>\n    <tr>\n      <th>Fuenteheridos</th>\n      <td>6.0</td>\n      <td>1.0</td>\n      <td>1.0</td>\n      <td>709.0</td>\n      <td>141.043724</td>\n      <td>141.043724</td>\n      <td>0.0</td>\n      <td>1.000000</td>\n    </tr>\n  </tbody>\n</table>\n</div>"
     },
     "metadata": {},
     "execution_count": 18
    }
   ],
   "source": [
    "# Peso de la tasa de la última semana en relación con la tasa a 14 días \n",
    "# Mejor cuanto menor. Valor 1 significa que no había casos antes de 7 días.\n",
    "tabla['7/14'] = tabla['tasa7'] / tabla['tasa14']\n",
    "tabla.fillna(0).sort_values('7/14', ascending=True)"
   ]
  },
  {
   "cell_type": "code",
   "execution_count": null,
   "metadata": {},
   "outputs": [],
   "source": []
  }
 ]
}