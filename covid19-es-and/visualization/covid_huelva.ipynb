{
 "metadata": {
  "language_info": {
   "codemirror_mode": {
    "name": "ipython",
    "version": 3
   },
   "file_extension": ".py",
   "mimetype": "text/x-python",
   "name": "python",
   "nbconvert_exporter": "python",
   "pygments_lexer": "ipython3",
   "version": "3.9.5"
  },
  "orig_nbformat": 2,
  "kernelspec": {
   "name": "python3",
   "display_name": "Python 3.9.5 64-bit"
  },
  "interpreter": {
   "hash": "31f2aee4e71d21fbe5cf8b01ff0e069b9275f58929596ceb00d14d90e3e16cd6"
  }
 },
 "nbformat": 4,
 "nbformat_minor": 2,
 "cells": [
  {
   "cell_type": "code",
   "execution_count": 1,
   "metadata": {},
   "outputs": [],
   "source": [
    "import pandas as pd\n",
    "pd.set_option('display.max_rows', None) # Print all rows"
   ]
  },
  {
   "cell_type": "code",
   "execution_count": 2,
   "metadata": {},
   "outputs": [],
   "source": [
    "# FIX SSL: CERTIFICATE_VERIFY_FAILED with Python3\n",
    "# https://stackoverflow.com/a/49174340\n",
    "import ssl\n",
    "\n",
    "ssl._create_default_https_context = ssl._create_unverified_context"
   ]
  },
  {
   "cell_type": "code",
   "execution_count": 3,
   "metadata": {},
   "outputs": [],
   "source": [
    "url = 'https://www.juntadeandalucia.es/institutodeestadisticaycartografia/badea/stpivot/stpivot/Print?cube=013d884c-cfc5-4c21-9e78-e26225682afd&type=3&foto=si&ejecutaDesde=&codConsulta=38668&consTipoVisua=JP'\n",
    "fields = ['Lugar de residencia', 'Medida', 'Valor']\n",
    "df = pd.read_csv(url, delimiter=';', usecols=fields, decimal=',')"
   ]
  },
  {
   "cell_type": "code",
   "execution_count": 4,
   "metadata": {},
   "outputs": [
    {
     "output_type": "execute_result",
     "data": {
      "text/plain": [
       "  Lugar de residencia                    Medida              Valor\n",
       "0              Huelva                 Población             513170\n",
       "1              Huelva          Confirmados PDIA              34173\n",
       "2              Huelva  Confirmados PDIA 14 días                920\n",
       "3              Huelva         Tasa PDIA 14 días  179,2778221641951\n",
       "4              Huelva   Confirmados PDIA 7 días                496\n",
       "5              Huelva        Total Confirmados               34359\n",
       "6              Huelva                   Curados              32401\n",
       "7              Huelva                Fallecidos                395"
      ],
      "text/html": "<div>\n<style scoped>\n    .dataframe tbody tr th:only-of-type {\n        vertical-align: middle;\n    }\n\n    .dataframe tbody tr th {\n        vertical-align: top;\n    }\n\n    .dataframe thead th {\n        text-align: right;\n    }\n</style>\n<table border=\"1\" class=\"dataframe\">\n  <thead>\n    <tr style=\"text-align: right;\">\n      <th></th>\n      <th>Lugar de residencia</th>\n      <th>Medida</th>\n      <th>Valor</th>\n    </tr>\n  </thead>\n  <tbody>\n    <tr>\n      <th>0</th>\n      <td>Huelva</td>\n      <td>Población</td>\n      <td>513170</td>\n    </tr>\n    <tr>\n      <th>1</th>\n      <td>Huelva</td>\n      <td>Confirmados PDIA</td>\n      <td>34173</td>\n    </tr>\n    <tr>\n      <th>2</th>\n      <td>Huelva</td>\n      <td>Confirmados PDIA 14 días</td>\n      <td>920</td>\n    </tr>\n    <tr>\n      <th>3</th>\n      <td>Huelva</td>\n      <td>Tasa PDIA 14 días</td>\n      <td>179,2778221641951</td>\n    </tr>\n    <tr>\n      <th>4</th>\n      <td>Huelva</td>\n      <td>Confirmados PDIA 7 días</td>\n      <td>496</td>\n    </tr>\n    <tr>\n      <th>5</th>\n      <td>Huelva</td>\n      <td>Total Confirmados</td>\n      <td>34359</td>\n    </tr>\n    <tr>\n      <th>6</th>\n      <td>Huelva</td>\n      <td>Curados</td>\n      <td>32401</td>\n    </tr>\n    <tr>\n      <th>7</th>\n      <td>Huelva</td>\n      <td>Fallecidos</td>\n      <td>395</td>\n    </tr>\n  </tbody>\n</table>\n</div>"
     },
     "metadata": {},
     "execution_count": 4
    }
   ],
   "source": [
    "df[df['Lugar de residencia'] == 'Huelva']"
   ]
  },
  {
   "cell_type": "code",
   "execution_count": 5,
   "metadata": {},
   "outputs": [],
   "source": [
    "df['Valor'] = pd.to_numeric(df['Valor'],errors='coerce')"
   ]
  },
  {
   "cell_type": "code",
   "execution_count": 6,
   "metadata": {},
   "outputs": [],
   "source": [
    "dfAnterior = pd.read_csv('covid_huelva.csv', index_col='Lugar de residencia')"
   ]
  },
  {
   "cell_type": "code",
   "execution_count": 7,
   "metadata": {
    "tags": []
   },
   "outputs": [
    {
     "output_type": "stream",
     "name": "stdout",
     "text": [
      "Confirmados PCR en la provincia de Huelva:  34173.0\n",
      "/tmp/ipykernel_73598/1396922249.py:2: UserWarning: Boolean Series key will be reindexed to match DataFrame index.\n",
      "  p = df[df['Lugar de residencia'] == 'Huelva'][df['Medida'] == 'Confirmados PDIA']['Valor'].values[0]\n"
     ]
    }
   ],
   "source": [
    "# Confirmados PCR provincia Huelva\n",
    "p = df[df['Lugar de residencia'] == 'Huelva'][df['Medida'] == 'Confirmados PDIA']['Valor'].values[0]\n",
    "print('Confirmados PCR en la provincia de Huelva: ', p)"
   ]
  },
  {
   "cell_type": "code",
   "execution_count": 8,
   "metadata": {
    "tags": []
   },
   "outputs": [
    {
     "output_type": "stream",
     "name": "stdout",
     "text": [
      "Confirmados PCR en Huelva capital:  9340.0\n",
      "/tmp/ipykernel_73598/2509482988.py:2: UserWarning: Boolean Series key will be reindexed to match DataFrame index.\n",
      "  c = df[df['Lugar de residencia'] == 'Huelva (capital)'][df['Medida'] == 'Confirmados PDIA']['Valor'].values[0]\n"
     ]
    }
   ],
   "source": [
    "# Confirmados PCR Huelva capitalpd\n",
    "c = df[df['Lugar de residencia'] == 'Huelva (capital)'][df['Medida'] == 'Confirmados PDIA']['Valor'].values[0]\n",
    "print('Confirmados PCR en Huelva capital: ', c)"
   ]
  },
  {
   "cell_type": "code",
   "execution_count": 9,
   "metadata": {
    "tags": []
   },
   "outputs": [
    {
     "output_type": "stream",
     "name": "stderr",
     "text": [
      "/tmp/ipykernel_73598/2690025379.py:1: UserWarning: Boolean Series key will be reindexed to match DataFrame index.\n  c7 = df[df['Lugar de residencia'] == 'Huelva (capital)'][df['Medida'] == 'Confirmados PDIA 7 días']['Valor'].values[0]\n/tmp/ipykernel_73598/2690025379.py:2: UserWarning: Boolean Series key will be reindexed to match DataFrame index.\n  c14 = df[df['Lugar de residencia'] == 'Huelva (capital)'][df['Medida'] == 'Confirmados PDIA 14 días']['Valor'].values[0]\n/tmp/ipykernel_73598/2690025379.py:3: UserWarning: Boolean Series key will be reindexed to match DataFrame index.\n  p = df[df['Lugar de residencia'] == 'Huelva (capital)'][df['Medida'] == 'Población']['Valor'].values[0]\n"
     ]
    }
   ],
   "source": [
    "c7 = df[df['Lugar de residencia'] == 'Huelva (capital)'][df['Medida'] == 'Confirmados PDIA 7 días']['Valor'].values[0]\n",
    "c14 = df[df['Lugar de residencia'] == 'Huelva (capital)'][df['Medida'] == 'Confirmados PDIA 14 días']['Valor'].values[0]\n",
    "p = df[df['Lugar de residencia'] == 'Huelva (capital)'][df['Medida'] == 'Población']['Valor'].values[0]"
   ]
  },
  {
   "cell_type": "code",
   "execution_count": 10,
   "metadata": {
    "tags": []
   },
   "outputs": [
    {
     "output_type": "stream",
     "name": "stdout",
     "text": [
      "Huelva (capital)\n\nUn positivo PCR cada 1240 personas en los últimos 7 días \n\nUn positivo PCR cada 587 personas en los últimos 14 días\n"
     ]
    }
   ],
   "source": [
    "print('Huelva (capital)\\n')\n",
    "#print('Confirmados PCR 7 días x 1,000 habitantes: ', f\"{c7/(p/1000):.5f}\")\n",
    "print('Un positivo PCR cada', f\"{p/c7:.0f}\", 'personas en los últimos 7 días', '\\n')\n",
    "#print('Confirmados PCR 14 días x 1,000 habitantes: ', f\"{c14/(p/1000):.5f}\")\n",
    "print('Un positivo PCR cada', f\"{p/c14:.0f}\", 'personas en los últimos 14 días')"
   ]
  },
  {
   "cell_type": "code",
   "execution_count": 11,
   "metadata": {},
   "outputs": [],
   "source": [
    "filtro = ((df['Medida'] == 'Confirmados PDIA')| (df['Medida'] == 'Confirmados PDIA 7 días') | (df['Medida'] == 'Población' ) | (df['Medida'] == 'Confirmados PDIA 14 días')) & (df['Valor'] > 0)\n",
    "tabla = pd.pivot_table(df.loc[filtro], values='Valor', index='Lugar de residencia', columns='Medida').dropna()"
   ]
  },
  {
   "cell_type": "code",
   "execution_count": 12,
   "metadata": {},
   "outputs": [],
   "source": [
    "# Reorder columns\n",
    "tabla = tabla[['Confirmados PDIA', 'Confirmados PDIA 7 días', 'Confirmados PDIA 14 días', 'Población']]"
   ]
  },
  {
   "cell_type": "code",
   "execution_count": 13,
   "metadata": {},
   "outputs": [],
   "source": [
    "tabla['tasa7'] = tabla['Confirmados PDIA 7 días']/tabla['Población']*100000\n",
    "tabla['tasa14'] = tabla['Confirmados PDIA 14 días']/tabla['Población']*100000"
   ]
  },
  {
   "cell_type": "code",
   "execution_count": 14,
   "metadata": {},
   "outputs": [],
   "source": [
    "tabla['Diferencia PDIA'] = tabla['Confirmados PDIA'] - dfAnterior['Confirmados PDIA']"
   ]
  },
  {
   "cell_type": "code",
   "execution_count": 15,
   "metadata": {},
   "outputs": [
    {
     "output_type": "execute_result",
     "data": {
      "text/plain": [
       "Medida                             Confirmados PDIA  Confirmados PDIA 7 días  \\\n",
       "Lugar de residencia                                                            \n",
       "Huelva                                      34173.0                    496.0   \n",
       "Huelva-Costa                                19759.0                    326.0   \n",
       "Huelva (capital)                             9340.0                    116.0   \n",
       "Condado-Campiña                             11077.0                    146.0   \n",
       "Isla Cristina                                2298.0                     81.0   \n",
       "Lepe                                         2230.0                     33.0   \n",
       "Niebla                                        280.0                     31.0   \n",
       "Ayamonte                                     1406.0                     29.0   \n",
       "Aljaraque                                    1202.0                     18.0   \n",
       "Moguer                                       1444.0                     16.0   \n",
       "Sierra de Huelva-Andévalo Central            2979.0                     20.0   \n",
       "Gibraleón                                     678.0                     18.0   \n",
       "Alosno                                        207.0                     12.0   \n",
       "Santa Bárbara de Casa                          34.0                     16.0   \n",
       "Cartaya                                      1430.0                     10.0   \n",
       "Palma del Condado (La)                       1208.0                      8.0   \n",
       "Trigueros                                     344.0                      8.0   \n",
       "Almonte                                      1948.0                     23.0   \n",
       "Aracena                                       547.0                      4.0   \n",
       "Palos de la Frontera                          743.0                      7.0   \n",
       "Punta Umbría                                  871.0                      8.0   \n",
       "San Juan del Puerto                           600.0                      5.0   \n",
       "Bollullos Par del Condado                    1056.0                      8.0   \n",
       "Lucena del Puerto                             277.0                      6.0   \n",
       "Rosal de la Frontera                           36.0                      2.0   \n",
       "San Bartolomé de la Torre                     312.0                      4.0   \n",
       "Puebla de Guzmán                              145.0                      2.0   \n",
       "Bonares                                       314.0                      5.0   \n",
       "Calañas                                       202.0                      1.0   \n",
       "Campillo (El)                                  75.0                      1.0   \n",
       "Escacena del Campo                            155.0                      1.0   \n",
       "Minas de Riotinto                             130.0                      1.0   \n",
       "Puerto Moral                                    5.0                      1.0   \n",
       "Villanueva de los Castillejos                 166.0                      1.0   \n",
       "\n",
       "Medida                             Confirmados PDIA 14 días  Población  \\\n",
       "Lugar de residencia                                                      \n",
       "Huelva                                                920.0   513170.0   \n",
       "Huelva-Costa                                          615.0   289548.0   \n",
       "Huelva (capital)                                      245.0   143837.0   \n",
       "Condado-Campiña                                       254.0   156231.0   \n",
       "Isla Cristina                                         114.0    21393.0   \n",
       "Lepe                                                   59.0    27880.0   \n",
       "Niebla                                                 31.0     4116.0   \n",
       "Ayamonte                                               66.0    21104.0   \n",
       "Aljaraque                                              33.0    21474.0   \n",
       "Moguer                                                 44.0    21867.0   \n",
       "Sierra de Huelva-Andévalo Central                      45.0    67391.0   \n",
       "Gibraleón                                              25.0    12737.0   \n",
       "Alosno                                                 25.0     3933.0   \n",
       "Santa Bárbara de Casa                                  18.0     1043.0   \n",
       "Cartaya                                                27.0    20083.0   \n",
       "Palma del Condado (La)                                 13.0    10801.0   \n",
       "Trigueros                                               9.0     7862.0   \n",
       "Almonte                                                32.0    24507.0   \n",
       "Aracena                                                 6.0     8255.0   \n",
       "Palos de la Frontera                                   16.0    11742.0   \n",
       "Punta Umbría                                           15.0    15355.0   \n",
       "San Juan del Puerto                                    16.0     9411.0   \n",
       "Bollullos Par del Condado                              24.0    14387.0   \n",
       "Lucena del Puerto                                      10.0     3261.0   \n",
       "Rosal de la Frontera                                    5.0     1697.0   \n",
       "San Bartolomé de la Torre                               5.0     3761.0   \n",
       "Puebla de Guzmán                                        4.0     3092.0   \n",
       "Bonares                                                15.0     6060.0   \n",
       "Calañas                                                 1.0     2768.0   \n",
       "Campillo (El)                                           1.0     2024.0   \n",
       "Escacena del Campo                                      1.0     2287.0   \n",
       "Minas de Riotinto                                       1.0     3812.0   \n",
       "Puerto Moral                                            1.0      278.0   \n",
       "Villanueva de los Castillejos                           1.0     2825.0   \n",
       "\n",
       "Medida                                   tasa7       tasa14  Diferencia PDIA  \n",
       "Lugar de residencia                                                           \n",
       "Huelva                               96.654130   179.277822            250.0  \n",
       "Huelva-Costa                        112.589277   212.400017            180.0  \n",
       "Huelva (capital)                     80.646843   170.331695             64.0  \n",
       "Condado-Campiña                      93.451364   162.579770             62.0  \n",
       "Isla Cristina                       378.628523   532.884588             46.0  \n",
       "Lepe                                118.364419   211.621234             21.0  \n",
       "Niebla                              753.158406   753.158406             18.0  \n",
       "Ayamonte                            137.414708   312.736922             18.0  \n",
       "Aljaraque                            83.822297   153.674211             10.0  \n",
       "Moguer                               73.169616   201.216445              9.0  \n",
       "Sierra de Huelva-Andévalo Central    29.677553    66.774495              9.0  \n",
       "Gibraleón                           141.320562   196.278559              6.0  \n",
       "Alosno                              305.110603   635.647089              6.0  \n",
       "Santa Bárbara de Casa              1534.036433  1725.790988              5.0  \n",
       "Cartaya                              49.793358   134.442065              5.0  \n",
       "Palma del Condado (La)               74.067216   120.359226              5.0  \n",
       "Trigueros                           101.755279   114.474688              5.0  \n",
       "Almonte                              93.850737   130.574938              4.0  \n",
       "Aracena                              48.455482    72.683222              3.0  \n",
       "Palos de la Frontera                 59.615057   136.262988              3.0  \n",
       "Punta Umbría                         52.100293    97.688049              3.0  \n",
       "San Juan del Puerto                  53.129317   170.013814              3.0  \n",
       "Bollullos Par del Condado            55.605755   166.817266              3.0  \n",
       "Lucena del Puerto                   183.992640   306.654400              2.0  \n",
       "Rosal de la Frontera                117.855038   294.637596              2.0  \n",
       "San Bartolomé de la Torre           106.354693   132.943366              2.0  \n",
       "Puebla de Guzmán                     64.683053   129.366106              1.0  \n",
       "Bonares                              82.508251   247.524752              1.0  \n",
       "Calañas                              36.127168    36.127168              NaN  \n",
       "Campillo (El)                        49.407115    49.407115              NaN  \n",
       "Escacena del Campo                   43.725404    43.725404              NaN  \n",
       "Minas de Riotinto                    26.232949    26.232949              NaN  \n",
       "Puerto Moral                        359.712230   359.712230              NaN  \n",
       "Villanueva de los Castillejos        35.398230    35.398230              NaN  "
      ],
      "text/html": "<div>\n<style scoped>\n    .dataframe tbody tr th:only-of-type {\n        vertical-align: middle;\n    }\n\n    .dataframe tbody tr th {\n        vertical-align: top;\n    }\n\n    .dataframe thead th {\n        text-align: right;\n    }\n</style>\n<table border=\"1\" class=\"dataframe\">\n  <thead>\n    <tr style=\"text-align: right;\">\n      <th>Medida</th>\n      <th>Confirmados PDIA</th>\n      <th>Confirmados PDIA 7 días</th>\n      <th>Confirmados PDIA 14 días</th>\n      <th>Población</th>\n      <th>tasa7</th>\n      <th>tasa14</th>\n      <th>Diferencia PDIA</th>\n    </tr>\n    <tr>\n      <th>Lugar de residencia</th>\n      <th></th>\n      <th></th>\n      <th></th>\n      <th></th>\n      <th></th>\n      <th></th>\n      <th></th>\n    </tr>\n  </thead>\n  <tbody>\n    <tr>\n      <th>Huelva</th>\n      <td>34173.0</td>\n      <td>496.0</td>\n      <td>920.0</td>\n      <td>513170.0</td>\n      <td>96.654130</td>\n      <td>179.277822</td>\n      <td>250.0</td>\n    </tr>\n    <tr>\n      <th>Huelva-Costa</th>\n      <td>19759.0</td>\n      <td>326.0</td>\n      <td>615.0</td>\n      <td>289548.0</td>\n      <td>112.589277</td>\n      <td>212.400017</td>\n      <td>180.0</td>\n    </tr>\n    <tr>\n      <th>Huelva (capital)</th>\n      <td>9340.0</td>\n      <td>116.0</td>\n      <td>245.0</td>\n      <td>143837.0</td>\n      <td>80.646843</td>\n      <td>170.331695</td>\n      <td>64.0</td>\n    </tr>\n    <tr>\n      <th>Condado-Campiña</th>\n      <td>11077.0</td>\n      <td>146.0</td>\n      <td>254.0</td>\n      <td>156231.0</td>\n      <td>93.451364</td>\n      <td>162.579770</td>\n      <td>62.0</td>\n    </tr>\n    <tr>\n      <th>Isla Cristina</th>\n      <td>2298.0</td>\n      <td>81.0</td>\n      <td>114.0</td>\n      <td>21393.0</td>\n      <td>378.628523</td>\n      <td>532.884588</td>\n      <td>46.0</td>\n    </tr>\n    <tr>\n      <th>Lepe</th>\n      <td>2230.0</td>\n      <td>33.0</td>\n      <td>59.0</td>\n      <td>27880.0</td>\n      <td>118.364419</td>\n      <td>211.621234</td>\n      <td>21.0</td>\n    </tr>\n    <tr>\n      <th>Niebla</th>\n      <td>280.0</td>\n      <td>31.0</td>\n      <td>31.0</td>\n      <td>4116.0</td>\n      <td>753.158406</td>\n      <td>753.158406</td>\n      <td>18.0</td>\n    </tr>\n    <tr>\n      <th>Ayamonte</th>\n      <td>1406.0</td>\n      <td>29.0</td>\n      <td>66.0</td>\n      <td>21104.0</td>\n      <td>137.414708</td>\n      <td>312.736922</td>\n      <td>18.0</td>\n    </tr>\n    <tr>\n      <th>Aljaraque</th>\n      <td>1202.0</td>\n      <td>18.0</td>\n      <td>33.0</td>\n      <td>21474.0</td>\n      <td>83.822297</td>\n      <td>153.674211</td>\n      <td>10.0</td>\n    </tr>\n    <tr>\n      <th>Moguer</th>\n      <td>1444.0</td>\n      <td>16.0</td>\n      <td>44.0</td>\n      <td>21867.0</td>\n      <td>73.169616</td>\n      <td>201.216445</td>\n      <td>9.0</td>\n    </tr>\n    <tr>\n      <th>Sierra de Huelva-Andévalo Central</th>\n      <td>2979.0</td>\n      <td>20.0</td>\n      <td>45.0</td>\n      <td>67391.0</td>\n      <td>29.677553</td>\n      <td>66.774495</td>\n      <td>9.0</td>\n    </tr>\n    <tr>\n      <th>Gibraleón</th>\n      <td>678.0</td>\n      <td>18.0</td>\n      <td>25.0</td>\n      <td>12737.0</td>\n      <td>141.320562</td>\n      <td>196.278559</td>\n      <td>6.0</td>\n    </tr>\n    <tr>\n      <th>Alosno</th>\n      <td>207.0</td>\n      <td>12.0</td>\n      <td>25.0</td>\n      <td>3933.0</td>\n      <td>305.110603</td>\n      <td>635.647089</td>\n      <td>6.0</td>\n    </tr>\n    <tr>\n      <th>Santa Bárbara de Casa</th>\n      <td>34.0</td>\n      <td>16.0</td>\n      <td>18.0</td>\n      <td>1043.0</td>\n      <td>1534.036433</td>\n      <td>1725.790988</td>\n      <td>5.0</td>\n    </tr>\n    <tr>\n      <th>Cartaya</th>\n      <td>1430.0</td>\n      <td>10.0</td>\n      <td>27.0</td>\n      <td>20083.0</td>\n      <td>49.793358</td>\n      <td>134.442065</td>\n      <td>5.0</td>\n    </tr>\n    <tr>\n      <th>Palma del Condado (La)</th>\n      <td>1208.0</td>\n      <td>8.0</td>\n      <td>13.0</td>\n      <td>10801.0</td>\n      <td>74.067216</td>\n      <td>120.359226</td>\n      <td>5.0</td>\n    </tr>\n    <tr>\n      <th>Trigueros</th>\n      <td>344.0</td>\n      <td>8.0</td>\n      <td>9.0</td>\n      <td>7862.0</td>\n      <td>101.755279</td>\n      <td>114.474688</td>\n      <td>5.0</td>\n    </tr>\n    <tr>\n      <th>Almonte</th>\n      <td>1948.0</td>\n      <td>23.0</td>\n      <td>32.0</td>\n      <td>24507.0</td>\n      <td>93.850737</td>\n      <td>130.574938</td>\n      <td>4.0</td>\n    </tr>\n    <tr>\n      <th>Aracena</th>\n      <td>547.0</td>\n      <td>4.0</td>\n      <td>6.0</td>\n      <td>8255.0</td>\n      <td>48.455482</td>\n      <td>72.683222</td>\n      <td>3.0</td>\n    </tr>\n    <tr>\n      <th>Palos de la Frontera</th>\n      <td>743.0</td>\n      <td>7.0</td>\n      <td>16.0</td>\n      <td>11742.0</td>\n      <td>59.615057</td>\n      <td>136.262988</td>\n      <td>3.0</td>\n    </tr>\n    <tr>\n      <th>Punta Umbría</th>\n      <td>871.0</td>\n      <td>8.0</td>\n      <td>15.0</td>\n      <td>15355.0</td>\n      <td>52.100293</td>\n      <td>97.688049</td>\n      <td>3.0</td>\n    </tr>\n    <tr>\n      <th>San Juan del Puerto</th>\n      <td>600.0</td>\n      <td>5.0</td>\n      <td>16.0</td>\n      <td>9411.0</td>\n      <td>53.129317</td>\n      <td>170.013814</td>\n      <td>3.0</td>\n    </tr>\n    <tr>\n      <th>Bollullos Par del Condado</th>\n      <td>1056.0</td>\n      <td>8.0</td>\n      <td>24.0</td>\n      <td>14387.0</td>\n      <td>55.605755</td>\n      <td>166.817266</td>\n      <td>3.0</td>\n    </tr>\n    <tr>\n      <th>Lucena del Puerto</th>\n      <td>277.0</td>\n      <td>6.0</td>\n      <td>10.0</td>\n      <td>3261.0</td>\n      <td>183.992640</td>\n      <td>306.654400</td>\n      <td>2.0</td>\n    </tr>\n    <tr>\n      <th>Rosal de la Frontera</th>\n      <td>36.0</td>\n      <td>2.0</td>\n      <td>5.0</td>\n      <td>1697.0</td>\n      <td>117.855038</td>\n      <td>294.637596</td>\n      <td>2.0</td>\n    </tr>\n    <tr>\n      <th>San Bartolomé de la Torre</th>\n      <td>312.0</td>\n      <td>4.0</td>\n      <td>5.0</td>\n      <td>3761.0</td>\n      <td>106.354693</td>\n      <td>132.943366</td>\n      <td>2.0</td>\n    </tr>\n    <tr>\n      <th>Puebla de Guzmán</th>\n      <td>145.0</td>\n      <td>2.0</td>\n      <td>4.0</td>\n      <td>3092.0</td>\n      <td>64.683053</td>\n      <td>129.366106</td>\n      <td>1.0</td>\n    </tr>\n    <tr>\n      <th>Bonares</th>\n      <td>314.0</td>\n      <td>5.0</td>\n      <td>15.0</td>\n      <td>6060.0</td>\n      <td>82.508251</td>\n      <td>247.524752</td>\n      <td>1.0</td>\n    </tr>\n    <tr>\n      <th>Calañas</th>\n      <td>202.0</td>\n      <td>1.0</td>\n      <td>1.0</td>\n      <td>2768.0</td>\n      <td>36.127168</td>\n      <td>36.127168</td>\n      <td>NaN</td>\n    </tr>\n    <tr>\n      <th>Campillo (El)</th>\n      <td>75.0</td>\n      <td>1.0</td>\n      <td>1.0</td>\n      <td>2024.0</td>\n      <td>49.407115</td>\n      <td>49.407115</td>\n      <td>NaN</td>\n    </tr>\n    <tr>\n      <th>Escacena del Campo</th>\n      <td>155.0</td>\n      <td>1.0</td>\n      <td>1.0</td>\n      <td>2287.0</td>\n      <td>43.725404</td>\n      <td>43.725404</td>\n      <td>NaN</td>\n    </tr>\n    <tr>\n      <th>Minas de Riotinto</th>\n      <td>130.0</td>\n      <td>1.0</td>\n      <td>1.0</td>\n      <td>3812.0</td>\n      <td>26.232949</td>\n      <td>26.232949</td>\n      <td>NaN</td>\n    </tr>\n    <tr>\n      <th>Puerto Moral</th>\n      <td>5.0</td>\n      <td>1.0</td>\n      <td>1.0</td>\n      <td>278.0</td>\n      <td>359.712230</td>\n      <td>359.712230</td>\n      <td>NaN</td>\n    </tr>\n    <tr>\n      <th>Villanueva de los Castillejos</th>\n      <td>166.0</td>\n      <td>1.0</td>\n      <td>1.0</td>\n      <td>2825.0</td>\n      <td>35.398230</td>\n      <td>35.398230</td>\n      <td>NaN</td>\n    </tr>\n  </tbody>\n</table>\n</div>"
     },
     "metadata": {},
     "execution_count": 15
    }
   ],
   "source": [
    "# Nuevos casos desde la última captura\n",
    "tabla[tabla['Diferencia PDIA'] != 0].sort_values('Diferencia PDIA', ascending=False)"
   ]
  },
  {
   "cell_type": "code",
   "execution_count": 16,
   "metadata": {},
   "outputs": [],
   "source": [
    "if tabla[tabla['Diferencia PDIA'] != 0]['Diferencia PDIA'].sum() != 0:\n",
    "  # Save to csv\n",
    "  tabla.to_csv('covid_huelva.csv', encoding='utf-8', header=True, index=True)  "
   ]
  },
  {
   "cell_type": "code",
   "execution_count": 17,
   "metadata": {},
   "outputs": [
    {
     "output_type": "execute_result",
     "data": {
      "text/plain": [
       "Medida                             Confirmados PDIA  Confirmados PDIA 7 días  \\\n",
       "Lugar de residencia                                                            \n",
       "Santa Bárbara de Casa                          34.0                     16.0   \n",
       "Niebla                                        280.0                     31.0   \n",
       "Alosno                                        207.0                     12.0   \n",
       "Isla Cristina                                2298.0                     81.0   \n",
       "Puerto Moral                                    5.0                      1.0   \n",
       "Zarza-Perrunal (La)                            30.0                      2.0   \n",
       "Ayamonte                                     1406.0                     29.0   \n",
       "Lucena del Puerto                             277.0                      6.0   \n",
       "Rosal de la Frontera                           36.0                      2.0   \n",
       "Cerro de Andévalo (El)                        160.0                      3.0   \n",
       "Bonares                                       314.0                      5.0   \n",
       "Huelva-Costa                                19759.0                    326.0   \n",
       "Lepe                                         2230.0                     33.0   \n",
       "Moguer                                       1444.0                     16.0   \n",
       "Gibraleón                                     678.0                     18.0   \n",
       "Huelva                                      34173.0                    496.0   \n",
       "Huelva (capital)                             9340.0                    116.0   \n",
       "San Juan del Puerto                           600.0                      5.0   \n",
       "Bollullos Par del Condado                    1056.0                      8.0   \n",
       "Condado-Campiña                             11077.0                    146.0   \n",
       "Aljaraque                                    1202.0                     18.0   \n",
       "Manzanilla                                    110.0                      1.0   \n",
       "Palos de la Frontera                          743.0                      7.0   \n",
       "Cartaya                                      1430.0                     10.0   \n",
       "San Bartolomé de la Torre                     312.0                      4.0   \n",
       "Almonte                                      1948.0                     23.0   \n",
       "Puebla de Guzmán                              145.0                      2.0   \n",
       "Palma del Condado (La)                       1208.0                      8.0   \n",
       "Trigueros                                     344.0                      8.0   \n",
       "Valverde del Camino                           677.0                      4.0   \n",
       "Punta Umbría                                  871.0                      8.0   \n",
       "Villarrasa                                    182.0                      2.0   \n",
       "Aracena                                       547.0                      4.0   \n",
       "Sierra de Huelva-Andévalo Central            2979.0                     20.0   \n",
       "Rociana del Condado                           579.0                      1.0   \n",
       "Campillo (El)                                  75.0                      1.0   \n",
       "Beas                                          234.0                      1.0   \n",
       "Escacena del Campo                            155.0                      1.0   \n",
       "Nerva                                         182.0                      1.0   \n",
       "Calañas                                       202.0                      1.0   \n",
       "Villanueva de los Castillejos                 166.0                      1.0   \n",
       "Villalba del Alcor                            483.0                      1.0   \n",
       "Minas de Riotinto                             130.0                      1.0   \n",
       "\n",
       "Medida                             Confirmados PDIA 14 días  Población  \\\n",
       "Lugar de residencia                                                      \n",
       "Santa Bárbara de Casa                                  18.0     1043.0   \n",
       "Niebla                                                 31.0     4116.0   \n",
       "Alosno                                                 25.0     3933.0   \n",
       "Isla Cristina                                         114.0    21393.0   \n",
       "Puerto Moral                                            1.0      278.0   \n",
       "Zarza-Perrunal (La)                                     4.0     1253.0   \n",
       "Ayamonte                                               66.0    21104.0   \n",
       "Lucena del Puerto                                      10.0     3261.0   \n",
       "Rosal de la Frontera                                    5.0     1697.0   \n",
       "Cerro de Andévalo (El)                                  6.0     2327.0   \n",
       "Bonares                                                15.0     6060.0   \n",
       "Huelva-Costa                                          615.0   289548.0   \n",
       "Lepe                                                   59.0    27880.0   \n",
       "Moguer                                                 44.0    21867.0   \n",
       "Gibraleón                                              25.0    12737.0   \n",
       "Huelva                                                920.0   513170.0   \n",
       "Huelva (capital)                                      245.0   143837.0   \n",
       "San Juan del Puerto                                    16.0     9411.0   \n",
       "Bollullos Par del Condado                              24.0    14387.0   \n",
       "Condado-Campiña                                       254.0   156231.0   \n",
       "Aljaraque                                              33.0    21474.0   \n",
       "Manzanilla                                              3.0     2118.0   \n",
       "Palos de la Frontera                                   16.0    11742.0   \n",
       "Cartaya                                                27.0    20083.0   \n",
       "San Bartolomé de la Torre                               5.0     3761.0   \n",
       "Almonte                                                32.0    24507.0   \n",
       "Puebla de Guzmán                                        4.0     3092.0   \n",
       "Palma del Condado (La)                                 13.0    10801.0   \n",
       "Trigueros                                               9.0     7862.0   \n",
       "Valverde del Camino                                    13.0    12750.0   \n",
       "Punta Umbría                                           15.0    15355.0   \n",
       "Villarrasa                                              2.0     2211.0   \n",
       "Aracena                                                 6.0     8255.0   \n",
       "Sierra de Huelva-Andévalo Central                      45.0    67391.0   \n",
       "Rociana del Condado                                     4.0     7939.0   \n",
       "Campillo (El)                                           1.0     2024.0   \n",
       "Beas                                                    2.0     4341.0   \n",
       "Escacena del Campo                                      1.0     2287.0   \n",
       "Nerva                                                   2.0     5169.0   \n",
       "Calañas                                                 1.0     2768.0   \n",
       "Villanueva de los Castillejos                           1.0     2825.0   \n",
       "Villalba del Alcor                                      1.0     3366.0   \n",
       "Minas de Riotinto                                       1.0     3812.0   \n",
       "\n",
       "Medida                                   tasa7       tasa14  Diferencia PDIA  \n",
       "Lugar de residencia                                                           \n",
       "Santa Bárbara de Casa              1534.036433  1725.790988              5.0  \n",
       "Niebla                              753.158406   753.158406             18.0  \n",
       "Alosno                              305.110603   635.647089              6.0  \n",
       "Isla Cristina                       378.628523   532.884588             46.0  \n",
       "Puerto Moral                        359.712230   359.712230              NaN  \n",
       "Zarza-Perrunal (La)                 159.616919   319.233839              0.0  \n",
       "Ayamonte                            137.414708   312.736922             18.0  \n",
       "Lucena del Puerto                   183.992640   306.654400              2.0  \n",
       "Rosal de la Frontera                117.855038   294.637596              2.0  \n",
       "Cerro de Andévalo (El)              128.921358   257.842716              0.0  \n",
       "Bonares                              82.508251   247.524752              1.0  \n",
       "Huelva-Costa                        112.589277   212.400017            180.0  \n",
       "Lepe                                118.364419   211.621234             21.0  \n",
       "Moguer                               73.169616   201.216445              9.0  \n",
       "Gibraleón                           141.320562   196.278559              6.0  \n",
       "Huelva                               96.654130   179.277822            250.0  \n",
       "Huelva (capital)                     80.646843   170.331695             64.0  \n",
       "San Juan del Puerto                  53.129317   170.013814              3.0  \n",
       "Bollullos Par del Condado            55.605755   166.817266              3.0  \n",
       "Condado-Campiña                      93.451364   162.579770             62.0  \n",
       "Aljaraque                            83.822297   153.674211             10.0  \n",
       "Manzanilla                           47.214353   141.643059              0.0  \n",
       "Palos de la Frontera                 59.615057   136.262988              3.0  \n",
       "Cartaya                              49.793358   134.442065              5.0  \n",
       "San Bartolomé de la Torre           106.354693   132.943366              2.0  \n",
       "Almonte                              93.850737   130.574938              4.0  \n",
       "Puebla de Guzmán                     64.683053   129.366106              1.0  \n",
       "Palma del Condado (La)               74.067216   120.359226              5.0  \n",
       "Trigueros                           101.755279   114.474688              5.0  \n",
       "Valverde del Camino                  31.372549   101.960784              0.0  \n",
       "Punta Umbría                         52.100293    97.688049              3.0  \n",
       "Villarrasa                           90.456807    90.456807              0.0  \n",
       "Aracena                              48.455482    72.683222              3.0  \n",
       "Sierra de Huelva-Andévalo Central    29.677553    66.774495              9.0  \n",
       "Rociana del Condado                  12.596045    50.384179              0.0  \n",
       "Campillo (El)                        49.407115    49.407115              NaN  \n",
       "Beas                                 23.036167    46.072334              0.0  \n",
       "Escacena del Campo                   43.725404    43.725404              NaN  \n",
       "Nerva                                19.346102    38.692204              0.0  \n",
       "Calañas                              36.127168    36.127168              NaN  \n",
       "Villanueva de los Castillejos        35.398230    35.398230              NaN  \n",
       "Villalba del Alcor                   29.708853    29.708853              0.0  \n",
       "Minas de Riotinto                    26.232949    26.232949              NaN  "
      ],
      "text/html": "<div>\n<style scoped>\n    .dataframe tbody tr th:only-of-type {\n        vertical-align: middle;\n    }\n\n    .dataframe tbody tr th {\n        vertical-align: top;\n    }\n\n    .dataframe thead th {\n        text-align: right;\n    }\n</style>\n<table border=\"1\" class=\"dataframe\">\n  <thead>\n    <tr style=\"text-align: right;\">\n      <th>Medida</th>\n      <th>Confirmados PDIA</th>\n      <th>Confirmados PDIA 7 días</th>\n      <th>Confirmados PDIA 14 días</th>\n      <th>Población</th>\n      <th>tasa7</th>\n      <th>tasa14</th>\n      <th>Diferencia PDIA</th>\n    </tr>\n    <tr>\n      <th>Lugar de residencia</th>\n      <th></th>\n      <th></th>\n      <th></th>\n      <th></th>\n      <th></th>\n      <th></th>\n      <th></th>\n    </tr>\n  </thead>\n  <tbody>\n    <tr>\n      <th>Santa Bárbara de Casa</th>\n      <td>34.0</td>\n      <td>16.0</td>\n      <td>18.0</td>\n      <td>1043.0</td>\n      <td>1534.036433</td>\n      <td>1725.790988</td>\n      <td>5.0</td>\n    </tr>\n    <tr>\n      <th>Niebla</th>\n      <td>280.0</td>\n      <td>31.0</td>\n      <td>31.0</td>\n      <td>4116.0</td>\n      <td>753.158406</td>\n      <td>753.158406</td>\n      <td>18.0</td>\n    </tr>\n    <tr>\n      <th>Alosno</th>\n      <td>207.0</td>\n      <td>12.0</td>\n      <td>25.0</td>\n      <td>3933.0</td>\n      <td>305.110603</td>\n      <td>635.647089</td>\n      <td>6.0</td>\n    </tr>\n    <tr>\n      <th>Isla Cristina</th>\n      <td>2298.0</td>\n      <td>81.0</td>\n      <td>114.0</td>\n      <td>21393.0</td>\n      <td>378.628523</td>\n      <td>532.884588</td>\n      <td>46.0</td>\n    </tr>\n    <tr>\n      <th>Puerto Moral</th>\n      <td>5.0</td>\n      <td>1.0</td>\n      <td>1.0</td>\n      <td>278.0</td>\n      <td>359.712230</td>\n      <td>359.712230</td>\n      <td>NaN</td>\n    </tr>\n    <tr>\n      <th>Zarza-Perrunal (La)</th>\n      <td>30.0</td>\n      <td>2.0</td>\n      <td>4.0</td>\n      <td>1253.0</td>\n      <td>159.616919</td>\n      <td>319.233839</td>\n      <td>0.0</td>\n    </tr>\n    <tr>\n      <th>Ayamonte</th>\n      <td>1406.0</td>\n      <td>29.0</td>\n      <td>66.0</td>\n      <td>21104.0</td>\n      <td>137.414708</td>\n      <td>312.736922</td>\n      <td>18.0</td>\n    </tr>\n    <tr>\n      <th>Lucena del Puerto</th>\n      <td>277.0</td>\n      <td>6.0</td>\n      <td>10.0</td>\n      <td>3261.0</td>\n      <td>183.992640</td>\n      <td>306.654400</td>\n      <td>2.0</td>\n    </tr>\n    <tr>\n      <th>Rosal de la Frontera</th>\n      <td>36.0</td>\n      <td>2.0</td>\n      <td>5.0</td>\n      <td>1697.0</td>\n      <td>117.855038</td>\n      <td>294.637596</td>\n      <td>2.0</td>\n    </tr>\n    <tr>\n      <th>Cerro de Andévalo (El)</th>\n      <td>160.0</td>\n      <td>3.0</td>\n      <td>6.0</td>\n      <td>2327.0</td>\n      <td>128.921358</td>\n      <td>257.842716</td>\n      <td>0.0</td>\n    </tr>\n    <tr>\n      <th>Bonares</th>\n      <td>314.0</td>\n      <td>5.0</td>\n      <td>15.0</td>\n      <td>6060.0</td>\n      <td>82.508251</td>\n      <td>247.524752</td>\n      <td>1.0</td>\n    </tr>\n    <tr>\n      <th>Huelva-Costa</th>\n      <td>19759.0</td>\n      <td>326.0</td>\n      <td>615.0</td>\n      <td>289548.0</td>\n      <td>112.589277</td>\n      <td>212.400017</td>\n      <td>180.0</td>\n    </tr>\n    <tr>\n      <th>Lepe</th>\n      <td>2230.0</td>\n      <td>33.0</td>\n      <td>59.0</td>\n      <td>27880.0</td>\n      <td>118.364419</td>\n      <td>211.621234</td>\n      <td>21.0</td>\n    </tr>\n    <tr>\n      <th>Moguer</th>\n      <td>1444.0</td>\n      <td>16.0</td>\n      <td>44.0</td>\n      <td>21867.0</td>\n      <td>73.169616</td>\n      <td>201.216445</td>\n      <td>9.0</td>\n    </tr>\n    <tr>\n      <th>Gibraleón</th>\n      <td>678.0</td>\n      <td>18.0</td>\n      <td>25.0</td>\n      <td>12737.0</td>\n      <td>141.320562</td>\n      <td>196.278559</td>\n      <td>6.0</td>\n    </tr>\n    <tr>\n      <th>Huelva</th>\n      <td>34173.0</td>\n      <td>496.0</td>\n      <td>920.0</td>\n      <td>513170.0</td>\n      <td>96.654130</td>\n      <td>179.277822</td>\n      <td>250.0</td>\n    </tr>\n    <tr>\n      <th>Huelva (capital)</th>\n      <td>9340.0</td>\n      <td>116.0</td>\n      <td>245.0</td>\n      <td>143837.0</td>\n      <td>80.646843</td>\n      <td>170.331695</td>\n      <td>64.0</td>\n    </tr>\n    <tr>\n      <th>San Juan del Puerto</th>\n      <td>600.0</td>\n      <td>5.0</td>\n      <td>16.0</td>\n      <td>9411.0</td>\n      <td>53.129317</td>\n      <td>170.013814</td>\n      <td>3.0</td>\n    </tr>\n    <tr>\n      <th>Bollullos Par del Condado</th>\n      <td>1056.0</td>\n      <td>8.0</td>\n      <td>24.0</td>\n      <td>14387.0</td>\n      <td>55.605755</td>\n      <td>166.817266</td>\n      <td>3.0</td>\n    </tr>\n    <tr>\n      <th>Condado-Campiña</th>\n      <td>11077.0</td>\n      <td>146.0</td>\n      <td>254.0</td>\n      <td>156231.0</td>\n      <td>93.451364</td>\n      <td>162.579770</td>\n      <td>62.0</td>\n    </tr>\n    <tr>\n      <th>Aljaraque</th>\n      <td>1202.0</td>\n      <td>18.0</td>\n      <td>33.0</td>\n      <td>21474.0</td>\n      <td>83.822297</td>\n      <td>153.674211</td>\n      <td>10.0</td>\n    </tr>\n    <tr>\n      <th>Manzanilla</th>\n      <td>110.0</td>\n      <td>1.0</td>\n      <td>3.0</td>\n      <td>2118.0</td>\n      <td>47.214353</td>\n      <td>141.643059</td>\n      <td>0.0</td>\n    </tr>\n    <tr>\n      <th>Palos de la Frontera</th>\n      <td>743.0</td>\n      <td>7.0</td>\n      <td>16.0</td>\n      <td>11742.0</td>\n      <td>59.615057</td>\n      <td>136.262988</td>\n      <td>3.0</td>\n    </tr>\n    <tr>\n      <th>Cartaya</th>\n      <td>1430.0</td>\n      <td>10.0</td>\n      <td>27.0</td>\n      <td>20083.0</td>\n      <td>49.793358</td>\n      <td>134.442065</td>\n      <td>5.0</td>\n    </tr>\n    <tr>\n      <th>San Bartolomé de la Torre</th>\n      <td>312.0</td>\n      <td>4.0</td>\n      <td>5.0</td>\n      <td>3761.0</td>\n      <td>106.354693</td>\n      <td>132.943366</td>\n      <td>2.0</td>\n    </tr>\n    <tr>\n      <th>Almonte</th>\n      <td>1948.0</td>\n      <td>23.0</td>\n      <td>32.0</td>\n      <td>24507.0</td>\n      <td>93.850737</td>\n      <td>130.574938</td>\n      <td>4.0</td>\n    </tr>\n    <tr>\n      <th>Puebla de Guzmán</th>\n      <td>145.0</td>\n      <td>2.0</td>\n      <td>4.0</td>\n      <td>3092.0</td>\n      <td>64.683053</td>\n      <td>129.366106</td>\n      <td>1.0</td>\n    </tr>\n    <tr>\n      <th>Palma del Condado (La)</th>\n      <td>1208.0</td>\n      <td>8.0</td>\n      <td>13.0</td>\n      <td>10801.0</td>\n      <td>74.067216</td>\n      <td>120.359226</td>\n      <td>5.0</td>\n    </tr>\n    <tr>\n      <th>Trigueros</th>\n      <td>344.0</td>\n      <td>8.0</td>\n      <td>9.0</td>\n      <td>7862.0</td>\n      <td>101.755279</td>\n      <td>114.474688</td>\n      <td>5.0</td>\n    </tr>\n    <tr>\n      <th>Valverde del Camino</th>\n      <td>677.0</td>\n      <td>4.0</td>\n      <td>13.0</td>\n      <td>12750.0</td>\n      <td>31.372549</td>\n      <td>101.960784</td>\n      <td>0.0</td>\n    </tr>\n    <tr>\n      <th>Punta Umbría</th>\n      <td>871.0</td>\n      <td>8.0</td>\n      <td>15.0</td>\n      <td>15355.0</td>\n      <td>52.100293</td>\n      <td>97.688049</td>\n      <td>3.0</td>\n    </tr>\n    <tr>\n      <th>Villarrasa</th>\n      <td>182.0</td>\n      <td>2.0</td>\n      <td>2.0</td>\n      <td>2211.0</td>\n      <td>90.456807</td>\n      <td>90.456807</td>\n      <td>0.0</td>\n    </tr>\n    <tr>\n      <th>Aracena</th>\n      <td>547.0</td>\n      <td>4.0</td>\n      <td>6.0</td>\n      <td>8255.0</td>\n      <td>48.455482</td>\n      <td>72.683222</td>\n      <td>3.0</td>\n    </tr>\n    <tr>\n      <th>Sierra de Huelva-Andévalo Central</th>\n      <td>2979.0</td>\n      <td>20.0</td>\n      <td>45.0</td>\n      <td>67391.0</td>\n      <td>29.677553</td>\n      <td>66.774495</td>\n      <td>9.0</td>\n    </tr>\n    <tr>\n      <th>Rociana del Condado</th>\n      <td>579.0</td>\n      <td>1.0</td>\n      <td>4.0</td>\n      <td>7939.0</td>\n      <td>12.596045</td>\n      <td>50.384179</td>\n      <td>0.0</td>\n    </tr>\n    <tr>\n      <th>Campillo (El)</th>\n      <td>75.0</td>\n      <td>1.0</td>\n      <td>1.0</td>\n      <td>2024.0</td>\n      <td>49.407115</td>\n      <td>49.407115</td>\n      <td>NaN</td>\n    </tr>\n    <tr>\n      <th>Beas</th>\n      <td>234.0</td>\n      <td>1.0</td>\n      <td>2.0</td>\n      <td>4341.0</td>\n      <td>23.036167</td>\n      <td>46.072334</td>\n      <td>0.0</td>\n    </tr>\n    <tr>\n      <th>Escacena del Campo</th>\n      <td>155.0</td>\n      <td>1.0</td>\n      <td>1.0</td>\n      <td>2287.0</td>\n      <td>43.725404</td>\n      <td>43.725404</td>\n      <td>NaN</td>\n    </tr>\n    <tr>\n      <th>Nerva</th>\n      <td>182.0</td>\n      <td>1.0</td>\n      <td>2.0</td>\n      <td>5169.0</td>\n      <td>19.346102</td>\n      <td>38.692204</td>\n      <td>0.0</td>\n    </tr>\n    <tr>\n      <th>Calañas</th>\n      <td>202.0</td>\n      <td>1.0</td>\n      <td>1.0</td>\n      <td>2768.0</td>\n      <td>36.127168</td>\n      <td>36.127168</td>\n      <td>NaN</td>\n    </tr>\n    <tr>\n      <th>Villanueva de los Castillejos</th>\n      <td>166.0</td>\n      <td>1.0</td>\n      <td>1.0</td>\n      <td>2825.0</td>\n      <td>35.398230</td>\n      <td>35.398230</td>\n      <td>NaN</td>\n    </tr>\n    <tr>\n      <th>Villalba del Alcor</th>\n      <td>483.0</td>\n      <td>1.0</td>\n      <td>1.0</td>\n      <td>3366.0</td>\n      <td>29.708853</td>\n      <td>29.708853</td>\n      <td>0.0</td>\n    </tr>\n    <tr>\n      <th>Minas de Riotinto</th>\n      <td>130.0</td>\n      <td>1.0</td>\n      <td>1.0</td>\n      <td>3812.0</td>\n      <td>26.232949</td>\n      <td>26.232949</td>\n      <td>NaN</td>\n    </tr>\n  </tbody>\n</table>\n</div>"
     },
     "metadata": {},
     "execution_count": 17
    }
   ],
   "source": [
    "tabla.sort_values('tasa14', ascending=False)"
   ]
  },
  {
   "cell_type": "code",
   "execution_count": 18,
   "metadata": {},
   "outputs": [
    {
     "output_type": "execute_result",
     "data": {
      "text/plain": [
       "Medida                             Confirmados PDIA  Confirmados PDIA 7 días  \\\n",
       "Lugar de residencia                                                            \n",
       "Rociana del Condado                           579.0                      1.0   \n",
       "Valverde del Camino                           677.0                      4.0   \n",
       "San Juan del Puerto                           600.0                      5.0   \n",
       "Manzanilla                                    110.0                      1.0   \n",
       "Bollullos Par del Condado                    1056.0                      8.0   \n",
       "Bonares                                       314.0                      5.0   \n",
       "Moguer                                       1444.0                     16.0   \n",
       "Cartaya                                      1430.0                     10.0   \n",
       "Rosal de la Frontera                           36.0                      2.0   \n",
       "Palos de la Frontera                          743.0                      7.0   \n",
       "Ayamonte                                     1406.0                     29.0   \n",
       "Sierra de Huelva-Andévalo Central            2979.0                     20.0   \n",
       "Huelva (capital)                             9340.0                    116.0   \n",
       "Alosno                                        207.0                     12.0   \n",
       "Puebla de Guzmán                              145.0                      2.0   \n",
       "Nerva                                         182.0                      1.0   \n",
       "Zarza-Perrunal (La)                            30.0                      2.0   \n",
       "Beas                                          234.0                      1.0   \n",
       "Cerro de Andévalo (El)                        160.0                      3.0   \n",
       "Huelva-Costa                                19759.0                    326.0   \n",
       "Punta Umbría                                  871.0                      8.0   \n",
       "Huelva                                      34173.0                    496.0   \n",
       "Aljaraque                                    1202.0                     18.0   \n",
       "Lepe                                         2230.0                     33.0   \n",
       "Condado-Campiña                             11077.0                    146.0   \n",
       "Lucena del Puerto                             277.0                      6.0   \n",
       "Palma del Condado (La)                       1208.0                      8.0   \n",
       "Aracena                                       547.0                      4.0   \n",
       "Isla Cristina                                2298.0                     81.0   \n",
       "Almonte                                      1948.0                     23.0   \n",
       "Gibraleón                                     678.0                     18.0   \n",
       "San Bartolomé de la Torre                     312.0                      4.0   \n",
       "Trigueros                                     344.0                      8.0   \n",
       "Santa Bárbara de Casa                          34.0                     16.0   \n",
       "Villanueva de los Castillejos                 166.0                      1.0   \n",
       "Villalba del Alcor                            483.0                      1.0   \n",
       "Calañas                                       202.0                      1.0   \n",
       "Campillo (El)                                  75.0                      1.0   \n",
       "Villarrasa                                    182.0                      2.0   \n",
       "Niebla                                        280.0                     31.0   \n",
       "Escacena del Campo                            155.0                      1.0   \n",
       "Minas de Riotinto                             130.0                      1.0   \n",
       "Puerto Moral                                    5.0                      1.0   \n",
       "\n",
       "Medida                             Confirmados PDIA 14 días  Población  \\\n",
       "Lugar de residencia                                                      \n",
       "Rociana del Condado                                     4.0     7939.0   \n",
       "Valverde del Camino                                    13.0    12750.0   \n",
       "San Juan del Puerto                                    16.0     9411.0   \n",
       "Manzanilla                                              3.0     2118.0   \n",
       "Bollullos Par del Condado                              24.0    14387.0   \n",
       "Bonares                                                15.0     6060.0   \n",
       "Moguer                                                 44.0    21867.0   \n",
       "Cartaya                                                27.0    20083.0   \n",
       "Rosal de la Frontera                                    5.0     1697.0   \n",
       "Palos de la Frontera                                   16.0    11742.0   \n",
       "Ayamonte                                               66.0    21104.0   \n",
       "Sierra de Huelva-Andévalo Central                      45.0    67391.0   \n",
       "Huelva (capital)                                      245.0   143837.0   \n",
       "Alosno                                                 25.0     3933.0   \n",
       "Puebla de Guzmán                                        4.0     3092.0   \n",
       "Nerva                                                   2.0     5169.0   \n",
       "Zarza-Perrunal (La)                                     4.0     1253.0   \n",
       "Beas                                                    2.0     4341.0   \n",
       "Cerro de Andévalo (El)                                  6.0     2327.0   \n",
       "Huelva-Costa                                          615.0   289548.0   \n",
       "Punta Umbría                                           15.0    15355.0   \n",
       "Huelva                                                920.0   513170.0   \n",
       "Aljaraque                                              33.0    21474.0   \n",
       "Lepe                                                   59.0    27880.0   \n",
       "Condado-Campiña                                       254.0   156231.0   \n",
       "Lucena del Puerto                                      10.0     3261.0   \n",
       "Palma del Condado (La)                                 13.0    10801.0   \n",
       "Aracena                                                 6.0     8255.0   \n",
       "Isla Cristina                                         114.0    21393.0   \n",
       "Almonte                                                32.0    24507.0   \n",
       "Gibraleón                                              25.0    12737.0   \n",
       "San Bartolomé de la Torre                               5.0     3761.0   \n",
       "Trigueros                                               9.0     7862.0   \n",
       "Santa Bárbara de Casa                                  18.0     1043.0   \n",
       "Villanueva de los Castillejos                           1.0     2825.0   \n",
       "Villalba del Alcor                                      1.0     3366.0   \n",
       "Calañas                                                 1.0     2768.0   \n",
       "Campillo (El)                                           1.0     2024.0   \n",
       "Villarrasa                                              2.0     2211.0   \n",
       "Niebla                                                 31.0     4116.0   \n",
       "Escacena del Campo                                      1.0     2287.0   \n",
       "Minas de Riotinto                                       1.0     3812.0   \n",
       "Puerto Moral                                            1.0      278.0   \n",
       "\n",
       "Medida                                   tasa7       tasa14  Diferencia PDIA  \\\n",
       "Lugar de residencia                                                            \n",
       "Rociana del Condado                  12.596045    50.384179              0.0   \n",
       "Valverde del Camino                  31.372549   101.960784              0.0   \n",
       "San Juan del Puerto                  53.129317   170.013814              3.0   \n",
       "Manzanilla                           47.214353   141.643059              0.0   \n",
       "Bollullos Par del Condado            55.605755   166.817266              3.0   \n",
       "Bonares                              82.508251   247.524752              1.0   \n",
       "Moguer                               73.169616   201.216445              9.0   \n",
       "Cartaya                              49.793358   134.442065              5.0   \n",
       "Rosal de la Frontera                117.855038   294.637596              2.0   \n",
       "Palos de la Frontera                 59.615057   136.262988              3.0   \n",
       "Ayamonte                            137.414708   312.736922             18.0   \n",
       "Sierra de Huelva-Andévalo Central    29.677553    66.774495              9.0   \n",
       "Huelva (capital)                     80.646843   170.331695             64.0   \n",
       "Alosno                              305.110603   635.647089              6.0   \n",
       "Puebla de Guzmán                     64.683053   129.366106              1.0   \n",
       "Nerva                                19.346102    38.692204              0.0   \n",
       "Zarza-Perrunal (La)                 159.616919   319.233839              0.0   \n",
       "Beas                                 23.036167    46.072334              0.0   \n",
       "Cerro de Andévalo (El)              128.921358   257.842716              0.0   \n",
       "Huelva-Costa                        112.589277   212.400017            180.0   \n",
       "Punta Umbría                         52.100293    97.688049              3.0   \n",
       "Huelva                               96.654130   179.277822            250.0   \n",
       "Aljaraque                            83.822297   153.674211             10.0   \n",
       "Lepe                                118.364419   211.621234             21.0   \n",
       "Condado-Campiña                      93.451364   162.579770             62.0   \n",
       "Lucena del Puerto                   183.992640   306.654400              2.0   \n",
       "Palma del Condado (La)               74.067216   120.359226              5.0   \n",
       "Aracena                              48.455482    72.683222              3.0   \n",
       "Isla Cristina                       378.628523   532.884588             46.0   \n",
       "Almonte                              93.850737   130.574938              4.0   \n",
       "Gibraleón                           141.320562   196.278559              6.0   \n",
       "San Bartolomé de la Torre           106.354693   132.943366              2.0   \n",
       "Trigueros                           101.755279   114.474688              5.0   \n",
       "Santa Bárbara de Casa              1534.036433  1725.790988              5.0   \n",
       "Villanueva de los Castillejos        35.398230    35.398230              0.0   \n",
       "Villalba del Alcor                   29.708853    29.708853              0.0   \n",
       "Calañas                              36.127168    36.127168              0.0   \n",
       "Campillo (El)                        49.407115    49.407115              0.0   \n",
       "Villarrasa                           90.456807    90.456807              0.0   \n",
       "Niebla                              753.158406   753.158406             18.0   \n",
       "Escacena del Campo                   43.725404    43.725404              0.0   \n",
       "Minas de Riotinto                    26.232949    26.232949              0.0   \n",
       "Puerto Moral                        359.712230   359.712230              0.0   \n",
       "\n",
       "Medida                                 7/14  \n",
       "Lugar de residencia                          \n",
       "Rociana del Condado                0.250000  \n",
       "Valverde del Camino                0.307692  \n",
       "San Juan del Puerto                0.312500  \n",
       "Manzanilla                         0.333333  \n",
       "Bollullos Par del Condado          0.333333  \n",
       "Bonares                            0.333333  \n",
       "Moguer                             0.363636  \n",
       "Cartaya                            0.370370  \n",
       "Rosal de la Frontera               0.400000  \n",
       "Palos de la Frontera               0.437500  \n",
       "Ayamonte                           0.439394  \n",
       "Sierra de Huelva-Andévalo Central  0.444444  \n",
       "Huelva (capital)                   0.473469  \n",
       "Alosno                             0.480000  \n",
       "Puebla de Guzmán                   0.500000  \n",
       "Nerva                              0.500000  \n",
       "Zarza-Perrunal (La)                0.500000  \n",
       "Beas                               0.500000  \n",
       "Cerro de Andévalo (El)             0.500000  \n",
       "Huelva-Costa                       0.530081  \n",
       "Punta Umbría                       0.533333  \n",
       "Huelva                             0.539130  \n",
       "Aljaraque                          0.545455  \n",
       "Lepe                               0.559322  \n",
       "Condado-Campiña                    0.574803  \n",
       "Lucena del Puerto                  0.600000  \n",
       "Palma del Condado (La)             0.615385  \n",
       "Aracena                            0.666667  \n",
       "Isla Cristina                      0.710526  \n",
       "Almonte                            0.718750  \n",
       "Gibraleón                          0.720000  \n",
       "San Bartolomé de la Torre          0.800000  \n",
       "Trigueros                          0.888889  \n",
       "Santa Bárbara de Casa              0.888889  \n",
       "Villanueva de los Castillejos      1.000000  \n",
       "Villalba del Alcor                 1.000000  \n",
       "Calañas                            1.000000  \n",
       "Campillo (El)                      1.000000  \n",
       "Villarrasa                         1.000000  \n",
       "Niebla                             1.000000  \n",
       "Escacena del Campo                 1.000000  \n",
       "Minas de Riotinto                  1.000000  \n",
       "Puerto Moral                       1.000000  "
      ],
      "text/html": "<div>\n<style scoped>\n    .dataframe tbody tr th:only-of-type {\n        vertical-align: middle;\n    }\n\n    .dataframe tbody tr th {\n        vertical-align: top;\n    }\n\n    .dataframe thead th {\n        text-align: right;\n    }\n</style>\n<table border=\"1\" class=\"dataframe\">\n  <thead>\n    <tr style=\"text-align: right;\">\n      <th>Medida</th>\n      <th>Confirmados PDIA</th>\n      <th>Confirmados PDIA 7 días</th>\n      <th>Confirmados PDIA 14 días</th>\n      <th>Población</th>\n      <th>tasa7</th>\n      <th>tasa14</th>\n      <th>Diferencia PDIA</th>\n      <th>7/14</th>\n    </tr>\n    <tr>\n      <th>Lugar de residencia</th>\n      <th></th>\n      <th></th>\n      <th></th>\n      <th></th>\n      <th></th>\n      <th></th>\n      <th></th>\n      <th></th>\n    </tr>\n  </thead>\n  <tbody>\n    <tr>\n      <th>Rociana del Condado</th>\n      <td>579.0</td>\n      <td>1.0</td>\n      <td>4.0</td>\n      <td>7939.0</td>\n      <td>12.596045</td>\n      <td>50.384179</td>\n      <td>0.0</td>\n      <td>0.250000</td>\n    </tr>\n    <tr>\n      <th>Valverde del Camino</th>\n      <td>677.0</td>\n      <td>4.0</td>\n      <td>13.0</td>\n      <td>12750.0</td>\n      <td>31.372549</td>\n      <td>101.960784</td>\n      <td>0.0</td>\n      <td>0.307692</td>\n    </tr>\n    <tr>\n      <th>San Juan del Puerto</th>\n      <td>600.0</td>\n      <td>5.0</td>\n      <td>16.0</td>\n      <td>9411.0</td>\n      <td>53.129317</td>\n      <td>170.013814</td>\n      <td>3.0</td>\n      <td>0.312500</td>\n    </tr>\n    <tr>\n      <th>Manzanilla</th>\n      <td>110.0</td>\n      <td>1.0</td>\n      <td>3.0</td>\n      <td>2118.0</td>\n      <td>47.214353</td>\n      <td>141.643059</td>\n      <td>0.0</td>\n      <td>0.333333</td>\n    </tr>\n    <tr>\n      <th>Bollullos Par del Condado</th>\n      <td>1056.0</td>\n      <td>8.0</td>\n      <td>24.0</td>\n      <td>14387.0</td>\n      <td>55.605755</td>\n      <td>166.817266</td>\n      <td>3.0</td>\n      <td>0.333333</td>\n    </tr>\n    <tr>\n      <th>Bonares</th>\n      <td>314.0</td>\n      <td>5.0</td>\n      <td>15.0</td>\n      <td>6060.0</td>\n      <td>82.508251</td>\n      <td>247.524752</td>\n      <td>1.0</td>\n      <td>0.333333</td>\n    </tr>\n    <tr>\n      <th>Moguer</th>\n      <td>1444.0</td>\n      <td>16.0</td>\n      <td>44.0</td>\n      <td>21867.0</td>\n      <td>73.169616</td>\n      <td>201.216445</td>\n      <td>9.0</td>\n      <td>0.363636</td>\n    </tr>\n    <tr>\n      <th>Cartaya</th>\n      <td>1430.0</td>\n      <td>10.0</td>\n      <td>27.0</td>\n      <td>20083.0</td>\n      <td>49.793358</td>\n      <td>134.442065</td>\n      <td>5.0</td>\n      <td>0.370370</td>\n    </tr>\n    <tr>\n      <th>Rosal de la Frontera</th>\n      <td>36.0</td>\n      <td>2.0</td>\n      <td>5.0</td>\n      <td>1697.0</td>\n      <td>117.855038</td>\n      <td>294.637596</td>\n      <td>2.0</td>\n      <td>0.400000</td>\n    </tr>\n    <tr>\n      <th>Palos de la Frontera</th>\n      <td>743.0</td>\n      <td>7.0</td>\n      <td>16.0</td>\n      <td>11742.0</td>\n      <td>59.615057</td>\n      <td>136.262988</td>\n      <td>3.0</td>\n      <td>0.437500</td>\n    </tr>\n    <tr>\n      <th>Ayamonte</th>\n      <td>1406.0</td>\n      <td>29.0</td>\n      <td>66.0</td>\n      <td>21104.0</td>\n      <td>137.414708</td>\n      <td>312.736922</td>\n      <td>18.0</td>\n      <td>0.439394</td>\n    </tr>\n    <tr>\n      <th>Sierra de Huelva-Andévalo Central</th>\n      <td>2979.0</td>\n      <td>20.0</td>\n      <td>45.0</td>\n      <td>67391.0</td>\n      <td>29.677553</td>\n      <td>66.774495</td>\n      <td>9.0</td>\n      <td>0.444444</td>\n    </tr>\n    <tr>\n      <th>Huelva (capital)</th>\n      <td>9340.0</td>\n      <td>116.0</td>\n      <td>245.0</td>\n      <td>143837.0</td>\n      <td>80.646843</td>\n      <td>170.331695</td>\n      <td>64.0</td>\n      <td>0.473469</td>\n    </tr>\n    <tr>\n      <th>Alosno</th>\n      <td>207.0</td>\n      <td>12.0</td>\n      <td>25.0</td>\n      <td>3933.0</td>\n      <td>305.110603</td>\n      <td>635.647089</td>\n      <td>6.0</td>\n      <td>0.480000</td>\n    </tr>\n    <tr>\n      <th>Puebla de Guzmán</th>\n      <td>145.0</td>\n      <td>2.0</td>\n      <td>4.0</td>\n      <td>3092.0</td>\n      <td>64.683053</td>\n      <td>129.366106</td>\n      <td>1.0</td>\n      <td>0.500000</td>\n    </tr>\n    <tr>\n      <th>Nerva</th>\n      <td>182.0</td>\n      <td>1.0</td>\n      <td>2.0</td>\n      <td>5169.0</td>\n      <td>19.346102</td>\n      <td>38.692204</td>\n      <td>0.0</td>\n      <td>0.500000</td>\n    </tr>\n    <tr>\n      <th>Zarza-Perrunal (La)</th>\n      <td>30.0</td>\n      <td>2.0</td>\n      <td>4.0</td>\n      <td>1253.0</td>\n      <td>159.616919</td>\n      <td>319.233839</td>\n      <td>0.0</td>\n      <td>0.500000</td>\n    </tr>\n    <tr>\n      <th>Beas</th>\n      <td>234.0</td>\n      <td>1.0</td>\n      <td>2.0</td>\n      <td>4341.0</td>\n      <td>23.036167</td>\n      <td>46.072334</td>\n      <td>0.0</td>\n      <td>0.500000</td>\n    </tr>\n    <tr>\n      <th>Cerro de Andévalo (El)</th>\n      <td>160.0</td>\n      <td>3.0</td>\n      <td>6.0</td>\n      <td>2327.0</td>\n      <td>128.921358</td>\n      <td>257.842716</td>\n      <td>0.0</td>\n      <td>0.500000</td>\n    </tr>\n    <tr>\n      <th>Huelva-Costa</th>\n      <td>19759.0</td>\n      <td>326.0</td>\n      <td>615.0</td>\n      <td>289548.0</td>\n      <td>112.589277</td>\n      <td>212.400017</td>\n      <td>180.0</td>\n      <td>0.530081</td>\n    </tr>\n    <tr>\n      <th>Punta Umbría</th>\n      <td>871.0</td>\n      <td>8.0</td>\n      <td>15.0</td>\n      <td>15355.0</td>\n      <td>52.100293</td>\n      <td>97.688049</td>\n      <td>3.0</td>\n      <td>0.533333</td>\n    </tr>\n    <tr>\n      <th>Huelva</th>\n      <td>34173.0</td>\n      <td>496.0</td>\n      <td>920.0</td>\n      <td>513170.0</td>\n      <td>96.654130</td>\n      <td>179.277822</td>\n      <td>250.0</td>\n      <td>0.539130</td>\n    </tr>\n    <tr>\n      <th>Aljaraque</th>\n      <td>1202.0</td>\n      <td>18.0</td>\n      <td>33.0</td>\n      <td>21474.0</td>\n      <td>83.822297</td>\n      <td>153.674211</td>\n      <td>10.0</td>\n      <td>0.545455</td>\n    </tr>\n    <tr>\n      <th>Lepe</th>\n      <td>2230.0</td>\n      <td>33.0</td>\n      <td>59.0</td>\n      <td>27880.0</td>\n      <td>118.364419</td>\n      <td>211.621234</td>\n      <td>21.0</td>\n      <td>0.559322</td>\n    </tr>\n    <tr>\n      <th>Condado-Campiña</th>\n      <td>11077.0</td>\n      <td>146.0</td>\n      <td>254.0</td>\n      <td>156231.0</td>\n      <td>93.451364</td>\n      <td>162.579770</td>\n      <td>62.0</td>\n      <td>0.574803</td>\n    </tr>\n    <tr>\n      <th>Lucena del Puerto</th>\n      <td>277.0</td>\n      <td>6.0</td>\n      <td>10.0</td>\n      <td>3261.0</td>\n      <td>183.992640</td>\n      <td>306.654400</td>\n      <td>2.0</td>\n      <td>0.600000</td>\n    </tr>\n    <tr>\n      <th>Palma del Condado (La)</th>\n      <td>1208.0</td>\n      <td>8.0</td>\n      <td>13.0</td>\n      <td>10801.0</td>\n      <td>74.067216</td>\n      <td>120.359226</td>\n      <td>5.0</td>\n      <td>0.615385</td>\n    </tr>\n    <tr>\n      <th>Aracena</th>\n      <td>547.0</td>\n      <td>4.0</td>\n      <td>6.0</td>\n      <td>8255.0</td>\n      <td>48.455482</td>\n      <td>72.683222</td>\n      <td>3.0</td>\n      <td>0.666667</td>\n    </tr>\n    <tr>\n      <th>Isla Cristina</th>\n      <td>2298.0</td>\n      <td>81.0</td>\n      <td>114.0</td>\n      <td>21393.0</td>\n      <td>378.628523</td>\n      <td>532.884588</td>\n      <td>46.0</td>\n      <td>0.710526</td>\n    </tr>\n    <tr>\n      <th>Almonte</th>\n      <td>1948.0</td>\n      <td>23.0</td>\n      <td>32.0</td>\n      <td>24507.0</td>\n      <td>93.850737</td>\n      <td>130.574938</td>\n      <td>4.0</td>\n      <td>0.718750</td>\n    </tr>\n    <tr>\n      <th>Gibraleón</th>\n      <td>678.0</td>\n      <td>18.0</td>\n      <td>25.0</td>\n      <td>12737.0</td>\n      <td>141.320562</td>\n      <td>196.278559</td>\n      <td>6.0</td>\n      <td>0.720000</td>\n    </tr>\n    <tr>\n      <th>San Bartolomé de la Torre</th>\n      <td>312.0</td>\n      <td>4.0</td>\n      <td>5.0</td>\n      <td>3761.0</td>\n      <td>106.354693</td>\n      <td>132.943366</td>\n      <td>2.0</td>\n      <td>0.800000</td>\n    </tr>\n    <tr>\n      <th>Trigueros</th>\n      <td>344.0</td>\n      <td>8.0</td>\n      <td>9.0</td>\n      <td>7862.0</td>\n      <td>101.755279</td>\n      <td>114.474688</td>\n      <td>5.0</td>\n      <td>0.888889</td>\n    </tr>\n    <tr>\n      <th>Santa Bárbara de Casa</th>\n      <td>34.0</td>\n      <td>16.0</td>\n      <td>18.0</td>\n      <td>1043.0</td>\n      <td>1534.036433</td>\n      <td>1725.790988</td>\n      <td>5.0</td>\n      <td>0.888889</td>\n    </tr>\n    <tr>\n      <th>Villanueva de los Castillejos</th>\n      <td>166.0</td>\n      <td>1.0</td>\n      <td>1.0</td>\n      <td>2825.0</td>\n      <td>35.398230</td>\n      <td>35.398230</td>\n      <td>0.0</td>\n      <td>1.000000</td>\n    </tr>\n    <tr>\n      <th>Villalba del Alcor</th>\n      <td>483.0</td>\n      <td>1.0</td>\n      <td>1.0</td>\n      <td>3366.0</td>\n      <td>29.708853</td>\n      <td>29.708853</td>\n      <td>0.0</td>\n      <td>1.000000</td>\n    </tr>\n    <tr>\n      <th>Calañas</th>\n      <td>202.0</td>\n      <td>1.0</td>\n      <td>1.0</td>\n      <td>2768.0</td>\n      <td>36.127168</td>\n      <td>36.127168</td>\n      <td>0.0</td>\n      <td>1.000000</td>\n    </tr>\n    <tr>\n      <th>Campillo (El)</th>\n      <td>75.0</td>\n      <td>1.0</td>\n      <td>1.0</td>\n      <td>2024.0</td>\n      <td>49.407115</td>\n      <td>49.407115</td>\n      <td>0.0</td>\n      <td>1.000000</td>\n    </tr>\n    <tr>\n      <th>Villarrasa</th>\n      <td>182.0</td>\n      <td>2.0</td>\n      <td>2.0</td>\n      <td>2211.0</td>\n      <td>90.456807</td>\n      <td>90.456807</td>\n      <td>0.0</td>\n      <td>1.000000</td>\n    </tr>\n    <tr>\n      <th>Niebla</th>\n      <td>280.0</td>\n      <td>31.0</td>\n      <td>31.0</td>\n      <td>4116.0</td>\n      <td>753.158406</td>\n      <td>753.158406</td>\n      <td>18.0</td>\n      <td>1.000000</td>\n    </tr>\n    <tr>\n      <th>Escacena del Campo</th>\n      <td>155.0</td>\n      <td>1.0</td>\n      <td>1.0</td>\n      <td>2287.0</td>\n      <td>43.725404</td>\n      <td>43.725404</td>\n      <td>0.0</td>\n      <td>1.000000</td>\n    </tr>\n    <tr>\n      <th>Minas de Riotinto</th>\n      <td>130.0</td>\n      <td>1.0</td>\n      <td>1.0</td>\n      <td>3812.0</td>\n      <td>26.232949</td>\n      <td>26.232949</td>\n      <td>0.0</td>\n      <td>1.000000</td>\n    </tr>\n    <tr>\n      <th>Puerto Moral</th>\n      <td>5.0</td>\n      <td>1.0</td>\n      <td>1.0</td>\n      <td>278.0</td>\n      <td>359.712230</td>\n      <td>359.712230</td>\n      <td>0.0</td>\n      <td>1.000000</td>\n    </tr>\n  </tbody>\n</table>\n</div>"
     },
     "metadata": {},
     "execution_count": 18
    }
   ],
   "source": [
    "# Peso de la tasa de la última semana en relación con la tasa a 14 días \n",
    "# Mejor cuanto menor. Valor 1 significa que no había casos antes de 7 días.\n",
    "tabla['7/14'] = tabla['tasa7'] / tabla['tasa14']\n",
    "tabla.fillna(0).sort_values('7/14', ascending=True)"
   ]
  },
  {
   "cell_type": "code",
   "execution_count": null,
   "metadata": {},
   "outputs": [],
   "source": []
  }
 ]
}