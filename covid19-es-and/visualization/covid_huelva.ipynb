{
 "metadata": {
  "language_info": {
   "codemirror_mode": {
    "name": "ipython",
    "version": 3
   },
   "file_extension": ".py",
   "mimetype": "text/x-python",
   "name": "python",
   "nbconvert_exporter": "python",
   "pygments_lexer": "ipython3",
   "version": "3.6.9-final"
  },
  "orig_nbformat": 2,
  "kernelspec": {
   "name": "Python 3.6.9 64-bit",
   "display_name": "Python 3.6.9 64-bit",
   "metadata": {
    "interpreter": {
     "hash": "31f2aee4e71d21fbe5cf8b01ff0e069b9275f58929596ceb00d14d90e3e16cd6"
    }
   }
  }
 },
 "nbformat": 4,
 "nbformat_minor": 2,
 "cells": [
  {
   "cell_type": "code",
   "execution_count": 1,
   "metadata": {},
   "outputs": [],
   "source": [
    "import pandas as pd"
   ]
  },
  {
   "cell_type": "code",
   "execution_count": 2,
   "metadata": {},
   "outputs": [],
   "source": [
    "# FIX SSL: CERTIFICATE_VERIFY_FAILED with Python3\n",
    "# https://stackoverflow.com/a/49174340\n",
    "import ssl\n",
    "\n",
    "ssl._create_default_https_context = ssl._create_unverified_context"
   ]
  },
  {
   "cell_type": "code",
   "execution_count": 3,
   "metadata": {},
   "outputs": [],
   "source": [
    "url = 'https://www.juntadeandalucia.es/institutodeestadisticaycartografia/badea/stpivot/stpivot/Print?cube=013d884c-cfc5-4c21-9e78-e26225682afd&type=3&foto=si&ejecutaDesde=&codConsulta=38668&consTipoVisua=JP'\n",
    "fields = ['Lugar de residencia', 'Medida', 'Valor']\n",
    "df = pd.read_csv(url, delimiter=';', usecols=fields, decimal=',')"
   ]
  },
  {
   "cell_type": "code",
   "execution_count": 4,
   "metadata": {},
   "outputs": [
    {
     "output_type": "execute_result",
     "data": {
      "text/plain": "                     Lugar de residencia                    Medida  \\\n0                                 Huelva                 Población   \n1                                 Huelva          Confirmados PDIA   \n2                                 Huelva  Confirmados PDIA 14 días   \n3                                 Huelva         Tasa PDIA 14 días   \n4                                 Huelva   Confirmados PDIA 7 días   \n..                                   ...                       ...   \n627  Municipio de Huelva sin especificar         Tasa PDIA 14 días   \n628  Municipio de Huelva sin especificar   Confirmados PDIA 7 días   \n629  Municipio de Huelva sin especificar        Total Confirmados    \n630  Municipio de Huelva sin especificar                   Curados   \n631  Municipio de Huelva sin especificar                Fallecidos   \n\n                 Valor  \n0               510743  \n1                 1714  \n2                  507  \n3    99,26714609891863  \n4                  241  \n..                 ...  \n627                  -  \n628                  3  \n629                 26  \n630                  1  \n631                  1  \n\n[632 rows x 3 columns]",
      "text/html": "<div>\n<style scoped>\n    .dataframe tbody tr th:only-of-type {\n        vertical-align: middle;\n    }\n\n    .dataframe tbody tr th {\n        vertical-align: top;\n    }\n\n    .dataframe thead th {\n        text-align: right;\n    }\n</style>\n<table border=\"1\" class=\"dataframe\">\n  <thead>\n    <tr style=\"text-align: right;\">\n      <th></th>\n      <th>Lugar de residencia</th>\n      <th>Medida</th>\n      <th>Valor</th>\n    </tr>\n  </thead>\n  <tbody>\n    <tr>\n      <th>0</th>\n      <td>Huelva</td>\n      <td>Población</td>\n      <td>510743</td>\n    </tr>\n    <tr>\n      <th>1</th>\n      <td>Huelva</td>\n      <td>Confirmados PDIA</td>\n      <td>1714</td>\n    </tr>\n    <tr>\n      <th>2</th>\n      <td>Huelva</td>\n      <td>Confirmados PDIA 14 días</td>\n      <td>507</td>\n    </tr>\n    <tr>\n      <th>3</th>\n      <td>Huelva</td>\n      <td>Tasa PDIA 14 días</td>\n      <td>99,26714609891863</td>\n    </tr>\n    <tr>\n      <th>4</th>\n      <td>Huelva</td>\n      <td>Confirmados PDIA 7 días</td>\n      <td>241</td>\n    </tr>\n    <tr>\n      <th>...</th>\n      <td>...</td>\n      <td>...</td>\n      <td>...</td>\n    </tr>\n    <tr>\n      <th>627</th>\n      <td>Municipio de Huelva sin especificar</td>\n      <td>Tasa PDIA 14 días</td>\n      <td>-</td>\n    </tr>\n    <tr>\n      <th>628</th>\n      <td>Municipio de Huelva sin especificar</td>\n      <td>Confirmados PDIA 7 días</td>\n      <td>3</td>\n    </tr>\n    <tr>\n      <th>629</th>\n      <td>Municipio de Huelva sin especificar</td>\n      <td>Total Confirmados</td>\n      <td>26</td>\n    </tr>\n    <tr>\n      <th>630</th>\n      <td>Municipio de Huelva sin especificar</td>\n      <td>Curados</td>\n      <td>1</td>\n    </tr>\n    <tr>\n      <th>631</th>\n      <td>Municipio de Huelva sin especificar</td>\n      <td>Fallecidos</td>\n      <td>1</td>\n    </tr>\n  </tbody>\n</table>\n<p>632 rows × 3 columns</p>\n</div>"
     },
     "metadata": {},
     "execution_count": 4
    }
   ],
   "source": [
    "df"
   ]
  },
  {
   "cell_type": "code",
   "execution_count": 5,
   "metadata": {},
   "outputs": [],
   "source": [
    "df['Valor'] = pd.to_numeric(df['Valor'],errors='coerce')"
   ]
  },
  {
   "cell_type": "code",
   "execution_count": 6,
   "metadata": {},
   "outputs": [],
   "source": [
    "dfAnterior = pd.read_csv('covid_huelva.csv', index_col='Lugar de residencia')"
   ]
  },
  {
   "cell_type": "code",
   "execution_count": 7,
   "metadata": {
    "tags": []
   },
   "outputs": [
    {
     "output_type": "stream",
     "name": "stdout",
     "text": "Confirmados PCR en la provincia de Huelva:  1714.0\n"
    }
   ],
   "source": [
    "# Confirmados PCR provincia Huelva\n",
    "p = df[df['Lugar de residencia'] == 'Huelva'][df['Medida'] == 'Confirmados PDIA']['Valor'].values[0]\n",
    "print('Confirmados PCR en la provincia de Huelva: ', p)"
   ]
  },
  {
   "cell_type": "code",
   "execution_count": 8,
   "metadata": {
    "tags": []
   },
   "outputs": [
    {
     "output_type": "stream",
     "name": "stdout",
     "text": "Confirmados PCR en Huelva capital:  411.0\n"
    }
   ],
   "source": [
    "# Confirmados PCR Huelva capitalpd\n",
    "c = df[df['Lugar de residencia'] == 'Huelva (capital)'][df['Medida'] == 'Confirmados PDIA']['Valor'].values[0]\n",
    "print('Confirmados PCR en Huelva capital: ', c)"
   ]
  },
  {
   "cell_type": "code",
   "execution_count": 9,
   "metadata": {
    "tags": []
   },
   "outputs": [],
   "source": [
    "c7 = df[df['Lugar de residencia'] == 'Huelva (capital)'][df['Medida'] == 'Confirmados PDIA 7 días']['Valor'].values[0]\n",
    "c14 = df[df['Lugar de residencia'] == 'Huelva (capital)'][df['Medida'] == 'Confirmados PDIA 14 días']['Valor'].values[0]\n",
    "p = df[df['Lugar de residencia'] == 'Huelva (capital)'][df['Medida'] == 'Población']['Valor'].values[0]"
   ]
  },
  {
   "cell_type": "code",
   "execution_count": 10,
   "metadata": {
    "tags": []
   },
   "outputs": [
    {
     "output_type": "stream",
     "name": "stdout",
     "text": "Huelva (capital)\n\nUn positivo PCR cada 2711 personas en los últimos 7 días \n\nUn positivo PCR cada 1579 personas en los últimos 14 días\n"
    }
   ],
   "source": [
    "print('Huelva (capital)\\n')\n",
    "#print('Confirmados PCR 7 días x 1,000 habitantes: ', f\"{c7/(p/1000):.5f}\")\n",
    "print('Un positivo PCR cada', f\"{p/c7:.0f}\", 'personas en los últimos 7 días', '\\n')\n",
    "#print('Confirmados PCR 14 días x 1,000 habitantes: ', f\"{c14/(p/1000):.5f}\")\n",
    "print('Un positivo PCR cada', f\"{p/c14:.0f}\", 'personas en los últimos 14 días')"
   ]
  },
  {
   "cell_type": "code",
   "execution_count": 11,
   "metadata": {},
   "outputs": [],
   "source": [
    "filtro = ((df['Medida'] == 'Confirmados PDIA')| (df['Medida'] == 'Confirmados PDIA 7 días') | (df['Medida'] == 'Población' ) | (df['Medida'] == 'Confirmados PDIA 14 días')) & (df['Valor'] > 0)\n",
    "tabla = pd.pivot_table(df.loc[filtro], values='Valor', index='Lugar de residencia', columns='Medida').dropna()"
   ]
  },
  {
   "cell_type": "code",
   "execution_count": 12,
   "metadata": {},
   "outputs": [],
   "source": [
    "# Reorder columns\n",
    "tabla = tabla[['Confirmados PDIA', 'Confirmados PDIA 7 días', 'Confirmados PDIA 14 días', 'Población']]"
   ]
  },
  {
   "cell_type": "code",
   "execution_count": 13,
   "metadata": {},
   "outputs": [],
   "source": [
    "tabla['tasa7'] = tabla['Confirmados PDIA 7 días']/tabla['Población']*100000\n",
    "tabla['tasa14'] = tabla['Confirmados PDIA 14 días']/tabla['Población']*100000"
   ]
  },
  {
   "cell_type": "code",
   "execution_count": 14,
   "metadata": {},
   "outputs": [],
   "source": [
    "tabla['Diferencia PDIA'] = tabla['Confirmados PDIA'] - dfAnterior['Confirmados PDIA']"
   ]
  },
  {
   "cell_type": "code",
   "execution_count": 15,
   "metadata": {},
   "outputs": [
    {
     "output_type": "execute_result",
     "data": {
      "text/plain": "Medida                             Confirmados PDIA  Confirmados PDIA 7 días  \\\nLugar de residencia                                                            \nHuelva                                       1714.0                    241.0   \nCondado-Campiña                               612.0                    126.0   \nHuelva-Costa                                  852.0                     97.0   \nLepe                                          131.0                     28.0   \nHuelva (capital)                              411.0                     53.0   \nSan Juan del Puerto                            64.0                     43.0   \nPalma del Condado (La)                         86.0                     17.0   \nAlmonte                                        58.0                      4.0   \nVillarrasa                                     13.0                      7.0   \nAracena                                        53.0                      4.0   \nLucena del Puerto                              13.0                      2.0   \nGibraleón                                      32.0                      9.0   \nPalos de la Frontera                           29.0                      2.0   \nBollullos Par del Condado                     106.0                     22.0   \nSierra de Huelva-Andévalo Central             224.0                     15.0   \nVillanueva de los Castillejos                  12.0                      5.0   \nIsla Cristina                                  69.0                      2.0   \nBeas                                            8.0                      1.0   \nEscacena del Campo                             16.0                      1.0   \nSan Bartolomé de la Torre                       4.0                      1.0   \nVillalba del Alcor                             43.0                      1.0   \n\nMedida                             Confirmados PDIA 14 días  Población  \\\nLugar de residencia                                                      \nHuelva                                                507.0   510743.0   \nCondado-Campiña                                       251.0   155057.0   \nHuelva-Costa                                          200.0   288115.0   \nLepe                                                   56.0    27431.0   \nHuelva (capital)                                       91.0   143663.0   \nSan Juan del Puerto                                    43.0     9300.0   \nPalma del Condado (La)                                 50.0    10761.0   \nAlmonte                                                 9.0    24191.0   \nVillarrasa                                              9.0     2176.0   \nAracena                                                 6.0     8107.0   \nLucena del Puerto                                       8.0     3371.0   \nGibraleón                                              16.0    12607.0   \nPalos de la Frontera                                    3.0    11289.0   \nBollullos Par del Condado                              55.0    14272.0   \nSierra de Huelva-Andévalo Central                      51.0    67571.0   \nVillanueva de los Castillejos                          10.0     2820.0   \nIsla Cristina                                           7.0    21264.0   \nBeas                                                    1.0     4257.0   \nEscacena del Campo                                      1.0     2284.0   \nSan Bartolomé de la Torre                               2.0     3736.0   \nVillalba del Alcor                                      1.0     3338.0   \n\nMedida                                  tasa7      tasa14  Diferencia PDIA  \nLugar de residencia                                                         \nHuelva                              47.186158   99.267146             44.0  \nCondado-Campiña                     81.260440  161.875955             22.0  \nHuelva-Costa                        33.667112   69.416726             20.0  \nLepe                               102.074296  204.148591              9.0  \nHuelva (capital)                    36.891893   63.342684              9.0  \nSan Juan del Puerto                462.365591  462.365591              6.0  \nPalma del Condado (La)             157.977883  464.640833              4.0  \nAlmonte                             16.535075   37.203919              2.0  \nVillarrasa                         321.691176  413.602941              2.0  \nAracena                             49.340076   74.010115              1.0  \nLucena del Puerto                   59.329576  237.318303              1.0  \nGibraleón                           71.388911  126.913619              1.0  \nPalos de la Frontera                17.716361   26.574542              1.0  \nBollullos Par del Condado          154.147982  385.369955              1.0  \nSierra de Huelva-Andévalo Central   22.198872   75.476166              1.0  \nVillanueva de los Castillejos      177.304965  354.609929              1.0  \nIsla Cristina                        9.405568   32.919488              1.0  \nBeas                                23.490721   23.490721              NaN  \nEscacena del Campo                  43.782837   43.782837              NaN  \nSan Bartolomé de la Torre           26.766595   53.533191              NaN  \nVillalba del Alcor                  29.958059   29.958059              NaN  ",
      "text/html": "<div>\n<style scoped>\n    .dataframe tbody tr th:only-of-type {\n        vertical-align: middle;\n    }\n\n    .dataframe tbody tr th {\n        vertical-align: top;\n    }\n\n    .dataframe thead th {\n        text-align: right;\n    }\n</style>\n<table border=\"1\" class=\"dataframe\">\n  <thead>\n    <tr style=\"text-align: right;\">\n      <th>Medida</th>\n      <th>Confirmados PDIA</th>\n      <th>Confirmados PDIA 7 días</th>\n      <th>Confirmados PDIA 14 días</th>\n      <th>Población</th>\n      <th>tasa7</th>\n      <th>tasa14</th>\n      <th>Diferencia PDIA</th>\n    </tr>\n    <tr>\n      <th>Lugar de residencia</th>\n      <th></th>\n      <th></th>\n      <th></th>\n      <th></th>\n      <th></th>\n      <th></th>\n      <th></th>\n    </tr>\n  </thead>\n  <tbody>\n    <tr>\n      <th>Huelva</th>\n      <td>1714.0</td>\n      <td>241.0</td>\n      <td>507.0</td>\n      <td>510743.0</td>\n      <td>47.186158</td>\n      <td>99.267146</td>\n      <td>44.0</td>\n    </tr>\n    <tr>\n      <th>Condado-Campiña</th>\n      <td>612.0</td>\n      <td>126.0</td>\n      <td>251.0</td>\n      <td>155057.0</td>\n      <td>81.260440</td>\n      <td>161.875955</td>\n      <td>22.0</td>\n    </tr>\n    <tr>\n      <th>Huelva-Costa</th>\n      <td>852.0</td>\n      <td>97.0</td>\n      <td>200.0</td>\n      <td>288115.0</td>\n      <td>33.667112</td>\n      <td>69.416726</td>\n      <td>20.0</td>\n    </tr>\n    <tr>\n      <th>Lepe</th>\n      <td>131.0</td>\n      <td>28.0</td>\n      <td>56.0</td>\n      <td>27431.0</td>\n      <td>102.074296</td>\n      <td>204.148591</td>\n      <td>9.0</td>\n    </tr>\n    <tr>\n      <th>Huelva (capital)</th>\n      <td>411.0</td>\n      <td>53.0</td>\n      <td>91.0</td>\n      <td>143663.0</td>\n      <td>36.891893</td>\n      <td>63.342684</td>\n      <td>9.0</td>\n    </tr>\n    <tr>\n      <th>San Juan del Puerto</th>\n      <td>64.0</td>\n      <td>43.0</td>\n      <td>43.0</td>\n      <td>9300.0</td>\n      <td>462.365591</td>\n      <td>462.365591</td>\n      <td>6.0</td>\n    </tr>\n    <tr>\n      <th>Palma del Condado (La)</th>\n      <td>86.0</td>\n      <td>17.0</td>\n      <td>50.0</td>\n      <td>10761.0</td>\n      <td>157.977883</td>\n      <td>464.640833</td>\n      <td>4.0</td>\n    </tr>\n    <tr>\n      <th>Almonte</th>\n      <td>58.0</td>\n      <td>4.0</td>\n      <td>9.0</td>\n      <td>24191.0</td>\n      <td>16.535075</td>\n      <td>37.203919</td>\n      <td>2.0</td>\n    </tr>\n    <tr>\n      <th>Villarrasa</th>\n      <td>13.0</td>\n      <td>7.0</td>\n      <td>9.0</td>\n      <td>2176.0</td>\n      <td>321.691176</td>\n      <td>413.602941</td>\n      <td>2.0</td>\n    </tr>\n    <tr>\n      <th>Aracena</th>\n      <td>53.0</td>\n      <td>4.0</td>\n      <td>6.0</td>\n      <td>8107.0</td>\n      <td>49.340076</td>\n      <td>74.010115</td>\n      <td>1.0</td>\n    </tr>\n    <tr>\n      <th>Lucena del Puerto</th>\n      <td>13.0</td>\n      <td>2.0</td>\n      <td>8.0</td>\n      <td>3371.0</td>\n      <td>59.329576</td>\n      <td>237.318303</td>\n      <td>1.0</td>\n    </tr>\n    <tr>\n      <th>Gibraleón</th>\n      <td>32.0</td>\n      <td>9.0</td>\n      <td>16.0</td>\n      <td>12607.0</td>\n      <td>71.388911</td>\n      <td>126.913619</td>\n      <td>1.0</td>\n    </tr>\n    <tr>\n      <th>Palos de la Frontera</th>\n      <td>29.0</td>\n      <td>2.0</td>\n      <td>3.0</td>\n      <td>11289.0</td>\n      <td>17.716361</td>\n      <td>26.574542</td>\n      <td>1.0</td>\n    </tr>\n    <tr>\n      <th>Bollullos Par del Condado</th>\n      <td>106.0</td>\n      <td>22.0</td>\n      <td>55.0</td>\n      <td>14272.0</td>\n      <td>154.147982</td>\n      <td>385.369955</td>\n      <td>1.0</td>\n    </tr>\n    <tr>\n      <th>Sierra de Huelva-Andévalo Central</th>\n      <td>224.0</td>\n      <td>15.0</td>\n      <td>51.0</td>\n      <td>67571.0</td>\n      <td>22.198872</td>\n      <td>75.476166</td>\n      <td>1.0</td>\n    </tr>\n    <tr>\n      <th>Villanueva de los Castillejos</th>\n      <td>12.0</td>\n      <td>5.0</td>\n      <td>10.0</td>\n      <td>2820.0</td>\n      <td>177.304965</td>\n      <td>354.609929</td>\n      <td>1.0</td>\n    </tr>\n    <tr>\n      <th>Isla Cristina</th>\n      <td>69.0</td>\n      <td>2.0</td>\n      <td>7.0</td>\n      <td>21264.0</td>\n      <td>9.405568</td>\n      <td>32.919488</td>\n      <td>1.0</td>\n    </tr>\n    <tr>\n      <th>Beas</th>\n      <td>8.0</td>\n      <td>1.0</td>\n      <td>1.0</td>\n      <td>4257.0</td>\n      <td>23.490721</td>\n      <td>23.490721</td>\n      <td>NaN</td>\n    </tr>\n    <tr>\n      <th>Escacena del Campo</th>\n      <td>16.0</td>\n      <td>1.0</td>\n      <td>1.0</td>\n      <td>2284.0</td>\n      <td>43.782837</td>\n      <td>43.782837</td>\n      <td>NaN</td>\n    </tr>\n    <tr>\n      <th>San Bartolomé de la Torre</th>\n      <td>4.0</td>\n      <td>1.0</td>\n      <td>2.0</td>\n      <td>3736.0</td>\n      <td>26.766595</td>\n      <td>53.533191</td>\n      <td>NaN</td>\n    </tr>\n    <tr>\n      <th>Villalba del Alcor</th>\n      <td>43.0</td>\n      <td>1.0</td>\n      <td>1.0</td>\n      <td>3338.0</td>\n      <td>29.958059</td>\n      <td>29.958059</td>\n      <td>NaN</td>\n    </tr>\n  </tbody>\n</table>\n</div>"
     },
     "metadata": {},
     "execution_count": 15
    }
   ],
   "source": [
    "# Nuevos casos desde la última captura\n",
    "tabla[tabla['Diferencia PDIA'] != 0].sort_values('Diferencia PDIA', ascending=False)"
   ]
  },
  {
   "cell_type": "code",
   "execution_count": 16,
   "metadata": {},
   "outputs": [],
   "source": [
    "if tabla[tabla['Diferencia PDIA'] != 0]['Diferencia PDIA'].sum() > 0:\n",
    "  # Save to csv\n",
    "  tabla.to_csv('covid_huelva.csv', encoding='utf-8', header=True, index=True)  "
   ]
  },
  {
   "cell_type": "code",
   "execution_count": 17,
   "metadata": {},
   "outputs": [
    {
     "output_type": "execute_result",
     "data": {
      "text/plain": "Medida                             Confirmados PDIA  Confirmados PDIA 7 días  \\\nLugar de residencia                                                            \nManzanilla                                     19.0                      3.0   \nAlmendro (El)                                   5.0                      1.0   \nPalma del Condado (La)                         86.0                     17.0   \nSan Juan del Puerto                            64.0                     43.0   \nValdelarco                                      2.0                      1.0   \nVillarrasa                                     13.0                      7.0   \nBollullos Par del Condado                     106.0                     22.0   \nVillanueva de los Castillejos                  12.0                      5.0   \nLucena del Puerto                              13.0                      2.0   \nLepe                                          131.0                     28.0   \nJabugo                                          8.0                      3.0   \nVillablanca                                     7.0                      2.0   \nCerro de Andévalo (El)                          5.0                      1.0   \nCondado-Campiña                               612.0                    126.0   \nPaterna del Campo                              12.0                      1.0   \nGibraleón                                      32.0                      9.0   \nHuelva                                       1714.0                    241.0   \nMoguer                                         49.0                      6.0   \nHiguera de la Sierra                            3.0                      1.0   \nSierra de Huelva-Andévalo Central             224.0                     15.0   \nAracena                                        53.0                      4.0   \nNiebla                                          5.0                      2.0   \nHuelva-Costa                                  852.0                     97.0   \nBonares                                         8.0                      3.0   \nAroche                                         10.0                      1.0   \nHuelva (capital)                              411.0                     53.0   \nSan Bartolomé de la Torre                       4.0                      1.0   \nMinas de Riotinto                              18.0                      1.0   \nRociana del Condado                            10.0                      1.0   \nPunta Umbría                                   36.0                      1.0   \nEscacena del Campo                             16.0                      1.0   \nAlmonte                                        58.0                      4.0   \nAljaraque                                      73.0                      2.0   \nIsla Cristina                                  69.0                      2.0   \nVillalba del Alcor                             43.0                      1.0   \nAyamonte                                       51.0                      1.0   \nPalos de la Frontera                           29.0                      2.0   \nBeas                                            8.0                      1.0   \nValverde del Camino                            29.0                      2.0   \nCartaya                                        27.0                      2.0   \nNerva                                          24.0                      1.0   \n\nMedida                             Confirmados PDIA 14 días  Población  \\\nLugar de residencia                                                      \nManzanilla                                             15.0     2135.0   \nAlmendro (El)                                           4.0      826.0   \nPalma del Condado (La)                                 50.0    10761.0   \nSan Juan del Puerto                                    43.0     9300.0   \nValdelarco                                              1.0      239.0   \nVillarrasa                                              9.0     2176.0   \nBollullos Par del Condado                              55.0    14272.0   \nVillanueva de los Castillejos                          10.0     2820.0   \nLucena del Puerto                                       8.0     3371.0   \nLepe                                                   56.0    27431.0   \nJabugo                                                  4.0     2250.0   \nVillablanca                                             5.0     2848.0   \nCerro de Andévalo (El)                                  4.0     2364.0   \nCondado-Campiña                                       251.0   155057.0   \nPaterna del Campo                                       5.0     3509.0   \nGibraleón                                              16.0    12607.0   \nHuelva                                                507.0   510743.0   \nMoguer                                                 18.0    22088.0   \nHiguera de la Sierra                                    1.0     1287.0   \nSierra de Huelva-Andévalo Central                      51.0    67571.0   \nAracena                                                 6.0     8107.0   \nNiebla                                                  3.0     4117.0   \nHuelva-Costa                                          200.0   288115.0   \nBonares                                                 4.0     6058.0   \nAroche                                                  2.0     3073.0   \nHuelva (capital)                                       91.0   143663.0   \nSan Bartolomé de la Torre                               2.0     3736.0   \nMinas de Riotinto                                       2.0     3848.0   \nRociana del Condado                                     4.0     7855.0   \nPunta Umbría                                            7.0    15242.0   \nEscacena del Campo                                      1.0     2284.0   \nAlmonte                                                 9.0    24191.0   \nAljaraque                                               7.0    21260.0   \nIsla Cristina                                           7.0    21264.0   \nVillalba del Alcor                                      1.0     3338.0   \nAyamonte                                                6.0    20946.0   \nPalos de la Frontera                                    3.0    11289.0   \nBeas                                                    1.0     4257.0   \nValverde del Camino                                     3.0    12820.0   \nCartaya                                                 4.0    19974.0   \nNerva                                                   1.0     5235.0   \n\nMedida                                  tasa7      tasa14  Diferencia PDIA  \nLugar de residencia                                                         \nManzanilla                         140.515222  702.576112              0.0  \nAlmendro (El)                      121.065375  484.261501              0.0  \nPalma del Condado (La)             157.977883  464.640833              4.0  \nSan Juan del Puerto                462.365591  462.365591              6.0  \nValdelarco                         418.410042  418.410042              0.0  \nVillarrasa                         321.691176  413.602941              2.0  \nBollullos Par del Condado          154.147982  385.369955              1.0  \nVillanueva de los Castillejos      177.304965  354.609929              1.0  \nLucena del Puerto                   59.329576  237.318303              1.0  \nLepe                               102.074296  204.148591              9.0  \nJabugo                             133.333333  177.777778              0.0  \nVillablanca                         70.224719  175.561798              0.0  \nCerro de Andévalo (El)              42.301184  169.204738              0.0  \nCondado-Campiña                     81.260440  161.875955             22.0  \nPaterna del Campo                   28.498148  142.490738              0.0  \nGibraleón                           71.388911  126.913619              1.0  \nHuelva                              47.186158   99.267146             44.0  \nMoguer                              27.164071   81.492213              0.0  \nHiguera de la Sierra                77.700078   77.700078              0.0  \nSierra de Huelva-Andévalo Central   22.198872   75.476166              1.0  \nAracena                             49.340076   74.010115              1.0  \nNiebla                              48.579062   72.868594              0.0  \nHuelva-Costa                        33.667112   69.416726             20.0  \nBonares                             49.521294   66.028392              0.0  \nAroche                              32.541490   65.082981              0.0  \nHuelva (capital)                    36.891893   63.342684              9.0  \nSan Bartolomé de la Torre           26.766595   53.533191              NaN  \nMinas de Riotinto                   25.987526   51.975052              0.0  \nRociana del Condado                 12.730745   50.922979              0.0  \nPunta Umbría                         6.560819   45.925732              0.0  \nEscacena del Campo                  43.782837   43.782837              NaN  \nAlmonte                             16.535075   37.203919              2.0  \nAljaraque                            9.407338   32.925682              0.0  \nIsla Cristina                        9.405568   32.919488              1.0  \nVillalba del Alcor                  29.958059   29.958059              NaN  \nAyamonte                             4.774181   28.645087              0.0  \nPalos de la Frontera                17.716361   26.574542              1.0  \nBeas                                23.490721   23.490721              NaN  \nValverde del Camino                 15.600624   23.400936              0.0  \nCartaya                             10.013017   20.026034              0.0  \nNerva                               19.102197   19.102197              0.0  ",
      "text/html": "<div>\n<style scoped>\n    .dataframe tbody tr th:only-of-type {\n        vertical-align: middle;\n    }\n\n    .dataframe tbody tr th {\n        vertical-align: top;\n    }\n\n    .dataframe thead th {\n        text-align: right;\n    }\n</style>\n<table border=\"1\" class=\"dataframe\">\n  <thead>\n    <tr style=\"text-align: right;\">\n      <th>Medida</th>\n      <th>Confirmados PDIA</th>\n      <th>Confirmados PDIA 7 días</th>\n      <th>Confirmados PDIA 14 días</th>\n      <th>Población</th>\n      <th>tasa7</th>\n      <th>tasa14</th>\n      <th>Diferencia PDIA</th>\n    </tr>\n    <tr>\n      <th>Lugar de residencia</th>\n      <th></th>\n      <th></th>\n      <th></th>\n      <th></th>\n      <th></th>\n      <th></th>\n      <th></th>\n    </tr>\n  </thead>\n  <tbody>\n    <tr>\n      <th>Manzanilla</th>\n      <td>19.0</td>\n      <td>3.0</td>\n      <td>15.0</td>\n      <td>2135.0</td>\n      <td>140.515222</td>\n      <td>702.576112</td>\n      <td>0.0</td>\n    </tr>\n    <tr>\n      <th>Almendro (El)</th>\n      <td>5.0</td>\n      <td>1.0</td>\n      <td>4.0</td>\n      <td>826.0</td>\n      <td>121.065375</td>\n      <td>484.261501</td>\n      <td>0.0</td>\n    </tr>\n    <tr>\n      <th>Palma del Condado (La)</th>\n      <td>86.0</td>\n      <td>17.0</td>\n      <td>50.0</td>\n      <td>10761.0</td>\n      <td>157.977883</td>\n      <td>464.640833</td>\n      <td>4.0</td>\n    </tr>\n    <tr>\n      <th>San Juan del Puerto</th>\n      <td>64.0</td>\n      <td>43.0</td>\n      <td>43.0</td>\n      <td>9300.0</td>\n      <td>462.365591</td>\n      <td>462.365591</td>\n      <td>6.0</td>\n    </tr>\n    <tr>\n      <th>Valdelarco</th>\n      <td>2.0</td>\n      <td>1.0</td>\n      <td>1.0</td>\n      <td>239.0</td>\n      <td>418.410042</td>\n      <td>418.410042</td>\n      <td>0.0</td>\n    </tr>\n    <tr>\n      <th>Villarrasa</th>\n      <td>13.0</td>\n      <td>7.0</td>\n      <td>9.0</td>\n      <td>2176.0</td>\n      <td>321.691176</td>\n      <td>413.602941</td>\n      <td>2.0</td>\n    </tr>\n    <tr>\n      <th>Bollullos Par del Condado</th>\n      <td>106.0</td>\n      <td>22.0</td>\n      <td>55.0</td>\n      <td>14272.0</td>\n      <td>154.147982</td>\n      <td>385.369955</td>\n      <td>1.0</td>\n    </tr>\n    <tr>\n      <th>Villanueva de los Castillejos</th>\n      <td>12.0</td>\n      <td>5.0</td>\n      <td>10.0</td>\n      <td>2820.0</td>\n      <td>177.304965</td>\n      <td>354.609929</td>\n      <td>1.0</td>\n    </tr>\n    <tr>\n      <th>Lucena del Puerto</th>\n      <td>13.0</td>\n      <td>2.0</td>\n      <td>8.0</td>\n      <td>3371.0</td>\n      <td>59.329576</td>\n      <td>237.318303</td>\n      <td>1.0</td>\n    </tr>\n    <tr>\n      <th>Lepe</th>\n      <td>131.0</td>\n      <td>28.0</td>\n      <td>56.0</td>\n      <td>27431.0</td>\n      <td>102.074296</td>\n      <td>204.148591</td>\n      <td>9.0</td>\n    </tr>\n    <tr>\n      <th>Jabugo</th>\n      <td>8.0</td>\n      <td>3.0</td>\n      <td>4.0</td>\n      <td>2250.0</td>\n      <td>133.333333</td>\n      <td>177.777778</td>\n      <td>0.0</td>\n    </tr>\n    <tr>\n      <th>Villablanca</th>\n      <td>7.0</td>\n      <td>2.0</td>\n      <td>5.0</td>\n      <td>2848.0</td>\n      <td>70.224719</td>\n      <td>175.561798</td>\n      <td>0.0</td>\n    </tr>\n    <tr>\n      <th>Cerro de Andévalo (El)</th>\n      <td>5.0</td>\n      <td>1.0</td>\n      <td>4.0</td>\n      <td>2364.0</td>\n      <td>42.301184</td>\n      <td>169.204738</td>\n      <td>0.0</td>\n    </tr>\n    <tr>\n      <th>Condado-Campiña</th>\n      <td>612.0</td>\n      <td>126.0</td>\n      <td>251.0</td>\n      <td>155057.0</td>\n      <td>81.260440</td>\n      <td>161.875955</td>\n      <td>22.0</td>\n    </tr>\n    <tr>\n      <th>Paterna del Campo</th>\n      <td>12.0</td>\n      <td>1.0</td>\n      <td>5.0</td>\n      <td>3509.0</td>\n      <td>28.498148</td>\n      <td>142.490738</td>\n      <td>0.0</td>\n    </tr>\n    <tr>\n      <th>Gibraleón</th>\n      <td>32.0</td>\n      <td>9.0</td>\n      <td>16.0</td>\n      <td>12607.0</td>\n      <td>71.388911</td>\n      <td>126.913619</td>\n      <td>1.0</td>\n    </tr>\n    <tr>\n      <th>Huelva</th>\n      <td>1714.0</td>\n      <td>241.0</td>\n      <td>507.0</td>\n      <td>510743.0</td>\n      <td>47.186158</td>\n      <td>99.267146</td>\n      <td>44.0</td>\n    </tr>\n    <tr>\n      <th>Moguer</th>\n      <td>49.0</td>\n      <td>6.0</td>\n      <td>18.0</td>\n      <td>22088.0</td>\n      <td>27.164071</td>\n      <td>81.492213</td>\n      <td>0.0</td>\n    </tr>\n    <tr>\n      <th>Higuera de la Sierra</th>\n      <td>3.0</td>\n      <td>1.0</td>\n      <td>1.0</td>\n      <td>1287.0</td>\n      <td>77.700078</td>\n      <td>77.700078</td>\n      <td>0.0</td>\n    </tr>\n    <tr>\n      <th>Sierra de Huelva-Andévalo Central</th>\n      <td>224.0</td>\n      <td>15.0</td>\n      <td>51.0</td>\n      <td>67571.0</td>\n      <td>22.198872</td>\n      <td>75.476166</td>\n      <td>1.0</td>\n    </tr>\n    <tr>\n      <th>Aracena</th>\n      <td>53.0</td>\n      <td>4.0</td>\n      <td>6.0</td>\n      <td>8107.0</td>\n      <td>49.340076</td>\n      <td>74.010115</td>\n      <td>1.0</td>\n    </tr>\n    <tr>\n      <th>Niebla</th>\n      <td>5.0</td>\n      <td>2.0</td>\n      <td>3.0</td>\n      <td>4117.0</td>\n      <td>48.579062</td>\n      <td>72.868594</td>\n      <td>0.0</td>\n    </tr>\n    <tr>\n      <th>Huelva-Costa</th>\n      <td>852.0</td>\n      <td>97.0</td>\n      <td>200.0</td>\n      <td>288115.0</td>\n      <td>33.667112</td>\n      <td>69.416726</td>\n      <td>20.0</td>\n    </tr>\n    <tr>\n      <th>Bonares</th>\n      <td>8.0</td>\n      <td>3.0</td>\n      <td>4.0</td>\n      <td>6058.0</td>\n      <td>49.521294</td>\n      <td>66.028392</td>\n      <td>0.0</td>\n    </tr>\n    <tr>\n      <th>Aroche</th>\n      <td>10.0</td>\n      <td>1.0</td>\n      <td>2.0</td>\n      <td>3073.0</td>\n      <td>32.541490</td>\n      <td>65.082981</td>\n      <td>0.0</td>\n    </tr>\n    <tr>\n      <th>Huelva (capital)</th>\n      <td>411.0</td>\n      <td>53.0</td>\n      <td>91.0</td>\n      <td>143663.0</td>\n      <td>36.891893</td>\n      <td>63.342684</td>\n      <td>9.0</td>\n    </tr>\n    <tr>\n      <th>San Bartolomé de la Torre</th>\n      <td>4.0</td>\n      <td>1.0</td>\n      <td>2.0</td>\n      <td>3736.0</td>\n      <td>26.766595</td>\n      <td>53.533191</td>\n      <td>NaN</td>\n    </tr>\n    <tr>\n      <th>Minas de Riotinto</th>\n      <td>18.0</td>\n      <td>1.0</td>\n      <td>2.0</td>\n      <td>3848.0</td>\n      <td>25.987526</td>\n      <td>51.975052</td>\n      <td>0.0</td>\n    </tr>\n    <tr>\n      <th>Rociana del Condado</th>\n      <td>10.0</td>\n      <td>1.0</td>\n      <td>4.0</td>\n      <td>7855.0</td>\n      <td>12.730745</td>\n      <td>50.922979</td>\n      <td>0.0</td>\n    </tr>\n    <tr>\n      <th>Punta Umbría</th>\n      <td>36.0</td>\n      <td>1.0</td>\n      <td>7.0</td>\n      <td>15242.0</td>\n      <td>6.560819</td>\n      <td>45.925732</td>\n      <td>0.0</td>\n    </tr>\n    <tr>\n      <th>Escacena del Campo</th>\n      <td>16.0</td>\n      <td>1.0</td>\n      <td>1.0</td>\n      <td>2284.0</td>\n      <td>43.782837</td>\n      <td>43.782837</td>\n      <td>NaN</td>\n    </tr>\n    <tr>\n      <th>Almonte</th>\n      <td>58.0</td>\n      <td>4.0</td>\n      <td>9.0</td>\n      <td>24191.0</td>\n      <td>16.535075</td>\n      <td>37.203919</td>\n      <td>2.0</td>\n    </tr>\n    <tr>\n      <th>Aljaraque</th>\n      <td>73.0</td>\n      <td>2.0</td>\n      <td>7.0</td>\n      <td>21260.0</td>\n      <td>9.407338</td>\n      <td>32.925682</td>\n      <td>0.0</td>\n    </tr>\n    <tr>\n      <th>Isla Cristina</th>\n      <td>69.0</td>\n      <td>2.0</td>\n      <td>7.0</td>\n      <td>21264.0</td>\n      <td>9.405568</td>\n      <td>32.919488</td>\n      <td>1.0</td>\n    </tr>\n    <tr>\n      <th>Villalba del Alcor</th>\n      <td>43.0</td>\n      <td>1.0</td>\n      <td>1.0</td>\n      <td>3338.0</td>\n      <td>29.958059</td>\n      <td>29.958059</td>\n      <td>NaN</td>\n    </tr>\n    <tr>\n      <th>Ayamonte</th>\n      <td>51.0</td>\n      <td>1.0</td>\n      <td>6.0</td>\n      <td>20946.0</td>\n      <td>4.774181</td>\n      <td>28.645087</td>\n      <td>0.0</td>\n    </tr>\n    <tr>\n      <th>Palos de la Frontera</th>\n      <td>29.0</td>\n      <td>2.0</td>\n      <td>3.0</td>\n      <td>11289.0</td>\n      <td>17.716361</td>\n      <td>26.574542</td>\n      <td>1.0</td>\n    </tr>\n    <tr>\n      <th>Beas</th>\n      <td>8.0</td>\n      <td>1.0</td>\n      <td>1.0</td>\n      <td>4257.0</td>\n      <td>23.490721</td>\n      <td>23.490721</td>\n      <td>NaN</td>\n    </tr>\n    <tr>\n      <th>Valverde del Camino</th>\n      <td>29.0</td>\n      <td>2.0</td>\n      <td>3.0</td>\n      <td>12820.0</td>\n      <td>15.600624</td>\n      <td>23.400936</td>\n      <td>0.0</td>\n    </tr>\n    <tr>\n      <th>Cartaya</th>\n      <td>27.0</td>\n      <td>2.0</td>\n      <td>4.0</td>\n      <td>19974.0</td>\n      <td>10.013017</td>\n      <td>20.026034</td>\n      <td>0.0</td>\n    </tr>\n    <tr>\n      <th>Nerva</th>\n      <td>24.0</td>\n      <td>1.0</td>\n      <td>1.0</td>\n      <td>5235.0</td>\n      <td>19.102197</td>\n      <td>19.102197</td>\n      <td>0.0</td>\n    </tr>\n  </tbody>\n</table>\n</div>"
     },
     "metadata": {},
     "execution_count": 17
    }
   ],
   "source": [
    "tabla.sort_values('tasa14', ascending=False)"
   ]
  },
  {
   "cell_type": "code",
   "execution_count": null,
   "metadata": {},
   "outputs": [],
   "source": []
  }
 ]
}