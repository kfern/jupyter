{
 "metadata": {
  "language_info": {
   "codemirror_mode": {
    "name": "ipython",
    "version": 3
   },
   "file_extension": ".py",
   "mimetype": "text/x-python",
   "name": "python",
   "nbconvert_exporter": "python",
   "pygments_lexer": "ipython3",
   "version": "3.6.9-final"
  },
  "orig_nbformat": 2,
  "kernelspec": {
   "name": "python_defaultSpec_1600369344912",
   "display_name": "Python 3.6.9 64-bit"
  }
 },
 "nbformat": 4,
 "nbformat_minor": 2,
 "cells": [
  {
   "cell_type": "code",
   "execution_count": 1,
   "metadata": {},
   "outputs": [],
   "source": [
    "import pandas as pd"
   ]
  },
  {
   "cell_type": "code",
   "execution_count": 2,
   "metadata": {},
   "outputs": [],
   "source": [
    "url = 'https://www.juntadeandalucia.es/institutodeestadisticaycartografia/badea/stpivot/stpivot/Print?cube=013d884c-cfc5-4c21-9e78-e26225682afd&type=3&foto=si&ejecutaDesde=&codConsulta=38668&consTipoVisua=JP'\n",
    "fields = ['Lugar de residencia', 'Medida', 'Valor']\n",
    "df = pd.read_csv(url, delimiter=';', usecols=fields, decimal=',')"
   ]
  },
  {
   "cell_type": "code",
   "execution_count": 3,
   "metadata": {},
   "outputs": [],
   "source": [
    "df['Valor'] = pd.to_numeric(df['Valor'],errors='coerce')"
   ]
  },
  {
   "cell_type": "code",
   "execution_count": 4,
   "metadata": {},
   "outputs": [],
   "source": [
    "dfAnterior = pd.read_csv('covid_huelva.csv', index_col='Lugar de residencia')"
   ]
  },
  {
   "cell_type": "code",
   "execution_count": 5,
   "metadata": {
    "tags": []
   },
   "outputs": [
    {
     "output_type": "stream",
     "name": "stdout",
     "text": "Confirmados PCR en la provincia de Huelva:  1040.0\n"
    }
   ],
   "source": [
    "# Confirmados PCR provincia Huelva\n",
    "p = df[df['Lugar de residencia'] == 'Huelva'][df['Medida'] == 'Confirmados PCR']['Valor'].values[0]\n",
    "print('Confirmados PCR en la provincia de Huelva: ', p)"
   ]
  },
  {
   "cell_type": "code",
   "execution_count": 6,
   "metadata": {
    "tags": []
   },
   "outputs": [
    {
     "output_type": "stream",
     "name": "stdout",
     "text": "Confirmados PCR en Huelva capital:  276.0\n"
    }
   ],
   "source": [
    "# Confirmados PCR Huelva capital\n",
    "c = df[df['Lugar de residencia'] == 'Huelva (capital)'][df['Medida'] == 'Confirmados PCR']['Valor'].values[0]\n",
    "print('Confirmados PCR en Huelva capital: ', c)"
   ]
  },
  {
   "cell_type": "code",
   "execution_count": 7,
   "metadata": {
    "tags": []
   },
   "outputs": [],
   "source": [
    "c7 = df[df['Lugar de residencia'] == 'Huelva (capital)'][df['Medida'] == 'Confirmados PCR 7 días']['Valor'].values[0]\n",
    "c14 = df[df['Lugar de residencia'] == 'Huelva (capital)'][df['Medida'] == 'Confirmados PCR 14 días']['Valor'].values[0]\n",
    "p = df[df['Lugar de residencia'] == 'Huelva (capital)'][df['Medida'] == 'Población']['Valor'].values[0]"
   ]
  },
  {
   "cell_type": "code",
   "execution_count": 8,
   "metadata": {
    "tags": []
   },
   "outputs": [
    {
     "output_type": "stream",
     "name": "stdout",
     "text": "Huelva (capital)\n\nUn positivo PCR cada 2817 personas en los últimos 7 días \n\nUn positivo PCR cada 2113 personas en los últimos 14 días\n"
    }
   ],
   "source": [
    "print('Huelva (capital)\\n')\n",
    "#print('Confirmados PCR 7 días x 1,000 habitantes: ', f\"{c7/(p/1000):.5f}\")\n",
    "print('Un positivo PCR cada', f\"{p/c7:.0f}\", 'personas en los últimos 7 días', '\\n')\n",
    "#print('Confirmados PCR 14 días x 1,000 habitantes: ', f\"{c14/(p/1000):.5f}\")\n",
    "print('Un positivo PCR cada', f\"{p/c14:.0f}\", 'personas en los últimos 14 días')"
   ]
  },
  {
   "cell_type": "code",
   "execution_count": 9,
   "metadata": {},
   "outputs": [],
   "source": [
    "filtro = ((df['Medida'] == 'Confirmados PCR')| (df['Medida'] == 'Confirmados PCR 7 días') | (df['Medida'] == 'Población' ) | (df['Medida'] == 'Confirmados PCR 14 días')) & (df['Valor'] > 0)\n",
    "tabla = pd.pivot_table(df.loc[filtro], values='Valor', index='Lugar de residencia', columns='Medida').dropna()"
   ]
  },
  {
   "cell_type": "code",
   "execution_count": 10,
   "metadata": {},
   "outputs": [],
   "source": [
    "# Reorder columns\n",
    "tabla = tabla[['Confirmados PCR', 'Confirmados PCR 7 días', 'Confirmados PCR 14 días', 'Población']]"
   ]
  },
  {
   "cell_type": "code",
   "execution_count": 11,
   "metadata": {},
   "outputs": [],
   "source": [
    "tabla['tasa7'] = tabla['Confirmados PCR 7 días']/tabla['Población']*100000\n",
    "tabla['tasa14'] = tabla['Confirmados PCR 14 días']/tabla['Población']*100000"
   ]
  },
  {
   "cell_type": "code",
   "execution_count": 12,
   "metadata": {},
   "outputs": [],
   "source": [
    "tabla['Diferencia PCR'] = tabla['Confirmados PCR'] - dfAnterior['Confirmados PCR']"
   ]
  },
  {
   "cell_type": "code",
   "execution_count": 13,
   "metadata": {},
   "outputs": [
    {
     "output_type": "execute_result",
     "data": {
      "text/plain": "Medida                             Confirmados PCR  Confirmados PCR 7 días  \\\nLugar de residencia                                                          \nHuelva                                      1040.0                   174.0   \nHuelva-Costa                                 560.0                   118.0   \nHuelva (capital)                             276.0                    51.0   \nAljaraque                                     63.0                    17.0   \nAyamonte                                      31.0                    15.0   \nCondado-Campiña                              306.0                    37.0   \nBonares                                        3.0                     2.0   \nCabezas Rubias                                 8.0                     6.0   \nPalma del Condado (La)                        32.0                     2.0   \nPalos de la Frontera                          21.0                    12.0   \nSierra de Huelva-Andévalo Central            154.0                    14.0   \nVillalba del Alcor                            38.0                     7.0   \n\nMedida                             Confirmados PCR 14 días  Población  \\\nLugar de residencia                                                     \nHuelva                                               307.0   510743.0   \nHuelva-Costa                                         174.0   288115.0   \nHuelva (capital)                                      68.0   143663.0   \nAljaraque                                             20.0    21260.0   \nAyamonte                                              19.0    20946.0   \nCondado-Campiña                                      100.0   155057.0   \nBonares                                                2.0     6058.0   \nCabezas Rubias                                         7.0      730.0   \nPalma del Condado (La)                                11.0    10761.0   \nPalos de la Frontera                                  13.0    11289.0   \nSierra de Huelva-Andévalo Central                     21.0    67571.0   \nVillalba del Alcor                                    24.0     3338.0   \n\nMedida                                  tasa7      tasa14  Diferencia PCR  \nLugar de residencia                                                        \nHuelva                              34.068015   60.108509            40.0  \nHuelva-Costa                        40.955868   60.392552            32.0  \nHuelva (capital)                    35.499746   47.332995            19.0  \nAljaraque                           79.962371   94.073377             7.0  \nAyamonte                            71.612718   90.709443             5.0  \nCondado-Campiña                     23.862193   64.492412             5.0  \nBonares                             33.014196   33.014196             1.0  \nCabezas Rubias                     821.917808  958.904110             1.0  \nPalma del Condado (La)              18.585633  102.220983             1.0  \nPalos de la Frontera               106.298166  115.156347             1.0  \nSierra de Huelva-Andévalo Central   20.718947   31.078421             1.0  \nVillalba del Alcor                 209.706411  718.993409             1.0  ",
      "text/html": "<div>\n<style scoped>\n    .dataframe tbody tr th:only-of-type {\n        vertical-align: middle;\n    }\n\n    .dataframe tbody tr th {\n        vertical-align: top;\n    }\n\n    .dataframe thead th {\n        text-align: right;\n    }\n</style>\n<table border=\"1\" class=\"dataframe\">\n  <thead>\n    <tr style=\"text-align: right;\">\n      <th>Medida</th>\n      <th>Confirmados PCR</th>\n      <th>Confirmados PCR 7 días</th>\n      <th>Confirmados PCR 14 días</th>\n      <th>Población</th>\n      <th>tasa7</th>\n      <th>tasa14</th>\n      <th>Diferencia PCR</th>\n    </tr>\n    <tr>\n      <th>Lugar de residencia</th>\n      <th></th>\n      <th></th>\n      <th></th>\n      <th></th>\n      <th></th>\n      <th></th>\n      <th></th>\n    </tr>\n  </thead>\n  <tbody>\n    <tr>\n      <th>Huelva</th>\n      <td>1040.0</td>\n      <td>174.0</td>\n      <td>307.0</td>\n      <td>510743.0</td>\n      <td>34.068015</td>\n      <td>60.108509</td>\n      <td>40.0</td>\n    </tr>\n    <tr>\n      <th>Huelva-Costa</th>\n      <td>560.0</td>\n      <td>118.0</td>\n      <td>174.0</td>\n      <td>288115.0</td>\n      <td>40.955868</td>\n      <td>60.392552</td>\n      <td>32.0</td>\n    </tr>\n    <tr>\n      <th>Huelva (capital)</th>\n      <td>276.0</td>\n      <td>51.0</td>\n      <td>68.0</td>\n      <td>143663.0</td>\n      <td>35.499746</td>\n      <td>47.332995</td>\n      <td>19.0</td>\n    </tr>\n    <tr>\n      <th>Aljaraque</th>\n      <td>63.0</td>\n      <td>17.0</td>\n      <td>20.0</td>\n      <td>21260.0</td>\n      <td>79.962371</td>\n      <td>94.073377</td>\n      <td>7.0</td>\n    </tr>\n    <tr>\n      <th>Ayamonte</th>\n      <td>31.0</td>\n      <td>15.0</td>\n      <td>19.0</td>\n      <td>20946.0</td>\n      <td>71.612718</td>\n      <td>90.709443</td>\n      <td>5.0</td>\n    </tr>\n    <tr>\n      <th>Condado-Campiña</th>\n      <td>306.0</td>\n      <td>37.0</td>\n      <td>100.0</td>\n      <td>155057.0</td>\n      <td>23.862193</td>\n      <td>64.492412</td>\n      <td>5.0</td>\n    </tr>\n    <tr>\n      <th>Bonares</th>\n      <td>3.0</td>\n      <td>2.0</td>\n      <td>2.0</td>\n      <td>6058.0</td>\n      <td>33.014196</td>\n      <td>33.014196</td>\n      <td>1.0</td>\n    </tr>\n    <tr>\n      <th>Cabezas Rubias</th>\n      <td>8.0</td>\n      <td>6.0</td>\n      <td>7.0</td>\n      <td>730.0</td>\n      <td>821.917808</td>\n      <td>958.904110</td>\n      <td>1.0</td>\n    </tr>\n    <tr>\n      <th>Palma del Condado (La)</th>\n      <td>32.0</td>\n      <td>2.0</td>\n      <td>11.0</td>\n      <td>10761.0</td>\n      <td>18.585633</td>\n      <td>102.220983</td>\n      <td>1.0</td>\n    </tr>\n    <tr>\n      <th>Palos de la Frontera</th>\n      <td>21.0</td>\n      <td>12.0</td>\n      <td>13.0</td>\n      <td>11289.0</td>\n      <td>106.298166</td>\n      <td>115.156347</td>\n      <td>1.0</td>\n    </tr>\n    <tr>\n      <th>Sierra de Huelva-Andévalo Central</th>\n      <td>154.0</td>\n      <td>14.0</td>\n      <td>21.0</td>\n      <td>67571.0</td>\n      <td>20.718947</td>\n      <td>31.078421</td>\n      <td>1.0</td>\n    </tr>\n    <tr>\n      <th>Villalba del Alcor</th>\n      <td>38.0</td>\n      <td>7.0</td>\n      <td>24.0</td>\n      <td>3338.0</td>\n      <td>209.706411</td>\n      <td>718.993409</td>\n      <td>1.0</td>\n    </tr>\n  </tbody>\n</table>\n</div>"
     },
     "metadata": {},
     "execution_count": 13
    }
   ],
   "source": [
    "# Nuevos casos desde la última captura\n",
    "tabla[tabla['Diferencia PCR'] > 0].sort_values('Diferencia PCR', ascending=False)"
   ]
  },
  {
   "cell_type": "code",
   "execution_count": 14,
   "metadata": {},
   "outputs": [],
   "source": [
    "if tabla[tabla['Diferencia PCR'] > 0]['Diferencia PCR'].sum() > 0:\n",
    "  # Save to csv\n",
    "  tabla.to_csv('covid_huelva.csv', encoding='utf-8', header=True, index=True)  "
   ]
  },
  {
   "cell_type": "code",
   "execution_count": 15,
   "metadata": {},
   "outputs": [
    {
     "output_type": "execute_result",
     "data": {
      "text/plain": "Medida                             Confirmados PCR  Confirmados PCR 7 días  \\\nLugar de residencia                                                          \nCabezas Rubias                                 8.0                     6.0   \nVillalba del Alcor                            38.0                     7.0   \nZalamea la Real                               19.0                     5.0   \nBollullos Par del Condado                     35.0                     7.0   \nIsla Cristina                                 52.0                    15.0   \nPalos de la Frontera                          21.0                    12.0   \nCortegana                                      9.0                     1.0   \nPalma del Condado (La)                        32.0                     2.0   \nSanta Bárbara de Casa                          7.0                     1.0   \nAljaraque                                     63.0                    17.0   \nVillarrasa                                     3.0                     1.0   \nAyamonte                                      31.0                    15.0   \nAroche                                         4.0                     2.0   \nCondado-Campiña                              306.0                    37.0   \nHuelva-Costa                                 560.0                   118.0   \nHuelva                                      1040.0                   174.0   \nLepe                                          67.0                     6.0   \nMinas de Riotinto                             15.0                     1.0   \nHuelva (capital)                             276.0                    51.0   \nCerro de Andévalo (El)                         1.0                     1.0   \nPunta Umbría                                  23.0                     2.0   \nVillablanca                                    2.0                     1.0   \nBonares                                        3.0                     2.0   \nSierra de Huelva-Andévalo Central            154.0                    14.0   \nRociana del Condado                            5.0                     1.0   \nCartaya                                       19.0                     4.0   \nValverde del Camino                           26.0                     2.0   \nAlmonte                                       44.0                     3.0   \nNerva                                         15.0                     1.0   \nMoguer                                        26.0                     1.0   \nAracena                                       46.0                     1.0   \nSan Juan del Puerto                           18.0                     1.0   \n\nMedida                             Confirmados PCR 14 días  Población  \\\nLugar de residencia                                                     \nCabezas Rubias                                         7.0      730.0   \nVillalba del Alcor                                    24.0     3338.0   \nZalamea la Real                                        6.0     3068.0   \nBollullos Par del Condado                             22.0    14272.0   \nIsla Cristina                                         32.0    21264.0   \nPalos de la Frontera                                  13.0    11289.0   \nCortegana                                              5.0     4666.0   \nPalma del Condado (La)                                11.0    10761.0   \nSanta Bárbara de Casa                                  1.0     1035.0   \nAljaraque                                             20.0    21260.0   \nVillarrasa                                             2.0     2176.0   \nAyamonte                                              19.0    20946.0   \nAroche                                                 2.0     3073.0   \nCondado-Campiña                                      100.0   155057.0   \nHuelva-Costa                                         174.0   288115.0   \nHuelva                                               307.0   510743.0   \nLepe                                                  15.0    27431.0   \nMinas de Riotinto                                      2.0     3848.0   \nHuelva (capital)                                      68.0   143663.0   \nCerro de Andévalo (El)                                 1.0     2364.0   \nPunta Umbría                                           6.0    15242.0   \nVillablanca                                            1.0     2848.0   \nBonares                                                2.0     6058.0   \nSierra de Huelva-Andévalo Central                     21.0    67571.0   \nRociana del Condado                                    2.0     7855.0   \nCartaya                                                5.0    19974.0   \nValverde del Camino                                    3.0    12820.0   \nAlmonte                                                5.0    24191.0   \nNerva                                                  1.0     5235.0   \nMoguer                                                 4.0    22088.0   \nAracena                                                1.0     8107.0   \nSan Juan del Puerto                                    1.0     9300.0   \n\nMedida                                  tasa7      tasa14  Diferencia PCR  \nLugar de residencia                                                        \nCabezas Rubias                     821.917808  958.904110             1.0  \nVillalba del Alcor                 209.706411  718.993409             1.0  \nZalamea la Real                    162.972621  195.567145             0.0  \nBollullos Par del Condado           49.047085  154.147982             0.0  \nIsla Cristina                       70.541761  150.489090             0.0  \nPalos de la Frontera               106.298166  115.156347             1.0  \nCortegana                           21.431633  107.158165             0.0  \nPalma del Condado (La)              18.585633  102.220983             1.0  \nSanta Bárbara de Casa               96.618357   96.618357             0.0  \nAljaraque                           79.962371   94.073377             7.0  \nVillarrasa                          45.955882   91.911765             NaN  \nAyamonte                            71.612718   90.709443             5.0  \nAroche                              65.082981   65.082981             0.0  \nCondado-Campiña                     23.862193   64.492412             5.0  \nHuelva-Costa                        40.955868   60.392552            32.0  \nHuelva                              34.068015   60.108509            40.0  \nLepe                                21.873063   54.682658             0.0  \nMinas de Riotinto                   25.987526   51.975052             0.0  \nHuelva (capital)                    35.499746   47.332995            19.0  \nCerro de Andévalo (El)              42.301184   42.301184             0.0  \nPunta Umbría                        13.121638   39.364913             0.0  \nVillablanca                         35.112360   35.112360             0.0  \nBonares                             33.014196   33.014196             1.0  \nSierra de Huelva-Andévalo Central   20.718947   31.078421             1.0  \nRociana del Condado                 12.730745   25.461489             0.0  \nCartaya                             20.026034   25.032542             0.0  \nValverde del Camino                 15.600624   23.400936             0.0  \nAlmonte                             12.401306   20.668844             0.0  \nNerva                               19.102197   19.102197             0.0  \nMoguer                               4.527345   18.109381             0.0  \nAracena                             12.335019   12.335019             NaN  \nSan Juan del Puerto                 10.752688   10.752688             0.0  ",
      "text/html": "<div>\n<style scoped>\n    .dataframe tbody tr th:only-of-type {\n        vertical-align: middle;\n    }\n\n    .dataframe tbody tr th {\n        vertical-align: top;\n    }\n\n    .dataframe thead th {\n        text-align: right;\n    }\n</style>\n<table border=\"1\" class=\"dataframe\">\n  <thead>\n    <tr style=\"text-align: right;\">\n      <th>Medida</th>\n      <th>Confirmados PCR</th>\n      <th>Confirmados PCR 7 días</th>\n      <th>Confirmados PCR 14 días</th>\n      <th>Población</th>\n      <th>tasa7</th>\n      <th>tasa14</th>\n      <th>Diferencia PCR</th>\n    </tr>\n    <tr>\n      <th>Lugar de residencia</th>\n      <th></th>\n      <th></th>\n      <th></th>\n      <th></th>\n      <th></th>\n      <th></th>\n      <th></th>\n    </tr>\n  </thead>\n  <tbody>\n    <tr>\n      <th>Cabezas Rubias</th>\n      <td>8.0</td>\n      <td>6.0</td>\n      <td>7.0</td>\n      <td>730.0</td>\n      <td>821.917808</td>\n      <td>958.904110</td>\n      <td>1.0</td>\n    </tr>\n    <tr>\n      <th>Villalba del Alcor</th>\n      <td>38.0</td>\n      <td>7.0</td>\n      <td>24.0</td>\n      <td>3338.0</td>\n      <td>209.706411</td>\n      <td>718.993409</td>\n      <td>1.0</td>\n    </tr>\n    <tr>\n      <th>Zalamea la Real</th>\n      <td>19.0</td>\n      <td>5.0</td>\n      <td>6.0</td>\n      <td>3068.0</td>\n      <td>162.972621</td>\n      <td>195.567145</td>\n      <td>0.0</td>\n    </tr>\n    <tr>\n      <th>Bollullos Par del Condado</th>\n      <td>35.0</td>\n      <td>7.0</td>\n      <td>22.0</td>\n      <td>14272.0</td>\n      <td>49.047085</td>\n      <td>154.147982</td>\n      <td>0.0</td>\n    </tr>\n    <tr>\n      <th>Isla Cristina</th>\n      <td>52.0</td>\n      <td>15.0</td>\n      <td>32.0</td>\n      <td>21264.0</td>\n      <td>70.541761</td>\n      <td>150.489090</td>\n      <td>0.0</td>\n    </tr>\n    <tr>\n      <th>Palos de la Frontera</th>\n      <td>21.0</td>\n      <td>12.0</td>\n      <td>13.0</td>\n      <td>11289.0</td>\n      <td>106.298166</td>\n      <td>115.156347</td>\n      <td>1.0</td>\n    </tr>\n    <tr>\n      <th>Cortegana</th>\n      <td>9.0</td>\n      <td>1.0</td>\n      <td>5.0</td>\n      <td>4666.0</td>\n      <td>21.431633</td>\n      <td>107.158165</td>\n      <td>0.0</td>\n    </tr>\n    <tr>\n      <th>Palma del Condado (La)</th>\n      <td>32.0</td>\n      <td>2.0</td>\n      <td>11.0</td>\n      <td>10761.0</td>\n      <td>18.585633</td>\n      <td>102.220983</td>\n      <td>1.0</td>\n    </tr>\n    <tr>\n      <th>Santa Bárbara de Casa</th>\n      <td>7.0</td>\n      <td>1.0</td>\n      <td>1.0</td>\n      <td>1035.0</td>\n      <td>96.618357</td>\n      <td>96.618357</td>\n      <td>0.0</td>\n    </tr>\n    <tr>\n      <th>Aljaraque</th>\n      <td>63.0</td>\n      <td>17.0</td>\n      <td>20.0</td>\n      <td>21260.0</td>\n      <td>79.962371</td>\n      <td>94.073377</td>\n      <td>7.0</td>\n    </tr>\n    <tr>\n      <th>Villarrasa</th>\n      <td>3.0</td>\n      <td>1.0</td>\n      <td>2.0</td>\n      <td>2176.0</td>\n      <td>45.955882</td>\n      <td>91.911765</td>\n      <td>NaN</td>\n    </tr>\n    <tr>\n      <th>Ayamonte</th>\n      <td>31.0</td>\n      <td>15.0</td>\n      <td>19.0</td>\n      <td>20946.0</td>\n      <td>71.612718</td>\n      <td>90.709443</td>\n      <td>5.0</td>\n    </tr>\n    <tr>\n      <th>Aroche</th>\n      <td>4.0</td>\n      <td>2.0</td>\n      <td>2.0</td>\n      <td>3073.0</td>\n      <td>65.082981</td>\n      <td>65.082981</td>\n      <td>0.0</td>\n    </tr>\n    <tr>\n      <th>Condado-Campiña</th>\n      <td>306.0</td>\n      <td>37.0</td>\n      <td>100.0</td>\n      <td>155057.0</td>\n      <td>23.862193</td>\n      <td>64.492412</td>\n      <td>5.0</td>\n    </tr>\n    <tr>\n      <th>Huelva-Costa</th>\n      <td>560.0</td>\n      <td>118.0</td>\n      <td>174.0</td>\n      <td>288115.0</td>\n      <td>40.955868</td>\n      <td>60.392552</td>\n      <td>32.0</td>\n    </tr>\n    <tr>\n      <th>Huelva</th>\n      <td>1040.0</td>\n      <td>174.0</td>\n      <td>307.0</td>\n      <td>510743.0</td>\n      <td>34.068015</td>\n      <td>60.108509</td>\n      <td>40.0</td>\n    </tr>\n    <tr>\n      <th>Lepe</th>\n      <td>67.0</td>\n      <td>6.0</td>\n      <td>15.0</td>\n      <td>27431.0</td>\n      <td>21.873063</td>\n      <td>54.682658</td>\n      <td>0.0</td>\n    </tr>\n    <tr>\n      <th>Minas de Riotinto</th>\n      <td>15.0</td>\n      <td>1.0</td>\n      <td>2.0</td>\n      <td>3848.0</td>\n      <td>25.987526</td>\n      <td>51.975052</td>\n      <td>0.0</td>\n    </tr>\n    <tr>\n      <th>Huelva (capital)</th>\n      <td>276.0</td>\n      <td>51.0</td>\n      <td>68.0</td>\n      <td>143663.0</td>\n      <td>35.499746</td>\n      <td>47.332995</td>\n      <td>19.0</td>\n    </tr>\n    <tr>\n      <th>Cerro de Andévalo (El)</th>\n      <td>1.0</td>\n      <td>1.0</td>\n      <td>1.0</td>\n      <td>2364.0</td>\n      <td>42.301184</td>\n      <td>42.301184</td>\n      <td>0.0</td>\n    </tr>\n    <tr>\n      <th>Punta Umbría</th>\n      <td>23.0</td>\n      <td>2.0</td>\n      <td>6.0</td>\n      <td>15242.0</td>\n      <td>13.121638</td>\n      <td>39.364913</td>\n      <td>0.0</td>\n    </tr>\n    <tr>\n      <th>Villablanca</th>\n      <td>2.0</td>\n      <td>1.0</td>\n      <td>1.0</td>\n      <td>2848.0</td>\n      <td>35.112360</td>\n      <td>35.112360</td>\n      <td>0.0</td>\n    </tr>\n    <tr>\n      <th>Bonares</th>\n      <td>3.0</td>\n      <td>2.0</td>\n      <td>2.0</td>\n      <td>6058.0</td>\n      <td>33.014196</td>\n      <td>33.014196</td>\n      <td>1.0</td>\n    </tr>\n    <tr>\n      <th>Sierra de Huelva-Andévalo Central</th>\n      <td>154.0</td>\n      <td>14.0</td>\n      <td>21.0</td>\n      <td>67571.0</td>\n      <td>20.718947</td>\n      <td>31.078421</td>\n      <td>1.0</td>\n    </tr>\n    <tr>\n      <th>Rociana del Condado</th>\n      <td>5.0</td>\n      <td>1.0</td>\n      <td>2.0</td>\n      <td>7855.0</td>\n      <td>12.730745</td>\n      <td>25.461489</td>\n      <td>0.0</td>\n    </tr>\n    <tr>\n      <th>Cartaya</th>\n      <td>19.0</td>\n      <td>4.0</td>\n      <td>5.0</td>\n      <td>19974.0</td>\n      <td>20.026034</td>\n      <td>25.032542</td>\n      <td>0.0</td>\n    </tr>\n    <tr>\n      <th>Valverde del Camino</th>\n      <td>26.0</td>\n      <td>2.0</td>\n      <td>3.0</td>\n      <td>12820.0</td>\n      <td>15.600624</td>\n      <td>23.400936</td>\n      <td>0.0</td>\n    </tr>\n    <tr>\n      <th>Almonte</th>\n      <td>44.0</td>\n      <td>3.0</td>\n      <td>5.0</td>\n      <td>24191.0</td>\n      <td>12.401306</td>\n      <td>20.668844</td>\n      <td>0.0</td>\n    </tr>\n    <tr>\n      <th>Nerva</th>\n      <td>15.0</td>\n      <td>1.0</td>\n      <td>1.0</td>\n      <td>5235.0</td>\n      <td>19.102197</td>\n      <td>19.102197</td>\n      <td>0.0</td>\n    </tr>\n    <tr>\n      <th>Moguer</th>\n      <td>26.0</td>\n      <td>1.0</td>\n      <td>4.0</td>\n      <td>22088.0</td>\n      <td>4.527345</td>\n      <td>18.109381</td>\n      <td>0.0</td>\n    </tr>\n    <tr>\n      <th>Aracena</th>\n      <td>46.0</td>\n      <td>1.0</td>\n      <td>1.0</td>\n      <td>8107.0</td>\n      <td>12.335019</td>\n      <td>12.335019</td>\n      <td>NaN</td>\n    </tr>\n    <tr>\n      <th>San Juan del Puerto</th>\n      <td>18.0</td>\n      <td>1.0</td>\n      <td>1.0</td>\n      <td>9300.0</td>\n      <td>10.752688</td>\n      <td>10.752688</td>\n      <td>0.0</td>\n    </tr>\n  </tbody>\n</table>\n</div>"
     },
     "metadata": {},
     "execution_count": 15
    }
   ],
   "source": [
    "tabla.sort_values('tasa14', ascending=False)"
   ]
  },
  {
   "cell_type": "code",
   "execution_count": null,
   "metadata": {},
   "outputs": [],
   "source": []
  }
 ]
}