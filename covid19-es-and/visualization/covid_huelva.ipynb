{
 "metadata": {
  "language_info": {
   "codemirror_mode": {
    "name": "ipython",
    "version": 3
   },
   "file_extension": ".py",
   "mimetype": "text/x-python",
   "name": "python",
   "nbconvert_exporter": "python",
   "pygments_lexer": "ipython3",
   "version": "3.8.6-final"
  },
  "orig_nbformat": 2,
  "kernelspec": {
   "name": "python38564bit75945252d6ba481bad4868286020c89e",
   "display_name": "Python 3.8.5 64-bit",
   "language": "python"
  }
 },
 "nbformat": 4,
 "nbformat_minor": 2,
 "cells": [
  {
   "cell_type": "code",
   "execution_count": 1,
   "metadata": {},
   "outputs": [],
   "source": [
    "import pandas as pd\n",
    "pd.set_option('display.max_rows', None) # Print all rows"
   ]
  },
  {
   "cell_type": "code",
   "execution_count": 2,
   "metadata": {},
   "outputs": [],
   "source": [
    "# FIX SSL: CERTIFICATE_VERIFY_FAILED with Python3\n",
    "# https://stackoverflow.com/a/49174340\n",
    "import ssl\n",
    "\n",
    "ssl._create_default_https_context = ssl._create_unverified_context"
   ]
  },
  {
   "cell_type": "code",
   "execution_count": 3,
   "metadata": {},
   "outputs": [],
   "source": [
    "url = 'https://www.juntadeandalucia.es/institutodeestadisticaycartografia/badea/stpivot/stpivot/Print?cube=013d884c-cfc5-4c21-9e78-e26225682afd&type=3&foto=si&ejecutaDesde=&codConsulta=38668&consTipoVisua=JP'\n",
    "fields = ['Lugar de residencia', 'Medida', 'Valor']\n",
    "df = pd.read_csv(url, delimiter=';', usecols=fields, decimal=',')"
   ]
  },
  {
   "cell_type": "code",
   "execution_count": 4,
   "metadata": {},
   "outputs": [
    {
     "output_type": "execute_result",
     "data": {
      "text/plain": [
       "  Lugar de residencia                    Medida              Valor\n",
       "0              Huelva                 Población             513170\n",
       "1              Huelva          Confirmados PDIA              24118\n",
       "2              Huelva  Confirmados PDIA 14 días               1877\n",
       "3              Huelva         Tasa PDIA 14 días  365,7657306545589\n",
       "4              Huelva   Confirmados PDIA 7 días                565\n",
       "5              Huelva        Total Confirmados               24348\n",
       "6              Huelva                   Curados              13432\n",
       "7              Huelva                Fallecidos                256"
      ],
      "text/html": "<div>\n<style scoped>\n    .dataframe tbody tr th:only-of-type {\n        vertical-align: middle;\n    }\n\n    .dataframe tbody tr th {\n        vertical-align: top;\n    }\n\n    .dataframe thead th {\n        text-align: right;\n    }\n</style>\n<table border=\"1\" class=\"dataframe\">\n  <thead>\n    <tr style=\"text-align: right;\">\n      <th></th>\n      <th>Lugar de residencia</th>\n      <th>Medida</th>\n      <th>Valor</th>\n    </tr>\n  </thead>\n  <tbody>\n    <tr>\n      <th>0</th>\n      <td>Huelva</td>\n      <td>Población</td>\n      <td>513170</td>\n    </tr>\n    <tr>\n      <th>1</th>\n      <td>Huelva</td>\n      <td>Confirmados PDIA</td>\n      <td>24118</td>\n    </tr>\n    <tr>\n      <th>2</th>\n      <td>Huelva</td>\n      <td>Confirmados PDIA 14 días</td>\n      <td>1877</td>\n    </tr>\n    <tr>\n      <th>3</th>\n      <td>Huelva</td>\n      <td>Tasa PDIA 14 días</td>\n      <td>365,7657306545589</td>\n    </tr>\n    <tr>\n      <th>4</th>\n      <td>Huelva</td>\n      <td>Confirmados PDIA 7 días</td>\n      <td>565</td>\n    </tr>\n    <tr>\n      <th>5</th>\n      <td>Huelva</td>\n      <td>Total Confirmados</td>\n      <td>24348</td>\n    </tr>\n    <tr>\n      <th>6</th>\n      <td>Huelva</td>\n      <td>Curados</td>\n      <td>13432</td>\n    </tr>\n    <tr>\n      <th>7</th>\n      <td>Huelva</td>\n      <td>Fallecidos</td>\n      <td>256</td>\n    </tr>\n  </tbody>\n</table>\n</div>"
     },
     "metadata": {},
     "execution_count": 4
    }
   ],
   "source": [
    "df[df['Lugar de residencia'] == 'Huelva']"
   ]
  },
  {
   "cell_type": "code",
   "execution_count": 5,
   "metadata": {},
   "outputs": [],
   "source": [
    "df['Valor'] = pd.to_numeric(df['Valor'],errors='coerce')"
   ]
  },
  {
   "cell_type": "code",
   "execution_count": 6,
   "metadata": {},
   "outputs": [],
   "source": [
    "dfAnterior = pd.read_csv('covid_huelva.csv', index_col='Lugar de residencia')"
   ]
  },
  {
   "cell_type": "code",
   "execution_count": 7,
   "metadata": {
    "tags": []
   },
   "outputs": [
    {
     "output_type": "stream",
     "name": "stdout",
     "text": [
      "Confirmados PCR en la provincia de Huelva:  24118.0\n"
     ]
    }
   ],
   "source": [
    "# Confirmados PCR provincia Huelva\n",
    "p = df[df['Lugar de residencia'] == 'Huelva'][df['Medida'] == 'Confirmados PDIA']['Valor'].values[0]\n",
    "print('Confirmados PCR en la provincia de Huelva: ', p)"
   ]
  },
  {
   "cell_type": "code",
   "execution_count": 8,
   "metadata": {
    "tags": []
   },
   "outputs": [
    {
     "output_type": "stream",
     "name": "stdout",
     "text": [
      "Confirmados PCR en Huelva capital:  6424.0\n"
     ]
    }
   ],
   "source": [
    "# Confirmados PCR Huelva capitalpd\n",
    "c = df[df['Lugar de residencia'] == 'Huelva (capital)'][df['Medida'] == 'Confirmados PDIA']['Valor'].values[0]\n",
    "print('Confirmados PCR en Huelva capital: ', c)"
   ]
  },
  {
   "cell_type": "code",
   "execution_count": 9,
   "metadata": {
    "tags": []
   },
   "outputs": [],
   "source": [
    "c7 = df[df['Lugar de residencia'] == 'Huelva (capital)'][df['Medida'] == 'Confirmados PDIA 7 días']['Valor'].values[0]\n",
    "c14 = df[df['Lugar de residencia'] == 'Huelva (capital)'][df['Medida'] == 'Confirmados PDIA 14 días']['Valor'].values[0]\n",
    "p = df[df['Lugar de residencia'] == 'Huelva (capital)'][df['Medida'] == 'Población']['Valor'].values[0]"
   ]
  },
  {
   "cell_type": "code",
   "execution_count": 10,
   "metadata": {
    "tags": []
   },
   "outputs": [
    {
     "output_type": "stream",
     "name": "stdout",
     "text": [
      "Huelva (capital)\n\nUn positivo PCR cada 773 personas en los últimos 7 días \n\nUn positivo PCR cada 291 personas en los últimos 14 días\n"
     ]
    }
   ],
   "source": [
    "print('Huelva (capital)\\n')\n",
    "#print('Confirmados PCR 7 días x 1,000 habitantes: ', f\"{c7/(p/1000):.5f}\")\n",
    "print('Un positivo PCR cada', f\"{p/c7:.0f}\", 'personas en los últimos 7 días', '\\n')\n",
    "#print('Confirmados PCR 14 días x 1,000 habitantes: ', f\"{c14/(p/1000):.5f}\")\n",
    "print('Un positivo PCR cada', f\"{p/c14:.0f}\", 'personas en los últimos 14 días')"
   ]
  },
  {
   "cell_type": "code",
   "execution_count": 11,
   "metadata": {},
   "outputs": [],
   "source": [
    "filtro = ((df['Medida'] == 'Confirmados PDIA')| (df['Medida'] == 'Confirmados PDIA 7 días') | (df['Medida'] == 'Población' ) | (df['Medida'] == 'Confirmados PDIA 14 días')) & (df['Valor'] > 0)\n",
    "tabla = pd.pivot_table(df.loc[filtro], values='Valor', index='Lugar de residencia', columns='Medida').dropna()"
   ]
  },
  {
   "cell_type": "code",
   "execution_count": 12,
   "metadata": {},
   "outputs": [],
   "source": [
    "# Reorder columns\n",
    "tabla = tabla[['Confirmados PDIA', 'Confirmados PDIA 7 días', 'Confirmados PDIA 14 días', 'Población']]"
   ]
  },
  {
   "cell_type": "code",
   "execution_count": 13,
   "metadata": {},
   "outputs": [],
   "source": [
    "tabla['tasa7'] = tabla['Confirmados PDIA 7 días']/tabla['Población']*100000\n",
    "tabla['tasa14'] = tabla['Confirmados PDIA 14 días']/tabla['Población']*100000"
   ]
  },
  {
   "cell_type": "code",
   "execution_count": 14,
   "metadata": {},
   "outputs": [],
   "source": [
    "tabla['Diferencia PDIA'] = tabla['Confirmados PDIA'] - dfAnterior['Confirmados PDIA']"
   ]
  },
  {
   "cell_type": "code",
   "execution_count": 15,
   "metadata": {},
   "outputs": [
    {
     "output_type": "execute_result",
     "data": {
      "text/plain": [
       "Medida                             Confirmados PDIA  Confirmados PDIA 7 días  \\\n",
       "Lugar de residencia                                                            \n",
       "Huelva                                      24118.0                    565.0   \n",
       "Huelva-Costa                                14697.0                    379.0   \n",
       "Condado-Campiña                              6674.0                    147.0   \n",
       "Huelva (capital)                             6424.0                    186.0   \n",
       "Almonte                                       804.0                     41.0   \n",
       "Isla Cristina                                1974.0                     41.0   \n",
       "Lepe                                         1953.0                     62.0   \n",
       "Cartaya                                       886.0                     26.0   \n",
       "Bollullos Par del Condado                     577.0                     23.0   \n",
       "Ayamonte                                     1175.0                     26.0   \n",
       "Palma del Condado (La)                        964.0                      7.0   \n",
       "Aljaraque                                     917.0                     12.0   \n",
       "Escacena del Campo                            132.0                      4.0   \n",
       "Punta Umbría                                  641.0                     12.0   \n",
       "Villanueva de los Castillejos                 146.0                      7.0   \n",
       "Manzanilla                                     85.0                      3.0   \n",
       "Moguer                                        793.0                     23.0   \n",
       "Bonares                                       179.0                      2.0   \n",
       "Aracena                                       456.0                      4.0   \n",
       "Palos de la Frontera                          438.0                     13.0   \n",
       "Rociana del Condado                           299.0                     12.0   \n",
       "Almonaster la Real                             54.0                      1.0   \n",
       "Gibraleón                                     505.0                     10.0   \n",
       "Beas                                          158.0                      2.0   \n",
       "Sierra de Huelva-Andévalo Central            2322.0                     27.0   \n",
       "Higuera de la Sierra                           29.0                      1.0   \n",
       "\n",
       "Medida                             Confirmados PDIA 14 días  Población  \\\n",
       "Lugar de residencia                                                      \n",
       "Huelva                                               1877.0   513170.0   \n",
       "Huelva-Costa                                         1195.0   289548.0   \n",
       "Condado-Campiña                                       523.0   156231.0   \n",
       "Huelva (capital)                                      494.0   143837.0   \n",
       "Almonte                                                97.0    24507.0   \n",
       "Isla Cristina                                         150.0    21393.0   \n",
       "Lepe                                                  178.0    27880.0   \n",
       "Cartaya                                                75.0    20083.0   \n",
       "Bollullos Par del Condado                              71.0    14387.0   \n",
       "Ayamonte                                              118.0    21104.0   \n",
       "Palma del Condado (La)                                 50.0    10801.0   \n",
       "Aljaraque                                              52.0    21474.0   \n",
       "Escacena del Campo                                      7.0     2287.0   \n",
       "Punta Umbría                                           53.0    15355.0   \n",
       "Villanueva de los Castillejos                          17.0     2825.0   \n",
       "Manzanilla                                              6.0     2118.0   \n",
       "Moguer                                                 70.0    21867.0   \n",
       "Bonares                                                19.0     6060.0   \n",
       "Aracena                                                15.0     8255.0   \n",
       "Palos de la Frontera                                   46.0    11742.0   \n",
       "Rociana del Condado                                    33.0     7939.0   \n",
       "Almonaster la Real                                      6.0     1788.0   \n",
       "Gibraleón                                              27.0    12737.0   \n",
       "Beas                                                   22.0     4341.0   \n",
       "Sierra de Huelva-Andévalo Central                      90.0    67391.0   \n",
       "Higuera de la Sierra                                    2.0     1291.0   \n",
       "\n",
       "Medida                                  tasa7      tasa14  Diferencia PDIA  \n",
       "Lugar de residencia                                                         \n",
       "Huelva                             110.099967  365.765731            101.0  \n",
       "Huelva-Costa                       130.893669  412.712227             72.0  \n",
       "Condado-Campiña                     94.091442  334.760707             33.0  \n",
       "Huelva (capital)                   129.313042  343.444315             27.0  \n",
       "Almonte                            167.299139  395.805280             15.0  \n",
       "Isla Cristina                      191.651475  701.163932             10.0  \n",
       "Lepe                               222.381636  638.450502              9.0  \n",
       "Cartaya                            129.462730  373.450182              9.0  \n",
       "Bollullos Par del Condado          159.866546  493.501077              7.0  \n",
       "Ayamonte                           123.199393  559.135709              6.0  \n",
       "Palma del Condado (La)              64.808814  462.920100              4.0  \n",
       "Aljaraque                           55.881531  242.153302              4.0  \n",
       "Escacena del Campo                 174.901618  306.077831              3.0  \n",
       "Punta Umbría                        78.150440  345.164442              3.0  \n",
       "Villanueva de los Castillejos      247.787611  601.769912              3.0  \n",
       "Manzanilla                         141.643059  283.286119              2.0  \n",
       "Moguer                             105.181323  320.117071              2.0  \n",
       "Bonares                             33.003300  313.531353              1.0  \n",
       "Aracena                             48.455482  181.708056              1.0  \n",
       "Palos de la Frontera               110.713677  391.756089              1.0  \n",
       "Rociana del Condado                151.152538  415.669480              1.0  \n",
       "Almonaster la Real                  55.928412  335.570470             -1.0  \n",
       "Gibraleón                           78.511423  211.980843             -1.0  \n",
       "Beas                                46.072334  506.795669             -1.0  \n",
       "Sierra de Huelva-Andévalo Central   40.064697  133.548990             -1.0  \n",
       "Higuera de la Sierra                77.459334  154.918668              NaN  "
      ],
      "text/html": "<div>\n<style scoped>\n    .dataframe tbody tr th:only-of-type {\n        vertical-align: middle;\n    }\n\n    .dataframe tbody tr th {\n        vertical-align: top;\n    }\n\n    .dataframe thead th {\n        text-align: right;\n    }\n</style>\n<table border=\"1\" class=\"dataframe\">\n  <thead>\n    <tr style=\"text-align: right;\">\n      <th>Medida</th>\n      <th>Confirmados PDIA</th>\n      <th>Confirmados PDIA 7 días</th>\n      <th>Confirmados PDIA 14 días</th>\n      <th>Población</th>\n      <th>tasa7</th>\n      <th>tasa14</th>\n      <th>Diferencia PDIA</th>\n    </tr>\n    <tr>\n      <th>Lugar de residencia</th>\n      <th></th>\n      <th></th>\n      <th></th>\n      <th></th>\n      <th></th>\n      <th></th>\n      <th></th>\n    </tr>\n  </thead>\n  <tbody>\n    <tr>\n      <th>Huelva</th>\n      <td>24118.0</td>\n      <td>565.0</td>\n      <td>1877.0</td>\n      <td>513170.0</td>\n      <td>110.099967</td>\n      <td>365.765731</td>\n      <td>101.0</td>\n    </tr>\n    <tr>\n      <th>Huelva-Costa</th>\n      <td>14697.0</td>\n      <td>379.0</td>\n      <td>1195.0</td>\n      <td>289548.0</td>\n      <td>130.893669</td>\n      <td>412.712227</td>\n      <td>72.0</td>\n    </tr>\n    <tr>\n      <th>Condado-Campiña</th>\n      <td>6674.0</td>\n      <td>147.0</td>\n      <td>523.0</td>\n      <td>156231.0</td>\n      <td>94.091442</td>\n      <td>334.760707</td>\n      <td>33.0</td>\n    </tr>\n    <tr>\n      <th>Huelva (capital)</th>\n      <td>6424.0</td>\n      <td>186.0</td>\n      <td>494.0</td>\n      <td>143837.0</td>\n      <td>129.313042</td>\n      <td>343.444315</td>\n      <td>27.0</td>\n    </tr>\n    <tr>\n      <th>Almonte</th>\n      <td>804.0</td>\n      <td>41.0</td>\n      <td>97.0</td>\n      <td>24507.0</td>\n      <td>167.299139</td>\n      <td>395.805280</td>\n      <td>15.0</td>\n    </tr>\n    <tr>\n      <th>Isla Cristina</th>\n      <td>1974.0</td>\n      <td>41.0</td>\n      <td>150.0</td>\n      <td>21393.0</td>\n      <td>191.651475</td>\n      <td>701.163932</td>\n      <td>10.0</td>\n    </tr>\n    <tr>\n      <th>Lepe</th>\n      <td>1953.0</td>\n      <td>62.0</td>\n      <td>178.0</td>\n      <td>27880.0</td>\n      <td>222.381636</td>\n      <td>638.450502</td>\n      <td>9.0</td>\n    </tr>\n    <tr>\n      <th>Cartaya</th>\n      <td>886.0</td>\n      <td>26.0</td>\n      <td>75.0</td>\n      <td>20083.0</td>\n      <td>129.462730</td>\n      <td>373.450182</td>\n      <td>9.0</td>\n    </tr>\n    <tr>\n      <th>Bollullos Par del Condado</th>\n      <td>577.0</td>\n      <td>23.0</td>\n      <td>71.0</td>\n      <td>14387.0</td>\n      <td>159.866546</td>\n      <td>493.501077</td>\n      <td>7.0</td>\n    </tr>\n    <tr>\n      <th>Ayamonte</th>\n      <td>1175.0</td>\n      <td>26.0</td>\n      <td>118.0</td>\n      <td>21104.0</td>\n      <td>123.199393</td>\n      <td>559.135709</td>\n      <td>6.0</td>\n    </tr>\n    <tr>\n      <th>Palma del Condado (La)</th>\n      <td>964.0</td>\n      <td>7.0</td>\n      <td>50.0</td>\n      <td>10801.0</td>\n      <td>64.808814</td>\n      <td>462.920100</td>\n      <td>4.0</td>\n    </tr>\n    <tr>\n      <th>Aljaraque</th>\n      <td>917.0</td>\n      <td>12.0</td>\n      <td>52.0</td>\n      <td>21474.0</td>\n      <td>55.881531</td>\n      <td>242.153302</td>\n      <td>4.0</td>\n    </tr>\n    <tr>\n      <th>Escacena del Campo</th>\n      <td>132.0</td>\n      <td>4.0</td>\n      <td>7.0</td>\n      <td>2287.0</td>\n      <td>174.901618</td>\n      <td>306.077831</td>\n      <td>3.0</td>\n    </tr>\n    <tr>\n      <th>Punta Umbría</th>\n      <td>641.0</td>\n      <td>12.0</td>\n      <td>53.0</td>\n      <td>15355.0</td>\n      <td>78.150440</td>\n      <td>345.164442</td>\n      <td>3.0</td>\n    </tr>\n    <tr>\n      <th>Villanueva de los Castillejos</th>\n      <td>146.0</td>\n      <td>7.0</td>\n      <td>17.0</td>\n      <td>2825.0</td>\n      <td>247.787611</td>\n      <td>601.769912</td>\n      <td>3.0</td>\n    </tr>\n    <tr>\n      <th>Manzanilla</th>\n      <td>85.0</td>\n      <td>3.0</td>\n      <td>6.0</td>\n      <td>2118.0</td>\n      <td>141.643059</td>\n      <td>283.286119</td>\n      <td>2.0</td>\n    </tr>\n    <tr>\n      <th>Moguer</th>\n      <td>793.0</td>\n      <td>23.0</td>\n      <td>70.0</td>\n      <td>21867.0</td>\n      <td>105.181323</td>\n      <td>320.117071</td>\n      <td>2.0</td>\n    </tr>\n    <tr>\n      <th>Bonares</th>\n      <td>179.0</td>\n      <td>2.0</td>\n      <td>19.0</td>\n      <td>6060.0</td>\n      <td>33.003300</td>\n      <td>313.531353</td>\n      <td>1.0</td>\n    </tr>\n    <tr>\n      <th>Aracena</th>\n      <td>456.0</td>\n      <td>4.0</td>\n      <td>15.0</td>\n      <td>8255.0</td>\n      <td>48.455482</td>\n      <td>181.708056</td>\n      <td>1.0</td>\n    </tr>\n    <tr>\n      <th>Palos de la Frontera</th>\n      <td>438.0</td>\n      <td>13.0</td>\n      <td>46.0</td>\n      <td>11742.0</td>\n      <td>110.713677</td>\n      <td>391.756089</td>\n      <td>1.0</td>\n    </tr>\n    <tr>\n      <th>Rociana del Condado</th>\n      <td>299.0</td>\n      <td>12.0</td>\n      <td>33.0</td>\n      <td>7939.0</td>\n      <td>151.152538</td>\n      <td>415.669480</td>\n      <td>1.0</td>\n    </tr>\n    <tr>\n      <th>Almonaster la Real</th>\n      <td>54.0</td>\n      <td>1.0</td>\n      <td>6.0</td>\n      <td>1788.0</td>\n      <td>55.928412</td>\n      <td>335.570470</td>\n      <td>-1.0</td>\n    </tr>\n    <tr>\n      <th>Gibraleón</th>\n      <td>505.0</td>\n      <td>10.0</td>\n      <td>27.0</td>\n      <td>12737.0</td>\n      <td>78.511423</td>\n      <td>211.980843</td>\n      <td>-1.0</td>\n    </tr>\n    <tr>\n      <th>Beas</th>\n      <td>158.0</td>\n      <td>2.0</td>\n      <td>22.0</td>\n      <td>4341.0</td>\n      <td>46.072334</td>\n      <td>506.795669</td>\n      <td>-1.0</td>\n    </tr>\n    <tr>\n      <th>Sierra de Huelva-Andévalo Central</th>\n      <td>2322.0</td>\n      <td>27.0</td>\n      <td>90.0</td>\n      <td>67391.0</td>\n      <td>40.064697</td>\n      <td>133.548990</td>\n      <td>-1.0</td>\n    </tr>\n    <tr>\n      <th>Higuera de la Sierra</th>\n      <td>29.0</td>\n      <td>1.0</td>\n      <td>2.0</td>\n      <td>1291.0</td>\n      <td>77.459334</td>\n      <td>154.918668</td>\n      <td>NaN</td>\n    </tr>\n  </tbody>\n</table>\n</div>"
     },
     "metadata": {},
     "execution_count": 15
    }
   ],
   "source": [
    "# Nuevos casos desde la última captura\n",
    "tabla[tabla['Diferencia PDIA'] != 0].sort_values('Diferencia PDIA', ascending=False)"
   ]
  },
  {
   "cell_type": "code",
   "execution_count": 16,
   "metadata": {},
   "outputs": [],
   "source": [
    "if tabla[tabla['Diferencia PDIA'] != 0]['Diferencia PDIA'].sum() > 0:\n",
    "  # Save to csv\n",
    "  tabla.to_csv('covid_huelva.csv', encoding='utf-8', header=True, index=True)  "
   ]
  },
  {
   "cell_type": "code",
   "execution_count": 17,
   "metadata": {},
   "outputs": [
    {
     "output_type": "execute_result",
     "data": {
      "text/plain": [
       "Medida                             Confirmados PDIA  Confirmados PDIA 7 días  \\\n",
       "Lugar de residencia                                                            \n",
       "Villablanca                                   163.0                      5.0   \n",
       "Alájar                                         16.0                      1.0   \n",
       "Isla Cristina                                1974.0                     41.0   \n",
       "Lepe                                         1953.0                     62.0   \n",
       "Villanueva de los Castillejos                 146.0                      7.0   \n",
       "Villalba del Alcor                            437.0                      2.0   \n",
       "Ayamonte                                     1175.0                     26.0   \n",
       "Cumbres de San Bartolomé                        5.0                      2.0   \n",
       "Beas                                          158.0                      2.0   \n",
       "Bollullos Par del Condado                     577.0                     23.0   \n",
       "Palma del Condado (La)                        964.0                      7.0   \n",
       "Rociana del Condado                           299.0                     12.0   \n",
       "Huelva-Costa                                14697.0                    379.0   \n",
       "Almonte                                       804.0                     41.0   \n",
       "Palos de la Frontera                          438.0                     13.0   \n",
       "Cartaya                                       886.0                     26.0   \n",
       "Huelva                                      24118.0                    565.0   \n",
       "Punta Umbría                                  641.0                     12.0   \n",
       "Huelva (capital)                             6424.0                    186.0   \n",
       "Almonaster la Real                             54.0                      1.0   \n",
       "Condado-Campiña                              6674.0                    147.0   \n",
       "Puebla de Guzmán                               81.0                      2.0   \n",
       "Moguer                                        793.0                     23.0   \n",
       "Bonares                                       179.0                      2.0   \n",
       "Escacena del Campo                            132.0                      4.0   \n",
       "Manzanilla                                     85.0                      3.0   \n",
       "Aljaraque                                     917.0                     12.0   \n",
       "Gibraleón                                     505.0                     10.0   \n",
       "San Juan del Puerto                           353.0                      3.0   \n",
       "Aracena                                       456.0                      4.0   \n",
       "Valverde del Camino                           423.0                      9.0   \n",
       "Zalamea la Real                                85.0                      2.0   \n",
       "Higuera de la Sierra                           29.0                      1.0   \n",
       "Sierra de Huelva-Andévalo Central            2322.0                     27.0   \n",
       "San Bartolomé de la Torre                     189.0                      1.0   \n",
       "Niebla                                        158.0                      1.0   \n",
       "Nerva                                         151.0                      5.0   \n",
       "Minas de Riotinto                             101.0                      2.0   \n",
       "\n",
       "Medida                             Confirmados PDIA 14 días  Población  \\\n",
       "Lugar de residencia                                                      \n",
       "Villablanca                                            37.0     2885.0   \n",
       "Alájar                                                  7.0      759.0   \n",
       "Isla Cristina                                         150.0    21393.0   \n",
       "Lepe                                                  178.0    27880.0   \n",
       "Villanueva de los Castillejos                          17.0     2825.0   \n",
       "Villalba del Alcor                                     20.0     3366.0   \n",
       "Ayamonte                                              118.0    21104.0   \n",
       "Cumbres de San Bartolomé                                2.0      376.0   \n",
       "Beas                                                   22.0     4341.0   \n",
       "Bollullos Par del Condado                              71.0    14387.0   \n",
       "Palma del Condado (La)                                 50.0    10801.0   \n",
       "Rociana del Condado                                    33.0     7939.0   \n",
       "Huelva-Costa                                         1195.0   289548.0   \n",
       "Almonte                                                97.0    24507.0   \n",
       "Palos de la Frontera                                   46.0    11742.0   \n",
       "Cartaya                                                75.0    20083.0   \n",
       "Huelva                                               1877.0   513170.0   \n",
       "Punta Umbría                                           53.0    15355.0   \n",
       "Huelva (capital)                                      494.0   143837.0   \n",
       "Almonaster la Real                                      6.0     1788.0   \n",
       "Condado-Campiña                                       523.0   156231.0   \n",
       "Puebla de Guzmán                                       10.0     3092.0   \n",
       "Moguer                                                 70.0    21867.0   \n",
       "Bonares                                                19.0     6060.0   \n",
       "Escacena del Campo                                      7.0     2287.0   \n",
       "Manzanilla                                              6.0     2118.0   \n",
       "Aljaraque                                              52.0    21474.0   \n",
       "Gibraleón                                              27.0    12737.0   \n",
       "San Juan del Puerto                                    19.0     9411.0   \n",
       "Aracena                                                15.0     8255.0   \n",
       "Valverde del Camino                                    23.0    12750.0   \n",
       "Zalamea la Real                                         5.0     3054.0   \n",
       "Higuera de la Sierra                                    2.0     1291.0   \n",
       "Sierra de Huelva-Andévalo Central                      90.0    67391.0   \n",
       "San Bartolomé de la Torre                               5.0     3761.0   \n",
       "Niebla                                                  5.0     4116.0   \n",
       "Nerva                                                   6.0     5169.0   \n",
       "Minas de Riotinto                                       3.0     3812.0   \n",
       "\n",
       "Medida                                  tasa7       tasa14  Diferencia PDIA  \n",
       "Lugar de residencia                                                          \n",
       "Villablanca                        173.310225  1282.495667              0.0  \n",
       "Alájar                             131.752306   922.266140              0.0  \n",
       "Isla Cristina                      191.651475   701.163932             10.0  \n",
       "Lepe                               222.381636   638.450502              9.0  \n",
       "Villanueva de los Castillejos      247.787611   601.769912              3.0  \n",
       "Villalba del Alcor                  59.417706   594.177065              0.0  \n",
       "Ayamonte                           123.199393   559.135709              6.0  \n",
       "Cumbres de San Bartolomé           531.914894   531.914894              0.0  \n",
       "Beas                                46.072334   506.795669             -1.0  \n",
       "Bollullos Par del Condado          159.866546   493.501077              7.0  \n",
       "Palma del Condado (La)              64.808814   462.920100              4.0  \n",
       "Rociana del Condado                151.152538   415.669480              1.0  \n",
       "Huelva-Costa                       130.893669   412.712227             72.0  \n",
       "Almonte                            167.299139   395.805280             15.0  \n",
       "Palos de la Frontera               110.713677   391.756089              1.0  \n",
       "Cartaya                            129.462730   373.450182              9.0  \n",
       "Huelva                             110.099967   365.765731            101.0  \n",
       "Punta Umbría                        78.150440   345.164442              3.0  \n",
       "Huelva (capital)                   129.313042   343.444315             27.0  \n",
       "Almonaster la Real                  55.928412   335.570470             -1.0  \n",
       "Condado-Campiña                     94.091442   334.760707             33.0  \n",
       "Puebla de Guzmán                    64.683053   323.415265              0.0  \n",
       "Moguer                             105.181323   320.117071              2.0  \n",
       "Bonares                             33.003300   313.531353              1.0  \n",
       "Escacena del Campo                 174.901618   306.077831              3.0  \n",
       "Manzanilla                         141.643059   283.286119              2.0  \n",
       "Aljaraque                           55.881531   242.153302              4.0  \n",
       "Gibraleón                           78.511423   211.980843             -1.0  \n",
       "San Juan del Puerto                 31.877590   201.891404              0.0  \n",
       "Aracena                             48.455482   181.708056              1.0  \n",
       "Valverde del Camino                 70.588235   180.392157              0.0  \n",
       "Zalamea la Real                     65.487885   163.719712              0.0  \n",
       "Higuera de la Sierra                77.459334   154.918668              NaN  \n",
       "Sierra de Huelva-Andévalo Central   40.064697   133.548990             -1.0  \n",
       "San Bartolomé de la Torre           26.588673   132.943366              0.0  \n",
       "Niebla                              24.295432   121.477162              0.0  \n",
       "Nerva                               96.730509   116.076611              0.0  \n",
       "Minas de Riotinto                   52.465897    78.698846              0.0  "
      ],
      "text/html": "<div>\n<style scoped>\n    .dataframe tbody tr th:only-of-type {\n        vertical-align: middle;\n    }\n\n    .dataframe tbody tr th {\n        vertical-align: top;\n    }\n\n    .dataframe thead th {\n        text-align: right;\n    }\n</style>\n<table border=\"1\" class=\"dataframe\">\n  <thead>\n    <tr style=\"text-align: right;\">\n      <th>Medida</th>\n      <th>Confirmados PDIA</th>\n      <th>Confirmados PDIA 7 días</th>\n      <th>Confirmados PDIA 14 días</th>\n      <th>Población</th>\n      <th>tasa7</th>\n      <th>tasa14</th>\n      <th>Diferencia PDIA</th>\n    </tr>\n    <tr>\n      <th>Lugar de residencia</th>\n      <th></th>\n      <th></th>\n      <th></th>\n      <th></th>\n      <th></th>\n      <th></th>\n      <th></th>\n    </tr>\n  </thead>\n  <tbody>\n    <tr>\n      <th>Villablanca</th>\n      <td>163.0</td>\n      <td>5.0</td>\n      <td>37.0</td>\n      <td>2885.0</td>\n      <td>173.310225</td>\n      <td>1282.495667</td>\n      <td>0.0</td>\n    </tr>\n    <tr>\n      <th>Alájar</th>\n      <td>16.0</td>\n      <td>1.0</td>\n      <td>7.0</td>\n      <td>759.0</td>\n      <td>131.752306</td>\n      <td>922.266140</td>\n      <td>0.0</td>\n    </tr>\n    <tr>\n      <th>Isla Cristina</th>\n      <td>1974.0</td>\n      <td>41.0</td>\n      <td>150.0</td>\n      <td>21393.0</td>\n      <td>191.651475</td>\n      <td>701.163932</td>\n      <td>10.0</td>\n    </tr>\n    <tr>\n      <th>Lepe</th>\n      <td>1953.0</td>\n      <td>62.0</td>\n      <td>178.0</td>\n      <td>27880.0</td>\n      <td>222.381636</td>\n      <td>638.450502</td>\n      <td>9.0</td>\n    </tr>\n    <tr>\n      <th>Villanueva de los Castillejos</th>\n      <td>146.0</td>\n      <td>7.0</td>\n      <td>17.0</td>\n      <td>2825.0</td>\n      <td>247.787611</td>\n      <td>601.769912</td>\n      <td>3.0</td>\n    </tr>\n    <tr>\n      <th>Villalba del Alcor</th>\n      <td>437.0</td>\n      <td>2.0</td>\n      <td>20.0</td>\n      <td>3366.0</td>\n      <td>59.417706</td>\n      <td>594.177065</td>\n      <td>0.0</td>\n    </tr>\n    <tr>\n      <th>Ayamonte</th>\n      <td>1175.0</td>\n      <td>26.0</td>\n      <td>118.0</td>\n      <td>21104.0</td>\n      <td>123.199393</td>\n      <td>559.135709</td>\n      <td>6.0</td>\n    </tr>\n    <tr>\n      <th>Cumbres de San Bartolomé</th>\n      <td>5.0</td>\n      <td>2.0</td>\n      <td>2.0</td>\n      <td>376.0</td>\n      <td>531.914894</td>\n      <td>531.914894</td>\n      <td>0.0</td>\n    </tr>\n    <tr>\n      <th>Beas</th>\n      <td>158.0</td>\n      <td>2.0</td>\n      <td>22.0</td>\n      <td>4341.0</td>\n      <td>46.072334</td>\n      <td>506.795669</td>\n      <td>-1.0</td>\n    </tr>\n    <tr>\n      <th>Bollullos Par del Condado</th>\n      <td>577.0</td>\n      <td>23.0</td>\n      <td>71.0</td>\n      <td>14387.0</td>\n      <td>159.866546</td>\n      <td>493.501077</td>\n      <td>7.0</td>\n    </tr>\n    <tr>\n      <th>Palma del Condado (La)</th>\n      <td>964.0</td>\n      <td>7.0</td>\n      <td>50.0</td>\n      <td>10801.0</td>\n      <td>64.808814</td>\n      <td>462.920100</td>\n      <td>4.0</td>\n    </tr>\n    <tr>\n      <th>Rociana del Condado</th>\n      <td>299.0</td>\n      <td>12.0</td>\n      <td>33.0</td>\n      <td>7939.0</td>\n      <td>151.152538</td>\n      <td>415.669480</td>\n      <td>1.0</td>\n    </tr>\n    <tr>\n      <th>Huelva-Costa</th>\n      <td>14697.0</td>\n      <td>379.0</td>\n      <td>1195.0</td>\n      <td>289548.0</td>\n      <td>130.893669</td>\n      <td>412.712227</td>\n      <td>72.0</td>\n    </tr>\n    <tr>\n      <th>Almonte</th>\n      <td>804.0</td>\n      <td>41.0</td>\n      <td>97.0</td>\n      <td>24507.0</td>\n      <td>167.299139</td>\n      <td>395.805280</td>\n      <td>15.0</td>\n    </tr>\n    <tr>\n      <th>Palos de la Frontera</th>\n      <td>438.0</td>\n      <td>13.0</td>\n      <td>46.0</td>\n      <td>11742.0</td>\n      <td>110.713677</td>\n      <td>391.756089</td>\n      <td>1.0</td>\n    </tr>\n    <tr>\n      <th>Cartaya</th>\n      <td>886.0</td>\n      <td>26.0</td>\n      <td>75.0</td>\n      <td>20083.0</td>\n      <td>129.462730</td>\n      <td>373.450182</td>\n      <td>9.0</td>\n    </tr>\n    <tr>\n      <th>Huelva</th>\n      <td>24118.0</td>\n      <td>565.0</td>\n      <td>1877.0</td>\n      <td>513170.0</td>\n      <td>110.099967</td>\n      <td>365.765731</td>\n      <td>101.0</td>\n    </tr>\n    <tr>\n      <th>Punta Umbría</th>\n      <td>641.0</td>\n      <td>12.0</td>\n      <td>53.0</td>\n      <td>15355.0</td>\n      <td>78.150440</td>\n      <td>345.164442</td>\n      <td>3.0</td>\n    </tr>\n    <tr>\n      <th>Huelva (capital)</th>\n      <td>6424.0</td>\n      <td>186.0</td>\n      <td>494.0</td>\n      <td>143837.0</td>\n      <td>129.313042</td>\n      <td>343.444315</td>\n      <td>27.0</td>\n    </tr>\n    <tr>\n      <th>Almonaster la Real</th>\n      <td>54.0</td>\n      <td>1.0</td>\n      <td>6.0</td>\n      <td>1788.0</td>\n      <td>55.928412</td>\n      <td>335.570470</td>\n      <td>-1.0</td>\n    </tr>\n    <tr>\n      <th>Condado-Campiña</th>\n      <td>6674.0</td>\n      <td>147.0</td>\n      <td>523.0</td>\n      <td>156231.0</td>\n      <td>94.091442</td>\n      <td>334.760707</td>\n      <td>33.0</td>\n    </tr>\n    <tr>\n      <th>Puebla de Guzmán</th>\n      <td>81.0</td>\n      <td>2.0</td>\n      <td>10.0</td>\n      <td>3092.0</td>\n      <td>64.683053</td>\n      <td>323.415265</td>\n      <td>0.0</td>\n    </tr>\n    <tr>\n      <th>Moguer</th>\n      <td>793.0</td>\n      <td>23.0</td>\n      <td>70.0</td>\n      <td>21867.0</td>\n      <td>105.181323</td>\n      <td>320.117071</td>\n      <td>2.0</td>\n    </tr>\n    <tr>\n      <th>Bonares</th>\n      <td>179.0</td>\n      <td>2.0</td>\n      <td>19.0</td>\n      <td>6060.0</td>\n      <td>33.003300</td>\n      <td>313.531353</td>\n      <td>1.0</td>\n    </tr>\n    <tr>\n      <th>Escacena del Campo</th>\n      <td>132.0</td>\n      <td>4.0</td>\n      <td>7.0</td>\n      <td>2287.0</td>\n      <td>174.901618</td>\n      <td>306.077831</td>\n      <td>3.0</td>\n    </tr>\n    <tr>\n      <th>Manzanilla</th>\n      <td>85.0</td>\n      <td>3.0</td>\n      <td>6.0</td>\n      <td>2118.0</td>\n      <td>141.643059</td>\n      <td>283.286119</td>\n      <td>2.0</td>\n    </tr>\n    <tr>\n      <th>Aljaraque</th>\n      <td>917.0</td>\n      <td>12.0</td>\n      <td>52.0</td>\n      <td>21474.0</td>\n      <td>55.881531</td>\n      <td>242.153302</td>\n      <td>4.0</td>\n    </tr>\n    <tr>\n      <th>Gibraleón</th>\n      <td>505.0</td>\n      <td>10.0</td>\n      <td>27.0</td>\n      <td>12737.0</td>\n      <td>78.511423</td>\n      <td>211.980843</td>\n      <td>-1.0</td>\n    </tr>\n    <tr>\n      <th>San Juan del Puerto</th>\n      <td>353.0</td>\n      <td>3.0</td>\n      <td>19.0</td>\n      <td>9411.0</td>\n      <td>31.877590</td>\n      <td>201.891404</td>\n      <td>0.0</td>\n    </tr>\n    <tr>\n      <th>Aracena</th>\n      <td>456.0</td>\n      <td>4.0</td>\n      <td>15.0</td>\n      <td>8255.0</td>\n      <td>48.455482</td>\n      <td>181.708056</td>\n      <td>1.0</td>\n    </tr>\n    <tr>\n      <th>Valverde del Camino</th>\n      <td>423.0</td>\n      <td>9.0</td>\n      <td>23.0</td>\n      <td>12750.0</td>\n      <td>70.588235</td>\n      <td>180.392157</td>\n      <td>0.0</td>\n    </tr>\n    <tr>\n      <th>Zalamea la Real</th>\n      <td>85.0</td>\n      <td>2.0</td>\n      <td>5.0</td>\n      <td>3054.0</td>\n      <td>65.487885</td>\n      <td>163.719712</td>\n      <td>0.0</td>\n    </tr>\n    <tr>\n      <th>Higuera de la Sierra</th>\n      <td>29.0</td>\n      <td>1.0</td>\n      <td>2.0</td>\n      <td>1291.0</td>\n      <td>77.459334</td>\n      <td>154.918668</td>\n      <td>NaN</td>\n    </tr>\n    <tr>\n      <th>Sierra de Huelva-Andévalo Central</th>\n      <td>2322.0</td>\n      <td>27.0</td>\n      <td>90.0</td>\n      <td>67391.0</td>\n      <td>40.064697</td>\n      <td>133.548990</td>\n      <td>-1.0</td>\n    </tr>\n    <tr>\n      <th>San Bartolomé de la Torre</th>\n      <td>189.0</td>\n      <td>1.0</td>\n      <td>5.0</td>\n      <td>3761.0</td>\n      <td>26.588673</td>\n      <td>132.943366</td>\n      <td>0.0</td>\n    </tr>\n    <tr>\n      <th>Niebla</th>\n      <td>158.0</td>\n      <td>1.0</td>\n      <td>5.0</td>\n      <td>4116.0</td>\n      <td>24.295432</td>\n      <td>121.477162</td>\n      <td>0.0</td>\n    </tr>\n    <tr>\n      <th>Nerva</th>\n      <td>151.0</td>\n      <td>5.0</td>\n      <td>6.0</td>\n      <td>5169.0</td>\n      <td>96.730509</td>\n      <td>116.076611</td>\n      <td>0.0</td>\n    </tr>\n    <tr>\n      <th>Minas de Riotinto</th>\n      <td>101.0</td>\n      <td>2.0</td>\n      <td>3.0</td>\n      <td>3812.0</td>\n      <td>52.465897</td>\n      <td>78.698846</td>\n      <td>0.0</td>\n    </tr>\n  </tbody>\n</table>\n</div>"
     },
     "metadata": {},
     "execution_count": 17
    }
   ],
   "source": [
    "tabla.sort_values('tasa14', ascending=False)"
   ]
  },
  {
   "cell_type": "code",
   "execution_count": 18,
   "metadata": {},
   "outputs": [
    {
     "output_type": "execute_result",
     "data": {
      "text/plain": [
       "Medida                             Confirmados PDIA  Confirmados PDIA 7 días  \\\n",
       "Lugar de residencia                                                            \n",
       "Beas                                          158.0                      2.0   \n",
       "Villalba del Alcor                            437.0                      2.0   \n",
       "Bonares                                       179.0                      2.0   \n",
       "Villablanca                                   163.0                      5.0   \n",
       "Palma del Condado (La)                        964.0                      7.0   \n",
       "Alájar                                         16.0                      1.0   \n",
       "San Juan del Puerto                           353.0                      3.0   \n",
       "Almonaster la Real                             54.0                      1.0   \n",
       "Niebla                                        158.0                      1.0   \n",
       "San Bartolomé de la Torre                     189.0                      1.0   \n",
       "Puebla de Guzmán                               81.0                      2.0   \n",
       "Ayamonte                                     1175.0                     26.0   \n",
       "Punta Umbría                                  641.0                     12.0   \n",
       "Aljaraque                                     917.0                     12.0   \n",
       "Aracena                                       456.0                      4.0   \n",
       "Isla Cristina                                1974.0                     41.0   \n",
       "Condado-Campiña                              6674.0                    147.0   \n",
       "Palos de la Frontera                          438.0                     13.0   \n",
       "Sierra de Huelva-Andévalo Central            2322.0                     27.0   \n",
       "Huelva                                      24118.0                    565.0   \n",
       "Huelva-Costa                                14697.0                    379.0   \n",
       "Bollullos Par del Condado                     577.0                     23.0   \n",
       "Moguer                                        793.0                     23.0   \n",
       "Cartaya                                       886.0                     26.0   \n",
       "Lepe                                         1953.0                     62.0   \n",
       "Rociana del Condado                           299.0                     12.0   \n",
       "Gibraleón                                     505.0                     10.0   \n",
       "Huelva (capital)                             6424.0                    186.0   \n",
       "Valverde del Camino                           423.0                      9.0   \n",
       "Zalamea la Real                                85.0                      2.0   \n",
       "Villanueva de los Castillejos                 146.0                      7.0   \n",
       "Almonte                                       804.0                     41.0   \n",
       "Higuera de la Sierra                           29.0                      1.0   \n",
       "Manzanilla                                     85.0                      3.0   \n",
       "Escacena del Campo                            132.0                      4.0   \n",
       "Minas de Riotinto                             101.0                      2.0   \n",
       "Nerva                                         151.0                      5.0   \n",
       "Cumbres de San Bartolomé                        5.0                      2.0   \n",
       "\n",
       "Medida                             Confirmados PDIA 14 días  Población  \\\n",
       "Lugar de residencia                                                      \n",
       "Beas                                                   22.0     4341.0   \n",
       "Villalba del Alcor                                     20.0     3366.0   \n",
       "Bonares                                                19.0     6060.0   \n",
       "Villablanca                                            37.0     2885.0   \n",
       "Palma del Condado (La)                                 50.0    10801.0   \n",
       "Alájar                                                  7.0      759.0   \n",
       "San Juan del Puerto                                    19.0     9411.0   \n",
       "Almonaster la Real                                      6.0     1788.0   \n",
       "Niebla                                                  5.0     4116.0   \n",
       "San Bartolomé de la Torre                               5.0     3761.0   \n",
       "Puebla de Guzmán                                       10.0     3092.0   \n",
       "Ayamonte                                              118.0    21104.0   \n",
       "Punta Umbría                                           53.0    15355.0   \n",
       "Aljaraque                                              52.0    21474.0   \n",
       "Aracena                                                15.0     8255.0   \n",
       "Isla Cristina                                         150.0    21393.0   \n",
       "Condado-Campiña                                       523.0   156231.0   \n",
       "Palos de la Frontera                                   46.0    11742.0   \n",
       "Sierra de Huelva-Andévalo Central                      90.0    67391.0   \n",
       "Huelva                                               1877.0   513170.0   \n",
       "Huelva-Costa                                         1195.0   289548.0   \n",
       "Bollullos Par del Condado                              71.0    14387.0   \n",
       "Moguer                                                 70.0    21867.0   \n",
       "Cartaya                                                75.0    20083.0   \n",
       "Lepe                                                  178.0    27880.0   \n",
       "Rociana del Condado                                    33.0     7939.0   \n",
       "Gibraleón                                              27.0    12737.0   \n",
       "Huelva (capital)                                      494.0   143837.0   \n",
       "Valverde del Camino                                    23.0    12750.0   \n",
       "Zalamea la Real                                         5.0     3054.0   \n",
       "Villanueva de los Castillejos                          17.0     2825.0   \n",
       "Almonte                                                97.0    24507.0   \n",
       "Higuera de la Sierra                                    2.0     1291.0   \n",
       "Manzanilla                                              6.0     2118.0   \n",
       "Escacena del Campo                                      7.0     2287.0   \n",
       "Minas de Riotinto                                       3.0     3812.0   \n",
       "Nerva                                                   6.0     5169.0   \n",
       "Cumbres de San Bartolomé                                2.0      376.0   \n",
       "\n",
       "Medida                                  tasa7       tasa14  Diferencia PDIA  \\\n",
       "Lugar de residencia                                                           \n",
       "Beas                                46.072334   506.795669             -1.0   \n",
       "Villalba del Alcor                  59.417706   594.177065              0.0   \n",
       "Bonares                             33.003300   313.531353              1.0   \n",
       "Villablanca                        173.310225  1282.495667              0.0   \n",
       "Palma del Condado (La)              64.808814   462.920100              4.0   \n",
       "Alájar                             131.752306   922.266140              0.0   \n",
       "San Juan del Puerto                 31.877590   201.891404              0.0   \n",
       "Almonaster la Real                  55.928412   335.570470             -1.0   \n",
       "Niebla                              24.295432   121.477162              0.0   \n",
       "San Bartolomé de la Torre           26.588673   132.943366              0.0   \n",
       "Puebla de Guzmán                    64.683053   323.415265              0.0   \n",
       "Ayamonte                           123.199393   559.135709              6.0   \n",
       "Punta Umbría                        78.150440   345.164442              3.0   \n",
       "Aljaraque                           55.881531   242.153302              4.0   \n",
       "Aracena                             48.455482   181.708056              1.0   \n",
       "Isla Cristina                      191.651475   701.163932             10.0   \n",
       "Condado-Campiña                     94.091442   334.760707             33.0   \n",
       "Palos de la Frontera               110.713677   391.756089              1.0   \n",
       "Sierra de Huelva-Andévalo Central   40.064697   133.548990             -1.0   \n",
       "Huelva                             110.099967   365.765731            101.0   \n",
       "Huelva-Costa                       130.893669   412.712227             72.0   \n",
       "Bollullos Par del Condado          159.866546   493.501077              7.0   \n",
       "Moguer                             105.181323   320.117071              2.0   \n",
       "Cartaya                            129.462730   373.450182              9.0   \n",
       "Lepe                               222.381636   638.450502              9.0   \n",
       "Rociana del Condado                151.152538   415.669480              1.0   \n",
       "Gibraleón                           78.511423   211.980843             -1.0   \n",
       "Huelva (capital)                   129.313042   343.444315             27.0   \n",
       "Valverde del Camino                 70.588235   180.392157              0.0   \n",
       "Zalamea la Real                     65.487885   163.719712              0.0   \n",
       "Villanueva de los Castillejos      247.787611   601.769912              3.0   \n",
       "Almonte                            167.299139   395.805280             15.0   \n",
       "Higuera de la Sierra                77.459334   154.918668              0.0   \n",
       "Manzanilla                         141.643059   283.286119              2.0   \n",
       "Escacena del Campo                 174.901618   306.077831              3.0   \n",
       "Minas de Riotinto                   52.465897    78.698846              0.0   \n",
       "Nerva                               96.730509   116.076611              0.0   \n",
       "Cumbres de San Bartolomé           531.914894   531.914894              0.0   \n",
       "\n",
       "Medida                                 7/14  \n",
       "Lugar de residencia                          \n",
       "Beas                               0.090909  \n",
       "Villalba del Alcor                 0.100000  \n",
       "Bonares                            0.105263  \n",
       "Villablanca                        0.135135  \n",
       "Palma del Condado (La)             0.140000  \n",
       "Alájar                             0.142857  \n",
       "San Juan del Puerto                0.157895  \n",
       "Almonaster la Real                 0.166667  \n",
       "Niebla                             0.200000  \n",
       "San Bartolomé de la Torre          0.200000  \n",
       "Puebla de Guzmán                   0.200000  \n",
       "Ayamonte                           0.220339  \n",
       "Punta Umbría                       0.226415  \n",
       "Aljaraque                          0.230769  \n",
       "Aracena                            0.266667  \n",
       "Isla Cristina                      0.273333  \n",
       "Condado-Campiña                    0.281071  \n",
       "Palos de la Frontera               0.282609  \n",
       "Sierra de Huelva-Andévalo Central  0.300000  \n",
       "Huelva                             0.301012  \n",
       "Huelva-Costa                       0.317155  \n",
       "Bollullos Par del Condado          0.323944  \n",
       "Moguer                             0.328571  \n",
       "Cartaya                            0.346667  \n",
       "Lepe                               0.348315  \n",
       "Rociana del Condado                0.363636  \n",
       "Gibraleón                          0.370370  \n",
       "Huelva (capital)                   0.376518  \n",
       "Valverde del Camino                0.391304  \n",
       "Zalamea la Real                    0.400000  \n",
       "Villanueva de los Castillejos      0.411765  \n",
       "Almonte                            0.422680  \n",
       "Higuera de la Sierra               0.500000  \n",
       "Manzanilla                         0.500000  \n",
       "Escacena del Campo                 0.571429  \n",
       "Minas de Riotinto                  0.666667  \n",
       "Nerva                              0.833333  \n",
       "Cumbres de San Bartolomé           1.000000  "
      ],
      "text/html": "<div>\n<style scoped>\n    .dataframe tbody tr th:only-of-type {\n        vertical-align: middle;\n    }\n\n    .dataframe tbody tr th {\n        vertical-align: top;\n    }\n\n    .dataframe thead th {\n        text-align: right;\n    }\n</style>\n<table border=\"1\" class=\"dataframe\">\n  <thead>\n    <tr style=\"text-align: right;\">\n      <th>Medida</th>\n      <th>Confirmados PDIA</th>\n      <th>Confirmados PDIA 7 días</th>\n      <th>Confirmados PDIA 14 días</th>\n      <th>Población</th>\n      <th>tasa7</th>\n      <th>tasa14</th>\n      <th>Diferencia PDIA</th>\n      <th>7/14</th>\n    </tr>\n    <tr>\n      <th>Lugar de residencia</th>\n      <th></th>\n      <th></th>\n      <th></th>\n      <th></th>\n      <th></th>\n      <th></th>\n      <th></th>\n      <th></th>\n    </tr>\n  </thead>\n  <tbody>\n    <tr>\n      <th>Beas</th>\n      <td>158.0</td>\n      <td>2.0</td>\n      <td>22.0</td>\n      <td>4341.0</td>\n      <td>46.072334</td>\n      <td>506.795669</td>\n      <td>-1.0</td>\n      <td>0.090909</td>\n    </tr>\n    <tr>\n      <th>Villalba del Alcor</th>\n      <td>437.0</td>\n      <td>2.0</td>\n      <td>20.0</td>\n      <td>3366.0</td>\n      <td>59.417706</td>\n      <td>594.177065</td>\n      <td>0.0</td>\n      <td>0.100000</td>\n    </tr>\n    <tr>\n      <th>Bonares</th>\n      <td>179.0</td>\n      <td>2.0</td>\n      <td>19.0</td>\n      <td>6060.0</td>\n      <td>33.003300</td>\n      <td>313.531353</td>\n      <td>1.0</td>\n      <td>0.105263</td>\n    </tr>\n    <tr>\n      <th>Villablanca</th>\n      <td>163.0</td>\n      <td>5.0</td>\n      <td>37.0</td>\n      <td>2885.0</td>\n      <td>173.310225</td>\n      <td>1282.495667</td>\n      <td>0.0</td>\n      <td>0.135135</td>\n    </tr>\n    <tr>\n      <th>Palma del Condado (La)</th>\n      <td>964.0</td>\n      <td>7.0</td>\n      <td>50.0</td>\n      <td>10801.0</td>\n      <td>64.808814</td>\n      <td>462.920100</td>\n      <td>4.0</td>\n      <td>0.140000</td>\n    </tr>\n    <tr>\n      <th>Alájar</th>\n      <td>16.0</td>\n      <td>1.0</td>\n      <td>7.0</td>\n      <td>759.0</td>\n      <td>131.752306</td>\n      <td>922.266140</td>\n      <td>0.0</td>\n      <td>0.142857</td>\n    </tr>\n    <tr>\n      <th>San Juan del Puerto</th>\n      <td>353.0</td>\n      <td>3.0</td>\n      <td>19.0</td>\n      <td>9411.0</td>\n      <td>31.877590</td>\n      <td>201.891404</td>\n      <td>0.0</td>\n      <td>0.157895</td>\n    </tr>\n    <tr>\n      <th>Almonaster la Real</th>\n      <td>54.0</td>\n      <td>1.0</td>\n      <td>6.0</td>\n      <td>1788.0</td>\n      <td>55.928412</td>\n      <td>335.570470</td>\n      <td>-1.0</td>\n      <td>0.166667</td>\n    </tr>\n    <tr>\n      <th>Niebla</th>\n      <td>158.0</td>\n      <td>1.0</td>\n      <td>5.0</td>\n      <td>4116.0</td>\n      <td>24.295432</td>\n      <td>121.477162</td>\n      <td>0.0</td>\n      <td>0.200000</td>\n    </tr>\n    <tr>\n      <th>San Bartolomé de la Torre</th>\n      <td>189.0</td>\n      <td>1.0</td>\n      <td>5.0</td>\n      <td>3761.0</td>\n      <td>26.588673</td>\n      <td>132.943366</td>\n      <td>0.0</td>\n      <td>0.200000</td>\n    </tr>\n    <tr>\n      <th>Puebla de Guzmán</th>\n      <td>81.0</td>\n      <td>2.0</td>\n      <td>10.0</td>\n      <td>3092.0</td>\n      <td>64.683053</td>\n      <td>323.415265</td>\n      <td>0.0</td>\n      <td>0.200000</td>\n    </tr>\n    <tr>\n      <th>Ayamonte</th>\n      <td>1175.0</td>\n      <td>26.0</td>\n      <td>118.0</td>\n      <td>21104.0</td>\n      <td>123.199393</td>\n      <td>559.135709</td>\n      <td>6.0</td>\n      <td>0.220339</td>\n    </tr>\n    <tr>\n      <th>Punta Umbría</th>\n      <td>641.0</td>\n      <td>12.0</td>\n      <td>53.0</td>\n      <td>15355.0</td>\n      <td>78.150440</td>\n      <td>345.164442</td>\n      <td>3.0</td>\n      <td>0.226415</td>\n    </tr>\n    <tr>\n      <th>Aljaraque</th>\n      <td>917.0</td>\n      <td>12.0</td>\n      <td>52.0</td>\n      <td>21474.0</td>\n      <td>55.881531</td>\n      <td>242.153302</td>\n      <td>4.0</td>\n      <td>0.230769</td>\n    </tr>\n    <tr>\n      <th>Aracena</th>\n      <td>456.0</td>\n      <td>4.0</td>\n      <td>15.0</td>\n      <td>8255.0</td>\n      <td>48.455482</td>\n      <td>181.708056</td>\n      <td>1.0</td>\n      <td>0.266667</td>\n    </tr>\n    <tr>\n      <th>Isla Cristina</th>\n      <td>1974.0</td>\n      <td>41.0</td>\n      <td>150.0</td>\n      <td>21393.0</td>\n      <td>191.651475</td>\n      <td>701.163932</td>\n      <td>10.0</td>\n      <td>0.273333</td>\n    </tr>\n    <tr>\n      <th>Condado-Campiña</th>\n      <td>6674.0</td>\n      <td>147.0</td>\n      <td>523.0</td>\n      <td>156231.0</td>\n      <td>94.091442</td>\n      <td>334.760707</td>\n      <td>33.0</td>\n      <td>0.281071</td>\n    </tr>\n    <tr>\n      <th>Palos de la Frontera</th>\n      <td>438.0</td>\n      <td>13.0</td>\n      <td>46.0</td>\n      <td>11742.0</td>\n      <td>110.713677</td>\n      <td>391.756089</td>\n      <td>1.0</td>\n      <td>0.282609</td>\n    </tr>\n    <tr>\n      <th>Sierra de Huelva-Andévalo Central</th>\n      <td>2322.0</td>\n      <td>27.0</td>\n      <td>90.0</td>\n      <td>67391.0</td>\n      <td>40.064697</td>\n      <td>133.548990</td>\n      <td>-1.0</td>\n      <td>0.300000</td>\n    </tr>\n    <tr>\n      <th>Huelva</th>\n      <td>24118.0</td>\n      <td>565.0</td>\n      <td>1877.0</td>\n      <td>513170.0</td>\n      <td>110.099967</td>\n      <td>365.765731</td>\n      <td>101.0</td>\n      <td>0.301012</td>\n    </tr>\n    <tr>\n      <th>Huelva-Costa</th>\n      <td>14697.0</td>\n      <td>379.0</td>\n      <td>1195.0</td>\n      <td>289548.0</td>\n      <td>130.893669</td>\n      <td>412.712227</td>\n      <td>72.0</td>\n      <td>0.317155</td>\n    </tr>\n    <tr>\n      <th>Bollullos Par del Condado</th>\n      <td>577.0</td>\n      <td>23.0</td>\n      <td>71.0</td>\n      <td>14387.0</td>\n      <td>159.866546</td>\n      <td>493.501077</td>\n      <td>7.0</td>\n      <td>0.323944</td>\n    </tr>\n    <tr>\n      <th>Moguer</th>\n      <td>793.0</td>\n      <td>23.0</td>\n      <td>70.0</td>\n      <td>21867.0</td>\n      <td>105.181323</td>\n      <td>320.117071</td>\n      <td>2.0</td>\n      <td>0.328571</td>\n    </tr>\n    <tr>\n      <th>Cartaya</th>\n      <td>886.0</td>\n      <td>26.0</td>\n      <td>75.0</td>\n      <td>20083.0</td>\n      <td>129.462730</td>\n      <td>373.450182</td>\n      <td>9.0</td>\n      <td>0.346667</td>\n    </tr>\n    <tr>\n      <th>Lepe</th>\n      <td>1953.0</td>\n      <td>62.0</td>\n      <td>178.0</td>\n      <td>27880.0</td>\n      <td>222.381636</td>\n      <td>638.450502</td>\n      <td>9.0</td>\n      <td>0.348315</td>\n    </tr>\n    <tr>\n      <th>Rociana del Condado</th>\n      <td>299.0</td>\n      <td>12.0</td>\n      <td>33.0</td>\n      <td>7939.0</td>\n      <td>151.152538</td>\n      <td>415.669480</td>\n      <td>1.0</td>\n      <td>0.363636</td>\n    </tr>\n    <tr>\n      <th>Gibraleón</th>\n      <td>505.0</td>\n      <td>10.0</td>\n      <td>27.0</td>\n      <td>12737.0</td>\n      <td>78.511423</td>\n      <td>211.980843</td>\n      <td>-1.0</td>\n      <td>0.370370</td>\n    </tr>\n    <tr>\n      <th>Huelva (capital)</th>\n      <td>6424.0</td>\n      <td>186.0</td>\n      <td>494.0</td>\n      <td>143837.0</td>\n      <td>129.313042</td>\n      <td>343.444315</td>\n      <td>27.0</td>\n      <td>0.376518</td>\n    </tr>\n    <tr>\n      <th>Valverde del Camino</th>\n      <td>423.0</td>\n      <td>9.0</td>\n      <td>23.0</td>\n      <td>12750.0</td>\n      <td>70.588235</td>\n      <td>180.392157</td>\n      <td>0.0</td>\n      <td>0.391304</td>\n    </tr>\n    <tr>\n      <th>Zalamea la Real</th>\n      <td>85.0</td>\n      <td>2.0</td>\n      <td>5.0</td>\n      <td>3054.0</td>\n      <td>65.487885</td>\n      <td>163.719712</td>\n      <td>0.0</td>\n      <td>0.400000</td>\n    </tr>\n    <tr>\n      <th>Villanueva de los Castillejos</th>\n      <td>146.0</td>\n      <td>7.0</td>\n      <td>17.0</td>\n      <td>2825.0</td>\n      <td>247.787611</td>\n      <td>601.769912</td>\n      <td>3.0</td>\n      <td>0.411765</td>\n    </tr>\n    <tr>\n      <th>Almonte</th>\n      <td>804.0</td>\n      <td>41.0</td>\n      <td>97.0</td>\n      <td>24507.0</td>\n      <td>167.299139</td>\n      <td>395.805280</td>\n      <td>15.0</td>\n      <td>0.422680</td>\n    </tr>\n    <tr>\n      <th>Higuera de la Sierra</th>\n      <td>29.0</td>\n      <td>1.0</td>\n      <td>2.0</td>\n      <td>1291.0</td>\n      <td>77.459334</td>\n      <td>154.918668</td>\n      <td>0.0</td>\n      <td>0.500000</td>\n    </tr>\n    <tr>\n      <th>Manzanilla</th>\n      <td>85.0</td>\n      <td>3.0</td>\n      <td>6.0</td>\n      <td>2118.0</td>\n      <td>141.643059</td>\n      <td>283.286119</td>\n      <td>2.0</td>\n      <td>0.500000</td>\n    </tr>\n    <tr>\n      <th>Escacena del Campo</th>\n      <td>132.0</td>\n      <td>4.0</td>\n      <td>7.0</td>\n      <td>2287.0</td>\n      <td>174.901618</td>\n      <td>306.077831</td>\n      <td>3.0</td>\n      <td>0.571429</td>\n    </tr>\n    <tr>\n      <th>Minas de Riotinto</th>\n      <td>101.0</td>\n      <td>2.0</td>\n      <td>3.0</td>\n      <td>3812.0</td>\n      <td>52.465897</td>\n      <td>78.698846</td>\n      <td>0.0</td>\n      <td>0.666667</td>\n    </tr>\n    <tr>\n      <th>Nerva</th>\n      <td>151.0</td>\n      <td>5.0</td>\n      <td>6.0</td>\n      <td>5169.0</td>\n      <td>96.730509</td>\n      <td>116.076611</td>\n      <td>0.0</td>\n      <td>0.833333</td>\n    </tr>\n    <tr>\n      <th>Cumbres de San Bartolomé</th>\n      <td>5.0</td>\n      <td>2.0</td>\n      <td>2.0</td>\n      <td>376.0</td>\n      <td>531.914894</td>\n      <td>531.914894</td>\n      <td>0.0</td>\n      <td>1.000000</td>\n    </tr>\n  </tbody>\n</table>\n</div>"
     },
     "metadata": {},
     "execution_count": 18
    }
   ],
   "source": [
    "# Peso de la tasa de la última semana en relación con la tasa a 14 días \n",
    "# Mejor cuanto menor. Valor 1 significa que no había casos antes de 7 días.\n",
    "tabla['7/14'] = tabla['tasa7'] / tabla['tasa14']\n",
    "tabla.fillna(0).sort_values('7/14', ascending=True)"
   ]
  },
  {
   "cell_type": "code",
   "execution_count": null,
   "metadata": {},
   "outputs": [],
   "source": []
  }
 ]
}