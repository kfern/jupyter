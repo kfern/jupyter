{
 "cells": [
  {
   "cell_type": "code",
   "execution_count": 1,
   "metadata": {},
   "outputs": [],
   "source": [
    "import pandas as pd\n",
    "import numpy as np\n",
    "import matplotlib.pyplot as plt"
   ]
  },
  {
   "cell_type": "markdown",
   "metadata": {},
   "source": [
    "https://www.juntadeandalucia.es/organismos/saludyfamilias/actualidad/noticias.html"
   ]
  },
  {
   "cell_type": "code",
   "execution_count": 2,
   "metadata": {},
   "outputs": [],
   "source": [
    "filename = 'covid19-es-and.csv'\n",
    "fecha = '16/04/2020'\n",
    "url = 'https://www.juntadeandalucia.es/organismos/saludyfamilias/actualidad/noticias/detalle/234610.html'"
   ]
  },
  {
   "cell_type": "code",
   "execution_count": 3,
   "metadata": {},
   "outputs": [
    {
     "data": {
      "text/html": [
       "<div>\n",
       "<style scoped>\n",
       "    .dataframe tbody tr th:only-of-type {\n",
       "        vertical-align: middle;\n",
       "    }\n",
       "\n",
       "    .dataframe tbody tr th {\n",
       "        vertical-align: top;\n",
       "    }\n",
       "\n",
       "    .dataframe thead th {\n",
       "        text-align: right;\n",
       "    }\n",
       "</style>\n",
       "<table border=\"1\" class=\"dataframe\">\n",
       "  <thead>\n",
       "    <tr style=\"text-align: right;\">\n",
       "      <th></th>\n",
       "      <th>Positivo</th>\n",
       "      <th>Casos que han precisado hospitalización</th>\n",
       "      <th>Casos que han precisado ingreso UCI</th>\n",
       "      <th>Fallecimientos</th>\n",
       "      <th>Curados</th>\n",
       "    </tr>\n",
       "    <tr>\n",
       "      <th>Provincia</th>\n",
       "      <th></th>\n",
       "      <th></th>\n",
       "      <th></th>\n",
       "      <th></th>\n",
       "      <th></th>\n",
       "    </tr>\n",
       "  </thead>\n",
       "  <tbody>\n",
       "    <tr>\n",
       "      <th>Almería</th>\n",
       "      <td>428</td>\n",
       "      <td>181</td>\n",
       "      <td>35</td>\n",
       "      <td>38</td>\n",
       "      <td>90</td>\n",
       "    </tr>\n",
       "    <tr>\n",
       "      <th>Cádiz</th>\n",
       "      <td>1072</td>\n",
       "      <td>460</td>\n",
       "      <td>71</td>\n",
       "      <td>68</td>\n",
       "      <td>264</td>\n",
       "    </tr>\n",
       "    <tr>\n",
       "      <th>Córdoba</th>\n",
       "      <td>1247</td>\n",
       "      <td>479</td>\n",
       "      <td>62</td>\n",
       "      <td>63</td>\n",
       "      <td>301</td>\n",
       "    </tr>\n",
       "    <tr>\n",
       "      <th>Granada</th>\n",
       "      <td>1926</td>\n",
       "      <td>1004</td>\n",
       "      <td>117</td>\n",
       "      <td>187</td>\n",
       "      <td>480</td>\n",
       "    </tr>\n",
       "    <tr>\n",
       "      <th>Huelva</th>\n",
       "      <td>347</td>\n",
       "      <td>200</td>\n",
       "      <td>30</td>\n",
       "      <td>28</td>\n",
       "      <td>73</td>\n",
       "    </tr>\n",
       "    <tr>\n",
       "      <th>Jaén</th>\n",
       "      <td>1201</td>\n",
       "      <td>608</td>\n",
       "      <td>62</td>\n",
       "      <td>128</td>\n",
       "      <td>252</td>\n",
       "    </tr>\n",
       "    <tr>\n",
       "      <th>Málaga</th>\n",
       "      <td>2363</td>\n",
       "      <td>1302</td>\n",
       "      <td>156</td>\n",
       "      <td>211</td>\n",
       "      <td>772</td>\n",
       "    </tr>\n",
       "    <tr>\n",
       "      <th>Sevilla</th>\n",
       "      <td>2223</td>\n",
       "      <td>992</td>\n",
       "      <td>138</td>\n",
       "      <td>189</td>\n",
       "      <td>402</td>\n",
       "    </tr>\n",
       "    <tr>\n",
       "      <th>Total</th>\n",
       "      <td>10807</td>\n",
       "      <td>5226</td>\n",
       "      <td>671</td>\n",
       "      <td>912</td>\n",
       "      <td>2634</td>\n",
       "    </tr>\n",
       "  </tbody>\n",
       "</table>\n",
       "</div>"
      ],
      "text/plain": [
       "           Positivo  Casos que han precisado hospitalización  \\\n",
       "Provincia                                                      \n",
       "Almería         428                                      181   \n",
       "Cádiz          1072                                      460   \n",
       "Córdoba        1247                                      479   \n",
       "Granada        1926                                     1004   \n",
       "Huelva          347                                      200   \n",
       "Jaén           1201                                      608   \n",
       "Málaga         2363                                     1302   \n",
       "Sevilla        2223                                      992   \n",
       "Total         10807                                     5226   \n",
       "\n",
       "           Casos que han precisado ingreso UCI  Fallecimientos  Curados  \n",
       "Provincia                                                                \n",
       "Almería                                     35              38       90  \n",
       "Cádiz                                       71              68      264  \n",
       "Córdoba                                     62              63      301  \n",
       "Granada                                    117             187      480  \n",
       "Huelva                                      30              28       73  \n",
       "Jaén                                        62             128      252  \n",
       "Málaga                                     156             211      772  \n",
       "Sevilla                                    138             189      402  \n",
       "Total                                      671             912     2634  "
      ]
     },
     "execution_count": 3,
     "metadata": {},
     "output_type": "execute_result"
    }
   ],
   "source": [
    "# Load\n",
    "tables = pd.read_html(url, header=0, thousands='.')\n",
    "assert len(tables) > 0\n",
    "dfL = tables[0]\n",
    "dfL.set_index(['Provincia'], inplace=True)\n",
    "dfL"
   ]
  },
  {
   "cell_type": "code",
   "execution_count": 4,
   "metadata": {},
   "outputs": [
    {
     "data": {
      "text/html": [
       "<div>\n",
       "<style scoped>\n",
       "    .dataframe tbody tr th:only-of-type {\n",
       "        vertical-align: middle;\n",
       "    }\n",
       "\n",
       "    .dataframe tbody tr th {\n",
       "        vertical-align: top;\n",
       "    }\n",
       "\n",
       "    .dataframe thead th {\n",
       "        text-align: right;\n",
       "    }\n",
       "</style>\n",
       "<table border=\"1\" class=\"dataframe\">\n",
       "  <thead>\n",
       "    <tr style=\"text-align: right;\">\n",
       "      <th></th>\n",
       "      <th>Ingresados</th>\n",
       "      <th>Altas</th>\n",
       "      <th>Bajas</th>\n",
       "      <th>Fecha</th>\n",
       "    </tr>\n",
       "  </thead>\n",
       "  <tbody>\n",
       "    <tr>\n",
       "      <th>Almería</th>\n",
       "      <td>181</td>\n",
       "      <td>90</td>\n",
       "      <td>38</td>\n",
       "      <td>16/04/2020</td>\n",
       "    </tr>\n",
       "    <tr>\n",
       "      <th>Cádiz</th>\n",
       "      <td>460</td>\n",
       "      <td>264</td>\n",
       "      <td>68</td>\n",
       "      <td>16/04/2020</td>\n",
       "    </tr>\n",
       "    <tr>\n",
       "      <th>Córdoba</th>\n",
       "      <td>479</td>\n",
       "      <td>301</td>\n",
       "      <td>63</td>\n",
       "      <td>16/04/2020</td>\n",
       "    </tr>\n",
       "    <tr>\n",
       "      <th>Granada</th>\n",
       "      <td>1004</td>\n",
       "      <td>480</td>\n",
       "      <td>187</td>\n",
       "      <td>16/04/2020</td>\n",
       "    </tr>\n",
       "    <tr>\n",
       "      <th>Huelva</th>\n",
       "      <td>200</td>\n",
       "      <td>73</td>\n",
       "      <td>28</td>\n",
       "      <td>16/04/2020</td>\n",
       "    </tr>\n",
       "    <tr>\n",
       "      <th>Jaén</th>\n",
       "      <td>608</td>\n",
       "      <td>252</td>\n",
       "      <td>128</td>\n",
       "      <td>16/04/2020</td>\n",
       "    </tr>\n",
       "    <tr>\n",
       "      <th>Málaga</th>\n",
       "      <td>1302</td>\n",
       "      <td>772</td>\n",
       "      <td>211</td>\n",
       "      <td>16/04/2020</td>\n",
       "    </tr>\n",
       "    <tr>\n",
       "      <th>Sevilla</th>\n",
       "      <td>992</td>\n",
       "      <td>402</td>\n",
       "      <td>189</td>\n",
       "      <td>16/04/2020</td>\n",
       "    </tr>\n",
       "    <tr>\n",
       "      <th>Total</th>\n",
       "      <td>5226</td>\n",
       "      <td>2634</td>\n",
       "      <td>912</td>\n",
       "      <td>16/04/2020</td>\n",
       "    </tr>\n",
       "  </tbody>\n",
       "</table>\n",
       "</div>"
      ],
      "text/plain": [
       "         Ingresados  Altas  Bajas       Fecha\n",
       "Almería         181     90     38  16/04/2020\n",
       "Cádiz           460    264     68  16/04/2020\n",
       "Córdoba         479    301     63  16/04/2020\n",
       "Granada        1004    480    187  16/04/2020\n",
       "Huelva          200     73     28  16/04/2020\n",
       "Jaén            608    252    128  16/04/2020\n",
       "Málaga         1302    772    211  16/04/2020\n",
       "Sevilla         992    402    189  16/04/2020\n",
       "Total          5226   2634    912  16/04/2020"
      ]
     },
     "execution_count": 4,
     "metadata": {},
     "output_type": "execute_result"
    }
   ],
   "source": [
    "# Prepare\n",
    "provincias = ['Almería', 'Cádiz', 'Córdoba', 'Granada', 'Huelva', 'Jaén', 'Málaga', 'Sevilla', 'Total']\n",
    "dfP = pd.DataFrame(0, index=provincias, columns=['Ingresados','Altas', 'Bajas'])\n",
    "\n",
    "dfP['Ingresados'] = dfL['Casos que han precisado hospitalización']\n",
    "dfP['Altas'] = dfL['Curados']\n",
    "dfP['Bajas'] = dfL['Fallecimientos']\n",
    "dfP['Fecha'] = fecha\n",
    "\n",
    "dfP"
   ]
  },
  {
   "cell_type": "code",
   "execution_count": 5,
   "metadata": {},
   "outputs": [],
   "source": [
    "# Save to csv\n",
    "dfP.to_csv(filename, encoding='utf-8', header=False, mode='+a', index_label='Provincia')"
   ]
  },
  {
   "cell_type": "code",
   "execution_count": 6,
   "metadata": {},
   "outputs": [],
   "source": [
    "# Load full csv\n",
    "dfCSV = pd.read_csv(filename, index_col='Provincia', thousands='.')"
   ]
  },
  {
   "cell_type": "code",
   "execution_count": 7,
   "metadata": {},
   "outputs": [],
   "source": [
    "# Select & calc\n",
    "title = 'COVID19 Andalucía'\n",
    "total = dfCSV.loc['Total']['Ingresados'].pct_change() * 100\n",
    "huelva = dfCSV.loc['Huelva']['Ingresados'].pct_change() * 100\n",
    "malaga  = dfCSV.loc['Málaga']['Ingresados'].pct_change() * 100\n",
    "# x Axis\n",
    "xA = dfCSV.loc['Total']['Fecha']"
   ]
  },
  {
   "cell_type": "code",
   "execution_count": 8,
   "metadata": {},
   "outputs": [
    {
     "data": {
      "image/png": "[encoded data removed]",
      "text/plain": [
       "<Figure size 432x288 with 1 Axes>"
      ]
     },
     "metadata": {
      "needs_background": "light"
     },
     "output_type": "display_data"
    }
   ],
   "source": [
    "# Draw \n",
    "plt.plot(xA, total, label='% Variación Ingresos Total', linewidth=2)\n",
    "plt.plot(xA, huelva, label='% Variación Ingresos Huelva', linewidth=2)\n",
    "plt.plot(xA, malaga, label='% Variación Ingresos Málaga', linewidth=2)\n",
    "plt.title(title)\n",
    "plt.ylabel('% Variación Ingresos')\n",
    "plt.xticks(rotation=90)\n",
    "plt.grid(True)\n",
    "plt.legend()\n",
    "plt.show()"
   ]
  },
  {
   "cell_type": "code",
   "execution_count": 9,
   "metadata": {},
   "outputs": [
    {
     "data": {
      "text/plain": [
       "<matplotlib.axes._subplots.AxesSubplot at 0x7f88f4f68950>"
      ]
     },
     "execution_count": 9,
     "metadata": {},
     "output_type": "execute_result"
    },
    {
     "data": {
      "image/png": "[encoded data removed]",
      "text/plain": [
       "<Figure size 432x288 with 1 Axes>"
      ]
     },
     "metadata": {
      "needs_background": "light"
     },
     "output_type": "display_data"
    }
   ],
   "source": [
    "huelva.plot()"
   ]
  },
  {
   "cell_type": "code",
   "execution_count": 10,
   "metadata": {},
   "outputs": [
    {
     "data": {
      "text/plain": [
       "Provincia\n",
       "Huelva   -0.588235\n",
       "Huelva    1.183432\n",
       "Huelva    3.508772\n",
       "Huelva    4.519774\n",
       "Huelva    8.108108\n",
       "Name: Ingresados, dtype: float64"
      ]
     },
     "execution_count": 10,
     "metadata": {},
     "output_type": "execute_result"
    }
   ],
   "source": [
    "huelva.tail()"
   ]
  },
  {
   "cell_type": "code",
   "execution_count": null,
   "metadata": {},
   "outputs": [],
   "source": []
  }
 ],
 "metadata": {
  "kernelspec": {
   "display_name": "Python 3",
   "language": "python",
   "name": "python3"
  },
  "language_info": {
   "codemirror_mode": {
    "name": "ipython",
    "version": 3
   },
   "file_extension": ".py",
   "mimetype": "text/x-python",
   "name": "python",
   "nbconvert_exporter": "python",
   "pygments_lexer": "ipython3",
   "version": "3.7.6"
  }
 },
 "nbformat": 4,
 "nbformat_minor": 2
}
