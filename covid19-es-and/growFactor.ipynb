{
 "cells": [
  {
   "cell_type": "code",
   "execution_count": 1,
   "metadata": {},
   "outputs": [],
   "source": [
    "# Imports\n",
    "import pandas as pd\n",
    "import matplotlib.pyplot as plt\n",
    "%matplotlib inline"
   ]
  },
  {
   "cell_type": "code",
   "execution_count": 2,
   "metadata": {},
   "outputs": [],
   "source": [
    "# Config\n",
    "c_url = 'https://raw.githubusercontent.com/kfern/jupyter/next/covid19-es-and/covid19-es-and.csv'\n",
    "# Frecuencia en días\n",
    "c_freq = 3\n",
    "# Periodos\n",
    "c_periods = 6"
   ]
  },
  {
   "cell_type": "code",
   "execution_count": 3,
   "metadata": {},
   "outputs": [],
   "source": [
    "# Load csv \n",
    "df = pd.read_csv(c_url)"
   ]
  },
  {
   "cell_type": "code",
   "execution_count": 4,
   "metadata": {},
   "outputs": [],
   "source": [
    "# Preprocessing\n",
    "df['Fecha'] = pd.to_datetime(df['Fecha'], dayfirst=True)\n",
    "last_fecha = df['Fecha'].max()"
   ]
  },
  {
   "cell_type": "code",
   "execution_count": 5,
   "metadata": {},
   "outputs": [],
   "source": [
    "# dfV: Registros con los valores acumulados cada x días\n",
    "fFechas = pd.date_range(end=last_fecha, freq= str(c_freq) + 'D', periods=c_periods+1)\n",
    "filtro = df['Fecha'].isin(fFechas)\n",
    "dfV = df[filtro].copy()\n",
    "\n",
    "# Indices\n",
    "dfV.set_index(['Provincia', 'Fecha'], inplace=True)\n",
    "dfV.sort_index(level=['Provincia', 'Fecha'], inplace=True)\n",
    "\n",
    "# Ordenar columnas\n",
    "dfV.columns = ['Hospitalizadas', 'Curadas', 'Bajas']"
   ]
  },
  {
   "cell_type": "code",
   "execution_count": 6,
   "metadata": {},
   "outputs": [
    {
     "data": {
      "image/png": "[encoded data removed]",
      "text/plain": [
       "<Figure size 432x288 with 1 Axes>"
      ]
     },
     "metadata": {
      "needs_background": "light"
     },
     "output_type": "display_data"
    }
   ],
   "source": [
    "# dfG: Variación en porcentaje con respecto al registro anterior\n",
    "dfG = dfV.groupby(level='Provincia').pct_change()*100\n",
    "dfG.dropna(how='all', inplace=True)\n",
    "titulo = '% Variación de ingresos hospitalarios en Andalucía cada ' + str(c_freq) + ' días'\n",
    "dfG.loc['Total']['Hospitalizadas'].plot(title=titulo, kind='bar')\n",
    "plt.xticks(\n",
    "    rotation=45,    \n",
    "    horizontalalignment='right',\n",
    "    fontweight='light',\n",
    ")\n",
    "plt.show()"
   ]
  },
  {
   "cell_type": "code",
   "execution_count": 7,
   "metadata": {},
   "outputs": [],
   "source": [
    "# dfN: Nuevos casos cada x días\n",
    "dfN = dfV.diff()\n",
    "first_fecha = fFechas.min()\n",
    "\n",
    "# Se borra la primera fila ya que no tiene valores anteriores y su resultado no tiene sentido\n",
    "dfN.drop(index=first_fecha, level='Fecha', inplace=True)\n",
    "# Alternativa seleccionando las filas y borrando\n",
    "#delete_rows = dfN.loc[(slice(None), [first_fecha]), :].index\n",
    "#dfN.drop(delete_rows, inplace=True)\n",
    "\n",
    "# Se borran las filas de Total\n",
    "dfN.drop(index='Total', level='Provincia', inplace=True)"
   ]
  },
  {
   "cell_type": "code",
   "execution_count": 8,
   "metadata": {},
   "outputs": [
    {
     "name": "stdout",
     "output_type": "stream",
     "text": [
      "Nuevos casos en los 3 días anteriores\n",
      "                      Hospitalizadas  Curadas  Bajas\n",
      "Provincia Fecha                                     \n",
      "Almería   2020-04-22             7.0     18.0    2.0\n",
      "          2020-04-25             5.0     48.0    1.0\n",
      "          2020-04-28             2.0     32.0    2.0\n",
      "          2020-05-01             3.0     91.0    1.0\n",
      "          2020-05-04             1.0     13.0    1.0\n",
      "          2020-05-07             1.0     18.0    0.0\n",
      "Cádiz     2020-04-22             6.0     15.0    8.0\n",
      "          2020-04-25            17.0     19.0   17.0\n",
      "          2020-04-28            12.0     12.0    7.0\n",
      "          2020-05-01            19.0     31.0   25.0\n",
      "          2020-05-04             5.0     13.0    3.0\n",
      "          2020-05-07            11.0     27.0    3.0\n",
      "Córdoba   2020-04-22            12.0     15.0    9.0\n",
      "          2020-04-25            13.0    130.0    5.0\n",
      "          2020-04-28             6.0    211.0    8.0\n",
      "          2020-05-01            10.0    134.0    3.0\n",
      "          2020-05-04             1.0     91.0    2.0\n",
      "          2020-05-07             6.0     75.0    2.0\n",
      "Granada   2020-04-22            40.0    253.0   18.0\n",
      "          2020-04-25            27.0    118.0   11.0\n",
      "          2020-04-28            15.0    146.0    9.0\n",
      "          2020-05-01            21.0    434.0   10.0\n",
      "          2020-05-04            11.0    191.0   10.0\n",
      "          2020-05-07             9.0    314.0   16.0\n",
      "Huelva    2020-04-22             6.0     12.0    1.0\n",
      "          2020-04-25            -3.0     20.0    4.0\n",
      "          2020-04-28             5.0      4.0    1.0\n",
      "          2020-05-01             6.0     42.0    3.0\n",
      "          2020-05-04             0.0     23.0    0.0\n",
      "          2020-05-07             0.0     17.0    1.0\n",
      "Jaén      2020-04-22            14.0      7.0    4.0\n",
      "          2020-04-25            28.0     25.0   11.0\n",
      "          2020-04-28            12.0     60.0    3.0\n",
      "          2020-05-01            29.0    214.0    6.0\n",
      "          2020-05-04            13.0    130.0    1.0\n",
      "          2020-05-07             5.0    273.0    2.0\n",
      "Málaga    2020-04-22            30.0     87.0    9.0\n",
      "          2020-04-25            20.0    233.0   15.0\n",
      "          2020-04-28             4.0    168.0    3.0\n",
      "          2020-05-01            15.0    141.0    9.0\n",
      "          2020-05-04             1.0    138.0    2.0\n",
      "          2020-05-07            16.0    116.0    3.0\n",
      "Sevilla   2020-04-22            26.0     46.0    6.0\n",
      "          2020-04-25            43.0    133.0   17.0\n",
      "          2020-04-28            22.0    111.0    4.0\n",
      "          2020-05-01            40.0    208.0   13.0\n",
      "          2020-05-04             5.0     88.0    6.0\n",
      "          2020-05-07             6.0    215.0    4.0\n"
     ]
    }
   ],
   "source": [
    "print('Nuevos casos en los ' + str(c_freq) + ' días anteriores')\n",
    "print(dfN.sort_index())"
   ]
  },
  {
   "cell_type": "markdown",
   "metadata": {},
   "source": [
    "## Detalle de una provincia"
   ]
  },
  {
   "cell_type": "code",
   "execution_count": 9,
   "metadata": {},
   "outputs": [],
   "source": [
    "# Detalle de una provincia\n",
    "c_provincia = 'Sevilla'"
   ]
  },
  {
   "cell_type": "code",
   "execution_count": 10,
   "metadata": {},
   "outputs": [
    {
     "name": "stdout",
     "output_type": "stream",
     "text": [
      "Nuevos casos en Sevilla en los 3 días anteriores\n",
      "Fecha\n",
      "2020-04-22    26.0\n",
      "2020-04-25    43.0\n",
      "2020-04-28    22.0\n",
      "2020-05-01    40.0\n",
      "2020-05-04     5.0\n",
      "2020-05-07     6.0\n",
      "Name: Hospitalizadas, dtype: float64\n"
     ]
    }
   ],
   "source": [
    "titulo = 'Nuevos casos en ' + c_provincia + ' en los ' + str(c_freq) + ' días anteriores'\n",
    "print(titulo)\n",
    "print(dfN.loc[c_provincia]['Hospitalizadas'])"
   ]
  },
  {
   "cell_type": "code",
   "execution_count": 11,
   "metadata": {},
   "outputs": [
    {
     "data": {
      "image/png": "[encoded data removed]",
      "text/plain": [
       "<Figure size 432x288 with 1 Axes>"
      ]
     },
     "metadata": {
      "needs_background": "light"
     },
     "output_type": "display_data"
    }
   ],
   "source": [
    "dfG.loc[c_provincia]['Hospitalizadas'].plot(title='% Variación ingresos hospitalarios en ' + c_provincia)\n",
    "plt.show()"
   ]
  },
  {
   "cell_type": "code",
   "execution_count": 12,
   "metadata": {},
   "outputs": [
    {
     "data": {
      "image/png": "[encoded data removed]",
      "text/plain": [
       "<Figure size 432x288 with 1 Axes>"
      ]
     },
     "metadata": {
      "needs_background": "light"
     },
     "output_type": "display_data"
    }
   ],
   "source": [
    "titulo = 'Variación entre máximos y mínimos cada ' + str(c_freq) + ' días  en ' + c_provincia\n",
    "dfN.loc[c_provincia].describe().loc['min':'max'].plot(title=titulo)\n",
    "plt.show()"
   ]
  },
  {
   "cell_type": "markdown",
   "metadata": {},
   "source": [
    "### Últimos 10 días"
   ]
  },
  {
   "cell_type": "code",
   "execution_count": 13,
   "metadata": {},
   "outputs": [],
   "source": [
    "c_last = 10\n",
    "data = df.set_index(['Provincia', 'Fecha']).loc[c_provincia][['Ingresados', 'Altas', 'Bajas']].diff().tail(c_last).copy()\n",
    "data.columns = ['Hospitalizadas', 'Curadas', 'Bajas']\n",
    "titulo = 'Nuevos casos en los últimos ' + str(c_last) + ' días en ' + c_provincia"
   ]
  },
  {
   "cell_type": "code",
   "execution_count": 14,
   "metadata": {},
   "outputs": [
    {
     "name": "stdout",
     "output_type": "stream",
     "text": [
      "Nuevos casos en los últimos 10 días en Sevilla. (Nuevos ingresos hospitalarios)\n"
     ]
    },
    {
     "data": {
      "image/png": "[encoded data removed]",
      "text/plain": [
       "<Figure size 432x288 with 1 Axes>"
      ]
     },
     "metadata": {
      "needs_background": "light"
     },
     "output_type": "display_data"
    }
   ],
   "source": [
    "print(titulo + '. (Nuevos ingresos hospitalarios)')\n",
    "data['Hospitalizadas'].plot(kind='bar', grid=True)\n",
    "plt.xticks(\n",
    "    rotation=45,    \n",
    "    horizontalalignment='right',\n",
    "    fontweight='light',\n",
    ")\n",
    "plt.show()"
   ]
  },
  {
   "cell_type": "code",
   "execution_count": 15,
   "metadata": {},
   "outputs": [
    {
     "name": "stdout",
     "output_type": "stream",
     "text": [
      "Nuevos casos en los últimos 10 días en Sevilla\n",
      "            Hospitalizadas  Curadas  Bajas\n",
      "Fecha                                     \n",
      "2020-04-28            10.0     40.0    3.0\n",
      "2020-04-29            10.0     57.0    5.0\n",
      "2020-04-30             9.0     89.0    4.0\n",
      "2020-05-01            21.0     62.0    4.0\n",
      "2020-05-02             4.0     53.0    3.0\n",
      "2020-05-03             0.0     15.0    0.0\n",
      "2020-05-04             1.0     20.0    3.0\n",
      "2020-05-05             1.0      8.0    1.0\n",
      "2020-05-06             4.0     48.0    1.0\n",
      "2020-05-07             1.0    159.0    2.0\n"
     ]
    }
   ],
   "source": [
    "print(titulo)\n",
    "print(data)"
   ]
  },
  {
   "cell_type": "code",
   "execution_count": 16,
   "metadata": {},
   "outputs": [
    {
     "data": {
      "text/html": [
       "<div>\n",
       "<style scoped>\n",
       "    .dataframe tbody tr th:only-of-type {\n",
       "        vertical-align: middle;\n",
       "    }\n",
       "\n",
       "    .dataframe tbody tr th {\n",
       "        vertical-align: top;\n",
       "    }\n",
       "\n",
       "    .dataframe thead th {\n",
       "        text-align: right;\n",
       "    }\n",
       "</style>\n",
       "<table border=\"1\" class=\"dataframe\">\n",
       "  <thead>\n",
       "    <tr style=\"text-align: right;\">\n",
       "      <th></th>\n",
       "      <th>Hospitalizadas</th>\n",
       "      <th>Curadas</th>\n",
       "      <th>Bajas</th>\n",
       "    </tr>\n",
       "  </thead>\n",
       "  <tbody>\n",
       "    <tr>\n",
       "      <th>count</th>\n",
       "      <td>10.000000</td>\n",
       "      <td>10.000000</td>\n",
       "      <td>10.000000</td>\n",
       "    </tr>\n",
       "    <tr>\n",
       "      <th>mean</th>\n",
       "      <td>6.100000</td>\n",
       "      <td>55.100000</td>\n",
       "      <td>2.600000</td>\n",
       "    </tr>\n",
       "    <tr>\n",
       "      <th>std</th>\n",
       "      <td>6.539623</td>\n",
       "      <td>43.889887</td>\n",
       "      <td>1.577621</td>\n",
       "    </tr>\n",
       "    <tr>\n",
       "      <th>min</th>\n",
       "      <td>0.000000</td>\n",
       "      <td>8.000000</td>\n",
       "      <td>0.000000</td>\n",
       "    </tr>\n",
       "    <tr>\n",
       "      <th>25%</th>\n",
       "      <td>1.000000</td>\n",
       "      <td>25.000000</td>\n",
       "      <td>1.250000</td>\n",
       "    </tr>\n",
       "    <tr>\n",
       "      <th>50%</th>\n",
       "      <td>4.000000</td>\n",
       "      <td>50.500000</td>\n",
       "      <td>3.000000</td>\n",
       "    </tr>\n",
       "    <tr>\n",
       "      <th>75%</th>\n",
       "      <td>9.750000</td>\n",
       "      <td>60.750000</td>\n",
       "      <td>3.750000</td>\n",
       "    </tr>\n",
       "    <tr>\n",
       "      <th>max</th>\n",
       "      <td>21.000000</td>\n",
       "      <td>159.000000</td>\n",
       "      <td>5.000000</td>\n",
       "    </tr>\n",
       "  </tbody>\n",
       "</table>\n",
       "</div>"
      ],
      "text/plain": [
       "       Hospitalizadas     Curadas      Bajas\n",
       "count       10.000000   10.000000  10.000000\n",
       "mean         6.100000   55.100000   2.600000\n",
       "std          6.539623   43.889887   1.577621\n",
       "min          0.000000    8.000000   0.000000\n",
       "25%          1.000000   25.000000   1.250000\n",
       "50%          4.000000   50.500000   3.000000\n",
       "75%          9.750000   60.750000   3.750000\n",
       "max         21.000000  159.000000   5.000000"
      ]
     },
     "execution_count": 16,
     "metadata": {},
     "output_type": "execute_result"
    }
   ],
   "source": [
    "data.describe()"
   ]
  },
  {
   "cell_type": "code",
   "execution_count": null,
   "metadata": {},
   "outputs": [],
   "source": []
  }
 ],
 "metadata": {
  "kernelspec": {
   "display_name": "Python 3",
   "language": "python",
   "name": "python3"
  },
  "language_info": {
   "codemirror_mode": {
    "name": "ipython",
    "version": 3
   },
   "file_extension": ".py",
   "mimetype": "text/x-python",
   "name": "python",
   "nbconvert_exporter": "python",
   "pygments_lexer": "ipython3",
   "version": "3.7.6"
  }
 },
 "nbformat": 4,
 "nbformat_minor": 2
}
