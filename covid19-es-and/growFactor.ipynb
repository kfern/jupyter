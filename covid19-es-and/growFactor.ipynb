{
 "cells": [
  {
   "cell_type": "code",
   "execution_count": 1,
   "metadata": {},
   "outputs": [],
   "source": [
    "# Imports\n",
    "import pandas as pd\n",
    "import matplotlib.pyplot as plt\n",
    "%matplotlib inline"
   ]
  },
  {
   "cell_type": "code",
   "execution_count": 2,
   "metadata": {},
   "outputs": [],
   "source": [
    "# Config\n",
    "c_url = 'https://raw.githubusercontent.com/kfern/jupyter/next/covid19-es-and/covid19-es-and.csv'\n",
    "# Frecuencia en días\n",
    "c_freq = 3\n",
    "# Periodos\n",
    "c_periods = 6"
   ]
  },
  {
   "cell_type": "code",
   "execution_count": 3,
   "metadata": {},
   "outputs": [],
   "source": [
    "# Load csv \n",
    "df = pd.read_csv(c_url)"
   ]
  },
  {
   "cell_type": "code",
   "execution_count": 4,
   "metadata": {},
   "outputs": [],
   "source": [
    "# Preprocessing\n",
    "df['Fecha'] = pd.to_datetime(df['Fecha'], dayfirst=True)\n",
    "last_fecha = df['Fecha'].max()"
   ]
  },
  {
   "cell_type": "code",
   "execution_count": 5,
   "metadata": {},
   "outputs": [],
   "source": [
    "# dfV: Registros con los valores acumulados cada x días\n",
    "fFechas = pd.date_range(end=last_fecha, freq= str(c_freq) + 'D', periods=c_periods+1)\n",
    "filtro = df['Fecha'].isin(fFechas)\n",
    "dfV = df[filtro].copy()\n",
    "\n",
    "# Indices\n",
    "dfV.set_index(['Provincia', 'Fecha'], inplace=True)\n",
    "dfV.sort_index(level=['Provincia', 'Fecha'], inplace=True)\n",
    "\n",
    "# Ordenar columnas\n",
    "dfV.columns = ['Hospitalizadas', 'Curadas', 'Bajas']"
   ]
  },
  {
   "cell_type": "code",
   "execution_count": 6,
   "metadata": {},
   "outputs": [
    {
     "data": {
      "image/png": "[encoded data removed]",
      "text/plain": [
       "<Figure size 432x288 with 1 Axes>"
      ]
     },
     "metadata": {
      "needs_background": "light"
     },
     "output_type": "display_data"
    }
   ],
   "source": [
    "# dfG: Variación en porcentaje con respecto al registro anterior\n",
    "dfG = dfV.groupby(level='Provincia').pct_change()*100\n",
    "dfG.dropna(how='all', inplace=True)\n",
    "titulo = '% Variación de ingresos hospitalarios en Andalucía cada ' + str(c_freq) + ' días'\n",
    "dfG.loc['Total']['Hospitalizadas'].plot(title=titulo, kind='bar')\n",
    "plt.xticks(\n",
    "    rotation=45,    \n",
    "    horizontalalignment='right',\n",
    "    fontweight='light',\n",
    ")\n",
    "plt.show()"
   ]
  },
  {
   "cell_type": "code",
   "execution_count": 7,
   "metadata": {},
   "outputs": [],
   "source": [
    "# dfN: Nuevos casos cada x días\n",
    "dfN = dfV.diff()\n",
    "first_fecha = fFechas.min()\n",
    "\n",
    "# Se borra la primera fila ya que no tiene valores anteriores y su resultado no tiene sentido\n",
    "dfN.drop(index=first_fecha, level='Fecha', inplace=True)\n",
    "# Alternativa seleccionando las filas y borrando\n",
    "#delete_rows = dfN.loc[(slice(None), [first_fecha]), :].index\n",
    "#dfN.drop(delete_rows, inplace=True)\n",
    "\n",
    "# Se borran las filas de Total\n",
    "dfN.drop(index='Total', level='Provincia', inplace=True)"
   ]
  },
  {
   "cell_type": "code",
   "execution_count": 8,
   "metadata": {},
   "outputs": [
    {
     "name": "stdout",
     "output_type": "stream",
     "text": [
      "Sin nuevos ingresos hospitalarios en los 3 días anteriores desde el día...\n",
      "Provincia  Fecha     \n",
      "Almería    2020-05-06    0.0\n",
      "Name: Hospitalizadas, dtype: float64\n"
     ]
    }
   ],
   "source": [
    "print('Sin nuevos ingresos hospitalarios en los ' + str(c_freq) + ' días anteriores desde el día...')\n",
    "print(dfN.sort_index()[ dfN['Hospitalizadas'] == 0 ][0:1]['Hospitalizadas'] )"
   ]
  },
  {
   "cell_type": "code",
   "execution_count": 9,
   "metadata": {},
   "outputs": [
    {
     "data": {
      "text/html": [
       "<div>\n",
       "<style scoped>\n",
       "    .dataframe tbody tr th:only-of-type {\n",
       "        vertical-align: middle;\n",
       "    }\n",
       "\n",
       "    .dataframe tbody tr th {\n",
       "        vertical-align: top;\n",
       "    }\n",
       "\n",
       "    .dataframe thead th {\n",
       "        text-align: right;\n",
       "    }\n",
       "</style>\n",
       "<table border=\"1\" class=\"dataframe\">\n",
       "  <thead>\n",
       "    <tr style=\"text-align: right;\">\n",
       "      <th></th>\n",
       "      <th>Provincia</th>\n",
       "      <th>Ingresados</th>\n",
       "      <th>Altas</th>\n",
       "      <th>Bajas</th>\n",
       "      <th>Fecha</th>\n",
       "    </tr>\n",
       "  </thead>\n",
       "  <tbody>\n",
       "    <tr>\n",
       "      <th>0</th>\n",
       "      <td>Almería</td>\n",
       "      <td>0</td>\n",
       "      <td>0</td>\n",
       "      <td>0</td>\n",
       "      <td>2020-03-13</td>\n",
       "    </tr>\n",
       "    <tr>\n",
       "      <th>1</th>\n",
       "      <td>Cádiz</td>\n",
       "      <td>1</td>\n",
       "      <td>0</td>\n",
       "      <td>0</td>\n",
       "      <td>2020-03-13</td>\n",
       "    </tr>\n",
       "    <tr>\n",
       "      <th>2</th>\n",
       "      <td>Córdoba</td>\n",
       "      <td>3</td>\n",
       "      <td>0</td>\n",
       "      <td>0</td>\n",
       "      <td>2020-03-13</td>\n",
       "    </tr>\n",
       "    <tr>\n",
       "      <th>3</th>\n",
       "      <td>Granada</td>\n",
       "      <td>3</td>\n",
       "      <td>0</td>\n",
       "      <td>0</td>\n",
       "      <td>2020-03-13</td>\n",
       "    </tr>\n",
       "    <tr>\n",
       "      <th>4</th>\n",
       "      <td>Huelva</td>\n",
       "      <td>0</td>\n",
       "      <td>0</td>\n",
       "      <td>0</td>\n",
       "      <td>2020-03-13</td>\n",
       "    </tr>\n",
       "  </tbody>\n",
       "</table>\n",
       "</div>"
      ],
      "text/plain": [
       "  Provincia  Ingresados  Altas  Bajas      Fecha\n",
       "0   Almería           0      0      0 2020-03-13\n",
       "1     Cádiz           1      0      0 2020-03-13\n",
       "2   Córdoba           3      0      0 2020-03-13\n",
       "3   Granada           3      0      0 2020-03-13\n",
       "4    Huelva           0      0      0 2020-03-13"
      ]
     },
     "execution_count": 9,
     "metadata": {},
     "output_type": "execute_result"
    }
   ],
   "source": [
    "df.head()"
   ]
  },
  {
   "cell_type": "markdown",
   "metadata": {},
   "source": [
    "## Detalle de una provincia"
   ]
  },
  {
   "cell_type": "code",
   "execution_count": 12,
   "metadata": {},
   "outputs": [],
   "source": [
    "# Detalle de una provincia\n",
    "c_provincia = 'Cádiz'"
   ]
  },
  {
   "cell_type": "code",
   "execution_count": 13,
   "metadata": {},
   "outputs": [],
   "source": [
    "# Seleccionar los datos a partir del Dataframe original\n",
    "fFechas = pd.date_range(start=df['Fecha'].min(), end=df['Fecha'].max(), freq=str(c_freq) + 'D')\n",
    "filtro = df['Fecha'].isin(fFechas)\n",
    "dfV0 = df[filtro].copy()\n",
    "\n",
    "# Borrar columnas sobrantes\n",
    "dfV0.drop(['Altas', 'Bajas'], axis='columns', inplace=True)\n",
    "\n",
    "# Indices\n",
    "dfV0.set_index(['Provincia', 'Fecha'], inplace=True)\n",
    "dfV0.sort_index(level=['Provincia', 'Fecha'], inplace=True)\n",
    "\n",
    "# Calcular los nuevos casos de cada rango. \n",
    "dfV0['Nuevos'] = dfV0.diff()\n",
    "\n",
    "# Borrar el primer día ya que no tiene anteriores\n",
    "dfV0.drop(df['Fecha'].min(), level='Fecha', inplace=True)\n",
    "\n",
    "# Los negativos ponerlos a 0\n",
    "dfV0[slice(None)][dfV0['Nuevos'] < 0] = 0"
   ]
  },
  {
   "cell_type": "code",
   "execution_count": 14,
   "metadata": {},
   "outputs": [
    {
     "data": {
      "image/png": "[encoded data removed]",
      "text/plain": [
       "<Figure size 432x288 with 1 Axes>"
      ]
     },
     "metadata": {
      "needs_background": "light"
     },
     "output_type": "display_data"
    }
   ],
   "source": [
    "dfV0.loc[c_provincia]['Nuevos'].plot(title='Nuevos ingresos diaríos en ' + c_provincia)\n",
    "plt.show()"
   ]
  },
  {
   "cell_type": "code",
   "execution_count": 15,
   "metadata": {},
   "outputs": [
    {
     "name": "stdout",
     "output_type": "stream",
     "text": [
      "Nuevos casos en Cádiz en los 3 días anteriores\n",
      "Fecha\n",
      "2020-04-24     8.0\n",
      "2020-04-27    14.0\n",
      "2020-04-30    16.0\n",
      "2020-05-03    14.0\n",
      "2020-05-06    11.0\n",
      "2020-05-09     8.0\n",
      "Name: Hospitalizadas, dtype: float64\n"
     ]
    }
   ],
   "source": [
    "titulo = 'Nuevos casos en ' + c_provincia + ' en los ' + str(c_freq) + ' días anteriores'\n",
    "print(titulo)\n",
    "print(dfN.loc[c_provincia]['Hospitalizadas'])"
   ]
  },
  {
   "cell_type": "code",
   "execution_count": 16,
   "metadata": {},
   "outputs": [
    {
     "data": {
      "image/png": "[encoded data removed]",
      "text/plain": [
       "<Figure size 432x288 with 1 Axes>"
      ]
     },
     "metadata": {
      "needs_background": "light"
     },
     "output_type": "display_data"
    }
   ],
   "source": [
    "dfG.loc[c_provincia]['Hospitalizadas'].plot(title='% Variación ingresos hospitalarios en ' + c_provincia)\n",
    "plt.show()"
   ]
  },
  {
   "cell_type": "code",
   "execution_count": 17,
   "metadata": {},
   "outputs": [
    {
     "data": {
      "image/png": "[encoded data removed]",
      "text/plain": [
       "<Figure size 432x288 with 1 Axes>"
      ]
     },
     "metadata": {
      "needs_background": "light"
     },
     "output_type": "display_data"
    }
   ],
   "source": [
    "titulo = 'Variación entre máximos y mínimos cada ' + str(c_freq) + ' días  en ' + c_provincia\n",
    "dfN.loc[c_provincia].describe().loc['min':'max'].plot(title=titulo)\n",
    "plt.show()"
   ]
  },
  {
   "cell_type": "markdown",
   "metadata": {},
   "source": [
    "### Últimos 10 días"
   ]
  },
  {
   "cell_type": "code",
   "execution_count": 18,
   "metadata": {},
   "outputs": [],
   "source": [
    "c_last = 10\n",
    "data = df.set_index(['Provincia', 'Fecha']).loc[c_provincia][['Ingresados', 'Altas', 'Bajas']].diff().tail(c_last).copy()\n",
    "data.columns = ['Hospitalizadas', 'Curadas', 'Bajas']\n",
    "titulo = 'Nuevos casos en los últimos ' + str(c_last) + ' días en ' + c_provincia"
   ]
  },
  {
   "cell_type": "code",
   "execution_count": 19,
   "metadata": {},
   "outputs": [
    {
     "name": "stdout",
     "output_type": "stream",
     "text": [
      "Nuevos casos en los últimos 10 días en Cádiz. (Nuevos ingresos hospitalarios)\n"
     ]
    },
    {
     "data": {
      "image/png": "[encoded data removed]",
      "text/plain": [
       "<Figure size 432x288 with 1 Axes>"
      ]
     },
     "metadata": {
      "needs_background": "light"
     },
     "output_type": "display_data"
    }
   ],
   "source": [
    "print(titulo + '. (Nuevos ingresos hospitalarios)')\n",
    "data['Hospitalizadas'].plot(kind='bar', grid=True)\n",
    "plt.xticks(\n",
    "    rotation=45,    \n",
    "    horizontalalignment='right',\n",
    "    fontweight='light',\n",
    ")\n",
    "plt.show()"
   ]
  },
  {
   "cell_type": "code",
   "execution_count": 20,
   "metadata": {},
   "outputs": [
    {
     "name": "stdout",
     "output_type": "stream",
     "text": [
      "Nuevos casos en los últimos 10 días en Cádiz\n",
      "            Hospitalizadas  Curadas  Bajas\n",
      "Fecha                                     \n",
      "2020-04-30             3.0      3.0    5.0\n",
      "2020-05-01             9.0     13.0   16.0\n",
      "2020-05-02             4.0     12.0    3.0\n",
      "2020-05-03             1.0      0.0    0.0\n",
      "2020-05-04             0.0      1.0    0.0\n",
      "2020-05-05             2.0      6.0    1.0\n",
      "2020-05-06             9.0     13.0    2.0\n",
      "2020-05-07             0.0      8.0    0.0\n",
      "2020-05-08             2.0     12.0    0.0\n",
      "2020-05-09             6.0     37.0    3.0\n"
     ]
    }
   ],
   "source": [
    "print(titulo)\n",
    "print(data)"
   ]
  },
  {
   "cell_type": "code",
   "execution_count": 21,
   "metadata": {},
   "outputs": [
    {
     "data": {
      "text/html": [
       "<div>\n",
       "<style scoped>\n",
       "    .dataframe tbody tr th:only-of-type {\n",
       "        vertical-align: middle;\n",
       "    }\n",
       "\n",
       "    .dataframe tbody tr th {\n",
       "        vertical-align: top;\n",
       "    }\n",
       "\n",
       "    .dataframe thead th {\n",
       "        text-align: right;\n",
       "    }\n",
       "</style>\n",
       "<table border=\"1\" class=\"dataframe\">\n",
       "  <thead>\n",
       "    <tr style=\"text-align: right;\">\n",
       "      <th></th>\n",
       "      <th>Hospitalizadas</th>\n",
       "      <th>Curadas</th>\n",
       "      <th>Bajas</th>\n",
       "    </tr>\n",
       "  </thead>\n",
       "  <tbody>\n",
       "    <tr>\n",
       "      <th>count</th>\n",
       "      <td>10.000000</td>\n",
       "      <td>10.000000</td>\n",
       "      <td>10.000000</td>\n",
       "    </tr>\n",
       "    <tr>\n",
       "      <th>mean</th>\n",
       "      <td>3.600000</td>\n",
       "      <td>10.500000</td>\n",
       "      <td>3.000000</td>\n",
       "    </tr>\n",
       "    <tr>\n",
       "      <th>std</th>\n",
       "      <td>3.373096</td>\n",
       "      <td>10.554093</td>\n",
       "      <td>4.876246</td>\n",
       "    </tr>\n",
       "    <tr>\n",
       "      <th>min</th>\n",
       "      <td>0.000000</td>\n",
       "      <td>0.000000</td>\n",
       "      <td>0.000000</td>\n",
       "    </tr>\n",
       "    <tr>\n",
       "      <th>25%</th>\n",
       "      <td>1.250000</td>\n",
       "      <td>3.750000</td>\n",
       "      <td>0.000000</td>\n",
       "    </tr>\n",
       "    <tr>\n",
       "      <th>50%</th>\n",
       "      <td>2.500000</td>\n",
       "      <td>10.000000</td>\n",
       "      <td>1.500000</td>\n",
       "    </tr>\n",
       "    <tr>\n",
       "      <th>75%</th>\n",
       "      <td>5.500000</td>\n",
       "      <td>12.750000</td>\n",
       "      <td>3.000000</td>\n",
       "    </tr>\n",
       "    <tr>\n",
       "      <th>max</th>\n",
       "      <td>9.000000</td>\n",
       "      <td>37.000000</td>\n",
       "      <td>16.000000</td>\n",
       "    </tr>\n",
       "  </tbody>\n",
       "</table>\n",
       "</div>"
      ],
      "text/plain": [
       "       Hospitalizadas    Curadas      Bajas\n",
       "count       10.000000  10.000000  10.000000\n",
       "mean         3.600000  10.500000   3.000000\n",
       "std          3.373096  10.554093   4.876246\n",
       "min          0.000000   0.000000   0.000000\n",
       "25%          1.250000   3.750000   0.000000\n",
       "50%          2.500000  10.000000   1.500000\n",
       "75%          5.500000  12.750000   3.000000\n",
       "max          9.000000  37.000000  16.000000"
      ]
     },
     "execution_count": 21,
     "metadata": {},
     "output_type": "execute_result"
    }
   ],
   "source": [
    "data.describe()"
   ]
  },
  {
   "cell_type": "code",
   "execution_count": null,
   "metadata": {},
   "outputs": [],
   "source": []
  }
 ],
 "metadata": {
  "kernelspec": {
   "display_name": "Python 3",
   "language": "python",
   "name": "python3"
  },
  "language_info": {
   "codemirror_mode": {
    "name": "ipython",
    "version": 3
   },
   "file_extension": ".py",
   "mimetype": "text/x-python",
   "name": "python",
   "nbconvert_exporter": "python",
   "pygments_lexer": "ipython3",
   "version": "3.7.6"
  }
 },
 "nbformat": 4,
 "nbformat_minor": 2
}
