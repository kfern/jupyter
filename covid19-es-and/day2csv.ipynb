{
 "cells": [
  {
   "cell_type": "code",
   "execution_count": 1,
   "metadata": {},
   "outputs": [],
   "source": [
    "import pandas as pd\n",
    "import numpy as np\n",
    "import matplotlib.pyplot as plt\n",
    "import seaborn as sns"
   ]
  },
  {
   "cell_type": "markdown",
   "metadata": {},
   "source": [
    "https://www.juntadeandalucia.es/organismos/saludyfamilias/actualidad/noticias.html"
   ]
  },
  {
   "cell_type": "code",
   "execution_count": 2,
   "metadata": {},
   "outputs": [],
   "source": [
    "filename = 'covid19-es-and.csv'\n",
    "fecha = '11/05/2020'\n",
    "url = 'https://www.juntadeandalucia.es/organismos/saludyfamilias/actualidad/noticias/detalle/235866.html'"
   ]
  },
  {
   "cell_type": "code",
   "execution_count": 3,
   "metadata": {},
   "outputs": [],
   "source": [
    "# Load\n",
    "tables = pd.read_html(url, header=0, thousands='.')\n",
    "assert len(tables) > 0\n",
    "dfL = tables[0]"
   ]
  },
  {
   "cell_type": "code",
   "execution_count": 4,
   "metadata": {},
   "outputs": [
    {
     "data": {
      "text/html": [
       "<div>\n",
       "<style scoped>\n",
       "    .dataframe tbody tr th:only-of-type {\n",
       "        vertical-align: middle;\n",
       "    }\n",
       "\n",
       "    .dataframe tbody tr th {\n",
       "        vertical-align: top;\n",
       "    }\n",
       "\n",
       "    .dataframe thead th {\n",
       "        text-align: right;\n",
       "    }\n",
       "</style>\n",
       "<table border=\"1\" class=\"dataframe\">\n",
       "  <thead>\n",
       "    <tr style=\"text-align: right;\">\n",
       "      <th></th>\n",
       "      <th>Ingresados</th>\n",
       "      <th>Bajas</th>\n",
       "      <th>Altas</th>\n",
       "      <th>Fecha</th>\n",
       "    </tr>\n",
       "    <tr>\n",
       "      <th>Provincia</th>\n",
       "      <th></th>\n",
       "      <th></th>\n",
       "      <th></th>\n",
       "      <th></th>\n",
       "    </tr>\n",
       "  </thead>\n",
       "  <tbody>\n",
       "    <tr>\n",
       "      <th>Almería</th>\n",
       "      <td>212</td>\n",
       "      <td>50</td>\n",
       "      <td>423</td>\n",
       "      <td>11/05/2020</td>\n",
       "    </tr>\n",
       "    <tr>\n",
       "      <th>Cádiz</th>\n",
       "      <td>567</td>\n",
       "      <td>142</td>\n",
       "      <td>472</td>\n",
       "      <td>11/05/2020</td>\n",
       "    </tr>\n",
       "    <tr>\n",
       "      <th>Córdoba</th>\n",
       "      <td>544</td>\n",
       "      <td>104</td>\n",
       "      <td>1148</td>\n",
       "      <td>11/05/2020</td>\n",
       "    </tr>\n",
       "    <tr>\n",
       "      <th>Granada</th>\n",
       "      <td>1176</td>\n",
       "      <td>274</td>\n",
       "      <td>2302</td>\n",
       "      <td>11/05/2020</td>\n",
       "    </tr>\n",
       "    <tr>\n",
       "      <th>Huelva</th>\n",
       "      <td>219</td>\n",
       "      <td>47</td>\n",
       "      <td>303</td>\n",
       "      <td>11/05/2020</td>\n",
       "    </tr>\n",
       "    <tr>\n",
       "      <th>Jaén</th>\n",
       "      <td>743</td>\n",
       "      <td>165</td>\n",
       "      <td>1060</td>\n",
       "      <td>11/05/2020</td>\n",
       "    </tr>\n",
       "    <tr>\n",
       "      <th>Málaga</th>\n",
       "      <td>1448</td>\n",
       "      <td>271</td>\n",
       "      <td>1955</td>\n",
       "      <td>11/05/2020</td>\n",
       "    </tr>\n",
       "    <tr>\n",
       "      <th>Sevilla</th>\n",
       "      <td>1183</td>\n",
       "      <td>269</td>\n",
       "      <td>1542</td>\n",
       "      <td>11/05/2020</td>\n",
       "    </tr>\n",
       "    <tr>\n",
       "      <th>Total</th>\n",
       "      <td>6092</td>\n",
       "      <td>1322</td>\n",
       "      <td>9205</td>\n",
       "      <td>11/05/2020</td>\n",
       "    </tr>\n",
       "  </tbody>\n",
       "</table>\n",
       "</div>"
      ],
      "text/plain": [
       "           Ingresados  Bajas  Altas       Fecha\n",
       "Provincia                                      \n",
       "Almería           212     50    423  11/05/2020\n",
       "Cádiz             567    142    472  11/05/2020\n",
       "Córdoba           544    104   1148  11/05/2020\n",
       "Granada          1176    274   2302  11/05/2020\n",
       "Huelva            219     47    303  11/05/2020\n",
       "Jaén              743    165   1060  11/05/2020\n",
       "Málaga           1448    271   1955  11/05/2020\n",
       "Sevilla          1183    269   1542  11/05/2020\n",
       "Total            6092   1322   9205  11/05/2020"
      ]
     },
     "execution_count": 4,
     "metadata": {},
     "output_type": "execute_result"
    }
   ],
   "source": [
    "# Prepare\n",
    "dfL.set_index(['Provincia'], inplace=True)\n",
    "del dfL['Positivo']\n",
    "del dfL['UCI']\n",
    "dfL.rename(columns={'Hospitalización': 'Ingresados', 'Curados': 'Altas', 'Fallecimientos': 'Bajas'}, inplace=True)\n",
    "dfL['Fecha'] = fecha\n",
    "dfL"
   ]
  },
  {
   "cell_type": "code",
   "execution_count": 5,
   "metadata": {},
   "outputs": [],
   "source": [
    "# Save to csv\n",
    "campos_ordenados = ['Ingresados', 'Altas', 'Bajas', 'Fecha']\n",
    "dfL[campos_ordenados].to_csv(filename, encoding='utf-8', header=False, mode='+a', index_label='Provincia')"
   ]
  },
  {
   "cell_type": "code",
   "execution_count": 6,
   "metadata": {},
   "outputs": [],
   "source": [
    "# Load full csv\n",
    "df = pd.read_csv(filename, thousands='.')"
   ]
  },
  {
   "cell_type": "code",
   "execution_count": 7,
   "metadata": {},
   "outputs": [],
   "source": [
    "# Prepare\n",
    "df['Fecha'] = pd.to_datetime(df['Fecha'], dayfirst=True)\n",
    "last_fecha = df['Fecha'].max()\n",
    "df.set_index(['Provincia', 'Fecha'], inplace=True)\n",
    "df.sort_index(inplace=True)"
   ]
  },
  {
   "cell_type": "code",
   "execution_count": 8,
   "metadata": {},
   "outputs": [],
   "source": [
    "# Sustituir Ingresados por Hospitalizadas Altas por Curadas\n",
    "df.columns = ['Hospitalizadas', 'Curadas', 'Bajas']"
   ]
  },
  {
   "cell_type": "code",
   "execution_count": 9,
   "metadata": {},
   "outputs": [
    {
     "data": {
      "text/html": [
       "<div>\n",
       "<style scoped>\n",
       "    .dataframe tbody tr th:only-of-type {\n",
       "        vertical-align: middle;\n",
       "    }\n",
       "\n",
       "    .dataframe tbody tr th {\n",
       "        vertical-align: top;\n",
       "    }\n",
       "\n",
       "    .dataframe thead th {\n",
       "        text-align: right;\n",
       "    }\n",
       "</style>\n",
       "<table border=\"1\" class=\"dataframe\">\n",
       "  <thead>\n",
       "    <tr style=\"text-align: right;\">\n",
       "      <th></th>\n",
       "      <th></th>\n",
       "      <th>Hospitalizadas</th>\n",
       "      <th>Curadas</th>\n",
       "      <th>Bajas</th>\n",
       "    </tr>\n",
       "    <tr>\n",
       "      <th>Provincia</th>\n",
       "      <th>Fecha</th>\n",
       "      <th></th>\n",
       "      <th></th>\n",
       "      <th></th>\n",
       "    </tr>\n",
       "  </thead>\n",
       "  <tbody>\n",
       "    <tr>\n",
       "      <th rowspan=\"5\" valign=\"top\">Total</th>\n",
       "      <th>2020-05-07</th>\n",
       "      <td>0.249501</td>\n",
       "      <td>5.169944</td>\n",
       "      <td>1.014832</td>\n",
       "    </tr>\n",
       "    <tr>\n",
       "      <th>2020-05-08</th>\n",
       "      <td>0.182512</td>\n",
       "      <td>4.445270</td>\n",
       "      <td>0.540958</td>\n",
       "    </tr>\n",
       "    <tr>\n",
       "      <th>2020-05-09</th>\n",
       "      <td>0.513415</td>\n",
       "      <td>4.078245</td>\n",
       "      <td>1.229823</td>\n",
       "    </tr>\n",
       "    <tr>\n",
       "      <th>2020-05-10</th>\n",
       "      <td>0.181249</td>\n",
       "      <td>2.745187</td>\n",
       "      <td>0.227790</td>\n",
       "    </tr>\n",
       "    <tr>\n",
       "      <th>2020-05-11</th>\n",
       "      <td>0.197368</td>\n",
       "      <td>2.050998</td>\n",
       "      <td>0.151515</td>\n",
       "    </tr>\n",
       "  </tbody>\n",
       "</table>\n",
       "</div>"
      ],
      "text/plain": [
       "                      Hospitalizadas   Curadas     Bajas\n",
       "Provincia Fecha                                         \n",
       "Total     2020-05-07        0.249501  5.169944  1.014832\n",
       "          2020-05-08        0.182512  4.445270  0.540958\n",
       "          2020-05-09        0.513415  4.078245  1.229823\n",
       "          2020-05-10        0.181249  2.745187  0.227790\n",
       "          2020-05-11        0.197368  2.050998  0.151515"
      ]
     },
     "execution_count": 9,
     "metadata": {},
     "output_type": "execute_result"
    }
   ],
   "source": [
    "# Variaciones con respecto al día anterior\n",
    "dfV = df.groupby(level='Provincia').pct_change() * 100\n",
    "dfV.tail()"
   ]
  },
  {
   "cell_type": "code",
   "execution_count": 10,
   "metadata": {},
   "outputs": [],
   "source": [
    "# Para seleccionar todas las filas de una o varias fechas hay que usar un trick ya que : no se puede usar en este caso\n",
    "dfG = dfV.loc[(slice(None), [last_fecha]), :]"
   ]
  },
  {
   "cell_type": "code",
   "execution_count": 11,
   "metadata": {},
   "outputs": [
    {
     "data": {
      "image/png": "[encoded data removed]",
      "text/plain": [
       "<Figure size 1008x504 with 2 Axes>"
      ]
     },
     "metadata": {
      "needs_background": "light"
     },
     "output_type": "display_data"
    }
   ],
   "source": [
    "# Set the width and height of the figure\n",
    "plt.figure(figsize=(14,7))\n",
    "\n",
    "# Add title\n",
    "plt.title(last_fecha.strftime('%d-%m-%Y'))\n",
    "\n",
    "# Invertir los colores\n",
    "cmap = sns.cm.rocket_r\n",
    "\n",
    "# Heatmap \n",
    "sns.heatmap(data=dfG, annot=True, cmap=cmap)\n",
    "\n",
    "# Add label for horizontal axis\n",
    "plt.xlabel('% Variación con respecto al día anterior')\n",
    "plt.show()"
   ]
  },
  {
   "cell_type": "code",
   "execution_count": 12,
   "metadata": {},
   "outputs": [],
   "source": [
    "provincia = 'Huelva'\n",
    "dias = 15\n",
    "data = df.loc[provincia][['Hospitalizadas', 'Curadas', 'Bajas']].diff().tail(dias).copy()\n",
    "titulo = 'Nuevos casos en los últimos ' + str(dias) + ' días en ' + provincia\n",
    "# Correcciones\n",
    "# El día 25/04/2020 el número de personas ingresadas calculado es negativo.\n",
    "# Al ser datos acumulados lo que indica es una corrección en el número de ingresados acumulados a ese día\n",
    "#data.loc['2020-04-25']['Hospitalizadas'] = 0\n",
    "\n",
    "# El día 30/04/2020 aparecen 7 ingresos y los días anteriores y posteriores son 0 y -1\n",
    "# Tiene pinta de ser un ajuste del cambio del día 25/04/2020\n",
    "data.loc['2020-04-30']['Hospitalizadas'] = 0\n",
    "\n",
    "# El día 01/05/2020 el número de personas ingresadas calculado es negativo.\n",
    "# Al ser datos acumulados lo que indica es una corrección en el número de ingresados acumulados a ese día\n",
    "data.loc['2020-05-01']['Hospitalizadas'] = 0\n",
    "\n",
    "# El día 08/05/2020 el número de personas ingresadas calculado es negativo.\n",
    "# Al ser datos acumulados lo que indica es una corrección en el número de ingresados acumulados a ese día\n",
    "data.loc['2020-05-08']['Hospitalizadas'] = 0"
   ]
  },
  {
   "cell_type": "code",
   "execution_count": 13,
   "metadata": {},
   "outputs": [
    {
     "name": "stdout",
     "output_type": "stream",
     "text": [
      "Nuevos casos en los últimos 15 días en Huelva\n",
      "            Hospitalizadas  Curadas  Bajas\n",
      "Fecha                                     \n",
      "2020-04-27             1.0      1.0    0.0\n",
      "2020-04-28             3.0      1.0    0.0\n",
      "2020-04-29             0.0      9.0    1.0\n",
      "2020-04-30             0.0     20.0    2.0\n",
      "2020-05-01             0.0     13.0    0.0\n",
      "2020-05-02             0.0     14.0    0.0\n",
      "2020-05-03             0.0      2.0    0.0\n",
      "2020-05-04             0.0      7.0    0.0\n",
      "2020-05-05             0.0      0.0    0.0\n",
      "2020-05-06             0.0      7.0    1.0\n",
      "2020-05-07             0.0     10.0    0.0\n",
      "2020-05-08            -1.0     39.0    1.0\n",
      "2020-05-09             0.0     21.0    1.0\n",
      "2020-05-10             0.0      7.0    1.0\n",
      "2020-05-11             0.0      0.0    0.0\n"
     ]
    }
   ],
   "source": [
    "print(titulo)\n",
    "print(data)"
   ]
  },
  {
   "cell_type": "code",
   "execution_count": 14,
   "metadata": {},
   "outputs": [
    {
     "name": "stdout",
     "output_type": "stream",
     "text": [
      "Nuevos casos en los últimos 15 días en Huelva. (Nuevos ingresos hospitalarios)\n"
     ]
    },
    {
     "data": {
      "image/png": "[encoded data removed]",
      "text/plain": [
       "<Figure size 432x288 with 1 Axes>"
      ]
     },
     "metadata": {
      "needs_background": "light"
     },
     "output_type": "display_data"
    }
   ],
   "source": [
    "print(titulo + '. (Nuevos ingresos hospitalarios)')\n",
    "data['Hospitalizadas'].plot(kind='bar', grid=True)\n",
    "plt.xticks(\n",
    "    rotation=45,    \n",
    "    horizontalalignment='right',\n",
    "    fontweight='light',\n",
    ")\n",
    "plt.show()"
   ]
  },
  {
   "cell_type": "code",
   "execution_count": null,
   "metadata": {},
   "outputs": [],
   "source": []
  }
 ],
 "metadata": {
  "kernelspec": {
   "display_name": "Python 3",
   "language": "python",
   "name": "python3"
  },
  "language_info": {
   "codemirror_mode": {
    "name": "ipython",
    "version": 3
   },
   "file_extension": ".py",
   "mimetype": "text/x-python",
   "name": "python",
   "nbconvert_exporter": "python",
   "pygments_lexer": "ipython3",
   "version": "3.7.6"
  }
 },
 "nbformat": 4,
 "nbformat_minor": 2
}
