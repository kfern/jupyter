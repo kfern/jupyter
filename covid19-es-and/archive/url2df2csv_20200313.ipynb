{
 "cells": [
  {
   "cell_type": "code",
   "execution_count": null,
   "metadata": {},
   "outputs": [],
   "source": [
    "import pandas as pd"
   ]
  },
  {
   "cell_type": "code",
   "execution_count": null,
   "metadata": {},
   "outputs": [],
   "source": [
    "filename = 'covid19-es-and.csv'\n",
    "fecha = '13/03/2020'\n",
    "url = 'https://www.juntadeandalucia.es/organismos/saludyfamilias/actualidad/noticias/detalle/233232.html'"
   ]
  },
  {
   "cell_type": "code",
   "execution_count": null,
   "metadata": {},
   "outputs": [],
   "source": [
    "# Load \n",
    "tables = pd.read_html(url, header=0, index_col='Provincia')\n",
    "assert len(tables) == 1\n",
    "dfL = tables[0]\n",
    "dfL.head()"
   ]
  },
  {
   "cell_type": "code",
   "execution_count": null,
   "metadata": {},
   "outputs": [],
   "source": [
    "# Prepare\n",
    "provincias = ['Almería', 'Cádiz', 'Córdoba', 'Granada', 'Huelva', 'Jaén', 'Málaga', 'Sevilla', 'Total']\n",
    "dfP = pd.DataFrame(0, index=provincias, columns=['Ingresados','Altas', 'Bajas'])\n",
    "\n",
    "dfP['Ingresados'] = dfL['Ingresados']\n",
    "dfP['Altas'] = dfL['Alta']\n",
    "dfP['Fecha'] = fecha\n",
    "\n",
    "dfP"
   ]
  },
  {
   "cell_type": "code",
   "execution_count": null,
   "metadata": {},
   "outputs": [],
   "source": [
    "dfP.to_csv(filename, encoding='utf-8', header=True, index_label='Provincia')"
   ]
  },
  {
   "cell_type": "code",
   "execution_count": null,
   "metadata": {},
   "outputs": [],
   "source": [
    "# Load csv \n",
    "dfCSV = pd.read_csv(filename, index_col='Provincia')\n",
    "dfCSV"
   ]
  },
  {
   "cell_type": "code",
   "execution_count": null,
   "metadata": {},
   "outputs": [],
   "source": []
  }
 ],
 "metadata": {
  "kernelspec": {
   "display_name": "Python 3",
   "language": "python",
   "name": "python3"
  },
  "language_info": {
   "codemirror_mode": {
    "name": "ipython",
    "version": 3
   },
   "file_extension": ".py",
   "mimetype": "text/x-python",
   "name": "python",
   "nbconvert_exporter": "python",
   "pygments_lexer": "ipython3",
   "version": "3.7.6"
  }
 },
 "nbformat": 4,
 "nbformat_minor": 2
}
