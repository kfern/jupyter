{
 "cells": [
  {
   "cell_type": "markdown",
   "metadata": {},
   "source": [
    "## Convertir archivo csv a formato dividido (melt)"
   ]
  },
  {
   "cell_type": "code",
   "execution_count": 1,
   "metadata": {},
   "outputs": [],
   "source": [
    "import pandas as pd"
   ]
  },
  {
   "cell_type": "code",
   "execution_count": 2,
   "metadata": {},
   "outputs": [],
   "source": [
    "filename = '../covid19-es-and.csv'"
   ]
  },
  {
   "cell_type": "code",
   "execution_count": 3,
   "metadata": {},
   "outputs": [],
   "source": [
    "# Load full csv\n",
    "df = pd.read_csv(filename, thousands='.')"
   ]
  },
  {
   "cell_type": "code",
   "execution_count": 4,
   "metadata": {},
   "outputs": [
    {
     "output_type": "execute_result",
     "data": {
      "text/plain": "  Provincia  Hospitalización  Curados  Fallecimientos       Fecha\n0   Almería                0        0               0  13/03/2020\n1     Cádiz                1        0               0  13/03/2020\n2   Córdoba                3        0               0  13/03/2020\n3   Granada                3        0               0  13/03/2020\n4    Huelva                0        0               0  13/03/2020",
      "text/html": "<div>\n<style scoped>\n    .dataframe tbody tr th:only-of-type {\n        vertical-align: middle;\n    }\n\n    .dataframe tbody tr th {\n        vertical-align: top;\n    }\n\n    .dataframe thead th {\n        text-align: right;\n    }\n</style>\n<table border=\"1\" class=\"dataframe\">\n  <thead>\n    <tr style=\"text-align: right;\">\n      <th></th>\n      <th>Provincia</th>\n      <th>Hospitalización</th>\n      <th>Curados</th>\n      <th>Fallecimientos</th>\n      <th>Fecha</th>\n    </tr>\n  </thead>\n  <tbody>\n    <tr>\n      <th>0</th>\n      <td>Almería</td>\n      <td>0</td>\n      <td>0</td>\n      <td>0</td>\n      <td>13/03/2020</td>\n    </tr>\n    <tr>\n      <th>1</th>\n      <td>Cádiz</td>\n      <td>1</td>\n      <td>0</td>\n      <td>0</td>\n      <td>13/03/2020</td>\n    </tr>\n    <tr>\n      <th>2</th>\n      <td>Córdoba</td>\n      <td>3</td>\n      <td>0</td>\n      <td>0</td>\n      <td>13/03/2020</td>\n    </tr>\n    <tr>\n      <th>3</th>\n      <td>Granada</td>\n      <td>3</td>\n      <td>0</td>\n      <td>0</td>\n      <td>13/03/2020</td>\n    </tr>\n    <tr>\n      <th>4</th>\n      <td>Huelva</td>\n      <td>0</td>\n      <td>0</td>\n      <td>0</td>\n      <td>13/03/2020</td>\n    </tr>\n  </tbody>\n</table>\n</div>"
     },
     "metadata": {},
     "execution_count": 4
    }
   ],
   "source": [
    "df.head()"
   ]
  },
  {
   "cell_type": "code",
   "execution_count": 5,
   "metadata": {},
   "outputs": [
    {
     "output_type": "execute_result",
     "data": {
      "text/plain": "  Provincia       Fecha         variable  value\n0   Almería  13/03/2020  Hospitalización      0\n1     Cádiz  13/03/2020  Hospitalización      1\n2   Córdoba  13/03/2020  Hospitalización      3\n3   Granada  13/03/2020  Hospitalización      3\n4    Huelva  13/03/2020  Hospitalización      0",
      "text/html": "<div>\n<style scoped>\n    .dataframe tbody tr th:only-of-type {\n        vertical-align: middle;\n    }\n\n    .dataframe tbody tr th {\n        vertical-align: top;\n    }\n\n    .dataframe thead th {\n        text-align: right;\n    }\n</style>\n<table border=\"1\" class=\"dataframe\">\n  <thead>\n    <tr style=\"text-align: right;\">\n      <th></th>\n      <th>Provincia</th>\n      <th>Fecha</th>\n      <th>variable</th>\n      <th>value</th>\n    </tr>\n  </thead>\n  <tbody>\n    <tr>\n      <th>0</th>\n      <td>Almería</td>\n      <td>13/03/2020</td>\n      <td>Hospitalización</td>\n      <td>0</td>\n    </tr>\n    <tr>\n      <th>1</th>\n      <td>Cádiz</td>\n      <td>13/03/2020</td>\n      <td>Hospitalización</td>\n      <td>1</td>\n    </tr>\n    <tr>\n      <th>2</th>\n      <td>Córdoba</td>\n      <td>13/03/2020</td>\n      <td>Hospitalización</td>\n      <td>3</td>\n    </tr>\n    <tr>\n      <th>3</th>\n      <td>Granada</td>\n      <td>13/03/2020</td>\n      <td>Hospitalización</td>\n      <td>3</td>\n    </tr>\n    <tr>\n      <th>4</th>\n      <td>Huelva</td>\n      <td>13/03/2020</td>\n      <td>Hospitalización</td>\n      <td>0</td>\n    </tr>\n  </tbody>\n</table>\n</div>"
     },
     "metadata": {},
     "execution_count": 5
    }
   ],
   "source": [
    "data = pd.melt(df, id_vars=['Provincia', 'Fecha'], value_vars=['Hospitalización', 'Curados', 'Fallecimientos'])\n",
    "data.head()"
   ]
  },
  {
   "cell_type": "code",
   "execution_count": 6,
   "metadata": {},
   "outputs": [],
   "source": [
    "data.to_csv(filename, encoding='utf-8', header=True, index_label='Provincia', index=False)"
   ]
  }
 ],
 "metadata": {
  "kernelspec": {
   "display_name": "Python 3.8.3 32-bit",
   "language": "python",
   "name": "python38332bit93be42d4079443e4936ec1533fe4e0ca"
  },
  "language_info": {
   "codemirror_mode": {
    "name": "ipython",
    "version": 3
   },
   "file_extension": ".py",
   "mimetype": "text/x-python",
   "name": "python",
   "nbconvert_exporter": "python",
   "pygments_lexer": "ipython3",
   "version": "3.8.3-final"
  }
 },
 "nbformat": 4,
 "nbformat_minor": 2
}