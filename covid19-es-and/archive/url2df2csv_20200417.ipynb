{
 "cells": [
  {
   "cell_type": "code",
   "execution_count": 1,
   "metadata": {},
   "outputs": [],
   "source": [
    "import pandas as pd\n",
    "import numpy as np\n",
    "import matplotlib.pyplot as plt"
   ]
  },
  {
   "cell_type": "markdown",
   "metadata": {},
   "source": [
    "https://www.juntadeandalucia.es/organismos/saludyfamilias/actualidad/noticias.html"
   ]
  },
  {
   "cell_type": "code",
   "execution_count": 2,
   "metadata": {},
   "outputs": [],
   "source": [
    "filename = 'covid19-es-and.csv'\n",
    "fecha = '17/04/2020'\n",
    "url = 'https://www.juntadeandalucia.es/organismos/saludyfamilias/actualidad/noticias/detalle/234667.html'"
   ]
  },
  {
   "cell_type": "code",
   "execution_count": 3,
   "metadata": {},
   "outputs": [
    {
     "data": {
      "text/html": [
       "<div>\n",
       "<style scoped>\n",
       "    .dataframe tbody tr th:only-of-type {\n",
       "        vertical-align: middle;\n",
       "    }\n",
       "\n",
       "    .dataframe tbody tr th {\n",
       "        vertical-align: top;\n",
       "    }\n",
       "\n",
       "    .dataframe thead th {\n",
       "        text-align: right;\n",
       "    }\n",
       "</style>\n",
       "<table border=\"1\" class=\"dataframe\">\n",
       "  <thead>\n",
       "    <tr style=\"text-align: right;\">\n",
       "      <th></th>\n",
       "      <th>Positivo</th>\n",
       "      <th>Hospitalización</th>\n",
       "      <th>UCI</th>\n",
       "      <th>Fallecimientos</th>\n",
       "      <th>Curados</th>\n",
       "    </tr>\n",
       "    <tr>\n",
       "      <th>Provincia</th>\n",
       "      <th></th>\n",
       "      <th></th>\n",
       "      <th></th>\n",
       "      <th></th>\n",
       "      <th></th>\n",
       "    </tr>\n",
       "  </thead>\n",
       "  <tbody>\n",
       "    <tr>\n",
       "      <th>Almería</th>\n",
       "      <td>436</td>\n",
       "      <td>186</td>\n",
       "      <td>35</td>\n",
       "      <td>39</td>\n",
       "      <td>118</td>\n",
       "    </tr>\n",
       "    <tr>\n",
       "      <th>Cádiz</th>\n",
       "      <td>1110</td>\n",
       "      <td>466</td>\n",
       "      <td>73</td>\n",
       "      <td>71</td>\n",
       "      <td>276</td>\n",
       "    </tr>\n",
       "    <tr>\n",
       "      <th>Córdoba</th>\n",
       "      <td>1259</td>\n",
       "      <td>486</td>\n",
       "      <td>64</td>\n",
       "      <td>70</td>\n",
       "      <td>317</td>\n",
       "    </tr>\n",
       "    <tr>\n",
       "      <th>Granada</th>\n",
       "      <td>1956</td>\n",
       "      <td>1018</td>\n",
       "      <td>117</td>\n",
       "      <td>191</td>\n",
       "      <td>513</td>\n",
       "    </tr>\n",
       "    <tr>\n",
       "      <th>Huelva</th>\n",
       "      <td>352</td>\n",
       "      <td>201</td>\n",
       "      <td>29</td>\n",
       "      <td>29</td>\n",
       "      <td>89</td>\n",
       "    </tr>\n",
       "    <tr>\n",
       "      <th>Jaén</th>\n",
       "      <td>1233</td>\n",
       "      <td>612</td>\n",
       "      <td>62</td>\n",
       "      <td>129</td>\n",
       "      <td>252</td>\n",
       "    </tr>\n",
       "    <tr>\n",
       "      <th>Málaga</th>\n",
       "      <td>2429</td>\n",
       "      <td>1317</td>\n",
       "      <td>157</td>\n",
       "      <td>214</td>\n",
       "      <td>809</td>\n",
       "    </tr>\n",
       "    <tr>\n",
       "      <th>Sevilla</th>\n",
       "      <td>2278</td>\n",
       "      <td>1012</td>\n",
       "      <td>138</td>\n",
       "      <td>197</td>\n",
       "      <td>416</td>\n",
       "    </tr>\n",
       "    <tr>\n",
       "      <th>Total</th>\n",
       "      <td>11053</td>\n",
       "      <td>5298</td>\n",
       "      <td>675</td>\n",
       "      <td>940</td>\n",
       "      <td>2790</td>\n",
       "    </tr>\n",
       "  </tbody>\n",
       "</table>\n",
       "</div>"
      ],
      "text/plain": [
       "           Positivo  Hospitalización  UCI  Fallecimientos  Curados\n",
       "Provincia                                                         \n",
       "Almería         436              186   35              39      118\n",
       "Cádiz          1110              466   73              71      276\n",
       "Córdoba        1259              486   64              70      317\n",
       "Granada        1956             1018  117             191      513\n",
       "Huelva          352              201   29              29       89\n",
       "Jaén           1233              612   62             129      252\n",
       "Málaga         2429             1317  157             214      809\n",
       "Sevilla        2278             1012  138             197      416\n",
       "Total         11053             5298  675             940     2790"
      ]
     },
     "execution_count": 3,
     "metadata": {},
     "output_type": "execute_result"
    }
   ],
   "source": [
    "# Load\n",
    "tables = pd.read_html(url, header=0, thousands='.')\n",
    "assert len(tables) > 0\n",
    "dfL = tables[0]\n",
    "dfL.set_index(['Provincia'], inplace=True)\n",
    "dfL"
   ]
  },
  {
   "cell_type": "code",
   "execution_count": 6,
   "metadata": {},
   "outputs": [
    {
     "data": {
      "text/html": [
       "<div>\n",
       "<style scoped>\n",
       "    .dataframe tbody tr th:only-of-type {\n",
       "        vertical-align: middle;\n",
       "    }\n",
       "\n",
       "    .dataframe tbody tr th {\n",
       "        vertical-align: top;\n",
       "    }\n",
       "\n",
       "    .dataframe thead th {\n",
       "        text-align: right;\n",
       "    }\n",
       "</style>\n",
       "<table border=\"1\" class=\"dataframe\">\n",
       "  <thead>\n",
       "    <tr style=\"text-align: right;\">\n",
       "      <th></th>\n",
       "      <th>Ingresados</th>\n",
       "      <th>Altas</th>\n",
       "      <th>Bajas</th>\n",
       "      <th>Fecha</th>\n",
       "    </tr>\n",
       "  </thead>\n",
       "  <tbody>\n",
       "    <tr>\n",
       "      <th>Almería</th>\n",
       "      <td>186</td>\n",
       "      <td>118</td>\n",
       "      <td>39</td>\n",
       "      <td>17/04/2020</td>\n",
       "    </tr>\n",
       "    <tr>\n",
       "      <th>Cádiz</th>\n",
       "      <td>466</td>\n",
       "      <td>276</td>\n",
       "      <td>71</td>\n",
       "      <td>17/04/2020</td>\n",
       "    </tr>\n",
       "    <tr>\n",
       "      <th>Córdoba</th>\n",
       "      <td>486</td>\n",
       "      <td>317</td>\n",
       "      <td>70</td>\n",
       "      <td>17/04/2020</td>\n",
       "    </tr>\n",
       "    <tr>\n",
       "      <th>Granada</th>\n",
       "      <td>1018</td>\n",
       "      <td>513</td>\n",
       "      <td>191</td>\n",
       "      <td>17/04/2020</td>\n",
       "    </tr>\n",
       "    <tr>\n",
       "      <th>Huelva</th>\n",
       "      <td>201</td>\n",
       "      <td>89</td>\n",
       "      <td>29</td>\n",
       "      <td>17/04/2020</td>\n",
       "    </tr>\n",
       "    <tr>\n",
       "      <th>Jaén</th>\n",
       "      <td>612</td>\n",
       "      <td>252</td>\n",
       "      <td>129</td>\n",
       "      <td>17/04/2020</td>\n",
       "    </tr>\n",
       "    <tr>\n",
       "      <th>Málaga</th>\n",
       "      <td>1317</td>\n",
       "      <td>809</td>\n",
       "      <td>214</td>\n",
       "      <td>17/04/2020</td>\n",
       "    </tr>\n",
       "    <tr>\n",
       "      <th>Sevilla</th>\n",
       "      <td>1012</td>\n",
       "      <td>416</td>\n",
       "      <td>197</td>\n",
       "      <td>17/04/2020</td>\n",
       "    </tr>\n",
       "    <tr>\n",
       "      <th>Total</th>\n",
       "      <td>5298</td>\n",
       "      <td>2790</td>\n",
       "      <td>940</td>\n",
       "      <td>17/04/2020</td>\n",
       "    </tr>\n",
       "  </tbody>\n",
       "</table>\n",
       "</div>"
      ],
      "text/plain": [
       "         Ingresados  Altas  Bajas       Fecha\n",
       "Almería         186    118     39  17/04/2020\n",
       "Cádiz           466    276     71  17/04/2020\n",
       "Córdoba         486    317     70  17/04/2020\n",
       "Granada        1018    513    191  17/04/2020\n",
       "Huelva          201     89     29  17/04/2020\n",
       "Jaén            612    252    129  17/04/2020\n",
       "Málaga         1317    809    214  17/04/2020\n",
       "Sevilla        1012    416    197  17/04/2020\n",
       "Total          5298   2790    940  17/04/2020"
      ]
     },
     "execution_count": 6,
     "metadata": {},
     "output_type": "execute_result"
    }
   ],
   "source": [
    "# Prepare\n",
    "provincias = ['Almería', 'Cádiz', 'Córdoba', 'Granada', 'Huelva', 'Jaén', 'Málaga', 'Sevilla', 'Total']\n",
    "dfP = pd.DataFrame(0, index=provincias, columns=['Ingresados','Altas', 'Bajas'])\n",
    "\n",
    "dfP['Ingresados'] = dfL['Hospitalización']\n",
    "dfP['Altas'] = dfL['Curados']\n",
    "dfP['Bajas'] = dfL['Fallecimientos']\n",
    "dfP['Fecha'] = fecha\n",
    "\n",
    "dfP"
   ]
  },
  {
   "cell_type": "code",
   "execution_count": 7,
   "metadata": {},
   "outputs": [],
   "source": [
    "# Save to csv\n",
    "dfP.to_csv(filename, encoding='utf-8', header=False, mode='+a', index_label='Provincia')"
   ]
  },
  {
   "cell_type": "code",
   "execution_count": 8,
   "metadata": {},
   "outputs": [],
   "source": [
    "# Load full csv\n",
    "dfCSV = pd.read_csv(filename, index_col='Provincia', thousands='.')"
   ]
  },
  {
   "cell_type": "code",
   "execution_count": 9,
   "metadata": {},
   "outputs": [],
   "source": [
    "# Select & calc\n",
    "title = 'COVID19 Andalucía'\n",
    "total = dfCSV.loc['Total']['Ingresados'].pct_change() * 100\n",
    "huelva = dfCSV.loc['Huelva']['Ingresados'].pct_change() * 100\n",
    "malaga  = dfCSV.loc['Málaga']['Ingresados'].pct_change() * 100\n",
    "# x Axis\n",
    "xA = dfCSV.loc['Total']['Fecha']"
   ]
  },
  {
   "cell_type": "code",
   "execution_count": 10,
   "metadata": {},
   "outputs": [
    {
     "data": {
      "image/png": "[encoded data removed]",
      "text/plain": [
       "<Figure size 432x288 with 1 Axes>"
      ]
     },
     "metadata": {
      "needs_background": "light"
     },
     "output_type": "display_data"
    }
   ],
   "source": [
    "# Draw \n",
    "plt.plot(xA, total, label='% Variación Ingresos Total', linewidth=2)\n",
    "plt.plot(xA, huelva, label='% Variación Ingresos Huelva', linewidth=2)\n",
    "plt.plot(xA, malaga, label='% Variación Ingresos Málaga', linewidth=2)\n",
    "plt.title(title)\n",
    "plt.ylabel('% Variación Ingresos')\n",
    "plt.xticks(rotation=90)\n",
    "plt.grid(True)\n",
    "plt.legend()\n",
    "plt.show()"
   ]
  },
  {
   "cell_type": "code",
   "execution_count": 11,
   "metadata": {},
   "outputs": [
    {
     "data": {
      "text/plain": [
       "<matplotlib.axes._subplots.AxesSubplot at 0x7fc43ccd2f50>"
      ]
     },
     "execution_count": 11,
     "metadata": {},
     "output_type": "execute_result"
    },
    {
     "data": {
      "image/png": "[encoded data removed]",
      "text/plain": [
       "<Figure size 432x288 with 1 Axes>"
      ]
     },
     "metadata": {
      "needs_background": "light"
     },
     "output_type": "display_data"
    }
   ],
   "source": [
    "huelva.plot()"
   ]
  },
  {
   "cell_type": "code",
   "execution_count": 12,
   "metadata": {},
   "outputs": [
    {
     "data": {
      "text/plain": [
       "Provincia\n",
       "Huelva    1.183432\n",
       "Huelva    3.508772\n",
       "Huelva    4.519774\n",
       "Huelva    8.108108\n",
       "Huelva    0.500000\n",
       "Name: Ingresados, dtype: float64"
      ]
     },
     "execution_count": 12,
     "metadata": {},
     "output_type": "execute_result"
    }
   ],
   "source": [
    "huelva.tail()"
   ]
  },
  {
   "cell_type": "code",
   "execution_count": null,
   "metadata": {},
   "outputs": [],
   "source": []
  }
 ],
 "metadata": {
  "kernelspec": {
   "display_name": "Python 3",
   "language": "python",
   "name": "python3"
  },
  "language_info": {
   "codemirror_mode": {
    "name": "ipython",
    "version": 3
   },
   "file_extension": ".py",
   "mimetype": "text/x-python",
   "name": "python",
   "nbconvert_exporter": "python",
   "pygments_lexer": "ipython3",
   "version": "3.7.6"
  }
 },
 "nbformat": 4,
 "nbformat_minor": 2
}
