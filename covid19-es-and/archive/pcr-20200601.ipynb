{
 "cells": [
  {
   "cell_type": "markdown",
   "metadata": {},
   "source": [
    "## Importar los datos de PCR y UCI del día 01/06/2020"
   ]
  },
  {
   "cell_type": "code",
   "execution_count": 1,
   "metadata": {},
   "outputs": [],
   "source": [
    "import pandas as pd"
   ]
  },
  {
   "cell_type": "code",
   "execution_count": 2,
   "metadata": {},
   "outputs": [],
   "source": [
    "filename = '../covid19-es-and.csv'\n",
    "fecha = '01/06/2020'\n",
    "id_noticia = '237099'\n",
    "url = 'https://www.juntadeandalucia.es/organismos/saludyfamilias/actualidad/noticias/detalle/' + id_noticia + '.html'"
   ]
  },
  {
   "cell_type": "code",
   "execution_count": 3,
   "metadata": {},
   "outputs": [],
   "source": [
    "# Load\n",
    "tables = pd.read_html(url, header=0, thousands='.')\n",
    "assert len(tables) > 0\n",
    "dfL = tables[0]"
   ]
  },
  {
   "cell_type": "code",
   "execution_count": 4,
   "metadata": {},
   "outputs": [
    {
     "output_type": "execute_result",
     "data": {
      "text/plain": "  Provincia  PCR Positivo Hospitalización       UCI Fallecimientos  \\\n0   Almería     511  (+2)        240  (0)   41  (0)        54  (0)   \n1     Cádiz    1.269  (0)       584  (+1)   81  (0)       158  (0)   \n2   Córdoba    1.343  (0)        559  (0)   76  (0)       117  (0)   \n3   Granada   2.453  (+1)      1.203  (0)  133  (0)      286  (-1)   \n4    Huelva      404  (0)        221  (0)   30  (0)        48  (0)   \n5      Jaén   1.457  (+1)        768  (0)   91  (0)       182  (0)   \n6    Málaga   2.788  (+1)      1.484  (0)  168  (0)       287  (0)   \n7   Sevilla    2.468  (0)      1.203  (0)  150  (0)       286  (0)   \n8     Total  12.693  (+5)     6.262  (+1)  770  (0)    1.418  (-1)   \n\n         Curados  \n0       652  (0)  \n1       974  (0)  \n2     1.505  (0)  \n3   2.777  (+26)  \n4       464  (0)  \n5     1.453  (0)  \n6    2.896  (+1)  \n7   2.648  (+19)  \n8  13.369  (+46)  ",
      "text/html": "<div>\n<style scoped>\n    .dataframe tbody tr th:only-of-type {\n        vertical-align: middle;\n    }\n\n    .dataframe tbody tr th {\n        vertical-align: top;\n    }\n\n    .dataframe thead th {\n        text-align: right;\n    }\n</style>\n<table border=\"1\" class=\"dataframe\">\n  <thead>\n    <tr style=\"text-align: right;\">\n      <th></th>\n      <th>Provincia</th>\n      <th>PCR Positivo</th>\n      <th>Hospitalización</th>\n      <th>UCI</th>\n      <th>Fallecimientos</th>\n      <th>Curados</th>\n    </tr>\n  </thead>\n  <tbody>\n    <tr>\n      <th>0</th>\n      <td>Almería</td>\n      <td>511  (+2)</td>\n      <td>240  (0)</td>\n      <td>41  (0)</td>\n      <td>54  (0)</td>\n      <td>652  (0)</td>\n    </tr>\n    <tr>\n      <th>1</th>\n      <td>Cádiz</td>\n      <td>1.269  (0)</td>\n      <td>584  (+1)</td>\n      <td>81  (0)</td>\n      <td>158  (0)</td>\n      <td>974  (0)</td>\n    </tr>\n    <tr>\n      <th>2</th>\n      <td>Córdoba</td>\n      <td>1.343  (0)</td>\n      <td>559  (0)</td>\n      <td>76  (0)</td>\n      <td>117  (0)</td>\n      <td>1.505  (0)</td>\n    </tr>\n    <tr>\n      <th>3</th>\n      <td>Granada</td>\n      <td>2.453  (+1)</td>\n      <td>1.203  (0)</td>\n      <td>133  (0)</td>\n      <td>286  (-1)</td>\n      <td>2.777  (+26)</td>\n    </tr>\n    <tr>\n      <th>4</th>\n      <td>Huelva</td>\n      <td>404  (0)</td>\n      <td>221  (0)</td>\n      <td>30  (0)</td>\n      <td>48  (0)</td>\n      <td>464  (0)</td>\n    </tr>\n    <tr>\n      <th>5</th>\n      <td>Jaén</td>\n      <td>1.457  (+1)</td>\n      <td>768  (0)</td>\n      <td>91  (0)</td>\n      <td>182  (0)</td>\n      <td>1.453  (0)</td>\n    </tr>\n    <tr>\n      <th>6</th>\n      <td>Málaga</td>\n      <td>2.788  (+1)</td>\n      <td>1.484  (0)</td>\n      <td>168  (0)</td>\n      <td>287  (0)</td>\n      <td>2.896  (+1)</td>\n    </tr>\n    <tr>\n      <th>7</th>\n      <td>Sevilla</td>\n      <td>2.468  (0)</td>\n      <td>1.203  (0)</td>\n      <td>150  (0)</td>\n      <td>286  (0)</td>\n      <td>2.648  (+19)</td>\n    </tr>\n    <tr>\n      <th>8</th>\n      <td>Total</td>\n      <td>12.693  (+5)</td>\n      <td>6.262  (+1)</td>\n      <td>770  (0)</td>\n      <td>1.418  (-1)</td>\n      <td>13.369  (+46)</td>\n    </tr>\n  </tbody>\n</table>\n</div>"
     },
     "metadata": {},
     "execution_count": 4
    }
   ],
   "source": [
    "dfL"
   ]
  },
  {
   "cell_type": "code",
   "execution_count": 5,
   "metadata": {},
   "outputs": [
    {
     "output_type": "execute_result",
     "data": {
      "text/plain": "  Provincia PCR Positivo Hospitalización  UCI Fallecimientos Curados  \\\n0   Almería          511             240   41             54     652   \n1     Cádiz        1.269             584   81            158     974   \n2   Córdoba        1.343             559   76            117   1.505   \n3   Granada        2.453           1.203  133            286   2.777   \n4    Huelva          404             221   30             48     464   \n5      Jaén        1.457             768   91            182   1.453   \n6    Málaga        2.788           1.484  168            287   2.896   \n7   Sevilla        2.468           1.203  150            286   2.648   \n8     Total       12.693           6.262  770          1.418  13.369   \n\n        Fecha  \n0  01/06/2020  \n1  01/06/2020  \n2  01/06/2020  \n3  01/06/2020  \n4  01/06/2020  \n5  01/06/2020  \n6  01/06/2020  \n7  01/06/2020  \n8  01/06/2020  ",
      "text/html": "<div>\n<style scoped>\n    .dataframe tbody tr th:only-of-type {\n        vertical-align: middle;\n    }\n\n    .dataframe tbody tr th {\n        vertical-align: top;\n    }\n\n    .dataframe thead th {\n        text-align: right;\n    }\n</style>\n<table border=\"1\" class=\"dataframe\">\n  <thead>\n    <tr style=\"text-align: right;\">\n      <th></th>\n      <th>Provincia</th>\n      <th>PCR Positivo</th>\n      <th>Hospitalización</th>\n      <th>UCI</th>\n      <th>Fallecimientos</th>\n      <th>Curados</th>\n      <th>Fecha</th>\n    </tr>\n  </thead>\n  <tbody>\n    <tr>\n      <th>0</th>\n      <td>Almería</td>\n      <td>511</td>\n      <td>240</td>\n      <td>41</td>\n      <td>54</td>\n      <td>652</td>\n      <td>01/06/2020</td>\n    </tr>\n    <tr>\n      <th>1</th>\n      <td>Cádiz</td>\n      <td>1.269</td>\n      <td>584</td>\n      <td>81</td>\n      <td>158</td>\n      <td>974</td>\n      <td>01/06/2020</td>\n    </tr>\n    <tr>\n      <th>2</th>\n      <td>Córdoba</td>\n      <td>1.343</td>\n      <td>559</td>\n      <td>76</td>\n      <td>117</td>\n      <td>1.505</td>\n      <td>01/06/2020</td>\n    </tr>\n    <tr>\n      <th>3</th>\n      <td>Granada</td>\n      <td>2.453</td>\n      <td>1.203</td>\n      <td>133</td>\n      <td>286</td>\n      <td>2.777</td>\n      <td>01/06/2020</td>\n    </tr>\n    <tr>\n      <th>4</th>\n      <td>Huelva</td>\n      <td>404</td>\n      <td>221</td>\n      <td>30</td>\n      <td>48</td>\n      <td>464</td>\n      <td>01/06/2020</td>\n    </tr>\n    <tr>\n      <th>5</th>\n      <td>Jaén</td>\n      <td>1.457</td>\n      <td>768</td>\n      <td>91</td>\n      <td>182</td>\n      <td>1.453</td>\n      <td>01/06/2020</td>\n    </tr>\n    <tr>\n      <th>6</th>\n      <td>Málaga</td>\n      <td>2.788</td>\n      <td>1.484</td>\n      <td>168</td>\n      <td>287</td>\n      <td>2.896</td>\n      <td>01/06/2020</td>\n    </tr>\n    <tr>\n      <th>7</th>\n      <td>Sevilla</td>\n      <td>2.468</td>\n      <td>1.203</td>\n      <td>150</td>\n      <td>286</td>\n      <td>2.648</td>\n      <td>01/06/2020</td>\n    </tr>\n    <tr>\n      <th>8</th>\n      <td>Total</td>\n      <td>12.693</td>\n      <td>6.262</td>\n      <td>770</td>\n      <td>1.418</td>\n      <td>13.369</td>\n      <td>01/06/2020</td>\n    </tr>\n  </tbody>\n</table>\n</div>"
     },
     "metadata": {},
     "execution_count": 5
    }
   ],
   "source": [
    "# Prepare\n",
    "dfL['Fecha'] = fecha\n",
    "# A partir del 14/05/2020 se cambia el formato del dato añadiendo en la misma columna el número de nuevos casos\n",
    "for col in ['PCR Positivo',\t'Hospitalización', 'UCI', 'Fallecimientos',\t'Curados']:\n",
    "    dfL[col] = dfL[col].str.split(' ').str[0]\n",
    "\n",
    "dfL"
   ]
  },
  {
   "cell_type": "code",
   "execution_count": 6,
   "metadata": {},
   "outputs": [],
   "source": [
    "data = pd.melt(dfL, id_vars=['Provincia', 'Fecha'], value_vars=['PCR Positivo', 'UCI'])"
   ]
  },
  {
   "cell_type": "code",
   "execution_count": 7,
   "metadata": {},
   "outputs": [],
   "source": [
    "data.to_csv(filename, encoding='utf-8', header=False, mode='+a', index=False)"
   ]
  }
 ],
 "metadata": {
  "language_info": {
   "codemirror_mode": {
    "name": "ipython",
    "version": 3
   },
   "file_extension": ".py",
   "mimetype": "text/x-python",
   "name": "python",
   "nbconvert_exporter": "python",
   "pygments_lexer": "ipython3",
   "version": "3.8.3-final"
  },
  "orig_nbformat": 2,
  "kernelspec": {
   "name": "python38332bit93be42d4079443e4936ec1533fe4e0ca",
   "display_name": "Python 3.8.3 32-bit"
  }
 },
 "nbformat": 4,
 "nbformat_minor": 2
}