{
 "cells": [
  {
   "cell_type": "code",
   "execution_count": 1,
   "metadata": {},
   "outputs": [],
   "source": [
    "import pandas as pd\n",
    "import numpy as np\n",
    "import matplotlib.pyplot as plt"
   ]
  },
  {
   "cell_type": "code",
   "execution_count": 2,
   "metadata": {},
   "outputs": [],
   "source": [
    "filename = 'covid19-es-and.csv'\n",
    "fecha = '27/03/2020'\n",
    "url = 'https://www.juntadeandalucia.es/organismos/saludyfamilias/actualidad/noticias/detalle/233766.html'"
   ]
  },
  {
   "cell_type": "code",
   "execution_count": 3,
   "metadata": {},
   "outputs": [
    {
     "data": {
      "text/html": [
       "<div>\n",
       "<style scoped>\n",
       "    .dataframe tbody tr th:only-of-type {\n",
       "        vertical-align: middle;\n",
       "    }\n",
       "\n",
       "    .dataframe tbody tr th {\n",
       "        vertical-align: top;\n",
       "    }\n",
       "\n",
       "    .dataframe thead th {\n",
       "        text-align: right;\n",
       "    }\n",
       "</style>\n",
       "<table border=\"1\" class=\"dataframe\">\n",
       "  <thead>\n",
       "    <tr style=\"text-align: right;\">\n",
       "      <th></th>\n",
       "      <th>Positivo</th>\n",
       "      <th>Ingresos</th>\n",
       "      <th>Seguimiento activo</th>\n",
       "      <th>Fallecimientos</th>\n",
       "    </tr>\n",
       "    <tr>\n",
       "      <th>Provincia</th>\n",
       "      <th></th>\n",
       "      <th></th>\n",
       "      <th></th>\n",
       "      <th></th>\n",
       "    </tr>\n",
       "  </thead>\n",
       "  <tbody>\n",
       "    <tr>\n",
       "      <th>Almería</th>\n",
       "      <td>142</td>\n",
       "      <td>65</td>\n",
       "      <td>69</td>\n",
       "      <td>8</td>\n",
       "    </tr>\n",
       "    <tr>\n",
       "      <th>Cádiz</th>\n",
       "      <td>348</td>\n",
       "      <td>117</td>\n",
       "      <td>225</td>\n",
       "      <td>6</td>\n",
       "    </tr>\n",
       "    <tr>\n",
       "      <th>Córdoba</th>\n",
       "      <td>359</td>\n",
       "      <td>168</td>\n",
       "      <td>183</td>\n",
       "      <td>8</td>\n",
       "    </tr>\n",
       "    <tr>\n",
       "      <th>Granada</th>\n",
       "      <td>711</td>\n",
       "      <td>336</td>\n",
       "      <td>341</td>\n",
       "      <td>34</td>\n",
       "    </tr>\n",
       "    <tr>\n",
       "      <th>Huelva</th>\n",
       "      <td>105</td>\n",
       "      <td>60</td>\n",
       "      <td>43</td>\n",
       "      <td>2</td>\n",
       "    </tr>\n",
       "    <tr>\n",
       "      <th>Jaén</th>\n",
       "      <td>414</td>\n",
       "      <td>228</td>\n",
       "      <td>171</td>\n",
       "      <td>15</td>\n",
       "    </tr>\n",
       "    <tr>\n",
       "      <th>Málaga</th>\n",
       "      <td>1006</td>\n",
       "      <td>540</td>\n",
       "      <td>420</td>\n",
       "      <td>46</td>\n",
       "    </tr>\n",
       "    <tr>\n",
       "      <th>Sevilla</th>\n",
       "      <td>708</td>\n",
       "      <td>329</td>\n",
       "      <td>354</td>\n",
       "      <td>25</td>\n",
       "    </tr>\n",
       "    <tr>\n",
       "      <th>Total</th>\n",
       "      <td>3793</td>\n",
       "      <td>1843</td>\n",
       "      <td>1806</td>\n",
       "      <td>144</td>\n",
       "    </tr>\n",
       "  </tbody>\n",
       "</table>\n",
       "</div>"
      ],
      "text/plain": [
       "           Positivo  Ingresos  Seguimiento activo  Fallecimientos\n",
       "Provincia                                                        \n",
       "Almería         142        65                  69               8\n",
       "Cádiz           348       117                 225               6\n",
       "Córdoba         359       168                 183               8\n",
       "Granada         711       336                 341              34\n",
       "Huelva          105        60                  43               2\n",
       "Jaén            414       228                 171              15\n",
       "Málaga         1006       540                 420              46\n",
       "Sevilla         708       329                 354              25\n",
       "Total          3793      1843                1806             144"
      ]
     },
     "execution_count": 3,
     "metadata": {},
     "output_type": "execute_result"
    }
   ],
   "source": [
    "# Load \n",
    "tables = pd.read_html(url, header=0, index_col='Provincia', thousands='.')\n",
    "assert len(tables) > 0\n",
    "dfL = tables[0]\n",
    "dfL"
   ]
  },
  {
   "cell_type": "code",
   "execution_count": 4,
   "metadata": {},
   "outputs": [
    {
     "data": {
      "text/html": [
       "<div>\n",
       "<style scoped>\n",
       "    .dataframe tbody tr th:only-of-type {\n",
       "        vertical-align: middle;\n",
       "    }\n",
       "\n",
       "    .dataframe tbody tr th {\n",
       "        vertical-align: top;\n",
       "    }\n",
       "\n",
       "    .dataframe thead th {\n",
       "        text-align: right;\n",
       "    }\n",
       "</style>\n",
       "<table border=\"1\" class=\"dataframe\">\n",
       "  <thead>\n",
       "    <tr style=\"text-align: right;\">\n",
       "      <th></th>\n",
       "      <th>Ingresados</th>\n",
       "      <th>Altas</th>\n",
       "      <th>Bajas</th>\n",
       "      <th>Fecha</th>\n",
       "    </tr>\n",
       "  </thead>\n",
       "  <tbody>\n",
       "    <tr>\n",
       "      <th>Almería</th>\n",
       "      <td>65</td>\n",
       "      <td>0</td>\n",
       "      <td>8</td>\n",
       "      <td>27/03/2020</td>\n",
       "    </tr>\n",
       "    <tr>\n",
       "      <th>Cádiz</th>\n",
       "      <td>117</td>\n",
       "      <td>0</td>\n",
       "      <td>6</td>\n",
       "      <td>27/03/2020</td>\n",
       "    </tr>\n",
       "    <tr>\n",
       "      <th>Córdoba</th>\n",
       "      <td>168</td>\n",
       "      <td>0</td>\n",
       "      <td>8</td>\n",
       "      <td>27/03/2020</td>\n",
       "    </tr>\n",
       "    <tr>\n",
       "      <th>Granada</th>\n",
       "      <td>336</td>\n",
       "      <td>0</td>\n",
       "      <td>34</td>\n",
       "      <td>27/03/2020</td>\n",
       "    </tr>\n",
       "    <tr>\n",
       "      <th>Huelva</th>\n",
       "      <td>60</td>\n",
       "      <td>0</td>\n",
       "      <td>2</td>\n",
       "      <td>27/03/2020</td>\n",
       "    </tr>\n",
       "    <tr>\n",
       "      <th>Jaén</th>\n",
       "      <td>228</td>\n",
       "      <td>0</td>\n",
       "      <td>15</td>\n",
       "      <td>27/03/2020</td>\n",
       "    </tr>\n",
       "    <tr>\n",
       "      <th>Málaga</th>\n",
       "      <td>540</td>\n",
       "      <td>0</td>\n",
       "      <td>46</td>\n",
       "      <td>27/03/2020</td>\n",
       "    </tr>\n",
       "    <tr>\n",
       "      <th>Sevilla</th>\n",
       "      <td>329</td>\n",
       "      <td>0</td>\n",
       "      <td>25</td>\n",
       "      <td>27/03/2020</td>\n",
       "    </tr>\n",
       "    <tr>\n",
       "      <th>Total</th>\n",
       "      <td>1843</td>\n",
       "      <td>0</td>\n",
       "      <td>144</td>\n",
       "      <td>27/03/2020</td>\n",
       "    </tr>\n",
       "  </tbody>\n",
       "</table>\n",
       "</div>"
      ],
      "text/plain": [
       "         Ingresados  Altas  Bajas       Fecha\n",
       "Almería          65      0      8  27/03/2020\n",
       "Cádiz           117      0      6  27/03/2020\n",
       "Córdoba         168      0      8  27/03/2020\n",
       "Granada         336      0     34  27/03/2020\n",
       "Huelva           60      0      2  27/03/2020\n",
       "Jaén            228      0     15  27/03/2020\n",
       "Málaga          540      0     46  27/03/2020\n",
       "Sevilla         329      0     25  27/03/2020\n",
       "Total          1843      0    144  27/03/2020"
      ]
     },
     "execution_count": 4,
     "metadata": {},
     "output_type": "execute_result"
    }
   ],
   "source": [
    "# Prepare\n",
    "provincias = ['Almería', 'Cádiz', 'Córdoba', 'Granada', 'Huelva', 'Jaén', 'Málaga', 'Sevilla', 'Total']\n",
    "dfP = pd.DataFrame(0, index=provincias, columns=['Ingresados','Altas', 'Bajas'])\n",
    "\n",
    "dfP['Ingresados'] = dfL['Ingresos']\n",
    "dfP['Bajas'] = dfL['Fallecimientos']\n",
    "dfP['Fecha'] = fecha\n",
    "\n",
    "dfP"
   ]
  },
  {
   "cell_type": "code",
   "execution_count": 5,
   "metadata": {},
   "outputs": [],
   "source": [
    "# Save to csv\n",
    "dfP.to_csv(filename, encoding='utf-8', header=False, mode='+a', index_label='Provincia')"
   ]
  },
  {
   "cell_type": "code",
   "execution_count": 6,
   "metadata": {},
   "outputs": [],
   "source": [
    "# Load full csv\n",
    "dfCSV = pd.read_csv(filename, index_col='Provincia', thousands='.')"
   ]
  },
  {
   "cell_type": "code",
   "execution_count": 7,
   "metadata": {},
   "outputs": [],
   "source": [
    "# Select & calc\n",
    "title = 'COVID19 Andalucía'\n",
    "total = dfCSV.loc['Total']['Ingresados'].pct_change() * 100\n",
    "huelva = dfCSV.loc['Huelva']['Ingresados'].pct_change() * 100\n",
    "malaga  = dfCSV.loc['Málaga']['Ingresados'].pct_change() * 100\n",
    "# x Axis\n",
    "xA = dfCSV.loc['Total']['Fecha']"
   ]
  },
  {
   "cell_type": "code",
   "execution_count": 8,
   "metadata": {},
   "outputs": [
    {
     "data": {
      "image/png": "[encoded data removed]",
      "text/plain": [
       "<Figure size 432x288 with 1 Axes>"
      ]
     },
     "metadata": {
      "needs_background": "light"
     },
     "output_type": "display_data"
    }
   ],
   "source": [
    "# Draw \n",
    "plt.plot(xA, total, label='% Variación Ingresos Total', linewidth=2)\n",
    "plt.plot(xA, huelva, label='% Variación Ingresos Huelva', linewidth=2)\n",
    "plt.plot(xA, malaga, label='% Variación Ingresos Málaga', linewidth=2)\n",
    "plt.title(title)\n",
    "plt.ylabel('% Variación Ingresos')\n",
    "plt.xticks(rotation=90)\n",
    "plt.grid(True)\n",
    "plt.legend()\n",
    "plt.show()"
   ]
  },
  {
   "cell_type": "code",
   "execution_count": null,
   "metadata": {},
   "outputs": [],
   "source": []
  }
 ],
 "metadata": {
  "kernelspec": {
   "display_name": "Python 3",
   "language": "python",
   "name": "python3"
  },
  "language_info": {
   "codemirror_mode": {
    "name": "ipython",
    "version": 3
   },
   "file_extension": ".py",
   "mimetype": "text/x-python",
   "name": "python",
   "nbconvert_exporter": "python",
   "pygments_lexer": "ipython3",
   "version": "3.7.6"
  }
 },
 "nbformat": 4,
 "nbformat_minor": 2
}
