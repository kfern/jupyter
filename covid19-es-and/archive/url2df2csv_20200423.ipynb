{
 "cells": [
  {
   "cell_type": "code",
   "execution_count": 1,
   "metadata": {},
   "outputs": [],
   "source": [
    "import pandas as pd\n",
    "import numpy as np\n",
    "import matplotlib.pyplot as plt\n",
    "import seaborn as sns"
   ]
  },
  {
   "cell_type": "markdown",
   "metadata": {},
   "source": [
    "https://www.juntadeandalucia.es/organismos/saludyfamilias/actualidad/noticias.html"
   ]
  },
  {
   "cell_type": "code",
   "execution_count": 2,
   "metadata": {},
   "outputs": [],
   "source": [
    "filename = 'covid19-es-and.csv'\n",
    "fecha = '23/04/2020'\n",
    "url = 'https://www.juntadeandalucia.es/organismos/saludyfamilias/actualidad/noticias/detalle/234948.html'"
   ]
  },
  {
   "cell_type": "code",
   "execution_count": 3,
   "metadata": {},
   "outputs": [],
   "source": [
    "# Load\n",
    "tables = pd.read_html(url, header=0, thousands='.')\n",
    "assert len(tables) > 0\n",
    "dfL = tables[0]"
   ]
  },
  {
   "cell_type": "code",
   "execution_count": 4,
   "metadata": {},
   "outputs": [
    {
     "data": {
      "text/html": [
       "<div>\n",
       "<style scoped>\n",
       "    .dataframe tbody tr th:only-of-type {\n",
       "        vertical-align: middle;\n",
       "    }\n",
       "\n",
       "    .dataframe tbody tr th {\n",
       "        vertical-align: top;\n",
       "    }\n",
       "\n",
       "    .dataframe thead th {\n",
       "        text-align: right;\n",
       "    }\n",
       "</style>\n",
       "<table border=\"1\" class=\"dataframe\">\n",
       "  <thead>\n",
       "    <tr style=\"text-align: right;\">\n",
       "      <th></th>\n",
       "      <th>Ingresados</th>\n",
       "      <th>Bajas</th>\n",
       "      <th>Altas</th>\n",
       "      <th>Fecha</th>\n",
       "    </tr>\n",
       "    <tr>\n",
       "      <th>Provincia</th>\n",
       "      <th></th>\n",
       "      <th></th>\n",
       "      <th></th>\n",
       "      <th></th>\n",
       "    </tr>\n",
       "  </thead>\n",
       "  <tbody>\n",
       "    <tr>\n",
       "      <th>Almería</th>\n",
       "      <td>198</td>\n",
       "      <td>44</td>\n",
       "      <td>185</td>\n",
       "      <td>23/04/2020</td>\n",
       "    </tr>\n",
       "    <tr>\n",
       "      <th>Cádiz</th>\n",
       "      <td>500</td>\n",
       "      <td>88</td>\n",
       "      <td>314</td>\n",
       "      <td>23/04/2020</td>\n",
       "    </tr>\n",
       "    <tr>\n",
       "      <th>Córdoba</th>\n",
       "      <td>506</td>\n",
       "      <td>83</td>\n",
       "      <td>400</td>\n",
       "      <td>23/04/2020</td>\n",
       "    </tr>\n",
       "    <tr>\n",
       "      <th>Granada</th>\n",
       "      <td>1093</td>\n",
       "      <td>219</td>\n",
       "      <td>947</td>\n",
       "      <td>23/04/2020</td>\n",
       "    </tr>\n",
       "    <tr>\n",
       "      <th>Huelva</th>\n",
       "      <td>214</td>\n",
       "      <td>35</td>\n",
       "      <td>136</td>\n",
       "      <td>23/04/2020</td>\n",
       "    </tr>\n",
       "    <tr>\n",
       "      <th>Jaén</th>\n",
       "      <td>663</td>\n",
       "      <td>147</td>\n",
       "      <td>263</td>\n",
       "      <td>23/04/2020</td>\n",
       "    </tr>\n",
       "    <tr>\n",
       "      <th>Málaga</th>\n",
       "      <td>1377</td>\n",
       "      <td>237</td>\n",
       "      <td>1054</td>\n",
       "      <td>23/04/2020</td>\n",
       "    </tr>\n",
       "    <tr>\n",
       "      <th>Sevilla</th>\n",
       "      <td>1065</td>\n",
       "      <td>226</td>\n",
       "      <td>548</td>\n",
       "      <td>23/04/2020</td>\n",
       "    </tr>\n",
       "    <tr>\n",
       "      <th>Total</th>\n",
       "      <td>5616</td>\n",
       "      <td>1079</td>\n",
       "      <td>3847</td>\n",
       "      <td>23/04/2020</td>\n",
       "    </tr>\n",
       "  </tbody>\n",
       "</table>\n",
       "</div>"
      ],
      "text/plain": [
       "           Ingresados  Bajas  Altas       Fecha\n",
       "Provincia                                      \n",
       "Almería           198     44    185  23/04/2020\n",
       "Cádiz             500     88    314  23/04/2020\n",
       "Córdoba           506     83    400  23/04/2020\n",
       "Granada          1093    219    947  23/04/2020\n",
       "Huelva            214     35    136  23/04/2020\n",
       "Jaén              663    147    263  23/04/2020\n",
       "Málaga           1377    237   1054  23/04/2020\n",
       "Sevilla          1065    226    548  23/04/2020\n",
       "Total            5616   1079   3847  23/04/2020"
      ]
     },
     "execution_count": 4,
     "metadata": {},
     "output_type": "execute_result"
    }
   ],
   "source": [
    "# Prepare\n",
    "dfL.set_index(['Provincia'], inplace=True)\n",
    "del dfL['Positivo']\n",
    "del dfL['UCI']\n",
    "dfL.rename(columns={'Hospitalización': 'Ingresados', 'Curados': 'Altas', 'Fallecimientos': 'Bajas'}, inplace=True)\n",
    "dfL['Fecha'] = fecha\n",
    "dfL"
   ]
  },
  {
   "cell_type": "code",
   "execution_count": 5,
   "metadata": {},
   "outputs": [],
   "source": [
    "# Save to csv\n",
    "campos_ordenados = ['Ingresados', 'Altas', 'Bajas', 'Fecha']\n",
    "dfL[campos_ordenados].to_csv(filename, encoding='utf-8', header=False, mode='+a', index_label='Provincia')"
   ]
  },
  {
   "cell_type": "code",
   "execution_count": 6,
   "metadata": {},
   "outputs": [],
   "source": [
    "# Load full csv\n",
    "df = pd.read_csv(filename, thousands='.')"
   ]
  },
  {
   "cell_type": "code",
   "execution_count": 7,
   "metadata": {},
   "outputs": [],
   "source": [
    "# Prepare\n",
    "df['Fecha'] = pd.to_datetime(df['Fecha'], dayfirst=True)\n",
    "last_fecha = df['Fecha'].max()\n",
    "df.set_index(['Provincia', 'Fecha'], inplace=True)\n",
    "df.sort_index(inplace=True)"
   ]
  },
  {
   "cell_type": "code",
   "execution_count": 8,
   "metadata": {},
   "outputs": [
    {
     "data": {
      "text/html": [
       "<div>\n",
       "<style scoped>\n",
       "    .dataframe tbody tr th:only-of-type {\n",
       "        vertical-align: middle;\n",
       "    }\n",
       "\n",
       "    .dataframe tbody tr th {\n",
       "        vertical-align: top;\n",
       "    }\n",
       "\n",
       "    .dataframe thead th {\n",
       "        text-align: right;\n",
       "    }\n",
       "</style>\n",
       "<table border=\"1\" class=\"dataframe\">\n",
       "  <thead>\n",
       "    <tr style=\"text-align: right;\">\n",
       "      <th></th>\n",
       "      <th></th>\n",
       "      <th>Ingresados</th>\n",
       "      <th>Altas</th>\n",
       "      <th>Bajas</th>\n",
       "    </tr>\n",
       "    <tr>\n",
       "      <th>Provincia</th>\n",
       "      <th>Fecha</th>\n",
       "      <th></th>\n",
       "      <th></th>\n",
       "      <th></th>\n",
       "    </tr>\n",
       "  </thead>\n",
       "  <tbody>\n",
       "    <tr>\n",
       "      <th rowspan=\"5\" valign=\"top\">Total</th>\n",
       "      <th>2020-04-19</th>\n",
       "      <td>1.554016</td>\n",
       "      <td>5.698779</td>\n",
       "      <td>2.688728</td>\n",
       "    </tr>\n",
       "    <tr>\n",
       "      <th>2020-04-20</th>\n",
       "      <td>0.903392</td>\n",
       "      <td>3.626444</td>\n",
       "      <td>2.014099</td>\n",
       "    </tr>\n",
       "    <tr>\n",
       "      <th>2020-04-21</th>\n",
       "      <td>0.657775</td>\n",
       "      <td>5.636420</td>\n",
       "      <td>0.394867</td>\n",
       "    </tr>\n",
       "    <tr>\n",
       "      <th>2020-04-22</th>\n",
       "      <td>1.016518</td>\n",
       "      <td>4.632073</td>\n",
       "      <td>3.244838</td>\n",
       "    </tr>\n",
       "    <tr>\n",
       "      <th>2020-04-23</th>\n",
       "      <td>0.916442</td>\n",
       "      <td>7.789297</td>\n",
       "      <td>2.761905</td>\n",
       "    </tr>\n",
       "  </tbody>\n",
       "</table>\n",
       "</div>"
      ],
      "text/plain": [
       "                      Ingresados     Altas     Bajas\n",
       "Provincia Fecha                                     \n",
       "Total     2020-04-19    1.554016  5.698779  2.688728\n",
       "          2020-04-20    0.903392  3.626444  2.014099\n",
       "          2020-04-21    0.657775  5.636420  0.394867\n",
       "          2020-04-22    1.016518  4.632073  3.244838\n",
       "          2020-04-23    0.916442  7.789297  2.761905"
      ]
     },
     "execution_count": 8,
     "metadata": {},
     "output_type": "execute_result"
    }
   ],
   "source": [
    "# Variaciones con respecto al día anterior\n",
    "dfV = df.groupby(level='Provincia').pct_change() * 100\n",
    "dfV.tail()"
   ]
  },
  {
   "cell_type": "code",
   "execution_count": 9,
   "metadata": {},
   "outputs": [],
   "source": [
    "# Para seleccionar todas las filas de una o varias fechas hay que usar un trick ya que : no se puede usar en este caso\n",
    "dfG = dfV.loc[(slice(None), [last_fecha]), :]"
   ]
  },
  {
   "cell_type": "code",
   "execution_count": 10,
   "metadata": {},
   "outputs": [
    {
     "data": {
      "image/png": "[encoded data removed]",
      "text/plain": [
       "<Figure size 1008x504 with 2 Axes>"
      ]
     },
     "metadata": {
      "needs_background": "light"
     },
     "output_type": "display_data"
    }
   ],
   "source": [
    "# Set the width and height of the figure\n",
    "plt.figure(figsize=(14,7))\n",
    "\n",
    "# Add title\n",
    "plt.title(last_fecha.strftime('%d-%m-%Y'))\n",
    "\n",
    "# Invertir los colores\n",
    "cmap = sns.cm.rocket_r\n",
    "\n",
    "# Heatmap \n",
    "sns.heatmap(data=dfG, annot=True, cmap=cmap)\n",
    "\n",
    "# Add label for horizontal axis\n",
    "plt.xlabel('% Variación con respecto al día anterior')\n",
    "plt.show()"
   ]
  },
  {
   "cell_type": "code",
   "execution_count": null,
   "metadata": {},
   "outputs": [],
   "source": []
  }
 ],
 "metadata": {
  "kernelspec": {
   "display_name": "Python 3",
   "language": "python",
   "name": "python3"
  },
  "language_info": {
   "codemirror_mode": {
    "name": "ipython",
    "version": 3
   },
   "file_extension": ".py",
   "mimetype": "text/x-python",
   "name": "python",
   "nbconvert_exporter": "python",
   "pygments_lexer": "ipython3",
   "version": "3.7.6"
  }
 },
 "nbformat": 4,
 "nbformat_minor": 2
}
