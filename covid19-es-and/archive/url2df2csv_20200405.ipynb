{
 "cells": [
  {
   "cell_type": "code",
   "execution_count": 1,
   "metadata": {},
   "outputs": [],
   "source": [
    "import pandas as pd\n",
    "import numpy as np\n",
    "import matplotlib.pyplot as plt"
   ]
  },
  {
   "cell_type": "markdown",
   "metadata": {},
   "source": [
    "https://www.juntadeandalucia.es/organismos/saludyfamilias/actualidad/noticias.html"
   ]
  },
  {
   "cell_type": "code",
   "execution_count": 2,
   "metadata": {},
   "outputs": [],
   "source": [
    "filename = 'covid19-es-and.csv'\n",
    "fecha = '05/04/2020'\n",
    "url = 'https://www.juntadeandalucia.es/organismos/saludyfamilias/actualidad/noticias/detalle/234183.html'"
   ]
  },
  {
   "cell_type": "code",
   "execution_count": 3,
   "metadata": {},
   "outputs": [
    {
     "data": {
      "text/html": [
       "<div>\n",
       "<style scoped>\n",
       "    .dataframe tbody tr th:only-of-type {\n",
       "        vertical-align: middle;\n",
       "    }\n",
       "\n",
       "    .dataframe tbody tr th {\n",
       "        vertical-align: top;\n",
       "    }\n",
       "\n",
       "    .dataframe thead th {\n",
       "        text-align: right;\n",
       "    }\n",
       "</style>\n",
       "<table border=\"1\" class=\"dataframe\">\n",
       "  <thead>\n",
       "    <tr style=\"text-align: right;\">\n",
       "      <th></th>\n",
       "      <th>Positivo</th>\n",
       "      <th>Casos que han precisado hospitalización</th>\n",
       "      <th>Casos que han precisado ingreso UCI</th>\n",
       "      <th>Fallecimientos</th>\n",
       "      <th>Curados</th>\n",
       "    </tr>\n",
       "    <tr>\n",
       "      <th>Provincia</th>\n",
       "      <th></th>\n",
       "      <th></th>\n",
       "      <th></th>\n",
       "      <th></th>\n",
       "      <th></th>\n",
       "    </tr>\n",
       "  </thead>\n",
       "  <tbody>\n",
       "    <tr>\n",
       "      <th>Almería</th>\n",
       "      <td>346</td>\n",
       "      <td>151</td>\n",
       "      <td>30</td>\n",
       "      <td>22</td>\n",
       "      <td>39</td>\n",
       "    </tr>\n",
       "    <tr>\n",
       "      <th>Cádiz</th>\n",
       "      <td>846</td>\n",
       "      <td>365</td>\n",
       "      <td>49</td>\n",
       "      <td>31</td>\n",
       "      <td>88</td>\n",
       "    </tr>\n",
       "    <tr>\n",
       "      <th>Córdoba</th>\n",
       "      <td>974</td>\n",
       "      <td>385</td>\n",
       "      <td>46</td>\n",
       "      <td>32</td>\n",
       "      <td>66</td>\n",
       "    </tr>\n",
       "    <tr>\n",
       "      <th>Granada</th>\n",
       "      <td>1477</td>\n",
       "      <td>787</td>\n",
       "      <td>84</td>\n",
       "      <td>114</td>\n",
       "      <td>101</td>\n",
       "    </tr>\n",
       "    <tr>\n",
       "      <th>Huelva</th>\n",
       "      <td>279</td>\n",
       "      <td>140</td>\n",
       "      <td>25</td>\n",
       "      <td>11</td>\n",
       "      <td>18</td>\n",
       "    </tr>\n",
       "    <tr>\n",
       "      <th>Jaén</th>\n",
       "      <td>914</td>\n",
       "      <td>475</td>\n",
       "      <td>46</td>\n",
       "      <td>49</td>\n",
       "      <td>60</td>\n",
       "    </tr>\n",
       "    <tr>\n",
       "      <th>Málaga</th>\n",
       "      <td>1863</td>\n",
       "      <td>1057</td>\n",
       "      <td>94</td>\n",
       "      <td>118</td>\n",
       "      <td>211</td>\n",
       "    </tr>\n",
       "    <tr>\n",
       "      <th>Sevilla</th>\n",
       "      <td>1602</td>\n",
       "      <td>747</td>\n",
       "      <td>100</td>\n",
       "      <td>93</td>\n",
       "      <td>82</td>\n",
       "    </tr>\n",
       "    <tr>\n",
       "      <th>Total</th>\n",
       "      <td>8301</td>\n",
       "      <td>4107</td>\n",
       "      <td>474</td>\n",
       "      <td>470</td>\n",
       "      <td>665</td>\n",
       "    </tr>\n",
       "  </tbody>\n",
       "</table>\n",
       "</div>"
      ],
      "text/plain": [
       "           Positivo  Casos que han precisado hospitalización  \\\n",
       "Provincia                                                      \n",
       "Almería         346                                      151   \n",
       "Cádiz           846                                      365   \n",
       "Córdoba         974                                      385   \n",
       "Granada        1477                                      787   \n",
       "Huelva          279                                      140   \n",
       "Jaén            914                                      475   \n",
       "Málaga         1863                                     1057   \n",
       "Sevilla        1602                                      747   \n",
       "Total          8301                                     4107   \n",
       "\n",
       "           Casos que han precisado ingreso UCI  Fallecimientos  Curados  \n",
       "Provincia                                                                \n",
       "Almería                                     30              22       39  \n",
       "Cádiz                                       49              31       88  \n",
       "Córdoba                                     46              32       66  \n",
       "Granada                                     84             114      101  \n",
       "Huelva                                      25              11       18  \n",
       "Jaén                                        46              49       60  \n",
       "Málaga                                      94             118      211  \n",
       "Sevilla                                    100              93       82  \n",
       "Total                                      474             470      665  "
      ]
     },
     "execution_count": 3,
     "metadata": {},
     "output_type": "execute_result"
    }
   ],
   "source": [
    "# Load \n",
    "tables = pd.read_html(url, header=0, index_col='Provincia', thousands='.')\n",
    "assert len(tables) > 0\n",
    "dfL = tables[0]\n",
    "dfL"
   ]
  },
  {
   "cell_type": "code",
   "execution_count": 4,
   "metadata": {},
   "outputs": [
    {
     "data": {
      "text/html": [
       "<div>\n",
       "<style scoped>\n",
       "    .dataframe tbody tr th:only-of-type {\n",
       "        vertical-align: middle;\n",
       "    }\n",
       "\n",
       "    .dataframe tbody tr th {\n",
       "        vertical-align: top;\n",
       "    }\n",
       "\n",
       "    .dataframe thead th {\n",
       "        text-align: right;\n",
       "    }\n",
       "</style>\n",
       "<table border=\"1\" class=\"dataframe\">\n",
       "  <thead>\n",
       "    <tr style=\"text-align: right;\">\n",
       "      <th></th>\n",
       "      <th>Ingresados</th>\n",
       "      <th>Altas</th>\n",
       "      <th>Bajas</th>\n",
       "      <th>Fecha</th>\n",
       "    </tr>\n",
       "  </thead>\n",
       "  <tbody>\n",
       "    <tr>\n",
       "      <th>Almería</th>\n",
       "      <td>151</td>\n",
       "      <td>39</td>\n",
       "      <td>22</td>\n",
       "      <td>05/04/2020</td>\n",
       "    </tr>\n",
       "    <tr>\n",
       "      <th>Cádiz</th>\n",
       "      <td>365</td>\n",
       "      <td>88</td>\n",
       "      <td>31</td>\n",
       "      <td>05/04/2020</td>\n",
       "    </tr>\n",
       "    <tr>\n",
       "      <th>Córdoba</th>\n",
       "      <td>385</td>\n",
       "      <td>66</td>\n",
       "      <td>32</td>\n",
       "      <td>05/04/2020</td>\n",
       "    </tr>\n",
       "    <tr>\n",
       "      <th>Granada</th>\n",
       "      <td>787</td>\n",
       "      <td>101</td>\n",
       "      <td>114</td>\n",
       "      <td>05/04/2020</td>\n",
       "    </tr>\n",
       "    <tr>\n",
       "      <th>Huelva</th>\n",
       "      <td>140</td>\n",
       "      <td>18</td>\n",
       "      <td>11</td>\n",
       "      <td>05/04/2020</td>\n",
       "    </tr>\n",
       "    <tr>\n",
       "      <th>Jaén</th>\n",
       "      <td>475</td>\n",
       "      <td>60</td>\n",
       "      <td>49</td>\n",
       "      <td>05/04/2020</td>\n",
       "    </tr>\n",
       "    <tr>\n",
       "      <th>Málaga</th>\n",
       "      <td>1057</td>\n",
       "      <td>211</td>\n",
       "      <td>118</td>\n",
       "      <td>05/04/2020</td>\n",
       "    </tr>\n",
       "    <tr>\n",
       "      <th>Sevilla</th>\n",
       "      <td>747</td>\n",
       "      <td>82</td>\n",
       "      <td>93</td>\n",
       "      <td>05/04/2020</td>\n",
       "    </tr>\n",
       "    <tr>\n",
       "      <th>Total</th>\n",
       "      <td>4107</td>\n",
       "      <td>665</td>\n",
       "      <td>470</td>\n",
       "      <td>05/04/2020</td>\n",
       "    </tr>\n",
       "  </tbody>\n",
       "</table>\n",
       "</div>"
      ],
      "text/plain": [
       "         Ingresados  Altas  Bajas       Fecha\n",
       "Almería         151     39     22  05/04/2020\n",
       "Cádiz           365     88     31  05/04/2020\n",
       "Córdoba         385     66     32  05/04/2020\n",
       "Granada         787    101    114  05/04/2020\n",
       "Huelva          140     18     11  05/04/2020\n",
       "Jaén            475     60     49  05/04/2020\n",
       "Málaga         1057    211    118  05/04/2020\n",
       "Sevilla         747     82     93  05/04/2020\n",
       "Total          4107    665    470  05/04/2020"
      ]
     },
     "execution_count": 4,
     "metadata": {},
     "output_type": "execute_result"
    }
   ],
   "source": [
    "# Prepare\n",
    "provincias = ['Almería', 'Cádiz', 'Córdoba', 'Granada', 'Huelva', 'Jaén', 'Málaga', 'Sevilla', 'Total']\n",
    "dfP = pd.DataFrame(0, index=provincias, columns=['Ingresados','Altas', 'Bajas'])\n",
    "\n",
    "dfP['Ingresados'] = dfL['Casos que han precisado hospitalización']\n",
    "dfP['Altas'] = dfL['Curados']\n",
    "dfP['Bajas'] = dfL['Fallecimientos']\n",
    "dfP['Fecha'] = fecha\n",
    "\n",
    "dfP"
   ]
  },
  {
   "cell_type": "code",
   "execution_count": 5,
   "metadata": {},
   "outputs": [],
   "source": [
    "# Save to csv\n",
    "dfP.to_csv(filename, encoding='utf-8', header=False, mode='+a', index_label='Provincia')"
   ]
  },
  {
   "cell_type": "code",
   "execution_count": 6,
   "metadata": {},
   "outputs": [],
   "source": [
    "# Load full csv\n",
    "dfCSV = pd.read_csv(filename, index_col='Provincia', thousands='.')"
   ]
  },
  {
   "cell_type": "code",
   "execution_count": 7,
   "metadata": {},
   "outputs": [],
   "source": [
    "# Select & calc\n",
    "title = 'COVID19 Andalucía'\n",
    "total = dfCSV.loc['Total']['Ingresados'].pct_change() * 100\n",
    "huelva = dfCSV.loc['Huelva']['Ingresados'].pct_change() * 100\n",
    "malaga  = dfCSV.loc['Málaga']['Ingresados'].pct_change() * 100\n",
    "# x Axis\n",
    "xA = dfCSV.loc['Total']['Fecha']"
   ]
  },
  {
   "cell_type": "code",
   "execution_count": 8,
   "metadata": {},
   "outputs": [
    {
     "data": {
      "image/png": "[encoded data removed]",
      "text/plain": [
       "<Figure size 432x288 with 1 Axes>"
      ]
     },
     "metadata": {
      "needs_background": "light"
     },
     "output_type": "display_data"
    }
   ],
   "source": [
    "# Draw \n",
    "plt.plot(xA, total, label='% Variación Ingresos Total', linewidth=2)\n",
    "plt.plot(xA, huelva, label='% Variación Ingresos Huelva', linewidth=2)\n",
    "plt.plot(xA, malaga, label='% Variación Ingresos Málaga', linewidth=2)\n",
    "plt.title(title)\n",
    "plt.ylabel('% Variación Ingresos')\n",
    "plt.xticks(rotation=90)\n",
    "plt.grid(True)\n",
    "plt.legend()\n",
    "plt.show()"
   ]
  },
  {
   "cell_type": "code",
   "execution_count": 9,
   "metadata": {},
   "outputs": [
    {
     "data": {
      "text/plain": [
       "<matplotlib.axes._subplots.AxesSubplot at 0x7f5a264466d0>"
      ]
     },
     "execution_count": 9,
     "metadata": {},
     "output_type": "execute_result"
    },
    {
     "data": {
      "image/png": "[encoded data removed]",
      "text/plain": [
       "<Figure size 432x288 with 1 Axes>"
      ]
     },
     "metadata": {
      "needs_background": "light"
     },
     "output_type": "display_data"
    }
   ],
   "source": [
    "huelva.plot()"
   ]
  },
  {
   "cell_type": "code",
   "execution_count": null,
   "metadata": {},
   "outputs": [],
   "source": []
  }
 ],
 "metadata": {
  "kernelspec": {
   "display_name": "Python 3",
   "language": "python",
   "name": "python3"
  },
  "language_info": {
   "codemirror_mode": {
    "name": "ipython",
    "version": 3
   },
   "file_extension": ".py",
   "mimetype": "text/x-python",
   "name": "python",
   "nbconvert_exporter": "python",
   "pygments_lexer": "ipython3",
   "version": "3.7.6"
  }
 },
 "nbformat": 4,
 "nbformat_minor": 2
}
