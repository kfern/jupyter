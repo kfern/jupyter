{
 "cells": [
  {
   "cell_type": "code",
   "execution_count": 1,
   "metadata": {},
   "outputs": [],
   "source": [
    "import pandas as pd\n",
    "import matplotlib.pyplot as plt"
   ]
  },
  {
   "cell_type": "code",
   "execution_count": 2,
   "metadata": {},
   "outputs": [
    {
     "data": {
      "text/html": [
       "<div>\n",
       "<style scoped>\n",
       "    .dataframe tbody tr th:only-of-type {\n",
       "        vertical-align: middle;\n",
       "    }\n",
       "\n",
       "    .dataframe tbody tr th {\n",
       "        vertical-align: top;\n",
       "    }\n",
       "\n",
       "    .dataframe thead th {\n",
       "        text-align: right;\n",
       "    }\n",
       "</style>\n",
       "<table border=\"1\" class=\"dataframe\">\n",
       "  <thead>\n",
       "    <tr style=\"text-align: right;\">\n",
       "      <th></th>\n",
       "      <th>Ingresados</th>\n",
       "      <th>Altas</th>\n",
       "      <th>Bajas</th>\n",
       "      <th>Fecha</th>\n",
       "    </tr>\n",
       "    <tr>\n",
       "      <th>Provincia</th>\n",
       "      <th></th>\n",
       "      <th></th>\n",
       "      <th></th>\n",
       "      <th></th>\n",
       "    </tr>\n",
       "  </thead>\n",
       "  <tbody>\n",
       "    <tr>\n",
       "      <th>Total</th>\n",
       "      <td>58</td>\n",
       "      <td>1</td>\n",
       "      <td>0</td>\n",
       "      <td>13/03/2020</td>\n",
       "    </tr>\n",
       "    <tr>\n",
       "      <th>Total</th>\n",
       "      <td>93</td>\n",
       "      <td>1</td>\n",
       "      <td>3</td>\n",
       "      <td>14/03/2020</td>\n",
       "    </tr>\n",
       "    <tr>\n",
       "      <th>Total</th>\n",
       "      <td>134</td>\n",
       "      <td>1</td>\n",
       "      <td>6</td>\n",
       "      <td>15/03/2020</td>\n",
       "    </tr>\n",
       "    <tr>\n",
       "      <th>Total</th>\n",
       "      <td>160</td>\n",
       "      <td>1</td>\n",
       "      <td>7</td>\n",
       "      <td>16/03/2020</td>\n",
       "    </tr>\n",
       "    <tr>\n",
       "      <th>Total</th>\n",
       "      <td>200</td>\n",
       "      <td>1</td>\n",
       "      <td>11</td>\n",
       "      <td>17/03/2020</td>\n",
       "    </tr>\n",
       "    <tr>\n",
       "      <th>Total</th>\n",
       "      <td>223</td>\n",
       "      <td>1</td>\n",
       "      <td>19</td>\n",
       "      <td>18/03/2020</td>\n",
       "    </tr>\n",
       "    <tr>\n",
       "      <th>Total</th>\n",
       "      <td>307</td>\n",
       "      <td>0</td>\n",
       "      <td>23</td>\n",
       "      <td>19/03/2020</td>\n",
       "    </tr>\n",
       "    <tr>\n",
       "      <th>Total</th>\n",
       "      <td>367</td>\n",
       "      <td>0</td>\n",
       "      <td>30</td>\n",
       "      <td>20/03/2020</td>\n",
       "    </tr>\n",
       "    <tr>\n",
       "      <th>Total</th>\n",
       "      <td>503</td>\n",
       "      <td>0</td>\n",
       "      <td>40</td>\n",
       "      <td>21/03/2020</td>\n",
       "    </tr>\n",
       "    <tr>\n",
       "      <th>Total</th>\n",
       "      <td>616</td>\n",
       "      <td>0</td>\n",
       "      <td>47</td>\n",
       "      <td>22/03/2020</td>\n",
       "    </tr>\n",
       "  </tbody>\n",
       "</table>\n",
       "</div>"
      ],
      "text/plain": [
       "           Ingresados  Altas  Bajas       Fecha\n",
       "Provincia                                      \n",
       "Total              58      1      0  13/03/2020\n",
       "Total              93      1      3  14/03/2020\n",
       "Total             134      1      6  15/03/2020\n",
       "Total             160      1      7  16/03/2020\n",
       "Total             200      1     11  17/03/2020\n",
       "Total             223      1     19  18/03/2020\n",
       "Total             307      0     23  19/03/2020\n",
       "Total             367      0     30  20/03/2020\n",
       "Total             503      0     40  21/03/2020\n",
       "Total             616      0     47  22/03/2020"
      ]
     },
     "execution_count": 2,
     "metadata": {},
     "output_type": "execute_result"
    }
   ],
   "source": [
    "# Load csv \n",
    "filename = 'covid19-es-and.csv'\n",
    "dfCSV = pd.read_csv(filename, index_col='Provincia')\n",
    "dfCSV.loc['Total']"
   ]
  },
  {
   "cell_type": "code",
   "execution_count": 3,
   "metadata": {},
   "outputs": [],
   "source": [
    "# Data selection\n",
    "selectFilter = 'Total'\n",
    "selectTitle = 'COVID19 Andalucía'\n",
    "xA = dfCSV.loc[selectFilter]['Fecha']\n",
    "yIngresados = dfCSV.loc[selectFilter]['Ingresados']"
   ]
  },
  {
   "cell_type": "code",
   "execution_count": 4,
   "metadata": {
    "scrolled": true
   },
   "outputs": [
    {
     "data": {
      "image/png": "[encoded data removed]",
      "text/plain": [
       "<Figure size 432x288 with 1 Axes>"
      ]
     },
     "metadata": {
      "needs_background": "light"
     },
     "output_type": "display_data"
    }
   ],
   "source": [
    "# Draw \n",
    "plt.plot(xA, yIngresados, label='Ingresados', linewidth=3)\n",
    "plt.title(selectTitle)\n",
    "plt.ylabel('Nº Casos')\n",
    "plt.xticks(rotation=90)\n",
    "plt.grid(True)\n",
    "plt.legend()\n",
    "plt.show()"
   ]
  }
 ],
 "metadata": {
  "kernelspec": {
   "display_name": "Python 3",
   "language": "python",
   "name": "python3"
  },
  "language_info": {
   "codemirror_mode": {
    "name": "ipython",
    "version": 3
   },
   "file_extension": ".py",
   "mimetype": "text/x-python",
   "name": "python",
   "nbconvert_exporter": "python",
   "pygments_lexer": "ipython3",
   "version": "3.7.6"
  }
 },
 "nbformat": 4,
 "nbformat_minor": 2
}
