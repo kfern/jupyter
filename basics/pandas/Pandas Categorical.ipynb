{
 "cells": [
  {
   "cell_type": "code",
   "execution_count": 1,
   "metadata": {},
   "outputs": [],
   "source": [
    "# Imports\n",
    "import pandas as pd\n",
    "import matplotlib.pyplot as plt\n",
    "%matplotlib inline"
   ]
  },
  {
   "cell_type": "code",
   "execution_count": 2,
   "metadata": {},
   "outputs": [],
   "source": [
    "# Obtener los datos en formato csv y convertirlos a pandas DataFrame\n",
    "url = 'https://raw.githubusercontent.com/kfern/jupyter/next/covid19-es-and/covid19-es-and.csv'\n",
    "df = pd.read_csv(url)"
   ]
  },
  {
   "cell_type": "code",
   "execution_count": 3,
   "metadata": {},
   "outputs": [
    {
     "data": {
      "text/html": [
       "<div>\n",
       "<style scoped>\n",
       "    .dataframe tbody tr th:only-of-type {\n",
       "        vertical-align: middle;\n",
       "    }\n",
       "\n",
       "    .dataframe tbody tr th {\n",
       "        vertical-align: top;\n",
       "    }\n",
       "\n",
       "    .dataframe thead th {\n",
       "        text-align: right;\n",
       "    }\n",
       "</style>\n",
       "<table border=\"1\" class=\"dataframe\">\n",
       "  <thead>\n",
       "    <tr style=\"text-align: right;\">\n",
       "      <th></th>\n",
       "      <th>Provincia</th>\n",
       "      <th>Ingresados</th>\n",
       "      <th>Altas</th>\n",
       "      <th>Bajas</th>\n",
       "      <th>Fecha</th>\n",
       "    </tr>\n",
       "  </thead>\n",
       "  <tbody>\n",
       "    <tr>\n",
       "      <th>364</th>\n",
       "      <td>Huelva</td>\n",
       "      <td>212</td>\n",
       "      <td>130</td>\n",
       "      <td>35</td>\n",
       "      <td>22/04/2020</td>\n",
       "    </tr>\n",
       "    <tr>\n",
       "      <th>365</th>\n",
       "      <td>Jaén</td>\n",
       "      <td>650</td>\n",
       "      <td>260</td>\n",
       "      <td>141</td>\n",
       "      <td>22/04/2020</td>\n",
       "    </tr>\n",
       "    <tr>\n",
       "      <th>366</th>\n",
       "      <td>Málaga</td>\n",
       "      <td>1376</td>\n",
       "      <td>956</td>\n",
       "      <td>232</td>\n",
       "      <td>22/04/2020</td>\n",
       "    </tr>\n",
       "    <tr>\n",
       "      <th>367</th>\n",
       "      <td>Sevilla</td>\n",
       "      <td>1052</td>\n",
       "      <td>505</td>\n",
       "      <td>218</td>\n",
       "      <td>22/04/2020</td>\n",
       "    </tr>\n",
       "    <tr>\n",
       "      <th>368</th>\n",
       "      <td>Total</td>\n",
       "      <td>5565</td>\n",
       "      <td>3569</td>\n",
       "      <td>1050</td>\n",
       "      <td>22/04/2020</td>\n",
       "    </tr>\n",
       "  </tbody>\n",
       "</table>\n",
       "</div>"
      ],
      "text/plain": [
       "    Provincia  Ingresados  Altas  Bajas       Fecha\n",
       "364    Huelva         212    130     35  22/04/2020\n",
       "365      Jaén         650    260    141  22/04/2020\n",
       "366    Málaga        1376    956    232  22/04/2020\n",
       "367   Sevilla        1052    505    218  22/04/2020\n",
       "368     Total        5565   3569   1050  22/04/2020"
      ]
     },
     "execution_count": 3,
     "metadata": {},
     "output_type": "execute_result"
    }
   ],
   "source": [
    "df.tail()"
   ]
  },
  {
   "cell_type": "code",
   "execution_count": 4,
   "metadata": {},
   "outputs": [],
   "source": [
    "# Obtener la lista de elementos de la categoría\n",
    "c_provincia = pd.Categorical(df['Provincia'].unique())"
   ]
  },
  {
   "cell_type": "code",
   "execution_count": 5,
   "metadata": {},
   "outputs": [],
   "source": [
    "# Convertir la columna a tipo category\n",
    "df['Provincia'] = pd.Categorical(df['Provincia'], c_provincia)"
   ]
  },
  {
   "cell_type": "code",
   "execution_count": 6,
   "metadata": {},
   "outputs": [
    {
     "name": "stdout",
     "output_type": "stream",
     "text": [
      "Por defecto muestra los datos combinados\n",
      "364     Huelva\n",
      "365       Jaén\n",
      "366     Málaga\n",
      "367    Sevilla\n",
      "368      Total\n",
      "Name: Provincia, dtype: category\n",
      "Categories (9, object): [Almería, Cádiz, Córdoba, Granada, ..., Jaén, Málaga, Sevilla, Total]\n"
     ]
    }
   ],
   "source": [
    "print('Por defecto muestra los datos combinados')\n",
    "print(df['Provincia'].tail())"
   ]
  },
  {
   "cell_type": "code",
   "execution_count": 7,
   "metadata": {},
   "outputs": [
    {
     "name": "stdout",
     "output_type": "stream",
     "text": [
      "Se pueden mostrar sólo los códigos, sin combinar\n",
      "364    4\n",
      "365    5\n",
      "366    6\n",
      "367    7\n",
      "368    8\n",
      "dtype: int8\n"
     ]
    }
   ],
   "source": [
    "print('Se pueden mostrar sólo los códigos, sin combinar')\n",
    "print(df['Provincia'].cat.codes.tail())"
   ]
  },
  {
   "cell_type": "code",
   "execution_count": null,
   "metadata": {},
   "outputs": [],
   "source": [
    " "
   ]
  }
 ],
 "metadata": {
  "kernelspec": {
   "display_name": "Python 3",
   "language": "python",
   "name": "python3"
  },
  "language_info": {
   "codemirror_mode": {
    "name": "ipython",
    "version": 3
   },
   "file_extension": ".py",
   "mimetype": "text/x-python",
   "name": "python",
   "nbconvert_exporter": "python",
   "pygments_lexer": "ipython3",
   "version": "3.7.6"
  }
 },
 "nbformat": 4,
 "nbformat_minor": 4
}
